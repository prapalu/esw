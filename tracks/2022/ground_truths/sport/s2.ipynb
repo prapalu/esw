{
 "cells": [
  {
   "cell_type": "markdown",
   "id": "7034c3bf-6eb0-4418-8687-7b9d2a501103",
   "metadata": {},
   "source": [
    "# General instructions\n",
    "\n",
    "The goal of the project is to materialize a set of **exploratory workloads** over a real-world, large-scale,  open-domain KG: [WikiData](https://www.wikidata.org/wiki/Wikidata:Main_Page)\n",
    "\n",
    "An exploratory workload  is composed by a set of queries, where each query is related to the information obtained previously.\n",
    "\n",
    "An exploratory workload starts with a usually vague, open ended question, and does not assume the person issuing the workload has a clear understanding of the data contained in the target database or its structure.\n",
    "\n",
    "Remeber that:\n",
    "\n",
    "1. All the queries must run in the python notebook\n",
    "2. You can use classes and properties only if you find them via a SPARQL query that must be present in the notebook\n",
    "3. You do not delete useless queries. Keep everything that is synthatically valid \n",
    "\n",
    "```\n",
    "?p <http://schema.org/name> ?name .\n",
    "```\n",
    "    \n",
    "    is the BGP returning a human-readable name of a property or a class in Wikidata."
   ]
  },
  {
   "cell_type": "code",
   "execution_count": 4,
   "id": "3605c9d5-5371-49a5-be8d-d66e8f417139",
   "metadata": {},
   "outputs": [],
   "source": [
    "## SETUP used later\n",
    "import sys\n",
    "import os\n",
    "import json\n",
    "import pandas as pd\n",
    "sys.path.insert(1, '../../../../src/')\n",
    "import gt_modules.evaluation as evaluation\n",
    "from SPARQLWrapper import SPARQLWrapper, JSON\n",
    "\n",
    "\n",
    "prefixString = \"\"\"\n",
    "##-sport2-##\n",
    "PREFIX wd: <http://www.wikidata.org/entity/> \n",
    "PREFIX wdt: <http://www.wikidata.org/prop/direct/> \n",
    "PREFIX sc: <http://schema.org/>\n",
    "\"\"\"\n",
    "\n",
    "# select and construct queries\n",
    "def run_query(queryString,verbose = True):\n",
    "    to_run = prefixString + \"\\n\" + queryString\n",
    "\n",
    "    sparql = SPARQLWrapper(\"http://gracevirtuoso.dei.unipd.it/sparql\")\n",
    "    sparql.setTimeout(300)\n",
    "    sparql.setReturnFormat(JSON)\n",
    "    sparql.setQuery(to_run)\n",
    "\n",
    "    try :\n",
    "        results = sparql.query()\n",
    "        json_results = results.convert()\n",
    "        if len(json_results['results']['bindings'])==0:\n",
    "            print(\"Empty\")\n",
    "            return []\n",
    "        array = []\n",
    "        for bindings in json_results['results']['bindings']:\n",
    "            app =  [ (var, value['value'])  for var, value in bindings.items() ] \n",
    "            if verbose:\n",
    "                print( app)\n",
    "            array.append(app)\n",
    "        if verbose:\n",
    "            print(len(array))\n",
    "        return array\n",
    "\n",
    "    except Exception as e :\n",
    "        print(\"The operation failed\", e)\n",
    "    \n",
    "# ASk queries\n",
    "def run_ask_query(queryString):\n",
    "    to_run = prefixString + \"\\n\" + queryString\n",
    "\n",
    "    sparql = SPARQLWrapper(\"http://gracevirtuoso.dei.unipd.it/sparql\")\n",
    "    sparql.setTimeout(300)\n",
    "    sparql.setReturnFormat(JSON)\n",
    "    sparql.setQuery(to_run)\n",
    "\n",
    "    try :\n",
    "        return sparql.query().convert()\n",
    "\n",
    "    except Exception as e :\n",
    "        print(\"The operation failed\", e)"
   ]
  },
  {
   "cell_type": "markdown",
   "id": "d477a59c-a68c-4c8f-9f97-8ca5294d7d27",
   "metadata": {},
   "source": [
    "# Sport Workflow Series (\"Running explorative search\") \n",
    "\n",
    "Consider the following exploratory information need:\n",
    "\n",
    "> investigate the association football players and find the main BGPs related to this sports. Compare awards and participation in the competitions of the players"
   ]
  },
  {
   "cell_type": "markdown",
   "id": "4a45c0ba-f79e-441d-bec5-84401b09db70",
   "metadata": {},
   "source": [
    "## Useful URIs for the current workflow\n",
    "The following are given:\n",
    "\n",
    "| IRI           | Description   | Role      |\n",
    "| -----------   | -----------   |-----------|\n",
    "| `wdt:P1647`   | subproperty   | predicate |\n",
    "| `wdt:P31`     | instance of   | predicate |\n",
    "| `wdt:P106`    | profession    | predicate | \n",
    "| `wdt:P279`    | subclass      | predicate |\n",
    "| `wdt:P27`     | nationality   | predicate |\n",
    "| `wd:Q5`       | Human         | node      |\n",
    "| `wd:Q9124`    | Eliud Kipchoge| node      |\n",
    "| `wd:Q853003`| athletics at the 2008 Summer Olympics – men's 200 metres |node|\n"
   ]
  },
  {
   "cell_type": "markdown",
   "id": "7af439fb-96e4-4dbb-a381-f19afab79f86",
   "metadata": {
    "tags": []
   },
   "source": [
    "\n",
    "\n",
    "\n",
    "Also consider\n",
    "\n",
    "```\n",
    "wd:Q9124 ?p ?obj .\n",
    "```\n",
    "\n",
    "is the BGP to retrieve all **properties of Eliud Kipchoge**\n",
    "\n",
    "\n",
    "Please consider that when you return a resource, you should return the IRI and the label of the resource. In particular, when the task require you to identify a BGP the result set must always be a list of couples IRI - label.\n",
    "\n",
    "\n",
    "The workload should:\n",
    "\n",
    "\n",
    "1. Identify the BGP for runner\n",
    "\n",
    "2. Identify the BGP for long distance running\n",
    "\n",
    "3. Return the disciplines of the long distance running (e.g. marathon) (the result set must be a list of couples discipline IRI and label).\n",
    "\n",
    "4. Consider marathons ran in Europe. Return the number of different runners who won a marathon group by their country of citizenship (the result set must be a triples of country IRI, label and #different runners).\n",
    "\n",
    "5. Identify the BGP for Olympic Games\n",
    "\n",
    "6. Consider only the summer olympic games of 2004-2008-2012-2016. Return the number of marathon runners who had partecipated to all these editions group by their country of citizenship (if the runner partecipated in more than one edition of the game, consider him/her only once) (the result set must be a list of country IRI, label and #marathon runners)\n",
    "\n",
    "7. For each disciplines of the long distance running find who hold the World Record (the result set must be a list of elements with discipline IRI, label and athlete IRI and label)."
   ]
  },
  {
   "cell_type": "code",
   "execution_count": 7,
   "id": "56ee487c",
   "metadata": {},
   "outputs": [
    {
     "name": "stdout",
     "output_type": "stream",
     "text": [
      "The index of this workflow is: 0_2\n"
     ]
    }
   ],
   "source": [
    "## startup the evaluation\n",
    "# setup the file and create the empty json\n",
    "ipname = \"s2.ipynb\"\n",
    "pt = os.getcwd()+os.sep+ipname\n",
    "evaluation.setup(pt)"
   ]
  },
  {
   "cell_type": "markdown",
   "id": "4be4a371-a6c0-4616-92b6-5fd6f8c1c24f",
   "metadata": {
    "jp-MarkdownHeadingCollapsed": true,
    "tags": []
   },
   "source": [
    "## Task 1 \n",
    "Identify the BGP for runner"
   ]
  },
  {
   "cell_type": "code",
   "execution_count": 8,
   "id": "06c2b5e5-bc7b-404a-8fc7-31d6ca118da5",
   "metadata": {
    "tags": []
   },
   "outputs": [
    {
     "name": "stdout",
     "output_type": "stream",
     "text": [
      "Results\n",
      "[('pr', 'http://www.wikidata.org/prop/direct/P1000'), ('name', 'record held')]\n",
      "[('pr', 'http://www.wikidata.org/prop/direct/P106'), ('name', 'occupation')]\n",
      "[('pr', 'http://www.wikidata.org/prop/direct/P1146'), ('name', 'World Athletics athlete ID')]\n",
      "[('pr', 'http://www.wikidata.org/prop/direct/P1344'), ('name', 'participant in')]\n",
      "[('pr', 'http://www.wikidata.org/prop/direct/P1412'), ('name', 'languages spoken, written or signed')]\n",
      "[('pr', 'http://www.wikidata.org/prop/direct/P1447'), ('name', 'Sports-Reference.com Olympic athlete ID')]\n",
      "[('pr', 'http://www.wikidata.org/prop/direct/P1532'), ('name', 'country for sport')]\n",
      "[('pr', 'http://www.wikidata.org/prop/direct/P1559'), ('name', 'name in native language')]\n",
      "[('pr', 'http://www.wikidata.org/prop/direct/P172'), ('name', 'ethnic group')]\n",
      "[('pr', 'http://www.wikidata.org/prop/direct/P1741'), ('name', 'GTAA ID')]\n",
      "[('pr', 'http://www.wikidata.org/prop/direct/P18'), ('name', 'image')]\n",
      "[('pr', 'http://www.wikidata.org/prop/direct/P19'), ('name', 'place of birth')]\n",
      "[('pr', 'http://www.wikidata.org/prop/direct/P2002'), ('name', 'Twitter username')]\n",
      "[('pr', 'http://www.wikidata.org/prop/direct/P2003'), ('name', 'Instagram username')]\n",
      "[('pr', 'http://www.wikidata.org/prop/direct/P2013'), ('name', 'Facebook ID')]\n",
      "[('pr', 'http://www.wikidata.org/prop/direct/P2048'), ('name', 'height')]\n",
      "[('pr', 'http://www.wikidata.org/prop/direct/P2067'), ('name', 'mass')]\n",
      "[('pr', 'http://www.wikidata.org/prop/direct/P21'), ('name', 'sex or gender')]\n",
      "[('pr', 'http://www.wikidata.org/prop/direct/P214'), ('name', 'VIAF ID')]\n",
      "[('pr', 'http://www.wikidata.org/prop/direct/P227'), ('name', 'GND ID')]\n",
      "[('pr', 'http://www.wikidata.org/prop/direct/P2416'), ('name', 'sports discipline competed in')]\n",
      "[('pr', 'http://www.wikidata.org/prop/direct/P27'), ('name', 'country of citizenship')]\n",
      "[('pr', 'http://www.wikidata.org/prop/direct/P286'), ('name', 'head coach')]\n",
      "[('pr', 'http://www.wikidata.org/prop/direct/P31'), ('name', 'instance of')]\n",
      "[('pr', 'http://www.wikidata.org/prop/direct/P3171'), ('name', 'Olympic.org athlete ID (archived version)')]\n",
      "[('pr', 'http://www.wikidata.org/prop/direct/P3520'), ('name', 'databaseOlympics.com athlete ID')]\n",
      "[('pr', 'http://www.wikidata.org/prop/direct/P373'), ('name', 'Commons category')]\n",
      "[('pr', 'http://www.wikidata.org/prop/direct/P3765'), ('name', 'All-Athletics.com ID')]\n",
      "[('pr', 'http://www.wikidata.org/prop/direct/P3884'), ('name', 'Tilastopaja male athlete ID')]\n",
      "[('pr', 'http://www.wikidata.org/prop/direct/P3923'), ('name', 'Diamond League athlete ID')]\n",
      "[('pr', 'http://www.wikidata.org/prop/direct/P3925'), ('name', 'Track and Field Statistics male athlete ID')]\n",
      "[('pr', 'http://www.wikidata.org/prop/direct/P4548'), ('name', 'Commonwealth Games Federation athlete ID')]\n",
      "[('pr', 'http://www.wikidata.org/prop/direct/P569'), ('name', 'date of birth')]\n",
      "[('pr', 'http://www.wikidata.org/prop/direct/P5815'), ('name', 'Olympics.com athlete ID')]\n",
      "[('pr', 'http://www.wikidata.org/prop/direct/P641'), ('name', 'sport')]\n",
      "[('pr', 'http://www.wikidata.org/prop/direct/P646'), ('name', 'Freebase ID')]\n",
      "[('pr', 'http://www.wikidata.org/prop/direct/P7293'), ('name', 'PLWABN ID')]\n",
      "[('pr', 'http://www.wikidata.org/prop/direct/P734'), ('name', 'family name')]\n",
      "[('pr', 'http://www.wikidata.org/prop/direct/P735'), ('name', 'given name')]\n",
      "[('pr', 'http://www.wikidata.org/prop/direct/P7859'), ('name', 'WorldCat Identities ID')]\n",
      "[('pr', 'http://www.wikidata.org/prop/direct/P8286'), ('name', 'Olympedia people ID')]\n",
      "[('pr', 'http://www.wikidata.org/prop/direct/P8687'), ('name', 'social media followers')]\n",
      "[('pr', 'http://www.wikidata.org/prop/direct/P2415'), ('name', 'personal best')]\n",
      "43\n"
     ]
    }
   ],
   "source": [
    "# starting from Eliud Kipchoge I look at his properties\n",
    "queryString = \"\"\"\n",
    "SELECT DISTINCT ?pr ?name\n",
    "WHERE { \n",
    "    wd:Q9124 ?pr ?obj.\n",
    "    ?pr sc:name ?name .\n",
    "}\n",
    "\"\"\"\n",
    "\n",
    "print(\"Results\")\n",
    "x = run_query(queryString)"
   ]
  },
  {
   "cell_type": "code",
   "execution_count": 9,
   "id": "dc3656bb-057e-4135-9c94-7472f564cb52",
   "metadata": {},
   "outputs": [
    {
     "name": "stdout",
     "output_type": "stream",
     "text": [
      "Results\n",
      "[('obj', 'http://www.wikidata.org/entity/Q11513337'), ('name', 'athletics competitor')]\n",
      "[('obj', 'http://www.wikidata.org/entity/Q4439155'), ('name', 'long-distance runner')]\n",
      "2\n"
     ]
    }
   ],
   "source": [
    "# starting from Eliud Kipchoge I look at his occupations\n",
    "queryString = \"\"\"\n",
    "SELECT DISTINCT ?obj ?name\n",
    "WHERE { \n",
    "    wd:Q9126 wdt:P106 ?obj.\n",
    "    ?obj sc:name ?name .\n",
    "} \n",
    "LIMIT 100\n",
    "\"\"\"\n",
    "\n",
    "print(\"Results\")\n",
    "x = run_query(queryString)"
   ]
  },
  {
   "cell_type": "code",
   "execution_count": 10,
   "id": "6719c130-da16-4326-8c45-eafd0423bbca",
   "metadata": {},
   "outputs": [
    {
     "name": "stdout",
     "output_type": "stream",
     "text": [
      "Results\n",
      "[('obj', 'http://www.wikidata.org/entity/Q11513337'), ('name', 'athletics competitor')]\n",
      "[('obj', 'http://www.wikidata.org/entity/Q4439155'), ('name', 'long-distance runner')]\n",
      "[('obj', 'http://www.wikidata.org/entity/Q2066131'), ('name', 'athlete')]\n",
      "[('obj', 'http://www.wikidata.org/entity/Q103940464'), ('name', 'continuant')]\n",
      "[('obj', 'http://www.wikidata.org/entity/Q215627'), ('name', 'person')]\n",
      "[('obj', 'http://www.wikidata.org/entity/Q35120'), ('name', 'entity')]\n",
      "[('obj', 'http://www.wikidata.org/entity/Q12803959'), ('name', 'runner')]\n",
      "[('obj', 'http://www.wikidata.org/entity/Q23958946'), ('name', 'individual entity')]\n",
      "[('obj', 'http://www.wikidata.org/entity/Q795052'), ('name', 'individual')]\n",
      "[('obj', 'http://www.wikidata.org/entity/Q50995749'), ('name', 'sportsperson')]\n",
      "[('obj', 'http://www.wikidata.org/entity/Q830077'), ('name', 'subject')]\n",
      "[('obj', 'http://www.wikidata.org/entity/Q24229398'), ('name', 'agent')]\n",
      "[('obj', 'http://www.wikidata.org/entity/Q18336849'), ('name', 'item with given name property')]\n",
      "[('obj', 'http://www.wikidata.org/entity/Q106559804'), ('name', 'person or organization')]\n",
      "14\n"
     ]
    }
   ],
   "source": [
    "# look at super class of the occupations found above\n",
    "queryString = \"\"\"\n",
    "SELECT DISTINCT ?obj ?name\n",
    "WHERE { \n",
    "    wd:Q9126 wdt:P106/wdt:P279* ?obj.\n",
    "    ?obj sc:name ?name .\n",
    "} \n",
    "LIMIT 100\n",
    "\"\"\"\n",
    "\n",
    "print(\"Results\")\n",
    "x = run_query(queryString)"
   ]
  },
  {
   "cell_type": "code",
   "execution_count": 11,
   "id": "1db36d82",
   "metadata": {},
   "outputs": [
    {
     "name": "stdout",
     "output_type": "stream",
     "text": [
      "The index of this workflow is: 0_2\n",
      "The path is /locale/data/jupyter/prando/notebook/2022/results/workflow0_2.json\n",
      "JSON object updated\n"
     ]
    }
   ],
   "source": [
    "### insert the result of TASK 1 in the file\n",
    "og_uri = \"http://www.wikidata.org/entity/Q12803959\"\n",
    "og_name = \"runner\"\n",
    "obj = {\"uri\":og_uri,\"name\":og_name}\n",
    "evaluation.add_result(evaluation.get_index_workflow(pt),\"1\", evaluation.TYPE_SINGLE ,\"uri\", [obj] ,\"all\")"
   ]
  },
  {
   "cell_type": "markdown",
   "id": "6a19292f-ec50-4a61-8150-d7d397ad1b38",
   "metadata": {},
   "source": [
    "`wd:Q12803959` is the runner in wikidata"
   ]
  },
  {
   "cell_type": "markdown",
   "id": "8b06e178-c189-4043-ae8b-0b8d5b0947fb",
   "metadata": {
    "jp-MarkdownHeadingCollapsed": true,
    "tags": []
   },
   "source": [
    "## Task 2\n",
    "Identify the BGP for long distance running"
   ]
  },
  {
   "cell_type": "code",
   "execution_count": 12,
   "id": "9d8f3d02-5811-4412-a554-757776e024df",
   "metadata": {},
   "outputs": [
    {
     "name": "stdout",
     "output_type": "stream",
     "text": [
      "Results\n",
      "[('prop', 'http://www.wikidata.org/prop/direct/P1532'), ('name', 'country for sport')]\n",
      "[('prop', 'http://www.wikidata.org/prop/direct/P2416'), ('name', 'sports discipline competed in')]\n",
      "[('prop', 'http://www.wikidata.org/prop/direct/P54'), ('name', 'member of sports team')]\n",
      "[('prop', 'http://www.wikidata.org/prop/direct/P641'), ('name', 'sport')]\n",
      "[('prop', 'http://www.wikidata.org/prop/direct/P6758'), ('name', 'supported sports team')]\n",
      "[('prop', 'http://www.wikidata.org/prop/direct/P6087'), ('name', 'coach of sports team')]\n",
      "[('prop', 'http://www.wikidata.org/prop/direct/P1327'), ('name', 'partner in business or sport')]\n",
      "[('prop', 'http://www.wikidata.org/prop/direct/P5249'), ('name', 'sports competition competed at')]\n",
      "8\n"
     ]
    }
   ],
   "source": [
    "# in the first query I found Q12803959 that is the class of runner. Investigate the properties\n",
    "queryString = \"\"\"\n",
    "SELECT DISTINCT ?prop ?name\n",
    "WHERE { \n",
    "    ?people wdt:P106/wdt:P279* wd:Q12803959 ;\n",
    "            ?prop ?x.\n",
    "    ?prop sc:name ?name .\n",
    "    FILTER(REGEX(?name,\"[S,s]port\")).\n",
    "    FILTER(!isLiteral(?x)).\n",
    "}\n",
    "\"\"\"\n",
    "\n",
    "print(\"Results\")\n",
    "x= run_query(queryString)"
   ]
  },
  {
   "cell_type": "code",
   "execution_count": 13,
   "id": "00617006-f9af-464d-aba2-0191d8b3e1d7",
   "metadata": {},
   "outputs": [
    {
     "name": "stdout",
     "output_type": "stream",
     "text": [
      "Results\n",
      "[('x', 'http://www.wikidata.org/entity/Q500050'), ('name', 'cross country running')]\n",
      "[('x', 'http://www.wikidata.org/entity/Q1163256'), ('name', 'middle-distance running')]\n",
      "[('x', 'http://www.wikidata.org/entity/Q917206'), ('name', 'long-distance running')]\n",
      "[('x', 'http://www.wikidata.org/entity/Q1934817'), ('name', 'road running')]\n",
      "[('x', 'http://www.wikidata.org/entity/Q2167372'), ('name', 'mountain running')]\n",
      "[('x', 'http://www.wikidata.org/entity/Q2093999'), ('name', 'trail running')]\n",
      "[('x', 'http://www.wikidata.org/entity/Q105674'), ('name', 'running')]\n",
      "[('x', 'http://www.wikidata.org/entity/Q3962667'), ('name', 'skyrunning')]\n",
      "8\n"
     ]
    }
   ],
   "source": [
    "# using the property sport (P641) I print some results\n",
    "queryString = \"\"\"\n",
    "SELECT DISTINCT ?x ?name\n",
    "WHERE { \n",
    "    ?people wdt:P106/wdt:P279* wd:Q12803959 ;\n",
    "            wdt:P641 ?x.\n",
    "    ?x sc:name ?name .\n",
    "    FILTER(REGEX(?name,\"unnin\")).\n",
    "}\n",
    "\"\"\"\n",
    "\n",
    "print(\"Results\")\n",
    "x= run_query(queryString)"
   ]
  },
  {
   "cell_type": "code",
   "execution_count": 14,
   "id": "2e118729",
   "metadata": {},
   "outputs": [
    {
     "name": "stdout",
     "output_type": "stream",
     "text": [
      "The index of this workflow is: 0_2\n",
      "The path is /locale/data/jupyter/prando/notebook/2022/results/workflow0_2.json\n",
      "JSON object updated\n"
     ]
    }
   ],
   "source": [
    "### insert the result of TASK 2 in the file\n",
    "og_uri = \"http://www.wikidata.org/entity/Q917206\"\n",
    "og_name = \"long distance running\"\n",
    "obj = {\"uri\":og_uri,\"name\":og_name}\n",
    "evaluation.add_result(evaluation.get_index_workflow(pt),\"2\", evaluation.TYPE_SINGLE ,\"uri\", [obj] ,\"all\")"
   ]
  },
  {
   "cell_type": "markdown",
   "id": "077e780a-ae84-4b9c-9343-fc219c5755a6",
   "metadata": {},
   "source": [
    "`wd:Q917206` is the long distance running"
   ]
  },
  {
   "cell_type": "markdown",
   "id": "25bd0dfa-f0c1-4d31-9c83-4672b40c4b7b",
   "metadata": {
    "jp-MarkdownHeadingCollapsed": true,
    "tags": []
   },
   "source": [
    "## Task 3\n",
    "Identify all the disciplines of the long distance running (e.g. 10000 metres, marathon)"
   ]
  },
  {
   "cell_type": "code",
   "execution_count": 15,
   "id": "986900bc-46c0-4d80-9791-7322ca908c98",
   "metadata": {
    "tags": []
   },
   "outputs": [
    {
     "name": "stdout",
     "output_type": "stream",
     "text": [
      "Results\n",
      "[('x', 'http://www.wikidata.org/entity/Q15140178'), ('name', '10 et 20 km de Tours')]\n",
      "[('x', 'http://www.wikidata.org/entity/Q3512341'), ('name', 'Terry Fox Run')]\n",
      "[('x', 'http://www.wikidata.org/entity/Q1392915'), ('name', 'Tatry Running Tour')]\n",
      "[('x', 'http://www.wikidata.org/entity/Q2806693'), ('name', '100 km du Morvan')]\n",
      "[('x', 'http://www.wikidata.org/entity/Q19843758'), ('name', 'Okpekpe 10km Road Race')]\n",
      "[('x', 'http://www.wikidata.org/entity/Q57016051'), ('name', 'Taubertal 100')]\n",
      "6\n"
     ]
    }
   ],
   "source": [
    "# print the entities that are instance of long distance running\n",
    "queryString = \"\"\"\n",
    "SELECT DISTINCT ?x ?name\n",
    "WHERE { \n",
    "    ?x wdt:P31 wd:Q917206 .\n",
    "    ?x sc:name ?name .\n",
    "}\n",
    "\"\"\"\n",
    "\n",
    "print(\"Results\")\n",
    "x= run_query(queryString)"
   ]
  },
  {
   "cell_type": "code",
   "execution_count": 16,
   "id": "0bfe5f42-576a-44ae-9745-38b702ca7295",
   "metadata": {},
   "outputs": [
    {
     "name": "stdout",
     "output_type": "stream",
     "text": [
      "Results\n",
      "[('prop', 'http://www.wikidata.org/prop/direct/P1417'), ('name', 'Encyclopædia Britannica Online ID')]\n",
      "[('prop', 'http://www.wikidata.org/prop/direct/P227'), ('name', 'GND ID')]\n",
      "[('prop', 'http://www.wikidata.org/prop/direct/P2347'), ('name', 'YSO ID')]\n",
      "[('prop', 'http://www.wikidata.org/prop/direct/P244'), ('name', 'Library of Congress authority ID')]\n",
      "[('prop', 'http://www.wikidata.org/prop/direct/P2581'), ('name', 'BabelNet ID')]\n",
      "[('prop', 'http://www.wikidata.org/prop/direct/P279'), ('name', 'subclass of')]\n",
      "[('prop', 'http://www.wikidata.org/prop/direct/P3095'), ('name', 'practiced by')]\n",
      "[('prop', 'http://www.wikidata.org/prop/direct/P31'), ('name', 'instance of')]\n",
      "[('prop', 'http://www.wikidata.org/prop/direct/P3417'), ('name', 'Quora topic ID')]\n",
      "[('prop', 'http://www.wikidata.org/prop/direct/P3553'), ('name', 'Zhihu topic ID')]\n",
      "[('prop', 'http://www.wikidata.org/prop/direct/P361'), ('name', 'part of')]\n",
      "[('prop', 'http://www.wikidata.org/prop/direct/P373'), ('name', 'Commons category')]\n",
      "[('prop', 'http://www.wikidata.org/prop/direct/P3827'), ('name', 'JSTOR topic ID')]\n",
      "[('prop', 'http://www.wikidata.org/prop/direct/P527'), ('name', 'has part')]\n",
      "[('prop', 'http://www.wikidata.org/prop/direct/P641'), ('name', 'sport')]\n",
      "[('prop', 'http://www.wikidata.org/prop/direct/P646'), ('name', 'Freebase ID')]\n",
      "[('prop', 'http://www.wikidata.org/prop/direct/P7033'), ('name', 'Australian Educational Vocabulary ID')]\n",
      "[('prop', 'http://www.wikidata.org/prop/direct/P7818'), ('name', 'French Vikidia ID')]\n",
      "[('prop', 'http://www.wikidata.org/prop/direct/P8408'), ('name', 'KBpedia ID')]\n",
      "[('prop', 'http://www.wikidata.org/prop/direct/P910'), ('name', \"topic's main category\")]\n",
      "[('prop', 'http://www.wikidata.org/prop/direct/P9873'), ('name', 'Enciclopedia dello Sport ID')]\n",
      "21\n"
     ]
    }
   ],
   "source": [
    "# poor results, explore the long distance running\n",
    "queryString = \"\"\"\n",
    "SELECT DISTINCT ?prop ?name\n",
    "WHERE { \n",
    "    wd:Q917206 ?prop ?x.\n",
    "    ?prop sc:name ?name .\n",
    "}\n",
    "\"\"\"\n",
    "\n",
    "print(\"Results\")\n",
    "x= run_query(queryString)"
   ]
  },
  {
   "cell_type": "code",
   "execution_count": 18,
   "id": "c5aa1212-29ed-4767-bccc-817d2437e232",
   "metadata": {},
   "outputs": [
    {
     "name": "stdout",
     "output_type": "stream",
     "text": [
      "Results\n",
      "[('x', 'http://www.wikidata.org/entity/Q163892'), ('name', '10,000 metres')]\n",
      "[('x', 'http://www.wikidata.org/entity/Q240500'), ('name', '5000 metres')]\n",
      "[('x', 'http://www.wikidata.org/entity/Q40244'), ('name', 'marathon')]\n",
      "[('x', 'http://www.wikidata.org/entity/Q500050'), ('name', 'cross country running')]\n",
      "[('x', 'http://www.wikidata.org/entity/Q215677'), ('name', 'half marathon')]\n",
      "[('x', 'http://www.wikidata.org/entity/Q9171043'), ('name', '5K run')]\n",
      "[('x', 'http://www.wikidata.org/entity/Q1202167'), ('name', 'ekiden')]\n",
      "[('x', 'http://www.wikidata.org/entity/Q2093999'), ('name', 'trail running')]\n",
      "[('x', 'http://www.wikidata.org/entity/Q2774730'), ('name', '10K run')]\n",
      "9\n"
     ]
    }
   ],
   "source": [
    "# use the property has part (P527)\n",
    "queryString = \"\"\"\n",
    "SELECT DISTINCT ?x ?name\n",
    "WHERE { \n",
    "    wd:Q917206 wdt:P527 ?x.\n",
    "    ?x sc:name ?name .\n",
    "}\n",
    "\"\"\"\n",
    "\n",
    "print(\"Results\")\n",
    "x= run_query(queryString)"
   ]
  },
  {
   "cell_type": "code",
   "execution_count": 19,
   "id": "99ea2ea0-b86d-4128-bd14-b4487394367a",
   "metadata": {},
   "outputs": [
    {
     "name": "stdout",
     "output_type": "stream",
     "text": [
      "The index of this workflow is: 0_2\n",
      "The path is /locale/data/jupyter/prando/notebook/2022/results/workflow0_2.json\n",
      "JSON object updated\n"
     ]
    }
   ],
   "source": [
    "obj = [{\"uri\":r[0][1],\"name\":r[1][1]} for r in x]\n",
    "evaluation.add_result(evaluation.get_index_workflow(pt),\"4\", evaluation.TYPE_SET ,\"uri\", obj)"
   ]
  },
  {
   "cell_type": "markdown",
   "id": "db8b76d6-9094-45f7-8fba-9feb5ce2ad81",
   "metadata": {
    "jp-MarkdownHeadingCollapsed": true,
    "tags": []
   },
   "source": [
    "## Task 4\n",
    "Consider marathons ran in Europe. For each country (world wide) find how many runners won a marathon"
   ]
  },
  {
   "cell_type": "markdown",
   "id": "7b9112a4-d8b9-443b-b58b-919314d1a03b",
   "metadata": {},
   "source": [
    "First of all I need to find the wikidata code for Europe"
   ]
  },
  {
   "cell_type": "code",
   "execution_count": 20,
   "id": "e502201f-bf90-46a4-b938-e02217fd63ba",
   "metadata": {},
   "outputs": [
    {
     "name": "stdout",
     "output_type": "stream",
     "text": [
      "Results\n",
      "[('obj', 'http://www.wikidata.org/entity/Q114'), ('name', 'Kenya')]\n",
      "1\n"
     ]
    }
   ],
   "source": [
    "# find the nationality of Kipchoge\n",
    "queryString = \"\"\"\n",
    "SELECT DISTINCT ?obj ?name\n",
    "WHERE { \n",
    "    wd:Q9124 wdt:P27 ?obj.\n",
    "    ?obj sc:name ?name .\n",
    "}\n",
    "\"\"\"\n",
    "\n",
    "print(\"Results\")\n",
    "x = run_query(queryString)"
   ]
  },
  {
   "cell_type": "code",
   "execution_count": 21,
   "id": "b40c2c8a-2989-4943-9d9e-bfa92b338082",
   "metadata": {},
   "outputs": [
    {
     "name": "stdout",
     "output_type": "stream",
     "text": [
      "Results\n",
      "[('inst', 'http://www.wikidata.org/entity/Q3624078'), ('name', 'sovereign state')]\n",
      "[('inst', 'http://www.wikidata.org/entity/Q6256'), ('name', 'country')]\n",
      "2\n"
     ]
    }
   ],
   "source": [
    "# find the instance of country\n",
    "queryString = \"\"\"\n",
    "SELECT DISTINCT ?inst ?name\n",
    "WHERE { \n",
    "    wd:Q9124 wdt:P27 ?obj.\n",
    "    ?obj wdt:P31 ?inst.\n",
    "    ?inst sc:name ?name .\n",
    "}\n",
    "\"\"\"\n",
    "\n",
    "print(\"Results\")\n",
    "x = run_query(queryString)"
   ]
  },
  {
   "cell_type": "code",
   "execution_count": 22,
   "id": "b4f52607-7bd5-494d-9002-b1a8a36276fe",
   "metadata": {},
   "outputs": [
    {
     "name": "stdout",
     "output_type": "stream",
     "text": [
      "Results\n",
      "[('prop', 'http://www.wikidata.org/prop/direct/P30'), ('name', 'continent')]\n",
      "1\n"
     ]
    }
   ],
   "source": [
    "# look for the property continent\n",
    "queryString = \"\"\"\n",
    "SELECT DISTINCT ?prop ?name\n",
    "WHERE {\n",
    "    ?obj wdt:P31 wd:Q6256;\n",
    "         ?prop ?x.\n",
    "    ?prop sc:name ?name .\n",
    "    FILTER(REGEX(?name,\"ontinen\")).\n",
    "}\n",
    "\"\"\"\n",
    "\n",
    "print(\"Results\")\n",
    "x = run_query(queryString)"
   ]
  },
  {
   "cell_type": "code",
   "execution_count": 23,
   "id": "274f2b56-94e3-4ab6-acfa-8b6c8cab482d",
   "metadata": {},
   "outputs": [
    {
     "name": "stdout",
     "output_type": "stream",
     "text": [
      "Results\n",
      "[('x', 'http://www.wikidata.org/entity/Q15'), ('name', 'Africa')]\n",
      "[('x', 'http://www.wikidata.org/entity/Q18'), ('name', 'South America')]\n",
      "[('x', 'http://www.wikidata.org/entity/Q46'), ('name', 'Europe')]\n",
      "[('x', 'http://www.wikidata.org/entity/Q48'), ('name', 'Asia')]\n",
      "[('x', 'http://www.wikidata.org/entity/Q49'), ('name', 'North America')]\n",
      "[('x', 'http://www.wikidata.org/entity/Q538'), ('name', 'Insular Oceania')]\n",
      "[('x', 'http://www.wikidata.org/entity/Q5401'), ('name', 'Eurasia')]\n",
      "[('x', 'http://www.wikidata.org/entity/Q27611'), ('name', 'Central America')]\n",
      "8\n"
     ]
    }
   ],
   "source": [
    "# print the continents\n",
    "queryString = \"\"\"\n",
    "SELECT DISTINCT ?x ?name\n",
    "WHERE {\n",
    "    ?obj wdt:P31 wd:Q6256;\n",
    "         wdt:P30 ?x.\n",
    "    ?x sc:name ?name .\n",
    "}\n",
    "\"\"\"\n",
    "\n",
    "print(\"Results\")\n",
    "x = run_query(queryString)"
   ]
  },
  {
   "cell_type": "markdown",
   "id": "ba765176-1d9d-429a-9efb-d835a9f969bf",
   "metadata": {},
   "source": [
    "Recap:\n",
    "- `wd:Q40244`: marathon\n",
    "- `wd:Q46`: Europe\n",
    "- `wd:Q6256`: Country"
   ]
  },
  {
   "cell_type": "code",
   "execution_count": 24,
   "id": "2183eb44-42e0-4ef5-b8fd-5a9427fc4fc6",
   "metadata": {},
   "outputs": [
    {
     "name": "stdout",
     "output_type": "stream",
     "text": [
      "Results\n",
      "[('prop', 'http://www.wikidata.org/prop/direct/P17'), ('name', 'country')]\n",
      "1\n"
     ]
    }
   ],
   "source": [
    "# check if there exists something that relate country in Europe with instances of marathon \n",
    "queryString = \"\"\"\n",
    "SELECT DISTINCT ?prop ?name\n",
    "WHERE {\n",
    "    ?country wdt:P31 wd:Q6256;\n",
    "         wdt:P30 wd:Q46.\n",
    "    ?marathon wdt:P31 wd:Q40244;\n",
    "        ?prop ?country.\n",
    "    ?prop sc:name ?name .\n",
    "}\n",
    "LIMIT 20\n",
    "\"\"\"\n",
    "\n",
    "print(\"Results\")\n",
    "x = run_query(queryString)"
   ]
  },
  {
   "cell_type": "code",
   "execution_count": 25,
   "id": "55a57aa3-1d5d-4698-8b4c-1d292e10bc04",
   "metadata": {},
   "outputs": [
    {
     "name": "stdout",
     "output_type": "stream",
     "text": [
      "Results\n",
      "[('marathon', 'http://www.wikidata.org/entity/Q1645007'), ('name', 'Treviso Marathon'), ('country', 'http://www.wikidata.org/entity/Q38'), ('cName', 'Italy')]\n",
      "[('marathon', 'http://www.wikidata.org/entity/Q1071285'), ('name', 'Paris Marathon'), ('country', 'http://www.wikidata.org/entity/Q142'), ('cName', 'France')]\n",
      "[('marathon', 'http://www.wikidata.org/entity/Q2029795'), ('name', \"1987 World Championships in Athletics – Men's Marathon\"), ('country', 'http://www.wikidata.org/entity/Q38'), ('cName', 'Italy')]\n",
      "[('marathon', 'http://www.wikidata.org/entity/Q2031637'), ('name', 'Prague Marathon'), ('country', 'http://www.wikidata.org/entity/Q213'), ('cName', 'Czech Republic')]\n",
      "[('marathon', 'http://www.wikidata.org/entity/Q3702630'), ('name', \"1995 World Championships in Athletics – men's marathon\"), ('country', 'http://www.wikidata.org/entity/Q34'), ('cName', 'Sweden')]\n",
      "[('marathon', 'http://www.wikidata.org/entity/Q4982646'), ('name', 'Bucharest Marathon'), ('country', 'http://www.wikidata.org/entity/Q218'), ('cName', 'Romania')]\n",
      "[('marathon', 'http://www.wikidata.org/entity/Q837910'), ('name', 'Turin Marathon'), ('country', 'http://www.wikidata.org/entity/Q38'), ('cName', 'Italy')]\n",
      "[('marathon', 'http://www.wikidata.org/entity/Q748757'), ('name', 'Rome Marathon'), ('country', 'http://www.wikidata.org/entity/Q38'), ('cName', 'Italy')]\n",
      "[('marathon', 'http://www.wikidata.org/entity/Q1256376'), ('name', 'Milano City Marathon'), ('country', 'http://www.wikidata.org/entity/Q38'), ('cName', 'Italy')]\n",
      "[('marathon', 'http://www.wikidata.org/entity/Q18344089'), ('name', 'Carver Wolverhampton City Marathon'), ('country', 'http://www.wikidata.org/entity/Q145'), ('cName', 'United Kingdom')]\n",
      "[('marathon', 'http://www.wikidata.org/entity/Q1341108'), ('name', 'Rotterdam Marathon'), ('country', 'http://www.wikidata.org/entity/Q55'), ('cName', 'Netherlands')]\n",
      "[('marathon', 'http://www.wikidata.org/entity/Q578794'), ('name', 'London Marathon'), ('country', 'http://www.wikidata.org/entity/Q145'), ('cName', 'United Kingdom')]\n",
      "[('marathon', 'http://www.wikidata.org/entity/Q6861249'), ('name', 'Milton Keynes Marathon'), ('country', 'http://www.wikidata.org/entity/Q145'), ('cName', 'United Kingdom')]\n",
      "[('marathon', 'http://www.wikidata.org/entity/Q22097676'), ('name', 'Chesterfield Marathon'), ('country', 'http://www.wikidata.org/entity/Q145'), ('cName', 'United Kingdom')]\n",
      "[('marathon', 'http://www.wikidata.org/entity/Q3229843'), ('name', \"1958 European Athletics Championships – men's marathon\"), ('country', 'http://www.wikidata.org/entity/Q34'), ('cName', 'Sweden')]\n",
      "[('marathon', 'http://www.wikidata.org/entity/Q24993287'), ('name', 'Stirling Scottish Marathon'), ('country', 'http://www.wikidata.org/entity/Q145'), ('cName', 'United Kingdom')]\n",
      "[('marathon', 'http://www.wikidata.org/entity/Q731526'), ('name', 'Florence Marathon'), ('country', 'http://www.wikidata.org/entity/Q38'), ('cName', 'Italy')]\n",
      "[('marathon', 'http://www.wikidata.org/entity/Q4494720'), ('name', \"1966 European Athletics Championships – men's marathon\"), ('country', 'http://www.wikidata.org/entity/Q28'), ('cName', 'Hungary')]\n",
      "[('marathon', 'http://www.wikidata.org/entity/Q22080291'), ('name', 'Almaty Marathon'), ('country', 'http://www.wikidata.org/entity/Q232'), ('cName', 'Kazakhstan')]\n",
      "[('marathon', 'http://www.wikidata.org/entity/Q22000395'), ('name', 'Bournemouth Marathon'), ('country', 'http://www.wikidata.org/entity/Q145'), ('cName', 'United Kingdom')]\n",
      "20\n"
     ]
    }
   ],
   "source": [
    "# print some example of couple marathon - country\n",
    "queryString = \"\"\"\n",
    "SELECT DISTINCT ?marathon ?name ?country ?cName\n",
    "WHERE {\n",
    "    ?country wdt:P31 wd:Q6256;\n",
    "         wdt:P30 wd:Q46.\n",
    "    ?marathon wdt:P31 wd:Q40244;\n",
    "        wdt:P17 ?country.\n",
    "    ?marathon sc:name ?name .\n",
    "    ?country sc:name ?cName .\n",
    "}\n",
    "LIMIT 20\n",
    "\"\"\"\n",
    "\n",
    "print(\"Results\")\n",
    "x = run_query(queryString)"
   ]
  },
  {
   "cell_type": "code",
   "execution_count": 26,
   "id": "31650a55-360b-47a2-b0e8-584042edc75f",
   "metadata": {},
   "outputs": [
    {
     "name": "stdout",
     "output_type": "stream",
     "text": [
      "Results\n",
      "[('prop', 'http://www.wikidata.org/prop/direct/P10'), ('name', 'video')]\n",
      "[('prop', 'http://www.wikidata.org/prop/direct/P112'), ('name', 'founded by')]\n",
      "[('prop', 'http://www.wikidata.org/prop/direct/P1296'), ('name', 'Gran Enciclopèdia Catalana ID')]\n",
      "[('prop', 'http://www.wikidata.org/prop/direct/P131'), ('name', 'located in the administrative territorial entity')]\n",
      "[('prop', 'http://www.wikidata.org/prop/direct/P1346'), ('name', 'winner')]\n",
      "[('prop', 'http://www.wikidata.org/prop/direct/P138'), ('name', 'named after')]\n",
      "[('prop', 'http://www.wikidata.org/prop/direct/P1417'), ('name', 'Encyclopædia Britannica Online ID')]\n",
      "[('prop', 'http://www.wikidata.org/prop/direct/P1424'), ('name', \"topic's main template\")]\n",
      "[('prop', 'http://www.wikidata.org/prop/direct/P1448'), ('name', 'official name')]\n",
      "[('prop', 'http://www.wikidata.org/prop/direct/P154'), ('name', 'logo image')]\n",
      "[('prop', 'http://www.wikidata.org/prop/direct/P155'), ('name', 'follows')]\n",
      "[('prop', 'http://www.wikidata.org/prop/direct/P156'), ('name', 'followed by')]\n",
      "[('prop', 'http://www.wikidata.org/prop/direct/P166'), ('name', 'award received')]\n",
      "[('prop', 'http://www.wikidata.org/prop/direct/P17'), ('name', 'country')]\n",
      "[('prop', 'http://www.wikidata.org/prop/direct/P18'), ('name', 'image')]\n",
      "[('prop', 'http://www.wikidata.org/prop/direct/P1889'), ('name', 'different from')]\n",
      "[('prop', 'http://www.wikidata.org/prop/direct/P2002'), ('name', 'Twitter username')]\n",
      "[('prop', 'http://www.wikidata.org/prop/direct/P2003'), ('name', 'Instagram username')]\n",
      "[('prop', 'http://www.wikidata.org/prop/direct/P2013'), ('name', 'Facebook ID')]\n",
      "[('prop', 'http://www.wikidata.org/prop/direct/P214'), ('name', 'VIAF ID')]\n",
      "[('prop', 'http://www.wikidata.org/prop/direct/P2257'), ('name', 'event interval')]\n",
      "[('prop', 'http://www.wikidata.org/prop/direct/P227'), ('name', 'GND ID')]\n",
      "[('prop', 'http://www.wikidata.org/prop/direct/P2397'), ('name', 'YouTube channel ID')]\n",
      "[('prop', 'http://www.wikidata.org/prop/direct/P2416'), ('name', 'sports discipline competed in')]\n",
      "[('prop', 'http://www.wikidata.org/prop/direct/P242'), ('name', 'locator map image')]\n",
      "[('prop', 'http://www.wikidata.org/prop/direct/P2581'), ('name', 'BabelNet ID')]\n",
      "[('prop', 'http://www.wikidata.org/prop/direct/P2671'), ('name', 'Google Knowledge Graph ID')]\n",
      "[('prop', 'http://www.wikidata.org/prop/direct/P276'), ('name', 'location')]\n",
      "[('prop', 'http://www.wikidata.org/prop/direct/P279'), ('name', 'subclass of')]\n",
      "[('prop', 'http://www.wikidata.org/prop/direct/P2922'), ('name', 'month of the year')]\n",
      "[('prop', 'http://www.wikidata.org/prop/direct/P31'), ('name', 'instance of')]\n",
      "[('prop', 'http://www.wikidata.org/prop/direct/P3185'), ('name', 'VK ID')]\n",
      "[('prop', 'http://www.wikidata.org/prop/direct/P3221'), ('name', 'New York Times topic ID')]\n",
      "[('prop', 'http://www.wikidata.org/prop/direct/P3417'), ('name', 'Quora topic ID')]\n",
      "[('prop', 'http://www.wikidata.org/prop/direct/P361'), ('name', 'part of')]\n",
      "[('prop', 'http://www.wikidata.org/prop/direct/P373'), ('name', 'Commons category')]\n",
      "[('prop', 'http://www.wikidata.org/prop/direct/P4794'), ('name', 'season starts')]\n",
      "[('prop', 'http://www.wikidata.org/prop/direct/P527'), ('name', 'has part')]\n",
      "[('prop', 'http://www.wikidata.org/prop/direct/P571'), ('name', 'inception')]\n",
      "[('prop', 'http://www.wikidata.org/prop/direct/P585'), ('name', 'point in time')]\n",
      "[('prop', 'http://www.wikidata.org/prop/direct/P6200'), ('name', 'BBC News topic ID')]\n",
      "[('prop', 'http://www.wikidata.org/prop/direct/P641'), ('name', 'sport')]\n",
      "[('prop', 'http://www.wikidata.org/prop/direct/P646'), ('name', 'Freebase ID')]\n",
      "[('prop', 'http://www.wikidata.org/prop/direct/P664'), ('name', 'organizer')]\n",
      "[('prop', 'http://www.wikidata.org/prop/direct/P691'), ('name', 'NKCR AUT ID')]\n",
      "[('prop', 'http://www.wikidata.org/prop/direct/P710'), ('name', 'participant')]\n",
      "[('prop', 'http://www.wikidata.org/prop/direct/P7818'), ('name', 'French Vikidia ID')]\n",
      "[('prop', 'http://www.wikidata.org/prop/direct/P856'), ('name', 'official website')]\n",
      "[('prop', 'http://www.wikidata.org/prop/direct/P8687'), ('name', 'social media followers')]\n",
      "[('prop', 'http://www.wikidata.org/prop/direct/P910'), ('name', \"topic's main category\")]\n",
      "[('prop', 'http://www.wikidata.org/prop/direct/P9304'), ('name', 'Encyclopedia of Melbourne ID')]\n",
      "[('prop', 'http://www.wikidata.org/prop/direct/P968'), ('name', 'email address')]\n",
      "[('prop', 'http://www.wikidata.org/prop/direct/P1132'), ('name', 'number of participants')]\n",
      "[('prop', 'http://www.wikidata.org/prop/direct/P137'), ('name', 'operator')]\n",
      "[('prop', 'http://www.wikidata.org/prop/direct/P1942'), ('name', 'McCune-Reischauer romanization')]\n",
      "[('prop', 'http://www.wikidata.org/prop/direct/P2001'), ('name', 'Revised Romanization')]\n",
      "[('prop', 'http://www.wikidata.org/prop/direct/P3157'), ('name', 'event distance')]\n",
      "[('prop', 'http://www.wikidata.org/prop/direct/P421'), ('name', 'located in time zone')]\n",
      "[('prop', 'http://www.wikidata.org/prop/direct/P580'), ('name', 'start time')]\n",
      "[('prop', 'http://www.wikidata.org/prop/direct/P6802'), ('name', 'related image')]\n",
      "[('prop', 'http://www.wikidata.org/prop/direct/P706'), ('name', 'located in/on physical feature')]\n",
      "[('prop', 'http://www.wikidata.org/prop/direct/P7685'), ('name', 'CALS Encyclopedia of Arkansas ID')]\n",
      "[('prop', 'http://www.wikidata.org/prop/direct/P837'), ('name', 'day in year for periodic occurrence')]\n",
      "[('prop', 'http://www.wikidata.org/prop/direct/P9318'), ('name', 'Ávvir topic ID')]\n",
      "[('prop', 'http://www.wikidata.org/prop/direct/P1297'), ('name', 'IRS Employer Identification Number')]\n",
      "[('prop', 'http://www.wikidata.org/prop/direct/P4861'), ('name', 'Charity Navigator ID')]\n",
      "[('prop', 'http://www.wikidata.org/prop/direct/P4522'), ('name', 'Alaska Sports Hall of Fame athlete ID')]\n",
      "[('prop', 'http://www.wikidata.org/prop/direct/P1427'), ('name', 'start point')]\n",
      "[('prop', 'http://www.wikidata.org/prop/direct/P1444'), ('name', 'destination point')]\n",
      "[('prop', 'http://www.wikidata.org/prop/direct/P4167'), ('name', 'Dagens Næringsliv topic ID')]\n",
      "[('prop', 'http://www.wikidata.org/prop/direct/P7691'), ('name', 'The Oregon Encyclopedia ID')]\n",
      "[('prop', 'http://www.wikidata.org/prop/direct/P7069'), ('name', 'IAAF competition category')]\n",
      "[('prop', 'http://www.wikidata.org/prop/direct/P6107'), ('name', 'winterthur-glossar URL')]\n",
      "[('prop', 'http://www.wikidata.org/prop/direct/P5513'), ('name', \"Enciclopèdia de l'Esport Català ID\")]\n",
      "[('prop', 'http://www.wikidata.org/prop/direct/P859'), ('name', 'sponsor')]\n",
      "75\n"
     ]
    }
   ],
   "source": [
    "# find the winner of the marathon. Print marathons' properties\n",
    "queryString = \"\"\"\n",
    "SELECT DISTINCT ?prop ?name\n",
    "WHERE {\n",
    "    ?marathon wdt:P31 wd:Q40244;\n",
    "              ?prop ?runner.\n",
    "    ?prop sc:name ?name .\n",
    "}\n",
    "\"\"\"\n",
    "\n",
    "print(\"Results\")\n",
    "x = run_query(queryString)"
   ]
  },
  {
   "cell_type": "code",
   "execution_count": 27,
   "id": "6217b346-6cf6-4e4f-b795-d724e59e0b0a",
   "metadata": {},
   "outputs": [
    {
     "name": "stdout",
     "output_type": "stream",
     "text": [
      "Results\n",
      "[('runner', 'http://www.wikidata.org/entity/Q1661572'), ('name', 'Leonid Moseyev')]\n",
      "[('runner', 'http://www.wikidata.org/entity/Q357206'), ('name', 'Ian Thompson')]\n",
      "[('runner', 'http://www.wikidata.org/entity/Q1359466'), ('name', 'Jack Holden')]\n",
      "[('runner', 'http://www.wikidata.org/entity/Q180891'), ('name', 'Sergei Popov')]\n",
      "[('runner', 'http://www.wikidata.org/entity/Q912468'), ('name', 'Brian Kilby')]\n",
      "[('runner', 'http://www.wikidata.org/entity/Q558268'), ('name', 'Karel Lismont')]\n",
      "[('runner', 'http://www.wikidata.org/entity/Q246136'), ('name', 'Veikko Karvonen')]\n",
      "[('runner', 'http://www.wikidata.org/entity/Q1689117'), ('name', 'Jim Hogan')]\n",
      "[('runner', 'http://www.wikidata.org/entity/Q356579'), ('name', 'Ron Hill')]\n",
      "[('runner', 'http://www.wikidata.org/entity/Q217614'), ('name', 'Armas Toivonen')]\n",
      "[('runner', 'http://www.wikidata.org/entity/Q1343015'), ('name', 'Väinö Muinonen')]\n",
      "[('runner', 'http://www.wikidata.org/entity/Q354905'), ('name', 'Mikko Hietanen')]\n",
      "12\n"
     ]
    }
   ],
   "source": [
    "# use the property winner (P1346)\n",
    "queryString = \"\"\"\n",
    "SELECT DISTINCT ?runner ?name\n",
    "WHERE {\n",
    "    ?marathon wdt:P31 wd:Q40244;\n",
    "              wdt:P1346 ?runner.\n",
    "    ?runner sc:name ?name .\n",
    "}\n",
    "\"\"\"\n",
    "\n",
    "print(\"Results\")\n",
    "x = run_query(queryString)"
   ]
  },
  {
   "cell_type": "markdown",
   "id": "40bfb4bd-4377-4fce-8f72-dd6feedf2c55",
   "metadata": {},
   "source": [
    "Poor result probably because I have to consider editions of marathons. Explore the marathons editions"
   ]
  },
  {
   "cell_type": "code",
   "execution_count": 28,
   "id": "2fd7e93e-5547-446b-a7b2-5cf4d36409b3",
   "metadata": {},
   "outputs": [
    {
     "name": "stdout",
     "output_type": "stream",
     "text": [
      "Results\n",
      "[('edition', 'http://www.wikidata.org/entity/Q96370343'), ('name', '2020 London Marathon')]\n",
      "[('edition', 'http://www.wikidata.org/entity/Q1817967'), ('name', '2006 New York City Marathon')]\n",
      "[('edition', 'http://www.wikidata.org/entity/Q1918370'), ('name', '2007 New York City Marathon')]\n",
      "[('edition', 'http://www.wikidata.org/entity/Q1927506'), ('name', '1999 Paris Marathon')]\n",
      "[('edition', 'http://www.wikidata.org/entity/Q1952434'), ('name', '2000 Paris Marathon')]\n",
      "[('edition', 'http://www.wikidata.org/entity/Q2689716'), ('name', '1998 Paris Marathon')]\n",
      "[('edition', 'http://www.wikidata.org/entity/Q3028553'), ('name', '2008 New York City Marathon')]\n",
      "[('edition', 'http://www.wikidata.org/entity/Q5315869'), ('name', '2007 Frankfurt Marathon')]\n",
      "[('edition', 'http://www.wikidata.org/entity/Q2062694'), ('name', '2003 Rotterdam Marathon')]\n",
      "[('edition', 'http://www.wikidata.org/entity/Q2330438'), ('name', '2002 Rotterdam Marathon')]\n",
      "[('edition', 'http://www.wikidata.org/entity/Q2447905'), ('name', '2004 Rotterdam Marathon')]\n",
      "[('edition', 'http://www.wikidata.org/entity/Q2162891'), ('name', '1989 New York City Marathon')]\n",
      "[('edition', 'http://www.wikidata.org/entity/Q2189542'), ('name', '1990 New York City Marathon')]\n",
      "[('edition', 'http://www.wikidata.org/entity/Q2191278'), ('name', '1982 New York City Marathon')]\n",
      "[('edition', 'http://www.wikidata.org/entity/Q2217233'), ('name', '1983 New York City Marathon')]\n",
      "[('edition', 'http://www.wikidata.org/entity/Q2247663'), ('name', '1991 New York City Marathon')]\n",
      "[('edition', 'http://www.wikidata.org/entity/Q2423467'), ('name', '1981 New York City Marathon')]\n",
      "[('edition', 'http://www.wikidata.org/entity/Q13814019'), ('name', '2011 Paris Marathon')]\n",
      "[('edition', 'http://www.wikidata.org/entity/Q13814026'), ('name', '2013 Paris Marathon')]\n",
      "[('edition', 'http://www.wikidata.org/entity/Q2321989'), ('name', '2012 Paris Marathon')]\n",
      "[('edition', 'http://www.wikidata.org/entity/Q2323391'), ('name', '1978 Fukuoka Marathon')]\n",
      "[('edition', 'http://www.wikidata.org/entity/Q13814004'), ('name', '1997 Paris Marathon')]\n",
      "[('edition', 'http://www.wikidata.org/entity/Q1967026'), ('name', '1990 Paris Marathon')]\n",
      "[('edition', 'http://www.wikidata.org/entity/Q2540921'), ('name', '1993 Paris Marathon')]\n",
      "[('edition', 'http://www.wikidata.org/entity/Q2694123'), ('name', '1992 Paris Marathon')]\n",
      "[('edition', 'http://www.wikidata.org/entity/Q2274132'), ('name', '2010 Rotterdam Marathon')]\n",
      "[('edition', 'http://www.wikidata.org/entity/Q13814013'), ('name', '2004 Paris Marathon')]\n",
      "[('edition', 'http://www.wikidata.org/entity/Q2551371'), ('name', '2002 Paris Marathon')]\n",
      "[('edition', 'http://www.wikidata.org/entity/Q4488735'), ('name', '2003 Paris Marathon')]\n",
      "[('edition', 'http://www.wikidata.org/entity/Q2003049'), ('name', '2007 Turin Marathon')]\n",
      "[('edition', 'http://www.wikidata.org/entity/Q2149655'), ('name', '2005 Turin Marathon')]\n",
      "[('edition', 'http://www.wikidata.org/entity/Q5705418'), ('name', '2006 Turin Marathon')]\n",
      "[('edition', 'http://www.wikidata.org/entity/Q1839519'), ('name', '1976 New York City Marathon')]\n",
      "[('edition', 'http://www.wikidata.org/entity/Q1973507'), ('name', '1985 Rome Marathon')]\n",
      "[('edition', 'http://www.wikidata.org/entity/Q2028057'), ('name', '1974 New York City Marathon')]\n",
      "[('edition', 'http://www.wikidata.org/entity/Q20740772'), ('name', '1984 Rome Marathon')]\n",
      "[('edition', 'http://www.wikidata.org/entity/Q20740800'), ('name', '1986 Rome Marathon')]\n",
      "[('edition', 'http://www.wikidata.org/entity/Q2351824'), ('name', '1994 New York City Marathon')]\n",
      "[('edition', 'http://www.wikidata.org/entity/Q2383543'), ('name', '1995 New York City Marathon')]\n",
      "[('edition', 'http://www.wikidata.org/entity/Q2557453'), ('name', '1993 New York City Marathon')]\n",
      "[('edition', 'http://www.wikidata.org/entity/Q20680130'), ('name', 'Frankfurt Marathon 1998')]\n",
      "[('edition', 'http://www.wikidata.org/entity/Q13814076'), ('name', '1993 Turin Marathon')]\n",
      "[('edition', 'http://www.wikidata.org/entity/Q21193806'), ('name', '1992 Turin Marathon')]\n",
      "[('edition', 'http://www.wikidata.org/entity/Q21193839'), ('name', '1991 Turin Marathon')]\n",
      "[('edition', 'http://www.wikidata.org/entity/Q19838121'), ('name', '2015 Dubai Marathon')]\n",
      "[('edition', 'http://www.wikidata.org/entity/Q22677554'), ('name', '2016 Dubai Marathon')]\n",
      "[('edition', 'http://www.wikidata.org/entity/Q1972966'), ('name', '1975 New York City Marathon')]\n",
      "[('edition', 'http://www.wikidata.org/entity/Q2363821'), ('name', '1977 New York City Marathon')]\n",
      "[('edition', 'http://www.wikidata.org/entity/Q1858973'), ('name', '1988 Rotterdam Marathon')]\n",
      "[('edition', 'http://www.wikidata.org/entity/Q2456121'), ('name', '1987 Rotterdam Marathon')]\n",
      "50\n"
     ]
    }
   ],
   "source": [
    "# check the instance of\n",
    "queryString = \"\"\"\n",
    "SELECT DISTINCT ?edition ?name\n",
    "WHERE {\n",
    "    ?marathon wdt:P31 wd:Q40244.\n",
    "    ?edition wdt:P31 ?marathon.\n",
    "    ?edition sc:name ?name .\n",
    "}\n",
    "LIMIT 50\n",
    "\"\"\"\n",
    "\n",
    "print(\"Results\")\n",
    "x = run_query(queryString)"
   ]
  },
  {
   "cell_type": "code",
   "execution_count": 29,
   "id": "85ded049-0a5e-4c93-a432-2fe4de5c6cab",
   "metadata": {},
   "outputs": [
    {
     "name": "stdout",
     "output_type": "stream",
     "text": [
      "Results\n",
      "[('edition', 'http://www.wikidata.org/entity/Q17496398'), ('name', \"2014 European Athletics Championships – Women's Marathon\")]\n",
      "[('edition', 'http://www.wikidata.org/entity/Q57933742'), ('name', '2018 Frankfurt Marathon')]\n",
      "[('edition', 'http://www.wikidata.org/entity/Q17573153'), ('name', \"2014 European Athletics Championships – Men's Marathon\")]\n",
      "3\n"
     ]
    }
   ],
   "source": [
    "# check the HAS PART\n",
    "queryString = \"\"\"\n",
    "SELECT DISTINCT ?edition ?name\n",
    "WHERE {\n",
    "    ?marathon wdt:P31 wd:Q40244.\n",
    "    ?marathon wdt:P527 ?edition .\n",
    "    ?edition sc:name ?name .\n",
    "}\n",
    "LIMIT 50\n",
    "\"\"\"\n",
    "\n",
    "print(\"Results\")\n",
    "x = run_query(queryString)"
   ]
  },
  {
   "cell_type": "code",
   "execution_count": 30,
   "id": "4c4b2e5c-7be5-40da-a598-306bcf454d37",
   "metadata": {},
   "outputs": [
    {
     "name": "stdout",
     "output_type": "stream",
     "text": [
      "Results\n",
      "[('edition', 'http://www.wikidata.org/entity/Q83472812'), ('name', 'Köln Marathon 2014')]\n",
      "[('edition', 'http://www.wikidata.org/entity/Q83473125'), ('name', 'Köln Marathon 2015')]\n",
      "[('edition', 'http://www.wikidata.org/entity/Q83472951'), ('name', 'Köln Marathon 2016')]\n",
      "3\n"
     ]
    }
   ],
   "source": [
    "# check the subclasses\n",
    "queryString = \"\"\"\n",
    "SELECT DISTINCT ?edition ?name\n",
    "WHERE {\n",
    "    ?marathon wdt:P31 wd:Q40244.\n",
    "    ?edition wdt:P279 ?marathon .\n",
    "    ?edition sc:name ?name .\n",
    "}\n",
    "LIMIT 50\n",
    "\"\"\"\n",
    "\n",
    "print(\"Results\")\n",
    "x = run_query(queryString)"
   ]
  },
  {
   "cell_type": "code",
   "execution_count": 31,
   "id": "419d1dc7-85e7-4cc8-8b09-c94d311b3c0e",
   "metadata": {},
   "outputs": [
    {
     "name": "stdout",
     "output_type": "stream",
     "text": [
      "Results\n",
      "[('prop', 'http://www.wikidata.org/prop/direct/P1132'), ('name', 'number of participants')]\n",
      "[('prop', 'http://www.wikidata.org/prop/direct/P1346'), ('name', 'winner')]\n",
      "[('prop', 'http://www.wikidata.org/prop/direct/P154'), ('name', 'logo image')]\n",
      "[('prop', 'http://www.wikidata.org/prop/direct/P1545'), ('name', 'series ordinal')]\n",
      "[('prop', 'http://www.wikidata.org/prop/direct/P155'), ('name', 'follows')]\n",
      "[('prop', 'http://www.wikidata.org/prop/direct/P156'), ('name', 'followed by')]\n",
      "[('prop', 'http://www.wikidata.org/prop/direct/P17'), ('name', 'country')]\n",
      "[('prop', 'http://www.wikidata.org/prop/direct/P18'), ('name', 'image')]\n",
      "[('prop', 'http://www.wikidata.org/prop/direct/P2416'), ('name', 'sports discipline competed in')]\n",
      "[('prop', 'http://www.wikidata.org/prop/direct/P2671'), ('name', 'Google Knowledge Graph ID')]\n",
      "[('prop', 'http://www.wikidata.org/prop/direct/P276'), ('name', 'location')]\n",
      "[('prop', 'http://www.wikidata.org/prop/direct/P31'), ('name', 'instance of')]\n",
      "[('prop', 'http://www.wikidata.org/prop/direct/P3157'), ('name', 'event distance')]\n",
      "[('prop', 'http://www.wikidata.org/prop/direct/P3450'), ('name', 'sports season of league or competition')]\n",
      "[('prop', 'http://www.wikidata.org/prop/direct/P361'), ('name', 'part of')]\n",
      "[('prop', 'http://www.wikidata.org/prop/direct/P373'), ('name', 'Commons category')]\n",
      "[('prop', 'http://www.wikidata.org/prop/direct/P393'), ('name', 'edition number')]\n",
      "[('prop', 'http://www.wikidata.org/prop/direct/P585'), ('name', 'point in time')]\n",
      "[('prop', 'http://www.wikidata.org/prop/direct/P641'), ('name', 'sport')]\n",
      "[('prop', 'http://www.wikidata.org/prop/direct/P646'), ('name', 'Freebase ID')]\n",
      "[('prop', 'http://www.wikidata.org/prop/direct/P664'), ('name', 'organizer')]\n",
      "[('prop', 'http://www.wikidata.org/prop/direct/P710'), ('name', 'participant')]\n",
      "[('prop', 'http://www.wikidata.org/prop/direct/P856'), ('name', 'official website')]\n",
      "[('prop', 'http://www.wikidata.org/prop/direct/P859'), ('name', 'sponsor')]\n",
      "[('prop', 'http://www.wikidata.org/prop/direct/P1427'), ('name', 'start point')]\n",
      "[('prop', 'http://www.wikidata.org/prop/direct/P5090'), ('name', 'ARRS race ID')]\n",
      "[('prop', 'http://www.wikidata.org/prop/direct/P2572'), ('name', 'hashtag')]\n",
      "[('prop', 'http://www.wikidata.org/prop/direct/P1444'), ('name', 'destination point')]\n",
      "28\n"
     ]
    }
   ],
   "source": [
    "# check the properties of the editions\n",
    "queryString = \"\"\"\n",
    "SELECT DISTINCT ?prop ?name\n",
    "WHERE {\n",
    "    ?marathon wdt:P31 wd:Q40244.\n",
    "    ?edition wdt:P31 ?marathon.\n",
    "    ?edition ?prop ?x.\n",
    "    ?prop sc:name ?name .\n",
    "}\n",
    "LIMIT 50\n",
    "\"\"\"\n",
    "\n",
    "print(\"Results\")\n",
    "x = run_query(queryString)"
   ]
  },
  {
   "cell_type": "code",
   "execution_count": 32,
   "id": "5db416f9-767e-4085-b3b7-25d67f20ae8b",
   "metadata": {},
   "outputs": [
    {
     "name": "stdout",
     "output_type": "stream",
     "text": [
      "Results\n",
      "[('edition', 'http://www.wikidata.org/entity/Q16802238'), ('eName', '2014 Paris Marathon'), ('runner', 'http://www.wikidata.org/entity/Q9119'), ('rName', 'Kenenisa Bekele Beyecha')]\n",
      "[('edition', 'http://www.wikidata.org/entity/Q13813997'), ('eName', '1996 Paris Marathon'), ('runner', 'http://www.wikidata.org/entity/Q16337559'), ('rName', 'Henrique Crisóstomo')]\n",
      "[('edition', 'http://www.wikidata.org/entity/Q29053996'), ('eName', '2017 Paris Marathon'), ('runner', 'http://www.wikidata.org/entity/Q11831849'), ('rName', 'Purity Cherotich Rionoripo')]\n",
      "[('edition', 'http://www.wikidata.org/entity/Q29053996'), ('eName', '2017 Paris Marathon'), ('runner', 'http://www.wikidata.org/entity/Q21414453'), ('rName', 'Paul Kipchumba Lonyangata')]\n",
      "[('edition', 'http://www.wikidata.org/entity/Q51687336'), ('eName', '2018 Paris Marathon'), ('runner', 'http://www.wikidata.org/entity/Q21414453'), ('rName', 'Paul Kipchumba Lonyangata')]\n",
      "[('edition', 'http://www.wikidata.org/entity/Q65234870'), ('eName', '2019 Paris Marathon'), ('runner', 'http://www.wikidata.org/entity/Q270241'), ('rName', 'Gelete Burka')]\n",
      "[('edition', 'http://www.wikidata.org/entity/Q19799160'), ('eName', '2015 Paris Marathon'), ('runner', 'http://www.wikidata.org/entity/Q19799156'), ('rName', 'Mark Korir')]\n",
      "[('edition', 'http://www.wikidata.org/entity/Q23806491'), ('eName', '2016 Paris Marathon'), ('runner', 'http://www.wikidata.org/entity/Q23021432'), ('rName', 'Cyprian Kimurgor Kotut')]\n",
      "[('edition', 'http://www.wikidata.org/entity/Q16802238'), ('eName', '2014 Paris Marathon'), ('runner', 'http://www.wikidata.org/entity/Q16636410'), ('rName', 'Flomena Cheyech Daniel')]\n",
      "[('edition', 'http://www.wikidata.org/entity/Q13814026'), ('eName', '2013 Paris Marathon'), ('runner', 'http://www.wikidata.org/entity/Q519190'), ('rName', 'Feyse Tadese')]\n",
      "[('edition', 'http://www.wikidata.org/entity/Q13814026'), ('eName', '2013 Paris Marathon'), ('runner', 'http://www.wikidata.org/entity/Q2076269'), ('rName', 'Peter Kimeli Some')]\n",
      "[('edition', 'http://www.wikidata.org/entity/Q51687336'), ('eName', '2018 Paris Marathon'), ('runner', 'http://www.wikidata.org/entity/Q16212532'), ('rName', 'Betsy Saina')]\n",
      "[('edition', 'http://www.wikidata.org/entity/Q23905992'), ('eName', '2016 London Marathon'), ('runner', 'http://www.wikidata.org/entity/Q510629'), ('rName', 'Jemima Sumgong')]\n",
      "[('edition', 'http://www.wikidata.org/entity/Q52105373'), ('eName', '2018 London Marathon'), ('runner', 'http://www.wikidata.org/entity/Q5998'), ('rName', 'Vivian Cheruiyot')]\n",
      "[('edition', 'http://www.wikidata.org/entity/Q23905992'), ('eName', '2016 London Marathon'), ('runner', 'http://www.wikidata.org/entity/Q2112488'), ('rName', 'Tatyana McFadden')]\n",
      "[('edition', 'http://www.wikidata.org/entity/Q52105373'), ('eName', '2018 London Marathon'), ('runner', 'http://www.wikidata.org/entity/Q9124'), ('rName', 'Eliud Kipchoge')]\n",
      "[('edition', 'http://www.wikidata.org/entity/Q23905992'), ('eName', '2016 London Marathon'), ('runner', 'http://www.wikidata.org/entity/Q9124'), ('rName', 'Eliud Kipchoge')]\n",
      "[('edition', 'http://www.wikidata.org/entity/Q63366447'), ('eName', '2019 London Marathon'), ('runner', 'http://www.wikidata.org/entity/Q9124'), ('rName', 'Eliud Kipchoge')]\n",
      "[('edition', 'http://www.wikidata.org/entity/Q29467338'), ('eName', '2017 London Marathon'), ('runner', 'http://www.wikidata.org/entity/Q271166'), ('rName', 'Mary Jepkosgei Keitany')]\n",
      "[('edition', 'http://www.wikidata.org/entity/Q63366447'), ('eName', '2019 London Marathon'), ('runner', 'http://www.wikidata.org/entity/Q52129159'), ('rName', 'Brigid Kosgei')]\n",
      "[('edition', 'http://www.wikidata.org/entity/Q1953453'), ('eName', '2010 London Marathon'), ('runner', 'http://www.wikidata.org/entity/Q258564'), ('rName', 'Aselefech Mergia')]\n",
      "[('edition', 'http://www.wikidata.org/entity/Q1953453'), ('eName', '2010 London Marathon'), ('runner', 'http://www.wikidata.org/entity/Q15530'), ('rName', 'Tsegaye Kebede')]\n",
      "[('edition', 'http://www.wikidata.org/entity/Q3039843'), ('eName', '2011 Rotterdam Marathon'), ('runner', 'http://www.wikidata.org/entity/Q451012'), ('rName', 'Wilson Chebet')]\n",
      "[('edition', 'http://www.wikidata.org/entity/Q19798420'), ('eName', '2015 Rotterdam Marathon'), ('runner', 'http://www.wikidata.org/entity/Q9161041'), ('rName', 'Asami Katō')]\n",
      "[('edition', 'http://www.wikidata.org/entity/Q2662762'), ('eName', '2012 Rotterdam Marathon'), ('runner', 'http://www.wikidata.org/entity/Q114183'), ('rName', 'Yemane Tsegay')]\n",
      "[('edition', 'http://www.wikidata.org/entity/Q2662762'), ('eName', '2012 Rotterdam Marathon'), ('runner', 'http://www.wikidata.org/entity/Q6260'), ('rName', 'Tiki Gelana')]\n",
      "[('edition', 'http://www.wikidata.org/entity/Q13813340'), ('eName', '2013 Rotterdam Marathon'), ('runner', 'http://www.wikidata.org/entity/Q2433125'), ('rName', 'Tilahun Regassa')]\n",
      "[('edition', 'http://www.wikidata.org/entity/Q18655088'), ('eName', '2014 Rotterdam Marathon'), ('runner', 'http://www.wikidata.org/entity/Q9124'), ('rName', 'Eliud Kipchoge')]\n",
      "[('edition', 'http://www.wikidata.org/entity/Q23806490'), ('eName', '2016 Rotterdam Marathon'), ('runner', 'http://www.wikidata.org/entity/Q23801378'), ('rName', 'Marius Kipserem')]\n",
      "[('edition', 'http://www.wikidata.org/entity/Q29318816'), ('eName', '2017 Rotterdam Marathon'), ('runner', 'http://www.wikidata.org/entity/Q23801378'), ('rName', 'Marius Kipserem')]\n",
      "[('edition', 'http://www.wikidata.org/entity/Q23806490'), ('eName', '2016 Rotterdam Marathon'), ('runner', 'http://www.wikidata.org/entity/Q22102078'), ('rName', 'Letebrhan Haylay Gebreslasea')]\n",
      "[('edition', 'http://www.wikidata.org/entity/Q29318816'), ('eName', '2017 Rotterdam Marathon'), ('runner', 'http://www.wikidata.org/entity/Q3306851'), ('rName', 'Meskerem Assefa')]\n",
      "32\n"
     ]
    }
   ],
   "source": [
    "# return some marathon edition with its winner\n",
    "queryString = \"\"\"\n",
    "SELECT DISTINCT ?edition ?eName ?runner ?rName\n",
    "WHERE {\n",
    "    ?country wdt:P31 wd:Q6256;\n",
    "         wdt:P30 wd:Q46.\n",
    "    ?marathon wdt:P279*/wdt:P31 wd:Q40244;\n",
    "        wdt:P17 ?country.\n",
    "    ?edition wdt:P31 ?marathon.\n",
    "    ?runner wdt:P106/wdt:P279* wd:Q12803959.\n",
    "    ?edition wdt:P1346 ?runner.\n",
    "    ?edition sc:name ?eName .\n",
    "    ?runner sc:name ?rName .\n",
    "}\n",
    "LIMIT 50\n",
    "\"\"\"\n",
    "\n",
    "print(\"Results\")\n",
    "x = run_query(queryString)"
   ]
  },
  {
   "cell_type": "code",
   "execution_count": 44,
   "id": "0686d824-bfc2-4ff5-9c56-9cab687fc081",
   "metadata": {},
   "outputs": [
    {
     "name": "stdout",
     "output_type": "stream",
     "text": [
      "Results\n",
      "[('nation', 'http://www.wikidata.org/entity/Q45'), ('name', 'Portugal'), ('winners', '1')]\n",
      "[('nation', 'http://www.wikidata.org/entity/Q115'), ('name', 'Ethiopia'), ('winners', '10')]\n",
      "[('nation', 'http://www.wikidata.org/entity/Q114'), ('name', 'Kenya'), ('winners', '16')]\n",
      "[('nation', 'http://www.wikidata.org/entity/Q924'), ('name', 'Tanzania'), ('winners', '1')]\n",
      "[('nation', 'http://www.wikidata.org/entity/Q17'), ('name', 'Japan'), ('winners', '1')]\n",
      "[('nation', 'http://www.wikidata.org/entity/Q30'), ('name', 'United States of America'), ('winners', '1')]\n",
      "6\n"
     ]
    }
   ],
   "source": [
    "# group the results by country\n",
    "queryString = \"\"\"\n",
    "SELECT ?nation ?name COUNT(DISTINCT ?runner) AS ?winners\n",
    "WHERE {\n",
    "    ?country wdt:P31 wd:Q6256;\n",
    "             wdt:P30 wd:Q46.\n",
    "    ?marathon wdt:P31 wd:Q40244;\n",
    "        wdt:P17 ?country.\n",
    "    ?edition wdt:P31 ?marathon.\n",
    "    ?runner wdt:P106/wdt:P279* wd:Q12803959.\n",
    "    ?edition wdt:P1346 ?runner.\n",
    "    ?runner wdt:P27 ?nation.\n",
    "    ?nation sc:name ?name .\n",
    "}\n",
    "GROUP BY ?nation ?name\n",
    "\"\"\"\n",
    "\n",
    "print(\"Results\")\n",
    "x = run_query(queryString)"
   ]
  },
  {
   "cell_type": "code",
   "execution_count": 45,
   "id": "1f3e49b1",
   "metadata": {},
   "outputs": [
    {
     "name": "stdout",
     "output_type": "stream",
     "text": [
      "The index of this workflow is: 0_2\n",
      "The path is /locale/data/jupyter/prando/notebook/2022/results/workflow0_2.json\n",
      "JSON object updated\n"
     ]
    }
   ],
   "source": [
    "objs = []\n",
    "for i in x:\n",
    "    f_uri = i[0][1]\n",
    "    f_name = i[1][1]\n",
    "    winners = i[2][1]\n",
    "    obj = {}\n",
    "    obj[\"refers_to\"] = f_uri\n",
    "    obj[\"refers_to_name\"] = f_name\n",
    "    obj[\"check\"] = \"value\"\n",
    "    obj[\"value\"]= winners\n",
    "    objs.append(obj)\n",
    "evaluation.add_result(evaluation.get_index_workflow(pt),\"4\", evaluation.TYPE_REFERRED ,\"value\", objs)"
   ]
  },
  {
   "cell_type": "markdown",
   "id": "577a56b1-091f-4f6e-8783-5e6fd2f1cef4",
   "metadata": {},
   "source": [
    "Even if are not present a lot of editions, it is clear that Kenya and Ethiopia are very good in run the marathon."
   ]
  },
  {
   "cell_type": "markdown",
   "id": "b6e857cc-643b-41e4-b95c-408c046348f0",
   "metadata": {},
   "source": [
    "## Task 5"
   ]
  },
  {
   "cell_type": "code",
   "execution_count": 48,
   "id": "9041dd3c-2cef-43fa-994d-483680181601",
   "metadata": {},
   "outputs": [
    {
     "name": "stdout",
     "output_type": "stream",
     "text": [
      "Results\n",
      "[('prop', 'http://www.wikidata.org/prop/direct/P1344'), ('name', 'participant in')]\n",
      "[('prop', 'http://www.wikidata.org/prop/direct/P155'), ('name', 'follows')]\n",
      "[('prop', 'http://www.wikidata.org/prop/direct/P156'), ('name', 'followed by')]\n",
      "[('prop', 'http://www.wikidata.org/prop/direct/P527'), ('name', 'has part')]\n",
      "4\n"
     ]
    }
   ],
   "source": [
    "# from a given URI look at its properties\n",
    "queryString = \"\"\"\n",
    "SELECT DISTINCT ?prop ?name\n",
    "WHERE {\n",
    "    ?obj ?prop wd:Q853003 .\n",
    "    ?prop sc:name ?name .\n",
    "}\n",
    "\"\"\"\n",
    "\n",
    "print(\"Results\")\n",
    "x = run_query(queryString)"
   ]
  },
  {
   "cell_type": "code",
   "execution_count": 50,
   "id": "438f17f1",
   "metadata": {},
   "outputs": [
    {
     "name": "stdout",
     "output_type": "stream",
     "text": [
      "Results\n",
      "[('obj', 'http://www.wikidata.org/entity/Q189941'), ('name', 'athletics at the 2008 Summer Olympics')]\n",
      "1\n"
     ]
    }
   ],
   "source": [
    "# use the has part property\n",
    "queryString = \"\"\"\n",
    "SELECT DISTINCT ?obj ?name\n",
    "WHERE {\n",
    "    ?obj wdt:P527 wd:Q853003 .\n",
    "    ?obj sc:name ?name .\n",
    "}\n",
    "\"\"\"\n",
    "\n",
    "print(\"Results\")\n",
    "x = run_query(queryString)"
   ]
  },
  {
   "cell_type": "code",
   "execution_count": 51,
   "id": "d683096e",
   "metadata": {},
   "outputs": [
    {
     "name": "stdout",
     "output_type": "stream",
     "text": [
      "Results\n",
      "[('obj', 'http://www.wikidata.org/entity/Q8567'), ('name', '2008 Summer Olympics')]\n",
      "1\n"
     ]
    }
   ],
   "source": [
    "# use the has part property\n",
    "queryString = \"\"\"\n",
    "SELECT DISTINCT ?obj ?name\n",
    "WHERE {\n",
    "    ?obj wdt:P527 ?x .\n",
    "    ?x wdt:P527 wd:Q853003 .\n",
    "    ?obj sc:name ?name .\n",
    "}\n",
    "\"\"\"\n",
    "\n",
    "print(\"Results\")\n",
    "x = run_query(queryString)"
   ]
  },
  {
   "cell_type": "code",
   "execution_count": 53,
   "id": "4c9c353f",
   "metadata": {},
   "outputs": [
    {
     "name": "stdout",
     "output_type": "stream",
     "text": [
      "Results\n",
      "[('inst', 'http://www.wikidata.org/entity/Q159821'), ('name', 'Summer Olympic Games')]\n",
      "1\n"
     ]
    }
   ],
   "source": [
    "# instance of 2008 Summer Olympics\n",
    "queryString = \"\"\"\n",
    "SELECT DISTINCT ?inst ?name\n",
    "WHERE {\n",
    "    ?obj wdt:P527 ?x .\n",
    "    ?x wdt:P527 wd:Q853003 .\n",
    "    ?obj wdt:P31 ?inst.\n",
    "    ?inst sc:name ?name .\n",
    "}\n",
    "\"\"\"\n",
    "\n",
    "print(\"Results\")\n",
    "x = run_query(queryString)"
   ]
  },
  {
   "cell_type": "code",
   "execution_count": 62,
   "id": "ec63fe5d",
   "metadata": {},
   "outputs": [
    {
     "name": "stdout",
     "output_type": "stream",
     "text": [
      "Results\n",
      "[('prop', 'http://www.wikidata.org/prop/direct/P1344'), ('name', 'participant in')]\n",
      "[('prop', 'http://www.wikidata.org/prop/direct/P138'), ('name', 'named after')]\n",
      "[('prop', 'http://www.wikidata.org/prop/direct/P144'), ('name', 'based on')]\n",
      "[('prop', 'http://www.wikidata.org/prop/direct/P179'), ('name', 'part of the series')]\n",
      "[('prop', 'http://www.wikidata.org/prop/direct/P2670'), ('name', 'has parts of the class')]\n",
      "[('prop', 'http://www.wikidata.org/prop/direct/P301'), ('name', \"category's main topic\")]\n",
      "[('prop', 'http://www.wikidata.org/prop/direct/P31'), ('name', 'instance of')]\n",
      "[('prop', 'http://www.wikidata.org/prop/direct/P361'), ('name', 'part of')]\n",
      "[('prop', 'http://www.wikidata.org/prop/direct/P461'), ('name', 'opposite of')]\n",
      "[('prop', 'http://www.wikidata.org/prop/direct/P921'), ('name', 'main subject')]\n",
      "[('prop', 'http://www.wikidata.org/prop/direct/P971'), ('name', 'category combines topics')]\n",
      "11\n"
     ]
    }
   ],
   "source": [
    "# properties related to Summer Olympic Games\n",
    "queryString = \"\"\"\n",
    "SELECT DISTINCT ?prop ?name\n",
    "WHERE {\n",
    "    ?inst ?prop wd:Q159821 .\n",
    "    ?prop sc:name ?name .\n",
    "}\n",
    "\"\"\"\n",
    "\n",
    "print(\"Results\")\n",
    "x = run_query(queryString)"
   ]
  },
  {
   "cell_type": "code",
   "execution_count": 63,
   "id": "08a312c4",
   "metadata": {},
   "outputs": [
    {
     "name": "stdout",
     "output_type": "stream",
     "text": [
      "Results\n",
      "[('inst', 'http://www.wikidata.org/entity/Q5389'), ('name', 'Olympic Games')]\n",
      "1\n"
     ]
    }
   ],
   "source": [
    "# find Olympic Games\n",
    "queryString = \"\"\"\n",
    "SELECT DISTINCT ?inst ?name\n",
    "WHERE {\n",
    "    ?inst wdt:P2670 wd:Q159821 .\n",
    "    ?inst sc:name ?name .\n",
    "}\n",
    "\"\"\"\n",
    "\n",
    "print(\"Results\")\n",
    "x = run_query(queryString)"
   ]
  },
  {
   "cell_type": "code",
   "execution_count": 65,
   "id": "4e0a4414",
   "metadata": {},
   "outputs": [
    {
     "name": "stdout",
     "output_type": "stream",
     "text": [
      "The index of this workflow is: 0_2\n",
      "The path is /locale/data/jupyter/prando/notebook/2022/results/workflow0_2.json\n",
      "JSON object updated\n"
     ]
    }
   ],
   "source": [
    "### insert the result of TASK 6 in the file\n",
    "og_uri = \"http://www.wikidata.org/entity/Q5389\"\n",
    "og_name = \"Olympic Games\"\n",
    "obj = {\"uri\":og_uri,\"name\":og_name}\n",
    "evaluation.add_result(evaluation.get_index_workflow(pt),\"5\", evaluation.TYPE_SINGLE ,\"uri\", [obj] ,\"all\")"
   ]
  },
  {
   "cell_type": "markdown",
   "id": "f7168786",
   "metadata": {},
   "source": [
    "## Task 6"
   ]
  },
  {
   "cell_type": "code",
   "execution_count": 67,
   "id": "123d9851",
   "metadata": {},
   "outputs": [
    {
     "name": "stdout",
     "output_type": "stream",
     "text": [
      "Results\n",
      "[('inst', 'http://www.wikidata.org/entity/Q8080'), ('name', '1896 Summer Olympics')]\n",
      "[('inst', 'http://www.wikidata.org/entity/Q8088'), ('name', '1900 Summer Olympics')]\n",
      "[('inst', 'http://www.wikidata.org/entity/Q8098'), ('name', '1904 Summer Olympics')]\n",
      "[('inst', 'http://www.wikidata.org/entity/Q8105'), ('name', '1906 Intercalated Games')]\n",
      "[('inst', 'http://www.wikidata.org/entity/Q8111'), ('name', '1908 Summer Olympics')]\n",
      "[('inst', 'http://www.wikidata.org/entity/Q8118'), ('name', '1912 Summer Olympics')]\n",
      "[('inst', 'http://www.wikidata.org/entity/Q8123'), ('name', '1916 Summer Olympics')]\n",
      "[('inst', 'http://www.wikidata.org/entity/Q8128'), ('name', '1920 Summer Olympics')]\n",
      "[('inst', 'http://www.wikidata.org/entity/Q8132'), ('name', '1924 Summer Olympics')]\n",
      "[('inst', 'http://www.wikidata.org/entity/Q8138'), ('name', '1928 Summer Olympics')]\n",
      "[('inst', 'http://www.wikidata.org/entity/Q8143'), ('name', '1932 Summer Olympics')]\n",
      "[('inst', 'http://www.wikidata.org/entity/Q8150'), ('name', '1936 Summer Olympics')]\n",
      "[('inst', 'http://www.wikidata.org/entity/Q8368'), ('name', '1940 Summer Olympics')]\n",
      "[('inst', 'http://www.wikidata.org/entity/Q8376'), ('name', '1944 Summer Olympics')]\n",
      "[('inst', 'http://www.wikidata.org/entity/Q8403'), ('name', '1948 Summer Olympics')]\n",
      "[('inst', 'http://www.wikidata.org/entity/Q8407'), ('name', '1952 Summer Olympics')]\n",
      "[('inst', 'http://www.wikidata.org/entity/Q8411'), ('name', '1956 Summer Olympics')]\n",
      "[('inst', 'http://www.wikidata.org/entity/Q8415'), ('name', '1960 Summer Olympics')]\n",
      "[('inst', 'http://www.wikidata.org/entity/Q8420'), ('name', '1964 Summer Olympics')]\n",
      "[('inst', 'http://www.wikidata.org/entity/Q8429'), ('name', '1968 Summer Olympics')]\n",
      "[('inst', 'http://www.wikidata.org/entity/Q8438'), ('name', '1972 Summer Olympics')]\n",
      "[('inst', 'http://www.wikidata.org/entity/Q8444'), ('name', '1976 Summer Olympics')]\n",
      "[('inst', 'http://www.wikidata.org/entity/Q8450'), ('name', '1980 Summer Olympics')]\n",
      "[('inst', 'http://www.wikidata.org/entity/Q8456'), ('name', '1984 Summer Olympics')]\n",
      "[('inst', 'http://www.wikidata.org/entity/Q8470'), ('name', '1988 Summer Olympics')]\n",
      "[('inst', 'http://www.wikidata.org/entity/Q8488'), ('name', '1992 Summer Olympics')]\n",
      "[('inst', 'http://www.wikidata.org/entity/Q8531'), ('name', '1996 Summer Olympics')]\n",
      "[('inst', 'http://www.wikidata.org/entity/Q8544'), ('name', '2000 Summer Olympics')]\n",
      "[('inst', 'http://www.wikidata.org/entity/Q8558'), ('name', '2004 Summer Olympics')]\n",
      "[('inst', 'http://www.wikidata.org/entity/Q8567'), ('name', '2008 Summer Olympics')]\n",
      "[('inst', 'http://www.wikidata.org/entity/Q8577'), ('name', '2012 Summer Olympics')]\n",
      "[('inst', 'http://www.wikidata.org/entity/Q8613'), ('name', '2016 Summer Olympics')]\n",
      "[('inst', 'http://www.wikidata.org/entity/Q181278'), ('name', '2020 Summer Olympics')]\n",
      "[('inst', 'http://www.wikidata.org/entity/Q995653'), ('name', '2024 Summer Olympics')]\n",
      "[('inst', 'http://www.wikidata.org/entity/Q1451505'), ('name', '2028 Summer Olympics')]\n",
      "[('inst', 'http://www.wikidata.org/entity/Q31039462'), ('name', '2032 Summer Olympics')]\n",
      "[('inst', 'http://www.wikidata.org/entity/Q108045332'), ('name', '2036 Summer Olympics')]\n",
      "37\n"
     ]
    }
   ],
   "source": [
    "# find the four Olympic Games of interest\n",
    "queryString = \"\"\"\n",
    "SELECT DISTINCT ?inst ?name\n",
    "WHERE { \n",
    "    ?inst wdt:P31 wd:Q159821.\n",
    "    ?inst sc:name ?name .\n",
    "}\n",
    "ORDER BY ?name\n",
    "\"\"\"\n",
    "\n",
    "print(\"Results\")\n",
    "x = run_query(queryString)"
   ]
  },
  {
   "cell_type": "code",
   "execution_count": 68,
   "id": "d1e047af",
   "metadata": {},
   "outputs": [
    {
     "name": "stdout",
     "output_type": "stream",
     "text": [
      "Results\n",
      "[('edition', 'http://www.wikidata.org/entity/Q8558'), ('name', '2004 Summer Olympics')]\n",
      "[('edition', 'http://www.wikidata.org/entity/Q8567'), ('name', '2008 Summer Olympics')]\n",
      "[('edition', 'http://www.wikidata.org/entity/Q8577'), ('name', '2012 Summer Olympics')]\n",
      "[('edition', 'http://www.wikidata.org/entity/Q8613'), ('name', '2016 Summer Olympics')]\n",
      "4\n"
     ]
    }
   ],
   "source": [
    "# (wd:Q8558,wd:Q8567,wd:Q8577,wd:Q8613) the editions from 2004 to 2016 of the Summer Olympics\n",
    "queryString = \"\"\"\n",
    "SELECT DISTINCT ?edition ?name\n",
    "WHERE { \n",
    "    VALUES ?edition {wd:Q8558 wd:Q8567 wd:Q8577 wd:Q8613}.\n",
    "    ?edition sc:name ?name .\n",
    "}\n",
    "ORDER BY ?name\n",
    "\"\"\"\n",
    "\n",
    "print(\"Results\")\n",
    "x = run_query(queryString)"
   ]
  },
  {
   "cell_type": "code",
   "execution_count": 103,
   "id": "d361aa48",
   "metadata": {},
   "outputs": [
    {
     "name": "stdout",
     "output_type": "stream",
     "text": [
      "Results\n",
      "[('prop', 'http://www.wikidata.org/prop/direct/P1344'), ('name', 'participant in')]\n",
      "1\n"
     ]
    }
   ],
   "source": [
    "# find how the runners are related to the summer olympics\n",
    "queryString = \"\"\"\n",
    "SELECT DISTINCT ?prop ?name\n",
    "WHERE { \n",
    "    VALUES ?edition {wd:Q8558 wd:Q8567 wd:Q8577 wd:Q8613}.\n",
    "    ?runner wdt:P106 wd:Q13382460.\n",
    "    ?runner ?prop ?edition.\n",
    "    ?prop sc:name ?name .\n",
    "}\n",
    "\"\"\"\n",
    "\n",
    "print(\"Results\")\n",
    "x = run_query(queryString)"
   ]
  },
  {
   "cell_type": "code",
   "execution_count": 71,
   "id": "5a652524",
   "metadata": {},
   "outputs": [
    {
     "name": "stdout",
     "output_type": "stream",
     "text": [
      "Results\n",
      "[('callret-0', '505')]\n",
      "1\n"
     ]
    }
   ],
   "source": [
    "# find how the runners are related to the summer olympics\n",
    "queryString = \"\"\"\n",
    "SELECT DISTINCT COUNT(*)\n",
    "WHERE { \n",
    "    VALUES ?edition {wd:Q8558 wd:Q8567 wd:Q8577 wd:Q8613}.\n",
    "    ?runner wdt:P106 wd:Q13382460.\n",
    "    ?runner ?prop ?edition.\n",
    "    ?prop sc:name ?name .\n",
    "}\n",
    "ORDER BY ?name\n",
    "\"\"\"\n",
    "\n",
    "print(\"Results\")\n",
    "x = run_query(queryString)"
   ]
  },
  {
   "cell_type": "code",
   "execution_count": 92,
   "id": "0a8bb152",
   "metadata": {},
   "outputs": [
    {
     "name": "stdout",
     "output_type": "stream",
     "text": [
      "Results\n",
      "[('prop', 'http://www.wikidata.org/prop/direct/P17'), ('name', 'country')]\n",
      "[('prop', 'http://www.wikidata.org/prop/direct/P156'), ('name', 'followed by')]\n",
      "[('prop', 'http://www.wikidata.org/prop/direct/P155'), ('name', 'follows')]\n",
      "[('prop', 'http://www.wikidata.org/prop/direct/P527'), ('name', 'has part')]\n",
      "[('prop', 'http://www.wikidata.org/prop/direct/P18'), ('name', 'image')]\n",
      "[('prop', 'http://www.wikidata.org/prop/direct/P31'), ('name', 'instance of')]\n",
      "[('prop', 'http://www.wikidata.org/prop/direct/P276'), ('name', 'location')]\n",
      "[('prop', 'http://www.wikidata.org/prop/direct/P361'), ('name', 'part of')]\n",
      "[('prop', 'http://www.wikidata.org/prop/direct/P641'), ('name', 'sport')]\n",
      "[('prop', 'http://www.wikidata.org/prop/direct/P910'), ('name', \"topic's main category\")]\n",
      "[('prop', 'http://www.wikidata.org/prop/direct/P1424'), ('name', \"topic's main template\")]\n",
      "11\n"
     ]
    }
   ],
   "source": [
    "# try a different approach. Find the marathon at the Olympic Games and check runners who had partecipated at the marathons\n",
    "# from the athletics at the 2008 Summer Olympics\n",
    "queryString = \"\"\"\n",
    "SELECT DISTINCT ?prop ?name\n",
    "WHERE { \n",
    "    wd:Q189941 ?prop ?x.\n",
    "    ?prop sc:name ?name .\n",
    "    FILTER(!isLiteral(?x)).\n",
    "}\n",
    "ORDER BY ?name\n",
    "\"\"\"\n",
    "\n",
    "print(\"Results\")\n",
    "x = run_query(queryString)"
   ]
  },
  {
   "cell_type": "code",
   "execution_count": 93,
   "id": "82bf649c",
   "metadata": {},
   "outputs": [
    {
     "name": "stdout",
     "output_type": "stream",
     "text": [
      "Results\n",
      "[('x', 'http://www.wikidata.org/entity/Q693595'), ('name', \"athletics at the 2008 Summer Olympics – men's marathon\")]\n",
      "[('x', 'http://www.wikidata.org/entity/Q947691'), ('name', \"athletics at the 2008 Summer Olympics – women's marathon\")]\n",
      "2\n"
     ]
    }
   ],
   "source": [
    "# try a different approach. Find the marathon at the Olympic Games and check runners who had partecipated at the marathons\n",
    "# from the athletics at the 2008 Summer Olympics\n",
    "# use hasPart to get all the disciplines\n",
    "queryString = \"\"\"\n",
    "SELECT DISTINCT ?x ?name\n",
    "WHERE { \n",
    "    wd:Q189941 wdt:P527 ?x.\n",
    "    ?x sc:name ?name .\n",
    "    FILTER(CONTAINS(?name,\"arath\")).\n",
    "}\n",
    "\"\"\"\n",
    "\n",
    "print(\"Results\")\n",
    "x = run_query(queryString)"
   ]
  },
  {
   "cell_type": "code",
   "execution_count": 94,
   "id": "be634115",
   "metadata": {},
   "outputs": [
    {
     "name": "stdout",
     "output_type": "stream",
     "text": [
      "Results\n",
      "[('prop', 'http://www.wikidata.org/prop/direct/P1344'), ('name', 'participant in')]\n",
      "1\n"
     ]
    }
   ],
   "source": [
    "# try a different approach. Find the marathon at the Olympic Games and check runners who had partecipated at the marathons\n",
    "# from the athletics at the 2008 Summer Olympics\n",
    "# use hasPart to get all the disciplines\n",
    "queryString = \"\"\"\n",
    "SELECT DISTINCT ?prop ?name\n",
    "WHERE {\n",
    "    wd:Q189941 wdt:P527 ?x.\n",
    "    ?x sc:name ?xn .\n",
    "    FILTER(CONTAINS(?xn,\"arath\")).\n",
    "    \n",
    "    ?runner wdt:P106 wd:Q13382460.\n",
    "    ?runner ?prop ?x.\n",
    "    ?prop sc:name ?name.\n",
    "    \n",
    "}\n",
    "\"\"\"\n",
    "\n",
    "print(\"Results\")\n",
    "x = run_query(queryString)"
   ]
  },
  {
   "cell_type": "code",
   "execution_count": 95,
   "id": "0e2db114",
   "metadata": {},
   "outputs": [
    {
     "name": "stdout",
     "output_type": "stream",
     "text": [
      "Results\n",
      "[('x', 'http://www.wikidata.org/entity/Q1004931'), ('xn', \"swimming at the 2008 Summer Olympics – men's marathon 10 kilometre\")]\n",
      "[('x', 'http://www.wikidata.org/entity/Q739527'), ('xn', \"swimming at the 2008 Summer Olympics – women's marathon 10 kilometre\")]\n",
      "[('x', 'http://www.wikidata.org/entity/Q2000988'), ('xn', \"athletics at the 2012 Summer Olympics – women's marathon\")]\n",
      "[('x', 'http://www.wikidata.org/entity/Q21858030'), ('xn', \"athletics at the 2016 Summer Olympics – women's marathon\")]\n",
      "[('x', 'http://www.wikidata.org/entity/Q1064845'), ('xn', \"swimming at the 2012 Summer Olympics – women's marathon 10 kilometre\")]\n",
      "[('x', 'http://www.wikidata.org/entity/Q21858018'), ('xn', \"athletics at the 2016 Summer Olympics – men's marathon\")]\n",
      "[('x', 'http://www.wikidata.org/entity/Q25991470'), ('xn', \"swimming at the 2016 Summer Olympics – women's marathon 10 kilometre\")]\n",
      "[('x', 'http://www.wikidata.org/entity/Q693595'), ('xn', \"athletics at the 2008 Summer Olympics – men's marathon\")]\n",
      "[('x', 'http://www.wikidata.org/entity/Q947691'), ('xn', \"athletics at the 2008 Summer Olympics – women's marathon\")]\n",
      "[('x', 'http://www.wikidata.org/entity/Q2552272'), ('xn', \"athletics at the 2004 Summer Olympics – women's marathon\")]\n",
      "[('x', 'http://www.wikidata.org/entity/Q25991460'), ('xn', \"swimming at the 2016 Summer Olympics – men's marathon 10 kilometre\")]\n",
      "[('x', 'http://www.wikidata.org/entity/Q1798983'), ('xn', \"athletics at the 2012 Summer Olympics – men's marathon\")]\n",
      "[('x', 'http://www.wikidata.org/entity/Q2268451'), ('xn', \"swimming at the 2012 Summer Olympics – men's marathon 10 kilometre\")]\n",
      "[('x', 'http://www.wikidata.org/entity/Q2443986'), ('xn', \"athletics at the 2004 Summer Olympics – men's marathon\")]\n",
      "14\n"
     ]
    }
   ],
   "source": [
    "# try a different approach. Find the marathon at the Olympic Games and check runners who had partecipated at the marathons\n",
    "# from the athletics at the 2008 Summer Olympics\n",
    "# find all the athletics at the Summer Olympics for 2004-2008-2012-2016\n",
    "queryString = \"\"\"\n",
    "SELECT DISTINCT ?x ?xn\n",
    "WHERE {\n",
    "    VALUES ?edition {wd:Q8558 wd:Q8567 wd:Q8577 wd:Q8613}.\n",
    "    ?edition wdt:P527/wdt:P527 ?x.\n",
    "    ?x sc:name ?xn .\n",
    "    FILTER(CONTAINS(?xn,\"arath\")).\n",
    "    \n",
    "}\n",
    "\"\"\"\n",
    "\n",
    "print(\"Results\")\n",
    "x = run_query(queryString)"
   ]
  },
  {
   "cell_type": "code",
   "execution_count": 96,
   "id": "844fcc61",
   "metadata": {},
   "outputs": [
    {
     "name": "stdout",
     "output_type": "stream",
     "text": [
      "Results\n",
      "[('sport', 'http://www.wikidata.org/entity/Q31920'), ('s', 'swimming')]\n",
      "[('sport', 'http://www.wikidata.org/entity/Q542'), ('s', 'athletics')]\n",
      "[('sport', 'http://www.wikidata.org/entity/Q631004'), ('s', 'open water swimming')]\n",
      "3\n"
     ]
    }
   ],
   "source": [
    "# try a different approach. Find the marathon at the Olympic Games and check runners who had partecipated at the marathons\n",
    "# from the athletics at the 2008 Summer Olympics\n",
    "# find all the athletics at the Summer Olympics for 2004-2008-2012-2016\n",
    "# filter only athletics, so remove swimming using property sport\n",
    "queryString = \"\"\"\n",
    "SELECT DISTINCT ?sport ?s\n",
    "WHERE {\n",
    "    VALUES ?edition {wd:Q8558 wd:Q8567 wd:Q8577 wd:Q8613}.\n",
    "    ?edition wdt:P527/wdt:P527 ?x.\n",
    "    ?x wdt:P641 ?sport.\n",
    "    ?x sc:name ?xn .\n",
    "    FILTER(CONTAINS(?xn,\"arath\")).\n",
    "    ?sport sc:name ?s.\n",
    "    \n",
    "}\n",
    "\"\"\"\n",
    "\n",
    "print(\"Results\")\n",
    "x = run_query(queryString)"
   ]
  },
  {
   "cell_type": "code",
   "execution_count": 97,
   "id": "7ae37749",
   "metadata": {},
   "outputs": [
    {
     "name": "stdout",
     "output_type": "stream",
     "text": [
      "Results\n",
      "[('x', 'http://www.wikidata.org/entity/Q2552272'), ('xn', \"athletics at the 2004 Summer Olympics – women's marathon\")]\n",
      "[('x', 'http://www.wikidata.org/entity/Q693595'), ('xn', \"athletics at the 2008 Summer Olympics – men's marathon\")]\n",
      "[('x', 'http://www.wikidata.org/entity/Q947691'), ('xn', \"athletics at the 2008 Summer Olympics – women's marathon\")]\n",
      "[('x', 'http://www.wikidata.org/entity/Q2443986'), ('xn', \"athletics at the 2004 Summer Olympics – men's marathon\")]\n",
      "[('x', 'http://www.wikidata.org/entity/Q21858030'), ('xn', \"athletics at the 2016 Summer Olympics – women's marathon\")]\n",
      "[('x', 'http://www.wikidata.org/entity/Q2000988'), ('xn', \"athletics at the 2012 Summer Olympics – women's marathon\")]\n",
      "[('x', 'http://www.wikidata.org/entity/Q21858018'), ('xn', \"athletics at the 2016 Summer Olympics – men's marathon\")]\n",
      "[('x', 'http://www.wikidata.org/entity/Q1798983'), ('xn', \"athletics at the 2012 Summer Olympics – men's marathon\")]\n",
      "8\n"
     ]
    }
   ],
   "source": [
    "# try a different approach. Find the marathon at the Olympic Games and check runners who had partecipated at the marathons\n",
    "# from the athletics at the 2008 Summer Olympics\n",
    "# find all the athletics at the Summer Olympics for 2004-2008-2012-2016\n",
    "# filter only athletics, so remove swimming using property sport\n",
    "queryString = \"\"\"\n",
    "SELECT DISTINCT ?x ?xn\n",
    "WHERE {\n",
    "    VALUES ?edition {wd:Q8558 wd:Q8567 wd:Q8577 wd:Q8613}.\n",
    "    ?edition wdt:P527/wdt:P527 ?x.\n",
    "    ?x wdt:P641 wd:Q542.\n",
    "    ?x sc:name ?xn .\n",
    "    FILTER(CONTAINS(?xn,\"arath\")).\n",
    "    \n",
    "}\n",
    "ORDER BY ?xn\n",
    "\"\"\"\n",
    "\n",
    "print(\"Results\")\n",
    "x = run_query(queryString)"
   ]
  },
  {
   "cell_type": "code",
   "execution_count": 98,
   "id": "4e10d768",
   "metadata": {},
   "outputs": [
    {
     "name": "stdout",
     "output_type": "stream",
     "text": [
      "Results\n",
      "[('callret-0', '61')]\n",
      "1\n"
     ]
    }
   ],
   "source": [
    "# try a different approach. Find the marathon at the Olympic Games and check runners who had partecipated at the marathons\n",
    "# from the athletics at the 2008 Summer Olympics\n",
    "# find all the athletics at the Summer Olympics for 2004-2008-2012-2016\n",
    "# filter only athletics, so remove swimming using property sport\n",
    "queryString = \"\"\"\n",
    "SELECT DISTINCT COUNT(*)\n",
    "WHERE {\n",
    "    VALUES ?edition {wd:Q8558 wd:Q8567 wd:Q8577 wd:Q8613}.\n",
    "    ?edition wdt:P527/wdt:P527 ?x.\n",
    "    ?x wdt:P641 wd:Q542.\n",
    "    ?runner wdt:P1344 ?x.\n",
    "    ?x sc:name ?xn .\n",
    "    FILTER(CONTAINS(?xn,\"arath\")).\n",
    "    \n",
    "}\n",
    "\"\"\"\n",
    "\n",
    "print(\"Results\")\n",
    "x = run_query(queryString)"
   ]
  },
  {
   "cell_type": "markdown",
   "id": "8a592006",
   "metadata": {},
   "source": [
    "Given that using the second strategy the results are lower than using the first strategy, we keep the first one"
   ]
  },
  {
   "cell_type": "code",
   "execution_count": 116,
   "id": "b4ae5989",
   "metadata": {},
   "outputs": [
    {
     "name": "stdout",
     "output_type": "stream",
     "text": [
      "Results\n",
      "[('country', 'http://www.wikidata.org/entity/Q40'), ('name', 'Austria'), ('runners', '2')]\n",
      "[('country', 'http://www.wikidata.org/entity/Q717'), ('name', 'Venezuela'), ('runners', '3')]\n",
      "[('country', 'http://www.wikidata.org/entity/Q212'), ('name', 'Ukraine'), ('runners', '7')]\n",
      "[('country', 'http://www.wikidata.org/entity/Q1030'), ('name', 'Namibia'), ('runners', '1')]\n",
      "[('country', 'http://www.wikidata.org/entity/Q37'), ('name', 'Lithuania'), ('runners', '4')]\n",
      "[('country', 'http://www.wikidata.org/entity/Q43'), ('name', 'Turkey'), ('runners', '6')]\n",
      "[('country', 'http://www.wikidata.org/entity/Q219'), ('name', 'Bulgaria'), ('runners', '1')]\n",
      "[('country', 'http://www.wikidata.org/entity/Q20'), ('name', 'Norway'), ('runners', '4')]\n",
      "[('country', 'http://www.wikidata.org/entity/Q211'), ('name', 'Latvia'), ('runners', '2')]\n",
      "[('country', 'http://www.wikidata.org/entity/Q929'), ('name', 'Central African Republic'), ('runners', '1')]\n",
      "[('country', 'http://www.wikidata.org/entity/Q225'), ('name', 'Bosnia and Herzegovina'), ('runners', '1')]\n",
      "[('country', 'http://www.wikidata.org/entity/Q142'), ('name', 'France'), ('runners', '5')]\n",
      "[('country', 'http://www.wikidata.org/entity/Q45'), ('name', 'Portugal'), ('runners', '11')]\n",
      "[('country', 'http://www.wikidata.org/entity/Q958'), ('name', 'South Sudan'), ('runners', '1')]\n",
      "[('country', 'http://www.wikidata.org/entity/Q884'), ('name', 'South Korea'), ('runners', '10')]\n",
      "[('country', 'http://www.wikidata.org/entity/Q408'), ('name', 'Australia'), ('runners', '6')]\n",
      "[('country', 'http://www.wikidata.org/entity/Q155'), ('name', 'Brazil'), ('runners', '5')]\n",
      "[('country', 'http://www.wikidata.org/entity/Q954'), ('name', 'Zimbabwe'), ('runners', '3')]\n",
      "[('country', 'http://www.wikidata.org/entity/Q948'), ('name', 'Tunisia'), ('runners', '1')]\n",
      "[('country', 'http://www.wikidata.org/entity/Q1028'), ('name', 'Morocco'), ('runners', '7')]\n",
      "[('country', 'http://www.wikidata.org/entity/Q1037'), ('name', 'Rwanda'), ('runners', '2')]\n",
      "[('country', 'http://www.wikidata.org/entity/Q423'), ('name', 'North Korea'), ('runners', '2')]\n",
      "[('country', 'http://www.wikidata.org/entity/Q733'), ('name', 'Paraguay'), ('runners', '1')]\n",
      "[('country', 'http://www.wikidata.org/entity/Q218'), ('name', 'Romania'), ('runners', '3')]\n",
      "[('country', 'http://www.wikidata.org/entity/Q35'), ('name', 'Denmark'), ('runners', '2')]\n",
      "[('country', 'http://www.wikidata.org/entity/Q27'), ('name', 'Ireland'), ('runners', '5')]\n",
      "[('country', 'http://www.wikidata.org/entity/Q837'), ('name', 'Nepal'), ('runners', '1')]\n",
      "[('country', 'http://www.wikidata.org/entity/Q36'), ('name', 'Poland'), ('runners', '6')]\n",
      "[('country', 'http://www.wikidata.org/entity/Q96'), ('name', 'Mexico'), ('runners', '5')]\n",
      "[('country', 'http://www.wikidata.org/entity/Q38'), ('name', 'Italy'), ('runners', '5')]\n",
      "[('country', 'http://www.wikidata.org/entity/Q398'), ('name', 'Bahrain'), ('runners', '2')]\n",
      "[('country', 'http://www.wikidata.org/entity/Q15180'), ('name', 'Soviet Union'), ('runners', '5')]\n",
      "[('country', 'http://www.wikidata.org/entity/Q115'), ('name', 'Ethiopia'), ('runners', '28')]\n",
      "[('country', 'http://www.wikidata.org/entity/Q228'), ('name', 'Andorra'), ('runners', '1')]\n",
      "[('country', 'http://www.wikidata.org/entity/Q986'), ('name', 'Eritrea'), ('runners', '6')]\n",
      "[('country', 'http://www.wikidata.org/entity/Q424'), ('name', 'Cambodia'), ('runners', '1')]\n",
      "[('country', 'http://www.wikidata.org/entity/Q28'), ('name', 'Hungary'), ('runners', '2')]\n",
      "[('country', 'http://www.wikidata.org/entity/Q189'), ('name', 'Iceland'), ('runners', '1')]\n",
      "[('country', 'http://www.wikidata.org/entity/Q974'), ('name', 'Democratic Republic of the Congo'), ('runners', '2')]\n",
      "[('country', 'http://www.wikidata.org/entity/Q846'), ('name', 'Qatar'), ('runners', '3')]\n",
      "[('country', 'http://www.wikidata.org/entity/Q1020'), ('name', 'Malawi'), ('runners', '1')]\n",
      "[('country', 'http://www.wikidata.org/entity/Q241'), ('name', 'Cuba'), ('runners', '4')]\n",
      "[('country', 'http://www.wikidata.org/entity/Q865'), ('name', 'Taiwan'), ('runners', '2')]\n",
      "[('country', 'http://www.wikidata.org/entity/Q774'), ('name', 'Guatemala'), ('runners', '2')]\n",
      "[('country', 'http://www.wikidata.org/entity/Q114'), ('name', 'Kenya'), ('runners', '29')]\n",
      "[('country', 'http://www.wikidata.org/entity/Q232'), ('name', 'Kazakhstan'), ('runners', '1')]\n",
      "[('country', 'http://www.wikidata.org/entity/Q843'), ('name', 'Pakistan'), ('runners', '1')]\n",
      "[('country', 'http://www.wikidata.org/entity/Q924'), ('name', 'Tanzania'), ('runners', '9')]\n",
      "[('country', 'http://www.wikidata.org/entity/Q217'), ('name', 'Moldova'), ('runners', '6')]\n",
      "[('country', 'http://www.wikidata.org/entity/Q16'), ('name', 'Canada'), ('runners', '2')]\n",
      "[('country', 'http://www.wikidata.org/entity/Q963'), ('name', 'Botswana'), ('runners', '1')]\n",
      "[('country', 'http://www.wikidata.org/entity/Q419'), ('name', 'Peru'), ('runners', '6')]\n",
      "[('country', 'http://www.wikidata.org/entity/Q403'), ('name', 'Serbia'), ('runners', '3')]\n",
      "[('country', 'http://www.wikidata.org/entity/Q258'), ('name', 'South Africa'), ('runners', '6')]\n",
      "[('country', 'http://www.wikidata.org/entity/Q17'), ('name', 'Japan'), ('runners', '16')]\n",
      "[('country', 'http://www.wikidata.org/entity/Q414'), ('name', 'Argentina'), ('runners', '4')]\n",
      "[('country', 'http://www.wikidata.org/entity/Q41'), ('name', 'Greece'), ('runners', '3')]\n",
      "[('country', 'http://www.wikidata.org/entity/Q213'), ('name', 'Czech Republic'), ('runners', '2')]\n",
      "[('country', 'http://www.wikidata.org/entity/Q215'), ('name', 'Slovenia'), ('runners', '2')]\n",
      "[('country', 'http://www.wikidata.org/entity/Q148'), ('name', \"People's Republic of China\"), ('runners', '10')]\n",
      "[('country', 'http://www.wikidata.org/entity/Q183'), ('name', 'Germany'), ('runners', '5')]\n",
      "[('country', 'http://www.wikidata.org/entity/Q159'), ('name', 'Russia'), ('runners', '16')]\n",
      "[('country', 'http://www.wikidata.org/entity/Q298'), ('name', 'Chile'), ('runners', '2')]\n",
      "[('country', 'http://www.wikidata.org/entity/Q664'), ('name', 'New Zealand'), ('runners', '2')]\n",
      "[('country', 'http://www.wikidata.org/entity/Q29'), ('name', 'Spain'), ('runners', '10')]\n",
      "[('country', 'http://www.wikidata.org/entity/Q236'), ('name', 'Montenegro'), ('runners', '2')]\n",
      "[('country', 'http://www.wikidata.org/entity/Q34'), ('name', 'Sweden'), ('runners', '2')]\n",
      "[('country', 'http://www.wikidata.org/entity/Q668'), ('name', 'India'), ('runners', '1')]\n",
      "[('country', 'http://www.wikidata.org/entity/Q750'), ('name', 'Bolivia'), ('runners', '1')]\n",
      "[('country', 'http://www.wikidata.org/entity/Q145'), ('name', 'United Kingdom'), ('runners', '13')]\n",
      "[('country', 'http://www.wikidata.org/entity/Q214'), ('name', 'Slovakia'), ('runners', '1')]\n",
      "[('country', 'http://www.wikidata.org/entity/Q800'), ('name', 'Costa Rica'), ('runners', '2')]\n",
      "[('country', 'http://www.wikidata.org/entity/Q1036'), ('name', 'Uganda'), ('runners', '4')]\n",
      "[('country', 'http://www.wikidata.org/entity/Q39'), ('name', 'Switzerland'), ('runners', '2')]\n",
      "[('country', 'http://www.wikidata.org/entity/Q1045'), ('name', 'Somalia'), ('runners', '2')]\n",
      "[('country', 'http://www.wikidata.org/entity/Q736'), ('name', 'Ecuador'), ('runners', '5')]\n",
      "[('country', 'http://www.wikidata.org/entity/Q711'), ('name', 'Mongolia'), ('runners', '1')]\n",
      "[('country', 'http://www.wikidata.org/entity/Q83286'), ('name', 'Socialist Federal Republic of Yugoslavia'), ('runners', '2')]\n",
      "[('country', 'http://www.wikidata.org/entity/Q262'), ('name', 'Algeria'), ('runners', '3')]\n",
      "[('country', 'http://www.wikidata.org/entity/Q967'), ('name', 'Burundi'), ('runners', '2')]\n",
      "[('country', 'http://www.wikidata.org/entity/Q1013'), ('name', 'Lesotho'), ('runners', '4')]\n",
      "[('country', 'http://www.wikidata.org/entity/Q29999'), ('name', 'Kingdom of the Netherlands'), ('runners', '2')]\n",
      "[('country', 'http://www.wikidata.org/entity/Q191'), ('name', 'Estonia'), ('runners', '2')]\n",
      "[('country', 'http://www.wikidata.org/entity/Q184'), ('name', 'Belarus'), ('runners', '2')]\n",
      "[('country', 'http://www.wikidata.org/entity/Q30'), ('name', 'United States of America'), ('runners', '21')]\n",
      "[('country', 'http://www.wikidata.org/entity/Q739'), ('name', 'Colombia'), ('runners', '5')]\n",
      "[('country', 'http://www.wikidata.org/entity/Q33'), ('name', 'Finland'), ('runners', '3')]\n",
      "87\n"
     ]
    }
   ],
   "source": [
    "# get the number of runners grouped by their nationality\n",
    "queryString = \"\"\"\n",
    "SELECT ?country ?name COUNT(DISTINCT ?runner) AS ?runners\n",
    "WHERE { \n",
    "    VALUES ?edition {wd:Q8558 wd:Q8567 wd:Q8577 wd:Q8613}.\n",
    "    ?runner wdt:P106 wd:Q13382460;\n",
    "            wdt:P27 ?country;\n",
    "            wdt:P1344 ?edition.\n",
    "    ?country sc:name ?name.\n",
    "}\n",
    "GROUP BY ?country ?name\n",
    "\"\"\"\n",
    "\n",
    "print(\"Results\")\n",
    "x = run_query(queryString)"
   ]
  },
  {
   "cell_type": "code",
   "execution_count": 117,
   "id": "fc7bbfc8",
   "metadata": {},
   "outputs": [
    {
     "name": "stdout",
     "output_type": "stream",
     "text": [
      "The index of this workflow is: 0_2\n",
      "The path is /locale/data/jupyter/prando/notebook/2022/results/workflow0_2.json\n",
      "JSON object updated\n"
     ]
    }
   ],
   "source": [
    "objs = []\n",
    "for i in x:\n",
    "    f_uri = i[0][1]\n",
    "    f_name = i[1][1]\n",
    "    runners = i[2][1]\n",
    "    obj = {}\n",
    "    obj[\"refers_to\"] = f_uri\n",
    "    obj[\"refers_to_name\"] = f_name\n",
    "    obj[\"check\"] = \"value\"\n",
    "    obj[\"value\"]= runners\n",
    "    objs.append(obj)\n",
    "evaluation.add_result(evaluation.get_index_workflow(pt),\"6\", evaluation.TYPE_REFERRED ,\"value\", objs)"
   ]
  },
  {
   "cell_type": "markdown",
   "id": "1f935f5a-d9c0-4bf3-be51-89a2b14a671f",
   "metadata": {
    "tags": []
   },
   "source": [
    "## Task 7"
   ]
  },
  {
   "cell_type": "code",
   "execution_count": 6,
   "id": "254cb771-10b4-45af-b656-83c702b1ed10",
   "metadata": {},
   "outputs": [
    {
     "name": "stdout",
     "output_type": "stream",
     "text": [
      "Results\n",
      "[('pr', 'http://www.wikidata.org/prop/direct/P1000'), ('name', 'record held')]\n",
      "[('pr', 'http://www.wikidata.org/prop/direct/P106'), ('name', 'occupation')]\n",
      "[('pr', 'http://www.wikidata.org/prop/direct/P1146'), ('name', 'World Athletics athlete ID')]\n",
      "[('pr', 'http://www.wikidata.org/prop/direct/P1344'), ('name', 'participant in')]\n",
      "[('pr', 'http://www.wikidata.org/prop/direct/P1412'), ('name', 'languages spoken, written or signed')]\n",
      "[('pr', 'http://www.wikidata.org/prop/direct/P1447'), ('name', 'Sports-Reference.com Olympic athlete ID')]\n",
      "[('pr', 'http://www.wikidata.org/prop/direct/P1532'), ('name', 'country for sport')]\n",
      "[('pr', 'http://www.wikidata.org/prop/direct/P1559'), ('name', 'name in native language')]\n",
      "[('pr', 'http://www.wikidata.org/prop/direct/P172'), ('name', 'ethnic group')]\n",
      "[('pr', 'http://www.wikidata.org/prop/direct/P1741'), ('name', 'GTAA ID')]\n",
      "[('pr', 'http://www.wikidata.org/prop/direct/P18'), ('name', 'image')]\n",
      "[('pr', 'http://www.wikidata.org/prop/direct/P19'), ('name', 'place of birth')]\n",
      "[('pr', 'http://www.wikidata.org/prop/direct/P2002'), ('name', 'Twitter username')]\n",
      "[('pr', 'http://www.wikidata.org/prop/direct/P2003'), ('name', 'Instagram username')]\n",
      "[('pr', 'http://www.wikidata.org/prop/direct/P2013'), ('name', 'Facebook ID')]\n",
      "[('pr', 'http://www.wikidata.org/prop/direct/P2048'), ('name', 'height')]\n",
      "[('pr', 'http://www.wikidata.org/prop/direct/P2067'), ('name', 'mass')]\n",
      "[('pr', 'http://www.wikidata.org/prop/direct/P21'), ('name', 'sex or gender')]\n",
      "[('pr', 'http://www.wikidata.org/prop/direct/P214'), ('name', 'VIAF ID')]\n",
      "[('pr', 'http://www.wikidata.org/prop/direct/P227'), ('name', 'GND ID')]\n",
      "[('pr', 'http://www.wikidata.org/prop/direct/P2416'), ('name', 'sports discipline competed in')]\n",
      "[('pr', 'http://www.wikidata.org/prop/direct/P27'), ('name', 'country of citizenship')]\n",
      "[('pr', 'http://www.wikidata.org/prop/direct/P286'), ('name', 'head coach')]\n",
      "[('pr', 'http://www.wikidata.org/prop/direct/P31'), ('name', 'instance of')]\n",
      "[('pr', 'http://www.wikidata.org/prop/direct/P3171'), ('name', 'Olympic.org athlete ID (archived version)')]\n",
      "[('pr', 'http://www.wikidata.org/prop/direct/P3520'), ('name', 'databaseOlympics.com athlete ID')]\n",
      "[('pr', 'http://www.wikidata.org/prop/direct/P373'), ('name', 'Commons category')]\n",
      "[('pr', 'http://www.wikidata.org/prop/direct/P3765'), ('name', 'All-Athletics.com ID')]\n",
      "[('pr', 'http://www.wikidata.org/prop/direct/P3884'), ('name', 'Tilastopaja male athlete ID')]\n",
      "[('pr', 'http://www.wikidata.org/prop/direct/P3923'), ('name', 'Diamond League athlete ID')]\n",
      "[('pr', 'http://www.wikidata.org/prop/direct/P3925'), ('name', 'Track and Field Statistics male athlete ID')]\n",
      "[('pr', 'http://www.wikidata.org/prop/direct/P4548'), ('name', 'Commonwealth Games Federation athlete ID')]\n",
      "[('pr', 'http://www.wikidata.org/prop/direct/P569'), ('name', 'date of birth')]\n",
      "[('pr', 'http://www.wikidata.org/prop/direct/P5815'), ('name', 'Olympics.com athlete ID')]\n",
      "[('pr', 'http://www.wikidata.org/prop/direct/P641'), ('name', 'sport')]\n",
      "[('pr', 'http://www.wikidata.org/prop/direct/P646'), ('name', 'Freebase ID')]\n",
      "[('pr', 'http://www.wikidata.org/prop/direct/P7293'), ('name', 'PLWABN ID')]\n",
      "[('pr', 'http://www.wikidata.org/prop/direct/P734'), ('name', 'family name')]\n",
      "[('pr', 'http://www.wikidata.org/prop/direct/P735'), ('name', 'given name')]\n",
      "[('pr', 'http://www.wikidata.org/prop/direct/P7859'), ('name', 'WorldCat Identities ID')]\n",
      "[('pr', 'http://www.wikidata.org/prop/direct/P8286'), ('name', 'Olympedia people ID')]\n",
      "[('pr', 'http://www.wikidata.org/prop/direct/P8687'), ('name', 'social media followers')]\n",
      "[('pr', 'http://www.wikidata.org/prop/direct/P2415'), ('name', 'personal best')]\n",
      "43\n"
     ]
    }
   ],
   "source": [
    "# starting from Eliud Kipchoge I look at his properties\n",
    "queryString = \"\"\"\n",
    "SELECT DISTINCT ?pr ?name\n",
    "WHERE { \n",
    "    wd:Q9124 ?pr ?obj.\n",
    "    ?pr sc:name ?name .\n",
    "}\n",
    "\"\"\"\n",
    "\n",
    "print(\"Results\")\n",
    "x = run_query(queryString)"
   ]
  },
  {
   "cell_type": "code",
   "execution_count": 10,
   "id": "ba3f1998-4843-4b42-be3a-3843b4294bfb",
   "metadata": {},
   "outputs": [
    {
     "name": "stdout",
     "output_type": "stream",
     "text": [
      "Results\n",
      "[('obj', 'http://www.wikidata.org/entity/Q929585'), ('name', 'Marathon world record progression')]\n",
      "1\n"
     ]
    }
   ],
   "source": [
    "# starting from Eliud Kipchoge I look at his properties\n",
    "queryString = \"\"\"\n",
    "SELECT DISTINCT ?obj ?name\n",
    "WHERE { \n",
    "    wd:Q9124 wdt:P1000 ?obj.\n",
    "    ?obj sc:name ?name .\n",
    "}\n",
    "\"\"\"\n",
    "\n",
    "print(\"Results\")\n",
    "x = run_query(queryString)"
   ]
  },
  {
   "cell_type": "code",
   "execution_count": null,
   "id": "bd4d7c76-3fe1-4b74-970b-a4e7e7ae7533",
   "metadata": {},
   "outputs": [],
   "source": []
  }
 ],
 "metadata": {
  "kernelspec": {
   "display_name": "Python 3 (ipykernel)",
   "language": "python",
   "name": "python3"
  },
  "language_info": {
   "codemirror_mode": {
    "name": "ipython",
    "version": 3
   },
   "file_extension": ".py",
   "mimetype": "text/x-python",
   "name": "python",
   "nbconvert_exporter": "python",
   "pygments_lexer": "ipython3",
   "version": "3.10.6"
  }
 },
 "nbformat": 4,
 "nbformat_minor": 5
}
