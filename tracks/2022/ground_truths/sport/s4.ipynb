{
 "cells": [
  {
   "cell_type": "markdown",
   "id": "7034c3bf-6eb0-4418-8687-7b9d2a501103",
   "metadata": {},
   "source": [
    "# General instructions\n",
    "\n",
    "The goal of the project is to materialize a set of **exploratory workloads** over a real-world, large-scale,  open-domain KG: [WikiData](https://www.wikidata.org/wiki/Wikidata:Main_Page)\n",
    "\n",
    "An exploratory workload  is composed by a set of queries, where each query is related to the information obtained previously.\n",
    "\n",
    "An exploratory workload starts with a usually vague, open ended question, and does not assume the person issuing the workload has a clear understanding of the data contained in the target database or its structure.\n",
    "\n",
    "Remeber that:\n",
    "\n",
    "1. All the queries must run in the python notebook\n",
    "2. You can use classes and properties only if you find them via a SPARQL query that must be present in the notebook\n",
    "3. You do not delete useless queries. Keep everything that is synthatically valid \n",
    "\n",
    "```\n",
    "?p <http://schema.org/name> ?name .\n",
    "```\n",
    "    \n",
    "    is the BGP returning a human-readable name of a property or a class in Wikidata."
   ]
  },
  {
   "cell_type": "code",
   "execution_count": 1,
   "id": "3605c9d5-5371-49a5-be8d-d66e8f417139",
   "metadata": {},
   "outputs": [],
   "source": [
    "## SETUP used later\n",
    "import sys\n",
    "import os\n",
    "import json\n",
    "import pandas as pd\n",
    "sys.path.insert(1, '../../../../src/')\n",
    "import gt_modules.evaluation as evaluation\n",
    "from SPARQLWrapper import SPARQLWrapper, JSON\n",
    "\n",
    "\n",
    "prefixString = \"\"\"\n",
    "##-sport4-##\n",
    "PREFIX wd: <http://www.wikidata.org/entity/> \n",
    "PREFIX wdt: <http://www.wikidata.org/prop/direct/> \n",
    "PREFIX sc: <http://schema.org/>\n",
    "\"\"\"\n",
    "\n",
    "# select and construct queries\n",
    "def run_query(queryString,verbose = True):\n",
    "    to_run = prefixString + \"\\n\" + queryString\n",
    "\n",
    "    sparql = SPARQLWrapper(\"http://gracevirtuoso.dei.unipd.it/sparql\")\n",
    "    sparql.setTimeout(300)\n",
    "    sparql.setReturnFormat(JSON)\n",
    "    sparql.setQuery(to_run)\n",
    "\n",
    "    try :\n",
    "        results = sparql.query()\n",
    "        json_results = results.convert()\n",
    "        if len(json_results['results']['bindings'])==0:\n",
    "            print(\"Empty\")\n",
    "            return []\n",
    "        array = []\n",
    "        for bindings in json_results['results']['bindings']:\n",
    "            app =  [ (var, value['value'])  for var, value in bindings.items() ] \n",
    "            if verbose:\n",
    "                print( app)\n",
    "            array.append(app)\n",
    "        if verbose:\n",
    "            print(len(array))\n",
    "        return array\n",
    "\n",
    "    except Exception as e :\n",
    "        print(\"The operation failed\", e)\n",
    "    \n",
    "# ASk queries\n",
    "def run_ask_query(queryString):\n",
    "    to_run = prefixString + \"\\n\" + queryString\n",
    "\n",
    "    sparql = SPARQLWrapper(\"http://gracevirtuoso.dei.unipd.it/sparql\")\n",
    "    sparql.setTimeout(300)\n",
    "    sparql.setReturnFormat(JSON)\n",
    "    sparql.setQuery(to_run)\n",
    "\n",
    "    try :\n",
    "        return sparql.query().convert()\n",
    "\n",
    "    except Exception as e :\n",
    "        print(\"The operation failed\", e)"
   ]
  },
  {
   "cell_type": "markdown",
   "id": "d477a59c-a68c-4c8f-9f97-8ca5294d7d27",
   "metadata": {},
   "source": [
    "# Sport Workflow Series (Tennis explorative search\") \n",
    "\n",
    "Consider the following exploratory information need:\n",
    "\n",
    "> investigate tennis and find the main BGPs related to this sport. Compare players per countries, awards of the players and tournament."
   ]
  },
  {
   "cell_type": "markdown",
   "id": "4a45c0ba-f79e-441d-bec5-84401b09db70",
   "metadata": {},
   "source": [
    "## Useful URIs for the current workflow\n",
    "The following are given:\n",
    "\n",
    "| IRI           | Description   | Role      |\n",
    "| -----------   | -----------   |-----------|\n",
    "| `wdt:P1647`   | subproperty   | predicate |\n",
    "| `wdt:P31`     | instance of   | predicate |\n",
    "| `wdt:P106`    | profession    | predicate | \n",
    "| `wdt:P279`    | subclass      | predicate |\n",
    "| `wdt:P27`     | nationality   | predicate |\n",
    "| `wd:Q5`| Human       | node |\n",
    "| `wd:Q1426`| Roger Federer       | node |\n",
    "| `wd:Q11459`| Serena Williams       | node |\n"
   ]
  },
  {
   "cell_type": "markdown",
   "id": "7af439fb-96e4-4dbb-a381-f19afab79f86",
   "metadata": {
    "tags": []
   },
   "source": [
    "\n",
    "\n",
    "\n",
    "Also consider\n",
    "\n",
    "```\n",
    "wd:Q1426 ?p ?obj .\n",
    "```\n",
    "\n",
    "is the BGP to retrieve all **properties of Roger Federer**\n",
    "\n",
    "Please consider that when you return a resource, you should return the IRI and the label of the resource. In particular, when the task require you to identify a BGP the result set must always be a list of couples IRI - label.\n",
    "\n",
    "\n",
    "\n",
    "The workload should:\n",
    "\n",
    "\n",
    "1. Identify the BGP for tennis player\n",
    "\n",
    "2. Identify the BGP for tennis tournament\n",
    "\n",
    "3. Return the four Grand Slam of tennis (hint: One of these four is Wimbledon) (the result set must be a list of four couples Grand Slam IRI and label).\n",
    "\n",
    "4. Find the three different type of possible surfaces in a tennis court (the result set must be a list of three couples surface IRI and label).\n",
    "\n",
    "5. Return the tournaments played in the 2018 Wimbledon Championships edition with the related winners (hint: men and women do not play together, there are two distinct tournament ) (the result set must be a list of elements with tournament IRI and label, and winner IRI and label).\n",
    "\n",
    "6. Consider the tennis players born after 1975, return who won more Grand Slams and cut the result to the top-10 (the result set must be a list of triples player IRI, label and #victories).\n",
    "\n",
    "7. Consider the country for sport property of the tennis player (NO Country of citizenship). Return the countries with at least one player who won at least one edition of each Grand Slam (the result set must be a list of country IRI and label).\n",
    "\n",
    "8. Consider the country for sport property of the tennis player (NO Country of citizenship). Return the countries with at least one player who was ranked 1 in the tennis ranking  (the result set must be a list of country IRI and label)."
   ]
  },
  {
   "cell_type": "code",
   "execution_count": 11,
   "id": "a7c49502",
   "metadata": {},
   "outputs": [
    {
     "name": "stdout",
     "output_type": "stream",
     "text": [
      "The index of this workflow is: 0_4\n"
     ]
    }
   ],
   "source": [
    "## startup the evaluation\n",
    "# setup the file and create the empty json\n",
    "ipname = \"s4.ipynb\"\n",
    "pt = os.getcwd()+os.sep+ipname\n",
    "evaluation.setup(pt)"
   ]
  },
  {
   "cell_type": "markdown",
   "id": "4be4a371-a6c0-4616-92b6-5fd6f8c1c24f",
   "metadata": {
    "tags": []
   },
   "source": [
    "## Task 1 \n",
    "Identify the BGP for tennis player"
   ]
  },
  {
   "cell_type": "code",
   "execution_count": 12,
   "id": "06c2b5e5-bc7b-404a-8fc7-31d6ca118da5",
   "metadata": {
    "tags": []
   },
   "outputs": [
    {
     "name": "stdout",
     "output_type": "stream",
     "text": [
      "Results\n",
      "Empty\n"
     ]
    }
   ],
   "source": [
    "# starting from Roger Federer I look at his properties\n",
    "queryString = \"\"\"\n",
    "SELECT DISTINCT ?pr ?name\n",
    "WHERE { \n",
    "    wd:Q1426 ?pr ?obj.\n",
    "    ?pr sc:name ?name .\n",
    "}\n",
    "\"\"\"\n",
    "\n",
    "print(\"Results\")\n",
    "x = run_query(queryString)"
   ]
  },
  {
   "cell_type": "code",
   "execution_count": 13,
   "id": "dc3656bb-057e-4135-9c94-7472f564cb52",
   "metadata": {},
   "outputs": [
    {
     "name": "stdout",
     "output_type": "stream",
     "text": [
      "Results\n",
      "[('obj', 'http://www.wikidata.org/entity/Q10833314'), ('name', 'tennis player')]\n",
      "1\n"
     ]
    }
   ],
   "source": [
    "# starting from Roger Federer I look at his occupations\n",
    "queryString = \"\"\"\n",
    "SELECT DISTINCT ?obj ?name\n",
    "WHERE { \n",
    "    wd:Q1426 wdt:P106 ?obj.\n",
    "    ?obj sc:name ?name .\n",
    "} \n",
    "LIMIT 100\n",
    "\"\"\"\n",
    "\n",
    "print(\"Results\")\n",
    "x = run_query(queryString)"
   ]
  },
  {
   "cell_type": "code",
   "execution_count": 14,
   "id": "b36a933c",
   "metadata": {},
   "outputs": [
    {
     "name": "stdout",
     "output_type": "stream",
     "text": [
      "The index of this workflow is: 0_4\n",
      "The path is /locale/data/jupyter/prando/notebook/2022/results/workflow0_4.json\n",
      "JSON object updated\n"
     ]
    }
   ],
   "source": [
    "### insert the result of TASK 1 in the file\n",
    "og_uri = \"http://www.wikidata.org/entity/Q10833314'\"\n",
    "og_name = \"tennis player\"\n",
    "obj = {\"uri\":og_uri,\"name\":og_name}\n",
    "evaluation.add_result(evaluation.get_index_workflow(pt),\"1\", evaluation.TYPE_SINGLE ,\"uri\", [obj] ,\"all\")"
   ]
  },
  {
   "cell_type": "markdown",
   "id": "6a19292f-ec50-4a61-8150-d7d397ad1b38",
   "metadata": {},
   "source": [
    "`wd:Q10833314` is the node of the tennis player in wikidata"
   ]
  },
  {
   "cell_type": "markdown",
   "id": "2e596872-c846-4324-bba4-fbf18b4862a3",
   "metadata": {
    "tags": []
   },
   "source": [
    "## Task 2\n",
    "Identify the BGP for tennis tournament"
   ]
  },
  {
   "cell_type": "code",
   "execution_count": 16,
   "id": "a407cae6-7ffd-4070-95b0-e44806d9198a",
   "metadata": {},
   "outputs": [
    {
     "name": "stdout",
     "output_type": "stream",
     "text": [
      "Results\n",
      "[('x', 'http://www.wikidata.org/entity/Q753300'), ('name', \"2012 Wimbledon Championships – Gentlemen's Singles\")]\n",
      "[('x', 'http://www.wikidata.org/entity/Q757054'), ('name', \"tennis at the 2008 Summer Olympics – men's doubles\")]\n",
      "[('x', 'http://www.wikidata.org/entity/Q1074654'), ('name', \"2006 Wimbledon Championships – Men's Singles\")]\n",
      "[('x', 'http://www.wikidata.org/entity/Q384929'), ('name', \"2005 Wimbledon Championships – Men's Singles\")]\n",
      "[('x', 'http://www.wikidata.org/entity/Q782420'), ('name', \"2006 Australian Open – Men's Singles\")]\n",
      "[('x', 'http://www.wikidata.org/entity/Q612597'), ('name', '2007 Tennis Masters Cup')]\n",
      "[('x', 'http://www.wikidata.org/entity/Q300024'), ('name', '2011 ATP World Tour Finals')]\n",
      "[('x', 'http://www.wikidata.org/entity/Q14916861'), ('name', '2014 Davis Cup')]\n",
      "[('x', 'http://www.wikidata.org/entity/Q782589'), ('name', \"2010 Australian Open – Men's Singles\")]\n",
      "[('x', 'http://www.wikidata.org/entity/Q22956224'), ('name', \"2017 Australian Open – Men's Singles\")]\n",
      "[('x', 'http://www.wikidata.org/entity/Q46993124'), ('name', \"2018 Australian Open – Men's Singles\")]\n",
      "[('x', 'http://www.wikidata.org/entity/Q1048953'), ('name', \"2004 US Open – Men's Singles\")]\n",
      "[('x', 'http://www.wikidata.org/entity/Q731509'), ('name', \"2005 US Open – Men's Singles\")]\n",
      "[('x', 'http://www.wikidata.org/entity/Q741573'), ('name', \"2009 French Open – Men's Singles\")]\n",
      "[('x', 'http://www.wikidata.org/entity/Q912506'), ('name', \"2006 US Open – Men's Singles\")]\n",
      "[('x', 'http://www.wikidata.org/entity/Q964291'), ('name', '2006 Tennis Masters Cup')]\n",
      "[('x', 'http://www.wikidata.org/entity/Q25344123'), ('name', \"2017 Wimbledon Championships – Men's Singles\")]\n",
      "[('x', 'http://www.wikidata.org/entity/Q300022'), ('name', '2010 ATP World Tour Finals')]\n",
      "[('x', 'http://www.wikidata.org/entity/Q751798'), ('name', \"2009 Wimbledon Championships – Men's Singles\")]\n",
      "[('x', 'http://www.wikidata.org/entity/Q248965'), ('name', \"2004 Wimbledon Championships – Men's Singles\")]\n",
      "[('x', 'http://www.wikidata.org/entity/Q378627'), ('name', \"2003 Wimbledon Championships – Men's Singles\")]\n",
      "[('x', 'http://www.wikidata.org/entity/Q912483'), ('name', \"2007 Wimbledon Championships – Men's Singles\")]\n",
      "[('x', 'http://www.wikidata.org/entity/Q2478340'), ('name', '2011 BNP Paribas Masters – singles')]\n",
      "[('x', 'http://www.wikidata.org/entity/Q782451'), ('name', \"2007 Australian Open – Men's Singles\")]\n",
      "[('x', 'http://www.wikidata.org/entity/Q2031910'), ('name', '2003 Tennis Masters Cup')]\n",
      "[('x', 'http://www.wikidata.org/entity/Q2094307'), ('name', '2004 Tennis Masters Cup')]\n",
      "[('x', 'http://www.wikidata.org/entity/Q304072'), ('name', \"2008 US Open – Men's Singles\")]\n",
      "[('x', 'http://www.wikidata.org/entity/Q836815'), ('name', \"2007 US Open – Men's Singles\")]\n",
      "[('x', 'http://www.wikidata.org/entity/Q779654'), ('name', \"2004 Australian Open - men's singles\")]\n",
      "29\n"
     ]
    }
   ],
   "source": [
    "# in the first query I found P2522 that is victory. Use it and explore\n",
    "queryString = \"\"\"\n",
    "SELECT DISTINCT ?x ?name\n",
    "WHERE { \n",
    "    wd:Q1426 wdt:P2522 ?x .\n",
    "    ?x <http://schema.org/name> ?name .\n",
    "}\n",
    "\"\"\"\n",
    "\n",
    "print(\"Results\")\n",
    "x= run_query(queryString)"
   ]
  },
  {
   "cell_type": "code",
   "execution_count": 17,
   "id": "920a7953-a658-4eb1-ae23-83e1b1cb5dd6",
   "metadata": {},
   "outputs": [
    {
     "name": "stdout",
     "output_type": "stream",
     "text": [
      "Results\n",
      "[('inst', 'http://www.wikidata.org/entity/Q18536594'), ('name', 'Olympic sporting event')]\n",
      "[('inst', 'http://www.wikidata.org/entity/Q27020041'), ('name', 'sports season')]\n",
      "[('inst', 'http://www.wikidata.org/entity/Q46190676'), ('name', 'tennis event')]\n",
      "[('inst', 'http://www.wikidata.org/entity/Q47345468'), ('name', 'tennis tournament edition')]\n",
      "[('inst', 'http://www.wikidata.org/entity/Q270907'), ('name', 'ATP Finals')]\n",
      "5\n"
     ]
    }
   ],
   "source": [
    "# look for the instance of the results found above\n",
    "queryString = \"\"\"\n",
    "SELECT DISTINCT ?inst ?name\n",
    "WHERE { \n",
    "    wd:Q1426 wdt:P2522 ?x .\n",
    "    ?x wdt:P31 ?inst.  \n",
    "    ?inst <http://schema.org/name> ?name .\n",
    "}\n",
    "\"\"\"\n",
    "\n",
    "print(\"Results\")\n",
    "x= run_query(queryString)"
   ]
  },
  {
   "cell_type": "code",
   "execution_count": 18,
   "id": "809fc9cf-2f5c-443a-976c-4b353a73529e",
   "metadata": {},
   "outputs": [
    {
     "name": "stdout",
     "output_type": "stream",
     "text": [
      "Results\n",
      "[('inst', 'http://www.wikidata.org/entity/Q13406554'), ('name', 'sports competition')]\n",
      "[('inst', 'http://www.wikidata.org/entity/Q18608583'), ('name', 'recurring sporting event')]\n",
      "[('inst', 'http://www.wikidata.org/entity/Q27020041'), ('name', 'sports season')]\n",
      "[('inst', 'http://www.wikidata.org/entity/Q27968055'), ('name', 'recurrent event edition')]\n",
      "[('inst', 'http://www.wikidata.org/entity/Q16510064'), ('name', 'sporting event')]\n",
      "[('inst', 'http://www.wikidata.org/entity/Q12826913'), ('name', 'season')]\n",
      "[('inst', 'http://www.wikidata.org/entity/Q23807345'), ('name', 'competition')]\n",
      "[('inst', 'http://www.wikidata.org/entity/Q26863790'), ('name', 'ATP tennis tournament')]\n",
      "8\n"
     ]
    }
   ],
   "source": [
    "# look for the instance of the results found above\n",
    "queryString = \"\"\"\n",
    "SELECT DISTINCT ?inst ?name\n",
    "WHERE { \n",
    "    wd:Q1426 wdt:P2522 ?x .\n",
    "    ?x wdt:P31/wdt:P279 ?inst.  \n",
    "    ?inst <http://schema.org/name> ?name .\n",
    "}\n",
    "\"\"\"\n",
    "\n",
    "print(\"Results\")\n",
    "x= run_query(queryString)"
   ]
  },
  {
   "cell_type": "code",
   "execution_count": 19,
   "id": "796ee9a2-7dec-4bd4-8b7b-646848a57277",
   "metadata": {},
   "outputs": [
    {
     "name": "stdout",
     "output_type": "stream",
     "text": [
      "Results\n",
      "[('x', 'http://www.wikidata.org/entity/Q13219666'), ('name', 'tennis tournament')]\n",
      "1\n"
     ]
    }
   ],
   "source": [
    "# look for the superclass of the class of ATP tennis tournament edition Q26863790\n",
    "queryString = \"\"\"\n",
    "SELECT DISTINCT ?x ?name\n",
    "WHERE { \n",
    "    wd:Q26863790 wdt:P279 ?x .\n",
    "    ?x <http://schema.org/name> ?name .\n",
    "}\n",
    "\"\"\"\n",
    "\n",
    "print(\"Results\")\n",
    "x= run_query(queryString)"
   ]
  },
  {
   "cell_type": "code",
   "execution_count": 15,
   "id": "0a7c3a65",
   "metadata": {},
   "outputs": [
    {
     "name": "stdout",
     "output_type": "stream",
     "text": [
      "The index of this workflow is: 0_4\n",
      "The path is /locale/data/jupyter/prando/notebook/2022/results/workflow0_4.json\n",
      "JSON object updated\n"
     ]
    }
   ],
   "source": [
    "### insert the result of TASK 1 in the file\n",
    "og_uri = \"http://www.wikidata.org/entity/Q13219666'\"\n",
    "og_name = \"tennis tournamente\"\n",
    "obj = {\"uri\":og_uri,\"name\":og_name}\n",
    "evaluation.add_result(evaluation.get_index_workflow(pt),\"2\", evaluation.TYPE_SINGLE ,\"uri\", [obj] ,\"all\")"
   ]
  },
  {
   "cell_type": "markdown",
   "id": "0c52bdff-0bf0-4db0-adb3-e1a4a2190c19",
   "metadata": {},
   "source": [
    "`wd:Q13219666` is the node of the tennis tournament in wikidata"
   ]
  },
  {
   "cell_type": "markdown",
   "id": "8b06e178-c189-4043-ae8b-0b8d5b0947fb",
   "metadata": {
    "tags": []
   },
   "source": [
    "## Task 3 \n",
    "Identify the four Grand Slam of tennis (TIP: One of these four is Wimbledon)"
   ]
  },
  {
   "cell_type": "code",
   "execution_count": 8,
   "id": "b6bb90d6-e900-4920-8789-e4309a0d8ce5",
   "metadata": {},
   "outputs": [
    {
     "name": "stdout",
     "output_type": "stream",
     "text": [
      "Results\n",
      "[('x', 'http://www.wikidata.org/entity/Q268871'), ('name', '2004 Wimbledon Championships')]\n",
      "[('x', 'http://www.wikidata.org/entity/Q173961'), ('name', '1978 Wimbledon Championships')]\n",
      "[('x', 'http://www.wikidata.org/entity/Q925026'), ('name', '1971 Wimbledon Championships')]\n",
      "[('x', 'http://www.wikidata.org/entity/Q15854765'), ('name', '2014 Wimbledon Championships')]\n",
      "[('x', 'http://www.wikidata.org/entity/Q30085309'), ('name', '2018 Wimbledon Championships')]\n",
      "[('x', 'http://www.wikidata.org/entity/Q745901'), ('name', '1974 Wimbledon Championships')]\n",
      "[('x', 'http://www.wikidata.org/entity/Q655368'), ('name', '1955 Wimbledon Championships')]\n",
      "[('x', 'http://www.wikidata.org/entity/Q655378'), ('name', '1956 Wimbledon Championships')]\n",
      "[('x', 'http://www.wikidata.org/entity/Q657950'), ('name', '1957 Wimbledon Championships')]\n",
      "[('x', 'http://www.wikidata.org/entity/Q657962'), ('name', '1958 Wimbledon Championships')]\n",
      "[('x', 'http://www.wikidata.org/entity/Q2296335'), ('name', '1881 Wimbledon Championship')]\n",
      "[('x', 'http://www.wikidata.org/entity/Q2297185'), ('name', '1882 Wimbledon Championship')]\n",
      "[('x', 'http://www.wikidata.org/entity/Q522860'), ('name', '1883 Wimbledon Championship')]\n",
      "[('x', 'http://www.wikidata.org/entity/Q20127632'), ('name', '2016 Wimbledon Championships')]\n",
      "[('x', 'http://www.wikidata.org/entity/Q934978'), ('name', '1988 Wimbledon Championships')]\n",
      "[('x', 'http://www.wikidata.org/entity/Q388312'), ('name', '2008 Wimbledon Championships')]\n",
      "[('x', 'http://www.wikidata.org/entity/Q1049018'), ('name', '1980 Wimbledon Championships')]\n",
      "[('x', 'http://www.wikidata.org/entity/Q404337'), ('name', '1929 Wimbledon Championships')]\n",
      "[('x', 'http://www.wikidata.org/entity/Q404437'), ('name', '1930 Wimbledon Championships')]\n",
      "[('x', 'http://www.wikidata.org/entity/Q404791'), ('name', '1933 Wimbledon Championships')]\n",
      "[('x', 'http://www.wikidata.org/entity/Q855690'), ('name', '1968 Wimbledon Championships')]\n",
      "[('x', 'http://www.wikidata.org/entity/Q577138'), ('name', '1954 Wimbledon Championships')]\n",
      "[('x', 'http://www.wikidata.org/entity/Q244370'), ('name', '2009 Wimbledon Championships')]\n",
      "[('x', 'http://www.wikidata.org/entity/Q18410121'), ('name', '2015 Wimbledon Championships')]\n",
      "[('x', 'http://www.wikidata.org/entity/Q2121893'), ('name', '1903 Wimbledon Championships')]\n",
      "[('x', 'http://www.wikidata.org/entity/Q476638'), ('name', '2010 Wimbledon Championships')]\n",
      "[('x', 'http://www.wikidata.org/entity/Q740252'), ('name', '1976 Wimbledon Championships')]\n",
      "[('x', 'http://www.wikidata.org/entity/Q911804'), ('name', '1969 Wimbledon Championships')]\n",
      "[('x', 'http://www.wikidata.org/entity/Q925733'), ('name', '1970 Wimbledon Championships')]\n",
      "[('x', 'http://www.wikidata.org/entity/Q2120586'), ('name', '1899 Wimbledon Championships')]\n",
      "[('x', 'http://www.wikidata.org/entity/Q2120595'), ('name', '1911 Wimbledon Championships')]\n",
      "[('x', 'http://www.wikidata.org/entity/Q501879'), ('name', '1946 Wimbledon Championships')]\n",
      "[('x', 'http://www.wikidata.org/entity/Q2119702'), ('name', '1910 Wimbledon Championships')]\n",
      "[('x', 'http://www.wikidata.org/entity/Q2119706'), ('name', '1898 Wimbledon Championships')]\n",
      "[('x', 'http://www.wikidata.org/entity/Q2119719'), ('name', '1908 Wimbledon Championships')]\n",
      "[('x', 'http://www.wikidata.org/entity/Q2119732'), ('name', '1901 Wimbledon Championships')]\n",
      "[('x', 'http://www.wikidata.org/entity/Q2120599'), ('name', '1909 Wimbledon Championships')]\n",
      "[('x', 'http://www.wikidata.org/entity/Q2121907'), ('name', '1900 Wimbledon Championships')]\n",
      "[('x', 'http://www.wikidata.org/entity/Q1048601'), ('name', '1981 Wimbledon Championships')]\n",
      "[('x', 'http://www.wikidata.org/entity/Q1281192'), ('name', '1905 Wimbledon Championships')]\n",
      "[('x', 'http://www.wikidata.org/entity/Q1399137'), ('name', '1897 Wimbledon Championships')]\n",
      "[('x', 'http://www.wikidata.org/entity/Q1737828'), ('name', '1890 Wimbledon Championships')]\n",
      "[('x', 'http://www.wikidata.org/entity/Q337130'), ('name', '1927 Wimbledon Championships')]\n",
      "[('x', 'http://www.wikidata.org/entity/Q337138'), ('name', '1928 Wimbledon Championships')]\n",
      "[('x', 'http://www.wikidata.org/entity/Q383872'), ('name', '1985 Wimbledon Championships')]\n",
      "[('x', 'http://www.wikidata.org/entity/Q423283'), ('name', '1935 Wimbledon Championships')]\n",
      "[('x', 'http://www.wikidata.org/entity/Q536733'), ('name', '1975 Wimbledon Championships')]\n",
      "[('x', 'http://www.wikidata.org/entity/Q683224'), ('name', '1984 Wimbledon Championships')]\n",
      "[('x', 'http://www.wikidata.org/entity/Q245073'), ('name', '2011 Wimbledon Championships')]\n",
      "[('x', 'http://www.wikidata.org/entity/Q289587'), ('name', '2012 Wimbledon Championships')]\n",
      "[('x', 'http://www.wikidata.org/entity/Q525952'), ('name', '1992 Wimbledon Championships')]\n",
      "[('x', 'http://www.wikidata.org/entity/Q559726'), ('name', '2013 Wimbledon Championships')]\n",
      "[('x', 'http://www.wikidata.org/entity/Q658771'), ('name', '1977 Wimbledon Championships')]\n",
      "[('x', 'http://www.wikidata.org/entity/Q912527'), ('name', '2001 Wimbledon Championships')]\n",
      "[('x', 'http://www.wikidata.org/entity/Q241184'), ('name', '2006 Wimbledon Championships')]\n",
      "[('x', 'http://www.wikidata.org/entity/Q521328'), ('name', '1973 Wimbledon Championships')]\n",
      "[('x', 'http://www.wikidata.org/entity/Q780070'), ('name', '1991 Wimbledon Championships')]\n",
      "[('x', 'http://www.wikidata.org/entity/Q856533'), ('name', '1994 Wimbledon Championships')]\n",
      "[('x', 'http://www.wikidata.org/entity/Q726549'), ('name', '1879 Wimbledon Championship')]\n",
      "[('x', 'http://www.wikidata.org/entity/Q1049052'), ('name', '1972 Wimbledon Championships')]\n",
      "[('x', 'http://www.wikidata.org/entity/Q647980'), ('name', '1939 Wimbledon Championships')]\n",
      "[('x', 'http://www.wikidata.org/entity/Q180151'), ('name', '1990 Wimbledon Championships')]\n",
      "[('x', 'http://www.wikidata.org/entity/Q613346'), ('name', '1950 Wimbledon Championships')]\n",
      "[('x', 'http://www.wikidata.org/entity/Q278548'), ('name', '1993 Wimbledon Championships')]\n",
      "[('x', 'http://www.wikidata.org/entity/Q746669'), ('name', '2007 Wimbledon Championships')]\n",
      "[('x', 'http://www.wikidata.org/entity/Q808721'), ('name', '1961 Wimbledon Championships')]\n",
      "[('x', 'http://www.wikidata.org/entity/Q867067'), ('name', '1962 Wimbledon Championships')]\n",
      "[('x', 'http://www.wikidata.org/entity/Q977440'), ('name', '1963 Wimbledon Championships')]\n",
      "[('x', 'http://www.wikidata.org/entity/Q1644372'), ('name', '1906 Wimbledon Championships')]\n",
      "[('x', 'http://www.wikidata.org/entity/Q727406'), ('name', '1999 Wimbledon Championships')]\n",
      "[('x', 'http://www.wikidata.org/entity/Q1049039'), ('name', '1979 Wimbledon Championships')]\n",
      "[('x', 'http://www.wikidata.org/entity/Q799308'), ('name', '1960 Wimbledon Championships')]\n",
      "[('x', 'http://www.wikidata.org/entity/Q576785'), ('name', '1952 Wimbledon Championships')]\n",
      "[('x', 'http://www.wikidata.org/entity/Q1728917'), ('name', '1920 Wimbledon Championships')]\n",
      "[('x', 'http://www.wikidata.org/entity/Q2119696'), ('name', '1914 Wimbledon Championships')]\n",
      "[('x', 'http://www.wikidata.org/entity/Q2120562'), ('name', '1895 Wimbledon Championships')]\n",
      "[('x', 'http://www.wikidata.org/entity/Q212073'), ('name', '1924 Wimbledon Championships')]\n",
      "[('x', 'http://www.wikidata.org/entity/Q2306362'), ('name', '1966 Wimbledon Championships')]\n",
      "[('x', 'http://www.wikidata.org/entity/Q501884'), ('name', '1947 Wimbledon Championships')]\n",
      "[('x', 'http://www.wikidata.org/entity/Q577168'), ('name', '1953 Wimbledon Championships')]\n",
      "[('x', 'http://www.wikidata.org/entity/Q612679'), ('name', '1949 Wimbledon Championships')]\n",
      "[('x', 'http://www.wikidata.org/entity/Q8023526'), ('name', 'Wimbledon Pro')]\n",
      "[('x', 'http://www.wikidata.org/entity/Q502011'), ('name', '1948 Wimbledon Championships')]\n",
      "[('x', 'http://www.wikidata.org/entity/Q613356'), ('name', '1951 Wimbledon Championships')]\n",
      "[('x', 'http://www.wikidata.org/entity/Q25344121'), ('name', '2017 Wimbledon Championships')]\n",
      "[('x', 'http://www.wikidata.org/entity/Q912497'), ('name', '1997 Wimbledon Championships')]\n",
      "[('x', 'http://www.wikidata.org/entity/Q423276'), ('name', '1938 Wimbledon Championships')]\n",
      "[('x', 'http://www.wikidata.org/entity/Q653092'), ('name', '1896 Wimbledon Championships')]\n",
      "[('x', 'http://www.wikidata.org/entity/Q912491'), ('name', '2000 Wimbledon Championships')]\n",
      "[('x', 'http://www.wikidata.org/entity/Q54093953'), ('name', '2019 Wimbledon Championships')]\n",
      "[('x', 'http://www.wikidata.org/entity/Q92032430'), ('name', '2021 Wimbledon Championships')]\n",
      "[('x', 'http://www.wikidata.org/entity/Q840901'), ('name', '2002 Wimbledon Championships')]\n",
      "[('x', 'http://www.wikidata.org/entity/Q729205'), ('name', '1982 Wimbledon Championships')]\n",
      "[('x', 'http://www.wikidata.org/entity/Q951533'), ('name', '1987 Wimbledon Championships')]\n",
      "[('x', 'http://www.wikidata.org/entity/Q1326511'), ('name', '1885 Wimbledon Championships')]\n",
      "[('x', 'http://www.wikidata.org/entity/Q1724301'), ('name', '1887 Wimbledon Championships')]\n",
      "[('x', 'http://www.wikidata.org/entity/Q47220'), ('name', '1886 Wimbledon Championships')]\n",
      "[('x', 'http://www.wikidata.org/entity/Q1049023'), ('name', '1983 Wimbledon Championships')]\n",
      "[('x', 'http://www.wikidata.org/entity/Q935551'), ('name', '1989 Wimbledon Championships')]\n",
      "[('x', 'http://www.wikidata.org/entity/Q2296326'), ('name', '1880 Wimbledon Championship')]\n",
      "[('x', 'http://www.wikidata.org/entity/Q1803935'), ('name', '1884 Wimbledon Championships')]\n",
      "[('x', 'http://www.wikidata.org/entity/Q2120535'), ('name', '1888 Wimbledon Championships')]\n",
      "[('x', 'http://www.wikidata.org/entity/Q951238'), ('name', '1889 Wimbledon Championships')]\n",
      "[('x', 'http://www.wikidata.org/entity/Q746693'), ('name', '2005 Wimbledon Championships')]\n",
      "[('x', 'http://www.wikidata.org/entity/Q404700'), ('name', '1931 Wimbledon Championships')]\n",
      "[('x', 'http://www.wikidata.org/entity/Q404711'), ('name', '1932 Wimbledon Championships')]\n",
      "[('x', 'http://www.wikidata.org/entity/Q423286'), ('name', '1934 Wimbledon Championships')]\n",
      "[('x', 'http://www.wikidata.org/entity/Q423280'), ('name', '1937 Wimbledon Championships')]\n",
      "[('x', 'http://www.wikidata.org/entity/Q1693428'), ('name', '1913 Wimbledon Championships')]\n",
      "[('x', 'http://www.wikidata.org/entity/Q2121913'), ('name', '1912 Wimbledon Championships')]\n",
      "[('x', 'http://www.wikidata.org/entity/Q337124'), ('name', '1926 Wimbledon Championships')]\n",
      "[('x', 'http://www.wikidata.org/entity/Q663357'), ('name', '1986 Wimbledon Championships')]\n",
      "[('x', 'http://www.wikidata.org/entity/Q2306097'), ('name', '1967 Wimbledon Championships')]\n",
      "[('x', 'http://www.wikidata.org/entity/Q832484'), ('name', '2003 Wimbledon Championships')]\n",
      "[('x', 'http://www.wikidata.org/entity/Q2119713'), ('name', '1893 Wimbledon Championships')]\n",
      "[('x', 'http://www.wikidata.org/entity/Q588012'), ('name', '1919 Wimbledon Championships')]\n",
      "[('x', 'http://www.wikidata.org/entity/Q725136'), ('name', '1959 Wimbledon Championships')]\n",
      "[('x', 'http://www.wikidata.org/entity/Q1253069'), ('name', '1878 Wimbledon Championships')]\n",
      "[('x', 'http://www.wikidata.org/entity/Q512632'), ('name', '1998 Wimbledon Championships')]\n",
      "[('x', 'http://www.wikidata.org/entity/Q584490'), ('name', '1891 Wimbledon Championships')]\n",
      "[('x', 'http://www.wikidata.org/entity/Q1639966'), ('name', '1922 Wimbledon Championships')]\n",
      "[('x', 'http://www.wikidata.org/entity/Q2119724'), ('name', '1904 Wimbledon Championships')]\n",
      "[('x', 'http://www.wikidata.org/entity/Q2121902'), ('name', '1902 Wimbledon Championships')]\n",
      "[('x', 'http://www.wikidata.org/entity/Q584200'), ('name', '1907 Wimbledon Championships')]\n",
      "[('x', 'http://www.wikidata.org/entity/Q762595'), ('name', '1892 Wimbledon Championships')]\n",
      "[('x', 'http://www.wikidata.org/entity/Q978149'), ('name', '1894 Wimbledon Championships')]\n",
      "[('x', 'http://www.wikidata.org/entity/Q572505'), ('name', '1995 Wimbledon Championships')]\n",
      "[('x', 'http://www.wikidata.org/entity/Q912478'), ('name', '1996 Wimbledon Championships')]\n",
      "[('x', 'http://www.wikidata.org/entity/Q219459'), ('name', '1925 Wimbledon Championships')]\n",
      "[('x', 'http://www.wikidata.org/entity/Q212059'), ('name', '1923 Wimbledon Championships')]\n",
      "[('x', 'http://www.wikidata.org/entity/Q107283026'), ('name', '2022 Wimbledon Championships')]\n",
      "[('x', 'http://www.wikidata.org/entity/Q1934049'), ('name', '1877 Wimbledon Championship')]\n",
      "[('x', 'http://www.wikidata.org/entity/Q2278189'), ('name', '1965 Wimbledon Championships')]\n",
      "[('x', 'http://www.wikidata.org/entity/Q374001'), ('name', '1936 Wimbledon Championships')]\n",
      "[('x', 'http://www.wikidata.org/entity/Q2278178'), ('name', '1964 Wimbledon Championships')]\n",
      "[('x', 'http://www.wikidata.org/entity/Q2121875'), ('name', '1921 Wimbledon Championships')]\n",
      "136\n"
     ]
    }
   ],
   "source": [
    "# some queries above I found Q47345468 that is tennis tournament edition. Let see some instances that contains Wimbledon\n",
    "queryString = \"\"\"\n",
    "SELECT DISTINCT ?x ?name\n",
    "WHERE { \n",
    "    ?x wdt:P31 wd:Q47345468 .\n",
    "    ?x <http://schema.org/name> ?name .\n",
    "    FILTER(REGEX(?name, \"imbledon\")).\n",
    "}\n",
    "\"\"\"\n",
    "\n",
    "print(\"Results\")\n",
    "x= run_query(queryString)"
   ]
  },
  {
   "cell_type": "code",
   "execution_count": 9,
   "id": "69f31301-fb22-43ae-a990-d9e508d2207d",
   "metadata": {},
   "outputs": [
    {
     "name": "stdout",
     "output_type": "stream",
     "text": [
      "Results\n",
      "[('inst', 'http://www.wikidata.org/entity/Q47345468'), ('iName', 'tennis tournament edition')]\n",
      "[('inst', 'http://www.wikidata.org/entity/Q41520'), ('iName', 'Wimbledon Championships')]\n",
      "2\n"
     ]
    }
   ],
   "source": [
    "# I found all the Wimbledon edition, let see their class\n",
    "queryString = \"\"\"\n",
    "SELECT DISTINCT ?inst ?iName\n",
    "WHERE { \n",
    "    ?x wdt:P31 wd:Q47345468 .\n",
    "    ?x sc:name ?name .\n",
    "    ?x wdt:P31 ?inst.\n",
    "    FILTER(REGEX(?name, \"imbledon\")).\n",
    "    ?inst sc:name ?iName.\n",
    "}\n",
    "\"\"\"\n",
    "\n",
    "print(\"Results\")\n",
    "x= run_query(queryString)"
   ]
  },
  {
   "cell_type": "code",
   "execution_count": 10,
   "id": "3d55616d-e26a-4bb7-9f78-0b0fbdd5fd14",
   "metadata": {},
   "outputs": [
    {
     "name": "stdout",
     "output_type": "stream",
     "text": [
      "Results\n",
      "[('inst', 'http://www.wikidata.org/entity/Q18608583'), ('name', 'recurring sporting event')]\n",
      "1\n"
     ]
    }
   ],
   "source": [
    "# I found the wimbledon championships, let see if it is instance of Grand Slam\n",
    "queryString = \"\"\"\n",
    "SELECT DISTINCT ?inst ?name\n",
    "WHERE { \n",
    "    wd:Q41520 wdt:P31 ?inst.\n",
    "    ?inst sc:name ?name.\n",
    "}\n",
    "\"\"\"\n",
    "\n",
    "print(\"Results\")\n",
    "x = run_query(queryString)"
   ]
  },
  {
   "cell_type": "code",
   "execution_count": 11,
   "id": "5f7d08ad-4cd0-4d59-af5b-95cf9c1f7d30",
   "metadata": {},
   "outputs": [
    {
     "name": "stdout",
     "output_type": "stream",
     "text": [
      "Results\n",
      "[('inst', 'http://www.wikidata.org/entity/Q13219666'), ('name', 'tennis tournament')]\n",
      "1\n"
     ]
    }
   ],
   "source": [
    "# I found the wimbledon championships, let see if it is subclass of Grand Slam\n",
    "queryString = \"\"\"\n",
    "SELECT DISTINCT ?inst ?name\n",
    "WHERE { \n",
    "    wd:Q41520 wdt:P279 ?inst.\n",
    "    ?inst sc:name ?name.\n",
    "}\n",
    "\"\"\"\n",
    "\n",
    "print(\"Results\")\n",
    "x = run_query(queryString)"
   ]
  },
  {
   "cell_type": "code",
   "execution_count": 12,
   "id": "9455ce07-21b2-4f4e-8cc3-c4f7c7a7364e",
   "metadata": {},
   "outputs": [
    {
     "name": "stdout",
     "output_type": "stream",
     "text": [
      "Results\n",
      "[('x', 'http://www.wikidata.org/entity/Q102113'), ('name', 'Grand Slam of tennis')]\n",
      "1\n"
     ]
    }
   ],
   "source": [
    "# let see if it is related with something named Grand Slam\n",
    "queryString = \"\"\"\n",
    "SELECT DISTINCT ?x ?name\n",
    "WHERE { \n",
    "    wd:Q41520 ?prop ?x.\n",
    "    ?x sc:name ?name.\n",
    "    FILTER(REGEX(?name,\"[S,s]lam\")).\n",
    "}\n",
    "\"\"\"\n",
    "\n",
    "print(\"Results\")\n",
    "x = run_query(queryString)"
   ]
  },
  {
   "cell_type": "markdown",
   "id": "a5120159-d1c8-4fc6-bf09-f05a2881dd74",
   "metadata": {},
   "source": [
    "`wd:Q102113` is the node of the Grand Slam of tennis in wikidata. Check the instance of this or if there exists part of this."
   ]
  },
  {
   "cell_type": "code",
   "execution_count": 13,
   "id": "115a3324-0d02-4294-84b0-543c0c1e8f90",
   "metadata": {},
   "outputs": [
    {
     "name": "stdout",
     "output_type": "stream",
     "text": [
      "Results\n",
      "[('prop', 'http://www.wikidata.org/prop/direct/P1417'), ('name', 'Encyclopædia Britannica Online ID')]\n",
      "[('prop', 'http://www.wikidata.org/prop/direct/P1424'), ('name', \"topic's main template\")]\n",
      "[('prop', 'http://www.wikidata.org/prop/direct/P18'), ('name', 'image')]\n",
      "[('prop', 'http://www.wikidata.org/prop/direct/P2354'), ('name', 'has list')]\n",
      "[('prop', 'http://www.wikidata.org/prop/direct/P279'), ('name', 'subclass of')]\n",
      "[('prop', 'http://www.wikidata.org/prop/direct/P2924'), ('name', 'Great Russian Encyclopedia Online ID')]\n",
      "[('prop', 'http://www.wikidata.org/prop/direct/P31'), ('name', 'instance of')]\n",
      "[('prop', 'http://www.wikidata.org/prop/direct/P3222'), ('name', 'NE.se ID')]\n",
      "[('prop', 'http://www.wikidata.org/prop/direct/P3417'), ('name', 'Quora topic ID')]\n",
      "[('prop', 'http://www.wikidata.org/prop/direct/P373'), ('name', 'Commons category')]\n",
      "[('prop', 'http://www.wikidata.org/prop/direct/P527'), ('name', 'has part')]\n",
      "[('prop', 'http://www.wikidata.org/prop/direct/P641'), ('name', 'sport')]\n",
      "[('prop', 'http://www.wikidata.org/prop/direct/P646'), ('name', 'Freebase ID')]\n",
      "[('prop', 'http://www.wikidata.org/prop/direct/P8408'), ('name', 'KBpedia ID')]\n",
      "[('prop', 'http://www.wikidata.org/prop/direct/P910'), ('name', \"topic's main category\")]\n",
      "15\n"
     ]
    }
   ],
   "source": [
    "# let see the properties of the Grand Slam of tennis\n",
    "queryString = \"\"\"\n",
    "SELECT DISTINCT ?prop ?name\n",
    "WHERE { \n",
    "    wd:Q102113 ?prop ?x.\n",
    "    ?prop sc:name ?name.\n",
    "}\n",
    "\"\"\"\n",
    "\n",
    "print(\"Results\")\n",
    "x = run_query(queryString)"
   ]
  },
  {
   "cell_type": "code",
   "execution_count": 14,
   "id": "546a5974-d0fd-4408-afee-5a95b1bf33be",
   "metadata": {},
   "outputs": [
    {
     "name": "stdout",
     "output_type": "stream",
     "text": [
      "Results\n",
      "[('x', 'http://www.wikidata.org/entity/Q2223649'), ('name', 'French cheese')]\n",
      "[('x', 'http://www.wikidata.org/entity/Q123577'), ('name', 'US Open')]\n",
      "[('x', 'http://www.wikidata.org/entity/Q41520'), ('name', 'Wimbledon Championships')]\n",
      "[('x', 'http://www.wikidata.org/entity/Q60874'), ('name', 'Australian Open')]\n",
      "4\n"
     ]
    }
   ],
   "source": [
    "# let see the properties of the Grand Slam of tennis\n",
    "queryString = \"\"\"\n",
    "SELECT DISTINCT ?x ?name\n",
    "WHERE { \n",
    "    wd:Q102113 wdt:P527 ?x.\n",
    "    ?x sc:name ?name.\n",
    "}\n",
    "\"\"\"\n",
    "\n",
    "print(\"Results\")\n",
    "x = run_query(queryString)"
   ]
  },
  {
   "cell_type": "markdown",
   "id": "46e331f7-76d1-458e-a832-1bd72fac776b",
   "metadata": {},
   "source": [
    "Very funny this French Cheese!"
   ]
  },
  {
   "cell_type": "code",
   "execution_count": 15,
   "id": "7cbff943-7b54-409c-af51-260d03da7b55",
   "metadata": {},
   "outputs": [
    {
     "name": "stdout",
     "output_type": "stream",
     "text": [
      "Results\n",
      "[('prop', 'http://www.wikidata.org/prop/direct/P1423'), ('name', 'template has topic')]\n",
      "[('prop', 'http://www.wikidata.org/prop/direct/P2522'), ('name', 'victory')]\n",
      "[('prop', 'http://www.wikidata.org/prop/direct/P279'), ('name', 'subclass of')]\n",
      "[('prop', 'http://www.wikidata.org/prop/direct/P301'), ('name', \"category's main topic\")]\n",
      "[('prop', 'http://www.wikidata.org/prop/direct/P361'), ('name', 'part of')]\n",
      "[('prop', 'http://www.wikidata.org/prop/direct/P971'), ('name', 'category combines topics')]\n",
      "6\n"
     ]
    }
   ],
   "source": [
    "# let see the properties of the Grand Slam of tennis on the other way\n",
    "queryString = \"\"\"\n",
    "SELECT DISTINCT ?prop ?name\n",
    "WHERE { \n",
    "    ?x ?prop wd:Q102113.\n",
    "    ?prop sc:name ?name.\n",
    "}\n",
    "\"\"\"\n",
    "\n",
    "print(\"Results\")\n",
    "x = run_query(queryString)"
   ]
  },
  {
   "cell_type": "code",
   "execution_count": 20,
   "id": "c3232ddb-ee1c-408b-8caa-c50cbee4f4ce",
   "metadata": {},
   "outputs": [
    {
     "name": "stdout",
     "output_type": "stream",
     "text": [
      "Results\n",
      "[('x', 'http://www.wikidata.org/entity/Q43605'), ('name', 'French Open')]\n",
      "[('x', 'http://www.wikidata.org/entity/Q123577'), ('name', 'US Open')]\n",
      "[('x', 'http://www.wikidata.org/entity/Q41520'), ('name', 'Wimbledon Championships')]\n",
      "[('x', 'http://www.wikidata.org/entity/Q60874'), ('name', 'Australian Open')]\n",
      "4\n"
     ]
    }
   ],
   "source": [
    "# use the property part of\n",
    "queryString = \"\"\"\n",
    "SELECT DISTINCT ?x ?name\n",
    "WHERE { \n",
    "    ?x wdt:P361 wd:Q102113.\n",
    "    ?x sc:name ?name.\n",
    "}\n",
    "\"\"\"\n",
    "\n",
    "print(\"Results\")\n",
    "x = run_query(queryString)"
   ]
  },
  {
   "cell_type": "code",
   "execution_count": 21,
   "id": "4cc252da",
   "metadata": {},
   "outputs": [
    {
     "name": "stdout",
     "output_type": "stream",
     "text": [
      "The index of this workflow is: 0_4\n",
      "The path is /locale/data/jupyter/prando/notebook/2022/results/workflow0_4.json\n",
      "JSON object updated\n"
     ]
    }
   ],
   "source": [
    "obj = [{\"uri\":r[0][1],\"name\":r[1][1]} for r in x]\n",
    "evaluation.add_result(evaluation.get_index_workflow(pt),\"3\", evaluation.TYPE_SET ,\"uri\", obj)"
   ]
  },
  {
   "cell_type": "markdown",
   "id": "22bd3f78-b354-44ae-94d0-ebdd93b70841",
   "metadata": {},
   "source": [
    "Found the four Grand Slams of tennis\n",
    "- `Q43605` is the French Open\n",
    "- `Q41520` is the Wimbledon Championship\n",
    "- `Q60874` is the Australian Open\n",
    "- `Q123577` is the US Open"
   ]
  },
  {
   "cell_type": "markdown",
   "id": "25bd0dfa-f0c1-4d31-9c83-4672b40c4b7b",
   "metadata": {
    "tags": []
   },
   "source": [
    "## Task 4\n",
    "Find the three different type of surfaces in tennis"
   ]
  },
  {
   "cell_type": "code",
   "execution_count": 17,
   "id": "c09cdfef-ff4f-4d75-b18d-2216e55cb7ee",
   "metadata": {},
   "outputs": [
    {
     "name": "stdout",
     "output_type": "stream",
     "text": [
      "Results\n",
      "[('prop', 'http://www.wikidata.org/prop/direct/P1296'), ('name', 'Gran Enciclopèdia Catalana ID')]\n",
      "[('prop', 'http://www.wikidata.org/prop/direct/P131'), ('name', 'located in the administrative territorial entity')]\n",
      "[('prop', 'http://www.wikidata.org/prop/direct/P138'), ('name', 'named after')]\n",
      "[('prop', 'http://www.wikidata.org/prop/direct/P1417'), ('name', 'Encyclopædia Britannica Online ID')]\n",
      "[('prop', 'http://www.wikidata.org/prop/direct/P1424'), ('name', \"topic's main template\")]\n",
      "[('prop', 'http://www.wikidata.org/prop/direct/P154'), ('name', 'logo image')]\n",
      "[('prop', 'http://www.wikidata.org/prop/direct/P1687'), ('name', 'Wikidata property')]\n",
      "[('prop', 'http://www.wikidata.org/prop/direct/P17'), ('name', 'country')]\n",
      "[('prop', 'http://www.wikidata.org/prop/direct/P18'), ('name', 'image')]\n",
      "[('prop', 'http://www.wikidata.org/prop/direct/P1814'), ('name', 'name in kana')]\n",
      "[('prop', 'http://www.wikidata.org/prop/direct/P1889'), ('name', 'different from')]\n",
      "[('prop', 'http://www.wikidata.org/prop/direct/P2002'), ('name', 'Twitter username')]\n",
      "[('prop', 'http://www.wikidata.org/prop/direct/P2003'), ('name', 'Instagram username')]\n",
      "[('prop', 'http://www.wikidata.org/prop/direct/P2013'), ('name', 'Facebook ID')]\n",
      "[('prop', 'http://www.wikidata.org/prop/direct/P2121'), ('name', 'prize money')]\n",
      "[('prop', 'http://www.wikidata.org/prop/direct/P214'), ('name', 'VIAF ID')]\n",
      "[('prop', 'http://www.wikidata.org/prop/direct/P2184'), ('name', 'history of topic')]\n",
      "[('prop', 'http://www.wikidata.org/prop/direct/P2257'), ('name', 'event interval')]\n",
      "[('prop', 'http://www.wikidata.org/prop/direct/P227'), ('name', 'GND ID')]\n",
      "[('prop', 'http://www.wikidata.org/prop/direct/P2354'), ('name', 'has list')]\n",
      "[('prop', 'http://www.wikidata.org/prop/direct/P2397'), ('name', 'YouTube channel ID')]\n",
      "[('prop', 'http://www.wikidata.org/prop/direct/P244'), ('name', 'Library of Congress authority ID')]\n",
      "[('prop', 'http://www.wikidata.org/prop/direct/P276'), ('name', 'location')]\n",
      "[('prop', 'http://www.wikidata.org/prop/direct/P279'), ('name', 'subclass of')]\n",
      "[('prop', 'http://www.wikidata.org/prop/direct/P2924'), ('name', 'Great Russian Encyclopedia Online ID')]\n",
      "[('prop', 'http://www.wikidata.org/prop/direct/P31'), ('name', 'instance of')]\n",
      "[('prop', 'http://www.wikidata.org/prop/direct/P3221'), ('name', 'New York Times topic ID')]\n",
      "[('prop', 'http://www.wikidata.org/prop/direct/P3414'), ('name', 'Yle Areena item ID')]\n",
      "[('prop', 'http://www.wikidata.org/prop/direct/P3417'), ('name', 'Quora topic ID')]\n",
      "[('prop', 'http://www.wikidata.org/prop/direct/P3479'), ('name', 'Omni topic ID')]\n",
      "[('prop', 'http://www.wikidata.org/prop/direct/P3509'), ('name', 'Dagens Nyheter topic ID')]\n",
      "[('prop', 'http://www.wikidata.org/prop/direct/P3553'), ('name', 'Zhihu topic ID')]\n",
      "[('prop', 'http://www.wikidata.org/prop/direct/P361'), ('name', 'part of')]\n",
      "[('prop', 'http://www.wikidata.org/prop/direct/P373'), ('name', 'Commons category')]\n",
      "[('prop', 'http://www.wikidata.org/prop/direct/P4013'), ('name', 'Giphy username')]\n",
      "[('prop', 'http://www.wikidata.org/prop/direct/P4431'), ('name', 'Google Doodle')]\n",
      "[('prop', 'http://www.wikidata.org/prop/direct/P4622'), ('name', 'trophy awarded')]\n",
      "[('prop', 'http://www.wikidata.org/prop/direct/P4794'), ('name', 'season starts')]\n",
      "[('prop', 'http://www.wikidata.org/prop/direct/P571'), ('name', 'inception')]\n",
      "[('prop', 'http://www.wikidata.org/prop/direct/P641'), ('name', 'sport')]\n",
      "[('prop', 'http://www.wikidata.org/prop/direct/P646'), ('name', 'Freebase ID')]\n",
      "[('prop', 'http://www.wikidata.org/prop/direct/P664'), ('name', 'organizer')]\n",
      "[('prop', 'http://www.wikidata.org/prop/direct/P6849'), ('name', 'DR topic ID')]\n",
      "[('prop', 'http://www.wikidata.org/prop/direct/P691'), ('name', 'NKCR AUT ID')]\n",
      "[('prop', 'http://www.wikidata.org/prop/direct/P765'), ('name', 'surface played on')]\n",
      "[('prop', 'http://www.wikidata.org/prop/direct/P7818'), ('name', 'French Vikidia ID')]\n",
      "[('prop', 'http://www.wikidata.org/prop/direct/P7859'), ('name', 'WorldCat Identities ID')]\n",
      "[('prop', 'http://www.wikidata.org/prop/direct/P7959'), ('name', 'historic county')]\n",
      "[('prop', 'http://www.wikidata.org/prop/direct/P8408'), ('name', 'KBpedia ID')]\n",
      "[('prop', 'http://www.wikidata.org/prop/direct/P856'), ('name', 'official website')]\n",
      "[('prop', 'http://www.wikidata.org/prop/direct/P8687'), ('name', 'social media followers')]\n",
      "[('prop', 'http://www.wikidata.org/prop/direct/P910'), ('name', \"topic's main category\")]\n",
      "[('prop', 'http://www.wikidata.org/prop/direct/P9304'), ('name', 'Encyclopedia of Melbourne ID')]\n",
      "[('prop', 'http://www.wikidata.org/prop/direct/P9368'), ('name', 'CNA topic ID')]\n",
      "[('prop', 'http://www.wikidata.org/prop/direct/P948'), ('name', 'page banner')]\n",
      "55\n"
     ]
    }
   ],
   "source": [
    "# see the properties of the Grand Slams events\n",
    "queryString = \"\"\"\n",
    "SELECT DISTINCT ?prop ?name\n",
    "WHERE { \n",
    "    ?x wdt:P361 wd:Q102113.\n",
    "    ?x ?prop ?y.\n",
    "    ?prop sc:name ?name.\n",
    "}\n",
    "\"\"\"\n",
    "\n",
    "print(\"Results\")\n",
    "x = run_query(queryString)"
   ]
  },
  {
   "cell_type": "code",
   "execution_count": 22,
   "id": "826e4249-25ae-4a7b-bcdb-cf6f6d027e28",
   "metadata": {},
   "outputs": [
    {
     "name": "stdout",
     "output_type": "stream",
     "text": [
      "Results\n",
      "[('y', 'http://www.wikidata.org/entity/Q1330871'), ('name', 'hardcourt')]\n",
      "[('y', 'http://www.wikidata.org/entity/Q1151291'), ('name', 'grass court')]\n",
      "[('y', 'http://www.wikidata.org/entity/Q198718'), ('name', 'clay court')]\n",
      "3\n"
     ]
    }
   ],
   "source": [
    "# use the property surface played on P765\n",
    "queryString = \"\"\"\n",
    "SELECT DISTINCT ?y ?name\n",
    "WHERE { \n",
    "    ?x wdt:P361 wd:Q102113.\n",
    "    ?x wdt:P765 ?y.\n",
    "    ?y sc:name ?name.\n",
    "}\n",
    "\"\"\"\n",
    "\n",
    "print(\"Results\")\n",
    "x = run_query(queryString)"
   ]
  },
  {
   "cell_type": "code",
   "execution_count": 23,
   "id": "b2241cec",
   "metadata": {},
   "outputs": [
    {
     "name": "stdout",
     "output_type": "stream",
     "text": [
      "The index of this workflow is: 0_4\n",
      "The path is /locale/data/jupyter/prando/notebook/2022/results/workflow0_4.json\n",
      "JSON object updated\n"
     ]
    }
   ],
   "source": [
    "obj = [{\"uri\":r[0][1],\"name\":r[1][1]} for r in x]\n",
    "evaluation.add_result(evaluation.get_index_workflow(pt),\"4\", evaluation.TYPE_SET ,\"uri\", obj)"
   ]
  },
  {
   "cell_type": "markdown",
   "id": "ea78d0a5-c23a-4382-85da-0fe636c7ffad",
   "metadata": {
    "tags": []
   },
   "source": [
    "## Task 5 \n",
    "Find which are the tournament played in the 2018 Wimbledon Championships edition with the related winners (TIP: men and women do not play together, there are two distinct tournament )"
   ]
  },
  {
   "cell_type": "code",
   "execution_count": 19,
   "id": "27b00bd4-f060-40c8-8394-75c869c0a68f",
   "metadata": {},
   "outputs": [
    {
     "name": "stdout",
     "output_type": "stream",
     "text": [
      "Results\n",
      "[('x', 'http://www.wikidata.org/entity/Q107283026'), ('name', '2022 Wimbledon Championships')]\n",
      "[('x', 'http://www.wikidata.org/entity/Q92032430'), ('name', '2021 Wimbledon Championships')]\n",
      "[('x', 'http://www.wikidata.org/entity/Q54093953'), ('name', '2019 Wimbledon Championships')]\n",
      "[('x', 'http://www.wikidata.org/entity/Q30085309'), ('name', '2018 Wimbledon Championships')]\n",
      "[('x', 'http://www.wikidata.org/entity/Q25344121'), ('name', '2017 Wimbledon Championships')]\n",
      "5\n"
     ]
    }
   ],
   "source": [
    "# find the editions of Wimbledon\n",
    "queryString = \"\"\"\n",
    "SELECT DISTINCT ?x ?name \n",
    "WHERE { \n",
    "    ?x wdt:P31 wd:Q41520.\n",
    "    ?x sc:name ?name.\n",
    "}\n",
    "ORDER BY DESC (?name)\n",
    "LIMIT 5\n",
    "\"\"\"\n",
    "\n",
    "print(\"Results\")\n",
    "x = run_query(queryString)"
   ]
  },
  {
   "cell_type": "code",
   "execution_count": 20,
   "id": "c69b057b-f125-4bca-8f30-99a8ae02c76b",
   "metadata": {},
   "outputs": [
    {
     "name": "stdout",
     "output_type": "stream",
     "text": [
      "Results\n",
      "[('prop', 'http://www.wikidata.org/prop/direct/P6880'), ('name', 'ATP tennis tournament edition ID')]\n",
      "[('prop', 'http://www.wikidata.org/prop/direct/P131'), ('name', 'located in the administrative territorial entity')]\n",
      "[('prop', 'http://www.wikidata.org/prop/direct/P155'), ('name', 'follows')]\n",
      "[('prop', 'http://www.wikidata.org/prop/direct/P156'), ('name', 'followed by')]\n",
      "[('prop', 'http://www.wikidata.org/prop/direct/P17'), ('name', 'country')]\n",
      "[('prop', 'http://www.wikidata.org/prop/direct/P2671'), ('name', 'Google Knowledge Graph ID')]\n",
      "[('prop', 'http://www.wikidata.org/prop/direct/P276'), ('name', 'location')]\n",
      "[('prop', 'http://www.wikidata.org/prop/direct/P31'), ('name', 'instance of')]\n",
      "[('prop', 'http://www.wikidata.org/prop/direct/P373'), ('name', 'Commons category')]\n",
      "[('prop', 'http://www.wikidata.org/prop/direct/P393'), ('name', 'edition number')]\n",
      "[('prop', 'http://www.wikidata.org/prop/direct/P527'), ('name', 'has part')]\n",
      "[('prop', 'http://www.wikidata.org/prop/direct/P585'), ('name', 'point in time')]\n",
      "[('prop', 'http://www.wikidata.org/prop/direct/P641'), ('name', 'sport')]\n",
      "[('prop', 'http://www.wikidata.org/prop/direct/P856'), ('name', 'official website')]\n",
      "[('prop', 'http://www.wikidata.org/prop/direct/P910'), ('name', \"topic's main category\")]\n",
      "15\n"
     ]
    }
   ],
   "source": [
    "# explore the editions of 2018\n",
    "queryString = \"\"\"\n",
    "SELECT DISTINCT ?prop ?name \n",
    "WHERE { \n",
    "    wd:Q30085309 ?prop ?x.\n",
    "    ?prop sc:name ?name.\n",
    "}\n",
    "\"\"\"\n",
    "\n",
    "print(\"Results\")\n",
    "x = run_query(queryString)"
   ]
  },
  {
   "cell_type": "code",
   "execution_count": 21,
   "id": "cbf673b5-7886-479e-a242-8488fbad817f",
   "metadata": {},
   "outputs": [
    {
     "name": "stdout",
     "output_type": "stream",
     "text": [
      "Results\n",
      "[('x', 'http://www.wikidata.org/entity/Q30098268'), ('name', \"2018 Wimbledon Championships – Women's Singles\")]\n",
      "[('x', 'http://www.wikidata.org/entity/Q32358401'), ('name', '2018 Wimbledon Championships – Mixed Doubles')]\n",
      "[('x', 'http://www.wikidata.org/entity/Q32357790'), ('name', \"2018 Wimbledon Championships – Men's Doubles\")]\n",
      "[('x', 'http://www.wikidata.org/entity/Q32356704'), ('name', \"2018 Wimbledon Championships – Women's Doubles\")]\n",
      "[('x', 'http://www.wikidata.org/entity/Q55381839'), ('name', \"2018 Wimbledon Championships – Girls' Singles\")]\n",
      "[('x', 'http://www.wikidata.org/entity/Q54961494'), ('name', \"2018 Wimbledon Championships – Men's Singles\")]\n",
      "[('x', 'http://www.wikidata.org/entity/Q55410290'), ('name', \"2018 Wimbledon Championships – Girls' Doubles\")]\n",
      "[('x', 'http://www.wikidata.org/entity/Q55410361'), ('name', \"2018 Wimbledon Championships – Boys' Doubles\")]\n",
      "[('x', 'http://www.wikidata.org/entity/Q55455404'), ('name', \"2018 Wimbledon Championships – Wheelchair Women's Singles\")]\n",
      "[('x', 'http://www.wikidata.org/entity/Q55381833'), ('name', \"2018 Wimbledon Championships – Boys' Singles\")]\n",
      "[('x', 'http://www.wikidata.org/entity/Q55455423'), ('name', \"2018 Wimbledon Championships – Wheelchair Women's Doubles\")]\n",
      "11\n"
     ]
    }
   ],
   "source": [
    "# use th property has part P527\n",
    "queryString = \"\"\"\n",
    "SELECT DISTINCT ?x ?name \n",
    "WHERE { \n",
    "    wd:Q30085309 wdt:P527 ?x.\n",
    "    ?x sc:name ?name.\n",
    "}\n",
    "\"\"\"\n",
    "\n",
    "print(\"Results\")\n",
    "x = run_query(queryString)"
   ]
  },
  {
   "cell_type": "code",
   "execution_count": 22,
   "id": "535aac54-2908-43da-ae1d-3799cdf7dfce",
   "metadata": {},
   "outputs": [
    {
     "name": "stdout",
     "output_type": "stream",
     "text": [
      "Results\n",
      "[('x', 'http://www.wikidata.org/entity/Q30098268'), ('name', \"2018 Wimbledon Championships – Women's Singles\")]\n",
      "[('x', 'http://www.wikidata.org/entity/Q32358401'), ('name', '2018 Wimbledon Championships – Mixed Doubles')]\n",
      "[('x', 'http://www.wikidata.org/entity/Q55639017'), ('name', '2018 Wimbledon Championships – Wheelchair Quad Doubles')]\n",
      "[('x', 'http://www.wikidata.org/entity/Q55455418'), ('name', \"2018 Wimbledon Championships – Wheelchair Men's Doubles\")]\n",
      "[('x', 'http://www.wikidata.org/entity/Q32357790'), ('name', \"2018 Wimbledon Championships – Men's Doubles\")]\n",
      "[('x', 'http://www.wikidata.org/entity/Q32356704'), ('name', \"2018 Wimbledon Championships – Women's Doubles\")]\n",
      "[('x', 'http://www.wikidata.org/entity/Q55381839'), ('name', \"2018 Wimbledon Championships – Girls' Singles\")]\n",
      "[('x', 'http://www.wikidata.org/entity/Q54961494'), ('name', \"2018 Wimbledon Championships – Men's Singles\")]\n",
      "[('x', 'http://www.wikidata.org/entity/Q55410290'), ('name', \"2018 Wimbledon Championships – Girls' Doubles\")]\n",
      "[('x', 'http://www.wikidata.org/entity/Q55410361'), ('name', \"2018 Wimbledon Championships – Boys' Doubles\")]\n",
      "[('x', 'http://www.wikidata.org/entity/Q55455404'), ('name', \"2018 Wimbledon Championships – Wheelchair Women's Singles\")]\n",
      "[('x', 'http://www.wikidata.org/entity/Q55455410'), ('name', \"2018 Wimbledon Championships – Wheelchair Men's Singles\")]\n",
      "[('x', 'http://www.wikidata.org/entity/Q55381833'), ('name', \"2018 Wimbledon Championships – Boys' Singles\")]\n",
      "[('x', 'http://www.wikidata.org/entity/Q55455423'), ('name', \"2018 Wimbledon Championships – Wheelchair Women's Doubles\")]\n",
      "14\n"
     ]
    }
   ],
   "source": [
    "# use th property has part P527\n",
    "queryString = \"\"\"\n",
    "SELECT DISTINCT ?x ?name \n",
    "WHERE { \n",
    "    ?x wdt:P361 wd:Q30085309 .\n",
    "    ?x sc:name ?name.\n",
    "}\n",
    "\"\"\"\n",
    "\n",
    "print(\"Results\")\n",
    "x = run_query(queryString)"
   ]
  },
  {
   "cell_type": "code",
   "execution_count": 23,
   "id": "60f8f1bd-06c6-4aaa-892a-f2394013aae7",
   "metadata": {},
   "outputs": [
    {
     "name": "stdout",
     "output_type": "stream",
     "text": [
      "Results\n",
      "[('prop', 'http://www.wikidata.org/prop/direct/P1346'), ('name', 'winner')]\n",
      "[('prop', 'http://www.wikidata.org/prop/direct/P155'), ('name', 'follows')]\n",
      "[('prop', 'http://www.wikidata.org/prop/direct/P156'), ('name', 'followed by')]\n",
      "[('prop', 'http://www.wikidata.org/prop/direct/P17'), ('name', 'country')]\n",
      "[('prop', 'http://www.wikidata.org/prop/direct/P2094'), ('name', 'competition class')]\n",
      "[('prop', 'http://www.wikidata.org/prop/direct/P2671'), ('name', 'Google Knowledge Graph ID')]\n",
      "[('prop', 'http://www.wikidata.org/prop/direct/P31'), ('name', 'instance of')]\n",
      "[('prop', 'http://www.wikidata.org/prop/direct/P361'), ('name', 'part of')]\n",
      "[('prop', 'http://www.wikidata.org/prop/direct/P585'), ('name', 'point in time')]\n",
      "[('prop', 'http://www.wikidata.org/prop/direct/P641'), ('name', 'sport')]\n",
      "10\n"
     ]
    }
   ],
   "source": [
    "# see the properties of each event\n",
    "queryString = \"\"\"\n",
    "SELECT DISTINCT ?prop ?name \n",
    "WHERE { \n",
    "    ?x wdt:P361 wd:Q30085309 .\n",
    "    ?x ?prop ?y.\n",
    "    ?prop sc:name ?name.\n",
    "}\n",
    "\"\"\"\n",
    "\n",
    "print(\"Results\")\n",
    "x = run_query(queryString)"
   ]
  },
  {
   "cell_type": "code",
   "execution_count": 24,
   "id": "5e1ef132-c756-4d56-8403-5d9dd0f9313d",
   "metadata": {},
   "outputs": [
    {
     "name": "stdout",
     "output_type": "stream",
     "text": [
      "Results\n",
      "[('x', 'http://www.wikidata.org/entity/Q55455423'), ('name', \"2018 Wimbledon Championships – Wheelchair Women's Doubles\"), ('y', 'http://www.wikidata.org/entity/Q16224602'), ('people', 'Yui Kamiji')]\n",
      "[('x', 'http://www.wikidata.org/entity/Q55455418'), ('name', \"2018 Wimbledon Championships – Wheelchair Men's Doubles\"), ('y', 'http://www.wikidata.org/entity/Q26951148'), ('people', 'Alfie Hewett')]\n",
      "[('x', 'http://www.wikidata.org/entity/Q32356704'), ('name', \"2018 Wimbledon Championships – Women's Doubles\"), ('y', 'http://www.wikidata.org/entity/Q3720044'), ('people', 'Kateřina Siniaková')]\n",
      "[('x', 'http://www.wikidata.org/entity/Q54961494'), ('name', \"2018 Wimbledon Championships – Men's Singles\"), ('y', 'http://www.wikidata.org/entity/Q5812'), ('people', 'Novak Djokovic')]\n",
      "[('x', 'http://www.wikidata.org/entity/Q30098268'), ('name', \"2018 Wimbledon Championships – Women's Singles\"), ('y', 'http://www.wikidata.org/entity/Q77178'), ('people', 'Angelique Kerber')]\n",
      "[('x', 'http://www.wikidata.org/entity/Q32357790'), ('name', \"2018 Wimbledon Championships – Men's Doubles\"), ('y', 'http://www.wikidata.org/entity/Q53342'), ('people', 'Mike Bryan')]\n",
      "[('x', 'http://www.wikidata.org/entity/Q55455410'), ('name', \"2018 Wimbledon Championships – Wheelchair Men's Singles\"), ('y', 'http://www.wikidata.org/entity/Q6027963'), ('people', 'Stefan Olsson')]\n",
      "[('x', 'http://www.wikidata.org/entity/Q32356704'), ('name', \"2018 Wimbledon Championships – Women's Doubles\"), ('y', 'http://www.wikidata.org/entity/Q11052500'), ('people', 'Barbora Krejčíková')]\n",
      "[('x', 'http://www.wikidata.org/entity/Q55381839'), ('name', \"2018 Wimbledon Championships – Girls' Singles\"), ('y', 'http://www.wikidata.org/entity/Q26840238'), ('people', 'Iga Świątek')]\n",
      "[('x', 'http://www.wikidata.org/entity/Q55455404'), ('name', \"2018 Wimbledon Championships – Wheelchair Women's Singles\"), ('y', 'http://www.wikidata.org/entity/Q24574661'), ('people', 'Diede de Groot')]\n",
      "[('x', 'http://www.wikidata.org/entity/Q55455423'), ('name', \"2018 Wimbledon Championships – Wheelchair Women's Doubles\"), ('y', 'http://www.wikidata.org/entity/Q24574661'), ('people', 'Diede de Groot')]\n",
      "[('x', 'http://www.wikidata.org/entity/Q32358401'), ('name', '2018 Wimbledon Championships – Mixed Doubles'), ('y', 'http://www.wikidata.org/entity/Q2216368'), ('people', 'Nicole Melichar-Martinez')]\n",
      "[('x', 'http://www.wikidata.org/entity/Q55639017'), ('name', '2018 Wimbledon Championships – Wheelchair Quad Doubles'), ('y', 'http://www.wikidata.org/entity/Q13512827'), ('people', 'Andrew Lapthorne')]\n",
      "[('x', 'http://www.wikidata.org/entity/Q32358401'), ('name', '2018 Wimbledon Championships – Mixed Doubles'), ('y', 'http://www.wikidata.org/entity/Q457476'), ('people', 'Alexander Peya')]\n",
      "[('x', 'http://www.wikidata.org/entity/Q55410361'), ('name', \"2018 Wimbledon Championships – Boys' Doubles\"), ('y', 'http://www.wikidata.org/entity/Q55569239'), ('people', 'Yankı Erel')]\n",
      "[('x', 'http://www.wikidata.org/entity/Q55410290'), ('name', \"2018 Wimbledon Championships – Girls' Doubles\"), ('y', 'http://www.wikidata.org/entity/Q44465805'), ('people', 'Wang Xinyu')]\n",
      "[('x', 'http://www.wikidata.org/entity/Q55381833'), ('name', \"2018 Wimbledon Championships – Boys' Singles\"), ('y', 'http://www.wikidata.org/entity/Q47516746'), ('people', 'Tseng Chun-hsin')]\n",
      "[('x', 'http://www.wikidata.org/entity/Q55410290'), ('name', \"2018 Wimbledon Championships – Girls' Doubles\"), ('y', 'http://www.wikidata.org/entity/Q41799108'), ('people', 'Wang Xiyu')]\n",
      "18\n"
     ]
    }
   ],
   "source": [
    "# see the properties of each event\n",
    "queryString = \"\"\"\n",
    "SELECT DISTINCT ?x ?name ?y ?people\n",
    "WHERE { \n",
    "    ?x wdt:P361 wd:Q30085309 .\n",
    "    ?x wdt:P1346 ?y.\n",
    "    ?x sc:name ?name.\n",
    "    ?y sc:name ?people.\n",
    "}\n",
    "\"\"\"\n",
    "\n",
    "print(\"Results\")\n",
    "x = run_query(queryString)"
   ]
  },
  {
   "cell_type": "code",
   "execution_count": 25,
   "id": "ff4bbdc5",
   "metadata": {},
   "outputs": [
    {
     "name": "stdout",
     "output_type": "stream",
     "text": [
      "The index of this workflow is: 0_4\n",
      "The path is /locale/data/jupyter/prando/notebook/2022/results/workflow0_4.json\n",
      "JSON object updated\n"
     ]
    }
   ],
   "source": [
    "# add the elements to the JSON gt\n",
    "objs = []\n",
    "for i in x:\n",
    "    f_uri = i[0][1]\n",
    "    f_name = i[1][1]\n",
    "    c_uri = i[2][1]\n",
    "    c_name = i[3][1]\n",
    "    obj = {}\n",
    "    obj[\"refers_to\"] = f_uri\n",
    "    obj[\"refers_to_name\"] = f_name\n",
    "    obj[\"check\"] = [\"uri\",\"name\"]\n",
    "    obj[\"uri\"]= c_uri\n",
    "    obj[\"name\"]= c_name\n",
    "    objs.append(obj)\n",
    "\n",
    "evaluation.add_result(evaluation.get_index_workflow(pt),\"5\", evaluation.TYPE_REFERRED ,[\"uri\",\"name\"], objs)"
   ]
  },
  {
   "cell_type": "markdown",
   "id": "db8b76d6-9094-45f7-8fba-9feb5ce2ad81",
   "metadata": {
    "tags": []
   },
   "source": [
    "## Task 6\n",
    "Consider tennis players born after 1975, find who are the top 10 Grand Slams winner"
   ]
  },
  {
   "cell_type": "code",
   "execution_count": 24,
   "id": "2ec34ddd-03e4-4676-957b-cb288a7f1852",
   "metadata": {},
   "outputs": [
    {
     "name": "stdout",
     "output_type": "stream",
     "text": [
      "Results\n",
      "[('prop', 'http://www.wikidata.org/prop/direct/P19'), ('name', 'place of birth')]\n",
      "[('prop', 'http://www.wikidata.org/prop/direct/P569'), ('name', 'date of birth')]\n",
      "2\n"
     ]
    }
   ],
   "source": [
    "# find the property date of birth\n",
    "# see the properties of the instances of the Grand Slam\n",
    "queryString = \"\"\"\n",
    "SELECT DISTINCT ?prop ?name\n",
    "WHERE { \n",
    "    wd:Q1426 ?prop ?x.\n",
    "    ?prop sc:name ?name.\n",
    "    FILTER(REGEX(?name,\"birth\")).\n",
    "}\n",
    "\"\"\"\n",
    "\n",
    "print(\"Results\")\n",
    "x = run_query(queryString)"
   ]
  },
  {
   "cell_type": "code",
   "execution_count": 26,
   "id": "b2aa30d6-c520-4d82-90bc-b3d94977d186",
   "metadata": {},
   "outputs": [
    {
     "name": "stdout",
     "output_type": "stream",
     "text": [
      "Results\n",
      "[('people', 'http://www.wikidata.org/entity/Q11459'), ('name', 'Serena Williams'), ('win', '39')]\n",
      "[('people', 'http://www.wikidata.org/entity/Q959958'), ('name', 'Shingo Kunieda'), ('win', '32')]\n",
      "[('people', 'http://www.wikidata.org/entity/Q134720'), ('name', 'Martina Hingis'), ('win', '25')]\n",
      "[('people', 'http://www.wikidata.org/entity/Q16224602'), ('name', 'Yui Kamiji'), ('win', '22')]\n",
      "[('people', 'http://www.wikidata.org/entity/Q1426'), ('name', 'Roger Federer'), ('win', '22')]\n",
      "[('people', 'http://www.wikidata.org/entity/Q259606'), ('name', 'Esther Vergeer'), ('win', '21')]\n",
      "[('people', 'http://www.wikidata.org/entity/Q10132'), ('name', 'Rafael Nadal'), ('win', '20')]\n",
      "[('people', 'http://www.wikidata.org/entity/Q5812'), ('name', 'Novak Djokovic'), ('win', '20')]\n",
      "[('people', 'http://www.wikidata.org/entity/Q11578'), ('name', 'Venus Williams'), ('win', '20')]\n",
      "[('people', 'http://www.wikidata.org/entity/Q53340'), ('name', 'Bob Bryan'), ('win', '18')]\n",
      "10\n"
     ]
    }
   ],
   "source": [
    "# see the properties of the instances of the Grand Slam\n",
    "queryString = \"\"\"\n",
    "SELECT DISTINCT ?people ?name COUNT(?tournament) AS ?win\n",
    "WHERE { \n",
    "    #Grand slams\n",
    "    ?x wdt:P361 wd:Q102113.\n",
    "    ?edition wdt:P31 ?x.\n",
    "    ?tournament wdt:P361 ?edition.\n",
    "    ?tournament wdt:P1346 ?people.\n",
    "    ?people wdt:P569 ?birth.\n",
    "    ?people sc:name ?name.\n",
    "    FILTER (year(?birth) > 1975).\n",
    "}\n",
    "GROUP BY ?people ?name\n",
    "ORDER BY DESC (?win)\n",
    "LIMIT 10\n",
    "\"\"\"\n",
    "\n",
    "print(\"Results\")\n",
    "x = run_query(queryString)"
   ]
  },
  {
   "cell_type": "code",
   "execution_count": 27,
   "id": "48d66ac7",
   "metadata": {},
   "outputs": [
    {
     "name": "stdout",
     "output_type": "stream",
     "text": [
      "The index of this workflow is: 0_4\n",
      "The path is /locale/data/jupyter/prando/notebook/2022/results/workflow0_4.json\n",
      "JSON object updated\n"
     ]
    }
   ],
   "source": [
    "objs = []\n",
    "for i in x:\n",
    "    f_uri = i[0][1]\n",
    "    f_name = i[1][1]\n",
    "    victories = i[2][1]\n",
    "    obj = {}\n",
    "    obj[\"refers_to\"] = f_uri\n",
    "    obj[\"refers_to_name\"] = f_name\n",
    "    obj[\"check\"] = \"value\"\n",
    "    obj[\"value\"]= victories\n",
    "    objs.append(obj)\n",
    "evaluation.add_result(evaluation.get_index_workflow(pt),\"6\", evaluation.TYPE_REFERRED ,\"value\", objs)"
   ]
  },
  {
   "cell_type": "markdown",
   "id": "d4575f0e-aa58-423a-97cd-df8de574c2f0",
   "metadata": {
    "tags": []
   },
   "source": [
    "## Task 7\n",
    "Consider the country for sport property of the tennis player (NO Country of citizenship). Find which are the countries with at least one player who won at least one edition of each Grand Slam"
   ]
  },
  {
   "cell_type": "code",
   "execution_count": 26,
   "id": "c8e9a12a-0d5a-44da-9f95-3dc4f78f87f0",
   "metadata": {},
   "outputs": [
    {
     "name": "stdout",
     "output_type": "stream",
     "text": [
      "Results\n",
      "[('prop', 'http://www.wikidata.org/prop/direct/P1532'), ('name', 'country for sport')]\n",
      "[('prop', 'http://www.wikidata.org/prop/direct/P2416'), ('name', 'sports discipline competed in')]\n",
      "[('prop', 'http://www.wikidata.org/prop/direct/P641'), ('name', 'sport')]\n",
      "[('prop', 'http://www.wikidata.org/prop/direct/P6758'), ('name', 'supported sports team')]\n",
      "4\n"
     ]
    }
   ],
   "source": [
    "# find the property country for sport \n",
    "queryString = \"\"\"\n",
    "SELECT DISTINCT ?prop ?name\n",
    "WHERE { \n",
    "    wd:Q1426 ?prop ?x.\n",
    "    ?prop sc:name ?name.\n",
    "    FILTER(REGEX(?name,\"sport\")).\n",
    "}\n",
    "\"\"\"\n",
    "\n",
    "print(\"Results\")\n",
    "x = run_query(queryString)"
   ]
  },
  {
   "cell_type": "code",
   "execution_count": 26,
   "id": "dd075de3-4f6d-4eb1-989f-e2d623deab8c",
   "metadata": {},
   "outputs": [
    {
     "name": "stdout",
     "output_type": "stream",
     "text": [
      "Results\n",
      "[('people', 'http://www.wikidata.org/entity/Q10118'), ('name', 'Victoria Azarenka'), ('win', '4')]\n",
      "[('people', 'http://www.wikidata.org/entity/Q53338'), ('name', 'Louise Brough'), ('win', '4')]\n",
      "[('people', 'http://www.wikidata.org/entity/Q11578'), ('name', 'Venus Williams'), ('win', '4')]\n",
      "[('people', 'http://www.wikidata.org/entity/Q1426'), ('name', 'Roger Federer'), ('win', '4')]\n",
      "[('people', 'http://www.wikidata.org/entity/Q5812'), ('name', 'Novak Djokovic'), ('win', '4')]\n",
      "[('people', 'http://www.wikidata.org/entity/Q2093033'), ('name', 'Pierre-Hugues Herbert'), ('win', '4')]\n",
      "[('people', 'http://www.wikidata.org/entity/Q11459'), ('name', 'Serena Williams'), ('win', '4')]\n",
      "[('people', 'http://www.wikidata.org/entity/Q270414'), ('name', 'Anne Smith'), ('win', '4')]\n",
      "[('people', 'http://www.wikidata.org/entity/Q959958'), ('name', 'Shingo Kunieda'), ('win', '4')]\n",
      "[('people', 'http://www.wikidata.org/entity/Q54527'), ('name', 'Billie Jean King'), ('win', '4')]\n",
      "[('people', 'http://www.wikidata.org/entity/Q233332'), ('name', 'Gigi Fernández'), ('win', '4')]\n",
      "[('people', 'http://www.wikidata.org/entity/Q188080'), ('name', 'Arantxa Sánchez Vicario'), ('win', '4')]\n",
      "[('people', 'http://www.wikidata.org/entity/Q105550'), ('name', 'Rod Laver'), ('win', '4')]\n",
      "[('people', 'http://www.wikidata.org/entity/Q182736'), ('name', 'Ivan Lendl'), ('win', '4')]\n",
      "[('people', 'http://www.wikidata.org/entity/Q54654'), ('name', 'Pam Shriver'), ('win', '4')]\n",
      "[('people', 'http://www.wikidata.org/entity/Q10129'), ('name', 'Lisa Raymond'), ('win', '4')]\n",
      "[('people', 'http://www.wikidata.org/entity/Q634844'), ('name', 'Elena Vesnina'), ('win', '4')]\n",
      "[('people', 'http://www.wikidata.org/entity/Q134720'), ('name', 'Martina Hingis'), ('win', '4')]\n",
      "[('people', 'http://www.wikidata.org/entity/Q11666'), ('name', 'Maria Sharapova'), ('win', '4')]\n",
      "[('people', 'http://www.wikidata.org/entity/Q229116'), ('name', 'Katarina Srebotnik'), ('win', '4')]\n",
      "[('people', 'http://www.wikidata.org/entity/Q16224602'), ('name', 'Yui Kamiji'), ('win', '4')]\n",
      "[('people', 'http://www.wikidata.org/entity/Q11677'), ('name', 'Lindsay Davenport'), ('win', '4')]\n",
      "[('people', 'http://www.wikidata.org/entity/Q52430'), ('name', 'Daniela Hantuchová'), ('win', '4')]\n",
      "[('people', 'http://www.wikidata.org/entity/Q53390'), ('name', 'Maureen Connolly'), ('win', '4')]\n",
      "[('people', 'http://www.wikidata.org/entity/Q239765'), ('name', 'Tímea Babos'), ('win', '4')]\n",
      "[('people', 'http://www.wikidata.org/entity/Q426049'), ('name', 'John Fitzgerald'), ('win', '4')]\n",
      "[('people', 'http://www.wikidata.org/entity/Q229121'), ('name', 'Jana Novotná'), ('win', '4')]\n",
      "[('people', 'http://www.wikidata.org/entity/Q11685'), ('name', 'Kim Clijsters'), ('win', '4')]\n",
      "[('people', 'http://www.wikidata.org/entity/Q14286'), ('name', 'Chris Evert'), ('win', '4')]\n",
      "[('people', 'http://www.wikidata.org/entity/Q54545'), ('name', 'Martina Navratilova'), ('win', '4')]\n",
      "[('people', 'http://www.wikidata.org/entity/Q53424'), ('name', 'Shirley Fry'), ('win', '4')]\n",
      "[('people', 'http://www.wikidata.org/entity/Q3042015'), ('name', 'Stéphane Houdet'), ('win', '4')]\n",
      "[('people', 'http://www.wikidata.org/entity/Q10132'), ('name', 'Rafael Nadal'), ('win', '4')]\n",
      "[('people', 'http://www.wikidata.org/entity/Q53564'), ('name', 'Doris Hart'), ('win', '4')]\n",
      "[('people', 'http://www.wikidata.org/entity/Q233247'), ('name', 'Maria Bueno'), ('win', '4')]\n",
      "[('people', 'http://www.wikidata.org/entity/Q229151'), ('name', 'Helena Suková'), ('win', '4')]\n",
      "[('people', 'http://www.wikidata.org/entity/Q312639'), ('name', 'Fred Perry'), ('win', '4')]\n",
      "[('people', 'http://www.wikidata.org/entity/Q310380'), ('name', 'Jonas Björkman'), ('win', '4')]\n",
      "[('people', 'http://www.wikidata.org/entity/Q233243'), ('name', 'Natasha Zvereva'), ('win', '4')]\n",
      "[('people', 'http://www.wikidata.org/entity/Q53565'), ('name', 'Liezel Huber'), ('win', '4')]\n",
      "[('people', 'http://www.wikidata.org/entity/Q264493'), ('name', 'Kathy Jordan'), ('win', '4')]\n",
      "[('people', 'http://www.wikidata.org/entity/Q11662'), ('name', 'Steffi Graf'), ('win', '4')]\n",
      "[('people', 'http://www.wikidata.org/entity/Q229005'), ('name', 'Sara Errani'), ('win', '4')]\n",
      "[('people', 'http://www.wikidata.org/entity/Q312554'), ('name', 'Mahesh Bhupathi'), ('win', '4')]\n",
      "[('people', 'http://www.wikidata.org/entity/Q132147'), ('name', 'Sania Mirza'), ('win', '4')]\n",
      "[('people', 'http://www.wikidata.org/entity/Q296282'), ('name', 'Leander Paes'), ('win', '4')]\n",
      "[('people', 'http://www.wikidata.org/entity/Q11052500'), ('name', 'Barbora Krejčíková'), ('win', '4')]\n",
      "47\n"
     ]
    }
   ],
   "source": [
    "# see the properties of the instances of the Grand Slam\n",
    "queryString = \"\"\"\n",
    "SELECT DISTINCT ?people ?name COUNT(DISTINCT ?x) AS ?win\n",
    "WHERE { \n",
    "    #Grand slams\n",
    "    ?x wdt:P361 wd:Q102113.\n",
    "    ?edition wdt:P31 ?x.\n",
    "    ?tournament wdt:P361 ?edition.\n",
    "    ?tournament wdt:P1346 ?people.\n",
    "    ?people wdt:P1532 ?country.\n",
    "    ?people sc:name ?name.\n",
    "}\n",
    "GROUP BY ?people ?name\n",
    "HAVING (COUNT(DISTINCT ?x) >3 )\n",
    "\"\"\"\n",
    "\n",
    "print(\"Results\")\n",
    "x = run_query(queryString)"
   ]
  },
  {
   "cell_type": "code",
   "execution_count": 28,
   "id": "80a4d13c-3d5a-4c06-9d89-ab50e1af54ee",
   "metadata": {},
   "outputs": [
    {
     "name": "stdout",
     "output_type": "stream",
     "text": [
      "Results\n",
      "[('country', 'http://www.wikidata.org/entity/Q142'), ('name', 'France'), ('people', '2')]\n",
      "[('country', 'http://www.wikidata.org/entity/Q155'), ('name', 'Brazil'), ('people', '1')]\n",
      "[('country', 'http://www.wikidata.org/entity/Q408'), ('name', 'Australia'), ('people', '2')]\n",
      "[('country', 'http://www.wikidata.org/entity/Q38'), ('name', 'Italy'), ('people', '1')]\n",
      "[('country', 'http://www.wikidata.org/entity/Q28'), ('name', 'Hungary'), ('people', '1')]\n",
      "[('country', 'http://www.wikidata.org/entity/Q33946'), ('name', 'Czechoslovakia'), ('people', '3')]\n",
      "[('country', 'http://www.wikidata.org/entity/Q403'), ('name', 'Serbia'), ('people', '1')]\n",
      "[('country', 'http://www.wikidata.org/entity/Q17'), ('name', 'Japan'), ('people', '2')]\n",
      "[('country', 'http://www.wikidata.org/entity/Q213'), ('name', 'Czech Republic'), ('people', '4')]\n",
      "[('country', 'http://www.wikidata.org/entity/Q215'), ('name', 'Slovenia'), ('people', '1')]\n",
      "[('country', 'http://www.wikidata.org/entity/Q183'), ('name', 'Germany'), ('people', '1')]\n",
      "[('country', 'http://www.wikidata.org/entity/Q159'), ('name', 'Russia'), ('people', '2')]\n",
      "[('country', 'http://www.wikidata.org/entity/Q29'), ('name', 'Spain'), ('people', '2')]\n",
      "[('country', 'http://www.wikidata.org/entity/Q34'), ('name', 'Sweden'), ('people', '1')]\n",
      "[('country', 'http://www.wikidata.org/entity/Q668'), ('name', 'India'), ('people', '3')]\n",
      "[('country', 'http://www.wikidata.org/entity/Q31'), ('name', 'Belgium'), ('people', '1')]\n",
      "[('country', 'http://www.wikidata.org/entity/Q145'), ('name', 'United Kingdom'), ('people', '1')]\n",
      "[('country', 'http://www.wikidata.org/entity/Q214'), ('name', 'Slovakia'), ('people', '1')]\n",
      "[('country', 'http://www.wikidata.org/entity/Q39'), ('name', 'Switzerland'), ('people', '2')]\n",
      "[('country', 'http://www.wikidata.org/entity/Q184'), ('name', 'Belarus'), ('people', '2')]\n",
      "[('country', 'http://www.wikidata.org/entity/Q30'), ('name', 'United States of America'), ('people', '17')]\n",
      "21\n"
     ]
    }
   ],
   "source": [
    "# see the properties of the instances of the Grand Slam\n",
    "queryString = \"\"\"\n",
    "SELECT ?country ?name COUNT(DISTINCT ?people) AS ?people\n",
    "WHERE{\n",
    "    ?people wdt:P1532 ?country.\n",
    "    {\n",
    "        SELECT ?people COUNT(DISTINCT ?x) AS ?win\n",
    "        WHERE { \n",
    "            #Grand slams\n",
    "            ?x wdt:P361 wd:Q102113.\n",
    "            ?edition wdt:P31 ?x.\n",
    "            ?tournament wdt:P361 ?edition.\n",
    "            ?tournament wdt:P1346 ?people.\n",
    "        }\n",
    "        GROUP BY ?people\n",
    "        HAVING (COUNT(DISTINCT ?x) >3 )\n",
    "    }\n",
    "    ?country sc:name ?name.\n",
    "}\n",
    "GROUP BY ?country ?name\n",
    "\"\"\"\n",
    "\n",
    "print(\"Results\")\n",
    "x = run_query(queryString)"
   ]
  },
  {
   "cell_type": "code",
   "execution_count": 29,
   "id": "04c79845",
   "metadata": {},
   "outputs": [
    {
     "name": "stdout",
     "output_type": "stream",
     "text": [
      "The index of this workflow is: 0_4\n",
      "The path is /locale/data/jupyter/prando/notebook/2022/results/workflow0_4.json\n",
      "JSON object updated\n"
     ]
    }
   ],
   "source": [
    "objs = []\n",
    "for i in x:\n",
    "    f_uri = i[0][1]\n",
    "    f_name = i[1][1]\n",
    "    victories = i[2][1]\n",
    "    obj = {}\n",
    "    obj[\"refers_to\"] = f_uri\n",
    "    obj[\"refers_to_name\"] = f_name\n",
    "    obj[\"check\"] = \"value\"\n",
    "    obj[\"value\"]= victories\n",
    "    objs.append(obj)\n",
    "evaluation.add_result(evaluation.get_index_workflow(pt),\"7\", evaluation.TYPE_REFERRED ,\"value\", objs)"
   ]
  },
  {
   "cell_type": "markdown",
   "id": "4b641107-30ee-469d-a2ea-b14ab6e50739",
   "metadata": {},
   "source": [
    "## Task 8\n",
    "Consider the country for sport property of the tennis player (NO Country of citizenship). Find which are the countries with at least one player who was ranked 1 in the tennis ranking at least once"
   ]
  },
  {
   "cell_type": "code",
   "execution_count": 46,
   "id": "6cef2fc7-e072-4a4d-8c47-4be4b1d5ed06",
   "metadata": {},
   "outputs": [
    {
     "name": "stdout",
     "output_type": "stream",
     "text": [
      "Results\n",
      "[('prop', 'http://www.wikidata.org/prop/direct/P1006'), ('name', 'Nationale Thesaurus voor Auteurs ID')]\n",
      "[('prop', 'http://www.wikidata.org/prop/direct/P103'), ('name', 'native language')]\n",
      "[('prop', 'http://www.wikidata.org/prop/direct/P106'), ('name', 'occupation')]\n",
      "[('prop', 'http://www.wikidata.org/prop/direct/P108'), ('name', 'employer')]\n",
      "[('prop', 'http://www.wikidata.org/prop/direct/P1263'), ('name', 'NNDB people ID')]\n",
      "[('prop', 'http://www.wikidata.org/prop/direct/P1280'), ('name', 'CONOR.SI ID')]\n",
      "[('prop', 'http://www.wikidata.org/prop/direct/P1284'), ('name', 'Munzinger person ID')]\n",
      "[('prop', 'http://www.wikidata.org/prop/direct/P1285'), ('name', 'Munzinger Sport number')]\n",
      "[('prop', 'http://www.wikidata.org/prop/direct/P1296'), ('name', 'Gran Enciclopèdia Catalana ID')]\n",
      "[('prop', 'http://www.wikidata.org/prop/direct/P1343'), ('name', 'described by source')]\n",
      "[('prop', 'http://www.wikidata.org/prop/direct/P1344'), ('name', 'participant in')]\n",
      "[('prop', 'http://www.wikidata.org/prop/direct/P1352'), ('name', 'ranking')]\n",
      "[('prop', 'http://www.wikidata.org/prop/direct/P140'), ('name', 'religion')]\n",
      "[('prop', 'http://www.wikidata.org/prop/direct/P1412'), ('name', 'languages spoken, written or signed')]\n",
      "[('prop', 'http://www.wikidata.org/prop/direct/P1417'), ('name', 'Encyclopædia Britannica Online ID')]\n",
      "[('prop', 'http://www.wikidata.org/prop/direct/P1447'), ('name', 'Sports-Reference.com Olympic athlete ID')]\n",
      "[('prop', 'http://www.wikidata.org/prop/direct/P1532'), ('name', 'country for sport')]\n",
      "[('prop', 'http://www.wikidata.org/prop/direct/P166'), ('name', 'award received')]\n",
      "[('prop', 'http://www.wikidata.org/prop/direct/P1695'), ('name', 'NLP ID (unique)')]\n",
      "[('prop', 'http://www.wikidata.org/prop/direct/P1741'), ('name', 'GTAA ID')]\n",
      "[('prop', 'http://www.wikidata.org/prop/direct/P18'), ('name', 'image')]\n",
      "[('prop', 'http://www.wikidata.org/prop/direct/P19'), ('name', 'place of birth')]\n",
      "[('prop', 'http://www.wikidata.org/prop/direct/P2002'), ('name', 'Twitter username')]\n",
      "[('prop', 'http://www.wikidata.org/prop/direct/P2003'), ('name', 'Instagram username')]\n",
      "[('prop', 'http://www.wikidata.org/prop/direct/P2013'), ('name', 'Facebook ID')]\n",
      "[('prop', 'http://www.wikidata.org/prop/direct/P2019'), ('name', 'AllMovie person ID')]\n",
      "[('prop', 'http://www.wikidata.org/prop/direct/P2031'), ('name', 'work period (start)')]\n",
      "[('prop', 'http://www.wikidata.org/prop/direct/P2048'), ('name', 'height')]\n",
      "[('prop', 'http://www.wikidata.org/prop/direct/P2067'), ('name', 'mass')]\n",
      "[('prop', 'http://www.wikidata.org/prop/direct/P21'), ('name', 'sex or gender')]\n",
      "[('prop', 'http://www.wikidata.org/prop/direct/P2121'), ('name', 'prize money')]\n",
      "[('prop', 'http://www.wikidata.org/prop/direct/P213'), ('name', 'ISNI')]\n",
      "[('prop', 'http://www.wikidata.org/prop/direct/P214'), ('name', 'VIAF ID')]\n",
      "[('prop', 'http://www.wikidata.org/prop/direct/P2163'), ('name', 'FAST ID')]\n",
      "[('prop', 'http://www.wikidata.org/prop/direct/P22'), ('name', 'father')]\n",
      "[('prop', 'http://www.wikidata.org/prop/direct/P2218'), ('name', 'net worth')]\n",
      "[('prop', 'http://www.wikidata.org/prop/direct/P227'), ('name', 'GND ID')]\n",
      "[('prop', 'http://www.wikidata.org/prop/direct/P2416'), ('name', 'sports discipline competed in')]\n",
      "[('prop', 'http://www.wikidata.org/prop/direct/P244'), ('name', 'Library of Congress authority ID')]\n",
      "[('prop', 'http://www.wikidata.org/prop/direct/P25'), ('name', 'mother')]\n",
      "[('prop', 'http://www.wikidata.org/prop/direct/P2522'), ('name', 'victory')]\n",
      "[('prop', 'http://www.wikidata.org/prop/direct/P26'), ('name', 'spouse')]\n",
      "[('prop', 'http://www.wikidata.org/prop/direct/P2604'), ('name', 'Kinopoisk person ID')]\n",
      "[('prop', 'http://www.wikidata.org/prop/direct/P2605'), ('name', 'ČSFD person ID')]\n",
      "[('prop', 'http://www.wikidata.org/prop/direct/P268'), ('name', 'Bibliothèque nationale de France ID')]\n",
      "[('prop', 'http://www.wikidata.org/prop/direct/P269'), ('name', 'IdRef ID')]\n",
      "[('prop', 'http://www.wikidata.org/prop/direct/P27'), ('name', 'country of citizenship')]\n",
      "[('prop', 'http://www.wikidata.org/prop/direct/P286'), ('name', 'head coach')]\n",
      "[('prop', 'http://www.wikidata.org/prop/direct/P2924'), ('name', 'Great Russian Encyclopedia Online ID')]\n",
      "[('prop', 'http://www.wikidata.org/prop/direct/P31'), ('name', 'instance of')]\n",
      "[('prop', 'http://www.wikidata.org/prop/direct/P3171'), ('name', 'Olympic.org athlete ID (archived version)')]\n",
      "[('prop', 'http://www.wikidata.org/prop/direct/P3219'), ('name', 'Encyclopædia Universalis ID')]\n",
      "[('prop', 'http://www.wikidata.org/prop/direct/P3221'), ('name', 'New York Times topic ID')]\n",
      "[('prop', 'http://www.wikidata.org/prop/direct/P3222'), ('name', 'NE.se ID')]\n",
      "[('prop', 'http://www.wikidata.org/prop/direct/P3342'), ('name', 'significant person')]\n",
      "[('prop', 'http://www.wikidata.org/prop/direct/P3373'), ('name', 'sibling')]\n",
      "[('prop', 'http://www.wikidata.org/prop/direct/P3388'), ('name', 'LittleSis people ID')]\n",
      "[('prop', 'http://www.wikidata.org/prop/direct/P3417'), ('name', 'Quora topic ID')]\n",
      "[('prop', 'http://www.wikidata.org/prop/direct/P3427'), ('name', 'AS.com athlete ID')]\n",
      "[('prop', 'http://www.wikidata.org/prop/direct/P345'), ('name', 'IMDb ID')]\n",
      "[('prop', 'http://www.wikidata.org/prop/direct/P3509'), ('name', 'Dagens Nyheter topic ID')]\n",
      "[('prop', 'http://www.wikidata.org/prop/direct/P3553'), ('name', 'Zhihu topic ID')]\n",
      "[('prop', 'http://www.wikidata.org/prop/direct/P3630'), ('name', 'Babelio author ID')]\n",
      "[('prop', 'http://www.wikidata.org/prop/direct/P373'), ('name', 'Commons category')]\n",
      "[('prop', 'http://www.wikidata.org/prop/direct/P3846'), ('name', 'DBC author ID')]\n",
      "[('prop', 'http://www.wikidata.org/prop/direct/P39'), ('name', 'position held')]\n",
      "[('prop', 'http://www.wikidata.org/prop/direct/P40'), ('name', 'child')]\n",
      "[('prop', 'http://www.wikidata.org/prop/direct/P4342'), ('name', 'Store norske leksikon ID')]\n",
      "[('prop', 'http://www.wikidata.org/prop/direct/P4544'), ('name', 'Tennis Temple player ID')]\n",
      "[('prop', 'http://www.wikidata.org/prop/direct/P463'), ('name', 'member of')]\n",
      "[('prop', 'http://www.wikidata.org/prop/direct/P4666'), ('name', 'CineMagia person ID')]\n",
      "[('prop', 'http://www.wikidata.org/prop/direct/P4789'), ('name', \"Who's Who UK ID\")]\n",
      "[('prop', 'http://www.wikidata.org/prop/direct/P4985'), ('name', 'TMDb person ID')]\n",
      "[('prop', 'http://www.wikidata.org/prop/direct/P5019'), ('name', 'Brockhaus Enzyklopädie online ID')]\n",
      "[('prop', 'http://www.wikidata.org/prop/direct/P5034'), ('name', 'National Library of Korea ID')]\n",
      "[('prop', 'http://www.wikidata.org/prop/direct/P5247'), ('name', 'Giant Bomb ID')]\n",
      "[('prop', 'http://www.wikidata.org/prop/direct/P5337'), ('name', 'Google News topics ID')]\n",
      "[('prop', 'http://www.wikidata.org/prop/direct/P5361'), ('name', 'BNB person ID')]\n",
      "[('prop', 'http://www.wikidata.org/prop/direct/P5421'), ('name', 'Trading Card Database person ID')]\n",
      "[('prop', 'http://www.wikidata.org/prop/direct/P551'), ('name', 'residence')]\n",
      "[('prop', 'http://www.wikidata.org/prop/direct/P552'), ('name', 'handedness')]\n",
      "[('prop', 'http://www.wikidata.org/prop/direct/P555'), ('name', 'doubles record')]\n",
      "[('prop', 'http://www.wikidata.org/prop/direct/P5617'), ('name', 'Evene ID')]\n",
      "[('prop', 'http://www.wikidata.org/prop/direct/P564'), ('name', 'singles record')]\n",
      "[('prop', 'http://www.wikidata.org/prop/direct/P569'), ('name', 'date of birth')]\n",
      "[('prop', 'http://www.wikidata.org/prop/direct/P5815'), ('name', 'Olympics.com athlete ID')]\n",
      "[('prop', 'http://www.wikidata.org/prop/direct/P599'), ('name', 'ITF player ID')]\n",
      "[('prop', 'http://www.wikidata.org/prop/direct/P6262'), ('name', 'Fandom article ID')]\n",
      "[('prop', 'http://www.wikidata.org/prop/direct/P6327'), ('name', 'Goodreads character ID')]\n",
      "[('prop', 'http://www.wikidata.org/prop/direct/P641'), ('name', 'sport')]\n",
      "[('prop', 'http://www.wikidata.org/prop/direct/P646'), ('name', 'Freebase ID')]\n",
      "[('prop', 'http://www.wikidata.org/prop/direct/P6553'), ('name', 'personal pronoun')]\n",
      "[('prop', 'http://www.wikidata.org/prop/direct/P6573'), ('name', 'Klexikon article ID')]\n",
      "[('prop', 'http://www.wikidata.org/prop/direct/P6656'), ('name', 'BHCL ID (former scheme)')]\n",
      "[('prop', 'http://www.wikidata.org/prop/direct/P6683'), ('name', 'Alexander Turnbull Library ID')]\n",
      "[('prop', 'http://www.wikidata.org/prop/direct/P6868'), ('name', 'Hoopla artist ID')]\n",
      "[('prop', 'http://www.wikidata.org/prop/direct/P691'), ('name', 'NKCR AUT ID')]\n",
      "[('prop', 'http://www.wikidata.org/prop/direct/P7293'), ('name', 'PLWABN ID')]\n",
      "[('prop', 'http://www.wikidata.org/prop/direct/P734'), ('name', 'family name')]\n",
      "[('prop', 'http://www.wikidata.org/prop/direct/P735'), ('name', 'given name')]\n",
      "[('prop', 'http://www.wikidata.org/prop/direct/P741'), ('name', 'playing hand')]\n",
      "[('prop', 'http://www.wikidata.org/prop/direct/P7818'), ('name', 'French Vikidia ID')]\n",
      "[('prop', 'http://www.wikidata.org/prop/direct/P7859'), ('name', 'WorldCat Identities ID')]\n",
      "[('prop', 'http://www.wikidata.org/prop/direct/P7929'), ('name', 'Roglo person ID')]\n",
      "[('prop', 'http://www.wikidata.org/prop/direct/P7982'), ('name', 'Hrvatska enciklopedija ID')]\n",
      "[('prop', 'http://www.wikidata.org/prop/direct/P8286'), ('name', 'Olympedia people ID')]\n",
      "[('prop', 'http://www.wikidata.org/prop/direct/P856'), ('name', 'official website')]\n",
      "[('prop', 'http://www.wikidata.org/prop/direct/P8618'), ('name', 'ITF player ID 2020')]\n",
      "[('prop', 'http://www.wikidata.org/prop/direct/P8672'), ('name', 'Twitter topic ID')]\n",
      "[('prop', 'http://www.wikidata.org/prop/direct/P8687'), ('name', 'social media followers')]\n",
      "[('prop', 'http://www.wikidata.org/prop/direct/P9037'), ('name', 'BHCL UUID')]\n",
      "[('prop', 'http://www.wikidata.org/prop/direct/P910'), ('name', \"topic's main category\")]\n",
      "[('prop', 'http://www.wikidata.org/prop/direct/P9322'), ('name', 'SVKKL authority ID')]\n",
      "[('prop', 'http://www.wikidata.org/prop/direct/P949'), ('name', 'National Library of Israel ID')]\n",
      "[('prop', 'http://www.wikidata.org/prop/direct/P950'), ('name', 'Biblioteca Nacional de España ID')]\n",
      "[('prop', 'http://www.wikidata.org/prop/direct/P9743'), ('name', 'Podchaser creator ID')]\n",
      "[('prop', 'http://www.wikidata.org/prop/direct/P2641'), ('name', 'Davis Cup player ID')]\n",
      "[('prop', 'http://www.wikidata.org/prop/direct/P536'), ('name', 'ATP player ID')]\n",
      "[('prop', 'http://www.wikidata.org/prop/direct/P6758'), ('name', 'supported sports team')]\n",
      "[('prop', 'http://www.wikidata.org/prop/direct/P4503'), ('name', 'Wimbledon player ID')]\n",
      "[('prop', 'http://www.wikidata.org/prop/direct/P6308'), ('name', 'Scoresway tennis person ID')]\n",
      "[('prop', 'http://www.wikidata.org/prop/direct/P6215'), ('name', 'Vesti.kz person ID')]\n",
      "122\n"
     ]
    }
   ],
   "source": [
    "# find the class of country\n",
    "queryString = \"\"\"\n",
    "SELECT DISTINCT ?prop ?name\n",
    "WHERE{\n",
    "    wd:Q1426 ?prop ?x.\n",
    "    ?prop sc:name ?name.\n",
    "}\n",
    "\"\"\"\n",
    "\n",
    "print(\"Results\")\n",
    "x = run_query(queryString)"
   ]
  },
  {
   "cell_type": "code",
   "execution_count": 47,
   "id": "b6213b0f-111f-40a7-92eb-52a3d0c1b12b",
   "metadata": {},
   "outputs": [
    {
     "name": "stdout",
     "output_type": "stream",
     "text": [
      "Results\n",
      "[('x', '1')]\n",
      "[('x', '24')]\n",
      "2\n"
     ]
    }
   ],
   "source": [
    "# find the class of country\n",
    "queryString = \"\"\"\n",
    "SELECT DISTINCT ?x\n",
    "WHERE{\n",
    "    wd:Q1426 wdt:P1352 ?x.\n",
    "}\n",
    "\"\"\"\n",
    "\n",
    "print(\"Results\")\n",
    "x = run_query(queryString)"
   ]
  },
  {
   "cell_type": "code",
   "execution_count": 30,
   "id": "ab26bf3b-af72-4c8a-aaad-48059a568738",
   "metadata": {},
   "outputs": [
    {
     "name": "stdout",
     "output_type": "stream",
     "text": [
      "Results\n",
      "[('country', 'http://www.wikidata.org/entity/Q212'), ('name', 'Ukraine')]\n",
      "[('country', 'http://www.wikidata.org/entity/Q17'), ('name', 'Japan')]\n",
      "[('country', 'http://www.wikidata.org/entity/Q215'), ('name', 'Slovenia')]\n",
      "[('country', 'http://www.wikidata.org/entity/Q34'), ('name', 'Sweden')]\n",
      "[('country', 'http://www.wikidata.org/entity/Q39'), ('name', 'Switzerland')]\n",
      "[('country', 'http://www.wikidata.org/entity/Q211'), ('name', 'Latvia')]\n",
      "[('country', 'http://www.wikidata.org/entity/Q224'), ('name', 'Croatia')]\n",
      "[('country', 'http://www.wikidata.org/entity/Q33'), ('name', 'Finland')]\n",
      "[('country', 'http://www.wikidata.org/entity/Q36'), ('name', 'Poland')]\n",
      "[('country', 'http://www.wikidata.org/entity/Q29'), ('name', 'Spain')]\n",
      "[('country', 'http://www.wikidata.org/entity/Q408'), ('name', 'Australia')]\n",
      "[('country', 'http://www.wikidata.org/entity/Q33946'), ('name', 'Czechoslovakia')]\n",
      "[('country', 'http://www.wikidata.org/entity/Q155'), ('name', 'Brazil')]\n",
      "[('country', 'http://www.wikidata.org/entity/Q31'), ('name', 'Belgium')]\n",
      "[('country', 'http://www.wikidata.org/entity/Q668'), ('name', 'India')]\n",
      "[('country', 'http://www.wikidata.org/entity/Q184'), ('name', 'Belarus')]\n",
      "[('country', 'http://www.wikidata.org/entity/Q145'), ('name', 'United Kingdom')]\n",
      "[('country', 'http://www.wikidata.org/entity/Q16'), ('name', 'Canada')]\n",
      "[('country', 'http://www.wikidata.org/entity/Q739'), ('name', 'Colombia')]\n",
      "[('country', 'http://www.wikidata.org/entity/Q15180'), ('name', 'Soviet Union')]\n",
      "[('country', 'http://www.wikidata.org/entity/Q38'), ('name', 'Italy')]\n",
      "[('country', 'http://www.wikidata.org/entity/Q216923'), ('name', 'Chinese Taipei')]\n",
      "[('country', 'http://www.wikidata.org/entity/Q148'), ('name', \"People's Republic of China\")]\n",
      "[('country', 'http://www.wikidata.org/entity/Q159'), ('name', 'Russia')]\n",
      "[('country', 'http://www.wikidata.org/entity/Q191'), ('name', 'Estonia')]\n",
      "[('country', 'http://www.wikidata.org/entity/Q213'), ('name', 'Czech Republic')]\n",
      "[('country', 'http://www.wikidata.org/entity/Q35'), ('name', 'Denmark')]\n",
      "[('country', 'http://www.wikidata.org/entity/Q183'), ('name', 'Germany')]\n",
      "[('country', 'http://www.wikidata.org/entity/Q30'), ('name', 'United States of America')]\n",
      "[('country', 'http://www.wikidata.org/entity/Q403'), ('name', 'Serbia')]\n",
      "[('country', 'http://www.wikidata.org/entity/Q142'), ('name', 'France')]\n",
      "[('country', 'http://www.wikidata.org/entity/Q218'), ('name', 'Romania')]\n",
      "[('country', 'http://www.wikidata.org/entity/Q29999'), ('name', 'Kingdom of the Netherlands')]\n",
      "[('country', 'http://www.wikidata.org/entity/Q83286'), ('name', 'Socialist Federal Republic of Yugoslavia')]\n",
      "34\n"
     ]
    }
   ],
   "source": [
    "# see the properties of the instances of the Grand Slam\n",
    "queryString = \"\"\"\n",
    "SELECT DISTINCT ?country ?name\n",
    "WHERE { \n",
    "    #Grand slams\n",
    "    ?people wdt:P1532 ?country;\n",
    "            wdt:P1352 ?ranking;\n",
    "            wdt:P106 wd:Q10833314.\n",
    "    ?country sc:name ?name.\n",
    "    FILTER(?ranking = 1)\n",
    "}\n",
    "GROUP BY ?country ?name\n",
    "\"\"\"\n",
    "\n",
    "print(\"Results\")\n",
    "x = run_query(queryString)"
   ]
  },
  {
   "cell_type": "code",
   "execution_count": 31,
   "id": "2d522ccf-b559-438e-99a9-47bd197f6550",
   "metadata": {},
   "outputs": [
    {
     "name": "stdout",
     "output_type": "stream",
     "text": [
      "The index of this workflow is: 0_4\n",
      "The path is /locale/data/jupyter/prando/notebook/2022/results/workflow0_4.json\n",
      "JSON object updated\n"
     ]
    }
   ],
   "source": [
    "obj = [{\"uri\":r[0][1],\"name\":r[1][1]} for r in x]\n",
    "evaluation.add_result(evaluation.get_index_workflow(pt),\"8\", evaluation.TYPE_SET ,\"uri\", obj)"
   ]
  },
  {
   "cell_type": "code",
   "execution_count": null,
   "id": "8be20193",
   "metadata": {},
   "outputs": [],
   "source": []
  }
 ],
 "metadata": {
  "kernelspec": {
   "display_name": "Python 3 (ipykernel)",
   "language": "python",
   "name": "python3"
  },
  "language_info": {
   "codemirror_mode": {
    "name": "ipython",
    "version": 3
   },
   "file_extension": ".py",
   "mimetype": "text/x-python",
   "name": "python",
   "nbconvert_exporter": "python",
   "pygments_lexer": "ipython3",
   "version": "3.10.6"
  }
 },
 "nbformat": 4,
 "nbformat_minor": 5
}
