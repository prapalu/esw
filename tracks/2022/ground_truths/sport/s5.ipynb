{
 "cells": [
  {
   "cell_type": "markdown",
   "id": "7034c3bf-6eb0-4418-8687-7b9d2a501103",
   "metadata": {},
   "source": [
    "# General instructions\n",
    "\n",
    "The goal of the project is to materialize a set of **exploratory workloads** over a real-world, large-scale,  open-domain KG: [WikiData](https://www.wikidata.org/wiki/Wikidata:Main_Page)\n",
    "\n",
    "An exploratory workload  is composed by a set of queries, where each query is related to the information obtained previously.\n",
    "\n",
    "An exploratory workload starts with a usually vague, open ended question, and does not assume the person issuing the workload has a clear understanding of the data contained in the target database or its structure.\n",
    "\n",
    "Remeber that:\n",
    "\n",
    "1. All the queries must run in the python notebook\n",
    "2. You can use classes and properties only if you find them via a SPARQL query that must be present in the notebook\n",
    "3. You do not delete useless queries. Keep everything that is synthatically valid \n",
    "\n",
    "```\n",
    "?p <http://schema.org/name> ?name .\n",
    "```\n",
    "    \n",
    "    is the BGP returning a human-readable name of a property or a class in Wikidata."
   ]
  },
  {
   "cell_type": "code",
   "execution_count": 2,
   "id": "3605c9d5-5371-49a5-be8d-d66e8f417139",
   "metadata": {},
   "outputs": [],
   "source": [
    "## SETUP used later\n",
    "import sys\n",
    "import os\n",
    "import json\n",
    "import pandas as pd\n",
    "sys.path.insert(1, '../../../../src/')\n",
    "import gt_modules.evaluation as evaluation\n",
    "from SPARQLWrapper import SPARQLWrapper, JSON\n",
    "\n",
    "\n",
    "prefixString = \"\"\"\n",
    "##-sport5-##\n",
    "PREFIX wd: <http://www.wikidata.org/entity/> \n",
    "PREFIX wdt: <http://www.wikidata.org/prop/direct/> \n",
    "PREFIX sc: <http://schema.org/>\n",
    "\"\"\"\n",
    "\n",
    "# select and construct queries\n",
    "def run_query(queryString,verbose = True):\n",
    "    to_run = prefixString + \"\\n\" + queryString\n",
    "\n",
    "    sparql = SPARQLWrapper(\"http://gracevirtuoso.dei.unipd.it/sparql\")\n",
    "    sparql.setTimeout(300)\n",
    "    sparql.setReturnFormat(JSON)\n",
    "    sparql.setQuery(to_run)\n",
    "\n",
    "    try :\n",
    "        results = sparql.query()\n",
    "        json_results = results.convert()\n",
    "        if len(json_results['results']['bindings'])==0:\n",
    "            print(\"Empty\")\n",
    "            return []\n",
    "        array = []\n",
    "        for bindings in json_results['results']['bindings']:\n",
    "            app =  [ (var, value['value'])  for var, value in bindings.items() ] \n",
    "            if verbose:\n",
    "                print( app)\n",
    "            array.append(app)\n",
    "        if verbose:\n",
    "            print(len(array))\n",
    "        return array\n",
    "\n",
    "    except Exception as e :\n",
    "        print(\"The operation failed\", e)\n",
    "    \n",
    "# ASk queries\n",
    "def run_ask_query(queryString):\n",
    "    to_run = prefixString + \"\\n\" + queryString\n",
    "\n",
    "    sparql = SPARQLWrapper(\"http://gracevirtuoso.dei.unipd.it/sparql\")\n",
    "    sparql.setTimeout(300)\n",
    "    sparql.setReturnFormat(JSON)\n",
    "    sparql.setQuery(to_run)\n",
    "\n",
    "    try :\n",
    "        return sparql.query().convert()\n",
    "\n",
    "    except Exception as e :\n",
    "        print(\"The operation failed\", e)"
   ]
  },
  {
   "cell_type": "markdown",
   "id": "d477a59c-a68c-4c8f-9f97-8ca5294d7d27",
   "metadata": {},
   "source": [
    "# Sport Workflow Series (Basketball and NBA finals explorative search\") \n",
    "\n",
    "Consider the following exploratory information need:\n",
    "\n",
    "> investigate the world of basketball. Compare italian teams and US teams, country of citizenship of NBA players, and teams which won NBA finals."
   ]
  },
  {
   "cell_type": "markdown",
   "id": "4a45c0ba-f79e-441d-bec5-84401b09db70",
   "metadata": {},
   "source": [
    "## Useful URIs for the current workflow\n",
    "The following are given:\n",
    "\n",
    "| IRI           | Description   | Role      |\n",
    "| -----------   | -----------   |-----------|\n",
    "| `wdt:P1647`   | subproperty   | predicate |\n",
    "| `wdt:P31`     | instance of   | predicate |\n",
    "| `wdt:P106`    | profession    | predicate | \n",
    "| `wdt:P279`    | subclass      | predicate |\n",
    "| `wdt:P27`     | nationality   | predicate |\n",
    "| `wd:Q5`| Human       | node |\n",
    "| `wd:Q36159`| Lebron James      | node |\n",
    "| `wd:Q29545`| Kevin Durant      | node |\n"
   ]
  },
  {
   "cell_type": "markdown",
   "id": "7af439fb-96e4-4dbb-a381-f19afab79f86",
   "metadata": {
    "tags": []
   },
   "source": [
    "\n",
    "\n",
    "\n",
    "Also consider\n",
    "\n",
    "```\n",
    "wd:Q36159 ?p ?obj .\n",
    "```\n",
    "\n",
    "is the BGP to retrieve all **properties of Lebron James**\n",
    "\n",
    "Please consider that when you return a resource, you should return the IRI and the label of the resource. In particular, when the task require you to identify a BGP the result set must always be a list of couples IRI - label.\n",
    "\n",
    "\n",
    "The workload should:\n",
    "\n",
    "\n",
    "1. Identify the BGP for basketball player.\n",
    "\n",
    "2. Identify the BGP for basketball.\n",
    "\n",
    "3. Identify the BGP for basketball team.\n",
    "\n",
    "4. Return all italian basketball teams born before 1945 (the result set must be a list of triples basketball team IRI, label and year of inception).\n",
    "\n",
    "5. Identify the BGP for NBA finals\n",
    "\n",
    "6. Consider only the basketball teams which Kevin Durant and Lebron James played. Return the number of NBA finals won by these teams (the result set must be a list of triples basketball team IRI, label and #victories. Return a number for each basketball team).\n",
    "\n",
    "7. Consider only NBA (National Basketball Association) basketball teams and all basketball players who played in one of these teams at least once. Also consider the country of citizenship of the players with the related continent. Return for each continent the number of players who played in an NBA basketball teams. (the result set must be triples of continent IRI, labels and #players)\n",
    "\n",
    "8. Identify the BGP for the NBA Most Valuable Player Award (MVP) (see https://en.wikipedia.org/wiki/NBA_Most_Valuable_Player_Award)\n",
    "\n",
    "9. Consider the players who won the NBA Most Valuable Player Award. Return for these players the number of NBA Most Valuable Player Award won in their career (the result set must be triples of player IRI, label and #victories)\n",
    "\n"
   ]
  },
  {
   "cell_type": "code",
   "execution_count": 3,
   "id": "0b3634a0",
   "metadata": {},
   "outputs": [
    {
     "name": "stdout",
     "output_type": "stream",
     "text": [
      "The index of this workflow is: 0_1\n"
     ]
    }
   ],
   "source": [
    "## startup the evaluation\n",
    "# setup the file and create the empty json\n",
    "ipname = \"s5.ipynb\"\n",
    "pt = os.getcwd()+os.sep+ipname\n",
    "evaluation.setup(pt)"
   ]
  },
  {
   "cell_type": "markdown",
   "id": "4be4a371-a6c0-4616-92b6-5fd6f8c1c24f",
   "metadata": {
    "jp-MarkdownHeadingCollapsed": true,
    "tags": []
   },
   "source": [
    "## Task 1 \n",
    "Identify the BGP for basketball player"
   ]
  },
  {
   "cell_type": "code",
   "execution_count": 2,
   "id": "06c2b5e5-bc7b-404a-8fc7-31d6ca118da5",
   "metadata": {
    "tags": []
   },
   "outputs": [
    {
     "name": "stdout",
     "output_type": "stream",
     "text": [
      "Results\n",
      "[('pr', 'http://www.wikidata.org/prop/direct/P106'), ('name', 'occupation')]\n",
      "[('pr', 'http://www.wikidata.org/prop/direct/P118'), ('name', 'league')]\n",
      "[('pr', 'http://www.wikidata.org/prop/direct/P1207'), ('name', 'NUKAT ID')]\n",
      "[('pr', 'http://www.wikidata.org/prop/direct/P1263'), ('name', 'NNDB people ID')]\n",
      "[('pr', 'http://www.wikidata.org/prop/direct/P1280'), ('name', 'CONOR.SI ID')]\n",
      "[('pr', 'http://www.wikidata.org/prop/direct/P1285'), ('name', 'Munzinger Sport number')]\n",
      "[('pr', 'http://www.wikidata.org/prop/direct/P1344'), ('name', 'participant in')]\n",
      "[('pr', 'http://www.wikidata.org/prop/direct/P1411'), ('name', 'nominated for')]\n",
      "[('pr', 'http://www.wikidata.org/prop/direct/P1412'), ('name', 'languages spoken, written or signed')]\n",
      "[('pr', 'http://www.wikidata.org/prop/direct/P1417'), ('name', 'Encyclopædia Britannica Online ID')]\n",
      "[('pr', 'http://www.wikidata.org/prop/direct/P1447'), ('name', 'Sports-Reference.com Olympic athlete ID')]\n",
      "[('pr', 'http://www.wikidata.org/prop/direct/P1532'), ('name', 'country for sport')]\n",
      "[('pr', 'http://www.wikidata.org/prop/direct/P1559'), ('name', 'name in native language')]\n",
      "[('pr', 'http://www.wikidata.org/prop/direct/P1618'), ('name', 'sport number')]\n",
      "[('pr', 'http://www.wikidata.org/prop/direct/P166'), ('name', 'award received')]\n",
      "[('pr', 'http://www.wikidata.org/prop/direct/P172'), ('name', 'ethnic group')]\n",
      "[('pr', 'http://www.wikidata.org/prop/direct/P1741'), ('name', 'GTAA ID')]\n",
      "[('pr', 'http://www.wikidata.org/prop/direct/P18'), ('name', 'image')]\n",
      "[('pr', 'http://www.wikidata.org/prop/direct/P19'), ('name', 'place of birth')]\n",
      "[('pr', 'http://www.wikidata.org/prop/direct/P1953'), ('name', 'Discogs artist ID')]\n",
      "[('pr', 'http://www.wikidata.org/prop/direct/P2002'), ('name', 'Twitter username')]\n",
      "[('pr', 'http://www.wikidata.org/prop/direct/P2003'), ('name', 'Instagram username')]\n",
      "[('pr', 'http://www.wikidata.org/prop/direct/P2013'), ('name', 'Facebook ID')]\n",
      "[('pr', 'http://www.wikidata.org/prop/direct/P2031'), ('name', 'work period (start)')]\n",
      "[('pr', 'http://www.wikidata.org/prop/direct/P2048'), ('name', 'height')]\n",
      "[('pr', 'http://www.wikidata.org/prop/direct/P2067'), ('name', 'mass')]\n",
      "[('pr', 'http://www.wikidata.org/prop/direct/P2094'), ('name', 'competition class')]\n",
      "[('pr', 'http://www.wikidata.org/prop/direct/P21'), ('name', 'sex or gender')]\n",
      "[('pr', 'http://www.wikidata.org/prop/direct/P214'), ('name', 'VIAF ID')]\n",
      "[('pr', 'http://www.wikidata.org/prop/direct/P2163'), ('name', 'FAST ID')]\n",
      "[('pr', 'http://www.wikidata.org/prop/direct/P2373'), ('name', 'Genius artist ID')]\n",
      "[('pr', 'http://www.wikidata.org/prop/direct/P244'), ('name', 'Library of Congress authority ID')]\n",
      "[('pr', 'http://www.wikidata.org/prop/direct/P26'), ('name', 'spouse')]\n",
      "[('pr', 'http://www.wikidata.org/prop/direct/P2600'), ('name', 'Geni.com profile ID')]\n",
      "[('pr', 'http://www.wikidata.org/prop/direct/P2605'), ('name', 'ČSFD person ID')]\n",
      "[('pr', 'http://www.wikidata.org/prop/direct/P2638'), ('name', 'TV.com ID')]\n",
      "[('pr', 'http://www.wikidata.org/prop/direct/P27'), ('name', 'country of citizenship')]\n",
      "[('pr', 'http://www.wikidata.org/prop/direct/P2924'), ('name', 'Great Russian Encyclopedia Online ID')]\n",
      "[('pr', 'http://www.wikidata.org/prop/direct/P31'), ('name', 'instance of')]\n",
      "[('pr', 'http://www.wikidata.org/prop/direct/P3171'), ('name', 'Olympic.org athlete ID (archived version)')]\n",
      "[('pr', 'http://www.wikidata.org/prop/direct/P3219'), ('name', 'Encyclopædia Universalis ID')]\n",
      "[('pr', 'http://www.wikidata.org/prop/direct/P3221'), ('name', 'New York Times topic ID')]\n",
      "[('pr', 'http://www.wikidata.org/prop/direct/P3222'), ('name', 'NE.se ID')]\n",
      "[('pr', 'http://www.wikidata.org/prop/direct/P3388'), ('name', 'LittleSis people ID')]\n",
      "[('pr', 'http://www.wikidata.org/prop/direct/P3417'), ('name', 'Quora topic ID')]\n",
      "[('pr', 'http://www.wikidata.org/prop/direct/P345'), ('name', 'IMDb ID')]\n",
      "[('pr', 'http://www.wikidata.org/prop/direct/P3527'), ('name', 'Eurobasket.com player ID')]\n",
      "[('pr', 'http://www.wikidata.org/prop/direct/P3542'), ('name', 'FIBA player ID')]\n",
      "[('pr', 'http://www.wikidata.org/prop/direct/P3553'), ('name', 'Zhihu topic ID')]\n",
      "[('pr', 'http://www.wikidata.org/prop/direct/P373'), ('name', 'Commons category')]\n",
      "[('pr', 'http://www.wikidata.org/prop/direct/P3762'), ('name', 'openMLOL author ID')]\n",
      "[('pr', 'http://www.wikidata.org/prop/direct/P3957'), ('name', 'RealGM basketball player ID')]\n",
      "[('pr', 'http://www.wikidata.org/prop/direct/P40'), ('name', 'child')]\n",
      "[('pr', 'http://www.wikidata.org/prop/direct/P4063'), ('name', 'United States Olympic & Paralympic Committee athlete ID')]\n",
      "[('pr', 'http://www.wikidata.org/prop/direct/P413'), ('name', 'position played on team / speciality')]\n",
      "[('pr', 'http://www.wikidata.org/prop/direct/P434'), ('name', 'MusicBrainz artist ID')]\n",
      "[('pr', 'http://www.wikidata.org/prop/direct/P4342'), ('name', 'Store norske leksikon ID')]\n",
      "[('pr', 'http://www.wikidata.org/prop/direct/P4657'), ('name', 'The Numbers person ID')]\n",
      "[('pr', 'http://www.wikidata.org/prop/direct/P4666'), ('name', 'CineMagia person ID')]\n",
      "[('pr', 'http://www.wikidata.org/prop/direct/P4790'), ('name', 'Basketball-Reference.com international player ID')]\n",
      "[('pr', 'http://www.wikidata.org/prop/direct/P4985'), ('name', 'TMDb person ID')]\n",
      "[('pr', 'http://www.wikidata.org/prop/direct/P5007'), ('name', 'Behind The Voice Actors person ID')]\n",
      "[('pr', 'http://www.wikidata.org/prop/direct/P5008'), ('name', 'on focus list of Wikimedia project')]\n",
      "[('pr', 'http://www.wikidata.org/prop/direct/P54'), ('name', 'member of sports team')]\n",
      "[('pr', 'http://www.wikidata.org/prop/direct/P5421'), ('name', 'Trading Card Database person ID')]\n",
      "[('pr', 'http://www.wikidata.org/prop/direct/P551'), ('name', 'residence')]\n",
      "[('pr', 'http://www.wikidata.org/prop/direct/P5617'), ('name', 'Evene ID')]\n",
      "[('pr', 'http://www.wikidata.org/prop/direct/P569'), ('name', 'date of birth')]\n",
      "[('pr', 'http://www.wikidata.org/prop/direct/P5815'), ('name', 'Olympics.com athlete ID')]\n",
      "[('pr', 'http://www.wikidata.org/prop/direct/P5882'), ('name', 'Muziekweb performer ID')]\n",
      "[('pr', 'http://www.wikidata.org/prop/direct/P6327'), ('name', 'Goodreads character ID')]\n",
      "[('pr', 'http://www.wikidata.org/prop/direct/P641'), ('name', 'sport')]\n",
      "[('pr', 'http://www.wikidata.org/prop/direct/P646'), ('name', 'Freebase ID')]\n",
      "[('pr', 'http://www.wikidata.org/prop/direct/P6517'), ('name', 'WhoSampled artist ID')]\n",
      "[('pr', 'http://www.wikidata.org/prop/direct/P6723'), ('name', 'BlackPast.org ID')]\n",
      "[('pr', 'http://www.wikidata.org/prop/direct/P6868'), ('name', 'Hoopla artist ID')]\n",
      "[('pr', 'http://www.wikidata.org/prop/direct/P69'), ('name', 'educated at')]\n",
      "[('pr', 'http://www.wikidata.org/prop/direct/P7293'), ('name', 'PLWABN ID')]\n",
      "[('pr', 'http://www.wikidata.org/prop/direct/P734'), ('name', 'family name')]\n",
      "[('pr', 'http://www.wikidata.org/prop/direct/P735'), ('name', 'given name')]\n",
      "[('pr', 'http://www.wikidata.org/prop/direct/P7644'), ('name', 'Encyclopedia of Cleveland History ID')]\n",
      "[('pr', 'http://www.wikidata.org/prop/direct/P7818'), ('name', 'French Vikidia ID')]\n",
      "[('pr', 'http://www.wikidata.org/prop/direct/P7832'), ('name', 'Basque Vikidia ID')]\n",
      "[('pr', 'http://www.wikidata.org/prop/direct/P7859'), ('name', 'WorldCat Identities ID')]\n",
      "[('pr', 'http://www.wikidata.org/prop/direct/P8125'), ('name', 'Fandango person ID')]\n",
      "[('pr', 'http://www.wikidata.org/prop/direct/P8286'), ('name', 'Olympedia people ID')]\n",
      "[('pr', 'http://www.wikidata.org/prop/direct/P8548'), ('name', 'Proballers ID')]\n",
      "[('pr', 'http://www.wikidata.org/prop/direct/P856'), ('name', 'official website')]\n",
      "[('pr', 'http://www.wikidata.org/prop/direct/P8672'), ('name', 'Twitter topic ID')]\n",
      "[('pr', 'http://www.wikidata.org/prop/direct/P8687'), ('name', 'social media followers')]\n",
      "[('pr', 'http://www.wikidata.org/prop/direct/P910'), ('name', \"topic's main category\")]\n",
      "[('pr', 'http://www.wikidata.org/prop/direct/P935'), ('name', 'Commons gallery')]\n",
      "[('pr', 'http://www.wikidata.org/prop/direct/P950'), ('name', 'Biblioteca Nacional de España ID')]\n",
      "[('pr', 'http://www.wikidata.org/prop/direct/P9743'), ('name', 'Podchaser creator ID')]\n",
      "[('pr', 'http://www.wikidata.org/prop/direct/P2685'), ('name', 'Basketball Reference NBA player ID')]\n",
      "[('pr', 'http://www.wikidata.org/prop/direct/P3533'), ('name', 'DraftExpress ID')]\n",
      "[('pr', 'http://www.wikidata.org/prop/direct/P3647'), ('name', 'NBA.com player ID')]\n",
      "[('pr', 'http://www.wikidata.org/prop/direct/P3685'), ('name', 'ESPN.com NBA player ID')]\n",
      "[('pr', 'http://www.wikidata.org/prop/direct/P647'), ('name', 'drafted by')]\n",
      "[('pr', 'http://www.wikidata.org/prop/direct/P7339'), ('name', 'Rivals.com ID')]\n",
      "[('pr', 'http://www.wikidata.org/prop/direct/P7397'), ('name', '247Sports ID')]\n",
      "101\n"
     ]
    }
   ],
   "source": [
    "# starting from Lebron James I look at his properties\n",
    "queryString = \"\"\"\n",
    "SELECT DISTINCT ?pr ?name\n",
    "WHERE { \n",
    "    wd:Q36159 ?pr ?obj.\n",
    "    ?pr sc:name ?name .\n",
    "}\n",
    "\"\"\"\n",
    "\n",
    "print(\"Results\")\n",
    "x = run_query(queryString)"
   ]
  },
  {
   "cell_type": "code",
   "execution_count": 3,
   "id": "a7da53c5-dbef-4b8d-9313-904f9efee4a3",
   "metadata": {},
   "outputs": [
    {
     "name": "stdout",
     "output_type": "stream",
     "text": [
      "Results\n",
      "[('obj', 'http://www.wikidata.org/entity/Q10798782'), ('name', 'television actor')]\n",
      "[('obj', 'http://www.wikidata.org/entity/Q28389'), ('name', 'screenwriter')]\n",
      "[('obj', 'http://www.wikidata.org/entity/Q3665646'), ('name', 'basketball player')]\n",
      "3\n"
     ]
    }
   ],
   "source": [
    "# starting from Lebron James I look at his properties\n",
    "queryString = \"\"\"\n",
    "SELECT DISTINCT ?obj ?name\n",
    "WHERE { \n",
    "    wd:Q36159 wdt:P106 ?obj.\n",
    "    ?obj sc:name ?name .\n",
    "}\n",
    "\"\"\"\n",
    "\n",
    "print(\"Results\")\n",
    "x = run_query(queryString)"
   ]
  },
  {
   "cell_type": "code",
   "execution_count": 4,
   "id": "6b320bbf",
   "metadata": {},
   "outputs": [
    {
     "name": "stdout",
     "output_type": "stream",
     "text": [
      "The index of this workflow is: 0_1\n",
      "The path is /locale/data/jupyter/prando/notebook/2022/results/workflow0_1.json\n",
      "JSON object updated\n"
     ]
    }
   ],
   "source": [
    "### insert the result of TASK 1 in the file\n",
    "og_uri = \"http://www.wikidata.org/entity/Q3665646\"\n",
    "og_name = \"basketball player\"\n",
    "obj = {\"uri\":og_uri,\"name\":og_name}\n",
    "evaluation.add_result(evaluation.get_index_workflow(pt),\"1\", evaluation.TYPE_SINGLE ,\"uri\", [obj] ,\"all\")"
   ]
  },
  {
   "cell_type": "markdown",
   "id": "6fd10d59-a342-4fe0-a84d-d3626e5397f5",
   "metadata": {},
   "source": [
    "`wd:Q3665646` is the basketball player class"
   ]
  },
  {
   "cell_type": "markdown",
   "id": "abc209bd-f2c1-43fc-824c-b5434cb403b8",
   "metadata": {
    "jp-MarkdownHeadingCollapsed": true,
    "tags": []
   },
   "source": [
    "## Task 2"
   ]
  },
  {
   "cell_type": "code",
   "execution_count": 4,
   "id": "23af19cf-fe0f-4932-bb49-ca53d952fe88",
   "metadata": {},
   "outputs": [
    {
     "name": "stdout",
     "output_type": "stream",
     "text": [
      "Results\n",
      "[('pr', 'http://www.wikidata.org/prop/direct/P1014'), ('name', 'Art & Architecture Thesaurus ID')]\n",
      "[('pr', 'http://www.wikidata.org/prop/direct/P1036'), ('name', 'Dewey Decimal Classification')]\n",
      "[('pr', 'http://www.wikidata.org/prop/direct/P1296'), ('name', 'Gran Enciclopèdia Catalana ID')]\n",
      "[('pr', 'http://www.wikidata.org/prop/direct/P1424'), ('name', \"topic's main template\")]\n",
      "[('pr', 'http://www.wikidata.org/prop/direct/P1709'), ('name', 'equivalent class')]\n",
      "[('pr', 'http://www.wikidata.org/prop/direct/P1963'), ('name', 'properties for this type')]\n",
      "[('pr', 'http://www.wikidata.org/prop/direct/P227'), ('name', 'GND ID')]\n",
      "[('pr', 'http://www.wikidata.org/prop/direct/P2347'), ('name', 'YSO ID')]\n",
      "[('pr', 'http://www.wikidata.org/prop/direct/P244'), ('name', 'Library of Congress authority ID')]\n",
      "[('pr', 'http://www.wikidata.org/prop/direct/P268'), ('name', 'Bibliothèque nationale de France ID')]\n",
      "[('pr', 'http://www.wikidata.org/prop/direct/P279'), ('name', 'subclass of')]\n",
      "[('pr', 'http://www.wikidata.org/prop/direct/P2888'), ('name', 'exact match')]\n",
      "[('pr', 'http://www.wikidata.org/prop/direct/P31'), ('name', 'instance of')]\n",
      "[('pr', 'http://www.wikidata.org/prop/direct/P361'), ('name', 'part of')]\n",
      "[('pr', 'http://www.wikidata.org/prop/direct/P373'), ('name', 'Commons category')]\n",
      "[('pr', 'http://www.wikidata.org/prop/direct/P425'), ('name', 'field of this occupation')]\n",
      "[('pr', 'http://www.wikidata.org/prop/direct/P4839'), ('name', 'Wolfram Language entity code')]\n",
      "[('pr', 'http://www.wikidata.org/prop/direct/P4946'), ('name', 'Library of Congress Demographic Group Terms ID')]\n",
      "[('pr', 'http://www.wikidata.org/prop/direct/P641'), ('name', 'sport')]\n",
      "[('pr', 'http://www.wikidata.org/prop/direct/P646'), ('name', 'Freebase ID')]\n",
      "[('pr', 'http://www.wikidata.org/prop/direct/P8408'), ('name', 'KBpedia ID')]\n",
      "[('pr', 'http://www.wikidata.org/prop/direct/P8814'), ('name', 'WordNet 3.1 Synset ID')]\n",
      "[('pr', 'http://www.wikidata.org/prop/direct/P910'), ('name', \"topic's main category\")]\n",
      "23\n"
     ]
    }
   ],
   "source": [
    "# starting from Basketball player I look at its properties\n",
    "queryString = \"\"\"\n",
    "SELECT DISTINCT ?pr ?name\n",
    "WHERE { \n",
    "    wd:Q3665646 ?pr ?obj.\n",
    "    ?pr sc:name ?name .\n",
    "}\n",
    "\"\"\"\n",
    "\n",
    "print(\"Results\")\n",
    "x = run_query(queryString)"
   ]
  },
  {
   "cell_type": "code",
   "execution_count": 5,
   "id": "10e1df8e-ad96-4c90-b80d-df623554ef40",
   "metadata": {},
   "outputs": [
    {
     "name": "stdout",
     "output_type": "stream",
     "text": [
      "Results\n",
      "[('obj', 'http://www.wikidata.org/entity/Q5372'), ('name', 'basketball')]\n",
      "1\n"
     ]
    }
   ],
   "source": [
    "# starting from Basketball player I look at its properties\n",
    "queryString = \"\"\"\n",
    "SELECT DISTINCT ?obj ?name\n",
    "WHERE { \n",
    "    wd:Q3665646 wdt:P641 ?obj.\n",
    "    ?obj sc:name ?name .\n",
    "}\n",
    "\"\"\"\n",
    "\n",
    "print(\"Results\")\n",
    "x = run_query(queryString)"
   ]
  },
  {
   "cell_type": "code",
   "execution_count": 5,
   "id": "ddf01807",
   "metadata": {},
   "outputs": [
    {
     "name": "stdout",
     "output_type": "stream",
     "text": [
      "The index of this workflow is: 0_1\n",
      "The path is /locale/data/jupyter/prando/notebook/2022/results/workflow0_1.json\n",
      "JSON object updated\n"
     ]
    }
   ],
   "source": [
    "### insert the result of TASK 1 in the file\n",
    "og_uri = \"http://www.wikidata.org/entity/Q5372\"\n",
    "og_name = \"basketball\"\n",
    "obj = {\"uri\":og_uri,\"name\":og_name}\n",
    "evaluation.add_result(evaluation.get_index_workflow(pt),\"2\", evaluation.TYPE_SINGLE ,\"uri\", [obj] ,\"all\")"
   ]
  },
  {
   "cell_type": "markdown",
   "id": "0c52bdff-0bf0-4db0-adb3-e1a4a2190c19",
   "metadata": {},
   "source": [
    "`wd:Q5372` is the node of basketball"
   ]
  },
  {
   "cell_type": "markdown",
   "id": "277b50b4-73c3-46f2-8d92-149d5e35a7ad",
   "metadata": {
    "jp-MarkdownHeadingCollapsed": true,
    "tags": []
   },
   "source": [
    "## Task 3"
   ]
  },
  {
   "cell_type": "code",
   "execution_count": 6,
   "id": "fc1c4b55-98f3-4c7a-80f4-d6664f898b8d",
   "metadata": {},
   "outputs": [
    {
     "name": "stdout",
     "output_type": "stream",
     "text": [
      "Results\n",
      "[('obj', 'http://www.wikidata.org/entity/Q169138'), ('name', 'Miami Heat')]\n",
      "[('obj', 'http://www.wikidata.org/entity/Q121783'), ('name', 'Los Angeles Lakers')]\n",
      "[('obj', 'http://www.wikidata.org/entity/Q162990'), ('name', 'Cleveland Cavaliers')]\n",
      "3\n"
     ]
    }
   ],
   "source": [
    "# starting from Lebron James I look at his properties\n",
    "queryString = \"\"\"\n",
    "SELECT DISTINCT ?obj ?name\n",
    "WHERE { \n",
    "    wd:Q36159 wdt:P54 ?obj.\n",
    "    ?obj sc:name ?name .\n",
    "}\n",
    "\"\"\"\n",
    "\n",
    "print(\"Results\")\n",
    "x = run_query(queryString)"
   ]
  },
  {
   "cell_type": "code",
   "execution_count": 7,
   "id": "eca868e7-bda5-4061-8cac-fafa8433bcdf",
   "metadata": {},
   "outputs": [
    {
     "name": "stdout",
     "output_type": "stream",
     "text": [
      "Results\n",
      "[('inst', 'http://www.wikidata.org/entity/Q13393265'), ('name', 'basketball team')]\n",
      "1\n"
     ]
    }
   ],
   "source": [
    "# starting from Lebron James I look at his properties\n",
    "queryString = \"\"\"\n",
    "SELECT DISTINCT ?inst ?name\n",
    "WHERE { \n",
    "    wd:Q36159 wdt:P54 ?obj.\n",
    "    ?obj wdt:P31 ?inst.\n",
    "    ?inst sc:name ?name .\n",
    "}\n",
    "\"\"\"\n",
    "\n",
    "print(\"Results\")\n",
    "x = run_query(queryString)"
   ]
  },
  {
   "cell_type": "code",
   "execution_count": 6,
   "id": "6f22988f",
   "metadata": {},
   "outputs": [
    {
     "name": "stdout",
     "output_type": "stream",
     "text": [
      "The index of this workflow is: 0_1\n",
      "The path is /locale/data/jupyter/prando/notebook/2022/results/workflow0_1.json\n",
      "JSON object updated\n"
     ]
    }
   ],
   "source": [
    "### insert the result of TASK 3 in the file\n",
    "og_uri = \"http://www.wikidata.org/entity/Q13393265\"\n",
    "og_name = \"basketball team\"\n",
    "obj = {\"uri\":og_uri,\"name\":og_name}\n",
    "evaluation.add_result(evaluation.get_index_workflow(pt),\"3\", evaluation.TYPE_SINGLE ,\"uri\", [obj] ,\"all\")"
   ]
  },
  {
   "cell_type": "markdown",
   "id": "ff19f389-24cf-44ef-b5e3-2f36f3488555",
   "metadata": {},
   "source": [
    "`Q13393265` is the basketball team"
   ]
  },
  {
   "cell_type": "markdown",
   "id": "7db272d5-4abd-417a-bdd5-c5d24e949d4e",
   "metadata": {
    "jp-MarkdownHeadingCollapsed": true,
    "tags": []
   },
   "source": [
    "## Task 4"
   ]
  },
  {
   "cell_type": "code",
   "execution_count": 8,
   "id": "a7084de6-3473-49b5-aaec-93e92115a06f",
   "metadata": {},
   "outputs": [
    {
     "name": "stdout",
     "output_type": "stream",
     "text": [
      "Results\n",
      "[('inst', 'http://www.wikidata.org/entity/Q30'), ('name', 'United States of America')]\n",
      "1\n"
     ]
    }
   ],
   "source": [
    "# starting from Lebron James I look at his properties\n",
    "queryString = \"\"\"\n",
    "SELECT DISTINCT ?inst ?name\n",
    "WHERE { \n",
    "    wd:Q36159 wdt:P54 ?obj.\n",
    "    ?obj wdt:P17 ?inst.\n",
    "    ?inst sc:name ?name .\n",
    "}\n",
    "\"\"\"\n",
    "\n",
    "print(\"Results\")\n",
    "x = run_query(queryString)"
   ]
  },
  {
   "cell_type": "code",
   "execution_count": 9,
   "id": "1e720573-975a-4d9b-b00b-ae6f59617f6f",
   "metadata": {},
   "outputs": [
    {
     "name": "stdout",
     "output_type": "stream",
     "text": [
      "Results\n",
      "[('inst', 'http://www.wikidata.org/entity/Q1489259'), ('name', 'superpower')]\n",
      "[('inst', 'http://www.wikidata.org/entity/Q99541706'), ('name', 'historical unrecognized state')]\n",
      "[('inst', 'http://www.wikidata.org/entity/Q1520223'), ('name', 'constitutional republic')]\n",
      "[('inst', 'http://www.wikidata.org/entity/Q3624078'), ('name', 'sovereign state')]\n",
      "[('inst', 'http://www.wikidata.org/entity/Q512187'), ('name', 'federal republic')]\n",
      "[('inst', 'http://www.wikidata.org/entity/Q5255892'), ('name', 'democratic republic')]\n",
      "[('inst', 'http://www.wikidata.org/entity/Q6256'), ('name', 'country')]\n",
      "7\n"
     ]
    }
   ],
   "source": [
    "# starting from Lebron James I look at his properties\n",
    "queryString = \"\"\"\n",
    "SELECT DISTINCT ?inst ?name\n",
    "WHERE { \n",
    "    wd:Q30 wdt:P31 ?inst.\n",
    "    ?inst sc:name ?name .\n",
    "}\n",
    "\"\"\"\n",
    "\n",
    "print(\"Results\")\n",
    "x = run_query(queryString)"
   ]
  },
  {
   "cell_type": "code",
   "execution_count": 10,
   "id": "e213ba42-e3f6-4ba2-8cff-2b883694e5b9",
   "metadata": {},
   "outputs": [
    {
     "name": "stdout",
     "output_type": "stream",
     "text": [
      "Results\n",
      "[('inst', 'http://www.wikidata.org/entity/Q38'), ('name', 'Italy')]\n",
      "1\n"
     ]
    }
   ],
   "source": [
    "# starting from countries I will try to find Italy\n",
    "queryString = \"\"\"\n",
    "SELECT DISTINCT ?inst ?name\n",
    "WHERE { \n",
    "    ?inst wdt:P31 wd:Q6256.\n",
    "    ?inst sc:name ?name .\n",
    "    FILTER (REGEX(?name,\"tal\")).\n",
    "}\n",
    "\"\"\"\n",
    "\n",
    "print(\"Results\")\n",
    "x = run_query(queryString)"
   ]
  },
  {
   "cell_type": "code",
   "execution_count": 8,
   "id": "48bc80ac-8efb-468f-962a-91527fe0548a",
   "metadata": {},
   "outputs": [
    {
     "name": "stdout",
     "output_type": "stream",
     "text": [
      "Results\n",
      "[('obj', 'http://www.wikidata.org/entity/Q36264'), ('name', 'Virtus Pallacanestro Bologna'), ('year', '1927')]\n",
      "[('obj', 'http://www.wikidata.org/entity/Q36311'), ('name', 'Pallacanestro Cantù'), ('year', '1936')]\n",
      "[('obj', 'http://www.wikidata.org/entity/Q961782'), ('name', 'Pallacanestro Petrarca Padova'), ('year', '1934')]\n",
      "[('obj', 'http://www.wikidata.org/entity/Q36362'), ('name', 'Olimpia Milano'), ('year', '1936')]\n",
      "[('obj', 'http://www.wikidata.org/entity/Q36500'), ('name', 'Mens Sana Basket'), ('year', '1861')]\n",
      "[('obj', 'http://www.wikidata.org/entity/Q3891980'), ('name', 'Nuova Pallacanestro Pavia'), ('year', '1943')]\n",
      "[('obj', 'http://www.wikidata.org/entity/Q1139737'), ('name', 'Fortitudo Pallacanestro Bologna'), ('year', '1932')]\n",
      "[('obj', 'http://www.wikidata.org/entity/Q3754192'), ('name', 'Fulgor Omegna'), ('year', '1937')]\n",
      "[('obj', 'http://www.wikidata.org/entity/Q7127695'), ('name', 'Pallacanestro Pavia'), ('year', '1943')]\n",
      "[('obj', 'http://www.wikidata.org/entity/Q36572'), ('name', 'Reyer Venezia Mestre'), ('year', '1925')]\n",
      "[('obj', 'http://www.wikidata.org/entity/Q3972903'), ('name', 'Stella Azzurra Roma'), ('year', '1938')]\n",
      "[('obj', 'http://www.wikidata.org/entity/Q3747654'), ('name', 'F.C. Internazionale Milano (basketball)'), ('year', '1908')]\n",
      "12\n"
     ]
    }
   ],
   "source": [
    "# starting from Lebron James I look at his properties\n",
    "queryString = \"\"\"\n",
    "SELECT DISTINCT ?obj ?name year(?inception) as ?year\n",
    "WHERE { \n",
    "    ?obj wdt:P31 wd:Q13393265.\n",
    "    ?obj wdt:P17 wd:Q38.\n",
    "    ?obj sc:name ?name .\n",
    "    ?obj wdt:P571 ?inception.\n",
    "    FILTER(year(?inception) < 1945).\n",
    "}\n",
    "\"\"\"\n",
    "\n",
    "print(\"Results\")\n",
    "x = run_query(queryString)"
   ]
  },
  {
   "cell_type": "code",
   "execution_count": 9,
   "id": "fe24c7c6-1902-4fba-9ab0-232380428125",
   "metadata": {},
   "outputs": [
    {
     "name": "stdout",
     "output_type": "stream",
     "text": [
      "The index of this workflow is: 0_1\n",
      "The path is /locale/data/jupyter/prando/notebook/2022/results/workflow0_1.json\n",
      "JSON object updated\n"
     ]
    }
   ],
   "source": [
    "objs = []\n",
    "for i in x:\n",
    "    f_uri = i[0][1]\n",
    "    f_name = i[1][1]\n",
    "    year = i[2][1]\n",
    "    obj = {}\n",
    "    obj[\"refers_to\"] = f_uri\n",
    "    obj[\"refers_to_name\"] = f_name\n",
    "    obj[\"check\"] = \"value\"\n",
    "    obj[\"value\"]= year\n",
    "    objs.append(obj)\n",
    "evaluation.add_result(evaluation.get_index_workflow(pt),\"4\", evaluation.TYPE_REFERRED ,\"value\", objs)"
   ]
  },
  {
   "cell_type": "markdown",
   "id": "23eec352-7917-4746-b0be-5e3a577753f1",
   "metadata": {
    "jp-MarkdownHeadingCollapsed": true,
    "tags": []
   },
   "source": [
    "## Task 5"
   ]
  },
  {
   "cell_type": "code",
   "execution_count": 12,
   "id": "f3c404f6-66ae-4d43-b59f-fa82069d6c55",
   "metadata": {},
   "outputs": [
    {
     "name": "stdout",
     "output_type": "stream",
     "text": [
      "Results\n",
      "[('pr', 'http://www.wikidata.org/prop/direct/P6291'), ('name', 'advertises')]\n",
      "[('pr', 'http://www.wikidata.org/prop/direct/P108'), ('name', 'employer')]\n",
      "[('pr', 'http://www.wikidata.org/prop/direct/P127'), ('name', 'owned by')]\n",
      "[('pr', 'http://www.wikidata.org/prop/direct/P1346'), ('name', 'winner')]\n",
      "[('pr', 'http://www.wikidata.org/prop/direct/P137'), ('name', 'operator')]\n",
      "[('pr', 'http://www.wikidata.org/prop/direct/P301'), ('name', \"category's main topic\")]\n",
      "[('pr', 'http://www.wikidata.org/prop/direct/P463'), ('name', 'member of')]\n",
      "[('pr', 'http://www.wikidata.org/prop/direct/P466'), ('name', 'occupant')]\n",
      "[('pr', 'http://www.wikidata.org/prop/direct/P527'), ('name', 'has part')]\n",
      "[('pr', 'http://www.wikidata.org/prop/direct/P54'), ('name', 'member of sports team')]\n",
      "[('pr', 'http://www.wikidata.org/prop/direct/P6087'), ('name', 'coach of sports team')]\n",
      "[('pr', 'http://www.wikidata.org/prop/direct/P710'), ('name', 'participant')]\n",
      "[('pr', 'http://www.wikidata.org/prop/direct/P749'), ('name', 'parent organization')]\n",
      "[('pr', 'http://www.wikidata.org/prop/direct/P971'), ('name', 'category combines topics')]\n",
      "[('pr', 'http://www.wikidata.org/prop/direct/P1923'), ('name', 'participating team')]\n",
      "[('pr', 'http://www.wikidata.org/prop/direct/P5138'), ('name', 'season of club or team')]\n",
      "[('pr', 'http://www.wikidata.org/prop/direct/P6758'), ('name', 'supported sports team')]\n",
      "[('pr', 'http://www.wikidata.org/prop/direct/P647'), ('name', 'drafted by')]\n",
      "18\n"
     ]
    }
   ],
   "source": [
    "# starting from Lebron James I look at his properties\n",
    "queryString = \"\"\"\n",
    "SELECT DISTINCT ?pr ?name\n",
    "WHERE { \n",
    "    wd:Q36159 wdt:P54 ?obj.\n",
    "    ?x ?pr ?obj.\n",
    "    ?pr sc:name ?name .\n",
    "}\n",
    "\"\"\"\n",
    "\n",
    "print(\"Results\")\n",
    "x = run_query(queryString)"
   ]
  },
  {
   "cell_type": "code",
   "execution_count": 13,
   "id": "108659e8-5951-4502-8ab9-1f76d10fcd3f",
   "metadata": {},
   "outputs": [
    {
     "name": "stdout",
     "output_type": "stream",
     "text": [
      "Results\n",
      "[('x', 'http://www.wikidata.org/entity/Q2294127'), ('name', '1971–72 NBA season')]\n",
      "[('x', 'http://www.wikidata.org/entity/Q113619'), ('name', '2012–13 NBA season')]\n",
      "[('x', 'http://www.wikidata.org/entity/Q19862716'), ('name', '2015–16 NBA season')]\n",
      "[('x', 'http://www.wikidata.org/entity/Q631240'), ('name', '1979–80 NBA season')]\n",
      "[('x', 'http://www.wikidata.org/entity/Q155223'), ('name', 'National Basketball Association')]\n",
      "[('x', 'http://www.wikidata.org/entity/Q1142320'), ('name', '2005–06 NBA season')]\n",
      "[('x', 'http://www.wikidata.org/entity/Q4566514'), ('name', '1949 BAA World Championship Series')]\n",
      "[('x', 'http://www.wikidata.org/entity/Q4566866'), ('name', '1950 NBA World Championship Series')]\n",
      "[('x', 'http://www.wikidata.org/entity/Q4575074'), ('name', '1972 NBA World Championship Series')]\n",
      "[('x', 'http://www.wikidata.org/entity/Q4586947'), ('name', \"1991 McDonald's Championship\")]\n",
      "[('x', 'http://www.wikidata.org/entity/Q4598928'), ('name', '2001 NBA Finals')]\n",
      "[('x', 'http://www.wikidata.org/entity/Q281094'), ('name', '1949–50 NBA season')]\n",
      "[('x', 'http://www.wikidata.org/entity/Q3072478'), ('name', '1985 NBA World Championship Series')]\n",
      "[('x', 'http://www.wikidata.org/entity/Q3072482'), ('name', '1987 NBA World Championship Series')]\n",
      "[('x', 'http://www.wikidata.org/entity/Q1255750'), ('name', '2011–12 NBA season')]\n",
      "[('x', 'http://www.wikidata.org/entity/Q1132622'), ('name', '2001–02 NBA season')]\n",
      "[('x', 'http://www.wikidata.org/entity/Q1132641'), ('name', '1999–2000 NBA season')]\n",
      "[('x', 'http://www.wikidata.org/entity/Q1132667'), ('name', '2000–01 NBA season')]\n",
      "[('x', 'http://www.wikidata.org/entity/Q7113054'), ('name', 'Outstanding Team ESPY Award')]\n",
      "[('x', 'http://www.wikidata.org/entity/Q1999389'), ('name', '1952–53 NBA season')]\n",
      "[('x', 'http://www.wikidata.org/entity/Q4579314'), ('name', '1980 NBA World Championship Series')]\n",
      "[('x', 'http://www.wikidata.org/entity/Q63637259'), ('name', '2019–20 NBA season')]\n",
      "[('x', 'http://www.wikidata.org/entity/Q4896676'), ('name', 'Best Game ESPY Award')]\n",
      "[('x', 'http://www.wikidata.org/entity/Q4567490'), ('name', '1952 NBA World Championship Series')]\n",
      "[('x', 'http://www.wikidata.org/entity/Q4567780'), ('name', '1953 NBA World Championship Series')]\n",
      "[('x', 'http://www.wikidata.org/entity/Q4568101'), ('name', '1954 NBA World Championship Series')]\n",
      "[('x', 'http://www.wikidata.org/entity/Q1130071'), ('name', '2009–10 NBA season')]\n",
      "[('x', 'http://www.wikidata.org/entity/Q1130082'), ('name', '2008–09 NBA season')]\n",
      "[('x', 'http://www.wikidata.org/entity/Q170590'), ('name', '2006 NBA Finals')]\n",
      "[('x', 'http://www.wikidata.org/entity/Q4600307'), ('name', '2002 NBA Finals')]\n",
      "[('x', 'http://www.wikidata.org/entity/Q795353'), ('name', '1948–49 BAA season')]\n",
      "[('x', 'http://www.wikidata.org/entity/Q4584557'), ('name', '1988 NBA Finals')]\n",
      "[('x', 'http://www.wikidata.org/entity/Q2069838'), ('name', '1986–87 NBA season')]\n",
      "[('x', 'http://www.wikidata.org/entity/Q2001832'), ('name', '1951–52 NBA season')]\n",
      "[('x', 'http://www.wikidata.org/entity/Q1959941'), ('name', '2009 NBA Finals')]\n",
      "[('x', 'http://www.wikidata.org/entity/Q13405328'), ('name', '2013 NBA Finals')]\n",
      "[('x', 'http://www.wikidata.org/entity/Q1986458'), ('name', '1987–88 NBA season')]\n",
      "[('x', 'http://www.wikidata.org/entity/Q1986727'), ('name', '1984–85 NBA season')]\n",
      "[('x', 'http://www.wikidata.org/entity/Q2628013'), ('name', '2012 NBA Finals')]\n",
      "[('x', 'http://www.wikidata.org/entity/Q1999399'), ('name', '1953–54 NBA season')]\n",
      "[('x', 'http://www.wikidata.org/entity/Q2069861'), ('name', '1981–82 NBA season')]\n",
      "[('x', 'http://www.wikidata.org/entity/Q4580529'), ('name', '1982 NBA World Championship Series')]\n",
      "[('x', 'http://www.wikidata.org/entity/Q4597667'), ('name', '2000 NBA Finals')]\n",
      "[('x', 'http://www.wikidata.org/entity/Q644353'), ('name', '2010 NBA Finals')]\n",
      "44\n"
     ]
    }
   ],
   "source": [
    "# starting from Lebron James I look at his properties\n",
    "queryString = \"\"\"\n",
    "SELECT DISTINCT ?x ?name\n",
    "WHERE { \n",
    "    wd:Q36159 wdt:P54 ?obj.\n",
    "    ?x wdt:P1346 ?obj.\n",
    "    ?x sc:name ?name .\n",
    "}\n",
    "\"\"\"\n",
    "\n",
    "print(\"Results\")\n",
    "x = run_query(queryString)"
   ]
  },
  {
   "cell_type": "code",
   "execution_count": 14,
   "id": "d8d54a99-ea68-45c3-b006-80100c42ce6b",
   "metadata": {},
   "outputs": [
    {
     "name": "stdout",
     "output_type": "stream",
     "text": [
      "Results\n",
      "[('x', 'http://www.wikidata.org/entity/Q842375'), ('name', 'NBA Finals')]\n",
      "1\n"
     ]
    }
   ],
   "source": [
    "# starting from Lebron James I look at his properties\n",
    "queryString = \"\"\"\n",
    "SELECT DISTINCT ?x ?name\n",
    "WHERE { \n",
    "    wd:Q644353 wdt:P31 ?x.\n",
    "    ?x sc:name ?name .\n",
    "}\n",
    "\"\"\"\n",
    "\n",
    "print(\"Results\")\n",
    "x = run_query(queryString)"
   ]
  },
  {
   "cell_type": "code",
   "execution_count": 10,
   "id": "fce6c6f9",
   "metadata": {},
   "outputs": [
    {
     "name": "stdout",
     "output_type": "stream",
     "text": [
      "The index of this workflow is: 0_1\n",
      "The path is /locale/data/jupyter/prando/notebook/2022/results/workflow0_1.json\n",
      "JSON object updated\n"
     ]
    }
   ],
   "source": [
    "### insert the result of TASK 1 in the file\n",
    "og_uri = \"http://www.wikidata.org/entity/Q842375\"\n",
    "og_name = \"NBA Finals\"\n",
    "obj = {\"uri\":og_uri,\"name\":og_name}\n",
    "evaluation.add_result(evaluation.get_index_workflow(pt),\"5\", evaluation.TYPE_SINGLE ,\"uri\", [obj] ,\"all\")"
   ]
  },
  {
   "cell_type": "markdown",
   "id": "495072b1-c3de-4e18-905d-9f69916032ee",
   "metadata": {},
   "source": [
    "`wd:Q842375` is the NBA finals"
   ]
  },
  {
   "cell_type": "markdown",
   "id": "cc244892-8cef-4e3f-a46c-4c1541778656",
   "metadata": {
    "jp-MarkdownHeadingCollapsed": true,
    "tags": []
   },
   "source": [
    "## Task 6"
   ]
  },
  {
   "cell_type": "code",
   "execution_count": 9,
   "id": "5adef4ca-adb0-4850-9ac8-cb6730585636",
   "metadata": {},
   "outputs": [
    {
     "name": "stdout",
     "output_type": "stream",
     "text": [
      "Results\n",
      "[('x', 'http://www.wikidata.org/entity/Q3072443'), ('name', '1947 BAA World Championship Series')]\n",
      "[('x', 'http://www.wikidata.org/entity/Q4566218'), ('name', '1948 BAA World Championship Series')]\n",
      "[('x', 'http://www.wikidata.org/entity/Q4566514'), ('name', '1949 BAA World Championship Series')]\n",
      "[('x', 'http://www.wikidata.org/entity/Q4566866'), ('name', '1950 NBA World Championship Series')]\n",
      "[('x', 'http://www.wikidata.org/entity/Q4567168'), ('name', '1951 NBA World Championship Series')]\n",
      "[('x', 'http://www.wikidata.org/entity/Q4567490'), ('name', '1952 NBA World Championship Series')]\n",
      "[('x', 'http://www.wikidata.org/entity/Q4567780'), ('name', '1953 NBA World Championship Series')]\n",
      "[('x', 'http://www.wikidata.org/entity/Q4568101'), ('name', '1954 NBA World Championship Series')]\n",
      "[('x', 'http://www.wikidata.org/entity/Q4568407'), ('name', '1955 NBA World Championship Series')]\n",
      "[('x', 'http://www.wikidata.org/entity/Q4568729'), ('name', '1956 NBA World Championship Series')]\n",
      "[('x', 'http://www.wikidata.org/entity/Q3072448'), ('name', '1957 NBA World Championship Series')]\n",
      "[('x', 'http://www.wikidata.org/entity/Q3072447'), ('name', '1958 NBA World Championship Series')]\n",
      "[('x', 'http://www.wikidata.org/entity/Q3072450'), ('name', '1959 NBA World Championship Series')]\n",
      "[('x', 'http://www.wikidata.org/entity/Q3072451'), ('name', '1960 NBA World Championship Series')]\n",
      "[('x', 'http://www.wikidata.org/entity/Q3072455'), ('name', '1961 NBA World Championship Series')]\n",
      "[('x', 'http://www.wikidata.org/entity/Q3072460'), ('name', '1962 NBA World Championship Series')]\n",
      "[('x', 'http://www.wikidata.org/entity/Q3072461'), ('name', '1963 NBA World Championship Series')]\n",
      "[('x', 'http://www.wikidata.org/entity/Q3072463'), ('name', '1964 NBA World Championship Series')]\n",
      "[('x', 'http://www.wikidata.org/entity/Q3072464'), ('name', '1965 NBA World Championship Series')]\n",
      "[('x', 'http://www.wikidata.org/entity/Q3072466'), ('name', '1966 NBA World Championship Series')]\n",
      "[('x', 'http://www.wikidata.org/entity/Q8961710'), ('name', '1967 NBA World Championship Series')]\n",
      "[('x', 'http://www.wikidata.org/entity/Q3072468'), ('name', '1968 NBA World Championship Series')]\n",
      "[('x', 'http://www.wikidata.org/entity/Q3072470'), ('name', '1969 NBA World Championship Series')]\n",
      "[('x', 'http://www.wikidata.org/entity/Q4574079'), ('name', '1970 NBA World Championship Series')]\n",
      "[('x', 'http://www.wikidata.org/entity/Q4574574'), ('name', '1971 NBA World Championship Series')]\n",
      "[('x', 'http://www.wikidata.org/entity/Q4575074'), ('name', '1972 NBA World Championship Series')]\n",
      "[('x', 'http://www.wikidata.org/entity/Q4575625'), ('name', '1973 NBA World Championship Series')]\n",
      "[('x', 'http://www.wikidata.org/entity/Q3072473'), ('name', '1974 NBA Finals')]\n",
      "[('x', 'http://www.wikidata.org/entity/Q4576696'), ('name', '1975 NBA World Championship Series')]\n",
      "[('x', 'http://www.wikidata.org/entity/Q3072474'), ('name', '1976 NBA World Championship Series')]\n",
      "[('x', 'http://www.wikidata.org/entity/Q4577721'), ('name', '1977 NBA World Championship Series')]\n",
      "[('x', 'http://www.wikidata.org/entity/Q4578222'), ('name', '1978 NBA World Championship Series')]\n",
      "[('x', 'http://www.wikidata.org/entity/Q4578767'), ('name', '1979 NBA World Championship Series')]\n",
      "[('x', 'http://www.wikidata.org/entity/Q4579314'), ('name', '1980 NBA World Championship Series')]\n",
      "[('x', 'http://www.wikidata.org/entity/Q3072475'), ('name', '1981 NBA World Championship Series')]\n",
      "[('x', 'http://www.wikidata.org/entity/Q4580529'), ('name', '1982 NBA World Championship Series')]\n",
      "[('x', 'http://www.wikidata.org/entity/Q2886405'), ('name', '1983 NBA World Championship Series')]\n",
      "[('x', 'http://www.wikidata.org/entity/Q3072477'), ('name', '1984 NBA World Championship Series')]\n",
      "[('x', 'http://www.wikidata.org/entity/Q3072478'), ('name', '1985 NBA World Championship Series')]\n",
      "[('x', 'http://www.wikidata.org/entity/Q3072479'), ('name', '1986 NBA World Championship Series')]\n",
      "[('x', 'http://www.wikidata.org/entity/Q3072482'), ('name', '1987 NBA World Championship Series')]\n",
      "[('x', 'http://www.wikidata.org/entity/Q4584557'), ('name', '1988 NBA Finals')]\n",
      "[('x', 'http://www.wikidata.org/entity/Q4585299'), ('name', '1989 NBA Finals')]\n",
      "[('x', 'http://www.wikidata.org/entity/Q4586134'), ('name', '1990 NBA Finals')]\n",
      "[('x', 'http://www.wikidata.org/entity/Q4586976'), ('name', '1991 NBA Finals')]\n",
      "[('x', 'http://www.wikidata.org/entity/Q4587787'), ('name', '1992 NBA Finals')]\n",
      "[('x', 'http://www.wikidata.org/entity/Q4588662'), ('name', '1993 NBA Finals')]\n",
      "[('x', 'http://www.wikidata.org/entity/Q4589592'), ('name', '1994 NBA Finals')]\n",
      "[('x', 'http://www.wikidata.org/entity/Q4590500'), ('name', '1995 NBA Finals')]\n",
      "[('x', 'http://www.wikidata.org/entity/Q4591549'), ('name', '1996 NBA Finals')]\n",
      "[('x', 'http://www.wikidata.org/entity/Q4592651'), ('name', '1997 NBA Finals')]\n",
      "[('x', 'http://www.wikidata.org/entity/Q4593827'), ('name', '1998 NBA Finals')]\n",
      "[('x', 'http://www.wikidata.org/entity/Q4594932'), ('name', '1999 NBA Finals')]\n",
      "[('x', 'http://www.wikidata.org/entity/Q4597667'), ('name', '2000 NBA Finals')]\n",
      "[('x', 'http://www.wikidata.org/entity/Q4598928'), ('name', '2001 NBA Finals')]\n",
      "[('x', 'http://www.wikidata.org/entity/Q4600307'), ('name', '2002 NBA Finals')]\n",
      "[('x', 'http://www.wikidata.org/entity/Q1006129'), ('name', '2003 NBA Finals')]\n",
      "[('x', 'http://www.wikidata.org/entity/Q1022085'), ('name', '2004 NBA Finals')]\n",
      "[('x', 'http://www.wikidata.org/entity/Q4604623'), ('name', '2005 NBA Finals')]\n",
      "[('x', 'http://www.wikidata.org/entity/Q170590'), ('name', '2006 NBA Finals')]\n",
      "[('x', 'http://www.wikidata.org/entity/Q2552745'), ('name', '2007 NBA Finals')]\n",
      "[('x', 'http://www.wikidata.org/entity/Q2036161'), ('name', '2008 NBA Finals')]\n",
      "[('x', 'http://www.wikidata.org/entity/Q1959941'), ('name', '2009 NBA Finals')]\n",
      "[('x', 'http://www.wikidata.org/entity/Q644353'), ('name', '2010 NBA Finals')]\n",
      "[('x', 'http://www.wikidata.org/entity/Q1320332'), ('name', '2011 NBA Finals')]\n",
      "[('x', 'http://www.wikidata.org/entity/Q2628013'), ('name', '2012 NBA Finals')]\n",
      "[('x', 'http://www.wikidata.org/entity/Q16481622'), ('name', '2014 NBA Finals')]\n",
      "[('x', 'http://www.wikidata.org/entity/Q19877916'), ('name', '2015 NBA Finals')]\n",
      "[('x', 'http://www.wikidata.org/entity/Q24264147'), ('name', '2016 NBA Finals')]\n",
      "[('x', 'http://www.wikidata.org/entity/Q29096468'), ('name', '2017 NBA Finals')]\n",
      "[('x', 'http://www.wikidata.org/entity/Q63940565'), ('name', '2019 NBA Finals')]\n",
      "[('x', 'http://www.wikidata.org/entity/Q99624227'), ('name', '2020 NBA Finals')]\n",
      "[('x', 'http://www.wikidata.org/entity/Q107377340'), ('name', '2021 NBA Finals')]\n",
      "73\n"
     ]
    }
   ],
   "source": [
    "# print NBA Finals\n",
    "queryString = \"\"\"\n",
    "SELECT DISTINCT ?x ?name\n",
    "WHERE { \n",
    "    ?x wdt:P31 wd:Q842375.\n",
    "    ?x sc:name ?name .\n",
    "}\n",
    "ORDER BY ?name\n",
    "\"\"\"\n",
    "\n",
    "print(\"Results\")\n",
    "x = run_query(queryString)"
   ]
  },
  {
   "cell_type": "code",
   "execution_count": 16,
   "id": "1af447e5-51b5-4b9f-976a-21f43f480fc2",
   "metadata": {},
   "outputs": [
    {
     "name": "stdout",
     "output_type": "stream",
     "text": [
      "Results\n",
      "[('obj', 'http://www.wikidata.org/entity/Q180950'), ('name', 'Oklahoma City Thunder')]\n",
      "[('obj', 'http://www.wikidata.org/entity/Q235326'), ('name', 'Seattle SuperSonics')]\n",
      "[('obj', 'http://www.wikidata.org/entity/Q572134'), ('name', 'Brooklyn Nets')]\n",
      "[('obj', 'http://www.wikidata.org/entity/Q169138'), ('name', 'Miami Heat')]\n",
      "[('obj', 'http://www.wikidata.org/entity/Q7707830'), ('name', \"Texas Longhorns men's basketball\")]\n",
      "[('obj', 'http://www.wikidata.org/entity/Q244847'), ('name', \"United States men's national basketball team\")]\n",
      "[('obj', 'http://www.wikidata.org/entity/Q121783'), ('name', 'Los Angeles Lakers')]\n",
      "[('obj', 'http://www.wikidata.org/entity/Q157376'), ('name', 'Golden State Warriors')]\n",
      "[('obj', 'http://www.wikidata.org/entity/Q162990'), ('name', 'Cleveland Cavaliers')]\n",
      "9\n"
     ]
    }
   ],
   "source": [
    "# starting from Lebron James I look at his properties \n",
    "queryString = \"\"\"\n",
    "SELECT DISTINCT ?obj ?name\n",
    "WHERE { \n",
    "    VALUES ?player {wd:Q36159 wd:Q29545}.\n",
    "    ?player wdt:P54 ?obj.\n",
    "    ?obj sc:name ?name .\n",
    "}\n",
    "\"\"\"\n",
    "\n",
    "print(\"Results\")\n",
    "x = run_query(queryString)"
   ]
  },
  {
   "cell_type": "code",
   "execution_count": 11,
   "id": "2c74ec55-04ef-4748-9622-cb2bfa817538",
   "metadata": {},
   "outputs": [
    {
     "name": "stdout",
     "output_type": "stream",
     "text": [
      "Results\n",
      "[('obj', 'http://www.wikidata.org/entity/Q162990'), ('name', 'Cleveland Cavaliers'), ('finals', '0')]\n",
      "[('obj', 'http://www.wikidata.org/entity/Q572134'), ('name', 'Brooklyn Nets'), ('finals', '0')]\n",
      "[('obj', 'http://www.wikidata.org/entity/Q180950'), ('name', 'Oklahoma City Thunder'), ('finals', '0')]\n",
      "[('obj', 'http://www.wikidata.org/entity/Q7707830'), ('name', \"Texas Longhorns men's basketball\"), ('finals', '0')]\n",
      "[('obj', 'http://www.wikidata.org/entity/Q157376'), ('name', 'Golden State Warriors'), ('finals', '4')]\n",
      "[('obj', 'http://www.wikidata.org/entity/Q235326'), ('name', 'Seattle SuperSonics'), ('finals', '1')]\n",
      "[('obj', 'http://www.wikidata.org/entity/Q244847'), ('name', \"United States men's national basketball team\"), ('finals', '0')]\n",
      "[('obj', 'http://www.wikidata.org/entity/Q121783'), ('name', 'Los Angeles Lakers'), ('finals', '16')]\n",
      "[('obj', 'http://www.wikidata.org/entity/Q169138'), ('name', 'Miami Heat'), ('finals', '2')]\n",
      "9\n"
     ]
    }
   ],
   "source": [
    "# starting from Lebron James I look at his properties \n",
    "queryString = \"\"\"\n",
    "SELECT DISTINCT ?obj ?name COUNT(?x) AS ?finals\n",
    "WHERE { \n",
    "    VALUES ?player {wd:Q36159 wd:Q29545}.\n",
    "    ?player wdt:P54 ?obj.\n",
    "    optional{?x wdt:P1346 ?obj.\n",
    "    ?x wdt:P31 wd:Q842375.}\n",
    "    ?obj sc:name ?name .\n",
    "}\n",
    "GROUP BY ?obj ?name\n",
    "\"\"\"\n",
    "\n",
    "print(\"Results\")\n",
    "x = run_query(queryString)"
   ]
  },
  {
   "cell_type": "code",
   "execution_count": 12,
   "id": "0fcbd04b",
   "metadata": {},
   "outputs": [
    {
     "name": "stdout",
     "output_type": "stream",
     "text": [
      "The index of this workflow is: 0_1\n",
      "The path is /locale/data/jupyter/prando/notebook/2022/results/workflow0_1.json\n",
      "JSON object updated\n"
     ]
    }
   ],
   "source": [
    "objs = []\n",
    "for i in x:\n",
    "    f_uri = i[0][1]\n",
    "    f_name = i[1][1]\n",
    "    finals = i[2][1]\n",
    "    obj = {}\n",
    "    obj[\"refers_to\"] = f_uri\n",
    "    obj[\"refers_to_name\"] = f_name\n",
    "    obj[\"check\"] = \"value\"\n",
    "    obj[\"value\"]= finals\n",
    "    objs.append(obj)\n",
    "evaluation.add_result(evaluation.get_index_workflow(pt),\"6\", evaluation.TYPE_REFERRED ,\"value\", objs)"
   ]
  },
  {
   "cell_type": "markdown",
   "id": "d50a3edc-abe7-4209-be7b-510b98994c4c",
   "metadata": {
    "jp-MarkdownHeadingCollapsed": true,
    "tags": []
   },
   "source": [
    "## Task 7"
   ]
  },
  {
   "cell_type": "code",
   "execution_count": 18,
   "id": "47d5fef9-79c3-49bf-8c97-0c57fcdf253a",
   "metadata": {},
   "outputs": [
    {
     "name": "stdout",
     "output_type": "stream",
     "text": [
      "Results\n",
      "[('pr', 'http://www.wikidata.org/prop/direct/P30'), ('name', 'continent')]\n",
      "1\n"
     ]
    }
   ],
   "source": [
    "# starting from Lebron James I look at his properties \n",
    "queryString = \"\"\"\n",
    "SELECT DISTINCT ?pr ?name\n",
    "WHERE { \n",
    "    wd:Q36159 wdt:P27 ?country.\n",
    "    ?country ?pr ?continent.\n",
    "    ?pr sc:name ?name .\n",
    "    filter(regex(?name,\"contine\")).\n",
    "}\n",
    "\"\"\"\n",
    "\n",
    "print(\"Results\")\n",
    "x = run_query(queryString)"
   ]
  },
  {
   "cell_type": "code",
   "execution_count": 19,
   "id": "d670c3cb-dac3-4190-b9b3-2cf05bca2c1c",
   "metadata": {},
   "outputs": [
    {
     "name": "stdout",
     "output_type": "stream",
     "text": [
      "Results\n",
      "[('pr', 'http://www.wikidata.org/prop/direct/P115'), ('name', 'home venue')]\n",
      "[('pr', 'http://www.wikidata.org/prop/direct/P118'), ('name', 'league')]\n",
      "[('pr', 'http://www.wikidata.org/prop/direct/P127'), ('name', 'owned by')]\n",
      "[('pr', 'http://www.wikidata.org/prop/direct/P131'), ('name', 'located in the administrative territorial entity')]\n",
      "[('pr', 'http://www.wikidata.org/prop/direct/P1365'), ('name', 'replaces')]\n",
      "[('pr', 'http://www.wikidata.org/prop/direct/P1366'), ('name', 'replaced by')]\n",
      "[('pr', 'http://www.wikidata.org/prop/direct/P1417'), ('name', 'Encyclopædia Britannica Online ID')]\n",
      "[('pr', 'http://www.wikidata.org/prop/direct/P1424'), ('name', \"topic's main template\")]\n",
      "[('pr', 'http://www.wikidata.org/prop/direct/P154'), ('name', 'logo image')]\n",
      "[('pr', 'http://www.wikidata.org/prop/direct/P159'), ('name', 'headquarters location')]\n",
      "[('pr', 'http://www.wikidata.org/prop/direct/P166'), ('name', 'award received')]\n",
      "[('pr', 'http://www.wikidata.org/prop/direct/P17'), ('name', 'country')]\n",
      "[('pr', 'http://www.wikidata.org/prop/direct/P18'), ('name', 'image')]\n",
      "[('pr', 'http://www.wikidata.org/prop/direct/P1830'), ('name', 'owner of')]\n",
      "[('pr', 'http://www.wikidata.org/prop/direct/P1889'), ('name', 'different from')]\n",
      "[('pr', 'http://www.wikidata.org/prop/direct/P2002'), ('name', 'Twitter username')]\n",
      "[('pr', 'http://www.wikidata.org/prop/direct/P2003'), ('name', 'Instagram username')]\n",
      "[('pr', 'http://www.wikidata.org/prop/direct/P2013'), ('name', 'Facebook ID')]\n",
      "[('pr', 'http://www.wikidata.org/prop/direct/P2094'), ('name', 'competition class')]\n",
      "[('pr', 'http://www.wikidata.org/prop/direct/P214'), ('name', 'VIAF ID')]\n",
      "[('pr', 'http://www.wikidata.org/prop/direct/P2397'), ('name', 'YouTube channel ID')]\n",
      "[('pr', 'http://www.wikidata.org/prop/direct/P244'), ('name', 'Library of Congress authority ID')]\n",
      "[('pr', 'http://www.wikidata.org/prop/direct/P276'), ('name', 'location')]\n",
      "[('pr', 'http://www.wikidata.org/prop/direct/P2847'), ('name', 'Google+ ID')]\n",
      "[('pr', 'http://www.wikidata.org/prop/direct/P286'), ('name', 'head coach')]\n",
      "[('pr', 'http://www.wikidata.org/prop/direct/P2924'), ('name', 'Great Russian Encyclopedia Online ID')]\n",
      "[('pr', 'http://www.wikidata.org/prop/direct/P31'), ('name', 'instance of')]\n",
      "[('pr', 'http://www.wikidata.org/prop/direct/P3221'), ('name', 'New York Times topic ID')]\n",
      "[('pr', 'http://www.wikidata.org/prop/direct/P3417'), ('name', 'Quora topic ID')]\n",
      "[('pr', 'http://www.wikidata.org/prop/direct/P3553'), ('name', 'Zhihu topic ID')]\n",
      "[('pr', 'http://www.wikidata.org/prop/direct/P361'), ('name', 'part of')]\n",
      "[('pr', 'http://www.wikidata.org/prop/direct/P373'), ('name', 'Commons category')]\n",
      "[('pr', 'http://www.wikidata.org/prop/direct/P3984'), ('name', 'subreddit')]\n",
      "[('pr', 'http://www.wikidata.org/prop/direct/P571'), ('name', 'inception')]\n",
      "[('pr', 'http://www.wikidata.org/prop/direct/P6112'), ('name', 'category for members of a team')]\n",
      "[('pr', 'http://www.wikidata.org/prop/direct/P641'), ('name', 'sport')]\n",
      "[('pr', 'http://www.wikidata.org/prop/direct/P646'), ('name', 'Freebase ID')]\n",
      "[('pr', 'http://www.wikidata.org/prop/direct/P7085'), ('name', 'TikTok username')]\n",
      "[('pr', 'http://www.wikidata.org/prop/direct/P7644'), ('name', 'Encyclopedia of Cleveland History ID')]\n",
      "[('pr', 'http://www.wikidata.org/prop/direct/P7859'), ('name', 'WorldCat Identities ID')]\n",
      "[('pr', 'http://www.wikidata.org/prop/direct/P822'), ('name', 'mascot')]\n",
      "[('pr', 'http://www.wikidata.org/prop/direct/P831'), ('name', 'parent club')]\n",
      "[('pr', 'http://www.wikidata.org/prop/direct/P856'), ('name', 'official website')]\n",
      "[('pr', 'http://www.wikidata.org/prop/direct/P8672'), ('name', 'Twitter topic ID')]\n",
      "[('pr', 'http://www.wikidata.org/prop/direct/P8687'), ('name', 'social media followers')]\n",
      "[('pr', 'http://www.wikidata.org/prop/direct/P910'), ('name', \"topic's main category\")]\n",
      "[('pr', 'http://www.wikidata.org/prop/direct/P9629'), ('name', 'Armeniapedia ID')]\n",
      "[('pr', 'http://www.wikidata.org/prop/direct/P3646'), ('name', 'Naismith Memorial Basketball Hall of Fame ID')]\n",
      "[('pr', 'http://www.wikidata.org/prop/direct/P8825'), ('name', 'Sports-Reference.com college basketball school ID')]\n",
      "49\n"
     ]
    }
   ],
   "source": [
    "# starting from Lebron James I look at his properties \n",
    "queryString = \"\"\"\n",
    "SELECT DISTINCT ?pr ?name\n",
    "WHERE { \n",
    "    VALUES ?player {wd:Q36159 wd:Q29545}.\n",
    "    ?player wdt:P54 ?obj.\n",
    "    ?obj ?pr ?x.\n",
    "    ?pr sc:name ?name.\n",
    "}\n",
    "\"\"\"\n",
    "\n",
    "print(\"Results\")\n",
    "x = run_query(queryString)"
   ]
  },
  {
   "cell_type": "code",
   "execution_count": 20,
   "id": "0f09d025-051c-4bd4-9305-c15857acd148",
   "metadata": {},
   "outputs": [
    {
     "name": "stdout",
     "output_type": "stream",
     "text": [
      "Results\n",
      "[('x', 'http://www.wikidata.org/entity/Q94861615'), ('name', \"NCAA Division I men's basketball\")]\n",
      "[('x', 'http://www.wikidata.org/entity/Q155223'), ('name', 'National Basketball Association')]\n",
      "[('x', 'http://www.wikidata.org/entity/Q858430'), ('name', 'Big 12 Conference')]\n",
      "3\n"
     ]
    }
   ],
   "source": [
    "# starting from Lebron James I look at his properties \n",
    "queryString = \"\"\"\n",
    "SELECT DISTINCT ?x ?name\n",
    "WHERE { \n",
    "    VALUES ?player {wd:Q36159 wd:Q29545}.\n",
    "    ?player wdt:P54 ?obj.\n",
    "    ?obj wdt:P118 ?x.\n",
    "    ?x sc:name ?name.\n",
    "}\n",
    "\"\"\"\n",
    "\n",
    "print(\"Results\")\n",
    "x = run_query(queryString)"
   ]
  },
  {
   "cell_type": "code",
   "execution_count": 13,
   "id": "a3835ab2-ecb4-4472-9589-1d8f1bebe2d6",
   "metadata": {},
   "outputs": [
    {
     "name": "stdout",
     "output_type": "stream",
     "text": [
      "Results\n",
      "[('continent', 'http://www.wikidata.org/entity/Q18'), ('name', 'South America'), ('players', '37')]\n",
      "[('continent', 'http://www.wikidata.org/entity/Q48'), ('name', 'Asia'), ('players', '73')]\n",
      "[('continent', 'http://www.wikidata.org/entity/Q538'), ('name', 'Insular Oceania'), ('players', '3799')]\n",
      "[('continent', 'http://www.wikidata.org/entity/Q15'), ('name', 'Africa'), ('players', '61')]\n",
      "[('continent', 'http://www.wikidata.org/entity/Q49'), ('name', 'North America'), ('players', '3849')]\n",
      "[('continent', 'http://www.wikidata.org/entity/Q5401'), ('name', 'Eurasia'), ('players', '17')]\n",
      "[('continent', 'http://www.wikidata.org/entity/Q46'), ('name', 'Europe'), ('players', '304')]\n",
      "7\n"
     ]
    }
   ],
   "source": [
    "# starting from Lebron James I look at his properties \n",
    "queryString = \"\"\"\n",
    "SELECT DISTINCT ?continent ?name COUNT(DISTINCT ?player) AS ?players\n",
    "WHERE { \n",
    "    \n",
    "    ?team wdt:P118 wd:Q155223.\n",
    "    ?player wdt:P54 ?team;\n",
    "        wdt:P27 ?country.\n",
    "    ?country wdt:P30 ?continent.\n",
    "    \n",
    "    ?continent sc:name ?name.\n",
    "}\n",
    "GROUP BY ?continent ?name\n",
    "\"\"\"\n",
    "\n",
    "print(\"Results\")\n",
    "x = run_query(queryString)"
   ]
  },
  {
   "cell_type": "code",
   "execution_count": 14,
   "id": "3382ffdb",
   "metadata": {},
   "outputs": [
    {
     "name": "stdout",
     "output_type": "stream",
     "text": [
      "The index of this workflow is: 0_1\n",
      "The path is /locale/data/jupyter/prando/notebook/2022/results/workflow0_1.json\n",
      "JSON object updated\n"
     ]
    }
   ],
   "source": [
    "objs = []\n",
    "for i in x:\n",
    "    f_uri = i[0][1]\n",
    "    f_name = i[1][1]\n",
    "    players = i[2][1]\n",
    "    obj = {}\n",
    "    obj[\"refers_to\"] = f_uri\n",
    "    obj[\"refers_to_name\"] = f_name\n",
    "    obj[\"check\"] = \"value\"\n",
    "    obj[\"value\"]= players\n",
    "    objs.append(obj)\n",
    "evaluation.add_result(evaluation.get_index_workflow(pt),\"7\", evaluation.TYPE_REFERRED ,\"value\", objs)"
   ]
  },
  {
   "cell_type": "markdown",
   "id": "6947bec8-7111-4132-8721-acc85b0a6702",
   "metadata": {
    "jp-MarkdownHeadingCollapsed": true,
    "tags": []
   },
   "source": [
    "## Task 8"
   ]
  },
  {
   "cell_type": "code",
   "execution_count": 22,
   "id": "dd86efea-f998-45d2-840f-d68a66baddb0",
   "metadata": {},
   "outputs": [
    {
     "name": "stdout",
     "output_type": "stream",
     "text": [
      "Results\n",
      "[('x', 'http://www.wikidata.org/entity/Q1501719'), ('name', 'J. Walter Kennedy Citizenship Award')]\n",
      "[('x', 'http://www.wikidata.org/entity/Q680221'), ('name', 'Laureus World Sports Award for Breakthrough of the Year')]\n",
      "[('x', 'http://www.wikidata.org/entity/Q5593890'), ('name', 'Grammy Award for Best Spoken Word Album')]\n",
      "[('x', 'http://www.wikidata.org/entity/Q4896605'), ('name', 'Best Championship Performance ESPY Award')]\n",
      "[('x', 'http://www.wikidata.org/entity/Q918054'), ('name', 'NBA Coach of the Year Award')]\n",
      "[('x', 'http://www.wikidata.org/entity/Q4896598'), ('name', 'Best Breakthrough Athlete ESPY Award')]\n",
      "[('x', 'http://www.wikidata.org/entity/Q1418596'), ('name', 'NBA Sportsmanship Award')]\n",
      "[('x', 'http://www.wikidata.org/entity/Q1035067'), ('name', 'Heisman Trophy')]\n",
      "[('x', 'http://www.wikidata.org/entity/Q6685514'), ('name', 'Lou Gehrig Memorial Award')]\n",
      "[('x', 'http://www.wikidata.org/entity/Q1641970'), ('name', 'John R. Wooden Award')]\n",
      "[('x', 'http://www.wikidata.org/entity/Q644357'), ('name', 'NBA Rookie of the Year Award')]\n",
      "[('x', 'http://www.wikidata.org/entity/Q31391'), ('name', 'NBA All-Star Game Kobe Bryant Most Valuable Player Award')]\n",
      "[('x', 'http://www.wikidata.org/entity/Q739499'), ('name', 'Bill Russell NBA Finals Most Valuable Player Award')]\n",
      "[('x', 'http://www.wikidata.org/entity/Q222047'), ('name', 'NBA Most Valuable Player Award')]\n",
      "[('x', 'http://www.wikidata.org/entity/Q845884'), ('name', 'NBA Defensive Player of the Year Award')]\n",
      "[('x', 'http://www.wikidata.org/entity/Q4896614'), ('name', 'Best Comeback Athlete ESPY Award')]\n",
      "[('x', 'http://www.wikidata.org/entity/Q4896724'), ('name', 'Best Male Athlete ESPY Award')]\n",
      "[('x', 'http://www.wikidata.org/entity/Q16829557'), ('name', 'Chuck Daly Lifetime Achievement Award')]\n",
      "[('x', 'http://www.wikidata.org/entity/Q1125399'), ('name', 'NBA Most Improved Player Award')]\n",
      "[('x', 'http://www.wikidata.org/entity/Q5484794'), ('name', 'Franjo Bučar State Award for Sport')]\n",
      "[('x', 'http://www.wikidata.org/entity/Q4896727'), ('name', 'Best Male College Athlete ESPY Award')]\n",
      "[('x', 'http://www.wikidata.org/entity/Q388970'), ('name', 'NBA Executive of the Year Award')]\n",
      "[('x', 'http://www.wikidata.org/entity/Q13425905'), ('name', 'Twyman–Stokes Teammate of the Year Award')]\n",
      "[('x', 'http://www.wikidata.org/entity/Q21517440'), ('name', 'Kareem Abdul-Jabbar Award')]\n",
      "[('x', 'http://www.wikidata.org/entity/Q4896742'), ('name', 'Best Moment ESPY Award')]\n",
      "[('x', 'http://www.wikidata.org/entity/Q844517'), ('name', 'NBA Sixth Man of the Year Award')]\n",
      "[('x', 'http://www.wikidata.org/entity/Q1618139'), ('name', \"athletics at the 1952 Summer Olympics – men's high jump\")]\n",
      "[('x', 'http://www.wikidata.org/entity/Q18125435'), ('name', '2014 Coleman Vision Tennis Championships – doubles')]\n",
      "28\n"
     ]
    }
   ],
   "source": [
    "# starting from Lebron James I look at his properties \n",
    "queryString = \"\"\"\n",
    "SELECT DISTINCT ?x ?name\n",
    "WHERE { \n",
    "    ?team wdt:P118 wd:Q155223.\n",
    "    ?player wdt:P54 ?team.\n",
    "    ?x wdt:P1346 ?player.\n",
    "    \n",
    "    ?x sc:name ?name.\n",
    "}\n",
    "\"\"\"\n",
    "\n",
    "print(\"Results\")\n",
    "x = run_query(queryString)"
   ]
  },
  {
   "cell_type": "code",
   "execution_count": 15,
   "id": "7f41e593",
   "metadata": {},
   "outputs": [
    {
     "name": "stdout",
     "output_type": "stream",
     "text": [
      "The index of this workflow is: 0_1\n",
      "The path is /locale/data/jupyter/prando/notebook/2022/results/workflow0_1.json\n",
      "JSON object updated\n"
     ]
    }
   ],
   "source": [
    "### insert the result of TASK 8 in the file\n",
    "og_uri = \"http://www.wikidata.org/entity/Q222047\"\n",
    "og_name = \"NBA Most Valuable Player Award\"\n",
    "obj = {\"uri\":og_uri,\"name\":og_name}\n",
    "evaluation.add_result(evaluation.get_index_workflow(pt),\"8\", evaluation.TYPE_SINGLE ,\"uri\", [obj] ,\"all\")"
   ]
  },
  {
   "cell_type": "markdown",
   "id": "e5f36219-7eae-4da4-8e32-159e387caa20",
   "metadata": {},
   "source": [
    "`wd:Q222047` is the NBA Most Valuable Player Award"
   ]
  },
  {
   "cell_type": "markdown",
   "id": "0850dd48-be59-4953-92e8-67b52eeffac8",
   "metadata": {},
   "source": [
    "## Task 9"
   ]
  },
  {
   "cell_type": "code",
   "execution_count": 9,
   "id": "27ad5f6f-9582-41fe-954e-7f47b1c4492c",
   "metadata": {},
   "outputs": [
    {
     "name": "stdout",
     "output_type": "stream",
     "text": [
      "Results\n",
      "[('player', 'http://www.wikidata.org/entity/Q134183'), ('name', 'Magic Johnson')]\n",
      "[('player', 'http://www.wikidata.org/entity/Q136678'), ('name', 'James Harden')]\n",
      "[('player', 'http://www.wikidata.org/entity/Q17717'), ('name', 'Oscar Robertson')]\n",
      "[('player', 'http://www.wikidata.org/entity/Q179051'), ('name', 'Kareem Abdul-Jabbar')]\n",
      "[('player', 'http://www.wikidata.org/entity/Q182455'), ('name', 'Wilt Chamberlain')]\n",
      "[('player', 'http://www.wikidata.org/entity/Q189240'), ('name', 'Kevin Garnett')]\n",
      "[('player', 'http://www.wikidata.org/entity/Q190094'), ('name', 'Allen Iverson')]\n",
      "[('player', 'http://www.wikidata.org/entity/Q190152'), ('name', 'Larry Bird')]\n",
      "[('player', 'http://www.wikidata.org/entity/Q192707'), ('name', 'Charles Barkley')]\n",
      "[('player', 'http://www.wikidata.org/entity/Q192955'), ('name', 'Steve Nash')]\n",
      "[('player', 'http://www.wikidata.org/entity/Q193020'), ('name', 'Tim Duncan')]\n",
      "[('player', 'http://www.wikidata.org/entity/Q196185'), ('name', 'Russell Westbrook')]\n",
      "[('player', 'http://www.wikidata.org/entity/Q199896'), ('name', 'Karl Malone')]\n",
      "[('player', 'http://www.wikidata.org/entity/Q205326'), ('name', 'Derrick Rose')]\n",
      "[('player', 'http://www.wikidata.org/entity/Q209921'), ('name', 'Julius Erving')]\n",
      "[('player', 'http://www.wikidata.org/entity/Q211876'), ('name', 'David Robinson')]\n",
      "[('player', 'http://www.wikidata.org/entity/Q242185'), ('name', 'Bill Russell')]\n",
      "[('player', 'http://www.wikidata.org/entity/Q25369'), ('name', 'Kobe Bryant')]\n",
      "[('player', 'http://www.wikidata.org/entity/Q264393'), ('name', 'Dave Cowens')]\n",
      "[('player', 'http://www.wikidata.org/entity/Q273256'), ('name', 'Hakeem Olajuwon')]\n",
      "[('player', 'http://www.wikidata.org/entity/Q27662581'), ('name', 'Alex Caruso')]\n",
      "[('player', 'http://www.wikidata.org/entity/Q29545'), ('name', 'Kevin Durant')]\n",
      "[('player', 'http://www.wikidata.org/entity/Q312643'), ('name', 'Bob Cousy')]\n",
      "[('player', 'http://www.wikidata.org/entity/Q316179'), ('name', 'Moses Malone')]\n",
      "[('player', 'http://www.wikidata.org/entity/Q352159'), ('name', 'Stephen Curry')]\n",
      "[('player', 'http://www.wikidata.org/entity/Q36159'), ('name', 'LeBron James')]\n",
      "[('player', 'http://www.wikidata.org/entity/Q363246'), ('name', 'Bill Walton')]\n",
      "[('player', 'http://www.wikidata.org/entity/Q368561'), ('name', 'Bob Pettit')]\n",
      "[('player', 'http://www.wikidata.org/entity/Q380515'), ('name', 'Willis Reed')]\n",
      "[('player', 'http://www.wikidata.org/entity/Q41421'), ('name', 'Michael Jordan')]\n",
      "[('player', 'http://www.wikidata.org/entity/Q44068'), ('name', 'Dirk Nowitzki')]\n",
      "[('player', 'http://www.wikidata.org/entity/Q456776'), ('name', 'Wes Unseld')]\n",
      "[('player', 'http://www.wikidata.org/entity/Q553232'), ('name', 'Bob McAdoo')]\n",
      "[('player', 'http://www.wikidata.org/entity/Q8991894'), ('name', 'Giannis Antetokounmpo')]\n",
      "34\n"
     ]
    }
   ],
   "source": [
    "# starting from Lebron James I look at his properties \n",
    "queryString = \"\"\"\n",
    "SELECT ?player ?name\n",
    "WHERE { \n",
    "    \n",
    "    {\n",
    "    select DISTINCT ?player where{\n",
    "        ?team wdt:P118 wd:Q155223.\n",
    "        ?player wdt:P54 ?team.\n",
    "    }\n",
    "    }\n",
    "    ?prize wdt:P1346 ?player.\n",
    "    FILTER(?prize = wd:Q222047) \n",
    "    ?player sc:name ?name.\n",
    "}\n",
    "ORDER BY ?player\n",
    "\"\"\"\n",
    "\n",
    "print(\"Results\")\n",
    "x = run_query(queryString)"
   ]
  },
  {
   "cell_type": "code",
   "execution_count": 20,
   "id": "2c2b7f40",
   "metadata": {},
   "outputs": [
    {
     "name": "stdout",
     "output_type": "stream",
     "text": [
      "Results\n",
      "[('player', 'http://www.wikidata.org/entity/Q264393'), ('name', 'Dave Cowens'), ('victories', '1')]\n",
      "[('player', 'http://www.wikidata.org/entity/Q368561'), ('name', 'Bob Pettit'), ('victories', '1')]\n",
      "[('player', 'http://www.wikidata.org/entity/Q205326'), ('name', 'Derrick Rose'), ('victories', '1')]\n",
      "[('player', 'http://www.wikidata.org/entity/Q17281073'), ('name', 'Nikola Jokić'), ('victories', '1')]\n",
      "[('player', 'http://www.wikidata.org/entity/Q242185'), ('name', 'Bill Russell'), ('victories', '1')]\n",
      "[('player', 'http://www.wikidata.org/entity/Q36159'), ('name', 'LeBron James'), ('victories', '1')]\n",
      "[('player', 'http://www.wikidata.org/entity/Q136678'), ('name', 'James Harden'), ('victories', '1')]\n",
      "[('player', 'http://www.wikidata.org/entity/Q190094'), ('name', 'Allen Iverson'), ('victories', '1')]\n",
      "[('player', 'http://www.wikidata.org/entity/Q312643'), ('name', 'Bob Cousy'), ('victories', '1')]\n",
      "[('player', 'http://www.wikidata.org/entity/Q553232'), ('name', 'Bob McAdoo'), ('victories', '1')]\n",
      "[('player', 'http://www.wikidata.org/entity/Q352159'), ('name', 'Stephen Curry'), ('victories', '1')]\n",
      "[('player', 'http://www.wikidata.org/entity/Q189240'), ('name', 'Kevin Garnett'), ('victories', '1')]\n",
      "[('player', 'http://www.wikidata.org/entity/Q196185'), ('name', 'Russell Westbrook'), ('victories', '1')]\n",
      "[('player', 'http://www.wikidata.org/entity/Q209921'), ('name', 'Julius Erving'), ('victories', '1')]\n",
      "[('player', 'http://www.wikidata.org/entity/Q44068'), ('name', 'Dirk Nowitzki'), ('victories', '1')]\n",
      "[('player', 'http://www.wikidata.org/entity/Q192707'), ('name', 'Charles Barkley'), ('victories', '1')]\n",
      "[('player', 'http://www.wikidata.org/entity/Q41421'), ('name', 'Michael Jordan'), ('victories', '1')]\n",
      "[('player', 'http://www.wikidata.org/entity/Q273256'), ('name', 'Hakeem Olajuwon'), ('victories', '1')]\n",
      "[('player', 'http://www.wikidata.org/entity/Q190152'), ('name', 'Larry Bird'), ('victories', '1')]\n",
      "[('player', 'http://www.wikidata.org/entity/Q199896'), ('name', 'Karl Malone'), ('victories', '1')]\n",
      "[('player', 'http://www.wikidata.org/entity/Q363246'), ('name', 'Bill Walton'), ('victories', '1')]\n",
      "[('player', 'http://www.wikidata.org/entity/Q169452'), ('name', \"Shaquille O'Neal\"), ('victories', '1')]\n",
      "[('player', 'http://www.wikidata.org/entity/Q17717'), ('name', 'Oscar Robertson'), ('victories', '1')]\n",
      "[('player', 'http://www.wikidata.org/entity/Q193020'), ('name', 'Tim Duncan'), ('victories', '1')]\n",
      "[('player', 'http://www.wikidata.org/entity/Q29545'), ('name', 'Kevin Durant'), ('victories', '1')]\n",
      "[('player', 'http://www.wikidata.org/entity/Q134183'), ('name', 'Magic Johnson'), ('victories', '1')]\n",
      "[('player', 'http://www.wikidata.org/entity/Q456776'), ('name', 'Wes Unseld'), ('victories', '1')]\n",
      "[('player', 'http://www.wikidata.org/entity/Q192955'), ('name', 'Steve Nash'), ('victories', '1')]\n",
      "[('player', 'http://www.wikidata.org/entity/Q8991894'), ('name', 'Giannis Antetokounmpo'), ('victories', '1')]\n",
      "[('player', 'http://www.wikidata.org/entity/Q25369'), ('name', 'Kobe Bryant'), ('victories', '1')]\n",
      "[('player', 'http://www.wikidata.org/entity/Q380515'), ('name', 'Willis Reed'), ('victories', '1')]\n",
      "[('player', 'http://www.wikidata.org/entity/Q182455'), ('name', 'Wilt Chamberlain'), ('victories', '1')]\n",
      "[('player', 'http://www.wikidata.org/entity/Q179051'), ('name', 'Kareem Abdul-Jabbar'), ('victories', '1')]\n",
      "[('player', 'http://www.wikidata.org/entity/Q211876'), ('name', 'David Robinson'), ('victories', '1')]\n",
      "[('player', 'http://www.wikidata.org/entity/Q316179'), ('name', 'Moses Malone'), ('victories', '1')]\n",
      "35\n"
     ]
    }
   ],
   "source": [
    "# starting from Lebron James I look at his properties \n",
    "queryString = \"\"\"\n",
    "SELECT ?player ?name COUNT(*) AS ?victories\n",
    "WHERE { \n",
    "    {\n",
    "        SELECT DISTINCT ?player{\n",
    "            ?team wdt:P118 wd:Q155223.\n",
    "            ?player wdt:P54 ?team.\n",
    "        }\n",
    "    }\n",
    "    ?player wdt:P166 wd:Q222047.\n",
    "    \n",
    "    ?player sc:name ?name.\n",
    "}\n",
    "GROUP BY ?player ?name\n",
    "\"\"\"\n",
    "\n",
    "print(\"Results\")\n",
    "x = run_query(queryString)"
   ]
  },
  {
   "cell_type": "code",
   "execution_count": 21,
   "id": "e05be749-7d27-4fb4-9290-72ab2db9a87e",
   "metadata": {},
   "outputs": [
    {
     "name": "stdout",
     "output_type": "stream",
     "text": [
      "The index of this workflow is: 0_1\n",
      "The path is /locale/data/jupyter/prando/notebook/2022/results/workflow0_1.json\n",
      "JSON object updated\n"
     ]
    }
   ],
   "source": [
    "objs = []\n",
    "for i in x:\n",
    "    f_uri = i[0][1]\n",
    "    f_name = i[1][1]\n",
    "    victories = i[2][1]\n",
    "    obj = {}\n",
    "    obj[\"refers_to\"] = f_uri\n",
    "    obj[\"refers_to_name\"] = f_name\n",
    "    obj[\"check\"] = \"value\"\n",
    "    obj[\"value\"]= victories\n",
    "    objs.append(obj)\n",
    "evaluation.add_result(evaluation.get_index_workflow(pt),\"9\", evaluation.TYPE_REFERRED ,\"value\", objs)"
   ]
  },
  {
   "cell_type": "code",
   "execution_count": null,
   "id": "2f3318a4",
   "metadata": {},
   "outputs": [],
   "source": []
  }
 ],
 "metadata": {
  "kernelspec": {
   "display_name": "Python 3 (ipykernel)",
   "language": "python",
   "name": "python3"
  },
  "language_info": {
   "codemirror_mode": {
    "name": "ipython",
    "version": 3
   },
   "file_extension": ".py",
   "mimetype": "text/x-python",
   "name": "python",
   "nbconvert_exporter": "python",
   "pygments_lexer": "ipython3",
   "version": "3.10.6"
  }
 },
 "nbformat": 4,
 "nbformat_minor": 5
}
