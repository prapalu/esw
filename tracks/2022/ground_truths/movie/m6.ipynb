{
 "cells": [
  {
   "cell_type": "markdown",
   "metadata": {},
   "source": [
    "# General instructions\n",
    "\n",
    "The goal of the project is to materialize a set of **exploratory workloads** over a real-world, large-scale,  open-domain KG: [WikiData](https://www.wikidata.org/wiki/Wikidata:Main_Page)\n",
    "\n",
    "An exploratory workload  is composed by a set of queries, where each query is related to the information obtained previously.\n",
    "\n",
    "An exploratory workload starts with a usually vague, open ended question, and does not assume the person issuing the workload has a clear understanding of the data contained in the target database or its structure.\n",
    "\n",
    "Remeber that:\n",
    "\n",
    "1. All the queries must run in the python notebook\n",
    "2. You can use classes and properties only if you find them via a SPARQL query that must be present in the notebook\n",
    "3. You do not delete useless queries. Keep everything that is synthatically valid \n",
    "\n",
    "```\n",
    "?p <http://schema.org/name> ?name .\n",
    "```\n",
    "    \n",
    "    is the BGP returning a human-readable name of a property or a class in Wikidata.\n",
    "    \n",
    "    "
   ]
  },
  {
   "cell_type": "code",
   "execution_count": 2,
   "metadata": {},
   "outputs": [],
   "source": [
    "## SETUP used later\n",
    "import sys\n",
    "import os\n",
    "import json\n",
    "import pandas as pd\n",
    "sys.path.insert(1, '../../../../src/')\n",
    "import gt_modules.evaluation as evaluation\n",
    "from SPARQLWrapper import SPARQLWrapper, JSON\n",
    "\n",
    "\n",
    "prefixString = \"\"\"\n",
    "##-movie6-##\n",
    "PREFIX wd: <http://www.wikidata.org/entity/> \n",
    "PREFIX wdt: <http://www.wikidata.org/prop/direct/> \n",
    "PREFIX sc: <http://schema.org/>\n",
    "\"\"\"\n",
    "\n",
    "# select and construct queries\n",
    "def run_query(queryString,verbose = True):\n",
    "    to_run = prefixString + \"\\n\" + queryString\n",
    "\n",
    "    sparql = SPARQLWrapper(\"http://gracevirtuoso.dei.unipd.it/sparql\")\n",
    "    sparql.setTimeout(300)\n",
    "    sparql.setReturnFormat(JSON)\n",
    "    sparql.setQuery(to_run)\n",
    "\n",
    "    try :\n",
    "        results = sparql.query()\n",
    "        json_results = results.convert()\n",
    "        if len(json_results['results']['bindings'])==0:\n",
    "            print(\"Empty\")\n",
    "            return []\n",
    "        array = []\n",
    "        for bindings in json_results['results']['bindings']:\n",
    "            app =  [ (var, value['value'])  for var, value in bindings.items() ] \n",
    "            if verbose:\n",
    "                print( app)\n",
    "            array.append(app)\n",
    "        if verbose:\n",
    "            print(len(array))\n",
    "        return array\n",
    "\n",
    "    except Exception as e :\n",
    "        print(\"The operation failed\", e)\n",
    "    \n",
    "# ASk queries\n",
    "def run_ask_query(queryString):\n",
    "    to_run = prefixString + \"\\n\" + queryString\n",
    "\n",
    "    sparql = SPARQLWrapper(\"http://gracevirtuoso.dei.unipd.it/sparql\")\n",
    "    sparql.setTimeout(300)\n",
    "    sparql.setReturnFormat(JSON)\n",
    "    sparql.setQuery(to_run)\n",
    "\n",
    "    try :\n",
    "        return sparql.query().convert()\n",
    "\n",
    "    except Exception as e :\n",
    "        print(\"The operation failed\", e)"
   ]
  },
  {
   "cell_type": "markdown",
   "metadata": {},
   "source": [
    "# Movie Workflow Series (\"Tv series Without a Trace explorative search\") \n",
    "\n",
    "\n",
    "Consider the following exploratory scenario:\n",
    "\n",
    "\n",
    "> we are interested in the TV series \"Without a Trace\" and we want to investigate the main aspects related to the actors and directors involved in the production, know the numerber of seasons and check what are the episodes which got the higher success/impact.\n",
    "\n",
    "\n",
    "## Useful URIs for the current workflow\n",
    "The following are given:\n",
    "\n",
    "| IRI           | Description   | Role      |\n",
    "| -----------   | -----------   |-----------|\n",
    "| `wdt:P1647`   | subproperty   | predicate |\n",
    "| `wdt:P31`     | instance of   | predicate |\n",
    "| `wdt:P106`    | profession    | predicate | \n",
    "| `wdt:P279`    | subclass      | predicate |\n",
    "| `wdt:P4969`    | derivative work      | predicate |\n",
    "| `wd:Q826477` | Without a Trace    | node |\n",
    "| `wd:Q733960` | Cold Case       | node |\n",
    "\n",
    "\n",
    "\n",
    "Also consider\n",
    "\n",
    "```\n",
    "wd:Q826477 ?p ?obj .\n",
    "```\n",
    "\n",
    "is the BGP to retrieve all **properties of Without a Trace**\n",
    "\n",
    "Please consider that when you return a resource, you should return the IRI and the label of the resource. In particular, when the task require you to identify a BGP the result set must always be a list of couples IRI - label.\n",
    "\n",
    "\n",
    "\n",
    "The workload should\n",
    "\n",
    "1. Identify the BGP for television series\n",
    "\n",
    "2. Return the number of seasons and episodes per season of the tv series (the result set must be triples of season IRI, label and #episodes).\n",
    "\n",
    "3. Get the number of episodes in which the cast members played a role. Who are the most present actors? (the result set must be a list of triples actor/actress IRI, label and #episodes)\n",
    "\n",
    "4. Check who is the actor who acted in more films while working on \"Without a Trace\" (the result set must be a list of triples actor/actress IRI, label and #films).\n",
    "\n",
    "5. Compare Without a Trace with the tv series \"Cold Case\" in terms of number of seasons, episods and cast members (the result set must be two elements -one for each tv series- of tv series IRI, label, #seasons, #episodes and #cast members).\n",
    "\n",
    "6. Return the actors who are members of the cast of Without a Trace have [Kavin Bacon number](https://en.wikipedia.org/wiki/Six_Degrees_of_Kevin_Bacon#:~:text=Kevin%20Bacon%20himself%20has%20a,Bacon%20number%20is%20N%2B1.) equal to 2 (the result set must be a list of couples actor/actress IRI and label).\n",
    "\n",
    "7. Consider the actors who are members of the cast of Cold Case. Amongst the tv series which these actors acted return only those which received more than 2 awards (the result set must be triples of tv series IRI, label, #awards won)."
   ]
  },
  {
   "cell_type": "code",
   "execution_count": 36,
   "metadata": {},
   "outputs": [
    {
     "name": "stdout",
     "output_type": "stream",
     "text": [
      "The index of this workflow is: 2_3\n"
     ]
    }
   ],
   "source": [
    "## startup the evaluation\n",
    "# setup the file and create the empty json\n",
    "ipname = \"m6.ipynb\"\n",
    "pt = os.getcwd()+os.sep+ipname\n",
    "evaluation.setup(pt)"
   ]
  },
  {
   "cell_type": "markdown",
   "metadata": {
    "tags": []
   },
   "source": [
    "### Task 1"
   ]
  },
  {
   "cell_type": "code",
   "execution_count": 37,
   "metadata": {},
   "outputs": [
    {
     "name": "stdout",
     "output_type": "stream",
     "text": [
      "Results\n",
      "[('p', 'http://www.wikidata.org/prop/direct/P1113'), ('pName', 'number of episodes')]\n",
      "[('p', 'http://www.wikidata.org/prop/direct/P1258'), ('pName', 'Rotten Tomatoes ID')]\n",
      "[('p', 'http://www.wikidata.org/prop/direct/P1267'), ('pName', 'AlloCiné series ID')]\n",
      "[('p', 'http://www.wikidata.org/prop/direct/P1476'), ('pName', 'title')]\n",
      "[('p', 'http://www.wikidata.org/prop/direct/P1562'), ('pName', 'AllMovie title ID')]\n",
      "[('p', 'http://www.wikidata.org/prop/direct/P1712'), ('pName', 'Metacritic ID')]\n",
      "[('p', 'http://www.wikidata.org/prop/direct/P2047'), ('pName', 'duration')]\n",
      "[('p', 'http://www.wikidata.org/prop/direct/P2437'), ('pName', 'number of seasons')]\n",
      "[('p', 'http://www.wikidata.org/prop/direct/P2529'), ('pName', 'ČSFD film ID')]\n",
      "[('p', 'http://www.wikidata.org/prop/direct/P2581'), ('pName', 'BabelNet ID')]\n",
      "[('p', 'http://www.wikidata.org/prop/direct/P2603'), ('pName', 'Kinopoisk film ID')]\n",
      "[('p', 'http://www.wikidata.org/prop/direct/P2638'), ('pName', 'TV.com ID')]\n",
      "[('p', 'http://www.wikidata.org/prop/direct/P2703'), ('pName', 'BFI National Archive work ID')]\n",
      "[('p', 'http://www.wikidata.org/prop/direct/P2704'), ('pName', 'EIDR content ID')]\n",
      "[('p', 'http://www.wikidata.org/prop/direct/P3121'), ('pName', 'Epguides ID')]\n",
      "[('p', 'http://www.wikidata.org/prop/direct/P3138'), ('pName', 'OFDb film ID')]\n",
      "[('p', 'http://www.wikidata.org/prop/direct/P3302'), ('pName', 'Open Media Database film ID')]\n",
      "[('p', 'http://www.wikidata.org/prop/direct/P3417'), ('pName', 'Quora topic ID')]\n",
      "[('p', 'http://www.wikidata.org/prop/direct/P345'), ('pName', 'IMDb ID')]\n",
      "[('p', 'http://www.wikidata.org/prop/direct/P4665'), ('pName', 'CineMagia title ID')]\n",
      "[('p', 'http://www.wikidata.org/prop/direct/P4835'), ('pName', 'TheTVDB.com series ID')]\n",
      "[('p', 'http://www.wikidata.org/prop/direct/P4983'), ('pName', 'TMDb TV series ID')]\n",
      "[('p', 'http://www.wikidata.org/prop/direct/P5099'), ('pName', 'Il mondo dei doppiatori ID')]\n",
      "[('p', 'http://www.wikidata.org/prop/direct/P5327'), ('pName', 'fernsehserien.de ID')]\n",
      "[('p', 'http://www.wikidata.org/prop/direct/P580'), ('pName', 'start time')]\n",
      "[('p', 'http://www.wikidata.org/prop/direct/P582'), ('pName', 'end time')]\n",
      "[('p', 'http://www.wikidata.org/prop/direct/P5925'), ('pName', 'Moviepilot.de series ID')]\n",
      "[('p', 'http://www.wikidata.org/prop/direct/P646'), ('pName', 'Freebase ID')]\n",
      "[('p', 'http://www.wikidata.org/prop/direct/P905'), ('pName', 'PORT film ID')]\n",
      "[('p', 'http://www.wikidata.org/prop/direct/P4834'), ('pName', 'Deutsche Synchronkartei series ID')]\n",
      "[('p', 'http://www.wikidata.org/prop/direct/P6643'), ('pName', 'TV Spielfilm series ID')]\n",
      "[('p', 'http://www.wikidata.org/prop/direct/P7107'), ('pName', 'LezWatch.TV show ID')]\n",
      "32\n"
     ]
    }
   ],
   "source": [
    "# literal properties of Without a Trace \n",
    "queryString = \"\"\"\n",
    "SELECT DISTINCT ?p ?pName WHERE { \n",
    "\n",
    "    # Connecting Without a Trace to something\n",
    "    wd:Q826477 ?p  ?o.\n",
    "\n",
    "    # This returns the labels\n",
    "    ?p <http://schema.org/name> ?pName .\n",
    "\n",
    "    # Only data properties\n",
    "    FILTER(isLiteral(?o))\n",
    "}\n",
    "\"\"\"\n",
    "\n",
    "print(\"Results\")\n",
    "x = run_query(queryString)"
   ]
  },
  {
   "cell_type": "code",
   "execution_count": 40,
   "metadata": {},
   "outputs": [
    {
     "name": "stdout",
     "output_type": "stream",
     "text": [
      "Results\n",
      "[('o', 'http://www.wikidata.org/entity/Q5398426'), ('pName', 'television series')]\n",
      "1\n"
     ]
    }
   ],
   "source": [
    "# use instance of\n",
    "queryString = \"\"\"\n",
    "SELECT DISTINCT ?o ?pName WHERE { \n",
    "\n",
    "    # Connecting Without a Trace to something\n",
    "    wd:Q826477 wdt:P31 ?o.\n",
    "\n",
    "    # This returns the labels\n",
    "    ?o <http://schema.org/name> ?pName .\n",
    "}\n",
    "\"\"\"\n",
    "\n",
    "print(\"Results\")\n",
    "x = run_query(queryString)"
   ]
  },
  {
   "cell_type": "code",
   "execution_count": 41,
   "metadata": {},
   "outputs": [
    {
     "name": "stdout",
     "output_type": "stream",
     "text": [
      "The index of this workflow is: 2_3\n",
      "The path is /locale/data/jupyter/prando/esw/tracks/2022/ground_truths/gt_json/workflow2_3.json\n",
      "JSON object updated\n"
     ]
    }
   ],
   "source": [
    "### insert the result of TASK 1 in the file\n",
    "og_uri = \"http://www.wikidata.org/entity/Q5398426\"\n",
    "og_name = \"television series\"\n",
    "obj = {\"uri\":og_uri,\"name\":og_name}\n",
    "evaluation.add_result(evaluation.get_index_workflow(pt),\"1\", evaluation.TYPE_SINGLE ,\"uri\", [obj] ,\"all\")"
   ]
  },
  {
   "cell_type": "markdown",
   "metadata": {
    "tags": []
   },
   "source": [
    "### Task 2 : Return the number of seasons and episodes per season of the tv series.\n",
    "\n",
    "I'm interested on the TV series ***\"Without a Trace\" (wd:Q826477)***, so as a starting point I show all the data properties of this TV series."
   ]
  },
  {
   "cell_type": "markdown",
   "metadata": {},
   "source": [
    "I discovered the two properties: ***number of episodes (wdt:P1113)*** and ***number of seasons (wdt:P2437)***. \n",
    "\n",
    "I try to use them on ***\"Without a Trace\" (wd:Q826477)***."
   ]
  },
  {
   "cell_type": "code",
   "execution_count": 42,
   "metadata": {},
   "outputs": [
    {
     "name": "stdout",
     "output_type": "stream",
     "text": [
      "Results\n",
      "[('numEpisodes', '160'), ('numSeasons', '7')]\n",
      "1\n"
     ]
    }
   ],
   "source": [
    "# find seasons and episodes\n",
    "queryString = \"\"\"\n",
    "SELECT ?numEpisodes ?numSeasons WHERE { \n",
    "\n",
    "    # Retrieve Without a Trace numEpisodes and numSeasons\n",
    "    wd:Q826477  wdt:P1113 ?numEpisodes ;\n",
    "                wdt:P2437 ?numSeasons  .\n",
    "}\n",
    "\"\"\"\n",
    "\n",
    "print(\"Results\")\n",
    "x = run_query(queryString)"
   ]
  },
  {
   "cell_type": "markdown",
   "metadata": {},
   "source": [
    "Now I have to discover how many episodes there are for each season. To do this I show all the object properties of ***\"Without a Trace\" (wd:Q826477)***."
   ]
  },
  {
   "cell_type": "code",
   "execution_count": 43,
   "metadata": {},
   "outputs": [
    {
     "name": "stdout",
     "output_type": "stream",
     "text": [
      "Results\n",
      "[('p', 'http://www.wikidata.org/prop/direct/P136'), ('pName', 'genre')]\n",
      "[('p', 'http://www.wikidata.org/prop/direct/P154'), ('pName', 'logo image')]\n",
      "[('p', 'http://www.wikidata.org/prop/direct/P161'), ('pName', 'cast member')]\n",
      "[('p', 'http://www.wikidata.org/prop/direct/P170'), ('pName', 'creator')]\n",
      "[('p', 'http://www.wikidata.org/prop/direct/P1811'), ('pName', 'list of episodes')]\n",
      "[('p', 'http://www.wikidata.org/prop/direct/P2061'), ('pName', 'aspect ratio')]\n",
      "[('p', 'http://www.wikidata.org/prop/direct/P31'), ('pName', 'instance of')]\n",
      "[('p', 'http://www.wikidata.org/prop/direct/P364'), ('pName', 'original language of film or TV show')]\n",
      "[('p', 'http://www.wikidata.org/prop/direct/P449'), ('pName', 'original broadcaster')]\n",
      "[('p', 'http://www.wikidata.org/prop/direct/P495'), ('pName', 'country of origin')]\n",
      "[('p', 'http://www.wikidata.org/prop/direct/P527'), ('pName', 'has part')]\n",
      "[('p', 'http://www.wikidata.org/prop/direct/P674'), ('pName', 'characters')]\n",
      "[('p', 'http://www.wikidata.org/prop/direct/P750'), ('pName', 'distributed by')]\n",
      "[('p', 'http://www.wikidata.org/prop/direct/P840'), ('pName', 'narrative location')]\n",
      "[('p', 'http://www.wikidata.org/prop/direct/P856'), ('pName', 'official website')]\n",
      "15\n"
     ]
    }
   ],
   "source": [
    "# find object properties of Without a Trace\n",
    "queryString = \"\"\"\n",
    "SELECT DISTINCT ?p ?pName WHERE { \n",
    "\n",
    "    # Connecting Without a Trace to something\n",
    "    wd:Q826477 ?p  ?o.\n",
    "\n",
    "    # This returns the labels\n",
    "    ?p <http://schema.org/name> ?pName .\n",
    "\n",
    "    # Exclude data properties\n",
    "    FILTER(!isLiteral(?o))\n",
    "}\n",
    "\"\"\"\n",
    "\n",
    "print(\"Results\")\n",
    "x = run_query(queryString)"
   ]
  },
  {
   "cell_type": "markdown",
   "metadata": {},
   "source": [
    "I try to use another property discovered before: ***has part (wdt:P527)***."
   ]
  },
  {
   "cell_type": "code",
   "execution_count": 44,
   "metadata": {},
   "outputs": [
    {
     "name": "stdout",
     "output_type": "stream",
     "text": [
      "Results\n",
      "[('part', 'http://www.wikidata.org/entity/Q1120248'), ('partName', 'Without a Trace, season 1')]\n",
      "[('part', 'http://www.wikidata.org/entity/Q3729810'), ('partName', 'Without a Trace, season 4')]\n",
      "[('part', 'http://www.wikidata.org/entity/Q3729811'), ('partName', 'Without a Trace, season 5')]\n",
      "[('part', 'http://www.wikidata.org/entity/Q3729812'), ('partName', 'Without a Trace, season 2')]\n",
      "[('part', 'http://www.wikidata.org/entity/Q3729815'), ('partName', 'Without a Trace, season 6')]\n",
      "[('part', 'http://www.wikidata.org/entity/Q3729816'), ('partName', 'Without a Trace, season 7')]\n",
      "[('part', 'http://www.wikidata.org/entity/Q3729817'), ('partName', 'Without a Trace, season 3')]\n",
      "7\n"
     ]
    }
   ],
   "source": [
    "# has part\n",
    "queryString = \"\"\"\n",
    "SELECT DISTINCT ?part ?partName WHERE { \n",
    "\n",
    "    # Connecting Without a Trace to something using property hasPart\n",
    "    wd:Q826477 wdt:P527 ?part .\n",
    "\n",
    "    # This returns the labels\n",
    "    ?part <http://schema.org/name> ?partName .\n",
    "}\n",
    "\"\"\"\n",
    "\n",
    "print(\"Results\")\n",
    "x = run_query(queryString)"
   ]
  },
  {
   "cell_type": "markdown",
   "metadata": {},
   "source": [
    "It is possible to retrieve all the different seasons of the TV series. \n",
    "I show the properties of one of them ( ***Without a Trace, season 1 (wd:Q2715578)*** )"
   ]
  },
  {
   "cell_type": "code",
   "execution_count": 45,
   "metadata": {},
   "outputs": [
    {
     "name": "stdout",
     "output_type": "stream",
     "text": [
      "Results\n",
      "[('p', 'http://www.wikidata.org/prop/direct/P1113'), ('pName', 'number of episodes')]\n",
      "[('p', 'http://www.wikidata.org/prop/direct/P1258'), ('pName', 'Rotten Tomatoes ID')]\n",
      "[('p', 'http://www.wikidata.org/prop/direct/P1712'), ('pName', 'Metacritic ID')]\n",
      "[('p', 'http://www.wikidata.org/prop/direct/P179'), ('pName', 'part of the series')]\n",
      "[('p', 'http://www.wikidata.org/prop/direct/P2529'), ('pName', 'ČSFD film ID')]\n",
      "[('p', 'http://www.wikidata.org/prop/direct/P2581'), ('pName', 'BabelNet ID')]\n",
      "[('p', 'http://www.wikidata.org/prop/direct/P2638'), ('pName', 'TV.com ID')]\n",
      "[('p', 'http://www.wikidata.org/prop/direct/P2704'), ('pName', 'EIDR content ID')]\n",
      "[('p', 'http://www.wikidata.org/prop/direct/P31'), ('pName', 'instance of')]\n",
      "[('p', 'http://www.wikidata.org/prop/direct/P3302'), ('pName', 'Open Media Database film ID')]\n",
      "[('p', 'http://www.wikidata.org/prop/direct/P364'), ('pName', 'original language of film or TV show')]\n",
      "[('p', 'http://www.wikidata.org/prop/direct/P437'), ('pName', 'distribution format')]\n",
      "[('p', 'http://www.wikidata.org/prop/direct/P527'), ('pName', 'has part')]\n",
      "[('p', 'http://www.wikidata.org/prop/direct/P580'), ('pName', 'start time')]\n",
      "[('p', 'http://www.wikidata.org/prop/direct/P582'), ('pName', 'end time')]\n",
      "[('p', 'http://www.wikidata.org/prop/direct/P6262'), ('pName', 'Fandom article ID')]\n",
      "[('p', 'http://www.wikidata.org/prop/direct/P646'), ('pName', 'Freebase ID')]\n",
      "[('p', 'http://www.wikidata.org/prop/direct/P750'), ('pName', 'distributed by')]\n",
      "[('p', 'http://www.wikidata.org/prop/direct/P6381'), ('pName', 'iTunes TV season ID')]\n",
      "19\n"
     ]
    }
   ],
   "source": [
    "# properties of the first season \n",
    "queryString = \"\"\"\n",
    "SELECT DISTINCT ?p ?pName WHERE { \n",
    "\n",
    "    # Connecting Without a Trace S1 to something\n",
    "    wd:Q2715578 ?p ?o.\n",
    "\n",
    "    # This returns the labels\n",
    "    ?p <http://schema.org/name> ?pName .\n",
    "}\n",
    "\"\"\"\n",
    "\n",
    "print(\"Results\")\n",
    "x = run_query(queryString)"
   ]
  },
  {
   "cell_type": "markdown",
   "metadata": {},
   "source": [
    "I have the property ***number of episodes (wdt:P1113)***. I try to use it on ***Without a Trace, season 1 (wd:Q2715578)***. I can finally retrieve the number of episodes per season of  ***\"Without a Trace\" (wd:Q826477)***."
   ]
  },
  {
   "cell_type": "code",
   "execution_count": 46,
   "metadata": {},
   "outputs": [
    {
     "name": "stdout",
     "output_type": "stream",
     "text": [
      "Results\n",
      "[('part', 'http://www.wikidata.org/entity/Q1120248'), ('partName', 'Without a Trace, season 1'), ('numEpisodes', '23')]\n",
      "[('part', 'http://www.wikidata.org/entity/Q3729810'), ('partName', 'Without a Trace, season 4'), ('numEpisodes', '24')]\n",
      "[('part', 'http://www.wikidata.org/entity/Q3729811'), ('partName', 'Without a Trace, season 5'), ('numEpisodes', '24')]\n",
      "[('part', 'http://www.wikidata.org/entity/Q3729812'), ('partName', 'Without a Trace, season 2'), ('numEpisodes', '24')]\n",
      "[('part', 'http://www.wikidata.org/entity/Q3729815'), ('partName', 'Without a Trace, season 6'), ('numEpisodes', '18')]\n",
      "[('part', 'http://www.wikidata.org/entity/Q3729816'), ('partName', 'Without a Trace, season 7'), ('numEpisodes', '24')]\n",
      "[('part', 'http://www.wikidata.org/entity/Q3729817'), ('partName', 'Without a Trace, season 3'), ('numEpisodes', '23')]\n",
      "7\n"
     ]
    }
   ],
   "source": [
    "# use number of episodes \n",
    "queryString = \"\"\"\n",
    "SELECT DISTINCT ?part ?partName ?numEpisodes WHERE { \n",
    "\n",
    "    # Retrieve Without a Trace seasons\n",
    "    wd:Q826477 wdt:P527 ?part .\n",
    "    \n",
    "    # Retrieve number of episodes of each Without a Trace season\n",
    "    ?part wdt:P1113 ?numEpisodes.\n",
    "\n",
    "    # This returns the labels\n",
    "    ?part <http://schema.org/name> ?partName .\n",
    "}\n",
    "\"\"\"\n",
    "\n",
    "print(\"Results\")\n",
    "x = run_query(queryString)"
   ]
  },
  {
   "cell_type": "code",
   "execution_count": 47,
   "metadata": {},
   "outputs": [
    {
     "name": "stdout",
     "output_type": "stream",
     "text": [
      "The index of this workflow is: 2_3\n",
      "The path is /locale/data/jupyter/prando/esw/tracks/2022/ground_truths/gt_json/workflow2_3.json\n",
      "JSON object updated\n"
     ]
    }
   ],
   "source": [
    "## single literal associated to an URI\n",
    "objs = []\n",
    "for i in x:\n",
    "    f_uri = i[0][1]\n",
    "    f_name = i[1][1]\n",
    "    val = i[2][1]\n",
    "    obj = {}\n",
    "    obj[\"refers_to\"] = f_uri\n",
    "    obj[\"refers_to_name\"] = f_name\n",
    "    obj[\"check\"] = \"value\"\n",
    "    obj[\"value\"]= val\n",
    "    objs.append(obj)\n",
    "evaluation.add_result(evaluation.get_index_workflow(pt),\"2\", evaluation.TYPE_REFERRED ,\"value\", objs)"
   ]
  },
  {
   "cell_type": "markdown",
   "metadata": {
    "jp-MarkdownHeadingCollapsed": true,
    "tags": []
   },
   "source": [
    "### Task 3 : Get the number of episodes in which the cast members played a role. Who are the most present actors?\n",
    "\n",
    "From a previous query, I can notice that each season has also the property ***has part (wdt:P527)***.\n",
    "\n",
    "I want to see what is connected to ***Without a Trace, season 1 (wd:Q1120248)*** through this property."
   ]
  },
  {
   "cell_type": "code",
   "execution_count": 48,
   "metadata": {},
   "outputs": [
    {
     "name": "stdout",
     "output_type": "stream",
     "text": [
      "Results\n",
      "[('episode', 'http://www.wikidata.org/entity/Q52667904'), ('episodeName', 'Maple Street')]\n",
      "[('episode', 'http://www.wikidata.org/entity/Q52667908'), ('episodeName', 'Underground Railroad')]\n",
      "[('episode', 'http://www.wikidata.org/entity/Q52667910'), ('episodeName', 'Hang On to Me')]\n",
      "[('episode', 'http://www.wikidata.org/entity/Q52667894'), ('episodeName', 'Snatch Back')]\n",
      "[('episode', 'http://www.wikidata.org/entity/Q52667898'), ('episodeName', 'Little Big Man')]\n",
      "[('episode', 'http://www.wikidata.org/entity/Q52667900'), ('episodeName', 'In Extremis')]\n",
      "[('episode', 'http://www.wikidata.org/entity/Q52667911'), ('episodeName', 'The Friendly Skies')]\n",
      "[('episode', 'http://www.wikidata.org/entity/Q52667916'), ('episodeName', 'There Goes the Bride')]\n",
      "[('episode', 'http://www.wikidata.org/entity/Q52667920'), ('episodeName', 'Clare de Lune')]\n",
      "[('episode', 'http://www.wikidata.org/entity/Q52667923'), ('episodeName', 'Kam Li')]\n",
      "[('episode', 'http://www.wikidata.org/entity/Q52667926'), ('episodeName', 'The Source')]\n",
      "[('episode', 'http://www.wikidata.org/entity/Q52667929'), ('episodeName', 'Victory for Humanity')]\n",
      "[('episode', 'http://www.wikidata.org/entity/Q39069555'), ('episodeName', 'Pilot')]\n",
      "[('episode', 'http://www.wikidata.org/entity/Q52667878'), ('episodeName', 'Birthday Boy')]\n",
      "[('episode', 'http://www.wikidata.org/entity/Q52667889'), ('episodeName', 'Suspect')]\n",
      "[('episode', 'http://www.wikidata.org/entity/Q52667891'), ('episodeName', 'Silent Partner')]\n",
      "[('episode', 'http://www.wikidata.org/entity/Q52667902'), ('episodeName', 'Midnight Sun')]\n",
      "[('episode', 'http://www.wikidata.org/entity/Q52667934'), ('episodeName', 'Are You Now Or Have You Ever Been?')]\n",
      "[('episode', 'http://www.wikidata.org/entity/Q52667939'), ('episodeName', 'Fall Out: Part I')]\n",
      "[('episode', 'http://www.wikidata.org/entity/Q52667942'), ('episodeName', 'Fall Out: Part II')]\n",
      "[('episode', 'http://www.wikidata.org/entity/Q52667881'), ('episodeName', 'He Saw, She Saw')]\n",
      "[('episode', 'http://www.wikidata.org/entity/Q52667886'), ('episodeName', 'Between the Cracks')]\n",
      "[('episode', 'http://www.wikidata.org/entity/Q52667932'), ('episodeName', 'No Mas')]\n",
      "23\n"
     ]
    }
   ],
   "source": [
    "# episodes of the first season\n",
    "queryString = \"\"\"\n",
    "SELECT ?episode ?episodeName WHERE { \n",
    "\n",
    "    # Retrieve episodes of Without a Trace S1\n",
    "    wd:Q1120248 wdt:P527 ?episode .\n",
    "    \n",
    "    # This returns the labels\n",
    "    ?episode <http://schema.org/name> ?episodeName .\n",
    "}\n",
    "\"\"\"\n",
    "\n",
    "print(\"Results\")\n",
    "x = run_query(queryString)"
   ]
  },
  {
   "cell_type": "markdown",
   "metadata": {},
   "source": [
    "Using the property ***has part (wdt:P527)*** on a single season, I can retrieve all the episodes of that season.\n",
    "\n",
    "I have to discover the cast members, so I try to list all the properties of a specific episode: ***Pilot (wd:Q39069555)***"
   ]
  },
  {
   "cell_type": "code",
   "execution_count": 49,
   "metadata": {},
   "outputs": [
    {
     "name": "stdout",
     "output_type": "stream",
     "text": [
      "Results\n",
      "[('p', 'http://www.wikidata.org/prop/direct/P161'), ('pName', 'cast member'), ('o', 'http://www.wikidata.org/entity/Q551608'), ('oName', 'Enrique Murciano')]\n",
      "[('p', 'http://www.wikidata.org/prop/direct/P161'), ('pName', 'cast member'), ('o', 'http://www.wikidata.org/entity/Q355163'), ('oName', 'Bruce Davison')]\n",
      "[('p', 'http://www.wikidata.org/prop/direct/P161'), ('pName', 'cast member'), ('o', 'http://www.wikidata.org/entity/Q1125651'), ('oName', 'Thom Barry')]\n",
      "[('p', 'http://www.wikidata.org/prop/direct/P161'), ('pName', 'cast member'), ('o', 'http://www.wikidata.org/entity/Q139341'), ('oName', 'Zach Grenier')]\n",
      "[('p', 'http://www.wikidata.org/prop/direct/P161'), ('pName', 'cast member'), ('o', 'http://www.wikidata.org/entity/Q430872'), ('oName', 'Marianne Jean-Baptiste')]\n",
      "[('p', 'http://www.wikidata.org/prop/direct/P161'), ('pName', 'cast member'), ('o', 'http://www.wikidata.org/entity/Q308124'), ('oName', 'Anthony LaPaglia')]\n",
      "[('p', 'http://www.wikidata.org/prop/direct/P161'), ('pName', 'cast member'), ('o', 'http://www.wikidata.org/entity/Q235075'), ('oName', 'Poppy Montgomery')]\n",
      "[('p', 'http://www.wikidata.org/prop/direct/P161'), ('pName', 'cast member'), ('o', 'http://www.wikidata.org/entity/Q503040'), ('oName', 'Eric Close')]\n",
      "[('p', 'http://www.wikidata.org/prop/direct/P161'), ('pName', 'cast member'), ('o', 'http://www.wikidata.org/entity/Q462343'), ('oName', 'Rosemary Forsyth')]\n",
      "[('p', 'http://www.wikidata.org/prop/direct/P161'), ('pName', 'cast member'), ('o', 'http://www.wikidata.org/entity/Q2923471'), ('oName', 'Bradford Tatum')]\n",
      "[('p', 'http://www.wikidata.org/prop/direct/P57'), ('pName', 'director'), ('o', 'http://www.wikidata.org/entity/Q1279660'), ('oName', 'David Nutter')]\n",
      "[('p', 'http://www.wikidata.org/prop/direct/P156'), ('pName', 'followed by'), ('o', 'http://www.wikidata.org/entity/Q52667878'), ('oName', 'Birthday Boy')]\n",
      "[('p', 'http://www.wikidata.org/prop/direct/P31'), ('pName', 'instance of'), ('o', 'http://www.wikidata.org/entity/Q21191270'), ('oName', 'television series episode')]\n",
      "[('p', 'http://www.wikidata.org/prop/direct/P364'), ('pName', 'original language of film or TV show'), ('o', 'http://www.wikidata.org/entity/Q1860'), ('oName', 'English')]\n",
      "[('p', 'http://www.wikidata.org/prop/direct/P179'), ('pName', 'part of the series'), ('o', 'http://www.wikidata.org/entity/Q826477'), ('oName', 'Without a Trace')]\n",
      "[('p', 'http://www.wikidata.org/prop/direct/P58'), ('pName', 'screenwriter'), ('o', 'http://www.wikidata.org/entity/Q3126805'), ('oName', 'Hank Steinberg')]\n",
      "[('p', 'http://www.wikidata.org/prop/direct/P4908'), ('pName', 'season'), ('o', 'http://www.wikidata.org/entity/Q1120248'), ('oName', 'Without a Trace, season 1')]\n",
      "17\n"
     ]
    }
   ],
   "source": [
    "# find the cast members\n",
    "queryString = \"\"\"\n",
    "SELECT DISTINCT ?p ?pName ?o ?oName WHERE { \n",
    "\n",
    "    # Connecting Pilot to something\n",
    "    wd:Q39069555 ?p ?o.\n",
    "\n",
    "    # This returns the labels\n",
    "    ?p <http://schema.org/name> ?pName .\n",
    "    ?o <http://schema.org/name> ?oName .\n",
    "}\n",
    "ORDER BY ?pName\n",
    "\"\"\"\n",
    "\n",
    "print(\"Results\")\n",
    "x = run_query(queryString)"
   ]
  },
  {
   "cell_type": "markdown",
   "metadata": {},
   "source": [
    "I discovered that the property ***cast member (wdt:P161)*** can be used to retrieve all the actors that partecipated in a specific episode.\n",
    "\n",
    "Now I can count the number of episodes in which the cast members played a role, and show the most present actors."
   ]
  },
  {
   "cell_type": "code",
   "execution_count": 50,
   "metadata": {},
   "outputs": [
    {
     "name": "stdout",
     "output_type": "stream",
     "text": [
      "Results\n",
      "[('actor', 'http://www.wikidata.org/entity/Q551608'), ('actorName', 'Enrique Murciano'), ('numEpisodes', '160')]\n",
      "[('actor', 'http://www.wikidata.org/entity/Q503040'), ('actorName', 'Eric Close'), ('numEpisodes', '160')]\n",
      "[('actor', 'http://www.wikidata.org/entity/Q430872'), ('actorName', 'Marianne Jean-Baptiste'), ('numEpisodes', '160')]\n",
      "[('actor', 'http://www.wikidata.org/entity/Q308124'), ('actorName', 'Anthony LaPaglia'), ('numEpisodes', '160')]\n",
      "[('actor', 'http://www.wikidata.org/entity/Q235075'), ('actorName', 'Poppy Montgomery'), ('numEpisodes', '160')]\n",
      "[('actor', 'http://www.wikidata.org/entity/Q18618690'), ('actorName', 'John Livingston'), ('numEpisodes', '1')]\n",
      "6\n"
     ]
    }
   ],
   "source": [
    "# count the presence of the actors in the Tv serie\n",
    "queryString = \"\"\"\n",
    "SELECT ?actor ?actorName COUNT(DISTINCT ?episode) AS ?numEpisodes WHERE { \n",
    "\n",
    "    # Retrieve Without a Trace episodes \n",
    "    wd:Q826477 wdt:P527/wdt:P527 ?episode .\n",
    "    \n",
    "    # Retrieve cast members\n",
    "    ?episode wdt:P161 ?actor .\n",
    "    \n",
    "    # This returns the labels\n",
    "    ?actor <http://schema.org/name> ?actorName .\n",
    "}\n",
    "GROUP BY ?actor ?actorName\n",
    "ORDER BY DESC(?numEpisodes)\n",
    "LIMIT 6\n",
    "\"\"\"\n",
    "\n",
    "print(\"Results\")\n",
    "x = run_query(queryString)"
   ]
  },
  {
   "cell_type": "code",
   "execution_count": 51,
   "metadata": {},
   "outputs": [
    {
     "name": "stdout",
     "output_type": "stream",
     "text": [
      "The index of this workflow is: 2_3\n",
      "The path is /locale/data/jupyter/prando/esw/tracks/2022/ground_truths/gt_json/workflow2_3.json\n",
      "JSON object updated\n"
     ]
    }
   ],
   "source": [
    "## single literal associated to an URI\n",
    "objs = []\n",
    "for i in x:\n",
    "    f_uri = i[0][1]\n",
    "    f_name = i[1][1]\n",
    "    val = i[2][1]\n",
    "    obj = {}\n",
    "    obj[\"refers_to\"] = f_uri\n",
    "    obj[\"refers_to_name\"] = f_name\n",
    "    obj[\"check\"] = \"value\"\n",
    "    obj[\"value\"]= val\n",
    "    objs.append(obj)\n",
    "evaluation.add_result(evaluation.get_index_workflow(pt),\"3\", evaluation.TYPE_REFERRED ,\"value\", objs)"
   ]
  },
  {
   "cell_type": "markdown",
   "metadata": {
    "tags": []
   },
   "source": [
    "### Task 4: Check who is the actor who acted in more films while working on \"Without a Trace\" \n",
    "\n",
    "To check if an actor acted in a film while working on ***\"Without a Trace\" (wd:Q826477)***, I need to know when Without a Trace started and when it ended.\n",
    "\n",
    "I can rely on these two properties discovered in a previous query: \n",
    "* ***start time (wdt:P580)*** \n",
    "* ***end time (wdt:P582)***"
   ]
  },
  {
   "cell_type": "code",
   "execution_count": 52,
   "metadata": {},
   "outputs": [
    {
     "name": "stdout",
     "output_type": "stream",
     "text": [
      "Results\n",
      "[('startTime', '2002-09-26T00:00:00Z'), ('endTime', '2009-05-19T00:00:00Z')]\n",
      "1\n"
     ]
    }
   ],
   "source": [
    "# start and end\n",
    "queryString = \"\"\"\n",
    "SELECT ?startTime ?endTime WHERE { \n",
    "\n",
    "    # Retrieving Without a Trace startTime and endTime\n",
    "    wd:Q826477  wdt:P580  ?startTime ;\n",
    "                wdt:P582  ?endTime   . \n",
    "}\n",
    "\"\"\"\n",
    "\n",
    "print(\"Results\")\n",
    "x = run_query(queryString)"
   ]
  },
  {
   "cell_type": "markdown",
   "metadata": {},
   "source": [
    "Hence, I need to check if an actor worked in a film between ***\"2005-09-19\"*** and ***\"2014-03-31\"***. To do this, I have to understand how actors and films are connected.\n",
    "\n",
    "First, I try to retrieve all the object propertis of a specific actor : ***Anthony LaPaglia (wd:Q308124)***."
   ]
  },
  {
   "cell_type": "code",
   "execution_count": 53,
   "metadata": {},
   "outputs": [
    {
     "name": "stdout",
     "output_type": "stream",
     "text": [
      "Results\n",
      "[('p', 'http://www.wikidata.org/prop/direct/P166'), ('pName', 'award received'), ('o', 'http://www.wikidata.org/entity/Q1131356'), ('oName', 'Theatre World Award')]\n",
      "[('p', 'http://www.wikidata.org/prop/direct/P166'), ('pName', 'award received'), ('o', 'http://www.wikidata.org/entity/Q1044427'), ('oName', 'Primetime Emmy Award')]\n",
      "[('p', 'http://www.wikidata.org/prop/direct/P166'), ('pName', 'award received'), ('o', 'http://www.wikidata.org/entity/Q1445521'), ('oName', 'Tony Award for Best Actor in a Play')]\n",
      "[('p', 'http://www.wikidata.org/prop/direct/P166'), ('pName', 'award received'), ('o', 'http://www.wikidata.org/entity/Q530923'), ('oName', 'Primetime Emmy Award for Outstanding Guest Actor in a Comedy Series')]\n",
      "[('p', 'http://www.wikidata.org/prop/direct/P27'), ('pName', 'country of citizenship'), ('o', 'http://www.wikidata.org/entity/Q408'), ('oName', 'Australia')]\n",
      "[('p', 'http://www.wikidata.org/prop/direct/P1343'), ('pName', 'described by source'), ('o', 'http://www.wikidata.org/entity/Q67311526'), ('oName', 'Obalky knih.cz')]\n",
      "[('p', 'http://www.wikidata.org/prop/direct/P735'), ('pName', 'given name'), ('o', 'http://www.wikidata.org/entity/Q12241622'), ('oName', 'Anthony')]\n",
      "[('p', 'http://www.wikidata.org/prop/direct/P31'), ('pName', 'instance of'), ('o', 'http://www.wikidata.org/entity/Q5'), ('oName', 'human')]\n",
      "[('p', 'http://www.wikidata.org/prop/direct/P1412'), ('pName', 'languages spoken, written or signed'), ('o', 'http://www.wikidata.org/entity/Q1860'), ('oName', 'English')]\n",
      "[('p', 'http://www.wikidata.org/prop/direct/P54'), ('pName', 'member of sports team'), ('o', 'http://www.wikidata.org/entity/Q727111'), ('oName', 'Hollywood United F.C.')]\n",
      "[('p', 'http://www.wikidata.org/prop/direct/P106'), ('pName', 'occupation'), ('o', 'http://www.wikidata.org/entity/Q10798782'), ('oName', 'television actor')]\n",
      "[('p', 'http://www.wikidata.org/prop/direct/P106'), ('pName', 'occupation'), ('o', 'http://www.wikidata.org/entity/Q10800557'), ('oName', 'film actor')]\n",
      "[('p', 'http://www.wikidata.org/prop/direct/P106'), ('pName', 'occupation'), ('o', 'http://www.wikidata.org/entity/Q2259451'), ('oName', 'stage actor')]\n",
      "[('p', 'http://www.wikidata.org/prop/direct/P106'), ('pName', 'occupation'), ('o', 'http://www.wikidata.org/entity/Q3282637'), ('oName', 'film producer')]\n",
      "[('p', 'http://www.wikidata.org/prop/direct/P106'), ('pName', 'occupation'), ('o', 'http://www.wikidata.org/entity/Q33999'), ('oName', 'actor')]\n",
      "[('p', 'http://www.wikidata.org/prop/direct/P106'), ('pName', 'occupation'), ('o', 'http://www.wikidata.org/entity/Q937857'), ('oName', 'association football player')]\n",
      "[('p', 'http://www.wikidata.org/prop/direct/P19'), ('pName', 'place of birth'), ('o', 'http://www.wikidata.org/entity/Q5112'), ('oName', 'Adelaide')]\n",
      "[('p', 'http://www.wikidata.org/prop/direct/P413'), ('pName', 'position played on team / speciality'), ('o', 'http://www.wikidata.org/entity/Q201330'), ('oName', 'goalkeeper')]\n",
      "[('p', 'http://www.wikidata.org/prop/direct/P551'), ('pName', 'residence'), ('o', 'http://www.wikidata.org/entity/Q47164'), ('oName', 'Santa Monica')]\n",
      "[('p', 'http://www.wikidata.org/prop/direct/P21'), ('pName', 'sex or gender'), ('o', 'http://www.wikidata.org/entity/Q6581097'), ('oName', 'male')]\n",
      "[('p', 'http://www.wikidata.org/prop/direct/P3373'), ('pName', 'sibling'), ('o', 'http://www.wikidata.org/entity/Q1703231'), ('oName', 'Jonathan LaPaglia')]\n",
      "[('p', 'http://www.wikidata.org/prop/direct/P641'), ('pName', 'sport'), ('o', 'http://www.wikidata.org/entity/Q2736'), ('oName', 'association football')]\n",
      "[('p', 'http://www.wikidata.org/prop/direct/P26'), ('pName', 'spouse'), ('o', 'http://www.wikidata.org/entity/Q458784'), ('oName', 'Gia Carides')]\n",
      "[('p', 'http://www.wikidata.org/prop/direct/P26'), ('pName', 'spouse'), ('o', 'http://www.wikidata.org/entity/Q26793048'), ('oName', 'Cherie Michan')]\n",
      "24\n"
     ]
    }
   ],
   "source": [
    "# see properties and objects of Anthony LaPaglia\n",
    "queryString = \"\"\"\n",
    "SELECT ?p ?pName ?o ?oName WHERE { \n",
    "\n",
    "    # Connecting Anthony LaPaglia to something\n",
    "    wd:Q308124  ?p  ?o .\n",
    "    \n",
    "    # This returns the labels\n",
    "    ?p <http://schema.org/name> ?pName .\n",
    "    ?o <http://schema.org/name> ?oName .\n",
    "}\n",
    "ORDER BY ?pName\n",
    "\"\"\"\n",
    "\n",
    "print(\"Results\")\n",
    "x = run_query(queryString)"
   ]
  },
  {
   "cell_type": "markdown",
   "metadata": {},
   "source": [
    "Maybe there are connection in the opposite direction: ***?s ?p wd:Q308124***."
   ]
  },
  {
   "cell_type": "code",
   "execution_count": 54,
   "metadata": {},
   "outputs": [
    {
     "name": "stdout",
     "output_type": "stream",
     "text": [
      "Results\n",
      "[('s', 'http://www.wikidata.org/entity/Q16954197'), ('sName', 'The Code'), ('p', 'http://www.wikidata.org/prop/direct/P161'), ('pName', 'cast member')]\n",
      "[('s', 'http://www.wikidata.org/entity/Q1570302'), ('sName', 'Lansky'), ('p', 'http://www.wikidata.org/prop/direct/P161'), ('pName', 'cast member')]\n",
      "[('s', 'http://www.wikidata.org/entity/Q21511509'), ('sName', 'Annabelle: Creation'), ('p', 'http://www.wikidata.org/prop/direct/P161'), ('pName', 'cast member')]\n",
      "[('s', 'http://www.wikidata.org/entity/Q1352085'), ('sName', 'Analyze That'), ('p', 'http://www.wikidata.org/prop/direct/P161'), ('pName', 'cast member')]\n",
      "[('s', 'http://www.wikidata.org/entity/Q3805682'), ('sName', 'Jack the Dog'), ('p', 'http://www.wikidata.org/prop/direct/P161'), ('pName', 'cast member')]\n",
      "[('s', 'http://www.wikidata.org/entity/Q826477'), ('sName', 'Without a Trace'), ('p', 'http://www.wikidata.org/prop/direct/P161'), ('pName', 'cast member')]\n",
      "[('s', 'http://www.wikidata.org/entity/Q255376'), ('sName', 'The Client'), ('p', 'http://www.wikidata.org/prop/direct/P161'), ('pName', 'cast member')]\n",
      "[('s', 'http://www.wikidata.org/entity/Q1125349'), ('sName', 'Autumn in New York'), ('p', 'http://www.wikidata.org/prop/direct/P161'), ('pName', 'cast member')]\n",
      "[('s', 'http://www.wikidata.org/entity/Q3549263'), ('sName', 'Underground: The Julian Assange Story'), ('p', 'http://www.wikidata.org/prop/direct/P161'), ('pName', 'cast member')]\n",
      "[('s', 'http://www.wikidata.org/entity/Q7728500'), ('sName', 'The Custodian'), ('p', 'http://www.wikidata.org/prop/direct/P161'), ('pName', 'cast member')]\n",
      "[('s', 'http://www.wikidata.org/entity/Q12126147'), ('sName', 'Mental'), ('p', 'http://www.wikidata.org/prop/direct/P161'), ('pName', 'cast member')]\n",
      "[('s', 'http://www.wikidata.org/entity/Q52667904'), ('sName', 'Maple Street'), ('p', 'http://www.wikidata.org/prop/direct/P161'), ('pName', 'cast member')]\n",
      "[('s', 'http://www.wikidata.org/entity/Q52667908'), ('sName', 'Underground Railroad'), ('p', 'http://www.wikidata.org/prop/direct/P161'), ('pName', 'cast member')]\n",
      "[('s', 'http://www.wikidata.org/entity/Q52667910'), ('sName', 'Hang On to Me'), ('p', 'http://www.wikidata.org/prop/direct/P161'), ('pName', 'cast member')]\n",
      "[('s', 'http://www.wikidata.org/entity/Q52667965'), ('sName', 'Our Sons and Daughters'), ('p', 'http://www.wikidata.org/prop/direct/P161'), ('pName', 'cast member')]\n",
      "[('s', 'http://www.wikidata.org/entity/Q52667968'), ('sName', 'A Tree Falls'), ('p', 'http://www.wikidata.org/prop/direct/P161'), ('pName', 'cast member')]\n",
      "[('s', 'http://www.wikidata.org/entity/Q52667970'), ('sName', 'Trip Box'), ('p', 'http://www.wikidata.org/prop/direct/P161'), ('pName', 'cast member')]\n",
      "[('s', 'http://www.wikidata.org/entity/Q52667973'), ('sName', 'Moving On'), ('p', 'http://www.wikidata.org/prop/direct/P161'), ('pName', 'cast member')]\n",
      "[('s', 'http://www.wikidata.org/entity/Q52667986'), ('sName', 'Life Rules'), ('p', 'http://www.wikidata.org/prop/direct/P161'), ('pName', 'cast member')]\n",
      "[('s', 'http://www.wikidata.org/entity/Q52667989'), ('sName', 'The Line'), ('p', 'http://www.wikidata.org/prop/direct/P161'), ('pName', 'cast member')]\n",
      "20\n"
     ]
    }
   ],
   "source": [
    "# opposite direction\n",
    "queryString = \"\"\"\n",
    "SELECT ?s ?sName ?p ?pName WHERE { \n",
    "\n",
    "    # Connecting something to Cobie Smulders\n",
    "    ?s ?p wd:Q308124 .\n",
    "    \n",
    "    # This returns the labels\n",
    "    ?p <http://schema.org/name> ?pName .\n",
    "    ?s <http://schema.org/name> ?sName .\n",
    "}\n",
    "ORDER BY ?pName\n",
    "LIMIT 20\n",
    "\"\"\"\n",
    "\n",
    "print(\"Results\")\n",
    "x = run_query(queryString)"
   ]
  },
  {
   "cell_type": "markdown",
   "metadata": {},
   "source": [
    "I can use the property ***cast member (wdt:P161)*** as before, but I need to understand how to select only films and not other TV series."
   ]
  },
  {
   "cell_type": "code",
   "execution_count": 55,
   "metadata": {},
   "outputs": [
    {
     "name": "stdout",
     "output_type": "stream",
     "text": [
      "Results\n",
      "[('class', 'http://www.wikidata.org/entity/Q11424'), ('className', 'film')]\n",
      "[('class', 'http://www.wikidata.org/entity/Q21191270'), ('className', 'television series episode')]\n",
      "[('class', 'http://www.wikidata.org/entity/Q506240'), ('className', 'television film')]\n",
      "[('class', 'http://www.wikidata.org/entity/Q5398426'), ('className', 'television series')]\n",
      "[('class', 'http://www.wikidata.org/entity/Q653916'), ('className', 'television pilot')]\n",
      "5\n"
     ]
    }
   ],
   "source": [
    "queryString = \"\"\"\n",
    "SELECT DISTINCT ?class ?className WHERE { \n",
    "\n",
    "    # Retrieve class of films\n",
    "    ?s wdt:P161 wd:Q308124 ;\n",
    "        wdt:P31 ?class .\n",
    "    \n",
    "    # This returns the labels\n",
    "    ?class <http://schema.org/name> ?className .\n",
    "}\n",
    "\"\"\"\n",
    "\n",
    "print(\"Results\")\n",
    "x = run_query(queryString)"
   ]
  },
  {
   "cell_type": "markdown",
   "metadata": {},
   "source": [
    "I retrieved ***film (wd:Q11424)***. Now, I can retrieve only the films of a specific actor : ***Anthony LaPaglia (wd:Q308124)***."
   ]
  },
  {
   "cell_type": "code",
   "execution_count": 56,
   "metadata": {},
   "outputs": [
    {
     "name": "stdout",
     "output_type": "stream",
     "text": [
      "Results\n",
      "[('film', 'http://www.wikidata.org/entity/Q578700'), ('filmName', '29th Street')]\n",
      "[('film', 'http://www.wikidata.org/entity/Q18150326'), ('filmName', 'A Good Marriage')]\n",
      "[('film', 'http://www.wikidata.org/entity/Q21869637'), ('filmName', 'A Month of Sundays')]\n",
      "[('film', 'http://www.wikidata.org/entity/Q1352085'), ('filmName', 'Analyze That')]\n",
      "[('film', 'http://www.wikidata.org/entity/Q21511509'), ('filmName', 'Annabelle: Creation')]\n",
      "[('film', 'http://www.wikidata.org/entity/Q1125349'), ('filmName', 'Autumn in New York')]\n",
      "[('film', 'http://www.wikidata.org/entity/Q2597292'), ('filmName', 'Balibo')]\n",
      "[('film', 'http://www.wikidata.org/entity/Q4409907'), ('filmName', \"Betsy's Wedding\")]\n",
      "[('film', 'http://www.wikidata.org/entity/Q16248717'), ('filmName', 'Big Stone Gap')]\n",
      "[('film', 'http://www.wikidata.org/entity/Q4968055'), ('filmName', 'Brilliant Lies')]\n",
      "[('film', 'http://www.wikidata.org/entity/Q1167468'), ('filmName', 'Chameleon')]\n",
      "[('film', 'http://www.wikidata.org/entity/Q1107867'), ('filmName', 'Cold Steel')]\n",
      "[('film', 'http://www.wikidata.org/entity/Q2985756'), ('filmName', 'Commandments')]\n",
      "[('film', 'http://www.wikidata.org/entity/Q2056364'), ('filmName', 'Company Man')]\n",
      "[('film', 'http://www.wikidata.org/entity/Q870053'), ('filmName', 'Dead Heat')]\n",
      "[('film', 'http://www.wikidata.org/entity/Q2309994'), ('filmName', 'Empire Records')]\n",
      "[('film', 'http://www.wikidata.org/entity/Q127760'), ('filmName', 'He Said, She Said')]\n",
      "[('film', 'http://www.wikidata.org/entity/Q20647417'), ('filmName', 'Holding the Man')]\n",
      "[('film', 'http://www.wikidata.org/entity/Q1308548'), ('filmName', \"I'm with Lucy\")]\n",
      "[('film', 'http://www.wikidata.org/entity/Q885284'), ('filmName', 'Innocent Blood')]\n",
      "[('film', 'http://www.wikidata.org/entity/Q3805682'), ('filmName', 'Jack the Dog')]\n",
      "[('film', 'http://www.wikidata.org/entity/Q6168169'), ('filmName', 'Jazz')]\n",
      "[('film', 'http://www.wikidata.org/entity/Q690463'), ('filmName', 'Lantana')]\n",
      "[('film', 'http://www.wikidata.org/entity/Q834367'), ('filmName', 'Looking for Alibrandi')]\n",
      "[('film', 'http://www.wikidata.org/entity/Q6749352'), ('filmName', 'Manhood')]\n",
      "[('film', 'http://www.wikidata.org/entity/Q12126147'), ('filmName', 'Mental')]\n",
      "[('film', 'http://www.wikidata.org/entity/Q1824522'), ('filmName', 'Mixed Nuts')]\n",
      "[('film', 'http://www.wikidata.org/entity/Q106462638'), ('filmName', 'Nitram')]\n",
      "[('film', 'http://www.wikidata.org/entity/Q29588617'), ('filmName', 'Nitti: The Enforcer')]\n",
      "[('film', 'http://www.wikidata.org/entity/Q844296'), ('filmName', 'One Good Cop')]\n",
      "[('film', 'http://www.wikidata.org/entity/Q624772'), ('filmName', 'Phoenix')]\n",
      "[('film', 'http://www.wikidata.org/entity/Q468033'), ('filmName', 'Road to Perdition')]\n",
      "[('film', 'http://www.wikidata.org/entity/Q2299481'), ('filmName', 'Slaves of New York')]\n",
      "[('film', 'http://www.wikidata.org/entity/Q1753552'), ('filmName', 'So I Married an Axe Murderer')]\n",
      "[('film', 'http://www.wikidata.org/entity/Q4380067'), ('filmName', 'Spinning Boris')]\n",
      "[('film', 'http://www.wikidata.org/entity/Q1150713'), ('filmName', 'Summer of Sam')]\n",
      "[('film', 'http://www.wikidata.org/entity/Q786585'), ('filmName', 'Sweet and Lowdown')]\n",
      "[('film', 'http://www.wikidata.org/entity/Q7714193'), ('filmName', 'The Architect')]\n",
      "[('film', 'http://www.wikidata.org/entity/Q2409617'), ('filmName', 'The Bank')]\n",
      "[('film', 'http://www.wikidata.org/entity/Q255376'), ('filmName', 'The Client')]\n",
      "[('film', 'http://www.wikidata.org/entity/Q7728500'), ('filmName', 'The Custodian')]\n",
      "[('film', 'http://www.wikidata.org/entity/Q129037'), ('filmName', 'The House of Mirth')]\n",
      "[('film', 'http://www.wikidata.org/entity/Q1544258'), ('filmName', 'The Salton Sea')]\n",
      "[('film', 'http://www.wikidata.org/entity/Q23939762'), ('filmName', \"Tomboy, a Revenger's Tale\")]\n",
      "[('film', 'http://www.wikidata.org/entity/Q2602493'), ('filmName', 'Trees Lounge')]\n",
      "[('film', 'http://www.wikidata.org/entity/Q4528291'), ('filmName', 'Whispers in the Dark')]\n",
      "[('film', 'http://www.wikidata.org/entity/Q3285147'), ('filmName', 'Winter Solstice')]\n",
      "47\n"
     ]
    }
   ],
   "source": [
    "queryString = \"\"\"\n",
    "SELECT ?film ?filmName WHERE { \n",
    "\n",
    "    # Retrieve films in which Cobie Smulders acted\n",
    "    ?film  wdt:P161 wd:Q308124 ;\n",
    "           wdt:P31  wd:Q11424  .\n",
    "    \n",
    "    # This returns the labels\n",
    "    ?film <http://schema.org/name> ?filmName .\n",
    "}\n",
    "ORDER BY ?filmName\n",
    "\"\"\"\n",
    "\n",
    "print(\"Results\")\n",
    "x = run_query(queryString)"
   ]
  },
  {
   "cell_type": "markdown",
   "metadata": {},
   "source": [
    "I have to retrieve the publication date of a film. I check if there is a property of films that contains the word \"date\"."
   ]
  },
  {
   "cell_type": "code",
   "execution_count": 57,
   "metadata": {},
   "outputs": [
    {
     "name": "stdout",
     "output_type": "stream",
     "text": [
      "Results\n",
      "[('p', 'http://www.wikidata.org/prop/direct/P577'), ('pName', 'publication date')]\n",
      "[('p', 'http://www.wikidata.org/prop/direct/P1191'), ('pName', 'date of first performance')]\n",
      "2\n"
     ]
    }
   ],
   "source": [
    "queryString = \"\"\"\n",
    "SELECT DISTINCT ?p ?pName WHERE { \n",
    "\n",
    "    # Connect something to Avengers Infinity War\n",
    "    ?film  wdt:P161 wd:Q308124 ;\n",
    "            ?p ?o;\n",
    "           wdt:P31  wd:Q11424  .\n",
    "    \n",
    "    # This returns the labels\n",
    "    ?p <http://schema.org/name> ?pName .\n",
    "    \n",
    "    # I use a regex to search a property that contains the word \"date\"\n",
    "    FILTER(REGEX(?pName, \"date\"))\n",
    "}\n",
    "\"\"\"\n",
    "\n",
    "print(\"Results\")\n",
    "x = run_query(queryString)"
   ]
  },
  {
   "cell_type": "markdown",
   "metadata": {},
   "source": [
    "So to retrieve the publication date of a ***film (wd:Q11424)***, I can use the property ***publication date (wdt:P577)***.\n",
    "\n",
    "Now I can finally answer to the initial question: who is the actor who acted in more films while working on ***\"Without a Trace\" (wd:Q826477)***."
   ]
  },
  {
   "cell_type": "code",
   "execution_count": 58,
   "metadata": {},
   "outputs": [
    {
     "name": "stdout",
     "output_type": "stream",
     "text": [
      "Results\n",
      "[('actor', 'http://www.wikidata.org/entity/Q355163'), ('actorName', 'Bruce Davison'), ('numFilms', '9')]\n",
      "[('actor', 'http://www.wikidata.org/entity/Q373989'), ('actorName', 'David Paymer'), ('numFilms', '8')]\n",
      "[('actor', 'http://www.wikidata.org/entity/Q706513'), ('actorName', 'Charles S. Dutton'), ('numFilms', '7')]\n",
      "[('actor', 'http://www.wikidata.org/entity/Q308124'), ('actorName', 'Anthony LaPaglia'), ('numFilms', '7')]\n",
      "[('actor', 'http://www.wikidata.org/entity/Q551608'), ('actorName', 'Enrique Murciano'), ('numFilms', '4')]\n",
      "[('actor', 'http://www.wikidata.org/entity/Q139341'), ('actorName', 'Zach Grenier'), ('numFilms', '4')]\n",
      "[('actor', 'http://www.wikidata.org/entity/Q3265830'), ('actorName', 'Lucille Soong'), ('numFilms', '3')]\n",
      "[('actor', 'http://www.wikidata.org/entity/Q238501'), ('actorName', 'Alex Veadov'), ('numFilms', '3')]\n",
      "[('actor', 'http://www.wikidata.org/entity/Q18618690'), ('actorName', 'John Livingston'), ('numFilms', '2')]\n",
      "[('actor', 'http://www.wikidata.org/entity/Q20651783'), ('actorName', 'Jenica Bergere'), ('numFilms', '2')]\n",
      "10\n"
     ]
    }
   ],
   "source": [
    "queryString = \"\"\"\n",
    "SELECT ?actor ?actorName COUNT(DISTINCT ?film) AS ?numFilms WHERE { \n",
    "\n",
    "    # Retrieve all the Without a Trace cast members\n",
    "    ?season wdt:P179 wd:Q826477 .        #BGP to retrieve all the seasons\n",
    "    ?season wdt:P527 ?episode .          #BGP to retrieve all the episodes of a season\n",
    "    ?episode wdt:P161 ?actor.       #BGP to retireve all cast members that participated in the episode\n",
    "    \n",
    "    # Retrieve start and end time\n",
    "    wd:Q826477  wdt:P580  ?startTime ;\n",
    "                wdt:P582  ?endTime   . \n",
    "    \n",
    "    # Retrieve films in which actor of Without a Trace acted\n",
    "    ?film  wdt:P31   wd:Q11424         ;\n",
    "           wdt:P161  ?actor            ;\n",
    "           wdt:P577  ?publicationDate  .\n",
    "    \n",
    "    # This returns the labels\n",
    "    ?actor <http://schema.org/name> ?actorName .\n",
    "    \n",
    "    # I want only films that were published while the actor was working on \"Without a Trace\".\n",
    "    FILTER (?publicationDate > ?startTime AND ?publicationDate < ?endTime )\n",
    "}\n",
    "GROUP BY ?actor ?actorName\n",
    "ORDER BY DESC(?numFilms)\n",
    "LIMIT 10\n",
    "\"\"\"\n",
    "\n",
    "print(\"Results\")\n",
    "x = run_query(queryString)"
   ]
  },
  {
   "cell_type": "code",
   "execution_count": 59,
   "metadata": {},
   "outputs": [
    {
     "name": "stdout",
     "output_type": "stream",
     "text": [
      "The index of this workflow is: 2_3\n",
      "The path is /locale/data/jupyter/prando/esw/tracks/2022/ground_truths/gt_json/workflow2_3.json\n",
      "JSON object updated\n"
     ]
    }
   ],
   "source": [
    "## single literal associated to an URI\n",
    "objs = []\n",
    "for i in x:\n",
    "    f_uri = i[0][1]\n",
    "    f_name = i[1][1]\n",
    "    val = i[2][1]\n",
    "    obj = {}\n",
    "    obj[\"refers_to\"] = f_uri\n",
    "    obj[\"refers_to_name\"] = f_name\n",
    "    obj[\"check\"] = \"value\"\n",
    "    obj[\"value\"]= val\n",
    "    objs.append(obj)\n",
    "evaluation.add_result(evaluation.get_index_workflow(pt),\"4\", evaluation.TYPE_REFERRED ,\"value\", objs)"
   ]
  },
  {
   "cell_type": "markdown",
   "metadata": {},
   "source": [
    "The actor who acted in more films while working on \"Without a Trace\" is ***Bruce Davison (wd:Q355163)*** with 9 films."
   ]
  },
  {
   "cell_type": "markdown",
   "metadata": {
    "tags": []
   },
   "source": [
    "### Task 5 : Compare Without a Trace with the tv series \"Cold Case\" in terms of number of seasons, episods and cast members.\n",
    "\n",
    "To compare the number of seasons and episodes I can rely on the same query used in Task 1."
   ]
  },
  {
   "cell_type": "code",
   "execution_count": 60,
   "metadata": {},
   "outputs": [
    {
     "name": "stdout",
     "output_type": "stream",
     "text": [
      "Results\n",
      "[('tv_series', 'http://www.wikidata.org/entity/Q826477'), ('name', 'Without a Trace'), ('numEpisodes', '160'), ('numSeasons', '7')]\n",
      "[('tv_series', 'http://www.wikidata.org/entity/Q733960'), ('name', 'Cold Case'), ('numEpisodes', '156'), ('numSeasons', '7')]\n",
      "2\n"
     ]
    }
   ],
   "source": [
    "queryString = \"\"\"\n",
    "SELECT ?tv_series ?name ?numEpisodes ?numSeasons WHERE { \n",
    "    \n",
    "    VALUES ?tv_series { wd:Q826477 wd:Q733960 }\n",
    "    \n",
    "    # Retrieve numEpisodes and numSeasons\n",
    "    ?tv_series  wdt:P1113 ?numEpisodes ;\n",
    "                wdt:P2437 ?numSeasons .\n",
    "    ?tv_series sc:name ?name\n",
    "}\n",
    "GROUP BY ?tv_series ?name\n",
    "\"\"\"\n",
    "\n",
    "print(\"Results\")\n",
    "x = run_query(queryString)"
   ]
  },
  {
   "cell_type": "markdown",
   "metadata": {},
   "source": [
    "I can also retrieve who are the actors who partecipated in the highest number of episodes in ***Cold Case (wd:Q733960)*** using the same query used in Task 2."
   ]
  },
  {
   "cell_type": "code",
   "execution_count": 61,
   "metadata": {},
   "outputs": [
    {
     "name": "stdout",
     "output_type": "stream",
     "text": [
      "Results\n",
      "[('actor', 'http://www.wikidata.org/entity/Q1700068'), ('actorName', 'John Finn'), ('numEpisodes', '146')]\n",
      "[('actor', 'http://www.wikidata.org/entity/Q232968'), ('actorName', 'Kathryn Morris'), ('numEpisodes', '146')]\n",
      "[('actor', 'http://www.wikidata.org/entity/Q123836'), ('actorName', 'Danny Pino'), ('numEpisodes', '142')]\n",
      "[('actor', 'http://www.wikidata.org/entity/Q1125651'), ('actorName', 'Thom Barry'), ('numEpisodes', '142')]\n",
      "[('actor', 'http://www.wikidata.org/entity/Q1338682'), ('actorName', 'Jeremy Ratchford'), ('numEpisodes', '141')]\n",
      "[('actor', 'http://www.wikidata.org/entity/Q241160'), ('actorName', 'Tracie Thoms'), ('numEpisodes', '95')]\n",
      "[('actor', 'http://www.wikidata.org/entity/Q262241'), ('actorName', 'Nicki Aycox'), ('numEpisodes', '12')]\n",
      "[('actor', 'http://www.wikidata.org/entity/Q1703231'), ('actorName', 'Jonathan LaPaglia'), ('numEpisodes', '10')]\n",
      "[('actor', 'http://www.wikidata.org/entity/Q597515'), ('actorName', 'Josh Hopkins'), ('numEpisodes', '9')]\n",
      "[('actor', 'http://www.wikidata.org/entity/Q232481'), ('actorName', 'Tania Raymonde'), ('numEpisodes', '8')]\n",
      "10\n"
     ]
    }
   ],
   "source": [
    "queryString = \"\"\"\n",
    "SELECT ?actor ?actorName COUNT(DISTINCT ?episode) AS ?numEpisodes WHERE { \n",
    "\n",
    "    # Retrieve The Office episodes \n",
    "    wd:Q733960 wdt:P527{2} ?episode .\n",
    "    \n",
    "    # Retrieve cast members\n",
    "    ?episode wdt:P161 ?actor .\n",
    "    \n",
    "    # This returns the labels\n",
    "    ?actor <http://schema.org/name> ?actorName .\n",
    "}\n",
    "GROUP BY ?actor ?actorName\n",
    "ORDER BY DESC(?numEpisodes)\n",
    "LIMIT 10\n",
    "\"\"\"\n",
    "\n",
    "print(\"Results\")\n",
    "x = run_query(queryString)"
   ]
  },
  {
   "cell_type": "markdown",
   "metadata": {},
   "source": [
    "I want to check which TV series has the largest cast between ***Cold Case (wd:Q733960)*** and ***\"Without a Trace\" (wd:Q826477)***."
   ]
  },
  {
   "cell_type": "code",
   "execution_count": 62,
   "metadata": {},
   "outputs": [
    {
     "name": "stdout",
     "output_type": "stream",
     "text": [
      "Results\n",
      "[('tv_series', 'http://www.wikidata.org/entity/Q733960'), ('name', 'Cold Case'), ('numActors', '674')]\n",
      "[('tv_series', 'http://www.wikidata.org/entity/Q826477'), ('name', 'Without a Trace'), ('numActors', '30')]\n",
      "2\n"
     ]
    }
   ],
   "source": [
    "queryString = \"\"\"\n",
    "SELECT ?tv_series ?name (COUNT(DISTINCT ?actor) AS ?numActors) WHERE { \n",
    "    \n",
    "    VALUES ?tv_series { wd:Q826477 wd:Q733960 }\n",
    "\n",
    "    # Retrieve episodes \n",
    "    ?tv_series wdt:P527{2} ?episode .\n",
    "    \n",
    "    # Retrieve cast members\n",
    "    ?episode wdt:P161 ?actor .\n",
    "    \n",
    "    # This returns the labels\n",
    "    ?tv_series <http://schema.org/name> ?name .\n",
    "}\n",
    "GROUP BY ?tv_series ?name\n",
    "\"\"\"\n",
    "\n",
    "print(\"Results\")\n",
    "x = run_query(queryString)"
   ]
  },
  {
   "cell_type": "markdown",
   "metadata": {},
   "source": [
    "### Task 6 : Return how many of the actors who are members of the cast of the tv series have [Kavin Bacon number](https://en.wikipedia.org/wiki/Six_Degrees_of_Kevin_Bacon#:~:text=Kevin%20Bacon%20himself%20has%20a,Bacon%20number%20is%20N%2B1.) equal to 2\n",
    "\n",
    "The Bacon number of an actor is the number of degrees of separation he or she has from Kevin Bacon. So, first af all, I need to retrieve Kevin Bacon.\n",
    "\n",
    "To do this, I can use a ***REGEX*** on the surname connect through the property ***family name (wdt:P734)*** discovered in a previous query."
   ]
  },
  {
   "cell_type": "code",
   "execution_count": 63,
   "metadata": {},
   "outputs": [
    {
     "name": "stdout",
     "output_type": "stream",
     "text": [
      "Results\n",
      "[('person', 'http://www.wikidata.org/entity/Q3116093'), ('personName', 'Irving Bacon'), ('personSurname', 'Bacon')]\n",
      "[('person', 'http://www.wikidata.org/entity/Q3454165'), ('personName', 'Kevin Bacon'), ('personSurname', 'Bacon')]\n",
      "[('person', 'http://www.wikidata.org/entity/Q3102228'), ('personName', 'Georges Baconnet'), ('personSurname', 'Baconnet')]\n",
      "[('person', 'http://www.wikidata.org/entity/Q503597'), ('personName', 'James Bacon'), ('personSurname', 'Bacon')]\n",
      "[('person', 'http://www.wikidata.org/entity/Q3992438'), ('personName', 'Tom Bacon'), ('personSurname', 'Bacon')]\n",
      "[('person', 'http://www.wikidata.org/entity/Q3491343'), ('personName', 'Sosie Bacon'), ('personSurname', 'Bacon')]\n",
      "[('person', 'http://www.wikidata.org/entity/Q706678'), ('personName', 'Lloyd Bacon'), ('personSurname', 'Bacon')]\n",
      "[('person', 'http://www.wikidata.org/entity/Q65116263'), ('personName', 'Marco Bacon'), ('personSurname', 'Bacon')]\n",
      "[('person', 'http://www.wikidata.org/entity/Q5216474'), ('personName', 'Daniel Bacon'), ('personSurname', 'Bacon')]\n",
      "[('person', 'http://www.wikidata.org/entity/Q16031668'), ('personName', 'Frank Bacon'), ('personSurname', 'Bacon')]\n",
      "[('person', 'http://www.wikidata.org/entity/Q608866'), ('personName', 'Nicholas Bacon'), ('personSurname', 'Bacon')]\n",
      "[('person', 'http://www.wikidata.org/entity/Q21483293'), ('personName', 'Georges Baconnier'), ('personSurname', 'Baconnier')]\n",
      "[('person', 'http://www.wikidata.org/entity/Q5231033'), ('personName', 'David Bacon'), ('personSurname', 'Bacon')]\n",
      "[('person', 'http://www.wikidata.org/entity/Q154340'), ('personName', 'Francis Bacon'), ('personSurname', 'Bacon')]\n",
      "[('person', 'http://www.wikidata.org/entity/Q3186649'), ('personName', 'Joséphine Bacon'), ('personSurname', 'Bacon')]\n",
      "15\n"
     ]
    }
   ],
   "source": [
    "queryString = \"\"\"\n",
    "SELECT DISTINCT ?person ?personName ?personSurname WHERE { \n",
    "\n",
    "    # Retrieve surname of a person using the property family name\n",
    "    ?person wdt:P734 ?surname .\n",
    "    \n",
    "    # This returns the labels\n",
    "    ?person <http://schema.org/name> ?personName .\n",
    "    ?surname <http://schema.org/name> ?personSurname .\n",
    "\n",
    "    # Since Kevin Bacon is an actor, he probably acted in a film.\n",
    "    FILTER EXISTS{\n",
    "        ?film   wdt:P31   wd:Q11424 ;\n",
    "                wdt:P161  ?person   .             \n",
    "    }\n",
    "    \n",
    "    # I use a regex to search for a surname that contains the word \"Bacon\"\n",
    "    FILTER(REGEX(?personSurname, \"Bacon\"))\n",
    "    \n",
    "}\n",
    "LIMIT 10\n",
    "\"\"\"\n",
    "\n",
    "print(\"Results\")\n",
    "x = run_query(queryString)"
   ]
  },
  {
   "cell_type": "markdown",
   "metadata": {},
   "source": [
    "I have ***Kevin Bacon (wd:Q3454165)***. Now I can retrieve all the cast members of ***\"Without a Trace\" (wd:Q826477)*** with Kevin Bacon number equal to 2.\n",
    "\n",
    "First, I start with cast members that have a Kevin Bacon Number equal to 1."
   ]
  },
  {
   "cell_type": "code",
   "execution_count": 64,
   "metadata": {},
   "outputs": [
    {
     "name": "stdout",
     "output_type": "stream",
     "text": [
      "Results\n",
      "The operation failed <urlopen error [Errno -2] Name or service not known>\n"
     ]
    }
   ],
   "source": [
    "queryString = \"\"\"\n",
    "SELECT ?actor ?actorName ?film ?filmName WHERE { \n",
    "\n",
    "    # Retrieve Without a Trace actors\n",
    "    wd:Q826477 wdt:P161 ?actor .\n",
    "    \n",
    "    # Ensure that the actor and Kevin Bacon worked together\n",
    "    ?film wdt:P161 ?actor      ;\n",
    "          wdt:P161 wd:Q3454165 .\n",
    "    \n",
    "    # This returns the labels\n",
    "    ?actor <http://schema.org/name> ?actorName .\n",
    "    ?film <http://schema.org/name> ?filmName .\n",
    "}\n",
    "\"\"\"\n",
    "\n",
    "print(\"Results\")\n",
    "x = run_query(queryString)"
   ]
  },
  {
   "cell_type": "markdown",
   "metadata": {},
   "source": [
    "Now I want only cast members of ***\"Without a Trace\" (wd:Q826477)*** that have a Kevin Bacon Number equal to 2."
   ]
  },
  {
   "cell_type": "code",
   "execution_count": 65,
   "metadata": {},
   "outputs": [
    {
     "name": "stdout",
     "output_type": "stream",
     "text": [
      "Results\n",
      "[('callret-0', '1')]\n",
      "1\n"
     ]
    }
   ],
   "source": [
    "queryString = \"\"\"\n",
    "SELECT COUNT(DISTINCT ?actor) WHERE { \n",
    "\n",
    "    # Retrieve Without a Trace actors\n",
    "    wd:Q826477 wdt:P161 ?actor .\n",
    "    \n",
    "    # Ensure that the actor and worked together with another actor \"in the middle\"\n",
    "    ?filmMiddle wdt:P161 ?actor       ;\n",
    "                wdt:P161 ?actorMiddle .\n",
    "    \n",
    "    # Ensure that the actor \"in the middle\" worked with Kevin Bacon\n",
    "    ?film       wdt:P161 ?actorMiddle  ;\n",
    "                wdt:P161 wd:Q3454165 .\n",
    "    \n",
    "    # Ensure that the \"first\" actor and Kevin Bacon did not worked together\n",
    "    FILTER NOT EXISTS{\n",
    "        ?film3 wdt:P161 ?actor      ;\n",
    "               wdt:P161 wd:Q3454165 .\n",
    "    }\n",
    "    \n",
    "    # This returns the labels\n",
    "    ?actor <http://schema.org/name> ?actorName .\n",
    "}\n",
    "\"\"\"\n",
    "\n",
    "print(\"Results\")\n",
    "x = run_query(queryString)\n"
   ]
  },
  {
   "cell_type": "code",
   "execution_count": 66,
   "metadata": {},
   "outputs": [
    {
     "name": "stdout",
     "output_type": "stream",
     "text": [
      "Results\n",
      "[('actor', 'http://www.wikidata.org/entity/Q235075'), ('actorName', 'Poppy Montgomery')]\n",
      "1\n"
     ]
    }
   ],
   "source": [
    "queryString = \"\"\"\n",
    "SELECT DISTINCT ?actor ?actorName WHERE { \n",
    "\n",
    "    # Retrieve Without a Trace actors\n",
    "    wd:Q826477 wdt:P161 ?actor .\n",
    "    \n",
    "    # Ensure that the actor and worked together with another actor \"in the middle\"\n",
    "    ?filmMiddle wdt:P161 ?actor       ;\n",
    "                wdt:P161 ?actorMiddle .\n",
    "    \n",
    "    # Ensure that the actor \"in the middle\" worked with Kevin Bacon\n",
    "    ?film       wdt:P161 ?actorMiddle  ;\n",
    "                wdt:P161 wd:Q3454165 .\n",
    "    \n",
    "    # Ensure that the \"first\" actor and Kevin Bacon did not worked together\n",
    "    FILTER NOT EXISTS{\n",
    "        ?film3 wdt:P161 ?actor      ;\n",
    "               wdt:P161 wd:Q3454165 .\n",
    "    }\n",
    "    \n",
    "    # This returns the labels\n",
    "    ?actor <http://schema.org/name> ?actorName .\n",
    "}\n",
    "LIMIT 30\n",
    "\"\"\"\n",
    "\n",
    "print(\"Results\")\n",
    "x = run_query(queryString)"
   ]
  },
  {
   "cell_type": "code",
   "execution_count": 67,
   "metadata": {},
   "outputs": [
    {
     "name": "stdout",
     "output_type": "stream",
     "text": [
      "The index of this workflow is: 2_3\n",
      "The path is /locale/data/jupyter/prando/esw/tracks/2022/ground_truths/gt_json/workflow2_3.json\n",
      "JSON object updated\n"
     ]
    }
   ],
   "source": [
    "obj = [{\"uri\":r[0][1],\"name\":r[1][1]} for r in x]\n",
    "evaluation.add_result(evaluation.get_index_workflow(pt),\"6\", evaluation.TYPE_SET ,\"uri\", obj)"
   ]
  },
  {
   "cell_type": "markdown",
   "metadata": {},
   "source": [
    "There are only one actor who partecipated to ***\"Without a Trace\" (wd:Q826477)*** with Kevin Bacon Number equals to 2."
   ]
  },
  {
   "cell_type": "markdown",
   "metadata": {},
   "source": [
    "## Task 7"
   ]
  },
  {
   "cell_type": "code",
   "execution_count": 72,
   "metadata": {},
   "outputs": [
    {
     "name": "stdout",
     "output_type": "stream",
     "text": [
      "Results\n",
      "[('s', 'http://www.wikidata.org/entity/Q1079'), ('name', 'Breaking Bad'), ('awards', '21')]\n",
      "[('s', 'http://www.wikidata.org/entity/Q56153643'), ('name', 'Watchmen'), ('awards', '20')]\n",
      "[('s', 'http://www.wikidata.org/entity/Q1132439'), ('name', 'The Practice'), ('awards', '12')]\n",
      "[('s', 'http://www.wikidata.org/entity/Q16756'), ('name', 'Modern Family'), ('awards', '11')]\n",
      "[('s', 'http://www.wikidata.org/entity/Q8539'), ('name', 'The Big Bang Theory'), ('awards', '10')]\n",
      "[('s', 'http://www.wikidata.org/entity/Q1136370'), ('name', 'General Hospital'), ('awards', '10')]\n",
      "[('s', 'http://www.wikidata.org/entity/Q1145764'), ('name', 'Guiding Light'), ('awards', '9')]\n",
      "[('s', 'http://www.wikidata.org/entity/Q244803'), ('name', 'Ally McBeal'), ('awards', '9')]\n",
      "[('s', 'http://www.wikidata.org/entity/Q30599007'), ('name', 'Succession'), ('awards', '8')]\n",
      "[('s', 'http://www.wikidata.org/entity/Q1030713'), ('name', 'Another World'), ('awards', '8')]\n",
      "[('s', 'http://www.wikidata.org/entity/Q438406'), ('name', \"Grey's Anatomy\"), ('awards', '8')]\n",
      "[('s', 'http://www.wikidata.org/entity/Q1068952'), ('name', 'St. Elsewhere'), ('awards', '8')]\n",
      "[('s', 'http://www.wikidata.org/entity/Q147235'), ('name', 'How I Met Your Mother'), ('awards', '7')]\n",
      "[('s', 'http://www.wikidata.org/entity/Q34659'), ('name', 'My Name Is Earl'), ('awards', '7')]\n",
      "[('s', 'http://www.wikidata.org/entity/Q186219'), ('name', 'True Blood'), ('awards', '7')]\n",
      "[('s', 'http://www.wikidata.org/entity/Q558112'), ('name', 'Black Mirror'), ('awards', '6')]\n",
      "[('s', 'http://www.wikidata.org/entity/Q7099650'), ('name', 'Orange Is the New Black'), ('awards', '6')]\n",
      "[('s', 'http://www.wikidata.org/entity/Q18844729'), ('name', 'Mr. Robot'), ('awards', '6')]\n",
      "[('s', 'http://www.wikidata.org/entity/Q21296543'), ('name', 'Star Trek: Discovery'), ('awards', '6')]\n",
      "[('s', 'http://www.wikidata.org/entity/Q2085'), ('name', 'Twin Peaks'), ('awards', '6')]\n",
      "[('s', 'http://www.wikidata.org/entity/Q1071958'), ('name', 'Chicago Hope'), ('awards', '6')]\n",
      "[('s', 'http://www.wikidata.org/entity/Q117396'), ('name', 'CSI: Vegas'), ('awards', '6')]\n",
      "[('s', 'http://www.wikidata.org/entity/Q1050603'), ('name', 'Deadwood'), ('awards', '6')]\n",
      "[('s', 'http://www.wikidata.org/entity/Q1168760'), ('name', 'Upstairs, Downstairs'), ('awards', '5')]\n",
      "[('s', 'http://www.wikidata.org/entity/Q39719'), ('name', 'New York Undercover'), ('awards', '4')]\n",
      "[('s', 'http://www.wikidata.org/entity/Q833322'), ('name', 'Murder, She Wrote'), ('awards', '4')]\n",
      "[('s', 'http://www.wikidata.org/entity/Q1109026'), ('name', 'A Different World'), ('awards', '3')]\n",
      "[('s', 'http://www.wikidata.org/entity/Q1758072'), ('name', 'Lilyhammer'), ('awards', '3')]\n",
      "[('s', 'http://www.wikidata.org/entity/Q19570'), ('name', 'The Good Wife'), ('awards', '3')]\n",
      "[('s', 'http://www.wikidata.org/entity/Q1144624'), ('name', 'Family Ties'), ('awards', '3')]\n",
      "[('s', 'http://www.wikidata.org/entity/Q585758'), ('name', 'Boardwalk Empire'), ('awards', '3')]\n",
      "[('s', 'http://www.wikidata.org/entity/Q232737'), ('name', 'The Walking Dead'), ('awards', '3')]\n",
      "32\n"
     ]
    }
   ],
   "source": [
    "queryString = \"\"\"\n",
    "SELECT ?s ?name COUNT( ?aw) AS ?awards WHERE { \n",
    "    \n",
    "    {\n",
    "        SELECT DISTINCT ?s WHERE{\n",
    "            # Retrieve episodes \n",
    "            wd:Q733960  wdt:P527{2} ?episode .\n",
    "\n",
    "            # Retrieve cast members\n",
    "            ?episode wdt:P161 ?actor .\n",
    "            ?s wdt:P161 ?actor .\n",
    "        }\n",
    "    }\n",
    "    \n",
    "    ?s wdt:P166 ?aw;\n",
    "        wdt:P31 wd:Q5398426 .\n",
    "    \n",
    "    # This returns the labels\n",
    "    ?s sc:name ?name .\n",
    "}\n",
    "GROUP BY ?s ?name\n",
    "HAVING  (COUNT( ?aw)>2)\n",
    "ORDER BY DESC(?awards)\n",
    "\"\"\"\n",
    "\n",
    "print(\"Results\")\n",
    "x = run_query(queryString)"
   ]
  },
  {
   "cell_type": "code",
   "execution_count": 73,
   "metadata": {},
   "outputs": [
    {
     "name": "stdout",
     "output_type": "stream",
     "text": [
      "The index of this workflow is: 2_3\n",
      "The path is /locale/data/jupyter/prando/esw/tracks/2022/ground_truths/gt_json/workflow2_3.json\n",
      "JSON object updated\n"
     ]
    }
   ],
   "source": [
    "## single literal associated to an URI\n",
    "objs = []\n",
    "for i in x:\n",
    "    f_uri = i[0][1]\n",
    "    f_name = i[1][1]\n",
    "    val = i[2][1]\n",
    "    obj = {}\n",
    "    obj[\"refers_to\"] = f_uri\n",
    "    obj[\"refers_to_name\"] = f_name\n",
    "    obj[\"check\"] = \"value\"\n",
    "    obj[\"value\"]= val\n",
    "    objs.append(obj)\n",
    "evaluation.add_result(evaluation.get_index_workflow(pt),\"7\", evaluation.TYPE_REFERRED ,\"value\", objs)"
   ]
  },
  {
   "cell_type": "code",
   "execution_count": null,
   "metadata": {},
   "outputs": [],
   "source": []
  }
 ],
 "metadata": {
  "kernelspec": {
   "display_name": "Python 3",
   "language": "python",
   "name": "python3"
  },
  "language_info": {
   "codemirror_mode": {
    "name": "ipython",
    "version": 3
   },
   "file_extension": ".py",
   "mimetype": "text/x-python",
   "name": "python",
   "nbconvert_exporter": "python",
   "pygments_lexer": "ipython3",
   "version": "3.7.4"
  }
 },
 "nbformat": 4,
 "nbformat_minor": 5
}
