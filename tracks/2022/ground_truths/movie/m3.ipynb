{
 "cells": [
  {
   "cell_type": "markdown",
   "id": "7034c3bf-6eb0-4418-8687-7b9d2a501103",
   "metadata": {},
   "source": [
    "# General instructions\n",
    "\n",
    "The goal of the project is to materialize a set of **exploratory workloads** over a real-world, large-scale,  open-domain KG: [WikiData](https://www.wikidata.org/wiki/Wikidata:Main_Page)\n",
    "\n",
    "An exploratory workload  is composed by a set of queries, where each query is related to the information obtained previously.\n",
    "\n",
    "An exploratory workload starts with a usually vague, open ended question, and does not assume the person issuing the workload has a clear understanding of the data contained in the target database or its structure.\n",
    "\n",
    "Remeber that:\n",
    "\n",
    "1. All the queries must run in the python notebook\n",
    "2. You can use classes and properties only if you find them via a SPARQL query that must be present in the notebook\n",
    "3. You do not delete useless queries. Keep everything that is synthatically valid \n",
    "\n",
    "```\n",
    "?p <http://schema.org/name> ?name .\n",
    "```\n",
    "    \n",
    "    is the BGP returning a human-readable name of a property or a class in Wikidata."
   ]
  },
  {
   "cell_type": "code",
   "execution_count": 1,
   "id": "3605c9d5-5371-49a5-be8d-d66e8f417139",
   "metadata": {},
   "outputs": [],
   "source": [
    "## SETUP used later\n",
    "import sys\n",
    "import os\n",
    "import json\n",
    "import pandas as pd\n",
    "sys.path.insert(1, '../../../../src/')\n",
    "import gt_modules.evaluation as evaluation\n",
    "from SPARQLWrapper import SPARQLWrapper, JSON\n",
    "\n",
    "\n",
    "prefixString = \"\"\"\n",
    "##-movie3-##\n",
    "PREFIX wd: <http://www.wikidata.org/entity/> \n",
    "PREFIX wdt: <http://www.wikidata.org/prop/direct/> \n",
    "PREFIX sc: <http://schema.org/>\n",
    "\"\"\"\n",
    "\n",
    "# select and construct queries\n",
    "def run_query(queryString,verbose = True):\n",
    "    to_run = prefixString + \"\\n\" + queryString\n",
    "\n",
    "    sparql = SPARQLWrapper(\"http://gracevirtuoso.dei.unipd.it/sparql\")\n",
    "    sparql.setTimeout(300)\n",
    "    sparql.setReturnFormat(JSON)\n",
    "    sparql.setQuery(to_run)\n",
    "\n",
    "    try :\n",
    "        results = sparql.query()\n",
    "        json_results = results.convert()\n",
    "        if len(json_results['results']['bindings'])==0:\n",
    "            print(\"Empty\")\n",
    "            return []\n",
    "        array = []\n",
    "        for bindings in json_results['results']['bindings']:\n",
    "            app =  [ (var, value['value'])  for var, value in bindings.items() ] \n",
    "            if verbose:\n",
    "                print( app)\n",
    "            array.append(app)\n",
    "        if verbose:\n",
    "            print(len(array))\n",
    "        return array\n",
    "\n",
    "    except Exception as e :\n",
    "        print(\"The operation failed\", e)\n",
    "    \n",
    "# ASk queries\n",
    "def run_ask_query(queryString):\n",
    "    to_run = prefixString + \"\\n\" + queryString\n",
    "\n",
    "    sparql = SPARQLWrapper(\"http://gracevirtuoso.dei.unipd.it/sparql\")\n",
    "    sparql.setTimeout(300)\n",
    "    sparql.setReturnFormat(JSON)\n",
    "    sparql.setQuery(to_run)\n",
    "\n",
    "    try :\n",
    "        return sparql.query().convert()\n",
    "\n",
    "    except Exception as e :\n",
    "        print(\"The operation failed\", e)"
   ]
  },
  {
   "cell_type": "markdown",
   "id": "d477a59c-a68c-4c8f-9f97-8ca5294d7d27",
   "metadata": {},
   "source": [
    "# Movie Workflow Series (\"Production company explorative search\") \n",
    "\n",
    "Consider the following exploratory information need:\n",
    "\n",
    "> investigate the main companies working on cinema-related content. We want to know which are the main television production companies and the film production companies, which company distributes more film and some consideration about awards."
   ]
  },
  {
   "cell_type": "markdown",
   "id": "4a45c0ba-f79e-441d-bec5-84401b09db70",
   "metadata": {},
   "source": [
    "## Useful URIs for the current workflow\n",
    "The following are given:\n",
    "\n",
    "| IRI           | Description   | Role      |\n",
    "| -----------   | -----------   |-----------|\n",
    "| `wdt:P1647`   | subproperty   | predicate |\n",
    "| `wdt:P31`     | instance of   | predicate |\n",
    "| `wdt:P106`    | profession    | predicate | \n",
    "| `wdt:P279`    | subclass      | predicate |\n",
    "| `wdt:P27`     | nationality   | predicate |\n",
    "| `wdt:P106`     | profession   | predicate |\n",
    "| `wd:Q5`| Human       | node |\n",
    "| `wd:Q36479`    | The Lion King      | node |\n"
   ]
  },
  {
   "cell_type": "markdown",
   "id": "7af439fb-96e4-4dbb-a381-f19afab79f86",
   "metadata": {
    "tags": []
   },
   "source": [
    "\n",
    "\n",
    "\n",
    "Also consider\n",
    "\n",
    "```\n",
    "wd:Q36479 ?p ?obj .\n",
    "```\n",
    "\n",
    "is the BGP to retrieve all **properties of The Lion King**\n",
    "\n",
    "Please consider that when you return a resource, you should return the IRI and the label of the resource. In particular, when the task require you to identify a BGP the result set must always be a list of couples IRI - label.\n",
    "\n",
    "The workload should:\n",
    "\n",
    "\n",
    "1. Identify the BGP for films\n",
    "\n",
    "2. Identify the BGP for Netflix\n",
    "\n",
    "3. Identify the BGP for television production company\n",
    "\n",
    "4. Identify the BGP for film production company\n",
    "\n",
    "5. Find the top-5 companies (amongst television production company and film production company) which produced the highest number of crime films (the result set must be a list of triples company IRI, label and #crime film).\n",
    "\n",
    "6. Find the company (amongst television production company and film production company) which distributed more films (of any kind of film genre) that they did not produce (the result set must be a list of triples company IRI, label and #film).\n",
    "\n",
    "7. Find how many company are listed in every stock exchange market (the result set must be a list of triples stock exchange IRI, label and #companies). \n",
    "\n",
    "8. Identify the BGP for Academy Award\n",
    "\n",
    "9. Find the companies (among television and film production companies) that won at least 5 Academy Awards for Best Actress for the movies they produced (the result set must be a list of triples company IRI, label and #awards)."
   ]
  },
  {
   "cell_type": "code",
   "execution_count": 2,
   "id": "32020188",
   "metadata": {},
   "outputs": [
    {
     "name": "stdout",
     "output_type": "stream",
     "text": [
      "The index of this workflow is: 2_6\n"
     ]
    }
   ],
   "source": [
    "## startup the evaluation\n",
    "# setup the file and create the empty json\n",
    "ipname = \"m3.ipynb\"\n",
    "pt = os.getcwd()+os.sep+ipname\n",
    "evaluation.setup(pt)"
   ]
  },
  {
   "cell_type": "markdown",
   "id": "36a38381-50f9-4ccf-ba76-eea06b3bb5cc",
   "metadata": {
    "jp-MarkdownHeadingCollapsed": true,
    "tags": []
   },
   "source": [
    "## Task 1"
   ]
  },
  {
   "cell_type": "code",
   "execution_count": 3,
   "id": "ade01416-92e7-4ad7-b9a9-b8fb330750dc",
   "metadata": {},
   "outputs": [
    {
     "name": "stdout",
     "output_type": "stream",
     "text": [
      "Results\n",
      "[('obj', 'http://www.wikidata.org/entity/Q29168811'), ('name', 'animated feature film')]\n",
      "1\n"
     ]
    }
   ],
   "source": [
    "# instance of The Lion King\n",
    "queryString = \"\"\"\n",
    "SELECT DISTINCT ?obj ?name\n",
    "WHERE { \n",
    "    wd:Q36479 wdt:P31 ?obj .\n",
    "    ?obj sc:name ?name.\n",
    "}\n",
    "\"\"\"\n",
    "\n",
    "print(\"Results\")\n",
    "x=run_query(queryString)"
   ]
  },
  {
   "cell_type": "code",
   "execution_count": 4,
   "id": "01f270b6-58bc-4b8e-91c2-cba0e086dfa9",
   "metadata": {},
   "outputs": [
    {
     "name": "stdout",
     "output_type": "stream",
     "text": [
      "Results\n",
      "[('obj', 'http://www.wikidata.org/entity/Q202866'), ('name', 'animated film')]\n",
      "[('obj', 'http://www.wikidata.org/entity/Q24869'), ('name', 'feature film')]\n",
      "2\n"
     ]
    }
   ],
   "source": [
    "# super classes of animated feature film\n",
    "queryString = \"\"\"\n",
    "SELECT DISTINCT ?obj ?name\n",
    "WHERE { \n",
    "    wd:Q29168811 wdt:P279 ?obj .\n",
    "    ?obj sc:name ?name.\n",
    "}\n",
    "\"\"\"\n",
    "\n",
    "print(\"Results\")\n",
    "x=run_query(queryString)"
   ]
  },
  {
   "cell_type": "code",
   "execution_count": 5,
   "id": "417e7018-77d5-4c8e-9ce6-8fb6db287018",
   "metadata": {},
   "outputs": [
    {
     "name": "stdout",
     "output_type": "stream",
     "text": [
      "Results\n",
      "[('obj', 'http://www.wikidata.org/entity/Q11424'), ('name', 'film')]\n",
      "1\n"
     ]
    }
   ],
   "source": [
    "# super class\n",
    "queryString = \"\"\"\n",
    "SELECT DISTINCT ?obj ?name\n",
    "WHERE { \n",
    "    wd:Q24869 wdt:P279 ?obj .\n",
    "    ?obj sc:name ?name.\n",
    "}\n",
    "\"\"\"\n",
    "\n",
    "print(\"Results\")\n",
    "x=run_query(queryString)"
   ]
  },
  {
   "cell_type": "code",
   "execution_count": 6,
   "id": "3c4accb6",
   "metadata": {},
   "outputs": [
    {
     "name": "stdout",
     "output_type": "stream",
     "text": [
      "The index of this workflow is: 2_6\n",
      "The path is /locale/data/jupyter/prando/notebook/2022/results/workflow2_6.json\n",
      "JSON object updated\n"
     ]
    }
   ],
   "source": [
    "### insert the result of TASK 1 in the file\n",
    "og_uri = \"http://www.wikidata.org/entity/Q11424\"\n",
    "og_name = \"film\"\n",
    "obj = {\"uri\":og_uri,\"name\":og_name}\n",
    "evaluation.add_result(evaluation.get_index_workflow(pt),\"1\", evaluation.TYPE_SINGLE ,\"uri\", [obj] ,\"all\")"
   ]
  },
  {
   "cell_type": "markdown",
   "id": "78268dad-a8db-4cf6-954a-aec65da12d84",
   "metadata": {},
   "source": [
    "`wd:Q11424` is the class of film"
   ]
  },
  {
   "cell_type": "markdown",
   "id": "c05a0bf1-6e63-4971-b55f-ea770d7e2bc6",
   "metadata": {
    "jp-MarkdownHeadingCollapsed": true,
    "tags": []
   },
   "source": [
    "## Task 2"
   ]
  },
  {
   "cell_type": "code",
   "execution_count": 7,
   "id": "c8d18eb4-bdd1-4fc0-9f94-8dbd59aafab9",
   "metadata": {},
   "outputs": [
    {
     "name": "stdout",
     "output_type": "stream",
     "text": [
      "Results\n",
      "[('prop', 'http://www.wikidata.org/prop/direct/P1040'), ('name', 'film editor')]\n",
      "[('prop', 'http://www.wikidata.org/prop/direct/P136'), ('name', 'genre')]\n",
      "[('prop', 'http://www.wikidata.org/prop/direct/P1411'), ('name', 'nominated for')]\n",
      "[('prop', 'http://www.wikidata.org/prop/direct/P1434'), ('name', 'takes place in fictional universe')]\n",
      "[('prop', 'http://www.wikidata.org/prop/direct/P144'), ('name', 'based on')]\n",
      "[('prop', 'http://www.wikidata.org/prop/direct/P154'), ('name', 'logo image')]\n",
      "[('prop', 'http://www.wikidata.org/prop/direct/P1552'), ('name', 'has quality')]\n",
      "[('prop', 'http://www.wikidata.org/prop/direct/P156'), ('name', 'followed by')]\n",
      "[('prop', 'http://www.wikidata.org/prop/direct/P162'), ('name', 'producer')]\n",
      "[('prop', 'http://www.wikidata.org/prop/direct/P1657'), ('name', 'MPAA film rating')]\n",
      "[('prop', 'http://www.wikidata.org/prop/direct/P166'), ('name', 'award received')]\n",
      "[('prop', 'http://www.wikidata.org/prop/direct/P175'), ('name', 'performer')]\n",
      "[('prop', 'http://www.wikidata.org/prop/direct/P179'), ('name', 'part of the series')]\n",
      "[('prop', 'http://www.wikidata.org/prop/direct/P1889'), ('name', 'different from')]\n",
      "[('prop', 'http://www.wikidata.org/prop/direct/P2079'), ('name', 'fabrication method')]\n",
      "[('prop', 'http://www.wikidata.org/prop/direct/P272'), ('name', 'production company')]\n",
      "[('prop', 'http://www.wikidata.org/prop/direct/P2747'), ('name', 'Filmiroda rating')]\n",
      "[('prop', 'http://www.wikidata.org/prop/direct/P2758'), ('name', 'CNC film rating (France)')]\n",
      "[('prop', 'http://www.wikidata.org/prop/direct/P31'), ('name', 'instance of')]\n",
      "[('prop', 'http://www.wikidata.org/prop/direct/P3402'), ('name', 'CNC film rating (Romania)')]\n",
      "[('prop', 'http://www.wikidata.org/prop/direct/P364'), ('name', 'original language of film or TV show')]\n",
      "[('prop', 'http://www.wikidata.org/prop/direct/P3834'), ('name', 'RTC film rating')]\n",
      "[('prop', 'http://www.wikidata.org/prop/direct/P437'), ('name', 'distribution format')]\n",
      "[('prop', 'http://www.wikidata.org/prop/direct/P462'), ('name', 'color')]\n",
      "[('prop', 'http://www.wikidata.org/prop/direct/P495'), ('name', 'country of origin')]\n",
      "[('prop', 'http://www.wikidata.org/prop/direct/P4969'), ('name', 'derivative work')]\n",
      "[('prop', 'http://www.wikidata.org/prop/direct/P5021'), ('name', 'assessment')]\n",
      "[('prop', 'http://www.wikidata.org/prop/direct/P57'), ('name', 'director')]\n",
      "[('prop', 'http://www.wikidata.org/prop/direct/P58'), ('name', 'screenwriter')]\n",
      "[('prop', 'http://www.wikidata.org/prop/direct/P674'), ('name', 'characters')]\n",
      "[('prop', 'http://www.wikidata.org/prop/direct/P747'), ('name', 'has edition or translation')]\n",
      "[('prop', 'http://www.wikidata.org/prop/direct/P750'), ('name', 'distributed by')]\n",
      "[('prop', 'http://www.wikidata.org/prop/direct/P793'), ('name', 'significant event')]\n",
      "[('prop', 'http://www.wikidata.org/prop/direct/P8345'), ('name', 'media franchise')]\n",
      "[('prop', 'http://www.wikidata.org/prop/direct/P840'), ('name', 'narrative location')]\n",
      "[('prop', 'http://www.wikidata.org/prop/direct/P8411'), ('name', 'set in environment')]\n",
      "[('prop', 'http://www.wikidata.org/prop/direct/P856'), ('name', 'official website')]\n",
      "[('prop', 'http://www.wikidata.org/prop/direct/P86'), ('name', 'composer')]\n",
      "[('prop', 'http://www.wikidata.org/prop/direct/P910'), ('name', \"topic's main category\")]\n",
      "[('prop', 'http://www.wikidata.org/prop/direct/P941'), ('name', 'inspired by')]\n",
      "[('prop', 'http://www.wikidata.org/prop/direct/P3174'), ('name', 'art director')]\n",
      "[('prop', 'http://www.wikidata.org/prop/direct/P725'), ('name', 'voice actor')]\n",
      "[('prop', 'http://www.wikidata.org/prop/direct/P1431'), ('name', 'executive producer')]\n",
      "[('prop', 'http://www.wikidata.org/prop/direct/P2554'), ('name', 'production designer')]\n",
      "[('prop', 'http://www.wikidata.org/prop/direct/P406'), ('name', 'soundtrack release')]\n",
      "[('prop', 'http://www.wikidata.org/prop/direct/P942'), ('name', 'theme music')]\n",
      "[('prop', 'http://www.wikidata.org/prop/direct/P3092'), ('name', 'film crew member')]\n",
      "[('prop', 'http://www.wikidata.org/prop/direct/P3275'), ('name', 'storyboard artist')]\n",
      "[('prop', 'http://www.wikidata.org/prop/direct/P6942'), ('name', 'animator')]\n",
      "49\n"
     ]
    }
   ],
   "source": [
    "# properties of The Lion King\n",
    "queryString = \"\"\"\n",
    "SELECT DISTINCT ?prop ?name\n",
    "WHERE { \n",
    "    wd:Q36479 ?prop ?obj .\n",
    "    ?prop sc:name ?name.\n",
    "    FILTER(!isLiteral(?obj)).\n",
    "}\n",
    "\"\"\"\n",
    "\n",
    "print(\"Results\")\n",
    "x=run_query(queryString)"
   ]
  },
  {
   "cell_type": "code",
   "execution_count": 45,
   "id": "541fa87d-2b81-4d8b-b1f0-0a07094bb237",
   "metadata": {},
   "outputs": [
    {
     "name": "stdout",
     "output_type": "stream",
     "text": [
      "Results\n",
      "[('obj', 'http://www.wikidata.org/entity/Q1323594'), ('name', 'Walt Disney Studios Motion Pictures')]\n",
      "[('obj', 'http://www.wikidata.org/entity/Q135288'), ('name', 'Microsoft Store')]\n",
      "[('obj', 'http://www.wikidata.org/entity/Q907311'), ('name', 'Netflix')]\n",
      "[('obj', 'http://www.wikidata.org/entity/Q1097348'), ('name', 'InterCom')]\n",
      "[('obj', 'http://www.wikidata.org/entity/Q54958752'), ('name', 'Disney+')]\n",
      "5\n"
     ]
    }
   ],
   "source": [
    "# use distributed by\n",
    "queryString = \"\"\"\n",
    "SELECT DISTINCT ?obj ?name\n",
    "WHERE { \n",
    "    wd:Q36479 wdt:P750 ?obj .\n",
    "    ?obj sc:name ?name.\n",
    "}\n",
    "\"\"\"\n",
    "\n",
    "print(\"Results\")\n",
    "x=run_query(queryString)"
   ]
  },
  {
   "cell_type": "code",
   "execution_count": 8,
   "id": "d3ba2129",
   "metadata": {},
   "outputs": [
    {
     "name": "stdout",
     "output_type": "stream",
     "text": [
      "The index of this workflow is: 2_6\n",
      "The path is /locale/data/jupyter/prando/notebook/2022/results/workflow2_6.json\n",
      "JSON object updated\n"
     ]
    }
   ],
   "source": [
    "### insert the result of TASK 2 in the file\n",
    "og_uri = \"http://www.wikidata.org/entity/Q907311\"\n",
    "og_name = \"Netflix\"\n",
    "obj = {\"uri\":og_uri,\"name\":og_name}\n",
    "evaluation.add_result(evaluation.get_index_workflow(pt),\"2\", evaluation.TYPE_SINGLE ,\"uri\", [obj] ,\"all\")"
   ]
  },
  {
   "cell_type": "markdown",
   "id": "f476bfbc-8724-47c5-b66f-3aa4e720b08b",
   "metadata": {},
   "source": [
    "`wd:Q907311` is Netflix"
   ]
  },
  {
   "cell_type": "markdown",
   "id": "383678f1-bc5b-477a-9662-e14b101cd6be",
   "metadata": {
    "jp-MarkdownHeadingCollapsed": true,
    "tags": []
   },
   "source": [
    "## Task 3"
   ]
  },
  {
   "cell_type": "code",
   "execution_count": 9,
   "id": "1636d6d1-1c40-4f69-8df4-f7ea3609c4cc",
   "metadata": {},
   "outputs": [
    {
     "name": "stdout",
     "output_type": "stream",
     "text": [
      "Results\n",
      "[('obj', 'http://www.wikidata.org/entity/Q4830453'), ('name', 'business')]\n",
      "[('obj', 'http://www.wikidata.org/entity/Q723685'), ('name', 'video on demand')]\n",
      "[('obj', 'http://www.wikidata.org/entity/Q891723'), ('name', 'public company')]\n",
      "[('obj', 'http://www.wikidata.org/entity/Q841645'), ('name', 'Internet television')]\n",
      "[('obj', 'http://www.wikidata.org/entity/Q15265344'), ('name', 'broadcaster')]\n",
      "[('obj', 'http://www.wikidata.org/entity/Q368290'), ('name', 'film distributor')]\n",
      "[('obj', 'http://www.wikidata.org/entity/Q10689397'), ('name', 'television production company')]\n",
      "[('obj', 'http://www.wikidata.org/entity/Q1194970'), ('name', 'dot-com company')]\n",
      "8\n"
     ]
    }
   ],
   "source": [
    "# instance of Netflix\n",
    "queryString = \"\"\"\n",
    "SELECT DISTINCT ?obj ?name\n",
    "WHERE { \n",
    "    wd:Q907311 wdt:P31 ?obj .\n",
    "    ?obj sc:name ?name.\n",
    "}\n",
    "\"\"\"\n",
    "\n",
    "print(\"Results\")\n",
    "x=run_query(queryString)"
   ]
  },
  {
   "cell_type": "code",
   "execution_count": 10,
   "id": "5c9bfafb",
   "metadata": {},
   "outputs": [
    {
     "name": "stdout",
     "output_type": "stream",
     "text": [
      "The index of this workflow is: 2_6\n",
      "The path is /locale/data/jupyter/prando/notebook/2022/results/workflow2_6.json\n",
      "JSON object updated\n"
     ]
    }
   ],
   "source": [
    "### insert the result of TASK 3 in the file\n",
    "og_uri = \"http://www.wikidata.org/entity/Q10689397\"\n",
    "og_name = \"television production company\"\n",
    "obj = {\"uri\":og_uri,\"name\":og_name}\n",
    "evaluation.add_result(evaluation.get_index_workflow(pt),\"3\", evaluation.TYPE_SINGLE ,\"uri\", [obj] ,\"all\")"
   ]
  },
  {
   "cell_type": "markdown",
   "id": "26fdb554-eb7b-4ef3-8c1e-f89a287e8231",
   "metadata": {},
   "source": [
    "`wd:Q10689397` is television production company"
   ]
  },
  {
   "cell_type": "markdown",
   "id": "f01e36e0-1230-433a-835b-2651b5667ccb",
   "metadata": {
    "jp-MarkdownHeadingCollapsed": true,
    "tags": []
   },
   "source": [
    "## Task 4"
   ]
  },
  {
   "cell_type": "code",
   "execution_count": 12,
   "id": "3857c95e-7965-472c-91ac-f218bb3016ba",
   "metadata": {},
   "outputs": [
    {
     "name": "stdout",
     "output_type": "stream",
     "text": [
      "Results\n",
      "[('obj', 'http://www.wikidata.org/entity/Q1762059'), ('name', 'film production company')]\n",
      "[('obj', 'http://www.wikidata.org/entity/Q19364326'), ('name', 'media studio facility')]\n",
      "[('obj', 'http://www.wikidata.org/entity/Q11396960'), ('name', 'production company')]\n",
      "3\n"
     ]
    }
   ],
   "source": [
    "# superclass of television production company\n",
    "queryString = \"\"\"\n",
    "SELECT DISTINCT ?obj ?name\n",
    "WHERE { \n",
    "    wd:Q10689397 wdt:P279 ?obj .\n",
    "    ?obj sc:name ?name.\n",
    "}\n",
    "\"\"\"\n",
    "\n",
    "print(\"Results\")\n",
    "x=run_query(queryString)"
   ]
  },
  {
   "cell_type": "code",
   "execution_count": 13,
   "id": "679ccc44",
   "metadata": {},
   "outputs": [
    {
     "name": "stdout",
     "output_type": "stream",
     "text": [
      "The index of this workflow is: 2_6\n",
      "The path is /locale/data/jupyter/prando/notebook/2022/results/workflow2_6.json\n",
      "JSON object updated\n"
     ]
    }
   ],
   "source": [
    "### insert the result of TASK 4 in the file\n",
    "og_uri = \"http://www.wikidata.org/entity/Q1762059\"\n",
    "og_name = \"film production company\"\n",
    "obj = {\"uri\":og_uri,\"name\":og_name}\n",
    "evaluation.add_result(evaluation.get_index_workflow(pt),\"4\", evaluation.TYPE_SINGLE ,\"uri\", [obj] ,\"all\")"
   ]
  },
  {
   "cell_type": "markdown",
   "id": "d2c8aeab-96bd-496d-bebf-46506703e308",
   "metadata": {},
   "source": [
    "`wd:Q1762059` is film production company"
   ]
  },
  {
   "cell_type": "markdown",
   "id": "40c1cf8b-2da1-4730-938a-ac5259b5e47a",
   "metadata": {
    "jp-MarkdownHeadingCollapsed": true,
    "tags": []
   },
   "source": [
    "## Task 5"
   ]
  },
  {
   "cell_type": "code",
   "execution_count": 14,
   "id": "47b01a4b-0551-42f6-9967-20822f556910",
   "metadata": {},
   "outputs": [
    {
     "name": "stdout",
     "output_type": "stream",
     "text": [
      "Results\n",
      "[('inst', 'http://www.wikidata.org/entity/Q201658'), ('name', 'film genre')]\n",
      "1\n"
     ]
    }
   ],
   "source": [
    "# first find the crime genre\n",
    "queryString = \"\"\"\n",
    "SELECT DISTINCT ?inst ?name\n",
    "WHERE { \n",
    "    wd:Q36479 wdt:P136 ?obj .\n",
    "    ?obj wdt:P31 ?inst.\n",
    "    ?inst sc:name ?name.\n",
    "} \n",
    "\"\"\"\n",
    "\n",
    "print(\"Results\")\n",
    "x=run_query(queryString)"
   ]
  },
  {
   "cell_type": "code",
   "execution_count": 15,
   "id": "a94c1747-2935-4fc1-85cb-30816c840a21",
   "metadata": {},
   "outputs": [
    {
     "name": "stdout",
     "output_type": "stream",
     "text": [
      "Results\n",
      "[('obj', 'http://www.wikidata.org/entity/Q959790'), ('name', 'crime film')]\n",
      "[('obj', 'http://www.wikidata.org/entity/Q19367312'), ('name', 'crime thriller')]\n",
      "[('obj', 'http://www.wikidata.org/entity/Q1788980'), ('name', 'crime-comedy film')]\n",
      "3\n"
     ]
    }
   ],
   "source": [
    "# first find the crime genre\n",
    "queryString = \"\"\"\n",
    "SELECT DISTINCT ?obj ?name\n",
    "WHERE { \n",
    "    ?obj wdt:P31 wd:Q201658.\n",
    "    ?obj sc:name ?name.\n",
    "    FILTER(REGEX(?name,\"[C,c]rime\")).\n",
    "} \n",
    "ORDER BY ?name\n",
    "\"\"\"\n",
    "\n",
    "print(\"Results\")\n",
    "x=run_query(queryString)"
   ]
  },
  {
   "cell_type": "code",
   "execution_count": 16,
   "id": "fdf217b2-42e0-42f0-828e-f7a59298532b",
   "metadata": {},
   "outputs": [
    {
     "name": "stdout",
     "output_type": "stream",
     "text": [
      "Results\n",
      "[('prop', 'http://www.wikidata.org/prop/direct/P123'), ('name', 'publisher')]\n",
      "[('prop', 'http://www.wikidata.org/prop/direct/P127'), ('name', 'owned by')]\n",
      "[('prop', 'http://www.wikidata.org/prop/direct/P1343'), ('name', 'described by source')]\n",
      "[('prop', 'http://www.wikidata.org/prop/direct/P161'), ('name', 'cast member')]\n",
      "[('prop', 'http://www.wikidata.org/prop/direct/P162'), ('name', 'producer')]\n",
      "[('prop', 'http://www.wikidata.org/prop/direct/P170'), ('name', 'creator')]\n",
      "[('prop', 'http://www.wikidata.org/prop/direct/P175'), ('name', 'performer')]\n",
      "[('prop', 'http://www.wikidata.org/prop/direct/P264'), ('name', 'record label')]\n",
      "[('prop', 'http://www.wikidata.org/prop/direct/P272'), ('name', 'production company')]\n",
      "[('prop', 'http://www.wikidata.org/prop/direct/P361'), ('name', 'part of')]\n",
      "[('prop', 'http://www.wikidata.org/prop/direct/P437'), ('name', 'distribution format')]\n",
      "[('prop', 'http://www.wikidata.org/prop/direct/P449'), ('name', 'original broadcaster')]\n",
      "[('prop', 'http://www.wikidata.org/prop/direct/P750'), ('name', 'distributed by')]\n",
      "[('prop', 'http://www.wikidata.org/prop/direct/P767'), ('name', 'contributor to the creative work or subject')]\n",
      "[('prop', 'http://www.wikidata.org/prop/direct/P859'), ('name', 'sponsor')]\n",
      "[('prop', 'http://www.wikidata.org/prop/direct/P88'), ('name', 'commissioned by')]\n",
      "[('prop', 'http://www.wikidata.org/prop/direct/P915'), ('name', 'filming location')]\n",
      "[('prop', 'http://www.wikidata.org/prop/direct/P921'), ('name', 'main subject')]\n",
      "[('prop', 'http://www.wikidata.org/prop/direct/P3931'), ('name', 'copyright holder')]\n",
      "[('prop', 'http://www.wikidata.org/prop/direct/P1431'), ('name', 'executive producer')]\n",
      "[('prop', 'http://www.wikidata.org/prop/direct/P2554'), ('name', 'production designer')]\n",
      "[('prop', 'http://www.wikidata.org/prop/direct/P5072'), ('name', 'presented in')]\n",
      "[('prop', 'http://www.wikidata.org/prop/direct/P57'), ('name', 'director')]\n",
      "[('prop', 'http://www.wikidata.org/prop/direct/P8324'), ('name', 'funder')]\n",
      "[('prop', 'http://www.wikidata.org/prop/direct/P3301'), ('name', 'broadcast by')]\n",
      "25\n"
     ]
    }
   ],
   "source": [
    "# find how films are related with television or film production company\n",
    "queryString = \"\"\"\n",
    "SELECT DISTINCT ?prop ?name\n",
    "WHERE { \n",
    "    VALUES ?prod  {wd:Q1762059 wd:Q10689397}.\n",
    "    ?film wdt:P31 wd:Q11424;\n",
    "         ?prop ?comp.\n",
    "    ?comp wdt:P31 ?prod.\n",
    "    ?prop sc:name ?name.\n",
    "}\n",
    "\"\"\"\n",
    "\n",
    "print(\"Results\")\n",
    "x=run_query(queryString)"
   ]
  },
  {
   "cell_type": "code",
   "execution_count": 18,
   "id": "869d0563-328d-41b7-a877-1cfa87a90d8b",
   "metadata": {},
   "outputs": [
    {
     "name": "stdout",
     "output_type": "stream",
     "text": [
      "Results\n",
      "[('comp', 'http://www.wikidata.org/entity/Q126399'), ('name', 'Warner Bros.'), ('count', '157')]\n",
      "[('comp', 'http://www.wikidata.org/entity/Q186941'), ('name', 'Columbia Pictures'), ('count', '117')]\n",
      "[('comp', 'http://www.wikidata.org/entity/Q168383'), ('name', 'Universal Pictures'), ('count', '112')]\n",
      "[('comp', 'http://www.wikidata.org/entity/Q179200'), ('name', 'Metro-Goldwyn-Mayer'), ('count', '111')]\n",
      "[('comp', 'http://www.wikidata.org/entity/Q159846'), ('name', 'Paramount Pictures'), ('count', '108')]\n",
      "5\n"
     ]
    }
   ],
   "source": [
    "#  amongst films of genre crime film\n",
    "queryString = \"\"\"\n",
    "SELECT DISTINCT ?comp ?name COUNT(DISTINCT ?obj) AS ?count\n",
    "WHERE { \n",
    "    VALUES ?prod  {wd:Q1762059 wd:Q10689397}.\n",
    "    ?obj wdt:P31 wd:Q11424;\n",
    "         wdt:P136 wd:Q959790;\n",
    "         wdt:P272 ?comp.\n",
    "    ?comp wdt:P31 ?prod.\n",
    "    ?comp sc:name ?name.\n",
    "} \n",
    "GROUP BY ?comp ?name\n",
    "ORDER BY DESC (?count)\n",
    "LIMIT 5\n",
    "\"\"\"\n",
    "\n",
    "print(\"Results\")\n",
    "x=run_query(queryString)"
   ]
  },
  {
   "cell_type": "code",
   "execution_count": 19,
   "id": "11d0df88",
   "metadata": {},
   "outputs": [
    {
     "name": "stdout",
     "output_type": "stream",
     "text": [
      "The index of this workflow is: 2_6\n",
      "The path is /locale/data/jupyter/prando/notebook/2022/results/workflow2_6.json\n",
      "JSON object updated\n"
     ]
    }
   ],
   "source": [
    "## single literal associated to an URI\n",
    "objs = []\n",
    "for i in x:\n",
    "    f_uri = i[0][1]\n",
    "    f_name = i[1][1]\n",
    "    val = i[2][1]\n",
    "    obj = {}\n",
    "    obj[\"refers_to\"] = f_uri\n",
    "    obj[\"refers_to_name\"] = f_name\n",
    "    obj[\"check\"] = \"value\"\n",
    "    obj[\"value\"]= val\n",
    "    objs.append(obj)\n",
    "evaluation.add_result(evaluation.get_index_workflow(pt),\"5\", evaluation.TYPE_REFERRED ,\"value\", objs)"
   ]
  },
  {
   "cell_type": "markdown",
   "id": "1591b69b-a9a5-4998-bcba-235843dcb41b",
   "metadata": {
    "tags": []
   },
   "source": [
    "## Task 6"
   ]
  },
  {
   "cell_type": "code",
   "execution_count": 22,
   "id": "f13aa877-fd25-4dd5-96be-3be2feeca46f",
   "metadata": {},
   "outputs": [
    {
     "name": "stdout",
     "output_type": "stream",
     "text": [
      "Results\n",
      "[('comp', 'http://www.wikidata.org/entity/Q907311'), ('name', 'Netflix'), ('count', '20568')]\n",
      "[('comp', 'http://www.wikidata.org/entity/Q159846'), ('name', 'Paramount Pictures'), ('count', '2247')]\n",
      "[('comp', 'http://www.wikidata.org/entity/Q186941'), ('name', 'Columbia Pictures'), ('count', '1549')]\n",
      "[('comp', 'http://www.wikidata.org/entity/Q126399'), ('name', 'Warner Bros.'), ('count', '1463')]\n",
      "[('comp', 'http://www.wikidata.org/entity/Q168383'), ('name', 'Universal Pictures'), ('count', '1435')]\n",
      "5\n"
     ]
    }
   ],
   "source": [
    "# films distributed but not produced\n",
    "queryString = \"\"\"\n",
    "SELECT DISTINCT ?comp ?name COUNT(DISTINCT ?obj) AS ?count\n",
    "WHERE { \n",
    "    VALUES ?prod  {wd:Q1762059 wd:Q10689397}.\n",
    "    ?obj wdt:P31 wd:Q11424;\n",
    "         wdt:P750 ?comp.\n",
    "    FILTER NOT EXISTS{?obj wdt:P272 ?comp.}\n",
    "    ?comp wdt:P31 ?prod.\n",
    "    ?comp sc:name ?name.\n",
    "} \n",
    "GROUP BY ?comp ?name\n",
    "ORDER BY DESC (?count)\n",
    "LIMIT 5\n",
    "\"\"\"\n",
    "\n",
    "print(\"Results\")\n",
    "x=run_query(queryString)"
   ]
  },
  {
   "cell_type": "code",
   "execution_count": 23,
   "id": "a1f16723",
   "metadata": {},
   "outputs": [
    {
     "name": "stdout",
     "output_type": "stream",
     "text": [
      "The index of this workflow is: 2_6\n",
      "The path is /locale/data/jupyter/prando/notebook/2022/results/workflow2_6.json\n",
      "JSON object updated\n"
     ]
    }
   ],
   "source": [
    "## single literal associated to an URI\n",
    "objs = []\n",
    "for i in x:\n",
    "    f_uri = i[0][1]\n",
    "    f_name = i[1][1]\n",
    "    val = i[2][1]\n",
    "    obj = {}\n",
    "    obj[\"refers_to\"] = f_uri\n",
    "    obj[\"refers_to_name\"] = f_name\n",
    "    obj[\"check\"] = \"value\"\n",
    "    obj[\"value\"]= val\n",
    "    objs.append(obj)\n",
    "evaluation.add_result(evaluation.get_index_workflow(pt),\"6\", evaluation.TYPE_REFERRED ,\"value\", objs)"
   ]
  },
  {
   "cell_type": "markdown",
   "id": "4f24a492-16ca-4c8a-a37e-941301a46b07",
   "metadata": {},
   "source": [
    "`wd:Q944287` is The Little Mermaid"
   ]
  },
  {
   "cell_type": "markdown",
   "id": "d8158825-e6a3-48c3-90a3-43bd1e11b66d",
   "metadata": {
    "tags": []
   },
   "source": [
    "## Task 7"
   ]
  },
  {
   "cell_type": "code",
   "execution_count": 24,
   "id": "8d5a436c-52fc-40b9-a030-4e3843063146",
   "metadata": {},
   "outputs": [
    {
     "name": "stdout",
     "output_type": "stream",
     "text": [
      "Results\n",
      "[('x', 'http://www.wikidata.org/entity/Q732670'), ('name', 'Australian Securities Exchange'), ('callret-2', '1')]\n",
      "[('x', 'http://www.wikidata.org/entity/Q82059'), ('name', 'NASDAQ'), ('callret-2', '3')]\n",
      "[('x', 'http://www.wikidata.org/entity/Q13677'), ('name', 'New York Stock Exchange'), ('callret-2', '5')]\n",
      "[('x', 'http://www.wikidata.org/entity/Q1661737'), ('name', 'Indonesia Stock Exchange'), ('callret-2', '1')]\n",
      "[('x', 'http://www.wikidata.org/entity/Q217475'), ('name', 'Tokyo Stock Exchange'), ('callret-2', '2')]\n",
      "[('x', 'http://www.wikidata.org/entity/Q496672'), ('name', 'Hong Kong Stock Exchange'), ('callret-2', '2')]\n",
      "[('x', 'http://www.wikidata.org/entity/Q818723'), ('name', 'Toronto Stock Exchange'), ('callret-2', '1')]\n",
      "7\n"
     ]
    }
   ],
   "source": [
    "# stock exchanges\n",
    "queryString = \"\"\"\n",
    "SELECT ?x ?name COUNT(DISTINCT ?comp)\n",
    "WHERE { \n",
    "    VALUES ?prod  {wd:Q1762059 wd:Q10689397}.\n",
    "    ?comp wdt:P31 ?prod;\n",
    "        wdt:P414 ?x.\n",
    "    ?x sc:name ?name.\n",
    "}\n",
    "GROUP BY ?x ?name\n",
    "\"\"\"\n",
    "\n",
    "print(\"Results\")\n",
    "x=run_query(queryString)"
   ]
  },
  {
   "cell_type": "code",
   "execution_count": 25,
   "id": "d2927e9e",
   "metadata": {},
   "outputs": [
    {
     "name": "stdout",
     "output_type": "stream",
     "text": [
      "The index of this workflow is: 2_6\n",
      "The path is /locale/data/jupyter/prando/notebook/2022/results/workflow2_6.json\n",
      "JSON object updated\n"
     ]
    }
   ],
   "source": [
    "## single literal associated to an URI\n",
    "objs = []\n",
    "for i in x:\n",
    "    f_uri = i[0][1]\n",
    "    f_name = i[1][1]\n",
    "    val = i[2][1]\n",
    "    obj = {}\n",
    "    obj[\"refers_to\"] = f_uri\n",
    "    obj[\"refers_to_name\"] = f_name\n",
    "    obj[\"check\"] = \"value\"\n",
    "    obj[\"value\"]= val\n",
    "    objs.append(obj)\n",
    "evaluation.add_result(evaluation.get_index_workflow(pt),\"7\", evaluation.TYPE_REFERRED ,\"value\", objs)"
   ]
  },
  {
   "cell_type": "markdown",
   "id": "6fd6cb3d-f3fc-44ff-b889-2a6f114202b2",
   "metadata": {},
   "source": [
    "## Task 8"
   ]
  },
  {
   "cell_type": "code",
   "execution_count": 26,
   "id": "7e89fb23-2624-4e1c-b88a-f11fbd3773cd",
   "metadata": {},
   "outputs": [
    {
     "name": "stdout",
     "output_type": "stream",
     "text": [
      "Results\n",
      "[('prop', 'http://www.wikidata.org/prop/direct/P2758'), ('name', 'CNC film rating (France)')]\n",
      "[('prop', 'http://www.wikidata.org/prop/direct/P3402'), ('name', 'CNC film rating (Romania)')]\n",
      "[('prop', 'http://www.wikidata.org/prop/direct/P2747'), ('name', 'Filmiroda rating')]\n",
      "[('prop', 'http://www.wikidata.org/prop/direct/P1657'), ('name', 'MPAA film rating')]\n",
      "[('prop', 'http://www.wikidata.org/prop/direct/P3834'), ('name', 'RTC film rating')]\n",
      "[('prop', 'http://www.wikidata.org/prop/direct/P6942'), ('name', 'animator')]\n",
      "[('prop', 'http://www.wikidata.org/prop/direct/P3174'), ('name', 'art director')]\n",
      "[('prop', 'http://www.wikidata.org/prop/direct/P5021'), ('name', 'assessment')]\n",
      "[('prop', 'http://www.wikidata.org/prop/direct/P166'), ('name', 'award received')]\n",
      "[('prop', 'http://www.wikidata.org/prop/direct/P144'), ('name', 'based on')]\n",
      "[('prop', 'http://www.wikidata.org/prop/direct/P674'), ('name', 'characters')]\n",
      "[('prop', 'http://www.wikidata.org/prop/direct/P462'), ('name', 'color')]\n",
      "[('prop', 'http://www.wikidata.org/prop/direct/P86'), ('name', 'composer')]\n",
      "[('prop', 'http://www.wikidata.org/prop/direct/P495'), ('name', 'country of origin')]\n",
      "[('prop', 'http://www.wikidata.org/prop/direct/P4969'), ('name', 'derivative work')]\n",
      "[('prop', 'http://www.wikidata.org/prop/direct/P1889'), ('name', 'different from')]\n",
      "[('prop', 'http://www.wikidata.org/prop/direct/P57'), ('name', 'director')]\n",
      "[('prop', 'http://www.wikidata.org/prop/direct/P750'), ('name', 'distributed by')]\n",
      "[('prop', 'http://www.wikidata.org/prop/direct/P437'), ('name', 'distribution format')]\n",
      "[('prop', 'http://www.wikidata.org/prop/direct/P1431'), ('name', 'executive producer')]\n",
      "[('prop', 'http://www.wikidata.org/prop/direct/P2079'), ('name', 'fabrication method')]\n",
      "[('prop', 'http://www.wikidata.org/prop/direct/P3092'), ('name', 'film crew member')]\n",
      "[('prop', 'http://www.wikidata.org/prop/direct/P1040'), ('name', 'film editor')]\n",
      "[('prop', 'http://www.wikidata.org/prop/direct/P156'), ('name', 'followed by')]\n",
      "[('prop', 'http://www.wikidata.org/prop/direct/P136'), ('name', 'genre')]\n",
      "[('prop', 'http://www.wikidata.org/prop/direct/P747'), ('name', 'has edition or translation')]\n",
      "[('prop', 'http://www.wikidata.org/prop/direct/P1552'), ('name', 'has quality')]\n",
      "[('prop', 'http://www.wikidata.org/prop/direct/P941'), ('name', 'inspired by')]\n",
      "[('prop', 'http://www.wikidata.org/prop/direct/P31'), ('name', 'instance of')]\n",
      "[('prop', 'http://www.wikidata.org/prop/direct/P154'), ('name', 'logo image')]\n",
      "[('prop', 'http://www.wikidata.org/prop/direct/P8345'), ('name', 'media franchise')]\n",
      "[('prop', 'http://www.wikidata.org/prop/direct/P840'), ('name', 'narrative location')]\n",
      "[('prop', 'http://www.wikidata.org/prop/direct/P1411'), ('name', 'nominated for')]\n",
      "[('prop', 'http://www.wikidata.org/prop/direct/P856'), ('name', 'official website')]\n",
      "[('prop', 'http://www.wikidata.org/prop/direct/P364'), ('name', 'original language of film or TV show')]\n",
      "[('prop', 'http://www.wikidata.org/prop/direct/P179'), ('name', 'part of the series')]\n",
      "[('prop', 'http://www.wikidata.org/prop/direct/P175'), ('name', 'performer')]\n",
      "[('prop', 'http://www.wikidata.org/prop/direct/P162'), ('name', 'producer')]\n",
      "[('prop', 'http://www.wikidata.org/prop/direct/P272'), ('name', 'production company')]\n",
      "[('prop', 'http://www.wikidata.org/prop/direct/P2554'), ('name', 'production designer')]\n",
      "[('prop', 'http://www.wikidata.org/prop/direct/P58'), ('name', 'screenwriter')]\n",
      "[('prop', 'http://www.wikidata.org/prop/direct/P8411'), ('name', 'set in environment')]\n",
      "[('prop', 'http://www.wikidata.org/prop/direct/P793'), ('name', 'significant event')]\n",
      "[('prop', 'http://www.wikidata.org/prop/direct/P406'), ('name', 'soundtrack release')]\n",
      "[('prop', 'http://www.wikidata.org/prop/direct/P3275'), ('name', 'storyboard artist')]\n",
      "[('prop', 'http://www.wikidata.org/prop/direct/P1434'), ('name', 'takes place in fictional universe')]\n",
      "[('prop', 'http://www.wikidata.org/prop/direct/P942'), ('name', 'theme music')]\n",
      "[('prop', 'http://www.wikidata.org/prop/direct/P910'), ('name', \"topic's main category\")]\n",
      "[('prop', 'http://www.wikidata.org/prop/direct/P725'), ('name', 'voice actor')]\n",
      "49\n"
     ]
    }
   ],
   "source": [
    "# object properties\n",
    "queryString = \"\"\"\n",
    "SELECT DISTINCT ?prop ?name\n",
    "WHERE { \n",
    "    wd:Q36479 ?prop ?obj .\n",
    "    ?prop sc:name ?name.\n",
    "    FILTER(!isLiteral(?obj)).\n",
    "}\n",
    "ORDER BY ?name\n",
    "\"\"\"\n",
    "\n",
    "print(\"Results\")\n",
    "x=run_query(queryString)"
   ]
  },
  {
   "cell_type": "code",
   "execution_count": 27,
   "id": "7ed6bd67-0f71-4fc6-97fd-165f666c8fd1",
   "metadata": {},
   "outputs": [
    {
     "name": "stdout",
     "output_type": "stream",
     "text": [
      "Results\n",
      "[('aw', 'http://www.wikidata.org/entity/Q488651'), ('name', 'Academy Award for Best Original Score')]\n",
      "[('aw', 'http://www.wikidata.org/entity/Q823422'), ('name', 'National Film Registry')]\n",
      "2\n"
     ]
    }
   ],
   "source": [
    "# use award received\n",
    "queryString = \"\"\"\n",
    "SELECT DISTINCT ?aw ?name\n",
    "WHERE { \n",
    "    wd:Q36479 ?prop ?obj ;\n",
    "        wdt:P166 ?aw.\n",
    "    ?aw sc:name ?name.\n",
    "}\n",
    "ORDER BY ?name\n",
    "\"\"\"\n",
    "\n",
    "print(\"Results\")\n",
    "x=run_query(queryString)"
   ]
  },
  {
   "cell_type": "code",
   "execution_count": 28,
   "id": "f2221930-c17a-44f0-8847-52ca6d4b3ec4",
   "metadata": {},
   "outputs": [
    {
     "name": "stdout",
     "output_type": "stream",
     "text": [
      "Results\n",
      "[('inst', 'http://www.wikidata.org/entity/Q19020'), ('name', 'Academy Awards')]\n",
      "[('inst', 'http://www.wikidata.org/entity/Q96474685'), ('name', 'award for best original music')]\n",
      "[('inst', 'http://www.wikidata.org/entity/Q861437'), ('name', 'cultural canon')]\n",
      "[('inst', 'http://www.wikidata.org/entity/Q170584'), ('name', 'project')]\n",
      "4\n"
     ]
    }
   ],
   "source": [
    "# find the Academy Awards class\n",
    "queryString = \"\"\"\n",
    "SELECT DISTINCT ?inst ?name\n",
    "WHERE { \n",
    "    wd:Q36479 ?prop ?obj ;\n",
    "        wdt:P166 ?aw.\n",
    "    ?aw wdt:P31 ?inst.\n",
    "    ?inst sc:name ?name.\n",
    "}\n",
    "ORDER BY ?name\n",
    "\"\"\"\n",
    "\n",
    "print(\"Results\")\n",
    "x=run_query(queryString)"
   ]
  },
  {
   "cell_type": "code",
   "execution_count": 29,
   "id": "089354b3",
   "metadata": {},
   "outputs": [
    {
     "name": "stdout",
     "output_type": "stream",
     "text": [
      "The index of this workflow is: 2_6\n",
      "The path is /locale/data/jupyter/prando/notebook/2022/results/workflow2_6.json\n",
      "JSON object updated\n"
     ]
    }
   ],
   "source": [
    "### insert the result of TASK 8 in the file\n",
    "og_uri = \"http://www.wikidata.org/entity/Q19020\"\n",
    "og_name = \"Academy Awards\"\n",
    "obj = {\"uri\":og_uri,\"name\":og_name}\n",
    "evaluation.add_result(evaluation.get_index_workflow(pt),\"8\", evaluation.TYPE_SINGLE ,\"uri\", [obj] ,\"all\")"
   ]
  },
  {
   "cell_type": "markdown",
   "id": "99b919b6-ca5c-4f4f-8189-689d22f67c6e",
   "metadata": {},
   "source": [
    "`wd:Q19020` is the Academy Award"
   ]
  },
  {
   "cell_type": "markdown",
   "id": "3d314114-0a73-4ece-b492-44b5bb9ec1df",
   "metadata": {},
   "source": [
    "## Task 9"
   ]
  },
  {
   "cell_type": "code",
   "execution_count": 30,
   "id": "3fea9dd2-b6a2-44d9-be20-bb55d2616c76",
   "metadata": {},
   "outputs": [
    {
     "name": "stdout",
     "output_type": "stream",
     "text": [
      "Results\n",
      "[('aw', 'http://www.wikidata.org/entity/Q103618'), ('name', 'Academy Award for Best Actress')]\n",
      "[('aw', 'http://www.wikidata.org/entity/Q106301'), ('name', 'Academy Award for Best Supporting Actress')]\n",
      "2\n"
     ]
    }
   ],
   "source": [
    "# find Academy Award for Best Actress\n",
    "queryString = \"\"\"\n",
    "SELECT DISTINCT ?aw ?name\n",
    "WHERE { \n",
    "    ?aw wdt:P31 wd:Q19020.\n",
    "    ?aw sc:name ?name.\n",
    "    filter(REGEX (?name,\"Actress\") ).\n",
    "}\n",
    "ORDER BY ?name\n",
    "\"\"\"\n",
    "\n",
    "print(\"Results\")\n",
    "x=run_query(queryString)"
   ]
  },
  {
   "cell_type": "code",
   "execution_count": 31,
   "id": "370aafab-d191-4e33-b92e-4ea3c8e89cb5",
   "metadata": {},
   "outputs": [
    {
     "name": "stdout",
     "output_type": "stream",
     "text": [
      "Results\n",
      "[('comp', 'http://www.wikidata.org/entity/Q159846'), ('name', 'Paramount Pictures'), ('awards', '11')]\n",
      "[('comp', 'http://www.wikidata.org/entity/Q179200'), ('name', 'Metro-Goldwyn-Mayer'), ('awards', '11')]\n",
      "[('comp', 'http://www.wikidata.org/entity/Q126399'), ('name', 'Warner Bros.'), ('awards', '9')]\n",
      "[('comp', 'http://www.wikidata.org/entity/Q434841'), ('name', '20th Century Studios'), ('awards', '5')]\n",
      "4\n"
     ]
    }
   ],
   "source": [
    "# count the awards\n",
    "queryString = \"\"\"\n",
    "SELECT ?comp ?name COUNT(DISTINCT ?film) AS ?awards\n",
    "WHERE { \n",
    "    VALUES ?prod  {wd:Q1762059 wd:Q10689397}.\n",
    "    ?film wdt:P31 wd:Q11424;\n",
    "        wdt:P272 ?comp;\n",
    "        wdt:P166 wd:Q103618.\n",
    "    \n",
    "    ?comp wdt:P31 ?prod.\n",
    "    ?comp sc:name ?name.\n",
    "}\n",
    "GROUP BY ?comp ?name\n",
    "HAVING (COUNT(DISTINCT ?film)>=5)\n",
    "ORDER BY DESC (?awards)\n",
    "\"\"\"\n",
    "\n",
    "print(\"Results\")\n",
    "x=run_query(queryString)"
   ]
  },
  {
   "cell_type": "code",
   "execution_count": 32,
   "id": "51466b70-0845-43e8-a87b-5842e60ca529",
   "metadata": {},
   "outputs": [
    {
     "name": "stdout",
     "output_type": "stream",
     "text": [
      "The index of this workflow is: 2_6\n",
      "The path is /locale/data/jupyter/prando/notebook/2022/results/workflow2_6.json\n",
      "JSON object updated\n"
     ]
    }
   ],
   "source": [
    "## single literal associated to an URI\n",
    "objs = []\n",
    "for i in x:\n",
    "    f_uri = i[0][1]\n",
    "    f_name = i[1][1]\n",
    "    val = i[2][1]\n",
    "    obj = {}\n",
    "    obj[\"refers_to\"] = f_uri\n",
    "    obj[\"refers_to_name\"] = f_name\n",
    "    obj[\"check\"] = \"value\"\n",
    "    obj[\"value\"]= val\n",
    "    objs.append(obj)\n",
    "evaluation.add_result(evaluation.get_index_workflow(pt),\"9\", evaluation.TYPE_REFERRED ,\"value\", objs)"
   ]
  },
  {
   "cell_type": "code",
   "execution_count": null,
   "id": "15357625",
   "metadata": {},
   "outputs": [],
   "source": []
  }
 ],
 "metadata": {
  "kernelspec": {
   "display_name": "Python 3 (ipykernel)",
   "language": "python",
   "name": "python3"
  },
  "language_info": {
   "codemirror_mode": {
    "name": "ipython",
    "version": 3
   },
   "file_extension": ".py",
   "mimetype": "text/x-python",
   "name": "python",
   "nbconvert_exporter": "python",
   "pygments_lexer": "ipython3",
   "version": "3.10.6"
  }
 },
 "nbformat": 4,
 "nbformat_minor": 5
}
