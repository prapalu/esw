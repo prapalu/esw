{
 "cells": [
  {
   "cell_type": "markdown",
   "metadata": {},
   "source": [
    "# General instructions\n",
    "\n",
    "The goal of the project is to materialize a set of **exploratory workloads** over a real-world, large-scale,  open-domain KG: [WikiData](https://www.wikidata.org/wiki/Wikidata:Main_Page)\n",
    "\n",
    "An exploratory workload  is composed by a set of queries, where each query is related to the information obtained previously.\n",
    "\n",
    "An exploratory workload starts with a usually vague, open ended question, and does not assume the person issuing the workload has a clear understanding of the data contained in the target database or its structure.\n",
    "\n",
    "Remeber that:\n",
    "\n",
    "1. All the queries must run in the python notebook\n",
    "2. You can use classes and properties only if you find them via a SPARQL query that must be present in the notebook\n",
    "3. You do not delete useless queries. Keep everything that is synthatically valid \n",
    "\n",
    "```\n",
    "?p <http://schema.org/name> ?name .\n",
    "```\n",
    "    \n",
    "    is the BGP returning a human-readable name of a property or a class in Wikidata.\n",
    "    \n",
    "    "
   ]
  },
  {
   "cell_type": "code",
   "execution_count": 2,
   "metadata": {},
   "outputs": [],
   "source": [
    "## SETUP used later\n",
    "import sys\n",
    "import os\n",
    "import json\n",
    "import pandas as pd\n",
    "sys.path.insert(1, '../../../../src/')\n",
    "import gt_modules.evaluation as evaluation\n",
    "from SPARQLWrapper import SPARQLWrapper, JSON\n",
    "\n",
    "\n",
    "prefixString = \"\"\"\n",
    "##-movie4-##\n",
    "PREFIX wd: <http://www.wikidata.org/entity/> \n",
    "PREFIX wdt: <http://www.wikidata.org/prop/direct/> \n",
    "PREFIX sc: <http://schema.org/>\n",
    "\"\"\"\n",
    "\n",
    "# select and construct queries\n",
    "def run_query(queryString,verbose = True):\n",
    "    to_run = prefixString + \"\\n\" + queryString\n",
    "\n",
    "    sparql = SPARQLWrapper(\"http://gracevirtuoso.dei.unipd.it/sparql\")\n",
    "    sparql.setTimeout(300)\n",
    "    sparql.setReturnFormat(JSON)\n",
    "    sparql.setQuery(to_run)\n",
    "\n",
    "    try :\n",
    "        results = sparql.query()\n",
    "        json_results = results.convert()\n",
    "        if len(json_results['results']['bindings'])==0:\n",
    "            print(\"Empty\")\n",
    "            return []\n",
    "        array = []\n",
    "        for bindings in json_results['results']['bindings']:\n",
    "            app =  [ (var, value['value'])  for var, value in bindings.items() ] \n",
    "            if verbose:\n",
    "                print( app)\n",
    "            array.append(app)\n",
    "        if verbose:\n",
    "            print(len(array))\n",
    "        return array\n",
    "\n",
    "    except Exception as e :\n",
    "        print(\"The operation failed\", e)\n",
    "    \n",
    "# ASk queries\n",
    "def run_ask_query(queryString):\n",
    "    to_run = prefixString + \"\\n\" + queryString\n",
    "\n",
    "    sparql = SPARQLWrapper(\"http://gracevirtuoso.dei.unipd.it/sparql\")\n",
    "    sparql.setTimeout(300)\n",
    "    sparql.setReturnFormat(JSON)\n",
    "    sparql.setQuery(to_run)\n",
    "\n",
    "    try :\n",
    "        return sparql.query().convert()\n",
    "\n",
    "    except Exception as e :\n",
    "        print(\"The operation failed\", e)"
   ]
  },
  {
   "cell_type": "markdown",
   "metadata": {},
   "source": [
    "# Movie Workflow Series (\"Tv series HIMYM explorative search\") \n",
    "\n",
    "\n",
    "Consider the following exploratory scenario:\n",
    "\n",
    "\n",
    "> we are interested in the TV series \"How I met your mother\" and we want to investigate the main aspects related to the actors and directors involved in the production, know the numerber of seasons and check what are the episodes which got the higher success/impact.\n",
    "\n",
    "\n",
    "## Useful URIs for the current workflow\n",
    "The following are given:\n",
    "\n",
    "| IRI           | Description   | Role      |\n",
    "| -----------   | -----------   |-----------|\n",
    "| `wdt:P1647`   | subproperty   | predicate |\n",
    "| `wdt:P31`     | instance of   | predicate |\n",
    "| `wdt:P106`    | profession    | predicate | \n",
    "| `wdt:P279`    | subclass      | predicate |\n",
    "| `wdt:P4969`    | derivative work      | predicate |\n",
    "| `wd:Q147235` | How I met your mother        | node |\n",
    "| `wd:Q23831` | The Office (US)        | node |\n",
    "\n",
    "\n",
    "\n",
    "Also consider\n",
    "\n",
    "```\n",
    "wd:Q23831 ?p ?obj .\n",
    "```\n",
    "\n",
    "is the BGP to retrieve all **properties of The Office (US)**\n",
    "\n",
    "Please consider that when you return a resource, you should return the IRI and the label of the resource. In particular, when the task require you to identify a BGP the result set must always be a list of couples IRI - label.\n",
    "\n",
    "The workload should\n",
    "\n",
    "1. Identify the BGP for tv series\n",
    "\n",
    "2. Return the number of seasons and episodes per season of the tv series (the result set must be triples of season IRI, label and #episodes).\n",
    "\n",
    "3. Get the number of episodes in which the cast members played a role. Who are the most present actors? (the result set must be a list of triples actor/actress IRI, label and #episodes)\n",
    "\n",
    "4. Check who is the actor who acted in more films while working on \"How I met your mother\" (the result set must be a list of triples actor/actress IRI, label and #films).\n",
    "\n",
    "5. Compare HIMYM with the tv series \"The Office (US)\" in terms of number of seasons, episods and cast members (the result set must be two elements -one for each tv series- of tv series IRI, label, #seasons, #episodes and #cast members).\n",
    "\n",
    "6. Return how many of the actors who are members of the cast of the tv series have [Kavin Bacon number](https://en.wikipedia.org/wiki/Six_Degrees_of_Kevin_Bacon#:~:text=Kevin%20Bacon%20himself%20has%20a,Bacon%20number%20is%20N%2B1.) equal to 2 (the result set must be a list of couples actor/actress IRI and label).\n",
    "\n",
    "7. Consider the actors who are members of the cast of HIMYM. Amongst the tv series which these actors acted return only those which received more than 2 awards (the result set must be triples of tv series IRI, label, #awards won)."
   ]
  },
  {
   "cell_type": "code",
   "execution_count": 4,
   "metadata": {},
   "outputs": [
    {
     "name": "stdout",
     "output_type": "stream",
     "text": [
      "The index of this workflow is: 2_4\n"
     ]
    }
   ],
   "source": [
    "## startup the evaluation\n",
    "# setup the file and create the empty json\n",
    "ipname = \"m4.ipynb\"\n",
    "pt = os.getcwd()+os.sep+ipname\n",
    "evaluation.setup(pt)"
   ]
  },
  {
   "cell_type": "markdown",
   "metadata": {
    "jp-MarkdownHeadingCollapsed": true,
    "tags": []
   },
   "source": [
    "### Task 1"
   ]
  },
  {
   "cell_type": "code",
   "execution_count": 5,
   "metadata": {},
   "outputs": [
    {
     "name": "stdout",
     "output_type": "stream",
     "text": [
      "Results\n",
      "[('p', 'http://www.wikidata.org/prop/direct/P1113'), ('pName', 'number of episodes')]\n",
      "[('p', 'http://www.wikidata.org/prop/direct/P1258'), ('pName', 'Rotten Tomatoes ID')]\n",
      "[('p', 'http://www.wikidata.org/prop/direct/P1267'), ('pName', 'AlloCiné series ID')]\n",
      "[('p', 'http://www.wikidata.org/prop/direct/P1476'), ('pName', 'title')]\n",
      "[('p', 'http://www.wikidata.org/prop/direct/P1562'), ('pName', 'AllMovie title ID')]\n",
      "[('p', 'http://www.wikidata.org/prop/direct/P1712'), ('pName', 'Metacritic ID')]\n",
      "[('p', 'http://www.wikidata.org/prop/direct/P1874'), ('pName', 'Netflix ID')]\n",
      "[('p', 'http://www.wikidata.org/prop/direct/P1922'), ('pName', 'first line')]\n",
      "[('p', 'http://www.wikidata.org/prop/direct/P2002'), ('pName', 'Twitter username')]\n",
      "[('p', 'http://www.wikidata.org/prop/direct/P2047'), ('pName', 'duration')]\n",
      "[('p', 'http://www.wikidata.org/prop/direct/P214'), ('pName', 'VIAF ID')]\n",
      "[('p', 'http://www.wikidata.org/prop/direct/P227'), ('pName', 'GND ID')]\n",
      "[('p', 'http://www.wikidata.org/prop/direct/P2373'), ('pName', 'Genius artist ID')]\n",
      "[('p', 'http://www.wikidata.org/prop/direct/P2437'), ('pName', 'number of seasons')]\n",
      "[('p', 'http://www.wikidata.org/prop/direct/P244'), ('pName', 'Library of Congress authority ID')]\n",
      "[('p', 'http://www.wikidata.org/prop/direct/P2529'), ('pName', 'ČSFD film ID')]\n",
      "[('p', 'http://www.wikidata.org/prop/direct/P2581'), ('pName', 'BabelNet ID')]\n",
      "[('p', 'http://www.wikidata.org/prop/direct/P2603'), ('pName', 'Kinopoisk film ID')]\n",
      "[('p', 'http://www.wikidata.org/prop/direct/P2638'), ('pName', 'TV.com ID')]\n",
      "[('p', 'http://www.wikidata.org/prop/direct/P2703'), ('pName', 'BFI National Archive work ID')]\n",
      "[('p', 'http://www.wikidata.org/prop/direct/P2704'), ('pName', 'EIDR content ID')]\n",
      "[('p', 'http://www.wikidata.org/prop/direct/P3121'), ('pName', 'Epguides ID')]\n",
      "[('p', 'http://www.wikidata.org/prop/direct/P3138'), ('pName', 'OFDb film ID')]\n",
      "[('p', 'http://www.wikidata.org/prop/direct/P3302'), ('pName', 'Open Media Database film ID')]\n",
      "[('p', 'http://www.wikidata.org/prop/direct/P3417'), ('pName', 'Quora topic ID')]\n",
      "[('p', 'http://www.wikidata.org/prop/direct/P345'), ('pName', 'IMDb ID')]\n",
      "[('p', 'http://www.wikidata.org/prop/direct/P3553'), ('pName', 'Zhihu topic ID')]\n",
      "[('p', 'http://www.wikidata.org/prop/direct/P373'), ('pName', 'Commons category')]\n",
      "[('p', 'http://www.wikidata.org/prop/direct/P4073'), ('pName', 'Fandom wiki ID')]\n",
      "[('p', 'http://www.wikidata.org/prop/direct/P4438'), ('pName', 'BFI Films, TV and people ID')]\n",
      "[('p', 'http://www.wikidata.org/prop/direct/P4665'), ('pName', 'CineMagia title ID')]\n",
      "[('p', 'http://www.wikidata.org/prop/direct/P4835'), ('pName', 'TheTVDB.com series ID')]\n",
      "[('p', 'http://www.wikidata.org/prop/direct/P4983'), ('pName', 'TMDb TV series ID')]\n",
      "[('p', 'http://www.wikidata.org/prop/direct/P5032'), ('pName', 'Filmweb.pl film ID')]\n",
      "[('p', 'http://www.wikidata.org/prop/direct/P5099'), ('pName', 'Il mondo dei doppiatori ID')]\n",
      "[('p', 'http://www.wikidata.org/prop/direct/P5327'), ('pName', 'fernsehserien.de ID')]\n",
      "[('p', 'http://www.wikidata.org/prop/direct/P580'), ('pName', 'start time')]\n",
      "[('p', 'http://www.wikidata.org/prop/direct/P582'), ('pName', 'end time')]\n",
      "[('p', 'http://www.wikidata.org/prop/direct/P5925'), ('pName', 'Moviepilot.de series ID')]\n",
      "[('p', 'http://www.wikidata.org/prop/direct/P646'), ('pName', 'Freebase ID')]\n",
      "[('p', 'http://www.wikidata.org/prop/direct/P6760'), ('pName', 'Know Your Meme ID')]\n",
      "[('p', 'http://www.wikidata.org/prop/direct/P6839'), ('pName', 'TV Tropes identifier')]\n",
      "[('p', 'http://www.wikidata.org/prop/direct/P7299'), ('pName', 'MUBI film ID')]\n",
      "[('p', 'http://www.wikidata.org/prop/direct/P8013'), ('pName', 'Trakt.tv ID')]\n",
      "[('p', 'http://www.wikidata.org/prop/direct/P8278'), ('pName', 'serial identifier on SerialZone')]\n",
      "[('p', 'http://www.wikidata.org/prop/direct/P8687'), ('pName', 'social media followers')]\n",
      "[('p', 'http://www.wikidata.org/prop/direct/P905'), ('pName', 'PORT film ID')]\n",
      "[('p', 'http://www.wikidata.org/prop/direct/P9629'), ('pName', 'Armeniapedia ID')]\n",
      "[('p', 'http://www.wikidata.org/prop/direct/P4784'), ('pName', 'Movieplayer TV-series ID')]\n",
      "[('p', 'http://www.wikidata.org/prop/direct/P4834'), ('pName', 'Deutsche Synchronkartei series ID')]\n",
      "[('p', 'http://www.wikidata.org/prop/direct/P6467'), ('pName', 'Hulu series ID')]\n",
      "[('p', 'http://www.wikidata.org/prop/direct/P6643'), ('pName', 'TV Spielfilm series ID')]\n",
      "[('p', 'http://www.wikidata.org/prop/direct/P7107'), ('pName', 'LezWatch.TV show ID')]\n",
      "[('p', 'http://www.wikidata.org/prop/direct/P7596'), ('pName', 'Disney+ series ID')]\n",
      "[('p', 'http://www.wikidata.org/prop/direct/P9751'), ('pName', 'Apple TV show ID')]\n",
      "55\n"
     ]
    }
   ],
   "source": [
    "# properties of HIMYM\n",
    "queryString = \"\"\"\n",
    "SELECT DISTINCT ?p ?pName WHERE { \n",
    "\n",
    "    # Connecting HIMYM to something\n",
    "    wd:Q147235 ?p  ?o.\n",
    "\n",
    "    # This returns the labels\n",
    "    ?p <http://schema.org/name> ?pName .\n",
    "\n",
    "    # Only data properties\n",
    "    FILTER(isLiteral(?o))\n",
    "}\n",
    "\"\"\"\n",
    "\n",
    "print(\"Results\")\n",
    "x = run_query(queryString)"
   ]
  },
  {
   "cell_type": "code",
   "execution_count": 6,
   "metadata": {},
   "outputs": [
    {
     "name": "stdout",
     "output_type": "stream",
     "text": [
      "Results\n",
      "[('o', 'http://www.wikidata.org/entity/Q5398426'), ('pName', 'television series')]\n",
      "1\n"
     ]
    }
   ],
   "source": [
    "# instance of\n",
    "queryString = \"\"\"\n",
    "SELECT DISTINCT ?o ?pName WHERE { \n",
    "\n",
    "    # Connecting HIMYM to something\n",
    "    wd:Q147235 wdt:P31  ?o.\n",
    "\n",
    "    # This returns the labels\n",
    "    ?o <http://schema.org/name> ?pName .\n",
    "}\n",
    "\"\"\"\n",
    "\n",
    "print(\"Results\")\n",
    "x = run_query(queryString)"
   ]
  },
  {
   "cell_type": "code",
   "execution_count": 7,
   "metadata": {},
   "outputs": [
    {
     "name": "stdout",
     "output_type": "stream",
     "text": [
      "The index of this workflow is: 2_4\n",
      "The path is /locale/data/jupyter/prando/esw/tracks/2022/ground_truths/gt_json/workflow2_4.json\n",
      "JSON object updated\n"
     ]
    }
   ],
   "source": [
    "### insert the result of TASK 1 in the file\n",
    "og_uri = \"http://www.wikidata.org/entity/Q5398426\"\n",
    "og_name = \"television series\"\n",
    "obj = {\"uri\":og_uri,\"name\":og_name}\n",
    "evaluation.add_result(evaluation.get_index_workflow(pt),\"1\", evaluation.TYPE_SINGLE ,\"uri\", [obj] ,\"all\")"
   ]
  },
  {
   "cell_type": "markdown",
   "metadata": {
    "jp-MarkdownHeadingCollapsed": true,
    "tags": []
   },
   "source": [
    "### Task 2 : Return the number of seasons and episodes per season of the tv series.\n",
    "\n",
    "I'm interested on the TV series ***\"How I met your mother\" (wd:Q147235)***, so as a starting point I show all the data properties of this TV series."
   ]
  },
  {
   "cell_type": "markdown",
   "metadata": {},
   "source": [
    "I discovered the two properties: ***number of episodes (wdt:P1113)*** and ***number of seasons (wdt:P2437)***. \n",
    "\n",
    "I try to use them on ***\"How I met your mother\" (wd:Q147235)***."
   ]
  },
  {
   "cell_type": "code",
   "execution_count": 8,
   "metadata": {},
   "outputs": [
    {
     "name": "stdout",
     "output_type": "stream",
     "text": [
      "Results\n",
      "[('numEpisodes', '208'), ('numSeasons', '9')]\n",
      "1\n"
     ]
    }
   ],
   "source": [
    "# use number of episodes and seasons\n",
    "queryString = \"\"\"\n",
    "SELECT ?numEpisodes ?numSeasons WHERE { \n",
    "\n",
    "    # Retrieve HIMYM numEpisodes and numSeasons\n",
    "    wd:Q147235  wdt:P1113 ?numEpisodes ;\n",
    "                wdt:P2437 ?numSeasons  .\n",
    "}\n",
    "\"\"\"\n",
    "\n",
    "print(\"Results\")\n",
    "x = run_query(queryString)"
   ]
  },
  {
   "cell_type": "markdown",
   "metadata": {},
   "source": [
    "Now I have to discover how many episodes there are for each season. To do this I show all the object properties of ***\"How I met your mother\" (wd:Q147235)***."
   ]
  },
  {
   "cell_type": "code",
   "execution_count": 9,
   "metadata": {},
   "outputs": [
    {
     "name": "stdout",
     "output_type": "stream",
     "text": [
      "Results\n",
      "[('p', 'http://www.wikidata.org/prop/direct/P136'), ('pName', 'genre')]\n",
      "[('p', 'http://www.wikidata.org/prop/direct/P138'), ('pName', 'named after')]\n",
      "[('p', 'http://www.wikidata.org/prop/direct/P1411'), ('pName', 'nominated for')]\n",
      "[('p', 'http://www.wikidata.org/prop/direct/P1424'), ('pName', \"topic's main template\")]\n",
      "[('p', 'http://www.wikidata.org/prop/direct/P154'), ('pName', 'logo image')]\n",
      "[('p', 'http://www.wikidata.org/prop/direct/P161'), ('pName', 'cast member')]\n",
      "[('p', 'http://www.wikidata.org/prop/direct/P162'), ('pName', 'producer')]\n",
      "[('p', 'http://www.wikidata.org/prop/direct/P166'), ('pName', 'award received')]\n",
      "[('p', 'http://www.wikidata.org/prop/direct/P170'), ('pName', 'creator')]\n",
      "[('p', 'http://www.wikidata.org/prop/direct/P18'), ('pName', 'image')]\n",
      "[('p', 'http://www.wikidata.org/prop/direct/P1811'), ('pName', 'list of episodes')]\n",
      "[('p', 'http://www.wikidata.org/prop/direct/P1881'), ('pName', 'list of characters')]\n",
      "[('p', 'http://www.wikidata.org/prop/direct/P2061'), ('pName', 'aspect ratio')]\n",
      "[('p', 'http://www.wikidata.org/prop/direct/P2670'), ('pName', 'has parts of the class')]\n",
      "[('p', 'http://www.wikidata.org/prop/direct/P272'), ('pName', 'production company')]\n",
      "[('p', 'http://www.wikidata.org/prop/direct/P31'), ('pName', 'instance of')]\n",
      "[('p', 'http://www.wikidata.org/prop/direct/P364'), ('pName', 'original language of film or TV show')]\n",
      "[('p', 'http://www.wikidata.org/prop/direct/P437'), ('pName', 'distribution format')]\n",
      "[('p', 'http://www.wikidata.org/prop/direct/P449'), ('pName', 'original broadcaster')]\n",
      "[('p', 'http://www.wikidata.org/prop/direct/P495'), ('pName', 'country of origin')]\n",
      "[('p', 'http://www.wikidata.org/prop/direct/P4969'), ('pName', 'derivative work')]\n",
      "[('p', 'http://www.wikidata.org/prop/direct/P527'), ('pName', 'has part')]\n",
      "[('p', 'http://www.wikidata.org/prop/direct/P58'), ('pName', 'screenwriter')]\n",
      "[('p', 'http://www.wikidata.org/prop/direct/P674'), ('pName', 'characters')]\n",
      "[('p', 'http://www.wikidata.org/prop/direct/P750'), ('pName', 'distributed by')]\n",
      "[('p', 'http://www.wikidata.org/prop/direct/P840'), ('pName', 'narrative location')]\n",
      "[('p', 'http://www.wikidata.org/prop/direct/P856'), ('pName', 'official website')]\n",
      "[('p', 'http://www.wikidata.org/prop/direct/P86'), ('pName', 'composer')]\n",
      "[('p', 'http://www.wikidata.org/prop/direct/P910'), ('pName', \"topic's main category\")]\n",
      "[('p', 'http://www.wikidata.org/prop/direct/P725'), ('pName', 'voice actor')]\n",
      "[('p', 'http://www.wikidata.org/prop/direct/P4312'), ('pName', 'camera setup')]\n",
      "[('p', 'http://www.wikidata.org/prop/direct/P7501'), ('pName', 'audio system')]\n",
      "[('p', 'http://www.wikidata.org/prop/direct/P2438'), ('pName', 'narrator')]\n",
      "33\n"
     ]
    }
   ],
   "source": [
    "# get the object properties\n",
    "queryString = \"\"\"\n",
    "SELECT DISTINCT ?p ?pName WHERE { \n",
    "\n",
    "    # Connecting HIMYM to something\n",
    "    wd:Q147235 ?p  ?o.\n",
    "\n",
    "    # This returns the labels\n",
    "    ?p <http://schema.org/name> ?pName .\n",
    "\n",
    "    # Exclude data properties\n",
    "    FILTER(!isLiteral(?o))\n",
    "}\n",
    "\"\"\"\n",
    "\n",
    "print(\"Results\")\n",
    "x = run_query(queryString)"
   ]
  },
  {
   "cell_type": "markdown",
   "metadata": {},
   "source": [
    "I try to use another property discovered before: ***has part (wdt:P527)***."
   ]
  },
  {
   "cell_type": "code",
   "execution_count": 10,
   "metadata": {},
   "outputs": [
    {
     "name": "stdout",
     "output_type": "stream",
     "text": [
      "Results\n",
      "[('part', 'http://www.wikidata.org/entity/Q2715578'), ('partName', 'How I Met Your Mother, season 1')]\n",
      "[('part', 'http://www.wikidata.org/entity/Q338715'), ('partName', 'How I Met Your Mother, season 8')]\n",
      "[('part', 'http://www.wikidata.org/entity/Q2567330'), ('partName', 'How I Met Your Mother, season 4')]\n",
      "[('part', 'http://www.wikidata.org/entity/Q2555117'), ('partName', 'How I Met Your Mother, season 3')]\n",
      "[('part', 'http://www.wikidata.org/entity/Q13567027'), ('partName', 'How I Met Your Mother, season 9')]\n",
      "[('part', 'http://www.wikidata.org/entity/Q2438066'), ('partName', 'How I Met Your Mother, season 6')]\n",
      "[('part', 'http://www.wikidata.org/entity/Q582332'), ('partName', 'How I Met Your Mother, season 5')]\n",
      "[('part', 'http://www.wikidata.org/entity/Q3468515'), ('partName', 'How I Met Your Mother, season 2')]\n",
      "[('part', 'http://www.wikidata.org/entity/Q2472427'), ('partName', 'How I Met Your Mother, season 7')]\n",
      "9\n"
     ]
    }
   ],
   "source": [
    "# use has part\n",
    "queryString = \"\"\"\n",
    "SELECT DISTINCT ?part ?partName WHERE { \n",
    "\n",
    "    # Connecting HIMYM to something using property hasPart\n",
    "    wd:Q147235 wdt:P527 ?part .\n",
    "\n",
    "    # This returns the labels\n",
    "    ?part <http://schema.org/name> ?partName .\n",
    "}\n",
    "\"\"\"\n",
    "\n",
    "print(\"Results\")\n",
    "x = run_query(queryString)"
   ]
  },
  {
   "cell_type": "markdown",
   "metadata": {},
   "source": [
    "It is possible to retrieve all the different seasons of the TV series. \n",
    "I show the properties of one of them ( ***How I Met Your Mother, season 1 (wd:Q2715578)*** )"
   ]
  },
  {
   "cell_type": "code",
   "execution_count": 11,
   "metadata": {},
   "outputs": [
    {
     "name": "stdout",
     "output_type": "stream",
     "text": [
      "Results\n",
      "[('p', 'http://www.wikidata.org/prop/direct/P1113'), ('pName', 'number of episodes')]\n",
      "[('p', 'http://www.wikidata.org/prop/direct/P1258'), ('pName', 'Rotten Tomatoes ID')]\n",
      "[('p', 'http://www.wikidata.org/prop/direct/P1712'), ('pName', 'Metacritic ID')]\n",
      "[('p', 'http://www.wikidata.org/prop/direct/P179'), ('pName', 'part of the series')]\n",
      "[('p', 'http://www.wikidata.org/prop/direct/P2529'), ('pName', 'ČSFD film ID')]\n",
      "[('p', 'http://www.wikidata.org/prop/direct/P2581'), ('pName', 'BabelNet ID')]\n",
      "[('p', 'http://www.wikidata.org/prop/direct/P2638'), ('pName', 'TV.com ID')]\n",
      "[('p', 'http://www.wikidata.org/prop/direct/P2704'), ('pName', 'EIDR content ID')]\n",
      "[('p', 'http://www.wikidata.org/prop/direct/P31'), ('pName', 'instance of')]\n",
      "[('p', 'http://www.wikidata.org/prop/direct/P3302'), ('pName', 'Open Media Database film ID')]\n",
      "[('p', 'http://www.wikidata.org/prop/direct/P364'), ('pName', 'original language of film or TV show')]\n",
      "[('p', 'http://www.wikidata.org/prop/direct/P437'), ('pName', 'distribution format')]\n",
      "[('p', 'http://www.wikidata.org/prop/direct/P527'), ('pName', 'has part')]\n",
      "[('p', 'http://www.wikidata.org/prop/direct/P580'), ('pName', 'start time')]\n",
      "[('p', 'http://www.wikidata.org/prop/direct/P582'), ('pName', 'end time')]\n",
      "[('p', 'http://www.wikidata.org/prop/direct/P6262'), ('pName', 'Fandom article ID')]\n",
      "[('p', 'http://www.wikidata.org/prop/direct/P646'), ('pName', 'Freebase ID')]\n",
      "[('p', 'http://www.wikidata.org/prop/direct/P750'), ('pName', 'distributed by')]\n",
      "[('p', 'http://www.wikidata.org/prop/direct/P6381'), ('pName', 'iTunes TV season ID')]\n",
      "19\n"
     ]
    }
   ],
   "source": [
    "# properties of the first season of HIMYM\n",
    "queryString = \"\"\"\n",
    "SELECT DISTINCT ?p ?pName WHERE { \n",
    "\n",
    "    # Connecting HIMYM S1 to something\n",
    "    wd:Q2715578 ?p ?o.\n",
    "\n",
    "    # This returns the labels\n",
    "    ?p <http://schema.org/name> ?pName .\n",
    "}\n",
    "\"\"\"\n",
    "\n",
    "print(\"Results\")\n",
    "x = run_query(queryString)"
   ]
  },
  {
   "cell_type": "markdown",
   "metadata": {},
   "source": [
    "I have the property ***number of episodes (wdt:P1113)***. I try to use it on ***How I Met Your Mother, season 1 (wd:Q2715578)***. I can finally retrieve the number of episodes per season of  ***\"How I met your mother\" (wd:Q147235)***."
   ]
  },
  {
   "cell_type": "code",
   "execution_count": 12,
   "metadata": {},
   "outputs": [
    {
     "name": "stdout",
     "output_type": "stream",
     "text": [
      "Results\n",
      "[('part', 'http://www.wikidata.org/entity/Q2715578'), ('partName', 'How I Met Your Mother, season 1'), ('numEpisodes', '22')]\n",
      "[('part', 'http://www.wikidata.org/entity/Q338715'), ('partName', 'How I Met Your Mother, season 8'), ('numEpisodes', '24')]\n",
      "[('part', 'http://www.wikidata.org/entity/Q2567330'), ('partName', 'How I Met Your Mother, season 4'), ('numEpisodes', '24')]\n",
      "[('part', 'http://www.wikidata.org/entity/Q2555117'), ('partName', 'How I Met Your Mother, season 3'), ('numEpisodes', '20')]\n",
      "[('part', 'http://www.wikidata.org/entity/Q13567027'), ('partName', 'How I Met Your Mother, season 9'), ('numEpisodes', '24')]\n",
      "[('part', 'http://www.wikidata.org/entity/Q2438066'), ('partName', 'How I Met Your Mother, season 6'), ('numEpisodes', '24')]\n",
      "[('part', 'http://www.wikidata.org/entity/Q582332'), ('partName', 'How I Met Your Mother, season 5'), ('numEpisodes', '24')]\n",
      "[('part', 'http://www.wikidata.org/entity/Q3468515'), ('partName', 'How I Met Your Mother, season 2'), ('numEpisodes', '22')]\n",
      "[('part', 'http://www.wikidata.org/entity/Q2472427'), ('partName', 'How I Met Your Mother, season 7'), ('numEpisodes', '24')]\n",
      "9\n"
     ]
    }
   ],
   "source": [
    "# final result\n",
    "queryString = \"\"\"\n",
    "SELECT DISTINCT ?part ?partName ?numEpisodes WHERE { \n",
    "\n",
    "    # Retrieve HIMYM seasons\n",
    "    wd:Q147235 wdt:P527 ?part .\n",
    "    \n",
    "    # Retrieve number of episodes of each HIMYM season\n",
    "    ?part wdt:P1113 ?numEpisodes.\n",
    "\n",
    "    # This returns the labels\n",
    "    ?part <http://schema.org/name> ?partName .\n",
    "}\n",
    "\"\"\"\n",
    "\n",
    "print(\"Results\")\n",
    "x = run_query(queryString)"
   ]
  },
  {
   "cell_type": "code",
   "execution_count": 13,
   "metadata": {},
   "outputs": [
    {
     "name": "stdout",
     "output_type": "stream",
     "text": [
      "The index of this workflow is: 2_4\n",
      "The path is /locale/data/jupyter/prando/esw/tracks/2022/ground_truths/gt_json/workflow2_4.json\n",
      "JSON object updated\n"
     ]
    }
   ],
   "source": [
    "## single literal associated to an URI\n",
    "objs = []\n",
    "for i in x:\n",
    "    f_uri = i[0][1]\n",
    "    f_name = i[1][1]\n",
    "    val = i[2][1]\n",
    "    obj = {}\n",
    "    obj[\"refers_to\"] = f_uri\n",
    "    obj[\"refers_to_name\"] = f_name\n",
    "    obj[\"check\"] = \"value\"\n",
    "    obj[\"value\"]= val\n",
    "    objs.append(obj)\n",
    "evaluation.add_result(evaluation.get_index_workflow(pt),\"2\", evaluation.TYPE_REFERRED ,\"value\", objs)"
   ]
  },
  {
   "cell_type": "markdown",
   "metadata": {
    "tags": []
   },
   "source": [
    "### Task 3 : Get the number of episodes in which the cast members played a role. Who are the most present actors?\n",
    "\n",
    "From a previous query, I can notice that each season has also the property ***has part (wdt:P527)***.\n",
    "\n",
    "I want to see what is connected to ***How I Met Your Mother, season 1 (wd:Q2715578)*** through this property."
   ]
  },
  {
   "cell_type": "code",
   "execution_count": 14,
   "metadata": {},
   "outputs": [
    {
     "name": "stdout",
     "output_type": "stream",
     "text": [
      "Results\n",
      "[('episode', 'http://www.wikidata.org/entity/Q11696021'), ('episodeName', 'Nothing Good Happens After 2 A.M.')]\n",
      "[('episode', 'http://www.wikidata.org/entity/Q1327587'), ('episodeName', 'Okay Awesome')]\n",
      "[('episode', 'http://www.wikidata.org/entity/Q3480575'), ('episodeName', 'Return of the Shirt')]\n",
      "[('episode', 'http://www.wikidata.org/entity/Q467447'), ('episodeName', 'Pilot')]\n",
      "[('episode', 'http://www.wikidata.org/entity/Q468587'), ('episodeName', 'Purple Giraffe')]\n",
      "[('episode', 'http://www.wikidata.org/entity/Q471448'), ('episodeName', 'Sweet Taste of Liberty')]\n",
      "[('episode', 'http://www.wikidata.org/entity/Q4809956'), ('episodeName', 'Game Night')]\n",
      "[('episode', 'http://www.wikidata.org/entity/Q4817584'), ('episodeName', 'Drumroll, Please')]\n",
      "[('episode', 'http://www.wikidata.org/entity/Q4818636'), ('episodeName', 'Life Among the Gorillas')]\n",
      "[('episode', 'http://www.wikidata.org/entity/Q4818989'), ('episodeName', 'Cupcake')]\n",
      "[('episode', 'http://www.wikidata.org/entity/Q4819005'), ('episodeName', 'The Wedding')]\n",
      "[('episode', 'http://www.wikidata.org/entity/Q4884249'), ('episodeName', 'Belly Full of Turkey')]\n",
      "[('episode', 'http://www.wikidata.org/entity/Q5151207'), ('episodeName', 'Come On')]\n",
      "[('episode', 'http://www.wikidata.org/entity/Q6781049'), ('episodeName', 'Mary the Paralegal')]\n",
      "[('episode', 'http://www.wikidata.org/entity/Q6857975'), ('episodeName', 'Milk')]\n",
      "[('episode', 'http://www.wikidata.org/entity/Q7731151'), ('episodeName', 'The Duel')]\n",
      "[('episode', 'http://www.wikidata.org/entity/Q7747382'), ('episodeName', 'The Limo')]\n",
      "[('episode', 'http://www.wikidata.org/entity/Q7757165'), ('episodeName', 'The Pineapple Incident')]\n",
      "[('episode', 'http://www.wikidata.org/entity/Q8072588'), ('episodeName', 'Zip, Zip, Zip')]\n",
      "[('episode', 'http://www.wikidata.org/entity/Q8247171'), ('episodeName', 'Best Prom Ever')]\n",
      "[('episode', 'http://www.wikidata.org/entity/Q9030442'), ('episodeName', 'Matchmaker')]\n",
      "[('episode', 'http://www.wikidata.org/entity/Q9078314'), ('episodeName', 'Slutty Pumpkin')]\n",
      "22\n"
     ]
    }
   ],
   "source": [
    "# episodes of first season\n",
    "queryString = \"\"\"\n",
    "SELECT ?episode ?episodeName WHERE { \n",
    "\n",
    "    # Retrieve episodes of HIMYM S1\n",
    "    wd:Q2715578 wdt:P527 ?episode .\n",
    "    \n",
    "    # This returns the labels\n",
    "    ?episode <http://schema.org/name> ?episodeName .\n",
    "}\n",
    "\"\"\"\n",
    "\n",
    "print(\"Results\")\n",
    "x = run_query(queryString)"
   ]
  },
  {
   "cell_type": "markdown",
   "metadata": {},
   "source": [
    "Using the property ***has part (wdt:P527)*** on a single season, I can retrieve all the episodes of that season.\n",
    "\n",
    "I have to discover the cast members, so I try to list all the properties of a specific episode: ***The Pineapple Incident (wd:Q7757165)***"
   ]
  },
  {
   "cell_type": "code",
   "execution_count": 15,
   "metadata": {},
   "outputs": [
    {
     "name": "stdout",
     "output_type": "stream",
     "text": [
      "Results\n",
      "[('p', 'http://www.wikidata.org/prop/direct/P161'), ('pName', 'cast member'), ('o', 'http://www.wikidata.org/entity/Q199927'), ('oName', 'Alyson Hannigan')]\n",
      "[('p', 'http://www.wikidata.org/prop/direct/P161'), ('pName', 'cast member'), ('o', 'http://www.wikidata.org/entity/Q202304'), ('oName', 'Jason Segel')]\n",
      "[('p', 'http://www.wikidata.org/prop/direct/P161'), ('pName', 'cast member'), ('o', 'http://www.wikidata.org/entity/Q200566'), ('oName', 'Cobie Smulders')]\n",
      "[('p', 'http://www.wikidata.org/prop/direct/P161'), ('pName', 'cast member'), ('o', 'http://www.wikidata.org/entity/Q333544'), ('oName', 'Bob Saget')]\n",
      "[('p', 'http://www.wikidata.org/prop/direct/P161'), ('pName', 'cast member'), ('o', 'http://www.wikidata.org/entity/Q485310'), ('oName', 'Neil Patrick Harris')]\n",
      "[('p', 'http://www.wikidata.org/prop/direct/P161'), ('pName', 'cast member'), ('o', 'http://www.wikidata.org/entity/Q242949'), ('oName', 'Danica McKellar')]\n",
      "[('p', 'http://www.wikidata.org/prop/direct/P161'), ('pName', 'cast member'), ('o', 'http://www.wikidata.org/entity/Q223455'), ('oName', 'Josh Radnor')]\n",
      "[('p', 'http://www.wikidata.org/prop/direct/P57'), ('pName', 'director'), ('o', 'http://www.wikidata.org/entity/Q460221'), ('oName', 'Pamela Fryman')]\n",
      "[('p', 'http://www.wikidata.org/prop/direct/P156'), ('pName', 'followed by'), ('o', 'http://www.wikidata.org/entity/Q7747382'), ('oName', 'The Limo')]\n",
      "[('p', 'http://www.wikidata.org/prop/direct/P155'), ('pName', 'follows'), ('o', 'http://www.wikidata.org/entity/Q4884249'), ('oName', 'Belly Full of Turkey')]\n",
      "[('p', 'http://www.wikidata.org/prop/direct/P31'), ('pName', 'instance of'), ('o', 'http://www.wikidata.org/entity/Q21191270'), ('oName', 'television series episode')]\n",
      "[('p', 'http://www.wikidata.org/prop/direct/P364'), ('pName', 'original language of film or TV show'), ('o', 'http://www.wikidata.org/entity/Q1860'), ('oName', 'English')]\n",
      "[('p', 'http://www.wikidata.org/prop/direct/P179'), ('pName', 'part of the series'), ('o', 'http://www.wikidata.org/entity/Q147235'), ('oName', 'How I Met Your Mother')]\n",
      "[('p', 'http://www.wikidata.org/prop/direct/P58'), ('pName', 'screenwriter'), ('o', 'http://www.wikidata.org/entity/Q2656047'), ('oName', 'Carter Bays')]\n",
      "[('p', 'http://www.wikidata.org/prop/direct/P58'), ('pName', 'screenwriter'), ('o', 'http://www.wikidata.org/entity/Q3002075'), ('oName', 'Craig Thomas')]\n",
      "[('p', 'http://www.wikidata.org/prop/direct/P4908'), ('pName', 'season'), ('o', 'http://www.wikidata.org/entity/Q2715578'), ('oName', 'How I Met Your Mother, season 1')]\n",
      "16\n"
     ]
    }
   ],
   "source": [
    "# properties of  The Pineapple Incident, an episode of the first season\n",
    "queryString = \"\"\"\n",
    "SELECT DISTINCT ?p ?pName ?o ?oName WHERE { \n",
    "\n",
    "    # Connecting The Pineapple Incident to something\n",
    "    wd:Q7757165 ?p ?o.\n",
    "\n",
    "    # This returns the labels\n",
    "    ?p <http://schema.org/name> ?pName .\n",
    "    ?o <http://schema.org/name> ?oName .\n",
    "}\n",
    "ORDER BY ?pName\n",
    "\"\"\"\n",
    "\n",
    "print(\"Results\")\n",
    "x = run_query(queryString)"
   ]
  },
  {
   "cell_type": "markdown",
   "metadata": {},
   "source": [
    "I discovered that the property ***cast member (wdt:P161)*** can be used to retrieve all the actors that partecipated in a specific episode.\n",
    "\n",
    "Now I can count the number of episodes in which the cast members played a role, and show the most present actors."
   ]
  },
  {
   "cell_type": "code",
   "execution_count": 16,
   "metadata": {},
   "outputs": [
    {
     "name": "stdout",
     "output_type": "stream",
     "text": [
      "Results\n",
      "[('actor', 'http://www.wikidata.org/entity/Q202304'), ('actorName', 'Jason Segel'), ('numEpisodes', '145')]\n",
      "[('actor', 'http://www.wikidata.org/entity/Q223455'), ('actorName', 'Josh Radnor'), ('numEpisodes', '145')]\n",
      "[('actor', 'http://www.wikidata.org/entity/Q200566'), ('actorName', 'Cobie Smulders'), ('numEpisodes', '145')]\n",
      "[('actor', 'http://www.wikidata.org/entity/Q485310'), ('actorName', 'Neil Patrick Harris'), ('numEpisodes', '145')]\n",
      "[('actor', 'http://www.wikidata.org/entity/Q199927'), ('actorName', 'Alyson Hannigan'), ('numEpisodes', '143')]\n",
      "[('actor', 'http://www.wikidata.org/entity/Q333544'), ('actorName', 'Bob Saget'), ('numEpisodes', '142')]\n",
      "6\n"
     ]
    }
   ],
   "source": [
    "# count the presence of the actors in the episodes\n",
    "queryString = \"\"\"\n",
    "SELECT ?actor ?actorName COUNT(DISTINCT ?episode) AS ?numEpisodes WHERE { \n",
    "\n",
    "    # Retrieve HIMYM episodes \n",
    "    wd:Q147235 wdt:P527/wdt:P527 ?episode .\n",
    "    \n",
    "    # Retrieve cast members\n",
    "    ?episode wdt:P161 ?actor .\n",
    "    \n",
    "    # This returns the labels\n",
    "    ?actor <http://schema.org/name> ?actorName .\n",
    "}\n",
    "GROUP BY ?actor ?actorName\n",
    "ORDER BY DESC(?numEpisodes)\n",
    "LIMIT 6\n",
    "\"\"\"\n",
    "\n",
    "print(\"Results\")\n",
    "x = run_query(queryString)"
   ]
  },
  {
   "cell_type": "code",
   "execution_count": 17,
   "metadata": {},
   "outputs": [
    {
     "name": "stdout",
     "output_type": "stream",
     "text": [
      "The index of this workflow is: 2_4\n",
      "The path is /locale/data/jupyter/prando/esw/tracks/2022/ground_truths/gt_json/workflow2_4.json\n",
      "JSON object updated\n"
     ]
    }
   ],
   "source": [
    "## single literal associated to an URI\n",
    "objs = []\n",
    "for i in x:\n",
    "    f_uri = i[0][1]\n",
    "    f_name = i[1][1]\n",
    "    val = i[2][1]\n",
    "    obj = {}\n",
    "    obj[\"refers_to\"] = f_uri\n",
    "    obj[\"refers_to_name\"] = f_name\n",
    "    obj[\"check\"] = \"value\"\n",
    "    obj[\"value\"]= val\n",
    "    objs.append(obj)\n",
    "evaluation.add_result(evaluation.get_index_workflow(pt),\"3\", evaluation.TYPE_REFERRED ,\"value\", objs)"
   ]
  },
  {
   "cell_type": "markdown",
   "metadata": {
    "tags": []
   },
   "source": [
    "### Task 4: Check who is the actor who acted in more films while working on \"How I met your mother\" \n",
    "\n",
    "To check if an actor acted in a film while working on ***\"How I met your mother\" (wd:Q147235)***, I need to know when HIMYM started and when it ended.\n",
    "\n",
    "I can rely on these two properties discovered in a previous query: \n",
    "* ***start time (wdt:P580)*** \n",
    "* ***end time (wdt:P582)***"
   ]
  },
  {
   "cell_type": "code",
   "execution_count": 18,
   "metadata": {},
   "outputs": [
    {
     "name": "stdout",
     "output_type": "stream",
     "text": [
      "Results\n",
      "[('startTime', '2005-09-19T00:00:00Z'), ('endTime', '2014-03-31T00:00:00Z')]\n",
      "1\n"
     ]
    }
   ],
   "source": [
    "# use start and end time\n",
    "queryString = \"\"\"\n",
    "SELECT ?startTime ?endTime WHERE { \n",
    "\n",
    "    # Retrieving HIMYM startTime and endTime\n",
    "    wd:Q147235  wdt:P580  ?startTime ;\n",
    "                wdt:P582  ?endTime   . \n",
    "}\n",
    "\"\"\"\n",
    "\n",
    "print(\"Results\")\n",
    "x = run_query(queryString)"
   ]
  },
  {
   "cell_type": "markdown",
   "metadata": {},
   "source": [
    "Hence, I need to check if an actor worked in a film between ***\"2005-09-19\"*** and ***\"2014-03-31\"***. To do this, I have to understand how actors and films are connected.\n",
    "\n",
    "First, I try to retrieve all the object propertis of a specific actor : ***Cobie Smulders (wd:Q200566)***."
   ]
  },
  {
   "cell_type": "code",
   "execution_count": 19,
   "metadata": {},
   "outputs": [
    {
     "name": "stdout",
     "output_type": "stream",
     "text": [
      "Results\n",
      "[('p', 'http://www.wikidata.org/prop/direct/P27'), ('pName', 'country of citizenship'), ('o', 'http://www.wikidata.org/entity/Q16'), ('oName', 'Canada')]\n",
      "[('p', 'http://www.wikidata.org/prop/direct/P734'), ('pName', 'family name'), ('o', 'http://www.wikidata.org/entity/Q2018583'), ('oName', 'Smulders')]\n",
      "[('p', 'http://www.wikidata.org/prop/direct/P735'), ('pName', 'given name'), ('o', 'http://www.wikidata.org/entity/Q325872'), ('oName', 'Maria')]\n",
      "[('p', 'http://www.wikidata.org/prop/direct/P735'), ('pName', 'given name'), ('o', 'http://www.wikidata.org/entity/Q15208593'), ('oName', 'Francisca')]\n",
      "[('p', 'http://www.wikidata.org/prop/direct/P735'), ('pName', 'given name'), ('o', 'http://www.wikidata.org/entity/Q6119607'), ('oName', 'Jacoba')]\n",
      "[('p', 'http://www.wikidata.org/prop/direct/P31'), ('pName', 'instance of'), ('o', 'http://www.wikidata.org/entity/Q5'), ('oName', 'human')]\n",
      "[('p', 'http://www.wikidata.org/prop/direct/P1412'), ('pName', 'languages spoken, written or signed'), ('o', 'http://www.wikidata.org/entity/Q1860'), ('oName', 'English')]\n",
      "[('p', 'http://www.wikidata.org/prop/direct/P106'), ('pName', 'occupation'), ('o', 'http://www.wikidata.org/entity/Q10798782'), ('oName', 'television actor')]\n",
      "[('p', 'http://www.wikidata.org/prop/direct/P106'), ('pName', 'occupation'), ('o', 'http://www.wikidata.org/entity/Q10800557'), ('oName', 'film actor')]\n",
      "[('p', 'http://www.wikidata.org/prop/direct/P106'), ('pName', 'occupation'), ('o', 'http://www.wikidata.org/entity/Q2259451'), ('oName', 'stage actor')]\n",
      "[('p', 'http://www.wikidata.org/prop/direct/P106'), ('pName', 'occupation'), ('o', 'http://www.wikidata.org/entity/Q4610556'), ('oName', 'model')]\n",
      "[('p', 'http://www.wikidata.org/prop/direct/P19'), ('pName', 'place of birth'), ('o', 'http://www.wikidata.org/entity/Q24639'), ('oName', 'Vancouver')]\n",
      "[('p', 'http://www.wikidata.org/prop/direct/P551'), ('pName', 'residence'), ('o', 'http://www.wikidata.org/entity/Q65'), ('oName', 'Los Angeles')]\n",
      "[('p', 'http://www.wikidata.org/prop/direct/P21'), ('pName', 'sex or gender'), ('o', 'http://www.wikidata.org/entity/Q6581072'), ('oName', 'female')]\n",
      "[('p', 'http://www.wikidata.org/prop/direct/P26'), ('pName', 'spouse'), ('o', 'http://www.wikidata.org/entity/Q2706805'), ('oName', 'Taran Killam')]\n",
      "15\n"
     ]
    }
   ],
   "source": [
    "# retrieve all the object propertis of a specific actor : Cobie Smulders \n",
    "queryString = \"\"\"\n",
    "SELECT ?p ?pName ?o ?oName WHERE { \n",
    "\n",
    "    # Connecting Cobie Smulders to something\n",
    "    wd:Q200566  ?p  ?o .\n",
    "    \n",
    "    # This returns the labels\n",
    "    ?p <http://schema.org/name> ?pName .\n",
    "    ?o <http://schema.org/name> ?oName .\n",
    "}\n",
    "ORDER BY ?pName\n",
    "\"\"\"\n",
    "\n",
    "print(\"Results\")\n",
    "x = run_query(queryString)"
   ]
  },
  {
   "cell_type": "markdown",
   "metadata": {},
   "source": [
    "Maybe there are connection in the opposite direction: ***?s ?p wd:Q200566***."
   ]
  },
  {
   "cell_type": "code",
   "execution_count": 20,
   "metadata": {},
   "outputs": [
    {
     "name": "stdout",
     "output_type": "stream",
     "text": [
      "Results\n",
      "[('s', 'http://www.wikidata.org/entity/Q21866873'), ('sName', 'The Intervention'), ('p', 'http://www.wikidata.org/prop/direct/P161'), ('pName', 'cast member')]\n",
      "[('s', 'http://www.wikidata.org/entity/Q537911'), ('sName', 'Agents of S.H.I.E.L.D.'), ('p', 'http://www.wikidata.org/prop/direct/P161'), ('pName', 'cast member')]\n",
      "[('s', 'http://www.wikidata.org/entity/Q51963292'), ('sName', 'Marvel Cinematic Universe Phase One'), ('p', 'http://www.wikidata.org/prop/direct/P161'), ('pName', 'cast member')]\n",
      "[('s', 'http://www.wikidata.org/entity/Q63405798'), ('sName', 'The Infinity Saga'), ('p', 'http://www.wikidata.org/prop/direct/P161'), ('pName', 'cast member')]\n",
      "[('s', 'http://www.wikidata.org/entity/Q65070140'), ('sName', 'Stumptown'), ('p', 'http://www.wikidata.org/prop/direct/P161'), ('pName', 'cast member')]\n",
      "[('s', 'http://www.wikidata.org/entity/Q11696021'), ('sName', 'Nothing Good Happens After 2 A.M.'), ('p', 'http://www.wikidata.org/prop/direct/P161'), ('pName', 'cast member')]\n",
      "[('s', 'http://www.wikidata.org/entity/Q1327587'), ('sName', 'Okay Awesome'), ('p', 'http://www.wikidata.org/prop/direct/P161'), ('pName', 'cast member')]\n",
      "[('s', 'http://www.wikidata.org/entity/Q3480575'), ('sName', 'Return of the Shirt'), ('p', 'http://www.wikidata.org/prop/direct/P161'), ('pName', 'cast member')]\n",
      "[('s', 'http://www.wikidata.org/entity/Q467447'), ('sName', 'Pilot'), ('p', 'http://www.wikidata.org/prop/direct/P161'), ('pName', 'cast member')]\n",
      "[('s', 'http://www.wikidata.org/entity/Q468587'), ('sName', 'Purple Giraffe'), ('p', 'http://www.wikidata.org/prop/direct/P161'), ('pName', 'cast member')]\n",
      "[('s', 'http://www.wikidata.org/entity/Q471448'), ('sName', 'Sweet Taste of Liberty'), ('p', 'http://www.wikidata.org/prop/direct/P161'), ('pName', 'cast member')]\n",
      "[('s', 'http://www.wikidata.org/entity/Q4809956'), ('sName', 'Game Night'), ('p', 'http://www.wikidata.org/prop/direct/P161'), ('pName', 'cast member')]\n",
      "[('s', 'http://www.wikidata.org/entity/Q4817584'), ('sName', 'Drumroll, Please'), ('p', 'http://www.wikidata.org/prop/direct/P161'), ('pName', 'cast member')]\n",
      "[('s', 'http://www.wikidata.org/entity/Q4818636'), ('sName', 'Life Among the Gorillas'), ('p', 'http://www.wikidata.org/prop/direct/P161'), ('pName', 'cast member')]\n",
      "[('s', 'http://www.wikidata.org/entity/Q4818989'), ('sName', 'Cupcake'), ('p', 'http://www.wikidata.org/prop/direct/P161'), ('pName', 'cast member')]\n",
      "[('s', 'http://www.wikidata.org/entity/Q4819005'), ('sName', 'The Wedding'), ('p', 'http://www.wikidata.org/prop/direct/P161'), ('pName', 'cast member')]\n",
      "[('s', 'http://www.wikidata.org/entity/Q4884249'), ('sName', 'Belly Full of Turkey'), ('p', 'http://www.wikidata.org/prop/direct/P161'), ('pName', 'cast member')]\n",
      "[('s', 'http://www.wikidata.org/entity/Q5151207'), ('sName', 'Come On'), ('p', 'http://www.wikidata.org/prop/direct/P161'), ('pName', 'cast member')]\n",
      "[('s', 'http://www.wikidata.org/entity/Q6781049'), ('sName', 'Mary the Paralegal'), ('p', 'http://www.wikidata.org/prop/direct/P161'), ('pName', 'cast member')]\n",
      "[('s', 'http://www.wikidata.org/entity/Q6857975'), ('sName', 'Milk'), ('p', 'http://www.wikidata.org/prop/direct/P161'), ('pName', 'cast member')]\n",
      "20\n"
     ]
    }
   ],
   "source": [
    "# look at the opposite direction\n",
    "queryString = \"\"\"\n",
    "SELECT ?s ?sName ?p ?pName WHERE { \n",
    "\n",
    "    # Connecting something to Cobie Smulders\n",
    "    ?s ?p wd:Q200566 .\n",
    "    \n",
    "    # This returns the labels\n",
    "    ?p <http://schema.org/name> ?pName .\n",
    "    ?s <http://schema.org/name> ?sName .\n",
    "}\n",
    "ORDER BY ?pName\n",
    "LIMIT 20\n",
    "\"\"\"\n",
    "\n",
    "print(\"Results\")\n",
    "x = run_query(queryString)"
   ]
  },
  {
   "cell_type": "markdown",
   "metadata": {},
   "source": [
    "I can use the property ***cast member (wdt:P161)*** as before, but I need to understand how to select only films and not other TV series.\n",
    "\n",
    "I use the property ***instanceOf (wdt:P31)*** on ***Avengers: Infinity War (wd:Q23780914)***."
   ]
  },
  {
   "cell_type": "code",
   "execution_count": 21,
   "metadata": {},
   "outputs": [
    {
     "name": "stdout",
     "output_type": "stream",
     "text": [
      "Results\n",
      "[('class', 'http://www.wikidata.org/entity/Q11424'), ('className', 'film')]\n",
      "1\n"
     ]
    }
   ],
   "source": [
    "# instance of a film\n",
    "queryString = \"\"\"\n",
    "SELECT ?class ?className WHERE { \n",
    "\n",
    "    # Retrieve class of Avengers Infinity War\n",
    "    wd:Q23780914 wdt:P31 ?class .\n",
    "    \n",
    "    # This returns the labels\n",
    "    ?class <http://schema.org/name> ?className .\n",
    "}\n",
    "\"\"\"\n",
    "\n",
    "print(\"Results\")\n",
    "x = run_query(queryString)"
   ]
  },
  {
   "cell_type": "markdown",
   "metadata": {},
   "source": [
    "I retrieved ***film (wd:Q11424)***. Now, I can retrieve only the films of a specific actor : ***Cobie Smulders (wd:Q200566)***."
   ]
  },
  {
   "cell_type": "code",
   "execution_count": 22,
   "metadata": {},
   "outputs": [
    {
     "name": "stdout",
     "output_type": "stream",
     "text": [
      "Results\n",
      "[('film', 'http://www.wikidata.org/entity/Q14171368'), ('filmName', 'Avengers: Age of Ultron')]\n",
      "[('film', 'http://www.wikidata.org/entity/Q23781155'), ('filmName', 'Avengers: Endgame')]\n",
      "[('film', 'http://www.wikidata.org/entity/Q23780914'), ('filmName', 'Avengers: Infinity War')]\n",
      "[('film', 'http://www.wikidata.org/entity/Q1765358'), ('filmName', 'Captain America: The Winter Soldier')]\n",
      "[('film', 'http://www.wikidata.org/entity/Q7729669'), ('filmName', 'Delivery Man')]\n",
      "[('film', 'http://www.wikidata.org/entity/Q3012583'), ('filmName', 'Grassroots')]\n",
      "[('film', 'http://www.wikidata.org/entity/Q21168538'), ('filmName', 'Jack Reacher: Never Go Back')]\n",
      "[('film', 'http://www.wikidata.org/entity/Q27663881'), ('filmName', 'Killing Gunther')]\n",
      "[('film', 'http://www.wikidata.org/entity/Q27888468'), ('filmName', 'Lennon or McCartney')]\n",
      "[('film', 'http://www.wikidata.org/entity/Q18703883'), ('filmName', 'Results')]\n",
      "[('film', 'http://www.wikidata.org/entity/Q1767513'), ('filmName', 'Safe Haven')]\n",
      "[('film', 'http://www.wikidata.org/entity/Q27985819'), ('filmName', 'Spider-Man: Far from Home')]\n",
      "[('film', 'http://www.wikidata.org/entity/Q182218'), ('filmName', 'The Avengers')]\n",
      "[('film', 'http://www.wikidata.org/entity/Q21866873'), ('filmName', 'The Intervention')]\n",
      "[('film', 'http://www.wikidata.org/entity/Q1347959'), ('filmName', 'The Long Weekend')]\n",
      "[('film', 'http://www.wikidata.org/entity/Q1131162'), ('filmName', \"The Slammin' Salmon\")]\n",
      "[('film', 'http://www.wikidata.org/entity/Q17113214'), ('filmName', 'They Came Together')]\n",
      "[('film', 'http://www.wikidata.org/entity/Q19264031'), ('filmName', 'Unexpected')]\n",
      "[('film', 'http://www.wikidata.org/entity/Q919363'), ('filmName', 'Walking Tall')]\n",
      "19\n"
     ]
    }
   ],
   "source": [
    "# retrieve only the films of a specific actor : Cobie Smulders\n",
    "queryString = \"\"\"\n",
    "SELECT ?film ?filmName WHERE { \n",
    "\n",
    "    # Retrieve films in which Cobie Smulders acted\n",
    "    ?film  wdt:P161 wd:Q200566 ;\n",
    "           wdt:P31  wd:Q11424  .\n",
    "    \n",
    "    # This returns the labels\n",
    "    ?film <http://schema.org/name> ?filmName .\n",
    "}\n",
    "ORDER BY ?filmName\n",
    "\"\"\"\n",
    "\n",
    "print(\"Results\")\n",
    "x = run_query(queryString)"
   ]
  },
  {
   "cell_type": "markdown",
   "metadata": {},
   "source": [
    "I have to retrieve the publication date of a film. I check if there is a property of ***Avengers: Infinity War (wd:Q23780914)*** that contains the word \"date\"."
   ]
  },
  {
   "cell_type": "code",
   "execution_count": 23,
   "metadata": {},
   "outputs": [
    {
     "name": "stdout",
     "output_type": "stream",
     "text": [
      "Results\n",
      "[('p', 'http://www.wikidata.org/prop/direct/P577'), ('pName', 'publication date')]\n",
      "1\n"
     ]
    }
   ],
   "source": [
    "# find publication date of a film\n",
    "queryString = \"\"\"\n",
    "SELECT DISTINCT ?p ?pName WHERE { \n",
    "\n",
    "    # Connect something to Avengers Infinity War\n",
    "    wd:Q23780914 ?p ?o.\n",
    "    \n",
    "    # This returns the labels\n",
    "    ?p <http://schema.org/name> ?pName .\n",
    "    \n",
    "    # I use a regex to search a property that contains the word \"date\"\n",
    "    FILTER(REGEX(?pName, \"date\"))\n",
    "}\n",
    "\"\"\"\n",
    "\n",
    "print(\"Results\")\n",
    "x = run_query(queryString)"
   ]
  },
  {
   "cell_type": "markdown",
   "metadata": {},
   "source": [
    "So to retrieve the publication date of a ***film (wd:Q11424)***, I can use the property ***publication date (wdt:P577)***.\n",
    "\n",
    "Now I can finally answer to the initial question: who is the actor who acted in more films while working on ***\"How I met your mother\" (wd:Q147235)***."
   ]
  },
  {
   "cell_type": "code",
   "execution_count": 24,
   "metadata": {},
   "outputs": [
    {
     "name": "stdout",
     "output_type": "stream",
     "text": [
      "Results\n",
      "[('actor', 'http://www.wikidata.org/entity/Q192165'), ('actorName', 'Danny Glover'), ('numFilms', '40')]\n",
      "[('actor', 'http://www.wikidata.org/entity/Q229669'), ('actorName', 'Malin Åkerman'), ('numFilms', '21')]\n",
      "[('actor', 'http://www.wikidata.org/entity/Q469579'), ('actorName', 'Mircea Monroe'), ('numFilms', '19')]\n",
      "[('actor', 'http://www.wikidata.org/entity/Q236189'), ('actorName', 'Judy Greer'), ('numFilms', '18')]\n",
      "[('actor', 'http://www.wikidata.org/entity/Q1319539'), ('actorName', 'Thomas Lennon'), ('numFilms', '18')]\n",
      "[('actor', 'http://www.wikidata.org/entity/Q1319744'), ('actorName', 'Will Forte'), ('numFilms', '17')]\n",
      "[('actor', 'http://www.wikidata.org/entity/Q1189470'), ('actorName', 'Jimmi Simpson'), ('numFilms', '16')]\n",
      "[('actor', 'http://www.wikidata.org/entity/Q566037'), ('actorName', 'Scoot McNairy'), ('numFilms', '16')]\n",
      "[('actor', 'http://www.wikidata.org/entity/Q530646'), ('actorName', 'Ray Wise'), ('numFilms', '16')]\n",
      "[('actor', 'http://www.wikidata.org/entity/Q716936'), ('actorName', 'Joe Lo Truglio'), ('numFilms', '15')]\n",
      "10\n"
     ]
    }
   ],
   "source": [
    "# find the final result \n",
    "queryString = \"\"\"\n",
    "SELECT ?actor ?actorName COUNT(DISTINCT ?film) AS ?numFilms WHERE { \n",
    "\n",
    "    # Retrieve all the HIMYM cast members\n",
    "    wd:Q147235 wdt:P161 ?actor .\n",
    "    \n",
    "    # Retrieve films in which actor of HIMYM acted\n",
    "    ?film  wdt:P31   wd:Q11424         ;\n",
    "           wdt:P161  ?actor            ;\n",
    "           wdt:P577  ?publicationDate  .\n",
    "    \n",
    "    # This returns the labels\n",
    "    ?actor <http://schema.org/name> ?actorName .\n",
    "    \n",
    "    # Retrieving HIMYM startTime and endTime\n",
    "    wd:Q147235  wdt:P580  ?startTime ;\n",
    "                wdt:P582  ?endTime   . \n",
    "    \n",
    "    # I want only films that were published while the actor was working on \"How I met your mother\".\n",
    "    FILTER (?publicationDate > ?startTime AND ?publicationDate < ?endTime )\n",
    "}\n",
    "GROUP BY ?actor ?actorName\n",
    "ORDER BY DESC(?numFilms)\n",
    "LIMIT 10\n",
    "\"\"\"\n",
    "\n",
    "print(\"Results\")\n",
    "x = run_query(queryString)"
   ]
  },
  {
   "cell_type": "code",
   "execution_count": 25,
   "metadata": {},
   "outputs": [
    {
     "name": "stdout",
     "output_type": "stream",
     "text": [
      "The index of this workflow is: 2_4\n",
      "The path is /locale/data/jupyter/prando/esw/tracks/2022/ground_truths/gt_json/workflow2_4.json\n",
      "JSON object updated\n"
     ]
    }
   ],
   "source": [
    "## single literal associated to an URI\n",
    "objs = []\n",
    "for i in x:\n",
    "    f_uri = i[0][1]\n",
    "    f_name = i[1][1]\n",
    "    val = i[2][1]\n",
    "    obj = {}\n",
    "    obj[\"refers_to\"] = f_uri\n",
    "    obj[\"refers_to_name\"] = f_name\n",
    "    obj[\"check\"] = \"value\"\n",
    "    obj[\"value\"]= val\n",
    "    objs.append(obj)\n",
    "evaluation.add_result(evaluation.get_index_workflow(pt),\"4\", evaluation.TYPE_REFERRED ,\"value\", objs)"
   ]
  },
  {
   "cell_type": "markdown",
   "metadata": {},
   "source": [
    "The actor who acted in more films while working on \"How I met your mother\" is ***Danny Glover (wd:Q192165)*** with 40 films."
   ]
  },
  {
   "cell_type": "markdown",
   "metadata": {
    "tags": []
   },
   "source": [
    "### Task 5 \n",
    "Compare HIMYM with the tv series \"The Office (US)\" in terms of number of seasons, episods and cast members (the result set must be two elements -one for each tv series- of tv series IRI, label, #seasons, #episodes and #cast members).\n",
    "\n",
    "To compare the number of seasons and episodes I can rely on the same query used in Task 1."
   ]
  },
  {
   "cell_type": "code",
   "execution_count": 26,
   "metadata": {},
   "outputs": [
    {
     "name": "stdout",
     "output_type": "stream",
     "text": [
      "Results\n",
      "[('tv_series', 'http://www.wikidata.org/entity/Q23831'), ('name', 'The Office'), ('numEpisodes', '201'), ('numSeasons', '9')]\n",
      "[('tv_series', 'http://www.wikidata.org/entity/Q147235'), ('name', 'How I Met Your Mother'), ('numEpisodes', '208'), ('numSeasons', '9')]\n",
      "2\n"
     ]
    }
   ],
   "source": [
    "queryString = \"\"\"\n",
    "SELECT ?tv_series ?name ?numEpisodes ?numSeasons WHERE { \n",
    "    \n",
    "    VALUES ?tv_series { wd:Q147235 wd:Q23831 }\n",
    "    \n",
    "    # Retrieve numEpisodes and numSeasons\n",
    "    ?tv_series  wdt:P1113 ?numEpisodes ;\n",
    "                wdt:P2437 ?numSeasons .\n",
    "    ?tv_series sc:name ?name\n",
    "}\n",
    "GROUP BY ?tv_series ?name\n",
    "\"\"\"\n",
    "\n",
    "print(\"Results\")\n",
    "x = run_query(queryString)"
   ]
  },
  {
   "cell_type": "markdown",
   "metadata": {},
   "source": [
    "I can also retrieve who are the actors who partecipated in the highest number of episodes in ***The Office (US) (wd:Q23831)*** using the same query used in Task 2."
   ]
  },
  {
   "cell_type": "code",
   "execution_count": 27,
   "metadata": {},
   "outputs": [
    {
     "name": "stdout",
     "output_type": "stream",
     "text": [
      "Results\n",
      "[('actor', 'http://www.wikidata.org/entity/Q313039'), ('actorName', 'John Krasinski'), ('numEpisodes', '1')]\n",
      "[('actor', 'http://www.wikidata.org/entity/Q72077'), ('actorName', 'Ellie Kemper'), ('numEpisodes', '1')]\n",
      "[('actor', 'http://www.wikidata.org/entity/Q238877'), ('actorName', 'Jenna Fischer'), ('numEpisodes', '1')]\n",
      "[('actor', 'http://www.wikidata.org/entity/Q926912'), ('actorName', 'Craig Robinson'), ('numEpisodes', '1')]\n",
      "[('actor', 'http://www.wikidata.org/entity/Q254766'), ('actorName', 'Catherine Tate'), ('numEpisodes', '1')]\n",
      "[('actor', 'http://www.wikidata.org/entity/Q349548'), ('actorName', 'Rainn Wilson'), ('numEpisodes', '1')]\n",
      "[('actor', 'http://www.wikidata.org/entity/Q328790'), ('actorName', 'Ed Helms'), ('numEpisodes', '1')]\n",
      "7\n"
     ]
    }
   ],
   "source": [
    "queryString = \"\"\"\n",
    "SELECT ?actor ?actorName COUNT(DISTINCT ?episode) AS ?numEpisodes WHERE { \n",
    "\n",
    "    # Retrieve The Office episodes \n",
    "    wd:Q23831 wdt:P527{2} ?episode .\n",
    "    \n",
    "    # Retrieve cast members\n",
    "    ?episode wdt:P161 ?actor .\n",
    "    \n",
    "    # This returns the labels\n",
    "    ?actor <http://schema.org/name> ?actorName .\n",
    "}\n",
    "GROUP BY ?actor ?actorName\n",
    "ORDER BY DESC(?numEpisodes)\n",
    "LIMIT 10\n",
    "\"\"\"\n",
    "\n",
    "print(\"Results\")\n",
    "x = run_query(queryString)"
   ]
  },
  {
   "cell_type": "markdown",
   "metadata": {},
   "source": [
    "The results are quite strange, because I have only one episode for each actor. \n",
    "\n",
    "I want to check if there is any problem with the first part of the query."
   ]
  },
  {
   "cell_type": "code",
   "execution_count": 28,
   "metadata": {},
   "outputs": [
    {
     "name": "stdout",
     "output_type": "stream",
     "text": [
      "Results\n",
      "[('episode', 'http://www.wikidata.org/entity/Q4838397'), ('episodeName', 'Baby Shower')]\n",
      "[('episode', 'http://www.wikidata.org/entity/Q5001718'), ('episodeName', 'Business Ethics')]\n",
      "[('episode', 'http://www.wikidata.org/entity/Q5185169'), ('episodeName', 'Crime Aid')]\n",
      "[('episode', 'http://www.wikidata.org/entity/Q5017095'), ('episodeName', 'Cafe Disco')]\n",
      "[('episode', 'http://www.wikidata.org/entity/Q5050849'), ('episodeName', 'Casual Friday')]\n",
      "[('episode', 'http://www.wikidata.org/entity/Q5155530'), ('episodeName', 'Company Picnic')]\n",
      "[('episode', 'http://www.wikidata.org/entity/Q5178024'), ('episodeName', 'Couples Discount')]\n",
      "[('episode', 'http://www.wikidata.org/entity/Q6927074'), ('episodeName', 'Moving On')]\n",
      "[('episode', 'http://www.wikidata.org/entity/Q7914333'), ('episodeName', 'Vandalism')]\n",
      "[('episode', 'http://www.wikidata.org/entity/Q5111408'), ('episodeName', 'Christmas Party')]\n",
      "10\n"
     ]
    }
   ],
   "source": [
    "queryString = \"\"\"\n",
    "SELECT ?episode ?episodeName WHERE { \n",
    "\n",
    "    # Retrieve The Office episodes \n",
    "    wd:Q23831 wdt:P527{2} ?episode .\n",
    "    \n",
    "    # This returns the labels\n",
    "    ?episode <http://schema.org/name> ?episodeName .\n",
    "}\n",
    "LIMIT 10\n",
    "\"\"\"\n",
    "\n",
    "print(\"Results\")\n",
    "x = run_query(queryString)"
   ]
  },
  {
   "cell_type": "markdown",
   "metadata": {},
   "source": [
    "The episodes are retrieved correctly.\n",
    "\n",
    "Maybe there is a problem with the property ***cast member (wdt:P161)***. I show all the properties of a single episode: ***Ultimatum (wd:Q7880294)***"
   ]
  },
  {
   "cell_type": "code",
   "execution_count": 29,
   "metadata": {},
   "outputs": [
    {
     "name": "stdout",
     "output_type": "stream",
     "text": [
      "Results\n",
      "[('p', 'http://www.wikidata.org/prop/direct/P495'), ('pName', 'country of origin'), ('o', 'http://www.wikidata.org/entity/Q30'), ('oName', 'United States of America')]\n",
      "[('p', 'http://www.wikidata.org/prop/direct/P57'), ('pName', 'director'), ('o', 'http://www.wikidata.org/entity/Q5239168'), ('oName', 'David Rogers')]\n",
      "[('p', 'http://www.wikidata.org/prop/direct/P750'), ('pName', 'distributed by'), ('o', 'http://www.wikidata.org/entity/Q5371838'), ('oName', 'Vudu')]\n",
      "[('p', 'http://www.wikidata.org/prop/direct/P437'), ('pName', 'distribution format'), ('o', 'http://www.wikidata.org/entity/Q723685'), ('oName', 'video on demand')]\n",
      "[('p', 'http://www.wikidata.org/prop/direct/P156'), ('pName', 'followed by'), ('o', 'http://www.wikidata.org/entity/Q7763280'), ('oName', 'The Seminar')]\n",
      "[('p', 'http://www.wikidata.org/prop/direct/P155'), ('pName', 'follows'), ('o', 'http://www.wikidata.org/entity/Q5128465'), ('oName', 'Classy Christmas')]\n",
      "[('p', 'http://www.wikidata.org/prop/direct/P31'), ('pName', 'instance of'), ('o', 'http://www.wikidata.org/entity/Q21191270'), ('oName', 'television series episode')]\n",
      "[('p', 'http://www.wikidata.org/prop/direct/P364'), ('pName', 'original language of film or TV show'), ('o', 'http://www.wikidata.org/entity/Q1860'), ('oName', 'English')]\n",
      "[('p', 'http://www.wikidata.org/prop/direct/P179'), ('pName', 'part of the series'), ('o', 'http://www.wikidata.org/entity/Q23831'), ('oName', 'The Office')]\n",
      "[('p', 'http://www.wikidata.org/prop/direct/P58'), ('pName', 'screenwriter'), ('o', 'http://www.wikidata.org/entity/Q5046253'), ('oName', 'Carrie Kemper')]\n",
      "[('p', 'http://www.wikidata.org/prop/direct/P4908'), ('pName', 'season'), ('o', 'http://www.wikidata.org/entity/Q3730263'), ('oName', 'The Office, season 7')]\n",
      "[('p', 'http://www.wikidata.org/prop/direct/P9215'), ('pName', 'set during recurring event'), ('o', 'http://www.wikidata.org/entity/Q34812'), ('oName', 'New Year')]\n",
      "12\n"
     ]
    }
   ],
   "source": [
    "queryString = \"\"\"\n",
    "SELECT ?p ?pName ?o ?oName WHERE { \n",
    "\n",
    "    # Connecting Ultimatum to something\n",
    "    wd:Q7880294  ?p  ?o .\n",
    "    \n",
    "    # This returns the labels\n",
    "    ?p <http://schema.org/name> ?pName .\n",
    "    ?o <http://schema.org/name> ?oName .\n",
    "}\n",
    "ORDER BY ?pName\n",
    "\"\"\"\n",
    "\n",
    "print(\"Results\")\n",
    "x = run_query(queryString)"
   ]
  },
  {
   "cell_type": "markdown",
   "metadata": {},
   "source": [
    "Ok so the episodes of ***The Office (US) (wd:Q23831)*** do not have the property ***cast member (wdt:P161)*** as for HIMYM episodes.\n",
    "\n",
    "The only way to retrieve the actors of the TV series, is using ***cast member (wdt:P161)*** directly on the TV Series ( ***The Office (US) (wd:Q23831)*** )."
   ]
  },
  {
   "cell_type": "code",
   "execution_count": 30,
   "metadata": {},
   "outputs": [
    {
     "name": "stdout",
     "output_type": "stream",
     "text": [
      "Results\n",
      "[('actor', 'http://www.wikidata.org/entity/Q1050211'), ('actorName', 'Leslie David Baker')]\n",
      "[('actor', 'http://www.wikidata.org/entity/Q1139248'), ('actorName', 'Oscar Nunez')]\n",
      "[('actor', 'http://www.wikidata.org/entity/Q216221'), ('actorName', 'Steve Carell')]\n",
      "[('actor', 'http://www.wikidata.org/entity/Q2238008'), ('actorName', 'Creed Bratton')]\n",
      "[('actor', 'http://www.wikidata.org/entity/Q231203'), ('actorName', 'Amy Ryan')]\n",
      "[('actor', 'http://www.wikidata.org/entity/Q238877'), ('actorName', 'Jenna Fischer')]\n",
      "[('actor', 'http://www.wikidata.org/entity/Q254766'), ('actorName', 'Catherine Tate')]\n",
      "[('actor', 'http://www.wikidata.org/entity/Q2669971'), ('actorName', 'Angela Kinsey')]\n",
      "[('actor', 'http://www.wikidata.org/entity/Q2671438'), ('actorName', 'Paul Lieberstein')]\n",
      "[('actor', 'http://www.wikidata.org/entity/Q269901'), ('actorName', 'Melora Hardin')]\n",
      "[('actor', 'http://www.wikidata.org/entity/Q2924850'), ('actorName', 'Brian Baumgartner')]\n",
      "[('actor', 'http://www.wikidata.org/entity/Q296928'), ('actorName', 'James Spader')]\n",
      "[('actor', 'http://www.wikidata.org/entity/Q3028200'), ('actorName', 'Kate Flannery')]\n",
      "[('actor', 'http://www.wikidata.org/entity/Q313039'), ('actorName', 'John Krasinski')]\n",
      "[('actor', 'http://www.wikidata.org/entity/Q328790'), ('actorName', 'Ed Helms')]\n",
      "[('actor', 'http://www.wikidata.org/entity/Q349548'), ('actorName', 'Rainn Wilson')]\n",
      "[('actor', 'http://www.wikidata.org/entity/Q459925'), ('actorName', 'B. J. Novak')]\n",
      "[('actor', 'http://www.wikidata.org/entity/Q508280'), ('actorName', 'Phyllis Smith')]\n",
      "[('actor', 'http://www.wikidata.org/entity/Q512818'), ('actorName', 'Clark Duke')]\n",
      "[('actor', 'http://www.wikidata.org/entity/Q539917'), ('actorName', 'Mindy Kaling')]\n",
      "[('actor', 'http://www.wikidata.org/entity/Q6124807'), ('actorName', 'Jake Lacy')]\n",
      "[('actor', 'http://www.wikidata.org/entity/Q64560'), ('actorName', 'David Denman')]\n",
      "[('actor', 'http://www.wikidata.org/entity/Q72077'), ('actorName', 'Ellie Kemper')]\n",
      "[('actor', 'http://www.wikidata.org/entity/Q8063863'), ('actorName', 'Zach Woods')]\n",
      "[('actor', 'http://www.wikidata.org/entity/Q926912'), ('actorName', 'Craig Robinson')]\n",
      "25\n"
     ]
    }
   ],
   "source": [
    "queryString = \"\"\"\n",
    "SELECT DISTINCT ?actor ?actorName WHERE { \n",
    "\n",
    "    # Retrieve The Office episodes \n",
    "    wd:Q23831 wdt:P161 ?actor .\n",
    "    \n",
    "    # This returns the labels\n",
    "    ?actor <http://schema.org/name> ?actorName .\n",
    "}\n",
    "\"\"\"\n",
    "\n",
    "print(\"Results\")\n",
    "x = run_query(queryString)"
   ]
  },
  {
   "cell_type": "markdown",
   "metadata": {},
   "source": [
    "I want to check which TV series has the largest cast between ***The Office (US) (wd:Q23831)*** and ***\"How I met your mother\" (wd:Q147235)***."
   ]
  },
  {
   "cell_type": "code",
   "execution_count": 31,
   "metadata": {},
   "outputs": [
    {
     "name": "stdout",
     "output_type": "stream",
     "text": [
      "Results\n",
      "[('tv_series', 'http://www.wikidata.org/entity/Q147235'), ('name', 'How I Met Your Mother'), ('numSeasons', '9'), ('numEpisodes', '208'), ('numActors', '480')]\n",
      "[('tv_series', 'http://www.wikidata.org/entity/Q23831'), ('name', 'The Office'), ('numSeasons', '9'), ('numEpisodes', '201'), ('numActors', '25')]\n",
      "2\n"
     ]
    }
   ],
   "source": [
    "queryString = \"\"\"\n",
    "SELECT ?tv_series ?name ?numSeasons ?numEpisodes (COUNT(DISTINCT ?actor) AS ?numActors) WHERE { \n",
    "    \n",
    "    VALUES ?tv_series { wd:Q147235 wd:Q23831 }\n",
    "\n",
    "    # Retrieve actors\n",
    "    ?tv_series wdt:P161 ?actor ;\n",
    "                wdt:P1113 ?numEpisodes ;\n",
    "                wdt:P2437 ?numSeasons .\n",
    "        \n",
    "    ?tv_series sc:name ?name.\n",
    "}\n",
    "GROUP BY ?tv_series ?name ?numSeasons  ?numEpisodes \n",
    "\"\"\"\n",
    "\n",
    "print(\"Results\")\n",
    "x = run_query(queryString)"
   ]
  },
  {
   "cell_type": "code",
   "execution_count": 32,
   "metadata": {},
   "outputs": [
    {
     "name": "stdout",
     "output_type": "stream",
     "text": [
      "The index of this workflow is: 2_4\n",
      "The path is /locale/data/jupyter/prando/esw/tracks/2022/ground_truths/gt_json/workflow2_4.json\n",
      "JSON object updated\n"
     ]
    }
   ],
   "source": [
    "## more literals associated to the same element\n",
    "objs = []\n",
    "for i in x:\n",
    "    f_uri = i[0][1]\n",
    "    f_name = i[1][1]\n",
    "    seasons = i[2][1]\n",
    "    episodes = i[3][1]\n",
    "    actors = i[4][1]\n",
    "    for val in [seasons,episodes,actors]:\n",
    "        obj = {}\n",
    "        obj[\"refers_to\"] = f_uri\n",
    "        obj[\"refers_to_name\"] = f_name\n",
    "        obj[\"check\"] = \"value\"\n",
    "        obj[\"value\"]= val\n",
    "        objs.append(obj)\n",
    "evaluation.add_result(evaluation.get_index_workflow(pt),\"6\", evaluation.TYPE_REFERRED ,\"value\", objs, elements_per_tuple = 4)"
   ]
  },
  {
   "cell_type": "markdown",
   "metadata": {},
   "source": [
    "\n",
    "Both ***\"How I met your mother\" (wd:Q147235)*** and ***The Office (US) (wd:Q23831)*** have nine season but HIMYM has 208 episodes while \"The Office\" has 201 episodes.\n",
    "\n",
    "In ***\"How I met your mother\" (wd:Q147235)*** there are 480 actors, while in ***The Office (US) (wd:Q23831)*** only 25. \n",
    "\n",
    "Moreover, it is not possibile to determine who are the most present actors in ***The Office (US) (wd:Q23831)***, since the episodes of this TV series do not have the property ***cast member (wdt:P161)***.\n",
    "\n",
    "Finally, I discovered that there are no common actors between ***\"How I met your mother\" (wd:Q147235)*** and ***The Office (US) (wd:Q23831)***."
   ]
  },
  {
   "cell_type": "markdown",
   "metadata": {},
   "source": [
    "### Task 7 : Return how many of the actors who are members of the cast of the tv series have [Kavin Bacon number](https://en.wikipedia.org/wiki/Six_Degrees_of_Kevin_Bacon#:~:text=Kevin%20Bacon%20himself%20has%20a,Bacon%20number%20is%20N%2B1.) equal to 2\n",
    "\n",
    "The Bacon number of an actor is the number of degrees of separation he or she has from Kevin Bacon. So, first af all, I need to retrieve Kevin Bacon.\n",
    "\n",
    "To do this, I can use a ***REGEX*** on the surname connect through the property ***family name (wdt:P734)*** discovered in a previous query."
   ]
  },
  {
   "cell_type": "code",
   "execution_count": 35,
   "metadata": {},
   "outputs": [
    {
     "name": "stdout",
     "output_type": "stream",
     "text": [
      "Results\n",
      "[('person', 'http://www.wikidata.org/entity/Q3116093'), ('personName', 'Irving Bacon'), ('personSurname', 'Bacon')]\n",
      "[('person', 'http://www.wikidata.org/entity/Q3454165'), ('personName', 'Kevin Bacon'), ('personSurname', 'Bacon')]\n",
      "[('person', 'http://www.wikidata.org/entity/Q3102228'), ('personName', 'Georges Baconnet'), ('personSurname', 'Baconnet')]\n",
      "[('person', 'http://www.wikidata.org/entity/Q503597'), ('personName', 'James Bacon'), ('personSurname', 'Bacon')]\n",
      "[('person', 'http://www.wikidata.org/entity/Q3992438'), ('personName', 'Tom Bacon'), ('personSurname', 'Bacon')]\n",
      "[('person', 'http://www.wikidata.org/entity/Q3491343'), ('personName', 'Sosie Bacon'), ('personSurname', 'Bacon')]\n",
      "[('person', 'http://www.wikidata.org/entity/Q706678'), ('personName', 'Lloyd Bacon'), ('personSurname', 'Bacon')]\n",
      "[('person', 'http://www.wikidata.org/entity/Q65116263'), ('personName', 'Marco Bacon'), ('personSurname', 'Bacon')]\n",
      "[('person', 'http://www.wikidata.org/entity/Q5216474'), ('personName', 'Daniel Bacon'), ('personSurname', 'Bacon')]\n",
      "[('person', 'http://www.wikidata.org/entity/Q16031668'), ('personName', 'Frank Bacon'), ('personSurname', 'Bacon')]\n",
      "[('person', 'http://www.wikidata.org/entity/Q608866'), ('personName', 'Nicholas Bacon'), ('personSurname', 'Bacon')]\n",
      "[('person', 'http://www.wikidata.org/entity/Q21483293'), ('personName', 'Georges Baconnier'), ('personSurname', 'Baconnier')]\n",
      "[('person', 'http://www.wikidata.org/entity/Q5231033'), ('personName', 'David Bacon'), ('personSurname', 'Bacon')]\n",
      "[('person', 'http://www.wikidata.org/entity/Q154340'), ('personName', 'Francis Bacon'), ('personSurname', 'Bacon')]\n",
      "[('person', 'http://www.wikidata.org/entity/Q3186649'), ('personName', 'Joséphine Bacon'), ('personSurname', 'Bacon')]\n",
      "15\n"
     ]
    }
   ],
   "source": [
    "# find Kevin Bacon\n",
    "queryString = \"\"\"\n",
    "SELECT DISTINCT ?person ?personName ?personSurname WHERE { \n",
    "\n",
    "    # Retrieve surname of a person using the property family name\n",
    "    ?person wdt:P734 ?surname .\n",
    "    \n",
    "    # This returns the labels\n",
    "    ?person <http://schema.org/name> ?personName .\n",
    "    ?surname <http://schema.org/name> ?personSurname .\n",
    "\n",
    "    # Since Kevin Bacon is an actor, he probably acted in a film.\n",
    "    FILTER EXISTS{\n",
    "        ?film   wdt:P31   wd:Q11424 ;\n",
    "                wdt:P161  ?person   .             \n",
    "    }\n",
    "    \n",
    "    # I use a regex to search for a surname that contains the word \"Bacon\"\n",
    "    FILTER(REGEX(?personSurname, \"Bacon\"))\n",
    "    \n",
    "}\n",
    "LIMIT 10\n",
    "\"\"\"\n",
    "\n",
    "print(\"Results\")\n",
    "x = run_query(queryString)"
   ]
  },
  {
   "cell_type": "markdown",
   "metadata": {},
   "source": [
    "I have ***Kevin Bacon (wd:Q3454165)***. Now I can retrieve all the cast members of ***\"How I met your mother\" (wd:Q147235)*** with Kevin Bacon number equal to 2.\n",
    "\n",
    "First, I start with cast members that have a Kevin Bacon Number equal to 1."
   ]
  },
  {
   "cell_type": "code",
   "execution_count": 36,
   "metadata": {},
   "outputs": [
    {
     "name": "stdout",
     "output_type": "stream",
     "text": [
      "Results\n",
      "[('actor', 'http://www.wikidata.org/entity/Q234715'), ('actorName', 'Jamie-Lynn Sigler'), ('film', 'http://www.wikidata.org/entity/Q16167570'), ('filmName', 'Skum Rocks!')]\n",
      "[('actor', 'http://www.wikidata.org/entity/Q433355'), ('actorName', 'Patricia Belcher'), ('film', 'http://www.wikidata.org/entity/Q514348'), ('filmName', 'Flatliners')]\n",
      "[('actor', 'http://www.wikidata.org/entity/Q5357354'), ('actorName', 'Todd Stashwick'), ('film', 'http://www.wikidata.org/entity/Q370893'), ('filmName', 'The Air I Breathe')]\n",
      "[('actor', 'http://www.wikidata.org/entity/Q199929'), ('actorName', 'Jennifer Morrison'), ('film', 'http://www.wikidata.org/entity/Q17508638'), ('filmName', 'The Darkness')]\n",
      "[('actor', 'http://www.wikidata.org/entity/Q199929'), ('actorName', 'Jennifer Morrison'), ('film', 'http://www.wikidata.org/entity/Q975358'), ('filmName', 'Stir of Echoes')]\n",
      "[('actor', 'http://www.wikidata.org/entity/Q329744'), ('actorName', 'Martin Short'), ('film', 'http://www.wikidata.org/entity/Q339045'), ('filmName', 'The Big Picture')]\n",
      "[('actor', 'http://www.wikidata.org/entity/Q269891'), ('actorName', 'Julianna Guill'), ('film', 'http://www.wikidata.org/entity/Q519490'), ('filmName', 'Crazy, Stupid, Love.')]\n",
      "[('actor', 'http://www.wikidata.org/entity/Q362616'), ('actorName', 'Jon Bernthal'), ('film', 'http://www.wikidata.org/entity/Q370893'), ('filmName', 'The Air I Breathe')]\n",
      "[('actor', 'http://www.wikidata.org/entity/Q311271'), ('actorName', 'John Lithgow'), ('film', 'http://www.wikidata.org/entity/Q627533'), ('filmName', 'Footloose')]\n",
      "[('actor', 'http://www.wikidata.org/entity/Q234137'), ('actorName', 'Megan Mullally'), ('film', 'http://www.wikidata.org/entity/Q1476932'), ('filmName', 'Queens Logic')]\n",
      "[('actor', 'http://www.wikidata.org/entity/Q782662'), ('actorName', 'Michael Gross'), ('film', 'http://www.wikidata.org/entity/Q835650'), ('filmName', 'Tremors')]\n",
      "[('actor', 'http://www.wikidata.org/entity/Q312705'), ('actorName', 'John Cho'), ('film', 'http://www.wikidata.org/entity/Q370893'), ('filmName', 'The Air I Breathe')]\n",
      "[('actor', 'http://www.wikidata.org/entity/Q234514'), ('actorName', 'Camryn Manheim'), ('film', 'http://www.wikidata.org/entity/Q19824612'), ('filmName', 'Cop Car')]\n",
      "[('actor', 'http://www.wikidata.org/entity/Q268549'), ('actorName', 'Sherri Shepherd'), ('film', 'http://www.wikidata.org/entity/Q813464'), ('filmName', 'Beauty Shop')]\n",
      "[('actor', 'http://www.wikidata.org/entity/Q530646'), ('actorName', 'Ray Wise'), ('film', 'http://www.wikidata.org/entity/Q223596'), ('filmName', 'X-Men: First Class')]\n",
      "[('actor', 'http://www.wikidata.org/entity/Q1120700'), ('actorName', 'Orson Bean'), ('film', 'http://www.wikidata.org/entity/Q3005459'), ('filmName', 'Forty Deuce')]\n",
      "[('actor', 'http://www.wikidata.org/entity/Q1976946'), ('actorName', 'Rachel Specter'), ('film', 'http://www.wikidata.org/entity/Q990987'), ('filmName', 'My One and Only')]\n",
      "17\n"
     ]
    }
   ],
   "source": [
    "# find actors with Kevin Bacon Number equal to 1\n",
    "queryString = \"\"\"\n",
    "SELECT ?actor ?actorName ?film ?filmName WHERE { \n",
    "\n",
    "    # Retrieve HIMYM actors\n",
    "    wd:Q147235 wdt:P161 ?actor .\n",
    "    \n",
    "    # Ensure that the actor and Kevin Bacon worked together\n",
    "    ?film wdt:P161 ?actor      ;\n",
    "          wdt:P161 wd:Q3454165 .\n",
    "    \n",
    "    # This returns the labels\n",
    "    ?actor <http://schema.org/name> ?actorName .\n",
    "    ?film <http://schema.org/name> ?filmName .\n",
    "}\n",
    "\"\"\"\n",
    "\n",
    "print(\"Results\")\n",
    "x = run_query(queryString)"
   ]
  },
  {
   "cell_type": "markdown",
   "metadata": {},
   "source": [
    "Now I want only cast members of ***\"How I met your mother\" (wd:Q147235)*** that have a Kevin Bacon Number equal to 2."
   ]
  },
  {
   "cell_type": "code",
   "execution_count": 37,
   "metadata": {},
   "outputs": [
    {
     "name": "stdout",
     "output_type": "stream",
     "text": [
      "Results\n",
      "[('actor', 'http://www.wikidata.org/entity/Q44442'), ('actorName', 'Dan Castellaneta')]\n",
      "[('actor', 'http://www.wikidata.org/entity/Q1319744'), ('actorName', 'Will Forte')]\n",
      "[('actor', 'http://www.wikidata.org/entity/Q236189'), ('actorName', 'Judy Greer')]\n",
      "[('actor', 'http://www.wikidata.org/entity/Q4993338'), ('actorName', 'Ezra Buzzington')]\n",
      "[('actor', 'http://www.wikidata.org/entity/Q236766'), ('actorName', 'Maggie Wheeler')]\n",
      "[('actor', 'http://www.wikidata.org/entity/Q231006'), ('actorName', 'Jayma Mays')]\n",
      "[('actor', 'http://www.wikidata.org/entity/Q229349'), ('actorName', 'Heather Morris')]\n",
      "[('actor', 'http://www.wikidata.org/entity/Q171567'), ('actorName', 'Laura Prepon')]\n",
      "[('actor', 'http://www.wikidata.org/entity/Q220536'), ('actorName', 'Kal Penn')]\n",
      "[('actor', 'http://www.wikidata.org/entity/Q471018'), ('actorName', 'Ernie Hudson')]\n",
      "[('actor', 'http://www.wikidata.org/entity/Q594265'), ('actorName', 'Neil Jackson')]\n",
      "[('actor', 'http://www.wikidata.org/entity/Q202304'), ('actorName', 'Jason Segel')]\n",
      "[('actor', 'http://www.wikidata.org/entity/Q230176'), ('actorName', 'Danneel Ackles')]\n",
      "[('actor', 'http://www.wikidata.org/entity/Q733691'), ('actorName', 'Brad Rowe')]\n",
      "[('actor', 'http://www.wikidata.org/entity/Q376031'), ('actorName', 'Gary Anthony Williams')]\n",
      "[('actor', 'http://www.wikidata.org/entity/Q240720'), ('actorName', 'Deanna Russo')]\n",
      "[('actor', 'http://www.wikidata.org/entity/Q264787'), ('actorName', 'April Bowlby')]\n",
      "[('actor', 'http://www.wikidata.org/entity/Q321131'), ('actorName', 'Abigail Spencer')]\n",
      "[('actor', 'http://www.wikidata.org/entity/Q433138'), ('actorName', 'Pat Crawford Brown')]\n",
      "[('actor', 'http://www.wikidata.org/entity/Q470005'), ('actorName', 'Joe Manganiello')]\n",
      "[('actor', 'http://www.wikidata.org/entity/Q922264'), ('actorName', 'Eric Allan Kramer')]\n",
      "[('actor', 'http://www.wikidata.org/entity/Q1189102'), ('actorName', 'Nazanin Boniadi')]\n",
      "[('actor', 'http://www.wikidata.org/entity/Q3936377'), ('actorName', 'Nate Torrence')]\n",
      "[('actor', 'http://www.wikidata.org/entity/Q1806102'), ('actorName', 'Larry Poindexter')]\n",
      "[('actor', 'http://www.wikidata.org/entity/Q377424'), ('actorName', 'Chris Elliott')]\n",
      "[('actor', 'http://www.wikidata.org/entity/Q233882'), ('actorName', 'Frances Conroy')]\n",
      "[('actor', 'http://www.wikidata.org/entity/Q552889'), ('actorName', 'Marshall Manesh')]\n",
      "[('actor', 'http://www.wikidata.org/entity/Q152773'), ('actorName', 'Amy Acker')]\n",
      "[('actor', 'http://www.wikidata.org/entity/Q545172'), ('actorName', 'Matt Frewer')]\n",
      "[('actor', 'http://www.wikidata.org/entity/Q207506'), ('actorName', 'Kyle MacLachlan')]\n",
      "30\n"
     ]
    }
   ],
   "source": [
    "# find actors with Kevin Bacon Number equal to 2\n",
    "queryString = \"\"\"\n",
    "SELECT DISTINCT ?actor ?actorName WHERE { \n",
    "\n",
    "    # Retrieve HIMYM actors\n",
    "    wd:Q147235 wdt:P161 ?actor .\n",
    "    \n",
    "    # Ensure that the actor and worked together with another actor \"in the middle\"\n",
    "    ?filmMiddle wdt:P161 ?actor       ;\n",
    "                wdt:P161 ?actorMiddle .\n",
    "    \n",
    "    # Ensure that the actor \"in the middle\" worked with Kevin Bacon\n",
    "    ?film       wdt:P161 ?actorMiddle  ;\n",
    "                wdt:P161 wd:Q3454165 .\n",
    "    \n",
    "    # Ensure that the \"first\" actor and Kevin Bacon did not worked together\n",
    "    FILTER NOT EXISTS{\n",
    "        ?film3 wdt:P161 ?actor      ;\n",
    "               wdt:P161 wd:Q3454165 .\n",
    "    }\n",
    "    \n",
    "    # This returns the labels\n",
    "    ?actor <http://schema.org/name> ?actorName .\n",
    "}\n",
    "LIMIT 30\n",
    "\"\"\"\n",
    "\n",
    "print(\"Results\")\n",
    "x = run_query(queryString)"
   ]
  },
  {
   "cell_type": "code",
   "execution_count": 33,
   "metadata": {},
   "outputs": [
    {
     "name": "stdout",
     "output_type": "stream",
     "text": [
      "Results\n",
      "[('callret-0', '464')]\n",
      "1\n"
     ]
    }
   ],
   "source": [
    "queryString = \"\"\"\n",
    "SELECT COUNT(DISTINCT ?actor) WHERE { \n",
    "\n",
    "    # Retrieve HIMYM actors\n",
    "    wd:Q147235 wdt:P161 ?actor .\n",
    "    \n",
    "    # Ensure that the actor and worked together with another actor \"in the middle\"\n",
    "    ?filmMiddle wdt:P161 ?actor       ;\n",
    "                wdt:P161 ?actorMiddle .\n",
    "    \n",
    "    # Ensure that the actor \"in the middle\" worked with Kevin Bacon\n",
    "    ?film       wdt:P161 ?actorMiddle  ;\n",
    "                wdt:P161 wd:Q3454165 .\n",
    "    \n",
    "    # Ensure that the \"first\" actor and Kevin Bacon did not worked together\n",
    "    FILTER NOT EXISTS{\n",
    "        ?film3 wdt:P161 ?actor      ;\n",
    "               wdt:P161 wd:Q3454165 .\n",
    "        #FILTER(?film3 != ?film)\n",
    "    }\n",
    "    \n",
    "    # This returns the labels\n",
    "    ?actor <http://schema.org/name> ?actorName .\n",
    "}\n",
    "\"\"\"\n",
    "\n",
    "print(\"Results\")\n",
    "x = run_query(queryString)\n"
   ]
  },
  {
   "cell_type": "markdown",
   "metadata": {},
   "source": [
    "There are 464 actors who partecipated to ***\"How I met your mother\" (wd:Q147235)*** with Kevin Bacon Number equals to 2."
   ]
  },
  {
   "cell_type": "code",
   "execution_count": 35,
   "metadata": {},
   "outputs": [
    {
     "name": "stdout",
     "output_type": "stream",
     "text": [
      "Results\n",
      "[('actor', 'http://www.wikidata.org/entity/Q44442'), ('actorName', 'Dan Castellaneta')]\n",
      "[('actor', 'http://www.wikidata.org/entity/Q1319744'), ('actorName', 'Will Forte')]\n",
      "[('actor', 'http://www.wikidata.org/entity/Q236189'), ('actorName', 'Judy Greer')]\n",
      "[('actor', 'http://www.wikidata.org/entity/Q4993338'), ('actorName', 'Ezra Buzzington')]\n",
      "[('actor', 'http://www.wikidata.org/entity/Q236766'), ('actorName', 'Maggie Wheeler')]\n",
      "[('actor', 'http://www.wikidata.org/entity/Q231006'), ('actorName', 'Jayma Mays')]\n",
      "[('actor', 'http://www.wikidata.org/entity/Q229349'), ('actorName', 'Heather Morris')]\n",
      "[('actor', 'http://www.wikidata.org/entity/Q171567'), ('actorName', 'Laura Prepon')]\n",
      "[('actor', 'http://www.wikidata.org/entity/Q220536'), ('actorName', 'Kal Penn')]\n",
      "[('actor', 'http://www.wikidata.org/entity/Q471018'), ('actorName', 'Ernie Hudson')]\n",
      "[('actor', 'http://www.wikidata.org/entity/Q594265'), ('actorName', 'Neil Jackson')]\n",
      "[('actor', 'http://www.wikidata.org/entity/Q202304'), ('actorName', 'Jason Segel')]\n",
      "[('actor', 'http://www.wikidata.org/entity/Q230176'), ('actorName', 'Danneel Ackles')]\n",
      "[('actor', 'http://www.wikidata.org/entity/Q733691'), ('actorName', 'Brad Rowe')]\n",
      "[('actor', 'http://www.wikidata.org/entity/Q376031'), ('actorName', 'Gary Anthony Williams')]\n",
      "[('actor', 'http://www.wikidata.org/entity/Q240720'), ('actorName', 'Deanna Russo')]\n",
      "[('actor', 'http://www.wikidata.org/entity/Q264787'), ('actorName', 'April Bowlby')]\n",
      "[('actor', 'http://www.wikidata.org/entity/Q321131'), ('actorName', 'Abigail Spencer')]\n",
      "[('actor', 'http://www.wikidata.org/entity/Q433138'), ('actorName', 'Pat Crawford Brown')]\n",
      "[('actor', 'http://www.wikidata.org/entity/Q470005'), ('actorName', 'Joe Manganiello')]\n",
      "[('actor', 'http://www.wikidata.org/entity/Q922264'), ('actorName', 'Eric Allan Kramer')]\n",
      "[('actor', 'http://www.wikidata.org/entity/Q1189102'), ('actorName', 'Nazanin Boniadi')]\n",
      "[('actor', 'http://www.wikidata.org/entity/Q3936377'), ('actorName', 'Nate Torrence')]\n",
      "[('actor', 'http://www.wikidata.org/entity/Q1806102'), ('actorName', 'Larry Poindexter')]\n",
      "[('actor', 'http://www.wikidata.org/entity/Q377424'), ('actorName', 'Chris Elliott')]\n",
      "[('actor', 'http://www.wikidata.org/entity/Q233882'), ('actorName', 'Frances Conroy')]\n",
      "[('actor', 'http://www.wikidata.org/entity/Q552889'), ('actorName', 'Marshall Manesh')]\n",
      "[('actor', 'http://www.wikidata.org/entity/Q152773'), ('actorName', 'Amy Acker')]\n",
      "[('actor', 'http://www.wikidata.org/entity/Q545172'), ('actorName', 'Matt Frewer')]\n",
      "[('actor', 'http://www.wikidata.org/entity/Q207506'), ('actorName', 'Kyle MacLachlan')]\n",
      "[('actor', 'http://www.wikidata.org/entity/Q60036'), ('actorName', 'Heidi Klum')]\n",
      "[('actor', 'http://www.wikidata.org/entity/Q1150316'), ('actorName', 'Anna Camp')]\n",
      "[('actor', 'http://www.wikidata.org/entity/Q309900'), ('actorName', 'Peter Gallagher')]\n",
      "[('actor', 'http://www.wikidata.org/entity/Q231091'), ('actorName', 'Morena Baccarin')]\n",
      "[('actor', 'http://www.wikidata.org/entity/Q435839'), ('actorName', 'Ashley Williams')]\n",
      "[('actor', 'http://www.wikidata.org/entity/Q131332'), ('actorName', 'Amanda Peet')]\n",
      "[('actor', 'http://www.wikidata.org/entity/Q229669'), ('actorName', 'Malin Åkerman')]\n",
      "[('actor', 'http://www.wikidata.org/entity/Q536437'), ('actorName', 'Edward Herrmann')]\n",
      "[('actor', 'http://www.wikidata.org/entity/Q233042'), ('actorName', 'Nancy Travis')]\n",
      "[('actor', 'http://www.wikidata.org/entity/Q4491707'), ('actorName', 'Olga Fonda')]\n",
      "[('actor', 'http://www.wikidata.org/entity/Q5186320'), ('actorName', 'Cristin Milioti')]\n",
      "[('actor', 'http://www.wikidata.org/entity/Q463673'), ('actorName', 'Regis Philbin')]\n",
      "[('actor', 'http://www.wikidata.org/entity/Q265031'), ('actorName', 'Renée Taylor')]\n",
      "[('actor', 'http://www.wikidata.org/entity/Q158250'), ('actorName', 'Peter Bogdanovich')]\n",
      "[('actor', 'http://www.wikidata.org/entity/Q1159104'), ('actorName', 'Dan Lauria')]\n",
      "[('actor', 'http://www.wikidata.org/entity/Q1809038'), ('actorName', 'Caroline Lagerfelt')]\n",
      "[('actor', 'http://www.wikidata.org/entity/Q3815315'), ('actorName', 'Kim Shaw')]\n",
      "[('actor', 'http://www.wikidata.org/entity/Q1139526'), ('actorName', 'Bryan Callen')]\n",
      "[('actor', 'http://www.wikidata.org/entity/Q186757'), ('actorName', 'Seth Green')]\n",
      "[('actor', 'http://www.wikidata.org/entity/Q372613'), ('actorName', 'Phill Lewis')]\n",
      "[('actor', 'http://www.wikidata.org/entity/Q566037'), ('actorName', 'Scoot McNairy')]\n",
      "[('actor', 'http://www.wikidata.org/entity/Q23547'), ('actorName', 'Bryan Cranston')]\n",
      "[('actor', 'http://www.wikidata.org/entity/Q192165'), ('actorName', 'Danny Glover')]\n",
      "[('actor', 'http://www.wikidata.org/entity/Q2507611'), ('actorName', 'Khary Payton')]\n",
      "[('actor', 'http://www.wikidata.org/entity/Q741473'), ('actorName', 'Dennis Haskins')]\n",
      "[('actor', 'http://www.wikidata.org/entity/Q238117'), ('actorName', 'Christina Pickles')]\n",
      "[('actor', 'http://www.wikidata.org/entity/Q187832'), ('actorName', 'Mandy Moore')]\n",
      "[('actor', 'http://www.wikidata.org/entity/Q229728'), ('actorName', 'Sarah Chalke')]\n",
      "[('actor', 'http://www.wikidata.org/entity/Q968718'), ('actorName', 'Bruce Gray')]\n",
      "[('actor', 'http://www.wikidata.org/entity/Q439070'), ('actorName', 'E. E. Bell')]\n",
      "[('actor', 'http://www.wikidata.org/entity/Q469579'), ('actorName', 'Mircea Monroe')]\n",
      "[('actor', 'http://www.wikidata.org/entity/Q522856'), ('actorName', 'Kate Micucci')]\n",
      "[('actor', 'http://www.wikidata.org/entity/Q23034377'), ('actorName', 'Lindsey Stoddart')]\n",
      "[('actor', 'http://www.wikidata.org/entity/Q3109076'), ('actorName', 'Jay Acovone')]\n",
      "[('actor', 'http://www.wikidata.org/entity/Q1320939'), ('actorName', 'Tom Lenk')]\n",
      "[('actor', 'http://www.wikidata.org/entity/Q486740'), ('actorName', \"Conan O'Brien\")]\n",
      "[('actor', 'http://www.wikidata.org/entity/Q199927'), ('actorName', 'Alyson Hannigan')]\n",
      "[('actor', 'http://www.wikidata.org/entity/Q471128'), ('actorName', 'Chi McBride')]\n",
      "[('actor', 'http://www.wikidata.org/entity/Q634684'), ('actorName', 'Roger Bart')]\n",
      "[('actor', 'http://www.wikidata.org/entity/Q297128'), ('actorName', 'David Henrie')]\n",
      "[('actor', 'http://www.wikidata.org/entity/Q450496'), ('actorName', 'Alyssa Shafer')]\n",
      "[('actor', 'http://www.wikidata.org/entity/Q436881'), ('actorName', 'Kathleen Rose Perkins')]\n",
      "[('actor', 'http://www.wikidata.org/entity/Q27322'), ('actorName', 'Jason Lewis')]\n",
      "[('actor', 'http://www.wikidata.org/entity/Q260184'), ('actorName', 'Eva Amurri')]\n",
      "[('actor', 'http://www.wikidata.org/entity/Q174346'), ('actorName', 'Katie Holmes')]\n",
      "[('actor', 'http://www.wikidata.org/entity/Q236918'), ('actorName', 'Anne Dudek')]\n",
      "[('actor', 'http://www.wikidata.org/entity/Q269137'), ('actorName', 'Sarah Wright')]\n",
      "[('actor', 'http://www.wikidata.org/entity/Q3050431'), ('actorName', 'Meredith Scott Lynn')]\n",
      "[('actor', 'http://www.wikidata.org/entity/Q151866'), ('actorName', 'Adriana Lima')]\n",
      "[('actor', 'http://www.wikidata.org/entity/Q454698'), ('actorName', 'Darcy Rose Byrnes')]\n",
      "[('actor', 'http://www.wikidata.org/entity/Q200566'), ('actorName', 'Cobie Smulders')]\n",
      "[('actor', 'http://www.wikidata.org/entity/Q635974'), ('actorName', 'Michael Trucco')]\n",
      "[('actor', 'http://www.wikidata.org/entity/Q525572'), ('actorName', 'Erinn Bartlett')]\n",
      "[('actor', 'http://www.wikidata.org/entity/Q1459918'), ('actorName', 'James Tupper')]\n",
      "[('actor', 'http://www.wikidata.org/entity/Q2842824'), ('actorName', 'America Olivo')]\n",
      "[('actor', 'http://www.wikidata.org/entity/Q4078026'), ('actorName', 'Lance Barber')]\n",
      "[('actor', 'http://www.wikidata.org/entity/Q5334589'), ('actorName', 'Ed Brigadier')]\n",
      "[('actor', 'http://www.wikidata.org/entity/Q465556'), ('actorName', 'Annie Ilonzeh')]\n",
      "[('actor', 'http://www.wikidata.org/entity/Q290156'), ('actorName', 'Christine Woods')]\n",
      "[('actor', 'http://www.wikidata.org/entity/Q229914'), ('actorName', 'Lyndsy Fonseca')]\n",
      "[('actor', 'http://www.wikidata.org/entity/Q531195'), ('actorName', 'Stephanie Faracy')]\n",
      "[('actor', 'http://www.wikidata.org/entity/Q485310'), ('actorName', 'Neil Patrick Harris')]\n",
      "[('actor', 'http://www.wikidata.org/entity/Q2633899'), ('actorName', 'Erin Cahill')]\n",
      "[('actor', 'http://www.wikidata.org/entity/Q1397155'), ('actorName', 'Wayne Brady')]\n",
      "[('actor', 'http://www.wikidata.org/entity/Q16149506'), ('actorName', 'Charlene Amoia')]\n",
      "[('actor', 'http://www.wikidata.org/entity/Q223455'), ('actorName', 'Josh Radnor')]\n",
      "[('actor', 'http://www.wikidata.org/entity/Q229940'), ('actorName', 'Lucy Hale')]\n",
      "[('actor', 'http://www.wikidata.org/entity/Q239223'), ('actorName', 'Kaylee DeFer')]\n",
      "[('actor', 'http://www.wikidata.org/entity/Q1189470'), ('actorName', 'Jimmi Simpson')]\n",
      "[('actor', 'http://www.wikidata.org/entity/Q279816'), ('actorName', 'Dawn Olivieri')]\n",
      "[('actor', 'http://www.wikidata.org/entity/Q888178'), ('actorName', 'Bob Odenkirk')]\n",
      "[('actor', 'http://www.wikidata.org/entity/Q123849'), ('actorName', 'Jane Seymour')]\n",
      "[('actor', 'http://www.wikidata.org/entity/Q3260118'), ('actorName', 'Lou Cutell')]\n",
      "[('actor', 'http://www.wikidata.org/entity/Q289330'), ('actorName', 'Erin Cardillo')]\n",
      "[('actor', 'http://www.wikidata.org/entity/Q3306283'), ('actorName', 'Dwight Hicks')]\n",
      "[('actor', 'http://www.wikidata.org/entity/Q512376'), ('actorName', 'Suzy Nakamura')]\n",
      "[('actor', 'http://www.wikidata.org/entity/Q560516'), ('actorName', 'Andrew Rannells')]\n",
      "[('actor', 'http://www.wikidata.org/entity/Q230454'), ('actorName', 'k.d. lang')]\n",
      "[('actor', 'http://www.wikidata.org/entity/Q234353'), ('actorName', 'Lindsay Price')]\n",
      "[('actor', 'http://www.wikidata.org/entity/Q448484'), ('actorName', 'Darby Stanchfield')]\n",
      "[('actor', 'http://www.wikidata.org/entity/Q741909'), ('actorName', 'Chris Kattan')]\n",
      "[('actor', 'http://www.wikidata.org/entity/Q311769'), ('actorName', 'Jason Priestley')]\n",
      "[('actor', 'http://www.wikidata.org/entity/Q392370'), ('actorName', 'Jon Heder')]\n",
      "[('actor', 'http://www.wikidata.org/entity/Q667979'), ('actorName', 'Aaron Hill')]\n",
      "[('actor', 'http://www.wikidata.org/entity/Q900740'), ('actorName', 'Raquel Alessi')]\n",
      "[('actor', 'http://www.wikidata.org/entity/Q2844557'), ('actorName', 'Amy Gumenick')]\n",
      "[('actor', 'http://www.wikidata.org/entity/Q1646482'), ('actorName', 'Lin-Manuel Miranda')]\n",
      "[('actor', 'http://www.wikidata.org/entity/Q1189095'), ('actorName', 'Courtney Ford')]\n",
      "[('actor', 'http://www.wikidata.org/entity/Q3099305'), ('actorName', 'Gattlin Griffith')]\n",
      "[('actor', 'http://www.wikidata.org/entity/Q607'), ('actorName', 'Michael Bloomberg')]\n",
      "[('actor', 'http://www.wikidata.org/entity/Q50737155'), ('actorName', 'Milynn Sarley')]\n",
      "[('actor', 'http://www.wikidata.org/entity/Q130549'), ('actorName', 'Tracey Ullman')]\n",
      "[('actor', 'http://www.wikidata.org/entity/Q6382703'), ('actorName', 'Keegan-Michael Key')]\n",
      "[('actor', 'http://www.wikidata.org/entity/Q943613'), ('actorName', 'Samm Levine')]\n",
      "[('actor', 'http://www.wikidata.org/entity/Q566885'), ('actorName', 'Harry Groener')]\n",
      "[('actor', 'http://www.wikidata.org/entity/Q220949'), ('actorName', 'Rachel Bilson')]\n",
      "[('actor', 'http://www.wikidata.org/entity/Q429619'), ('actorName', 'Valerie Azlynn')]\n",
      "[('actor', 'http://www.wikidata.org/entity/Q320973'), ('actorName', 'Robert Wisdom')]\n",
      "[('actor', 'http://www.wikidata.org/entity/Q242949'), ('actorName', 'Danica McKellar')]\n",
      "[('actor', 'http://www.wikidata.org/entity/Q3045427'), ('actorName', 'George Cheung')]\n",
      "[('actor', 'http://www.wikidata.org/entity/Q8349'), ('actorName', '\"Weird Al\" Yankovic')]\n",
      "[('actor', 'http://www.wikidata.org/entity/Q1319539'), ('actorName', 'Thomas Lennon')]\n",
      "[('actor', 'http://www.wikidata.org/entity/Q298777'), ('actorName', 'Michael York')]\n",
      "[('actor', 'http://www.wikidata.org/entity/Q2706805'), ('actorName', 'Taran Killam')]\n",
      "[('actor', 'http://www.wikidata.org/entity/Q1392126'), ('actorName', 'Charles Chun')]\n",
      "[('actor', 'http://www.wikidata.org/entity/Q139611'), ('actorName', 'Zachary Gordon')]\n",
      "[('actor', 'http://www.wikidata.org/entity/Q466016'), ('actorName', 'Casey Wilson')]\n",
      "[('actor', 'http://www.wikidata.org/entity/Q551859'), ('actorName', 'Dimitri Diatchenko')]\n",
      "[('actor', 'http://www.wikidata.org/entity/Q770841'), ('actorName', 'Ben Vereen')]\n",
      "[('actor', 'http://www.wikidata.org/entity/Q2943801'), ('actorName', 'Cedric Yarbrough')]\n",
      "[('actor', 'http://www.wikidata.org/entity/Q1332676'), ('actorName', 'William Schallert')]\n",
      "[('actor', 'http://www.wikidata.org/entity/Q6491295'), ('actorName', 'Larry Wilmore')]\n",
      "[('actor', 'http://www.wikidata.org/entity/Q310322'), ('actorName', 'Will Sasso')]\n",
      "[('actor', 'http://www.wikidata.org/entity/Q784009'), ('actorName', 'Danny Strong')]\n",
      "[('actor', 'http://www.wikidata.org/entity/Q4172513'), ('actorName', 'Jessica Barth')]\n",
      "[('actor', 'http://www.wikidata.org/entity/Q591238'), ('actorName', 'Bill Fagerbakke')]\n",
      "[('actor', 'http://www.wikidata.org/entity/Q488335'), ('actorName', 'Kevin Michael Richardson')]\n",
      "[('actor', 'http://www.wikidata.org/entity/Q235740'), ('actorName', 'Busy Philipps')]\n",
      "[('actor', 'http://www.wikidata.org/entity/Q1485367'), ('actorName', 'Bar Paly')]\n",
      "[('actor', 'http://www.wikidata.org/entity/Q614851'), ('actorName', 'Eric Braeden')]\n",
      "[('actor', 'http://www.wikidata.org/entity/Q2827706'), ('actorName', \"Ahna O'Reilly\")]\n",
      "[('actor', 'http://www.wikidata.org/entity/Q459839'), ('actorName', \"Brooke D'Orsay\")]\n",
      "[('actor', 'http://www.wikidata.org/entity/Q467496'), ('actorName', 'Marianne Muellerleile')]\n",
      "[('actor', 'http://www.wikidata.org/entity/Q2627090'), ('actorName', 'Dave Thomas')]\n",
      "[('actor', 'http://www.wikidata.org/entity/Q238425'), ('actorName', 'Cristine Rose')]\n",
      "[('actor', 'http://www.wikidata.org/entity/Q1396070'), ('actorName', 'Suzie Plakson')]\n",
      "[('actor', 'http://www.wikidata.org/entity/Q79031'), ('actorName', 'Mike Tyson')]\n",
      "[('actor', 'http://www.wikidata.org/entity/Q6788347'), ('actorName', 'Matt Besser')]\n",
      "[('actor', 'http://www.wikidata.org/entity/Q2942050'), ('actorName', 'Catherine Reitman')]\n",
      "[('actor', 'http://www.wikidata.org/entity/Q264914'), ('actorName', 'Jorge Garcia')]\n",
      "[('actor', 'http://www.wikidata.org/entity/Q272927'), ('actorName', 'Kristen Schaal')]\n",
      "[('actor', 'http://www.wikidata.org/entity/Q6147046'), ('actorName', 'Jamie Kaler')]\n",
      "[('actor', 'http://www.wikidata.org/entity/Q6184114'), ('actorName', 'Jerry Minor')]\n",
      "[('actor', 'http://www.wikidata.org/entity/Q2079473'), ('actorName', 'Greg Collins')]\n",
      "[('actor', 'http://www.wikidata.org/entity/Q963626'), ('actorName', 'Paul Shaffer')]\n",
      "[('actor', 'http://www.wikidata.org/entity/Q3180253'), ('actorName', 'Joel McCrary')]\n",
      "[('actor', 'http://www.wikidata.org/entity/Q929985'), ('actorName', 'Alex Trebek')]\n",
      "[('actor', 'http://www.wikidata.org/entity/Q1638889'), ('actorName', 'Rebecca Creskoff')]\n",
      "[('actor', 'http://www.wikidata.org/entity/Q1802786'), ('actorName', 'Matt L. Jones')]\n",
      "[('actor', 'http://www.wikidata.org/entity/Q516659'), ('actorName', 'Virginia Williams')]\n",
      "[('actor', 'http://www.wikidata.org/entity/Q254775'), ('actorName', 'Brooke Nevin')]\n",
      "[('actor', 'http://www.wikidata.org/entity/Q258237'), ('actorName', 'Beth Riesgraf')]\n",
      "[('actor', 'http://www.wikidata.org/entity/Q5372103'), ('actorName', 'Emily Chang')]\n",
      "[('actor', 'http://www.wikidata.org/entity/Q444480'), ('actorName', 'Elizabeth Bogush')]\n",
      "[('actor', 'http://www.wikidata.org/entity/Q469914'), ('actorName', 'Lindsay Sloane')]\n",
      "[('actor', 'http://www.wikidata.org/entity/Q291024'), ('actorName', 'Moon Zappa')]\n",
      "[('actor', 'http://www.wikidata.org/entity/Q3943077'), ('actorName', 'Ryan Michelle Bathe')]\n",
      "[('actor', 'http://www.wikidata.org/entity/Q2914539'), ('actorName', 'Jeff Probst')]\n",
      "[('actor', 'http://www.wikidata.org/entity/Q366322'), ('actorName', 'Alexis Denisof')]\n",
      "[('actor', 'http://www.wikidata.org/entity/Q261104'), ('actorName', 'Kelly Stables')]\n",
      "[('actor', 'http://www.wikidata.org/entity/Q255293'), ('actorName', 'Geoff Stults')]\n",
      "[('actor', 'http://www.wikidata.org/entity/Q313392'), ('actorName', 'James Van Der Beek')]\n",
      "[('actor', 'http://www.wikidata.org/entity/Q16335035'), ('actorName', 'Lindsey Morgan')]\n",
      "[('actor', 'http://www.wikidata.org/entity/Q3183128'), ('actorName', 'Jolie Jenkins')]\n",
      "[('actor', 'http://www.wikidata.org/entity/Q238029'), ('actorName', 'JoAnna García')]\n",
      "[('actor', 'http://www.wikidata.org/entity/Q11975'), ('actorName', 'Britney Spears')]\n",
      "[('actor', 'http://www.wikidata.org/entity/Q6342864'), ('actorName', 'K. Callan')]\n",
      "[('actor', 'http://www.wikidata.org/entity/Q4355895'), ('actorName', 'Preston Bailey')]\n",
      "[('actor', 'http://www.wikidata.org/entity/Q271765'), ('actorName', 'Laura Bell Bundy')]\n",
      "[('actor', 'http://www.wikidata.org/entity/Q984397'), ('actorName', 'David Burtka')]\n",
      "[('actor', 'http://www.wikidata.org/entity/Q716936'), ('actorName', 'Joe Lo Truglio')]\n",
      "[('actor', 'http://www.wikidata.org/entity/Q1992967'), ('actorName', 'John Getz')]\n",
      "[('actor', 'http://www.wikidata.org/entity/Q444146'), ('actorName', 'Amber Stevens')]\n",
      "[('actor', 'http://www.wikidata.org/entity/Q549562'), ('actorName', 'Ryan Pinkston')]\n",
      "[('actor', 'http://www.wikidata.org/entity/Q926420'), ('actorName', 'Robbie Amell')]\n",
      "[('actor', 'http://www.wikidata.org/entity/Q270638'), ('actorName', 'Vanessa Lachey')]\n",
      "[('actor', 'http://www.wikidata.org/entity/Q607793'), ('actorName', 'Dave Foley')]\n",
      "[('actor', 'http://www.wikidata.org/entity/Q966693'), ('actorName', 'William Zabka')]\n",
      "[('actor', 'http://www.wikidata.org/entity/Q230609'), ('actorName', 'Ashley Benson')]\n",
      "[('actor', 'http://www.wikidata.org/entity/Q40715'), ('actorName', 'Jennifer Lopez')]\n",
      "[('actor', 'http://www.wikidata.org/entity/Q2604240'), ('actorName', 'Collette Wolfe')]\n",
      "[('actor', 'http://www.wikidata.org/entity/Q1374532'), ('actorName', 'Melissa Ordway')]\n",
      "[('actor', 'http://www.wikidata.org/entity/Q2347123'), ('actorName', 'Steve Little')]\n",
      "[('actor', 'http://www.wikidata.org/entity/Q277895'), ('actorName', 'Alan Thicke')]\n",
      "[('actor', 'http://www.wikidata.org/entity/Q5213110'), ('actorName', 'Dan Bakkedahl')]\n",
      "[('actor', 'http://www.wikidata.org/entity/Q1255263'), ('actorName', 'Jason Jones')]\n",
      "[('actor', 'http://www.wikidata.org/entity/Q24054448'), ('actorName', 'Michael McCafferty')]\n",
      "[('actor', 'http://www.wikidata.org/entity/Q24084698'), ('actorName', 'Corie Vickers')]\n",
      "[('actor', 'http://www.wikidata.org/entity/Q24054558'), ('actorName', 'Michael Earl Reid')]\n",
      "[('actor', 'http://www.wikidata.org/entity/Q3303794'), ('actorName', 'Meagen Fay')]\n",
      "[('actor', 'http://www.wikidata.org/entity/Q24021051'), ('actorName', 'Elena K. Smith')]\n",
      "[('actor', 'http://www.wikidata.org/entity/Q42493'), ('actorName', 'Katy Perry')]\n",
      "[('actor', 'http://www.wikidata.org/entity/Q7340225'), ('actorName', 'Rob Huebel')]\n",
      "[('actor', 'http://www.wikidata.org/entity/Q215546'), ('actorName', 'Carrie Underwood')]\n",
      "[('actor', 'http://www.wikidata.org/entity/Q6968151'), ('actorName', 'Natalie Denise Sperl')]\n",
      "[('actor', 'http://www.wikidata.org/entity/Q438583'), ('actorName', 'Kevin Heffernan')]\n",
      "[('actor', 'http://www.wikidata.org/entity/Q4964124'), ('actorName', 'Brian Huskey')]\n",
      "[('actor', 'http://www.wikidata.org/entity/Q12524541'), ('actorName', 'Will Shadley')]\n",
      "[('actor', 'http://www.wikidata.org/entity/Q23010724'), ('actorName', 'Todd Sandler')]\n",
      "[('actor', 'http://www.wikidata.org/entity/Q186304'), ('actorName', 'Kim Kardashian')]\n",
      "[('actor', 'http://www.wikidata.org/entity/Q446031'), ('actorName', 'Nikki Griffin')]\n",
      "[('actor', 'http://www.wikidata.org/entity/Q2426173'), ('actorName', 'Vicki Lewis')]\n",
      "[('actor', 'http://www.wikidata.org/entity/Q6701600'), ('actorName', 'Luka Jones')]\n",
      "[('actor', 'http://www.wikidata.org/entity/Q458582'), ('actorName', 'Betsy Rue')]\n",
      "[('actor', 'http://www.wikidata.org/entity/Q15978301'), ('actorName', 'Robert Belushi')]\n",
      "[('actor', 'http://www.wikidata.org/entity/Q233886'), ('actorName', 'Tiffany')]\n",
      "[('actor', 'http://www.wikidata.org/entity/Q6386241'), ('actorName', 'Kelly Perine')]\n",
      "[('actor', 'http://www.wikidata.org/entity/Q2040329'), ('actorName', 'Hayes MacArthur')]\n",
      "[('actor', 'http://www.wikidata.org/entity/Q446481'), ('actorName', 'Harvey Fierstein')]\n",
      "[('actor', 'http://www.wikidata.org/entity/Q347922'), ('actorName', 'Melissa Molinaro')]\n",
      "[('actor', 'http://www.wikidata.org/entity/Q7339134'), ('actorName', 'Rizwan Manji')]\n",
      "[('actor', 'http://www.wikidata.org/entity/Q18049086'), ('actorName', 'Danièle Watts')]\n",
      "[('actor', 'http://www.wikidata.org/entity/Q6420832'), ('actorName', 'Michael Gladis')]\n",
      "[('actor', 'http://www.wikidata.org/entity/Q50383297'), ('actorName', 'Joe Nieves')]\n",
      "[('actor', 'http://www.wikidata.org/entity/Q73346'), ('actorName', 'Ralph Macchio')]\n",
      "[('actor', 'http://www.wikidata.org/entity/Q15720515'), ('actorName', 'George Finn')]\n",
      "[('actor', 'http://www.wikidata.org/entity/Q5087461'), ('actorName', 'Chasty Ballesteros')]\n",
      "[('actor', 'http://www.wikidata.org/entity/Q6791001'), ('actorName', 'Matthew Moy')]\n",
      "[('actor', 'http://www.wikidata.org/entity/Q337557'), ('actorName', 'J. P. Manoux')]\n",
      "[('actor', 'http://www.wikidata.org/entity/Q4961066'), ('actorName', 'Brendan Patrick Connor')]\n",
      "[('actor', 'http://www.wikidata.org/entity/Q2903362'), ('actorName', 'Bill Suplee')]\n",
      "[('actor', 'http://www.wikidata.org/entity/Q2827976'), ('actorName', 'Ailsa Marshall')]\n",
      "[('actor', 'http://www.wikidata.org/entity/Q558412'), ('actorName', 'Rick Malambri')]\n",
      "[('actor', 'http://www.wikidata.org/entity/Q20973713'), ('actorName', 'Ethan Dizon')]\n",
      "[('actor', 'http://www.wikidata.org/entity/Q234152'), ('actorName', 'Becki Newton')]\n",
      "[('actor', 'http://www.wikidata.org/entity/Q3859348'), ('actorName', 'Misti Traya')]\n",
      "[('actor', 'http://www.wikidata.org/entity/Q4888924'), ('actorName', 'Benjamin Koldyke')]\n",
      "[('actor', 'http://www.wikidata.org/entity/Q47122'), ('actorName', 'Enrique Iglesias')]\n",
      "[('actor', 'http://www.wikidata.org/entity/Q979679'), ('actorName', 'Janet Varney')]\n",
      "[('actor', 'http://www.wikidata.org/entity/Q2708237'), ('actorName', 'Abby Elliott')]\n",
      "[('actor', 'http://www.wikidata.org/entity/Q3645350'), ('actorName', 'Brooke Newton')]\n",
      "[('actor', 'http://www.wikidata.org/entity/Q1173157'), ('actorName', 'Dave Coulier')]\n",
      "[('actor', 'http://www.wikidata.org/entity/Q500990'), ('actorName', 'Chase Ellison')]\n",
      "[('actor', 'http://www.wikidata.org/entity/Q167696'), ('actorName', 'Nicole Scherzinger')]\n",
      "[('actor', 'http://www.wikidata.org/entity/Q38195662'), ('actorName', 'Hong Chau')]\n",
      "[('actor', 'http://www.wikidata.org/entity/Q336272'), ('actorName', 'George Clinton')]\n",
      "[('actor', 'http://www.wikidata.org/entity/Q39574'), ('actorName', 'Candice King')]\n",
      "[('actor', 'http://www.wikidata.org/entity/Q259697'), ('actorName', 'Camille Guaty')]\n",
      "[('actor', 'http://www.wikidata.org/entity/Q6151232'), ('actorName', 'Jane Carr')]\n",
      "[('actor', 'http://www.wikidata.org/entity/Q270260'), ('actorName', 'Chelan Simmons')]\n",
      "[('actor', 'http://www.wikidata.org/entity/Q596953'), ('actorName', 'Phil Simms')]\n",
      "[('actor', 'http://www.wikidata.org/entity/Q456460'), ('actorName', 'Miss Coco Peru')]\n",
      "[('actor', 'http://www.wikidata.org/entity/Q1806933'), ('actorName', 'Rhys Darby')]\n",
      "[('actor', 'http://www.wikidata.org/entity/Q874899'), ('actorName', 'Michele Boyd')]\n",
      "[('actor', 'http://www.wikidata.org/entity/Q978646'), ('actorName', 'Tim Gunn')]\n",
      "[('actor', 'http://www.wikidata.org/entity/Q5108221'), ('actorName', 'Chris Tallman')]\n",
      "[('actor', 'http://www.wikidata.org/entity/Q2279463'), ('actorName', 'Spencer Pratt')]\n",
      "[('actor', 'http://www.wikidata.org/entity/Q234636'), ('actorName', 'Heidi Montag')]\n",
      "[('actor', 'http://www.wikidata.org/entity/Q5212833'), ('actorName', 'Damon Gameau')]\n",
      "[('actor', 'http://www.wikidata.org/entity/Q42716715'), ('actorName', 'Beth Lacke')]\n",
      "[('actor', 'http://www.wikidata.org/entity/Q4476096'), ('actorName', 'Katie Walder')]\n",
      "[('actor', 'http://www.wikidata.org/entity/Q19818754'), ('actorName', 'Calvin Jung')]\n",
      "[('actor', 'http://www.wikidata.org/entity/Q320895'), ('actorName', 'Geddy Lee')]\n",
      "[('actor', 'http://www.wikidata.org/entity/Q2656047'), ('actorName', 'Carter Bays')]\n",
      "[('actor', 'http://www.wikidata.org/entity/Q3002075'), ('actorName', 'Craig Thomas')]\n",
      "[('actor', 'http://www.wikidata.org/entity/Q535904'), ('actorName', 'Vanessa Lee Evigan')]\n",
      "[('actor', 'http://www.wikidata.org/entity/Q217160'), ('actorName', 'Kenny Rogers')]\n",
      "[('actor', 'http://www.wikidata.org/entity/Q6146821'), ('actorName', 'Jamie Denbo')]\n",
      "[('actor', 'http://www.wikidata.org/entity/Q1338802'), ('actorName', 'Emmitt Smith')]\n",
      "[('actor', 'http://www.wikidata.org/entity/Q231744'), ('actorName', 'Kendra Wilkinson')]\n",
      "[('actor', 'http://www.wikidata.org/entity/Q5225453'), ('actorName', 'Darryl Sivad')]\n",
      "[('actor', 'http://www.wikidata.org/entity/Q5300294'), ('actorName', 'Doug Benson')]\n",
      "[('actor', 'http://www.wikidata.org/entity/Q6163370'), ('actorName', 'Jason Rogel')]\n",
      "[('actor', 'http://www.wikidata.org/entity/Q8979854'), ('actorName', 'Candace Kroslak')]\n",
      "[('actor', 'http://www.wikidata.org/entity/Q1388143'), ('actorName', 'Gregory Michael')]\n",
      "[('actor', 'http://www.wikidata.org/entity/Q26132400'), ('actorName', 'Katie Silverman')]\n",
      "[('actor', 'http://www.wikidata.org/entity/Q16089775'), ('actorName', 'Barbara Perry')]\n",
      "[('actor', 'http://www.wikidata.org/entity/Q651231'), ('actorName', 'Boyz II Men')]\n",
      "[('actor', 'http://www.wikidata.org/entity/Q6377325'), ('actorName', 'Kathy Uyen')]\n",
      "[('actor', 'http://www.wikidata.org/entity/Q4962892'), ('actorName', 'BriTANicK')]\n",
      "[('actor', 'http://www.wikidata.org/entity/Q7659423'), ('actorName', 'Sy Smith')]\n",
      "[('actor', 'http://www.wikidata.org/entity/Q6197119'), ('actorName', 'Jim Nantz')]\n",
      "[('actor', 'http://www.wikidata.org/entity/Q6417476'), ('actorName', 'Kit Pongetti')]\n",
      "[('actor', 'http://www.wikidata.org/entity/Q50737236'), ('actorName', 'Tahmus Rounds')]\n",
      "[('actor', 'http://www.wikidata.org/entity/Q50418243'), ('actorName', 'Michael Coleman')]\n",
      "[('actor', 'http://www.wikidata.org/entity/Q7615119'), ('actorName', 'Steven Page')]\n",
      "[('actor', 'http://www.wikidata.org/entity/Q24955125'), ('actorName', 'Lou Ferrigno Jr.')]\n",
      "[('actor', 'http://www.wikidata.org/entity/Q3675563'), ('actorName', 'Chris Romano')]\n",
      "[('actor', 'http://www.wikidata.org/entity/Q2438424'), ('actorName', 'Todd Grinnell')]\n",
      "[('actor', 'http://www.wikidata.org/entity/Q5072641'), ('actorName', 'Chantelle Barry')]\n",
      "[('actor', 'http://www.wikidata.org/entity/Q50386444'), ('actorName', 'Matt Boren')]\n",
      "[('actor', 'http://www.wikidata.org/entity/Q50737192'), ('actorName', 'Pamela Darling')]\n",
      "[('actor', 'http://www.wikidata.org/entity/Q16199509'), ('actorName', 'Rachel Bloom')]\n",
      "[('actor', 'http://www.wikidata.org/entity/Q50736659'), ('actorName', 'Abhi Sinha')]\n",
      "[('actor', 'http://www.wikidata.org/entity/Q50736838'), ('actorName', 'Alyssa Smith')]\n",
      "[('actor', 'http://www.wikidata.org/entity/Q50736859'), ('actorName', 'Arnold Chun')]\n",
      "[('actor', 'http://www.wikidata.org/entity/Q50736869'), ('actorName', 'Bonnie Bailey-Reed')]\n",
      "[('actor', 'http://www.wikidata.org/entity/Q50736941'), ('actorName', 'Collin Christopher')]\n",
      "[('actor', 'http://www.wikidata.org/entity/Q50736990'), ('actorName', 'Heidi Herschbach')]\n",
      "[('actor', 'http://www.wikidata.org/entity/Q50737044'), ('actorName', 'Jude Will')]\n",
      "[('actor', 'http://www.wikidata.org/entity/Q50737052'), ('actorName', 'K.T. Tatara')]\n",
      "[('actor', 'http://www.wikidata.org/entity/Q50737103'), ('actorName', 'Mario di Donato')]\n",
      "[('actor', 'http://www.wikidata.org/entity/Q50737149'), ('actorName', 'Michael Rupnow')]\n",
      "[('actor', 'http://www.wikidata.org/entity/Q50737178'), ('actorName', 'Nicole Shabtai')]\n",
      "[('actor', 'http://www.wikidata.org/entity/Q50737202'), ('actorName', 'Robert Baxt')]\n",
      "[('actor', 'http://www.wikidata.org/entity/Q50737254'), ('actorName', 'Terrell Lee')]\n",
      "[('actor', 'http://www.wikidata.org/entity/Q19667938'), ('actorName', 'Liz')]\n",
      "[('actor', 'http://www.wikidata.org/entity/Q6834523'), ('actorName', 'Michael Spellman')]\n",
      "[('actor', 'http://www.wikidata.org/entity/Q233397'), ('actorName', 'Arianna Huffington')]\n",
      "[('actor', 'http://www.wikidata.org/entity/Q238407'), ('actorName', 'Stacy Keibler')]\n",
      "[('actor', 'http://www.wikidata.org/entity/Q6255645'), ('actorName', 'John Rosenfeld')]\n",
      "[('actor', 'http://www.wikidata.org/entity/Q6276792'), ('actorName', 'Jordan Masterson')]\n",
      "[('actor', 'http://www.wikidata.org/entity/Q1030723'), ('actorName', 'The 88')]\n",
      "[('actor', 'http://www.wikidata.org/entity/Q7395779'), ('actorName', 'Saba Homayoon')]\n",
      "[('actor', 'http://www.wikidata.org/entity/Q3194153'), ('actorName', 'Katie Gill')]\n",
      "[('actor', 'http://www.wikidata.org/entity/Q5372430'), ('actorName', 'Emily Wilson II')]\n",
      "[('actor', 'http://www.wikidata.org/entity/Q15070032'), ('actorName', 'Cristen Irene')]\n",
      "[('actor', 'http://www.wikidata.org/entity/Q19952946'), ('actorName', 'August Maturo')]\n",
      "[('actor', 'http://www.wikidata.org/entity/Q289721'), ('actorName', 'Kimberly Matula')]\n",
      "[('actor', 'http://www.wikidata.org/entity/Q1315875'), ('actorName', 'Rachel Sterling')]\n",
      "[('actor', 'http://www.wikidata.org/entity/Q22007127'), ('actorName', 'Guy Nardulli')]\n",
      "[('actor', 'http://www.wikidata.org/entity/Q16238737'), ('actorName', 'Marieve Herington')]\n",
      "[('actor', 'http://www.wikidata.org/entity/Q50385499'), ('actorName', 'Aisha Kabia')]\n",
      "[('actor', 'http://www.wikidata.org/entity/Q50736873'), ('actorName', 'Brea Cola')]\n",
      "[('actor', 'http://www.wikidata.org/entity/Q50736984'), ('actorName', 'Hallie Lambert')]\n",
      "[('actor', 'http://www.wikidata.org/entity/Q50737006'), ('actorName', 'James Lanham')]\n",
      "[('actor', 'http://www.wikidata.org/entity/Q50737040'), ('actorName', 'Joni Bovill')]\n",
      "[('actor', 'http://www.wikidata.org/entity/Q50737054'), ('actorName', 'Karissa Vacker')]\n",
      "[('actor', 'http://www.wikidata.org/entity/Q50737122'), ('actorName', 'Meegan Godfrey')]\n",
      "[('actor', 'http://www.wikidata.org/entity/Q50737137'), ('actorName', 'Michael Antosy')]\n",
      "[('actor', 'http://www.wikidata.org/entity/Q50737158'), ('actorName', 'Molly Prather')]\n",
      "[('actor', 'http://www.wikidata.org/entity/Q50737063'), ('actorName', 'Katy Stoll')]\n",
      "[('actor', 'http://www.wikidata.org/entity/Q778353'), ('actorName', 'Ryan Sypek')]\n",
      "[('actor', 'http://www.wikidata.org/entity/Q6207163'), ('actorName', 'Jocelyn Osorio')]\n",
      "[('actor', 'http://www.wikidata.org/entity/Q22810662'), ('actorName', 'Jayden Lund')]\n",
      "[('actor', 'http://www.wikidata.org/entity/Q3496382'), ('actorName', 'Jai Rodriguez')]\n",
      "[('actor', 'http://www.wikidata.org/entity/Q6276391'), ('actorName', 'Jordan Black')]\n",
      "[('actor', 'http://www.wikidata.org/entity/Q978581'), ('actorName', 'Nick Swisher')]\n",
      "[('actor', 'http://www.wikidata.org/entity/Q1976929'), ('actorName', 'Amir Talai')]\n",
      "[('actor', 'http://www.wikidata.org/entity/Q1354302'), ('actorName', 'Maury Povich')]\n",
      "[('actor', 'http://www.wikidata.org/entity/Q4956688'), ('actorName', 'Brandi Burkhardt')]\n",
      "[('actor', 'http://www.wikidata.org/entity/Q13560291'), ('actorName', 'Ellen D. Williams')]\n",
      "[('actor', 'http://www.wikidata.org/entity/Q50736705'), ('actorName', 'Adam Paul')]\n",
      "[('actor', 'http://www.wikidata.org/entity/Q50736855'), ('actorName', 'Anthony Palermo')]\n",
      "[('actor', 'http://www.wikidata.org/entity/Q50736911'), ('actorName', 'Casey Washington')]\n",
      "[('actor', 'http://www.wikidata.org/entity/Q50736961'), ('actorName', 'Eben Ham')]\n",
      "[('actor', 'http://www.wikidata.org/entity/Q50736994'), ('actorName', 'Jack J. Bennett')]\n",
      "[('actor', 'http://www.wikidata.org/entity/Q50737000'), ('actorName', 'Jacob Witkin')]\n",
      "[('actor', 'http://www.wikidata.org/entity/Q50737059'), ('actorName', 'Katie Savoy')]\n",
      "[('actor', 'http://www.wikidata.org/entity/Q50737119'), ('actorName', 'Max Prado')]\n",
      "[('actor', 'http://www.wikidata.org/entity/Q50737173'), ('actorName', 'Nick Pasqual')]\n",
      "[('actor', 'http://www.wikidata.org/entity/Q50737213'), ('actorName', \"Ryan O'Connor\")]\n",
      "[('actor', 'http://www.wikidata.org/entity/Q50737229'), ('actorName', 'Stefanie Black')]\n",
      "[('actor', 'http://www.wikidata.org/entity/Q50737242'), ('actorName', 'Tara Erica Moore')]\n",
      "[('actor', 'http://www.wikidata.org/entity/Q50737260'), ('actorName', 'Tess Alexandra Parker')]\n",
      "[('actor', 'http://www.wikidata.org/entity/Q50737143'), ('actorName', 'Michael Hagiwara')]\n",
      "[('actor', 'http://www.wikidata.org/entity/Q7902617'), ('actorName', 'Ute Werner')]\n",
      "[('actor', 'http://www.wikidata.org/entity/Q22277691'), ('actorName', 'Jake Elliott')]\n",
      "[('actor', 'http://www.wikidata.org/entity/Q50385458'), ('actorName', 'Carla Toutz')]\n",
      "[('actor', 'http://www.wikidata.org/entity/Q50386230'), ('actorName', 'Spencer Ralston')]\n",
      "[('actor', 'http://www.wikidata.org/entity/Q50386355'), ('actorName', 'Gibson Sjobek')]\n",
      "[('actor', 'http://www.wikidata.org/entity/Q50737111'), ('actorName', 'Mary Ann Jarou')]\n",
      "[('actor', 'http://www.wikidata.org/entity/Q3631545'), ('actorName', 'Azita Ghanizada')]\n",
      "[('actor', 'http://www.wikidata.org/entity/Q6799159'), ('actorName', 'Maïté Schwartz')]\n",
      "[('actor', 'http://www.wikidata.org/entity/Q5218519'), ('actorName', 'Daniel R. Escobar')]\n",
      "[('actor', 'http://www.wikidata.org/entity/Q584177'), ('actorName', 'Johnny Palermo')]\n",
      "[('actor', 'http://www.wikidata.org/entity/Q16215065'), ('actorName', 'Gabrielle Richens')]\n",
      "[('actor', 'http://www.wikidata.org/entity/Q3720665'), ('actorName', 'Eileen April Boylan')]\n",
      "[('actor', 'http://www.wikidata.org/entity/Q6270624'), ('actorName', 'Jon Dore')]\n",
      "[('actor', 'http://www.wikidata.org/entity/Q4739684'), ('actorName', 'Amanda Loncar')]\n",
      "[('actor', 'http://www.wikidata.org/entity/Q16172541'), ('actorName', 'Christine Scott Bennett')]\n",
      "[('actor', 'http://www.wikidata.org/entity/Q24953791'), ('actorName', 'Ptolemy Slocum')]\n",
      "[('actor', 'http://www.wikidata.org/entity/Q2165415'), ('actorName', 'Ron Butler')]\n",
      "[('actor', 'http://www.wikidata.org/entity/Q8062439'), ('actorName', 'Yvonne DeLaRosa')]\n",
      "[('actor', 'http://www.wikidata.org/entity/Q50736847'), ('actorName', 'Andra Nechita')]\n",
      "[('actor', 'http://www.wikidata.org/entity/Q50736862'), ('actorName', 'Bianca Lopez')]\n",
      "[('actor', 'http://www.wikidata.org/entity/Q50736914'), ('actorName', 'Charlene Lovings')]\n",
      "[('actor', 'http://www.wikidata.org/entity/Q50736925'), ('actorName', 'Chris Dotson')]\n",
      "[('actor', 'http://www.wikidata.org/entity/Q50736929'), ('actorName', 'Christine Tonnu')]\n",
      "[('actor', 'http://www.wikidata.org/entity/Q50736932'), ('actorName', 'Clyde Tull')]\n",
      "[('actor', 'http://www.wikidata.org/entity/Q50737017'), ('actorName', 'Jay Lay')]\n",
      "[('actor', 'http://www.wikidata.org/entity/Q50737034'), ('actorName', 'John Sloan')]\n",
      "[('actor', 'http://www.wikidata.org/entity/Q50737098'), ('actorName', 'Lindsay Schoneweis')]\n",
      "[('actor', 'http://www.wikidata.org/entity/Q50737239'), ('actorName', 'Tamara Lynn Davis')]\n",
      "[('actor', 'http://www.wikidata.org/entity/Q50737272'), ('actorName', 'Tyler Peterson')]\n",
      "[('actor', 'http://www.wikidata.org/entity/Q661592'), ('actorName', 'Luc Robitaille')]\n",
      "[('actor', 'http://www.wikidata.org/entity/Q6812893'), ('actorName', 'Melissa Tang')]\n",
      "[('actor', 'http://www.wikidata.org/entity/Q1354429'), ('actorName', 'Erika Medina')]\n",
      "[('actor', 'http://www.wikidata.org/entity/Q7422159'), ('actorName', 'Sarah Cahill')]\n",
      "[('actor', 'http://www.wikidata.org/entity/Q50736852'), ('actorName', 'Annie Abrams')]\n",
      "[('actor', 'http://www.wikidata.org/entity/Q50736920'), ('actorName', 'Cherub Moore')]\n",
      "[('actor', 'http://www.wikidata.org/entity/Q50736959'), ('actorName', 'Dexter Cross')]\n",
      "[('actor', 'http://www.wikidata.org/entity/Q50736974'), ('actorName', 'Gita Isak')]\n",
      "[('actor', 'http://www.wikidata.org/entity/Q50737022'), ('actorName', 'Jessica Faye Borden')]\n",
      "[('actor', 'http://www.wikidata.org/entity/Q50737071'), ('actorName', 'Ken Barnett')]\n",
      "[('actor', 'http://www.wikidata.org/entity/Q50737074'), ('actorName', 'Kevin Kirkpatrick')]\n",
      "[('actor', 'http://www.wikidata.org/entity/Q50737081'), ('actorName', 'Laura Ornelas')]\n",
      "[('actor', 'http://www.wikidata.org/entity/Q50737088'), ('actorName', 'Lauren Shiohama')]\n",
      "[('actor', 'http://www.wikidata.org/entity/Q50737116'), ('actorName', 'Matt Lasky')]\n",
      "[('actor', 'http://www.wikidata.org/entity/Q50737190'), ('actorName', 'Noah Schnacky')]\n",
      "[('actor', 'http://www.wikidata.org/entity/Q50737224'), ('actorName', 'Sophie Simpson')]\n",
      "[('actor', 'http://www.wikidata.org/entity/Q16214495'), ('actorName', 'Kurt Long')]\n",
      "[('actor', 'http://www.wikidata.org/entity/Q4878800'), ('actorName', 'Becky Baeling')]\n",
      "[('actor', 'http://www.wikidata.org/entity/Q2566819'), ('actorName', 'Whit Hertford')]\n",
      "[('actor', 'http://www.wikidata.org/entity/Q23063067'), ('actorName', 'Michael Bolten')]\n",
      "[('actor', 'http://www.wikidata.org/entity/Q10363195'), ('actorName', 'Robert Michael Ryan')]\n",
      "[('actor', 'http://www.wikidata.org/entity/Q15296614'), ('actorName', 'Riley Thomas Stewart')]\n",
      "[('actor', 'http://www.wikidata.org/entity/Q16538855'), ('actorName', 'Chelsea Gilligan')]\n",
      "[('actor', 'http://www.wikidata.org/entity/Q18630916'), ('actorName', 'Tamara Fernandez')]\n",
      "[('actor', 'http://www.wikidata.org/entity/Q22704291'), ('actorName', 'Johnny Giacalone')]\n",
      "[('actor', 'http://www.wikidata.org/entity/Q24576840'), ('actorName', 'Aaron Hendry')]\n",
      "[('actor', 'http://www.wikidata.org/entity/Q28810225'), ('actorName', 'Eleanor Seigler')]\n",
      "[('actor', 'http://www.wikidata.org/entity/Q3568299'), ('actorName', 'Will Shortz')]\n",
      "[('actor', 'http://www.wikidata.org/entity/Q3696316'), ('actorName', 'Ed Alonzo')]\n",
      "[('actor', 'http://www.wikidata.org/entity/Q50414352'), ('actorName', 'Wajid')]\n",
      "[('actor', 'http://www.wikidata.org/entity/Q5057866'), ('actorName', 'Celeste Thorson')]\n",
      "[('actor', 'http://www.wikidata.org/entity/Q50736843'), ('actorName', 'Ambrit Millhouse')]\n",
      "[('actor', 'http://www.wikidata.org/entity/Q50736877'), ('actorName', 'Brett Ryback')]\n",
      "[('actor', 'http://www.wikidata.org/entity/Q50736882'), ('actorName', 'Brianna Belladonna')]\n",
      "[('actor', 'http://www.wikidata.org/entity/Q50736887'), ('actorName', 'Bryan Krasner')]\n",
      "[('actor', 'http://www.wikidata.org/entity/Q50736894'), ('actorName', 'Cailey Jones')]\n",
      "[('actor', 'http://www.wikidata.org/entity/Q50736906'), ('actorName', 'Cal Gibson')]\n",
      "[('actor', 'http://www.wikidata.org/entity/Q50736945'), ('actorName', 'Dale E. Turner')]\n",
      "[('actor', 'http://www.wikidata.org/entity/Q50736950'), ('actorName', 'Danielle Weeks')]\n",
      "[('actor', 'http://www.wikidata.org/entity/Q50736951'), ('actorName', 'Derek Shizuto')]\n",
      "[('actor', 'http://www.wikidata.org/entity/Q50736963'), ('actorName', 'Edward Flores')]\n",
      "[('actor', 'http://www.wikidata.org/entity/Q50736982'), ('actorName', 'Greg Lewis')]\n",
      "[('actor', 'http://www.wikidata.org/entity/Q50736986'), ('actorName', 'Heather Nichols')]\n",
      "[('actor', 'http://www.wikidata.org/entity/Q50737008'), ('actorName', 'Jamie Lea Willett')]\n",
      "[('actor', 'http://www.wikidata.org/entity/Q50737013'), ('actorName', 'Jan Bryant')]\n",
      "[('actor', 'http://www.wikidata.org/entity/Q50737027'), ('actorName', 'John Duerler')]\n",
      "[('actor', 'http://www.wikidata.org/entity/Q50737066'), ('actorName', 'Kazu Nagahama')]\n",
      "[('actor', 'http://www.wikidata.org/entity/Q50737078'), ('actorName', 'Kim Hidalgo')]\n",
      "[('actor', 'http://www.wikidata.org/entity/Q50737092'), ('actorName', 'Lawrence Mandley')]\n",
      "[('actor', 'http://www.wikidata.org/entity/Q50737100'), ('actorName', 'Malea Mitchell')]\n",
      "[('actor', 'http://www.wikidata.org/entity/Q50737125'), ('actorName', 'Meghan Maureen McDonough')]\n",
      "[('actor', 'http://www.wikidata.org/entity/Q50737130'), ('actorName', 'Melissa Soso')]\n",
      "[('actor', 'http://www.wikidata.org/entity/Q50737151'), ('actorName', 'Mike Nojun Park')]\n",
      "[('actor', 'http://www.wikidata.org/entity/Q50737162'), ('actorName', 'Monique Edwards')]\n",
      "[('actor', 'http://www.wikidata.org/entity/Q50737167'), ('actorName', 'Nicholas Roget-King')]\n",
      "[('actor', 'http://www.wikidata.org/entity/Q50737183'), ('actorName', 'Nicole Zeoli')]\n",
      "[('actor', 'http://www.wikidata.org/entity/Q50737198'), ('actorName', 'Rebecca Klingler')]\n",
      "[('actor', 'http://www.wikidata.org/entity/Q50737206'), ('actorName', 'Robin Krieger')]\n",
      "[('actor', 'http://www.wikidata.org/entity/Q50737210'), ('actorName', 'Ron Nicolosi')]\n",
      "[('actor', 'http://www.wikidata.org/entity/Q50737218'), ('actorName', 'Sam Stefanski')]\n",
      "[('actor', 'http://www.wikidata.org/entity/Q50737249'), ('actorName', 'Ted Jonas')]\n",
      "[('actor', 'http://www.wikidata.org/entity/Q50737264'), ('actorName', 'Trent Peltz')]\n",
      "[('actor', 'http://www.wikidata.org/entity/Q50737276'), ('actorName', 'Yves Bright')]\n",
      "[('actor', 'http://www.wikidata.org/entity/Q5412077'), ('actorName', 'Robert Michael Morris')]\n",
      "[('actor', 'http://www.wikidata.org/entity/Q6551896'), ('actorName', 'Linda Porter')]\n",
      "[('actor', 'http://www.wikidata.org/entity/Q7384004'), ('actorName', 'Ryan Daniel Dobson')]\n",
      "[('actor', 'http://www.wikidata.org/entity/Q7702109'), ('actorName', 'Teresa Castillo')]\n",
      "[('actor', 'http://www.wikidata.org/entity/Q9600735'), ('actorName', 'Alec Medlock')]\n",
      "[('actor', 'http://www.wikidata.org/entity/Q50386338'), ('actorName', 'Ned Rolsma')]\n",
      "464\n"
     ]
    }
   ],
   "source": [
    "queryString = \"\"\"\n",
    "SELECT DISTINCT ?actor ?actorName WHERE { \n",
    "\n",
    "    # Retrieve HIMYM actors\n",
    "    wd:Q147235 wdt:P161 ?actor .\n",
    "    \n",
    "    # Ensure that the actor and worked together with another actor \"in the middle\"\n",
    "    ?filmMiddle wdt:P161 ?actor       ;\n",
    "                wdt:P161 ?actorMiddle .\n",
    "    \n",
    "    # Ensure that the actor \"in the middle\" worked with Kevin Bacon\n",
    "    ?film       wdt:P161 ?actorMiddle  ;\n",
    "                wdt:P161 wd:Q3454165 .\n",
    "    \n",
    "    # Ensure that the \"first\" actor and Kevin Bacon did not worked together\n",
    "    FILTER NOT EXISTS{\n",
    "        ?film3 wdt:P161 ?actor      ;\n",
    "               wdt:P161 wd:Q3454165 .\n",
    "        #FILTER(?film3 != ?film)\n",
    "    }\n",
    "    \n",
    "    # This returns the labels\n",
    "    ?actor <http://schema.org/name> ?actorName .\n",
    "}\n",
    "\"\"\"\n",
    "\n",
    "print(\"Results\")\n",
    "x = run_query(queryString)\n"
   ]
  },
  {
   "cell_type": "code",
   "execution_count": 36,
   "metadata": {},
   "outputs": [
    {
     "name": "stdout",
     "output_type": "stream",
     "text": [
      "The index of this workflow is: 2_4\n",
      "The path is /locale/data/jupyter/prando/esw/tracks/2022/ground_truths/gt_json/workflow2_4.json\n",
      "JSON object updated\n"
     ]
    }
   ],
   "source": [
    "obj = [{\"uri\":r[0][1],\"name\":r[1][1]} for r in x]\n",
    "evaluation.add_result(evaluation.get_index_workflow(pt),\"7\", evaluation.TYPE_SET ,\"uri\", obj)"
   ]
  },
  {
   "cell_type": "code",
   "execution_count": null,
   "metadata": {},
   "outputs": [],
   "source": []
  }
 ],
 "metadata": {
  "kernelspec": {
   "display_name": "Python 3",
   "language": "python",
   "name": "python3"
  },
  "language_info": {
   "codemirror_mode": {
    "name": "ipython",
    "version": 3
   },
   "file_extension": ".py",
   "mimetype": "text/x-python",
   "name": "python",
   "nbconvert_exporter": "python",
   "pygments_lexer": "ipython3",
   "version": "3.7.4"
  }
 },
 "nbformat": 4,
 "nbformat_minor": 5
}
