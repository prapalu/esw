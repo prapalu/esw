{
 "cells": [
  {
   "cell_type": "markdown",
   "id": "7034c3bf-6eb0-4418-8687-7b9d2a501103",
   "metadata": {},
   "source": [
    "# General instructions\n",
    "\n",
    "The goal of the project is to materialize a set of **exploratory workloads** over a real-world, large-scale,  open-domain KG: [WikiData](https://www.wikidata.org/wiki/Wikidata:Main_Page)\n",
    "\n",
    "An exploratory workload  is composed by a set of queries, where each query is related to the information obtained previously.\n",
    "\n",
    "An exploratory workload starts with a usually vague, open ended question, and does not assume the person issuing the workload has a clear understanding of the data contained in the target database or its structure.\n",
    "\n",
    "Remeber that:\n",
    "\n",
    "1. All the queries must run in the python notebook\n",
    "2. You can use classes and properties only if you find them via a SPARQL query that must be present in the notebook\n",
    "3. You do not delete useless queries. Keep everything that is synthatically valid \n",
    "\n",
    "```\n",
    "?p <http://schema.org/name> ?name .\n",
    "```\n",
    "    \n",
    "    is the BGP returning a human-readable name of a property or a class in Wikidata.\n",
    "    \n",
    "    "
   ]
  },
  {
   "cell_type": "code",
   "execution_count": 1,
   "id": "3605c9d5-5371-49a5-be8d-d66e8f417139",
   "metadata": {},
   "outputs": [],
   "source": [
    "## SETUP used later\n",
    "import sys\n",
    "import os\n",
    "import json\n",
    "import pandas as pd\n",
    "sys.path.insert(1, '../../../../src/')\n",
    "import gt_modules.evaluation as evaluation\n",
    "from SPARQLWrapper import SPARQLWrapper, JSON\n",
    "\n",
    "\n",
    "prefixString = \"\"\"\n",
    "##-m5-##\n",
    "PREFIX wd: <http://www.wikidata.org/entity/> \n",
    "PREFIX wdt: <http://www.wikidata.org/prop/direct/> \n",
    "PREFIX sc: <http://schema.org/>\n",
    "\"\"\"\n",
    "\n",
    "# select and construct queries\n",
    "def run_query(queryString,verbose = True):\n",
    "    to_run = prefixString + \"\\n\" + queryString\n",
    "\n",
    "    sparql = SPARQLWrapper(\"http://gracevirtuoso.dei.unipd.it/sparql\")\n",
    "    sparql.setTimeout(300)\n",
    "    sparql.setReturnFormat(JSON)\n",
    "    sparql.setQuery(to_run)\n",
    "\n",
    "    try :\n",
    "        results = sparql.query()\n",
    "        json_results = results.convert()\n",
    "        if len(json_results['results']['bindings'])==0:\n",
    "            print(\"Empty\")\n",
    "            return []\n",
    "        array = []\n",
    "        for bindings in json_results['results']['bindings']:\n",
    "            app =  [ (var, value['value'])  for var, value in bindings.items() ] \n",
    "            if verbose:\n",
    "                print( app)\n",
    "            array.append(app)\n",
    "        if verbose:\n",
    "            print(len(array))\n",
    "        return array\n",
    "\n",
    "    except Exception as e :\n",
    "        print(\"The operation failed\", e)\n",
    "    \n",
    "# ASk queries\n",
    "def run_ask_query(queryString):\n",
    "    to_run = prefixString + \"\\n\" + queryString\n",
    "\n",
    "    sparql = SPARQLWrapper(\"http://gracevirtuoso.dei.unipd.it/sparql\")\n",
    "    sparql.setTimeout(300)\n",
    "    sparql.setReturnFormat(JSON)\n",
    "    sparql.setQuery(to_run)\n",
    "\n",
    "    try :\n",
    "        return sparql.query().convert()\n",
    "\n",
    "    except Exception as e :\n",
    "        print(\"The operation failed\", e)"
   ]
  },
  {
   "cell_type": "markdown",
   "id": "d477a59c-a68c-4c8f-9f97-8ca5294d7d27",
   "metadata": {},
   "source": [
    "# Movie Workflow Series (\"Sherlock Holmes explorative search\") \n",
    "\n",
    "\n",
    "Consider the following exploratory scenario:\n",
    "\n",
    "\n",
    "> Investigate the canon of Sherlock Holmes (see https://en.wikipedia.org/wiki/Canon_of_Sherlock_Holmes) and which are the films and tv series related to the canon. We are also interested in the Emmy Awards and hiw many awards each film won. \n",
    "\n",
    "\n",
    "## Useful URIs for the current workflow\n",
    "The following are given:\n",
    "\n",
    "| IRI           | Description   | Role      |\n",
    "| -----------   | -----------   |-----------|\n",
    "| `wdt:P1647`   | subproperty   | predicate |\n",
    "| `wdt:P31`     | instance of   | predicate |\n",
    "| `wdt:P106`    | profession    | predicate | \n",
    "| `wdt:P279`    | subclass      | predicate |\n",
    "| `wd:Q35610` | Arthur Conan Doyle        | node |\n",
    "\n",
    "\n",
    "\n",
    "Also consider\n",
    "\n",
    "```\n",
    "wd:Q35610 ?p ?obj .\n",
    "```\n",
    "\n",
    "is the BGP to retrieve all **properties of Arthur Conan Doyle**\n",
    "\n",
    "Please consider that when you return a resource, you should return the IRI and the label of the resource. In particular, when the task require you to identify a BGP the result set must always be a list of couples IRI - label.\n",
    "\n",
    "The workload should:\n",
    "\n",
    "\n",
    "1. Identify the BGP for canon of Sherlock Holmes (see https://en.wikipedia.org/wiki/Canon_of_Sherlock_Holmes)\n",
    "\n",
    "2. Identify the BGP for film\n",
    "\n",
    "3. Identify the BGP for television series\n",
    "\n",
    "4. Return the year of publication (take the first one if there are more publication dates) for each film and television series related to the canon of Sherlock Holmes (the result set must be a list of triples film/tv series IRI, label and year).\n",
    "\n",
    "5. Find who acted in more than one film or tv series related to the canon of Sherlock Holmes (the result set must be a list of triples actor/actress IRI, label and #film).\n",
    "\n",
    "6. Identify the BGP for Primetime Emmy Award\n",
    "\n",
    "7. Return all the types of Primetime Emmy Award (the result set must be a list of couples award IRI and label).\n",
    "\n",
    "8. For each film and television series related to the canon of Sherlock Holmes, return the number of Primetime Emmy Awards they won (return also the objects who did not win an Award) (the result set must be a list of triples film/tv series IRI, label and #award)."
   ]
  },
  {
   "cell_type": "code",
   "execution_count": 2,
   "id": "6f0aaa6a",
   "metadata": {},
   "outputs": [
    {
     "name": "stdout",
     "output_type": "stream",
     "text": [
      "The index of this workflow is: 2_1\n"
     ]
    }
   ],
   "source": [
    "## startup the evaluation\n",
    "# setup the file and create the empty json\n",
    "ipname = \"m5.ipynb\"\n",
    "pt = os.getcwd()+os.sep+ipname\n",
    "evaluation.setup(pt)"
   ]
  },
  {
   "cell_type": "markdown",
   "id": "76d8580d-4b29-4c4b-be35-6491ff9d78ba",
   "metadata": {
    "jp-MarkdownHeadingCollapsed": true,
    "tags": []
   },
   "source": [
    "## Task 1"
   ]
  },
  {
   "cell_type": "code",
   "execution_count": 3,
   "id": "1aa3dde3-633a-4ddb-ac2b-2472dfbd395f",
   "metadata": {},
   "outputs": [
    {
     "name": "stdout",
     "output_type": "stream",
     "text": [
      "Results\n",
      "[('p', 'http://www.wikidata.org/prop/direct/P101'), ('pName', 'field of work')]\n",
      "[('p', 'http://www.wikidata.org/prop/direct/P102'), ('pName', 'member of political party')]\n",
      "[('p', 'http://www.wikidata.org/prop/direct/P103'), ('pName', 'native language')]\n",
      "[('p', 'http://www.wikidata.org/prop/direct/P106'), ('pName', 'occupation')]\n",
      "[('p', 'http://www.wikidata.org/prop/direct/P109'), ('pName', 'signature')]\n",
      "[('p', 'http://www.wikidata.org/prop/direct/P119'), ('pName', 'place of burial')]\n",
      "[('p', 'http://www.wikidata.org/prop/direct/P1196'), ('pName', 'manner of death')]\n",
      "[('p', 'http://www.wikidata.org/prop/direct/P1343'), ('pName', 'described by source')]\n",
      "[('p', 'http://www.wikidata.org/prop/direct/P136'), ('pName', 'genre')]\n",
      "[('p', 'http://www.wikidata.org/prop/direct/P140'), ('pName', 'religion')]\n",
      "[('p', 'http://www.wikidata.org/prop/direct/P1412'), ('pName', 'languages spoken, written or signed')]\n",
      "[('p', 'http://www.wikidata.org/prop/direct/P1441'), ('pName', 'present in work')]\n",
      "[('p', 'http://www.wikidata.org/prop/direct/P1442'), ('pName', 'image of grave')]\n",
      "[('p', 'http://www.wikidata.org/prop/direct/P1455'), ('pName', 'list of works')]\n",
      "[('p', 'http://www.wikidata.org/prop/direct/P1576'), ('pName', 'lifestyle')]\n",
      "[('p', 'http://www.wikidata.org/prop/direct/P166'), ('pName', 'award received')]\n",
      "[('p', 'http://www.wikidata.org/prop/direct/P172'), ('pName', 'ethnic group')]\n",
      "[('p', 'http://www.wikidata.org/prop/direct/P18'), ('pName', 'image')]\n",
      "[('p', 'http://www.wikidata.org/prop/direct/P1889'), ('pName', 'different from')]\n",
      "[('p', 'http://www.wikidata.org/prop/direct/P19'), ('pName', 'place of birth')]\n",
      "[('p', 'http://www.wikidata.org/prop/direct/P20'), ('pName', 'place of death')]\n",
      "[('p', 'http://www.wikidata.org/prop/direct/P21'), ('pName', 'sex or gender')]\n",
      "[('p', 'http://www.wikidata.org/prop/direct/P22'), ('pName', 'father')]\n",
      "[('p', 'http://www.wikidata.org/prop/direct/P25'), ('pName', 'mother')]\n",
      "[('p', 'http://www.wikidata.org/prop/direct/P26'), ('pName', 'spouse')]\n",
      "[('p', 'http://www.wikidata.org/prop/direct/P27'), ('pName', 'country of citizenship')]\n",
      "[('p', 'http://www.wikidata.org/prop/direct/P31'), ('pName', 'instance of')]\n",
      "[('p', 'http://www.wikidata.org/prop/direct/P40'), ('pName', 'child')]\n",
      "[('p', 'http://www.wikidata.org/prop/direct/P485'), ('pName', 'archives at')]\n",
      "[('p', 'http://www.wikidata.org/prop/direct/P5008'), ('pName', 'on focus list of Wikimedia project')]\n",
      "[('p', 'http://www.wikidata.org/prop/direct/P509'), ('pName', 'cause of death')]\n",
      "[('p', 'http://www.wikidata.org/prop/direct/P54'), ('pName', 'member of sports team')]\n",
      "[('p', 'http://www.wikidata.org/prop/direct/P6104'), ('pName', 'maintained by WikiProject')]\n",
      "[('p', 'http://www.wikidata.org/prop/direct/P641'), ('pName', 'sport')]\n",
      "[('p', 'http://www.wikidata.org/prop/direct/P6886'), ('pName', 'writing language')]\n",
      "[('p', 'http://www.wikidata.org/prop/direct/P69'), ('pName', 'educated at')]\n",
      "[('p', 'http://www.wikidata.org/prop/direct/P734'), ('pName', 'family name')]\n",
      "[('p', 'http://www.wikidata.org/prop/direct/P735'), ('pName', 'given name')]\n",
      "[('p', 'http://www.wikidata.org/prop/direct/P737'), ('pName', 'influenced by')]\n",
      "[('p', 'http://www.wikidata.org/prop/direct/P800'), ('pName', 'notable work')]\n",
      "[('p', 'http://www.wikidata.org/prop/direct/P856'), ('pName', 'official website')]\n",
      "[('p', 'http://www.wikidata.org/prop/direct/P910'), ('pName', \"topic's main category\")]\n",
      "[('p', 'http://www.wikidata.org/prop/direct/P511'), ('pName', 'honorific prefix')]\n",
      "[('p', 'http://www.wikidata.org/prop/direct/P9419'), ('pName', 'personal library at')]\n",
      "44\n"
     ]
    }
   ],
   "source": [
    "# object properties of Arthur Conan Doyle\n",
    "queryString = \"\"\"\n",
    "SELECT DISTINCT ?p ?pName WHERE { \n",
    "\n",
    "    wd:Q35610 ?p ?o.\n",
    "    ?p sc:name ?pName .\n",
    "    FILTER(!isLiteral(?o))\n",
    "}\n",
    "\"\"\"\n",
    "\n",
    "print(\"Results\")\n",
    "x = run_query(queryString)"
   ]
  },
  {
   "cell_type": "code",
   "execution_count": 4,
   "id": "55d68cb1-0656-481c-8918-137732102314",
   "metadata": {},
   "outputs": [
    {
     "name": "stdout",
     "output_type": "stream",
     "text": [
      "Results\n",
      "[('o', 'http://www.wikidata.org/entity/Q2316684'), ('pName', 'canon of Sherlock Holmes')]\n",
      "[('o', 'http://www.wikidata.org/entity/Q785255'), ('pName', 'The Lost World')]\n",
      "2\n"
     ]
    }
   ],
   "source": [
    "# use notable work\n",
    "queryString = \"\"\"\n",
    "SELECT DISTINCT ?o ?pName WHERE { \n",
    "\n",
    "    wd:Q35610 wdt:P800 ?o.\n",
    "    ?o sc:name ?pName .\n",
    "}\n",
    "\"\"\"\n",
    "\n",
    "print(\"Results\")\n",
    "x = run_query(queryString)"
   ]
  },
  {
   "cell_type": "code",
   "execution_count": 5,
   "id": "603bae1e",
   "metadata": {},
   "outputs": [
    {
     "name": "stdout",
     "output_type": "stream",
     "text": [
      "The index of this workflow is: 2_1\n",
      "The path is /locale/data/jupyter/prando/notebook/2022/results/workflow2_1.json\n",
      "JSON object updated\n"
     ]
    }
   ],
   "source": [
    "### insert the result of TASK 1 in the file\n",
    "og_uri = \"http://www.wikidata.org/entity/Q2316684\"\n",
    "og_name = \"canon of Sherlock Holmes\"\n",
    "obj = {\"uri\":og_uri,\"name\":og_name}\n",
    "evaluation.add_result(evaluation.get_index_workflow(pt),\"1\", evaluation.TYPE_SINGLE ,\"uri\", [obj] ,\"all\")"
   ]
  },
  {
   "cell_type": "markdown",
   "id": "564f2df2-aca8-48a3-914b-5f2dc4aa0854",
   "metadata": {
    "jp-MarkdownHeadingCollapsed": true,
    "tags": []
   },
   "source": [
    "## Task 2"
   ]
  },
  {
   "cell_type": "code",
   "execution_count": 6,
   "id": "b4814bb8-a4ce-4977-8396-424b4dd563ba",
   "metadata": {},
   "outputs": [
    {
     "name": "stdout",
     "output_type": "stream",
     "text": [
      "Results\n",
      "[('prop', 'http://www.wikidata.org/prop/direct/P101'), ('pName', 'field of work')]\n",
      "[('prop', 'http://www.wikidata.org/prop/direct/P144'), ('pName', 'based on')]\n",
      "[('prop', 'http://www.wikidata.org/prop/direct/P1441'), ('pName', 'present in work')]\n",
      "[('prop', 'http://www.wikidata.org/prop/direct/P179'), ('pName', 'part of the series')]\n",
      "[('prop', 'http://www.wikidata.org/prop/direct/P301'), ('pName', \"category's main topic\")]\n",
      "[('prop', 'http://www.wikidata.org/prop/direct/P361'), ('pName', 'part of')]\n",
      "[('prop', 'http://www.wikidata.org/prop/direct/P800'), ('pName', 'notable work')]\n",
      "[('prop', 'http://www.wikidata.org/prop/direct/P941'), ('pName', 'inspired by')]\n",
      "[('prop', 'http://www.wikidata.org/prop/direct/P8371'), ('pName', 'references work, tradition or theory')]\n",
      "9\n"
     ]
    }
   ],
   "source": [
    "# properties pointing canon of Sherlock Holmes\n",
    "queryString = \"\"\"\n",
    "SELECT DISTINCT ?prop ?pName WHERE { \n",
    "    ?o ?prop wd:Q2316684 .\n",
    "    ?prop sc:name ?pName .\n",
    "}\n",
    "\"\"\"\n",
    "\n",
    "print(\"Results\")\n",
    "x = run_query(queryString)"
   ]
  },
  {
   "cell_type": "code",
   "execution_count": 7,
   "id": "2e7d4718-df78-4b53-8c53-569e902cefd7",
   "metadata": {},
   "outputs": [
    {
     "name": "stdout",
     "output_type": "stream",
     "text": [
      "Results\n",
      "[('o', 'http://www.wikidata.org/entity/Q192837'), ('pName', 'Sherlock')]\n",
      "[('o', 'http://www.wikidata.org/entity/Q1764019'), ('pName', 'Sherlock Holmes')]\n",
      "[('o', 'http://www.wikidata.org/entity/Q4727821'), ('pName', 'All-Consuming Fire')]\n",
      "[('o', 'http://www.wikidata.org/entity/Q247643'), ('pName', 'Elementary')]\n",
      "[('o', 'http://www.wikidata.org/entity/Q9385245'), ('pName', 'Non-canonical Sherlock Holmes works')]\n",
      "[('o', 'http://www.wikidata.org/entity/Q70734078'), ('pName', 'Sherlock Holmes and the Time machine')]\n",
      "[('o', 'http://www.wikidata.org/entity/Q1210893'), ('pName', 'The Adventures of Sherlock Holmes and Dr. Watson')]\n",
      "[('o', 'http://www.wikidata.org/entity/Q7763420'), ('pName', 'The Seven-Per-Cent Solution')]\n",
      "[('o', 'http://www.wikidata.org/entity/Q200396'), ('pName', 'Sherlock Holmes')]\n",
      "[('o', 'http://www.wikidata.org/entity/Q4523158'), ('pName', 'Sherlock Holmes')]\n",
      "[('o', 'http://www.wikidata.org/entity/Q52204741'), ('pName', 'Miss Sherlock')]\n",
      "[('o', 'http://www.wikidata.org/entity/Q387306'), ('pName', 'Sherlock Holmes')]\n",
      "[('o', 'http://www.wikidata.org/entity/Q243643'), ('pName', 'Sherlock Holmes: A Game of Shadows')]\n",
      "[('o', 'http://www.wikidata.org/entity/Q105724641'), ('pName', 'El detective Sherlock Holmes')]\n",
      "[('o', 'http://www.wikidata.org/entity/Q3481943'), ('pName', 'Sherlock Holmes')]\n",
      "[('o', 'http://www.wikidata.org/entity/Q2614669'), ('pName', 'The House of Silk')]\n",
      "16\n"
     ]
    }
   ],
   "source": [
    "# use based on\n",
    "queryString = \"\"\"\n",
    "SELECT DISTINCT ?o ?pName WHERE { \n",
    "    ?o wdt:P144 wd:Q2316684 .\n",
    "    ?o sc:name ?pName .\n",
    "}\n",
    "\"\"\"\n",
    "\n",
    "print(\"Results\")\n",
    "x = run_query(queryString)"
   ]
  },
  {
   "cell_type": "code",
   "execution_count": 8,
   "id": "e53bdb1c-df0d-48a7-a74b-3f5b3ff7751b",
   "metadata": {},
   "outputs": [
    {
     "name": "stdout",
     "output_type": "stream",
     "text": [
      "Results\n",
      "[('inst', 'http://www.wikidata.org/entity/Q11424'), ('pName', 'film')]\n",
      "[('inst', 'http://www.wikidata.org/entity/Q14406742'), ('pName', 'comic book series')]\n",
      "[('inst', 'http://www.wikidata.org/entity/Q386724'), ('pName', 'work')]\n",
      "[('inst', 'http://www.wikidata.org/entity/Q47461344'), ('pName', 'written work')]\n",
      "[('inst', 'http://www.wikidata.org/entity/Q5398426'), ('pName', 'television series')]\n",
      "[('inst', 'http://www.wikidata.org/entity/Q7725634'), ('pName', 'literary work')]\n",
      "[('inst', 'http://www.wikidata.org/entity/Q2635894'), ('pName', 'radio drama')]\n",
      "[('inst', 'http://www.wikidata.org/entity/Q3331189'), ('pName', 'version, edition, or translation')]\n",
      "[('inst', 'http://www.wikidata.org/entity/Q25379'), ('pName', 'play')]\n",
      "[('inst', 'http://www.wikidata.org/entity/Q24856'), ('pName', 'film series')]\n",
      "[('inst', 'http://www.wikidata.org/entity/Q21191019'), ('pName', 'Japanese TV series')]\n",
      "[('inst', 'http://www.wikidata.org/entity/Q1259759'), ('pName', 'miniseries')]\n",
      "[('inst', 'http://www.wikidata.org/entity/Q3033548'), ('pName', 'Doctor Who spin-offs')]\n",
      "13\n"
     ]
    }
   ],
   "source": [
    "# get the instances\n",
    "queryString = \"\"\"\n",
    "SELECT DISTINCT ?inst ?pName WHERE { \n",
    "    ?o wdt:P144 wd:Q2316684 ;\n",
    "        wdt:P31 ?inst.\n",
    "    ?inst sc:name ?pName .\n",
    "}\n",
    "\"\"\"\n",
    "\n",
    "print(\"Results\")\n",
    "x = run_query(queryString)"
   ]
  },
  {
   "cell_type": "code",
   "execution_count": 9,
   "id": "6e756a22",
   "metadata": {},
   "outputs": [
    {
     "name": "stdout",
     "output_type": "stream",
     "text": [
      "Results\n",
      "[('inst', 'http://www.wikidata.org/entity/Q11424'), ('pName', 'film')]\n",
      "1\n"
     ]
    }
   ],
   "source": [
    "# get the instances\n",
    "queryString = \"\"\"\n",
    "SELECT ?inst ?pName WHERE { \n",
    "    BIND (wd:Q11424 AS ?inst).\n",
    "    ?inst sc:name ?pName .\n",
    "}\n",
    "\"\"\"\n",
    "\n",
    "print(\"Results\")\n",
    "x = run_query(queryString)"
   ]
  },
  {
   "cell_type": "code",
   "execution_count": 10,
   "id": "026a4f13",
   "metadata": {},
   "outputs": [
    {
     "name": "stdout",
     "output_type": "stream",
     "text": [
      "The index of this workflow is: 2_1\n",
      "The path is /locale/data/jupyter/prando/notebook/2022/results/workflow2_1.json\n",
      "JSON object updated\n"
     ]
    }
   ],
   "source": [
    "### insert the result of TASK 2 in the file\n",
    "og_uri = \"http://www.wikidata.org/entity/Q11424\"\n",
    "og_name = \"film\"\n",
    "obj = {\"uri\":og_uri,\"name\":og_name}\n",
    "evaluation.add_result(evaluation.get_index_workflow(pt),\"2\", evaluation.TYPE_SINGLE ,\"uri\", [obj] ,\"all\")"
   ]
  },
  {
   "cell_type": "markdown",
   "id": "463efcb7-e227-4740-bb84-d8334070c5f5",
   "metadata": {
    "jp-MarkdownHeadingCollapsed": true,
    "tags": []
   },
   "source": [
    "## Task 3"
   ]
  },
  {
   "cell_type": "code",
   "execution_count": 11,
   "id": "d8f99fbf-e84c-4042-bf04-88bc7613de3a",
   "metadata": {},
   "outputs": [
    {
     "name": "stdout",
     "output_type": "stream",
     "text": [
      "Results\n",
      "[('inst', 'http://www.wikidata.org/entity/Q5398426'), ('pName', 'television series')]\n",
      "1\n"
     ]
    }
   ],
   "source": [
    "# get the instances\n",
    "queryString = \"\"\"\n",
    "SELECT ?inst ?pName WHERE { \n",
    "    BIND (wd:Q5398426 AS ?inst).\n",
    "    ?inst sc:name ?pName .\n",
    "}\n",
    "\"\"\"\n",
    "\n",
    "print(\"Results\")\n",
    "x = run_query(queryString)"
   ]
  },
  {
   "cell_type": "code",
   "execution_count": 12,
   "id": "9b548a83",
   "metadata": {},
   "outputs": [
    {
     "name": "stdout",
     "output_type": "stream",
     "text": [
      "The index of this workflow is: 2_1\n",
      "The path is /locale/data/jupyter/prando/notebook/2022/results/workflow2_1.json\n",
      "JSON object updated\n"
     ]
    }
   ],
   "source": [
    "### insert the result of TASK 3 in the file\n",
    "og_uri = \"http://www.wikidata.org/entity/Q5398426\"\n",
    "og_name = \"television series\"\n",
    "obj = {\"uri\":og_uri,\"name\":og_name}\n",
    "evaluation.add_result(evaluation.get_index_workflow(pt),\"3\", evaluation.TYPE_SINGLE ,\"uri\", [obj] ,\"all\")"
   ]
  },
  {
   "cell_type": "markdown",
   "id": "2c6c78ec-5aaa-497e-a20e-87296f0cb265",
   "metadata": {
    "jp-MarkdownHeadingCollapsed": true,
    "tags": []
   },
   "source": [
    "## Task 4"
   ]
  },
  {
   "cell_type": "code",
   "execution_count": 13,
   "id": "a59ea4d0-2a18-4197-8b55-0962673fd06a",
   "metadata": {},
   "outputs": [
    {
     "name": "stdout",
     "output_type": "stream",
     "text": [
      "Results\n",
      "[('o', 'http://www.wikidata.org/entity/Q192837'), ('pName', 'Sherlock')]\n",
      "[('o', 'http://www.wikidata.org/entity/Q247643'), ('pName', 'Elementary')]\n",
      "[('o', 'http://www.wikidata.org/entity/Q604180'), ('pName', 'The Private Life of Sherlock Holmes')]\n",
      "[('o', 'http://www.wikidata.org/entity/Q200396'), ('pName', 'Sherlock Holmes')]\n",
      "[('o', 'http://www.wikidata.org/entity/Q4523158'), ('pName', 'Sherlock Holmes')]\n",
      "[('o', 'http://www.wikidata.org/entity/Q387306'), ('pName', 'Sherlock Holmes')]\n",
      "[('o', 'http://www.wikidata.org/entity/Q243643'), ('pName', 'Sherlock Holmes: A Game of Shadows')]\n",
      "7\n"
     ]
    }
   ],
   "source": [
    "# find films and tv series related to the canon of Sherlock Holmes\n",
    "queryString = \"\"\"\n",
    "SELECT DISTINCT ?o ?pName WHERE { \n",
    "    VALUES ?val {wd:Q11424 wd:Q5398426}.\n",
    "    ?o wdt:P31 ?val;\n",
    "        ?prop wd:Q2316684.\n",
    "    ?o sc:name ?pName .\n",
    "}\n",
    "\"\"\"\n",
    "\n",
    "print(\"Results\")\n",
    "x = run_query(queryString)"
   ]
  },
  {
   "cell_type": "code",
   "execution_count": 14,
   "id": "4a6736e1-d9f5-4481-a8c0-778dbc4578fd",
   "metadata": {},
   "outputs": [
    {
     "name": "stdout",
     "output_type": "stream",
     "text": [
      "Results\n",
      "[('prop', 'http://www.wikidata.org/prop/direct/P941'), ('pName', 'inspired by'), ('callret-2', '1')]\n",
      "[('prop', 'http://www.wikidata.org/prop/direct/P144'), ('pName', 'based on'), ('callret-2', '6')]\n",
      "2\n"
     ]
    }
   ],
   "source": [
    "# see how they are related\n",
    "queryString = \"\"\"\n",
    "SELECT ?prop ?pName COUNT(*) WHERE { \n",
    "    VALUES ?val {wd:Q11424 wd:Q5398426}.\n",
    "    ?o wdt:P31 ?val;\n",
    "        ?prop wd:Q2316684.\n",
    "    ?prop sc:name ?pName .\n",
    "}\n",
    "GROUP BY ?prop ?pName\n",
    "\"\"\"\n",
    "\n",
    "print(\"Results\")\n",
    "x = run_query(queryString)"
   ]
  },
  {
   "cell_type": "code",
   "execution_count": 15,
   "id": "f445469a-2c32-4d3d-8234-eeedee02b536",
   "metadata": {},
   "outputs": [
    {
     "name": "stdout",
     "output_type": "stream",
     "text": [
      "Results\n",
      "[('o', 'http://www.wikidata.org/entity/Q200396'), ('oName', 'Sherlock Holmes'), ('prop', 'http://www.wikidata.org/prop/direct/P144'), ('pName', 'based on')]\n",
      "[('o', 'http://www.wikidata.org/entity/Q247643'), ('oName', 'Elementary'), ('prop', 'http://www.wikidata.org/prop/direct/P144'), ('pName', 'based on')]\n",
      "[('o', 'http://www.wikidata.org/entity/Q387306'), ('oName', 'Sherlock Holmes'), ('prop', 'http://www.wikidata.org/prop/direct/P144'), ('pName', 'based on')]\n",
      "[('o', 'http://www.wikidata.org/entity/Q192837'), ('oName', 'Sherlock'), ('prop', 'http://www.wikidata.org/prop/direct/P144'), ('pName', 'based on')]\n",
      "[('o', 'http://www.wikidata.org/entity/Q4523158'), ('oName', 'Sherlock Holmes'), ('prop', 'http://www.wikidata.org/prop/direct/P144'), ('pName', 'based on')]\n",
      "[('o', 'http://www.wikidata.org/entity/Q243643'), ('oName', 'Sherlock Holmes: A Game of Shadows'), ('prop', 'http://www.wikidata.org/prop/direct/P144'), ('pName', 'based on')]\n",
      "[('o', 'http://www.wikidata.org/entity/Q604180'), ('oName', 'The Private Life of Sherlock Holmes'), ('prop', 'http://www.wikidata.org/prop/direct/P941'), ('pName', 'inspired by')]\n",
      "7\n"
     ]
    }
   ],
   "source": [
    "# see how they are related\n",
    "queryString = \"\"\"\n",
    "SELECT DISTINCT ?o ?oName ?prop ?pName WHERE { \n",
    "    VALUES ?val {wd:Q11424 wd:Q5398426}.\n",
    "    ?o wdt:P31 ?val;\n",
    "        ?prop wd:Q2316684.\n",
    "    ?prop sc:name ?pName .\n",
    "    ?o sc:name ?oName .\n",
    "}\n",
    "\"\"\"\n",
    "\n",
    "print(\"Results\")\n",
    "x = run_query(queryString)"
   ]
  },
  {
   "cell_type": "code",
   "execution_count": 16,
   "id": "29f3c29e-4d20-489a-8a62-54c3ab035405",
   "metadata": {},
   "outputs": [
    {
     "name": "stdout",
     "output_type": "stream",
     "text": [
      "Results\n",
      "[('prop', 'http://www.wikidata.org/prop/direct/P1113'), ('pName', 'number of episodes')]\n",
      "[('prop', 'http://www.wikidata.org/prop/direct/P1237'), ('pName', 'Box Office Mojo film ID (former scheme)')]\n",
      "[('prop', 'http://www.wikidata.org/prop/direct/P1258'), ('pName', 'Rotten Tomatoes ID')]\n",
      "[('prop', 'http://www.wikidata.org/prop/direct/P1265'), ('pName', 'AlloCiné film ID')]\n",
      "[('prop', 'http://www.wikidata.org/prop/direct/P1267'), ('pName', 'AlloCiné series ID')]\n",
      "[('prop', 'http://www.wikidata.org/prop/direct/P1417'), ('pName', 'Encyclopædia Britannica Online ID')]\n",
      "[('prop', 'http://www.wikidata.org/prop/direct/P1476'), ('pName', 'title')]\n",
      "[('prop', 'http://www.wikidata.org/prop/direct/P1562'), ('pName', 'AllMovie title ID')]\n",
      "[('prop', 'http://www.wikidata.org/prop/direct/P1712'), ('pName', 'Metacritic ID')]\n",
      "[('prop', 'http://www.wikidata.org/prop/direct/P1804'), ('pName', 'DNF film ID')]\n",
      "[('prop', 'http://www.wikidata.org/prop/direct/P1874'), ('pName', 'Netflix ID')]\n",
      "[('prop', 'http://www.wikidata.org/prop/direct/P1970'), ('pName', 'MovieMeter film ID')]\n",
      "[('prop', 'http://www.wikidata.org/prop/direct/P2002'), ('pName', 'Twitter username')]\n",
      "[('prop', 'http://www.wikidata.org/prop/direct/P2003'), ('pName', 'Instagram username')]\n",
      "[('prop', 'http://www.wikidata.org/prop/direct/P2013'), ('pName', 'Facebook ID')]\n",
      "[('prop', 'http://www.wikidata.org/prop/direct/P2047'), ('pName', 'duration')]\n",
      "[('prop', 'http://www.wikidata.org/prop/direct/P214'), ('pName', 'VIAF ID')]\n",
      "[('prop', 'http://www.wikidata.org/prop/direct/P2142'), ('pName', 'box office')]\n",
      "[('prop', 'http://www.wikidata.org/prop/direct/P227'), ('pName', 'GND ID')]\n",
      "[('prop', 'http://www.wikidata.org/prop/direct/P2334'), ('pName', 'Swedish Film Database film ID')]\n",
      "[('prop', 'http://www.wikidata.org/prop/direct/P2346'), ('pName', 'Elonet movie ID')]\n",
      "[('prop', 'http://www.wikidata.org/prop/direct/P2397'), ('pName', 'YouTube channel ID')]\n",
      "[('prop', 'http://www.wikidata.org/prop/direct/P2437'), ('pName', 'number of seasons')]\n",
      "[('prop', 'http://www.wikidata.org/prop/direct/P244'), ('pName', 'Library of Congress authority ID')]\n",
      "[('prop', 'http://www.wikidata.org/prop/direct/P2465'), ('pName', 'Allcinema film ID')]\n",
      "[('prop', 'http://www.wikidata.org/prop/direct/P2508'), ('pName', 'KINENOTE film ID')]\n",
      "[('prop', 'http://www.wikidata.org/prop/direct/P2509'), ('pName', 'Movie Walker film ID')]\n",
      "[('prop', 'http://www.wikidata.org/prop/direct/P2518'), ('pName', 'Scope.dk film ID')]\n",
      "[('prop', 'http://www.wikidata.org/prop/direct/P2529'), ('pName', 'ČSFD film ID')]\n",
      "[('prop', 'http://www.wikidata.org/prop/direct/P2603'), ('pName', 'Kinopoisk film ID')]\n",
      "[('prop', 'http://www.wikidata.org/prop/direct/P2631'), ('pName', 'TCM Movie Database film ID')]\n",
      "[('prop', 'http://www.wikidata.org/prop/direct/P2636'), ('pName', 'Minkultury film ID')]\n",
      "[('prop', 'http://www.wikidata.org/prop/direct/P2638'), ('pName', 'TV.com ID')]\n",
      "[('prop', 'http://www.wikidata.org/prop/direct/P2639'), ('pName', 'Filmportal ID')]\n",
      "[('prop', 'http://www.wikidata.org/prop/direct/P2703'), ('pName', 'BFI National Archive work ID')]\n",
      "[('prop', 'http://www.wikidata.org/prop/direct/P2704'), ('pName', 'EIDR content ID')]\n",
      "[('prop', 'http://www.wikidata.org/prop/direct/P2755'), ('pName', 'exploitation visa number')]\n",
      "[('prop', 'http://www.wikidata.org/prop/direct/P2769'), ('pName', 'budget')]\n",
      "[('prop', 'http://www.wikidata.org/prop/direct/P3077'), ('pName', 'Cineplex Germany film ID')]\n",
      "[('prop', 'http://www.wikidata.org/prop/direct/P3107'), ('pName', 'LdiF ID')]\n",
      "[('prop', 'http://www.wikidata.org/prop/direct/P3121'), ('pName', 'Epguides ID')]\n",
      "[('prop', 'http://www.wikidata.org/prop/direct/P3129'), ('pName', 'cine.gr film ID')]\n",
      "[('prop', 'http://www.wikidata.org/prop/direct/P3135'), ('pName', 'elCinema film ID')]\n",
      "[('prop', 'http://www.wikidata.org/prop/direct/P3138'), ('pName', 'OFDb film ID')]\n",
      "[('prop', 'http://www.wikidata.org/prop/direct/P3141'), ('pName', 'EDb film ID')]\n",
      "[('prop', 'http://www.wikidata.org/prop/direct/P3143'), ('pName', 'elFilm film ID')]\n",
      "[('prop', 'http://www.wikidata.org/prop/direct/P3145'), ('pName', 'Sratim ID')]\n",
      "[('prop', 'http://www.wikidata.org/prop/direct/P3203'), ('pName', 'Ciné-Ressources film ID')]\n",
      "[('prop', 'http://www.wikidata.org/prop/direct/P3212'), ('pName', 'ISAN')]\n",
      "[('prop', 'http://www.wikidata.org/prop/direct/P3302'), ('pName', 'Open Media Database film ID')]\n",
      "[('prop', 'http://www.wikidata.org/prop/direct/P3414'), ('pName', 'Yle Areena item ID')]\n",
      "[('prop', 'http://www.wikidata.org/prop/direct/P3417'), ('pName', 'Quora topic ID')]\n",
      "[('prop', 'http://www.wikidata.org/prop/direct/P345'), ('pName', 'IMDb ID')]\n",
      "[('prop', 'http://www.wikidata.org/prop/direct/P3593'), ('pName', 'AFI Catalog of Feature Films ID')]\n",
      "[('prop', 'http://www.wikidata.org/prop/direct/P373'), ('pName', 'Commons category')]\n",
      "[('prop', 'http://www.wikidata.org/prop/direct/P3804'), ('pName', 'TV Guide show ID (former scheme)')]\n",
      "[('prop', 'http://www.wikidata.org/prop/direct/P3808'), ('pName', 'The Numbers movie ID')]\n",
      "[('prop', 'http://www.wikidata.org/prop/direct/P3844'), ('pName', 'Deutsche Synchronkartei film ID')]\n",
      "[('prop', 'http://www.wikidata.org/prop/direct/P3933'), ('pName', 'Cinema.de ID')]\n",
      "[('prop', 'http://www.wikidata.org/prop/direct/P4073'), ('pName', 'Fandom wiki ID')]\n",
      "[('prop', 'http://www.wikidata.org/prop/direct/P4276'), ('pName', 'Cinémathèque québécoise work identifier')]\n",
      "[('prop', 'http://www.wikidata.org/prop/direct/P4282'), ('pName', 'LUMIERE film ID')]\n",
      "[('prop', 'http://www.wikidata.org/prop/direct/P4438'), ('pName', 'BFI Films, TV and people ID')]\n",
      "[('prop', 'http://www.wikidata.org/prop/direct/P4529'), ('pName', 'Douban film ID')]\n",
      "[('prop', 'http://www.wikidata.org/prop/direct/P4632'), ('pName', 'Bechdel Test Movie List ID')]\n",
      "[('prop', 'http://www.wikidata.org/prop/direct/P4665'), ('pName', 'CineMagia title ID')]\n",
      "[('prop', 'http://www.wikidata.org/prop/direct/P4786'), ('pName', 'cinematografo film ID')]\n",
      "[('prop', 'http://www.wikidata.org/prop/direct/P480'), ('pName', 'FilmAffinity ID')]\n",
      "[('prop', 'http://www.wikidata.org/prop/direct/P4835'), ('pName', 'TheTVDB.com series ID')]\n",
      "[('prop', 'http://www.wikidata.org/prop/direct/P4947'), ('pName', 'TMDb movie ID')]\n",
      "[('prop', 'http://www.wikidata.org/prop/direct/P4983'), ('pName', 'TMDb TV series ID')]\n",
      "[('prop', 'http://www.wikidata.org/prop/direct/P5032'), ('pName', 'Filmweb.pl film ID')]\n",
      "[('prop', 'http://www.wikidata.org/prop/direct/P5099'), ('pName', 'Il mondo dei doppiatori ID')]\n",
      "[('prop', 'http://www.wikidata.org/prop/direct/P5327'), ('pName', 'fernsehserien.de ID')]\n",
      "[('prop', 'http://www.wikidata.org/prop/direct/P5357'), ('pName', 'The Encyclopedia of Science Fiction ID')]\n",
      "[('prop', 'http://www.wikidata.org/prop/direct/P571'), ('pName', 'inception')]\n",
      "[('prop', 'http://www.wikidata.org/prop/direct/P5732'), ('pName', 'bgm.tv subject ID')]\n",
      "[('prop', 'http://www.wikidata.org/prop/direct/P577'), ('pName', 'publication date')]\n",
      "[('prop', 'http://www.wikidata.org/prop/direct/P5786'), ('pName', 'Moviepilot.de film ID')]\n",
      "[('prop', 'http://www.wikidata.org/prop/direct/P580'), ('pName', 'start time')]\n",
      "[('prop', 'http://www.wikidata.org/prop/direct/P582'), ('pName', 'end time')]\n",
      "[('prop', 'http://www.wikidata.org/prop/direct/P5905'), ('pName', 'Comic Vine ID')]\n",
      "[('prop', 'http://www.wikidata.org/prop/direct/P5925'), ('pName', 'Moviepilot.de series ID')]\n",
      "[('prop', 'http://www.wikidata.org/prop/direct/P6127'), ('pName', 'Letterboxd film ID')]\n",
      "[('prop', 'http://www.wikidata.org/prop/direct/P6145'), ('pName', 'Academy Awards Database film ID')]\n",
      "[('prop', 'http://www.wikidata.org/prop/direct/P6262'), ('pName', 'Fandom article ID')]\n",
      "[('prop', 'http://www.wikidata.org/prop/direct/P6398'), ('pName', 'iTunes movie ID')]\n",
      "[('prop', 'http://www.wikidata.org/prop/direct/P646'), ('pName', 'Freebase ID')]\n",
      "[('prop', 'http://www.wikidata.org/prop/direct/P6562'), ('pName', 'Google Play Movies & TV ID')]\n",
      "[('prop', 'http://www.wikidata.org/prop/direct/P6760'), ('pName', 'Know Your Meme ID')]\n",
      "[('prop', 'http://www.wikidata.org/prop/direct/P6839'), ('pName', 'TV Tropes identifier')]\n",
      "[('prop', 'http://www.wikidata.org/prop/direct/P7334'), ('pName', 'Vudu video ID')]\n",
      "[('prop', 'http://www.wikidata.org/prop/direct/P7818'), ('pName', 'French Vikidia ID')]\n",
      "[('prop', 'http://www.wikidata.org/prop/direct/P7970'), ('pName', 'FandangoNow ID')]\n",
      "[('prop', 'http://www.wikidata.org/prop/direct/P8013'), ('pName', 'Trakt.tv ID')]\n",
      "[('prop', 'http://www.wikidata.org/prop/direct/P8033'), ('pName', 'Movie Review Query Engine ID')]\n",
      "[('prop', 'http://www.wikidata.org/prop/direct/P827'), ('pName', 'BBC programme ID')]\n",
      "[('prop', 'http://www.wikidata.org/prop/direct/P8278'), ('pName', 'serial identifier on SerialZone')]\n",
      "[('prop', 'http://www.wikidata.org/prop/direct/P8419'), ('pName', 'Archive of Our Own tag')]\n",
      "[('prop', 'http://www.wikidata.org/prop/direct/P8687'), ('pName', 'social media followers')]\n",
      "[('prop', 'http://www.wikidata.org/prop/direct/P8847'), ('pName', 'Kinorium movie ID')]\n",
      "[('prop', 'http://www.wikidata.org/prop/direct/P905'), ('pName', 'PORT film ID')]\n",
      "[('prop', 'http://www.wikidata.org/prop/direct/P9586'), ('pName', 'Apple TV movie ID')]\n",
      "[('prop', 'http://www.wikidata.org/prop/direct/P2826'), ('pName', 'Megogo ID')]\n",
      "[('prop', 'http://www.wikidata.org/prop/direct/P8055'), ('pName', 'Amazon.com Prime Video ID')]\n",
      "[('prop', 'http://www.wikidata.org/prop/direct/P3995'), ('pName', 'Filmweb.pl ID')]\n",
      "[('prop', 'http://www.wikidata.org/prop/direct/P4277'), ('pName', 'Daum movie ID')]\n",
      "[('prop', 'http://www.wikidata.org/prop/direct/P4784'), ('pName', 'Movieplayer TV-series ID')]\n",
      "[('prop', 'http://www.wikidata.org/prop/direct/P4834'), ('pName', 'Deutsche Synchronkartei series ID')]\n",
      "[('prop', 'http://www.wikidata.org/prop/direct/P5311'), ('pName', 'Kino-teatr.ua film ID')]\n",
      "[('prop', 'http://www.wikidata.org/prop/direct/P5990'), ('pName', 'Movies Anywhere ID')]\n",
      "[('prop', 'http://www.wikidata.org/prop/direct/P6133'), ('pName', 'Siamzone film ID')]\n",
      "[('prop', 'http://www.wikidata.org/prop/direct/P6467'), ('pName', 'Hulu series ID')]\n",
      "[('prop', 'http://www.wikidata.org/prop/direct/P6643'), ('pName', 'TV Spielfilm series ID')]\n",
      "[('prop', 'http://www.wikidata.org/prop/direct/P7107'), ('pName', 'LezWatch.TV show ID')]\n",
      "[('prop', 'http://www.wikidata.org/prop/direct/P9751'), ('pName', 'Apple TV show ID')]\n",
      "116\n"
     ]
    }
   ],
   "source": [
    "# find literal properties of the films and tv series\n",
    "queryString = \"\"\"\n",
    "SELECT DISTINCT ?prop ?pName WHERE { \n",
    "    VALUES ?val {wd:Q11424 wd:Q5398426}.\n",
    "    ?o wdt:P31 ?val;\n",
    "        ?prop ?x;\n",
    "        ?rel wd:Q2316684.\n",
    "    ?prop sc:name ?pName .\n",
    "    filter(isLiteral(?x)).\n",
    "}\n",
    "\"\"\"\n",
    "\n",
    "print(\"Results\")\n",
    "x = run_query(queryString)"
   ]
  },
  {
   "cell_type": "code",
   "execution_count": 17,
   "id": "0232bdb3-be94-4cc5-84f2-4b15d9e21a03",
   "metadata": {},
   "outputs": [
    {
     "name": "stdout",
     "output_type": "stream",
     "text": [
      "Results\n",
      "[('o', 'http://www.wikidata.org/entity/Q200396'), ('name', 'Sherlock Holmes'), ('date', '2009')]\n",
      "[('o', 'http://www.wikidata.org/entity/Q243643'), ('name', 'Sherlock Holmes: A Game of Shadows'), ('date', '2011')]\n",
      "[('o', 'http://www.wikidata.org/entity/Q247643'), ('name', 'Elementary'), ('date', '2013')]\n",
      "[('o', 'http://www.wikidata.org/entity/Q604180'), ('name', 'The Private Life of Sherlock Holmes'), ('date', '1970')]\n",
      "4\n"
     ]
    }
   ],
   "source": [
    "# use publication date to get the year\n",
    "queryString = \"\"\"\n",
    "SELECT ?o ?name (MIN(year(?x)) AS ?date) WHERE { \n",
    "    VALUES ?val {wd:Q11424 wd:Q5398426}.\n",
    "    ?o wdt:P31 ?val;\n",
    "        wdt:P577 ?x;\n",
    "        ?rel wd:Q2316684.\n",
    "    ?o sc:name ?name .\n",
    "}\n",
    "GROUP BY ?o ?name\n",
    "\"\"\"\n",
    "\n",
    "print(\"Results\")\n",
    "x = run_query(queryString)"
   ]
  },
  {
   "cell_type": "code",
   "execution_count": 18,
   "id": "5a043d1d",
   "metadata": {},
   "outputs": [
    {
     "name": "stdout",
     "output_type": "stream",
     "text": [
      "The index of this workflow is: 2_1\n",
      "The path is /locale/data/jupyter/prando/notebook/2022/results/workflow2_1.json\n",
      "JSON object updated\n"
     ]
    }
   ],
   "source": [
    "## single literal associated to an URI\n",
    "objs = []\n",
    "for i in x:\n",
    "    f_uri = i[0][1]\n",
    "    f_name = i[1][1]\n",
    "    val = i[2][1]\n",
    "    obj = {}\n",
    "    obj[\"refers_to\"] = f_uri\n",
    "    obj[\"refers_to_name\"] = f_name\n",
    "    obj[\"check\"] = \"value\"\n",
    "    obj[\"value\"]= val\n",
    "    objs.append(obj)\n",
    "evaluation.add_result(evaluation.get_index_workflow(pt),\"4\", evaluation.TYPE_REFERRED ,\"value\", objs)"
   ]
  },
  {
   "cell_type": "markdown",
   "id": "f05b9f72-6ab1-4374-b7a1-c5bd2fe8a30d",
   "metadata": {
    "jp-MarkdownHeadingCollapsed": true,
    "tags": []
   },
   "source": [
    "## Task 5"
   ]
  },
  {
   "cell_type": "code",
   "execution_count": 19,
   "id": "249d7a95-ced2-4c1e-ab9b-6a5c75b726d1",
   "metadata": {},
   "outputs": [
    {
     "name": "stdout",
     "output_type": "stream",
     "text": [
      "Results\n",
      "[('o', 'http://www.wikidata.org/entity/Q243643'), ('name', 'Sherlock Holmes: A Game of Shadows'), ('cast', '15')]\n",
      "[('o', 'http://www.wikidata.org/entity/Q604180'), ('name', 'The Private Life of Sherlock Holmes'), ('cast', '10')]\n",
      "[('o', 'http://www.wikidata.org/entity/Q200396'), ('name', 'Sherlock Holmes'), ('cast', '18')]\n",
      "[('o', 'http://www.wikidata.org/entity/Q387306'), ('name', 'Sherlock Holmes'), ('cast', '6')]\n",
      "[('o', 'http://www.wikidata.org/entity/Q247643'), ('name', 'Elementary'), ('cast', '144')]\n",
      "[('o', 'http://www.wikidata.org/entity/Q4523158'), ('name', 'Sherlock Holmes'), ('cast', '6')]\n",
      "[('o', 'http://www.wikidata.org/entity/Q192837'), ('name', 'Sherlock'), ('cast', '13')]\n",
      "7\n"
     ]
    }
   ],
   "source": [
    "# count the cast members\n",
    "queryString = \"\"\"\n",
    "SELECT ?o ?name (COUNT(DISTINCT(?x)) AS ?cast) WHERE { \n",
    "    VALUES ?val {wd:Q11424 wd:Q5398426}.\n",
    "    ?o wdt:P31 ?val;\n",
    "        wdt:P161 ?x;\n",
    "        ?rel wd:Q2316684.\n",
    "    ?o sc:name ?name .\n",
    "}\n",
    "GROUP BY ?o ?name\n",
    "\"\"\"\n",
    "\n",
    "print(\"Results\")\n",
    "x = run_query(queryString)"
   ]
  },
  {
   "cell_type": "code",
   "execution_count": 20,
   "id": "b0d19172-de88-48c0-bc9c-321839131e97",
   "metadata": {},
   "outputs": [
    {
     "name": "stdout",
     "output_type": "stream",
     "text": [
      "Results\n",
      "[('x', 'http://www.wikidata.org/entity/Q440926'), ('name', 'Geraldine James'), ('app', '2')]\n",
      "[('x', 'http://www.wikidata.org/entity/Q190386'), ('name', 'Rachel McAdams'), ('app', '2')]\n",
      "[('x', 'http://www.wikidata.org/entity/Q1102002'), ('name', 'Clive Russell'), ('app', '2')]\n",
      "[('x', 'http://www.wikidata.org/entity/Q236167'), ('name', 'Kelly Reilly'), ('app', '2')]\n",
      "[('x', 'http://www.wikidata.org/entity/Q165219'), ('name', 'Robert Downey Jr.'), ('app', '2')]\n",
      "[('x', 'http://www.wikidata.org/entity/Q45647'), ('name', 'Eddie Marsan'), ('app', '2')]\n",
      "[('x', 'http://www.wikidata.org/entity/Q160432'), ('name', 'Jude Law'), ('app', '2')]\n",
      "7\n"
     ]
    }
   ],
   "source": [
    "# check who worked on more films/tv series\n",
    "queryString = \"\"\"\n",
    "SELECT ?x ?name (COUNT(DISTINCT(?o)) AS ?app) WHERE { \n",
    "    VALUES ?val {wd:Q11424 wd:Q5398426}.\n",
    "    ?o wdt:P31 ?val;\n",
    "        wdt:P161 ?x;\n",
    "        ?rel wd:Q2316684.\n",
    "    ?x sc:name ?name .\n",
    "}\n",
    "GROUP BY ?x ?name\n",
    "HAVING (COUNT(DISTINCT ?o) > 1)\n",
    "\"\"\"\n",
    "\n",
    "print(\"Results\")\n",
    "x = run_query(queryString)"
   ]
  },
  {
   "cell_type": "code",
   "execution_count": 21,
   "id": "922c1666",
   "metadata": {},
   "outputs": [
    {
     "name": "stdout",
     "output_type": "stream",
     "text": [
      "The index of this workflow is: 2_1\n",
      "The path is /locale/data/jupyter/prando/notebook/2022/results/workflow2_1.json\n",
      "JSON object updated\n"
     ]
    }
   ],
   "source": [
    "## single literal associated to an URI\n",
    "objs = []\n",
    "for i in x:\n",
    "    f_uri = i[0][1]\n",
    "    f_name = i[1][1]\n",
    "    val = i[2][1]\n",
    "    obj = {}\n",
    "    obj[\"refers_to\"] = f_uri\n",
    "    obj[\"refers_to_name\"] = f_name\n",
    "    obj[\"check\"] = \"value\"\n",
    "    obj[\"value\"]= val\n",
    "    objs.append(obj)\n",
    "evaluation.add_result(evaluation.get_index_workflow(pt),\"5\", evaluation.TYPE_REFERRED ,\"value\", objs)"
   ]
  },
  {
   "cell_type": "markdown",
   "id": "a4a32d8e-c671-437d-872a-2fd86a182b48",
   "metadata": {
    "jp-MarkdownHeadingCollapsed": true,
    "tags": []
   },
   "source": [
    "## Task 6"
   ]
  },
  {
   "cell_type": "code",
   "execution_count": 22,
   "id": "e2a90fb8-3409-4e0d-803c-70ed1d7ff2f8",
   "metadata": {},
   "outputs": [
    {
     "name": "stdout",
     "output_type": "stream",
     "text": [
      "Results\n",
      "[('x', 'http://www.wikidata.org/entity/Q945887'), ('name', 'Primetime Emmy Award for Outstanding Supporting Actor in a Miniseries or a Movie')]\n",
      "[('x', 'http://www.wikidata.org/entity/Q989453'), ('name', 'Primetime Emmy Award for Outstanding Lead Actor in a Miniseries or a Movie')]\n",
      "[('x', 'http://www.wikidata.org/entity/Q17986500'), ('name', 'Primetime Emmy Award for Outstanding Cinematography for a Miniseries or Movie')]\n",
      "[('x', 'http://www.wikidata.org/entity/Q2925698'), ('name', 'British Academy Television Award for Best Drama Series')]\n",
      "[('x', 'http://www.wikidata.org/entity/Q3403230'), ('name', 'Primetime Emmy Award for Outstanding Writing for a Miniseries, Movie or a Dramatic Special')]\n",
      "[('x', 'http://www.wikidata.org/entity/Q838121'), ('name', 'Peabody Awards')]\n",
      "[('x', 'http://www.wikidata.org/entity/Q2925700'), ('name', 'British Academy Television Award for Best Supporting Actor')]\n",
      "[('x', 'http://www.wikidata.org/entity/Q7243513'), ('name', 'Primetime Emmy Award for Outstanding Special Visual Effects')]\n",
      "[('x', 'http://www.wikidata.org/entity/Q7243506'), ('name', 'Primetime Emmy Award for Outstanding Made for Television Movie')]\n",
      "[('x', 'http://www.wikidata.org/entity/Q16254850'), ('name', 'Primetime Emmy Award for Outstanding Sound Editing for a Limited or Anthology Series, Movie or Special')]\n",
      "[('x', 'http://www.wikidata.org/entity/Q18154853'), ('name', 'Teen Choice Award for Choice TV Actress Action')]\n",
      "[('x', 'http://www.wikidata.org/entity/Q7669617'), ('name', 'TCA Award for Outstanding Achievement in Movies, Miniseries and Specials')]\n",
      "[('x', 'http://www.wikidata.org/entity/Q17009259'), ('name', 'Primetime Emmy Award for Outstanding Music Composition for a Miniseries, Movie, or a Special')]\n",
      "[('x', 'http://www.wikidata.org/entity/Q24887148'), ('name', 'Primetime Emmy Award for Outstanding Single-Camera Picture Editing for a Limited Series or Movie')]\n",
      "[('x', 'http://www.wikidata.org/entity/Q3002947'), ('name', \"Critics' Choice Television Award for Best Movie/Miniseries\")]\n",
      "[('x', 'http://www.wikidata.org/entity/Q3002953'), ('name', \"Critics' Choice Television Award for Best Movie/Miniseries Actor\")]\n",
      "[('x', 'http://www.wikidata.org/entity/Q7426020'), ('name', 'Satellite Award for Best Miniseries')]\n",
      "17\n"
     ]
    }
   ],
   "source": [
    "# use award received to find the Primetime Emmy Award\n",
    "queryString = \"\"\"\n",
    "SELECT DISTINCT ?x ?name WHERE { \n",
    "    VALUES ?val {wd:Q11424 wd:Q5398426}.\n",
    "    ?o wdt:P31 ?val;\n",
    "        wdt:P166 ?x;\n",
    "        ?rel wd:Q2316684.\n",
    "    ?x sc:name ?name .\n",
    "}\n",
    "\"\"\"\n",
    "\n",
    "print(\"Results\")\n",
    "x = run_query(queryString)"
   ]
  },
  {
   "cell_type": "code",
   "execution_count": 23,
   "id": "4312a013-efcb-4c9b-a078-f2c70851cd87",
   "metadata": {},
   "outputs": [
    {
     "name": "stdout",
     "output_type": "stream",
     "text": [
      "Results\n",
      "[('y', 'http://www.wikidata.org/entity/Q1044427'), ('name', 'Primetime Emmy Award')]\n",
      "[('y', 'http://www.wikidata.org/entity/Q38033430'), ('name', 'class of award')]\n",
      "2\n"
     ]
    }
   ],
   "source": [
    "# see the instance of Primetime Emmy Award for Outstanding Writing for a Miniseries, Movie or a Dramatic Special\n",
    "queryString = \"\"\"\n",
    "SELECT DISTINCT ?y ?name WHERE { \n",
    "    wd:Q3403230 wdt:P31 ?y.\n",
    "    ?y sc:name ?name .\n",
    "}\n",
    "\"\"\"\n",
    "\n",
    "print(\"Results\")\n",
    "x = run_query(queryString)"
   ]
  },
  {
   "cell_type": "code",
   "execution_count": 24,
   "id": "010c8caf",
   "metadata": {},
   "outputs": [
    {
     "name": "stdout",
     "output_type": "stream",
     "text": [
      "The index of this workflow is: 2_1\n",
      "The path is /locale/data/jupyter/prando/notebook/2022/results/workflow2_1.json\n",
      "JSON object updated\n"
     ]
    }
   ],
   "source": [
    "### insert the result of TASK 6 in the file\n",
    "og_uri = \"http://www.wikidata.org/entity/Q1044427\"\n",
    "og_name = \"Primetime Emmy Award\"\n",
    "obj = {\"uri\":og_uri,\"name\":og_name}\n",
    "evaluation.add_result(evaluation.get_index_workflow(pt),\"6\", evaluation.TYPE_SINGLE ,\"uri\", [obj] ,\"all\")"
   ]
  },
  {
   "cell_type": "markdown",
   "id": "017606f3-e2a4-4873-8b2d-013a9841d62e",
   "metadata": {
    "jp-MarkdownHeadingCollapsed": true,
    "tags": []
   },
   "source": [
    "## Task 7"
   ]
  },
  {
   "cell_type": "code",
   "execution_count": 25,
   "id": "9b9caba6-db02-43e8-9ad8-5c9bc843431a",
   "metadata": {},
   "outputs": [
    {
     "name": "stdout",
     "output_type": "stream",
     "text": [
      "Results\n",
      "[('x', 'http://www.wikidata.org/entity/Q17048589'), ('name', 'Primetime Emmy Award for Outstanding Narrator')]\n",
      "[('x', 'http://www.wikidata.org/entity/Q989447'), ('name', 'Primetime Emmy Award for Outstanding Lead Actress in a Miniseries or a Movie')]\n",
      "[('x', 'http://www.wikidata.org/entity/Q1285504'), ('name', 'Primetime Emmy Award for Outstanding Supporting Actress in a Drama Series')]\n",
      "[('x', 'http://www.wikidata.org/entity/Q2981152'), ('name', 'Primetime Emmy Award for Outstanding Guest Actress in a Comedy Series')]\n",
      "[('x', 'http://www.wikidata.org/entity/Q583972'), ('name', 'Primetime Emmy Award for Outstanding Directing for a Drama Series')]\n",
      "[('x', 'http://www.wikidata.org/entity/Q945887'), ('name', 'Primetime Emmy Award for Outstanding Supporting Actor in a Miniseries or a Movie')]\n",
      "[('x', 'http://www.wikidata.org/entity/Q989453'), ('name', 'Primetime Emmy Award for Outstanding Lead Actor in a Miniseries or a Movie')]\n",
      "[('x', 'http://www.wikidata.org/entity/Q1286639'), ('name', 'Primetime Emmy Award for Outstanding Supporting Actor in a Drama Series')]\n",
      "[('x', 'http://www.wikidata.org/entity/Q337926'), ('name', 'Primetime Emmy Award for Outstanding Animated Program')]\n",
      "[('x', 'http://www.wikidata.org/entity/Q17986500'), ('name', 'Primetime Emmy Award for Outstanding Cinematography for a Miniseries or Movie')]\n",
      "[('x', 'http://www.wikidata.org/entity/Q3045762'), ('name', 'Primetime Emmy Award for Outstanding Writing for a Comedy Series')]\n",
      "[('x', 'http://www.wikidata.org/entity/Q3062632'), ('name', 'Primetime Emmy Award for Outstanding Guest Actress in a Drama Series')]\n",
      "[('x', 'http://www.wikidata.org/entity/Q3403229'), ('name', 'Primetime Emmy Award for Outstanding Directing for a Limited Series, Movie, or Dramatic Special')]\n",
      "[('x', 'http://www.wikidata.org/entity/Q989445'), ('name', 'Primetime Emmy Award for Outstanding Lead Actress in a Drama Series')]\n",
      "[('x', 'http://www.wikidata.org/entity/Q989449'), ('name', 'Primetime Emmy Award for Outstanding Supporting Actress in a Miniseries or a Movie')]\n",
      "[('x', 'http://www.wikidata.org/entity/Q2604800'), ('name', 'Primetime Emmy Award for Outstanding Guest Actor in a Drama Series')]\n",
      "[('x', 'http://www.wikidata.org/entity/Q1277961'), ('name', 'Primetime Emmy Award for Outstanding Directing for a Comedy Series')]\n",
      "[('x', 'http://www.wikidata.org/entity/Q3123491'), ('name', 'Primetime Emmy Award for Outstanding Writing for a Drama Series')]\n",
      "[('x', 'http://www.wikidata.org/entity/Q3403230'), ('name', 'Primetime Emmy Award for Outstanding Writing for a Miniseries, Movie or a Dramatic Special')]\n",
      "[('x', 'http://www.wikidata.org/entity/Q7243497'), ('name', 'Primetime Emmy Award for Outstanding Casting for a Drama Series')]\n",
      "[('x', 'http://www.wikidata.org/entity/Q7243502'), ('name', 'Primetime Emmy Award for Outstanding Cinematography for a Single-Camera Series')]\n",
      "[('x', 'http://www.wikidata.org/entity/Q7243504'), ('name', 'Primetime Emmy Award for Outstanding Costumes for a Series')]\n",
      "[('x', 'http://www.wikidata.org/entity/Q7243505'), ('name', 'Primetime Emmy Award for Outstanding Main Title Design')]\n",
      "[('x', 'http://www.wikidata.org/entity/Q7243511'), ('name', 'Primetime Emmy Award for Outstanding Single-Camera Picture Editing for a Drama Series')]\n",
      "[('x', 'http://www.wikidata.org/entity/Q25831324'), ('name', 'Primetime Emmy Award for Outstanding Directing for a Variety Series')]\n",
      "[('x', 'http://www.wikidata.org/entity/Q1285970'), ('name', 'Primetime Emmy Award for Outstanding Supporting Actor in a Comedy Series')]\n",
      "[('x', 'http://www.wikidata.org/entity/Q530923'), ('name', 'Primetime Emmy Award for Outstanding Guest Actor in a Comedy Series')]\n",
      "[('x', 'http://www.wikidata.org/entity/Q989442'), ('name', 'Primetime Emmy Award for Outstanding Lead Actor in a Comedy Series')]\n",
      "[('x', 'http://www.wikidata.org/entity/Q989439'), ('name', 'Primetime Emmy Award for Outstanding Lead Actor in a Drama Series')]\n",
      "[('x', 'http://www.wikidata.org/entity/Q4354969'), ('name', 'Primetime Emmy Award for Outstanding Host for a Reality or Reality-Competition Program')]\n",
      "[('x', 'http://www.wikidata.org/entity/Q7243513'), ('name', 'Primetime Emmy Award for Outstanding Special Visual Effects')]\n",
      "[('x', 'http://www.wikidata.org/entity/Q989438'), ('name', 'Primetime Emmy Award for Outstanding Drama Series')]\n",
      "[('x', 'http://www.wikidata.org/entity/Q989450'), ('name', 'Primetime Emmy Award for Outstanding Supporting Actress in a Comedy Series')]\n",
      "[('x', 'http://www.wikidata.org/entity/Q7243506'), ('name', 'Primetime Emmy Award for Outstanding Made for Television Movie')]\n",
      "[('x', 'http://www.wikidata.org/entity/Q28445729'), ('name', 'Primetime Emmy Award for Outstanding Actress in a Short Form Comedy or Drama Series')]\n",
      "[('x', 'http://www.wikidata.org/entity/Q7243507'), ('name', 'Primetime Emmy Award for Outstanding Original Main Title Theme Music')]\n",
      "[('x', 'http://www.wikidata.org/entity/Q7243500'), ('name', 'Primetime Emmy Award for Outstanding Cinematography for a One Hour Series')]\n",
      "[('x', 'http://www.wikidata.org/entity/Q30632982'), ('name', 'Primetime Emmy Award for Outstanding Cinematography for a Nonfiction Program')]\n",
      "[('x', 'http://www.wikidata.org/entity/Q1287335'), ('name', 'Primetime Emmy Award for Outstanding Lead Actress in a Comedy Series')]\n",
      "[('x', 'http://www.wikidata.org/entity/Q3131545'), ('name', 'Primetime Emmy Award for Outstanding Voice-Over Performance')]\n",
      "[('x', 'http://www.wikidata.org/entity/Q16254850'), ('name', 'Primetime Emmy Award for Outstanding Sound Editing for a Limited or Anthology Series, Movie or Special')]\n",
      "[('x', 'http://www.wikidata.org/entity/Q20714679'), ('name', 'Primetime Emmy Award for Outstanding Limited Miniseries')]\n",
      "[('x', 'http://www.wikidata.org/entity/Q7243508'), ('name', 'Primetime Emmy Award for Outstanding Music Composition for a Series')]\n",
      "[('x', 'http://www.wikidata.org/entity/Q18153303'), ('name', 'Primetime Emmy Award for Outstanding Unstructured Reality Program')]\n",
      "[('x', 'http://www.wikidata.org/entity/Q28445759'), ('name', 'Primetime Emmy Award for Outstanding Short Form Comedy or Drama Series')]\n",
      "[('x', 'http://www.wikidata.org/entity/Q50506251'), ('name', 'Primetime Emmy Award for Outstanding Directorial Achievement in Variety or Music')]\n",
      "[('x', 'http://www.wikidata.org/entity/Q17009259'), ('name', 'Primetime Emmy Award for Outstanding Music Composition for a Miniseries, Movie, or a Special')]\n",
      "[('x', 'http://www.wikidata.org/entity/Q17985610'), ('name', 'Primetime Emmy Award for Outstanding Art Direction for a Period Series, Miniseries or a Movie')]\n",
      "[('x', 'http://www.wikidata.org/entity/Q24902182'), ('name', 'Primetime Emmy Award for Outstanding Sound Mixing for a Limited Series or Movie')]\n",
      "[('x', 'http://www.wikidata.org/entity/Q28445727'), ('name', 'Primetime Emmy Award for Outstanding Actor in a Short Form Comedy or Drama Series')]\n",
      "[('x', 'http://www.wikidata.org/entity/Q7243499'), ('name', 'Primetime Emmy Award for Outstanding Cinematography for a Half-Hour Series')]\n",
      "[('x', 'http://www.wikidata.org/entity/Q7243514'), ('name', 'Primetime Emmy Award for Outstanding Reality-Competition Program')]\n",
      "[('x', 'http://www.wikidata.org/entity/Q17092538'), ('name', 'Primetime Emmy Award for Outstanding Stunt Coordination')]\n",
      "[('x', 'http://www.wikidata.org/entity/Q20858220'), ('name', 'Primetime Emmy Award for Program of the Year')]\n",
      "[('x', 'http://www.wikidata.org/entity/Q2110156'), ('name', 'Primetime Emmy Award for Outstanding Comedy Series')]\n",
      "[('x', 'http://www.wikidata.org/entity/Q13423511'), ('name', 'Primetime Emmy Award for Outstanding Miniseries or Movie')]\n",
      "[('x', 'http://www.wikidata.org/entity/Q17010296'), ('name', 'Primetime Emmy Award for Outstanding Character Voice-Over Performance')]\n",
      "[('x', 'http://www.wikidata.org/entity/Q7243495'), ('name', 'Primetime Emmy Award for Outstanding Casting for a Comedy Series')]\n",
      "[('x', 'http://www.wikidata.org/entity/Q7243496'), ('name', 'Primetime Emmy Award for Outstanding Casting for a Miniseries, Movie, or a Special')]\n",
      "[('x', 'http://www.wikidata.org/entity/Q7243503'), ('name', 'Primetime Emmy Award for Outstanding Costumes for a Miniseries, Movie or a Special')]\n",
      "[('x', 'http://www.wikidata.org/entity/Q16254853'), ('name', 'Primetime Emmy Award for Outstanding Sound Editing for a Comedy or Drama Series (One-Hour)')]\n",
      "[('x', 'http://www.wikidata.org/entity/Q7243516'), ('name', 'Primetime Emmy Award for Outstanding Variety, Music, or Comedy Special')]\n",
      "[('x', 'http://www.wikidata.org/entity/Q25021464'), ('name', 'Primetime Emmy Award for Outstanding Variety Talk Series')]\n",
      "[('x', 'http://www.wikidata.org/entity/Q7243498'), ('name', 'Primetime Emmy Award for Outstanding Choreography')]\n",
      "[('x', 'http://www.wikidata.org/entity/Q30644355'), ('name', 'Primetime Emmy Award for Outstanding Interactive Program')]\n",
      "[('x', 'http://www.wikidata.org/entity/Q28445917'), ('name', 'Primetime Emmy Award for Outstanding Cinematography for a Reality Program')]\n",
      "[('x', 'http://www.wikidata.org/entity/Q89817598'), ('name', 'Outstanding Cinematography for Nonfiction Programming (Single or Multi-Camera)')]\n",
      "[('x', 'http://www.wikidata.org/entity/Q16987659'), ('name', 'Primetime Emmy Award for Short-format Animation')]\n",
      "[('x', 'http://www.wikidata.org/entity/Q17010308'), ('name', \"Primetime Emmy Award for Outstanding Children's Program\")]\n",
      "[('x', 'http://www.wikidata.org/entity/Q7243510'), ('name', 'Primetime Emmy Award for Outstanding Single-Camera Picture Editing for a Comedy Series')]\n",
      "[('x', 'http://www.wikidata.org/entity/Q17010286'), ('name', 'Primetime Emmy Award for Outstanding Art Direction for a Multi-Camera Series')]\n",
      "[('x', 'http://www.wikidata.org/entity/Q7243517'), ('name', 'Primetime Emmy Award for Outstanding Variety, Music or Comedy Series')]\n",
      "[('x', 'http://www.wikidata.org/entity/Q7243501'), ('name', 'Primetime Emmy Award for Outstanding Cinematography for a Multi-Camera Series')]\n",
      "[('x', 'http://www.wikidata.org/entity/Q7243492'), ('name', 'Primetime Emmy Award for Actress of the Year')]\n",
      "[('x', 'http://www.wikidata.org/entity/Q7243493'), ('name', 'Primetime Emmy Award for Actor of the Year')]\n",
      "[('x', 'http://www.wikidata.org/entity/Q18153296'), ('name', 'Primetime Emmy Award for Outstanding Short-Format Live-Action Entertainment Program')]\n",
      "[('x', 'http://www.wikidata.org/entity/Q27159818'), ('name', 'Primetime Emmy Award for Best Producer for a Film Series')]\n",
      "[('x', 'http://www.wikidata.org/entity/Q55630471'), ('name', 'Primetime Emmy Award for Outstanding Sound Editing for a Comedy or Drama Series (Half-Hour) and Animation')]\n",
      "[('x', 'http://www.wikidata.org/entity/Q7243512'), ('name', 'Primetime Emmy Award for Outstanding Reality Program')]\n",
      "[('x', 'http://www.wikidata.org/entity/Q17985609'), ('name', 'Primetime Emmy Award for Outstanding Art Direction for a Contemporary Program')]\n",
      "[('x', 'http://www.wikidata.org/entity/Q17985608'), ('name', 'Primetime Emmy Award for Outstanding Art Direction for a Contemporary or Fantasy Series')]\n",
      "[('x', 'http://www.wikidata.org/entity/Q19880988'), ('name', 'Primetime Emmy Award for Outstanding New Series')]\n",
      "[('x', 'http://www.wikidata.org/entity/Q18153300'), ('name', 'Primetime Emmy Award for Outstanding Structured Reality Program')]\n",
      "[('x', 'http://www.wikidata.org/entity/Q98839622'), ('name', 'Primetime Emmy Award')]\n",
      "84\n"
     ]
    }
   ],
   "source": [
    "# list the Primetime Emmy Awards\n",
    "queryString = \"\"\"\n",
    "SELECT DISTINCT ?x ?name WHERE { \n",
    "    ?x wdt:P31 wd:Q1044427.\n",
    "    ?x sc:name ?name .\n",
    "}\n",
    "\"\"\"\n",
    "\n",
    "print(\"Results\")\n",
    "x = run_query(queryString)"
   ]
  },
  {
   "cell_type": "code",
   "execution_count": 26,
   "id": "2450e576",
   "metadata": {},
   "outputs": [
    {
     "name": "stdout",
     "output_type": "stream",
     "text": [
      "The index of this workflow is: 2_1\n",
      "The path is /locale/data/jupyter/prando/notebook/2022/results/workflow2_1.json\n",
      "JSON object updated\n"
     ]
    }
   ],
   "source": [
    "obj = [{\"uri\":r[0][1],\"name\":r[1][1]} for r in x]\n",
    "evaluation.add_result(evaluation.get_index_workflow(pt),\"7\", evaluation.TYPE_SET ,\"uri\", obj)"
   ]
  },
  {
   "cell_type": "markdown",
   "id": "f31b0d6f-da66-4619-8483-39ac8382da88",
   "metadata": {},
   "source": [
    "## Task 8"
   ]
  },
  {
   "cell_type": "code",
   "execution_count": 27,
   "id": "d03a795b-0945-4992-979e-2b6bc6ecc1f8",
   "metadata": {},
   "outputs": [
    {
     "name": "stdout",
     "output_type": "stream",
     "text": [
      "Results\n",
      "[('o', 'http://www.wikidata.org/entity/Q200396'), ('name', 'Sherlock Holmes'), ('award', '0')]\n",
      "[('o', 'http://www.wikidata.org/entity/Q192837'), ('name', 'Sherlock'), ('award', '8')]\n",
      "[('o', 'http://www.wikidata.org/entity/Q4523158'), ('name', 'Sherlock Holmes'), ('award', '0')]\n",
      "[('o', 'http://www.wikidata.org/entity/Q387306'), ('name', 'Sherlock Holmes'), ('award', '0')]\n",
      "[('o', 'http://www.wikidata.org/entity/Q243643'), ('name', 'Sherlock Holmes: A Game of Shadows'), ('award', '0')]\n",
      "[('o', 'http://www.wikidata.org/entity/Q247643'), ('name', 'Elementary'), ('award', '0')]\n",
      "[('o', 'http://www.wikidata.org/entity/Q604180'), ('name', 'The Private Life of Sherlock Holmes'), ('award', '0')]\n",
      "7\n"
     ]
    }
   ],
   "source": [
    "# count the how many Primetime Emmy Awards each film/tv series won\n",
    "queryString = \"\"\"\n",
    "SELECT DISTINCT ?o ?name (COUNT(?x) AS ?award) WHERE { \n",
    "    VALUES ?val {wd:Q11424 wd:Q5398426}.\n",
    "    ?o wdt:P31 ?val;\n",
    "        ?rel wd:Q2316684.\n",
    "    OPTIONAL{?o wdt:P166 ?x.\n",
    "    ?x wdt:P31 wd:Q1044427.}\n",
    "    ?o sc:name ?name .\n",
    "}\n",
    "GROUP BY ?o ?name\n",
    "\"\"\"\n",
    "\n",
    "print(\"Results\")\n",
    "x = run_query(queryString)"
   ]
  },
  {
   "cell_type": "code",
   "execution_count": 28,
   "id": "522aebcf-5dc5-4ba1-9194-907483b319b2",
   "metadata": {},
   "outputs": [
    {
     "name": "stdout",
     "output_type": "stream",
     "text": [
      "The index of this workflow is: 2_1\n",
      "The path is /locale/data/jupyter/prando/notebook/2022/results/workflow2_1.json\n",
      "JSON object updated\n"
     ]
    }
   ],
   "source": [
    "## single literal associated to an URI\n",
    "objs = []\n",
    "for i in x:\n",
    "    f_uri = i[0][1]\n",
    "    f_name = i[1][1]\n",
    "    val = i[2][1]\n",
    "    obj = {}\n",
    "    obj[\"refers_to\"] = f_uri\n",
    "    obj[\"refers_to_name\"] = f_name\n",
    "    obj[\"check\"] = \"value\"\n",
    "    obj[\"value\"]= val\n",
    "    objs.append(obj)\n",
    "evaluation.add_result(evaluation.get_index_workflow(pt),\"8\", evaluation.TYPE_REFERRED ,\"value\", objs)"
   ]
  }
 ],
 "metadata": {
  "kernelspec": {
   "display_name": "Python 3 (ipykernel)",
   "language": "python",
   "name": "python3"
  },
  "language_info": {
   "codemirror_mode": {
    "name": "ipython",
    "version": 3
   },
   "file_extension": ".py",
   "mimetype": "text/x-python",
   "name": "python",
   "nbconvert_exporter": "python",
   "pygments_lexer": "ipython3",
   "version": "3.10.6"
  }
 },
 "nbformat": 4,
 "nbformat_minor": 5
}
