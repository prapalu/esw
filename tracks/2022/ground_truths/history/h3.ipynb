{
 "cells": [
  {
   "cell_type": "markdown",
   "id": "7034c3bf-6eb0-4418-8687-7b9d2a501103",
   "metadata": {},
   "source": [
    "# General instructions\n",
    "\n",
    "The goal of the project is to materialize a set of **exploratory workloads** over a real-world, large-scale,  open-domain KG: [WikiData](https://www.wikidata.org/wiki/Wikidata:Main_Page)\n",
    "\n",
    "An exploratory workload  is composed by a set of queries, where each query is related to the information obtained previously.\n",
    "\n",
    "An exploratory workload starts with a usually vague, open ended question, and does not assume the person issuing the workload has a clear understanding of the data contained in the target database or its structure.\n",
    "\n",
    "Remeber that:\n",
    "\n",
    "1. All the queries must run in the python notebook\n",
    "2. You can use classes and properties only if you find them via a SPARQL query that must be present in the notebook\n",
    "3. You do not delete useless queries. Keep everything that is synthatically valid \n",
    "\n",
    "```\n",
    "?p <http://schema.org/name> ?name .\n",
    "```\n",
    "    \n",
    "    is the BGP returning a human-readable name of a property or a class in Wikidata."
   ]
  },
  {
   "cell_type": "code",
   "execution_count": 4,
   "id": "3605c9d5-5371-49a5-be8d-d66e8f417139",
   "metadata": {},
   "outputs": [],
   "source": [
    "## SETUP used later\n",
    "import sys\n",
    "import os\n",
    "import json\n",
    "import pandas as pd\n",
    "sys.path.insert(1, '../../../../src/')\n",
    "import gt_modules.evaluation as evaluation\n",
    "from SPARQLWrapper import SPARQLWrapper, JSON\n",
    "\n",
    "\n",
    "prefixString = \"\"\"\n",
    "##-history3-##\n",
    "PREFIX wd: <http://www.wikidata.org/entity/> \n",
    "PREFIX wdt: <http://www.wikidata.org/prop/direct/> \n",
    "PREFIX sc: <http://schema.org/>\n",
    "\"\"\"\n",
    "\n",
    "# select and construct queries\n",
    "def run_query(queryString,verbose = True):\n",
    "    to_run = prefixString + \"\\n\" + queryString\n",
    "\n",
    "    sparql = SPARQLWrapper(\"http://gracevirtuoso.dei.unipd.it/sparql\")\n",
    "    sparql.setTimeout(300)\n",
    "    sparql.setReturnFormat(JSON)\n",
    "    sparql.setQuery(to_run)\n",
    "\n",
    "    try :\n",
    "        results = sparql.query()\n",
    "        json_results = results.convert()\n",
    "        if len(json_results['results']['bindings'])==0:\n",
    "            print(\"Empty\")\n",
    "            return []\n",
    "        array = []\n",
    "        for bindings in json_results['results']['bindings']:\n",
    "            app =  [ (var, value['value'])  for var, value in bindings.items() ] \n",
    "            if verbose:\n",
    "                print( app)\n",
    "            array.append(app)\n",
    "        if verbose:\n",
    "            print(len(array))\n",
    "        return array\n",
    "\n",
    "    except Exception as e :\n",
    "        print(\"The operation failed\", e)\n",
    "    \n",
    "# ASk queries\n",
    "def run_ask_query(queryString):\n",
    "    to_run = prefixString + \"\\n\" + queryString\n",
    "\n",
    "    sparql = SPARQLWrapper(\"http://gracevirtuoso.dei.unipd.it/sparql\")\n",
    "    sparql.setTimeout(300)\n",
    "    sparql.setReturnFormat(JSON)\n",
    "    sparql.setQuery(to_run)\n",
    "\n",
    "    try :\n",
    "        return sparql.query().convert()\n",
    "\n",
    "    except Exception as e :\n",
    "        print(\"The operation failed\", e)"
   ]
  },
  {
   "cell_type": "markdown",
   "id": "d477a59c-a68c-4c8f-9f97-8ca5294d7d27",
   "metadata": {},
   "source": [
    "# History Workflow Series (\"Cultural Movements explorative search\") \n",
    "\n",
    "Consider the following exploratory information need:\n",
    "\n",
    "> investigate the cultural movements, in particular the Renaissance, Baroque and Romanticsm. We'd like to get an overview of the main artists belonging to these movements, musicians, poets, sculptors and painters."
   ]
  },
  {
   "cell_type": "markdown",
   "id": "4a45c0ba-f79e-441d-bec5-84401b09db70",
   "metadata": {},
   "source": [
    "## Useful URIs for the current workflow\n",
    "The following are given:\n",
    "\n",
    "| IRI           | Description   | Role      |\n",
    "| -----------   | -----------   |-----------|\n",
    "| `wdt:P1647`   | subproperty   | predicate |\n",
    "| `wdt:P31`     | instance of   | predicate |\n",
    "| `wdt:P106`    | occupation    | predicate | \n",
    "| `wdt:P279`    | subclass      | predicate |\n",
    "| `wdt:P27`     | nationality   | predicate |\n",
    "| `wdt:P3342`     | Significant person       | predicate |\n",
    "| `wd:Q5`| Human       | node |\n",
    "| `wd:Q37562`| Donatello    | node |\n",
    "| `wd:Q19675`| Louvre Museum | node |\n"
   ]
  },
  {
   "cell_type": "markdown",
   "id": "7af439fb-96e4-4dbb-a381-f19afab79f86",
   "metadata": {
    "tags": []
   },
   "source": [
    "\n",
    "\n",
    "\n",
    "Also consider\n",
    "\n",
    "```\n",
    "wd:Q37562 ?p ?obj .\n",
    "```\n",
    "\n",
    "is the BGP to retrieve all **properties of Donatello**\n",
    "\n",
    "Please consider that when you return a resource, you should return the IRI and the label of the resource. In particular, when the task require you to identify a BGP the result set must always be a list of couples IRI - label.\n",
    "\n",
    "The workload should:\n",
    "\n",
    "\n",
    "1. Identify the BGP for Cultural Movement\n",
    "\n",
    "2. Identify the BGP for Renassaince, Baroque and Romanticism\n",
    "\n",
    "3. Identify the BGP for composer, painter, sculptor and poet\n",
    "\n",
    "4. Consider Renaissance, Baroque and Romanticism. Find how many composers, painters, sculptors and poets belong to those cultural movements (the results set must be a list of triples movement, job, #people)\n",
    "\n",
    "5. Find how many sculptures were made in Italy during Renaissance, Baroque, and Romanticism movements. Please consider all the sculptures and all the sculpture subtypes. (the result set must be a list of triples movement IRI, label and #sculptures).\n",
    "\n",
    "6. For each European country find how many poets belong to Romanticism (the result set must be a list of triples country IRI, label and #poets).\n",
    "\n",
    "7. Find the number of sculptures in the Louvre Museum belonging to Renaissance, Baroque, or Romanticism (return a number for each movement) (the result set must be a list of triples movement IRI, label and #sculptures)."
   ]
  },
  {
   "cell_type": "code",
   "execution_count": 5,
   "id": "59167675",
   "metadata": {},
   "outputs": [
    {
     "name": "stdout",
     "output_type": "stream",
     "text": [
      "The index of this workflow is: 1_6\n"
     ]
    }
   ],
   "source": [
    "## startup the evaluation\n",
    "# setup the file and create the empty json\n",
    "ipname = \"h3.ipynb\"\n",
    "pt = os.getcwd()+os.sep+ipname\n",
    "evaluation.setup(pt)"
   ]
  },
  {
   "cell_type": "markdown",
   "id": "130c4e78-ec70-48c2-aba0-5bb0d0f63286",
   "metadata": {
    "tags": []
   },
   "source": [
    "## Task 1"
   ]
  },
  {
   "cell_type": "code",
   "execution_count": 6,
   "id": "680cf5f4-fa91-4553-839b-333f8fe90bc7",
   "metadata": {},
   "outputs": [
    {
     "name": "stdout",
     "output_type": "stream",
     "text": [
      "Results\n",
      "[('prop', 'http://www.wikidata.org/prop/direct/P1005'), ('name', 'Portuguese National Library ID')]\n",
      "[('prop', 'http://www.wikidata.org/prop/direct/P1006'), ('name', 'Nationale Thesaurus voor Auteurs ID')]\n",
      "[('prop', 'http://www.wikidata.org/prop/direct/P101'), ('name', 'field of work')]\n",
      "[('prop', 'http://www.wikidata.org/prop/direct/P1015'), ('name', 'NORAF ID')]\n",
      "[('prop', 'http://www.wikidata.org/prop/direct/P1017'), ('name', 'Vatican Library ID (former scheme)')]\n",
      "[('prop', 'http://www.wikidata.org/prop/direct/P106'), ('name', 'occupation')]\n",
      "[('prop', 'http://www.wikidata.org/prop/direct/P1066'), ('name', 'student of')]\n",
      "[('prop', 'http://www.wikidata.org/prop/direct/P1138'), ('name', 'Kunstindeks Danmark Artist ID')]\n",
      "[('prop', 'http://www.wikidata.org/prop/direct/P119'), ('name', 'place of burial')]\n",
      "[('prop', 'http://www.wikidata.org/prop/direct/P1207'), ('name', 'NUKAT ID')]\n",
      "[('prop', 'http://www.wikidata.org/prop/direct/P1248'), ('name', 'KulturNav-ID')]\n",
      "[('prop', 'http://www.wikidata.org/prop/direct/P1263'), ('name', 'NNDB people ID')]\n",
      "[('prop', 'http://www.wikidata.org/prop/direct/P1273'), ('name', 'CANTIC ID')]\n",
      "[('prop', 'http://www.wikidata.org/prop/direct/P1280'), ('name', 'CONOR.SI ID')]\n",
      "[('prop', 'http://www.wikidata.org/prop/direct/P1296'), ('name', 'Gran Enciclopèdia Catalana ID')]\n",
      "[('prop', 'http://www.wikidata.org/prop/direct/P1315'), ('name', 'NLA Trove ID')]\n",
      "[('prop', 'http://www.wikidata.org/prop/direct/P1343'), ('name', 'described by source')]\n",
      "[('prop', 'http://www.wikidata.org/prop/direct/P135'), ('name', 'movement')]\n",
      "[('prop', 'http://www.wikidata.org/prop/direct/P136'), ('name', 'genre')]\n",
      "[('prop', 'http://www.wikidata.org/prop/direct/P1367'), ('name', 'Art UK artist ID')]\n",
      "[('prop', 'http://www.wikidata.org/prop/direct/P1368'), ('name', 'LNB ID')]\n",
      "[('prop', 'http://www.wikidata.org/prop/direct/P1412'), ('name', 'languages spoken, written or signed')]\n",
      "[('prop', 'http://www.wikidata.org/prop/direct/P1417'), ('name', 'Encyclopædia Britannica Online ID')]\n",
      "[('prop', 'http://www.wikidata.org/prop/direct/P1422'), ('name', 'Sandrart.net person ID')]\n",
      "[('prop', 'http://www.wikidata.org/prop/direct/P1472'), ('name', 'Commons Creator page')]\n",
      "[('prop', 'http://www.wikidata.org/prop/direct/P1580'), ('name', 'University of Barcelona authority ID')]\n",
      "[('prop', 'http://www.wikidata.org/prop/direct/P1711'), ('name', 'British Museum person or institution ID')]\n",
      "[('prop', 'http://www.wikidata.org/prop/direct/P172'), ('name', 'ethnic group')]\n",
      "[('prop', 'http://www.wikidata.org/prop/direct/P18'), ('name', 'image')]\n",
      "[('prop', 'http://www.wikidata.org/prop/direct/P1871'), ('name', 'CERL Thesaurus ID')]\n",
      "[('prop', 'http://www.wikidata.org/prop/direct/P1882'), ('name', 'Web Gallery of Art ID')]\n",
      "[('prop', 'http://www.wikidata.org/prop/direct/P19'), ('name', 'place of birth')]\n",
      "[('prop', 'http://www.wikidata.org/prop/direct/P1986'), ('name', 'Biographical Dictionary of Italian People ID')]\n",
      "[('prop', 'http://www.wikidata.org/prop/direct/P20'), ('name', 'place of death')]\n",
      "[('prop', 'http://www.wikidata.org/prop/direct/P2042'), ('name', 'Artsy artist ID')]\n",
      "[('prop', 'http://www.wikidata.org/prop/direct/P21'), ('name', 'sex or gender')]\n",
      "[('prop', 'http://www.wikidata.org/prop/direct/P213'), ('name', 'ISNI')]\n",
      "[('prop', 'http://www.wikidata.org/prop/direct/P214'), ('name', 'VIAF ID')]\n",
      "[('prop', 'http://www.wikidata.org/prop/direct/P2163'), ('name', 'FAST ID')]\n",
      "[('prop', 'http://www.wikidata.org/prop/direct/P2252'), ('name', 'National Gallery of Art artist ID')]\n",
      "[('prop', 'http://www.wikidata.org/prop/direct/P227'), ('name', 'GND ID')]\n",
      "[('prop', 'http://www.wikidata.org/prop/direct/P2342'), ('name', 'AGORHA person/institution ID')]\n",
      "[('prop', 'http://www.wikidata.org/prop/direct/P244'), ('name', 'Library of Congress authority ID')]\n",
      "[('prop', 'http://www.wikidata.org/prop/direct/P245'), ('name', 'Union List of Artist Names ID')]\n",
      "[('prop', 'http://www.wikidata.org/prop/direct/P2538'), ('name', 'Nationalmuseum Sweden actor ID')]\n",
      "[('prop', 'http://www.wikidata.org/prop/direct/P2600'), ('name', 'Geni.com profile ID')]\n",
      "[('prop', 'http://www.wikidata.org/prop/direct/P268'), ('name', 'Bibliothèque nationale de France ID')]\n",
      "[('prop', 'http://www.wikidata.org/prop/direct/P269'), ('name', 'IdRef ID')]\n",
      "[('prop', 'http://www.wikidata.org/prop/direct/P27'), ('name', 'country of citizenship')]\n",
      "[('prop', 'http://www.wikidata.org/prop/direct/P271'), ('name', 'CiNii author ID (books)')]\n",
      "[('prop', 'http://www.wikidata.org/prop/direct/P2732'), ('name', 'Persée author ID')]\n",
      "[('prop', 'http://www.wikidata.org/prop/direct/P2843'), ('name', 'Benezit ID')]\n",
      "[('prop', 'http://www.wikidata.org/prop/direct/P2924'), ('name', 'Great Russian Encyclopedia Online ID')]\n",
      "[('prop', 'http://www.wikidata.org/prop/direct/P2949'), ('name', 'WikiTree person ID')]\n",
      "[('prop', 'http://www.wikidata.org/prop/direct/P31'), ('name', 'instance of')]\n",
      "[('prop', 'http://www.wikidata.org/prop/direct/P3219'), ('name', 'Encyclopædia Universalis ID')]\n",
      "[('prop', 'http://www.wikidata.org/prop/direct/P3222'), ('name', 'NE.se ID')]\n",
      "[('prop', 'http://www.wikidata.org/prop/direct/P3241'), ('name', 'Catholic Encyclopedia ID')]\n",
      "[('prop', 'http://www.wikidata.org/prop/direct/P3365'), ('name', 'Treccani ID')]\n",
      "[('prop', 'http://www.wikidata.org/prop/direct/P3430'), ('name', 'SNAC ARK ID')]\n",
      "[('prop', 'http://www.wikidata.org/prop/direct/P349'), ('name', 'National Diet Library ID')]\n",
      "[('prop', 'http://www.wikidata.org/prop/direct/P373'), ('name', 'Commons category')]\n",
      "[('prop', 'http://www.wikidata.org/prop/direct/P3782'), ('name', 'Artnet artist ID')]\n",
      "[('prop', 'http://www.wikidata.org/prop/direct/P3791'), ('name', 'Art Renewal Center artist ID')]\n",
      "[('prop', 'http://www.wikidata.org/prop/direct/P3888'), ('name', 'Boijmans artist ID')]\n",
      "[('prop', 'http://www.wikidata.org/prop/direct/P396'), ('name', 'SBN author ID')]\n",
      "[('prop', 'http://www.wikidata.org/prop/direct/P3987'), ('name', 'SHARE Catalogue author ID')]\n",
      "[('prop', 'http://www.wikidata.org/prop/direct/P409'), ('name', 'Libraries Australia ID')]\n",
      "[('prop', 'http://www.wikidata.org/prop/direct/P4145'), ('name', 'Athenaeum person ID')]\n",
      "[('prop', 'http://www.wikidata.org/prop/direct/P4223'), ('name', \"Treccani's Enciclopedia Italiana ID\")]\n",
      "[('prop', 'http://www.wikidata.org/prop/direct/P4553'), ('name', 'RA Collections ID')]\n",
      "[('prop', 'http://www.wikidata.org/prop/direct/P4808'), ('name', 'Royal Academy new identifier')]\n",
      "[('prop', 'http://www.wikidata.org/prop/direct/P4927'), ('name', 'Invaluable.com person ID')]\n",
      "[('prop', 'http://www.wikidata.org/prop/direct/P5008'), ('name', 'on focus list of Wikimedia project')]\n",
      "[('prop', 'http://www.wikidata.org/prop/direct/P5019'), ('name', 'Brockhaus Enzyklopädie online ID')]\n",
      "[('prop', 'http://www.wikidata.org/prop/direct/P5063'), ('name', 'Interlingual Index ID')]\n",
      "[('prop', 'http://www.wikidata.org/prop/direct/P535'), ('name', 'Find A Grave memorial ID')]\n",
      "[('prop', 'http://www.wikidata.org/prop/direct/P5587'), ('name', 'Libris-URI')]\n",
      "[('prop', 'http://www.wikidata.org/prop/direct/P5597'), ('name', 'Artcyclopedia artist ID')]\n",
      "[('prop', 'http://www.wikidata.org/prop/direct/P569'), ('name', 'date of birth')]\n",
      "[('prop', 'http://www.wikidata.org/prop/direct/P570'), ('name', 'date of death')]\n",
      "[('prop', 'http://www.wikidata.org/prop/direct/P6002'), ('name', 'WikiArt ID')]\n",
      "[('prop', 'http://www.wikidata.org/prop/direct/P6379'), ('name', 'has works in the collection')]\n",
      "[('prop', 'http://www.wikidata.org/prop/direct/P6394'), ('name', 'ELNET ID')]\n",
      "[('prop', 'http://www.wikidata.org/prop/direct/P646'), ('name', 'Freebase ID')]\n",
      "[('prop', 'http://www.wikidata.org/prop/direct/P648'), ('name', 'Open Library ID')]\n",
      "[('prop', 'http://www.wikidata.org/prop/direct/P650'), ('name', 'RKDartists ID')]\n",
      "[('prop', 'http://www.wikidata.org/prop/direct/P6656'), ('name', 'BHCL ID (former scheme)')]\n",
      "[('prop', 'http://www.wikidata.org/prop/direct/P6706'), ('name', 'De Agostini ID')]\n",
      "[('prop', 'http://www.wikidata.org/prop/direct/P6844'), ('name', 'abART person ID')]\n",
      "[('prop', 'http://www.wikidata.org/prop/direct/P691'), ('name', 'NKCR AUT ID')]\n",
      "[('prop', 'http://www.wikidata.org/prop/direct/P7293'), ('name', 'PLWABN ID')]\n",
      "[('prop', 'http://www.wikidata.org/prop/direct/P734'), ('name', 'family name')]\n",
      "[('prop', 'http://www.wikidata.org/prop/direct/P735'), ('name', 'given name')]\n",
      "[('prop', 'http://www.wikidata.org/prop/direct/P7444'), ('name', 'Rijksmuseum Research Library authority ID')]\n",
      "[('prop', 'http://www.wikidata.org/prop/direct/P7666'), ('name', 'Visuotinė lietuvių enciklopedija ID')]\n",
      "[('prop', 'http://www.wikidata.org/prop/direct/P7699'), ('name', 'National Library of Lithuania ID')]\n",
      "[('prop', 'http://www.wikidata.org/prop/direct/P7704'), ('name', 'Europeana entity')]\n",
      "[('prop', 'http://www.wikidata.org/prop/direct/P7711'), ('name', 'Joconde author ID')]\n",
      "[('prop', 'http://www.wikidata.org/prop/direct/P7763'), ('name', 'copyright status as a creator')]\n",
      "[('prop', 'http://www.wikidata.org/prop/direct/P7796'), ('name', 'BeWeb person ID')]\n",
      "[('prop', 'http://www.wikidata.org/prop/direct/P7818'), ('name', 'French Vikidia ID')]\n",
      "[('prop', 'http://www.wikidata.org/prop/direct/P7848'), ('name', 'Frick Art Reference Library Photoarchive ID')]\n",
      "[('prop', 'http://www.wikidata.org/prop/direct/P7859'), ('name', 'WorldCat Identities ID')]\n",
      "[('prop', 'http://www.wikidata.org/prop/direct/P7902'), ('name', 'Deutsche Biographie (GND) ID')]\n",
      "[('prop', 'http://www.wikidata.org/prop/direct/P800'), ('name', 'notable work')]\n",
      "[('prop', 'http://www.wikidata.org/prop/direct/P802'), ('name', 'student')]\n",
      "[('prop', 'http://www.wikidata.org/prop/direct/P8034'), ('name', 'Vatican Library VcBA ID')]\n",
      "[('prop', 'http://www.wikidata.org/prop/direct/P8179'), ('name', 'Canadiana NCF ID')]\n",
      "[('prop', 'http://www.wikidata.org/prop/direct/P8189'), ('name', 'National Library of Israel J9U ID')]\n",
      "[('prop', 'http://www.wikidata.org/prop/direct/P8210'), ('name', 'LombardiaBeniCulturali artwork author ID')]\n",
      "[('prop', 'http://www.wikidata.org/prop/direct/P8406'), ('name', 'Grove Art Online ID')]\n",
      "[('prop', 'http://www.wikidata.org/prop/direct/P8750'), ('name', 'Unione Romana Biblioteche Scientifiche ID')]\n",
      "[('prop', 'http://www.wikidata.org/prop/direct/P8783'), ('name', 'AAGM person or institution ID')]\n",
      "[('prop', 'http://www.wikidata.org/prop/direct/P8805'), ('name', 'LIMIS person ID')]\n",
      "[('prop', 'http://www.wikidata.org/prop/direct/P8814'), ('name', 'WordNet 3.1 Synset ID')]\n",
      "[('prop', 'http://www.wikidata.org/prop/direct/P9000'), ('name', 'World History Encyclopedia ID')]\n",
      "[('prop', 'http://www.wikidata.org/prop/direct/P9037'), ('name', 'BHCL UUID')]\n",
      "[('prop', 'http://www.wikidata.org/prop/direct/P9049'), ('name', 'ICCD agent ID')]\n",
      "[('prop', 'http://www.wikidata.org/prop/direct/P906'), ('name', 'SELIBR ID')]\n",
      "[('prop', 'http://www.wikidata.org/prop/direct/P9081'), ('name', 'SEARCH on line catalogue ID')]\n",
      "[('prop', 'http://www.wikidata.org/prop/direct/P910'), ('name', \"topic's main category\")]\n",
      "[('prop', 'http://www.wikidata.org/prop/direct/P9164'), ('name', 'Svenska Institutet i Rom ID')]\n",
      "[('prop', 'http://www.wikidata.org/prop/direct/P9251'), ('name', 'Cyprus University of Technology ID')]\n",
      "[('prop', 'http://www.wikidata.org/prop/direct/P935'), ('name', 'Commons gallery')]\n",
      "[('prop', 'http://www.wikidata.org/prop/direct/P937'), ('name', 'work location')]\n",
      "[('prop', 'http://www.wikidata.org/prop/direct/P949'), ('name', 'National Library of Israel ID')]\n",
      "[('prop', 'http://www.wikidata.org/prop/direct/P9493'), ('name', 'artist files at')]\n",
      "[('prop', 'http://www.wikidata.org/prop/direct/P950'), ('name', 'Biblioteca Nacional de España ID')]\n",
      "[('prop', 'http://www.wikidata.org/prop/direct/P9507'), ('name', 'NBM authority ID')]\n",
      "130\n"
     ]
    }
   ],
   "source": [
    "# look at the properties of Donatello\n",
    "queryString = \"\"\"\n",
    "SELECT  DISTINCT ?prop ?name \n",
    "WHERE {\n",
    "    wd:Q37562 ?prop ?obj .\n",
    "    ?prop sc:name ?name.\n",
    "}\n",
    "\"\"\"\n",
    "\n",
    "print(\"Results\")\n",
    "x=run_query(queryString)"
   ]
  },
  {
   "cell_type": "code",
   "execution_count": 7,
   "id": "1cb1ed75-7c18-411f-abd3-5b49d15a2930",
   "metadata": {},
   "outputs": [
    {
     "name": "stdout",
     "output_type": "stream",
     "text": [
      "Results\n",
      "[('obj', 'http://www.wikidata.org/entity/Q1472236'), ('name', 'Early Renaissance')]\n",
      "1\n"
     ]
    }
   ],
   "source": [
    "# use P135 movement\n",
    "queryString = \"\"\"\n",
    "SELECT  DISTINCT ?obj ?name \n",
    "WHERE {\n",
    "    wd:Q37562 wdt:P135 ?obj .\n",
    "    ?obj sc:name ?name.\n",
    "}\n",
    "\"\"\"\n",
    "\n",
    "print(\"Results\")\n",
    "x=run_query(queryString)"
   ]
  },
  {
   "cell_type": "code",
   "execution_count": 8,
   "id": "658d5877-45dc-4eba-8c22-0936d7883e88",
   "metadata": {},
   "outputs": [
    {
     "name": "stdout",
     "output_type": "stream",
     "text": [
      "Results\n",
      "[('prop', 'http://www.wikidata.org/prop/direct/P1014'), ('name', 'Art & Architecture Thesaurus ID')]\n",
      "[('prop', 'http://www.wikidata.org/prop/direct/P1417'), ('name', 'Encyclopædia Britannica Online ID')]\n",
      "[('prop', 'http://www.wikidata.org/prop/direct/P155'), ('name', 'follows')]\n",
      "[('prop', 'http://www.wikidata.org/prop/direct/P156'), ('name', 'followed by')]\n",
      "[('prop', 'http://www.wikidata.org/prop/direct/P2347'), ('name', 'YSO ID')]\n",
      "[('prop', 'http://www.wikidata.org/prop/direct/P2671'), ('name', 'Google Knowledge Graph ID')]\n",
      "[('prop', 'http://www.wikidata.org/prop/direct/P31'), ('name', 'instance of')]\n",
      "[('prop', 'http://www.wikidata.org/prop/direct/P361'), ('name', 'part of')]\n",
      "[('prop', 'http://www.wikidata.org/prop/direct/P5604'), ('name', 'archINFORM keyword ID')]\n",
      "[('prop', 'http://www.wikidata.org/prop/direct/P571'), ('name', 'inception')]\n",
      "[('prop', 'http://www.wikidata.org/prop/direct/P576'), ('name', 'dissolved, abolished or demolished date')]\n",
      "[('prop', 'http://www.wikidata.org/prop/direct/P580'), ('name', 'start time')]\n",
      "[('prop', 'http://www.wikidata.org/prop/direct/P582'), ('name', 'end time')]\n",
      "[('prop', 'http://www.wikidata.org/prop/direct/P910'), ('name', \"topic's main category\")]\n",
      "14\n"
     ]
    }
   ],
   "source": [
    "# look at the properties of these movement\n",
    "queryString = \"\"\"\n",
    "SELECT  DISTINCT ?prop ?name \n",
    "WHERE {\n",
    "    wd:Q1472236 ?prop ?obj .\n",
    "    ?prop sc:name ?name.\n",
    "}\n",
    "\"\"\"\n",
    "\n",
    "print(\"Results\")\n",
    "x=run_query(queryString)"
   ]
  },
  {
   "cell_type": "code",
   "execution_count": 9,
   "id": "8312821d-2c3d-4dc4-9229-dfe478181589",
   "metadata": {},
   "outputs": [
    {
     "name": "stdout",
     "output_type": "stream",
     "text": [
      "Results\n",
      "[('obj', 'http://www.wikidata.org/entity/Q4692'), ('name', 'Renaissance')]\n",
      "1\n"
     ]
    }
   ],
   "source": [
    "# use part of P361\n",
    "queryString = \"\"\"\n",
    "SELECT  DISTINCT ?obj ?name \n",
    "WHERE {\n",
    "    wd:Q1472236 wdt:P361 ?obj .\n",
    "    ?obj sc:name ?name.\n",
    "}\n",
    "\"\"\"\n",
    "\n",
    "print(\"Results\")\n",
    "x=run_query(queryString)"
   ]
  },
  {
   "cell_type": "code",
   "execution_count": 10,
   "id": "67011111-62a3-40d1-80b3-4157b94a8a9f",
   "metadata": {},
   "outputs": [
    {
     "name": "stdout",
     "output_type": "stream",
     "text": [
      "Results\n",
      "[('inst', 'http://www.wikidata.org/entity/Q2198855'), ('name', 'cultural movement')]\n",
      "[('inst', 'http://www.wikidata.org/entity/Q32880'), ('name', 'architectural style')]\n",
      "[('inst', 'http://www.wikidata.org/entity/Q968159'), ('name', 'art movement')]\n",
      "3\n"
     ]
    }
   ],
   "source": [
    "# look at the instance of \n",
    "queryString = \"\"\"\n",
    "SELECT  DISTINCT ?inst ?name \n",
    "WHERE {\n",
    "    wd:Q1472236 wdt:P361 ?obj .\n",
    "    ?obj wdt:P31 ?inst.\n",
    "    ?inst sc:name ?name.\n",
    "}\n",
    "\"\"\"\n",
    "\n",
    "print(\"Results\")\n",
    "x=run_query(queryString)"
   ]
  },
  {
   "cell_type": "code",
   "execution_count": 11,
   "id": "76c35a54",
   "metadata": {},
   "outputs": [
    {
     "name": "stdout",
     "output_type": "stream",
     "text": [
      "The index of this workflow is: 1_6\n",
      "The path is /locale/data/jupyter/prando/notebook/2022/results/workflow1_6.json\n",
      "JSON object updated\n"
     ]
    }
   ],
   "source": [
    "### insert the result of TASK 1 in the file\n",
    "og_uri = \"http://www.wikidata.org/entity/Q2198855\"\n",
    "og_name = \"cultural movement\"\n",
    "obj = {\"uri\":og_uri,\"name\":og_name}\n",
    "evaluation.add_result(evaluation.get_index_workflow(pt),\"1\", evaluation.TYPE_SINGLE ,\"uri\", [obj] ,\"all\")"
   ]
  },
  {
   "cell_type": "markdown",
   "id": "6b0a0c43-41bd-469e-ad96-d882d22866b5",
   "metadata": {},
   "source": [
    "`Q2198855`-> cultural movement"
   ]
  },
  {
   "cell_type": "markdown",
   "id": "2d550c3d-66fa-47c4-bbf1-73bcd4eec06d",
   "metadata": {
    "tags": []
   },
   "source": [
    "## Task 2"
   ]
  },
  {
   "cell_type": "code",
   "execution_count": 12,
   "id": "c46fe3d2-bcbd-4f43-a43a-72d018792bbd",
   "metadata": {},
   "outputs": [
    {
     "name": "stdout",
     "output_type": "stream",
     "text": [
      "Results\n",
      "[('obj', 'http://www.wikidata.org/entity/Q37068'), ('name', 'Romanticism')]\n",
      "[('obj', 'http://www.wikidata.org/entity/Q2614483'), ('name', 'Pre-romanticism')]\n",
      "[('obj', 'http://www.wikidata.org/entity/Q1404472'), ('name', 'Italian Renaissance')]\n",
      "[('obj', 'http://www.wikidata.org/entity/Q430167'), ('name', 'Spanish Renaissance')]\n",
      "[('obj', 'http://www.wikidata.org/entity/Q15991289'), ('name', 'Old School Renaissance')]\n",
      "[('obj', 'http://www.wikidata.org/entity/Q4692'), ('name', 'Renaissance')]\n",
      "[('obj', 'http://www.wikidata.org/entity/Q2349908'), ('name', 'French Renaissance')]\n",
      "[('obj', 'http://www.wikidata.org/entity/Q979160'), ('name', 'Proto-Renaissance')]\n",
      "[('obj', 'http://www.wikidata.org/entity/Q1400430'), ('name', 'Macedonian Renaissance')]\n",
      "[('obj', 'http://www.wikidata.org/entity/Q846933'), ('name', 'renaissance humanism')]\n",
      "[('obj', 'http://www.wikidata.org/entity/Q2046861'), ('name', 'Palaeologan Renaissance')]\n",
      "[('obj', 'http://www.wikidata.org/entity/Q1431758'), ('name', 'San Francisco Renaissance')]\n",
      "[('obj', 'http://www.wikidata.org/entity/Q3935973'), ('name', 'Renaissance in Ferrara')]\n",
      "[('obj', 'http://www.wikidata.org/entity/Q16488690'), ('name', 'Armenian Renaissance')]\n",
      "[('obj', 'http://www.wikidata.org/entity/Q37853'), ('name', 'Baroque')]\n",
      "[('obj', 'http://www.wikidata.org/entity/Q3083331'), ('name', 'Andean Baroque')]\n",
      "[('obj', 'http://www.wikidata.org/entity/Q63442026'), ('name', 'High Baroque')]\n",
      "[('obj', 'http://www.wikidata.org/entity/Q899271'), ('name', 'Baroque in Brazil')]\n",
      "[('obj', 'http://www.wikidata.org/entity/Q88467256'), ('name', 'Asturian Baroque')]\n",
      "[('obj', 'http://www.wikidata.org/entity/Q3441123'), ('name', 'Romantisme baroque')]\n",
      "20\n"
     ]
    }
   ],
   "source": [
    "# list instances of cultural movements\n",
    "queryString = \"\"\"\n",
    "SELECT  DISTINCT ?obj ?name \n",
    "WHERE {\n",
    "    ?obj wdt:P31 wd:Q2198855.\n",
    "    ?obj sc:name ?name.\n",
    "    FILTER(REGEX(?name,\"[B,b]aroque\") || REGEX(?name,\"[R,r]enaiss\") || REGEX(?name,\"[R,r]omant\") ) .\n",
    "}\n",
    "\"\"\"\n",
    "\n",
    "print(\"Results\")\n",
    "x=run_query(queryString)"
   ]
  },
  {
   "cell_type": "markdown",
   "id": "ff8b11a5-5aee-474a-8e23-0b1ca108f5c6",
   "metadata": {},
   "source": [
    "Find everything:\n",
    "- `Q37068` -> Romanticsm\n",
    "- `Q37853` -> Baroque\n",
    "- `Q4692` -> Renaissance"
   ]
  },
  {
   "cell_type": "code",
   "execution_count": 13,
   "id": "49ce8805",
   "metadata": {},
   "outputs": [
    {
     "name": "stdout",
     "output_type": "stream",
     "text": [
      "Results\n",
      "[('mov', 'http://www.wikidata.org/entity/Q37068'), ('name', 'Romanticism')]\n",
      "[('mov', 'http://www.wikidata.org/entity/Q37853'), ('name', 'Baroque')]\n",
      "[('mov', 'http://www.wikidata.org/entity/Q4692'), ('name', 'Renaissance')]\n",
      "3\n"
     ]
    }
   ],
   "source": [
    "# list instances of cultural movements\n",
    "queryString = \"\"\"\n",
    "SELECT ?mov ?name \n",
    "WHERE {\n",
    "    VALUES ?mov {wd:Q37068 wd:Q37853 wd:Q4692}.\n",
    "    ?mov sc:name ?name.\n",
    "}\n",
    "\"\"\"\n",
    "\n",
    "print(\"Results\")\n",
    "x=run_query(queryString)"
   ]
  },
  {
   "cell_type": "code",
   "execution_count": 14,
   "id": "83e72704",
   "metadata": {},
   "outputs": [
    {
     "name": "stdout",
     "output_type": "stream",
     "text": [
      "The index of this workflow is: 1_6\n",
      "The path is /locale/data/jupyter/prando/notebook/2022/results/workflow1_6.json\n",
      "JSON object updated\n"
     ]
    }
   ],
   "source": [
    "obj = [{\"uri\":r[0][1],\"name\":r[1][1]} for r in x]\n",
    "evaluation.add_result(evaluation.get_index_workflow(pt),\"2\", evaluation.TYPE_SET ,\"uri\", obj)"
   ]
  },
  {
   "cell_type": "markdown",
   "id": "bf92fdb5-1cba-47bc-969d-2e7a6e0c9d51",
   "metadata": {
    "jp-MarkdownHeadingCollapsed": true,
    "tags": []
   },
   "source": [
    "## Task 3"
   ]
  },
  {
   "cell_type": "code",
   "execution_count": 15,
   "id": "06bfb8e7-e36d-4364-a199-55b733551ec6",
   "metadata": {},
   "outputs": [
    {
     "name": "stdout",
     "output_type": "stream",
     "text": [
      "Results\n",
      "[('prop', 'http://www.wikidata.org/prop/direct/P101'), ('name', 'field of work')]\n",
      "[('prop', 'http://www.wikidata.org/prop/direct/P135'), ('name', 'movement')]\n",
      "[('prop', 'http://www.wikidata.org/prop/direct/P136'), ('name', 'genre')]\n",
      "[('prop', 'http://www.wikidata.org/prop/direct/P149'), ('name', 'architectural style')]\n",
      "[('prop', 'http://www.wikidata.org/prop/direct/P2348'), ('name', 'time period')]\n",
      "5\n"
     ]
    }
   ],
   "source": [
    "# starts with Baroque and check how people is connected with it\n",
    "queryString = \"\"\"\n",
    "SELECT  DISTINCT ?prop ?name \n",
    "WHERE {\n",
    "    ?people wdt:P31 wd:Q5.\n",
    "    ?people ?prop wd:Q37853.\n",
    "    ?prop sc:name ?name.\n",
    "}\n",
    "\"\"\"\n",
    "\n",
    "print(\"Results\")\n",
    "x=run_query(queryString)"
   ]
  },
  {
   "cell_type": "code",
   "execution_count": 16,
   "id": "3ac6c37d-7e96-4103-a79e-a52ef9d0627f",
   "metadata": {},
   "outputs": [
    {
     "name": "stdout",
     "output_type": "stream",
     "text": [
      "Results\n",
      "[('prop', 'http://www.wikidata.org/prop/direct/P101'), ('name', 'field of work')]\n",
      "[('prop', 'http://www.wikidata.org/prop/direct/P106'), ('name', 'occupation')]\n",
      "[('prop', 'http://www.wikidata.org/prop/direct/P1066'), ('name', 'student of')]\n",
      "[('prop', 'http://www.wikidata.org/prop/direct/P119'), ('name', 'place of burial')]\n",
      "[('prop', 'http://www.wikidata.org/prop/direct/P1343'), ('name', 'described by source')]\n",
      "[('prop', 'http://www.wikidata.org/prop/direct/P135'), ('name', 'movement')]\n",
      "[('prop', 'http://www.wikidata.org/prop/direct/P136'), ('name', 'genre')]\n",
      "[('prop', 'http://www.wikidata.org/prop/direct/P1412'), ('name', 'languages spoken, written or signed')]\n",
      "[('prop', 'http://www.wikidata.org/prop/direct/P172'), ('name', 'ethnic group')]\n",
      "[('prop', 'http://www.wikidata.org/prop/direct/P18'), ('name', 'image')]\n",
      "[('prop', 'http://www.wikidata.org/prop/direct/P19'), ('name', 'place of birth')]\n",
      "[('prop', 'http://www.wikidata.org/prop/direct/P20'), ('name', 'place of death')]\n",
      "[('prop', 'http://www.wikidata.org/prop/direct/P21'), ('name', 'sex or gender')]\n",
      "[('prop', 'http://www.wikidata.org/prop/direct/P27'), ('name', 'country of citizenship')]\n",
      "[('prop', 'http://www.wikidata.org/prop/direct/P31'), ('name', 'instance of')]\n",
      "[('prop', 'http://www.wikidata.org/prop/direct/P5008'), ('name', 'on focus list of Wikimedia project')]\n",
      "[('prop', 'http://www.wikidata.org/prop/direct/P6379'), ('name', 'has works in the collection')]\n",
      "[('prop', 'http://www.wikidata.org/prop/direct/P734'), ('name', 'family name')]\n",
      "[('prop', 'http://www.wikidata.org/prop/direct/P735'), ('name', 'given name')]\n",
      "[('prop', 'http://www.wikidata.org/prop/direct/P7763'), ('name', 'copyright status as a creator')]\n",
      "[('prop', 'http://www.wikidata.org/prop/direct/P800'), ('name', 'notable work')]\n",
      "[('prop', 'http://www.wikidata.org/prop/direct/P802'), ('name', 'student')]\n",
      "[('prop', 'http://www.wikidata.org/prop/direct/P910'), ('name', \"topic's main category\")]\n",
      "[('prop', 'http://www.wikidata.org/prop/direct/P937'), ('name', 'work location')]\n",
      "[('prop', 'http://www.wikidata.org/prop/direct/P9493'), ('name', 'artist files at')]\n",
      "25\n"
     ]
    }
   ],
   "source": [
    "# let see properties of people. Use Donatello to speed up the search\n",
    "queryString = \"\"\"\n",
    "SELECT  DISTINCT ?prop ?name \n",
    "WHERE {\n",
    "    wd:Q37562 ?prop ?x.\n",
    "    FILTER(!isLiteral(?x)). \n",
    "    ?prop sc:name ?name.\n",
    "}\n",
    "\"\"\"\n",
    "\n",
    "print(\"Results\")\n",
    "x=run_query(queryString)"
   ]
  },
  {
   "cell_type": "code",
   "execution_count": 17,
   "id": "3bd0ad2f-2b4b-4721-aa1c-b2ad9a025ab2",
   "metadata": {},
   "outputs": [
    {
     "name": "stdout",
     "output_type": "stream",
     "text": [
      "Results\n",
      "[('x', 'http://www.wikidata.org/entity/Q1028181'), ('name', 'painter')]\n",
      "[('x', 'http://www.wikidata.org/entity/Q288728'), ('name', 'painter and varnisher')]\n",
      "[('x', 'http://www.wikidata.org/entity/Q984276'), ('name', 'court painter')]\n",
      "[('x', 'http://www.wikidata.org/entity/Q24056480'), ('name', 'porcelain painter')]\n",
      "[('x', 'http://www.wikidata.org/entity/Q28947943'), ('name', 'miniature painter')]\n",
      "[('x', 'http://www.wikidata.org/entity/Q22669155'), ('name', 'fresco painter')]\n",
      "[('x', 'http://www.wikidata.org/entity/Q21600439'), ('name', 'landscape painter')]\n",
      "[('x', 'http://www.wikidata.org/entity/Q1183704'), ('name', 'decorative painter')]\n",
      "[('x', 'http://www.wikidata.org/entity/Q36834'), ('name', 'composer')]\n",
      "[('x', 'http://www.wikidata.org/entity/Q21680663'), ('name', 'classical composer')]\n",
      "[('x', 'http://www.wikidata.org/entity/Q49757'), ('name', 'poet')]\n",
      "[('x', 'http://www.wikidata.org/entity/Q1281618'), ('name', 'sculptor')]\n",
      "12\n"
     ]
    }
   ],
   "source": [
    "# starts with Baroque and check how people is connected with\n",
    "queryString = \"\"\"\n",
    "SELECT  DISTINCT ?x ?name \n",
    "WHERE {\n",
    "    ?people wdt:P31 wd:Q5.\n",
    "    ?people wdt:P135 wd:Q37853.\n",
    "    ?people wdt:P106 ?x.\n",
    "    ?x sc:name ?name.\n",
    "    FILTER(REGEX(?name,\"[S,s]culpt\") || REGEX(?name,\"[P,p]oet\") || REGEX(?name,\"[C,c]ompos\") || REGEX(?name,\"[P,p]aint\")  ) \n",
    "}\n",
    "\"\"\"\n",
    "\n",
    "print(\"Results\")\n",
    "x=run_query(queryString)"
   ]
  },
  {
   "cell_type": "markdown",
   "id": "176397a2-d14d-4889-bec3-2d0c1bb229c4",
   "metadata": {},
   "source": [
    "Find everything:\n",
    "- `Q36834` -> composer\n",
    "- `Q49757` -> poet\n",
    "- `Q1281618` -> sculptor\n",
    "- `Q1028181` -> painter"
   ]
  },
  {
   "cell_type": "code",
   "execution_count": 18,
   "id": "0cb12594",
   "metadata": {},
   "outputs": [
    {
     "name": "stdout",
     "output_type": "stream",
     "text": [
      "Results\n",
      "[('jobs', 'http://www.wikidata.org/entity/Q1028181'), ('jName', 'painter')]\n",
      "[('jobs', 'http://www.wikidata.org/entity/Q1281618'), ('jName', 'sculptor')]\n",
      "[('jobs', 'http://www.wikidata.org/entity/Q36834'), ('jName', 'composer')]\n",
      "[('jobs', 'http://www.wikidata.org/entity/Q49757'), ('jName', 'poet')]\n",
      "4\n"
     ]
    }
   ],
   "source": [
    "# show oonly the results\n",
    "queryString = \"\"\"\n",
    "SELECT  ?jobs ?jName \n",
    "WHERE {\n",
    "    VALUES ?jobs {wd:Q36834 wd:Q49757 wd:Q1281618 wd:Q1028181} .\n",
    "    ?jobs sc:name ?jName.\n",
    "}\n",
    "\"\"\"\n",
    "\n",
    "print(\"Results\")\n",
    "x=run_query(queryString)"
   ]
  },
  {
   "cell_type": "code",
   "execution_count": 19,
   "id": "752be59b",
   "metadata": {},
   "outputs": [
    {
     "name": "stdout",
     "output_type": "stream",
     "text": [
      "The index of this workflow is: 1_6\n",
      "The path is /locale/data/jupyter/prando/notebook/2022/results/workflow1_6.json\n",
      "JSON object updated\n"
     ]
    }
   ],
   "source": [
    "obj = [{\"uri\":r[0][1],\"name\":r[1][1]} for r in x]\n",
    "evaluation.add_result(evaluation.get_index_workflow(pt),\"3\", evaluation.TYPE_SET ,\"uri\", obj)"
   ]
  },
  {
   "cell_type": "markdown",
   "id": "40e8e1ca-1ba3-4a4e-866d-c61d96823c04",
   "metadata": {
    "tags": []
   },
   "source": [
    "## Task 4"
   ]
  },
  {
   "cell_type": "code",
   "execution_count": 20,
   "id": "b6e0378b-513d-4ac1-aa91-72d2ed7fbfc7",
   "metadata": {},
   "outputs": [
    {
     "name": "stdout",
     "output_type": "stream",
     "text": [
      "Results\n",
      "[('jobs', 'http://www.wikidata.org/entity/Q36834'), ('jName', 'composer'), ('movements', 'http://www.wikidata.org/entity/Q4692'), ('mName', 'Renaissance'), ('peop', '8')]\n",
      "[('jobs', 'http://www.wikidata.org/entity/Q36834'), ('jName', 'composer'), ('movements', 'http://www.wikidata.org/entity/Q37853'), ('mName', 'Baroque'), ('peop', '6')]\n",
      "[('jobs', 'http://www.wikidata.org/entity/Q1281618'), ('jName', 'sculptor'), ('movements', 'http://www.wikidata.org/entity/Q37853'), ('mName', 'Baroque'), ('peop', '328')]\n",
      "[('jobs', 'http://www.wikidata.org/entity/Q1028181'), ('jName', 'painter'), ('movements', 'http://www.wikidata.org/entity/Q4692'), ('mName', 'Renaissance'), ('peop', '56')]\n",
      "[('jobs', 'http://www.wikidata.org/entity/Q49757'), ('jName', 'poet'), ('movements', 'http://www.wikidata.org/entity/Q4692'), ('mName', 'Renaissance'), ('peop', '15')]\n",
      "[('jobs', 'http://www.wikidata.org/entity/Q49757'), ('jName', 'poet'), ('movements', 'http://www.wikidata.org/entity/Q37068'), ('mName', 'Romanticism'), ('peop', '151')]\n",
      "[('jobs', 'http://www.wikidata.org/entity/Q1028181'), ('jName', 'painter'), ('movements', 'http://www.wikidata.org/entity/Q37068'), ('mName', 'Romanticism'), ('peop', '152')]\n",
      "[('jobs', 'http://www.wikidata.org/entity/Q1281618'), ('jName', 'sculptor'), ('movements', 'http://www.wikidata.org/entity/Q37068'), ('mName', 'Romanticism'), ('peop', '14')]\n",
      "[('jobs', 'http://www.wikidata.org/entity/Q49757'), ('jName', 'poet'), ('movements', 'http://www.wikidata.org/entity/Q37853'), ('mName', 'Baroque'), ('peop', '39')]\n",
      "[('jobs', 'http://www.wikidata.org/entity/Q1281618'), ('jName', 'sculptor'), ('movements', 'http://www.wikidata.org/entity/Q4692'), ('mName', 'Renaissance'), ('peop', '18')]\n",
      "[('jobs', 'http://www.wikidata.org/entity/Q36834'), ('jName', 'composer'), ('movements', 'http://www.wikidata.org/entity/Q37068'), ('mName', 'Romanticism'), ('peop', '13')]\n",
      "[('jobs', 'http://www.wikidata.org/entity/Q1028181'), ('jName', 'painter'), ('movements', 'http://www.wikidata.org/entity/Q37853'), ('mName', 'Baroque'), ('peop', '378')]\n",
      "12\n"
     ]
    }
   ],
   "source": [
    "# group the results\n",
    "queryString = \"\"\"\n",
    "SELECT  ?jobs ?jName ?movements ?mName COUNT(DISTINCT ?people) AS ?peop\n",
    "WHERE {\n",
    "    VALUES ?movements {wd:Q37068 wd:Q37853 wd:Q4692} .\n",
    "    VALUES ?jobs {wd:Q36834 wd:Q49757 wd:Q1281618 wd:Q1028181} .\n",
    "    ?people wdt:P135 ?movements.\n",
    "    ?people wdt:P106 ?jobs.\n",
    "    ?jobs sc:name ?jName.\n",
    "    ?movements sc:name ?mName.\n",
    "}\n",
    "GROUP BY ?jobs ?jName ?movements ?mName\n",
    "\"\"\"\n",
    "\n",
    "print(\"Results\")\n",
    "x=run_query(queryString)"
   ]
  },
  {
   "cell_type": "code",
   "execution_count": 21,
   "id": "e01b82f1",
   "metadata": {},
   "outputs": [
    {
     "name": "stdout",
     "output_type": "stream",
     "text": [
      "The index of this workflow is: 1_6\n",
      "The path is /locale/data/jupyter/prando/notebook/2022/results/workflow1_6.json\n",
      "JSON object updated\n"
     ]
    }
   ],
   "source": [
    "## more elements mixed between URI and literals\n",
    "objs=[]\n",
    "for i in x:\n",
    "    f_uri = i[0][1]\n",
    "    f_name = i[1][1]\n",
    "    m_uri = i[2][1]\n",
    "    m_name = i[3][1]\n",
    "    people = i[4][1]\n",
    "    # add the year element\n",
    "    obj = {}\n",
    "    obj[\"refers_to\"] = f_uri\n",
    "    obj[\"refers_to_name\"] = f_name\n",
    "    obj[\"check\"] = \"value\"\n",
    "    obj[\"value\"] = people\n",
    "    objs.append(obj)\n",
    "    # add the director element\n",
    "    obj = {}\n",
    "    obj[\"refers_to\"] = f_uri\n",
    "    obj[\"refers_to_name\"] = f_name\n",
    "    obj[\"check\"] = [\"uri\",\"name\"]\n",
    "    obj[\"uri\"] = m_uri\n",
    "    obj[\"name\"] = m_name\n",
    "    objs.append(obj)\n",
    "evaluation.add_result(evaluation.get_index_workflow(pt),\"4\", evaluation.TYPE_REFERRED ,[\"uri\",\"name\",\"value\"], objs, elements_per_tuple = 2)"
   ]
  },
  {
   "cell_type": "markdown",
   "id": "d3182bb4-1ace-4f3b-ae6a-53d060e1ede4",
   "metadata": {
    "tags": []
   },
   "source": [
    "## Task 5"
   ]
  },
  {
   "cell_type": "code",
   "execution_count": 22,
   "id": "f6dbed16-8ac9-4e3b-8ea4-ad11f10ce81a",
   "metadata": {},
   "outputs": [
    {
     "name": "stdout",
     "output_type": "stream",
     "text": [
      "Results\n",
      "[('prop', 'http://www.wikidata.org/prop/direct/P1066'), ('name', 'student of')]\n",
      "[('prop', 'http://www.wikidata.org/prop/direct/P108'), ('name', 'employer')]\n",
      "[('prop', 'http://www.wikidata.org/prop/direct/P112'), ('name', 'founded by')]\n",
      "[('prop', 'http://www.wikidata.org/prop/direct/P127'), ('name', 'owned by')]\n",
      "[('prop', 'http://www.wikidata.org/prop/direct/P138'), ('name', 'named after')]\n",
      "[('prop', 'http://www.wikidata.org/prop/direct/P162'), ('name', 'producer')]\n",
      "[('prop', 'http://www.wikidata.org/prop/direct/P170'), ('name', 'creator')]\n",
      "[('prop', 'http://www.wikidata.org/prop/direct/P180'), ('name', 'depicts')]\n",
      "[('prop', 'http://www.wikidata.org/prop/direct/P1889'), ('name', 'different from')]\n",
      "[('prop', 'http://www.wikidata.org/prop/direct/P22'), ('name', 'father')]\n",
      "[('prop', 'http://www.wikidata.org/prop/direct/P26'), ('name', 'spouse')]\n",
      "[('prop', 'http://www.wikidata.org/prop/direct/P287'), ('name', 'designed by')]\n",
      "[('prop', 'http://www.wikidata.org/prop/direct/P301'), ('name', \"category's main topic\")]\n",
      "[('prop', 'http://www.wikidata.org/prop/direct/P3373'), ('name', 'sibling')]\n",
      "[('prop', 'http://www.wikidata.org/prop/direct/P40'), ('name', 'child')]\n",
      "[('prop', 'http://www.wikidata.org/prop/direct/P50'), ('name', 'author')]\n",
      "[('prop', 'http://www.wikidata.org/prop/direct/P527'), ('name', 'has part')]\n",
      "[('prop', 'http://www.wikidata.org/prop/direct/P547'), ('name', 'commemorates')]\n",
      "[('prop', 'http://www.wikidata.org/prop/direct/P710'), ('name', 'participant')]\n",
      "[('prop', 'http://www.wikidata.org/prop/direct/P735'), ('name', 'given name')]\n",
      "[('prop', 'http://www.wikidata.org/prop/direct/P737'), ('name', 'influenced by')]\n",
      "[('prop', 'http://www.wikidata.org/prop/direct/P802'), ('name', 'student')]\n",
      "[('prop', 'http://www.wikidata.org/prop/direct/P84'), ('name', 'architect')]\n",
      "[('prop', 'http://www.wikidata.org/prop/direct/P921'), ('name', 'main subject')]\n",
      "[('prop', 'http://www.wikidata.org/prop/direct/P941'), ('name', 'inspired by')]\n",
      "[('prop', 'http://www.wikidata.org/prop/direct/P971'), ('name', 'category combines topics')]\n",
      "[('prop', 'http://www.wikidata.org/prop/direct/P1855'), ('name', 'Wikidata property example')]\n",
      "[('prop', 'http://www.wikidata.org/prop/direct/P1877'), ('name', 'after a work by')]\n",
      "[('prop', 'http://www.wikidata.org/prop/direct/P451'), ('name', 'unmarried partner')]\n",
      "[('prop', 'http://www.wikidata.org/prop/direct/P736'), ('name', 'cover art by')]\n",
      "[('prop', 'http://www.wikidata.org/prop/direct/P1037'), ('name', 'director / manager')]\n",
      "[('prop', 'http://www.wikidata.org/prop/direct/P176'), ('name', 'manufacturer')]\n",
      "[('prop', 'http://www.wikidata.org/prop/direct/P1327'), ('name', 'partner in business or sport')]\n",
      "[('prop', 'http://www.wikidata.org/prop/direct/P1038'), ('name', 'relative')]\n",
      "[('prop', 'http://www.wikidata.org/prop/direct/P101'), ('name', 'field of work')]\n",
      "[('prop', 'http://www.wikidata.org/prop/direct/P69'), ('name', 'educated at')]\n",
      "[('prop', 'http://www.wikidata.org/prop/direct/P110'), ('name', 'illustrator')]\n",
      "[('prop', 'http://www.wikidata.org/prop/direct/P1290'), ('name', 'godparent')]\n",
      "[('prop', 'http://www.wikidata.org/prop/direct/P825'), ('name', 'dedicated to')]\n",
      "[('prop', 'http://www.wikidata.org/prop/direct/P1779'), ('name', 'possible creator')]\n",
      "[('prop', 'http://www.wikidata.org/prop/direct/P460'), ('name', 'said to be the same as')]\n",
      "41\n"
     ]
    }
   ],
   "source": [
    "# First of all, find sculptures starting from sculptors\n",
    "queryString = \"\"\"\n",
    "SELECT DISTINCT ?prop ?name \n",
    "WHERE {\n",
    "    VALUES ?movements {wd:Q37068 wd:Q37853 wd:Q4692} .\n",
    "    ?people wdt:P135 ?movements;\n",
    "         wdt:P106 wd:Q1281618.\n",
    "    ?x ?prop ?people.\n",
    "    ?prop sc:name ?name.\n",
    "}\n",
    "\"\"\"\n",
    "\n",
    "print(\"Results\")\n",
    "x=run_query(queryString)"
   ]
  },
  {
   "cell_type": "code",
   "execution_count": 23,
   "id": "645c7607-977b-4049-be61-61756ed38a37",
   "metadata": {},
   "outputs": [
    {
     "name": "stdout",
     "output_type": "stream",
     "text": [
      "Results\n",
      "[('x', 'http://www.wikidata.org/entity/Q10359993'), ('name', 'Portrait of Helena Fourment')]\n",
      "[('x', 'http://www.wikidata.org/entity/Q12029726'), ('name', \"Kohl's Fountain\")]\n",
      "[('x', 'http://www.wikidata.org/entity/Q21711520'), ('name', 'The Virgin and Child with Saint Elizabeth and Saint John the Baptist')]\n",
      "[('x', 'http://www.wikidata.org/entity/Q21724938'), ('name', 'Mercury Moving away (Mercurius Abituriens)')]\n",
      "[('x', 'http://www.wikidata.org/entity/Q21730885'), ('name', 'Landscape with Huts')]\n",
      "[('x', 'http://www.wikidata.org/entity/Q21741378'), ('name', 'Landscape with Cymon and Iphigenia')]\n",
      "[('x', 'http://www.wikidata.org/entity/Q17320340'), ('name', 'Cimon and Pero (Roman Charity)')]\n",
      "[('x', 'http://www.wikidata.org/entity/Q26791267'), ('name', 'The Descent from the Cross by Peter Paul Rubens (Saint-Omer)')]\n",
      "[('x', 'http://www.wikidata.org/entity/Q29866374'), ('name', 'Crowning of the hero')]\n",
      "[('x', 'http://www.wikidata.org/entity/Q29866384'), ('name', 'The apocalyptic woman')]\n",
      "[('x', 'http://www.wikidata.org/entity/Q29866388'), ('name', 'Young man with a black hat')]\n",
      "[('x', 'http://www.wikidata.org/entity/Q29902189'), ('name', 'Head of a lion')]\n",
      "[('x', 'http://www.wikidata.org/entity/Q29912556'), ('name', 'prophet or Saint')]\n",
      "[('x', 'http://www.wikidata.org/entity/Q29951476'), ('name', 'Susanna and the Elders')]\n",
      "[('x', 'http://www.wikidata.org/entity/Q30056306'), ('name', 'Christ on the cross')]\n",
      "[('x', 'http://www.wikidata.org/entity/Q429753'), ('name', 'The 1821 Derby at Epsom')]\n",
      "[('x', 'http://www.wikidata.org/entity/Q64547617'), ('name', 'Portrait of Jan I Moretus')]\n",
      "[('x', 'http://www.wikidata.org/entity/Q15981394'), ('name', 'The Battle of Anghiari')]\n",
      "[('x', 'http://www.wikidata.org/entity/Q2894005'), ('name', 'The Four Philosophers')]\n",
      "[('x', 'http://www.wikidata.org/entity/Q3006832'), ('name', 'The Wounded Cuirassier')]\n",
      "20\n"
     ]
    }
   ],
   "source": [
    "# list some sculptures \n",
    "queryString = \"\"\"\n",
    "SELECT DISTINCT ?x ?name \n",
    "WHERE {\n",
    "    VALUES ?movements {wd:Q37068 wd:Q37853 wd:Q4692} .\n",
    "    ?people wdt:P135 ?movements;\n",
    "         wdt:P106 wd:Q1281618.\n",
    "    ?x wdt:P170 ?people.\n",
    "    ?x sc:name ?name.\n",
    "}\n",
    "LIMIT 20\n",
    "\"\"\"\n",
    "\n",
    "print(\"Results\")\n",
    "x=run_query(queryString)"
   ]
  },
  {
   "cell_type": "code",
   "execution_count": 24,
   "id": "5b6fbfea-d221-48bd-8232-ce53204bf9a2",
   "metadata": {},
   "outputs": [
    {
     "name": "stdout",
     "output_type": "stream",
     "text": [
      "Results\n",
      "[('inst', 'http://www.wikidata.org/entity/Q2293362'), ('name', 'sculptural group')]\n",
      "[('inst', 'http://www.wikidata.org/entity/Q860861'), ('name', 'sculpture')]\n",
      "[('inst', 'http://www.wikidata.org/entity/Q245117'), ('name', 'relief sculpture')]\n",
      "[('inst', 'http://www.wikidata.org/entity/Q837249'), ('name', 'marble sculpture')]\n",
      "[('inst', 'http://www.wikidata.org/entity/Q27031439'), ('name', 'group of sculptures')]\n",
      "[('inst', 'http://www.wikidata.org/entity/Q928357'), ('name', 'bronze sculpture')]\n",
      "[('inst', 'http://www.wikidata.org/entity/Q19479037'), ('name', 'sculpture series')]\n",
      "[('inst', 'http://www.wikidata.org/entity/Q16675884'), ('name', 'religious sculpture')]\n",
      "8\n"
     ]
    }
   ],
   "source": [
    "# find the class of sculpture\n",
    "queryString = \"\"\"\n",
    "SELECT DISTINCT ?inst ?name \n",
    "WHERE {\n",
    "    VALUES ?movements {wd:Q37068 wd:Q37853 wd:Q4692} .\n",
    "    ?people wdt:P135 ?movements;\n",
    "         wdt:P106 wd:Q1281618.\n",
    "    ?x wdt:P170 ?people.\n",
    "    ?x wdt:P31 ?inst.\n",
    "    ?inst sc:name ?name.\n",
    "    FILTER(REGEX(?name,\"[S,s]culp\")).\n",
    "}\n",
    "\"\"\"\n",
    "\n",
    "print(\"Results\")\n",
    "x=run_query(queryString)"
   ]
  },
  {
   "cell_type": "code",
   "execution_count": 25,
   "id": "cb105712-0fc6-4983-baaf-6e210f7d2385",
   "metadata": {},
   "outputs": [
    {
     "name": "stdout",
     "output_type": "stream",
     "text": [
      "Results\n",
      "[('x', 'http://www.wikidata.org/entity/Q12029726'), ('name', \"Kohl's Fountain\")]\n",
      "[('x', 'http://www.wikidata.org/entity/Q29912556'), ('name', 'prophet or Saint')]\n",
      "[('x', 'http://www.wikidata.org/entity/Q473237'), ('name', 'Statue of Bartolomeo Colleoni')]\n",
      "[('x', 'http://www.wikidata.org/entity/Q3647660'), ('name', 'Bust of a Young Woman')]\n",
      "[('x', 'http://www.wikidata.org/entity/Q501204'), ('name', 'Putto with a Dolphin')]\n",
      "[('x', 'http://www.wikidata.org/entity/Q65923107'), ('name', 'Bust of a Young noble lady')]\n",
      "[('x', 'http://www.wikidata.org/entity/Q3701200'), ('name', 'Lady with Primroses')]\n",
      "[('x', 'http://www.wikidata.org/entity/Q63854807'), ('name', 'Flayed Horse I')]\n",
      "[('x', 'http://www.wikidata.org/entity/Q71556144'), ('name', 'Saint John the Baptist')]\n",
      "[('x', 'http://www.wikidata.org/entity/Q2415504'), ('name', 'David with the head of Goliath')]\n",
      "10\n"
     ]
    }
   ],
   "source": [
    "# list some sculpture using the subclasses\n",
    "queryString = \"\"\"\n",
    "SELECT DISTINCT ?x ?name \n",
    "WHERE {\n",
    "    VALUES ?movements {wd:Q37068 wd:Q37853 wd:Q4692} .\n",
    "    ?people wdt:P135 ?movements;\n",
    "         wdt:P106 wd:Q1281618.\n",
    "    ?x wdt:P170 ?people.\n",
    "    ?x wdt:P31/wdt:P279* wd:Q860861.\n",
    "    ?x sc:name ?name.\n",
    "}\n",
    "LIMIT 10\n",
    "\"\"\"\n",
    "\n",
    "print(\"Results\")\n",
    "x=run_query(queryString)"
   ]
  },
  {
   "cell_type": "code",
   "execution_count": 26,
   "id": "5339908f-f527-4203-b754-ecd06945d729",
   "metadata": {},
   "outputs": [
    {
     "name": "stdout",
     "output_type": "stream",
     "text": [
      "Results\n",
      "[('prop', 'http://www.wikidata.org/prop/direct/P131'), ('name', 'located in the administrative territorial entity')]\n",
      "[('prop', 'http://www.wikidata.org/prop/direct/P669'), ('name', 'located on street')]\n",
      "2\n"
     ]
    }
   ],
   "source": [
    "# find the location\n",
    "queryString = \"\"\"\n",
    "SELECT DISTINCT ?prop ?name \n",
    "WHERE {\n",
    "    VALUES ?movements {wd:Q37068 wd:Q37853 wd:Q4692} .\n",
    "    ?people wdt:P135 ?movements;\n",
    "         wdt:P106 wd:Q1281618.\n",
    "    ?x wdt:P170 ?people.\n",
    "    ?x wdt:P31/wdt:P279* wd:Q860861.\n",
    "    ?x ?prop ?y.\n",
    "    ?prop sc:name ?name.\n",
    "    FILTER(REGEX(?name,\"locate\")).\n",
    "}\n",
    "\"\"\"\n",
    "\n",
    "print(\"Results\")\n",
    "x=run_query(queryString)"
   ]
  },
  {
   "cell_type": "code",
   "execution_count": 27,
   "id": "89f846a5-adca-44d0-be91-9047f9822eb5",
   "metadata": {},
   "outputs": [
    {
     "name": "stdout",
     "output_type": "stream",
     "text": [
      "Results\n",
      "[('y', 'http://www.wikidata.org/entity/Q744598'), ('name', 'Hradčany')]\n",
      "[('y', 'http://www.wikidata.org/entity/Q973974'), ('name', 'Prague 1')]\n",
      "[('y', 'http://www.wikidata.org/entity/Q2444636'), ('name', 'Prague 2')]\n",
      "[('y', 'http://www.wikidata.org/entity/Q616877'), ('name', 'Louny')]\n",
      "[('y', 'http://www.wikidata.org/entity/Q753219'), ('name', 'New Town')]\n",
      "[('y', 'http://www.wikidata.org/entity/Q748211'), ('name', 'Old Town')]\n",
      "[('y', 'http://www.wikidata.org/entity/Q1741'), ('name', 'Vienna')]\n",
      "[('y', 'http://www.wikidata.org/entity/Q220'), ('name', 'Rome')]\n",
      "[('y', 'http://www.wikidata.org/entity/Q621'), ('name', 'Versailles')]\n",
      "[('y', 'http://www.wikidata.org/entity/Q3434113'), ('name', 'Ljubljana City Municipality')]\n",
      "[('y', 'http://www.wikidata.org/entity/Q3413129'), ('name', \"Saint-Thomas-d'Aquin\")]\n",
      "[('y', 'http://www.wikidata.org/entity/Q11911'), ('name', 'Canton of Bern')]\n",
      "[('y', 'http://www.wikidata.org/entity/Q666217'), ('name', 'Bern-Mittelland administrative district')]\n",
      "[('y', 'http://www.wikidata.org/entity/Q70'), ('name', 'Bern')]\n",
      "[('y', 'http://www.wikidata.org/entity/Q1664007'), ('name', 'inner city')]\n",
      "[('y', 'http://www.wikidata.org/entity/Q16515'), ('name', 'Dobříš')]\n",
      "[('y', 'http://www.wikidata.org/entity/Q56448261'), ('name', 'red quarter')]\n",
      "[('y', 'http://www.wikidata.org/entity/Q3031413'), ('name', 'Lima District')]\n",
      "[('y', 'http://www.wikidata.org/entity/Q947037'), ('name', 'piazza Barberini')]\n",
      "[('y', 'http://www.wikidata.org/entity/Q245546'), ('name', '6th arrondissement of Paris')]\n",
      "20\n"
     ]
    }
   ],
   "source": [
    "# identify what is in the located in the administrative territory\n",
    "queryString = \"\"\"\n",
    "SELECT DISTINCT ?y ?name \n",
    "WHERE {\n",
    "    VALUES ?movements {wd:Q37068 wd:Q37853 wd:Q4692} .\n",
    "    ?people wdt:P135 ?movements;\n",
    "         wdt:P106 wd:Q1281618.\n",
    "    ?x wdt:P170 ?people.\n",
    "    ?x wdt:P31/wdt:P279* wd:Q860861.\n",
    "    ?x wdt:P131 ?y.\n",
    "    ?y sc:name ?name.\n",
    "}\n",
    "limit 20\n",
    "\"\"\"\n",
    "\n",
    "print(\"Results\")\n",
    "x=run_query(queryString)"
   ]
  },
  {
   "cell_type": "code",
   "execution_count": 28,
   "id": "f50ddcff-bb2a-456d-8861-b42ee9213393",
   "metadata": {},
   "outputs": [
    {
     "name": "stdout",
     "output_type": "stream",
     "text": [
      "Results\n",
      "[('c', 'http://www.wikidata.org/entity/Q213'), ('name', 'Czech Republic')]\n",
      "[('c', 'http://www.wikidata.org/entity/Q142'), ('name', 'France')]\n",
      "[('c', 'http://www.wikidata.org/entity/Q215'), ('name', 'Slovenia')]\n",
      "[('c', 'http://www.wikidata.org/entity/Q38'), ('name', 'Italy')]\n",
      "[('c', 'http://www.wikidata.org/entity/Q40'), ('name', 'Austria')]\n",
      "[('c', 'http://www.wikidata.org/entity/Q39'), ('name', 'Switzerland')]\n",
      "[('c', 'http://www.wikidata.org/entity/Q419'), ('name', 'Peru')]\n",
      "[('c', 'http://www.wikidata.org/entity/Q145'), ('name', 'United Kingdom')]\n",
      "[('c', 'http://www.wikidata.org/entity/Q29'), ('name', 'Spain')]\n",
      "[('c', 'http://www.wikidata.org/entity/Q183'), ('name', 'Germany')]\n",
      "[('c', 'http://www.wikidata.org/entity/Q31'), ('name', 'Belgium')]\n",
      "[('c', 'http://www.wikidata.org/entity/Q237'), ('name', 'Vatican City')]\n",
      "[('c', 'http://www.wikidata.org/entity/Q30'), ('name', 'United States of America')]\n",
      "13\n"
     ]
    }
   ],
   "source": [
    "# identify what is in the located in the administrative territory\n",
    "queryString = \"\"\"\n",
    "SELECT DISTINCT ?c ?name \n",
    "WHERE {\n",
    "    VALUES ?movements {wd:Q37068 wd:Q37853 wd:Q4692} .\n",
    "    ?people wdt:P135 ?movements;\n",
    "         wdt:P106 wd:Q1281618.\n",
    "    ?x wdt:P170 ?people.\n",
    "    ?x wdt:P31/wdt:P279* wd:Q860861.\n",
    "    ?x wdt:P131 ?y.\n",
    "    ?y wdt:P17 ?c.\n",
    "    ?c sc:name ?name.\n",
    "}\n",
    "limit 20\n",
    "\"\"\"\n",
    "\n",
    "print(\"Results\")\n",
    "x=run_query(queryString)"
   ]
  },
  {
   "cell_type": "code",
   "execution_count": 29,
   "id": "6a162838-a6c4-45f6-a4a9-f9a0967beb87",
   "metadata": {},
   "outputs": [
    {
     "name": "stdout",
     "output_type": "stream",
     "text": [
      "Results\n",
      "[('movements', 'http://www.wikidata.org/entity/Q37068'), ('name', 'Romanticism'), ('sculptures', '0')]\n",
      "[('movements', 'http://www.wikidata.org/entity/Q4692'), ('name', 'Renaissance'), ('sculptures', '5')]\n",
      "[('movements', 'http://www.wikidata.org/entity/Q37853'), ('name', 'Baroque'), ('sculptures', '10')]\n",
      "3\n"
     ]
    }
   ],
   "source": [
    "# sculptures made in Italy\n",
    "queryString = \"\"\"\n",
    "SELECT DISTINCT ?movements ?name  COUNT(DISTINCT ?x) AS ?sculptures\n",
    "WHERE {\n",
    "    VALUES ?movements {wd:Q37068 wd:Q37853 wd:Q4692} .\n",
    "    ?people wdt:P135 ?movements;\n",
    "         wdt:P106 wd:Q1281618.\n",
    "    OPTIONAL{\n",
    "        ?x wdt:P170 ?people;\n",
    "            wdt:P31/wdt:P279* wd:Q860861;\n",
    "            wdt:P131 ?city.\n",
    "        ?city wdt:P17 wd:Q38.\n",
    "    }\n",
    "    ?movements sc:name ?name.\n",
    "}\n",
    "GROUP BY ?movements ?name\n",
    "\"\"\"\n",
    "\n",
    "print(\"Results\")\n",
    "x=run_query(queryString)"
   ]
  },
  {
   "cell_type": "code",
   "execution_count": 30,
   "id": "f9db7a4b",
   "metadata": {},
   "outputs": [
    {
     "name": "stdout",
     "output_type": "stream",
     "text": [
      "The index of this workflow is: 1_6\n",
      "The path is /locale/data/jupyter/prando/notebook/2022/results/workflow1_6.json\n",
      "JSON object updated\n"
     ]
    }
   ],
   "source": [
    "## single literal associated to an URI\n",
    "objs = []\n",
    "for i in x:\n",
    "    f_uri = i[0][1]\n",
    "    f_name = i[1][1]\n",
    "    sculptures = i[2][1]\n",
    "    obj = {}\n",
    "    obj[\"refers_to\"] = f_uri\n",
    "    obj[\"refers_to_name\"] = f_name\n",
    "    obj[\"check\"] = \"value\"\n",
    "    obj[\"value\"]= sculptures\n",
    "    objs.append(obj)\n",
    "evaluation.add_result(evaluation.get_index_workflow(pt),\"5\", evaluation.TYPE_REFERRED ,\"value\", objs)"
   ]
  },
  {
   "cell_type": "markdown",
   "id": "5369fe82-e170-40ea-ac23-4046cf86d010",
   "metadata": {
    "jp-MarkdownHeadingCollapsed": true,
    "tags": []
   },
   "source": [
    "## Task 6"
   ]
  },
  {
   "cell_type": "code",
   "execution_count": 31,
   "id": "9364f601-e7ee-4b1d-82d9-a59851311274",
   "metadata": {},
   "outputs": [
    {
     "name": "stdout",
     "output_type": "stream",
     "text": [
      "Results\n",
      "[('people', 'http://www.wikidata.org/entity/Q44403'), ('name', 'Heinrich Heine'), ('country', 'http://www.wikidata.org/entity/Q12548'), ('cName', 'Holy Roman Empire')]\n",
      "[('people', 'http://www.wikidata.org/entity/Q1705018'), ('name', 'Amrita Pritam'), ('country', 'http://www.wikidata.org/entity/Q129286'), ('cName', 'British India')]\n",
      "[('people', 'http://www.wikidata.org/entity/Q535'), ('name', 'Victor Hugo'), ('country', 'http://www.wikidata.org/entity/Q142'), ('cName', 'France')]\n",
      "[('people', 'http://www.wikidata.org/entity/Q1063392'), ('name', 'Charles Augustin Sainte-Beuve'), ('country', 'http://www.wikidata.org/entity/Q142'), ('cName', 'France')]\n",
      "[('people', 'http://www.wikidata.org/entity/Q18197574'), ('name', 'Ferdinand de Gramont'), ('country', 'http://www.wikidata.org/entity/Q142'), ('cName', 'France')]\n",
      "[('people', 'http://www.wikidata.org/entity/Q49767'), ('name', 'François-René de Chateaubriand'), ('country', 'http://www.wikidata.org/entity/Q142'), ('cName', 'France')]\n",
      "[('people', 'http://www.wikidata.org/entity/Q188697'), ('name', 'Alphonse de Lamartine'), ('country', 'http://www.wikidata.org/entity/Q142'), ('cName', 'France')]\n",
      "[('people', 'http://www.wikidata.org/entity/Q179680'), ('name', 'Alfred de Musset'), ('country', 'http://www.wikidata.org/entity/Q142'), ('cName', 'France')]\n",
      "[('people', 'http://www.wikidata.org/entity/Q309702'), ('name', 'Alfred de Vigny'), ('country', 'http://www.wikidata.org/entity/Q142'), ('cName', 'France')]\n",
      "[('people', 'http://www.wikidata.org/entity/Q2980553'), ('name', 'Antoinette Henriette Clémence Robert'), ('country', 'http://www.wikidata.org/entity/Q142'), ('cName', 'France')]\n",
      "10\n"
     ]
    }
   ],
   "source": [
    "# find poet of romanticism\n",
    "queryString = \"\"\"\n",
    "SELECT DISTINCT ?people ?name ?country ?cName\n",
    "WHERE {\n",
    "    ?people wdt:P135 wd:Q37068;\n",
    "         wdt:P106 wd:Q49757;\n",
    "        wdt:P27 ?country.\n",
    "    ?country sc:name ?cName.\n",
    "    ?people sc:name ?name.\n",
    "}\n",
    "LIMIT 10\n",
    "\"\"\"\n",
    "\n",
    "print(\"Results\")\n",
    "x=run_query(queryString)"
   ]
  },
  {
   "cell_type": "code",
   "execution_count": 32,
   "id": "bb64542d-812b-46e6-9ee0-6d771db69350",
   "metadata": {},
   "outputs": [
    {
     "name": "stdout",
     "output_type": "stream",
     "text": [
      "Results\n",
      "[('prop', 'http://www.wikidata.org/prop/direct/P30'), ('name', 'continent')]\n",
      "1\n"
     ]
    }
   ],
   "source": [
    "# find property continent\n",
    "queryString = \"\"\"\n",
    "SELECT DISTINCT ?prop ?name\n",
    "WHERE {\n",
    "    ?people wdt:P135 wd:Q37068;\n",
    "         wdt:P106 wd:Q49757;\n",
    "        wdt:P27 ?country.\n",
    "    ?country ?prop ?c.\n",
    "    ?prop sc:name ?name.\n",
    "    FILTER(REGEX(?name,\"[C,c]ontin\")). \n",
    "}\n",
    "\"\"\"\n",
    "\n",
    "print(\"Results\")\n",
    "x=run_query(queryString)"
   ]
  },
  {
   "cell_type": "code",
   "execution_count": 33,
   "id": "e3c23419-5fc3-4fc1-9712-75a6edc10291",
   "metadata": {},
   "outputs": [
    {
     "name": "stdout",
     "output_type": "stream",
     "text": [
      "Results\n",
      "[('c', 'http://www.wikidata.org/entity/Q15'), ('name', 'Africa')]\n",
      "[('c', 'http://www.wikidata.org/entity/Q18'), ('name', 'South America')]\n",
      "[('c', 'http://www.wikidata.org/entity/Q46'), ('name', 'Europe')]\n",
      "[('c', 'http://www.wikidata.org/entity/Q48'), ('name', 'Asia')]\n",
      "[('c', 'http://www.wikidata.org/entity/Q49'), ('name', 'North America')]\n",
      "[('c', 'http://www.wikidata.org/entity/Q538'), ('name', 'Insular Oceania')]\n",
      "[('c', 'http://www.wikidata.org/entity/Q5401'), ('name', 'Eurasia')]\n",
      "[('c', 'http://www.wikidata.org/entity/Q828'), ('name', 'Americas')]\n",
      "8\n"
     ]
    }
   ],
   "source": [
    "# find Europe\n",
    "queryString = \"\"\"\n",
    "SELECT DISTINCT ?c ?name\n",
    "WHERE {\n",
    "    ?people wdt:P135 wd:Q37068;\n",
    "         wdt:P106 wd:Q49757;\n",
    "        wdt:P27 ?country.\n",
    "    ?country wdt:P30 ?c.\n",
    "    ?c sc:name ?name.\n",
    "}\n",
    "\"\"\"\n",
    "\n",
    "print(\"Results\")\n",
    "x=run_query(queryString)"
   ]
  },
  {
   "cell_type": "code",
   "execution_count": 36,
   "id": "2d533284-67d6-4f5c-a591-908ac17e501f",
   "metadata": {},
   "outputs": [
    {
     "name": "stdout",
     "output_type": "stream",
     "text": [
      "Results\n",
      "[('country', 'http://www.wikidata.org/entity/Q174193'), ('name', 'United Kingdom of Great Britain and Ireland'), ('poets', '7')]\n",
      "[('country', 'http://www.wikidata.org/entity/Q12560'), ('name', 'Ottoman Empire'), ('poets', '1')]\n",
      "[('country', 'http://www.wikidata.org/entity/Q221457'), ('name', 'Congress Poland'), ('poets', '1')]\n",
      "[('country', 'http://www.wikidata.org/entity/Q142'), ('name', 'France'), ('poets', '16')]\n",
      "[('country', 'http://www.wikidata.org/entity/Q45'), ('name', 'Portugal'), ('poets', '4')]\n",
      "[('country', 'http://www.wikidata.org/entity/Q28513'), ('name', 'Austria-Hungary'), ('poets', '3')]\n",
      "[('country', 'http://www.wikidata.org/entity/Q218'), ('name', 'Romania'), ('poets', '3')]\n",
      "[('country', 'http://www.wikidata.org/entity/Q35'), ('name', 'Denmark'), ('poets', '4')]\n",
      "[('country', 'http://www.wikidata.org/entity/Q131964'), ('name', 'Austrian Empire'), ('poets', '6')]\n",
      "[('country', 'http://www.wikidata.org/entity/Q15180'), ('name', 'Soviet Union'), ('poets', '4')]\n",
      "[('country', 'http://www.wikidata.org/entity/Q80702'), ('name', 'Spanish Empire'), ('poets', '1')]\n",
      "[('country', 'http://www.wikidata.org/entity/Q28'), ('name', 'Hungary'), ('poets', '1')]\n",
      "[('country', 'http://www.wikidata.org/entity/Q227'), ('name', 'Azerbaijan'), ('poets', '1')]\n",
      "[('country', 'http://www.wikidata.org/entity/Q161885'), ('name', 'Great Britain'), ('poets', '8')]\n",
      "[('country', 'http://www.wikidata.org/entity/Q151624'), ('name', 'German Confederation'), ('poets', '1')]\n",
      "[('country', 'http://www.wikidata.org/entity/Q699923'), ('name', 'Illyrian Provinces'), ('poets', '1')]\n",
      "[('country', 'http://www.wikidata.org/entity/Q12548'), ('name', 'Holy Roman Empire'), ('poets', '1')]\n",
      "[('country', 'http://www.wikidata.org/entity/Q403'), ('name', 'Serbia'), ('poets', '1')]\n",
      "[('country', 'http://www.wikidata.org/entity/Q183'), ('name', 'Germany'), ('poets', '7')]\n",
      "[('country', 'http://www.wikidata.org/entity/Q159'), ('name', 'Russia'), ('poets', '1')]\n",
      "[('country', 'http://www.wikidata.org/entity/Q27306'), ('name', 'Kingdom of Prussia'), ('poets', '1')]\n",
      "[('country', 'http://www.wikidata.org/entity/Q958291'), ('name', 'United Principalities'), ('poets', '1')]\n",
      "[('country', 'http://www.wikidata.org/entity/Q29'), ('name', 'Spain'), ('poets', '47')]\n",
      "[('country', 'http://www.wikidata.org/entity/Q156199'), ('name', 'Electorate of Saxony'), ('poets', '1')]\n",
      "[('country', 'http://www.wikidata.org/entity/Q203493'), ('name', 'Kingdom of Romania'), ('poets', '1')]\n",
      "[('country', 'http://www.wikidata.org/entity/Q31'), ('name', 'Belgium'), ('poets', '3')]\n",
      "[('country', 'http://www.wikidata.org/entity/Q145'), ('name', 'United Kingdom'), ('poets', '4')]\n",
      "[('country', 'http://www.wikidata.org/entity/Q39'), ('name', 'Switzerland'), ('poets', '1')]\n",
      "[('country', 'http://www.wikidata.org/entity/Q10957559'), ('name', 'Principality of Moldavia'), ('poets', '1')]\n",
      "[('country', 'http://www.wikidata.org/entity/Q172107'), ('name', 'Polish–Lithuanian Commonwealth'), ('poets', '1')]\n",
      "30\n"
     ]
    }
   ],
   "source": [
    "# group per Europe countries\n",
    "queryString = \"\"\"\n",
    "SELECT DISTINCT ?country ?name COUNT(DISTINCT ?people) AS ?poets\n",
    "WHERE {\n",
    "    ?people wdt:P135 wd:Q37068;\n",
    "         wdt:P106 wd:Q49757;\n",
    "        wdt:P27 ?country.\n",
    "    ?country wdt:P30 wd:Q46.\n",
    "    ?country sc:name ?name.\n",
    "}\n",
    "GROUP BY ?country ?name\n",
    "\"\"\"\n",
    "\n",
    "print(\"Results\")\n",
    "x=run_query(queryString)"
   ]
  },
  {
   "cell_type": "code",
   "execution_count": 37,
   "id": "403308be-f63f-4d62-be22-55e5c31c4c98",
   "metadata": {},
   "outputs": [
    {
     "name": "stdout",
     "output_type": "stream",
     "text": [
      "The index of this workflow is: 1_6\n",
      "The path is /locale/data/jupyter/prando/notebook/2022/results/workflow1_6.json\n",
      "JSON object updated\n"
     ]
    }
   ],
   "source": [
    "## single literal associated to an URI\n",
    "objs = []\n",
    "for i in x:\n",
    "    f_uri = i[0][1]\n",
    "    f_name = i[1][1]\n",
    "    poets = i[2][1]\n",
    "    obj = {}\n",
    "    obj[\"refers_to\"] = f_uri\n",
    "    obj[\"refers_to_name\"] = f_name\n",
    "    obj[\"check\"] = \"value\"\n",
    "    obj[\"value\"]= poets\n",
    "    objs.append(obj)\n",
    "evaluation.add_result(evaluation.get_index_workflow(pt),\"6\", evaluation.TYPE_REFERRED ,\"value\", objs)"
   ]
  },
  {
   "cell_type": "markdown",
   "id": "dd44471c-a759-4239-b352-2a857f9004f6",
   "metadata": {},
   "source": [
    "## Task 7"
   ]
  },
  {
   "cell_type": "code",
   "execution_count": 40,
   "id": "b9c5df1c-aa37-4af4-84ed-82ef5c886b92",
   "metadata": {},
   "outputs": [
    {
     "name": "stdout",
     "output_type": "stream",
     "text": [
      "Results\n",
      "[('movement', 'http://www.wikidata.org/entity/Q37068'), ('movementsName', 'Romanticism'), ('scul', '0')]\n",
      "[('movement', 'http://www.wikidata.org/entity/Q4692'), ('movementsName', 'Renaissance'), ('scul', '0')]\n",
      "[('movement', 'http://www.wikidata.org/entity/Q37853'), ('movementsName', 'Baroque'), ('scul', '0')]\n",
      "3\n"
     ]
    }
   ],
   "source": [
    "#I found the property location P276, now I modify the previous query to get all the sculptures that are in the louvre museum. \n",
    "queryString = \"\"\"\n",
    "SELECT ?movement ?movementsName (COUNT(DISTINCT ?sculptures) AS ?scul)\n",
    "WHERE {\n",
    "\n",
    "   # bind something\n",
    "   \n",
    "   OPTIONAL{\n",
    "       ?sculptures wdt:P31/wdt:P279* wd:Q860861 .\n",
    "       ?sculptures wdt:P276 wd:Q19675. \n",
    "\n",
    "       ?sculptures wdt:P135 ?movement .\n",
    "   }\n",
    "   #renaissance  #Baroque   #Romanticism\n",
    "   VALUES ?movement { wd:Q4692    wd:Q37853   wd:Q37068} \n",
    "   \n",
    "   # get the label\n",
    "   ?movement sc:name ?movementsName .\n",
    "   \n",
    "}\n",
    "GROUP BY ?movement ?movementsName\n",
    "LIMIT 10\n",
    "\"\"\"\n",
    "\n",
    "print(\"Results\")\n",
    "x=run_query(queryString)"
   ]
  },
  {
   "cell_type": "code",
   "execution_count": 41,
   "id": "fdf54340-bfe6-492e-8907-602164cdffdb",
   "metadata": {},
   "outputs": [
    {
     "name": "stdout",
     "output_type": "stream",
     "text": [
      "The index of this workflow is: 1_6\n",
      "The path is /locale/data/jupyter/prando/notebook/2022/results/workflow1_6.json\n",
      "JSON object updated\n"
     ]
    }
   ],
   "source": [
    "## single literal associated to an URI\n",
    "objs = []\n",
    "for i in x:\n",
    "    f_uri = i[0][1]\n",
    "    f_name = i[1][1]\n",
    "    scul = i[2][1]\n",
    "    obj = {}\n",
    "    obj[\"refers_to\"] = f_uri\n",
    "    obj[\"refers_to_name\"] = f_name\n",
    "    obj[\"check\"] = \"value\"\n",
    "    obj[\"value\"]= scul\n",
    "    objs.append(obj)\n",
    "evaluation.add_result(evaluation.get_index_workflow(pt),\"7\", evaluation.TYPE_REFERRED ,\"value\", objs)"
   ]
  },
  {
   "cell_type": "code",
   "execution_count": null,
   "id": "16c6fb1b",
   "metadata": {},
   "outputs": [],
   "source": [
    "                                                            "
   ]
  }
 ],
 "metadata": {
  "kernelspec": {
   "display_name": "Python 3 (ipykernel)",
   "language": "python",
   "name": "python3"
  },
  "language_info": {
   "codemirror_mode": {
    "name": "ipython",
    "version": 3
   },
   "file_extension": ".py",
   "mimetype": "text/x-python",
   "name": "python",
   "nbconvert_exporter": "python",
   "pygments_lexer": "ipython3",
   "version": "3.10.6"
  }
 },
 "nbformat": 4,
 "nbformat_minor": 5
}
