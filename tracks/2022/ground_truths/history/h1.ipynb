{
 "cells": [
  {
   "cell_type": "markdown",
   "id": "7034c3bf-6eb0-4418-8687-7b9d2a501103",
   "metadata": {},
   "source": [
    "# General instructions\n",
    "\n",
    "The goal of the project is to materialize a set of **exploratory workloads** over a real-world, large-scale,  open-domain KG: [WikiData](https://www.wikidata.org/wiki/Wikidata:Main_Page)\n",
    "\n",
    "An exploratory workload  is composed by a set of queries, where each query is related to the information obtained previously.\n",
    "\n",
    "An exploratory workload starts with a usually vague, open ended question, and does not assume the person issuing the workload has a clear understanding of the data contained in the target database or its structure.\n",
    "\n",
    "Remeber that:\n",
    "\n",
    "1. All the queries must run in the python notebook\n",
    "2. You can use classes and properties only if you find them via a SPARQL query that must be present in the notebook\n",
    "3. You do not delete useless queries. Keep everything that is synthatically valid \n",
    "\n",
    "```\n",
    "?p <http://schema.org/name> ?name .\n",
    "```\n",
    "    \n",
    "    is the BGP returning a human-readable name of a property or a class in Wikidata."
   ]
  },
  {
   "cell_type": "code",
   "execution_count": 1,
   "id": "3605c9d5-5371-49a5-be8d-d66e8f417139",
   "metadata": {},
   "outputs": [],
   "source": [
    "## SETUP used later\n",
    "import sys\n",
    "import os\n",
    "import json\n",
    "import pandas as pd\n",
    "sys.path.insert(1, '../../../../src/')\n",
    "import gt_modules.evaluation as evaluation\n",
    "from SPARQLWrapper import SPARQLWrapper, JSON\n",
    "\n",
    "\n",
    "prefixString = \"\"\"\n",
    "##-history1-##\n",
    "PREFIX wd: <http://www.wikidata.org/entity/> \n",
    "PREFIX wdt: <http://www.wikidata.org/prop/direct/> \n",
    "PREFIX sc: <http://schema.org/>\n",
    "\"\"\"\n",
    "\n",
    "# select and construct queries\n",
    "def run_query(queryString,verbose = True):\n",
    "    to_run = prefixString + \"\\n\" + queryString\n",
    "\n",
    "    sparql = SPARQLWrapper(\"http://gracevirtuoso.dei.unipd.it/sparql\")\n",
    "    sparql.setTimeout(300)\n",
    "    sparql.setReturnFormat(JSON)\n",
    "    sparql.setQuery(to_run)\n",
    "\n",
    "    try :\n",
    "        results = sparql.query()\n",
    "        json_results = results.convert()\n",
    "        if len(json_results['results']['bindings'])==0:\n",
    "            print(\"Empty\")\n",
    "            return []\n",
    "        array = []\n",
    "        for bindings in json_results['results']['bindings']:\n",
    "            app =  [ (var, value['value'])  for var, value in bindings.items() ] \n",
    "            if verbose:\n",
    "                print( app)\n",
    "            array.append(app)\n",
    "        if verbose:\n",
    "            print(len(array))\n",
    "        return array\n",
    "\n",
    "    except Exception as e :\n",
    "        print(\"The operation failed\", e)\n",
    "    \n",
    "# ASk queries\n",
    "def run_ask_query(queryString):\n",
    "    to_run = prefixString + \"\\n\" + queryString\n",
    "\n",
    "    sparql = SPARQLWrapper(\"http://gracevirtuoso.dei.unipd.it/sparql\")\n",
    "    sparql.setTimeout(300)\n",
    "    sparql.setReturnFormat(JSON)\n",
    "    sparql.setQuery(to_run)\n",
    "\n",
    "    try :\n",
    "        return sparql.query().convert()\n",
    "\n",
    "    except Exception as e :\n",
    "        print(\"The operation failed\", e)"
   ]
  },
  {
   "cell_type": "markdown",
   "id": "d477a59c-a68c-4c8f-9f97-8ca5294d7d27",
   "metadata": {},
   "source": [
    "# History Workflow Series (\"Ancient Rome explorative search\") \n",
    "\n",
    "Consider the following exploratory information need:\n",
    "\n",
    "> The goal of this workflow is to study the Ancient Rome and some of the main events connected to that historical period. For instance, the emperors, killings, wars and so on."
   ]
  },
  {
   "cell_type": "markdown",
   "id": "4a45c0ba-f79e-441d-bec5-84401b09db70",
   "metadata": {
    "tags": []
   },
   "source": [
    "## Useful URIs for the current workflow\n",
    "The following data are given:\n",
    "\n",
    "| IRI           | Description   | Role      |\n",
    "| -----------   | -----------   |-----------|\n",
    "| `wdt:P1647`   | subproperty   | predicate |\n",
    "| `wdt:P31`     | instance of   | predicate |\n",
    "| `wdt:P106`    | occupation    | predicate | \n",
    "| `wdt:P279`    | subclass      | predicate |\n",
    "| `wdt:P27`     | nationality   | predicate |\n",
    "| `wdt:P3342`     | Significant person       | predicate |\n",
    "| `wd:Q5`| Human       | node |\n",
    "| `wd:Q1048`| Julius Caesar       | node |\n"
   ]
  },
  {
   "cell_type": "markdown",
   "id": "7af439fb-96e4-4dbb-a381-f19afab79f86",
   "metadata": {
    "tags": []
   },
   "source": [
    "\n",
    "\n",
    "\n",
    "Also consider that\n",
    "\n",
    "```\n",
    "wd:Q1048 ?p ?obj .\n",
    "```\n",
    "\n",
    "is the BGP to retrieve all **properties of Julius Caesar**.\n",
    "\n",
    "Please consider that when you return a resource, you should return the IRI and the label of the resource. In particular, when the task require you to identify a BGP the result set must always be a list of couples IRI - label.\n",
    "\n",
    "The workload should:\n",
    "\n",
    "\n",
    "1. Identify the BGP for Ancient Rome\n",
    "\n",
    "2. Find all the Roman Dictators (return the IRI and the name of the dictator)\n",
    "\n",
    "3. Identify the BGP for Roman Empire and Roman Republic\n",
    "\n",
    "4. Return the IRI and the name of all Roman emperors killed by homicide (see \"manner of death\") and, for each killed emperor, return also the IRI and name of the killer, if present in Wikidata.\n",
    "\n",
    "5. Return the Roman emperors who killed another Roman emperor (the result set must a list of 4-tuples with killer IRI and label, and killed IRI and label).\n",
    "\n",
    "6. Find the BGP for war\n",
    "\n",
    "7. Find the wars (note that \"war\" and \"battle\" are not the same thing) participated by the Roman Empire (return IRI and name of the war).\n",
    "\n",
    "8. Consider all the wars participated by the Roman Empire. For each war return the number of related battles and the opponent (a war is composed of one or more battles) (the result set must be a list of 5-tuples war IRI, label, opponent IRI and label, and #battles).\n"
   ]
  },
  {
   "cell_type": "code",
   "execution_count": 2,
   "id": "f4ab5045",
   "metadata": {},
   "outputs": [
    {
     "name": "stdout",
     "output_type": "stream",
     "text": [
      "The index of this workflow is: 1_5\n"
     ]
    }
   ],
   "source": [
    "## startup the evaluation\n",
    "# setup the file and create the empty json\n",
    "ipname = \"h1.ipynb\"\n",
    "pt = os.getcwd()+os.sep+ipname\n",
    "evaluation.setup(pt)"
   ]
  },
  {
   "cell_type": "markdown",
   "id": "130c4e78-ec70-48c2-aba0-5bb0d0f63286",
   "metadata": {
    "tags": []
   },
   "source": [
    "## Task 1"
   ]
  },
  {
   "cell_type": "code",
   "execution_count": 3,
   "id": "ade01416-92e7-4ad7-b9a9-b8fb330750dc",
   "metadata": {},
   "outputs": [
    {
     "name": "stdout",
     "output_type": "stream",
     "text": [
      "Results\n",
      "[('p', 'http://www.wikidata.org/prop/direct/P102'), ('name', 'member of political party')]\n",
      "[('p', 'http://www.wikidata.org/prop/direct/P103'), ('name', 'native language')]\n",
      "[('p', 'http://www.wikidata.org/prop/direct/P1035'), ('name', 'honorific suffix')]\n",
      "[('p', 'http://www.wikidata.org/prop/direct/P1038'), ('name', 'relative')]\n",
      "[('p', 'http://www.wikidata.org/prop/direct/P106'), ('name', 'occupation')]\n",
      "[('p', 'http://www.wikidata.org/prop/direct/P119'), ('name', 'place of burial')]\n",
      "[('p', 'http://www.wikidata.org/prop/direct/P1196'), ('name', 'manner of death')]\n",
      "[('p', 'http://www.wikidata.org/prop/direct/P1343'), ('name', 'described by source')]\n",
      "[('p', 'http://www.wikidata.org/prop/direct/P1412'), ('name', 'languages spoken, written or signed')]\n",
      "[('p', 'http://www.wikidata.org/prop/direct/P1424'), ('name', \"topic's main template\")]\n",
      "[('p', 'http://www.wikidata.org/prop/direct/P1441'), ('name', 'present in work')]\n",
      "[('p', 'http://www.wikidata.org/prop/direct/P157'), ('name', 'killed by')]\n",
      "[('p', 'http://www.wikidata.org/prop/direct/P166'), ('name', 'award received')]\n",
      "[('p', 'http://www.wikidata.org/prop/direct/P18'), ('name', 'image')]\n",
      "[('p', 'http://www.wikidata.org/prop/direct/P1889'), ('name', 'different from')]\n",
      "[('p', 'http://www.wikidata.org/prop/direct/P19'), ('name', 'place of birth')]\n",
      "[('p', 'http://www.wikidata.org/prop/direct/P20'), ('name', 'place of death')]\n",
      "[('p', 'http://www.wikidata.org/prop/direct/P21'), ('name', 'sex or gender')]\n",
      "[('p', 'http://www.wikidata.org/prop/direct/P2184'), ('name', 'history of topic')]\n",
      "[('p', 'http://www.wikidata.org/prop/direct/P22'), ('name', 'father')]\n",
      "[('p', 'http://www.wikidata.org/prop/direct/P2348'), ('name', 'time period')]\n",
      "[('p', 'http://www.wikidata.org/prop/direct/P2358'), ('name', 'Roman praenomen')]\n",
      "[('p', 'http://www.wikidata.org/prop/direct/P2359'), ('name', 'Roman nomen gentilicium')]\n",
      "[('p', 'http://www.wikidata.org/prop/direct/P2365'), ('name', 'Roman cognomen')]\n",
      "[('p', 'http://www.wikidata.org/prop/direct/P25'), ('name', 'mother')]\n",
      "[('p', 'http://www.wikidata.org/prop/direct/P26'), ('name', 'spouse')]\n",
      "[('p', 'http://www.wikidata.org/prop/direct/P27'), ('name', 'country of citizenship')]\n",
      "[('p', 'http://www.wikidata.org/prop/direct/P2868'), ('name', 'subject has role')]\n",
      "[('p', 'http://www.wikidata.org/prop/direct/P31'), ('name', 'instance of')]\n",
      "[('p', 'http://www.wikidata.org/prop/direct/P3373'), ('name', 'sibling')]\n",
      "[('p', 'http://www.wikidata.org/prop/direct/P3716'), ('name', 'social classification')]\n",
      "[('p', 'http://www.wikidata.org/prop/direct/P39'), ('name', 'position held')]\n",
      "[('p', 'http://www.wikidata.org/prop/direct/P40'), ('name', 'child')]\n",
      "[('p', 'http://www.wikidata.org/prop/direct/P410'), ('name', 'military rank')]\n",
      "[('p', 'http://www.wikidata.org/prop/direct/P451'), ('name', 'unmarried partner')]\n",
      "[('p', 'http://www.wikidata.org/prop/direct/P463'), ('name', 'member of')]\n",
      "[('p', 'http://www.wikidata.org/prop/direct/P5008'), ('name', 'on focus list of Wikimedia project')]\n",
      "[('p', 'http://www.wikidata.org/prop/direct/P5025'), ('name', 'gens')]\n",
      "[('p', 'http://www.wikidata.org/prop/direct/P509'), ('name', 'cause of death')]\n",
      "[('p', 'http://www.wikidata.org/prop/direct/P53'), ('name', 'family')]\n",
      "[('p', 'http://www.wikidata.org/prop/direct/P551'), ('name', 'residence')]\n",
      "[('p', 'http://www.wikidata.org/prop/direct/P607'), ('name', 'conflict')]\n",
      "[('p', 'http://www.wikidata.org/prop/direct/P6379'), ('name', 'has works in the collection')]\n",
      "[('p', 'http://www.wikidata.org/prop/direct/P6886'), ('name', 'writing language')]\n",
      "[('p', 'http://www.wikidata.org/prop/direct/P7763'), ('name', 'copyright status as a creator')]\n",
      "[('p', 'http://www.wikidata.org/prop/direct/P793'), ('name', 'significant event')]\n",
      "[('p', 'http://www.wikidata.org/prop/direct/P800'), ('name', 'notable work')]\n",
      "[('p', 'http://www.wikidata.org/prop/direct/P910'), ('name', \"topic's main category\")]\n",
      "[('p', 'http://www.wikidata.org/prop/direct/P3701'), ('name', 'incarnation of')]\n",
      "[('p', 'http://www.wikidata.org/prop/direct/P511'), ('name', 'honorific prefix')]\n",
      "[('p', 'http://www.wikidata.org/prop/direct/P8822'), ('name', 'epithet')]\n",
      "51\n"
     ]
    }
   ],
   "source": [
    "# looking for the properties of  Julius Caesar\n",
    "queryString = \"\"\"\n",
    "SELECT DISTINCT ?p ?name\n",
    "WHERE { \n",
    "    wd:Q1048 ?p ?obj.\n",
    "    ?p sc:name ?name.\n",
    "    FILTER(!isLiteral(?obj)).\n",
    "} \n",
    "\"\"\"\n",
    "\n",
    "print(\"Results\")\n",
    "x=run_query(queryString)"
   ]
  },
  {
   "cell_type": "code",
   "execution_count": 4,
   "id": "ce545fc8-725e-4f7f-a29c-a23f9f9d63dd",
   "metadata": {},
   "outputs": [
    {
     "name": "stdout",
     "output_type": "stream",
     "text": [
      "Results\n",
      "[('obj', 'http://www.wikidata.org/entity/Q1747689'), ('name', 'Ancient Rome')]\n",
      "1\n"
     ]
    }
   ],
   "source": [
    "# look for the nationality\n",
    "queryString = \"\"\"\n",
    "SELECT DISTINCT ?obj ?name\n",
    "WHERE { \n",
    "    wd:Q1048 wdt:P27 ?obj.\n",
    "    ?obj sc:name ?name.\n",
    "} \n",
    "\"\"\"\n",
    "\n",
    "print(\"Results\")\n",
    "x=run_query(queryString)"
   ]
  },
  {
   "cell_type": "code",
   "execution_count": 5,
   "id": "342f8831",
   "metadata": {},
   "outputs": [
    {
     "name": "stdout",
     "output_type": "stream",
     "text": [
      "The index of this workflow is: 1_5\n",
      "The path is /locale/data/jupyter/prando/notebook/2022/results/workflow1_5.json\n",
      "JSON object updated\n"
     ]
    }
   ],
   "source": [
    "### insert the result of TASK 1 in the file\n",
    "og_uri = \"http://www.wikidata.org/entity/Q1747689\"\n",
    "og_name = \"Ancient Rome\"\n",
    "obj = {\"uri\":og_uri,\"name\":og_name}\n",
    "evaluation.add_result(evaluation.get_index_workflow(pt),\"1\", evaluation.TYPE_SINGLE ,\"uri\", [obj] ,\"all\")"
   ]
  },
  {
   "cell_type": "markdown",
   "id": "e1df13e2-d7cb-417e-b171-95a9206f5380",
   "metadata": {},
   "source": [
    "`wd:Q1747689` -> Ancient Rome"
   ]
  },
  {
   "cell_type": "markdown",
   "id": "ef2ed3c7-1a8a-4ec9-937e-4f8701021e2b",
   "metadata": {
    "tags": []
   },
   "source": [
    "## Task 2"
   ]
  },
  {
   "cell_type": "code",
   "execution_count": 7,
   "id": "ea089d1f-7b9d-4cb2-a2e9-d9babf258e41",
   "metadata": {},
   "outputs": [
    {
     "name": "stdout",
     "output_type": "stream",
     "text": [
      "Results\n",
      "[('obj', 'http://www.wikidata.org/entity/Q1190123'), ('name', 'Roman governor')]\n",
      "[('obj', 'http://www.wikidata.org/entity/Q20056508'), ('name', 'Ancient Roman senator')]\n",
      "[('obj', 'http://www.wikidata.org/entity/Q212943'), ('name', 'pontifex maximus')]\n",
      "[('obj', 'http://www.wikidata.org/entity/Q40779'), ('name', 'Roman consul')]\n",
      "[('obj', 'http://www.wikidata.org/entity/Q952844'), ('name', 'pontifex')]\n",
      "[('obj', 'http://www.wikidata.org/entity/Q5413489'), ('name', 'curule aedile')]\n",
      "[('obj', 'http://www.wikidata.org/entity/Q172907'), ('name', 'praetor')]\n",
      "[('obj', 'http://www.wikidata.org/entity/Q189430'), ('name', 'quaestor')]\n",
      "[('obj', 'http://www.wikidata.org/entity/Q1426927'), ('name', 'Flamen Dialis')]\n",
      "[('obj', 'http://www.wikidata.org/entity/Q236885'), ('name', 'Roman dictator')]\n",
      "10\n"
     ]
    }
   ],
   "source": [
    "# look for position held\n",
    "queryString = \"\"\"\n",
    "SELECT DISTINCT ?obj ?name\n",
    "WHERE { \n",
    "    wd:Q1048 wdt:P39 ?obj.\n",
    "    ?obj sc:name ?name.\n",
    "}\n",
    "\"\"\"\n",
    "\n",
    "print(\"Results\")\n",
    "x=run_query(queryString)"
   ]
  },
  {
   "cell_type": "code",
   "execution_count": 9,
   "id": "3fba6aca-0c47-4342-92a7-e30d6cdccec2",
   "metadata": {
    "scrolled": true
   },
   "outputs": [
    {
     "name": "stdout",
     "output_type": "stream",
     "text": [
      "Results\n",
      "[('obj', 'http://www.wikidata.org/entity/Q1048'), ('name', 'Julius Caesar')]\n",
      "[('obj', 'http://www.wikidata.org/entity/Q529867'), ('name', 'Titus Lartius')]\n",
      "[('obj', 'http://www.wikidata.org/entity/Q334940'), ('name', 'Aulus Cornelius Cossus')]\n",
      "[('obj', 'http://www.wikidata.org/entity/Q359810'), ('name', 'Lucius Caecilius Metellus')]\n",
      "[('obj', 'http://www.wikidata.org/entity/Q929498'), ('name', 'Quintus Caecilius Metellus')]\n",
      "[('obj', 'http://www.wikidata.org/entity/Q155312'), ('name', 'Gaius Claudius Centho')]\n",
      "[('obj', 'http://www.wikidata.org/entity/Q297783'), ('name', 'Appius Claudius Caecus')]\n",
      "[('obj', 'http://www.wikidata.org/entity/Q703448'), ('name', 'Marcus Livius Salinator')]\n",
      "[('obj', 'http://www.wikidata.org/entity/Q519186'), ('name', 'Quintus Hortensius')]\n",
      "[('obj', 'http://www.wikidata.org/entity/Q1223522'), ('name', 'Caius Poetelius Libo Visolus')]\n",
      "[('obj', 'http://www.wikidata.org/entity/Q682087'), ('name', 'Gaius Poetelius Libo Visolus')]\n",
      "[('obj', 'http://www.wikidata.org/entity/Q709224'), ('name', 'Marcus Fabius Ambustus')]\n",
      "[('obj', 'http://www.wikidata.org/entity/Q63314619'), ('name', 'Manius Valerius')]\n",
      "[('obj', 'http://www.wikidata.org/entity/Q963870'), ('name', 'Lucius Aemilius Mamercinus Privernas')]\n",
      "[('obj', 'http://www.wikidata.org/entity/Q15034789'), ('name', 'Manius Valerius Maximus')]\n",
      "[('obj', 'http://www.wikidata.org/entity/Q483783'), ('name', 'Sulla')]\n",
      "[('obj', 'http://www.wikidata.org/entity/Q718133'), ('name', 'Titus Manlius Torquatus')]\n",
      "[('obj', 'http://www.wikidata.org/entity/Q1439387'), ('name', 'Lucius Veturius Philo')]\n",
      "[('obj', 'http://www.wikidata.org/entity/Q3622696'), ('name', 'Quintus Fabius Ambustus')]\n",
      "[('obj', 'http://www.wikidata.org/entity/Q1491536'), ('name', 'Gaius Servilius Geminus')]\n",
      "[('obj', 'http://www.wikidata.org/entity/Q637596'), ('name', 'Quintus Servilius Priscus Structus Fidenas')]\n",
      "[('obj', 'http://www.wikidata.org/entity/Q1234290'), ('name', 'Quintus Publilius Philo')]\n",
      "[('obj', 'http://www.wikidata.org/entity/Q5759141'), ('name', 'Gaius Claudius Crassus Inrelligensis')]\n",
      "[('obj', 'http://www.wikidata.org/entity/Q9064243'), ('name', 'Publius Cornelius Scipio Barbatus')]\n",
      "[('obj', 'http://www.wikidata.org/entity/Q3772609'), ('name', 'Gnaeus Quinctius Capitolinus')]\n",
      "[('obj', 'http://www.wikidata.org/entity/Q1227246'), ('name', 'Quintus Servilius Ahala')]\n",
      "[('obj', 'http://www.wikidata.org/entity/Q59559'), ('name', 'Marcus Aemilius Papus')]\n",
      "[('obj', 'http://www.wikidata.org/entity/Q935315'), ('name', 'Gaius Marcius Rutilus')]\n",
      "[('obj', 'http://www.wikidata.org/entity/Q274545'), ('name', 'Quintus Fabius Maximus Verrucosus')]\n",
      "[('obj', 'http://www.wikidata.org/entity/Q435408'), ('name', 'Gaius Duilius')]\n",
      "[('obj', 'http://www.wikidata.org/entity/Q772650'), ('name', 'Aulus Cornelius Cossus Arvina')]\n",
      "[('obj', 'http://www.wikidata.org/entity/Q779125'), ('name', 'Publius Cornelius Rutilus Cossus')]\n",
      "[('obj', 'http://www.wikidata.org/entity/Q465309'), ('name', 'Lucius Papirius Cursor')]\n",
      "[('obj', 'http://www.wikidata.org/entity/Q691437'), ('name', 'Marcus Papirius Crassus')]\n",
      "[('obj', 'http://www.wikidata.org/entity/Q714821'), ('name', 'Titus Manlius Imperiosus Torquatus')]\n",
      "[('obj', 'http://www.wikidata.org/entity/Q435352'), ('name', 'Quintus Fabius Maximus Rullianus')]\n",
      "[('obj', 'http://www.wikidata.org/entity/Q16198778'), ('name', 'Gaius Aemilius Mamercus')]\n",
      "[('obj', 'http://www.wikidata.org/entity/Q309637'), ('name', 'Lucius Quinctius Cincinnatus')]\n",
      "[('obj', 'http://www.wikidata.org/entity/Q369710'), ('name', 'Marcus Claudius Marcellus')]\n",
      "[('obj', 'http://www.wikidata.org/entity/Q655227'), ('name', 'Lucius Cornelius Lentulus')]\n",
      "[('obj', 'http://www.wikidata.org/entity/Q1235979'), ('name', 'Titus Quinctius Cincinnatus Capitolinus')]\n",
      "[('obj', 'http://www.wikidata.org/entity/Q4895971'), ('name', 'Marcus Fabius Ambustus')]\n",
      "[('obj', 'http://www.wikidata.org/entity/Q723447'), ('name', 'Publius Cornelius Rufinus')]\n",
      "[('obj', 'http://www.wikidata.org/entity/Q1215407'), ('name', 'Lucius Manlius Capitolinus Imperiosus')]\n",
      "[('obj', 'http://www.wikidata.org/entity/Q929627'), ('name', 'Gaius Junius Bubulcus Brutus')]\n",
      "[('obj', 'http://www.wikidata.org/entity/Q4244600'), ('name', 'Gaius Julius Jullus')]\n",
      "[('obj', 'http://www.wikidata.org/entity/Q1231649'), ('name', 'Gaius Maenius')]\n",
      "[('obj', 'http://www.wikidata.org/entity/Q1236683'), ('name', 'Lucius Volumnius Flamma Violens')]\n",
      "[('obj', 'http://www.wikidata.org/entity/Q3290250'), ('name', 'Marcus Claudius C. f. Glicia')]\n",
      "[('obj', 'http://www.wikidata.org/entity/Q714798'), ('name', 'Aulus Atilius Calatinus')]\n",
      "[('obj', 'http://www.wikidata.org/entity/Q294862'), ('name', 'Marcus Furius Camillus')]\n",
      "[('obj', 'http://www.wikidata.org/entity/Q857105'), ('name', 'Gaius Sulpicius Longus')]\n",
      "[('obj', 'http://www.wikidata.org/entity/Q957079'), ('name', 'Mamercus Aemilius Mamercinus')]\n",
      "[('obj', 'http://www.wikidata.org/entity/Q542883'), ('name', 'Marcus Fabius Buteo')]\n",
      "[('obj', 'http://www.wikidata.org/entity/Q453874'), ('name', 'Marcus Valerius Corvus')]\n",
      "[('obj', 'http://www.wikidata.org/entity/Q1261606'), ('name', 'Tiberius Coruncanius')]\n",
      "[('obj', 'http://www.wikidata.org/entity/Q1091296'), ('name', 'Publius Cornelius Rufinus')]\n",
      "[('obj', 'http://www.wikidata.org/entity/Q670737'), ('name', 'Aulus Postumius Tubertus')]\n",
      "[('obj', 'http://www.wikidata.org/entity/Q736087'), ('name', 'Marcus Junius Pera')]\n",
      "[('obj', 'http://www.wikidata.org/entity/Q1229565'), ('name', 'Lucius Papirius Crassus')]\n",
      "[('obj', 'http://www.wikidata.org/entity/Q657468'), ('name', 'Aulus Postumius Albus Regillensis')]\n",
      "[('obj', 'http://www.wikidata.org/entity/Q659723'), ('name', 'Publius Sulpicius Galba Maximus')]\n",
      "[('obj', 'http://www.wikidata.org/entity/Q1219017'), ('name', 'Gaius Plautius Decianus')]\n",
      "[('obj', 'http://www.wikidata.org/entity/Q1223605'), ('name', 'Publius Manlius Capitolinus')]\n",
      "[('obj', 'http://www.wikidata.org/entity/Q715851'), ('name', 'Quintus Ogulnius Gallus')]\n",
      "[('obj', 'http://www.wikidata.org/entity/Q3757313'), ('name', 'Gaius Claudius Regilllensis')]\n",
      "[('obj', 'http://www.wikidata.org/entity/Q1146364'), ('name', 'Lucius Fulvius Curvus')]\n",
      "[('obj', 'http://www.wikidata.org/entity/Q1219030'), ('name', 'Publius Valerius Publicola')]\n",
      "[('obj', 'http://www.wikidata.org/entity/Q589448'), ('name', 'Lucius Furius Camillus')]\n",
      "[('obj', 'http://www.wikidata.org/entity/Q657609'), ('name', 'Appius Claudius Crassus')]\n",
      "[('obj', 'http://www.wikidata.org/entity/Q716420'), ('name', 'Gnaeus Domitius Calvinus Maximus')]\n",
      "[('obj', 'http://www.wikidata.org/entity/Q151478'), ('name', 'Gnaeus Fulvius Maximus Centumalus')]\n",
      "[('obj', 'http://www.wikidata.org/entity/Q738433'), ('name', 'Gaius Sulpicius Peticus')]\n",
      "[('obj', 'http://www.wikidata.org/entity/Q1230841'), ('name', 'Titus Quinctius Poenus Capitolinus Crispinus')]\n",
      "[('obj', 'http://www.wikidata.org/entity/Q710851'), ('name', 'Quintus Fulvius Flaccus')]\n",
      "75\n"
     ]
    }
   ],
   "source": [
    "# find all the roman dictator\n",
    "queryString = \"\"\"\n",
    "SELECT DISTINCT ?obj ?name\n",
    "WHERE { \n",
    "    ?obj wdt:P39 wd:Q236885.\n",
    "    ?obj sc:name ?name.\n",
    "}\n",
    "\"\"\"\n",
    "\n",
    "print(\"Results\")\n",
    "x=run_query(queryString)"
   ]
  },
  {
   "cell_type": "code",
   "execution_count": 10,
   "id": "888dccba",
   "metadata": {},
   "outputs": [
    {
     "name": "stdout",
     "output_type": "stream",
     "text": [
      "The index of this workflow is: 1_5\n",
      "The path is /locale/data/jupyter/prando/notebook/2022/results/workflow1_5.json\n",
      "JSON object updated\n"
     ]
    }
   ],
   "source": [
    "obj = [{\"uri\":r[0][1],\"name\":r[1][1]} for r in x]\n",
    "evaluation.add_result(evaluation.get_index_workflow(pt),\"2\", evaluation.TYPE_SET ,\"uri\", obj)"
   ]
  },
  {
   "cell_type": "markdown",
   "id": "d1b629d5-6005-4825-9784-c69940b5e249",
   "metadata": {
    "jp-MarkdownHeadingCollapsed": true,
    "tags": []
   },
   "source": [
    "## Task 3"
   ]
  },
  {
   "cell_type": "code",
   "execution_count": 11,
   "id": "64089a33-2b09-41a2-8613-25218a2fbb2d",
   "metadata": {},
   "outputs": [
    {
     "name": "stdout",
     "output_type": "stream",
     "text": [
      "Results\n",
      "[('obj', 'http://www.wikidata.org/entity/Q5652564'), ('o', 'Category:Ancient Romans')]\n",
      "[('obj', 'http://www.wikidata.org/entity/Q2277'), ('o', 'Roman Empire')]\n",
      "[('obj', 'http://www.wikidata.org/entity/Q17167'), ('o', 'Roman Republic')]\n",
      "[('obj', 'http://www.wikidata.org/entity/Q201038'), ('o', 'Roman Kingdom')]\n",
      "4\n"
     ]
    }
   ],
   "source": [
    "# find the roman empire and roman republic\n",
    "queryString = \"\"\"\n",
    "SELECT DISTINCT ?obj ?o\n",
    "WHERE { \n",
    "    wd:Q1747689 ?prop ?obj.\n",
    "    ?obj sc:name ?o.\n",
    "    FILTER(REGEX(?o,\"[R,r]oman\")).\n",
    "} \n",
    "\"\"\"\n",
    "\n",
    "print(\"Results\")\n",
    "x=run_query(queryString)"
   ]
  },
  {
   "cell_type": "code",
   "execution_count": 12,
   "id": "9c72d769",
   "metadata": {},
   "outputs": [
    {
     "name": "stdout",
     "output_type": "stream",
     "text": [
      "The index of this workflow is: 1_5\n",
      "The path is /locale/data/jupyter/prando/notebook/2022/results/workflow1_5.json\n",
      "JSON object updated\n"
     ]
    }
   ],
   "source": [
    "obj = [{\"uri\":\"http://www.wikidata.org/entity/Q2277\",\"name\":\"Roman Empire\"},{\"uri\":\"http://www.wikidata.org/entity/Q17167\",\"name\":\"Roman Republic\"},]\n",
    "evaluation.add_result(evaluation.get_index_workflow(pt),\"3\", evaluation.TYPE_SET ,\"uri\", obj)"
   ]
  },
  {
   "cell_type": "markdown",
   "id": "b169cd6c-63f3-48e5-b417-765615a5a788",
   "metadata": {
    "jp-MarkdownHeadingCollapsed": true,
    "tags": []
   },
   "source": [
    "## Task 4"
   ]
  },
  {
   "cell_type": "code",
   "execution_count": 13,
   "id": "67280618-a51c-49e5-b326-9983d2aab3b7",
   "metadata": {},
   "outputs": [
    {
     "name": "stdout",
     "output_type": "stream",
     "text": [
      "Results\n",
      "[('prop', 'http://www.wikidata.org/prop/direct/P1151'), ('name', \"topic's main Wikimedia portal\")]\n",
      "[('prop', 'http://www.wikidata.org/prop/direct/P122'), ('name', 'basic form of government')]\n",
      "[('prop', 'http://www.wikidata.org/prop/direct/P1245'), ('name', 'OmegaWiki Defined Meaning')]\n",
      "[('prop', 'http://www.wikidata.org/prop/direct/P1343'), ('name', 'described by source')]\n",
      "[('prop', 'http://www.wikidata.org/prop/direct/P1344'), ('name', 'participant in')]\n",
      "[('prop', 'http://www.wikidata.org/prop/direct/P1365'), ('name', 'replaces')]\n",
      "[('prop', 'http://www.wikidata.org/prop/direct/P1366'), ('name', 'replaced by')]\n",
      "[('prop', 'http://www.wikidata.org/prop/direct/P140'), ('name', 'religion')]\n",
      "[('prop', 'http://www.wikidata.org/prop/direct/P1417'), ('name', 'Encyclopædia Britannica Online ID')]\n",
      "[('prop', 'http://www.wikidata.org/prop/direct/P1464'), ('name', 'category for people born here')]\n",
      "[('prop', 'http://www.wikidata.org/prop/direct/P1465'), ('name', 'category for people who died here')]\n",
      "[('prop', 'http://www.wikidata.org/prop/direct/P150'), ('name', 'contains administrative territorial entity')]\n",
      "[('prop', 'http://www.wikidata.org/prop/direct/P1549'), ('name', 'demonym')]\n",
      "[('prop', 'http://www.wikidata.org/prop/direct/P1566'), ('name', 'GeoNames ID')]\n",
      "[('prop', 'http://www.wikidata.org/prop/direct/P1667'), ('name', 'Getty Thesaurus of Geographic Names ID')]\n",
      "[('prop', 'http://www.wikidata.org/prop/direct/P17'), ('name', 'country')]\n",
      "[('prop', 'http://www.wikidata.org/prop/direct/P1792'), ('name', 'category of associated people')]\n",
      "[('prop', 'http://www.wikidata.org/prop/direct/P18'), ('name', 'image')]\n",
      "[('prop', 'http://www.wikidata.org/prop/direct/P1889'), ('name', 'different from')]\n",
      "[('prop', 'http://www.wikidata.org/prop/direct/P1906'), ('name', 'office held by head of state')]\n",
      "[('prop', 'http://www.wikidata.org/prop/direct/P194'), ('name', 'legislative body')]\n",
      "[('prop', 'http://www.wikidata.org/prop/direct/P214'), ('name', 'VIAF ID')]\n",
      "[('prop', 'http://www.wikidata.org/prop/direct/P2184'), ('name', 'history of topic')]\n",
      "[('prop', 'http://www.wikidata.org/prop/direct/P2348'), ('name', 'time period')]\n",
      "[('prop', 'http://www.wikidata.org/prop/direct/P237'), ('name', 'coat of arms')]\n",
      "[('prop', 'http://www.wikidata.org/prop/direct/P242'), ('name', 'locator map image')]\n",
      "[('prop', 'http://www.wikidata.org/prop/direct/P2581'), ('name', 'BabelNet ID')]\n",
      "[('prop', 'http://www.wikidata.org/prop/direct/P2936'), ('name', 'language used')]\n",
      "[('prop', 'http://www.wikidata.org/prop/direct/P2959'), ('name', 'permanent duplicated item')]\n",
      "[('prop', 'http://www.wikidata.org/prop/direct/P30'), ('name', 'continent')]\n",
      "[('prop', 'http://www.wikidata.org/prop/direct/P3075'), ('name', 'official religion')]\n",
      "[('prop', 'http://www.wikidata.org/prop/direct/P31'), ('name', 'instance of')]\n",
      "[('prop', 'http://www.wikidata.org/prop/direct/P3417'), ('name', 'Quora topic ID')]\n",
      "[('prop', 'http://www.wikidata.org/prop/direct/P36'), ('name', 'capital')]\n",
      "[('prop', 'http://www.wikidata.org/prop/direct/P361'), ('name', 'part of')]\n",
      "[('prop', 'http://www.wikidata.org/prop/direct/P37'), ('name', 'official language')]\n",
      "[('prop', 'http://www.wikidata.org/prop/direct/P373'), ('name', 'Commons category')]\n",
      "[('prop', 'http://www.wikidata.org/prop/direct/P38'), ('name', 'currency')]\n",
      "[('prop', 'http://www.wikidata.org/prop/direct/P41'), ('name', 'flag image')]\n",
      "[('prop', 'http://www.wikidata.org/prop/direct/P4212'), ('name', 'PACTOLS thesaurus ID')]\n",
      "[('prop', 'http://www.wikidata.org/prop/direct/P47'), ('name', 'shares border with')]\n",
      "[('prop', 'http://www.wikidata.org/prop/direct/P5008'), ('name', 'on focus list of Wikimedia project')]\n",
      "[('prop', 'http://www.wikidata.org/prop/direct/P5063'), ('name', 'Interlingual Index ID')]\n",
      "[('prop', 'http://www.wikidata.org/prop/direct/P527'), ('name', 'has part')]\n",
      "[('prop', 'http://www.wikidata.org/prop/direct/P530'), ('name', 'diplomatic relation')]\n",
      "[('prop', 'http://www.wikidata.org/prop/direct/P576'), ('name', 'dissolved, abolished or demolished date')]\n",
      "[('prop', 'http://www.wikidata.org/prop/direct/P580'), ('name', 'start time')]\n",
      "[('prop', 'http://www.wikidata.org/prop/direct/P582'), ('name', 'end time')]\n",
      "[('prop', 'http://www.wikidata.org/prop/direct/P6366'), ('name', 'Microsoft Academic ID')]\n",
      "[('prop', 'http://www.wikidata.org/prop/direct/P6379'), ('name', 'has works in the collection')]\n",
      "[('prop', 'http://www.wikidata.org/prop/direct/P646'), ('name', 'Freebase ID')]\n",
      "[('prop', 'http://www.wikidata.org/prop/direct/P6839'), ('name', 'TV Tropes identifier')]\n",
      "[('prop', 'http://www.wikidata.org/prop/direct/P6900'), ('name', 'NicoNicoPedia ID')]\n",
      "[('prop', 'http://www.wikidata.org/prop/direct/P7786'), ('name', 'Joconde epoch ID')]\n",
      "[('prop', 'http://www.wikidata.org/prop/direct/P7818'), ('name', 'French Vikidia ID')]\n",
      "[('prop', 'http://www.wikidata.org/prop/direct/P7827'), ('name', 'Spanish Vikidia ID')]\n",
      "[('prop', 'http://www.wikidata.org/prop/direct/P7829'), ('name', 'English Vikidia ID')]\n",
      "[('prop', 'http://www.wikidata.org/prop/direct/P7832'), ('name', 'Basque Vikidia ID')]\n",
      "[('prop', 'http://www.wikidata.org/prop/direct/P7859'), ('name', 'WorldCat Identities ID')]\n",
      "[('prop', 'http://www.wikidata.org/prop/direct/P7867'), ('name', 'category for maps')]\n",
      "[('prop', 'http://www.wikidata.org/prop/direct/P8408'), ('name', 'KBpedia ID')]\n",
      "[('prop', 'http://www.wikidata.org/prop/direct/P8519'), ('name', 'RKD thesaurus ID')]\n",
      "[('prop', 'http://www.wikidata.org/prop/direct/P8744'), ('name', 'economy of topic')]\n",
      "[('prop', 'http://www.wikidata.org/prop/direct/P8814'), ('name', 'WordNet 3.1 Synset ID')]\n",
      "[('prop', 'http://www.wikidata.org/prop/direct/P910'), ('name', \"topic's main category\")]\n",
      "[('prop', 'http://www.wikidata.org/prop/direct/P9241'), ('name', 'demographics of topic')]\n",
      "[('prop', 'http://www.wikidata.org/prop/direct/P935'), ('name', 'Commons gallery')]\n",
      "[('prop', 'http://www.wikidata.org/prop/direct/P94'), ('name', 'coat of arms image')]\n",
      "[('prop', 'http://www.wikidata.org/prop/direct/P948'), ('name', 'page banner')]\n",
      "[('prop', 'http://www.wikidata.org/prop/direct/P989'), ('name', 'spoken text audio')]\n",
      "[('prop', 'http://www.wikidata.org/prop/direct/P3842'), ('name', 'located in present-day administrative territorial entity')]\n",
      "71\n"
     ]
    }
   ],
   "source": [
    "# properties of Roman Empire\n",
    "queryString = \"\"\"\n",
    "SELECT DISTINCT ?prop ?name\n",
    "WHERE { \n",
    "    wd:Q2277 ?prop ?obj.\n",
    "    ?prop sc:name ?name.\n",
    "}\n",
    "\"\"\"\n",
    "\n",
    "print(\"Results\")\n",
    "x=run_query(queryString)"
   ]
  },
  {
   "cell_type": "code",
   "execution_count": 14,
   "id": "ab1ec41c-da85-48c8-a35e-04e2f1a4d3ac",
   "metadata": {},
   "outputs": [
    {
     "name": "stdout",
     "output_type": "stream",
     "text": [
      "Results\n",
      "[('obj', 'http://www.wikidata.org/entity/Q842606'), ('name', 'Roman emperor')]\n",
      "1\n"
     ]
    }
   ],
   "source": [
    "# use the property office held by head of state\n",
    "queryString = \"\"\"\n",
    "SELECT DISTINCT ?obj ?name\n",
    "WHERE { \n",
    "    wd:Q2277 wdt:P1906 ?obj.\n",
    "    ?obj sc:name ?name.\n",
    "}\n",
    "\"\"\"\n",
    "\n",
    "print(\"Results\")\n",
    "x=run_query(queryString)"
   ]
  },
  {
   "cell_type": "code",
   "execution_count": 15,
   "id": "c7776467-a95f-449d-958c-2d4333f2d253",
   "metadata": {},
   "outputs": [
    {
     "name": "stdout",
     "output_type": "stream",
     "text": [
      "Results\n",
      "[('prop', 'http://www.wikidata.org/prop/direct/P106'), ('name', 'occupation')]\n",
      "[('prop', 'http://www.wikidata.org/prop/direct/P39'), ('name', 'position held')]\n",
      "[('prop', 'http://www.wikidata.org/prop/direct/P97'), ('name', 'noble title')]\n",
      "3\n"
     ]
    }
   ],
   "source": [
    "# find how people are connected with Roman emperor\n",
    "queryString = \"\"\"\n",
    "SELECT DISTINCT ?prop ?name\n",
    "WHERE { \n",
    "    ?obj ?prop wd:Q842606;\n",
    "            wdt:P31 wd:Q5.\n",
    "    ?prop sc:name ?name.\n",
    "}\n",
    "\"\"\"\n",
    "\n",
    "print(\"Results\")\n",
    "x=run_query(queryString)"
   ]
  },
  {
   "cell_type": "code",
   "execution_count": 17,
   "id": "4e7a8733-340a-4de5-9132-8d51ec240844",
   "metadata": {},
   "outputs": [
    {
     "name": "stdout",
     "output_type": "stream",
     "text": [
      "Results\n",
      "[('prop', 'http://www.wikidata.org/prop/direct/P2366'), ('name', 'Roman agnomen')]\n",
      "[('prop', 'http://www.wikidata.org/prop/direct/P2365'), ('name', 'Roman cognomen')]\n",
      "[('prop', 'http://www.wikidata.org/prop/direct/P2359'), ('name', 'Roman nomen gentilicium')]\n",
      "[('prop', 'http://www.wikidata.org/prop/direct/P2358'), ('name', 'Roman praenomen')]\n",
      "[('prop', 'http://www.wikidata.org/prop/direct/P945'), ('name', 'allegiance')]\n",
      "[('prop', 'http://www.wikidata.org/prop/direct/P166'), ('name', 'award received')]\n",
      "[('prop', 'http://www.wikidata.org/prop/direct/P411'), ('name', 'canonization status')]\n",
      "[('prop', 'http://www.wikidata.org/prop/direct/P509'), ('name', 'cause of death')]\n",
      "[('prop', 'http://www.wikidata.org/prop/direct/P40'), ('name', 'child')]\n",
      "[('prop', 'http://www.wikidata.org/prop/direct/P607'), ('name', 'conflict')]\n",
      "[('prop', 'http://www.wikidata.org/prop/direct/P7763'), ('name', 'copyright status as a creator')]\n",
      "[('prop', 'http://www.wikidata.org/prop/direct/P27'), ('name', 'country of citizenship')]\n",
      "[('prop', 'http://www.wikidata.org/prop/direct/P569'), ('name', 'date of birth')]\n",
      "[('prop', 'http://www.wikidata.org/prop/direct/P1343'), ('name', 'described by source')]\n",
      "[('prop', 'http://www.wikidata.org/prop/direct/P1889'), ('name', 'different from')]\n",
      "[('prop', 'http://www.wikidata.org/prop/direct/P8822'), ('name', 'epithet')]\n",
      "[('prop', 'http://www.wikidata.org/prop/direct/P172'), ('name', 'ethnic group')]\n",
      "[('prop', 'http://www.wikidata.org/prop/direct/P53'), ('name', 'family')]\n",
      "[('prop', 'http://www.wikidata.org/prop/direct/P22'), ('name', 'father')]\n",
      "[('prop', 'http://www.wikidata.org/prop/direct/P841'), ('name', 'feast day')]\n",
      "[('prop', 'http://www.wikidata.org/prop/direct/P101'), ('name', 'field of work')]\n",
      "[('prop', 'http://www.wikidata.org/prop/direct/P41'), ('name', 'flag image')]\n",
      "[('prop', 'http://www.wikidata.org/prop/direct/P5025'), ('name', 'gens')]\n",
      "[('prop', 'http://www.wikidata.org/prop/direct/P735'), ('name', 'given name')]\n",
      "[('prop', 'http://www.wikidata.org/prop/direct/P1884'), ('name', 'hair color')]\n",
      "[('prop', 'http://www.wikidata.org/prop/direct/P6379'), ('name', 'has works in the collection')]\n",
      "[('prop', 'http://www.wikidata.org/prop/direct/P511'), ('name', 'honorific prefix')]\n",
      "[('prop', 'http://www.wikidata.org/prop/direct/P1035'), ('name', 'honorific suffix')]\n",
      "[('prop', 'http://www.wikidata.org/prop/direct/P4185'), ('name', 'iconographic symbol')]\n",
      "[('prop', 'http://www.wikidata.org/prop/direct/P18'), ('name', 'image')]\n",
      "[('prop', 'http://www.wikidata.org/prop/direct/P31'), ('name', 'instance of')]\n",
      "[('prop', 'http://www.wikidata.org/prop/direct/P157'), ('name', 'killed by')]\n",
      "[('prop', 'http://www.wikidata.org/prop/direct/P1412'), ('name', 'languages spoken, written or signed')]\n",
      "[('prop', 'http://www.wikidata.org/prop/direct/P1196'), ('name', 'manner of death')]\n",
      "[('prop', 'http://www.wikidata.org/prop/direct/P1050'), ('name', 'medical condition')]\n",
      "[('prop', 'http://www.wikidata.org/prop/direct/P241'), ('name', 'military branch')]\n",
      "[('prop', 'http://www.wikidata.org/prop/direct/P1347'), ('name', 'military casualty classification')]\n",
      "[('prop', 'http://www.wikidata.org/prop/direct/P410'), ('name', 'military rank')]\n",
      "[('prop', 'http://www.wikidata.org/prop/direct/P25'), ('name', 'mother')]\n",
      "[('prop', 'http://www.wikidata.org/prop/direct/P138'), ('name', 'named after')]\n",
      "[('prop', 'http://www.wikidata.org/prop/direct/P103'), ('name', 'native language')]\n",
      "[('prop', 'http://www.wikidata.org/prop/direct/P97'), ('name', 'noble title')]\n",
      "[('prop', 'http://www.wikidata.org/prop/direct/P800'), ('name', 'notable work')]\n",
      "[('prop', 'http://www.wikidata.org/prop/direct/P1971'), ('name', 'number of children')]\n",
      "[('prop', 'http://www.wikidata.org/prop/direct/P106'), ('name', 'occupation')]\n",
      "[('prop', 'http://www.wikidata.org/prop/direct/P5008'), ('name', 'on focus list of Wikimedia project')]\n",
      "[('prop', 'http://www.wikidata.org/prop/direct/P1830'), ('name', 'owner of')]\n",
      "[('prop', 'http://www.wikidata.org/prop/direct/P361'), ('name', 'part of')]\n",
      "[('prop', 'http://www.wikidata.org/prop/direct/P1344'), ('name', 'participant in')]\n",
      "[('prop', 'http://www.wikidata.org/prop/direct/P1327'), ('name', 'partner in business or sport')]\n",
      "[('prop', 'http://www.wikidata.org/prop/direct/P19'), ('name', 'place of birth')]\n",
      "[('prop', 'http://www.wikidata.org/prop/direct/P119'), ('name', 'place of burial')]\n",
      "[('prop', 'http://www.wikidata.org/prop/direct/P20'), ('name', 'place of death')]\n",
      "[('prop', 'http://www.wikidata.org/prop/direct/P39'), ('name', 'position held')]\n",
      "[('prop', 'http://www.wikidata.org/prop/direct/P1441'), ('name', 'present in work')]\n",
      "[('prop', 'http://www.wikidata.org/prop/direct/P443'), ('name', 'pronunciation audio')]\n",
      "[('prop', 'http://www.wikidata.org/prop/direct/P1038'), ('name', 'relative')]\n",
      "[('prop', 'http://www.wikidata.org/prop/direct/P140'), ('name', 'religion')]\n",
      "[('prop', 'http://www.wikidata.org/prop/direct/P551'), ('name', 'residence')]\n",
      "[('prop', 'http://www.wikidata.org/prop/direct/P460'), ('name', 'said to be the same as')]\n",
      "[('prop', 'http://www.wikidata.org/prop/direct/P21'), ('name', 'sex or gender')]\n",
      "[('prop', 'http://www.wikidata.org/prop/direct/P91'), ('name', 'sexual orientation')]\n",
      "[('prop', 'http://www.wikidata.org/prop/direct/P3373'), ('name', 'sibling')]\n",
      "[('prop', 'http://www.wikidata.org/prop/direct/P793'), ('name', 'significant event')]\n",
      "[('prop', 'http://www.wikidata.org/prop/direct/P3342'), ('name', 'significant person')]\n",
      "[('prop', 'http://www.wikidata.org/prop/direct/P3716'), ('name', 'social classification')]\n",
      "[('prop', 'http://www.wikidata.org/prop/direct/P989'), ('name', 'spoken text audio')]\n",
      "[('prop', 'http://www.wikidata.org/prop/direct/P26'), ('name', 'spouse')]\n",
      "[('prop', 'http://www.wikidata.org/prop/direct/P3448'), ('name', 'stepparent')]\n",
      "[('prop', 'http://www.wikidata.org/prop/direct/P1066'), ('name', 'student of')]\n",
      "[('prop', 'http://www.wikidata.org/prop/direct/P2348'), ('name', 'time period')]\n",
      "[('prop', 'http://www.wikidata.org/prop/direct/P910'), ('name', \"topic's main category\")]\n",
      "[('prop', 'http://www.wikidata.org/prop/direct/P451'), ('name', 'unmarried partner')]\n",
      "[('prop', 'http://www.wikidata.org/prop/direct/P937'), ('name', 'work location')]\n",
      "[('prop', 'http://www.wikidata.org/prop/direct/P6886'), ('name', 'writing language')]\n",
      "75\n"
     ]
    }
   ],
   "source": [
    "# return the properties of roman emperors\n",
    "queryString = \"\"\"\n",
    "SELECT DISTINCT ?prop ?name\n",
    "WHERE { \n",
    "    ?obj wdt:P39 wd:Q842606;\n",
    "        ?prop ?o.\n",
    "    ?prop sc:name ?name.\n",
    "    FILTER(!isLiteral(?o)).\n",
    "}\n",
    "ORDER BY ?name\n",
    "\"\"\"\n",
    "\n",
    "print(\"Results\")\n",
    "x=run_query(queryString)"
   ]
  },
  {
   "cell_type": "code",
   "execution_count": 18,
   "id": "b3e2c8d8-00c5-4a9b-934c-496894810a44",
   "metadata": {},
   "outputs": [
    {
     "name": "stdout",
     "output_type": "stream",
     "text": [
      "Results\n",
      "[('o', 'http://www.wikidata.org/entity/Q171558'), ('name', 'accident')]\n",
      "[('o', 'http://www.wikidata.org/entity/Q8454'), ('name', 'capital punishment')]\n",
      "[('o', 'http://www.wikidata.org/entity/Q18663901'), ('name', 'death in battle')]\n",
      "[('o', 'http://www.wikidata.org/entity/Q2746270'), ('name', 'forced suicide')]\n",
      "[('o', 'http://www.wikidata.org/entity/Q149086'), ('name', 'homicide')]\n",
      "[('o', 'http://www.wikidata.org/entity/Q3739104'), ('name', 'natural causes')]\n",
      "[('o', 'http://www.wikidata.org/entity/Q10737'), ('name', 'suicide')]\n",
      "7\n"
     ]
    }
   ],
   "source": [
    "# find examples of manner of death\n",
    "queryString = \"\"\"\n",
    "SELECT DISTINCT ?o ?name\n",
    "WHERE { \n",
    "    ?obj wdt:P39 wd:Q842606;\n",
    "        wdt:P1196 ?o.\n",
    "    ?o sc:name ?name.\n",
    "}\n",
    "ORDER BY ?name\n",
    "\"\"\"\n",
    "\n",
    "print(\"Results\")\n",
    "x=run_query(queryString)"
   ]
  },
  {
   "cell_type": "code",
   "execution_count": 20,
   "id": "98f55fba-8426-4adf-aca6-02942be21687",
   "metadata": {},
   "outputs": [
    {
     "name": "stdout",
     "output_type": "stream",
     "text": [
      "Results\n",
      "[('emperor', 'http://www.wikidata.org/entity/Q103860'), ('name', 'Julius Nepos'), ('killer', 'http://www.wikidata.org/entity/Q1228819'), ('kName', 'Ovida')]\n",
      "[('emperor', 'http://www.wikidata.org/entity/Q189108'), ('name', 'Gratian'), ('killer', 'http://www.wikidata.org/entity/Q2846204'), ('kName', 'Andragathius')]\n",
      "[('emperor', 'http://www.wikidata.org/entity/Q1434'), ('name', 'Commodus'), ('killer', 'http://www.wikidata.org/entity/Q980693'), ('kName', 'Narcissus')]\n",
      "[('emperor', 'http://www.wikidata.org/entity/Q183089'), ('name', 'Geta'), ('killer', 'http://www.wikidata.org/entity/Q1446'), ('kName', 'Caracalla')]\n",
      "[('emperor', 'http://www.wikidata.org/entity/Q1411'), ('name', 'Claudius')]\n",
      "[('emperor', 'http://www.wikidata.org/entity/Q1423'), ('name', 'Domitian')]\n",
      "[('emperor', 'http://www.wikidata.org/entity/Q185538'), ('name', 'Constans')]\n",
      "[('emperor', 'http://www.wikidata.org/entity/Q46734'), ('name', 'Constantine II')]\n",
      "[('emperor', 'http://www.wikidata.org/entity/Q437604'), ('name', 'Julius Saturninus')]\n",
      "[('emperor', 'http://www.wikidata.org/entity/Q203198'), ('name', 'Avitus')]\n",
      "[('emperor', 'http://www.wikidata.org/entity/Q1830'), ('name', 'Decius')]\n",
      "[('emperor', 'http://www.wikidata.org/entity/Q104475'), ('name', 'Gallienus')]\n",
      "[('emperor', 'http://www.wikidata.org/entity/Q170026'), ('name', 'Valentinian III')]\n",
      "[('emperor', 'http://www.wikidata.org/entity/Q191940'), ('name', 'Petronius Maximus')]\n",
      "[('emperor', 'http://www.wikidata.org/entity/Q182070'), ('name', 'Maxentius')]\n",
      "[('emperor', 'http://www.wikidata.org/entity/Q33941'), ('name', 'Julian')]\n",
      "[('emperor', 'http://www.wikidata.org/entity/Q1440'), ('name', 'Didius Julianus')]\n",
      "[('emperor', 'http://www.wikidata.org/entity/Q1446'), ('name', 'Caracalla')]\n",
      "[('emperor', 'http://www.wikidata.org/entity/Q1409'), ('name', 'Caligula')]\n",
      "[('emperor', 'http://www.wikidata.org/entity/Q191956'), ('name', 'Majorian')]\n",
      "[('emperor', 'http://www.wikidata.org/entity/Q1762'), ('name', 'Elagabalus')]\n",
      "[('emperor', 'http://www.wikidata.org/entity/Q1414'), ('name', 'Galba')]\n",
      "[('emperor', 'http://www.wikidata.org/entity/Q731546'), ('name', 'Bassianus')]\n",
      "[('emperor', 'http://www.wikidata.org/entity/Q1777'), ('name', 'Maximinus Thrax')]\n",
      "[('emperor', 'http://www.wikidata.org/entity/Q518890'), ('name', 'Gaius Julius Verus Maximus')]\n",
      "[('emperor', 'http://www.wikidata.org/entity/Q1769'), ('name', 'Alexander Severus')]\n",
      "[('emperor', 'http://www.wikidata.org/entity/Q181764'), ('name', 'Maurice')]\n",
      "[('emperor', 'http://www.wikidata.org/entity/Q1417'), ('name', 'Vitellius')]\n",
      "[('emperor', 'http://www.wikidata.org/entity/Q46780'), ('name', 'Aurelian')]\n",
      "[('emperor', 'http://www.wikidata.org/entity/Q177980'), ('name', 'Aemilianus')]\n",
      "[('emperor', 'http://www.wikidata.org/entity/Q1797'), ('name', 'Pupienus')]\n",
      "[('emperor', 'http://www.wikidata.org/entity/Q46837'), ('name', 'Hostilian')]\n",
      "[('emperor', 'http://www.wikidata.org/entity/Q207121'), ('name', 'Libius Severus')]\n",
      "[('emperor', 'http://www.wikidata.org/entity/Q317232'), ('name', 'Carausius')]\n",
      "[('emperor', 'http://www.wikidata.org/entity/Q187068'), ('name', 'Marcus Aurelius Probus')]\n",
      "[('emperor', 'http://www.wikidata.org/entity/Q273253'), ('name', 'Herennius Etruscus')]\n",
      "[('emperor', 'http://www.wikidata.org/entity/Q1436'), ('name', 'Pertinax')]\n",
      "[('emperor', 'http://www.wikidata.org/entity/Q190097'), ('name', 'Carinus')]\n",
      "[('emperor', 'http://www.wikidata.org/entity/Q1817'), ('name', 'Philip the Arab')]\n",
      "[('emperor', 'http://www.wikidata.org/entity/Q297494'), ('name', 'Saloninus')]\n",
      "[('emperor', 'http://www.wikidata.org/entity/Q255453'), ('name', 'Marcus')]\n",
      "[('emperor', 'http://www.wikidata.org/entity/Q1805'), ('name', 'Balbinus')]\n",
      "[('emperor', 'http://www.wikidata.org/entity/Q211772'), ('name', 'Anthemius')]\n",
      "[('emperor', 'http://www.wikidata.org/entity/Q171023'), ('name', 'Trebonianus Gallus')]\n",
      "[('emperor', 'http://www.wikidata.org/entity/Q202222'), ('name', 'Volusianus')]\n",
      "[('emperor', 'http://www.wikidata.org/entity/Q310442'), ('name', 'Marcus Aurelius Marius')]\n",
      "[('emperor', 'http://www.wikidata.org/entity/Q1803'), ('name', 'Gordian II')]\n",
      "[('emperor', 'http://www.wikidata.org/entity/Q1752'), ('name', 'Macrinus')]\n",
      "[('emperor', 'http://www.wikidata.org/entity/Q312910'), ('name', 'Aureolus')]\n",
      "[('emperor', 'http://www.wikidata.org/entity/Q199946'), ('name', 'Florianus')]\n",
      "[('emperor', 'http://www.wikidata.org/entity/Q885870'), ('name', 'Victorinus Junior')]\n",
      "[('emperor', 'http://www.wikidata.org/entity/Q333799'), ('name', 'Regalianus')]\n",
      "[('emperor', 'http://www.wikidata.org/entity/Q887042'), ('name', 'Septimius')]\n",
      "[('emperor', 'http://www.wikidata.org/entity/Q176536'), ('name', 'Jotapianus')]\n",
      "[('emperor', 'http://www.wikidata.org/entity/Q255143'), ('name', 'Gratian')]\n",
      "[('emperor', 'http://www.wikidata.org/entity/Q311274'), ('name', 'Valerius Valens')]\n",
      "56\n"
     ]
    }
   ],
   "source": [
    "# return the emperors killed by homicide and using optional return also the killer, if it exists\n",
    "queryString = \"\"\"\n",
    "SELECT DISTINCT ?emperor ?name ?killer ?kName\n",
    "WHERE { \n",
    "    ?emperor wdt:P39 wd:Q842606;\n",
    "            wdt:P1196 wd:Q149086.\n",
    "    OPTIONAL{\n",
    "        ?emperor wdt:P157 ?killer.\n",
    "        ?killer sc:name ?kName.\n",
    "    }\n",
    "    \n",
    "    ?emperor sc:name ?name.\n",
    "}\n",
    "\"\"\"\n",
    "\n",
    "print(\"Results\")\n",
    "x=run_query(queryString)"
   ]
  },
  {
   "cell_type": "code",
   "execution_count": 21,
   "id": "0cd4632f",
   "metadata": {},
   "outputs": [
    {
     "name": "stdout",
     "output_type": "stream",
     "text": [
      "The index of this workflow is: 1_5\n",
      "The path is /locale/data/jupyter/prando/notebook/2022/results/workflow1_5.json\n",
      "JSON object updated\n"
     ]
    }
   ],
   "source": [
    "# add the elements to the JSON gt\n",
    "objs = []\n",
    "for i in x:\n",
    "    f_uri = i[0][1]\n",
    "    f_name = i[1][1]\n",
    "    obj = {}\n",
    "    obj[\"refers_to\"] = f_uri\n",
    "    obj[\"refers_to_name\"] = f_name\n",
    "    if len(i) == 2:\n",
    "        # the killer is not known\n",
    "        c_uri = None\n",
    "        c_name = None\n",
    "    else:\n",
    "        c_uri = i[2][1]\n",
    "        c_name = i[3][1]\n",
    "    obj[\"check\"] = [\"uri\",\"name\"]\n",
    "    obj[\"uri\"]= c_uri\n",
    "    obj[\"name\"]= c_name\n",
    "    objs.append(obj)\n",
    "\n",
    "evaluation.add_result(evaluation.get_index_workflow(pt),\"4\", evaluation.TYPE_REFERRED ,[\"uri\",\"name\"], objs)"
   ]
  },
  {
   "cell_type": "markdown",
   "id": "c2390c90-2ea8-4661-8caa-86388cff7f69",
   "metadata": {
    "tags": []
   },
   "source": [
    "## Task 5"
   ]
  },
  {
   "cell_type": "code",
   "execution_count": 23,
   "id": "11014ef3-dbc4-474f-b31d-6bdd3ffa3167",
   "metadata": {},
   "outputs": [
    {
     "name": "stdout",
     "output_type": "stream",
     "text": [
      "Results\n",
      "[('killer', 'http://www.wikidata.org/entity/Q8413'), ('kName', 'Constantine the Great')]\n",
      "[('killer', 'http://www.wikidata.org/entity/Q1446'), ('kName', 'Caracalla')]\n",
      "2\n"
     ]
    }
   ],
   "source": [
    "# find roman emperors killed by another roman emperor\n",
    "queryString = \"\"\"\n",
    "SELECT DISTINCT ?killer ?kName\n",
    "WHERE { \n",
    "    ?emperor wdt:P39 wd:Q842606.\n",
    "    ?emperor wdt:P157 ?killer.\n",
    "    ?killer wdt:P39 wd:Q842606.\n",
    "    ?killer sc:name ?kName.\n",
    "}\n",
    "\"\"\"\n",
    "\n",
    "print(\"Results\")\n",
    "x=run_query(queryString)"
   ]
  },
  {
   "cell_type": "code",
   "execution_count": 24,
   "id": "785ee697",
   "metadata": {},
   "outputs": [
    {
     "name": "stdout",
     "output_type": "stream",
     "text": [
      "The index of this workflow is: 1_5\n",
      "The path is /locale/data/jupyter/prando/notebook/2022/results/workflow1_5.json\n",
      "JSON object updated\n"
     ]
    }
   ],
   "source": [
    "obj = [{\"uri\":r[0][1],\"name\":r[1][1]} for r in x]\n",
    "evaluation.add_result(evaluation.get_index_workflow(pt),\"5\", evaluation.TYPE_SET ,\"uri\", obj)"
   ]
  },
  {
   "cell_type": "markdown",
   "id": "4db5f104-507f-48ba-a577-d918d8ee4a5c",
   "metadata": {
    "jp-MarkdownHeadingCollapsed": true,
    "tags": []
   },
   "source": [
    "## Task 6"
   ]
  },
  {
   "cell_type": "code",
   "execution_count": 25,
   "id": "fc9c90f6-d9a1-4dfe-b967-712ddd5f1aec",
   "metadata": {},
   "outputs": [
    {
     "name": "stdout",
     "output_type": "stream",
     "text": [
      "Results\n",
      "[('obj', 'http://www.wikidata.org/entity/Q202161'), ('name', 'Gallic War')]\n",
      "[('obj', 'http://www.wikidata.org/entity/Q1238338'), ('name', \"Caesar's Civil War\")]\n",
      "2\n"
     ]
    }
   ],
   "source": [
    "# from the first query, use the predicate conflict P607\n",
    "queryString = \"\"\"\n",
    "SELECT DISTINCT ?obj ?name\n",
    "WHERE {\n",
    "    wd:Q1048 wdt:P607 ?obj.\n",
    "    ?obj sc:name ?name\n",
    "}\n",
    "\"\"\"\n",
    "\n",
    "print(\"Results\")\n",
    "x=run_query(queryString)"
   ]
  },
  {
   "cell_type": "code",
   "execution_count": 26,
   "id": "5f3c851d-2621-4209-b21f-b347cc7ac9d8",
   "metadata": {},
   "outputs": [
    {
     "name": "stdout",
     "output_type": "stream",
     "text": [
      "Results\n",
      "[('inst', 'http://www.wikidata.org/entity/Q198'), ('name', 'war')]\n",
      "[('inst', 'http://www.wikidata.org/entity/Q8465'), ('name', 'civil war')]\n",
      "2\n"
     ]
    }
   ],
   "source": [
    "# look at the instance of\n",
    "queryString = \"\"\"\n",
    "SELECT DISTINCT ?inst ?name\n",
    "WHERE {\n",
    "    wd:Q1048 wdt:P607 ?obj.\n",
    "    ?obj wdt:P31 ?inst.\n",
    "    ?inst sc:name ?name\n",
    "}\n",
    "\"\"\"\n",
    "\n",
    "print(\"Results\")\n",
    "x=run_query(queryString)"
   ]
  },
  {
   "cell_type": "code",
   "execution_count": 27,
   "id": "8f4ce1a4",
   "metadata": {},
   "outputs": [
    {
     "name": "stdout",
     "output_type": "stream",
     "text": [
      "The index of this workflow is: 1_5\n",
      "The path is /locale/data/jupyter/prando/notebook/2022/results/workflow1_5.json\n",
      "JSON object updated\n"
     ]
    }
   ],
   "source": [
    "### insert the result of TASK 6 in the file\n",
    "og_uri = \"http://www.wikidata.org/entity/Q198\"\n",
    "og_name = \"war\"\n",
    "obj = {\"uri\":og_uri,\"name\":og_name}\n",
    "evaluation.add_result(evaluation.get_index_workflow(pt),\"6\", evaluation.TYPE_SINGLE ,\"uri\", [obj] ,\"all\")"
   ]
  },
  {
   "cell_type": "markdown",
   "id": "f22ef37f-a2a8-480b-9aea-1ca5c9a1c7ca",
   "metadata": {},
   "source": [
    "`wd:Q198` -> war"
   ]
  },
  {
   "cell_type": "markdown",
   "id": "5bc107ce-746c-4b72-ac54-c4875bb63381",
   "metadata": {
    "jp-MarkdownHeadingCollapsed": true,
    "tags": []
   },
   "source": [
    "## Task 7"
   ]
  },
  {
   "cell_type": "code",
   "execution_count": 57,
   "id": "b5d516ad-8666-4cec-b386-38b5df3395e6",
   "metadata": {},
   "outputs": [
    {
     "name": "stdout",
     "output_type": "stream",
     "text": [
      "Results\n",
      "[('obj', 'http://www.wikidata.org/entity/Q6254'), ('name', 'Kitos War')]\n",
      "[('obj', 'http://www.wikidata.org/entity/Q500409'), ('name', 'Roman–Persian Wars')]\n",
      "[('obj', 'http://www.wikidata.org/entity/Q202578'), ('name', 'First Jewish-Roman War')]\n",
      "[('obj', 'http://www.wikidata.org/entity/Q1533828'), ('name', 'Roman–Parthian War of 58–63')]\n",
      "[('obj', 'http://www.wikidata.org/entity/Q3651751'), ('name', \"Trajan's Parthian campaign\")]\n",
      "[('obj', 'http://www.wikidata.org/entity/Q933963'), ('name', 'Marcomannic Wars')]\n",
      "[('obj', 'http://www.wikidata.org/entity/Q3651748'), ('name', 'Parthian war of Caracalla')]\n",
      "[('obj', 'http://www.wikidata.org/entity/Q1790268'), ('name', 'Roman–Parthian War of 161–166')]\n",
      "[('obj', 'http://www.wikidata.org/entity/Q84850006'), ('name', 'Roman–Parthian War of 195–198')]\n",
      "9\n"
     ]
    }
   ],
   "source": [
    "# find the wars\n",
    "queryString = \"\"\"\n",
    "SELECT DISTINCT ?obj ?name \n",
    "WHERE {\n",
    "    ?obj wdt:P710 wd:Q2277 .\n",
    "    ?obj wdt:P31 wd:Q198.\n",
    "    ?obj sc:name ?name.\n",
    "}\n",
    "\"\"\"\n",
    "\n",
    "print(\"Results\")\n",
    "x=run_query(queryString)"
   ]
  },
  {
   "cell_type": "markdown",
   "id": "3dcd0be4-8b81-4f22-b153-50eda39ae143",
   "metadata": {
    "tags": []
   },
   "source": [
    "## Task 8"
   ]
  },
  {
   "cell_type": "code",
   "execution_count": 58,
   "id": "1e878b4a-4822-4363-a20d-b178488e8c52",
   "metadata": {},
   "outputs": [
    {
     "name": "stdout",
     "output_type": "stream",
     "text": [
      "Results\n",
      "[('prop', 'http://www.wikidata.org/prop/direct/P1296'), ('name', 'Gran Enciclopèdia Catalana ID')]\n",
      "[('prop', 'http://www.wikidata.org/prop/direct/P131'), ('name', 'located in the administrative territorial entity')]\n",
      "[('prop', 'http://www.wikidata.org/prop/direct/P1343'), ('name', 'described by source')]\n",
      "[('prop', 'http://www.wikidata.org/prop/direct/P1417'), ('name', 'Encyclopædia Britannica Online ID')]\n",
      "[('prop', 'http://www.wikidata.org/prop/direct/P1438'), ('name', 'Jewish Encyclopedia ID (Russian)')]\n",
      "[('prop', 'http://www.wikidata.org/prop/direct/P1542'), ('name', 'has effect')]\n",
      "[('prop', 'http://www.wikidata.org/prop/direct/P17'), ('name', 'country')]\n",
      "[('prop', 'http://www.wikidata.org/prop/direct/P18'), ('name', 'image')]\n",
      "[('prop', 'http://www.wikidata.org/prop/direct/P1889'), ('name', 'different from')]\n",
      "[('prop', 'http://www.wikidata.org/prop/direct/P1936'), ('name', 'Digital Atlas of the Roman Empire ID')]\n",
      "[('prop', 'http://www.wikidata.org/prop/direct/P2163'), ('name', 'FAST ID')]\n",
      "[('prop', 'http://www.wikidata.org/prop/direct/P227'), ('name', 'GND ID')]\n",
      "[('prop', 'http://www.wikidata.org/prop/direct/P2348'), ('name', 'time period')]\n",
      "[('prop', 'http://www.wikidata.org/prop/direct/P242'), ('name', 'locator map image')]\n",
      "[('prop', 'http://www.wikidata.org/prop/direct/P244'), ('name', 'Library of Congress authority ID')]\n",
      "[('prop', 'http://www.wikidata.org/prop/direct/P2581'), ('name', 'BabelNet ID')]\n",
      "[('prop', 'http://www.wikidata.org/prop/direct/P2671'), ('name', 'Google Knowledge Graph ID')]\n",
      "[('prop', 'http://www.wikidata.org/prop/direct/P268'), ('name', 'Bibliothèque nationale de France ID')]\n",
      "[('prop', 'http://www.wikidata.org/prop/direct/P269'), ('name', 'IdRef ID')]\n",
      "[('prop', 'http://www.wikidata.org/prop/direct/P276'), ('name', 'location')]\n",
      "[('prop', 'http://www.wikidata.org/prop/direct/P2924'), ('name', 'Great Russian Encyclopedia Online ID')]\n",
      "[('prop', 'http://www.wikidata.org/prop/direct/P31'), ('name', 'instance of')]\n",
      "[('prop', 'http://www.wikidata.org/prop/direct/P3219'), ('name', 'Encyclopædia Universalis ID')]\n",
      "[('prop', 'http://www.wikidata.org/prop/direct/P3417'), ('name', 'Quora topic ID')]\n",
      "[('prop', 'http://www.wikidata.org/prop/direct/P349'), ('name', 'National Diet Library ID')]\n",
      "[('prop', 'http://www.wikidata.org/prop/direct/P3569'), ('name', 'Cultureel Woordenboek ID')]\n",
      "[('prop', 'http://www.wikidata.org/prop/direct/P361'), ('name', 'part of')]\n",
      "[('prop', 'http://www.wikidata.org/prop/direct/P373'), ('name', 'Commons category')]\n",
      "[('prop', 'http://www.wikidata.org/prop/direct/P3847'), ('name', 'Open Library subject ID')]\n",
      "[('prop', 'http://www.wikidata.org/prop/direct/P4212'), ('name', 'PACTOLS thesaurus ID')]\n",
      "[('prop', 'http://www.wikidata.org/prop/direct/P443'), ('name', 'pronunciation audio')]\n",
      "[('prop', 'http://www.wikidata.org/prop/direct/P5063'), ('name', 'Interlingual Index ID')]\n",
      "[('prop', 'http://www.wikidata.org/prop/direct/P508'), ('name', 'BNCF Thesaurus ID')]\n",
      "[('prop', 'http://www.wikidata.org/prop/direct/P527'), ('name', 'has part')]\n",
      "[('prop', 'http://www.wikidata.org/prop/direct/P580'), ('name', 'start time')]\n",
      "[('prop', 'http://www.wikidata.org/prop/direct/P582'), ('name', 'end time')]\n",
      "[('prop', 'http://www.wikidata.org/prop/direct/P585'), ('name', 'point in time')]\n",
      "[('prop', 'http://www.wikidata.org/prop/direct/P5986'), ('name', 'Getty Iconography Authority ID')]\n",
      "[('prop', 'http://www.wikidata.org/prop/direct/P646'), ('name', 'Freebase ID')]\n",
      "[('prop', 'http://www.wikidata.org/prop/direct/P6573'), ('name', 'Klexikon article ID')]\n",
      "[('prop', 'http://www.wikidata.org/prop/direct/P691'), ('name', 'NKCR AUT ID')]\n",
      "[('prop', 'http://www.wikidata.org/prop/direct/P710'), ('name', 'participant')]\n",
      "[('prop', 'http://www.wikidata.org/prop/direct/P7818'), ('name', 'French Vikidia ID')]\n",
      "[('prop', 'http://www.wikidata.org/prop/direct/P8068'), ('name', 'ToposText place ID')]\n",
      "[('prop', 'http://www.wikidata.org/prop/direct/P828'), ('name', 'has cause')]\n",
      "[('prop', 'http://www.wikidata.org/prop/direct/P8408'), ('name', 'KBpedia ID')]\n",
      "[('prop', 'http://www.wikidata.org/prop/direct/P9000'), ('name', 'World History Encyclopedia ID')]\n",
      "[('prop', 'http://www.wikidata.org/prop/direct/P910'), ('name', \"topic's main category\")]\n",
      "[('prop', 'http://www.wikidata.org/prop/direct/P935'), ('name', 'Commons gallery')]\n",
      "[('prop', 'http://www.wikidata.org/prop/direct/P950'), ('name', 'Biblioteca Nacional de España ID')]\n",
      "50\n"
     ]
    }
   ],
   "source": [
    "# look at the properties of these war\n",
    "queryString = \"\"\"\n",
    "SELECT DISTINCT ?prop ?name\n",
    "WHERE {\n",
    "    ?obj wdt:P710 wd:Q2277 .\n",
    "    ?obj ?prop ?x.\n",
    "    ?prop sc:name ?name\n",
    "}\n",
    "\"\"\"\n",
    "\n",
    "print(\"Results\")\n",
    "x=run_query(queryString)"
   ]
  },
  {
   "cell_type": "code",
   "execution_count": 2,
   "id": "680cf5f4-fa91-4553-839b-333f8fe90bc7",
   "metadata": {},
   "outputs": [
    {
     "name": "stdout",
     "output_type": "stream",
     "text": [
      "Results\n",
      "[('obj', 'http://www.wikidata.org/entity/Q500409'), ('name', 'Roman–Persian Wars'), ('c', '2')]\n",
      "1\n"
     ]
    }
   ],
   "source": [
    "# look at the properties of these war\n",
    "queryString = \"\"\"\n",
    "SELECT ?obj ?name COUNT(*) AS ?c\n",
    "WHERE {\n",
    "    ?obj wdt:P710 wd:Q2277 .\n",
    "    ?obj wdt:P31 wd:Q198.\n",
    "    ?obj wdt:P527 ?x.\n",
    "    ?obj sc:name ?name.\n",
    "}\n",
    "GROUP BY ?obj ?name\n",
    "\"\"\"\n",
    "\n",
    "print(\"Results\")\n",
    "x=run_query(queryString)"
   ]
  },
  {
   "cell_type": "code",
   "execution_count": null,
   "id": "658d5877-45dc-4eba-8c22-0936d7883e88",
   "metadata": {},
   "outputs": [],
   "source": []
  }
 ],
 "metadata": {
  "kernelspec": {
   "display_name": "Python 3 (ipykernel)",
   "language": "python",
   "name": "python3"
  },
  "language_info": {
   "codemirror_mode": {
    "name": "ipython",
    "version": 3
   },
   "file_extension": ".py",
   "mimetype": "text/x-python",
   "name": "python",
   "nbconvert_exporter": "python",
   "pygments_lexer": "ipython3",
   "version": "3.10.6"
  }
 },
 "nbformat": 4,
 "nbformat_minor": 5
}
