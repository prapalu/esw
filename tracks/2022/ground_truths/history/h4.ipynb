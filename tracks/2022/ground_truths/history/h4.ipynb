{
 "cells": [
  {
   "cell_type": "markdown",
   "id": "7034c3bf-6eb0-4418-8687-7b9d2a501103",
   "metadata": {},
   "source": [
    "# General instructions\n",
    "\n",
    "The goal of the project is to materialize a set of **exploratory workloads** over a real-world, large-scale,  open-domain KG: [WikiData](https://www.wikidata.org/wiki/Wikidata:Main_Page)\n",
    "\n",
    "An exploratory workload  is composed by a set of queries, where each query is related to the information obtained previously.\n",
    "\n",
    "An exploratory workload starts with a usually vague, open ended question, and does not assume the person issuing the workload has a clear understanding of the data contained in the target database or its structure.\n",
    "\n",
    "Remeber that:\n",
    "\n",
    "1. All the queries must run in the python notebook\n",
    "2. You can use classes and properties only if you find them via a SPARQL query that must be present in the notebook\n",
    "3. You do not delete useless queries. Keep everything that is synthatically valid \n",
    "\n",
    "```\n",
    "?p <http://schema.org/name> ?name .\n",
    "```\n",
    "    \n",
    "    is the BGP returning a human-readable name of a property or a class in Wikidata."
   ]
  },
  {
   "cell_type": "code",
   "execution_count": 1,
   "id": "3605c9d5-5371-49a5-be8d-d66e8f417139",
   "metadata": {},
   "outputs": [],
   "source": [
    "## SETUP used later\n",
    "import sys\n",
    "import os\n",
    "import json\n",
    "import pandas as pd\n",
    "sys.path.insert(1, '../../../../src/')\n",
    "import gt_modules.evaluation as evaluation\n",
    "from SPARQLWrapper import SPARQLWrapper, JSON\n",
    "\n",
    "\n",
    "prefixString = \"\"\"\n",
    "##-history4-##\n",
    "PREFIX wd: <http://www.wikidata.org/entity/> \n",
    "PREFIX wdt: <http://www.wikidata.org/prop/direct/> \n",
    "PREFIX sc: <http://schema.org/>\n",
    "\"\"\"\n",
    "\n",
    "# select and construct queries\n",
    "def run_query(queryString,verbose = True):\n",
    "    to_run = prefixString + \"\\n\" + queryString\n",
    "\n",
    "    sparql = SPARQLWrapper(\"http://gracevirtuoso.dei.unipd.it/sparql\")\n",
    "    sparql.setTimeout(300)\n",
    "    sparql.setReturnFormat(JSON)\n",
    "    sparql.setQuery(to_run)\n",
    "\n",
    "    try :\n",
    "        results = sparql.query()\n",
    "        json_results = results.convert()\n",
    "        if len(json_results['results']['bindings'])==0:\n",
    "            print(\"Empty\")\n",
    "            return []\n",
    "        array = []\n",
    "        for bindings in json_results['results']['bindings']:\n",
    "            app =  [ (var, value['value'])  for var, value in bindings.items() ] \n",
    "            if verbose:\n",
    "                print( app)\n",
    "            array.append(app)\n",
    "        if verbose:\n",
    "            print(len(array))\n",
    "        return array\n",
    "\n",
    "    except Exception as e :\n",
    "        print(\"The operation failed\", e)\n",
    "    \n",
    "# ASk queries\n",
    "def run_ask_query(queryString):\n",
    "    to_run = prefixString + \"\\n\" + queryString\n",
    "\n",
    "    sparql = SPARQLWrapper(\"http://gracevirtuoso.dei.unipd.it/sparql\")\n",
    "    sparql.setTimeout(300)\n",
    "    sparql.setReturnFormat(JSON)\n",
    "    sparql.setQuery(to_run)\n",
    "\n",
    "    try :\n",
    "        return sparql.query().convert()\n",
    "\n",
    "    except Exception as e :\n",
    "        print(\"The operation failed\", e)"
   ]
  },
  {
   "cell_type": "markdown",
   "id": "d477a59c-a68c-4c8f-9f97-8ca5294d7d27",
   "metadata": {},
   "source": [
    "# History Workflow Series (\"Ancient Civilization explorative search\") \n",
    "\n",
    "Consider the following exploratory information need:\n",
    "\n",
    "> Investigate the Ancient Egypt and the related archeological explorations and findings."
   ]
  },
  {
   "cell_type": "markdown",
   "id": "4a45c0ba-f79e-441d-bec5-84401b09db70",
   "metadata": {},
   "source": [
    "## Useful URIs for the current workflow\n",
    "The following are given:\n",
    "\n",
    "| IRI           | Description   | Role      |\n",
    "| -----------   | -----------   |-----------|\n",
    "| `wdt:P1647`   | subproperty   | predicate |\n",
    "| `wdt:P31`     | instance of   | predicate |\n",
    "| `wdt:P106`    | occupation    | predicate | \n",
    "| `wdt:P279`    | subclass      | predicate |\n",
    "| `wdt:P27`     | nationality   | predicate |\n",
    "| `wd:Q5`| Human       | node |\n",
    "| `wd:Q13444093`| Meidum Pyramid    | node |\n",
    "| `wd:Q41127`| Poseidon   | node |\n"
   ]
  },
  {
   "cell_type": "markdown",
   "id": "7af439fb-96e4-4dbb-a381-f19afab79f86",
   "metadata": {
    "tags": []
   },
   "source": [
    "\n",
    "\n",
    "\n",
    "Also consider\n",
    "\n",
    "```\n",
    "wd:Q13444093 ?p ?obj .\n",
    "```\n",
    "\n",
    "is the BGP to retrieve all **properties of Meidum Pyramid**\n",
    "\n",
    "Please consider that when you return a resource, you should return the IRI and the label of the resource. In particular, when the task require you to identify a BGP the result set must always be a list of couples IRI - label.\n",
    "\n",
    "\n",
    "\n",
    "The workload should:\n",
    "\n",
    "\n",
    "1. Identify the BGP for Ancient Egypt\n",
    "\n",
    "2. Find the Ancient Egypt pharaohs born between 1500 BCE and 1000 BCE who had more than 8 child (the result set must be a list of triples pharaoh IRI,label and #children).\n",
    "\n",
    "3. Find all the ancient civilizations. Return the IRI and name of the civilization and also their duration (in number of years) if it is available.\n",
    "\n",
    "4. Identify the BGP for archeologist.\n",
    "\n",
    "5. For each ancient civilization find the number of archeologists who worked on it (return also the civilizations with no archeologists) (the result set must be triples of civilization IRI, label and #archeologist).\n",
    "\n",
    "6. Find the BGP for deity.\n",
    "\n",
    "7. List all the twelve olympian greek deities (the result set must a list of 12 elements of couples of deity IRI and label).\n",
    "\n",
    "8. Compare ancient Greece with ancient Egypt and find how many deities each one has.\n"
   ]
  },
  {
   "cell_type": "code",
   "execution_count": 2,
   "id": "c7c86f94",
   "metadata": {},
   "outputs": [
    {
     "name": "stdout",
     "output_type": "stream",
     "text": [
      "The index of this workflow is: 1_4\n"
     ]
    }
   ],
   "source": [
    "## startup the evaluation\n",
    "# setup the file and create the empty json\n",
    "ipname = \"h4.ipynb\"\n",
    "pt = os.getcwd()+os.sep+ipname\n",
    "evaluation.setup(pt)"
   ]
  },
  {
   "cell_type": "markdown",
   "id": "130c4e78-ec70-48c2-aba0-5bb0d0f63286",
   "metadata": {
    "jp-MarkdownHeadingCollapsed": true,
    "tags": []
   },
   "source": [
    "## Task 1"
   ]
  },
  {
   "cell_type": "code",
   "execution_count": 3,
   "id": "ade01416-92e7-4ad7-b9a9-b8fb330750dc",
   "metadata": {
    "tags": []
   },
   "outputs": [
    {
     "name": "stdout",
     "output_type": "stream",
     "text": [
      "Results\n",
      "[('prop', 'http://www.wikidata.org/prop/direct/P131'), ('name', 'located in the administrative territorial entity')]\n",
      "[('prop', 'http://www.wikidata.org/prop/direct/P138'), ('name', 'named after')]\n",
      "[('prop', 'http://www.wikidata.org/prop/direct/P1481'), ('name', 'vici.org ID')]\n",
      "[('prop', 'http://www.wikidata.org/prop/direct/P1566'), ('name', 'GeoNames ID')]\n",
      "[('prop', 'http://www.wikidata.org/prop/direct/P17'), ('name', 'country')]\n",
      "[('prop', 'http://www.wikidata.org/prop/direct/P18'), ('name', 'image')]\n",
      "[('prop', 'http://www.wikidata.org/prop/direct/P186'), ('name', 'made from material')]\n",
      "[('prop', 'http://www.wikidata.org/prop/direct/P2044'), ('name', 'elevation above sea level')]\n",
      "[('prop', 'http://www.wikidata.org/prop/direct/P2048'), ('name', 'height')]\n",
      "[('prop', 'http://www.wikidata.org/prop/direct/P214'), ('name', 'VIAF ID')]\n",
      "[('prop', 'http://www.wikidata.org/prop/direct/P227'), ('name', 'GND ID')]\n",
      "[('prop', 'http://www.wikidata.org/prop/direct/P2326'), ('name', 'GNS Unique Feature ID')]\n",
      "[('prop', 'http://www.wikidata.org/prop/direct/P2671'), ('name', 'Google Knowledge Graph ID')]\n",
      "[('prop', 'http://www.wikidata.org/prop/direct/P276'), ('name', 'location')]\n",
      "[('prop', 'http://www.wikidata.org/prop/direct/P2924'), ('name', 'Great Russian Encyclopedia Online ID')]\n",
      "[('prop', 'http://www.wikidata.org/prop/direct/P31'), ('name', 'instance of')]\n",
      "[('prop', 'http://www.wikidata.org/prop/direct/P366'), ('name', 'use')]\n",
      "[('prop', 'http://www.wikidata.org/prop/direct/P373'), ('name', 'Commons category')]\n",
      "[('prop', 'http://www.wikidata.org/prop/direct/P5008'), ('name', 'on focus list of Wikimedia project')]\n",
      "[('prop', 'http://www.wikidata.org/prop/direct/P571'), ('name', 'inception')]\n",
      "[('prop', 'http://www.wikidata.org/prop/direct/P7561'), ('name', 'category for the interior of the item')]\n",
      "[('prop', 'http://www.wikidata.org/prop/direct/P88'), ('name', 'commissioned by')]\n",
      "22\n"
     ]
    }
   ],
   "source": [
    "# find the properties of Meidum Pyramid\n",
    "queryString = \"\"\"\n",
    "SELECT DISTINCT ?prop ?name\n",
    "WHERE { \n",
    "    wd:Q13444093 ?prop ?obj.\n",
    "    ?prop sc:name ?name.\n",
    "} \n",
    "\"\"\"\n",
    "\n",
    "print(\"Results\")\n",
    "x=run_query(queryString)"
   ]
  },
  {
   "cell_type": "code",
   "execution_count": 4,
   "id": "ce545fc8-725e-4f7f-a29c-a23f9f9d63dd",
   "metadata": {},
   "outputs": [
    {
     "name": "stdout",
     "output_type": "stream",
     "text": [
      "Results\n",
      "[('obj', 'http://www.wikidata.org/entity/Q189371'), ('name', 'Sneferu')]\n",
      "[('obj', 'http://www.wikidata.org/entity/Q220240'), ('name', 'Huni')]\n",
      "2\n"
     ]
    }
   ],
   "source": [
    "# use the property commissioned by\n",
    "queryString = \"\"\"\n",
    "SELECT DISTINCT ?obj ?name\n",
    "WHERE { \n",
    "    wd:Q13444093 wdt:P88 ?obj.\n",
    "    ?obj sc:name ?name.\n",
    "}\n",
    "\"\"\"\n",
    "\n",
    "print(\"Results\")\n",
    "x=run_query(queryString)"
   ]
  },
  {
   "cell_type": "code",
   "execution_count": 5,
   "id": "c17c2ac9-f7fd-46b9-b216-38234c961915",
   "metadata": {},
   "outputs": [
    {
     "name": "stdout",
     "output_type": "stream",
     "text": [
      "Results\n",
      "[('prop', 'http://www.wikidata.org/prop/direct/P106'), ('name', 'occupation')]\n",
      "[('prop', 'http://www.wikidata.org/prop/direct/P119'), ('name', 'place of burial')]\n",
      "[('prop', 'http://www.wikidata.org/prop/direct/P1263'), ('name', 'NNDB people ID')]\n",
      "[('prop', 'http://www.wikidata.org/prop/direct/P1296'), ('name', 'Gran Enciclopèdia Catalana ID')]\n",
      "[('prop', 'http://www.wikidata.org/prop/direct/P1309'), ('name', 'EGAXA ID')]\n",
      "[('prop', 'http://www.wikidata.org/prop/direct/P1343'), ('name', 'described by source')]\n",
      "[('prop', 'http://www.wikidata.org/prop/direct/P1365'), ('name', 'replaces')]\n",
      "[('prop', 'http://www.wikidata.org/prop/direct/P1366'), ('name', 'replaced by')]\n",
      "[('prop', 'http://www.wikidata.org/prop/direct/P1417'), ('name', 'Encyclopædia Britannica Online ID')]\n",
      "[('prop', 'http://www.wikidata.org/prop/direct/P1711'), ('name', 'British Museum person or institution ID')]\n",
      "[('prop', 'http://www.wikidata.org/prop/direct/P18'), ('name', 'image')]\n",
      "[('prop', 'http://www.wikidata.org/prop/direct/P19'), ('name', 'place of birth')]\n",
      "[('prop', 'http://www.wikidata.org/prop/direct/P20'), ('name', 'place of death')]\n",
      "[('prop', 'http://www.wikidata.org/prop/direct/P21'), ('name', 'sex or gender')]\n",
      "[('prop', 'http://www.wikidata.org/prop/direct/P213'), ('name', 'ISNI')]\n",
      "[('prop', 'http://www.wikidata.org/prop/direct/P214'), ('name', 'VIAF ID')]\n",
      "[('prop', 'http://www.wikidata.org/prop/direct/P2163'), ('name', 'FAST ID')]\n",
      "[('prop', 'http://www.wikidata.org/prop/direct/P22'), ('name', 'father')]\n",
      "[('prop', 'http://www.wikidata.org/prop/direct/P227'), ('name', 'GND ID')]\n",
      "[('prop', 'http://www.wikidata.org/prop/direct/P2348'), ('name', 'time period')]\n",
      "[('prop', 'http://www.wikidata.org/prop/direct/P244'), ('name', 'Library of Congress authority ID')]\n",
      "[('prop', 'http://www.wikidata.org/prop/direct/P25'), ('name', 'mother')]\n",
      "[('prop', 'http://www.wikidata.org/prop/direct/P26'), ('name', 'spouse')]\n",
      "[('prop', 'http://www.wikidata.org/prop/direct/P27'), ('name', 'country of citizenship')]\n",
      "[('prop', 'http://www.wikidata.org/prop/direct/P2924'), ('name', 'Great Russian Encyclopedia Online ID')]\n",
      "[('prop', 'http://www.wikidata.org/prop/direct/P31'), ('name', 'instance of')]\n",
      "[('prop', 'http://www.wikidata.org/prop/direct/P3219'), ('name', 'Encyclopædia Universalis ID')]\n",
      "[('prop', 'http://www.wikidata.org/prop/direct/P3222'), ('name', 'NE.se ID')]\n",
      "[('prop', 'http://www.wikidata.org/prop/direct/P3373'), ('name', 'sibling')]\n",
      "[('prop', 'http://www.wikidata.org/prop/direct/P373'), ('name', 'Commons category')]\n",
      "[('prop', 'http://www.wikidata.org/prop/direct/P39'), ('name', 'position held')]\n",
      "[('prop', 'http://www.wikidata.org/prop/direct/P40'), ('name', 'child')]\n",
      "[('prop', 'http://www.wikidata.org/prop/direct/P4212'), ('name', 'PACTOLS thesaurus ID')]\n",
      "[('prop', 'http://www.wikidata.org/prop/direct/P5019'), ('name', 'Brockhaus Enzyklopädie online ID')]\n",
      "[('prop', 'http://www.wikidata.org/prop/direct/P53'), ('name', 'family')]\n",
      "[('prop', 'http://www.wikidata.org/prop/direct/P535'), ('name', 'Find A Grave memorial ID')]\n",
      "[('prop', 'http://www.wikidata.org/prop/direct/P569'), ('name', 'date of birth')]\n",
      "[('prop', 'http://www.wikidata.org/prop/direct/P570'), ('name', 'date of death')]\n",
      "[('prop', 'http://www.wikidata.org/prop/direct/P6404'), ('name', \"Treccani's Dizionario di Storia ID\")]\n",
      "[('prop', 'http://www.wikidata.org/prop/direct/P646'), ('name', 'Freebase ID')]\n",
      "[('prop', 'http://www.wikidata.org/prop/direct/P6656'), ('name', 'BHCL ID (former scheme)')]\n",
      "[('prop', 'http://www.wikidata.org/prop/direct/P7786'), ('name', 'Joconde epoch ID')]\n",
      "[('prop', 'http://www.wikidata.org/prop/direct/P7859'), ('name', 'WorldCat Identities ID')]\n",
      "[('prop', 'http://www.wikidata.org/prop/direct/P9037'), ('name', 'BHCL UUID')]\n",
      "[('prop', 'http://www.wikidata.org/prop/direct/P910'), ('name', \"topic's main category\")]\n",
      "[('prop', 'http://www.wikidata.org/prop/direct/P97'), ('name', 'noble title')]\n",
      "46\n"
     ]
    }
   ],
   "source": [
    "# find the properties of the commissioner of the Meidum Pyramid\n",
    "queryString = \"\"\"\n",
    "SELECT DISTINCT ?prop ?name\n",
    "WHERE { \n",
    "    wd:Q13444093 wdt:P88 ?obj.\n",
    "    ?obj ?prop ?x.\n",
    "    ?prop sc:name ?name.\n",
    "}\n",
    "\"\"\"\n",
    "\n",
    "print(\"Results\")\n",
    "x=run_query(queryString)"
   ]
  },
  {
   "cell_type": "code",
   "execution_count": 6,
   "id": "5aa957a0-631a-45c5-824a-597aa4b52692",
   "metadata": {},
   "outputs": [
    {
     "name": "stdout",
     "output_type": "stream",
     "text": [
      "Results\n",
      "[('x', 'http://www.wikidata.org/entity/Q37110'), ('name', 'pharaoh')]\n",
      "1\n"
     ]
    }
   ],
   "source": [
    "# look for the object of noble title\n",
    "queryString = \"\"\"\n",
    "SELECT DISTINCT ?x ?name\n",
    "WHERE { \n",
    "    wd:Q13444093 wdt:P88 ?obj.\n",
    "    ?obj wdt:P97 ?x.\n",
    "    ?x sc:name ?name.\n",
    "}\n",
    "\"\"\"\n",
    "\n",
    "print(\"Results\")\n",
    "x=run_query(queryString)"
   ]
  },
  {
   "cell_type": "code",
   "execution_count": 7,
   "id": "f2e13a99-a9d2-4635-abfc-eb2fa3dd6b8b",
   "metadata": {},
   "outputs": [
    {
     "name": "stdout",
     "output_type": "stream",
     "text": [
      "Results\n",
      "[('x', 'http://www.wikidata.org/entity/Q11768'), ('name', 'Ancient Egypt')]\n",
      "1\n"
     ]
    }
   ],
   "source": [
    "# use the nationality of the commissioners\n",
    "queryString = \"\"\"\n",
    "SELECT DISTINCT ?x ?name\n",
    "WHERE { \n",
    "    wd:Q13444093 wdt:P88 ?obj.\n",
    "    ?obj wdt:P27 ?x.\n",
    "    ?x sc:name ?name.\n",
    "}\n",
    "\"\"\"\n",
    "\n",
    "print(\"Results\")\n",
    "x=run_query(queryString)"
   ]
  },
  {
   "cell_type": "code",
   "execution_count": 8,
   "id": "91e6c8df",
   "metadata": {},
   "outputs": [
    {
     "name": "stdout",
     "output_type": "stream",
     "text": [
      "The index of this workflow is: 1_4\n",
      "The path is /locale/data/jupyter/prando/notebook/2022/results/workflow1_4.json\n",
      "JSON object updated\n"
     ]
    }
   ],
   "source": [
    "### insert the result of TASK 1 in the file\n",
    "og_uri = \"http://www.wikidata.org/entity/Q11768\"\n",
    "og_name = \"Ancient Egypt\"\n",
    "obj = {\"uri\":og_uri,\"name\":og_name}\n",
    "evaluation.add_result(evaluation.get_index_workflow(pt),\"1\", evaluation.TYPE_SINGLE ,\"uri\", [obj] ,\"all\")"
   ]
  },
  {
   "cell_type": "markdown",
   "id": "e1df13e2-d7cb-417e-b171-95a9206f5380",
   "metadata": {},
   "source": [
    "`wd:Q11768` -> Ancient Egypt"
   ]
  },
  {
   "cell_type": "markdown",
   "id": "ef2ed3c7-1a8a-4ec9-937e-4f8701021e2b",
   "metadata": {
    "jp-MarkdownHeadingCollapsed": true,
    "tags": []
   },
   "source": [
    "## Task 2"
   ]
  },
  {
   "cell_type": "code",
   "execution_count": 10,
   "id": "ea089d1f-7b9d-4cb2-a2e9-d9babf258e41",
   "metadata": {},
   "outputs": [
    {
     "name": "stdout",
     "output_type": "stream",
     "text": [
      "Results\n",
      "[('prop', 'http://www.wikidata.org/prop/direct/P106'), ('name', 'occupation')]\n",
      "[('prop', 'http://www.wikidata.org/prop/direct/P1269'), ('name', 'facet of')]\n",
      "[('prop', 'http://www.wikidata.org/prop/direct/P138'), ('name', 'named after')]\n",
      "[('prop', 'http://www.wikidata.org/prop/direct/P156'), ('name', 'followed by')]\n",
      "[('prop', 'http://www.wikidata.org/prop/direct/P180'), ('name', 'depicts')]\n",
      "[('prop', 'http://www.wikidata.org/prop/direct/P1889'), ('name', 'different from')]\n",
      "[('prop', 'http://www.wikidata.org/prop/direct/P279'), ('name', 'subclass of')]\n",
      "[('prop', 'http://www.wikidata.org/prop/direct/P2868'), ('name', 'subject has role')]\n",
      "[('prop', 'http://www.wikidata.org/prop/direct/P301'), ('name', \"category's main topic\")]\n",
      "[('prop', 'http://www.wikidata.org/prop/direct/P360'), ('name', 'is a list of')]\n",
      "[('prop', 'http://www.wikidata.org/prop/direct/P39'), ('name', 'position held')]\n",
      "[('prop', 'http://www.wikidata.org/prop/direct/P460'), ('name', 'said to be the same as')]\n",
      "[('prop', 'http://www.wikidata.org/prop/direct/P710'), ('name', 'participant')]\n",
      "[('prop', 'http://www.wikidata.org/prop/direct/P921'), ('name', 'main subject')]\n",
      "[('prop', 'http://www.wikidata.org/prop/direct/P941'), ('name', 'inspired by')]\n",
      "[('prop', 'http://www.wikidata.org/prop/direct/P97'), ('name', 'noble title')]\n",
      "[('prop', 'http://www.wikidata.org/prop/direct/P1423'), ('name', 'template has topic')]\n",
      "[('prop', 'http://www.wikidata.org/prop/direct/P3938'), ('name', 'named by')]\n",
      "18\n"
     ]
    }
   ],
   "source": [
    "# list the pharaoh's properties\n",
    "queryString = \"\"\"\n",
    "SELECT DISTINCT ?prop ?name\n",
    "WHERE { \n",
    "    ?phar ?prop wd:Q37110.\n",
    "    ?prop sc:name ?name.\n",
    "}\n",
    "\"\"\"\n",
    "\n",
    "print(\"Results\")\n",
    "x=run_query(queryString)"
   ]
  },
  {
   "cell_type": "code",
   "execution_count": 56,
   "id": "1b6dfaf5-4e38-4267-b33c-1328136be422",
   "metadata": {},
   "outputs": [
    {
     "name": "stdout",
     "output_type": "stream",
     "text": [
      "Results\n",
      "[('prop', 'http://www.wikidata.org/prop/direct/P569'), ('name', 'date of birth')]\n",
      "[('prop', 'http://www.wikidata.org/prop/direct/P570'), ('name', 'date of death')]\n",
      "[('prop', 'http://www.wikidata.org/prop/direct/P40'), ('name', 'child')]\n",
      "3\n"
     ]
    }
   ],
   "source": [
    "# I have to find the children and date of birth\n",
    "queryString = \"\"\"\n",
    "SELECT DISTINCT ?prop ?name\n",
    "WHERE { \n",
    "    ?phar wdt:P39 wd:Q37110;\n",
    "        ?prop ?x.\n",
    "    ?prop sc:name ?name.\n",
    "    FILTER(REGEX(?name,\"[C,c]hild\") || REGEX(?name,\"[D,d]ate\")).  \n",
    "}\n",
    "\"\"\"\n",
    "\n",
    "print(\"Results\")\n",
    "x=run_query(queryString)"
   ]
  },
  {
   "cell_type": "code",
   "execution_count": 11,
   "id": "3fba6aca-0c47-4342-92a7-e30d6cdccec2",
   "metadata": {},
   "outputs": [
    {
     "name": "stdout",
     "output_type": "stream",
     "text": [
      "Results\n",
      "[('phar', 'http://www.wikidata.org/entity/Q42606'), ('name', 'Amenhotep III'), ('children', '10')]\n",
      "[('phar', 'http://www.wikidata.org/entity/Q152230'), ('name', 'Tiye'), ('children', '9')]\n",
      "[('phar', 'http://www.wikidata.org/entity/Q1523'), ('name', 'Ramesses II'), ('children', '18')]\n",
      "[('phar', 'http://www.wikidata.org/entity/Q1528'), ('name', 'Ramesses III'), ('children', '10')]\n",
      "[('phar', 'http://www.wikidata.org/entity/Q81794'), ('name', 'Akhenaten'), ('children', '9')]\n",
      "5\n"
     ]
    }
   ],
   "source": [
    "# filter for pharaohs born between -1500 and -1000 and find who had more than 8 children\n",
    "queryString = \"\"\"\n",
    "SELECT ?phar ?name COUNT(DISTINCT ?ch) AS ?children\n",
    "WHERE { \n",
    "    ?phar wdt:P39 wd:Q37110;\n",
    "        wdt:P569 ?x;\n",
    "        wdt:P40 ?ch.\n",
    "    FILTER(?x>xsd:datetime(\"-1500-01-01\") && ?x<xsd:datetime(\"-1000-01-01\") ).  \n",
    "    ?phar sc:name ?name.\n",
    "}\n",
    "GROUP BY ?phar ?name\n",
    "HAVING (COUNT(DISTINCT ?ch) > 8)\n",
    "\"\"\"\n",
    "\n",
    "print(\"Results\")\n",
    "x=run_query(queryString)"
   ]
  },
  {
   "cell_type": "code",
   "execution_count": 12,
   "id": "ef647431",
   "metadata": {},
   "outputs": [
    {
     "name": "stdout",
     "output_type": "stream",
     "text": [
      "The index of this workflow is: 1_4\n",
      "The path is /locale/data/jupyter/prando/notebook/2022/results/workflow1_4.json\n",
      "JSON object updated\n"
     ]
    }
   ],
   "source": [
    "## single literal associated to an URI\n",
    "objs = []\n",
    "for i in x:\n",
    "    f_uri = i[0][1]\n",
    "    f_name = i[1][1]\n",
    "    children = i[2][1]\n",
    "    obj = {}\n",
    "    obj[\"refers_to\"] = f_uri\n",
    "    obj[\"refers_to_name\"] = f_name\n",
    "    obj[\"check\"] = \"value\"\n",
    "    obj[\"value\"]= children\n",
    "    objs.append(obj)\n",
    "evaluation.add_result(evaluation.get_index_workflow(pt),\"2\", evaluation.TYPE_REFERRED ,\"value\", objs)"
   ]
  },
  {
   "cell_type": "markdown",
   "id": "d1b629d5-6005-4825-9784-c69940b5e249",
   "metadata": {
    "jp-MarkdownHeadingCollapsed": true,
    "tags": []
   },
   "source": [
    "## Task 3"
   ]
  },
  {
   "cell_type": "code",
   "execution_count": 13,
   "id": "64089a33-2b09-41a2-8613-25218a2fbb2d",
   "metadata": {},
   "outputs": [
    {
     "name": "stdout",
     "output_type": "stream",
     "text": [
      "Results\n",
      "[('obj', 'http://www.wikidata.org/entity/Q3024240'), ('o', 'historical country')]\n",
      "[('obj', 'http://www.wikidata.org/entity/Q3502482'), ('o', 'cultural region')]\n",
      "[('obj', 'http://www.wikidata.org/entity/Q1620908'), ('o', 'historical region')]\n",
      "[('obj', 'http://www.wikidata.org/entity/Q28171280'), ('o', 'ancient civilization')]\n",
      "4\n"
     ]
    }
   ],
   "source": [
    "# look for the instance of Ancient Egypt\n",
    "queryString = \"\"\"\n",
    "SELECT DISTINCT ?obj ?o\n",
    "WHERE { \n",
    "    wd:Q11768 wdt:P31 ?obj.\n",
    "    ?obj sc:name ?o.\n",
    "} \n",
    "\"\"\"\n",
    "\n",
    "print(\"Results\")\n",
    "x=run_query(queryString)"
   ]
  },
  {
   "cell_type": "code",
   "execution_count": 14,
   "id": "08081357-d37a-4343-892c-5b4d28aa626d",
   "metadata": {},
   "outputs": [
    {
     "name": "stdout",
     "output_type": "stream",
     "text": [
      "Results\n",
      "[('prop', 'http://www.wikidata.org/prop/direct/P1014'), ('o', 'Art & Architecture Thesaurus ID')]\n",
      "[('prop', 'http://www.wikidata.org/prop/direct/P1036'), ('o', 'Dewey Decimal Classification')]\n",
      "[('prop', 'http://www.wikidata.org/prop/direct/P1082'), ('o', 'population')]\n",
      "[('prop', 'http://www.wikidata.org/prop/direct/P112'), ('o', 'founded by')]\n",
      "[('prop', 'http://www.wikidata.org/prop/direct/P1151'), ('o', \"topic's main Wikimedia portal\")]\n",
      "[('prop', 'http://www.wikidata.org/prop/direct/P122'), ('o', 'basic form of government')]\n",
      "[('prop', 'http://www.wikidata.org/prop/direct/P1225'), ('o', 'U.S. National Archives Identifier')]\n",
      "[('prop', 'http://www.wikidata.org/prop/direct/P1245'), ('o', 'OmegaWiki Defined Meaning')]\n",
      "[('prop', 'http://www.wikidata.org/prop/direct/P1269'), ('o', 'facet of')]\n",
      "[('prop', 'http://www.wikidata.org/prop/direct/P1282'), ('o', 'OpenStreetMap tag or key')]\n",
      "[('prop', 'http://www.wikidata.org/prop/direct/P1296'), ('o', 'Gran Enciclopèdia Catalana ID')]\n",
      "[('prop', 'http://www.wikidata.org/prop/direct/P131'), ('o', 'located in the administrative territorial entity')]\n",
      "[('prop', 'http://www.wikidata.org/prop/direct/P1343'), ('o', 'described by source')]\n",
      "[('prop', 'http://www.wikidata.org/prop/direct/P1366'), ('o', 'replaced by')]\n",
      "[('prop', 'http://www.wikidata.org/prop/direct/P1368'), ('o', 'LNB ID')]\n",
      "[('prop', 'http://www.wikidata.org/prop/direct/P138'), ('o', 'named after')]\n",
      "[('prop', 'http://www.wikidata.org/prop/direct/P1382'), ('o', 'partially coincident with')]\n",
      "[('prop', 'http://www.wikidata.org/prop/direct/P140'), ('o', 'religion')]\n",
      "[('prop', 'http://www.wikidata.org/prop/direct/P1417'), ('o', 'Encyclopædia Britannica Online ID')]\n",
      "[('prop', 'http://www.wikidata.org/prop/direct/P1424'), ('o', \"topic's main template\")]\n",
      "[('prop', 'http://www.wikidata.org/prop/direct/P1435'), ('o', 'heritage designation')]\n",
      "[('prop', 'http://www.wikidata.org/prop/direct/P1438'), ('o', 'Jewish Encyclopedia ID (Russian)')]\n",
      "[('prop', 'http://www.wikidata.org/prop/direct/P1464'), ('o', 'category for people born here')]\n",
      "[('prop', 'http://www.wikidata.org/prop/direct/P1465'), ('o', 'category for people who died here')]\n",
      "[('prop', 'http://www.wikidata.org/prop/direct/P1481'), ('o', 'vici.org ID')]\n",
      "[('prop', 'http://www.wikidata.org/prop/direct/P1482'), ('o', 'Stack Exchange tag')]\n",
      "[('prop', 'http://www.wikidata.org/prop/direct/P1549'), ('o', 'demonym')]\n",
      "[('prop', 'http://www.wikidata.org/prop/direct/P155'), ('o', 'follows')]\n",
      "[('prop', 'http://www.wikidata.org/prop/direct/P156'), ('o', 'followed by')]\n",
      "[('prop', 'http://www.wikidata.org/prop/direct/P1584'), ('o', 'Pleiades ID')]\n",
      "[('prop', 'http://www.wikidata.org/prop/direct/P1621'), ('o', 'detail map')]\n",
      "[('prop', 'http://www.wikidata.org/prop/direct/P1667'), ('o', 'Getty Thesaurus of Geographic Names ID')]\n",
      "[('prop', 'http://www.wikidata.org/prop/direct/P17'), ('o', 'country')]\n",
      "[('prop', 'http://www.wikidata.org/prop/direct/P1792'), ('o', 'category of associated people')]\n",
      "[('prop', 'http://www.wikidata.org/prop/direct/P18'), ('o', 'image')]\n",
      "[('prop', 'http://www.wikidata.org/prop/direct/P1889'), ('o', 'different from')]\n",
      "[('prop', 'http://www.wikidata.org/prop/direct/P1942'), ('o', 'McCune-Reischauer romanization')]\n",
      "[('prop', 'http://www.wikidata.org/prop/direct/P2001'), ('o', 'Revised Romanization')]\n",
      "[('prop', 'http://www.wikidata.org/prop/direct/P2046'), ('o', 'area')]\n",
      "[('prop', 'http://www.wikidata.org/prop/direct/P214'), ('o', 'VIAF ID')]\n",
      "[('prop', 'http://www.wikidata.org/prop/direct/P2184'), ('o', 'history of topic')]\n",
      "[('prop', 'http://www.wikidata.org/prop/direct/P227'), ('o', 'GND ID')]\n",
      "[('prop', 'http://www.wikidata.org/prop/direct/P2341'), ('o', 'indigenous to')]\n",
      "[('prop', 'http://www.wikidata.org/prop/direct/P2347'), ('o', 'YSO ID')]\n",
      "[('prop', 'http://www.wikidata.org/prop/direct/P2348'), ('o', 'time period')]\n",
      "[('prop', 'http://www.wikidata.org/prop/direct/P242'), ('o', 'locator map image')]\n",
      "[('prop', 'http://www.wikidata.org/prop/direct/P244'), ('o', 'Library of Congress authority ID')]\n",
      "[('prop', 'http://www.wikidata.org/prop/direct/P2579'), ('o', 'studied by')]\n",
      "[('prop', 'http://www.wikidata.org/prop/direct/P2581'), ('o', 'BabelNet ID')]\n",
      "[('prop', 'http://www.wikidata.org/prop/direct/P2596'), ('o', 'culture')]\n",
      "[('prop', 'http://www.wikidata.org/prop/direct/P2614'), ('o', 'World Heritage criteria')]\n",
      "[('prop', 'http://www.wikidata.org/prop/direct/P2633'), ('o', 'geography of topic')]\n",
      "[('prop', 'http://www.wikidata.org/prop/direct/P2671'), ('o', 'Google Knowledge Graph ID')]\n",
      "[('prop', 'http://www.wikidata.org/prop/direct/P268'), ('o', 'Bibliothèque nationale de France ID')]\n",
      "[('prop', 'http://www.wikidata.org/prop/direct/P276'), ('o', 'location')]\n",
      "[('prop', 'http://www.wikidata.org/prop/direct/P279'), ('o', 'subclass of')]\n",
      "[('prop', 'http://www.wikidata.org/prop/direct/P2924'), ('o', 'Great Russian Encyclopedia Online ID')]\n",
      "[('prop', 'http://www.wikidata.org/prop/direct/P2936'), ('o', 'language used')]\n",
      "[('prop', 'http://www.wikidata.org/prop/direct/P2950'), ('o', 'Nomisma ID')]\n",
      "[('prop', 'http://www.wikidata.org/prop/direct/P2959'), ('o', 'permanent duplicated item')]\n",
      "[('prop', 'http://www.wikidata.org/prop/direct/P30'), ('o', 'continent')]\n",
      "[('prop', 'http://www.wikidata.org/prop/direct/P31'), ('o', 'instance of')]\n",
      "[('prop', 'http://www.wikidata.org/prop/direct/P3219'), ('o', 'Encyclopædia Universalis ID')]\n",
      "[('prop', 'http://www.wikidata.org/prop/direct/P3221'), ('o', 'New York Times topic ID')]\n",
      "[('prop', 'http://www.wikidata.org/prop/direct/P3222'), ('o', 'NE.se ID')]\n",
      "[('prop', 'http://www.wikidata.org/prop/direct/P3241'), ('o', 'Catholic Encyclopedia ID')]\n",
      "[('prop', 'http://www.wikidata.org/prop/direct/P3342'), ('o', 'significant person')]\n",
      "[('prop', 'http://www.wikidata.org/prop/direct/P3417'), ('o', 'Quora topic ID')]\n",
      "[('prop', 'http://www.wikidata.org/prop/direct/P345'), ('o', 'IMDb ID')]\n",
      "[('prop', 'http://www.wikidata.org/prop/direct/P349'), ('o', 'National Diet Library ID')]\n",
      "[('prop', 'http://www.wikidata.org/prop/direct/P3553'), ('o', 'Zhihu topic ID')]\n",
      "[('prop', 'http://www.wikidata.org/prop/direct/P3569'), ('o', 'Cultureel Woordenboek ID')]\n",
      "[('prop', 'http://www.wikidata.org/prop/direct/P36'), ('o', 'capital')]\n",
      "[('prop', 'http://www.wikidata.org/prop/direct/P361'), ('o', 'part of')]\n",
      "[('prop', 'http://www.wikidata.org/prop/direct/P37'), ('o', 'official language')]\n",
      "[('prop', 'http://www.wikidata.org/prop/direct/P3710'), ('o', 'Jewish Encyclopedia Daat ID')]\n",
      "[('prop', 'http://www.wikidata.org/prop/direct/P373'), ('o', 'Commons category')]\n",
      "[('prop', 'http://www.wikidata.org/prop/direct/P38'), ('o', 'currency')]\n",
      "[('prop', 'http://www.wikidata.org/prop/direct/P3827'), ('o', 'JSTOR topic ID')]\n",
      "[('prop', 'http://www.wikidata.org/prop/direct/P3984'), ('o', 'subreddit')]\n",
      "[('prop', 'http://www.wikidata.org/prop/direct/P41'), ('o', 'flag image')]\n",
      "[('prop', 'http://www.wikidata.org/prop/direct/P4171'), ('o', 'World Heritage Tentative List ID')]\n",
      "[('prop', 'http://www.wikidata.org/prop/direct/P4212'), ('o', 'PACTOLS thesaurus ID')]\n",
      "[('prop', 'http://www.wikidata.org/prop/direct/P4342'), ('o', 'Store norske leksikon ID')]\n",
      "[('prop', 'http://www.wikidata.org/prop/direct/P443'), ('o', 'pronunciation audio')]\n",
      "[('prop', 'http://www.wikidata.org/prop/direct/P460'), ('o', 'said to be the same as')]\n",
      "[('prop', 'http://www.wikidata.org/prop/direct/P462'), ('o', 'color')]\n",
      "[('prop', 'http://www.wikidata.org/prop/direct/P47'), ('o', 'shares border with')]\n",
      "[('prop', 'http://www.wikidata.org/prop/direct/P4835'), ('o', 'TheTVDB.com series ID')]\n",
      "[('prop', 'http://www.wikidata.org/prop/direct/P4839'), ('o', 'Wolfram Language entity code')]\n",
      "[('prop', 'http://www.wikidata.org/prop/direct/P486'), ('o', 'MeSH descriptor ID')]\n",
      "[('prop', 'http://www.wikidata.org/prop/direct/P5002'), ('o', 'Orthodox Encyclopedia ID')]\n",
      "[('prop', 'http://www.wikidata.org/prop/direct/P5008'), ('o', 'on focus list of Wikimedia project')]\n",
      "[('prop', 'http://www.wikidata.org/prop/direct/P5019'), ('o', 'Brockhaus Enzyklopädie online ID')]\n",
      "[('prop', 'http://www.wikidata.org/prop/direct/P5063'), ('o', 'Interlingual Index ID')]\n",
      "[('prop', 'http://www.wikidata.org/prop/direct/P508'), ('o', 'BNCF Thesaurus ID')]\n",
      "[('prop', 'http://www.wikidata.org/prop/direct/P5125'), ('o', 'Wikimedia outline')]\n",
      "[('prop', 'http://www.wikidata.org/prop/direct/P527'), ('o', 'has part')]\n",
      "[('prop', 'http://www.wikidata.org/prop/direct/P5573'), ('o', 'archINFORM location ID')]\n",
      "[('prop', 'http://www.wikidata.org/prop/direct/P5587'), ('o', 'Libris-URI')]\n",
      "[('prop', 'http://www.wikidata.org/prop/direct/P571'), ('o', 'inception')]\n",
      "[('prop', 'http://www.wikidata.org/prop/direct/P575'), ('o', 'time of discovery or invention')]\n",
      "[('prop', 'http://www.wikidata.org/prop/direct/P576'), ('o', 'dissolved, abolished or demolished date')]\n",
      "[('prop', 'http://www.wikidata.org/prop/direct/P580'), ('o', 'start time')]\n",
      "[('prop', 'http://www.wikidata.org/prop/direct/P582'), ('o', 'end time')]\n",
      "[('prop', 'http://www.wikidata.org/prop/direct/P5905'), ('o', 'Comic Vine ID')]\n",
      "[('prop', 'http://www.wikidata.org/prop/direct/P6'), ('o', 'head of government')]\n",
      "[('prop', 'http://www.wikidata.org/prop/direct/P6058'), ('o', 'Larousse ID')]\n",
      "[('prop', 'http://www.wikidata.org/prop/direct/P6295'), ('o', 'ARTIC artist ID')]\n",
      "[('prop', 'http://www.wikidata.org/prop/direct/P6366'), ('o', 'Microsoft Academic ID')]\n",
      "[('prop', 'http://www.wikidata.org/prop/direct/P6379'), ('o', 'has works in the collection')]\n",
      "[('prop', 'http://www.wikidata.org/prop/direct/P6404'), ('o', \"Treccani's Dizionario di Storia ID\")]\n",
      "[('prop', 'http://www.wikidata.org/prop/direct/P646'), ('o', 'Freebase ID')]\n",
      "[('prop', 'http://www.wikidata.org/prop/direct/P6573'), ('o', 'Klexikon article ID')]\n",
      "[('prop', 'http://www.wikidata.org/prop/direct/P6706'), ('o', 'De Agostini ID')]\n",
      "[('prop', 'http://www.wikidata.org/prop/direct/P6839'), ('o', 'TV Tropes identifier')]\n",
      "[('prop', 'http://www.wikidata.org/prop/direct/P691'), ('o', 'NKCR AUT ID')]\n",
      "[('prop', 'http://www.wikidata.org/prop/direct/P7039'), ('o', 'National Library of Iceland ID')]\n",
      "[('prop', 'http://www.wikidata.org/prop/direct/P7293'), ('o', 'PLWABN ID')]\n",
      "[('prop', 'http://www.wikidata.org/prop/direct/P740'), ('o', 'location of formation')]\n",
      "[('prop', 'http://www.wikidata.org/prop/direct/P7712'), ('o', 'Joconde domain ID')]\n",
      "[('prop', 'http://www.wikidata.org/prop/direct/P7775'), ('o', 'RationalWiki ID')]\n",
      "[('prop', 'http://www.wikidata.org/prop/direct/P7786'), ('o', 'Joconde epoch ID')]\n",
      "[('prop', 'http://www.wikidata.org/prop/direct/P7818'), ('o', 'French Vikidia ID')]\n",
      "[('prop', 'http://www.wikidata.org/prop/direct/P7822'), ('o', 'Italian Vikidia ID')]\n",
      "[('prop', 'http://www.wikidata.org/prop/direct/P7827'), ('o', 'Spanish Vikidia ID')]\n",
      "[('prop', 'http://www.wikidata.org/prop/direct/P7829'), ('o', 'English Vikidia ID')]\n",
      "[('prop', 'http://www.wikidata.org/prop/direct/P7832'), ('o', 'Basque Vikidia ID')]\n",
      "[('prop', 'http://www.wikidata.org/prop/direct/P7850'), ('o', 'Joconde location ID')]\n",
      "[('prop', 'http://www.wikidata.org/prop/direct/P7859'), ('o', 'WorldCat Identities ID')]\n",
      "[('prop', 'http://www.wikidata.org/prop/direct/P7867'), ('o', 'category for maps')]\n",
      "[('prop', 'http://www.wikidata.org/prop/direct/P793'), ('o', 'significant event')]\n",
      "[('prop', 'http://www.wikidata.org/prop/direct/P8068'), ('o', 'ToposText place ID')]\n",
      "[('prop', 'http://www.wikidata.org/prop/direct/P8168'), ('o', 'FactGrid item ID')]\n",
      "[('prop', 'http://www.wikidata.org/prop/direct/P8217'), ('o', 'iDAI.gazetteer ID')]\n",
      "[('prop', 'http://www.wikidata.org/prop/direct/P8406'), ('o', 'Grove Art Online ID')]\n",
      "[('prop', 'http://www.wikidata.org/prop/direct/P8408'), ('o', 'KBpedia ID')]\n",
      "[('prop', 'http://www.wikidata.org/prop/direct/P8483'), ('o', 'PM20 geo code')]\n",
      "[('prop', 'http://www.wikidata.org/prop/direct/P8744'), ('o', 'economy of topic')]\n",
      "[('prop', 'http://www.wikidata.org/prop/direct/P8814'), ('o', 'WordNet 3.1 Synset ID')]\n",
      "[('prop', 'http://www.wikidata.org/prop/direct/P8989'), ('o', 'category for the view of the item')]\n",
      "[('prop', 'http://www.wikidata.org/prop/direct/P9000'), ('o', 'World History Encyclopedia ID')]\n",
      "[('prop', 'http://www.wikidata.org/prop/direct/P902'), ('o', 'HDS ID')]\n",
      "[('prop', 'http://www.wikidata.org/prop/direct/P9037'), ('o', 'BHCL UUID')]\n",
      "[('prop', 'http://www.wikidata.org/prop/direct/P906'), ('o', 'SELIBR ID')]\n",
      "[('prop', 'http://www.wikidata.org/prop/direct/P910'), ('o', \"topic's main category\")]\n",
      "[('prop', 'http://www.wikidata.org/prop/direct/P9106'), ('o', 'Oxford Classical Dictionary ID')]\n",
      "[('prop', 'http://www.wikidata.org/prop/direct/P935'), ('o', 'Commons gallery')]\n",
      "[('prop', 'http://www.wikidata.org/prop/direct/P948'), ('o', 'page banner')]\n",
      "[('prop', 'http://www.wikidata.org/prop/direct/P9498'), ('o', 'Enzyklopädie des europäischen Ostens ID')]\n",
      "[('prop', 'http://www.wikidata.org/prop/direct/P9545'), ('o', 'Encyclopedia of China Online Database ID')]\n",
      "[('prop', 'http://www.wikidata.org/prop/direct/P9629'), ('o', 'Armeniapedia ID')]\n",
      "[('prop', 'http://www.wikidata.org/prop/direct/P9736'), ('o', 'MANTO ID')]\n",
      "[('prop', 'http://www.wikidata.org/prop/direct/P9757'), ('o', 'Schoenberg Database of Manuscripts place ID')]\n",
      "[('prop', 'http://www.wikidata.org/prop/direct/P9475'), ('o', 'Encyclopedia of Korean Culture ID')]\n",
      "[('prop', 'http://www.wikidata.org/prop/direct/P6885'), ('o', 'historical region')]\n",
      "[('prop', 'http://www.wikidata.org/prop/direct/P4345'), ('o', 'director of archaeological fieldwork')]\n",
      "[('prop', 'http://www.wikidata.org/prop/direct/P654'), ('o', 'direction relative to location')]\n",
      "158\n"
     ]
    }
   ],
   "source": [
    "# find properties of object that are instances of ancient civilization\n",
    "queryString = \"\"\"\n",
    "SELECT DISTINCT ?prop ?o\n",
    "WHERE { \n",
    "    ?obj wdt:P31 wd:Q28171280;\n",
    "        ?prop ?x.\n",
    "    ?prop sc:name ?o.\n",
    "} \n",
    "\"\"\"\n",
    "\n",
    "print(\"Results\")\n",
    "x=run_query(queryString)"
   ]
  },
  {
   "cell_type": "code",
   "execution_count": 17,
   "id": "7f3fe2b5-c0a2-4db5-b807-dc4ca654c20b",
   "metadata": {},
   "outputs": [
    {
     "name": "stdout",
     "output_type": "stream",
     "text": [
      "Results\n",
      "[('obj', 'http://www.wikidata.org/entity/Q11768'), ('o', 'Ancient Egypt'), ('duration', '4395')]\n",
      "[('obj', 'http://www.wikidata.org/entity/Q11772'), ('o', 'Ancient Greece'), ('duration', '1800')]\n",
      "[('obj', 'http://www.wikidata.org/entity/Q134178'), ('o', 'Minoan civilization'), ('duration', '901')]\n",
      "[('obj', 'http://www.wikidata.org/entity/Q134178'), ('o', 'Minoan civilization'), ('duration', '2200')]\n",
      "[('obj', 'http://www.wikidata.org/entity/Q42534'), ('o', 'Indus Valley Civilization'), ('duration', '1200')]\n",
      "[('obj', 'http://www.wikidata.org/entity/Q1551054'), ('o', 'Israelite period'), ('duration', '614')]\n",
      "[('obj', 'http://www.wikidata.org/entity/Q41741'), ('o', 'Thrace')]\n",
      "[('obj', 'http://www.wikidata.org/entity/Q128904'), ('o', 'Elam')]\n",
      "[('obj', 'http://www.wikidata.org/entity/Q185068'), ('o', 'Urartu')]\n",
      "[('obj', 'http://www.wikidata.org/entity/Q11767'), ('o', 'Mesopotamia')]\n",
      "[('obj', 'http://www.wikidata.org/entity/Q32047'), ('o', 'Illyria')]\n",
      "[('obj', 'http://www.wikidata.org/entity/Q25558247'), ('o', 'Chinese civilization')]\n",
      "[('obj', 'http://www.wikidata.org/entity/Q38060'), ('o', 'Gaul')]\n",
      "[('obj', 'http://www.wikidata.org/entity/Q173082'), ('o', 'Dacia')]\n",
      "[('obj', 'http://www.wikidata.org/entity/Q2429397'), ('o', 'Ancient Carthage')]\n",
      "[('obj', 'http://www.wikidata.org/entity/Q3327860'), ('o', 'Celtic kingdom of Ireland')]\n",
      "[('obj', 'http://www.wikidata.org/entity/Q8735'), ('o', 'Medes')]\n",
      "[('obj', 'http://www.wikidata.org/entity/Q193748'), ('o', 'history of ancient Israel and Judah')]\n",
      "[('obj', 'http://www.wikidata.org/entity/Q28567'), ('o', 'Maya civilization')]\n",
      "[('obj', 'http://www.wikidata.org/entity/Q28405'), ('o', 'Gojoseon')]\n",
      "[('obj', 'http://www.wikidata.org/entity/Q35355'), ('o', 'Sumer')]\n",
      "[('obj', 'http://www.wikidata.org/entity/Q244762'), ('o', 'Mari')]\n",
      "[('obj', 'http://www.wikidata.org/entity/Q1364601'), ('o', 'Gallo-Roman culture')]\n",
      "[('obj', 'http://www.wikidata.org/entity/Q768212'), ('o', 'Turco-Mongol')]\n",
      "[('obj', 'http://www.wikidata.org/entity/Q4752820'), ('o', 'Ancient Crete')]\n",
      "[('obj', 'http://www.wikidata.org/entity/Q99304188'), ('o', 'Thracian')]\n",
      "26\n"
     ]
    }
   ],
   "source": [
    "# find the ancient civilizations possibily with their duration\n",
    "queryString = \"\"\"\n",
    "SELECT DISTINCT ?obj ?o ?duration\n",
    "WHERE { \n",
    "    ?obj wdt:P31 wd:Q28171280.\n",
    "    OPTIONAL{ \n",
    "        ?obj wdt:P580 ?start;\n",
    "            wdt:P582 ?end.\n",
    "        BIND(year(?end)-year(?start) AS ?duration). \n",
    "    }\n",
    "    ?obj sc:name ?o.\n",
    "} \n",
    "\"\"\"\n",
    "\n",
    "print(\"Results\")\n",
    "x=run_query(queryString)"
   ]
  },
  {
   "cell_type": "code",
   "execution_count": 20,
   "id": "09aa14ee",
   "metadata": {},
   "outputs": [
    {
     "name": "stdout",
     "output_type": "stream",
     "text": [
      "The index of this workflow is: 1_4\n",
      "The path is /locale/data/jupyter/prando/notebook/2022/results/workflow1_4.json\n",
      "JSON object updated\n"
     ]
    }
   ],
   "source": [
    "## single literal associated to an URI\n",
    "objs = []\n",
    "for i in x:\n",
    "    f_uri = i[0][1]\n",
    "    f_name = i[1][1]\n",
    "    duration = 0\n",
    "    if len(i) == 3:\n",
    "        duration = i[2][1]\n",
    "    obj = {}\n",
    "    obj[\"refers_to\"] = f_uri\n",
    "    obj[\"refers_to_name\"] = f_name\n",
    "    obj[\"check\"] = \"value\"\n",
    "    obj[\"value\"]= duration\n",
    "    objs.append(obj)\n",
    "evaluation.add_result(evaluation.get_index_workflow(pt),\"3\", evaluation.TYPE_REFERRED ,\"value\", objs)"
   ]
  },
  {
   "cell_type": "markdown",
   "id": "b169cd6c-63f3-48e5-b417-765615a5a788",
   "metadata": {
    "jp-MarkdownHeadingCollapsed": true,
    "tags": []
   },
   "source": [
    "## Task 4"
   ]
  },
  {
   "cell_type": "code",
   "execution_count": 21,
   "id": "d66e2fcd-808c-4890-84c5-5de8dcb05092",
   "metadata": {},
   "outputs": [
    {
     "name": "stdout",
     "output_type": "stream",
     "text": [
      "Results\n",
      "[('prop', 'http://www.wikidata.org/prop/direct/P1001'), ('o', 'applies to jurisdiction')]\n",
      "[('prop', 'http://www.wikidata.org/prop/direct/P101'), ('o', 'field of work')]\n",
      "[('prop', 'http://www.wikidata.org/prop/direct/P1049'), ('o', 'worshipped by')]\n",
      "[('prop', 'http://www.wikidata.org/prop/direct/P112'), ('o', 'founded by')]\n",
      "[('prop', 'http://www.wikidata.org/prop/direct/P119'), ('o', 'place of burial')]\n",
      "[('prop', 'http://www.wikidata.org/prop/direct/P1269'), ('o', 'facet of')]\n",
      "[('prop', 'http://www.wikidata.org/prop/direct/P131'), ('o', 'located in the administrative territorial entity')]\n",
      "[('prop', 'http://www.wikidata.org/prop/direct/P135'), ('o', 'movement')]\n",
      "[('prop', 'http://www.wikidata.org/prop/direct/P136'), ('o', 'genre')]\n",
      "[('prop', 'http://www.wikidata.org/prop/direct/P1365'), ('o', 'replaces')]\n",
      "[('prop', 'http://www.wikidata.org/prop/direct/P1376'), ('o', 'capital of')]\n",
      "[('prop', 'http://www.wikidata.org/prop/direct/P138'), ('o', 'named after')]\n",
      "[('prop', 'http://www.wikidata.org/prop/direct/P1382'), ('o', 'partially coincident with')]\n",
      "[('prop', 'http://www.wikidata.org/prop/direct/P1412'), ('o', 'languages spoken, written or signed')]\n",
      "[('prop', 'http://www.wikidata.org/prop/direct/P144'), ('o', 'based on')]\n",
      "[('prop', 'http://www.wikidata.org/prop/direct/P149'), ('o', 'architectural style')]\n",
      "[('prop', 'http://www.wikidata.org/prop/direct/P155'), ('o', 'follows')]\n",
      "[('prop', 'http://www.wikidata.org/prop/direct/P156'), ('o', 'followed by')]\n",
      "[('prop', 'http://www.wikidata.org/prop/direct/P159'), ('o', 'headquarters location')]\n",
      "[('prop', 'http://www.wikidata.org/prop/direct/P17'), ('o', 'country')]\n",
      "[('prop', 'http://www.wikidata.org/prop/direct/P170'), ('o', 'creator')]\n",
      "[('prop', 'http://www.wikidata.org/prop/direct/P172'), ('o', 'ethnic group')]\n",
      "[('prop', 'http://www.wikidata.org/prop/direct/P180'), ('o', 'depicts')]\n",
      "[('prop', 'http://www.wikidata.org/prop/direct/P1889'), ('o', 'different from')]\n",
      "[('prop', 'http://www.wikidata.org/prop/direct/P189'), ('o', 'location of discovery')]\n",
      "[('prop', 'http://www.wikidata.org/prop/direct/P19'), ('o', 'place of birth')]\n",
      "[('prop', 'http://www.wikidata.org/prop/direct/P20'), ('o', 'place of death')]\n",
      "[('prop', 'http://www.wikidata.org/prop/direct/P2184'), ('o', 'history of topic')]\n",
      "[('prop', 'http://www.wikidata.org/prop/direct/P2341'), ('o', 'indigenous to')]\n",
      "[('prop', 'http://www.wikidata.org/prop/direct/P2348'), ('o', 'time period')]\n",
      "[('prop', 'http://www.wikidata.org/prop/direct/P2578'), ('o', 'studies')]\n",
      "[('prop', 'http://www.wikidata.org/prop/direct/P2596'), ('o', 'culture')]\n",
      "[('prop', 'http://www.wikidata.org/prop/direct/P27'), ('o', 'country of citizenship')]\n",
      "[('prop', 'http://www.wikidata.org/prop/direct/P276'), ('o', 'location')]\n",
      "[('prop', 'http://www.wikidata.org/prop/direct/P279'), ('o', 'subclass of')]\n",
      "[('prop', 'http://www.wikidata.org/prop/direct/P291'), ('o', 'place of publication')]\n",
      "[('prop', 'http://www.wikidata.org/prop/direct/P2959'), ('o', 'permanent duplicated item')]\n",
      "[('prop', 'http://www.wikidata.org/prop/direct/P301'), ('o', \"category's main topic\")]\n",
      "[('prop', 'http://www.wikidata.org/prop/direct/P3095'), ('o', 'practiced by')]\n",
      "[('prop', 'http://www.wikidata.org/prop/direct/P31'), ('o', 'instance of')]\n",
      "[('prop', 'http://www.wikidata.org/prop/direct/P361'), ('o', 'part of')]\n",
      "[('prop', 'http://www.wikidata.org/prop/direct/P366'), ('o', 'use')]\n",
      "[('prop', 'http://www.wikidata.org/prop/direct/P425'), ('o', 'field of this occupation')]\n",
      "[('prop', 'http://www.wikidata.org/prop/direct/P460'), ('o', 'said to be the same as')]\n",
      "[('prop', 'http://www.wikidata.org/prop/direct/P47'), ('o', 'shares border with')]\n",
      "[('prop', 'http://www.wikidata.org/prop/direct/P495'), ('o', 'country of origin')]\n",
      "[('prop', 'http://www.wikidata.org/prop/direct/P527'), ('o', 'has part')]\n",
      "[('prop', 'http://www.wikidata.org/prop/direct/P54'), ('o', 'member of sports team')]\n",
      "[('prop', 'http://www.wikidata.org/prop/direct/P551'), ('o', 'residence')]\n",
      "[('prop', 'http://www.wikidata.org/prop/direct/P61'), ('o', 'discoverer or inventor')]\n",
      "[('prop', 'http://www.wikidata.org/prop/direct/P706'), ('o', 'located in/on physical feature')]\n",
      "[('prop', 'http://www.wikidata.org/prop/direct/P710'), ('o', 'participant')]\n",
      "[('prop', 'http://www.wikidata.org/prop/direct/P735'), ('o', 'given name')]\n",
      "[('prop', 'http://www.wikidata.org/prop/direct/P740'), ('o', 'location of formation')]\n",
      "[('prop', 'http://www.wikidata.org/prop/direct/P800'), ('o', 'notable work')]\n",
      "[('prop', 'http://www.wikidata.org/prop/direct/P840'), ('o', 'narrative location')]\n",
      "[('prop', 'http://www.wikidata.org/prop/direct/P921'), ('o', 'main subject')]\n",
      "[('prop', 'http://www.wikidata.org/prop/direct/P937'), ('o', 'work location')]\n",
      "[('prop', 'http://www.wikidata.org/prop/direct/P941'), ('o', 'inspired by')]\n",
      "[('prop', 'http://www.wikidata.org/prop/direct/P945'), ('o', 'allegiance')]\n",
      "[('prop', 'http://www.wikidata.org/prop/direct/P971'), ('o', 'category combines topics')]\n",
      "[('prop', 'http://www.wikidata.org/prop/direct/P1204'), ('o', \"Wikimedia portal's main topic\")]\n",
      "[('prop', 'http://www.wikidata.org/prop/direct/P1264'), ('o', 'valid in period')]\n",
      "[('prop', 'http://www.wikidata.org/prop/direct/P1855'), ('o', 'Wikidata property example')]\n",
      "[('prop', 'http://www.wikidata.org/prop/direct/P1071'), ('o', 'location of creation')]\n",
      "[('prop', 'http://www.wikidata.org/prop/direct/P183'), ('o', 'endemic to')]\n",
      "[('prop', 'http://www.wikidata.org/prop/direct/P2408'), ('o', 'set in period')]\n",
      "[('prop', 'http://www.wikidata.org/prop/direct/P3082'), ('o', 'destroyed')]\n",
      "[('prop', 'http://www.wikidata.org/prop/direct/P1423'), ('o', 'template has topic')]\n",
      "[('prop', 'http://www.wikidata.org/prop/direct/P2647'), ('o', 'source of material')]\n",
      "[('prop', 'http://www.wikidata.org/prop/direct/P7643'), ('o', 'covered period')]\n",
      "[('prop', 'http://www.wikidata.org/prop/direct/P7903'), ('o', 'gained territory from')]\n",
      "72\n"
     ]
    }
   ],
   "source": [
    "# find how object are related to instances of ancient civilization\n",
    "queryString = \"\"\"\n",
    "SELECT DISTINCT ?prop ?o\n",
    "WHERE { \n",
    "    ?obj wdt:P31 wd:Q28171280.\n",
    "    ?x ?prop ?obj.\n",
    "    ?prop sc:name ?o.\n",
    "} \n",
    "\"\"\"\n",
    "\n",
    "print(\"Results\")\n",
    "x=run_query(queryString)"
   ]
  },
  {
   "cell_type": "code",
   "execution_count": 22,
   "id": "67280618-a51c-49e5-b326-9983d2aab3b7",
   "metadata": {},
   "outputs": [
    {
     "name": "stdout",
     "output_type": "stream",
     "text": [
      "Results\n",
      "[('x', 'http://www.wikidata.org/entity/Q17122314'), ('o', 'Greek Study Association')]\n",
      "[('x', 'http://www.wikidata.org/entity/Q2732854'), ('o', 'Epigraphical Museum')]\n",
      "[('x', 'http://www.wikidata.org/entity/Q499357'), ('o', 'Andreas Luther')]\n",
      "[('x', 'http://www.wikidata.org/entity/Q1985476'), ('o', 'Charles Thomas Newton')]\n",
      "[('x', 'http://www.wikidata.org/entity/Q4446512'), ('o', 'Igor Surikov')]\n",
      "[('x', 'http://www.wikidata.org/entity/Q2342814'), ('o', 'Alexandre Bertrand')]\n",
      "[('x', 'http://www.wikidata.org/entity/Q2976497'), ('o', 'Classical Association')]\n",
      "[('x', 'http://www.wikidata.org/entity/Q83196530'), ('o', 'Markus Eberl')]\n",
      "[('x', 'http://www.wikidata.org/entity/Q64563606'), ('o', \"Vincent Robin d'Arba Desborough\")]\n",
      "[('x', 'http://www.wikidata.org/entity/Q1523942'), ('o', 'Gilbert Charles-Picard')]\n",
      "10\n"
     ]
    }
   ],
   "source": [
    "# use field of work\n",
    "queryString = \"\"\"\n",
    "SELECT DISTINCT ?x ?o\n",
    "WHERE { \n",
    "    ?obj wdt:P31 wd:Q28171280.\n",
    "    ?x wdt:P101 ?obj.\n",
    "    ?x sc:name ?o.\n",
    "} \n",
    "LIMIT 10\n",
    "\"\"\"\n",
    "\n",
    "print(\"Results\")\n",
    "x=run_query(queryString)"
   ]
  },
  {
   "cell_type": "code",
   "execution_count": 23,
   "id": "ab1ec41c-da85-48c8-a35e-04e2f1a4d3ac",
   "metadata": {},
   "outputs": [
    {
     "name": "stdout",
     "output_type": "stream",
     "text": [
      "Results\n",
      "[('occ', 'http://www.wikidata.org/entity/Q26425137'), ('o', 'mykenologist')]\n",
      "[('occ', 'http://www.wikidata.org/entity/Q121594'), ('o', 'professor')]\n",
      "[('occ', 'http://www.wikidata.org/entity/Q13418253'), ('o', 'philologist')]\n",
      "[('occ', 'http://www.wikidata.org/entity/Q14467526'), ('o', 'linguist')]\n",
      "[('occ', 'http://www.wikidata.org/entity/Q1622272'), ('o', 'university teacher')]\n",
      "[('occ', 'http://www.wikidata.org/entity/Q1792450'), ('o', 'art historian')]\n",
      "[('occ', 'http://www.wikidata.org/entity/Q201788'), ('o', 'historian')]\n",
      "[('occ', 'http://www.wikidata.org/entity/Q333634'), ('o', 'translator')]\n",
      "[('occ', 'http://www.wikidata.org/entity/Q36180'), ('o', 'writer')]\n",
      "[('occ', 'http://www.wikidata.org/entity/Q37226'), ('o', 'teacher')]\n",
      "[('occ', 'http://www.wikidata.org/entity/Q901'), ('o', 'scientist')]\n",
      "[('occ', 'http://www.wikidata.org/entity/Q1350189'), ('o', 'egyptologist')]\n",
      "[('occ', 'http://www.wikidata.org/entity/Q15632632'), ('o', 'epigrapher')]\n",
      "[('occ', 'http://www.wikidata.org/entity/Q22132694'), ('o', 'museum director')]\n",
      "[('occ', 'http://www.wikidata.org/entity/Q26424344'), ('o', 'Near Eastern archaeologist')]\n",
      "[('occ', 'http://www.wikidata.org/entity/Q2251335'), ('o', 'school teacher')]\n",
      "[('occ', 'http://www.wikidata.org/entity/Q916292'), ('o', 'scribe')]\n",
      "[('occ', 'http://www.wikidata.org/entity/Q47090899'), ('o', 'museum professional')]\n",
      "[('occ', 'http://www.wikidata.org/entity/Q2045208'), ('o', 'internet celebrity')]\n",
      "[('occ', 'http://www.wikidata.org/entity/Q2468727'), ('o', 'classical scholar')]\n",
      "[('occ', 'http://www.wikidata.org/entity/Q3621491'), ('o', 'archaeologist')]\n",
      "[('occ', 'http://www.wikidata.org/entity/Q4773904'), ('o', 'anthropologist')]\n",
      "[('occ', 'http://www.wikidata.org/entity/Q15983985'), ('o', 'classical archaeologist')]\n",
      "[('occ', 'http://www.wikidata.org/entity/Q1731155'), ('o', 'orientalist')]\n",
      "[('occ', 'http://www.wikidata.org/entity/Q17488316'), ('o', 'prehistorian')]\n",
      "[('occ', 'http://www.wikidata.org/entity/Q19361459'), ('o', 'assyriologist')]\n",
      "[('occ', 'http://www.wikidata.org/entity/Q20873384'), ('o', 'historian of classical antiquity')]\n",
      "[('occ', 'http://www.wikidata.org/entity/Q4988856'), ('o', 'hebraist')]\n",
      "[('occ', 'http://www.wikidata.org/entity/Q133485'), ('o', 'rabbi')]\n",
      "[('occ', 'http://www.wikidata.org/entity/Q18916625'), ('o', 'hellenist')]\n",
      "[('occ', 'http://www.wikidata.org/entity/Q1914832'), ('o', 'associate professor')]\n",
      "[('occ', 'http://www.wikidata.org/entity/Q16267158'), ('o', 'papyrologist')]\n",
      "[('occ', 'http://www.wikidata.org/entity/Q26233771'), ('o', 'building researcher')]\n",
      "33\n"
     ]
    }
   ],
   "source": [
    "# list the occupations \n",
    "queryString = \"\"\"\n",
    "SELECT DISTINCT ?occ ?o\n",
    "WHERE { \n",
    "    ?obj wdt:P31 wd:Q28171280.\n",
    "    ?x wdt:P101 ?obj;\n",
    "        wdt:P106 ?occ.\n",
    "    ?occ sc:name ?o.\n",
    "} \n",
    "\"\"\"\n",
    "\n",
    "print(\"Results\")\n",
    "x=run_query(queryString)"
   ]
  },
  {
   "cell_type": "code",
   "execution_count": 25,
   "id": "0c7af510",
   "metadata": {},
   "outputs": [
    {
     "name": "stdout",
     "output_type": "stream",
     "text": [
      "Results\n",
      "[('occ', 'http://www.wikidata.org/entity/Q3621491'), ('o', 'archaeologist')]\n",
      "1\n"
     ]
    }
   ],
   "source": [
    "# list the occupations \n",
    "queryString = \"\"\"\n",
    "SELECT wd:Q3621491 AS ?occ ?o\n",
    "WHERE { \n",
    "   wd:Q3621491  sc:name ?o.\n",
    "} \n",
    "\"\"\"\n",
    "\n",
    "print(\"Results\")\n",
    "x=run_query(queryString)"
   ]
  },
  {
   "cell_type": "code",
   "execution_count": 26,
   "id": "334b01fb",
   "metadata": {},
   "outputs": [
    {
     "name": "stdout",
     "output_type": "stream",
     "text": [
      "The index of this workflow is: 1_4\n",
      "The path is /locale/data/jupyter/prando/notebook/2022/results/workflow1_4.json\n",
      "JSON object updated\n"
     ]
    }
   ],
   "source": [
    "### insert the result of TASK 1 in the file\n",
    "og_uri = \"http://www.wikidata.org/entity/Q3621491\"\n",
    "og_name = \"archaeologist\"\n",
    "obj = {\"uri\":og_uri,\"name\":og_name}\n",
    "evaluation.add_result(evaluation.get_index_workflow(pt),\"4\", evaluation.TYPE_SINGLE ,\"uri\", [obj] ,\"all\")"
   ]
  },
  {
   "cell_type": "markdown",
   "id": "94a811e8-5d3c-4321-b838-7c9352486578",
   "metadata": {},
   "source": [
    "`Q3621491` -> archeologist"
   ]
  },
  {
   "cell_type": "markdown",
   "id": "166ed95e-97ba-4e9c-8d60-fe81cd9b9ea5",
   "metadata": {
    "tags": []
   },
   "source": [
    "## Task 5"
   ]
  },
  {
   "cell_type": "code",
   "execution_count": 28,
   "id": "c7776467-a95f-449d-958c-2d4333f2d253",
   "metadata": {},
   "outputs": [
    {
     "name": "stdout",
     "output_type": "stream",
     "text": [
      "Results\n",
      "[('obj', 'http://www.wikidata.org/entity/Q99304188'), ('o', 'Thracian'), ('archeologists', '0')]\n",
      "[('obj', 'http://www.wikidata.org/entity/Q11767'), ('o', 'Mesopotamia'), ('archeologists', '1')]\n",
      "[('obj', 'http://www.wikidata.org/entity/Q35355'), ('o', 'Sumer'), ('archeologists', '0')]\n",
      "[('obj', 'http://www.wikidata.org/entity/Q25558247'), ('o', 'Chinese civilization'), ('archeologists', '0')]\n",
      "[('obj', 'http://www.wikidata.org/entity/Q2429397'), ('o', 'Ancient Carthage'), ('archeologists', '7')]\n",
      "[('obj', 'http://www.wikidata.org/entity/Q173082'), ('o', 'Dacia'), ('archeologists', '0')]\n",
      "[('obj', 'http://www.wikidata.org/entity/Q32047'), ('o', 'Illyria'), ('archeologists', '0')]\n",
      "[('obj', 'http://www.wikidata.org/entity/Q28405'), ('o', 'Gojoseon'), ('archeologists', '0')]\n",
      "[('obj', 'http://www.wikidata.org/entity/Q38060'), ('o', 'Gaul'), ('archeologists', '3')]\n",
      "[('obj', 'http://www.wikidata.org/entity/Q8735'), ('o', 'Medes'), ('archeologists', '0')]\n",
      "[('obj', 'http://www.wikidata.org/entity/Q11768'), ('o', 'Ancient Egypt'), ('archeologists', '2')]\n",
      "[('obj', 'http://www.wikidata.org/entity/Q11772'), ('o', 'Ancient Greece'), ('archeologists', '9')]\n",
      "[('obj', 'http://www.wikidata.org/entity/Q41741'), ('o', 'Thrace'), ('archeologists', '1')]\n",
      "[('obj', 'http://www.wikidata.org/entity/Q193748'), ('o', 'history of ancient Israel and Judah'), ('archeologists', '1')]\n",
      "[('obj', 'http://www.wikidata.org/entity/Q28567'), ('o', 'Maya civilization'), ('archeologists', '2')]\n",
      "[('obj', 'http://www.wikidata.org/entity/Q128904'), ('o', 'Elam'), ('archeologists', '0')]\n",
      "[('obj', 'http://www.wikidata.org/entity/Q134178'), ('o', 'Minoan civilization'), ('archeologists', '1')]\n",
      "[('obj', 'http://www.wikidata.org/entity/Q768212'), ('o', 'Turco-Mongol'), ('archeologists', '0')]\n",
      "[('obj', 'http://www.wikidata.org/entity/Q42534'), ('o', 'Indus Valley Civilization'), ('archeologists', '0')]\n",
      "[('obj', 'http://www.wikidata.org/entity/Q244762'), ('o', 'Mari'), ('archeologists', '0')]\n",
      "[('obj', 'http://www.wikidata.org/entity/Q3327860'), ('o', 'Celtic kingdom of Ireland'), ('archeologists', '0')]\n",
      "[('obj', 'http://www.wikidata.org/entity/Q1551054'), ('o', 'Israelite period'), ('archeologists', '2')]\n",
      "[('obj', 'http://www.wikidata.org/entity/Q185068'), ('o', 'Urartu'), ('archeologists', '0')]\n",
      "[('obj', 'http://www.wikidata.org/entity/Q4752820'), ('o', 'Ancient Crete'), ('archeologists', '0')]\n",
      "[('obj', 'http://www.wikidata.org/entity/Q1364601'), ('o', 'Gallo-Roman culture'), ('archeologists', '0')]\n",
      "25\n"
     ]
    }
   ],
   "source": [
    "# find the number of archologists for each ancient civilization\n",
    "queryString = \"\"\"\n",
    "SELECT ?obj ?o COUNT(DISTINCT ?x) AS ?archeologists\n",
    "WHERE { \n",
    "    ?obj wdt:P31 wd:Q28171280.\n",
    "    OPTIONAL{?x wdt:P101 ?obj;\n",
    "        wdt:P106/wdt:P279* wd:Q3621491.}\n",
    "    ?obj sc:name ?o.\n",
    "} \n",
    "GROUP BY ?obj ?o\n",
    "\"\"\"\n",
    "\n",
    "print(\"Results\")\n",
    "x=run_query(queryString)"
   ]
  },
  {
   "cell_type": "code",
   "execution_count": 29,
   "id": "3582fec3",
   "metadata": {},
   "outputs": [
    {
     "name": "stdout",
     "output_type": "stream",
     "text": [
      "The index of this workflow is: 1_4\n",
      "The path is /locale/data/jupyter/prando/notebook/2022/results/workflow1_4.json\n",
      "JSON object updated\n"
     ]
    }
   ],
   "source": [
    "## single literal associated to an URI\n",
    "objs = []\n",
    "for i in x:\n",
    "    f_uri = i[0][1]\n",
    "    f_name = i[1][1]\n",
    "    arch = i[2][1]\n",
    "    obj = {}\n",
    "    obj[\"refers_to\"] = f_uri\n",
    "    obj[\"refers_to_name\"] = f_name\n",
    "    obj[\"check\"] = \"value\"\n",
    "    obj[\"value\"]= arch\n",
    "    objs.append(obj)\n",
    "evaluation.add_result(evaluation.get_index_workflow(pt),\"5\", evaluation.TYPE_REFERRED ,\"value\", objs)"
   ]
  },
  {
   "cell_type": "markdown",
   "id": "c2390c90-2ea8-4661-8caa-86388cff7f69",
   "metadata": {
    "jp-MarkdownHeadingCollapsed": true,
    "tags": []
   },
   "source": [
    "## Task 6"
   ]
  },
  {
   "cell_type": "code",
   "execution_count": 31,
   "id": "11014ef3-dbc4-474f-b31d-6bdd3ffa3167",
   "metadata": {},
   "outputs": [
    {
     "name": "stdout",
     "output_type": "stream",
     "text": [
      "Results\n",
      "[('obj', 'http://www.wikidata.org/entity/Q1916821'), ('name', 'water deity')]\n",
      "[('obj', 'http://www.wikidata.org/entity/Q22989102'), ('name', 'Greek deity')]\n",
      "2\n"
     ]
    }
   ],
   "source": [
    "# find the class of Poseidon\n",
    "queryString = \"\"\"\n",
    "SELECT DISTINCT ?obj ?name\n",
    "WHERE { \n",
    "    wd:Q41127 wdt:P31 ?obj.\n",
    "    ?obj sc:name ?name.\n",
    "} \n",
    "\"\"\"\n",
    "\n",
    "print(\"Results\")\n",
    "x=run_query(queryString)"
   ]
  },
  {
   "cell_type": "code",
   "execution_count": 32,
   "id": "59dee267-dd67-4569-929c-8d394fa831b4",
   "metadata": {},
   "outputs": [
    {
     "name": "stdout",
     "output_type": "stream",
     "text": [
      "Results\n",
      "[('obj', 'http://www.wikidata.org/entity/Q178885'), ('name', 'deity')]\n",
      "[('obj', 'http://www.wikidata.org/entity/Q22988604'), ('name', 'mythological Greek character')]\n",
      "[('obj', 'http://www.wikidata.org/entity/Q95074'), ('name', 'fictional character')]\n",
      "3\n"
     ]
    }
   ],
   "source": [
    "# find the superclass of Greek deity\n",
    "queryString = \"\"\"\n",
    "SELECT DISTINCT ?obj ?name\n",
    "WHERE { \n",
    "    wd:Q22989102 wdt:P279 ?obj.\n",
    "    ?obj sc:name ?name.\n",
    "} \n",
    "\"\"\"\n",
    "\n",
    "print(\"Results\")\n",
    "x=run_query(queryString)"
   ]
  },
  {
   "cell_type": "code",
   "execution_count": 33,
   "id": "7d10e740",
   "metadata": {},
   "outputs": [
    {
     "name": "stdout",
     "output_type": "stream",
     "text": [
      "The index of this workflow is: 1_4\n",
      "The path is /locale/data/jupyter/prando/notebook/2022/results/workflow1_4.json\n",
      "JSON object updated\n"
     ]
    }
   ],
   "source": [
    "### insert the result of TASK 1 in the file\n",
    "og_uri = \"http://www.wikidata.org/entity/Q178885\"\n",
    "og_name = \"deity\"\n",
    "obj = {\"uri\":og_uri,\"name\":og_name}\n",
    "evaluation.add_result(evaluation.get_index_workflow(pt),\"6\", evaluation.TYPE_SINGLE ,\"uri\", [obj] ,\"all\")"
   ]
  },
  {
   "cell_type": "markdown",
   "id": "2cf0ce43-52d2-4c93-9a7a-7e601180ecb9",
   "metadata": {},
   "source": [
    "`Q178885`-> deity"
   ]
  },
  {
   "cell_type": "markdown",
   "id": "5bc107ce-746c-4b72-ac54-c4875bb63381",
   "metadata": {
    "jp-MarkdownHeadingCollapsed": true,
    "tags": []
   },
   "source": [
    "## Task 7"
   ]
  },
  {
   "cell_type": "code",
   "execution_count": 34,
   "id": "658d5877-45dc-4eba-8c22-0936d7883e88",
   "metadata": {},
   "outputs": [
    {
     "name": "stdout",
     "output_type": "stream",
     "text": [
      "Results\n",
      "[('prop', 'http://www.wikidata.org/prop/direct/P1049'), ('name', 'worshipped by')]\n",
      "[('prop', 'http://www.wikidata.org/prop/direct/P1296'), ('name', 'Gran Enciclopèdia Catalana ID')]\n",
      "[('prop', 'http://www.wikidata.org/prop/direct/P1299'), ('name', 'depicted by')]\n",
      "[('prop', 'http://www.wikidata.org/prop/direct/P1343'), ('name', 'described by source')]\n",
      "[('prop', 'http://www.wikidata.org/prop/direct/P1417'), ('name', 'Encyclopædia Britannica Online ID')]\n",
      "[('prop', 'http://www.wikidata.org/prop/direct/P1441'), ('name', 'present in work')]\n",
      "[('prop', 'http://www.wikidata.org/prop/direct/P18'), ('name', 'image')]\n",
      "[('prop', 'http://www.wikidata.org/prop/direct/P1871'), ('name', 'CERL Thesaurus ID')]\n",
      "[('prop', 'http://www.wikidata.org/prop/direct/P1889'), ('name', 'different from')]\n",
      "[('prop', 'http://www.wikidata.org/prop/direct/P21'), ('name', 'sex or gender')]\n",
      "[('prop', 'http://www.wikidata.org/prop/direct/P214'), ('name', 'VIAF ID')]\n",
      "[('prop', 'http://www.wikidata.org/prop/direct/P22'), ('name', 'father')]\n",
      "[('prop', 'http://www.wikidata.org/prop/direct/P227'), ('name', 'GND ID')]\n",
      "[('prop', 'http://www.wikidata.org/prop/direct/P2283'), ('name', 'uses')]\n",
      "[('prop', 'http://www.wikidata.org/prop/direct/P244'), ('name', 'Library of Congress authority ID')]\n",
      "[('prop', 'http://www.wikidata.org/prop/direct/P25'), ('name', 'mother')]\n",
      "[('prop', 'http://www.wikidata.org/prop/direct/P26'), ('name', 'spouse')]\n",
      "[('prop', 'http://www.wikidata.org/prop/direct/P268'), ('name', 'Bibliothèque nationale de France ID')]\n",
      "[('prop', 'http://www.wikidata.org/prop/direct/P269'), ('name', 'IdRef ID')]\n",
      "[('prop', 'http://www.wikidata.org/prop/direct/P2924'), ('name', 'Great Russian Encyclopedia Online ID')]\n",
      "[('prop', 'http://www.wikidata.org/prop/direct/P31'), ('name', 'instance of')]\n",
      "[('prop', 'http://www.wikidata.org/prop/direct/P3219'), ('name', 'Encyclopædia Universalis ID')]\n",
      "[('prop', 'http://www.wikidata.org/prop/direct/P3365'), ('name', 'Treccani ID')]\n",
      "[('prop', 'http://www.wikidata.org/prop/direct/P3373'), ('name', 'sibling')]\n",
      "[('prop', 'http://www.wikidata.org/prop/direct/P3417'), ('name', 'Quora topic ID')]\n",
      "[('prop', 'http://www.wikidata.org/prop/direct/P3569'), ('name', 'Cultureel Woordenboek ID')]\n",
      "[('prop', 'http://www.wikidata.org/prop/direct/P361'), ('name', 'part of')]\n",
      "[('prop', 'http://www.wikidata.org/prop/direct/P373'), ('name', 'Commons category')]\n",
      "[('prop', 'http://www.wikidata.org/prop/direct/P40'), ('name', 'child')]\n",
      "[('prop', 'http://www.wikidata.org/prop/direct/P4185'), ('name', 'iconographic symbol')]\n",
      "[('prop', 'http://www.wikidata.org/prop/direct/P4212'), ('name', 'PACTOLS thesaurus ID')]\n",
      "[('prop', 'http://www.wikidata.org/prop/direct/P443'), ('name', 'pronunciation audio')]\n",
      "[('prop', 'http://www.wikidata.org/prop/direct/P451'), ('name', 'unmarried partner')]\n",
      "[('prop', 'http://www.wikidata.org/prop/direct/P460'), ('name', 'said to be the same as')]\n",
      "[('prop', 'http://www.wikidata.org/prop/direct/P5063'), ('name', 'Interlingual Index ID')]\n",
      "[('prop', 'http://www.wikidata.org/prop/direct/P5247'), ('name', 'Giant Bomb ID')]\n",
      "[('prop', 'http://www.wikidata.org/prop/direct/P5905'), ('name', 'Comic Vine ID')]\n",
      "[('prop', 'http://www.wikidata.org/prop/direct/P6262'), ('name', 'Fandom article ID')]\n",
      "[('prop', 'http://www.wikidata.org/prop/direct/P646'), ('name', 'Freebase ID')]\n",
      "[('prop', 'http://www.wikidata.org/prop/direct/P7818'), ('name', 'French Vikidia ID')]\n",
      "[('prop', 'http://www.wikidata.org/prop/direct/P7859'), ('name', 'WorldCat Identities ID')]\n",
      "[('prop', 'http://www.wikidata.org/prop/direct/P8408'), ('name', 'KBpedia ID')]\n",
      "[('prop', 'http://www.wikidata.org/prop/direct/P8814'), ('name', 'WordNet 3.1 Synset ID')]\n",
      "[('prop', 'http://www.wikidata.org/prop/direct/P910'), ('name', \"topic's main category\")]\n",
      "[('prop', 'http://www.wikidata.org/prop/direct/P9164'), ('name', 'Svenska Institutet i Rom ID')]\n",
      "[('prop', 'http://www.wikidata.org/prop/direct/P9736'), ('name', 'MANTO ID')]\n",
      "[('prop', 'http://www.wikidata.org/prop/direct/P2925'), ('name', 'domain of saint or deity')]\n",
      "[('prop', 'http://www.wikidata.org/prop/direct/P3545'), ('name', 'Theoi Project ID')]\n",
      "[('prop', 'http://www.wikidata.org/prop/direct/P8822'), ('name', 'epithet')]\n",
      "49\n"
     ]
    }
   ],
   "source": [
    "## try to find correlation between Poseidon and Ancient Greece\n",
    "queryString = \"\"\"\n",
    "SELECT DISTINCT ?prop ?name\n",
    "WHERE { \n",
    "    wd:Q41127 ?prop ?x.\n",
    "    ?prop sc:name ?name.\n",
    "} \n",
    "\"\"\"\n",
    "\n",
    "print(\"Results\")\n",
    "x=run_query(queryString)"
   ]
  },
  {
   "cell_type": "code",
   "execution_count": 35,
   "id": "2e1eb69a-579a-44fd-aee1-9f2925b9d8af",
   "metadata": {},
   "outputs": [
    {
     "name": "stdout",
     "output_type": "stream",
     "text": [
      "Results\n",
      "[('x', 'http://www.wikidata.org/entity/Q101609'), ('name', 'Twelve Olympians')]\n",
      "1\n"
     ]
    }
   ],
   "source": [
    "## try to find correlation between Poseidon and Ancient Greece\n",
    "queryString = \"\"\"\n",
    "SELECT DISTINCT ?x ?name\n",
    "WHERE { \n",
    "    wd:Q41127 wdt:P361 ?x.\n",
    "    ?x sc:name ?name.\n",
    "} \n",
    "\"\"\"\n",
    "\n",
    "print(\"Results\")\n",
    "x=run_query(queryString)"
   ]
  },
  {
   "cell_type": "code",
   "execution_count": 36,
   "id": "c5a13afb-fdae-43c4-9348-331a049b6410",
   "metadata": {},
   "outputs": [
    {
     "name": "stdout",
     "output_type": "stream",
     "text": [
      "Results\n",
      "[('prop', 'http://www.wikidata.org/prop/direct/P1343'), ('name', 'described by source')]\n",
      "[('prop', 'http://www.wikidata.org/prop/direct/P18'), ('name', 'image')]\n",
      "[('prop', 'http://www.wikidata.org/prop/direct/P227'), ('name', 'GND ID')]\n",
      "[('prop', 'http://www.wikidata.org/prop/direct/P279'), ('name', 'subclass of')]\n",
      "[('prop', 'http://www.wikidata.org/prop/direct/P2924'), ('name', 'Great Russian Encyclopedia Online ID')]\n",
      "[('prop', 'http://www.wikidata.org/prop/direct/P31'), ('name', 'instance of')]\n",
      "[('prop', 'http://www.wikidata.org/prop/direct/P3417'), ('name', 'Quora topic ID')]\n",
      "[('prop', 'http://www.wikidata.org/prop/direct/P373'), ('name', 'Commons category')]\n",
      "[('prop', 'http://www.wikidata.org/prop/direct/P4212'), ('name', 'PACTOLS thesaurus ID')]\n",
      "[('prop', 'http://www.wikidata.org/prop/direct/P443'), ('name', 'pronunciation audio')]\n",
      "[('prop', 'http://www.wikidata.org/prop/direct/P5063'), ('name', 'Interlingual Index ID')]\n",
      "[('prop', 'http://www.wikidata.org/prop/direct/P527'), ('name', 'has part')]\n",
      "[('prop', 'http://www.wikidata.org/prop/direct/P5905'), ('name', 'Comic Vine ID')]\n",
      "[('prop', 'http://www.wikidata.org/prop/direct/P646'), ('name', 'Freebase ID')]\n",
      "[('prop', 'http://www.wikidata.org/prop/direct/P6573'), ('name', 'Klexikon article ID')]\n",
      "[('prop', 'http://www.wikidata.org/prop/direct/P7818'), ('name', 'French Vikidia ID')]\n",
      "[('prop', 'http://www.wikidata.org/prop/direct/P7829'), ('name', 'English Vikidia ID')]\n",
      "[('prop', 'http://www.wikidata.org/prop/direct/P8408'), ('name', 'KBpedia ID')]\n",
      "[('prop', 'http://www.wikidata.org/prop/direct/P910'), ('name', \"topic's main category\")]\n",
      "[('prop', 'http://www.wikidata.org/prop/direct/P9736'), ('name', 'MANTO ID')]\n",
      "20\n"
     ]
    }
   ],
   "source": [
    "## try to find correlation between Poseidon and Ancient Greece\n",
    "queryString = \"\"\"\n",
    "SELECT DISTINCT ?prop ?name\n",
    "WHERE { \n",
    "    wd:Q101609 ?prop ?x.\n",
    "    ?prop sc:name ?name.\n",
    "} \n",
    "\"\"\"\n",
    "\n",
    "print(\"Results\")\n",
    "x=run_query(queryString)"
   ]
  },
  {
   "cell_type": "code",
   "execution_count": 38,
   "id": "c4db80b2-5801-4892-9503-a7bc2f390f92",
   "metadata": {},
   "outputs": [
    {
     "name": "stdout",
     "output_type": "stream",
     "text": [
      "Results\n",
      "[('x', 'http://www.wikidata.org/entity/Q41127'), ('name', 'Poseidon')]\n",
      "[('x', 'http://www.wikidata.org/entity/Q34201'), ('name', 'Zeus')]\n",
      "[('x', 'http://www.wikidata.org/entity/Q35500'), ('name', 'Aphrodite')]\n",
      "[('x', 'http://www.wikidata.org/entity/Q40730'), ('name', 'Demeter')]\n",
      "[('x', 'http://www.wikidata.org/entity/Q40901'), ('name', 'Ares')]\n",
      "[('x', 'http://www.wikidata.org/entity/Q41484'), ('name', 'Hermes')]\n",
      "[('x', 'http://www.wikidata.org/entity/Q37340'), ('name', 'Apollo')]\n",
      "[('x', 'http://www.wikidata.org/entity/Q37122'), ('name', 'Athena')]\n",
      "[('x', 'http://www.wikidata.org/entity/Q38012'), ('name', 'Hera')]\n",
      "[('x', 'http://www.wikidata.org/entity/Q39503'), ('name', 'Artemis')]\n",
      "[('x', 'http://www.wikidata.org/entity/Q44384'), ('name', 'Hephaestus')]\n",
      "[('x', 'http://www.wikidata.org/entity/Q41419'), ('name', 'Hestia')]\n",
      "12\n"
     ]
    }
   ],
   "source": [
    "## list the twelve olympians\n",
    "queryString = \"\"\"\n",
    "SELECT DISTINCT ?x ?name\n",
    "WHERE { \n",
    "    wd:Q101609 wdt:P527 ?x.\n",
    "    ?x sc:name ?name.\n",
    "} \n",
    "\"\"\"\n",
    "\n",
    "print(\"Results\")\n",
    "x=run_query(queryString)"
   ]
  },
  {
   "cell_type": "code",
   "execution_count": 39,
   "id": "34e057fe",
   "metadata": {},
   "outputs": [
    {
     "name": "stdout",
     "output_type": "stream",
     "text": [
      "The index of this workflow is: 1_4\n",
      "The path is /locale/data/jupyter/prando/notebook/2022/results/workflow1_4.json\n",
      "JSON object updated\n"
     ]
    }
   ],
   "source": [
    "obj = [{\"uri\":r[0][1],\"name\":r[1][1]} for r in x]\n",
    "evaluation.add_result(evaluation.get_index_workflow(pt),\"7\", evaluation.TYPE_SET ,\"uri\", obj)"
   ]
  },
  {
   "cell_type": "markdown",
   "id": "818de736-bad7-4bf2-9a3e-5e5ba5038442",
   "metadata": {
    "tags": []
   },
   "source": [
    "## Task 8"
   ]
  },
  {
   "cell_type": "code",
   "execution_count": 40,
   "id": "a78d0a24-f361-40aa-adba-367054849aa5",
   "metadata": {},
   "outputs": [
    {
     "name": "stdout",
     "output_type": "stream",
     "text": [
      "Results\n",
      "[('obj', 'http://www.wikidata.org/entity/Q11688446'), ('name', 'Roman deity')]\n",
      "[('obj', 'http://www.wikidata.org/entity/Q13405593'), ('name', 'nature deity')]\n",
      "[('obj', 'http://www.wikidata.org/entity/Q190'), ('name', 'God')]\n",
      "[('obj', 'http://www.wikidata.org/entity/Q979507'), ('name', 'Hindu deity')]\n",
      "[('obj', 'http://www.wikidata.org/entity/Q205985'), ('name', 'goddess')]\n",
      "[('obj', 'http://www.wikidata.org/entity/Q22989102'), ('name', 'Greek deity')]\n",
      "[('obj', 'http://www.wikidata.org/entity/Q24284226'), ('name', 'agricultural deity')]\n",
      "[('obj', 'http://www.wikidata.org/entity/Q32066628'), ('name', 'Aztec deity')]\n",
      "[('obj', 'http://www.wikidata.org/entity/Q7805266'), ('name', 'time and fate deity')]\n",
      "[('obj', 'http://www.wikidata.org/entity/Q2072049'), ('name', 'yidam')]\n",
      "[('obj', 'http://www.wikidata.org/entity/Q1670614'), ('name', 'love deity')]\n",
      "[('obj', 'http://www.wikidata.org/entity/Q7813363'), ('name', 'Toilet god')]\n",
      "[('obj', 'http://www.wikidata.org/entity/Q1589492'), ('name', 'King of the Gods')]\n",
      "[('obj', 'http://www.wikidata.org/entity/Q8208709'), ('name', 'divine attribute')]\n",
      "[('obj', 'http://www.wikidata.org/entity/Q146083'), ('name', 'Ancient Egyptian deity')]\n",
      "[('obj', 'http://www.wikidata.org/entity/Q2803758'), ('name', 'death deity')]\n",
      "[('obj', 'http://www.wikidata.org/entity/Q1470705'), ('name', 'fertility deity')]\n",
      "[('obj', 'http://www.wikidata.org/entity/Q1569856'), ('name', 'lunar deity')]\n",
      "[('obj', 'http://www.wikidata.org/entity/Q16513881'), ('name', 'Norse deity')]\n",
      "[('obj', 'http://www.wikidata.org/entity/Q41863069'), ('name', 'war deity')]\n",
      "[('obj', 'http://www.wikidata.org/entity/Q30307677'), ('name', 'household deity')]\n",
      "[('obj', 'http://www.wikidata.org/entity/Q5526436'), ('name', 'Gasin')]\n",
      "[('obj', 'http://www.wikidata.org/entity/Q6058157'), ('name', 'god')]\n",
      "[('obj', 'http://www.wikidata.org/entity/Q4436935'), ('name', 'Slavic deity')]\n",
      "[('obj', 'http://www.wikidata.org/entity/Q524158'), ('name', 'kami')]\n",
      "[('obj', 'http://www.wikidata.org/entity/Q138840'), ('name', 'Common Germanic deities')]\n",
      "[('obj', 'http://www.wikidata.org/entity/Q3027597'), ('name', 'Taoist deity')]\n",
      "[('obj', 'http://www.wikidata.org/entity/Q50078178'), ('name', 'Health deities')]\n",
      "[('obj', 'http://www.wikidata.org/entity/Q42593818'), ('name', 'Etruscan deity')]\n",
      "[('obj', 'http://www.wikidata.org/entity/Q54200443'), ('name', 'deity of wisdom')]\n",
      "[('obj', 'http://www.wikidata.org/entity/Q54200484'), ('name', 'deity of crafts')]\n",
      "[('obj', 'http://www.wikidata.org/entity/Q54308900'), ('name', 'Summoning God')]\n",
      "[('obj', 'http://www.wikidata.org/entity/Q42594143'), ('name', 'Mayan god')]\n",
      "[('obj', 'http://www.wikidata.org/entity/Q3032311'), ('name', 'Native American deity')]\n",
      "[('obj', 'http://www.wikidata.org/entity/Q3275872'), ('name', 'kamuy')]\n",
      "[('obj', 'http://www.wikidata.org/entity/Q16884104'), ('name', 'Purépecha deity')]\n",
      "[('obj', 'http://www.wikidata.org/entity/Q1106393'), ('name', 'triple deity')]\n",
      "[('obj', 'http://www.wikidata.org/entity/Q4089509'), ('name', 'Deva')]\n",
      "[('obj', 'http://www.wikidata.org/entity/Q178149'), ('name', 'Bodhisattva')]\n",
      "[('obj', 'http://www.wikidata.org/entity/Q511056'), ('name', 'solar deity')]\n",
      "[('obj', 'http://www.wikidata.org/entity/Q635155'), ('name', 'creator deity')]\n",
      "[('obj', 'http://www.wikidata.org/entity/Q290460'), ('name', 'Orisha')]\n",
      "[('obj', 'http://www.wikidata.org/entity/Q465434'), ('name', 'Celtic deity')]\n",
      "[('obj', 'http://www.wikidata.org/entity/Q929799'), ('name', 'Sebitti')]\n",
      "[('obj', 'http://www.wikidata.org/entity/Q3959372'), ('name', 'Shen')]\n",
      "[('obj', 'http://www.wikidata.org/entity/Q642405'), ('name', 'dying-and-rising deity')]\n",
      "[('obj', 'http://www.wikidata.org/entity/Q61961377'), ('name', 'Mesopotamian deity')]\n",
      "[('obj', 'http://www.wikidata.org/entity/Q47488303'), ('name', 'Maori war god')]\n",
      "[('obj', 'http://www.wikidata.org/entity/Q1207451'), ('name', 'xian')]\n",
      "[('obj', 'http://www.wikidata.org/entity/Q373916'), ('name', 'nymph')]\n",
      "[('obj', 'http://www.wikidata.org/entity/Q1231657'), ('name', 'Diwata')]\n",
      "[('obj', 'http://www.wikidata.org/entity/Q94194127'), ('name', 'deity of mordvin pantheon')]\n",
      "[('obj', 'http://www.wikidata.org/entity/Q3523909'), ('name', 'yakshini')]\n",
      "[('obj', 'http://www.wikidata.org/entity/Q85784817'), ('name', 'Meitei deities')]\n",
      "[('obj', 'http://www.wikidata.org/entity/Q855733'), ('name', 'Fierce deities')]\n",
      "[('obj', 'http://www.wikidata.org/entity/Q7713125'), ('name', 'The All')]\n",
      "[('obj', 'http://www.wikidata.org/entity/Q65659334'), ('name', 'disease-spreading deity')]\n",
      "[('obj', 'http://www.wikidata.org/entity/Q5242541'), ('name', 'Dawn goddess')]\n",
      "[('obj', 'http://www.wikidata.org/entity/Q50549261'), ('name', 'Inca deity')]\n",
      "[('obj', 'http://www.wikidata.org/entity/Q631406'), ('name', 'Korybantes')]\n",
      "[('obj', 'http://www.wikidata.org/entity/Q3566110'), ('name', 'Wang Ye worship')]\n",
      "[('obj', 'http://www.wikidata.org/entity/Q479033'), ('name', 'Shinigami')]\n",
      "[('obj', 'http://www.wikidata.org/entity/Q15712910'), ('name', 'Tngri')]\n",
      "[('obj', 'http://www.wikidata.org/entity/Q104439732'), ('name', 'Caboclo')]\n",
      "[('obj', 'http://www.wikidata.org/entity/Q3959257'), ('name', 'Shaitan')]\n",
      "[('obj', 'http://www.wikidata.org/entity/Q676379'), ('name', 'Anunnaki')]\n",
      "[('obj', 'http://www.wikidata.org/entity/Q54200631'), ('name', 'deity of artists')]\n",
      "[('obj', 'http://www.wikidata.org/entity/Q60788817'), ('name', 'Chaos gods')]\n",
      "[('obj', 'http://www.wikidata.org/entity/Q54366361'), ('name', 'shepherd God')]\n",
      "[('obj', 'http://www.wikidata.org/entity/Q4757556'), ('name', 'false god')]\n",
      "[('obj', 'http://www.wikidata.org/entity/Q106748215'), ('name', 'wealth deity')]\n",
      "[('obj', 'http://www.wikidata.org/entity/Q26701417'), ('name', 'Balabhadra')]\n",
      "[('obj', 'http://www.wikidata.org/entity/Q3512027'), ('name', 'Sky father')]\n",
      "[('obj', 'http://www.wikidata.org/entity/Q249178'), ('name', 'Kitchen god')]\n",
      "[('obj', 'http://www.wikidata.org/entity/Q3774531'), ('name', 'Atua')]\n",
      "[('obj', 'http://www.wikidata.org/entity/Q1539747'), ('name', 'sacred king')]\n",
      "[('obj', 'http://www.wikidata.org/entity/Q28859071'), ('name', 'God king')]\n",
      "[('obj', 'http://www.wikidata.org/entity/Q5904253'), ('name', 'Horned deity')]\n",
      "[('obj', 'http://www.wikidata.org/entity/Q107324956'), ('name', 'Sukkal')]\n",
      "[('obj', 'http://www.wikidata.org/entity/Q65122124'), ('name', 'Buddhist deity')]\n",
      "[('obj', 'http://www.wikidata.org/entity/Q29601533'), ('name', 'liquor deity')]\n",
      "[('obj', 'http://www.wikidata.org/entity/Q65465284'), ('name', 'Mixtec deity')]\n",
      "[('obj', 'http://www.wikidata.org/entity/Q3549810'), ('name', 'Anito')]\n",
      "[('obj', 'http://www.wikidata.org/entity/Q7254930'), ('name', 'Pseudologoi')]\n",
      "[('obj', 'http://www.wikidata.org/entity/Q3952361'), ('name', 'Howler Monkey Gods')]\n",
      "85\n"
     ]
    }
   ],
   "source": [
    "# list subclasses of deity\n",
    "queryString = \"\"\"\n",
    "SELECT DISTINCT ?obj ?name\n",
    "WHERE { \n",
    "    ?obj wdt:P279 wd:Q178885.\n",
    "    ?obj sc:name ?name.\n",
    "} \n",
    "\"\"\"\n",
    "\n",
    "print(\"Results\")\n",
    "x=run_query(queryString)"
   ]
  },
  {
   "cell_type": "code",
   "execution_count": 41,
   "id": "86433ce8-695f-4f80-819f-a4c2a4b24054",
   "metadata": {},
   "outputs": [
    {
     "name": "stdout",
     "output_type": "stream",
     "text": [
      "Results\n",
      "[('prop', 'http://www.wikidata.org/prop/direct/P2596'), ('name', 'culture')]\n",
      "[('prop', 'http://www.wikidata.org/prop/direct/P279'), ('name', 'subclass of')]\n",
      "[('prop', 'http://www.wikidata.org/prop/direct/P361'), ('name', 'part of')]\n",
      "[('prop', 'http://www.wikidata.org/prop/direct/P373'), ('name', 'Commons category')]\n",
      "[('prop', 'http://www.wikidata.org/prop/direct/P8408'), ('name', 'KBpedia ID')]\n",
      "[('prop', 'http://www.wikidata.org/prop/direct/P910'), ('name', \"topic's main category\")]\n",
      "6\n"
     ]
    }
   ],
   "source": [
    "# properties of Greek deity\n",
    "queryString = \"\"\"\n",
    "SELECT DISTINCT ?prop ?name\n",
    "WHERE { \n",
    "    wd:Q22989102 ?prop ?obj.\n",
    "    ?prop sc:name ?name.\n",
    "} \n",
    "\"\"\"\n",
    "\n",
    "print(\"Results\")\n",
    "x=run_query(queryString)"
   ]
  },
  {
   "cell_type": "code",
   "execution_count": 42,
   "id": "c68d0b6f-22f1-421a-be6c-f91b97c874be",
   "metadata": {},
   "outputs": [
    {
     "name": "stdout",
     "output_type": "stream",
     "text": [
      "Results\n",
      "[('obj', 'http://www.wikidata.org/entity/Q11768'), ('name', 'Ancient Egypt'), ('dei', 'http://www.wikidata.org/entity/Q146083'), ('dName', 'Ancient Egyptian deity')]\n",
      "[('obj', 'http://www.wikidata.org/entity/Q11772'), ('name', 'Ancient Greece'), ('dei', 'http://www.wikidata.org/entity/Q22989102'), ('dName', 'Greek deity')]\n",
      "2\n"
     ]
    }
   ],
   "source": [
    "# find for the ancient civilizations their deities\n",
    "queryString = \"\"\"\n",
    "SELECT DISTINCT ?obj ?name ?dei ?dName\n",
    "WHERE { \n",
    "    ?obj wdt:P31 wd:Q28171280.\n",
    "    ?dei wdt:P279 wd:Q178885;\n",
    "         wdt:P2596 ?obj.\n",
    "    ?obj sc:name ?name.\n",
    "    ?dei sc:name ?dName.\n",
    "} \n",
    "\"\"\"\n",
    "\n",
    "print(\"Results\")\n",
    "x=run_query(queryString)"
   ]
  },
  {
   "cell_type": "code",
   "execution_count": 108,
   "id": "e3410486-072a-4426-a0c8-479c68375759",
   "metadata": {},
   "outputs": [
    {
     "name": "stdout",
     "output_type": "stream",
     "text": [
      "Results\n",
      "[('obj', 'http://www.wikidata.org/entity/Q11772'), ('name', 'Ancient Greece'), ('deity', '252')]\n",
      "[('obj', 'http://www.wikidata.org/entity/Q11768'), ('name', 'Ancient Egypt'), ('deity', '281')]\n",
      "2\n"
     ]
    }
   ],
   "source": [
    "\n",
    "queryString = \"\"\"\n",
    "SELECT DISTINCT ?obj ?name  COUNT(DISTINCT ?div) as ?deity\n",
    "WHERE { \n",
    "    ?obj wdt:P31 wd:Q28171280.\n",
    "    ?dei wdt:P279 wd:Q178885;\n",
    "         wdt:P2596 ?obj.\n",
    "    ?div wdt:P31 ?dei.\n",
    "    ?obj sc:name ?name.\n",
    "} \n",
    "GROUP BY  ?obj ?name\n",
    "\"\"\"\n",
    "\n",
    "print(\"Results\")\n",
    "x=run_query(queryString)"
   ]
  },
  {
   "cell_type": "code",
   "execution_count": null,
   "id": "0c2ef626-b6b0-4896-855f-274d747ce5ee",
   "metadata": {},
   "outputs": [],
   "source": []
  }
 ],
 "metadata": {
  "kernelspec": {
   "display_name": "Python 3 (ipykernel)",
   "language": "python",
   "name": "python3"
  },
  "language_info": {
   "codemirror_mode": {
    "name": "ipython",
    "version": 3
   },
   "file_extension": ".py",
   "mimetype": "text/x-python",
   "name": "python",
   "nbconvert_exporter": "python",
   "pygments_lexer": "ipython3",
   "version": "3.10.6"
  }
 },
 "nbformat": 4,
 "nbformat_minor": 5
}
