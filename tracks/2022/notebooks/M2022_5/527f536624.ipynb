{
 "cells": [
  {
   "cell_type": "markdown",
   "id": "e91b0f12-d248-40e4-8a31-a5ac8069b172",
   "metadata": {},
   "source": [
    "# General instructions\n",
    "\n",
    "The goal of the project is to materialize a set of **exploratory workloads** over a real-world, large-scale,  open-domain KG: [WikiData](https://www.wikidata.org/wiki/Wikidata:Main_Page)\n",
    "\n",
    "An exploratory workload  is composed by a set of queries, where each query is related to the information obtained previously.\n",
    "\n",
    "An exploratory workload starts with a usually vague, open ended question, and does not assume the person issuing the workload has a clear understanding of the data contained in the target database or its structure.\n",
    "\n",
    "Remeber that:\n",
    "\n",
    "1. All the queries must run in the python notebook\n",
    "2. You can use classes and properties only if you find them via a SPARQL query that must be present in the notebook\n",
    "3. You do not delete useless queries. Keep everything that is synthatically valid \n",
    "\n",
    "```\n",
    "?p <http://schema.org/name> ?name .\n",
    "```\n",
    "    \n",
    "    is the BGP returning a human-readable name of a property or a class in Wikidata.\n",
    "    \n",
    "    "
   ]
  },
  {
   "cell_type": "code",
   "execution_count": 158,
   "id": "636dcb6c-6634-4c6c-bcc2-3119f844cb56",
   "metadata": {},
   "outputs": [],
   "source": [
    "## SETUP used later\n",
    "\n",
    "from SPARQLWrapper import SPARQLWrapper, JSON\n",
    "\n",
    "\n",
    "prefixString = \"\"\"\n",
    "##-527f536624-##\n",
    "PREFIX wd: <http://www.wikidata.org/entity/> \n",
    "PREFIX wdt: <http://www.wikidata.org/prop/direct/> \n",
    "PREFIX sc: <http://schema.org/>\n",
    "\"\"\"\n",
    "\n",
    "# select and construct queries\n",
    "def run_query(queryString,verbose = True):\n",
    "    to_run = prefixString + \"\\n\" + queryString\n",
    "\n",
    "    sparql = SPARQLWrapper(\"http://a256-gc1-03.srv.aau.dk:5820/sparql\")\n",
    "    sparql.setTimeout(300)\n",
    "    sparql.setReturnFormat(JSON)\n",
    "    sparql.setQuery(to_run)\n",
    "\n",
    "    try :\n",
    "        results = sparql.query()\n",
    "        json_results = results.convert()\n",
    "        if len(json_results['results']['bindings'])==0:\n",
    "            print(\"Empty\")\n",
    "            return []\n",
    "        array = []\n",
    "        for bindings in json_results['results']['bindings']:\n",
    "            app =  [ (var, value['value'])  for var, value in bindings.items() ] \n",
    "            if verbose:\n",
    "                print( app)\n",
    "            array.append(app)\n",
    "        if verbose:\n",
    "            print(len(array))\n",
    "        return array\n",
    "\n",
    "    except Exception as e :\n",
    "        print(\"The operation failed\", e)\n",
    "    \n",
    "# ASk queries\n",
    "def run_ask_query(queryString):\n",
    "    to_run = prefixString + \"\\n\" + queryString\n",
    "\n",
    "    sparql = SPARQLWrapper(\"http://a256-gc1-03.srv.aau.dk:5820/sparql\")\n",
    "    sparql.setTimeout(300)\n",
    "    sparql.setReturnFormat(JSON)\n",
    "    sparql.setQuery(to_run)\n",
    "\n",
    "    try :\n",
    "        return sparql.query().convert()\n",
    "\n",
    "    except Exception as e :\n",
    "        print(\"The operation failed\", e)"
   ]
  },
  {
   "cell_type": "markdown",
   "id": "c1c71805",
   "metadata": {},
   "source": [
    "# Movie Workflow Series (\"Tv series Without a Trace explorative search\") \n",
    "\n",
    "\n",
    "Consider the following exploratory scenario:\n",
    "\n",
    "\n",
    "> we are interested in the TV series \"Without a Trace\" and we want to investigate the main aspects related to the actors and directors involved in the production, know the numerber of seasons and check what are the episodes which got the higher success/impact.\n",
    "\n",
    "\n",
    "## Useful URIs for the current workflow\n",
    "The following are given:\n",
    "\n",
    "| IRI           | Description   | Role      |\n",
    "| -----------   | -----------   |-----------|\n",
    "| `wdt:P1647`   | subproperty   | predicate |\n",
    "| `wdt:P31`     | instance of   | predicate |\n",
    "| `wdt:P106`    | profession    | predicate | \n",
    "| `wdt:P279`    | subclass      | predicate |\n",
    "| `wdt:P4969`    | derivative work      | predicate |\n",
    "| `wd:Q826477` | Without a Trace    | node |\n",
    "| `wd:Q733960` | Cold Case       | node |\n",
    "\n",
    "\n",
    "\n",
    "Also consider\n",
    "\n",
    "```\n",
    "wd:Q826477 ?p ?obj .\n",
    "```\n",
    "\n",
    "is the BGP to retrieve all **properties of Without a Trace**\n",
    "\n",
    "Please consider that when you return a resource, you should return the IRI and the label of the resource. In particular, when the task require you to identify a BGP the result set must always be a list of couples IRI - label.\n",
    "\n",
    "\n",
    "\n",
    "The workload should\n",
    "\n",
    "1. Identify the BGP for television series\n",
    "\n",
    "2. Return the number of seasons and episodes per season of the tv series (the result set must be triples of season IRI, label and #episodes).\n",
    "\n",
    "3. Get the number of episodes in which the cast members played a role. Who are the most present actors? (the result set must be a list of triples actor/actress IRI, label and #episodes)\n",
    "\n",
    "4. Check who is the actor who acted in more films while working on \"Without a Trace\" (the result set must be a list of triples actor/actress IRI, label and #films).\n",
    "\n",
    "5. Compare Without a Trace with the tv series \"Cold Case\" in terms of number of seasons, episods and cast members (the result set must be two elements -one for each tv series- of tv series IRI, label, #seasons, #episodes and #cast members).\n",
    "\n",
    "6. Return the actors who are members of the cast of Without a Trace have [Kavin Bacon number](https://en.wikipedia.org/wiki/Six_Degrees_of_Kevin_Bacon#:~:text=Kevin%20Bacon%20himself%20has%20a,Bacon%20number%20is%20N%2B1.) equal to 2 (the result set must be a list of couples actor/actress IRI and label).\n",
    "\n",
    "7. Consider the actors who are members of the cast of Cold Case. Amongst the tv series which these actors acted return only those which received more than 2 awards (the result set must be triples of tv series IRI, label, #awards won)."
   ]
  },
  {
   "cell_type": "markdown",
   "id": "5fa01251",
   "metadata": {},
   "source": [
    "## Task 1\n",
    "Identify the BGP for television series"
   ]
  },
  {
   "cell_type": "code",
   "execution_count": 160,
   "id": "744500da-e6e1-43f5-8a1f-4a38083f4482",
   "metadata": {},
   "outputs": [
    {
     "name": "stdout",
     "output_type": "stream",
     "text": [
      "Results\n",
      "[('obj', 'http://www.wikidata.org/entity/Q5398426'), ('label', 'television series')]\n",
      "1\n"
     ]
    }
   ],
   "source": [
    "# query example\n",
    "queryString = \"\"\"\n",
    "SELECT DISTINCT ?obj ?label\n",
    "WHERE {\n",
    "   # bind something\n",
    "   wd:Q826477 wdt:P31 ?obj .\n",
    "   # get the label\n",
    "   ?obj sc:name ?label.\n",
    "}\n",
    "LIMIT 20\n",
    "\n",
    "\"\"\"\n",
    "\n",
    "print(\"Results\")\n",
    "x=run_query(queryString)"
   ]
  },
  {
   "cell_type": "markdown",
   "id": "38b72978",
   "metadata": {},
   "source": [
    "Final query for this task"
   ]
  },
  {
   "cell_type": "code",
   "execution_count": 161,
   "id": "713be342",
   "metadata": {},
   "outputs": [
    {
     "name": "stdout",
     "output_type": "stream",
     "text": [
      "Results\n",
      "[('p', 'http://www.wikidata.org/prop/direct/P9374'), ('label', 'ODLIS ID')]\n",
      "[('p', 'http://www.wikidata.org/prop/direct/P1296'), ('label', 'Gran Enciclopèdia Catalana ID')]\n",
      "[('p', 'http://www.wikidata.org/prop/direct/P1424'), ('label', \"topic's main template\")]\n",
      "[('p', 'http://www.wikidata.org/prop/direct/P1709'), ('label', 'equivalent class')]\n",
      "[('p', 'http://www.wikidata.org/prop/direct/P1889'), ('label', 'different from')]\n",
      "[('p', 'http://www.wikidata.org/prop/direct/P1963'), ('label', 'properties for this type')]\n",
      "[('p', 'http://www.wikidata.org/prop/direct/P227'), ('label', 'GND ID')]\n",
      "[('p', 'http://www.wikidata.org/prop/direct/P2670'), ('label', 'has parts of the class')]\n",
      "[('p', 'http://www.wikidata.org/prop/direct/P2671'), ('label', 'Google Knowledge Graph ID')]\n",
      "[('p', 'http://www.wikidata.org/prop/direct/P279'), ('label', 'subclass of')]\n",
      "[('p', 'http://www.wikidata.org/prop/direct/P3219'), ('label', 'Encyclopædia Universalis ID')]\n",
      "[('p', 'http://www.wikidata.org/prop/direct/P3417'), ('label', 'Quora topic ID')]\n",
      "[('p', 'http://www.wikidata.org/prop/direct/P3479'), ('label', 'Omni topic ID')]\n",
      "[('p', 'http://www.wikidata.org/prop/direct/P3569'), ('label', 'Cultureel Woordenboek ID')]\n",
      "[('p', 'http://www.wikidata.org/prop/direct/P373'), ('label', 'Commons category')]\n",
      "[('p', 'http://www.wikidata.org/prop/direct/P4953'), ('label', 'Library of Congress Genre/Form Terms ID')]\n",
      "[('p', 'http://www.wikidata.org/prop/direct/P5869'), ('label', 'model item')]\n",
      "[('p', 'http://www.wikidata.org/prop/direct/P6104'), ('label', 'maintained by WikiProject')]\n",
      "[('p', 'http://www.wikidata.org/prop/direct/P6186'), ('label', 'category for eponymous categories')]\n",
      "[('p', 'http://www.wikidata.org/prop/direct/P7818'), ('label', 'French Vikidia ID')]\n",
      "[('p', 'http://www.wikidata.org/prop/direct/P8408'), ('label', 'KBpedia ID')]\n",
      "[('p', 'http://www.wikidata.org/prop/direct/P8419'), ('label', 'Archive of Our Own tag')]\n",
      "[('p', 'http://www.wikidata.org/prop/direct/P910'), ('label', \"topic's main category\")]\n",
      "[('p', 'http://www.wikidata.org/prop/direct/P9318'), ('label', 'Ávvir topic ID')]\n",
      "[('p', 'http://www.wikidata.org/prop/direct/P8979'), ('label', 'DataTrek ID')]\n",
      "25\n"
     ]
    }
   ],
   "source": [
    "queryString = \"\"\"\n",
    "SELECT DISTINCT ?p ?label\n",
    "WHERE {\n",
    "   # BGP for television series\n",
    "   wd:Q5398426 ?p ?obj .\n",
    "   \n",
    "   # Get the label\n",
    "   ?p sc:name ?label.\n",
    "}\n",
    "LIMIT 50\n",
    "\n",
    "\"\"\"\n",
    "\n",
    "print(\"Results\")\n",
    "x=run_query(queryString)"
   ]
  },
  {
   "cell_type": "markdown",
   "id": "6dee733d",
   "metadata": {},
   "source": [
    "## Task 2\n",
    "Return the number of seasons and episodes per season of the tv series (the result set must be triples of season IRI, label and #episodes)."
   ]
  },
  {
   "cell_type": "code",
   "execution_count": 166,
   "id": "59727e8f",
   "metadata": {},
   "outputs": [
    {
     "name": "stdout",
     "output_type": "stream",
     "text": [
      "Results\n",
      "[('p', 'http://www.wikidata.org/prop/direct/P750'), ('property', 'distributed by'), ('label', 'Warner Bros. Television Studios')]\n",
      "[('p', 'http://www.wikidata.org/prop/direct/P449'), ('property', 'original broadcaster'), ('label', 'CBS')]\n",
      "[('p', 'http://www.wikidata.org/prop/direct/P161'), ('property', 'cast member'), ('label', 'Anthony LaPaglia')]\n",
      "[('p', 'http://www.wikidata.org/prop/direct/P364'), ('property', 'original language of film or TV show'), ('label', 'English')]\n",
      "[('p', 'http://www.wikidata.org/prop/direct/P495'), ('property', 'country of origin'), ('label', 'United States of America')]\n",
      "[('p', 'http://www.wikidata.org/prop/direct/P31'), ('property', 'instance of'), ('label', 'television series')]\n",
      "[('p', 'http://www.wikidata.org/prop/direct/P840'), ('property', 'narrative location'), ('label', 'New York City')]\n",
      "[('p', 'http://www.wikidata.org/prop/direct/P2061'), ('property', 'aspect ratio'), ('label', '16:9 aspect ratio')]\n",
      "[('p', 'http://www.wikidata.org/prop/direct/P136'), ('property', 'genre'), ('label', 'police procedural')]\n",
      "[('p', 'http://www.wikidata.org/prop/direct/P136'), ('property', 'genre'), ('label', 'crime serial')]\n",
      "[('p', 'http://www.wikidata.org/prop/direct/P161'), ('property', 'cast member'), ('label', 'Poppy Montgomery')]\n",
      "[('p', 'http://www.wikidata.org/prop/direct/P527'), ('property', 'has part'), ('label', 'Without a Trace, season 1')]\n",
      "[('p', 'http://www.wikidata.org/prop/direct/P527'), ('property', 'has part'), ('label', 'Without a Trace, season 4')]\n",
      "[('p', 'http://www.wikidata.org/prop/direct/P527'), ('property', 'has part'), ('label', 'Without a Trace, season 5')]\n",
      "[('p', 'http://www.wikidata.org/prop/direct/P527'), ('property', 'has part'), ('label', 'Without a Trace, season 2')]\n",
      "[('p', 'http://www.wikidata.org/prop/direct/P527'), ('property', 'has part'), ('label', 'Without a Trace, season 6')]\n",
      "[('p', 'http://www.wikidata.org/prop/direct/P527'), ('property', 'has part'), ('label', 'Without a Trace, season 7')]\n",
      "[('p', 'http://www.wikidata.org/prop/direct/P170'), ('property', 'creator'), ('label', 'Hank Steinberg')]\n",
      "[('p', 'http://www.wikidata.org/prop/direct/P674'), ('property', 'characters'), ('label', 'Samantha Spade')]\n",
      "[('p', 'http://www.wikidata.org/prop/direct/P527'), ('property', 'has part'), ('label', 'Without a Trace, season 3')]\n",
      "[('p', 'http://www.wikidata.org/prop/direct/P674'), ('property', 'characters'), ('label', 'Jack Malone')]\n",
      "[('p', 'http://www.wikidata.org/prop/direct/P1811'), ('property', 'list of episodes'), ('label', 'list of Without a Trace episodes')]\n",
      "22\n"
     ]
    }
   ],
   "source": [
    "queryString = \"\"\"\n",
    "SELECT DISTINCT ?p ?property ?label\n",
    "WHERE {\n",
    "\n",
    "     wd:Q826477 ?p ?obj.\n",
    "     ?p sc:name ?property.\n",
    "     ?obj sc:name ?label.\n",
    "\n",
    "  \n",
    "} LIMIT 50\n",
    "\n",
    "\n",
    "\"\"\"\n",
    "\n",
    "print(\"Results\")\n",
    "x=run_query(queryString)"
   ]
  },
  {
   "cell_type": "markdown",
   "id": "036e812c",
   "metadata": {},
   "source": [
    "Final query for this task"
   ]
  },
  {
   "cell_type": "code",
   "execution_count": 169,
   "id": "05c2e62e",
   "metadata": {},
   "outputs": [
    {
     "name": "stdout",
     "output_type": "stream",
     "text": [
      "Results\n",
      "[('IRI', 'http://www.wikidata.org/entity/Q1120248'), ('label', 'Without a Trace, season 1'), ('episodes', '23')]\n",
      "[('IRI', 'http://www.wikidata.org/entity/Q3729811'), ('label', 'Without a Trace, season 5'), ('episodes', '24')]\n",
      "[('IRI', 'http://www.wikidata.org/entity/Q3729815'), ('label', 'Without a Trace, season 6'), ('episodes', '18')]\n",
      "[('IRI', 'http://www.wikidata.org/entity/Q3729810'), ('label', 'Without a Trace, season 4'), ('episodes', '24')]\n",
      "[('IRI', 'http://www.wikidata.org/entity/Q3729817'), ('label', 'Without a Trace, season 3'), ('episodes', '23')]\n",
      "[('IRI', 'http://www.wikidata.org/entity/Q3729816'), ('label', 'Without a Trace, season 7'), ('episodes', '24')]\n",
      "[('IRI', 'http://www.wikidata.org/entity/Q3729812'), ('label', 'Without a Trace, season 2'), ('episodes', '24')]\n",
      "7\n"
     ]
    }
   ],
   "source": [
    "queryString = \"\"\"\n",
    "SELECT DISTINCT ?IRI ?label (count(?ep) AS ?episodes)\n",
    "WHERE {\n",
    " \n",
    " # Get the IRI and label of seasons\n",
    " wd:Q826477 wdt:P527 ?IRI.\n",
    " ?IRI sc:name ?label.\n",
    " \n",
    " # Get the number of episodes\n",
    " ?IRI wdt:P527 ?ep.\n",
    " \n",
    "  \n",
    "}GROUP BY ?label ?IRI\n",
    "\"\"\"\n",
    "\n",
    "print(\"Results\")\n",
    "x=run_query(queryString)"
   ]
  },
  {
   "cell_type": "markdown",
   "id": "2366c377",
   "metadata": {},
   "source": [
    "## Task 3\n",
    "Get the number of episodes in which the cast members played a role. Who are the most present actors? (the result set must be a list of triples actor/actress IRI, label and #episodes)"
   ]
  },
  {
   "cell_type": "code",
   "execution_count": 172,
   "id": "1ac0ad27",
   "metadata": {},
   "outputs": [
    {
     "name": "stdout",
     "output_type": "stream",
     "text": [
      "Results\n",
      "[('cast', 'http://www.wikidata.org/entity/Q373989'), ('name', 'David Paymer')]\n",
      "[('cast', 'http://www.wikidata.org/entity/Q139341'), ('name', 'Zach Grenier')]\n",
      "[('cast', 'http://www.wikidata.org/entity/Q3265830'), ('name', 'Lucille Soong')]\n",
      "[('cast', 'http://www.wikidata.org/entity/Q430872'), ('name', 'Marianne Jean-Baptiste')]\n",
      "[('cast', 'http://www.wikidata.org/entity/Q430872'), ('name', 'Marianne Jean-Baptiste')]\n",
      "[('cast', 'http://www.wikidata.org/entity/Q430872'), ('name', 'Marianne Jean-Baptiste')]\n",
      "[('cast', 'http://www.wikidata.org/entity/Q430872'), ('name', 'Marianne Jean-Baptiste')]\n",
      "[('cast', 'http://www.wikidata.org/entity/Q430872'), ('name', 'Marianne Jean-Baptiste')]\n",
      "[('cast', 'http://www.wikidata.org/entity/Q430872'), ('name', 'Marianne Jean-Baptiste')]\n",
      "[('cast', 'http://www.wikidata.org/entity/Q430872'), ('name', 'Marianne Jean-Baptiste')]\n",
      "[('cast', 'http://www.wikidata.org/entity/Q430872'), ('name', 'Marianne Jean-Baptiste')]\n",
      "[('cast', 'http://www.wikidata.org/entity/Q430872'), ('name', 'Marianne Jean-Baptiste')]\n",
      "[('cast', 'http://www.wikidata.org/entity/Q430872'), ('name', 'Marianne Jean-Baptiste')]\n",
      "[('cast', 'http://www.wikidata.org/entity/Q430872'), ('name', 'Marianne Jean-Baptiste')]\n",
      "[('cast', 'http://www.wikidata.org/entity/Q430872'), ('name', 'Marianne Jean-Baptiste')]\n",
      "[('cast', 'http://www.wikidata.org/entity/Q430872'), ('name', 'Marianne Jean-Baptiste')]\n",
      "[('cast', 'http://www.wikidata.org/entity/Q430872'), ('name', 'Marianne Jean-Baptiste')]\n",
      "[('cast', 'http://www.wikidata.org/entity/Q430872'), ('name', 'Marianne Jean-Baptiste')]\n",
      "[('cast', 'http://www.wikidata.org/entity/Q430872'), ('name', 'Marianne Jean-Baptiste')]\n",
      "[('cast', 'http://www.wikidata.org/entity/Q430872'), ('name', 'Marianne Jean-Baptiste')]\n",
      "20\n"
     ]
    }
   ],
   "source": [
    "queryString = \"\"\"\n",
    "SELECT ?cast ?name \n",
    "WHERE {\n",
    "\n",
    "  wd:Q826477 wdt:P527 ?obj.\n",
    "  #?obj sc:name ?season.\n",
    "  ?obj wdt:P527 ?ep.\n",
    "  ?ep wdt:P161 ?cast.\n",
    "  ?cast sc:name ?name.\n",
    "  #wd:Q1120248 wdt:P527 ?ep.\n",
    "  #?ep wdt:P161 ?cast.\n",
    "} ORDER BY DESC(?numEpisodes) LIMIT 20\n",
    "\"\"\"\n",
    "\n",
    "print(\"Results\")\n",
    "x=run_query(queryString)"
   ]
  },
  {
   "cell_type": "markdown",
   "id": "db0a2aef",
   "metadata": {},
   "source": [
    "Final query for this task"
   ]
  },
  {
   "cell_type": "code",
   "execution_count": 170,
   "id": "331a9732",
   "metadata": {},
   "outputs": [
    {
     "name": "stdout",
     "output_type": "stream",
     "text": [
      "Results\n",
      "[('cast', 'http://www.wikidata.org/entity/Q308124'), ('name', 'Anthony LaPaglia'), ('numEpisodes', '160')]\n",
      "[('cast', 'http://www.wikidata.org/entity/Q235075'), ('name', 'Poppy Montgomery'), ('numEpisodes', '160')]\n",
      "[('cast', 'http://www.wikidata.org/entity/Q503040'), ('name', 'Eric Close'), ('numEpisodes', '160')]\n",
      "[('cast', 'http://www.wikidata.org/entity/Q551608'), ('name', 'Enrique Murciano'), ('numEpisodes', '160')]\n",
      "[('cast', 'http://www.wikidata.org/entity/Q430872'), ('name', 'Marianne Jean-Baptiste'), ('numEpisodes', '160')]\n",
      "[('cast', 'http://www.wikidata.org/entity/Q459638'), ('name', 'Stacy Edwards'), ('numEpisodes', '1')]\n",
      "[('cast', 'http://www.wikidata.org/entity/Q706513'), ('name', 'Charles S. Dutton'), ('numEpisodes', '1')]\n",
      "[('cast', 'http://www.wikidata.org/entity/Q5363239'), ('name', 'Elizabeth Morehead'), ('numEpisodes', '1')]\n",
      "[('cast', 'http://www.wikidata.org/entity/Q64684485'), ('name', 'Caris Vujcec'), ('numEpisodes', '1')]\n",
      "[('cast', 'http://www.wikidata.org/entity/Q1721796'), ('name', 'Kaitlin Doubleday'), ('numEpisodes', '1')]\n",
      "[('cast', 'http://www.wikidata.org/entity/Q20651783'), ('name', 'Jenica Bergere'), ('numEpisodes', '1')]\n",
      "[('cast', 'http://www.wikidata.org/entity/Q297128'), ('name', 'David Henrie'), ('numEpisodes', '1')]\n",
      "[('cast', 'http://www.wikidata.org/entity/Q3260118'), ('name', 'Lou Cutell'), ('numEpisodes', '1')]\n",
      "[('cast', 'http://www.wikidata.org/entity/Q18618690'), ('name', 'John Livingston'), ('numEpisodes', '1')]\n",
      "[('cast', 'http://www.wikidata.org/entity/Q2927620'), ('name', 'Denise Dowse'), ('numEpisodes', '1')]\n",
      "[('cast', 'http://www.wikidata.org/entity/Q355163'), ('name', 'Bruce Davison'), ('numEpisodes', '1')]\n",
      "[('cast', 'http://www.wikidata.org/entity/Q1378361'), ('name', 'Kyle Secor'), ('numEpisodes', '1')]\n",
      "[('cast', 'http://www.wikidata.org/entity/Q2923471'), ('name', 'Bradford Tatum'), ('numEpisodes', '1')]\n",
      "[('cast', 'http://www.wikidata.org/entity/Q139341'), ('name', 'Zach Grenier'), ('numEpisodes', '1')]\n",
      "[('cast', 'http://www.wikidata.org/entity/Q3265830'), ('name', 'Lucille Soong'), ('numEpisodes', '1')]\n",
      "20\n"
     ]
    }
   ],
   "source": [
    "queryString = \"\"\"\n",
    "SELECT ?cast ?name (COUNT(?name) AS ?numEpisodes)\n",
    "WHERE {\n",
    " \n",
    "  # Get the season and episodes \n",
    "  wd:Q826477 wdt:P527 ?obj.\n",
    "  #?obj sc:name ?season.\n",
    "  ?obj wdt:P527 ?ep.\n",
    "  \n",
    "  # Get the actor/actress IRI and label, then count\n",
    "  ?ep wdt:P161 ?cast.\n",
    "  ?cast sc:name ?name.\n",
    "  \n",
    "  \n",
    "} GROUP BY ?cast ?name ORDER BY DESC(?numEpisodes) LIMIT 20\n",
    "\"\"\"\n",
    "\n",
    "print(\"Results\")\n",
    "x=run_query(queryString)"
   ]
  },
  {
   "cell_type": "markdown",
   "id": "6c35e8c3",
   "metadata": {},
   "source": [
    "## Task 4\n",
    "Check who is the actor who acted in more films while working on \"Without a Trace\" (the result set must be a list of triples actor/actress IRI, label and #films)."
   ]
  },
  {
   "cell_type": "code",
   "execution_count": 143,
   "id": "68feb701",
   "metadata": {},
   "outputs": [
    {
     "name": "stdout",
     "output_type": "stream",
     "text": [
      "Results\n",
      "[('cast', 'http://www.wikidata.org/entity/Q308124'), ('name', 'Anthony LaPaglia'), ('NumFilms', '7520')]\n",
      "[('cast', 'http://www.wikidata.org/entity/Q459638'), ('name', 'Stacy Edwards'), ('NumFilms', '12')]\n",
      "[('cast', 'http://www.wikidata.org/entity/Q706513'), ('name', 'Charles S. Dutton'), ('NumFilms', '39')]\n",
      "[('cast', 'http://www.wikidata.org/entity/Q5363239'), ('name', 'Elizabeth Morehead'), ('NumFilms', '4')]\n",
      "[('cast', 'http://www.wikidata.org/entity/Q235075'), ('name', 'Poppy Montgomery'), ('NumFilms', '800')]\n",
      "[('cast', 'http://www.wikidata.org/entity/Q20651783'), ('name', 'Jenica Bergere'), ('NumFilms', '7')]\n",
      "[('cast', 'http://www.wikidata.org/entity/Q503040'), ('name', 'Eric Close'), ('NumFilms', '640')]\n",
      "[('cast', 'http://www.wikidata.org/entity/Q1721796'), ('name', 'Kaitlin Doubleday'), ('NumFilms', '3')]\n",
      "[('cast', 'http://www.wikidata.org/entity/Q297128'), ('name', 'David Henrie'), ('NumFilms', '5')]\n",
      "[('cast', 'http://www.wikidata.org/entity/Q3260118'), ('name', 'Lou Cutell'), ('NumFilms', '15')]\n",
      "[('cast', 'http://www.wikidata.org/entity/Q18618690'), ('name', 'John Livingston'), ('NumFilms', '5')]\n",
      "[('cast', 'http://www.wikidata.org/entity/Q2927620'), ('name', 'Denise Dowse'), ('NumFilms', '1')]\n",
      "[('cast', 'http://www.wikidata.org/entity/Q551608'), ('name', 'Enrique Murciano'), ('NumFilms', '1600')]\n",
      "[('cast', 'http://www.wikidata.org/entity/Q355163'), ('name', 'Bruce Davison'), ('NumFilms', '55')]\n",
      "[('cast', 'http://www.wikidata.org/entity/Q1378361'), ('name', 'Kyle Secor'), ('NumFilms', '9')]\n",
      "[('cast', 'http://www.wikidata.org/entity/Q2923471'), ('name', 'Bradford Tatum'), ('NumFilms', '3')]\n",
      "[('cast', 'http://www.wikidata.org/entity/Q3265830'), ('name', 'Lucille Soong'), ('NumFilms', '7')]\n",
      "[('cast', 'http://www.wikidata.org/entity/Q139341'), ('name', 'Zach Grenier'), ('NumFilms', '28')]\n",
      "[('cast', 'http://www.wikidata.org/entity/Q1125651'), ('name', 'Thom Barry'), ('NumFilms', '15')]\n",
      "[('cast', 'http://www.wikidata.org/entity/Q4769249'), ('name', 'Annie Burgstede'), ('NumFilms', '2')]\n",
      "[('cast', 'http://www.wikidata.org/entity/Q19519424'), ('name', 'Jessie Usher'), ('NumFilms', '6')]\n",
      "[('cast', 'http://www.wikidata.org/entity/Q445325'), ('name', 'Megan Gallagher'), ('NumFilms', '5')]\n",
      "[('cast', 'http://www.wikidata.org/entity/Q22704603'), ('name', 'Lily Knight'), ('NumFilms', '4')]\n",
      "[('cast', 'http://www.wikidata.org/entity/Q430872'), ('name', 'Marianne Jean-Baptiste'), ('NumFilms', '3520')]\n",
      "[('cast', 'http://www.wikidata.org/entity/Q373989'), ('name', 'David Paymer'), ('NumFilms', '53')]\n",
      "[('cast', 'http://www.wikidata.org/entity/Q238501'), ('name', 'Alex Veadov'), ('NumFilms', '10')]\n",
      "[('cast', 'http://www.wikidata.org/entity/Q462343'), ('name', 'Rosemary Forsyth'), ('NumFilms', '12')]\n",
      "[('cast', 'http://www.wikidata.org/entity/Q60545340'), ('name', 'Lindsey Kraft'), ('NumFilms', '1')]\n",
      "28\n"
     ]
    }
   ],
   "source": [
    "queryString = \"\"\"\n",
    "SELECT DISTINCT ?cast ?name (COUNT(?name) AS ?NumFilms)\n",
    "WHERE {\n",
    "  \n",
    "  #Get the list of cast memebers in Without A Trace\n",
    "  wd:Q826477 wdt:P527 ?obj. #WithOutATrance has parts \n",
    "  #?obj sc:name ?season. \n",
    "  ?obj wdt:P527 ?ep. #has parts has episodes\n",
    "  ?ep wdt:P161 ?cast. #episodes have cast member\n",
    "  ?cast sc:name ?name.\n",
    "  \n",
    "  #Get the films names for the above cast members\n",
    "  ?filmName wdt:P161 ?cast.\n",
    "  ?filmName sc:name ?film.\n",
    "  \n",
    "  #Filtering all the films with intance as \"film\"\n",
    "  ?filmName wdt:P31 ?o. #film has instance as object\n",
    "  ?o sc:name ?instance.\n",
    "  \n",
    "  FILTER(str(?instance) = \"film\").\n",
    "  \n",
    "} GROUP BY ?cast ?name\n",
    "LIMIT 50\n",
    "\"\"\"\n",
    "\n",
    "print(\"Results\")\n",
    "x=run_query(queryString)"
   ]
  },
  {
   "cell_type": "markdown",
   "id": "7eb61a2d-b552-4260-8a6b-0d49a8776b3d",
   "metadata": {},
   "source": [
    "Final query for this task"
   ]
  },
  {
   "cell_type": "code",
   "execution_count": 145,
   "id": "693c46c3",
   "metadata": {},
   "outputs": [
    {
     "name": "stdout",
     "output_type": "stream",
     "text": [
      "Results\n",
      "[('cast', 'http://www.wikidata.org/entity/Q308124'), ('name', 'Anthony LaPaglia'), ('NumFilms', '7520')]\n",
      "[('cast', 'http://www.wikidata.org/entity/Q459638'), ('name', 'Stacy Edwards'), ('NumFilms', '12')]\n",
      "[('cast', 'http://www.wikidata.org/entity/Q706513'), ('name', 'Charles S. Dutton'), ('NumFilms', '39')]\n",
      "[('cast', 'http://www.wikidata.org/entity/Q5363239'), ('name', 'Elizabeth Morehead'), ('NumFilms', '4')]\n",
      "[('cast', 'http://www.wikidata.org/entity/Q235075'), ('name', 'Poppy Montgomery'), ('NumFilms', '800')]\n",
      "[('cast', 'http://www.wikidata.org/entity/Q20651783'), ('name', 'Jenica Bergere'), ('NumFilms', '7')]\n",
      "[('cast', 'http://www.wikidata.org/entity/Q503040'), ('name', 'Eric Close'), ('NumFilms', '640')]\n",
      "[('cast', 'http://www.wikidata.org/entity/Q1721796'), ('name', 'Kaitlin Doubleday'), ('NumFilms', '3')]\n",
      "[('cast', 'http://www.wikidata.org/entity/Q297128'), ('name', 'David Henrie'), ('NumFilms', '5')]\n",
      "[('cast', 'http://www.wikidata.org/entity/Q3260118'), ('name', 'Lou Cutell'), ('NumFilms', '15')]\n",
      "[('cast', 'http://www.wikidata.org/entity/Q18618690'), ('name', 'John Livingston'), ('NumFilms', '5')]\n",
      "[('cast', 'http://www.wikidata.org/entity/Q2927620'), ('name', 'Denise Dowse'), ('NumFilms', '1')]\n",
      "[('cast', 'http://www.wikidata.org/entity/Q551608'), ('name', 'Enrique Murciano'), ('NumFilms', '1600')]\n",
      "[('cast', 'http://www.wikidata.org/entity/Q355163'), ('name', 'Bruce Davison'), ('NumFilms', '55')]\n",
      "[('cast', 'http://www.wikidata.org/entity/Q1378361'), ('name', 'Kyle Secor'), ('NumFilms', '9')]\n",
      "[('cast', 'http://www.wikidata.org/entity/Q2923471'), ('name', 'Bradford Tatum'), ('NumFilms', '3')]\n",
      "[('cast', 'http://www.wikidata.org/entity/Q3265830'), ('name', 'Lucille Soong'), ('NumFilms', '7')]\n",
      "[('cast', 'http://www.wikidata.org/entity/Q139341'), ('name', 'Zach Grenier'), ('NumFilms', '28')]\n",
      "[('cast', 'http://www.wikidata.org/entity/Q1125651'), ('name', 'Thom Barry'), ('NumFilms', '15')]\n",
      "[('cast', 'http://www.wikidata.org/entity/Q4769249'), ('name', 'Annie Burgstede'), ('NumFilms', '2')]\n",
      "[('cast', 'http://www.wikidata.org/entity/Q19519424'), ('name', 'Jessie Usher'), ('NumFilms', '6')]\n",
      "[('cast', 'http://www.wikidata.org/entity/Q445325'), ('name', 'Megan Gallagher'), ('NumFilms', '5')]\n",
      "[('cast', 'http://www.wikidata.org/entity/Q22704603'), ('name', 'Lily Knight'), ('NumFilms', '4')]\n",
      "[('cast', 'http://www.wikidata.org/entity/Q430872'), ('name', 'Marianne Jean-Baptiste'), ('NumFilms', '3520')]\n",
      "[('cast', 'http://www.wikidata.org/entity/Q373989'), ('name', 'David Paymer'), ('NumFilms', '53')]\n",
      "[('cast', 'http://www.wikidata.org/entity/Q238501'), ('name', 'Alex Veadov'), ('NumFilms', '10')]\n",
      "[('cast', 'http://www.wikidata.org/entity/Q462343'), ('name', 'Rosemary Forsyth'), ('NumFilms', '12')]\n",
      "[('cast', 'http://www.wikidata.org/entity/Q60545340'), ('name', 'Lindsey Kraft'), ('NumFilms', '1')]\n",
      "28\n"
     ]
    }
   ],
   "source": [
    "queryString = \"\"\"\n",
    "SELECT DISTINCT ?cast ?name (COUNT(?name) AS ?NumFilms)\n",
    "WHERE {\n",
    "  \n",
    "  #Get the list of cast memebers in Without A Trace\n",
    "  wd:Q826477 wdt:P527 ?obj.\n",
    "  #?obj sc:name ?season. \n",
    "  ?obj wdt:P527 ?ep.\n",
    "  ?ep wdt:P161 ?cast.\n",
    "  ?cast sc:name ?name.\n",
    "  \n",
    "  #Get the films names for the above cast members\n",
    "  ?filmName wdt:P161 ?cast.\n",
    "  ?filmName sc:name ?film.\n",
    "  \n",
    "  #Filtering all the films with intance as \"film\"\n",
    "  ?filmName wdt:P31 ?o. #film has instance as object\n",
    "  ?o sc:name ?instance.\n",
    "  \n",
    "  FILTER(str(?instance) = \"film\").\n",
    "  \n",
    "} GROUP BY ?cast ?name\n",
    "LIMIT 50\n",
    "\"\"\"\n",
    "\n",
    "print(\"Results\")\n",
    "x=run_query(queryString)"
   ]
  },
  {
   "cell_type": "markdown",
   "id": "bdb0f752",
   "metadata": {},
   "source": [
    "## Task 5\n",
    "Compare Without a Trace with the tv series \"Cold Case\" in terms of number of seasons, episods and cast members (the result set must be two elements -one for each tv series- of tv series IRI, label, #seasons, #episodes and #cast members)."
   ]
  },
  {
   "cell_type": "code",
   "execution_count": 186,
   "id": "70cc7a72",
   "metadata": {},
   "outputs": [
    {
     "name": "stdout",
     "output_type": "stream",
     "text": [
      "Results\n",
      "[('s', 'http://www.wikidata.org/entity/Q733960'), ('name', 'Cold Case')]\n",
      "[('s', 'http://www.wikidata.org/entity/Q826477'), ('name', 'Without a Trace')]\n",
      "2\n"
     ]
    }
   ],
   "source": [
    "queryString = \"\"\"\n",
    "SELECT ?s ?name ?NumSeasons\n",
    "WHERE {\n",
    "  \n",
    "  #Get the IRI of both the tv series\n",
    "  ?s wdt:P31 wd:Q5398426.\n",
    "  ?s sc:name ?name.\n",
    "  \n",
    "  FILTER(str(?name) = \"Without a Trace\" || str(?name) = \"Cold Case\").\n",
    "  \n",
    " \n",
    "} LIMIT 10\n",
    "\"\"\"\n",
    "\n",
    "print(\"Results\")\n",
    "x=run_query(queryString)"
   ]
  },
  {
   "cell_type": "markdown",
   "id": "46095170",
   "metadata": {},
   "source": [
    "Final query for this task"
   ]
  },
  {
   "cell_type": "code",
   "execution_count": 191,
   "id": "09573a16",
   "metadata": {},
   "outputs": [
    {
     "name": "stdout",
     "output_type": "stream",
     "text": [
      "Results\n",
      "[('IRI', 'http://www.wikidata.org/entity/Q733960'), ('label', 'Cold Case'), ('seasons', '7'), ('episodes', '156'), ('castMembers', '478')]\n",
      "[('IRI', 'http://www.wikidata.org/entity/Q826477'), ('label', 'Without a Trace'), ('seasons', '7'), ('episodes', '160'), ('castMembers', '2')]\n",
      "2\n"
     ]
    }
   ],
   "source": [
    "queryString = \"\"\"\n",
    "SELECT ?IRI ?label ?seasons ?episodes (COUNT(?castName) AS ?castMembers)\n",
    "WHERE {\n",
    "  \n",
    "  #Get the IRI and label of both the tv series\n",
    "  ?IRI wdt:P31 wd:Q5398426.\n",
    "  ?IRI sc:name ?label.\n",
    "  \n",
    "  FILTER(str(?label) = \"Without a Trace\" || str(?label) = \"Cold Case\").\n",
    "  \n",
    "  # Get the number of seasons\n",
    "  ?IRI wdt:P2437 ?seasons.\n",
    "  \n",
    "  # Get the number of episodes\n",
    "  ?IRI wdt:P1113 ?episodes.\n",
    "  \n",
    "  # Get the number of cast members\n",
    "  ?IRI wdt:P161 ?cast.\n",
    "  ?cast sc:name ?castName.\n",
    "  \n",
    " \n",
    "} GROUP BY ?IRI ?label ?seasons ?episodes\n",
    "LIMIT 20\n",
    "\"\"\"\n",
    "\n",
    "print(\"Results\")\n",
    "x=run_query(queryString)"
   ]
  },
  {
   "cell_type": "markdown",
   "id": "a20f5356",
   "metadata": {},
   "source": [
    "## Task 6\n",
    "Return the actors who are members of the cast of Without a Trace have [Kavin Bacon number](https://en.wikipedia.org/wiki/Six_Degrees_of_Kevin_Bacon#:~:text=Kevin%20Bacon%20himself%20has%20a,Bacon%20number%20is%20N%2B1.) equal to 2 (the result set must be a list of couples actor/actress IRI and label)."
   ]
  },
  {
   "cell_type": "code",
   "execution_count": 194,
   "id": "2483e356",
   "metadata": {},
   "outputs": [
    {
     "name": "stdout",
     "output_type": "stream",
     "text": [
      "Results\n",
      "[('cast', 'http://www.wikidata.org/entity/Q373989'), ('name', 'David Paymer')]\n",
      "[('cast', 'http://www.wikidata.org/entity/Q430872'), ('name', 'Marianne Jean-Baptiste')]\n",
      "[('cast', 'http://www.wikidata.org/entity/Q139341'), ('name', 'Zach Grenier')]\n",
      "[('cast', 'http://www.wikidata.org/entity/Q3265830'), ('name', 'Lucille Soong')]\n",
      "[('cast', 'http://www.wikidata.org/entity/Q308124'), ('name', 'Anthony LaPaglia')]\n",
      "[('cast', 'http://www.wikidata.org/entity/Q238501'), ('name', 'Alex Veadov')]\n",
      "[('cast', 'http://www.wikidata.org/entity/Q706513'), ('name', 'Charles S. Dutton')]\n",
      "[('cast', 'http://www.wikidata.org/entity/Q355163'), ('name', 'Bruce Davison')]\n",
      "[('cast', 'http://www.wikidata.org/entity/Q1125651'), ('name', 'Thom Barry')]\n",
      "[('cast', 'http://www.wikidata.org/entity/Q235075'), ('name', 'Poppy Montgomery')]\n",
      "[('cast', 'http://www.wikidata.org/entity/Q1721796'), ('name', 'Kaitlin Doubleday')]\n",
      "[('cast', 'http://www.wikidata.org/entity/Q445325'), ('name', 'Megan Gallagher')]\n",
      "[('cast', 'http://www.wikidata.org/entity/Q22704603'), ('name', 'Lily Knight')]\n",
      "[('cast', 'http://www.wikidata.org/entity/Q20651783'), ('name', 'Jenica Bergere')]\n",
      "[('cast', 'http://www.wikidata.org/entity/Q459638'), ('name', 'Stacy Edwards')]\n",
      "[('cast', 'http://www.wikidata.org/entity/Q297128'), ('name', 'David Henrie')]\n",
      "[('cast', 'http://www.wikidata.org/entity/Q3260118'), ('name', 'Lou Cutell')]\n",
      "[('cast', 'http://www.wikidata.org/entity/Q1378361'), ('name', 'Kyle Secor')]\n",
      "[('cast', 'http://www.wikidata.org/entity/Q18618690'), ('name', 'John Livingston')]\n",
      "[('cast', 'http://www.wikidata.org/entity/Q551608'), ('name', 'Enrique Murciano')]\n",
      "[('cast', 'http://www.wikidata.org/entity/Q4769249'), ('name', 'Annie Burgstede')]\n",
      "[('cast', 'http://www.wikidata.org/entity/Q503040'), ('name', 'Eric Close')]\n",
      "[('cast', 'http://www.wikidata.org/entity/Q2923471'), ('name', 'Bradford Tatum')]\n",
      "[('cast', 'http://www.wikidata.org/entity/Q462343'), ('name', 'Rosemary Forsyth')]\n",
      "[('cast', 'http://www.wikidata.org/entity/Q5363239'), ('name', 'Elizabeth Morehead')]\n",
      "[('cast', 'http://www.wikidata.org/entity/Q2927620'), ('name', 'Denise Dowse')]\n",
      "[('cast', 'http://www.wikidata.org/entity/Q6832453'), ('name', 'Michael Maize')]\n",
      "[('cast', 'http://www.wikidata.org/entity/Q19519424'), ('name', 'Jessie Usher')]\n",
      "[('cast', 'http://www.wikidata.org/entity/Q60545340'), ('name', 'Lindsey Kraft')]\n",
      "[('cast', 'http://www.wikidata.org/entity/Q64684485'), ('name', 'Caris Vujcec')]\n",
      "30\n"
     ]
    }
   ],
   "source": [
    "queryString = \"\"\"\n",
    "SELECT DISTINCT ?cast ?name\n",
    "WHERE {\n",
    "  \n",
    "  #Get the list of cast memebers in Without A Trace\n",
    "  wd:Q826477 wdt:P527 ?obj. #WithOutATrance has parts \n",
    "  #?obj sc:name ?season. \n",
    "  ?obj wdt:P527 ?ep. #has parts has episodes\n",
    "  ?ep wdt:P161 ?cast. #episodes have cast member\n",
    "  ?cast sc:name ?name.\n",
    "  \n",
    "  #Get the films names for the above cast members\n",
    "  ?filmName wdt:P161 ?cast.\n",
    "  ?filmName sc:name ?film.\n",
    "  \n",
    "} \n",
    "LIMIT 50\n",
    "\"\"\"\n",
    "\n",
    "print(\"Results\")\n",
    "x=run_query(queryString)"
   ]
  },
  {
   "cell_type": "markdown",
   "id": "6f63b0d7",
   "metadata": {},
   "source": [
    "Final query for this task"
   ]
  },
  {
   "cell_type": "code",
   "execution_count": null,
   "id": "12a1ba97",
   "metadata": {},
   "outputs": [],
   "source": [
    "#"
   ]
  },
  {
   "cell_type": "markdown",
   "id": "881728c9",
   "metadata": {},
   "source": [
    "## Task 7\n",
    "Consider the actors who are members of the cast of Cold Case. Amongst the tv series which these actors acted return only those which received more than 2 awards (the result set must be triples of tv series IRI, label, #awards won)."
   ]
  },
  {
   "cell_type": "code",
   "execution_count": 98,
   "id": "d4fb4ebc",
   "metadata": {},
   "outputs": [
    {
     "name": "stdout",
     "output_type": "stream",
     "text": [
      "Results\n",
      "[('name', 'Bobby Cannavale'), ('numAward', '4')]\n",
      "[('name', 'Shailene Woodley'), ('numAward', '7')]\n",
      "[('name', 'Ken Howard'), ('numAward', '3')]\n",
      "[('name', 'Bill Clinton'), ('numAward', '26')]\n",
      "[('name', 'June Lockhart'), ('numAward', '3')]\n",
      "[('name', 'Jennifer Lawrence'), ('numAward', '42')]\n",
      "[('name', 'Melissa Leo'), ('numAward', '3')]\n",
      "7\n"
     ]
    }
   ],
   "source": [
    "queryString = \"\"\"\n",
    "SELECT DISTINCT ?name (Count(?won) AS ?numAward)\n",
    "WHERE {\n",
    "     #?award wdt:P31 ?obj.\n",
    "     #?obj sc:name ?name.\n",
    "     \n",
    "     # \n",
    "     wd:Q733960 wdt:P161 ?obj.\n",
    "     ?obj wdt:P166 ?award.\n",
    "     ?award sc:name ?won.\n",
    "     ?obj sc:name ?name.\n",
    "     \n",
    "     #FILTER(?won>\"2\").\n",
    "     #FILTER REGEX((?name), \"^award\").\n",
    "     \n",
    " \n",
    "} GROUP BY ?name\n",
    "HAVING(count(?won)>2)\n",
    "LIMIT 50\n",
    "\"\"\"\n",
    "\n",
    "print(\"Results\")\n",
    "x=run_query(queryString)"
   ]
  },
  {
   "cell_type": "markdown",
   "id": "09a33b5c",
   "metadata": {},
   "source": [
    "Final query for this task"
   ]
  },
  {
   "cell_type": "code",
   "execution_count": 212,
   "id": "9e6f32b2",
   "metadata": {},
   "outputs": [
    {
     "name": "stdout",
     "output_type": "stream",
     "text": [
      "Results\n",
      "[('IRI', 'http://www.wikidata.org/entity/Q733960'), ('label', 'Cold Case'), ('name', 'Jennifer Lawrence'), ('numAward', '42')]\n",
      "[('IRI', 'http://www.wikidata.org/entity/Q733960'), ('label', 'Cold Case'), ('name', 'Bobby Cannavale'), ('numAward', '4')]\n",
      "[('IRI', 'http://www.wikidata.org/entity/Q733960'), ('label', 'Cold Case'), ('name', 'Melissa Leo'), ('numAward', '3')]\n",
      "[('IRI', 'http://www.wikidata.org/entity/Q733960'), ('label', 'Cold Case'), ('name', 'June Lockhart'), ('numAward', '3')]\n",
      "[('IRI', 'http://www.wikidata.org/entity/Q733960'), ('label', 'Cold Case'), ('name', 'Shailene Woodley'), ('numAward', '7')]\n",
      "[('IRI', 'http://www.wikidata.org/entity/Q733960'), ('label', 'Cold Case'), ('name', 'Bill Clinton'), ('numAward', '26')]\n",
      "[('IRI', 'http://www.wikidata.org/entity/Q733960'), ('label', 'Cold Case'), ('name', 'Ken Howard'), ('numAward', '3')]\n",
      "7\n"
     ]
    }
   ],
   "source": [
    "queryString = \"\"\"\n",
    "SELECT DISTINCT ?IRI ?label ?name (Count(?won) AS ?numAward)\n",
    "WHERE {\n",
    "\n",
    "      #Get the IRI and label of Cold Case\n",
    "      ?IRI wdt:P31 wd:Q5398426.\n",
    "      ?IRI sc:name ?label.\n",
    "  \n",
    "      FILTER(str(?label) = \"Cold Case\").\n",
    "     \n",
    "     \n",
    "     # Get the cast of Cold Case\n",
    "     wd:Q733960 wdt:P161 ?obj.\n",
    "     ?obj sc:name ?name.\n",
    "     \n",
    "     ?obj wdt:P166 ?award.\n",
    "     ?award sc:name ?won.\n",
    "     \n",
    " \n",
    "} GROUP BY ?IRI ?label ?name\n",
    "HAVING(count(?won)>2)\n",
    "LIMIT 50\n",
    "\"\"\"\n",
    "\n",
    "print(\"Results\")\n",
    "x=run_query(queryString)"
   ]
  },
  {
   "cell_type": "code",
   "execution_count": null,
   "id": "8d2d6b68-64c9-4dbb-8205-e003ae33c916",
   "metadata": {},
   "outputs": [],
   "source": []
  },
  {
   "cell_type": "code",
   "execution_count": null,
   "id": "61c2b1f4-a06e-4f55-9c20-ec98a231315b",
   "metadata": {},
   "outputs": [],
   "source": []
  }
 ],
 "metadata": {
  "kernelspec": {
   "display_name": "Python 3 (ipykernel)",
   "language": "python",
   "name": "python3"
  },
  "language_info": {
   "codemirror_mode": {
    "name": "ipython",
    "version": 3
   },
   "file_extension": ".py",
   "mimetype": "text/x-python",
   "name": "python",
   "nbconvert_exporter": "python",
   "pygments_lexer": "ipython3",
   "version": "3.9.16"
  }
 },
 "nbformat": 4,
 "nbformat_minor": 5
}
