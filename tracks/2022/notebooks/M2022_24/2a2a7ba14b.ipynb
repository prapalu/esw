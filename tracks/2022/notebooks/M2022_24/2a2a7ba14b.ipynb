{
 "cells": [
  {
   "cell_type": "markdown",
   "id": "a0d360bb",
   "metadata": {},
   "source": [
    "# General instructions\n",
    "\n",
    "The goal of the project is to materialize a set of **exploratory workloads** over a real-world, large-scale,  open-domain KG: [WikiData](https://www.wikidata.org/wiki/Wikidata:Main_Page)\n",
    "\n",
    "An exploratory workload  is composed by a set of queries, where each query is related to the information obtained previously.\n",
    "\n",
    "An exploratory workload starts with a usually vague, open ended question, and does not assume the person issuing the workload has a clear understanding of the data contained in the target database or its structure.\n",
    "\n",
    "Remeber that:\n",
    "\n",
    "1. All the queries must run in the python notebook\n",
    "2. You can use classes and properties only if you find them via a SPARQL query that must be present in the notebook\n",
    "3. You do not delete useless queries. Keep everything that is synthatically valid \n",
    "\n",
    "```\n",
    "?p <http://schema.org/name> ?name .\n",
    "```\n",
    "    \n",
    "    is the BGP returning a human-readable name of a property or a class in Wikidata."
   ]
  },
  {
   "cell_type": "code",
   "execution_count": 1,
   "id": "53bcf946",
   "metadata": {},
   "outputs": [],
   "source": [
    "## SETUP used later\n",
    "\n",
    "from SPARQLWrapper import SPARQLWrapper, JSON\n",
    "\n",
    "\n",
    "prefixString = \"\"\"\n",
    "##-2a2a7ba14b-##\n",
    "PREFIX wd: <http://www.wikidata.org/entity/> \n",
    "PREFIX wdt: <http://www.wikidata.org/prop/direct/> \n",
    "PREFIX sc: <http://schema.org/>\n",
    "\"\"\"\n",
    "\n",
    "# select and construct queries\n",
    "def run_query(queryString,verbose = True):\n",
    "    to_run = prefixString + \"\\n\" + queryString\n",
    "\n",
    "    sparql = SPARQLWrapper(\"http://a256-gc1-03.srv.aau.dk:5820/sparql\")\n",
    "    sparql.setTimeout(300)\n",
    "    sparql.setReturnFormat(JSON)\n",
    "    sparql.setQuery(to_run)\n",
    "\n",
    "    try :\n",
    "        results = sparql.query()\n",
    "        json_results = results.convert()\n",
    "        if len(json_results['results']['bindings'])==0:\n",
    "            print(\"Empty\")\n",
    "            return []\n",
    "        array = []\n",
    "        for bindings in json_results['results']['bindings']:\n",
    "            app =  [ (var, value['value'])  for var, value in bindings.items() ] \n",
    "            if verbose:\n",
    "                print( app)\n",
    "            array.append(app)\n",
    "        if verbose:\n",
    "            print(len(array))\n",
    "        return array\n",
    "\n",
    "    except Exception as e :\n",
    "        print(\"The operation failed\", e)\n",
    "    \n",
    "# ASk queries\n",
    "def run_ask_query(queryString):\n",
    "    to_run = prefixString + \"\\n\" + queryString\n",
    "\n",
    "    sparql = SPARQLWrapper(\"http://a256-gc1-03.srv.aau.dk:5820/sparql\")\n",
    "    sparql.setTimeout(300)\n",
    "    sparql.setReturnFormat(JSON)\n",
    "    sparql.setQuery(to_run)\n",
    "\n",
    "    try :\n",
    "        return sparql.query().convert()\n",
    "\n",
    "    except Exception as e :\n",
    "        print(\"The operation failed\", e)"
   ]
  },
  {
   "cell_type": "markdown",
   "id": "0928f3df",
   "metadata": {
    "tags": []
   },
   "source": [
    "# Sport Workflow Series (Basketball and NBA finals explorative search\") \n",
    "\n",
    "Consider the following exploratory information need:\n",
    "\n",
    "> investigate the world of basketball. Compare italian teams and US teams, country of citizenship of NBA players, and teams which won NBA finals."
   ]
  },
  {
   "cell_type": "markdown",
   "id": "d437ba08",
   "metadata": {
    "tags": []
   },
   "source": [
    "## Useful URIs for the current workflow\n",
    "The following are given:\n",
    "\n",
    "| IRI           | Description   | Role      |\n",
    "| -----------   | -----------   |-----------|\n",
    "| `wdt:P1647`   | subproperty   | predicate |\n",
    "| `wdt:P31`     | instance of   | predicate |\n",
    "| `wdt:P106`    | profession    | predicate | \n",
    "| `wdt:P279`    | subclass      | predicate |\n",
    "| `wdt:P27`     | nationality   | predicate |\n",
    "| `wd:Q5`| Human       | node |\n",
    "| `wd:Q36159`| Lebron James      | node |\n",
    "| `wd:Q29545`| Kevin Durant      | node |\n"
   ]
  },
  {
   "cell_type": "markdown",
   "id": "f9553eb2",
   "metadata": {},
   "source": [
    "\n",
    "\n",
    "\n",
    "Also consider\n",
    "\n",
    "```\n",
    "wd:Q36159 ?p ?obj .\n",
    "```\n",
    "\n",
    "is the BGP to retrieve all **properties of Lebron James**\n",
    "\n",
    "Please consider that when you return a resource, you should return the IRI and the label of the resource. In particular, when the task require you to identify a BGP the result set must always be a list of couples IRI - label.\n",
    "\n",
    "\n",
    "The workload should:\n",
    "\n",
    "\n",
    "1. Identify the BGP for basketball player.\n",
    "\n",
    "2. Identify the BGP for basketball.\n",
    "\n",
    "3. Identify the BGP for basketball team.\n",
    "\n",
    "4. Return all italian basketball teams born before 1945 (the result set must be a list of triples basketball team IRI, label and year of inception).\n",
    "\n",
    "5. Identify the BGP for NBA finals\n",
    "\n",
    "6. Consider only the basketball teams which Kevin Durant and Lebron James played. Return the number of NBA finals won by these teams (the result set must be a list of triples basketball team IRI, label and #victories. Return a number for each basketball team).\n",
    "\n",
    "7. Consider only NBA (National Basketball Association) basketball teams and all basketball players who played in one of these teams at least once. Also consider the country of citizenship of the players with the related continent. Return for each continent the number of players who played in an NBA basketball teams. (the result set must be triples of continent IRI, labels and #players)\n",
    "\n",
    "8. Identify the BGP for the NBA Most Valuable Player Award (MVP) (see https://en.wikipedia.org/wiki/NBA_Most_Valuable_Player_Award)\n",
    "\n",
    "9. Consider the players who won the NBA Most Valuable Player Award. Return for these players the number of NBA Most Valuable Player Award won in their career (the result set must be triples of player IRI, label and #victories)\n",
    "\n"
   ]
  },
  {
   "cell_type": "markdown",
   "id": "8242650f",
   "metadata": {},
   "source": [
    "## Task 1\n",
    "Identify the BGP for basketball player."
   ]
  },
  {
   "cell_type": "code",
   "execution_count": 31,
   "id": "2b2e0127",
   "metadata": {},
   "outputs": [
    {
     "name": "stdout",
     "output_type": "stream",
     "text": [
      "Results\n",
      "[('p', 'http://www.wikidata.org/prop/direct/P106'), ('name', 'occupation')]\n",
      "[('p', 'http://www.wikidata.org/prop/direct/P118'), ('name', 'league')]\n",
      "[('p', 'http://www.wikidata.org/prop/direct/P1207'), ('name', 'NUKAT ID')]\n",
      "[('p', 'http://www.wikidata.org/prop/direct/P1263'), ('name', 'NNDB people ID')]\n",
      "[('p', 'http://www.wikidata.org/prop/direct/P1280'), ('name', 'CONOR.SI ID')]\n",
      "[('p', 'http://www.wikidata.org/prop/direct/P1285'), ('name', 'Munzinger Sport number')]\n",
      "[('p', 'http://www.wikidata.org/prop/direct/P1344'), ('name', 'participant in')]\n",
      "[('p', 'http://www.wikidata.org/prop/direct/P1411'), ('name', 'nominated for')]\n",
      "[('p', 'http://www.wikidata.org/prop/direct/P1412'), ('name', 'languages spoken, written or signed')]\n",
      "[('p', 'http://www.wikidata.org/prop/direct/P1417'), ('name', 'Encyclopædia Britannica Online ID')]\n",
      "[('p', 'http://www.wikidata.org/prop/direct/P1447'), ('name', 'Sports-Reference.com Olympic athlete ID')]\n",
      "[('p', 'http://www.wikidata.org/prop/direct/P1532'), ('name', 'country for sport')]\n",
      "[('p', 'http://www.wikidata.org/prop/direct/P1559'), ('name', 'name in native language')]\n",
      "[('p', 'http://www.wikidata.org/prop/direct/P1618'), ('name', 'sport number')]\n",
      "[('p', 'http://www.wikidata.org/prop/direct/P166'), ('name', 'award received')]\n",
      "[('p', 'http://www.wikidata.org/prop/direct/P172'), ('name', 'ethnic group')]\n",
      "[('p', 'http://www.wikidata.org/prop/direct/P1741'), ('name', 'GTAA ID')]\n",
      "[('p', 'http://www.wikidata.org/prop/direct/P18'), ('name', 'image')]\n",
      "[('p', 'http://www.wikidata.org/prop/direct/P19'), ('name', 'place of birth')]\n",
      "[('p', 'http://www.wikidata.org/prop/direct/P1953'), ('name', 'Discogs artist ID')]\n",
      "[('p', 'http://www.wikidata.org/prop/direct/P2002'), ('name', 'Twitter username')]\n",
      "[('p', 'http://www.wikidata.org/prop/direct/P2003'), ('name', 'Instagram username')]\n",
      "[('p', 'http://www.wikidata.org/prop/direct/P2013'), ('name', 'Facebook ID')]\n",
      "[('p', 'http://www.wikidata.org/prop/direct/P2031'), ('name', 'work period (start)')]\n",
      "[('p', 'http://www.wikidata.org/prop/direct/P2048'), ('name', 'height')]\n",
      "[('p', 'http://www.wikidata.org/prop/direct/P2067'), ('name', 'mass')]\n",
      "[('p', 'http://www.wikidata.org/prop/direct/P2094'), ('name', 'competition class')]\n",
      "[('p', 'http://www.wikidata.org/prop/direct/P21'), ('name', 'sex or gender')]\n",
      "[('p', 'http://www.wikidata.org/prop/direct/P214'), ('name', 'VIAF ID')]\n",
      "[('p', 'http://www.wikidata.org/prop/direct/P2163'), ('name', 'FAST ID')]\n",
      "[('p', 'http://www.wikidata.org/prop/direct/P2373'), ('name', 'Genius artist ID')]\n",
      "[('p', 'http://www.wikidata.org/prop/direct/P244'), ('name', 'Library of Congress authority ID')]\n",
      "[('p', 'http://www.wikidata.org/prop/direct/P26'), ('name', 'spouse')]\n",
      "[('p', 'http://www.wikidata.org/prop/direct/P2600'), ('name', 'Geni.com profile ID')]\n",
      "[('p', 'http://www.wikidata.org/prop/direct/P2605'), ('name', 'ČSFD person ID')]\n",
      "[('p', 'http://www.wikidata.org/prop/direct/P2638'), ('name', 'TV.com ID')]\n",
      "[('p', 'http://www.wikidata.org/prop/direct/P27'), ('name', 'country of citizenship')]\n",
      "[('p', 'http://www.wikidata.org/prop/direct/P2924'), ('name', 'Great Russian Encyclopedia Online ID')]\n",
      "[('p', 'http://www.wikidata.org/prop/direct/P31'), ('name', 'instance of')]\n",
      "[('p', 'http://www.wikidata.org/prop/direct/P3171'), ('name', 'Olympic.org athlete ID (archived version)')]\n",
      "[('p', 'http://www.wikidata.org/prop/direct/P3219'), ('name', 'Encyclopædia Universalis ID')]\n",
      "[('p', 'http://www.wikidata.org/prop/direct/P3221'), ('name', 'New York Times topic ID')]\n",
      "[('p', 'http://www.wikidata.org/prop/direct/P3222'), ('name', 'NE.se ID')]\n",
      "[('p', 'http://www.wikidata.org/prop/direct/P3388'), ('name', 'LittleSis people ID')]\n",
      "[('p', 'http://www.wikidata.org/prop/direct/P3417'), ('name', 'Quora topic ID')]\n",
      "[('p', 'http://www.wikidata.org/prop/direct/P345'), ('name', 'IMDb ID')]\n",
      "[('p', 'http://www.wikidata.org/prop/direct/P3527'), ('name', 'Eurobasket.com player ID')]\n",
      "[('p', 'http://www.wikidata.org/prop/direct/P3542'), ('name', 'FIBA player ID')]\n",
      "[('p', 'http://www.wikidata.org/prop/direct/P3553'), ('name', 'Zhihu topic ID')]\n",
      "[('p', 'http://www.wikidata.org/prop/direct/P373'), ('name', 'Commons category')]\n",
      "50\n"
     ]
    }
   ],
   "source": [
    "# query example\n",
    "queryString = \"\"\"\n",
    "SELECT DISTINCT ?p ?name\n",
    "WHERE {\n",
    "   # bind something\n",
    "   wd:Q36159 ?p ?obj .\n",
    "   # get the label\n",
    "   ?p sc:name ?name.\n",
    "}\n",
    "LIMIT 50\n",
    "\"\"\"\n",
    "\n",
    "print(\"Results\")\n",
    "x=run_query(queryString)"
   ]
  },
  {
   "cell_type": "code",
   "execution_count": 66,
   "id": "9b451423-b593-45bd-9294-98782028b4fd",
   "metadata": {},
   "outputs": [
    {
     "name": "stdout",
     "output_type": "stream",
     "text": [
      "Results\n",
      "[('p', 'http://www.wikidata.org/prop/direct/P734'), ('name', 'family name'), ('value', 'James')]\n",
      "[('p', 'http://www.wikidata.org/prop/direct/P1344'), ('name', 'participant in'), ('value', '2006 FIBA World Championship')]\n",
      "[('p', 'http://www.wikidata.org/prop/direct/P1411'), ('name', 'nominated for'), ('value', 'Laureus World Sports Award for Breakthrough of the Year')]\n",
      "[('p', 'http://www.wikidata.org/prop/direct/P166'), ('name', 'award received'), ('value', 'J. Walter Kennedy Citizenship Award')]\n",
      "[('p', 'http://www.wikidata.org/prop/direct/P19'), ('name', 'place of birth'), ('value', 'Akron')]\n",
      "[('p', 'http://www.wikidata.org/prop/direct/P551'), ('name', 'residence'), ('value', 'Akron')]\n",
      "[('p', 'http://www.wikidata.org/prop/direct/P1411'), ('name', 'nominated for'), ('value', 'Best Championship Performance ESPY Award')]\n",
      "[('p', 'http://www.wikidata.org/prop/direct/P166'), ('name', 'award received'), ('value', 'Best Championship Performance ESPY Award')]\n",
      "[('p', 'http://www.wikidata.org/prop/direct/P1344'), ('name', 'participant in'), ('value', '2007 FIBA Americas Championship')]\n",
      "[('p', 'http://www.wikidata.org/prop/direct/P1411'), ('name', 'nominated for'), ('value', 'Best Breakthrough Athlete ESPY Award')]\n",
      "10\n"
     ]
    }
   ],
   "source": [
    "# getting the value for each property \n",
    "queryString = \"\"\"\n",
    "SELECT DISTINCT ?p ?name ?value\n",
    "WHERE {\n",
    "   # bind something\n",
    "   wd:Q36159 ?p ?obj .\n",
    "   # get the label\n",
    "   ?p sc:name ?name.\n",
    "   ?obj sc:name ?value\n",
    "}\n",
    "LIMIT 10\n",
    "\"\"\"\n",
    "\n",
    "print(\"Results\")\n",
    "x=run_query(queryString)"
   ]
  },
  {
   "cell_type": "code",
   "execution_count": 7,
   "id": "af463078-c70a-4d29-a994-07d8285809e3",
   "metadata": {},
   "outputs": [
    {
     "name": "stdout",
     "output_type": "stream",
     "text": [
      "Results\n",
      "[('obj', 'http://www.wikidata.org/entity/Q10798782'), ('value', 'television actor')]\n",
      "[('obj', 'http://www.wikidata.org/entity/Q28389'), ('value', 'screenwriter')]\n",
      "[('obj', 'http://www.wikidata.org/entity/Q3665646'), ('value', 'basketball player')]\n",
      "3\n"
     ]
    }
   ],
   "source": [
    "# getting the value for each property \n",
    "queryString = \"\"\"\n",
    "SELECT DISTINCT ?obj ?value\n",
    "WHERE {\n",
    "   # bind something\n",
    "   wd:Q36159 wdt:P106 ?obj .\n",
    "   # get the label\n",
    "   ?obj sc:name ?value\n",
    "}\n",
    "LIMIT 30\n",
    "\"\"\"\n",
    "\n",
    "print(\"Results\")\n",
    "x=run_query(queryString)"
   ]
  },
  {
   "cell_type": "markdown",
   "id": "4fff36e6",
   "metadata": {},
   "source": [
    "Final query for this task"
   ]
  },
  {
   "cell_type": "code",
   "execution_count": 9,
   "id": "6b62622f",
   "metadata": {},
   "outputs": [
    {
     "name": "stdout",
     "output_type": "stream",
     "text": [
      "Results\n",
      "[('p', 'http://www.wikidata.org/prop/direct/P1014'), ('name', 'Art & Architecture Thesaurus ID')]\n",
      "[('p', 'http://www.wikidata.org/prop/direct/P1036'), ('name', 'Dewey Decimal Classification')]\n",
      "[('p', 'http://www.wikidata.org/prop/direct/P1296'), ('name', 'Gran Enciclopèdia Catalana ID')]\n",
      "[('p', 'http://www.wikidata.org/prop/direct/P1424'), ('name', \"topic's main template\")]\n",
      "[('p', 'http://www.wikidata.org/prop/direct/P1709'), ('name', 'equivalent class')]\n",
      "[('p', 'http://www.wikidata.org/prop/direct/P1963'), ('name', 'properties for this type')]\n",
      "[('p', 'http://www.wikidata.org/prop/direct/P227'), ('name', 'GND ID')]\n",
      "[('p', 'http://www.wikidata.org/prop/direct/P2347'), ('name', 'YSO ID')]\n",
      "[('p', 'http://www.wikidata.org/prop/direct/P244'), ('name', 'Library of Congress authority ID')]\n",
      "[('p', 'http://www.wikidata.org/prop/direct/P268'), ('name', 'Bibliothèque nationale de France ID')]\n",
      "[('p', 'http://www.wikidata.org/prop/direct/P279'), ('name', 'subclass of')]\n",
      "[('p', 'http://www.wikidata.org/prop/direct/P2888'), ('name', 'exact match')]\n",
      "[('p', 'http://www.wikidata.org/prop/direct/P31'), ('name', 'instance of')]\n",
      "[('p', 'http://www.wikidata.org/prop/direct/P361'), ('name', 'part of')]\n",
      "[('p', 'http://www.wikidata.org/prop/direct/P373'), ('name', 'Commons category')]\n",
      "[('p', 'http://www.wikidata.org/prop/direct/P425'), ('name', 'field of this occupation')]\n",
      "[('p', 'http://www.wikidata.org/prop/direct/P4839'), ('name', 'Wolfram Language entity code')]\n",
      "[('p', 'http://www.wikidata.org/prop/direct/P4946'), ('name', 'Library of Congress Demographic Group Terms ID')]\n",
      "[('p', 'http://www.wikidata.org/prop/direct/P641'), ('name', 'sport')]\n",
      "[('p', 'http://www.wikidata.org/prop/direct/P646'), ('name', 'Freebase ID')]\n",
      "[('p', 'http://www.wikidata.org/prop/direct/P8408'), ('name', 'KBpedia ID')]\n",
      "[('p', 'http://www.wikidata.org/prop/direct/P8814'), ('name', 'WordNet 3.1 Synset ID')]\n",
      "[('p', 'http://www.wikidata.org/prop/direct/P910'), ('name', \"topic's main category\")]\n",
      "23\n"
     ]
    }
   ],
   "source": [
    "#FINAL QUERY \n",
    "queryString = \"\"\"\n",
    "SELECT DISTINCT ?p ?name\n",
    "WHERE {\n",
    "    wd:Q3665646 ?p ?obj .\n",
    "    # get the label\n",
    "    ?p sc:name ?name.\n",
    "}\n",
    "LIMIT 30\n",
    "\"\"\"\n",
    "print(\"Results\")\n",
    "x=run_query(queryString)"
   ]
  },
  {
   "cell_type": "markdown",
   "id": "5679696b",
   "metadata": {},
   "source": [
    "## Task 2\n",
    "Identify the BGP for basketball."
   ]
  },
  {
   "cell_type": "code",
   "execution_count": 10,
   "id": "b01b79e9-748b-49e4-bf96-db3aef3b0205",
   "metadata": {},
   "outputs": [
    {
     "name": "stdout",
     "output_type": "stream",
     "text": [
      "Results\n",
      "[('obj', 'http://www.wikidata.org/entity/Q28640'), ('name', 'profession')]\n",
      "1\n"
     ]
    }
   ],
   "source": [
    "#instance of\n",
    "queryString = \"\"\"\n",
    "SELECT DISTINCT ?obj ?name\n",
    "WHERE {\n",
    "    wd:Q3665646 wdt:P31 ?obj .\n",
    "    # get the label\n",
    "    ?obj sc:name ?name.\n",
    "}\n",
    "LIMIT 30\n",
    "\"\"\"\n",
    "print(\"Results\")\n",
    "x=run_query(queryString)"
   ]
  },
  {
   "cell_type": "code",
   "execution_count": 12,
   "id": "72c2180e-383d-47f6-9177-f90531427b25",
   "metadata": {},
   "outputs": [
    {
     "name": "stdout",
     "output_type": "stream",
     "text": [
      "Results\n",
      "[('obj', 'http://www.wikidata.org/entity/Q18536342'), ('name', 'competitive player')]\n",
      "[('obj', 'http://www.wikidata.org/entity/Q2066131'), ('name', 'athlete')]\n",
      "2\n"
     ]
    }
   ],
   "source": [
    "\n",
    "queryString = \"\"\"\n",
    "SELECT DISTINCT ?obj ?name\n",
    "WHERE {\n",
    "    wd:Q3665646 wdt:P279 ?obj .\n",
    "    # get the label\n",
    "    ?obj sc:name ?name.\n",
    "}\n",
    "LIMIT 30\n",
    "\"\"\"\n",
    "print(\"Results\")\n",
    "x=run_query(queryString)"
   ]
  },
  {
   "cell_type": "code",
   "execution_count": 13,
   "id": "828cca0b-2dae-42c4-b2c7-715e7c9fe9b6",
   "metadata": {},
   "outputs": [
    {
     "name": "stdout",
     "output_type": "stream",
     "text": [
      "Results\n",
      "[('obj', 'http://www.wikidata.org/entity/Q13393265'), ('name', 'basketball team')]\n",
      "1\n"
     ]
    }
   ],
   "source": [
    "queryString = \"\"\"\n",
    "SELECT DISTINCT ?obj ?name\n",
    "WHERE {\n",
    "    wd:Q3665646 wdt:P361 ?obj .\n",
    "    # get the label\n",
    "    ?obj sc:name ?name.\n",
    "}\n",
    "LIMIT 30\n",
    "\"\"\"\n",
    "print(\"Results\")\n",
    "x=run_query(queryString)"
   ]
  },
  {
   "cell_type": "code",
   "execution_count": 14,
   "id": "77312a3d-e316-4167-adeb-5f052571c0e7",
   "metadata": {},
   "outputs": [
    {
     "name": "stdout",
     "output_type": "stream",
     "text": [
      "Results\n",
      "[('obj', 'http://www.wikidata.org/entity/Q5372'), ('name', 'basketball')]\n",
      "1\n"
     ]
    }
   ],
   "source": [
    "#basketball \n",
    "queryString = \"\"\"\n",
    "SELECT DISTINCT ?obj ?name\n",
    "WHERE {\n",
    "    wd:Q3665646 wdt:P641 ?obj .\n",
    "    # get the label\n",
    "    ?obj sc:name ?name.\n",
    "}\n",
    "LIMIT 30\n",
    "\"\"\"\n",
    "print(\"Results\")\n",
    "x=run_query(queryString)"
   ]
  },
  {
   "cell_type": "markdown",
   "id": "032ad10a",
   "metadata": {},
   "source": [
    "Final query for this task"
   ]
  },
  {
   "cell_type": "code",
   "execution_count": 16,
   "id": "88c8bcf1-d2c6-4361-a44d-1510bd695955",
   "metadata": {},
   "outputs": [
    {
     "name": "stdout",
     "output_type": "stream",
     "text": [
      "Results\n",
      "[('p', 'http://www.wikidata.org/prop/direct/P1014'), ('name', 'Art & Architecture Thesaurus ID')]\n",
      "[('p', 'http://www.wikidata.org/prop/direct/P1036'), ('name', 'Dewey Decimal Classification')]\n",
      "[('p', 'http://www.wikidata.org/prop/direct/P1051'), ('name', 'PSH ID')]\n",
      "[('p', 'http://www.wikidata.org/prop/direct/P1151'), ('name', \"topic's main Wikimedia portal\")]\n",
      "[('p', 'http://www.wikidata.org/prop/direct/P1225'), ('name', 'U.S. National Archives Identifier')]\n",
      "[('p', 'http://www.wikidata.org/prop/direct/P1245'), ('name', 'OmegaWiki Defined Meaning')]\n",
      "[('p', 'http://www.wikidata.org/prop/direct/P1282'), ('name', 'OpenStreetMap tag or key')]\n",
      "[('p', 'http://www.wikidata.org/prop/direct/P1296'), ('name', 'Gran Enciclopèdia Catalana ID')]\n",
      "[('p', 'http://www.wikidata.org/prop/direct/P1417'), ('name', 'Encyclopædia Britannica Online ID')]\n",
      "[('p', 'http://www.wikidata.org/prop/direct/P18'), ('name', 'image')]\n",
      "[('p', 'http://www.wikidata.org/prop/direct/P1807'), ('name', 'Great Aragonese Encyclopedia ID')]\n",
      "[('p', 'http://www.wikidata.org/prop/direct/P1813'), ('name', 'short name')]\n",
      "[('p', 'http://www.wikidata.org/prop/direct/P1873'), ('name', 'maximum number of players')]\n",
      "[('p', 'http://www.wikidata.org/prop/direct/P1889'), ('name', 'different from')]\n",
      "[('p', 'http://www.wikidata.org/prop/direct/P2047'), ('name', 'duration')]\n",
      "[('p', 'http://www.wikidata.org/prop/direct/P2094'), ('name', 'competition class')]\n",
      "[('p', 'http://www.wikidata.org/prop/direct/P2167'), ('name', 'UNSPSC Code')]\n",
      "[('p', 'http://www.wikidata.org/prop/direct/P227'), ('name', 'GND ID')]\n",
      "[('p', 'http://www.wikidata.org/prop/direct/P2283'), ('name', 'uses')]\n",
      "[('p', 'http://www.wikidata.org/prop/direct/P244'), ('name', 'Library of Congress authority ID')]\n",
      "[('p', 'http://www.wikidata.org/prop/direct/P2581'), ('name', 'BabelNet ID')]\n",
      "[('p', 'http://www.wikidata.org/prop/direct/P268'), ('name', 'Bibliothèque nationale de France ID')]\n",
      "[('p', 'http://www.wikidata.org/prop/direct/P279'), ('name', 'subclass of')]\n",
      "[('p', 'http://www.wikidata.org/prop/direct/P2888'), ('name', 'exact match')]\n",
      "[('p', 'http://www.wikidata.org/prop/direct/P2910'), ('name', 'icon')]\n",
      "[('p', 'http://www.wikidata.org/prop/direct/P2924'), ('name', 'Great Russian Encyclopedia Online ID')]\n",
      "[('p', 'http://www.wikidata.org/prop/direct/P3095'), ('name', 'practiced by')]\n",
      "[('p', 'http://www.wikidata.org/prop/direct/P31'), ('name', 'instance of')]\n",
      "[('p', 'http://www.wikidata.org/prop/direct/P3219'), ('name', 'Encyclopædia Universalis ID')]\n",
      "[('p', 'http://www.wikidata.org/prop/direct/P3221'), ('name', 'New York Times topic ID')]\n",
      "30\n"
     ]
    }
   ],
   "source": [
    "#FINAL QUERY \n",
    "queryString = \"\"\"\n",
    "SELECT DISTINCT ?p ?name\n",
    "WHERE {\n",
    "    wd:Q5372 ?p ?obj .\n",
    "    # get the label\n",
    "    ?p sc:name ?name.\n",
    "}\n",
    "LIMIT 30\n",
    "\"\"\"\n",
    "print(\"Results\")\n",
    "x=run_query(queryString)"
   ]
  },
  {
   "cell_type": "markdown",
   "id": "52ba86c9",
   "metadata": {},
   "source": [
    "## Task 3\n",
    "Identify the BGP for basketball team."
   ]
  },
  {
   "cell_type": "code",
   "execution_count": 16,
   "id": "cb4460b8",
   "metadata": {},
   "outputs": [
    {
     "name": "stdout",
     "output_type": "stream",
     "text": [
      "Results\n",
      "[('obj', 'http://www.wikidata.org/entity/Q13393265'), ('name', 'basketball team')]\n",
      "1\n"
     ]
    }
   ],
   "source": [
    "# write your queries\n",
    "queryString = \"\"\"\n",
    "SELECT DISTINCT ?obj ?name\n",
    "WHERE {\n",
    "    wd:Q3665646 wdt:P361 ?obj .\n",
    "    # get the label\n",
    "    ?obj sc:name ?name.\n",
    "}\n",
    "LIMIT 30\n",
    "\"\"\"\n",
    "print(\"Results\")\n",
    "x=run_query(queryString)"
   ]
  },
  {
   "cell_type": "markdown",
   "id": "3372fdcf",
   "metadata": {},
   "source": [
    "Final query for this task"
   ]
  },
  {
   "cell_type": "code",
   "execution_count": 19,
   "id": "934a2de8",
   "metadata": {},
   "outputs": [
    {
     "name": "stdout",
     "output_type": "stream",
     "text": [
      "Results\n",
      "[('p', 'http://www.wikidata.org/prop/direct/P1424'), ('name', \"topic's main template\")]\n",
      "[('p', 'http://www.wikidata.org/prop/direct/P279'), ('name', 'subclass of')]\n",
      "[('p', 'http://www.wikidata.org/prop/direct/P3417'), ('name', 'Quora topic ID')]\n",
      "[('p', 'http://www.wikidata.org/prop/direct/P373'), ('name', 'Commons category')]\n",
      "[('p', 'http://www.wikidata.org/prop/direct/P527'), ('name', 'has part')]\n",
      "[('p', 'http://www.wikidata.org/prop/direct/P641'), ('name', 'sport')]\n",
      "[('p', 'http://www.wikidata.org/prop/direct/P8408'), ('name', 'KBpedia ID')]\n",
      "[('p', 'http://www.wikidata.org/prop/direct/P910'), ('name', \"topic's main category\")]\n",
      "8\n"
     ]
    }
   ],
   "source": [
    "# write your final query\n",
    "queryString = \"\"\"\n",
    "SELECT DISTINCT ?p ?name\n",
    "WHERE {\n",
    "    wd:Q13393265 ?p ?obj .\n",
    "    # get the label\n",
    "    ?p sc:name ?name.\n",
    "}\n",
    "LIMIT 10\n",
    "\"\"\"\n",
    "print(\"Results\")\n",
    "x=run_query(queryString)"
   ]
  },
  {
   "cell_type": "markdown",
   "id": "462a8ff8",
   "metadata": {},
   "source": [
    "## Task 4\n",
    "Return all italian basketball teams born before 1945 (the result set must be a list of triples basketball team IRI, label and year of inception)."
   ]
  },
  {
   "cell_type": "code",
   "execution_count": 21,
   "id": "9df8f52f",
   "metadata": {},
   "outputs": [
    {
     "name": "stdout",
     "output_type": "stream",
     "text": [
      "Results\n",
      "[('obj', 'http://www.wikidata.org/entity/Q169138'), ('name', 'Miami Heat')]\n",
      "[('obj', 'http://www.wikidata.org/entity/Q121783'), ('name', 'Los Angeles Lakers')]\n",
      "[('obj', 'http://www.wikidata.org/entity/Q162990'), ('name', 'Cleveland Cavaliers')]\n",
      "3\n"
     ]
    }
   ],
   "source": [
    "# write your queries\n",
    "queryString = \"\"\"\n",
    "SELECT DISTINCT ?obj ?name\n",
    "WHERE {\n",
    "    wd:Q36159 wdt:P54 ?obj .\n",
    "    # get the label\n",
    "    ?obj sc:name ?name.\n",
    "}\n",
    "LIMIT 30\n",
    "\"\"\"\n",
    "print(\"Results\")\n",
    "x=run_query(queryString)"
   ]
  },
  {
   "cell_type": "code",
   "execution_count": 22,
   "id": "96fdd4b1-e6f0-4903-ba26-627ebd58fcd8",
   "metadata": {},
   "outputs": [
    {
     "name": "stdout",
     "output_type": "stream",
     "text": [
      "Results\n",
      "[('obj', 'http://www.wikidata.org/entity/Q13393265'), ('name', 'basketball team')]\n",
      "1\n"
     ]
    }
   ],
   "source": [
    "# write your queries\n",
    "queryString = \"\"\"\n",
    "SELECT DISTINCT ?obj ?name\n",
    "WHERE {\n",
    "    wd:Q169138 wdt:P31 ?obj .\n",
    "    # get the label\n",
    "    ?obj sc:name ?name.\n",
    "}\n",
    "LIMIT 30\n",
    "\"\"\"\n",
    "print(\"Results\")\n",
    "x=run_query(queryString)"
   ]
  },
  {
   "cell_type": "code",
   "execution_count": 28,
   "id": "94a68b67-e7d9-4b3b-96af-cf0cb3ab5da7",
   "metadata": {},
   "outputs": [
    {
     "name": "stdout",
     "output_type": "stream",
     "text": [
      "Results\n",
      "[('p', 'http://www.wikidata.org/prop/direct/P910'), ('pValue', \"topic's main category\"), ('obj', 'http://www.wikidata.org/entity/Q8624414'), ('name', 'Category:Miami Heat')]\n",
      "[('p', 'http://www.wikidata.org/prop/direct/P361'), ('pValue', 'part of'), ('obj', 'http://www.wikidata.org/entity/Q639928'), ('name', 'Southeast Division')]\n",
      "[('p', 'http://www.wikidata.org/prop/direct/P115'), ('pValue', 'home venue'), ('obj', 'http://www.wikidata.org/entity/Q420129'), ('name', 'American Airlines Arena')]\n",
      "[('p', 'http://www.wikidata.org/prop/direct/P17'), ('pValue', 'country'), ('obj', 'http://www.wikidata.org/entity/Q30'), ('name', 'United States of America')]\n",
      "[('p', 'http://www.wikidata.org/prop/direct/P641'), ('pValue', 'sport'), ('obj', 'http://www.wikidata.org/entity/Q5372'), ('name', 'basketball')]\n",
      "[('p', 'http://www.wikidata.org/prop/direct/P118'), ('pValue', 'league'), ('obj', 'http://www.wikidata.org/entity/Q155223'), ('name', 'National Basketball Association')]\n",
      "[('p', 'http://www.wikidata.org/prop/direct/P159'), ('pValue', 'headquarters location'), ('obj', 'http://www.wikidata.org/entity/Q8652'), ('name', 'Miami')]\n",
      "[('p', 'http://www.wikidata.org/prop/direct/P31'), ('pValue', 'instance of'), ('obj', 'http://www.wikidata.org/entity/Q13393265'), ('name', 'basketball team')]\n",
      "[('p', 'http://www.wikidata.org/prop/direct/P286'), ('pValue', 'head coach'), ('obj', 'http://www.wikidata.org/entity/Q440324'), ('name', 'Erik Spoelstra')]\n",
      "[('p', 'http://www.wikidata.org/prop/direct/P127'), ('pValue', 'owned by'), ('obj', 'http://www.wikidata.org/entity/Q920620'), ('name', 'Micky Arison')]\n",
      "10\n"
     ]
    }
   ],
   "source": [
    "# write your queries\n",
    "queryString = \"\"\"\n",
    "SELECT DISTINCT ?p ?pValue ?obj ?name\n",
    "WHERE {\n",
    "    wd:Q169138 ?p ?obj .\n",
    "    # get the label\n",
    "    ?p sc:name ?pValue .\n",
    "    ?obj sc:name ?name .\n",
    "}\n",
    "LIMIT 30\n",
    "\"\"\"\n",
    "print(\"Results\")\n",
    "x=run_query(queryString)"
   ]
  },
  {
   "cell_type": "code",
   "execution_count": 2,
   "id": "dcd64b3e-e0a9-4fc1-82f6-685a38b790de",
   "metadata": {},
   "outputs": [
    {
     "name": "stdout",
     "output_type": "stream",
     "text": [
      "Results\n",
      "[('p', 'http://www.wikidata.org/prop/direct/P17'), ('pValue', 'country'), ('obj', 'http://www.wikidata.org/entity/Q30'), ('name', 'United States of America')]\n",
      "[('p', 'http://www.wikidata.org/prop/direct/P641'), ('pValue', 'sport'), ('obj', 'http://www.wikidata.org/entity/Q5372'), ('name', 'basketball')]\n",
      "[('p', 'http://www.wikidata.org/prop/direct/P159'), ('pValue', 'headquarters location'), ('obj', 'http://www.wikidata.org/entity/Q65'), ('name', 'Los Angeles')]\n",
      "[('p', 'http://www.wikidata.org/prop/direct/P118'), ('pValue', 'league'), ('obj', 'http://www.wikidata.org/entity/Q155223'), ('name', 'National Basketball Association')]\n",
      "[('p', 'http://www.wikidata.org/prop/direct/P1830'), ('pValue', 'owner of'), ('obj', 'http://www.wikidata.org/entity/Q1781055'), ('name', 'South Bay Lakers')]\n",
      "[('p', 'http://www.wikidata.org/prop/direct/P115'), ('pValue', 'home venue'), ('obj', 'http://www.wikidata.org/entity/Q186080'), ('name', 'Staples Center')]\n",
      "[('p', 'http://www.wikidata.org/prop/direct/P31'), ('pValue', 'instance of'), ('obj', 'http://www.wikidata.org/entity/Q13393265'), ('name', 'basketball team')]\n",
      "[('p', 'http://www.wikidata.org/prop/direct/P1889'), ('pValue', 'different from'), ('obj', 'http://www.wikidata.org/entity/Q668549'), ('name', 'Rapperswil-Jona Lakers')]\n",
      "[('p', 'http://www.wikidata.org/prop/direct/P361'), ('pValue', 'part of'), ('obj', 'http://www.wikidata.org/entity/Q206201'), ('name', 'Pacific Division')]\n",
      "[('p', 'http://www.wikidata.org/prop/direct/P286'), ('pValue', 'head coach'), ('obj', 'http://www.wikidata.org/entity/Q2456047'), ('name', 'Frank Vogel')]\n",
      "[('p', 'http://www.wikidata.org/prop/direct/P910'), ('pValue', \"topic's main category\"), ('obj', 'http://www.wikidata.org/entity/Q4417414'), ('name', 'Category:Los Angeles Lakers')]\n",
      "[('p', 'http://www.wikidata.org/prop/direct/P127'), ('pValue', 'owned by'), ('obj', 'http://www.wikidata.org/entity/Q5127792'), ('name', 'Jeanie Buss')]\n",
      "12\n"
     ]
    }
   ],
   "source": [
    "# Los Angeles Lakers\n",
    "queryString = \"\"\"\n",
    "SELECT DISTINCT ?p ?pValue ?obj ?name\n",
    "WHERE {\n",
    "    wd:Q121783 ?p ?obj .\n",
    "    # get the label\n",
    "    ?p sc:name ?pValue .\n",
    "    ?obj sc:name ?name .\n",
    "}\n",
    "LIMIT 30\n",
    "\"\"\"\n",
    "print(\"Results\")\n",
    "x=run_query(queryString)"
   ]
  },
  {
   "cell_type": "code",
   "execution_count": 3,
   "id": "ca85d2c3-cb00-421a-835a-c01ebced6049",
   "metadata": {},
   "outputs": [
    {
     "name": "stdout",
     "output_type": "stream",
     "text": [
      "Results\n",
      "[('p', 'http://www.wikidata.org/prop/direct/P2283'), ('pValue', 'uses'), ('obj', 'http://www.wikidata.org/entity/Q2341939'), ('name', 'basketball court')]\n",
      "[('p', 'http://www.wikidata.org/prop/direct/P5008'), ('pValue', 'on focus list of Wikimedia project'), ('obj', 'http://www.wikidata.org/entity/Q15304953'), ('name', 'WikiProject African diaspora')]\n",
      "[('p', 'http://www.wikidata.org/prop/direct/P31'), ('pValue', 'instance of'), ('obj', 'http://www.wikidata.org/entity/Q212434'), ('name', 'Olympic sport')]\n",
      "[('p', 'http://www.wikidata.org/prop/direct/P279'), ('pValue', 'subclass of'), ('obj', 'http://www.wikidata.org/entity/Q216048'), ('name', 'team sport')]\n",
      "[('p', 'http://www.wikidata.org/prop/direct/P495'), ('pValue', 'country of origin'), ('obj', 'http://www.wikidata.org/entity/Q30'), ('name', 'United States of America')]\n",
      "[('p', 'http://www.wikidata.org/prop/direct/P31'), ('pValue', 'instance of'), ('obj', 'http://www.wikidata.org/entity/Q31629'), ('name', 'type of sport')]\n",
      "[('p', 'http://www.wikidata.org/prop/direct/P3095'), ('pValue', 'practiced by'), ('obj', 'http://www.wikidata.org/entity/Q3665646'), ('name', 'basketball player')]\n",
      "[('p', 'http://www.wikidata.org/prop/direct/P2094'), ('pValue', 'competition class'), ('obj', 'http://www.wikidata.org/entity/Q46343203'), ('name', \"men's basketball\")]\n",
      "[('p', 'http://www.wikidata.org/prop/direct/P5008'), ('pValue', 'on focus list of Wikimedia project'), ('obj', 'http://www.wikidata.org/entity/Q5460604'), ('name', 'Wikipedia:Vital articles')]\n",
      "[('p', 'http://www.wikidata.org/prop/direct/P279'), ('pValue', 'subclass of'), ('obj', 'http://www.wikidata.org/entity/Q877517'), ('name', 'ball game')]\n",
      "[('p', 'http://www.wikidata.org/prop/direct/P61'), ('pValue', 'discoverer or inventor'), ('obj', 'http://www.wikidata.org/entity/Q188962'), ('name', 'James Naismith')]\n",
      "[('p', 'http://www.wikidata.org/prop/direct/P2094'), ('pValue', 'competition class'), ('obj', 'http://www.wikidata.org/entity/Q2887217'), ('name', \"women's basketball\")]\n",
      "[('p', 'http://www.wikidata.org/prop/direct/P1889'), ('pValue', 'different from'), ('obj', 'http://www.wikidata.org/entity/Q231200'), ('name', 'netball')]\n",
      "[('p', 'http://www.wikidata.org/prop/direct/P910'), ('pValue', \"topic's main category\"), ('obj', 'http://www.wikidata.org/entity/Q7021007'), ('name', 'Category:Basketball')]\n",
      "[('p', 'http://www.wikidata.org/prop/direct/P2283'), ('pValue', 'uses'), ('obj', 'http://www.wikidata.org/entity/Q810345'), ('name', 'basketball')]\n",
      "[('p', 'http://www.wikidata.org/prop/direct/P1151'), ('pValue', \"topic's main Wikimedia portal\"), ('obj', 'http://www.wikidata.org/entity/Q8206894'), ('name', 'Portal:Basketball')]\n",
      "[('p', 'http://www.wikidata.org/prop/direct/P2283'), ('pValue', 'uses'), ('obj', 'http://www.wikidata.org/entity/Q1784231'), ('name', 'backboard')]\n",
      "[('p', 'http://www.wikidata.org/prop/direct/P2283'), ('pValue', 'uses'), ('obj', 'http://www.wikidata.org/entity/Q2283464'), ('name', 'basket')]\n",
      "18\n"
     ]
    }
   ],
   "source": [
    "# BGP for basketball\n",
    "queryString = \"\"\"\n",
    "SELECT DISTINCT ?p ?pValue ?obj ?name\n",
    "WHERE {\n",
    "    wd:Q5372 ?p ?obj .\n",
    "    # get the label\n",
    "    ?p sc:name ?pValue .\n",
    "    ?obj sc:name ?name .\n",
    "}\n",
    "LIMIT 30\n",
    "\"\"\"\n",
    "print(\"Results\")\n",
    "x=run_query(queryString)"
   ]
  },
  {
   "cell_type": "code",
   "execution_count": 6,
   "id": "cee92a0c-9193-4060-adef-96c52f957b3f",
   "metadata": {},
   "outputs": [
    {
     "name": "stdout",
     "output_type": "stream",
     "text": [
      "Results\n",
      "[('team', \"2013–14 Atlantic Coast Conference men's basketball season\"), ('country', 'http://www.wikidata.org/entity/P348'), ('countryName', 'software version identifier')]\n",
      "[('team', \"2013–14 Atlantic Coast Conference men's basketball season\"), ('country', 'http://www.wikidata.org/entity/P4669'), ('countryName', 'tabular software version')]\n",
      "[('team', \"2013–14 Atlantic Coast Conference men's basketball season\"), ('country', 'http://www.wikidata.org/entity/P747'), ('countryName', 'has edition or translation')]\n",
      "[('team', \"2013–14 Atlantic Coast Conference men's basketball season\"), ('country', 'http://www.wikidata.org/entity/Q1002728'), ('countryName', 'Fonsi Nieto')]\n",
      "[('team', \"2013–14 Atlantic Coast Conference men's basketball season\"), ('country', 'http://www.wikidata.org/entity/Q100326534'), ('countryName', \"Al Stewart's albums in chronological order\")]\n",
      "[('team', \"2013–14 Atlantic Coast Conference men's basketball season\"), ('country', 'http://www.wikidata.org/entity/Q100327667'), ('countryName', 'Category:Adelina Lopes Vieira')]\n",
      "[('team', \"2013–14 Atlantic Coast Conference men's basketball season\"), ('country', 'http://www.wikidata.org/entity/Q100343342'), ('countryName', 'Lubomír Stoklásek')]\n",
      "[('team', \"2013–14 Atlantic Coast Conference men's basketball season\"), ('country', 'http://www.wikidata.org/entity/Q1007576'), ('countryName', 'Ciudad Vieja')]\n",
      "[('team', \"2013–14 Atlantic Coast Conference men's basketball season\"), ('country', 'http://www.wikidata.org/entity/Q100879156'), ('countryName', 'Echániz')]\n",
      "[('team', \"2013–14 Atlantic Coast Conference men's basketball season\"), ('country', 'http://www.wikidata.org/entity/Q10100'), ('countryName', 'Natuna')]\n",
      "10\n"
     ]
    }
   ],
   "source": [
    "# write your queries\n",
    "queryString = \"\"\"\n",
    "SELECT DISTINCT ?team ?country ?countryName\n",
    "WHERE {\n",
    "    ?teamIRI wdt:P641 wd:Q5372 .\n",
    "    ?teamIRI wdt:P17 ?obj .\n",
    "    # get the label\n",
    "    ?teamIRI sc:name ?team .\n",
    "    ?country sc:name ?countryName .\n",
    "}\n",
    "LIMIT 10\n",
    "\"\"\"\n",
    "print(\"Results\")\n",
    "x=run_query(queryString)"
   ]
  },
  {
   "cell_type": "code",
   "execution_count": 36,
   "id": "4ba4122d-9f09-4a22-b418-f596b7e06388",
   "metadata": {},
   "outputs": [
    {
     "name": "stdout",
     "output_type": "stream",
     "text": [
      "Results\n",
      "The operation failed EndPointInternalError: endpoint returned code 500 and response. \n",
      "\n",
      "Response:\n",
      "b'Virtuoso 42000 Error The estimated execution time -1567211520 (sec) exceeds the limit of 800 (sec).\\n\\nSPARQL query:\\n\\n##-2a2a7ba14b-##\\nPREFIX wd: <http://www.wikidata.org/entity/> \\nPREFIX wdt: <http://www.wikidata.org/prop/direct/> \\nPREFIX sc: <http://schema.org/>\\n\\n\\nSELECT DISTINCT ?team ?country ?countryName\\nWHERE {\\n    ?teamIRI wdt:P641 wd:Q5372 .\\n    ?teamIRI wdt:P17 ?obj .\\n    # get the label\\n    ?teamIRI sc:name ?team .\\n    ?country sc:name ?countryName .\\n}\\nGROUP BY ?team\\nLIMIT 30\\n'\n"
     ]
    }
   ],
   "source": [
    "# write your queries\n",
    "queryString = \"\"\"\n",
    "SELECT DISTINCT ?team ?country ?countryName\n",
    "WHERE {\n",
    "    ?teamIRI wdt:P641 wd:Q5372 .\n",
    "    ?teamIRI wdt:P17 ?obj .\n",
    "    # get the label\n",
    "    ?teamIRI sc:name ?team .\n",
    "    ?country sc:name ?countryName .\n",
    "}\n",
    "GROUP BY ?team\n",
    "LIMIT 30\n",
    "\"\"\"\n",
    "print(\"Results\")\n",
    "x=run_query(queryString)"
   ]
  },
  {
   "cell_type": "code",
   "execution_count": 12,
   "id": "9f7f6887-d26f-4309-8f5a-53f058f969ad",
   "metadata": {},
   "outputs": [
    {
     "name": "stdout",
     "output_type": "stream",
     "text": [
      "Results\n",
      "[('teamIRI', 'http://www.wikidata.org/entity/Q18286220'), ('team', 'Metros de Santiago'), ('country', 'http://www.wikidata.org/entity/Q786'), ('countryName', 'Dominican Republic')]\n",
      "[('teamIRI', 'http://www.wikidata.org/entity/Q2394357'), ('team', '2005 FIBA Americas Championship'), ('country', 'http://www.wikidata.org/entity/Q786'), ('countryName', 'Dominican Republic')]\n",
      "[('teamIRI', 'http://www.wikidata.org/entity/Q18203083'), ('team', 'Titanes del Distrito Nacional'), ('country', 'http://www.wikidata.org/entity/Q786'), ('countryName', 'Dominican Republic')]\n",
      "[('teamIRI', 'http://www.wikidata.org/entity/Q303061'), ('team', \"Mauritania men's national basketball team\"), ('country', 'http://www.wikidata.org/entity/Q1025'), ('countryName', 'Mauritania')]\n",
      "[('teamIRI', 'http://www.wikidata.org/entity/Q20982411'), ('team', \"Ethiopia men's national under-16 basketball team\"), ('country', 'http://www.wikidata.org/entity/Q115'), ('countryName', 'Ethiopia')]\n",
      "[('teamIRI', 'http://www.wikidata.org/entity/Q3156854'), ('team', \"Jeanne d'Arc Liberté et Tir du Mans\"), ('country', 'http://www.wikidata.org/entity/Q142'), ('countryName', 'France')]\n",
      "[('teamIRI', 'http://www.wikidata.org/entity/Q20963308'), ('team', 'EuroBasket 2015 Final'), ('country', 'http://www.wikidata.org/entity/Q142'), ('countryName', 'France')]\n",
      "[('teamIRI', 'http://www.wikidata.org/entity/Q20965603'), ('team', '1974–75 Élan Chalon season'), ('country', 'http://www.wikidata.org/entity/Q142'), ('countryName', 'France')]\n",
      "[('teamIRI', 'http://www.wikidata.org/entity/Q20965604'), ('team', '1975–76 Élan Chalon season'), ('country', 'http://www.wikidata.org/entity/Q142'), ('countryName', 'France')]\n",
      "[('teamIRI', 'http://www.wikidata.org/entity/Q20965611'), ('team', '1989–90 Élan Chalon season'), ('country', 'http://www.wikidata.org/entity/Q142'), ('countryName', 'France')]\n",
      "10\n"
     ]
    }
   ],
   "source": [
    "# write your queries\n",
    "queryString = \"\"\"\n",
    "SELECT DISTINCT ?teamIRI ?team ?country ?countryName\n",
    "WHERE {\n",
    "    ?teamIRI wdt:P641 wd:Q5372 .\n",
    "    ?teamIRI wdt:P17 ?country .\n",
    "    # get the label\n",
    "    ?teamIRI sc:name ?team .\n",
    "    ?country sc:name ?countryName .\n",
    "    #FILTER (REGEX(?countryName, \"Italy\"))\n",
    "}\n",
    "LIMIT 10\n",
    "\"\"\"\n",
    "print(\"Results\")\n",
    "x=run_query(queryString)"
   ]
  },
  {
   "cell_type": "code",
   "execution_count": 18,
   "id": "43e40fd9-7cae-45e6-a332-72af0e38bfe0",
   "metadata": {},
   "outputs": [
    {
     "name": "stdout",
     "output_type": "stream",
     "text": [
      "Results\n",
      "[('country', 'http://www.wikidata.org/entity/Q38'), ('teamIRI', 'http://www.wikidata.org/entity/Q17332997'), ('team', 'Palavesuvio')]\n",
      "[('country', 'http://www.wikidata.org/entity/Q38'), ('teamIRI', 'http://www.wikidata.org/entity/Q16531388'), ('team', 'Virtus Basket Ariano')]\n",
      "[('country', 'http://www.wikidata.org/entity/Q38'), ('teamIRI', 'http://www.wikidata.org/entity/Q16586535'), ('team', 'Pallacanestro Brindisi')]\n",
      "[('country', 'http://www.wikidata.org/entity/Q38'), ('teamIRI', 'http://www.wikidata.org/entity/Q17057058'), ('team', '1969–70 Pallacanestro Brindisi season')]\n",
      "[('country', 'http://www.wikidata.org/entity/Q38'), ('teamIRI', 'http://www.wikidata.org/entity/Q17154474'), ('team', '1964–65 Pallacanestro Brindisi season')]\n",
      "[('country', 'http://www.wikidata.org/entity/Q38'), ('teamIRI', 'http://www.wikidata.org/entity/Q17622442'), ('team', '2013–14 Basket Ariano Irpino season')]\n",
      "[('country', 'http://www.wikidata.org/entity/Q38'), ('teamIRI', 'http://www.wikidata.org/entity/Q17635486'), ('team', '1955–56 Pallacanestro Brindisi season')]\n",
      "[('country', 'http://www.wikidata.org/entity/Q38'), ('teamIRI', 'http://www.wikidata.org/entity/Q17635488'), ('team', '1956–57 Pallacanestro Brindisi season')]\n",
      "[('country', 'http://www.wikidata.org/entity/Q38'), ('teamIRI', 'http://www.wikidata.org/entity/Q17635491'), ('team', '1957–58 Pallacanestro Brindisi season')]\n",
      "[('country', 'http://www.wikidata.org/entity/Q38'), ('teamIRI', 'http://www.wikidata.org/entity/Q17635507'), ('team', '1963–64 Pallacanestro Brindisi season')]\n",
      "10\n"
     ]
    }
   ],
   "source": [
    "# write your queries\n",
    "queryString = \"\"\"\n",
    "SELECT DISTINCT ?country ?teamIRI ?team \n",
    "WHERE {\n",
    "    ?teamIRI wdt:P641 wd:Q5372 .\n",
    "    ?teamIRI wdt:P17 ?country .\n",
    "    # get the label\n",
    "    ?teamIRI sc:name ?team .\n",
    "    ?country sc:name ?countryName .\n",
    "    FILTER (REGEX(?countryName, \"Italy\"))\n",
    "}\n",
    "LIMIT 10\n",
    "\"\"\"\n",
    "print(\"Results\")\n",
    "x=run_query(queryString)"
   ]
  },
  {
   "cell_type": "code",
   "execution_count": 13,
   "id": "b60d0393-95b3-41eb-83ce-f2df91389af6",
   "metadata": {},
   "outputs": [
    {
     "name": "stdout",
     "output_type": "stream",
     "text": [
      "Results\n",
      "[('p', 'http://www.wikidata.org/prop/direct/P155'), ('pValue', 'follows'), ('obj', 'http://www.wikidata.org/entity/Q24066097'), ('name', '1967–68 Pallacanestro Cantù season')]\n",
      "[('p', 'http://www.wikidata.org/prop/direct/P156'), ('pValue', 'followed by'), ('obj', 'http://www.wikidata.org/entity/Q24066101'), ('name', '1969–70 Pallacanestro Cantù season')]\n",
      "[('p', 'http://www.wikidata.org/prop/direct/P17'), ('pValue', 'country'), ('obj', 'http://www.wikidata.org/entity/Q38'), ('name', 'Italy')]\n",
      "[('p', 'http://www.wikidata.org/prop/direct/P641'), ('pValue', 'sport'), ('obj', 'http://www.wikidata.org/entity/Q5372'), ('name', 'basketball')]\n",
      "[('p', 'http://www.wikidata.org/prop/direct/P31'), ('pValue', 'instance of'), ('obj', 'http://www.wikidata.org/entity/Q26894053'), ('name', 'basketball team season')]\n",
      "[('p', 'http://www.wikidata.org/prop/direct/P5138'), ('pValue', 'season of club or team'), ('obj', 'http://www.wikidata.org/entity/Q36311'), ('name', 'Pallacanestro Cantù')]\n",
      "[('p', 'http://www.wikidata.org/prop/direct/P2348'), ('pValue', 'time period'), ('obj', 'http://www.wikidata.org/entity/Q53385141'), ('name', '1968-1969 one-year-period')]\n",
      "7\n"
     ]
    }
   ],
   "source": [
    "# 1968–69 Pallacanestro Cantù season\n",
    "queryString = \"\"\"\n",
    "SELECT DISTINCT ?p ?pValue ?obj ?name\n",
    "WHERE {\n",
    "    wd:Q24066100 ?p ?obj .\n",
    "    # get the label\n",
    "    ?p sc:name ?pValue .\n",
    "    ?obj sc:name ?name .\n",
    "}\n",
    "LIMIT 30\n",
    "\"\"\"\n",
    "print(\"Results\")\n",
    "x=run_query(queryString)"
   ]
  },
  {
   "cell_type": "code",
   "execution_count": 15,
   "id": "49ad27f2-9634-476b-9b0d-8802f5b9d0fe",
   "metadata": {},
   "outputs": [
    {
     "name": "stdout",
     "output_type": "stream",
     "text": [
      "Results\n",
      "[('p', 'http://www.wikidata.org/prop/direct/P17'), ('pValue', 'country'), ('obj', 'http://www.wikidata.org/entity/Q38'), ('name', 'Italy')]\n",
      "[('p', 'http://www.wikidata.org/prop/direct/P641'), ('pValue', 'sport'), ('obj', 'http://www.wikidata.org/entity/Q5372'), ('name', 'basketball')]\n",
      "[('p', 'http://www.wikidata.org/prop/direct/P159'), ('pValue', 'headquarters location'), ('obj', 'http://www.wikidata.org/entity/Q6761'), ('name', 'Livorno')]\n",
      "[('p', 'http://www.wikidata.org/prop/direct/P131'), ('pValue', 'located in the administrative territorial entity'), ('obj', 'http://www.wikidata.org/entity/Q6761'), ('name', 'Livorno')]\n",
      "[('p', 'http://www.wikidata.org/prop/direct/P31'), ('pValue', 'instance of'), ('obj', 'http://www.wikidata.org/entity/Q13393265'), ('name', 'basketball team')]\n",
      "[('p', 'http://www.wikidata.org/prop/direct/P910'), ('pValue', \"topic's main category\"), ('obj', 'http://www.wikidata.org/entity/Q21971304'), ('name', 'Category:Basket Livorno')]\n",
      "6\n"
     ]
    }
   ],
   "source": [
    "# Basket Livorno\n",
    "queryString = \"\"\"\n",
    "SELECT ?p ?pValue ?obj ?name\n",
    "WHERE {\n",
    "    wd:Q654461 ?p ?obj .\n",
    "    # get the label\n",
    "    ?p sc:name ?pValue .\n",
    "    ?obj sc:name ?name .\n",
    "}\n",
    "LIMIT 30\n",
    "\"\"\"\n",
    "print(\"Results\")\n",
    "x=run_query(queryString)"
   ]
  },
  {
   "cell_type": "code",
   "execution_count": 5,
   "id": "f84f8cf6-087f-4b7d-9e13-7e3ea6a23762",
   "metadata": {},
   "outputs": [
    {
     "name": "stdout",
     "output_type": "stream",
     "text": [
      "Results\n",
      "Empty\n"
     ]
    }
   ],
   "source": [
    "# Basket Livorno inception year\n",
    "# bsketball teams dont have this property \n",
    "queryString = \"\"\"\n",
    "SELECT ?obj ?name\n",
    "WHERE {\n",
    "    wd:Q654461 wdt:P571 ?obj .\n",
    "    # get the label\n",
    "    ?obj sc:name ?name .\n",
    "}\n",
    "LIMIT 30\n",
    "\"\"\"\n",
    "print(\"Results\")\n",
    "x=run_query(queryString)"
   ]
  },
  {
   "cell_type": "code",
   "execution_count": 6,
   "id": "f90a0ba4-9679-47f4-9472-0048f3d87b12",
   "metadata": {},
   "outputs": [
    {
     "name": "stdout",
     "output_type": "stream",
     "text": [
      "Results\n",
      "[('obj', '1947-01-01T00:00:00Z')]\n",
      "1\n"
     ]
    }
   ],
   "source": [
    "# Basket Livorno inception year\n",
    "# bsketball teams dont have this property \n",
    "queryString = \"\"\"\n",
    "SELECT ?obj\n",
    "WHERE {\n",
    "    wd:Q654461 wdt:P571 ?obj .\n",
    "    # get the label\n",
    "}\n",
    "LIMIT 30\n",
    "\"\"\"\n",
    "print(\"Results\")\n",
    "x=run_query(queryString)"
   ]
  },
  {
   "cell_type": "code",
   "execution_count": 8,
   "id": "644abaea-37bc-45ea-93cd-36af8c2b3708",
   "metadata": {},
   "outputs": [
    {
     "name": "stdout",
     "output_type": "stream",
     "text": [
      "Results\n",
      "[('teamIRI', 'http://www.wikidata.org/entity/Q16586535'), ('team', 'Pallacanestro Brindisi'), ('inception', '1945-01-01T00:00:00Z')]\n",
      "[('teamIRI', 'http://www.wikidata.org/entity/Q20994305'), ('team', 'A.S.D. Polisportiva Olonia'), ('inception', '1973-06-12T00:00:00Z')]\n",
      "[('teamIRI', 'http://www.wikidata.org/entity/Q21001783'), ('team', 'Basket Ravenna Piero Manetti'), ('inception', '1984-01-01T00:00:00Z')]\n",
      "[('teamIRI', 'http://www.wikidata.org/entity/Q3093425'), ('team', 'Libertas Trogylos Basket'), ('inception', '1970-01-01T00:00:00Z')]\n",
      "[('teamIRI', 'http://www.wikidata.org/entity/Q3515600'), ('team', 'Taranto Cras Basket'), ('inception', '1961-01-01T00:00:00Z')]\n",
      "[('teamIRI', 'http://www.wikidata.org/entity/Q36231'), ('team', 'S.S. Felice Scandone'), ('inception', '1948-01-01T00:00:00Z')]\n",
      "[('teamIRI', 'http://www.wikidata.org/entity/Q36251'), ('team', 'Pallacanestro Biella'), ('inception', '1994-01-01T00:00:00Z')]\n",
      "[('teamIRI', 'http://www.wikidata.org/entity/Q36419'), ('team', 'Pallacanestro Reggiana'), ('inception', '1974-01-01T00:00:00Z')]\n",
      "[('teamIRI', 'http://www.wikidata.org/entity/Q3967121'), ('team', 'RB Montecatini Terme'), ('inception', '1949-01-01T00:00:00Z')]\n",
      "[('teamIRI', 'http://www.wikidata.org/entity/Q48969'), ('team', 'Scaligera Basket Verona'), ('inception', '1951-01-01T00:00:00Z')]\n",
      "10\n"
     ]
    }
   ],
   "source": [
    "queryString = \"\"\"\n",
    "SELECT DISTINCT ?teamIRI ?team ?inception\n",
    "WHERE {\n",
    "    ?teamIRI wdt:P641 wd:Q5372 ;\n",
    "             wdt:P17 wd:Q38 ;\n",
    "             wdt:P571 ?inception .\n",
    "    # get the label\n",
    "    ?teamIRI sc:name ?team .\n",
    "}\n",
    "LIMIT 10\n",
    "\"\"\"\n",
    "print(\"Results\")\n",
    "x=run_query(queryString)"
   ]
  },
  {
   "cell_type": "code",
   "execution_count": 13,
   "id": "e234f8f9-6034-4fdc-9365-4d5181a2ce91",
   "metadata": {},
   "outputs": [
    {
     "name": "stdout",
     "output_type": "stream",
     "text": [
      "Results\n",
      "[('teamIRI', 'http://www.wikidata.org/entity/Q16586535'), ('team', 'Pallacanestro Brindisi'), ('inception', '1945-01-01T00:00:00Z')]\n",
      "[('teamIRI', 'http://www.wikidata.org/entity/Q2887228'), ('team', 'Reyer Venezia Mestre Femminile'), ('inception', '1925-01-01T00:00:00Z')]\n",
      "[('teamIRI', 'http://www.wikidata.org/entity/Q3891980'), ('team', 'Nuova Pallacanestro Pavia'), ('inception', '1943-01-01T00:00:00Z')]\n",
      "[('teamIRI', 'http://www.wikidata.org/entity/Q734750'), ('team', \"Italy men's national basketball team\"), ('inception', '1932-01-01T00:00:00Z')]\n",
      "[('teamIRI', 'http://www.wikidata.org/entity/Q36551'), ('team', 'Pallacanestro Varese'), ('inception', '1945-01-01T00:00:00Z')]\n",
      "[('teamIRI', 'http://www.wikidata.org/entity/Q1139737'), ('team', 'Fortitudo Pallacanestro Bologna'), ('inception', '1932-01-01T00:00:00Z')]\n",
      "[('teamIRI', 'http://www.wikidata.org/entity/Q36362'), ('team', 'Olimpia Milano'), ('inception', '1936-01-01T00:00:00Z')]\n",
      "[('teamIRI', 'http://www.wikidata.org/entity/Q36500'), ('team', 'Mens Sana Basket'), ('inception', '1861-01-01T00:00:00Z')]\n",
      "[('teamIRI', 'http://www.wikidata.org/entity/Q3397840'), ('team', 'ASDG Comense 1872'), ('inception', '1872-01-01T00:00:00Z')]\n",
      "[('teamIRI', 'http://www.wikidata.org/entity/Q3879789'), ('team', 'Nuova Pallacanestro Gorizia'), ('inception', '1934-01-01T00:00:00Z')]\n",
      "10\n"
     ]
    }
   ],
   "source": [
    "queryString = \"\"\"\n",
    "SELECT DISTINCT ?teamIRI ?team ?inception\n",
    "WHERE {\n",
    "    ?teamIRI wdt:P641 wd:Q5372 ;\n",
    "             wdt:P17 wd:Q38 ;\n",
    "             wdt:P571 ?inception .\n",
    "    # get the label\n",
    "    ?teamIRI sc:name ?team .\n",
    "    FILTER(?inception < \"19450101\"^^xsd:date)\n",
    "}\n",
    "LIMIT 10\n",
    "\"\"\"\n",
    "print(\"Results\")\n",
    "x=run_query(queryString)"
   ]
  },
  {
   "cell_type": "markdown",
   "id": "34907246",
   "metadata": {},
   "source": [
    "Final query for this task"
   ]
  },
  {
   "cell_type": "code",
   "execution_count": 15,
   "id": "87937115",
   "metadata": {},
   "outputs": [
    {
     "name": "stdout",
     "output_type": "stream",
     "text": [
      "Results\n",
      "[('teamIRI', 'http://www.wikidata.org/entity/Q16586535'), ('team', 'Pallacanestro Brindisi'), ('inception', '1945-01-01T00:00:00Z')]\n",
      "[('teamIRI', 'http://www.wikidata.org/entity/Q2887228'), ('team', 'Reyer Venezia Mestre Femminile'), ('inception', '1925-01-01T00:00:00Z')]\n",
      "[('teamIRI', 'http://www.wikidata.org/entity/Q3891980'), ('team', 'Nuova Pallacanestro Pavia'), ('inception', '1943-01-01T00:00:00Z')]\n",
      "[('teamIRI', 'http://www.wikidata.org/entity/Q734750'), ('team', \"Italy men's national basketball team\"), ('inception', '1932-01-01T00:00:00Z')]\n",
      "[('teamIRI', 'http://www.wikidata.org/entity/Q36551'), ('team', 'Pallacanestro Varese'), ('inception', '1945-01-01T00:00:00Z')]\n",
      "[('teamIRI', 'http://www.wikidata.org/entity/Q1139737'), ('team', 'Fortitudo Pallacanestro Bologna'), ('inception', '1932-01-01T00:00:00Z')]\n",
      "[('teamIRI', 'http://www.wikidata.org/entity/Q36362'), ('team', 'Olimpia Milano'), ('inception', '1936-01-01T00:00:00Z')]\n",
      "[('teamIRI', 'http://www.wikidata.org/entity/Q36500'), ('team', 'Mens Sana Basket'), ('inception', '1861-01-01T00:00:00Z')]\n",
      "[('teamIRI', 'http://www.wikidata.org/entity/Q3397840'), ('team', 'ASDG Comense 1872'), ('inception', '1872-01-01T00:00:00Z')]\n",
      "[('teamIRI', 'http://www.wikidata.org/entity/Q3879789'), ('team', 'Nuova Pallacanestro Gorizia'), ('inception', '1934-01-01T00:00:00Z')]\n",
      "[('teamIRI', 'http://www.wikidata.org/entity/Q36264'), ('team', 'Virtus Pallacanestro Bologna'), ('inception', '1927-01-01T00:00:00Z')]\n",
      "[('teamIRI', 'http://www.wikidata.org/entity/Q36311'), ('team', 'Pallacanestro Cantù'), ('inception', '1936-01-01T00:00:00Z')]\n",
      "[('teamIRI', 'http://www.wikidata.org/entity/Q929124'), ('team', 'Lega Basket Serie A'), ('inception', '1920-01-01T00:00:00Z')]\n",
      "[('teamIRI', 'http://www.wikidata.org/entity/Q7127695'), ('team', 'Pallacanestro Pavia'), ('inception', '1943-01-01T00:00:00Z')]\n",
      "[('teamIRI', 'http://www.wikidata.org/entity/Q3754192'), ('team', 'Fulgor Omegna'), ('inception', '1937-01-01T00:00:00Z')]\n",
      "[('teamIRI', 'http://www.wikidata.org/entity/Q36572'), ('team', 'Reyer Venezia Mestre'), ('inception', '1925-01-01T00:00:00Z')]\n",
      "[('teamIRI', 'http://www.wikidata.org/entity/Q3956381'), ('team', 'Serie A1'), ('inception', '1930-01-01T00:00:00Z')]\n",
      "[('teamIRI', 'http://www.wikidata.org/entity/Q1107166'), ('team', 'Italian Basketball Federation'), ('inception', '1921-01-01T00:00:00Z')]\n",
      "[('teamIRI', 'http://www.wikidata.org/entity/Q961782'), ('team', 'Pallacanestro Petrarca Padova'), ('inception', '1934-01-01T00:00:00Z')]\n",
      "[('teamIRI', 'http://www.wikidata.org/entity/Q3712068'), ('team', 'Serie B Dilettanti'), ('inception', '1937-01-01T00:00:00Z')]\n",
      "[('teamIRI', 'http://www.wikidata.org/entity/Q3777417'), ('team', 'Gruppo Sportivo FIAT'), ('inception', '1922-01-01T00:00:00Z')]\n",
      "[('teamIRI', 'http://www.wikidata.org/entity/Q3972903'), ('team', 'Stella Azzurra Roma'), ('inception', '1938-01-01T00:00:00Z')]\n",
      "[('teamIRI', 'http://www.wikidata.org/entity/Q3943568'), ('team', 'SEF Costanza Milano'), ('inception', '1919-01-01T00:00:00Z')]\n",
      "[('teamIRI', 'http://www.wikidata.org/entity/Q51327338'), ('team', 'Gruppo Sportivo Bernocchi'), ('inception', '1945-01-01T00:00:00Z')]\n",
      "[('teamIRI', 'http://www.wikidata.org/entity/Q3747654'), ('team', 'F.C. Internazionale Milano (basketball)'), ('inception', '1908-01-01T00:00:00Z')]\n",
      "25\n"
     ]
    }
   ],
   "source": [
    "# write your final query\n",
    "queryString = \"\"\"\n",
    "SELECT DISTINCT ?teamIRI ?team ?inception\n",
    "WHERE {\n",
    "    ?teamIRI wdt:P641 wd:Q5372 ;\n",
    "             wdt:P17 wd:Q38 ;\n",
    "             wdt:P571 ?inception .\n",
    "    # get the label\n",
    "    ?teamIRI sc:name ?team .\n",
    "    FILTER(?inception < \"19450101\"^^xsd:date)\n",
    "}\n",
    "LIMIT 30\n",
    "\"\"\"\n",
    "print(\"Results\")\n",
    "x=run_query(queryString)"
   ]
  },
  {
   "cell_type": "markdown",
   "id": "c16a55c3",
   "metadata": {},
   "source": [
    "## Task 5\n",
    "Identify the BGP for NBA finals"
   ]
  },
  {
   "cell_type": "code",
   "execution_count": 26,
   "id": "ebd5fd14",
   "metadata": {},
   "outputs": [
    {
     "name": "stdout",
     "output_type": "stream",
     "text": [
      "Results\n",
      "[('award', 'http://www.wikidata.org/entity/Q1501719'), ('awardName', 'J. Walter Kennedy Citizenship Award')]\n",
      "[('award', 'http://www.wikidata.org/entity/Q4896605'), ('awardName', 'Best Championship Performance ESPY Award')]\n",
      "[('award', 'http://www.wikidata.org/entity/Q4896598'), ('awardName', 'Best Breakthrough Athlete ESPY Award')]\n",
      "[('award', 'http://www.wikidata.org/entity/Q743122'), ('awardName', 'Associated Press Athlete of the Year')]\n",
      "[('award', 'http://www.wikidata.org/entity/Q1418009'), ('awardName', 'NBA All-Rookie Team')]\n",
      "[('award', 'http://www.wikidata.org/entity/Q1465181'), ('awardName', 'NBA All-Defensive Team')]\n",
      "[('award', 'http://www.wikidata.org/entity/Q1653207'), ('awardName', 'Sports Illustrated Sportsperson of the Year')]\n",
      "[('award', 'http://www.wikidata.org/entity/Q222047'), ('awardName', 'NBA Most Valuable Player Award')]\n",
      "[('award', 'http://www.wikidata.org/entity/Q31391'), ('awardName', 'NBA All-Star Game Kobe Bryant Most Valuable Player Award')]\n",
      "[('award', 'http://www.wikidata.org/entity/Q4835465'), ('awardName', 'BET Award for Athlete of the Century')]\n",
      "[('award', 'http://www.wikidata.org/entity/Q4896724'), ('awardName', 'Best Male Athlete ESPY Award')]\n",
      "[('award', 'http://www.wikidata.org/entity/Q644357'), ('awardName', 'NBA Rookie of the Year Award')]\n",
      "[('award', 'http://www.wikidata.org/entity/Q674359'), ('awardName', 'All-NBA Team')]\n",
      "[('award', 'http://www.wikidata.org/entity/Q739499'), ('awardName', 'Bill Russell NBA Finals Most Valuable Player Award')]\n",
      "[('award', 'http://www.wikidata.org/entity/Q943106'), ('awardName', 'Best NBA Player ESPY Award')]\n",
      "[('award', 'http://www.wikidata.org/entity/Q7080855'), ('awardName', 'Ohio Mr. Basketball')]\n",
      "[('award', 'http://www.wikidata.org/entity/Q2282428'), ('awardName', 'Naismith Prep Player of the Year Award')]\n",
      "17\n"
     ]
    }
   ],
   "source": [
    "# awards that Lebron James received \n",
    "queryString = \"\"\"\n",
    "SELECT ?award ?awardName \n",
    "WHERE {\n",
    "    wd:Q36159 wdt:P166 ?award .\n",
    "    # get the label\n",
    "    ?award sc:name ?awardName .\n",
    "}\n",
    "LIMIT 100\n",
    "\"\"\"\n",
    "print(\"Results\")\n",
    "x=run_query(queryString)"
   ]
  },
  {
   "cell_type": "code",
   "execution_count": 28,
   "id": "9ff29d18-9c03-481c-9b98-ec14db54d8ee",
   "metadata": {},
   "outputs": [
    {
     "name": "stdout",
     "output_type": "stream",
     "text": [
      "Results\n",
      "[('obj', 'http://www.wikidata.org/entity/Q618779'), ('name', 'award')]\n",
      "1\n"
     ]
    }
   ],
   "source": [
    "#NBA Rookie of the Year Award is inscance of\n",
    "queryString = \"\"\"\n",
    "SELECT ?obj ?name \n",
    "WHERE {\n",
    "    wd:Q644357 wdt:P31 ?obj .\n",
    "    # get the label\n",
    "    ?obj sc:name ?name .\n",
    "}\n",
    "LIMIT 100\n",
    "\"\"\"\n",
    "print(\"Results\")\n",
    "x=run_query(queryString)"
   ]
  },
  {
   "cell_type": "code",
   "execution_count": 29,
   "id": "3955f69d-7932-48b8-bcd0-7fd06f23a0a7",
   "metadata": {},
   "outputs": [
    {
     "name": "stdout",
     "output_type": "stream",
     "text": [
      "Results\n",
      "Empty\n"
     ]
    }
   ],
   "source": [
    "#NBA Rookie of the Year Award is subclass of\n",
    "queryString = \"\"\"\n",
    "SELECT ?obj ?name \n",
    "WHERE {\n",
    "    wd:Q644357 wdt:P279 ?obj .\n",
    "    # get the label\n",
    "    ?obj sc:name ?name .\n",
    "}\n",
    "LIMIT 100\n",
    "\"\"\"\n",
    "print(\"Results\")\n",
    "x=run_query(queryString)"
   ]
  },
  {
   "cell_type": "code",
   "execution_count": 39,
   "id": "4dd2822f-3027-47ec-9a3f-1efa459d91f1",
   "metadata": {
    "tags": []
   },
   "outputs": [
    {
     "name": "stdout",
     "output_type": "stream",
     "text": [
      "Results\n",
      "[('s', 'http://www.wikidata.org/entity/Q911283'), ('name', 'brevet')]\n",
      "[('s', 'http://www.wikidata.org/entity/Q18157145'), ('name', 'YouTube Creator Awards')]\n",
      "[('s', 'http://www.wikidata.org/entity/Q1108877'), ('name', 'collar')]\n",
      "[('s', 'http://www.wikidata.org/entity/Q20103352'), ('name', 'Premi Llibreter de narrativa')]\n",
      "[('s', 'http://www.wikidata.org/entity/Q5557260'), ('name', 'Hijo Predilecto')]\n",
      "[('s', 'http://www.wikidata.org/entity/Q738903'), ('name', 'Yellow jersey')]\n",
      "[('s', 'http://www.wikidata.org/entity/Q740089'), ('name', 'Leo Awards')]\n",
      "[('s', 'http://www.wikidata.org/entity/Q1046088'), ('name', 'hall of fame')]\n",
      "[('s', 'http://www.wikidata.org/entity/Q2548939'), ('name', 'War Resisters League Peace Award')]\n",
      "[('s', 'http://www.wikidata.org/entity/Q484963'), ('name', 'BMI Film & TV Awards')]\n",
      "[('s', 'http://www.wikidata.org/entity/Q99864'), ('name', 'Freedom of the City')]\n",
      "[('s', 'http://www.wikidata.org/entity/Q18328126'), ('name', 'video game award')]\n",
      "[('s', 'http://www.wikidata.org/entity/Q57516482'), ('name', \"Romics d'Oro\")]\n",
      "[('s', 'http://www.wikidata.org/entity/Q6054302'), ('name', 'International Women of Courage Award')]\n",
      "[('s', 'http://www.wikidata.org/entity/Q20104553'), ('name', 'Carles Riba Prize')]\n",
      "[('s', 'http://www.wikidata.org/entity/Q3374321'), ('name', 'Peintre des armées en France')]\n",
      "[('s', 'http://www.wikidata.org/entity/Q10873824'), ('name', 'China Quyi Peony Awards')]\n",
      "[('s', 'http://www.wikidata.org/entity/Q6026143'), ('name', 'Indonesian Movie Awards')]\n",
      "[('s', 'http://www.wikidata.org/entity/Q22349951'), ('name', 'Coronation Medal')]\n",
      "[('s', 'http://www.wikidata.org/entity/Q1479963'), ('name', 'advancement award')]\n",
      "[('s', 'http://www.wikidata.org/entity/Q10519151'), ('name', 'honorary member')]\n",
      "[('s', 'http://www.wikidata.org/entity/Q987080'), ('name', 'honorary citizenship')]\n",
      "[('s', 'http://www.wikidata.org/entity/Q18328106'), ('name', 'religion-related award')]\n",
      "[('s', 'http://www.wikidata.org/entity/Q1975665'), ('name', 'ennoblement')]\n",
      "[('s', 'http://www.wikidata.org/entity/Q5970360'), ('name', 'IEEE Emanuel R. Piore Award')]\n",
      "[('s', 'http://www.wikidata.org/entity/Q11796413'), ('name', 'decoration')]\n",
      "[('s', 'http://www.wikidata.org/entity/Q1407225'), ('name', 'television award')]\n",
      "[('s', 'http://www.wikidata.org/entity/Q314934'), ('name', 'Max & Moritz Prize')]\n",
      "[('s', 'http://www.wikidata.org/entity/Q4240305'), ('name', 'cross')]\n",
      "[('s', 'http://www.wikidata.org/entity/Q57082336'), ('name', 'award medal')]\n",
      "30\n"
     ]
    }
   ],
   "source": [
    "#subclasses of award \n",
    "queryString = \"\"\"\n",
    "SELECT ?s ?name \n",
    "WHERE {\n",
    "    ?s wdt:P279 wd:Q618779 .\n",
    "    # get the label\n",
    "    ?s sc:name ?name .\n",
    "}\n",
    "LIMIT 30\n",
    "\"\"\"\n",
    "print(\"Results\")\n",
    "x=run_query(queryString)"
   ]
  },
  {
   "cell_type": "code",
   "execution_count": 40,
   "id": "b8bd635c-4455-40c0-b4aa-386fc937c4da",
   "metadata": {},
   "outputs": [
    {
     "name": "stdout",
     "output_type": "stream",
     "text": [
      "Results\n",
      "Empty\n"
     ]
    }
   ],
   "source": [
    "queryString = \"\"\"\n",
    "SELECT ?s ?name \n",
    "WHERE {\n",
    "    ?s wdt:P279 wd:Q618779 .\n",
    "    wd:Q13393265 wdt:P166 ?s .\n",
    "    # get the label\n",
    "    ?s sc:name ?name .\n",
    "}\n",
    "LIMIT 30\n",
    "\"\"\"\n",
    "print(\"Results\")\n",
    "x=run_query(queryString)"
   ]
  },
  {
   "cell_type": "code",
   "execution_count": 32,
   "id": "790bf645-5523-4daa-8ac8-b1ad7b90cd2e",
   "metadata": {},
   "outputs": [
    {
     "name": "stdout",
     "output_type": "stream",
     "text": [
      "Results\n",
      "Empty\n"
     ]
    }
   ],
   "source": [
    "# awards that BT Miami Heat received \n",
    "queryString = \"\"\"\n",
    "SELECT ?award ?awardName \n",
    "WHERE {\n",
    "    wd:Q169138 wdt:P166 ?award .\n",
    "    # get the label\n",
    "    ?award sc:name ?awardName .\n",
    "}\n",
    "LIMIT 100\n",
    "\"\"\"\n",
    "print(\"Results\")\n",
    "x=run_query(queryString)"
   ]
  },
  {
   "cell_type": "code",
   "execution_count": 41,
   "id": "d2f6ffaa-290b-4bb8-bc7a-2ec91cea3731",
   "metadata": {},
   "outputs": [
    {
     "name": "stdout",
     "output_type": "stream",
     "text": [
      "Results\n",
      "[('p', 'http://www.wikidata.org/prop/direct/P366'), ('name', 'use'), ('value', 'recognition')]\n",
      "[('p', 'http://www.wikidata.org/prop/direct/P279'), ('name', 'subclass of'), ('value', 'recognition')]\n",
      "[('p', 'http://www.wikidata.org/prop/direct/P1382'), ('name', 'partially coincident with'), ('value', 'competition')]\n",
      "[('p', 'http://www.wikidata.org/prop/direct/P2354'), ('name', 'has list'), ('value', 'list of lists of prizes, medals, and awards')]\n",
      "[('p', 'http://www.wikidata.org/prop/direct/P1889'), ('name', 'different from'), ('value', 'distinction')]\n",
      "[('p', 'http://www.wikidata.org/prop/direct/P1343'), ('name', 'described by source'), ('value', 'New Encyclopedic Dictionary')]\n",
      "[('p', 'http://www.wikidata.org/prop/direct/P1343'), ('name', 'described by source'), ('value', 'Armenian Soviet Encyclopedia')]\n",
      "[('p', 'http://www.wikidata.org/prop/direct/P1343'), ('name', 'described by source'), ('value', 'Brockhaus and Efron Encyclopedic Dictionary')]\n",
      "[('p', 'http://www.wikidata.org/prop/direct/P461'), ('name', 'opposite of'), ('value', 'punishment')]\n",
      "[('p', 'http://www.wikidata.org/prop/direct/P1687'), ('name', 'Wikidata property'), ('value', 'conferred by')]\n",
      "[('p', 'http://www.wikidata.org/prop/direct/P1963'), ('name', 'properties for this type'), ('value', 'conferred by')]\n",
      "[('p', 'http://www.wikidata.org/prop/direct/P1687'), ('name', 'Wikidata property'), ('value', 'grants')]\n",
      "[('p', 'http://www.wikidata.org/prop/direct/P527'), ('name', 'has part'), ('value', 'class of award')]\n",
      "[('p', 'http://www.wikidata.org/prop/direct/P460'), ('name', 'said to be the same as'), ('value', 'prize')]\n",
      "[('p', 'http://www.wikidata.org/prop/direct/P6104'), ('name', 'maintained by WikiProject'), ('value', 'WikiProject Awards and prizes')]\n",
      "[('p', 'http://www.wikidata.org/prop/direct/P6186'), ('name', 'category for eponymous categories'), ('value', 'Category:Wikipedia categories named after awards')]\n",
      "[('p', 'http://www.wikidata.org/prop/direct/P1963'), ('name', 'properties for this type'), ('value', 'winner')]\n",
      "[('p', 'http://www.wikidata.org/prop/direct/P1687'), ('name', 'Wikidata property'), ('value', 'award received')]\n",
      "[('p', 'http://www.wikidata.org/prop/direct/P1687'), ('name', 'Wikidata property'), ('value', 'for work')]\n",
      "[('p', 'http://www.wikidata.org/prop/direct/P1424'), ('name', \"topic's main template\"), ('value', 'Template:Infobox award')]\n",
      "[('p', 'http://www.wikidata.org/prop/direct/P1963'), ('name', 'properties for this type'), ('value', 'category for recipients of this award')]\n",
      "[('p', 'http://www.wikidata.org/prop/direct/P1687'), ('name', 'Wikidata property'), ('value', 'award rationale')]\n",
      "[('p', 'http://www.wikidata.org/prop/direct/P910'), ('name', \"topic's main category\"), ('value', 'Category:Awards')]\n",
      "[('p', 'http://www.wikidata.org/prop/direct/P1687'), ('name', 'Wikidata property'), ('value', 'awarded for period')]\n",
      "24\n"
     ]
    }
   ],
   "source": [
    "queryString = \"\"\"\n",
    "SELECT DISTINCT ?p ?name ?value\n",
    "WHERE {\n",
    "   # bind something\n",
    "   wd:Q618779 ?p ?obj .\n",
    "   # get the label\n",
    "   ?p sc:name ?name.\n",
    "   ?obj sc:name ?value\n",
    "}\n",
    "LIMIT 40\n",
    "\"\"\"\n",
    "\n",
    "print(\"Results\")\n",
    "x=run_query(queryString)"
   ]
  },
  {
   "cell_type": "code",
   "execution_count": 42,
   "id": "3d05f6b6-1bc0-41b5-914a-7cdb0206173e",
   "metadata": {},
   "outputs": [
    {
     "name": "stdout",
     "output_type": "stream",
     "text": [
      "Results\n",
      "[('obj', 'http://www.wikidata.org/entity/Q155223'), ('name', 'National Basketball Association')]\n",
      "1\n"
     ]
    }
   ],
   "source": [
    "#Lebron-leage-NBA\n",
    "queryString = \"\"\"\n",
    "SELECT DISTINCT ?obj ?name \n",
    "WHERE {\n",
    "   # bind something\n",
    "   wd:Q36159 wdt:P118 ?obj .\n",
    "   # get the label\n",
    "   ?obj sc:name ?name\n",
    "}\n",
    "LIMIT 40\n",
    "\"\"\"\n",
    "\n",
    "print(\"Results\")\n",
    "x=run_query(queryString)"
   ]
  },
  {
   "cell_type": "code",
   "execution_count": 4,
   "id": "858de53a-4ebb-4e63-b907-9601d5f98a02",
   "metadata": {},
   "outputs": [
    {
     "name": "stdout",
     "output_type": "stream",
     "text": [
      "Results\n",
      "[('p', 'http://www.wikidata.org/prop/direct/P31'), ('value', 'instance of'), ('obj', 'http://www.wikidata.org/entity/Q18536323'), ('name', 'basketball league')]\n",
      "[('p', 'http://www.wikidata.org/prop/direct/P31'), ('value', 'instance of'), ('obj', 'http://www.wikidata.org/entity/Q15986354'), ('name', 'basketball association')]\n",
      "[('p', 'http://www.wikidata.org/prop/direct/P527'), ('value', 'has part'), ('obj', 'http://www.wikidata.org/entity/Q238240'), ('name', 'Eastern Conference')]\n",
      "[('p', 'http://www.wikidata.org/prop/direct/P1830'), ('value', 'owner of'), ('obj', 'http://www.wikidata.org/entity/Q2455323'), ('name', 'NBA TV')]\n",
      "[('p', 'http://www.wikidata.org/prop/direct/P1365'), ('value', 'replaces'), ('obj', 'http://www.wikidata.org/entity/Q810343'), ('name', 'Basketball Association of America')]\n",
      "[('p', 'http://www.wikidata.org/prop/direct/P6118'), ('value', 'season ends'), ('obj', 'http://www.wikidata.org/entity/Q118'), ('name', 'April')]\n",
      "[('p', 'http://www.wikidata.org/prop/direct/P4794'), ('value', 'season starts'), ('obj', 'http://www.wikidata.org/entity/Q124'), ('name', 'October')]\n",
      "[('p', 'http://www.wikidata.org/prop/direct/P31'), ('value', 'instance of'), ('obj', 'http://www.wikidata.org/entity/Q15991290'), ('name', 'professional sports league')]\n",
      "[('p', 'http://www.wikidata.org/prop/direct/P17'), ('value', 'country'), ('obj', 'http://www.wikidata.org/entity/Q16'), ('name', 'Canada')]\n",
      "[('p', 'http://www.wikidata.org/prop/direct/P17'), ('value', 'country'), ('obj', 'http://www.wikidata.org/entity/Q30'), ('name', 'United States of America')]\n",
      "[('p', 'http://www.wikidata.org/prop/direct/P2094'), ('value', 'competition class'), ('obj', 'http://www.wikidata.org/entity/Q46343203'), ('name', \"men's basketball\")]\n",
      "[('p', 'http://www.wikidata.org/prop/direct/P641'), ('value', 'sport'), ('obj', 'http://www.wikidata.org/entity/Q5372'), ('name', 'basketball')]\n",
      "[('p', 'http://www.wikidata.org/prop/direct/P31'), ('value', 'instance of'), ('obj', 'http://www.wikidata.org/entity/Q7094076'), ('name', 'online database')]\n",
      "[('p', 'http://www.wikidata.org/prop/direct/P2500'), ('value', 'league level below'), ('obj', 'http://www.wikidata.org/entity/Q842793'), ('name', 'NBA G League')]\n",
      "[('p', 'http://www.wikidata.org/prop/direct/P1687'), ('value', 'Wikidata property'), ('obj', 'http://www.wikidata.org/entity/P3647'), ('name', 'NBA.com player ID')]\n",
      "[('p', 'http://www.wikidata.org/prop/direct/P1346'), ('value', 'winner'), ('obj', 'http://www.wikidata.org/entity/Q121783'), ('name', 'Los Angeles Lakers')]\n",
      "[('p', 'http://www.wikidata.org/prop/direct/P1830'), ('value', 'owner of'), ('obj', 'http://www.wikidata.org/entity/Q6952699'), ('name', 'NBA Store')]\n",
      "[('p', 'http://www.wikidata.org/prop/direct/P527'), ('value', 'has part'), ('obj', 'http://www.wikidata.org/entity/Q318389'), ('name', 'Western Conference')]\n",
      "[('p', 'http://www.wikidata.org/prop/direct/P910'), ('value', \"topic's main category\"), ('obj', 'http://www.wikidata.org/entity/Q8663448'), ('name', 'Category:National Basketball Association')]\n",
      "[('p', 'http://www.wikidata.org/prop/direct/P2500'), ('value', 'league level below'), ('obj', 'http://www.wikidata.org/entity/Q1287605'), ('name', 'NBA Summer League')]\n",
      "[('p', 'http://www.wikidata.org/prop/direct/P1424'), ('value', \"topic's main template\"), ('obj', 'http://www.wikidata.org/entity/Q10950388'), ('name', 'Template:NBA seasons')]\n",
      "[('p', 'http://www.wikidata.org/prop/direct/P1830'), ('value', 'owner of'), ('obj', 'http://www.wikidata.org/entity/Q1470803'), ('name', 'Three-Point Contest')]\n",
      "22\n"
     ]
    }
   ],
   "source": [
    "#NBA \n",
    "queryString = \"\"\"\n",
    "SELECT DISTINCT ?p ?value ?obj ?name \n",
    "WHERE {\n",
    "   # bind something\n",
    "   wd:Q155223 ?p ?obj .\n",
    "   # get the label\n",
    "   ?p sc:name ?value .\n",
    "   ?obj sc:name ?name\n",
    "}\n",
    "LIMIT 40\n",
    "\"\"\"\n",
    "\n",
    "print(\"Results\")\n",
    "x=run_query(queryString)"
   ]
  },
  {
   "cell_type": "code",
   "execution_count": 47,
   "id": "d1c00b08-a133-4019-a689-c968c52c92b4",
   "metadata": {},
   "outputs": [
    {
     "name": "stdout",
     "output_type": "stream",
     "text": [
      "Results\n",
      "[('s', 'http://www.wikidata.org/entity/Q24264147'), ('value', '2016 NBA Finals')]\n",
      "[('s', 'http://www.wikidata.org/entity/Q29096468'), ('value', '2017 NBA Finals')]\n",
      "[('s', 'http://www.wikidata.org/entity/Q1518653'), ('value', 'WNBA Finals Most Valuable Player Award')]\n",
      "[('s', 'http://www.wikidata.org/entity/Q842375'), ('value', 'NBA Finals')]\n",
      "[('s', 'http://www.wikidata.org/entity/Q4588662'), ('value', '1993 NBA Finals')]\n",
      "[('s', 'http://www.wikidata.org/entity/Q4598928'), ('value', '2001 NBA Finals')]\n",
      "[('s', 'http://www.wikidata.org/entity/Q739499'), ('value', 'Bill Russell NBA Finals Most Valuable Player Award')]\n",
      "[('s', 'http://www.wikidata.org/entity/Q4615114'), ('value', '2009 WNBA Finals')]\n",
      "[('s', 'http://www.wikidata.org/entity/Q4627226'), ('value', '2012 WNBA Finals')]\n",
      "[('s', 'http://www.wikidata.org/entity/Q15304758'), ('value', '2013 WNBA Finals')]\n",
      "[('s', 'http://www.wikidata.org/entity/Q24886436'), ('value', 'NBA Finals television ratings')]\n",
      "[('s', 'http://www.wikidata.org/entity/Q4589592'), ('value', '1994 NBA Finals')]\n",
      "[('s', 'http://www.wikidata.org/entity/Q4590500'), ('value', '1995 NBA Finals')]\n",
      "[('s', 'http://www.wikidata.org/entity/Q27168404'), ('value', '2016 WNBA Finals')]\n",
      "[('s', 'http://www.wikidata.org/entity/Q2036161'), ('value', '2008 NBA Finals')]\n",
      "[('s', 'http://www.wikidata.org/entity/Q4600627'), ('value', '2002 WNBA Finals')]\n",
      "[('s', 'http://www.wikidata.org/entity/Q170590'), ('value', '2006 NBA Finals')]\n",
      "[('s', 'http://www.wikidata.org/entity/Q4600307'), ('value', '2002 NBA Finals')]\n",
      "[('s', 'http://www.wikidata.org/entity/Q4603446'), ('value', '2004 WNBA Finals')]\n",
      "[('s', 'http://www.wikidata.org/entity/Q54203445'), ('value', '2018 NBA Finals')]\n",
      "[('s', 'http://www.wikidata.org/entity/Q2552745'), ('value', '2007 NBA Finals')]\n",
      "[('s', 'http://www.wikidata.org/entity/Q16993306'), ('value', '2011 WNBA Finals')]\n",
      "[('s', 'http://www.wikidata.org/entity/Q4584557'), ('value', '1988 NBA Finals')]\n",
      "[('s', 'http://www.wikidata.org/entity/Q4587787'), ('value', '1992 NBA Finals')]\n",
      "[('s', 'http://www.wikidata.org/entity/Q4592651'), ('value', '1997 NBA Finals')]\n",
      "[('s', 'http://www.wikidata.org/entity/Q4601982'), ('value', '2003 WNBA Finals')]\n",
      "[('s', 'http://www.wikidata.org/entity/Q15828077'), ('value', 'list of the NBA Finals series')]\n",
      "[('s', 'http://www.wikidata.org/entity/Q17985295'), ('value', '2014 WNBA Finals')]\n",
      "[('s', 'http://www.wikidata.org/entity/Q19877916'), ('value', '2015 NBA Finals')]\n",
      "[('s', 'http://www.wikidata.org/entity/Q39659556'), ('value', '2017 WNBA Finals')]\n",
      "[('s', 'http://www.wikidata.org/entity/Q4586134'), ('value', '1990 NBA Finals')]\n",
      "[('s', 'http://www.wikidata.org/entity/Q4604623'), ('value', '2005 NBA Finals')]\n",
      "[('s', 'http://www.wikidata.org/entity/Q4605047'), ('value', '2005 WNBA Finals')]\n",
      "[('s', 'http://www.wikidata.org/entity/Q4609558'), ('value', '2007 WNBA Finals')]\n",
      "[('s', 'http://www.wikidata.org/entity/Q4593827'), ('value', '1998 NBA Finals')]\n",
      "[('s', 'http://www.wikidata.org/entity/Q9087111'), ('value', 'Game 6 of the 1998 NBA Finals')]\n",
      "[('s', 'http://www.wikidata.org/entity/Q4586976'), ('value', '1991 NBA Finals')]\n",
      "[('s', 'http://www.wikidata.org/entity/Q1959941'), ('value', '2009 NBA Finals')]\n",
      "[('s', 'http://www.wikidata.org/entity/Q4591549'), ('value', '1996 NBA Finals')]\n",
      "[('s', 'http://www.wikidata.org/entity/Q1006129'), ('value', '2003 NBA Finals')]\n",
      "[('s', 'http://www.wikidata.org/entity/Q4612229'), ('value', '2008 WNBA Finals')]\n",
      "[('s', 'http://www.wikidata.org/entity/Q4618811'), ('value', '2010 WNBA Finals')]\n",
      "[('s', 'http://www.wikidata.org/entity/Q13405328'), ('value', '2013 NBA Finals')]\n",
      "[('s', 'http://www.wikidata.org/entity/Q16481622'), ('value', '2014 NBA Finals')]\n",
      "[('s', 'http://www.wikidata.org/entity/Q4607125'), ('value', '2006 WNBA Finals')]\n",
      "[('s', 'http://www.wikidata.org/entity/Q2628013'), ('value', '2012 NBA Finals')]\n",
      "[('s', 'http://www.wikidata.org/entity/Q21189200'), ('value', '2015 WNBA Finals')]\n",
      "[('s', 'http://www.wikidata.org/entity/Q63940565'), ('value', '2019 NBA Finals')]\n",
      "[('s', 'http://www.wikidata.org/entity/Q1022085'), ('value', '2004 NBA Finals')]\n",
      "[('s', 'http://www.wikidata.org/entity/Q99624227'), ('value', '2020 NBA Finals')]\n",
      "[('s', 'http://www.wikidata.org/entity/Q4594932'), ('value', '1999 NBA Finals')]\n",
      "[('s', 'http://www.wikidata.org/entity/Q4597667'), ('value', '2000 NBA Finals')]\n",
      "[('s', 'http://www.wikidata.org/entity/Q3072473'), ('value', '1974 NBA Finals')]\n",
      "[('s', 'http://www.wikidata.org/entity/Q2262883'), ('value', 'WNBA Finals')]\n",
      "[('s', 'http://www.wikidata.org/entity/Q107377340'), ('value', '2021 NBA Finals')]\n",
      "[('s', 'http://www.wikidata.org/entity/Q644353'), ('value', '2010 NBA Finals')]\n",
      "[('s', 'http://www.wikidata.org/entity/Q4585299'), ('value', '1989 NBA Finals')]\n",
      "[('s', 'http://www.wikidata.org/entity/Q1320332'), ('value', '2011 NBA Finals')]\n",
      "58\n"
     ]
    }
   ],
   "source": [
    "#subject - sport - basketball\n",
    "queryString = \"\"\"\n",
    "SELECT DISTINCT ?s ?value\n",
    "WHERE {\n",
    "   # bind something\n",
    "   ?s wdt:P641 wd:Q5372 .\n",
    "   # get the label\n",
    "   ?s sc:name ?value .\n",
    "   FILTER (REGEX(?value, 'NBA Finals'))\n",
    "}\n",
    "LIMIT 100\n",
    "\"\"\"\n",
    "\n",
    "print(\"Results\")\n",
    "x=run_query(queryString)"
   ]
  },
  {
   "cell_type": "markdown",
   "id": "337e7cc5",
   "metadata": {},
   "source": [
    "Final query for this task"
   ]
  },
  {
   "cell_type": "code",
   "execution_count": 48,
   "id": "bc59f285",
   "metadata": {},
   "outputs": [
    {
     "name": "stdout",
     "output_type": "stream",
     "text": [
      "Results\n",
      "[('p', 'http://www.wikidata.org/prop/direct/P1424'), ('name', \"topic's main template\")]\n",
      "[('p', 'http://www.wikidata.org/prop/direct/P1448'), ('name', 'official name')]\n",
      "[('p', 'http://www.wikidata.org/prop/direct/P154'), ('name', 'logo image')]\n",
      "[('p', 'http://www.wikidata.org/prop/direct/P17'), ('name', 'country')]\n",
      "[('p', 'http://www.wikidata.org/prop/direct/P1813'), ('name', 'short name')]\n",
      "[('p', 'http://www.wikidata.org/prop/direct/P279'), ('name', 'subclass of')]\n",
      "[('p', 'http://www.wikidata.org/prop/direct/P2922'), ('name', 'month of the year')]\n",
      "[('p', 'http://www.wikidata.org/prop/direct/P31'), ('name', 'instance of')]\n",
      "[('p', 'http://www.wikidata.org/prop/direct/P3417'), ('name', 'Quora topic ID')]\n",
      "[('p', 'http://www.wikidata.org/prop/direct/P373'), ('name', 'Commons category')]\n",
      "[('p', 'http://www.wikidata.org/prop/direct/P571'), ('name', 'inception')]\n",
      "[('p', 'http://www.wikidata.org/prop/direct/P641'), ('name', 'sport')]\n",
      "[('p', 'http://www.wikidata.org/prop/direct/P646'), ('name', 'Freebase ID')]\n",
      "[('p', 'http://www.wikidata.org/prop/direct/P910'), ('name', \"topic's main category\")]\n",
      "14\n"
     ]
    }
   ],
   "source": [
    "# write your final query\n",
    "queryString = \"\"\"\n",
    "SELECT DISTINCT ?p ?name\n",
    "WHERE {\n",
    "   # bind something\n",
    "   wd:Q842375 ?p ?obj .\n",
    "   # get the label\n",
    "   ?p sc:name ?name.\n",
    "}\n",
    "LIMIT 50\n",
    "\"\"\"\n",
    "\n",
    "print(\"Results\")\n",
    "x=run_query(queryString)"
   ]
  },
  {
   "cell_type": "markdown",
   "id": "a4a50591",
   "metadata": {},
   "source": [
    "## Task 6\n",
    "Consider only the basketball teams which Kevin Durant and Lebron James played. Return the number of NBA finals won by these teams (the result set must be a list of triples basketball team IRI, label and #victories. Return a number for each basketball team)."
   ]
  },
  {
   "cell_type": "code",
   "execution_count": 50,
   "id": "27de922e",
   "metadata": {},
   "outputs": [
    {
     "name": "stdout",
     "output_type": "stream",
     "text": [
      "Results\n",
      "[('team', 'http://www.wikidata.org/entity/Q169138'), ('name', 'Miami Heat')]\n",
      "[('team', 'http://www.wikidata.org/entity/Q121783'), ('name', 'Los Angeles Lakers')]\n",
      "[('team', 'http://www.wikidata.org/entity/Q162990'), ('name', 'Cleveland Cavaliers')]\n",
      "3\n"
     ]
    }
   ],
   "source": [
    "# write your queries\n",
    "queryString = \"\"\"\n",
    "SELECT DISTINCT ?team ?name\n",
    "WHERE {\n",
    "   # bind something\n",
    "   wd:Q36159 wdt:P54 ?team .\n",
    "   # get the label\n",
    "   ?team sc:name ?name.\n",
    "}\n",
    "LIMIT 50\n",
    "\"\"\"\n",
    "\n",
    "print(\"Results\")\n",
    "x=run_query(queryString)"
   ]
  },
  {
   "cell_type": "code",
   "execution_count": 19,
   "id": "256b3b21-caac-498b-a20f-09dfcb811fbf",
   "metadata": {},
   "outputs": [
    {
     "name": "stdout",
     "output_type": "stream",
     "text": [
      "Results\n",
      "[('team', 'http://www.wikidata.org/entity/Q180950'), ('name', 'Oklahoma City Thunder')]\n",
      "[('team', 'http://www.wikidata.org/entity/Q235326'), ('name', 'Seattle SuperSonics')]\n",
      "[('team', 'http://www.wikidata.org/entity/Q572134'), ('name', 'Brooklyn Nets')]\n",
      "[('team', 'http://www.wikidata.org/entity/Q7707830'), ('name', \"Texas Longhorns men's basketball\")]\n",
      "[('team', 'http://www.wikidata.org/entity/Q244847'), ('name', \"United States men's national basketball team\")]\n",
      "[('team', 'http://www.wikidata.org/entity/Q157376'), ('name', 'Golden State Warriors')]\n",
      "6\n"
     ]
    }
   ],
   "source": [
    "# write your queries\n",
    "queryString = \"\"\"\n",
    "SELECT DISTINCT ?team ?name\n",
    "WHERE {\n",
    "   # bind something\n",
    "   wd:Q29545 wdt:P54 ?team .\n",
    "   # get the label\n",
    "   ?team sc:name ?name.\n",
    "}\n",
    "LIMIT 50\n",
    "\"\"\"\n",
    "\n",
    "print(\"Results\")\n",
    "x=run_query(queryString)"
   ]
  },
  {
   "cell_type": "code",
   "execution_count": 17,
   "id": "67b9d767-3d84-4aa6-831d-3eb4a1b79386",
   "metadata": {},
   "outputs": [
    {
     "name": "stdout",
     "output_type": "stream",
     "text": [
      "Results\n",
      "Empty\n"
     ]
    }
   ],
   "source": [
    "# write your queries\n",
    "queryString = \"\"\"\n",
    "SELECT DISTINCT ?team ?name\n",
    "WHERE {\n",
    "   # bind something\n",
    "   wd:Q29545 wdt:P54 ?team .\n",
    "   wd:Q36159 wdt:P54 ?team .\n",
    "   # get the label\n",
    "   ?team sc:name ?name.\n",
    "}\n",
    "LIMIT 50\n",
    "\"\"\"\n",
    "print(\"Results\")\n",
    "x=run_query(queryString)"
   ]
  },
  {
   "cell_type": "code",
   "execution_count": 21,
   "id": "f129ee8a-9650-44aa-98c3-3cd49e835ab5",
   "metadata": {},
   "outputs": [
    {
     "name": "stdout",
     "output_type": "stream",
     "text": [
      "Results\n",
      "[('p', 'http://www.wikidata.org/prop/direct/P1346'), ('name', 'winner'), ('obj', 'http://www.wikidata.org/entity/Q161345'), ('value', 'Houston Rockets')]\n",
      "[('p', 'http://www.wikidata.org/prop/direct/P17'), ('name', 'country'), ('obj', 'http://www.wikidata.org/entity/Q30'), ('value', 'United States of America')]\n",
      "[('p', 'http://www.wikidata.org/prop/direct/P641'), ('name', 'sport'), ('obj', 'http://www.wikidata.org/entity/Q5372'), ('value', 'basketball')]\n",
      "[('p', 'http://www.wikidata.org/prop/direct/P31'), ('name', 'instance of'), ('obj', 'http://www.wikidata.org/entity/Q842375'), ('value', 'NBA Finals')]\n",
      "4\n"
     ]
    }
   ],
   "source": [
    "#1995 NBA Finals\n",
    "queryString = \"\"\"\n",
    "SELECT DISTINCT ?p ?name ?obj ?value\n",
    "WHERE {\n",
    "   # bind something\n",
    "   wd:Q4590500 ?p ?obj .\n",
    "   # get the label\n",
    "   ?p sc:name ?name.\n",
    "   ?obj sc:name ?value.\n",
    "}\n",
    "LIMIT 50\n",
    "\"\"\"\n",
    "\n",
    "print(\"Results\")\n",
    "x=run_query(queryString)"
   ]
  },
  {
   "cell_type": "code",
   "execution_count": 24,
   "id": "189133c9-0b32-49a6-8ff6-6489fb9368a8",
   "metadata": {},
   "outputs": [
    {
     "name": "stdout",
     "output_type": "stream",
     "text": [
      "Results\n",
      "[('team', 'http://www.wikidata.org/entity/Q235326'), ('name', 'Seattle SuperSonics')]\n",
      "[('team', 'http://www.wikidata.org/entity/Q157376'), ('name', 'Golden State Warriors')]\n",
      "2\n"
     ]
    }
   ],
   "source": [
    "queryString = \"\"\"\n",
    "SELECT DISTINCT ?team ?name\n",
    "WHERE {\n",
    "   # bind something\n",
    "   wd:Q29545 wdt:P54 ?team .\n",
    "   ?award wdt:P31 wd:Q842375 ;\n",
    "          wdt:P1346 ?team .\n",
    "   # get the label\n",
    "   ?team sc:name ?name.\n",
    "}\n",
    "LIMIT 50\n",
    "\"\"\"\n",
    "print(\"Results\")\n",
    "x=run_query(queryString)"
   ]
  },
  {
   "cell_type": "code",
   "execution_count": 25,
   "id": "1b529f3d-8f50-43f2-897a-d6693112f8fb",
   "metadata": {},
   "outputs": [
    {
     "name": "stdout",
     "output_type": "stream",
     "text": [
      "Results\n",
      "[('team', 'http://www.wikidata.org/entity/Q161345'), ('name', 'Houston Rockets'), ('victories', '2')]\n",
      "[('team', 'http://www.wikidata.org/entity/Q157376'), ('name', 'Golden State Warriors'), ('victories', '4')]\n",
      "[('team', 'http://www.wikidata.org/entity/Q138089'), ('name', 'Philadelphia 76ers'), ('victories', '3')]\n",
      "[('team', 'http://www.wikidata.org/entity/Q159893'), ('name', 'Atlanta Hawks'), ('victories', '1')]\n",
      "[('team', 'http://www.wikidata.org/entity/Q121783'), ('name', 'Los Angeles Lakers'), ('victories', '16')]\n",
      "[('team', 'http://www.wikidata.org/entity/Q2928124'), ('name', 'Baltimore Bullets'), ('victories', '1')]\n",
      "[('team', 'http://www.wikidata.org/entity/Q159729'), ('name', 'San Antonio Spurs'), ('victories', '5')]\n",
      "[('team', 'http://www.wikidata.org/entity/Q169138'), ('name', 'Miami Heat'), ('victories', '2')]\n",
      "[('team', 'http://www.wikidata.org/entity/Q169661'), ('name', 'Detroit Pistons'), ('victories', '3')]\n",
      "[('team', 'http://www.wikidata.org/entity/Q235326'), ('name', 'Seattle SuperSonics'), ('victories', '1')]\n",
      "[('team', 'http://www.wikidata.org/entity/Q169165'), ('name', 'Washington Wizards'), ('victories', '1')]\n",
      "[('team', 'http://www.wikidata.org/entity/Q128109'), ('name', 'Chicago Bulls'), ('victories', '6')]\n",
      "[('team', 'http://www.wikidata.org/entity/Q166105'), ('name', 'Sacramento Kings'), ('victories', '1')]\n",
      "[('team', 'http://www.wikidata.org/entity/Q131364'), ('name', 'New York Knicks'), ('victories', '2')]\n",
      "[('team', 'http://www.wikidata.org/entity/Q169637'), ('name', 'Milwaukee Bucks'), ('victories', '1')]\n",
      "[('team', 'http://www.wikidata.org/entity/Q131371'), ('name', 'Boston Celtics'), ('victories', '17')]\n",
      "[('team', 'http://www.wikidata.org/entity/Q167253'), ('name', 'Portland Trail Blazers'), ('victories', '1')]\n",
      "[('team', 'http://www.wikidata.org/entity/Q132893'), ('name', 'Dallas Mavericks'), ('victories', '1')]\n",
      "18\n"
     ]
    }
   ],
   "source": [
    "queryString = \"\"\"\n",
    "SELECT DISTINCT ?team ?name (COUNT(?award) AS ?victories)\n",
    "WHERE {\n",
    "   # bind something\n",
    "   ?team wdt:P31 wd:Q13393265.\n",
    "   ?award wdt:P31 wd:Q842375 ;\n",
    "          wdt:P1346 ?team .\n",
    "   # get the label\n",
    "   ?team sc:name ?name.\n",
    "}\n",
    "GROUP BY ?team ?name\n",
    "LIMIT 50\n",
    "\"\"\"\n",
    "print(\"Results\")\n",
    "x=run_query(queryString)"
   ]
  },
  {
   "cell_type": "code",
   "execution_count": 28,
   "id": "18d5feb0-80c6-445f-b926-91e3a35a2402",
   "metadata": {},
   "outputs": [
    {
     "name": "stdout",
     "output_type": "stream",
     "text": [
      "Results\n",
      "Empty\n"
     ]
    }
   ],
   "source": [
    "queryString = \"\"\"\n",
    "SELECT DISTINCT ?team ?name (COUNT(?award) AS ?victories)\n",
    "WHERE {\n",
    "   # bind something\n",
    "   ?team wdt:P31 wd:Q13393265.\n",
    "   ?award wdt:P31 wd:Q842375 ;\n",
    "          wdt:P1346 ?team .\n",
    "   # get the label\n",
    "   ?team sc:name ?name.\n",
    "   wd:Q29545 wdt:P54 ?team .\n",
    "   wd:Q36159 wdt:P54 ?team .\n",
    "}\n",
    "GROUP BY ?team ?name\n",
    "LIMIT 50\n",
    "\"\"\"\n",
    "print(\"Results\")\n",
    "x=run_query(queryString)"
   ]
  },
  {
   "cell_type": "code",
   "execution_count": 44,
   "id": "1649dbae-7e6e-40de-a371-f8c687cac887",
   "metadata": {},
   "outputs": [
    {
     "name": "stdout",
     "output_type": "stream",
     "text": [
      "Results\n",
      "Empty\n"
     ]
    }
   ],
   "source": [
    "queryString = \"\"\"\n",
    "SELECT DISTINCT ?team ?name (COUNT(?award) AS ?victories)\n",
    "WHERE {\n",
    "   # bind something\n",
    "   ?team wdt:P31 wd:Q13393265.\n",
    "   ?award wdt:P31 wd:Q842375 ;\n",
    "          wdt:P1346 ?team .\n",
    "   # get the label\n",
    "   ?team sc:name ?name.\n",
    "   ?player wdt:P54 ?team ;\n",
    "          wdt:P1559 ?playerName.\n",
    "   FILTER(?playerName = \"LeBron James\" || ?playerName = \"Kevin Durant\")\n",
    "}\n",
    "GROUP BY ?team ?name\n",
    "LIMIT 50\n",
    "\"\"\"\n",
    "print(\"Results\")\n",
    "x=run_query(queryString)"
   ]
  },
  {
   "cell_type": "markdown",
   "id": "ab47b287",
   "metadata": {},
   "source": [
    "Final query for this task"
   ]
  },
  {
   "cell_type": "code",
   "execution_count": 2,
   "id": "9a853c59",
   "metadata": {},
   "outputs": [
    {
     "name": "stdout",
     "output_type": "stream",
     "text": [
      "Results\n",
      "Empty\n"
     ]
    }
   ],
   "source": [
    "# write your final query\n",
    "queryString = \"\"\"\n",
    "SELECT DISTINCT ?team ?name (COUNT(?award) AS ?victories)\n",
    "WHERE {\n",
    "   # bind something\n",
    "   ?team wdt:P31 wd:Q13393265.\n",
    "   ?award wdt:P31 wd:Q842375 ;\n",
    "          wdt:P1346 ?team .\n",
    "   # get the label\n",
    "   ?team sc:name ?name.\n",
    "   ?player wdt:P54 ?team ;\n",
    "          wdt:P1559 ?playerName.\n",
    "   FILTER(?playerName = \"LeBron James\" || ?playerName = \"Kevin Durant\")\n",
    "}\n",
    "GROUP BY ?team ?name\n",
    "LIMIT 50\n",
    "\"\"\"\n",
    "print(\"Results\")\n",
    "x=run_query(queryString)"
   ]
  },
  {
   "cell_type": "markdown",
   "id": "29203784",
   "metadata": {},
   "source": [
    "## Task 7\n",
    "Consider only NBA (National Basketball Association) basketball teams and all basketball players who played in one of these teams at least once. Also consider the country of citizenship of the players with the related continent. Return for each continent the number of players who played in an NBA basketball teams. (the result set must be triples of continent IRI, labels and #players)"
   ]
  },
  {
   "cell_type": "code",
   "execution_count": 48,
   "id": "4fb25b6b",
   "metadata": {},
   "outputs": [
    {
     "name": "stdout",
     "output_type": "stream",
     "text": [
      "Results\n",
      "[('team', 'http://www.wikidata.org/entity/Q163480'), ('name', 'Charlotte Hornets'), ('playerName', 'Khalid Reeves')]\n",
      "[('team', 'http://www.wikidata.org/entity/Q169165'), ('name', 'Washington Wizards'), ('playerName', 'Alonzo Gee')]\n",
      "[('team', 'http://www.wikidata.org/entity/Q169165'), ('name', 'Washington Wizards'), ('playerName', 'Chris Singleton')]\n",
      "[('team', 'http://www.wikidata.org/entity/Q169165'), ('name', 'Washington Wizards'), ('playerName', 'Eddie Miles')]\n",
      "[('team', 'http://www.wikidata.org/entity/Q169165'), ('name', 'Washington Wizards'), ('playerName', 'Horace Walker')]\n",
      "5\n"
     ]
    }
   ],
   "source": [
    "# write your queries\n",
    "queryString = \"\"\"\n",
    "SELECT DISTINCT ?team ?name ?playerName\n",
    "WHERE {\n",
    "   # bind something\n",
    "   ?team wdt:P118 wd:Q155223 ;\n",
    "         sc:name ?name.\n",
    "   ?player wdt:P54 ?team ;\n",
    "          sc:name ?playerName.\n",
    "          \n",
    "}\n",
    "GROUP BY ?team ?name\n",
    "LIMIT 5\n",
    "\"\"\"\n",
    "print(\"Results\")\n",
    "x=run_query(queryString)"
   ]
  },
  {
   "cell_type": "code",
   "execution_count": 50,
   "id": "7f6949f3-bc6b-4b74-b8b5-d96d6bb48509",
   "metadata": {},
   "outputs": [
    {
     "name": "stdout",
     "output_type": "stream",
     "text": [
      "Results\n",
      "[('playerName', 'Johann Christoph Fugger'), ('country', 'http://www.wikidata.org/entity/Q183'), ('countryName', 'Germany')]\n",
      "[('playerName', 'Chen Chongzhan'), ('country', 'http://www.wikidata.org/entity/Q9903'), ('countryName', 'Ming dynasty')]\n",
      "[('playerName', 'Diego Arán'), ('country', 'http://www.wikidata.org/entity/Q29'), ('countryName', 'Spain')]\n",
      "[('playerName', 'Robert Currie'), ('country', 'http://www.wikidata.org/entity/Q145'), ('countryName', 'United Kingdom')]\n",
      "[('playerName', 'Morten Stokstad'), ('country', 'http://www.wikidata.org/entity/Q20'), ('countryName', 'Norway')]\n",
      "5\n"
     ]
    }
   ],
   "source": [
    "# write your queries\n",
    "queryString = \"\"\"\n",
    "SELECT DISTINCT ?playerName ?country ?countryName\n",
    "WHERE {\n",
    "   # bind something\n",
    "   ?player wdt:P27 ?country ;\n",
    "          sc:name ?playerName.\n",
    "   ?country sc:name ?countryName .\n",
    "          \n",
    "}\n",
    "GROUP BY ?team ?name\n",
    "LIMIT 5\n",
    "\"\"\"\n",
    "print(\"Results\")\n",
    "x=run_query(queryString)"
   ]
  },
  {
   "cell_type": "code",
   "execution_count": 56,
   "id": "80447b36-9b71-41dc-b214-667bd4eaf550",
   "metadata": {},
   "outputs": [
    {
     "name": "stdout",
     "output_type": "stream",
     "text": [
      "Results\n",
      "[('p', 'http://www.wikidata.org/prop/direct/P530'), ('value', 'diplomatic relation')]\n",
      "[('p', 'http://www.wikidata.org/prop/direct/P463'), ('value', 'member of')]\n",
      "[('p', 'http://www.wikidata.org/prop/direct/P793'), ('value', 'significant event')]\n",
      "[('p', 'http://www.wikidata.org/prop/direct/P47'), ('value', 'shares border with')]\n",
      "[('p', 'http://www.wikidata.org/prop/direct/P832'), ('value', 'public holiday')]\n",
      "[('p', 'http://www.wikidata.org/prop/direct/P150'), ('value', 'contains administrative territorial entity')]\n",
      "[('p', 'http://www.wikidata.org/prop/direct/P2936'), ('value', 'language used')]\n",
      "[('p', 'http://www.wikidata.org/prop/direct/P1552'), ('value', 'has quality')]\n",
      "[('p', 'http://www.wikidata.org/prop/direct/P31'), ('value', 'instance of')]\n",
      "[('p', 'http://www.wikidata.org/prop/direct/P1365'), ('value', 'replaces')]\n",
      "[('p', 'http://www.wikidata.org/prop/direct/P1464'), ('value', 'category for people born here')]\n",
      "[('p', 'http://www.wikidata.org/prop/direct/P1343'), ('value', 'described by source')]\n",
      "[('p', 'http://www.wikidata.org/prop/direct/P9241'), ('value', 'demographics of topic')]\n",
      "[('p', 'http://www.wikidata.org/prop/direct/P1424'), ('value', \"topic's main template\")]\n",
      "[('p', 'http://www.wikidata.org/prop/direct/P1889'), ('value', 'different from')]\n",
      "[('p', 'http://www.wikidata.org/prop/direct/P208'), ('value', 'executive body')]\n",
      "[('p', 'http://www.wikidata.org/prop/direct/P122'), ('value', 'basic form of government')]\n",
      "[('p', 'http://www.wikidata.org/prop/direct/P1344'), ('value', 'participant in')]\n",
      "[('p', 'http://www.wikidata.org/prop/direct/P78'), ('value', 'top-level Internet domain')]\n",
      "[('p', 'http://www.wikidata.org/prop/direct/P38'), ('value', 'currency')]\n",
      "[('p', 'http://www.wikidata.org/prop/direct/P30'), ('value', 'continent')]\n",
      "[('p', 'http://www.wikidata.org/prop/direct/P206'), ('value', 'located in or next to body of water')]\n",
      "[('p', 'http://www.wikidata.org/prop/direct/P209'), ('value', 'highest judicial authority')]\n",
      "[('p', 'http://www.wikidata.org/prop/direct/P1740'), ('value', 'category for films shot at this location')]\n",
      "[('p', 'http://www.wikidata.org/prop/direct/P1791'), ('value', 'category of people buried here')]\n",
      "[('p', 'http://www.wikidata.org/prop/direct/P610'), ('value', 'highest point')]\n",
      "[('p', 'http://www.wikidata.org/prop/direct/P6'), ('value', 'head of government')]\n",
      "[('p', 'http://www.wikidata.org/prop/direct/P8744'), ('value', 'economy of topic')]\n",
      "[('p', 'http://www.wikidata.org/prop/direct/P2853'), ('value', 'electrical plug type')]\n",
      "[('p', 'http://www.wikidata.org/prop/direct/P1622'), ('value', 'driving side')]\n",
      "[('p', 'http://www.wikidata.org/prop/direct/P1151'), ('value', \"topic's main Wikimedia portal\")]\n",
      "[('p', 'http://www.wikidata.org/prop/direct/P1792'), ('value', 'category of associated people')]\n",
      "[('p', 'http://www.wikidata.org/prop/direct/P485'), ('value', 'archives at')]\n",
      "[('p', 'http://www.wikidata.org/prop/direct/P4614'), ('value', 'drainage basin')]\n",
      "[('p', 'http://www.wikidata.org/prop/direct/P194'), ('value', 'legislative body')]\n",
      "[('p', 'http://www.wikidata.org/prop/direct/P172'), ('value', 'ethnic group')]\n",
      "[('p', 'http://www.wikidata.org/prop/direct/P163'), ('value', 'flag')]\n",
      "[('p', 'http://www.wikidata.org/prop/direct/P361'), ('value', 'part of')]\n",
      "[('p', 'http://www.wikidata.org/prop/direct/P706'), ('value', 'located in/on physical feature')]\n",
      "[('p', 'http://www.wikidata.org/prop/direct/P85'), ('value', 'anthem')]\n",
      "[('p', 'http://www.wikidata.org/prop/direct/P36'), ('value', 'capital')]\n",
      "[('p', 'http://www.wikidata.org/prop/direct/P421'), ('value', 'located in time zone')]\n",
      "[('p', 'http://www.wikidata.org/prop/direct/P1465'), ('value', 'category for people who died here')]\n",
      "[('p', 'http://www.wikidata.org/prop/direct/P910'), ('value', \"topic's main category\")]\n",
      "[('p', 'http://www.wikidata.org/prop/direct/P5658'), ('value', 'railway traffic side')]\n",
      "[('p', 'http://www.wikidata.org/prop/direct/P417'), ('value', 'patron saint')]\n",
      "[('p', 'http://www.wikidata.org/prop/direct/P7867'), ('value', 'category for maps')]\n",
      "[('p', 'http://www.wikidata.org/prop/direct/P2852'), ('value', 'emergency telephone number')]\n",
      "[('p', 'http://www.wikidata.org/prop/direct/P3403'), ('value', 'coextensive with')]\n",
      "[('p', 'http://www.wikidata.org/prop/direct/P17'), ('value', 'country')]\n",
      "50\n"
     ]
    }
   ],
   "source": [
    "# write your queries\n",
    "queryString = \"\"\"\n",
    "SELECT DISTINCT ?p ?value \n",
    "WHERE {\n",
    "   wd:Q183 ?p ?obj.\n",
    "   ?p sc:name ?value .\n",
    "   ?obj sc:name ?name .\n",
    "}\n",
    "GROUP BY ?team ?name\n",
    "LIMIT 50\n",
    "\"\"\"\n",
    "print(\"Results\")\n",
    "x=run_query(queryString)"
   ]
  },
  {
   "cell_type": "code",
   "execution_count": 58,
   "id": "16d54399-7593-4c85-962c-f95542262e8e",
   "metadata": {},
   "outputs": [
    {
     "name": "stdout",
     "output_type": "stream",
     "text": [
      "Results\n",
      "[('team', 'http://www.wikidata.org/entity/Q164177'), ('name', 'Phoenix Suns'), ('playerName', 'Jeff Cook')]\n",
      "[('team', 'http://www.wikidata.org/entity/Q138089'), ('name', 'Philadelphia 76ers'), ('playerName', 'Thaddeus Young')]\n",
      "[('team', 'http://www.wikidata.org/entity/Q138089'), ('name', 'Philadelphia 76ers'), ('playerName', 'Charles Jenkins')]\n",
      "[('team', 'http://www.wikidata.org/entity/Q172339'), ('name', 'New Orleans Pelicans'), ('playerName', 'Mike James')]\n",
      "[('team', 'http://www.wikidata.org/entity/Q172339'), ('name', 'New Orleans Pelicans'), ('playerName', 'Jeff Grayer')]\n",
      "5\n"
     ]
    }
   ],
   "source": [
    "#P27 country of citinzenship \n",
    "# P30 continent \n",
    "# write your queries\n",
    "queryString = \"\"\"\n",
    "SELECT DISTINCT ?team ?name ?playerName\n",
    "WHERE {\n",
    "   # bind something\n",
    "   ?team wdt:P118 wd:Q155223 ;\n",
    "         sc:name ?name.\n",
    "   ?player wdt:P54 ?team ;\n",
    "          sc:name ?playerName;\n",
    "          wdt:P27 ?country .\n",
    "    ?country wdt:P30 ?continent.\n",
    "          \n",
    "}\n",
    "GROUP BY ?team ?name\n",
    "LIMIT 5\n",
    "\"\"\"\n",
    "print(\"Results\")\n",
    "x=run_query(queryString)"
   ]
  },
  {
   "cell_type": "code",
   "execution_count": 59,
   "id": "91afa511-4d86-4b7b-8ace-c706e1fa94df",
   "metadata": {},
   "outputs": [
    {
     "name": "stdout",
     "output_type": "stream",
     "text": [
      "Results\n",
      "[('continent', 'http://www.wikidata.org/entity/Q48'), ('players', '178')]\n",
      "[('continent', 'http://www.wikidata.org/entity/Q18'), ('players', '80')]\n",
      "[('continent', 'http://www.wikidata.org/entity/Q5401'), ('players', '45')]\n",
      "[('continent', 'http://www.wikidata.org/entity/Q15'), ('players', '132')]\n",
      "[('continent', 'http://www.wikidata.org/entity/Q46'), ('players', '796')]\n",
      "5\n"
     ]
    }
   ],
   "source": [
    "#P27 country of citinzenship \n",
    "# P30 continent \n",
    "# write your queries\n",
    "queryString = \"\"\"\n",
    "SELECT DISTINCT ?continent (COUNT(?player) AS ?players)\n",
    "WHERE {\n",
    "   # bind something\n",
    "   ?team wdt:P118 wd:Q155223 ;\n",
    "         sc:name ?name.\n",
    "   ?player wdt:P54 ?team ;\n",
    "          sc:name ?playerName;\n",
    "          wdt:P27 ?country .\n",
    "    ?country wdt:P30 ?continent.\n",
    "          \n",
    "}\n",
    "GROUP BY ?continent\n",
    "LIMIT 5\n",
    "\"\"\"\n",
    "print(\"Results\")\n",
    "x=run_query(queryString)"
   ]
  },
  {
   "cell_type": "markdown",
   "id": "9c740d2b",
   "metadata": {},
   "source": [
    "Final query for this task"
   ]
  },
  {
   "cell_type": "code",
   "execution_count": 61,
   "id": "e9381ff3",
   "metadata": {},
   "outputs": [
    {
     "name": "stdout",
     "output_type": "stream",
     "text": [
      "Results\n",
      "[('continent', 'http://www.wikidata.org/entity/Q18'), ('continentName', 'South America'), ('players', '80')]\n",
      "[('continent', 'http://www.wikidata.org/entity/Q538'), ('continentName', 'Insular Oceania'), ('players', '9381')]\n",
      "[('continent', 'http://www.wikidata.org/entity/Q49'), ('continentName', 'North America'), ('players', '9550')]\n",
      "[('continent', 'http://www.wikidata.org/entity/Q46'), ('continentName', 'Europe'), ('players', '796')]\n",
      "[('continent', 'http://www.wikidata.org/entity/Q5401'), ('continentName', 'Eurasia'), ('players', '45')]\n",
      "[('continent', 'http://www.wikidata.org/entity/Q48'), ('continentName', 'Asia'), ('players', '178')]\n",
      "[('continent', 'http://www.wikidata.org/entity/Q15'), ('continentName', 'Africa'), ('players', '132')]\n",
      "7\n"
     ]
    }
   ],
   "source": [
    "# write your final query\n",
    "queryString = \"\"\"\n",
    "SELECT DISTINCT ?continent ?continentName (COUNT(?player) AS ?players)\n",
    "WHERE {\n",
    "   # bind something\n",
    "   ?team wdt:P118 wd:Q155223 ;\n",
    "         sc:name ?name.\n",
    "   ?player wdt:P54 ?team ;\n",
    "          sc:name ?playerName;\n",
    "          wdt:P27 ?country .\n",
    "    ?country wdt:P30 ?continent.\n",
    "    ?continent sc:name ?continentName .\n",
    "}\n",
    "GROUP BY ?continent ?continentName\n",
    "LIMIT 10\n",
    "\"\"\"\n",
    "print(\"Results\")\n",
    "x=run_query(queryString)"
   ]
  },
  {
   "cell_type": "markdown",
   "id": "d8f3cc51",
   "metadata": {},
   "source": [
    "## Task 8\n",
    "Identify the BGP for the NBA Most Valuable Player Award (MVP) (see https://en.wikipedia.org/wiki/NBA_Most_Valuable_Player_Award)"
   ]
  },
  {
   "cell_type": "code",
   "execution_count": 5,
   "id": "1d99e096",
   "metadata": {},
   "outputs": [
    {
     "name": "stdout",
     "output_type": "stream",
     "text": [
      "Results\n",
      "[('award', 'http://www.wikidata.org/entity/Q1501719'), ('awardName', 'J. Walter Kennedy Citizenship Award')]\n",
      "[('award', 'http://www.wikidata.org/entity/Q4896605'), ('awardName', 'Best Championship Performance ESPY Award')]\n",
      "[('award', 'http://www.wikidata.org/entity/Q4896598'), ('awardName', 'Best Breakthrough Athlete ESPY Award')]\n",
      "[('award', 'http://www.wikidata.org/entity/Q743122'), ('awardName', 'Associated Press Athlete of the Year')]\n",
      "[('award', 'http://www.wikidata.org/entity/Q1418009'), ('awardName', 'NBA All-Rookie Team')]\n",
      "[('award', 'http://www.wikidata.org/entity/Q1465181'), ('awardName', 'NBA All-Defensive Team')]\n",
      "[('award', 'http://www.wikidata.org/entity/Q1653207'), ('awardName', 'Sports Illustrated Sportsperson of the Year')]\n",
      "[('award', 'http://www.wikidata.org/entity/Q222047'), ('awardName', 'NBA Most Valuable Player Award')]\n",
      "[('award', 'http://www.wikidata.org/entity/Q31391'), ('awardName', 'NBA All-Star Game Kobe Bryant Most Valuable Player Award')]\n",
      "[('award', 'http://www.wikidata.org/entity/Q4835465'), ('awardName', 'BET Award for Athlete of the Century')]\n",
      "[('award', 'http://www.wikidata.org/entity/Q4896724'), ('awardName', 'Best Male Athlete ESPY Award')]\n",
      "[('award', 'http://www.wikidata.org/entity/Q644357'), ('awardName', 'NBA Rookie of the Year Award')]\n",
      "[('award', 'http://www.wikidata.org/entity/Q674359'), ('awardName', 'All-NBA Team')]\n",
      "[('award', 'http://www.wikidata.org/entity/Q739499'), ('awardName', 'Bill Russell NBA Finals Most Valuable Player Award')]\n",
      "[('award', 'http://www.wikidata.org/entity/Q943106'), ('awardName', 'Best NBA Player ESPY Award')]\n",
      "[('award', 'http://www.wikidata.org/entity/Q7080855'), ('awardName', 'Ohio Mr. Basketball')]\n",
      "[('award', 'http://www.wikidata.org/entity/Q2282428'), ('awardName', 'Naismith Prep Player of the Year Award')]\n",
      "17\n"
     ]
    }
   ],
   "source": [
    "# write your queries\n",
    "# awards that Lebron James received \n",
    "queryString = \"\"\"\n",
    "SELECT ?award ?awardName \n",
    "WHERE {\n",
    "    wd:Q36159 wdt:P166 ?award .\n",
    "    # get the label\n",
    "    ?award sc:name ?awardName .\n",
    "}\n",
    "LIMIT 100\n",
    "\"\"\"\n",
    "print(\"Results\")\n",
    "x=run_query(queryString)"
   ]
  },
  {
   "cell_type": "markdown",
   "id": "c4c3f5da",
   "metadata": {},
   "source": [
    "Final query for this task"
   ]
  },
  {
   "cell_type": "code",
   "execution_count": 7,
   "id": "857635d9",
   "metadata": {},
   "outputs": [
    {
     "name": "stdout",
     "output_type": "stream",
     "text": [
      "Results\n",
      "[('p', 'http://www.wikidata.org/prop/direct/P1346'), ('name', 'winner')]\n",
      "[('p', 'http://www.wikidata.org/prop/direct/P17'), ('name', 'country')]\n",
      "[('p', 'http://www.wikidata.org/prop/direct/P1814'), ('name', 'name in kana')]\n",
      "[('p', 'http://www.wikidata.org/prop/direct/P31'), ('name', 'instance of')]\n",
      "[('p', 'http://www.wikidata.org/prop/direct/P571'), ('name', 'inception')]\n",
      "[('p', 'http://www.wikidata.org/prop/direct/P641'), ('name', 'sport')]\n",
      "[('p', 'http://www.wikidata.org/prop/direct/P646'), ('name', 'Freebase ID')]\n",
      "[('p', 'http://www.wikidata.org/prop/direct/P910'), ('name', \"topic's main category\")]\n",
      "8\n"
     ]
    }
   ],
   "source": [
    "# write your final query\n",
    "queryString = \"\"\"\n",
    "SELECT DISTINCT ?p ?name\n",
    "WHERE {\n",
    "   # bind something\n",
    "   wd:Q222047 ?p ?obj .\n",
    "   # get the label\n",
    "   ?p sc:name ?name.\n",
    "}\n",
    "LIMIT 30\n",
    "\"\"\"\n",
    "\n",
    "print(\"Results\")\n",
    "x=run_query(queryString)"
   ]
  },
  {
   "cell_type": "markdown",
   "id": "1ee19bdc",
   "metadata": {},
   "source": [
    "## Task 9\n",
    "Consider the players who won the NBA Most Valuable Player Award. Return for these players the number of NBA Most Valuable Player Award won in their career (the result set must be triples of player IRI, label and #victories)"
   ]
  },
  {
   "cell_type": "code",
   "execution_count": 10,
   "id": "613618a9",
   "metadata": {},
   "outputs": [
    {
     "name": "stdout",
     "output_type": "stream",
     "text": [
      "Results\n",
      "[('playerIRI', 'http://www.wikidata.org/entity/Q179051'), ('label', 'Kareem Abdul-Jabbar')]\n",
      "[('playerIRI', 'http://www.wikidata.org/entity/Q134183'), ('label', 'Magic Johnson')]\n",
      "[('playerIRI', 'http://www.wikidata.org/entity/Q169452'), ('label', \"Shaquille O'Neal\")]\n",
      "[('playerIRI', 'http://www.wikidata.org/entity/Q17717'), ('label', 'Oscar Robertson')]\n",
      "[('playerIRI', 'http://www.wikidata.org/entity/Q182455'), ('label', 'Wilt Chamberlain')]\n",
      "[('playerIRI', 'http://www.wikidata.org/entity/Q189240'), ('label', 'Kevin Garnett')]\n",
      "[('playerIRI', 'http://www.wikidata.org/entity/Q190094'), ('label', 'Allen Iverson')]\n",
      "[('playerIRI', 'http://www.wikidata.org/entity/Q190152'), ('label', 'Larry Bird')]\n",
      "[('playerIRI', 'http://www.wikidata.org/entity/Q192707'), ('label', 'Charles Barkley')]\n",
      "[('playerIRI', 'http://www.wikidata.org/entity/Q193020'), ('label', 'Tim Duncan')]\n",
      "[('playerIRI', 'http://www.wikidata.org/entity/Q196185'), ('label', 'Russell Westbrook')]\n",
      "[('playerIRI', 'http://www.wikidata.org/entity/Q199896'), ('label', 'Karl Malone')]\n",
      "[('playerIRI', 'http://www.wikidata.org/entity/Q209921'), ('label', 'Julius Erving')]\n",
      "[('playerIRI', 'http://www.wikidata.org/entity/Q242185'), ('label', 'Bill Russell')]\n",
      "[('playerIRI', 'http://www.wikidata.org/entity/Q25369'), ('label', 'Kobe Bryant')]\n",
      "[('playerIRI', 'http://www.wikidata.org/entity/Q264393'), ('label', 'Dave Cowens')]\n",
      "[('playerIRI', 'http://www.wikidata.org/entity/Q29545'), ('label', 'Kevin Durant')]\n",
      "[('playerIRI', 'http://www.wikidata.org/entity/Q312643'), ('label', 'Bob Cousy')]\n",
      "[('playerIRI', 'http://www.wikidata.org/entity/Q36159'), ('label', 'LeBron James')]\n",
      "[('playerIRI', 'http://www.wikidata.org/entity/Q368561'), ('label', 'Bob Pettit')]\n",
      "[('playerIRI', 'http://www.wikidata.org/entity/Q380515'), ('label', 'Willis Reed')]\n",
      "[('playerIRI', 'http://www.wikidata.org/entity/Q41421'), ('label', 'Michael Jordan')]\n",
      "[('playerIRI', 'http://www.wikidata.org/entity/Q44068'), ('label', 'Dirk Nowitzki')]\n",
      "[('playerIRI', 'http://www.wikidata.org/entity/Q273256'), ('label', 'Hakeem Olajuwon')]\n",
      "[('playerIRI', 'http://www.wikidata.org/entity/Q211876'), ('label', 'David Robinson')]\n",
      "[('playerIRI', 'http://www.wikidata.org/entity/Q192955'), ('label', 'Steve Nash')]\n",
      "[('playerIRI', 'http://www.wikidata.org/entity/Q363246'), ('label', 'Bill Walton')]\n",
      "[('playerIRI', 'http://www.wikidata.org/entity/Q456776'), ('label', 'Wes Unseld')]\n",
      "[('playerIRI', 'http://www.wikidata.org/entity/Q553232'), ('label', 'Bob McAdoo')]\n",
      "[('playerIRI', 'http://www.wikidata.org/entity/Q8991894'), ('label', 'Giannis Antetokounmpo')]\n",
      "[('playerIRI', 'http://www.wikidata.org/entity/Q136678'), ('label', 'James Harden')]\n",
      "[('playerIRI', 'http://www.wikidata.org/entity/Q316179'), ('label', 'Moses Malone')]\n",
      "[('playerIRI', 'http://www.wikidata.org/entity/Q352159'), ('label', 'Stephen Curry')]\n",
      "[('playerIRI', 'http://www.wikidata.org/entity/Q17281073'), ('label', 'Nikola Jokić')]\n",
      "[('playerIRI', 'http://www.wikidata.org/entity/Q205326'), ('label', 'Derrick Rose')]\n",
      "35\n"
     ]
    }
   ],
   "source": [
    "# write your queries\n",
    "# select players that won the NBA most valuable palyer award\n",
    "queryString = \"\"\"\n",
    "SELECT DISTINCT ?playerIRI ?label\n",
    "WHERE {\n",
    "   # bind something\n",
    "   ?playerIRI wdt:P166 wd:Q222047 .\n",
    "   # get the label\n",
    "   ?playerIRI sc:name ?label.\n",
    "}\n",
    "LIMIT 40\n",
    "\"\"\"\n",
    "\n",
    "print(\"Results\")\n",
    "x=run_query(queryString)"
   ]
  },
  {
   "cell_type": "code",
   "execution_count": 12,
   "id": "23d63844-1c69-4400-8535-823100276b07",
   "metadata": {},
   "outputs": [
    {
     "name": "stdout",
     "output_type": "stream",
     "text": [
      "Results\n",
      "[('p', 'http://www.wikidata.org/prop/direct/P1346'), ('name', 'winner'), ('obj', 'http://www.wikidata.org/entity/Q179051'), ('value', 'Kareem Abdul-Jabbar')]\n",
      "[('p', 'http://www.wikidata.org/prop/direct/P17'), ('name', 'country'), ('obj', 'http://www.wikidata.org/entity/Q30'), ('value', 'United States of America')]\n",
      "[('p', 'http://www.wikidata.org/prop/direct/P641'), ('name', 'sport'), ('obj', 'http://www.wikidata.org/entity/Q5372'), ('value', 'basketball')]\n",
      "[('p', 'http://www.wikidata.org/prop/direct/P1346'), ('name', 'winner'), ('obj', 'http://www.wikidata.org/entity/Q134183'), ('value', 'Magic Johnson')]\n",
      "[('p', 'http://www.wikidata.org/prop/direct/P1346'), ('name', 'winner'), ('obj', 'http://www.wikidata.org/entity/Q17717'), ('value', 'Oscar Robertson')]\n",
      "[('p', 'http://www.wikidata.org/prop/direct/P1346'), ('name', 'winner'), ('obj', 'http://www.wikidata.org/entity/Q182455'), ('value', 'Wilt Chamberlain')]\n",
      "[('p', 'http://www.wikidata.org/prop/direct/P1346'), ('name', 'winner'), ('obj', 'http://www.wikidata.org/entity/Q189240'), ('value', 'Kevin Garnett')]\n",
      "[('p', 'http://www.wikidata.org/prop/direct/P1346'), ('name', 'winner'), ('obj', 'http://www.wikidata.org/entity/Q190094'), ('value', 'Allen Iverson')]\n",
      "[('p', 'http://www.wikidata.org/prop/direct/P1346'), ('name', 'winner'), ('obj', 'http://www.wikidata.org/entity/Q190152'), ('value', 'Larry Bird')]\n",
      "[('p', 'http://www.wikidata.org/prop/direct/P1346'), ('name', 'winner'), ('obj', 'http://www.wikidata.org/entity/Q192707'), ('value', 'Charles Barkley')]\n",
      "[('p', 'http://www.wikidata.org/prop/direct/P1346'), ('name', 'winner'), ('obj', 'http://www.wikidata.org/entity/Q193020'), ('value', 'Tim Duncan')]\n",
      "[('p', 'http://www.wikidata.org/prop/direct/P1346'), ('name', 'winner'), ('obj', 'http://www.wikidata.org/entity/Q196185'), ('value', 'Russell Westbrook')]\n",
      "[('p', 'http://www.wikidata.org/prop/direct/P1346'), ('name', 'winner'), ('obj', 'http://www.wikidata.org/entity/Q199896'), ('value', 'Karl Malone')]\n",
      "[('p', 'http://www.wikidata.org/prop/direct/P1346'), ('name', 'winner'), ('obj', 'http://www.wikidata.org/entity/Q209921'), ('value', 'Julius Erving')]\n",
      "[('p', 'http://www.wikidata.org/prop/direct/P1346'), ('name', 'winner'), ('obj', 'http://www.wikidata.org/entity/Q242185'), ('value', 'Bill Russell')]\n",
      "[('p', 'http://www.wikidata.org/prop/direct/P1346'), ('name', 'winner'), ('obj', 'http://www.wikidata.org/entity/Q25369'), ('value', 'Kobe Bryant')]\n",
      "[('p', 'http://www.wikidata.org/prop/direct/P1346'), ('name', 'winner'), ('obj', 'http://www.wikidata.org/entity/Q264393'), ('value', 'Dave Cowens')]\n",
      "[('p', 'http://www.wikidata.org/prop/direct/P1346'), ('name', 'winner'), ('obj', 'http://www.wikidata.org/entity/Q29545'), ('value', 'Kevin Durant')]\n",
      "[('p', 'http://www.wikidata.org/prop/direct/P1346'), ('name', 'winner'), ('obj', 'http://www.wikidata.org/entity/Q312643'), ('value', 'Bob Cousy')]\n",
      "[('p', 'http://www.wikidata.org/prop/direct/P1346'), ('name', 'winner'), ('obj', 'http://www.wikidata.org/entity/Q36159'), ('value', 'LeBron James')]\n",
      "[('p', 'http://www.wikidata.org/prop/direct/P1346'), ('name', 'winner'), ('obj', 'http://www.wikidata.org/entity/Q368561'), ('value', 'Bob Pettit')]\n",
      "[('p', 'http://www.wikidata.org/prop/direct/P1346'), ('name', 'winner'), ('obj', 'http://www.wikidata.org/entity/Q380515'), ('value', 'Willis Reed')]\n",
      "[('p', 'http://www.wikidata.org/prop/direct/P1346'), ('name', 'winner'), ('obj', 'http://www.wikidata.org/entity/Q41421'), ('value', 'Michael Jordan')]\n",
      "[('p', 'http://www.wikidata.org/prop/direct/P31'), ('name', 'instance of'), ('obj', 'http://www.wikidata.org/entity/Q652965'), ('value', 'most valuable player award')]\n",
      "[('p', 'http://www.wikidata.org/prop/direct/P1346'), ('name', 'winner'), ('obj', 'http://www.wikidata.org/entity/Q44068'), ('value', 'Dirk Nowitzki')]\n",
      "[('p', 'http://www.wikidata.org/prop/direct/P1346'), ('name', 'winner'), ('obj', 'http://www.wikidata.org/entity/Q273256'), ('value', 'Hakeem Olajuwon')]\n",
      "[('p', 'http://www.wikidata.org/prop/direct/P1346'), ('name', 'winner'), ('obj', 'http://www.wikidata.org/entity/Q211876'), ('value', 'David Robinson')]\n",
      "[('p', 'http://www.wikidata.org/prop/direct/P1346'), ('name', 'winner'), ('obj', 'http://www.wikidata.org/entity/Q192955'), ('value', 'Steve Nash')]\n",
      "[('p', 'http://www.wikidata.org/prop/direct/P1346'), ('name', 'winner'), ('obj', 'http://www.wikidata.org/entity/Q363246'), ('value', 'Bill Walton')]\n",
      "[('p', 'http://www.wikidata.org/prop/direct/P1346'), ('name', 'winner'), ('obj', 'http://www.wikidata.org/entity/Q456776'), ('value', 'Wes Unseld')]\n",
      "30\n"
     ]
    }
   ],
   "source": [
    "queryString = \"\"\"\n",
    "SELECT ?p ?name ?obj ?value\n",
    "WHERE {\n",
    "   # bind something\n",
    "   wd:Q222047 ?p ?obj .\n",
    "   # get the label\n",
    "   ?p sc:name ?name .\n",
    "   ?obj sc:name ?value .\n",
    "}\n",
    "LIMIT 30\n",
    "\"\"\"\n",
    "\n",
    "print(\"Results\")\n",
    "x=run_query(queryString)"
   ]
  },
  {
   "cell_type": "code",
   "execution_count": 16,
   "id": "e1f46872-582f-42d9-b05d-0d9b5ea21511",
   "metadata": {},
   "outputs": [
    {
     "name": "stdout",
     "output_type": "stream",
     "text": [
      "Results\n",
      "[('winnerName', 'Magic Johnson'), ('victories', '1')]\n",
      "[('winnerName', 'Russell Westbrook'), ('victories', '1')]\n",
      "[('winnerName', 'Bill Russell'), ('victories', '1')]\n",
      "[('winnerName', 'Dirk Nowitzki'), ('victories', '1')]\n",
      "[('winnerName', 'Hakeem Olajuwon'), ('victories', '1')]\n",
      "[('winnerName', 'Bob McAdoo'), ('victories', '1')]\n",
      "[('winnerName', 'Derrick Rose'), ('victories', '1')]\n",
      "[('winnerName', 'Karl Malone'), ('victories', '1')]\n",
      "[('winnerName', 'Kevin Durant'), ('victories', '1')]\n",
      "[('winnerName', 'Zach Brown'), ('victories', '1')]\n",
      "[('winnerName', 'Kareem Abdul-Jabbar'), ('victories', '1')]\n",
      "[('winnerName', 'Charles Barkley'), ('victories', '1')]\n",
      "[('winnerName', 'Julius Erving'), ('victories', '1')]\n",
      "[('winnerName', 'Stephen Curry'), ('victories', '1')]\n",
      "[('winnerName', 'Kevin Garnett'), ('victories', '1')]\n",
      "[('winnerName', 'David Robinson'), ('victories', '1')]\n",
      "[('winnerName', 'James Harden'), ('victories', '1')]\n",
      "[('winnerName', 'Wilt Chamberlain'), ('victories', '1')]\n",
      "[('winnerName', 'Larry Bird'), ('victories', '1')]\n",
      "[('winnerName', 'Bob Cousy'), ('victories', '1')]\n",
      "[('winnerName', 'Bob Pettit'), ('victories', '1')]\n",
      "[('winnerName', 'Alex Caruso'), ('victories', '1')]\n",
      "[('winnerName', 'Tim Duncan'), ('victories', '1')]\n",
      "[('winnerName', 'Michael Jordan'), ('victories', '1')]\n",
      "[('winnerName', 'Allen Iverson'), ('victories', '1')]\n",
      "[('winnerName', 'Dave Cowens'), ('victories', '1')]\n",
      "[('winnerName', 'Willis Reed'), ('victories', '1')]\n",
      "[('winnerName', 'Steve Nash'), ('victories', '1')]\n",
      "[('winnerName', 'Giannis Antetokounmpo'), ('victories', '1')]\n",
      "[('winnerName', 'Moses Malone'), ('victories', '1')]\n",
      "30\n"
     ]
    }
   ],
   "source": [
    "\n",
    "queryString = \"\"\"\n",
    "SELECT ?winnerName (COUNT(?winner) AS ?victories)\n",
    "WHERE {\n",
    "   # bind something\n",
    "   wd:Q222047 wdt:P1346 ?winner .\n",
    "   # get the label\n",
    "   ?winner sc:name ?winnerName .\n",
    "}\n",
    "GROUP BY ?winnerName\n",
    "LIMIT 30\n",
    "\"\"\"\n",
    "\n",
    "print(\"Results\")\n",
    "x=run_query(queryString)"
   ]
  },
  {
   "cell_type": "code",
   "execution_count": 18,
   "id": "fc0b86ce-4579-4092-8544-c298046a0365",
   "metadata": {},
   "outputs": [
    {
     "name": "stdout",
     "output_type": "stream",
     "text": [
      "Results\n",
      "[('playerIRI', 'http://www.wikidata.org/entity/Q2173601'), ('label', 'Rudolf Pressberger'), ('victories', '1')]\n",
      "[('playerIRI', 'http://www.wikidata.org/entity/Q7343332'), ('label', 'Robert D. Maurer'), ('victories', '8')]\n",
      "[('playerIRI', 'http://www.wikidata.org/entity/Q10287419'), ('label', 'Vai-Vai'), ('victories', '1')]\n",
      "[('playerIRI', 'http://www.wikidata.org/entity/Q28500856'), ('label', 'Alexander Chentsov'), ('victories', '1')]\n",
      "[('playerIRI', 'http://www.wikidata.org/entity/Q1657795'), ('label', 'Igor Kon'), ('victories', '1')]\n",
      "[('playerIRI', 'http://www.wikidata.org/entity/Q91898858'), ('label', 'Raymonde Bestaux'), ('victories', '1')]\n",
      "[('playerIRI', 'http://www.wikidata.org/entity/Q2959669'), ('label', 'Charles Louis Dinet'), ('victories', '1')]\n",
      "[('playerIRI', 'http://www.wikidata.org/entity/Q4485007'), ('label', 'Leonid Firsov'), ('victories', '1')]\n",
      "[('playerIRI', 'http://www.wikidata.org/entity/Q15969040'), ('label', 'Pierre François Dumont'), ('victories', '1')]\n",
      "[('playerIRI', 'http://www.wikidata.org/entity/Q69978'), ('label', 'Alfred Wünnenberg'), ('victories', '1')]\n",
      "[('playerIRI', 'http://www.wikidata.org/entity/Q1608696'), ('label', 'Pierre Laconte'), ('victories', '1')]\n",
      "[('playerIRI', 'http://www.wikidata.org/entity/Q16030506'), ('label', 'Edward Elbridge Salisbury'), ('victories', '1')]\n",
      "[('playerIRI', 'http://www.wikidata.org/entity/Q21294709'), ('label', 'Maurice-Augustin Georget La Chesnais'), ('victories', '1')]\n",
      "[('playerIRI', 'http://www.wikidata.org/entity/Q87726413'), ('label', 'Alan Agresti'), ('victories', '1')]\n",
      "[('playerIRI', 'http://www.wikidata.org/entity/Q11814015'), ('label', 'Paweł Deresz'), ('victories', '1')]\n",
      "[('playerIRI', 'http://www.wikidata.org/entity/Q31319337'), ('label', 'Sirjan Jo Sankat Ain Sindhi Kahani'), ('victories', '1')]\n",
      "[('playerIRI', 'http://www.wikidata.org/entity/Q16371980'), ('label', 'Arkmenik Nikoghosyan'), ('victories', '1')]\n",
      "[('playerIRI', 'http://www.wikidata.org/entity/Q3548496'), ('label', 'Un couple épatant'), ('victories', '1')]\n",
      "[('playerIRI', 'http://www.wikidata.org/entity/Q90478028'), ('label', 'Edward J Bedrick'), ('victories', '1')]\n",
      "[('playerIRI', 'http://www.wikidata.org/entity/Q65223759'), ('label', 'Ajit Singh'), ('victories', '1')]\n",
      "[('playerIRI', 'http://www.wikidata.org/entity/Q3371732'), ('label', 'Paul Léon'), ('victories', '2')]\n",
      "[('playerIRI', 'http://www.wikidata.org/entity/Q15853529'), ('label', 'Walter Koransky'), ('victories', '1')]\n",
      "[('playerIRI', 'http://www.wikidata.org/entity/Q7288153'), ('label', 'Ralph Tate'), ('victories', '3')]\n",
      "[('playerIRI', 'http://www.wikidata.org/entity/Q46512076'), ('label', 'Philippe Quèvremont'), ('victories', '1')]\n",
      "[('playerIRI', 'http://www.wikidata.org/entity/Q104639626'), ('label', 'Wendy Houliston'), ('victories', '1')]\n",
      "[('playerIRI', 'http://www.wikidata.org/entity/Q65095793'), ('label', 'Katsumi Nojiri'), ('victories', '1')]\n",
      "[('playerIRI', 'http://www.wikidata.org/entity/Q28059475'), ('label', 'Maurice Jones'), ('victories', '1')]\n",
      "[('playerIRI', 'http://www.wikidata.org/entity/Q16058471'), ('label', 'Mick Grace'), ('victories', '1')]\n",
      "[('playerIRI', 'http://www.wikidata.org/entity/Q4446501'), ('label', 'Dmytro Surzhykov'), ('victories', '1')]\n",
      "[('playerIRI', 'http://www.wikidata.org/entity/Q23806437'), ('label', 'M. B. Ramachandra Rao'), ('victories', '1')]\n",
      "[('playerIRI', 'http://www.wikidata.org/entity/Q3330402'), ('label', 'Vieux Nîmes museum'), ('victories', '1')]\n",
      "[('playerIRI', 'http://www.wikidata.org/entity/Q15061053'), ('label', 'Sergey Shishkin'), ('victories', '1')]\n",
      "[('playerIRI', 'http://www.wikidata.org/entity/Q4188275'), ('label', 'Konstanty Górski'), ('victories', '2')]\n",
      "[('playerIRI', 'http://www.wikidata.org/entity/Q816629'), ('label', 'Ben Weber'), ('victories', '2')]\n",
      "[('playerIRI', 'http://www.wikidata.org/entity/Q15935047'), ('label', 'Yung Chi Tung'), ('victories', '2')]\n",
      "[('playerIRI', 'http://www.wikidata.org/entity/Q17152272'), ('label', 'Peter Tripp'), ('victories', '1')]\n",
      "[('playerIRI', 'http://www.wikidata.org/entity/Q40980318'), ('label', 'H.R. Radian'), ('victories', '1')]\n",
      "[('playerIRI', 'http://www.wikidata.org/entity/Q5534802'), ('label', 'Geoffrey Orbell'), ('victories', '1')]\n",
      "[('playerIRI', 'http://www.wikidata.org/entity/Q104570068'), ('label', 'The Old Ways'), ('victories', '1')]\n",
      "[('playerIRI', 'http://www.wikidata.org/entity/Q16300167'), ('label', 'Rauna Kuokkanen'), ('victories', '1')]\n",
      "40\n"
     ]
    }
   ],
   "source": [
    "# count the awards of each player \n",
    "queryString = \"\"\"\n",
    "SELECT DISTINCT ?playerIRI ?label (COUNT(?award) AS ?victories)\n",
    "WHERE {\n",
    "   # bind something\n",
    "   ?playerIRI wdt:P166 ?award .\n",
    "\n",
    "   # get the label\n",
    "   ?playerIRI sc:name ?label.\n",
    "}\n",
    "GROUP BY ?playerIRI ?label\n",
    "LIMIT 40\n",
    "\"\"\"\n",
    "\n",
    "print(\"Results\")\n",
    "x=run_query(queryString)"
   ]
  },
  {
   "cell_type": "code",
   "execution_count": 18,
   "id": "cadf51e1-bfa9-4622-bf4e-b94d2cdf2554",
   "metadata": {},
   "outputs": [
    {
     "name": "stdout",
     "output_type": "stream",
     "text": [
      "Results\n",
      "[('playerIRI', 'http://www.wikidata.org/entity/Q264393'), ('label', 'Dave Cowens'), ('victories', '1')]\n",
      "[('playerIRI', 'http://www.wikidata.org/entity/Q380515'), ('label', 'Willis Reed'), ('victories', '1')]\n",
      "[('playerIRI', 'http://www.wikidata.org/entity/Q192955'), ('label', 'Steve Nash'), ('victories', '1')]\n",
      "[('playerIRI', 'http://www.wikidata.org/entity/Q136678'), ('label', 'James Harden'), ('victories', '1')]\n",
      "[('playerIRI', 'http://www.wikidata.org/entity/Q433521'), ('label', 'Sylvia Fowles'), ('victories', '1')]\n",
      "[('playerIRI', 'http://www.wikidata.org/entity/Q179051'), ('label', 'Kareem Abdul-Jabbar'), ('victories', '1')]\n",
      "[('playerIRI', 'http://www.wikidata.org/entity/Q25369'), ('label', 'Kobe Bryant'), ('victories', '1')]\n",
      "[('playerIRI', 'http://www.wikidata.org/entity/Q36159'), ('label', 'LeBron James'), ('victories', '1')]\n",
      "[('playerIRI', 'http://www.wikidata.org/entity/Q41421'), ('label', 'Michael Jordan'), ('victories', '1')]\n",
      "[('playerIRI', 'http://www.wikidata.org/entity/Q196185'), ('label', 'Russell Westbrook'), ('victories', '1')]\n",
      "[('playerIRI', 'http://www.wikidata.org/entity/Q289172'), ('label', 'Tina Charles'), ('victories', '1')]\n",
      "[('playerIRI', 'http://www.wikidata.org/entity/Q205326'), ('label', 'Derrick Rose'), ('victories', '1')]\n",
      "[('playerIRI', 'http://www.wikidata.org/entity/Q190152'), ('label', 'Larry Bird'), ('victories', '1')]\n",
      "[('playerIRI', 'http://www.wikidata.org/entity/Q193020'), ('label', 'Tim Duncan'), ('victories', '1')]\n",
      "[('playerIRI', 'http://www.wikidata.org/entity/Q312643'), ('label', 'Bob Cousy'), ('victories', '1')]\n",
      "[('playerIRI', 'http://www.wikidata.org/entity/Q609527'), ('label', 'Maya Moore'), ('victories', '1')]\n",
      "[('playerIRI', 'http://www.wikidata.org/entity/Q3342371'), ('label', 'Nneka Ogwumike'), ('victories', '1')]\n",
      "[('playerIRI', 'http://www.wikidata.org/entity/Q352159'), ('label', 'Stephen Curry'), ('victories', '1')]\n",
      "[('playerIRI', 'http://www.wikidata.org/entity/Q363246'), ('label', 'Bill Walton'), ('victories', '1')]\n",
      "[('playerIRI', 'http://www.wikidata.org/entity/Q17281073'), ('label', 'Nikola Jokić'), ('victories', '1')]\n",
      "[('playerIRI', 'http://www.wikidata.org/entity/Q199896'), ('label', 'Karl Malone'), ('victories', '1')]\n",
      "[('playerIRI', 'http://www.wikidata.org/entity/Q368561'), ('label', 'Bob Pettit'), ('victories', '1')]\n",
      "[('playerIRI', 'http://www.wikidata.org/entity/Q211876'), ('label', 'David Robinson'), ('victories', '1')]\n",
      "[('playerIRI', 'http://www.wikidata.org/entity/Q8991894'), ('label', 'Giannis Antetokounmpo'), ('victories', '1')]\n",
      "[('playerIRI', 'http://www.wikidata.org/entity/Q169452'), ('label', \"Shaquille O'Neal\"), ('victories', '1')]\n",
      "[('playerIRI', 'http://www.wikidata.org/entity/Q17717'), ('label', 'Oscar Robertson'), ('victories', '1')]\n",
      "[('playerIRI', 'http://www.wikidata.org/entity/Q190094'), ('label', 'Allen Iverson'), ('victories', '1')]\n",
      "[('playerIRI', 'http://www.wikidata.org/entity/Q134183'), ('label', 'Magic Johnson'), ('victories', '1')]\n",
      "[('playerIRI', 'http://www.wikidata.org/entity/Q192707'), ('label', 'Charles Barkley'), ('victories', '1')]\n",
      "[('playerIRI', 'http://www.wikidata.org/entity/Q29545'), ('label', 'Kevin Durant'), ('victories', '1')]\n",
      "[('playerIRI', 'http://www.wikidata.org/entity/Q2654539'), ('label', 'Breanna Stewart'), ('victories', '1')]\n",
      "[('playerIRI', 'http://www.wikidata.org/entity/Q316179'), ('label', 'Moses Malone'), ('victories', '1')]\n",
      "[('playerIRI', 'http://www.wikidata.org/entity/Q182455'), ('label', 'Wilt Chamberlain'), ('victories', '1')]\n",
      "[('playerIRI', 'http://www.wikidata.org/entity/Q209921'), ('label', 'Julius Erving'), ('victories', '1')]\n",
      "[('playerIRI', 'http://www.wikidata.org/entity/Q44068'), ('label', 'Dirk Nowitzki'), ('victories', '1')]\n",
      "[('playerIRI', 'http://www.wikidata.org/entity/Q273256'), ('label', 'Hakeem Olajuwon'), ('victories', '1')]\n",
      "[('playerIRI', 'http://www.wikidata.org/entity/Q456776'), ('label', 'Wes Unseld'), ('victories', '1')]\n",
      "[('playerIRI', 'http://www.wikidata.org/entity/Q2113902'), ('label', 'Elena Delle Donne'), ('victories', '1')]\n",
      "[('playerIRI', 'http://www.wikidata.org/entity/Q189240'), ('label', 'Kevin Garnett'), ('victories', '1')]\n",
      "[('playerIRI', 'http://www.wikidata.org/entity/Q21623331'), ('label', \"A'ja Wilson\"), ('victories', '1')]\n",
      "[('playerIRI', 'http://www.wikidata.org/entity/Q240726'), ('label', 'Diana Taurasi'), ('victories', '1')]\n",
      "[('playerIRI', 'http://www.wikidata.org/entity/Q257980'), ('label', 'Lisa Leslie'), ('victories', '1')]\n",
      "[('playerIRI', 'http://www.wikidata.org/entity/Q270683'), ('label', 'Sheryl Swoopes'), ('victories', '1')]\n",
      "[('playerIRI', 'http://www.wikidata.org/entity/Q242185'), ('label', 'Bill Russell'), ('victories', '1')]\n",
      "[('playerIRI', 'http://www.wikidata.org/entity/Q553232'), ('label', 'Bob McAdoo'), ('victories', '1')]\n",
      "45\n"
     ]
    }
   ],
   "source": [
    "# count the awards of each player \n",
    "queryString = \"\"\"\n",
    "SELECT DISTINCT ?playerIRI ?label (COUNT(?award) AS ?victories)\n",
    "WHERE {\n",
    "   # bind something\n",
    "   ?playerIRI wdt:P166 ?award .\n",
    "   ?award wdt:P31 wd:Q652965 .\n",
    "   \n",
    "   FILTER(REGEX(?awardName, \"NBA Most Valuable Player Award\"))\n",
    "   # get the label\n",
    "   ?playerIRI sc:name ?label.\n",
    "   ?award sc:name ?awardName .\n",
    "}\n",
    "GROUP BY ?playerIRI ?label \n",
    "LIMIT 50\n",
    "\"\"\"\n",
    "\n",
    "print(\"Results\")\n",
    "x=run_query(queryString)"
   ]
  },
  {
   "cell_type": "code",
   "execution_count": 14,
   "id": "3de0d46f-b48e-4478-bbe0-2fed60641eca",
   "metadata": {},
   "outputs": [
    {
     "name": "stdout",
     "output_type": "stream",
     "text": [
      "Results\n",
      "The operation failed EndPointInternalError: endpoint returned code 500 and response. \n",
      "\n",
      "Response:\n",
      "b'Virtuoso 42000 Error The estimated execution time 1073741824 (sec) exceeds the limit of 800 (sec).\\n\\nSPARQL query:\\n\\n##-2a2a7ba14b-##\\nPREFIX wd: <http://www.wikidata.org/entity/> \\nPREFIX wdt: <http://www.wikidata.org/prop/direct/> \\nPREFIX sc: <http://schema.org/>\\n\\n\\nSELECT ?playerIRI ?label (COUNT(?award) AS ?victories)\\nWHERE {\\n   # bind something\\n   ?award wdt:P31 wd:Q652965 .\\n   FILTER (REGEX(?awardName, \"NBA Most Valuable Player Award\"))\\n\\n   {\\n       SELECT ?playerIRI ?label\\n       WHERE {\\n           ?playerIRI wdt:P166 ?award .\\n       }\\n   }\\n\\n   # get the label\\n   ?playerIRI sc:name ?label.\\n}\\nGROUP BY ?playerIRI ?label\\nLIMIT 4\\n'\n"
     ]
    }
   ],
   "source": [
    "# count the awards of each player \n",
    "queryString = \"\"\"\n",
    "SELECT ?playerIRI ?label (COUNT(?award) AS ?victories)\n",
    "WHERE {\n",
    "   # bind something\n",
    "   ?award wdt:P31 wd:Q652965 .\n",
    "   FILTER (REGEX(?awardName, \"NBA Most Valuable Player Award\"))\n",
    "\n",
    "   {\n",
    "       SELECT ?playerIRI ?label\n",
    "       WHERE {\n",
    "           ?playerIRI wdt:P166 ?award .\n",
    "       }\n",
    "   }\n",
    "\n",
    "   # get the label\n",
    "   ?playerIRI sc:name ?label.\n",
    "}\n",
    "GROUP BY ?playerIRI ?label\n",
    "LIMIT 4\n",
    "\"\"\"\n",
    "\n",
    "print(\"Results\")\n",
    "x=run_query(queryString)"
   ]
  },
  {
   "cell_type": "code",
   "execution_count": 64,
   "id": "786aca52-ffc9-4454-82c7-4203f392c51c",
   "metadata": {},
   "outputs": [
    {
     "name": "stdout",
     "output_type": "stream",
     "text": [
      "Results\n",
      "[('playerIRI', 'http://www.wikidata.org/entity/Q169452'), ('label', \"Shaquille O'Neal\"), ('vicrories', '1')]\n",
      "[('playerIRI', 'http://www.wikidata.org/entity/Q199896'), ('label', 'Karl Malone'), ('vicrories', '1')]\n",
      "[('playerIRI', 'http://www.wikidata.org/entity/Q41421'), ('label', 'Michael Jordan'), ('vicrories', '1')]\n",
      "[('playerIRI', 'http://www.wikidata.org/entity/Q190094'), ('label', 'Allen Iverson'), ('vicrories', '1')]\n",
      "[('playerIRI', 'http://www.wikidata.org/entity/Q193020'), ('label', 'Tim Duncan'), ('vicrories', '1')]\n",
      "[('playerIRI', 'http://www.wikidata.org/entity/Q134183'), ('label', 'Magic Johnson'), ('vicrories', '1')]\n",
      "[('playerIRI', 'http://www.wikidata.org/entity/Q190152'), ('label', 'Larry Bird'), ('vicrories', '1')]\n",
      "[('playerIRI', 'http://www.wikidata.org/entity/Q29545'), ('label', 'Kevin Durant'), ('vicrories', '1')]\n",
      "[('playerIRI', 'http://www.wikidata.org/entity/Q192955'), ('label', 'Steve Nash'), ('vicrories', '1')]\n",
      "[('playerIRI', 'http://www.wikidata.org/entity/Q8991894'), ('label', 'Giannis Antetokounmpo'), ('vicrories', '1')]\n",
      "[('playerIRI', 'http://www.wikidata.org/entity/Q21623331'), ('label', \"A'ja Wilson\"), ('vicrories', '1')]\n",
      "[('playerIRI', 'http://www.wikidata.org/entity/Q257980'), ('label', 'Lisa Leslie'), ('vicrories', '1')]\n",
      "[('playerIRI', 'http://www.wikidata.org/entity/Q196185'), ('label', 'Russell Westbrook'), ('vicrories', '1')]\n",
      "[('playerIRI', 'http://www.wikidata.org/entity/Q242185'), ('label', 'Bill Russell'), ('vicrories', '1')]\n",
      "[('playerIRI', 'http://www.wikidata.org/entity/Q36159'), ('label', 'LeBron James'), ('vicrories', '1')]\n",
      "[('playerIRI', 'http://www.wikidata.org/entity/Q380515'), ('label', 'Willis Reed'), ('vicrories', '1')]\n",
      "[('playerIRI', 'http://www.wikidata.org/entity/Q136678'), ('label', 'James Harden'), ('vicrories', '1')]\n",
      "[('playerIRI', 'http://www.wikidata.org/entity/Q205326'), ('label', 'Derrick Rose'), ('vicrories', '1')]\n",
      "[('playerIRI', 'http://www.wikidata.org/entity/Q289172'), ('label', 'Tina Charles'), ('vicrories', '1')]\n",
      "[('playerIRI', 'http://www.wikidata.org/entity/Q209921'), ('label', 'Julius Erving'), ('vicrories', '1')]\n",
      "[('playerIRI', 'http://www.wikidata.org/entity/Q363246'), ('label', 'Bill Walton'), ('vicrories', '1')]\n",
      "[('playerIRI', 'http://www.wikidata.org/entity/Q17281073'), ('label', 'Nikola Jokić'), ('vicrories', '1')]\n",
      "[('playerIRI', 'http://www.wikidata.org/entity/Q273256'), ('label', 'Hakeem Olajuwon'), ('vicrories', '1')]\n",
      "[('playerIRI', 'http://www.wikidata.org/entity/Q240726'), ('label', 'Diana Taurasi'), ('vicrories', '1')]\n",
      "[('playerIRI', 'http://www.wikidata.org/entity/Q270683'), ('label', 'Sheryl Swoopes'), ('vicrories', '1')]\n",
      "[('playerIRI', 'http://www.wikidata.org/entity/Q192707'), ('label', 'Charles Barkley'), ('vicrories', '1')]\n",
      "[('playerIRI', 'http://www.wikidata.org/entity/Q264393'), ('label', 'Dave Cowens'), ('vicrories', '1')]\n",
      "[('playerIRI', 'http://www.wikidata.org/entity/Q312643'), ('label', 'Bob Cousy'), ('vicrories', '1')]\n",
      "[('playerIRI', 'http://www.wikidata.org/entity/Q211876'), ('label', 'David Robinson'), ('vicrories', '1')]\n",
      "[('playerIRI', 'http://www.wikidata.org/entity/Q316179'), ('label', 'Moses Malone'), ('vicrories', '1')]\n",
      "[('playerIRI', 'http://www.wikidata.org/entity/Q352159'), ('label', 'Stephen Curry'), ('vicrories', '1')]\n",
      "[('playerIRI', 'http://www.wikidata.org/entity/Q2654539'), ('label', 'Breanna Stewart'), ('vicrories', '1')]\n",
      "[('playerIRI', 'http://www.wikidata.org/entity/Q3342371'), ('label', 'Nneka Ogwumike'), ('vicrories', '1')]\n",
      "[('playerIRI', 'http://www.wikidata.org/entity/Q17717'), ('label', 'Oscar Robertson'), ('vicrories', '1')]\n",
      "[('playerIRI', 'http://www.wikidata.org/entity/Q189240'), ('label', 'Kevin Garnett'), ('vicrories', '1')]\n",
      "[('playerIRI', 'http://www.wikidata.org/entity/Q44068'), ('label', 'Dirk Nowitzki'), ('vicrories', '1')]\n",
      "[('playerIRI', 'http://www.wikidata.org/entity/Q2113902'), ('label', 'Elena Delle Donne'), ('vicrories', '1')]\n",
      "[('playerIRI', 'http://www.wikidata.org/entity/Q609527'), ('label', 'Maya Moore'), ('vicrories', '1')]\n",
      "[('playerIRI', 'http://www.wikidata.org/entity/Q179051'), ('label', 'Kareem Abdul-Jabbar'), ('vicrories', '1')]\n",
      "[('playerIRI', 'http://www.wikidata.org/entity/Q25369'), ('label', 'Kobe Bryant'), ('vicrories', '1')]\n",
      "40\n"
     ]
    }
   ],
   "source": [
    "#wd:Q222047 \n",
    "queryString = \"\"\"\n",
    "SELECT DISTINCT ?playerIRI ?label (COUNT(?award) AS ?vicrories)\n",
    "WHERE {\n",
    "   # bind something\n",
    "   ?playerIRI wdt:P166 ?award ;\n",
    "              sc:name ?label.\n",
    "   ?award sc:name ?awardName .\n",
    "   FILTER(REGEX(?awardName, \"NBA Most Valuable Player Award\"))\n",
    "}\n",
    "LIMIT 40\n",
    "\"\"\"\n",
    "\n",
    "print(\"Results\")\n",
    "x=run_query(queryString)"
   ]
  },
  {
   "cell_type": "markdown",
   "id": "c5cb430e",
   "metadata": {},
   "source": [
    "Final query for this task"
   ]
  },
  {
   "cell_type": "code",
   "execution_count": 65,
   "id": "8653ada3",
   "metadata": {},
   "outputs": [
    {
     "name": "stdout",
     "output_type": "stream",
     "text": [
      "Results\n",
      "[('playerIRI', 'http://www.wikidata.org/entity/Q169452'), ('label', \"Shaquille O'Neal\"), ('vicrories', '1')]\n",
      "[('playerIRI', 'http://www.wikidata.org/entity/Q199896'), ('label', 'Karl Malone'), ('vicrories', '1')]\n",
      "[('playerIRI', 'http://www.wikidata.org/entity/Q41421'), ('label', 'Michael Jordan'), ('vicrories', '1')]\n",
      "[('playerIRI', 'http://www.wikidata.org/entity/Q190094'), ('label', 'Allen Iverson'), ('vicrories', '1')]\n",
      "[('playerIRI', 'http://www.wikidata.org/entity/Q193020'), ('label', 'Tim Duncan'), ('vicrories', '1')]\n",
      "[('playerIRI', 'http://www.wikidata.org/entity/Q134183'), ('label', 'Magic Johnson'), ('vicrories', '1')]\n",
      "[('playerIRI', 'http://www.wikidata.org/entity/Q190152'), ('label', 'Larry Bird'), ('vicrories', '1')]\n",
      "[('playerIRI', 'http://www.wikidata.org/entity/Q29545'), ('label', 'Kevin Durant'), ('vicrories', '1')]\n",
      "[('playerIRI', 'http://www.wikidata.org/entity/Q192955'), ('label', 'Steve Nash'), ('vicrories', '1')]\n",
      "[('playerIRI', 'http://www.wikidata.org/entity/Q8991894'), ('label', 'Giannis Antetokounmpo'), ('vicrories', '1')]\n",
      "[('playerIRI', 'http://www.wikidata.org/entity/Q21623331'), ('label', \"A'ja Wilson\"), ('vicrories', '1')]\n",
      "[('playerIRI', 'http://www.wikidata.org/entity/Q257980'), ('label', 'Lisa Leslie'), ('vicrories', '1')]\n",
      "[('playerIRI', 'http://www.wikidata.org/entity/Q196185'), ('label', 'Russell Westbrook'), ('vicrories', '1')]\n",
      "[('playerIRI', 'http://www.wikidata.org/entity/Q242185'), ('label', 'Bill Russell'), ('vicrories', '1')]\n",
      "[('playerIRI', 'http://www.wikidata.org/entity/Q36159'), ('label', 'LeBron James'), ('vicrories', '1')]\n",
      "[('playerIRI', 'http://www.wikidata.org/entity/Q380515'), ('label', 'Willis Reed'), ('vicrories', '1')]\n",
      "[('playerIRI', 'http://www.wikidata.org/entity/Q136678'), ('label', 'James Harden'), ('vicrories', '1')]\n",
      "[('playerIRI', 'http://www.wikidata.org/entity/Q205326'), ('label', 'Derrick Rose'), ('vicrories', '1')]\n",
      "[('playerIRI', 'http://www.wikidata.org/entity/Q289172'), ('label', 'Tina Charles'), ('vicrories', '1')]\n",
      "[('playerIRI', 'http://www.wikidata.org/entity/Q209921'), ('label', 'Julius Erving'), ('vicrories', '1')]\n",
      "[('playerIRI', 'http://www.wikidata.org/entity/Q363246'), ('label', 'Bill Walton'), ('vicrories', '1')]\n",
      "[('playerIRI', 'http://www.wikidata.org/entity/Q17281073'), ('label', 'Nikola Jokić'), ('vicrories', '1')]\n",
      "[('playerIRI', 'http://www.wikidata.org/entity/Q273256'), ('label', 'Hakeem Olajuwon'), ('vicrories', '1')]\n",
      "[('playerIRI', 'http://www.wikidata.org/entity/Q240726'), ('label', 'Diana Taurasi'), ('vicrories', '1')]\n",
      "[('playerIRI', 'http://www.wikidata.org/entity/Q270683'), ('label', 'Sheryl Swoopes'), ('vicrories', '1')]\n",
      "[('playerIRI', 'http://www.wikidata.org/entity/Q192707'), ('label', 'Charles Barkley'), ('vicrories', '1')]\n",
      "[('playerIRI', 'http://www.wikidata.org/entity/Q264393'), ('label', 'Dave Cowens'), ('vicrories', '1')]\n",
      "[('playerIRI', 'http://www.wikidata.org/entity/Q312643'), ('label', 'Bob Cousy'), ('vicrories', '1')]\n",
      "[('playerIRI', 'http://www.wikidata.org/entity/Q211876'), ('label', 'David Robinson'), ('vicrories', '1')]\n",
      "[('playerIRI', 'http://www.wikidata.org/entity/Q316179'), ('label', 'Moses Malone'), ('vicrories', '1')]\n",
      "[('playerIRI', 'http://www.wikidata.org/entity/Q352159'), ('label', 'Stephen Curry'), ('vicrories', '1')]\n",
      "[('playerIRI', 'http://www.wikidata.org/entity/Q2654539'), ('label', 'Breanna Stewart'), ('vicrories', '1')]\n",
      "[('playerIRI', 'http://www.wikidata.org/entity/Q3342371'), ('label', 'Nneka Ogwumike'), ('vicrories', '1')]\n",
      "[('playerIRI', 'http://www.wikidata.org/entity/Q17717'), ('label', 'Oscar Robertson'), ('vicrories', '1')]\n",
      "[('playerIRI', 'http://www.wikidata.org/entity/Q189240'), ('label', 'Kevin Garnett'), ('vicrories', '1')]\n",
      "[('playerIRI', 'http://www.wikidata.org/entity/Q44068'), ('label', 'Dirk Nowitzki'), ('vicrories', '1')]\n",
      "[('playerIRI', 'http://www.wikidata.org/entity/Q2113902'), ('label', 'Elena Delle Donne'), ('vicrories', '1')]\n",
      "[('playerIRI', 'http://www.wikidata.org/entity/Q609527'), ('label', 'Maya Moore'), ('vicrories', '1')]\n",
      "[('playerIRI', 'http://www.wikidata.org/entity/Q179051'), ('label', 'Kareem Abdul-Jabbar'), ('vicrories', '1')]\n",
      "[('playerIRI', 'http://www.wikidata.org/entity/Q25369'), ('label', 'Kobe Bryant'), ('vicrories', '1')]\n",
      "40\n"
     ]
    }
   ],
   "source": [
    "# write your final query\n",
    "queryString = \"\"\"\n",
    "SELECT DISTINCT ?playerIRI ?label (COUNT(?award) AS ?vicrories)\n",
    "WHERE {\n",
    "   # bind something\n",
    "   ?playerIRI wdt:P166 ?award ;\n",
    "              sc:name ?label.\n",
    "   ?award sc:name ?awardName .\n",
    "   FILTER(REGEX(?awardName, \"NBA Most Valuable Player Award\"))\n",
    "}\n",
    "LIMIT 40\n",
    "\"\"\"\n",
    "\n",
    "print(\"Results\")\n",
    "x=run_query(queryString)"
   ]
  },
  {
   "cell_type": "code",
   "execution_count": null,
   "id": "11a1a333-cd2c-4df1-bfe9-15233363f070",
   "metadata": {},
   "outputs": [],
   "source": []
  }
 ],
 "metadata": {
  "kernelspec": {
   "display_name": "Python 3",
   "language": "python",
   "name": "python3"
  },
  "language_info": {
   "codemirror_mode": {
    "name": "ipython",
    "version": 3
   },
   "file_extension": ".py",
   "mimetype": "text/x-python",
   "name": "python",
   "nbconvert_exporter": "python",
   "pygments_lexer": "ipython3",
   "version": "3.7.10"
  }
 },
 "nbformat": 4,
 "nbformat_minor": 5
}
