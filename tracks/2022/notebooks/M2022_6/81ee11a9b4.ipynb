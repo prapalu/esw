{
 "cells": [
  {
   "cell_type": "markdown",
   "id": "18fd8eab",
   "metadata": {},
   "source": [
    "# General instructions\n",
    "\n",
    "The goal of the project is to materialize a set of **exploratory workloads** over a real-world, large-scale,  open-domain KG: [WikiData](https://www.wikidata.org/wiki/Wikidata:Main_Page)\n",
    "\n",
    "An exploratory workload  is composed by a set of queries, where each query is related to the information obtained previously.\n",
    "\n",
    "An exploratory workload starts with a usually vague, open ended question, and does not assume the person issuing the workload has a clear understanding of the data contained in the target database or its structure.\n",
    "\n",
    "Remeber that:\n",
    "\n",
    "1. All the queries must run in the python notebook\n",
    "2. You can use classes and properties only if you find them via a SPARQL query that must be present in the notebook\n",
    "3. You do not delete useless queries. Keep everything that is synthatically valid \n",
    "\n",
    "```\n",
    "?p <http://schema.org/name> ?name .\n",
    "```\n",
    "    \n",
    "    is the BGP returning a human-readable name of a property or a class in Wikidata."
   ]
  },
  {
   "cell_type": "code",
   "execution_count": 2,
   "id": "3ea5cce8",
   "metadata": {},
   "outputs": [],
   "source": [
    "## SETUP used later\n",
    "\n",
    "from SPARQLWrapper import SPARQLWrapper, JSON\n",
    "\n",
    "\n",
    "prefixString = \"\"\"\n",
    "##-81ee11a9b4-##\n",
    "PREFIX wd: <http://www.wikidata.org/entity/> \n",
    "PREFIX wdt: <http://www.wikidata.org/prop/direct/> \n",
    "PREFIX sc: <http://schema.org/>\n",
    "\"\"\"\n",
    "\n",
    "# select and construct queries\n",
    "def run_query(queryString,verbose = True):\n",
    "    to_run = prefixString + \"\\n\" + queryString\n",
    "\n",
    "    sparql = SPARQLWrapper(\"http://a256-gc1-03.srv.aau.dk:5820/sparql\")\n",
    "    sparql.setTimeout(300)\n",
    "    sparql.setReturnFormat(JSON)\n",
    "    sparql.setQuery(to_run)\n",
    "\n",
    "    try :\n",
    "        results = sparql.query()\n",
    "        json_results = results.convert()\n",
    "        if len(json_results['results']['bindings'])==0:\n",
    "            print(\"Empty\")\n",
    "            return []\n",
    "        array = []\n",
    "        for bindings in json_results['results']['bindings']:\n",
    "            app =  [ (var, value['value'])  for var, value in bindings.items() ] \n",
    "            if verbose:\n",
    "                print( app)\n",
    "            array.append(app)\n",
    "        if verbose:\n",
    "            print(len(array))\n",
    "        return array\n",
    "\n",
    "    except Exception as e :\n",
    "        print(\"The operation failed\", e)\n",
    "    \n",
    "# ASk queries\n",
    "def run_ask_query(queryString):\n",
    "    to_run = prefixString + \"\\n\" + queryString\n",
    "\n",
    "    sparql = SPARQLWrapper(\"http://a256-gc1-03.srv.aau.dk:5820/sparql\")\n",
    "    sparql.setTimeout(300)\n",
    "    sparql.setReturnFormat(JSON)\n",
    "    sparql.setQuery(to_run)\n",
    "\n",
    "    try :\n",
    "        return sparql.query().convert()\n",
    "\n",
    "    except Exception as e :\n",
    "        print(\"The operation failed\", e)"
   ]
  },
  {
   "cell_type": "markdown",
   "id": "cb4d9b73",
   "metadata": {},
   "source": [
    "# Sport Workflow Series (Basketball and NBA seasons explorative search\") \n",
    "\n",
    "Consider the following exploratory information need:\n",
    "\n",
    ">  investigate the world of basketball. Compare french teams and US teams, country of citizenship of NBA players, and teams which won NBA seasons."
   ]
  },
  {
   "cell_type": "markdown",
   "id": "6f320c11",
   "metadata": {},
   "source": [
    "## Useful URIs for the current workflow\n",
    "The following are given:\n",
    "\n",
    "| IRI           | Description   | Role      |\n",
    "| -----------   | -----------   |-----------|\n",
    "| `wdt:P1647`   | subproperty   | predicate |\n",
    "| `wdt:P31`     | instance of   | predicate |\n",
    "| `wdt:P106`    | profession    | predicate | \n",
    "| `wdt:P279`    | subclass      | predicate |\n",
    "| `wdt:P27`     | nationality   | predicate |\n",
    "| `wd:Q5`| Human       | node |\n",
    "| `wd:Q41421`| Michael Jordan     | node |\n",
    "| `wd:Q25369`| Kobe Bryant     | node |\n"
   ]
  },
  {
   "cell_type": "markdown",
   "id": "0bab8680",
   "metadata": {},
   "source": [
    "\n",
    "\n",
    "\n",
    "Also consider\n",
    "\n",
    "```\n",
    "wd:Q41421 ?p ?obj .\n",
    "```\n",
    "\n",
    "is the BGP to retrieve all **properties of Michael Jordan**\n",
    "\n",
    "Please consider that when you return a resource, you should return the IRI and the label of the resource. In particular, when the task require you to identify a BGP the result set must always be a list of couples IRI - label.\n",
    "\n",
    "\n",
    "\n",
    "The workload should:\n",
    "\n",
    "\n",
    "1. Identify the BGP for basketball player.\n",
    "\n",
    "2. Identify the BGP for basketball.\n",
    "\n",
    "3. Identify the BGP for basketball team.\n",
    "\n",
    "4. Return all french basketball teams born before 1930 (the result set must be a list of triples basketball team IRI, label and year of inception).\n",
    "\n",
    "5. Return all the NBA season (the result set must be a list of couples NBA season IRI, label)\n",
    "\n",
    "6. Consider only the basketball teams which Michael Jordan and Kobe Bryant played. Return the number of NBA seasons won by these teams (the result set must be a list of triples basketball team IRI, label and #victories. Return a number for each basketball team even if they never won a season).\n",
    "\n",
    "7. Consider only NBA (National Basketball Association) basketball teams and all basketball players who played in one of these teams at least once. Also consider the country of citizenship of the players with the related continent. Return for each continent the number of players who played in an NBA basketball teams. (the result set must be triples of continent IRI, label and #players)\n",
    "\n",
    "8. Identify the BGP for the NBA Defensive Player of the Year Award (see https://en.wikipedia.org/wiki/NBA_Defensive_Player_of_the_Year_Award)\n",
    "\n",
    "9. Consider the players who won the NBA Defensive Player of the Year Award. Return for these players the number of NBA Defensive Player of the Year Award won in their career (the result set must be triples of player IRI, label and #victories)\n"
   ]
  },
  {
   "cell_type": "markdown",
   "id": "8efd6268",
   "metadata": {
    "tags": []
   },
   "source": [
    "## Task 1\n",
    "Identify the BGP for basketball player."
   ]
  },
  {
   "cell_type": "markdown",
   "id": "d336a63c-21af-4039-8fa3-aef225935715",
   "metadata": {
    "tags": []
   },
   "source": [
    "### Get the first 25 proprieties of \"Micheal Jordan\"  (wd:Q41421) that do not contain \"ID\"."
   ]
  },
  {
   "cell_type": "code",
   "execution_count": 262,
   "id": "a2433709-376d-448e-baab-6eb39560938f",
   "metadata": {},
   "outputs": [
    {
     "name": "stdout",
     "output_type": "stream",
     "text": [
      "Results\n",
      "[('p', 'http://www.wikidata.org/prop/direct/P106'), ('name', 'occupation')]\n",
      "[('p', 'http://www.wikidata.org/prop/direct/P118'), ('name', 'league')]\n",
      "[('p', 'http://www.wikidata.org/prop/direct/P1285'), ('name', 'Munzinger Sport number')]\n",
      "[('p', 'http://www.wikidata.org/prop/direct/P1343'), ('name', 'described by source')]\n",
      "[('p', 'http://www.wikidata.org/prop/direct/P1344'), ('name', 'participant in')]\n",
      "[('p', 'http://www.wikidata.org/prop/direct/P1411'), ('name', 'nominated for')]\n",
      "[('p', 'http://www.wikidata.org/prop/direct/P1412'), ('name', 'languages spoken, written or signed')]\n",
      "[('p', 'http://www.wikidata.org/prop/direct/P1449'), ('name', 'nickname')]\n",
      "[('p', 'http://www.wikidata.org/prop/direct/P1477'), ('name', 'birth name')]\n",
      "[('p', 'http://www.wikidata.org/prop/direct/P1532'), ('name', 'country for sport')]\n",
      "[('p', 'http://www.wikidata.org/prop/direct/P1559'), ('name', 'name in native language')]\n",
      "[('p', 'http://www.wikidata.org/prop/direct/P1618'), ('name', 'sport number')]\n",
      "[('p', 'http://www.wikidata.org/prop/direct/P166'), ('name', 'award received')]\n",
      "[('p', 'http://www.wikidata.org/prop/direct/P172'), ('name', 'ethnic group')]\n",
      "[('p', 'http://www.wikidata.org/prop/direct/P18'), ('name', 'image')]\n",
      "[('p', 'http://www.wikidata.org/prop/direct/P1830'), ('name', 'owner of')]\n",
      "[('p', 'http://www.wikidata.org/prop/direct/P1889'), ('name', 'different from')]\n",
      "[('p', 'http://www.wikidata.org/prop/direct/P19'), ('name', 'place of birth')]\n",
      "[('p', 'http://www.wikidata.org/prop/direct/P2031'), ('name', 'work period (start)')]\n",
      "[('p', 'http://www.wikidata.org/prop/direct/P2032'), ('name', 'work period (end)')]\n",
      "[('p', 'http://www.wikidata.org/prop/direct/P2048'), ('name', 'height')]\n",
      "[('p', 'http://www.wikidata.org/prop/direct/P2067'), ('name', 'mass')]\n",
      "[('p', 'http://www.wikidata.org/prop/direct/P21'), ('name', 'sex or gender')]\n",
      "[('p', 'http://www.wikidata.org/prop/direct/P213'), ('name', 'ISNI')]\n",
      "[('p', 'http://www.wikidata.org/prop/direct/P22'), ('name', 'father')]\n",
      "25\n"
     ]
    }
   ],
   "source": [
    "queryString = \"\"\"\n",
    "SELECT DISTINCT ?p ?name\n",
    "WHERE {   \n",
    "   wd:Q41421 ?p ?obj .   \n",
    "   ?p sc:name ?name .   \n",
    "   FILTER REGEX(?name, \"^((?!ID).)*$\") .   \n",
    "}\n",
    "LIMIT 25\n",
    "\"\"\"\n",
    "\n",
    "print(\"Results\")\n",
    "x=run_query(queryString)"
   ]
  },
  {
   "cell_type": "markdown",
   "id": "15bb2dfe-0f9e-44db-a417-5ae5e1c8af9a",
   "metadata": {
    "tags": []
   },
   "source": [
    "### Get the first 100 proprieties of \"Micheal Jordan\"  (wd:Q41421) that do not contain \"ID\" ."
   ]
  },
  {
   "cell_type": "code",
   "execution_count": 263,
   "id": "c68375c1-2dea-4261-991e-45d188c0449a",
   "metadata": {},
   "outputs": [
    {
     "name": "stdout",
     "output_type": "stream",
     "text": [
      "Results\n",
      "[('p', 'http://www.wikidata.org/prop/direct/P106'), ('name', 'occupation')]\n",
      "[('p', 'http://www.wikidata.org/prop/direct/P118'), ('name', 'league')]\n",
      "[('p', 'http://www.wikidata.org/prop/direct/P1285'), ('name', 'Munzinger Sport number')]\n",
      "[('p', 'http://www.wikidata.org/prop/direct/P1343'), ('name', 'described by source')]\n",
      "[('p', 'http://www.wikidata.org/prop/direct/P1344'), ('name', 'participant in')]\n",
      "[('p', 'http://www.wikidata.org/prop/direct/P1411'), ('name', 'nominated for')]\n",
      "[('p', 'http://www.wikidata.org/prop/direct/P1412'), ('name', 'languages spoken, written or signed')]\n",
      "[('p', 'http://www.wikidata.org/prop/direct/P1449'), ('name', 'nickname')]\n",
      "[('p', 'http://www.wikidata.org/prop/direct/P1477'), ('name', 'birth name')]\n",
      "[('p', 'http://www.wikidata.org/prop/direct/P1532'), ('name', 'country for sport')]\n",
      "[('p', 'http://www.wikidata.org/prop/direct/P1559'), ('name', 'name in native language')]\n",
      "[('p', 'http://www.wikidata.org/prop/direct/P1618'), ('name', 'sport number')]\n",
      "[('p', 'http://www.wikidata.org/prop/direct/P166'), ('name', 'award received')]\n",
      "[('p', 'http://www.wikidata.org/prop/direct/P172'), ('name', 'ethnic group')]\n",
      "[('p', 'http://www.wikidata.org/prop/direct/P18'), ('name', 'image')]\n",
      "[('p', 'http://www.wikidata.org/prop/direct/P1830'), ('name', 'owner of')]\n",
      "[('p', 'http://www.wikidata.org/prop/direct/P1889'), ('name', 'different from')]\n",
      "[('p', 'http://www.wikidata.org/prop/direct/P19'), ('name', 'place of birth')]\n",
      "[('p', 'http://www.wikidata.org/prop/direct/P2031'), ('name', 'work period (start)')]\n",
      "[('p', 'http://www.wikidata.org/prop/direct/P2032'), ('name', 'work period (end)')]\n",
      "[('p', 'http://www.wikidata.org/prop/direct/P2048'), ('name', 'height')]\n",
      "[('p', 'http://www.wikidata.org/prop/direct/P2067'), ('name', 'mass')]\n",
      "[('p', 'http://www.wikidata.org/prop/direct/P21'), ('name', 'sex or gender')]\n",
      "[('p', 'http://www.wikidata.org/prop/direct/P213'), ('name', 'ISNI')]\n",
      "[('p', 'http://www.wikidata.org/prop/direct/P22'), ('name', 'father')]\n",
      "[('p', 'http://www.wikidata.org/prop/direct/P2283'), ('name', 'uses')]\n",
      "[('p', 'http://www.wikidata.org/prop/direct/P25'), ('name', 'mother')]\n",
      "[('p', 'http://www.wikidata.org/prop/direct/P2561'), ('name', 'name')]\n",
      "[('p', 'http://www.wikidata.org/prop/direct/P26'), ('name', 'spouse')]\n",
      "[('p', 'http://www.wikidata.org/prop/direct/P27'), ('name', 'country of citizenship')]\n",
      "[('p', 'http://www.wikidata.org/prop/direct/P286'), ('name', 'head coach')]\n",
      "[('p', 'http://www.wikidata.org/prop/direct/P31'), ('name', 'instance of')]\n",
      "[('p', 'http://www.wikidata.org/prop/direct/P3373'), ('name', 'sibling')]\n",
      "[('p', 'http://www.wikidata.org/prop/direct/P361'), ('name', 'part of')]\n",
      "[('p', 'http://www.wikidata.org/prop/direct/P373'), ('name', 'Commons category')]\n",
      "[('p', 'http://www.wikidata.org/prop/direct/P40'), ('name', 'child')]\n",
      "[('p', 'http://www.wikidata.org/prop/direct/P413'), ('name', 'position played on team / speciality')]\n",
      "[('p', 'http://www.wikidata.org/prop/direct/P5008'), ('name', 'on focus list of Wikimedia project')]\n",
      "[('p', 'http://www.wikidata.org/prop/direct/P54'), ('name', 'member of sports team')]\n",
      "[('p', 'http://www.wikidata.org/prop/direct/P551'), ('name', 'residence')]\n",
      "[('p', 'http://www.wikidata.org/prop/direct/P552'), ('name', 'handedness')]\n",
      "[('p', 'http://www.wikidata.org/prop/direct/P569'), ('name', 'date of birth')]\n",
      "[('p', 'http://www.wikidata.org/prop/direct/P641'), ('name', 'sport')]\n",
      "[('p', 'http://www.wikidata.org/prop/direct/P69'), ('name', 'educated at')]\n",
      "[('p', 'http://www.wikidata.org/prop/direct/P734'), ('name', 'family name')]\n",
      "[('p', 'http://www.wikidata.org/prop/direct/P735'), ('name', 'given name')]\n",
      "[('p', 'http://www.wikidata.org/prop/direct/P737'), ('name', 'influenced by')]\n",
      "[('p', 'http://www.wikidata.org/prop/direct/P8852'), ('name', 'facial hair')]\n",
      "[('p', 'http://www.wikidata.org/prop/direct/P910'), ('name', \"topic's main category\")]\n",
      "[('p', 'http://www.wikidata.org/prop/direct/P989'), ('name', 'spoken text audio')]\n",
      "[('p', 'http://www.wikidata.org/prop/direct/P3828'), ('name', 'wears')]\n",
      "[('p', 'http://www.wikidata.org/prop/direct/P647'), ('name', 'drafted by')]\n",
      "52\n"
     ]
    }
   ],
   "source": [
    "queryString = \"\"\"\n",
    "SELECT DISTINCT ?p ?name\n",
    "WHERE {   \n",
    "   wd:Q41421 ?p ?obj .   \n",
    "   ?p sc:name ?name .   \n",
    "   FILTER REGEX(?name, \"^((?!ID).)*$\") .   \n",
    "}\n",
    "LIMIT 100\n",
    "\"\"\"\n",
    "\n",
    "print(\"Results\")\n",
    "x=run_query(queryString)"
   ]
  },
  {
   "cell_type": "markdown",
   "id": "7a4f22ba-15db-4514-b4fc-1c355b5600b5",
   "metadata": {
    "tags": []
   },
   "source": [
    "### Get the first 100 proprieties of \"Micheal Jordan\"  (wd:Q41421) that do contain \"ID\""
   ]
  },
  {
   "cell_type": "code",
   "execution_count": 264,
   "id": "735c822c-76c1-470c-becc-ef7299f7c1a0",
   "metadata": {},
   "outputs": [
    {
     "name": "stdout",
     "output_type": "stream",
     "text": [
      "Results\n",
      "[('p', 'http://www.wikidata.org/prop/direct/P1006'), ('name', 'Nationale Thesaurus voor Auteurs ID')]\n",
      "[('p', 'http://www.wikidata.org/prop/direct/P1015'), ('name', 'NORAF ID')]\n",
      "[('p', 'http://www.wikidata.org/prop/direct/P1048'), ('name', 'NCL ID')]\n",
      "[('p', 'http://www.wikidata.org/prop/direct/P1207'), ('name', 'NUKAT ID')]\n",
      "[('p', 'http://www.wikidata.org/prop/direct/P1258'), ('name', 'Rotten Tomatoes ID')]\n",
      "[('p', 'http://www.wikidata.org/prop/direct/P1263'), ('name', 'NNDB people ID')]\n",
      "[('p', 'http://www.wikidata.org/prop/direct/P1266'), ('name', 'AlloCiné person ID')]\n",
      "[('p', 'http://www.wikidata.org/prop/direct/P1280'), ('name', 'CONOR.SI ID')]\n",
      "[('p', 'http://www.wikidata.org/prop/direct/P1296'), ('name', 'Gran Enciclopèdia Catalana ID')]\n",
      "[('p', 'http://www.wikidata.org/prop/direct/P1315'), ('name', 'NLA Trove ID')]\n",
      "[('p', 'http://www.wikidata.org/prop/direct/P1368'), ('name', 'LNB ID')]\n",
      "[('p', 'http://www.wikidata.org/prop/direct/P1375'), ('name', 'NSK ID')]\n",
      "[('p', 'http://www.wikidata.org/prop/direct/P1417'), ('name', 'Encyclopædia Britannica Online ID')]\n",
      "[('p', 'http://www.wikidata.org/prop/direct/P1447'), ('name', 'Sports-Reference.com Olympic athlete ID')]\n",
      "[('p', 'http://www.wikidata.org/prop/direct/P1670'), ('name', 'Canadiana Authorities ID (former scheme)')]\n",
      "[('p', 'http://www.wikidata.org/prop/direct/P1695'), ('name', 'NLP ID (unique)')]\n",
      "[('p', 'http://www.wikidata.org/prop/direct/P1712'), ('name', 'Metacritic ID')]\n",
      "[('p', 'http://www.wikidata.org/prop/direct/P1741'), ('name', 'GTAA ID')]\n",
      "[('p', 'http://www.wikidata.org/prop/direct/P1890'), ('name', 'CCAB ID')]\n",
      "[('p', 'http://www.wikidata.org/prop/direct/P1953'), ('name', 'Discogs artist ID')]\n",
      "[('p', 'http://www.wikidata.org/prop/direct/P2013'), ('name', 'Facebook ID')]\n",
      "[('p', 'http://www.wikidata.org/prop/direct/P2019'), ('name', 'AllMovie person ID')]\n",
      "[('p', 'http://www.wikidata.org/prop/direct/P214'), ('name', 'VIAF ID')]\n",
      "[('p', 'http://www.wikidata.org/prop/direct/P2163'), ('name', 'FAST ID')]\n",
      "[('p', 'http://www.wikidata.org/prop/direct/P227'), ('name', 'GND ID')]\n",
      "[('p', 'http://www.wikidata.org/prop/direct/P2435'), ('name', 'PORT person ID')]\n",
      "[('p', 'http://www.wikidata.org/prop/direct/P244'), ('name', 'Library of Congress authority ID')]\n",
      "[('p', 'http://www.wikidata.org/prop/direct/P2600'), ('name', 'Geni.com profile ID')]\n",
      "[('p', 'http://www.wikidata.org/prop/direct/P2604'), ('name', 'Kinopoisk person ID')]\n",
      "[('p', 'http://www.wikidata.org/prop/direct/P2605'), ('name', 'ČSFD person ID')]\n",
      "[('p', 'http://www.wikidata.org/prop/direct/P2626'), ('name', 'Danish National Filmography person ID')]\n",
      "[('p', 'http://www.wikidata.org/prop/direct/P2638'), ('name', 'TV.com ID')]\n",
      "[('p', 'http://www.wikidata.org/prop/direct/P268'), ('name', 'Bibliothèque nationale de France ID')]\n",
      "[('p', 'http://www.wikidata.org/prop/direct/P269'), ('name', 'IdRef ID')]\n",
      "[('p', 'http://www.wikidata.org/prop/direct/P271'), ('name', 'CiNii author ID (books)')]\n",
      "[('p', 'http://www.wikidata.org/prop/direct/P2924'), ('name', 'Great Russian Encyclopedia Online ID')]\n",
      "[('p', 'http://www.wikidata.org/prop/direct/P3056'), ('name', 'TCM Movie Database person ID')]\n",
      "[('p', 'http://www.wikidata.org/prop/direct/P3065'), ('name', 'RERO ID')]\n",
      "[('p', 'http://www.wikidata.org/prop/direct/P3219'), ('name', 'Encyclopædia Universalis ID')]\n",
      "[('p', 'http://www.wikidata.org/prop/direct/P3221'), ('name', 'New York Times topic ID')]\n",
      "[('p', 'http://www.wikidata.org/prop/direct/P3222'), ('name', 'NE.se ID')]\n",
      "[('p', 'http://www.wikidata.org/prop/direct/P3348'), ('name', 'National Library of Greece ID')]\n",
      "[('p', 'http://www.wikidata.org/prop/direct/P3417'), ('name', 'Quora topic ID')]\n",
      "[('p', 'http://www.wikidata.org/prop/direct/P3430'), ('name', 'SNAC ARK ID')]\n",
      "[('p', 'http://www.wikidata.org/prop/direct/P345'), ('name', 'IMDb ID')]\n",
      "[('p', 'http://www.wikidata.org/prop/direct/P3478'), ('name', 'Songkick artist ID')]\n",
      "[('p', 'http://www.wikidata.org/prop/direct/P349'), ('name', 'National Diet Library ID')]\n",
      "[('p', 'http://www.wikidata.org/prop/direct/P3527'), ('name', 'Eurobasket.com player ID')]\n",
      "[('p', 'http://www.wikidata.org/prop/direct/P3542'), ('name', 'FIBA player ID')]\n",
      "[('p', 'http://www.wikidata.org/prop/direct/P3630'), ('name', 'Babelio author ID')]\n",
      "[('p', 'http://www.wikidata.org/prop/direct/P3696'), ('name', 'Sports-Reference.com college basketball player ID')]\n",
      "[('p', 'http://www.wikidata.org/prop/direct/P3845'), ('name', 'TV Guide person ID (former scheme)')]\n",
      "[('p', 'http://www.wikidata.org/prop/direct/P3957'), ('name', 'RealGM basketball player ID')]\n",
      "[('p', 'http://www.wikidata.org/prop/direct/P4332'), ('name', 'Deutsche Synchronkartei actor ID')]\n",
      "[('p', 'http://www.wikidata.org/prop/direct/P434'), ('name', 'MusicBrainz artist ID')]\n",
      "[('p', 'http://www.wikidata.org/prop/direct/P4342'), ('name', 'Store norske leksikon ID')]\n",
      "[('p', 'http://www.wikidata.org/prop/direct/P4438'), ('name', 'BFI Films, TV and people ID')]\n",
      "[('p', 'http://www.wikidata.org/prop/direct/P4515'), ('name', 'Prisma ID')]\n",
      "[('p', 'http://www.wikidata.org/prop/direct/P4619'), ('name', 'National Library of Brazil ID')]\n",
      "[('p', 'http://www.wikidata.org/prop/direct/P4666'), ('name', 'CineMagia person ID')]\n",
      "[('p', 'http://www.wikidata.org/prop/direct/P4790'), ('name', 'Basketball-Reference.com international player ID')]\n",
      "[('p', 'http://www.wikidata.org/prop/direct/P4985'), ('name', 'TMDb person ID')]\n",
      "[('p', 'http://www.wikidata.org/prop/direct/P5019'), ('name', 'Brockhaus Enzyklopädie online ID')]\n",
      "[('p', 'http://www.wikidata.org/prop/direct/P5033'), ('name', 'Filmweb.pl person ID')]\n",
      "[('p', 'http://www.wikidata.org/prop/direct/P5361'), ('name', 'BNB person ID')]\n",
      "[('p', 'http://www.wikidata.org/prop/direct/P5421'), ('name', 'Trading Card Database person ID')]\n",
      "[('p', 'http://www.wikidata.org/prop/direct/P5534'), ('name', 'Open Media Database person ID')]\n",
      "[('p', 'http://www.wikidata.org/prop/direct/P5617'), ('name', 'Evene ID')]\n",
      "[('p', 'http://www.wikidata.org/prop/direct/P5905'), ('name', 'Comic Vine ID')]\n",
      "[('p', 'http://www.wikidata.org/prop/direct/P6298'), ('name', 'bgm.tv person ID')]\n",
      "[('p', 'http://www.wikidata.org/prop/direct/P646'), ('name', 'Freebase ID')]\n",
      "[('p', 'http://www.wikidata.org/prop/direct/P648'), ('name', 'Open Library ID')]\n",
      "[('p', 'http://www.wikidata.org/prop/direct/P6723'), ('name', 'BlackPast.org ID')]\n",
      "[('p', 'http://www.wikidata.org/prop/direct/P691'), ('name', 'NKCR AUT ID')]\n",
      "[('p', 'http://www.wikidata.org/prop/direct/P7293'), ('name', 'PLWABN ID')]\n",
      "[('p', 'http://www.wikidata.org/prop/direct/P7369'), ('name', 'National Library of Chile ID')]\n",
      "[('p', 'http://www.wikidata.org/prop/direct/P7818'), ('name', 'French Vikidia ID')]\n",
      "[('p', 'http://www.wikidata.org/prop/direct/P7859'), ('name', 'WorldCat Identities ID')]\n",
      "[('p', 'http://www.wikidata.org/prop/direct/P8179'), ('name', 'Canadiana NCF ID')]\n",
      "[('p', 'http://www.wikidata.org/prop/direct/P8189'), ('name', 'National Library of Israel J9U ID')]\n",
      "[('p', 'http://www.wikidata.org/prop/direct/P8286'), ('name', 'Olympedia people ID')]\n",
      "[('p', 'http://www.wikidata.org/prop/direct/P8548'), ('name', 'Proballers ID')]\n",
      "[('p', 'http://www.wikidata.org/prop/direct/P8796'), ('name', 'FilmPolski press collection ID')]\n",
      "[('p', 'http://www.wikidata.org/prop/direct/P9404'), ('name', 'OFDb person ID')]\n",
      "[('p', 'http://www.wikidata.org/prop/direct/P947'), ('name', 'RSL ID (person)')]\n",
      "[('p', 'http://www.wikidata.org/prop/direct/P949'), ('name', 'National Library of Israel ID')]\n",
      "[('p', 'http://www.wikidata.org/prop/direct/P950'), ('name', 'Biblioteca Nacional de España ID')]\n",
      "[('p', 'http://www.wikidata.org/prop/direct/P9743'), ('name', 'Podchaser creator ID')]\n",
      "[('p', 'http://www.wikidata.org/prop/direct/P1826'), ('name', 'Baseball-Reference.com minor & foreign league player ID')]\n",
      "[('p', 'http://www.wikidata.org/prop/direct/P2685'), ('name', 'Basketball Reference NBA player ID')]\n",
      "[('p', 'http://www.wikidata.org/prop/direct/P3646'), ('name', 'Naismith Memorial Basketball Hall of Fame ID')]\n",
      "[('p', 'http://www.wikidata.org/prop/direct/P3647'), ('name', 'NBA.com player ID')]\n",
      "[('p', 'http://www.wikidata.org/prop/direct/P6865'), ('name', 'eurobasket.com coach ID')]\n",
      "93\n"
     ]
    }
   ],
   "source": [
    "queryString = \"\"\"\n",
    "SELECT DISTINCT ?p ?name\n",
    "WHERE {   \n",
    "   wd:Q41421 ?p ?obj .   \n",
    "   ?p sc:name ?name .   \n",
    "   FILTER CONTAINS(?name, \"ID\") .   \n",
    "}\n",
    "LIMIT 100\n",
    "\"\"\"\n",
    "\n",
    "print(\"Results\")\n",
    "x=run_query(queryString)"
   ]
  },
  {
   "cell_type": "markdown",
   "id": "d1243862-13f0-45ca-87be-176f915d90f3",
   "metadata": {
    "tags": []
   },
   "source": [
    "### Get the fist 25 \"profession\" (wdt:P106) of the instance \"Micheal Jordan\" (wd:Q41421)"
   ]
  },
  {
   "cell_type": "code",
   "execution_count": 265,
   "id": "22ef773d-d58a-4f41-95ee-fca97d342f0c",
   "metadata": {},
   "outputs": [
    {
     "name": "stdout",
     "output_type": "stream",
     "text": [
      "Results\n",
      "[('profession', 'http://www.wikidata.org/entity/Q131524'), ('professionName', 'entrepreneur')]\n",
      "[('profession', 'http://www.wikidata.org/entity/Q18814623'), ('professionName', 'autobiographer')]\n",
      "[('profession', 'http://www.wikidata.org/entity/Q33999'), ('professionName', 'actor')]\n",
      "[('profession', 'http://www.wikidata.org/entity/Q3665646'), ('professionName', 'basketball player')]\n",
      "[('profession', 'http://www.wikidata.org/entity/Q10871364'), ('professionName', 'baseball player')]\n",
      "[('profession', 'http://www.wikidata.org/entity/Q17221'), ('professionName', 'spokesperson')]\n",
      "6\n"
     ]
    }
   ],
   "source": [
    "queryString = \"\"\"\n",
    "SELECT DISTINCT ?profession ?professionName\n",
    "WHERE {   \n",
    "   wd:Q41421 wdt:P106 ?profession .\n",
    "   ?profession sc:name ?professionName .   \n",
    "}\n",
    "LIMIT 25\n",
    "\"\"\"\n",
    "\n",
    "print(\"Results\")\n",
    "x=run_query(queryString)"
   ]
  },
  {
   "cell_type": "markdown",
   "id": "6734cad3-145f-44ae-b923-98474325cf94",
   "metadata": {
    "tags": []
   },
   "source": [
    "### Get all data property of \"Micheal Jordan\" (wd:Q41421)"
   ]
  },
  {
   "cell_type": "code",
   "execution_count": 73,
   "id": "f259fbe2-9619-47e3-9b99-bd5127cf00e3",
   "metadata": {},
   "outputs": [
    {
     "name": "stdout",
     "output_type": "stream",
     "text": [
      "Results\n",
      "[('property', 'http://www.wikidata.org/prop/direct/P1006'), ('label', 'Nationale Thesaurus voor Auteurs ID')]\n",
      "[('property', 'http://www.wikidata.org/prop/direct/P1015'), ('label', 'NORAF ID')]\n",
      "[('property', 'http://www.wikidata.org/prop/direct/P1048'), ('label', 'NCL ID')]\n",
      "[('property', 'http://www.wikidata.org/prop/direct/P1207'), ('label', 'NUKAT ID')]\n",
      "[('property', 'http://www.wikidata.org/prop/direct/P1258'), ('label', 'Rotten Tomatoes ID')]\n",
      "[('property', 'http://www.wikidata.org/prop/direct/P1263'), ('label', 'NNDB people ID')]\n",
      "[('property', 'http://www.wikidata.org/prop/direct/P1266'), ('label', 'AlloCiné person ID')]\n",
      "[('property', 'http://www.wikidata.org/prop/direct/P1280'), ('label', 'CONOR.SI ID')]\n",
      "[('property', 'http://www.wikidata.org/prop/direct/P1285'), ('label', 'Munzinger Sport number')]\n",
      "[('property', 'http://www.wikidata.org/prop/direct/P1296'), ('label', 'Gran Enciclopèdia Catalana ID')]\n",
      "[('property', 'http://www.wikidata.org/prop/direct/P1315'), ('label', 'NLA Trove ID')]\n",
      "[('property', 'http://www.wikidata.org/prop/direct/P1368'), ('label', 'LNB ID')]\n",
      "[('property', 'http://www.wikidata.org/prop/direct/P1375'), ('label', 'NSK ID')]\n",
      "[('property', 'http://www.wikidata.org/prop/direct/P1417'), ('label', 'Encyclopædia Britannica Online ID')]\n",
      "[('property', 'http://www.wikidata.org/prop/direct/P1447'), ('label', 'Sports-Reference.com Olympic athlete ID')]\n",
      "[('property', 'http://www.wikidata.org/prop/direct/P1449'), ('label', 'nickname')]\n",
      "[('property', 'http://www.wikidata.org/prop/direct/P1477'), ('label', 'birth name')]\n",
      "[('property', 'http://www.wikidata.org/prop/direct/P1559'), ('label', 'name in native language')]\n",
      "[('property', 'http://www.wikidata.org/prop/direct/P1618'), ('label', 'sport number')]\n",
      "[('property', 'http://www.wikidata.org/prop/direct/P1670'), ('label', 'Canadiana Authorities ID (former scheme)')]\n",
      "[('property', 'http://www.wikidata.org/prop/direct/P1695'), ('label', 'NLP ID (unique)')]\n",
      "[('property', 'http://www.wikidata.org/prop/direct/P1712'), ('label', 'Metacritic ID')]\n",
      "[('property', 'http://www.wikidata.org/prop/direct/P1741'), ('label', 'GTAA ID')]\n",
      "[('property', 'http://www.wikidata.org/prop/direct/P1890'), ('label', 'CCAB ID')]\n",
      "[('property', 'http://www.wikidata.org/prop/direct/P1953'), ('label', 'Discogs artist ID')]\n",
      "[('property', 'http://www.wikidata.org/prop/direct/P2013'), ('label', 'Facebook ID')]\n",
      "[('property', 'http://www.wikidata.org/prop/direct/P2019'), ('label', 'AllMovie person ID')]\n",
      "[('property', 'http://www.wikidata.org/prop/direct/P2031'), ('label', 'work period (start)')]\n",
      "[('property', 'http://www.wikidata.org/prop/direct/P2032'), ('label', 'work period (end)')]\n",
      "[('property', 'http://www.wikidata.org/prop/direct/P2048'), ('label', 'height')]\n",
      "[('property', 'http://www.wikidata.org/prop/direct/P2067'), ('label', 'mass')]\n",
      "[('property', 'http://www.wikidata.org/prop/direct/P213'), ('label', 'ISNI')]\n",
      "[('property', 'http://www.wikidata.org/prop/direct/P214'), ('label', 'VIAF ID')]\n",
      "[('property', 'http://www.wikidata.org/prop/direct/P2163'), ('label', 'FAST ID')]\n",
      "[('property', 'http://www.wikidata.org/prop/direct/P227'), ('label', 'GND ID')]\n",
      "[('property', 'http://www.wikidata.org/prop/direct/P2435'), ('label', 'PORT person ID')]\n",
      "[('property', 'http://www.wikidata.org/prop/direct/P244'), ('label', 'Library of Congress authority ID')]\n",
      "[('property', 'http://www.wikidata.org/prop/direct/P2561'), ('label', 'name')]\n",
      "[('property', 'http://www.wikidata.org/prop/direct/P2600'), ('label', 'Geni.com profile ID')]\n",
      "[('property', 'http://www.wikidata.org/prop/direct/P2604'), ('label', 'Kinopoisk person ID')]\n",
      "[('property', 'http://www.wikidata.org/prop/direct/P2605'), ('label', 'ČSFD person ID')]\n",
      "[('property', 'http://www.wikidata.org/prop/direct/P2626'), ('label', 'Danish National Filmography person ID')]\n",
      "[('property', 'http://www.wikidata.org/prop/direct/P2638'), ('label', 'TV.com ID')]\n",
      "[('property', 'http://www.wikidata.org/prop/direct/P268'), ('label', 'Bibliothèque nationale de France ID')]\n",
      "[('property', 'http://www.wikidata.org/prop/direct/P269'), ('label', 'IdRef ID')]\n",
      "[('property', 'http://www.wikidata.org/prop/direct/P271'), ('label', 'CiNii author ID (books)')]\n",
      "[('property', 'http://www.wikidata.org/prop/direct/P2924'), ('label', 'Great Russian Encyclopedia Online ID')]\n",
      "[('property', 'http://www.wikidata.org/prop/direct/P3056'), ('label', 'TCM Movie Database person ID')]\n",
      "[('property', 'http://www.wikidata.org/prop/direct/P3065'), ('label', 'RERO ID')]\n",
      "[('property', 'http://www.wikidata.org/prop/direct/P3219'), ('label', 'Encyclopædia Universalis ID')]\n",
      "[('property', 'http://www.wikidata.org/prop/direct/P3221'), ('label', 'New York Times topic ID')]\n",
      "[('property', 'http://www.wikidata.org/prop/direct/P3222'), ('label', 'NE.se ID')]\n",
      "[('property', 'http://www.wikidata.org/prop/direct/P3348'), ('label', 'National Library of Greece ID')]\n",
      "[('property', 'http://www.wikidata.org/prop/direct/P3417'), ('label', 'Quora topic ID')]\n",
      "[('property', 'http://www.wikidata.org/prop/direct/P3430'), ('label', 'SNAC ARK ID')]\n",
      "[('property', 'http://www.wikidata.org/prop/direct/P345'), ('label', 'IMDb ID')]\n",
      "[('property', 'http://www.wikidata.org/prop/direct/P3478'), ('label', 'Songkick artist ID')]\n",
      "[('property', 'http://www.wikidata.org/prop/direct/P349'), ('label', 'National Diet Library ID')]\n",
      "[('property', 'http://www.wikidata.org/prop/direct/P3527'), ('label', 'Eurobasket.com player ID')]\n",
      "[('property', 'http://www.wikidata.org/prop/direct/P3542'), ('label', 'FIBA player ID')]\n",
      "[('property', 'http://www.wikidata.org/prop/direct/P3630'), ('label', 'Babelio author ID')]\n",
      "[('property', 'http://www.wikidata.org/prop/direct/P3696'), ('label', 'Sports-Reference.com college basketball player ID')]\n",
      "[('property', 'http://www.wikidata.org/prop/direct/P373'), ('label', 'Commons category')]\n",
      "[('property', 'http://www.wikidata.org/prop/direct/P3845'), ('label', 'TV Guide person ID (former scheme)')]\n",
      "[('property', 'http://www.wikidata.org/prop/direct/P3957'), ('label', 'RealGM basketball player ID')]\n",
      "[('property', 'http://www.wikidata.org/prop/direct/P4332'), ('label', 'Deutsche Synchronkartei actor ID')]\n",
      "[('property', 'http://www.wikidata.org/prop/direct/P434'), ('label', 'MusicBrainz artist ID')]\n",
      "[('property', 'http://www.wikidata.org/prop/direct/P4342'), ('label', 'Store norske leksikon ID')]\n",
      "[('property', 'http://www.wikidata.org/prop/direct/P4438'), ('label', 'BFI Films, TV and people ID')]\n",
      "[('property', 'http://www.wikidata.org/prop/direct/P4515'), ('label', 'Prisma ID')]\n",
      "[('property', 'http://www.wikidata.org/prop/direct/P4619'), ('label', 'National Library of Brazil ID')]\n",
      "[('property', 'http://www.wikidata.org/prop/direct/P4666'), ('label', 'CineMagia person ID')]\n",
      "[('property', 'http://www.wikidata.org/prop/direct/P4790'), ('label', 'Basketball-Reference.com international player ID')]\n",
      "[('property', 'http://www.wikidata.org/prop/direct/P4985'), ('label', 'TMDb person ID')]\n",
      "[('property', 'http://www.wikidata.org/prop/direct/P5019'), ('label', 'Brockhaus Enzyklopädie online ID')]\n",
      "[('property', 'http://www.wikidata.org/prop/direct/P5033'), ('label', 'Filmweb.pl person ID')]\n",
      "[('property', 'http://www.wikidata.org/prop/direct/P5361'), ('label', 'BNB person ID')]\n",
      "[('property', 'http://www.wikidata.org/prop/direct/P5421'), ('label', 'Trading Card Database person ID')]\n",
      "[('property', 'http://www.wikidata.org/prop/direct/P5534'), ('label', 'Open Media Database person ID')]\n",
      "[('property', 'http://www.wikidata.org/prop/direct/P5617'), ('label', 'Evene ID')]\n",
      "[('property', 'http://www.wikidata.org/prop/direct/P569'), ('label', 'date of birth')]\n",
      "[('property', 'http://www.wikidata.org/prop/direct/P5905'), ('label', 'Comic Vine ID')]\n",
      "[('property', 'http://www.wikidata.org/prop/direct/P6298'), ('label', 'bgm.tv person ID')]\n",
      "[('property', 'http://www.wikidata.org/prop/direct/P646'), ('label', 'Freebase ID')]\n",
      "[('property', 'http://www.wikidata.org/prop/direct/P648'), ('label', 'Open Library ID')]\n",
      "[('property', 'http://www.wikidata.org/prop/direct/P6723'), ('label', 'BlackPast.org ID')]\n",
      "[('property', 'http://www.wikidata.org/prop/direct/P691'), ('label', 'NKCR AUT ID')]\n",
      "[('property', 'http://www.wikidata.org/prop/direct/P7293'), ('label', 'PLWABN ID')]\n",
      "[('property', 'http://www.wikidata.org/prop/direct/P7369'), ('label', 'National Library of Chile ID')]\n",
      "[('property', 'http://www.wikidata.org/prop/direct/P7818'), ('label', 'French Vikidia ID')]\n",
      "[('property', 'http://www.wikidata.org/prop/direct/P7859'), ('label', 'WorldCat Identities ID')]\n",
      "[('property', 'http://www.wikidata.org/prop/direct/P8179'), ('label', 'Canadiana NCF ID')]\n",
      "[('property', 'http://www.wikidata.org/prop/direct/P8189'), ('label', 'National Library of Israel J9U ID')]\n",
      "[('property', 'http://www.wikidata.org/prop/direct/P8286'), ('label', 'Olympedia people ID')]\n",
      "[('property', 'http://www.wikidata.org/prop/direct/P8548'), ('label', 'Proballers ID')]\n",
      "[('property', 'http://www.wikidata.org/prop/direct/P8796'), ('label', 'FilmPolski press collection ID')]\n",
      "[('property', 'http://www.wikidata.org/prop/direct/P9404'), ('label', 'OFDb person ID')]\n",
      "[('property', 'http://www.wikidata.org/prop/direct/P947'), ('label', 'RSL ID (person)')]\n",
      "[('property', 'http://www.wikidata.org/prop/direct/P949'), ('label', 'National Library of Israel ID')]\n",
      "[('property', 'http://www.wikidata.org/prop/direct/P950'), ('label', 'Biblioteca Nacional de España ID')]\n",
      "[('property', 'http://www.wikidata.org/prop/direct/P9743'), ('label', 'Podchaser creator ID')]\n",
      "[('property', 'http://www.wikidata.org/prop/direct/P1826'), ('label', 'Baseball-Reference.com minor & foreign league player ID')]\n",
      "[('property', 'http://www.wikidata.org/prop/direct/P2685'), ('label', 'Basketball Reference NBA player ID')]\n",
      "[('property', 'http://www.wikidata.org/prop/direct/P3646'), ('label', 'Naismith Memorial Basketball Hall of Fame ID')]\n",
      "[('property', 'http://www.wikidata.org/prop/direct/P3647'), ('label', 'NBA.com player ID')]\n",
      "[('property', 'http://www.wikidata.org/prop/direct/P6865'), ('label', 'eurobasket.com coach ID')]\n",
      "106\n"
     ]
    }
   ],
   "source": [
    "queryString = \"\"\"\n",
    "SELECT DISTINCT ?property ?label\n",
    "WHERE {   \n",
    "   wd:Q41421 ?property ?object .\n",
    "   ?property sc:name ?label .\n",
    "   FILTER(isLiteral(?object)) .   \n",
    "}\n",
    "\"\"\"\n",
    "print(\"Results\")\n",
    "x=run_query(queryString)"
   ]
  },
  {
   "cell_type": "markdown",
   "id": "49a4ba01-bfc1-430d-87a3-19427be898cf",
   "metadata": {
    "tags": []
   },
   "source": [
    "### Get all data property of \"Micheal Jordan\"  (wd:Q41421) that do not contain ID"
   ]
  },
  {
   "cell_type": "code",
   "execution_count": 74,
   "id": "f0bd7216-d3fe-4dc2-99cc-cd037328e5a3",
   "metadata": {},
   "outputs": [
    {
     "name": "stdout",
     "output_type": "stream",
     "text": [
      "Results\n",
      "[('property', 'http://www.wikidata.org/prop/direct/P1285'), ('label', 'Munzinger Sport number')]\n",
      "[('property', 'http://www.wikidata.org/prop/direct/P1449'), ('label', 'nickname')]\n",
      "[('property', 'http://www.wikidata.org/prop/direct/P1477'), ('label', 'birth name')]\n",
      "[('property', 'http://www.wikidata.org/prop/direct/P1559'), ('label', 'name in native language')]\n",
      "[('property', 'http://www.wikidata.org/prop/direct/P1618'), ('label', 'sport number')]\n",
      "[('property', 'http://www.wikidata.org/prop/direct/P2031'), ('label', 'work period (start)')]\n",
      "[('property', 'http://www.wikidata.org/prop/direct/P2032'), ('label', 'work period (end)')]\n",
      "[('property', 'http://www.wikidata.org/prop/direct/P2048'), ('label', 'height')]\n",
      "[('property', 'http://www.wikidata.org/prop/direct/P2067'), ('label', 'mass')]\n",
      "[('property', 'http://www.wikidata.org/prop/direct/P213'), ('label', 'ISNI')]\n",
      "[('property', 'http://www.wikidata.org/prop/direct/P2561'), ('label', 'name')]\n",
      "[('property', 'http://www.wikidata.org/prop/direct/P373'), ('label', 'Commons category')]\n",
      "[('property', 'http://www.wikidata.org/prop/direct/P569'), ('label', 'date of birth')]\n",
      "13\n"
     ]
    }
   ],
   "source": [
    "queryString = \"\"\"\n",
    "SELECT DISTINCT ?property ?label\n",
    "WHERE {   \n",
    "   wd:Q41421 ?property ?object .\n",
    "   ?property sc:name ?label .\n",
    "   FILTER(isLiteral(?object)) .\n",
    "   FILTER REGEX(?label, \"^((?!ID).)*$\") . \n",
    "}\n",
    "\"\"\"\n",
    "print(\"Results\")\n",
    "x=run_query(queryString)"
   ]
  },
  {
   "cell_type": "markdown",
   "id": "408d4eca-5899-4561-a266-5509ed430bd8",
   "metadata": {
    "tags": []
   },
   "source": [
    "### Get the class of \"Micheal Jordan\" (wd:Q41421)"
   ]
  },
  {
   "cell_type": "code",
   "execution_count": 76,
   "id": "0a75b05d-7147-4103-99ef-1a0d8107e821",
   "metadata": {},
   "outputs": [
    {
     "name": "stdout",
     "output_type": "stream",
     "text": [
      "Results\n",
      "[('class', 'http://www.wikidata.org/entity/Q5'), ('label', 'human')]\n",
      "1\n"
     ]
    }
   ],
   "source": [
    "queryString = \"\"\"\n",
    "SELECT DISTINCT ?class ?label\n",
    "WHERE {   \n",
    "   wd:Q41421 wdt:P31 ?class .\n",
    "   ?class sc:name ?label .     \n",
    "}\n",
    "\"\"\"\n",
    "print(\"Results\")\n",
    "x=run_query(queryString)"
   ]
  },
  {
   "cell_type": "markdown",
   "id": "5e7019a6-17e4-4f45-a0dc-3dfdecaa30c9",
   "metadata": {
    "tags": []
   },
   "source": [
    "### Get all object properties of \"Micheal Jordan\"  (wd:Q41421)"
   ]
  },
  {
   "cell_type": "code",
   "execution_count": 78,
   "id": "91002df9-a96b-4ba1-bbf0-cdc6ed8d9e8d",
   "metadata": {},
   "outputs": [
    {
     "name": "stdout",
     "output_type": "stream",
     "text": [
      "Results\n",
      "[('property', 'http://www.wikidata.org/prop/direct/P106'), ('label', 'occupation')]\n",
      "[('property', 'http://www.wikidata.org/prop/direct/P118'), ('label', 'league')]\n",
      "[('property', 'http://www.wikidata.org/prop/direct/P1343'), ('label', 'described by source')]\n",
      "[('property', 'http://www.wikidata.org/prop/direct/P1344'), ('label', 'participant in')]\n",
      "[('property', 'http://www.wikidata.org/prop/direct/P1411'), ('label', 'nominated for')]\n",
      "[('property', 'http://www.wikidata.org/prop/direct/P1412'), ('label', 'languages spoken, written or signed')]\n",
      "[('property', 'http://www.wikidata.org/prop/direct/P1532'), ('label', 'country for sport')]\n",
      "[('property', 'http://www.wikidata.org/prop/direct/P166'), ('label', 'award received')]\n",
      "[('property', 'http://www.wikidata.org/prop/direct/P172'), ('label', 'ethnic group')]\n",
      "[('property', 'http://www.wikidata.org/prop/direct/P18'), ('label', 'image')]\n",
      "[('property', 'http://www.wikidata.org/prop/direct/P1830'), ('label', 'owner of')]\n",
      "[('property', 'http://www.wikidata.org/prop/direct/P1889'), ('label', 'different from')]\n",
      "[('property', 'http://www.wikidata.org/prop/direct/P19'), ('label', 'place of birth')]\n",
      "[('property', 'http://www.wikidata.org/prop/direct/P21'), ('label', 'sex or gender')]\n",
      "[('property', 'http://www.wikidata.org/prop/direct/P22'), ('label', 'father')]\n",
      "[('property', 'http://www.wikidata.org/prop/direct/P2283'), ('label', 'uses')]\n",
      "[('property', 'http://www.wikidata.org/prop/direct/P25'), ('label', 'mother')]\n",
      "[('property', 'http://www.wikidata.org/prop/direct/P26'), ('label', 'spouse')]\n",
      "[('property', 'http://www.wikidata.org/prop/direct/P27'), ('label', 'country of citizenship')]\n",
      "[('property', 'http://www.wikidata.org/prop/direct/P286'), ('label', 'head coach')]\n",
      "[('property', 'http://www.wikidata.org/prop/direct/P31'), ('label', 'instance of')]\n",
      "[('property', 'http://www.wikidata.org/prop/direct/P3373'), ('label', 'sibling')]\n",
      "[('property', 'http://www.wikidata.org/prop/direct/P361'), ('label', 'part of')]\n",
      "[('property', 'http://www.wikidata.org/prop/direct/P40'), ('label', 'child')]\n",
      "[('property', 'http://www.wikidata.org/prop/direct/P413'), ('label', 'position played on team / speciality')]\n",
      "[('property', 'http://www.wikidata.org/prop/direct/P5008'), ('label', 'on focus list of Wikimedia project')]\n",
      "[('property', 'http://www.wikidata.org/prop/direct/P54'), ('label', 'member of sports team')]\n",
      "[('property', 'http://www.wikidata.org/prop/direct/P551'), ('label', 'residence')]\n",
      "[('property', 'http://www.wikidata.org/prop/direct/P552'), ('label', 'handedness')]\n",
      "[('property', 'http://www.wikidata.org/prop/direct/P641'), ('label', 'sport')]\n",
      "[('property', 'http://www.wikidata.org/prop/direct/P69'), ('label', 'educated at')]\n",
      "[('property', 'http://www.wikidata.org/prop/direct/P734'), ('label', 'family name')]\n",
      "[('property', 'http://www.wikidata.org/prop/direct/P735'), ('label', 'given name')]\n",
      "[('property', 'http://www.wikidata.org/prop/direct/P737'), ('label', 'influenced by')]\n",
      "[('property', 'http://www.wikidata.org/prop/direct/P8852'), ('label', 'facial hair')]\n",
      "[('property', 'http://www.wikidata.org/prop/direct/P910'), ('label', \"topic's main category\")]\n",
      "[('property', 'http://www.wikidata.org/prop/direct/P989'), ('label', 'spoken text audio')]\n",
      "[('property', 'http://www.wikidata.org/prop/direct/P3828'), ('label', 'wears')]\n",
      "[('property', 'http://www.wikidata.org/prop/direct/P647'), ('label', 'drafted by')]\n",
      "39\n"
     ]
    }
   ],
   "source": [
    "queryString = \"\"\"\n",
    "SELECT DISTINCT ?property ?label\n",
    "WHERE {   \n",
    "   wd:Q41421 ?property ?object .\n",
    "   ?property sc:name ?label .\n",
    "   FILTER(!isLiteral(?object)) .   \n",
    "}\n",
    "\"\"\"\n",
    "\n",
    "print(\"Results\")\n",
    "x=run_query(queryString)"
   ]
  },
  {
   "cell_type": "markdown",
   "id": "748b9d88-a354-46e5-98bd-10938c066a54",
   "metadata": {
    "tags": []
   },
   "source": [
    "### Get all the classes connected to \"Micheal Jordan\"  (wd:Q41421)"
   ]
  },
  {
   "cell_type": "code",
   "execution_count": 79,
   "id": "0ab2e475-353e-4ecb-b7fc-4425f7d1d442",
   "metadata": {},
   "outputs": [
    {
     "name": "stdout",
     "output_type": "stream",
     "text": [
      "Results\n",
      "[('objectClass', 'http://www.wikidata.org/entity/Q1489259'), ('label', 'superpower')]\n",
      "[('objectClass', 'http://www.wikidata.org/entity/Q1046088'), ('label', 'hall of fame')]\n",
      "[('objectClass', 'http://www.wikidata.org/entity/Q16695773'), ('label', 'WikiProject')]\n",
      "[('objectClass', 'http://www.wikidata.org/entity/Q337330'), ('label', 'Sportsperson of the Year')]\n",
      "[('objectClass', 'http://www.wikidata.org/entity/Q20971972'), ('label', 'Original Public Ivy')]\n",
      "[('objectClass', 'http://www.wikidata.org/entity/Q23002039'), ('label', 'public educational institution of the United States')]\n",
      "[('objectClass', 'http://www.wikidata.org/entity/Q186165'), ('label', 'web portal')]\n",
      "[('objectClass', 'http://www.wikidata.org/entity/Q618779'), ('label', 'award')]\n",
      "[('objectClass', 'http://www.wikidata.org/entity/Q161928'), ('label', 'footwear')]\n",
      "[('objectClass', 'http://www.wikidata.org/entity/Q99541706'), ('label', 'historical unrecognized state')]\n",
      "[('objectClass', 'http://www.wikidata.org/entity/Q18536323'), ('label', 'basketball league')]\n",
      "[('objectClass', 'http://www.wikidata.org/entity/Q48264'), ('label', 'gender identity')]\n",
      "[('objectClass', 'http://www.wikidata.org/entity/Q15986354'), ('label', 'basketball association')]\n",
      "[('objectClass', 'http://www.wikidata.org/entity/Q841654'), ('label', 'competition')]\n",
      "[('objectClass', 'http://www.wikidata.org/entity/Q28790362'), ('label', 'ethnic community')]\n",
      "[('objectClass', 'http://www.wikidata.org/entity/Q1093829'), ('label', 'city of the United States')]\n",
      "[('objectClass', 'http://www.wikidata.org/entity/Q12737077'), ('label', 'occupation')]\n",
      "[('objectClass', 'http://www.wikidata.org/entity/Q1288568'), ('label', 'modern language')]\n",
      "[('objectClass', 'http://www.wikidata.org/entity/Q13406463'), ('label', 'Wikimedia list article')]\n",
      "[('objectClass', 'http://www.wikidata.org/entity/Q1520223'), ('label', 'constitutional republic')]\n",
      "[('objectClass', 'http://www.wikidata.org/entity/Q159821'), ('label', 'Summer Olympic Games')]\n",
      "[('objectClass', 'http://www.wikidata.org/entity/Q15991290'), ('label', 'professional sports league')]\n",
      "[('objectClass', 'http://www.wikidata.org/entity/Q212434'), ('label', 'Olympic sport')]\n",
      "[('objectClass', 'http://www.wikidata.org/entity/Q27020041'), ('label', 'sports season')]\n",
      "[('objectClass', 'http://www.wikidata.org/entity/Q28640'), ('label', 'profession')]\n",
      "[('objectClass', 'http://www.wikidata.org/entity/Q31629'), ('label', 'type of sport')]\n",
      "[('objectClass', 'http://www.wikidata.org/entity/Q33742'), ('label', 'natural language')]\n",
      "[('objectClass', 'http://www.wikidata.org/entity/Q34770'), ('label', 'language')]\n",
      "[('objectClass', 'http://www.wikidata.org/entity/Q3624078'), ('label', 'sovereign state')]\n",
      "[('objectClass', 'http://www.wikidata.org/entity/Q4164871'), ('label', 'position')]\n",
      "[('objectClass', 'http://www.wikidata.org/entity/Q4167836'), ('label', 'Wikimedia category')]\n",
      "[('objectClass', 'http://www.wikidata.org/entity/Q41710'), ('label', 'ethnic group')]\n",
      "[('objectClass', 'http://www.wikidata.org/entity/Q431289'), ('label', 'brand')]\n",
      "[('objectClass', 'http://www.wikidata.org/entity/Q5'), ('label', 'human')]\n",
      "[('objectClass', 'http://www.wikidata.org/entity/Q512187'), ('label', 'federal republic')]\n",
      "[('objectClass', 'http://www.wikidata.org/entity/Q5255892'), ('label', 'democratic republic')]\n",
      "[('objectClass', 'http://www.wikidata.org/entity/Q55983715'), ('label', 'organisms known by a particular common name')]\n",
      "[('objectClass', 'http://www.wikidata.org/entity/Q6256'), ('label', 'country')]\n",
      "[('objectClass', 'http://www.wikidata.org/entity/Q7094076'), ('label', 'online database')]\n",
      "[('objectClass', 'http://www.wikidata.org/entity/Q12308941'), ('label', 'male given name')]\n",
      "[('objectClass', 'http://www.wikidata.org/entity/Q62078547'), ('label', 'public research university')]\n",
      "[('objectClass', 'http://www.wikidata.org/entity/Q9826'), ('label', 'high school')]\n",
      "[('objectClass', 'http://www.wikidata.org/entity/Q1151733'), ('label', 'baseball position')]\n",
      "[('objectClass', 'http://www.wikidata.org/entity/Q10927834'), ('label', 'laterality')]\n",
      "[('objectClass', 'http://www.wikidata.org/entity/Q101352'), ('label', 'family name')]\n",
      "[('objectClass', 'http://www.wikidata.org/entity/Q108300140'), ('label', 'occupation group according to ISCO')]\n",
      "[('objectClass', 'http://www.wikidata.org/entity/Q13393265'), ('label', 'basketball team')]\n",
      "[('objectClass', 'http://www.wikidata.org/entity/Q15229207'), ('label', 'sports award')]\n",
      "[('objectClass', 'http://www.wikidata.org/entity/Q623109'), ('label', 'sports league')]\n",
      "[('objectClass', 'http://www.wikidata.org/entity/Q652965'), ('label', 'most valuable player award')]\n",
      "[('objectClass', 'http://www.wikidata.org/entity/Q13027888'), ('label', 'baseball team')]\n",
      "[('objectClass', 'http://www.wikidata.org/entity/Q98775491'), ('label', 'family name named after given name')]\n",
      "[('objectClass', 'http://www.wikidata.org/entity/Q38033430'), ('label', 'class of award')]\n",
      "[('objectClass', 'http://www.wikidata.org/entity/Q18558301'), ('label', 'college sports team')]\n",
      "[('objectClass', 'http://www.wikidata.org/entity/Q900341'), ('label', 'Laureus World Sports Awards')]\n",
      "[('objectClass', 'http://www.wikidata.org/entity/Q4369513'), ('label', 'sex of humans')]\n",
      "[('objectClass', 'http://www.wikidata.org/entity/Q15623926'), ('label', 'Wikimedia set index article')]\n",
      "[('objectClass', 'http://www.wikidata.org/entity/Q3046190'), ('label', 'ESPY Award')]\n",
      "[('objectClass', 'http://www.wikidata.org/entity/Q12038942'), ('label', 'multimedia database')]\n",
      "[('objectClass', 'http://www.wikidata.org/entity/Q1148974'), ('label', 'basketball position')]\n",
      "[('objectClass', 'http://www.wikidata.org/entity/Q408804'), ('label', 'borough of New York City')]\n",
      "61\n"
     ]
    }
   ],
   "source": [
    "queryString = \"\"\"\n",
    "SELECT DISTINCT ?objectClass ?label\n",
    "WHERE {   \n",
    "   wd:Q41421 ?property ?object .\n",
    "   ?object wdt:P31 ?objectClass .\n",
    "   ?objectClass sc:name ?label .\n",
    "   FILTER(!isLiteral(?object)) .   \n",
    "}\n",
    "\"\"\"\n",
    "print(\"Results\")\n",
    "x=run_query(queryString)"
   ]
  },
  {
   "cell_type": "markdown",
   "id": "b1fe3baf-bccc-430a-ace0-ff93fc4f41a6",
   "metadata": {
    "tags": []
   },
   "source": [
    "### Get all the couples (object property - list of the classes of the objects that are connected to \"Micheal Jordan\"  (wd:Q41421) through that object property)"
   ]
  },
  {
   "cell_type": "code",
   "execution_count": 80,
   "id": "c1fef602-53cd-47b3-8525-b9b6676f9fad",
   "metadata": {},
   "outputs": [
    {
     "name": "stdout",
     "output_type": "stream",
     "text": [
      "Results\n",
      "[('property', 'http://www.wikidata.org/prop/direct/P735'), ('labelProperty', 'given name'), ('objectsClasses', 'http://www.wikidata.org/entity/Q12308941,http://www.wikidata.org/entity/Q12308941'), ('labelsObjectsClasses', 'male given name,male given name')]\n",
      "[('property', 'http://www.wikidata.org/prop/direct/P106'), ('labelProperty', 'occupation'), ('objectsClasses', 'http://www.wikidata.org/entity/Q12737077,http://www.wikidata.org/entity/Q12737077,http://www.wikidata.org/entity/Q28640,http://www.wikidata.org/entity/Q28640,http://www.wikidata.org/entity/Q28640,http://www.wikidata.org/entity/Q28640,http://www.wikidata.org/entity/Q28640,http://www.wikidata.org/entity/Q4164871,http://www.wikidata.org/entity/Q4164871,http://www.wikidata.org/entity/Q108300140'), ('labelsObjectsClasses', 'occupation,occupation,profession,profession,profession,profession,profession,position,position,occupation group according to ISCO')]\n",
      "[('property', 'http://www.wikidata.org/prop/direct/P1344'), ('labelProperty', 'participant in'), ('objectsClasses', 'http://www.wikidata.org/entity/Q159821,http://www.wikidata.org/entity/Q159821,http://www.wikidata.org/entity/Q27020041'), ('labelsObjectsClasses', 'Summer Olympic Games,Summer Olympic Games,sports season')]\n",
      "[('property', 'http://www.wikidata.org/prop/direct/P69'), ('labelProperty', 'educated at'), ('objectsClasses', 'http://www.wikidata.org/entity/Q20971972,http://www.wikidata.org/entity/Q23002039,http://www.wikidata.org/entity/Q62078547,http://www.wikidata.org/entity/Q9826'), ('labelsObjectsClasses', 'Original Public Ivy,public educational institution of the United States,public research university,high school')]\n",
      "[('property', 'http://www.wikidata.org/prop/direct/P1411'), ('labelProperty', 'nominated for'), ('objectsClasses', 'http://www.wikidata.org/entity/Q618779,http://www.wikidata.org/entity/Q15229207,http://www.wikidata.org/entity/Q38033430,http://www.wikidata.org/entity/Q38033430,http://www.wikidata.org/entity/Q900341,http://www.wikidata.org/entity/Q3046190,http://www.wikidata.org/entity/Q3046190'), ('labelsObjectsClasses', 'award,sports award,class of award,class of award,Laureus World Sports Awards,ESPY Award,ESPY Award')]\n",
      "[('property', 'http://www.wikidata.org/prop/direct/P552'), ('labelProperty', 'handedness'), ('objectsClasses', 'http://www.wikidata.org/entity/Q10927834'), ('labelsObjectsClasses', 'laterality')]\n",
      "[('property', 'http://www.wikidata.org/prop/direct/P21'), ('labelProperty', 'sex or gender'), ('objectsClasses', 'http://www.wikidata.org/entity/Q48264,http://www.wikidata.org/entity/Q4369513'), ('labelsObjectsClasses', 'gender identity,sex of humans')]\n",
      "[('property', 'http://www.wikidata.org/prop/direct/P647'), ('labelProperty', 'drafted by'), ('objectsClasses', 'http://www.wikidata.org/entity/Q13393265'), ('labelsObjectsClasses', 'basketball team')]\n",
      "[('property', 'http://www.wikidata.org/prop/direct/P5008'), ('labelProperty', 'on focus list of Wikimedia project'), ('objectsClasses', 'http://www.wikidata.org/entity/Q16695773'), ('labelsObjectsClasses', 'WikiProject')]\n",
      "[('property', 'http://www.wikidata.org/prop/direct/P172'), ('labelProperty', 'ethnic group'), ('objectsClasses', 'http://www.wikidata.org/entity/Q28790362,http://www.wikidata.org/entity/Q41710'), ('labelsObjectsClasses', 'ethnic community,ethnic group')]\n",
      "[('property', 'http://www.wikidata.org/prop/direct/P1412'), ('labelProperty', 'languages spoken, written or signed'), ('objectsClasses', 'http://www.wikidata.org/entity/Q1288568,http://www.wikidata.org/entity/Q33742,http://www.wikidata.org/entity/Q34770'), ('labelsObjectsClasses', 'modern language,natural language,language')]\n",
      "[('property', 'http://www.wikidata.org/prop/direct/P26'), ('labelProperty', 'spouse'), ('objectsClasses', 'http://www.wikidata.org/entity/Q5'), ('labelsObjectsClasses', 'human')]\n",
      "[('property', 'http://www.wikidata.org/prop/direct/P166'), ('labelProperty', 'award received'), ('objectsClasses', 'http://www.wikidata.org/entity/Q1046088,http://www.wikidata.org/entity/Q337330,http://www.wikidata.org/entity/Q337330,http://www.wikidata.org/entity/Q618779,http://www.wikidata.org/entity/Q618779,http://www.wikidata.org/entity/Q618779,http://www.wikidata.org/entity/Q618779,http://www.wikidata.org/entity/Q618779,http://www.wikidata.org/entity/Q618779,http://www.wikidata.org/entity/Q618779,http://www.wikidata.org/entity/Q618779,http://www.wikidata.org/entity/Q618779,http://www.wikidata.org/entity/Q841654,http://www.wikidata.org/entity/Q13406463,http://www.wikidata.org/entity/Q15229207,http://www.wikidata.org/entity/Q15229207,http://www.wikidata.org/entity/Q15229207,http://www.wikidata.org/entity/Q15229207,http://www.wikidata.org/entity/Q652965,http://www.wikidata.org/entity/Q652965,http://www.wikidata.org/entity/Q652965,http://www.wikidata.org/entity/Q38033430,http://www.wikidata.org/entity/Q38033430,http://www.wikidata.org/entity/Q38033430,http://www.wikidata.org/entity/Q38033430,http://www.wikidata.org/entity/Q38033430,http://www.wikidata.org/entity/Q15623926,http://www.wikidata.org/entity/Q3046190,http://www.wikidata.org/entity/Q3046190,http://www.wikidata.org/entity/Q3046190'), ('labelsObjectsClasses', 'hall of fame,Sportsperson of the Year,Sportsperson of the Year,award,award,award,award,award,award,award,award,award,competition,Wikimedia list article,sports award,sports award,sports award,sports award,most valuable player award,most valuable player award,most valuable player award,class of award,class of award,class of award,class of award,class of award,Wikimedia set index article,ESPY Award,ESPY Award,ESPY Award')]\n",
      "[('property', 'http://www.wikidata.org/prop/direct/P3828'), ('labelProperty', 'wears'), ('objectsClasses', 'http://www.wikidata.org/entity/Q161928,http://www.wikidata.org/entity/Q431289'), ('labelsObjectsClasses', 'footwear,brand')]\n",
      "[('property', 'http://www.wikidata.org/prop/direct/P22'), ('labelProperty', 'father'), ('objectsClasses', 'http://www.wikidata.org/entity/Q5'), ('labelsObjectsClasses', 'human')]\n",
      "[('property', 'http://www.wikidata.org/prop/direct/P1830'), ('labelProperty', 'owner of'), ('objectsClasses', 'http://www.wikidata.org/entity/Q13393265'), ('labelsObjectsClasses', 'basketball team')]\n",
      "[('property', 'http://www.wikidata.org/prop/direct/P118'), ('labelProperty', 'league'), ('objectsClasses', 'http://www.wikidata.org/entity/Q18536323,http://www.wikidata.org/entity/Q15986354,http://www.wikidata.org/entity/Q15991290,http://www.wikidata.org/entity/Q7094076,http://www.wikidata.org/entity/Q623109'), ('labelsObjectsClasses', 'basketball league,basketball association,professional sports league,online database,sports league')]\n",
      "[('property', 'http://www.wikidata.org/prop/direct/P641'), ('labelProperty', 'sport'), ('objectsClasses', 'http://www.wikidata.org/entity/Q212434,http://www.wikidata.org/entity/Q31629,http://www.wikidata.org/entity/Q31629'), ('labelsObjectsClasses', 'Olympic sport,type of sport,type of sport')]\n",
      "[('property', 'http://www.wikidata.org/prop/direct/P551'), ('labelProperty', 'residence'), ('objectsClasses', 'http://www.wikidata.org/entity/Q1093829,http://www.wikidata.org/entity/Q1093829,http://www.wikidata.org/entity/Q408804'), ('labelsObjectsClasses', 'city of the United States,city of the United States,borough of New York City')]\n",
      "[('property', 'http://www.wikidata.org/prop/direct/P1889'), ('labelProperty', 'different from'), ('objectsClasses', 'http://www.wikidata.org/entity/Q5,http://www.wikidata.org/entity/Q5,http://www.wikidata.org/entity/Q5,http://www.wikidata.org/entity/Q5'), ('labelsObjectsClasses', 'human,human,human,human')]\n",
      "[('property', 'http://www.wikidata.org/prop/direct/P3373'), ('labelProperty', 'sibling'), ('objectsClasses', 'http://www.wikidata.org/entity/Q5,http://www.wikidata.org/entity/Q5,http://www.wikidata.org/entity/Q5,http://www.wikidata.org/entity/Q5'), ('labelsObjectsClasses', 'human,human,human,human')]\n",
      "[('property', 'http://www.wikidata.org/prop/direct/P734'), ('labelProperty', 'family name'), ('objectsClasses', 'http://www.wikidata.org/entity/Q101352,http://www.wikidata.org/entity/Q98775491'), ('labelsObjectsClasses', 'family name,family name named after given name')]\n",
      "[('property', 'http://www.wikidata.org/prop/direct/P737'), ('labelProperty', 'influenced by'), ('objectsClasses', 'http://www.wikidata.org/entity/Q5,http://www.wikidata.org/entity/Q5,http://www.wikidata.org/entity/Q5,http://www.wikidata.org/entity/Q5'), ('labelsObjectsClasses', 'human,human,human,human')]\n",
      "[('property', 'http://www.wikidata.org/prop/direct/P413'), ('labelProperty', 'position played on team / speciality'), ('objectsClasses', 'http://www.wikidata.org/entity/Q1151733,http://www.wikidata.org/entity/Q1148974,http://www.wikidata.org/entity/Q1148974,http://www.wikidata.org/entity/Q1148974'), ('labelsObjectsClasses', 'baseball position,basketball position,basketball position,basketball position')]\n",
      "[('property', 'http://www.wikidata.org/prop/direct/P54'), ('labelProperty', 'member of sports team'), ('objectsClasses', 'http://www.wikidata.org/entity/Q13393265,http://www.wikidata.org/entity/Q13393265,http://www.wikidata.org/entity/Q13393265,http://www.wikidata.org/entity/Q13027888,http://www.wikidata.org/entity/Q13027888,http://www.wikidata.org/entity/Q18558301'), ('labelsObjectsClasses', 'basketball team,basketball team,basketball team,baseball team,baseball team,college sports team')]\n",
      "[('property', 'http://www.wikidata.org/prop/direct/P27'), ('labelProperty', 'country of citizenship'), ('objectsClasses', 'http://www.wikidata.org/entity/Q1489259,http://www.wikidata.org/entity/Q99541706,http://www.wikidata.org/entity/Q1520223,http://www.wikidata.org/entity/Q3624078,http://www.wikidata.org/entity/Q512187,http://www.wikidata.org/entity/Q5255892,http://www.wikidata.org/entity/Q6256'), ('labelsObjectsClasses', 'superpower,historical unrecognized state,constitutional republic,sovereign state,federal republic,democratic republic,country')]\n",
      "[('property', 'http://www.wikidata.org/prop/direct/P1532'), ('labelProperty', 'country for sport'), ('objectsClasses', 'http://www.wikidata.org/entity/Q1489259,http://www.wikidata.org/entity/Q99541706,http://www.wikidata.org/entity/Q1520223,http://www.wikidata.org/entity/Q3624078,http://www.wikidata.org/entity/Q512187,http://www.wikidata.org/entity/Q5255892,http://www.wikidata.org/entity/Q6256'), ('labelsObjectsClasses', 'superpower,historical unrecognized state,constitutional republic,sovereign state,federal republic,democratic republic,country')]\n",
      "[('property', 'http://www.wikidata.org/prop/direct/P286'), ('labelProperty', 'head coach'), ('objectsClasses', 'http://www.wikidata.org/entity/Q5,http://www.wikidata.org/entity/Q5,http://www.wikidata.org/entity/Q5,http://www.wikidata.org/entity/Q5,http://www.wikidata.org/entity/Q5'), ('labelsObjectsClasses', 'human,human,human,human,human')]\n",
      "[('property', 'http://www.wikidata.org/prop/direct/P19'), ('labelProperty', 'place of birth'), ('objectsClasses', 'http://www.wikidata.org/entity/Q408804'), ('labelsObjectsClasses', 'borough of New York City')]\n",
      "[('property', 'http://www.wikidata.org/prop/direct/P31'), ('labelProperty', 'instance of'), ('objectsClasses', 'http://www.wikidata.org/entity/Q55983715'), ('labelsObjectsClasses', 'organisms known by a particular common name')]\n",
      "[('property', 'http://www.wikidata.org/prop/direct/P910'), ('labelProperty', \"topic's main category\"), ('objectsClasses', 'http://www.wikidata.org/entity/Q4167836'), ('labelsObjectsClasses', 'Wikimedia category')]\n",
      "[('property', 'http://www.wikidata.org/prop/direct/P1343'), ('labelProperty', 'described by source'), ('objectsClasses', 'http://www.wikidata.org/entity/Q186165,http://www.wikidata.org/entity/Q12038942'), ('labelsObjectsClasses', 'web portal,multimedia database')]\n",
      "[('property', 'http://www.wikidata.org/prop/direct/P25'), ('labelProperty', 'mother'), ('objectsClasses', 'http://www.wikidata.org/entity/Q5'), ('labelsObjectsClasses', 'human')]\n",
      "[('property', 'http://www.wikidata.org/prop/direct/P40'), ('labelProperty', 'child'), ('objectsClasses', 'http://www.wikidata.org/entity/Q5,http://www.wikidata.org/entity/Q5,http://www.wikidata.org/entity/Q5,http://www.wikidata.org/entity/Q5,http://www.wikidata.org/entity/Q5'), ('labelsObjectsClasses', 'human,human,human,human,human')]\n",
      "34\n"
     ]
    }
   ],
   "source": [
    "queryString = \"\"\"\n",
    "SELECT DISTINCT ?property ?labelProperty (GROUP_CONCAT(?objectClass ; separator = \",\")  AS ?objectsClasses) (GROUP_CONCAT(?labelObjectClass ; separator = \",\")  AS ?labelsObjectsClasses)\n",
    "WHERE \n",
    "{   \n",
    "   wd:Q41421 ?property ?object .  \n",
    "   ?object wdt:P31 ?objectClass .\n",
    "   \n",
    "   # Labels\n",
    "   ?property sc:name ?labelProperty .      \n",
    "   ?objectClass sc:name ?labelObjectClass .\n",
    "   \n",
    "   FILTER(!isLiteral(?object)) .   \n",
    "}GROUP BY ?property ?labelProperty\n",
    "LIMIT 50\n",
    "\"\"\"\n",
    "print(\"Results\")\n",
    "x=run_query(queryString)"
   ]
  },
  {
   "cell_type": "markdown",
   "id": "42045017-d7df-4e2c-a5e2-c8bb0d981e1a",
   "metadata": {
    "tags": []
   },
   "source": [
    "### Get all the couples (object property - list of the  objects that are connected to \"Micheal Jordan\"  (wd:Q41421) through that object property)"
   ]
  },
  {
   "cell_type": "code",
   "execution_count": 81,
   "id": "ac9a1d67-17db-4f1a-87b1-eb8a54572cec",
   "metadata": {},
   "outputs": [
    {
     "name": "stdout",
     "output_type": "stream",
     "text": [
      "Results\n",
      "[('property', 'http://www.wikidata.org/prop/direct/P735'), ('labelProperty', 'given name'), ('objects', 'http://www.wikidata.org/entity/Q4927524,http://www.wikidata.org/entity/Q13028078'), ('labelsObjects', 'Michael,Jeffrey')]\n",
      "[('property', 'http://www.wikidata.org/prop/direct/P361'), ('labelProperty', 'part of'), ('objects', 'http://www.wikidata.org/entity/Q11310897'), ('labelsObjects', 'Jordan Rules')]\n",
      "[('property', 'http://www.wikidata.org/prop/direct/P106'), ('labelProperty', 'occupation'), ('objects', 'http://www.wikidata.org/entity/Q131524,http://www.wikidata.org/entity/Q18814623,http://www.wikidata.org/entity/Q33999,http://www.wikidata.org/entity/Q3665646,http://www.wikidata.org/entity/Q10871364,http://www.wikidata.org/entity/Q17221'), ('labelsObjects', 'entrepreneur,autobiographer,actor,basketball player,baseball player,spokesperson')]\n",
      "[('property', 'http://www.wikidata.org/prop/direct/P1344'), ('labelProperty', 'participant in'), ('objects', 'http://www.wikidata.org/entity/Q8488,http://www.wikidata.org/entity/Q1985121,http://www.wikidata.org/entity/Q8456'), ('labelsObjects', '1992 Summer Olympics,1992 Tournament of the Americas,1984 Summer Olympics')]\n",
      "[('property', 'http://www.wikidata.org/prop/direct/P69'), ('labelProperty', 'educated at'), ('objects', 'http://www.wikidata.org/entity/Q192334,http://www.wikidata.org/entity/Q5374824'), ('labelsObjects', 'University of North Carolina at Chapel Hill,Emsley A. Laney High School')]\n",
      "[('property', 'http://www.wikidata.org/prop/direct/P1411'), ('labelProperty', 'nominated for'), ('objects', 'http://www.wikidata.org/entity/Q918534,http://www.wikidata.org/entity/Q4835465,http://www.wikidata.org/entity/Q4896614,http://www.wikidata.org/entity/Q943106'), ('labelsObjects', 'Laureus World Sports Award for Comeback of the Year,BET Award for Athlete of the Century,Best Comeback Athlete ESPY Award,Best NBA Player ESPY Award')]\n",
      "[('property', 'http://www.wikidata.org/prop/direct/P552'), ('labelProperty', 'handedness'), ('objects', 'http://www.wikidata.org/entity/Q3039938'), ('labelsObjects', 'right-handedness')]\n",
      "[('property', 'http://www.wikidata.org/prop/direct/P21'), ('labelProperty', 'sex or gender'), ('objects', 'http://www.wikidata.org/entity/Q6581097'), ('labelsObjects', 'male')]\n",
      "[('property', 'http://www.wikidata.org/prop/direct/P647'), ('labelProperty', 'drafted by'), ('objects', 'http://www.wikidata.org/entity/Q128109'), ('labelsObjects', 'Chicago Bulls')]\n",
      "[('property', 'http://www.wikidata.org/prop/direct/P5008'), ('labelProperty', 'on focus list of Wikimedia project'), ('objects', 'http://www.wikidata.org/entity/Q15304953'), ('labelsObjects', 'WikiProject African diaspora')]\n",
      "[('property', 'http://www.wikidata.org/prop/direct/P172'), ('labelProperty', 'ethnic group'), ('objects', 'http://www.wikidata.org/entity/Q49085'), ('labelsObjects', 'African Americans')]\n",
      "[('property', 'http://www.wikidata.org/prop/direct/P1412'), ('labelProperty', 'languages spoken, written or signed'), ('objects', 'http://www.wikidata.org/entity/Q1860'), ('labelsObjects', 'English')]\n",
      "[('property', 'http://www.wikidata.org/prop/direct/P26'), ('labelProperty', 'spouse'), ('objects', 'http://www.wikidata.org/entity/Q26220952'), ('labelsObjects', 'Yvette Prieto')]\n",
      "[('property', 'http://www.wikidata.org/prop/direct/P166'), ('labelProperty', 'award received'), ('objects', 'http://www.wikidata.org/entity/Q1061233,http://www.wikidata.org/entity/Q17144,http://www.wikidata.org/entity/Q743122,http://www.wikidata.org/entity/Q137003,http://www.wikidata.org/entity/Q1418009,http://www.wikidata.org/entity/Q1465181,http://www.wikidata.org/entity/Q1641970,http://www.wikidata.org/entity/Q1653207,http://www.wikidata.org/entity/Q222047,http://www.wikidata.org/entity/Q2404133,http://www.wikidata.org/entity/Q2666769,http://www.wikidata.org/entity/Q31391,http://www.wikidata.org/entity/Q3304648,http://www.wikidata.org/entity/Q4650547,http://www.wikidata.org/entity/Q4816371,http://www.wikidata.org/entity/Q4896614,http://www.wikidata.org/entity/Q4896724,http://www.wikidata.org/entity/Q586458,http://www.wikidata.org/entity/Q644357,http://www.wikidata.org/entity/Q674359,http://www.wikidata.org/entity/Q739499,http://www.wikidata.org/entity/Q845884,http://www.wikidata.org/entity/Q943106'), ('labelsObjects', \"L'Équipe Champion of Champions,Presidential Medal of Freedom,Associated Press Athlete of the Year,50 Greatest Players in NBA History,NBA All-Rookie Team,NBA All-Defensive Team,John R. Wooden Award,Sports Illustrated Sportsperson of the Year,NBA Most Valuable Player Award,Oscar Robertson Trophy,Naismith College Player of the Year,NBA All-Star Game Kobe Bryant Most Valuable Player Award,Atlantic Coast Conference Men's Basketball Player of the Year,ACC Athlete of the Year,Atlantic Coast Conference Men's Basketball Rookie of the Year,Best Comeback Athlete ESPY Award,Best Male Athlete ESPY Award,FIBA Hall of Fame,NBA Rookie of the Year Award,All-NBA Team,Bill Russell NBA Finals Most Valuable Player Award,NBA Defensive Player of the Year Award,Best NBA Player ESPY Award\")]\n",
      "[('property', 'http://www.wikidata.org/prop/direct/P3828'), ('labelProperty', 'wears'), ('objects', 'http://www.wikidata.org/entity/Q3575260,http://www.wikidata.org/entity/Q420953,http://www.wikidata.org/entity/Q614806'), ('labelsObjects', 'bijou,Air Jordan product line,suit')]\n",
      "[('property', 'http://www.wikidata.org/prop/direct/P22'), ('labelProperty', 'father'), ('objects', 'http://www.wikidata.org/entity/Q3161193'), ('labelsObjects', 'James R. Jordan, Sr.')]\n",
      "[('property', 'http://www.wikidata.org/prop/direct/P1830'), ('labelProperty', 'owner of'), ('objects', 'http://www.wikidata.org/entity/Q163480'), ('labelsObjects', 'Charlotte Hornets')]\n",
      "[('property', 'http://www.wikidata.org/prop/direct/P118'), ('labelProperty', 'league'), ('objects', 'http://www.wikidata.org/entity/Q94861615,http://www.wikidata.org/entity/Q155223'), ('labelsObjects', \"NCAA Division I men's basketball,National Basketball Association\")]\n",
      "[('property', 'http://www.wikidata.org/prop/direct/P641'), ('labelProperty', 'sport'), ('objects', 'http://www.wikidata.org/entity/Q5369,http://www.wikidata.org/entity/Q5372'), ('labelsObjects', 'baseball,basketball')]\n",
      "[('property', 'http://www.wikidata.org/prop/direct/P551'), ('labelProperty', 'residence'), ('objects', 'http://www.wikidata.org/entity/Q18419,http://www.wikidata.org/entity/Q576671,http://www.wikidata.org/entity/Q659400'), ('labelsObjects', 'Brooklyn,Highland Park,Wilmington')]\n",
      "[('property', 'http://www.wikidata.org/prop/direct/P1889'), ('labelProperty', 'different from'), ('objects', 'http://www.wikidata.org/entity/Q134183,http://www.wikidata.org/entity/Q2136108,http://www.wikidata.org/entity/Q2325739,http://www.wikidata.org/entity/Q319247'), ('labelsObjects', 'Magic Johnson,Michael Jeffrey,Mike Riordan,Mark Messier')]\n",
      "[('property', 'http://www.wikidata.org/prop/direct/P3373'), ('labelProperty', 'sibling'), ('objects', 'http://www.wikidata.org/entity/Q55819312,http://www.wikidata.org/entity/Q55819493,http://www.wikidata.org/entity/Q55819653,http://www.wikidata.org/entity/Q55820302'), ('labelsObjects', 'Larry Jordan,James Jordan Jr.,Roslyn Jordan,Deloris E. Jordan')]\n",
      "[('property', 'http://www.wikidata.org/prop/direct/P734'), ('labelProperty', 'family name'), ('objects', 'http://www.wikidata.org/entity/Q1703599'), ('labelsObjects', 'Jordan')]\n",
      "[('property', 'http://www.wikidata.org/prop/direct/P737'), ('labelProperty', 'influenced by'), ('objects', 'http://www.wikidata.org/entity/Q209921,http://www.wikidata.org/entity/Q311195,http://www.wikidata.org/entity/Q718669,http://www.wikidata.org/entity/Q975066'), ('labelsObjects', 'Julius Erving,Jerry West,David Thompson,Walter Davis')]\n",
      "[('property', 'http://www.wikidata.org/prop/direct/P413'), ('labelProperty', 'position played on team / speciality'), ('objects', 'http://www.wikidata.org/entity/Q273199,http://www.wikidata.org/entity/Q308879,http://www.wikidata.org/entity/Q1142885,http://www.wikidata.org/entity/Q2302133'), ('labelsObjects', 'shooting guard,small forward,outfielder,swingman')]\n",
      "[('property', 'http://www.wikidata.org/prop/direct/P54'), ('labelProperty', 'member of sports team'), ('objects', 'http://www.wikidata.org/entity/Q128109,http://www.wikidata.org/entity/Q169165,http://www.wikidata.org/entity/Q2747877,http://www.wikidata.org/entity/Q3476102,http://www.wikidata.org/entity/Q4412061'), ('labelsObjects', \"Chicago Bulls,Washington Wizards,Birmingham Barons,Scottsdale Scorpions,North Carolina Tar Heels men's basketball\")]\n",
      "[('property', 'http://www.wikidata.org/prop/direct/P27'), ('labelProperty', 'country of citizenship'), ('objects', 'http://www.wikidata.org/entity/Q30'), ('labelsObjects', 'United States of America')]\n",
      "[('property', 'http://www.wikidata.org/prop/direct/P1532'), ('labelProperty', 'country for sport'), ('objects', 'http://www.wikidata.org/entity/Q30'), ('labelsObjects', 'United States of America')]\n",
      "[('property', 'http://www.wikidata.org/prop/direct/P286'), ('labelProperty', 'head coach'), ('objects', 'http://www.wikidata.org/entity/Q1119624,http://www.wikidata.org/entity/Q202584,http://www.wikidata.org/entity/Q316246,http://www.wikidata.org/entity/Q685842,http://www.wikidata.org/entity/Q919954'), ('labelsObjects', 'Stan Albeck,Dean Smith,Phil Jackson,Kevin Loughery,Doug Collins')]\n",
      "[('property', 'http://www.wikidata.org/prop/direct/P19'), ('labelProperty', 'place of birth'), ('objects', 'http://www.wikidata.org/entity/Q18419'), ('labelsObjects', 'Brooklyn')]\n",
      "[('property', 'http://www.wikidata.org/prop/direct/P8852'), ('labelProperty', 'facial hair'), ('objects', 'http://www.wikidata.org/entity/Q7824282'), ('labelsObjects', 'toothbrush moustache')]\n",
      "[('property', 'http://www.wikidata.org/prop/direct/P31'), ('labelProperty', 'instance of'), ('objects', 'http://www.wikidata.org/entity/Q5'), ('labelsObjects', 'human')]\n",
      "[('property', 'http://www.wikidata.org/prop/direct/P910'), ('labelProperty', \"topic's main category\"), ('objects', 'http://www.wikidata.org/entity/Q7484970'), ('labelsObjects', 'Category:Michael Jordan')]\n",
      "[('property', 'http://www.wikidata.org/prop/direct/P1343'), ('labelProperty', 'described by source'), ('objects', 'http://www.wikidata.org/entity/Q67311526'), ('labelsObjects', 'Obalky knih.cz')]\n",
      "[('property', 'http://www.wikidata.org/prop/direct/P25'), ('labelProperty', 'mother'), ('objects', 'http://www.wikidata.org/entity/Q29348175'), ('labelsObjects', 'Deloris Jordan')]\n",
      "[('property', 'http://www.wikidata.org/prop/direct/P40'), ('labelProperty', 'child'), ('objects', 'http://www.wikidata.org/entity/Q107325744,http://www.wikidata.org/entity/Q26220954,http://www.wikidata.org/entity/Q26220955,http://www.wikidata.org/entity/Q6176081,http://www.wikidata.org/entity/Q6758256'), ('labelsObjects', 'Jasmine M. Jordan,Ysabel Jordan,Victoria Jordan,Jeffrey Jordan,Marcus Jordan')]\n",
      "36\n"
     ]
    }
   ],
   "source": [
    "queryString = \"\"\"\n",
    "SELECT DISTINCT ?property ?labelProperty (GROUP_CONCAT(?object ; separator = \",\")  AS ?objects) (GROUP_CONCAT(?labelObject; separator = \",\")  AS ?labelsObjects)\n",
    "WHERE \n",
    "{   \n",
    "   wd:Q41421 ?property ?object .  \n",
    " \n",
    "   # Labels\n",
    "   ?property sc:name ?labelProperty .      \n",
    "   ?object sc:name ?labelObject\n",
    "   \n",
    "   FILTER(!isLiteral(?object)) .   \n",
    "}GROUP BY ?property ?labelProperty\n",
    "LIMIT 50\n",
    "\"\"\"\n",
    "print(\"Results\")\n",
    "x=run_query(queryString)"
   ]
  },
  {
   "cell_type": "markdown",
   "id": "07d5f85a-2397-4ac3-bc50-a11d06ab19b8",
   "metadata": {
    "tags": []
   },
   "source": [
    "### Final Query"
   ]
  },
  {
   "cell_type": "markdown",
   "id": "b0d3dad0",
   "metadata": {},
   "source": [
    "Final query for this task"
   ]
  },
  {
   "cell_type": "code",
   "execution_count": 261,
   "id": "5366b4f0-6efa-43f3-8f54-c9be4bf5f8f9",
   "metadata": {},
   "outputs": [
    {
     "name": "stdout",
     "output_type": "stream",
     "text": [
      "Results\n",
      "[('occupation', 'http://www.wikidata.org/entity/Q131524'), ('labelOccupation', 'entrepreneur')]\n",
      "[('occupation', 'http://www.wikidata.org/entity/Q18814623'), ('labelOccupation', 'autobiographer')]\n",
      "[('occupation', 'http://www.wikidata.org/entity/Q33999'), ('labelOccupation', 'actor')]\n",
      "[('occupation', 'http://www.wikidata.org/entity/Q3665646'), ('labelOccupation', 'basketball player')]\n",
      "[('occupation', 'http://www.wikidata.org/entity/Q10871364'), ('labelOccupation', 'baseball player')]\n",
      "[('occupation', 'http://www.wikidata.org/entity/Q17221'), ('labelOccupation', 'spokesperson')]\n",
      "6\n"
     ]
    }
   ],
   "source": [
    "queryString = \"\"\"\n",
    "SELECT DISTINCT ?occupation ?labelOccupation\n",
    "WHERE \n",
    "{   \n",
    "   wd:Q41421 wdt:P106 ?occupation .  \n",
    "   # Labels\n",
    "   ?occupation sc:name ?labelOccupation .      \n",
    "}\n",
    "LIMIT 50\n",
    "\"\"\"\n",
    "print(\"Results\")\n",
    "x=run_query(queryString)"
   ]
  },
  {
   "cell_type": "markdown",
   "id": "ae5a2720",
   "metadata": {},
   "source": [
    "## Task 2\n",
    "Identify the BGP for basketball."
   ]
  },
  {
   "cell_type": "markdown",
   "id": "72e2b36c-81e6-4550-a305-a0d2e95159c6",
   "metadata": {
    "tags": []
   },
   "source": [
    "### Get the first 25 proprieties of \"Chicago Bulls\" (wd:Q128109)"
   ]
  },
  {
   "cell_type": "code",
   "execution_count": 269,
   "id": "bb7d97fe-06d6-48e9-b015-9155a5858e20",
   "metadata": {},
   "outputs": [
    {
     "name": "stdout",
     "output_type": "stream",
     "text": [
      "Results\n",
      "[('prop', 'http://www.wikidata.org/prop/direct/P115'), ('label', 'home venue')]\n",
      "[('prop', 'http://www.wikidata.org/prop/direct/P118'), ('label', 'league')]\n",
      "[('prop', 'http://www.wikidata.org/prop/direct/P127'), ('label', 'owned by')]\n",
      "[('prop', 'http://www.wikidata.org/prop/direct/P1417'), ('label', 'Encyclopædia Britannica Online ID')]\n",
      "[('prop', 'http://www.wikidata.org/prop/direct/P1449'), ('label', 'nickname')]\n",
      "[('prop', 'http://www.wikidata.org/prop/direct/P154'), ('label', 'logo image')]\n",
      "[('prop', 'http://www.wikidata.org/prop/direct/P159'), ('label', 'headquarters location')]\n",
      "[('prop', 'http://www.wikidata.org/prop/direct/P17'), ('label', 'country')]\n",
      "[('prop', 'http://www.wikidata.org/prop/direct/P18'), ('label', 'image')]\n",
      "[('prop', 'http://www.wikidata.org/prop/direct/P2002'), ('label', 'Twitter username')]\n",
      "[('prop', 'http://www.wikidata.org/prop/direct/P214'), ('label', 'VIAF ID')]\n",
      "[('prop', 'http://www.wikidata.org/prop/direct/P2397'), ('label', 'YouTube channel ID')]\n",
      "[('prop', 'http://www.wikidata.org/prop/direct/P244'), ('label', 'Library of Congress authority ID')]\n",
      "[('prop', 'http://www.wikidata.org/prop/direct/P286'), ('label', 'head coach')]\n",
      "[('prop', 'http://www.wikidata.org/prop/direct/P31'), ('label', 'instance of')]\n",
      "[('prop', 'http://www.wikidata.org/prop/direct/P3221'), ('label', 'New York Times topic ID')]\n",
      "[('prop', 'http://www.wikidata.org/prop/direct/P3417'), ('label', 'Quora topic ID')]\n",
      "[('prop', 'http://www.wikidata.org/prop/direct/P361'), ('label', 'part of')]\n",
      "[('prop', 'http://www.wikidata.org/prop/direct/P373'), ('label', 'Commons category')]\n",
      "[('prop', 'http://www.wikidata.org/prop/direct/P4013'), ('label', 'Giphy username')]\n",
      "[('prop', 'http://www.wikidata.org/prop/direct/P571'), ('label', 'inception')]\n",
      "[('prop', 'http://www.wikidata.org/prop/direct/P641'), ('label', 'sport')]\n",
      "[('prop', 'http://www.wikidata.org/prop/direct/P646'), ('label', 'Freebase ID')]\n",
      "[('prop', 'http://www.wikidata.org/prop/direct/P7157'), ('label', 'The Top Tens ID')]\n",
      "[('prop', 'http://www.wikidata.org/prop/direct/P7859'), ('label', 'WorldCat Identities ID')]\n",
      "25\n"
     ]
    }
   ],
   "source": [
    "queryString = \"\"\"\n",
    "SELECT DISTINCT ?prop ?label\n",
    "WHERE {   \n",
    "   wd:Q128109  ?prop ?obj.   \n",
    "   ?prop sc:name ?label.   \n",
    "}\n",
    "LIMIT 25\n",
    "\"\"\"\n",
    "print(\"Results\")\n",
    "x=run_query(queryString)"
   ]
  },
  {
   "cell_type": "markdown",
   "id": "1cb34b4c-6716-4994-bf02-d74cc90b05ba",
   "metadata": {
    "tags": []
   },
   "source": [
    "### Get the first 25 proprieties of \"basketball team\" (wd:Q13393265)"
   ]
  },
  {
   "cell_type": "code",
   "execution_count": 270,
   "id": "516b087b-9dd3-4795-b238-7cc65427636c",
   "metadata": {},
   "outputs": [
    {
     "name": "stdout",
     "output_type": "stream",
     "text": [
      "Results\n",
      "[('prop', 'http://www.wikidata.org/prop/direct/P1424'), ('label', \"topic's main template\")]\n",
      "[('prop', 'http://www.wikidata.org/prop/direct/P279'), ('label', 'subclass of')]\n",
      "[('prop', 'http://www.wikidata.org/prop/direct/P3417'), ('label', 'Quora topic ID')]\n",
      "[('prop', 'http://www.wikidata.org/prop/direct/P373'), ('label', 'Commons category')]\n",
      "[('prop', 'http://www.wikidata.org/prop/direct/P527'), ('label', 'has part')]\n",
      "[('prop', 'http://www.wikidata.org/prop/direct/P641'), ('label', 'sport')]\n",
      "[('prop', 'http://www.wikidata.org/prop/direct/P8408'), ('label', 'KBpedia ID')]\n",
      "[('prop', 'http://www.wikidata.org/prop/direct/P910'), ('label', \"topic's main category\")]\n",
      "8\n"
     ]
    }
   ],
   "source": [
    "queryString = \"\"\"\n",
    "SELECT DISTINCT ?prop ?label\n",
    "WHERE {   \n",
    "   wd:Q13393265  ?prop ?obj.   \n",
    "   ?prop sc:name ?label.   \n",
    "}\n",
    "LIMIT 25\n",
    "\"\"\"\n",
    "print(\"Results\")\n",
    "x=run_query(queryString)"
   ]
  },
  {
   "cell_type": "markdown",
   "id": "5903c10a-c971-4c03-850e-559ecbdbf7b0",
   "metadata": {
    "tags": []
   },
   "source": [
    "### Get the first 25 subjects and objects of the propriety \"sport\" (wdt:P641)"
   ]
  },
  {
   "cell_type": "code",
   "execution_count": 271,
   "id": "5aa9f4bf-d6d2-414d-bf3e-420da79a34df",
   "metadata": {},
   "outputs": [
    {
     "name": "stdout",
     "output_type": "stream",
     "text": [
      "Results\n",
      "[('sbj', 'http://www.wikidata.org/entity/Q2348425'), ('labelSbj', 'sports in Sweden'), ('obj', 'http://www.wikidata.org/entity/Q53121'), ('labelObj', 'cycling')]\n",
      "[('sbj', 'http://www.wikidata.org/entity/Q19277056'), ('labelSbj', '2015 Canary Wharf Squash Classic'), ('obj', 'http://www.wikidata.org/entity/Q133201'), ('labelObj', 'squash')]\n",
      "[('sbj', 'http://www.wikidata.org/entity/Q2856464'), ('labelSbj', 'Canary Wharf Squash Classic'), ('obj', 'http://www.wikidata.org/entity/Q133201'), ('labelObj', 'squash')]\n",
      "[('sbj', 'http://www.wikidata.org/entity/Q4629184'), ('labelSbj', '2013 Canary Wharf Squash Classic'), ('obj', 'http://www.wikidata.org/entity/Q133201'), ('labelObj', 'squash')]\n",
      "[('sbj', 'http://www.wikidata.org/entity/Q15844679'), ('labelSbj', '2014 FIM Motocross World Championship season'), ('obj', 'http://www.wikidata.org/entity/Q215862'), ('labelObj', 'motocross')]\n",
      "[('sbj', 'http://www.wikidata.org/entity/Q15729533'), ('labelSbj', 'beach soccer in Estonia'), ('obj', 'http://www.wikidata.org/entity/Q210778'), ('labelObj', 'beach soccer')]\n",
      "[('sbj', 'http://www.wikidata.org/entity/Q15842534'), ('labelSbj', 'Rita Keitmann'), ('obj', 'http://www.wikidata.org/entity/Q10980'), ('labelObj', 'triathlon')]\n",
      "[('sbj', 'http://www.wikidata.org/entity/Q15850937'), ('labelSbj', 'Till Schramm'), ('obj', 'http://www.wikidata.org/entity/Q10980'), ('labelObj', 'triathlon')]\n",
      "[('sbj', 'http://www.wikidata.org/entity/Q15851465'), ('labelSbj', 'Trevor Wurtele'), ('obj', 'http://www.wikidata.org/entity/Q10980'), ('labelObj', 'triathlon')]\n",
      "[('sbj', 'http://www.wikidata.org/entity/Q2616618'), ('labelSbj', 'Pien Keulstra'), ('obj', 'http://www.wikidata.org/entity/Q10980'), ('labelObj', 'triathlon')]\n",
      "[('sbj', 'http://www.wikidata.org/entity/Q15845014'), ('labelSbj', 'Mai Shiina'), ('obj', 'http://www.wikidata.org/entity/Q11419'), ('labelObj', 'karate')]\n",
      "[('sbj', 'http://www.wikidata.org/entity/Q15845024'), ('labelSbj', 'Keisuke Nemoto'), ('obj', 'http://www.wikidata.org/entity/Q11419'), ('labelObj', 'karate')]\n",
      "[('sbj', 'http://www.wikidata.org/entity/Q15845035'), ('labelSbj', 'Katsutoshi Shiina'), ('obj', 'http://www.wikidata.org/entity/Q11419'), ('labelObj', 'karate')]\n",
      "[('sbj', 'http://www.wikidata.org/entity/Q15917303'), ('labelSbj', \"karate at the 2006 Asian Games – men's kumite +80 kg\"), ('obj', 'http://www.wikidata.org/entity/Q11419'), ('labelObj', 'karate')]\n",
      "[('sbj', 'http://www.wikidata.org/entity/Q15917440'), ('labelSbj', \"karate at the 2006 Asian Games – men's kumite 75 kg\"), ('obj', 'http://www.wikidata.org/entity/Q11419'), ('labelObj', 'karate')]\n",
      "[('sbj', 'http://www.wikidata.org/entity/Q15917523'), ('labelSbj', \"karate at the 2006 Asian Games – men's kumite 65 kg\"), ('obj', 'http://www.wikidata.org/entity/Q11419'), ('labelObj', 'karate')]\n",
      "[('sbj', 'http://www.wikidata.org/entity/Q15917589'), ('labelSbj', \"karate at the 2006 Asian Games – men's kumite 60 kg\"), ('obj', 'http://www.wikidata.org/entity/Q11419'), ('labelObj', 'karate')]\n",
      "[('sbj', 'http://www.wikidata.org/entity/Q15987564'), ('labelSbj', 'Masaaki Ueki'), ('obj', 'http://www.wikidata.org/entity/Q11419'), ('labelObj', 'karate')]\n",
      "[('sbj', 'http://www.wikidata.org/entity/Q16933265'), ('labelSbj', \"karate at the 2010 Asian Games – men's kumite 60 kg\"), ('obj', 'http://www.wikidata.org/entity/Q11419'), ('labelObj', 'karate')]\n",
      "[('sbj', 'http://www.wikidata.org/entity/Q16933267'), ('labelSbj', \"karate at the 2002 Asian Games – men's kumite 65 kg\"), ('obj', 'http://www.wikidata.org/entity/Q11419'), ('labelObj', 'karate')]\n",
      "[('sbj', 'http://www.wikidata.org/entity/Q16933281'), ('labelSbj', \"karate at the 2010 Asian Games – men's kumite 67 kg\"), ('obj', 'http://www.wikidata.org/entity/Q11419'), ('labelObj', 'karate')]\n",
      "[('sbj', 'http://www.wikidata.org/entity/Q16933291'), ('labelSbj', \"karate at the 2002 Asian Games – men's kumite 75 kg\"), ('obj', 'http://www.wikidata.org/entity/Q11419'), ('labelObj', 'karate')]\n",
      "[('sbj', 'http://www.wikidata.org/entity/Q16933296'), ('labelSbj', \"karate at the 2010 Asian Games – men's kumite 75 kg\"), ('obj', 'http://www.wikidata.org/entity/Q11419'), ('labelObj', 'karate')]\n",
      "[('sbj', 'http://www.wikidata.org/entity/Q16933299'), ('labelSbj', \"karate at the 2002 Asian Games – men's kumite +75 kg\"), ('obj', 'http://www.wikidata.org/entity/Q11419'), ('labelObj', 'karate')]\n",
      "[('sbj', 'http://www.wikidata.org/entity/Q16933309'), ('labelSbj', \"karate at the 2010 Asian Games – men's kumite +84 kg\"), ('obj', 'http://www.wikidata.org/entity/Q11419'), ('labelObj', 'karate')]\n",
      "25\n"
     ]
    }
   ],
   "source": [
    "queryString = \"\"\"\n",
    "SELECT DISTINCT ?sbj ?labelSbj ?obj ?labelObj\n",
    "WHERE {   \n",
    "   ?sbj wdt:P641 ?obj .\n",
    "   ?sbj sc:name ?labelSbj .\n",
    "   ?obj sc:name ?labelObj .\n",
    "}\n",
    "LIMIT 25\n",
    "\"\"\"\n",
    "\n",
    "print(\"Results\")\n",
    "x=run_query(queryString)"
   ]
  },
  {
   "cell_type": "markdown",
   "id": "1de3ef7d-df51-456b-b888-b6cda35b9593",
   "metadata": {
    "tags": []
   },
   "source": [
    "### Get the first 25 objects connected with \"sport\" (wdt:P641) to \"basketball team\" (wd:Q13393265)"
   ]
  },
  {
   "cell_type": "code",
   "execution_count": 272,
   "id": "29f55f3a-dc2c-4c42-8549-1236eb581891",
   "metadata": {},
   "outputs": [
    {
     "name": "stdout",
     "output_type": "stream",
     "text": [
      "Results\n",
      "[('obj', 'http://www.wikidata.org/entity/Q5372'), ('label', 'basketball')]\n",
      "1\n"
     ]
    }
   ],
   "source": [
    "queryString = \"\"\"\n",
    "SELECT DISTINCT ?obj ?label\n",
    "WHERE {   \n",
    "   wd:Q13393265  wdt:P641 ?obj.   \n",
    "   ?obj sc:name ?label.   \n",
    "}\n",
    "LIMIT 25\n",
    "\"\"\"\n",
    "print(\"Results\")\n",
    "x=run_query(queryString)"
   ]
  },
  {
   "cell_type": "markdown",
   "id": "a4252e1b-e90d-48c4-bf85-d7dd36937125",
   "metadata": {
    "tags": []
   },
   "source": [
    "### Get the class of \"basketball\" (wd:Q5372)"
   ]
  },
  {
   "cell_type": "code",
   "execution_count": 273,
   "id": "5b87b52b-58be-4a47-9669-ca98d6ddf93a",
   "metadata": {},
   "outputs": [
    {
     "name": "stdout",
     "output_type": "stream",
     "text": [
      "Results\n",
      "[('class', 'http://www.wikidata.org/entity/Q212434'), ('label', 'Olympic sport')]\n",
      "[('class', 'http://www.wikidata.org/entity/Q31629'), ('label', 'type of sport')]\n",
      "2\n"
     ]
    }
   ],
   "source": [
    "queryString = \"\"\"\n",
    "SELECT DISTINCT ?class ?label\n",
    "WHERE {   \n",
    "   wd:Q5372 wdt:P31 ?class.   \n",
    "   ?class sc:name ?label.   \n",
    "}\n",
    "LIMIT 25\n",
    "\"\"\"\n",
    "print(\"Results\")\n",
    "x=run_query(queryString)"
   ]
  },
  {
   "cell_type": "markdown",
   "id": "3869cbd2-a27c-4e1d-a488-27eab9a6a573",
   "metadata": {
    "tags": []
   },
   "source": [
    "### Get the first 25 proprieties of \"type of sport\" (wd:Q31629)"
   ]
  },
  {
   "cell_type": "code",
   "execution_count": 274,
   "id": "a95c0bd5-c14c-4057-b09f-619bf4638ab2",
   "metadata": {},
   "outputs": [
    {
     "name": "stdout",
     "output_type": "stream",
     "text": [
      "Results\n",
      "[('prop', 'http://www.wikidata.org/prop/direct/P1036'), ('label', 'Dewey Decimal Classification')]\n",
      "[('prop', 'http://www.wikidata.org/prop/direct/P1424'), ('label', \"topic's main template\")]\n",
      "[('prop', 'http://www.wikidata.org/prop/direct/P1687'), ('label', 'Wikidata property')]\n",
      "[('prop', 'http://www.wikidata.org/prop/direct/P18'), ('label', 'image')]\n",
      "[('prop', 'http://www.wikidata.org/prop/direct/P1889'), ('label', 'different from')]\n",
      "[('prop', 'http://www.wikidata.org/prop/direct/P227'), ('label', 'GND ID')]\n",
      "[('prop', 'http://www.wikidata.org/prop/direct/P2347'), ('label', 'YSO ID')]\n",
      "[('prop', 'http://www.wikidata.org/prop/direct/P2671'), ('label', 'Google Knowledge Graph ID')]\n",
      "[('prop', 'http://www.wikidata.org/prop/direct/P279'), ('label', 'subclass of')]\n",
      "[('prop', 'http://www.wikidata.org/prop/direct/P31'), ('label', 'instance of')]\n",
      "[('prop', 'http://www.wikidata.org/prop/direct/P373'), ('label', 'Commons category')]\n",
      "[('prop', 'http://www.wikidata.org/prop/direct/P910'), ('label', \"topic's main category\")]\n",
      "12\n"
     ]
    }
   ],
   "source": [
    "queryString = \"\"\"\n",
    "SELECT DISTINCT ?prop ?label\n",
    "WHERE {   \n",
    "   wd:Q31629 ?prop ?obj .\n",
    "   ?prop sc:name ?label\n",
    "}\n",
    "LIMIT 25\n",
    "\"\"\"\n",
    "print(\"Results\")\n",
    "x=run_query(queryString)"
   ]
  },
  {
   "cell_type": "markdown",
   "id": "aa281140-d305-4545-a750-2232ae83706b",
   "metadata": {
    "tags": []
   },
   "source": [
    "### Get the fist 25 subjects connected with \"sport\" (wdt:P641) to \"basketball\" (wd:Q5372)"
   ]
  },
  {
   "cell_type": "code",
   "execution_count": 275,
   "id": "e42e0d0b-371c-46da-8e18-fe39b6ef5e44",
   "metadata": {},
   "outputs": [
    {
     "name": "stdout",
     "output_type": "stream",
     "text": [
      "Results\n",
      "[('basket', 'http://www.wikidata.org/entity/Q16191059'), ('label', \"2013–14 Atlantic Coast Conference men's basketball season\")]\n",
      "[('basket', 'http://www.wikidata.org/entity/Q16192074'), ('label', \"2013–14 Southeastern Conference men's basketball season\")]\n",
      "[('basket', 'http://www.wikidata.org/entity/Q19863393'), ('label', \"2008–09 Atlantic 10 Conference men's basketball season\")]\n",
      "[('basket', 'http://www.wikidata.org/entity/Q2348425'), ('label', 'sports in Sweden')]\n",
      "[('basket', 'http://www.wikidata.org/entity/Q2811918'), ('label', '1947 in basketball')]\n",
      "[('basket', 'http://www.wikidata.org/entity/Q2813083'), ('label', '1991 in basketball')]\n",
      "[('basket', 'http://www.wikidata.org/entity/Q2813265'), ('label', '1996 in basketball')]\n",
      "[('basket', 'http://www.wikidata.org/entity/Q2813922'), ('label', '2001 in basketball')]\n",
      "[('basket', 'http://www.wikidata.org/entity/Q2855716'), ('label', '2012–13 ACB season')]\n",
      "[('basket', 'http://www.wikidata.org/entity/Q2948730'), ('label', \"2010 NCAA Men's Division I Basketball Tournament\")]\n",
      "[('basket', 'http://www.wikidata.org/entity/Q2948731'), ('label', \"2012 NCAA Men's Division I Basketball Tournament\")]\n",
      "[('basket', 'http://www.wikidata.org/entity/Q3994982'), ('label', \"2013 NCAA Men's Division I Basketball Tournament\")]\n",
      "[('basket', 'http://www.wikidata.org/entity/Q4574588'), ('label', '1971 National Invitation Tournament')]\n",
      "[('basket', 'http://www.wikidata.org/entity/Q4579916'), ('label', '1981 National Invitation Tournament')]\n",
      "[('basket', 'http://www.wikidata.org/entity/Q4586199'), ('label', '1990 PBA season')]\n",
      "[('basket', 'http://www.wikidata.org/entity/Q4586489'), ('label', '1990–91 ACB season')]\n",
      "[('basket', 'http://www.wikidata.org/entity/Q4588674'), ('label', '1993 National Invitation Tournament')]\n",
      "[('basket', 'http://www.wikidata.org/entity/Q4590927'), ('label', '1995–96 CBA season')]\n",
      "[('basket', 'http://www.wikidata.org/entity/Q4598277'), ('label', \"2000–01 NCAA Division I men's basketball season\")]\n",
      "[('basket', 'http://www.wikidata.org/entity/Q4612480'), ('label', \"2008–09 Atlantic Coast Conference men's basketball season\")]\n",
      "[('basket', 'http://www.wikidata.org/entity/Q4615657'), ('label', \"2009–10 Colonial Athletic Association men's basketball season\")]\n",
      "[('basket', 'http://www.wikidata.org/entity/Q4615858'), ('label', \"2009–10 Ivy League men's basketball season\")]\n",
      "[('basket', 'http://www.wikidata.org/entity/Q4615981'), ('label', \"2009–10 NCAA Division I women's basketball season\")]\n",
      "[('basket', 'http://www.wikidata.org/entity/Q4619773'), ('label', \"2010–11 Pacific-10 Conference men's basketball season\")]\n",
      "[('basket', 'http://www.wikidata.org/entity/Q4621962'), ('label', '2011 National Invitation Tournament')]\n",
      "25\n"
     ]
    }
   ],
   "source": [
    "queryString = \"\"\"\n",
    "SELECT DISTINCT ?basket ?label \n",
    "WHERE {   \n",
    "   ?basket wdt:P641 wd:Q5372 ;\n",
    "           sc:name ?label .\n",
    "}\n",
    "LIMIT 25 \n",
    "\"\"\"\n",
    "print(\"Results\")\n",
    "x=run_query(queryString)"
   ]
  },
  {
   "cell_type": "markdown",
   "id": "e353d5da-8ab8-44fe-abca-9aa4a35d364a",
   "metadata": {
    "tags": []
   },
   "source": [
    "### Get the class of \"basketball player\" (wd:Q10871364)"
   ]
  },
  {
   "cell_type": "code",
   "execution_count": 276,
   "id": "acd18569-acab-4b5d-ab2d-6ca9fbea26e7",
   "metadata": {},
   "outputs": [
    {
     "name": "stdout",
     "output_type": "stream",
     "text": [
      "Results\n",
      "[('class', 'http://www.wikidata.org/entity/Q28640'), ('label', 'profession')]\n",
      "1\n"
     ]
    }
   ],
   "source": [
    "queryString = \"\"\"\n",
    "SELECT DISTINCT ?class ?label\n",
    "WHERE {   \n",
    "   wd:Q10871364 wdt:P31 ?class .\n",
    "   ?class sc:name ?label .\n",
    "}\n",
    "LIMIT 25\n",
    "\"\"\"\n",
    "print(\"Results\")\n",
    "x=run_query(queryString)"
   ]
  },
  {
   "cell_type": "markdown",
   "id": "829b3728-b322-4755-96d4-6ad872923eb3",
   "metadata": {
    "tags": []
   },
   "source": [
    "### Find first 25 proprieties of \"basketball player\" (wd:Q10871364)"
   ]
  },
  {
   "cell_type": "code",
   "execution_count": 277,
   "id": "bfe2dd69-20e2-47b6-8f75-3cee4d0d577e",
   "metadata": {},
   "outputs": [
    {
     "name": "stdout",
     "output_type": "stream",
     "text": [
      "Results\n",
      "[('prop', 'http://www.wikidata.org/prop/direct/P1014'), ('label', 'Art & Architecture Thesaurus ID')]\n",
      "[('prop', 'http://www.wikidata.org/prop/direct/P1225'), ('label', 'U.S. National Archives Identifier')]\n",
      "[('prop', 'http://www.wikidata.org/prop/direct/P1417'), ('label', 'Encyclopædia Britannica Online ID')]\n",
      "[('prop', 'http://www.wikidata.org/prop/direct/P1424'), ('label', \"topic's main template\")]\n",
      "[('prop', 'http://www.wikidata.org/prop/direct/P1709'), ('label', 'equivalent class')]\n",
      "[('prop', 'http://www.wikidata.org/prop/direct/P1963'), ('label', 'properties for this type')]\n",
      "[('prop', 'http://www.wikidata.org/prop/direct/P279'), ('label', 'subclass of')]\n",
      "[('prop', 'http://www.wikidata.org/prop/direct/P31'), ('label', 'instance of')]\n",
      "[('prop', 'http://www.wikidata.org/prop/direct/P3417'), ('label', 'Quora topic ID')]\n",
      "[('prop', 'http://www.wikidata.org/prop/direct/P373'), ('label', 'Commons category')]\n",
      "[('prop', 'http://www.wikidata.org/prop/direct/P425'), ('label', 'field of this occupation')]\n",
      "[('prop', 'http://www.wikidata.org/prop/direct/P4946'), ('label', 'Library of Congress Demographic Group Terms ID')]\n",
      "[('prop', 'http://www.wikidata.org/prop/direct/P6186'), ('label', 'category for eponymous categories')]\n",
      "[('prop', 'http://www.wikidata.org/prop/direct/P646'), ('label', 'Freebase ID')]\n",
      "[('prop', 'http://www.wikidata.org/prop/direct/P8408'), ('label', 'KBpedia ID')]\n",
      "[('prop', 'http://www.wikidata.org/prop/direct/P8814'), ('label', 'WordNet 3.1 Synset ID')]\n",
      "[('prop', 'http://www.wikidata.org/prop/direct/P910'), ('label', \"topic's main category\")]\n",
      "17\n"
     ]
    }
   ],
   "source": [
    "queryString = \"\"\"\n",
    "SELECT DISTINCT ?prop ?label\n",
    "WHERE {   \n",
    "   wd:Q10871364 ?prop ?obj .\n",
    "   ?prop sc:name ?label\n",
    "}\n",
    "LIMIT 25\n",
    "\"\"\"\n",
    "\n",
    "print(\"Results\")\n",
    "x=run_query(queryString)"
   ]
  },
  {
   "cell_type": "markdown",
   "id": "8a51a38a-d146-4d73-bf75-4a6120ba821e",
   "metadata": {
    "tags": []
   },
   "source": [
    "### Get all the objects connected with \"drafted by\" (wdt:P647) to \"Micheal Jordan\" (wd:Q41421)"
   ]
  },
  {
   "cell_type": "code",
   "execution_count": 266,
   "id": "9ef9ebe5",
   "metadata": {},
   "outputs": [
    {
     "name": "stdout",
     "output_type": "stream",
     "text": [
      "Results\n",
      "[('uri', 'http://www.wikidata.org/entity/Q128109'), ('label', 'Chicago Bulls')]\n",
      "1\n"
     ]
    }
   ],
   "source": [
    "queryString = \"\"\"\n",
    "SELECT DISTINCT ?uri ?label\n",
    "WHERE {   \n",
    "   wd:Q41421 wdt:P647 ?uri.   \n",
    "   ?uri sc:name ?label .   \n",
    "}\n",
    "\"\"\"\n",
    "print(\"Results\")\n",
    "x=run_query(queryString)"
   ]
  },
  {
   "cell_type": "markdown",
   "id": "3506f37e-1325-4013-b2ff-dbd6ae72e98a",
   "metadata": {
    "tags": []
   },
   "source": [
    "### Get all data property of \"Chicago Bulls\" (wd:Q128109)"
   ]
  },
  {
   "cell_type": "code",
   "execution_count": 267,
   "id": "f21aa63e-ff03-4a3a-b489-dba19b80fce1",
   "metadata": {},
   "outputs": [
    {
     "name": "stdout",
     "output_type": "stream",
     "text": [
      "Results\n",
      "[('property', 'http://www.wikidata.org/prop/direct/P1417'), ('label', 'Encyclopædia Britannica Online ID')]\n",
      "[('property', 'http://www.wikidata.org/prop/direct/P1449'), ('label', 'nickname')]\n",
      "[('property', 'http://www.wikidata.org/prop/direct/P2002'), ('label', 'Twitter username')]\n",
      "[('property', 'http://www.wikidata.org/prop/direct/P214'), ('label', 'VIAF ID')]\n",
      "[('property', 'http://www.wikidata.org/prop/direct/P2397'), ('label', 'YouTube channel ID')]\n",
      "[('property', 'http://www.wikidata.org/prop/direct/P244'), ('label', 'Library of Congress authority ID')]\n",
      "[('property', 'http://www.wikidata.org/prop/direct/P3221'), ('label', 'New York Times topic ID')]\n",
      "[('property', 'http://www.wikidata.org/prop/direct/P3417'), ('label', 'Quora topic ID')]\n",
      "[('property', 'http://www.wikidata.org/prop/direct/P373'), ('label', 'Commons category')]\n",
      "[('property', 'http://www.wikidata.org/prop/direct/P4013'), ('label', 'Giphy username')]\n",
      "[('property', 'http://www.wikidata.org/prop/direct/P571'), ('label', 'inception')]\n",
      "[('property', 'http://www.wikidata.org/prop/direct/P646'), ('label', 'Freebase ID')]\n",
      "[('property', 'http://www.wikidata.org/prop/direct/P7157'), ('label', 'The Top Tens ID')]\n",
      "[('property', 'http://www.wikidata.org/prop/direct/P7859'), ('label', 'WorldCat Identities ID')]\n",
      "[('property', 'http://www.wikidata.org/prop/direct/P8309'), ('label', 'Yle topic ID')]\n",
      "[('property', 'http://www.wikidata.org/prop/direct/P8672'), ('label', 'Twitter topic ID')]\n",
      "[('property', 'http://www.wikidata.org/prop/direct/P8687'), ('label', 'social media followers')]\n",
      "17\n"
     ]
    }
   ],
   "source": [
    "queryString = \"\"\"\n",
    "SELECT DISTINCT ?property ?label\n",
    "WHERE {   \n",
    "   wd:Q128109 ?property ?object .\n",
    "   ?property sc:name ?label .\n",
    "   FILTER(isLiteral(?object)) .   \n",
    "}\n",
    "\"\"\"\n",
    "print(\"Results\")\n",
    "x=run_query(queryString)"
   ]
  },
  {
   "cell_type": "markdown",
   "id": "fd023bf6-79ee-47e7-bff6-6d4bf78f4656",
   "metadata": {
    "tags": []
   },
   "source": [
    "### Get all data property of \"Chicago Bulls\"  (wd:Q128109) that do not contain ID"
   ]
  },
  {
   "cell_type": "code",
   "execution_count": 88,
   "id": "2d13795b-b5c7-4c81-80a2-0e75800d8cb6",
   "metadata": {},
   "outputs": [
    {
     "name": "stdout",
     "output_type": "stream",
     "text": [
      "Results\n",
      "[('property', 'http://www.wikidata.org/prop/direct/P1449'), ('label', 'nickname')]\n",
      "[('property', 'http://www.wikidata.org/prop/direct/P2002'), ('label', 'Twitter username')]\n",
      "[('property', 'http://www.wikidata.org/prop/direct/P373'), ('label', 'Commons category')]\n",
      "[('property', 'http://www.wikidata.org/prop/direct/P4013'), ('label', 'Giphy username')]\n",
      "[('property', 'http://www.wikidata.org/prop/direct/P571'), ('label', 'inception')]\n",
      "[('property', 'http://www.wikidata.org/prop/direct/P8687'), ('label', 'social media followers')]\n",
      "6\n"
     ]
    }
   ],
   "source": [
    "queryString = \"\"\"\n",
    "SELECT DISTINCT ?property ?label\n",
    "WHERE {   \n",
    "   wd:Q128109 ?property ?object .\n",
    "   ?property sc:name ?label .\n",
    "   FILTER(isLiteral(?object)) .\n",
    "   FILTER REGEX(?label, \"^((?!ID).)*$\") . \n",
    "}\n",
    "\"\"\"\n",
    "print(\"Results\")\n",
    "x=run_query(queryString)"
   ]
  },
  {
   "cell_type": "markdown",
   "id": "568e24d1-f5cd-4fc6-a9cc-88d85111e6cb",
   "metadata": {
    "tags": []
   },
   "source": [
    "### Get the class of \"Chicago Bulls\" (wd:Q128109)"
   ]
  },
  {
   "cell_type": "code",
   "execution_count": 91,
   "id": "1ad34a81-261a-4417-9763-6d16d4720563",
   "metadata": {},
   "outputs": [
    {
     "name": "stdout",
     "output_type": "stream",
     "text": [
      "Results\n",
      "[('class', 'http://www.wikidata.org/entity/Q13393265'), ('label', 'basketball team')]\n",
      "1\n"
     ]
    }
   ],
   "source": [
    "queryString = \"\"\"\n",
    "SELECT DISTINCT ?class ?label\n",
    "WHERE {   \n",
    "   wd:Q128109 wdt:P31 ?class .\n",
    "   ?class sc:name ?label .     \n",
    "}\n",
    "\"\"\"\n",
    "print(\"Results\")\n",
    "x=run_query(queryString)"
   ]
  },
  {
   "cell_type": "markdown",
   "id": "46126146-9ba3-43ff-be5e-419dc98a2461",
   "metadata": {
    "tags": []
   },
   "source": [
    "### Get all object properties of \"Chicago Bulls\"  (wd:Q128109)"
   ]
  },
  {
   "cell_type": "code",
   "execution_count": 92,
   "id": "2c32e2f2-0fbe-4e94-8925-807ae5b40e0e",
   "metadata": {},
   "outputs": [
    {
     "name": "stdout",
     "output_type": "stream",
     "text": [
      "Results\n",
      "[('property', 'http://www.wikidata.org/prop/direct/P115'), ('label', 'home venue')]\n",
      "[('property', 'http://www.wikidata.org/prop/direct/P118'), ('label', 'league')]\n",
      "[('property', 'http://www.wikidata.org/prop/direct/P127'), ('label', 'owned by')]\n",
      "[('property', 'http://www.wikidata.org/prop/direct/P154'), ('label', 'logo image')]\n",
      "[('property', 'http://www.wikidata.org/prop/direct/P159'), ('label', 'headquarters location')]\n",
      "[('property', 'http://www.wikidata.org/prop/direct/P17'), ('label', 'country')]\n",
      "[('property', 'http://www.wikidata.org/prop/direct/P18'), ('label', 'image')]\n",
      "[('property', 'http://www.wikidata.org/prop/direct/P286'), ('label', 'head coach')]\n",
      "[('property', 'http://www.wikidata.org/prop/direct/P31'), ('label', 'instance of')]\n",
      "[('property', 'http://www.wikidata.org/prop/direct/P361'), ('label', 'part of')]\n",
      "[('property', 'http://www.wikidata.org/prop/direct/P641'), ('label', 'sport')]\n",
      "[('property', 'http://www.wikidata.org/prop/direct/P822'), ('label', 'mascot')]\n",
      "[('property', 'http://www.wikidata.org/prop/direct/P856'), ('label', 'official website')]\n",
      "[('property', 'http://www.wikidata.org/prop/direct/P859'), ('label', 'sponsor')]\n",
      "[('property', 'http://www.wikidata.org/prop/direct/P910'), ('label', \"topic's main category\")]\n",
      "15\n"
     ]
    }
   ],
   "source": [
    "queryString = \"\"\"\n",
    "SELECT DISTINCT ?property ?label\n",
    "WHERE {   \n",
    "   wd:Q128109 ?property ?object .\n",
    "   ?property sc:name ?label .\n",
    "   FILTER(!isLiteral(?object)) .   \n",
    "}\n",
    "\"\"\"\n",
    "\n",
    "print(\"Results\")\n",
    "x=run_query(queryString)"
   ]
  },
  {
   "cell_type": "markdown",
   "id": "7f2e647f-97cf-48e7-a1b9-544f2e3c2b97",
   "metadata": {
    "tags": []
   },
   "source": [
    "### Get all the classes connected to \"Chicago Bulls\"  (wd:Q128109)"
   ]
  },
  {
   "cell_type": "code",
   "execution_count": 93,
   "id": "e8453bd5-1152-47c2-b6d8-0771fb7bf411",
   "metadata": {},
   "outputs": [
    {
     "name": "stdout",
     "output_type": "stream",
     "text": [
      "Results\n",
      "[('objectClass', 'http://www.wikidata.org/entity/Q1489259'), ('label', 'superpower')]\n",
      "[('objectClass', 'http://www.wikidata.org/entity/Q99541706'), ('label', 'historical unrecognized state')]\n",
      "[('objectClass', 'http://www.wikidata.org/entity/Q18536323'), ('label', 'basketball league')]\n",
      "[('objectClass', 'http://www.wikidata.org/entity/Q15986354'), ('label', 'basketball association')]\n",
      "[('objectClass', 'http://www.wikidata.org/entity/Q1093829'), ('label', 'city of the United States')]\n",
      "[('objectClass', 'http://www.wikidata.org/entity/Q13406554'), ('label', 'sports competition')]\n",
      "[('objectClass', 'http://www.wikidata.org/entity/Q1520223'), ('label', 'constitutional republic')]\n",
      "[('objectClass', 'http://www.wikidata.org/entity/Q1549591'), ('label', 'big city')]\n",
      "[('objectClass', 'http://www.wikidata.org/entity/Q15991290'), ('label', 'professional sports league')]\n",
      "[('objectClass', 'http://www.wikidata.org/entity/Q1637706'), ('label', 'million city')]\n",
      "[('objectClass', 'http://www.wikidata.org/entity/Q212434'), ('label', 'Olympic sport')]\n",
      "[('objectClass', 'http://www.wikidata.org/entity/Q31629'), ('label', 'type of sport')]\n",
      "[('objectClass', 'http://www.wikidata.org/entity/Q3624078'), ('label', 'sovereign state')]\n",
      "[('objectClass', 'http://www.wikidata.org/entity/Q4167836'), ('label', 'Wikimedia category')]\n",
      "[('objectClass', 'http://www.wikidata.org/entity/Q4830453'), ('label', 'business')]\n",
      "[('objectClass', 'http://www.wikidata.org/entity/Q483110'), ('label', 'stadium')]\n",
      "[('objectClass', 'http://www.wikidata.org/entity/Q5'), ('label', 'human')]\n",
      "[('objectClass', 'http://www.wikidata.org/entity/Q512187'), ('label', 'federal republic')]\n",
      "[('objectClass', 'http://www.wikidata.org/entity/Q5255892'), ('label', 'democratic republic')]\n",
      "[('objectClass', 'http://www.wikidata.org/entity/Q62049'), ('label', 'county seat')]\n",
      "[('objectClass', 'http://www.wikidata.org/entity/Q6256'), ('label', 'country')]\n",
      "[('objectClass', 'http://www.wikidata.org/entity/Q7094076'), ('label', 'online database')]\n",
      "[('objectClass', 'http://www.wikidata.org/entity/Q891723'), ('label', 'public company')]\n",
      "[('objectClass', 'http://www.wikidata.org/entity/Q46970'), ('label', 'airline')]\n",
      "[('objectClass', 'http://www.wikidata.org/entity/Q386208'), ('label', 'mascot character')]\n",
      "25\n"
     ]
    }
   ],
   "source": [
    "queryString = \"\"\"\n",
    "SELECT DISTINCT ?objectClass ?label\n",
    "WHERE {   \n",
    "   wd:Q128109 ?property ?object .\n",
    "   ?object wdt:P31 ?objectClass .\n",
    "   ?objectClass sc:name ?label .\n",
    "   FILTER(!isLiteral(?object)) .   \n",
    "}\n",
    "\"\"\"\n",
    "print(\"Results\")\n",
    "x=run_query(queryString)"
   ]
  },
  {
   "cell_type": "markdown",
   "id": "ccf7c8c3-8397-4290-b9ea-31d414e45a2d",
   "metadata": {
    "tags": []
   },
   "source": [
    "### Get all the couples (object property - list of the classes of the objects that are connected to \"Chicago Bulls\"  (wd:Q128109) through that object property)"
   ]
  },
  {
   "cell_type": "code",
   "execution_count": 95,
   "id": "7dab1ec2-5cc7-4d0d-ab04-0678b5f1c9b0",
   "metadata": {},
   "outputs": [
    {
     "name": "stdout",
     "output_type": "stream",
     "text": [
      "Results\n",
      "[('property', 'http://www.wikidata.org/prop/direct/P361'), ('labelProperty', 'part of'), ('objectsClasses', 'http://www.wikidata.org/entity/Q13406554'), ('labelsObjectsClasses', 'sports competition')]\n",
      "[('property', 'http://www.wikidata.org/prop/direct/P859'), ('labelProperty', 'sponsor'), ('objectsClasses', 'http://www.wikidata.org/entity/Q4830453,http://www.wikidata.org/entity/Q891723,http://www.wikidata.org/entity/Q46970'), ('labelsObjectsClasses', 'business,public company,airline')]\n",
      "[('property', 'http://www.wikidata.org/prop/direct/P17'), ('labelProperty', 'country'), ('objectsClasses', 'http://www.wikidata.org/entity/Q1489259,http://www.wikidata.org/entity/Q99541706,http://www.wikidata.org/entity/Q1520223,http://www.wikidata.org/entity/Q3624078,http://www.wikidata.org/entity/Q512187,http://www.wikidata.org/entity/Q5255892,http://www.wikidata.org/entity/Q6256'), ('labelsObjectsClasses', 'superpower,historical unrecognized state,constitutional republic,sovereign state,federal republic,democratic republic,country')]\n",
      "[('property', 'http://www.wikidata.org/prop/direct/P118'), ('labelProperty', 'league'), ('objectsClasses', 'http://www.wikidata.org/entity/Q18536323,http://www.wikidata.org/entity/Q15986354,http://www.wikidata.org/entity/Q15991290,http://www.wikidata.org/entity/Q7094076'), ('labelsObjectsClasses', 'basketball league,basketball association,professional sports league,online database')]\n",
      "[('property', 'http://www.wikidata.org/prop/direct/P822'), ('labelProperty', 'mascot'), ('objectsClasses', 'http://www.wikidata.org/entity/Q386208'), ('labelsObjectsClasses', 'mascot character')]\n",
      "[('property', 'http://www.wikidata.org/prop/direct/P641'), ('labelProperty', 'sport'), ('objectsClasses', 'http://www.wikidata.org/entity/Q212434,http://www.wikidata.org/entity/Q31629'), ('labelsObjectsClasses', 'Olympic sport,type of sport')]\n",
      "[('property', 'http://www.wikidata.org/prop/direct/P127'), ('labelProperty', 'owned by'), ('objectsClasses', 'http://www.wikidata.org/entity/Q5,http://www.wikidata.org/entity/Q5'), ('labelsObjectsClasses', 'human,human')]\n",
      "[('property', 'http://www.wikidata.org/prop/direct/P115'), ('labelProperty', 'home venue'), ('objectsClasses', 'http://www.wikidata.org/entity/Q483110'), ('labelsObjectsClasses', 'stadium')]\n",
      "[('property', 'http://www.wikidata.org/prop/direct/P286'), ('labelProperty', 'head coach'), ('objectsClasses', 'http://www.wikidata.org/entity/Q5'), ('labelsObjectsClasses', 'human')]\n",
      "[('property', 'http://www.wikidata.org/prop/direct/P910'), ('labelProperty', \"topic's main category\"), ('objectsClasses', 'http://www.wikidata.org/entity/Q4167836'), ('labelsObjectsClasses', 'Wikimedia category')]\n",
      "[('property', 'http://www.wikidata.org/prop/direct/P159'), ('labelProperty', 'headquarters location'), ('objectsClasses', 'http://www.wikidata.org/entity/Q1093829,http://www.wikidata.org/entity/Q1549591,http://www.wikidata.org/entity/Q1637706,http://www.wikidata.org/entity/Q62049'), ('labelsObjectsClasses', 'city of the United States,big city,million city,county seat')]\n",
      "11\n"
     ]
    }
   ],
   "source": [
    "queryString = \"\"\"\n",
    "SELECT DISTINCT ?property ?labelProperty (GROUP_CONCAT(?objectClass ; separator = \",\")  AS ?objectsClasses) (GROUP_CONCAT(?labelObjectClass ; separator = \",\")  AS ?labelsObjectsClasses)\n",
    "WHERE \n",
    "{   \n",
    "   wd:Q128109 ?property ?object .  \n",
    "   ?object wdt:P31 ?objectClass .\n",
    "   \n",
    "   # Labels\n",
    "   ?property sc:name ?labelProperty .      \n",
    "   ?objectClass sc:name ?labelObjectClass .\n",
    "   \n",
    "   FILTER(!isLiteral(?object)) .   \n",
    "}GROUP BY ?property ?labelProperty\n",
    "\"\"\"\n",
    "print(\"Results\")\n",
    "x=run_query(queryString)"
   ]
  },
  {
   "cell_type": "markdown",
   "id": "340b3177-53ed-42a2-ba3b-7afdbd634b03",
   "metadata": {
    "tags": []
   },
   "source": [
    "### Get all the couples (object property - list of the  objects that are connected to \"Chicago Bulls\"  (wd:Q128109) through that object property)"
   ]
  },
  {
   "cell_type": "code",
   "execution_count": 96,
   "id": "06a72778-5ace-4039-bc37-1b803d9198e7",
   "metadata": {},
   "outputs": [
    {
     "name": "stdout",
     "output_type": "stream",
     "text": [
      "Results\n",
      "[('property', 'http://www.wikidata.org/prop/direct/P361'), ('labelProperty', 'part of'), ('objects', 'http://www.wikidata.org/entity/Q745984'), ('labelsObjects', 'Central Division')]\n",
      "[('property', 'http://www.wikidata.org/prop/direct/P859'), ('labelProperty', 'sponsor'), ('objects', 'http://www.wikidata.org/entity/Q174769,http://www.wikidata.org/entity/Q37189902'), ('labelsObjects', 'United Airlines,Mr. Submarine')]\n",
      "[('property', 'http://www.wikidata.org/prop/direct/P17'), ('labelProperty', 'country'), ('objects', 'http://www.wikidata.org/entity/Q30'), ('labelsObjects', 'United States of America')]\n",
      "[('property', 'http://www.wikidata.org/prop/direct/P118'), ('labelProperty', 'league'), ('objects', 'http://www.wikidata.org/entity/Q155223'), ('labelsObjects', 'National Basketball Association')]\n",
      "[('property', 'http://www.wikidata.org/prop/direct/P822'), ('labelProperty', 'mascot'), ('objects', 'http://www.wikidata.org/entity/Q4890070'), ('labelsObjects', 'Benny the Bull')]\n",
      "[('property', 'http://www.wikidata.org/prop/direct/P641'), ('labelProperty', 'sport'), ('objects', 'http://www.wikidata.org/entity/Q5372'), ('labelsObjects', 'basketball')]\n",
      "[('property', 'http://www.wikidata.org/prop/direct/P127'), ('labelProperty', 'owned by'), ('objects', 'http://www.wikidata.org/entity/Q5273097,http://www.wikidata.org/entity/Q2662152'), ('labelsObjects', 'Dick Klein,Jerry Reinsdorf')]\n",
      "[('property', 'http://www.wikidata.org/prop/direct/P115'), ('labelProperty', 'home venue'), ('objects', 'http://www.wikidata.org/entity/Q639975'), ('labelsObjects', 'United Center')]\n",
      "[('property', 'http://www.wikidata.org/prop/direct/P286'), ('labelProperty', 'head coach'), ('objects', 'http://www.wikidata.org/entity/Q580808'), ('labelsObjects', 'Fred Hoiberg')]\n",
      "[('property', 'http://www.wikidata.org/prop/direct/P31'), ('labelProperty', 'instance of'), ('objects', 'http://www.wikidata.org/entity/Q13393265'), ('labelsObjects', 'basketball team')]\n",
      "[('property', 'http://www.wikidata.org/prop/direct/P910'), ('labelProperty', \"topic's main category\"), ('objects', 'http://www.wikidata.org/entity/Q8879406'), ('labelsObjects', 'Category:Chicago Bulls')]\n",
      "[('property', 'http://www.wikidata.org/prop/direct/P159'), ('labelProperty', 'headquarters location'), ('objects', 'http://www.wikidata.org/entity/Q1297'), ('labelsObjects', 'Chicago')]\n",
      "12\n"
     ]
    }
   ],
   "source": [
    "queryString = \"\"\"\n",
    "SELECT DISTINCT ?property ?labelProperty (GROUP_CONCAT(?object ; separator = \",\")  AS ?objects) (GROUP_CONCAT(?labelObject; separator = \",\")  AS ?labelsObjects)\n",
    "WHERE \n",
    "{   \n",
    "   wd:Q128109 ?property ?object .  \n",
    " \n",
    "   # Labels\n",
    "   ?property sc:name ?labelProperty .      \n",
    "   ?object sc:name ?labelObject\n",
    "   \n",
    "   FILTER(!isLiteral(?object)) .   \n",
    "}GROUP BY ?property ?labelProperty\n",
    "LIMIT 50\n",
    "\"\"\"\n",
    "print(\"Results\")\n",
    "x=run_query(queryString)"
   ]
  },
  {
   "cell_type": "markdown",
   "id": "ee012f13-6772-48fb-a21f-508c0c472396",
   "metadata": {
    "tags": []
   },
   "source": [
    "### Get all data property of \"basketball team\"  (wd:Q13393265) that do not contain ID"
   ]
  },
  {
   "cell_type": "code",
   "execution_count": 97,
   "id": "daf0f0ac-efb0-4209-a902-395496e2c8d8",
   "metadata": {},
   "outputs": [
    {
     "name": "stdout",
     "output_type": "stream",
     "text": [
      "Results\n",
      "[('property', 'http://www.wikidata.org/prop/direct/P3417'), ('label', 'Quora topic ID')]\n",
      "[('property', 'http://www.wikidata.org/prop/direct/P373'), ('label', 'Commons category')]\n",
      "[('property', 'http://www.wikidata.org/prop/direct/P8408'), ('label', 'KBpedia ID')]\n",
      "3\n"
     ]
    }
   ],
   "source": [
    "queryString = \"\"\"\n",
    "SELECT DISTINCT ?property ?label\n",
    "WHERE {   \n",
    "   wd:Q13393265 ?property ?object .\n",
    "   ?property sc:name ?label .\n",
    "   FILTER(isLiteral(?object)) .   \n",
    "}\n",
    "\"\"\"\n",
    "print(\"Results\")\n",
    "x=run_query(queryString)"
   ]
  },
  {
   "cell_type": "markdown",
   "id": "d95d2139-8d75-43ff-8d42-7a29947a746a",
   "metadata": {
    "tags": []
   },
   "source": [
    "### Get all data property of \"basketball team\" (wd:Q13393265) that do not contain ID"
   ]
  },
  {
   "cell_type": "code",
   "execution_count": 98,
   "id": "3e20d23e-d2af-4690-a3e4-35b5ef9f19fd",
   "metadata": {},
   "outputs": [
    {
     "name": "stdout",
     "output_type": "stream",
     "text": [
      "Results\n",
      "[('property', 'http://www.wikidata.org/prop/direct/P373'), ('label', 'Commons category')]\n",
      "1\n"
     ]
    }
   ],
   "source": [
    "queryString = \"\"\"\n",
    "SELECT DISTINCT ?property ?label\n",
    "WHERE {   \n",
    "   wd:Q13393265 ?property ?object .\n",
    "   ?property sc:name ?label .\n",
    "   FILTER(isLiteral(?object)) .\n",
    "   FILTER REGEX(?label, \"^((?!ID).)*$\") . \n",
    "}\n",
    "\"\"\"\n",
    "print(\"Results\")\n",
    "x=run_query(queryString)"
   ]
  },
  {
   "cell_type": "markdown",
   "id": "76f7ccd3-89fe-4c97-a0b0-97b515b42878",
   "metadata": {
    "tags": []
   },
   "source": [
    "### Get the class of \"basketball team\" (wd:Q13393265)"
   ]
  },
  {
   "cell_type": "code",
   "execution_count": 100,
   "id": "118bff48-2cf5-4c6a-8407-251640283ec1",
   "metadata": {},
   "outputs": [
    {
     "name": "stdout",
     "output_type": "stream",
     "text": [
      "Results\n",
      "Empty\n"
     ]
    }
   ],
   "source": [
    "queryString = \"\"\"\n",
    "SELECT DISTINCT ?class ?label\n",
    "WHERE {   \n",
    "   wd:Q13393265 wdt:P31 ?class .\n",
    "   ?class sc:name ?label .     \n",
    "}\n",
    "\"\"\"\n",
    "print(\"Results\")\n",
    "x=run_query(queryString)"
   ]
  },
  {
   "cell_type": "markdown",
   "id": "8c7b0682-158c-4599-af04-d507026ff35f",
   "metadata": {
    "tags": []
   },
   "source": [
    "### Get all object properties of \"basketball team\"  (wd:Q13393265)"
   ]
  },
  {
   "cell_type": "code",
   "execution_count": 101,
   "id": "aeb03b9b-4db1-43a6-a6bc-cc5f7592da63",
   "metadata": {},
   "outputs": [
    {
     "name": "stdout",
     "output_type": "stream",
     "text": [
      "Results\n",
      "[('property', 'http://www.wikidata.org/prop/direct/P1424'), ('label', \"topic's main template\")]\n",
      "[('property', 'http://www.wikidata.org/prop/direct/P279'), ('label', 'subclass of')]\n",
      "[('property', 'http://www.wikidata.org/prop/direct/P527'), ('label', 'has part')]\n",
      "[('property', 'http://www.wikidata.org/prop/direct/P641'), ('label', 'sport')]\n",
      "[('property', 'http://www.wikidata.org/prop/direct/P910'), ('label', \"topic's main category\")]\n",
      "5\n"
     ]
    }
   ],
   "source": [
    "queryString = \"\"\"\n",
    "SELECT DISTINCT ?property ?label\n",
    "WHERE {   \n",
    "   wd:Q13393265 ?property ?object .\n",
    "   ?property sc:name ?label .\n",
    "   FILTER(!isLiteral(?object)) .   \n",
    "}\n",
    "\"\"\"\n",
    "\n",
    "print(\"Results\")\n",
    "x=run_query(queryString)"
   ]
  },
  {
   "cell_type": "markdown",
   "id": "3703605d-b252-47cb-a47a-facb7ee61ab5",
   "metadata": {
    "tags": []
   },
   "source": [
    "### Get all the classes connected to \"basketball team\"  (wd:Q13393265)"
   ]
  },
  {
   "cell_type": "code",
   "execution_count": 105,
   "id": "947f6f1d-0882-4449-9463-bece2a71d69e",
   "metadata": {},
   "outputs": [
    {
     "name": "stdout",
     "output_type": "stream",
     "text": [
      "Results\n",
      "[('objectClass', 'http://www.wikidata.org/entity/Q212434'), ('label', 'Olympic sport')]\n",
      "[('objectClass', 'http://www.wikidata.org/entity/Q28640'), ('label', 'profession')]\n",
      "[('objectClass', 'http://www.wikidata.org/entity/Q31629'), ('label', 'type of sport')]\n",
      "[('objectClass', 'http://www.wikidata.org/entity/Q4167836'), ('label', 'Wikimedia category')]\n",
      "[('objectClass', 'http://www.wikidata.org/entity/Q16334295'), ('label', 'group of humans')]\n",
      "[('objectClass', 'http://www.wikidata.org/entity/Q19887878'), ('label', 'Wikimedia infobox template')]\n",
      "6\n"
     ]
    }
   ],
   "source": [
    "queryString = \"\"\"\n",
    "SELECT DISTINCT ?objectClass ?label\n",
    "WHERE {   \n",
    "   wd:Q13393265 ?property ?object .\n",
    "   ?object wdt:P31 ?objectClass .\n",
    "   ?objectClass sc:name ?label .\n",
    "   FILTER(!isLiteral(?object)) .   \n",
    "}\n",
    "\"\"\"\n",
    "print(\"Results\")\n",
    "x=run_query(queryString)"
   ]
  },
  {
   "cell_type": "markdown",
   "id": "2086852e-fc81-457b-b62b-bb90ac92ae3a",
   "metadata": {
    "tags": []
   },
   "source": [
    "### Get all the couples (object property - list of the classes of the objects that are connected to \"basketball team\"  (wd:Q13393265) through that object property)"
   ]
  },
  {
   "cell_type": "code",
   "execution_count": 106,
   "id": "cdb94e7c-02f0-44e3-99ba-bd3fdcd6408c",
   "metadata": {},
   "outputs": [
    {
     "name": "stdout",
     "output_type": "stream",
     "text": [
      "Results\n",
      "[('property', 'http://www.wikidata.org/prop/direct/P527'), ('labelProperty', 'has part'), ('objectsClasses', 'http://www.wikidata.org/entity/Q28640,http://www.wikidata.org/entity/Q28640,http://www.wikidata.org/entity/Q16334295'), ('labelsObjectsClasses', 'profession,profession,group of humans')]\n",
      "[('property', 'http://www.wikidata.org/prop/direct/P1424'), ('labelProperty', \"topic's main template\"), ('objectsClasses', 'http://www.wikidata.org/entity/Q19887878'), ('labelsObjectsClasses', 'Wikimedia infobox template')]\n",
      "[('property', 'http://www.wikidata.org/prop/direct/P641'), ('labelProperty', 'sport'), ('objectsClasses', 'http://www.wikidata.org/entity/Q212434,http://www.wikidata.org/entity/Q31629'), ('labelsObjectsClasses', 'Olympic sport,type of sport')]\n",
      "[('property', 'http://www.wikidata.org/prop/direct/P910'), ('labelProperty', \"topic's main category\"), ('objectsClasses', 'http://www.wikidata.org/entity/Q4167836'), ('labelsObjectsClasses', 'Wikimedia category')]\n",
      "4\n"
     ]
    }
   ],
   "source": [
    "queryString = \"\"\"\n",
    "SELECT DISTINCT ?property ?labelProperty (GROUP_CONCAT(?objectClass ; separator = \",\")  AS ?objectsClasses) (GROUP_CONCAT(?labelObjectClass ; separator = \",\")  AS ?labelsObjectsClasses)\n",
    "WHERE \n",
    "{   \n",
    "   wd:Q13393265 ?property ?object .  \n",
    "   ?object wdt:P31 ?objectClass .\n",
    "   \n",
    "   # Labels\n",
    "   ?property sc:name ?labelProperty .      \n",
    "   ?objectClass sc:name ?labelObjectClass .\n",
    "   \n",
    "   FILTER(!isLiteral(?object)) .   \n",
    "}GROUP BY ?property ?labelProperty\n",
    "\"\"\"\n",
    "print(\"Results\")\n",
    "x=run_query(queryString)"
   ]
  },
  {
   "cell_type": "markdown",
   "id": "7ae3f3b8-7b46-4f97-a0a5-448141678cd7",
   "metadata": {
    "tags": []
   },
   "source": [
    "### Get all the couples (object property - list of the  objects that are connected to \"basketball team\"  (wd:Q13393265) through that object property)"
   ]
  },
  {
   "cell_type": "code",
   "execution_count": 107,
   "id": "c7214e3a-fbe2-4409-8fbf-e06bcb4259e4",
   "metadata": {},
   "outputs": [
    {
     "name": "stdout",
     "output_type": "stream",
     "text": [
      "Results\n",
      "[('property', 'http://www.wikidata.org/prop/direct/P527'), ('labelProperty', 'has part'), ('objects', 'http://www.wikidata.org/entity/Q51747567,http://www.wikidata.org/entity/Q3665646,http://www.wikidata.org/entity/Q5137571'), ('labelsObjects', 'squad,basketball player,basketball coach')]\n",
      "[('property', 'http://www.wikidata.org/prop/direct/P1424'), ('labelProperty', \"topic's main template\"), ('objects', 'http://www.wikidata.org/entity/Q5648512'), ('labelsObjects', 'Template:Infobox basketball club')]\n",
      "[('property', 'http://www.wikidata.org/prop/direct/P641'), ('labelProperty', 'sport'), ('objects', 'http://www.wikidata.org/entity/Q5372'), ('labelsObjects', 'basketball')]\n",
      "[('property', 'http://www.wikidata.org/prop/direct/P910'), ('labelProperty', \"topic's main category\"), ('objects', 'http://www.wikidata.org/entity/Q5647277'), ('labelsObjects', 'Category:Basketball teams')]\n",
      "[('property', 'http://www.wikidata.org/prop/direct/P279'), ('labelProperty', 'subclass of'), ('objects', 'http://www.wikidata.org/entity/Q847017,http://www.wikidata.org/entity/Q12973014'), ('labelsObjects', 'sports club,sports team')]\n",
      "5\n"
     ]
    }
   ],
   "source": [
    "queryString = \"\"\"\n",
    "SELECT DISTINCT ?property ?labelProperty (GROUP_CONCAT(?object ; separator = \",\")  AS ?objects) (GROUP_CONCAT(?labelObject; separator = \",\")  AS ?labelsObjects)\n",
    "WHERE \n",
    "{   \n",
    "   wd:Q13393265 ?property ?object .  \n",
    " \n",
    "   # Labels\n",
    "   ?property sc:name ?labelProperty .      \n",
    "   ?object sc:name ?labelObject\n",
    "   \n",
    "   FILTER(!isLiteral(?object)) .   \n",
    "}GROUP BY ?property ?labelProperty\n",
    "\"\"\"\n",
    "print(\"Results\")\n",
    "x=run_query(queryString)"
   ]
  },
  {
   "cell_type": "markdown",
   "id": "5fbac65a-af1e-40ea-8471-a5682197383b",
   "metadata": {
    "tags": []
   },
   "source": [
    "### Get all the objects connected to \"basketball team\" (wd:Q13393265) with \"sport\" (wdt:P641)"
   ]
  },
  {
   "cell_type": "code",
   "execution_count": 108,
   "id": "9178b2f9-e03b-447e-8a01-a46b67820d06",
   "metadata": {},
   "outputs": [
    {
     "name": "stdout",
     "output_type": "stream",
     "text": [
      "Results\n",
      "[('sport', 'http://www.wikidata.org/entity/Q5372'), ('labelSport', 'basketball'), ('sportClass', 'http://www.wikidata.org/entity/Q212434'), ('labelSportClass', 'Olympic sport')]\n",
      "[('sport', 'http://www.wikidata.org/entity/Q5372'), ('labelSport', 'basketball'), ('sportClass', 'http://www.wikidata.org/entity/Q31629'), ('labelSportClass', 'type of sport')]\n",
      "2\n"
     ]
    }
   ],
   "source": [
    "queryString = \"\"\"\n",
    "SELECT DISTINCT ?sport ?labelSport ?sportClass ?labelSportClass\n",
    "WHERE \n",
    "{   \n",
    "   wd:Q13393265 wdt:P641 ?sport .\n",
    "   ?sport sc:name ?labelSport ;\n",
    "          wdt:P31 ?sportClass .\n",
    "   ?sportClass sc:name ?labelSportClass .   \n",
    "}\n",
    "\n",
    "\"\"\"\n",
    "print(\"Results\")\n",
    "x=run_query(queryString)"
   ]
  },
  {
   "cell_type": "markdown",
   "id": "b55f41bd-b171-4d14-b51b-da3874937674",
   "metadata": {
    "tags": []
   },
   "source": [
    "### Final Query"
   ]
  },
  {
   "cell_type": "markdown",
   "id": "b9c7ae89",
   "metadata": {},
   "source": [
    "Final query for this task"
   ]
  },
  {
   "cell_type": "code",
   "execution_count": 268,
   "id": "1c1bf77f",
   "metadata": {},
   "outputs": [
    {
     "name": "stdout",
     "output_type": "stream",
     "text": [
      "Results\n",
      "[('sport', 'http://www.wikidata.org/entity/Q5372'), ('labelSport', 'basketball')]\n",
      "1\n"
     ]
    }
   ],
   "source": [
    "queryString = \"\"\"\n",
    "SELECT DISTINCT ?sport ?labelSport \n",
    "WHERE \n",
    "{   \n",
    "   wd:Q13393265 wdt:P641 ?sport .\n",
    "   ?sport sc:name ?labelSport .\n",
    "}\n",
    "\n",
    "\"\"\"\n",
    "print(\"Results\")\n",
    "x=run_query(queryString)"
   ]
  },
  {
   "cell_type": "markdown",
   "id": "3a3b44f7",
   "metadata": {
    "tags": []
   },
   "source": [
    "## Task 3\n",
    "Identify the BGP for basketball team."
   ]
  },
  {
   "cell_type": "markdown",
   "id": "7fc4629e-cb28-4a95-aaee-f88d6074331d",
   "metadata": {
    "tags": []
   },
   "source": [
    "### Final Query"
   ]
  },
  {
   "cell_type": "markdown",
   "id": "d4dcd996",
   "metadata": {},
   "source": [
    "Final query for this task"
   ]
  },
  {
   "cell_type": "code",
   "execution_count": 278,
   "id": "6fa2d4cd-ca36-4f6d-adf7-2826f3b2af84",
   "metadata": {},
   "outputs": [
    {
     "name": "stdout",
     "output_type": "stream",
     "text": [
      "Results\n",
      "[('class', 'http://www.wikidata.org/entity/Q13393265'), ('label', 'basketball team')]\n",
      "1\n"
     ]
    }
   ],
   "source": [
    "queryString = \"\"\"\n",
    "SELECT DISTINCT ?class ?label\n",
    "WHERE {   \n",
    "   wd:Q128109 wdt:P31 ?class .\n",
    "   ?class sc:name ?label .     \n",
    "}\n",
    "\"\"\"\n",
    "print(\"Results\")\n",
    "x=run_query(queryString)"
   ]
  },
  {
   "cell_type": "markdown",
   "id": "1352c9ac",
   "metadata": {
    "tags": []
   },
   "source": [
    "## Task 4\n",
    "Return all french basketball teams born before 1930 (the result set must be a list of triples basketball team IRI, label and year of inception)."
   ]
  },
  {
   "cell_type": "markdown",
   "id": "4e3d3580-afce-4df9-9875-413cdca9eedb",
   "metadata": {
    "tags": []
   },
   "source": [
    "### Get the value connected with \"inception\" (wdt:P571) for \"Chicago Bulls\" (wd:Q128109)"
   ]
  },
  {
   "cell_type": "code",
   "execution_count": 120,
   "id": "ac97062f-28ec-4e2f-8b8c-7f2d641fd333",
   "metadata": {},
   "outputs": [
    {
     "name": "stdout",
     "output_type": "stream",
     "text": [
      "Results\n",
      "[('inception', '1966-01-01T00:00:00Z')]\n",
      "1\n"
     ]
    }
   ],
   "source": [
    "queryString = \"\"\"\n",
    "SELECT DISTINCT ?inception\n",
    "WHERE {   \n",
    "     wd:Q128109 wdt:P571 ?inception .\n",
    "}\n",
    "\"\"\"\n",
    "print(\"Results\")\n",
    "x=run_query(queryString)"
   ]
  },
  {
   "cell_type": "markdown",
   "id": "685ef37a-5b99-4607-b6e4-751b3cd86e26",
   "metadata": {
    "tags": []
   },
   "source": [
    "### Get all data property of \"country\" (wd:Q6256)"
   ]
  },
  {
   "cell_type": "code",
   "execution_count": 121,
   "id": "d432c1f6-8355-40ce-83ca-e347fb955ae4",
   "metadata": {},
   "outputs": [
    {
     "name": "stdout",
     "output_type": "stream",
     "text": [
      "Results\n",
      "[('property', 'http://www.wikidata.org/prop/direct/P1014'), ('label', 'Art & Architecture Thesaurus ID')]\n",
      "[('property', 'http://www.wikidata.org/prop/direct/P1036'), ('label', 'Dewey Decimal Classification')]\n",
      "[('property', 'http://www.wikidata.org/prop/direct/P1051'), ('label', 'PSH ID')]\n",
      "[('property', 'http://www.wikidata.org/prop/direct/P1245'), ('label', 'OmegaWiki Defined Meaning')]\n",
      "[('property', 'http://www.wikidata.org/prop/direct/P1282'), ('label', 'OpenStreetMap tag or key')]\n",
      "[('property', 'http://www.wikidata.org/prop/direct/P1417'), ('label', 'Encyclopædia Britannica Online ID')]\n",
      "[('property', 'http://www.wikidata.org/prop/direct/P227'), ('label', 'GND ID')]\n",
      "[('property', 'http://www.wikidata.org/prop/direct/P2347'), ('label', 'YSO ID')]\n",
      "[('property', 'http://www.wikidata.org/prop/direct/P2452'), ('label', 'GeoNames feature code')]\n",
      "[('property', 'http://www.wikidata.org/prop/direct/P2581'), ('label', 'BabelNet ID')]\n",
      "[('property', 'http://www.wikidata.org/prop/direct/P3219'), ('label', 'Encyclopædia Universalis ID')]\n",
      "[('property', 'http://www.wikidata.org/prop/direct/P3417'), ('label', 'Quora topic ID')]\n",
      "[('property', 'http://www.wikidata.org/prop/direct/P3553'), ('label', 'Zhihu topic ID')]\n",
      "[('property', 'http://www.wikidata.org/prop/direct/P373'), ('label', 'Commons category')]\n",
      "[('property', 'http://www.wikidata.org/prop/direct/P3827'), ('label', 'JSTOR topic ID')]\n",
      "[('property', 'http://www.wikidata.org/prop/direct/P4527'), ('label', 'UK Parliament thesaurus ID')]\n",
      "[('property', 'http://www.wikidata.org/prop/direct/P5250'), ('label', 'IAB code')]\n",
      "[('property', 'http://www.wikidata.org/prop/direct/P646'), ('label', 'Freebase ID')]\n",
      "[('property', 'http://www.wikidata.org/prop/direct/P7033'), ('label', 'Australian Educational Vocabulary ID')]\n",
      "[('property', 'http://www.wikidata.org/prop/direct/P7497'), ('label', 'Wolfram Language entity type')]\n",
      "[('property', 'http://www.wikidata.org/prop/direct/P7502'), ('label', 'Golden ID')]\n",
      "[('property', 'http://www.wikidata.org/prop/direct/P7771'), ('label', 'PersonalData.IO ID')]\n",
      "[('property', 'http://www.wikidata.org/prop/direct/P7818'), ('label', 'French Vikidia ID')]\n",
      "[('property', 'http://www.wikidata.org/prop/direct/P7827'), ('label', 'Spanish Vikidia ID')]\n",
      "[('property', 'http://www.wikidata.org/prop/direct/P8408'), ('label', 'KBpedia ID')]\n",
      "[('property', 'http://www.wikidata.org/prop/direct/P8834'), ('label', 'MetaSat ID')]\n",
      "26\n"
     ]
    }
   ],
   "source": [
    "queryString = \"\"\"\n",
    "SELECT DISTINCT ?property ?label\n",
    "WHERE {   \n",
    "   wd:Q6256 ?property ?object .\n",
    "   ?property sc:name ?label .\n",
    "   FILTER(isLiteral(?object)) .   \n",
    "}\n",
    "\"\"\"\n",
    "print(\"Results\")\n",
    "x=run_query(queryString)"
   ]
  },
  {
   "cell_type": "markdown",
   "id": "5da4aafc-7852-49e0-8e28-943befed2688",
   "metadata": {
    "tags": []
   },
   "source": [
    "### Get all data property of \"country\"  (wd:Q6256) that do not contain ID"
   ]
  },
  {
   "cell_type": "code",
   "execution_count": 122,
   "id": "f1fc32f8-d3c8-4c70-bb83-402abebba644",
   "metadata": {},
   "outputs": [
    {
     "name": "stdout",
     "output_type": "stream",
     "text": [
      "Results\n",
      "[('property', 'http://www.wikidata.org/prop/direct/P1036'), ('label', 'Dewey Decimal Classification')]\n",
      "[('property', 'http://www.wikidata.org/prop/direct/P1245'), ('label', 'OmegaWiki Defined Meaning')]\n",
      "[('property', 'http://www.wikidata.org/prop/direct/P1282'), ('label', 'OpenStreetMap tag or key')]\n",
      "[('property', 'http://www.wikidata.org/prop/direct/P2452'), ('label', 'GeoNames feature code')]\n",
      "[('property', 'http://www.wikidata.org/prop/direct/P373'), ('label', 'Commons category')]\n",
      "[('property', 'http://www.wikidata.org/prop/direct/P5250'), ('label', 'IAB code')]\n",
      "[('property', 'http://www.wikidata.org/prop/direct/P7497'), ('label', 'Wolfram Language entity type')]\n",
      "7\n"
     ]
    }
   ],
   "source": [
    "queryString = \"\"\"\n",
    "SELECT DISTINCT ?property ?label\n",
    "WHERE {   \n",
    "   wd:Q6256 ?property ?object .\n",
    "   ?property sc:name ?label .\n",
    "   FILTER(isLiteral(?object)) .\n",
    "   FILTER REGEX(?label, \"^((?!ID).)*$\") . \n",
    "}\n",
    "\"\"\"\n",
    "print(\"Results\")\n",
    "x=run_query(queryString)"
   ]
  },
  {
   "cell_type": "markdown",
   "id": "907c077a-ab5d-473e-b38c-a732019ca67c",
   "metadata": {
    "tags": []
   },
   "source": [
    "### Get the class of \"country\" (wd:Q6256)"
   ]
  },
  {
   "cell_type": "code",
   "execution_count": 123,
   "id": "5a0321c1-8cac-4f96-ad0f-75f210a95f36",
   "metadata": {},
   "outputs": [
    {
     "name": "stdout",
     "output_type": "stream",
     "text": [
      "Results\n",
      "[('class', 'http://www.wikidata.org/entity/Q104098715'), ('label', 'territorial entity type')]\n",
      "1\n"
     ]
    }
   ],
   "source": [
    "queryString = \"\"\"\n",
    "SELECT DISTINCT ?class ?label\n",
    "WHERE {   \n",
    "   wd:Q6256 wdt:P31 ?class .\n",
    "   ?class sc:name ?label .     \n",
    "}\n",
    "\"\"\"\n",
    "print(\"Results\")\n",
    "x=run_query(queryString)"
   ]
  },
  {
   "cell_type": "markdown",
   "id": "28fe31f4-5fa0-4efe-8118-233e0c57cb13",
   "metadata": {
    "tags": []
   },
   "source": [
    "### Get all object properties of \"country\" (wd:Q6256)"
   ]
  },
  {
   "cell_type": "code",
   "execution_count": 124,
   "id": "7ecb9c72-184a-48bc-a665-19784d1d6b21",
   "metadata": {},
   "outputs": [
    {
     "name": "stdout",
     "output_type": "stream",
     "text": [
      "Results\n",
      "[('property', 'http://www.wikidata.org/prop/direct/P1151'), ('label', \"topic's main Wikimedia portal\")]\n",
      "[('property', 'http://www.wikidata.org/prop/direct/P1424'), ('label', \"topic's main template\")]\n",
      "[('property', 'http://www.wikidata.org/prop/direct/P150'), ('label', 'contains administrative territorial entity')]\n",
      "[('property', 'http://www.wikidata.org/prop/direct/P1687'), ('label', 'Wikidata property')]\n",
      "[('property', 'http://www.wikidata.org/prop/direct/P1709'), ('label', 'equivalent class')]\n",
      "[('property', 'http://www.wikidata.org/prop/direct/P18'), ('label', 'image')]\n",
      "[('property', 'http://www.wikidata.org/prop/direct/P1889'), ('label', 'different from')]\n",
      "[('property', 'http://www.wikidata.org/prop/direct/P1963'), ('label', 'properties for this type')]\n",
      "[('property', 'http://www.wikidata.org/prop/direct/P2670'), ('label', 'has parts of the class')]\n",
      "[('property', 'http://www.wikidata.org/prop/direct/P279'), ('label', 'subclass of')]\n",
      "[('property', 'http://www.wikidata.org/prop/direct/P2888'), ('label', 'exact match')]\n",
      "[('property', 'http://www.wikidata.org/prop/direct/P2959'), ('label', 'permanent duplicated item')]\n",
      "[('property', 'http://www.wikidata.org/prop/direct/P31'), ('label', 'instance of')]\n",
      "[('property', 'http://www.wikidata.org/prop/direct/P3896'), ('label', 'geoshape')]\n",
      "[('property', 'http://www.wikidata.org/prop/direct/P443'), ('label', 'pronunciation audio')]\n",
      "[('property', 'http://www.wikidata.org/prop/direct/P460'), ('label', 'said to be the same as')]\n",
      "[('property', 'http://www.wikidata.org/prop/direct/P5008'), ('label', 'on focus list of Wikimedia project')]\n",
      "[('property', 'http://www.wikidata.org/prop/direct/P527'), ('label', 'has part')]\n",
      "[('property', 'http://www.wikidata.org/prop/direct/P5869'), ('label', 'model item')]\n",
      "[('property', 'http://www.wikidata.org/prop/direct/P6104'), ('label', 'maintained by WikiProject')]\n",
      "[('property', 'http://www.wikidata.org/prop/direct/P6186'), ('label', 'category for eponymous categories')]\n",
      "[('property', 'http://www.wikidata.org/prop/direct/P910'), ('label', \"topic's main category\")]\n",
      "[('property', 'http://www.wikidata.org/prop/direct/P973'), ('label', 'described at URL')]\n",
      "23\n"
     ]
    }
   ],
   "source": [
    "queryString = \"\"\"\n",
    "SELECT DISTINCT ?property ?label\n",
    "WHERE {   \n",
    "   wd:Q6256 ?property ?object .\n",
    "   ?property sc:name ?label .\n",
    "   FILTER(!isLiteral(?object)) .   \n",
    "}\n",
    "\"\"\"\n",
    "\n",
    "print(\"Results\")\n",
    "x=run_query(queryString)"
   ]
  },
  {
   "cell_type": "markdown",
   "id": "f292d6b1-3050-49ad-b5bd-ce08b09ef81c",
   "metadata": {
    "tags": []
   },
   "source": [
    "### Get all the classes connected to \"country\" (wd:Q6256)"
   ]
  },
  {
   "cell_type": "code",
   "execution_count": 125,
   "id": "80fc118e-2b8b-479f-82e4-ba7278630ddd",
   "metadata": {},
   "outputs": [
    {
     "name": "stdout",
     "output_type": "stream",
     "text": [
      "Results\n",
      "[('objectClass', 'http://www.wikidata.org/entity/Q24239898'), ('label', 'Wikidata property for Wikivoyage listings')]\n",
      "[('objectClass', 'http://www.wikidata.org/entity/Q24710760'), ('label', 'Wikidata property of quantity type indicating a percentage')]\n",
      "[('objectClass', 'http://www.wikidata.org/entity/Q16695773'), ('label', 'WikiProject')]\n",
      "[('objectClass', 'http://www.wikidata.org/entity/Q22964785'), ('label', 'Wikidata property related to events')]\n",
      "[('objectClass', 'http://www.wikidata.org/entity/Q21286738'), ('label', 'Wikimedia permanent duplicate item')]\n",
      "[('objectClass', 'http://www.wikidata.org/entity/Q214339'), ('label', 'role')]\n",
      "[('objectClass', 'http://www.wikidata.org/entity/Q22984026'), ('label', 'Wikidata property related to law and justice')]\n",
      "[('objectClass', 'http://www.wikidata.org/entity/Q22964372'), ('label', 'Wikidata property related to sport organizations')]\n",
      "[('objectClass', 'http://www.wikidata.org/entity/Q22965078'), ('label', 'Wikidata property for items about musical works')]\n",
      "[('objectClass', 'http://www.wikidata.org/entity/Q23069616'), ('label', 'Wikidata property related to road transport')]\n",
      "[('objectClass', 'http://www.wikidata.org/entity/Q23779665'), ('label', 'Wikidata property related to maritime and inland waterway transport')]\n",
      "[('objectClass', 'http://www.wikidata.org/entity/Q11266439'), ('label', 'Wikimedia template')]\n",
      "[('objectClass', 'http://www.wikidata.org/entity/Q13406463'), ('label', 'Wikimedia list article')]\n",
      "[('objectClass', 'http://www.wikidata.org/entity/Q151885'), ('label', 'concept')]\n",
      "[('objectClass', 'http://www.wikidata.org/entity/Q15647814'), ('label', 'Wikimedia administration category')]\n",
      "[('objectClass', 'http://www.wikidata.org/entity/Q30432511'), ('label', 'metacategory in Wikimedia projects')]\n",
      "[('objectClass', 'http://www.wikidata.org/entity/Q3624078'), ('label', 'sovereign state')]\n",
      "[('objectClass', 'http://www.wikidata.org/entity/Q4167836'), ('label', 'Wikimedia category')]\n",
      "[('objectClass', 'http://www.wikidata.org/entity/Q4209223'), ('label', 'Rechtsstaat')]\n",
      "[('objectClass', 'http://www.wikidata.org/entity/Q43702'), ('label', 'federation')]\n",
      "[('objectClass', 'http://www.wikidata.org/entity/Q619610'), ('label', 'social state')]\n",
      "[('objectClass', 'http://www.wikidata.org/entity/Q63791824'), ('label', 'country bordering the Baltic Sea')]\n",
      "[('objectClass', 'http://www.wikidata.org/entity/Q7270'), ('label', 'republic')]\n",
      "[('objectClass', 'http://www.wikidata.org/entity/Q14204246'), ('label', 'Wikimedia project page')]\n",
      "[('objectClass', 'http://www.wikidata.org/entity/Q24017414'), ('label', 'second-order class')]\n",
      "[('objectClass', 'http://www.wikidata.org/entity/Q18610173'), ('label', 'Wikidata property to link to Commons')]\n",
      "[('objectClass', 'http://www.wikidata.org/entity/Q19887878'), ('label', 'Wikimedia infobox template')]\n",
      "[('objectClass', 'http://www.wikidata.org/entity/Q26940804'), ('label', 'Wikidata property linking to a representative image')]\n",
      "[('objectClass', 'http://www.wikidata.org/entity/Q21077852'), ('label', 'Wikidata property for physical quantities')]\n",
      "[('objectClass', 'http://www.wikidata.org/entity/Q18615777'), ('label', 'Wikidata property to indicate a location')]\n",
      "[('objectClass', 'http://www.wikidata.org/entity/Q70564278'), ('label', 'Wikidata property used as \"depicts\" (P180) qualifier on Commons')]\n",
      "[('objectClass', 'http://www.wikidata.org/entity/Q18667213'), ('label', 'Wikidata property about Wikimedia categories')]\n",
      "[('objectClass', 'http://www.wikidata.org/entity/Q106360873'), ('label', 'Wikidata property related to New York City')]\n",
      "[('objectClass', 'http://www.wikidata.org/entity/Q15617994'), ('label', 'designation for an administrative territorial entity')]\n",
      "[('objectClass', 'http://www.wikidata.org/entity/Q4663903'), ('label', 'Wikimedia portal')]\n",
      "[('objectClass', 'http://www.wikidata.org/entity/Q106589826'), ('label', 'Finnish National Land Survey place type')]\n",
      "[('objectClass', 'http://www.wikidata.org/entity/Q27038669'), ('label', 'Wikidata property for an international standard identifier')]\n",
      "[('objectClass', 'http://www.wikidata.org/entity/Q62589316'), ('label', 'Wikidata property for an identifier that suggests notability')]\n",
      "[('objectClass', 'http://www.wikidata.org/entity/Q22984475'), ('label', 'Wikidata property related to politics')]\n",
      "[('objectClass', 'http://www.wikidata.org/entity/Q18608993'), ('label', 'Wikidata property for items about organizations')]\n",
      "[('objectClass', 'http://www.wikidata.org/entity/Q18616576'), ('label', 'Wikidata property')]\n",
      "[('objectClass', 'http://www.wikidata.org/entity/Q18608756'), ('label', 'Wikidata property for birth or death')]\n",
      "[('objectClass', 'http://www.wikidata.org/entity/Q18608871'), ('label', 'Wikidata property for items about people')]\n",
      "[('objectClass', 'http://www.wikidata.org/entity/Q18618644'), ('label', 'Wikidata property for items about works')]\n",
      "[('objectClass', 'http://www.wikidata.org/entity/Q26935994'), ('label', 'Wikidata property encoding a vCard value')]\n",
      "[('objectClass', 'http://www.wikidata.org/entity/Q51122237'), ('label', 'Wikidata property related to burials, graves, and memorials')]\n",
      "[('objectClass', 'http://www.wikidata.org/entity/Q54275221'), ('label', 'Wikidata property for lexicographic forms')]\n",
      "[('objectClass', 'http://www.wikidata.org/entity/Q24075706'), ('label', 'Wikidata property for authority control, with reciprocal use of Wikidata')]\n",
      "[('objectClass', 'http://www.wikidata.org/entity/Q57955292'), ('label', 'Wikidata property for items about people or organisations')]\n",
      "[('objectClass', 'http://www.wikidata.org/entity/Q55978503'), ('label', 'Wikidata property for authority control for countries')]\n",
      "[('objectClass', 'http://www.wikidata.org/entity/Q99566281'), ('label', 'Wikidata property for an identifier value that can be replaced')]\n",
      "[('objectClass', 'http://www.wikidata.org/entity/Q18616084'), ('label', 'Wikidata property to indicate a language')]\n",
      "[('objectClass', 'http://www.wikidata.org/entity/Q19829914'), ('label', 'Wikidata property for places')]\n",
      "[('objectClass', 'http://www.wikidata.org/entity/Q19847637'), ('label', 'Wikidata property for an identifier')]\n",
      "[('objectClass', 'http://www.wikidata.org/entity/Q28106456'), ('label', 'Wikidata property related to sports people')]\n",
      "[('objectClass', 'http://www.wikidata.org/entity/Q56457408'), ('label', 'Wikidata property for items about positions')]\n",
      "[('objectClass', 'http://www.wikidata.org/entity/Q19829908'), ('label', 'Wikidata property for authority control for places')]\n",
      "[('objectClass', 'http://www.wikidata.org/entity/Q55977691'), ('label', 'Wikidata property for authority control for administrative subdivisions')]\n",
      "[('objectClass', 'http://www.wikidata.org/entity/Q19643892'), ('label', 'Wikidata property to indicate a name')]\n",
      "[('objectClass', 'http://www.wikidata.org/entity/Q22997934'), ('label', 'Wikidata property related to government and state')]\n",
      "[('objectClass', 'http://www.wikidata.org/entity/Q21451178'), ('label', 'Wikidata property related to economics')]\n",
      "[('objectClass', 'http://www.wikidata.org/entity/Q22984494'), ('label', 'Wikidata property related to demography')]\n",
      "[('objectClass', 'http://www.wikidata.org/entity/Q22965162'), ('label', 'Wikidata property for items about films')]\n",
      "[('objectClass', 'http://www.wikidata.org/entity/Q30225619'), ('label', 'Wikidata property related to Olympism')]\n",
      "[('objectClass', 'http://www.wikidata.org/entity/Q105946994'), ('label', 'Wikidata property to identify news website topics')]\n",
      "[('objectClass', 'http://www.wikidata.org/entity/Q84764641'), ('label', 'Wikidata property associated with websites')]\n",
      "[('objectClass', 'http://www.wikidata.org/entity/Q63871189'), ('label', 'Wikidata property related to sports teams/clubs')]\n",
      "[('objectClass', 'http://www.wikidata.org/entity/Q99543626'), ('label', 'Wikidata property for an identifier value that can be re-assigned')]\n",
      "[('objectClass', 'http://www.wikidata.org/entity/Q24262056'), ('label', 'Wikidata property for Wikivoyage')]\n",
      "69\n"
     ]
    }
   ],
   "source": [
    "queryString = \"\"\"\n",
    "SELECT DISTINCT ?objectClass ?label\n",
    "WHERE {   \n",
    "   wd:Q6256 ?property ?object .\n",
    "   ?object wdt:P31 ?objectClass .\n",
    "   ?objectClass sc:name ?label .\n",
    "   FILTER(!isLiteral(?object)) .   \n",
    "}\n",
    "\"\"\"\n",
    "print(\"Results\")\n",
    "x=run_query(queryString)"
   ]
  },
  {
   "cell_type": "markdown",
   "id": "48b2286a-e33e-4688-b21e-942ac6b592c2",
   "metadata": {
    "tags": []
   },
   "source": [
    "### Get all the couples (object property - list of the classes of the objects that are connected to \"country\" (wd:Q6256) through that object property)"
   ]
  },
  {
   "cell_type": "code",
   "execution_count": 126,
   "id": "a5f8bae6-8ece-45ae-8915-ddad7e3c1ee3",
   "metadata": {},
   "outputs": [
    {
     "name": "stdout",
     "output_type": "stream",
     "text": [
      "Results\n",
      "[('property', 'http://www.wikidata.org/prop/direct/P527'), ('labelProperty', 'has part'), ('objectsClasses', 'http://www.wikidata.org/entity/Q15617994'), ('labelsObjectsClasses', 'designation for an administrative territorial entity')]\n",
      "[('property', 'http://www.wikidata.org/prop/direct/P5008'), ('labelProperty', 'on focus list of Wikimedia project'), ('objectsClasses', 'http://www.wikidata.org/entity/Q16695773,http://www.wikidata.org/entity/Q13406463,http://www.wikidata.org/entity/Q14204246'), ('labelsObjectsClasses', 'WikiProject,Wikimedia list article,Wikimedia project page')]\n",
      "[('property', 'http://www.wikidata.org/prop/direct/P5869'), ('labelProperty', 'model item'), ('objectsClasses', 'http://www.wikidata.org/entity/Q3624078,http://www.wikidata.org/entity/Q4209223,http://www.wikidata.org/entity/Q43702,http://www.wikidata.org/entity/Q619610,http://www.wikidata.org/entity/Q63791824,http://www.wikidata.org/entity/Q7270'), ('labelsObjectsClasses', 'sovereign state,Rechtsstaat,federation,social state,country bordering the Baltic Sea,republic')]\n",
      "[('property', 'http://www.wikidata.org/prop/direct/P1424'), ('labelProperty', \"topic's main template\"), ('objectsClasses', 'http://www.wikidata.org/entity/Q11266439,http://www.wikidata.org/entity/Q19887878'), ('labelsObjectsClasses', 'Wikimedia template,Wikimedia infobox template')]\n",
      "[('property', 'http://www.wikidata.org/prop/direct/P2959'), ('labelProperty', 'permanent duplicated item'), ('objectsClasses', 'http://www.wikidata.org/entity/Q21286738'), ('labelsObjectsClasses', 'Wikimedia permanent duplicate item')]\n",
      "[('property', 'http://www.wikidata.org/prop/direct/P2670'), ('labelProperty', 'has parts of the class'), ('objectsClasses', 'http://www.wikidata.org/entity/Q214339'), ('labelsObjectsClasses', 'role')]\n",
      "[('property', 'http://www.wikidata.org/prop/direct/P6104'), ('labelProperty', 'maintained by WikiProject'), ('objectsClasses', 'http://www.wikidata.org/entity/Q16695773'), ('labelsObjectsClasses', 'WikiProject')]\n",
      "[('property', 'http://www.wikidata.org/prop/direct/P6186'), ('labelProperty', 'category for eponymous categories'), ('objectsClasses', 'http://www.wikidata.org/entity/Q15647814,http://www.wikidata.org/entity/Q30432511'), ('labelsObjectsClasses', 'Wikimedia administration category,metacategory in Wikimedia projects')]\n",
      "[('property', 'http://www.wikidata.org/prop/direct/P460'), ('labelProperty', 'said to be the same as'), ('objectsClasses', 'http://www.wikidata.org/entity/Q106589826'), ('labelsObjectsClasses', 'Finnish National Land Survey place type')]\n",
      "[('property', 'http://www.wikidata.org/prop/direct/P1889'), ('labelProperty', 'different from'), ('objectsClasses', 'http://www.wikidata.org/entity/Q151885,http://www.wikidata.org/entity/Q106589826'), ('labelsObjectsClasses', 'concept,Finnish National Land Survey place type')]\n",
      "[('property', 'http://www.wikidata.org/prop/direct/P1963'), ('labelProperty', 'properties for this type'), ('objectsClasses', 'http://www.wikidata.org/entity/Q24239898,http://www.wikidata.org/entity/Q24239898,http://www.wikidata.org/entity/Q24710760,http://www.wikidata.org/entity/Q22964785,http://www.wikidata.org/entity/Q22984026,http://www.wikidata.org/entity/Q22964372,http://www.wikidata.org/entity/Q22965078,http://www.wikidata.org/entity/Q23069616,http://www.wikidata.org/entity/Q23779665,http://www.wikidata.org/entity/Q18610173,http://www.wikidata.org/entity/Q18610173,http://www.wikidata.org/entity/Q18610173,http://www.wikidata.org/entity/Q18610173,http://www.wikidata.org/entity/Q18610173,http://www.wikidata.org/entity/Q26940804,http://www.wikidata.org/entity/Q26940804,http://www.wikidata.org/entity/Q26940804,http://www.wikidata.org/entity/Q21077852,http://www.wikidata.org/entity/Q18615777,http://www.wikidata.org/entity/Q18615777,http://www.wikidata.org/entity/Q18615777,http://www.wikidata.org/entity/Q18615777,http://www.wikidata.org/entity/Q18615777,http://www.wikidata.org/entity/Q18615777,http://www.wikidata.org/entity/Q18615777,http://www.wikidata.org/entity/Q18615777,http://www.wikidata.org/entity/Q18615777,http://www.wikidata.org/entity/Q70564278,http://www.wikidata.org/entity/Q18667213,http://www.wikidata.org/entity/Q18667213,http://www.wikidata.org/entity/Q18667213,http://www.wikidata.org/entity/Q18667213,http://www.wikidata.org/entity/Q18667213,http://www.wikidata.org/entity/Q106360873,http://www.wikidata.org/entity/Q27038669,http://www.wikidata.org/entity/Q27038669,http://www.wikidata.org/entity/Q27038669,http://www.wikidata.org/entity/Q62589316,http://www.wikidata.org/entity/Q62589316,http://www.wikidata.org/entity/Q22984475,http://www.wikidata.org/entity/Q22984475,http://www.wikidata.org/entity/Q22984475,http://www.wikidata.org/entity/Q22984475,http://www.wikidata.org/entity/Q18608993,http://www.wikidata.org/entity/Q18608993,http://www.wikidata.org/entity/Q18608993,http://www.wikidata.org/entity/Q18608993,http://www.wikidata.org/entity/Q18608993,http://www.wikidata.org/entity/Q18616576,http://www.wikidata.org/entity/Q18616576,http://www.wikidata.org/entity/Q18608756,http://www.wikidata.org/entity/Q18608756,http://www.wikidata.org/entity/Q18608756,http://www.wikidata.org/entity/Q18608871,http://www.wikidata.org/entity/Q18608871,http://www.wikidata.org/entity/Q18618644,http://www.wikidata.org/entity/Q26935994,http://www.wikidata.org/entity/Q26935994,http://www.wikidata.org/entity/Q26935994,http://www.wikidata.org/entity/Q26935994,http://www.wikidata.org/entity/Q51122237,http://www.wikidata.org/entity/Q54275221,http://www.wikidata.org/entity/Q24075706,http://www.wikidata.org/entity/Q57955292,http://www.wikidata.org/entity/Q55978503,http://www.wikidata.org/entity/Q55978503,http://www.wikidata.org/entity/Q55978503,http://www.wikidata.org/entity/Q55978503,http://www.wikidata.org/entity/Q55978503,http://www.wikidata.org/entity/Q55978503,http://www.wikidata.org/entity/Q55978503,http://www.wikidata.org/entity/Q99566281,http://www.wikidata.org/entity/Q99566281,http://www.wikidata.org/entity/Q18616084,http://www.wikidata.org/entity/Q18616084,http://www.wikidata.org/entity/Q19829914,http://www.wikidata.org/entity/Q19829914,http://www.wikidata.org/entity/Q19829914,http://www.wikidata.org/entity/Q19829914,http://www.wikidata.org/entity/Q19829914,http://www.wikidata.org/entity/Q19829914,http://www.wikidata.org/entity/Q19829914,http://www.wikidata.org/entity/Q19829914,http://www.wikidata.org/entity/Q19847637,http://www.wikidata.org/entity/Q56457408,http://www.wikidata.org/entity/Q19829908,http://www.wikidata.org/entity/Q19829908,http://www.wikidata.org/entity/Q55977691,http://www.wikidata.org/entity/Q19643892,http://www.wikidata.org/entity/Q22997934,http://www.wikidata.org/entity/Q22997934,http://www.wikidata.org/entity/Q22997934,http://www.wikidata.org/entity/Q22997934,http://www.wikidata.org/entity/Q22997934,http://www.wikidata.org/entity/Q22997934,http://www.wikidata.org/entity/Q22997934,http://www.wikidata.org/entity/Q22997934,http://www.wikidata.org/entity/Q22997934,http://www.wikidata.org/entity/Q22997934,http://www.wikidata.org/entity/Q21451178,http://www.wikidata.org/entity/Q21451178,http://www.wikidata.org/entity/Q21451178,http://www.wikidata.org/entity/Q21451178,http://www.wikidata.org/entity/Q22984494,http://www.wikidata.org/entity/Q22965162,http://www.wikidata.org/entity/Q30225619,http://www.wikidata.org/entity/Q105946994,http://www.wikidata.org/entity/Q105946994,http://www.wikidata.org/entity/Q84764641,http://www.wikidata.org/entity/Q99543626,http://www.wikidata.org/entity/Q24262056'), ('labelsObjectsClasses', 'Wikidata property for Wikivoyage listings,Wikidata property for Wikivoyage listings,Wikidata property of quantity type indicating a percentage,Wikidata property related to events,Wikidata property related to law and justice,Wikidata property related to sport organizations,Wikidata property for items about musical works,Wikidata property related to road transport,Wikidata property related to maritime and inland waterway transport,Wikidata property to link to Commons,Wikidata property to link to Commons,Wikidata property to link to Commons,Wikidata property to link to Commons,Wikidata property to link to Commons,Wikidata property linking to a representative image,Wikidata property linking to a representative image,Wikidata property linking to a representative image,Wikidata property for physical quantities,Wikidata property to indicate a location,Wikidata property to indicate a location,Wikidata property to indicate a location,Wikidata property to indicate a location,Wikidata property to indicate a location,Wikidata property to indicate a location,Wikidata property to indicate a location,Wikidata property to indicate a location,Wikidata property to indicate a location,Wikidata property used as \"depicts\" (P180) qualifier on Commons,Wikidata property about Wikimedia categories,Wikidata property about Wikimedia categories,Wikidata property about Wikimedia categories,Wikidata property about Wikimedia categories,Wikidata property about Wikimedia categories,Wikidata property related to New York City,Wikidata property for an international standard identifier,Wikidata property for an international standard identifier,Wikidata property for an international standard identifier,Wikidata property for an identifier that suggests notability,Wikidata property for an identifier that suggests notability,Wikidata property related to politics,Wikidata property related to politics,Wikidata property related to politics,Wikidata property related to politics,Wikidata property for items about organizations,Wikidata property for items about organizations,Wikidata property for items about organizations,Wikidata property for items about organizations,Wikidata property for items about organizations,Wikidata property,Wikidata property,Wikidata property for birth or death,Wikidata property for birth or death,Wikidata property for birth or death,Wikidata property for items about people,Wikidata property for items about people,Wikidata property for items about works,Wikidata property encoding a vCard value,Wikidata property encoding a vCard value,Wikidata property encoding a vCard value,Wikidata property encoding a vCard value,Wikidata property related to burials, graves, and memorials,Wikidata property for lexicographic forms,Wikidata property for authority control, with reciprocal use of Wikidata,Wikidata property for items about people or organisations,Wikidata property for authority control for countries,Wikidata property for authority control for countries,Wikidata property for authority control for countries,Wikidata property for authority control for countries,Wikidata property for authority control for countries,Wikidata property for authority control for countries,Wikidata property for authority control for countries,Wikidata property for an identifier value that can be replaced,Wikidata property for an identifier value that can be replaced,Wikidata property to indicate a language,Wikidata property to indicate a language,Wikidata property for places,Wikidata property for places,Wikidata property for places,Wikidata property for places,Wikidata property for places,Wikidata property for places,Wikidata property for places,Wikidata property for places,Wikidata property for an identifier,Wikidata property for items about positions,Wikidata property for authority control for places,Wikidata property for authority control for places,Wikidata property for authority control for administrative subdivisions,Wikidata property to indicate a name,Wikidata property related to government and state,Wikidata property related to government and state,Wikidata property related to government and state,Wikidata property related to government and state,Wikidata property related to government and state,Wikidata property related to government and state,Wikidata property related to government and state,Wikidata property related to government and state,Wikidata property related to government and state,Wikidata property related to government and state,Wikidata property related to economics,Wikidata property related to economics,Wikidata property related to economics,Wikidata property related to economics,Wikidata property related to demography,Wikidata property for items about films,Wikidata property related to Olympism,Wikidata property to identify news website topics,Wikidata property to identify news website topics,Wikidata property associated with websites,Wikidata property for an identifier value that can be re-assigned,Wikidata property for Wikivoyage')]\n",
      "[('property', 'http://www.wikidata.org/prop/direct/P31'), ('labelProperty', 'instance of'), ('objectsClasses', 'http://www.wikidata.org/entity/Q24017414'), ('labelsObjectsClasses', 'second-order class')]\n",
      "[('property', 'http://www.wikidata.org/prop/direct/P910'), ('labelProperty', \"topic's main category\"), ('objectsClasses', 'http://www.wikidata.org/entity/Q4167836'), ('labelsObjectsClasses', 'Wikimedia category')]\n",
      "[('property', 'http://www.wikidata.org/prop/direct/P1687'), ('labelProperty', 'Wikidata property'), ('objectsClasses', 'http://www.wikidata.org/entity/Q70564278,http://www.wikidata.org/entity/Q70564278,http://www.wikidata.org/entity/Q70564278,http://www.wikidata.org/entity/Q18608871,http://www.wikidata.org/entity/Q18618644,http://www.wikidata.org/entity/Q26935994,http://www.wikidata.org/entity/Q19829914,http://www.wikidata.org/entity/Q28106456,http://www.wikidata.org/entity/Q63871189'), ('labelsObjectsClasses', 'Wikidata property used as \"depicts\" (P180) qualifier on Commons,Wikidata property used as \"depicts\" (P180) qualifier on Commons,Wikidata property used as \"depicts\" (P180) qualifier on Commons,Wikidata property for items about people,Wikidata property for items about works,Wikidata property encoding a vCard value,Wikidata property for places,Wikidata property related to sports people,Wikidata property related to sports teams/clubs')]\n",
      "[('property', 'http://www.wikidata.org/prop/direct/P1151'), ('labelProperty', \"topic's main Wikimedia portal\"), ('objectsClasses', 'http://www.wikidata.org/entity/Q4663903'), ('labelsObjectsClasses', 'Wikimedia portal')]\n",
      "15\n"
     ]
    }
   ],
   "source": [
    "queryString = \"\"\"\n",
    "SELECT DISTINCT ?property ?labelProperty (GROUP_CONCAT(?objectClass ; separator = \",\")  AS ?objectsClasses) (GROUP_CONCAT(?labelObjectClass ; separator = \",\")  AS ?labelsObjectsClasses)\n",
    "WHERE \n",
    "{   \n",
    "   wd:Q6256 ?property ?object .  \n",
    "   ?object wdt:P31 ?objectClass .\n",
    "   \n",
    "   # Labels\n",
    "   ?property sc:name ?labelProperty .      \n",
    "   ?objectClass sc:name ?labelObjectClass .\n",
    "   \n",
    "   FILTER(!isLiteral(?object)) .   \n",
    "}GROUP BY ?property ?labelProperty\n",
    "LIMIT 50\n",
    "\"\"\"\n",
    "print(\"Results\")\n",
    "x=run_query(queryString)"
   ]
  },
  {
   "cell_type": "markdown",
   "id": "1c785e37-7e2f-4d50-8bd9-6ebec2fae248",
   "metadata": {
    "tags": []
   },
   "source": [
    "### Get all the couples (object property - list of the  objects that are connected to \"country\" (wd:Q6256) through that object property)"
   ]
  },
  {
   "cell_type": "code",
   "execution_count": 127,
   "id": "e82b1e99-72ca-42c5-bb80-c3abf2eeeab7",
   "metadata": {},
   "outputs": [
    {
     "name": "stdout",
     "output_type": "stream",
     "text": [
      "Results\n",
      "[('property', 'http://www.wikidata.org/prop/direct/P527'), ('labelProperty', 'has part'), ('objects', 'http://www.wikidata.org/entity/Q183366'), ('labelsObjects', 'territory')]\n",
      "[('property', 'http://www.wikidata.org/prop/direct/P5008'), ('labelProperty', 'on focus list of Wikimedia project'), ('objects', 'http://www.wikidata.org/entity/Q5460604'), ('labelsObjects', 'Wikipedia:Vital articles')]\n",
      "[('property', 'http://www.wikidata.org/prop/direct/P5869'), ('labelProperty', 'model item'), ('objects', 'http://www.wikidata.org/entity/Q183'), ('labelsObjects', 'Germany')]\n",
      "[('property', 'http://www.wikidata.org/prop/direct/P1424'), ('labelProperty', \"topic's main template\"), ('objects', 'http://www.wikidata.org/entity/Q5621162'), ('labelsObjects', 'Template:Infobox country')]\n",
      "[('property', 'http://www.wikidata.org/prop/direct/P2670'), ('labelProperty', 'has parts of the class'), ('objects', 'http://www.wikidata.org/entity/Q1020994'), ('labelsObjects', 'citizen')]\n",
      "[('property', 'http://www.wikidata.org/prop/direct/P6104'), ('labelProperty', 'maintained by WikiProject'), ('objects', 'http://www.wikidata.org/entity/Q8503406'), ('labelsObjects', 'WikiProject Countries')]\n",
      "[('property', 'http://www.wikidata.org/prop/direct/P6186'), ('labelProperty', 'category for eponymous categories'), ('objects', 'http://www.wikidata.org/entity/Q5641433'), ('labelsObjects', 'Category:Categories by country')]\n",
      "[('property', 'http://www.wikidata.org/prop/direct/P460'), ('labelProperty', 'said to be the same as'), ('objects', 'http://www.wikidata.org/entity/Q7275'), ('labelsObjects', 'state')]\n",
      "[('property', 'http://www.wikidata.org/prop/direct/P1889'), ('labelProperty', 'different from'), ('objects', 'http://www.wikidata.org/entity/Q7275,http://www.wikidata.org/entity/Q231002'), ('labelsObjects', 'state,nationality')]\n",
      "[('property', 'http://www.wikidata.org/prop/direct/P1963'), ('labelProperty', 'properties for this type'), ('objects', 'http://www.wikidata.org/entity/P2046,http://www.wikidata.org/entity/P3067,http://www.wikidata.org/entity/P78,http://www.wikidata.org/entity/P935,http://www.wikidata.org/entity/P30,http://www.wikidata.org/entity/P2936,http://www.wikidata.org/entity/P138,http://www.wikidata.org/entity/P2852,http://www.wikidata.org/entity/P47,http://www.wikidata.org/entity/P610,http://www.wikidata.org/entity/P17,http://www.wikidata.org/entity/P242,http://www.wikidata.org/entity/P163,http://www.wikidata.org/entity/P37,http://www.wikidata.org/entity/P41,http://www.wikidata.org/entity/P421,http://www.wikidata.org/entity/P625,http://www.wikidata.org/entity/P85,http://www.wikidata.org/entity/P856,http://www.wikidata.org/entity/P150,http://www.wikidata.org/entity/P1465,http://www.wikidata.org/entity/P1792,http://www.wikidata.org/entity/P6,http://www.wikidata.org/entity/P209,http://www.wikidata.org/entity/P3024,http://www.wikidata.org/entity/P36,http://www.wikidata.org/entity/P298,http://www.wikidata.org/entity/P2979,http://www.wikidata.org/entity/P474,http://www.wikidata.org/entity/P1082,http://www.wikidata.org/entity/P38,http://www.wikidata.org/entity/P1464,http://www.wikidata.org/entity/P463,http://www.wikidata.org/entity/P1791,http://www.wikidata.org/entity/P443,http://www.wikidata.org/entity/P297,http://www.wikidata.org/entity/P299,http://www.wikidata.org/entity/P1566,http://www.wikidata.org/entity/P194,http://www.wikidata.org/entity/P35,http://www.wikidata.org/entity/P1081,http://www.wikidata.org/entity/P3221,http://www.wikidata.org/entity/P1622,http://www.wikidata.org/entity/P3106,http://www.wikidata.org/entity/P237,http://www.wikidata.org/entity/P1740,http://www.wikidata.org/entity/P832,http://www.wikidata.org/entity/P94,http://www.wikidata.org/entity/P1332,http://www.wikidata.org/entity/P1333,http://www.wikidata.org/entity/P1334,http://www.wikidata.org/entity/P1335,http://www.wikidata.org/entity/P2853,http://www.wikidata.org/entity/P402,http://www.wikidata.org/entity/P901,http://www.wikidata.org/entity/P984,http://www.wikidata.org/entity/P122,http://www.wikidata.org/entity/P1589,http://www.wikidata.org/entity/P1125,http://www.wikidata.org/entity/P1689,http://www.wikidata.org/entity/P2988,http://www.wikidata.org/entity/P530'), ('labelsObjects', 'area,GS1 country code,top-level Internet domain,Commons gallery,continent,language used,named after,emergency telephone number,shares border with,highest point,country,locator map image,flag,official language,flag image,located in time zone,coordinate location,anthem,official website,contains administrative territorial entity,category for people who died here,category of associated people,head of government,highest judicial authority,ITU letter code,capital,ISO 3166-1 alpha-3 code,maritime identification digits,country calling code,population,currency,category for people born here,member of,category of people buried here,pronunciation audio,ISO 3166-1 alpha-2 code,ISO 3166-1 numeric code,GeoNames ID,legislative body,head of state,Human Development Index,New York Times topic ID,driving side,Guardian topic ID,coat of arms,category for films shot at this location,public holiday,coat of arms image,coordinates of northernmost point,coordinates of southernmost point,coordinates of easternmost point,coordinates of westernmost point,electrical plug type,OpenStreetMap relation ID,FIPS 10-4 (countries and regions),IOC country code,basic form of government,lowest point,Gini coefficient,central government debt as a percent of GDP,GOST 7.67 cyrillic,diplomatic relation')]\n",
      "[('property', 'http://www.wikidata.org/prop/direct/P31'), ('labelProperty', 'instance of'), ('objects', 'http://www.wikidata.org/entity/Q104098715'), ('labelsObjects', 'territorial entity type')]\n",
      "[('property', 'http://www.wikidata.org/prop/direct/P910'), ('labelProperty', \"topic's main category\"), ('objects', 'http://www.wikidata.org/entity/Q4026570'), ('labelsObjects', 'Category:Countries')]\n",
      "[('property', 'http://www.wikidata.org/prop/direct/P1687'), ('labelProperty', 'Wikidata property'), ('objects', 'http://www.wikidata.org/entity/P17,http://www.wikidata.org/entity/P495,http://www.wikidata.org/entity/P1532,http://www.wikidata.org/entity/P27'), ('labelsObjects', 'country,country of origin,country for sport,country of citizenship')]\n",
      "[('property', 'http://www.wikidata.org/prop/direct/P150'), ('labelProperty', 'contains administrative territorial entity'), ('objects', 'http://www.wikidata.org/entity/Q10864048'), ('labelsObjects', 'first-level administrative country subdivision')]\n",
      "[('property', 'http://www.wikidata.org/prop/direct/P1151'), ('labelProperty', \"topic's main Wikimedia portal\"), ('objects', 'http://www.wikidata.org/entity/Q6988967'), ('labelsObjects', 'Portal:Countries')]\n",
      "[('property', 'http://www.wikidata.org/prop/direct/P279'), ('labelProperty', 'subclass of'), ('objects', 'http://www.wikidata.org/entity/Q1048835'), ('labelsObjects', 'political territorial entity')]\n",
      "16\n"
     ]
    }
   ],
   "source": [
    "queryString = \"\"\"\n",
    "SELECT DISTINCT ?property ?labelProperty (GROUP_CONCAT(?object ; separator = \",\")  AS ?objects) (GROUP_CONCAT(?labelObject; separator = \",\")  AS ?labelsObjects)\n",
    "WHERE \n",
    "{   \n",
    "   wd:Q6256 ?property ?object .  \n",
    " \n",
    "   # Labels\n",
    "   ?property sc:name ?labelProperty .      \n",
    "   ?object sc:name ?labelObject\n",
    "   \n",
    "   FILTER(!isLiteral(?object)) .   \n",
    "}GROUP BY ?property ?labelProperty\n",
    "LIMIT 50\n",
    "\"\"\"\n",
    "print(\"Results\")\n",
    "x=run_query(queryString)"
   ]
  },
  {
   "cell_type": "markdown",
   "id": "6242f2a9-f2aa-4f57-aa1e-a66a4ce384da",
   "metadata": {
    "tags": []
   },
   "source": [
    "### Get all data property of \"United States of America\" (wd:Q30)"
   ]
  },
  {
   "cell_type": "code",
   "execution_count": 134,
   "id": "c8d5701b-bb0f-4b31-8204-ab50fa20adbd",
   "metadata": {},
   "outputs": [
    {
     "name": "stdout",
     "output_type": "stream",
     "text": [
      "Results\n",
      "[('property', 'http://www.wikidata.org/prop/direct/P1005'), ('label', 'Portuguese National Library ID')]\n",
      "[('property', 'http://www.wikidata.org/prop/direct/P1017'), ('label', 'Vatican Library ID (former scheme)')]\n",
      "[('property', 'http://www.wikidata.org/prop/direct/P1036'), ('label', 'Dewey Decimal Classification')]\n",
      "[('property', 'http://www.wikidata.org/prop/direct/P1081'), ('label', 'Human Development Index')]\n",
      "[('property', 'http://www.wikidata.org/prop/direct/P1082'), ('label', 'population')]\n",
      "[('property', 'http://www.wikidata.org/prop/direct/P1125'), ('label', 'Gini coefficient')]\n",
      "[('property', 'http://www.wikidata.org/prop/direct/P1188'), ('label', 'Dharma Drum Institute of Liberal Arts place ID')]\n",
      "[('property', 'http://www.wikidata.org/prop/direct/P1198'), ('label', 'unemployment rate')]\n",
      "[('property', 'http://www.wikidata.org/prop/direct/P1225'), ('label', 'U.S. National Archives Identifier')]\n",
      "[('property', 'http://www.wikidata.org/prop/direct/P1245'), ('label', 'OmegaWiki Defined Meaning')]\n",
      "[('property', 'http://www.wikidata.org/prop/direct/P1273'), ('label', 'CANTIC ID')]\n",
      "[('property', 'http://www.wikidata.org/prop/direct/P1280'), ('label', 'CONOR.SI ID')]\n",
      "[('property', 'http://www.wikidata.org/prop/direct/P1281'), ('label', 'WOEID')]\n",
      "[('property', 'http://www.wikidata.org/prop/direct/P1296'), ('label', 'Gran Enciclopèdia Catalana ID')]\n",
      "[('property', 'http://www.wikidata.org/prop/direct/P1315'), ('label', 'NLA Trove ID')]\n",
      "[('property', 'http://www.wikidata.org/prop/direct/P1417'), ('label', 'Encyclopædia Britannica Online ID')]\n",
      "[('property', 'http://www.wikidata.org/prop/direct/P1438'), ('label', 'Jewish Encyclopedia ID (Russian)')]\n",
      "[('property', 'http://www.wikidata.org/prop/direct/P1448'), ('label', 'official name')]\n",
      "[('property', 'http://www.wikidata.org/prop/direct/P1451'), ('label', 'motto text')]\n",
      "[('property', 'http://www.wikidata.org/prop/direct/P1549'), ('label', 'demonym')]\n",
      "[('property', 'http://www.wikidata.org/prop/direct/P1566'), ('label', 'GeoNames ID')]\n",
      "[('property', 'http://www.wikidata.org/prop/direct/P1617'), ('label', 'BBC Things ID')]\n",
      "[('property', 'http://www.wikidata.org/prop/direct/P1667'), ('label', 'Getty Thesaurus of Geographic Names ID')]\n",
      "[('property', 'http://www.wikidata.org/prop/direct/P1705'), ('label', 'native label')]\n",
      "[('property', 'http://www.wikidata.org/prop/direct/P1813'), ('label', 'short name')]\n",
      "[('property', 'http://www.wikidata.org/prop/direct/P1842'), ('label', 'Global Anabaptist Mennonite Encyclopedia Online ID')]\n",
      "[('property', 'http://www.wikidata.org/prop/direct/P1968'), ('label', 'Foursquare venue ID')]\n",
      "[('property', 'http://www.wikidata.org/prop/direct/P2002'), ('label', 'Twitter username')]\n",
      "[('property', 'http://www.wikidata.org/prop/direct/P2003'), ('label', 'Instagram username')]\n",
      "[('property', 'http://www.wikidata.org/prop/direct/P2004'), ('label', 'NALT ID')]\n",
      "[('property', 'http://www.wikidata.org/prop/direct/P2046'), ('label', 'area')]\n",
      "[('property', 'http://www.wikidata.org/prop/direct/P2082'), ('label', 'M.49 code')]\n",
      "[('property', 'http://www.wikidata.org/prop/direct/P213'), ('label', 'ISNI')]\n",
      "[('property', 'http://www.wikidata.org/prop/direct/P214'), ('label', 'VIAF ID')]\n",
      "[('property', 'http://www.wikidata.org/prop/direct/P2163'), ('label', 'FAST ID')]\n",
      "[('property', 'http://www.wikidata.org/prop/direct/P2250'), ('label', 'life expectancy')]\n",
      "[('property', 'http://www.wikidata.org/prop/direct/P2258'), ('label', 'mobile country code')]\n",
      "[('property', 'http://www.wikidata.org/prop/direct/P227'), ('label', 'GND ID')]\n",
      "[('property', 'http://www.wikidata.org/prop/direct/P2347'), ('label', 'YSO ID')]\n",
      "[('property', 'http://www.wikidata.org/prop/direct/P244'), ('label', 'Library of Congress authority ID')]\n",
      "[('property', 'http://www.wikidata.org/prop/direct/P2573'), ('label', 'number of out-of-school children')]\n",
      "[('property', 'http://www.wikidata.org/prop/direct/P2581'), ('label', 'BabelNet ID')]\n",
      "[('property', 'http://www.wikidata.org/prop/direct/P2612'), ('label', 'TED topic ID')]\n",
      "[('property', 'http://www.wikidata.org/prop/direct/P268'), ('label', 'Bibliothèque nationale de France ID')]\n",
      "[('property', 'http://www.wikidata.org/prop/direct/P269'), ('label', 'IdRef ID')]\n",
      "[('property', 'http://www.wikidata.org/prop/direct/P2884'), ('label', 'mains voltage')]\n",
      "[('property', 'http://www.wikidata.org/prop/direct/P2924'), ('label', 'Great Russian Encyclopedia Online ID')]\n",
      "[('property', 'http://www.wikidata.org/prop/direct/P297'), ('label', 'ISO 3166-1 alpha-2 code')]\n",
      "[('property', 'http://www.wikidata.org/prop/direct/P2979'), ('label', 'maritime identification digits')]\n",
      "[('property', 'http://www.wikidata.org/prop/direct/P298'), ('label', 'ISO 3166-1 alpha-3 code')]\n",
      "[('property', 'http://www.wikidata.org/prop/direct/P299'), ('label', 'ISO 3166-1 numeric code')]\n",
      "[('property', 'http://www.wikidata.org/prop/direct/P3001'), ('label', 'retirement age')]\n",
      "[('property', 'http://www.wikidata.org/prop/direct/P3024'), ('label', 'ITU letter code')]\n",
      "[('property', 'http://www.wikidata.org/prop/direct/P3067'), ('label', 'GS1 country code')]\n",
      "[('property', 'http://www.wikidata.org/prop/direct/P3068'), ('label', 'WIPO ST.3')]\n",
      "[('property', 'http://www.wikidata.org/prop/direct/P3106'), ('label', 'Guardian topic ID')]\n",
      "[('property', 'http://www.wikidata.org/prop/direct/P3134'), ('label', 'TripAdvisor ID')]\n",
      "[('property', 'http://www.wikidata.org/prop/direct/P3175'), ('label', 'Statoids ID')]\n",
      "[('property', 'http://www.wikidata.org/prop/direct/P3183'), ('label', 'Wall Street Journal topic ID')]\n",
      "[('property', 'http://www.wikidata.org/prop/direct/P3219'), ('label', 'Encyclopædia Universalis ID')]\n",
      "[('property', 'http://www.wikidata.org/prop/direct/P3221'), ('label', 'New York Times topic ID')]\n",
      "[('property', 'http://www.wikidata.org/prop/direct/P3222'), ('label', 'NE.se ID')]\n",
      "[('property', 'http://www.wikidata.org/prop/direct/P3365'), ('label', 'Treccani ID')]\n",
      "[('property', 'http://www.wikidata.org/prop/direct/P3417'), ('label', 'Quora topic ID')]\n",
      "[('property', 'http://www.wikidata.org/prop/direct/P3422'), ('label', 'INSEE countries and foreign territories code')]\n",
      "[('property', 'http://www.wikidata.org/prop/direct/P3479'), ('label', 'Omni topic ID')]\n",
      "[('property', 'http://www.wikidata.org/prop/direct/P349'), ('label', 'National Diet Library ID')]\n",
      "[('property', 'http://www.wikidata.org/prop/direct/P3529'), ('label', 'median income')]\n",
      "[('property', 'http://www.wikidata.org/prop/direct/P3553'), ('label', 'Zhihu topic ID')]\n",
      "[('property', 'http://www.wikidata.org/prop/direct/P3612'), ('label', 'Le Monde diplomatique subject ID')]\n",
      "[('property', 'http://www.wikidata.org/prop/direct/P373'), ('label', 'Commons category')]\n",
      "[('property', 'http://www.wikidata.org/prop/direct/P3743'), ('label', 'ITU/ISO/IEC object identifier')]\n",
      "[('property', 'http://www.wikidata.org/prop/direct/P3749'), ('label', 'Google Maps Customer ID')]\n",
      "[('property', 'http://www.wikidata.org/prop/direct/P3762'), ('label', 'openMLOL author ID')]\n",
      "[('property', 'http://www.wikidata.org/prop/direct/P3864'), ('label', 'suicide rate')]\n",
      "[('property', 'http://www.wikidata.org/prop/direct/P3911'), ('label', 'STW Thesaurus for Economics ID')]\n",
      "[('property', 'http://www.wikidata.org/prop/direct/P3916'), ('label', 'UNESCO Thesaurus ID')]\n",
      "[('property', 'http://www.wikidata.org/prop/direct/P395'), ('label', 'licence plate code')]\n",
      "[('property', 'http://www.wikidata.org/prop/direct/P3984'), ('label', 'subreddit')]\n",
      "[('property', 'http://www.wikidata.org/prop/direct/P402'), ('label', 'OpenStreetMap relation ID')]\n",
      "[('property', 'http://www.wikidata.org/prop/direct/P4081'), ('label', 'BHL creator ID')]\n",
      "[('property', 'http://www.wikidata.org/prop/direct/P409'), ('label', 'Libraries Australia ID')]\n",
      "[('property', 'http://www.wikidata.org/prop/direct/P4212'), ('label', 'PACTOLS thesaurus ID')]\n",
      "[('property', 'http://www.wikidata.org/prop/direct/P4342'), ('label', 'Store norske leksikon ID')]\n",
      "[('property', 'http://www.wikidata.org/prop/direct/P4427'), ('label', 'GACS ID')]\n",
      "[('property', 'http://www.wikidata.org/prop/direct/P4527'), ('label', 'UK Parliament thesaurus ID')]\n",
      "[('property', 'http://www.wikidata.org/prop/direct/P4629'), ('label', 'Online Books Page author ID')]\n",
      "[('property', 'http://www.wikidata.org/prop/direct/P4725'), ('label', 'C-SPAN organization ID')]\n",
      "[('property', 'http://www.wikidata.org/prop/direct/P474'), ('label', 'country calling code')]\n",
      "[('property', 'http://www.wikidata.org/prop/direct/P4801'), ('label', 'LoC and MARC vocabularies ID')]\n",
      "[('property', 'http://www.wikidata.org/prop/direct/P4839'), ('label', 'Wolfram Language entity code')]\n",
      "[('property', 'http://www.wikidata.org/prop/direct/P4841'), ('label', 'total fertility rate')]\n",
      "[('property', 'http://www.wikidata.org/prop/direct/P486'), ('label', 'MeSH descriptor ID')]\n",
      "[('property', 'http://www.wikidata.org/prop/direct/P487'), ('label', 'Unicode character')]\n",
      "[('property', 'http://www.wikidata.org/prop/direct/P5019'), ('label', 'Brockhaus Enzyklopädie online ID')]\n",
      "[('property', 'http://www.wikidata.org/prop/direct/P5063'), ('label', 'Interlingual Index ID')]\n",
      "[('property', 'http://www.wikidata.org/prop/direct/P5167'), ('label', 'vehicles per thousand people')]\n",
      "[('property', 'http://www.wikidata.org/prop/direct/P5180'), ('label', 'CIVICUS Monitor country entry')]\n",
      "[('property', 'http://www.wikidata.org/prop/direct/P5198'), ('label', 'ASC Leiden Thesaurus ID')]\n",
      "[('property', 'http://www.wikidata.org/prop/direct/P5247'), ('label', 'Giant Bomb ID')]\n",
      "[('property', 'http://www.wikidata.org/prop/direct/P5250'), ('label', 'IAB code')]\n",
      "[('property', 'http://www.wikidata.org/prop/direct/P5400'), ('label', 'GeoNLP ID')]\n",
      "[('property', 'http://www.wikidata.org/prop/direct/P5437'), ('label', 'EuroVoc ID')]\n",
      "[('property', 'http://www.wikidata.org/prop/direct/P5456'), ('label', 'TasteAtlas ID')]\n",
      "[('property', 'http://www.wikidata.org/prop/direct/P5573'), ('label', 'archINFORM location ID')]\n",
      "[('property', 'http://www.wikidata.org/prop/direct/P5587'), ('label', 'Libris-URI')]\n",
      "[('property', 'http://www.wikidata.org/prop/direct/P571'), ('label', 'inception')]\n",
      "[('property', 'http://www.wikidata.org/prop/direct/P5748'), ('label', 'Basisklassifikation')]\n",
      "[('property', 'http://www.wikidata.org/prop/direct/P6058'), ('label', 'Larousse ID')]\n",
      "[('property', 'http://www.wikidata.org/prop/direct/P6200'), ('label', 'BBC News topic ID')]\n",
      "[('property', 'http://www.wikidata.org/prop/direct/P6262'), ('label', 'Fandom article ID')]\n",
      "[('property', 'http://www.wikidata.org/prop/direct/P6265'), ('label', 'MinDat Locality ID')]\n",
      "[('property', 'http://www.wikidata.org/prop/direct/P6293'), ('label', 'YSA ID')]\n",
      "[('property', 'http://www.wikidata.org/prop/direct/P6328'), ('label', 'Politika topic ID')]\n",
      "[('property', 'http://www.wikidata.org/prop/direct/P6385'), ('label', 'Krugosvet article')]\n",
      "[('property', 'http://www.wikidata.org/prop/direct/P6404'), ('label', \"Treccani's Dizionario di Storia ID\")]\n",
      "[('property', 'http://www.wikidata.org/prop/direct/P646'), ('label', 'Freebase ID')]\n",
      "[('property', 'http://www.wikidata.org/prop/direct/P648'), ('label', 'Open Library ID')]\n",
      "[('property', 'http://www.wikidata.org/prop/direct/P6573'), ('label', 'Klexikon article ID')]\n",
      "[('property', 'http://www.wikidata.org/prop/direct/P6591'), ('label', 'maximum temperature record')]\n",
      "[('property', 'http://www.wikidata.org/prop/direct/P672'), ('label', 'MeSH tree code')]\n",
      "[('property', 'http://www.wikidata.org/prop/direct/P6760'), ('label', 'Know Your Meme ID')]\n",
      "[('property', 'http://www.wikidata.org/prop/direct/P6766'), ('label', \"Who's on First ID\")]\n",
      "[('property', 'http://www.wikidata.org/prop/direct/P6839'), ('label', 'TV Tropes identifier')]\n",
      "[('property', 'http://www.wikidata.org/prop/direct/P6849'), ('label', 'DR topic ID')]\n",
      "[('property', 'http://www.wikidata.org/prop/direct/P6897'), ('label', 'literacy rate')]\n",
      "[('property', 'http://www.wikidata.org/prop/direct/P6900'), ('label', 'NicoNicoPedia ID')]\n",
      "[('property', 'http://www.wikidata.org/prop/direct/P691'), ('label', 'NKCR AUT ID')]\n",
      "[('property', 'http://www.wikidata.org/prop/direct/P7012'), ('label', 'World Encyclopedia of Puppetry Arts ID')]\n",
      "[('property', 'http://www.wikidata.org/prop/direct/P7157'), ('label', 'The Top Tens ID')]\n",
      "[('property', 'http://www.wikidata.org/prop/direct/P7295'), ('label', 'Gregorian calendar start date')]\n",
      "[('property', 'http://www.wikidata.org/prop/direct/P7305'), ('label', 'Online PWN Encyclopedia ID')]\n",
      "[('property', 'http://www.wikidata.org/prop/direct/P7314'), ('label', 'TDV İslam Ansiklopedisi ID')]\n",
      "[('property', 'http://www.wikidata.org/prop/direct/P7471'), ('label', 'iNaturalist place ID')]\n",
      "[('property', 'http://www.wikidata.org/prop/direct/P7775'), ('label', 'RationalWiki ID')]\n",
      "[('property', 'http://www.wikidata.org/prop/direct/P7818'), ('label', 'French Vikidia ID')]\n",
      "[('property', 'http://www.wikidata.org/prop/direct/P7822'), ('label', 'Italian Vikidia ID')]\n",
      "[('property', 'http://www.wikidata.org/prop/direct/P7827'), ('label', 'Spanish Vikidia ID')]\n",
      "[('property', 'http://www.wikidata.org/prop/direct/P7829'), ('label', 'English Vikidia ID')]\n",
      "[('property', 'http://www.wikidata.org/prop/direct/P7832'), ('label', 'Basque Vikidia ID')]\n",
      "[('property', 'http://www.wikidata.org/prop/direct/P7850'), ('label', 'Joconde location ID')]\n",
      "[('property', 'http://www.wikidata.org/prop/direct/P7859'), ('label', 'WorldCat Identities ID')]\n",
      "[('property', 'http://www.wikidata.org/prop/direct/P7870'), ('label', 'Analysis & Policy Observatory term ID')]\n",
      "[('property', 'http://www.wikidata.org/prop/direct/P7982'), ('label', 'Hrvatska enciklopedija ID')]\n",
      "[('property', 'http://www.wikidata.org/prop/direct/P8034'), ('label', 'Vatican Library VcBA ID')]\n",
      "[('property', 'http://www.wikidata.org/prop/direct/P8168'), ('label', 'FactGrid item ID')]\n",
      "[('property', 'http://www.wikidata.org/prop/direct/P8217'), ('label', 'iDAI.gazetteer ID')]\n",
      "[('property', 'http://www.wikidata.org/prop/direct/P8309'), ('label', 'Yle topic ID')]\n",
      "[('property', 'http://www.wikidata.org/prop/direct/P8406'), ('label', 'Grove Art Online ID')]\n",
      "[('property', 'http://www.wikidata.org/prop/direct/P8408'), ('label', 'KBpedia ID')]\n",
      "[('property', 'http://www.wikidata.org/prop/direct/P8483'), ('label', 'PM20 geo code')]\n",
      "[('property', 'http://www.wikidata.org/prop/direct/P8519'), ('label', 'RKD thesaurus ID')]\n",
      "[('property', 'http://www.wikidata.org/prop/direct/P8569'), ('label', 'YIVO Encyclopedia of Jews in Eastern Europe ID')]\n",
      "[('property', 'http://www.wikidata.org/prop/direct/P8651'), ('label', 'Open Civic Data Division ID')]\n",
      "[('property', 'http://www.wikidata.org/prop/direct/P8687'), ('label', 'social media followers')]\n",
      "[('property', 'http://www.wikidata.org/prop/direct/P8714'), ('label', 'GADM ID')]\n",
      "[('property', 'http://www.wikidata.org/prop/direct/P8785'), ('label', 'AniDB tag ID')]\n",
      "[('property', 'http://www.wikidata.org/prop/direct/P8814'), ('label', 'WordNet 3.1 Synset ID')]\n",
      "[('property', 'http://www.wikidata.org/prop/direct/P8826'), ('label', 'edition humboldt digital ID')]\n",
      "[('property', 'http://www.wikidata.org/prop/direct/P8885'), ('label', 'Namuwiki ID')]\n",
      "[('property', 'http://www.wikidata.org/prop/direct/P8895'), ('label', 'All the Tropes identifier')]\n",
      "[('property', 'http://www.wikidata.org/prop/direct/P8935'), ('label', 'Encyclopedia of the History of Ukraine ID')]\n",
      "[('property', 'http://www.wikidata.org/prop/direct/P8974'), ('label', 'SAPA ID')]\n",
      "[('property', 'http://www.wikidata.org/prop/direct/P898'), ('label', 'IPA transcription')]\n",
      "[('property', 'http://www.wikidata.org/prop/direct/P901'), ('label', 'FIPS 10-4 (countries and regions)')]\n",
      "[('property', 'http://www.wikidata.org/prop/direct/P902'), ('label', 'HDS ID')]\n",
      "[('property', 'http://www.wikidata.org/prop/direct/P9037'), ('label', 'BHCL UUID')]\n",
      "[('property', 'http://www.wikidata.org/prop/direct/P906'), ('label', 'SELIBR ID')]\n",
      "[('property', 'http://www.wikidata.org/prop/direct/P9223'), ('label', 'Provenio UUID')]\n",
      "[('property', 'http://www.wikidata.org/prop/direct/P9272'), ('label', 'DeCS ID')]\n",
      "[('property', 'http://www.wikidata.org/prop/direct/P9293'), ('label', 'AIATSIS Place Thesaurus ID')]\n",
      "[('property', 'http://www.wikidata.org/prop/direct/P9318'), ('label', 'Ávvir topic ID')]\n",
      "[('property', 'http://www.wikidata.org/prop/direct/P9349'), ('label', 'France24 topic ID (Arabic)')]\n",
      "[('property', 'http://www.wikidata.org/prop/direct/P935'), ('label', 'Commons gallery')]\n",
      "[('property', 'http://www.wikidata.org/prop/direct/P949'), ('label', 'National Library of Israel ID')]\n",
      "[('property', 'http://www.wikidata.org/prop/direct/P950'), ('label', 'Biblioteca Nacional de España ID')]\n",
      "[('property', 'http://www.wikidata.org/prop/direct/P9545'), ('label', 'Encyclopedia of China Online Database ID')]\n",
      "[('property', 'http://www.wikidata.org/prop/direct/P9757'), ('label', 'Schoenberg Database of Manuscripts place ID')]\n",
      "[('property', 'http://www.wikidata.org/prop/direct/P982'), ('label', 'MusicBrainz area ID')]\n",
      "[('property', 'http://www.wikidata.org/prop/direct/P984'), ('label', 'IOC country code')]\n",
      "[('property', 'http://www.wikidata.org/prop/direct/P9886'), ('label', 'TermCymru ID')]\n",
      "[('property', 'http://www.wikidata.org/prop/direct/P998'), ('label', 'Curlie ID')]\n",
      "[('property', 'http://www.wikidata.org/prop/direct/P6696'), ('label', 'PRELIB organization ID')]\n",
      "[('property', 'http://www.wikidata.org/prop/direct/P8328'), ('label', 'Democracy Index')]\n",
      "[('property', 'http://www.wikidata.org/prop/direct/P9571'), ('label', 'PeakVisor area ID')]\n",
      "185\n"
     ]
    }
   ],
   "source": [
    "queryString = \"\"\"\n",
    "SELECT DISTINCT ?property ?label\n",
    "WHERE {   \n",
    "   wd:Q30 ?property ?object .\n",
    "   ?property sc:name ?label .\n",
    "   FILTER(isLiteral(?object)) .   \n",
    "}\n",
    "\"\"\"\n",
    "print(\"Results\")\n",
    "x=run_query(queryString)"
   ]
  },
  {
   "cell_type": "markdown",
   "id": "3e554049-5271-4762-a7d5-d139910870f6",
   "metadata": {
    "tags": []
   },
   "source": [
    "### Get all data property of \"United States of America\"  (wd:Q30) that do not contain ID"
   ]
  },
  {
   "cell_type": "code",
   "execution_count": 133,
   "id": "6a1daae5-b1e9-4286-91bf-55a110db885b",
   "metadata": {},
   "outputs": [
    {
     "name": "stdout",
     "output_type": "stream",
     "text": [
      "Results\n",
      "[('property', 'http://www.wikidata.org/prop/direct/P1036'), ('label', 'Dewey Decimal Classification')]\n",
      "[('property', 'http://www.wikidata.org/prop/direct/P1081'), ('label', 'Human Development Index')]\n",
      "[('property', 'http://www.wikidata.org/prop/direct/P1082'), ('label', 'population')]\n",
      "[('property', 'http://www.wikidata.org/prop/direct/P1125'), ('label', 'Gini coefficient')]\n",
      "[('property', 'http://www.wikidata.org/prop/direct/P1198'), ('label', 'unemployment rate')]\n",
      "[('property', 'http://www.wikidata.org/prop/direct/P1225'), ('label', 'U.S. National Archives Identifier')]\n",
      "[('property', 'http://www.wikidata.org/prop/direct/P1245'), ('label', 'OmegaWiki Defined Meaning')]\n",
      "[('property', 'http://www.wikidata.org/prop/direct/P1448'), ('label', 'official name')]\n",
      "[('property', 'http://www.wikidata.org/prop/direct/P1451'), ('label', 'motto text')]\n",
      "[('property', 'http://www.wikidata.org/prop/direct/P1549'), ('label', 'demonym')]\n",
      "[('property', 'http://www.wikidata.org/prop/direct/P1705'), ('label', 'native label')]\n",
      "[('property', 'http://www.wikidata.org/prop/direct/P1813'), ('label', 'short name')]\n",
      "[('property', 'http://www.wikidata.org/prop/direct/P2002'), ('label', 'Twitter username')]\n",
      "[('property', 'http://www.wikidata.org/prop/direct/P2003'), ('label', 'Instagram username')]\n",
      "[('property', 'http://www.wikidata.org/prop/direct/P2046'), ('label', 'area')]\n",
      "[('property', 'http://www.wikidata.org/prop/direct/P2082'), ('label', 'M.49 code')]\n",
      "[('property', 'http://www.wikidata.org/prop/direct/P213'), ('label', 'ISNI')]\n",
      "[('property', 'http://www.wikidata.org/prop/direct/P2250'), ('label', 'life expectancy')]\n",
      "[('property', 'http://www.wikidata.org/prop/direct/P2258'), ('label', 'mobile country code')]\n",
      "[('property', 'http://www.wikidata.org/prop/direct/P2573'), ('label', 'number of out-of-school children')]\n",
      "[('property', 'http://www.wikidata.org/prop/direct/P2884'), ('label', 'mains voltage')]\n",
      "[('property', 'http://www.wikidata.org/prop/direct/P297'), ('label', 'ISO 3166-1 alpha-2 code')]\n",
      "[('property', 'http://www.wikidata.org/prop/direct/P2979'), ('label', 'maritime identification digits')]\n",
      "[('property', 'http://www.wikidata.org/prop/direct/P298'), ('label', 'ISO 3166-1 alpha-3 code')]\n",
      "[('property', 'http://www.wikidata.org/prop/direct/P299'), ('label', 'ISO 3166-1 numeric code')]\n",
      "[('property', 'http://www.wikidata.org/prop/direct/P3001'), ('label', 'retirement age')]\n",
      "[('property', 'http://www.wikidata.org/prop/direct/P3024'), ('label', 'ITU letter code')]\n",
      "[('property', 'http://www.wikidata.org/prop/direct/P3067'), ('label', 'GS1 country code')]\n",
      "[('property', 'http://www.wikidata.org/prop/direct/P3068'), ('label', 'WIPO ST.3')]\n",
      "[('property', 'http://www.wikidata.org/prop/direct/P3422'), ('label', 'INSEE countries and foreign territories code')]\n",
      "[('property', 'http://www.wikidata.org/prop/direct/P3529'), ('label', 'median income')]\n",
      "[('property', 'http://www.wikidata.org/prop/direct/P373'), ('label', 'Commons category')]\n",
      "[('property', 'http://www.wikidata.org/prop/direct/P3743'), ('label', 'ITU/ISO/IEC object identifier')]\n",
      "[('property', 'http://www.wikidata.org/prop/direct/P3864'), ('label', 'suicide rate')]\n",
      "[('property', 'http://www.wikidata.org/prop/direct/P395'), ('label', 'licence plate code')]\n",
      "[('property', 'http://www.wikidata.org/prop/direct/P3984'), ('label', 'subreddit')]\n",
      "[('property', 'http://www.wikidata.org/prop/direct/P474'), ('label', 'country calling code')]\n",
      "[('property', 'http://www.wikidata.org/prop/direct/P4839'), ('label', 'Wolfram Language entity code')]\n",
      "[('property', 'http://www.wikidata.org/prop/direct/P4841'), ('label', 'total fertility rate')]\n",
      "[('property', 'http://www.wikidata.org/prop/direct/P487'), ('label', 'Unicode character')]\n",
      "[('property', 'http://www.wikidata.org/prop/direct/P5167'), ('label', 'vehicles per thousand people')]\n",
      "[('property', 'http://www.wikidata.org/prop/direct/P5180'), ('label', 'CIVICUS Monitor country entry')]\n",
      "[('property', 'http://www.wikidata.org/prop/direct/P5250'), ('label', 'IAB code')]\n",
      "[('property', 'http://www.wikidata.org/prop/direct/P5587'), ('label', 'Libris-URI')]\n",
      "[('property', 'http://www.wikidata.org/prop/direct/P571'), ('label', 'inception')]\n",
      "[('property', 'http://www.wikidata.org/prop/direct/P5748'), ('label', 'Basisklassifikation')]\n",
      "[('property', 'http://www.wikidata.org/prop/direct/P6385'), ('label', 'Krugosvet article')]\n",
      "[('property', 'http://www.wikidata.org/prop/direct/P6591'), ('label', 'maximum temperature record')]\n",
      "[('property', 'http://www.wikidata.org/prop/direct/P672'), ('label', 'MeSH tree code')]\n",
      "[('property', 'http://www.wikidata.org/prop/direct/P6839'), ('label', 'TV Tropes identifier')]\n",
      "[('property', 'http://www.wikidata.org/prop/direct/P6897'), ('label', 'literacy rate')]\n",
      "[('property', 'http://www.wikidata.org/prop/direct/P7295'), ('label', 'Gregorian calendar start date')]\n",
      "[('property', 'http://www.wikidata.org/prop/direct/P8483'), ('label', 'PM20 geo code')]\n",
      "[('property', 'http://www.wikidata.org/prop/direct/P8687'), ('label', 'social media followers')]\n",
      "[('property', 'http://www.wikidata.org/prop/direct/P8895'), ('label', 'All the Tropes identifier')]\n",
      "[('property', 'http://www.wikidata.org/prop/direct/P898'), ('label', 'IPA transcription')]\n",
      "[('property', 'http://www.wikidata.org/prop/direct/P901'), ('label', 'FIPS 10-4 (countries and regions)')]\n",
      "[('property', 'http://www.wikidata.org/prop/direct/P935'), ('label', 'Commons gallery')]\n",
      "[('property', 'http://www.wikidata.org/prop/direct/P984'), ('label', 'IOC country code')]\n",
      "[('property', 'http://www.wikidata.org/prop/direct/P8328'), ('label', 'Democracy Index')]\n",
      "60\n"
     ]
    }
   ],
   "source": [
    "queryString = \"\"\"\n",
    "SELECT DISTINCT ?property ?label\n",
    "WHERE {   \n",
    "   wd:Q30 ?property ?object .\n",
    "   ?property sc:name ?label .\n",
    "   FILTER(isLiteral(?object)) .\n",
    "   FILTER REGEX(?label, \"^((?!ID).)*$\") . \n",
    "}\n",
    "\"\"\"\n",
    "print(\"Results\")\n",
    "x=run_query(queryString)"
   ]
  },
  {
   "cell_type": "markdown",
   "id": "814dc3d5-662c-45df-971a-13c7601e562b",
   "metadata": {
    "tags": []
   },
   "source": [
    "### Get all the classes of \"United States of America\" (wd:Q30)"
   ]
  },
  {
   "cell_type": "code",
   "execution_count": 132,
   "id": "850da0d0-8930-4e4b-b9d3-5ee9f8dda21f",
   "metadata": {},
   "outputs": [
    {
     "name": "stdout",
     "output_type": "stream",
     "text": [
      "Results\n",
      "[('class', 'http://www.wikidata.org/entity/Q1489259'), ('label', 'superpower')]\n",
      "[('class', 'http://www.wikidata.org/entity/Q99541706'), ('label', 'historical unrecognized state')]\n",
      "[('class', 'http://www.wikidata.org/entity/Q1520223'), ('label', 'constitutional republic')]\n",
      "[('class', 'http://www.wikidata.org/entity/Q3624078'), ('label', 'sovereign state')]\n",
      "[('class', 'http://www.wikidata.org/entity/Q512187'), ('label', 'federal republic')]\n",
      "[('class', 'http://www.wikidata.org/entity/Q5255892'), ('label', 'democratic republic')]\n",
      "[('class', 'http://www.wikidata.org/entity/Q6256'), ('label', 'country')]\n",
      "7\n"
     ]
    }
   ],
   "source": [
    "queryString = \"\"\"\n",
    "SELECT DISTINCT ?class ?label\n",
    "WHERE {   \n",
    "   wd:Q30 wdt:P31 ?class .\n",
    "   ?class sc:name ?label .     \n",
    "}\n",
    "\"\"\"\n",
    "print(\"Results\")\n",
    "x=run_query(queryString)"
   ]
  },
  {
   "cell_type": "markdown",
   "id": "b12021fb-0202-499e-b352-26df55be7417",
   "metadata": {
    "tags": []
   },
   "source": [
    "### Get all object properties of \"United States of America\"  (wd:Q30)"
   ]
  },
  {
   "cell_type": "code",
   "execution_count": 135,
   "id": "cc459e88-d4da-4471-86e8-eb4015e0ad08",
   "metadata": {},
   "outputs": [
    {
     "name": "stdout",
     "output_type": "stream",
     "text": [
      "Results\n",
      "[('property', 'http://www.wikidata.org/prop/direct/P1151'), ('label', \"topic's main Wikimedia portal\")]\n",
      "[('property', 'http://www.wikidata.org/prop/direct/P122'), ('label', 'basic form of government')]\n",
      "[('property', 'http://www.wikidata.org/prop/direct/P1304'), ('label', 'central bank')]\n",
      "[('property', 'http://www.wikidata.org/prop/direct/P1313'), ('label', 'office held by head of government')]\n",
      "[('property', 'http://www.wikidata.org/prop/direct/P1325'), ('label', 'external data available at')]\n",
      "[('property', 'http://www.wikidata.org/prop/direct/P1343'), ('label', 'described by source')]\n",
      "[('property', 'http://www.wikidata.org/prop/direct/P1344'), ('label', 'participant in')]\n",
      "[('property', 'http://www.wikidata.org/prop/direct/P1365'), ('label', 'replaces')]\n",
      "[('property', 'http://www.wikidata.org/prop/direct/P138'), ('label', 'named after')]\n",
      "[('property', 'http://www.wikidata.org/prop/direct/P1424'), ('label', \"topic's main template\")]\n",
      "[('property', 'http://www.wikidata.org/prop/direct/P1441'), ('label', 'present in work')]\n",
      "[('property', 'http://www.wikidata.org/prop/direct/P1464'), ('label', 'category for people born here')]\n",
      "[('property', 'http://www.wikidata.org/prop/direct/P1465'), ('label', 'category for people who died here')]\n",
      "[('property', 'http://www.wikidata.org/prop/direct/P1482'), ('label', 'Stack Exchange tag')]\n",
      "[('property', 'http://www.wikidata.org/prop/direct/P150'), ('label', 'contains administrative territorial entity')]\n",
      "[('property', 'http://www.wikidata.org/prop/direct/P1546'), ('label', 'motto')]\n",
      "[('property', 'http://www.wikidata.org/prop/direct/P1552'), ('label', 'has quality')]\n",
      "[('property', 'http://www.wikidata.org/prop/direct/P158'), ('label', 'seal image')]\n",
      "[('property', 'http://www.wikidata.org/prop/direct/P1589'), ('label', 'lowest point')]\n",
      "[('property', 'http://www.wikidata.org/prop/direct/P1622'), ('label', 'driving side')]\n",
      "[('property', 'http://www.wikidata.org/prop/direct/P163'), ('label', 'flag')]\n",
      "[('property', 'http://www.wikidata.org/prop/direct/P17'), ('label', 'country')]\n",
      "[('property', 'http://www.wikidata.org/prop/direct/P172'), ('label', 'ethnic group')]\n",
      "[('property', 'http://www.wikidata.org/prop/direct/P1740'), ('label', 'category for films shot at this location')]\n",
      "[('property', 'http://www.wikidata.org/prop/direct/P1791'), ('label', 'category of people buried here')]\n",
      "[('property', 'http://www.wikidata.org/prop/direct/P1792'), ('label', 'category of associated people')]\n",
      "[('property', 'http://www.wikidata.org/prop/direct/P1830'), ('label', 'owner of')]\n",
      "[('property', 'http://www.wikidata.org/prop/direct/P1889'), ('label', 'different from')]\n",
      "[('property', 'http://www.wikidata.org/prop/direct/P1906'), ('label', 'office held by head of state')]\n",
      "[('property', 'http://www.wikidata.org/prop/direct/P194'), ('label', 'legislative body')]\n",
      "[('property', 'http://www.wikidata.org/prop/direct/P1943'), ('label', 'location map')]\n",
      "[('property', 'http://www.wikidata.org/prop/direct/P1944'), ('label', 'relief location map')]\n",
      "[('property', 'http://www.wikidata.org/prop/direct/P206'), ('label', 'located in or next to body of water')]\n",
      "[('property', 'http://www.wikidata.org/prop/direct/P208'), ('label', 'executive body')]\n",
      "[('property', 'http://www.wikidata.org/prop/direct/P209'), ('label', 'highest judicial authority')]\n",
      "[('property', 'http://www.wikidata.org/prop/direct/P2184'), ('label', 'history of topic')]\n",
      "[('property', 'http://www.wikidata.org/prop/direct/P2238'), ('label', 'official symbol')]\n",
      "[('property', 'http://www.wikidata.org/prop/direct/P237'), ('label', 'coat of arms')]\n",
      "[('property', 'http://www.wikidata.org/prop/direct/P242'), ('label', 'locator map image')]\n",
      "[('property', 'http://www.wikidata.org/prop/direct/P2579'), ('label', 'studied by')]\n",
      "[('property', 'http://www.wikidata.org/prop/direct/P2596'), ('label', 'culture')]\n",
      "[('property', 'http://www.wikidata.org/prop/direct/P2633'), ('label', 'geography of topic')]\n",
      "[('property', 'http://www.wikidata.org/prop/direct/P2852'), ('label', 'emergency telephone number')]\n",
      "[('property', 'http://www.wikidata.org/prop/direct/P2853'), ('label', 'electrical plug type')]\n",
      "[('property', 'http://www.wikidata.org/prop/direct/P2936'), ('label', 'language used')]\n",
      "[('property', 'http://www.wikidata.org/prop/direct/P2959'), ('label', 'permanent duplicated item')]\n",
      "[('property', 'http://www.wikidata.org/prop/direct/P2997'), ('label', 'age of majority')]\n",
      "[('property', 'http://www.wikidata.org/prop/direct/P30'), ('label', 'continent')]\n",
      "[('property', 'http://www.wikidata.org/prop/direct/P31'), ('label', 'instance of')]\n",
      "[('property', 'http://www.wikidata.org/prop/direct/P35'), ('label', 'head of state')]\n",
      "[('property', 'http://www.wikidata.org/prop/direct/P36'), ('label', 'capital')]\n",
      "[('property', 'http://www.wikidata.org/prop/direct/P361'), ('label', 'part of')]\n",
      "[('property', 'http://www.wikidata.org/prop/direct/P37'), ('label', 'official language')]\n",
      "[('property', 'http://www.wikidata.org/prop/direct/P38'), ('label', 'currency')]\n",
      "[('property', 'http://www.wikidata.org/prop/direct/P3896'), ('label', 'geoshape')]\n",
      "[('property', 'http://www.wikidata.org/prop/direct/P41'), ('label', 'flag image')]\n",
      "[('property', 'http://www.wikidata.org/prop/direct/P418'), ('label', 'seal description')]\n",
      "[('property', 'http://www.wikidata.org/prop/direct/P421'), ('label', 'located in time zone')]\n",
      "[('property', 'http://www.wikidata.org/prop/direct/P443'), ('label', 'pronunciation audio')]\n",
      "[('property', 'http://www.wikidata.org/prop/direct/P457'), ('label', 'foundational text')]\n",
      "[('property', 'http://www.wikidata.org/prop/direct/P463'), ('label', 'member of')]\n",
      "[('property', 'http://www.wikidata.org/prop/direct/P47'), ('label', 'shares border with')]\n",
      "[('property', 'http://www.wikidata.org/prop/direct/P5008'), ('label', 'on focus list of Wikimedia project')]\n",
      "[('property', 'http://www.wikidata.org/prop/direct/P5125'), ('label', 'Wikimedia outline')]\n",
      "[('property', 'http://www.wikidata.org/prop/direct/P530'), ('label', 'diplomatic relation')]\n",
      "[('property', 'http://www.wikidata.org/prop/direct/P5658'), ('label', 'railway traffic side')]\n",
      "[('property', 'http://www.wikidata.org/prop/direct/P6'), ('label', 'head of government')]\n",
      "[('property', 'http://www.wikidata.org/prop/direct/P610'), ('label', 'highest point')]\n",
      "[('property', 'http://www.wikidata.org/prop/direct/P6363'), ('label', 'WordLift URL')]\n",
      "[('property', 'http://www.wikidata.org/prop/direct/P78'), ('label', 'top-level Internet domain')]\n",
      "[('property', 'http://www.wikidata.org/prop/direct/P7867'), ('label', 'category for maps')]\n",
      "[('property', 'http://www.wikidata.org/prop/direct/P793'), ('label', 'significant event')]\n",
      "[('property', 'http://www.wikidata.org/prop/direct/P832'), ('label', 'public holiday')]\n",
      "[('property', 'http://www.wikidata.org/prop/direct/P8402'), ('label', 'open data portal')]\n",
      "[('property', 'http://www.wikidata.org/prop/direct/P85'), ('label', 'anthem')]\n",
      "[('property', 'http://www.wikidata.org/prop/direct/P856'), ('label', 'official website')]\n",
      "[('property', 'http://www.wikidata.org/prop/direct/P8744'), ('label', 'economy of topic')]\n",
      "[('property', 'http://www.wikidata.org/prop/direct/P910'), ('label', \"topic's main category\")]\n",
      "[('property', 'http://www.wikidata.org/prop/direct/P92'), ('label', 'main regulatory text')]\n",
      "[('property', 'http://www.wikidata.org/prop/direct/P9241'), ('label', 'demographics of topic')]\n",
      "[('property', 'http://www.wikidata.org/prop/direct/P94'), ('label', 'coat of arms image')]\n",
      "[('property', 'http://www.wikidata.org/prop/direct/P948'), ('label', 'page banner')]\n",
      "[('property', 'http://www.wikidata.org/prop/direct/P989'), ('label', 'spoken text audio')]\n",
      "83\n"
     ]
    }
   ],
   "source": [
    "queryString = \"\"\"\n",
    "SELECT DISTINCT ?property ?label\n",
    "WHERE {   \n",
    "   wd:Q30 ?property ?object .\n",
    "   ?property sc:name ?label .\n",
    "   FILTER(!isLiteral(?object)) .   \n",
    "}\n",
    "\"\"\"\n",
    "\n",
    "print(\"Results\")\n",
    "x=run_query(queryString)"
   ]
  },
  {
   "cell_type": "markdown",
   "id": "b1da40bb-76f3-4548-88af-90745d5f9ac9",
   "metadata": {
    "tags": []
   },
   "source": [
    "### Get all the classes connected to \"United States of America\"  (wd:Q30)"
   ]
  },
  {
   "cell_type": "code",
   "execution_count": 130,
   "id": "999b68bb-343f-4235-9bd3-11bb35a83c50",
   "metadata": {},
   "outputs": [
    {
     "name": "stdout",
     "output_type": "stream",
     "text": [
      "Results\n",
      "[('objectClass', 'http://www.wikidata.org/entity/Q335214'), ('label', 'endangered language')]\n",
      "[('objectClass', 'http://www.wikidata.org/entity/Q1489259'), ('label', 'superpower')]\n",
      "[('objectClass', 'http://www.wikidata.org/entity/Q12056846'), ('label', 'national seal')]\n",
      "[('objectClass', 'http://www.wikidata.org/entity/Q63100611'), ('label', 'category 5 hurricane')]\n",
      "[('objectClass', 'http://www.wikidata.org/entity/Q1006311'), ('label', 'war of national liberation')]\n",
      "[('objectClass', 'http://www.wikidata.org/entity/Q114380'), ('label', 'financial crisis')]\n",
      "[('objectClass', 'http://www.wikidata.org/entity/Q1006644'), ('label', 'federal government')]\n",
      "[('objectClass', 'http://www.wikidata.org/entity/Q16695773'), ('label', 'WikiProject')]\n",
      "[('objectClass', 'http://www.wikidata.org/entity/Q4688003'), ('label', 'aerial bombing of a city')]\n",
      "[('objectClass', 'http://www.wikidata.org/entity/Q132821'), ('label', 'murder')]\n",
      "[('objectClass', 'http://www.wikidata.org/entity/Q1328899'), ('label', 'standards organization')]\n",
      "[('objectClass', 'http://www.wikidata.org/entity/Q1464916'), ('label', 'declaration of independence')]\n",
      "[('objectClass', 'http://www.wikidata.org/entity/Q15925165'), ('label', 'specialized agency of the United Nations')]\n",
      "[('objectClass', 'http://www.wikidata.org/entity/Q3947'), ('label', 'house')]\n",
      "[('objectClass', 'http://www.wikidata.org/entity/Q481289'), ('label', 'official residence')]\n",
      "[('objectClass', 'http://www.wikidata.org/entity/Q59542487'), ('label', 'Wikimedia set category')]\n",
      "[('objectClass', 'http://www.wikidata.org/entity/Q7755'), ('label', 'constitution')]\n",
      "[('objectClass', 'http://www.wikidata.org/entity/Q934744'), ('label', 'political scandal')]\n",
      "[('objectClass', 'http://www.wikidata.org/entity/Q1139665'), ('label', 'political murder')]\n",
      "[('objectClass', 'http://www.wikidata.org/entity/Q1250464'), ('label', 'realm')]\n",
      "[('objectClass', 'http://www.wikidata.org/entity/Q131569'), ('label', 'treaty')]\n",
      "[('objectClass', 'http://www.wikidata.org/entity/Q2085381'), ('label', 'publisher')]\n",
      "[('objectClass', 'http://www.wikidata.org/entity/Q4358176'), ('label', 'council')]\n",
      "[('objectClass', 'http://www.wikidata.org/entity/Q1323642'), ('label', 'transcontinental country')]\n",
      "[('objectClass', 'http://www.wikidata.org/entity/Q15285626'), ('label', 'organization established by the United Nations')]\n",
      "[('objectClass', 'http://www.wikidata.org/entity/Q1752939'), ('label', 'independent agency of the United States government')]\n",
      "[('objectClass', 'http://www.wikidata.org/entity/Q190752'), ('label', 'supreme court')]\n",
      "[('objectClass', 'http://www.wikidata.org/entity/Q645883'), ('label', 'military operation')]\n",
      "[('objectClass', 'http://www.wikidata.org/entity/Q8465'), ('label', 'civil war')]\n",
      "[('objectClass', 'http://www.wikidata.org/entity/Q16831714'), ('label', 'government building')]\n",
      "[('objectClass', 'http://www.wikidata.org/entity/Q17279032'), ('label', 'elective office')]\n",
      "[('objectClass', 'http://www.wikidata.org/entity/Q2531956'), ('label', 'ethnic group')]\n",
      "[('objectClass', 'http://www.wikidata.org/entity/Q99541706'), ('label', 'historical unrecognized state')]\n",
      "[('objectClass', 'http://www.wikidata.org/entity/Q1129645'), ('label', 'trade bloc')]\n",
      "[('objectClass', 'http://www.wikidata.org/entity/Q12143'), ('label', 'time zone')]\n",
      "[('objectClass', 'http://www.wikidata.org/entity/Q18888037'), ('label', 'U.S. state motto')]\n",
      "[('objectClass', 'http://www.wikidata.org/entity/Q21286738'), ('label', 'Wikimedia permanent duplicate item')]\n",
      "[('objectClass', 'http://www.wikidata.org/entity/Q290178'), ('label', 'economic crisis')]\n",
      "[('objectClass', 'http://www.wikidata.org/entity/Q124757'), ('label', 'riot')]\n",
      "[('objectClass', 'http://www.wikidata.org/entity/Q1885014'), ('label', 'cautionary monument')]\n",
      "[('objectClass', 'http://www.wikidata.org/entity/Q29431432'), ('label', 'dyad')]\n",
      "[('objectClass', 'http://www.wikidata.org/entity/Q52177058'), ('label', 'civic building')]\n",
      "[('objectClass', 'http://www.wikidata.org/entity/Q190429'), ('label', 'depression')]\n",
      "[('objectClass', 'http://www.wikidata.org/entity/Q61220733'), ('label', 'Star Trek episode')]\n",
      "[('objectClass', 'http://www.wikidata.org/entity/Q23983664'), ('label', 'demographics of country or region')]\n",
      "[('objectClass', 'http://www.wikidata.org/entity/Q1802963'), ('label', 'mansion')]\n",
      "[('objectClass', 'http://www.wikidata.org/entity/Q189445'), ('label', 'bicameral legislature')]\n",
      "[('objectClass', 'http://www.wikidata.org/entity/Q28790362'), ('label', 'ethnic community')]\n",
      "[('objectClass', 'http://www.wikidata.org/entity/Q694554'), ('label', 'emergency telephone number')]\n",
      "[('objectClass', 'http://www.wikidata.org/entity/Q29654714'), ('label', 'national motto')]\n",
      "[('objectClass', 'http://www.wikidata.org/entity/Q56165908'), ('label', 'Jewish encyclopedia')]\n",
      "[('objectClass', 'http://www.wikidata.org/entity/Q103495'), ('label', 'world war')]\n",
      "[('objectClass', 'http://www.wikidata.org/entity/Q1048835'), ('label', 'political territorial entity')]\n",
      "[('objectClass', 'http://www.wikidata.org/entity/Q10864048'), ('label', 'first-level administrative country subdivision')]\n",
      "[('objectClass', 'http://www.wikidata.org/entity/Q1088391'), ('label', 'rump state')]\n",
      "[('objectClass', 'http://www.wikidata.org/entity/Q1093829'), ('label', 'city of the United States')]\n",
      "[('objectClass', 'http://www.wikidata.org/entity/Q112099'), ('label', 'island nation')]\n",
      "[('objectClass', 'http://www.wikidata.org/entity/Q11266439'), ('label', 'Wikimedia template')]\n",
      "[('objectClass', 'http://www.wikidata.org/entity/Q11514315'), ('label', 'historical period')]\n",
      "[('objectClass', 'http://www.wikidata.org/entity/Q11753321'), ('label', 'Wikimedia navigational template')]\n",
      "[('objectClass', 'http://www.wikidata.org/entity/Q118365'), ('label', 'dictatorship of the proletariat')]\n",
      "[('objectClass', 'http://www.wikidata.org/entity/Q11862829'), ('label', 'academic discipline')]\n",
      "[('objectClass', 'http://www.wikidata.org/entity/Q1190554'), ('label', 'occurrence')]\n",
      "[('objectClass', 'http://www.wikidata.org/entity/Q1197685'), ('label', 'public holiday')]\n",
      "[('objectClass', 'http://www.wikidata.org/entity/Q123480'), ('label', 'landlocked country')]\n",
      "[('objectClass', 'http://www.wikidata.org/entity/Q1288568'), ('label', 'modern language')]\n",
      "[('objectClass', 'http://www.wikidata.org/entity/Q1307214'), ('label', 'form of government')]\n",
      "[('objectClass', 'http://www.wikidata.org/entity/Q1335818'), ('label', 'supranational union')]\n",
      "[('objectClass', 'http://www.wikidata.org/entity/Q13406463'), ('label', 'Wikimedia list article')]\n",
      "[('objectClass', 'http://www.wikidata.org/entity/Q14083'), ('label', 'dollar')]\n",
      "[('objectClass', 'http://www.wikidata.org/entity/Q1520223'), ('label', 'constitutional republic')]\n",
      "[('objectClass', 'http://www.wikidata.org/entity/Q1549591'), ('label', 'big city')]\n",
      "[('objectClass', 'http://www.wikidata.org/entity/Q15899789'), ('label', 'principal organ of the United Nations')]\n",
      "[('objectClass', 'http://www.wikidata.org/entity/Q1637706'), ('label', 'million city')]\n",
      "[('objectClass', 'http://www.wikidata.org/entity/Q165'), ('label', 'sea')]\n",
      "[('objectClass', 'http://www.wikidata.org/entity/Q16521'), ('label', 'taxon')]\n",
      "[('objectClass', 'http://www.wikidata.org/entity/Q17272482'), ('label', 'time zone named for a UTC offset')]\n",
      "[('objectClass', 'http://www.wikidata.org/entity/Q178561'), ('label', 'battle')]\n",
      "[('objectClass', 'http://www.wikidata.org/entity/Q179164'), ('label', 'unitary state')]\n",
      "[('objectClass', 'http://www.wikidata.org/entity/Q180684'), ('label', 'conflict')]\n",
      "[('objectClass', 'http://www.wikidata.org/entity/Q183039'), ('label', 'form of state')]\n",
      "[('objectClass', 'http://www.wikidata.org/entity/Q186516'), ('label', 'national flag')]\n",
      "[('objectClass', 'http://www.wikidata.org/entity/Q198'), ('label', 'war')]\n",
      "[('objectClass', 'http://www.wikidata.org/entity/Q20181813'), ('label', 'colonial power')]\n",
      "[('objectClass', 'http://www.wikidata.org/entity/Q21191270'), ('label', 'television series episode')]\n",
      "[('objectClass', 'http://www.wikidata.org/entity/Q2221906'), ('label', 'geographic location')]\n",
      "[('objectClass', 'http://www.wikidata.org/entity/Q2264924'), ('label', 'port settlement')]\n",
      "[('objectClass', 'http://www.wikidata.org/entity/Q2301091'), ('label', 'socialism with Chinese characteristics')]\n",
      "[('objectClass', 'http://www.wikidata.org/entity/Q23442'), ('label', 'island')]\n",
      "[('objectClass', 'http://www.wikidata.org/entity/Q245065'), ('label', 'intergovernmental organization')]\n",
      "[('objectClass', 'http://www.wikidata.org/entity/Q28953942'), ('label', 'boundary change')]\n",
      "[('objectClass', 'http://www.wikidata.org/entity/Q3024240'), ('label', 'historical country')]\n",
      "[('objectClass', 'http://www.wikidata.org/entity/Q33384'), ('label', 'dialect')]\n",
      "[('objectClass', 'http://www.wikidata.org/entity/Q33742'), ('label', 'natural language')]\n",
      "[('objectClass', 'http://www.wikidata.org/entity/Q33837'), ('label', 'archipelago')]\n",
      "[('objectClass', 'http://www.wikidata.org/entity/Q34770'), ('label', 'language')]\n",
      "[('objectClass', 'http://www.wikidata.org/entity/Q35127'), ('label', 'website')]\n",
      "[('objectClass', 'http://www.wikidata.org/entity/Q35657'), ('label', 'U.S. state')]\n",
      "[('objectClass', 'http://www.wikidata.org/entity/Q3623811'), ('label', 'economic union')]\n",
      "[('objectClass', 'http://www.wikidata.org/entity/Q3624078'), ('label', 'sovereign state')]\n",
      "[('objectClass', 'http://www.wikidata.org/entity/Q4120211'), ('label', 'regional organization')]\n",
      "[('objectClass', 'http://www.wikidata.org/entity/Q41614'), ('label', 'constitutional monarchy')]\n",
      "[('objectClass', 'http://www.wikidata.org/entity/Q4167836'), ('label', 'Wikimedia category')]\n",
      "[('objectClass', 'http://www.wikidata.org/entity/Q41710'), ('label', 'ethnic group')]\n",
      "[('objectClass', 'http://www.wikidata.org/entity/Q4198907'), ('label', 'parliamentary republic')]\n",
      "[('objectClass', 'http://www.wikidata.org/entity/Q4209223'), ('label', 'Rechtsstaat')]\n",
      "[('objectClass', 'http://www.wikidata.org/entity/Q43229'), ('label', 'organization')]\n",
      "[('objectClass', 'http://www.wikidata.org/entity/Q43702'), ('label', 'federation')]\n",
      "[('objectClass', 'http://www.wikidata.org/entity/Q45400320'), ('label', 'open-access publisher')]\n",
      "[('objectClass', 'http://www.wikidata.org/entity/Q465613'), ('label', \"people's republic\")]\n",
      "[('objectClass', 'http://www.wikidata.org/entity/Q4671286'), ('label', 'academic major')]\n",
      "[('objectClass', 'http://www.wikidata.org/entity/Q484652'), ('label', 'international organization')]\n",
      "[('objectClass', 'http://www.wikidata.org/entity/Q49892'), ('label', 'presidential régime')]\n",
      "[('objectClass', 'http://www.wikidata.org/entity/Q5'), ('label', 'human')]\n",
      "[('objectClass', 'http://www.wikidata.org/entity/Q5107'), ('label', 'continent')]\n",
      "[('objectClass', 'http://www.wikidata.org/entity/Q5119'), ('label', 'capital')]\n",
      "[('objectClass', 'http://www.wikidata.org/entity/Q512187'), ('label', 'federal republic')]\n",
      "[('objectClass', 'http://www.wikidata.org/entity/Q515'), ('label', 'city')]\n",
      "[('objectClass', 'http://www.wikidata.org/entity/Q51576574'), ('label', 'Mediterranean country')]\n",
      "[('objectClass', 'http://www.wikidata.org/entity/Q5255892'), ('label', 'democratic republic')]\n",
      "[('objectClass', 'http://www.wikidata.org/entity/Q5292'), ('label', 'encyclopedia')]\n",
      "[('objectClass', 'http://www.wikidata.org/entity/Q56061'), ('label', 'administrative territorial entity')]\n",
      "[('objectClass', 'http://www.wikidata.org/entity/Q570116'), ('label', 'tourist attraction')]\n",
      "[('objectClass', 'http://www.wikidata.org/entity/Q59541917'), ('label', 'Wikimedia topic category')]\n",
      "[('objectClass', 'http://www.wikidata.org/entity/Q619610'), ('label', 'social state')]\n",
      "[('objectClass', 'http://www.wikidata.org/entity/Q6256'), ('label', 'country')]\n",
      "[('objectClass', 'http://www.wikidata.org/entity/Q6266'), ('label', 'nation')]\n",
      "[('objectClass', 'http://www.wikidata.org/entity/Q63791824'), ('label', 'country bordering the Baltic Sea')]\n",
      "[('objectClass', 'http://www.wikidata.org/entity/Q6456916'), ('label', 'national economy')]\n",
      "[('objectClass', 'http://www.wikidata.org/entity/Q66344'), ('label', 'central bank')]\n",
      "[('objectClass', 'http://www.wikidata.org/entity/Q7270'), ('label', 'republic')]\n",
      "[('objectClass', 'http://www.wikidata.org/entity/Q811979'), ('label', 'architectural structure')]\n",
      "[('objectClass', 'http://www.wikidata.org/entity/Q8142'), ('label', 'currency')]\n",
      "[('objectClass', 'http://www.wikidata.org/entity/Q82794'), ('label', 'geographic region')]\n",
      "[('objectClass', 'http://www.wikidata.org/entity/Q83365345'), ('label', 'vulnerable language')]\n",
      "[('objectClass', 'http://www.wikidata.org/entity/Q842112'), ('label', 'socialist state')]\n",
      "[('objectClass', 'http://www.wikidata.org/entity/Q849866'), ('label', 'communist state')]\n",
      "[('objectClass', 'http://www.wikidata.org/entity/Q8502'), ('label', 'mountain')]\n",
      "[('objectClass', 'http://www.wikidata.org/entity/Q859563'), ('label', 'secular state')]\n",
      "[('objectClass', 'http://www.wikidata.org/entity/Q902814'), ('label', 'border town')]\n",
      "[('objectClass', 'http://www.wikidata.org/entity/Q1497364'), ('label', 'building complex')]\n",
      "[('objectClass', 'http://www.wikidata.org/entity/Q2223653'), ('label', 'terrorist attack')]\n",
      "[('objectClass', 'http://www.wikidata.org/entity/Q1047113'), ('label', 'specialty')]\n",
      "[('objectClass', 'http://www.wikidata.org/entity/Q133156'), ('label', 'colony')]\n",
      "[('objectClass', 'http://www.wikidata.org/entity/Q13418847'), ('label', 'historical event')]\n",
      "[('objectClass', 'http://www.wikidata.org/entity/Q1402592'), ('label', 'island group')]\n",
      "[('objectClass', 'http://www.wikidata.org/entity/Q14204246'), ('label', 'Wikimedia project page')]\n",
      "[('objectClass', 'http://www.wikidata.org/entity/Q152559'), ('label', 'macrolanguage')]\n",
      "[('objectClass', 'http://www.wikidata.org/entity/Q15275719'), ('label', 'recurring event')]\n",
      "[('objectClass', 'http://www.wikidata.org/entity/Q15304003'), ('label', 'country of the Kingdom of the Netherlands')]\n",
      "[('objectClass', 'http://www.wikidata.org/entity/Q171441'), ('label', 'enclave')]\n",
      "[('objectClass', 'http://www.wikidata.org/entity/Q23691'), ('label', 'national anthem')]\n",
      "[('objectClass', 'http://www.wikidata.org/entity/Q2558684'), ('label', 'world day')]\n",
      "[('objectClass', 'http://www.wikidata.org/entity/Q3305213'), ('label', 'painting')]\n",
      "[('objectClass', 'http://www.wikidata.org/entity/Q33289'), ('label', 'creole language')]\n",
      "[('objectClass', 'http://www.wikidata.org/entity/Q3331189'), ('label', 'version, edition, or translation')]\n",
      "[('objectClass', 'http://www.wikidata.org/entity/Q33648'), ('label', 'language isolate')]\n",
      "[('objectClass', 'http://www.wikidata.org/entity/Q36794'), ('label', 'door')]\n",
      "[('objectClass', 'http://www.wikidata.org/entity/Q3882219'), ('label', 'assassination')]\n",
      "[('objectClass', 'http://www.wikidata.org/entity/Q3950'), ('label', 'villa')]\n",
      "[('objectClass', 'http://www.wikidata.org/entity/Q41176'), ('label', 'building')]\n",
      "[('objectClass', 'http://www.wikidata.org/entity/Q417175'), ('label', 'kingdom')]\n",
      "[('objectClass', 'http://www.wikidata.org/entity/Q46395'), ('label', 'British Overseas Territories')]\n",
      "[('objectClass', 'http://www.wikidata.org/entity/Q7210356'), ('label', 'political organization')]\n",
      "[('objectClass', 'http://www.wikidata.org/entity/Q750215'), ('label', 'mass murder')]\n",
      "[('objectClass', 'http://www.wikidata.org/entity/Q83365347'), ('label', 'definitely endangered language')]\n",
      "[('objectClass', 'http://www.wikidata.org/entity/Q83365366'), ('label', 'severely endangered language')]\n",
      "[('objectClass', 'http://www.wikidata.org/entity/Q83365404'), ('label', 'critically endangered language')]\n",
      "[('objectClass', 'http://www.wikidata.org/entity/Q860861'), ('label', 'sculpture')]\n",
      "[('objectClass', 'http://www.wikidata.org/entity/Q1054726'), ('label', 'contract of sale')]\n",
      "[('objectClass', 'http://www.wikidata.org/entity/Q3002772'), ('label', 'political crisis')]\n",
      "[('objectClass', 'http://www.wikidata.org/entity/Q951873'), ('label', 'ethnolect')]\n",
      "[('objectClass', 'http://www.wikidata.org/entity/Q5153967'), ('label', 'communal violence')]\n",
      "[('objectClass', 'http://www.wikidata.org/entity/Q100906234'), ('label', 'multinational military coalition')]\n",
      "[('objectClass', 'http://www.wikidata.org/entity/Q1127126'), ('label', 'military alliance')]\n",
      "[('objectClass', 'http://www.wikidata.org/entity/Q14296'), ('label', 'top-level domain')]\n",
      "[('objectClass', 'http://www.wikidata.org/entity/Q1445650'), ('label', 'holiday')]\n",
      "[('objectClass', 'http://www.wikidata.org/entity/Q17544377'), ('label', 'history of a country or state')]\n",
      "[('objectClass', 'http://www.wikidata.org/entity/Q19860854'), ('label', 'destroyed building or structure')]\n",
      "[('objectClass', 'http://www.wikidata.org/entity/Q2001676'), ('label', 'military offensive')]\n",
      "[('objectClass', 'http://www.wikidata.org/entity/Q223832'), ('label', 'dominion of the British Empire')]\n",
      "[('objectClass', 'http://www.wikidata.org/entity/Q25295'), ('label', 'language family')]\n",
      "[('objectClass', 'http://www.wikidata.org/entity/Q33831'), ('label', 'pidgin')]\n",
      "[('objectClass', 'http://www.wikidata.org/entity/Q34228'), ('label', 'sign language')]\n",
      "[('objectClass', 'http://www.wikidata.org/entity/Q34876'), ('label', 'province')]\n",
      "[('objectClass', 'http://www.wikidata.org/entity/Q38058796'), ('label', 'extinct language')]\n",
      "[('objectClass', 'http://www.wikidata.org/entity/Q4085712'), ('label', 'unwritten language')]\n",
      "[('objectClass', 'http://www.wikidata.org/entity/Q42032'), ('label', 'country code top-level domain')]\n",
      "[('objectClass', 'http://www.wikidata.org/entity/Q45762'), ('label', 'dead language')]\n",
      "[('objectClass', 'http://www.wikidata.org/entity/Q46865913'), ('label', 'geography of geographic location')]\n",
      "[('objectClass', 'http://www.wikidata.org/entity/Q49371'), ('label', 'legislation')]\n",
      "[('objectClass', 'http://www.wikidata.org/entity/Q641226'), ('label', 'arena')]\n",
      "[('objectClass', 'http://www.wikidata.org/entity/Q831663'), ('label', 'military campaign')]\n",
      "[('objectClass', 'http://www.wikidata.org/entity/Q839470'), ('label', 'sacred language')]\n",
      "[('objectClass', 'http://www.wikidata.org/entity/Q1021645'), ('label', 'office building')]\n",
      "[('objectClass', 'http://www.wikidata.org/entity/Q2431196'), ('label', 'audiovisual work')]\n",
      "[('objectClass', 'http://www.wikidata.org/entity/Q29380'), ('label', 'sponsored top-level domain')]\n",
      "[('objectClass', 'http://www.wikidata.org/entity/Q7275'), ('label', 'state')]\n",
      "[('objectClass', 'http://www.wikidata.org/entity/Q12759805'), ('label', 'sultanate')]\n",
      "[('objectClass', 'http://www.wikidata.org/entity/Q133442'), ('label', 'city-state')]\n",
      "[('objectClass', 'http://www.wikidata.org/entity/Q170156'), ('label', 'confederation')]\n",
      "[('objectClass', 'http://www.wikidata.org/entity/Q19958368'), ('label', 'culture of an area')]\n",
      "[('objectClass', 'http://www.wikidata.org/entity/Q4663903'), ('label', 'Wikimedia portal')]\n",
      "[('objectClass', 'http://www.wikidata.org/entity/Q898712'), ('label', 'aircraft hijacking')]\n",
      "[('objectClass', 'http://www.wikidata.org/entity/Q15848826'), ('label', 'city palace')]\n",
      "[('objectClass', 'http://www.wikidata.org/entity/Q188889'), ('label', 'code')]\n",
      "[('objectClass', 'http://www.wikidata.org/entity/Q467011'), ('label', 'invasion')]\n",
      "[('objectClass', 'http://www.wikidata.org/entity/Q1324633'), ('label', 'naval base')]\n",
      "[('objectClass', 'http://www.wikidata.org/entity/Q476807'), ('label', 'military raid')]\n",
      "[('objectClass', 'http://www.wikidata.org/entity/Q732717'), ('label', 'law enforcement agency')]\n",
      "[('objectClass', 'http://www.wikidata.org/entity/Q2460422'), ('label', 'guest house')]\n",
      "[('objectClass', 'http://www.wikidata.org/entity/Q14914657'), ('label', 'independence day')]\n",
      "[('objectClass', 'http://www.wikidata.org/entity/Q176494'), ('label', 'recession')]\n",
      "[('objectClass', 'http://www.wikidata.org/entity/Q779415'), ('label', 'special administrative region of China')]\n",
      "[('objectClass', 'http://www.wikidata.org/entity/Q975413'), ('label', 'encyclopedic dictionary')]\n",
      "[('objectClass', 'http://www.wikidata.org/entity/Q52110228'), ('label', 'geopolitical group')]\n",
      "[('objectClass', 'http://www.wikidata.org/entity/Q26884324'), ('label', 'Wikimedia outline article')]\n",
      "[('objectClass', 'http://www.wikidata.org/entity/Q7989796'), ('label', 'emigrant trail')]\n",
      "[('objectClass', 'http://www.wikidata.org/entity/Q5307555'), ('label', 'drill hall')]\n",
      "[('objectClass', 'http://www.wikidata.org/entity/Q50849176'), ('label', 'Great Seal')]\n",
      "[('objectClass', 'http://www.wikidata.org/entity/Q5919191'), ('label', 'military intervention')]\n",
      "[('objectClass', 'http://www.wikidata.org/entity/Q3536928'), ('label', 'free trade agreement')]\n",
      "[('objectClass', 'http://www.wikidata.org/entity/Q55833'), ('label', 'supercontinent')]\n",
      "[('objectClass', 'http://www.wikidata.org/entity/Q9430'), ('label', 'ocean')]\n",
      "[('objectClass', 'http://www.wikidata.org/entity/Q217327'), ('label', 'suicide attack')]\n",
      "[('objectClass', 'http://www.wikidata.org/entity/Q475050'), ('label', 'federal district')]\n",
      "[('objectClass', 'http://www.wikidata.org/entity/Q6973377'), ('label', 'National Historic Trail')]\n",
      "[('objectClass', 'http://www.wikidata.org/entity/Q1020018'), ('label', 'stock market crash')]\n",
      "[('objectClass', 'http://www.wikidata.org/entity/Q8052077'), ('label', 'Yemen')]\n",
      "[('objectClass', 'http://www.wikidata.org/entity/Q27031827'), ('label', 'open data portal')]\n",
      "[('objectClass', 'http://www.wikidata.org/entity/Q645304'), ('label', 'indigenous language')]\n",
      "[('objectClass', 'http://www.wikidata.org/entity/Q1951661'), ('label', 'member states of the Association of Southeast Asian Nations')]\n",
      "[('objectClass', 'http://www.wikidata.org/entity/Q13107770'), ('label', 'archipelagic state')]\n",
      "[('objectClass', 'http://www.wikidata.org/entity/Q1896989'), ('label', 'subject of international law')]\n",
      "[('objectClass', 'http://www.wikidata.org/entity/Q202686'), ('label', 'Commonwealth realm')]\n",
      "[('objectClass', 'http://www.wikidata.org/entity/Q2418896'), ('label', 'part of the world')]\n",
      "[('objectClass', 'http://www.wikidata.org/entity/Q339834'), ('label', 'regional power')]\n",
      "[('objectClass', 'http://www.wikidata.org/entity/Q855697'), ('label', 'subcontinent')]\n",
      "[('objectClass', 'http://www.wikidata.org/entity/Q864113'), ('label', 'proxy war')]\n",
      "[('objectClass', 'http://www.wikidata.org/entity/Q1934708'), ('label', 'public holidays in the United States')]\n",
      "[('objectClass', 'http://www.wikidata.org/entity/Q14565197'), ('label', 'relative direction')]\n",
      "[('objectClass', 'http://www.wikidata.org/entity/Q672729'), ('label', 'Islamic republic')]\n",
      "[('objectClass', 'http://www.wikidata.org/entity/Q28963381'), ('label', 'group of major economic countries')]\n",
      "[('objectClass', 'http://www.wikidata.org/entity/Q15634554'), ('label', 'state with limited recognition')]\n",
      "[('objectClass', 'http://www.wikidata.org/entity/Q756202'), ('label', 'reserve currency')]\n",
      "[('objectClass', 'http://www.wikidata.org/entity/Q47185658'), ('label', 'Freedom House country rank')]\n",
      "[('objectClass', 'http://www.wikidata.org/entity/Q66724388'), ('label', 'autonomous country within the Kingdom of Denmark')]\n",
      "[('objectClass', 'http://www.wikidata.org/entity/Q105518754'), ('label', 'official birthday')]\n",
      "[('objectClass', 'http://www.wikidata.org/entity/Q5164076'), ('label', 'constituent state')]\n",
      "[('objectClass', 'http://www.wikidata.org/entity/Q5440534'), ('label', 'federal holidays in the United States')]\n",
      "[('objectClass', 'http://www.wikidata.org/entity/Q918240'), ('label', 'territorial evolution of the British Empire')]\n",
      "[('objectClass', 'http://www.wikidata.org/entity/Q25929224'), ('label', 'transfer of sovereignty')]\n",
      "[('objectClass', 'http://www.wikidata.org/entity/Q1147274'), ('label', 'Apostolic see')]\n",
      "[('objectClass', 'http://www.wikidata.org/entity/Q1980736'), ('label', 'New Year celebrations')]\n",
      "[('objectClass', 'http://www.wikidata.org/entity/Q104098715'), ('label', 'territorial entity type')]\n",
      "[('objectClass', 'http://www.wikidata.org/entity/Q3275668'), ('label', 'national power')]\n",
      "[('objectClass', 'http://www.wikidata.org/entity/Q6982012'), ('label', 'naval offensive')]\n",
      "257\n"
     ]
    }
   ],
   "source": [
    "queryString = \"\"\"\n",
    "SELECT DISTINCT ?objectClass ?label\n",
    "WHERE {   \n",
    "   wd:Q30 ?property ?object .\n",
    "   ?object wdt:P31 ?objectClass .\n",
    "   ?objectClass sc:name ?label .\n",
    "   FILTER(!isLiteral(?object)) .   \n",
    "}\n",
    "\"\"\"\n",
    "print(\"Results\")\n",
    "x=run_query(queryString)"
   ]
  },
  {
   "cell_type": "markdown",
   "id": "b1ab95e0-82d9-49cc-92c5-b3c75c4af461",
   "metadata": {
    "tags": []
   },
   "source": [
    "### Get all the couples (object property - list of the classes of the objects that are connected to \"United States of America\"  (wd:Q30) through that object property)"
   ]
  },
  {
   "cell_type": "code",
   "execution_count": 129,
   "id": "cdff0353-840c-487c-89b9-793f4a67cf83",
   "metadata": {},
   "outputs": [
    {
     "name": "stdout",
     "output_type": "stream",
     "text": [
      "Results\n",
      "[('property', 'http://www.wikidata.org/prop/direct/P2184'), ('labelProperty', 'history of topic'), ('objectsClasses', 'http://www.wikidata.org/entity/Q11862829,http://www.wikidata.org/entity/Q4671286,http://www.wikidata.org/entity/Q1047113,http://www.wikidata.org/entity/Q17544377'), ('labelsObjectsClasses', 'academic discipline,academic major,specialty,history of a country or state')]\n",
      "[('property', 'http://www.wikidata.org/prop/direct/P5125'), ('labelProperty', 'Wikimedia outline'), ('objectsClasses', 'http://www.wikidata.org/entity/Q26884324'), ('labelsObjectsClasses', 'Wikimedia outline article')]\n",
      "[('property', 'http://www.wikidata.org/prop/direct/P2238'), ('labelProperty', 'official symbol'), ('objectsClasses', 'http://www.wikidata.org/entity/Q16521'), ('labelsObjectsClasses', 'taxon')]\n",
      "[('property', 'http://www.wikidata.org/prop/direct/P361'), ('labelProperty', 'part of'), ('objectsClasses', 'http://www.wikidata.org/entity/Q5107,http://www.wikidata.org/entity/Q855697'), ('labelsObjectsClasses', 'continent,subcontinent')]\n",
      "[('property', 'http://www.wikidata.org/prop/direct/P1344'), ('labelProperty', 'participant in'), ('objectsClasses', 'http://www.wikidata.org/entity/Q1006311,http://www.wikidata.org/entity/Q4688003,http://www.wikidata.org/entity/Q131569,http://www.wikidata.org/entity/Q645883,http://www.wikidata.org/entity/Q8465,http://www.wikidata.org/entity/Q29431432,http://www.wikidata.org/entity/Q178561,http://www.wikidata.org/entity/Q178561,http://www.wikidata.org/entity/Q178561,http://www.wikidata.org/entity/Q178561,http://www.wikidata.org/entity/Q178561,http://www.wikidata.org/entity/Q178561,http://www.wikidata.org/entity/Q178561,http://www.wikidata.org/entity/Q178561,http://www.wikidata.org/entity/Q178561,http://www.wikidata.org/entity/Q178561,http://www.wikidata.org/entity/Q198,http://www.wikidata.org/entity/Q198,http://www.wikidata.org/entity/Q198,http://www.wikidata.org/entity/Q198,http://www.wikidata.org/entity/Q5153967,http://www.wikidata.org/entity/Q864113,http://www.wikidata.org/entity/Q864113'), ('labelsObjectsClasses', 'war of national liberation,aerial bombing of a city,treaty,military operation,civil war,dyad,battle,battle,battle,battle,battle,battle,battle,battle,battle,battle,war,war,war,war,communal violence,proxy war,proxy war')]\n",
      "[('property', 'http://www.wikidata.org/prop/direct/P6'), ('labelProperty', 'head of government'), ('objectsClasses', 'http://www.wikidata.org/entity/Q5'), ('labelsObjectsClasses', 'human')]\n",
      "[('property', 'http://www.wikidata.org/prop/direct/P5658'), ('labelProperty', 'railway traffic side'), ('objectsClasses', 'http://www.wikidata.org/entity/Q14565197'), ('labelsObjectsClasses', 'relative direction')]\n",
      "[('property', 'http://www.wikidata.org/prop/direct/P1622'), ('labelProperty', 'driving side'), ('objectsClasses', 'http://www.wikidata.org/entity/Q14565197'), ('labelsObjectsClasses', 'relative direction')]\n",
      "[('property', 'http://www.wikidata.org/prop/direct/P2633'), ('labelProperty', 'geography of topic'), ('objectsClasses', 'http://www.wikidata.org/entity/Q46865913'), ('labelsObjectsClasses', 'geography of geographic location')]\n",
      "[('property', 'http://www.wikidata.org/prop/direct/P206'), ('labelProperty', 'located in or next to body of water'), ('objectsClasses', 'http://www.wikidata.org/entity/Q165,http://www.wikidata.org/entity/Q9430,http://www.wikidata.org/entity/Q9430,http://www.wikidata.org/entity/Q9430'), ('labelsObjectsClasses', 'sea,ocean,ocean,ocean')]\n",
      "[('property', 'http://www.wikidata.org/prop/direct/P92'), ('labelProperty', 'main regulatory text'), ('objectsClasses', 'http://www.wikidata.org/entity/Q7755'), ('labelsObjectsClasses', 'constitution')]\n",
      "[('property', 'http://www.wikidata.org/prop/direct/P5008'), ('labelProperty', 'on focus list of Wikimedia project'), ('objectsClasses', 'http://www.wikidata.org/entity/Q16695773,http://www.wikidata.org/entity/Q16695773,http://www.wikidata.org/entity/Q13406463,http://www.wikidata.org/entity/Q14204246'), ('labelsObjectsClasses', 'WikiProject,WikiProject,Wikimedia list article,Wikimedia project page')]\n",
      "[('property', 'http://www.wikidata.org/prop/direct/P172'), ('labelProperty', 'ethnic group'), ('objectsClasses', 'http://www.wikidata.org/entity/Q2531956,http://www.wikidata.org/entity/Q28790362,http://www.wikidata.org/entity/Q41710,http://www.wikidata.org/entity/Q41710,http://www.wikidata.org/entity/Q41710'), ('labelsObjectsClasses', 'ethnic group,ethnic community,ethnic group,ethnic group,ethnic group')]\n",
      "[('property', 'http://www.wikidata.org/prop/direct/P1589'), ('labelProperty', 'lowest point'), ('objectsClasses', 'http://www.wikidata.org/entity/Q190429'), ('labelsObjectsClasses', 'depression')]\n",
      "[('property', 'http://www.wikidata.org/prop/direct/P2579'), ('labelProperty', 'studied by'), ('objectsClasses', 'http://www.wikidata.org/entity/Q11862829'), ('labelsObjectsClasses', 'academic discipline')]\n",
      "[('property', 'http://www.wikidata.org/prop/direct/P78'), ('labelProperty', 'top-level Internet domain'), ('objectsClasses', 'http://www.wikidata.org/entity/Q14296,http://www.wikidata.org/entity/Q42032,http://www.wikidata.org/entity/Q42032,http://www.wikidata.org/entity/Q29380'), ('labelsObjectsClasses', 'top-level domain,country code top-level domain,country code top-level domain,sponsored top-level domain')]\n",
      "[('property', 'http://www.wikidata.org/prop/direct/P1792'), ('labelProperty', 'category of associated people'), ('objectsClasses', 'http://www.wikidata.org/entity/Q59542487,http://www.wikidata.org/entity/Q4167836'), ('labelsObjectsClasses', 'Wikimedia set category,Wikimedia category')]\n",
      "[('property', 'http://www.wikidata.org/prop/direct/P208'), ('labelProperty', 'executive body'), ('objectsClasses', 'http://www.wikidata.org/entity/Q1006644'), ('labelsObjectsClasses', 'federal government')]\n",
      "[('property', 'http://www.wikidata.org/prop/direct/P38'), ('labelProperty', 'currency'), ('objectsClasses', 'http://www.wikidata.org/entity/Q14083,http://www.wikidata.org/entity/Q8142,http://www.wikidata.org/entity/Q756202'), ('labelsObjectsClasses', 'dollar,currency,reserve currency')]\n",
      "[('property', 'http://www.wikidata.org/prop/direct/P1424'), ('labelProperty', \"topic's main template\"), ('objectsClasses', 'http://www.wikidata.org/entity/Q11266439,http://www.wikidata.org/entity/Q11753321'), ('labelsObjectsClasses', 'Wikimedia template,Wikimedia navigational template')]\n",
      "[('property', 'http://www.wikidata.org/prop/direct/P17'), ('labelProperty', 'country'), ('objectsClasses', 'http://www.wikidata.org/entity/Q1489259,http://www.wikidata.org/entity/Q99541706,http://www.wikidata.org/entity/Q1520223,http://www.wikidata.org/entity/Q3624078,http://www.wikidata.org/entity/Q512187,http://www.wikidata.org/entity/Q5255892,http://www.wikidata.org/entity/Q6256'), ('labelsObjectsClasses', 'superpower,historical unrecognized state,constitutional republic,sovereign state,federal republic,democratic republic,country')]\n",
      "[('property', 'http://www.wikidata.org/prop/direct/P1313'), ('labelProperty', 'office held by head of government'), ('objectsClasses', 'http://www.wikidata.org/entity/Q17279032'), ('labelsObjectsClasses', 'elective office')]\n",
      "[('property', 'http://www.wikidata.org/prop/direct/P2959'), ('labelProperty', 'permanent duplicated item'), ('objectsClasses', 'http://www.wikidata.org/entity/Q21286738,http://www.wikidata.org/entity/Q21286738,http://www.wikidata.org/entity/Q21286738'), ('labelsObjectsClasses', 'Wikimedia permanent duplicate item,Wikimedia permanent duplicate item,Wikimedia permanent duplicate item')]\n",
      "[('property', 'http://www.wikidata.org/prop/direct/P47'), ('labelProperty', 'shares border with'), ('objectsClasses', 'http://www.wikidata.org/entity/Q1520223,http://www.wikidata.org/entity/Q3624078,http://www.wikidata.org/entity/Q3624078,http://www.wikidata.org/entity/Q512187,http://www.wikidata.org/entity/Q5255892,http://www.wikidata.org/entity/Q6256,http://www.wikidata.org/entity/Q6256,http://www.wikidata.org/entity/Q6266,http://www.wikidata.org/entity/Q3275668'), ('labelsObjectsClasses', 'constitutional republic,sovereign state,sovereign state,federal republic,democratic republic,country,country,nation,national power')]\n",
      "[('property', 'http://www.wikidata.org/prop/direct/P85'), ('labelProperty', 'anthem'), ('objectsClasses', 'http://www.wikidata.org/entity/Q23691'), ('labelsObjectsClasses', 'national anthem')]\n",
      "[('property', 'http://www.wikidata.org/prop/direct/P1791'), ('labelProperty', 'category of people buried here'), ('objectsClasses', 'http://www.wikidata.org/entity/Q4167836'), ('labelsObjectsClasses', 'Wikimedia category')]\n",
      "[('property', 'http://www.wikidata.org/prop/direct/P1906'), ('labelProperty', 'office held by head of state'), ('objectsClasses', 'http://www.wikidata.org/entity/Q17279032'), ('labelsObjectsClasses', 'elective office')]\n",
      "[('property', 'http://www.wikidata.org/prop/direct/P1830'), ('labelProperty', 'owner of'), ('objectsClasses', 'http://www.wikidata.org/entity/Q3947,http://www.wikidata.org/entity/Q3947,http://www.wikidata.org/entity/Q481289,http://www.wikidata.org/entity/Q481289,http://www.wikidata.org/entity/Q16831714,http://www.wikidata.org/entity/Q1885014,http://www.wikidata.org/entity/Q52177058,http://www.wikidata.org/entity/Q1802963,http://www.wikidata.org/entity/Q35127,http://www.wikidata.org/entity/Q35127,http://www.wikidata.org/entity/Q570116,http://www.wikidata.org/entity/Q811979,http://www.wikidata.org/entity/Q1497364,http://www.wikidata.org/entity/Q3305213,http://www.wikidata.org/entity/Q36794,http://www.wikidata.org/entity/Q3950,http://www.wikidata.org/entity/Q3950,http://www.wikidata.org/entity/Q41176,http://www.wikidata.org/entity/Q41176,http://www.wikidata.org/entity/Q860861,http://www.wikidata.org/entity/Q19860854,http://www.wikidata.org/entity/Q641226,http://www.wikidata.org/entity/Q1021645,http://www.wikidata.org/entity/Q15848826,http://www.wikidata.org/entity/Q1324633,http://www.wikidata.org/entity/Q2460422,http://www.wikidata.org/entity/Q5307555'), ('labelsObjectsClasses', 'house,house,official residence,official residence,government building,cautionary monument,civic building,mansion,website,website,tourist attraction,architectural structure,building complex,painting,door,villa,villa,building,building,sculpture,destroyed building or structure,arena,office building,city palace,naval base,guest house,drill hall')]\n",
      "[('property', 'http://www.wikidata.org/prop/direct/P1441'), ('labelProperty', 'present in work'), ('objectsClasses', 'http://www.wikidata.org/entity/Q61220733,http://www.wikidata.org/entity/Q21191270,http://www.wikidata.org/entity/Q2431196'), ('labelsObjectsClasses', 'Star Trek episode,television series episode,audiovisual work')]\n",
      "[('property', 'http://www.wikidata.org/prop/direct/P1889'), ('labelProperty', 'different from'), ('objectsClasses', 'http://www.wikidata.org/entity/Q5107,http://www.wikidata.org/entity/Q55833,http://www.wikidata.org/entity/Q2418896'), ('labelsObjectsClasses', 'continent,supercontinent,part of the world')]\n",
      "[('property', 'http://www.wikidata.org/prop/direct/P1464'), ('labelProperty', 'category for people born here'), ('objectsClasses', 'http://www.wikidata.org/entity/Q4167836'), ('labelsObjectsClasses', 'Wikimedia category')]\n",
      "[('property', 'http://www.wikidata.org/prop/direct/P2852'), ('labelProperty', 'emergency telephone number'), ('objectsClasses', 'http://www.wikidata.org/entity/Q694554'), ('labelsObjectsClasses', 'emergency telephone number')]\n",
      "[('property', 'http://www.wikidata.org/prop/direct/P1552'), ('labelProperty', 'has quality'), ('objectsClasses', 'http://www.wikidata.org/entity/Q47185658'), ('labelsObjectsClasses', 'Freedom House country rank')]\n",
      "[('property', 'http://www.wikidata.org/prop/direct/P122'), ('labelProperty', 'basic form of government'), ('objectsClasses', 'http://www.wikidata.org/entity/Q1307214,http://www.wikidata.org/entity/Q1307214'), ('labelsObjectsClasses', 'form of government,form of government')]\n",
      "[('property', 'http://www.wikidata.org/prop/direct/P457'), ('labelProperty', 'foundational text'), ('objectsClasses', 'http://www.wikidata.org/entity/Q1464916'), ('labelsObjectsClasses', 'declaration of independence')]\n",
      "[('property', 'http://www.wikidata.org/prop/direct/P2936'), ('labelProperty', 'language used'), ('objectsClasses', 'http://www.wikidata.org/entity/Q335214,http://www.wikidata.org/entity/Q1288568,http://www.wikidata.org/entity/Q1288568,http://www.wikidata.org/entity/Q1288568,http://www.wikidata.org/entity/Q1288568,http://www.wikidata.org/entity/Q1288568,http://www.wikidata.org/entity/Q1288568,http://www.wikidata.org/entity/Q1288568,http://www.wikidata.org/entity/Q1288568,http://www.wikidata.org/entity/Q1288568,http://www.wikidata.org/entity/Q1288568,http://www.wikidata.org/entity/Q1288568,http://www.wikidata.org/entity/Q1288568,http://www.wikidata.org/entity/Q1288568,http://www.wikidata.org/entity/Q1288568,http://www.wikidata.org/entity/Q1288568,http://www.wikidata.org/entity/Q1288568,http://www.wikidata.org/entity/Q1288568,http://www.wikidata.org/entity/Q1288568,http://www.wikidata.org/entity/Q1288568,http://www.wikidata.org/entity/Q1288568,http://www.wikidata.org/entity/Q1288568,http://www.wikidata.org/entity/Q1288568,http://www.wikidata.org/entity/Q1288568,http://www.wikidata.org/entity/Q1288568,http://www.wikidata.org/entity/Q1288568,http://www.wikidata.org/entity/Q1288568,http://www.wikidata.org/entity/Q1288568,http://www.wikidata.org/entity/Q1288568,http://www.wikidata.org/entity/Q1288568,http://www.wikidata.org/entity/Q1288568,http://www.wikidata.org/entity/Q1288568,http://www.wikidata.org/entity/Q1288568,http://www.wikidata.org/entity/Q1288568,http://www.wikidata.org/entity/Q1288568,http://www.wikidata.org/entity/Q1288568,http://www.wikidata.org/entity/Q1288568,http://www.wikidata.org/entity/Q1288568,http://www.wikidata.org/entity/Q1288568,http://www.wikidata.org/entity/Q1288568,http://www.wikidata.org/entity/Q1288568,http://www.wikidata.org/entity/Q1288568,http://www.wikidata.org/entity/Q1288568,http://www.wikidata.org/entity/Q1288568,http://www.wikidata.org/entity/Q1288568,http://www.wikidata.org/entity/Q1288568,http://www.wikidata.org/entity/Q1288568,http://www.wikidata.org/entity/Q1288568,http://www.wikidata.org/entity/Q1288568,http://www.wikidata.org/entity/Q1288568,http://www.wikidata.org/entity/Q1288568,http://www.wikidata.org/entity/Q1288568,http://www.wikidata.org/entity/Q1288568,http://www.wikidata.org/entity/Q1288568,http://www.wikidata.org/entity/Q1288568,http://www.wikidata.org/entity/Q1288568,http://www.wikidata.org/entity/Q1288568,http://www.wikidata.org/entity/Q1288568,http://www.wikidata.org/entity/Q1288568,http://www.wikidata.org/entity/Q1288568,http://www.wikidata.org/entity/Q1288568,http://www.wikidata.org/entity/Q1288568,http://www.wikidata.org/entity/Q1288568,http://www.wikidata.org/entity/Q1288568,http://www.wikidata.org/entity/Q1288568,http://www.wikidata.org/entity/Q1288568,http://www.wikidata.org/entity/Q1288568,http://www.wikidata.org/entity/Q1288568,http://www.wikidata.org/entity/Q1288568,http://www.wikidata.org/entity/Q1288568,http://www.wikidata.org/entity/Q1288568,http://www.wikidata.org/entity/Q1288568,http://www.wikidata.org/entity/Q1288568,http://www.wikidata.org/entity/Q1288568,http://www.wikidata.org/entity/Q1288568,http://www.wikidata.org/entity/Q1288568,http://www.wikidata.org/entity/Q1288568,http://www.wikidata.org/entity/Q1288568,http://www.wikidata.org/entity/Q1288568,http://www.wikidata.org/entity/Q1288568,http://www.wikidata.org/entity/Q1288568,http://www.wikidata.org/entity/Q1288568,http://www.wikidata.org/entity/Q1288568,http://www.wikidata.org/entity/Q1288568,http://www.wikidata.org/entity/Q1288568,http://www.wikidata.org/entity/Q1288568,http://www.wikidata.org/entity/Q1288568,http://www.wikidata.org/entity/Q1288568,http://www.wikidata.org/entity/Q1288568,http://www.wikidata.org/entity/Q1288568,http://www.wikidata.org/entity/Q1288568,http://www.wikidata.org/entity/Q1288568,http://www.wikidata.org/entity/Q1288568,http://www.wikidata.org/entity/Q1288568,http://www.wikidata.org/entity/Q1288568,http://www.wikidata.org/entity/Q1288568,http://www.wikidata.org/entity/Q1288568,http://www.wikidata.org/entity/Q1288568,http://www.wikidata.org/entity/Q1288568,http://www.wikidata.org/entity/Q1288568,http://www.wikidata.org/entity/Q1288568,http://www.wikidata.org/entity/Q1288568,http://www.wikidata.org/entity/Q1288568,http://www.wikidata.org/entity/Q1288568,http://www.wikidata.org/entity/Q1288568,http://www.wikidata.org/entity/Q1288568,http://www.wikidata.org/entity/Q1288568,http://www.wikidata.org/entity/Q1288568,http://www.wikidata.org/entity/Q1288568,http://www.wikidata.org/entity/Q1288568,http://www.wikidata.org/entity/Q1288568,http://www.wikidata.org/entity/Q1288568,http://www.wikidata.org/entity/Q1288568,http://www.wikidata.org/entity/Q1288568,http://www.wikidata.org/entity/Q1288568,http://www.wikidata.org/entity/Q1288568,http://www.wikidata.org/entity/Q1288568,http://www.wikidata.org/entity/Q1288568,http://www.wikidata.org/entity/Q1288568,http://www.wikidata.org/entity/Q1288568,http://www.wikidata.org/entity/Q1288568,http://www.wikidata.org/entity/Q1288568,http://www.wikidata.org/entity/Q1288568,http://www.wikidata.org/entity/Q1288568,http://www.wikidata.org/entity/Q1288568,http://www.wikidata.org/entity/Q1288568,http://www.wikidata.org/entity/Q1288568,http://www.wikidata.org/entity/Q1288568,http://www.wikidata.org/entity/Q1288568,http://www.wikidata.org/entity/Q1288568,http://www.wikidata.org/entity/Q1288568,http://www.wikidata.org/entity/Q1288568,http://www.wikidata.org/entity/Q1288568,http://www.wikidata.org/entity/Q1288568,http://www.wikidata.org/entity/Q1288568,http://www.wikidata.org/entity/Q1288568,http://www.wikidata.org/entity/Q1288568,http://www.wikidata.org/entity/Q1288568,http://www.wikidata.org/entity/Q1288568,http://www.wikidata.org/entity/Q1288568,http://www.wikidata.org/entity/Q1288568,http://www.wikidata.org/entity/Q1288568,http://www.wikidata.org/entity/Q1288568,http://www.wikidata.org/entity/Q1288568,http://www.wikidata.org/entity/Q1288568,http://www.wikidata.org/entity/Q1288568,http://www.wikidata.org/entity/Q1288568,http://www.wikidata.org/entity/Q1288568,http://www.wikidata.org/entity/Q33384,http://www.wikidata.org/entity/Q33384,http://www.wikidata.org/entity/Q33384,http://www.wikidata.org/entity/Q33384,http://www.wikidata.org/entity/Q33384,http://www.wikidata.org/entity/Q33384,http://www.wikidata.org/entity/Q33742,http://www.wikidata.org/entity/Q33742,http://www.wikidata.org/entity/Q33742,http://www.wikidata.org/entity/Q33742,http://www.wikidata.org/entity/Q33742,http://www.wikidata.org/entity/Q34770,http://www.wikidata.org/entity/Q34770,http://www.wikidata.org/entity/Q34770,http://www.wikidata.org/entity/Q34770,http://www.wikidata.org/entity/Q34770,http://www.wikidata.org/entity/Q34770,http://www.wikidata.org/entity/Q34770,http://www.wikidata.org/entity/Q34770,http://www.wikidata.org/entity/Q34770,http://www.wikidata.org/entity/Q34770,http://www.wikidata.org/entity/Q34770,http://www.wikidata.org/entity/Q34770,http://www.wikidata.org/entity/Q34770,http://www.wikidata.org/entity/Q34770,http://www.wikidata.org/entity/Q34770,http://www.wikidata.org/entity/Q34770,http://www.wikidata.org/entity/Q34770,http://www.wikidata.org/entity/Q34770,http://www.wikidata.org/entity/Q34770,http://www.wikidata.org/entity/Q34770,http://www.wikidata.org/entity/Q34770,http://www.wikidata.org/entity/Q34770,http://www.wikidata.org/entity/Q34770,http://www.wikidata.org/entity/Q34770,http://www.wikidata.org/entity/Q34770,http://www.wikidata.org/entity/Q34770,http://www.wikidata.org/entity/Q34770,http://www.wikidata.org/entity/Q34770,http://www.wikidata.org/entity/Q34770,http://www.wikidata.org/entity/Q34770,http://www.wikidata.org/entity/Q34770,http://www.wikidata.org/entity/Q34770,http://www.wikidata.org/entity/Q34770,http://www.wikidata.org/entity/Q34770,http://www.wikidata.org/entity/Q34770,http://www.wikidata.org/entity/Q34770,http://www.wikidata.org/entity/Q34770,http://www.wikidata.org/entity/Q34770,http://www.wikidata.org/entity/Q34770,http://www.wikidata.org/entity/Q34770,http://www.wikidata.org/entity/Q34770,http://www.wikidata.org/entity/Q34770,http://www.wikidata.org/entity/Q34770,http://www.wikidata.org/entity/Q34770,http://www.wikidata.org/entity/Q34770,http://www.wikidata.org/entity/Q34770,http://www.wikidata.org/entity/Q34770,http://www.wikidata.org/entity/Q34770,http://www.wikidata.org/entity/Q34770,http://www.wikidata.org/entity/Q34770,http://www.wikidata.org/entity/Q34770,http://www.wikidata.org/entity/Q34770,http://www.wikidata.org/entity/Q34770,http://www.wikidata.org/entity/Q34770,http://www.wikidata.org/entity/Q34770,http://www.wikidata.org/entity/Q34770,http://www.wikidata.org/entity/Q34770,http://www.wikidata.org/entity/Q34770,http://www.wikidata.org/entity/Q34770,http://www.wikidata.org/entity/Q34770,http://www.wikidata.org/entity/Q34770,http://www.wikidata.org/entity/Q34770,http://www.wikidata.org/entity/Q34770,http://www.wikidata.org/entity/Q34770,http://www.wikidata.org/entity/Q34770,http://www.wikidata.org/entity/Q34770,http://www.wikidata.org/entity/Q34770,http://www.wikidata.org/entity/Q34770,http://www.wikidata.org/entity/Q34770,http://www.wikidata.org/entity/Q34770,http://www.wikidata.org/entity/Q34770,http://www.wikidata.org/entity/Q34770,http://www.wikidata.org/entity/Q34770,http://www.wikidata.org/entity/Q34770,http://www.wikidata.org/entity/Q34770,http://www.wikidata.org/entity/Q34770,http://www.wikidata.org/entity/Q34770,http://www.wikidata.org/entity/Q34770,http://www.wikidata.org/entity/Q34770,http://www.wikidata.org/entity/Q34770,http://www.wikidata.org/entity/Q34770,http://www.wikidata.org/entity/Q34770,http://www.wikidata.org/entity/Q34770,http://www.wikidata.org/entity/Q34770,http://www.wikidata.org/entity/Q34770,http://www.wikidata.org/entity/Q34770,http://www.wikidata.org/entity/Q34770,http://www.wikidata.org/entity/Q34770,http://www.wikidata.org/entity/Q34770,http://www.wikidata.org/entity/Q34770,http://www.wikidata.org/entity/Q34770,http://www.wikidata.org/entity/Q34770,http://www.wikidata.org/entity/Q34770,http://www.wikidata.org/entity/Q34770,http://www.wikidata.org/entity/Q34770,http://www.wikidata.org/entity/Q34770,http://www.wikidata.org/entity/Q34770,http://www.wikidata.org/entity/Q34770,http://www.wikidata.org/entity/Q34770,http://www.wikidata.org/entity/Q34770,http://www.wikidata.org/entity/Q34770,http://www.wikidata.org/entity/Q34770,http://www.wikidata.org/entity/Q34770,http://www.wikidata.org/entity/Q34770,http://www.wikidata.org/entity/Q34770,http://www.wikidata.org/entity/Q34770,http://www.wikidata.org/entity/Q34770,http://www.wikidata.org/entity/Q34770,http://www.wikidata.org/entity/Q34770,http://www.wikidata.org/entity/Q34770,http://www.wikidata.org/entity/Q34770,http://www.wikidata.org/entity/Q34770,http://www.wikidata.org/entity/Q34770,http://www.wikidata.org/entity/Q34770,http://www.wikidata.org/entity/Q34770,http://www.wikidata.org/entity/Q34770,http://www.wikidata.org/entity/Q34770,http://www.wikidata.org/entity/Q34770,http://www.wikidata.org/entity/Q34770,http://www.wikidata.org/entity/Q34770,http://www.wikidata.org/entity/Q34770,http://www.wikidata.org/entity/Q34770,http://www.wikidata.org/entity/Q34770,http://www.wikidata.org/entity/Q34770,http://www.wikidata.org/entity/Q34770,http://www.wikidata.org/entity/Q34770,http://www.wikidata.org/entity/Q34770,http://www.wikidata.org/entity/Q34770,http://www.wikidata.org/entity/Q34770,http://www.wikidata.org/entity/Q34770,http://www.wikidata.org/entity/Q34770,http://www.wikidata.org/entity/Q34770,http://www.wikidata.org/entity/Q34770,http://www.wikidata.org/entity/Q34770,http://www.wikidata.org/entity/Q34770,http://www.wikidata.org/entity/Q34770,http://www.wikidata.org/entity/Q34770,http://www.wikidata.org/entity/Q34770,http://www.wikidata.org/entity/Q34770,http://www.wikidata.org/entity/Q34770,http://www.wikidata.org/entity/Q34770,http://www.wikidata.org/entity/Q34770,http://www.wikidata.org/entity/Q34770,http://www.wikidata.org/entity/Q34770,http://www.wikidata.org/entity/Q34770,http://www.wikidata.org/entity/Q34770,http://www.wikidata.org/entity/Q34770,http://www.wikidata.org/entity/Q34770,http://www.wikidata.org/entity/Q34770,http://www.wikidata.org/entity/Q34770,http://www.wikidata.org/entity/Q34770,http://www.wikidata.org/entity/Q34770,http://www.wikidata.org/entity/Q34770,http://www.wikidata.org/entity/Q34770,http://www.wikidata.org/entity/Q34770,http://www.wikidata.org/entity/Q34770,http://www.wikidata.org/entity/Q34770,http://www.wikidata.org/entity/Q34770,http://www.wikidata.org/entity/Q34770,http://www.wikidata.org/entity/Q34770,http://www.wikidata.org/entity/Q34770,http://www.wikidata.org/entity/Q34770,http://www.wikidata.org/entity/Q34770,http://www.wikidata.org/entity/Q34770,http://www.wikidata.org/entity/Q34770,http://www.wikidata.org/entity/Q34770,http://www.wikidata.org/entity/Q34770,http://www.wikidata.org/entity/Q34770,http://www.wikidata.org/entity/Q34770,http://www.wikidata.org/entity/Q34770,http://www.wikidata.org/entity/Q34770,http://www.wikidata.org/entity/Q34770,http://www.wikidata.org/entity/Q34770,http://www.wikidata.org/entity/Q34770,http://www.wikidata.org/entity/Q34770,http://www.wikidata.org/entity/Q34770,http://www.wikidata.org/entity/Q34770,http://www.wikidata.org/entity/Q34770,http://www.wikidata.org/entity/Q34770,http://www.wikidata.org/entity/Q34770,http://www.wikidata.org/entity/Q34770,http://www.wikidata.org/entity/Q34770,http://www.wikidata.org/entity/Q34770,http://www.wikidata.org/entity/Q34770,http://www.wikidata.org/entity/Q34770,http://www.wikidata.org/entity/Q34770,http://www.wikidata.org/entity/Q34770,http://www.wikidata.org/entity/Q34770,http://www.wikidata.org/entity/Q34770,http://www.wikidata.org/entity/Q34770,http://www.wikidata.org/entity/Q34770,http://www.wikidata.org/entity/Q34770,http://www.wikidata.org/entity/Q34770,http://www.wikidata.org/entity/Q34770,http://www.wikidata.org/entity/Q34770,http://www.wikidata.org/entity/Q34770,http://www.wikidata.org/entity/Q34770,http://www.wikidata.org/entity/Q34770,http://www.wikidata.org/entity/Q34770,http://www.wikidata.org/entity/Q34770,http://www.wikidata.org/entity/Q34770,http://www.wikidata.org/entity/Q34770,http://www.wikidata.org/entity/Q34770,http://www.wikidata.org/entity/Q34770,http://www.wikidata.org/entity/Q34770,http://www.wikidata.org/entity/Q34770,http://www.wikidata.org/entity/Q34770,http://www.wikidata.org/entity/Q34770,http://www.wikidata.org/entity/Q34770,http://www.wikidata.org/entity/Q34770,http://www.wikidata.org/entity/Q83365345,http://www.wikidata.org/entity/Q83365345,http://www.wikidata.org/entity/Q83365345,http://www.wikidata.org/entity/Q83365345,http://www.wikidata.org/entity/Q83365345,http://www.wikidata.org/entity/Q83365345,http://www.wikidata.org/entity/Q152559,http://www.wikidata.org/entity/Q152559,http://www.wikidata.org/entity/Q33289,http://www.wikidata.org/entity/Q33289,http://www.wikidata.org/entity/Q33289,http://www.wikidata.org/entity/Q33648,http://www.wikidata.org/entity/Q83365347,http://www.wikidata.org/entity/Q83365347,http://www.wikidata.org/entity/Q83365347,http://www.wikidata.org/entity/Q83365347,http://www.wikidata.org/entity/Q83365347,http://www.wikidata.org/entity/Q83365347,http://www.wikidata.org/entity/Q83365347,http://www.wikidata.org/entity/Q83365347,http://www.wikidata.org/entity/Q83365347,http://www.wikidata.org/entity/Q83365347,http://www.wikidata.org/entity/Q83365347,http://www.wikidata.org/entity/Q83365347,http://www.wikidata.org/entity/Q83365366,http://www.wikidata.org/entity/Q83365366,http://www.wikidata.org/entity/Q83365366,http://www.wikidata.org/entity/Q83365366,http://www.wikidata.org/entity/Q83365366,http://www.wikidata.org/entity/Q83365366,http://www.wikidata.org/entity/Q83365366,http://www.wikidata.org/entity/Q83365366,http://www.wikidata.org/entity/Q83365366,http://www.wikidata.org/entity/Q83365366,http://www.wikidata.org/entity/Q83365366,http://www.wikidata.org/entity/Q83365366,http://www.wikidata.org/entity/Q83365366,http://www.wikidata.org/entity/Q83365366,http://www.wikidata.org/entity/Q83365366,http://www.wikidata.org/entity/Q83365366,http://www.wikidata.org/entity/Q83365366,http://www.wikidata.org/entity/Q83365366,http://www.wikidata.org/entity/Q83365404,http://www.wikidata.org/entity/Q83365404,http://www.wikidata.org/entity/Q83365404,http://www.wikidata.org/entity/Q83365404,http://www.wikidata.org/entity/Q83365404,http://www.wikidata.org/entity/Q83365404,http://www.wikidata.org/entity/Q83365404,http://www.wikidata.org/entity/Q83365404,http://www.wikidata.org/entity/Q83365404,http://www.wikidata.org/entity/Q83365404,http://www.wikidata.org/entity/Q83365404,http://www.wikidata.org/entity/Q83365404,http://www.wikidata.org/entity/Q83365404,http://www.wikidata.org/entity/Q83365404,http://www.wikidata.org/entity/Q83365404,http://www.wikidata.org/entity/Q83365404,http://www.wikidata.org/entity/Q83365404,http://www.wikidata.org/entity/Q83365404,http://www.wikidata.org/entity/Q83365404,http://www.wikidata.org/entity/Q83365404,http://www.wikidata.org/entity/Q83365404,http://www.wikidata.org/entity/Q83365404,http://www.wikidata.org/entity/Q83365404,http://www.wikidata.org/entity/Q83365404,http://www.wikidata.org/entity/Q83365404,http://www.wikidata.org/entity/Q83365404,http://www.wikidata.org/entity/Q83365404,http://www.wikidata.org/entity/Q83365404,http://www.wikidata.org/entity/Q83365404,http://www.wikidata.org/entity/Q83365404,http://www.wikidata.org/entity/Q83365404,http://www.wikidata.org/entity/Q83365404,http://www.wikidata.org/entity/Q83365404,http://www.wikidata.org/entity/Q83365404,http://www.wikidata.org/entity/Q83365404,http://www.wikidata.org/entity/Q83365404,http://www.wikidata.org/entity/Q83365404,http://www.wikidata.org/entity/Q83365404,http://www.wikidata.org/entity/Q83365404,http://www.wikidata.org/entity/Q83365404,http://www.wikidata.org/entity/Q83365404,http://www.wikidata.org/entity/Q83365404,http://www.wikidata.org/entity/Q83365404,http://www.wikidata.org/entity/Q83365404,http://www.wikidata.org/entity/Q83365404,http://www.wikidata.org/entity/Q83365404,http://www.wikidata.org/entity/Q83365404,http://www.wikidata.org/entity/Q83365404,http://www.wikidata.org/entity/Q83365404,http://www.wikidata.org/entity/Q83365404,http://www.wikidata.org/entity/Q83365404,http://www.wikidata.org/entity/Q83365404,http://www.wikidata.org/entity/Q83365404,http://www.wikidata.org/entity/Q83365404,http://www.wikidata.org/entity/Q83365404,http://www.wikidata.org/entity/Q83365404,http://www.wikidata.org/entity/Q83365404,http://www.wikidata.org/entity/Q83365404,http://www.wikidata.org/entity/Q25295,http://www.wikidata.org/entity/Q25295,http://www.wikidata.org/entity/Q25295,http://www.wikidata.org/entity/Q33831,http://www.wikidata.org/entity/Q34228,http://www.wikidata.org/entity/Q34228,http://www.wikidata.org/entity/Q34228,http://www.wikidata.org/entity/Q38058796,http://www.wikidata.org/entity/Q38058796,http://www.wikidata.org/entity/Q38058796,http://www.wikidata.org/entity/Q38058796,http://www.wikidata.org/entity/Q38058796,http://www.wikidata.org/entity/Q38058796,http://www.wikidata.org/entity/Q38058796,http://www.wikidata.org/entity/Q38058796,http://www.wikidata.org/entity/Q38058796,http://www.wikidata.org/entity/Q38058796,http://www.wikidata.org/entity/Q38058796,http://www.wikidata.org/entity/Q38058796,http://www.wikidata.org/entity/Q38058796,http://www.wikidata.org/entity/Q38058796,http://www.wikidata.org/entity/Q38058796,http://www.wikidata.org/entity/Q38058796,http://www.wikidata.org/entity/Q38058796,http://www.wikidata.org/entity/Q38058796,http://www.wikidata.org/entity/Q38058796,http://www.wikidata.org/entity/Q38058796,http://www.wikidata.org/entity/Q38058796,http://www.wikidata.org/entity/Q38058796,http://www.wikidata.org/entity/Q38058796,http://www.wikidata.org/entity/Q38058796,http://www.wikidata.org/entity/Q38058796,http://www.wikidata.org/entity/Q38058796,http://www.wikidata.org/entity/Q38058796,http://www.wikidata.org/entity/Q38058796,http://www.wikidata.org/entity/Q38058796,http://www.wikidata.org/entity/Q38058796,http://www.wikidata.org/entity/Q38058796,http://www.wikidata.org/entity/Q38058796,http://www.wikidata.org/entity/Q38058796,http://www.wikidata.org/entity/Q38058796,http://www.wikidata.org/entity/Q38058796,http://www.wikidata.org/entity/Q38058796,http://www.wikidata.org/entity/Q38058796,http://www.wikidata.org/entity/Q38058796,http://www.wikidata.org/entity/Q38058796,http://www.wikidata.org/entity/Q38058796,http://www.wikidata.org/entity/Q38058796,http://www.wikidata.org/entity/Q38058796,http://www.wikidata.org/entity/Q38058796,http://www.wikidata.org/entity/Q38058796,http://www.wikidata.org/entity/Q38058796,http://www.wikidata.org/entity/Q38058796,http://www.wikidata.org/entity/Q38058796,http://www.wikidata.org/entity/Q38058796,http://www.wikidata.org/entity/Q38058796,http://www.wikidata.org/entity/Q38058796,http://www.wikidata.org/entity/Q38058796,http://www.wikidata.org/entity/Q38058796,http://www.wikidata.org/entity/Q38058796,http://www.wikidata.org/entity/Q38058796,http://www.wikidata.org/entity/Q38058796,http://www.wikidata.org/entity/Q38058796,http://www.wikidata.org/entity/Q38058796,http://www.wikidata.org/entity/Q38058796,http://www.wikidata.org/entity/Q38058796,http://www.wikidata.org/entity/Q38058796,http://www.wikidata.org/entity/Q38058796,http://www.wikidata.org/entity/Q38058796,http://www.wikidata.org/entity/Q38058796,http://www.wikidata.org/entity/Q38058796,http://www.wikidata.org/entity/Q38058796,http://www.wikidata.org/entity/Q38058796,http://www.wikidata.org/entity/Q38058796,http://www.wikidata.org/entity/Q38058796,http://www.wikidata.org/entity/Q38058796,http://www.wikidata.org/entity/Q38058796,http://www.wikidata.org/entity/Q38058796,http://www.wikidata.org/entity/Q38058796,http://www.wikidata.org/entity/Q38058796,http://www.wikidata.org/entity/Q38058796,http://www.wikidata.org/entity/Q38058796,http://www.wikidata.org/entity/Q38058796,http://www.wikidata.org/entity/Q4085712,http://www.wikidata.org/entity/Q4085712,http://www.wikidata.org/entity/Q4085712,http://www.wikidata.org/entity/Q4085712,http://www.wikidata.org/entity/Q4085712,http://www.wikidata.org/entity/Q4085712,http://www.wikidata.org/entity/Q4085712,http://www.wikidata.org/entity/Q4085712,http://www.wikidata.org/entity/Q4085712,http://www.wikidata.org/entity/Q45762,http://www.wikidata.org/entity/Q45762,http://www.wikidata.org/entity/Q45762,http://www.wikidata.org/entity/Q45762,http://www.wikidata.org/entity/Q45762,http://www.wikidata.org/entity/Q45762,http://www.wikidata.org/entity/Q45762,http://www.wikidata.org/entity/Q45762,http://www.wikidata.org/entity/Q45762,http://www.wikidata.org/entity/Q45762,http://www.wikidata.org/entity/Q45762,http://www.wikidata.org/entity/Q45762,http://www.wikidata.org/entity/Q45762,http://www.wikidata.org/entity/Q45762,http://www.wikidata.org/entity/Q45762,http://www.wikidata.org/entity/Q45762,http://www.wikidata.org/entity/Q45762,http://www.wikidata.org/entity/Q45762,http://www.wikidata.org/entity/Q45762,http://www.wikidata.org/entity/Q45762,http://www.wikidata.org/entity/Q45762,http://www.wikidata.org/entity/Q45762,http://www.wikidata.org/entity/Q45762,http://www.wikidata.org/entity/Q45762,http://www.wikidata.org/entity/Q45762,http://www.wikidata.org/entity/Q45762,http://www.wikidata.org/entity/Q45762,http://www.wikidata.org/entity/Q45762,http://www.wikidata.org/entity/Q45762,http://www.wikidata.org/entity/Q45762,http://www.wikidata.org/entity/Q45762,http://www.wikidata.org/entity/Q45762,http://www.wikidata.org/entity/Q45762,http://www.wikidata.org/entity/Q45762,http://www.wikidata.org/entity/Q45762,http://www.wikidata.org/entity/Q45762,http://www.wikidata.org/entity/Q45762,http://www.wikidata.org/entity/Q45762,http://www.wikidata.org/entity/Q45762,http://www.wikidata.org/entity/Q45762,http://www.wikidata.org/entity/Q45762,http://www.wikidata.org/entity/Q45762,http://www.wikidata.org/entity/Q45762,http://www.wikidata.org/entity/Q45762,http://www.wikidata.org/entity/Q45762,http://www.wikidata.org/entity/Q45762,http://www.wikidata.org/entity/Q45762,http://www.wikidata.org/entity/Q45762,http://www.wikidata.org/entity/Q45762,http://www.wikidata.org/entity/Q45762,http://www.wikidata.org/entity/Q45762,http://www.wikidata.org/entity/Q45762,http://www.wikidata.org/entity/Q45762,http://www.wikidata.org/entity/Q45762,http://www.wikidata.org/entity/Q45762,http://www.wikidata.org/entity/Q45762,http://www.wikidata.org/entity/Q45762,http://www.wikidata.org/entity/Q45762,http://www.wikidata.org/entity/Q45762,http://www.wikidata.org/entity/Q45762,http://www.wikidata.org/entity/Q45762,http://www.wikidata.org/entity/Q45762,http://www.wikidata.org/entity/Q45762,http://www.wikidata.org/entity/Q45762,http://www.wikidata.org/entity/Q45762,http://www.wikidata.org/entity/Q45762,http://www.wikidata.org/entity/Q45762,http://www.wikidata.org/entity/Q45762,http://www.wikidata.org/entity/Q45762,http://www.wikidata.org/entity/Q45762,http://www.wikidata.org/entity/Q45762,http://www.wikidata.org/entity/Q45762,http://www.wikidata.org/entity/Q45762,http://www.wikidata.org/entity/Q45762,http://www.wikidata.org/entity/Q45762,http://www.wikidata.org/entity/Q45762,http://www.wikidata.org/entity/Q45762,http://www.wikidata.org/entity/Q45762,http://www.wikidata.org/entity/Q839470,http://www.wikidata.org/entity/Q839470,http://www.wikidata.org/entity/Q839470,http://www.wikidata.org/entity/Q188889,http://www.wikidata.org/entity/Q645304'), ('labelsObjectsClasses', 'endangered language,modern language,modern language,modern language,modern language,modern language,modern language,modern language,modern language,modern language,modern language,modern language,modern language,modern language,modern language,modern language,modern language,modern language,modern language,modern language,modern language,modern language,modern language,modern language,modern language,modern language,modern language,modern language,modern language,modern language,modern language,modern language,modern language,modern language,modern language,modern language,modern language,modern language,modern language,modern language,modern language,modern language,modern language,modern language,modern language,modern language,modern language,modern language,modern language,modern language,modern language,modern language,modern language,modern language,modern language,modern language,modern language,modern language,modern language,modern language,modern language,modern language,modern language,modern language,modern language,modern language,modern language,modern language,modern language,modern language,modern language,modern language,modern language,modern language,modern language,modern language,modern language,modern language,modern language,modern language,modern language,modern language,modern language,modern language,modern language,modern language,modern language,modern language,modern language,modern language,modern language,modern language,modern language,modern language,modern language,modern language,modern language,modern language,modern language,modern language,modern language,modern language,modern language,modern language,modern language,modern language,modern language,modern language,modern language,modern language,modern language,modern language,modern language,modern language,modern language,modern language,modern language,modern language,modern language,modern language,modern language,modern language,modern language,modern language,modern language,modern language,modern language,modern language,modern language,modern language,modern language,modern language,modern language,modern language,modern language,modern language,modern language,modern language,modern language,modern language,modern language,modern language,modern language,modern language,modern language,modern language,modern language,modern language,dialect,dialect,dialect,dialect,dialect,dialect,natural language,natural language,natural language,natural language,natural language,language,language,language,language,language,language,language,language,language,language,language,language,language,language,language,language,language,language,language,language,language,language,language,language,language,language,language,language,language,language,language,language,language,language,language,language,language,language,language,language,language,language,language,language,language,language,language,language,language,language,language,language,language,language,language,language,language,language,language,language,language,language,language,language,language,language,language,language,language,language,language,language,language,language,language,language,language,language,language,language,language,language,language,language,language,language,language,language,language,language,language,language,language,language,language,language,language,language,language,language,language,language,language,language,language,language,language,language,language,language,language,language,language,language,language,language,language,language,language,language,language,language,language,language,language,language,language,language,language,language,language,language,language,language,language,language,language,language,language,language,language,language,language,language,language,language,language,language,language,language,language,language,language,language,language,language,language,language,language,language,language,language,language,language,language,language,language,language,language,language,language,language,language,language,language,language,language,language,language,language,language,language,language,language,language,language,language,language,language,language,language,language,language,language,language,language,language,language,language,language,language,language,language,language,language,language,language,language,language,language,vulnerable language,vulnerable language,vulnerable language,vulnerable language,vulnerable language,vulnerable language,macrolanguage,macrolanguage,creole language,creole language,creole language,language isolate,definitely endangered language,definitely endangered language,definitely endangered language,definitely endangered language,definitely endangered language,definitely endangered language,definitely endangered language,definitely endangered language,definitely endangered language,definitely endangered language,definitely endangered language,definitely endangered language,severely endangered language,severely endangered language,severely endangered language,severely endangered language,severely endangered language,severely endangered language,severely endangered language,severely endangered language,severely endangered language,severely endangered language,severely endangered language,severely endangered language,severely endangered language,severely endangered language,severely endangered language,severely endangered language,severely endangered language,severely endangered language,critically endangered language,critically endangered language,critically endangered language,critically endangered language,critically endangered language,critically endangered language,critically endangered language,critically endangered language,critically endangered language,critically endangered language,critically endangered language,critically endangered language,critically endangered language,critically endangered language,critically endangered language,critically endangered language,critically endangered language,critically endangered language,critically endangered language,critically endangered language,critically endangered language,critically endangered language,critically endangered language,critically endangered language,critically endangered language,critically endangered language,critically endangered language,critically endangered language,critically endangered language,critically endangered language,critically endangered language,critically endangered language,critically endangered language,critically endangered language,critically endangered language,critically endangered language,critically endangered language,critically endangered language,critically endangered language,critically endangered language,critically endangered language,critically endangered language,critically endangered language,critically endangered language,critically endangered language,critically endangered language,critically endangered language,critically endangered language,critically endangered language,critically endangered language,critically endangered language,critically endangered language,critically endangered language,critically endangered language,critically endangered language,critically endangered language,critically endangered language,critically endangered language,language family,language family,language family,pidgin,sign language,sign language,sign language,extinct language,extinct language,extinct language,extinct language,extinct language,extinct language,extinct language,extinct language,extinct language,extinct language,extinct language,extinct language,extinct language,extinct language,extinct language,extinct language,extinct language,extinct language,extinct language,extinct language,extinct language,extinct language,extinct language,extinct language,extinct language,extinct language,extinct language,extinct language,extinct language,extinct language,extinct language,extinct language,extinct language,extinct language,extinct language,extinct language,extinct language,extinct language,extinct language,extinct language,extinct language,extinct language,extinct language,extinct language,extinct language,extinct language,extinct language,extinct language,extinct language,extinct language,extinct language,extinct language,extinct language,extinct language,extinct language,extinct language,extinct language,extinct language,extinct language,extinct language,extinct language,extinct language,extinct language,extinct language,extinct language,extinct language,extinct language,extinct language,extinct language,extinct language,extinct language,extinct language,extinct language,extinct language,extinct language,extinct language,unwritten language,unwritten language,unwritten language,unwritten language,unwritten language,unwritten language,unwritten language,unwritten language,unwritten language,dead language,dead language,dead language,dead language,dead language,dead language,dead language,dead language,dead language,dead language,dead language,dead language,dead language,dead language,dead language,dead language,dead language,dead language,dead language,dead language,dead language,dead language,dead language,dead language,dead language,dead language,dead language,dead language,dead language,dead language,dead language,dead language,dead language,dead language,dead language,dead language,dead language,dead language,dead language,dead language,dead language,dead language,dead language,dead language,dead language,dead language,dead language,dead language,dead language,dead language,dead language,dead language,dead language,dead language,dead language,dead language,dead language,dead language,dead language,dead language,dead language,dead language,dead language,dead language,dead language,dead language,dead language,dead language,dead language,dead language,dead language,dead language,dead language,dead language,dead language,dead language,dead language,dead language,sacred language,sacred language,sacred language,code,indigenous language')]\n",
      "[('property', 'http://www.wikidata.org/prop/direct/P1304'), ('labelProperty', 'central bank'), ('objectsClasses', 'http://www.wikidata.org/entity/Q1752939,http://www.wikidata.org/entity/Q66344'), ('labelsObjectsClasses', 'independent agency of the United States government,central bank')]\n",
      "[('property', 'http://www.wikidata.org/prop/direct/P1465'), ('labelProperty', 'category for people who died here'), ('objectsClasses', 'http://www.wikidata.org/entity/Q4167836'), ('labelsObjectsClasses', 'Wikimedia category')]\n",
      "[('property', 'http://www.wikidata.org/prop/direct/P1546'), ('labelProperty', 'motto'), ('objectsClasses', 'http://www.wikidata.org/entity/Q18888037,http://www.wikidata.org/entity/Q29654714'), ('labelsObjectsClasses', 'U.S. state motto,national motto')]\n",
      "[('property', 'http://www.wikidata.org/prop/direct/P37'), ('labelProperty', 'official language'), ('objectsClasses', 'http://www.wikidata.org/entity/Q33384,http://www.wikidata.org/entity/Q33742,http://www.wikidata.org/entity/Q951873'), ('labelsObjectsClasses', 'dialect,natural language,ethnolect')]\n",
      "[('property', 'http://www.wikidata.org/prop/direct/P1365'), ('labelProperty', 'replaces'), ('objectsClasses', 'http://www.wikidata.org/entity/Q3024240,http://www.wikidata.org/entity/Q133156,http://www.wikidata.org/entity/Q34876'), ('labelsObjectsClasses', 'historical country,colony,province')]\n",
      "[('property', 'http://www.wikidata.org/prop/direct/P237'), ('labelProperty', 'coat of arms'), ('objectsClasses', 'http://www.wikidata.org/entity/Q12056846,http://www.wikidata.org/entity/Q50849176'), ('labelsObjectsClasses', 'national seal,Great Seal')]\n",
      "[('property', 'http://www.wikidata.org/prop/direct/P1740'), ('labelProperty', 'category for films shot at this location'), ('objectsClasses', 'http://www.wikidata.org/entity/Q4167836'), ('labelsObjectsClasses', 'Wikimedia category')]\n",
      "[('property', 'http://www.wikidata.org/prop/direct/P8744'), ('labelProperty', 'economy of topic'), ('objectsClasses', 'http://www.wikidata.org/entity/Q6456916'), ('labelsObjectsClasses', 'national economy')]\n",
      "[('property', 'http://www.wikidata.org/prop/direct/P610'), ('labelProperty', 'highest point'), ('objectsClasses', 'http://www.wikidata.org/entity/Q8502'), ('labelsObjectsClasses', 'mountain')]\n",
      "[('property', 'http://www.wikidata.org/prop/direct/P31'), ('labelProperty', 'instance of'), ('objectsClasses', 'http://www.wikidata.org/entity/Q1307214,http://www.wikidata.org/entity/Q1307214,http://www.wikidata.org/entity/Q1307214,http://www.wikidata.org/entity/Q183039,http://www.wikidata.org/entity/Q183039,http://www.wikidata.org/entity/Q104098715'), ('labelsObjectsClasses', 'form of government,form of government,form of government,form of state,form of state,territorial entity type')]\n",
      "[('property', 'http://www.wikidata.org/prop/direct/P530'), ('labelProperty', 'diplomatic relation'), ('objectsClasses', 'http://www.wikidata.org/entity/Q1250464,http://www.wikidata.org/entity/Q1323642,http://www.wikidata.org/entity/Q1323642,http://www.wikidata.org/entity/Q99541706,http://www.wikidata.org/entity/Q1048835,http://www.wikidata.org/entity/Q1088391,http://www.wikidata.org/entity/Q1088391,http://www.wikidata.org/entity/Q112099,http://www.wikidata.org/entity/Q112099,http://www.wikidata.org/entity/Q112099,http://www.wikidata.org/entity/Q112099,http://www.wikidata.org/entity/Q112099,http://www.wikidata.org/entity/Q112099,http://www.wikidata.org/entity/Q112099,http://www.wikidata.org/entity/Q112099,http://www.wikidata.org/entity/Q112099,http://www.wikidata.org/entity/Q112099,http://www.wikidata.org/entity/Q112099,http://www.wikidata.org/entity/Q112099,http://www.wikidata.org/entity/Q112099,http://www.wikidata.org/entity/Q112099,http://www.wikidata.org/entity/Q112099,http://www.wikidata.org/entity/Q112099,http://www.wikidata.org/entity/Q112099,http://www.wikidata.org/entity/Q112099,http://www.wikidata.org/entity/Q112099,http://www.wikidata.org/entity/Q112099,http://www.wikidata.org/entity/Q112099,http://www.wikidata.org/entity/Q112099,http://www.wikidata.org/entity/Q112099,http://www.wikidata.org/entity/Q112099,http://www.wikidata.org/entity/Q112099,http://www.wikidata.org/entity/Q112099,http://www.wikidata.org/entity/Q112099,http://www.wikidata.org/entity/Q112099,http://www.wikidata.org/entity/Q112099,http://www.wikidata.org/entity/Q112099,http://www.wikidata.org/entity/Q112099,http://www.wikidata.org/entity/Q112099,http://www.wikidata.org/entity/Q112099,http://www.wikidata.org/entity/Q112099,http://www.wikidata.org/entity/Q112099,http://www.wikidata.org/entity/Q112099,http://www.wikidata.org/entity/Q118365,http://www.wikidata.org/entity/Q123480,http://www.wikidata.org/entity/Q123480,http://www.wikidata.org/entity/Q123480,http://www.wikidata.org/entity/Q123480,http://www.wikidata.org/entity/Q123480,http://www.wikidata.org/entity/Q123480,http://www.wikidata.org/entity/Q123480,http://www.wikidata.org/entity/Q123480,http://www.wikidata.org/entity/Q123480,http://www.wikidata.org/entity/Q123480,http://www.wikidata.org/entity/Q123480,http://www.wikidata.org/entity/Q123480,http://www.wikidata.org/entity/Q123480,http://www.wikidata.org/entity/Q123480,http://www.wikidata.org/entity/Q123480,http://www.wikidata.org/entity/Q123480,http://www.wikidata.org/entity/Q123480,http://www.wikidata.org/entity/Q123480,http://www.wikidata.org/entity/Q123480,http://www.wikidata.org/entity/Q123480,http://www.wikidata.org/entity/Q123480,http://www.wikidata.org/entity/Q123480,http://www.wikidata.org/entity/Q123480,http://www.wikidata.org/entity/Q123480,http://www.wikidata.org/entity/Q123480,http://www.wikidata.org/entity/Q123480,http://www.wikidata.org/entity/Q123480,http://www.wikidata.org/entity/Q123480,http://www.wikidata.org/entity/Q123480,http://www.wikidata.org/entity/Q1335818,http://www.wikidata.org/entity/Q1520223,http://www.wikidata.org/entity/Q1520223,http://www.wikidata.org/entity/Q1520223,http://www.wikidata.org/entity/Q1520223,http://www.wikidata.org/entity/Q1520223,http://www.wikidata.org/entity/Q1520223,http://www.wikidata.org/entity/Q1549591,http://www.wikidata.org/entity/Q1549591,http://www.wikidata.org/entity/Q1637706,http://www.wikidata.org/entity/Q179164,http://www.wikidata.org/entity/Q179164,http://www.wikidata.org/entity/Q179164,http://www.wikidata.org/entity/Q179164,http://www.wikidata.org/entity/Q179164,http://www.wikidata.org/entity/Q179164,http://www.wikidata.org/entity/Q179164,http://www.wikidata.org/entity/Q20181813,http://www.wikidata.org/entity/Q20181813,http://www.wikidata.org/entity/Q20181813,http://www.wikidata.org/entity/Q2221906,http://www.wikidata.org/entity/Q2264924,http://www.wikidata.org/entity/Q2301091,http://www.wikidata.org/entity/Q23442,http://www.wikidata.org/entity/Q23442,http://www.wikidata.org/entity/Q3024240,http://www.wikidata.org/entity/Q3024240,http://www.wikidata.org/entity/Q3024240,http://www.wikidata.org/entity/Q3024240,http://www.wikidata.org/entity/Q3024240,http://www.wikidata.org/entity/Q33837,http://www.wikidata.org/entity/Q33837,http://www.wikidata.org/entity/Q3623811,http://www.wikidata.org/entity/Q3624078,http://www.wikidata.org/entity/Q3624078,http://www.wikidata.org/entity/Q3624078,http://www.wikidata.org/entity/Q3624078,http://www.wikidata.org/entity/Q3624078,http://www.wikidata.org/entity/Q3624078,http://www.wikidata.org/entity/Q3624078,http://www.wikidata.org/entity/Q3624078,http://www.wikidata.org/entity/Q3624078,http://www.wikidata.org/entity/Q3624078,http://www.wikidata.org/entity/Q3624078,http://www.wikidata.org/entity/Q3624078,http://www.wikidata.org/entity/Q3624078,http://www.wikidata.org/entity/Q3624078,http://www.wikidata.org/entity/Q3624078,http://www.wikidata.org/entity/Q3624078,http://www.wikidata.org/entity/Q3624078,http://www.wikidata.org/entity/Q3624078,http://www.wikidata.org/entity/Q3624078,http://www.wikidata.org/entity/Q3624078,http://www.wikidata.org/entity/Q3624078,http://www.wikidata.org/entity/Q3624078,http://www.wikidata.org/entity/Q3624078,http://www.wikidata.org/entity/Q3624078,http://www.wikidata.org/entity/Q3624078,http://www.wikidata.org/entity/Q3624078,http://www.wikidata.org/entity/Q3624078,http://www.wikidata.org/entity/Q3624078,http://www.wikidata.org/entity/Q3624078,http://www.wikidata.org/entity/Q3624078,http://www.wikidata.org/entity/Q3624078,http://www.wikidata.org/entity/Q3624078,http://www.wikidata.org/entity/Q3624078,http://www.wikidata.org/entity/Q3624078,http://www.wikidata.org/entity/Q3624078,http://www.wikidata.org/entity/Q3624078,http://www.wikidata.org/entity/Q3624078,http://www.wikidata.org/entity/Q3624078,http://www.wikidata.org/entity/Q3624078,http://www.wikidata.org/entity/Q3624078,http://www.wikidata.org/entity/Q3624078,http://www.wikidata.org/entity/Q3624078,http://www.wikidata.org/entity/Q3624078,http://www.wikidata.org/entity/Q3624078,http://www.wikidata.org/entity/Q3624078,http://www.wikidata.org/entity/Q3624078,http://www.wikidata.org/entity/Q3624078,http://www.wikidata.org/entity/Q3624078,http://www.wikidata.org/entity/Q3624078,http://www.wikidata.org/entity/Q3624078,http://www.wikidata.org/entity/Q3624078,http://www.wikidata.org/entity/Q3624078,http://www.wikidata.org/entity/Q3624078,http://www.wikidata.org/entity/Q3624078,http://www.wikidata.org/entity/Q3624078,http://www.wikidata.org/entity/Q3624078,http://www.wikidata.org/entity/Q3624078,http://www.wikidata.org/entity/Q3624078,http://www.wikidata.org/entity/Q3624078,http://www.wikidata.org/entity/Q3624078,http://www.wikidata.org/entity/Q3624078,http://www.wikidata.org/entity/Q3624078,http://www.wikidata.org/entity/Q3624078,http://www.wikidata.org/entity/Q3624078,http://www.wikidata.org/entity/Q3624078,http://www.wikidata.org/entity/Q3624078,http://www.wikidata.org/entity/Q3624078,http://www.wikidata.org/entity/Q3624078,http://www.wikidata.org/entity/Q3624078,http://www.wikidata.org/entity/Q3624078,http://www.wikidata.org/entity/Q3624078,http://www.wikidata.org/entity/Q3624078,http://www.wikidata.org/entity/Q3624078,http://www.wikidata.org/entity/Q3624078,http://www.wikidata.org/entity/Q3624078,http://www.wikidata.org/entity/Q3624078,http://www.wikidata.org/entity/Q3624078,http://www.wikidata.org/entity/Q3624078,http://www.wikidata.org/entity/Q3624078,http://www.wikidata.org/entity/Q3624078,http://www.wikidata.org/entity/Q3624078,http://www.wikidata.org/entity/Q3624078,http://www.wikidata.org/entity/Q3624078,http://www.wikidata.org/entity/Q3624078,http://www.wikidata.org/entity/Q3624078,http://www.wikidata.org/entity/Q3624078,http://www.wikidata.org/entity/Q3624078,http://www.wikidata.org/entity/Q3624078,http://www.wikidata.org/entity/Q3624078,http://www.wikidata.org/entity/Q3624078,http://www.wikidata.org/entity/Q3624078,http://www.wikidata.org/entity/Q3624078,http://www.wikidata.org/entity/Q3624078,http://www.wikidata.org/entity/Q3624078,http://www.wikidata.org/entity/Q3624078,http://www.wikidata.org/entity/Q3624078,http://www.wikidata.org/entity/Q3624078,http://www.wikidata.org/entity/Q3624078,http://www.wikidata.org/entity/Q3624078,http://www.wikidata.org/entity/Q3624078,http://www.wikidata.org/entity/Q3624078,http://www.wikidata.org/entity/Q3624078,http://www.wikidata.org/entity/Q3624078,http://www.wikidata.org/entity/Q3624078,http://www.wikidata.org/entity/Q3624078,http://www.wikidata.org/entity/Q3624078,http://www.wikidata.org/entity/Q3624078,http://www.wikidata.org/entity/Q3624078,http://www.wikidata.org/entity/Q3624078,http://www.wikidata.org/entity/Q3624078,http://www.wikidata.org/entity/Q3624078,http://www.wikidata.org/entity/Q3624078,http://www.wikidata.org/entity/Q3624078,http://www.wikidata.org/entity/Q3624078,http://www.wikidata.org/entity/Q3624078,http://www.wikidata.org/entity/Q3624078,http://www.wikidata.org/entity/Q3624078,http://www.wikidata.org/entity/Q3624078,http://www.wikidata.org/entity/Q3624078,http://www.wikidata.org/entity/Q3624078,http://www.wikidata.org/entity/Q3624078,http://www.wikidata.org/entity/Q3624078,http://www.wikidata.org/entity/Q3624078,http://www.wikidata.org/entity/Q3624078,http://www.wikidata.org/entity/Q3624078,http://www.wikidata.org/entity/Q3624078,http://www.wikidata.org/entity/Q3624078,http://www.wikidata.org/entity/Q3624078,http://www.wikidata.org/entity/Q3624078,http://www.wikidata.org/entity/Q3624078,http://www.wikidata.org/entity/Q3624078,http://www.wikidata.org/entity/Q3624078,http://www.wikidata.org/entity/Q3624078,http://www.wikidata.org/entity/Q3624078,http://www.wikidata.org/entity/Q3624078,http://www.wikidata.org/entity/Q3624078,http://www.wikidata.org/entity/Q3624078,http://www.wikidata.org/entity/Q3624078,http://www.wikidata.org/entity/Q3624078,http://www.wikidata.org/entity/Q3624078,http://www.wikidata.org/entity/Q3624078,http://www.wikidata.org/entity/Q3624078,http://www.wikidata.org/entity/Q3624078,http://www.wikidata.org/entity/Q3624078,http://www.wikidata.org/entity/Q3624078,http://www.wikidata.org/entity/Q3624078,http://www.wikidata.org/entity/Q3624078,http://www.wikidata.org/entity/Q3624078,http://www.wikidata.org/entity/Q3624078,http://www.wikidata.org/entity/Q3624078,http://www.wikidata.org/entity/Q3624078,http://www.wikidata.org/entity/Q3624078,http://www.wikidata.org/entity/Q3624078,http://www.wikidata.org/entity/Q3624078,http://www.wikidata.org/entity/Q3624078,http://www.wikidata.org/entity/Q3624078,http://www.wikidata.org/entity/Q3624078,http://www.wikidata.org/entity/Q3624078,http://www.wikidata.org/entity/Q3624078,http://www.wikidata.org/entity/Q3624078,http://www.wikidata.org/entity/Q3624078,http://www.wikidata.org/entity/Q3624078,http://www.wikidata.org/entity/Q3624078,http://www.wikidata.org/entity/Q3624078,http://www.wikidata.org/entity/Q3624078,http://www.wikidata.org/entity/Q3624078,http://www.wikidata.org/entity/Q4120211,http://www.wikidata.org/entity/Q41614,http://www.wikidata.org/entity/Q41614,http://www.wikidata.org/entity/Q41614,http://www.wikidata.org/entity/Q41614,http://www.wikidata.org/entity/Q4198907,http://www.wikidata.org/entity/Q4209223,http://www.wikidata.org/entity/Q4209223,http://www.wikidata.org/entity/Q4209223,http://www.wikidata.org/entity/Q43702,http://www.wikidata.org/entity/Q43702,http://www.wikidata.org/entity/Q465613,http://www.wikidata.org/entity/Q465613,http://www.wikidata.org/entity/Q465613,http://www.wikidata.org/entity/Q465613,http://www.wikidata.org/entity/Q49892,http://www.wikidata.org/entity/Q5119,http://www.wikidata.org/entity/Q512187,http://www.wikidata.org/entity/Q512187,http://www.wikidata.org/entity/Q512187,http://www.wikidata.org/entity/Q512187,http://www.wikidata.org/entity/Q512187,http://www.wikidata.org/entity/Q512187,http://www.wikidata.org/entity/Q515,http://www.wikidata.org/entity/Q515,http://www.wikidata.org/entity/Q51576574,http://www.wikidata.org/entity/Q51576574,http://www.wikidata.org/entity/Q51576574,http://www.wikidata.org/entity/Q51576574,http://www.wikidata.org/entity/Q51576574,http://www.wikidata.org/entity/Q51576574,http://www.wikidata.org/entity/Q51576574,http://www.wikidata.org/entity/Q51576574,http://www.wikidata.org/entity/Q51576574,http://www.wikidata.org/entity/Q51576574,http://www.wikidata.org/entity/Q51576574,http://www.wikidata.org/entity/Q5255892,http://www.wikidata.org/entity/Q5255892,http://www.wikidata.org/entity/Q5255892,http://www.wikidata.org/entity/Q56061,http://www.wikidata.org/entity/Q619610,http://www.wikidata.org/entity/Q619610,http://www.wikidata.org/entity/Q619610,http://www.wikidata.org/entity/Q6256,http://www.wikidata.org/entity/Q6256,http://www.wikidata.org/entity/Q6256,http://www.wikidata.org/entity/Q6256,http://www.wikidata.org/entity/Q6256,http://www.wikidata.org/entity/Q6256,http://www.wikidata.org/entity/Q6256,http://www.wikidata.org/entity/Q6256,http://www.wikidata.org/entity/Q6256,http://www.wikidata.org/entity/Q6256,http://www.wikidata.org/entity/Q6256,http://www.wikidata.org/entity/Q6256,http://www.wikidata.org/entity/Q6256,http://www.wikidata.org/entity/Q6256,http://www.wikidata.org/entity/Q6256,http://www.wikidata.org/entity/Q6256,http://www.wikidata.org/entity/Q6256,http://www.wikidata.org/entity/Q6256,http://www.wikidata.org/entity/Q6256,http://www.wikidata.org/entity/Q6256,http://www.wikidata.org/entity/Q6256,http://www.wikidata.org/entity/Q6256,http://www.wikidata.org/entity/Q6256,http://www.wikidata.org/entity/Q6256,http://www.wikidata.org/entity/Q6256,http://www.wikidata.org/entity/Q6256,http://www.wikidata.org/entity/Q6256,http://www.wikidata.org/entity/Q6256,http://www.wikidata.org/entity/Q6256,http://www.wikidata.org/entity/Q6256,http://www.wikidata.org/entity/Q6256,http://www.wikidata.org/entity/Q6256,http://www.wikidata.org/entity/Q6256,http://www.wikidata.org/entity/Q6256,http://www.wikidata.org/entity/Q6256,http://www.wikidata.org/entity/Q6256,http://www.wikidata.org/entity/Q6256,http://www.wikidata.org/entity/Q6256,http://www.wikidata.org/entity/Q6256,http://www.wikidata.org/entity/Q6256,http://www.wikidata.org/entity/Q6256,http://www.wikidata.org/entity/Q6256,http://www.wikidata.org/entity/Q6256,http://www.wikidata.org/entity/Q6256,http://www.wikidata.org/entity/Q6256,http://www.wikidata.org/entity/Q6256,http://www.wikidata.org/entity/Q6256,http://www.wikidata.org/entity/Q6256,http://www.wikidata.org/entity/Q6256,http://www.wikidata.org/entity/Q6256,http://www.wikidata.org/entity/Q6256,http://www.wikidata.org/entity/Q6256,http://www.wikidata.org/entity/Q6256,http://www.wikidata.org/entity/Q6256,http://www.wikidata.org/entity/Q6256,http://www.wikidata.org/entity/Q6256,http://www.wikidata.org/entity/Q6256,http://www.wikidata.org/entity/Q6256,http://www.wikidata.org/entity/Q6256,http://www.wikidata.org/entity/Q6256,http://www.wikidata.org/entity/Q6256,http://www.wikidata.org/entity/Q6256,http://www.wikidata.org/entity/Q6256,http://www.wikidata.org/entity/Q6256,http://www.wikidata.org/entity/Q6256,http://www.wikidata.org/entity/Q6256,http://www.wikidata.org/entity/Q6256,http://www.wikidata.org/entity/Q6256,http://www.wikidata.org/entity/Q6256,http://www.wikidata.org/entity/Q6256,http://www.wikidata.org/entity/Q6256,http://www.wikidata.org/entity/Q6256,http://www.wikidata.org/entity/Q6256,http://www.wikidata.org/entity/Q6256,http://www.wikidata.org/entity/Q6256,http://www.wikidata.org/entity/Q6256,http://www.wikidata.org/entity/Q6256,http://www.wikidata.org/entity/Q6256,http://www.wikidata.org/entity/Q6256,http://www.wikidata.org/entity/Q6256,http://www.wikidata.org/entity/Q6256,http://www.wikidata.org/entity/Q6256,http://www.wikidata.org/entity/Q6256,http://www.wikidata.org/entity/Q6256,http://www.wikidata.org/entity/Q6256,http://www.wikidata.org/entity/Q6256,http://www.wikidata.org/entity/Q6256,http://www.wikidata.org/entity/Q6256,http://www.wikidata.org/entity/Q6256,http://www.wikidata.org/entity/Q6256,http://www.wikidata.org/entity/Q6256,http://www.wikidata.org/entity/Q6256,http://www.wikidata.org/entity/Q6256,http://www.wikidata.org/entity/Q6256,http://www.wikidata.org/entity/Q6256,http://www.wikidata.org/entity/Q6256,http://www.wikidata.org/entity/Q6256,http://www.wikidata.org/entity/Q6256,http://www.wikidata.org/entity/Q6256,http://www.wikidata.org/entity/Q6256,http://www.wikidata.org/entity/Q6256,http://www.wikidata.org/entity/Q6256,http://www.wikidata.org/entity/Q6256,http://www.wikidata.org/entity/Q6256,http://www.wikidata.org/entity/Q6256,http://www.wikidata.org/entity/Q6256,http://www.wikidata.org/entity/Q6256,http://www.wikidata.org/entity/Q6256,http://www.wikidata.org/entity/Q6256,http://www.wikidata.org/entity/Q6256,http://www.wikidata.org/entity/Q6256,http://www.wikidata.org/entity/Q6256,http://www.wikidata.org/entity/Q6256,http://www.wikidata.org/entity/Q6256,http://www.wikidata.org/entity/Q6256,http://www.wikidata.org/entity/Q6256,http://www.wikidata.org/entity/Q6256,http://www.wikidata.org/entity/Q6256,http://www.wikidata.org/entity/Q6256,http://www.wikidata.org/entity/Q6256,http://www.wikidata.org/entity/Q6256,http://www.wikidata.org/entity/Q6256,http://www.wikidata.org/entity/Q6256,http://www.wikidata.org/entity/Q6256,http://www.wikidata.org/entity/Q6256,http://www.wikidata.org/entity/Q6256,http://www.wikidata.org/entity/Q6256,http://www.wikidata.org/entity/Q6256,http://www.wikidata.org/entity/Q6256,http://www.wikidata.org/entity/Q6256,http://www.wikidata.org/entity/Q6256,http://www.wikidata.org/entity/Q6256,http://www.wikidata.org/entity/Q6256,http://www.wikidata.org/entity/Q6256,http://www.wikidata.org/entity/Q6256,http://www.wikidata.org/entity/Q6256,http://www.wikidata.org/entity/Q6256,http://www.wikidata.org/entity/Q6256,http://www.wikidata.org/entity/Q6256,http://www.wikidata.org/entity/Q6256,http://www.wikidata.org/entity/Q6256,http://www.wikidata.org/entity/Q6256,http://www.wikidata.org/entity/Q6256,http://www.wikidata.org/entity/Q6256,http://www.wikidata.org/entity/Q6266,http://www.wikidata.org/entity/Q63791824,http://www.wikidata.org/entity/Q63791824,http://www.wikidata.org/entity/Q63791824,http://www.wikidata.org/entity/Q63791824,http://www.wikidata.org/entity/Q7270,http://www.wikidata.org/entity/Q7270,http://www.wikidata.org/entity/Q7270,http://www.wikidata.org/entity/Q7270,http://www.wikidata.org/entity/Q7270,http://www.wikidata.org/entity/Q7270,http://www.wikidata.org/entity/Q7270,http://www.wikidata.org/entity/Q7270,http://www.wikidata.org/entity/Q7270,http://www.wikidata.org/entity/Q7270,http://www.wikidata.org/entity/Q7270,http://www.wikidata.org/entity/Q7270,http://www.wikidata.org/entity/Q7270,http://www.wikidata.org/entity/Q7270,http://www.wikidata.org/entity/Q7270,http://www.wikidata.org/entity/Q7270,http://www.wikidata.org/entity/Q7270,http://www.wikidata.org/entity/Q7270,http://www.wikidata.org/entity/Q7270,http://www.wikidata.org/entity/Q7270,http://www.wikidata.org/entity/Q7270,http://www.wikidata.org/entity/Q7270,http://www.wikidata.org/entity/Q7270,http://www.wikidata.org/entity/Q7270,http://www.wikidata.org/entity/Q7270,http://www.wikidata.org/entity/Q7270,http://www.wikidata.org/entity/Q7270,http://www.wikidata.org/entity/Q7270,http://www.wikidata.org/entity/Q7270,http://www.wikidata.org/entity/Q7270,http://www.wikidata.org/entity/Q7270,http://www.wikidata.org/entity/Q7270,http://www.wikidata.org/entity/Q7270,http://www.wikidata.org/entity/Q7270,http://www.wikidata.org/entity/Q7270,http://www.wikidata.org/entity/Q82794,http://www.wikidata.org/entity/Q842112,http://www.wikidata.org/entity/Q849866,http://www.wikidata.org/entity/Q849866,http://www.wikidata.org/entity/Q859563,http://www.wikidata.org/entity/Q859563,http://www.wikidata.org/entity/Q859563,http://www.wikidata.org/entity/Q859563,http://www.wikidata.org/entity/Q902814,http://www.wikidata.org/entity/Q133156,http://www.wikidata.org/entity/Q1402592,http://www.wikidata.org/entity/Q1402592,http://www.wikidata.org/entity/Q15304003,http://www.wikidata.org/entity/Q15304003,http://www.wikidata.org/entity/Q15304003,http://www.wikidata.org/entity/Q171441,http://www.wikidata.org/entity/Q417175,http://www.wikidata.org/entity/Q417175,http://www.wikidata.org/entity/Q417175,http://www.wikidata.org/entity/Q46395,http://www.wikidata.org/entity/Q46395,http://www.wikidata.org/entity/Q7210356,http://www.wikidata.org/entity/Q223832,http://www.wikidata.org/entity/Q7275,http://www.wikidata.org/entity/Q7275,http://www.wikidata.org/entity/Q12759805,http://www.wikidata.org/entity/Q133442,http://www.wikidata.org/entity/Q133442,http://www.wikidata.org/entity/Q170156,http://www.wikidata.org/entity/Q779415,http://www.wikidata.org/entity/Q779415,http://www.wikidata.org/entity/Q1951661,http://www.wikidata.org/entity/Q13107770,http://www.wikidata.org/entity/Q13107770,http://www.wikidata.org/entity/Q13107770,http://www.wikidata.org/entity/Q13107770,http://www.wikidata.org/entity/Q1896989,http://www.wikidata.org/entity/Q202686,http://www.wikidata.org/entity/Q202686,http://www.wikidata.org/entity/Q202686,http://www.wikidata.org/entity/Q202686,http://www.wikidata.org/entity/Q202686,http://www.wikidata.org/entity/Q202686,http://www.wikidata.org/entity/Q202686,http://www.wikidata.org/entity/Q202686,http://www.wikidata.org/entity/Q202686,http://www.wikidata.org/entity/Q202686,http://www.wikidata.org/entity/Q339834,http://www.wikidata.org/entity/Q672729,http://www.wikidata.org/entity/Q15634554,http://www.wikidata.org/entity/Q15634554,http://www.wikidata.org/entity/Q15634554,http://www.wikidata.org/entity/Q66724388,http://www.wikidata.org/entity/Q5164076,http://www.wikidata.org/entity/Q918240,http://www.wikidata.org/entity/Q1147274,http://www.wikidata.org/entity/Q3275668'), ('labelsObjectsClasses', \"realm,transcontinental country,transcontinental country,historical unrecognized state,political territorial entity,rump state,rump state,island nation,island nation,island nation,island nation,island nation,island nation,island nation,island nation,island nation,island nation,island nation,island nation,island nation,island nation,island nation,island nation,island nation,island nation,island nation,island nation,island nation,island nation,island nation,island nation,island nation,island nation,island nation,island nation,island nation,island nation,island nation,island nation,island nation,island nation,island nation,island nation,dictatorship of the proletariat,landlocked country,landlocked country,landlocked country,landlocked country,landlocked country,landlocked country,landlocked country,landlocked country,landlocked country,landlocked country,landlocked country,landlocked country,landlocked country,landlocked country,landlocked country,landlocked country,landlocked country,landlocked country,landlocked country,landlocked country,landlocked country,landlocked country,landlocked country,landlocked country,landlocked country,landlocked country,landlocked country,landlocked country,landlocked country,supranational union,constitutional republic,constitutional republic,constitutional republic,constitutional republic,constitutional republic,constitutional republic,big city,big city,million city,unitary state,unitary state,unitary state,unitary state,unitary state,unitary state,unitary state,colonial power,colonial power,colonial power,geographic location,port settlement,socialism with Chinese characteristics,island,island,historical country,historical country,historical country,historical country,historical country,archipelago,archipelago,economic union,sovereign state,sovereign state,sovereign state,sovereign state,sovereign state,sovereign state,sovereign state,sovereign state,sovereign state,sovereign state,sovereign state,sovereign state,sovereign state,sovereign state,sovereign state,sovereign state,sovereign state,sovereign state,sovereign state,sovereign state,sovereign state,sovereign state,sovereign state,sovereign state,sovereign state,sovereign state,sovereign state,sovereign state,sovereign state,sovereign state,sovereign state,sovereign state,sovereign state,sovereign state,sovereign state,sovereign state,sovereign state,sovereign state,sovereign state,sovereign state,sovereign state,sovereign state,sovereign state,sovereign state,sovereign state,sovereign state,sovereign state,sovereign state,sovereign state,sovereign state,sovereign state,sovereign state,sovereign state,sovereign state,sovereign state,sovereign state,sovereign state,sovereign state,sovereign state,sovereign state,sovereign state,sovereign state,sovereign state,sovereign state,sovereign state,sovereign state,sovereign state,sovereign state,sovereign state,sovereign state,sovereign state,sovereign state,sovereign state,sovereign state,sovereign state,sovereign state,sovereign state,sovereign state,sovereign state,sovereign state,sovereign state,sovereign state,sovereign state,sovereign state,sovereign state,sovereign state,sovereign state,sovereign state,sovereign state,sovereign state,sovereign state,sovereign state,sovereign state,sovereign state,sovereign state,sovereign state,sovereign state,sovereign state,sovereign state,sovereign state,sovereign state,sovereign state,sovereign state,sovereign state,sovereign state,sovereign state,sovereign state,sovereign state,sovereign state,sovereign state,sovereign state,sovereign state,sovereign state,sovereign state,sovereign state,sovereign state,sovereign state,sovereign state,sovereign state,sovereign state,sovereign state,sovereign state,sovereign state,sovereign state,sovereign state,sovereign state,sovereign state,sovereign state,sovereign state,sovereign state,sovereign state,sovereign state,sovereign state,sovereign state,sovereign state,sovereign state,sovereign state,sovereign state,sovereign state,sovereign state,sovereign state,sovereign state,sovereign state,sovereign state,sovereign state,sovereign state,sovereign state,sovereign state,sovereign state,sovereign state,sovereign state,sovereign state,sovereign state,sovereign state,sovereign state,sovereign state,sovereign state,sovereign state,sovereign state,sovereign state,sovereign state,sovereign state,sovereign state,sovereign state,sovereign state,sovereign state,regional organization,constitutional monarchy,constitutional monarchy,constitutional monarchy,constitutional monarchy,parliamentary republic,Rechtsstaat,Rechtsstaat,Rechtsstaat,federation,federation,people's republic,people's republic,people's republic,people's republic,presidential régime,capital,federal republic,federal republic,federal republic,federal republic,federal republic,federal republic,city,city,Mediterranean country,Mediterranean country,Mediterranean country,Mediterranean country,Mediterranean country,Mediterranean country,Mediterranean country,Mediterranean country,Mediterranean country,Mediterranean country,Mediterranean country,democratic republic,democratic republic,democratic republic,administrative territorial entity,social state,social state,social state,country,country,country,country,country,country,country,country,country,country,country,country,country,country,country,country,country,country,country,country,country,country,country,country,country,country,country,country,country,country,country,country,country,country,country,country,country,country,country,country,country,country,country,country,country,country,country,country,country,country,country,country,country,country,country,country,country,country,country,country,country,country,country,country,country,country,country,country,country,country,country,country,country,country,country,country,country,country,country,country,country,country,country,country,country,country,country,country,country,country,country,country,country,country,country,country,country,country,country,country,country,country,country,country,country,country,country,country,country,country,country,country,country,country,country,country,country,country,country,country,country,country,country,country,country,country,country,country,country,country,country,country,country,country,country,country,country,country,country,country,country,country,country,country,nation,country bordering the Baltic Sea,country bordering the Baltic Sea,country bordering the Baltic Sea,country bordering the Baltic Sea,republic,republic,republic,republic,republic,republic,republic,republic,republic,republic,republic,republic,republic,republic,republic,republic,republic,republic,republic,republic,republic,republic,republic,republic,republic,republic,republic,republic,republic,republic,republic,republic,republic,republic,republic,geographic region,socialist state,communist state,communist state,secular state,secular state,secular state,secular state,border town,colony,island group,island group,country of the Kingdom of the Netherlands,country of the Kingdom of the Netherlands,country of the Kingdom of the Netherlands,enclave,kingdom,kingdom,kingdom,British Overseas Territories,British Overseas Territories,political organization,dominion of the British Empire,state,state,sultanate,city-state,city-state,confederation,special administrative region of China,special administrative region of China,member states of the Association of Southeast Asian Nations,archipelagic state,archipelagic state,archipelagic state,archipelagic state,subject of international law,Commonwealth realm,Commonwealth realm,Commonwealth realm,Commonwealth realm,Commonwealth realm,Commonwealth realm,Commonwealth realm,Commonwealth realm,Commonwealth realm,Commonwealth realm,regional power,Islamic republic,state with limited recognition,state with limited recognition,state with limited recognition,autonomous country within the Kingdom of Denmark,constituent state,territorial evolution of the British Empire,Apostolic see,national power\")]\n",
      "[('property', 'http://www.wikidata.org/prop/direct/P209'), ('labelProperty', 'highest judicial authority'), ('objectsClasses', 'http://www.wikidata.org/entity/Q190752'), ('labelsObjectsClasses', 'supreme court')]\n",
      "[('property', 'http://www.wikidata.org/prop/direct/P910'), ('labelProperty', \"topic's main category\"), ('objectsClasses', 'http://www.wikidata.org/entity/Q4167836,http://www.wikidata.org/entity/Q59541917'), ('labelsObjectsClasses', 'Wikimedia category,Wikimedia topic category')]\n",
      "[('property', 'http://www.wikidata.org/prop/direct/P1343'), ('labelProperty', 'described by source'), ('objectsClasses', 'http://www.wikidata.org/entity/Q56165908,http://www.wikidata.org/entity/Q5292,http://www.wikidata.org/entity/Q5292,http://www.wikidata.org/entity/Q3331189,http://www.wikidata.org/entity/Q3331189,http://www.wikidata.org/entity/Q3331189,http://www.wikidata.org/entity/Q3331189,http://www.wikidata.org/entity/Q975413,http://www.wikidata.org/entity/Q975413,http://www.wikidata.org/entity/Q975413'), ('labelsObjectsClasses', 'Jewish encyclopedia,encyclopedia,encyclopedia,version, edition, or translation,version, edition, or translation,version, edition, or translation,version, edition, or translation,encyclopedic dictionary,encyclopedic dictionary,encyclopedic dictionary')]\n",
      "50\n"
     ]
    }
   ],
   "source": [
    "queryString = \"\"\"\n",
    "SELECT DISTINCT ?property ?labelProperty (GROUP_CONCAT(?objectClass ; separator = \",\")  AS ?objectsClasses) (GROUP_CONCAT(?labelObjectClass ; separator = \",\")  AS ?labelsObjectsClasses)\n",
    "WHERE \n",
    "{   \n",
    "   wd:Q30 ?property ?object .  \n",
    "   ?object wdt:P31 ?objectClass .\n",
    "   \n",
    "   # Labels\n",
    "   ?property sc:name ?labelProperty .      \n",
    "   ?objectClass sc:name ?labelObjectClass .\n",
    "   \n",
    "   FILTER(!isLiteral(?object)) .   \n",
    "}GROUP BY ?property ?labelProperty\n",
    "LIMIT 50\n",
    "\"\"\"\n",
    "print(\"Results\")\n",
    "x=run_query(queryString)"
   ]
  },
  {
   "cell_type": "markdown",
   "id": "2daf131b-171d-4c20-a321-f3ec176329c6",
   "metadata": {
    "tags": []
   },
   "source": [
    "### Get all the couples (object property - list of the  objects that are connected to \"United States of America\"  (wd:Q30) through that object property)"
   ]
  },
  {
   "cell_type": "code",
   "execution_count": 128,
   "id": "e1c7411f-0821-4ca1-9df3-7d8b7a3da78c",
   "metadata": {},
   "outputs": [
    {
     "name": "stdout",
     "output_type": "stream",
     "text": [
      "Results\n",
      "[('property', 'http://www.wikidata.org/prop/direct/P2184'), ('labelProperty', 'history of topic'), ('objects', 'http://www.wikidata.org/entity/Q131110'), ('labelsObjects', 'history of the United States')]\n",
      "[('property', 'http://www.wikidata.org/prop/direct/P5125'), ('labelProperty', 'Wikimedia outline'), ('objects', 'http://www.wikidata.org/entity/Q7112786'), ('labelsObjects', 'outline of the United States')]\n",
      "[('property', 'http://www.wikidata.org/prop/direct/P2238'), ('labelProperty', 'official symbol'), ('objects', 'http://www.wikidata.org/entity/Q127216'), ('labelsObjects', 'bald eagle')]\n",
      "[('property', 'http://www.wikidata.org/prop/direct/P361'), ('labelProperty', 'part of'), ('objects', 'http://www.wikidata.org/entity/Q49'), ('labelsObjects', 'North America')]\n",
      "[('property', 'http://www.wikidata.org/prop/direct/P1344'), ('labelProperty', 'participant in'), ('objects', 'http://www.wikidata.org/entity/Q418151,http://www.wikidata.org/entity/Q301487,http://www.wikidata.org/entity/Q1088364,http://www.wikidata.org/entity/Q184425,http://www.wikidata.org/entity/Q327052,http://www.wikidata.org/entity/Q40949,http://www.wikidata.org/entity/Q488,http://www.wikidata.org/entity/Q65132216,http://www.wikidata.org/entity/Q8663,http://www.wikidata.org/entity/Q8740,http://www.wikidata.org/entity/Q862751,http://www.wikidata.org/entity/Q155723,http://www.wikidata.org/entity/Q178810,http://www.wikidata.org/entity/Q334029,http://www.wikidata.org/entity/Q1789376,http://www.wikidata.org/entity/Q1935947,http://www.wikidata.org/entity/Q169401,http://www.wikidata.org/entity/Q1754313,http://www.wikidata.org/entity/Q280468'), ('labelsObjects', 'Second Opium War,Battle of Brandywine,Battle of the Lys,Pacific War,Battle of Aachen,American Revolutionary War,atomic bombings of Hiroshima and Nagasaki,Battle of Cecina,Korean War,Vietnam War,Battle of Long Island,NATO bombing of Yugoslavia,Syrian Civil War,Battle of Bunker Hill,Battle of Kwajalein,Battle of Eniwetok,Intermediate-Range Nuclear Forces Treaty,Battle of Bennington,Battle of Ap Bac')]\n",
      "[('property', 'http://www.wikidata.org/prop/direct/P6'), ('labelProperty', 'head of government'), ('objects', 'http://www.wikidata.org/entity/Q6279'), ('labelsObjects', 'Joe Biden')]\n",
      "[('property', 'http://www.wikidata.org/prop/direct/P5658'), ('labelProperty', 'railway traffic side'), ('objects', 'http://www.wikidata.org/entity/Q14565199'), ('labelsObjects', 'right')]\n",
      "[('property', 'http://www.wikidata.org/prop/direct/P1622'), ('labelProperty', 'driving side'), ('objects', 'http://www.wikidata.org/entity/Q14565199'), ('labelsObjects', 'right')]\n",
      "[('property', 'http://www.wikidata.org/prop/direct/P2633'), ('labelProperty', 'geography of topic'), ('objects', 'http://www.wikidata.org/entity/Q272160'), ('labelsObjects', 'geography of the United States')]\n",
      "[('property', 'http://www.wikidata.org/prop/direct/P206'), ('labelProperty', 'located in or next to body of water'), ('objects', 'http://www.wikidata.org/entity/Q788,http://www.wikidata.org/entity/Q97,http://www.wikidata.org/entity/Q98'), ('labelsObjects', 'Arctic Ocean,Atlantic Ocean,Pacific Ocean')]\n",
      "[('property', 'http://www.wikidata.org/prop/direct/P92'), ('labelProperty', 'main regulatory text'), ('objects', 'http://www.wikidata.org/entity/Q11698'), ('labelsObjects', 'United States Constitution')]\n",
      "[('property', 'http://www.wikidata.org/prop/direct/P5008'), ('labelProperty', 'on focus list of Wikimedia project'), ('objects', 'http://www.wikidata.org/entity/Q54439832,http://www.wikidata.org/entity/Q5460604'), ('labelsObjects', 'WikiProject Zika Corpus,Wikipedia:Vital articles')]\n",
      "[('property', 'http://www.wikidata.org/prop/direct/P172'), ('labelProperty', 'ethnic group'), ('objects', 'http://www.wikidata.org/entity/Q49297,http://www.wikidata.org/entity/Q49078,http://www.wikidata.org/entity/Q49085,http://www.wikidata.org/entity/Q727928'), ('labelsObjects', 'indigenous peoples of the United States,White Americans,African Americans,Asian American')]\n",
      "[('property', 'http://www.wikidata.org/prop/direct/P1589'), ('labelProperty', 'lowest point'), ('objects', 'http://www.wikidata.org/entity/Q799720'), ('labelsObjects', 'Badwater Basin')]\n",
      "[('property', 'http://www.wikidata.org/prop/direct/P2579'), ('labelProperty', 'studied by'), ('objects', 'http://www.wikidata.org/entity/Q470125'), ('labelsObjects', 'American studies')]\n",
      "[('property', 'http://www.wikidata.org/prop/direct/P78'), ('labelProperty', 'top-level Internet domain'), ('objects', 'http://www.wikidata.org/entity/Q37861,http://www.wikidata.org/entity/Q31635,http://www.wikidata.org/entity/Q31643'), ('labelsObjects', '.us,.mil,.gov')]\n",
      "[('property', 'http://www.wikidata.org/prop/direct/P1792'), ('labelProperty', 'category of associated people'), ('objects', 'http://www.wikidata.org/entity/Q3919762'), ('labelsObjects', 'Category:American people')]\n",
      "[('property', 'http://www.wikidata.org/prop/direct/P208'), ('labelProperty', 'executive body'), ('objects', 'http://www.wikidata.org/entity/Q48525'), ('labelsObjects', 'Federal Government of the United States of America')]\n",
      "[('property', 'http://www.wikidata.org/prop/direct/P38'), ('labelProperty', 'currency'), ('objects', 'http://www.wikidata.org/entity/Q4917'), ('labelsObjects', 'United States dollar')]\n",
      "[('property', 'http://www.wikidata.org/prop/direct/P1424'), ('labelProperty', \"topic's main template\"), ('objects', 'http://www.wikidata.org/entity/Q8171085'), ('labelsObjects', 'Template:United States topics')]\n",
      "[('property', 'http://www.wikidata.org/prop/direct/P17'), ('labelProperty', 'country'), ('objects', 'http://www.wikidata.org/entity/Q30'), ('labelsObjects', 'United States of America')]\n",
      "[('property', 'http://www.wikidata.org/prop/direct/P1313'), ('labelProperty', 'office held by head of government'), ('objects', 'http://www.wikidata.org/entity/Q11696'), ('labelsObjects', 'President of the United States')]\n",
      "[('property', 'http://www.wikidata.org/prop/direct/P2853'), ('labelProperty', 'electrical plug type'), ('objects', 'http://www.wikidata.org/entity/Q24288454,http://www.wikidata.org/entity/Q24288456'), ('labelsObjects', 'NEMA 1-15,NEMA 5-15')]\n",
      "[('property', 'http://www.wikidata.org/prop/direct/P47'), ('labelProperty', 'shares border with'), ('objects', 'http://www.wikidata.org/entity/Q16,http://www.wikidata.org/entity/Q96'), ('labelsObjects', 'Canada,Mexico')]\n",
      "[('property', 'http://www.wikidata.org/prop/direct/P85'), ('labelProperty', 'anthem'), ('objects', 'http://www.wikidata.org/entity/Q44696'), ('labelsObjects', 'The Star-Spangled Banner')]\n",
      "[('property', 'http://www.wikidata.org/prop/direct/P1791'), ('labelProperty', 'category of people buried here'), ('objects', 'http://www.wikidata.org/entity/Q7977902'), ('labelsObjects', 'Category:Burials in the United States')]\n",
      "[('property', 'http://www.wikidata.org/prop/direct/P1906'), ('labelProperty', 'office held by head of state'), ('objects', 'http://www.wikidata.org/entity/Q11696'), ('labelsObjects', 'President of the United States')]\n",
      "[('property', 'http://www.wikidata.org/prop/direct/P1830'), ('labelProperty', 'owner of'), ('objects', 'http://www.wikidata.org/entity/Q35525,http://www.wikidata.org/entity/Q881182,http://www.wikidata.org/entity/Q20709326,http://www.wikidata.org/entity/Q15094405,http://www.wikidata.org/entity/Q15888178,http://www.wikidata.org/entity/Q1783821,http://www.wikidata.org/entity/Q2225315,http://www.wikidata.org/entity/Q2336640,http://www.wikidata.org/entity/Q2525979,http://www.wikidata.org/entity/Q468574,http://www.wikidata.org/entity/Q5203364,http://www.wikidata.org/entity/Q5471573,http://www.wikidata.org/entity/Q5570493,http://www.wikidata.org/entity/Q6242206,http://www.wikidata.org/entity/Q731639,http://www.wikidata.org/entity/Q7318882,http://www.wikidata.org/entity/Q7846680,http://www.wikidata.org/entity/Q8035812,http://www.wikidata.org/entity/Q884798'), ('labelsObjects', 'White House,Blair House,John Paul Hammerschmidt Federal Building,Petschek Villa,Deichmanns Aue 31–37,Number One Observatory Circle,Monument commémoratif de Monsec,Aliiolani Hale,Rolandstraße 67,American Legation, Tangier,D.C. Armory,Fort Madison, Nuku Hiva,Global Memory Net,John Joseph Moakley United States Courthouse,The Plum,Revolutionary War Door,Trowbridge House,World Heritage Memory Net,Palais Blücher')]\n",
      "[('property', 'http://www.wikidata.org/prop/direct/P1441'), ('labelProperty', 'present in work'), ('objects', 'http://www.wikidata.org/entity/Q622282'), ('labelsObjects', 'The City on the Edge of Forever')]\n",
      "[('property', 'http://www.wikidata.org/prop/direct/P1889'), ('labelProperty', 'different from'), ('objects', 'http://www.wikidata.org/entity/Q828'), ('labelsObjects', 'Americas')]\n",
      "[('property', 'http://www.wikidata.org/prop/direct/P1464'), ('labelProperty', 'category for people born here'), ('objects', 'http://www.wikidata.org/entity/Q7463286'), ('labelsObjects', 'Category:Births in the United States')]\n",
      "[('property', 'http://www.wikidata.org/prop/direct/P2852'), ('labelProperty', 'emergency telephone number'), ('objects', 'http://www.wikidata.org/entity/Q533806'), ('labelsObjects', '911')]\n",
      "[('property', 'http://www.wikidata.org/prop/direct/P1552'), ('labelProperty', 'has quality'), ('objects', 'http://www.wikidata.org/entity/Q3174312'), ('labelsObjects', 'free country')]\n",
      "[('property', 'http://www.wikidata.org/prop/direct/P122'), ('labelProperty', 'basic form of government'), ('objects', 'http://www.wikidata.org/entity/Q49892,http://www.wikidata.org/entity/Q512187'), ('labelsObjects', 'presidential régime,federal republic')]\n",
      "[('property', 'http://www.wikidata.org/prop/direct/P457'), ('labelProperty', 'foundational text'), ('objects', 'http://www.wikidata.org/entity/Q127912'), ('labelsObjects', 'United States Declaration of Independence')]\n",
      "[('property', 'http://www.wikidata.org/prop/direct/P2936'), ('labelProperty', 'language used'), ('objects', 'http://www.wikidata.org/entity/Q3339226,http://www.wikidata.org/entity/Q32915,http://www.wikidata.org/entity/Q33388,http://www.wikidata.org/entity/Q3336118,http://www.wikidata.org/entity/Q3343396,http://www.wikidata.org/entity/Q33044,http://www.wikidata.org/entity/Q2109432,http://www.wikidata.org/entity/Q56236,http://www.wikidata.org/entity/Q56386,http://www.wikidata.org/entity/Q56417,http://www.wikidata.org/entity/Q56438,http://www.wikidata.org/entity/Q56523,http://www.wikidata.org/entity/Q56751,http://www.wikidata.org/entity/Q56754,http://www.wikidata.org/entity/Q3412974,http://www.wikidata.org/entity/Q1815020,http://www.wikidata.org/entity/Q34685,http://www.wikidata.org/entity/Q10188,http://www.wikidata.org/entity/Q12645568,http://www.wikidata.org/entity/Q1321,http://www.wikidata.org/entity/Q13260,http://www.wikidata.org/entity/Q13310,http://www.wikidata.org/entity/Q13368,http://www.wikidata.org/entity/Q15649021,http://www.wikidata.org/entity/Q1860,http://www.wikidata.org/entity/Q28269,http://www.wikidata.org/entity/Q28277,http://www.wikidata.org/entity/Q3083213,http://www.wikidata.org/entity/Q3111838,http://www.wikidata.org/entity/Q32979,http://www.wikidata.org/entity/Q34057,http://www.wikidata.org/entity/Q3912876,http://www.wikidata.org/entity/Q56421,http://www.wikidata.org/entity/Q56492,http://www.wikidata.org/entity/Q56519,http://www.wikidata.org/entity/Q7570552,http://www.wikidata.org/entity/Q7684320,http://www.wikidata.org/entity/Q27785,http://www.wikidata.org/entity/Q28272,http://www.wikidata.org/entity/Q33395,http://www.wikidata.org/entity/Q3135234,http://www.wikidata.org/entity/Q56539,http://www.wikidata.org/entity/Q33358,http://www.wikidata.org/entity/Q33404,http://www.wikidata.org/entity/Q33537,http://www.wikidata.org/entity/Q22711,http://www.wikidata.org/entity/Q33658,http://www.wikidata.org/entity/Q33569,http://www.wikidata.org/entity/Q20162127,http://www.wikidata.org/entity/Q2380124,http://www.wikidata.org/entity/Q13339,http://www.wikidata.org/entity/Q2967638,http://www.wikidata.org/entity/Q3396018,http://www.wikidata.org/entity/Q3396025,http://www.wikidata.org/entity/Q3396032,http://www.wikidata.org/entity/Q3414522,http://www.wikidata.org/entity/Q27792,http://www.wikidata.org/entity/Q3360656,http://www.wikidata.org/entity/Q6693377,http://www.wikidata.org/entity/Q3027471,http://www.wikidata.org/entity/Q1294243,http://www.wikidata.org/entity/Q2600085,http://www.wikidata.org/entity/Q2917968,http://www.wikidata.org/entity/Q3565286,http://www.wikidata.org/entity/Q56513,http://www.wikidata.org/entity/Q20832,http://www.wikidata.org/entity/Q27480,http://www.wikidata.org/entity/Q3192120,http://www.wikidata.org/entity/Q1185119,http://www.wikidata.org/entity/Q14759,http://www.wikidata.org/entity/Q27782,http://www.wikidata.org/entity/Q27210,http://www.wikidata.org/entity/Q2315424,http://www.wikidata.org/entity/Q25559664,http://www.wikidata.org/entity/Q56619,http://www.wikidata.org/entity/Q21117,http://www.wikidata.org/entity/Q32972,http://www.wikidata.org/entity/Q2270532,http://www.wikidata.org/entity/Q2963878,http://www.wikidata.org/entity/Q2984602,http://www.wikidata.org/entity/Q3370188,http://www.wikidata.org/entity/Q3549180,http://www.wikidata.org/entity/Q27183,http://www.wikidata.org/entity/Q3111983,http://www.wikidata.org/entity/Q3319130,http://www.wikidata.org/entity/Q33926,http://www.wikidata.org/entity/Q56338,http://www.wikidata.org/entity/Q56547,http://www.wikidata.org/entity/Q56627,http://www.wikidata.org/entity/Q33265,http://www.wikidata.org/entity/Q35443,http://www.wikidata.org/entity/Q56391,http://www.wikidata.org/entity/Q35602,http://www.wikidata.org/entity/Q1185127,http://www.wikidata.org/entity/Q1185133,http://www.wikidata.org/entity/Q3492334,http://www.wikidata.org/entity/Q27992,http://www.wikidata.org/entity/Q530384,http://www.wikidata.org/entity/Q36944,http://www.wikidata.org/entity/Q36444,http://www.wikidata.org/entity/Q2944443,http://www.wikidata.org/entity/Q56737,http://www.wikidata.org/entity/Q13316,http://www.wikidata.org/entity/Q27861,http://www.wikidata.org/entity/Q28060,http://www.wikidata.org/entity/Q28565,http://www.wikidata.org/entity/Q7857412,http://www.wikidata.org/entity/Q21058,http://www.wikidata.org/entity/Q1207611,http://www.wikidata.org/entity/Q12628946,http://www.wikidata.org/entity/Q12635887,http://www.wikidata.org/entity/Q12642471,http://www.wikidata.org/entity/Q12645081,http://www.wikidata.org/entity/Q1288385,http://www.wikidata.org/entity/Q1288440,http://www.wikidata.org/entity/Q1294227,http://www.wikidata.org/entity/Q1294251,http://www.wikidata.org/entity/Q12953452,http://www.wikidata.org/entity/Q12953952,http://www.wikidata.org/entity/Q12953960,http://www.wikidata.org/entity/Q13315,http://www.wikidata.org/entity/Q13363,http://www.wikidata.org/entity/Q133678,http://www.wikidata.org/entity/Q143130,http://www.wikidata.org/entity/Q1440172,http://www.wikidata.org/entity/Q1568938,http://www.wikidata.org/entity/Q15699255,http://www.wikidata.org/entity/Q1957108,http://www.wikidata.org/entity/Q1957120,http://www.wikidata.org/entity/Q20054484,http://www.wikidata.org/entity/Q20085721,http://www.wikidata.org/entity/Q20627,http://www.wikidata.org/entity/Q20711,http://www.wikidata.org/entity/Q20824,http://www.wikidata.org/entity/Q20827,http://www.wikidata.org/entity/Q20831,http://www.wikidata.org/entity/Q2393095,http://www.wikidata.org/entity/Q2454881,http://www.wikidata.org/entity/Q25559652,http://www.wikidata.org/entity/Q25559662,http://www.wikidata.org/entity/Q25559666,http://www.wikidata.org/entity/Q25559714,http://www.wikidata.org/entity/Q2665761,http://www.wikidata.org/entity/Q2669206,http://www.wikidata.org/entity/Q2669248,http://www.wikidata.org/entity/Q27993,http://www.wikidata.org/entity/Q28058,http://www.wikidata.org/entity/Q28062,http://www.wikidata.org/entity/Q28268,http://www.wikidata.org/entity/Q28281,http://www.wikidata.org/entity/Q28304,http://www.wikidata.org/entity/Q28508,http://www.wikidata.org/entity/Q2962074,http://www.wikidata.org/entity/Q2967636,http://www.wikidata.org/entity/Q2981109,http://www.wikidata.org/entity/Q3001877,http://www.wikidata.org/entity/Q3126783,http://www.wikidata.org/entity/Q3183144,http://www.wikidata.org/entity/Q3192772,http://www.wikidata.org/entity/Q3193689,http://www.wikidata.org/entity/Q3198700,http://www.wikidata.org/entity/Q3216471,http://www.wikidata.org/entity/Q3278074,http://www.wikidata.org/entity/Q3280640,http://www.wikidata.org/entity/Q32967,http://www.wikidata.org/entity/Q33060,http://www.wikidata.org/entity/Q33192,http://www.wikidata.org/entity/Q3319444,http://www.wikidata.org/entity/Q3324744,http://www.wikidata.org/entity/Q33385,http://www.wikidata.org/entity/Q3343229,http://www.wikidata.org/entity/Q33434,http://www.wikidata.org/entity/Q3344226,http://www.wikidata.org/entity/Q3344791,http://www.wikidata.org/entity/Q33591,http://www.wikidata.org/entity/Q33665,http://www.wikidata.org/entity/Q33811,http://www.wikidata.org/entity/Q3391031,http://www.wikidata.org/entity/Q3396020,http://www.wikidata.org/entity/Q3396021,http://www.wikidata.org/entity/Q3396023,http://www.wikidata.org/entity/Q3414490,http://www.wikidata.org/entity/Q34198,http://www.wikidata.org/entity/Q34204,http://www.wikidata.org/entity/Q34249,http://www.wikidata.org/entity/Q3479942,http://www.wikidata.org/entity/Q3493704,http://www.wikidata.org/entity/Q3504233,http://www.wikidata.org/entity/Q3515185,http://www.wikidata.org/entity/Q35162,http://www.wikidata.org/entity/Q35173,http://www.wikidata.org/entity/Q3573199,http://www.wikidata.org/entity/Q35976053,http://www.wikidata.org/entity/Q36937,http://www.wikidata.org/entity/Q36993,http://www.wikidata.org/entity/Q3915517,http://www.wikidata.org/entity/Q5051602,http://www.wikidata.org/entity/Q5096458,http://www.wikidata.org/entity/Q523014,http://www.wikidata.org/entity/Q56396,http://www.wikidata.org/entity/Q56510,http://www.wikidata.org/entity/Q56530,http://www.wikidata.org/entity/Q56628,http://www.wikidata.org/entity/Q56631,http://www.wikidata.org/entity/Q56661,http://www.wikidata.org/entity/Q56704,http://www.wikidata.org/entity/Q56712,http://www.wikidata.org/entity/Q56718,http://www.wikidata.org/entity/Q56749,http://www.wikidata.org/entity/Q56756,http://www.wikidata.org/entity/Q6693380'), ('labelsObjects', \"Nez Perce,Coeur d'Alene,Cherokee,Narragansett,Nooksack,Cocopah,Tillamook,Luiseño,Maricopa,Arapaho,Cahuilla,Miami-Illinois,Pawnee,Wintu,Quapaw,Alabama,Yurok,Zuni,Western Keres,Spanish,Colorado River Numic,Navajo,Mescalero-Chiricahua,Eastern Keres,English,Lipan,Jicarilla,Louisiana French,Natchez,Choctaw,Tagalog,Jemez,Hopi,Tewa,Massachusett,Southern Tiwa,Taos,Dena'ina,Hän,Gullah,Hidatsa,Arikara,Hawai'i Sign Language,Klallam,Lakota,Pennsylvania German,Lushootseed,Hawaiian,Kickapoo,Plains Indian Sign Language,Mohawk,Purisimeño,Northeastern Pomo,Southeastern Pomo,Eastern Pomo,Quinault,Tlingit,Northern Paiute,Lower Chehalis,Tipai,Esselen,Osage,Omaha–Ponca,Havasupai–Hualapai,Wichita,Wailaki,Eyak,Central Kalapuya,Wyandot,American Sign Language,Deg Xinag,Aleut,Siuslaw,Southern Ohlone,Tunica,Central Alaskan Yup'ik,Comanche,Powhatan,Chippewa,Okanagan,Patwin,Unami,Inupiat,Salish-Spokane-Kalispel,Mohegan-Pequot,Timbisha,Kawaiisu,Munsee,Kitsai,Cheyenne,Ineseño,Barbareño,Hawaiian Pidgin,Louisiana Creole,Seneca,Southern Sierra Miwok,Alutiiq,Dakota,Tuscarora,North Straits Salish,Central Sierra Miwok,Chiwere,Mikasuki,Plains Apache,Western Apache,Lower Tanana,Twana,Ahtna,Crow,Chetco,Lumbee,Southern Puget Sound Salish,Wasco-Wishram,Obispeño,Karuk,Chitimacha,Chimariko,Coquille,Umatilla,Walla Walla,Michif,Menominee,Ottawa,Cupeño,Sac-Fox-Kickapoo,Salinan,Tenino,Winnebago,Mandan,Northern Haida,Tsimshian,Tututni,Galice,Mattole,Tolowa,Cahto,O'odham,Tonkawa,Skagit,Snohomish,Northern Ohlone,Northwest Alaska Inupiatun,Delaware languages,Shawnee,Klamath,Central Siberian Yupik,Hupa,Upper Kuskokwim,Tanacross,Upper Tanana,Koyukon,Holikachuk,Upper Chehalis,Cruzeño,Coast Miwok,Cowlitz,Hanis,Malecite-Passamaquoddy,Kansa,Kashaya,Konkow,Lake Miwok,Maidu,Makah,Cayuga,Blackfoot,Chickasaw,Molala,Columbia-Moses,Hutterite German,Nomlaki,Kutenai,Northern Sierra Miwok,Nottoway,Mono,Nisenan,Shoshoni,Plains Miwok,Central Pomo,Northern Pomo,Southern Pomo,Quileute,Washo,Yuchi,Yokuts,Serrano,Spokane,Piscataway,Eastern Abenaki,Koasati,Chinook Jargon,Quechan,Yakama,Wiyot,Yuki,Nanticoke,Catawba,Chico,Muscogee,Shasta,Mojave,Wappo,Gros Ventre,Kiowa,Achumawi,Tübatulabal,Ventureño,Atsugewi,Potawatomi,Caddo,Lower Chinook\")]\n",
      "[('property', 'http://www.wikidata.org/prop/direct/P1304'), ('labelProperty', 'central bank'), ('objects', 'http://www.wikidata.org/entity/Q53536'), ('labelsObjects', 'Federal Reserve System')]\n",
      "[('property', 'http://www.wikidata.org/prop/direct/P1465'), ('labelProperty', 'category for people who died here'), ('objects', 'http://www.wikidata.org/entity/Q6334989'), ('labelsObjects', 'Category:Deaths in the United States')]\n",
      "[('property', 'http://www.wikidata.org/prop/direct/P37'), ('labelProperty', 'official language'), ('objects', 'http://www.wikidata.org/entity/Q7976'), ('labelsObjects', 'American English')]\n",
      "[('property', 'http://www.wikidata.org/prop/direct/P1546'), ('labelProperty', 'motto'), ('objects', 'http://www.wikidata.org/entity/Q270871'), ('labelsObjects', 'In God We Trust')]\n",
      "[('property', 'http://www.wikidata.org/prop/direct/P1365'), ('labelProperty', 'replaces'), ('objects', 'http://www.wikidata.org/entity/Q81931,http://www.wikidata.org/entity/Q179997'), ('labelsObjects', 'Confederate States of America,Thirteen Colonies')]\n",
      "[('property', 'http://www.wikidata.org/prop/direct/P237'), ('labelProperty', 'coat of arms'), ('objects', 'http://www.wikidata.org/entity/Q171663'), ('labelsObjects', 'Great Seal of the United States')]\n",
      "[('property', 'http://www.wikidata.org/prop/direct/P1740'), ('labelProperty', 'category for films shot at this location'), ('objects', 'http://www.wikidata.org/entity/Q6839466'), ('labelsObjects', 'Category:Films shot in the United States')]\n",
      "[('property', 'http://www.wikidata.org/prop/direct/P8744'), ('labelProperty', 'economy of topic'), ('objects', 'http://www.wikidata.org/entity/Q188540'), ('labelsObjects', 'economy of the United States')]\n",
      "[('property', 'http://www.wikidata.org/prop/direct/P610'), ('labelProperty', 'highest point'), ('objects', 'http://www.wikidata.org/entity/Q130018'), ('labelsObjects', 'Denali')]\n",
      "[('property', 'http://www.wikidata.org/prop/direct/P31'), ('labelProperty', 'instance of'), ('objects', 'http://www.wikidata.org/entity/Q1489259,http://www.wikidata.org/entity/Q99541706,http://www.wikidata.org/entity/Q1520223,http://www.wikidata.org/entity/Q3624078,http://www.wikidata.org/entity/Q512187,http://www.wikidata.org/entity/Q5255892,http://www.wikidata.org/entity/Q6256'), ('labelsObjects', 'superpower,historical unrecognized state,constitutional republic,sovereign state,federal republic,democratic republic,country')]\n",
      "[('property', 'http://www.wikidata.org/prop/direct/P530'), ('labelProperty', 'diplomatic relation'), ('objects', 'http://www.wikidata.org/entity/Q156418,http://www.wikidata.org/entity/Q786,http://www.wikidata.org/entity/Q170588,http://www.wikidata.org/entity/Q1000,http://www.wikidata.org/entity/Q1005,http://www.wikidata.org/entity/Q1006,http://www.wikidata.org/entity/Q1007,http://www.wikidata.org/entity/Q1008,http://www.wikidata.org/entity/Q1011,http://www.wikidata.org/entity/Q1013,http://www.wikidata.org/entity/Q1014,http://www.wikidata.org/entity/Q1016,http://www.wikidata.org/entity/Q1019,http://www.wikidata.org/entity/Q1020,http://www.wikidata.org/entity/Q1025,http://www.wikidata.org/entity/Q1027,http://www.wikidata.org/entity/Q1028,http://www.wikidata.org/entity/Q1029,http://www.wikidata.org/entity/Q1030,http://www.wikidata.org/entity/Q1032,http://www.wikidata.org/entity/Q1033,http://www.wikidata.org/entity/Q1036,http://www.wikidata.org/entity/Q1037,http://www.wikidata.org/entity/Q1039,http://www.wikidata.org/entity/Q1041,http://www.wikidata.org/entity/Q1042,http://www.wikidata.org/entity/Q1044,http://www.wikidata.org/entity/Q1045,http://www.wikidata.org/entity/Q1049,http://www.wikidata.org/entity/Q1050,http://www.wikidata.org/entity/Q115,http://www.wikidata.org/entity/Q117,http://www.wikidata.org/entity/Q1246,http://www.wikidata.org/entity/Q142,http://www.wikidata.org/entity/Q145,http://www.wikidata.org/entity/Q14773,http://www.wikidata.org/entity/Q148,http://www.wikidata.org/entity/Q15180,http://www.wikidata.org/entity/Q155,http://www.wikidata.org/entity/Q159,http://www.wikidata.org/entity/Q159583,http://www.wikidata.org/entity/Q16,http://www.wikidata.org/entity/Q17,http://www.wikidata.org/entity/Q183,http://www.wikidata.org/entity/Q184,http://www.wikidata.org/entity/Q189,http://www.wikidata.org/entity/Q191,http://www.wikidata.org/entity/Q20,http://www.wikidata.org/entity/Q211,http://www.wikidata.org/entity/Q212,http://www.wikidata.org/entity/Q21203,http://www.wikidata.org/entity/Q213,http://www.wikidata.org/entity/Q214,http://www.wikidata.org/entity/Q215,http://www.wikidata.org/entity/Q217,http://www.wikidata.org/entity/Q218,http://www.wikidata.org/entity/Q219060,http://www.wikidata.org/entity/Q221,http://www.wikidata.org/entity/Q222,http://www.wikidata.org/entity/Q224,http://www.wikidata.org/entity/Q225,http://www.wikidata.org/entity/Q227,http://www.wikidata.org/entity/Q228,http://www.wikidata.org/entity/Q229,http://www.wikidata.org/entity/Q230,http://www.wikidata.org/entity/Q232,http://www.wikidata.org/entity/Q233,http://www.wikidata.org/entity/Q235,http://www.wikidata.org/entity/Q236,http://www.wikidata.org/entity/Q23635,http://www.wikidata.org/entity/Q242,http://www.wikidata.org/entity/Q244,http://www.wikidata.org/entity/Q252,http://www.wikidata.org/entity/Q262,http://www.wikidata.org/entity/Q265,http://www.wikidata.org/entity/Q27,http://www.wikidata.org/entity/Q28,http://www.wikidata.org/entity/Q298,http://www.wikidata.org/entity/Q31,http://www.wikidata.org/entity/Q32,http://www.wikidata.org/entity/Q33,http://www.wikidata.org/entity/Q334,http://www.wikidata.org/entity/Q34,http://www.wikidata.org/entity/Q34266,http://www.wikidata.org/entity/Q347,http://www.wikidata.org/entity/Q35,http://www.wikidata.org/entity/Q36,http://www.wikidata.org/entity/Q37,http://www.wikidata.org/entity/Q38,http://www.wikidata.org/entity/Q39,http://www.wikidata.org/entity/Q398,http://www.wikidata.org/entity/Q399,http://www.wikidata.org/entity/Q403,http://www.wikidata.org/entity/Q408,http://www.wikidata.org/entity/Q41,http://www.wikidata.org/entity/Q414,http://www.wikidata.org/entity/Q419,http://www.wikidata.org/entity/Q424,http://www.wikidata.org/entity/Q43,http://www.wikidata.org/entity/Q45,http://www.wikidata.org/entity/Q458,http://www.wikidata.org/entity/Q55,http://www.wikidata.org/entity/Q574,http://www.wikidata.org/entity/Q5785,http://www.wikidata.org/entity/Q657,http://www.wikidata.org/entity/Q664,http://www.wikidata.org/entity/Q668,http://www.wikidata.org/entity/Q672,http://www.wikidata.org/entity/Q683,http://www.wikidata.org/entity/Q686,http://www.wikidata.org/entity/Q691,http://www.wikidata.org/entity/Q695,http://www.wikidata.org/entity/Q702,http://www.wikidata.org/entity/Q709,http://www.wikidata.org/entity/Q710,http://www.wikidata.org/entity/Q711,http://www.wikidata.org/entity/Q712,http://www.wikidata.org/entity/Q717,http://www.wikidata.org/entity/Q730,http://www.wikidata.org/entity/Q733,http://www.wikidata.org/entity/Q734,http://www.wikidata.org/entity/Q736,http://www.wikidata.org/entity/Q750,http://www.wikidata.org/entity/Q754,http://www.wikidata.org/entity/Q757,http://www.wikidata.org/entity/Q760,http://www.wikidata.org/entity/Q766,http://www.wikidata.org/entity/Q769,http://www.wikidata.org/entity/Q77,http://www.wikidata.org/entity/Q774,http://www.wikidata.org/entity/Q783,http://www.wikidata.org/entity/Q784,http://www.wikidata.org/entity/Q790,http://www.wikidata.org/entity/Q792,http://www.wikidata.org/entity/Q796,http://www.wikidata.org/entity/Q800,http://www.wikidata.org/entity/Q801,http://www.wikidata.org/entity/Q804,http://www.wikidata.org/entity/Q805,http://www.wikidata.org/entity/Q811,http://www.wikidata.org/entity/Q813,http://www.wikidata.org/entity/Q817,http://www.wikidata.org/entity/Q819,http://www.wikidata.org/entity/Q822,http://www.wikidata.org/entity/Q826,http://www.wikidata.org/entity/Q833,http://www.wikidata.org/entity/Q836,http://www.wikidata.org/entity/Q837,http://www.wikidata.org/entity/Q843,http://www.wikidata.org/entity/Q851,http://www.wikidata.org/entity/Q854,http://www.wikidata.org/entity/Q858,http://www.wikidata.org/entity/Q863,http://www.wikidata.org/entity/Q8646,http://www.wikidata.org/entity/Q865,http://www.wikidata.org/entity/Q874,http://www.wikidata.org/entity/Q881,http://www.wikidata.org/entity/Q884,http://www.wikidata.org/entity/Q889,http://www.wikidata.org/entity/Q902,http://www.wikidata.org/entity/Q912,http://www.wikidata.org/entity/Q916,http://www.wikidata.org/entity/Q921,http://www.wikidata.org/entity/Q924,http://www.wikidata.org/entity/Q928,http://www.wikidata.org/entity/Q945,http://www.wikidata.org/entity/Q948,http://www.wikidata.org/entity/Q953,http://www.wikidata.org/entity/Q958,http://www.wikidata.org/entity/Q96,http://www.wikidata.org/entity/Q962,http://www.wikidata.org/entity/Q963,http://www.wikidata.org/entity/Q965,http://www.wikidata.org/entity/Q967,http://www.wikidata.org/entity/Q970,http://www.wikidata.org/entity/Q971,http://www.wikidata.org/entity/Q974,http://www.wikidata.org/entity/Q977,http://www.wikidata.org/entity/Q983,http://www.wikidata.org/entity/Q986,http://www.wikidata.org/entity/Q25227'), ('labelsObjects', \"Kingdom of Hawaiʻi,Dominican Republic,Republic of Texas,Gabon,The Gambia,Guinea,Guinea-Bissau,Ivory Coast,Cape Verde,Lesotho,Liberia,Libya,Madagascar,Malawi,Mauritania,Mauritius,Morocco,Mozambique,Namibia,Niger,Nigeria,Uganda,Rwanda,São Tomé and Príncipe,Senegal,Seychelles,Sierra Leone,Somalia,Sudan,Eswatini,Ethiopia,Ghana,Kosovo,France,United Kingdom,Macau,People's Republic of China,Soviet Union,Brazil,Russia,Holy See,Canada,Japan,Germany,Belarus,Iceland,Estonia,Norway,Latvia,Ukraine,Aruba,Czech Republic,Slovakia,Slovenia,Moldova,Romania,State of Palestine,North Macedonia,Albania,Croatia,Bosnia and Herzegovina,Azerbaijan,Andorra,Cyprus,Georgia,Kazakhstan,Malta,Monaco,Montenegro,Bermuda,Belize,Barbados,Indonesia,Algeria,Uzbekistan,Ireland,Hungary,Chile,Belgium,Luxembourg,Finland,Singapore,Sweden,Russian Empire,Liechtenstein,Denmark,Poland,Lithuania,Italy,Switzerland,Bahrain,Armenia,Serbia,Australia,Greece,Argentina,Peru,Cambodia,Turkey,Portugal,European Union,Netherlands,East Timor,Cayman Islands,Chad,New Zealand,India,Tuvalu,Samoa,Vanuatu,Papua New Guinea,Palau,Federated States of Micronesia,Marshall Islands,Kiribati,Mongolia,Fiji,Venezuela,Suriname,Paraguay,Guyana,Ecuador,Bolivia,Trinidad and Tobago,Saint Vincent and the Grenadines,Saint Lucia,Jamaica,Grenada,Uruguay,Guatemala,Honduras,Dominica,Haiti,El Salvador,Iraq,Costa Rica,Israel,Panama,Yemen,Nicaragua,Kyrgyzstan,Kuwait,Laos,Lebanon,Maldives,Malaysia,Myanmar,Nepal,Pakistan,Saudi Arabia,Sri Lanka,Syria,Tajikistan,Hong Kong,Taiwan,Turkmenistan,Vietnam,South Korea,Afghanistan,Bangladesh,Mali,Angola,Brunei,Tanzania,Philippines,Togo,Tunisia,Zambia,South Sudan,Mexico,Benin,Botswana,Burkina Faso,Burundi,Comoros,Republic of the Congo,Democratic Republic of the Congo,Djibouti,Equatorial Guinea,Eritrea,Netherlands Antilles\")]\n",
      "[('property', 'http://www.wikidata.org/prop/direct/P209'), ('labelProperty', 'highest judicial authority'), ('objects', 'http://www.wikidata.org/entity/Q11201'), ('labelsObjects', 'Supreme Court of the United States')]\n",
      "[('property', 'http://www.wikidata.org/prop/direct/P910'), ('labelProperty', \"topic's main category\"), ('objects', 'http://www.wikidata.org/entity/Q1410960'), ('labelsObjects', 'Category:United States')]\n",
      "[('property', 'http://www.wikidata.org/prop/direct/P1343'), ('labelProperty', 'described by source'), ('objects', 'http://www.wikidata.org/entity/Q15987490,http://www.wikidata.org/entity/Q19180675,http://www.wikidata.org/entity/Q20096917,http://www.wikidata.org/entity/Q4173137,http://www.wikidata.org/entity/Q4532138,http://www.wikidata.org/entity/Q602358,http://www.wikidata.org/entity/Q867541'), ('labelsObjects', '1922 Encyclopædia Britannica,Small Brockhaus and Efron Encyclopedic Dictionary,Encyclopædia Britannica Ninth Edition,Jewish Encyclopedia of Brockhaus and Efron,Granat Encyclopedic Dictionary,Brockhaus and Efron Encyclopedic Dictionary,Encyclopædia Britannica 11th edition')]\n",
      "50\n"
     ]
    }
   ],
   "source": [
    "queryString = \"\"\"\n",
    "SELECT DISTINCT ?property ?labelProperty (GROUP_CONCAT(?object ; separator = \",\")  AS ?objects) (GROUP_CONCAT(?labelObject; separator = \",\")  AS ?labelsObjects)\n",
    "WHERE \n",
    "{   \n",
    "   wd:Q30 ?property ?object .  \n",
    " \n",
    "   # Labels\n",
    "   ?property sc:name ?labelProperty .      \n",
    "   ?object sc:name ?labelObject\n",
    "   \n",
    "   FILTER(!isLiteral(?object)) .   \n",
    "}GROUP BY ?property ?labelProperty\n",
    "LIMIT 50\n",
    "\"\"\"\n",
    "print(\"Results\")\n",
    "x=run_query(queryString)"
   ]
  },
  {
   "cell_type": "markdown",
   "id": "060e0b75-b919-4714-b2d0-f7042a4a05ec",
   "metadata": {
    "tags": []
   },
   "source": [
    "### Get the values of \"official name\" (wdt:P1448) of \"United States of America\" (wd:Q30)"
   ]
  },
  {
   "cell_type": "code",
   "execution_count": 158,
   "id": "4cb26afb-ade0-431d-8b54-eaa7dec17899",
   "metadata": {},
   "outputs": [
    {
     "name": "stdout",
     "output_type": "stream",
     "text": [
      "Results\n",
      "[('officialName', 'United States')]\n",
      "[('officialName', 'the United States of America')]\n",
      "2\n"
     ]
    }
   ],
   "source": [
    "queryString = \"\"\"\n",
    "SELECT DISTINCT ?officialName\n",
    "WHERE {   \n",
    "    wd:Q30 wdt:P1448 ?officialName .   \n",
    "}\n",
    "\"\"\"\n",
    "print(\"Results\")\n",
    "x=run_query(queryString)"
   ]
  },
  {
   "cell_type": "markdown",
   "id": "02c4afda-3bd4-47b1-aeaa-3cf0dfae92bc",
   "metadata": {
    "tags": []
   },
   "source": [
    "### Get first 50 objects connected with \"nationality\" (wdt:P27) such that the their labels contains \"France\""
   ]
  },
  {
   "cell_type": "code",
   "execution_count": 290,
   "id": "cb65cf96-2b01-472f-bf48-5759ac8fefa6",
   "metadata": {},
   "outputs": [
    {
     "name": "stdout",
     "output_type": "stream",
     "text": [
      "Results\n",
      "[('obj', 'http://www.wikidata.org/entity/Q170604'), ('labelObj', 'New France')]\n",
      "[('obj', 'http://www.wikidata.org/entity/Q69323'), ('labelObj', 'Kingdom of France')]\n",
      "[('obj', 'http://www.wikidata.org/entity/Q142'), ('labelObj', 'France')]\n",
      "[('obj', 'http://www.wikidata.org/entity/Q70972'), ('labelObj', 'Kingdom of France')]\n",
      "[('obj', 'http://www.wikidata.org/entity/Q69808'), ('labelObj', 'Vichy France')]\n",
      "[('obj', 'http://www.wikidata.org/entity/Q4055129'), ('labelObj', 'absolute monarchy in France')]\n",
      "[('obj', 'http://www.wikidata.org/entity/Q237131'), ('labelObj', 'France in the Middle Ages')]\n",
      "[('obj', 'http://www.wikidata.org/entity/Q18606521'), ('labelObj', 'Francesa')]\n",
      "[('obj', 'http://www.wikidata.org/entity/Q5478259'), ('labelObj', 'France')]\n",
      "[('obj', 'http://www.wikidata.org/entity/Q1573912'), ('labelObj', 'Kingdom of France')]\n",
      "10\n"
     ]
    }
   ],
   "source": [
    "queryString = \"\"\"\n",
    "SELECT DISTINCT ?obj ?labelObj\n",
    "WHERE {   \n",
    "    ?sbj wdt:P27 ?obj .   \n",
    "    ?sbj sc:name ?labelSbj .\n",
    "    ?obj sc:name ?labelObj .\n",
    "    FILTER (CONTAINS(?labelObj, \"France\"))\n",
    "} LIMIT 50\n",
    "\"\"\"\n",
    "print(\"Results\")\n",
    "x=run_query(queryString)"
   ]
  },
  {
   "cell_type": "markdown",
   "id": "57be513f-f31c-414d-88e2-ba7c3f6c429e",
   "metadata": {
    "tags": []
   },
   "source": [
    "### Get all data property of \"France\" (wd:Q142)"
   ]
  },
  {
   "cell_type": "code",
   "execution_count": 283,
   "id": "d4fbc3cb-1742-441d-b745-c572176b806b",
   "metadata": {},
   "outputs": [
    {
     "name": "stdout",
     "output_type": "stream",
     "text": [
      "Results\n",
      "[('property', 'http://www.wikidata.org/prop/direct/P1005'), ('label', 'Portuguese National Library ID')]\n",
      "[('property', 'http://www.wikidata.org/prop/direct/P1015'), ('label', 'NORAF ID')]\n",
      "[('property', 'http://www.wikidata.org/prop/direct/P1036'), ('label', 'Dewey Decimal Classification')]\n",
      "[('property', 'http://www.wikidata.org/prop/direct/P1081'), ('label', 'Human Development Index')]\n",
      "[('property', 'http://www.wikidata.org/prop/direct/P1082'), ('label', 'population')]\n",
      "[('property', 'http://www.wikidata.org/prop/direct/P1120'), ('label', 'number of deaths')]\n",
      "[('property', 'http://www.wikidata.org/prop/direct/P1125'), ('label', 'Gini coefficient')]\n",
      "[('property', 'http://www.wikidata.org/prop/direct/P1198'), ('label', 'unemployment rate')]\n",
      "[('property', 'http://www.wikidata.org/prop/direct/P1225'), ('label', 'U.S. National Archives Identifier')]\n",
      "[('property', 'http://www.wikidata.org/prop/direct/P1245'), ('label', 'OmegaWiki Defined Meaning')]\n",
      "[('property', 'http://www.wikidata.org/prop/direct/P1296'), ('label', 'Gran Enciclopèdia Catalana ID')]\n",
      "[('property', 'http://www.wikidata.org/prop/direct/P1315'), ('label', 'NLA Trove ID')]\n",
      "[('property', 'http://www.wikidata.org/prop/direct/P1417'), ('label', 'Encyclopædia Britannica Online ID')]\n",
      "[('property', 'http://www.wikidata.org/prop/direct/P1438'), ('label', 'Jewish Encyclopedia ID (Russian)')]\n",
      "[('property', 'http://www.wikidata.org/prop/direct/P1549'), ('label', 'demonym')]\n",
      "[('property', 'http://www.wikidata.org/prop/direct/P1566'), ('label', 'GeoNames ID')]\n",
      "[('property', 'http://www.wikidata.org/prop/direct/P1617'), ('label', 'BBC Things ID')]\n",
      "[('property', 'http://www.wikidata.org/prop/direct/P1667'), ('label', 'Getty Thesaurus of Geographic Names ID')]\n",
      "[('property', 'http://www.wikidata.org/prop/direct/P1670'), ('label', 'Canadiana Authorities ID (former scheme)')]\n",
      "[('property', 'http://www.wikidata.org/prop/direct/P1842'), ('label', 'Global Anabaptist Mennonite Encyclopedia Online ID')]\n",
      "[('property', 'http://www.wikidata.org/prop/direct/P1958'), ('label', 'Trismegistos Geo ID')]\n",
      "[('property', 'http://www.wikidata.org/prop/direct/P1968'), ('label', 'Foursquare venue ID')]\n",
      "[('property', 'http://www.wikidata.org/prop/direct/P2004'), ('label', 'NALT ID')]\n",
      "[('property', 'http://www.wikidata.org/prop/direct/P2013'), ('label', 'Facebook ID')]\n",
      "[('property', 'http://www.wikidata.org/prop/direct/P2041'), ('label', 'National Gallery of Victoria artist ID')]\n",
      "[('property', 'http://www.wikidata.org/prop/direct/P2046'), ('label', 'area')]\n",
      "[('property', 'http://www.wikidata.org/prop/direct/P214'), ('label', 'VIAF ID')]\n",
      "[('property', 'http://www.wikidata.org/prop/direct/P2163'), ('label', 'FAST ID')]\n",
      "[('property', 'http://www.wikidata.org/prop/direct/P2250'), ('label', 'life expectancy')]\n",
      "[('property', 'http://www.wikidata.org/prop/direct/P2258'), ('label', 'mobile country code')]\n",
      "[('property', 'http://www.wikidata.org/prop/direct/P227'), ('label', 'GND ID')]\n",
      "[('property', 'http://www.wikidata.org/prop/direct/P2347'), ('label', 'YSO ID')]\n",
      "[('property', 'http://www.wikidata.org/prop/direct/P244'), ('label', 'Library of Congress authority ID')]\n",
      "[('property', 'http://www.wikidata.org/prop/direct/P2573'), ('label', 'number of out-of-school children')]\n",
      "[('property', 'http://www.wikidata.org/prop/direct/P2581'), ('label', 'BabelNet ID')]\n",
      "[('property', 'http://www.wikidata.org/prop/direct/P268'), ('label', 'Bibliothèque nationale de France ID')]\n",
      "[('property', 'http://www.wikidata.org/prop/direct/P269'), ('label', 'IdRef ID')]\n",
      "[('property', 'http://www.wikidata.org/prop/direct/P271'), ('label', 'CiNii author ID (books)')]\n",
      "[('property', 'http://www.wikidata.org/prop/direct/P2855'), ('label', 'VAT-rate')]\n",
      "[('property', 'http://www.wikidata.org/prop/direct/P2884'), ('label', 'mains voltage')]\n",
      "[('property', 'http://www.wikidata.org/prop/direct/P2924'), ('label', 'Great Russian Encyclopedia Online ID')]\n",
      "[('property', 'http://www.wikidata.org/prop/direct/P2927'), ('label', 'water as percent of area')]\n",
      "[('property', 'http://www.wikidata.org/prop/direct/P2950'), ('label', 'Nomisma ID')]\n",
      "[('property', 'http://www.wikidata.org/prop/direct/P297'), ('label', 'ISO 3166-1 alpha-2 code')]\n",
      "[('property', 'http://www.wikidata.org/prop/direct/P2979'), ('label', 'maritime identification digits')]\n",
      "[('property', 'http://www.wikidata.org/prop/direct/P298'), ('label', 'ISO 3166-1 alpha-3 code')]\n",
      "[('property', 'http://www.wikidata.org/prop/direct/P2981'), ('label', 'UIC alphabetical country code')]\n",
      "[('property', 'http://www.wikidata.org/prop/direct/P2982'), ('label', 'UIC numerical country code')]\n",
      "[('property', 'http://www.wikidata.org/prop/direct/P299'), ('label', 'ISO 3166-1 numeric code')]\n",
      "[('property', 'http://www.wikidata.org/prop/direct/P2997'), ('label', 'age of majority')]\n",
      "[('property', 'http://www.wikidata.org/prop/direct/P3000'), ('label', 'marriageable age')]\n",
      "[('property', 'http://www.wikidata.org/prop/direct/P3001'), ('label', 'retirement age')]\n",
      "[('property', 'http://www.wikidata.org/prop/direct/P3024'), ('label', 'ITU letter code')]\n",
      "[('property', 'http://www.wikidata.org/prop/direct/P3065'), ('label', 'RERO ID')]\n",
      "[('property', 'http://www.wikidata.org/prop/direct/P3067'), ('label', 'GS1 country code')]\n",
      "[('property', 'http://www.wikidata.org/prop/direct/P3068'), ('label', 'WIPO ST.3')]\n",
      "[('property', 'http://www.wikidata.org/prop/direct/P3086'), ('label', 'speed limit')]\n",
      "[('property', 'http://www.wikidata.org/prop/direct/P3097'), ('label', 'ISBN identifier group')]\n",
      "[('property', 'http://www.wikidata.org/prop/direct/P3106'), ('label', 'Guardian topic ID')]\n",
      "[('property', 'http://www.wikidata.org/prop/direct/P3134'), ('label', 'TripAdvisor ID')]\n",
      "[('property', 'http://www.wikidata.org/prop/direct/P3175'), ('label', 'Statoids ID')]\n",
      "[('property', 'http://www.wikidata.org/prop/direct/P3183'), ('label', 'Wall Street Journal topic ID')]\n",
      "[('property', 'http://www.wikidata.org/prop/direct/P3219'), ('label', 'Encyclopædia Universalis ID')]\n",
      "[('property', 'http://www.wikidata.org/prop/direct/P3221'), ('label', 'New York Times topic ID')]\n",
      "[('property', 'http://www.wikidata.org/prop/direct/P3222'), ('label', 'NE.se ID')]\n",
      "[('property', 'http://www.wikidata.org/prop/direct/P3238'), ('label', 'trunk prefix')]\n",
      "[('property', 'http://www.wikidata.org/prop/direct/P3241'), ('label', 'Catholic Encyclopedia ID')]\n",
      "[('property', 'http://www.wikidata.org/prop/direct/P3270'), ('label', 'compulsory education (minimum age)')]\n",
      "[('property', 'http://www.wikidata.org/prop/direct/P3271'), ('label', 'compulsory education (maximum age)')]\n",
      "[('property', 'http://www.wikidata.org/prop/direct/P3417'), ('label', 'Quora topic ID')]\n",
      "[('property', 'http://www.wikidata.org/prop/direct/P3479'), ('label', 'Omni topic ID')]\n",
      "[('property', 'http://www.wikidata.org/prop/direct/P349'), ('label', 'National Diet Library ID')]\n",
      "[('property', 'http://www.wikidata.org/prop/direct/P3509'), ('label', 'Dagens Nyheter topic ID')]\n",
      "[('property', 'http://www.wikidata.org/prop/direct/P3529'), ('label', 'median income')]\n",
      "[('property', 'http://www.wikidata.org/prop/direct/P3553'), ('label', 'Zhihu topic ID')]\n",
      "[('property', 'http://www.wikidata.org/prop/direct/P3612'), ('label', 'Le Monde diplomatique subject ID')]\n",
      "[('property', 'http://www.wikidata.org/prop/direct/P3630'), ('label', 'Babelio author ID')]\n",
      "[('property', 'http://www.wikidata.org/prop/direct/P373'), ('label', 'Commons category')]\n",
      "[('property', 'http://www.wikidata.org/prop/direct/P3743'), ('label', 'ITU/ISO/IEC object identifier')]\n",
      "[('property', 'http://www.wikidata.org/prop/direct/P3749'), ('label', 'Google Maps Customer ID')]\n",
      "[('property', 'http://www.wikidata.org/prop/direct/P3847'), ('label', 'Open Library subject ID')]\n",
      "[('property', 'http://www.wikidata.org/prop/direct/P3911'), ('label', 'STW Thesaurus for Economics ID')]\n",
      "[('property', 'http://www.wikidata.org/prop/direct/P3916'), ('label', 'UNESCO Thesaurus ID')]\n",
      "[('property', 'http://www.wikidata.org/prop/direct/P395'), ('label', 'licence plate code')]\n",
      "[('property', 'http://www.wikidata.org/prop/direct/P3984'), ('label', 'subreddit')]\n",
      "[('property', 'http://www.wikidata.org/prop/direct/P402'), ('label', 'OpenStreetMap relation ID')]\n",
      "[('property', 'http://www.wikidata.org/prop/direct/P4073'), ('label', 'Fandom wiki ID')]\n",
      "[('property', 'http://www.wikidata.org/prop/direct/P4081'), ('label', 'BHL creator ID')]\n",
      "[('property', 'http://www.wikidata.org/prop/direct/P409'), ('label', 'Libraries Australia ID')]\n",
      "[('property', 'http://www.wikidata.org/prop/direct/P4161'), ('label', 'Michelin Voyages ID')]\n",
      "[('property', 'http://www.wikidata.org/prop/direct/P4212'), ('label', 'PACTOLS thesaurus ID')]\n",
      "[('property', 'http://www.wikidata.org/prop/direct/P4342'), ('label', 'Store norske leksikon ID')]\n",
      "[('property', 'http://www.wikidata.org/prop/direct/P4427'), ('label', 'GACS ID')]\n",
      "[('property', 'http://www.wikidata.org/prop/direct/P4491'), ('label', 'Isidore scholar ID')]\n",
      "[('property', 'http://www.wikidata.org/prop/direct/P4527'), ('label', 'UK Parliament thesaurus ID')]\n",
      "[('property', 'http://www.wikidata.org/prop/direct/P4619'), ('label', 'National Library of Brazil ID')]\n",
      "[('property', 'http://www.wikidata.org/prop/direct/P4629'), ('label', 'Online Books Page author ID')]\n",
      "[('property', 'http://www.wikidata.org/prop/direct/P4672'), ('label', 'EMLO location ID')]\n",
      "[('property', 'http://www.wikidata.org/prop/direct/P4725'), ('label', 'C-SPAN organization ID')]\n",
      "[('property', 'http://www.wikidata.org/prop/direct/P474'), ('label', 'country calling code')]\n",
      "[('property', 'http://www.wikidata.org/prop/direct/P4801'), ('label', 'LoC and MARC vocabularies ID')]\n",
      "[('property', 'http://www.wikidata.org/prop/direct/P4841'), ('label', 'total fertility rate')]\n",
      "[('property', 'http://www.wikidata.org/prop/direct/P486'), ('label', 'MeSH descriptor ID')]\n",
      "[('property', 'http://www.wikidata.org/prop/direct/P487'), ('label', 'Unicode character')]\n",
      "[('property', 'http://www.wikidata.org/prop/direct/P5019'), ('label', 'Brockhaus Enzyklopädie online ID')]\n",
      "[('property', 'http://www.wikidata.org/prop/direct/P5063'), ('label', 'Interlingual Index ID')]\n",
      "[('property', 'http://www.wikidata.org/prop/direct/P5180'), ('label', 'CIVICUS Monitor country entry')]\n",
      "[('property', 'http://www.wikidata.org/prop/direct/P5198'), ('label', 'ASC Leiden Thesaurus ID')]\n",
      "[('property', 'http://www.wikidata.org/prop/direct/P5247'), ('label', 'Giant Bomb ID')]\n",
      "[('property', 'http://www.wikidata.org/prop/direct/P5250'), ('label', 'IAB code')]\n",
      "[('property', 'http://www.wikidata.org/prop/direct/P5337'), ('label', 'Google News topics ID')]\n",
      "[('property', 'http://www.wikidata.org/prop/direct/P5400'), ('label', 'GeoNLP ID')]\n",
      "[('property', 'http://www.wikidata.org/prop/direct/P5437'), ('label', 'EuroVoc ID')]\n",
      "[('property', 'http://www.wikidata.org/prop/direct/P5456'), ('label', 'TasteAtlas ID')]\n",
      "[('property', 'http://www.wikidata.org/prop/direct/P5573'), ('label', 'archINFORM location ID')]\n",
      "[('property', 'http://www.wikidata.org/prop/direct/P5698'), ('label', 'Invasive Species Compendium Datasheet ID')]\n",
      "[('property', 'http://www.wikidata.org/prop/direct/P571'), ('label', 'inception')]\n",
      "[('property', 'http://www.wikidata.org/prop/direct/P5843'), ('label', 'Gynopedia ID')]\n",
      "[('property', 'http://www.wikidata.org/prop/direct/P5905'), ('label', 'Comic Vine ID')]\n",
      "[('property', 'http://www.wikidata.org/prop/direct/P5982'), ('label', 'annual number of weddings')]\n",
      "[('property', 'http://www.wikidata.org/prop/direct/P605'), ('label', 'NUTS code')]\n",
      "[('property', 'http://www.wikidata.org/prop/direct/P6058'), ('label', 'Larousse ID')]\n",
      "[('property', 'http://www.wikidata.org/prop/direct/P6181'), ('label', 'Disney A to Z ID')]\n",
      "[('property', 'http://www.wikidata.org/prop/direct/P6200'), ('label', 'BBC News topic ID')]\n",
      "[('property', 'http://www.wikidata.org/prop/direct/P6262'), ('label', 'Fandom article ID')]\n",
      "[('property', 'http://www.wikidata.org/prop/direct/P6293'), ('label', 'YSA ID')]\n",
      "[('property', 'http://www.wikidata.org/prop/direct/P6385'), ('label', 'Krugosvet article')]\n",
      "[('property', 'http://www.wikidata.org/prop/direct/P6404'), ('label', \"Treccani's Dizionario di Storia ID\")]\n",
      "[('property', 'http://www.wikidata.org/prop/direct/P646'), ('label', 'Freebase ID')]\n",
      "[('property', 'http://www.wikidata.org/prop/direct/P6573'), ('label', 'Klexikon article ID')]\n",
      "[('property', 'http://www.wikidata.org/prop/direct/P6713'), ('label', 'Australian War Memorial ID')]\n",
      "[('property', 'http://www.wikidata.org/prop/direct/P6766'), ('label', \"Who's on First ID\")]\n",
      "[('property', 'http://www.wikidata.org/prop/direct/P6849'), ('label', 'DR topic ID')]\n",
      "[('property', 'http://www.wikidata.org/prop/direct/P6900'), ('label', 'NicoNicoPedia ID')]\n",
      "[('property', 'http://www.wikidata.org/prop/direct/P691'), ('label', 'NKCR AUT ID')]\n",
      "[('property', 'http://www.wikidata.org/prop/direct/P7012'), ('label', 'World Encyclopedia of Puppetry Arts ID')]\n",
      "[('property', 'http://www.wikidata.org/prop/direct/P7039'), ('label', 'National Library of Iceland ID')]\n",
      "[('property', 'http://www.wikidata.org/prop/direct/P7157'), ('label', 'The Top Tens ID')]\n",
      "[('property', 'http://www.wikidata.org/prop/direct/P7295'), ('label', 'Gregorian calendar start date')]\n",
      "[('property', 'http://www.wikidata.org/prop/direct/P7301'), ('label', 'Al-Jazeera topic ID')]\n",
      "[('property', 'http://www.wikidata.org/prop/direct/P7322'), ('label', 'Marine Regions Geographic IDentifier (MRGID)')]\n",
      "[('property', 'http://www.wikidata.org/prop/direct/P7471'), ('label', 'iNaturalist place ID')]\n",
      "[('property', 'http://www.wikidata.org/prop/direct/P7818'), ('label', 'French Vikidia ID')]\n",
      "[('property', 'http://www.wikidata.org/prop/direct/P7822'), ('label', 'Italian Vikidia ID')]\n",
      "[('property', 'http://www.wikidata.org/prop/direct/P7827'), ('label', 'Spanish Vikidia ID')]\n",
      "[('property', 'http://www.wikidata.org/prop/direct/P7829'), ('label', 'English Vikidia ID')]\n",
      "[('property', 'http://www.wikidata.org/prop/direct/P7841'), ('label', 'Armenian Vikidia ID')]\n",
      "[('property', 'http://www.wikidata.org/prop/direct/P7850'), ('label', 'Joconde location ID')]\n",
      "[('property', 'http://www.wikidata.org/prop/direct/P7859'), ('label', 'WorldCat Identities ID')]\n",
      "[('property', 'http://www.wikidata.org/prop/direct/P7870'), ('label', 'Analysis & Policy Observatory term ID')]\n",
      "[('property', 'http://www.wikidata.org/prop/direct/P7960'), ('label', 'Joconde discovery ID')]\n",
      "[('property', 'http://www.wikidata.org/prop/direct/P8189'), ('label', 'National Library of Israel J9U ID')]\n",
      "[('property', 'http://www.wikidata.org/prop/direct/P8217'), ('label', 'iDAI.gazetteer ID')]\n",
      "[('property', 'http://www.wikidata.org/prop/direct/P8309'), ('label', 'Yle topic ID')]\n",
      "[('property', 'http://www.wikidata.org/prop/direct/P8365'), ('label', 'Thesaurus Sozialwissenschaften ID')]\n",
      "[('property', 'http://www.wikidata.org/prop/direct/P8374'), ('label', 'Criminological Thesaurus ID')]\n",
      "[('property', 'http://www.wikidata.org/prop/direct/P8406'), ('label', 'Grove Art Online ID')]\n",
      "[('property', 'http://www.wikidata.org/prop/direct/P8408'), ('label', 'KBpedia ID')]\n",
      "[('property', 'http://www.wikidata.org/prop/direct/P8432'), ('label', 'Österreichisches Musiklexikon Online ID')]\n",
      "[('property', 'http://www.wikidata.org/prop/direct/P8472'), ('label', 'Encyclopedie berbere keyword ID')]\n",
      "[('property', 'http://www.wikidata.org/prop/direct/P8519'), ('label', 'RKD thesaurus ID')]\n",
      "[('property', 'http://www.wikidata.org/prop/direct/P8714'), ('label', 'GADM ID')]\n",
      "[('property', 'http://www.wikidata.org/prop/direct/P8814'), ('label', 'WordNet 3.1 Synset ID')]\n",
      "[('property', 'http://www.wikidata.org/prop/direct/P8826'), ('label', 'edition humboldt digital ID')]\n",
      "[('property', 'http://www.wikidata.org/prop/direct/P8885'), ('label', 'Namuwiki ID')]\n",
      "[('property', 'http://www.wikidata.org/prop/direct/P8899'), ('label', 'Swedish National Library Arken ID')]\n",
      "[('property', 'http://www.wikidata.org/prop/direct/P8935'), ('label', 'Encyclopedia of the History of Ukraine ID')]\n",
      "[('property', 'http://www.wikidata.org/prop/direct/P8974'), ('label', 'SAPA ID')]\n",
      "[('property', 'http://www.wikidata.org/prop/direct/P898'), ('label', 'IPA transcription')]\n",
      "[('property', 'http://www.wikidata.org/prop/direct/P901'), ('label', 'FIPS 10-4 (countries and regions)')]\n",
      "[('property', 'http://www.wikidata.org/prop/direct/P902'), ('label', 'HDS ID')]\n",
      "[('property', 'http://www.wikidata.org/prop/direct/P9037'), ('label', 'BHCL UUID')]\n",
      "[('property', 'http://www.wikidata.org/prop/direct/P9100'), ('label', 'GitHub topic')]\n",
      "[('property', 'http://www.wikidata.org/prop/direct/P9123'), ('label', 'Catalan Vikidia ID')]\n",
      "[('property', 'http://www.wikidata.org/prop/direct/P9223'), ('label', 'Provenio UUID')]\n",
      "[('property', 'http://www.wikidata.org/prop/direct/P9272'), ('label', 'DeCS ID')]\n",
      "[('property', 'http://www.wikidata.org/prop/direct/P9293'), ('label', 'AIATSIS Place Thesaurus ID')]\n",
      "[('property', 'http://www.wikidata.org/prop/direct/P9318'), ('label', 'Ávvir topic ID')]\n",
      "[('property', 'http://www.wikidata.org/prop/direct/P9346'), ('label', 'France24 topic ID (French)')]\n",
      "[('property', 'http://www.wikidata.org/prop/direct/P9349'), ('label', 'France24 topic ID (Arabic)')]\n",
      "[('property', 'http://www.wikidata.org/prop/direct/P935'), ('label', 'Commons gallery')]\n",
      "[('property', 'http://www.wikidata.org/prop/direct/P9368'), ('label', 'CNA topic ID')]\n",
      "[('property', 'http://www.wikidata.org/prop/direct/P949'), ('label', 'National Library of Israel ID')]\n",
      "[('property', 'http://www.wikidata.org/prop/direct/P9629'), ('label', 'Armeniapedia ID')]\n",
      "[('property', 'http://www.wikidata.org/prop/direct/P9757'), ('label', 'Schoenberg Database of Manuscripts place ID')]\n",
      "[('property', 'http://www.wikidata.org/prop/direct/P982'), ('label', 'MusicBrainz area ID')]\n",
      "[('property', 'http://www.wikidata.org/prop/direct/P984'), ('label', 'IOC country code')]\n",
      "[('property', 'http://www.wikidata.org/prop/direct/P9886'), ('label', 'TermCymru ID')]\n",
      "[('property', 'http://www.wikidata.org/prop/direct/P998'), ('label', 'Curlie ID')]\n",
      "189\n"
     ]
    }
   ],
   "source": [
    "queryString = \"\"\"\n",
    "SELECT DISTINCT ?property ?label\n",
    "WHERE {   \n",
    "   wd:Q142 ?property ?object .\n",
    "   ?property sc:name ?label .\n",
    "   FILTER(isLiteral(?object)) .   \n",
    "}\n",
    "\"\"\"\n",
    "print(\"Results\")\n",
    "x=run_query(queryString)"
   ]
  },
  {
   "cell_type": "markdown",
   "id": "d65a836f-3812-45b9-9021-c84d93367908",
   "metadata": {
    "tags": []
   },
   "source": [
    "### Get all data property of \"France\"  (wd:Q142) that do not contain ID"
   ]
  },
  {
   "cell_type": "code",
   "execution_count": 284,
   "id": "ead2cda3-5952-4634-bdba-e4c80683c75a",
   "metadata": {},
   "outputs": [
    {
     "name": "stdout",
     "output_type": "stream",
     "text": [
      "Results\n",
      "[('property', 'http://www.wikidata.org/prop/direct/P1036'), ('label', 'Dewey Decimal Classification')]\n",
      "[('property', 'http://www.wikidata.org/prop/direct/P1081'), ('label', 'Human Development Index')]\n",
      "[('property', 'http://www.wikidata.org/prop/direct/P1082'), ('label', 'population')]\n",
      "[('property', 'http://www.wikidata.org/prop/direct/P1120'), ('label', 'number of deaths')]\n",
      "[('property', 'http://www.wikidata.org/prop/direct/P1125'), ('label', 'Gini coefficient')]\n",
      "[('property', 'http://www.wikidata.org/prop/direct/P1198'), ('label', 'unemployment rate')]\n",
      "[('property', 'http://www.wikidata.org/prop/direct/P1225'), ('label', 'U.S. National Archives Identifier')]\n",
      "[('property', 'http://www.wikidata.org/prop/direct/P1245'), ('label', 'OmegaWiki Defined Meaning')]\n",
      "[('property', 'http://www.wikidata.org/prop/direct/P1549'), ('label', 'demonym')]\n",
      "[('property', 'http://www.wikidata.org/prop/direct/P2046'), ('label', 'area')]\n",
      "[('property', 'http://www.wikidata.org/prop/direct/P2250'), ('label', 'life expectancy')]\n",
      "[('property', 'http://www.wikidata.org/prop/direct/P2258'), ('label', 'mobile country code')]\n",
      "[('property', 'http://www.wikidata.org/prop/direct/P2573'), ('label', 'number of out-of-school children')]\n",
      "[('property', 'http://www.wikidata.org/prop/direct/P2855'), ('label', 'VAT-rate')]\n",
      "[('property', 'http://www.wikidata.org/prop/direct/P2884'), ('label', 'mains voltage')]\n",
      "[('property', 'http://www.wikidata.org/prop/direct/P2927'), ('label', 'water as percent of area')]\n",
      "[('property', 'http://www.wikidata.org/prop/direct/P297'), ('label', 'ISO 3166-1 alpha-2 code')]\n",
      "[('property', 'http://www.wikidata.org/prop/direct/P2979'), ('label', 'maritime identification digits')]\n",
      "[('property', 'http://www.wikidata.org/prop/direct/P298'), ('label', 'ISO 3166-1 alpha-3 code')]\n",
      "[('property', 'http://www.wikidata.org/prop/direct/P2981'), ('label', 'UIC alphabetical country code')]\n",
      "[('property', 'http://www.wikidata.org/prop/direct/P2982'), ('label', 'UIC numerical country code')]\n",
      "[('property', 'http://www.wikidata.org/prop/direct/P299'), ('label', 'ISO 3166-1 numeric code')]\n",
      "[('property', 'http://www.wikidata.org/prop/direct/P2997'), ('label', 'age of majority')]\n",
      "[('property', 'http://www.wikidata.org/prop/direct/P3000'), ('label', 'marriageable age')]\n",
      "[('property', 'http://www.wikidata.org/prop/direct/P3001'), ('label', 'retirement age')]\n",
      "[('property', 'http://www.wikidata.org/prop/direct/P3024'), ('label', 'ITU letter code')]\n",
      "[('property', 'http://www.wikidata.org/prop/direct/P3067'), ('label', 'GS1 country code')]\n",
      "[('property', 'http://www.wikidata.org/prop/direct/P3068'), ('label', 'WIPO ST.3')]\n",
      "[('property', 'http://www.wikidata.org/prop/direct/P3086'), ('label', 'speed limit')]\n",
      "[('property', 'http://www.wikidata.org/prop/direct/P3097'), ('label', 'ISBN identifier group')]\n",
      "[('property', 'http://www.wikidata.org/prop/direct/P3238'), ('label', 'trunk prefix')]\n",
      "[('property', 'http://www.wikidata.org/prop/direct/P3270'), ('label', 'compulsory education (minimum age)')]\n",
      "[('property', 'http://www.wikidata.org/prop/direct/P3271'), ('label', 'compulsory education (maximum age)')]\n",
      "[('property', 'http://www.wikidata.org/prop/direct/P3529'), ('label', 'median income')]\n",
      "[('property', 'http://www.wikidata.org/prop/direct/P373'), ('label', 'Commons category')]\n",
      "[('property', 'http://www.wikidata.org/prop/direct/P3743'), ('label', 'ITU/ISO/IEC object identifier')]\n",
      "[('property', 'http://www.wikidata.org/prop/direct/P395'), ('label', 'licence plate code')]\n",
      "[('property', 'http://www.wikidata.org/prop/direct/P3984'), ('label', 'subreddit')]\n",
      "[('property', 'http://www.wikidata.org/prop/direct/P474'), ('label', 'country calling code')]\n",
      "[('property', 'http://www.wikidata.org/prop/direct/P4841'), ('label', 'total fertility rate')]\n",
      "[('property', 'http://www.wikidata.org/prop/direct/P487'), ('label', 'Unicode character')]\n",
      "[('property', 'http://www.wikidata.org/prop/direct/P5180'), ('label', 'CIVICUS Monitor country entry')]\n",
      "[('property', 'http://www.wikidata.org/prop/direct/P5250'), ('label', 'IAB code')]\n",
      "[('property', 'http://www.wikidata.org/prop/direct/P571'), ('label', 'inception')]\n",
      "[('property', 'http://www.wikidata.org/prop/direct/P5982'), ('label', 'annual number of weddings')]\n",
      "[('property', 'http://www.wikidata.org/prop/direct/P605'), ('label', 'NUTS code')]\n",
      "[('property', 'http://www.wikidata.org/prop/direct/P6385'), ('label', 'Krugosvet article')]\n",
      "[('property', 'http://www.wikidata.org/prop/direct/P7295'), ('label', 'Gregorian calendar start date')]\n",
      "[('property', 'http://www.wikidata.org/prop/direct/P898'), ('label', 'IPA transcription')]\n",
      "[('property', 'http://www.wikidata.org/prop/direct/P901'), ('label', 'FIPS 10-4 (countries and regions)')]\n",
      "[('property', 'http://www.wikidata.org/prop/direct/P9100'), ('label', 'GitHub topic')]\n",
      "[('property', 'http://www.wikidata.org/prop/direct/P935'), ('label', 'Commons gallery')]\n",
      "[('property', 'http://www.wikidata.org/prop/direct/P984'), ('label', 'IOC country code')]\n",
      "53\n"
     ]
    }
   ],
   "source": [
    "queryString = \"\"\"\n",
    "SELECT DISTINCT ?property ?label\n",
    "WHERE {   \n",
    "   wd:Q142 ?property ?object .\n",
    "   ?property sc:name ?label .\n",
    "   FILTER(isLiteral(?object)) .\n",
    "   FILTER REGEX(?label, \"^((?!ID).)*$\") . \n",
    "}\n",
    "\"\"\"\n",
    "print(\"Results\")\n",
    "x=run_query(queryString)"
   ]
  },
  {
   "cell_type": "markdown",
   "id": "710e47be-3d0d-4d12-a521-f92582ffb71e",
   "metadata": {
    "tags": []
   },
   "source": [
    "### Get the class of \"France\" (wd:Q142)"
   ]
  },
  {
   "cell_type": "code",
   "execution_count": 285,
   "id": "43d882b8-52e2-4b98-9054-7bf298682a3a",
   "metadata": {},
   "outputs": [
    {
     "name": "stdout",
     "output_type": "stream",
     "text": [
      "Results\n",
      "[('class', 'http://www.wikidata.org/entity/Q3624078'), ('label', 'sovereign state')]\n",
      "[('class', 'http://www.wikidata.org/entity/Q51576574'), ('label', 'Mediterranean country')]\n",
      "[('class', 'http://www.wikidata.org/entity/Q6256'), ('label', 'country')]\n",
      "[('class', 'http://www.wikidata.org/entity/Q7270'), ('label', 'republic')]\n",
      "4\n"
     ]
    }
   ],
   "source": [
    "queryString = \"\"\"\n",
    "SELECT DISTINCT ?class ?label\n",
    "WHERE {   \n",
    "   wd:Q142 wdt:P31 ?class .\n",
    "   ?class sc:name ?label .     \n",
    "}\n",
    "\"\"\"\n",
    "print(\"Results\")\n",
    "x=run_query(queryString)"
   ]
  },
  {
   "cell_type": "markdown",
   "id": "5d2a8033-5020-42f9-a957-03cb41ed3e57",
   "metadata": {
    "tags": []
   },
   "source": [
    "### Get all object properties of \"France\"  (wd:Q142)"
   ]
  },
  {
   "cell_type": "code",
   "execution_count": 286,
   "id": "df3350b0-8564-421b-9259-71652f98bce5",
   "metadata": {},
   "outputs": [
    {
     "name": "stdout",
     "output_type": "stream",
     "text": [
      "Results\n",
      "[('property', 'http://www.wikidata.org/prop/direct/P1151'), ('label', \"topic's main Wikimedia portal\")]\n",
      "[('property', 'http://www.wikidata.org/prop/direct/P122'), ('label', 'basic form of government')]\n",
      "[('property', 'http://www.wikidata.org/prop/direct/P1313'), ('label', 'office held by head of government')]\n",
      "[('property', 'http://www.wikidata.org/prop/direct/P1325'), ('label', 'external data available at')]\n",
      "[('property', 'http://www.wikidata.org/prop/direct/P1343'), ('label', 'described by source')]\n",
      "[('property', 'http://www.wikidata.org/prop/direct/P1344'), ('label', 'participant in')]\n",
      "[('property', 'http://www.wikidata.org/prop/direct/P1365'), ('label', 'replaces')]\n",
      "[('property', 'http://www.wikidata.org/prop/direct/P138'), ('label', 'named after')]\n",
      "[('property', 'http://www.wikidata.org/prop/direct/P1464'), ('label', 'category for people born here')]\n",
      "[('property', 'http://www.wikidata.org/prop/direct/P1465'), ('label', 'category for people who died here')]\n",
      "[('property', 'http://www.wikidata.org/prop/direct/P1482'), ('label', 'Stack Exchange tag')]\n",
      "[('property', 'http://www.wikidata.org/prop/direct/P150'), ('label', 'contains administrative territorial entity')]\n",
      "[('property', 'http://www.wikidata.org/prop/direct/P1546'), ('label', 'motto')]\n",
      "[('property', 'http://www.wikidata.org/prop/direct/P1552'), ('label', 'has quality')]\n",
      "[('property', 'http://www.wikidata.org/prop/direct/P158'), ('label', 'seal image')]\n",
      "[('property', 'http://www.wikidata.org/prop/direct/P1589'), ('label', 'lowest point')]\n",
      "[('property', 'http://www.wikidata.org/prop/direct/P1622'), ('label', 'driving side')]\n",
      "[('property', 'http://www.wikidata.org/prop/direct/P163'), ('label', 'flag')]\n",
      "[('property', 'http://www.wikidata.org/prop/direct/P166'), ('label', 'award received')]\n",
      "[('property', 'http://www.wikidata.org/prop/direct/P17'), ('label', 'country')]\n",
      "[('property', 'http://www.wikidata.org/prop/direct/P1740'), ('label', 'category for films shot at this location')]\n",
      "[('property', 'http://www.wikidata.org/prop/direct/P1791'), ('label', 'category of people buried here')]\n",
      "[('property', 'http://www.wikidata.org/prop/direct/P1792'), ('label', 'category of associated people')]\n",
      "[('property', 'http://www.wikidata.org/prop/direct/P1906'), ('label', 'office held by head of state')]\n",
      "[('property', 'http://www.wikidata.org/prop/direct/P194'), ('label', 'legislative body')]\n",
      "[('property', 'http://www.wikidata.org/prop/direct/P1943'), ('label', 'location map')]\n",
      "[('property', 'http://www.wikidata.org/prop/direct/P1944'), ('label', 'relief location map')]\n",
      "[('property', 'http://www.wikidata.org/prop/direct/P206'), ('label', 'located in or next to body of water')]\n",
      "[('property', 'http://www.wikidata.org/prop/direct/P208'), ('label', 'executive body')]\n",
      "[('property', 'http://www.wikidata.org/prop/direct/P209'), ('label', 'highest judicial authority')]\n",
      "[('property', 'http://www.wikidata.org/prop/direct/P2184'), ('label', 'history of topic')]\n",
      "[('property', 'http://www.wikidata.org/prop/direct/P237'), ('label', 'coat of arms')]\n",
      "[('property', 'http://www.wikidata.org/prop/direct/P242'), ('label', 'locator map image')]\n",
      "[('property', 'http://www.wikidata.org/prop/direct/P2579'), ('label', 'studied by')]\n",
      "[('property', 'http://www.wikidata.org/prop/direct/P2596'), ('label', 'culture')]\n",
      "[('property', 'http://www.wikidata.org/prop/direct/P2633'), ('label', 'geography of topic')]\n",
      "[('property', 'http://www.wikidata.org/prop/direct/P2746'), ('label', 'production statistics')]\n",
      "[('property', 'http://www.wikidata.org/prop/direct/P2852'), ('label', 'emergency telephone number')]\n",
      "[('property', 'http://www.wikidata.org/prop/direct/P2853'), ('label', 'electrical plug type')]\n",
      "[('property', 'http://www.wikidata.org/prop/direct/P2936'), ('label', 'language used')]\n",
      "[('property', 'http://www.wikidata.org/prop/direct/P2959'), ('label', 'permanent duplicated item')]\n",
      "[('property', 'http://www.wikidata.org/prop/direct/P30'), ('label', 'continent')]\n",
      "[('property', 'http://www.wikidata.org/prop/direct/P31'), ('label', 'instance of')]\n",
      "[('property', 'http://www.wikidata.org/prop/direct/P3403'), ('label', 'coextensive with')]\n",
      "[('property', 'http://www.wikidata.org/prop/direct/P35'), ('label', 'head of state')]\n",
      "[('property', 'http://www.wikidata.org/prop/direct/P36'), ('label', 'capital')]\n",
      "[('property', 'http://www.wikidata.org/prop/direct/P361'), ('label', 'part of')]\n",
      "[('property', 'http://www.wikidata.org/prop/direct/P37'), ('label', 'official language')]\n",
      "[('property', 'http://www.wikidata.org/prop/direct/P38'), ('label', 'currency')]\n",
      "[('property', 'http://www.wikidata.org/prop/direct/P3896'), ('label', 'geoshape')]\n",
      "[('property', 'http://www.wikidata.org/prop/direct/P41'), ('label', 'flag image')]\n",
      "[('property', 'http://www.wikidata.org/prop/direct/P418'), ('label', 'seal description')]\n",
      "[('property', 'http://www.wikidata.org/prop/direct/P421'), ('label', 'located in time zone')]\n",
      "[('property', 'http://www.wikidata.org/prop/direct/P443'), ('label', 'pronunciation audio')]\n",
      "[('property', 'http://www.wikidata.org/prop/direct/P457'), ('label', 'foundational text')]\n",
      "[('property', 'http://www.wikidata.org/prop/direct/P463'), ('label', 'member of')]\n",
      "[('property', 'http://www.wikidata.org/prop/direct/P47'), ('label', 'shares border with')]\n",
      "[('property', 'http://www.wikidata.org/prop/direct/P5008'), ('label', 'on focus list of Wikimedia project')]\n",
      "[('property', 'http://www.wikidata.org/prop/direct/P5125'), ('label', 'Wikimedia outline')]\n",
      "[('property', 'http://www.wikidata.org/prop/direct/P527'), ('label', 'has part')]\n",
      "[('property', 'http://www.wikidata.org/prop/direct/P530'), ('label', 'diplomatic relation')]\n",
      "[('property', 'http://www.wikidata.org/prop/direct/P5658'), ('label', 'railway traffic side')]\n",
      "[('property', 'http://www.wikidata.org/prop/direct/P6'), ('label', 'head of government')]\n",
      "[('property', 'http://www.wikidata.org/prop/direct/P610'), ('label', 'highest point')]\n",
      "[('property', 'http://www.wikidata.org/prop/direct/P6104'), ('label', 'maintained by WikiProject')]\n",
      "[('property', 'http://www.wikidata.org/prop/direct/P6379'), ('label', 'has works in the collection')]\n",
      "[('property', 'http://www.wikidata.org/prop/direct/P78'), ('label', 'top-level Internet domain')]\n",
      "[('property', 'http://www.wikidata.org/prop/direct/P7867'), ('label', 'category for maps')]\n",
      "[('property', 'http://www.wikidata.org/prop/direct/P832'), ('label', 'public holiday')]\n",
      "[('property', 'http://www.wikidata.org/prop/direct/P8402'), ('label', 'open data portal')]\n",
      "[('property', 'http://www.wikidata.org/prop/direct/P85'), ('label', 'anthem')]\n",
      "[('property', 'http://www.wikidata.org/prop/direct/P856'), ('label', 'official website')]\n",
      "[('property', 'http://www.wikidata.org/prop/direct/P8744'), ('label', 'economy of topic')]\n",
      "[('property', 'http://www.wikidata.org/prop/direct/P910'), ('label', \"topic's main category\")]\n",
      "[('property', 'http://www.wikidata.org/prop/direct/P912'), ('label', 'has facility')]\n",
      "[('property', 'http://www.wikidata.org/prop/direct/P9241'), ('label', 'demographics of topic')]\n",
      "[('property', 'http://www.wikidata.org/prop/direct/P94'), ('label', 'coat of arms image')]\n",
      "[('property', 'http://www.wikidata.org/prop/direct/P948'), ('label', 'page banner')]\n",
      "[('property', 'http://www.wikidata.org/prop/direct/P989'), ('label', 'spoken text audio')]\n",
      "79\n"
     ]
    }
   ],
   "source": [
    "queryString = \"\"\"\n",
    "SELECT DISTINCT ?property ?label\n",
    "WHERE {   \n",
    "   wd:Q142 ?property ?object .\n",
    "   ?property sc:name ?label .\n",
    "   FILTER(!isLiteral(?object)) .   \n",
    "}\n",
    "\"\"\"\n",
    "\n",
    "print(\"Results\")\n",
    "x=run_query(queryString)"
   ]
  },
  {
   "cell_type": "markdown",
   "id": "a7d94060-699f-495f-b367-9dcb7880f460",
   "metadata": {
    "tags": []
   },
   "source": [
    "### Get all the classes connected to \"France\"  (wd:Q142)"
   ]
  },
  {
   "cell_type": "code",
   "execution_count": 287,
   "id": "52bc8d61-360c-4995-940d-9bde49a999e2",
   "metadata": {},
   "outputs": [
    {
     "name": "stdout",
     "output_type": "stream",
     "text": [
      "Results\n",
      "[('objectClass', 'http://www.wikidata.org/entity/Q1489259'), ('label', 'superpower')]\n",
      "[('objectClass', 'http://www.wikidata.org/entity/Q12056846'), ('label', 'national seal')]\n",
      "[('objectClass', 'http://www.wikidata.org/entity/Q1345691'), ('label', 'international financial institution')]\n",
      "[('objectClass', 'http://www.wikidata.org/entity/Q32766'), ('label', 'constitutional court')]\n",
      "[('objectClass', 'http://www.wikidata.org/entity/Q10210'), ('label', 'white wine')]\n",
      "[('objectClass', 'http://www.wikidata.org/entity/Q16695773'), ('label', 'WikiProject')]\n",
      "[('objectClass', 'http://www.wikidata.org/entity/Q1328899'), ('label', 'standards organization')]\n",
      "[('objectClass', 'http://www.wikidata.org/entity/Q15925165'), ('label', 'specialized agency of the United Nations')]\n",
      "[('objectClass', 'http://www.wikidata.org/entity/Q35798'), ('label', 'executive branch')]\n",
      "[('objectClass', 'http://www.wikidata.org/entity/Q7755'), ('label', 'constitution')]\n",
      "[('objectClass', 'http://www.wikidata.org/entity/Q1250464'), ('label', 'realm')]\n",
      "[('objectClass', 'http://www.wikidata.org/entity/Q131569'), ('label', 'treaty')]\n",
      "[('objectClass', 'http://www.wikidata.org/entity/Q16725895'), ('label', 'visa policy')]\n",
      "[('objectClass', 'http://www.wikidata.org/entity/Q2085381'), ('label', 'publisher')]\n",
      "[('objectClass', 'http://www.wikidata.org/entity/Q4358176'), ('label', 'council')]\n",
      "[('objectClass', 'http://www.wikidata.org/entity/Q1323642'), ('label', 'transcontinental country')]\n",
      "[('objectClass', 'http://www.wikidata.org/entity/Q15285626'), ('label', 'organization established by the United Nations')]\n",
      "[('objectClass', 'http://www.wikidata.org/entity/Q190752'), ('label', 'supreme court')]\n",
      "[('objectClass', 'http://www.wikidata.org/entity/Q618779'), ('label', 'award')]\n",
      "[('objectClass', 'http://www.wikidata.org/entity/Q99541706'), ('label', 'historical unrecognized state')]\n",
      "[('objectClass', 'http://www.wikidata.org/entity/Q21286738'), ('label', 'Wikimedia permanent duplicate item')]\n",
      "[('objectClass', 'http://www.wikidata.org/entity/Q28795800'), ('label', 'decimal currency')]\n",
      "[('objectClass', 'http://www.wikidata.org/entity/Q3257782'), ('label', 'locution')]\n",
      "[('objectClass', 'http://www.wikidata.org/entity/Q23983664'), ('label', 'demographics of country or region')]\n",
      "[('objectClass', 'http://www.wikidata.org/entity/Q2631496'), ('label', 'constituency of the European Parliament')]\n",
      "[('objectClass', 'http://www.wikidata.org/entity/Q189445'), ('label', 'bicameral legislature')]\n",
      "[('objectClass', 'http://www.wikidata.org/entity/Q62832'), ('label', 'observatory')]\n",
      "[('objectClass', 'http://www.wikidata.org/entity/Q694554'), ('label', 'emergency telephone number')]\n",
      "[('objectClass', 'http://www.wikidata.org/entity/Q51879475'), ('label', 'expedited border crossing scheme')]\n",
      "[('objectClass', 'http://www.wikidata.org/entity/Q29654714'), ('label', 'national motto')]\n",
      "[('objectClass', 'http://www.wikidata.org/entity/Q56165908'), ('label', 'Jewish encyclopedia')]\n",
      "[('objectClass', 'http://www.wikidata.org/entity/Q1048835'), ('label', 'political territorial entity')]\n",
      "[('objectClass', 'http://www.wikidata.org/entity/Q1088391'), ('label', 'rump state')]\n",
      "[('objectClass', 'http://www.wikidata.org/entity/Q112099'), ('label', 'island nation')]\n",
      "[('objectClass', 'http://www.wikidata.org/entity/Q118365'), ('label', 'dictatorship of the proletariat')]\n",
      "[('objectClass', 'http://www.wikidata.org/entity/Q11862829'), ('label', 'academic discipline')]\n",
      "[('objectClass', 'http://www.wikidata.org/entity/Q123480'), ('label', 'landlocked country')]\n",
      "[('objectClass', 'http://www.wikidata.org/entity/Q1288568'), ('label', 'modern language')]\n",
      "[('objectClass', 'http://www.wikidata.org/entity/Q1307214'), ('label', 'form of government')]\n",
      "[('objectClass', 'http://www.wikidata.org/entity/Q1335818'), ('label', 'supranational union')]\n",
      "[('objectClass', 'http://www.wikidata.org/entity/Q13406463'), ('label', 'Wikimedia list article')]\n",
      "[('objectClass', 'http://www.wikidata.org/entity/Q1520223'), ('label', 'constitutional republic')]\n",
      "[('objectClass', 'http://www.wikidata.org/entity/Q1549591'), ('label', 'big city')]\n",
      "[('objectClass', 'http://www.wikidata.org/entity/Q15899789'), ('label', 'principal organ of the United Nations')]\n",
      "[('objectClass', 'http://www.wikidata.org/entity/Q1637706'), ('label', 'million city')]\n",
      "[('objectClass', 'http://www.wikidata.org/entity/Q165'), ('label', 'sea')]\n",
      "[('objectClass', 'http://www.wikidata.org/entity/Q17272482'), ('label', 'time zone named for a UTC offset')]\n",
      "[('objectClass', 'http://www.wikidata.org/entity/Q179164'), ('label', 'unitary state')]\n",
      "[('objectClass', 'http://www.wikidata.org/entity/Q183039'), ('label', 'form of state')]\n",
      "[('objectClass', 'http://www.wikidata.org/entity/Q186516'), ('label', 'national flag')]\n",
      "[('objectClass', 'http://www.wikidata.org/entity/Q198'), ('label', 'war')]\n",
      "[('objectClass', 'http://www.wikidata.org/entity/Q20181813'), ('label', 'colonial power')]\n",
      "[('objectClass', 'http://www.wikidata.org/entity/Q202216'), ('label', 'overseas department and region of France')]\n",
      "[('objectClass', 'http://www.wikidata.org/entity/Q207326'), ('label', 'summit')]\n",
      "[('objectClass', 'http://www.wikidata.org/entity/Q207694'), ('label', 'art museum')]\n",
      "[('objectClass', 'http://www.wikidata.org/entity/Q2221906'), ('label', 'geographic location')]\n",
      "[('objectClass', 'http://www.wikidata.org/entity/Q2264924'), ('label', 'port settlement')]\n",
      "[('objectClass', 'http://www.wikidata.org/entity/Q2301091'), ('label', 'socialism with Chinese characteristics')]\n",
      "[('objectClass', 'http://www.wikidata.org/entity/Q23442'), ('label', 'island')]\n",
      "[('objectClass', 'http://www.wikidata.org/entity/Q245065'), ('label', 'intergovernmental organization')]\n",
      "[('objectClass', 'http://www.wikidata.org/entity/Q3024240'), ('label', 'historical country')]\n",
      "[('objectClass', 'http://www.wikidata.org/entity/Q33384'), ('label', 'dialect')]\n",
      "[('objectClass', 'http://www.wikidata.org/entity/Q33742'), ('label', 'natural language')]\n",
      "[('objectClass', 'http://www.wikidata.org/entity/Q34770'), ('label', 'language')]\n",
      "[('objectClass', 'http://www.wikidata.org/entity/Q3502482'), ('label', 'cultural region')]\n",
      "[('objectClass', 'http://www.wikidata.org/entity/Q35127'), ('label', 'website')]\n",
      "[('objectClass', 'http://www.wikidata.org/entity/Q3623811'), ('label', 'economic union')]\n",
      "[('objectClass', 'http://www.wikidata.org/entity/Q3624078'), ('label', 'sovereign state')]\n",
      "[('objectClass', 'http://www.wikidata.org/entity/Q36784'), ('label', 'region of France')]\n",
      "[('objectClass', 'http://www.wikidata.org/entity/Q4120211'), ('label', 'regional organization')]\n",
      "[('objectClass', 'http://www.wikidata.org/entity/Q41614'), ('label', 'constitutional monarchy')]\n",
      "[('objectClass', 'http://www.wikidata.org/entity/Q4164871'), ('label', 'position')]\n",
      "[('objectClass', 'http://www.wikidata.org/entity/Q4167836'), ('label', 'Wikimedia category')]\n",
      "[('objectClass', 'http://www.wikidata.org/entity/Q41710'), ('label', 'ethnic group')]\n",
      "[('objectClass', 'http://www.wikidata.org/entity/Q4198907'), ('label', 'parliamentary republic')]\n",
      "[('objectClass', 'http://www.wikidata.org/entity/Q4209223'), ('label', 'Rechtsstaat')]\n",
      "[('objectClass', 'http://www.wikidata.org/entity/Q43229'), ('label', 'organization')]\n",
      "[('objectClass', 'http://www.wikidata.org/entity/Q43702'), ('label', 'federation')]\n",
      "[('objectClass', 'http://www.wikidata.org/entity/Q45400320'), ('label', 'open-access publisher')]\n",
      "[('objectClass', 'http://www.wikidata.org/entity/Q465613'), ('label', \"people's republic\")]\n",
      "[('objectClass', 'http://www.wikidata.org/entity/Q4671286'), ('label', 'academic major')]\n",
      "[('objectClass', 'http://www.wikidata.org/entity/Q47461344'), ('label', 'written work')]\n",
      "[('objectClass', 'http://www.wikidata.org/entity/Q4830453'), ('label', 'business')]\n",
      "[('objectClass', 'http://www.wikidata.org/entity/Q484652'), ('label', 'international organization')]\n",
      "[('objectClass', 'http://www.wikidata.org/entity/Q49892'), ('label', 'presidential régime')]\n",
      "[('objectClass', 'http://www.wikidata.org/entity/Q5'), ('label', 'human')]\n",
      "[('objectClass', 'http://www.wikidata.org/entity/Q5107'), ('label', 'continent')]\n",
      "[('objectClass', 'http://www.wikidata.org/entity/Q5119'), ('label', 'capital')]\n",
      "[('objectClass', 'http://www.wikidata.org/entity/Q512187'), ('label', 'federal republic')]\n",
      "[('objectClass', 'http://www.wikidata.org/entity/Q515'), ('label', 'city')]\n",
      "[('objectClass', 'http://www.wikidata.org/entity/Q51576574'), ('label', 'Mediterranean country')]\n",
      "[('objectClass', 'http://www.wikidata.org/entity/Q5255892'), ('label', 'democratic republic')]\n",
      "[('objectClass', 'http://www.wikidata.org/entity/Q5292'), ('label', 'encyclopedia')]\n",
      "[('objectClass', 'http://www.wikidata.org/entity/Q56061'), ('label', 'administrative territorial entity')]\n",
      "[('objectClass', 'http://www.wikidata.org/entity/Q619610'), ('label', 'social state')]\n",
      "[('objectClass', 'http://www.wikidata.org/entity/Q6256'), ('label', 'country')]\n",
      "[('objectClass', 'http://www.wikidata.org/entity/Q6266'), ('label', 'nation')]\n",
      "[('objectClass', 'http://www.wikidata.org/entity/Q63791824'), ('label', 'country bordering the Baltic Sea')]\n",
      "[('objectClass', 'http://www.wikidata.org/entity/Q6456916'), ('label', 'national economy')]\n",
      "[('objectClass', 'http://www.wikidata.org/entity/Q7270'), ('label', 'republic')]\n",
      "[('objectClass', 'http://www.wikidata.org/entity/Q7725634'), ('label', 'literary work')]\n",
      "[('objectClass', 'http://www.wikidata.org/entity/Q8142'), ('label', 'currency')]\n",
      "[('objectClass', 'http://www.wikidata.org/entity/Q82794'), ('label', 'geographic region')]\n",
      "[('objectClass', 'http://www.wikidata.org/entity/Q83365345'), ('label', 'vulnerable language')]\n",
      "[('objectClass', 'http://www.wikidata.org/entity/Q842112'), ('label', 'socialist state')]\n",
      "[('objectClass', 'http://www.wikidata.org/entity/Q849866'), ('label', 'communist state')]\n",
      "[('objectClass', 'http://www.wikidata.org/entity/Q8502'), ('label', 'mountain')]\n",
      "[('objectClass', 'http://www.wikidata.org/entity/Q859563'), ('label', 'secular state')]\n",
      "[('objectClass', 'http://www.wikidata.org/entity/Q891723'), ('label', 'public company')]\n",
      "[('objectClass', 'http://www.wikidata.org/entity/Q902814'), ('label', 'border town')]\n",
      "[('objectClass', 'http://www.wikidata.org/entity/Q131647'), ('label', 'medal')]\n",
      "[('objectClass', 'http://www.wikidata.org/entity/Q133156'), ('label', 'colony')]\n",
      "[('objectClass', 'http://www.wikidata.org/entity/Q14204246'), ('label', 'Wikimedia project page')]\n",
      "[('objectClass', 'http://www.wikidata.org/entity/Q22687'), ('label', 'bank')]\n",
      "[('objectClass', 'http://www.wikidata.org/entity/Q23691'), ('label', 'national anthem')]\n",
      "[('objectClass', 'http://www.wikidata.org/entity/Q2472587'), ('label', 'people')]\n",
      "[('objectClass', 'http://www.wikidata.org/entity/Q31855'), ('label', 'research institute')]\n",
      "[('objectClass', 'http://www.wikidata.org/entity/Q3331189'), ('label', 'version, edition, or translation')]\n",
      "[('objectClass', 'http://www.wikidata.org/entity/Q33648'), ('label', 'language isolate')]\n",
      "[('objectClass', 'http://www.wikidata.org/entity/Q417175'), ('label', 'kingdom')]\n",
      "[('objectClass', 'http://www.wikidata.org/entity/Q7210356'), ('label', 'political organization')]\n",
      "[('objectClass', 'http://www.wikidata.org/entity/Q83365366'), ('label', 'severely endangered language')]\n",
      "[('objectClass', 'http://www.wikidata.org/entity/Q719487'), ('label', 'French overseas collectivity')]\n",
      "[('objectClass', 'http://www.wikidata.org/entity/Q22222786'), ('label', 'government program')]\n",
      "[('objectClass', 'http://www.wikidata.org/entity/Q15851373'), ('label', 'crosslink page')]\n",
      "[('objectClass', 'http://www.wikidata.org/entity/Q2578218'), ('label', 'inland sea')]\n",
      "[('objectClass', 'http://www.wikidata.org/entity/Q100906234'), ('label', 'multinational military coalition')]\n",
      "[('objectClass', 'http://www.wikidata.org/entity/Q1127126'), ('label', 'military alliance')]\n",
      "[('objectClass', 'http://www.wikidata.org/entity/Q16887380'), ('label', 'group')]\n",
      "[('objectClass', 'http://www.wikidata.org/entity/Q223832'), ('label', 'dominion of the British Empire')]\n",
      "[('objectClass', 'http://www.wikidata.org/entity/Q28872924'), ('label', 'designation for an administrative territorial entity of a single country')]\n",
      "[('objectClass', 'http://www.wikidata.org/entity/Q294414'), ('label', 'public office')]\n",
      "[('objectClass', 'http://www.wikidata.org/entity/Q3253281'), ('label', 'pond')]\n",
      "[('objectClass', 'http://www.wikidata.org/entity/Q37901'), ('label', 'strait')]\n",
      "[('objectClass', 'http://www.wikidata.org/entity/Q42032'), ('label', 'country code top-level domain')]\n",
      "[('objectClass', 'http://www.wikidata.org/entity/Q465299'), ('label', 'archaeological culture')]\n",
      "[('objectClass', 'http://www.wikidata.org/entity/Q46865913'), ('label', 'geography of geographic location')]\n",
      "[('objectClass', 'http://www.wikidata.org/entity/Q6617741'), ('label', 'WWF ecoregion')]\n",
      "[('objectClass', 'http://www.wikidata.org/entity/Q782614'), ('label', 'autonomous region')]\n",
      "[('objectClass', 'http://www.wikidata.org/entity/Q986177'), ('label', 'mediterranean sea')]\n",
      "[('objectClass', 'http://www.wikidata.org/entity/Q57598'), ('label', 'national day')]\n",
      "[('objectClass', 'http://www.wikidata.org/entity/Q7275'), ('label', 'state')]\n",
      "[('objectClass', 'http://www.wikidata.org/entity/Q12759805'), ('label', 'sultanate')]\n",
      "[('objectClass', 'http://www.wikidata.org/entity/Q133442'), ('label', 'city-state')]\n",
      "[('objectClass', 'http://www.wikidata.org/entity/Q153026'), ('label', 'Euroregion')]\n",
      "[('objectClass', 'http://www.wikidata.org/entity/Q161243'), ('label', 'dependent territory')]\n",
      "[('objectClass', 'http://www.wikidata.org/entity/Q170156'), ('label', 'confederation')]\n",
      "[('objectClass', 'http://www.wikidata.org/entity/Q19958368'), ('label', 'culture of an area')]\n",
      "[('objectClass', 'http://www.wikidata.org/entity/Q42523'), ('label', 'atoll')]\n",
      "[('objectClass', 'http://www.wikidata.org/entity/Q4663903'), ('label', 'Wikimedia portal')]\n",
      "[('objectClass', 'http://www.wikidata.org/entity/Q572995'), ('label', 'natural region of France')]\n",
      "[('objectClass', 'http://www.wikidata.org/entity/Q1079693'), ('label', 'national emblem')]\n",
      "[('objectClass', 'http://www.wikidata.org/entity/Q41487'), ('label', 'court')]\n",
      "[('objectClass', 'http://www.wikidata.org/entity/Q17505024'), ('label', 'space agency')]\n",
      "[('objectClass', 'http://www.wikidata.org/entity/Q3220391'), ('label', 'social networking service')]\n",
      "[('objectClass', 'http://www.wikidata.org/entity/Q18340392'), ('label', 'different meanings of the word for the direction left')]\n",
      "[('objectClass', 'http://www.wikidata.org/entity/Q732717'), ('label', 'law enforcement agency')]\n",
      "[('objectClass', 'http://www.wikidata.org/entity/Q1772543'), ('label', 'command center')]\n",
      "[('objectClass', 'http://www.wikidata.org/entity/Q975413'), ('label', 'encyclopedic dictionary')]\n",
      "[('objectClass', 'http://www.wikidata.org/entity/Q52110228'), ('label', 'geopolitical group')]\n",
      "[('objectClass', 'http://www.wikidata.org/entity/Q5266746'), ('label', 'development bank')]\n",
      "[('objectClass', 'http://www.wikidata.org/entity/Q3393392'), ('label', 'highest point')]\n",
      "[('objectClass', 'http://www.wikidata.org/entity/Q26884324'), ('label', 'Wikimedia outline article')]\n",
      "[('objectClass', 'http://www.wikidata.org/entity/Q9430'), ('label', 'ocean')]\n",
      "[('objectClass', 'http://www.wikidata.org/entity/Q3687335'), ('label', 'Council of state')]\n",
      "[('objectClass', 'http://www.wikidata.org/entity/Q24237713'), ('label', 'AC power plug')]\n",
      "[('objectClass', 'http://www.wikidata.org/entity/Q27031827'), ('label', 'open data portal')]\n",
      "[('objectClass', 'http://www.wikidata.org/entity/Q10983451'), ('label', 'Court of Audit')]\n",
      "[('objectClass', 'http://www.wikidata.org/entity/Q1951661'), ('label', 'member states of the Association of Southeast Asian Nations')]\n",
      "[('objectClass', 'http://www.wikidata.org/entity/Q13107770'), ('label', 'archipelagic state')]\n",
      "[('objectClass', 'http://www.wikidata.org/entity/Q1896989'), ('label', 'subject of international law')]\n",
      "[('objectClass', 'http://www.wikidata.org/entity/Q202686'), ('label', 'Commonwealth realm')]\n",
      "[('objectClass', 'http://www.wikidata.org/entity/Q2418896'), ('label', 'part of the world')]\n",
      "[('objectClass', 'http://www.wikidata.org/entity/Q339834'), ('label', 'regional power')]\n",
      "[('objectClass', 'http://www.wikidata.org/entity/Q1152802'), ('label', 'hendiatris')]\n",
      "[('objectClass', 'http://www.wikidata.org/entity/Q14565197'), ('label', 'relative direction')]\n",
      "[('objectClass', 'http://www.wikidata.org/entity/Q672729'), ('label', 'Islamic republic')]\n",
      "[('objectClass', 'http://www.wikidata.org/entity/Q28963381'), ('label', 'group of major economic countries')]\n",
      "[('objectClass', 'http://www.wikidata.org/entity/Q1767520'), ('label', 'court of cassation')]\n",
      "[('objectClass', 'http://www.wikidata.org/entity/Q22923920'), ('label', 'territorial collectivity of France with special status')]\n",
      "[('objectClass', 'http://www.wikidata.org/entity/Q15634554'), ('label', 'state with limited recognition')]\n",
      "[('objectClass', 'http://www.wikidata.org/entity/Q1973404'), ('label', 'inland sea')]\n",
      "[('objectClass', 'http://www.wikidata.org/entity/Q47185658'), ('label', 'Freedom House country rank')]\n",
      "[('objectClass', 'http://www.wikidata.org/entity/Q66724388'), ('label', 'autonomous country within the Kingdom of Denmark')]\n",
      "[('objectClass', 'http://www.wikidata.org/entity/Q1147274'), ('label', 'Apostolic see')]\n",
      "[('objectClass', 'http://www.wikidata.org/entity/Q104098715'), ('label', 'territorial entity type')]\n",
      "[('objectClass', 'http://www.wikidata.org/entity/Q1570358'), ('label', 'pyramidal peak')]\n",
      "[('objectClass', 'http://www.wikidata.org/entity/Q13418005'), ('label', 'languages of Occitania')]\n",
      "[('objectClass', 'http://www.wikidata.org/entity/Q3275668'), ('label', 'national power')]\n",
      "189\n"
     ]
    }
   ],
   "source": [
    "queryString = \"\"\"\n",
    "SELECT DISTINCT ?objectClass ?label\n",
    "WHERE {   \n",
    "   wd:Q142 ?property ?object .\n",
    "   ?object wdt:P31 ?objectClass .\n",
    "   ?objectClass sc:name ?label .\n",
    "   FILTER(!isLiteral(?object)) .   \n",
    "}\n",
    "\"\"\"\n",
    "print(\"Results\")\n",
    "x=run_query(queryString)"
   ]
  },
  {
   "cell_type": "markdown",
   "id": "e0108810-a3fb-41fc-a229-0ea26ab1fe0d",
   "metadata": {
    "tags": []
   },
   "source": [
    "### Get all the couples (object property - list of the classes of the objects that are connected to \"France\"  (wd:Q142) through that object property)"
   ]
  },
  {
   "cell_type": "code",
   "execution_count": 288,
   "id": "8988c5d1-75f1-4c04-b6a0-5c16295c8805",
   "metadata": {},
   "outputs": [
    {
     "name": "stdout",
     "output_type": "stream",
     "text": [
      "Results\n",
      "[('property', 'http://www.wikidata.org/prop/direct/P2184'), ('labelProperty', 'history of topic'), ('objectsClasses', 'http://www.wikidata.org/entity/Q11862829'), ('labelsObjectsClasses', 'academic discipline')]\n",
      "[('property', 'http://www.wikidata.org/prop/direct/P5125'), ('labelProperty', 'Wikimedia outline'), ('objectsClasses', 'http://www.wikidata.org/entity/Q15851373,http://www.wikidata.org/entity/Q26884324'), ('labelsObjectsClasses', 'crosslink page,Wikimedia outline article')]\n",
      "[('property', 'http://www.wikidata.org/prop/direct/P361'), ('labelProperty', 'part of'), ('objectsClasses', 'http://www.wikidata.org/entity/Q82794,http://www.wikidata.org/entity/Q153026'), ('labelsObjectsClasses', 'geographic region,Euroregion')]\n",
      "[('property', 'http://www.wikidata.org/prop/direct/P1344'), ('labelProperty', 'participant in'), ('objectsClasses', 'http://www.wikidata.org/entity/Q198'), ('labelsObjectsClasses', 'war')]\n",
      "[('property', 'http://www.wikidata.org/prop/direct/P527'), ('labelProperty', 'has part'), ('objectsClasses', 'http://www.wikidata.org/entity/Q572995'), ('labelsObjectsClasses', 'natural region of France')]\n",
      "[('property', 'http://www.wikidata.org/prop/direct/P6'), ('labelProperty', 'head of government'), ('objectsClasses', 'http://www.wikidata.org/entity/Q5'), ('labelsObjectsClasses', 'human')]\n",
      "[('property', 'http://www.wikidata.org/prop/direct/P5658'), ('labelProperty', 'railway traffic side'), ('objectsClasses', 'http://www.wikidata.org/entity/Q18340392,http://www.wikidata.org/entity/Q14565197,http://www.wikidata.org/entity/Q14565197'), ('labelsObjectsClasses', 'different meanings of the word for the direction left,relative direction,relative direction')]\n",
      "[('property', 'http://www.wikidata.org/prop/direct/P1622'), ('labelProperty', 'driving side'), ('objectsClasses', 'http://www.wikidata.org/entity/Q14565197'), ('labelsObjectsClasses', 'relative direction')]\n",
      "[('property', 'http://www.wikidata.org/prop/direct/P2633'), ('labelProperty', 'geography of topic'), ('objectsClasses', 'http://www.wikidata.org/entity/Q46865913'), ('labelsObjectsClasses', 'geography of geographic location')]\n",
      "[('property', 'http://www.wikidata.org/prop/direct/P206'), ('labelProperty', 'located in or next to body of water'), ('objectsClasses', 'http://www.wikidata.org/entity/Q165,http://www.wikidata.org/entity/Q165,http://www.wikidata.org/entity/Q2578218,http://www.wikidata.org/entity/Q37901,http://www.wikidata.org/entity/Q986177,http://www.wikidata.org/entity/Q9430,http://www.wikidata.org/entity/Q1973404'), ('labelsObjectsClasses', 'sea,sea,inland sea,strait,mediterranean sea,ocean,inland sea')]\n",
      "[('property', 'http://www.wikidata.org/prop/direct/P5008'), ('labelProperty', 'on focus list of Wikimedia project'), ('objectsClasses', 'http://www.wikidata.org/entity/Q16695773,http://www.wikidata.org/entity/Q13406463,http://www.wikidata.org/entity/Q14204246'), ('labelsObjectsClasses', 'WikiProject,Wikimedia list article,Wikimedia project page')]\n",
      "[('property', 'http://www.wikidata.org/prop/direct/P6379'), ('labelProperty', 'has works in the collection'), ('objectsClasses', 'http://www.wikidata.org/entity/Q207694'), ('labelsObjectsClasses', 'art museum')]\n",
      "[('property', 'http://www.wikidata.org/prop/direct/P1589'), ('labelProperty', 'lowest point'), ('objectsClasses', 'http://www.wikidata.org/entity/Q3253281'), ('labelsObjectsClasses', 'pond')]\n",
      "[('property', 'http://www.wikidata.org/prop/direct/P2579'), ('labelProperty', 'studied by'), ('objectsClasses', 'http://www.wikidata.org/entity/Q11862829,http://www.wikidata.org/entity/Q4671286'), ('labelsObjectsClasses', 'academic discipline,academic major')]\n",
      "[('property', 'http://www.wikidata.org/prop/direct/P3403'), ('labelProperty', 'coextensive with'), ('objectsClasses', 'http://www.wikidata.org/entity/Q2631496'), ('labelsObjectsClasses', 'constituency of the European Parliament')]\n",
      "[('property', 'http://www.wikidata.org/prop/direct/P78'), ('labelProperty', 'top-level Internet domain'), ('objectsClasses', 'http://www.wikidata.org/entity/Q42032'), ('labelsObjectsClasses', 'country code top-level domain')]\n",
      "[('property', 'http://www.wikidata.org/prop/direct/P1792'), ('labelProperty', 'category of associated people'), ('objectsClasses', 'http://www.wikidata.org/entity/Q4167836'), ('labelsObjectsClasses', 'Wikimedia category')]\n",
      "[('property', 'http://www.wikidata.org/prop/direct/P208'), ('labelProperty', 'executive body'), ('objectsClasses', 'http://www.wikidata.org/entity/Q35798'), ('labelsObjectsClasses', 'executive branch')]\n",
      "[('property', 'http://www.wikidata.org/prop/direct/P38'), ('labelProperty', 'currency'), ('objectsClasses', 'http://www.wikidata.org/entity/Q28795800,http://www.wikidata.org/entity/Q8142'), ('labelsObjectsClasses', 'decimal currency,currency')]\n",
      "[('property', 'http://www.wikidata.org/prop/direct/P17'), ('labelProperty', 'country'), ('objectsClasses', 'http://www.wikidata.org/entity/Q3624078,http://www.wikidata.org/entity/Q51576574,http://www.wikidata.org/entity/Q6256,http://www.wikidata.org/entity/Q7270'), ('labelsObjectsClasses', 'sovereign state,Mediterranean country,country,republic')]\n",
      "[('property', 'http://www.wikidata.org/prop/direct/P2746'), ('labelProperty', 'production statistics'), ('objectsClasses', 'http://www.wikidata.org/entity/Q10210'), ('labelsObjectsClasses', 'white wine')]\n",
      "[('property', 'http://www.wikidata.org/prop/direct/P1313'), ('labelProperty', 'office held by head of government'), ('objectsClasses', 'http://www.wikidata.org/entity/Q294414'), ('labelsObjectsClasses', 'public office')]\n",
      "[('property', 'http://www.wikidata.org/prop/direct/P2959'), ('labelProperty', 'permanent duplicated item'), ('objectsClasses', 'http://www.wikidata.org/entity/Q21286738,http://www.wikidata.org/entity/Q21286738,http://www.wikidata.org/entity/Q21286738,http://www.wikidata.org/entity/Q21286738,http://www.wikidata.org/entity/Q21286738,http://www.wikidata.org/entity/Q21286738'), ('labelsObjectsClasses', 'Wikimedia permanent duplicate item,Wikimedia permanent duplicate item,Wikimedia permanent duplicate item,Wikimedia permanent duplicate item,Wikimedia permanent duplicate item,Wikimedia permanent duplicate item')]\n",
      "[('property', 'http://www.wikidata.org/prop/direct/P2853'), ('labelProperty', 'electrical plug type'), ('objectsClasses', 'http://www.wikidata.org/entity/Q24237713'), ('labelsObjectsClasses', 'AC power plug')]\n",
      "[('property', 'http://www.wikidata.org/prop/direct/P166'), ('labelProperty', 'award received'), ('objectsClasses', 'http://www.wikidata.org/entity/Q618779,http://www.wikidata.org/entity/Q131647'), ('labelsObjectsClasses', 'award,medal')]\n",
      "[('property', 'http://www.wikidata.org/prop/direct/P47'), ('labelProperty', 'shares border with'), ('objectsClasses', 'http://www.wikidata.org/entity/Q20181813,http://www.wikidata.org/entity/Q3624078,http://www.wikidata.org/entity/Q3624078,http://www.wikidata.org/entity/Q3624078,http://www.wikidata.org/entity/Q3624078,http://www.wikidata.org/entity/Q3624078,http://www.wikidata.org/entity/Q3624078,http://www.wikidata.org/entity/Q3624078,http://www.wikidata.org/entity/Q3624078,http://www.wikidata.org/entity/Q3624078,http://www.wikidata.org/entity/Q3624078,http://www.wikidata.org/entity/Q3624078,http://www.wikidata.org/entity/Q4209223,http://www.wikidata.org/entity/Q4209223,http://www.wikidata.org/entity/Q43702,http://www.wikidata.org/entity/Q512187,http://www.wikidata.org/entity/Q619610,http://www.wikidata.org/entity/Q6256,http://www.wikidata.org/entity/Q6256,http://www.wikidata.org/entity/Q6256,http://www.wikidata.org/entity/Q6256,http://www.wikidata.org/entity/Q6256,http://www.wikidata.org/entity/Q63791824,http://www.wikidata.org/entity/Q7270,http://www.wikidata.org/entity/Q859563,http://www.wikidata.org/entity/Q417175'), ('labelsObjectsClasses', 'colonial power,sovereign state,sovereign state,sovereign state,sovereign state,sovereign state,sovereign state,sovereign state,sovereign state,sovereign state,sovereign state,sovereign state,Rechtsstaat,Rechtsstaat,federation,federal republic,social state,country,country,country,country,country,country bordering the Baltic Sea,republic,secular state,kingdom')]\n",
      "[('property', 'http://www.wikidata.org/prop/direct/P85'), ('labelProperty', 'anthem'), ('objectsClasses', 'http://www.wikidata.org/entity/Q23691'), ('labelsObjectsClasses', 'national anthem')]\n",
      "[('property', 'http://www.wikidata.org/prop/direct/P1791'), ('labelProperty', 'category of people buried here'), ('objectsClasses', 'http://www.wikidata.org/entity/Q4167836'), ('labelsObjectsClasses', 'Wikimedia category')]\n",
      "[('property', 'http://www.wikidata.org/prop/direct/P6104'), ('labelProperty', 'maintained by WikiProject'), ('objectsClasses', 'http://www.wikidata.org/entity/Q16695773'), ('labelsObjectsClasses', 'WikiProject')]\n",
      "[('property', 'http://www.wikidata.org/prop/direct/P1906'), ('labelProperty', 'office held by head of state'), ('objectsClasses', 'http://www.wikidata.org/entity/Q4164871'), ('labelsObjectsClasses', 'position')]\n",
      "[('property', 'http://www.wikidata.org/prop/direct/P1464'), ('labelProperty', 'category for people born here'), ('objectsClasses', 'http://www.wikidata.org/entity/Q4167836'), ('labelsObjectsClasses', 'Wikimedia category')]\n",
      "[('property', 'http://www.wikidata.org/prop/direct/P2852'), ('labelProperty', 'emergency telephone number'), ('objectsClasses', 'http://www.wikidata.org/entity/Q694554,http://www.wikidata.org/entity/Q694554,http://www.wikidata.org/entity/Q694554,http://www.wikidata.org/entity/Q694554,http://www.wikidata.org/entity/Q694554'), ('labelsObjectsClasses', 'emergency telephone number,emergency telephone number,emergency telephone number,emergency telephone number,emergency telephone number')]\n",
      "[('property', 'http://www.wikidata.org/prop/direct/P1552'), ('labelProperty', 'has quality'), ('objectsClasses', 'http://www.wikidata.org/entity/Q47185658'), ('labelsObjectsClasses', 'Freedom House country rank')]\n",
      "[('property', 'http://www.wikidata.org/prop/direct/P122'), ('labelProperty', 'basic form of government'), ('objectsClasses', 'http://www.wikidata.org/entity/Q1307214'), ('labelsObjectsClasses', 'form of government')]\n",
      "[('property', 'http://www.wikidata.org/prop/direct/P457'), ('labelProperty', 'foundational text'), ('objectsClasses', 'http://www.wikidata.org/entity/Q7755'), ('labelsObjectsClasses', 'constitution')]\n",
      "[('property', 'http://www.wikidata.org/prop/direct/P2936'), ('labelProperty', 'language used'), ('objectsClasses', 'http://www.wikidata.org/entity/Q1288568,http://www.wikidata.org/entity/Q1288568,http://www.wikidata.org/entity/Q1288568,http://www.wikidata.org/entity/Q1288568,http://www.wikidata.org/entity/Q33384,http://www.wikidata.org/entity/Q33384,http://www.wikidata.org/entity/Q34770,http://www.wikidata.org/entity/Q34770,http://www.wikidata.org/entity/Q34770,http://www.wikidata.org/entity/Q34770,http://www.wikidata.org/entity/Q83365345,http://www.wikidata.org/entity/Q33648,http://www.wikidata.org/entity/Q83365366,http://www.wikidata.org/entity/Q13418005'), ('labelsObjectsClasses', 'modern language,modern language,modern language,modern language,dialect,dialect,language,language,language,language,vulnerable language,language isolate,severely endangered language,languages of Occitania')]\n",
      "[('property', 'http://www.wikidata.org/prop/direct/P1465'), ('labelProperty', 'category for people who died here'), ('objectsClasses', 'http://www.wikidata.org/entity/Q4167836'), ('labelsObjectsClasses', 'Wikimedia category')]\n",
      "[('property', 'http://www.wikidata.org/prop/direct/P1546'), ('labelProperty', 'motto'), ('objectsClasses', 'http://www.wikidata.org/entity/Q3257782,http://www.wikidata.org/entity/Q29654714,http://www.wikidata.org/entity/Q1152802'), ('labelsObjectsClasses', 'locution,national motto,hendiatris')]\n",
      "[('property', 'http://www.wikidata.org/prop/direct/P37'), ('labelProperty', 'official language'), ('objectsClasses', 'http://www.wikidata.org/entity/Q1288568,http://www.wikidata.org/entity/Q33742,http://www.wikidata.org/entity/Q34770'), ('labelsObjectsClasses', 'modern language,natural language,language')]\n",
      "[('property', 'http://www.wikidata.org/prop/direct/P1365'), ('labelProperty', 'replaces'), ('objectsClasses', 'http://www.wikidata.org/entity/Q3024240,http://www.wikidata.org/entity/Q3024240,http://www.wikidata.org/entity/Q3024240,http://www.wikidata.org/entity/Q133442'), ('labelsObjectsClasses', 'historical country,historical country,historical country,city-state')]\n",
      "[('property', 'http://www.wikidata.org/prop/direct/P237'), ('labelProperty', 'coat of arms'), ('objectsClasses', 'http://www.wikidata.org/entity/Q1079693'), ('labelsObjectsClasses', 'national emblem')]\n",
      "[('property', 'http://www.wikidata.org/prop/direct/P1740'), ('labelProperty', 'category for films shot at this location'), ('objectsClasses', 'http://www.wikidata.org/entity/Q4167836'), ('labelsObjectsClasses', 'Wikimedia category')]\n",
      "[('property', 'http://www.wikidata.org/prop/direct/P8744'), ('labelProperty', 'economy of topic'), ('objectsClasses', 'http://www.wikidata.org/entity/Q6456916'), ('labelsObjectsClasses', 'national economy')]\n",
      "[('property', 'http://www.wikidata.org/prop/direct/P610'), ('labelProperty', 'highest point'), ('objectsClasses', 'http://www.wikidata.org/entity/Q207326,http://www.wikidata.org/entity/Q8502,http://www.wikidata.org/entity/Q3393392,http://www.wikidata.org/entity/Q1570358'), ('labelsObjectsClasses', 'summit,mountain,highest point,pyramidal peak')]\n",
      "[('property', 'http://www.wikidata.org/prop/direct/P31'), ('labelProperty', 'instance of'), ('objectsClasses', 'http://www.wikidata.org/entity/Q1307214,http://www.wikidata.org/entity/Q183039,http://www.wikidata.org/entity/Q104098715'), ('labelsObjectsClasses', 'form of government,form of state,territorial entity type')]\n",
      "[('property', 'http://www.wikidata.org/prop/direct/P530'), ('labelProperty', 'diplomatic relation'), ('objectsClasses', 'http://www.wikidata.org/entity/Q1489259,http://www.wikidata.org/entity/Q1250464,http://www.wikidata.org/entity/Q1323642,http://www.wikidata.org/entity/Q1323642,http://www.wikidata.org/entity/Q99541706,http://www.wikidata.org/entity/Q99541706,http://www.wikidata.org/entity/Q1088391,http://www.wikidata.org/entity/Q112099,http://www.wikidata.org/entity/Q112099,http://www.wikidata.org/entity/Q112099,http://www.wikidata.org/entity/Q112099,http://www.wikidata.org/entity/Q112099,http://www.wikidata.org/entity/Q112099,http://www.wikidata.org/entity/Q112099,http://www.wikidata.org/entity/Q112099,http://www.wikidata.org/entity/Q112099,http://www.wikidata.org/entity/Q112099,http://www.wikidata.org/entity/Q112099,http://www.wikidata.org/entity/Q112099,http://www.wikidata.org/entity/Q112099,http://www.wikidata.org/entity/Q112099,http://www.wikidata.org/entity/Q112099,http://www.wikidata.org/entity/Q118365,http://www.wikidata.org/entity/Q123480,http://www.wikidata.org/entity/Q123480,http://www.wikidata.org/entity/Q123480,http://www.wikidata.org/entity/Q123480,http://www.wikidata.org/entity/Q123480,http://www.wikidata.org/entity/Q123480,http://www.wikidata.org/entity/Q123480,http://www.wikidata.org/entity/Q123480,http://www.wikidata.org/entity/Q123480,http://www.wikidata.org/entity/Q1520223,http://www.wikidata.org/entity/Q1520223,http://www.wikidata.org/entity/Q1520223,http://www.wikidata.org/entity/Q1520223,http://www.wikidata.org/entity/Q1520223,http://www.wikidata.org/entity/Q1520223,http://www.wikidata.org/entity/Q1520223,http://www.wikidata.org/entity/Q1549591,http://www.wikidata.org/entity/Q1637706,http://www.wikidata.org/entity/Q179164,http://www.wikidata.org/entity/Q179164,http://www.wikidata.org/entity/Q179164,http://www.wikidata.org/entity/Q179164,http://www.wikidata.org/entity/Q179164,http://www.wikidata.org/entity/Q20181813,http://www.wikidata.org/entity/Q20181813,http://www.wikidata.org/entity/Q2221906,http://www.wikidata.org/entity/Q2264924,http://www.wikidata.org/entity/Q2301091,http://www.wikidata.org/entity/Q3624078,http://www.wikidata.org/entity/Q3624078,http://www.wikidata.org/entity/Q3624078,http://www.wikidata.org/entity/Q3624078,http://www.wikidata.org/entity/Q3624078,http://www.wikidata.org/entity/Q3624078,http://www.wikidata.org/entity/Q3624078,http://www.wikidata.org/entity/Q3624078,http://www.wikidata.org/entity/Q3624078,http://www.wikidata.org/entity/Q3624078,http://www.wikidata.org/entity/Q3624078,http://www.wikidata.org/entity/Q3624078,http://www.wikidata.org/entity/Q3624078,http://www.wikidata.org/entity/Q3624078,http://www.wikidata.org/entity/Q3624078,http://www.wikidata.org/entity/Q3624078,http://www.wikidata.org/entity/Q3624078,http://www.wikidata.org/entity/Q3624078,http://www.wikidata.org/entity/Q3624078,http://www.wikidata.org/entity/Q3624078,http://www.wikidata.org/entity/Q3624078,http://www.wikidata.org/entity/Q3624078,http://www.wikidata.org/entity/Q3624078,http://www.wikidata.org/entity/Q3624078,http://www.wikidata.org/entity/Q3624078,http://www.wikidata.org/entity/Q3624078,http://www.wikidata.org/entity/Q3624078,http://www.wikidata.org/entity/Q3624078,http://www.wikidata.org/entity/Q3624078,http://www.wikidata.org/entity/Q3624078,http://www.wikidata.org/entity/Q3624078,http://www.wikidata.org/entity/Q3624078,http://www.wikidata.org/entity/Q3624078,http://www.wikidata.org/entity/Q3624078,http://www.wikidata.org/entity/Q3624078,http://www.wikidata.org/entity/Q3624078,http://www.wikidata.org/entity/Q3624078,http://www.wikidata.org/entity/Q3624078,http://www.wikidata.org/entity/Q3624078,http://www.wikidata.org/entity/Q3624078,http://www.wikidata.org/entity/Q3624078,http://www.wikidata.org/entity/Q3624078,http://www.wikidata.org/entity/Q3624078,http://www.wikidata.org/entity/Q3624078,http://www.wikidata.org/entity/Q3624078,http://www.wikidata.org/entity/Q3624078,http://www.wikidata.org/entity/Q3624078,http://www.wikidata.org/entity/Q3624078,http://www.wikidata.org/entity/Q3624078,http://www.wikidata.org/entity/Q3624078,http://www.wikidata.org/entity/Q3624078,http://www.wikidata.org/entity/Q3624078,http://www.wikidata.org/entity/Q3624078,http://www.wikidata.org/entity/Q3624078,http://www.wikidata.org/entity/Q3624078,http://www.wikidata.org/entity/Q3624078,http://www.wikidata.org/entity/Q3624078,http://www.wikidata.org/entity/Q3624078,http://www.wikidata.org/entity/Q3624078,http://www.wikidata.org/entity/Q3624078,http://www.wikidata.org/entity/Q3624078,http://www.wikidata.org/entity/Q3624078,http://www.wikidata.org/entity/Q3624078,http://www.wikidata.org/entity/Q3624078,http://www.wikidata.org/entity/Q3624078,http://www.wikidata.org/entity/Q3624078,http://www.wikidata.org/entity/Q3624078,http://www.wikidata.org/entity/Q3624078,http://www.wikidata.org/entity/Q3624078,http://www.wikidata.org/entity/Q3624078,http://www.wikidata.org/entity/Q3624078,http://www.wikidata.org/entity/Q3624078,http://www.wikidata.org/entity/Q3624078,http://www.wikidata.org/entity/Q3624078,http://www.wikidata.org/entity/Q3624078,http://www.wikidata.org/entity/Q3624078,http://www.wikidata.org/entity/Q3624078,http://www.wikidata.org/entity/Q3624078,http://www.wikidata.org/entity/Q3624078,http://www.wikidata.org/entity/Q3624078,http://www.wikidata.org/entity/Q3624078,http://www.wikidata.org/entity/Q3624078,http://www.wikidata.org/entity/Q3624078,http://www.wikidata.org/entity/Q3624078,http://www.wikidata.org/entity/Q3624078,http://www.wikidata.org/entity/Q3624078,http://www.wikidata.org/entity/Q3624078,http://www.wikidata.org/entity/Q3624078,http://www.wikidata.org/entity/Q3624078,http://www.wikidata.org/entity/Q3624078,http://www.wikidata.org/entity/Q3624078,http://www.wikidata.org/entity/Q41614,http://www.wikidata.org/entity/Q41614,http://www.wikidata.org/entity/Q41614,http://www.wikidata.org/entity/Q41614,http://www.wikidata.org/entity/Q41614,http://www.wikidata.org/entity/Q4198907,http://www.wikidata.org/entity/Q4209223,http://www.wikidata.org/entity/Q4209223,http://www.wikidata.org/entity/Q4209223,http://www.wikidata.org/entity/Q43702,http://www.wikidata.org/entity/Q43702,http://www.wikidata.org/entity/Q465613,http://www.wikidata.org/entity/Q465613,http://www.wikidata.org/entity/Q465613,http://www.wikidata.org/entity/Q49892,http://www.wikidata.org/entity/Q5119,http://www.wikidata.org/entity/Q512187,http://www.wikidata.org/entity/Q512187,http://www.wikidata.org/entity/Q512187,http://www.wikidata.org/entity/Q512187,http://www.wikidata.org/entity/Q512187,http://www.wikidata.org/entity/Q512187,http://www.wikidata.org/entity/Q515,http://www.wikidata.org/entity/Q51576574,http://www.wikidata.org/entity/Q51576574,http://www.wikidata.org/entity/Q51576574,http://www.wikidata.org/entity/Q51576574,http://www.wikidata.org/entity/Q51576574,http://www.wikidata.org/entity/Q51576574,http://www.wikidata.org/entity/Q51576574,http://www.wikidata.org/entity/Q51576574,http://www.wikidata.org/entity/Q51576574,http://www.wikidata.org/entity/Q5255892,http://www.wikidata.org/entity/Q5255892,http://www.wikidata.org/entity/Q5255892,http://www.wikidata.org/entity/Q5255892,http://www.wikidata.org/entity/Q619610,http://www.wikidata.org/entity/Q619610,http://www.wikidata.org/entity/Q619610,http://www.wikidata.org/entity/Q6256,http://www.wikidata.org/entity/Q6256,http://www.wikidata.org/entity/Q6256,http://www.wikidata.org/entity/Q6256,http://www.wikidata.org/entity/Q6256,http://www.wikidata.org/entity/Q6256,http://www.wikidata.org/entity/Q6256,http://www.wikidata.org/entity/Q6256,http://www.wikidata.org/entity/Q6256,http://www.wikidata.org/entity/Q6256,http://www.wikidata.org/entity/Q6256,http://www.wikidata.org/entity/Q6256,http://www.wikidata.org/entity/Q6256,http://www.wikidata.org/entity/Q6256,http://www.wikidata.org/entity/Q6256,http://www.wikidata.org/entity/Q6256,http://www.wikidata.org/entity/Q6256,http://www.wikidata.org/entity/Q6256,http://www.wikidata.org/entity/Q6256,http://www.wikidata.org/entity/Q6256,http://www.wikidata.org/entity/Q6256,http://www.wikidata.org/entity/Q6256,http://www.wikidata.org/entity/Q6256,http://www.wikidata.org/entity/Q6256,http://www.wikidata.org/entity/Q6256,http://www.wikidata.org/entity/Q6256,http://www.wikidata.org/entity/Q6256,http://www.wikidata.org/entity/Q6256,http://www.wikidata.org/entity/Q6256,http://www.wikidata.org/entity/Q6256,http://www.wikidata.org/entity/Q6256,http://www.wikidata.org/entity/Q6256,http://www.wikidata.org/entity/Q6256,http://www.wikidata.org/entity/Q6256,http://www.wikidata.org/entity/Q6256,http://www.wikidata.org/entity/Q6256,http://www.wikidata.org/entity/Q6256,http://www.wikidata.org/entity/Q6256,http://www.wikidata.org/entity/Q6256,http://www.wikidata.org/entity/Q6256,http://www.wikidata.org/entity/Q6256,http://www.wikidata.org/entity/Q6256,http://www.wikidata.org/entity/Q6256,http://www.wikidata.org/entity/Q6256,http://www.wikidata.org/entity/Q6256,http://www.wikidata.org/entity/Q6256,http://www.wikidata.org/entity/Q6256,http://www.wikidata.org/entity/Q6256,http://www.wikidata.org/entity/Q6256,http://www.wikidata.org/entity/Q6256,http://www.wikidata.org/entity/Q6256,http://www.wikidata.org/entity/Q6256,http://www.wikidata.org/entity/Q6256,http://www.wikidata.org/entity/Q6256,http://www.wikidata.org/entity/Q6256,http://www.wikidata.org/entity/Q6256,http://www.wikidata.org/entity/Q6256,http://www.wikidata.org/entity/Q6256,http://www.wikidata.org/entity/Q6256,http://www.wikidata.org/entity/Q6256,http://www.wikidata.org/entity/Q6256,http://www.wikidata.org/entity/Q6256,http://www.wikidata.org/entity/Q6256,http://www.wikidata.org/entity/Q6256,http://www.wikidata.org/entity/Q6256,http://www.wikidata.org/entity/Q6256,http://www.wikidata.org/entity/Q6256,http://www.wikidata.org/entity/Q6256,http://www.wikidata.org/entity/Q6256,http://www.wikidata.org/entity/Q6256,http://www.wikidata.org/entity/Q6256,http://www.wikidata.org/entity/Q6256,http://www.wikidata.org/entity/Q6256,http://www.wikidata.org/entity/Q6256,http://www.wikidata.org/entity/Q6256,http://www.wikidata.org/entity/Q6256,http://www.wikidata.org/entity/Q6256,http://www.wikidata.org/entity/Q6256,http://www.wikidata.org/entity/Q6266,http://www.wikidata.org/entity/Q63791824,http://www.wikidata.org/entity/Q63791824,http://www.wikidata.org/entity/Q63791824,http://www.wikidata.org/entity/Q7270,http://www.wikidata.org/entity/Q7270,http://www.wikidata.org/entity/Q7270,http://www.wikidata.org/entity/Q7270,http://www.wikidata.org/entity/Q7270,http://www.wikidata.org/entity/Q7270,http://www.wikidata.org/entity/Q7270,http://www.wikidata.org/entity/Q7270,http://www.wikidata.org/entity/Q7270,http://www.wikidata.org/entity/Q7270,http://www.wikidata.org/entity/Q7270,http://www.wikidata.org/entity/Q7270,http://www.wikidata.org/entity/Q82794,http://www.wikidata.org/entity/Q842112,http://www.wikidata.org/entity/Q849866,http://www.wikidata.org/entity/Q859563,http://www.wikidata.org/entity/Q859563,http://www.wikidata.org/entity/Q859563,http://www.wikidata.org/entity/Q859563,http://www.wikidata.org/entity/Q859563,http://www.wikidata.org/entity/Q902814,http://www.wikidata.org/entity/Q133156,http://www.wikidata.org/entity/Q417175,http://www.wikidata.org/entity/Q223832,http://www.wikidata.org/entity/Q782614,http://www.wikidata.org/entity/Q7275,http://www.wikidata.org/entity/Q7275,http://www.wikidata.org/entity/Q12759805,http://www.wikidata.org/entity/Q133442,http://www.wikidata.org/entity/Q1951661,http://www.wikidata.org/entity/Q13107770,http://www.wikidata.org/entity/Q13107770,http://www.wikidata.org/entity/Q13107770,http://www.wikidata.org/entity/Q1896989,http://www.wikidata.org/entity/Q202686,http://www.wikidata.org/entity/Q202686,http://www.wikidata.org/entity/Q202686,http://www.wikidata.org/entity/Q202686,http://www.wikidata.org/entity/Q202686,http://www.wikidata.org/entity/Q339834,http://www.wikidata.org/entity/Q672729,http://www.wikidata.org/entity/Q672729,http://www.wikidata.org/entity/Q15634554,http://www.wikidata.org/entity/Q15634554,http://www.wikidata.org/entity/Q15634554,http://www.wikidata.org/entity/Q66724388,http://www.wikidata.org/entity/Q1147274,http://www.wikidata.org/entity/Q3275668'), ('labelsObjectsClasses', \"superpower,realm,transcontinental country,transcontinental country,historical unrecognized state,historical unrecognized state,rump state,island nation,island nation,island nation,island nation,island nation,island nation,island nation,island nation,island nation,island nation,island nation,island nation,island nation,island nation,island nation,dictatorship of the proletariat,landlocked country,landlocked country,landlocked country,landlocked country,landlocked country,landlocked country,landlocked country,landlocked country,landlocked country,constitutional republic,constitutional republic,constitutional republic,constitutional republic,constitutional republic,constitutional republic,constitutional republic,big city,million city,unitary state,unitary state,unitary state,unitary state,unitary state,colonial power,colonial power,geographic location,port settlement,socialism with Chinese characteristics,sovereign state,sovereign state,sovereign state,sovereign state,sovereign state,sovereign state,sovereign state,sovereign state,sovereign state,sovereign state,sovereign state,sovereign state,sovereign state,sovereign state,sovereign state,sovereign state,sovereign state,sovereign state,sovereign state,sovereign state,sovereign state,sovereign state,sovereign state,sovereign state,sovereign state,sovereign state,sovereign state,sovereign state,sovereign state,sovereign state,sovereign state,sovereign state,sovereign state,sovereign state,sovereign state,sovereign state,sovereign state,sovereign state,sovereign state,sovereign state,sovereign state,sovereign state,sovereign state,sovereign state,sovereign state,sovereign state,sovereign state,sovereign state,sovereign state,sovereign state,sovereign state,sovereign state,sovereign state,sovereign state,sovereign state,sovereign state,sovereign state,sovereign state,sovereign state,sovereign state,sovereign state,sovereign state,sovereign state,sovereign state,sovereign state,sovereign state,sovereign state,sovereign state,sovereign state,sovereign state,sovereign state,sovereign state,sovereign state,sovereign state,sovereign state,sovereign state,sovereign state,sovereign state,sovereign state,sovereign state,sovereign state,sovereign state,sovereign state,sovereign state,sovereign state,sovereign state,sovereign state,sovereign state,sovereign state,sovereign state,sovereign state,constitutional monarchy,constitutional monarchy,constitutional monarchy,constitutional monarchy,constitutional monarchy,parliamentary republic,Rechtsstaat,Rechtsstaat,Rechtsstaat,federation,federation,people's republic,people's republic,people's republic,presidential régime,capital,federal republic,federal republic,federal republic,federal republic,federal republic,federal republic,city,Mediterranean country,Mediterranean country,Mediterranean country,Mediterranean country,Mediterranean country,Mediterranean country,Mediterranean country,Mediterranean country,Mediterranean country,democratic republic,democratic republic,democratic republic,democratic republic,social state,social state,social state,country,country,country,country,country,country,country,country,country,country,country,country,country,country,country,country,country,country,country,country,country,country,country,country,country,country,country,country,country,country,country,country,country,country,country,country,country,country,country,country,country,country,country,country,country,country,country,country,country,country,country,country,country,country,country,country,country,country,country,country,country,country,country,country,country,country,country,country,country,country,country,country,country,country,country,country,country,country,nation,country bordering the Baltic Sea,country bordering the Baltic Sea,country bordering the Baltic Sea,republic,republic,republic,republic,republic,republic,republic,republic,republic,republic,republic,republic,geographic region,socialist state,communist state,secular state,secular state,secular state,secular state,secular state,border town,colony,kingdom,dominion of the British Empire,autonomous region,state,state,sultanate,city-state,member states of the Association of Southeast Asian Nations,archipelagic state,archipelagic state,archipelagic state,subject of international law,Commonwealth realm,Commonwealth realm,Commonwealth realm,Commonwealth realm,Commonwealth realm,regional power,Islamic republic,Islamic republic,state with limited recognition,state with limited recognition,state with limited recognition,autonomous country within the Kingdom of Denmark,Apostolic see,national power\")]\n",
      "[('property', 'http://www.wikidata.org/prop/direct/P209'), ('labelProperty', 'highest judicial authority'), ('objectsClasses', 'http://www.wikidata.org/entity/Q32766,http://www.wikidata.org/entity/Q190752,http://www.wikidata.org/entity/Q190752,http://www.wikidata.org/entity/Q41487,http://www.wikidata.org/entity/Q3687335,http://www.wikidata.org/entity/Q10983451,http://www.wikidata.org/entity/Q1767520'), ('labelsObjectsClasses', 'constitutional court,supreme court,supreme court,court,Council of state,Court of Audit,court of cassation')]\n",
      "[('property', 'http://www.wikidata.org/prop/direct/P910'), ('labelProperty', \"topic's main category\"), ('objectsClasses', 'http://www.wikidata.org/entity/Q4167836'), ('labelsObjectsClasses', 'Wikimedia category')]\n",
      "[('property', 'http://www.wikidata.org/prop/direct/P1343'), ('labelProperty', 'described by source'), ('objectsClasses', 'http://www.wikidata.org/entity/Q56165908,http://www.wikidata.org/entity/Q47461344,http://www.wikidata.org/entity/Q5292,http://www.wikidata.org/entity/Q5292,http://www.wikidata.org/entity/Q5292,http://www.wikidata.org/entity/Q5292,http://www.wikidata.org/entity/Q7725634,http://www.wikidata.org/entity/Q3331189,http://www.wikidata.org/entity/Q3331189,http://www.wikidata.org/entity/Q3331189,http://www.wikidata.org/entity/Q975413,http://www.wikidata.org/entity/Q975413,http://www.wikidata.org/entity/Q975413'), ('labelsObjectsClasses', 'Jewish encyclopedia,written work,encyclopedia,encyclopedia,encyclopedia,encyclopedia,literary work,version, edition, or translation,version, edition, or translation,version, edition, or translation,encyclopedic dictionary,encyclopedic dictionary,encyclopedic dictionary')]\n",
      "[('property', 'http://www.wikidata.org/prop/direct/P163'), ('labelProperty', 'flag'), ('objectsClasses', 'http://www.wikidata.org/entity/Q186516'), ('labelsObjectsClasses', 'national flag')]\n",
      "50\n"
     ]
    }
   ],
   "source": [
    "queryString = \"\"\"\n",
    "SELECT DISTINCT ?property ?labelProperty (GROUP_CONCAT(?objectClass ; separator = \",\")  AS ?objectsClasses) (GROUP_CONCAT(?labelObjectClass ; separator = \",\")  AS ?labelsObjectsClasses)\n",
    "WHERE \n",
    "{   \n",
    "   wd:Q142 ?property ?object .  \n",
    "   ?object wdt:P31 ?objectClass .\n",
    "   \n",
    "   # Labels\n",
    "   ?property sc:name ?labelProperty .      \n",
    "   ?objectClass sc:name ?labelObjectClass .\n",
    "   \n",
    "   FILTER(!isLiteral(?object)) .   \n",
    "}GROUP BY ?property ?labelProperty\n",
    "LIMIT 50\n",
    "\"\"\"\n",
    "print(\"Results\")\n",
    "x=run_query(queryString)"
   ]
  },
  {
   "cell_type": "markdown",
   "id": "804744cd-4859-4386-9768-090c49f43287",
   "metadata": {
    "tags": []
   },
   "source": [
    "### Get all the couples (object property - list of the  objects that are connected to \"France\"  (wd:Q142) through that object property)"
   ]
  },
  {
   "cell_type": "code",
   "execution_count": 289,
   "id": "df942d7c-f2c4-412e-a4d4-1cb4f26aa1b3",
   "metadata": {},
   "outputs": [
    {
     "name": "stdout",
     "output_type": "stream",
     "text": [
      "Results\n",
      "[('property', 'http://www.wikidata.org/prop/direct/P2184'), ('labelProperty', 'history of topic'), ('objects', 'http://www.wikidata.org/entity/Q7778'), ('labelsObjects', 'history of France')]\n",
      "[('property', 'http://www.wikidata.org/prop/direct/P5125'), ('labelProperty', 'Wikimedia outline'), ('objects', 'http://www.wikidata.org/entity/Q4261422'), ('labelsObjects', 'outline of France')]\n",
      "[('property', 'http://www.wikidata.org/prop/direct/P361'), ('labelProperty', 'part of'), ('objects', 'http://www.wikidata.org/entity/Q27496,http://www.wikidata.org/entity/Q1849394'), ('labelsObjects', 'Western Europe,Pyrenees–Mediterranean Euroregion')]\n",
      "[('property', 'http://www.wikidata.org/prop/direct/P1344'), ('labelProperty', 'participant in'), ('objects', 'http://www.wikidata.org/entity/Q766437'), ('labelsObjects', 'Rif War')]\n",
      "[('property', 'http://www.wikidata.org/prop/direct/P527'), ('labelProperty', 'has part'), ('objects', 'http://www.wikidata.org/entity/Q1050483'), ('labelsObjects', 'Loire Valley')]\n",
      "[('property', 'http://www.wikidata.org/prop/direct/P6'), ('labelProperty', 'head of government'), ('objects', 'http://www.wikidata.org/entity/Q3171170'), ('labelsObjects', 'Jean Castex')]\n",
      "[('property', 'http://www.wikidata.org/prop/direct/P5658'), ('labelProperty', 'railway traffic side'), ('objects', 'http://www.wikidata.org/entity/Q13196750,http://www.wikidata.org/entity/Q14565199'), ('labelsObjects', 'left,right')]\n",
      "[('property', 'http://www.wikidata.org/prop/direct/P1622'), ('labelProperty', 'driving side'), ('objects', 'http://www.wikidata.org/entity/Q14565199'), ('labelsObjects', 'right')]\n",
      "[('property', 'http://www.wikidata.org/prop/direct/P2633'), ('labelProperty', 'geography of topic'), ('objects', 'http://www.wikidata.org/entity/Q200533'), ('labelsObjects', 'geography of France')]\n",
      "[('property', 'http://www.wikidata.org/prop/direct/P206'), ('labelProperty', 'located in or next to body of water'), ('objects', 'http://www.wikidata.org/entity/Q1693,http://www.wikidata.org/entity/Q34640,http://www.wikidata.org/entity/Q4918,http://www.wikidata.org/entity/Q97'), ('labelsObjects', 'North Sea,English Channel,Mediterranean Sea,Atlantic Ocean')]\n",
      "[('property', 'http://www.wikidata.org/prop/direct/P5008'), ('labelProperty', 'on focus list of Wikimedia project'), ('objects', 'http://www.wikidata.org/entity/Q5460604'), ('labelsObjects', 'Wikipedia:Vital articles')]\n",
      "[('property', 'http://www.wikidata.org/prop/direct/P6379'), ('labelProperty', 'has works in the collection'), ('objects', 'http://www.wikidata.org/entity/Q1464509'), ('labelsObjects', 'National Gallery of Victoria')]\n",
      "[('property', 'http://www.wikidata.org/prop/direct/P1589'), ('labelProperty', 'lowest point'), ('objects', 'http://www.wikidata.org/entity/Q3591700'), ('labelsObjects', 'Étang de Lavalduc')]\n",
      "[('property', 'http://www.wikidata.org/prop/direct/P2579'), ('labelProperty', 'studied by'), ('objects', 'http://www.wikidata.org/entity/Q3082422'), ('labelsObjects', 'francology')]\n",
      "[('property', 'http://www.wikidata.org/prop/direct/P3403'), ('labelProperty', 'coextensive with'), ('objects', 'http://www.wikidata.org/entity/Q5478259'), ('labelsObjects', 'France')]\n",
      "[('property', 'http://www.wikidata.org/prop/direct/P78'), ('labelProperty', 'top-level Internet domain'), ('objects', 'http://www.wikidata.org/entity/Q37271'), ('labelsObjects', '.fr')]\n",
      "[('property', 'http://www.wikidata.org/prop/direct/P1792'), ('labelProperty', 'category of associated people'), ('objects', 'http://www.wikidata.org/entity/Q3919837'), ('labelsObjects', 'Category:French people')]\n",
      "[('property', 'http://www.wikidata.org/prop/direct/P208'), ('labelProperty', 'executive body'), ('objects', 'http://www.wikidata.org/entity/Q1450662'), ('labelsObjects', 'Government of France')]\n",
      "[('property', 'http://www.wikidata.org/prop/direct/P38'), ('labelProperty', 'currency'), ('objects', 'http://www.wikidata.org/entity/Q4916'), ('labelsObjects', 'euro')]\n",
      "[('property', 'http://www.wikidata.org/prop/direct/P17'), ('labelProperty', 'country'), ('objects', 'http://www.wikidata.org/entity/Q142'), ('labelsObjects', 'France')]\n",
      "[('property', 'http://www.wikidata.org/prop/direct/P2746'), ('labelProperty', 'production statistics'), ('objects', 'http://www.wikidata.org/entity/Q167296,http://www.wikidata.org/entity/Q134862'), ('labelsObjects', 'cider,champagne')]\n",
      "[('property', 'http://www.wikidata.org/prop/direct/P1313'), ('labelProperty', 'office held by head of government'), ('objects', 'http://www.wikidata.org/entity/Q1587677'), ('labelsObjects', 'Prime Minister of France')]\n",
      "[('property', 'http://www.wikidata.org/prop/direct/P2853'), ('labelProperty', 'electrical plug type'), ('objects', 'http://www.wikidata.org/entity/Q1378312,http://www.wikidata.org/entity/Q2335536'), ('labelsObjects', 'Europlug,Type E')]\n",
      "[('property', 'http://www.wikidata.org/prop/direct/P166'), ('labelProperty', 'award received'), ('objects', 'http://www.wikidata.org/entity/Q3381638,http://www.wikidata.org/entity/Q47004555'), ('labelsObjects', 'Lagun Onari,The Economist country of the year')]\n",
      "[('property', 'http://www.wikidata.org/prop/direct/P47'), ('labelProperty', 'shares border with'), ('objects', 'http://www.wikidata.org/entity/Q155,http://www.wikidata.org/entity/Q183,http://www.wikidata.org/entity/Q228,http://www.wikidata.org/entity/Q235,http://www.wikidata.org/entity/Q29,http://www.wikidata.org/entity/Q29999,http://www.wikidata.org/entity/Q31,http://www.wikidata.org/entity/Q32,http://www.wikidata.org/entity/Q38,http://www.wikidata.org/entity/Q39,http://www.wikidata.org/entity/Q730'), ('labelsObjects', 'Brazil,Germany,Andorra,Monaco,Spain,Kingdom of the Netherlands,Belgium,Luxembourg,Italy,Switzerland,Suriname')]\n",
      "[('property', 'http://www.wikidata.org/prop/direct/P85'), ('labelProperty', 'anthem'), ('objects', 'http://www.wikidata.org/entity/Q41180'), ('labelsObjects', 'La Marseillaise')]\n",
      "[('property', 'http://www.wikidata.org/prop/direct/P1791'), ('labelProperty', 'category of people buried here'), ('objects', 'http://www.wikidata.org/entity/Q8328624'), ('labelsObjects', 'Category:Burials in France')]\n",
      "[('property', 'http://www.wikidata.org/prop/direct/P6104'), ('labelProperty', 'maintained by WikiProject'), ('objects', 'http://www.wikidata.org/entity/Q10816832'), ('labelsObjects', 'WikiProject France')]\n",
      "[('property', 'http://www.wikidata.org/prop/direct/P1906'), ('labelProperty', 'office held by head of state'), ('objects', 'http://www.wikidata.org/entity/Q191954'), ('labelsObjects', 'President of the French Republic')]\n",
      "[('property', 'http://www.wikidata.org/prop/direct/P1464'), ('labelProperty', 'category for people born here'), ('objects', 'http://www.wikidata.org/entity/Q7463334'), ('labelsObjects', 'Category:Births in France')]\n",
      "[('property', 'http://www.wikidata.org/prop/direct/P2852'), ('labelProperty', 'emergency telephone number'), ('objects', 'http://www.wikidata.org/entity/Q2945964,http://www.wikidata.org/entity/Q1061257,http://www.wikidata.org/entity/Q25648842,http://www.wikidata.org/entity/Q25648843,http://www.wikidata.org/entity/Q25648869'), ('labelsObjects', '114,112,17,18,15')]\n",
      "[('property', 'http://www.wikidata.org/prop/direct/P1552'), ('labelProperty', 'has quality'), ('objects', 'http://www.wikidata.org/entity/Q3174312'), ('labelsObjects', 'free country')]\n",
      "[('property', 'http://www.wikidata.org/prop/direct/P122'), ('labelProperty', 'basic form of government'), ('objects', 'http://www.wikidata.org/entity/Q49890'), ('labelsObjects', 'semi-presidential system')]\n",
      "[('property', 'http://www.wikidata.org/prop/direct/P457'), ('labelProperty', 'foundational text'), ('objects', 'http://www.wikidata.org/entity/Q832508'), ('labelsObjects', 'Constitution of France')]\n",
      "[('property', 'http://www.wikidata.org/prop/direct/P2936'), ('labelProperty', 'language used'), ('objects', 'http://www.wikidata.org/entity/Q12107,http://www.wikidata.org/entity/Q14185,http://www.wikidata.org/entity/Q7026,http://www.wikidata.org/entity/Q8786,http://www.wikidata.org/entity/Q8752,http://www.wikidata.org/entity/Q1400216'), ('labelsObjects', 'Breton,Occitan,Catalan,Alsatian,Basque,standard French')]\n",
      "[('property', 'http://www.wikidata.org/prop/direct/P1465'), ('labelProperty', 'category for people who died here'), ('objects', 'http://www.wikidata.org/entity/Q8366463'), ('labelsObjects', 'Category:Deaths in France')]\n",
      "[('property', 'http://www.wikidata.org/prop/direct/P37'), ('labelProperty', 'official language'), ('objects', 'http://www.wikidata.org/entity/Q150'), ('labelsObjects', 'French')]\n",
      "[('property', 'http://www.wikidata.org/prop/direct/P1546'), ('labelProperty', 'motto'), ('objects', 'http://www.wikidata.org/entity/Q251583'), ('labelsObjects', 'Liberté, égalité, fraternité')]\n",
      "[('property', 'http://www.wikidata.org/prop/direct/P1365'), ('labelProperty', 'replaces'), ('objects', 'http://www.wikidata.org/entity/Q70972,http://www.wikidata.org/entity/Q3446152'), ('labelsObjects', 'Kingdom of France,Kingdom of Bora Bora')]\n",
      "[('property', 'http://www.wikidata.org/prop/direct/P237'), ('labelProperty', 'coat of arms'), ('objects', 'http://www.wikidata.org/entity/Q165432'), ('labelsObjects', 'Coat of arms of France')]\n",
      "[('property', 'http://www.wikidata.org/prop/direct/P1740'), ('labelProperty', 'category for films shot at this location'), ('objects', 'http://www.wikidata.org/entity/Q6271005'), ('labelsObjects', 'Category:Films shot in France')]\n",
      "[('property', 'http://www.wikidata.org/prop/direct/P8744'), ('labelProperty', 'economy of topic'), ('objects', 'http://www.wikidata.org/entity/Q8057'), ('labelsObjects', 'economy of France')]\n",
      "[('property', 'http://www.wikidata.org/prop/direct/P610'), ('labelProperty', 'highest point'), ('objects', 'http://www.wikidata.org/entity/Q583'), ('labelsObjects', 'Mont Blanc')]\n",
      "[('property', 'http://www.wikidata.org/prop/direct/P31'), ('labelProperty', 'instance of'), ('objects', 'http://www.wikidata.org/entity/Q3624078,http://www.wikidata.org/entity/Q51576574,http://www.wikidata.org/entity/Q6256,http://www.wikidata.org/entity/Q7270'), ('labelsObjects', 'sovereign state,Mediterranean country,country,republic')]\n",
      "[('property', 'http://www.wikidata.org/prop/direct/P209'), ('labelProperty', 'highest judicial authority'), ('objects', 'http://www.wikidata.org/entity/Q769657,http://www.wikidata.org/entity/Q1137614,http://www.wikidata.org/entity/Q1127218,http://www.wikidata.org/entity/Q1138599,http://www.wikidata.org/entity/Q1513561'), ('labelsObjects', \"Conseil d'Etat,Court of Audit,Constitutional Council of France,Court of Cassation,Cour de Justice de la République\")]\n",
      "[('property', 'http://www.wikidata.org/prop/direct/P530'), ('labelProperty', 'diplomatic relation'), ('objects', 'http://www.wikidata.org/entity/Q1000,http://www.wikidata.org/entity/Q1009,http://www.wikidata.org/entity/Q1011,http://www.wikidata.org/entity/Q1016,http://www.wikidata.org/entity/Q1025,http://www.wikidata.org/entity/Q1027,http://www.wikidata.org/entity/Q1028,http://www.wikidata.org/entity/Q1032,http://www.wikidata.org/entity/Q1037,http://www.wikidata.org/entity/Q1045,http://www.wikidata.org/entity/Q1246,http://www.wikidata.org/entity/Q145,http://www.wikidata.org/entity/Q148,http://www.wikidata.org/entity/Q155,http://www.wikidata.org/entity/Q159,http://www.wikidata.org/entity/Q159583,http://www.wikidata.org/entity/Q16,http://www.wikidata.org/entity/Q17,http://www.wikidata.org/entity/Q183,http://www.wikidata.org/entity/Q184,http://www.wikidata.org/entity/Q20,http://www.wikidata.org/entity/Q205047,http://www.wikidata.org/entity/Q212,http://www.wikidata.org/entity/Q218,http://www.wikidata.org/entity/Q219,http://www.wikidata.org/entity/Q222,http://www.wikidata.org/entity/Q227,http://www.wikidata.org/entity/Q228,http://www.wikidata.org/entity/Q230,http://www.wikidata.org/entity/Q235,http://www.wikidata.org/entity/Q244,http://www.wikidata.org/entity/Q252,http://www.wikidata.org/entity/Q258,http://www.wikidata.org/entity/Q262,http://www.wikidata.org/entity/Q27,http://www.wikidata.org/entity/Q28,http://www.wikidata.org/entity/Q29,http://www.wikidata.org/entity/Q298,http://www.wikidata.org/entity/Q30,http://www.wikidata.org/entity/Q31,http://www.wikidata.org/entity/Q32,http://www.wikidata.org/entity/Q33,http://www.wikidata.org/entity/Q334,http://www.wikidata.org/entity/Q34,http://www.wikidata.org/entity/Q35,http://www.wikidata.org/entity/Q36,http://www.wikidata.org/entity/Q38,http://www.wikidata.org/entity/Q39,http://www.wikidata.org/entity/Q399,http://www.wikidata.org/entity/Q40,http://www.wikidata.org/entity/Q403,http://www.wikidata.org/entity/Q408,http://www.wikidata.org/entity/Q41,http://www.wikidata.org/entity/Q414,http://www.wikidata.org/entity/Q419,http://www.wikidata.org/entity/Q424,http://www.wikidata.org/entity/Q43,http://www.wikidata.org/entity/Q657,http://www.wikidata.org/entity/Q664,http://www.wikidata.org/entity/Q668,http://www.wikidata.org/entity/Q686,http://www.wikidata.org/entity/Q691,http://www.wikidata.org/entity/Q711,http://www.wikidata.org/entity/Q712,http://www.wikidata.org/entity/Q717,http://www.wikidata.org/entity/Q730,http://www.wikidata.org/entity/Q739,http://www.wikidata.org/entity/Q754,http://www.wikidata.org/entity/Q77,http://www.wikidata.org/entity/Q79,http://www.wikidata.org/entity/Q790,http://www.wikidata.org/entity/Q794,http://www.wikidata.org/entity/Q796,http://www.wikidata.org/entity/Q801,http://www.wikidata.org/entity/Q822,http://www.wikidata.org/entity/Q833,http://www.wikidata.org/entity/Q836,http://www.wikidata.org/entity/Q843,http://www.wikidata.org/entity/Q851,http://www.wikidata.org/entity/Q858,http://www.wikidata.org/entity/Q865,http://www.wikidata.org/entity/Q869,http://www.wikidata.org/entity/Q874,http://www.wikidata.org/entity/Q878,http://www.wikidata.org/entity/Q881,http://www.wikidata.org/entity/Q884,http://www.wikidata.org/entity/Q902,http://www.wikidata.org/entity/Q916,http://www.wikidata.org/entity/Q921,http://www.wikidata.org/entity/Q948,http://www.wikidata.org/entity/Q96,http://www.wikidata.org/entity/Q967,http://www.wikidata.org/entity/Q971,http://www.wikidata.org/entity/Q977'), ('labelsObjects', \"Gabon,Cameroon,Cape Verde,Libya,Mauritania,Mauritius,Morocco,Niger,Rwanda,Somalia,Kosovo,United Kingdom,People's Republic of China,Brazil,Russia,Holy See,Canada,Japan,Germany,Belarus,Norway,Kurdistan Region,Ukraine,Romania,Bulgaria,Albania,Azerbaijan,Andorra,Georgia,Monaco,Barbados,Indonesia,South Africa,Algeria,Ireland,Hungary,Spain,Chile,United States of America,Belgium,Luxembourg,Finland,Singapore,Sweden,Denmark,Poland,Italy,Switzerland,Armenia,Austria,Serbia,Australia,Greece,Argentina,Peru,Cambodia,Turkey,Chad,New Zealand,India,Vanuatu,Papua New Guinea,Mongolia,Fiji,Venezuela,Suriname,Colombia,Trinidad and Tobago,Uruguay,Egypt,Haiti,Iran,Iraq,Israel,Lebanon,Malaysia,Myanmar,Pakistan,Saudi Arabia,Syria,Taiwan,Thailand,Turkmenistan,United Arab Emirates,Vietnam,South Korea,Bangladesh,Angola,Brunei,Tunisia,Mexico,Burundi,Republic of the Congo,Djibouti\")]\n",
      "[('property', 'http://www.wikidata.org/prop/direct/P910'), ('labelProperty', \"topic's main category\"), ('objects', 'http://www.wikidata.org/entity/Q8249'), ('labelsObjects', 'Category:France')]\n",
      "[('property', 'http://www.wikidata.org/prop/direct/P1343'), ('labelProperty', 'described by source'), ('objects', 'http://www.wikidata.org/entity/Q19180675,http://www.wikidata.org/entity/Q19538713,http://www.wikidata.org/entity/Q302556,http://www.wikidata.org/entity/Q3181656,http://www.wikidata.org/entity/Q4173137,http://www.wikidata.org/entity/Q4532138,http://www.wikidata.org/entity/Q602358,http://www.wikidata.org/entity/Q867541'), ('labelsObjects', 'Small Brockhaus and Efron Encyclopedic Dictionary,Vlastenský slovník historický,Catholic Encyclopedia,The Nuttall Encyclopædia,Jewish Encyclopedia of Brockhaus and Efron,Granat Encyclopedic Dictionary,Brockhaus and Efron Encyclopedic Dictionary,Encyclopædia Britannica 11th edition')]\n",
      "[('property', 'http://www.wikidata.org/prop/direct/P163'), ('labelProperty', 'flag'), ('objects', 'http://www.wikidata.org/entity/Q43192'), ('labelsObjects', 'flag of France')]\n",
      "[('property', 'http://www.wikidata.org/prop/direct/P418'), ('labelProperty', 'seal description'), ('objects', 'http://www.wikidata.org/entity/Q3114823'), ('labelsObjects', 'Great Seal of France')]\n",
      "50\n"
     ]
    }
   ],
   "source": [
    "queryString = \"\"\"\n",
    "SELECT DISTINCT ?property ?labelProperty (GROUP_CONCAT(?object ; separator = \",\")  AS ?objects) (GROUP_CONCAT(?labelObject; separator = \",\")  AS ?labelsObjects)\n",
    "WHERE \n",
    "{   \n",
    "   wd:Q142 ?property ?object .  \n",
    " \n",
    "   # Labels\n",
    "   ?property sc:name ?labelProperty .      \n",
    "   ?object sc:name ?labelObject\n",
    "   \n",
    "   FILTER(!isLiteral(?object)) .   \n",
    "}GROUP BY ?property ?labelProperty\n",
    "LIMIT 50\n",
    "\"\"\"\n",
    "print(\"Results\")\n",
    "x=run_query(queryString)"
   ]
  },
  {
   "cell_type": "markdown",
   "id": "d6822508-2ef9-478c-a9e8-855e4dd61dfa",
   "metadata": {
    "tags": []
   },
   "source": [
    "### Get the first 50 \"basketball team\" (wd:Q13393265) that have \"country\" (wdt:P17) equal to \"France\" (wd:Q142)"
   ]
  },
  {
   "cell_type": "code",
   "execution_count": 291,
   "id": "24f95644-2058-46db-8b02-0c59feac4842",
   "metadata": {},
   "outputs": [
    {
     "name": "stdout",
     "output_type": "stream",
     "text": [
      "Results\n",
      "[('team', 'http://www.wikidata.org/entity/Q795707'), ('labelTeam', 'BCM Gravelines')]\n",
      "[('team', 'http://www.wikidata.org/entity/Q1075934'), ('labelTeam', 'Cholet Basket')]\n",
      "[('team', 'http://www.wikidata.org/entity/Q2892731'), ('labelTeam', 'Paris Université Club')]\n",
      "[('team', 'http://www.wikidata.org/entity/Q404421'), ('labelTeam', 'STB Le Havre')]\n",
      "[('team', 'http://www.wikidata.org/entity/Q2887227'), ('labelTeam', 'Basket Landes')]\n",
      "[('team', 'http://www.wikidata.org/entity/Q40063'), ('labelTeam', 'Le Mans Sarthe Basket')]\n",
      "[('team', 'http://www.wikidata.org/entity/Q2868091'), ('labelTeam', 'AS Monaco Basket')]\n",
      "[('team', 'http://www.wikidata.org/entity/Q2352349'), ('labelTeam', 'JA Vichy')]\n",
      "[('team', 'http://www.wikidata.org/entity/Q3178083'), ('labelTeam', 'JSA Bordeaux Basket')]\n",
      "[('team', 'http://www.wikidata.org/entity/Q3532914'), ('labelTeam', 'Toulouse Métropole Basket')]\n",
      "[('team', 'http://www.wikidata.org/entity/Q3549999'), ('labelTeam', 'LDLC ASVEL féminin')]\n",
      "[('team', 'http://www.wikidata.org/entity/Q1076356'), ('labelTeam', 'Chorale Roanne Basket')]\n",
      "[('team', 'http://www.wikidata.org/entity/Q1630650'), ('labelTeam', 'JL Bourg-en-Bresse')]\n",
      "[('team', 'http://www.wikidata.org/entity/Q2819242'), ('labelTeam', 'ALM Évreux Basket')]\n",
      "[('team', 'http://www.wikidata.org/entity/Q2868120'), ('labelTeam', 'Union Tours Basket Métropole')]\n",
      "[('team', 'http://www.wikidata.org/entity/Q2931972'), ('labelTeam', 'Basket CRO Lyon')]\n",
      "[('team', 'http://www.wikidata.org/entity/Q2946452'), ('labelTeam', 'Cercle athlétique mulhousien')]\n",
      "[('team', 'http://www.wikidata.org/entity/Q3237162'), ('labelTeam', 'Levallois Sporting Club Basket')]\n",
      "[('team', 'http://www.wikidata.org/entity/Q3322888'), ('labelTeam', 'Montpellier Paillade Basket')]\n",
      "[('team', 'http://www.wikidata.org/entity/Q3423824'), ('labelTeam', 'Reims Champagne Basket')]\n",
      "[('team', 'http://www.wikidata.org/entity/Q3463255'), ('labelTeam', 'Saint-Quentin Basket-Ball')]\n",
      "[('team', 'http://www.wikidata.org/entity/Q3495942'), ('labelTeam', 'Stade Clermontois BF')]\n",
      "[('team', 'http://www.wikidata.org/entity/Q461934'), ('labelTeam', 'Stade Clermontois BA')]\n",
      "[('team', 'http://www.wikidata.org/entity/Q2887216'), ('labelTeam', 'BC Orchies')]\n",
      "[('team', 'http://www.wikidata.org/entity/Q762219'), ('labelTeam', 'SLUC Nancy Basket')]\n",
      "[('team', 'http://www.wikidata.org/entity/Q785442'), ('labelTeam', 'Boulazac Basket Dordogne')]\n",
      "[('team', 'http://www.wikidata.org/entity/Q371741'), ('labelTeam', 'Champagne Châlons-Reims Basket')]\n",
      "[('team', 'http://www.wikidata.org/entity/Q2943316'), ('labelTeam', 'Cavigal Nice Basket')]\n",
      "[('team', 'http://www.wikidata.org/entity/Q2828828'), ('labelTeam', 'Aix Maurienne Savoie Basket')]\n",
      "[('team', 'http://www.wikidata.org/entity/Q20731625'), ('labelTeam', 'JA Vichy-Clermont Métropole')]\n",
      "[('team', 'http://www.wikidata.org/entity/Q3592481'), ('labelTeam', 'Étoile de Charleville-Mézières')]\n",
      "[('team', 'http://www.wikidata.org/entity/Q274566'), ('labelTeam', 'Élan Béarnais Pau-Lacq-Orthez')]\n",
      "[('team', 'http://www.wikidata.org/entity/Q638938'), ('labelTeam', 'Paris Basket Racing')]\n",
      "[('team', 'http://www.wikidata.org/entity/Q1682230'), ('labelTeam', 'JDA Dijon Basket')]\n",
      "[('team', 'http://www.wikidata.org/entity/Q274570'), ('labelTeam', 'Élan Chalon')]\n",
      "[('team', 'http://www.wikidata.org/entity/Q1419876'), ('labelTeam', 'Limoges CSP')]\n",
      "[('team', 'http://www.wikidata.org/entity/Q1974573'), ('labelTeam', 'Tarbes Gespe Bigorre')]\n",
      "[('team', 'http://www.wikidata.org/entity/Q2737338'), ('labelTeam', 'SIG Basket')]\n",
      "[('team', 'http://www.wikidata.org/entity/Q4089'), ('labelTeam', 'ASVEL Basket')]\n",
      "[('team', 'http://www.wikidata.org/entity/Q2819001'), ('labelTeam', 'ABC Nantes')]\n",
      "[('team', 'http://www.wikidata.org/entity/Q3550518'), ('labelTeam', 'Union Sportive Valenciennes Olympic')]\n",
      "[('team', 'http://www.wikidata.org/entity/Q3373372'), ('labelTeam', \"Pays d'Aix Basket 13\")]\n",
      "[('team', 'http://www.wikidata.org/entity/Q3591940'), ('labelTeam', 'Étendard de Brest')]\n",
      "[('team', 'http://www.wikidata.org/entity/Q3496108'), ('labelTeam', 'Stade Français')]\n",
      "[('team', 'http://www.wikidata.org/entity/Q2868056'), ('labelTeam', 'ASC Denain-Voltaire PH')]\n",
      "[('team', 'http://www.wikidata.org/entity/Q3496218'), ('labelTeam', 'Stade Olympique Maritime Boulonnais')]\n",
      "[('team', 'http://www.wikidata.org/entity/Q780847'), ('labelTeam', 'USO Mondeville')]\n",
      "[('team', 'http://www.wikidata.org/entity/Q3046194'), ('labelTeam', 'ES Avignon basket-ball')]\n",
      "[('team', 'http://www.wikidata.org/entity/Q3592475'), ('labelTeam', 'ESSM Le Portel')]\n",
      "[('team', 'http://www.wikidata.org/entity/Q3592513'), ('labelTeam', 'Etoile Sportive Prisse Macon')]\n",
      "50\n"
     ]
    }
   ],
   "source": [
    "queryString = \"\"\"\n",
    "SELECT DISTINCT ?team ?labelTeam\n",
    "WHERE \n",
    "{   \n",
    "    ?team wdt:P31 wd:Q13393265 ;\n",
    "          wdt:P17 wd:Q142 ;\n",
    "          sc:name ?labelTeam .\n",
    "}\n",
    "LIMIT 50\n",
    "\"\"\"\n",
    "print(\"Results\")\n",
    "x=run_query(queryString)"
   ]
  },
  {
   "cell_type": "markdown",
   "id": "25f46e72-b4d9-43e7-b557-df1a30ae287b",
   "metadata": {
    "tags": []
   },
   "source": [
    "### Final Query"
   ]
  },
  {
   "cell_type": "markdown",
   "id": "33e12c67",
   "metadata": {},
   "source": [
    "Final query for this task"
   ]
  },
  {
   "cell_type": "code",
   "execution_count": 297,
   "id": "f3a0f4e1",
   "metadata": {},
   "outputs": [
    {
     "name": "stdout",
     "output_type": "stream",
     "text": [
      "Results\n",
      "[('team', 'http://www.wikidata.org/entity/Q2892731'), ('labelTeam', 'Paris Université Club'), ('year', '1906')]\n",
      "[('team', 'http://www.wikidata.org/entity/Q404421'), ('labelTeam', 'STB Le Havre'), ('year', '1924')]\n",
      "[('team', 'http://www.wikidata.org/entity/Q2868091'), ('labelTeam', 'AS Monaco Basket'), ('year', '1924')]\n",
      "[('team', 'http://www.wikidata.org/entity/Q1630650'), ('labelTeam', 'JL Bourg-en-Bresse'), ('year', '1910')]\n",
      "[('team', 'http://www.wikidata.org/entity/Q2868120'), ('labelTeam', 'Union Tours Basket Métropole'), ('year', '1925')]\n",
      "[('team', 'http://www.wikidata.org/entity/Q2931972'), ('labelTeam', 'Basket CRO Lyon'), ('year', '1927')]\n",
      "[('team', 'http://www.wikidata.org/entity/Q2887216'), ('labelTeam', 'BC Orchies'), ('year', '1922')]\n",
      "[('team', 'http://www.wikidata.org/entity/Q3592481'), ('labelTeam', 'Étoile de Charleville-Mézières'), ('year', '1921')]\n",
      "[('team', 'http://www.wikidata.org/entity/Q638938'), ('labelTeam', 'Paris Basket Racing'), ('year', '1922')]\n",
      "[('team', 'http://www.wikidata.org/entity/Q1682230'), ('labelTeam', 'JDA Dijon Basket'), ('year', '1880')]\n",
      "[('team', 'http://www.wikidata.org/entity/Q1419876'), ('labelTeam', 'Limoges CSP'), ('year', '1929')]\n",
      "[('team', 'http://www.wikidata.org/entity/Q2737338'), ('labelTeam', 'SIG Basket'), ('year', '1928')]\n",
      "[('team', 'http://www.wikidata.org/entity/Q3550518'), ('labelTeam', 'Union Sportive Valenciennes Olympic'), ('year', '1923')]\n",
      "[('team', 'http://www.wikidata.org/entity/Q3496108'), ('labelTeam', 'Stade Français'), ('year', '1883')]\n",
      "[('team', 'http://www.wikidata.org/entity/Q1630255'), ('labelTeam', 'SPO Rouen Basket'), ('year', '1892')]\n",
      "[('team', 'http://www.wikidata.org/entity/Q1630671'), ('labelTeam', 'Nanterre 92'), ('year', '1927')]\n",
      "[('team', 'http://www.wikidata.org/entity/Q303321'), ('labelTeam', 'Berck BC'), ('year', '1929')]\n",
      "[('team', 'http://www.wikidata.org/entity/Q783067'), ('labelTeam', 'Alsace de Bagnolet'), ('year', '1908')]\n",
      "[('team', 'http://www.wikidata.org/entity/Q3134233'), ('labelTeam', 'Hermine de Nantes Atlantique'), ('year', '1891')]\n",
      "[('team', 'http://www.wikidata.org/entity/Q3459221'), ('labelTeam', 'Stade Auto Lyon'), ('year', '1916')]\n",
      "[('team', 'http://www.wikidata.org/entity/Q3351710'), ('labelTeam', 'Olympique Lille Basket'), ('year', '1924')]\n",
      "[('team', 'http://www.wikidata.org/entity/Q2955800'), ('labelTeam', 'Championnet Sports'), ('year', '1907')]\n",
      "[('team', 'http://www.wikidata.org/entity/Q3076509'), ('labelTeam', 'FC Grenoble'), ('year', '1911')]\n",
      "[('team', 'http://www.wikidata.org/entity/Q1415460'), ('labelTeam', 'Clermont UC'), ('year', '1921')]\n",
      "[('team', 'http://www.wikidata.org/entity/Q3547512'), ('labelTeam', 'US Métro'), ('year', '1928')]\n",
      "[('team', 'http://www.wikidata.org/entity/Q2930983'), ('labelTeam', 'CAUFA Reims'), ('year', '1919')]\n",
      "26\n"
     ]
    }
   ],
   "source": [
    "queryString = \"\"\"\n",
    "SELECT DISTINCT ?team ?labelTeam ?year\n",
    "WHERE {   \n",
    "    ?team wdt:P31 wd:Q13393265 ;\n",
    "          wdt:P17 wd:Q142 ;\n",
    "          wdt:P571 ?inception ;\n",
    "          sc:name ?labelTeam .\n",
    "    BIND(YEAR(?inception) AS ?year) .\n",
    "    FILTER (?year < 1930)\n",
    "          \n",
    "}\n",
    "\"\"\"\n",
    "print(\"Results\")\n",
    "x=run_query(queryString)"
   ]
  },
  {
   "cell_type": "markdown",
   "id": "e669336d",
   "metadata": {
    "tags": []
   },
   "source": [
    "## Task 5\n",
    "Return all the NBA season (the result set must be a list of couples NBA season IRI, label)"
   ]
  },
  {
   "cell_type": "markdown",
   "id": "b424ab89-90ce-425c-8162-9bc2494c0830",
   "metadata": {
    "tags": []
   },
   "source": [
    "### Get all data property of \"National Basketball Association\" (wd:Q155223)"
   ]
  },
  {
   "cell_type": "code",
   "execution_count": 180,
   "id": "686ca75b-c964-4df8-b031-fe74b2eaf804",
   "metadata": {},
   "outputs": [
    {
     "name": "stdout",
     "output_type": "stream",
     "text": [
      "Results\n",
      "[('property', 'http://www.wikidata.org/prop/direct/P1132'), ('label', 'number of participants')]\n",
      "[('property', 'http://www.wikidata.org/prop/direct/P1273'), ('label', 'CANTIC ID')]\n",
      "[('property', 'http://www.wikidata.org/prop/direct/P1417'), ('label', 'Encyclopædia Britannica Online ID')]\n",
      "[('property', 'http://www.wikidata.org/prop/direct/P2002'), ('label', 'Twitter username')]\n",
      "[('property', 'http://www.wikidata.org/prop/direct/P2003'), ('label', 'Instagram username')]\n",
      "[('property', 'http://www.wikidata.org/prop/direct/P2013'), ('label', 'Facebook ID')]\n",
      "[('property', 'http://www.wikidata.org/prop/direct/P2088'), ('label', 'Crunchbase organization ID')]\n",
      "[('property', 'http://www.wikidata.org/prop/direct/P213'), ('label', 'ISNI')]\n",
      "[('property', 'http://www.wikidata.org/prop/direct/P214'), ('label', 'VIAF ID')]\n",
      "[('property', 'http://www.wikidata.org/prop/direct/P2257'), ('label', 'event interval')]\n",
      "[('property', 'http://www.wikidata.org/prop/direct/P227'), ('label', 'GND ID')]\n",
      "[('property', 'http://www.wikidata.org/prop/direct/P2397'), ('label', 'YouTube channel ID')]\n",
      "[('property', 'http://www.wikidata.org/prop/direct/P244'), ('label', 'Library of Congress authority ID')]\n",
      "[('property', 'http://www.wikidata.org/prop/direct/P268'), ('label', 'Bibliothèque nationale de France ID')]\n",
      "[('property', 'http://www.wikidata.org/prop/direct/P269'), ('label', 'IdRef ID')]\n",
      "[('property', 'http://www.wikidata.org/prop/direct/P2924'), ('label', 'Great Russian Encyclopedia Online ID')]\n",
      "[('property', 'http://www.wikidata.org/prop/direct/P3219'), ('label', 'Encyclopædia Universalis ID')]\n",
      "[('property', 'http://www.wikidata.org/prop/direct/P3221'), ('label', 'New York Times topic ID')]\n",
      "[('property', 'http://www.wikidata.org/prop/direct/P3417'), ('label', 'Quora topic ID')]\n",
      "[('property', 'http://www.wikidata.org/prop/direct/P3500'), ('label', 'Ringgold ID')]\n",
      "[('property', 'http://www.wikidata.org/prop/direct/P3553'), ('label', 'Zhihu topic ID')]\n",
      "[('property', 'http://www.wikidata.org/prop/direct/P373'), ('label', 'Commons category')]\n",
      "[('property', 'http://www.wikidata.org/prop/direct/P3984'), ('label', 'subreddit')]\n",
      "[('property', 'http://www.wikidata.org/prop/direct/P4013'), ('label', 'Giphy username')]\n",
      "[('property', 'http://www.wikidata.org/prop/direct/P434'), ('label', 'MusicBrainz artist ID')]\n",
      "[('property', 'http://www.wikidata.org/prop/direct/P571'), ('label', 'inception')]\n",
      "[('property', 'http://www.wikidata.org/prop/direct/P646'), ('label', 'Freebase ID')]\n",
      "[('property', 'http://www.wikidata.org/prop/direct/P691'), ('label', 'NKCR AUT ID')]\n",
      "[('property', 'http://www.wikidata.org/prop/direct/P7085'), ('label', 'TikTok username')]\n",
      "[('property', 'http://www.wikidata.org/prop/direct/P7859'), ('label', 'WorldCat Identities ID')]\n",
      "[('property', 'http://www.wikidata.org/prop/direct/P8309'), ('label', 'Yle topic ID')]\n",
      "[('property', 'http://www.wikidata.org/prop/direct/P8408'), ('label', 'KBpedia ID')]\n",
      "[('property', 'http://www.wikidata.org/prop/direct/P8672'), ('label', 'Twitter topic ID')]\n",
      "[('property', 'http://www.wikidata.org/prop/direct/P8687'), ('label', 'social media followers')]\n",
      "[('property', 'http://www.wikidata.org/prop/direct/P9035'), ('label', 'Muck Rack media outlet ID')]\n",
      "[('property', 'http://www.wikidata.org/prop/direct/P9346'), ('label', 'France24 topic ID (French)')]\n",
      "[('property', 'http://www.wikidata.org/prop/direct/P9368'), ('label', 'CNA topic ID')]\n",
      "[('property', 'http://www.wikidata.org/prop/direct/P3579'), ('label', 'Sina Weibo user ID')]\n",
      "38\n"
     ]
    }
   ],
   "source": [
    "queryString = \"\"\"\n",
    "SELECT DISTINCT ?property ?label\n",
    "WHERE {   \n",
    "   wd:Q155223 ?property ?object .\n",
    "   ?property sc:name ?label .\n",
    "   FILTER(isLiteral(?object)) .   \n",
    "}\n",
    "\"\"\"\n",
    "print(\"Results\")\n",
    "x=run_query(queryString)"
   ]
  },
  {
   "cell_type": "markdown",
   "id": "ccf64d7c-8ecf-4d19-8603-61fec7bfed80",
   "metadata": {
    "tags": []
   },
   "source": [
    "### Get all data property of \"National Basketball Association\"  (wd:Q155223) that do not contain ID"
   ]
  },
  {
   "cell_type": "code",
   "execution_count": 181,
   "id": "41b4cec4-e2a4-4109-be69-9fb23e7c076c",
   "metadata": {},
   "outputs": [
    {
     "name": "stdout",
     "output_type": "stream",
     "text": [
      "Results\n",
      "[('property', 'http://www.wikidata.org/prop/direct/P1132'), ('label', 'number of participants')]\n",
      "[('property', 'http://www.wikidata.org/prop/direct/P2002'), ('label', 'Twitter username')]\n",
      "[('property', 'http://www.wikidata.org/prop/direct/P2003'), ('label', 'Instagram username')]\n",
      "[('property', 'http://www.wikidata.org/prop/direct/P213'), ('label', 'ISNI')]\n",
      "[('property', 'http://www.wikidata.org/prop/direct/P2257'), ('label', 'event interval')]\n",
      "[('property', 'http://www.wikidata.org/prop/direct/P373'), ('label', 'Commons category')]\n",
      "[('property', 'http://www.wikidata.org/prop/direct/P3984'), ('label', 'subreddit')]\n",
      "[('property', 'http://www.wikidata.org/prop/direct/P4013'), ('label', 'Giphy username')]\n",
      "[('property', 'http://www.wikidata.org/prop/direct/P571'), ('label', 'inception')]\n",
      "[('property', 'http://www.wikidata.org/prop/direct/P7085'), ('label', 'TikTok username')]\n",
      "[('property', 'http://www.wikidata.org/prop/direct/P8687'), ('label', 'social media followers')]\n",
      "11\n"
     ]
    }
   ],
   "source": [
    "queryString = \"\"\"\n",
    "SELECT DISTINCT ?property ?label\n",
    "WHERE {   \n",
    "   wd:Q155223 ?property ?object .\n",
    "   ?property sc:name ?label .\n",
    "   FILTER(isLiteral(?object)) .\n",
    "   FILTER REGEX(?label, \"^((?!ID).)*$\") . \n",
    "}\n",
    "\"\"\"\n",
    "print(\"Results\")\n",
    "x=run_query(queryString)"
   ]
  },
  {
   "cell_type": "markdown",
   "id": "74e5c9dc-4951-4db4-a2c8-c925bf7fe49e",
   "metadata": {
    "tags": []
   },
   "source": [
    "### Get the class of \"National Basketball Association\" (wd:Q155223)"
   ]
  },
  {
   "cell_type": "code",
   "execution_count": 182,
   "id": "f5f23524-41b2-41c1-994d-33fe119458cc",
   "metadata": {},
   "outputs": [
    {
     "name": "stdout",
     "output_type": "stream",
     "text": [
      "Results\n",
      "[('class', 'http://www.wikidata.org/entity/Q18536323'), ('label', 'basketball league')]\n",
      "[('class', 'http://www.wikidata.org/entity/Q15986354'), ('label', 'basketball association')]\n",
      "[('class', 'http://www.wikidata.org/entity/Q15991290'), ('label', 'professional sports league')]\n",
      "[('class', 'http://www.wikidata.org/entity/Q7094076'), ('label', 'online database')]\n",
      "4\n"
     ]
    }
   ],
   "source": [
    "queryString = \"\"\"\n",
    "SELECT DISTINCT ?class ?label\n",
    "WHERE {   \n",
    "   wd:Q155223 wdt:P31 ?class .\n",
    "   ?class sc:name ?label .     \n",
    "}\n",
    "\"\"\"\n",
    "print(\"Results\")\n",
    "x=run_query(queryString)"
   ]
  },
  {
   "cell_type": "markdown",
   "id": "3a442c5d-0835-43bc-b59a-a4c09a5bd4fc",
   "metadata": {
    "tags": []
   },
   "source": [
    "### Get all object properties of \"National Basketball Association\"  (wd:Q155223)"
   ]
  },
  {
   "cell_type": "code",
   "execution_count": 183,
   "id": "379b3e77-1e56-438c-8db3-dbb221976684",
   "metadata": {},
   "outputs": [
    {
     "name": "stdout",
     "output_type": "stream",
     "text": [
      "Results\n",
      "[('property', 'http://www.wikidata.org/prop/direct/P6118'), ('label', 'season ends')]\n",
      "[('property', 'http://www.wikidata.org/prop/direct/P1346'), ('label', 'winner')]\n",
      "[('property', 'http://www.wikidata.org/prop/direct/P1365'), ('label', 'replaces')]\n",
      "[('property', 'http://www.wikidata.org/prop/direct/P1424'), ('label', \"topic's main template\")]\n",
      "[('property', 'http://www.wikidata.org/prop/direct/P154'), ('label', 'logo image')]\n",
      "[('property', 'http://www.wikidata.org/prop/direct/P1687'), ('label', 'Wikidata property')]\n",
      "[('property', 'http://www.wikidata.org/prop/direct/P17'), ('label', 'country')]\n",
      "[('property', 'http://www.wikidata.org/prop/direct/P18'), ('label', 'image')]\n",
      "[('property', 'http://www.wikidata.org/prop/direct/P1830'), ('label', 'owner of')]\n",
      "[('property', 'http://www.wikidata.org/prop/direct/P2094'), ('label', 'competition class')]\n",
      "[('property', 'http://www.wikidata.org/prop/direct/P2184'), ('label', 'history of topic')]\n",
      "[('property', 'http://www.wikidata.org/prop/direct/P2500'), ('label', 'league level below')]\n",
      "[('property', 'http://www.wikidata.org/prop/direct/P31'), ('label', 'instance of')]\n",
      "[('property', 'http://www.wikidata.org/prop/direct/P4794'), ('label', 'season starts')]\n",
      "[('property', 'http://www.wikidata.org/prop/direct/P527'), ('label', 'has part')]\n",
      "[('property', 'http://www.wikidata.org/prop/direct/P641'), ('label', 'sport')]\n",
      "[('property', 'http://www.wikidata.org/prop/direct/P856'), ('label', 'official website')]\n",
      "[('property', 'http://www.wikidata.org/prop/direct/P910'), ('label', \"topic's main category\")]\n",
      "18\n"
     ]
    }
   ],
   "source": [
    "queryString = \"\"\"\n",
    "SELECT DISTINCT ?property ?label\n",
    "WHERE {   \n",
    "   wd:Q155223 ?property ?object .\n",
    "   ?property sc:name ?label .\n",
    "   FILTER(!isLiteral(?object)) .   \n",
    "}\n",
    "\"\"\"\n",
    "\n",
    "print(\"Results\")\n",
    "x=run_query(queryString)"
   ]
  },
  {
   "cell_type": "markdown",
   "id": "57daf909-9d0f-4e48-9c69-5c7c1a110c04",
   "metadata": {
    "tags": []
   },
   "source": [
    "### Get all the classes connected to \"National Basketball Association\"  (wd:Q155223)"
   ]
  },
  {
   "cell_type": "code",
   "execution_count": 184,
   "id": "f76bae55-8d8f-4018-b9db-983088b9bbfa",
   "metadata": {},
   "outputs": [
    {
     "name": "stdout",
     "output_type": "stream",
     "text": [
      "Results\n",
      "[('objectClass', 'http://www.wikidata.org/entity/Q1489259'), ('label', 'superpower')]\n",
      "[('objectClass', 'http://www.wikidata.org/entity/Q22936940'), ('label', 'competition class')]\n",
      "[('objectClass', 'http://www.wikidata.org/entity/Q2001305'), ('label', 'television channel')]\n",
      "[('objectClass', 'http://www.wikidata.org/entity/Q99541706'), ('label', 'historical unrecognized state')]\n",
      "[('objectClass', 'http://www.wikidata.org/entity/Q15986354'), ('label', 'basketball association')]\n",
      "[('objectClass', 'http://www.wikidata.org/entity/Q11266439'), ('label', 'Wikimedia template')]\n",
      "[('objectClass', 'http://www.wikidata.org/entity/Q13406554'), ('label', 'sports competition')]\n",
      "[('objectClass', 'http://www.wikidata.org/entity/Q1520223'), ('label', 'constitutional republic')]\n",
      "[('objectClass', 'http://www.wikidata.org/entity/Q17524420'), ('label', 'aspect of history')]\n",
      "[('objectClass', 'http://www.wikidata.org/entity/Q18608583'), ('label', 'recurring sporting event')]\n",
      "[('objectClass', 'http://www.wikidata.org/entity/Q212434'), ('label', 'Olympic sport')]\n",
      "[('objectClass', 'http://www.wikidata.org/entity/Q31629'), ('label', 'type of sport')]\n",
      "[('objectClass', 'http://www.wikidata.org/entity/Q3624078'), ('label', 'sovereign state')]\n",
      "[('objectClass', 'http://www.wikidata.org/entity/Q4167836'), ('label', 'Wikimedia category')]\n",
      "[('objectClass', 'http://www.wikidata.org/entity/Q47018901'), ('label', 'calendar month')]\n",
      "[('objectClass', 'http://www.wikidata.org/entity/Q512187'), ('label', 'federal republic')]\n",
      "[('objectClass', 'http://www.wikidata.org/entity/Q5255892'), ('label', 'democratic republic')]\n",
      "[('objectClass', 'http://www.wikidata.org/entity/Q6256'), ('label', 'country')]\n",
      "[('objectClass', 'http://www.wikidata.org/entity/Q213441'), ('label', 'shop')]\n",
      "[('objectClass', 'http://www.wikidata.org/entity/Q4438121'), ('label', 'sports organization')]\n",
      "[('objectClass', 'http://www.wikidata.org/entity/Q107738607'), ('label', 'Wikidata property for authority control for basketball players')]\n",
      "[('objectClass', 'http://www.wikidata.org/entity/Q13393265'), ('label', 'basketball team')]\n",
      "[('objectClass', 'http://www.wikidata.org/entity/Q623109'), ('label', 'sports league')]\n",
      "[('objectClass', 'http://www.wikidata.org/entity/Q561068'), ('label', 'specialty channel')]\n",
      "[('objectClass', 'http://www.wikidata.org/entity/Q62589316'), ('label', 'Wikidata property for an identifier that suggests notability')]\n",
      "25\n"
     ]
    }
   ],
   "source": [
    "queryString = \"\"\"\n",
    "SELECT DISTINCT ?objectClass ?label\n",
    "WHERE {   \n",
    "   wd:Q155223 ?property ?object .\n",
    "   ?object wdt:P31 ?objectClass .\n",
    "   ?objectClass sc:name ?label .\n",
    "   FILTER(!isLiteral(?object)) .   \n",
    "}\n",
    "\"\"\"\n",
    "print(\"Results\")\n",
    "x=run_query(queryString)"
   ]
  },
  {
   "cell_type": "markdown",
   "id": "427eb1c0-478a-4f8f-b7c9-8977053e9f5b",
   "metadata": {
    "tags": []
   },
   "source": [
    "### Get all the couples (object property - list of the classes of the objects that are connected to \"National Basketball Association\"  (wd:Q155223) through that object property)"
   ]
  },
  {
   "cell_type": "code",
   "execution_count": 185,
   "id": "3d86dab4-dda6-4245-bc84-b1e6b95b3212",
   "metadata": {},
   "outputs": [
    {
     "name": "stdout",
     "output_type": "stream",
     "text": [
      "Results\n",
      "[('property', 'http://www.wikidata.org/prop/direct/P2184'), ('labelProperty', 'history of topic'), ('objectsClasses', 'http://www.wikidata.org/entity/Q17524420'), ('labelsObjectsClasses', 'aspect of history')]\n",
      "[('property', 'http://www.wikidata.org/prop/direct/P527'), ('labelProperty', 'has part'), ('objectsClasses', 'http://www.wikidata.org/entity/Q13406554,http://www.wikidata.org/entity/Q13406554'), ('labelsObjectsClasses', 'sports competition,sports competition')]\n",
      "[('property', 'http://www.wikidata.org/prop/direct/P1424'), ('labelProperty', \"topic's main template\"), ('objectsClasses', 'http://www.wikidata.org/entity/Q11266439'), ('labelsObjectsClasses', 'Wikimedia template')]\n",
      "[('property', 'http://www.wikidata.org/prop/direct/P17'), ('labelProperty', 'country'), ('objectsClasses', 'http://www.wikidata.org/entity/Q1489259,http://www.wikidata.org/entity/Q99541706,http://www.wikidata.org/entity/Q1520223,http://www.wikidata.org/entity/Q3624078,http://www.wikidata.org/entity/Q3624078,http://www.wikidata.org/entity/Q512187,http://www.wikidata.org/entity/Q5255892,http://www.wikidata.org/entity/Q6256,http://www.wikidata.org/entity/Q6256'), ('labelsObjectsClasses', 'superpower,historical unrecognized state,constitutional republic,sovereign state,sovereign state,federal republic,democratic republic,country,country')]\n",
      "[('property', 'http://www.wikidata.org/prop/direct/P1830'), ('labelProperty', 'owner of'), ('objectsClasses', 'http://www.wikidata.org/entity/Q2001305,http://www.wikidata.org/entity/Q18608583,http://www.wikidata.org/entity/Q213441,http://www.wikidata.org/entity/Q561068'), ('labelsObjectsClasses', 'television channel,recurring sporting event,shop,specialty channel')]\n",
      "[('property', 'http://www.wikidata.org/prop/direct/P641'), ('labelProperty', 'sport'), ('objectsClasses', 'http://www.wikidata.org/entity/Q212434,http://www.wikidata.org/entity/Q31629'), ('labelsObjectsClasses', 'Olympic sport,type of sport')]\n",
      "[('property', 'http://www.wikidata.org/prop/direct/P2500'), ('labelProperty', 'league level below'), ('objectsClasses', 'http://www.wikidata.org/entity/Q623109,http://www.wikidata.org/entity/Q623109'), ('labelsObjectsClasses', 'sports league,sports league')]\n",
      "[('property', 'http://www.wikidata.org/prop/direct/P2094'), ('labelProperty', 'competition class'), ('objectsClasses', 'http://www.wikidata.org/entity/Q22936940'), ('labelsObjectsClasses', 'competition class')]\n",
      "[('property', 'http://www.wikidata.org/prop/direct/P1365'), ('labelProperty', 'replaces'), ('objectsClasses', 'http://www.wikidata.org/entity/Q15986354'), ('labelsObjectsClasses', 'basketball association')]\n",
      "[('property', 'http://www.wikidata.org/prop/direct/P1346'), ('labelProperty', 'winner'), ('objectsClasses', 'http://www.wikidata.org/entity/Q13393265'), ('labelsObjectsClasses', 'basketball team')]\n",
      "[('property', 'http://www.wikidata.org/prop/direct/P31'), ('labelProperty', 'instance of'), ('objectsClasses', 'http://www.wikidata.org/entity/Q4438121'), ('labelsObjectsClasses', 'sports organization')]\n",
      "[('property', 'http://www.wikidata.org/prop/direct/P6118'), ('labelProperty', 'season ends'), ('objectsClasses', 'http://www.wikidata.org/entity/Q47018901'), ('labelsObjectsClasses', 'calendar month')]\n",
      "[('property', 'http://www.wikidata.org/prop/direct/P910'), ('labelProperty', \"topic's main category\"), ('objectsClasses', 'http://www.wikidata.org/entity/Q4167836'), ('labelsObjectsClasses', 'Wikimedia category')]\n",
      "[('property', 'http://www.wikidata.org/prop/direct/P1687'), ('labelProperty', 'Wikidata property'), ('objectsClasses', 'http://www.wikidata.org/entity/Q107738607,http://www.wikidata.org/entity/Q62589316'), ('labelsObjectsClasses', 'Wikidata property for authority control for basketball players,Wikidata property for an identifier that suggests notability')]\n",
      "[('property', 'http://www.wikidata.org/prop/direct/P4794'), ('labelProperty', 'season starts'), ('objectsClasses', 'http://www.wikidata.org/entity/Q47018901'), ('labelsObjectsClasses', 'calendar month')]\n",
      "15\n"
     ]
    }
   ],
   "source": [
    "queryString = \"\"\"\n",
    "SELECT DISTINCT ?property ?labelProperty (GROUP_CONCAT(?objectClass ; separator = \",\")  AS ?objectsClasses) (GROUP_CONCAT(?labelObjectClass ; separator = \",\")  AS ?labelsObjectsClasses)\n",
    "WHERE \n",
    "{   \n",
    "   wd:Q155223 ?property ?object .  \n",
    "   ?object wdt:P31 ?objectClass .\n",
    "   \n",
    "   # Labels\n",
    "   ?property sc:name ?labelProperty .      \n",
    "   ?objectClass sc:name ?labelObjectClass .\n",
    "   \n",
    "   FILTER(!isLiteral(?object)) .   \n",
    "}GROUP BY ?property ?labelProperty\n",
    "LIMIT 50\n",
    "\"\"\"\n",
    "print(\"Results\")\n",
    "x=run_query(queryString)"
   ]
  },
  {
   "cell_type": "markdown",
   "id": "f6ef7170-59ff-4770-99a2-47ee650f4a76",
   "metadata": {
    "tags": []
   },
   "source": [
    "### Get all the couples (object property - list of the  objects that are connected to \"National Basketball Association\"  (wd:Q155223) through that object property)"
   ]
  },
  {
   "cell_type": "code",
   "execution_count": 186,
   "id": "721e09bb-3a8a-43f0-910f-c2fca0190c9a",
   "metadata": {},
   "outputs": [
    {
     "name": "stdout",
     "output_type": "stream",
     "text": [
      "Results\n",
      "[('property', 'http://www.wikidata.org/prop/direct/P527'), ('labelProperty', 'has part'), ('objects', 'http://www.wikidata.org/entity/Q238240,http://www.wikidata.org/entity/Q318389'), ('labelsObjects', 'Eastern Conference,Western Conference')]\n",
      "[('property', 'http://www.wikidata.org/prop/direct/P1424'), ('labelProperty', \"topic's main template\"), ('objects', 'http://www.wikidata.org/entity/Q10950388'), ('labelsObjects', 'Template:NBA seasons')]\n",
      "[('property', 'http://www.wikidata.org/prop/direct/P17'), ('labelProperty', 'country'), ('objects', 'http://www.wikidata.org/entity/Q16,http://www.wikidata.org/entity/Q30'), ('labelsObjects', 'Canada,United States of America')]\n",
      "[('property', 'http://www.wikidata.org/prop/direct/P1830'), ('labelProperty', 'owner of'), ('objects', 'http://www.wikidata.org/entity/Q2455323,http://www.wikidata.org/entity/Q6952699,http://www.wikidata.org/entity/Q1470803'), ('labelsObjects', 'NBA TV,NBA Store,Three-Point Contest')]\n",
      "[('property', 'http://www.wikidata.org/prop/direct/P641'), ('labelProperty', 'sport'), ('objects', 'http://www.wikidata.org/entity/Q5372'), ('labelsObjects', 'basketball')]\n",
      "[('property', 'http://www.wikidata.org/prop/direct/P2500'), ('labelProperty', 'league level below'), ('objects', 'http://www.wikidata.org/entity/Q842793,http://www.wikidata.org/entity/Q1287605'), ('labelsObjects', 'NBA G League,NBA Summer League')]\n",
      "[('property', 'http://www.wikidata.org/prop/direct/P2094'), ('labelProperty', 'competition class'), ('objects', 'http://www.wikidata.org/entity/Q46343203'), ('labelsObjects', \"men's basketball\")]\n",
      "[('property', 'http://www.wikidata.org/prop/direct/P1365'), ('labelProperty', 'replaces'), ('objects', 'http://www.wikidata.org/entity/Q810343'), ('labelsObjects', 'Basketball Association of America')]\n",
      "[('property', 'http://www.wikidata.org/prop/direct/P1346'), ('labelProperty', 'winner'), ('objects', 'http://www.wikidata.org/entity/Q121783'), ('labelsObjects', 'Los Angeles Lakers')]\n",
      "[('property', 'http://www.wikidata.org/prop/direct/P31'), ('labelProperty', 'instance of'), ('objects', 'http://www.wikidata.org/entity/Q18536323,http://www.wikidata.org/entity/Q15986354,http://www.wikidata.org/entity/Q15991290,http://www.wikidata.org/entity/Q7094076'), ('labelsObjects', 'basketball league,basketball association,professional sports league,online database')]\n",
      "[('property', 'http://www.wikidata.org/prop/direct/P6118'), ('labelProperty', 'season ends'), ('objects', 'http://www.wikidata.org/entity/Q118'), ('labelsObjects', 'April')]\n",
      "[('property', 'http://www.wikidata.org/prop/direct/P910'), ('labelProperty', \"topic's main category\"), ('objects', 'http://www.wikidata.org/entity/Q8663448'), ('labelsObjects', 'Category:National Basketball Association')]\n",
      "[('property', 'http://www.wikidata.org/prop/direct/P1687'), ('labelProperty', 'Wikidata property'), ('objects', 'http://www.wikidata.org/entity/P3647'), ('labelsObjects', 'NBA.com player ID')]\n",
      "[('property', 'http://www.wikidata.org/prop/direct/P4794'), ('labelProperty', 'season starts'), ('objects', 'http://www.wikidata.org/entity/Q124'), ('labelsObjects', 'October')]\n",
      "14\n"
     ]
    }
   ],
   "source": [
    "queryString = \"\"\"\n",
    "SELECT DISTINCT ?property ?labelProperty (GROUP_CONCAT(?object ; separator = \",\")  AS ?objects) (GROUP_CONCAT(?labelObject; separator = \",\")  AS ?labelsObjects)\n",
    "WHERE \n",
    "{   \n",
    "   wd:Q155223 ?property ?object .  \n",
    " \n",
    "   # Labels\n",
    "   ?property sc:name ?labelProperty .      \n",
    "   ?object sc:name ?labelObject\n",
    "   \n",
    "   FILTER(!isLiteral(?object)) .   \n",
    "}GROUP BY ?property ?labelProperty\n",
    "LIMIT 50\n",
    "\"\"\"\n",
    "print(\"Results\")\n",
    "x=run_query(queryString)"
   ]
  },
  {
   "cell_type": "markdown",
   "id": "c72368e8-bb53-418a-833a-a1a13005f018",
   "metadata": {
    "tags": []
   },
   "source": [
    "### Get the first 25 subjects connected to \"basketball\" (wd:Q5372) with \"sport\" (wdt:P641)"
   ]
  },
  {
   "cell_type": "code",
   "execution_count": 190,
   "id": "5c42e76a-f0b9-4465-9e65-af5221c48a63",
   "metadata": {},
   "outputs": [
    {
     "name": "stdout",
     "output_type": "stream",
     "text": [
      "Results\n",
      "[('sbj', 'http://www.wikidata.org/entity/Q16191059'), ('labelSbj', \"2013–14 Atlantic Coast Conference men's basketball season\")]\n",
      "[('sbj', 'http://www.wikidata.org/entity/Q16192074'), ('labelSbj', \"2013–14 Southeastern Conference men's basketball season\")]\n",
      "[('sbj', 'http://www.wikidata.org/entity/Q19863393'), ('labelSbj', \"2008–09 Atlantic 10 Conference men's basketball season\")]\n",
      "[('sbj', 'http://www.wikidata.org/entity/Q2348425'), ('labelSbj', 'sports in Sweden')]\n",
      "[('sbj', 'http://www.wikidata.org/entity/Q2811918'), ('labelSbj', '1947 in basketball')]\n",
      "[('sbj', 'http://www.wikidata.org/entity/Q2813083'), ('labelSbj', '1991 in basketball')]\n",
      "[('sbj', 'http://www.wikidata.org/entity/Q2813265'), ('labelSbj', '1996 in basketball')]\n",
      "[('sbj', 'http://www.wikidata.org/entity/Q2813922'), ('labelSbj', '2001 in basketball')]\n",
      "[('sbj', 'http://www.wikidata.org/entity/Q2855716'), ('labelSbj', '2012–13 ACB season')]\n",
      "[('sbj', 'http://www.wikidata.org/entity/Q2948730'), ('labelSbj', \"2010 NCAA Men's Division I Basketball Tournament\")]\n",
      "[('sbj', 'http://www.wikidata.org/entity/Q2948731'), ('labelSbj', \"2012 NCAA Men's Division I Basketball Tournament\")]\n",
      "[('sbj', 'http://www.wikidata.org/entity/Q3994982'), ('labelSbj', \"2013 NCAA Men's Division I Basketball Tournament\")]\n",
      "[('sbj', 'http://www.wikidata.org/entity/Q4574588'), ('labelSbj', '1971 National Invitation Tournament')]\n",
      "[('sbj', 'http://www.wikidata.org/entity/Q4579916'), ('labelSbj', '1981 National Invitation Tournament')]\n",
      "[('sbj', 'http://www.wikidata.org/entity/Q4586199'), ('labelSbj', '1990 PBA season')]\n",
      "[('sbj', 'http://www.wikidata.org/entity/Q4586489'), ('labelSbj', '1990–91 ACB season')]\n",
      "[('sbj', 'http://www.wikidata.org/entity/Q4588674'), ('labelSbj', '1993 National Invitation Tournament')]\n",
      "[('sbj', 'http://www.wikidata.org/entity/Q4590927'), ('labelSbj', '1995–96 CBA season')]\n",
      "[('sbj', 'http://www.wikidata.org/entity/Q4598277'), ('labelSbj', \"2000–01 NCAA Division I men's basketball season\")]\n",
      "[('sbj', 'http://www.wikidata.org/entity/Q4612480'), ('labelSbj', \"2008–09 Atlantic Coast Conference men's basketball season\")]\n",
      "[('sbj', 'http://www.wikidata.org/entity/Q4615657'), ('labelSbj', \"2009–10 Colonial Athletic Association men's basketball season\")]\n",
      "[('sbj', 'http://www.wikidata.org/entity/Q4615858'), ('labelSbj', \"2009–10 Ivy League men's basketball season\")]\n",
      "[('sbj', 'http://www.wikidata.org/entity/Q4615981'), ('labelSbj', \"2009–10 NCAA Division I women's basketball season\")]\n",
      "[('sbj', 'http://www.wikidata.org/entity/Q4619773'), ('labelSbj', \"2010–11 Pacific-10 Conference men's basketball season\")]\n",
      "[('sbj', 'http://www.wikidata.org/entity/Q4621962'), ('labelSbj', '2011 National Invitation Tournament')]\n",
      "25\n"
     ]
    }
   ],
   "source": [
    "queryString = \"\"\"\n",
    "SELECT DISTINCT ?sbj ?labelSbj \n",
    "WHERE {   \n",
    "   ?sbj wdt:P641 wd:Q5372 ;\n",
    "        sc:name ?labelSbj .\n",
    "}\n",
    "LIMIT 25 \n",
    "\"\"\"\n",
    "print(\"Results\")\n",
    "x=run_query(queryString)"
   ]
  },
  {
   "cell_type": "markdown",
   "id": "67a6248b-725c-4659-be31-a05bb98a4eda",
   "metadata": {
    "tags": []
   },
   "source": [
    "### Get the first 25 subjects connected to \"basketball\" (wd:Q5372) with \"sport\" (wdt:P641) such that their label contains \"NBA season\""
   ]
  },
  {
   "cell_type": "code",
   "execution_count": 194,
   "id": "50e46520-9e34-4856-89a7-e06eb42284a0",
   "metadata": {},
   "outputs": [
    {
     "name": "stdout",
     "output_type": "stream",
     "text": [
      "Results\n",
      "[('sbj', 'http://www.wikidata.org/entity/Q600389'), ('labelSbj', '1990–91 NBA season')]\n",
      "[('sbj', 'http://www.wikidata.org/entity/Q2264531'), ('labelSbj', '1967–68 NBA season')]\n",
      "[('sbj', 'http://www.wikidata.org/entity/Q241834'), ('labelSbj', '1989–90 NBA season')]\n",
      "[('sbj', 'http://www.wikidata.org/entity/Q17186677'), ('labelSbj', 'Template:2014–15 NBA season by team')]\n",
      "[('sbj', 'http://www.wikidata.org/entity/Q602553'), ('labelSbj', '1969–70 NBA season')]\n",
      "[('sbj', 'http://www.wikidata.org/entity/Q2294127'), ('labelSbj', '1971–72 NBA season')]\n",
      "[('sbj', 'http://www.wikidata.org/entity/Q113619'), ('labelSbj', '2012–13 NBA season')]\n",
      "[('sbj', 'http://www.wikidata.org/entity/Q16191100'), ('labelSbj', '2014-15 NBA season')]\n",
      "[('sbj', 'http://www.wikidata.org/entity/Q19862716'), ('labelSbj', '2015–16 NBA season')]\n",
      "[('sbj', 'http://www.wikidata.org/entity/Q631240'), ('labelSbj', '1979–80 NBA season')]\n",
      "[('sbj', 'http://www.wikidata.org/entity/Q3255071'), ('labelSbj', 'list of 2012–13 NBA season transactions')]\n",
      "[('sbj', 'http://www.wikidata.org/entity/Q13533451'), ('labelSbj', 'Template:2013–14 NBA season by team')]\n",
      "[('sbj', 'http://www.wikidata.org/entity/Q1142320'), ('labelSbj', '2005–06 NBA season')]\n",
      "[('sbj', 'http://www.wikidata.org/entity/Q281094'), ('labelSbj', '1949–50 NBA season')]\n",
      "[('sbj', 'http://www.wikidata.org/entity/Q52702755'), ('labelSbj', '2018–19 NBA season')]\n",
      "[('sbj', 'http://www.wikidata.org/entity/Q1121549'), ('labelSbj', '2007–08 NBA season')]\n",
      "[('sbj', 'http://www.wikidata.org/entity/Q1432855'), ('labelSbj', '2003 WNBA season')]\n",
      "[('sbj', 'http://www.wikidata.org/entity/Q1517510'), ('labelSbj', '2004 WNBA season')]\n",
      "[('sbj', 'http://www.wikidata.org/entity/Q2264502'), ('labelSbj', '1961–62 NBA season')]\n",
      "[('sbj', 'http://www.wikidata.org/entity/Q6559950'), ('labelSbj', 'list of 2009–10 NBA season transactions')]\n",
      "[('sbj', 'http://www.wikidata.org/entity/Q2069853'), ('labelSbj', '1983–84 NBA season')]\n",
      "[('sbj', 'http://www.wikidata.org/entity/Q2264540'), ('labelSbj', '1975–76 NBA season')]\n",
      "[('sbj', 'http://www.wikidata.org/entity/Q548783'), ('labelSbj', '1977–78 NBA season')]\n",
      "[('sbj', 'http://www.wikidata.org/entity/Q29098111'), ('labelSbj', '2017–18 NBA season')]\n",
      "[('sbj', 'http://www.wikidata.org/entity/Q1314911'), ('labelSbj', '1998 WNBA season')]\n",
      "25\n"
     ]
    }
   ],
   "source": [
    "queryString = \"\"\"\n",
    "SELECT DISTINCT ?sbj ?labelSbj \n",
    "WHERE {   \n",
    "   ?sbj wdt:P641 wd:Q5372 ;\n",
    "        sc:name ?labelSbj .\n",
    "   FILTER CONTAINS(?labelSbj, \"NBA season\")\n",
    "}\n",
    "LIMIT 25 \n",
    "\"\"\"\n",
    "print(\"Results\")\n",
    "x=run_query(queryString)"
   ]
  },
  {
   "cell_type": "markdown",
   "id": "64158dee-cb0f-4162-b351-65f835486ce5",
   "metadata": {
    "tags": []
   },
   "source": [
    "### Get all data property of \"2018–19 NBA season\" (wd:Q52702755)"
   ]
  },
  {
   "cell_type": "code",
   "execution_count": 201,
   "id": "7a7fc471-8d24-424f-a124-6bfa0a7066ba",
   "metadata": {},
   "outputs": [
    {
     "name": "stdout",
     "output_type": "stream",
     "text": [
      "Results\n",
      "[('property', 'http://www.wikidata.org/prop/direct/P1132'), ('label', 'number of participants')]\n",
      "[('property', 'http://www.wikidata.org/prop/direct/P1350'), ('label', 'number of matches played/races/starts')]\n",
      "[('property', 'http://www.wikidata.org/prop/direct/P2671'), ('label', 'Google Knowledge Graph ID')]\n",
      "[('property', 'http://www.wikidata.org/prop/direct/P3553'), ('label', 'Zhihu topic ID')]\n",
      "[('property', 'http://www.wikidata.org/prop/direct/P393'), ('label', 'edition number')]\n",
      "[('property', 'http://www.wikidata.org/prop/direct/P580'), ('label', 'start time')]\n",
      "[('property', 'http://www.wikidata.org/prop/direct/P582'), ('label', 'end time')]\n",
      "7\n"
     ]
    }
   ],
   "source": [
    "queryString = \"\"\"\n",
    "SELECT DISTINCT ?property ?label\n",
    "WHERE {   \n",
    "   wd:Q52702755 ?property ?object .\n",
    "   ?property sc:name ?label .\n",
    "   FILTER(isLiteral(?object)) .   \n",
    "}\n",
    "\"\"\"\n",
    "print(\"Results\")\n",
    "x=run_query(queryString)"
   ]
  },
  {
   "cell_type": "markdown",
   "id": "a5ed5ad3-a74f-4939-9131-0d76e7910364",
   "metadata": {
    "tags": []
   },
   "source": [
    "### Get all data property of \"2018–19 NBA season\"  (wd:Q52702755) that do not contain ID"
   ]
  },
  {
   "cell_type": "code",
   "execution_count": 200,
   "id": "1e3c5ffd-8ca0-43b9-a186-5fdf079abd4d",
   "metadata": {},
   "outputs": [
    {
     "name": "stdout",
     "output_type": "stream",
     "text": [
      "Results\n",
      "[('property', 'http://www.wikidata.org/prop/direct/P1132'), ('label', 'number of participants')]\n",
      "[('property', 'http://www.wikidata.org/prop/direct/P1350'), ('label', 'number of matches played/races/starts')]\n",
      "[('property', 'http://www.wikidata.org/prop/direct/P393'), ('label', 'edition number')]\n",
      "[('property', 'http://www.wikidata.org/prop/direct/P580'), ('label', 'start time')]\n",
      "[('property', 'http://www.wikidata.org/prop/direct/P582'), ('label', 'end time')]\n",
      "5\n"
     ]
    }
   ],
   "source": [
    "queryString = \"\"\"\n",
    "SELECT DISTINCT ?property ?label\n",
    "WHERE {   \n",
    "   wd:Q52702755 ?property ?object .\n",
    "   ?property sc:name ?label .\n",
    "   FILTER(isLiteral(?object)) .\n",
    "   FILTER REGEX(?label, \"^((?!ID).)*$\") . \n",
    "}\n",
    "\"\"\"\n",
    "print(\"Results\")\n",
    "x=run_query(queryString)"
   ]
  },
  {
   "cell_type": "markdown",
   "id": "b8491eec-d109-4dcd-ba82-b7277d1a85cb",
   "metadata": {
    "tags": []
   },
   "source": [
    "### Get the class of \"2018–19 NBA season\" (wd:Q52702755)"
   ]
  },
  {
   "cell_type": "code",
   "execution_count": 199,
   "id": "72c3a670-649f-4e24-a8ba-30552d95f091",
   "metadata": {},
   "outputs": [
    {
     "name": "stdout",
     "output_type": "stream",
     "text": [
      "Results\n",
      "[('class', 'http://www.wikidata.org/entity/Q27020041'), ('label', 'sports season')]\n",
      "1\n"
     ]
    }
   ],
   "source": [
    "queryString = \"\"\"\n",
    "SELECT DISTINCT ?class ?label\n",
    "WHERE {   \n",
    "   wd:Q52702755 wdt:P31 ?class .\n",
    "   ?class sc:name ?label .     \n",
    "}\n",
    "\"\"\"\n",
    "print(\"Results\")\n",
    "x=run_query(queryString)"
   ]
  },
  {
   "cell_type": "markdown",
   "id": "83517a2c-b59d-4772-a4bc-f74e573b6834",
   "metadata": {
    "tags": []
   },
   "source": [
    "### Get all object properties of \"2018–19 NBA season\"  (wd:Q52702755)"
   ]
  },
  {
   "cell_type": "code",
   "execution_count": 198,
   "id": "636d4cb8-26ec-4f50-b495-c3508b4361a1",
   "metadata": {},
   "outputs": [
    {
     "name": "stdout",
     "output_type": "stream",
     "text": [
      "Results\n",
      "[('property', 'http://www.wikidata.org/prop/direct/P1346'), ('label', 'winner')]\n",
      "[('property', 'http://www.wikidata.org/prop/direct/P17'), ('label', 'country')]\n",
      "[('property', 'http://www.wikidata.org/prop/direct/P2094'), ('label', 'competition class')]\n",
      "[('property', 'http://www.wikidata.org/prop/direct/P2348'), ('label', 'time period')]\n",
      "[('property', 'http://www.wikidata.org/prop/direct/P31'), ('label', 'instance of')]\n",
      "[('property', 'http://www.wikidata.org/prop/direct/P3450'), ('label', 'sports season of league or competition')]\n",
      "[('property', 'http://www.wikidata.org/prop/direct/P641'), ('label', 'sport')]\n",
      "[('property', 'http://www.wikidata.org/prop/direct/P664'), ('label', 'organizer')]\n",
      "[('property', 'http://www.wikidata.org/prop/direct/P856'), ('label', 'official website')]\n",
      "[('property', 'http://www.wikidata.org/prop/direct/P910'), ('label', \"topic's main category\")]\n",
      "[('property', 'http://www.wikidata.org/prop/direct/P647'), ('label', 'drafted by')]\n",
      "11\n"
     ]
    }
   ],
   "source": [
    "queryString = \"\"\"\n",
    "SELECT DISTINCT ?property ?label\n",
    "WHERE {   \n",
    "   wd:Q52702755 ?property ?object .\n",
    "   ?property sc:name ?label .\n",
    "   FILTER(!isLiteral(?object)) .   \n",
    "}\n",
    "\"\"\"\n",
    "\n",
    "print(\"Results\")\n",
    "x=run_query(queryString)"
   ]
  },
  {
   "cell_type": "markdown",
   "id": "cd387c04-3852-4468-a1e1-ba3c4e740c3f",
   "metadata": {
    "tags": []
   },
   "source": [
    "### Get all the classes connected to \"2018–19 NBA season\"  (wd:Q52702755)"
   ]
  },
  {
   "cell_type": "code",
   "execution_count": 197,
   "id": "96f15d53-ab53-4643-aa7f-06344e532c42",
   "metadata": {},
   "outputs": [
    {
     "name": "stdout",
     "output_type": "stream",
     "text": [
      "Results\n",
      "[('objectClass', 'http://www.wikidata.org/entity/Q1489259'), ('label', 'superpower')]\n",
      "[('objectClass', 'http://www.wikidata.org/entity/Q22936940'), ('label', 'competition class')]\n",
      "[('objectClass', 'http://www.wikidata.org/entity/Q99541706'), ('label', 'historical unrecognized state')]\n",
      "[('objectClass', 'http://www.wikidata.org/entity/Q18536323'), ('label', 'basketball league')]\n",
      "[('objectClass', 'http://www.wikidata.org/entity/Q622521'), ('label', 'National Basketball Association Draft')]\n",
      "[('objectClass', 'http://www.wikidata.org/entity/Q15986354'), ('label', 'basketball association')]\n",
      "[('objectClass', 'http://www.wikidata.org/entity/Q1520223'), ('label', 'constitutional republic')]\n",
      "[('objectClass', 'http://www.wikidata.org/entity/Q15991290'), ('label', 'professional sports league')]\n",
      "[('objectClass', 'http://www.wikidata.org/entity/Q212434'), ('label', 'Olympic sport')]\n",
      "[('objectClass', 'http://www.wikidata.org/entity/Q31629'), ('label', 'type of sport')]\n",
      "[('objectClass', 'http://www.wikidata.org/entity/Q3624078'), ('label', 'sovereign state')]\n",
      "[('objectClass', 'http://www.wikidata.org/entity/Q4167836'), ('label', 'Wikimedia category')]\n",
      "[('objectClass', 'http://www.wikidata.org/entity/Q512187'), ('label', 'federal republic')]\n",
      "[('objectClass', 'http://www.wikidata.org/entity/Q5255892'), ('label', 'democratic republic')]\n",
      "[('objectClass', 'http://www.wikidata.org/entity/Q6256'), ('label', 'country')]\n",
      "[('objectClass', 'http://www.wikidata.org/entity/Q7094076'), ('label', 'online database')]\n",
      "[('objectClass', 'http://www.wikidata.org/entity/Q13393265'), ('label', 'basketball team')]\n",
      "[('objectClass', 'http://www.wikidata.org/entity/Q61685689'), ('label', 'tournament system')]\n",
      "[('objectClass', 'http://www.wikidata.org/entity/Q30227593'), ('label', 'one-year-period overlapping two calendar years')]\n",
      "19\n"
     ]
    }
   ],
   "source": [
    "queryString = \"\"\"\n",
    "SELECT DISTINCT ?objectClass ?label\n",
    "WHERE {   \n",
    "   wd:Q52702755 ?property ?object .\n",
    "   ?object wdt:P31 ?objectClass .\n",
    "   ?objectClass sc:name ?label .\n",
    "   FILTER(!isLiteral(?object)) .   \n",
    "}\n",
    "\"\"\"\n",
    "print(\"Results\")\n",
    "x=run_query(queryString)"
   ]
  },
  {
   "cell_type": "markdown",
   "id": "ffd9c327-1fc3-48be-9b77-7f937d878daf",
   "metadata": {
    "tags": []
   },
   "source": [
    "### Get all the couples (object property - list of the classes of the objects that are connected to \"2018–19 NBA season\"  (wd:Q52702755) through that object property)"
   ]
  },
  {
   "cell_type": "code",
   "execution_count": 196,
   "id": "cd2cc741-d0e9-42dd-bf1a-50923e3b7b3e",
   "metadata": {},
   "outputs": [
    {
     "name": "stdout",
     "output_type": "stream",
     "text": [
      "Results\n",
      "[('property', 'http://www.wikidata.org/prop/direct/P647'), ('labelProperty', 'drafted by'), ('objectsClasses', 'http://www.wikidata.org/entity/Q622521'), ('labelsObjectsClasses', 'National Basketball Association Draft')]\n",
      "[('property', 'http://www.wikidata.org/prop/direct/P17'), ('labelProperty', 'country'), ('objectsClasses', 'http://www.wikidata.org/entity/Q1489259,http://www.wikidata.org/entity/Q99541706,http://www.wikidata.org/entity/Q1520223,http://www.wikidata.org/entity/Q3624078,http://www.wikidata.org/entity/Q3624078,http://www.wikidata.org/entity/Q512187,http://www.wikidata.org/entity/Q5255892,http://www.wikidata.org/entity/Q6256,http://www.wikidata.org/entity/Q6256'), ('labelsObjectsClasses', 'superpower,historical unrecognized state,constitutional republic,sovereign state,sovereign state,federal republic,democratic republic,country,country')]\n",
      "[('property', 'http://www.wikidata.org/prop/direct/P3450'), ('labelProperty', 'sports season of league or competition'), ('objectsClasses', 'http://www.wikidata.org/entity/Q18536323,http://www.wikidata.org/entity/Q15986354,http://www.wikidata.org/entity/Q15991290,http://www.wikidata.org/entity/Q7094076'), ('labelsObjectsClasses', 'basketball league,basketball association,professional sports league,online database')]\n",
      "[('property', 'http://www.wikidata.org/prop/direct/P641'), ('labelProperty', 'sport'), ('objectsClasses', 'http://www.wikidata.org/entity/Q212434,http://www.wikidata.org/entity/Q31629'), ('labelsObjectsClasses', 'Olympic sport,type of sport')]\n",
      "[('property', 'http://www.wikidata.org/prop/direct/P664'), ('labelProperty', 'organizer'), ('objectsClasses', 'http://www.wikidata.org/entity/Q18536323,http://www.wikidata.org/entity/Q15986354,http://www.wikidata.org/entity/Q15991290,http://www.wikidata.org/entity/Q7094076'), ('labelsObjectsClasses', 'basketball league,basketball association,professional sports league,online database')]\n",
      "[('property', 'http://www.wikidata.org/prop/direct/P2094'), ('labelProperty', 'competition class'), ('objectsClasses', 'http://www.wikidata.org/entity/Q22936940'), ('labelsObjectsClasses', 'competition class')]\n",
      "[('property', 'http://www.wikidata.org/prop/direct/P2348'), ('labelProperty', 'time period'), ('objectsClasses', 'http://www.wikidata.org/entity/Q30227593'), ('labelsObjectsClasses', 'one-year-period overlapping two calendar years')]\n",
      "[('property', 'http://www.wikidata.org/prop/direct/P1346'), ('labelProperty', 'winner'), ('objectsClasses', 'http://www.wikidata.org/entity/Q13393265'), ('labelsObjectsClasses', 'basketball team')]\n",
      "[('property', 'http://www.wikidata.org/prop/direct/P31'), ('labelProperty', 'instance of'), ('objectsClasses', 'http://www.wikidata.org/entity/Q61685689'), ('labelsObjectsClasses', 'tournament system')]\n",
      "[('property', 'http://www.wikidata.org/prop/direct/P910'), ('labelProperty', \"topic's main category\"), ('objectsClasses', 'http://www.wikidata.org/entity/Q4167836'), ('labelsObjectsClasses', 'Wikimedia category')]\n",
      "10\n"
     ]
    }
   ],
   "source": [
    "queryString = \"\"\"\n",
    "SELECT DISTINCT ?property ?labelProperty (GROUP_CONCAT(?objectClass ; separator = \",\")  AS ?objectsClasses) (GROUP_CONCAT(?labelObjectClass ; separator = \",\")  AS ?labelsObjectsClasses)\n",
    "WHERE \n",
    "{   \n",
    "   wd:Q52702755 ?property ?object .  \n",
    "   ?object wdt:P31 ?objectClass .\n",
    "   \n",
    "   # Labels\n",
    "   ?property sc:name ?labelProperty .      \n",
    "   ?objectClass sc:name ?labelObjectClass .\n",
    "   \n",
    "   FILTER(!isLiteral(?object)) .   \n",
    "}GROUP BY ?property ?labelProperty\n",
    "LIMIT 50\n",
    "\"\"\"\n",
    "print(\"Results\")\n",
    "x=run_query(queryString)"
   ]
  },
  {
   "cell_type": "markdown",
   "id": "14a09039-a846-4844-80e5-3747c7125755",
   "metadata": {
    "tags": []
   },
   "source": [
    "### Get all the couples (object property - list of the  objects that are connected to \"2018–19 NBA season\"  (wd:Q52702755) through that object property)"
   ]
  },
  {
   "cell_type": "code",
   "execution_count": 195,
   "id": "89f25146-b7e5-4666-ab19-711d359c805e",
   "metadata": {},
   "outputs": [
    {
     "name": "stdout",
     "output_type": "stream",
     "text": [
      "Results\n",
      "[('property', 'http://www.wikidata.org/prop/direct/P647'), ('labelProperty', 'drafted by'), ('objects', 'http://www.wikidata.org/entity/Q47329390'), ('labelsObjects', '2018 NBA draft')]\n",
      "[('property', 'http://www.wikidata.org/prop/direct/P17'), ('labelProperty', 'country'), ('objects', 'http://www.wikidata.org/entity/Q16,http://www.wikidata.org/entity/Q30'), ('labelsObjects', 'Canada,United States of America')]\n",
      "[('property', 'http://www.wikidata.org/prop/direct/P3450'), ('labelProperty', 'sports season of league or competition'), ('objects', 'http://www.wikidata.org/entity/Q155223'), ('labelsObjects', 'National Basketball Association')]\n",
      "[('property', 'http://www.wikidata.org/prop/direct/P641'), ('labelProperty', 'sport'), ('objects', 'http://www.wikidata.org/entity/Q5372'), ('labelsObjects', 'basketball')]\n",
      "[('property', 'http://www.wikidata.org/prop/direct/P664'), ('labelProperty', 'organizer'), ('objects', 'http://www.wikidata.org/entity/Q155223'), ('labelsObjects', 'National Basketball Association')]\n",
      "[('property', 'http://www.wikidata.org/prop/direct/P2094'), ('labelProperty', 'competition class'), ('objects', 'http://www.wikidata.org/entity/Q46343203'), ('labelsObjects', \"men's basketball\")]\n",
      "[('property', 'http://www.wikidata.org/prop/direct/P2348'), ('labelProperty', 'time period'), ('objects', 'http://www.wikidata.org/entity/Q52394608'), ('labelsObjects', '2018–2019 one-year-period')]\n",
      "[('property', 'http://www.wikidata.org/prop/direct/P1346'), ('labelProperty', 'winner'), ('objects', 'http://www.wikidata.org/entity/Q132880'), ('labelsObjects', 'Toronto Raptors')]\n",
      "[('property', 'http://www.wikidata.org/prop/direct/P31'), ('labelProperty', 'instance of'), ('objects', 'http://www.wikidata.org/entity/Q27020041'), ('labelsObjects', 'sports season')]\n",
      "[('property', 'http://www.wikidata.org/prop/direct/P910'), ('labelProperty', \"topic's main category\"), ('objects', 'http://www.wikidata.org/entity/Q30775842'), ('labelsObjects', 'Category:2018–19 NBA season')]\n",
      "10\n"
     ]
    }
   ],
   "source": [
    "queryString = \"\"\"\n",
    "SELECT DISTINCT ?property ?labelProperty (GROUP_CONCAT(?object ; separator = \",\")  AS ?objects) (GROUP_CONCAT(?labelObject; separator = \",\")  AS ?labelsObjects)\n",
    "WHERE \n",
    "{   \n",
    "   wd:Q52702755 ?property ?object .  \n",
    " \n",
    "   # Labels\n",
    "   ?property sc:name ?labelProperty .      \n",
    "   ?object sc:name ?labelObject\n",
    "   \n",
    "   FILTER(!isLiteral(?object)) .   \n",
    "}GROUP BY ?property ?labelProperty\n",
    "LIMIT 50\n",
    "\"\"\"\n",
    "print(\"Results\")\n",
    "x=run_query(queryString)"
   ]
  },
  {
   "cell_type": "markdown",
   "id": "63f52a96-c7cc-40c7-8f28-5c572b1d3662",
   "metadata": {
    "tags": []
   },
   "source": [
    "### Get all \"sports season\" (wd:Q27020041) that have \"sports season of league or competition\" (wdt:P3450) \"National Basketball Association\" (wd:Q155223) without \"Summer\" and \"BAA\" in the label"
   ]
  },
  {
   "cell_type": "code",
   "execution_count": 213,
   "id": "f00acf30-3238-4bc0-9d62-1885f8ea2239",
   "metadata": {},
   "outputs": [
    {
     "name": "stdout",
     "output_type": "stream",
     "text": [
      "Results\n",
      "[('season', 'http://www.wikidata.org/entity/Q106495853'), ('labelSeason', '2021–22 NBA season')]\n",
      "[('season', 'http://www.wikidata.org/entity/Q96083208'), ('labelSeason', '2020–21 NBA season')]\n",
      "[('season', 'http://www.wikidata.org/entity/Q63637259'), ('labelSeason', '2019–20 NBA season')]\n",
      "[('season', 'http://www.wikidata.org/entity/Q52702755'), ('labelSeason', '2018–19 NBA season')]\n",
      "[('season', 'http://www.wikidata.org/entity/Q29098111'), ('labelSeason', '2017–18 NBA season')]\n",
      "[('season', 'http://www.wikidata.org/entity/Q23939796'), ('labelSeason', '2016–17 NBA season')]\n",
      "[('season', 'http://www.wikidata.org/entity/Q19862716'), ('labelSeason', '2015–16 NBA season')]\n",
      "[('season', 'http://www.wikidata.org/entity/Q16191100'), ('labelSeason', '2014-15 NBA season')]\n",
      "[('season', 'http://www.wikidata.org/entity/Q11144228'), ('labelSeason', '2013–14 NBA season')]\n",
      "[('season', 'http://www.wikidata.org/entity/Q113619'), ('labelSeason', '2012–13 NBA season')]\n",
      "[('season', 'http://www.wikidata.org/entity/Q1255750'), ('labelSeason', '2011–12 NBA season')]\n",
      "[('season', 'http://www.wikidata.org/entity/Q1143957'), ('labelSeason', '2010–11 NBA season')]\n",
      "[('season', 'http://www.wikidata.org/entity/Q1130071'), ('labelSeason', '2009–10 NBA season')]\n",
      "[('season', 'http://www.wikidata.org/entity/Q1130082'), ('labelSeason', '2008–09 NBA season')]\n",
      "[('season', 'http://www.wikidata.org/entity/Q1121549'), ('labelSeason', '2007–08 NBA season')]\n",
      "[('season', 'http://www.wikidata.org/entity/Q997459'), ('labelSeason', '2006–07 NBA season')]\n",
      "[('season', 'http://www.wikidata.org/entity/Q1142320'), ('labelSeason', '2005–06 NBA season')]\n",
      "[('season', 'http://www.wikidata.org/entity/Q941115'), ('labelSeason', '2004–05 NBA season')]\n",
      "[('season', 'http://www.wikidata.org/entity/Q1132659'), ('labelSeason', '2003–04 NBA season')]\n",
      "[('season', 'http://www.wikidata.org/entity/Q1135932'), ('labelSeason', '2002–03 NBA season')]\n",
      "[('season', 'http://www.wikidata.org/entity/Q1132622'), ('labelSeason', '2001–02 NBA season')]\n",
      "[('season', 'http://www.wikidata.org/entity/Q1132667'), ('labelSeason', '2000–01 NBA season')]\n",
      "[('season', 'http://www.wikidata.org/entity/Q1132641'), ('labelSeason', '1999–2000 NBA season')]\n",
      "[('season', 'http://www.wikidata.org/entity/Q1321776'), ('labelSeason', '1998–99 NBA season')]\n",
      "[('season', 'http://www.wikidata.org/entity/Q925570'), ('labelSeason', '1997–98 NBA season')]\n",
      "[('season', 'http://www.wikidata.org/entity/Q1321749'), ('labelSeason', '1996–97 NBA season')]\n",
      "[('season', 'http://www.wikidata.org/entity/Q1321737'), ('labelSeason', '1995–96 NBA season')]\n",
      "[('season', 'http://www.wikidata.org/entity/Q1164516'), ('labelSeason', '1994–95 NBA season')]\n",
      "[('season', 'http://www.wikidata.org/entity/Q1165925'), ('labelSeason', '1993–94 NBA season')]\n",
      "[('season', 'http://www.wikidata.org/entity/Q1164506'), ('labelSeason', '1992–93 NBA season')]\n",
      "[('season', 'http://www.wikidata.org/entity/Q517679'), ('labelSeason', '1991–92 NBA season')]\n",
      "[('season', 'http://www.wikidata.org/entity/Q600389'), ('labelSeason', '1990–91 NBA season')]\n",
      "[('season', 'http://www.wikidata.org/entity/Q241834'), ('labelSeason', '1989–90 NBA season')]\n",
      "[('season', 'http://www.wikidata.org/entity/Q1341019'), ('labelSeason', '1988–89 NBA season')]\n",
      "[('season', 'http://www.wikidata.org/entity/Q1986458'), ('labelSeason', '1987–88 NBA season')]\n",
      "[('season', 'http://www.wikidata.org/entity/Q2069838'), ('labelSeason', '1986–87 NBA season')]\n",
      "[('season', 'http://www.wikidata.org/entity/Q2069819'), ('labelSeason', '1985–86 NBA season')]\n",
      "[('season', 'http://www.wikidata.org/entity/Q1986727'), ('labelSeason', '1984–85 NBA season')]\n",
      "[('season', 'http://www.wikidata.org/entity/Q2069853'), ('labelSeason', '1983–84 NBA season')]\n",
      "[('season', 'http://www.wikidata.org/entity/Q2067173'), ('labelSeason', '1982–83 NBA season')]\n",
      "[('season', 'http://www.wikidata.org/entity/Q2069861'), ('labelSeason', '1981–82 NBA season')]\n",
      "[('season', 'http://www.wikidata.org/entity/Q2069810'), ('labelSeason', '1980–81 NBA season')]\n",
      "[('season', 'http://www.wikidata.org/entity/Q631240'), ('labelSeason', '1979–80 NBA season')]\n",
      "[('season', 'http://www.wikidata.org/entity/Q2067270'), ('labelSeason', '1978–79 NBA season')]\n",
      "[('season', 'http://www.wikidata.org/entity/Q548783'), ('labelSeason', '1977–78 NBA season')]\n",
      "[('season', 'http://www.wikidata.org/entity/Q2069829'), ('labelSeason', '1976–77 NBA season')]\n",
      "[('season', 'http://www.wikidata.org/entity/Q2264540'), ('labelSeason', '1975–76 NBA season')]\n",
      "[('season', 'http://www.wikidata.org/entity/Q2264551'), ('labelSeason', '1974–75 NBA season')]\n",
      "[('season', 'http://www.wikidata.org/entity/Q2264581'), ('labelSeason', '1973–74 NBA season')]\n",
      "[('season', 'http://www.wikidata.org/entity/Q389447'), ('labelSeason', '1972–73 NBA season')]\n",
      "[('season', 'http://www.wikidata.org/entity/Q2294127'), ('labelSeason', '1971–72 NBA season')]\n",
      "[('season', 'http://www.wikidata.org/entity/Q929005'), ('labelSeason', '1970–71 NBA season')]\n",
      "[('season', 'http://www.wikidata.org/entity/Q602553'), ('labelSeason', '1969–70 NBA season')]\n",
      "[('season', 'http://www.wikidata.org/entity/Q2264593'), ('labelSeason', '1968–69 NBA season')]\n",
      "[('season', 'http://www.wikidata.org/entity/Q2264531'), ('labelSeason', '1967–68 NBA season')]\n",
      "[('season', 'http://www.wikidata.org/entity/Q2294141'), ('labelSeason', '1966–67 NBA season')]\n",
      "[('season', 'http://www.wikidata.org/entity/Q1464834'), ('labelSeason', '1965–66 NBA season')]\n",
      "[('season', 'http://www.wikidata.org/entity/Q2264628'), ('labelSeason', '1964–65 NBA season')]\n",
      "[('season', 'http://www.wikidata.org/entity/Q2264522'), ('labelSeason', '1963–64 NBA season')]\n",
      "[('season', 'http://www.wikidata.org/entity/Q2264617'), ('labelSeason', '1962–63 NBA season')]\n",
      "[('season', 'http://www.wikidata.org/entity/Q2264502'), ('labelSeason', '1961–62 NBA season')]\n",
      "[('season', 'http://www.wikidata.org/entity/Q2264512'), ('labelSeason', '1960–61 NBA season')]\n",
      "[('season', 'http://www.wikidata.org/entity/Q2069909'), ('labelSeason', '1959–60 NBA season')]\n",
      "[('season', 'http://www.wikidata.org/entity/Q2264639'), ('labelSeason', '1958–59 NBA season')]\n",
      "[('season', 'http://www.wikidata.org/entity/Q2264605'), ('labelSeason', '1957–58 NBA season')]\n",
      "[('season', 'http://www.wikidata.org/entity/Q2264490'), ('labelSeason', '1956–57 NBA season')]\n",
      "[('season', 'http://www.wikidata.org/entity/Q2264563'), ('labelSeason', '1955–56 NBA season')]\n",
      "[('season', 'http://www.wikidata.org/entity/Q2264571'), ('labelSeason', '1954–55 NBA season')]\n",
      "[('season', 'http://www.wikidata.org/entity/Q1999399'), ('labelSeason', '1953–54 NBA season')]\n",
      "[('season', 'http://www.wikidata.org/entity/Q1999389'), ('labelSeason', '1952–53 NBA season')]\n",
      "[('season', 'http://www.wikidata.org/entity/Q2001832'), ('labelSeason', '1951–52 NBA season')]\n",
      "[('season', 'http://www.wikidata.org/entity/Q1999363'), ('labelSeason', '1950–51 NBA season')]\n",
      "[('season', 'http://www.wikidata.org/entity/Q281094'), ('labelSeason', '1949–50 NBA season')]\n",
      "73\n"
     ]
    }
   ],
   "source": [
    "queryString = \"\"\"\n",
    "SELECT DISTINCT ?season ?labelSeason \n",
    "WHERE \n",
    "{   \n",
    "    ?season wdt:P31 wd:Q27020041 ;\n",
    "            wdt:P3450 wd:Q155223 ;\n",
    "            sc:name ?labelSeason .\n",
    "    FILTER (!REGEX (?labelSeason, \"Summer\") && !REGEX(?labelSeason, \"BAA\"))\n",
    "            \n",
    "}ORDER BY DESC (?labelSeason)\n",
    "\"\"\"\n",
    "print(\"Results\")\n",
    "x=run_query(queryString)"
   ]
  },
  {
   "cell_type": "markdown",
   "id": "17aaf184-7943-4798-b9c2-ec895ae6d5ca",
   "metadata": {
    "tags": []
   },
   "source": [
    "### Final Query"
   ]
  },
  {
   "cell_type": "markdown",
   "id": "38e67596",
   "metadata": {},
   "source": [
    "Final query for this task"
   ]
  },
  {
   "cell_type": "code",
   "execution_count": 214,
   "id": "091a07cd",
   "metadata": {},
   "outputs": [
    {
     "name": "stdout",
     "output_type": "stream",
     "text": [
      "Results\n",
      "[('season', 'http://www.wikidata.org/entity/Q600389'), ('labelSeason', '1990–91 NBA season')]\n",
      "[('season', 'http://www.wikidata.org/entity/Q2264531'), ('labelSeason', '1967–68 NBA season')]\n",
      "[('season', 'http://www.wikidata.org/entity/Q241834'), ('labelSeason', '1989–90 NBA season')]\n",
      "[('season', 'http://www.wikidata.org/entity/Q602553'), ('labelSeason', '1969–70 NBA season')]\n",
      "[('season', 'http://www.wikidata.org/entity/Q2294127'), ('labelSeason', '1971–72 NBA season')]\n",
      "[('season', 'http://www.wikidata.org/entity/Q113619'), ('labelSeason', '2012–13 NBA season')]\n",
      "[('season', 'http://www.wikidata.org/entity/Q16191100'), ('labelSeason', '2014-15 NBA season')]\n",
      "[('season', 'http://www.wikidata.org/entity/Q19862716'), ('labelSeason', '2015–16 NBA season')]\n",
      "[('season', 'http://www.wikidata.org/entity/Q631240'), ('labelSeason', '1979–80 NBA season')]\n",
      "[('season', 'http://www.wikidata.org/entity/Q1142320'), ('labelSeason', '2005–06 NBA season')]\n",
      "[('season', 'http://www.wikidata.org/entity/Q281094'), ('labelSeason', '1949–50 NBA season')]\n",
      "[('season', 'http://www.wikidata.org/entity/Q52702755'), ('labelSeason', '2018–19 NBA season')]\n",
      "[('season', 'http://www.wikidata.org/entity/Q1121549'), ('labelSeason', '2007–08 NBA season')]\n",
      "[('season', 'http://www.wikidata.org/entity/Q2264502'), ('labelSeason', '1961–62 NBA season')]\n",
      "[('season', 'http://www.wikidata.org/entity/Q2069853'), ('labelSeason', '1983–84 NBA season')]\n",
      "[('season', 'http://www.wikidata.org/entity/Q2264540'), ('labelSeason', '1975–76 NBA season')]\n",
      "[('season', 'http://www.wikidata.org/entity/Q548783'), ('labelSeason', '1977–78 NBA season')]\n",
      "[('season', 'http://www.wikidata.org/entity/Q29098111'), ('labelSeason', '2017–18 NBA season')]\n",
      "[('season', 'http://www.wikidata.org/entity/Q1255750'), ('labelSeason', '2011–12 NBA season')]\n",
      "[('season', 'http://www.wikidata.org/entity/Q2069810'), ('labelSeason', '1980–81 NBA season')]\n",
      "[('season', 'http://www.wikidata.org/entity/Q1132622'), ('labelSeason', '2001–02 NBA season')]\n",
      "[('season', 'http://www.wikidata.org/entity/Q1132641'), ('labelSeason', '1999–2000 NBA season')]\n",
      "[('season', 'http://www.wikidata.org/entity/Q1132659'), ('labelSeason', '2003–04 NBA season')]\n",
      "[('season', 'http://www.wikidata.org/entity/Q1132667'), ('labelSeason', '2000–01 NBA season')]\n",
      "[('season', 'http://www.wikidata.org/entity/Q1135932'), ('labelSeason', '2002–03 NBA season')]\n",
      "[('season', 'http://www.wikidata.org/entity/Q1164506'), ('labelSeason', '1992–93 NBA season')]\n",
      "[('season', 'http://www.wikidata.org/entity/Q1164516'), ('labelSeason', '1994–95 NBA season')]\n",
      "[('season', 'http://www.wikidata.org/entity/Q1165925'), ('labelSeason', '1993–94 NBA season')]\n",
      "[('season', 'http://www.wikidata.org/entity/Q1321737'), ('labelSeason', '1995–96 NBA season')]\n",
      "[('season', 'http://www.wikidata.org/entity/Q1321749'), ('labelSeason', '1996–97 NBA season')]\n",
      "[('season', 'http://www.wikidata.org/entity/Q1321776'), ('labelSeason', '1998–99 NBA season')]\n",
      "[('season', 'http://www.wikidata.org/entity/Q925570'), ('labelSeason', '1997–98 NBA season')]\n",
      "[('season', 'http://www.wikidata.org/entity/Q941115'), ('labelSeason', '2004–05 NBA season')]\n",
      "[('season', 'http://www.wikidata.org/entity/Q1999389'), ('labelSeason', '1952–53 NBA season')]\n",
      "[('season', 'http://www.wikidata.org/entity/Q11144228'), ('labelSeason', '2013–14 NBA season')]\n",
      "[('season', 'http://www.wikidata.org/entity/Q63637259'), ('labelSeason', '2019–20 NBA season')]\n",
      "[('season', 'http://www.wikidata.org/entity/Q96083208'), ('labelSeason', '2020–21 NBA season')]\n",
      "[('season', 'http://www.wikidata.org/entity/Q2069819'), ('labelSeason', '1985–86 NBA season')]\n",
      "[('season', 'http://www.wikidata.org/entity/Q106495853'), ('labelSeason', '2021–22 NBA season')]\n",
      "[('season', 'http://www.wikidata.org/entity/Q1130071'), ('labelSeason', '2009–10 NBA season')]\n",
      "[('season', 'http://www.wikidata.org/entity/Q1130082'), ('labelSeason', '2008–09 NBA season')]\n",
      "[('season', 'http://www.wikidata.org/entity/Q1143957'), ('labelSeason', '2010–11 NBA season')]\n",
      "[('season', 'http://www.wikidata.org/entity/Q23939796'), ('labelSeason', '2016–17 NBA season')]\n",
      "[('season', 'http://www.wikidata.org/entity/Q2264628'), ('labelSeason', '1964–65 NBA season')]\n",
      "[('season', 'http://www.wikidata.org/entity/Q2264617'), ('labelSeason', '1962–63 NBA season')]\n",
      "[('season', 'http://www.wikidata.org/entity/Q997459'), ('labelSeason', '2006–07 NBA season')]\n",
      "[('season', 'http://www.wikidata.org/entity/Q389447'), ('labelSeason', '1972–73 NBA season')]\n",
      "[('season', 'http://www.wikidata.org/entity/Q517679'), ('labelSeason', '1991–92 NBA season')]\n",
      "[('season', 'http://www.wikidata.org/entity/Q2294141'), ('labelSeason', '1966–67 NBA season')]\n",
      "[('season', 'http://www.wikidata.org/entity/Q2264581'), ('labelSeason', '1973–74 NBA season')]\n",
      "[('season', 'http://www.wikidata.org/entity/Q1341019'), ('labelSeason', '1988–89 NBA season')]\n",
      "[('season', 'http://www.wikidata.org/entity/Q929005'), ('labelSeason', '1970–71 NBA season')]\n",
      "[('season', 'http://www.wikidata.org/entity/Q2264512'), ('labelSeason', '1960–61 NBA season')]\n",
      "[('season', 'http://www.wikidata.org/entity/Q1464834'), ('labelSeason', '1965–66 NBA season')]\n",
      "[('season', 'http://www.wikidata.org/entity/Q2264563'), ('labelSeason', '1955–56 NBA season')]\n",
      "[('season', 'http://www.wikidata.org/entity/Q2069909'), ('labelSeason', '1959–60 NBA season')]\n",
      "[('season', 'http://www.wikidata.org/entity/Q2067270'), ('labelSeason', '1978–79 NBA season')]\n",
      "[('season', 'http://www.wikidata.org/entity/Q2069838'), ('labelSeason', '1986–87 NBA season')]\n",
      "[('season', 'http://www.wikidata.org/entity/Q2001832'), ('labelSeason', '1951–52 NBA season')]\n",
      "[('season', 'http://www.wikidata.org/entity/Q2264593'), ('labelSeason', '1968–69 NBA season')]\n",
      "[('season', 'http://www.wikidata.org/entity/Q2264605'), ('labelSeason', '1957–58 NBA season')]\n",
      "[('season', 'http://www.wikidata.org/entity/Q1999363'), ('labelSeason', '1950–51 NBA season')]\n",
      "[('season', 'http://www.wikidata.org/entity/Q2264490'), ('labelSeason', '1956–57 NBA season')]\n",
      "[('season', 'http://www.wikidata.org/entity/Q2264551'), ('labelSeason', '1974–75 NBA season')]\n",
      "[('season', 'http://www.wikidata.org/entity/Q1986458'), ('labelSeason', '1987–88 NBA season')]\n",
      "[('season', 'http://www.wikidata.org/entity/Q1986727'), ('labelSeason', '1984–85 NBA season')]\n",
      "[('season', 'http://www.wikidata.org/entity/Q2069829'), ('labelSeason', '1976–77 NBA season')]\n",
      "[('season', 'http://www.wikidata.org/entity/Q2067173'), ('labelSeason', '1982–83 NBA season')]\n",
      "[('season', 'http://www.wikidata.org/entity/Q2264639'), ('labelSeason', '1958–59 NBA season')]\n",
      "[('season', 'http://www.wikidata.org/entity/Q2264522'), ('labelSeason', '1963–64 NBA season')]\n",
      "[('season', 'http://www.wikidata.org/entity/Q2264571'), ('labelSeason', '1954–55 NBA season')]\n",
      "[('season', 'http://www.wikidata.org/entity/Q1999399'), ('labelSeason', '1953–54 NBA season')]\n",
      "[('season', 'http://www.wikidata.org/entity/Q2069861'), ('labelSeason', '1981–82 NBA season')]\n",
      "73\n"
     ]
    }
   ],
   "source": [
    "queryString = \"\"\"\n",
    "SELECT DISTINCT ?season ?labelSeason \n",
    "WHERE \n",
    "{   \n",
    "    ?season wdt:P31 wd:Q27020041 ;\n",
    "            wdt:P3450 wd:Q155223 ;\n",
    "            sc:name ?labelSeason .\n",
    "    FILTER (!REGEX (?labelSeason, \"Summer\") && !REGEX(?labelSeason, \"BAA\"))            \n",
    "}\n",
    "\"\"\"\n",
    "print(\"Results\")\n",
    "x=run_query(queryString)"
   ]
  },
  {
   "cell_type": "markdown",
   "id": "9b56dd3c",
   "metadata": {
    "tags": []
   },
   "source": [
    "## Task 6\n",
    "Consider only the basketball teams which Michael Jordan and Kobe Bryant played. Return the number of NBA seasons won by these teams (the result set must be a list of triples basketball team IRI, label and #victories. Return a number for each basketball team even if they never won a season)."
   ]
  },
  {
   "cell_type": "markdown",
   "id": "84cc92cd-f470-4b98-9410-257123ea2294",
   "metadata": {
    "tags": []
   },
   "source": [
    "### Get all \"Basketball Team\" (wd:Q155223) in which \"Micheal Jordan\" (wd:Q41421) and \"Kobe Bryant\" (wd:Q25369) were \"member of sports team\" (wdt:P54)"
   ]
  },
  {
   "cell_type": "code",
   "execution_count": 429,
   "id": "ab229662-4faf-4c37-a341-21ed13a83f2d",
   "metadata": {},
   "outputs": [
    {
     "name": "stdout",
     "output_type": "stream",
     "text": [
      "Results\n",
      "[('team', 'http://www.wikidata.org/entity/Q121783'), ('labelTeam', 'Los Angeles Lakers')]\n",
      "[('team', 'http://www.wikidata.org/entity/Q128109'), ('labelTeam', 'Chicago Bulls')]\n",
      "[('team', 'http://www.wikidata.org/entity/Q169165'), ('labelTeam', 'Washington Wizards')]\n",
      "3\n"
     ]
    }
   ],
   "source": [
    "queryString = \"\"\"\n",
    "SELECT DISTINCT ?team ?labelTeam\n",
    "WHERE \n",
    "{   \n",
    "    ?player wdt:P54 ?team .\n",
    "    ?team wdt:P118 wd:Q155223 .\n",
    "    ?team sc:name ?labelTeam . \n",
    "    VALUES (?player)\n",
    "    { \n",
    "        (wd:Q41421) (wd:Q25369)\n",
    "    }    \n",
    "} LIMIT 50\n",
    "\"\"\"\n",
    "print(\"Results\")\n",
    "x=run_query(queryString)"
   ]
  },
  {
   "cell_type": "markdown",
   "id": "76846627-4e4c-4db9-809a-13795591c0bb",
   "metadata": {
    "tags": []
   },
   "source": [
    "### Get the number of NBA Seasons won (rings) by \"Chicago Bulls\" (wd:Q128109)"
   ]
  },
  {
   "cell_type": "code",
   "execution_count": 221,
   "id": "34efc3a1-2651-47fb-bcd7-12460d08b000",
   "metadata": {},
   "outputs": [
    {
     "name": "stdout",
     "output_type": "stream",
     "text": [
      "Results\n",
      "[('totalSeasonsWon', '6')]\n",
      "1\n"
     ]
    }
   ],
   "source": [
    "queryString = \"\"\"\n",
    "SELECT DISTINCT (COUNT(?season) AS ?totalSeasonsWon)\n",
    "WHERE \n",
    "{   \n",
    "    ?season wdt:P31 wd:Q27020041 ;\n",
    "            wdt:P3450 wd:Q155223 ;\n",
    "            wdt:P1346 wd:Q128109 ; #winner\n",
    "            sc:name ?labelSeason .\n",
    "    FILTER (!REGEX (?labelSeason, \"Summer\") && !REGEX(?labelSeason, \"BAA\"))            \n",
    "}\n",
    "\"\"\"\n",
    "print(\"Results\")\n",
    "x=run_query(queryString)"
   ]
  },
  {
   "cell_type": "markdown",
   "id": "bdc023fe-6cc0-479b-9baa-1bbd8a78a502",
   "metadata": {
    "tags": []
   },
   "source": [
    "### Final Query"
   ]
  },
  {
   "cell_type": "markdown",
   "id": "3f3c1e35",
   "metadata": {},
   "source": [
    "Final query for this task"
   ]
  },
  {
   "cell_type": "code",
   "execution_count": 430,
   "id": "ef21eeaf",
   "metadata": {},
   "outputs": [
    {
     "name": "stdout",
     "output_type": "stream",
     "text": [
      "Results\n",
      "[('winner', 'http://www.wikidata.org/entity/Q128109'), ('labelWinner', 'Chicago Bulls'), ('totalSeasonsWon', '6')]\n",
      "[('winner', 'http://www.wikidata.org/entity/Q121783'), ('labelWinner', 'Los Angeles Lakers'), ('totalSeasonsWon', '16')]\n",
      "[('winner', 'http://www.wikidata.org/entity/Q169165'), ('labelWinner', 'Washington Wizards'), ('totalSeasonsWon', '1')]\n",
      "3\n"
     ]
    }
   ],
   "source": [
    "queryString = \"\"\"\n",
    "SELECT DISTINCT ?winner ?labelWinner (COUNT(?season) AS ?totalSeasonsWon)\n",
    "WHERE \n",
    "{   \n",
    "    ?season wdt:P31 wd:Q27020041 ;\n",
    "            wdt:P3450 wd:Q155223 ;\n",
    "            wdt:P1346 ?winner ; #winner\n",
    "            sc:name ?labelSeason .\n",
    "    ?winner sc:name ?labelWinner .\n",
    "    FILTER (!REGEX (?labelSeason, \"Summer\") && !REGEX(?labelSeason, \"BAA\")) .               \n",
    "    FILTER (?winner = ?team && ?labelWinner = ?labelTeam) .\n",
    "    {\n",
    "        SELECT DISTINCT ?team ?labelTeam\n",
    "        WHERE \n",
    "        {   \n",
    "            ?player wdt:P54 ?team .\n",
    "            ?team wdt:P118 wd:Q155223 .\n",
    "            ?team sc:name ?labelTeam . \n",
    "            VALUES (?player)\n",
    "            { \n",
    "                (wd:Q41421) (wd:Q25369)\n",
    "            }    \n",
    "        } LIMIT 50  \n",
    "    }       \n",
    "}\n",
    "\"\"\"\n",
    "print(\"Results\")\n",
    "x=run_query(queryString)"
   ]
  },
  {
   "cell_type": "markdown",
   "id": "8b9defac",
   "metadata": {},
   "source": [
    "## Task 7\n",
    "Consider only NBA (National Basketball Association) basketball teams and all basketball players who played in one of these teams at least once. Also consider the country of citizenship of the players with the related continent. Return for each continent the number of players who played in an NBA basketball teams. (the result set must be triples of continent IRI, label and #players)"
   ]
  },
  {
   "cell_type": "markdown",
   "id": "de2d983b-20e7-4ffc-8a64-362c7dc18266",
   "metadata": {
    "tags": []
   },
   "source": [
    "### Get the \"continent\" (wdt:P30) of \"France\" (wd:Q142)"
   ]
  },
  {
   "cell_type": "code",
   "execution_count": 299,
   "id": "a15ca727-e963-4a50-8ed4-c4755471fec6",
   "metadata": {},
   "outputs": [
    {
     "name": "stdout",
     "output_type": "stream",
     "text": [
      "Results\n",
      "[('continent', 'http://www.wikidata.org/entity/Q46'), ('labelContinent', 'Europe')]\n",
      "1\n"
     ]
    }
   ],
   "source": [
    "queryString = \"\"\"\n",
    "SELECT DISTINCT ?continent ?labelContinent\n",
    "WHERE \n",
    "{   \n",
    "    wd:Q142 wdt:P30 ?continent .\n",
    "    ?continent sc:name ?labelContinent .\n",
    "}\n",
    "\"\"\"\n",
    "print(\"Results\")\n",
    "x=run_query(queryString)"
   ]
  },
  {
   "cell_type": "markdown",
   "id": "f689f5f9-3e8e-4acd-925e-4ea884322b94",
   "metadata": {
    "tags": []
   },
   "source": [
    "### Get all the \"basketball team\" (wd:Q13393265) that have \"league\" (wdt:P118) \"National Basketball Association\" (wd:Q155223)"
   ]
  },
  {
   "cell_type": "code",
   "execution_count": 301,
   "id": "85483659-ef90-4f86-b089-f602ff56c1da",
   "metadata": {},
   "outputs": [
    {
     "name": "stdout",
     "output_type": "stream",
     "text": [
      "Results\n",
      "[('team', 'http://www.wikidata.org/entity/Q131364'), ('labelTeam', 'New York Knicks')]\n",
      "[('team', 'http://www.wikidata.org/entity/Q162954'), ('labelTeam', 'Denver Nuggets')]\n",
      "[('team', 'http://www.wikidata.org/entity/Q167253'), ('labelTeam', 'Portland Trail Blazers')]\n",
      "[('team', 'http://www.wikidata.org/entity/Q180950'), ('labelTeam', 'Oklahoma City Thunder')]\n",
      "[('team', 'http://www.wikidata.org/entity/Q976396'), ('labelTeam', 'Los Angeles Clippers')]\n",
      "[('team', 'http://www.wikidata.org/entity/Q166105'), ('labelTeam', 'Sacramento Kings')]\n",
      "[('team', 'http://www.wikidata.org/entity/Q170649'), ('labelTeam', 'Utah Jazz')]\n",
      "[('team', 'http://www.wikidata.org/entity/Q138089'), ('labelTeam', 'Philadelphia 76ers')]\n",
      "[('team', 'http://www.wikidata.org/entity/Q161345'), ('labelTeam', 'Houston Rockets')]\n",
      "[('team', 'http://www.wikidata.org/entity/Q164177'), ('labelTeam', 'Phoenix Suns')]\n",
      "[('team', 'http://www.wikidata.org/entity/Q172339'), ('labelTeam', 'New Orleans Pelicans')]\n",
      "[('team', 'http://www.wikidata.org/entity/Q161337'), ('labelTeam', 'Orlando Magic')]\n",
      "[('team', 'http://www.wikidata.org/entity/Q159729'), ('labelTeam', 'San Antonio Spurs')]\n",
      "[('team', 'http://www.wikidata.org/entity/Q572134'), ('labelTeam', 'Brooklyn Nets')]\n",
      "[('team', 'http://www.wikidata.org/entity/Q159893'), ('labelTeam', 'Atlanta Hawks')]\n",
      "[('team', 'http://www.wikidata.org/entity/Q169138'), ('labelTeam', 'Miami Heat')]\n",
      "[('team', 'http://www.wikidata.org/entity/Q3360254'), ('labelTeam', 'Anderson Packers')]\n",
      "[('team', 'http://www.wikidata.org/entity/Q121783'), ('labelTeam', 'Los Angeles Lakers')]\n",
      "[('team', 'http://www.wikidata.org/entity/Q128109'), ('labelTeam', 'Chicago Bulls')]\n",
      "[('team', 'http://www.wikidata.org/entity/Q157376'), ('labelTeam', 'Golden State Warriors')]\n",
      "[('team', 'http://www.wikidata.org/entity/Q163480'), ('labelTeam', 'Charlotte Hornets')]\n",
      "[('team', 'http://www.wikidata.org/entity/Q169165'), ('labelTeam', 'Washington Wizards')]\n",
      "[('team', 'http://www.wikidata.org/entity/Q169637'), ('labelTeam', 'Milwaukee Bucks')]\n",
      "[('team', 'http://www.wikidata.org/entity/Q131371'), ('labelTeam', 'Boston Celtics')]\n",
      "[('team', 'http://www.wikidata.org/entity/Q162990'), ('labelTeam', 'Cleveland Cavaliers')]\n",
      "[('team', 'http://www.wikidata.org/entity/Q165529'), ('labelTeam', 'Memphis Grizzlies')]\n",
      "[('team', 'http://www.wikidata.org/entity/Q132880'), ('labelTeam', 'Toronto Raptors')]\n",
      "[('team', 'http://www.wikidata.org/entity/Q132893'), ('labelTeam', 'Dallas Mavericks')]\n",
      "[('team', 'http://www.wikidata.org/entity/Q169661'), ('labelTeam', 'Detroit Pistons')]\n",
      "[('team', 'http://www.wikidata.org/entity/Q170558'), ('labelTeam', 'Minnesota Timberwolves')]\n",
      "[('team', 'http://www.wikidata.org/entity/Q170329'), ('labelTeam', 'Indiana Pacers')]\n",
      "[('team', 'http://www.wikidata.org/entity/Q2928124'), ('labelTeam', 'Baltimore Bullets')]\n",
      "[('team', 'http://www.wikidata.org/entity/Q2354728'), ('labelTeam', 'Sheboygan Red Skins')]\n",
      "[('team', 'http://www.wikidata.org/entity/Q513372'), ('labelTeam', 'Indianapolis Olympians')]\n",
      "34\n"
     ]
    }
   ],
   "source": [
    "queryString = \"\"\"\n",
    "SELECT DISTINCT ?team ?labelTeam\n",
    "WHERE \n",
    "{   \n",
    "    ?team wdt:P31 wd:Q13393265 ;\n",
    "          wdt:P118 wd:Q155223 ;\n",
    "          sc:name ?labelTeam .\n",
    "}\n",
    "\"\"\"\n",
    "print(\"Results\")\n",
    "x=run_query(queryString)"
   ]
  },
  {
   "cell_type": "markdown",
   "id": "25b06f61-e845-47e1-8b92-b49c67481f3b",
   "metadata": {
    "tags": []
   },
   "source": [
    "### Get first 50 players that have \"league\" (wdt:P118) \"National Basketball Association\" (wd:Q155223)"
   ]
  },
  {
   "cell_type": "code",
   "execution_count": 306,
   "id": "29c49db2-265c-400e-ad0a-5c31c295db1b",
   "metadata": {},
   "outputs": [
    {
     "name": "stdout",
     "output_type": "stream",
     "text": [
      "Results\n",
      "[('player', 'http://www.wikidata.org/entity/Q15908865'), ('labelPlayer', 'Jordan Adams')]\n",
      "[('player', 'http://www.wikidata.org/entity/Q16227014'), ('labelPlayer', 'Tyler Ennis')]\n",
      "[('player', 'http://www.wikidata.org/entity/Q16233299'), ('labelPlayer', 'Sean Kilpatrick')]\n",
      "[('player', 'http://www.wikidata.org/entity/Q16236541'), ('labelPlayer', 'Sindarius Thornwell')]\n",
      "[('player', 'http://www.wikidata.org/entity/Q17623132'), ('labelPlayer', 'C. J. Williams')]\n",
      "[('player', 'http://www.wikidata.org/entity/Q498348'), ('labelPlayer', 'Jimmy Butler')]\n",
      "[('player', 'http://www.wikidata.org/entity/Q23302736'), ('labelPlayer', 'Joel Bolomboy')]\n",
      "[('player', 'http://www.wikidata.org/entity/Q29166745'), ('labelPlayer', 'P. J. Dozier')]\n",
      "[('player', 'http://www.wikidata.org/entity/Q127125'), ('labelPlayer', 'Mark Price')]\n",
      "[('player', 'http://www.wikidata.org/entity/Q2351523'), ('labelPlayer', 'Mitchell Wiggins')]\n",
      "[('player', 'http://www.wikidata.org/entity/Q442623'), ('labelPlayer', 'Al Jefferson')]\n",
      "[('player', 'http://www.wikidata.org/entity/Q443724'), ('labelPlayer', 'Marco Belinelli')]\n",
      "[('player', 'http://www.wikidata.org/entity/Q448245'), ('labelPlayer', 'Alvan Adams')]\n",
      "[('player', 'http://www.wikidata.org/entity/Q504025'), ('labelPlayer', 'Bill Bradley')]\n",
      "[('player', 'http://www.wikidata.org/entity/Q705738'), ('labelPlayer', 'Chuck Connors')]\n",
      "[('player', 'http://www.wikidata.org/entity/Q177928'), ('labelPlayer', 'Sidney Moncrief')]\n",
      "[('player', 'http://www.wikidata.org/entity/Q319336'), ('labelPlayer', 'Stephon Marbury')]\n",
      "[('player', 'http://www.wikidata.org/entity/Q3508880'), ('labelPlayer', 'Jamel Thomas')]\n",
      "[('player', 'http://www.wikidata.org/entity/Q3856917'), ('labelPlayer', 'Mickey Johnson')]\n",
      "[('player', 'http://www.wikidata.org/entity/Q542256'), ('labelPlayer', 'Allan Bristow')]\n",
      "[('player', 'http://www.wikidata.org/entity/Q543566'), ('labelPlayer', 'DerMarr Johnson')]\n",
      "[('player', 'http://www.wikidata.org/entity/Q547217'), ('labelPlayer', 'Sebastian Telfair')]\n",
      "[('player', 'http://www.wikidata.org/entity/Q548382'), ('labelPlayer', 'Rod Foster')]\n",
      "[('player', 'http://www.wikidata.org/entity/Q553063'), ('labelPlayer', 'Steve Blake')]\n",
      "[('player', 'http://www.wikidata.org/entity/Q554866'), ('labelPlayer', 'Nando de Colo')]\n",
      "[('player', 'http://www.wikidata.org/entity/Q555100'), ('labelPlayer', 'Cedric Maxwell')]\n",
      "[('player', 'http://www.wikidata.org/entity/Q555411'), ('labelPlayer', 'Reggie Lewis')]\n",
      "[('player', 'http://www.wikidata.org/entity/Q1266392'), ('labelPlayer', 'Alphonso Ford')]\n",
      "[('player', 'http://www.wikidata.org/entity/Q1364009'), ('labelPlayer', 'Tadija Dragićević')]\n",
      "[('player', 'http://www.wikidata.org/entity/Q597939'), ('labelPlayer', 'Art Collins')]\n",
      "[('player', 'http://www.wikidata.org/entity/Q599161'), ('labelPlayer', 'Ben Coleman')]\n",
      "[('player', 'http://www.wikidata.org/entity/Q600960'), ('labelPlayer', 'Peter Verhoeven')]\n",
      "[('player', 'http://www.wikidata.org/entity/Q611871'), ('labelPlayer', 'Matt Walsh')]\n",
      "[('player', 'http://www.wikidata.org/entity/Q657378'), ('labelPlayer', 'Dave Twardzik')]\n",
      "[('player', 'http://www.wikidata.org/entity/Q1745862'), ('labelPlayer', 'Ricky Pierce')]\n",
      "[('player', 'http://www.wikidata.org/entity/Q1747703'), ('labelPlayer', 'Robert Hite')]\n",
      "[('player', 'http://www.wikidata.org/entity/Q1749533'), ('labelPlayer', 'Billy Thomas')]\n",
      "[('player', 'http://www.wikidata.org/entity/Q221341'), ('labelPlayer', 'Jason Kidd')]\n",
      "[('player', 'http://www.wikidata.org/entity/Q2567162'), ('labelPlayer', 'Jay Vincent')]\n",
      "[('player', 'http://www.wikidata.org/entity/Q2573637'), ('labelPlayer', 'John Thomas')]\n",
      "[('player', 'http://www.wikidata.org/entity/Q5255286'), ('labelPlayer', 'Demetrius Calip')]\n",
      "[('player', 'http://www.wikidata.org/entity/Q1842302'), ('labelPlayer', 'Brandon Hunter')]\n",
      "[('player', 'http://www.wikidata.org/entity/Q1848493'), ('labelPlayer', 'Joffrey Lauvergne')]\n",
      "[('player', 'http://www.wikidata.org/entity/Q1862004'), ('labelPlayer', 'Robert Traylor')]\n",
      "[('player', 'http://www.wikidata.org/entity/Q2275193'), ('labelPlayer', 'Mel Counts')]\n",
      "[('player', 'http://www.wikidata.org/entity/Q2291089'), ('labelPlayer', 'Uroš Slokar')]\n",
      "[('player', 'http://www.wikidata.org/entity/Q2552896'), ('labelPlayer', 'Coby Karl')]\n",
      "[('player', 'http://www.wikidata.org/entity/Q2556861'), ('labelPlayer', 'Radisav Ćurčić')]\n",
      "[('player', 'http://www.wikidata.org/entity/Q2557595'), ('labelPlayer', 'Bruno Šundov')]\n",
      "[('player', 'http://www.wikidata.org/entity/Q2561832'), ('labelPlayer', 'Reggie Evans')]\n",
      "50\n"
     ]
    }
   ],
   "source": [
    "queryString = \"\"\"\n",
    "SELECT DISTINCT ?player ?labelPlayer\n",
    "WHERE \n",
    "{   \n",
    "    ?player wdt:P31 wd:Q5 ;\n",
    "            wdt:P118 wd:Q155223 ;\n",
    "            sc:name ?labelPlayer .\n",
    "}LIMIT 50\n",
    "\"\"\"\n",
    "print(\"Results\")\n",
    "x=run_query(queryString)"
   ]
  },
  {
   "cell_type": "markdown",
   "id": "22975b36-fbe0-438d-b8b2-719a96f1fe83",
   "metadata": {
    "tags": []
   },
   "source": [
    "### Final Query"
   ]
  },
  {
   "cell_type": "markdown",
   "id": "4bd4065b",
   "metadata": {},
   "source": [
    "Final query for this task"
   ]
  },
  {
   "cell_type": "code",
   "execution_count": 316,
   "id": "6a312039",
   "metadata": {},
   "outputs": [
    {
     "name": "stdout",
     "output_type": "stream",
     "text": [
      "Results\n",
      "[('continentPlayer', 'http://www.wikidata.org/entity/Q46'), ('labelContinentPlayer', 'Europe'), ('numberOfPlayers', '339')]\n",
      "[('continentPlayer', 'http://www.wikidata.org/entity/Q538'), ('labelContinentPlayer', 'Insular Oceania'), ('numberOfPlayers', '3582')]\n",
      "[('continentPlayer', 'http://www.wikidata.org/entity/Q15'), ('labelContinentPlayer', 'Africa'), ('numberOfPlayers', '70')]\n",
      "[('continentPlayer', 'http://www.wikidata.org/entity/Q48'), ('labelContinentPlayer', 'Asia'), ('numberOfPlayers', '82')]\n",
      "[('continentPlayer', 'http://www.wikidata.org/entity/Q5401'), ('labelContinentPlayer', 'Eurasia'), ('numberOfPlayers', '22')]\n",
      "[('continentPlayer', 'http://www.wikidata.org/entity/Q18'), ('labelContinentPlayer', 'South America'), ('numberOfPlayers', '37')]\n",
      "[('continentPlayer', 'http://www.wikidata.org/entity/Q49'), ('labelContinentPlayer', 'North America'), ('numberOfPlayers', '3631')]\n",
      "7\n"
     ]
    }
   ],
   "source": [
    "queryString = \"\"\"\n",
    "SELECT DISTINCT ?continentPlayer ?labelContinentPlayer (COUNT (DISTINCT (?player)) AS ?numberOfPlayers)\n",
    "WHERE \n",
    "{   \n",
    "    # All Nba Players and their continent\n",
    "    ?player wdt:P31 wd:Q5 ;\n",
    "            wdt:P118 wd:Q155223 ;\n",
    "            wdt:P27 ?countryPlayer ;\n",
    "            sc:name ?labelPlayer .\n",
    "            \n",
    "    ?countryPlayer wdt:P30 ?continentPlayer .\n",
    "    \n",
    "    ?continentPlayer sc:name ?labelContinentPlayer .\n",
    "}GROUP BY ?continentPlayer ?labelContinentPlayer\n",
    "\"\"\"\n",
    "print(\"Results\")\n",
    "x=run_query(queryString)"
   ]
  },
  {
   "cell_type": "markdown",
   "id": "97ea0b59",
   "metadata": {
    "tags": []
   },
   "source": [
    "## Task 8\n",
    "Identify the BGP for the NBA Defensive Player of the Year Award (see https://en.wikipedia.org/wiki/NBA_Defensive_Player_of_the_Year_Award)"
   ]
  },
  {
   "cell_type": "markdown",
   "id": "f31a8333-cbca-48c1-83b2-f1fd44d2ea15",
   "metadata": {
    "tags": []
   },
   "source": [
    "### Final Query"
   ]
  },
  {
   "cell_type": "markdown",
   "id": "80c5dc12",
   "metadata": {},
   "source": [
    "Final query for this task"
   ]
  },
  {
   "cell_type": "code",
   "execution_count": 231,
   "id": "ed93094a",
   "metadata": {},
   "outputs": [
    {
     "name": "stdout",
     "output_type": "stream",
     "text": [
      "Results\n",
      "[('award', 'http://www.wikidata.org/entity/Q1061233'), ('labelAward', \"L'Équipe Champion of Champions\")]\n",
      "[('award', 'http://www.wikidata.org/entity/Q17144'), ('labelAward', 'Presidential Medal of Freedom')]\n",
      "[('award', 'http://www.wikidata.org/entity/Q743122'), ('labelAward', 'Associated Press Athlete of the Year')]\n",
      "[('award', 'http://www.wikidata.org/entity/Q137003'), ('labelAward', '50 Greatest Players in NBA History')]\n",
      "[('award', 'http://www.wikidata.org/entity/Q1418009'), ('labelAward', 'NBA All-Rookie Team')]\n",
      "[('award', 'http://www.wikidata.org/entity/Q1465181'), ('labelAward', 'NBA All-Defensive Team')]\n",
      "[('award', 'http://www.wikidata.org/entity/Q1641970'), ('labelAward', 'John R. Wooden Award')]\n",
      "[('award', 'http://www.wikidata.org/entity/Q1653207'), ('labelAward', 'Sports Illustrated Sportsperson of the Year')]\n",
      "[('award', 'http://www.wikidata.org/entity/Q222047'), ('labelAward', 'NBA Most Valuable Player Award')]\n",
      "[('award', 'http://www.wikidata.org/entity/Q2404133'), ('labelAward', 'Oscar Robertson Trophy')]\n",
      "[('award', 'http://www.wikidata.org/entity/Q2666769'), ('labelAward', 'Naismith College Player of the Year')]\n",
      "[('award', 'http://www.wikidata.org/entity/Q31391'), ('labelAward', 'NBA All-Star Game Kobe Bryant Most Valuable Player Award')]\n",
      "[('award', 'http://www.wikidata.org/entity/Q3304648'), ('labelAward', \"Atlantic Coast Conference Men's Basketball Player of the Year\")]\n",
      "[('award', 'http://www.wikidata.org/entity/Q4650547'), ('labelAward', 'ACC Athlete of the Year')]\n",
      "[('award', 'http://www.wikidata.org/entity/Q4816371'), ('labelAward', \"Atlantic Coast Conference Men's Basketball Rookie of the Year\")]\n",
      "[('award', 'http://www.wikidata.org/entity/Q4896614'), ('labelAward', 'Best Comeback Athlete ESPY Award')]\n",
      "[('award', 'http://www.wikidata.org/entity/Q4896724'), ('labelAward', 'Best Male Athlete ESPY Award')]\n",
      "[('award', 'http://www.wikidata.org/entity/Q586458'), ('labelAward', 'FIBA Hall of Fame')]\n",
      "[('award', 'http://www.wikidata.org/entity/Q644357'), ('labelAward', 'NBA Rookie of the Year Award')]\n",
      "[('award', 'http://www.wikidata.org/entity/Q674359'), ('labelAward', 'All-NBA Team')]\n",
      "[('award', 'http://www.wikidata.org/entity/Q739499'), ('labelAward', 'Bill Russell NBA Finals Most Valuable Player Award')]\n",
      "[('award', 'http://www.wikidata.org/entity/Q845884'), ('labelAward', 'NBA Defensive Player of the Year Award')]\n",
      "[('award', 'http://www.wikidata.org/entity/Q943106'), ('labelAward', 'Best NBA Player ESPY Award')]\n",
      "23\n"
     ]
    }
   ],
   "source": [
    "queryString = \"\"\"\n",
    "SELECT DISTINCT ?award ?labelAward\n",
    "WHERE \n",
    "{   \n",
    "    wd:Q41421 wdt:P166 ?award .\n",
    "    ?award sc:name ?labelAward .\n",
    "}\n",
    "\"\"\"\n",
    "print(\"Results\")\n",
    "x=run_query(queryString)"
   ]
  },
  {
   "cell_type": "markdown",
   "id": "ff101826",
   "metadata": {},
   "source": [
    "## Task 9\n",
    "Consider the players who won the NBA Defensive Player of the Year Award. Return for these players the number of NBA Defensive Player of the Year Award won in their career (the result set must be triples of player IRI, label and #victories)"
   ]
  },
  {
   "cell_type": "markdown",
   "id": "ed4681e4-6d6b-445e-9911-12c9997003a5",
   "metadata": {},
   "source": [
    "### Get all subjects that are connected with \"award received\" (wdt:P166) to \"NBA Defensive Player of the Year Award\" (wd:Q845884)"
   ]
  },
  {
   "cell_type": "code",
   "execution_count": 428,
   "id": "0b62fe60-f7d2-4441-af48-a64cb4898554",
   "metadata": {},
   "outputs": [
    {
     "name": "stdout",
     "output_type": "stream",
     "text": [
      "Results\n",
      "[('player', 'http://www.wikidata.org/entity/Q177928'), ('labelPlayer', 'Sidney Moncrief')]\n",
      "[('player', 'http://www.wikidata.org/entity/Q310968'), ('labelPlayer', 'Alonzo Mourning')]\n",
      "[('player', 'http://www.wikidata.org/entity/Q971538'), ('labelPlayer', 'Michael Cooper')]\n",
      "[('player', 'http://www.wikidata.org/entity/Q189240'), ('labelPlayer', 'Kevin Garnett')]\n",
      "[('player', 'http://www.wikidata.org/entity/Q41421'), ('labelPlayer', 'Michael Jordan')]\n",
      "[('player', 'http://www.wikidata.org/entity/Q273256'), ('labelPlayer', 'Hakeem Olajuwon')]\n",
      "[('player', 'http://www.wikidata.org/entity/Q211876'), ('labelPlayer', 'David Robinson')]\n",
      "[('player', 'http://www.wikidata.org/entity/Q361134'), ('labelPlayer', 'Marcus Camby')]\n",
      "[('player', 'http://www.wikidata.org/entity/Q295322'), ('labelPlayer', 'Metta Sandiford-Artest')]\n",
      "[('player', 'http://www.wikidata.org/entity/Q926248'), ('labelPlayer', 'Kawhi Leonard')]\n",
      "[('player', 'http://www.wikidata.org/entity/Q311735'), ('labelPlayer', 'Joakim Noah')]\n",
      "[('player', 'http://www.wikidata.org/entity/Q449245'), ('labelPlayer', 'Alvin Robertson')]\n",
      "[('player', 'http://www.wikidata.org/entity/Q201608'), ('labelPlayer', 'Dennis Rodman')]\n",
      "[('player', 'http://www.wikidata.org/entity/Q25278'), ('labelPlayer', 'Dwight Howard')]\n",
      "[('player', 'http://www.wikidata.org/entity/Q275889'), ('labelPlayer', 'Marc Gasol')]\n",
      "[('player', 'http://www.wikidata.org/entity/Q295364'), ('labelPlayer', 'Ben Wallace')]\n",
      "[('player', 'http://www.wikidata.org/entity/Q309872'), ('labelPlayer', 'Gary Payton')]\n",
      "[('player', 'http://www.wikidata.org/entity/Q313481'), ('labelPlayer', 'Dikembe Mutombo')]\n",
      "[('player', 'http://www.wikidata.org/entity/Q357757'), ('labelPlayer', 'Mark Eaton')]\n",
      "[('player', 'http://www.wikidata.org/entity/Q8991894'), ('labelPlayer', 'Giannis Antetokounmpo')]\n",
      "[('player', 'http://www.wikidata.org/entity/Q297146'), ('labelPlayer', 'Tyson Chandler')]\n",
      "[('player', 'http://www.wikidata.org/entity/Q3446792'), ('labelPlayer', 'Rudy Gobert')]\n",
      "22\n"
     ]
    }
   ],
   "source": [
    "queryString = \"\"\"\n",
    "SELECT DISTINCT ?player ?labelPlayer\n",
    "WHERE \n",
    "{   \n",
    "    ?player wdt:P166 wd:Q845884 ;\n",
    "            sc:name ?labelPlayer .\n",
    "}\n",
    "\"\"\"\n",
    "print(\"Results\")\n",
    "x=run_query(queryString)"
   ]
  },
  {
   "cell_type": "markdown",
   "id": "5564f5c9-bd88-4b8b-aac0-018d6895416e",
   "metadata": {
    "tags": []
   },
   "source": [
    "### Get all data property of \"NBA Defensive Player of the Year Award\" (wd:Q845884)"
   ]
  },
  {
   "cell_type": "code",
   "execution_count": 234,
   "id": "437baedd-2e4d-48d1-a3f6-909a781999f4",
   "metadata": {},
   "outputs": [
    {
     "name": "stdout",
     "output_type": "stream",
     "text": [
      "Results\n",
      "[('property', 'http://www.wikidata.org/prop/direct/P571'), ('label', 'inception')]\n",
      "[('property', 'http://www.wikidata.org/prop/direct/P646'), ('label', 'Freebase ID')]\n",
      "2\n"
     ]
    }
   ],
   "source": [
    "queryString = \"\"\"\n",
    "SELECT DISTINCT ?property ?label\n",
    "WHERE {   \n",
    "   wd:Q845884 ?property ?object .\n",
    "   ?property sc:name ?label .\n",
    "   FILTER(isLiteral(?object)) .   \n",
    "}\n",
    "\"\"\"\n",
    "print(\"Results\")\n",
    "x=run_query(queryString)"
   ]
  },
  {
   "cell_type": "markdown",
   "id": "015602d5-0d92-4c66-bb56-f5bd0ad5bcad",
   "metadata": {
    "tags": []
   },
   "source": [
    "### Get all data property of \"NBA Defensive Player of the Year Award\"  (wd:Q845884) that do not contain ID"
   ]
  },
  {
   "cell_type": "code",
   "execution_count": 235,
   "id": "fae65b46-b873-4da5-900a-7b897457ed30",
   "metadata": {},
   "outputs": [
    {
     "name": "stdout",
     "output_type": "stream",
     "text": [
      "Results\n",
      "[('property', 'http://www.wikidata.org/prop/direct/P571'), ('label', 'inception')]\n",
      "1\n"
     ]
    }
   ],
   "source": [
    "queryString = \"\"\"\n",
    "SELECT DISTINCT ?property ?label\n",
    "WHERE {   \n",
    "   wd:Q845884 ?property ?object .\n",
    "   ?property sc:name ?label .\n",
    "   FILTER(isLiteral(?object)) .\n",
    "   FILTER REGEX(?label, \"^((?!ID).)*$\") . \n",
    "}\n",
    "\"\"\"\n",
    "print(\"Results\")\n",
    "x=run_query(queryString)"
   ]
  },
  {
   "cell_type": "markdown",
   "id": "64e43e8a-686b-451a-99fb-7312cec85ccc",
   "metadata": {
    "tags": []
   },
   "source": [
    "### Get the class of \"NBA Defensive Player of the Year Award\" (wd:Q845884)"
   ]
  },
  {
   "cell_type": "code",
   "execution_count": 236,
   "id": "35a2707a-11fb-4f53-9fd0-e1d77a0ab979",
   "metadata": {},
   "outputs": [
    {
     "name": "stdout",
     "output_type": "stream",
     "text": [
      "Results\n",
      "[('class', 'http://www.wikidata.org/entity/Q618779'), ('label', 'award')]\n",
      "[('class', 'http://www.wikidata.org/entity/Q38033430'), ('label', 'class of award')]\n",
      "[('class', 'http://www.wikidata.org/entity/Q15623926'), ('label', 'Wikimedia set index article')]\n",
      "3\n"
     ]
    }
   ],
   "source": [
    "queryString = \"\"\"\n",
    "SELECT DISTINCT ?class ?label\n",
    "WHERE {   \n",
    "   wd:Q845884 wdt:P31 ?class .\n",
    "   ?class sc:name ?label .     \n",
    "}\n",
    "\"\"\"\n",
    "print(\"Results\")\n",
    "x=run_query(queryString)"
   ]
  },
  {
   "cell_type": "markdown",
   "id": "3751d83a-9b68-41c4-b76d-bc836184a690",
   "metadata": {
    "tags": []
   },
   "source": [
    "### Get all object properties of \"NBA Defensive Player of the Year Award\"  (wd:Q845884)"
   ]
  },
  {
   "cell_type": "code",
   "execution_count": 237,
   "id": "8dc11fa2-99ff-48ef-bdc9-16ceb3050b8f",
   "metadata": {},
   "outputs": [
    {
     "name": "stdout",
     "output_type": "stream",
     "text": [
      "Results\n",
      "[('property', 'http://www.wikidata.org/prop/direct/P1346'), ('label', 'winner')]\n",
      "[('property', 'http://www.wikidata.org/prop/direct/P31'), ('label', 'instance of')]\n",
      "[('property', 'http://www.wikidata.org/prop/direct/P641'), ('label', 'sport')]\n",
      "3\n"
     ]
    }
   ],
   "source": [
    "queryString = \"\"\"\n",
    "SELECT DISTINCT ?property ?label\n",
    "WHERE {   \n",
    "   wd:Q845884 ?property ?object .\n",
    "   ?property sc:name ?label .\n",
    "   FILTER(!isLiteral(?object)) .   \n",
    "}\n",
    "\"\"\"\n",
    "\n",
    "print(\"Results\")\n",
    "x=run_query(queryString)"
   ]
  },
  {
   "cell_type": "markdown",
   "id": "9644f9fb-1fe8-4752-82a5-e65019aacc39",
   "metadata": {
    "tags": []
   },
   "source": [
    "### Get all the classes connected to \"NBA Defensive Player of the Year Award\"  (wd:Q845884)"
   ]
  },
  {
   "cell_type": "code",
   "execution_count": 238,
   "id": "0d7424a6-3ebb-49b6-89c2-dca84a99a339",
   "metadata": {},
   "outputs": [
    {
     "name": "stdout",
     "output_type": "stream",
     "text": [
      "Results\n",
      "[('objectClass', 'http://www.wikidata.org/entity/Q212434'), ('label', 'Olympic sport')]\n",
      "[('objectClass', 'http://www.wikidata.org/entity/Q31629'), ('label', 'type of sport')]\n",
      "[('objectClass', 'http://www.wikidata.org/entity/Q5'), ('label', 'human')]\n",
      "[('objectClass', 'http://www.wikidata.org/entity/Q24017414'), ('label', 'second-order class')]\n",
      "4\n"
     ]
    }
   ],
   "source": [
    "queryString = \"\"\"\n",
    "SELECT DISTINCT ?objectClass ?label\n",
    "WHERE {   \n",
    "   wd:Q845884 ?property ?object .\n",
    "   ?object wdt:P31 ?objectClass .\n",
    "   ?objectClass sc:name ?label .\n",
    "   FILTER(!isLiteral(?object)) .   \n",
    "}\n",
    "\"\"\"\n",
    "print(\"Results\")\n",
    "x=run_query(queryString)"
   ]
  },
  {
   "cell_type": "markdown",
   "id": "51104414-3be0-4419-b053-880629517cda",
   "metadata": {
    "tags": []
   },
   "source": [
    "### Get all the couples (object property - list of the classes of the objects that are connected to \"NBA Defensive Player of the Year Award\"  (wd:Q845884) through that object property)"
   ]
  },
  {
   "cell_type": "code",
   "execution_count": 240,
   "id": "ade11693-95df-4af4-801a-4b856b487cd1",
   "metadata": {},
   "outputs": [
    {
     "name": "stdout",
     "output_type": "stream",
     "text": [
      "Results\n",
      "[('property', 'http://www.wikidata.org/prop/direct/P641'), ('labelProperty', 'sport'), ('objectsClasses', 'http://www.wikidata.org/entity/Q212434,http://www.wikidata.org/entity/Q31629'), ('labelsObjectsClasses', 'Olympic sport,type of sport')]\n",
      "[('property', 'http://www.wikidata.org/prop/direct/P1346'), ('labelProperty', 'winner'), ('objectsClasses', 'http://www.wikidata.org/entity/Q5,http://www.wikidata.org/entity/Q5,http://www.wikidata.org/entity/Q5,http://www.wikidata.org/entity/Q5,http://www.wikidata.org/entity/Q5,http://www.wikidata.org/entity/Q5,http://www.wikidata.org/entity/Q5,http://www.wikidata.org/entity/Q5,http://www.wikidata.org/entity/Q5,http://www.wikidata.org/entity/Q5,http://www.wikidata.org/entity/Q5,http://www.wikidata.org/entity/Q5,http://www.wikidata.org/entity/Q5,http://www.wikidata.org/entity/Q5,http://www.wikidata.org/entity/Q5,http://www.wikidata.org/entity/Q5,http://www.wikidata.org/entity/Q5,http://www.wikidata.org/entity/Q5,http://www.wikidata.org/entity/Q5,http://www.wikidata.org/entity/Q5'), ('labelsObjectsClasses', 'human,human,human,human,human,human,human,human,human,human,human,human,human,human,human,human,human,human,human,human')]\n",
      "[('property', 'http://www.wikidata.org/prop/direct/P31'), ('labelProperty', 'instance of'), ('objectsClasses', 'http://www.wikidata.org/entity/Q24017414'), ('labelsObjectsClasses', 'second-order class')]\n",
      "3\n"
     ]
    }
   ],
   "source": [
    "queryString = \"\"\"\n",
    "SELECT DISTINCT ?property ?labelProperty (GROUP_CONCAT(?objectClass ; separator = \",\")  AS ?objectsClasses) (GROUP_CONCAT(?labelObjectClass ; separator = \",\")  AS ?labelsObjectsClasses)\n",
    "WHERE \n",
    "{   \n",
    "   wd:Q845884 ?property ?object .  \n",
    "   ?object wdt:P31 ?objectClass .\n",
    "   \n",
    "   # Labels\n",
    "   ?property sc:name ?labelProperty .      \n",
    "   ?objectClass sc:name ?labelObjectClass .\n",
    "   \n",
    "   FILTER(!isLiteral(?object)) .   \n",
    "}GROUP BY ?property ?labelProperty\n",
    "LIMIT 50\n",
    "\"\"\"\n",
    "print(\"Results\")\n",
    "x=run_query(queryString)"
   ]
  },
  {
   "cell_type": "markdown",
   "id": "33078451-4ebf-4f3e-9567-fdf97a8ffb79",
   "metadata": {
    "tags": []
   },
   "source": [
    "### Get all the couples (object property - list of the  objects that are connected to \"NBA Defensive Player of the Year Award\"  (wd:Q845884) through that object property)"
   ]
  },
  {
   "cell_type": "code",
   "execution_count": 241,
   "id": "96a72f8f-5fd7-4c12-a968-498392cb807c",
   "metadata": {},
   "outputs": [
    {
     "name": "stdout",
     "output_type": "stream",
     "text": [
      "Results\n",
      "[('property', 'http://www.wikidata.org/prop/direct/P641'), ('labelProperty', 'sport'), ('objects', 'http://www.wikidata.org/entity/Q5372'), ('labelsObjects', 'basketball')]\n",
      "[('property', 'http://www.wikidata.org/prop/direct/P1346'), ('labelProperty', 'winner'), ('objects', 'http://www.wikidata.org/entity/Q177928,http://www.wikidata.org/entity/Q310968,http://www.wikidata.org/entity/Q971538,http://www.wikidata.org/entity/Q189240,http://www.wikidata.org/entity/Q41421,http://www.wikidata.org/entity/Q273256,http://www.wikidata.org/entity/Q211876,http://www.wikidata.org/entity/Q361134,http://www.wikidata.org/entity/Q295322,http://www.wikidata.org/entity/Q926248,http://www.wikidata.org/entity/Q311735,http://www.wikidata.org/entity/Q449245,http://www.wikidata.org/entity/Q201608,http://www.wikidata.org/entity/Q25278,http://www.wikidata.org/entity/Q275889,http://www.wikidata.org/entity/Q295364,http://www.wikidata.org/entity/Q309872,http://www.wikidata.org/entity/Q313481,http://www.wikidata.org/entity/Q357757,http://www.wikidata.org/entity/Q297146'), ('labelsObjects', 'Sidney Moncrief,Alonzo Mourning,Michael Cooper,Kevin Garnett,Michael Jordan,Hakeem Olajuwon,David Robinson,Marcus Camby,Metta Sandiford-Artest,Kawhi Leonard,Joakim Noah,Alvin Robertson,Dennis Rodman,Dwight Howard,Marc Gasol,Ben Wallace,Gary Payton,Dikembe Mutombo,Mark Eaton,Tyson Chandler')]\n",
      "[('property', 'http://www.wikidata.org/prop/direct/P31'), ('labelProperty', 'instance of'), ('objects', 'http://www.wikidata.org/entity/Q618779,http://www.wikidata.org/entity/Q38033430,http://www.wikidata.org/entity/Q15623926'), ('labelsObjects', 'award,class of award,Wikimedia set index article')]\n",
      "3\n"
     ]
    }
   ],
   "source": [
    "queryString = \"\"\"\n",
    "SELECT DISTINCT ?property ?labelProperty (GROUP_CONCAT(?object ; separator = \",\")  AS ?objects) (GROUP_CONCAT(?labelObject; separator = \",\")  AS ?labelsObjects)\n",
    "WHERE \n",
    "{   \n",
    "   wd:Q845884 ?property ?object .  \n",
    " \n",
    "   # Labels\n",
    "   ?property sc:name ?labelProperty .      \n",
    "   ?object sc:name ?labelObject\n",
    "   \n",
    "   FILTER(!isLiteral(?object)) .   \n",
    "}GROUP BY ?property ?labelProperty\n",
    "LIMIT 50\n",
    "\"\"\"\n",
    "print(\"Results\")\n",
    "x=run_query(queryString)"
   ]
  },
  {
   "cell_type": "markdown",
   "id": "941ff299-588f-47b3-973b-7dcb34052846",
   "metadata": {
    "tags": []
   },
   "source": [
    "### Get all data property of \"basketball\" (wd:Q5372)"
   ]
  },
  {
   "cell_type": "code",
   "execution_count": 342,
   "id": "003aca2a-2ba3-47ec-bab2-f5ca0c0fc28d",
   "metadata": {},
   "outputs": [
    {
     "name": "stdout",
     "output_type": "stream",
     "text": [
      "Results\n",
      "[('property', 'http://www.wikidata.org/prop/direct/P1014'), ('label', 'Art & Architecture Thesaurus ID')]\n",
      "[('property', 'http://www.wikidata.org/prop/direct/P1036'), ('label', 'Dewey Decimal Classification')]\n",
      "[('property', 'http://www.wikidata.org/prop/direct/P1051'), ('label', 'PSH ID')]\n",
      "[('property', 'http://www.wikidata.org/prop/direct/P1225'), ('label', 'U.S. National Archives Identifier')]\n",
      "[('property', 'http://www.wikidata.org/prop/direct/P1245'), ('label', 'OmegaWiki Defined Meaning')]\n",
      "[('property', 'http://www.wikidata.org/prop/direct/P1282'), ('label', 'OpenStreetMap tag or key')]\n",
      "[('property', 'http://www.wikidata.org/prop/direct/P1296'), ('label', 'Gran Enciclopèdia Catalana ID')]\n",
      "[('property', 'http://www.wikidata.org/prop/direct/P1417'), ('label', 'Encyclopædia Britannica Online ID')]\n",
      "[('property', 'http://www.wikidata.org/prop/direct/P1807'), ('label', 'Great Aragonese Encyclopedia ID')]\n",
      "[('property', 'http://www.wikidata.org/prop/direct/P1813'), ('label', 'short name')]\n",
      "[('property', 'http://www.wikidata.org/prop/direct/P1873'), ('label', 'maximum number of players')]\n",
      "[('property', 'http://www.wikidata.org/prop/direct/P2047'), ('label', 'duration')]\n",
      "[('property', 'http://www.wikidata.org/prop/direct/P2167'), ('label', 'UNSPSC Code')]\n",
      "[('property', 'http://www.wikidata.org/prop/direct/P227'), ('label', 'GND ID')]\n",
      "[('property', 'http://www.wikidata.org/prop/direct/P244'), ('label', 'Library of Congress authority ID')]\n",
      "[('property', 'http://www.wikidata.org/prop/direct/P2581'), ('label', 'BabelNet ID')]\n",
      "[('property', 'http://www.wikidata.org/prop/direct/P268'), ('label', 'Bibliothèque nationale de France ID')]\n",
      "[('property', 'http://www.wikidata.org/prop/direct/P2924'), ('label', 'Great Russian Encyclopedia Online ID')]\n",
      "[('property', 'http://www.wikidata.org/prop/direct/P3219'), ('label', 'Encyclopædia Universalis ID')]\n",
      "[('property', 'http://www.wikidata.org/prop/direct/P3221'), ('label', 'New York Times topic ID')]\n",
      "[('property', 'http://www.wikidata.org/prop/direct/P3365'), ('label', 'Treccani ID')]\n",
      "[('property', 'http://www.wikidata.org/prop/direct/P3417'), ('label', 'Quora topic ID')]\n",
      "[('property', 'http://www.wikidata.org/prop/direct/P349'), ('label', 'National Diet Library ID')]\n",
      "[('property', 'http://www.wikidata.org/prop/direct/P3553'), ('label', 'Zhihu topic ID')]\n",
      "[('property', 'http://www.wikidata.org/prop/direct/P373'), ('label', 'Commons category')]\n",
      "[('property', 'http://www.wikidata.org/prop/direct/P3827'), ('label', 'JSTOR topic ID')]\n",
      "[('property', 'http://www.wikidata.org/prop/direct/P3911'), ('label', 'STW Thesaurus for Economics ID')]\n",
      "[('property', 'http://www.wikidata.org/prop/direct/P3984'), ('label', 'subreddit')]\n",
      "[('property', 'http://www.wikidata.org/prop/direct/P4073'), ('label', 'Fandom wiki ID')]\n",
      "[('property', 'http://www.wikidata.org/prop/direct/P4223'), ('label', \"Treccani's Enciclopedia Italiana ID\")]\n",
      "[('property', 'http://www.wikidata.org/prop/direct/P4235'), ('label', 'PatientsLikeMe treatment ID')]\n",
      "[('property', 'http://www.wikidata.org/prop/direct/P4527'), ('label', 'UK Parliament thesaurus ID')]\n",
      "[('property', 'http://www.wikidata.org/prop/direct/P4613'), ('label', 'Encyclopedia of Modern Ukraine ID')]\n",
      "[('property', 'http://www.wikidata.org/prop/direct/P4854'), ('label', 'Uppslagsverket Finland ID')]\n",
      "[('property', 'http://www.wikidata.org/prop/direct/P486'), ('label', 'MeSH descriptor ID')]\n",
      "[('property', 'http://www.wikidata.org/prop/direct/P487'), ('label', 'Unicode character')]\n",
      "[('property', 'http://www.wikidata.org/prop/direct/P5019'), ('label', 'Brockhaus Enzyklopädie online ID')]\n",
      "[('property', 'http://www.wikidata.org/prop/direct/P508'), ('label', 'BNCF Thesaurus ID')]\n",
      "[('property', 'http://www.wikidata.org/prop/direct/P5247'), ('label', 'Giant Bomb ID')]\n",
      "[('property', 'http://www.wikidata.org/prop/direct/P5250'), ('label', 'IAB code')]\n",
      "[('property', 'http://www.wikidata.org/prop/direct/P5429'), ('label', 'IPTC NewsCode')]\n",
      "[('property', 'http://www.wikidata.org/prop/direct/P5513'), ('label', \"Enciclopèdia de l'Esport Català ID\")]\n",
      "[('property', 'http://www.wikidata.org/prop/direct/P571'), ('label', 'inception')]\n",
      "[('property', 'http://www.wikidata.org/prop/direct/P575'), ('label', 'time of discovery or invention')]\n",
      "[('property', 'http://www.wikidata.org/prop/direct/P5905'), ('label', 'Comic Vine ID')]\n",
      "[('property', 'http://www.wikidata.org/prop/direct/P6262'), ('label', 'Fandom article ID')]\n",
      "[('property', 'http://www.wikidata.org/prop/direct/P6366'), ('label', 'Microsoft Academic ID')]\n",
      "[('property', 'http://www.wikidata.org/prop/direct/P6385'), ('label', 'Krugosvet article')]\n",
      "[('property', 'http://www.wikidata.org/prop/direct/P646'), ('label', 'Freebase ID')]\n",
      "[('property', 'http://www.wikidata.org/prop/direct/P6573'), ('label', 'Klexikon article ID')]\n",
      "[('property', 'http://www.wikidata.org/prop/direct/P6870'), ('label', 'Latvian National Encyclopedia Online ID')]\n",
      "[('property', 'http://www.wikidata.org/prop/direct/P7033'), ('label', 'Australian Educational Vocabulary ID')]\n",
      "[('property', 'http://www.wikidata.org/prop/direct/P7157'), ('label', 'The Top Tens ID')]\n",
      "[('property', 'http://www.wikidata.org/prop/direct/P7644'), ('label', 'Encyclopedia of Cleveland History ID')]\n",
      "[('property', 'http://www.wikidata.org/prop/direct/P7685'), ('label', 'CALS Encyclopedia of Arkansas ID')]\n",
      "[('property', 'http://www.wikidata.org/prop/direct/P7686'), ('label', 'Encyclopedia of the Great Plains ID')]\n",
      "[('property', 'http://www.wikidata.org/prop/direct/P7688'), ('label', 'Mississippi Encyclopedia ID')]\n",
      "[('property', 'http://www.wikidata.org/prop/direct/P7723'), ('label', 'The Encyclopedia of Oklahoma History and Culture ID')]\n",
      "[('property', 'http://www.wikidata.org/prop/direct/P7818'), ('label', 'French Vikidia ID')]\n",
      "[('property', 'http://www.wikidata.org/prop/direct/P7832'), ('label', 'Basque Vikidia ID')]\n",
      "[('property', 'http://www.wikidata.org/prop/direct/P7901'), ('label', 'Encyclopedia of Chicago ID')]\n",
      "[('property', 'http://www.wikidata.org/prop/direct/P8248'), ('label', 'Colon Classification')]\n",
      "[('property', 'http://www.wikidata.org/prop/direct/P8408'), ('label', 'KBpedia ID')]\n",
      "[('property', 'http://www.wikidata.org/prop/direct/P8672'), ('label', 'Twitter topic ID')]\n",
      "[('property', 'http://www.wikidata.org/prop/direct/P8785'), ('label', 'AniDB tag ID')]\n",
      "[('property', 'http://www.wikidata.org/prop/direct/P8799'), ('label', 'Twitch tag ID')]\n",
      "[('property', 'http://www.wikidata.org/prop/direct/P8814'), ('label', 'WordNet 3.1 Synset ID')]\n",
      "[('property', 'http://www.wikidata.org/prop/direct/P9100'), ('label', 'GitHub topic')]\n",
      "[('property', 'http://www.wikidata.org/prop/direct/P920'), ('label', 'LEM ID')]\n",
      "[('property', 'http://www.wikidata.org/prop/direct/P9294'), ('label', 'AIATSIS Subject Thesaurus ID')]\n",
      "[('property', 'http://www.wikidata.org/prop/direct/P9304'), ('label', 'Encyclopedia of Melbourne ID')]\n",
      "[('property', 'http://www.wikidata.org/prop/direct/P935'), ('label', 'Commons gallery')]\n",
      "72\n"
     ]
    }
   ],
   "source": [
    "queryString = \"\"\"\n",
    "SELECT DISTINCT ?property ?label\n",
    "WHERE {   \n",
    "   wd:Q5372 ?property ?object .\n",
    "   ?property sc:name ?label .\n",
    "   FILTER(isLiteral(?object)) .   \n",
    "}\n",
    "\"\"\"\n",
    "print(\"Results\")\n",
    "x=run_query(queryString)"
   ]
  },
  {
   "cell_type": "markdown",
   "id": "9253d2f1-b705-42ea-ac61-88a5ecbb96c5",
   "metadata": {
    "tags": []
   },
   "source": [
    "### Get all data property of \"basketball\"  (wd:Q5372) that do not contain ID"
   ]
  },
  {
   "cell_type": "code",
   "execution_count": 343,
   "id": "b6ba99f0-0627-4ac3-b3df-fc39c520bb9e",
   "metadata": {},
   "outputs": [
    {
     "name": "stdout",
     "output_type": "stream",
     "text": [
      "Results\n",
      "[('property', 'http://www.wikidata.org/prop/direct/P1036'), ('label', 'Dewey Decimal Classification')]\n",
      "[('property', 'http://www.wikidata.org/prop/direct/P1225'), ('label', 'U.S. National Archives Identifier')]\n",
      "[('property', 'http://www.wikidata.org/prop/direct/P1245'), ('label', 'OmegaWiki Defined Meaning')]\n",
      "[('property', 'http://www.wikidata.org/prop/direct/P1282'), ('label', 'OpenStreetMap tag or key')]\n",
      "[('property', 'http://www.wikidata.org/prop/direct/P1813'), ('label', 'short name')]\n",
      "[('property', 'http://www.wikidata.org/prop/direct/P1873'), ('label', 'maximum number of players')]\n",
      "[('property', 'http://www.wikidata.org/prop/direct/P2047'), ('label', 'duration')]\n",
      "[('property', 'http://www.wikidata.org/prop/direct/P2167'), ('label', 'UNSPSC Code')]\n",
      "[('property', 'http://www.wikidata.org/prop/direct/P373'), ('label', 'Commons category')]\n",
      "[('property', 'http://www.wikidata.org/prop/direct/P3984'), ('label', 'subreddit')]\n",
      "[('property', 'http://www.wikidata.org/prop/direct/P487'), ('label', 'Unicode character')]\n",
      "[('property', 'http://www.wikidata.org/prop/direct/P5250'), ('label', 'IAB code')]\n",
      "[('property', 'http://www.wikidata.org/prop/direct/P5429'), ('label', 'IPTC NewsCode')]\n",
      "[('property', 'http://www.wikidata.org/prop/direct/P571'), ('label', 'inception')]\n",
      "[('property', 'http://www.wikidata.org/prop/direct/P575'), ('label', 'time of discovery or invention')]\n",
      "[('property', 'http://www.wikidata.org/prop/direct/P6385'), ('label', 'Krugosvet article')]\n",
      "[('property', 'http://www.wikidata.org/prop/direct/P8248'), ('label', 'Colon Classification')]\n",
      "[('property', 'http://www.wikidata.org/prop/direct/P9100'), ('label', 'GitHub topic')]\n",
      "[('property', 'http://www.wikidata.org/prop/direct/P935'), ('label', 'Commons gallery')]\n",
      "19\n"
     ]
    }
   ],
   "source": [
    "queryString = \"\"\"\n",
    "SELECT DISTINCT ?property ?label\n",
    "WHERE {   \n",
    "   wd:Q5372 ?property ?object .\n",
    "   ?property sc:name ?label .\n",
    "   FILTER(isLiteral(?object)) .\n",
    "   FILTER REGEX(?label, \"^((?!ID).)*$\") . \n",
    "}\n",
    "\"\"\"\n",
    "print(\"Results\")\n",
    "x=run_query(queryString)"
   ]
  },
  {
   "cell_type": "markdown",
   "id": "ff8ff067-366e-4ef9-9fa8-8913b8852ae4",
   "metadata": {
    "tags": []
   },
   "source": [
    "### Get the class of \"basketball\" (wd:Q5372)"
   ]
  },
  {
   "cell_type": "code",
   "execution_count": 344,
   "id": "ae14a7fa-a251-4043-a0af-06909dab2a15",
   "metadata": {},
   "outputs": [
    {
     "name": "stdout",
     "output_type": "stream",
     "text": [
      "Results\n",
      "[('class', 'http://www.wikidata.org/entity/Q212434'), ('label', 'Olympic sport')]\n",
      "[('class', 'http://www.wikidata.org/entity/Q31629'), ('label', 'type of sport')]\n",
      "2\n"
     ]
    }
   ],
   "source": [
    "queryString = \"\"\"\n",
    "SELECT DISTINCT ?class ?label\n",
    "WHERE {   \n",
    "   wd:Q5372 wdt:P31 ?class .\n",
    "   ?class sc:name ?label .     \n",
    "}\n",
    "\"\"\"\n",
    "print(\"Results\")\n",
    "x=run_query(queryString)"
   ]
  },
  {
   "cell_type": "markdown",
   "id": "d52fcf55-bd80-4129-bd4d-0af54d90b23a",
   "metadata": {
    "tags": []
   },
   "source": [
    "### Get all object properties of \"basketball\"  (wd:Q5372)"
   ]
  },
  {
   "cell_type": "code",
   "execution_count": 346,
   "id": "f4684c73-4254-4d77-a719-35e063d87845",
   "metadata": {},
   "outputs": [
    {
     "name": "stdout",
     "output_type": "stream",
     "text": [
      "Results\n",
      "[('property', 'http://www.wikidata.org/prop/direct/P1151'), ('label', \"topic's main Wikimedia portal\")]\n",
      "[('property', 'http://www.wikidata.org/prop/direct/P18'), ('label', 'image')]\n",
      "[('property', 'http://www.wikidata.org/prop/direct/P1889'), ('label', 'different from')]\n",
      "[('property', 'http://www.wikidata.org/prop/direct/P2094'), ('label', 'competition class')]\n",
      "[('property', 'http://www.wikidata.org/prop/direct/P2283'), ('label', 'uses')]\n",
      "[('property', 'http://www.wikidata.org/prop/direct/P279'), ('label', 'subclass of')]\n",
      "[('property', 'http://www.wikidata.org/prop/direct/P2888'), ('label', 'exact match')]\n",
      "[('property', 'http://www.wikidata.org/prop/direct/P2910'), ('label', 'icon')]\n",
      "[('property', 'http://www.wikidata.org/prop/direct/P3095'), ('label', 'practiced by')]\n",
      "[('property', 'http://www.wikidata.org/prop/direct/P31'), ('label', 'instance of')]\n",
      "[('property', 'http://www.wikidata.org/prop/direct/P443'), ('label', 'pronunciation audio')]\n",
      "[('property', 'http://www.wikidata.org/prop/direct/P495'), ('label', 'country of origin')]\n",
      "[('property', 'http://www.wikidata.org/prop/direct/P5008'), ('label', 'on focus list of Wikimedia project')]\n",
      "[('property', 'http://www.wikidata.org/prop/direct/P61'), ('label', 'discoverer or inventor')]\n",
      "[('property', 'http://www.wikidata.org/prop/direct/P910'), ('label', \"topic's main category\")]\n",
      "[('property', 'http://www.wikidata.org/prop/direct/P948'), ('label', 'page banner')]\n",
      "16\n"
     ]
    }
   ],
   "source": [
    "queryString = \"\"\"\n",
    "SELECT DISTINCT ?property ?label\n",
    "WHERE {   \n",
    "   wd:Q5372 ?property ?object .\n",
    "   ?property sc:name ?label .\n",
    "   FILTER(!isLiteral(?object)) .   \n",
    "}\n",
    "\"\"\"\n",
    "\n",
    "print(\"Results\")\n",
    "x=run_query(queryString)"
   ]
  },
  {
   "cell_type": "markdown",
   "id": "8d6b7654-ae57-49f0-b4e5-b7ed0da117b2",
   "metadata": {
    "tags": []
   },
   "source": [
    "### Get all the classes connected to \"basketball\"  (wd:Q5372)"
   ]
  },
  {
   "cell_type": "code",
   "execution_count": 347,
   "id": "6ca7f0dc-0d60-4d62-ae79-c45b5e516a1b",
   "metadata": {},
   "outputs": [
    {
     "name": "stdout",
     "output_type": "stream",
     "text": [
      "Results\n",
      "[('objectClass', 'http://www.wikidata.org/entity/Q1489259'), ('label', 'superpower')]\n",
      "[('objectClass', 'http://www.wikidata.org/entity/Q22936940'), ('label', 'competition class')]\n",
      "[('objectClass', 'http://www.wikidata.org/entity/Q16695773'), ('label', 'WikiProject')]\n",
      "[('objectClass', 'http://www.wikidata.org/entity/Q1744559'), ('label', 'classification in sports')]\n",
      "[('objectClass', 'http://www.wikidata.org/entity/Q99541706'), ('label', 'historical unrecognized state')]\n",
      "[('objectClass', 'http://www.wikidata.org/entity/Q13406463'), ('label', 'Wikimedia list article')]\n",
      "[('objectClass', 'http://www.wikidata.org/entity/Q1520223'), ('label', 'constitutional republic')]\n",
      "[('objectClass', 'http://www.wikidata.org/entity/Q28640'), ('label', 'profession')]\n",
      "[('objectClass', 'http://www.wikidata.org/entity/Q31629'), ('label', 'type of sport')]\n",
      "[('objectClass', 'http://www.wikidata.org/entity/Q3624078'), ('label', 'sovereign state')]\n",
      "[('objectClass', 'http://www.wikidata.org/entity/Q4167836'), ('label', 'Wikimedia category')]\n",
      "[('objectClass', 'http://www.wikidata.org/entity/Q5'), ('label', 'human')]\n",
      "[('objectClass', 'http://www.wikidata.org/entity/Q512187'), ('label', 'federal republic')]\n",
      "[('objectClass', 'http://www.wikidata.org/entity/Q5255892'), ('label', 'democratic republic')]\n",
      "[('objectClass', 'http://www.wikidata.org/entity/Q6256'), ('label', 'country')]\n",
      "[('objectClass', 'http://www.wikidata.org/entity/Q14204246'), ('label', 'Wikimedia project page')]\n",
      "[('objectClass', 'http://www.wikidata.org/entity/Q24017414'), ('label', 'second-order class')]\n",
      "[('objectClass', 'http://www.wikidata.org/entity/Q4663903'), ('label', 'Wikimedia portal')]\n",
      "18\n"
     ]
    }
   ],
   "source": [
    "queryString = \"\"\"\n",
    "SELECT DISTINCT ?objectClass ?label\n",
    "WHERE {   \n",
    "   wd:Q5372 ?property ?object .\n",
    "   ?object wdt:P31 ?objectClass .\n",
    "   ?objectClass sc:name ?label .\n",
    "   FILTER(!isLiteral(?object)) .   \n",
    "}\n",
    "\"\"\"\n",
    "print(\"Results\")\n",
    "x=run_query(queryString)"
   ]
  },
  {
   "cell_type": "markdown",
   "id": "e6439bb8-2454-473c-a498-06dae2b0be90",
   "metadata": {
    "tags": []
   },
   "source": [
    "### Get all the couples (object property - list of the classes of the objects that are connected to \"basketball\"  (wd:Q5372) through that object property)"
   ]
  },
  {
   "cell_type": "code",
   "execution_count": 348,
   "id": "ea2619bd-4c2d-4350-96f0-5d80f666e1b8",
   "metadata": {},
   "outputs": [
    {
     "name": "stdout",
     "output_type": "stream",
     "text": [
      "Results\n",
      "[('property', 'http://www.wikidata.org/prop/direct/P5008'), ('labelProperty', 'on focus list of Wikimedia project'), ('objectsClasses', 'http://www.wikidata.org/entity/Q16695773,http://www.wikidata.org/entity/Q16695773,http://www.wikidata.org/entity/Q13406463,http://www.wikidata.org/entity/Q14204246'), ('labelsObjectsClasses', 'WikiProject,WikiProject,Wikimedia list article,Wikimedia project page')]\n",
      "[('property', 'http://www.wikidata.org/prop/direct/P3095'), ('labelProperty', 'practiced by'), ('objectsClasses', 'http://www.wikidata.org/entity/Q28640'), ('labelsObjectsClasses', 'profession')]\n",
      "[('property', 'http://www.wikidata.org/prop/direct/P1889'), ('labelProperty', 'different from'), ('objectsClasses', 'http://www.wikidata.org/entity/Q31629'), ('labelsObjectsClasses', 'type of sport')]\n",
      "[('property', 'http://www.wikidata.org/prop/direct/P2094'), ('labelProperty', 'competition class'), ('objectsClasses', 'http://www.wikidata.org/entity/Q22936940,http://www.wikidata.org/entity/Q22936940,http://www.wikidata.org/entity/Q1744559'), ('labelsObjectsClasses', 'competition class,competition class,classification in sports')]\n",
      "[('property', 'http://www.wikidata.org/prop/direct/P31'), ('labelProperty', 'instance of'), ('objectsClasses', 'http://www.wikidata.org/entity/Q31629,http://www.wikidata.org/entity/Q24017414'), ('labelsObjectsClasses', 'type of sport,second-order class')]\n",
      "[('property', 'http://www.wikidata.org/prop/direct/P910'), ('labelProperty', \"topic's main category\"), ('objectsClasses', 'http://www.wikidata.org/entity/Q4167836'), ('labelsObjectsClasses', 'Wikimedia category')]\n",
      "[('property', 'http://www.wikidata.org/prop/direct/P1151'), ('labelProperty', \"topic's main Wikimedia portal\"), ('objectsClasses', 'http://www.wikidata.org/entity/Q4663903'), ('labelsObjectsClasses', 'Wikimedia portal')]\n",
      "[('property', 'http://www.wikidata.org/prop/direct/P61'), ('labelProperty', 'discoverer or inventor'), ('objectsClasses', 'http://www.wikidata.org/entity/Q5'), ('labelsObjectsClasses', 'human')]\n",
      "[('property', 'http://www.wikidata.org/prop/direct/P495'), ('labelProperty', 'country of origin'), ('objectsClasses', 'http://www.wikidata.org/entity/Q1489259,http://www.wikidata.org/entity/Q99541706,http://www.wikidata.org/entity/Q1520223,http://www.wikidata.org/entity/Q3624078,http://www.wikidata.org/entity/Q512187,http://www.wikidata.org/entity/Q5255892,http://www.wikidata.org/entity/Q6256'), ('labelsObjectsClasses', 'superpower,historical unrecognized state,constitutional republic,sovereign state,federal republic,democratic republic,country')]\n",
      "[('property', 'http://www.wikidata.org/prop/direct/P279'), ('labelProperty', 'subclass of'), ('objectsClasses', 'http://www.wikidata.org/entity/Q31629,http://www.wikidata.org/entity/Q31629'), ('labelsObjectsClasses', 'type of sport,type of sport')]\n",
      "10\n"
     ]
    }
   ],
   "source": [
    "queryString = \"\"\"\n",
    "SELECT DISTINCT ?property ?labelProperty (GROUP_CONCAT(?objectClass ; separator = \",\")  AS ?objectsClasses) (GROUP_CONCAT(?labelObjectClass ; separator = \",\")  AS ?labelsObjectsClasses)\n",
    "WHERE \n",
    "{   \n",
    "   wd:Q5372 ?property ?object .  \n",
    "   ?object wdt:P31 ?objectClass .\n",
    "   \n",
    "   # Labels\n",
    "   ?property sc:name ?labelProperty .      \n",
    "   ?objectClass sc:name ?labelObjectClass .\n",
    "   \n",
    "   FILTER(!isLiteral(?object)) .   \n",
    "}GROUP BY ?property ?labelProperty\n",
    "LIMIT 50\n",
    "\"\"\"\n",
    "print(\"Results\")\n",
    "x=run_query(queryString)"
   ]
  },
  {
   "cell_type": "markdown",
   "id": "7d35ed10-745b-4a70-b75d-556c47886997",
   "metadata": {
    "tags": []
   },
   "source": [
    "### Get all the couples (object property - list of the  objects that are connected to \"basketball\"  (wd:Q5372) through that object property)"
   ]
  },
  {
   "cell_type": "code",
   "execution_count": 350,
   "id": "28e88dbf-dde6-4fd6-8f46-00348ae9b28a",
   "metadata": {},
   "outputs": [
    {
     "name": "stdout",
     "output_type": "stream",
     "text": [
      "Results\n",
      "[('property', 'http://www.wikidata.org/prop/direct/P5008'), ('labelProperty', 'on focus list of Wikimedia project'), ('objects', 'http://www.wikidata.org/entity/Q15304953,http://www.wikidata.org/entity/Q5460604'), ('labelsObjects', 'WikiProject African diaspora,Wikipedia:Vital articles')]\n",
      "[('property', 'http://www.wikidata.org/prop/direct/P3095'), ('labelProperty', 'practiced by'), ('objects', 'http://www.wikidata.org/entity/Q3665646'), ('labelsObjects', 'basketball player')]\n",
      "[('property', 'http://www.wikidata.org/prop/direct/P1889'), ('labelProperty', 'different from'), ('objects', 'http://www.wikidata.org/entity/Q231200'), ('labelsObjects', 'netball')]\n",
      "[('property', 'http://www.wikidata.org/prop/direct/P2094'), ('labelProperty', 'competition class'), ('objects', 'http://www.wikidata.org/entity/Q46343203,http://www.wikidata.org/entity/Q2887217'), ('labelsObjects', \"men's basketball,women's basketball\")]\n",
      "[('property', 'http://www.wikidata.org/prop/direct/P2283'), ('labelProperty', 'uses'), ('objects', 'http://www.wikidata.org/entity/Q2341939,http://www.wikidata.org/entity/Q810345,http://www.wikidata.org/entity/Q1784231,http://www.wikidata.org/entity/Q2283464'), ('labelsObjects', 'basketball court,basketball,backboard,basket')]\n",
      "[('property', 'http://www.wikidata.org/prop/direct/P31'), ('labelProperty', 'instance of'), ('objects', 'http://www.wikidata.org/entity/Q212434,http://www.wikidata.org/entity/Q31629'), ('labelsObjects', 'Olympic sport,type of sport')]\n",
      "[('property', 'http://www.wikidata.org/prop/direct/P910'), ('labelProperty', \"topic's main category\"), ('objects', 'http://www.wikidata.org/entity/Q7021007'), ('labelsObjects', 'Category:Basketball')]\n",
      "[('property', 'http://www.wikidata.org/prop/direct/P1151'), ('labelProperty', \"topic's main Wikimedia portal\"), ('objects', 'http://www.wikidata.org/entity/Q8206894'), ('labelsObjects', 'Portal:Basketball')]\n",
      "[('property', 'http://www.wikidata.org/prop/direct/P61'), ('labelProperty', 'discoverer or inventor'), ('objects', 'http://www.wikidata.org/entity/Q188962'), ('labelsObjects', 'James Naismith')]\n",
      "[('property', 'http://www.wikidata.org/prop/direct/P495'), ('labelProperty', 'country of origin'), ('objects', 'http://www.wikidata.org/entity/Q30'), ('labelsObjects', 'United States of America')]\n",
      "[('property', 'http://www.wikidata.org/prop/direct/P279'), ('labelProperty', 'subclass of'), ('objects', 'http://www.wikidata.org/entity/Q216048,http://www.wikidata.org/entity/Q877517'), ('labelsObjects', 'team sport,ball game')]\n",
      "11\n"
     ]
    }
   ],
   "source": [
    "queryString = \"\"\"\n",
    "SELECT DISTINCT ?property ?labelProperty (GROUP_CONCAT(?object ; separator = \",\")  AS ?objects) (GROUP_CONCAT(?labelObject; separator = \",\")  AS ?labelsObjects)\n",
    "WHERE \n",
    "{   \n",
    "   wd:Q5372 ?property ?object .  \n",
    " \n",
    "   # Labels\n",
    "   ?property sc:name ?labelProperty .      \n",
    "   ?object sc:name ?labelObject\n",
    "   \n",
    "   FILTER(!isLiteral(?object)) .   \n",
    "}GROUP BY ?property ?labelProperty\n",
    "LIMIT 50\n",
    "\"\"\"\n",
    "print(\"Results\")\n",
    "x=run_query(queryString)"
   ]
  },
  {
   "cell_type": "markdown",
   "id": "8ad2cd0a-560c-4cb6-b735-1b2bfb772160",
   "metadata": {
    "tags": []
   },
   "source": [
    "### Get the first 50 proprieties that connects subjects with the object \"basketball player\" (wd:Q3665646) such that the subjects are not literals"
   ]
  },
  {
   "cell_type": "code",
   "execution_count": 398,
   "id": "5d2afb5b-06bd-493c-8a6f-e991812bd7f4",
   "metadata": {},
   "outputs": [
    {
     "name": "stdout",
     "output_type": "stream",
     "text": [
      "Results\n",
      "[('property', 'http://www.wikidata.org/prop/direct/P106'), ('labelProperty', 'occupation')]\n",
      "[('property', 'http://www.wikidata.org/prop/direct/P101'), ('labelProperty', 'field of work')]\n",
      "[('property', 'http://www.wikidata.org/prop/direct/P1423'), ('labelProperty', 'template has topic')]\n",
      "[('property', 'http://www.wikidata.org/prop/direct/P971'), ('labelProperty', 'category combines topics')]\n",
      "[('property', 'http://www.wikidata.org/prop/direct/P3095'), ('labelProperty', 'practiced by')]\n",
      "[('property', 'http://www.wikidata.org/prop/direct/P360'), ('labelProperty', 'is a list of')]\n",
      "[('property', 'http://www.wikidata.org/prop/direct/P1269'), ('labelProperty', 'facet of')]\n",
      "[('property', 'http://www.wikidata.org/prop/direct/P527'), ('labelProperty', 'has part')]\n",
      "[('property', 'http://www.wikidata.org/prop/direct/P279'), ('labelProperty', 'subclass of')]\n",
      "[('property', 'http://www.wikidata.org/prop/direct/P921'), ('labelProperty', 'main subject')]\n",
      "[('property', 'http://www.wikidata.org/prop/direct/P1535'), ('labelProperty', 'used by')]\n",
      "[('property', 'http://www.wikidata.org/prop/direct/P4224'), ('labelProperty', 'category contains')]\n",
      "[('property', 'http://www.wikidata.org/prop/direct/P301'), ('labelProperty', \"category's main topic\")]\n",
      "[('property', 'http://www.wikidata.org/prop/direct/P710'), ('labelProperty', 'participant')]\n",
      "[('property', 'http://www.wikidata.org/prop/direct/P31'), ('labelProperty', 'instance of')]\n",
      "[('property', 'http://www.wikidata.org/prop/direct/P180'), ('labelProperty', 'depicts')]\n",
      "[('property', 'http://www.wikidata.org/prop/direct/P3989'), ('labelProperty', 'members have occupation')]\n",
      "17\n"
     ]
    }
   ],
   "source": [
    "queryString = \"\"\"\n",
    "SELECT DISTINCT ?property ?labelProperty\n",
    "WHERE \n",
    "{   \n",
    "   ?subject ?property wd:Q3665646 .  \n",
    " \n",
    "   # Labels\n",
    "   ?property sc:name ?labelProperty .      \n",
    "   ?subject sc:name ?labelSubject\n",
    "   \n",
    "   FILTER(!isLiteral(?subject)) .   \n",
    "}\n",
    "LIMIT 50\n",
    "\"\"\"\n",
    "print(\"Results\")\n",
    "x=run_query(queryString)"
   ]
  },
  {
   "cell_type": "markdown",
   "id": "53b5c0db-2891-4db5-adfd-00629e16618b",
   "metadata": {
    "tags": []
   },
   "source": [
    "### Get all subjects connected with \"sport\" (wdt:P641) to basketball (wd:Q5372) such that the subject label contains \"NBA Defensive Player\""
   ]
  },
  {
   "cell_type": "code",
   "execution_count": 392,
   "id": "d39ac399-bc53-462d-9389-3132b2c69d49",
   "metadata": {},
   "outputs": [
    {
     "name": "stdout",
     "output_type": "stream",
     "text": [
      "Results\n",
      "[('sbj', 'http://www.wikidata.org/entity/Q505872'), ('labelSbj', 'WNBA Defensive Player of the Year Award')]\n",
      "[('sbj', 'http://www.wikidata.org/entity/Q845884'), ('labelSbj', 'NBA Defensive Player of the Year Award')]\n",
      "2\n"
     ]
    }
   ],
   "source": [
    "queryString = \"\"\"\n",
    "SELECT DISTINCT ?sbj ?labelSbj \n",
    "WHERE {   \n",
    "   ?sbj wdt:P641 wd:Q5372 ;\n",
    "        sc:name ?labelSbj .\n",
    "   FILTER (CONTAINS(?labelSbj, \"NBA Defensive Player\"))\n",
    "}\n",
    "LIMIT 25 \n",
    "\"\"\"\n",
    "print(\"Results\")\n",
    "x=run_query(queryString)"
   ]
  },
  {
   "cell_type": "markdown",
   "id": "ecbdca24-c26a-45d8-a9df-7bf33ac9eefe",
   "metadata": {
    "tags": []
   },
   "source": [
    "### Get the first 25 subjects connected with \"sport\" (wdt:P641) to \"basketball\" (wdt:Q5372) such that the label of the subject contains \"Chicago Bulls\""
   ]
  },
  {
   "cell_type": "code",
   "execution_count": 401,
   "id": "2f6389be-25ed-4b8d-9d6d-9597c861889f",
   "metadata": {},
   "outputs": [
    {
     "name": "stdout",
     "output_type": "stream",
     "text": [
      "Results\n",
      "[('sbj', 'http://www.wikidata.org/entity/Q3667609'), ('labelSbj', '1985–86 Chicago Bulls season')]\n",
      "[('sbj', 'http://www.wikidata.org/entity/Q3667614'), ('labelSbj', '1989–90 Chicago Bulls season')]\n",
      "[('sbj', 'http://www.wikidata.org/entity/Q128109'), ('labelSbj', 'Chicago Bulls')]\n",
      "[('sbj', 'http://www.wikidata.org/entity/Q3667626'), ('labelSbj', '1998–99 Chicago Bulls season')]\n",
      "[('sbj', 'http://www.wikidata.org/entity/Q3667628'), ('labelSbj', '2000–01 Chicago Bulls season')]\n",
      "[('sbj', 'http://www.wikidata.org/entity/Q371181'), ('labelSbj', '1999–2000 Chicago Bulls season')]\n",
      "[('sbj', 'http://www.wikidata.org/entity/Q3465138'), ('labelSbj', '1967–68 Chicago Bulls season')]\n",
      "[('sbj', 'http://www.wikidata.org/entity/Q48846'), ('labelSbj', '1968–69 Chicago Bulls season')]\n",
      "[('sbj', 'http://www.wikidata.org/entity/Q969287'), ('labelSbj', '1966–67 Chicago Bulls season')]\n",
      "[('sbj', 'http://www.wikidata.org/entity/Q3465314'), ('labelSbj', '1986–87 Chicago Bulls season')]\n",
      "[('sbj', 'http://www.wikidata.org/entity/Q3465487'), ('labelSbj', '1996–97 Chicago Bulls season')]\n",
      "[('sbj', 'http://www.wikidata.org/entity/Q3667601'), ('labelSbj', '1976–77 Chicago Bulls season')]\n",
      "[('sbj', 'http://www.wikidata.org/entity/Q3667602'), ('labelSbj', '1977–78 Chicago Bulls season')]\n",
      "[('sbj', 'http://www.wikidata.org/entity/Q3667603'), ('labelSbj', '1978–79 Chicago Bulls season')]\n",
      "[('sbj', 'http://www.wikidata.org/entity/Q3667606'), ('labelSbj', '1981–82 Chicago Bulls season')]\n",
      "[('sbj', 'http://www.wikidata.org/entity/Q3667607'), ('labelSbj', '1982–83 Chicago Bulls season')]\n",
      "[('sbj', 'http://www.wikidata.org/entity/Q3667608'), ('labelSbj', '1983–84 Chicago Bulls season')]\n",
      "[('sbj', 'http://www.wikidata.org/entity/Q3667612'), ('labelSbj', '1987–88 Chicago Bulls season')]\n",
      "[('sbj', 'http://www.wikidata.org/entity/Q3667613'), ('labelSbj', '1988–89 Chicago Bulls season')]\n",
      "[('sbj', 'http://www.wikidata.org/entity/Q3667625'), ('labelSbj', '1997–98 Chicago Bulls season')]\n",
      "[('sbj', 'http://www.wikidata.org/entity/Q54866891'), ('labelSbj', '2018–19 Chicago Bulls season')]\n",
      "[('sbj', 'http://www.wikidata.org/entity/Q20020761'), ('labelSbj', '2015–16 Chicago Bulls season')]\n",
      "[('sbj', 'http://www.wikidata.org/entity/Q3667623'), ('labelSbj', '1995–96 Chicago Bulls season')]\n",
      "[('sbj', 'http://www.wikidata.org/entity/Q278943'), ('labelSbj', '1980–81 Chicago Bulls season')]\n",
      "[('sbj', 'http://www.wikidata.org/entity/Q3667604'), ('labelSbj', '1979–80 Chicago Bulls season')]\n",
      "25\n"
     ]
    }
   ],
   "source": [
    "queryString = \"\"\"\n",
    "SELECT DISTINCT ?sbj ?labelSbj \n",
    "WHERE {   \n",
    "   ?sbj wdt:P641 wd:Q5372 ;\n",
    "        sc:name ?labelSbj .\n",
    "   FILTER (CONTAINS(?labelSbj, \"Chicago Bulls\"))\n",
    "}\n",
    "LIMIT 25 \n",
    "\"\"\"\n",
    "print(\"Results\")\n",
    "x=run_query(queryString)"
   ]
  },
  {
   "cell_type": "markdown",
   "id": "83ce2cc0-d05f-47a1-a5b5-232472680407",
   "metadata": {
    "tags": []
   },
   "source": [
    "### Get the first 25 subjects connected with \"sport\" (wdt:P641) to \"basketball\" (wdt:Q5372) such that the label of the subject contains \"Chicago Bulls\" ordered descendant by label of the subject"
   ]
  },
  {
   "cell_type": "code",
   "execution_count": 403,
   "id": "d1665de8-8b93-4816-9dbc-9c62833ec73b",
   "metadata": {},
   "outputs": [
    {
     "name": "stdout",
     "output_type": "stream",
     "text": [
      "Results\n",
      "[('sbj', 'http://www.wikidata.org/entity/Q4436738'), ('labelSbj', 'list of Chicago Bulls seasons')]\n",
      "[('sbj', 'http://www.wikidata.org/entity/Q6566809'), ('labelSbj', 'list of Chicago Bulls broadcasters')]\n",
      "[('sbj', 'http://www.wikidata.org/entity/Q12425605'), ('labelSbj', 'Template:Chicago Bulls 1997–98 NBA champions')]\n",
      "[('sbj', 'http://www.wikidata.org/entity/Q12425662'), ('labelSbj', 'Template:Chicago Bulls 1996–97 NBA champions')]\n",
      "[('sbj', 'http://www.wikidata.org/entity/Q12425887'), ('labelSbj', 'Template:Chicago Bulls 1995–96 NBA champions')]\n",
      "[('sbj', 'http://www.wikidata.org/entity/Q12425733'), ('labelSbj', 'Template:Chicago Bulls 1992–93 NBA champions')]\n",
      "[('sbj', 'http://www.wikidata.org/entity/Q6872880'), ('labelSbj', 'Template:Chicago Bulls 1991–92 NBA champions')]\n",
      "[('sbj', 'http://www.wikidata.org/entity/Q6872879'), ('labelSbj', 'Template:Chicago Bulls 1990–91 NBA champions')]\n",
      "[('sbj', 'http://www.wikidata.org/entity/Q56670521'), ('labelSbj', 'Game 4 of 1988 NBA Playoffs Eastern Conference First Round, Chicago Bulls at Cleveland Cavaliers')]\n",
      "[('sbj', 'http://www.wikidata.org/entity/Q5095522'), ('labelSbj', 'Chicago Bulls draft history')]\n",
      "[('sbj', 'http://www.wikidata.org/entity/Q5095521'), ('labelSbj', 'Chicago Bulls all-time roster')]\n",
      "[('sbj', 'http://www.wikidata.org/entity/Q11307055'), ('labelSbj', 'Chicago Bulls accomplishments and records')]\n",
      "[('sbj', 'http://www.wikidata.org/entity/Q48806040'), ('labelSbj', 'Chicago Bulls Championship riots')]\n",
      "[('sbj', 'http://www.wikidata.org/entity/Q128109'), ('labelSbj', 'Chicago Bulls')]\n",
      "[('sbj', 'http://www.wikidata.org/entity/Q107739911'), ('labelSbj', '2021–22 Chicago Bulls season')]\n",
      "[('sbj', 'http://www.wikidata.org/entity/Q98553581'), ('labelSbj', '2020–21 Chicago Bulls season')]\n",
      "[('sbj', 'http://www.wikidata.org/entity/Q63859186'), ('labelSbj', '2019–20 Chicago Bulls season')]\n",
      "[('sbj', 'http://www.wikidata.org/entity/Q54866891'), ('labelSbj', '2018–19 Chicago Bulls season')]\n",
      "[('sbj', 'http://www.wikidata.org/entity/Q30642078'), ('labelSbj', '2017–18 Chicago Bulls season')]\n",
      "[('sbj', 'http://www.wikidata.org/entity/Q24909291'), ('labelSbj', '2016–17 Chicago Bulls season')]\n",
      "[('sbj', 'http://www.wikidata.org/entity/Q20020761'), ('labelSbj', '2015–16 Chicago Bulls season')]\n",
      "[('sbj', 'http://www.wikidata.org/entity/Q30753040'), ('labelSbj', '2014–15 Chicago Bulls season')]\n",
      "[('sbj', 'http://www.wikidata.org/entity/Q16987005'), ('labelSbj', '2014–15 Chicago Bulls season')]\n",
      "[('sbj', 'http://www.wikidata.org/entity/Q16864268'), ('labelSbj', '2013–14 Chicago Bulls season')]\n",
      "[('sbj', 'http://www.wikidata.org/entity/Q3468206'), ('labelSbj', '2012–13 Chicago Bulls season')]\n",
      "25\n"
     ]
    }
   ],
   "source": [
    "queryString = \"\"\"\n",
    "SELECT DISTINCT ?sbj ?labelSbj \n",
    "WHERE {   \n",
    "   ?sbj wdt:P641 wd:Q5372 ;\n",
    "        sc:name ?labelSbj .\n",
    "   FILTER (CONTAINS(?labelSbj, \"Chicago Bulls\"))\n",
    "}ORDER BY DESC (?labelSbj)\n",
    "LIMIT 25 \n",
    "\"\"\"\n",
    "print(\"Results\")\n",
    "x=run_query(queryString)"
   ]
  },
  {
   "cell_type": "markdown",
   "id": "b236a9c0-de12-4a7b-ba22-5e81b0b84f3d",
   "metadata": {
    "tags": []
   },
   "source": [
    "### Get all data property of \"2018–19 Chicago Bulls season\" (wd:Q54866891)"
   ]
  },
  {
   "cell_type": "code",
   "execution_count": 368,
   "id": "5213f9e3-afc4-494a-8a1a-c0f125bd5b2b",
   "metadata": {},
   "outputs": [
    {
     "name": "stdout",
     "output_type": "stream",
     "text": [
      "Results\n",
      "Empty\n"
     ]
    }
   ],
   "source": [
    "queryString = \"\"\"\n",
    "SELECT DISTINCT ?property ?label\n",
    "WHERE {   \n",
    "   wd:Q640697 ?property ?object .\n",
    "   ?property sc:name ?label .\n",
    "   FILTER(isLiteral(?object)) .   \n",
    "}\n",
    "\"\"\"\n",
    "print(\"Results\")\n",
    "x=run_query(queryString)"
   ]
  },
  {
   "cell_type": "markdown",
   "id": "4d66fee1-bfe3-4668-99ab-3b011ef15777",
   "metadata": {
    "tags": []
   },
   "source": [
    "### Get the class of \"2018–19 Chicago Bulls season\" (wd:Q54866891)"
   ]
  },
  {
   "cell_type": "code",
   "execution_count": 369,
   "id": "ccad97de-f896-4965-8607-3f7990e3e6c6",
   "metadata": {},
   "outputs": [
    {
     "name": "stdout",
     "output_type": "stream",
     "text": [
      "Results\n",
      "[('class', 'http://www.wikidata.org/entity/Q13406463'), ('label', 'Wikimedia list article')]\n",
      "1\n"
     ]
    }
   ],
   "source": [
    "queryString = \"\"\"\n",
    "SELECT DISTINCT ?class ?label\n",
    "WHERE {   \n",
    "   wd:Q640697 wdt:P31 ?class .\n",
    "   ?class sc:name ?label .     \n",
    "}\n",
    "\"\"\"\n",
    "print(\"Results\")\n",
    "x=run_query(queryString)"
   ]
  },
  {
   "cell_type": "markdown",
   "id": "802bb361-a683-4ba5-9937-855d9214fd84",
   "metadata": {
    "tags": []
   },
   "source": [
    "### Get all object properties of \"2018–19 Chicago Bulls season\"  (wd:Q54866891)"
   ]
  },
  {
   "cell_type": "code",
   "execution_count": 388,
   "id": "233595b2-b1c5-449e-b334-199548345193",
   "metadata": {},
   "outputs": [
    {
     "name": "stdout",
     "output_type": "stream",
     "text": [
      "Results\n",
      "[('property', 'http://www.wikidata.org/prop/direct/P31'), ('label', 'instance of')]\n",
      "[('property', 'http://www.wikidata.org/prop/direct/P641'), ('label', 'sport')]\n",
      "[('property', 'http://www.wikidata.org/prop/direct/P973'), ('label', 'described at URL')]\n",
      "3\n"
     ]
    }
   ],
   "source": [
    "queryString = \"\"\"\n",
    "SELECT DISTINCT ?property ?label\n",
    "WHERE {   \n",
    "   wd:Q1465181 ?property ?object .\n",
    "   ?property sc:name ?label .\n",
    "   FILTER(!isLiteral(?object)) .   \n",
    "}\n",
    "\"\"\"\n",
    "\n",
    "print(\"Results\")\n",
    "x=run_query(queryString)"
   ]
  },
  {
   "cell_type": "markdown",
   "id": "4d1ae6a3-cdd4-464a-83ff-d138ae6cfb9e",
   "metadata": {
    "tags": []
   },
   "source": [
    "### Get all the classes connected to \"2018–19 Chicago Bulls season\"  (wd:Q54866891)"
   ]
  },
  {
   "cell_type": "code",
   "execution_count": 371,
   "id": "bf0b93e6-36ba-4255-bcb6-1a425e178bbc",
   "metadata": {},
   "outputs": [
    {
     "name": "stdout",
     "output_type": "stream",
     "text": [
      "Results\n",
      "[('objectClass', 'http://www.wikidata.org/entity/Q212434'), ('label', 'Olympic sport')]\n",
      "[('objectClass', 'http://www.wikidata.org/entity/Q31629'), ('label', 'type of sport')]\n",
      "[('objectClass', 'http://www.wikidata.org/entity/Q55983715'), ('label', 'organisms known by a particular common name')]\n",
      "3\n"
     ]
    }
   ],
   "source": [
    "queryString = \"\"\"\n",
    "SELECT DISTINCT ?objectClass ?label\n",
    "WHERE {   \n",
    "   wd:Q640697 ?property ?object .\n",
    "   ?object wdt:P31 ?objectClass .\n",
    "   ?objectClass sc:name ?label .\n",
    "   FILTER(!isLiteral(?object)) .   \n",
    "}\n",
    "\"\"\"\n",
    "print(\"Results\")\n",
    "x=run_query(queryString)"
   ]
  },
  {
   "cell_type": "markdown",
   "id": "d4b7f9c5-6a39-4bd2-b0ee-091b347a3f47",
   "metadata": {
    "tags": []
   },
   "source": [
    "### Get all the couples (object property - list of the  objects that are connected to \"2018–19 Chicago Bulls season\" (wd:Q54866891) through that object property)"
   ]
  },
  {
   "cell_type": "code",
   "execution_count": 383,
   "id": "998f65c5-a9d8-4194-88df-cd29f518205d",
   "metadata": {},
   "outputs": [
    {
     "name": "stdout",
     "output_type": "stream",
     "text": [
      "Results\n",
      "Empty\n"
     ]
    }
   ],
   "source": [
    "queryString = \"\"\"\n",
    "SELECT DISTINCT ?obj #?property ?labelProperty (GROUP_CONCAT(?object ; separator = \",\")  AS ?objects) (GROUP_CONCAT(?labelObject; separator = \",\")  AS ?labelsObjects)\n",
    "WHERE \n",
    "{   \n",
    "   wd:Q52702755 wdt:P166 ?obj\n",
    " \n",
    "   # Labels\n",
    "   #?property sc:name ?labelProperty .      \n",
    "   #?object sc:name ?labelObject\n",
    "   \n",
    "   #FILTER(!isLiteral(?object)) .   \n",
    "}#GROUP BY ?property ?labelProperty\n",
    "LIMIT 50\n",
    "\"\"\"\n",
    "print(\"Results\")\n",
    "x=run_query(queryString)"
   ]
  },
  {
   "cell_type": "markdown",
   "id": "011a5fcd-4149-4d42-8cb3-ec6e5b091291",
   "metadata": {
    "tags": []
   },
   "source": [
    "### Get the value of the \"inception\" object propriety connected to \"NBA Depensive Player of the Year Award\" (wd:Q845884)"
   ]
  },
  {
   "cell_type": "code",
   "execution_count": 243,
   "id": "8fdbe3be",
   "metadata": {},
   "outputs": [
    {
     "name": "stdout",
     "output_type": "stream",
     "text": [
      "Results\n",
      "[('inception', '1983-01-01T00:00:00Z')]\n",
      "1\n"
     ]
    }
   ],
   "source": [
    "queryString = \"\"\"\n",
    "SELECT DISTINCT ?inception \n",
    "WHERE {   \n",
    "   wd:Q845884 wdt:P571 ?inception .\n",
    "   #?inception sc:name ?labelInception .\n",
    "}\n",
    "\"\"\"\n",
    "print(\"Results\")\n",
    "x=run_query(queryString)"
   ]
  },
  {
   "cell_type": "markdown",
   "id": "4bd5055a-9a50-4dab-9b2f-a5ec2aee0000",
   "metadata": {
    "tags": []
   },
   "source": [
    "### Get all proprieties and object labels connected to \"NBA Depensive Player of the Year Award\" (wd:Q845884)"
   ]
  },
  {
   "cell_type": "code",
   "execution_count": 245,
   "id": "7ffc6fcc-0bc7-4960-a227-63af46429c85",
   "metadata": {},
   "outputs": [
    {
     "name": "stdout",
     "output_type": "stream",
     "text": [
      "Results\n",
      "[('labelProperty', 'winner'), ('labelObject', 'Sidney Moncrief')]\n",
      "[('labelProperty', 'instance of'), ('labelObject', 'award')]\n",
      "[('labelProperty', 'winner'), ('labelObject', 'Alonzo Mourning')]\n",
      "[('labelProperty', 'sport'), ('labelObject', 'basketball')]\n",
      "[('labelProperty', 'winner'), ('labelObject', 'Michael Cooper')]\n",
      "[('labelProperty', 'winner'), ('labelObject', 'Kevin Garnett')]\n",
      "[('labelProperty', 'winner'), ('labelObject', 'Michael Jordan')]\n",
      "[('labelProperty', 'instance of'), ('labelObject', 'class of award')]\n",
      "[('labelProperty', 'winner'), ('labelObject', 'Hakeem Olajuwon')]\n",
      "[('labelProperty', 'winner'), ('labelObject', 'David Robinson')]\n",
      "[('labelProperty', 'winner'), ('labelObject', 'Marcus Camby')]\n",
      "[('labelProperty', 'winner'), ('labelObject', 'Metta Sandiford-Artest')]\n",
      "[('labelProperty', 'instance of'), ('labelObject', 'Wikimedia set index article')]\n",
      "[('labelProperty', 'winner'), ('labelObject', 'Kawhi Leonard')]\n",
      "[('labelProperty', 'winner'), ('labelObject', 'Joakim Noah')]\n",
      "[('labelProperty', 'winner'), ('labelObject', 'Alvin Robertson')]\n",
      "[('labelProperty', 'winner'), ('labelObject', 'Dennis Rodman')]\n",
      "[('labelProperty', 'winner'), ('labelObject', 'Dwight Howard')]\n",
      "[('labelProperty', 'winner'), ('labelObject', 'Marc Gasol')]\n",
      "[('labelProperty', 'winner'), ('labelObject', 'Ben Wallace')]\n",
      "[('labelProperty', 'winner'), ('labelObject', 'Gary Payton')]\n",
      "[('labelProperty', 'winner'), ('labelObject', 'Dikembe Mutombo')]\n",
      "[('labelProperty', 'winner'), ('labelObject', 'Mark Eaton')]\n",
      "[('labelProperty', 'winner'), ('labelObject', 'Tyson Chandler')]\n",
      "24\n"
     ]
    }
   ],
   "source": [
    "queryString = \"\"\"\n",
    "SELECT ?labelProperty ?labelObject\n",
    "WHERE {   \n",
    "   wd:Q845884 ?property ?object .\n",
    "   ?property sc:name ?labelProperty .\n",
    "   ?object sc:name ?labelObject .\n",
    "}\n",
    "\"\"\"\n",
    "print(\"Results\")\n",
    "x=run_query(queryString)"
   ]
  },
  {
   "cell_type": "markdown",
   "id": "2b8c098f-dcef-4a62-8b5d-54d335928f78",
   "metadata": {
    "tags": []
   },
   "source": [
    "### Get all subjects and proprieties labels such that \"NBA Depensive Player of the Year Award\" (wd:Q845884) is the object"
   ]
  },
  {
   "cell_type": "code",
   "execution_count": 246,
   "id": "7fb6b9b1-a4f1-49cc-b071-72e671598dda",
   "metadata": {},
   "outputs": [
    {
     "name": "stdout",
     "output_type": "stream",
     "text": [
      "Results\n",
      "[('labelProperty', 'award received'), ('labelSbj', 'Sidney Moncrief')]\n",
      "[('labelProperty', 'award received'), ('labelSbj', 'Alonzo Mourning')]\n",
      "[('labelProperty', 'award received'), ('labelSbj', 'Michael Cooper')]\n",
      "[('labelProperty', 'award received'), ('labelSbj', 'Kevin Garnett')]\n",
      "[('labelProperty', 'award received'), ('labelSbj', 'Michael Jordan')]\n",
      "[('labelProperty', 'award received'), ('labelSbj', 'Hakeem Olajuwon')]\n",
      "[('labelProperty', 'award received'), ('labelSbj', 'David Robinson')]\n",
      "[('labelProperty', 'award received'), ('labelSbj', 'Marcus Camby')]\n",
      "[('labelProperty', 'award received'), ('labelSbj', 'Metta Sandiford-Artest')]\n",
      "[('labelProperty', 'award received'), ('labelSbj', 'Kawhi Leonard')]\n",
      "[('labelProperty', 'award received'), ('labelSbj', 'Joakim Noah')]\n",
      "[('labelProperty', 'award received'), ('labelSbj', 'Alvin Robertson')]\n",
      "[('labelProperty', 'award received'), ('labelSbj', 'Dennis Rodman')]\n",
      "[('labelProperty', 'award received'), ('labelSbj', 'Dwight Howard')]\n",
      "[('labelProperty', 'award received'), ('labelSbj', 'Marc Gasol')]\n",
      "[('labelProperty', 'award received'), ('labelSbj', 'Ben Wallace')]\n",
      "[('labelProperty', 'award received'), ('labelSbj', 'Gary Payton')]\n",
      "[('labelProperty', 'award received'), ('labelSbj', 'Dikembe Mutombo')]\n",
      "[('labelProperty', 'award received'), ('labelSbj', 'Mark Eaton')]\n",
      "[('labelProperty', 'award received'), ('labelSbj', 'Giannis Antetokounmpo')]\n",
      "[('labelProperty', 'award received'), ('labelSbj', 'Tyson Chandler')]\n",
      "[('labelProperty', 'award received'), ('labelSbj', 'Rudy Gobert')]\n",
      "22\n"
     ]
    }
   ],
   "source": [
    "queryString = \"\"\"\n",
    "SELECT ?labelProperty ?labelSbj\n",
    "WHERE {   \n",
    "   ?sbj ?property wd:Q845884 .\n",
    "   ?property sc:name ?labelProperty .\n",
    "   ?sbj sc:name ?labelSbj .\n",
    "}\n",
    "\"\"\"\n",
    "print(\"Results\")\n",
    "x=run_query(queryString)"
   ]
  },
  {
   "cell_type": "markdown",
   "id": "2c9c70d9-ba55-4943-80ff-2aebebb0a66a",
   "metadata": {
    "tags": []
   },
   "source": [
    "### Get the first 50 subclass (wdt:P31) of \"NBA Defensive Player of the Year\" (wd:Q845884)"
   ]
  },
  {
   "cell_type": "code",
   "execution_count": 396,
   "id": "3fb74273-4fbb-47c1-b6bd-e53e2d52372f",
   "metadata": {},
   "outputs": [
    {
     "name": "stdout",
     "output_type": "stream",
     "text": [
      "Results\n",
      "Empty\n"
     ]
    }
   ],
   "source": [
    "queryString = \"\"\"\n",
    "SELECT ?subclass \n",
    "WHERE {   \n",
    "   ?subclass wdt:P31 wd:Q845884 .   \n",
    "}LIMIT 50\n",
    "\"\"\"\n",
    "print(\"Results\")\n",
    "x=run_query(queryString)"
   ]
  },
  {
   "cell_type": "markdown",
   "id": "4ebf1ebf-1740-40ed-b493-23781e681f00",
   "metadata": {
    "tags": []
   },
   "source": [
    "### Get the first 50 labels of subjects such that they are connected to \"award\" (wd:Q618779) as well as to \"NBA Defensive Player of the Year\" (wd:Q845884) and the label of the Subject contains \"2000\""
   ]
  },
  {
   "cell_type": "code",
   "execution_count": 255,
   "id": "4547f0a4-050a-462b-851f-bb4d13d2068d",
   "metadata": {},
   "outputs": [
    {
     "name": "stdout",
     "output_type": "stream",
     "text": [
      "Results\n",
      "Empty\n"
     ]
    }
   ],
   "source": [
    "queryString = \"\"\"\n",
    "SELECT ?labelSub ?labelPred\n",
    "WHERE {   \n",
    "   ?sub ?pred wd:Q618779 ;\n",
    "         sc:name ?labelSub .\n",
    "\n",
    "   ?sub ?p wd:Q845884 .\n",
    "\n",
    "\n",
    "   ?pred sc:name ?labelPred .   \n",
    "   FILTER CONTAINS(?labelSub, \"2000\")   \n",
    "}LIMIT 50\n",
    "\"\"\"\n",
    "print(\"Results\")\n",
    "x=run_query(queryString)"
   ]
  },
  {
   "cell_type": "markdown",
   "id": "c26b4e3a-e93c-4848-962d-7e5386ce62cf",
   "metadata": {
    "tags": []
   },
   "source": [
    "### Get all proprieties and objects connected to \"members of sports team\" (wdt:P54)"
   ]
  },
  {
   "cell_type": "code",
   "execution_count": 394,
   "id": "fc2a553e-e156-4eb9-8ae4-340f9b50917f",
   "metadata": {},
   "outputs": [
    {
     "name": "stdout",
     "output_type": "stream",
     "text": [
      "Results\n",
      "[('property', 'http://www.w3.org/1999/02/22-rdf-syntax-ns#type'), ('object', 'http://www.w3.org/2002/07/owl#ObjectProperty')]\n",
      "[('property', 'http://schema.org/name'), ('object', 'member of sports team')]\n",
      "2\n"
     ]
    }
   ],
   "source": [
    "queryString = \"\"\" \n",
    "SELECT DISTINCT ?property ?object\n",
    "WHERE {   \n",
    "    wdt:P54 ?property ?object .    \n",
    "}LIMIT 100\n",
    "\"\"\"\n",
    "print(\"Results\")\n",
    "x=run_query(queryString)"
   ]
  },
  {
   "cell_type": "markdown",
   "id": "b1049bb2-ff43-4feb-8f7c-c5286df40a78",
   "metadata": {},
   "source": [
    "### Get the first 100 awards wons by \"Micheal Jordan\" (wd:Q41421)"
   ]
  },
  {
   "cell_type": "code",
   "execution_count": 417,
   "id": "71e128ab-4a26-4d71-a696-db443fbb658a",
   "metadata": {},
   "outputs": [
    {
     "name": "stdout",
     "output_type": "stream",
     "text": [
      "Results\n",
      "[('award', 'http://www.wikidata.org/entity/Q1061233'), ('labelAward', \"L'Équipe Champion of Champions\")]\n",
      "[('award', 'http://www.wikidata.org/entity/Q17144'), ('labelAward', 'Presidential Medal of Freedom')]\n",
      "[('award', 'http://www.wikidata.org/entity/Q743122'), ('labelAward', 'Associated Press Athlete of the Year')]\n",
      "[('award', 'http://www.wikidata.org/entity/Q137003'), ('labelAward', '50 Greatest Players in NBA History')]\n",
      "[('award', 'http://www.wikidata.org/entity/Q1418009'), ('labelAward', 'NBA All-Rookie Team')]\n",
      "[('award', 'http://www.wikidata.org/entity/Q1465181'), ('labelAward', 'NBA All-Defensive Team')]\n",
      "[('award', 'http://www.wikidata.org/entity/Q1641970'), ('labelAward', 'John R. Wooden Award')]\n",
      "[('award', 'http://www.wikidata.org/entity/Q1653207'), ('labelAward', 'Sports Illustrated Sportsperson of the Year')]\n",
      "[('award', 'http://www.wikidata.org/entity/Q222047'), ('labelAward', 'NBA Most Valuable Player Award')]\n",
      "[('award', 'http://www.wikidata.org/entity/Q2404133'), ('labelAward', 'Oscar Robertson Trophy')]\n",
      "[('award', 'http://www.wikidata.org/entity/Q2666769'), ('labelAward', 'Naismith College Player of the Year')]\n",
      "[('award', 'http://www.wikidata.org/entity/Q31391'), ('labelAward', 'NBA All-Star Game Kobe Bryant Most Valuable Player Award')]\n",
      "[('award', 'http://www.wikidata.org/entity/Q3304648'), ('labelAward', \"Atlantic Coast Conference Men's Basketball Player of the Year\")]\n",
      "[('award', 'http://www.wikidata.org/entity/Q4650547'), ('labelAward', 'ACC Athlete of the Year')]\n",
      "[('award', 'http://www.wikidata.org/entity/Q4816371'), ('labelAward', \"Atlantic Coast Conference Men's Basketball Rookie of the Year\")]\n",
      "[('award', 'http://www.wikidata.org/entity/Q4896614'), ('labelAward', 'Best Comeback Athlete ESPY Award')]\n",
      "[('award', 'http://www.wikidata.org/entity/Q4896724'), ('labelAward', 'Best Male Athlete ESPY Award')]\n",
      "[('award', 'http://www.wikidata.org/entity/Q586458'), ('labelAward', 'FIBA Hall of Fame')]\n",
      "[('award', 'http://www.wikidata.org/entity/Q644357'), ('labelAward', 'NBA Rookie of the Year Award')]\n",
      "[('award', 'http://www.wikidata.org/entity/Q674359'), ('labelAward', 'All-NBA Team')]\n",
      "[('award', 'http://www.wikidata.org/entity/Q739499'), ('labelAward', 'Bill Russell NBA Finals Most Valuable Player Award')]\n",
      "[('award', 'http://www.wikidata.org/entity/Q845884'), ('labelAward', 'NBA Defensive Player of the Year Award')]\n",
      "[('award', 'http://www.wikidata.org/entity/Q943106'), ('labelAward', 'Best NBA Player ESPY Award')]\n",
      "23\n"
     ]
    }
   ],
   "source": [
    "queryString = \"\"\" \n",
    "SELECT ?award ?labelAward\n",
    "WHERE\n",
    "{\n",
    "  wd:Q41421 wdt:P166 ?award .\n",
    "  ?award sc:name ?labelAward .\n",
    "}LIMIT 100\n",
    "\"\"\"\n",
    "print(\"Results\")\n",
    "x=run_query(queryString)"
   ]
  },
  {
   "cell_type": "code",
   "execution_count": 424,
   "id": "74c0d803-15cf-4c34-9d57-4276936304e0",
   "metadata": {},
   "outputs": [],
   "source": [
    "## TODO TRY AWARD RECEIVED, TRY EXPLORATION FROM OTHER SIDE FOR ALL EXPLORED OBJECTS,"
   ]
  },
  {
   "cell_type": "code",
   "execution_count": null,
   "id": "4a2d8251-7919-4e56-86cb-248a364913d0",
   "metadata": {},
   "outputs": [],
   "source": [
    "### \"award\" (wd:Q618779) \"NBA Defensive Player of the Year\" (wd:Q845884)"
   ]
  },
  {
   "cell_type": "markdown",
   "id": "16c212a6-cfb3-49f1-9ee3-ae21b7c6962f",
   "metadata": {},
   "source": [
    "### Get all the incoming object proprieties of \"NBA Defensive Player of the Year Award\" (wd:Q845884)"
   ]
  },
  {
   "cell_type": "code",
   "execution_count": 13,
   "id": "56d90605-cd28-40ee-b037-daf76d90356b",
   "metadata": {},
   "outputs": [
    {
     "name": "stdout",
     "output_type": "stream",
     "text": [
      "Results\n",
      "[('property', 'http://www.wikidata.org/prop/direct/P166'), ('label', 'award received')]\n",
      "1\n"
     ]
    }
   ],
   "source": [
    "queryString = \"\"\"\n",
    "SELECT DISTINCT ?property ?label\n",
    "WHERE {   \n",
    "   ?object ?property wd:Q845884 .\n",
    "   ?property sc:name ?label .\n",
    "   FILTER(!isLiteral(?object)) .   \n",
    "}\n",
    "\"\"\"\n",
    "\n",
    "print(\"Results\")\n",
    "x=run_query(queryString)"
   ]
  },
  {
   "cell_type": "markdown",
   "id": "e96e2ebc-6e1f-4962-9a04-8c9d380018bc",
   "metadata": {},
   "source": [
    "### Get all the incoming object proprieties of \"Micheal Jordan\" (wd:Q41421)"
   ]
  },
  {
   "cell_type": "code",
   "execution_count": 15,
   "id": "67808135-ce30-48d7-9027-5bbecadc9630",
   "metadata": {},
   "outputs": [
    {
     "name": "stdout",
     "output_type": "stream",
     "text": [
      "Results\n",
      "[('property', 'http://www.wikidata.org/prop/direct/P112'), ('label', 'founded by')]\n",
      "[('property', 'http://www.wikidata.org/prop/direct/P127'), ('label', 'owned by')]\n",
      "[('property', 'http://www.wikidata.org/prop/direct/P1346'), ('label', 'winner')]\n",
      "[('property', 'http://www.wikidata.org/prop/direct/P138'), ('label', 'named after')]\n",
      "[('property', 'http://www.wikidata.org/prop/direct/P161'), ('label', 'cast member')]\n",
      "[('property', 'http://www.wikidata.org/prop/direct/P175'), ('label', 'performer')]\n",
      "[('property', 'http://www.wikidata.org/prop/direct/P180'), ('label', 'depicts')]\n",
      "[('property', 'http://www.wikidata.org/prop/direct/P1889'), ('label', 'different from')]\n",
      "[('property', 'http://www.wikidata.org/prop/direct/P22'), ('label', 'father')]\n",
      "[('property', 'http://www.wikidata.org/prop/direct/P26'), ('label', 'spouse')]\n",
      "[('property', 'http://www.wikidata.org/prop/direct/P301'), ('label', \"category's main topic\")]\n",
      "[('property', 'http://www.wikidata.org/prop/direct/P3373'), ('label', 'sibling')]\n",
      "[('property', 'http://www.wikidata.org/prop/direct/P40'), ('label', 'child')]\n",
      "[('property', 'http://www.wikidata.org/prop/direct/P527'), ('label', 'has part')]\n",
      "[('property', 'http://www.wikidata.org/prop/direct/P674'), ('label', 'characters')]\n",
      "[('property', 'http://www.wikidata.org/prop/direct/P737'), ('label', 'influenced by')]\n",
      "[('property', 'http://www.wikidata.org/prop/direct/P921'), ('label', 'main subject')]\n",
      "[('property', 'http://www.wikidata.org/prop/direct/P3279'), ('label', 'statistical leader')]\n",
      "[('property', 'http://www.wikidata.org/prop/direct/P1855'), ('label', 'Wikidata property example')]\n",
      "19\n"
     ]
    }
   ],
   "source": [
    "queryString = \"\"\"\n",
    "SELECT DISTINCT ?property ?label\n",
    "WHERE {   \n",
    "   ?object ?property wd:Q41421 .\n",
    "   ?property sc:name ?label .\n",
    "   FILTER(!isLiteral(?object)) .   \n",
    "}\n",
    "\"\"\"\n",
    "\n",
    "print(\"Results\")\n",
    "x=run_query(queryString)"
   ]
  },
  {
   "cell_type": "markdown",
   "id": "3a2f970a-4559-4ad4-ac36-186ee50499a3",
   "metadata": {},
   "source": [
    "### Get all the incoming object proprieties of \"2018-19 NBA Season\" (wd:Q52702755)"
   ]
  },
  {
   "cell_type": "code",
   "execution_count": 16,
   "id": "cbfc402a-d166-4c73-b182-9b592e01def0",
   "metadata": {},
   "outputs": [
    {
     "name": "stdout",
     "output_type": "stream",
     "text": [
      "Results\n",
      "[('property', 'http://www.wikidata.org/prop/direct/P1269'), ('label', 'facet of')]\n",
      "[('property', 'http://www.wikidata.org/prop/direct/P1344'), ('label', 'participant in')]\n",
      "[('property', 'http://www.wikidata.org/prop/direct/P301'), ('label', \"category's main topic\")]\n",
      "[('property', 'http://www.wikidata.org/prop/direct/P5249'), ('label', 'sports competition competed at')]\n",
      "4\n"
     ]
    }
   ],
   "source": [
    "queryString = \"\"\"\n",
    "SELECT DISTINCT ?property ?label\n",
    "WHERE {   \n",
    "   ?object ?property wd:Q52702755 .\n",
    "   ?property sc:name ?label .\n",
    "   FILTER(!isLiteral(?object)) .   \n",
    "}\n",
    "\"\"\"\n",
    "\n",
    "print(\"Results\")\n",
    "x=run_query(queryString)"
   ]
  },
  {
   "cell_type": "markdown",
   "id": "bae0482b-9fcb-44a2-8571-07376e6e33a5",
   "metadata": {
    "tags": []
   },
   "source": [
    "### Get all data property of \"award\" (wd:Q618779)"
   ]
  },
  {
   "cell_type": "code",
   "execution_count": 431,
   "id": "1db0f588-3b1b-40d6-adcc-e14eabc58c10",
   "metadata": {},
   "outputs": [
    {
     "name": "stdout",
     "output_type": "stream",
     "text": [
      "Results\n",
      "[('property', 'http://www.wikidata.org/prop/direct/P1014'), ('label', 'Art & Architecture Thesaurus ID')]\n",
      "[('property', 'http://www.wikidata.org/prop/direct/P1149'), ('label', 'Library of Congress Classification')]\n",
      "[('property', 'http://www.wikidata.org/prop/direct/P1225'), ('label', 'U.S. National Archives Identifier')]\n",
      "[('property', 'http://www.wikidata.org/prop/direct/P1296'), ('label', 'Gran Enciclopèdia Catalana ID')]\n",
      "[('property', 'http://www.wikidata.org/prop/direct/P2004'), ('label', 'NALT ID')]\n",
      "[('property', 'http://www.wikidata.org/prop/direct/P2163'), ('label', 'FAST ID')]\n",
      "[('property', 'http://www.wikidata.org/prop/direct/P227'), ('label', 'GND ID')]\n",
      "[('property', 'http://www.wikidata.org/prop/direct/P2347'), ('label', 'YSO ID')]\n",
      "[('property', 'http://www.wikidata.org/prop/direct/P244'), ('label', 'Library of Congress authority ID')]\n",
      "[('property', 'http://www.wikidata.org/prop/direct/P2581'), ('label', 'BabelNet ID')]\n",
      "[('property', 'http://www.wikidata.org/prop/direct/P2671'), ('label', 'Google Knowledge Graph ID')]\n",
      "[('property', 'http://www.wikidata.org/prop/direct/P268'), ('label', 'Bibliothèque nationale de France ID')]\n",
      "[('property', 'http://www.wikidata.org/prop/direct/P3221'), ('label', 'New York Times topic ID')]\n",
      "[('property', 'http://www.wikidata.org/prop/direct/P349'), ('label', 'National Diet Library ID')]\n",
      "[('property', 'http://www.wikidata.org/prop/direct/P373'), ('label', 'Commons category')]\n",
      "[('property', 'http://www.wikidata.org/prop/direct/P3827'), ('label', 'JSTOR topic ID')]\n",
      "[('property', 'http://www.wikidata.org/prop/direct/P4342'), ('label', 'Store norske leksikon ID')]\n",
      "[('property', 'http://www.wikidata.org/prop/direct/P4527'), ('label', 'UK Parliament thesaurus ID')]\n",
      "[('property', 'http://www.wikidata.org/prop/direct/P486'), ('label', 'MeSH descriptor ID')]\n",
      "[('property', 'http://www.wikidata.org/prop/direct/P5160'), ('label', 'Thesaurus for Graphic Materials ID')]\n",
      "[('property', 'http://www.wikidata.org/prop/direct/P5198'), ('label', 'ASC Leiden Thesaurus ID')]\n",
      "[('property', 'http://www.wikidata.org/prop/direct/P5395'), ('label', 'Canadian Encyclopedia article ID')]\n",
      "[('property', 'http://www.wikidata.org/prop/direct/P6293'), ('label', 'YSA ID')]\n",
      "[('property', 'http://www.wikidata.org/prop/direct/P646'), ('label', 'Freebase ID')]\n",
      "[('property', 'http://www.wikidata.org/prop/direct/P672'), ('label', 'MeSH tree code')]\n",
      "[('property', 'http://www.wikidata.org/prop/direct/P7502'), ('label', 'Golden ID')]\n",
      "[('property', 'http://www.wikidata.org/prop/direct/P7749'), ('label', 'Nomenclature for Museum Cataloging')]\n",
      "[('property', 'http://www.wikidata.org/prop/direct/P8309'), ('label', 'Yle topic ID')]\n",
      "[('property', 'http://www.wikidata.org/prop/direct/P8408'), ('label', 'KBpedia ID')]\n",
      "[('property', 'http://www.wikidata.org/prop/direct/P8540'), ('label', 'American Folklore Society Ethnographic Thesaurus ID')]\n",
      "[('property', 'http://www.wikidata.org/prop/direct/P8814'), ('label', 'WordNet 3.1 Synset ID')]\n",
      "[('property', 'http://www.wikidata.org/prop/direct/P9318'), ('label', 'Ávvir topic ID')]\n",
      "[('property', 'http://www.wikidata.org/prop/direct/P950'), ('label', 'Biblioteca Nacional de España ID')]\n",
      "[('property', 'http://www.wikidata.org/prop/direct/P6680'), ('label', 'MeSH term ID')]\n",
      "[('property', 'http://www.wikidata.org/prop/direct/P6694'), ('label', 'MeSH concept ID')]\n",
      "35\n"
     ]
    }
   ],
   "source": [
    "queryString = \"\"\"\n",
    "SELECT DISTINCT ?property ?label\n",
    "WHERE {   \n",
    "   wd:Q618779 ?property ?object .\n",
    "   ?property sc:name ?label .\n",
    "   FILTER(isLiteral(?object)) .   \n",
    "}\n",
    "\"\"\"\n",
    "print(\"Results\")\n",
    "x=run_query(queryString)"
   ]
  },
  {
   "cell_type": "markdown",
   "id": "534075c0-a631-4b8d-98c5-5bc147cc6735",
   "metadata": {
    "tags": []
   },
   "source": [
    "### Get all data property of \"award\"  (wd:Q618779) that do not contain ID"
   ]
  },
  {
   "cell_type": "code",
   "execution_count": 433,
   "id": "1eac9d73-f347-4727-8de7-f864afa3a8f2",
   "metadata": {},
   "outputs": [
    {
     "name": "stdout",
     "output_type": "stream",
     "text": [
      "Results\n",
      "[('property', 'http://www.wikidata.org/prop/direct/P1149'), ('label', 'Library of Congress Classification')]\n",
      "[('property', 'http://www.wikidata.org/prop/direct/P1225'), ('label', 'U.S. National Archives Identifier')]\n",
      "[('property', 'http://www.wikidata.org/prop/direct/P373'), ('label', 'Commons category')]\n",
      "[('property', 'http://www.wikidata.org/prop/direct/P672'), ('label', 'MeSH tree code')]\n",
      "[('property', 'http://www.wikidata.org/prop/direct/P7749'), ('label', 'Nomenclature for Museum Cataloging')]\n",
      "5\n"
     ]
    }
   ],
   "source": [
    "queryString = \"\"\"\n",
    "SELECT DISTINCT ?property ?label\n",
    "WHERE {   \n",
    "   wd:Q618779 ?property ?object .\n",
    "   ?property sc:name ?label .\n",
    "   FILTER(isLiteral(?object)) .\n",
    "   FILTER REGEX(?label, \"^((?!ID).)*$\") . \n",
    "}\n",
    "\"\"\"\n",
    "print(\"Results\")\n",
    "x=run_query(queryString)"
   ]
  },
  {
   "cell_type": "markdown",
   "id": "f0cc58a5-3523-468b-bf7d-d0f86708d492",
   "metadata": {
    "tags": []
   },
   "source": [
    "### Get the class of \"award\" (wd:Q618779)"
   ]
  },
  {
   "cell_type": "code",
   "execution_count": 438,
   "id": "e0905bea-31f7-4b22-b666-ca399fe1e5c1",
   "metadata": {},
   "outputs": [
    {
     "name": "stdout",
     "output_type": "stream",
     "text": [
      "Results\n",
      "Empty\n"
     ]
    }
   ],
   "source": [
    "queryString = \"\"\"\n",
    "SELECT DISTINCT ?class ?label\n",
    "WHERE {   \n",
    "   wd:Q618779 wdt:P31 ?class .\n",
    "   ?class sc:name ?label .     \n",
    "}\n",
    "\"\"\"\n",
    "print(\"Results\")\n",
    "x=run_query(queryString)"
   ]
  },
  {
   "cell_type": "markdown",
   "id": "218fa5bf-2898-457b-afa2-eaf26a70cb7e",
   "metadata": {
    "tags": []
   },
   "source": [
    "### Get all object properties of \"award\"  (wd:Q618779)"
   ]
  },
  {
   "cell_type": "code",
   "execution_count": 437,
   "id": "3967fdd9-9ce0-4dde-b4b7-0192ec0f67dd",
   "metadata": {},
   "outputs": [
    {
     "name": "stdout",
     "output_type": "stream",
     "text": [
      "Results\n",
      "[('property', 'http://www.wikidata.org/prop/direct/P1151'), ('label', \"topic's main Wikimedia portal\")]\n",
      "[('property', 'http://www.wikidata.org/prop/direct/P1343'), ('label', 'described by source')]\n",
      "[('property', 'http://www.wikidata.org/prop/direct/P1382'), ('label', 'partially coincident with')]\n",
      "[('property', 'http://www.wikidata.org/prop/direct/P1424'), ('label', \"topic's main template\")]\n",
      "[('property', 'http://www.wikidata.org/prop/direct/P1687'), ('label', 'Wikidata property')]\n",
      "[('property', 'http://www.wikidata.org/prop/direct/P1709'), ('label', 'equivalent class')]\n",
      "[('property', 'http://www.wikidata.org/prop/direct/P18'), ('label', 'image')]\n",
      "[('property', 'http://www.wikidata.org/prop/direct/P1889'), ('label', 'different from')]\n",
      "[('property', 'http://www.wikidata.org/prop/direct/P1963'), ('label', 'properties for this type')]\n",
      "[('property', 'http://www.wikidata.org/prop/direct/P2354'), ('label', 'has list')]\n",
      "[('property', 'http://www.wikidata.org/prop/direct/P279'), ('label', 'subclass of')]\n",
      "[('property', 'http://www.wikidata.org/prop/direct/P366'), ('label', 'use')]\n",
      "[('property', 'http://www.wikidata.org/prop/direct/P460'), ('label', 'said to be the same as')]\n",
      "[('property', 'http://www.wikidata.org/prop/direct/P461'), ('label', 'opposite of')]\n",
      "[('property', 'http://www.wikidata.org/prop/direct/P527'), ('label', 'has part')]\n",
      "[('property', 'http://www.wikidata.org/prop/direct/P6104'), ('label', 'maintained by WikiProject')]\n",
      "[('property', 'http://www.wikidata.org/prop/direct/P6186'), ('label', 'category for eponymous categories')]\n",
      "[('property', 'http://www.wikidata.org/prop/direct/P910'), ('label', \"topic's main category\")]\n",
      "18\n"
     ]
    }
   ],
   "source": [
    "queryString = \"\"\"\n",
    "SELECT DISTINCT ?property ?label\n",
    "WHERE {   \n",
    "   wd:Q618779 ?property ?object .\n",
    "   ?property sc:name ?label .\n",
    "   FILTER(!isLiteral(?object)) .   \n",
    "}\n",
    "\"\"\"\n",
    "\n",
    "print(\"Results\")\n",
    "x=run_query(queryString)"
   ]
  },
  {
   "cell_type": "markdown",
   "id": "c1b9cd15-eb34-41f9-bfa2-d62b3623a4c1",
   "metadata": {
    "tags": []
   },
   "source": [
    "### Get all the classes connected to \"award\"  (wd:Q618779)"
   ]
  },
  {
   "cell_type": "code",
   "execution_count": 436,
   "id": "54cc09a5-86d3-4629-86b1-0300a4f143b4",
   "metadata": {},
   "outputs": [
    {
     "name": "stdout",
     "output_type": "stream",
     "text": [
      "Results\n",
      "[('objectClass', 'http://www.wikidata.org/entity/Q16695773'), ('label', 'WikiProject')]\n",
      "[('objectClass', 'http://www.wikidata.org/entity/Q22964785'), ('label', 'Wikidata property related to events')]\n",
      "[('objectClass', 'http://www.wikidata.org/entity/Q61719274'), ('label', 'non-restrictive qualifier')]\n",
      "[('objectClass', 'http://www.wikidata.org/entity/Q33104279'), ('label', 'philosophical concept')]\n",
      "[('objectClass', 'http://www.wikidata.org/entity/Q96253971'), ('label', 'type of property')]\n",
      "[('objectClass', 'http://www.wikidata.org/entity/Q15647814'), ('label', 'Wikimedia administration category')]\n",
      "[('objectClass', 'http://www.wikidata.org/entity/Q30432511'), ('label', 'metacategory in Wikimedia projects')]\n",
      "[('objectClass', 'http://www.wikidata.org/entity/Q33532284'), ('label', 'Wikimedia list of lists')]\n",
      "[('objectClass', 'http://www.wikidata.org/entity/Q4167836'), ('label', 'Wikimedia category')]\n",
      "[('objectClass', 'http://www.wikidata.org/entity/Q24017414'), ('label', 'second-order class')]\n",
      "[('objectClass', 'http://www.wikidata.org/entity/Q1525071'), ('label', 'universal encyclopedia')]\n",
      "[('objectClass', 'http://www.wikidata.org/entity/Q19887878'), ('label', 'Wikimedia infobox template')]\n",
      "[('objectClass', 'http://www.wikidata.org/entity/Q18667213'), ('label', 'Wikidata property about Wikimedia categories')]\n",
      "[('objectClass', 'http://www.wikidata.org/entity/Q4663903'), ('label', 'Wikimedia portal')]\n",
      "[('objectClass', 'http://www.wikidata.org/entity/Q18608993'), ('label', 'Wikidata property for items about organizations')]\n",
      "[('objectClass', 'http://www.wikidata.org/entity/Q975413'), ('label', 'encyclopedic dictionary')]\n",
      "[('objectClass', 'http://www.wikidata.org/entity/Q1239328'), ('label', 'national encyclopedia')]\n",
      "[('objectClass', 'http://www.wikidata.org/entity/Q18618644'), ('label', 'Wikidata property for items about works')]\n",
      "[('objectClass', 'http://www.wikidata.org/entity/Q56150830'), ('label', 'Wikidata property related to awards, prizes and honours')]\n",
      "[('objectClass', 'http://www.wikidata.org/entity/Q57955292'), ('label', 'Wikidata property for items about people or organisations')]\n",
      "[('objectClass', 'http://www.wikidata.org/entity/Q22984450'), ('label', 'Wikidata property related to education')]\n",
      "[('objectClass', 'http://www.wikidata.org/entity/Q15720608'), ('label', 'Wikidata qualifier')]\n",
      "[('objectClass', 'http://www.wikidata.org/entity/Q64830420'), ('label', 'Wikidata property associated with people')]\n",
      "[('objectClass', 'http://www.wikidata.org/entity/Q28106586'), ('label', 'Wikidata property related to sport events')]\n",
      "24\n"
     ]
    }
   ],
   "source": [
    "queryString = \"\"\"\n",
    "SELECT DISTINCT ?objectClass ?label\n",
    "WHERE {   \n",
    "   wd:Q618779 ?property ?object .\n",
    "   ?object wdt:P31 ?objectClass .\n",
    "   ?objectClass sc:name ?label .\n",
    "   FILTER(!isLiteral(?object)) .   \n",
    "}\n",
    "\"\"\"\n",
    "print(\"Results\")\n",
    "x=run_query(queryString)"
   ]
  },
  {
   "cell_type": "markdown",
   "id": "499ec9e9-5017-4730-ae6c-cee799e22aba",
   "metadata": {
    "tags": []
   },
   "source": [
    "### Get all the couples (object property - list of the classes of the objects that are connected to \"award\"  (wd:Q618779) through that object property)"
   ]
  },
  {
   "cell_type": "code",
   "execution_count": 435,
   "id": "ab532d3a-a0ae-42f1-b899-bc5f3e244357",
   "metadata": {},
   "outputs": [
    {
     "name": "stdout",
     "output_type": "stream",
     "text": [
      "Results\n",
      "[('property', 'http://www.wikidata.org/prop/direct/P527'), ('labelProperty', 'has part'), ('objectsClasses', 'http://www.wikidata.org/entity/Q24017414'), ('labelsObjectsClasses', 'second-order class')]\n",
      "[('property', 'http://www.wikidata.org/prop/direct/P1424'), ('labelProperty', \"topic's main template\"), ('objectsClasses', 'http://www.wikidata.org/entity/Q19887878'), ('labelsObjectsClasses', 'Wikimedia infobox template')]\n",
      "[('property', 'http://www.wikidata.org/prop/direct/P6104'), ('labelProperty', 'maintained by WikiProject'), ('objectsClasses', 'http://www.wikidata.org/entity/Q16695773'), ('labelsObjectsClasses', 'WikiProject')]\n",
      "[('property', 'http://www.wikidata.org/prop/direct/P6186'), ('labelProperty', 'category for eponymous categories'), ('objectsClasses', 'http://www.wikidata.org/entity/Q15647814,http://www.wikidata.org/entity/Q30432511'), ('labelsObjectsClasses', 'Wikimedia administration category,metacategory in Wikimedia projects')]\n",
      "[('property', 'http://www.wikidata.org/prop/direct/P1889'), ('labelProperty', 'different from'), ('objectsClasses', 'http://www.wikidata.org/entity/Q33104279,http://www.wikidata.org/entity/Q96253971'), ('labelsObjectsClasses', 'philosophical concept,type of property')]\n",
      "[('property', 'http://www.wikidata.org/prop/direct/P2354'), ('labelProperty', 'has list'), ('objectsClasses', 'http://www.wikidata.org/entity/Q33532284'), ('labelsObjectsClasses', 'Wikimedia list of lists')]\n",
      "[('property', 'http://www.wikidata.org/prop/direct/P1963'), ('labelProperty', 'properties for this type'), ('objectsClasses', 'http://www.wikidata.org/entity/Q22964785,http://www.wikidata.org/entity/Q18667213,http://www.wikidata.org/entity/Q18608993,http://www.wikidata.org/entity/Q56150830,http://www.wikidata.org/entity/Q56150830,http://www.wikidata.org/entity/Q28106586'), ('labelsObjectsClasses', 'Wikidata property related to events,Wikidata property about Wikimedia categories,Wikidata property for items about organizations,Wikidata property related to awards, prizes and honours,Wikidata property related to awards, prizes and honours,Wikidata property related to sport events')]\n",
      "[('property', 'http://www.wikidata.org/prop/direct/P910'), ('labelProperty', \"topic's main category\"), ('objectsClasses', 'http://www.wikidata.org/entity/Q4167836'), ('labelsObjectsClasses', 'Wikimedia category')]\n",
      "[('property', 'http://www.wikidata.org/prop/direct/P1343'), ('labelProperty', 'described by source'), ('objectsClasses', 'http://www.wikidata.org/entity/Q1525071,http://www.wikidata.org/entity/Q975413,http://www.wikidata.org/entity/Q975413,http://www.wikidata.org/entity/Q1239328'), ('labelsObjectsClasses', 'universal encyclopedia,encyclopedic dictionary,encyclopedic dictionary,national encyclopedia')]\n",
      "[('property', 'http://www.wikidata.org/prop/direct/P1687'), ('labelProperty', 'Wikidata property'), ('objectsClasses', 'http://www.wikidata.org/entity/Q61719274,http://www.wikidata.org/entity/Q18608993,http://www.wikidata.org/entity/Q18618644,http://www.wikidata.org/entity/Q56150830,http://www.wikidata.org/entity/Q56150830,http://www.wikidata.org/entity/Q56150830,http://www.wikidata.org/entity/Q56150830,http://www.wikidata.org/entity/Q56150830,http://www.wikidata.org/entity/Q57955292,http://www.wikidata.org/entity/Q22984450,http://www.wikidata.org/entity/Q15720608,http://www.wikidata.org/entity/Q15720608,http://www.wikidata.org/entity/Q64830420'), ('labelsObjectsClasses', 'non-restrictive qualifier,Wikidata property for items about organizations,Wikidata property for items about works,Wikidata property related to awards, prizes and honours,Wikidata property related to awards, prizes and honours,Wikidata property related to awards, prizes and honours,Wikidata property related to awards, prizes and honours,Wikidata property related to awards, prizes and honours,Wikidata property for items about people or organisations,Wikidata property related to education,Wikidata qualifier,Wikidata qualifier,Wikidata property associated with people')]\n",
      "[('property', 'http://www.wikidata.org/prop/direct/P1151'), ('labelProperty', \"topic's main Wikimedia portal\"), ('objectsClasses', 'http://www.wikidata.org/entity/Q4663903'), ('labelsObjectsClasses', 'Wikimedia portal')]\n",
      "11\n"
     ]
    }
   ],
   "source": [
    "queryString = \"\"\"\n",
    "SELECT DISTINCT ?property ?labelProperty (GROUP_CONCAT(?objectClass ; separator = \",\")  AS ?objectsClasses) (GROUP_CONCAT(?labelObjectClass ; separator = \",\")  AS ?labelsObjectsClasses)\n",
    "WHERE \n",
    "{   \n",
    "   wd:Q618779 ?property ?object .  \n",
    "   ?object wdt:P31 ?objectClass .\n",
    "   \n",
    "   # Labels\n",
    "   ?property sc:name ?labelProperty .      \n",
    "   ?objectClass sc:name ?labelObjectClass .\n",
    "   \n",
    "   FILTER(!isLiteral(?object)) .   \n",
    "}GROUP BY ?property ?labelProperty\n",
    "LIMIT 50\n",
    "\"\"\"\n",
    "print(\"Results\")\n",
    "x=run_query(queryString)"
   ]
  },
  {
   "cell_type": "markdown",
   "id": "1675e845-9695-4500-88e8-917a2c60e06d",
   "metadata": {
    "tags": []
   },
   "source": [
    "### Get all the couples (object property - list of the  objects that are connected to \"award\"  (wd:Q618779) through that object property)"
   ]
  },
  {
   "cell_type": "code",
   "execution_count": 434,
   "id": "f38ed786-1452-4e01-ac13-72ebb3214f1a",
   "metadata": {},
   "outputs": [
    {
     "name": "stdout",
     "output_type": "stream",
     "text": [
      "Results\n",
      "[('property', 'http://www.wikidata.org/prop/direct/P527'), ('labelProperty', 'has part'), ('objects', 'http://www.wikidata.org/entity/Q38033430'), ('labelsObjects', 'class of award')]\n",
      "[('property', 'http://www.wikidata.org/prop/direct/P461'), ('labelProperty', 'opposite of'), ('objects', 'http://www.wikidata.org/entity/Q186361'), ('labelsObjects', 'punishment')]\n",
      "[('property', 'http://www.wikidata.org/prop/direct/P1424'), ('labelProperty', \"topic's main template\"), ('objects', 'http://www.wikidata.org/entity/Q5626594'), ('labelsObjects', 'Template:Infobox award')]\n",
      "[('property', 'http://www.wikidata.org/prop/direct/P6104'), ('labelProperty', 'maintained by WikiProject'), ('objects', 'http://www.wikidata.org/entity/Q18762205'), ('labelsObjects', 'WikiProject Awards and prizes')]\n",
      "[('property', 'http://www.wikidata.org/prop/direct/P6186'), ('labelProperty', 'category for eponymous categories'), ('objects', 'http://www.wikidata.org/entity/Q8105429'), ('labelsObjects', 'Category:Wikipedia categories named after awards')]\n",
      "[('property', 'http://www.wikidata.org/prop/direct/P460'), ('labelProperty', 'said to be the same as'), ('objects', 'http://www.wikidata.org/entity/Q5257307'), ('labelsObjects', 'prize')]\n",
      "[('property', 'http://www.wikidata.org/prop/direct/P366'), ('labelProperty', 'use'), ('objects', 'http://www.wikidata.org/entity/Q7302601'), ('labelsObjects', 'recognition')]\n",
      "[('property', 'http://www.wikidata.org/prop/direct/P1889'), ('labelProperty', 'different from'), ('objects', 'http://www.wikidata.org/entity/Q5282965'), ('labelsObjects', 'distinction')]\n",
      "[('property', 'http://www.wikidata.org/prop/direct/P2354'), ('labelProperty', 'has list'), ('objects', 'http://www.wikidata.org/entity/Q3260003'), ('labelsObjects', 'list of lists of prizes, medals, and awards')]\n",
      "[('property', 'http://www.wikidata.org/prop/direct/P1963'), ('labelProperty', 'properties for this type'), ('objects', 'http://www.wikidata.org/entity/P1027,http://www.wikidata.org/entity/P1346,http://www.wikidata.org/entity/P2517'), ('labelsObjects', 'conferred by,winner,category for recipients of this award')]\n",
      "[('property', 'http://www.wikidata.org/prop/direct/P910'), ('labelProperty', \"topic's main category\"), ('objects', 'http://www.wikidata.org/entity/Q18738587'), ('labelsObjects', 'Category:Awards')]\n",
      "[('property', 'http://www.wikidata.org/prop/direct/P1343'), ('labelProperty', 'described by source'), ('objects', 'http://www.wikidata.org/entity/Q19190511,http://www.wikidata.org/entity/Q2657718,http://www.wikidata.org/entity/Q602358'), ('labelsObjects', 'New Encyclopedic Dictionary,Armenian Soviet Encyclopedia,Brockhaus and Efron Encyclopedic Dictionary')]\n",
      "[('property', 'http://www.wikidata.org/prop/direct/P1687'), ('labelProperty', 'Wikidata property'), ('objects', 'http://www.wikidata.org/entity/P1027,http://www.wikidata.org/entity/P5460,http://www.wikidata.org/entity/P166,http://www.wikidata.org/entity/P1686,http://www.wikidata.org/entity/P6208,http://www.wikidata.org/entity/P4566'), ('labelsObjects', 'conferred by,grants,award received,for work,award rationale,awarded for period')]\n",
      "[('property', 'http://www.wikidata.org/prop/direct/P1382'), ('labelProperty', 'partially coincident with'), ('objects', 'http://www.wikidata.org/entity/Q841654'), ('labelsObjects', 'competition')]\n",
      "[('property', 'http://www.wikidata.org/prop/direct/P279'), ('labelProperty', 'subclass of'), ('objects', 'http://www.wikidata.org/entity/Q7302601'), ('labelsObjects', 'recognition')]\n",
      "15\n"
     ]
    }
   ],
   "source": [
    "queryString = \"\"\"\n",
    "SELECT DISTINCT ?property ?labelProperty (GROUP_CONCAT(?object ; separator = \",\")  AS ?objects) (GROUP_CONCAT(?labelObject; separator = \",\")  AS ?labelsObjects)\n",
    "WHERE \n",
    "{   \n",
    "   wd:Q618779 ?property ?object .  \n",
    " \n",
    "   # Labels\n",
    "   ?property sc:name ?labelProperty .      \n",
    "   ?object sc:name ?labelObject\n",
    "   \n",
    "   FILTER(!isLiteral(?object)) .   \n",
    "}GROUP BY ?property ?labelProperty\n",
    "LIMIT 50\n",
    "\"\"\"\n",
    "print(\"Results\")\n",
    "x=run_query(queryString)"
   ]
  },
  {
   "cell_type": "markdown",
   "id": "8c43fe46-3b47-4b9e-b776-ce810391a6b2",
   "metadata": {
    "tags": []
   },
   "source": [
    "### Get all the incoming object proprieties of \"award\" (wd:Q618779)"
   ]
  },
  {
   "cell_type": "code",
   "execution_count": 10,
   "id": "ebe3e750-92dc-4c6e-8687-d2a42efa6391",
   "metadata": {},
   "outputs": [
    {
     "name": "stdout",
     "output_type": "stream",
     "text": [
      "Results\n",
      "[('property', 'http://www.wikidata.org/prop/direct/P1423'), ('label', 'template has topic')]\n",
      "[('property', 'http://www.wikidata.org/prop/direct/P3712'), ('label', 'objective of project or action')]\n",
      "[('property', 'http://www.wikidata.org/prop/direct/P101'), ('label', 'field of work')]\n",
      "[('property', 'http://www.wikidata.org/prop/direct/P1056'), ('label', 'product or material produced')]\n",
      "[('property', 'http://www.wikidata.org/prop/direct/P1269'), ('label', 'facet of')]\n",
      "[('property', 'http://www.wikidata.org/prop/direct/P136'), ('label', 'genre')]\n",
      "[('property', 'http://www.wikidata.org/prop/direct/P1382'), ('label', 'partially coincident with')]\n",
      "[('property', 'http://www.wikidata.org/prop/direct/P166'), ('label', 'award received')]\n",
      "[('property', 'http://www.wikidata.org/prop/direct/P180'), ('label', 'depicts')]\n",
      "[('property', 'http://www.wikidata.org/prop/direct/P1889'), ('label', 'different from')]\n",
      "[('property', 'http://www.wikidata.org/prop/direct/P279'), ('label', 'subclass of')]\n",
      "[('property', 'http://www.wikidata.org/prop/direct/P2868'), ('label', 'subject has role')]\n",
      "[('property', 'http://www.wikidata.org/prop/direct/P301'), ('label', \"category's main topic\")]\n",
      "[('property', 'http://www.wikidata.org/prop/direct/P31'), ('label', 'instance of')]\n",
      "[('property', 'http://www.wikidata.org/prop/direct/P360'), ('label', 'is a list of')]\n",
      "[('property', 'http://www.wikidata.org/prop/direct/P361'), ('label', 'part of')]\n",
      "[('property', 'http://www.wikidata.org/prop/direct/P366'), ('label', 'use')]\n",
      "[('property', 'http://www.wikidata.org/prop/direct/P4224'), ('label', 'category contains')]\n",
      "[('property', 'http://www.wikidata.org/prop/direct/P460'), ('label', 'said to be the same as')]\n",
      "[('property', 'http://www.wikidata.org/prop/direct/P461'), ('label', 'opposite of')]\n",
      "[('property', 'http://www.wikidata.org/prop/direct/P527'), ('label', 'has part')]\n",
      "[('property', 'http://www.wikidata.org/prop/direct/P69'), ('label', 'educated at')]\n",
      "[('property', 'http://www.wikidata.org/prop/direct/P793'), ('label', 'significant event')]\n",
      "[('property', 'http://www.wikidata.org/prop/direct/P910'), ('label', \"topic's main category\")]\n",
      "[('property', 'http://www.wikidata.org/prop/direct/P921'), ('label', 'main subject')]\n",
      "[('property', 'http://www.wikidata.org/prop/direct/P971'), ('label', 'category combines topics')]\n",
      "[('property', 'http://www.wikidata.org/prop/direct/P1204'), ('label', \"Wikimedia portal's main topic\")]\n",
      "[('property', 'http://www.wikidata.org/prop/direct/P1074'), ('label', 'fictional analog of')]\n",
      "[('property', 'http://www.wikidata.org/prop/direct/P1629'), ('label', 'Wikidata item of this property')]\n",
      "29\n"
     ]
    }
   ],
   "source": [
    "queryString = \"\"\"\n",
    "SELECT DISTINCT ?property ?label\n",
    "WHERE {   \n",
    "   ?object ?property wd:Q618779 .\n",
    "   ?property sc:name ?label .\n",
    "   FILTER(!isLiteral(?object)) .   \n",
    "}\n",
    "\"\"\"\n",
    "\n",
    "print(\"Results\")\n",
    "x=run_query(queryString)"
   ]
  },
  {
   "cell_type": "markdown",
   "id": "94c3d49a-be75-498d-98ce-2f28d5335ca0",
   "metadata": {
    "tags": []
   },
   "source": [
    "### Final Query\n",
    "For this query I was not able to find a solution after the several trials that I have done. The information regarding the year which a player won the \"NBA Defensive Player of the Year\" is present in wikidata with prefix \"p\". The only information I can get is the list of players who won such an award but not when they won it."
   ]
  },
  {
   "cell_type": "markdown",
   "id": "84f3a3e3",
   "metadata": {},
   "source": [
    "Final query for this task"
   ]
  },
  {
   "cell_type": "code",
   "execution_count": 3,
   "id": "e5928c0d",
   "metadata": {},
   "outputs": [
    {
     "name": "stdout",
     "output_type": "stream",
     "text": [
      "Results\n",
      "[('player', 'http://www.wikidata.org/entity/Q177928'), ('labelPlayer', 'Sidney Moncrief')]\n",
      "[('player', 'http://www.wikidata.org/entity/Q310968'), ('labelPlayer', 'Alonzo Mourning')]\n",
      "[('player', 'http://www.wikidata.org/entity/Q971538'), ('labelPlayer', 'Michael Cooper')]\n",
      "[('player', 'http://www.wikidata.org/entity/Q189240'), ('labelPlayer', 'Kevin Garnett')]\n",
      "[('player', 'http://www.wikidata.org/entity/Q41421'), ('labelPlayer', 'Michael Jordan')]\n",
      "[('player', 'http://www.wikidata.org/entity/Q273256'), ('labelPlayer', 'Hakeem Olajuwon')]\n",
      "[('player', 'http://www.wikidata.org/entity/Q211876'), ('labelPlayer', 'David Robinson')]\n",
      "[('player', 'http://www.wikidata.org/entity/Q361134'), ('labelPlayer', 'Marcus Camby')]\n",
      "[('player', 'http://www.wikidata.org/entity/Q295322'), ('labelPlayer', 'Metta Sandiford-Artest')]\n",
      "[('player', 'http://www.wikidata.org/entity/Q926248'), ('labelPlayer', 'Kawhi Leonard')]\n",
      "[('player', 'http://www.wikidata.org/entity/Q311735'), ('labelPlayer', 'Joakim Noah')]\n",
      "[('player', 'http://www.wikidata.org/entity/Q449245'), ('labelPlayer', 'Alvin Robertson')]\n",
      "[('player', 'http://www.wikidata.org/entity/Q201608'), ('labelPlayer', 'Dennis Rodman')]\n",
      "[('player', 'http://www.wikidata.org/entity/Q25278'), ('labelPlayer', 'Dwight Howard')]\n",
      "[('player', 'http://www.wikidata.org/entity/Q275889'), ('labelPlayer', 'Marc Gasol')]\n",
      "[('player', 'http://www.wikidata.org/entity/Q295364'), ('labelPlayer', 'Ben Wallace')]\n",
      "[('player', 'http://www.wikidata.org/entity/Q309872'), ('labelPlayer', 'Gary Payton')]\n",
      "[('player', 'http://www.wikidata.org/entity/Q313481'), ('labelPlayer', 'Dikembe Mutombo')]\n",
      "[('player', 'http://www.wikidata.org/entity/Q357757'), ('labelPlayer', 'Mark Eaton')]\n",
      "[('player', 'http://www.wikidata.org/entity/Q8991894'), ('labelPlayer', 'Giannis Antetokounmpo')]\n",
      "[('player', 'http://www.wikidata.org/entity/Q297146'), ('labelPlayer', 'Tyson Chandler')]\n",
      "[('player', 'http://www.wikidata.org/entity/Q3446792'), ('labelPlayer', 'Rudy Gobert')]\n",
      "22\n"
     ]
    }
   ],
   "source": [
    "queryString = \"\"\"\n",
    "SELECT DISTINCT ?player ?labelPlayer\n",
    "WHERE \n",
    "{   \n",
    "    ?player wdt:P166 wd:Q845884 ;\n",
    "            sc:name ?labelPlayer .\n",
    "}\n",
    "\"\"\"\n",
    "print(\"Results\")\n",
    "x=run_query(queryString)"
   ]
  }
 ],
 "metadata": {
  "kernelspec": {
   "display_name": "Python 3",
   "language": "python",
   "name": "python3"
  },
  "language_info": {
   "codemirror_mode": {
    "name": "ipython",
    "version": 3
   },
   "file_extension": ".py",
   "mimetype": "text/x-python",
   "name": "python",
   "nbconvert_exporter": "python",
   "pygments_lexer": "ipython3",
   "version": "3.7.10"
  }
 },
 "nbformat": 4,
 "nbformat_minor": 5
}
