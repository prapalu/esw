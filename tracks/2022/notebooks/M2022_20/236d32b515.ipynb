{
 "cells": [
  {
   "cell_type": "markdown",
   "id": "9d00a8e9",
   "metadata": {},
   "source": [
    "# General instructions\n",
    "\n",
    "The goal of the project is to materialize a set of **exploratory workloads** over a real-world, large-scale,  open-domain KG: [WikiData](https://www.wikidata.org/wiki/Wikidata:Main_Page)\n",
    "\n",
    "An exploratory workload  is composed by a set of queries, where each query is related to the information obtained previously.\n",
    "\n",
    "An exploratory workload starts with a usually vague, open ended question, and does not assume the person issuing the workload has a clear understanding of the data contained in the target database or its structure.\n",
    "\n",
    "Remeber that:\n",
    "\n",
    "1. All the queries must run in the python notebook\n",
    "2. You can use classes and properties only if you find them via a SPARQL query that must be present in the notebook\n",
    "3. You do not delete useless queries. Keep everything that is synthatically valid \n",
    "\n",
    "```\n",
    "?p <http://schema.org/name> ?name .\n",
    "```\n",
    "    \n",
    "    is the BGP returning a human-readable name of a property or a class in Wikidata."
   ]
  },
  {
   "cell_type": "code",
   "execution_count": 16,
   "id": "66a5fc06",
   "metadata": {},
   "outputs": [],
   "source": [
    "## SETUP used later\n",
    "\n",
    "from SPARQLWrapper import SPARQLWrapper, JSON\n",
    "\n",
    "\n",
    "prefixString = \"\"\"\n",
    "##-236d32b515-##\n",
    "PREFIX wd: <http://www.wikidata.org/entity/> \n",
    "PREFIX wdt: <http://www.wikidata.org/prop/direct/> \n",
    "PREFIX sc: <http://schema.org/>\n",
    "\"\"\"\n",
    "\n",
    "# select and construct queries\n",
    "def run_query(queryString,verbose = True):\n",
    "    to_run = prefixString + \"\\n\" + queryString\n",
    "\n",
    "    sparql = SPARQLWrapper(\"http://a256-gc1-03.srv.aau.dk:5820/sparql\")\n",
    "    sparql.setTimeout(300)\n",
    "    sparql.setReturnFormat(JSON)\n",
    "    sparql.setQuery(to_run)\n",
    "\n",
    "    try :\n",
    "        results = sparql.query()\n",
    "        json_results = results.convert()\n",
    "        if len(json_results['results']['bindings'])==0:\n",
    "            print(\"Empty\")\n",
    "            return []\n",
    "        array = []\n",
    "        for bindings in json_results['results']['bindings']:\n",
    "            app =  [ (var, value['value'])  for var, value in bindings.items() ] \n",
    "            if verbose:\n",
    "                print( app)\n",
    "            array.append(app)\n",
    "        if verbose:\n",
    "            print(len(array))\n",
    "        return array\n",
    "\n",
    "    except Exception as e :\n",
    "        print(\"The operation failed\", e)\n",
    "    \n",
    "# ASk queries\n",
    "def run_ask_query(queryString):\n",
    "    to_run = prefixString + \"\\n\" + queryString\n",
    "\n",
    "    sparql = SPARQLWrapper(\"http://a256-gc1-03.srv.aau.dk:5820/sparql\")\n",
    "    sparql.setTimeout(300)\n",
    "    sparql.setReturnFormat(JSON)\n",
    "    sparql.setQuery(to_run)\n",
    "\n",
    "    try :\n",
    "        return sparql.query().convert()\n",
    "\n",
    "    except Exception as e :\n",
    "        print(\"The operation failed\", e)"
   ]
  },
  {
   "cell_type": "markdown",
   "id": "7b666acf",
   "metadata": {},
   "source": [
    "# History Workflow Series (\"World Wide Web\") \n",
    "\n",
    "Consider the following exploratory information need:\n",
    "\n",
    "> Investigate the origins of the World Wide Web and related academic activities and scientists."
   ]
  },
  {
   "cell_type": "markdown",
   "id": "d5cfbea7",
   "metadata": {},
   "source": [
    "## Useful URIs for the current workflow\n",
    "The following are given:\n",
    "\n",
    "| IRI           | Description   | Role      |\n",
    "| -----------   | -----------   |-----------|\n",
    "| `wdt:P1647`   | subproperty   | predicate |\n",
    "| `wdt:P31`     | instance of   | predicate |\n",
    "| `wdt:P106`    | occupation    | predicate | \n",
    "| `wdt:P279`    | subclass      | predicate |\n",
    "| `wdt:P27`     | nationality   | predicate |\n",
    "| `wdt:P3342`     | Significant person       | predicate |\n",
    "| `wd:Q5`| Human       | node |\n",
    "| `wd:Q466`| World Wide Web      | node |\n"
   ]
  },
  {
   "cell_type": "markdown",
   "id": "77f9cf3f",
   "metadata": {},
   "source": [
    "\n",
    "\n",
    "\n",
    "Also consider\n",
    "\n",
    "```\n",
    "wd:Q466 ?p ?obj .\n",
    "```\n",
    "\n",
    "is the BGP to retrieve all **properties of World Wide Web**\n",
    "\n",
    "Please consider that when you return a resource, you should return the IRI and the label of the resource. In particular, when the task require you to identify a BGP the result set must always be a list of couples IRI - label.\n",
    "\n",
    "The workload should:\n",
    "\n",
    "1. Find the inventors of World Wide Web (return IRI and name).\n",
    "\n",
    "2. Identify the BGP for hypertext system.\n",
    "\n",
    "3. Find all the hypertext systems born before the 1980 (return the IRI and name of the system and the inception date).\n",
    "\n",
    "4. Identify the BGP for computer scientist\n",
    "\n",
    "5. Find how many computer scientists there are for each continent (consider their citizenship). Return the IRI and name of the continent and the number of scientists for each continent. \n",
    "\n",
    "6. Find all the computer scientists who thaught at the University of Cambridge (return IRI and name)\n",
    "\n",
    "7. Find all the computer scientists who wrote at least 5 books (please consider only the instances of book, exclude \"literary work\" or other type of work related to books). Return the IRI and name of the computer scientist and the number of books. "
   ]
  },
  {
   "cell_type": "markdown",
   "id": "e8bf02c2",
   "metadata": {},
   "source": [
    "## Task 1\n",
    "Find the inventors of World Wide Web (return IRI and name)."
   ]
  },
  {
   "cell_type": "code",
   "execution_count": 7,
   "id": "b19f4fa0",
   "metadata": {},
   "outputs": [
    {
     "name": "stdout",
     "output_type": "stream",
     "text": [
      "Results\n",
      "[('p', 'http://www.wikidata.org/prop/direct/P1051'), ('name', 'PSH ID')]\n",
      "[('p', 'http://www.wikidata.org/prop/direct/P1225'), ('name', 'U.S. National Archives Identifier')]\n",
      "[('p', 'http://www.wikidata.org/prop/direct/P1417'), ('name', 'Encyclopædia Britannica Online ID')]\n",
      "[('p', 'http://www.wikidata.org/prop/direct/P1430'), ('name', 'OpenPlaques subject ID')]\n",
      "[('p', 'http://www.wikidata.org/prop/direct/P1482'), ('name', 'Stack Exchange tag')]\n",
      "[('p', 'http://www.wikidata.org/prop/direct/P1542'), ('name', 'has effect')]\n",
      "[('p', 'http://www.wikidata.org/prop/direct/P1813'), ('name', 'short name')]\n",
      "[('p', 'http://www.wikidata.org/prop/direct/P1889'), ('name', 'different from')]\n",
      "[('p', 'http://www.wikidata.org/prop/direct/P2004'), ('name', 'NALT ID')]\n",
      "[('p', 'http://www.wikidata.org/prop/direct/P2163'), ('name', 'FAST ID')]\n",
      "[('p', 'http://www.wikidata.org/prop/direct/P2184'), ('name', 'history of topic')]\n",
      "[('p', 'http://www.wikidata.org/prop/direct/P227'), ('name', 'GND ID')]\n",
      "[('p', 'http://www.wikidata.org/prop/direct/P2347'), ('name', 'YSO ID')]\n",
      "[('p', 'http://www.wikidata.org/prop/direct/P244'), ('name', 'Library of Congress authority ID')]\n",
      "[('p', 'http://www.wikidata.org/prop/direct/P2581'), ('name', 'BabelNet ID')]\n",
      "[('p', 'http://www.wikidata.org/prop/direct/P2612'), ('name', 'TED topic ID')]\n",
      "[('p', 'http://www.wikidata.org/prop/direct/P268'), ('name', 'Bibliothèque nationale de France ID')]\n",
      "[('p', 'http://www.wikidata.org/prop/direct/P279'), ('name', 'subclass of')]\n",
      "[('p', 'http://www.wikidata.org/prop/direct/P2959'), ('name', 'permanent duplicated item')]\n",
      "[('p', 'http://www.wikidata.org/prop/direct/P31'), ('name', 'instance of')]\n",
      "[('p', 'http://www.wikidata.org/prop/direct/P3222'), ('name', 'NE.se ID')]\n",
      "[('p', 'http://www.wikidata.org/prop/direct/P3381'), ('name', 'File Format Wiki page ID')]\n",
      "[('p', 'http://www.wikidata.org/prop/direct/P3417'), ('name', 'Quora topic ID')]\n",
      "[('p', 'http://www.wikidata.org/prop/direct/P3553'), ('name', 'Zhihu topic ID')]\n",
      "[('p', 'http://www.wikidata.org/prop/direct/P373'), ('name', 'Commons category')]\n",
      "[('p', 'http://www.wikidata.org/prop/direct/P3827'), ('name', 'JSTOR topic ID')]\n",
      "[('p', 'http://www.wikidata.org/prop/direct/P3847'), ('name', 'Open Library subject ID')]\n",
      "[('p', 'http://www.wikidata.org/prop/direct/P4342'), ('name', 'Store norske leksikon ID')]\n",
      "[('p', 'http://www.wikidata.org/prop/direct/P5008'), ('name', 'on focus list of Wikimedia project')]\n",
      "[('p', 'http://www.wikidata.org/prop/direct/P5019'), ('name', 'Brockhaus Enzyklopädie online ID')]\n",
      "[('p', 'http://www.wikidata.org/prop/direct/P508'), ('name', 'BNCF Thesaurus ID')]\n",
      "[('p', 'http://www.wikidata.org/prop/direct/P527'), ('name', 'has part')]\n",
      "[('p', 'http://www.wikidata.org/prop/direct/P5398'), ('name', 'TDKIV term ID')]\n",
      "[('p', 'http://www.wikidata.org/prop/direct/P571'), ('name', 'inception')]\n",
      "[('p', 'http://www.wikidata.org/prop/direct/P575'), ('name', 'time of discovery or invention')]\n",
      "[('p', 'http://www.wikidata.org/prop/direct/P61'), ('name', 'discoverer or inventor')]\n",
      "[('p', 'http://www.wikidata.org/prop/direct/P6366'), ('name', 'Microsoft Academic ID')]\n",
      "[('p', 'http://www.wikidata.org/prop/direct/P646'), ('name', 'Freebase ID')]\n",
      "[('p', 'http://www.wikidata.org/prop/direct/P6611'), ('name', 'Semantic Scholar topic ID')]\n",
      "[('p', 'http://www.wikidata.org/prop/direct/P7033'), ('name', 'Australian Educational Vocabulary ID')]\n",
      "[('p', 'http://www.wikidata.org/prop/direct/P737'), ('name', 'influenced by')]\n",
      "[('p', 'http://www.wikidata.org/prop/direct/P7818'), ('name', 'French Vikidia ID')]\n",
      "[('p', 'http://www.wikidata.org/prop/direct/P793'), ('name', 'significant event')]\n",
      "[('p', 'http://www.wikidata.org/prop/direct/P8408'), ('name', 'KBpedia ID')]\n",
      "[('p', 'http://www.wikidata.org/prop/direct/P910'), ('name', \"topic's main category\")]\n",
      "[('p', 'http://www.wikidata.org/prop/direct/P935'), ('name', 'Commons gallery')]\n",
      "[('p', 'http://www.wikidata.org/prop/direct/P950'), ('name', 'Biblioteca Nacional de España ID')]\n",
      "[('p', 'http://www.wikidata.org/prop/direct/P2179'), ('name', 'ACM Classification Code (2012)')]\n",
      "[('p', 'http://www.wikidata.org/prop/direct/P3893'), ('name', 'public domain date')]\n",
      "49\n"
     ]
    }
   ],
   "source": [
    "queryString = \"\"\"\n",
    "SELECT DISTINCT ?p ?name\n",
    "WHERE {\n",
    "   # bind something\n",
    "   wd:Q466 ?p ?obj .\n",
    "   # get the label\n",
    "   ?p sc:name ?name.\n",
    "}\n",
    "LIMIT 100\n",
    "\"\"\"\n",
    "\n",
    "print(\"Results\")\n",
    "x=run_query(queryString)"
   ]
  },
  {
   "cell_type": "markdown",
   "id": "cf60d273",
   "metadata": {},
   "source": [
    "Final query for this task"
   ]
  },
  {
   "cell_type": "code",
   "execution_count": 17,
   "id": "843e98fa",
   "metadata": {},
   "outputs": [
    {
     "name": "stdout",
     "output_type": "stream",
     "text": [
      "Results\n",
      "[('inventor', 'http://www.wikidata.org/entity/Q80'), ('name', 'Tim Berners-Lee')]\n",
      "[('inventor', 'http://www.wikidata.org/entity/Q92749'), ('name', 'Robert Cailliau')]\n",
      "2\n"
     ]
    }
   ],
   "source": [
    "queryString = \"\"\"\n",
    "SELECT DISTINCT ?inventor ?name\n",
    "WHERE {\n",
    "   wd:Q466 wdt:P61 ?inventor .\n",
    "   ?inventor sc:name ?name.\n",
    "   \n",
    "}\n",
    "LIMIT 20\n",
    "\"\"\"\n",
    "\n",
    "print(\"Results\")\n",
    "x=run_query(queryString)"
   ]
  },
  {
   "cell_type": "markdown",
   "id": "93979bf7",
   "metadata": {},
   "source": [
    "## Task 2\n",
    "Identify the BGP for hypertext system."
   ]
  },
  {
   "cell_type": "code",
   "execution_count": 10,
   "id": "67443a7a",
   "metadata": {},
   "outputs": [
    {
     "name": "stdout",
     "output_type": "stream",
     "text": [
      "Results\n",
      "[('obj', 'http://www.wikidata.org/entity/Q121182'), ('name', 'information system')]\n",
      "[('obj', 'http://www.wikidata.org/entity/Q65966993'), ('name', 'hypertext system')]\n",
      "2\n"
     ]
    }
   ],
   "source": [
    "queryString = \"\"\"\n",
    "SELECT DISTINCT ?obj ?name\n",
    "WHERE {\n",
    "   # bind something\n",
    "   wd:Q466 wdt:P31 ?obj .\n",
    "   # get the label\n",
    "   ?obj sc:name ?name.\n",
    "}\n",
    "LIMIT 20\n",
    "\"\"\"\n",
    "\n",
    "print(\"Results\")\n",
    "x=run_query(queryString)"
   ]
  },
  {
   "cell_type": "markdown",
   "id": "9678ba2d",
   "metadata": {},
   "source": [
    "Final query for this task"
   ]
  },
  {
   "cell_type": "code",
   "execution_count": 25,
   "id": "19b5b9b7",
   "metadata": {},
   "outputs": [
    {
     "name": "stdout",
     "output_type": "stream",
     "text": [
      "Results\n",
      "[('p', 'http://www.wikidata.org/prop/direct/P279'), ('name', 'subclass of')]\n",
      "[('p', 'http://www.wikidata.org/prop/direct/P31'), ('name', 'instance of')]\n",
      "[('p', 'http://www.wikidata.org/prop/direct/P3847'), ('name', 'Open Library subject ID')]\n",
      "3\n"
     ]
    }
   ],
   "source": [
    "queryString = \"\"\"\n",
    "SELECT DISTINCT ?p ?name\n",
    "WHERE {\n",
    "   wd:Q65966993 ?p ?obj .\n",
    "   # get the label\n",
    "   ?p sc:name ?name.\n",
    "   \n",
    "}\n",
    "LIMIT 20\n",
    "\"\"\"\n",
    "\n",
    "print(\"Results\")\n",
    "x=run_query(queryString)"
   ]
  },
  {
   "cell_type": "markdown",
   "id": "7e96cd31",
   "metadata": {},
   "source": [
    "## Task 3\n",
    "Find all the hypertext systems born before the 1980 (return the IRI and name of the system and the inception date)."
   ]
  },
  {
   "cell_type": "code",
   "execution_count": 23,
   "id": "302be3cb",
   "metadata": {},
   "outputs": [
    {
     "name": "stdout",
     "output_type": "stream",
     "text": [
      "Results\n",
      "[('obj', 'http://www.wikidata.org/entity/Q466'), ('name', 'World Wide Web'), ('born', '1989-03-12T00:00:00Z')]\n",
      "[('obj', 'http://www.wikidata.org/entity/Q466'), ('name', 'World Wide Web'), ('born', '1990-12-01T00:00:00Z')]\n",
      "[('obj', 'http://www.wikidata.org/entity/Q370979'), ('name', 'Amigaguide'), ('born', '1991-01-01T00:00:00Z')]\n",
      "[('obj', 'http://www.wikidata.org/entity/Q2385520'), ('name', 'ENQUIRE'), ('born', '1980-01-01T00:00:00Z')]\n",
      "[('obj', 'http://www.wikidata.org/entity/Q2385520'), ('name', 'ENQUIRE'), ('born', '1984-01-01T00:00:00Z')]\n",
      "[('obj', 'http://www.wikidata.org/entity/Q4994212'), ('name', 'Hypertext Editing System'), ('born', '1967-01-01T00:00:00Z')]\n",
      "[('obj', 'http://www.wikidata.org/entity/Q5448331'), ('name', 'File Retrieval and Editing System'), ('born', '1968-01-01T00:00:00Z')]\n",
      "[('obj', 'http://www.wikidata.org/entity/Q785345'), ('name', 'Project Xanadu'), ('born', '1960-01-01T00:00:00Z')]\n",
      "[('obj', 'http://www.wikidata.org/entity/Q1799609'), ('name', 'HyTime'), ('born', '1992-01-01T00:00:00Z')]\n",
      "[('obj', 'http://www.wikidata.org/entity/Q7742259'), ('name', 'The Interactive Encyclopedia System'), ('born', '1983-01-01T00:00:00Z')]\n",
      "[('obj', 'http://www.wikidata.org/entity/Q66561170'), ('name', 'Visual Knowledge Builder'), ('born', '2001-01-01T00:00:00Z')]\n",
      "[('obj', 'http://www.wikidata.org/entity/Q66561696'), ('name', 'VIKI'), ('born', '1994-01-01T00:00:00Z')]\n",
      "[('obj', 'http://www.wikidata.org/entity/Q1166919'), ('name', 'Darwin Information Typing Architecture'), ('born', '2001-01-01T00:00:00Z')]\n",
      "[('obj', 'http://www.wikidata.org/entity/Q1053749'), ('name', 'HyperCard'), ('born', '1987-01-01T00:00:00Z')]\n",
      "[('obj', 'http://www.wikidata.org/entity/Q94638515'), ('name', 'Gemini'), ('born', '2019-06-20T00:00:00Z')]\n",
      "[('obj', 'http://www.wikidata.org/entity/Q5319181'), ('name', 'Dynatext'), ('born', '1990-01-01T00:00:00Z')]\n",
      "[('obj', 'http://www.wikidata.org/entity/Q73516071'), ('name', 'Andrew Toolkit'), ('born', '1988-01-01T00:00:00Z')]\n",
      "[('obj', 'http://www.wikidata.org/entity/Q67170587'), ('name', 'Expeditee'), ('born', '2006-01-01T00:00:00Z')]\n",
      "[('obj', 'http://www.wikidata.org/entity/Q15411624'), ('name', 'Twine'), ('born', '2009-01-01T00:00:00Z')]\n",
      "[('obj', 'http://www.wikidata.org/entity/Q6839396'), ('name', 'Microcosm'), ('born', '1988-01-01T00:00:00Z')]\n",
      "[('obj', 'http://www.wikidata.org/entity/Q471'), ('name', 'Memex'), ('born', '1939-01-01T00:00:00Z')]\n",
      "[('obj', 'http://www.wikidata.org/entity/Q75004603'), ('name', 'IBM LinkWay'), ('born', '1987-01-01T00:00:00Z')]\n",
      "[('obj', 'http://www.wikidata.org/entity/Q1050365'), ('name', 'oNLine System'), ('born', '1962-01-01T00:00:00Z')]\n",
      "[('obj', 'http://www.wikidata.org/entity/Q8063246'), ('name', 'ZOG'), ('born', '1977-01-01T00:00:00Z')]\n",
      "[('obj', 'http://www.wikidata.org/entity/Q3625272'), ('name', 'Aspen Movie Map'), ('born', '1978-01-01T00:00:00Z')]\n",
      "[('obj', 'http://www.wikidata.org/entity/Q5358242'), ('name', 'Electronic Document System'), ('born', '1978-01-01T00:00:00Z')]\n",
      "[('obj', 'http://www.wikidata.org/entity/Q7620478'), ('name', 'Storyspace'), ('born', '1985-01-01T00:00:00Z')]\n",
      "[('obj', 'http://www.wikidata.org/entity/Q5615425'), ('name', 'Guide'), ('born', '1982-01-01T00:00:00Z')]\n",
      "[('obj', 'http://www.wikidata.org/entity/Q11793087'), ('name', 'NoteCards'), ('born', '1984-01-01T00:00:00Z')]\n",
      "[('obj', 'http://www.wikidata.org/entity/Q74428178'), ('name', 'HyperCOSTOC'), ('born', '1989-01-01T00:00:00Z')]\n",
      "[('obj', 'http://www.wikidata.org/entity/Q104714171'), ('name', 'HM-Card'), ('born', '1995-01-01T00:00:00Z')]\n",
      "[('obj', 'http://www.wikidata.org/entity/Q7060634'), ('name', 'Norton Guides'), ('born', '1985-01-01T00:00:00Z')]\n",
      "32\n"
     ]
    }
   ],
   "source": [
    "queryString = \"\"\"\n",
    "SELECT DISTINCT ?obj ?name ?born\n",
    "WHERE {\n",
    "   ?obj wdt:P31 wd:Q65966993  .\n",
    "   ?obj sc:name ?name.\n",
    "   ?obj wdt:P571 ?born   \n",
    "}\n",
    "LIMIT 50\n",
    "\"\"\"\n",
    "\n",
    "print(\"Results\")\n",
    "x=run_query(queryString)"
   ]
  },
  {
   "cell_type": "markdown",
   "id": "ee6e5a32",
   "metadata": {},
   "source": [
    "Final query for this task"
   ]
  },
  {
   "cell_type": "code",
   "execution_count": 22,
   "id": "4dd7bec4",
   "metadata": {},
   "outputs": [
    {
     "name": "stdout",
     "output_type": "stream",
     "text": [
      "Results\n",
      "[('obj', 'http://www.wikidata.org/entity/Q4994212'), ('name', 'Hypertext Editing System'), ('year', '1967')]\n",
      "[('obj', 'http://www.wikidata.org/entity/Q5448331'), ('name', 'File Retrieval and Editing System'), ('year', '1968')]\n",
      "[('obj', 'http://www.wikidata.org/entity/Q785345'), ('name', 'Project Xanadu'), ('year', '1960')]\n",
      "[('obj', 'http://www.wikidata.org/entity/Q471'), ('name', 'Memex'), ('year', '1939')]\n",
      "[('obj', 'http://www.wikidata.org/entity/Q1050365'), ('name', 'oNLine System'), ('year', '1962')]\n",
      "[('obj', 'http://www.wikidata.org/entity/Q8063246'), ('name', 'ZOG'), ('year', '1977')]\n",
      "[('obj', 'http://www.wikidata.org/entity/Q3625272'), ('name', 'Aspen Movie Map'), ('year', '1978')]\n",
      "[('obj', 'http://www.wikidata.org/entity/Q5358242'), ('name', 'Electronic Document System'), ('year', '1978')]\n",
      "8\n"
     ]
    }
   ],
   "source": [
    "queryString = \"\"\"\n",
    "SELECT DISTINCT ?obj ?name ?year\n",
    "WHERE {\n",
    "   ?obj wdt:P31 wd:Q65966993  .\n",
    "   ?obj sc:name ?name.\n",
    "   ?obj wdt:P571 ?born\n",
    "   BIND(STRBEFORE( STR(?born), \"-\" )  AS ?year)\n",
    "   FILTER(str(?year) < \"1980\")\n",
    "    \n",
    "}\n",
    "LIMIT 50\n",
    "\"\"\"\n",
    "\n",
    "print(\"Results\")\n",
    "x=run_query(queryString)"
   ]
  },
  {
   "cell_type": "markdown",
   "id": "1480564e",
   "metadata": {},
   "source": [
    "## Task 4\n",
    "Identify the BGP for computer scientist"
   ]
  },
  {
   "cell_type": "code",
   "execution_count": 88,
   "id": "0e842cb5",
   "metadata": {},
   "outputs": [
    {
     "name": "stdout",
     "output_type": "stream",
     "text": [
      "Results\n",
      "[('person', 'http://www.wikidata.org/entity/Q8190500'), ('name', 'Seinosuke Toda'), ('obj', 'http://www.wikidata.org/entity/Q82594'), ('occupation', 'computer scientist')]\n",
      "[('person', 'http://www.wikidata.org/entity/Q603999'), ('name', 'Kevin Poulsen'), ('obj', 'http://www.wikidata.org/entity/Q82594'), ('occupation', 'computer scientist')]\n",
      "[('person', 'http://www.wikidata.org/entity/Q11109023'), ('name', 'Michael Barr'), ('obj', 'http://www.wikidata.org/entity/Q82594'), ('occupation', 'computer scientist')]\n",
      "[('person', 'http://www.wikidata.org/entity/Q20731777'), ('name', 'Valeria de Paiva'), ('obj', 'http://www.wikidata.org/entity/Q82594'), ('occupation', 'computer scientist')]\n",
      "[('person', 'http://www.wikidata.org/entity/Q24901829'), ('name', 'Ernesto Damiani'), ('obj', 'http://www.wikidata.org/entity/Q82594'), ('occupation', 'computer scientist')]\n",
      "[('person', 'http://www.wikidata.org/entity/Q61856956'), ('name', 'Richard Garner'), ('obj', 'http://www.wikidata.org/entity/Q82594'), ('occupation', 'computer scientist')]\n",
      "[('person', 'http://www.wikidata.org/entity/Q6539960'), ('name', 'Liang-Jie Zhang'), ('obj', 'http://www.wikidata.org/entity/Q82594'), ('occupation', 'computer scientist')]\n",
      "[('person', 'http://www.wikidata.org/entity/Q92669'), ('name', 'Jeffrey Shallit'), ('obj', 'http://www.wikidata.org/entity/Q82594'), ('occupation', 'computer scientist')]\n",
      "[('person', 'http://www.wikidata.org/entity/Q15842362'), ('name', 'Richard Clippinger'), ('obj', 'http://www.wikidata.org/entity/Q82594'), ('occupation', 'computer scientist')]\n",
      "[('person', 'http://www.wikidata.org/entity/Q15858435'), ('name', 'Hardo Bourguignon'), ('obj', 'http://www.wikidata.org/entity/Q82594'), ('occupation', 'computer scientist')]\n",
      "[('person', 'http://www.wikidata.org/entity/Q15917430'), ('name', 'A. Ollongren'), ('obj', 'http://www.wikidata.org/entity/Q82594'), ('occupation', 'computer scientist')]\n",
      "[('person', 'http://www.wikidata.org/entity/Q16018928'), ('name', 'Jim Thomas'), ('obj', 'http://www.wikidata.org/entity/Q82594'), ('occupation', 'computer scientist')]\n",
      "[('person', 'http://www.wikidata.org/entity/Q241735'), ('name', 'Robert Noyce'), ('obj', 'http://www.wikidata.org/entity/Q82594'), ('occupation', 'computer scientist')]\n",
      "[('person', 'http://www.wikidata.org/entity/Q7312654'), ('name', 'Renato M. E. Sabbatini'), ('obj', 'http://www.wikidata.org/entity/Q82594'), ('occupation', 'computer scientist')]\n",
      "[('person', 'http://www.wikidata.org/entity/Q16174254'), ('name', 'Drude Berntsen'), ('obj', 'http://www.wikidata.org/entity/Q82594'), ('occupation', 'computer scientist')]\n",
      "[('person', 'http://www.wikidata.org/entity/Q16186703'), ('name', 'Timothy J. Hickey'), ('obj', 'http://www.wikidata.org/entity/Q82594'), ('occupation', 'computer scientist')]\n",
      "[('person', 'http://www.wikidata.org/entity/Q16193458'), ('name', 'Terry Myerson'), ('obj', 'http://www.wikidata.org/entity/Q82594'), ('occupation', 'computer scientist')]\n",
      "[('person', 'http://www.wikidata.org/entity/Q16194868'), ('name', 'Ross Williams'), ('obj', 'http://www.wikidata.org/entity/Q82594'), ('occupation', 'computer scientist')]\n",
      "[('person', 'http://www.wikidata.org/entity/Q16195136'), ('name', 'Frans Kaashoek'), ('obj', 'http://www.wikidata.org/entity/Q82594'), ('occupation', 'computer scientist')]\n",
      "[('person', 'http://www.wikidata.org/entity/Q16195669'), ('name', 'William Martens'), ('obj', 'http://www.wikidata.org/entity/Q82594'), ('occupation', 'computer scientist')]\n",
      "20\n"
     ]
    }
   ],
   "source": [
    "queryString = \"\"\"\n",
    "SELECT DISTINCT ?person ?name ?obj ?occupation\n",
    "WHERE {\n",
    "    ?person wdt:P31 wd:Q5 .\n",
    "    ?person wdt:P106 ?obj .\n",
    "   ?person sc:name ?name.\n",
    "   ?obj sc:name ?occupation .\n",
    "   FILTER(STR(?occupation) = \"computer scientist\")\n",
    "   \n",
    "}\n",
    "LIMIT 20\n",
    "\"\"\"\n",
    "\n",
    "print(\"Results\")\n",
    "x=run_query(queryString)"
   ]
  },
  {
   "cell_type": "markdown",
   "id": "e41d23b6",
   "metadata": {},
   "source": [
    "Final query for this task"
   ]
  },
  {
   "cell_type": "code",
   "execution_count": 90,
   "id": "5b8ab1fd",
   "metadata": {},
   "outputs": [
    {
     "name": "stdout",
     "output_type": "stream",
     "text": [
      "Results\n",
      "[('p', 'http://www.wikidata.org/prop/direct/P1014'), ('name', 'Art & Architecture Thesaurus ID')]\n",
      "[('p', 'http://www.wikidata.org/prop/direct/P1036'), ('name', 'Dewey Decimal Classification')]\n",
      "[('p', 'http://www.wikidata.org/prop/direct/P1245'), ('name', 'OmegaWiki Defined Meaning')]\n",
      "[('p', 'http://www.wikidata.org/prop/direct/P1296'), ('name', 'Gran Enciclopèdia Catalana ID')]\n",
      "[('p', 'http://www.wikidata.org/prop/direct/P18'), ('name', 'image')]\n",
      "[('p', 'http://www.wikidata.org/prop/direct/P1889'), ('name', 'different from')]\n",
      "[('p', 'http://www.wikidata.org/prop/direct/P227'), ('name', 'GND ID')]\n",
      "[('p', 'http://www.wikidata.org/prop/direct/P2283'), ('name', 'uses')]\n",
      "[('p', 'http://www.wikidata.org/prop/direct/P2354'), ('name', 'has list')]\n",
      "[('p', 'http://www.wikidata.org/prop/direct/P244'), ('name', 'Library of Congress authority ID')]\n",
      "[('p', 'http://www.wikidata.org/prop/direct/P268'), ('name', 'Bibliothèque nationale de France ID')]\n",
      "[('p', 'http://www.wikidata.org/prop/direct/P279'), ('name', 'subclass of')]\n",
      "[('p', 'http://www.wikidata.org/prop/direct/P31'), ('name', 'instance of')]\n",
      "[('p', 'http://www.wikidata.org/prop/direct/P3417'), ('name', 'Quora topic ID')]\n",
      "[('p', 'http://www.wikidata.org/prop/direct/P373'), ('name', 'Commons category')]\n",
      "[('p', 'http://www.wikidata.org/prop/direct/P417'), ('name', 'patron saint')]\n",
      "[('p', 'http://www.wikidata.org/prop/direct/P425'), ('name', 'field of this occupation')]\n",
      "[('p', 'http://www.wikidata.org/prop/direct/P460'), ('name', 'said to be the same as')]\n",
      "[('p', 'http://www.wikidata.org/prop/direct/P508'), ('name', 'BNCF Thesaurus ID')]\n",
      "[('p', 'http://www.wikidata.org/prop/direct/P6186'), ('name', 'category for eponymous categories')]\n",
      "20\n"
     ]
    }
   ],
   "source": [
    "queryString = \"\"\"\n",
    "SELECT DISTINCT ?p ?name \n",
    "WHERE {\n",
    "    wd:Q82594 ?p ?obj .\n",
    "    ?p sc:name ?name\n",
    "   \n",
    "}\n",
    "LIMIT 20\n",
    "\"\"\"\n",
    "\n",
    "print(\"Results\")\n",
    "x=run_query(queryString)"
   ]
  },
  {
   "cell_type": "markdown",
   "id": "d45c3ecf",
   "metadata": {},
   "source": [
    "## Task 5\n",
    "Find how many computer scientists there are for each continent (consider their citizenship). Return the IRI and name of the continent and the number of scientists for each continent."
   ]
  },
  {
   "cell_type": "code",
   "execution_count": 20,
   "id": "baba6b01",
   "metadata": {},
   "outputs": [
    {
     "name": "stdout",
     "output_type": "stream",
     "text": [
      "Results\n",
      "[('person', 'http://www.wikidata.org/entity/Q8190500'), ('name', 'Seinosuke Toda'), ('occupation', 'computer scientist'), ('continent', 'http://www.wikidata.org/entity/Q48'), ('continentname', 'Asia')]\n",
      "[('person', 'http://www.wikidata.org/entity/Q20731777'), ('name', 'Valeria de Paiva'), ('occupation', 'computer scientist'), ('continent', 'http://www.wikidata.org/entity/Q46'), ('continentname', 'Europe')]\n",
      "[('person', 'http://www.wikidata.org/entity/Q20731777'), ('name', 'Valeria de Paiva'), ('occupation', 'computer scientist'), ('continent', 'http://www.wikidata.org/entity/Q18'), ('continentname', 'South America')]\n",
      "[('person', 'http://www.wikidata.org/entity/Q11109023'), ('name', 'Michael Barr'), ('occupation', 'computer scientist'), ('continent', 'http://www.wikidata.org/entity/Q49'), ('continentname', 'North America')]\n",
      "[('person', 'http://www.wikidata.org/entity/Q603999'), ('name', 'Kevin Poulsen'), ('occupation', 'computer scientist'), ('continent', 'http://www.wikidata.org/entity/Q538'), ('continentname', 'Insular Oceania')]\n",
      "[('person', 'http://www.wikidata.org/entity/Q6539960'), ('name', 'Liang-Jie Zhang'), ('occupation', 'computer scientist'), ('continent', 'http://www.wikidata.org/entity/Q538'), ('continentname', 'Insular Oceania')]\n",
      "[('person', 'http://www.wikidata.org/entity/Q92669'), ('name', 'Jeffrey Shallit'), ('occupation', 'computer scientist'), ('continent', 'http://www.wikidata.org/entity/Q49'), ('continentname', 'North America')]\n",
      "[('person', 'http://www.wikidata.org/entity/Q603999'), ('name', 'Kevin Poulsen'), ('occupation', 'computer scientist'), ('continent', 'http://www.wikidata.org/entity/Q49'), ('continentname', 'North America')]\n",
      "[('person', 'http://www.wikidata.org/entity/Q6539960'), ('name', 'Liang-Jie Zhang'), ('occupation', 'computer scientist'), ('continent', 'http://www.wikidata.org/entity/Q49'), ('continentname', 'North America')]\n",
      "[('person', 'http://www.wikidata.org/entity/Q92669'), ('name', 'Jeffrey Shallit'), ('occupation', 'computer scientist'), ('continent', 'http://www.wikidata.org/entity/Q538'), ('continentname', 'Insular Oceania')]\n",
      "[('person', 'http://www.wikidata.org/entity/Q24901829'), ('name', 'Ernesto Damiani'), ('occupation', 'computer scientist'), ('continent', 'http://www.wikidata.org/entity/Q46'), ('continentname', 'Europe')]\n",
      "[('person', 'http://www.wikidata.org/entity/Q15858435'), ('name', 'Hardo Bourguignon'), ('occupation', 'computer scientist'), ('continent', 'http://www.wikidata.org/entity/Q46'), ('continentname', 'Europe')]\n",
      "[('person', 'http://www.wikidata.org/entity/Q15858435'), ('name', 'Hardo Bourguignon'), ('occupation', 'computer scientist'), ('continent', 'http://www.wikidata.org/entity/Q49'), ('continentname', 'North America')]\n",
      "[('person', 'http://www.wikidata.org/entity/Q15917430'), ('name', 'A. Ollongren'), ('occupation', 'computer scientist'), ('continent', 'http://www.wikidata.org/entity/Q46'), ('continentname', 'Europe')]\n",
      "[('person', 'http://www.wikidata.org/entity/Q15917430'), ('name', 'A. Ollongren'), ('occupation', 'computer scientist'), ('continent', 'http://www.wikidata.org/entity/Q49'), ('continentname', 'North America')]\n",
      "[('person', 'http://www.wikidata.org/entity/Q15842362'), ('name', 'Richard Clippinger'), ('occupation', 'computer scientist'), ('continent', 'http://www.wikidata.org/entity/Q49'), ('continentname', 'North America')]\n",
      "[('person', 'http://www.wikidata.org/entity/Q15842362'), ('name', 'Richard Clippinger'), ('occupation', 'computer scientist'), ('continent', 'http://www.wikidata.org/entity/Q538'), ('continentname', 'Insular Oceania')]\n",
      "[('person', 'http://www.wikidata.org/entity/Q16018928'), ('name', 'Jim Thomas'), ('occupation', 'computer scientist'), ('continent', 'http://www.wikidata.org/entity/Q49'), ('continentname', 'North America')]\n",
      "[('person', 'http://www.wikidata.org/entity/Q16018928'), ('name', 'Jim Thomas'), ('occupation', 'computer scientist'), ('continent', 'http://www.wikidata.org/entity/Q538'), ('continentname', 'Insular Oceania')]\n",
      "[('person', 'http://www.wikidata.org/entity/Q7312654'), ('name', 'Renato M. E. Sabbatini'), ('occupation', 'computer scientist'), ('continent', 'http://www.wikidata.org/entity/Q18'), ('continentname', 'South America')]\n",
      "20\n"
     ]
    }
   ],
   "source": [
    "queryString = \"\"\"\n",
    "SELECT DISTINCT  ?person ?name ?occupation ?continent ?continentname\n",
    "WHERE {\n",
    "    ?person wdt:P31 wd:Q5 .\n",
    "    ?person wdt:P106 ?obj .\n",
    "    ?person sc:name ?name .\n",
    "   ?obj sc:name ?occupation .\n",
    "   FILTER(STR(?occupation) = \"computer scientist\")\n",
    "   ?person wdt:P27 ?nation .\n",
    "   ?nation sc:name ?country .\n",
    "   ?nation wdt:P30 ?continent .\n",
    "   ?continent sc:name ?continentname\n",
    "   \n",
    "} LIMIT 20\n",
    "\"\"\"\n",
    "\n",
    "print(\"Results\")\n",
    "x=run_query(queryString)"
   ]
  },
  {
   "cell_type": "markdown",
   "id": "b0126801",
   "metadata": {},
   "source": [
    "Final query for this task"
   ]
  },
  {
   "cell_type": "code",
   "execution_count": 22,
   "id": "113a4482",
   "metadata": {},
   "outputs": [
    {
     "name": "stdout",
     "output_type": "stream",
     "text": [
      "Results\n",
      "[('continent', 'http://www.wikidata.org/entity/Q5401'), ('continentname', 'Eurasia'), ('namecount', '23')]\n",
      "[('continent', 'http://www.wikidata.org/entity/Q46'), ('continentname', 'Europe'), ('namecount', '3443')]\n",
      "[('continent', 'http://www.wikidata.org/entity/Q538'), ('continentname', 'Insular Oceania'), ('namecount', '2479')]\n",
      "[('continent', 'http://www.wikidata.org/entity/Q15'), ('continentname', 'Africa'), ('namecount', '76')]\n",
      "[('continent', 'http://www.wikidata.org/entity/Q48'), ('continentname', 'Asia'), ('namecount', '908')]\n",
      "[('continent', 'http://www.wikidata.org/entity/Q18'), ('continentname', 'South America'), ('namecount', '92')]\n",
      "[('continent', 'http://www.wikidata.org/entity/Q49'), ('continentname', 'North America'), ('namecount', '2782')]\n",
      "7\n"
     ]
    }
   ],
   "source": [
    "queryString = \"\"\"\n",
    "SELECT DISTINCT   ?continent ?continentname (count(?name) AS ?namecount)\n",
    "WHERE {\n",
    "    ?person wdt:P106 wd:Q82594 .\n",
    "    ?person sc:name ?name .\n",
    "    ?person wdt:P27 ?nation .\n",
    "   ?nation sc:name ?country .\n",
    "   ?nation wdt:P30 ?continent .\n",
    "   ?continent sc:name ?continentname\n",
    "\n",
    "   \n",
    "} GROUP BY ?continentname ?continent \n",
    "\"\"\"\n",
    "\n",
    "print(\"Results\")\n",
    "x=run_query(queryString)\n",
    "\n"
   ]
  },
  {
   "cell_type": "markdown",
   "id": "828bd783",
   "metadata": {},
   "source": [
    "## Task 6\n",
    "Find all the computer scientists who thaught at the University of Cambridge (return IRI and name)"
   ]
  },
  {
   "cell_type": "code",
   "execution_count": 28,
   "id": "9c5eb105",
   "metadata": {},
   "outputs": [
    {
     "name": "stdout",
     "output_type": "stream",
     "text": [
      "Results\n",
      "[('person', 'http://www.wikidata.org/entity/Q62857'), ('name', 'Maurice Wilkes'), ('uni', 'http://www.wikidata.org/entity/Q6411521'), ('uniname', 'King Edward VI College Stourbridge')]\n",
      "[('person', 'http://www.wikidata.org/entity/Q16221584'), ('name', 'Yoky Matsuoka'), ('uni', 'http://www.wikidata.org/entity/Q2919229'), ('uniname', 'IMG Academy Bollettieri Tennis Program')]\n",
      "[('person', 'http://www.wikidata.org/entity/Q9912'), ('name', 'Annie Antón'), ('uni', 'http://www.wikidata.org/entity/Q4894781'), ('uniname', 'Berry College')]\n",
      "[('person', 'http://www.wikidata.org/entity/Q16221606'), ('name', 'Jim Spohrer'), ('uni', 'http://www.wikidata.org/entity/Q5645975'), ('uniname', 'Hampden Academy')]\n",
      "[('person', 'http://www.wikidata.org/entity/Q16215695'), ('name', 'Sachin Bansal'), ('uni', 'http://www.wikidata.org/entity/Q7587006'), ('uniname', \"St. Anne's Convent School\")]\n",
      "[('person', 'http://www.wikidata.org/entity/Q26207354'), ('name', 'Lum Zhaveli'), ('uni', 'http://www.wikidata.org/entity/Q5011929'), ('uniname', 'CITY College, University of York Europe Campus')]\n",
      "[('person', 'http://www.wikidata.org/entity/Q30125201'), ('name', 'Adrian Besimi'), ('uni', 'http://www.wikidata.org/entity/Q2304477'), ('uniname', 'South East European University')]\n",
      "[('person', 'http://www.wikidata.org/entity/Q7925676'), ('name', 'Victor Allis'), ('uni', 'http://www.wikidata.org/entity/Q1137652'), ('uniname', 'Maastricht University')]\n",
      "[('person', 'http://www.wikidata.org/entity/Q446839'), ('name', 'Ed Roberts'), ('uni', 'http://www.wikidata.org/entity/Q11692360'), ('uniname', 'Miami High School')]\n",
      "[('person', 'http://www.wikidata.org/entity/Q3505761'), ('name', 'Vlastimil Klíma'), ('uni', 'http://www.wikidata.org/entity/Q12036042'), ('uniname', 'Faculty of Mathematics and Physics, Charles University')]\n",
      "[('person', 'http://www.wikidata.org/entity/Q556998'), ('name', 'Clifford Stoll'), ('uni', 'http://www.wikidata.org/entity/Q14706502'), ('uniname', 'Hutchinson Central Technical High School')]\n",
      "[('person', 'http://www.wikidata.org/entity/Q16194868'), ('name', 'Ross Williams'), ('uni', 'http://www.wikidata.org/entity/Q15574'), ('uniname', 'University of Adelaide')]\n",
      "[('person', 'http://www.wikidata.org/entity/Q6829665'), ('name', 'Michael D. Smith'), ('uni', 'http://www.wikidata.org/entity/Q195046'), ('uniname', 'Worcester Polytechnic Institute')]\n",
      "[('person', 'http://www.wikidata.org/entity/Q5234102'), ('name', 'David Gewirtz'), ('uni', 'http://www.wikidata.org/entity/Q195046'), ('uniname', 'Worcester Polytechnic Institute')]\n",
      "[('person', 'http://www.wikidata.org/entity/Q4934'), ('name', 'Larry Page'), ('uni', 'http://www.wikidata.org/entity/Q5328806'), ('uniname', 'East Lansing High School')]\n",
      "[('person', 'http://www.wikidata.org/entity/Q452751'), ('name', 'Richard Bandler'), ('uni', 'http://www.wikidata.org/entity/Q5466480'), ('uniname', 'Foothill College')]\n",
      "[('person', 'http://www.wikidata.org/entity/Q719413'), ('name', 'David Heinemeier Hansson'), ('uni', 'http://www.wikidata.org/entity/Q703620'), ('uniname', 'Copenhagen Business School')]\n",
      "[('person', 'http://www.wikidata.org/entity/Q319308'), ('name', 'Douglas Hofstadter'), ('uni', 'http://www.wikidata.org/entity/Q7128507'), ('uniname', 'Palo Alto High School')]\n",
      "[('person', 'http://www.wikidata.org/entity/Q454315'), ('name', 'Ken Olsen'), ('uni', 'http://www.wikidata.org/entity/Q7621960'), ('uniname', 'Stratford High School')]\n",
      "[('person', 'http://www.wikidata.org/entity/Q92758'), ('name', 'Michael Stonebraker'), ('uni', 'http://www.wikidata.org/entity/Q7737405'), ('uniname', \"The Governor's Academy\")]\n",
      "20\n"
     ]
    }
   ],
   "source": [
    "queryString = \"\"\"\n",
    "SELECT DISTINCT ?person ?name ?uni ?uniname\n",
    "WHERE {\n",
    "    ?person wdt:P106 wd:Q82594 .\n",
    "    ?person sc:name ?name .\n",
    "   ?person wdt:P69 ?uni .\n",
    "   ?uni sc:name ?uniname\n",
    "   \n",
    "}\n",
    "LIMIT 20\n",
    "\"\"\"\n",
    "\n",
    "print(\"Results\")\n",
    "x=run_query(queryString)"
   ]
  },
  {
   "cell_type": "markdown",
   "id": "1c133e46",
   "metadata": {},
   "source": [
    "Final query for this task"
   ]
  },
  {
   "cell_type": "code",
   "execution_count": 26,
   "id": "e3135ada",
   "metadata": {},
   "outputs": [
    {
     "name": "stdout",
     "output_type": "stream",
     "text": [
      "Results\n",
      "[('person', 'http://www.wikidata.org/entity/Q20731777'), ('name', 'Valeria de Paiva')]\n",
      "[('person', 'http://www.wikidata.org/entity/Q61856956'), ('name', 'Richard Garner')]\n",
      "[('person', 'http://www.wikidata.org/entity/Q42222436'), ('name', 'Diego López-de-Ipiña')]\n",
      "[('person', 'http://www.wikidata.org/entity/Q178577'), ('name', 'Norbert Wiener')]\n",
      "[('person', 'http://www.wikidata.org/entity/Q468042'), ('name', 'Jessie MacWilliams')]\n",
      "[('person', 'http://www.wikidata.org/entity/Q3655362'), ('name', 'Don Syme')]\n",
      "[('person', 'http://www.wikidata.org/entity/Q92844'), ('name', 'David Marr')]\n",
      "[('person', 'http://www.wikidata.org/entity/Q335027'), ('name', 'Seymour Papert')]\n",
      "[('person', 'http://www.wikidata.org/entity/Q92694'), ('name', 'Andy Hopper')]\n",
      "[('person', 'http://www.wikidata.org/entity/Q92776'), ('name', 'Steve Furber')]\n",
      "[('person', 'http://www.wikidata.org/entity/Q92944'), ('name', 'David Wheeler')]\n",
      "[('person', 'http://www.wikidata.org/entity/Q92774'), ('name', 'Stephen R. Bourne')]\n",
      "[('person', 'http://www.wikidata.org/entity/Q7251'), ('name', 'Alan Turing')]\n",
      "[('person', 'http://www.wikidata.org/entity/Q14010'), ('name', 'Ursula Martin')]\n",
      "[('person', 'http://www.wikidata.org/entity/Q224372'), ('name', 'I. J. Good')]\n",
      "[('person', 'http://www.wikidata.org/entity/Q55537794'), ('name', 'Laura Waller')]\n",
      "[('person', 'http://www.wikidata.org/entity/Q217790'), ('name', 'Lawrence Lessig')]\n",
      "[('person', 'http://www.wikidata.org/entity/Q377796'), ('name', 'Maurice Kendall')]\n",
      "[('person', 'http://www.wikidata.org/entity/Q4977600'), ('name', 'Bruce H. McCormick')]\n",
      "[('person', 'http://www.wikidata.org/entity/Q62857'), ('name', 'Maurice Wilkes')]\n",
      "20\n"
     ]
    }
   ],
   "source": [
    "queryString = \"\"\"\n",
    "SELECT DISTINCT ?person ?name\n",
    "WHERE {\n",
    "    ?person wdt:P106 wd:Q82594 .\n",
    "    ?person sc:name ?name .\n",
    "   ?person wdt:P69 ?uni .\n",
    "   ?uni sc:name ?uniname\n",
    "   FILTER(STR(?uniname) = \"University of Cambridge\")\n",
    "   \n",
    "}\n",
    "LIMIT 20\n",
    "\"\"\"\n",
    "\n",
    "print(\"Results\")\n",
    "x=run_query(queryString)"
   ]
  },
  {
   "cell_type": "markdown",
   "id": "b4209f61",
   "metadata": {},
   "source": [
    "## Task 7\n",
    "Find all the computer scientists who wrote at least 5 books (please consider only the instances of book, exclude \"literary work\" or other type of work related to books). Return the IRI and name of the computer scientist and the number of books."
   ]
  },
  {
   "cell_type": "code",
   "execution_count": 89,
   "id": "4aecd87f",
   "metadata": {},
   "outputs": [
    {
     "name": "stdout",
     "output_type": "stream",
     "text": [
      "Results\n",
      "[('authorname', 'Gabriel Weinberg'), ('bookcount', '1')]\n",
      "[('authorname', 'Ron Rivest'), ('bookcount', '1')]\n",
      "[('authorname', 'Evgeny Morozov'), ('bookcount', '1')]\n",
      "[('authorname', 'Michael Färber'), ('bookcount', '1')]\n",
      "[('authorname', 'Ralph Kimball'), ('bookcount', '1')]\n",
      "[('authorname', 'David J. C. MacKay'), ('bookcount', '1')]\n",
      "[('authorname', 'John Edward Hopcroft'), ('bookcount', '1')]\n",
      "[('authorname', 'Gerard Salton'), ('bookcount', '1')]\n",
      "[('authorname', 'Peter Dayan'), ('bookcount', '1')]\n",
      "[('authorname', 'John Cowan'), ('bookcount', '1')]\n",
      "[('authorname', 'John Ousterhout'), ('bookcount', '1')]\n",
      "[('authorname', 'Edward Tufte'), ('bookcount', '2')]\n",
      "[('authorname', 'Gayle Laakmann McDowell'), ('bookcount', '1')]\n",
      "[('authorname', 'Jeffrey David Ullman'), ('bookcount', '1')]\n",
      "[('authorname', 'Clifford Stein'), ('bookcount', '1')]\n",
      "[('authorname', 'Martin Davis'), ('bookcount', '1')]\n",
      "[('authorname', 'John Lions'), ('bookcount', '1')]\n",
      "[('authorname', 'Jean Gallier'), ('bookcount', '1')]\n",
      "[('authorname', 'Edward Reingold'), ('bookcount', '1')]\n",
      "[('authorname', 'Alberto Salarelli'), ('bookcount', '1')]\n",
      "[('authorname', 'Alonzo Church'), ('bookcount', '1')]\n",
      "[('authorname', 'Debora Weber-Wulff'), ('bookcount', '1')]\n",
      "[('authorname', 'Raymond Smullyan'), ('bookcount', '1')]\n",
      "[('authorname', 'Yannis Marketakis'), ('bookcount', '1')]\n",
      "[('authorname', 'Dan Gusfield'), ('bookcount', '1')]\n",
      "[('authorname', 'Michael Machtey'), ('bookcount', '1')]\n",
      "[('authorname', 'Jeff Sutherland'), ('bookcount', '1')]\n",
      "[('authorname', 'Dave Raggett'), ('bookcount', '1')]\n",
      "[('authorname', 'Gheorghe Săsărman'), ('bookcount', '1')]\n",
      "[('authorname', 'Thomas H. Cormen'), ('bookcount', '1')]\n",
      "[('authorname', 'Espen Aarseth'), ('bookcount', '1')]\n",
      "[('authorname', 'Noga Alon'), ('bookcount', '2')]\n",
      "[('authorname', 'Nachum Dershowitz'), ('bookcount', '1')]\n",
      "[('authorname', 'Panos Louridas'), ('bookcount', '1')]\n",
      "[('authorname', 'Piotr Gawrysiak'), ('bookcount', '1')]\n",
      "[('authorname', 'Cal Newport'), ('bookcount', '1')]\n",
      "[('authorname', 'László Lovász'), ('bookcount', '1')]\n",
      "[('authorname', 'Richard Szeliski'), ('bookcount', '1')]\n",
      "[('authorname', 'Charles E. Leiserson'), ('bookcount', '1')]\n",
      "[('authorname', 'Alfred Aho'), ('bookcount', '1')]\n",
      "[('authorname', 'Gilles Blanc'), ('bookcount', '1')]\n",
      "[('authorname', 'Judea Pearl'), ('bookcount', '1')]\n",
      "[('authorname', 'Kenneth E. Iverson'), ('bookcount', '1')]\n",
      "[('authorname', 'Ole Tange'), ('bookcount', '1')]\n",
      "[('authorname', 'David Heinemeier Hansson'), ('bookcount', '1')]\n",
      "[('authorname', 'Wolfgang Coy'), ('bookcount', '1')]\n",
      "[('authorname', 'Jonathan Bowen'), ('bookcount', '2')]\n",
      "[('authorname', 'Steven Skiena'), ('bookcount', '1')]\n",
      "[('authorname', 'Alvy Ray Smith'), ('bookcount', '1')]\n",
      "[('authorname', 'Peter Norvig'), ('bookcount', '1')]\n",
      "[('authorname', 'Yannis Tzitzikas'), ('bookcount', '1')]\n",
      "[('authorname', 'Eric S. Raymond'), ('bookcount', '1')]\n",
      "[('authorname', 'Hideo Kojima'), ('bookcount', '2')]\n",
      "[('authorname', 'Constanze Kurz'), ('bookcount', '1')]\n",
      "[('authorname', 'Joris van der Hoeven'), ('bookcount', '1')]\n",
      "[('authorname', 'Dianna Xu'), ('bookcount', '1')]\n",
      "56\n"
     ]
    }
   ],
   "source": [
    "queryString = \"\"\"\n",
    "SELECT DISTINCT  ?authorname (count(?bookname) AS ?bookcount)\n",
    "WHERE {\n",
    "    ?book wdt:P31 wd:Q571 .\n",
    "    ?book sc:name ?bookname .\n",
    "    ?book wdt:P50 ?author .\n",
    "    ?author sc:name ?authorname .\n",
    "    ?author wdt:P106 ?field .\n",
    "    ?field sc:name ?occupation\n",
    "    FILTER REGEX(?occupation, \"computer scientist\")\n",
    "   \n",
    "} GROUP BY ?authorname \n",
    "LIMIT 100\n",
    "\"\"\"\n",
    "\n",
    "print(\"Results\")\n",
    "x=run_query(queryString)"
   ]
  },
  {
   "cell_type": "markdown",
   "id": "21b6b311",
   "metadata": {},
   "source": [
    "Final query for this task"
   ]
  },
  {
   "cell_type": "code",
   "execution_count": 87,
   "id": "a7107603",
   "metadata": {},
   "outputs": [
    {
     "name": "stdout",
     "output_type": "stream",
     "text": [
      "Results\n",
      "[('author', 'http://www.wikidata.org/entity/Q1293908'), ('authorname', 'Edward Tufte'), ('bookcount', '2')]\n",
      "[('author', 'http://www.wikidata.org/entity/Q92927'), ('authorname', 'Noga Alon'), ('bookcount', '2')]\n",
      "[('author', 'http://www.wikidata.org/entity/Q315577'), ('authorname', 'Hideo Kojima'), ('bookcount', '2')]\n",
      "[('author', 'http://www.wikidata.org/entity/Q93043'), ('authorname', 'Jonathan Bowen'), ('bookcount', '2')]\n",
      "4\n"
     ]
    }
   ],
   "source": [
    "queryString = \"\"\"\n",
    "SELECT DISTINCT ?author ?authorname (count(?bookname) AS ?bookcount)\n",
    "WHERE {\n",
    "    ?book wdt:P31 wd:Q571 .\n",
    "    ?book sc:name ?bookname .\n",
    "    ?book wdt:P50 ?author .\n",
    "    ?author sc:name ?authorname .\n",
    "    ?author wdt:P106 ?field .\n",
    "    ?field sc:name ?occupation .\n",
    "    FILTER REGEX(?occupation, \"computer scientist\")\n",
    "} GROUP BY ?authorname ?author\n",
    "HAVING(count(?bookname) >= 2)\n",
    "LIMIT 20\n",
    "\"\"\"\n",
    "\n",
    "print(\"Results\")\n",
    "x=run_query(queryString)"
   ]
  }
 ],
 "metadata": {
  "kernelspec": {
   "display_name": "Python 3",
   "language": "python",
   "name": "python3"
  },
  "language_info": {
   "codemirror_mode": {
    "name": "ipython",
    "version": 3
   },
   "file_extension": ".py",
   "mimetype": "text/x-python",
   "name": "python",
   "nbconvert_exporter": "python",
   "pygments_lexer": "ipython3",
   "version": "3.7.10"
  }
 },
 "nbformat": 4,
 "nbformat_minor": 5
}
