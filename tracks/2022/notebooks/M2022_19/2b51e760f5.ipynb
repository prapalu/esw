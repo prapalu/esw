{
 "cells": [
  {
   "cell_type": "markdown",
   "id": "3bb34ff6",
   "metadata": {
    "tags": []
   },
   "source": [
    "# General instructions\n",
    "\n",
    "The goal of the project is to materialize a set of **exploratory workloads** over a real-world, large-scale,  open-domain KG: [WikiData](https://www.wikidata.org/wiki/Wikidata:Main_Page)\n",
    "\n",
    "An exploratory workload  is composed by a set of queries, where each query is related to the information obtained previously.\n",
    "\n",
    "An exploratory workload starts with a usually vague, open ended question, and does not assume the person issuing the workload has a clear understanding of the data contained in the target database or its structure.\n",
    "\n",
    "Remeber that:\n",
    "\n",
    "1. All the queries must run in the python notebook\n",
    "2. You can use classes and properties only if you find them via a SPARQL query that must be present in the notebook\n",
    "3. You do not delete useless queries. Keep everything that is synthatically valid \n",
    "\n",
    "```\n",
    "?p <http://schema.org/name> ?name .\n",
    "```\n",
    "    \n",
    "    is the BGP returning a human-readable name of a property or a class in Wikidata."
   ]
  },
  {
   "cell_type": "code",
   "execution_count": 1,
   "id": "1dd6da81",
   "metadata": {},
   "outputs": [],
   "source": [
    "## SETUP used later\n",
    "\n",
    "from SPARQLWrapper import SPARQLWrapper, JSON\n",
    "\n",
    "\n",
    "prefixString = \"\"\"\n",
    "##-2b51e760f5-##\n",
    "PREFIX wd: <http://www.wikidata.org/entity/> \n",
    "PREFIX wdt: <http://www.wikidata.org/prop/direct/> \n",
    "PREFIX sc: <http://schema.org/>\n",
    "\"\"\"\n",
    "\n",
    "# select and construct queries\n",
    "def run_query(queryString,verbose = True):\n",
    "    to_run = prefixString + \"\\n\" + queryString\n",
    "\n",
    "    sparql = SPARQLWrapper(\"http://a256-gc1-03.srv.aau.dk:5820/sparql\")\n",
    "    sparql.setTimeout(300)\n",
    "    sparql.setReturnFormat(JSON)\n",
    "    sparql.setQuery(to_run)\n",
    "\n",
    "    try :\n",
    "        results = sparql.query()\n",
    "        json_results = results.convert()\n",
    "        if len(json_results['results']['bindings'])==0:\n",
    "            print(\"Empty\")\n",
    "            return []\n",
    "        array = []\n",
    "        for bindings in json_results['results']['bindings']:\n",
    "            app =  [ (var, value['value'])  for var, value in bindings.items() ] \n",
    "            if verbose:\n",
    "                print( app)\n",
    "            array.append(app)\n",
    "        if verbose:\n",
    "            print(len(array))\n",
    "        return array\n",
    "\n",
    "    except Exception as e :\n",
    "        print(\"The operation failed\", e)\n",
    "    \n",
    "# ASk queries\n",
    "def run_ask_query(queryString):\n",
    "    to_run = prefixString + \"\\n\" + queryString\n",
    "\n",
    "    sparql = SPARQLWrapper(\"http://a256-gc1-03.srv.aau.dk:5820/sparql\")\n",
    "    sparql.setTimeout(300)\n",
    "    sparql.setReturnFormat(JSON)\n",
    "    sparql.setQuery(to_run)\n",
    "\n",
    "    try :\n",
    "        return sparql.query().convert()\n",
    "\n",
    "    except Exception as e :\n",
    "        print(\"The operation failed\", e)"
   ]
  },
  {
   "cell_type": "markdown",
   "id": "eeb3c60c",
   "metadata": {},
   "source": [
    "# History Workflow Series (\"Literary Movements and Divine Comedy explorative search\") \n",
    "\n",
    "Consider the following exploratory information need:\n",
    "\n",
    "> investigate the literary movements and the poets. In particular, compare some italian poets in terms of place of birth, number of literary works and education."
   ]
  },
  {
   "cell_type": "markdown",
   "id": "2650cd14",
   "metadata": {},
   "source": [
    "## Useful URIs for the current workflow\n",
    "The following are given:\n",
    "\n",
    "| IRI           | Description   | Role      |\n",
    "| -----------   | -----------   |-----------|\n",
    "| `wdt:P1647`   | subproperty   | predicate |\n",
    "| `wdt:P31`     | instance of   | predicate |\n",
    "| `wdt:P106`    | occupation    | predicate | \n",
    "| `wdt:P279`    | subclass      | predicate |\n",
    "| `wdt:P27`     | nationality   | predicate |\n",
    "| `wdt:P3342`     | Significant person       | predicate |\n",
    "| `wd:Q5`| Human       | node |\n",
    "| `wd:Q40185`| The Divine Comedy  | node |\n"
   ]
  },
  {
   "cell_type": "markdown",
   "id": "f60a617a",
   "metadata": {},
   "source": [
    "\n",
    "\n",
    "\n",
    "Also consider\n",
    "\n",
    "```\n",
    "wd:Q40185 ?p ?obj .\n",
    "```\n",
    "\n",
    "is the BGP to retrieve all **properties of The Divine Comedy**\n",
    "\n",
    "Please consider that when you return a resource, you should return the IRI and the label of the resource. In particular, when the task require you to identify a BGP the result set must always be a list of couples IRI - label.\n",
    "\n",
    "The workload should:\n",
    "\n",
    "1. Who wrote The Divine Comedy? (return the IRI and the label of the author)\n",
    "\n",
    "2. Identify the BGP for poet\n",
    "\n",
    "3. Identify the BGP for literary movement\n",
    "\n",
    "4. Return the poets born in the same place of the author of The Divine Comedy who are born between 1300 and 1500 (1300 and 1500 included) (the result set must be a list of couples poets IRI and label).\n",
    "\n",
    "5. Identify the BGP for literary work\n",
    "\n",
    "6. Compare the author of The Divine Comedy with Giovanni Boccaccio. Return for these poets the number of literary work they wrote (the result set must be two triples -one for each author- author IRI, label and #literary work).\n",
    "\n",
    "7. Consider italian poets, their place of birth (the city) and their university education. Return for each city the number of poets who born there and who was educated there (the result set must be a list of triples city IRI, label and #poets).\n",
    "\n",
    "8. Return the italian poets who won the Nobel Prize in Literature (the result set must be poet IRI and label). "
   ]
  },
  {
   "cell_type": "markdown",
   "id": "88e20590",
   "metadata": {},
   "source": [
    "## Task 1\n",
    "Who wrote The Divine Comedy? (return the IRI and the label of the author)"
   ]
  },
  {
   "cell_type": "code",
   "execution_count": 6,
   "id": "957e9af5",
   "metadata": {},
   "outputs": [
    {
     "name": "stdout",
     "output_type": "stream",
     "text": [
      "Results\n",
      "[('p', 'http://www.wikidata.org/prop/direct/P2551'), ('name', 'used metre')]\n",
      "[('p', 'http://www.wikidata.org/prop/direct/P1273'), ('name', 'CANTIC ID')]\n",
      "[('p', 'http://www.wikidata.org/prop/direct/P1296'), ('name', 'Gran Enciclopèdia Catalana ID')]\n",
      "[('p', 'http://www.wikidata.org/prop/direct/P1343'), ('name', 'described by source')]\n",
      "[('p', 'http://www.wikidata.org/prop/direct/P136'), ('name', 'genre')]\n",
      "[('p', 'http://www.wikidata.org/prop/direct/P1417'), ('name', 'Encyclopædia Britannica Online ID')]\n",
      "[('p', 'http://www.wikidata.org/prop/direct/P18'), ('name', 'image')]\n",
      "[('p', 'http://www.wikidata.org/prop/direct/P1889'), ('name', 'different from')]\n",
      "[('p', 'http://www.wikidata.org/prop/direct/P214'), ('name', 'VIAF ID')]\n",
      "[('p', 'http://www.wikidata.org/prop/direct/P227'), ('name', 'GND ID')]\n",
      "[('p', 'http://www.wikidata.org/prop/direct/P244'), ('name', 'Library of Congress authority ID')]\n",
      "[('p', 'http://www.wikidata.org/prop/direct/P268'), ('name', 'Bibliothèque nationale de France ID')]\n",
      "[('p', 'http://www.wikidata.org/prop/direct/P269'), ('name', 'IdRef ID')]\n",
      "[('p', 'http://www.wikidata.org/prop/direct/P31'), ('name', 'instance of')]\n",
      "[('p', 'http://www.wikidata.org/prop/direct/P3219'), ('name', 'Encyclopædia Universalis ID')]\n",
      "[('p', 'http://www.wikidata.org/prop/direct/P3417'), ('name', 'Quora topic ID')]\n",
      "[('p', 'http://www.wikidata.org/prop/direct/P373'), ('name', 'Commons category')]\n",
      "[('p', 'http://www.wikidata.org/prop/direct/P407'), ('name', 'language of work or name')]\n",
      "[('p', 'http://www.wikidata.org/prop/direct/P409'), ('name', 'Libraries Australia ID')]\n",
      "[('p', 'http://www.wikidata.org/prop/direct/P435'), ('name', 'MusicBrainz work ID')]\n",
      "[('p', 'http://www.wikidata.org/prop/direct/P50'), ('name', 'author')]\n",
      "[('p', 'http://www.wikidata.org/prop/direct/P5063'), ('name', 'Interlingual Index ID')]\n",
      "[('p', 'http://www.wikidata.org/prop/direct/P527'), ('name', 'has part')]\n",
      "[('p', 'http://www.wikidata.org/prop/direct/P571'), ('name', 'inception')]\n",
      "[('p', 'http://www.wikidata.org/prop/direct/P5986'), ('name', 'Getty Iconography Authority ID')]\n",
      "[('p', 'http://www.wikidata.org/prop/direct/P646'), ('name', 'Freebase ID')]\n",
      "[('p', 'http://www.wikidata.org/prop/direct/P674'), ('name', 'characters')]\n",
      "[('p', 'http://www.wikidata.org/prop/direct/P6839'), ('name', 'TV Tropes identifier')]\n",
      "[('p', 'http://www.wikidata.org/prop/direct/P691'), ('name', 'NKCR AUT ID')]\n",
      "[('p', 'http://www.wikidata.org/prop/direct/P7314'), ('name', 'TDV İslam Ansiklopedisi ID')]\n",
      "[('p', 'http://www.wikidata.org/prop/direct/P747'), ('name', 'has edition or translation')]\n",
      "[('p', 'http://www.wikidata.org/prop/direct/P8189'), ('name', 'National Library of Israel J9U ID')]\n",
      "[('p', 'http://www.wikidata.org/prop/direct/P8248'), ('name', 'Colon Classification')]\n",
      "[('p', 'http://www.wikidata.org/prop/direct/P8408'), ('name', 'KBpedia ID')]\n",
      "[('p', 'http://www.wikidata.org/prop/direct/P8885'), ('name', 'Namuwiki ID')]\n",
      "[('p', 'http://www.wikidata.org/prop/direct/P906'), ('name', 'SELIBR ID')]\n",
      "[('p', 'http://www.wikidata.org/prop/direct/P910'), ('name', \"topic's main category\")]\n",
      "[('p', 'http://www.wikidata.org/prop/direct/P9223'), ('name', 'Provenio UUID')]\n",
      "[('p', 'http://www.wikidata.org/prop/direct/P9322'), ('name', 'SVKKL authority ID')]\n",
      "[('p', 'http://www.wikidata.org/prop/direct/P949'), ('name', 'National Library of Israel ID')]\n",
      "[('p', 'http://www.wikidata.org/prop/direct/P950'), ('name', 'Biblioteca Nacional de España ID')]\n",
      "[('p', 'http://www.wikidata.org/prop/direct/P1274'), ('name', 'ISFDB title ID')]\n",
      "[('p', 'http://www.wikidata.org/prop/direct/P6175'), ('name', 'Bitraga work ID')]\n",
      "[('p', 'http://www.wikidata.org/prop/direct/P8359'), ('name', 'Dewey Decimal Classification (works and editions)')]\n",
      "[('p', 'http://www.wikidata.org/prop/direct/P2034'), ('name', 'Project Gutenberg ebook ID')]\n",
      "[('p', 'http://www.wikidata.org/prop/direct/P3976'), ('name', 'BVMC work ID')]\n",
      "46\n"
     ]
    }
   ],
   "source": [
    "# query example\n",
    "queryString = \"\"\"\n",
    "SELECT DISTINCT ?p ?name\n",
    "WHERE {\n",
    "   # bind something\n",
    "   wd:Q40185 ?p ?obj .\n",
    "   # get the label\n",
    "   ?p sc:name ?name.\n",
    "}\n",
    "LIMIT 100\n",
    "\"\"\"\n",
    "\n",
    "print(\"Results\")\n",
    "x=run_query(queryString)"
   ]
  },
  {
   "cell_type": "code",
   "execution_count": 13,
   "id": "aafa8d0b-e85a-4c39-9353-ccbcdc69a961",
   "metadata": {},
   "outputs": [
    {
     "name": "stdout",
     "output_type": "stream",
     "text": [
      "Results\n",
      "[('name', 'Dante Alighieri')]\n",
      "1\n"
     ]
    }
   ],
   "source": [
    "# [('p', 'http://www.wikidata.org/prop/direct/P50'), ('name', 'author')] -> predicate= author: wdt:P50\n",
    "queryString = \"\"\"\n",
    "SELECT DISTINCT ?name\n",
    "WHERE {\n",
    "   # using \"author\" as predicate\n",
    "   wd:Q40185 wdt:P50 ?obj .\n",
    "   # get the label\n",
    "   ?obj sc:name ?name.\n",
    "}\n",
    "LIMIT 100\n",
    "\"\"\"\n",
    "\n",
    "print(\"Results\")\n",
    "x=run_query(queryString)"
   ]
  },
  {
   "cell_type": "markdown",
   "id": "29e9afe1",
   "metadata": {
    "jp-MarkdownHeadingCollapsed": true,
    "tags": []
   },
   "source": [
    "Final query for this task"
   ]
  },
  {
   "cell_type": "code",
   "execution_count": 15,
   "id": "82f1cdc6",
   "metadata": {},
   "outputs": [
    {
     "name": "stdout",
     "output_type": "stream",
     "text": [
      "Results\n",
      "[('obj', 'http://www.wikidata.org/entity/Q1067'), ('name', 'Dante Alighieri')]\n",
      "1\n"
     ]
    }
   ],
   "source": [
    "# write your final query\n",
    "#returning both IRI and Label\n",
    "queryString = \"\"\"\n",
    "SELECT DISTINCT ?obj ?name\n",
    "WHERE {\n",
    "   \n",
    "   wd:Q40185 wdt:P50 ?obj .\n",
    "   # get the label\n",
    "   ?obj sc:name ?name.\n",
    "}\n",
    "LIMIT 100\n",
    "\"\"\"\n",
    "\n",
    "print(\"Results\")\n",
    "x=run_query(queryString)"
   ]
  },
  {
   "cell_type": "markdown",
   "id": "bbfc8099",
   "metadata": {
    "tags": []
   },
   "source": [
    "## Task 2\n",
    "Identify the BGP for poet"
   ]
  },
  {
   "cell_type": "code",
   "execution_count": 71,
   "id": "55bbf6d0",
   "metadata": {},
   "outputs": [
    {
     "name": "stdout",
     "output_type": "stream",
     "text": [
      "Results\n",
      "[('p', 'http://www.wikidata.org/prop/direct/P101'), ('pname', 'field of work')]\n",
      "[('p', 'http://www.wikidata.org/prop/direct/P103'), ('pname', 'native language')]\n",
      "[('p', 'http://www.wikidata.org/prop/direct/P106'), ('pname', 'occupation')]\n",
      "[('p', 'http://www.wikidata.org/prop/direct/P1066'), ('pname', 'student of')]\n",
      "[('p', 'http://www.wikidata.org/prop/direct/P119'), ('pname', 'place of burial')]\n",
      "[('p', 'http://www.wikidata.org/prop/direct/P1196'), ('pname', 'manner of death')]\n",
      "[('p', 'http://www.wikidata.org/prop/direct/P1299'), ('pname', 'depicted by')]\n",
      "[('p', 'http://www.wikidata.org/prop/direct/P1343'), ('pname', 'described by source')]\n",
      "[('p', 'http://www.wikidata.org/prop/direct/P135'), ('pname', 'movement')]\n",
      "[('p', 'http://www.wikidata.org/prop/direct/P140'), ('pname', 'religion')]\n",
      "[('p', 'http://www.wikidata.org/prop/direct/P1412'), ('pname', 'languages spoken, written or signed')]\n",
      "[('p', 'http://www.wikidata.org/prop/direct/P172'), ('pname', 'ethnic group')]\n",
      "[('p', 'http://www.wikidata.org/prop/direct/P18'), ('pname', 'image')]\n",
      "[('p', 'http://www.wikidata.org/prop/direct/P19'), ('pname', 'place of birth')]\n",
      "[('p', 'http://www.wikidata.org/prop/direct/P20'), ('pname', 'place of death')]\n",
      "[('p', 'http://www.wikidata.org/prop/direct/P21'), ('pname', 'sex or gender')]\n",
      "[('p', 'http://www.wikidata.org/prop/direct/P22'), ('pname', 'father')]\n",
      "[('p', 'http://www.wikidata.org/prop/direct/P25'), ('pname', 'mother')]\n",
      "[('p', 'http://www.wikidata.org/prop/direct/P26'), ('pname', 'spouse')]\n",
      "[('p', 'http://www.wikidata.org/prop/direct/P27'), ('pname', 'country of citizenship')]\n",
      "[('p', 'http://www.wikidata.org/prop/direct/P31'), ('pname', 'instance of')]\n",
      "[('p', 'http://www.wikidata.org/prop/direct/P3373'), ('pname', 'sibling')]\n",
      "[('p', 'http://www.wikidata.org/prop/direct/P40'), ('pname', 'child')]\n",
      "[('p', 'http://www.wikidata.org/prop/direct/P437'), ('pname', 'distribution format')]\n",
      "[('p', 'http://www.wikidata.org/prop/direct/P463'), ('pname', 'member of')]\n",
      "[('p', 'http://www.wikidata.org/prop/direct/P5008'), ('pname', 'on focus list of Wikimedia project')]\n",
      "[('p', 'http://www.wikidata.org/prop/direct/P509'), ('pname', 'cause of death')]\n",
      "[('p', 'http://www.wikidata.org/prop/direct/P53'), ('pname', 'family')]\n",
      "[('p', 'http://www.wikidata.org/prop/direct/P551'), ('pname', 'residence')]\n",
      "[('p', 'http://www.wikidata.org/prop/direct/P607'), ('pname', 'conflict')]\n",
      "[('p', 'http://www.wikidata.org/prop/direct/P611'), ('pname', 'religious order')]\n",
      "[('p', 'http://www.wikidata.org/prop/direct/P6379'), ('pname', 'has works in the collection')]\n",
      "[('p', 'http://www.wikidata.org/prop/direct/P6886'), ('pname', 'writing language')]\n",
      "[('p', 'http://www.wikidata.org/prop/direct/P734'), ('pname', 'family name')]\n",
      "[('p', 'http://www.wikidata.org/prop/direct/P735'), ('pname', 'given name')]\n",
      "[('p', 'http://www.wikidata.org/prop/direct/P737'), ('pname', 'influenced by')]\n",
      "[('p', 'http://www.wikidata.org/prop/direct/P7763'), ('pname', 'copyright status as a creator')]\n",
      "[('p', 'http://www.wikidata.org/prop/direct/P800'), ('pname', 'notable work')]\n",
      "[('p', 'http://www.wikidata.org/prop/direct/P8625'), ('pname', 'bibliography')]\n",
      "[('p', 'http://www.wikidata.org/prop/direct/P910'), ('pname', \"topic's main category\")]\n",
      "40\n"
     ]
    }
   ],
   "source": [
    "\n",
    "queryString = \"\"\"\n",
    "SELECT DISTINCT ?p ?pname\n",
    "WHERE {\n",
    "   \n",
    "   # Using Dante Alighieri (Q1067) as an example of poets and finding properties\n",
    "   wd:Q1067 ?p ?obj .\n",
    "   \n",
    "   # get the label\n",
    "   ?p sc:name ?pname .\n",
    "   FILTER (!isLiteral(?obj))\n",
    "}\n",
    "LIMIT 100\n",
    "\"\"\"\n",
    "\n",
    "print(\"Results\")\n",
    "x=run_query(queryString)"
   ]
  },
  {
   "cell_type": "code",
   "execution_count": 52,
   "id": "d12da738-63d7-4cd2-9edb-0a2879d6943f",
   "metadata": {},
   "outputs": [
    {
     "name": "stdout",
     "output_type": "stream",
     "text": [
      "Results\n",
      "[('job', 'http://www.wikidata.org/entity/Q482980'), ('name', 'author')]\n",
      "[('job', 'http://www.wikidata.org/entity/Q82955'), ('name', 'politician')]\n",
      "[('job', 'http://www.wikidata.org/entity/Q15994177'), ('name', 'political theorist')]\n",
      "[('job', 'http://www.wikidata.org/entity/Q49757'), ('name', 'poet')]\n",
      "[('job', 'http://www.wikidata.org/entity/Q12144794'), ('name', 'prosaist')]\n",
      "[('job', 'http://www.wikidata.org/entity/Q822146'), ('name', 'lyricist')]\n",
      "[('job', 'http://www.wikidata.org/entity/Q36180'), ('name', 'writer')]\n",
      "[('job', 'http://www.wikidata.org/entity/Q58968'), ('name', 'intellectual')]\n",
      "[('job', 'http://www.wikidata.org/entity/Q4964182'), ('name', 'philosopher')]\n",
      "9\n"
     ]
    }
   ],
   "source": [
    "queryString = \"\"\"\n",
    "SELECT DISTINCT ?job ?name\n",
    "WHERE {\n",
    "   \n",
    "   #From results: [('p', 'http://www.wikidata.org/prop/direct/P106'), ('pname', 'occupation')]\n",
    "   wd:Q1067 ?p ?obj ;\n",
    "            wdt:P106 ?job .\n",
    "   # get the label\n",
    "   ?job sc:name ?name .\n",
    "\n",
    "}\n",
    "LIMIT 100\n",
    "\"\"\"\n",
    "\n",
    "print(\"Results\")\n",
    "x=run_query(queryString)"
   ]
  },
  {
   "cell_type": "markdown",
   "id": "15e401c1",
   "metadata": {},
   "source": [
    "Final query for this task"
   ]
  },
  {
   "cell_type": "code",
   "execution_count": 148,
   "id": "b9e59c5c",
   "metadata": {},
   "outputs": [
    {
     "name": "stdout",
     "output_type": "stream",
     "text": [
      "Results\n",
      "[('job', 'http://www.wikidata.org/entity/Q482980'), ('name', 'author')]\n",
      "[('job', 'http://www.wikidata.org/entity/Q82955'), ('name', 'politician')]\n",
      "[('job', 'http://www.wikidata.org/entity/Q15994177'), ('name', 'political theorist')]\n",
      "[('job', 'http://www.wikidata.org/entity/Q49757'), ('name', 'poet')]\n",
      "[('job', 'http://www.wikidata.org/entity/Q12144794'), ('name', 'prosaist')]\n",
      "[('job', 'http://www.wikidata.org/entity/Q822146'), ('name', 'lyricist')]\n",
      "[('job', 'http://www.wikidata.org/entity/Q36180'), ('name', 'writer')]\n",
      "[('job', 'http://www.wikidata.org/entity/Q58968'), ('name', 'intellectual')]\n",
      "[('job', 'http://www.wikidata.org/entity/Q4964182'), ('name', 'philosopher')]\n",
      "9\n"
     ]
    }
   ],
   "source": [
    "queryString = \"\"\"\n",
    "SELECT DISTINCT ?job ?name\n",
    "WHERE {\n",
    "   \n",
    "   #From results: [('p', 'http://www.wikidata.org/prop/direct/P106'), ('pname', 'occupation')]\n",
    "   wd:Q1067 ?p ?obj ;\n",
    "            wdt:P106 ?job .\n",
    "   # get the label\n",
    "   ?job sc:name ?name .\n",
    "\n",
    "}\n",
    "LIMIT 100\n",
    "\"\"\"\n",
    "\n",
    "print(\"Results\")\n",
    "x=run_query(queryString)"
   ]
  },
  {
   "cell_type": "markdown",
   "id": "9f0040c2",
   "metadata": {},
   "source": [
    "## Task 3\n",
    "Identify the BGP for literary movement"
   ]
  },
  {
   "cell_type": "code",
   "execution_count": 97,
   "id": "6d1abdac",
   "metadata": {},
   "outputs": [
    {
     "name": "stdout",
     "output_type": "stream",
     "text": [
      "Results\n",
      "[('p', 'http://www.wikidata.org/prop/direct/P101'), ('pname', 'field of work')]\n",
      "[('p', 'http://www.wikidata.org/prop/direct/P103'), ('pname', 'native language')]\n",
      "[('p', 'http://www.wikidata.org/prop/direct/P106'), ('pname', 'occupation')]\n",
      "[('p', 'http://www.wikidata.org/prop/direct/P1066'), ('pname', 'student of')]\n",
      "[('p', 'http://www.wikidata.org/prop/direct/P119'), ('pname', 'place of burial')]\n",
      "[('p', 'http://www.wikidata.org/prop/direct/P1196'), ('pname', 'manner of death')]\n",
      "[('p', 'http://www.wikidata.org/prop/direct/P1299'), ('pname', 'depicted by')]\n",
      "[('p', 'http://www.wikidata.org/prop/direct/P1343'), ('pname', 'described by source')]\n",
      "[('p', 'http://www.wikidata.org/prop/direct/P135'), ('pname', 'movement')]\n",
      "[('p', 'http://www.wikidata.org/prop/direct/P140'), ('pname', 'religion')]\n",
      "[('p', 'http://www.wikidata.org/prop/direct/P1412'), ('pname', 'languages spoken, written or signed')]\n",
      "[('p', 'http://www.wikidata.org/prop/direct/P172'), ('pname', 'ethnic group')]\n",
      "[('p', 'http://www.wikidata.org/prop/direct/P18'), ('pname', 'image')]\n",
      "[('p', 'http://www.wikidata.org/prop/direct/P19'), ('pname', 'place of birth')]\n",
      "[('p', 'http://www.wikidata.org/prop/direct/P20'), ('pname', 'place of death')]\n",
      "[('p', 'http://www.wikidata.org/prop/direct/P21'), ('pname', 'sex or gender')]\n",
      "[('p', 'http://www.wikidata.org/prop/direct/P22'), ('pname', 'father')]\n",
      "[('p', 'http://www.wikidata.org/prop/direct/P25'), ('pname', 'mother')]\n",
      "[('p', 'http://www.wikidata.org/prop/direct/P26'), ('pname', 'spouse')]\n",
      "[('p', 'http://www.wikidata.org/prop/direct/P27'), ('pname', 'country of citizenship')]\n",
      "[('p', 'http://www.wikidata.org/prop/direct/P31'), ('pname', 'instance of')]\n",
      "[('p', 'http://www.wikidata.org/prop/direct/P3373'), ('pname', 'sibling')]\n",
      "[('p', 'http://www.wikidata.org/prop/direct/P40'), ('pname', 'child')]\n",
      "[('p', 'http://www.wikidata.org/prop/direct/P437'), ('pname', 'distribution format')]\n",
      "[('p', 'http://www.wikidata.org/prop/direct/P463'), ('pname', 'member of')]\n",
      "[('p', 'http://www.wikidata.org/prop/direct/P5008'), ('pname', 'on focus list of Wikimedia project')]\n",
      "[('p', 'http://www.wikidata.org/prop/direct/P509'), ('pname', 'cause of death')]\n",
      "[('p', 'http://www.wikidata.org/prop/direct/P53'), ('pname', 'family')]\n",
      "[('p', 'http://www.wikidata.org/prop/direct/P551'), ('pname', 'residence')]\n",
      "[('p', 'http://www.wikidata.org/prop/direct/P607'), ('pname', 'conflict')]\n",
      "[('p', 'http://www.wikidata.org/prop/direct/P611'), ('pname', 'religious order')]\n",
      "[('p', 'http://www.wikidata.org/prop/direct/P6379'), ('pname', 'has works in the collection')]\n",
      "[('p', 'http://www.wikidata.org/prop/direct/P6886'), ('pname', 'writing language')]\n",
      "[('p', 'http://www.wikidata.org/prop/direct/P734'), ('pname', 'family name')]\n",
      "[('p', 'http://www.wikidata.org/prop/direct/P735'), ('pname', 'given name')]\n",
      "[('p', 'http://www.wikidata.org/prop/direct/P737'), ('pname', 'influenced by')]\n",
      "[('p', 'http://www.wikidata.org/prop/direct/P7763'), ('pname', 'copyright status as a creator')]\n",
      "[('p', 'http://www.wikidata.org/prop/direct/P800'), ('pname', 'notable work')]\n",
      "[('p', 'http://www.wikidata.org/prop/direct/P8625'), ('pname', 'bibliography')]\n",
      "[('p', 'http://www.wikidata.org/prop/direct/P910'), ('pname', \"topic's main category\")]\n",
      "40\n"
     ]
    }
   ],
   "source": [
    "\n",
    "queryString = \"\"\"\n",
    "SELECT DISTINCT ?p ?pname\n",
    "WHERE {\n",
    "   \n",
    "   # Using Dante Alighieri (Q1067) as an example of poets and finding properties\n",
    "   wd:Q1067 ?p ?obj .\n",
    "   \n",
    "   # get the label\n",
    "   ?p sc:name ?pname .\n",
    "   FILTER (!isLiteral(?obj))\n",
    "}\n",
    "LIMIT 100\n",
    "\"\"\"\n",
    "\n",
    "print(\"Results\")\n",
    "x=run_query(queryString)"
   ]
  },
  {
   "cell_type": "code",
   "execution_count": 98,
   "id": "0c207ed3-7143-4862-8081-bb2e1ee1abcb",
   "metadata": {},
   "outputs": [
    {
     "name": "stdout",
     "output_type": "stream",
     "text": [
      "Results\n",
      "[('m', 'http://www.wikidata.org/entity/Q3326717'), ('name', 'literary movement')]\n",
      "1\n"
     ]
    }
   ],
   "source": [
    "# from results: [('p', 'http://www.wikidata.org/prop/direct/P135'), ('pname', 'movement')]\n",
    "\n",
    "\n",
    "queryString = \"\"\"\n",
    "SELECT DISTINCT ?m ?name\n",
    "WHERE {\n",
    "   \n",
    "   # using \"instance of\" property\n",
    "   wd:Q1067 wdt:P135 ?obj .\n",
    "   ?obj wdt:P31 ?m .\n",
    "   \n",
    "   # get the label\n",
    "   ?m sc:name ?name .\n",
    "   \n",
    "}\n",
    "LIMIT 100\n",
    "\"\"\"\n",
    "\n",
    "print(\"Results\")\n",
    "x=run_query(queryString)"
   ]
  },
  {
   "cell_type": "markdown",
   "id": "98ca96bb",
   "metadata": {},
   "source": [
    "Final query for this task"
   ]
  },
  {
   "cell_type": "code",
   "execution_count": 147,
   "id": "9f548678",
   "metadata": {},
   "outputs": [
    {
     "name": "stdout",
     "output_type": "stream",
     "text": [
      "Results\n",
      "[('m', 'http://www.wikidata.org/entity/Q3326717'), ('name', 'literary movement')]\n",
      "1\n"
     ]
    }
   ],
   "source": [
    "queryString = \"\"\"\n",
    "SELECT DISTINCT ?m ?name\n",
    "WHERE {\n",
    "   \n",
    "   # using \"instance of\" property\n",
    "   wd:Q1067 wdt:P135 ?obj .\n",
    "   ?obj wdt:P31 ?m .\n",
    "   \n",
    "   # get the label\n",
    "   ?m sc:name ?name .\n",
    "   \n",
    "}\n",
    "LIMIT 100\n",
    "\"\"\"\n",
    "\n",
    "print(\"Results\")\n",
    "x=run_query(queryString)"
   ]
  },
  {
   "cell_type": "markdown",
   "id": "714393a7",
   "metadata": {},
   "source": [
    "## Task 4\n",
    "Return the poets born in the same place of the author of The Divine Comedy who are born between 1300 and 1500 (1300 and 1500 included) (the result set must be a list of couples poets IRI and label)."
   ]
  },
  {
   "cell_type": "code",
   "execution_count": 119,
   "id": "ac293c4a",
   "metadata": {},
   "outputs": [
    {
     "name": "stdout",
     "output_type": "stream",
     "text": [
      "Results\n",
      "[('author', 'http://www.wikidata.org/entity/Q1067'), ('p', 'http://www.wikidata.org/prop/direct/P19'), ('pname', 'place of birth'), ('o', 'http://www.wikidata.org/entity/Q2044'), ('oname', 'Florence')]\n",
      "1\n"
     ]
    }
   ],
   "source": [
    "#Finding birth characterictics of the author\n",
    "queryString = \"\"\"\n",
    "SELECT DISTINCT ?author ?p ?pname ?o ?oname\n",
    "WHERE {\n",
    "   \n",
    "   wd:Q40185 wdt:P50 ?author .\n",
    "   ?author ?p ?o .\n",
    "   \n",
    "   # get the label\n",
    "   ?o sc:name ?oname.\n",
    "   ?p sc:name ?pname.\n",
    "   FILTER (REGEX(?pname, \".*birth.*\"))\n",
    "   \n",
    "}\n",
    "LIMIT 100\n",
    "\"\"\"\n",
    "\n",
    "print(\"Results\")\n",
    "x=run_query(queryString)\n"
   ]
  },
  {
   "cell_type": "code",
   "execution_count": 2,
   "id": "0c8164d2-a92a-431b-9e81-11076af09108",
   "metadata": {},
   "outputs": [
    {
     "name": "stdout",
     "output_type": "stream",
     "text": [
      "Results\n",
      "[('p', 'http://www.wikidata.org/prop/direct/P1963'), ('pname', 'properties for this type'), ('o', 'http://www.wikidata.org/entity/P570'), ('oname', 'date of death')]\n",
      "[('p', 'http://www.wikidata.org/prop/direct/P1963'), ('pname', 'properties for this type'), ('o', 'http://www.wikidata.org/entity/P1636'), ('oname', 'date of baptism in early childhood')]\n",
      "[('p', 'http://www.wikidata.org/prop/direct/P1963'), ('pname', 'properties for this type'), ('o', 'http://www.wikidata.org/entity/P569'), ('oname', 'date of birth')]\n",
      "[('p', 'http://www.wikidata.org/prop/direct/P1963'), ('pname', 'properties for this type'), ('o', 'http://www.wikidata.org/entity/P4602'), ('oname', 'date of burial or cremation')]\n",
      "4\n"
     ]
    }
   ],
   "source": [
    "\n",
    "queryString = \"\"\"\n",
    "SELECT DISTINCT ?p ?pname ?o ?oname\n",
    "WHERE {\n",
    "   \n",
    "   #set author as an instance of something to find birth date properties\n",
    "   wd:Q1067 wdt:P31 ?obj.\n",
    "   ?obj ?p ?o.\n",
    "   \n",
    "   \n",
    "   ?p sc:name ?pname.\n",
    "   ?o sc:name ?oname.\n",
    "   \n",
    "   FILTER (REGEX(?oname, \".*date.*\") )\n",
    "}\n",
    "LIMIT 100\n",
    "\"\"\"\n",
    "\n",
    "print(\"Results\")\n",
    "x=run_query(queryString)"
   ]
  },
  {
   "cell_type": "code",
   "execution_count": 127,
   "id": "96402419-7e2b-4672-bba7-bdff2293ae1a",
   "metadata": {},
   "outputs": [
    {
     "name": "stdout",
     "output_type": "stream",
     "text": [
      "Results\n",
      "[('s', 'http://www.wikidata.org/entity/Q17203201'), ('sname', 'Sebastiano Fenzi'), ('date', '1822-10-22T00:00:00Z')]\n",
      "[('s', 'http://www.wikidata.org/entity/Q21003797'), ('sname', 'Michel Verin'), ('date', '1468-01-01T00:00:00Z')]\n",
      "[('s', 'http://www.wikidata.org/entity/Q426305'), ('sname', 'Giovanni Maria Cecchi'), ('date', '1518-03-25T00:00:00Z')]\n",
      "[('s', 'http://www.wikidata.org/entity/Q1248954'), ('sname', 'Giovanni di Bernardo Rucellai'), ('date', '1475-10-29T00:00:00Z')]\n",
      "[('s', 'http://www.wikidata.org/entity/Q7803'), ('sname', 'Bronzino'), ('date', '1503-11-27T00:00:00Z')]\n",
      "[('s', 'http://www.wikidata.org/entity/Q1067'), ('sname', 'Dante Alighieri'), ('date', '1265-01-01T00:00:00Z')]\n",
      "[('s', 'http://www.wikidata.org/entity/Q177854'), ('sname', \"Lorenzo de' Medici\"), ('date', '1449-01-10T00:00:00Z')]\n",
      "[('s', 'http://www.wikidata.org/entity/Q529858'), ('sname', 'Giovanni Papini'), ('date', '1881-01-09T00:00:00Z')]\n",
      "[('s', 'http://www.wikidata.org/entity/Q3694295'), ('sname', 'Corrado Pavolini'), ('date', '1898-01-08T00:00:00Z')]\n",
      "[('s', 'http://www.wikidata.org/entity/Q328117'), ('sname', 'Girolamo Benivieni'), ('date', '1453-02-15T00:00:00Z')]\n",
      "[('s', 'http://www.wikidata.org/entity/Q104145408'), ('sname', 'Luigi Alamanni'), ('date', '1558-01-01T00:00:00Z')]\n",
      "[('s', 'http://www.wikidata.org/entity/Q721846'), ('sname', 'Luigi Alamanni'), ('date', '1495-03-15T00:00:00Z')]\n",
      "[('s', 'http://www.wikidata.org/entity/Q1249317'), ('sname', 'Lorenzo Lippi'), ('date', '1606-05-03T00:00:00Z')]\n",
      "[('s', 'http://www.wikidata.org/entity/Q366328'), ('sname', 'Brunetto Latini'), ('date', '1220-01-01T00:00:00Z')]\n",
      "[('s', 'http://www.wikidata.org/entity/Q3742647'), ('sname', 'Ferdinando Paolieri'), ('date', '1878-05-02T00:00:00Z')]\n",
      "[('s', 'http://www.wikidata.org/entity/Q509504'), ('sname', 'Franco Fortini'), ('date', '1917-09-10T00:00:00Z')]\n",
      "[('s', 'http://www.wikidata.org/entity/Q117197'), ('sname', 'Marc Monnier'), ('date', '1827-12-07T00:00:00Z')]\n",
      "[('s', 'http://www.wikidata.org/entity/Q1399'), ('sname', 'Niccolò Machiavelli'), ('date', '1469-05-12T00:00:00Z')]\n",
      "[('s', 'http://www.wikidata.org/entity/Q3610195'), ('sname', 'Alessandro Parronchi'), ('date', '1914-12-26T00:00:00Z')]\n",
      "[('s', 'http://www.wikidata.org/entity/Q335896'), ('sname', 'John Douglas, 9th Marquess of Queensberry'), ('date', '1844-07-20T00:00:00Z')]\n",
      "20\n"
     ]
    }
   ],
   "source": [
    "#From results: [('p', 'http://www.wikidata.org/prop/direct/P1963'), ('pname', 'properties for this type'),\n",
    "#('o', 'http://www.wikidata.org/entity/P569'), ('oname', 'date of birth')]\n",
    "\n",
    "\n",
    "queryString = \"\"\"\n",
    "SELECT DISTINCT ?s ?sname ?date\n",
    "WHERE {\n",
    "   \n",
    "   #Returning all poets from Florence with their birth date\n",
    "   ?s wdt:P106 wd:Q49757 ;\n",
    "      wdt:P19 wd:Q2044 ;\n",
    "      wdt:P569 ?date.\n",
    "   \n",
    "   # get the label\n",
    "   ?s sc:name ?sname.\n",
    "   \n",
    "   \n",
    "}\n",
    "LIMIT 20\n",
    "\"\"\"\n",
    "\n",
    "print(\"Results\")\n",
    "x=run_query(queryString)\n"
   ]
  },
  {
   "cell_type": "code",
   "execution_count": 137,
   "id": "1f60dd32-cde3-464c-bfbc-e184b5955f9b",
   "metadata": {},
   "outputs": [
    {
     "name": "stdout",
     "output_type": "stream",
     "text": [
      "Results\n",
      "[('s', 'http://www.wikidata.org/entity/Q19357719'), ('sname', 'Lodovico Martelli'), ('date', '1500-04-10T00:00:00Z')]\n",
      "[('s', 'http://www.wikidata.org/entity/Q3339583'), ('sname', 'Niccolò Martelli'), ('date', '1498-01-01T00:00:00Z')]\n",
      "[('s', 'http://www.wikidata.org/entity/Q721846'), ('sname', 'Luigi Alamanni'), ('date', '1495-03-15T00:00:00Z')]\n",
      "[('s', 'http://www.wikidata.org/entity/Q302218'), ('sname', 'Agnolo Firenzuola'), ('date', '1493-10-07T00:00:00Z')]\n",
      "[('s', 'http://www.wikidata.org/entity/Q66809563'), ('sname', \"Alessandro Pazzi de' Medici\"), ('date', '1483-03-13T00:00:00Z')]\n",
      "[('s', 'http://www.wikidata.org/entity/Q1248954'), ('sname', 'Giovanni di Bernardo Rucellai'), ('date', '1475-10-29T00:00:00Z')]\n",
      "[('s', 'http://www.wikidata.org/entity/Q1158784'), ('sname', 'Crinitus'), ('date', '1475-01-18T00:00:00Z')]\n",
      "[('s', 'http://www.wikidata.org/entity/Q1215784'), ('sname', 'Alessandra Scala'), ('date', '1475-01-01T00:00:00Z')]\n",
      "[('s', 'http://www.wikidata.org/entity/Q1399'), ('sname', 'Niccolò Machiavelli'), ('date', '1469-05-12T00:00:00Z')]\n",
      "[('s', 'http://www.wikidata.org/entity/Q21003797'), ('sname', 'Michel Verin'), ('date', '1468-01-01T00:00:00Z')]\n",
      "[('s', 'http://www.wikidata.org/entity/Q2857170'), ('sname', 'Antonio Alamanni'), ('date', '1464-04-14T00:00:00Z')]\n",
      "[('s', 'http://www.wikidata.org/entity/Q328117'), ('sname', 'Girolamo Benivieni'), ('date', '1453-02-15T00:00:00Z')]\n",
      "[('s', 'http://www.wikidata.org/entity/Q425969'), ('sname', 'Bernardo Bellincioni'), ('date', '1452-01-01T00:00:00Z')]\n",
      "[('s', 'http://www.wikidata.org/entity/Q177854'), ('sname', \"Lorenzo de' Medici\"), ('date', '1449-01-10T00:00:00Z')]\n",
      "[('s', 'http://www.wikidata.org/entity/Q13570581'), ('sname', 'Bartolomeo della Fonte'), ('date', '1446-01-01T00:00:00Z')]\n",
      "[('s', 'http://www.wikidata.org/entity/Q2832756'), ('sname', 'Alessandro Braccesi'), ('date', '1445-12-10T00:00:00Z')]\n",
      "[('s', 'http://www.wikidata.org/entity/Q13570581'), ('sname', 'Bartolomeo della Fonte'), ('date', '1445-08-26T00:00:00Z')]\n",
      "[('s', 'http://www.wikidata.org/entity/Q1527917'), ('sname', 'Giuliano Dati'), ('date', '1445-01-01T00:00:00Z')]\n",
      "[('s', 'http://www.wikidata.org/entity/Q2832756'), ('sname', 'Alessandro Braccesi'), ('date', '1445-01-01T00:00:00Z')]\n",
      "[('s', 'http://www.wikidata.org/entity/Q781511'), ('sname', 'Aurelio Lippo Brandolini'), ('date', '1440-01-01T00:00:00Z')]\n",
      "20\n"
     ]
    }
   ],
   "source": [
    "\n",
    "queryString = \"\"\"\n",
    "SELECT DISTINCT ?s ?sname ?date\n",
    "WHERE {\n",
    "   \n",
    "\n",
    "   #Returns all poets from Florence with their birth date\n",
    "   ?s wdt:P106 wd:Q49757 ;\n",
    "      wdt:P19 wd:Q2044 ;\n",
    "      wdt:P569 ?date.\n",
    "    \n",
    "    \n",
    "      \n",
    "   \n",
    "   # get the label\n",
    "   ?s sc:name ?sname.\n",
    "   \n",
    "   # Filtering reults\n",
    "   FILTER (?date > \"1299\"^^xsd:gYear && ?date < \"1501\"^^xsd:gYear )\n",
    "   \n",
    "}\n",
    "ORDER BY DESC (?date)\n",
    "LIMIT 20\n",
    "\n",
    "\"\"\"\n",
    "\n",
    "print(\"Results\")\n",
    "x=run_query(queryString)"
   ]
  },
  {
   "cell_type": "markdown",
   "id": "83bf16fb",
   "metadata": {},
   "source": [
    "Final query for this task"
   ]
  },
  {
   "cell_type": "code",
   "execution_count": 3,
   "id": "bf615efa",
   "metadata": {},
   "outputs": [
    {
     "name": "stdout",
     "output_type": "stream",
     "text": [
      "Results\n",
      "[('s', 'http://www.wikidata.org/entity/Q62055718'), ('sname', \"Lippo Pasci de' Bardi\")]\n",
      "[('s', 'http://www.wikidata.org/entity/Q1149308'), ('sname', 'Rustico Filippi')]\n",
      "[('s', 'http://www.wikidata.org/entity/Q15633606'), ('sname', 'Bondie Dietaiuti')]\n",
      "[('s', 'http://www.wikidata.org/entity/Q3763435'), ('sname', 'Gianni Alfani')]\n",
      "[('s', 'http://www.wikidata.org/entity/Q366499'), ('sname', 'Orcagna')]\n",
      "[('s', 'http://www.wikidata.org/entity/Q1402'), ('sname', 'Giovanni Boccaccio')]\n",
      "[('s', 'http://www.wikidata.org/entity/Q604448'), ('sname', 'Antonio Pucci')]\n",
      "[('s', 'http://www.wikidata.org/entity/Q50399164'), ('sname', \"Dolcibene de' Tori\")]\n",
      "[('s', 'http://www.wikidata.org/entity/Q3677259'), ('sname', 'Cino Rinuccini')]\n",
      "[('s', 'http://www.wikidata.org/entity/Q640594'), ('sname', 'John Dominici')]\n",
      "[('s', 'http://www.wikidata.org/entity/Q45539848'), ('sname', 'Niccolò Tinucci')]\n",
      "[('s', 'http://www.wikidata.org/entity/Q17166727'), ('sname', 'Antonio di Meglio')]\n",
      "[('s', 'http://www.wikidata.org/entity/Q1229872'), ('sname', 'Matteo Palmieri')]\n",
      "[('s', 'http://www.wikidata.org/entity/Q3830353'), ('sname', 'Leonardo Dati')]\n",
      "[('s', 'http://www.wikidata.org/entity/Q3750836'), ('sname', \"Francesco d'Altobianco Alberti\")]\n",
      "[('s', 'http://www.wikidata.org/entity/Q1058842'), ('sname', 'Domenico di Giovanni')]\n",
      "[('s', 'http://www.wikidata.org/entity/Q18945288'), ('sname', 'Francesco da Firenze')]\n",
      "[('s', 'http://www.wikidata.org/entity/Q659093'), ('sname', 'Benedetto Dei')]\n",
      "[('s', 'http://www.wikidata.org/entity/Q3068447'), ('sname', 'Feo Belcari')]\n",
      "[('s', 'http://www.wikidata.org/entity/Q1113645'), ('sname', 'Lucrezia Tornabuoni')]\n",
      "[('s', 'http://www.wikidata.org/entity/Q711964'), ('sname', 'Cristoforo Landino')]\n",
      "[('s', 'http://www.wikidata.org/entity/Q631635'), ('sname', 'Luigi Pulci')]\n",
      "[('s', 'http://www.wikidata.org/entity/Q741841'), ('sname', 'Ugolino di Vieri')]\n",
      "[('s', 'http://www.wikidata.org/entity/Q1527917'), ('sname', 'Giuliano Dati')]\n",
      "[('s', 'http://www.wikidata.org/entity/Q781511'), ('sname', 'Aurelio Lippo Brandolini')]\n",
      "[('s', 'http://www.wikidata.org/entity/Q13570581'), ('sname', 'Bartolomeo della Fonte')]\n",
      "[('s', 'http://www.wikidata.org/entity/Q589545'), ('sname', 'Bernardo Pulci')]\n",
      "[('s', 'http://www.wikidata.org/entity/Q2832756'), ('sname', 'Alessandro Braccesi')]\n",
      "[('s', 'http://www.wikidata.org/entity/Q177854'), ('sname', \"Lorenzo de' Medici\")]\n",
      "[('s', 'http://www.wikidata.org/entity/Q328117'), ('sname', 'Girolamo Benivieni')]\n",
      "[('s', 'http://www.wikidata.org/entity/Q425969'), ('sname', 'Bernardo Bellincioni')]\n",
      "[('s', 'http://www.wikidata.org/entity/Q21003797'), ('sname', 'Michel Verin')]\n",
      "[('s', 'http://www.wikidata.org/entity/Q1399'), ('sname', 'Niccolò Machiavelli')]\n",
      "[('s', 'http://www.wikidata.org/entity/Q2857170'), ('sname', 'Antonio Alamanni')]\n",
      "[('s', 'http://www.wikidata.org/entity/Q1248954'), ('sname', 'Giovanni di Bernardo Rucellai')]\n",
      "[('s', 'http://www.wikidata.org/entity/Q1215784'), ('sname', 'Alessandra Scala')]\n",
      "[('s', 'http://www.wikidata.org/entity/Q1158784'), ('sname', 'Crinitus')]\n",
      "[('s', 'http://www.wikidata.org/entity/Q66809563'), ('sname', \"Alessandro Pazzi de' Medici\")]\n",
      "[('s', 'http://www.wikidata.org/entity/Q302218'), ('sname', 'Agnolo Firenzuola')]\n",
      "[('s', 'http://www.wikidata.org/entity/Q721846'), ('sname', 'Luigi Alamanni')]\n",
      "[('s', 'http://www.wikidata.org/entity/Q3339583'), ('sname', 'Niccolò Martelli')]\n",
      "[('s', 'http://www.wikidata.org/entity/Q19357719'), ('sname', 'Lodovico Martelli')]\n",
      "42\n"
     ]
    }
   ],
   "source": [
    "\n",
    "queryString = \"\"\"\n",
    "SELECT DISTINCT ?s ?sname \n",
    "WHERE {\n",
    "   \n",
    "\n",
    "   #Returns all poets from Florence with their birth date\n",
    "   ?s wdt:P106 wd:Q49757 ;\n",
    "      wdt:P19 wd:Q2044 ;\n",
    "      wdt:P569 ?date.\n",
    "    \n",
    "    \n",
    "      \n",
    "   \n",
    "   # get the label\n",
    "   ?s sc:name ?sname.\n",
    "   \n",
    "   # Filtering reults\n",
    "   FILTER (?date > \"1299\"^^xsd:gYear && ?date < \"1501\"^^xsd:gYear )\n",
    "   \n",
    "}\n",
    "\n",
    "\"\"\"\n",
    "\n",
    "print(\"Results\")\n",
    "x=run_query(queryString)"
   ]
  },
  {
   "cell_type": "markdown",
   "id": "de1e4cac",
   "metadata": {},
   "source": [
    "## Task 5\n",
    "Identify the BGP for literary work"
   ]
  },
  {
   "cell_type": "code",
   "execution_count": 148,
   "id": "cbe1d788",
   "metadata": {},
   "outputs": [
    {
     "name": "stdout",
     "output_type": "stream",
     "text": [
      "Results\n",
      "[('p', 'http://www.wikidata.org/prop/direct/P2551'), ('pname', 'used metre')]\n",
      "[('p', 'http://www.wikidata.org/prop/direct/P1343'), ('pname', 'described by source')]\n",
      "[('p', 'http://www.wikidata.org/prop/direct/P136'), ('pname', 'genre')]\n",
      "[('p', 'http://www.wikidata.org/prop/direct/P18'), ('pname', 'image')]\n",
      "[('p', 'http://www.wikidata.org/prop/direct/P1889'), ('pname', 'different from')]\n",
      "[('p', 'http://www.wikidata.org/prop/direct/P31'), ('pname', 'instance of')]\n",
      "[('p', 'http://www.wikidata.org/prop/direct/P407'), ('pname', 'language of work or name')]\n",
      "[('p', 'http://www.wikidata.org/prop/direct/P50'), ('pname', 'author')]\n",
      "[('p', 'http://www.wikidata.org/prop/direct/P527'), ('pname', 'has part')]\n",
      "[('p', 'http://www.wikidata.org/prop/direct/P674'), ('pname', 'characters')]\n",
      "[('p', 'http://www.wikidata.org/prop/direct/P747'), ('pname', 'has edition or translation')]\n",
      "[('p', 'http://www.wikidata.org/prop/direct/P910'), ('pname', \"topic's main category\")]\n",
      "12\n"
     ]
    }
   ],
   "source": [
    "\n",
    "queryString = \"\"\"\n",
    "SELECT DISTINCT ?p ?pname\n",
    "WHERE {\n",
    "   \n",
    "   # Using The Divine Comedy (Q40185) as an example of a literary work and finding properties\n",
    "   wd:Q40185 ?p ?obj .\n",
    "   \n",
    "   # get the label\n",
    "   ?p sc:name ?pname .\n",
    "   FILTER (!isLiteral(?obj))\n",
    "}\n",
    "LIMIT 20\n",
    "\"\"\"\n",
    "\n",
    "print(\"Results\")\n",
    "x=run_query(queryString)\n",
    "\n"
   ]
  },
  {
   "cell_type": "code",
   "execution_count": 150,
   "id": "7f9091f8-7ad0-4b9f-ba02-f4843f802d56",
   "metadata": {},
   "outputs": [
    {
     "name": "stdout",
     "output_type": "stream",
     "text": [
      "Results\n",
      "[('o', 'http://www.wikidata.org/entity/Q47461344'), ('oname', 'written work')]\n",
      "1\n"
     ]
    }
   ],
   "source": [
    "queryString = \"\"\"\n",
    "SELECT DISTINCT ?o ?oname\n",
    "WHERE {\n",
    "   \n",
    "   \n",
    "   wd:Q40185 wdt:P31 ?o .\n",
    "   \n",
    "   # get the label\n",
    "   ?o sc:name ?oname .\n",
    "   \n",
    "}\n",
    "LIMIT 20\n",
    "\"\"\"\n",
    "\n",
    "print(\"Results\")\n",
    "x=run_query(queryString)"
   ]
  },
  {
   "cell_type": "code",
   "execution_count": 154,
   "id": "15cd02b7-ef96-47a4-949b-67867e140e0c",
   "metadata": {},
   "outputs": [
    {
     "name": "stdout",
     "output_type": "stream",
     "text": [
      "Results\n",
      "[('p', 'http://www.wikidata.org/prop/direct/P101'), ('pname', 'field of work')]\n",
      "[('p', 'http://www.wikidata.org/prop/direct/P103'), ('pname', 'native language')]\n",
      "[('p', 'http://www.wikidata.org/prop/direct/P106'), ('pname', 'occupation')]\n",
      "[('p', 'http://www.wikidata.org/prop/direct/P1066'), ('pname', 'student of')]\n",
      "[('p', 'http://www.wikidata.org/prop/direct/P119'), ('pname', 'place of burial')]\n",
      "[('p', 'http://www.wikidata.org/prop/direct/P1196'), ('pname', 'manner of death')]\n",
      "[('p', 'http://www.wikidata.org/prop/direct/P1299'), ('pname', 'depicted by')]\n",
      "[('p', 'http://www.wikidata.org/prop/direct/P1343'), ('pname', 'described by source')]\n",
      "[('p', 'http://www.wikidata.org/prop/direct/P135'), ('pname', 'movement')]\n",
      "[('p', 'http://www.wikidata.org/prop/direct/P140'), ('pname', 'religion')]\n",
      "[('p', 'http://www.wikidata.org/prop/direct/P1412'), ('pname', 'languages spoken, written or signed')]\n",
      "[('p', 'http://www.wikidata.org/prop/direct/P172'), ('pname', 'ethnic group')]\n",
      "[('p', 'http://www.wikidata.org/prop/direct/P18'), ('pname', 'image')]\n",
      "[('p', 'http://www.wikidata.org/prop/direct/P19'), ('pname', 'place of birth')]\n",
      "[('p', 'http://www.wikidata.org/prop/direct/P20'), ('pname', 'place of death')]\n",
      "[('p', 'http://www.wikidata.org/prop/direct/P21'), ('pname', 'sex or gender')]\n",
      "[('p', 'http://www.wikidata.org/prop/direct/P22'), ('pname', 'father')]\n",
      "[('p', 'http://www.wikidata.org/prop/direct/P25'), ('pname', 'mother')]\n",
      "[('p', 'http://www.wikidata.org/prop/direct/P26'), ('pname', 'spouse')]\n",
      "[('p', 'http://www.wikidata.org/prop/direct/P27'), ('pname', 'country of citizenship')]\n",
      "[('p', 'http://www.wikidata.org/prop/direct/P31'), ('pname', 'instance of')]\n",
      "[('p', 'http://www.wikidata.org/prop/direct/P3373'), ('pname', 'sibling')]\n",
      "[('p', 'http://www.wikidata.org/prop/direct/P40'), ('pname', 'child')]\n",
      "[('p', 'http://www.wikidata.org/prop/direct/P437'), ('pname', 'distribution format')]\n",
      "[('p', 'http://www.wikidata.org/prop/direct/P463'), ('pname', 'member of')]\n",
      "[('p', 'http://www.wikidata.org/prop/direct/P5008'), ('pname', 'on focus list of Wikimedia project')]\n",
      "[('p', 'http://www.wikidata.org/prop/direct/P509'), ('pname', 'cause of death')]\n",
      "[('p', 'http://www.wikidata.org/prop/direct/P53'), ('pname', 'family')]\n",
      "[('p', 'http://www.wikidata.org/prop/direct/P551'), ('pname', 'residence')]\n",
      "[('p', 'http://www.wikidata.org/prop/direct/P607'), ('pname', 'conflict')]\n",
      "[('p', 'http://www.wikidata.org/prop/direct/P611'), ('pname', 'religious order')]\n",
      "[('p', 'http://www.wikidata.org/prop/direct/P6379'), ('pname', 'has works in the collection')]\n",
      "[('p', 'http://www.wikidata.org/prop/direct/P6886'), ('pname', 'writing language')]\n",
      "[('p', 'http://www.wikidata.org/prop/direct/P734'), ('pname', 'family name')]\n",
      "[('p', 'http://www.wikidata.org/prop/direct/P735'), ('pname', 'given name')]\n",
      "[('p', 'http://www.wikidata.org/prop/direct/P737'), ('pname', 'influenced by')]\n",
      "[('p', 'http://www.wikidata.org/prop/direct/P7763'), ('pname', 'copyright status as a creator')]\n",
      "[('p', 'http://www.wikidata.org/prop/direct/P800'), ('pname', 'notable work')]\n",
      "[('p', 'http://www.wikidata.org/prop/direct/P8625'), ('pname', 'bibliography')]\n",
      "[('p', 'http://www.wikidata.org/prop/direct/P910'), ('pname', \"topic's main category\")]\n",
      "40\n"
     ]
    }
   ],
   "source": [
    "\n",
    "queryString = \"\"\"\n",
    "SELECT DISTINCT ?p ?pname\n",
    "WHERE {\n",
    "   \n",
    "   # Using Dante Alighieri (Q1067) as an example of poets and finding properties\n",
    "   wd:Q1067 ?p ?obj .\n",
    "   \n",
    "   # get the label\n",
    "   ?p sc:name ?pname .\n",
    "   FILTER (!isLiteral(?obj))\n",
    "}\n",
    "LIMIT 100\n",
    "\"\"\"\n",
    "\n",
    "print(\"Results\")\n",
    "x=run_query(queryString)"
   ]
  },
  {
   "cell_type": "code",
   "execution_count": 157,
   "id": "16fd73b2-d4b1-42af-b71b-1458e9783437",
   "metadata": {},
   "outputs": [
    {
     "name": "stdout",
     "output_type": "stream",
     "text": [
      "Results\n",
      "[('obj', 'http://www.wikidata.org/entity/Q482'), ('oname', 'poetry')]\n",
      "1\n"
     ]
    }
   ],
   "source": [
    "#From results: [('p', 'http://www.wikidata.org/prop/direct/P101'), ('pname', 'field of work')]\n",
    "\n",
    "queryString = \"\"\"\n",
    "SELECT DISTINCT ?obj ?oname\n",
    "WHERE {\n",
    "   \n",
    "   # Using Dante Alighieri (Q1067) as an example of poets and finding properties\n",
    "   wd:Q1067 wdt:P101 ?obj .\n",
    "   \n",
    "   # get the label\n",
    "   ?obj sc:name ?oname .\n",
    "}\n",
    "LIMIT 100\n",
    "\"\"\"\n",
    "\n",
    "print(\"Results\")\n",
    "x=run_query(queryString)"
   ]
  },
  {
   "cell_type": "code",
   "execution_count": 4,
   "id": "ab54e9f9-62ab-460d-81a7-67abd3af40d1",
   "metadata": {},
   "outputs": [
    {
     "name": "stdout",
     "output_type": "stream",
     "text": [
      "Results\n",
      "[('obj', 'http://www.wikidata.org/entity/Q7725634'), ('oname', 'literary work')]\n",
      "1\n"
     ]
    }
   ],
   "source": [
    "\n",
    "queryString = \"\"\"\n",
    "SELECT DISTINCT ?obj ?oname\n",
    "WHERE {\n",
    "   \n",
    "   #Using subclass property\n",
    "   wd:Q482 wdt:P279 ?obj .\n",
    "   \n",
    "   # get the label\n",
    "   ?obj sc:name ?oname .\n",
    "}\n",
    "LIMIT 100\n",
    "\"\"\"\n",
    "\n",
    "print(\"Results\")\n",
    "x=run_query(queryString)"
   ]
  },
  {
   "cell_type": "markdown",
   "id": "39f51d7d",
   "metadata": {},
   "source": [
    "Final query for this task"
   ]
  },
  {
   "cell_type": "code",
   "execution_count": 5,
   "id": "9e4dabda",
   "metadata": {},
   "outputs": [
    {
     "name": "stdout",
     "output_type": "stream",
     "text": [
      "Results\n",
      "[('obj', 'http://www.wikidata.org/entity/Q7725634'), ('oname', 'literary work')]\n",
      "1\n"
     ]
    }
   ],
   "source": [
    "\n",
    "queryString = \"\"\"\n",
    "SELECT DISTINCT ?obj ?oname\n",
    "WHERE {\n",
    "   \n",
    "   #Using subclass property\n",
    "   wd:Q482 wdt:P279 ?obj .\n",
    "   \n",
    "   # get the label\n",
    "   ?obj sc:name ?oname .\n",
    "}\n",
    "LIMIT 100\n",
    "\"\"\"\n",
    "\n",
    "print(\"Results\")\n",
    "x=run_query(queryString)"
   ]
  },
  {
   "cell_type": "markdown",
   "id": "3627f604",
   "metadata": {},
   "source": [
    "## Task 6\n",
    "Compare the author of The Divine Comedy with Giovanni Boccaccio. Return for these poets the number of literary work they wrote (the result set must be two triples -one for each author- author IRI, label and #literary work)."
   ]
  },
  {
   "cell_type": "code",
   "execution_count": 125,
   "id": "09810054",
   "metadata": {},
   "outputs": [
    {
     "name": "stdout",
     "output_type": "stream",
     "text": [
      "Results\n",
      "[('lwD', 'http://www.wikidata.org/entity/Q18084'), ('literaryWork', 'Vita Nuova')]\n",
      "[('lwD', 'http://www.wikidata.org/entity/Q40185'), ('literaryWork', 'The Divine Comedy')]\n",
      "[('lwD', 'http://www.wikidata.org/entity/Q3614562'), ('literaryWork', \"Amore e 'l cor gentil sono una cosa\")]\n",
      "[('lwD', 'http://www.wikidata.org/entity/Q21191014'), ('literaryWork', 'Divina Commedia')]\n",
      "[('lwD', 'http://www.wikidata.org/entity/Q666014'), ('literaryWork', 'Convivio')]\n",
      "[('lwD', 'http://www.wikidata.org/entity/Q21191013'), ('literaryWork', 'Comedìa')]\n",
      "[('lwD', 'http://www.wikidata.org/entity/Q1092462'), ('literaryWork', 'Le Rime')]\n",
      "[('lwD', 'http://www.wikidata.org/entity/Q17562638'), ('literaryWork', 'Abandon all hope, ye who enter here')]\n",
      "[('lwD', 'http://www.wikidata.org/entity/Q19222261'), ('literaryWork', 'Nulla mi parve mai più crudel cosa')]\n",
      "[('lwD', 'http://www.wikidata.org/entity/Q19126932'), ('literaryWork', 'Commedia (1866, Lana)')]\n",
      "[('lwD', 'http://www.wikidata.org/entity/Q3706230'), ('literaryWork', \"Detto d'Amore\")]\n",
      "[('lwD', 'http://www.wikidata.org/entity/Q21191022'), ('literaryWork', 'Commedia (1858, Buti)')]\n",
      "12\n"
     ]
    }
   ],
   "source": [
    "\n",
    "queryString = \"\"\"\n",
    "SELECT DISTINCT ?lwD ?literaryWork\n",
    "WHERE {\n",
    "   \n",
    "   ?lwD wdt:P50 wd:Q1067 ;\n",
    "        wdt:P407 ?lang .\n",
    "   \n",
    "   # get the label\n",
    "   #?o sc:name ?oname.\n",
    "   #?p sc:name ?pname.\n",
    "   ?lwD sc:name ?literaryWork .\n",
    "   ?lang sc:name ?language .\n",
    "   \n",
    "   FILTER (REGEX (?language , \".*[Ii]talian.*\"))\n",
    "}\n",
    "\n",
    "LIMIT 100\n",
    "\"\"\"\n",
    "\n",
    "print(\"Results\")\n",
    "x=run_query(queryString)\n",
    "\n"
   ]
  },
  {
   "cell_type": "code",
   "execution_count": 98,
   "id": "2cfcb4d3-c946-4846-91c4-2face32cb8e9",
   "metadata": {},
   "outputs": [
    {
     "name": "stdout",
     "output_type": "stream",
     "text": [
      "Results\n",
      "[('lwD', 'http://www.wikidata.org/entity/Q18084'), ('literaryWork', 'Vita Nuova')]\n",
      "[('lwD', 'http://www.wikidata.org/entity/Q40185'), ('literaryWork', 'The Divine Comedy')]\n",
      "[('lwD', 'http://www.wikidata.org/entity/Q134221'), ('literaryWork', 'De Monarchia')]\n",
      "[('lwD', 'http://www.wikidata.org/entity/Q18081'), ('literaryWork', 'De vulgari eloquentia')]\n",
      "[('lwD', 'http://www.wikidata.org/entity/Q666014'), ('literaryWork', 'Convivio')]\n",
      "5\n"
     ]
    }
   ],
   "source": [
    "#[('p', 'http://www.wikidata.org/prop/direct/P800'), ('pname', 'notable work')]\n",
    "\n",
    "queryString = \"\"\"\n",
    "SELECT DISTINCT ?lwD ?literaryWork\n",
    "WHERE {\n",
    "   \n",
    "   wd:Q1067 wdt:P800 ?lwD .\n",
    "        \n",
    "   \n",
    "   \n",
    "   \n",
    "   # get the label\n",
    "   #?o sc:name ?oname.\n",
    "   #?p sc:name ?pname.\n",
    "   ?lwD sc:name ?literaryWork .\n",
    "\n",
    "}\n",
    "\n",
    "LIMIT 20\n",
    "\"\"\"\n",
    "\n",
    "print(\"Results\")\n",
    "x=run_query(queryString)\n"
   ]
  },
  {
   "cell_type": "code",
   "execution_count": 61,
   "id": "a725b401-b2ed-41df-8164-7795c0511876",
   "metadata": {},
   "outputs": [
    {
     "name": "stdout",
     "output_type": "stream",
     "text": [
      "Results\n",
      "[('pname', \"topic's main template\"), ('oname', 'Template:Infobox literary work')]\n",
      "[('pname', 'different from'), ('oname', 'version, edition, or translation')]\n",
      "[('pname', 'different from'), ('oname', 'written work')]\n",
      "[('pname', 'properties for this type'), ('oname', 'GND ID')]\n",
      "[('pname', 'properties for this type'), ('oname', 'author')]\n",
      "[('pname', 'properties for this type'), ('oname', 'award received')]\n",
      "[('pname', 'properties for this type'), ('oname', 'publisher')]\n",
      "[('pname', 'properties for this type'), ('oname', 'set in period')]\n",
      "[('pname', 'properties for this type'), ('oname', 'publication date')]\n",
      "[('pname', 'properties for this type'), ('oname', 'has edition or translation')]\n",
      "[('pname', 'properties for this type'), ('oname', 'country of origin')]\n",
      "[('pname', 'properties for this type'), ('oname', 'narrative location')]\n",
      "[('pname', 'properties for this type'), ('oname', 'language of work or name')]\n",
      "[('pname', 'properties for this type'), ('oname', 'National Library of Israel ID')]\n",
      "[('pname', 'properties for this type'), ('oname', 'Commons category')]\n",
      "[('pname', 'properties for this type'), ('oname', 'genre')]\n",
      "[('pname', 'properties for this type'), ('oname', 'VIAF ID')]\n",
      "[('pname', 'properties for this type'), ('oname', 'form of creative work')]\n",
      "[('pname', 'properties for this type'), ('oname', 'main subject')]\n",
      "[('pname', 'fabrication method'), ('oname', 'language')]\n",
      "[('pname', 'has list'), ('oname', 'list of literary works')]\n",
      "[('pname', 'subclass of'), ('oname', 'work of art')]\n",
      "[('pname', 'subclass of'), ('oname', 'written work')]\n",
      "[('pname', 'part of'), ('oname', 'literature')]\n",
      "[('pname', 'has part'), ('oname', 'text')]\n",
      "[('pname', 'maintained by WikiProject'), ('oname', 'WikiProject Books')]\n",
      "[('pname', 'category for eponymous categories'), ('oname', 'Category:Wikipedia categories named after literary texts')]\n",
      "[('pname', \"topic's main category\"), ('oname', 'Category:Literary works')]\n",
      "28\n"
     ]
    }
   ],
   "source": [
    "\n",
    "queryString = \"\"\"\n",
    "SELECT DISTINCT  ?pname  ?oname\n",
    "WHERE {\n",
    "   \n",
    "   #Finding literary work properties\n",
    "   wd:Q7725634 ?p ?o .\n",
    "   \n",
    "   # get the label\n",
    "   ?o sc:name ?oname .\n",
    "   ?p sc:name ?pname.\n",
    "}\n",
    "LIMIT 100\n",
    "\"\"\"\n",
    "\n",
    "print(\"Results\")\n",
    "x=run_query(queryString)"
   ]
  },
  {
   "cell_type": "code",
   "execution_count": 135,
   "id": "5fcfa66e-e9c6-47cd-b951-ca78ee8cb78a",
   "metadata": {},
   "outputs": [
    {
     "name": "stdout",
     "output_type": "stream",
     "text": [
      "Results\n",
      "[('p', 'http://www.wikidata.org/prop/direct/P655'), ('pname', 'translator')]\n",
      "[('p', 'http://www.wikidata.org/prop/direct/P747'), ('pname', 'has edition or translation')]\n",
      "[('p', 'http://www.wikidata.org/prop/direct/P629'), ('pname', 'edition or translation of')]\n",
      "3\n"
     ]
    }
   ],
   "source": [
    "#From task 1: [('p', 'http://www.wikidata.org/prop/direct/P747'), ('name', 'has edition or translation')]\n",
    "\n",
    "queryString = \"\"\"\n",
    "SELECT DISTINCT  ?p ?pname \n",
    "WHERE {\n",
    "   \n",
    "   #Finding literary work properties\n",
    "   wd:Q40185 wdt:P747 ?o .\n",
    "   ?o ?p ?obj .\n",
    "   \n",
    "   # get the label\n",
    "   ?o sc:name ?oname .\n",
    "   ?p sc:name ?pname .\n",
    "   \n",
    "   \n",
    "   FILTER (REGEX (?pname, \".*translat.*\"))\n",
    "   \n",
    "}\n",
    "LIMIT 100\n",
    "\"\"\"\n",
    "\n",
    "print(\"Results\")\n",
    "x=run_query(queryString)"
   ]
  },
  {
   "cell_type": "code",
   "execution_count": 144,
   "id": "0db1a778-c155-4103-aa60-b170182d4892",
   "metadata": {},
   "outputs": [
    {
     "name": "stdout",
     "output_type": "stream",
     "text": [
      "Results\n",
      "[('lw', 'http://www.wikidata.org/entity/Q18084'), ('literaryWorks', 'Vita Nuova')]\n",
      "[('lw', 'http://www.wikidata.org/entity/Q3798518'), ('literaryWorks', 'Fifth song of Dante\\'s \"Inferno\"')]\n",
      "[('lw', 'http://www.wikidata.org/entity/Q605018'), ('literaryWorks', 'Purgatorio')]\n",
      "[('lw', 'http://www.wikidata.org/entity/Q134221'), ('literaryWorks', 'De Monarchia')]\n",
      "[('lw', 'http://www.wikidata.org/entity/Q18081'), ('literaryWorks', 'De vulgari eloquentia')]\n",
      "[('lw', 'http://www.wikidata.org/entity/Q666014'), ('literaryWorks', 'Convivio')]\n",
      "[('lw', 'http://www.wikidata.org/entity/Q3730666'), ('literaryWorks', 'Epistles')]\n",
      "[('lw', 'http://www.wikidata.org/entity/Q1092462'), ('literaryWorks', 'Le Rime')]\n",
      "[('lw', 'http://www.wikidata.org/entity/Q3895042'), ('literaryWorks', 'Paradiso: Fifth Canto')]\n",
      "[('lw', 'http://www.wikidata.org/entity/Q921273'), ('literaryWorks', 'Eclogues')]\n",
      "[('lw', 'http://www.wikidata.org/entity/Q3926645'), ('literaryWorks', 'Quaestio de aqua et terra')]\n",
      "11\n"
     ]
    }
   ],
   "source": [
    "#[('p', 'http://www.wikidata.org/prop/direct/P655'), ('pname', 'translator')]\n",
    "\n",
    "\n",
    "queryString = \"\"\"\n",
    "SELECT DISTINCT ?lw ?literaryWorks \n",
    "WHERE {\n",
    "   \n",
    "   #Instances of literary works who were written by Dante A.\n",
    "   ?lw wdt:P31 wd:Q7725634.\n",
    "   ?lw wdt:P50 wd:Q1067.\n",
    "       \n",
    "   \n",
    "   \n",
    "   # get the label\n",
    "   ?lw sc:name ?literaryWorks .\n",
    "   #?o sc:name ?oname .\n",
    "   #?p sc:name ?pname.\n",
    "      \n",
    "   #Since when we set a person as an author, also translation editions will be retrieved,\n",
    "   #All literary works with translator property are excluded\n",
    "   \n",
    "   FILTER NOT EXISTS {?lw wdt:P655 ?t .}\n",
    "}\n",
    "LIMIT 100\n",
    "\"\"\"\n",
    "\n",
    "print(\"Results\")\n",
    "x=run_query(queryString)\n",
    "\n"
   ]
  },
  {
   "cell_type": "code",
   "execution_count": 141,
   "id": "289e0273-d51a-40a2-9282-5d376d2399c2",
   "metadata": {},
   "outputs": [
    {
     "name": "stdout",
     "output_type": "stream",
     "text": [
      "Results\n",
      "[('poet', 'http://www.wikidata.org/entity/Q1402'), ('poetName', 'Giovanni Boccaccio')]\n",
      "1\n"
     ]
    }
   ],
   "source": [
    "queryString = \"\"\"\n",
    "SELECT DISTINCT ?poet ?poetName\n",
    "WHERE {\n",
    "   \n",
    "  ?poet wdt:P106 wd:Q49757.\n",
    "   \n",
    "   \n",
    "   \n",
    "   # get the label\n",
    "   ?poet sc:name ?poetName .\n",
    "   \n",
    "   #Finding Giovanni Boccaccio IRI\n",
    "   FILTER (REGEX(?poetName, \".*[Bb]occaccio.*\"))\n",
    "    \n",
    "}\n",
    "LIMIT 100\n",
    "\"\"\"\n",
    "\n",
    "print(\"Results\")\n",
    "x=run_query(queryString)"
   ]
  },
  {
   "cell_type": "code",
   "execution_count": 145,
   "id": "44acb224-6b5e-4bf5-8b33-6466b3442026",
   "metadata": {},
   "outputs": [
    {
     "name": "stdout",
     "output_type": "stream",
     "text": [
      "Results\n",
      "[('lw', 'http://www.wikidata.org/entity/Q3745486'), ('literaryWorks', 'The Filocolo')]\n",
      "[('lw', 'http://www.wikidata.org/entity/Q16438'), ('literaryWorks', 'The Decameron')]\n",
      "[('lw', 'http://www.wikidata.org/entity/Q3614628'), ('literaryWorks', 'Amorosa visione')]\n",
      "[('lw', 'http://www.wikidata.org/entity/Q3684237'), ('literaryWorks', 'Comedia delle ninfe fiorentine')]\n",
      "[('lw', 'http://www.wikidata.org/entity/Q71736142'), ('literaryWorks', 'De Canaria')]\n",
      "[('lw', 'http://www.wikidata.org/entity/Q3721314'), ('literaryWorks', 'Elegia di Madonna Fiammetta')]\n",
      "[('lw', 'http://www.wikidata.org/entity/Q86673964'), ('literaryWorks', 'Mavortis Milex')]\n",
      "[('lw', 'http://www.wikidata.org/entity/Q5244311'), ('literaryWorks', 'De casibus virorum illustrium')]\n",
      "[('lw', 'http://www.wikidata.org/entity/Q3877086'), ('literaryWorks', 'Ninfale fiesolano')]\n",
      "9\n"
     ]
    }
   ],
   "source": [
    "\n",
    "\n",
    "queryString = \"\"\"\n",
    "SELECT DISTINCT ?lw ?literaryWorks \n",
    "WHERE {\n",
    "   \n",
    "   #Instances of literary works who were written by Giovanni B.\n",
    "   ?lw wdt:P31 wd:Q7725634.\n",
    "   ?lw wdt:P50 wd:Q1402.\n",
    "       \n",
    "   \n",
    "   \n",
    "   # get the label\n",
    "   ?lw sc:name ?literaryWorks .\n",
    "   #?o sc:name ?oname .\n",
    "   #?p sc:name ?pname.\n",
    "      \n",
    "   #Since when we set a person as an author, also translation editions will be retrieved,\n",
    "   #All literary works with translator property are excluded\n",
    "   \n",
    "   FILTER NOT EXISTS {?lw wdt:P655 ?t .}\n",
    "}\n",
    "LIMIT 100\n",
    "\"\"\"\n",
    "\n",
    "print(\"Results\")\n",
    "x=run_query(queryString)"
   ]
  },
  {
   "cell_type": "markdown",
   "id": "ac6c2dac",
   "metadata": {},
   "source": [
    "Final query for this task"
   ]
  },
  {
   "cell_type": "code",
   "execution_count": 143,
   "id": "a7c44ad3",
   "metadata": {},
   "outputs": [
    {
     "name": "stdout",
     "output_type": "stream",
     "text": [
      "Results\n",
      "[('author', 'http://www.wikidata.org/entity/Q1402'), ('authorName', 'Giovanni Boccaccio'), ('literaryWorks', '9')]\n",
      "[('author', 'http://www.wikidata.org/entity/Q1067'), ('authorName', 'Dante Alighieri'), ('literaryWorks', '11')]\n",
      "2\n"
     ]
    }
   ],
   "source": [
    "# write your final query\n",
    "#[('p', 'http://www.wikidata.org/prop/direct/P655'), ('pname', 'translator')]\n",
    "\n",
    "\n",
    "queryString = \"\"\"\n",
    "SELECT DISTINCT ?author ?authorName (COUNT(?lw) as ?literaryWorks)\n",
    "WHERE {\n",
    "   \n",
    "   VALUES ?author { wd:Q1067 wd:Q1402 }\n",
    "   #Instances of literary works who were written by authors\n",
    "   ?lw wdt:P31 wd:Q7725634.\n",
    "   ?lw wdt:P50 ?author .\n",
    "       \n",
    "   \n",
    "   \n",
    "   # get the label\n",
    "   ?lw sc:name ?literaryWorks .\n",
    "   ?author sc:name ?authorName .\n",
    "  \n",
    "      \n",
    "   #Since when we set a person as an author, also translation editions will be retrieved,\n",
    "   #All literary works with translator property are excluded\n",
    "   \n",
    "   FILTER NOT EXISTS {?lw wdt:P655 ?t .}\n",
    "}\n",
    "LIMIT 100\n",
    "\"\"\"\n",
    "\n",
    "print(\"Results\")\n",
    "x=run_query(queryString)\n",
    "\n",
    "\n"
   ]
  },
  {
   "cell_type": "markdown",
   "id": "60fc0658",
   "metadata": {},
   "source": [
    "## Task 7\n",
    "Consider italian poets, their place of birth (the city) and their university education. Return for each city the number of poets who born there and who was educated there (the result set must be a list of triples city IRI, label and #poets)."
   ]
  },
  {
   "cell_type": "code",
   "execution_count": 19,
   "id": "3259f470",
   "metadata": {},
   "outputs": [
    {
     "name": "stdout",
     "output_type": "stream",
     "text": [
      "Results\n",
      "[('s', 'http://www.wikidata.org/entity/Q15726796'), ('sname', 'Teresa Albarelli'), ('cname', 'Kingdom of Italy')]\n",
      "[('s', 'http://www.wikidata.org/entity/Q17203201'), ('sname', 'Sebastiano Fenzi'), ('cname', 'Kingdom of Italy')]\n",
      "[('s', 'http://www.wikidata.org/entity/Q17285111'), ('sname', 'Francesca Manzoni'), ('cname', 'Italy')]\n",
      "[('s', 'http://www.wikidata.org/entity/Q17453230'), ('sname', 'Maria Costa'), ('cname', 'Kingdom of Italy')]\n",
      "[('s', 'http://www.wikidata.org/entity/Q17453230'), ('sname', 'Maria Costa'), ('cname', 'Italy')]\n",
      "[('s', 'http://www.wikidata.org/entity/Q17453266'), ('sname', 'Gaetano Longo'), ('cname', 'Italy')]\n",
      "[('s', 'http://www.wikidata.org/entity/Q17638293'), ('sname', 'Paolo Principato'), ('cname', 'Italy')]\n",
      "[('s', 'http://www.wikidata.org/entity/Q22061622'), ('sname', 'Ernesto Del Preite'), ('cname', 'Kingdom of Italy')]\n",
      "[('s', 'http://www.wikidata.org/entity/Q24206101'), ('sname', 'Federico Nardi'), ('cname', 'Italy')]\n",
      "[('s', 'http://www.wikidata.org/entity/Q1215723'), ('sname', 'Roberto Pazzi'), ('cname', 'Italy')]\n",
      "[('s', 'http://www.wikidata.org/entity/Q3703232'), ('sname', 'David Levi'), ('cname', 'Kingdom of Italy')]\n",
      "[('s', 'http://www.wikidata.org/entity/Q441843'), ('sname', 'Luigi Illica'), ('cname', 'Kingdom of Italy')]\n",
      "[('s', 'http://www.wikidata.org/entity/Q446421'), ('sname', 'Romano Mussolini'), ('cname', 'Italy')]\n",
      "[('s', 'http://www.wikidata.org/entity/Q446421'), ('sname', 'Romano Mussolini'), ('cname', 'Kingdom of Italy')]\n",
      "[('s', 'http://www.wikidata.org/entity/Q446431'), ('sname', 'Maria Tore Barbina'), ('cname', 'Italy')]\n",
      "[('s', 'http://www.wikidata.org/entity/Q446431'), ('sname', 'Maria Tore Barbina'), ('cname', 'Kingdom of Italy')]\n",
      "[('s', 'http://www.wikidata.org/entity/Q318309'), ('sname', 'Giorgio Bassani'), ('cname', 'Kingdom of Italy')]\n",
      "[('s', 'http://www.wikidata.org/entity/Q318309'), ('sname', 'Giorgio Bassani'), ('cname', 'Italy')]\n",
      "[('s', 'http://www.wikidata.org/entity/Q535752'), ('sname', 'Lucia Albani Avogadro'), ('cname', 'Italy')]\n",
      "[('s', 'http://www.wikidata.org/entity/Q535810'), ('sname', 'Angelo de Gubernatis'), ('cname', 'Kingdom of Italy')]\n",
      "20\n"
     ]
    }
   ],
   "source": [
    "\n",
    "queryString = \"\"\"\n",
    "SELECT DISTINCT ?s ?sname ?cname\n",
    "WHERE {\n",
    "   \n",
    "   #Returning all poets from Italy\n",
    "   ?s wdt:P106 wd:Q49757 ;\n",
    "      wdt:P27 ?country .\n",
    "     \n",
    "   \n",
    "   # get the label\n",
    "   ?s sc:name ?sname.\n",
    "   ?country sc:name ?cname.\n",
    "   \n",
    "   FILTER ( REGEX (?cname, \".*[Ii]taly.*\"))\n",
    "}\n",
    "LIMIT 20\n",
    "\"\"\"\n",
    "\n",
    "print(\"Results\")\n",
    "x=run_query(queryString)\n",
    "\n",
    "\n"
   ]
  },
  {
   "cell_type": "code",
   "execution_count": 6,
   "id": "9fdaaf49-bd03-441b-baa6-df780e3fb8c5",
   "metadata": {},
   "outputs": [
    {
     "name": "stdout",
     "output_type": "stream",
     "text": [
      "Results\n",
      "[('p', 'http://www.wikidata.org/prop/direct/P512'), ('pname', 'academic degree')]\n",
      "[('p', 'http://www.wikidata.org/prop/direct/P812'), ('pname', 'academic major')]\n",
      "[('p', 'http://www.wikidata.org/prop/direct/P1026'), ('pname', 'academic thesis')]\n",
      "[('p', 'http://www.wikidata.org/prop/direct/P8413'), ('pname', 'academic appointment')]\n",
      "4\n"
     ]
    }
   ],
   "source": [
    "\n",
    "queryString = \"\"\"\n",
    "SELECT DISTINCT  ?p ?pname \n",
    "WHERE {\n",
    "   \n",
    "   #Returning all poets from Italy, find education characteristics \n",
    "   ?s wdt:P106 wd:Q49757 ;\n",
    "      wdt:P27 ?country ;\n",
    "      ?p ?o .\n",
    "     \n",
    "   \n",
    "   # get the label\n",
    "   ?s sc:name ?sname.\n",
    "   ?country sc:name ?cname.\n",
    "   ?o sc:name ?oname .\n",
    "   ?p sc:name ?pname.\n",
    "   \n",
    "   #FILTER ( REGEX (?cname, \".*[Ii]taly.*\"))\n",
    "   FILTER ( REGEX (?pname, \".*[Aa]cademic.*\"))\n",
    "}\n",
    "LIMIT 20\n",
    "\"\"\"\n",
    "\n",
    "print(\"Results\")\n",
    "x=run_query(queryString)\n"
   ]
  },
  {
   "cell_type": "code",
   "execution_count": 43,
   "id": "7d45af4f-426a-41c8-875a-b3075f478fd4",
   "metadata": {},
   "outputs": [
    {
     "name": "stdout",
     "output_type": "stream",
     "text": [
      "Results\n",
      "[('sname', 'David Levi'), ('ciname', 'Chieri'), ('dname', 'laurea')]\n",
      "[('sname', 'Luigi Mercantini'), ('ciname', 'Ripatransone'), ('dname', 'laurea')]\n",
      "[('sname', 'Luigi Morandi'), ('ciname', 'Todi'), ('dname', 'laurea')]\n",
      "[('sname', 'Vyacheslav Ivanovich Ivanov'), ('ciname', 'Moscow'), ('dname', 'Doctor of Sciences in Philology')]\n",
      "[('sname', 'Boris Pahor'), ('ciname', 'Trieste'), ('dname', 'doctorate')]\n",
      "[('sname', 'Giosuè Carducci'), ('ciname', 'Pietrasanta'), ('dname', 'laurea')]\n",
      "[('sname', 'Tommaso Gnoli'), ('ciname', 'Rome'), ('dname', 'laurea')]\n",
      "[('sname', 'Carlo Poerio'), ('ciname', 'Naples'), ('dname', 'laurea')]\n",
      "[('sname', 'Nichi Vendola'), ('ciname', 'Bari'), ('dname', 'laurea')]\n",
      "[('sname', 'Anselmo Guerrieri Gonzaga'), ('ciname', 'Mantua'), ('dname', 'laurea')]\n",
      "[('sname', 'Nichi Vendola'), ('ciname', 'Terlizzi'), ('dname', 'laurea')]\n",
      "[('sname', 'Olindo Guerrini'), ('ciname', 'Forlì'), ('dname', 'Legum Doctor')]\n",
      "[('sname', 'Alojz Rebula'), ('ciname', 'San Pelagio'), ('dname', 'doctorate')]\n",
      "[('sname', 'Giosuè Carducci'), ('ciname', 'Valdicastello Carducci'), ('dname', 'laurea')]\n",
      "[('sname', 'Emilio Frullani'), ('ciname', 'Florence'), ('dname', 'laurea')]\n",
      "[('sname', 'Felice Cavallotti'), ('ciname', 'Milan'), ('dname', 'laurea')]\n",
      "[('sname', 'Francesco Raffaele Curzio'), ('ciname', 'Turi, Apulia'), ('dname', 'laurea')]\n",
      "[('sname', 'Bortolo Belotti'), ('ciname', 'Zogno'), ('dname', 'laurea')]\n",
      "[('sname', 'Giuseppe de Spuches'), ('ciname', 'Palermo'), ('dname', 'laurea')]\n",
      "[('sname', 'Marco Di Meco'), ('ciname', 'Chieti'), ('dname', \"master's degree\")]\n",
      "20\n"
     ]
    }
   ],
   "source": [
    "#From results: ('p', 'http://www.wikidata.org/prop/direct/P512'), ('pname', 'academic degree')\n",
    "#From Task 2: ('p', 'http://www.wikidata.org/prop/direct/P19'),('pname', 'place of birth')\n",
    "\n",
    "queryString = \"\"\"\n",
    "SELECT DISTINCT  ?sname ?ciname ?dname\n",
    "WHERE {\n",
    "   \n",
    "   #Returning all poets from Italy, their city of birth and education degree\n",
    "   ?s wdt:P106 wd:Q49757 ;\n",
    "      wdt:P27 ?country ;\n",
    "      wdt:P19 ?city ;\n",
    "      wdt:P512 ?degree .\n",
    "     \n",
    "   \n",
    "   # get the label\n",
    "   ?s sc:name ?sname.\n",
    "   ?country sc:name ?coname.\n",
    "   ?city sc:name ?ciname.\n",
    "   ?degree sc:name ?dname.\n",
    "   \n",
    "   FILTER ( REGEX (?coname, \".*[Ii]taly.*\"))\n",
    "}   \n",
    "LIMIT 20\n",
    "\"\"\"\n",
    "\n",
    "print(\"Results\")\n",
    "x=run_query(queryString)\n",
    "\n",
    "\n"
   ]
  },
  {
   "cell_type": "code",
   "execution_count": 5,
   "id": "9f22605c-4f20-489b-a697-37abec38fec2",
   "metadata": {},
   "outputs": [
    {
     "name": "stdout",
     "output_type": "stream",
     "text": [
      "Results\n",
      "[('p', 'http://www.wikidata.org/prop/direct/P69'), ('pname', 'educated at'), ('oname', 'Cornell University')]\n",
      "[('p', 'http://www.wikidata.org/prop/direct/P69'), ('pname', 'educated at'), ('oname', 'University of Chicago')]\n",
      "[('p', 'http://www.wikidata.org/prop/direct/P69'), ('pname', 'educated at'), ('oname', 'Brooklyn College')]\n",
      "[('p', 'http://www.wikidata.org/prop/direct/P69'), ('pname', 'educated at'), ('oname', 'University of Havana')]\n",
      "[('p', 'http://www.wikidata.org/prop/direct/P69'), ('pname', 'educated at'), ('oname', 'Johns Hopkins University')]\n",
      "[('p', 'http://www.wikidata.org/prop/direct/P69'), ('pname', 'educated at'), ('oname', 'Palacký University Olomouc')]\n",
      "[('p', 'http://www.wikidata.org/prop/direct/P69'), ('pname', 'educated at'), ('oname', 'Stanford University')]\n",
      "[('p', 'http://www.wikidata.org/prop/direct/P69'), ('pname', 'educated at'), ('oname', 'University of Coimbra')]\n",
      "[('p', 'http://www.wikidata.org/prop/direct/P69'), ('pname', 'educated at'), ('oname', 'Peking University')]\n",
      "[('p', 'http://www.wikidata.org/prop/direct/P69'), ('pname', 'educated at'), ('oname', 'Aberystwyth University')]\n",
      "[('p', 'http://www.wikidata.org/prop/direct/P69'), ('pname', 'educated at'), ('oname', 'University of California, Berkeley')]\n",
      "[('p', 'http://www.wikidata.org/prop/direct/P69'), ('pname', 'educated at'), ('oname', 'Dean College')]\n",
      "[('p', 'http://www.wikidata.org/prop/direct/P69'), ('pname', 'educated at'), ('oname', 'Columbia University')]\n",
      "[('p', 'http://www.wikidata.org/prop/direct/P69'), ('pname', 'educated at'), ('oname', 'California State University, Chico')]\n",
      "[('p', 'http://www.wikidata.org/prop/direct/P69'), ('pname', 'educated at'), ('oname', 'University of Rhode Island')]\n",
      "[('p', 'http://www.wikidata.org/prop/direct/P69'), ('pname', 'educated at'), ('oname', 'University of Montana')]\n",
      "[('p', 'http://www.wikidata.org/prop/direct/P69'), ('pname', 'educated at'), ('oname', 'Yale University')]\n",
      "[('p', 'http://www.wikidata.org/prop/direct/P69'), ('pname', 'educated at'), ('oname', 'California Institute of the Arts')]\n",
      "[('p', 'http://www.wikidata.org/prop/direct/P69'), ('pname', 'educated at'), ('oname', 'Lycée Louis-le-Grand')]\n",
      "[('p', 'http://www.wikidata.org/prop/direct/P69'), ('pname', 'educated at'), ('oname', 'Glen Cove High School')]\n",
      "20\n"
     ]
    }
   ],
   "source": [
    "\n",
    "queryString = \"\"\"\n",
    "SELECT DISTINCT  ?p ?pname ?oname\n",
    "WHERE {\n",
    "   \n",
    "   #Finding poetry subclasses\n",
    "   ?s wdt:P106 wd:Q49757 ;\n",
    "      ?p ?o .\n",
    "   \n",
    "   # get the label\n",
    "   #?s sc:name ?sname .\n",
    "   ?o sc:name ?oname .\n",
    "   ?obj sc:name ?objname .\n",
    "   ?p sc:name ?pname .\n",
    "   \n",
    "   FILTER ( REGEX (?pname, \".*educate*\"))\n",
    "}\n",
    "LIMIT 20\n",
    "\"\"\"\n",
    "\n",
    "print(\"Results\")\n",
    "x=run_query(queryString)"
   ]
  },
  {
   "cell_type": "code",
   "execution_count": 12,
   "id": "941697f8-aa01-4b11-98bc-b79041444001",
   "metadata": {},
   "outputs": [
    {
     "name": "stdout",
     "output_type": "stream",
     "text": [
      "Results\n",
      "[('sname', 'David Levi'), ('ciname', 'Chieri'), ('uniname', 'University of Pisa')]\n",
      "[('sname', 'David Levi'), ('ciname', 'Chieri'), ('uniname', 'University of Parma')]\n",
      "[('sname', 'Giorgio Bassani'), ('ciname', 'Bologna'), ('uniname', 'University of Bologna')]\n",
      "[('sname', 'Angelo de Gubernatis'), ('ciname', 'Turin'), ('uniname', 'University of Turin')]\n",
      "[('sname', 'Fabrizio De André'), ('ciname', 'Genoa'), ('uniname', 'University of Genoa')]\n",
      "[('sname', 'Michelangelo Antonioni'), ('ciname', 'Ferrara'), ('uniname', 'University of Bologna')]\n",
      "[('sname', 'Michelangelo Antonioni'), ('ciname', 'Ferrara'), ('uniname', 'Experimental Centre of Cinematography')]\n",
      "[('sname', 'Alberto Bevilacqua'), ('ciname', 'Parma'), ('uniname', 'Romagnosi')]\n",
      "[('sname', 'Renato Fucini'), ('ciname', 'Monterotondo Marittimo'), ('uniname', 'University of Pisa')]\n",
      "[('sname', 'Muzi Epifani'), ('ciname', 'Benghazi'), ('uniname', 'Sapienza University of Rome')]\n",
      "[('sname', 'Muzi Epifani'), ('ciname', 'Benghazi'), ('uniname', 'Heidelberg University')]\n",
      "[('sname', 'Renato Minore'), ('ciname', 'Chieti'), ('uniname', 'Sapienza University of Rome')]\n",
      "[('sname', 'Vittorio Sermonti'), ('ciname', 'Rome'), ('uniname', 'Sapienza University of Rome')]\n",
      "[('sname', 'Luigi Falchi'), ('ciname', 'Sassari'), ('uniname', 'Sapienza University of Rome')]\n",
      "[('sname', 'Giacomo Zanella'), ('ciname', 'Chiampo'), ('uniname', 'University of Padua')]\n",
      "[('sname', 'Alfonso Gatto'), ('ciname', 'Salerno'), ('uniname', 'University of Naples Federico II')]\n",
      "[('sname', \"Gabriele D'Annunzio\"), ('ciname', 'Pescara'), ('uniname', 'Sapienza University of Rome')]\n",
      "[('sname', \"Gabriele D'Annunzio\"), ('ciname', 'Pescara'), ('uniname', 'C/O Convitto Nazionale Cicognini')]\n",
      "[('sname', 'Temistocle Solera'), ('ciname', 'Ferrara'), ('uniname', 'University of Pavia')]\n",
      "[('sname', 'Alice Schanzer'), ('ciname', 'Vienna'), ('uniname', 'Sapienza University of Rome')]\n",
      "20\n"
     ]
    }
   ],
   "source": [
    "#From results: [('p', 'http://www.wikidata.org/prop/direct/P69'), ('pname', 'educated at')\n",
    "\n",
    "queryString = \"\"\"\n",
    "SELECT DISTINCT  ?sname ?ciname ?uniname \n",
    "WHERE {\n",
    "   \n",
    "   #Returning all poets from Italy, their city of birth and education degree\n",
    "   ?s wdt:P106 wd:Q49757 ;\n",
    "      wdt:P27 ?country ;\n",
    "      wdt:P19 ?city ;\n",
    "      wdt:P69 ?uni .\n",
    "     \n",
    "   \n",
    "   # get the label\n",
    "   ?s sc:name ?sname.\n",
    "   ?country sc:name ?coname.\n",
    "   ?city sc:name ?ciname.\n",
    "   ?uni sc:name ?uniname.\n",
    "   \n",
    "   FILTER ( REGEX (?coname, \".*[Ii]taly.*\"))\n",
    "}   \n",
    "LIMIT 20\n",
    "\"\"\"\n",
    "\n",
    "print(\"Results\")\n",
    "x=run_query(queryString)\n",
    "\n",
    "\n"
   ]
  },
  {
   "cell_type": "code",
   "execution_count": 25,
   "id": "f201c3fa-a3a8-494c-bc66-48daba49b07e",
   "metadata": {},
   "outputs": [
    {
     "name": "stdout",
     "output_type": "stream",
     "text": [
      "Results\n",
      "[('p', 'http://www.wikidata.org/prop/direct/P159'), ('pname', 'headquarters location')]\n",
      "[('p', 'http://www.wikidata.org/prop/direct/P276'), ('pname', 'location')]\n",
      "[('p', 'http://www.wikidata.org/prop/direct/P740'), ('pname', 'location of formation')]\n",
      "[('p', 'http://www.wikidata.org/prop/direct/P189'), ('pname', 'location of discovery')]\n",
      "[('p', 'http://www.wikidata.org/prop/direct/P1071'), ('pname', 'location of creation')]\n",
      "[('p', 'http://www.wikidata.org/prop/direct/P937'), ('pname', 'work location')]\n",
      "[('p', 'http://www.wikidata.org/prop/direct/P1740'), ('pname', 'category for films shot at this location')]\n",
      "7\n"
     ]
    }
   ],
   "source": [
    "\n",
    "\n",
    "queryString = \"\"\"\n",
    "SELECT DISTINCT  ?p ?pname \n",
    "WHERE {\n",
    "   \n",
    "   #Returning all poets from Italy, their city of birth and educated university\n",
    "   #Trying to find university properties\n",
    "   ?s wdt:P106 wd:Q49757 ;\n",
    "      wdt:P27 ?country ;\n",
    "      wdt:P19 ?city ;\n",
    "      wdt:P69 ?uni .\n",
    "   ?uni ?p ?o .\n",
    "     \n",
    "   \n",
    "   # get the label\n",
    "   #?s sc:name ?sname.\n",
    "   #?country sc:name ?coname.\n",
    "   #?city sc:name ?ciname.\n",
    "   #?uni sc:name ?uniname.\n",
    "   ?p sc:name ?pname.\n",
    "   ?o sc:name ?oname.\n",
    "   \n",
    "   FILTER ( REGEX (?pname, \".*[lL]ocation.*\"))\n",
    "}   \n",
    "LIMIT 20\n",
    "\"\"\"\n",
    "\n",
    "print(\"Results\")\n",
    "x=run_query(queryString)\n",
    "\n"
   ]
  },
  {
   "cell_type": "code",
   "execution_count": 29,
   "id": "ae3e6503-0279-49a2-8bf9-4860945a5efa",
   "metadata": {},
   "outputs": [
    {
     "name": "stdout",
     "output_type": "stream",
     "text": [
      "Results\n",
      "[('sname', 'David Levi'), ('ciname', 'Chieri'), ('uniname', 'University of Pisa'), ('locname', 'Pisa')]\n",
      "[('sname', 'David Levi'), ('ciname', 'Chieri'), ('uniname', 'University of Parma'), ('locname', 'Parma')]\n",
      "[('sname', 'Giorgio Bassani'), ('ciname', 'Bologna'), ('uniname', 'University of Bologna'), ('locname', 'Bologna')]\n",
      "[('sname', 'Fabrizio De André'), ('ciname', 'Genoa'), ('uniname', 'University of Genoa'), ('locname', 'Genoa')]\n",
      "[('sname', 'Michelangelo Antonioni'), ('ciname', 'Ferrara'), ('uniname', 'University of Bologna'), ('locname', 'Bologna')]\n",
      "[('sname', 'Renato Fucini'), ('ciname', 'Monterotondo Marittimo'), ('uniname', 'University of Pisa'), ('locname', 'Pisa')]\n",
      "[('sname', 'Muzi Epifani'), ('ciname', 'Benghazi'), ('uniname', 'Sapienza University of Rome'), ('locname', 'città universitaria of Rome')]\n",
      "[('sname', 'Vittorio Sermonti'), ('ciname', 'Rome'), ('uniname', 'Sapienza University of Rome'), ('locname', 'città universitaria of Rome')]\n",
      "[('sname', 'Renato Minore'), ('ciname', 'Chieti'), ('uniname', 'Sapienza University of Rome'), ('locname', 'città universitaria of Rome')]\n",
      "[('sname', 'Luigi Falchi'), ('ciname', 'Sassari'), ('uniname', 'Sapienza University of Rome'), ('locname', 'città universitaria of Rome')]\n",
      "[('sname', 'Giacomo Zanella'), ('ciname', 'Chiampo'), ('uniname', 'University of Padua'), ('locname', 'Padua')]\n",
      "[('sname', \"Gabriele D'Annunzio\"), ('ciname', 'Pescara'), ('uniname', 'Sapienza University of Rome'), ('locname', 'città universitaria of Rome')]\n",
      "[('sname', 'Alice Schanzer'), ('ciname', 'Vienna'), ('uniname', 'Sapienza University of Rome'), ('locname', 'città universitaria of Rome')]\n",
      "[('sname', 'Cesare Zavattini'), ('ciname', 'Luzzara'), ('uniname', 'University of Parma'), ('locname', 'Parma')]\n",
      "[('sname', 'Igor Torkar'), ('ciname', 'Kostanjevica na Krasu'), ('uniname', 'University of Ljubljana'), ('locname', 'University of Ljubljana Palace')]\n",
      "[('sname', 'Elena Salibra'), ('ciname', 'Syracuse'), ('uniname', 'University of Pisa'), ('locname', 'Pisa')]\n",
      "[('sname', 'Dino Buzzati'), ('ciname', 'Belluno'), ('uniname', 'University of Milan'), ('locname', 'Milan')]\n",
      "[('sname', 'Franco Lucentini'), ('ciname', 'Rome'), ('uniname', 'Sapienza University of Rome'), ('locname', 'città universitaria of Rome')]\n",
      "[('sname', 'Gianni Rodari'), ('ciname', 'Omegna'), ('uniname', 'Università Cattolica del Sacro Cuore'), ('locname', 'Milan')]\n",
      "[('sname', 'Paolo Conte'), ('ciname', 'Asti'), ('uniname', 'University of Parma'), ('locname', 'Parma')]\n",
      "20\n"
     ]
    }
   ],
   "source": [
    "#From results: [('p', 'http://www.wikidata.org/prop/direct/P159'), ('pname', 'headquarters location')]\n",
    "\n",
    "queryString = \"\"\"\n",
    "SELECT DISTINCT  ?sname ?ciname ?uniname ?locname\n",
    "WHERE {\n",
    "   \n",
    "   #Returning all poets from Italy, their city of birth , educated university and its location\n",
    "   ?s wdt:P106 wd:Q49757 ;\n",
    "      wdt:P27 ?country ;\n",
    "      wdt:P19 ?city ;\n",
    "      wdt:P69 ?uni .\n",
    "    ?uni wdt:P159 ?location .\n",
    "     \n",
    "   \n",
    "   # get the label\n",
    "   ?s sc:name ?sname.\n",
    "   ?country sc:name ?coname.\n",
    "   ?city sc:name ?ciname.\n",
    "   ?uni sc:name ?uniname.\n",
    "   ?location sc:name ?locname .\n",
    "   \n",
    "   FILTER ( REGEX (?coname, \".*[Ii]taly.*\"))\n",
    "}   \n",
    "LIMIT 20\n",
    "\"\"\"\n",
    "\n",
    "print(\"Results\")\n",
    "x=run_query(queryString)\n"
   ]
  },
  {
   "cell_type": "code",
   "execution_count": 49,
   "id": "b05ad841-3955-4978-aafb-4e079b72a921",
   "metadata": {},
   "outputs": [
    {
     "name": "stdout",
     "output_type": "stream",
     "text": [
      "Results\n",
      "[('city', 'http://www.wikidata.org/entity/Q2044'), ('ciname', 'Florence'), ('sname', 'Fosco Maraini')]\n",
      "[('city', 'http://www.wikidata.org/entity/Q490'), ('ciname', 'Milan'), ('sname', 'Luciano Erba')]\n",
      "[('city', 'http://www.wikidata.org/entity/Q1891'), ('ciname', 'Bologna'), ('sname', 'Pier Paolo Pasolini')]\n",
      "[('city', 'http://www.wikidata.org/entity/Q490'), ('ciname', 'Milan'), ('sname', 'Luigi Santucci')]\n",
      "[('city', 'http://www.wikidata.org/entity/Q490'), ('ciname', 'Milan'), ('sname', 'Ciro Fontana')]\n",
      "[('city', 'http://www.wikidata.org/entity/Q2044'), ('ciname', 'Florence'), ('sname', 'Eugenio Miccini')]\n",
      "[('city', 'http://www.wikidata.org/entity/Q490'), ('ciname', 'Milan'), ('sname', 'Carlo Emilio Gadda')]\n",
      "[('city', 'http://www.wikidata.org/entity/Q2683'), ('ciname', 'Parma'), ('sname', 'Attilio Bertolucci')]\n",
      "[('city', 'http://www.wikidata.org/entity/Q2044'), ('ciname', 'Florence'), ('sname', 'Margherita Guidacci')]\n",
      "[('city', 'http://www.wikidata.org/entity/Q490'), ('ciname', 'Milan'), ('sname', 'Antonia Pozzi')]\n",
      "[('city', 'http://www.wikidata.org/entity/Q490'), ('ciname', 'Milan'), ('sname', 'Giovanni Raboni')]\n",
      "[('city', 'http://www.wikidata.org/entity/Q1449'), ('ciname', 'Genoa'), ('sname', 'Felice Romani')]\n",
      "[('city', 'http://www.wikidata.org/entity/Q2044'), ('ciname', 'Florence'), ('sname', 'Alessandro Parronchi')]\n",
      "[('city', 'http://www.wikidata.org/entity/Q617'), ('ciname', 'Padua'), ('sname', 'Stefano Dal Bianco')]\n",
      "[('city', 'http://www.wikidata.org/entity/Q1449'), ('ciname', 'Genoa'), ('sname', 'Ceccardo Roccatagliata Ceccardi')]\n",
      "[('city', 'http://www.wikidata.org/entity/Q490'), ('ciname', 'Milan'), ('sname', 'Maurizio Cucchi')]\n",
      "[('city', 'http://www.wikidata.org/entity/Q1449'), ('ciname', 'Genoa'), ('sname', 'Fabrizio De André')]\n",
      "[('city', 'http://www.wikidata.org/entity/Q490'), ('ciname', 'Milan'), ('sname', 'Franco Manzoni')]\n",
      "[('city', 'http://www.wikidata.org/entity/Q1891'), ('ciname', 'Bologna'), ('sname', 'Giorgio Bassani')]\n",
      "[('city', 'http://www.wikidata.org/entity/Q3519'), ('ciname', 'Bari'), ('sname', 'Nichi Vendola')]\n",
      "20\n"
     ]
    }
   ],
   "source": [
    "\n",
    "\n",
    "queryString = \"\"\"\n",
    "SELECT DISTINCT  ?city ?ciname ?sname\n",
    "WHERE {\n",
    "   \n",
    "   #Returning all poets from Italy, their city of birth , educated university and its location\n",
    "   ?s wdt:P106 wd:Q49757 ;\n",
    "      wdt:P27 ?country ;\n",
    "      wdt:P19 ?city ;\n",
    "      wdt:P69 ?uni .\n",
    "    ?uni wdt:P159 ?location .\n",
    "    \n",
    "     \n",
    "   \n",
    "   # get the label\n",
    "   ?s sc:name ?sname.\n",
    "   ?country sc:name ?coname.\n",
    "   ?city sc:name ?ciname.\n",
    "   ?uni sc:name ?uniname.\n",
    "   ?location sc:name ?locname .\n",
    "   \n",
    "   FILTER ( REGEX (?coname, \".*[Ii]taly.*\"))\n",
    "   FILTER ( ?city = ?location )\n",
    "} \n",
    "\n",
    "GROUP BY (?city)(?ciname) (?sname)\n",
    "\n",
    "LIMIT 20\n",
    "\"\"\"\n",
    "\n",
    "print(\"Results\")\n",
    "x=run_query(queryString)\n"
   ]
  },
  {
   "cell_type": "markdown",
   "id": "f5d65004",
   "metadata": {},
   "source": [
    "Final query for this task"
   ]
  },
  {
   "cell_type": "code",
   "execution_count": 6,
   "id": "b7bda957",
   "metadata": {},
   "outputs": [
    {
     "name": "stdout",
     "output_type": "stream",
     "text": [
      "Results\n",
      "[('city', 'http://www.wikidata.org/entity/Q490'), ('ciname', 'Milan'), ('poets', '10')]\n",
      "[('city', 'http://www.wikidata.org/entity/Q2044'), ('ciname', 'Florence'), ('poets', '8')]\n",
      "[('city', 'http://www.wikidata.org/entity/Q1449'), ('ciname', 'Genoa'), ('poets', '3')]\n",
      "[('city', 'http://www.wikidata.org/entity/Q617'), ('ciname', 'Padua'), ('poets', '2')]\n",
      "[('city', 'http://www.wikidata.org/entity/Q1891'), ('ciname', 'Bologna'), ('poets', '2')]\n",
      "[('city', 'http://www.wikidata.org/entity/Q3519'), ('ciname', 'Bari'), ('poets', '1')]\n",
      "[('city', 'http://www.wikidata.org/entity/Q2683'), ('ciname', 'Parma'), ('poets', '1')]\n",
      "7\n"
     ]
    }
   ],
   "source": [
    "\n",
    "\n",
    "queryString = \"\"\"\n",
    "SELECT DISTINCT  ?city ?ciname (COUNT(DISTINCT ?s) as ?poets) \n",
    "WHERE {\n",
    "   \n",
    "   #Returning all poets from Italy, their city of birth , educated university and its location\n",
    "   ?s wdt:P106 wd:Q49757 ;\n",
    "      wdt:P27 ?country ;\n",
    "      wdt:P19 ?city ;\n",
    "      wdt:P69 ?uni .\n",
    "    ?uni wdt:P159 ?location .\n",
    "    \n",
    "     \n",
    "   \n",
    "   # get the label\n",
    "   ?s sc:name ?sname.\n",
    "   ?country sc:name ?coname.\n",
    "   ?city sc:name ?ciname.\n",
    "   ?uni sc:name ?uniname.\n",
    "   ?location sc:name ?locname .\n",
    "   \n",
    "   FILTER ( REGEX (?coname, \".*[Ii]taly.*\"))\n",
    "   FILTER ( ?city = ?location )\n",
    "} \n",
    "\n",
    "GROUP BY (?city)(?ciname)\n",
    "ORDER BY DESC (?poets)\n",
    "LIMIT 20\n",
    "\"\"\"\n",
    "\n",
    "print(\"Results\")\n",
    "x=run_query(queryString)\n"
   ]
  },
  {
   "cell_type": "markdown",
   "id": "4895f547",
   "metadata": {},
   "source": [
    "## Task 8\n",
    "Return the italian poets who won the Nobel Prize in Literature (the result set must be poet IRI and label)."
   ]
  },
  {
   "cell_type": "code",
   "execution_count": 59,
   "id": "b5c9e505",
   "metadata": {},
   "outputs": [
    {
     "name": "stdout",
     "output_type": "stream",
     "text": [
      "Results\n",
      "[('s', 'http://www.wikidata.org/entity/Q15726796'), ('sname', 'Teresa Albarelli'), ('cname', 'Kingdom of Italy')]\n",
      "[('s', 'http://www.wikidata.org/entity/Q17203201'), ('sname', 'Sebastiano Fenzi'), ('cname', 'Kingdom of Italy')]\n",
      "[('s', 'http://www.wikidata.org/entity/Q17285111'), ('sname', 'Francesca Manzoni'), ('cname', 'Italy')]\n",
      "[('s', 'http://www.wikidata.org/entity/Q17453230'), ('sname', 'Maria Costa'), ('cname', 'Kingdom of Italy')]\n",
      "[('s', 'http://www.wikidata.org/entity/Q17453230'), ('sname', 'Maria Costa'), ('cname', 'Italy')]\n",
      "[('s', 'http://www.wikidata.org/entity/Q17453266'), ('sname', 'Gaetano Longo'), ('cname', 'Italy')]\n",
      "[('s', 'http://www.wikidata.org/entity/Q17638293'), ('sname', 'Paolo Principato'), ('cname', 'Italy')]\n",
      "[('s', 'http://www.wikidata.org/entity/Q22061622'), ('sname', 'Ernesto Del Preite'), ('cname', 'Kingdom of Italy')]\n",
      "[('s', 'http://www.wikidata.org/entity/Q24206101'), ('sname', 'Federico Nardi'), ('cname', 'Italy')]\n",
      "[('s', 'http://www.wikidata.org/entity/Q1215723'), ('sname', 'Roberto Pazzi'), ('cname', 'Italy')]\n",
      "[('s', 'http://www.wikidata.org/entity/Q3703232'), ('sname', 'David Levi'), ('cname', 'Kingdom of Italy')]\n",
      "[('s', 'http://www.wikidata.org/entity/Q441843'), ('sname', 'Luigi Illica'), ('cname', 'Kingdom of Italy')]\n",
      "[('s', 'http://www.wikidata.org/entity/Q446421'), ('sname', 'Romano Mussolini'), ('cname', 'Italy')]\n",
      "[('s', 'http://www.wikidata.org/entity/Q446421'), ('sname', 'Romano Mussolini'), ('cname', 'Kingdom of Italy')]\n",
      "[('s', 'http://www.wikidata.org/entity/Q446431'), ('sname', 'Maria Tore Barbina'), ('cname', 'Italy')]\n",
      "[('s', 'http://www.wikidata.org/entity/Q446431'), ('sname', 'Maria Tore Barbina'), ('cname', 'Kingdom of Italy')]\n",
      "[('s', 'http://www.wikidata.org/entity/Q318309'), ('sname', 'Giorgio Bassani'), ('cname', 'Kingdom of Italy')]\n",
      "[('s', 'http://www.wikidata.org/entity/Q318309'), ('sname', 'Giorgio Bassani'), ('cname', 'Italy')]\n",
      "[('s', 'http://www.wikidata.org/entity/Q535752'), ('sname', 'Lucia Albani Avogadro'), ('cname', 'Italy')]\n",
      "[('s', 'http://www.wikidata.org/entity/Q535810'), ('sname', 'Angelo de Gubernatis'), ('cname', 'Kingdom of Italy')]\n",
      "20\n"
     ]
    }
   ],
   "source": [
    "queryString = \"\"\"\n",
    "SELECT DISTINCT ?s ?sname ?cname\n",
    "WHERE {\n",
    "   \n",
    "   #Returning all poets from Italy\n",
    "   ?s wdt:P106 wd:Q49757 ;\n",
    "      wdt:P27 ?country .\n",
    "     \n",
    "   \n",
    "   # get the label\n",
    "   ?s sc:name ?sname.\n",
    "   ?country sc:name ?cname.\n",
    "   \n",
    "   FILTER ( REGEX (?cname, \".*[Ii]taly.*\"))\n",
    "}\n",
    "LIMIT 20\n",
    "\"\"\"\n",
    "\n",
    "print(\"Results\")\n",
    "x=run_query(queryString)"
   ]
  },
  {
   "cell_type": "code",
   "execution_count": 64,
   "id": "cbd677bf-e637-4244-912a-296b01dd3f2c",
   "metadata": {},
   "outputs": [
    {
     "name": "stdout",
     "output_type": "stream",
     "text": [
      "Results\n",
      "[('p', 'http://www.wikidata.org/prop/direct/P166'), ('pname', 'award received'), ('o', 'http://www.wikidata.org/entity/Q59312531'), ('oname', 'Knight of the Order of Calatrava')]\n",
      "[('p', 'http://www.wikidata.org/prop/direct/P166'), ('pname', 'award received'), ('o', 'http://www.wikidata.org/entity/Q3873143'), ('oname', \"National Book Award for Young People's Literature\")]\n",
      "[('p', 'http://www.wikidata.org/prop/direct/P166'), ('pname', 'award received'), ('o', 'http://www.wikidata.org/entity/Q1276342'), ('oname', 'Order of St. Sylvester')]\n",
      "[('p', 'http://www.wikidata.org/prop/direct/P166'), ('pname', 'award received'), ('o', 'http://www.wikidata.org/entity/Q81466'), ('oname', 'Miguel de Cervantes Prize')]\n",
      "[('p', 'http://www.wikidata.org/prop/direct/P166'), ('pname', 'award received'), ('o', 'http://www.wikidata.org/entity/Q20888812'), ('oname', 'Officer of the Order of Merit of Portugal')]\n",
      "[('p', 'http://www.wikidata.org/prop/direct/P166'), ('pname', 'award received'), ('o', 'http://www.wikidata.org/entity/Q4892456'), ('oname', 'Berlin Prize')]\n",
      "[('p', 'http://www.wikidata.org/prop/direct/P166'), ('pname', 'award received'), ('o', 'http://www.wikidata.org/entity/Q10855195'), ('oname', 'Officer of the Legion of Honour')]\n",
      "[('p', 'http://www.wikidata.org/prop/direct/P166'), ('pname', 'award received'), ('o', 'http://www.wikidata.org/entity/Q10855212'), ('oname', 'Commander of the Legion of Honour')]\n",
      "[('p', 'http://www.wikidata.org/prop/direct/P166'), ('pname', 'award received'), ('o', 'http://www.wikidata.org/entity/Q10855271'), ('oname', 'Knight of the Legion of Honour')]\n",
      "[('p', 'http://www.wikidata.org/prop/direct/P166'), ('pname', 'award received'), ('o', 'http://www.wikidata.org/entity/Q1316544'), ('oname', 'Guggenheim Fellowship')]\n",
      "[('p', 'http://www.wikidata.org/prop/direct/P166'), ('pname', 'award received'), ('o', 'http://www.wikidata.org/entity/Q13452528'), ('oname', 'Chevalier des Arts et des Lettres')]\n",
      "[('p', 'http://www.wikidata.org/prop/direct/P166'), ('pname', 'award received'), ('o', 'http://www.wikidata.org/entity/Q13452531'), ('oname', 'Commandeur des Arts et des Lettres\\u200e')]\n",
      "[('p', 'http://www.wikidata.org/prop/direct/P166'), ('pname', 'award received'), ('o', 'http://www.wikidata.org/entity/Q20886648'), ('oname', 'Grand Cross of the Military Order of Saint James of the Sword')]\n",
      "[('p', 'http://www.wikidata.org/prop/direct/P166'), ('pname', 'award received'), ('o', 'http://www.wikidata.org/entity/Q463606'), ('oname', 'American Book Awards')]\n",
      "[('p', 'http://www.wikidata.org/prop/direct/P166'), ('pname', 'award received'), ('o', 'http://www.wikidata.org/entity/Q19339'), ('oname', 'O. Henry Award')]\n",
      "[('p', 'http://www.wikidata.org/prop/direct/P166'), ('pname', 'award received'), ('o', 'http://www.wikidata.org/entity/Q7493801'), ('oname', 'Shelley Memorial Award')]\n",
      "[('p', 'http://www.wikidata.org/prop/direct/P166'), ('pname', 'award received'), ('o', 'http://www.wikidata.org/entity/Q660681'), ('oname', 'Kurt Tucholsky Prize')]\n",
      "[('p', 'http://www.wikidata.org/prop/direct/P166'), ('pname', 'award received'), ('o', 'http://www.wikidata.org/entity/Q60492234'), ('oname', 'Odisha Sahitya Akademi Ovation')]\n",
      "[('p', 'http://www.wikidata.org/prop/direct/P166'), ('pname', 'award received'), ('o', 'http://www.wikidata.org/entity/Q172582'), ('oname', 'Sahitya Akademi Award')]\n",
      "[('p', 'http://www.wikidata.org/prop/direct/P166'), ('pname', 'award received'), ('o', 'http://www.wikidata.org/entity/Q32387603'), ('oname', 'Leipzig Book Fair Prize/Fiction')]\n",
      "20\n"
     ]
    }
   ],
   "source": [
    "queryString = \"\"\"\n",
    "SELECT DISTINCT ?p ?pname ?o ?oname  \n",
    "WHERE {\n",
    "   \n",
    "\n",
    "   ?s wdt:P106 wd:Q49757 ;\n",
    "      ?p ?o .\n",
    "   \n",
    "   # get the label\n",
    "   ?o sc:name ?oname.\n",
    "   ?p sc:name ?pname.\n",
    "   \n",
    "   FILTER ( REGEX (?pname, \".*award.*\"))\n",
    "   \n",
    "}\n",
    "LIMIT 20\n",
    "\"\"\"\n",
    "\n",
    "print(\"Results\")\n",
    "x=run_query(queryString)"
   ]
  },
  {
   "cell_type": "code",
   "execution_count": null,
   "id": "3e73b37a-d03b-40d5-bfc4-3e92c2a305e9",
   "metadata": {},
   "outputs": [],
   "source": [
    "#('p', 'http://www.wikidata.org/prop/direct/P166'), ('pname', 'award received')\n",
    "\n",
    "queryString = \"\"\"\n",
    "SELECT DISTINCT ?award ?aname \n",
    "WHERE {\n",
    "   \n",
    "\n",
    "   ?s wdt:P106 wd:Q49757 ;\n",
    "      wdt:P166 ?award .\n",
    "   \n",
    "   # get the label\n",
    "   #?o sc:name ?oname.\n",
    "   #?p sc:name ?pname.\n",
    "   ?award sc:name ?aname .\n",
    "   \n",
    "   FILTER ( REGEX (?aname, \".*[Nn]obel.*\"))\n",
    "   \n",
    "}\n",
    "LIMIT 20\n",
    "\"\"\"\n",
    "\n",
    "print(\"Results\")\n",
    "x=run_query(queryString)\n",
    "\n"
   ]
  },
  {
   "cell_type": "markdown",
   "id": "d53a8563",
   "metadata": {},
   "source": [
    "Final query for this task"
   ]
  },
  {
   "cell_type": "code",
   "execution_count": 3,
   "id": "2cb41bde",
   "metadata": {},
   "outputs": [
    {
     "name": "stdout",
     "output_type": "stream",
     "text": [
      "Results\n",
      "[('s', 'http://www.wikidata.org/entity/Q7728'), ('sname', 'Grazia Deledda')]\n",
      "[('s', 'http://www.wikidata.org/entity/Q43440'), ('sname', 'Giosuè Carducci')]\n",
      "[('s', 'http://www.wikidata.org/entity/Q1403'), ('sname', 'Luigi Pirandello')]\n",
      "[('s', 'http://www.wikidata.org/entity/Q83038'), ('sname', 'Salvatore Quasimodo')]\n",
      "[('s', 'http://www.wikidata.org/entity/Q83174'), ('sname', 'Eugenio Montale')]\n",
      "[('s', 'http://www.wikidata.org/entity/Q765'), ('sname', 'Dario Fo')]\n",
      "6\n"
     ]
    }
   ],
   "source": [
    "# [('award', 'http://www.wikidata.org/entity/Q37922'), ('aname', 'Nobel Prize in Literature')]\n",
    "#('p', 'http://www.wikidata.org/prop/direct/P166'), ('pname', 'award received')\n",
    "\n",
    "\n",
    "queryString = \"\"\"\n",
    "SELECT DISTINCT ?s ?sname\n",
    "WHERE {\n",
    "   \n",
    "   #Returning all poets from Italy\n",
    "   ?s wdt:P106 wd:Q49757 ;\n",
    "      wdt:P27 ?country ;\n",
    "      wdt:P166 wd:Q37922 .\n",
    "     \n",
    "   \n",
    "   # get the label\n",
    "   ?s sc:name ?sname.\n",
    "   ?country sc:name ?cname.\n",
    "   \n",
    "   FILTER ( REGEX (?cname, \".*[Ii]taly.*\"))\n",
    "}\n",
    "LIMIT 20\n",
    "\"\"\"\n",
    "\n",
    "print(\"Results\")\n",
    "x=run_query(queryString)\n"
   ]
  }
 ],
 "metadata": {
  "kernelspec": {
   "display_name": "Python 3 (ipykernel)",
   "language": "python",
   "name": "python3"
  },
  "language_info": {
   "codemirror_mode": {
    "name": "ipython",
    "version": 3
   },
   "file_extension": ".py",
   "mimetype": "text/x-python",
   "name": "python",
   "nbconvert_exporter": "python",
   "pygments_lexer": "ipython3",
   "version": "3.7.10"
  }
 },
 "nbformat": 4,
 "nbformat_minor": 5
}
