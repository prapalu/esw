{
 "cells": [
  {
   "cell_type": "markdown",
   "id": "e552b412",
   "metadata": {},
   "source": [
    "# General instructions\n",
    "\n",
    "The goal of the project is to materialize a set of **exploratory workloads** over a real-world, large-scale,  open-domain KG: [WikiData](https://www.wikidata.org/wiki/Wikidata:Main_Page)\n",
    "\n",
    "An exploratory workload  is composed by a set of queries, where each query is related to the information obtained previously.\n",
    "\n",
    "An exploratory workload starts with a usually vague, open ended question, and does not assume the person issuing the workload has a clear understanding of the data contained in the target database or its structure.\n",
    "\n",
    "Remeber that:\n",
    "\n",
    "1. All the queries must run in the python notebook\n",
    "2. You can use classes and properties only if you find them via a SPARQL query that must be present in the notebook\n",
    "3. You do not delete useless queries. Keep everything that is synthatically valid \n",
    "\n",
    "```\n",
    "?p <http://schema.org/name> ?name .\n",
    "```\n",
    "    \n",
    "    is the BGP returning a human-readable name of a property or a class in Wikidata."
   ]
  },
  {
   "cell_type": "code",
   "execution_count": 1,
   "id": "810aaa28",
   "metadata": {
    "tags": []
   },
   "outputs": [],
   "source": [
    "## SETUP used later\n",
    "\n",
    "from SPARQLWrapper import SPARQLWrapper, JSON\n",
    "\n",
    "\n",
    "prefixString = \"\"\"\n",
    "##-f339c67936-##\n",
    "PREFIX wd: <http://www.wikidata.org/entity/> \n",
    "PREFIX wdt: <http://www.wikidata.org/prop/direct/> \n",
    "PREFIX sc: <http://schema.org/>\n",
    "PREFIX xsd: <http://www.w3.org/2001/XMLSchema#> \n",
    "\n",
    "\"\"\"\n",
    "\n",
    "# select and construct queries\n",
    "def run_query(queryString,verbose = True):\n",
    "    to_run = prefixString + \"\\n\" + queryString\n",
    "\n",
    "    sparql = SPARQLWrapper(\"http://a256-gc1-03.srv.aau.dk:5820/sparql\")\n",
    "    sparql.setTimeout(300)\n",
    "    sparql.setReturnFormat(JSON)\n",
    "    sparql.setQuery(to_run)\n",
    "\n",
    "    try :\n",
    "        results = sparql.query()\n",
    "        json_results = results.convert()\n",
    "        if len(json_results['results']['bindings'])==0:\n",
    "            print(\"Empty\")\n",
    "            return []\n",
    "        array = []\n",
    "        for bindings in json_results['results']['bindings']:\n",
    "            app =  [ (var, value['value'])  for var, value in bindings.items() ] \n",
    "            if verbose:\n",
    "                print( app)\n",
    "            array.append(app)\n",
    "        if verbose:\n",
    "            print(len(array))\n",
    "        return array\n",
    "\n",
    "    except Exception as e :\n",
    "        print(\"The operation failed\", e)\n",
    "    \n",
    "# ASk queries\n",
    "def run_ask_query(queryString):\n",
    "    to_run = prefixString + \"\\n\" + queryString\n",
    "\n",
    "    sparql = SPARQLWrapper(\"http://a256-gc1-03.srv.aau.dk:5820/sparql\")\n",
    "    sparql.setTimeout(300)\n",
    "    sparql.setReturnFormat(JSON)\n",
    "    sparql.setQuery(to_run)\n",
    "\n",
    "    try :\n",
    "        return sparql.query().convert()\n",
    "\n",
    "    except Exception as e :\n",
    "        print(\"The operation failed\", e)"
   ]
  },
  {
   "cell_type": "markdown",
   "id": "edfcea78",
   "metadata": {},
   "source": [
    "# History Workflow Series (\"Ancient Civilization explorative search\") \n",
    "\n",
    "Consider the following exploratory information need:\n",
    "\n",
    "> Investigate the Ancient Egypt and the related archeological explorations and findings."
   ]
  },
  {
   "cell_type": "markdown",
   "id": "6c2e8f96",
   "metadata": {},
   "source": [
    "## Useful URIs for the current workflow\n",
    "The following are given:\n",
    "\n",
    "| IRI           | Description   | Role      |\n",
    "| -----------   | -----------   |-----------|\n",
    "| `wdt:P1647`   | subproperty   | predicate |\n",
    "| `wdt:P31`     | instance of   | predicate |\n",
    "| `wdt:P106`    | occupation    | predicate | \n",
    "| `wdt:P279`    | subclass      | predicate |\n",
    "| `wdt:P27`     | nationality   | predicate |\n",
    "| `wd:Q5`| Human       | node |\n",
    "| `wd:Q13444093`| Meidum Pyramid    | node |\n",
    "| `wd:Q41127`| Poseidon   | node |\n"
   ]
  },
  {
   "cell_type": "markdown",
   "id": "9528fb27",
   "metadata": {},
   "source": [
    "\n",
    "\n",
    "\n",
    "Also consider\n",
    "\n",
    "```\n",
    "wd:Q13444093 ?p ?obj .\n",
    "```\n",
    "\n",
    "is the BGP to retrieve all **properties of Meidum Pyramid**\n",
    "\n",
    "Please consider that when you return a resource, you should return the IRI and the label of the resource. In particular, when the task require you to identify a BGP the result set must always be a list of couples IRI - label.\n",
    "\n",
    "\n",
    "\n",
    "The workload should:\n",
    "\n",
    "\n",
    "1. Identify the BGP for Ancient Egypt\n",
    "\n",
    "2. Find the Ancient Egypt pharaohs born between 1500 BCE and 1000 BCE who had more than 8 child (the result set must be a list of triples pharaoh IRI,label and #children).\n",
    "\n",
    "3. Find all the ancient civilizations. Return the IRI and name of the civilization and also their duration (in number of years) if it is available.\n",
    "\n",
    "4. Identify the BGP for archeologist.\n",
    "\n",
    "5. For each ancient civilization find the number of archeologists who worked on it (return also the civilizations with no archeologists) (the result set must be triples of civilization IRI, label and #archeologist).\n",
    "\n",
    "6. Find the BGP for deity.\n",
    "\n",
    "7. List all the twelve olympian greek deities (the result set must a list of 12 elements of couples of deity IRI and label).\n",
    "\n",
    "8. Compare ancient Greece with ancient Egypt and find how many deities each one has.\n"
   ]
  },
  {
   "cell_type": "markdown",
   "id": "79327798",
   "metadata": {
    "tags": []
   },
   "source": [
    "## Task 1\n",
    "Identify the BGP for Ancient Egypt"
   ]
  },
  {
   "cell_type": "code",
   "execution_count": 3,
   "id": "83a9920b",
   "metadata": {},
   "outputs": [
    {
     "name": "stdout",
     "output_type": "stream",
     "text": [
      "Results\n",
      "[('p', 'http://www.wikidata.org/prop/direct/P131'), ('name', 'located in the administrative territorial entity')]\n",
      "[('p', 'http://www.wikidata.org/prop/direct/P138'), ('name', 'named after')]\n",
      "[('p', 'http://www.wikidata.org/prop/direct/P1481'), ('name', 'vici.org ID')]\n",
      "[('p', 'http://www.wikidata.org/prop/direct/P1566'), ('name', 'GeoNames ID')]\n",
      "[('p', 'http://www.wikidata.org/prop/direct/P17'), ('name', 'country')]\n",
      "[('p', 'http://www.wikidata.org/prop/direct/P18'), ('name', 'image')]\n",
      "[('p', 'http://www.wikidata.org/prop/direct/P186'), ('name', 'made from material')]\n",
      "[('p', 'http://www.wikidata.org/prop/direct/P2044'), ('name', 'elevation above sea level')]\n",
      "[('p', 'http://www.wikidata.org/prop/direct/P2048'), ('name', 'height')]\n",
      "[('p', 'http://www.wikidata.org/prop/direct/P214'), ('name', 'VIAF ID')]\n",
      "[('p', 'http://www.wikidata.org/prop/direct/P227'), ('name', 'GND ID')]\n",
      "[('p', 'http://www.wikidata.org/prop/direct/P2326'), ('name', 'GNS Unique Feature ID')]\n",
      "[('p', 'http://www.wikidata.org/prop/direct/P2671'), ('name', 'Google Knowledge Graph ID')]\n",
      "[('p', 'http://www.wikidata.org/prop/direct/P276'), ('name', 'location')]\n",
      "[('p', 'http://www.wikidata.org/prop/direct/P2924'), ('name', 'Great Russian Encyclopedia Online ID')]\n",
      "[('p', 'http://www.wikidata.org/prop/direct/P31'), ('name', 'instance of')]\n",
      "[('p', 'http://www.wikidata.org/prop/direct/P366'), ('name', 'use')]\n",
      "[('p', 'http://www.wikidata.org/prop/direct/P373'), ('name', 'Commons category')]\n",
      "[('p', 'http://www.wikidata.org/prop/direct/P5008'), ('name', 'on focus list of Wikimedia project')]\n",
      "[('p', 'http://www.wikidata.org/prop/direct/P571'), ('name', 'inception')]\n",
      "20\n"
     ]
    }
   ],
   "source": [
    "# query example\n",
    "queryString = \"\"\"\n",
    "SELECT DISTINCT ?p ?name\n",
    "WHERE {\n",
    "   # bind something\n",
    "   wd:Q13444093 ?p ?obj .\n",
    "   # get the label\n",
    "   ?p sc:name ?name.\n",
    "\n",
    "}\n",
    "LIMIT 20\n",
    "\"\"\"\n",
    "\n",
    "print(\"Results\")\n",
    "x=run_query(queryString)"
   ]
  },
  {
   "cell_type": "code",
   "execution_count": 6,
   "id": "cb793c05-e20c-495e-a54c-173b3ecca298",
   "metadata": {},
   "outputs": [
    {
     "name": "stdout",
     "output_type": "stream",
     "text": [
      "Results\n",
      "[('p', 'http://www.wikidata.org/prop/direct/P5008'), ('name', 'on focus list of Wikimedia project'), ('obj', 'http://www.wikidata.org/entity/Q68074438'), ('objName', 'WikiProject Livius')]\n",
      "[('p', 'http://www.wikidata.org/prop/direct/P88'), ('name', 'commissioned by'), ('obj', 'http://www.wikidata.org/entity/Q189371'), ('objName', 'Sneferu')]\n",
      "[('p', 'http://www.wikidata.org/prop/direct/P276'), ('name', 'location'), ('obj', 'http://www.wikidata.org/entity/Q1066424'), ('objName', 'Meidum')]\n",
      "[('p', 'http://www.wikidata.org/prop/direct/P138'), ('name', 'named after'), ('obj', 'http://www.wikidata.org/entity/Q1066424'), ('objName', 'Meidum')]\n",
      "[('p', 'http://www.wikidata.org/prop/direct/P88'), ('name', 'commissioned by'), ('obj', 'http://www.wikidata.org/entity/Q220240'), ('objName', 'Huni')]\n",
      "[('p', 'http://www.wikidata.org/prop/direct/P186'), ('name', 'made from material'), ('obj', 'http://www.wikidata.org/entity/Q23757'), ('objName', 'limestone')]\n",
      "[('p', 'http://www.wikidata.org/prop/direct/P17'), ('name', 'country'), ('obj', 'http://www.wikidata.org/entity/Q79'), ('objName', 'Egypt')]\n",
      "[('p', 'http://www.wikidata.org/prop/direct/P366'), ('name', 'use'), ('obj', 'http://www.wikidata.org/entity/Q321053'), ('objName', 'cenotaph')]\n",
      "[('p', 'http://www.wikidata.org/prop/direct/P31'), ('name', 'instance of'), ('obj', 'http://www.wikidata.org/entity/Q1456099'), ('objName', 'step pyramid')]\n",
      "[('p', 'http://www.wikidata.org/prop/direct/P131'), ('name', 'located in the administrative territorial entity'), ('obj', 'http://www.wikidata.org/entity/Q30683'), ('objName', 'Beni Suef Governorate')]\n",
      "[('p', 'http://www.wikidata.org/prop/direct/P7561'), ('name', 'category for the interior of the item'), ('obj', 'http://www.wikidata.org/entity/Q75129112'), ('objName', 'Category:Interior of Meidum Pyramid')]\n",
      "11\n"
     ]
    }
   ],
   "source": [
    "#wd:Q13444093\tMeidum Pyramid\n",
    "queryString = \"\"\"\n",
    "SELECT DISTINCT ?p ?name ?obj ?objName\n",
    "WHERE {\n",
    "   # bind something\n",
    "   wd:Q13444093 ?p ?obj .\n",
    "   # get the label\n",
    "   ?p sc:name ?name.\n",
    "   ?obj sc:name ?objName.\n",
    "}\n",
    "LIMIT 20\n",
    "\"\"\"\n",
    "\n",
    "print(\"Results\")\n",
    "x=run_query(queryString)"
   ]
  },
  {
   "cell_type": "code",
   "execution_count": 9,
   "id": "48577fc2-e26a-43df-8622-a153d59140cd",
   "metadata": {},
   "outputs": [
    {
     "name": "stdout",
     "output_type": "stream",
     "text": [
      "Results\n",
      "[('p', 'http://www.wikidata.org/prop/direct/P2348'), ('name', 'time period'), ('obj', 'http://www.wikidata.org/entity/Q11768'), ('objName', 'Ancient Egypt')]\n",
      "[('p', 'http://www.wikidata.org/prop/direct/P27'), ('name', 'country of citizenship'), ('obj', 'http://www.wikidata.org/entity/Q11768'), ('objName', 'Ancient Egypt')]\n",
      "2\n"
     ]
    }
   ],
   "source": [
    "# Q189371 'Sneferu'\n",
    "# Q79 Egypt\n",
    "queryString = \"\"\"\n",
    "SELECT DISTINCT ?p ?name ?obj ?objName\n",
    "WHERE {\n",
    "   # bind something\n",
    "   wd:Q189371 ?p ?obj  .\n",
    "   # get the label\n",
    "   ?p sc:name ?name.\n",
    "   ?obj sc:name ?objName.\n",
    "   filter regex(?objName, \"Ancient Egypt\")\n",
    "   \n",
    "}\n",
    "LIMIT 100\n",
    "\"\"\"\n",
    "\n",
    "print(\"Results\")\n",
    "x=run_query(queryString)"
   ]
  },
  {
   "cell_type": "code",
   "execution_count": 13,
   "id": "51c12e1d-fa1f-41e2-ae9a-f7a4c17975f5",
   "metadata": {},
   "outputs": [
    {
     "name": "stdout",
     "output_type": "stream",
     "text": [
      "Results\n",
      "[('period', 'http://www.wikidata.org/entity/Q11768'), ('periodTime', 'Ancient Egypt')]\n",
      "1\n"
     ]
    }
   ],
   "source": [
    "# write your final query\n",
    "#'P2348' 'time period'\n",
    "# Q189371 'Sneferu'\n",
    "# Q79 Egypt\n",
    "queryString = \"\"\"\n",
    "SELECT DISTINCT ?period ?periodTime\n",
    "WHERE {\n",
    "    \n",
    "   wd:Q189371 ?p ?obj.\n",
    "   ?obj wdt:P2348 ?period.\n",
    "   \n",
    "   ?period sc:name ?periodTime.\n",
    "   filter regex(?periodTime, \"Ancient Egypt\")\n",
    "   \n",
    "}\n",
    "LIMIT 100\n",
    "\"\"\"\n",
    "\n",
    "print(\"Results\")\n",
    "x=run_query(queryString)"
   ]
  },
  {
   "cell_type": "markdown",
   "id": "9e039951",
   "metadata": {},
   "source": [
    "Final query for this task"
   ]
  },
  {
   "cell_type": "markdown",
   "id": "601a025b",
   "metadata": {
    "tags": []
   },
   "source": [
    "## Task 2\n",
    "Find the Ancient Egypt pharaohs born between 1500 BCE and 1000 BCE who had more than 8 child (the result set must be a list of triples pharaoh IRI,label and #children)."
   ]
  },
  {
   "cell_type": "code",
   "execution_count": 18,
   "id": "32f0deb7-0a2b-4190-9799-a53358169930",
   "metadata": {
    "tags": []
   },
   "outputs": [
    {
     "name": "stdout",
     "output_type": "stream",
     "text": [
      "Results\n",
      "[('p', 'http://www.wikidata.org/prop/direct/P40'), ('name', 'child'), ('obj', 'http://www.wikidata.org/entity/Q122426'), ('objName', 'Henutsen')]\n",
      "[('p', 'http://www.wikidata.org/prop/direct/P40'), ('name', 'child'), ('obj', 'http://www.wikidata.org/entity/Q161904'), ('objName', 'Khufu')]\n",
      "[('p', 'http://www.wikidata.org/prop/direct/P2348'), ('name', 'time period'), ('obj', 'http://www.wikidata.org/entity/Q177819'), ('objName', 'Old Kingdom of Egypt')]\n",
      "[('p', 'http://www.wikidata.org/prop/direct/P53'), ('name', 'family'), ('obj', 'http://www.wikidata.org/entity/Q211001'), ('objName', 'Fourth Dynasty of Egypt')]\n",
      "[('p', 'http://www.wikidata.org/prop/direct/P26'), ('name', 'spouse'), ('obj', 'http://www.wikidata.org/entity/Q256515'), ('objName', 'Hetepheres I')]\n",
      "[('p', 'http://www.wikidata.org/prop/direct/P3373'), ('name', 'sibling'), ('obj', 'http://www.wikidata.org/entity/Q256515'), ('objName', 'Hetepheres I')]\n",
      "[('p', 'http://www.wikidata.org/prop/direct/P40'), ('name', 'child'), ('obj', 'http://www.wikidata.org/entity/Q387014'), ('objName', 'Ankhhaf')]\n",
      "[('p', 'http://www.wikidata.org/prop/direct/P40'), ('name', 'child'), ('obj', 'http://www.wikidata.org/entity/Q453219'), ('objName', 'Nefertkau I')]\n",
      "[('p', 'http://www.wikidata.org/prop/direct/P40'), ('name', 'child'), ('obj', 'http://www.wikidata.org/entity/Q464954'), ('objName', 'Meritites I')]\n",
      "[('p', 'http://www.wikidata.org/prop/direct/P40'), ('name', 'child'), ('obj', 'http://www.wikidata.org/entity/Q471584'), ('objName', 'Nefermaat')]\n",
      "[('p', 'http://www.wikidata.org/prop/direct/P40'), ('name', 'child'), ('obj', 'http://www.wikidata.org/entity/Q7244639'), ('objName', 'Princess Hetepheres')]\n",
      "[('p', 'http://www.wikidata.org/prop/direct/P40'), ('name', 'child'), ('obj', 'http://www.wikidata.org/entity/Q746710'), ('objName', 'Prince Rahotep')]\n",
      "[('p', 'http://www.wikidata.org/prop/direct/P40'), ('name', 'child'), ('obj', 'http://www.wikidata.org/entity/Q760610'), ('objName', 'Ranefer')]\n",
      "[('p', 'http://www.wikidata.org/prop/direct/P40'), ('name', 'child'), ('obj', 'http://www.wikidata.org/entity/Q760621'), ('objName', 'Kanefer')]\n",
      "[('p', 'http://www.wikidata.org/prop/direct/P22'), ('name', 'father'), ('obj', 'http://www.wikidata.org/entity/Q220240'), ('objName', 'Huni')]\n",
      "[('p', 'http://www.wikidata.org/prop/direct/P25'), ('name', 'mother'), ('obj', 'http://www.wikidata.org/entity/Q271665'), ('objName', 'Meresankh I')]\n",
      "[('p', 'http://www.wikidata.org/prop/direct/P3373'), ('name', 'sibling'), ('obj', 'http://www.wikidata.org/entity/Q271665'), ('objName', 'Meresankh I')]\n",
      "[('p', 'http://www.wikidata.org/prop/direct/P27'), ('name', 'country of citizenship'), ('obj', 'http://www.wikidata.org/entity/Q11768'), ('objName', 'Ancient Egypt')]\n",
      "[('p', 'http://www.wikidata.org/prop/direct/P2348'), ('name', 'time period'), ('obj', 'http://www.wikidata.org/entity/Q11768'), ('objName', 'Ancient Egypt')]\n",
      "[('p', 'http://www.wikidata.org/prop/direct/P97'), ('name', 'noble title'), ('obj', 'http://www.wikidata.org/entity/Q37110'), ('objName', 'pharaoh')]\n",
      "[('p', 'http://www.wikidata.org/prop/direct/P39'), ('name', 'position held'), ('obj', 'http://www.wikidata.org/entity/Q37110'), ('objName', 'pharaoh')]\n",
      "[('p', 'http://www.wikidata.org/prop/direct/P106'), ('name', 'occupation'), ('obj', 'http://www.wikidata.org/entity/Q372436'), ('objName', 'statesperson')]\n",
      "[('p', 'http://www.wikidata.org/prop/direct/P1343'), ('name', 'described by source'), ('obj', 'http://www.wikidata.org/entity/Q46002746'), ('objName', 'Dictionary of African Biography')]\n",
      "[('p', 'http://www.wikidata.org/prop/direct/P31'), ('name', 'instance of'), ('obj', 'http://www.wikidata.org/entity/Q5'), ('objName', 'human')]\n",
      "[('p', 'http://www.wikidata.org/prop/direct/P1343'), ('name', 'described by source'), ('obj', 'http://www.wikidata.org/entity/Q602358'), ('objName', 'Brockhaus and Efron Encyclopedic Dictionary')]\n",
      "[('p', 'http://www.wikidata.org/prop/direct/P21'), ('name', 'sex or gender'), ('obj', 'http://www.wikidata.org/entity/Q6581097'), ('objName', 'male')]\n",
      "[('p', 'http://www.wikidata.org/prop/direct/P19'), ('name', 'place of birth'), ('obj', 'http://www.wikidata.org/entity/Q79'), ('objName', 'Egypt')]\n",
      "[('p', 'http://www.wikidata.org/prop/direct/P20'), ('name', 'place of death'), ('obj', 'http://www.wikidata.org/entity/Q79'), ('objName', 'Egypt')]\n",
      "[('p', 'http://www.wikidata.org/prop/direct/P40'), ('name', 'child'), ('obj', 'http://www.wikidata.org/entity/Q6987026'), ('objName', 'Nefertnesu')]\n",
      "[('p', 'http://www.wikidata.org/prop/direct/P119'), ('name', 'place of burial'), ('obj', 'http://www.wikidata.org/entity/Q135332'), ('objName', 'Red Pyramid')]\n",
      "[('p', 'http://www.wikidata.org/prop/direct/P40'), ('name', 'child'), ('obj', 'http://www.wikidata.org/entity/Q13638694'), ('objName', 'Iynefer I')]\n",
      "[('p', 'http://www.wikidata.org/prop/direct/P910'), ('name', \"topic's main category\"), ('obj', 'http://www.wikidata.org/entity/Q18698807'), ('objName', 'Category:Sneferu')]\n",
      "[('p', 'http://www.wikidata.org/prop/direct/P40'), ('name', 'child'), ('obj', 'http://www.wikidata.org/entity/Q760604'), ('objName', 'Netjeraperef')]\n",
      "[('p', 'http://www.wikidata.org/prop/direct/P1263'), ('name', 'NNDB people ID'), ('obj', '376/000162887')]\n",
      "[('p', 'http://www.wikidata.org/prop/direct/P1296'), ('name', 'Gran Enciclopèdia Catalana ID'), ('obj', '0063170')]\n",
      "[('p', 'http://www.wikidata.org/prop/direct/P1309'), ('name', 'EGAXA ID'), ('obj', 'vtls001777712')]\n",
      "[('p', 'http://www.wikidata.org/prop/direct/P1417'), ('name', 'Encyclopædia Britannica Online ID'), ('obj', 'biography/Snefru')]\n",
      "[('p', 'http://www.wikidata.org/prop/direct/P1711'), ('name', 'British Museum person or institution ID'), ('obj', '55886')]\n",
      "[('p', 'http://www.wikidata.org/prop/direct/P18'), ('name', 'image'), ('obj', 'http://commons.wikimedia.org/wiki/Special:FilePath/Snofru%20Eg%20Mus%20Kairo%202002.png')]\n",
      "[('p', 'http://www.wikidata.org/prop/direct/P213'), ('name', 'ISNI'), ('obj', '0000 0000 8234 1386')]\n",
      "[('p', 'http://www.wikidata.org/prop/direct/P214'), ('name', 'VIAF ID'), ('obj', '53177422')]\n",
      "[('p', 'http://www.wikidata.org/prop/direct/P2163'), ('name', 'FAST ID'), ('obj', '181817')]\n",
      "[('p', 'http://www.wikidata.org/prop/direct/P227'), ('name', 'GND ID'), ('obj', '122482956')]\n",
      "[('p', 'http://www.wikidata.org/prop/direct/P244'), ('name', 'Library of Congress authority ID'), ('obj', 'n86127181')]\n",
      "[('p', 'http://www.wikidata.org/prop/direct/P2924'), ('name', 'Great Russian Encyclopedia Online ID'), ('obj', '3588317')]\n",
      "[('p', 'http://www.wikidata.org/prop/direct/P3219'), ('name', 'Encyclopædia Universalis ID'), ('obj', 'snefrou')]\n",
      "[('p', 'http://www.wikidata.org/prop/direct/P3222'), ('name', 'NE.se ID'), ('obj', 'sneferu')]\n",
      "[('p', 'http://www.wikidata.org/prop/direct/P373'), ('name', 'Commons category'), ('obj', 'Seneferu')]\n",
      "[('p', 'http://www.wikidata.org/prop/direct/P4212'), ('name', 'PACTOLS thesaurus ID'), ('obj', 'pcrtsK6PxtkII0')]\n",
      "[('p', 'http://www.wikidata.org/prop/direct/P5019'), ('name', 'Brockhaus Enzyklopädie online ID'), ('obj', 'snofru')]\n",
      "[('p', 'http://www.wikidata.org/prop/direct/P535'), ('name', 'Find A Grave memorial ID'), ('obj', '42429256')]\n",
      "[('p', 'http://www.wikidata.org/prop/direct/P569'), ('name', 'date of birth'), ('obj', '-2700-01-01T00:00:00Z')]\n",
      "[('p', 'http://www.wikidata.org/prop/direct/P570'), ('name', 'date of death'), ('obj', '-2608-01-01T00:00:00Z')]\n",
      "[('p', 'http://www.wikidata.org/prop/direct/P6404'), ('name', \"Treccani's Dizionario di Storia ID\"), ('obj', 'snefru')]\n",
      "[('p', 'http://www.wikidata.org/prop/direct/P646'), ('name', 'Freebase ID'), ('obj', '/m/03399h')]\n",
      "[('p', 'http://www.wikidata.org/prop/direct/P6656'), ('name', 'BHCL ID (former scheme)'), ('obj', '377136')]\n",
      "[('p', 'http://www.wikidata.org/prop/direct/P7859'), ('name', 'WorldCat Identities ID'), ('obj', 'lccn-n86127181')]\n",
      "[('p', 'http://www.wikidata.org/prop/direct/P9037'), ('name', 'BHCL UUID'), ('obj', 'd41357ce-f793-4454-bcaa-2f4dd3d9ff38')]\n",
      "58\n"
     ]
    }
   ],
   "source": [
    "\n",
    "#trovare la lista dei faraoni\n",
    "#Q189371 'Sneferu' that is a pharaohs\n",
    "queryString = \"\"\"\n",
    "SELECT DISTINCT ?p ?name ?obj ?objName\n",
    "WHERE {\n",
    "   # bind something\n",
    "   wd:Q189371 ?p ?obj .\n",
    "   # get the label\n",
    "   ?p sc:name ?name.\n",
    "   optional{?obj sc:name ?objName.}\n",
    "   \n",
    "}\n",
    "LIMIT 60\n",
    "\"\"\"\n",
    "\n",
    "print(\"Results\")\n",
    "x=run_query(queryString)"
   ]
  },
  {
   "cell_type": "code",
   "execution_count": 25,
   "id": "4d1e4244-b693-473e-b2be-74bc45ff9af7",
   "metadata": {},
   "outputs": [
    {
     "name": "stdout",
     "output_type": "stream",
     "text": [
      "Results\n",
      "[('pharaohs', 'http://www.wikidata.org/entity/Q336395'), ('name', 'Smendes'), ('dateBirth', '-1200-01-01T00:00:00Z')]\n",
      "[('pharaohs', 'http://www.wikidata.org/entity/Q380676'), ('name', 'Psusennes I'), ('dateBirth', '-1100-01-01T00:00:00Z')]\n",
      "[('pharaohs', 'http://www.wikidata.org/entity/Q434877'), ('name', 'Amenemnisu'), ('dateBirth', '-1100-01-01T00:00:00Z')]\n",
      "[('pharaohs', 'http://www.wikidata.org/entity/Q705367'), ('name', 'Menkheperre'), ('dateBirth', '-1100-01-01T00:00:00Z')]\n",
      "[('pharaohs', 'http://www.wikidata.org/entity/Q459153'), ('name', 'Osorkon II'), ('dateBirth', '-1000-01-01T00:00:00Z')]\n",
      "[('pharaohs', 'http://www.wikidata.org/entity/Q146029'), ('name', 'Ay'), ('dateBirth', '-1400-01-01T00:00:00Z')]\n",
      "[('pharaohs', 'http://www.wikidata.org/entity/Q152230'), ('name', 'Tiye'), ('dateBirth', '-1397-01-01T00:00:00Z')]\n",
      "[('pharaohs', 'http://www.wikidata.org/entity/Q153344'), ('name', 'Meritaten'), ('dateBirth', '-1400-01-01T00:00:00Z')]\n",
      "[('pharaohs', 'http://www.wikidata.org/entity/Q40930'), ('name', 'Nefertiti'), ('dateBirth', '-1400-01-01T00:00:00Z')]\n",
      "[('pharaohs', 'http://www.wikidata.org/entity/Q81794'), ('name', 'Akhenaten'), ('dateBirth', '-1400-01-01T00:00:00Z')]\n",
      "[('pharaohs', 'http://www.wikidata.org/entity/Q1056348'), ('name', 'Nimlot'), ('dateBirth', '-1000-01-01T00:00:00Z')]\n",
      "[('pharaohs', 'http://www.wikidata.org/entity/Q311811'), ('name', 'Shoshenq I'), ('dateBirth', '-1000-01-01T00:00:00Z')]\n",
      "[('pharaohs', 'http://www.wikidata.org/entity/Q515574'), ('name', 'Osorkon I'), ('dateBirth', '-1000-01-01T00:00:00Z')]\n",
      "[('pharaohs', 'http://www.wikidata.org/entity/Q1528'), ('name', 'Ramesses III'), ('dateBirth', '-1216-01-01T00:00:00Z')]\n",
      "[('pharaohs', 'http://www.wikidata.org/entity/Q1532'), ('name', 'Ramesses IV'), ('dateBirth', '-1200-01-01T00:00:00Z')]\n",
      "[('pharaohs', 'http://www.wikidata.org/entity/Q5167'), ('name', 'Ramesses VI'), ('dateBirth', '-1175-01-01T00:00:00Z')]\n",
      "[('pharaohs', 'http://www.wikidata.org/entity/Q8045'), ('name', 'Ramesses VIII'), ('dateBirth', '-1200-01-01T00:00:00Z')]\n",
      "[('pharaohs', 'http://www.wikidata.org/entity/Q157958'), ('name', 'Neferneferuaten'), ('dateBirth', '-1400-01-01T00:00:00Z')]\n",
      "[('pharaohs', 'http://www.wikidata.org/entity/Q1526'), ('name', 'Ramesses I'), ('dateBirth', '-1300-01-01T00:00:00Z')]\n",
      "[('pharaohs', 'http://www.wikidata.org/entity/Q157918'), ('name', 'Seti I'), ('dateBirth', '-1322-01-01T00:00:00Z')]\n",
      "20\n"
     ]
    }
   ],
   "source": [
    "# P569  'date of birth' \n",
    "# P39 'position held' Q37110 'pharaoh'\n",
    "queryString = \"\"\"\n",
    "SELECT DISTINCT ?pharaohs ?name ?dateBirth\n",
    "WHERE {\n",
    "   # bind something\n",
    "   ?pharaohs wdt:P39 wd:Q37110;\n",
    "       wdt:P569 ?dateBirth.\n",
    "   \n",
    "   # get the label\n",
    "   ?pharaohs sc:name ?name.\n",
    "   filter (?dateBirth > \"-1500-01-01T00:00:00\"^^xsd:dateTime && ?dateBirth < \"-1000-01-01T00:00:00\"^^xsd:dateTime).\n",
    "   \n",
    "   \n",
    "}\n",
    "LIMIT 20\n",
    "\"\"\"\n",
    "\n",
    "print(\"Results\")\n",
    "x=run_query(queryString)"
   ]
  },
  {
   "cell_type": "markdown",
   "id": "db9e7026-508d-454e-a722-029e9883be06",
   "metadata": {},
   "source": [
    "Final query for this task"
   ]
  },
  {
   "cell_type": "code",
   "execution_count": 33,
   "id": "9e4661bf-fc27-4ba3-b476-bd774561c0cb",
   "metadata": {},
   "outputs": [
    {
     "name": "stdout",
     "output_type": "stream",
     "text": [
      "Results\n",
      "[('pharaohs', 'http://www.wikidata.org/entity/Q1528'), ('name', 'Ramesses III'), ('numChild', '10')]\n",
      "[('pharaohs', 'http://www.wikidata.org/entity/Q1523'), ('name', 'Ramesses II'), ('numChild', '18')]\n",
      "[('pharaohs', 'http://www.wikidata.org/entity/Q42606'), ('name', 'Amenhotep III'), ('numChild', '10')]\n",
      "[('pharaohs', 'http://www.wikidata.org/entity/Q152230'), ('name', 'Tiye'), ('numChild', '9')]\n",
      "[('pharaohs', 'http://www.wikidata.org/entity/Q81794'), ('name', 'Akhenaten'), ('numChild', '9')]\n",
      "5\n"
     ]
    }
   ],
   "source": [
    "# P569  'date of birth' \n",
    "# P39 'position held' Q37110 'pharaoh'\n",
    "# P40 'child'\n",
    "queryString = \"\"\"\n",
    "SELECT DISTINCT ?pharaohs ?name (count(?child) as ?numChild)\n",
    "WHERE {\n",
    "   # bind something\n",
    "   ?pharaohs wdt:P39 wd:Q37110;\n",
    "       wdt:P569 ?dateBirth;\n",
    "       wdt:P40 ?child.\n",
    "   \n",
    "   # get the label\n",
    "   ?pharaohs sc:name ?name.\n",
    "   filter (?dateBirth > \"-1500-01-01T00:00:00\"^^xsd:dateTime && ?dateBirth < \"-1000-01-01T00:00:00\"^^xsd:dateTime).\n",
    "   \n",
    "   \n",
    "}\n",
    "GROUP BY ?pharaohs ?name \n",
    "HAVING (count (?child) > 8)\n",
    "LIMIT 20\n",
    "\"\"\"\n",
    "\n",
    "print(\"Results\")\n",
    "x=run_query(queryString)"
   ]
  },
  {
   "cell_type": "markdown",
   "id": "7a54d4e2",
   "metadata": {
    "tags": []
   },
   "source": [
    "## Task 3\n",
    "Find all the ancient civilizations. Return the IRI and name of the civilization and also their duration (in number of years) if it is available."
   ]
  },
  {
   "cell_type": "code",
   "execution_count": 138,
   "id": "cc7e4784-00de-4415-a744-effe9cc83615",
   "metadata": {},
   "outputs": [
    {
     "name": "stdout",
     "output_type": "stream",
     "text": [
      "Results\n",
      "[('p', 'http://www.wikidata.org/prop/direct/P1036'), ('name', 'Dewey Decimal Classification'), ('obj', '932')]\n",
      "[('p', 'http://www.wikidata.org/prop/direct/P1036'), ('name', 'Dewey Decimal Classification'), ('obj', '2--32')]\n",
      "[('p', 'http://www.wikidata.org/prop/direct/P1151'), ('name', \"topic's main Wikimedia portal\"), ('obj', 'http://www.wikidata.org/entity/Q8440998')]\n",
      "[('p', 'http://www.wikidata.org/prop/direct/P1282'), ('name', 'OpenStreetMap tag or key'), ('obj', 'Tag:historic:civilization=ancient_egyptian')]\n",
      "[('p', 'http://www.wikidata.org/prop/direct/P1343'), ('name', 'described by source'), ('obj', 'http://www.wikidata.org/entity/Q1138524')]\n",
      "[('p', 'http://www.wikidata.org/prop/direct/P1343'), ('name', 'described by source'), ('obj', 'http://www.wikidata.org/entity/Q17378135')]\n",
      "[('p', 'http://www.wikidata.org/prop/direct/P1343'), ('name', 'described by source'), ('obj', 'http://www.wikidata.org/entity/Q4173137')]\n",
      "[('p', 'http://www.wikidata.org/prop/direct/P1417'), ('name', 'Encyclopædia Britannica Online ID'), ('obj', 'place/ancient-Egypt')]\n",
      "[('p', 'http://www.wikidata.org/prop/direct/P1465'), ('name', 'category for people who died here'), ('obj', 'http://www.wikidata.org/entity/Q32650623')]\n",
      "[('p', 'http://www.wikidata.org/prop/direct/P155'), ('name', 'follows'), ('obj', 'http://www.wikidata.org/entity/Q714601')]\n",
      "[('p', 'http://www.wikidata.org/prop/direct/P155'), ('name', 'follows'), ('obj', 'http://www.wikidata.org/entity/Q208520')]\n",
      "[('p', 'http://www.wikidata.org/prop/direct/P1584'), ('name', 'Pleiades ID'), ('obj', '981503')]\n",
      "[('p', 'http://www.wikidata.org/prop/direct/P18'), ('name', 'image'), ('obj', 'http://commons.wikimedia.org/wiki/Special:FilePath/Egypt.Giza.Sphinx.02%20%28cropped%29.jpg')]\n",
      "[('p', 'http://www.wikidata.org/prop/direct/P214'), ('name', 'VIAF ID'), ('obj', '106146462599127770328')]\n",
      "[('p', 'http://www.wikidata.org/prop/direct/P2184'), ('name', 'history of topic'), ('obj', 'http://www.wikidata.org/entity/Q766876')]\n",
      "[('p', 'http://www.wikidata.org/prop/direct/P227'), ('name', 'GND ID'), ('obj', '4068430-1')]\n",
      "[('p', 'http://www.wikidata.org/prop/direct/P2579'), ('name', 'studied by'), ('obj', 'http://www.wikidata.org/entity/Q4752891')]\n",
      "[('p', 'http://www.wikidata.org/prop/direct/P2581'), ('name', 'BabelNet ID'), ('obj', '03761951n')]\n",
      "[('p', 'http://www.wikidata.org/prop/direct/P2633'), ('name', 'geography of topic'), ('obj', 'http://www.wikidata.org/entity/Q2487803')]\n",
      "[('p', 'http://www.wikidata.org/prop/direct/P2924'), ('name', 'Great Russian Encyclopedia Online ID'), ('obj', '1975690')]\n",
      "[('p', 'http://www.wikidata.org/prop/direct/P30'), ('name', 'continent'), ('obj', 'http://www.wikidata.org/entity/Q15')]\n",
      "[('p', 'http://www.wikidata.org/prop/direct/P31'), ('name', 'instance of'), ('obj', 'http://www.wikidata.org/entity/Q28171280')]\n",
      "[('p', 'http://www.wikidata.org/prop/direct/P31'), ('name', 'instance of'), ('obj', 'http://www.wikidata.org/entity/Q3024240')]\n",
      "[('p', 'http://www.wikidata.org/prop/direct/P31'), ('name', 'instance of'), ('obj', 'http://www.wikidata.org/entity/Q3502482')]\n",
      "[('p', 'http://www.wikidata.org/prop/direct/P31'), ('name', 'instance of'), ('obj', 'http://www.wikidata.org/entity/Q1620908')]\n",
      "[('p', 'http://www.wikidata.org/prop/direct/P3219'), ('name', 'Encyclopædia Universalis ID'), ('obj', 'egypte-antique-histoire-l-egypte-pharaonique')]\n",
      "[('p', 'http://www.wikidata.org/prop/direct/P3219'), ('name', 'Encyclopædia Universalis ID'), ('obj', 'egypte-antique-vue-d-ensemble')]\n",
      "[('p', 'http://www.wikidata.org/prop/direct/P3219'), ('name', 'Encyclopædia Universalis ID'), ('obj', 'egypte-des-pharaons')]\n",
      "[('p', 'http://www.wikidata.org/prop/direct/P3221'), ('name', 'New York Times topic ID'), ('obj', 'subject/egyptian-civilization')]\n",
      "[('p', 'http://www.wikidata.org/prop/direct/P3417'), ('name', 'Quora topic ID'), ('obj', 'Ancient-Egypt')]\n",
      "[('p', 'http://www.wikidata.org/prop/direct/P349'), ('name', 'National Diet Library ID'), ('obj', '00562072')]\n",
      "[('p', 'http://www.wikidata.org/prop/direct/P3553'), ('name', 'Zhihu topic ID'), ('obj', '19575794')]\n",
      "[('p', 'http://www.wikidata.org/prop/direct/P373'), ('name', 'Commons category'), ('obj', 'Ancient Egypt')]\n",
      "[('p', 'http://www.wikidata.org/prop/direct/P3827'), ('name', 'JSTOR topic ID'), ('obj', 'ancient-egypt')]\n",
      "[('p', 'http://www.wikidata.org/prop/direct/P4212'), ('name', 'PACTOLS thesaurus ID'), ('obj', 'pcrt1VRd5ZcUUi')]\n",
      "[('p', 'http://www.wikidata.org/prop/direct/P5002'), ('name', 'Orthodox Encyclopedia ID'), ('obj', '189507')]\n",
      "[('p', 'http://www.wikidata.org/prop/direct/P5008'), ('name', 'on focus list of Wikimedia project'), ('obj', 'http://www.wikidata.org/entity/Q5460604')]\n",
      "[('p', 'http://www.wikidata.org/prop/direct/P508'), ('name', 'BNCF Thesaurus ID'), ('obj', '27925')]\n",
      "[('p', 'http://www.wikidata.org/prop/direct/P5125'), ('name', 'Wikimedia outline'), ('obj', 'http://www.wikidata.org/entity/Q7112549')]\n",
      "[('p', 'http://www.wikidata.org/prop/direct/P576'), ('name', 'dissolved, abolished or demolished date'), ('obj', '0395-01-01T00:00:00Z')]\n",
      "[('p', 'http://www.wikidata.org/prop/direct/P580'), ('name', 'start time'), ('obj', '-4000-01-01T00:00:00Z')]\n",
      "[('p', 'http://www.wikidata.org/prop/direct/P582'), ('name', 'end time'), ('obj', '0395-01-01T00:00:00Z')]\n",
      "[('p', 'http://www.wikidata.org/prop/direct/P646'), ('name', 'Freebase ID'), ('obj', '/m/0kg9')]\n",
      "[('p', 'http://www.wikidata.org/prop/direct/P6573'), ('name', 'Klexikon article ID'), ('obj', 'Altes_Ägypten')]\n",
      "[('p', 'http://www.wikidata.org/prop/direct/P6839'), ('name', 'TV Tropes identifier'), ('obj', 'Main/AncientEgypt')]\n",
      "[('p', 'http://www.wikidata.org/prop/direct/P691'), ('name', 'NKCR AUT ID'), ('obj', 'ge146585')]\n",
      "[('p', 'http://www.wikidata.org/prop/direct/P7293'), ('name', 'PLWABN ID'), ('obj', '9810664105905606')]\n",
      "[('p', 'http://www.wikidata.org/prop/direct/P7775'), ('name', 'RationalWiki ID'), ('obj', 'Ancient_Egypt')]\n",
      "[('p', 'http://www.wikidata.org/prop/direct/P7786'), ('name', 'Joconde epoch ID'), ('obj', 'T93-123')]\n",
      "[('p', 'http://www.wikidata.org/prop/direct/P7818'), ('name', 'French Vikidia ID'), ('obj', 'Égypte_ancienne')]\n",
      "[('p', 'http://www.wikidata.org/prop/direct/P7822'), ('name', 'Italian Vikidia ID'), ('obj', 'Antico_Egitto')]\n",
      "[('p', 'http://www.wikidata.org/prop/direct/P7827'), ('name', 'Spanish Vikidia ID'), ('obj', 'Antiguo_Egipto')]\n",
      "[('p', 'http://www.wikidata.org/prop/direct/P7832'), ('name', 'Basque Vikidia ID'), ('obj', 'Antzinako_Egipto')]\n",
      "[('p', 'http://www.wikidata.org/prop/direct/P7859'), ('name', 'WorldCat Identities ID'), ('obj', 'viaf-106146462599127770328')]\n",
      "[('p', 'http://www.wikidata.org/prop/direct/P7867'), ('name', 'category for maps'), ('obj', 'http://www.wikidata.org/entity/Q84019702')]\n",
      "[('p', 'http://www.wikidata.org/prop/direct/P8068'), ('name', 'ToposText place ID'), ('obj', '271307REgy')]\n",
      "[('p', 'http://www.wikidata.org/prop/direct/P8406'), ('name', 'Grove Art Online ID'), ('obj', 'T025075')]\n",
      "[('p', 'http://www.wikidata.org/prop/direct/P8408'), ('name', 'KBpedia ID'), ('obj', 'AncientEgypt')]\n",
      "[('p', 'http://www.wikidata.org/prop/direct/P8744'), ('name', 'economy of topic'), ('obj', 'http://www.wikidata.org/entity/Q24734962')]\n",
      "[('p', 'http://www.wikidata.org/prop/direct/P9000'), ('name', 'World History Encyclopedia ID'), ('obj', 'egypt')]\n",
      "[('p', 'http://www.wikidata.org/prop/direct/P9037'), ('name', 'BHCL UUID'), ('obj', '3c692f3d-a5bb-4256-8e72-9155b8949b6e')]\n",
      "[('p', 'http://www.wikidata.org/prop/direct/P910'), ('name', \"topic's main category\"), ('obj', 'http://www.wikidata.org/entity/Q7213740')]\n",
      "[('p', 'http://www.wikidata.org/prop/direct/P948'), ('name', 'page banner'), ('obj', 'http://commons.wikimedia.org/wiki/Special:FilePath/Pharaoh%20Tutankhamun%20banner.jpg')]\n",
      "[('p', 'http://www.wikidata.org/prop/direct/P9545'), ('name', 'Encyclopedia of China Online Database ID'), ('obj', '204598')]\n",
      "[('p', 'http://www.wikidata.org/prop/direct/P9736'), ('name', 'MANTO ID'), ('obj', '8194714')]\n",
      "[('p', 'http://www.wikidata.org/prop/direct/P6885'), ('name', 'historical region'), ('obj', 'http://www.wikidata.org/entity/Q269678')]\n",
      "[('p', 'http://www.wikidata.org/prop/direct/P6885'), ('name', 'historical region'), ('obj', 'http://www.wikidata.org/entity/Q11041351')]\n",
      "67\n"
     ]
    }
   ],
   "source": [
    "#P2348 'time period' --> Q11768 'Ancient Egypt'\n",
    "\n",
    "queryString = \"\"\"\n",
    " \n",
    "\n",
    "SELECT DISTINCT ?p ?name ?obj\n",
    "WHERE {\n",
    "   # bind something\n",
    "   wd:Q11768 ?p ?obj .\n",
    "   # get the label\n",
    "   ?p sc:name ?name.\n",
    "  \n",
    "   \n",
    "\n",
    "}\n",
    "LIMIT 100\n",
    "\"\"\"\n",
    "\n",
    "print(\"Results\")\n",
    "x=run_query(queryString)"
   ]
  },
  {
   "cell_type": "code",
   "execution_count": 149,
   "id": "c4ab4d19-3f87-4e9c-8259-574a8f009af6",
   "metadata": {},
   "outputs": [
    {
     "name": "stdout",
     "output_type": "stream",
     "text": [
      "Results\n",
      "[('p', 'http://www.wikidata.org/prop/direct/P31'), ('name', 'instance of'), ('obj', 'http://www.wikidata.org/entity/Q28171280'), ('objName', 'ancient civilization')]\n",
      "[('p', 'http://www.wikidata.org/prop/direct/P31'), ('name', 'instance of'), ('obj', 'http://www.wikidata.org/entity/Q3024240'), ('objName', 'historical country')]\n",
      "[('p', 'http://www.wikidata.org/prop/direct/P31'), ('name', 'instance of'), ('obj', 'http://www.wikidata.org/entity/Q3502482'), ('objName', 'cultural region')]\n",
      "[('p', 'http://www.wikidata.org/prop/direct/P31'), ('name', 'instance of'), ('obj', 'http://www.wikidata.org/entity/Q1620908'), ('objName', 'historical region')]\n",
      "4\n"
     ]
    }
   ],
   "source": [
    "#P2348 'time period' --> Q11768 'Ancient Egypt'\n",
    "#look for \"instance of\"\n",
    "\n",
    "queryString = \"\"\"\n",
    " \n",
    "\n",
    "SELECT DISTINCT ?p ?name ?obj ?objName\n",
    "WHERE {\n",
    "   # bind something\n",
    "   wd:Q11768 ?p ?obj .\n",
    "   # get the label\n",
    "   ?p sc:name ?name.\n",
    "   ?obj sc:name ?objName.\n",
    "   filter regex(?name, \"instance of\").\n",
    "  \n",
    "   \n",
    "\n",
    "}\n",
    "LIMIT 100\n",
    "\"\"\"\n",
    "\n",
    "print(\"Results\")\n",
    "x=run_query(queryString)"
   ]
  },
  {
   "cell_type": "code",
   "execution_count": 150,
   "id": "b5ad566f-f921-4ad2-8895-2566103d4cf4",
   "metadata": {},
   "outputs": [
    {
     "name": "stdout",
     "output_type": "stream",
     "text": [
      "Results\n",
      "[('p', 'http://www.wikidata.org/entity/Q35355'), ('name', 'Sumer')]\n",
      "[('p', 'http://www.wikidata.org/entity/Q25558247'), ('name', 'Chinese civilization')]\n",
      "[('p', 'http://www.wikidata.org/entity/Q38060'), ('name', 'Gaul')]\n",
      "[('p', 'http://www.wikidata.org/entity/Q134178'), ('name', 'Minoan civilization')]\n",
      "[('p', 'http://www.wikidata.org/entity/Q173082'), ('name', 'Dacia')]\n",
      "[('p', 'http://www.wikidata.org/entity/Q2429397'), ('name', 'Ancient Carthage')]\n",
      "[('p', 'http://www.wikidata.org/entity/Q3327860'), ('name', 'Celtic kingdom of Ireland')]\n",
      "[('p', 'http://www.wikidata.org/entity/Q193748'), ('name', 'history of ancient Israel and Judah')]\n",
      "[('p', 'http://www.wikidata.org/entity/Q11768'), ('name', 'Ancient Egypt')]\n",
      "[('p', 'http://www.wikidata.org/entity/Q11772'), ('name', 'Ancient Greece')]\n",
      "[('p', 'http://www.wikidata.org/entity/Q41741'), ('name', 'Thrace')]\n",
      "[('p', 'http://www.wikidata.org/entity/Q128904'), ('name', 'Elam')]\n",
      "[('p', 'http://www.wikidata.org/entity/Q185068'), ('name', 'Urartu')]\n",
      "[('p', 'http://www.wikidata.org/entity/Q32047'), ('name', 'Illyria')]\n",
      "[('p', 'http://www.wikidata.org/entity/Q28567'), ('name', 'Maya civilization')]\n",
      "[('p', 'http://www.wikidata.org/entity/Q11767'), ('name', 'Mesopotamia')]\n",
      "[('p', 'http://www.wikidata.org/entity/Q8735'), ('name', 'Medes')]\n",
      "[('p', 'http://www.wikidata.org/entity/Q1364601'), ('name', 'Gallo-Roman culture')]\n",
      "[('p', 'http://www.wikidata.org/entity/Q42534'), ('name', 'Indus Valley Civilization')]\n",
      "[('p', 'http://www.wikidata.org/entity/Q28405'), ('name', 'Gojoseon')]\n",
      "[('p', 'http://www.wikidata.org/entity/Q244762'), ('name', 'Mari')]\n",
      "[('p', 'http://www.wikidata.org/entity/Q768212'), ('name', 'Turco-Mongol')]\n",
      "[('p', 'http://www.wikidata.org/entity/Q1551054'), ('name', 'Israelite period')]\n",
      "[('p', 'http://www.wikidata.org/entity/Q4752820'), ('name', 'Ancient Crete')]\n",
      "[('p', 'http://www.wikidata.org/entity/Q99304188'), ('name', 'Thracian')]\n",
      "25\n"
     ]
    }
   ],
   "source": [
    "#Q28171280 'ancient civilization' \n",
    "#P31 'instance of' \n",
    "queryString = \"\"\"\n",
    " \n",
    "\n",
    "SELECT DISTINCT ?p ?name ?obj\n",
    "WHERE {\n",
    "   # bind something\n",
    "   ?p wdt:P31 wd:Q28171280 .\n",
    "   # get the label\n",
    "   ?p sc:name ?name.\n",
    "  \n",
    "\n",
    "}\n",
    "LIMIT 50\n",
    "\"\"\"\n",
    "\n",
    "print(\"Results\")\n",
    "x=run_query(queryString)"
   ]
  },
  {
   "cell_type": "code",
   "execution_count": 165,
   "id": "bb9b5d0e-8f2b-4817-b01e-99f949ee353d",
   "metadata": {},
   "outputs": [
    {
     "name": "stdout",
     "output_type": "stream",
     "text": [
      "Results\n",
      "[('p', 'http://www.wikidata.org/entity/Q134178'), ('name', 'Minoan civilization'), ('duration', '2200')]\n",
      "[('p', 'http://www.wikidata.org/entity/Q134178'), ('name', 'Minoan civilization'), ('duration', '901')]\n",
      "[('p', 'http://www.wikidata.org/entity/Q11768'), ('name', 'Ancient Egypt'), ('duration', '4395')]\n",
      "[('p', 'http://www.wikidata.org/entity/Q11772'), ('name', 'Ancient Greece'), ('duration', '1800')]\n",
      "[('p', 'http://www.wikidata.org/entity/Q42534'), ('name', 'Indus Valley Civilization'), ('duration', '1200')]\n",
      "[('p', 'http://www.wikidata.org/entity/Q1551054'), ('name', 'Israelite period'), ('duration', '614')]\n",
      "[('p', 'http://www.wikidata.org/entity/Q35355'), ('name', 'Sumer')]\n",
      "[('p', 'http://www.wikidata.org/entity/Q25558247'), ('name', 'Chinese civilization')]\n",
      "[('p', 'http://www.wikidata.org/entity/Q38060'), ('name', 'Gaul')]\n",
      "[('p', 'http://www.wikidata.org/entity/Q173082'), ('name', 'Dacia')]\n",
      "[('p', 'http://www.wikidata.org/entity/Q2429397'), ('name', 'Ancient Carthage')]\n",
      "[('p', 'http://www.wikidata.org/entity/Q3327860'), ('name', 'Celtic kingdom of Ireland')]\n",
      "[('p', 'http://www.wikidata.org/entity/Q193748'), ('name', 'history of ancient Israel and Judah')]\n",
      "[('p', 'http://www.wikidata.org/entity/Q41741'), ('name', 'Thrace')]\n",
      "[('p', 'http://www.wikidata.org/entity/Q128904'), ('name', 'Elam')]\n",
      "[('p', 'http://www.wikidata.org/entity/Q185068'), ('name', 'Urartu')]\n",
      "[('p', 'http://www.wikidata.org/entity/Q32047'), ('name', 'Illyria')]\n",
      "[('p', 'http://www.wikidata.org/entity/Q28567'), ('name', 'Maya civilization')]\n",
      "[('p', 'http://www.wikidata.org/entity/Q11767'), ('name', 'Mesopotamia')]\n",
      "[('p', 'http://www.wikidata.org/entity/Q8735'), ('name', 'Medes')]\n",
      "[('p', 'http://www.wikidata.org/entity/Q1364601'), ('name', 'Gallo-Roman culture')]\n",
      "[('p', 'http://www.wikidata.org/entity/Q28405'), ('name', 'Gojoseon')]\n",
      "[('p', 'http://www.wikidata.org/entity/Q244762'), ('name', 'Mari')]\n",
      "[('p', 'http://www.wikidata.org/entity/Q768212'), ('name', 'Turco-Mongol')]\n",
      "[('p', 'http://www.wikidata.org/entity/Q4752820'), ('name', 'Ancient Crete')]\n",
      "[('p', 'http://www.wikidata.org/entity/Q99304188'), ('name', 'Thracian')]\n",
      "26\n"
     ]
    }
   ],
   "source": [
    "#Q28171280 'ancient civilization' \n",
    "#P31 'instance of' \n",
    "#for duration we make  #P582 'end time' - #P580 'start time' \n",
    "\n",
    "queryString = \"\"\"\n",
    " \n",
    "\n",
    "SELECT DISTINCT ?p ?name ?obj ?duration\n",
    "WHERE {\n",
    "   # bind something\n",
    "   ?p wdt:P31 wd:Q28171280.\n",
    "    OPTIONAL{\n",
    "        ?p wdt:P582 ?endTime.\n",
    "        ?p wdt:P580 ?startTime.\n",
    "        bind(year(?endTime)-year(?startTime) as ?duration )\n",
    "    }\n",
    "   # get the label\n",
    "   ?p sc:name ?name.\n",
    "   \n",
    "  \n",
    "\n",
    "}\n",
    "LIMIT 50\n",
    "\"\"\"\n",
    "\n",
    "print(\"Results\")\n",
    "x=run_query(queryString)"
   ]
  },
  {
   "cell_type": "markdown",
   "id": "914738ea",
   "metadata": {},
   "source": [
    "Final query for this task"
   ]
  },
  {
   "cell_type": "code",
   "execution_count": 172,
   "id": "d66000e6",
   "metadata": {},
   "outputs": [
    {
     "name": "stdout",
     "output_type": "stream",
     "text": [
      "Results\n",
      "[('p', 'http://www.wikidata.org/entity/Q134178'), ('name', 'Minoan civilization'), ('duration', '2200')]\n",
      "[('p', 'http://www.wikidata.org/entity/Q134178'), ('name', 'Minoan civilization'), ('duration', '901')]\n",
      "[('p', 'http://www.wikidata.org/entity/Q11768'), ('name', 'Ancient Egypt'), ('duration', '4395')]\n",
      "[('p', 'http://www.wikidata.org/entity/Q11772'), ('name', 'Ancient Greece'), ('duration', '1800')]\n",
      "[('p', 'http://www.wikidata.org/entity/Q42534'), ('name', 'Indus Valley Civilization'), ('duration', '1200')]\n",
      "[('p', 'http://www.wikidata.org/entity/Q1551054'), ('name', 'Israelite period'), ('duration', '614')]\n",
      "[('p', 'http://www.wikidata.org/entity/Q35355'), ('name', 'Sumer')]\n",
      "[('p', 'http://www.wikidata.org/entity/Q25558247'), ('name', 'Chinese civilization')]\n",
      "[('p', 'http://www.wikidata.org/entity/Q38060'), ('name', 'Gaul')]\n",
      "[('p', 'http://www.wikidata.org/entity/Q173082'), ('name', 'Dacia')]\n",
      "[('p', 'http://www.wikidata.org/entity/Q2429397'), ('name', 'Ancient Carthage')]\n",
      "[('p', 'http://www.wikidata.org/entity/Q3327860'), ('name', 'Celtic kingdom of Ireland')]\n",
      "[('p', 'http://www.wikidata.org/entity/Q193748'), ('name', 'history of ancient Israel and Judah')]\n",
      "[('p', 'http://www.wikidata.org/entity/Q41741'), ('name', 'Thrace')]\n",
      "[('p', 'http://www.wikidata.org/entity/Q128904'), ('name', 'Elam')]\n",
      "[('p', 'http://www.wikidata.org/entity/Q185068'), ('name', 'Urartu')]\n",
      "[('p', 'http://www.wikidata.org/entity/Q32047'), ('name', 'Illyria')]\n",
      "[('p', 'http://www.wikidata.org/entity/Q28567'), ('name', 'Maya civilization')]\n",
      "[('p', 'http://www.wikidata.org/entity/Q11767'), ('name', 'Mesopotamia')]\n",
      "[('p', 'http://www.wikidata.org/entity/Q8735'), ('name', 'Medes')]\n",
      "[('p', 'http://www.wikidata.org/entity/Q1364601'), ('name', 'Gallo-Roman culture')]\n",
      "[('p', 'http://www.wikidata.org/entity/Q28405'), ('name', 'Gojoseon')]\n",
      "[('p', 'http://www.wikidata.org/entity/Q244762'), ('name', 'Mari')]\n",
      "[('p', 'http://www.wikidata.org/entity/Q768212'), ('name', 'Turco-Mongol')]\n",
      "[('p', 'http://www.wikidata.org/entity/Q4752820'), ('name', 'Ancient Crete')]\n",
      "[('p', 'http://www.wikidata.org/entity/Q99304188'), ('name', 'Thracian')]\n",
      "26\n"
     ]
    }
   ],
   "source": [
    "# write your final query\n",
    "# Q28171280 'ancient civilization' \n",
    "# P31 'instance of' \n",
    "#for duration we make  #P582 'end time' - #P580 'start time' \n",
    "\n",
    "queryString = \"\"\"\n",
    " \n",
    "\n",
    "SELECT DISTINCT ?p ?name ?obj ?duration\n",
    "WHERE {\n",
    "   # bind something\n",
    "   ?p wdt:P31 wd:Q28171280.\n",
    "    OPTIONAL{\n",
    "        ?p wdt:P582 ?endTime.\n",
    "        ?p wdt:P580 ?startTime.\n",
    "        bind(year(?endTime)-year(?startTime) as ?duration )\n",
    "    }\n",
    "   # get the label\n",
    "   ?p sc:name ?name.   \n",
    "  \n",
    "\n",
    "}\n",
    "LIMIT 50\n",
    "\"\"\"\n",
    "\n",
    "print(\"Results\")\n",
    "x=run_query(queryString)"
   ]
  },
  {
   "cell_type": "markdown",
   "id": "8de97152",
   "metadata": {
    "tags": []
   },
   "source": [
    "## Task 4\n",
    "Identify the BGP for archeologist."
   ]
  },
  {
   "cell_type": "code",
   "execution_count": 176,
   "id": "5046aa88",
   "metadata": {},
   "outputs": [
    {
     "name": "stdout",
     "output_type": "stream",
     "text": [
      "Results\n",
      "[('p', 'http://www.wikidata.org/entity/Q1002728'), ('name', 'Fonsi Nieto'), ('occupation', 'http://www.wikidata.org/entity/Q378622')]\n",
      "[('p', 'http://www.wikidata.org/entity/Q1002728'), ('name', 'Fonsi Nieto'), ('occupation', 'http://www.wikidata.org/entity/Q10349745')]\n",
      "[('p', 'http://www.wikidata.org/entity/Q1002728'), ('name', 'Fonsi Nieto'), ('occupation', 'http://www.wikidata.org/entity/Q3014296')]\n",
      "[('p', 'http://www.wikidata.org/entity/Q100343342'), ('name', 'Lubomír Stoklásek'), ('occupation', 'http://www.wikidata.org/entity/Q43845')]\n",
      "[('p', 'http://www.wikidata.org/entity/Q100343342'), ('name', 'Lubomír Stoklásek'), ('occupation', 'http://www.wikidata.org/entity/Q2462658')]\n",
      "[('p', 'http://www.wikidata.org/entity/Q105753880'), ('name', 'Mateo Egea'), ('occupation', 'http://www.wikidata.org/entity/Q82955')]\n",
      "[('p', 'http://www.wikidata.org/entity/Q107520918'), ('name', 'Jerónimo Latorre'), ('occupation', 'http://www.wikidata.org/entity/Q215793')]\n",
      "[('p', 'http://www.wikidata.org/entity/Q107520918'), ('name', 'Jerónimo Latorre'), ('occupation', 'http://www.wikidata.org/entity/Q765778')]\n",
      "[('p', 'http://www.wikidata.org/entity/Q11404285'), ('name', 'Mikiko Kitano'), ('occupation', 'http://www.wikidata.org/entity/Q12330954')]\n",
      "[('p', 'http://www.wikidata.org/entity/Q11520274'), ('name', 'Honjō Fusanaga'), ('occupation', 'http://www.wikidata.org/entity/Q11545923')]\n",
      "[('p', 'http://www.wikidata.org/entity/Q11562694'), ('name', 'Takayoshi Watanabe'), ('occupation', 'http://www.wikidata.org/entity/Q2526255')]\n",
      "[('p', 'http://www.wikidata.org/entity/Q11685026'), ('name', 'Joan de Gènova'), ('occupation', 'http://www.wikidata.org/entity/Q211423')]\n",
      "[('p', 'http://www.wikidata.org/entity/Q11686949'), ('name', 'José Ximénez'), ('occupation', 'http://www.wikidata.org/entity/Q36834')]\n",
      "[('p', 'http://www.wikidata.org/entity/Q11686949'), ('name', 'José Ximénez'), ('occupation', 'http://www.wikidata.org/entity/Q765778')]\n",
      "[('p', 'http://www.wikidata.org/entity/Q11871976'), ('name', 'Klaus Wirzenius'), ('occupation', 'http://www.wikidata.org/entity/Q36834')]\n",
      "[('p', 'http://www.wikidata.org/entity/Q11871976'), ('name', 'Klaus Wirzenius'), ('occupation', 'http://www.wikidata.org/entity/Q639669')]\n",
      "[('p', 'http://www.wikidata.org/entity/Q1342082'), ('name', 'Youssef Ziedan'), ('occupation', 'http://www.wikidata.org/entity/Q201788')]\n",
      "[('p', 'http://www.wikidata.org/entity/Q1342082'), ('name', 'Youssef Ziedan'), ('occupation', 'http://www.wikidata.org/entity/Q36180')]\n",
      "[('p', 'http://www.wikidata.org/entity/Q1370907'), ('name', 'Empress Dowager Longyu'), ('occupation', 'http://www.wikidata.org/entity/Q82955')]\n",
      "[('p', 'http://www.wikidata.org/entity/Q1373516'), ('name', 'Eugénio de Castro'), ('occupation', 'http://www.wikidata.org/entity/Q1231865')]\n",
      "20\n"
     ]
    }
   ],
   "source": [
    "# write your queries\n",
    "# wd:Q5\n",
    "# wdt:P31\tinstance of\n",
    "# wdt:P106\toccupation\n",
    "\n",
    "queryString = \"\"\"\n",
    "SELECT DISTINCT ?p ?name ?occupation\n",
    "WHERE {\n",
    "   # bind something\n",
    "   ?p ?P31 wd:Q5 ;\n",
    "        wdt:P106 ?occupation.\n",
    "       \n",
    "   # get the label\n",
    "   ?p sc:name ?name.\n",
    "   \n",
    "\n",
    "}\n",
    "LIMIT 20\n",
    "\"\"\"\n",
    "\n",
    "print(\"Results\")\n",
    "x=run_query(queryString)"
   ]
  },
  {
   "cell_type": "markdown",
   "id": "e7c271e5",
   "metadata": {},
   "source": [
    "Final query for this task"
   ]
  },
  {
   "cell_type": "code",
   "execution_count": 49,
   "id": "a60a14f3-9b6a-40ba-b13b-8cf5e6192c3c",
   "metadata": {},
   "outputs": [
    {
     "name": "stdout",
     "output_type": "stream",
     "text": [
      "Results\n",
      "[('occupation', 'http://www.wikidata.org/entity/Q3621491'), ('occupationName', 'archaeologist')]\n",
      "[('occupation', 'http://www.wikidata.org/entity/Q52231239'), ('occupationName', 'medieval archaeologist')]\n",
      "[('occupation', 'http://www.wikidata.org/entity/Q15983985'), ('occupationName', 'classical archaeologist')]\n",
      "[('occupation', 'http://www.wikidata.org/entity/Q25915497'), ('occupationName', 'archaeologist of the Roman provinces')]\n",
      "[('occupation', 'http://www.wikidata.org/entity/Q26261971'), ('occupationName', 'christian archaeologist')]\n",
      "[('occupation', 'http://www.wikidata.org/entity/Q51034797'), ('occupationName', 'computational archaeologist')]\n",
      "[('occupation', 'http://www.wikidata.org/entity/Q26424344'), ('occupationName', 'Near Eastern archaeologist')]\n",
      "[('occupation', 'http://www.wikidata.org/entity/Q25931036'), ('occupationName', 'zooarchaeologist')]\n",
      "[('occupation', 'http://www.wikidata.org/entity/Q54985870'), ('occupationName', 'biblical archaeologist')]\n",
      "[('occupation', 'http://www.wikidata.org/entity/Q66281902'), ('occupationName', 'geoarchaeologist')]\n",
      "10\n"
     ]
    }
   ],
   "source": [
    "# write your queries\n",
    "# wd:Q5\n",
    "# wdt:P31\tinstance of\n",
    "# wdt:P106\toccupation\n",
    "\n",
    "queryString = \"\"\"\n",
    "SELECT DISTINCT ?p ?name ?occupation ?occupationName\n",
    "WHERE{\n",
    "\n",
    "    {\n",
    "    SELECT DISTINCT ?occupation ?occupationName\n",
    "    WHERE {\n",
    "       # bind something\n",
    "       ?p wdt:P31 wd:Q5 ;\n",
    "            wdt:P106 ?occupation.\n",
    "\n",
    "       # get the label\n",
    "       ?p sc:name ?name.\n",
    "       ?occupation sc:name ?occupationName.\n",
    "       \n",
    "    }\n",
    "    LIMIT 7000\n",
    "    }\n",
    "    \n",
    "    filter regex(?occupationName, \"archaeologist\").\n",
    "}\n",
    "\"\"\"\n",
    "\n",
    "print(\"Results\")\n",
    "x=run_query(queryString)"
   ]
  },
  {
   "cell_type": "markdown",
   "id": "2103cb54",
   "metadata": {
    "tags": []
   },
   "source": [
    "## Task 5\n",
    "For each ancient civilization find the number of archeologists who worked on it (return also the civilizations with no archeologists) (the result set must be triples of civilization IRI, label and #archeologist)."
   ]
  },
  {
   "cell_type": "code",
   "execution_count": null,
   "id": "639c8fc3",
   "metadata": {},
   "outputs": [
    {
     "name": "stdout",
     "output_type": "stream",
     "text": [
      "Results\n",
      "[('obj', 'http://www.wikidata.org/entity/Q113937'), ('objName', 'Fritz Schachermeyr'), ('p', 'http://www.wikidata.org/prop/direct/P101'), ('name', 'field of work')]\n",
      "[('obj', 'http://www.wikidata.org/entity/Q3698592'), ('objName', 'Minoan chronology'), ('p', 'http://www.wikidata.org/prop/direct/P1269'), ('name', 'facet of')]\n",
      "[('obj', 'http://www.wikidata.org/entity/Q16332795'), ('objName', 'Vaphio gold cups'), ('p', 'http://www.wikidata.org/prop/direct/P136'), ('name', 'genre')]\n",
      "[('obj', 'http://www.wikidata.org/entity/Q6700917'), ('objName', 'Harvester vase'), ('p', 'http://www.wikidata.org/prop/direct/P136'), ('name', 'genre')]\n",
      "[('obj', 'http://www.wikidata.org/entity/Q3566545'), ('objName', 'Bull-Leaping Fresco'), ('p', 'http://www.wikidata.org/prop/direct/P136'), ('name', 'genre')]\n",
      "[('obj', 'http://www.wikidata.org/entity/Q96749917'), ('objName', 'Akrotiri Frescoes'), ('p', 'http://www.wikidata.org/prop/direct/P136'), ('name', 'genre')]\n",
      "[('obj', 'http://www.wikidata.org/entity/Q96751257'), ('objName', 'Snake Goddess from the palace at Knossos'), ('p', 'http://www.wikidata.org/prop/direct/P136'), ('name', 'genre')]\n",
      "[('obj', 'http://www.wikidata.org/entity/Q181264'), ('objName', 'Mycenaean Greece'), ('p', 'http://www.wikidata.org/prop/direct/P1365'), ('name', 'replaces')]\n",
      "[('obj', 'http://www.wikidata.org/entity/Q181264'), ('objName', 'Mycenaean Greece'), ('p', 'http://www.wikidata.org/prop/direct/P1382'), ('name', 'partially coincident with')]\n",
      "[('obj', 'http://www.wikidata.org/entity/Q40965771'), ('objName', 'Cretans Bringing Gifts'), ('p', 'http://www.wikidata.org/prop/direct/P180'), ('name', 'depicts')]\n",
      "[('obj', 'http://www.wikidata.org/entity/Q173527'), ('objName', 'Knossos'), ('p', 'http://www.wikidata.org/prop/direct/P2348'), ('name', 'time period')]\n",
      "[('obj', 'http://www.wikidata.org/entity/Q1573075'), ('objName', 'Armeni'), ('p', 'http://www.wikidata.org/prop/direct/P2348'), ('name', 'time period')]\n",
      "[('obj', 'http://www.wikidata.org/entity/Q105394638'), ('objName', 'Sanctuary of Athena Pronaia'), ('p', 'http://www.wikidata.org/prop/direct/P2348'), ('name', 'time period')]\n",
      "[('obj', 'http://www.wikidata.org/entity/Q16332795'), ('objName', 'Vaphio gold cups'), ('p', 'http://www.wikidata.org/prop/direct/P2348'), ('name', 'time period')]\n",
      "[('obj', 'http://www.wikidata.org/entity/Q6700917'), ('objName', 'Harvester vase'), ('p', 'http://www.wikidata.org/prop/direct/P2348'), ('name', 'time period')]\n",
      "[('obj', 'http://www.wikidata.org/entity/Q55786386'), ('objName', 'Figurine of a woman-Br 4238'), ('p', 'http://www.wikidata.org/prop/direct/P2348'), ('name', 'time period')]\n",
      "[('obj', 'http://www.wikidata.org/entity/Q3566545'), ('objName', 'Bull-Leaping Fresco'), ('p', 'http://www.wikidata.org/prop/direct/P2348'), ('name', 'time period')]\n",
      "[('obj', 'http://www.wikidata.org/entity/Q96749917'), ('objName', 'Akrotiri Frescoes'), ('p', 'http://www.wikidata.org/prop/direct/P2348'), ('name', 'time period')]\n",
      "[('obj', 'http://www.wikidata.org/entity/Q96751257'), ('objName', 'Snake Goddess from the palace at Knossos'), ('p', 'http://www.wikidata.org/prop/direct/P2348'), ('name', 'time period')]\n",
      "[('obj', 'http://www.wikidata.org/entity/Q173527'), ('objName', 'Knossos'), ('p', 'http://www.wikidata.org/prop/direct/P2596'), ('name', 'culture')]\n",
      "[('obj', 'http://www.wikidata.org/entity/Q9054457'), ('objName', 'Palace of Knossos'), ('p', 'http://www.wikidata.org/prop/direct/P2596'), ('name', 'culture')]\n",
      "[('obj', 'http://www.wikidata.org/entity/Q1481525'), ('objName', 'Kydonia'), ('p', 'http://www.wikidata.org/prop/direct/P2596'), ('name', 'culture')]\n",
      "[('obj', 'http://www.wikidata.org/entity/Q941860'), ('objName', 'Palekastro'), ('p', 'http://www.wikidata.org/prop/direct/P2596'), ('name', 'culture')]\n",
      "[('obj', 'http://www.wikidata.org/entity/Q1573075'), ('objName', 'Armeni'), ('p', 'http://www.wikidata.org/prop/direct/P2596'), ('name', 'culture')]\n",
      "[('obj', 'http://www.wikidata.org/entity/Q16957058'), ('objName', 'Odigitria tholos cemetery'), ('p', 'http://www.wikidata.org/prop/direct/P2596'), ('name', 'culture')]\n",
      "[('obj', 'http://www.wikidata.org/entity/Q1937490'), ('objName', 'Minoan pottery'), ('p', 'http://www.wikidata.org/prop/direct/P2596'), ('name', 'culture')]\n",
      "[('obj', 'http://www.wikidata.org/entity/Q6868926'), ('objName', 'Minoan sealstone'), ('p', 'http://www.wikidata.org/prop/direct/P2596'), ('name', 'culture')]\n",
      "[('obj', 'http://www.wikidata.org/entity/Q56317941'), ('objName', 'Chrysokamino'), ('p', 'http://www.wikidata.org/prop/direct/P2596'), ('name', 'culture')]\n",
      "[('obj', 'http://www.wikidata.org/entity/Q943675'), ('objName', 'Kamares, Crete'), ('p', 'http://www.wikidata.org/prop/direct/P2596'), ('name', 'culture')]\n",
      "[('obj', 'http://www.wikidata.org/entity/Q1643807'), ('objName', 'Psychro Cave'), ('p', 'http://www.wikidata.org/prop/direct/P2596'), ('name', 'culture')]\n",
      "[('obj', 'http://www.wikidata.org/entity/Q529246'), ('objName', 'Anemospilia'), ('p', 'http://www.wikidata.org/prop/direct/P2596'), ('name', 'culture')]\n",
      "[('obj', 'http://www.wikidata.org/entity/Q205643'), ('objName', 'Vathypetro'), ('p', 'http://www.wikidata.org/prop/direct/P2596'), ('name', 'culture')]\n",
      "[('obj', 'http://www.wikidata.org/entity/Q421232'), ('objName', 'Akrotiri'), ('p', 'http://www.wikidata.org/prop/direct/P2596'), ('name', 'culture')]\n",
      "[('obj', 'http://www.wikidata.org/entity/Q3777137'), ('objName', 'Sacred caves of Crete'), ('p', 'http://www.wikidata.org/prop/direct/P2596'), ('name', 'culture')]\n",
      "[('obj', 'http://www.wikidata.org/entity/Q3891582'), ('objName', 'Galatas Palace'), ('p', 'http://www.wikidata.org/prop/direct/P2596'), ('name', 'culture')]\n",
      "[('obj', 'http://www.wikidata.org/entity/Q3901049'), ('objName', 'Palace of Petras'), ('p', 'http://www.wikidata.org/prop/direct/P2596'), ('name', 'culture')]\n",
      "[('obj', 'http://www.wikidata.org/entity/Q584014'), ('objName', 'Kamares ware'), ('p', 'http://www.wikidata.org/prop/direct/P2596'), ('name', 'culture')]\n",
      "[('obj', 'http://www.wikidata.org/entity/Q28065723'), ('objName', 'Chalasmenos'), ('p', 'http://www.wikidata.org/prop/direct/P2596'), ('name', 'culture')]\n",
      "[('obj', 'http://www.wikidata.org/entity/Q1887316'), ('objName', 'Malia'), ('p', 'http://www.wikidata.org/prop/direct/P2596'), ('name', 'culture')]\n",
      "[('obj', 'http://www.wikidata.org/entity/Q7536414'), ('objName', 'Skotino cave'), ('p', 'http://www.wikidata.org/prop/direct/P2596'), ('name', 'culture')]\n",
      "[('obj', 'http://www.wikidata.org/entity/Q249707'), ('objName', 'Phaistos'), ('p', 'http://www.wikidata.org/prop/direct/P2596'), ('name', 'culture')]\n",
      "[('obj', 'http://www.wikidata.org/entity/Q60218'), ('objName', 'Zakros'), ('p', 'http://www.wikidata.org/prop/direct/P2596'), ('name', 'culture')]\n",
      "[('obj', 'http://www.wikidata.org/entity/Q61465879'), ('objName', 'Zakro Master'), ('p', 'http://www.wikidata.org/prop/direct/P2596'), ('name', 'culture')]\n",
      "[('obj', 'http://www.wikidata.org/entity/Q393632'), ('objName', 'Hagia Triada'), ('p', 'http://www.wikidata.org/prop/direct/P2596'), ('name', 'culture')]\n",
      "[('obj', 'http://www.wikidata.org/entity/Q28200636'), ('objName', 'Vasiliki Minoan site'), ('p', 'http://www.wikidata.org/prop/direct/P2596'), ('name', 'culture')]\n",
      "[('obj', 'http://www.wikidata.org/entity/Q502740'), ('objName', 'Minoan art'), ('p', 'http://www.wikidata.org/prop/direct/P2596'), ('name', 'culture')]\n",
      "[('obj', 'http://www.wikidata.org/entity/Q1540236'), ('objName', 'Gournia'), ('p', 'http://www.wikidata.org/prop/direct/P2596'), ('name', 'culture')]\n",
      "[('obj', 'http://www.wikidata.org/entity/Q18386154'), ('objName', 'Palaikastro Kouros'), ('p', 'http://www.wikidata.org/prop/direct/P2596'), ('name', 'culture')]\n",
      "[('obj', 'http://www.wikidata.org/entity/Q6423037'), ('objName', 'Knossos excavations'), ('p', 'http://www.wikidata.org/prop/direct/P2596'), ('name', 'culture')]\n",
      "[('obj', 'http://www.wikidata.org/entity/Q7843308'), ('objName', 'Tripiti'), ('p', 'http://www.wikidata.org/prop/direct/P2596'), ('name', 'culture')]\n",
      "[('obj', 'http://www.wikidata.org/entity/Q3621603'), ('objName', 'Minoan architecture'), ('p', 'http://www.wikidata.org/prop/direct/P2596'), ('name', 'culture')]\n",
      "[('obj', 'http://www.wikidata.org/entity/Q219818'), ('objName', 'Zominthos'), ('p', 'http://www.wikidata.org/prop/direct/P2596'), ('name', 'culture')]\n",
      "[('obj', 'http://www.wikidata.org/entity/Q16332795'), ('objName', 'Vaphio gold cups'), ('p', 'http://www.wikidata.org/prop/direct/P2596'), ('name', 'culture')]\n",
      "[('obj', 'http://www.wikidata.org/entity/Q6700917'), ('objName', 'Harvester vase'), ('p', 'http://www.wikidata.org/prop/direct/P2596'), ('name', 'culture')]\n",
      "[('obj', 'http://www.wikidata.org/entity/Q1734354'), ('objName', 'Karfi'), ('p', 'http://www.wikidata.org/prop/direct/P2596'), ('name', 'culture')]\n",
      "[('obj', 'http://www.wikidata.org/entity/Q3566545'), ('objName', 'Bull-Leaping Fresco'), ('p', 'http://www.wikidata.org/prop/direct/P2596'), ('name', 'culture')]\n",
      "[('obj', 'http://www.wikidata.org/entity/Q16329274'), ('objName', 'Minoan krater with flowers'), ('p', 'http://www.wikidata.org/prop/direct/P2596'), ('name', 'culture')]\n",
      "[('obj', 'http://www.wikidata.org/entity/Q96749917'), ('objName', 'Akrotiri Frescoes'), ('p', 'http://www.wikidata.org/prop/direct/P2596'), ('name', 'culture')]\n",
      "[('obj', 'http://www.wikidata.org/entity/Q96751257'), ('objName', 'Snake Goddess from the palace at Knossos'), ('p', 'http://www.wikidata.org/prop/direct/P2596'), ('name', 'culture')]\n",
      "[('obj', 'http://www.wikidata.org/entity/Q3901135'), ('objName', 'Petsofas'), ('p', 'http://www.wikidata.org/prop/direct/P2596'), ('name', 'culture')]\n",
      "[('obj', 'http://www.wikidata.org/entity/Q3037912'), ('objName', 'Hagia Triada sarcophagus'), ('p', 'http://www.wikidata.org/prop/direct/P2596'), ('name', 'culture')]\n",
      "[('obj', 'http://www.wikidata.org/entity/Q28382094'), ('objName', 'Minoan house of Chamezi'), ('p', 'http://www.wikidata.org/prop/direct/P2596'), ('name', 'culture')]\n",
      "[('obj', 'http://www.wikidata.org/entity/Q27105787'), ('objName', 'Minoan villa of Zakros'), ('p', 'http://www.wikidata.org/prop/direct/P2596'), ('name', 'culture')]\n",
      "[('obj', 'http://www.wikidata.org/entity/Q56398956'), ('objName', 'Tylissos'), ('p', 'http://www.wikidata.org/prop/direct/P2596'), ('name', 'culture')]\n",
      "[('obj', 'http://www.wikidata.org/entity/Q1921297'), ('objName', 'Fournou Korifi'), ('p', 'http://www.wikidata.org/prop/direct/P2596'), ('name', 'culture')]\n",
      "[('obj', 'http://www.wikidata.org/entity/Q16332818'), ('objName', 'The bee pendant'), ('p', 'http://www.wikidata.org/prop/direct/P2596'), ('name', 'culture')]\n",
      "[('obj', 'http://www.wikidata.org/entity/Q28549128'), ('objName', 'Minoan villa of Agios Georgios'), ('p', 'http://www.wikidata.org/prop/direct/P2596'), ('name', 'culture')]\n",
      "[('obj', 'http://www.wikidata.org/entity/Q16330209'), ('objName', 'Boxer Rhyton'), ('p', 'http://www.wikidata.org/prop/direct/P2596'), ('name', 'culture')]\n",
      "[('obj', 'http://www.wikidata.org/entity/Q7213579'), ('objName', 'Category:Minoan civilization'), ('p', 'http://www.wikidata.org/prop/direct/P301'), ('name', \"category's main topic\")]\n",
      "[('obj', 'http://www.wikidata.org/entity/Q9627540'), ('objName', 'Category:Minoan culture'), ('p', 'http://www.wikidata.org/prop/direct/P301'), ('name', \"category's main topic\")]\n",
      "[('obj', 'http://www.wikidata.org/entity/Q12056948'), ('objName', 'Middle Minoan'), ('p', 'http://www.wikidata.org/prop/direct/P361'), ('name', 'part of')]\n",
      "[('obj', 'http://www.wikidata.org/entity/Q107707845'), ('objName', 'Prepalatial'), ('p', 'http://www.wikidata.org/prop/direct/P361'), ('name', 'part of')]\n",
      "[('obj', 'http://www.wikidata.org/entity/Q486761'), ('objName', 'classical antiquity'), ('p', 'http://www.wikidata.org/prop/direct/P527'), ('name', 'has part')]\n",
      "[('obj', 'http://www.wikidata.org/entity/Q63131675'), ('objName', 'The Volcanic Destruction of Minoan Crete'), ('p', 'http://www.wikidata.org/prop/direct/P921'), ('name', 'main subject')]\n",
      "[('obj', 'http://www.wikidata.org/entity/Q59617487'), ('objName', \"The 'Jasper Lion Master'\"), ('p', 'http://www.wikidata.org/prop/direct/P921'), ('name', 'main subject')]\n",
      "[('obj', 'http://www.wikidata.org/entity/Q108631829'), ('objName', 'The genomic history of the Aegean palatial civilizations'), ('p', 'http://www.wikidata.org/prop/direct/P921'), ('name', 'main subject')]\n",
      "[('obj', 'http://www.wikidata.org/entity/Q87346936'), ('objName', 'The Minoan Civilisation'), ('p', 'http://www.wikidata.org/prop/direct/P921'), ('name', 'main subject')]\n",
      "[('obj', 'http://www.wikidata.org/entity/Q59091489'), ('objName', 'Archaeomagnetic dating of Santorini volcanic eruptions and fired destruction levels of late Minoan civilization'), ('p', 'http://www.wikidata.org/prop/direct/P921'), ('name', 'main subject')]\n",
      "[('obj', 'http://www.wikidata.org/entity/Q106715706'), ('objName', 'Minoernas Kreta: Myt & Verklighet'), ('p', 'http://www.wikidata.org/prop/direct/P921'), ('name', 'main subject')]\n",
      "[('obj', 'http://www.wikidata.org/entity/Q58368204'), ('objName', 'Ingo Pini, Beiträge zur minoischen Gräberkunde'), ('p', 'http://www.wikidata.org/prop/direct/P921'), ('name', 'main subject')]\n",
      "[('obj', 'http://www.wikidata.org/entity/Q84118110'), ('objName', 'Category:Maps of Minoan civilization'), ('p', 'http://www.wikidata.org/prop/direct/P971'), ('name', 'category combines topics')]\n",
      "81\n"
     ]
    }
   ],
   "source": [
    "#Q28171280 'ancient civilization'\n",
    "#'http://www.wikidata.org/entity/Q3621491'), ('occupationName', 'archaeologist')]\n",
    "\n",
    "# Q3621491 'archaeologist'\n",
    "# Q8463726  'Chengzuo Shang'\n",
    "# Q11768  'Ancient Egypt' \n",
    "# Q134178'), ('name', 'Minoan civilization')\n",
    "queryString = \"\"\"\n",
    "\n",
    "    SELECT DISTINCT ?obj ?objName ?p ?name\n",
    "    WHERE {\n",
    "      \n",
    "    ?obj ?p wd:Q134178 .\n",
    "\n",
    "       # get the label\n",
    "       \n",
    "       ?obj sc:name ?objName.\n",
    "       ?p sc:name ?name.\n",
    "       \n",
    "    }\n",
    "    LIMIT 100\n",
    "    \n",
    "\"\"\"\n",
    "\n",
    "print(\"Results\")\n",
    "x=run_query(queryString)\n"
   ]
  },
  {
   "cell_type": "code",
   "execution_count": 4,
   "id": "8af8b6ba-c00d-4a79-80a7-ac28c42b0550",
   "metadata": {},
   "outputs": [
    {
     "name": "stdout",
     "output_type": "stream",
     "text": [
      "Results\n",
      "The operation failed timed out\n"
     ]
    }
   ],
   "source": [
    "# P101 'field of work'\n",
    "# Q3621491 'archaeologist'\n",
    "# wdt:P106\toccupation\n",
    "# P279 sub class\n",
    "queryString = \"\"\"\n",
    "\n",
    "    SELECT DISTINCT  ?ancient ?ancientName ?archelogist ?archelogistName \n",
    "    WHERE {\n",
    "      \n",
    "      \n",
    "   ?ancient wdt:P31 wd:Q28171280.\n",
    "   \n",
    "    ?archelogist wdt:P101 ?p.\n",
    "        \n",
    "       # get the label\n",
    "       \n",
    "       ?archelogist sc:name ?archelogistName.\n",
    "       ?ancient sc:name ?ancientName.\n",
    "       \n",
    "    }\n",
    "    LIMIT 10\n",
    "    \n",
    "\"\"\"\n",
    "\n",
    "print(\"Results\")\n",
    "x=run_query(queryString)"
   ]
  },
  {
   "cell_type": "markdown",
   "id": "cb8269fb",
   "metadata": {},
   "source": [
    "Final query for this task"
   ]
  },
  {
   "cell_type": "code",
   "execution_count": null,
   "id": "d338a14a-e0a5-4ef9-9919-3a741571065d",
   "metadata": {},
   "outputs": [],
   "source": [
    "# P101 'field of work'\n",
    "# Q3621491 'archaeologist'\n",
    "# wdt:P106\toccupation\n",
    "# P279 sub class\n",
    "queryString = \"\"\"\n",
    "\n",
    "SELECT DISTINCT  ?ancient ?ancientName (count(?archelogist) as ?numAcheologist )\n",
    "WHERE {\n",
    "      \n",
    "\n",
    "    ?ancient wdt:P31 wd:Q28171280.\n",
    "    optional {?archelogist wdt:P101 ?ancient.}\n",
    "        \n",
    "       # get the label\n",
    "       \n",
    "       optional {?archelogist sc:name ?archelogistName.}\n",
    "       ?ancient sc:name ?ancientName.\n",
    "       \n",
    "}\n",
    "group by ?ancient ?ancientName\n",
    "order by DESC (?numAcheologist)\n",
    "LIMIT 100\n",
    "    \n",
    "\"\"\"\n",
    "\n",
    "print(\"Results\")\n",
    "x=run_query(queryString)"
   ]
  },
  {
   "cell_type": "markdown",
   "id": "0fa98a2b",
   "metadata": {},
   "source": [
    "## Task 6\n",
    "Find the BGP for deity."
   ]
  },
  {
   "cell_type": "code",
   "execution_count": 91,
   "id": "ba70a1db",
   "metadata": {},
   "outputs": [
    {
     "name": "stdout",
     "output_type": "stream",
     "text": [
      "Results\n",
      "[('p', 'http://www.wikidata.org/entity/Q1916821'), ('name', 'water deity'), ('obj', 'http://www.wikidata.org/prop/direct/P31'), ('objName', 'instance of')]\n",
      "[('p', 'http://www.wikidata.org/entity/Q22989102'), ('name', 'Greek deity'), ('obj', 'http://www.wikidata.org/prop/direct/P31'), ('objName', 'instance of')]\n",
      "2\n"
     ]
    }
   ],
   "source": [
    "# wd:Q41127 Poseidon\n",
    "queryString = \"\"\"\n",
    "\n",
    "    SELECT DISTINCT  ?p ?name ?obj ?objName\n",
    "    WHERE {\n",
    "      \n",
    "       wd:Q41127  ?obj ?p.\n",
    "   \n",
    "       ?p sc:name ?name.\n",
    "       ?obj sc:name ?objName.\n",
    "       filter regex(?name, \"deity\").\n",
    "       \n",
    "    }\n",
    "    LIMIT 20\n",
    "    \n",
    "\"\"\"\n",
    "\n",
    "print(\"Results\")\n",
    "x=run_query(queryString)\n"
   ]
  },
  {
   "cell_type": "code",
   "execution_count": 92,
   "id": "43e179fb-75ba-4790-b397-cd26dbb6a375",
   "metadata": {},
   "outputs": [
    {
     "name": "stdout",
     "output_type": "stream",
     "text": [
      "Results\n",
      "[('p', 'http://www.wikidata.org/entity/Q178885'), ('name', 'deity'), ('obj', 'http://www.wikidata.org/prop/direct/P279'), ('objName', 'subclass of')]\n",
      "1\n"
     ]
    }
   ],
   "source": [
    "# write your final query\n",
    "#Q22989102 'Greek deity'\n",
    "queryString = \"\"\"\n",
    "\n",
    "    SELECT DISTINCT  ?p ?name ?obj ?objName\n",
    "    WHERE {\n",
    "      \n",
    "       wd:Q22989102  ?obj ?p.\n",
    "   \n",
    "       ?p sc:name ?name.\n",
    "       ?obj sc:name ?objName.\n",
    "       filter regex(?name, \"deity\").\n",
    "       \n",
    "    }\n",
    "    LIMIT 20\n",
    "    \n",
    "\"\"\"\n",
    "\n",
    "print(\"Results\")\n",
    "x=run_query(queryString)"
   ]
  },
  {
   "cell_type": "markdown",
   "id": "ae86d751",
   "metadata": {},
   "source": [
    "Final query for this task"
   ]
  },
  {
   "cell_type": "markdown",
   "id": "3235fc70",
   "metadata": {},
   "source": [
    "## Task 7\n",
    "List all the twelve olympian greek deities (the result set must a list of 12 elements of couples of deity IRI and label)."
   ]
  },
  {
   "cell_type": "code",
   "execution_count": 94,
   "id": "9be29735-07bb-49a8-bfb9-d55f4be0d010",
   "metadata": {},
   "outputs": [
    {
     "name": "stdout",
     "output_type": "stream",
     "text": [
      "Results\n",
      "[('deities', 'http://www.wikidata.org/entity/Q5081127')]\n",
      "[('deities', 'http://www.wikidata.org/entity/Q366533')]\n",
      "[('deities', 'http://www.wikidata.org/entity/Q3362052')]\n",
      "[('deities', 'http://www.wikidata.org/entity/Q6612')]\n",
      "[('deities', 'http://www.wikidata.org/entity/Q2144233')]\n",
      "[('deities', 'http://www.wikidata.org/entity/Q1120723')]\n",
      "[('deities', 'http://www.wikidata.org/entity/Q1862189')]\n",
      "[('deities', 'http://www.wikidata.org/entity/Q1775444')]\n",
      "[('deities', 'http://www.wikidata.org/entity/Q178417')]\n",
      "[('deities', 'http://www.wikidata.org/entity/Q59697')]\n",
      "[('deities', 'http://www.wikidata.org/entity/Q1084868')]\n",
      "[('deities', 'http://www.wikidata.org/entity/Q1294659')]\n",
      "[('deities', 'http://www.wikidata.org/entity/Q18423351')]\n",
      "[('deities', 'http://www.wikidata.org/entity/Q185670')]\n",
      "[('deities', 'http://www.wikidata.org/entity/Q37340')]\n",
      "[('deities', 'http://www.wikidata.org/entity/Q83223')]\n",
      "[('deities', 'http://www.wikidata.org/entity/Q850227')]\n",
      "[('deities', 'http://www.wikidata.org/entity/Q1073827')]\n",
      "[('deities', 'http://www.wikidata.org/entity/Q131585')]\n",
      "[('deities', 'http://www.wikidata.org/entity/Q134270')]\n",
      "20\n"
     ]
    }
   ],
   "source": [
    "#Q22989102 'Greek deity' P31 'instance of'\n",
    "queryString = \"\"\"\n",
    "\n",
    "    SELECT DISTINCT  ?deities\n",
    "    WHERE {\n",
    "      \n",
    "       ?deities  wdt:P31 wd:Q22989102.\n",
    "   \n",
    "       ?deities sc:name ?deitiesName.\n",
    "    }\n",
    "    LIMIT 20\n",
    "    \n",
    "\"\"\"\n",
    "\n",
    "print(\"Results\")\n",
    "x=run_query(queryString)"
   ]
  },
  {
   "cell_type": "code",
   "execution_count": 103,
   "id": "6178a590-9c59-48e2-9d15-f02b75fd2cc5",
   "metadata": {},
   "outputs": [
    {
     "name": "stdout",
     "output_type": "stream",
     "text": [
      "Results\n",
      "[('p', 'http://www.wikidata.org/entity/Q101609'), ('name', 'Twelve Olympians'), ('obj', 'http://www.wikidata.org/prop/direct/P361'), ('objName', 'part of')]\n",
      "1\n"
     ]
    }
   ],
   "source": [
    "# wd:Q41127 Poseidon\n",
    "queryString = \"\"\"\n",
    "\n",
    "    SELECT DISTINCT  ?p ?name ?obj ?objName\n",
    "    WHERE {\n",
    "      \n",
    "       wd:Q41127 ?obj ?p.\n",
    "   \n",
    "       ?p sc:name ?name.\n",
    "       ?obj sc:name ?objName.\n",
    "       filter regex(?name, \"[Oo]lympian\").\n",
    "       \n",
    "    }\n",
    "    LIMIT 20\n",
    "    \n",
    "\"\"\"\n",
    "\n",
    "print(\"Results\")\n",
    "x=run_query(queryString)"
   ]
  },
  {
   "cell_type": "code",
   "execution_count": 105,
   "id": "3c303351-baeb-44c3-8c69-2f43689efcee",
   "metadata": {
    "tags": []
   },
   "outputs": [
    {
     "name": "stdout",
     "output_type": "stream",
     "text": [
      "Results\n",
      "[('deity', 'http://www.wikidata.org/entity/Q37340'), ('deityName', 'Apollo')]\n",
      "[('deity', 'http://www.wikidata.org/entity/Q37122'), ('deityName', 'Athena')]\n",
      "[('deity', 'http://www.wikidata.org/entity/Q38012'), ('deityName', 'Hera')]\n",
      "[('deity', 'http://www.wikidata.org/entity/Q39503'), ('deityName', 'Artemis')]\n",
      "[('deity', 'http://www.wikidata.org/entity/Q44384'), ('deityName', 'Hephaestus')]\n",
      "[('deity', 'http://www.wikidata.org/entity/Q41484'), ('deityName', 'Hermes')]\n",
      "[('deity', 'http://www.wikidata.org/entity/Q41127'), ('deityName', 'Poseidon')]\n",
      "[('deity', 'http://www.wikidata.org/entity/Q41419'), ('deityName', 'Hestia')]\n",
      "[('deity', 'http://www.wikidata.org/entity/Q34201'), ('deityName', 'Zeus')]\n",
      "[('deity', 'http://www.wikidata.org/entity/Q35500'), ('deityName', 'Aphrodite')]\n",
      "[('deity', 'http://www.wikidata.org/entity/Q40730'), ('deityName', 'Demeter')]\n",
      "[('deity', 'http://www.wikidata.org/entity/Q40901'), ('deityName', 'Ares')]\n",
      "12\n"
     ]
    }
   ],
   "source": [
    "# write your final query\n",
    "# Q101609  'Twelve Olympians' P361 'part of'\n",
    "queryString = \"\"\"\n",
    "\n",
    "    SELECT DISTINCT  ?deity ?deityName  \n",
    "    WHERE {\n",
    "      \n",
    "       \n",
    "       ?deity wdt:P361 wd:Q101609.\n",
    "   \n",
    "       ?deity sc:name ?deityName.\n",
    "        \n",
    "       \n",
    "    }\n",
    "    LIMIT 20\n",
    "    \n",
    "\"\"\"\n",
    "\n",
    "print(\"Results\")\n",
    "x=run_query(queryString)"
   ]
  },
  {
   "cell_type": "markdown",
   "id": "ca431f29",
   "metadata": {},
   "source": [
    "## Task 8\n",
    "Compare ancient Greece with ancient Egypt and find how many deities each one has."
   ]
  },
  {
   "cell_type": "code",
   "execution_count": 107,
   "id": "f5916b11",
   "metadata": {},
   "outputs": [
    {
     "name": "stdout",
     "output_type": "stream",
     "text": [
      "Results\n",
      "[('numGreekDeity', '252')]\n",
      "1\n"
     ]
    }
   ],
   "source": [
    "# count ancient Egypt\n",
    "# Q22989102  'Greek deity'\n",
    "# P31 'instance of'\n",
    "queryString = \"\"\"\n",
    "\n",
    "    SELECT DISTINCT  (count(?greekDeity) as ?numGreekDeity)\n",
    "    WHERE {\n",
    "      \n",
    "       \n",
    "       ?greekDeity wdt:P31 wd:Q22989102.\n",
    "        \n",
    "    }\n",
    "    LIMIT 20\n",
    "    \n",
    "\"\"\"\n",
    "\n",
    "print(\"Results\")\n",
    "x=run_query(queryString)"
   ]
  },
  {
   "cell_type": "code",
   "execution_count": 110,
   "id": "c4127aa0-1e4d-4729-a613-35754bc8924c",
   "metadata": {},
   "outputs": [
    {
     "name": "stdout",
     "output_type": "stream",
     "text": [
      "Results\n",
      "[('Deity', 'http://www.wikidata.org/entity/Q146083'), ('deityName', 'Ancient Egyptian deity')]\n",
      "1\n"
     ]
    }
   ],
   "source": [
    "# Q178885 'deit'\n",
    "# P279 'subclass of'\n",
    "\n",
    "queryString = \"\"\"\n",
    "\n",
    "    SELECT DISTINCT  ?Deity ?deityName\n",
    "    WHERE {\n",
    "      \n",
    "       \n",
    "       ?Deity wdt:P279 wd:Q178885.\n",
    "        ?Deity sc:name ?deityName.\n",
    "        filter regex(?deityName , \"Egypt\").\n",
    "    }\n",
    "    LIMIT 20\n",
    "    \n",
    "\"\"\"\n",
    "\n",
    "print(\"Results\")\n",
    "x=run_query(queryString)"
   ]
  },
  {
   "cell_type": "code",
   "execution_count": 111,
   "id": "b5292611-348b-4653-b657-3a9601e6b068",
   "metadata": {},
   "outputs": [
    {
     "name": "stdout",
     "output_type": "stream",
     "text": [
      "Results\n",
      "[('numEgyptianDeity', '281')]\n",
      "1\n"
     ]
    }
   ],
   "source": [
    "# Q146083 'Ancient Egyptian deity'\n",
    "queryString = \"\"\"\n",
    "\n",
    "    SELECT DISTINCT  (count(?egyptianDeity) as ?numEgyptianDeity)\n",
    "    WHERE {\n",
    "      \n",
    "       ?egyptianDeity wdt:P31 wd:Q146083.\n",
    "        \n",
    "    }\n",
    "    LIMIT 20\n",
    "    \n",
    "\"\"\"\n",
    "\n",
    "print(\"Results\")\n",
    "x=run_query(queryString)"
   ]
  },
  {
   "cell_type": "markdown",
   "id": "075250fa",
   "metadata": {},
   "source": [
    "Final query for this task"
   ]
  },
  {
   "cell_type": "code",
   "execution_count": 117,
   "id": "ca040304-9f20-4896-9e24-d2e708dc2a06",
   "metadata": {},
   "outputs": [
    {
     "name": "stdout",
     "output_type": "stream",
     "text": [
      "Results\n",
      "[('numEgyptianDeity', '281'), ('numGreekDeity', '252')]\n",
      "1\n"
     ]
    }
   ],
   "source": [
    "# Q146083 'Ancient Egyptian deity'\n",
    "# count ancient Egypt\n",
    "# Q22989102  'Greek deity'\n",
    "# P31 'instance of'\n",
    "queryString = \"\"\"\n",
    "\n",
    "    SELECT DISTINCT  (count(?egyptianDeity) as ?numEgyptianDeity) (?numGreekDeity)\n",
    "    WHERE {\n",
    "      \n",
    "      \n",
    "       ?egyptianDeity wdt:P31 wd:Q146083.\n",
    "       \n",
    "        {SELECT DISTINCT   (count(?greekDeity) as ?numGreekDeity)\n",
    "        WHERE {\n",
    "\n",
    "\n",
    "           ?greekDeity wdt:P31 wd:Q22989102.\n",
    "\n",
    "        }\n",
    "        }\n",
    "        \n",
    "    }\n",
    "    LIMIT 20\n",
    "    \n",
    "\"\"\"\n",
    "\n",
    "print(\"Results\")\n",
    "x=run_query(queryString)"
   ]
  }
 ],
 "metadata": {
  "kernelspec": {
   "display_name": "Python 3 (ipykernel)",
   "language": "python",
   "name": "python3"
  },
  "language_info": {
   "codemirror_mode": {
    "name": "ipython",
    "version": 3
   },
   "file_extension": ".py",
   "mimetype": "text/x-python",
   "name": "python",
   "nbconvert_exporter": "python",
   "pygments_lexer": "ipython3",
   "version": "3.7.10"
  }
 },
 "nbformat": 4,
 "nbformat_minor": 5
}
