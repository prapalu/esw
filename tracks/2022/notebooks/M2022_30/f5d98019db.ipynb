{
 "cells": [
  {
   "cell_type": "markdown",
   "id": "f8b6825b",
   "metadata": {},
   "source": [
    "# General instructions\n",
    "\n",
    "The goal of the project is to materialize a set of **exploratory workloads** over a real-world, large-scale,  open-domain KG: [WikiData](https://www.wikidata.org/wiki/Wikidata:Main_Page)\n",
    "\n",
    "An exploratory workload  is composed by a set of queries, where each query is related to the information obtained previously.\n",
    "\n",
    "An exploratory workload starts with a usually vague, open ended question, and does not assume the person issuing the workload has a clear understanding of the data contained in the target database or its structure.\n",
    "\n",
    "Remeber that:\n",
    "\n",
    "1. All the queries must run in the python notebook\n",
    "2. You can use classes and properties only if you find them via a SPARQL query that must be present in the notebook\n",
    "3. You do not delete useless queries. Keep everything that is synthatically valid \n",
    "\n",
    "```\n",
    "?p <http://schema.org/name> ?name .\n",
    "```\n",
    "    \n",
    "    is the BGP returning a human-readable name of a property or a class in Wikidata."
   ]
  },
  {
   "cell_type": "code",
   "execution_count": 28,
   "id": "adbdeb7e",
   "metadata": {},
   "outputs": [],
   "source": [
    "## SETUP used later\n",
    "\n",
    "from SPARQLWrapper import SPARQLWrapper, JSON\n",
    "\n",
    "\n",
    "prefixString = \"\"\"\n",
    "##-f5d98019db-##\n",
    "PREFIX wd: <http://www.wikidata.org/entity/> \n",
    "PREFIX wdt: <http://www.wikidata.org/prop/direct/> \n",
    "PREFIX sc: <http://schema.org/>\n",
    "\n",
    "PREFIX xsd: <http://www.w3.org/2001/XMLSchema#> \n",
    "\"\"\"\n",
    "\n",
    "# select and construct queries\n",
    "def run_query(queryString,verbose = True):\n",
    "    to_run = prefixString + \"\\n\" + queryString\n",
    "\n",
    "    sparql = SPARQLWrapper(\"http://a256-gc1-03.srv.aau.dk:5820/sparql\")\n",
    "    sparql.setTimeout(300)\n",
    "    sparql.setReturnFormat(JSON)\n",
    "    sparql.setQuery(to_run)\n",
    "\n",
    "    try :\n",
    "        results = sparql.query()\n",
    "        json_results = results.convert()\n",
    "        if len(json_results['results']['bindings'])==0:\n",
    "            print(\"Empty\")\n",
    "            return []\n",
    "        array = []\n",
    "        for bindings in json_results['results']['bindings']:\n",
    "            app =  [ (var, value['value'])  for var, value in bindings.items() ] \n",
    "            if verbose:\n",
    "                print( app)\n",
    "            array.append(app)\n",
    "        if verbose:\n",
    "            print(len(array))\n",
    "        return array\n",
    "\n",
    "    except Exception as e :\n",
    "        print(\"The operation failed\", e)\n",
    "    \n",
    "# ASk queries\n",
    "def run_ask_query(queryString):\n",
    "    to_run = prefixString + \"\\n\" + queryString\n",
    "\n",
    "    sparql = SPARQLWrapper(\"http://a256-gc1-03.srv.aau.dk:5820/sparql\")\n",
    "    sparql.setTimeout(300)\n",
    "    sparql.setReturnFormat(JSON)\n",
    "    sparql.setQuery(to_run)\n",
    "\n",
    "    try :\n",
    "        return sparql.query().convert()\n",
    "\n",
    "    except Exception as e :\n",
    "        print(\"The operation failed\", e)"
   ]
  },
  {
   "cell_type": "markdown",
   "id": "02abfbfe",
   "metadata": {},
   "source": [
    "# Sport Workflow Series (Tennis explorative search\") \n",
    "\n",
    "Consider the following exploratory information need:\n",
    "\n",
    "> investigate tennis and find the main BGPs related to this sport. Compare players per countries, awards of the players and tournament."
   ]
  },
  {
   "cell_type": "markdown",
   "id": "3b3a53b1",
   "metadata": {},
   "source": [
    "## Useful URIs for the current workflow\n",
    "The following are given:\n",
    "\n",
    "| IRI           | Description   | Role      |\n",
    "| -----------   | -----------   |-----------|\n",
    "| `wdt:P1647`   | subproperty   | predicate |\n",
    "| `wdt:P31`     | instance of   | predicate |\n",
    "| `wdt:P106`    | profession    | predicate | \n",
    "| `wdt:P279`    | subclass      | predicate |\n",
    "| `wdt:P27`     | nationality   | predicate |\n",
    "| `wd:Q5`| Human       | node |\n",
    "| `wd:Q1426`| Roger Federer       | node |\n",
    "| `wd:Q11459`| Serena Williams       | node |\n"
   ]
  },
  {
   "cell_type": "markdown",
   "id": "a1abe788",
   "metadata": {},
   "source": [
    "\n",
    "\n",
    "\n",
    "Also consider\n",
    "\n",
    "```\n",
    "wd:Q1426 ?p ?obj .\n",
    "```\n",
    "\n",
    "is the BGP to retrieve all **properties of Roger Federer**\n",
    "\n",
    "Please consider that when you return a resource, you should return the IRI and the label of the resource. In particular, when the task require you to identify a BGP the result set must always be a list of couples IRI - label.\n",
    "\n",
    "\n",
    "\n",
    "The workload should:\n",
    "\n",
    "\n",
    "1. Identify the BGP for tennis player\n",
    "\n",
    "2. Identify the BGP for tennis tournament\n",
    "\n",
    "3. Return the four Grand Slam of tennis (hint: One of these four is Wimbledon) (the result set must be a list of four couples Grand Slam IRI and label).\n",
    "\n",
    "4. Find the three different type of possible surfaces in a tennis court (the result set must be a list of three couples surface IRI and label).\n",
    "\n",
    "5. Return the tournaments played in the 2018 Wimbledon Championships edition with the related winners (hint: men and women do not play together, there are two distinct tournament ) (the result set must be a list of elements with tournament IRI and label, and winner IRI and label).\n",
    "\n",
    "6. Consider the tennis players born after 1975, return who won more Grand Slams and cut the result to the top-10 (the result set must be a list of triples player IRI, label and #victories).\n",
    "\n",
    "7. Consider the country for sport property of the tennis player (NO Country of citizenship). Return the countries with at least one player who won at least one edition of each Grand Slam (the result set must be a list of country IRI and label).\n",
    "\n",
    "8. Consider the country for sport property of the tennis player (NO Country of citizenship). Return the countries with at least one player who was ranked 1 in the tennis ranking  (the result set must be a list of country IRI and label)."
   ]
  },
  {
   "cell_type": "markdown",
   "id": "e4eda998",
   "metadata": {},
   "source": [
    "## Task 1\n",
    "Identify the BGP for tennis player"
   ]
  },
  {
   "cell_type": "code",
   "execution_count": 2,
   "id": "4176d7c8",
   "metadata": {},
   "outputs": [
    {
     "name": "stdout",
     "output_type": "stream",
     "text": [
      "Results\n",
      "[('p', 'http://www.wikidata.org/prop/direct/P1006'), ('name', 'Nationale Thesaurus voor Auteurs ID')]\n",
      "[('p', 'http://www.wikidata.org/prop/direct/P103'), ('name', 'native language')]\n",
      "[('p', 'http://www.wikidata.org/prop/direct/P106'), ('name', 'occupation')]\n",
      "[('p', 'http://www.wikidata.org/prop/direct/P108'), ('name', 'employer')]\n",
      "[('p', 'http://www.wikidata.org/prop/direct/P1263'), ('name', 'NNDB people ID')]\n",
      "[('p', 'http://www.wikidata.org/prop/direct/P1280'), ('name', 'CONOR.SI ID')]\n",
      "[('p', 'http://www.wikidata.org/prop/direct/P1284'), ('name', 'Munzinger person ID')]\n",
      "[('p', 'http://www.wikidata.org/prop/direct/P1285'), ('name', 'Munzinger Sport number')]\n",
      "[('p', 'http://www.wikidata.org/prop/direct/P1296'), ('name', 'Gran Enciclopèdia Catalana ID')]\n",
      "[('p', 'http://www.wikidata.org/prop/direct/P1343'), ('name', 'described by source')]\n",
      "[('p', 'http://www.wikidata.org/prop/direct/P1344'), ('name', 'participant in')]\n",
      "[('p', 'http://www.wikidata.org/prop/direct/P1352'), ('name', 'ranking')]\n",
      "[('p', 'http://www.wikidata.org/prop/direct/P140'), ('name', 'religion')]\n",
      "[('p', 'http://www.wikidata.org/prop/direct/P1412'), ('name', 'languages spoken, written or signed')]\n",
      "[('p', 'http://www.wikidata.org/prop/direct/P1417'), ('name', 'Encyclopædia Britannica Online ID')]\n",
      "[('p', 'http://www.wikidata.org/prop/direct/P1447'), ('name', 'Sports-Reference.com Olympic athlete ID')]\n",
      "[('p', 'http://www.wikidata.org/prop/direct/P1532'), ('name', 'country for sport')]\n",
      "[('p', 'http://www.wikidata.org/prop/direct/P166'), ('name', 'award received')]\n",
      "[('p', 'http://www.wikidata.org/prop/direct/P1695'), ('name', 'NLP ID (unique)')]\n",
      "[('p', 'http://www.wikidata.org/prop/direct/P1741'), ('name', 'GTAA ID')]\n",
      "20\n"
     ]
    }
   ],
   "source": [
    "# query example\n",
    "queryString = \"\"\"\n",
    "SELECT DISTINCT ?p ?name\n",
    "WHERE {\n",
    "   # bind something\n",
    "   wd:Q1426 ?p ?obj .\n",
    "   # get the label\n",
    "   ?p sc:name ?name.\n",
    "   \n",
    "}\n",
    "LIMIT 20\n",
    "\"\"\"\n",
    "\n",
    "print(\"Results\")\n",
    "x=run_query(queryString)"
   ]
  },
  {
   "cell_type": "code",
   "execution_count": 31,
   "id": "0dd23f2c",
   "metadata": {},
   "outputs": [
    {
     "name": "stdout",
     "output_type": "stream",
     "text": [
      "Results\n",
      "[('p', 'http://www.wikidata.org/prop/direct/P2522'), ('name', 'victory'), ('obj', 'http://www.wikidata.org/entity/Q22956224'), ('objName', \"2017 Australian Open – Men's Singles\")]\n",
      "[('p', 'http://www.wikidata.org/prop/direct/P2522'), ('name', 'victory'), ('obj', 'http://www.wikidata.org/entity/Q612597'), ('objName', '2007 Tennis Masters Cup')]\n",
      "[('p', 'http://www.wikidata.org/prop/direct/P3342'), ('name', 'significant person'), ('obj', 'http://www.wikidata.org/entity/Q54584'), ('objName', 'Andy Roddick')]\n",
      "[('p', 'http://www.wikidata.org/prop/direct/P166'), ('name', 'award received'), ('obj', 'http://www.wikidata.org/entity/Q56509472'), ('objName', 'honorary doctor of the University of Basel')]\n",
      "[('p', 'http://www.wikidata.org/prop/direct/P1344'), ('name', 'participant in'), ('obj', 'http://www.wikidata.org/entity/Q589310'), ('objName', \"tennis at the 2000 Summer Olympics – men's singles\")]\n",
      "[('p', 'http://www.wikidata.org/prop/direct/P6758'), ('name', 'supported sports team'), ('obj', 'http://www.wikidata.org/entity/Q189671'), ('objName', 'FC Basel')]\n",
      "[('p', 'http://www.wikidata.org/prop/direct/P2522'), ('name', 'victory'), ('obj', 'http://www.wikidata.org/entity/Q782589'), ('objName', \"2010 Australian Open – Men's Singles\")]\n",
      "[('p', 'http://www.wikidata.org/prop/direct/P2522'), ('name', 'victory'), ('obj', 'http://www.wikidata.org/entity/Q782420'), ('objName', \"2006 Australian Open – Men's Singles\")]\n",
      "[('p', 'http://www.wikidata.org/prop/direct/P166'), ('name', 'award received'), ('obj', 'http://www.wikidata.org/entity/Q1061233'), ('objName', \"L'Équipe Champion of Champions\")]\n",
      "[('p', 'http://www.wikidata.org/prop/direct/P106'), ('name', 'occupation'), ('obj', 'http://www.wikidata.org/entity/Q10833314'), ('objName', 'tennis player')]\n",
      "[('p', 'http://www.wikidata.org/prop/direct/P741'), ('name', 'playing hand'), ('obj', 'http://www.wikidata.org/entity/Q14420039'), ('objName', 'one-handed backhand')]\n",
      "[('p', 'http://www.wikidata.org/prop/direct/P1412'), ('name', 'languages spoken, written or signed'), ('obj', 'http://www.wikidata.org/entity/Q150'), ('objName', 'French')]\n",
      "[('p', 'http://www.wikidata.org/prop/direct/P1343'), ('name', 'described by source'), ('obj', 'http://www.wikidata.org/entity/Q17290934'), ('objName', 'Lentapedia')]\n",
      "[('p', 'http://www.wikidata.org/prop/direct/P1412'), ('name', 'languages spoken, written or signed'), ('obj', 'http://www.wikidata.org/entity/Q1860'), ('objName', 'English')]\n",
      "[('p', 'http://www.wikidata.org/prop/direct/P103'), ('name', 'native language'), ('obj', 'http://www.wikidata.org/entity/Q188'), ('objName', 'German')]\n",
      "[('p', 'http://www.wikidata.org/prop/direct/P1412'), ('name', 'languages spoken, written or signed'), ('obj', 'http://www.wikidata.org/entity/Q188'), ('objName', 'German')]\n",
      "[('p', 'http://www.wikidata.org/prop/direct/P39'), ('name', 'position held'), ('obj', 'http://www.wikidata.org/entity/Q19969187'), ('objName', 'UNICEF Goodwill Ambassador')]\n",
      "[('p', 'http://www.wikidata.org/prop/direct/P552'), ('name', 'handedness'), ('obj', 'http://www.wikidata.org/entity/Q3039938'), ('objName', 'right-handedness')]\n",
      "[('p', 'http://www.wikidata.org/prop/direct/P1532'), ('name', 'country for sport'), ('obj', 'http://www.wikidata.org/entity/Q39'), ('objName', 'Switzerland')]\n",
      "[('p', 'http://www.wikidata.org/prop/direct/P27'), ('name', 'country of citizenship'), ('obj', 'http://www.wikidata.org/entity/Q39'), ('objName', 'Switzerland')]\n",
      "20\n"
     ]
    }
   ],
   "source": [
    "\n",
    "queryString = \"\"\"\n",
    "SELECT DISTINCT ?p ?name ?obj ?objName\n",
    "WHERE {\n",
    "  \n",
    "   wd:Q1426 ?p ?obj .\n",
    "   \n",
    "   ?p sc:name ?name.\n",
    "    ?obj sc:name ?objName.\n",
    "   \n",
    "}\n",
    "LIMIT 20\n",
    "\"\"\"\n",
    "\n",
    "print(\"Results\")\n",
    "x=run_query(queryString)"
   ]
  },
  {
   "cell_type": "code",
   "execution_count": 34,
   "id": "17ce4b52-5b8d-443a-978d-4549c0e41b29",
   "metadata": {},
   "outputs": [
    {
     "name": "stdout",
     "output_type": "stream",
     "text": [
      "Results\n",
      "[('obj', 'http://www.wikidata.org/entity/Q10833314'), ('objName', 'tennis player')]\n",
      "1\n"
     ]
    }
   ],
   "source": [
    "#Final query for this task\n",
    "# P106 'occupation' \n",
    "queryString = \"\"\"\n",
    "SELECT DISTINCT  ?obj ?objName\n",
    "WHERE {\n",
    "  \n",
    "   wd:Q1426 wdt:P106 ?obj .\n",
    "  \n",
    "   ?obj sc:name ?objName.\n",
    "   \n",
    "}\n",
    "LIMIT 20\n",
    "\"\"\"\n",
    "\n",
    "print(\"Results\")\n",
    "x=run_query(queryString)"
   ]
  },
  {
   "cell_type": "markdown",
   "id": "c2a487c9",
   "metadata": {},
   "source": [
    "## Task 2\n",
    "Identify the BGP for tennis tournament"
   ]
  },
  {
   "cell_type": "code",
   "execution_count": null,
   "id": "9974f50c",
   "metadata": {},
   "outputs": [],
   "source": [
    "# write your queries"
   ]
  },
  {
   "cell_type": "code",
   "execution_count": 3,
   "id": "5951f404-b9ac-49a8-82b0-d958809fa0a4",
   "metadata": {},
   "outputs": [
    {
     "name": "stdout",
     "output_type": "stream",
     "text": [
      "Results\n",
      "[('p', 'http://www.wikidata.org/prop/direct/P2522'), ('name', 'victory'), ('obj', 'http://www.wikidata.org/entity/Q22956224'), ('objName', \"2017 Australian Open – Men's Singles\")]\n",
      "[('p', 'http://www.wikidata.org/prop/direct/P2522'), ('name', 'victory'), ('obj', 'http://www.wikidata.org/entity/Q612597'), ('objName', '2007 Tennis Masters Cup')]\n",
      "[('p', 'http://www.wikidata.org/prop/direct/P3342'), ('name', 'significant person'), ('obj', 'http://www.wikidata.org/entity/Q54584'), ('objName', 'Andy Roddick')]\n",
      "[('p', 'http://www.wikidata.org/prop/direct/P166'), ('name', 'award received'), ('obj', 'http://www.wikidata.org/entity/Q56509472'), ('objName', 'honorary doctor of the University of Basel')]\n",
      "[('p', 'http://www.wikidata.org/prop/direct/P1344'), ('name', 'participant in'), ('obj', 'http://www.wikidata.org/entity/Q589310'), ('objName', \"tennis at the 2000 Summer Olympics – men's singles\")]\n",
      "[('p', 'http://www.wikidata.org/prop/direct/P6758'), ('name', 'supported sports team'), ('obj', 'http://www.wikidata.org/entity/Q189671'), ('objName', 'FC Basel')]\n",
      "[('p', 'http://www.wikidata.org/prop/direct/P2522'), ('name', 'victory'), ('obj', 'http://www.wikidata.org/entity/Q782589'), ('objName', \"2010 Australian Open – Men's Singles\")]\n",
      "[('p', 'http://www.wikidata.org/prop/direct/P2522'), ('name', 'victory'), ('obj', 'http://www.wikidata.org/entity/Q782420'), ('objName', \"2006 Australian Open – Men's Singles\")]\n",
      "[('p', 'http://www.wikidata.org/prop/direct/P166'), ('name', 'award received'), ('obj', 'http://www.wikidata.org/entity/Q1061233'), ('objName', \"L'Équipe Champion of Champions\")]\n",
      "[('p', 'http://www.wikidata.org/prop/direct/P106'), ('name', 'occupation'), ('obj', 'http://www.wikidata.org/entity/Q10833314'), ('objName', 'tennis player')]\n",
      "[('p', 'http://www.wikidata.org/prop/direct/P741'), ('name', 'playing hand'), ('obj', 'http://www.wikidata.org/entity/Q14420039'), ('objName', 'one-handed backhand')]\n",
      "[('p', 'http://www.wikidata.org/prop/direct/P1412'), ('name', 'languages spoken, written or signed'), ('obj', 'http://www.wikidata.org/entity/Q150'), ('objName', 'French')]\n",
      "[('p', 'http://www.wikidata.org/prop/direct/P1343'), ('name', 'described by source'), ('obj', 'http://www.wikidata.org/entity/Q17290934'), ('objName', 'Lentapedia')]\n",
      "[('p', 'http://www.wikidata.org/prop/direct/P1412'), ('name', 'languages spoken, written or signed'), ('obj', 'http://www.wikidata.org/entity/Q1860'), ('objName', 'English')]\n",
      "[('p', 'http://www.wikidata.org/prop/direct/P103'), ('name', 'native language'), ('obj', 'http://www.wikidata.org/entity/Q188'), ('objName', 'German')]\n",
      "[('p', 'http://www.wikidata.org/prop/direct/P1412'), ('name', 'languages spoken, written or signed'), ('obj', 'http://www.wikidata.org/entity/Q188'), ('objName', 'German')]\n",
      "[('p', 'http://www.wikidata.org/prop/direct/P39'), ('name', 'position held'), ('obj', 'http://www.wikidata.org/entity/Q19969187'), ('objName', 'UNICEF Goodwill Ambassador')]\n",
      "[('p', 'http://www.wikidata.org/prop/direct/P552'), ('name', 'handedness'), ('obj', 'http://www.wikidata.org/entity/Q3039938'), ('objName', 'right-handedness')]\n",
      "[('p', 'http://www.wikidata.org/prop/direct/P1532'), ('name', 'country for sport'), ('obj', 'http://www.wikidata.org/entity/Q39'), ('objName', 'Switzerland')]\n",
      "[('p', 'http://www.wikidata.org/prop/direct/P27'), ('name', 'country of citizenship'), ('obj', 'http://www.wikidata.org/entity/Q39'), ('objName', 'Switzerland')]\n",
      "20\n"
     ]
    }
   ],
   "source": [
    "queryString = \"\"\"\n",
    "SELECT DISTINCT ?p ?name ?obj ?objName\n",
    "WHERE {\n",
    "   \n",
    "   wd:Q1426 ?p ?obj .\n",
    "   \n",
    "   ?p sc:name ?name.\n",
    "   ?obj sc:name ?objName.\n",
    "}\n",
    "LIMIT 20\n",
    "\"\"\"\n",
    "\n",
    "print(\"Results\")\n",
    "x=run_query(queryString)"
   ]
  },
  {
   "cell_type": "code",
   "execution_count": 6,
   "id": "64f99497-a09d-445c-b00c-0285e9128ad4",
   "metadata": {},
   "outputs": [
    {
     "name": "stdout",
     "output_type": "stream",
     "text": [
      "Results\n",
      "[('p', 'http://www.wikidata.org/prop/direct/P361'), ('name', 'part of'), ('obj', 'http://www.wikidata.org/entity/Q22077628'), ('objName', '2017 Australian Open')]\n",
      "[('p', 'http://www.wikidata.org/prop/direct/P17'), ('name', 'country'), ('obj', 'http://www.wikidata.org/entity/Q408'), ('objName', 'Australia')]\n",
      "[('p', 'http://www.wikidata.org/prop/direct/P641'), ('name', 'sport'), ('obj', 'http://www.wikidata.org/entity/Q847'), ('objName', 'tennis')]\n",
      "[('p', 'http://www.wikidata.org/prop/direct/P1346'), ('name', 'winner'), ('obj', 'http://www.wikidata.org/entity/Q1426'), ('objName', 'Roger Federer')]\n",
      "[('p', 'http://www.wikidata.org/prop/direct/P2094'), ('name', 'competition class'), ('obj', 'http://www.wikidata.org/entity/Q16893072'), ('objName', \"men's singles\")]\n",
      "[('p', 'http://www.wikidata.org/prop/direct/P31'), ('name', 'instance of'), ('obj', 'http://www.wikidata.org/entity/Q46190676'), ('objName', 'tennis event')]\n",
      "6\n"
     ]
    }
   ],
   "source": [
    "# from P2522 = 'victory' Q22956224 = \"2017 Australian Open – Men's Singles\"\n",
    "\n",
    "queryString = \"\"\"\n",
    "SELECT DISTINCT ?p ?name ?obj ?objName\n",
    "WHERE {\n",
    "   \n",
    "   wd:Q22956224 ?p ?obj.\n",
    "   \n",
    "   ?p sc:name ?name.\n",
    "   ?obj sc:name ?objName.\n",
    "}\n",
    "LIMIT 20\n",
    "\"\"\"\n",
    "\n",
    "print(\"Results\")\n",
    "x=run_query(queryString)\n"
   ]
  },
  {
   "cell_type": "code",
   "execution_count": 7,
   "id": "07239686-5a35-42b4-b8f7-80eb3ccd5218",
   "metadata": {},
   "outputs": [
    {
     "name": "stdout",
     "output_type": "stream",
     "text": [
      "Results\n",
      "[('p', 'http://www.wikidata.org/prop/direct/P2670'), ('name', 'has parts of the class'), ('obj', 'http://www.wikidata.org/entity/Q21170330'), ('objName', 'tennis qualification event')]\n",
      "[('p', 'http://www.wikidata.org/prop/direct/P1963'), ('name', 'properties for this type'), ('obj', 'http://www.wikidata.org/entity/P361'), ('objName', 'part of')]\n",
      "[('p', 'http://www.wikidata.org/prop/direct/P279'), ('name', 'subclass of'), ('obj', 'http://www.wikidata.org/entity/Q16510064'), ('objName', 'sporting event')]\n",
      "[('p', 'http://www.wikidata.org/prop/direct/P641'), ('name', 'sport'), ('obj', 'http://www.wikidata.org/entity/Q847'), ('objName', 'tennis')]\n",
      "[('p', 'http://www.wikidata.org/prop/direct/P1963'), ('name', 'properties for this type'), ('obj', 'http://www.wikidata.org/entity/P641'), ('objName', 'sport')]\n",
      "[('p', 'http://www.wikidata.org/prop/direct/P361'), ('name', 'part of'), ('obj', 'http://www.wikidata.org/entity/Q47345468'), ('objName', 'tennis tournament edition')]\n",
      "[('p', 'http://www.wikidata.org/prop/direct/P1963'), ('name', 'properties for this type'), ('obj', 'http://www.wikidata.org/entity/P1346'), ('objName', 'winner')]\n",
      "[('p', 'http://www.wikidata.org/prop/direct/P1963'), ('name', 'properties for this type'), ('obj', 'http://www.wikidata.org/entity/P710'), ('objName', 'participant')]\n",
      "[('p', 'http://www.wikidata.org/prop/direct/P1963'), ('name', 'properties for this type'), ('obj', 'http://www.wikidata.org/entity/P2094'), ('objName', 'competition class')]\n",
      "[('p', 'http://www.wikidata.org/prop/direct/P2670'), ('name', 'has parts of the class'), ('obj', 'http://www.wikidata.org/entity/Q47459169'), ('objName', 'tennis match')]\n",
      "[('p', 'http://www.wikidata.org/prop/direct/P1552'), ('name', 'has quality'), ('obj', 'http://www.wikidata.org/entity/Q1967745'), ('objName', 'type of tennis match')]\n",
      "11\n"
     ]
    }
   ],
   "source": [
    "# Q46190676 'tennis event'\n",
    "queryString = \"\"\"\n",
    "SELECT DISTINCT ?p ?name ?obj ?objName\n",
    "WHERE {\n",
    "   \n",
    "   wd:Q46190676 ?p ?obj.\n",
    "   \n",
    "   ?p sc:name ?name.\n",
    "   ?obj sc:name ?objName.\n",
    "}\n",
    "LIMIT 20\n",
    "\"\"\"\n",
    "\n",
    "print(\"Results\")\n",
    "x=run_query(queryString)"
   ]
  },
  {
   "cell_type": "markdown",
   "id": "7aabf549",
   "metadata": {},
   "source": [
    "Final query for this task"
   ]
  },
  {
   "cell_type": "code",
   "execution_count": 10,
   "id": "18f15238",
   "metadata": {},
   "outputs": [
    {
     "name": "stdout",
     "output_type": "stream",
     "text": [
      "Results\n",
      "[('tournament', 'http://www.wikidata.org/entity/Q1177995'), ('tournamentName', '1982 Davis Cup')]\n",
      "[('tournament', 'http://www.wikidata.org/entity/Q1178014'), ('tournamentName', '1985 Davis Cup')]\n",
      "[('tournament', 'http://www.wikidata.org/entity/Q1364742'), ('tournamentName', '2007 Tennis Channel Open')]\n",
      "[('tournament', 'http://www.wikidata.org/entity/Q1507711'), ('tournamentName', '2010 Heineken Open')]\n",
      "[('tournament', 'http://www.wikidata.org/entity/Q1508586'), ('tournamentName', '2011 Regions Morgan Keegan Championships and the Cellular South Cup')]\n",
      "[('tournament', 'http://www.wikidata.org/entity/Q1520782'), ('tournamentName', '2000 Majorca Open')]\n",
      "[('tournament', 'http://www.wikidata.org/entity/Q1596076'), ('tournamentName', '2012 Heineken Open')]\n",
      "[('tournament', 'http://www.wikidata.org/entity/Q1644643'), ('tournamentName', '2006 Brasil Open')]\n",
      "[('tournament', 'http://www.wikidata.org/entity/Q1761880'), ('tournamentName', '2007 Open de Tenis Comunidad Valenciana')]\n",
      "[('tournament', 'http://www.wikidata.org/entity/Q1835289'), ('tournamentName', '2006 Mutua Madrileña Masters Madrid')]\n",
      "[('tournament', 'http://www.wikidata.org/entity/Q1957372'), ('tournamentName', '2010 Abierto Mexicano Telcel')]\n",
      "[('tournament', 'http://www.wikidata.org/entity/Q2296019'), ('tournamentName', '2008 Brasil Open')]\n",
      "[('tournament', 'http://www.wikidata.org/entity/Q2322009'), ('tournamentName', '1995 ABN AMRO World Tennis Tournament')]\n",
      "[('tournament', 'http://www.wikidata.org/entity/Q2403764'), ('tournamentName', '2007 St. Petersburg Open')]\n",
      "[('tournament', 'http://www.wikidata.org/entity/Q2551085'), ('tournamentName', \"2008 Queen's Club Championships\")]\n",
      "[('tournament', 'http://www.wikidata.org/entity/Q2686578'), ('tournamentName', '1976 Davis Cup')]\n",
      "[('tournament', 'http://www.wikidata.org/entity/Q2688598'), ('tournamentName', '2008 Croatia Open Umag')]\n",
      "[('tournament', 'http://www.wikidata.org/entity/Q268871'), ('tournamentName', '2004 Wimbledon Championships')]\n",
      "[('tournament', 'http://www.wikidata.org/entity/Q282753'), ('tournamentName', '2006 Open de Tenis Comunidad Valenciana')]\n",
      "[('tournament', 'http://www.wikidata.org/entity/Q304420'), ('tournamentName', '1989 Davis Cup')]\n",
      "20\n"
     ]
    }
   ],
   "source": [
    "# Q47345468 'tennis tournament'\n",
    "queryString = \"\"\"\n",
    "SELECT DISTINCT ?tournament ?tournamentName\n",
    "WHERE {\n",
    "   \n",
    "    ?tournament ?p wd:Q47345468.\n",
    "   \n",
    "   ?p sc:name ?name.\n",
    "   ?tournament sc:name ?tournamentName.\n",
    "}\n",
    "LIMIT 20\n",
    "\"\"\"\n",
    "\n",
    "print(\"Results\")\n",
    "x=run_query(queryString)"
   ]
  },
  {
   "cell_type": "markdown",
   "id": "4722adba",
   "metadata": {},
   "source": [
    "## Task 3\n",
    "Return the four Grand Slam of tennis (hint: One of these four is Wimbledon) (the result set must be a list of four couples Grand Slam IRI and label)."
   ]
  },
  {
   "cell_type": "code",
   "execution_count": 18,
   "id": "ef8c3a26",
   "metadata": {},
   "outputs": [
    {
     "name": "stdout",
     "output_type": "stream",
     "text": [
      "Results\n",
      "[('p', 'http://www.wikidata.org/prop/direct/P910'), ('name', \"topic's main category\"), ('obj', 'http://www.wikidata.org/entity/Q8188255'), ('objName', 'Category:2004 Wimbledon Championships')]\n",
      "[('p', 'http://www.wikidata.org/prop/direct/P17'), ('name', 'country'), ('obj', 'http://www.wikidata.org/entity/Q145'), ('objName', 'United Kingdom')]\n",
      "[('p', 'http://www.wikidata.org/prop/direct/P641'), ('name', 'sport'), ('obj', 'http://www.wikidata.org/entity/Q847'), ('objName', 'tennis')]\n",
      "[('p', 'http://www.wikidata.org/prop/direct/P31'), ('name', 'instance of'), ('obj', 'http://www.wikidata.org/entity/Q47345468'), ('objName', 'tennis tournament edition')]\n",
      "[('p', 'http://www.wikidata.org/prop/direct/P31'), ('name', 'instance of'), ('obj', 'http://www.wikidata.org/entity/Q41520'), ('objName', 'Wimbledon Championships')]\n",
      "[('p', 'http://www.wikidata.org/prop/direct/P156'), ('name', 'followed by'), ('obj', 'http://www.wikidata.org/entity/Q746693'), ('objName', '2005 Wimbledon Championships')]\n",
      "[('p', 'http://www.wikidata.org/prop/direct/P155'), ('name', 'follows'), ('obj', 'http://www.wikidata.org/entity/Q832484'), ('objName', '2003 Wimbledon Championships')]\n",
      "[('p', 'http://www.wikidata.org/prop/direct/P527'), ('name', 'has part'), ('obj', 'http://www.wikidata.org/entity/Q248965'), ('objName', \"2004 Wimbledon Championships – Men's Singles\")]\n",
      "[('p', 'http://www.wikidata.org/prop/direct/P527'), ('name', 'has part'), ('obj', 'http://www.wikidata.org/entity/Q3994898'), ('objName', \"2004 Wimbledon Championships – Men's Doubles\")]\n",
      "[('p', 'http://www.wikidata.org/prop/direct/P527'), ('name', 'has part'), ('obj', 'http://www.wikidata.org/entity/Q1575133'), ('objName', \"2004 Wimbledon Championships – Women's Doubles\")]\n",
      "[('p', 'http://www.wikidata.org/prop/direct/P527'), ('name', 'has part'), ('obj', 'http://www.wikidata.org/entity/Q378546'), ('objName', \"2004 Wimbledon Championships – Women's Singles\")]\n",
      "[('p', 'http://www.wikidata.org/prop/direct/P527'), ('name', 'has part'), ('obj', 'http://www.wikidata.org/entity/Q388810'), ('objName', '2004 Wimbledon Championships - Mixed Doubles')]\n",
      "[('p', 'http://www.wikidata.org/prop/direct/P6880'), ('name', 'ATP tennis tournament edition ID'), ('obj', 'wimbledon/540/2004/results')]\n",
      "[('p', 'http://www.wikidata.org/prop/direct/P2581'), ('name', 'BabelNet ID'), ('obj', '01229766n')]\n",
      "[('p', 'http://www.wikidata.org/prop/direct/P373'), ('name', 'Commons category'), ('obj', '2004 Wimbledon Championships')]\n",
      "[('p', 'http://www.wikidata.org/prop/direct/P393'), ('name', 'edition number'), ('obj', '118')]\n",
      "[('p', 'http://www.wikidata.org/prop/direct/P580'), ('name', 'start time'), ('obj', '2004-06-21T00:00:00Z')]\n",
      "[('p', 'http://www.wikidata.org/prop/direct/P582'), ('name', 'end time'), ('obj', '2004-07-04T00:00:00Z')]\n",
      "[('p', 'http://www.wikidata.org/prop/direct/P585'), ('name', 'point in time'), ('obj', '2004-01-01T00:00:00Z')]\n",
      "[('p', 'http://www.wikidata.org/prop/direct/P646'), ('name', 'Freebase ID'), ('obj', '/m/0692fq')]\n",
      "[('p', 'http://www.wikidata.org/prop/direct/P856'), ('name', 'official website'), ('obj', 'http://www.wimbledon.org/en_GB/index.html')]\n",
      "21\n"
     ]
    }
   ],
   "source": [
    "# Q268871  '2004 Wimbledon Championships' \n",
    "queryString = \"\"\"\n",
    "SELECT DISTINCT ?p ?name ?obj ?objName\n",
    "WHERE { \n",
    "    wd:Q268871 ?p ?obj.\n",
    "   \n",
    "   ?p sc:name ?name.\n",
    "   optional {?obj sc:name ?objName.}\n",
    "    \n",
    "}\n",
    "LIMIT 50\n",
    "\"\"\"\n",
    "\n",
    "print(\"Results\")\n",
    "x=run_query(queryString)"
   ]
  },
  {
   "cell_type": "markdown",
   "id": "0e05205b",
   "metadata": {},
   "source": [
    "Final query for this task"
   ]
  },
  {
   "cell_type": "code",
   "execution_count": 21,
   "id": "e3f3a8b3",
   "metadata": {},
   "outputs": [
    {
     "name": "stdout",
     "output_type": "stream",
     "text": [
      "Results\n",
      "[('p', 'http://www.wikidata.org/entity/Q746693'), ('name', '2005 Wimbledon Championships'), ('obj', 'http://www.wikidata.org/prop/direct/P155'), ('objName', 'follows')]\n",
      "[('p', 'http://www.wikidata.org/entity/Q832484'), ('name', '2003 Wimbledon Championships'), ('obj', 'http://www.wikidata.org/prop/direct/P156'), ('objName', 'followed by')]\n",
      "[('p', 'http://www.wikidata.org/entity/Q8188255'), ('name', 'Category:2004 Wimbledon Championships'), ('obj', 'http://www.wikidata.org/prop/direct/P301'), ('objName', \"category's main topic\")]\n",
      "[('p', 'http://www.wikidata.org/entity/Q388810'), ('name', '2004 Wimbledon Championships - Mixed Doubles'), ('obj', 'http://www.wikidata.org/prop/direct/P361'), ('objName', 'part of')]\n",
      "[('p', 'http://www.wikidata.org/entity/Q3994898'), ('name', \"2004 Wimbledon Championships – Men's Doubles\"), ('obj', 'http://www.wikidata.org/prop/direct/P361'), ('objName', 'part of')]\n",
      "[('p', 'http://www.wikidata.org/entity/Q20656705'), ('name', \"2004 Wimbledon Championships – Men's Singles Qualifying\"), ('obj', 'http://www.wikidata.org/prop/direct/P361'), ('objName', 'part of')]\n",
      "[('p', 'http://www.wikidata.org/entity/Q15854760'), ('name', \"2004 Wimbledon Championships – Women's Singles Qualifying\"), ('obj', 'http://www.wikidata.org/prop/direct/P361'), ('objName', 'part of')]\n",
      "[('p', 'http://www.wikidata.org/entity/Q22097726'), ('name', \"2004 Wimbledon Championships – Men's Doubles Qualifying\"), ('obj', 'http://www.wikidata.org/prop/direct/P361'), ('objName', 'part of')]\n",
      "[('p', 'http://www.wikidata.org/entity/Q28448918'), ('name', \"2004 Wimbledon Championships – Girls' Singles\"), ('obj', 'http://www.wikidata.org/prop/direct/P361'), ('objName', 'part of')]\n",
      "[('p', 'http://www.wikidata.org/entity/Q1575133'), ('name', \"2004 Wimbledon Championships – Women's Doubles\"), ('obj', 'http://www.wikidata.org/prop/direct/P361'), ('objName', 'part of')]\n",
      "[('p', 'http://www.wikidata.org/entity/Q15854759'), ('name', \"2004 Wimbledon Championships – Women's Doubles Qualifying\"), ('obj', 'http://www.wikidata.org/prop/direct/P361'), ('objName', 'part of')]\n",
      "[('p', 'http://www.wikidata.org/entity/Q248965'), ('name', \"2004 Wimbledon Championships – Men's Singles\"), ('obj', 'http://www.wikidata.org/prop/direct/P361'), ('objName', 'part of')]\n",
      "[('p', 'http://www.wikidata.org/entity/Q378546'), ('name', \"2004 Wimbledon Championships – Women's Singles\"), ('obj', 'http://www.wikidata.org/prop/direct/P361'), ('objName', 'part of')]\n",
      "13\n"
     ]
    }
   ],
   "source": [
    "# Q268871  '2004 Wimbledon Championships' \n",
    "queryString = \"\"\"\n",
    "SELECT DISTINCT ?p ?name ?obj ?objName\n",
    "WHERE { \n",
    "   ?p ?obj wd:Q268871.\n",
    "   \n",
    "   ?p sc:name ?name.\n",
    "   optional {?obj sc:name ?objName.}\n",
    "    \n",
    "}\n",
    "LIMIT 50\n",
    "\"\"\"\n",
    "\n",
    "print(\"Results\")\n",
    "x=run_query(queryString)"
   ]
  },
  {
   "cell_type": "code",
   "execution_count": 27,
   "id": "320466f4-47c3-431d-a31d-92da5c7880bf",
   "metadata": {},
   "outputs": [
    {
     "name": "stdout",
     "output_type": "stream",
     "text": [
      "Results\n",
      "[('p', 'http://www.wikidata.org/entity/Q102113'), ('name', 'Grand Slam of tennis'), ('obj', 'http://www.wikidata.org/prop/direct/P527'), ('objName', 'has part')]\n",
      "1\n"
     ]
    }
   ],
   "source": [
    "#Now try 'Q41520 Wimbledon Championships' \n",
    "\n",
    "queryString = \"\"\"\n",
    "SELECT DISTINCT ?p ?name ?obj ?objName\n",
    "WHERE { \n",
    "   ?p ?obj wd:Q41520.\n",
    "   \n",
    "   ?p sc:name ?name.\n",
    "   optional {?obj sc:name ?objName.}\n",
    "   filter regex(?name, \"Grand Slam\")\n",
    "    \n",
    "}\n",
    "LIMIT 50\n",
    "\"\"\"\n",
    "\n",
    "print(\"Results\")\n",
    "x=run_query(queryString)"
   ]
  },
  {
   "cell_type": "code",
   "execution_count": 44,
   "id": "74c6fb23-d99d-4019-832e-0b7ce201477a",
   "metadata": {},
   "outputs": [
    {
     "name": "stdout",
     "output_type": "stream",
     "text": [
      "Results\n",
      "[('GrandSlam', 'http://www.wikidata.org/entity/Q2223649'), ('GrandSlamName', 'French cheese')]\n",
      "[('GrandSlam', 'http://www.wikidata.org/entity/Q123577'), ('GrandSlamName', 'US Open')]\n",
      "[('GrandSlam', 'http://www.wikidata.org/entity/Q41520'), ('GrandSlamName', 'Wimbledon Championships')]\n",
      "[('GrandSlam', 'http://www.wikidata.org/entity/Q60874'), ('GrandSlamName', 'Australian Open')]\n",
      "4\n"
     ]
    }
   ],
   "source": [
    "#Q102113  'Grand Slam of tennis' P527  'has part' \n",
    "queryString = \"\"\"\n",
    "SELECT DISTINCT ?GrandSlam ?GrandSlamName\n",
    "WHERE { \n",
    "   wd:Q102113 wdt:P527 ?GrandSlam.\n",
    "   \n",
    "   ?GrandSlam sc:name ?GrandSlamName.\n",
    "    \n",
    "}\n",
    "LIMIT 50\n",
    "\"\"\"\n",
    "\n",
    "print(\"Results\")\n",
    "x=run_query(queryString)"
   ]
  },
  {
   "cell_type": "markdown",
   "id": "6cd1fa1a-e8ee-43ef-bf55-73e33686262a",
   "metadata": {},
   "source": [
    "the Q2223649  'French cheese' is WRONG, so try in other way"
   ]
  },
  {
   "cell_type": "code",
   "execution_count": 45,
   "id": "a8a31381-5c58-4ef3-9ea1-a8a4da67809c",
   "metadata": {},
   "outputs": [
    {
     "name": "stdout",
     "output_type": "stream",
     "text": [
      "Results\n",
      "[('GrandSlam', 'http://www.wikidata.org/entity/Q5851433'), ('GrandSlamName', 'Template:Infobox GrandSlamTournaments'), ('p', 'http://www.wikidata.org/prop/direct/P1423'), ('name', 'template has topic')]\n",
      "[('GrandSlam', 'http://www.wikidata.org/entity/Q105868'), ('GrandSlamName', 'Gabriela Sabatini'), ('p', 'http://www.wikidata.org/prop/direct/P2522'), ('name', 'victory')]\n",
      "[('GrandSlam', 'http://www.wikidata.org/entity/Q105838'), ('GrandSlamName', 'Marion Bartoli'), ('p', 'http://www.wikidata.org/prop/direct/P2522'), ('name', 'victory')]\n",
      "[('GrandSlam', 'http://www.wikidata.org/entity/Q11300305'), ('GrandSlamName', 'Grand Slam'), ('p', 'http://www.wikidata.org/prop/direct/P279'), ('name', 'subclass of')]\n",
      "[('GrandSlam', 'http://www.wikidata.org/entity/Q18156144'), ('GrandSlamName', 'Category:Grand Slam (tennis)'), ('p', 'http://www.wikidata.org/prop/direct/P301'), ('name', \"category's main topic\")]\n",
      "[('GrandSlam', 'http://www.wikidata.org/entity/Q41520'), ('GrandSlamName', 'Wimbledon Championships'), ('p', 'http://www.wikidata.org/prop/direct/P361'), ('name', 'part of')]\n",
      "[('GrandSlam', 'http://www.wikidata.org/entity/Q43605'), ('GrandSlamName', 'French Open'), ('p', 'http://www.wikidata.org/prop/direct/P361'), ('name', 'part of')]\n",
      "[('GrandSlam', 'http://www.wikidata.org/entity/Q123577'), ('GrandSlamName', 'US Open'), ('p', 'http://www.wikidata.org/prop/direct/P361'), ('name', 'part of')]\n",
      "[('GrandSlam', 'http://www.wikidata.org/entity/Q60874'), ('GrandSlamName', 'Australian Open'), ('p', 'http://www.wikidata.org/prop/direct/P361'), ('name', 'part of')]\n",
      "[('GrandSlam', 'http://www.wikidata.org/entity/Q5326520'), ('GrandSlamName', 'Category:Grand Slam (tennis) tournaments'), ('p', 'http://www.wikidata.org/prop/direct/P971'), ('name', 'category combines topics')]\n",
      "[('GrandSlam', 'http://www.wikidata.org/entity/Q8498724'), ('GrandSlamName', 'Category:Grand Slam (tennis) tournaments navigational boxes'), ('p', 'http://www.wikidata.org/prop/direct/P971'), ('name', 'category combines topics')]\n",
      "11\n"
     ]
    }
   ],
   "source": [
    "#Q102113  'Grand Slam of tennis' P527  'has part' \n",
    "queryString = \"\"\"\n",
    "SELECT DISTINCT ?GrandSlam ?GrandSlamName ?p ?name\n",
    "WHERE { \n",
    "    ?GrandSlam ?p wd:Q102113.\n",
    "   \n",
    "   ?GrandSlam sc:name ?GrandSlamName.\n",
    "   ?p sc:name ?name.\n",
    "    \n",
    "}\n",
    "LIMIT 50\n",
    "\"\"\"\n",
    "\n",
    "print(\"Results\")\n",
    "x=run_query(queryString)"
   ]
  },
  {
   "cell_type": "code",
   "execution_count": 46,
   "id": "19770a3d-bdc3-43f5-a69b-f7d4055b5c56",
   "metadata": {},
   "outputs": [
    {
     "name": "stdout",
     "output_type": "stream",
     "text": [
      "Results\n",
      "[('GrandSlam', 'http://www.wikidata.org/entity/Q43605'), ('GrandSlamName', 'French Open')]\n",
      "[('GrandSlam', 'http://www.wikidata.org/entity/Q123577'), ('GrandSlamName', 'US Open')]\n",
      "[('GrandSlam', 'http://www.wikidata.org/entity/Q41520'), ('GrandSlamName', 'Wimbledon Championships')]\n",
      "[('GrandSlam', 'http://www.wikidata.org/entity/Q60874'), ('GrandSlamName', 'Australian Open')]\n",
      "4\n"
     ]
    }
   ],
   "source": [
    "# final Query\n",
    "# P361 part of'\n",
    "#Final query for this task\n",
    "#Q102113  'Grand Slam of tennis' P527  'has part' \n",
    "queryString = \"\"\"\n",
    "SELECT DISTINCT ?GrandSlam ?GrandSlamName\n",
    "WHERE { \n",
    "    ?GrandSlam wdt:P361 wd:Q102113.\n",
    "   \n",
    "   ?GrandSlam sc:name ?GrandSlamName.\n",
    "   \n",
    "    \n",
    "}\n",
    "LIMIT 50\n",
    "\"\"\"\n",
    "\n",
    "print(\"Results\")\n",
    "x=run_query(queryString)"
   ]
  },
  {
   "cell_type": "markdown",
   "id": "9b4a23d2",
   "metadata": {},
   "source": [
    "## Task 4\n",
    "Find the three different type of possible surfaces in a tennis court (the result set must be a list of three couples surface IRI and label)."
   ]
  },
  {
   "cell_type": "code",
   "execution_count": 7,
   "id": "d3a71254",
   "metadata": {
    "collapsed": true,
    "jupyter": {
     "outputs_hidden": true
    },
    "tags": []
   },
   "outputs": [
    {
     "name": "stdout",
     "output_type": "stream",
     "text": [
      "Results\n",
      "[('p', 'http://www.wikidata.org/prop/direct/P2283'), ('name', 'uses'), ('obj', 'http://www.wikidata.org/entity/Q741118'), ('objName', 'tennis court')]\n",
      "1\n"
     ]
    }
   ],
   "source": [
    "# Q847 'tennis'\n",
    "queryString = \"\"\"\n",
    "SELECT DISTINCT ?p ?name ?obj ?objName\n",
    "WHERE {\n",
    "   \n",
    "   wd:Q847 ?p ?obj .\n",
    "   \n",
    "   ?p sc:name ?name.\n",
    "   ?obj sc:name ?objName.\n",
    "   filter regex(?objName, \"court\").\n",
    "   \n",
    "}\n",
    "LIMIT 50\n",
    "\"\"\"\n",
    "\n",
    "print(\"Results\")\n",
    "x=run_query(queryString)"
   ]
  },
  {
   "cell_type": "code",
   "execution_count": 10,
   "id": "b7dc1447-47f3-4ff4-9659-8205b2856d9b",
   "metadata": {
    "collapsed": true,
    "jupyter": {
     "outputs_hidden": true
    },
    "tags": []
   },
   "outputs": [
    {
     "name": "stdout",
     "output_type": "stream",
     "text": [
      "Results\n",
      "[('p', 'http://www.wikidata.org/prop/direct/P1535'), ('name', 'used by'), ('obj', 'http://www.wikidata.org/entity/Q847'), ('objName', 'tennis')]\n",
      "[('p', 'http://www.wikidata.org/prop/direct/P641'), ('name', 'sport'), ('obj', 'http://www.wikidata.org/entity/Q847'), ('objName', 'tennis')]\n",
      "[('p', 'http://www.wikidata.org/prop/direct/P2670'), ('name', 'has parts of the class'), ('obj', 'http://www.wikidata.org/entity/Q47677460'), ('objName', 'tennis playing surface')]\n",
      "[('p', 'http://www.wikidata.org/prop/direct/P279'), ('name', 'subclass of'), ('obj', 'http://www.wikidata.org/entity/Q2310214'), ('objName', 'pitch')]\n",
      "[('p', 'http://www.wikidata.org/prop/direct/P1535'), ('name', 'used by'), ('obj', 'http://www.wikidata.org/entity/Q1153025'), ('objName', 'wheelchair tennis')]\n",
      "[('p', 'http://www.wikidata.org/prop/direct/P2670'), ('name', 'has parts of the class'), ('obj', 'http://www.wikidata.org/entity/Q48291351'), ('objName', 'facet of tennis playing area')]\n",
      "[('p', 'http://www.wikidata.org/prop/direct/P1552'), ('name', 'has quality'), ('obj', 'http://www.wikidata.org/entity/Q48308960'), ('objName', 'court pace')]\n",
      "[('p', 'http://www.wikidata.org/prop/direct/P2670'), ('name', 'has parts of the class'), ('obj', 'http://www.wikidata.org/entity/Q4839569'), ('objName', 'backboard')]\n",
      "[('p', 'http://www.wikidata.org/prop/direct/P910'), ('name', \"topic's main category\"), ('obj', 'http://www.wikidata.org/entity/Q8843413'), ('objName', 'Category:Tennis venues')]\n",
      "9\n"
     ]
    }
   ],
   "source": [
    "#Q741118 'tennis court'\n",
    "queryString = \"\"\"\n",
    "SELECT DISTINCT ?p ?name ?obj ?objName\n",
    "WHERE {\n",
    "   \n",
    "   wd:Q741118 ?p ?obj .\n",
    "   \n",
    "   ?p sc:name ?name.\n",
    "   ?obj sc:name ?objName.\n",
    "   \n",
    "   \n",
    "}\n",
    "LIMIT 50\n",
    "\"\"\"\n",
    "\n",
    "print(\"Results\")\n",
    "x=run_query(queryString)"
   ]
  },
  {
   "cell_type": "code",
   "execution_count": 11,
   "id": "0efc2452-7069-47c3-bb08-642c123233d1",
   "metadata": {
    "collapsed": true,
    "jupyter": {
     "outputs_hidden": true
    },
    "tags": []
   },
   "outputs": [
    {
     "name": "stdout",
     "output_type": "stream",
     "text": [
      "Results\n",
      "[('p', 'http://www.wikidata.org/prop/direct/P641'), ('name', 'sport'), ('obj', 'http://www.wikidata.org/entity/Q847'), ('objName', 'tennis')]\n",
      "[('p', 'http://www.wikidata.org/prop/direct/P361'), ('name', 'part of'), ('obj', 'http://www.wikidata.org/entity/Q741118'), ('objName', 'tennis court')]\n",
      "[('p', 'http://www.wikidata.org/prop/direct/P279'), ('name', 'subclass of'), ('obj', 'http://www.wikidata.org/entity/Q28840755'), ('objName', 'surface')]\n",
      "[('p', 'http://www.wikidata.org/prop/direct/P910'), ('name', \"topic's main category\"), ('obj', 'http://www.wikidata.org/entity/Q8842773'), ('objName', 'Category:Tennis court surfaces')]\n",
      "[('p', 'http://www.wikidata.org/prop/direct/P1687'), ('name', 'Wikidata property'), ('obj', 'http://www.wikidata.org/entity/P765'), ('objName', 'surface played on')]\n",
      "5\n"
     ]
    }
   ],
   "source": [
    "#  Q47677460  'tennis playing surface'\n",
    "queryString = \"\"\"\n",
    "SELECT DISTINCT ?p ?name ?obj ?objName\n",
    "WHERE {\n",
    "   \n",
    "   wd:Q47677460 ?p ?obj .\n",
    "   \n",
    "   ?p sc:name ?name.\n",
    "   ?obj sc:name ?objName.\n",
    "   \n",
    "   \n",
    "}\n",
    "LIMIT 50\n",
    "\"\"\"\n",
    "\n",
    "print(\"Results\")\n",
    "x=run_query(queryString)"
   ]
  },
  {
   "cell_type": "code",
   "execution_count": 12,
   "id": "9353ad58-7a59-4940-b0ed-e75102479e65",
   "metadata": {
    "collapsed": true,
    "jupyter": {
     "outputs_hidden": true
    },
    "tags": []
   },
   "outputs": [
    {
     "name": "stdout",
     "output_type": "stream",
     "text": [
      "Results\n",
      "[('p', 'http://www.wikidata.org/prop/direct/P1855'), ('name', 'Wikidata property example'), ('obj', 'http://www.wikidata.org/entity/Q1613027'), ('objName', 'Stade Roland-Garros')]\n",
      "[('p', 'http://www.wikidata.org/prop/direct/P1855'), ('name', 'Wikidata property example'), ('obj', 'http://www.wikidata.org/entity/Q119882'), ('objName', 'Palazzo dello Sport')]\n",
      "[('p', 'http://www.wikidata.org/prop/direct/P1855'), ('name', 'Wikidata property example'), ('obj', 'http://www.wikidata.org/entity/Q41520'), ('objName', 'Wimbledon Championships')]\n",
      "[('p', 'http://www.wikidata.org/prop/direct/P1629'), ('name', 'Wikidata item of this property'), ('obj', 'http://www.wikidata.org/entity/Q47677460'), ('objName', 'tennis playing surface')]\n",
      "[('p', 'http://www.wikidata.org/prop/direct/P2302'), ('name', 'property constraint'), ('obj', 'http://www.wikidata.org/entity/Q21503250'), ('objName', 'type constraint')]\n",
      "[('p', 'http://www.wikidata.org/prop/direct/P2302'), ('name', 'property constraint'), ('obj', 'http://www.wikidata.org/entity/Q53869507'), ('objName', 'property scope constraint')]\n",
      "[('p', 'http://www.wikidata.org/prop/direct/P2302'), ('name', 'property constraint'), ('obj', 'http://www.wikidata.org/entity/Q21510859'), ('objName', 'one-of constraint')]\n",
      "[('p', 'http://www.wikidata.org/prop/direct/P31'), ('name', 'instance of'), ('obj', 'http://www.wikidata.org/entity/Q28106586'), ('objName', 'Wikidata property related to sport events')]\n",
      "[('p', 'http://www.wikidata.org/prop/direct/P31'), ('name', 'instance of'), ('obj', 'http://www.wikidata.org/entity/Q28106485'), ('objName', 'Wikidata property related to sport facilities')]\n",
      "[('p', 'http://www.wikidata.org/prop/direct/P2875'), ('name', 'property usage tracking category'), ('obj', 'http://www.wikidata.org/entity/Q23909057'), ('objName', 'Category:Pages using Wikidata property P765')]\n",
      "10\n"
     ]
    }
   ],
   "source": [
    "#P765  'surface played on'\n",
    "queryString = \"\"\"\n",
    "SELECT DISTINCT ?p ?name ?obj ?objName\n",
    "WHERE {\n",
    "   \n",
    "   wd:P765 ?p ?obj .\n",
    "   \n",
    "   ?p sc:name ?name.\n",
    "   ?obj sc:name ?objName.\n",
    "   \n",
    "   \n",
    "}\n",
    "LIMIT 50\n",
    "\"\"\"\n",
    "\n",
    "print(\"Results\")\n",
    "x=run_query(queryString)"
   ]
  },
  {
   "cell_type": "code",
   "execution_count": 15,
   "id": "2e5c01fc-b1c1-4ff1-ab9b-f3c510a94870",
   "metadata": {
    "collapsed": true,
    "jupyter": {
     "outputs_hidden": true
    },
    "tags": []
   },
   "outputs": [
    {
     "name": "stdout",
     "output_type": "stream",
     "text": [
      "Results\n",
      "[('p', 'http://www.wikidata.org/prop/direct/P84'), ('name', 'architect'), ('obj', 'http://www.wikidata.org/entity/Q1382978'), ('objName', 'Marcello Piacentini')]\n",
      "[('p', 'http://www.wikidata.org/prop/direct/P131'), ('name', 'located in the administrative territorial entity'), ('obj', 'http://www.wikidata.org/entity/Q16481947'), ('objName', 'Municipio IX')]\n",
      "[('p', 'http://www.wikidata.org/prop/direct/P186'), ('name', 'made from material'), ('obj', 'http://www.wikidata.org/entity/Q184190'), ('objName', 'reinforced concrete')]\n",
      "[('p', 'http://www.wikidata.org/prop/direct/P1889'), ('name', 'different from'), ('obj', 'http://www.wikidata.org/entity/Q2033373'), ('objName', 'Palazzetto dello Sport')]\n",
      "[('p', 'http://www.wikidata.org/prop/direct/P186'), ('name', 'made from material'), ('obj', 'http://www.wikidata.org/entity/Q2438447'), ('objName', 'ferrocement')]\n",
      "[('p', 'http://www.wikidata.org/prop/direct/P466'), ('name', 'occupant'), ('obj', 'http://www.wikidata.org/entity/Q36462'), ('objName', 'Pallacanestro Virtus Roma')]\n",
      "[('p', 'http://www.wikidata.org/prop/direct/P127'), ('name', 'owned by'), ('obj', 'http://www.wikidata.org/entity/Q3717514'), ('objName', 'EUR s.p.a.')]\n",
      "[('p', 'http://www.wikidata.org/prop/direct/P765'), ('name', 'surface played on'), ('obj', 'http://www.wikidata.org/entity/Q838828'), ('objName', 'parquetry')]\n",
      "[('p', 'http://www.wikidata.org/prop/direct/P641'), ('name', 'sport'), ('obj', 'http://www.wikidata.org/entity/Q1734'), ('objName', 'volleyball')]\n",
      "[('p', 'http://www.wikidata.org/prop/direct/P276'), ('name', 'location'), ('obj', 'http://www.wikidata.org/entity/Q220'), ('objName', 'Rome')]\n",
      "[('p', 'http://www.wikidata.org/prop/direct/P641'), ('name', 'sport'), ('obj', 'http://www.wikidata.org/entity/Q32112'), ('objName', 'boxing')]\n",
      "[('p', 'http://www.wikidata.org/prop/direct/P17'), ('name', 'country'), ('obj', 'http://www.wikidata.org/entity/Q38'), ('objName', 'Italy')]\n",
      "[('p', 'http://www.wikidata.org/prop/direct/P641'), ('name', 'sport'), ('obj', 'http://www.wikidata.org/entity/Q5372'), ('objName', 'basketball')]\n",
      "[('p', 'http://www.wikidata.org/prop/direct/P31'), ('name', 'instance of'), ('obj', 'http://www.wikidata.org/entity/Q1049757'), ('objName', 'multi-purpose stadium')]\n",
      "[('p', 'http://www.wikidata.org/prop/direct/P631'), ('name', 'structural engineer'), ('obj', 'http://www.wikidata.org/entity/Q313528'), ('objName', 'Pier Luigi Nervi')]\n",
      "15\n"
     ]
    }
   ],
   "source": [
    "#/Q119882  'Palazzo dello Sport'\n",
    "queryString = \"\"\"\n",
    "SELECT DISTINCT ?p ?name ?obj ?objName\n",
    "WHERE {\n",
    "   \n",
    "   wd:Q119882 ?p ?obj .\n",
    "   \n",
    "   ?p sc:name ?name.\n",
    "   ?obj sc:name ?objName.\n",
    "   \n",
    "   \n",
    "}\n",
    "LIMIT 50\n",
    "\"\"\"\n",
    "\n",
    "print(\"Results\")\n",
    "x=run_query(queryString)"
   ]
  },
  {
   "cell_type": "code",
   "execution_count": 39,
   "id": "5d2a5ab3-5ea9-44f2-bf29-b96c7dc9b02e",
   "metadata": {
    "collapsed": true,
    "jupyter": {
     "outputs_hidden": true
    },
    "tags": []
   },
   "outputs": [
    {
     "name": "stdout",
     "output_type": "stream",
     "text": [
      "Results\n",
      "[('obj', 'http://www.wikidata.org/entity/Q47677214'), ('objName', 'carpet')]\n",
      "[('obj', 'http://www.wikidata.org/entity/Q133833'), ('objName', 'gravel')]\n",
      "[('obj', 'http://www.wikidata.org/entity/Q13731184'), ('objName', 'artificial ice rink')]\n",
      "[('obj', 'http://www.wikidata.org/entity/Q2306698'), ('objName', 'Desso GrassMaster')]\n",
      "[('obj', 'http://www.wikidata.org/entity/Q3179760'), ('objName', 'tarmac')]\n",
      "[('obj', 'http://www.wikidata.org/entity/Q190903'), ('objName', 'herbaceous plant')]\n",
      "[('obj', 'http://www.wikidata.org/entity/Q198718'), ('objName', 'clay court')]\n",
      "[('obj', 'http://www.wikidata.org/entity/Q838828'), ('objName', 'parquetry')]\n",
      "[('obj', 'http://www.wikidata.org/entity/Q30198'), ('objName', 'marsh')]\n",
      "[('obj', 'http://www.wikidata.org/entity/Q30688663'), ('objName', 'Mondotrack')]\n",
      "10\n"
     ]
    }
   ],
   "source": [
    "#P765'), ('name', 'surface played on'\n",
    "queryString = \"\"\"\n",
    "SELECT DISTINCT  ?obj ?objName\n",
    "WHERE {\n",
    "   \n",
    "   ?p wdt:P765 ?obj .\n",
    "   \n",
    "   ?p sc:name ?name.\n",
    "   ?obj sc:name ?objName.\n",
    "   \n",
    "   \n",
    "}\n",
    "LIMIT 10\n",
    "\"\"\"\n",
    "\n",
    "print(\"Results\")\n",
    "x=run_query(queryString)"
   ]
  },
  {
   "cell_type": "markdown",
   "id": "18634ec1",
   "metadata": {},
   "source": [
    "Final query for this task"
   ]
  },
  {
   "cell_type": "code",
   "execution_count": 41,
   "id": "e36725e9-bab8-4b30-abd5-2840c5246ea3",
   "metadata": {
    "collapsed": true,
    "jupyter": {
     "outputs_hidden": true
    },
    "tags": []
   },
   "outputs": [
    {
     "name": "stdout",
     "output_type": "stream",
     "text": [
      "Results\n",
      "[('p', 'http://www.wikidata.org/prop/direct/P1535'), ('name', 'used by'), ('obj', 'http://www.wikidata.org/entity/Q29167278'), ('objName', 'carpet court')]\n",
      "[('p', 'http://www.wikidata.org/prop/direct/P641'), ('name', 'sport'), ('obj', 'http://www.wikidata.org/entity/Q847'), ('objName', 'tennis')]\n",
      "[('p', 'http://www.wikidata.org/prop/direct/P279'), ('name', 'subclass of'), ('obj', 'http://www.wikidata.org/entity/Q47677460'), ('objName', 'tennis playing surface')]\n",
      "3\n"
     ]
    }
   ],
   "source": [
    "#Q47677214  'carpet'\n",
    "queryString = \"\"\"\n",
    "SELECT DISTINCT ?p ?name  ?obj ?objName\n",
    "WHERE {\n",
    "   \n",
    "   wd:Q47677214 ?p ?obj .\n",
    "   \n",
    "   ?p sc:name ?name.\n",
    "   ?obj sc:name ?objName.\n",
    "   \n",
    "   \n",
    "}\n",
    "LIMIT 10\n",
    "\"\"\"\n",
    "\n",
    "print(\"Results\")\n",
    "x=run_query(queryString)"
   ]
  },
  {
   "cell_type": "code",
   "execution_count": 56,
   "id": "409f9182-7fcd-410f-953b-6df14dbefa57",
   "metadata": {
    "tags": []
   },
   "outputs": [
    {
     "name": "stdout",
     "output_type": "stream",
     "text": [
      "Results\n",
      "[('obj', 'http://www.wikidata.org/entity/Q47677214'), ('objName', 'carpet')]\n",
      "[('obj', 'http://www.wikidata.org/entity/Q47676928'), ('objName', 'clay')]\n",
      "[('obj', 'http://www.wikidata.org/entity/Q47678177'), ('objName', 'grass')]\n",
      "[('obj', 'http://www.wikidata.org/entity/Q47777555'), ('objName', 'hardcourt surface')]\n",
      "4\n"
     ]
    }
   ],
   "source": [
    "# write your final query\n",
    "# P279 'subclass of' Q47677460 'tennis playing surface' \n",
    "#P1535 'used by' Q29167278  'carpet court' \n",
    "\n",
    "queryString = \"\"\"\n",
    "SELECT DISTINCT ?obj ?objName\n",
    "WHERE {\n",
    "   \n",
    "   ?p wdt:P765 ?obj.\n",
    "    ?obj  wdt:P279 wd:Q47677460.\n",
    "    ?obj  wdt:P1535 ?court.\n",
    "    \n",
    "        \n",
    "   ?p sc:name ?name.\n",
    "   ?obj sc:name ?objName.\n",
    "   #filter regex(?objName, \"court\").\n",
    "   \n",
    "}\n",
    "LIMIT 50\n",
    "\"\"\"\n",
    "\n",
    "print(\"Results\")\n",
    "x=run_query(queryString)"
   ]
  },
  {
   "cell_type": "markdown",
   "id": "3eef31c9",
   "metadata": {},
   "source": [
    "## Task 5\n",
    "Return the tournaments played in the 2018 Wimbledon Championships edition with the related winners (hint: men and women do not play together, there are two distinct tournament ) (the result set must be a list of elements with tournament IRI and label, and winner IRI and label)."
   ]
  },
  {
   "cell_type": "code",
   "execution_count": 59,
   "id": "af8c568e",
   "metadata": {},
   "outputs": [
    {
     "name": "stdout",
     "output_type": "stream",
     "text": [
      "Results\n",
      "[('p', 'http://www.wikidata.org/entity/Q268871'), ('name', '2004 Wimbledon Championships')]\n",
      "[('p', 'http://www.wikidata.org/entity/Q173961'), ('name', '1978 Wimbledon Championships')]\n",
      "[('p', 'http://www.wikidata.org/entity/Q925026'), ('name', '1971 Wimbledon Championships')]\n",
      "[('p', 'http://www.wikidata.org/entity/Q15854765'), ('name', '2014 Wimbledon Championships')]\n",
      "[('p', 'http://www.wikidata.org/entity/Q30085309'), ('name', '2018 Wimbledon Championships')]\n",
      "[('p', 'http://www.wikidata.org/entity/Q745901'), ('name', '1974 Wimbledon Championships')]\n",
      "[('p', 'http://www.wikidata.org/entity/Q655368'), ('name', '1955 Wimbledon Championships')]\n",
      "[('p', 'http://www.wikidata.org/entity/Q655378'), ('name', '1956 Wimbledon Championships')]\n",
      "[('p', 'http://www.wikidata.org/entity/Q657950'), ('name', '1957 Wimbledon Championships')]\n",
      "[('p', 'http://www.wikidata.org/entity/Q657962'), ('name', '1958 Wimbledon Championships')]\n",
      "[('p', 'http://www.wikidata.org/entity/Q2296335'), ('name', '1881 Wimbledon Championship')]\n",
      "[('p', 'http://www.wikidata.org/entity/Q2297185'), ('name', '1882 Wimbledon Championship')]\n",
      "[('p', 'http://www.wikidata.org/entity/Q522860'), ('name', '1883 Wimbledon Championship')]\n",
      "[('p', 'http://www.wikidata.org/entity/Q20127632'), ('name', '2016 Wimbledon Championships')]\n",
      "[('p', 'http://www.wikidata.org/entity/Q934978'), ('name', '1988 Wimbledon Championships')]\n",
      "[('p', 'http://www.wikidata.org/entity/Q388312'), ('name', '2008 Wimbledon Championships')]\n",
      "[('p', 'http://www.wikidata.org/entity/Q1049018'), ('name', '1980 Wimbledon Championships')]\n",
      "[('p', 'http://www.wikidata.org/entity/Q404337'), ('name', '1929 Wimbledon Championships')]\n",
      "[('p', 'http://www.wikidata.org/entity/Q404437'), ('name', '1930 Wimbledon Championships')]\n",
      "[('p', 'http://www.wikidata.org/entity/Q404791'), ('name', '1933 Wimbledon Championships')]\n",
      "20\n"
     ]
    }
   ],
   "source": [
    "# Q41520 Wimbledon 'Championships' \n",
    "#P31'), ('name', 'instance of')\n",
    "\n",
    "queryString = \"\"\"\n",
    "SELECT DISTINCT ?p ?name \n",
    "WHERE { \n",
    "   ?p wdt:P31  wd:Q41520 .\n",
    "   \n",
    "   ?p sc:name ?name.\n",
    "    \n",
    "}\n",
    "LIMIT 20\n",
    "\"\"\"\n",
    "\n",
    "print(\"Results\")\n",
    "x=run_query(queryString)"
   ]
  },
  {
   "cell_type": "code",
   "execution_count": 60,
   "id": "d233dbcc-e08c-4d7c-bf39-7ded294c9a95",
   "metadata": {},
   "outputs": [
    {
     "name": "stdout",
     "output_type": "stream",
     "text": [
      "Results\n",
      "[('p', 'http://www.wikidata.org/entity/Q30085309'), ('name', '2018 Wimbledon Championships')]\n",
      "1\n"
     ]
    }
   ],
   "source": [
    "# Q41520 Wimbledon 'Championships' \n",
    "#P31'), ('name', 'instance of')\n",
    "\n",
    "queryString = \"\"\"\n",
    "SELECT DISTINCT ?p ?name \n",
    "WHERE { \n",
    "   ?p wdt:P31  wd:Q41520 .\n",
    "   \n",
    "   ?p sc:name ?name.\n",
    "    filter regex(?name, \"2018\").\n",
    "}\n",
    "LIMIT 20\n",
    "\"\"\"\n",
    "\n",
    "print(\"Results\")\n",
    "x=run_query(queryString)"
   ]
  },
  {
   "cell_type": "code",
   "execution_count": 62,
   "id": "85e2c5ce-2f0a-4fac-9d82-3258dddfc7ab",
   "metadata": {},
   "outputs": [
    {
     "name": "stdout",
     "output_type": "stream",
     "text": [
      "Results\n",
      "[('p', 'http://www.wikidata.org/prop/direct/P527'), ('name', 'has part'), ('obj', 'http://www.wikidata.org/entity/Q30098268'), ('objName', \"2018 Wimbledon Championships – Women's Singles\")]\n",
      "[('p', 'http://www.wikidata.org/prop/direct/P17'), ('name', 'country'), ('obj', 'http://www.wikidata.org/entity/Q145'), ('objName', 'United Kingdom')]\n",
      "[('p', 'http://www.wikidata.org/prop/direct/P276'), ('name', 'location'), ('obj', 'http://www.wikidata.org/entity/Q84'), ('objName', 'London')]\n",
      "[('p', 'http://www.wikidata.org/prop/direct/P641'), ('name', 'sport'), ('obj', 'http://www.wikidata.org/entity/Q847'), ('objName', 'tennis')]\n",
      "[('p', 'http://www.wikidata.org/prop/direct/P31'), ('name', 'instance of'), ('obj', 'http://www.wikidata.org/entity/Q47345468'), ('objName', 'tennis tournament edition')]\n",
      "[('p', 'http://www.wikidata.org/prop/direct/P31'), ('name', 'instance of'), ('obj', 'http://www.wikidata.org/entity/Q41520'), ('objName', 'Wimbledon Championships')]\n",
      "[('p', 'http://www.wikidata.org/prop/direct/P131'), ('name', 'located in the administrative territorial entity'), ('obj', 'http://www.wikidata.org/entity/Q736742'), ('objName', 'Wimbledon')]\n",
      "[('p', 'http://www.wikidata.org/prop/direct/P155'), ('name', 'follows'), ('obj', 'http://www.wikidata.org/entity/Q25344121'), ('objName', '2017 Wimbledon Championships')]\n",
      "[('p', 'http://www.wikidata.org/prop/direct/P527'), ('name', 'has part'), ('obj', 'http://www.wikidata.org/entity/Q32358401'), ('objName', '2018 Wimbledon Championships – Mixed Doubles')]\n",
      "[('p', 'http://www.wikidata.org/prop/direct/P156'), ('name', 'followed by'), ('obj', 'http://www.wikidata.org/entity/Q54093953'), ('objName', '2019 Wimbledon Championships')]\n",
      "[('p', 'http://www.wikidata.org/prop/direct/P527'), ('name', 'has part'), ('obj', 'http://www.wikidata.org/entity/Q32357790'), ('objName', \"2018 Wimbledon Championships – Men's Doubles\")]\n",
      "[('p', 'http://www.wikidata.org/prop/direct/P910'), ('name', \"topic's main category\"), ('obj', 'http://www.wikidata.org/entity/Q53582240'), ('objName', 'Category:2018 Wimbledon Championships')]\n",
      "[('p', 'http://www.wikidata.org/prop/direct/P527'), ('name', 'has part'), ('obj', 'http://www.wikidata.org/entity/Q32356704'), ('objName', \"2018 Wimbledon Championships – Women's Doubles\")]\n",
      "[('p', 'http://www.wikidata.org/prop/direct/P527'), ('name', 'has part'), ('obj', 'http://www.wikidata.org/entity/Q55381839'), ('objName', \"2018 Wimbledon Championships – Girls' Singles\")]\n",
      "[('p', 'http://www.wikidata.org/prop/direct/P527'), ('name', 'has part'), ('obj', 'http://www.wikidata.org/entity/Q54961494'), ('objName', \"2018 Wimbledon Championships – Men's Singles\")]\n",
      "[('p', 'http://www.wikidata.org/prop/direct/P527'), ('name', 'has part'), ('obj', 'http://www.wikidata.org/entity/Q55410290'), ('objName', \"2018 Wimbledon Championships – Girls' Doubles\")]\n",
      "[('p', 'http://www.wikidata.org/prop/direct/P527'), ('name', 'has part'), ('obj', 'http://www.wikidata.org/entity/Q55410361'), ('objName', \"2018 Wimbledon Championships – Boys' Doubles\")]\n",
      "[('p', 'http://www.wikidata.org/prop/direct/P527'), ('name', 'has part'), ('obj', 'http://www.wikidata.org/entity/Q55455404'), ('objName', \"2018 Wimbledon Championships – Wheelchair Women's Singles\")]\n",
      "[('p', 'http://www.wikidata.org/prop/direct/P527'), ('name', 'has part'), ('obj', 'http://www.wikidata.org/entity/Q55381833'), ('objName', \"2018 Wimbledon Championships – Boys' Singles\")]\n",
      "[('p', 'http://www.wikidata.org/prop/direct/P527'), ('name', 'has part'), ('obj', 'http://www.wikidata.org/entity/Q55455423'), ('objName', \"2018 Wimbledon Championships – Wheelchair Women's Doubles\")]\n",
      "20\n"
     ]
    }
   ],
   "source": [
    "#Q30085309 '2018 Wimbledon Championships' \n",
    "queryString = \"\"\"\n",
    "SELECT DISTINCT ?p ?name ?obj ?objName\n",
    "WHERE { \n",
    "  \n",
    "   wd:Q30085309 ?p ?obj .\n",
    "   \n",
    "   ?p sc:name ?name.\n",
    "   ?obj sc:name ?objName.\n",
    "    \n",
    "}\n",
    "LIMIT 20\n",
    "\"\"\"\n",
    "\n",
    "print(\"Results\")\n",
    "x=run_query(queryString)"
   ]
  },
  {
   "cell_type": "code",
   "execution_count": 65,
   "id": "b89a2dd2-6fd7-4724-b897-2d0fe564e0bd",
   "metadata": {
    "tags": []
   },
   "outputs": [
    {
     "name": "stdout",
     "output_type": "stream",
     "text": [
      "Results\n",
      "[('obj', 'http://www.wikidata.org/entity/Q30098268'), ('objName', \"2018 Wimbledon Championships – Women's Singles\")]\n",
      "[('obj', 'http://www.wikidata.org/entity/Q32358401'), ('objName', '2018 Wimbledon Championships – Mixed Doubles')]\n",
      "[('obj', 'http://www.wikidata.org/entity/Q32357790'), ('objName', \"2018 Wimbledon Championships – Men's Doubles\")]\n",
      "[('obj', 'http://www.wikidata.org/entity/Q32356704'), ('objName', \"2018 Wimbledon Championships – Women's Doubles\")]\n",
      "[('obj', 'http://www.wikidata.org/entity/Q55381839'), ('objName', \"2018 Wimbledon Championships – Girls' Singles\")]\n",
      "[('obj', 'http://www.wikidata.org/entity/Q54961494'), ('objName', \"2018 Wimbledon Championships – Men's Singles\")]\n",
      "[('obj', 'http://www.wikidata.org/entity/Q55410290'), ('objName', \"2018 Wimbledon Championships – Girls' Doubles\")]\n",
      "[('obj', 'http://www.wikidata.org/entity/Q55410361'), ('objName', \"2018 Wimbledon Championships – Boys' Doubles\")]\n",
      "[('obj', 'http://www.wikidata.org/entity/Q55455404'), ('objName', \"2018 Wimbledon Championships – Wheelchair Women's Singles\")]\n",
      "[('obj', 'http://www.wikidata.org/entity/Q55381833'), ('objName', \"2018 Wimbledon Championships – Boys' Singles\")]\n",
      "[('obj', 'http://www.wikidata.org/entity/Q55455423'), ('objName', \"2018 Wimbledon Championships – Wheelchair Women's Doubles\")]\n",
      "11\n"
     ]
    }
   ],
   "source": [
    "#P527 'has part'\n",
    "#Q30085309 '2018 Wimbledon Championships' \n",
    "queryString = \"\"\"\n",
    "SELECT DISTINCT ?obj ?objName\n",
    "WHERE { \n",
    "  \n",
    "   wd:Q30085309 wdt:P527 ?obj .\n",
    "   \n",
    "    \n",
    "   ?obj sc:name ?objName.\n",
    "    \n",
    "}\n",
    "LIMIT 20\n",
    "\"\"\"\n",
    "\n",
    "print(\"Results\")\n",
    "x=run_query(queryString)"
   ]
  },
  {
   "cell_type": "code",
   "execution_count": 66,
   "id": "7d48b2b4-cc20-47b6-93ba-6ad5e6676d81",
   "metadata": {},
   "outputs": [
    {
     "name": "stdout",
     "output_type": "stream",
     "text": [
      "Results\n",
      "[('p', 'http://www.wikidata.org/prop/direct/P155'), ('name', 'follows'), ('obj', 'http://www.wikidata.org/entity/Q25344122'), ('objName', \"2017 Wimbledon Championships – Women's Singles\")]\n",
      "[('p', 'http://www.wikidata.org/prop/direct/P361'), ('name', 'part of'), ('obj', 'http://www.wikidata.org/entity/Q30085309'), ('objName', '2018 Wimbledon Championships')]\n",
      "[('p', 'http://www.wikidata.org/prop/direct/P2094'), ('name', 'competition class'), ('obj', 'http://www.wikidata.org/entity/Q16893403'), ('objName', \"women's singles\")]\n",
      "[('p', 'http://www.wikidata.org/prop/direct/P641'), ('name', 'sport'), ('obj', 'http://www.wikidata.org/entity/Q847'), ('objName', 'tennis')]\n",
      "[('p', 'http://www.wikidata.org/prop/direct/P31'), ('name', 'instance of'), ('obj', 'http://www.wikidata.org/entity/Q46190676'), ('objName', 'tennis event')]\n",
      "[('p', 'http://www.wikidata.org/prop/direct/P1346'), ('name', 'winner'), ('obj', 'http://www.wikidata.org/entity/Q77178'), ('objName', 'Angelique Kerber')]\n",
      "[('p', 'http://www.wikidata.org/prop/direct/P156'), ('name', 'followed by'), ('obj', 'http://www.wikidata.org/entity/Q55749169'), ('objName', \"2019 Wimbledon Championships – Women's Singles\")]\n",
      "7\n"
     ]
    }
   ],
   "source": [
    "# Q30098268  \"2018 Wimbledon Championships – Women's Singles\" \n",
    "queryString = \"\"\"\n",
    "SELECT DISTINCT ?p ?name ?obj ?objName\n",
    "WHERE { \n",
    "  \n",
    "   wd:Q30098268 ?p ?obj .\n",
    "   \n",
    "   ?p sc:name ?name.\n",
    "   ?obj sc:name ?objName.\n",
    "    \n",
    "}\n",
    "LIMIT 20\n",
    "\"\"\"\n",
    "\n",
    "print(\"Results\")\n",
    "x=run_query(queryString)"
   ]
  },
  {
   "cell_type": "code",
   "execution_count": 67,
   "id": "c2b55229-0a94-4375-acfa-9f8a14ea8055",
   "metadata": {},
   "outputs": [
    {
     "name": "stdout",
     "output_type": "stream",
     "text": [
      "Results\n",
      "[('obj', 'http://www.wikidata.org/entity/Q32357790'), ('objName', \"2018 Wimbledon Championships – Men's Doubles\"), ('winner', 'http://www.wikidata.org/entity/Q53342'), ('winnerName', 'Mike Bryan')]\n",
      "[('obj', 'http://www.wikidata.org/entity/Q54961494'), ('objName', \"2018 Wimbledon Championships – Men's Singles\"), ('winner', 'http://www.wikidata.org/entity/Q5812'), ('winnerName', 'Novak Djokovic')]\n",
      "[('obj', 'http://www.wikidata.org/entity/Q30098268'), ('objName', \"2018 Wimbledon Championships – Women's Singles\"), ('winner', 'http://www.wikidata.org/entity/Q77178'), ('winnerName', 'Angelique Kerber')]\n",
      "[('obj', 'http://www.wikidata.org/entity/Q32356704'), ('objName', \"2018 Wimbledon Championships – Women's Doubles\"), ('winner', 'http://www.wikidata.org/entity/Q11052500'), ('winnerName', 'Barbora Krejčíková')]\n",
      "[('obj', 'http://www.wikidata.org/entity/Q55455423'), ('objName', \"2018 Wimbledon Championships – Wheelchair Women's Doubles\"), ('winner', 'http://www.wikidata.org/entity/Q16224602'), ('winnerName', 'Yui Kamiji')]\n",
      "[('obj', 'http://www.wikidata.org/entity/Q55381839'), ('objName', \"2018 Wimbledon Championships – Girls' Singles\"), ('winner', 'http://www.wikidata.org/entity/Q26840238'), ('winnerName', 'Iga Świątek')]\n",
      "[('obj', 'http://www.wikidata.org/entity/Q55455404'), ('objName', \"2018 Wimbledon Championships – Wheelchair Women's Singles\"), ('winner', 'http://www.wikidata.org/entity/Q24574661'), ('winnerName', 'Diede de Groot')]\n",
      "[('obj', 'http://www.wikidata.org/entity/Q55455423'), ('objName', \"2018 Wimbledon Championships – Wheelchair Women's Doubles\"), ('winner', 'http://www.wikidata.org/entity/Q24574661'), ('winnerName', 'Diede de Groot')]\n",
      "[('obj', 'http://www.wikidata.org/entity/Q32356704'), ('objName', \"2018 Wimbledon Championships – Women's Doubles\"), ('winner', 'http://www.wikidata.org/entity/Q3720044'), ('winnerName', 'Kateřina Siniaková')]\n",
      "[('obj', 'http://www.wikidata.org/entity/Q32358401'), ('objName', '2018 Wimbledon Championships – Mixed Doubles'), ('winner', 'http://www.wikidata.org/entity/Q2216368'), ('winnerName', 'Nicole Melichar-Martinez')]\n",
      "[('obj', 'http://www.wikidata.org/entity/Q32358401'), ('objName', '2018 Wimbledon Championships – Mixed Doubles'), ('winner', 'http://www.wikidata.org/entity/Q457476'), ('winnerName', 'Alexander Peya')]\n",
      "[('obj', 'http://www.wikidata.org/entity/Q55410361'), ('objName', \"2018 Wimbledon Championships – Boys' Doubles\"), ('winner', 'http://www.wikidata.org/entity/Q55569239'), ('winnerName', 'Yankı Erel')]\n",
      "[('obj', 'http://www.wikidata.org/entity/Q55410290'), ('objName', \"2018 Wimbledon Championships – Girls' Doubles\"), ('winner', 'http://www.wikidata.org/entity/Q44465805'), ('winnerName', 'Wang Xinyu')]\n",
      "[('obj', 'http://www.wikidata.org/entity/Q55410290'), ('objName', \"2018 Wimbledon Championships – Girls' Doubles\"), ('winner', 'http://www.wikidata.org/entity/Q41799108'), ('winnerName', 'Wang Xiyu')]\n",
      "[('obj', 'http://www.wikidata.org/entity/Q55381833'), ('objName', \"2018 Wimbledon Championships – Boys' Singles\"), ('winner', 'http://www.wikidata.org/entity/Q47516746'), ('winnerName', 'Tseng Chun-hsin')]\n",
      "15\n"
     ]
    }
   ],
   "source": [
    "# write your final query\n",
    "#P1346  'winner'\n",
    "#P527 'has part'\n",
    "#Q30085309 '2018 Wimbledon Championships' \n",
    "queryString = \"\"\"\n",
    "SELECT DISTINCT ?obj ?objName ?winner ?winnerName\n",
    "WHERE { \n",
    "  \n",
    "   wd:Q30085309 wdt:P527 ?obj.\n",
    "   ?obj wdt:P1346 ?winner.\n",
    "   ?obj sc:name ?objName.\n",
    "   ?winner sc:name ?winnerName.\n",
    "    \n",
    "}\n",
    "LIMIT 20\n",
    "\"\"\"\n",
    "\n",
    "print(\"Results\")\n",
    "x=run_query(queryString)"
   ]
  },
  {
   "cell_type": "markdown",
   "id": "6c81656e",
   "metadata": {},
   "source": [
    "## Task 6\n",
    "Consider the tennis players born after 1975, return who won more Grand Slams and cut the result to the top-10 (the result set must be a list of triples player IRI, label and #victories)."
   ]
  },
  {
   "cell_type": "code",
   "execution_count": 73,
   "id": "efba8508",
   "metadata": {},
   "outputs": [
    {
     "name": "stdout",
     "output_type": "stream",
     "text": [
      "Results\n",
      "[('p', 'http://www.wikidata.org/entity/Q6053701'), ('name', 'Template:Infobox tennis biography'), ('obj', 'http://www.wikidata.org/prop/direct/P1423'), ('objName', 'template has topic')]\n",
      "[('p', 'http://www.wikidata.org/entity/Q1683632'), ('name', 'Jaroslav Navrátil'), ('obj', 'http://www.wikidata.org/prop/direct/P106'), ('objName', 'occupation')]\n",
      "[('p', 'http://www.wikidata.org/entity/Q138094'), ('name', 'Anna Karolína Schmiedlová'), ('obj', 'http://www.wikidata.org/prop/direct/P106'), ('objName', 'occupation')]\n",
      "[('p', 'http://www.wikidata.org/entity/Q15197746'), ('name', 'Wesley Koolhof'), ('obj', 'http://www.wikidata.org/prop/direct/P106'), ('objName', 'occupation')]\n",
      "[('p', 'http://www.wikidata.org/entity/Q1558013'), ('name', 'Pierre Barthès'), ('obj', 'http://www.wikidata.org/prop/direct/P106'), ('objName', 'occupation')]\n",
      "[('p', 'http://www.wikidata.org/entity/Q15849678'), ('name', 'Sue Partridge'), ('obj', 'http://www.wikidata.org/prop/direct/P106'), ('objName', 'occupation')]\n",
      "[('p', 'http://www.wikidata.org/entity/Q15880574'), ('name', 'Paul Oosterbaan'), ('obj', 'http://www.wikidata.org/prop/direct/P106'), ('objName', 'occupation')]\n",
      "[('p', 'http://www.wikidata.org/entity/Q240837'), ('name', 'Rika Fujiwara'), ('obj', 'http://www.wikidata.org/prop/direct/P106'), ('objName', 'occupation')]\n",
      "[('p', 'http://www.wikidata.org/entity/Q4134097'), ('name', 'Margarita Gasparyan'), ('obj', 'http://www.wikidata.org/prop/direct/P106'), ('objName', 'occupation')]\n",
      "[('p', 'http://www.wikidata.org/entity/Q589611'), ('name', 'Philippe Chatrier'), ('obj', 'http://www.wikidata.org/prop/direct/P106'), ('objName', 'occupation')]\n",
      "10\n"
     ]
    }
   ],
   "source": [
    "#Q10833314 'tennis player' \n",
    "queryString = \"\"\"\n",
    "SELECT DISTINCT ?p ?name ?obj ?objName\n",
    "WHERE { \n",
    "  \n",
    "    ?p ?obj wd:Q10833314.\n",
    "   \n",
    "   ?p sc:name ?name.\n",
    "   ?obj sc:name ?objName.\n",
    "    \n",
    "}\n",
    "LIMIT 10\n",
    "\"\"\"\n",
    "\n",
    "print(\"Results\")\n",
    "x=run_query(queryString)"
   ]
  },
  {
   "cell_type": "code",
   "execution_count": 75,
   "id": "88de5813-60c1-4436-be52-5d9cb67ead0e",
   "metadata": {},
   "outputs": [
    {
     "name": "stdout",
     "output_type": "stream",
     "text": [
      "Results\n",
      "[('p', 'http://www.wikidata.org/entity/Q1683632'), ('name', 'Jaroslav Navrátil')]\n",
      "[('p', 'http://www.wikidata.org/entity/Q138094'), ('name', 'Anna Karolína Schmiedlová')]\n",
      "[('p', 'http://www.wikidata.org/entity/Q15197746'), ('name', 'Wesley Koolhof')]\n",
      "[('p', 'http://www.wikidata.org/entity/Q1558013'), ('name', 'Pierre Barthès')]\n",
      "[('p', 'http://www.wikidata.org/entity/Q15849678'), ('name', 'Sue Partridge')]\n",
      "[('p', 'http://www.wikidata.org/entity/Q15880574'), ('name', 'Paul Oosterbaan')]\n",
      "[('p', 'http://www.wikidata.org/entity/Q240837'), ('name', 'Rika Fujiwara')]\n",
      "[('p', 'http://www.wikidata.org/entity/Q4134097'), ('name', 'Margarita Gasparyan')]\n",
      "[('p', 'http://www.wikidata.org/entity/Q589611'), ('name', 'Philippe Chatrier')]\n",
      "[('p', 'http://www.wikidata.org/entity/Q16009513'), ('name', 'James Bayley')]\n",
      "10\n"
     ]
    }
   ],
   "source": [
    "#P106  'occupation' \n",
    "#Q10833314 'tennis player' \n",
    "queryString = \"\"\"\n",
    "SELECT DISTINCT ?p ?name \n",
    "WHERE { \n",
    "  \n",
    "    ?p wdt:P106 wd:Q10833314.\n",
    "   \n",
    "   ?p sc:name ?name.\n",
    "    \n",
    "}\n",
    "LIMIT 10\n",
    "\"\"\"\n",
    "\n",
    "print(\"Results\")\n",
    "x=run_query(queryString)"
   ]
  },
  {
   "cell_type": "code",
   "execution_count": 79,
   "id": "44dff8b2-eb7d-4884-be69-49d9e8eb2f71",
   "metadata": {},
   "outputs": [
    {
     "name": "stdout",
     "output_type": "stream",
     "text": [
      "Results\n",
      "[('p', 'http://www.wikidata.org/prop/direct/P1889'), ('name', 'different from'), ('obj', 'http://www.wikidata.org/entity/Q13639102'), ('objName', 'Jaroslav Navrátil')]\n",
      "[('p', 'http://www.wikidata.org/prop/direct/P735'), ('name', 'given name'), ('obj', 'http://www.wikidata.org/entity/Q35000543'), ('objName', 'Jaroslav')]\n",
      "[('p', 'http://www.wikidata.org/prop/direct/P19'), ('name', 'place of birth'), ('obj', 'http://www.wikidata.org/entity/Q470380'), ('objName', 'Přerov')]\n",
      "[('p', 'http://www.wikidata.org/prop/direct/P734'), ('name', 'family name'), ('obj', 'http://www.wikidata.org/entity/Q21492186'), ('objName', 'Navrátil')]\n",
      "[('p', 'http://www.wikidata.org/prop/direct/P106'), ('name', 'occupation'), ('obj', 'http://www.wikidata.org/entity/Q10833314'), ('objName', 'tennis player')]\n",
      "[('p', 'http://www.wikidata.org/prop/direct/P1532'), ('name', 'country for sport'), ('obj', 'http://www.wikidata.org/entity/Q213'), ('objName', 'Czech Republic')]\n",
      "[('p', 'http://www.wikidata.org/prop/direct/P27'), ('name', 'country of citizenship'), ('obj', 'http://www.wikidata.org/entity/Q213'), ('objName', 'Czech Republic')]\n",
      "[('p', 'http://www.wikidata.org/prop/direct/P31'), ('name', 'instance of'), ('obj', 'http://www.wikidata.org/entity/Q5'), ('objName', 'human')]\n",
      "[('p', 'http://www.wikidata.org/prop/direct/P21'), ('name', 'sex or gender'), ('obj', 'http://www.wikidata.org/entity/Q6581097'), ('objName', 'male')]\n",
      "[('p', 'http://www.wikidata.org/prop/direct/P641'), ('name', 'sport'), ('obj', 'http://www.wikidata.org/entity/Q847'), ('objName', 'tennis')]\n",
      "[('p', 'http://www.wikidata.org/prop/direct/P1412'), ('name', 'languages spoken, written or signed'), ('obj', 'http://www.wikidata.org/entity/Q9056'), ('objName', 'Czech')]\n",
      "[('p', 'http://www.wikidata.org/prop/direct/P2048'), ('name', 'height'), ('obj', '196')]\n",
      "[('p', 'http://www.wikidata.org/prop/direct/P2067'), ('name', 'mass'), ('obj', '82')]\n",
      "[('p', 'http://www.wikidata.org/prop/direct/P2121'), ('name', 'prize money'), ('obj', '216482')]\n",
      "[('p', 'http://www.wikidata.org/prop/direct/P4544'), ('name', 'Tennis Temple player ID'), ('obj', '5191')]\n",
      "[('p', 'http://www.wikidata.org/prop/direct/P555'), ('name', 'doubles record'), ('obj', '70–78')]\n",
      "[('p', 'http://www.wikidata.org/prop/direct/P564'), ('name', 'singles record'), ('obj', '32–60')]\n",
      "[('p', 'http://www.wikidata.org/prop/direct/P569'), ('name', 'date of birth'), ('obj', '1957-07-24T00:00:00Z')]\n",
      "[('p', 'http://www.wikidata.org/prop/direct/P599'), ('name', 'ITF player ID'), ('obj', '10000982')]\n",
      "[('p', 'http://www.wikidata.org/prop/direct/P646'), ('name', 'Freebase ID'), ('obj', '/m/063_5zj')]\n",
      "[('p', 'http://www.wikidata.org/prop/direct/P8618'), ('name', 'ITF player ID 2020'), ('obj', 'jaroslav-navratil/800177761/cze')]\n",
      "[('p', 'http://www.wikidata.org/prop/direct/P2641'), ('name', 'Davis Cup player ID'), ('obj', '800177761')]\n",
      "[('p', 'http://www.wikidata.org/prop/direct/P536'), ('name', 'ATP player ID'), ('obj', 'N010')]\n",
      "23\n"
     ]
    }
   ],
   "source": [
    "#Q1683632'), ('name', 'Jaroslav Navrátil')]\n",
    "queryString = \"\"\"\n",
    "SELECT DISTINCT ?p ?name ?obj ?objName\n",
    "WHERE { \n",
    "  \n",
    "    wd:Q1683632 ?p ?obj.\n",
    "   \n",
    "   ?p sc:name ?name.\n",
    "   optional{?obj sc:name ?objName.}\n",
    "    \n",
    "}\n",
    "LIMIT 30\n",
    "\"\"\"\n",
    "\n",
    "print(\"Results\")\n",
    "x=run_query(queryString)"
   ]
  },
  {
   "cell_type": "code",
   "execution_count": 63,
   "id": "2896005e-0e2e-4551-891c-7a3698eaf8fe",
   "metadata": {},
   "outputs": [
    {
     "name": "stdout",
     "output_type": "stream",
     "text": [
      "Results\n",
      "[('p', 'http://www.wikidata.org/entity/Q138094'), ('name', 'Anna Karolína Schmiedlová'), ('dateBirthday', '1994-09-13T00:00:00Z')]\n",
      "[('p', 'http://www.wikidata.org/entity/Q15197746'), ('name', 'Wesley Koolhof'), ('dateBirthday', '1989-04-17T00:00:00Z')]\n",
      "[('p', 'http://www.wikidata.org/entity/Q15880574'), ('name', 'Paul Oosterbaan'), ('dateBirthday', '1995-07-08T00:00:00Z')]\n",
      "[('p', 'http://www.wikidata.org/entity/Q240837'), ('name', 'Rika Fujiwara'), ('dateBirthday', '1981-09-19T00:00:00Z')]\n",
      "[('p', 'http://www.wikidata.org/entity/Q4134097'), ('name', 'Margarita Gasparyan'), ('dateBirthday', '1994-09-01T00:00:00Z')]\n",
      "[('p', 'http://www.wikidata.org/entity/Q16224631'), ('name', 'Lee So-ra'), ('dateBirthday', '1994-07-22T00:00:00Z')]\n",
      "[('p', 'http://www.wikidata.org/entity/Q7281705'), ('name', 'Radu Albot'), ('dateBirthday', '1989-11-11T00:00:00Z')]\n",
      "[('p', 'http://www.wikidata.org/entity/Q18918709'), ('name', 'Markéta Vondroušová'), ('dateBirthday', '1999-06-28T00:00:00Z')]\n",
      "[('p', 'http://www.wikidata.org/entity/Q17291218'), ('name', 'Djordje Djokovic'), ('dateBirthday', '1995-07-07T00:00:00Z')]\n",
      "[('p', 'http://www.wikidata.org/entity/Q17323657'), ('name', 'Sviatlana Pirazhenka'), ('dateBirthday', '1992-09-12T00:00:00Z')]\n",
      "10\n"
     ]
    }
   ],
   "source": [
    "#P569 'date of birth'\n",
    "#P106  'occupation' \n",
    "#Q10833314 'tennis player' \n",
    "\n",
    "queryString = \"\"\"\n",
    "SELECT DISTINCT ?p ?name ?dateBirthday\n",
    "WHERE { \n",
    "  \n",
    "    ?p wdt:P106 wd:Q10833314;\n",
    "        wdt:P569 ?dateBirthday.\n",
    "    filter (?dateBirthday > \"1975-01-01T10:00:00\"^^xsd:dateTime).\n",
    "    \n",
    "   ?p sc:name ?name.\n",
    "    \n",
    "}\n",
    "LIMIT 10\n",
    "\"\"\"\n",
    "\n",
    "print(\"Results\")\n",
    "x=run_query(queryString)"
   ]
  },
  {
   "cell_type": "code",
   "execution_count": 51,
   "id": "389efbac-7787-460a-8abd-b734ec8c7d70",
   "metadata": {},
   "outputs": [
    {
     "name": "stdout",
     "output_type": "stream",
     "text": [
      "Results\n",
      "[('GrandSlam', 'http://www.wikidata.org/entity/Q41520'), ('GrandSlamName', 'Wimbledon Championships'), ('edition', 'http://www.wikidata.org/entity/Q268871'), ('editionName', '2004 Wimbledon Championships')]\n",
      "[('GrandSlam', 'http://www.wikidata.org/entity/Q60874'), ('GrandSlamName', 'Australian Open'), ('edition', 'http://www.wikidata.org/entity/Q602116'), ('editionName', '1969 Australian Open')]\n",
      "[('GrandSlam', 'http://www.wikidata.org/entity/Q123577'), ('GrandSlamName', 'US Open'), ('edition', 'http://www.wikidata.org/entity/Q643498'), ('editionName', '2000 US Open')]\n",
      "[('GrandSlam', 'http://www.wikidata.org/entity/Q43605'), ('GrandSlamName', 'French Open'), ('edition', 'http://www.wikidata.org/entity/Q660527'), ('editionName', '1983 French Open')]\n",
      "[('GrandSlam', 'http://www.wikidata.org/entity/Q123577'), ('GrandSlamName', 'US Open'), ('edition', 'http://www.wikidata.org/entity/Q840907'), ('editionName', '2004 US Open')]\n",
      "[('GrandSlam', 'http://www.wikidata.org/entity/Q43605'), ('GrandSlamName', 'French Open'), ('edition', 'http://www.wikidata.org/entity/Q846695'), ('editionName', '2000 French Open')]\n",
      "[('GrandSlam', 'http://www.wikidata.org/entity/Q41520'), ('GrandSlamName', 'Wimbledon Championships'), ('edition', 'http://www.wikidata.org/entity/Q173961'), ('editionName', '1978 Wimbledon Championships')]\n",
      "[('GrandSlam', 'http://www.wikidata.org/entity/Q41520'), ('GrandSlamName', 'Wimbledon Championships'), ('edition', 'http://www.wikidata.org/entity/Q925026'), ('editionName', '1971 Wimbledon Championships')]\n",
      "[('GrandSlam', 'http://www.wikidata.org/entity/Q43605'), ('GrandSlamName', 'French Open'), ('edition', 'http://www.wikidata.org/entity/Q776766'), ('editionName', '1928 French Championships')]\n",
      "[('GrandSlam', 'http://www.wikidata.org/entity/Q41520'), ('GrandSlamName', 'Wimbledon Championships'), ('edition', 'http://www.wikidata.org/entity/Q15854765'), ('editionName', '2014 Wimbledon Championships')]\n",
      "10\n"
     ]
    }
   ],
   "source": [
    "# Q102113  'Grand Slam of tennis' \n",
    "# P31  'instance of'\n",
    "queryString = \"\"\"\n",
    "SELECT DISTINCT ?GrandSlam ?GrandSlamName  ?edition ?editionName\n",
    "WHERE { \n",
    "    ?GrandSlam wdt:P361 wd:Q102113.\n",
    "    ?edition ?p ?GrandSlam.\n",
    "   \n",
    "   ?GrandSlam sc:name ?GrandSlamName.\n",
    "   ?edition sc:name ?editionName.\n",
    "   \n",
    "    \n",
    "}\n",
    "LIMIT 10\n",
    "\"\"\"\n",
    "\n",
    "print(\"Results\")\n",
    "x=run_query(queryString)"
   ]
  },
  {
   "cell_type": "code",
   "execution_count": 65,
   "id": "c2bb45de-3dce-4ef2-bce9-b237e4d76e4e",
   "metadata": {},
   "outputs": [
    {
     "name": "stdout",
     "output_type": "stream",
     "text": [
      "Results\n",
      "[('p', 'http://www.wikidata.org/prop/direct/P155'), ('name', 'follows'), ('obj', 'http://www.wikidata.org/entity/Q832484'), ('objName', '2003 Wimbledon Championships')]\n",
      "[('p', 'http://www.wikidata.org/prop/direct/P156'), ('name', 'followed by'), ('obj', 'http://www.wikidata.org/entity/Q746693'), ('objName', '2005 Wimbledon Championships')]\n",
      "[('p', 'http://www.wikidata.org/prop/direct/P17'), ('name', 'country'), ('obj', 'http://www.wikidata.org/entity/Q145'), ('objName', 'United Kingdom')]\n",
      "[('p', 'http://www.wikidata.org/prop/direct/P31'), ('name', 'instance of'), ('obj', 'http://www.wikidata.org/entity/Q47345468'), ('objName', 'tennis tournament edition')]\n",
      "[('p', 'http://www.wikidata.org/prop/direct/P31'), ('name', 'instance of'), ('obj', 'http://www.wikidata.org/entity/Q41520'), ('objName', 'Wimbledon Championships')]\n",
      "[('p', 'http://www.wikidata.org/prop/direct/P527'), ('name', 'has part'), ('obj', 'http://www.wikidata.org/entity/Q1575133'), ('objName', \"2004 Wimbledon Championships – Women's Doubles\")]\n",
      "[('p', 'http://www.wikidata.org/prop/direct/P527'), ('name', 'has part'), ('obj', 'http://www.wikidata.org/entity/Q388810'), ('objName', '2004 Wimbledon Championships - Mixed Doubles')]\n",
      "[('p', 'http://www.wikidata.org/prop/direct/P527'), ('name', 'has part'), ('obj', 'http://www.wikidata.org/entity/Q248965'), ('objName', \"2004 Wimbledon Championships – Men's Singles\")]\n",
      "[('p', 'http://www.wikidata.org/prop/direct/P527'), ('name', 'has part'), ('obj', 'http://www.wikidata.org/entity/Q378546'), ('objName', \"2004 Wimbledon Championships – Women's Singles\")]\n",
      "[('p', 'http://www.wikidata.org/prop/direct/P527'), ('name', 'has part'), ('obj', 'http://www.wikidata.org/entity/Q3994898'), ('objName', \"2004 Wimbledon Championships – Men's Doubles\")]\n",
      "[('p', 'http://www.wikidata.org/prop/direct/P641'), ('name', 'sport'), ('obj', 'http://www.wikidata.org/entity/Q847'), ('objName', 'tennis')]\n",
      "[('p', 'http://www.wikidata.org/prop/direct/P910'), ('name', \"topic's main category\"), ('obj', 'http://www.wikidata.org/entity/Q8188255'), ('objName', 'Category:2004 Wimbledon Championships')]\n",
      "12\n"
     ]
    }
   ],
   "source": [
    "# Q268871  '2004 Wimbledon Championships'\n",
    "# P31  'instance of'\n",
    "queryString = \"\"\"\n",
    "SELECT DISTINCT ?p ?name  ?obj ?objName\n",
    "WHERE { \n",
    "    wd:Q268871 ?p ?obj. \n",
    "   \n",
    "   ?obj sc:name ?objName.\n",
    "   ?p sc:name ?name.\n",
    "\n",
    "    \n",
    "}\n",
    "LIMIT 30\n",
    "\"\"\"\n",
    "\n",
    "print(\"Results\")\n",
    "x=run_query(queryString)"
   ]
  },
  {
   "cell_type": "code",
   "execution_count": 67,
   "id": "23aa0c7b-8e0d-431e-91a6-a268c2dc41d2",
   "metadata": {},
   "outputs": [
    {
     "name": "stdout",
     "output_type": "stream",
     "text": [
      "Results\n",
      "[('p', 'http://www.wikidata.org/entity/Q15854755'), ('name', \"1978 Wimbledon Championships – Men's Doubles\")]\n",
      "[('p', 'http://www.wikidata.org/entity/Q20895284'), ('name', '2015 US Open – Mixed Doubles')]\n",
      "[('p', 'http://www.wikidata.org/entity/Q15854758'), ('name', \"1982 Wimbledon Championships – Men's Doubles\")]\n",
      "[('p', 'http://www.wikidata.org/entity/Q22231236'), ('name', \"2016 Australian Open – Boys' Doubles\")]\n",
      "[('p', 'http://www.wikidata.org/entity/Q22956224'), ('name', \"2017 Australian Open – Men's Singles\")]\n",
      "[('p', 'http://www.wikidata.org/entity/Q25344122'), ('name', \"2017 Wimbledon Championships – Women's Singles\")]\n",
      "[('p', 'http://www.wikidata.org/entity/Q30098268'), ('name', \"2018 Wimbledon Championships – Women's Singles\")]\n",
      "[('p', 'http://www.wikidata.org/entity/Q1455356'), ('name', \"1980 French Open – Women's Doubles\")]\n",
      "[('p', 'http://www.wikidata.org/entity/Q1751593'), ('name', \"1958 Australian Championships – Men's Singles\")]\n",
      "[('p', 'http://www.wikidata.org/entity/Q2311386'), ('name', \"1980 French Open – Men's Singles\")]\n",
      "10\n"
     ]
    }
   ],
   "source": [
    "# Q102113  'Grand Slam of tennis'\n",
    "# P527  'has part'\n",
    "# P31  'instance of'\n",
    "queryString = \"\"\"\n",
    "SELECT DISTINCT ?p ?name \n",
    "WHERE { \n",
    "    ?GrandSlam wdt:P361 wd:Q102113.\n",
    "    ?edition wdt:P31 ?GrandSlam.\n",
    "    ?edition wdt:P527 ?p.\n",
    "    \n",
    "   ?p sc:name ?name.\n",
    "\n",
    "    \n",
    "}\n",
    "LIMIT 10\n",
    "\"\"\"\n",
    "\n",
    "print(\"Results\")\n",
    "x=run_query(queryString)"
   ]
  },
  {
   "cell_type": "code",
   "execution_count": 68,
   "id": "8a531eba-c9d3-4e81-a4e9-05e19e5e039f",
   "metadata": {},
   "outputs": [
    {
     "name": "stdout",
     "output_type": "stream",
     "text": [
      "Results\n",
      "[('p', 'http://www.wikidata.org/prop/direct/P1346'), ('name', 'winner'), ('obj', 'http://www.wikidata.org/entity/Q52453'), ('objName', 'Bob Hewitt')]\n",
      "[('p', 'http://www.wikidata.org/prop/direct/P2094'), ('name', 'competition class'), ('obj', 'http://www.wikidata.org/entity/Q17299700'), ('objName', \"men's doubles\")]\n",
      "[('p', 'http://www.wikidata.org/prop/direct/P31'), ('name', 'instance of'), ('obj', 'http://www.wikidata.org/entity/Q46190676'), ('objName', 'tennis event')]\n",
      "[('p', 'http://www.wikidata.org/prop/direct/P361'), ('name', 'part of'), ('obj', 'http://www.wikidata.org/entity/Q173961'), ('objName', '1978 Wimbledon Championships')]\n",
      "[('p', 'http://www.wikidata.org/prop/direct/P641'), ('name', 'sport'), ('obj', 'http://www.wikidata.org/entity/Q847'), ('objName', 'tennis')]\n",
      "5\n"
     ]
    }
   ],
   "source": [
    "\n",
    "# Q15854755 \"1978 Wimbledon Championships – Men's Doubles\"\n",
    "# P527  'has part'\n",
    "# P31  'instance of'\n",
    "queryString = \"\"\"\n",
    "SELECT DISTINCT ?p ?name  ?obj ?objName\n",
    "WHERE { \n",
    "    wd:Q15854755 ?p ?obj. \n",
    "   \n",
    "   ?obj sc:name ?objName.\n",
    "   ?p sc:name ?name.\n",
    "\n",
    "    \n",
    "}\n",
    "LIMIT 30\n",
    "\"\"\"\n",
    "\n",
    "print(\"Results\")\n",
    "x=run_query(queryString)"
   ]
  },
  {
   "cell_type": "code",
   "execution_count": 70,
   "id": "958e9b46-846a-4ff0-b365-93aa6882a64c",
   "metadata": {},
   "outputs": [
    {
     "name": "stdout",
     "output_type": "stream",
     "text": [
      "Results\n",
      "[('subEdition', 'http://www.wikidata.org/entity/Q15854755'), ('subEditionName', \"1978 Wimbledon Championships – Men's Doubles\"), ('winner', 'http://www.wikidata.org/entity/Q52453'), ('winnerName', 'Bob Hewitt')]\n",
      "[('subEdition', 'http://www.wikidata.org/entity/Q20895284'), ('subEditionName', '2015 US Open – Mixed Doubles'), ('winner', 'http://www.wikidata.org/entity/Q134720'), ('winnerName', 'Martina Hingis')]\n",
      "[('subEdition', 'http://www.wikidata.org/entity/Q20895284'), ('subEditionName', '2015 US Open – Mixed Doubles'), ('winner', 'http://www.wikidata.org/entity/Q296282'), ('winnerName', 'Leander Paes')]\n",
      "[('subEdition', 'http://www.wikidata.org/entity/Q15854758'), ('subEditionName', \"1982 Wimbledon Championships – Men's Doubles\"), ('winner', 'http://www.wikidata.org/entity/Q1348791'), ('winnerName', 'Paul McNamee')]\n",
      "[('subEdition', 'http://www.wikidata.org/entity/Q15854758'), ('subEditionName', \"1982 Wimbledon Championships – Men's Doubles\"), ('winner', 'http://www.wikidata.org/entity/Q1508952'), ('winnerName', 'Peter McNamara')]\n",
      "[('subEdition', 'http://www.wikidata.org/entity/Q22231236'), ('subEditionName', \"2016 Australian Open – Boys' Doubles\"), ('winner', 'http://www.wikidata.org/entity/Q22958938'), ('winnerName', 'Alex de Minaur')]\n",
      "[('subEdition', 'http://www.wikidata.org/entity/Q22231236'), ('subEditionName', \"2016 Australian Open – Boys' Doubles\"), ('winner', 'http://www.wikidata.org/entity/Q22959065'), ('winnerName', 'Blake Ellis')]\n",
      "[('subEdition', 'http://www.wikidata.org/entity/Q22956224'), ('subEditionName', \"2017 Australian Open – Men's Singles\"), ('winner', 'http://www.wikidata.org/entity/Q1426'), ('winnerName', 'Roger Federer')]\n",
      "[('subEdition', 'http://www.wikidata.org/entity/Q25344122'), ('subEditionName', \"2017 Wimbledon Championships – Women's Singles\"), ('winner', 'http://www.wikidata.org/entity/Q34276'), ('winnerName', 'Garbiñe Muguruza')]\n",
      "[('subEdition', 'http://www.wikidata.org/entity/Q30098268'), ('subEditionName', \"2018 Wimbledon Championships – Women's Singles\"), ('winner', 'http://www.wikidata.org/entity/Q77178'), ('winnerName', 'Angelique Kerber')]\n",
      "10\n"
     ]
    }
   ],
   "source": [
    "# P1346  'winner'\n",
    "# Q102113  'Grand Slam of tennis'\n",
    "# P527  'has part'\n",
    "# P31  'instance of'\n",
    "queryString = \"\"\"\n",
    "SELECT DISTINCT ?subEdition ?subEditionName ?winner ?winnerName\n",
    "WHERE { \n",
    "    ?GrandSlam wdt:P361 wd:Q102113.\n",
    "    ?edition wdt:P31 ?GrandSlam.\n",
    "    \n",
    "    ?edition wdt:P527 ?subEdition.\n",
    "    ?subEdition wdt:P1346 ?winner.\n",
    "    \n",
    "   ?subEdition sc:name ?subEditionName.\n",
    "    ?winner sc:name ?winnerName.\n",
    "    \n",
    "}\n",
    "LIMIT 10\n",
    "\"\"\"\n",
    "\n",
    "print(\"Results\")\n",
    "x=run_query(queryString)\n"
   ]
  },
  {
   "cell_type": "code",
   "execution_count": 75,
   "id": "40f3a635-53e2-426c-8c05-31cca0ee9652",
   "metadata": {},
   "outputs": [
    {
     "name": "stdout",
     "output_type": "stream",
     "text": [
      "Results\n",
      "[('winner', 'http://www.wikidata.org/entity/Q54545'), ('winnerName', 'Martina Navratilova'), ('numWin', '49')]\n",
      "[('winner', 'http://www.wikidata.org/entity/Q11459'), ('winnerName', 'Serena Williams'), ('numWin', '36')]\n",
      "[('winner', 'http://www.wikidata.org/entity/Q202342'), ('winnerName', 'Margaret Court'), ('numWin', '31')]\n",
      "[('winner', 'http://www.wikidata.org/entity/Q134720'), ('winnerName', 'Martina Hingis'), ('numWin', '23')]\n",
      "[('winner', 'http://www.wikidata.org/entity/Q11662'), ('winnerName', 'Steffi Graf'), ('numWin', '21')]\n",
      "[('winner', 'http://www.wikidata.org/entity/Q11578'), ('winnerName', 'Venus Williams'), ('numWin', '19')]\n",
      "[('winner', 'http://www.wikidata.org/entity/Q10132'), ('winnerName', 'Rafael Nadal'), ('numWin', '19')]\n",
      "[('winner', 'http://www.wikidata.org/entity/Q5812'), ('winnerName', 'Novak Djokovic'), ('numWin', '19')]\n",
      "[('winner', 'http://www.wikidata.org/entity/Q1426'), ('winnerName', 'Roger Federer'), ('numWin', '17')]\n",
      "[('winner', 'http://www.wikidata.org/entity/Q233243'), ('winnerName', 'Natasha Zvereva'), ('numWin', '16')]\n",
      "10\n"
     ]
    }
   ],
   "source": [
    "# P1346  'winner'\n",
    "# Q102113  'Grand Slam of tennis'\n",
    "# P527  'has part'\n",
    "# P31  'instance of'\n",
    "queryString = \"\"\"\n",
    "SELECT DISTINCT ?winner ?winnerName (count(?subEdition) as ?numWin) \n",
    "WHERE { \n",
    "    ?GrandSlam wdt:P361 wd:Q102113.\n",
    "    ?edition wdt:P31 ?GrandSlam.\n",
    "    ?edition wdt:P527 ?subEdition.\n",
    "    ?subEdition wdt:P1346 ?winner.\n",
    "    \n",
    "   ?subEdition sc:name ?subEditionName.\n",
    "    ?winner sc:name ?winnerName.\n",
    "    \n",
    "}\n",
    "\n",
    "group by ?winner ?winnerName\n",
    "\n",
    "order by DESC (?numWin)\n",
    "LIMIT 10\n",
    "\"\"\"\n",
    "\n",
    "print(\"Results\")\n",
    "x=run_query(queryString)\n",
    "\n"
   ]
  },
  {
   "cell_type": "code",
   "execution_count": 77,
   "id": "f85543dc-2e94-434f-bc37-3aeea8522eb2",
   "metadata": {},
   "outputs": [
    {
     "name": "stdout",
     "output_type": "stream",
     "text": [
      "Results\n",
      "[('winner', 'http://www.wikidata.org/entity/Q11459'), ('winnerName', 'Serena Williams'), ('numWin', '36')]\n",
      "[('winner', 'http://www.wikidata.org/entity/Q134720'), ('winnerName', 'Martina Hingis'), ('numWin', '23')]\n",
      "[('winner', 'http://www.wikidata.org/entity/Q11578'), ('winnerName', 'Venus Williams'), ('numWin', '19')]\n",
      "[('winner', 'http://www.wikidata.org/entity/Q10132'), ('winnerName', 'Rafael Nadal'), ('numWin', '19')]\n",
      "[('winner', 'http://www.wikidata.org/entity/Q5812'), ('winnerName', 'Novak Djokovic'), ('numWin', '19')]\n",
      "[('winner', 'http://www.wikidata.org/entity/Q1426'), ('winnerName', 'Roger Federer'), ('numWin', '17')]\n",
      "[('winner', 'http://www.wikidata.org/entity/Q24574661'), ('winnerName', 'Diede de Groot'), ('numWin', '16')]\n",
      "[('winner', 'http://www.wikidata.org/entity/Q53340'), ('winnerName', 'Bob Bryan'), ('numWin', '14')]\n",
      "[('winner', 'http://www.wikidata.org/entity/Q16224602'), ('winnerName', 'Yui Kamiji'), ('numWin', '12')]\n",
      "[('winner', 'http://www.wikidata.org/entity/Q53342'), ('winnerName', 'Mike Bryan'), ('numWin', '11')]\n",
      "10\n"
     ]
    }
   ],
   "source": [
    "\n",
    "# P1346  'winner'\n",
    "# Q102113  'Grand Slam of tennis'\n",
    "# P527  'has part'\n",
    "# P31  'instance of'\n",
    "queryString = \"\"\"\n",
    "SELECT DISTINCT ?winner ?winnerName (count(?subEdition) as ?numWin) \n",
    "WHERE { \n",
    "    ?GrandSlam wdt:P361 wd:Q102113.\n",
    "    ?edition wdt:P31 ?GrandSlam.\n",
    "    \n",
    "    ?edition wdt:P527 ?subEdition.\n",
    "    ?subEdition wdt:P1346 ?winner.\n",
    "    \n",
    "    ?winner wdt:P569 ?dateBirthday.\n",
    "    filter (?dateBirthday >= \"1975-01-01T00:00:00\"^^xsd:dateTime).\n",
    "    \n",
    "   ?subEdition sc:name ?subEditionName.\n",
    "    ?winner sc:name ?winnerName.\n",
    "    \n",
    "}\n",
    "\n",
    "group by ?winner ?winnerName\n",
    "\n",
    "order by DESC (?numWin)\n",
    "LIMIT 10\n",
    "\"\"\"\n",
    "\n",
    "print(\"Results\")\n",
    "x=run_query(queryString)"
   ]
  },
  {
   "cell_type": "code",
   "execution_count": 79,
   "id": "2cfdd13d-fd0a-4288-b81b-6516f7b483f2",
   "metadata": {},
   "outputs": [
    {
     "name": "stdout",
     "output_type": "stream",
     "text": [
      "Results\n",
      "[('winner', 'http://www.wikidata.org/entity/Q11459'), ('winnerName', 'Serena Williams'), ('numWin', '39')]\n",
      "[('winner', 'http://www.wikidata.org/entity/Q959958'), ('winnerName', 'Shingo Kunieda'), ('numWin', '32')]\n",
      "[('winner', 'http://www.wikidata.org/entity/Q134720'), ('winnerName', 'Martina Hingis'), ('numWin', '25')]\n",
      "[('winner', 'http://www.wikidata.org/entity/Q16224602'), ('winnerName', 'Yui Kamiji'), ('numWin', '22')]\n",
      "[('winner', 'http://www.wikidata.org/entity/Q1426'), ('winnerName', 'Roger Federer'), ('numWin', '22')]\n",
      "[('winner', 'http://www.wikidata.org/entity/Q259606'), ('winnerName', 'Esther Vergeer'), ('numWin', '21')]\n",
      "[('winner', 'http://www.wikidata.org/entity/Q11578'), ('winnerName', 'Venus Williams'), ('numWin', '20')]\n",
      "[('winner', 'http://www.wikidata.org/entity/Q10132'), ('winnerName', 'Rafael Nadal'), ('numWin', '20')]\n",
      "[('winner', 'http://www.wikidata.org/entity/Q5812'), ('winnerName', 'Novak Djokovic'), ('numWin', '20')]\n",
      "[('winner', 'http://www.wikidata.org/entity/Q53340'), ('winnerName', 'Bob Bryan'), ('numWin', '18')]\n",
      "10\n"
     ]
    }
   ],
   "source": [
    "\n",
    "# P1346  'winner'\n",
    "# Q102113  'Grand Slam of tennis'\n",
    "# P527  'has part'\n",
    "# P31  'instance of'\n",
    "queryString = \"\"\"\n",
    "SELECT DISTINCT  ?winner ?winnerName (count(?subEdition) as ?numWin) \n",
    "WHERE { \n",
    "    ?GrandSlam wdt:P361 wd:Q102113.\n",
    "    ?edition wdt:P31 ?GrandSlam.\n",
    "    \n",
    "    ?subEdition wdt:P361 ?edition.\n",
    "    ?subEdition wdt:P1346 ?winner.\n",
    "    \n",
    "    ?winner wdt:P569 ?dateBirthday.\n",
    "    filter (?dateBirthday >= \"1975-01-01T00:00:00\"^^xsd:dateTime).\n",
    "    \n",
    "   ?subEdition sc:name ?subEditionName.\n",
    "    ?winner sc:name ?winnerName.\n",
    "    \n",
    "}\n",
    "\n",
    "group by  ?winner ?winnerName\n",
    "\n",
    "order by DESC (?numWin)\n",
    "LIMIT 10\n",
    "\"\"\"\n",
    "\n",
    "print(\"Results\")\n",
    "x=run_query(queryString)"
   ]
  },
  {
   "cell_type": "markdown",
   "id": "4b5a8eb8-8c82-4ae2-b169-fbc8633ec910",
   "metadata": {},
   "source": [
    "We have 2 possibile way to return the list with differente result. We chooese the last one the more complite of information"
   ]
  },
  {
   "cell_type": "markdown",
   "id": "c92542b6",
   "metadata": {
    "tags": []
   },
   "source": [
    "## Task 7\n",
    "Consider the country for sport property of the tennis player (NO Country of citizenship). Return the countries with at least one player who won at least one edition of each Grand Slam (the result set must be a list of country IRI and label)."
   ]
  },
  {
   "cell_type": "code",
   "execution_count": 108,
   "id": "864652fd",
   "metadata": {},
   "outputs": [
    {
     "name": "stdout",
     "output_type": "stream",
     "text": [
      "Results\n",
      "[('winner', 'http://www.wikidata.org/entity/Q10132'), ('winnerName', 'Rafael Nadal'), ('numWinFrenchOpen', '13'), ('numWinUSOpen', '4')]\n",
      "[('winner', 'http://www.wikidata.org/entity/Q202342'), ('winnerName', 'Margaret Court'), ('numWinFrenchOpen', '12'), ('numWinUSOpen', '10')]\n",
      "[('winner', 'http://www.wikidata.org/entity/Q959958'), ('winnerName', 'Shingo Kunieda'), ('numWinFrenchOpen', '10'), ('numWinUSOpen', '7')]\n",
      "[('winner', 'http://www.wikidata.org/entity/Q14286'), ('winnerName', 'Chris Evert'), ('numWinFrenchOpen', '9'), ('numWinUSOpen', '6')]\n",
      "[('winner', 'http://www.wikidata.org/entity/Q3042015'), ('winnerName', 'Stéphane Houdet'), ('numWinFrenchOpen', '7'), ('numWinUSOpen', '6')]\n",
      "[('winner', 'http://www.wikidata.org/entity/Q11662'), ('winnerName', 'Steffi Graf'), ('numWinFrenchOpen', '6'), ('numWinUSOpen', '5')]\n",
      "[('winner', 'http://www.wikidata.org/entity/Q259606'), ('winnerName', 'Esther Vergeer'), ('numWinFrenchOpen', '6'), ('numWinUSOpen', '7')]\n",
      "[('winner', 'http://www.wikidata.org/entity/Q229093'), ('winnerName', 'Virginia Ruano Pascual'), ('numWinFrenchOpen', '5'), ('numWinUSOpen', '3')]\n",
      "[('winner', 'http://www.wikidata.org/entity/Q312545'), ('winnerName', 'Roy Emerson'), ('numWinFrenchOpen', '5'), ('numWinUSOpen', '2')]\n",
      "[('winner', 'http://www.wikidata.org/entity/Q11677'), ('winnerName', 'Lindsay Davenport'), ('numWinFrenchOpen', '5'), ('numWinUSOpen', '2')]\n",
      "[('winner', 'http://www.wikidata.org/entity/Q53564'), ('winnerName', 'Doris Hart'), ('numWinFrenchOpen', '5'), ('numWinUSOpen', '2')]\n",
      "[('winner', 'http://www.wikidata.org/entity/Q11459'), ('winnerName', 'Serena Williams'), ('numWinFrenchOpen', '5'), ('numWinUSOpen', '9')]\n",
      "[('winner', 'http://www.wikidata.org/entity/Q188080'), ('winnerName', 'Arantxa Sánchez Vicario'), ('numWinFrenchOpen', '5'), ('numWinUSOpen', '3')]\n",
      "[('winner', 'http://www.wikidata.org/entity/Q54654'), ('winnerName', 'Pam Shriver'), ('numWinFrenchOpen', '5'), ('numWinUSOpen', '4')]\n",
      "[('winner', 'http://www.wikidata.org/entity/Q54543'), ('winnerName', 'Helen Wills'), ('numWinFrenchOpen', '4'), ('numWinUSOpen', '8')]\n",
      "[('winner', 'http://www.wikidata.org/entity/Q24574661'), ('winnerName', 'Diede de Groot'), ('numWinFrenchOpen', '4'), ('numWinUSOpen', '5')]\n",
      "[('winner', 'http://www.wikidata.org/entity/Q53390'), ('winnerName', 'Maureen Connolly'), ('numWinFrenchOpen', '4'), ('numWinUSOpen', '3')]\n",
      "[('winner', 'http://www.wikidata.org/entity/Q270414'), ('winnerName', 'Anne Smith'), ('numWinFrenchOpen', '4'), ('numWinUSOpen', '3')]\n",
      "[('winner', 'http://www.wikidata.org/entity/Q221454'), ('winnerName', 'René Lacoste'), ('numWinFrenchOpen', '4'), ('numWinUSOpen', '2')]\n",
      "[('winner', 'http://www.wikidata.org/entity/Q263134'), ('winnerName', 'Françoise Dürr'), ('numWinFrenchOpen', '4'), ('numWinUSOpen', '2')]\n",
      "[('winner', 'http://www.wikidata.org/entity/Q1409435'), ('winnerName', 'Jiske Griffioen'), ('numWinFrenchOpen', '4'), ('numWinUSOpen', '4')]\n",
      "[('winner', 'http://www.wikidata.org/entity/Q53562'), ('winnerName', 'Darlene Hard'), ('numWinFrenchOpen', '3'), ('numWinUSOpen', '2')]\n",
      "[('winner', 'http://www.wikidata.org/entity/Q16474'), ('winnerName', 'John McEnroe'), ('numWinFrenchOpen', '3'), ('numWinUSOpen', '8')]\n",
      "[('winner', 'http://www.wikidata.org/entity/Q26951148'), ('winnerName', 'Alfie Hewett'), ('numWinFrenchOpen', '3'), ('numWinUSOpen', '5')]\n",
      "[('winner', 'http://www.wikidata.org/entity/Q134720'), ('winnerName', 'Martina Hingis'), ('numWinFrenchOpen', '3'), ('numWinUSOpen', '5')]\n",
      "[('winner', 'http://www.wikidata.org/entity/Q54527'), ('winnerName', 'Billie Jean King'), ('numWinFrenchOpen', '3'), ('numWinUSOpen', '8')]\n",
      "[('winner', 'http://www.wikidata.org/entity/Q11685'), ('winnerName', 'Kim Clijsters'), ('numWinFrenchOpen', '3'), ('numWinUSOpen', '5')]\n",
      "[('winner', 'http://www.wikidata.org/entity/Q173633'), ('winnerName', 'Monica Seles'), ('numWinFrenchOpen', '3'), ('numWinUSOpen', '2')]\n",
      "[('winner', 'http://www.wikidata.org/entity/Q229121'), ('winnerName', 'Jana Novotná'), ('numWinFrenchOpen', '2'), ('numWinUSOpen', '2')]\n",
      "[('winner', 'http://www.wikidata.org/entity/Q53550'), ('winnerName', 'Althea Gibson'), ('numWinFrenchOpen', '2'), ('numWinUSOpen', '2')]\n",
      "[('winner', 'http://www.wikidata.org/entity/Q963755'), ('winnerName', 'Frank Parker'), ('numWinFrenchOpen', '2'), ('numWinUSOpen', '2')]\n",
      "[('winner', 'http://www.wikidata.org/entity/Q5812'), ('winnerName', 'Novak Djokovic'), ('numWinFrenchOpen', '2'), ('numWinUSOpen', '3')]\n",
      "[('winner', 'http://www.wikidata.org/entity/Q105550'), ('winnerName', 'Rod Laver'), ('numWinFrenchOpen', '2'), ('numWinUSOpen', '2')]\n",
      "[('winner', 'http://www.wikidata.org/entity/Q53340'), ('winnerName', 'Bob Bryan'), ('numWinFrenchOpen', '2'), ('numWinUSOpen', '6')]\n",
      "[('winner', 'http://www.wikidata.org/entity/Q54686'), ('winnerName', 'Tony Trabert'), ('numWinFrenchOpen', '2'), ('numWinUSOpen', '2')]\n",
      "[('winner', 'http://www.wikidata.org/entity/Q312464'), ('winnerName', 'John Newcombe'), ('numWinFrenchOpen', '2'), ('numWinUSOpen', '3')]\n",
      "[('winner', 'http://www.wikidata.org/entity/Q335312'), ('winnerName', 'Todd Woodbridge'), ('numWinFrenchOpen', '2'), ('numWinUSOpen', '3')]\n",
      "[('winner', 'http://www.wikidata.org/entity/Q10129'), ('winnerName', 'Lisa Raymond'), ('numWinFrenchOpen', '2'), ('numWinUSOpen', '4')]\n",
      "[('winner', 'http://www.wikidata.org/entity/Q426049'), ('winnerName', 'John Fitzgerald'), ('numWinFrenchOpen', '2'), ('numWinUSOpen', '3')]\n",
      "39\n"
     ]
    }
   ],
   "source": [
    "\n",
    "# P1346  'winner'\n",
    "# Q102113  'Grand Slam of tennis'\n",
    "# P527  'has part'\n",
    "# P31  'instance of'\n",
    "#[('GrandSlam', 'http://www.wikidata.org/entity/Q43605'), ('GrandSlamName', 'French Open')]\n",
    "#[('GrandSlam', 'http://www.wikidata.org/entity/Q123577'), ('GrandSlamName', 'US Open')]\n",
    "#[('GrandSlam', 'http://www.wikidata.org/entity/Q41520'), ('GrandSlamName', 'Wimbledon Championships')]\n",
    "#[('GrandSlam', 'http://www.wikidata.org/entity/Q60874'), ('GrandSlamName', 'Australian Open')]\n",
    "queryString = \"\"\"\n",
    "SELECT DISTINCT  ?winner ?winnerName (count(?subEdition) as ?numWinFrenchOpen)  ?numWinUSOpen\n",
    "WHERE { \n",
    "    \n",
    "    ?edition wdt:P31 wd:Q43605.\n",
    "    \n",
    "    ?subEdition wdt:P361 ?edition.\n",
    "    ?subEdition wdt:P1346 ?winner.\n",
    "    \n",
    "    {\n",
    "        SELECT DISTINCT  ?winner (count(?subEdition2) as ?numWinUSOpen) \n",
    "        WHERE { \n",
    "\n",
    "            ?edition2 wdt:P31 wd:Q123577.\n",
    "\n",
    "            ?subEdition2 wdt:P361 ?edition2.\n",
    "            ?subEdition2 wdt:P1346 ?winner.\n",
    "        }\n",
    "        group by  ?winner\n",
    "        having (count(?subEdition2) as ?numWinUSOpen > 1)\n",
    "         \n",
    "        LIMIT 100\n",
    "    }\n",
    "\n",
    "    ?winner sc:name ?winnerName.\n",
    "    \n",
    "}\n",
    "\n",
    "group by  ?winner ?winnerName ?numWinUSOpen\n",
    "having (count(?subEdition) as ?numWinFrenchOpen > 1)\n",
    "order by DESC (?numWinFrenchOpen)\n",
    "LIMIT 100\n",
    "\"\"\"\n",
    "\n",
    "print(\"Results\")\n",
    "x=run_query(queryString)"
   ]
  },
  {
   "cell_type": "code",
   "execution_count": 113,
   "id": "1f6f58ad-9aa9-40e8-b5ee-f586b9761d69",
   "metadata": {},
   "outputs": [
    {
     "name": "stdout",
     "output_type": "stream",
     "text": [
      "Results\n",
      "[('winner', 'http://www.wikidata.org/entity/Q10132'), ('winnerName', 'Rafael Nadal'), ('numWinFrenchOpen', '13'), ('numWinUSOpen', '4'), ('numWinWimbledon', '2')]\n",
      "[('winner', 'http://www.wikidata.org/entity/Q202342'), ('winnerName', 'Margaret Court'), ('numWinFrenchOpen', '12'), ('numWinUSOpen', '10'), ('numWinWimbledon', '5')]\n",
      "[('winner', 'http://www.wikidata.org/entity/Q54545'), ('winnerName', 'Martina Navratilova'), ('numWinFrenchOpen', '11'), ('numWinUSOpen', '13'), ('numWinWimbledon', '22')]\n",
      "[('winner', 'http://www.wikidata.org/entity/Q14286'), ('winnerName', 'Chris Evert'), ('numWinFrenchOpen', '9'), ('numWinUSOpen', '6'), ('numWinWimbledon', '4')]\n",
      "[('winner', 'http://www.wikidata.org/entity/Q16224602'), ('winnerName', 'Yui Kamiji'), ('numWinFrenchOpen', '7'), ('numWinUSOpen', '4'), ('numWinWimbledon', '6')]\n",
      "[('winner', 'http://www.wikidata.org/entity/Q3042015'), ('winnerName', 'Stéphane Houdet'), ('numWinFrenchOpen', '7'), ('numWinUSOpen', '6'), ('numWinWimbledon', '3')]\n",
      "[('winner', 'http://www.wikidata.org/entity/Q233332'), ('winnerName', 'Gigi Fernández'), ('numWinFrenchOpen', '6'), ('numWinUSOpen', '5'), ('numWinWimbledon', '4')]\n",
      "[('winner', 'http://www.wikidata.org/entity/Q11662'), ('winnerName', 'Steffi Graf'), ('numWinFrenchOpen', '6'), ('numWinUSOpen', '5'), ('numWinWimbledon', '8')]\n",
      "[('winner', 'http://www.wikidata.org/entity/Q259606'), ('winnerName', 'Esther Vergeer'), ('numWinFrenchOpen', '6'), ('numWinUSOpen', '7'), ('numWinWimbledon', '2')]\n",
      "[('winner', 'http://www.wikidata.org/entity/Q312545'), ('winnerName', 'Roy Emerson'), ('numWinFrenchOpen', '5'), ('numWinUSOpen', '2'), ('numWinWimbledon', '5')]\n",
      "[('winner', 'http://www.wikidata.org/entity/Q11677'), ('winnerName', 'Lindsay Davenport'), ('numWinFrenchOpen', '5'), ('numWinUSOpen', '2'), ('numWinWimbledon', '5')]\n",
      "[('winner', 'http://www.wikidata.org/entity/Q53564'), ('winnerName', 'Doris Hart'), ('numWinFrenchOpen', '5'), ('numWinUSOpen', '2'), ('numWinWimbledon', '3')]\n",
      "[('winner', 'http://www.wikidata.org/entity/Q54654'), ('winnerName', 'Pam Shriver'), ('numWinFrenchOpen', '5'), ('numWinUSOpen', '4'), ('numWinWimbledon', '4')]\n",
      "[('winner', 'http://www.wikidata.org/entity/Q11459'), ('winnerName', 'Serena Williams'), ('numWinFrenchOpen', '5'), ('numWinUSOpen', '9'), ('numWinWimbledon', '14')]\n",
      "[('winner', 'http://www.wikidata.org/entity/Q53390'), ('winnerName', 'Maureen Connolly'), ('numWinFrenchOpen', '4'), ('numWinUSOpen', '3'), ('numWinWimbledon', '3')]\n",
      "[('winner', 'http://www.wikidata.org/entity/Q233243'), ('winnerName', 'Natasha Zvereva'), ('numWinFrenchOpen', '4'), ('numWinUSOpen', '3'), ('numWinWimbledon', '7')]\n",
      "[('winner', 'http://www.wikidata.org/entity/Q1409435'), ('winnerName', 'Jiske Griffioen'), ('numWinFrenchOpen', '4'), ('numWinUSOpen', '4'), ('numWinWimbledon', '3')]\n",
      "[('winner', 'http://www.wikidata.org/entity/Q54543'), ('winnerName', 'Helen Wills'), ('numWinFrenchOpen', '4'), ('numWinUSOpen', '8'), ('numWinWimbledon', '9')]\n",
      "[('winner', 'http://www.wikidata.org/entity/Q221454'), ('winnerName', 'René Lacoste'), ('numWinFrenchOpen', '4'), ('numWinUSOpen', '2'), ('numWinWimbledon', '2')]\n",
      "[('winner', 'http://www.wikidata.org/entity/Q24574661'), ('winnerName', 'Diede de Groot'), ('numWinFrenchOpen', '4'), ('numWinUSOpen', '5'), ('numWinWimbledon', '5')]\n",
      "20\n"
     ]
    }
   ],
   "source": [
    "\n",
    "# P1346  'winner'\n",
    "# Q102113  'Grand Slam of tennis'\n",
    "# P527  'has part'\n",
    "# P31  'instance of'\n",
    "#[('GrandSlam', 'http://www.wikidata.org/entity/Q43605'), ('GrandSlamName', 'French Open')]\n",
    "#[('GrandSlam', 'http://www.wikidata.org/entity/Q123577'), ('GrandSlamName', 'US Open')]\n",
    "#[('GrandSlam', 'http://www.wikidata.org/entity/Q41520'), ('GrandSlamName', 'Wimbledon Championships')]\n",
    "#[('GrandSlam', 'http://www.wikidata.org/entity/Q60874'), ('GrandSlamName', 'Australian Open')]\n",
    "queryString = \"\"\"\n",
    "SELECT DISTINCT  ?winner ?winnerName (count(?subEdition) as ?numWinFrenchOpen)  ?numWinUSOpen ?numWinWimbledon\n",
    "WHERE { \n",
    "    \n",
    "    ?edition wdt:P31 wd:Q43605.\n",
    "    \n",
    "    ?subEdition wdt:P361 ?edition.\n",
    "    ?subEdition wdt:P1346 ?winner.\n",
    "    \n",
    "    {\n",
    "        SELECT DISTINCT  ?winner (count(?subEdition2) as ?numWinUSOpen) ?numWinWimbledon\n",
    "        WHERE { \n",
    "\n",
    "            ?edition2 wdt:P31 wd:Q123577.\n",
    "\n",
    "            ?subEdition2 wdt:P361 ?edition2.\n",
    "            ?subEdition2 wdt:P1346 ?winner.\n",
    "            \n",
    "            {\n",
    "                SELECT DISTINCT  ?winner (count(?subEdition3) as ?numWinWimbledon) \n",
    "                WHERE { \n",
    "\n",
    "                    ?edition3 wdt:P31 wd:Q41520.\n",
    "\n",
    "                    ?subEdition3 wdt:P361 ?edition3.\n",
    "                    ?subEdition3 wdt:P1346 ?winner.\n",
    "                }\n",
    "                group by  ?winner\n",
    "                having (count(?subEdition3) as ?numWinWimbledon > 1)\n",
    "\n",
    "                #LIMIT 100\n",
    "            \n",
    "            }\n",
    "        }\n",
    "        group by  ?winner ?numWinWimbledon\n",
    "        having (count(?subEdition2) as ?numWinUSOpen > 1)\n",
    "         \n",
    "        #LIMIT 100\n",
    "    }\n",
    "\n",
    "    ?winner sc:name ?winnerName.\n",
    "    \n",
    "}\n",
    "\n",
    "group by  ?winner ?winnerName ?numWinUSOpen ?numWinWimbledon\n",
    "having (count(?subEdition) as ?numWinFrenchOpen > 1)\n",
    "order by DESC (?numWinFrenchOpen)\n",
    "LIMIT 20\n",
    "\"\"\"\n",
    "\n",
    "print(\"Results\")\n",
    "x=run_query(queryString)"
   ]
  },
  {
   "cell_type": "code",
   "execution_count": 116,
   "id": "64f67675-9200-42bb-9a97-181cc0e69ce3",
   "metadata": {},
   "outputs": [
    {
     "name": "stdout",
     "output_type": "stream",
     "text": [
      "Results\n",
      "[('winner', 'http://www.wikidata.org/entity/Q202342'), ('winnerName', 'Margaret Court'), ('numWinFrenchOpen', '12'), ('numWinUSOpen', '10'), ('numWinWimbledon', '5'), ('numWinAustralian', '21')]\n",
      "[('winner', 'http://www.wikidata.org/entity/Q54545'), ('winnerName', 'Martina Navratilova'), ('numWinFrenchOpen', '11'), ('numWinUSOpen', '13'), ('numWinWimbledon', '22'), ('numWinAustralian', '12')]\n",
      "[('winner', 'http://www.wikidata.org/entity/Q14286'), ('winnerName', 'Chris Evert'), ('numWinFrenchOpen', '9'), ('numWinUSOpen', '6'), ('numWinWimbledon', '4'), ('numWinAustralian', '2')]\n",
      "[('winner', 'http://www.wikidata.org/entity/Q3042015'), ('winnerName', 'Stéphane Houdet'), ('numWinFrenchOpen', '7'), ('numWinUSOpen', '6'), ('numWinWimbledon', '3'), ('numWinAustralian', '5')]\n",
      "[('winner', 'http://www.wikidata.org/entity/Q16224602'), ('winnerName', 'Yui Kamiji'), ('numWinFrenchOpen', '7'), ('numWinUSOpen', '4'), ('numWinWimbledon', '6'), ('numWinAustralian', '5')]\n",
      "[('winner', 'http://www.wikidata.org/entity/Q233332'), ('winnerName', 'Gigi Fernández'), ('numWinFrenchOpen', '6'), ('numWinUSOpen', '5'), ('numWinWimbledon', '4'), ('numWinAustralian', '2')]\n",
      "[('winner', 'http://www.wikidata.org/entity/Q11662'), ('winnerName', 'Steffi Graf'), ('numWinFrenchOpen', '6'), ('numWinUSOpen', '5'), ('numWinWimbledon', '8'), ('numWinAustralian', '4')]\n",
      "[('winner', 'http://www.wikidata.org/entity/Q259606'), ('winnerName', 'Esther Vergeer'), ('numWinFrenchOpen', '6'), ('numWinUSOpen', '7'), ('numWinWimbledon', '2'), ('numWinAustralian', '6')]\n",
      "[('winner', 'http://www.wikidata.org/entity/Q11677'), ('winnerName', 'Lindsay Davenport'), ('numWinFrenchOpen', '5'), ('numWinUSOpen', '2'), ('numWinWimbledon', '5'), ('numWinAustralian', '2')]\n",
      "[('winner', 'http://www.wikidata.org/entity/Q11459'), ('winnerName', 'Serena Williams'), ('numWinFrenchOpen', '5'), ('numWinUSOpen', '9'), ('numWinWimbledon', '14'), ('numWinAustralian', '11')]\n",
      "[('winner', 'http://www.wikidata.org/entity/Q54654'), ('winnerName', 'Pam Shriver'), ('numWinFrenchOpen', '5'), ('numWinUSOpen', '4'), ('numWinWimbledon', '4'), ('numWinAustralian', '5')]\n",
      "[('winner', 'http://www.wikidata.org/entity/Q312545'), ('winnerName', 'Roy Emerson'), ('numWinFrenchOpen', '5'), ('numWinUSOpen', '2'), ('numWinWimbledon', '5'), ('numWinAustralian', '6')]\n",
      "[('winner', 'http://www.wikidata.org/entity/Q53564'), ('winnerName', 'Doris Hart'), ('numWinFrenchOpen', '5'), ('numWinUSOpen', '2'), ('numWinWimbledon', '3'), ('numWinAustralian', '3')]\n",
      "[('winner', 'http://www.wikidata.org/entity/Q233243'), ('winnerName', 'Natasha Zvereva'), ('numWinFrenchOpen', '4'), ('numWinUSOpen', '3'), ('numWinWimbledon', '7'), ('numWinAustralian', '5')]\n",
      "[('winner', 'http://www.wikidata.org/entity/Q1409435'), ('winnerName', 'Jiske Griffioen'), ('numWinFrenchOpen', '4'), ('numWinUSOpen', '4'), ('numWinWimbledon', '3'), ('numWinAustralian', '5')]\n",
      "[('winner', 'http://www.wikidata.org/entity/Q24574661'), ('winnerName', 'Diede de Groot'), ('numWinFrenchOpen', '4'), ('numWinUSOpen', '5'), ('numWinWimbledon', '5'), ('numWinAustralian', '3')]\n",
      "[('winner', 'http://www.wikidata.org/entity/Q53390'), ('winnerName', 'Maureen Connolly'), ('numWinFrenchOpen', '4'), ('numWinUSOpen', '3'), ('numWinWimbledon', '3'), ('numWinAustralian', '2')]\n",
      "[('winner', 'http://www.wikidata.org/entity/Q54527'), ('winnerName', 'Billie Jean King'), ('numWinFrenchOpen', '3'), ('numWinUSOpen', '8'), ('numWinWimbledon', '10'), ('numWinAustralian', '2')]\n",
      "[('winner', 'http://www.wikidata.org/entity/Q134720'), ('winnerName', 'Martina Hingis'), ('numWinFrenchOpen', '3'), ('numWinUSOpen', '5'), ('numWinWimbledon', '7'), ('numWinAustralian', '10')]\n",
      "[('winner', 'http://www.wikidata.org/entity/Q296282'), ('winnerName', 'Leander Paes'), ('numWinFrenchOpen', '2'), ('numWinUSOpen', '2'), ('numWinWimbledon', '5'), ('numWinAustralian', '4')]\n",
      "[('winner', 'http://www.wikidata.org/entity/Q312464'), ('winnerName', 'John Newcombe'), ('numWinFrenchOpen', '2'), ('numWinUSOpen', '3'), ('numWinWimbledon', '9'), ('numWinAustralian', '6')]\n",
      "[('winner', 'http://www.wikidata.org/entity/Q335312'), ('winnerName', 'Todd Woodbridge'), ('numWinFrenchOpen', '2'), ('numWinUSOpen', '3'), ('numWinWimbledon', '8'), ('numWinAustralian', '5')]\n",
      "[('winner', 'http://www.wikidata.org/entity/Q229121'), ('winnerName', 'Jana Novotná'), ('numWinFrenchOpen', '2'), ('numWinUSOpen', '2'), ('numWinWimbledon', '8'), ('numWinAustralian', '4')]\n",
      "[('winner', 'http://www.wikidata.org/entity/Q53340'), ('winnerName', 'Bob Bryan'), ('numWinFrenchOpen', '2'), ('numWinUSOpen', '6'), ('numWinWimbledon', '4'), ('numWinAustralian', '6')]\n",
      "[('winner', 'http://www.wikidata.org/entity/Q5812'), ('winnerName', 'Novak Djokovic'), ('numWinFrenchOpen', '2'), ('numWinUSOpen', '3'), ('numWinWimbledon', '6'), ('numWinAustralian', '9')]\n",
      "[('winner', 'http://www.wikidata.org/entity/Q105550'), ('winnerName', 'Rod Laver'), ('numWinFrenchOpen', '2'), ('numWinUSOpen', '2'), ('numWinWimbledon', '6'), ('numWinAustralian', '4')]\n",
      "26\n"
     ]
    }
   ],
   "source": [
    "\n",
    "# P1346  'winner'\n",
    "# Q102113  'Grand Slam of tennis'\n",
    "# P527  'has part'\n",
    "# P31  'instance of'\n",
    "#[('GrandSlam', 'http://www.wikidata.org/entity/Q43605'), ('GrandSlamName', 'French Open')]\n",
    "#[('GrandSlam', 'http://www.wikidata.org/entity/Q123577'), ('GrandSlamName', 'US Open')]\n",
    "#[('GrandSlam', 'http://www.wikidata.org/entity/Q41520'), ('GrandSlamName', 'Wimbledon Championships')]\n",
    "#[('GrandSlam', 'http://www.wikidata.org/entity/Q60874'), ('GrandSlamName', 'Australian Open')]\n",
    "queryString = \"\"\"\n",
    "SELECT DISTINCT  ?winner ?winnerName (count(?subEdition) as ?numWinFrenchOpen)  ?numWinUSOpen ?numWinWimbledon ?numWinAustralian\n",
    "WHERE { \n",
    "    \n",
    "    ?edition wdt:P31 wd:Q43605.\n",
    "    \n",
    "    ?subEdition wdt:P361 ?edition.\n",
    "    ?subEdition wdt:P1346 ?winner.\n",
    "    \n",
    "    { #SUBQUERY 2\n",
    "        SELECT DISTINCT  ?winner (count(?subEdition2) as ?numWinUSOpen) ?numWinWimbledon ?numWinAustralian\n",
    "        WHERE { \n",
    "\n",
    "            ?edition2 wdt:P31 wd:Q123577.\n",
    "\n",
    "            ?subEdition2 wdt:P361 ?edition2.\n",
    "            ?subEdition2 wdt:P1346 ?winner.\n",
    "            \n",
    "            { #SUBQUERY 3\n",
    "                SELECT DISTINCT  ?winner (count(?subEdition3) as ?numWinWimbledon) ?numWinAustralian\n",
    "                WHERE { \n",
    "\n",
    "                    ?edition3 wdt:P31 wd:Q41520.\n",
    "\n",
    "                    ?subEdition3 wdt:P361 ?edition3.\n",
    "                    ?subEdition3 wdt:P1346 ?winner.\n",
    "                    \n",
    "                    { #SUBQUERY 4\n",
    "                        SELECT DISTINCT  ?winner (count(?subEdition4) as ?numWinAustralian) \n",
    "                        WHERE { \n",
    "\n",
    "                            ?edition4 wdt:P31 wd:Q60874.\n",
    "\n",
    "                            ?subEdition4 wdt:P361 ?edition4.\n",
    "                            ?subEdition4 wdt:P1346 ?winner.\n",
    "                        }\n",
    "                        group by  ?winner\n",
    "                        having (count(?subEdition4) as ?numWinUSOpen > 1)\n",
    "\n",
    "                    }\n",
    "                    \n",
    "                    \n",
    "                }\n",
    "                group by  ?winner ?numWinAustralian\n",
    "                having (count(?subEdition3) as ?numWinWimbledon > 1) \n",
    "\n",
    "                \n",
    "            \n",
    "            }\n",
    "        }\n",
    "        group by  ?winner ?numWinWimbledon ?numWinAustralian\n",
    "        having (count(?subEdition2) as ?numWinUSOpen > 1)\n",
    "         \n",
    "       \n",
    "    }\n",
    "\n",
    "    ?winner sc:name ?winnerName.\n",
    "    \n",
    "}\n",
    "\n",
    "group by  ?winner ?winnerName ?numWinUSOpen ?numWinWimbledon ?numWinAustralian\n",
    "having (count(?subEdition) as ?numWinFrenchOpen > 1)\n",
    "order by DESC (?numWinFrenchOpen)\n",
    "LIMIT 100\n",
    "\"\"\"\n",
    "\n",
    "print(\"Results\")\n",
    "x=run_query(queryString)"
   ]
  },
  {
   "cell_type": "code",
   "execution_count": 118,
   "id": "89d5de42-d6c5-4d35-9782-cd34113f3b92",
   "metadata": {},
   "outputs": [
    {
     "name": "stdout",
     "output_type": "stream",
     "text": [
      "Results\n",
      "[('winner', 'http://www.wikidata.org/entity/Q3042015'), ('winnerName', 'Stéphane Houdet'), ('countryName', 'France')]\n",
      "[('winner', 'http://www.wikidata.org/entity/Q16224602'), ('winnerName', 'Yui Kamiji'), ('countryName', 'Japan')]\n",
      "[('winner', 'http://www.wikidata.org/entity/Q11662'), ('winnerName', 'Steffi Graf'), ('countryName', 'Germany')]\n",
      "[('winner', 'http://www.wikidata.org/entity/Q233243'), ('winnerName', 'Natasha Zvereva'), ('countryName', 'Belarus')]\n",
      "[('winner', 'http://www.wikidata.org/entity/Q54545'), ('winnerName', 'Martina Navratilova'), ('countryName', 'Czech Republic')]\n",
      "[('winner', 'http://www.wikidata.org/entity/Q229121'), ('winnerName', 'Jana Novotná'), ('countryName', 'Czech Republic')]\n",
      "[('winner', 'http://www.wikidata.org/entity/Q54654'), ('winnerName', 'Pam Shriver'), ('countryName', 'United States of America')]\n",
      "[('winner', 'http://www.wikidata.org/entity/Q14286'), ('winnerName', 'Chris Evert'), ('countryName', 'United States of America')]\n",
      "[('winner', 'http://www.wikidata.org/entity/Q233332'), ('winnerName', 'Gigi Fernández'), ('countryName', 'United States of America')]\n",
      "[('winner', 'http://www.wikidata.org/entity/Q53390'), ('winnerName', 'Maureen Connolly'), ('countryName', 'United States of America')]\n",
      "[('winner', 'http://www.wikidata.org/entity/Q54527'), ('winnerName', 'Billie Jean King'), ('countryName', 'United States of America')]\n",
      "[('winner', 'http://www.wikidata.org/entity/Q54545'), ('winnerName', 'Martina Navratilova'), ('countryName', 'United States of America')]\n",
      "[('winner', 'http://www.wikidata.org/entity/Q53564'), ('winnerName', 'Doris Hart'), ('countryName', 'United States of America')]\n",
      "[('winner', 'http://www.wikidata.org/entity/Q11677'), ('winnerName', 'Lindsay Davenport'), ('countryName', 'United States of America')]\n",
      "[('winner', 'http://www.wikidata.org/entity/Q11459'), ('winnerName', 'Serena Williams'), ('countryName', 'United States of America')]\n",
      "[('winner', 'http://www.wikidata.org/entity/Q134720'), ('winnerName', 'Martina Hingis'), ('countryName', 'Switzerland')]\n",
      "[('winner', 'http://www.wikidata.org/entity/Q5812'), ('winnerName', 'Novak Djokovic'), ('countryName', 'Serbia')]\n",
      "[('winner', 'http://www.wikidata.org/entity/Q105550'), ('winnerName', 'Rod Laver'), ('countryName', 'Australia')]\n",
      "[('winner', 'http://www.wikidata.org/entity/Q296282'), ('winnerName', 'Leander Paes'), ('countryName', 'India')]\n",
      "[('winner', 'http://www.wikidata.org/entity/Q229121'), ('winnerName', 'Jana Novotná'), ('countryName', 'Czechoslovakia')]\n",
      "[('winner', 'http://www.wikidata.org/entity/Q54545'), ('winnerName', 'Martina Navratilova'), ('countryName', 'Czechoslovakia')]\n",
      "21\n"
     ]
    }
   ],
   "source": [
    "\n",
    "# P1346  'winner'\n",
    "# Q102113  'Grand Slam of tennis'\n",
    "# P527  'has part'\n",
    "# P31  'instance of'\n",
    "#[('GrandSlam', 'http://www.wikidata.org/entity/Q43605'), ('GrandSlamName', 'French Open')]\n",
    "#[('GrandSlam', 'http://www.wikidata.org/entity/Q123577'), ('GrandSlamName', 'US Open')]\n",
    "#[('GrandSlam', 'http://www.wikidata.org/entity/Q41520'), ('GrandSlamName', 'Wimbledon Championships')]\n",
    "#[('GrandSlam', 'http://www.wikidata.org/entity/Q60874'), ('GrandSlamName', 'Australian Open')]\n",
    "\n",
    "# P1532  'country for sport'\n",
    "queryString = \"\"\"\n",
    " SELECT DISTINCT  ?winner ?winnerName ?countryName\n",
    "WHERE { \n",
    "    ?winner wdt:P1532 ?country.\n",
    "    ?country sc:name ?countryName.\n",
    "    \n",
    "        {\n",
    "\n",
    "        SELECT DISTINCT  ?winner ?winnerName (count(?subEdition) as ?numWinFrenchOpen)  ?numWinUSOpen ?numWinWimbledon ?numWinAustralian\n",
    "        WHERE { \n",
    "\n",
    "            ?edition wdt:P31 wd:Q43605.\n",
    "\n",
    "            ?subEdition wdt:P361 ?edition.\n",
    "            ?subEdition wdt:P1346 ?winner.\n",
    "\n",
    "            { #SUBQUERY 2\n",
    "                SELECT DISTINCT  ?winner (count(?subEdition2) as ?numWinUSOpen) ?numWinWimbledon ?numWinAustralian\n",
    "                WHERE { \n",
    "\n",
    "                    ?edition2 wdt:P31 wd:Q123577.\n",
    "\n",
    "                    ?subEdition2 wdt:P361 ?edition2.\n",
    "                    ?subEdition2 wdt:P1346 ?winner.\n",
    "\n",
    "                    { #SUBQUERY 3\n",
    "                        SELECT DISTINCT  ?winner (count(?subEdition3) as ?numWinWimbledon) ?numWinAustralian\n",
    "                        WHERE { \n",
    "\n",
    "                            ?edition3 wdt:P31 wd:Q41520.\n",
    "\n",
    "                            ?subEdition3 wdt:P361 ?edition3.\n",
    "                            ?subEdition3 wdt:P1346 ?winner.\n",
    "\n",
    "                            { #SUBQUERY 4\n",
    "                                SELECT DISTINCT  ?winner (count(?subEdition4) as ?numWinAustralian) \n",
    "                                WHERE { \n",
    "\n",
    "                                    ?edition4 wdt:P31 wd:Q60874.\n",
    "\n",
    "                                    ?subEdition4 wdt:P361 ?edition4.\n",
    "                                    ?subEdition4 wdt:P1346 ?winner.\n",
    "                                }\n",
    "                                group by  ?winner\n",
    "                                having (count(?subEdition4) as ?numWinUSOpen > 1)\n",
    "\n",
    "                            }\n",
    "\n",
    "\n",
    "                        }\n",
    "                        group by  ?winner ?numWinAustralian\n",
    "                        having (count(?subEdition3) as ?numWinWimbledon > 1) \n",
    "\n",
    "\n",
    "\n",
    "                    }\n",
    "                }\n",
    "                group by  ?winner ?numWinWimbledon ?numWinAustralian\n",
    "                having (count(?subEdition2) as ?numWinUSOpen > 1)\n",
    "\n",
    "\n",
    "            }\n",
    "\n",
    "            ?winner sc:name ?winnerName.\n",
    "\n",
    "        }\n",
    "\n",
    "        group by  ?winner ?winnerName ?numWinUSOpen ?numWinWimbledon ?numWinAustralian\n",
    "        having (count(?subEdition) as ?numWinFrenchOpen > 1)\n",
    "        order by DESC (?numWinFrenchOpen)\n",
    "        LIMIT 100\n",
    "        }\n",
    "}\n",
    "\"\"\"\n",
    "\n",
    "print(\"Results\")\n",
    "x=run_query(queryString)"
   ]
  },
  {
   "cell_type": "markdown",
   "id": "4456a2f2",
   "metadata": {},
   "source": [
    "Final query for this task"
   ]
  },
  {
   "cell_type": "code",
   "execution_count": 119,
   "id": "d8b1fb57-ffa8-46f2-b654-f9e45952c74a",
   "metadata": {},
   "outputs": [
    {
     "name": "stdout",
     "output_type": "stream",
     "text": [
      "Results\n",
      "[('country', 'http://www.wikidata.org/entity/Q183'), ('countryName', 'Germany'), ('numWin', '1')]\n",
      "[('country', 'http://www.wikidata.org/entity/Q403'), ('countryName', 'Serbia'), ('numWin', '1')]\n",
      "[('country', 'http://www.wikidata.org/entity/Q142'), ('countryName', 'France'), ('numWin', '1')]\n",
      "[('country', 'http://www.wikidata.org/entity/Q184'), ('countryName', 'Belarus'), ('numWin', '1')]\n",
      "[('country', 'http://www.wikidata.org/entity/Q668'), ('countryName', 'India'), ('numWin', '1')]\n",
      "[('country', 'http://www.wikidata.org/entity/Q213'), ('countryName', 'Czech Republic'), ('numWin', '2')]\n",
      "[('country', 'http://www.wikidata.org/entity/Q17'), ('countryName', 'Japan'), ('numWin', '1')]\n",
      "[('country', 'http://www.wikidata.org/entity/Q30'), ('countryName', 'United States of America'), ('numWin', '9')]\n",
      "[('country', 'http://www.wikidata.org/entity/Q408'), ('countryName', 'Australia'), ('numWin', '1')]\n",
      "[('country', 'http://www.wikidata.org/entity/Q39'), ('countryName', 'Switzerland'), ('numWin', '1')]\n",
      "[('country', 'http://www.wikidata.org/entity/Q33946'), ('countryName', 'Czechoslovakia'), ('numWin', '2')]\n",
      "11\n"
     ]
    }
   ],
   "source": [
    "\n",
    "# P1346  'winner'\n",
    "# Q102113  'Grand Slam of tennis'\n",
    "# P527  'has part'\n",
    "# P31  'instance of'\n",
    "#[('GrandSlam', 'http://www.wikidata.org/entity/Q43605'), ('GrandSlamName', 'French Open')]\n",
    "#[('GrandSlam', 'http://www.wikidata.org/entity/Q123577'), ('GrandSlamName', 'US Open')]\n",
    "#[('GrandSlam', 'http://www.wikidata.org/entity/Q41520'), ('GrandSlamName', 'Wimbledon Championships')]\n",
    "#[('GrandSlam', 'http://www.wikidata.org/entity/Q60874'), ('GrandSlamName', 'Australian Open')]\n",
    "\n",
    "# P1532  'country for sport'\n",
    "queryString = \"\"\"\n",
    " SELECT DISTINCT  ?country ?countryName (count(?winner)as ?numWin)\n",
    "WHERE { \n",
    "    ?winner wdt:P1532 ?country.\n",
    "    ?country sc:name ?countryName.\n",
    "    \n",
    "        {\n",
    "\n",
    "        SELECT DISTINCT  ?winner ?winnerName (count(?subEdition) as ?numWinFrenchOpen)  ?numWinUSOpen ?numWinWimbledon ?numWinAustralian\n",
    "        WHERE { \n",
    "\n",
    "            ?edition wdt:P31 wd:Q43605.\n",
    "\n",
    "            ?subEdition wdt:P361 ?edition.\n",
    "            ?subEdition wdt:P1346 ?winner.\n",
    "\n",
    "            { #SUBQUERY 2\n",
    "                SELECT DISTINCT  ?winner (count(?subEdition2) as ?numWinUSOpen) ?numWinWimbledon ?numWinAustralian\n",
    "                WHERE { \n",
    "\n",
    "                    ?edition2 wdt:P31 wd:Q123577.\n",
    "\n",
    "                    ?subEdition2 wdt:P361 ?edition2.\n",
    "                    ?subEdition2 wdt:P1346 ?winner.\n",
    "\n",
    "                    { #SUBQUERY 3\n",
    "                        SELECT DISTINCT  ?winner (count(?subEdition3) as ?numWinWimbledon) ?numWinAustralian\n",
    "                        WHERE { \n",
    "\n",
    "                            ?edition3 wdt:P31 wd:Q41520.\n",
    "\n",
    "                            ?subEdition3 wdt:P361 ?edition3.\n",
    "                            ?subEdition3 wdt:P1346 ?winner.\n",
    "\n",
    "                            { #SUBQUERY 4\n",
    "                                SELECT DISTINCT  ?winner (count(?subEdition4) as ?numWinAustralian) \n",
    "                                WHERE { \n",
    "\n",
    "                                    ?edition4 wdt:P31 wd:Q60874.\n",
    "\n",
    "                                    ?subEdition4 wdt:P361 ?edition4.\n",
    "                                    ?subEdition4 wdt:P1346 ?winner.\n",
    "                                }\n",
    "                                group by  ?winner\n",
    "                                having (count(?subEdition4) as ?numWinUSOpen > 1)\n",
    "\n",
    "                            }\n",
    "\n",
    "\n",
    "                        }\n",
    "                        group by  ?winner ?numWinAustralian\n",
    "                        having (count(?subEdition3) as ?numWinWimbledon > 1) \n",
    "\n",
    "\n",
    "\n",
    "                    }\n",
    "                }\n",
    "                group by  ?winner ?numWinWimbledon ?numWinAustralian\n",
    "                having (count(?subEdition2) as ?numWinUSOpen > 1)\n",
    "\n",
    "\n",
    "            }\n",
    "\n",
    "            ?winner sc:name ?winnerName.\n",
    "\n",
    "        }\n",
    "\n",
    "        group by  ?winner ?winnerName ?numWinUSOpen ?numWinWimbledon ?numWinAustralian\n",
    "        having (count(?subEdition) as ?numWinFrenchOpen > 1)\n",
    "        order by DESC (?numWinFrenchOpen)\n",
    "        LIMIT 100\n",
    "        }\n",
    "}\n",
    "GROUP BY ?country ?countryName\n",
    "\n",
    "\"\"\"\n",
    "\n",
    "print(\"Results\")\n",
    "x=run_query(queryString)"
   ]
  },
  {
   "cell_type": "markdown",
   "id": "0b933eb1",
   "metadata": {
    "tags": []
   },
   "source": [
    "## Task 8\n",
    "Consider the country for sport property of the tennis player (NO Country of citizenship). Return the countries with at least one player who was ranked 1 in the tennis ranking  (the result set must be a list of country IRI and label)."
   ]
  },
  {
   "cell_type": "code",
   "execution_count": 35,
   "id": "c351a1b4",
   "metadata": {},
   "outputs": [
    {
     "name": "stdout",
     "output_type": "stream",
     "text": [
      "Results\n",
      "[('obj', 'http://www.wikidata.org/entity/Q50932406'), ('objName', 'tennis ranking')]\n",
      "[('obj', 'http://www.wikidata.org/entity/Q686735'), ('objName', 'World number 1 male tennis player rankings')]\n",
      "2\n"
     ]
    }
   ],
   "source": [
    "# P1532  'country for sport' property for the player\n",
    "# P641 'sport' Q847  'tennis' \n",
    "\n",
    "queryString = \"\"\"\n",
    "SELECT DISTINCT ?obj ?objName \n",
    "WHERE { \n",
    "  \n",
    "   ?obj ?r  wd:Q847.\n",
    "        \n",
    "    \n",
    "   ?obj sc:name ?objName.\n",
    "   filter regex(?objName, \"ranking\").\n",
    "   \n",
    "    \n",
    "}\n",
    "LIMIT 10\n",
    "\"\"\"\n",
    "\n",
    "print(\"Results\")\n",
    "x=run_query(queryString)"
   ]
  },
  {
   "cell_type": "code",
   "execution_count": 38,
   "id": "98154813-0afa-4a72-bb99-a93a2ad1770b",
   "metadata": {},
   "outputs": [
    {
     "name": "stdout",
     "output_type": "stream",
     "text": [
      "Results\n",
      "[('obj', 'http://www.wikidata.org/entity/Q15207863'), ('objName', 'Category:Tennis rankings')]\n",
      "[('obj', 'http://www.wikidata.org/entity/Q56377500'), ('objName', 'Transition Tour')]\n",
      "[('obj', 'http://www.wikidata.org/entity/Q10272773'), ('objName', 'WTA Rankings')]\n",
      "[('obj', 'http://www.wikidata.org/entity/Q1571500'), ('objName', 'ATP Rankings')]\n",
      "4\n"
     ]
    }
   ],
   "source": [
    "# Q50932406 'tennis ranking' \n",
    "# P1532  'country for sport' property for the player\n",
    "# P641 'sport' Q847  'tennis' \n",
    "\n",
    "queryString = \"\"\"\n",
    "SELECT DISTINCT ?obj ?objName \n",
    "WHERE { \n",
    "  \n",
    "   ?obj ?r wd:Q50932406.\n",
    "        \n",
    "    \n",
    "   ?obj sc:name ?objName.\n",
    "   \n",
    "    \n",
    "}\n",
    "LIMIT 10\n",
    "\"\"\"\n",
    "\n",
    "print(\"Results\")\n",
    "x=run_query(queryString)"
   ]
  },
  {
   "cell_type": "code",
   "execution_count": 120,
   "id": "b14a951b-e5b1-4427-927a-eabd9db49174",
   "metadata": {},
   "outputs": [
    {
     "name": "stdout",
     "output_type": "stream",
     "text": [
      "Results\n",
      "[('obj', 'http://www.wikidata.org/prop/direct/P1424'), ('objName', \"topic's main template\")]\n",
      "[('obj', 'http://www.wikidata.org/prop/direct/P2671'), ('objName', 'Google Knowledge Graph ID')]\n",
      "[('obj', 'http://www.wikidata.org/prop/direct/P279'), ('objName', 'subclass of')]\n",
      "[('obj', 'http://www.wikidata.org/prop/direct/P641'), ('objName', 'sport')]\n",
      "[('obj', 'http://www.wikidata.org/prop/direct/P910'), ('objName', \"topic's main category\")]\n",
      "5\n"
     ]
    }
   ],
   "source": [
    "# Q50932406 'tennis ranking' \n",
    "# P1532  'country for sport' property for the player\n",
    "# P641 'sport' Q847  'tennis' \n",
    "\n",
    "queryString = \"\"\"\n",
    "SELECT DISTINCT ?obj ?objName \n",
    "WHERE { \n",
    "  \n",
    "    wd:Q50932406 ?obj ?r.\n",
    "        \n",
    "    \n",
    "   ?obj sc:name ?objName.\n",
    "   \n",
    "    \n",
    "}\n",
    "LIMIT 10\n",
    "\"\"\"\n",
    "\n",
    "print(\"Results\")\n",
    "x=run_query(queryString)"
   ]
  },
  {
   "cell_type": "code",
   "execution_count": 122,
   "id": "06918e8f-4a02-4185-9aa9-c47b165c692b",
   "metadata": {},
   "outputs": [
    {
     "name": "stdout",
     "output_type": "stream",
     "text": [
      "Results\n",
      "[('p', 'http://www.wikidata.org/prop/direct/P1352'), ('name', 'ranking'), ('obj', '1')]\n",
      "1\n"
     ]
    }
   ],
   "source": [
    "# wd:Q11459\tSerena Williams\n",
    "queryString = \"\"\"\n",
    "SELECT DISTINCT ?p ?name ?obj ?objName\n",
    "WHERE { \n",
    "  \n",
    "    wd:Q11459 ?p ?obj.\n",
    "   \n",
    "   ?p sc:name ?name.\n",
    "   optional{?obj sc:name ?objName.}\n",
    "   filter regex(?name, \"rank\").\n",
    "   \n",
    "    \n",
    "}\n",
    "LIMIT 30\n",
    "\"\"\"\n",
    "\n",
    "print(\"Results\")\n",
    "x=run_query(queryString)"
   ]
  },
  {
   "cell_type": "code",
   "execution_count": 126,
   "id": "9b39d20b-1015-47e2-9bbe-3465c2f35bfa",
   "metadata": {},
   "outputs": [
    {
     "name": "stdout",
     "output_type": "stream",
     "text": [
      "Results\n",
      "[('obj', '1')]\n",
      "1\n"
     ]
    }
   ],
   "source": [
    "# P1352  'ranking' \n",
    "# wd:Q11459\tSerena Williams\n",
    "queryString = \"\"\"\n",
    "SELECT DISTINCT  ?obj ?objName\n",
    "WHERE { \n",
    "  \n",
    "    wd:Q11459 wdt:P1352 ?obj.\n",
    "   \n",
    "    \n",
    "   optional{?obj sc:name ?objName.}\n",
    "\n",
    "    \n",
    "}\n",
    "LIMIT 30\n",
    "\"\"\"\n",
    "\n",
    "print(\"Results\")\n",
    "x=run_query(queryString)"
   ]
  },
  {
   "cell_type": "code",
   "execution_count": 130,
   "id": "b6bfc728-d1b1-45bb-bcf8-c7cbd86d8f4a",
   "metadata": {},
   "outputs": [
    {
     "name": "stdout",
     "output_type": "stream",
     "text": [
      "Results\n",
      "[('player', 'http://www.wikidata.org/entity/Q138094'), ('playerName', 'Anna Karolína Schmiedlová'), ('obj', '26')]\n",
      "[('player', 'http://www.wikidata.org/entity/Q15197746'), ('playerName', 'Wesley Koolhof'), ('obj', '5')]\n",
      "[('player', 'http://www.wikidata.org/entity/Q15197746'), ('playerName', 'Wesley Koolhof'), ('obj', '462')]\n",
      "[('player', 'http://www.wikidata.org/entity/Q240837'), ('playerName', 'Rika Fujiwara'), ('obj', '13')]\n",
      "[('player', 'http://www.wikidata.org/entity/Q240837'), ('playerName', 'Rika Fujiwara'), ('obj', '84')]\n",
      "[('player', 'http://www.wikidata.org/entity/Q4134097'), ('playerName', 'Margarita Gasparyan'), ('obj', '25')]\n",
      "[('player', 'http://www.wikidata.org/entity/Q7281705'), ('playerName', 'Radu Albot'), ('obj', '56')]\n",
      "[('player', 'http://www.wikidata.org/entity/Q7281705'), ('playerName', 'Radu Albot'), ('obj', '108')]\n",
      "[('player', 'http://www.wikidata.org/entity/Q18918709'), ('playerName', 'Markéta Vondroušová'), ('obj', '14')]\n",
      "[('player', 'http://www.wikidata.org/entity/Q6408932'), ('playerName', 'Kim Jones'), ('obj', '25')]\n",
      "10\n"
     ]
    }
   ],
   "source": [
    "# P1352  'ranking' \n",
    "# wd:Q11459\tSerena Williams\n",
    "\n",
    "#P106  'occupation' \n",
    "#Q10833314 'tennis player' \n",
    " \n",
    "queryString = \"\"\"\n",
    "SELECT DISTINCT ?player ?playerName ?obj \n",
    "WHERE { \n",
    "  \n",
    "    ?player wdt:P1352 ?obj;\n",
    "        wdt:P106 wd:Q10833314.\n",
    "    \n",
    "    ?player sc:name ?playerName.\n",
    "\n",
    "    \n",
    "}\n",
    "LIMIT 10\n",
    "\"\"\"\n",
    "\n",
    "print(\"Results\")\n",
    "x=run_query(queryString)"
   ]
  },
  {
   "cell_type": "code",
   "execution_count": 131,
   "id": "d53df634-fafa-4bca-a50e-14dd7fa74950",
   "metadata": {},
   "outputs": [
    {
     "name": "stdout",
     "output_type": "stream",
     "text": [
      "Results\n",
      "[('player', 'http://www.wikidata.org/entity/Q207352'), ('playerName', 'Agnieszka Radwańska'), ('obj', '1')]\n",
      "[('player', 'http://www.wikidata.org/entity/Q455136'), ('playerName', 'Anders Järryd'), ('obj', '1')]\n",
      "[('player', 'http://www.wikidata.org/entity/Q455411'), ('playerName', 'Tom Okker'), ('obj', '1')]\n",
      "[('player', 'http://www.wikidata.org/entity/Q310419'), ('playerName', 'Nenad Zimonjić'), ('obj', '1')]\n",
      "[('player', 'http://www.wikidata.org/entity/Q53393'), ('playerName', 'Jimmy Connors'), ('obj', '1')]\n",
      "[('player', 'http://www.wikidata.org/entity/Q10118'), ('playerName', 'Victoria Azarenka'), ('obj', '1')]\n",
      "[('player', 'http://www.wikidata.org/entity/Q13538'), ('playerName', 'Henri Kontinen'), ('obj', '1')]\n",
      "[('player', 'http://www.wikidata.org/entity/Q1743002'), ('playerName', 'Robert Seguso'), ('obj', '1')]\n",
      "[('player', 'http://www.wikidata.org/entity/Q189542'), ('playerName', 'Stefan Edberg'), ('obj', '1')]\n",
      "[('player', 'http://www.wikidata.org/entity/Q232566'), ('playerName', 'Hsieh Su-wei'), ('obj', '1')]\n",
      "10\n"
     ]
    }
   ],
   "source": [
    "# P1352  'ranking' \n",
    "# wd:Q11459\tSerena Williams\n",
    "\n",
    "#P106  'occupation' \n",
    "#Q10833314 'tennis player'  \n",
    " \n",
    "queryString = \"\"\"\n",
    "SELECT DISTINCT ?player ?playerName ?obj \n",
    "WHERE { \n",
    "  \n",
    "    ?player wdt:P1352 ?obj;\n",
    "        wdt:P106 wd:Q10833314.\n",
    "    \n",
    "    ?player sc:name ?playerName.\n",
    "    filter (?obj = 1).\n",
    "    \n",
    "}\n",
    "LIMIT 10\n",
    "\"\"\"\n",
    "\n",
    "print(\"Results\")\n",
    "x=run_query(queryString)"
   ]
  },
  {
   "cell_type": "markdown",
   "id": "09c39e8d",
   "metadata": {},
   "source": [
    "Final query for this task"
   ]
  },
  {
   "cell_type": "code",
   "execution_count": 133,
   "id": "f4289e3e-6d7e-4ab5-ab1a-49da5a51684d",
   "metadata": {},
   "outputs": [
    {
     "name": "stdout",
     "output_type": "stream",
     "text": [
      "Results\n",
      "[('country', 'http://www.wikidata.org/entity/Q216923'), ('countryName', 'Chinese Taipei')]\n",
      "[('country', 'http://www.wikidata.org/entity/Q142'), ('countryName', 'France')]\n",
      "[('country', 'http://www.wikidata.org/entity/Q145'), ('countryName', 'United Kingdom')]\n",
      "[('country', 'http://www.wikidata.org/entity/Q148'), ('countryName', \"People's Republic of China\")]\n",
      "[('country', 'http://www.wikidata.org/entity/Q15180'), ('countryName', 'Soviet Union')]\n",
      "[('country', 'http://www.wikidata.org/entity/Q155'), ('countryName', 'Brazil')]\n",
      "[('country', 'http://www.wikidata.org/entity/Q159'), ('countryName', 'Russia')]\n",
      "[('country', 'http://www.wikidata.org/entity/Q16'), ('countryName', 'Canada')]\n",
      "[('country', 'http://www.wikidata.org/entity/Q17'), ('countryName', 'Japan')]\n",
      "[('country', 'http://www.wikidata.org/entity/Q183'), ('countryName', 'Germany')]\n",
      "[('country', 'http://www.wikidata.org/entity/Q184'), ('countryName', 'Belarus')]\n",
      "[('country', 'http://www.wikidata.org/entity/Q191'), ('countryName', 'Estonia')]\n",
      "[('country', 'http://www.wikidata.org/entity/Q211'), ('countryName', 'Latvia')]\n",
      "[('country', 'http://www.wikidata.org/entity/Q212'), ('countryName', 'Ukraine')]\n",
      "[('country', 'http://www.wikidata.org/entity/Q213'), ('countryName', 'Czech Republic')]\n",
      "[('country', 'http://www.wikidata.org/entity/Q215'), ('countryName', 'Slovenia')]\n",
      "[('country', 'http://www.wikidata.org/entity/Q218'), ('countryName', 'Romania')]\n",
      "[('country', 'http://www.wikidata.org/entity/Q224'), ('countryName', 'Croatia')]\n",
      "[('country', 'http://www.wikidata.org/entity/Q29'), ('countryName', 'Spain')]\n",
      "[('country', 'http://www.wikidata.org/entity/Q29999'), ('countryName', 'Kingdom of the Netherlands')]\n",
      "[('country', 'http://www.wikidata.org/entity/Q30'), ('countryName', 'United States of America')]\n",
      "[('country', 'http://www.wikidata.org/entity/Q31'), ('countryName', 'Belgium')]\n",
      "[('country', 'http://www.wikidata.org/entity/Q33'), ('countryName', 'Finland')]\n",
      "[('country', 'http://www.wikidata.org/entity/Q34'), ('countryName', 'Sweden')]\n",
      "[('country', 'http://www.wikidata.org/entity/Q35'), ('countryName', 'Denmark')]\n",
      "[('country', 'http://www.wikidata.org/entity/Q36'), ('countryName', 'Poland')]\n",
      "[('country', 'http://www.wikidata.org/entity/Q38'), ('countryName', 'Italy')]\n",
      "[('country', 'http://www.wikidata.org/entity/Q39'), ('countryName', 'Switzerland')]\n",
      "[('country', 'http://www.wikidata.org/entity/Q403'), ('countryName', 'Serbia')]\n",
      "[('country', 'http://www.wikidata.org/entity/Q408'), ('countryName', 'Australia')]\n",
      "[('country', 'http://www.wikidata.org/entity/Q668'), ('countryName', 'India')]\n",
      "[('country', 'http://www.wikidata.org/entity/Q739'), ('countryName', 'Colombia')]\n",
      "[('country', 'http://www.wikidata.org/entity/Q83286'), ('countryName', 'Socialist Federal Republic of Yugoslavia')]\n",
      "[('country', 'http://www.wikidata.org/entity/Q33946'), ('countryName', 'Czechoslovakia')]\n",
      "34\n"
     ]
    }
   ],
   "source": [
    "# P1532  'country for sport'\n",
    "# P1352  'ranking' \n",
    "# wd:Q11459\tSerena Williams\n",
    "\n",
    "#P106  'occupation' \n",
    "#Q10833314 'tennis player'  \n",
    " \n",
    "queryString = \"\"\"\n",
    "SELECT DISTINCT ?country ?countryName  \n",
    "WHERE { \n",
    "  \n",
    "    ?player wdt:P1352 ?obj;\n",
    "        wdt:P106 wd:Q10833314;\n",
    "        wdt:P1532 ?country.\n",
    "    \n",
    "    ?country sc:name ?countryName.\n",
    "    filter (?obj = 1).\n",
    "    \n",
    "}\n",
    "LIMIT 100\n",
    "\"\"\"\n",
    "\n",
    "print(\"Results\")\n",
    "x=run_query(queryString)"
   ]
  }
 ],
 "metadata": {
  "kernelspec": {
   "display_name": "Python 3",
   "language": "python",
   "name": "python3"
  },
  "language_info": {
   "codemirror_mode": {
    "name": "ipython",
    "version": 3
   },
   "file_extension": ".py",
   "mimetype": "text/x-python",
   "name": "python",
   "nbconvert_exporter": "python",
   "pygments_lexer": "ipython3",
   "version": "3.7.10"
  },
  "toc-showmarkdowntxt": false
 },
 "nbformat": 4,
 "nbformat_minor": 5
}
