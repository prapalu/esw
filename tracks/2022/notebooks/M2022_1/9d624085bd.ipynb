{
 "cells": [
  {
   "cell_type": "markdown",
   "id": "eaf4d5a7",
   "metadata": {},
   "source": [
    "# General instructions\n",
    "\n",
    "The goal of the project is to materialize a set of **exploratory workloads** over a real-world, large-scale,  open-domain KG: [WikiData](https://www.wikidata.org/wiki/Wikidata:Main_Page)\n",
    "\n",
    "An exploratory workload  is composed by a set of queries, where each query is related to the information obtained previously.\n",
    "\n",
    "An exploratory workload starts with a usually vague, open ended question, and does not assume the person issuing the workload has a clear understanding of the data contained in the target database or its structure.\n",
    "\n",
    "Remeber that:\n",
    "\n",
    "1. All the queries must run in the python notebook\n",
    "2. You can use classes and properties only if you find them via a SPARQL query that must be present in the notebook\n",
    "3. You do not delete useless queries. Keep everything that is synthatically valid \n",
    "\n",
    "```\n",
    "?p <http://schema.org/name> ?name .\n",
    "```\n",
    "    \n",
    "    is the BGP returning a human-readable name of a property or a class in Wikidata."
   ]
  },
  {
   "cell_type": "code",
   "execution_count": 28,
   "id": "704a37dd",
   "metadata": {},
   "outputs": [],
   "source": [
    "## SETUP used later\n",
    "\n",
    "from SPARQLWrapper import SPARQLWrapper, JSON\n",
    "\n",
    "\n",
    "prefixString = \"\"\"\n",
    "##-9d624085bd-##\n",
    "PREFIX wd: <http://www.wikidata.org/entity/> \n",
    "PREFIX wdt: <http://www.wikidata.org/prop/direct/> \n",
    "PREFIX sc: <http://schema.org/>\n",
    "\"\"\"\n",
    "\n",
    "# select and construct queries\n",
    "def run_query(queryString,verbose = True):\n",
    "    to_run = prefixString + \"\\n\" + queryString\n",
    "\n",
    "    sparql = SPARQLWrapper(\"http://a256-gc1-03.srv.aau.dk:5820/sparql\")\n",
    "    sparql.setTimeout(300)\n",
    "    sparql.setReturnFormat(JSON)\n",
    "    sparql.setQuery(to_run)\n",
    "\n",
    "    try :\n",
    "        results = sparql.query()\n",
    "        json_results = results.convert()\n",
    "        if len(json_results['results']['bindings'])==0:\n",
    "            print(\"Empty\")\n",
    "            return []\n",
    "        array = []\n",
    "        for bindings in json_results['results']['bindings']:\n",
    "            app =  [ (var, value['value'])  for var, value in bindings.items() ] \n",
    "            if verbose:\n",
    "                print( app)\n",
    "            array.append(app)\n",
    "        if verbose:\n",
    "            print(len(array))\n",
    "        return array\n",
    "\n",
    "    except Exception as e :\n",
    "        print(\"The operation failed\", e)\n",
    "    \n",
    "# ASk queries\n",
    "def run_ask_query(queryString):\n",
    "    to_run = prefixString + \"\\n\" + queryString\n",
    "\n",
    "    sparql = SPARQLWrapper(\"http://a256-gc1-03.srv.aau.dk:5820/sparql\")\n",
    "    sparql.setTimeout(300)\n",
    "    sparql.setReturnFormat(JSON)\n",
    "    sparql.setQuery(to_run)\n",
    "\n",
    "    try :\n",
    "        return sparql.query().convert()\n",
    "\n",
    "    except Exception as e :\n",
    "        print(\"The operation failed\", e)"
   ]
  },
  {
   "cell_type": "markdown",
   "id": "e2919f5a",
   "metadata": {},
   "source": [
    "# Movie Workflow Series (\"Production company explorative search\") \n",
    "\n",
    "Consider the following exploratory information need:\n",
    "\n",
    "> investigate the main companies working on cinema-related content. We want to know which are the main television production companies and the film production companies, which company distributes more film and some consideration about awards."
   ]
  },
  {
   "cell_type": "markdown",
   "id": "8d9f0d93",
   "metadata": {},
   "source": [
    "## Useful URIs for the current workflow\n",
    "The following are given:\n",
    "\n",
    "| IRI           | Description   | Role      |\n",
    "| -----------   | -----------   |-----------|\n",
    "| `wdt:P1647`   | subproperty   | predicate |\n",
    "| `wdt:P31`     | instance of   | predicate |\n",
    "| `wdt:P106`    | profession    | predicate | \n",
    "| `wdt:P279`    | subclass      | predicate |\n",
    "| `wdt:P27`     | nationality   | predicate |\n",
    "| `wdt:P106`     | profession   | predicate |\n",
    "| `wd:Q5`| Human       | node |\n",
    "| `wd:Q36479`    | The Lion King      | node |\n"
   ]
  },
  {
   "cell_type": "markdown",
   "id": "ce791147",
   "metadata": {},
   "source": [
    "\n",
    "\n",
    "\n",
    "Also consider\n",
    "\n",
    "```\n",
    "wd:Q36479 ?p ?obj .\n",
    "```\n",
    "\n",
    "is the BGP to retrieve all **properties of The Lion King**\n",
    "\n",
    "Please consider that when you return a resource, you should return the IRI and the label of the resource. In particular, when the task require you to identify a BGP the result set must always be a list of couples IRI - label.\n",
    "\n",
    "The workload should:\n",
    "\n",
    "\n",
    "1. Identify the BGP for films\n",
    "\n",
    "2. Identify the BGP for Netflix\n",
    "\n",
    "3. Identify the BGP for television production company\n",
    "\n",
    "4. Identify the BGP for film production company\n",
    "\n",
    "5. Find the top-5 companies (amongst television production company and film production company) which produced the highest number of crime films (the result set must be a list of triples company IRI, label and #crime film).\n",
    "\n",
    "6. Find the company (amongst television production company and film production company) which distributed more films (of any kind of film genre) that they did not produce (the result set must be a list of triples company IRI, label and #film).\n",
    "\n",
    "7. Find how many company are listed in every stock exchange market (the result set must be a list of triples stock exchange IRI, label and #companies). \n",
    "\n",
    "8. Identify the BGP for Academy Award\n",
    "\n",
    "9. Find the companies (among television and film production companies) that won at least 5 Academy Awards for Best Actress for the movies they produced (the result set must be a list of triples company IRI, label and #awards)."
   ]
  },
  {
   "cell_type": "markdown",
   "id": "46317558",
   "metadata": {},
   "source": [
    "## Task 1\n",
    "Identify the BGP for films"
   ]
  },
  {
   "cell_type": "code",
   "execution_count": 29,
   "id": "44804a77",
   "metadata": {},
   "outputs": [
    {
     "name": "stdout",
     "output_type": "stream",
     "text": [
      "Results\n",
      "[('p', 'http://www.wikidata.org/entity/Q29168811'), ('name', 'animated feature film')]\n",
      "1\n"
     ]
    }
   ],
   "source": [
    "# checking if lion king is an instance of films\n",
    "queryString = \"\"\"\n",
    "SELECT DISTINCT ?p ?name\n",
    "WHERE {\n",
    "   # instance of\n",
    "   wd:Q36479 wdt:P31 ?p.\n",
    "   ?p sc:name ?name.\n",
    "}\n",
    "LIMIT 20\n",
    "\"\"\"\n",
    "\n",
    "print(\"Results\")\n",
    "x=run_query(queryString)"
   ]
  },
  {
   "cell_type": "code",
   "execution_count": 30,
   "id": "2b7220e4-d58c-4144-b487-881b9a2edf6a",
   "metadata": {},
   "outputs": [
    {
     "name": "stdout",
     "output_type": "stream",
     "text": [
      "Results\n",
      "[('p', 'http://www.wikidata.org/entity/Q202866'), ('name', 'animated film')]\n",
      "[('p', 'http://www.wikidata.org/entity/Q24869'), ('name', 'feature film')]\n",
      "2\n"
     ]
    }
   ],
   "source": [
    "# checking if animated feature film is a subclass of films\n",
    "queryString = \"\"\"\n",
    "SELECT DISTINCT ?p ?name\n",
    "WHERE {\n",
    "   # subclass of\n",
    "   wd:Q29168811 wdt:P279 ?p.\n",
    "   ?p sc:name ?name.\n",
    "}\n",
    "LIMIT 20\n",
    "\"\"\"\n",
    "\n",
    "print(\"Results\")\n",
    "x=run_query(queryString)"
   ]
  },
  {
   "cell_type": "code",
   "execution_count": 31,
   "id": "38185a87",
   "metadata": {},
   "outputs": [
    {
     "name": "stdout",
     "output_type": "stream",
     "text": [
      "Results\n",
      "[('p', 'http://www.wikidata.org/entity/Q11424'), ('name', 'film')]\n",
      "1\n"
     ]
    }
   ],
   "source": [
    "# checking if animated film is a subclass of films\n",
    "queryString = \"\"\"\n",
    "SELECT DISTINCT ?p ?name\n",
    "WHERE {\n",
    "   # subclass of\n",
    "   wd:Q202866 wdt:P279 ?p.\n",
    "   ?p sc:name ?name.\n",
    "}\n",
    "LIMIT 20\n",
    "\"\"\"\n",
    "\n",
    "print(\"Results\")\n",
    "x=run_query(queryString)"
   ]
  },
  {
   "cell_type": "code",
   "execution_count": 32,
   "id": "aa8a22f5-c295-4c35-b960-29ac6384120b",
   "metadata": {},
   "outputs": [
    {
     "name": "stdout",
     "output_type": "stream",
     "text": [
      "Results\n",
      "[('p', 'http://www.wikidata.org/prop/direct/P1014'), ('name', 'Art & Architecture Thesaurus ID')]\n",
      "[('p', 'http://www.wikidata.org/prop/direct/P1036'), ('name', 'Dewey Decimal Classification')]\n",
      "[('p', 'http://www.wikidata.org/prop/direct/P1051'), ('name', 'PSH ID')]\n",
      "[('p', 'http://www.wikidata.org/prop/direct/P1151'), ('name', \"topic's main Wikimedia portal\")]\n",
      "[('p', 'http://www.wikidata.org/prop/direct/P1225'), ('name', 'U.S. National Archives Identifier')]\n",
      "[('p', 'http://www.wikidata.org/prop/direct/P1245'), ('name', 'OmegaWiki Defined Meaning')]\n",
      "[('p', 'http://www.wikidata.org/prop/direct/P1256'), ('name', 'Iconclass notation')]\n",
      "[('p', 'http://www.wikidata.org/prop/direct/P1343'), ('name', 'described by source')]\n",
      "[('p', 'http://www.wikidata.org/prop/direct/P1368'), ('name', 'LNB ID')]\n",
      "[('p', 'http://www.wikidata.org/prop/direct/P1417'), ('name', 'Encyclopædia Britannica Online ID')]\n",
      "[('p', 'http://www.wikidata.org/prop/direct/P1424'), ('name', \"topic's main template\")]\n",
      "[('p', 'http://www.wikidata.org/prop/direct/P1617'), ('name', 'BBC Things ID')]\n",
      "[('p', 'http://www.wikidata.org/prop/direct/P1709'), ('name', 'equivalent class')]\n",
      "[('p', 'http://www.wikidata.org/prop/direct/P18'), ('name', 'image')]\n",
      "[('p', 'http://www.wikidata.org/prop/direct/P1889'), ('name', 'different from')]\n",
      "[('p', 'http://www.wikidata.org/prop/direct/P1963'), ('name', 'properties for this type')]\n",
      "[('p', 'http://www.wikidata.org/prop/direct/P2167'), ('name', 'UNSPSC Code')]\n",
      "[('p', 'http://www.wikidata.org/prop/direct/P227'), ('name', 'GND ID')]\n",
      "[('p', 'http://www.wikidata.org/prop/direct/P2347'), ('name', 'YSO ID')]\n",
      "[('p', 'http://www.wikidata.org/prop/direct/P244'), ('name', 'Library of Congress authority ID')]\n",
      "20\n"
     ]
    }
   ],
   "source": [
    "# bgp of films\n",
    "queryString = \"\"\"\n",
    "SELECT DISTINCT ?p ?name\n",
    "WHERE {\n",
    "   \n",
    "   wd:Q11424 ?p ?obj.\n",
    "   ?p sc:name ?name.\n",
    "}\n",
    "LIMIT 20\n",
    "\"\"\"\n",
    "\n",
    "print(\"Results\")\n",
    "x=run_query(queryString)"
   ]
  },
  {
   "cell_type": "markdown",
   "id": "e782d97e-d193-407a-bf77-069feabbb291",
   "metadata": {},
   "source": [
    "Final query for this task"
   ]
  },
  {
   "cell_type": "code",
   "execution_count": 6,
   "id": "c2b3636e-cc5c-4166-8be4-2c363af4b3ff",
   "metadata": {},
   "outputs": [
    {
     "name": "stdout",
     "output_type": "stream",
     "text": [
      "Results\n",
      "[('p', 'http://www.wikidata.org/prop/direct/P1014'), ('name', 'Art & Architecture Thesaurus ID')]\n",
      "[('p', 'http://www.wikidata.org/prop/direct/P1036'), ('name', 'Dewey Decimal Classification')]\n",
      "[('p', 'http://www.wikidata.org/prop/direct/P1051'), ('name', 'PSH ID')]\n",
      "[('p', 'http://www.wikidata.org/prop/direct/P1151'), ('name', \"topic's main Wikimedia portal\")]\n",
      "[('p', 'http://www.wikidata.org/prop/direct/P1225'), ('name', 'U.S. National Archives Identifier')]\n",
      "[('p', 'http://www.wikidata.org/prop/direct/P1245'), ('name', 'OmegaWiki Defined Meaning')]\n",
      "[('p', 'http://www.wikidata.org/prop/direct/P1256'), ('name', 'Iconclass notation')]\n",
      "[('p', 'http://www.wikidata.org/prop/direct/P1343'), ('name', 'described by source')]\n",
      "[('p', 'http://www.wikidata.org/prop/direct/P1368'), ('name', 'LNB ID')]\n",
      "[('p', 'http://www.wikidata.org/prop/direct/P1417'), ('name', 'Encyclopædia Britannica Online ID')]\n",
      "[('p', 'http://www.wikidata.org/prop/direct/P1424'), ('name', \"topic's main template\")]\n",
      "[('p', 'http://www.wikidata.org/prop/direct/P1617'), ('name', 'BBC Things ID')]\n",
      "[('p', 'http://www.wikidata.org/prop/direct/P1709'), ('name', 'equivalent class')]\n",
      "[('p', 'http://www.wikidata.org/prop/direct/P18'), ('name', 'image')]\n",
      "[('p', 'http://www.wikidata.org/prop/direct/P1889'), ('name', 'different from')]\n",
      "[('p', 'http://www.wikidata.org/prop/direct/P1963'), ('name', 'properties for this type')]\n",
      "[('p', 'http://www.wikidata.org/prop/direct/P2167'), ('name', 'UNSPSC Code')]\n",
      "[('p', 'http://www.wikidata.org/prop/direct/P227'), ('name', 'GND ID')]\n",
      "[('p', 'http://www.wikidata.org/prop/direct/P2347'), ('name', 'YSO ID')]\n",
      "[('p', 'http://www.wikidata.org/prop/direct/P244'), ('name', 'Library of Congress authority ID')]\n",
      "20\n"
     ]
    }
   ],
   "source": [
    "# bgp of films\n",
    "queryString = \"\"\"\n",
    "SELECT DISTINCT ?p ?name\n",
    "WHERE {\n",
    "   \n",
    "   # instance of\n",
    "   wd:Q36479 wdt:P31 ?animated_feature_film .\n",
    "   #subclass of\n",
    "   ?animated_feature_film wdt:P279 ?animated_film .\n",
    "   #subclass of\n",
    "   ?animated_film wdt:P279 ?film .\n",
    "   \n",
    "   ?film ?p ?obj .\n",
    "   ?p sc:name ?name.\n",
    "}\n",
    "LIMIT 20\n",
    "\"\"\"\n",
    "\n",
    "print(\"Results\")\n",
    "x=run_query(queryString)"
   ]
  },
  {
   "cell_type": "markdown",
   "id": "743968d7",
   "metadata": {},
   "source": [
    "## Task 2\n",
    "Identify the BGP for Netflix"
   ]
  },
  {
   "cell_type": "code",
   "execution_count": 7,
   "id": "73c44d11",
   "metadata": {},
   "outputs": [],
   "source": [
    "# write your queries"
   ]
  },
  {
   "cell_type": "code",
   "execution_count": 45,
   "id": "4e084f89-75c1-4e58-a784-4d0cb4be596b",
   "metadata": {},
   "outputs": [
    {
     "name": "stdout",
     "output_type": "stream",
     "text": [
      "Results\n",
      "[('p', 'http://www.wikidata.org/entity/Q2365445'), ('name', 'Nala')]\n",
      "[('p', 'http://www.wikidata.org/entity/Q28828203'), ('name', 'Nancy Kniep')]\n",
      "[('p', 'http://www.wikidata.org/entity/Q28859490'), ('name', 'Natalie Franscioni-Karp')]\n",
      "[('p', 'http://www.wikidata.org/entity/Q491264'), ('name', 'Nathan Lane')]\n",
      "[('p', 'http://www.wikidata.org/entity/Q823422'), ('name', 'National Film Registry')]\n",
      "[('p', 'http://www.wikidata.org/entity/Q907311'), ('name', 'Netflix')]\n",
      "[('p', 'http://www.wikidata.org/entity/Q1993004'), ('name', 'Niketa Calame')]\n",
      "[('p', 'http://www.wikidata.org/entity/Q25558510'), ('name', 'Noni White')]\n",
      "[('p', 'http://www.wikidata.org/entity/Q23817729'), ('name', 'no age restriction')]\n",
      "9\n"
     ]
    }
   ],
   "source": [
    "# looking at all objects of lion king, maybe it was made by netflix\n",
    "queryString = \"\"\"\n",
    "SELECT DISTINCT ?p ?name\n",
    "WHERE {\n",
    "   #bgp of lion king\n",
    "   wd:Q36479 ?prd ?p .\n",
    "   ?p sc:name ?name .\n",
    "   FILTER REGEX(?name, \"^[Nn].*\") .\n",
    "}\n",
    "order by ?name\n",
    "LIMIT 20\n",
    "\"\"\"\n",
    "\n",
    "print(\"Results\")\n",
    "x=run_query(queryString)"
   ]
  },
  {
   "cell_type": "code",
   "execution_count": 50,
   "id": "d043b7d6-40a9-4bdc-bf1b-65bf5c7d733f",
   "metadata": {},
   "outputs": [
    {
     "name": "stdout",
     "output_type": "stream",
     "text": [
      "Results\n",
      "[('p', 'http://www.wikidata.org/prop/direct/P1661'), ('name', 'Alexa rank')]\n",
      "[('p', 'http://www.wikidata.org/prop/direct/P9618'), ('name', 'AlternativeTo software ID')]\n",
      "[('p', 'http://www.wikidata.org/prop/direct/P3861'), ('name', 'App Store app ID')]\n",
      "[('p', 'http://www.wikidata.org/prop/direct/P268'), ('name', 'Bibliothèque nationale de France ID')]\n",
      "[('p', 'http://www.wikidata.org/prop/direct/P2531'), ('name', 'Box Office Mojo studio ID')]\n",
      "[('p', 'http://www.wikidata.org/prop/direct/P5019'), ('name', 'Brockhaus Enzyklopädie online ID')]\n",
      "[('p', 'http://www.wikidata.org/prop/direct/P5531'), ('name', 'Central Index Key')]\n",
      "[('p', 'http://www.wikidata.org/prop/direct/P373'), ('name', 'Commons category')]\n",
      "[('p', 'http://www.wikidata.org/prop/direct/P2088'), ('name', 'Crunchbase organization ID')]\n",
      "[('p', 'http://www.wikidata.org/prop/direct/P6849'), ('name', 'DR topic ID')]\n",
      "[('p', 'http://www.wikidata.org/prop/direct/P6181'), ('name', 'Disney A to Z ID')]\n",
      "[('p', 'http://www.wikidata.org/prop/direct/P7306'), ('name', 'Downdetector ID')]\n",
      "[('p', 'http://www.wikidata.org/prop/direct/P5576'), ('name', 'EDb company ID')]\n",
      "[('p', 'http://www.wikidata.org/prop/direct/P1417'), ('name', 'Encyclopædia Britannica Online ID')]\n",
      "[('p', 'http://www.wikidata.org/prop/direct/P2013'), ('name', 'Facebook ID')]\n",
      "[('p', 'http://www.wikidata.org/prop/direct/P6262'), ('name', 'Fandom article ID')]\n",
      "[('p', 'http://www.wikidata.org/prop/direct/P4073'), ('name', 'Fandom wiki ID')]\n",
      "[('p', 'http://www.wikidata.org/prop/direct/P9346'), ('name', 'France24 topic ID (French)')]\n",
      "[('p', 'http://www.wikidata.org/prop/direct/P646'), ('name', 'Freebase ID')]\n",
      "[('p', 'http://www.wikidata.org/prop/direct/P7818'), ('name', 'French Vikidia ID')]\n",
      "20\n"
     ]
    }
   ],
   "source": [
    "# got Netflix(wd:Q907311) is one of the objects of the lion king\n",
    "queryString = \"\"\"\n",
    "SELECT DISTINCT ?p ?name\n",
    "WHERE {\n",
    "   #bgp of netflix\n",
    "   wd:Q907311 ?p ?obj .\n",
    "   ?p sc:name ?name.\n",
    "}\n",
    "order by ?name\n",
    "LIMIT 20\n",
    "\"\"\"\n",
    "\n",
    "print(\"Results\")\n",
    "x=run_query(queryString)"
   ]
  },
  {
   "cell_type": "markdown",
   "id": "935edee8",
   "metadata": {},
   "source": [
    "Final query for this task"
   ]
  },
  {
   "cell_type": "code",
   "execution_count": 10,
   "id": "43018477",
   "metadata": {},
   "outputs": [],
   "source": [
    "# write your final query"
   ]
  },
  {
   "cell_type": "code",
   "execution_count": 69,
   "id": "645a6bd0-e7ba-4284-a3bd-02da149f4d10",
   "metadata": {},
   "outputs": [
    {
     "name": "stdout",
     "output_type": "stream",
     "text": [
      "Results\n",
      "[('p', 'http://www.wikidata.org/prop/direct/P1661'), ('name', 'Alexa rank')]\n",
      "[('p', 'http://www.wikidata.org/prop/direct/P9618'), ('name', 'AlternativeTo software ID')]\n",
      "[('p', 'http://www.wikidata.org/prop/direct/P3861'), ('name', 'App Store app ID')]\n",
      "[('p', 'http://www.wikidata.org/prop/direct/P268'), ('name', 'Bibliothèque nationale de France ID')]\n",
      "[('p', 'http://www.wikidata.org/prop/direct/P2531'), ('name', 'Box Office Mojo studio ID')]\n",
      "[('p', 'http://www.wikidata.org/prop/direct/P5019'), ('name', 'Brockhaus Enzyklopädie online ID')]\n",
      "[('p', 'http://www.wikidata.org/prop/direct/P5531'), ('name', 'Central Index Key')]\n",
      "[('p', 'http://www.wikidata.org/prop/direct/P373'), ('name', 'Commons category')]\n",
      "[('p', 'http://www.wikidata.org/prop/direct/P2088'), ('name', 'Crunchbase organization ID')]\n",
      "[('p', 'http://www.wikidata.org/prop/direct/P6849'), ('name', 'DR topic ID')]\n",
      "[('p', 'http://www.wikidata.org/prop/direct/P6181'), ('name', 'Disney A to Z ID')]\n",
      "[('p', 'http://www.wikidata.org/prop/direct/P7306'), ('name', 'Downdetector ID')]\n",
      "[('p', 'http://www.wikidata.org/prop/direct/P5576'), ('name', 'EDb company ID')]\n",
      "[('p', 'http://www.wikidata.org/prop/direct/P1417'), ('name', 'Encyclopædia Britannica Online ID')]\n",
      "[('p', 'http://www.wikidata.org/prop/direct/P2013'), ('name', 'Facebook ID')]\n",
      "[('p', 'http://www.wikidata.org/prop/direct/P6262'), ('name', 'Fandom article ID')]\n",
      "[('p', 'http://www.wikidata.org/prop/direct/P6262'), ('name', 'Fandom article ID')]\n",
      "[('p', 'http://www.wikidata.org/prop/direct/P6262'), ('name', 'Fandom article ID')]\n",
      "[('p', 'http://www.wikidata.org/prop/direct/P4073'), ('name', 'Fandom wiki ID')]\n",
      "[('p', 'http://www.wikidata.org/prop/direct/P9346'), ('name', 'France24 topic ID (French)')]\n",
      "20\n"
     ]
    }
   ],
   "source": [
    "# netflix is one of the objects of lion kinf\n",
    "queryString = \"\"\"\n",
    "SELECT ?p ?name\n",
    "WHERE {\n",
    "   \n",
    "   wd:Q36479 ?prd ?netflixObj .\n",
    "   ?netflixObj sc:name ?netflix.\n",
    "   FILTER Regex(?netflix, \"Netflix\") .\n",
    "   \n",
    "   ?netflixObj ?p ?obj .\n",
    "   ?p sc:name ?name.\n",
    "   \n",
    "}\n",
    " order by ?name\n",
    " LIMIT 20\n",
    "\"\"\"\n",
    "\n",
    "print(\"Results\")\n",
    "x=run_query(queryString)"
   ]
  },
  {
   "cell_type": "markdown",
   "id": "2e83d68a",
   "metadata": {},
   "source": [
    "## Task 3\n",
    "Identify the BGP for television production company"
   ]
  },
  {
   "cell_type": "code",
   "execution_count": 58,
   "id": "6c61849a",
   "metadata": {},
   "outputs": [],
   "source": [
    "# write your queries"
   ]
  },
  {
   "cell_type": "code",
   "execution_count": 66,
   "id": "9ba6ec61-9cea-46ab-b70d-514460de3a88",
   "metadata": {},
   "outputs": [
    {
     "name": "stdout",
     "output_type": "stream",
     "text": [
      "Results\n",
      "[('p', 'http://www.wikidata.org/entity/Q47472306'), ('name', 'Template:Netflix')]\n",
      "[('p', 'http://www.wikidata.org/entity/Q54007319'), ('name', 'Template:Netflix title')]\n",
      "[('p', 'http://www.wikidata.org/entity/Q849363'), ('name', 'The Vanguard Group')]\n",
      "[('p', 'http://www.wikidata.org/entity/Q10689397'), ('name', 'television production company')]\n",
      "4\n"
     ]
    }
   ],
   "source": [
    "# checking all subjects of netflix for television production company\n",
    "queryString = \"\"\"\n",
    "SELECT DISTINCT ?p ?name\n",
    "WHERE {\n",
    "   \n",
    "   wd:Q907311 ?pr ?p.\n",
    "   ?p sc:name ?name . \n",
    "   FILTER REGEX(?name, \"^[Tt]\") .\n",
    "}\n",
    "order by ?name\n",
    "LIMIT 20\n",
    "\"\"\"\n",
    "\n",
    "print(\"Results\")\n",
    "x=run_query(queryString)"
   ]
  },
  {
   "cell_type": "markdown",
   "id": "e4e6d753",
   "metadata": {},
   "source": [
    "Final query for this task"
   ]
  },
  {
   "cell_type": "code",
   "execution_count": null,
   "id": "2391ffb1",
   "metadata": {},
   "outputs": [],
   "source": [
    "# write your final query"
   ]
  },
  {
   "cell_type": "code",
   "execution_count": 79,
   "id": "fbcb7d78-856b-4f32-ad95-a215241dfc4d",
   "metadata": {},
   "outputs": [
    {
     "name": "stdout",
     "output_type": "stream",
     "text": [
      "Results\n",
      "[('p', 'http://www.wikidata.org/prop/direct/P373'), ('name', 'Commons category')]\n",
      "[('p', 'http://www.wikidata.org/prop/direct/P2671'), ('name', 'Google Knowledge Graph ID')]\n",
      "[('p', 'http://www.wikidata.org/prop/direct/P3417'), ('name', 'Quora topic ID')]\n",
      "[('p', 'http://www.wikidata.org/prop/direct/P17'), ('name', 'country')]\n",
      "[('p', 'http://www.wikidata.org/prop/direct/P452'), ('name', 'industry')]\n",
      "[('p', 'http://www.wikidata.org/prop/direct/P279'), ('name', 'subclass of')]\n",
      "[('p', 'http://www.wikidata.org/prop/direct/P279'), ('name', 'subclass of')]\n",
      "[('p', 'http://www.wikidata.org/prop/direct/P279'), ('name', 'subclass of')]\n",
      "[('p', 'http://www.wikidata.org/prop/direct/P910'), ('name', \"topic's main category\")]\n",
      "9\n"
     ]
    }
   ],
   "source": [
    "# television production company is one of the objects of netfix\n",
    "# and that object's name is \"television production company\"\n",
    "queryString = \"\"\"\n",
    "SELECT ?p ?name\n",
    "WHERE {\n",
    "   \n",
    "   wd:Q907311 ?pr ?televionProductionCompanyObj .\n",
    "   ?televionProductionCompanyObj sc:name ?televionProductionCompany . \n",
    "   FILTER REGEX(?televionProductionCompany, \"television production company\") .\n",
    "   \n",
    "   ?televionProductionCompanyObj ?p ?obj .\n",
    "   ?p sc:name ?name .\n",
    "}\n",
    "order by ?name\n",
    "LIMIT 20\n",
    "\"\"\"\n",
    "\n",
    "print(\"Results\")\n",
    "x=run_query(queryString)"
   ]
  },
  {
   "cell_type": "markdown",
   "id": "639ed4c7",
   "metadata": {},
   "source": [
    "## Task 4\n",
    "Identify the BGP for film production company"
   ]
  },
  {
   "cell_type": "code",
   "execution_count": null,
   "id": "c84aa3fb",
   "metadata": {},
   "outputs": [],
   "source": [
    "# write your queries"
   ]
  },
  {
   "cell_type": "code",
   "execution_count": 80,
   "id": "77743667-cb4c-4605-b57b-6ebea016ef8a",
   "metadata": {},
   "outputs": [
    {
     "name": "stdout",
     "output_type": "stream",
     "text": [
      "Results\n",
      "[('p', 'http://www.wikidata.org/entity/Q1762059'), ('name', 'film production company')]\n",
      "[('p', 'http://www.wikidata.org/entity/Q11396960'), ('name', 'production company')]\n",
      "2\n"
     ]
    }
   ],
   "source": [
    "# checking if film production company is related to television production company in any way\n",
    "\n",
    "# Q10689397 = television production company\n",
    "queryString = \"\"\"\n",
    "SELECT DISTINCT ?p ?name\n",
    "WHERE {\n",
    "   \n",
    "   wd:Q10689397 ?pr ?p.\n",
    "   ?p sc:name ?name . \n",
    "   FILTER REGEX(?name, \".*company.*\") .\n",
    "}\n",
    "order by ?name\n",
    "LIMIT 20\n",
    "\"\"\"\n",
    "\n",
    "print(\"Results\")\n",
    "x=run_query(queryString)"
   ]
  },
  {
   "cell_type": "code",
   "execution_count": 81,
   "id": "dff887e9-1859-4097-aa19-9408b55284b8",
   "metadata": {},
   "outputs": [
    {
     "name": "stdout",
     "output_type": "stream",
     "text": [
      "Results\n",
      "[('p', 'http://www.wikidata.org/entity/Q1762059'), ('name', 'film production company')]\n",
      "1\n"
     ]
    }
   ],
   "source": [
    "#film production company is one of the objects of television production company\n",
    "# and the name of this object is film production company\n",
    "\n",
    "# Q10689397 = television production company\n",
    "queryString = \"\"\"\n",
    "SELECT DISTINCT ?p ?name\n",
    "WHERE {\n",
    "   \n",
    "   wd:Q10689397 ?pr ?p.\n",
    "   ?p sc:name ?name . \n",
    "   FILTER REGEX(?name, \".*film production company.*\") .\n",
    "}\n",
    "order by ?name\n",
    "LIMIT 20\n",
    "\"\"\"\n",
    "\n",
    "print(\"Results\")\n",
    "x=run_query(queryString)"
   ]
  },
  {
   "cell_type": "markdown",
   "id": "758af4f3",
   "metadata": {},
   "source": [
    "Final query for this task"
   ]
  },
  {
   "cell_type": "code",
   "execution_count": null,
   "id": "c8d53fd3",
   "metadata": {},
   "outputs": [],
   "source": [
    "# write your final query"
   ]
  },
  {
   "cell_type": "code",
   "execution_count": 87,
   "id": "a4b94075-c735-454a-8c02-d00da022372a",
   "metadata": {},
   "outputs": [
    {
     "name": "stdout",
     "output_type": "stream",
     "text": [
      "Results\n",
      "[('p', 'http://www.wikidata.org/prop/direct/P373'), ('name', 'Commons category')]\n",
      "[('p', 'http://www.wikidata.org/prop/direct/P646'), ('name', 'Freebase ID')]\n",
      "[('p', 'http://www.wikidata.org/prop/direct/P227'), ('name', 'GND ID')]\n",
      "[('p', 'http://www.wikidata.org/prop/direct/P8408'), ('name', 'KBpedia ID')]\n",
      "[('p', 'http://www.wikidata.org/prop/direct/P1889'), ('name', 'different from')]\n",
      "[('p', 'http://www.wikidata.org/prop/direct/P452'), ('name', 'industry')]\n",
      "[('p', 'http://www.wikidata.org/prop/direct/P361'), ('name', 'part of')]\n",
      "[('p', 'http://www.wikidata.org/prop/direct/P279'), ('name', 'subclass of')]\n",
      "[('p', 'http://www.wikidata.org/prop/direct/P910'), ('name', \"topic's main category\")]\n",
      "9\n"
     ]
    }
   ],
   "source": [
    "#film production company is one of the objects of television production company\n",
    "# the name od this object is film production company\n",
    "\n",
    "# Q10689397 = television production company\n",
    "queryString = \"\"\"\n",
    "SELECT DISTINCT ?p ?name\n",
    "WHERE {\n",
    "   \n",
    "   wd:Q10689397 ?pr ?filmProductionCompanyObject.\n",
    "   ?filmProductionCompanyObject sc:name ?filmProductionCompanyObjectName . \n",
    "   FILTER REGEX(?filmProductionCompanyObjectName, \".*film production company.*\") .\n",
    "   \n",
    "   ?filmProductionCompanyObject ?p ?obj .\n",
    "   ?p sc:name ?name .\n",
    "}\n",
    "order by ?name\n",
    "LIMIT 20\n",
    "\"\"\"\n",
    "\n",
    "print(\"Results\")\n",
    "x=run_query(queryString)"
   ]
  },
  {
   "cell_type": "markdown",
   "id": "ed9c9f15",
   "metadata": {},
   "source": [
    "## Task 5\n",
    "Find the top-5 companies (amongst television production company and film production company) which produced the highest number of crime films (the result set must be a list of triples company IRI, label and #crime film)."
   ]
  },
  {
   "cell_type": "code",
   "execution_count": null,
   "id": "940f1b31",
   "metadata": {},
   "outputs": [],
   "source": [
    "# write your queries"
   ]
  },
  {
   "cell_type": "code",
   "execution_count": 199,
   "id": "cbb648b4-af00-485e-be7e-f0f0962b76a5",
   "metadata": {},
   "outputs": [
    {
     "name": "stdout",
     "output_type": "stream",
     "text": [
      "Results\n",
      "[('prd', 'http://www.wikidata.org/prop/direct/P921'), ('p', 'http://www.wikidata.org/entity/Q190357'), ('prdname', 'main subject'), ('name', 'Central Office of the State Justice Administrations for the Investigation of National Socialist Crimes')]\n",
      "[('prd', 'http://www.wikidata.org/prop/direct/P136'), ('p', 'http://www.wikidata.org/entity/Q3697149'), ('prdname', 'genre'), ('name', 'Crime')]\n",
      "[('prd', 'http://www.wikidata.org/prop/direct/P161'), ('p', 'http://www.wikidata.org/entity/Q46663'), ('prdname', 'cast member'), ('name', 'Crime & the City Solution')]\n",
      "[('prd', 'http://www.wikidata.org/prop/direct/P406'), ('p', 'http://www.wikidata.org/entity/Q5185165'), ('prdname', 'soundtrack release'), ('name', 'Crime + Punishment in Suburbia')]\n",
      "[('prd', 'http://www.wikidata.org/prop/direct/P1889'), ('p', 'http://www.wikidata.org/entity/Q2514298'), ('prdname', 'different from'), ('name', 'Crime After School')]\n",
      "[('prd', 'http://www.wikidata.org/prop/direct/P1889'), ('p', 'http://www.wikidata.org/entity/Q1266278'), ('prdname', 'different from'), ('name', 'Crime After School')]\n",
      "[('prd', 'http://www.wikidata.org/prop/direct/P1889'), ('p', 'http://www.wikidata.org/entity/Q1585023'), ('prdname', 'different from'), ('name', 'Crime Story')]\n",
      "[('prd', 'http://www.wikidata.org/prop/direct/P144'), ('p', 'http://www.wikidata.org/entity/Q165318'), ('prdname', 'based on'), ('name', 'Crime and punishment')]\n",
      "[('prd', 'http://www.wikidata.org/prop/direct/P737'), ('p', 'http://www.wikidata.org/entity/Q165318'), ('prdname', 'influenced by'), ('name', 'Crime and punishment')]\n",
      "[('prd', 'http://www.wikidata.org/prop/direct/P915'), ('p', 'http://www.wikidata.org/entity/Q7835'), ('prdname', 'filming location'), ('name', 'Crimean Peninsula')]\n",
      "[('prd', 'http://www.wikidata.org/prop/direct/P364'), ('p', 'http://www.wikidata.org/entity/Q33357'), ('prdname', 'original language of film or TV show'), ('name', 'Crimean Tatar')]\n",
      "[('prd', 'http://www.wikidata.org/prop/direct/P179'), ('p', 'http://www.wikidata.org/entity/Q18292477'), ('prdname', 'part of the series'), ('name', 'Crimes of Passion')]\n",
      "[('prd', 'http://www.wikidata.org/prop/direct/P144'), ('p', 'http://www.wikidata.org/entity/Q1633629'), ('prdname', 'based on'), ('name', 'Crimes of the Heart')]\n",
      "[('prd', 'http://www.wikidata.org/prop/direct/P750'), ('p', 'http://www.wikidata.org/entity/Q1140033'), ('prdname', 'distributed by'), ('name', 'CrimethInc.')]\n",
      "[('prd', 'http://www.wikidata.org/prop/direct/P921'), ('p', 'http://www.wikidata.org/entity/Q1775286'), ('prdname', 'main subject'), ('name', 'Deportation of the Crimean Tatars')]\n",
      "[('prd', 'http://www.wikidata.org/prop/direct/P86'), ('p', 'http://www.wikidata.org/entity/Q895739'), ('prdname', 'composer'), ('name', 'Element of Crime')]\n",
      "[('prd', 'http://www.wikidata.org/prop/direct/P144'), ('p', 'http://www.wikidata.org/entity/Q107631562'), ('prdname', 'based on'), ('name', 'Fantastic Beasts: The Crimes of Grindelwald — The Original Screenplay')]\n",
      "[('prd', 'http://www.wikidata.org/prop/direct/P166'), ('p', 'http://www.wikidata.org/entity/Q1204775'), ('prdname', 'award received'), ('name', 'German TV Crime Drama Award')]\n",
      "[('prd', 'http://www.wikidata.org/prop/direct/P921'), ('p', 'http://www.wikidata.org/entity/Q620642'), ('prdname', 'main subject'), ('name', 'Jewish-American organized crime')]\n",
      "[('prd', 'http://www.wikidata.org/prop/direct/P144'), ('p', 'http://www.wikidata.org/entity/Q3282044'), ('prdname', 'based on'), ('name', 'O Crime do Padre Amaro')]\n",
      "20\n"
     ]
    }
   ],
   "source": [
    "# checking if films are realted to crime in any way\n",
    "\n",
    "# Q11424 = films\n",
    "# wdt:P31 = instance of\n",
    "\n",
    "queryString = \"\"\"\n",
    "SELECT DISTINCT ?prd ?p ?prdname ?name\n",
    "WHERE {\n",
    "   \n",
    "   ?randomFilm wdt:P31 wd:Q11424 .\n",
    "   ?randomFilm ?prd ?p .\n",
    "   ?p sc:name ?name.\n",
    "   FILTER REGEX(?name, \".*[Cc]rime.*\") .\n",
    "   \n",
    "   ?prd sc:name ?prdname.\n",
    "   \n",
    "}\n",
    "order by ?name\n",
    " LIMIT 20\n",
    "\"\"\"\n",
    "\n",
    "print(\"Results\")\n",
    "x=run_query(queryString)"
   ]
  },
  {
   "cell_type": "code",
   "execution_count": 204,
   "id": "88dfbc5b-543d-409d-b301-531b25a0a95a",
   "metadata": {},
   "outputs": [
    {
     "name": "stdout",
     "output_type": "stream",
     "text": [
      "Results\n",
      "[('firstHop', 'http://www.wikidata.org/prop/direct/P161'), ('firstHopName', 'cast member'), ('secondHop', 'http://www.wikidata.org/prop/direct/P31'), ('secondHopName', 'instance of')]\n",
      "[('firstHop', 'http://www.wikidata.org/prop/direct/P88'), ('firstHopName', 'commissioned by'), ('secondHop', 'http://www.wikidata.org/prop/direct/P31'), ('secondHopName', 'instance of')]\n",
      "[('firstHop', 'http://www.wikidata.org/prop/direct/P767'), ('firstHopName', 'contributor to the creative work or subject'), ('secondHop', 'http://www.wikidata.org/prop/direct/P31'), ('secondHopName', 'instance of')]\n",
      "[('firstHop', 'http://www.wikidata.org/prop/direct/P3931'), ('firstHopName', 'copyright holder'), ('secondHop', 'http://www.wikidata.org/prop/direct/P31'), ('secondHopName', 'instance of')]\n",
      "[('firstHop', 'http://www.wikidata.org/prop/direct/P170'), ('firstHopName', 'creator'), ('secondHop', 'http://www.wikidata.org/prop/direct/P31'), ('secondHopName', 'instance of')]\n",
      "[('firstHop', 'http://www.wikidata.org/prop/direct/P1343'), ('firstHopName', 'described by source'), ('secondHop', 'http://www.wikidata.org/prop/direct/P31'), ('secondHopName', 'instance of')]\n",
      "[('firstHop', 'http://www.wikidata.org/prop/direct/P57'), ('firstHopName', 'director'), ('secondHop', 'http://www.wikidata.org/prop/direct/P31'), ('secondHopName', 'instance of')]\n",
      "[('firstHop', 'http://www.wikidata.org/prop/direct/P750'), ('firstHopName', 'distributed by'), ('secondHop', 'http://www.wikidata.org/prop/direct/P31'), ('secondHopName', 'instance of')]\n",
      "[('firstHop', 'http://www.wikidata.org/prop/direct/P750'), ('firstHopName', 'distributed by'), ('secondHop', 'http://www.wikidata.org/prop/direct/P101'), ('secondHopName', 'field of work')]\n",
      "[('firstHop', 'http://www.wikidata.org/prop/direct/P750'), ('firstHopName', 'distributed by'), ('secondHop', 'http://www.wikidata.org/prop/direct/P452'), ('secondHopName', 'industry')]\n",
      "[('firstHop', 'http://www.wikidata.org/prop/direct/P437'), ('firstHopName', 'distribution format'), ('secondHop', 'http://www.wikidata.org/prop/direct/P31'), ('secondHopName', 'instance of')]\n",
      "[('firstHop', 'http://www.wikidata.org/prop/direct/P1431'), ('firstHopName', 'executive producer'), ('secondHop', 'http://www.wikidata.org/prop/direct/P31'), ('secondHopName', 'instance of')]\n",
      "[('firstHop', 'http://www.wikidata.org/prop/direct/P915'), ('firstHopName', 'filming location'), ('secondHop', 'http://www.wikidata.org/prop/direct/P31'), ('secondHopName', 'instance of')]\n",
      "[('firstHop', 'http://www.wikidata.org/prop/direct/P915'), ('firstHopName', 'filming location'), ('secondHop', 'http://www.wikidata.org/prop/direct/P452'), ('secondHopName', 'industry')]\n",
      "[('firstHop', 'http://www.wikidata.org/prop/direct/P8324'), ('firstHopName', 'funder'), ('secondHop', 'http://www.wikidata.org/prop/direct/P31'), ('secondHopName', 'instance of')]\n",
      "[('firstHop', 'http://www.wikidata.org/prop/direct/P921'), ('firstHopName', 'main subject'), ('secondHop', 'http://www.wikidata.org/prop/direct/P3095'), ('secondHopName', 'practiced by')]\n",
      "[('firstHop', 'http://www.wikidata.org/prop/direct/P921'), ('firstHopName', 'main subject'), ('secondHop', 'http://www.wikidata.org/prop/direct/P31'), ('secondHopName', 'instance of')]\n",
      "[('firstHop', 'http://www.wikidata.org/prop/direct/P449'), ('firstHopName', 'original broadcaster'), ('secondHop', 'http://www.wikidata.org/prop/direct/P31'), ('secondHopName', 'instance of')]\n",
      "[('firstHop', 'http://www.wikidata.org/prop/direct/P127'), ('firstHopName', 'owned by'), ('secondHop', 'http://www.wikidata.org/prop/direct/P31'), ('secondHopName', 'instance of')]\n",
      "[('firstHop', 'http://www.wikidata.org/prop/direct/P361'), ('firstHopName', 'part of'), ('secondHop', 'http://www.wikidata.org/prop/direct/P31'), ('secondHopName', 'instance of')]\n",
      "20\n"
     ]
    }
   ],
   "source": [
    "# checking if films are realted to television production company in any way\n",
    "\n",
    "# Q11424 = films\n",
    "# Q10689397 = television production company\n",
    "# wdt:P31 = instance of\n",
    "queryString = \"\"\"\n",
    "SELECT DISTINCT ?firstHop ?firstHopName ?secondHop ?secondHopName\n",
    "WHERE {\n",
    "   \n",
    "   ?randomFilm wdt:P31 wd:Q11424 .\n",
    "   ?randomFilm ?firstHop ?something .\n",
    "   ?something ?secondHop wd:Q1762059.\n",
    "   ?firstHop sc:name ?firstHopName.\n",
    "   ?secondHop sc:name ?secondHopName\n",
    "   \n",
    "   \n",
    "}\n",
    "order by ?firstHopName\n",
    "LIMIT 20\n",
    "\"\"\"\n",
    "\n",
    "print(\"Results\")\n",
    "x=run_query(queryString)"
   ]
  },
  {
   "cell_type": "code",
   "execution_count": 181,
   "id": "2fa29797-eca9-4c13-a9ca-c03889ed1e59",
   "metadata": {},
   "outputs": [
    {
     "name": "stdout",
     "output_type": "stream",
     "text": [
      "Results\n",
      "[('randomFilm', 'http://www.wikidata.org/entity/Q7659277'), ('producer', 'http://www.wikidata.org/entity/Q947354')]\n",
      "[('randomFilm', 'http://www.wikidata.org/entity/Q21819857'), ('producer', 'http://www.wikidata.org/entity/Q23017119')]\n",
      "[('randomFilm', 'http://www.wikidata.org/entity/Q5115110'), ('producer', 'http://www.wikidata.org/entity/Q41468')]\n",
      "[('randomFilm', 'http://www.wikidata.org/entity/Q22694584'), ('producer', 'http://www.wikidata.org/entity/Q2114144')]\n",
      "[('randomFilm', 'http://www.wikidata.org/entity/Q300502'), ('producer', 'http://www.wikidata.org/entity/Q159846')]\n",
      "[('randomFilm', 'http://www.wikidata.org/entity/Q470344'), ('producer', 'http://www.wikidata.org/entity/Q41468')]\n",
      "[('randomFilm', 'http://www.wikidata.org/entity/Q815425'), ('producer', 'http://www.wikidata.org/entity/Q1254356')]\n",
      "[('randomFilm', 'http://www.wikidata.org/entity/Q7549559'), ('producer', 'http://www.wikidata.org/entity/Q126399')]\n",
      "[('randomFilm', 'http://www.wikidata.org/entity/Q3282562'), ('producer', 'http://www.wikidata.org/entity/Q4050398')]\n",
      "[('randomFilm', 'http://www.wikidata.org/entity/Q3232384'), ('producer', 'http://www.wikidata.org/entity/Q913462')]\n",
      "[('randomFilm', 'http://www.wikidata.org/entity/Q2459734'), ('producer', 'http://www.wikidata.org/entity/Q168383')]\n",
      "[('randomFilm', 'http://www.wikidata.org/entity/Q2249260'), ('producer', 'http://www.wikidata.org/entity/Q434841')]\n",
      "[('randomFilm', 'http://www.wikidata.org/entity/Q617997'), ('producer', 'http://www.wikidata.org/entity/Q3791677')]\n",
      "[('randomFilm', 'http://www.wikidata.org/entity/Q12125261'), ('producer', 'http://www.wikidata.org/entity/Q6411303')]\n",
      "[('randomFilm', 'http://www.wikidata.org/entity/Q5522558'), ('producer', 'http://www.wikidata.org/entity/Q7500096')]\n",
      "[('randomFilm', 'http://www.wikidata.org/entity/Q1219788'), ('producer', 'http://www.wikidata.org/entity/Q488710')]\n",
      "[('randomFilm', 'http://www.wikidata.org/entity/Q1224499'), ('producer', 'http://www.wikidata.org/entity/Q1172062')]\n",
      "[('randomFilm', 'http://www.wikidata.org/entity/Q3821618'), ('producer', 'http://www.wikidata.org/entity/Q1172062')]\n",
      "[('randomFilm', 'http://www.wikidata.org/entity/Q3796181'), ('producer', 'http://www.wikidata.org/entity/Q186941')]\n",
      "[('randomFilm', 'http://www.wikidata.org/entity/Q783317'), ('producer', 'http://www.wikidata.org/entity/Q1149935')]\n",
      "20\n"
     ]
    }
   ],
   "source": [
    "# we know that films are produced by someCompany which is an instance of television production company\n",
    "# getting films produced by either television production company or film production company\n",
    "\n",
    "# Q11424 = films\n",
    "# Q10689397 = television production company\n",
    "# Q1762059 = film production company\n",
    "# wdt:P31 = instance of\n",
    "# P162 = producer\n",
    "\n",
    "queryString = \"\"\"\n",
    "SELECT DISTINCT *\n",
    "WHERE {\n",
    "   \n",
    "   \n",
    "   ?randomFilm wdt:P31 wd:Q11424 .\n",
    "   ?randomFilm wdt:P162 ?producer .\n",
    "   {\n",
    "       ?producer wdt:P31 wd:Q1762059.\n",
    "   }\n",
    "   UNION\n",
    "   {\n",
    "       ?producer wdt:P31 wd:Q10689397 .\n",
    "   }\n",
    "}\n",
    "\n",
    "order by ?name\n",
    "LIMIT 20\n",
    "\"\"\"\n",
    "\n",
    "print(\"Results\")\n",
    "x=run_query(queryString)\n"
   ]
  },
  {
   "cell_type": "code",
   "execution_count": 189,
   "id": "f4279f6b-1a9a-4205-b8ce-b50477ff9c9c",
   "metadata": {},
   "outputs": [
    {
     "name": "stdout",
     "output_type": "stream",
     "text": [
      "Results\n",
      "[('randomFilm', 'http://www.wikidata.org/entity/Q4655749')]\n",
      "1\n"
     ]
    }
   ],
   "source": [
    "# we know that films are produced by someCompany which is an instance of television production company\n",
    "# getting films with genre crime\n",
    "# and films produced by either television production company or film production company\n",
    "\n",
    "# Q11424 = films\n",
    "# P136 = genre\n",
    "# Q4655749 = crime\n",
    "# Q10689397 = television production company\n",
    "# Q1762059 = film production company\n",
    "# wdt:P31 = instance of\n",
    "# P162 = producer\n",
    "\n",
    "queryString = \"\"\"\n",
    "SELECT  *\n",
    "WHERE {\n",
    "   \n",
    "   \n",
    "   ?randomFilm wdt:P31 wd:Q11424 .\n",
    "   ?randomFilm wdt:P136 wd:Q3697149 .\n",
    "}\n",
    "\n",
    "order by ?name\n",
    "LIMIT 20\n",
    "\"\"\"\n",
    "\n",
    "print(\"Results\")\n",
    "x=run_query(queryString)\n"
   ]
  },
  {
   "cell_type": "markdown",
   "id": "4458ca3e",
   "metadata": {},
   "source": [
    "Final query for this task"
   ]
  },
  {
   "cell_type": "code",
   "execution_count": null,
   "id": "d8c46447",
   "metadata": {},
   "outputs": [],
   "source": [
    "# write your final query"
   ]
  },
  {
   "cell_type": "markdown",
   "id": "21acdac1",
   "metadata": {},
   "source": [
    "## Task 6\n",
    "Find the company (amongst television production company and film production company) which distributed more films (of any kind of film genre) that they did not produce (the result set must be a list of triples company IRI, label and #film)."
   ]
  },
  {
   "cell_type": "code",
   "execution_count": null,
   "id": "4c66b08e",
   "metadata": {},
   "outputs": [],
   "source": [
    "# write your queries"
   ]
  },
  {
   "cell_type": "code",
   "execution_count": 221,
   "id": "2627c97f-0b86-4137-87bc-315bf09e0e3a",
   "metadata": {},
   "outputs": [
    {
     "name": "stdout",
     "output_type": "stream",
     "text": [
      "Results\n",
      "[('distributor', 'http://www.wikidata.org/entity/Q907311'), ('distributorName', 'Netflix'), ('numberOfFilmsDistributed', '116')]\n",
      "[('distributor', 'http://www.wikidata.org/entity/Q80948336'), ('distributorName', 'FandangoNow'), ('numberOfFilmsDistributed', '25')]\n",
      "[('distributor', 'http://www.wikidata.org/entity/Q159846'), ('distributorName', 'Paramount Pictures'), ('numberOfFilmsDistributed', '20')]\n",
      "[('distributor', 'http://www.wikidata.org/entity/Q3963283'), ('distributorName', 'Società Anonima Stefano Pittaluga'), ('numberOfFilmsDistributed', '12')]\n",
      "[('distributor', 'http://www.wikidata.org/entity/Q1066018'), ('distributorName', 'Toei Company'), ('numberOfFilmsDistributed', '12')]\n",
      "[('distributor', 'http://www.wikidata.org/entity/Q179200'), ('distributorName', 'Metro-Goldwyn-Mayer'), ('numberOfFilmsDistributed', '10')]\n",
      "[('distributor', 'http://www.wikidata.org/entity/Q564960'), ('distributorName', 'Constantin Film'), ('numberOfFilmsDistributed', '10')]\n",
      "[('distributor', 'http://www.wikidata.org/entity/Q16552199'), ('distributorName', 'Ente Nazionale Industrie Cinematografiche'), ('numberOfFilmsDistributed', '7')]\n",
      "[('distributor', 'http://www.wikidata.org/entity/Q267282'), ('distributorName', 'RKO Pictures'), ('numberOfFilmsDistributed', '5')]\n",
      "[('distributor', 'http://www.wikidata.org/entity/Q2756484'), ('distributorName', 'Monogram Pictures'), ('numberOfFilmsDistributed', '5')]\n",
      "[('distributor', 'http://www.wikidata.org/entity/Q186941'), ('distributorName', 'Columbia Pictures'), ('numberOfFilmsDistributed', '5')]\n",
      "[('distributor', 'http://www.wikidata.org/entity/Q219400'), ('distributorName', 'United Artists Corporation'), ('numberOfFilmsDistributed', '4')]\n",
      "[('distributor', 'http://www.wikidata.org/entity/Q179922'), ('distributorName', 'Goldwyn Pictures'), ('numberOfFilmsDistributed', '3')]\n",
      "[('distributor', 'http://www.wikidata.org/entity/Q22101790'), ('distributorName', 'Gloria Film'), ('numberOfFilmsDistributed', '3')]\n",
      "[('distributor', 'http://www.wikidata.org/entity/Q9589'), ('distributorName', 'iTunes'), ('numberOfFilmsDistributed', '3')]\n",
      "[('distributor', 'http://www.wikidata.org/entity/Q1097348'), ('distributorName', 'InterCom'), ('numberOfFilmsDistributed', '3')]\n",
      "[('distributor', 'http://www.wikidata.org/entity/Q1329615'), ('distributorName', 'UIP-Dunafilm'), ('numberOfFilmsDistributed', '2')]\n",
      "[('distributor', 'http://www.wikidata.org/entity/Q1188369'), ('distributorName', 'First National'), ('numberOfFilmsDistributed', '2')]\n",
      "[('distributor', 'http://www.wikidata.org/entity/Q1320443'), ('distributorName', 'Sony Pictures Classics'), ('numberOfFilmsDistributed', '2')]\n",
      "[('distributor', 'http://www.wikidata.org/entity/Q2084961'), ('distributorName', '20th Century Studios Home Entertainment'), ('numberOfFilmsDistributed', '2')]\n",
      "20\n"
     ]
    }
   ],
   "source": [
    "# we know that films are produced by someCompany which is an instance of television production company\n",
    "# getting films produced by either television production company or film production company\n",
    "# using films distributed by and then checking distributed_by != produced_by\n",
    "\n",
    "# Q11424 = films\n",
    "# Q10689397 = television production company\n",
    "# Q1762059 = film production company\n",
    "# wdt:P31 = instance of\n",
    "# P162 = producer\n",
    "# P750 = distributed by\n",
    "\n",
    "queryString = \"\"\"\n",
    "SELECT DISTINCT ?distributor ?distributorName (count(?randomFilm) as ?numberOfFilmsDistributed)\n",
    "WHERE {\n",
    "   \n",
    "   \n",
    "   ?randomFilm wdt:P31 wd:Q11424 .\n",
    "   ?randomFilm wdt:P162 ?producer .\n",
    "   {\n",
    "       ?producer wdt:P31 wd:Q1762059.\n",
    "   }\n",
    "   UNION\n",
    "   {\n",
    "       ?producer wdt:P31 wd:Q10689397 .\n",
    "   }\n",
    "   \n",
    "   ?randomFilm wdt:P750 ?distributor .\n",
    "   ?distributor sc:name ?distributorName\n",
    "   \n",
    "   Filter (?distributor != ?producer)\n",
    "}\n",
    "group by ?distributor ?distributorName\n",
    "order by desc (?numberOfFilmsDistributed)\n",
    "LIMIT 20\n",
    "\"\"\"\n",
    "\n",
    "print(\"Results\")\n",
    "x=run_query(queryString)\n"
   ]
  },
  {
   "cell_type": "markdown",
   "id": "3c0036d4",
   "metadata": {},
   "source": [
    "Final query for this task"
   ]
  },
  {
   "cell_type": "code",
   "execution_count": null,
   "id": "150a4cb2",
   "metadata": {},
   "outputs": [],
   "source": [
    "# write your final query"
   ]
  },
  {
   "cell_type": "code",
   "execution_count": 222,
   "id": "3a913326-2858-4de2-9f79-d2d86a206fb2",
   "metadata": {},
   "outputs": [
    {
     "name": "stdout",
     "output_type": "stream",
     "text": [
      "Results\n",
      "[('distributor', 'http://www.wikidata.org/entity/Q907311'), ('distributorName', 'Netflix'), ('numberOfFilmsDistributed', '116')]\n",
      "[('distributor', 'http://www.wikidata.org/entity/Q80948336'), ('distributorName', 'FandangoNow'), ('numberOfFilmsDistributed', '25')]\n",
      "[('distributor', 'http://www.wikidata.org/entity/Q159846'), ('distributorName', 'Paramount Pictures'), ('numberOfFilmsDistributed', '20')]\n",
      "[('distributor', 'http://www.wikidata.org/entity/Q3963283'), ('distributorName', 'Società Anonima Stefano Pittaluga'), ('numberOfFilmsDistributed', '12')]\n",
      "[('distributor', 'http://www.wikidata.org/entity/Q1066018'), ('distributorName', 'Toei Company'), ('numberOfFilmsDistributed', '12')]\n",
      "[('distributor', 'http://www.wikidata.org/entity/Q179200'), ('distributorName', 'Metro-Goldwyn-Mayer'), ('numberOfFilmsDistributed', '10')]\n",
      "[('distributor', 'http://www.wikidata.org/entity/Q564960'), ('distributorName', 'Constantin Film'), ('numberOfFilmsDistributed', '10')]\n",
      "[('distributor', 'http://www.wikidata.org/entity/Q16552199'), ('distributorName', 'Ente Nazionale Industrie Cinematografiche'), ('numberOfFilmsDistributed', '7')]\n",
      "[('distributor', 'http://www.wikidata.org/entity/Q267282'), ('distributorName', 'RKO Pictures'), ('numberOfFilmsDistributed', '5')]\n",
      "[('distributor', 'http://www.wikidata.org/entity/Q2756484'), ('distributorName', 'Monogram Pictures'), ('numberOfFilmsDistributed', '5')]\n",
      "[('distributor', 'http://www.wikidata.org/entity/Q186941'), ('distributorName', 'Columbia Pictures'), ('numberOfFilmsDistributed', '5')]\n",
      "[('distributor', 'http://www.wikidata.org/entity/Q219400'), ('distributorName', 'United Artists Corporation'), ('numberOfFilmsDistributed', '4')]\n",
      "[('distributor', 'http://www.wikidata.org/entity/Q179922'), ('distributorName', 'Goldwyn Pictures'), ('numberOfFilmsDistributed', '3')]\n",
      "[('distributor', 'http://www.wikidata.org/entity/Q22101790'), ('distributorName', 'Gloria Film'), ('numberOfFilmsDistributed', '3')]\n",
      "[('distributor', 'http://www.wikidata.org/entity/Q9589'), ('distributorName', 'iTunes'), ('numberOfFilmsDistributed', '3')]\n",
      "[('distributor', 'http://www.wikidata.org/entity/Q1097348'), ('distributorName', 'InterCom'), ('numberOfFilmsDistributed', '3')]\n",
      "[('distributor', 'http://www.wikidata.org/entity/Q1329615'), ('distributorName', 'UIP-Dunafilm'), ('numberOfFilmsDistributed', '2')]\n",
      "[('distributor', 'http://www.wikidata.org/entity/Q1188369'), ('distributorName', 'First National'), ('numberOfFilmsDistributed', '2')]\n",
      "[('distributor', 'http://www.wikidata.org/entity/Q1320443'), ('distributorName', 'Sony Pictures Classics'), ('numberOfFilmsDistributed', '2')]\n",
      "[('distributor', 'http://www.wikidata.org/entity/Q2084961'), ('distributorName', '20th Century Studios Home Entertainment'), ('numberOfFilmsDistributed', '2')]\n",
      "20\n"
     ]
    }
   ],
   "source": [
    "# we know that films are produced by someCompany which is an instance of television production company\n",
    "# getting films produced by either television production company or film production company\n",
    "# using films distributed by and then checking distributed_by != produced_by\n",
    "\n",
    "# Q11424 = films\n",
    "# Q10689397 = television production company\n",
    "# Q1762059 = film production company\n",
    "# wdt:P31 = instance of\n",
    "# P162 = producer\n",
    "# P750 = distributed by\n",
    "\n",
    "queryString = \"\"\"\n",
    "SELECT DISTINCT ?distributor ?distributorName (count(?randomFilm) as ?numberOfFilmsDistributed)\n",
    "WHERE {\n",
    "   \n",
    "   \n",
    "   ?randomFilm wdt:P31 wd:Q11424 .\n",
    "   ?randomFilm wdt:P162 ?producer .\n",
    "   {\n",
    "       ?producer wdt:P31 wd:Q1762059.\n",
    "   }\n",
    "   UNION\n",
    "   {\n",
    "       ?producer wdt:P31 wd:Q10689397 .\n",
    "   }\n",
    "   \n",
    "   ?randomFilm wdt:P750 ?distributor .\n",
    "   ?distributor sc:name ?distributorName\n",
    "   \n",
    "   Filter (?distributor != ?producer)\n",
    "}\n",
    "group by ?distributor ?distributorName\n",
    "order by desc (?numberOfFilmsDistributed)\n",
    "LIMIT 20\n",
    "\"\"\"\n",
    "\n",
    "print(\"Results\")\n",
    "x=run_query(queryString)\n"
   ]
  },
  {
   "cell_type": "markdown",
   "id": "470feb5b",
   "metadata": {},
   "source": [
    "## Task 7\n",
    "Find how many company are listed in every stock exchange market (the result set must be a list of triples stock exchange IRI, label and #companies)."
   ]
  },
  {
   "cell_type": "code",
   "execution_count": null,
   "id": "4b086303",
   "metadata": {},
   "outputs": [],
   "source": [
    "# write your queries"
   ]
  },
  {
   "cell_type": "code",
   "execution_count": 257,
   "id": "e428abd2-90f1-409b-8e36-c8019f5b1487",
   "metadata": {},
   "outputs": [
    {
     "name": "stdout",
     "output_type": "stream",
     "text": [
      "Results\n",
      "[('pr', 'http://www.wikidata.org/prop/direct/P414'), ('obj', 'http://www.wikidata.org/entity/Q496672'), ('prName', 'stock exchange'), ('objName', 'Hong Kong Stock Exchange')]\n",
      "[('pr', 'http://www.wikidata.org/prop/direct/P414'), ('obj', 'http://www.wikidata.org/entity/Q217475'), ('prName', 'stock exchange'), ('objName', 'Tokyo Stock Exchange')]\n",
      "[('pr', 'http://www.wikidata.org/prop/direct/P414'), ('obj', 'http://www.wikidata.org/entity/Q13677'), ('prName', 'stock exchange'), ('objName', 'New York Stock Exchange')]\n",
      "[('pr', 'http://www.wikidata.org/prop/direct/P414'), ('obj', 'http://www.wikidata.org/entity/Q732670'), ('prName', 'stock exchange'), ('objName', 'Australian Securities Exchange')]\n",
      "[('pr', 'http://www.wikidata.org/prop/direct/P414'), ('obj', 'http://www.wikidata.org/entity/Q1661737'), ('prName', 'stock exchange'), ('objName', 'Indonesia Stock Exchange')]\n",
      "5\n"
     ]
    }
   ],
   "source": [
    "# looking at a random film production company to see if it has a property for stock exchange\n",
    "\n",
    "# Q1762059 = film production company\n",
    "# wdt:P31 = instance of\n",
    "\n",
    "queryString = \"\"\"\n",
    "SELECT DISTINCT ?pr ?obj ?prName ?objName\n",
    "WHERE {\n",
    "   \n",
    "   \n",
    "   ?randomCompany wdt:P31 wd:Q1762059 .\n",
    "   ?randomCompany ?pr ?obj .\n",
    "   \n",
    "   ?pr sc:name ?prName .\n",
    "   ?obj sc:name ?objName .\n",
    "   \n",
    "   FILTER regex(?objName, \".*[Ee]xchange.*\") .\n",
    "   \n",
    "}\n",
    "# group by ?distributor ?distributorName\n",
    "order by ?prName\n",
    "LIMIT 20\n",
    "\"\"\"\n",
    "\n",
    "print(\"Results\")\n",
    "x=run_query(queryString)\n"
   ]
  },
  {
   "cell_type": "code",
   "execution_count": 258,
   "id": "13f335e2-0507-46c5-a50d-812ee4e5193a",
   "metadata": {},
   "outputs": [
    {
     "name": "stdout",
     "output_type": "stream",
     "text": [
      "Results\n",
      "[('pr', 'http://www.wikidata.org/prop/direct/P1889'), ('obj', 'http://www.wikidata.org/entity/Q16220833'), ('prName', 'different from'), ('objName', 'Star Film (Dutch East Indies company)')]\n",
      "[('pr', 'http://www.wikidata.org/prop/direct/P452'), ('obj', 'http://www.wikidata.org/entity/Q1762059'), ('prName', 'industry'), ('objName', 'film production company')]\n",
      "[('pr', 'http://www.wikidata.org/prop/direct/P452'), ('obj', 'http://www.wikidata.org/entity/Q11396960'), ('prName', 'industry'), ('objName', 'production company')]\n",
      "[('pr', 'http://www.wikidata.org/prop/direct/P452'), ('obj', 'http://www.wikidata.org/entity/Q1331793'), ('prName', 'industry'), ('objName', 'media company')]\n",
      "[('pr', 'http://www.wikidata.org/prop/direct/P452'), ('obj', 'http://www.wikidata.org/entity/Q1589009'), ('prName', 'industry'), ('objName', 'privately held company')]\n",
      "[('pr', 'http://www.wikidata.org/prop/direct/P31'), ('obj', 'http://www.wikidata.org/entity/Q10689397'), ('prName', 'instance of'), ('objName', 'television production company')]\n",
      "[('pr', 'http://www.wikidata.org/prop/direct/P31'), ('obj', 'http://www.wikidata.org/entity/Q1762059'), ('prName', 'instance of'), ('objName', 'film production company')]\n",
      "[('pr', 'http://www.wikidata.org/prop/direct/P31'), ('obj', 'http://www.wikidata.org/entity/Q891723'), ('prName', 'instance of'), ('objName', 'public company')]\n",
      "[('pr', 'http://www.wikidata.org/prop/direct/P31'), ('obj', 'http://www.wikidata.org/entity/Q219577'), ('prName', 'instance of'), ('objName', 'holding company')]\n",
      "[('pr', 'http://www.wikidata.org/prop/direct/P31'), ('obj', 'http://www.wikidata.org/entity/Q783794'), ('prName', 'instance of'), ('objName', 'company')]\n",
      "[('pr', 'http://www.wikidata.org/prop/direct/P31'), ('obj', 'http://www.wikidata.org/entity/Q11396960'), ('prName', 'instance of'), ('objName', 'production company')]\n",
      "[('pr', 'http://www.wikidata.org/prop/direct/P31'), ('obj', 'http://www.wikidata.org/entity/Q1331793'), ('prName', 'instance of'), ('objName', 'media company')]\n",
      "[('pr', 'http://www.wikidata.org/prop/direct/P31'), ('obj', 'http://www.wikidata.org/entity/Q58318936'), ('prName', 'instance of'), ('objName', 'music production company')]\n",
      "[('pr', 'http://www.wikidata.org/prop/direct/P31'), ('obj', 'http://www.wikidata.org/entity/Q149789'), ('prName', 'instance of'), ('objName', 'limited liability company')]\n",
      "[('pr', 'http://www.wikidata.org/prop/direct/P31'), ('obj', 'http://www.wikidata.org/entity/Q20739124'), ('prName', 'instance of'), ('objName', 'entertainment company')]\n",
      "[('pr', 'http://www.wikidata.org/prop/direct/P31'), ('obj', 'http://www.wikidata.org/entity/Q1917775'), ('prName', 'instance of'), ('objName', 'music publishing company')]\n",
      "[('pr', 'http://www.wikidata.org/prop/direct/P31'), ('obj', 'http://www.wikidata.org/entity/Q2442401'), ('prName', 'instance of'), ('objName', 'record company')]\n",
      "[('pr', 'http://www.wikidata.org/prop/direct/P1454'), ('obj', 'http://www.wikidata.org/entity/Q3055265'), ('prName', 'legal form'), ('objName', 'single member limited liability company')]\n",
      "[('pr', 'http://www.wikidata.org/prop/direct/P1454'), ('obj', 'http://www.wikidata.org/entity/Q891723'), ('prName', 'legal form'), ('objName', 'public company')]\n",
      "[('pr', 'http://www.wikidata.org/prop/direct/P1454'), ('obj', 'http://www.wikidata.org/entity/Q149789'), ('prName', 'legal form'), ('objName', 'limited liability company')]\n",
      "20\n"
     ]
    }
   ],
   "source": [
    "# looking at a random film production company to see if it has a property to tell if it is a company\n",
    "\n",
    "# Q1762059 = film production company\n",
    "# wdt:P31 = instance of\n",
    "\n",
    "queryString = \"\"\"\n",
    "SELECT DISTINCT ?pr ?obj ?prName ?objName\n",
    "WHERE {\n",
    "   \n",
    "   \n",
    "   ?randomCompany wdt:P31 wd:Q1762059 .\n",
    "   ?randomCompany ?pr ?obj .\n",
    "   \n",
    "   ?pr sc:name ?prName .\n",
    "   ?obj sc:name ?objName .\n",
    "   \n",
    "   FILTER regex(?objName, \".*company.*\") .\n",
    "   \n",
    "}\n",
    "# group by ?distributor ?distributorName\n",
    "order by ?prName\n",
    "LIMIT 20\n",
    "\"\"\"\n",
    "\n",
    "print(\"Results\")\n",
    "x=run_query(queryString)\n"
   ]
  },
  {
   "cell_type": "code",
   "execution_count": 274,
   "id": "d5924825-e30e-45a0-b54e-e2e8ff8259af",
   "metadata": {},
   "outputs": [
    {
     "name": "stdout",
     "output_type": "stream",
     "text": [
      "Results\n",
      "[('stockExchange', 'http://www.wikidata.org/entity/Q517750'), ('stockExchangeName', 'Shenzhen Stock Exchange'), ('numberOfCompanies', '143')]\n",
      "[('stockExchange', 'http://www.wikidata.org/entity/Q2006583'), ('stockExchangeName', 'Tadawul'), ('numberOfCompanies', '113')]\n",
      "[('stockExchange', 'http://www.wikidata.org/entity/Q82059'), ('stockExchangeName', 'NASDAQ'), ('numberOfCompanies', '50')]\n",
      "[('stockExchange', 'http://www.wikidata.org/entity/Q739514'), ('stockExchangeName', 'Shanghai Stock Exchange'), ('numberOfCompanies', '49')]\n",
      "[('stockExchange', 'http://www.wikidata.org/entity/Q13677'), ('stockExchangeName', 'New York Stock Exchange'), ('numberOfCompanies', '31')]\n",
      "[('stockExchange', 'http://www.wikidata.org/entity/Q171240'), ('stockExchangeName', 'London Stock Exchange'), ('numberOfCompanies', '12')]\n",
      "[('stockExchange', 'http://www.wikidata.org/entity/Q496672'), ('stockExchangeName', 'Hong Kong Stock Exchange'), ('numberOfCompanies', '12')]\n",
      "[('stockExchange', 'http://www.wikidata.org/entity/Q732670'), ('stockExchangeName', 'Australian Securities Exchange'), ('numberOfCompanies', '12')]\n",
      "[('stockExchange', 'http://www.wikidata.org/entity/Q1930860'), ('stockExchangeName', 'OTC Markets Group'), ('numberOfCompanies', '8')]\n",
      "[('stockExchange', 'http://www.wikidata.org/entity/Q638740'), ('stockExchangeName', 'National Stock Exchange of India'), ('numberOfCompanies', '6')]\n",
      "[('stockExchange', 'http://www.wikidata.org/entity/Q1661737'), ('stockExchangeName', 'Indonesia Stock Exchange'), ('numberOfCompanies', '5')]\n",
      "[('stockExchange', 'http://www.wikidata.org/entity/Q495372'), ('stockExchangeName', 'Korea Exchange'), ('numberOfCompanies', '3')]\n",
      "[('stockExchange', 'http://www.wikidata.org/entity/Q796297'), ('stockExchangeName', 'B3'), ('numberOfCompanies', '3')]\n",
      "[('stockExchange', 'http://www.wikidata.org/entity/Q891561'), ('stockExchangeName', 'Santiago Stock Exchange'), ('numberOfCompanies', '3')]\n",
      "[('stockExchange', 'http://www.wikidata.org/entity/Q1507974'), ('stockExchangeName', 'Tel Aviv Stock Exchange'), ('numberOfCompanies', '3')]\n",
      "[('stockExchange', 'http://www.wikidata.org/entity/Q818723'), ('stockExchangeName', 'Toronto Stock Exchange'), ('numberOfCompanies', '3')]\n",
      "[('stockExchange', 'http://www.wikidata.org/entity/Q151139'), ('stockExchangeName', 'Frankfurt Stock Exchange'), ('numberOfCompanies', '2')]\n",
      "[('stockExchange', 'http://www.wikidata.org/entity/Q842108'), ('stockExchangeName', 'Euronext'), ('numberOfCompanies', '2')]\n",
      "[('stockExchange', 'http://www.wikidata.org/entity/Q2632892'), ('stockExchangeName', 'Moscow Exchange'), ('numberOfCompanies', '2')]\n",
      "[('stockExchange', 'http://www.wikidata.org/entity/Q5598539'), ('stockExchangeName', 'Taipei Exchange'), ('numberOfCompanies', '2')]\n",
      "20\n"
     ]
    }
   ],
   "source": [
    "# we know that every company is an instance of company\n",
    "# and that stock exchange property of every company lists the stock exchange\n",
    "# will group all objects of company by their stock exchange property\n",
    "\n",
    "# Q783794 = company\n",
    "# wdt:P31 = instance of\n",
    "# P414 = stock exchange\n",
    "\n",
    "queryString = \"\"\"\n",
    "SELECT DISTINCT ?stockExchange ?stockExchangeName (count(?randomCompany) as ?numberOfCompanies)\n",
    "WHERE {\n",
    "   \n",
    "   \n",
    "   ?randomCompany wdt:P31 wd:Q783794 .\n",
    "   ?randomCompany wdt:P414 ?stockExchange .\n",
    "   \n",
    "   ?stockExchange sc:name ?stockExchangeName\n",
    "   \n",
    "}\n",
    "group by ?stockExchange ?stockExchangeName\n",
    "order by desc (?numberOfCompanies)\n",
    "LIMIT 20\n",
    "\"\"\"\n",
    "\n",
    "print(\"Results\")\n",
    "x=run_query(queryString)\n"
   ]
  },
  {
   "cell_type": "markdown",
   "id": "ef756bc5",
   "metadata": {},
   "source": [
    "Final query for this task"
   ]
  },
  {
   "cell_type": "code",
   "execution_count": null,
   "id": "55ce622e",
   "metadata": {},
   "outputs": [],
   "source": [
    "# write your final query"
   ]
  },
  {
   "cell_type": "code",
   "execution_count": 276,
   "id": "f91f2f8f-c3ee-493d-aa58-c97eecc1ea77",
   "metadata": {},
   "outputs": [
    {
     "name": "stdout",
     "output_type": "stream",
     "text": [
      "Results\n",
      "[('stockExchange', 'http://www.wikidata.org/entity/Q517750'), ('stockExchangeName', 'Shenzhen Stock Exchange'), ('numberOfCompanies', '143')]\n",
      "[('stockExchange', 'http://www.wikidata.org/entity/Q2006583'), ('stockExchangeName', 'Tadawul'), ('numberOfCompanies', '113')]\n",
      "[('stockExchange', 'http://www.wikidata.org/entity/Q82059'), ('stockExchangeName', 'NASDAQ'), ('numberOfCompanies', '50')]\n",
      "[('stockExchange', 'http://www.wikidata.org/entity/Q739514'), ('stockExchangeName', 'Shanghai Stock Exchange'), ('numberOfCompanies', '49')]\n",
      "[('stockExchange', 'http://www.wikidata.org/entity/Q13677'), ('stockExchangeName', 'New York Stock Exchange'), ('numberOfCompanies', '31')]\n",
      "[('stockExchange', 'http://www.wikidata.org/entity/Q171240'), ('stockExchangeName', 'London Stock Exchange'), ('numberOfCompanies', '12')]\n",
      "[('stockExchange', 'http://www.wikidata.org/entity/Q496672'), ('stockExchangeName', 'Hong Kong Stock Exchange'), ('numberOfCompanies', '12')]\n",
      "[('stockExchange', 'http://www.wikidata.org/entity/Q732670'), ('stockExchangeName', 'Australian Securities Exchange'), ('numberOfCompanies', '12')]\n",
      "[('stockExchange', 'http://www.wikidata.org/entity/Q1930860'), ('stockExchangeName', 'OTC Markets Group'), ('numberOfCompanies', '8')]\n",
      "[('stockExchange', 'http://www.wikidata.org/entity/Q638740'), ('stockExchangeName', 'National Stock Exchange of India'), ('numberOfCompanies', '6')]\n",
      "[('stockExchange', 'http://www.wikidata.org/entity/Q1661737'), ('stockExchangeName', 'Indonesia Stock Exchange'), ('numberOfCompanies', '5')]\n",
      "[('stockExchange', 'http://www.wikidata.org/entity/Q495372'), ('stockExchangeName', 'Korea Exchange'), ('numberOfCompanies', '3')]\n",
      "[('stockExchange', 'http://www.wikidata.org/entity/Q796297'), ('stockExchangeName', 'B3'), ('numberOfCompanies', '3')]\n",
      "[('stockExchange', 'http://www.wikidata.org/entity/Q891561'), ('stockExchangeName', 'Santiago Stock Exchange'), ('numberOfCompanies', '3')]\n",
      "[('stockExchange', 'http://www.wikidata.org/entity/Q1507974'), ('stockExchangeName', 'Tel Aviv Stock Exchange'), ('numberOfCompanies', '3')]\n",
      "[('stockExchange', 'http://www.wikidata.org/entity/Q818723'), ('stockExchangeName', 'Toronto Stock Exchange'), ('numberOfCompanies', '3')]\n",
      "[('stockExchange', 'http://www.wikidata.org/entity/Q151139'), ('stockExchangeName', 'Frankfurt Stock Exchange'), ('numberOfCompanies', '2')]\n",
      "[('stockExchange', 'http://www.wikidata.org/entity/Q842108'), ('stockExchangeName', 'Euronext'), ('numberOfCompanies', '2')]\n",
      "[('stockExchange', 'http://www.wikidata.org/entity/Q2632892'), ('stockExchangeName', 'Moscow Exchange'), ('numberOfCompanies', '2')]\n",
      "[('stockExchange', 'http://www.wikidata.org/entity/Q5598539'), ('stockExchangeName', 'Taipei Exchange'), ('numberOfCompanies', '2')]\n",
      "20\n"
     ]
    }
   ],
   "source": [
    "# we know that every company is an instance of company\n",
    "# and that stock exchange property of every company lists the stock exchange\n",
    "# we will group all objects of company by their stock exchange property\n",
    "\n",
    "# Q783794 = company\n",
    "# wdt:P31 = instance of\n",
    "# P414 = stock exchange\n",
    "\n",
    "queryString = \"\"\"\n",
    "SELECT DISTINCT ?stockExchange ?stockExchangeName (count(?randomCompany) as ?numberOfCompanies)\n",
    "WHERE {\n",
    "   \n",
    "   \n",
    "   ?randomCompany wdt:P31 wd:Q783794 .\n",
    "   ?randomCompany wdt:P414 ?stockExchange .\n",
    "   \n",
    "   ?stockExchange sc:name ?stockExchangeName\n",
    "   \n",
    "}\n",
    "group by ?stockExchange ?stockExchangeName\n",
    "order by desc (?numberOfCompanies)\n",
    "LIMIT 20\n",
    "\"\"\"\n",
    "\n",
    "print(\"Results\")\n",
    "x=run_query(queryString)\n"
   ]
  },
  {
   "cell_type": "markdown",
   "id": "2fcc10eb",
   "metadata": {},
   "source": [
    "## Task 8\n",
    "Identify the BGP for Academy Award"
   ]
  },
  {
   "cell_type": "code",
   "execution_count": null,
   "id": "4d56aea5",
   "metadata": {},
   "outputs": [],
   "source": [
    "# write your queries"
   ]
  },
  {
   "cell_type": "code",
   "execution_count": 287,
   "id": "ba976071-a1cd-4960-8940-c4f00e818bd1",
   "metadata": {},
   "outputs": [
    {
     "name": "stdout",
     "output_type": "stream",
     "text": [
      "Results\n",
      "[('pr', 'http://www.wikidata.org/prop/direct/P166'), ('obj', 'http://www.wikidata.org/entity/Q41417'), ('prName', 'award received'), ('objName', 'Academy Award for Best Writing, Original Screenplay')]\n",
      "[('pr', 'http://www.wikidata.org/prop/direct/P166'), ('obj', 'http://www.wikidata.org/entity/Q102427'), ('prName', 'award received'), ('objName', 'Academy Award for Best Picture')]\n",
      "[('pr', 'http://www.wikidata.org/prop/direct/P166'), ('obj', 'http://www.wikidata.org/entity/Q488645'), ('prName', 'award received'), ('objName', 'Academy Award for Best Sound Editing')]\n",
      "[('pr', 'http://www.wikidata.org/prop/direct/P166'), ('obj', 'http://www.wikidata.org/entity/Q281939'), ('prName', 'award received'), ('objName', 'Academy Award for Best Film Editing')]\n",
      "[('pr', 'http://www.wikidata.org/prop/direct/P166'), ('obj', 'http://www.wikidata.org/entity/Q830079'), ('prName', 'award received'), ('objName', 'Academy Award for Best Sound')]\n",
      "[('pr', 'http://www.wikidata.org/prop/direct/P166'), ('obj', 'http://www.wikidata.org/entity/Q488651'), ('prName', 'award received'), ('objName', 'Academy Award for Best Original Score')]\n",
      "[('pr', 'http://www.wikidata.org/prop/direct/P166'), ('obj', 'http://www.wikidata.org/entity/Q105304'), ('prName', 'award received'), ('objName', 'Academy Award for Best Foreign Language Film')]\n",
      "[('pr', 'http://www.wikidata.org/prop/direct/P166'), ('obj', 'http://www.wikidata.org/entity/Q487136'), ('prName', 'award received'), ('objName', 'Academy Award for Best Makeup and Hairstyling')]\n",
      "[('pr', 'http://www.wikidata.org/prop/direct/P166'), ('obj', 'http://www.wikidata.org/entity/Q393686'), ('prName', 'award received'), ('objName', 'Academy Award for Best Visual Effects')]\n",
      "[('pr', 'http://www.wikidata.org/prop/direct/P166'), ('obj', 'http://www.wikidata.org/entity/Q103618'), ('prName', 'award received'), ('objName', 'Academy Award for Best Actress')]\n",
      "[('pr', 'http://www.wikidata.org/prop/direct/P166'), ('obj', 'http://www.wikidata.org/entity/Q103916'), ('prName', 'award received'), ('objName', 'Academy Award for Best Actor')]\n",
      "[('pr', 'http://www.wikidata.org/prop/direct/P166'), ('obj', 'http://www.wikidata.org/entity/Q107258'), ('prName', 'award received'), ('objName', 'Academy Award for Best Writing, Adapted Screenplay')]\n",
      "[('pr', 'http://www.wikidata.org/prop/direct/P166'), ('obj', 'http://www.wikidata.org/entity/Q103360'), ('prName', 'award received'), ('objName', 'Academy Award for Best Director')]\n",
      "[('pr', 'http://www.wikidata.org/prop/direct/P166'), ('obj', 'http://www.wikidata.org/entity/Q22253131'), ('prName', 'award received'), ('objName', 'Academy Award for Best Art Direction, Color')]\n",
      "[('pr', 'http://www.wikidata.org/prop/direct/P166'), ('obj', 'http://www.wikidata.org/entity/Q21995136'), ('prName', 'award received'), ('objName', 'Academy Award for Best Cinematography, Color')]\n",
      "[('pr', 'http://www.wikidata.org/prop/direct/P166'), ('obj', 'http://www.wikidata.org/entity/Q106291'), ('prName', 'award received'), ('objName', 'Academy Award for Best Supporting Actor')]\n",
      "[('pr', 'http://www.wikidata.org/prop/direct/P166'), ('obj', 'http://www.wikidata.org/entity/Q22120095'), ('prName', 'award received'), ('objName', 'Academy Award for Best Costume Design, Black-and-White')]\n",
      "[('pr', 'http://www.wikidata.org/prop/direct/P166'), ('obj', 'http://www.wikidata.org/entity/Q112243'), ('prName', 'award received'), ('objName', 'Academy Award for Best Original Song')]\n",
      "[('pr', 'http://www.wikidata.org/prop/direct/P166'), ('obj', 'http://www.wikidata.org/entity/Q22253133'), ('prName', 'award received'), ('objName', 'Academy Award for Best Art Direction, Black and White')]\n",
      "[('pr', 'http://www.wikidata.org/prop/direct/P166'), ('obj', 'http://www.wikidata.org/entity/Q111332'), ('prName', 'award received'), ('objName', 'Academy Award for Best Documentary Feature')]\n",
      "20\n"
     ]
    }
   ],
   "source": [
    "# looking for something realted to Academy award in a random film\n",
    "\n",
    "# Q11424 = films\n",
    "# wdt:P31 = instance of\n",
    "\n",
    "queryString = \"\"\"\n",
    "SELECT DISTINCT ?pr ?obj ?prName ?objName\n",
    "WHERE {\n",
    "   \n",
    "   ?randomFilm wdt:P31 wd:Q11424 .\n",
    "   ?randomFilm ?pr ?obj .\n",
    "   ?pr sc:name ?prName .\n",
    "   ?obj sc:name ?objName .\n",
    "   \n",
    "   FILTER regex(?objName, \".*Academy.*Award.*\") .\n",
    "   \n",
    "}\n",
    "# group by \n",
    "order by ?prName\n",
    "LIMIT 20\n",
    "\"\"\"\n",
    "\n",
    "print(\"Results\")\n",
    "x=run_query(queryString)"
   ]
  },
  {
   "cell_type": "code",
   "execution_count": 304,
   "id": "f29a1d35-250f-4eee-8a83-0ccde70294b5",
   "metadata": {},
   "outputs": [
    {
     "name": "stdout",
     "output_type": "stream",
     "text": [
      "Results\n",
      "[('obj', 'http://www.wikidata.org/entity/Q19020'), ('objName', 'Academy Awards')]\n",
      "[('obj', 'http://www.wikidata.org/entity/Q732997'), ('objName', 'British Academy Film Awards')]\n",
      "[('obj', 'http://www.wikidata.org/entity/Q488651'), ('objName', 'Academy Award for Best Original Score')]\n",
      "[('obj', 'http://www.wikidata.org/entity/Q655089'), ('objName', 'International Indian Film Academy Awards')]\n",
      "[('obj', 'http://www.wikidata.org/entity/Q384139'), ('objName', 'Africa Movie Academy Award')]\n",
      "5\n"
     ]
    }
   ],
   "source": [
    "# checking if Academy Award for Best Documentary Feature is instance of Academy Award\n",
    "\n",
    "# Q11424 = films\n",
    "# wdt:P31 = instance of\n",
    "# P166 = award received\n",
    "# Q111332 = Academy Award for Best Documentary Feature\n",
    "\n",
    "queryString = \"\"\"\n",
    "SELECT DISTINCT ?obj ?objName\n",
    "WHERE {\n",
    "   \n",
    "   ?randomFilm wdt:P31 wd:Q11424 .\n",
    "   ?randomFilm wdt:P166 ?award .\n",
    "   ?award wdt:P31 ?obj .\n",
    "   ?obj sc:name ?objName .\n",
    "   \n",
    "   FILTER regex(?objName, \".*[Aa]cademy.*[Aa]ward.*\") .\n",
    "   \n",
    "}\n",
    "# group by \n",
    "# order by ?prName\n",
    "LIMIT 20\n",
    "\"\"\"\n",
    "\n",
    "print(\"Results\")\n",
    "x=run_query(queryString)"
   ]
  },
  {
   "cell_type": "markdown",
   "id": "c132c8e3",
   "metadata": {},
   "source": [
    "Final query for this task"
   ]
  },
  {
   "cell_type": "code",
   "execution_count": null,
   "id": "4b9360fc",
   "metadata": {},
   "outputs": [],
   "source": [
    "# write your final query"
   ]
  },
  {
   "cell_type": "code",
   "execution_count": 307,
   "id": "494c5c57-de8d-4dca-ad51-d9d0f7f8a8b1",
   "metadata": {},
   "outputs": [
    {
     "name": "stdout",
     "output_type": "stream",
     "text": [
      "Results\n",
      "[('p', 'http://www.wikidata.org/prop/direct/P9084'), ('name', 'ABC News topic ID')]\n",
      "[('p', 'http://www.wikidata.org/prop/direct/P9629'), ('name', 'Armeniapedia ID')]\n",
      "[('p', 'http://www.wikidata.org/prop/direct/P8295'), ('name', 'AustLit ID')]\n",
      "[('p', 'http://www.wikidata.org/prop/direct/P6200'), ('name', 'BBC News topic ID')]\n",
      "[('p', 'http://www.wikidata.org/prop/direct/P2581'), ('name', 'BabelNet ID')]\n",
      "[('p', 'http://www.wikidata.org/prop/direct/P268'), ('name', 'Bibliothèque nationale de France ID')]\n",
      "[('p', 'http://www.wikidata.org/prop/direct/P5019'), ('name', 'Brockhaus Enzyklopädie online ID')]\n",
      "[('p', 'http://www.wikidata.org/prop/direct/P5905'), ('name', 'Comic Vine ID')]\n",
      "[('p', 'http://www.wikidata.org/prop/direct/P373'), ('name', 'Commons category')]\n",
      "[('p', 'http://www.wikidata.org/prop/direct/P935'), ('name', 'Commons gallery')]\n",
      "[('p', 'http://www.wikidata.org/prop/direct/P3569'), ('name', 'Cultureel Woordenboek ID')]\n",
      "[('p', 'http://www.wikidata.org/prop/direct/P3509'), ('name', 'Dagens Nyheter topic ID')]\n",
      "[('p', 'http://www.wikidata.org/prop/direct/P6181'), ('name', 'Disney A to Z ID')]\n",
      "[('p', 'http://www.wikidata.org/prop/direct/P1417'), ('name', 'Encyclopædia Britannica Online ID')]\n",
      "[('p', 'http://www.wikidata.org/prop/direct/P2163'), ('name', 'FAST ID')]\n",
      "[('p', 'http://www.wikidata.org/prop/direct/P2013'), ('name', 'Facebook ID')]\n",
      "[('p', 'http://www.wikidata.org/prop/direct/P4073'), ('name', 'Fandom wiki ID')]\n",
      "[('p', 'http://www.wikidata.org/prop/direct/P646'), ('name', 'Freebase ID')]\n",
      "[('p', 'http://www.wikidata.org/prop/direct/P227'), ('name', 'GND ID')]\n",
      "[('p', 'http://www.wikidata.org/prop/direct/P4013'), ('name', 'Giphy username')]\n",
      "20\n"
     ]
    }
   ],
   "source": [
    "# checking if Academy Award for Best Documentary Feature is instance of Academy Award\n",
    "\n",
    "# Q19020 = Academy Awards\n",
    "\n",
    "queryString = \"\"\"\n",
    "SELECT DISTINCT ?p ?name\n",
    "WHERE {\n",
    "   \n",
    "   wd:Q19020 ?p ?obj .\n",
    "   ?p sc:name ?name .\n",
    "   \n",
    "}\n",
    "# group by \n",
    "order by ?name\n",
    "LIMIT 20\n",
    "\"\"\"\n",
    "\n",
    "print(\"Results\")\n",
    "x=run_query(queryString)"
   ]
  },
  {
   "cell_type": "markdown",
   "id": "d28855c1",
   "metadata": {},
   "source": [
    "## Task 9\n",
    "Find the companies (among television and film production companies) that won at least 5 Academy Awards for Best Actress for the movies they produced (the result set must be a list of triples company IRI, label and #awards)."
   ]
  },
  {
   "cell_type": "code",
   "execution_count": null,
   "id": "45606703",
   "metadata": {},
   "outputs": [],
   "source": [
    "# write your queries"
   ]
  },
  {
   "cell_type": "code",
   "execution_count": 308,
   "id": "32abe2fb-0fda-4969-b70a-c4b3ee99475e",
   "metadata": {},
   "outputs": [
    {
     "name": "stdout",
     "output_type": "stream",
     "text": [
      "Results\n",
      "[('pr', 'http://www.wikidata.org/prop/direct/P166'), ('obj', 'http://www.wikidata.org/entity/Q103618'), ('prName', 'award received'), ('objName', 'Academy Award for Best Actress')]\n",
      "[('pr', 'http://www.wikidata.org/prop/direct/P166'), ('obj', 'http://www.wikidata.org/entity/Q106301'), ('prName', 'award received'), ('objName', 'Academy Award for Best Supporting Actress')]\n",
      "[('pr', 'http://www.wikidata.org/prop/direct/P166'), ('obj', 'http://www.wikidata.org/entity/Q2102534'), ('prName', 'award received'), ('objName', 'Polish Academy Award for Best Supporting Actress')]\n",
      "[('pr', 'http://www.wikidata.org/prop/direct/P166'), ('obj', 'http://www.wikidata.org/entity/Q928164'), ('prName', 'award received'), ('objName', 'Polish Academy Award for Best Actress')]\n",
      "[('pr', 'http://www.wikidata.org/prop/direct/P1411'), ('obj', 'http://www.wikidata.org/entity/Q103618'), ('prName', 'nominated for'), ('objName', 'Academy Award for Best Actress')]\n",
      "[('pr', 'http://www.wikidata.org/prop/direct/P1411'), ('obj', 'http://www.wikidata.org/entity/Q106301'), ('prName', 'nominated for'), ('objName', 'Academy Award for Best Supporting Actress')]\n",
      "[('pr', 'http://www.wikidata.org/prop/direct/P1411'), ('obj', 'http://www.wikidata.org/entity/Q2102534'), ('prName', 'nominated for'), ('objName', 'Polish Academy Award for Best Supporting Actress')]\n",
      "[('pr', 'http://www.wikidata.org/prop/direct/P1411'), ('obj', 'http://www.wikidata.org/entity/Q928164'), ('prName', 'nominated for'), ('objName', 'Polish Academy Award for Best Actress')]\n",
      "8\n"
     ]
    }
   ],
   "source": [
    "# looking for something realted to Academy awards for best actress in a random film\n",
    "\n",
    "# Q11424 = films\n",
    "# wdt:P31 = instance of\n",
    "\n",
    "queryString = \"\"\"\n",
    "SELECT DISTINCT ?pr ?obj ?prName ?objName\n",
    "WHERE {\n",
    "   \n",
    "   ?randomFilm wdt:P31 wd:Q11424 .\n",
    "   ?randomFilm ?pr ?obj .\n",
    "   ?pr sc:name ?prName .\n",
    "   ?obj sc:name ?objName .\n",
    "   \n",
    "   FILTER regex(?objName, \".*[Aa]cademy.*[Aa]ward.*[Bb]est.*[Aa]ctress*\") .\n",
    "   \n",
    "}\n",
    "# group by \n",
    "order by ?prName\n",
    "LIMIT 20\n",
    "\"\"\"\n",
    "\n",
    "print(\"Results\")\n",
    "x=run_query(queryString)"
   ]
  },
  {
   "cell_type": "code",
   "execution_count": 311,
   "id": "7245aa62-952b-44d7-8c10-5dd453820a96",
   "metadata": {},
   "outputs": [
    {
     "name": "stdout",
     "output_type": "stream",
     "text": [
      "Results\n",
      "[('producer', 'http://www.wikidata.org/entity/Q3791677'), ('producerName', 'John and James Woolf'), ('numberOfFilms', '1')]\n",
      "1\n"
     ]
    }
   ],
   "source": [
    "# we know that films are produced by someCompany which is an instance of television production company\n",
    "# getting films produced by either television production company or film production company\n",
    "# using produced field to group companies\n",
    "# using award_Recieved field to filter for Academic award for bes actress\n",
    "\n",
    "# Q11424 = films\n",
    "# Q10689397 = television production company\n",
    "# Q1762059 = film production company\n",
    "# wdt:P31 = instance of\n",
    "# P162 = producer\n",
    "# P166 = award received\n",
    "# Q103618 =  Academic award for best actress\n",
    "\n",
    "queryString = \"\"\"\n",
    "SELECT DISTINCT ?producer ?producerName (count(?randomFilm) as ?numberOfFilms)\n",
    "WHERE {\n",
    "   ?randomFilm wdt:P31 wd:Q11424 .\n",
    "   ?randomFilm wdt:P166 wd:Q103618 .\n",
    "   \n",
    "   ?randomFilm wdt:P162 ?producer .\n",
    "   {\n",
    "       ?producer wdt:P31 wd:Q1762059.\n",
    "   }\n",
    "   UNION\n",
    "   {\n",
    "       ?producer wdt:P31 wd:Q10689397 .\n",
    "   }\n",
    "   ?producer sc:name ?producerName\n",
    "}\n",
    "group by ?producer ?producerName\n",
    "order by desc (?numberOfFilms)\n",
    "LIMIT 20\n",
    "\"\"\"\n",
    "\n",
    "print(\"Results\")\n",
    "x=run_query(queryString)\n"
   ]
  },
  {
   "cell_type": "markdown",
   "id": "2dd92ca3",
   "metadata": {},
   "source": [
    "Final query for this task"
   ]
  },
  {
   "cell_type": "code",
   "execution_count": null,
   "id": "d97f9ac9",
   "metadata": {},
   "outputs": [],
   "source": [
    "# write your final query"
   ]
  },
  {
   "cell_type": "code",
   "execution_count": 312,
   "id": "7993b76b-738c-4313-b6be-1ce4477a7b03",
   "metadata": {},
   "outputs": [
    {
     "name": "stdout",
     "output_type": "stream",
     "text": [
      "Results\n",
      "[('producer', 'http://www.wikidata.org/entity/Q3791677'), ('producerName', 'John and James Woolf'), ('numberOfFilms', '1')]\n",
      "1\n"
     ]
    }
   ],
   "source": [
    "# we know that films are produced by someCompany which is an instance of television production company\n",
    "# getting films produced by either television production company or film production company\n",
    "# using produced field to group companies\n",
    "# using award_Recieved field to filter for Academic award for bes actress\n",
    "\n",
    "# Q11424 = films\n",
    "# Q10689397 = television production company\n",
    "# Q1762059 = film production company\n",
    "# wdt:P31 = instance of\n",
    "# P162 = producer\n",
    "# P166 = award received\n",
    "# Q103618 =  Academic award for best actress\n",
    "\n",
    "queryString = \"\"\"\n",
    "SELECT DISTINCT ?producer ?producerName (count(?randomFilm) as ?numberOfFilms)\n",
    "WHERE {\n",
    "   ?randomFilm wdt:P31 wd:Q11424 .\n",
    "   ?randomFilm wdt:P166 wd:Q103618 .\n",
    "   \n",
    "   ?randomFilm wdt:P162 ?producer .\n",
    "   {\n",
    "       ?producer wdt:P31 wd:Q1762059.\n",
    "   }\n",
    "   UNION\n",
    "   {\n",
    "       ?producer wdt:P31 wd:Q10689397 .\n",
    "   }\n",
    "   ?producer sc:name ?producerName\n",
    "}\n",
    "group by ?producer ?producerName\n",
    "order by desc (?numberOfFilms)\n",
    "LIMIT 20\n",
    "\"\"\"\n",
    "\n",
    "print(\"Results\")\n",
    "x=run_query(queryString)\n"
   ]
  }
 ],
 "metadata": {
  "kernelspec": {
   "display_name": "Python 3",
   "language": "python",
   "name": "python3"
  },
  "language_info": {
   "codemirror_mode": {
    "name": "ipython",
    "version": 3
   },
   "file_extension": ".py",
   "mimetype": "text/x-python",
   "name": "python",
   "nbconvert_exporter": "python",
   "pygments_lexer": "ipython3",
   "version": "3.7.10"
  }
 },
 "nbformat": 4,
 "nbformat_minor": 5
}
