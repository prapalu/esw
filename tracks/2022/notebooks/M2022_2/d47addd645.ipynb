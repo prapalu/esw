{
 "cells": [
  {
   "cell_type": "markdown",
   "id": "ae355f59",
   "metadata": {},
   "source": [
    "# General instructions\n",
    "\n",
    "The goal of the project is to materialize a set of **exploratory workloads** over a real-world, large-scale,  open-domain KG: [WikiData](https://www.wikidata.org/wiki/Wikidata:Main_Page)\n",
    "\n",
    "An exploratory workload  is composed by a set of queries, where each query is related to the information obtained previously.\n",
    "\n",
    "An exploratory workload starts with a usually vague, open ended question, and does not assume the person issuing the workload has a clear understanding of the data contained in the target database or its structure.\n",
    "\n",
    "Remeber that:\n",
    "\n",
    "1. All the queries must run in the python notebook\n",
    "2. You can use classes and properties only if you find them via a SPARQL query that must be present in the notebook\n",
    "3. You do not delete useless queries. Keep everything that is synthatically valid \n",
    "\n",
    "```\n",
    "?p <http://schema.org/name> ?name .\n",
    "```\n",
    "    \n",
    "    is the BGP returning a human-readable name of a property or a class in Wikidata."
   ]
  },
  {
   "cell_type": "code",
   "execution_count": 1,
   "id": "db438fc9",
   "metadata": {},
   "outputs": [],
   "source": [
    "## SETUP used later\n",
    "\n",
    "from SPARQLWrapper import SPARQLWrapper, JSON\n",
    "\n",
    "\n",
    "prefixString = \"\"\"\n",
    "##-d47addd645-##\n",
    "PREFIX wd: <http://www.wikidata.org/entity/> \n",
    "PREFIX wdt: <http://www.wikidata.org/prop/direct/> \n",
    "PREFIX sc: <http://schema.org/>\n",
    "\"\"\"\n",
    "\n",
    "# select and construct queries\n",
    "def run_query(queryString,verbose = True):\n",
    "    to_run = prefixString + \"\\n\" + queryString\n",
    "\n",
    "    sparql = SPARQLWrapper(\"http://a256-gc1-03.srv.aau.dk:5820/sparql\")\n",
    "    sparql.setTimeout(300)\n",
    "    sparql.setReturnFormat(JSON)\n",
    "    sparql.setQuery(to_run)\n",
    "\n",
    "    try :\n",
    "        results = sparql.query()\n",
    "        json_results = results.convert()\n",
    "        if len(json_results['results']['bindings'])==0:\n",
    "            print(\"Empty\")\n",
    "            return []\n",
    "        array = []\n",
    "        for bindings in json_results['results']['bindings']:\n",
    "            app =  [ (var, value['value'])  for var, value in bindings.items() ] \n",
    "            if verbose:\n",
    "                print( app)\n",
    "            array.append(app)\n",
    "        if verbose:\n",
    "            print(len(array))\n",
    "        return array\n",
    "\n",
    "    except Exception as e :\n",
    "        print(\"The operation failed\", e)\n",
    "    \n",
    "# ASk queries\n",
    "def run_ask_query(queryString):\n",
    "    to_run = prefixString + \"\\n\" + queryString\n",
    "\n",
    "    sparql = SPARQLWrapper(\"http://a256-gc1-03.srv.aau.dk:5820/sparql\")\n",
    "    sparql.setTimeout(300)\n",
    "    sparql.setReturnFormat(JSON)\n",
    "    sparql.setQuery(to_run)\n",
    "\n",
    "    try :\n",
    "        return sparql.query().convert()\n",
    "\n",
    "    except Exception as e :\n",
    "        print(\"The operation failed\", e)"
   ]
  },
  {
   "cell_type": "markdown",
   "id": "0872c0f9",
   "metadata": {},
   "source": [
    "# History Workflow Series (\"Ancient Rome explorative search\") \n",
    "\n",
    "Consider the following exploratory information need:\n",
    "\n",
    "> The goal of this workflow is to study the Ancient Rome and some of the main events connected to that historical period. For instance, the emperors, killings, wars and so on."
   ]
  },
  {
   "cell_type": "markdown",
   "id": "91cd9e36",
   "metadata": {},
   "source": [
    "## Useful URIs for the current workflow\n",
    "The following data are given:\n",
    "\n",
    "| IRI           | Description   | Role      |\n",
    "| -----------   | -----------   |-----------|\n",
    "| `wdt:P1647`   | subproperty   | predicate |\n",
    "| `wdt:P31`     | instance of   | predicate |\n",
    "| `wdt:P106`    | occupation    | predicate | \n",
    "| `wdt:P279`    | subclass      | predicate |\n",
    "| `wdt:P27`     | nationality   | predicate |\n",
    "| `wdt:P3342`     | Significant person       | predicate |\n",
    "| `wd:Q5`| Human       | node |\n",
    "| `wd:Q1048`| Julius Caesar       | node |\n"
   ]
  },
  {
   "cell_type": "markdown",
   "id": "12ea4c68",
   "metadata": {},
   "source": [
    "\n",
    "\n",
    "\n",
    "Also consider that\n",
    "\n",
    "```\n",
    "wd:Q1048 ?p ?obj .\n",
    "```\n",
    "\n",
    "is the BGP to retrieve all **properties of Julius Caesar**.\n",
    "\n",
    "Please consider that when you return a resource, you should return the IRI and the label of the resource. In particular, when the task require you to identify a BGP the result set must always be a list of couples IRI - label.\n",
    "\n",
    "The workload should:\n",
    "\n",
    "\n",
    "1. Identify the BGP for Ancient Rome\n",
    "\n",
    "2. Find all the Roman Dictators (return the IRI and the name of the dictator)\n",
    "\n",
    "3. Identify the BGP for Roman Empire and Roman Republic\n",
    "\n",
    "4. Return the IRI and the name of all Roman emperors killed by homicide (see \"manner of death\") and, for each killed emperor, return also the IRI and name of the killer, if present in Wikidata.\n",
    "\n",
    "5. Return the Roman emperors who killed another Roman emperor (the result set must a list of 4-tuples with killer IRI and label, and killed IRI and label).\n",
    "\n",
    "6. Find the BGP for war\n",
    "\n",
    "7. Find the wars (note that \"war\" and \"battle\" are not the same thing) participated by the Roman Empire (return IRI and name of the war).\n",
    "\n",
    "8. Consider all the wars participated by the Roman Empire. For each war return the number of related battles and the opponent (a war is composed of one or more battles) (the result set must be a list of 5-tuples war IRI, label, opponent IRI and label, and #battles).\n"
   ]
  },
  {
   "cell_type": "markdown",
   "id": "7cd545b6",
   "metadata": {
    "tags": []
   },
   "source": [
    "## Task 1\n",
    "Identify the BGP for Ancient Rome"
   ]
  },
  {
   "cell_type": "markdown",
   "id": "98019713-c505-4a32-b7d7-c12b1ee15899",
   "metadata": {},
   "source": [
    "To start, I've run the example query \"as is\" to check everything is working fine."
   ]
  },
  {
   "cell_type": "code",
   "execution_count": 2,
   "id": "ecfc0255",
   "metadata": {},
   "outputs": [
    {
     "name": "stdout",
     "output_type": "stream",
     "text": [
      "Results\n",
      "[('p', 'http://www.wikidata.org/prop/direct/P3701'), ('name', 'incarnation of')]\n",
      "[('p', 'http://www.wikidata.org/prop/direct/P1003'), ('name', 'National Library of Romania ID')]\n",
      "[('p', 'http://www.wikidata.org/prop/direct/P1005'), ('name', 'Portuguese National Library ID')]\n",
      "[('p', 'http://www.wikidata.org/prop/direct/P1006'), ('name', 'Nationale Thesaurus voor Auteurs ID')]\n",
      "[('p', 'http://www.wikidata.org/prop/direct/P1015'), ('name', 'NORAF ID')]\n",
      "[('p', 'http://www.wikidata.org/prop/direct/P1017'), ('name', 'Vatican Library ID (former scheme)')]\n",
      "[('p', 'http://www.wikidata.org/prop/direct/P102'), ('name', 'member of political party')]\n",
      "[('p', 'http://www.wikidata.org/prop/direct/P103'), ('name', 'native language')]\n",
      "[('p', 'http://www.wikidata.org/prop/direct/P1035'), ('name', 'honorific suffix')]\n",
      "[('p', 'http://www.wikidata.org/prop/direct/P1038'), ('name', 'relative')]\n",
      "[('p', 'http://www.wikidata.org/prop/direct/P106'), ('name', 'occupation')]\n",
      "[('p', 'http://www.wikidata.org/prop/direct/P1185'), ('name', 'Rodovid ID')]\n",
      "[('p', 'http://www.wikidata.org/prop/direct/P119'), ('name', 'place of burial')]\n",
      "[('p', 'http://www.wikidata.org/prop/direct/P1196'), ('name', 'manner of death')]\n",
      "[('p', 'http://www.wikidata.org/prop/direct/P1207'), ('name', 'NUKAT ID')]\n",
      "[('p', 'http://www.wikidata.org/prop/direct/P1245'), ('name', 'OmegaWiki Defined Meaning')]\n",
      "[('p', 'http://www.wikidata.org/prop/direct/P1263'), ('name', 'NNDB people ID')]\n",
      "[('p', 'http://www.wikidata.org/prop/direct/P1273'), ('name', 'CANTIC ID')]\n",
      "[('p', 'http://www.wikidata.org/prop/direct/P1280'), ('name', 'CONOR.SI ID')]\n",
      "[('p', 'http://www.wikidata.org/prop/direct/P1296'), ('name', 'Gran Enciclopèdia Catalana ID')]\n",
      "20\n"
     ]
    }
   ],
   "source": [
    "# query example\n",
    "queryString = \"\"\"\n",
    "SELECT DISTINCT ?p ?name\n",
    "WHERE {\n",
    "   # bind something\n",
    "   wd:Q1048 ?p ?obj . #all properties of Julius Caesar\n",
    "   # get the label\n",
    "   ?p sc:name ?name.\n",
    "}\n",
    "LIMIT 20\n",
    "\"\"\"\n",
    "\n",
    "print(\"Results\")\n",
    "x=run_query(queryString)"
   ]
  },
  {
   "cell_type": "markdown",
   "id": "e34eb3ba-8da0-4d50-be21-45d4b306d803",
   "metadata": {},
   "source": [
    "To check if I was understanding everything the right way, I tried to write a random query on my own using the results of the example query above.\n",
    "This should return the language (wdt:P103) spoken by Julius Caesar.\n"
   ]
  },
  {
   "cell_type": "code",
   "execution_count": 3,
   "id": "9550c2c9-979b-4419-94cc-e8b25e016d51",
   "metadata": {},
   "outputs": [
    {
     "name": "stdout",
     "output_type": "stream",
     "text": [
      "Results\n",
      "[('obj', 'http://www.wikidata.org/entity/Q397'), ('name', 'Latin')]\n",
      "1\n"
     ]
    }
   ],
   "source": [
    "queryString = \"\"\"\n",
    "SELECT DISTINCT ?obj ?name\n",
    "WHERE {\n",
    "   # bind something\n",
    "   wd:Q1048 wdt:P103 ?obj . #language spoken by Julius Caesar\n",
    "   # get the label\n",
    "   ?obj sc:name ?name.\n",
    "}\n",
    "LIMIT 20\n",
    "\"\"\"\n",
    "\n",
    "print(\"Results\")\n",
    "x=run_query(queryString)"
   ]
  },
  {
   "cell_type": "markdown",
   "id": "60535bd4-bc58-4eda-86b2-d73ec3ebc3e5",
   "metadata": {},
   "source": [
    "Now it's time to work for the actual task. I realize the example query has been limited, so I run it again with LIMIT 100."
   ]
  },
  {
   "cell_type": "code",
   "execution_count": 4,
   "id": "8e632f40-0474-4e81-94a7-8063dd9ea10e",
   "metadata": {},
   "outputs": [
    {
     "name": "stdout",
     "output_type": "stream",
     "text": [
      "Results\n",
      "[('p', 'http://www.wikidata.org/prop/direct/P3701'), ('name', 'incarnation of')]\n",
      "[('p', 'http://www.wikidata.org/prop/direct/P1003'), ('name', 'National Library of Romania ID')]\n",
      "[('p', 'http://www.wikidata.org/prop/direct/P1005'), ('name', 'Portuguese National Library ID')]\n",
      "[('p', 'http://www.wikidata.org/prop/direct/P1006'), ('name', 'Nationale Thesaurus voor Auteurs ID')]\n",
      "[('p', 'http://www.wikidata.org/prop/direct/P1015'), ('name', 'NORAF ID')]\n",
      "[('p', 'http://www.wikidata.org/prop/direct/P1017'), ('name', 'Vatican Library ID (former scheme)')]\n",
      "[('p', 'http://www.wikidata.org/prop/direct/P102'), ('name', 'member of political party')]\n",
      "[('p', 'http://www.wikidata.org/prop/direct/P103'), ('name', 'native language')]\n",
      "[('p', 'http://www.wikidata.org/prop/direct/P1035'), ('name', 'honorific suffix')]\n",
      "[('p', 'http://www.wikidata.org/prop/direct/P1038'), ('name', 'relative')]\n",
      "[('p', 'http://www.wikidata.org/prop/direct/P106'), ('name', 'occupation')]\n",
      "[('p', 'http://www.wikidata.org/prop/direct/P1185'), ('name', 'Rodovid ID')]\n",
      "[('p', 'http://www.wikidata.org/prop/direct/P119'), ('name', 'place of burial')]\n",
      "[('p', 'http://www.wikidata.org/prop/direct/P1196'), ('name', 'manner of death')]\n",
      "[('p', 'http://www.wikidata.org/prop/direct/P1207'), ('name', 'NUKAT ID')]\n",
      "[('p', 'http://www.wikidata.org/prop/direct/P1245'), ('name', 'OmegaWiki Defined Meaning')]\n",
      "[('p', 'http://www.wikidata.org/prop/direct/P1263'), ('name', 'NNDB people ID')]\n",
      "[('p', 'http://www.wikidata.org/prop/direct/P1273'), ('name', 'CANTIC ID')]\n",
      "[('p', 'http://www.wikidata.org/prop/direct/P1280'), ('name', 'CONOR.SI ID')]\n",
      "[('p', 'http://www.wikidata.org/prop/direct/P1296'), ('name', 'Gran Enciclopèdia Catalana ID')]\n",
      "[('p', 'http://www.wikidata.org/prop/direct/P1309'), ('name', 'EGAXA ID')]\n",
      "[('p', 'http://www.wikidata.org/prop/direct/P1315'), ('name', 'NLA Trove ID')]\n",
      "[('p', 'http://www.wikidata.org/prop/direct/P1343'), ('name', 'described by source')]\n",
      "[('p', 'http://www.wikidata.org/prop/direct/P1368'), ('name', 'LNB ID')]\n",
      "[('p', 'http://www.wikidata.org/prop/direct/P1375'), ('name', 'NSK ID')]\n",
      "[('p', 'http://www.wikidata.org/prop/direct/P1412'), ('name', 'languages spoken, written or signed')]\n",
      "[('p', 'http://www.wikidata.org/prop/direct/P1415'), ('name', 'Oxford Dictionary of National Biography ID')]\n",
      "[('p', 'http://www.wikidata.org/prop/direct/P1417'), ('name', 'Encyclopædia Britannica Online ID')]\n",
      "[('p', 'http://www.wikidata.org/prop/direct/P1422'), ('name', 'Sandrart.net person ID')]\n",
      "[('p', 'http://www.wikidata.org/prop/direct/P1424'), ('name', \"topic's main template\")]\n",
      "[('p', 'http://www.wikidata.org/prop/direct/P1430'), ('name', 'OpenPlaques subject ID')]\n",
      "[('p', 'http://www.wikidata.org/prop/direct/P1441'), ('name', 'present in work')]\n",
      "[('p', 'http://www.wikidata.org/prop/direct/P1472'), ('name', 'Commons Creator page')]\n",
      "[('p', 'http://www.wikidata.org/prop/direct/P157'), ('name', 'killed by')]\n",
      "[('p', 'http://www.wikidata.org/prop/direct/P1580'), ('name', 'University of Barcelona authority ID')]\n",
      "[('p', 'http://www.wikidata.org/prop/direct/P166'), ('name', 'award received')]\n",
      "[('p', 'http://www.wikidata.org/prop/direct/P1670'), ('name', 'Canadiana Authorities ID (former scheme)')]\n",
      "[('p', 'http://www.wikidata.org/prop/direct/P1695'), ('name', 'NLP ID (unique)')]\n",
      "[('p', 'http://www.wikidata.org/prop/direct/P1711'), ('name', 'British Museum person or institution ID')]\n",
      "[('p', 'http://www.wikidata.org/prop/direct/P1741'), ('name', 'GTAA ID')]\n",
      "[('p', 'http://www.wikidata.org/prop/direct/P18'), ('name', 'image')]\n",
      "[('p', 'http://www.wikidata.org/prop/direct/P1807'), ('name', 'Great Aragonese Encyclopedia ID')]\n",
      "[('p', 'http://www.wikidata.org/prop/direct/P1819'), ('name', 'genealogics.org person ID')]\n",
      "[('p', 'http://www.wikidata.org/prop/direct/P1871'), ('name', 'CERL Thesaurus ID')]\n",
      "[('p', 'http://www.wikidata.org/prop/direct/P1889'), ('name', 'different from')]\n",
      "[('p', 'http://www.wikidata.org/prop/direct/P1899'), ('name', 'LibriVox author ID')]\n",
      "[('p', 'http://www.wikidata.org/prop/direct/P19'), ('name', 'place of birth')]\n",
      "[('p', 'http://www.wikidata.org/prop/direct/P1938'), ('name', 'Project Gutenberg author ID')]\n",
      "[('p', 'http://www.wikidata.org/prop/direct/P20'), ('name', 'place of death')]\n",
      "[('p', 'http://www.wikidata.org/prop/direct/P21'), ('name', 'sex or gender')]\n",
      "[('p', 'http://www.wikidata.org/prop/direct/P213'), ('name', 'ISNI')]\n",
      "[('p', 'http://www.wikidata.org/prop/direct/P214'), ('name', 'VIAF ID')]\n",
      "[('p', 'http://www.wikidata.org/prop/direct/P2163'), ('name', 'FAST ID')]\n",
      "[('p', 'http://www.wikidata.org/prop/direct/P2184'), ('name', 'history of topic')]\n",
      "[('p', 'http://www.wikidata.org/prop/direct/P22'), ('name', 'father')]\n",
      "[('p', 'http://www.wikidata.org/prop/direct/P227'), ('name', 'GND ID')]\n",
      "[('p', 'http://www.wikidata.org/prop/direct/P2348'), ('name', 'time period')]\n",
      "[('p', 'http://www.wikidata.org/prop/direct/P2358'), ('name', 'Roman praenomen')]\n",
      "[('p', 'http://www.wikidata.org/prop/direct/P2359'), ('name', 'Roman nomen gentilicium')]\n",
      "[('p', 'http://www.wikidata.org/prop/direct/P2365'), ('name', 'Roman cognomen')]\n",
      "[('p', 'http://www.wikidata.org/prop/direct/P2381'), ('name', 'Academic Tree ID')]\n",
      "[('p', 'http://www.wikidata.org/prop/direct/P2432'), ('name', 'J. Paul Getty Museum artist id')]\n",
      "[('p', 'http://www.wikidata.org/prop/direct/P244'), ('name', 'Library of Congress authority ID')]\n",
      "[('p', 'http://www.wikidata.org/prop/direct/P245'), ('name', 'Union List of Artist Names ID')]\n",
      "[('p', 'http://www.wikidata.org/prop/direct/P25'), ('name', 'mother')]\n",
      "[('p', 'http://www.wikidata.org/prop/direct/P26'), ('name', 'spouse')]\n",
      "[('p', 'http://www.wikidata.org/prop/direct/P2600'), ('name', 'Geni.com profile ID')]\n",
      "[('p', 'http://www.wikidata.org/prop/direct/P268'), ('name', 'Bibliothèque nationale de France ID')]\n",
      "[('p', 'http://www.wikidata.org/prop/direct/P269'), ('name', 'IdRef ID')]\n",
      "[('p', 'http://www.wikidata.org/prop/direct/P27'), ('name', 'country of citizenship')]\n",
      "[('p', 'http://www.wikidata.org/prop/direct/P271'), ('name', 'CiNii author ID (books)')]\n",
      "[('p', 'http://www.wikidata.org/prop/direct/P2799'), ('name', 'BVMC person ID')]\n",
      "[('p', 'http://www.wikidata.org/prop/direct/P2868'), ('name', 'subject has role')]\n",
      "[('p', 'http://www.wikidata.org/prop/direct/P2924'), ('name', 'Great Russian Encyclopedia Online ID')]\n",
      "[('p', 'http://www.wikidata.org/prop/direct/P2950'), ('name', 'Nomisma ID')]\n",
      "[('p', 'http://www.wikidata.org/prop/direct/P2963'), ('name', 'Goodreads author ID')]\n",
      "[('p', 'http://www.wikidata.org/prop/direct/P2966'), ('name', 'National Library of Wales Authority ID')]\n",
      "[('p', 'http://www.wikidata.org/prop/direct/P2977'), ('name', 'LBT person ID')]\n",
      "[('p', 'http://www.wikidata.org/prop/direct/P3065'), ('name', 'RERO ID')]\n",
      "[('p', 'http://www.wikidata.org/prop/direct/P31'), ('name', 'instance of')]\n",
      "[('p', 'http://www.wikidata.org/prop/direct/P3219'), ('name', 'Encyclopædia Universalis ID')]\n",
      "[('p', 'http://www.wikidata.org/prop/direct/P3222'), ('name', 'NE.se ID')]\n",
      "[('p', 'http://www.wikidata.org/prop/direct/P3280'), ('name', 'BAnQ author ID')]\n",
      "[('p', 'http://www.wikidata.org/prop/direct/P3348'), ('name', 'National Library of Greece ID')]\n",
      "[('p', 'http://www.wikidata.org/prop/direct/P3365'), ('name', 'Treccani ID')]\n",
      "[('p', 'http://www.wikidata.org/prop/direct/P3373'), ('name', 'sibling')]\n",
      "[('p', 'http://www.wikidata.org/prop/direct/P3417'), ('name', 'Quora topic ID')]\n",
      "[('p', 'http://www.wikidata.org/prop/direct/P3430'), ('name', 'SNAC ARK ID')]\n",
      "[('p', 'http://www.wikidata.org/prop/direct/P345'), ('name', 'IMDb ID')]\n",
      "[('p', 'http://www.wikidata.org/prop/direct/P349'), ('name', 'National Diet Library ID')]\n",
      "[('p', 'http://www.wikidata.org/prop/direct/P3569'), ('name', 'Cultureel Woordenboek ID')]\n",
      "[('p', 'http://www.wikidata.org/prop/direct/P3630'), ('name', 'Babelio author ID')]\n",
      "[('p', 'http://www.wikidata.org/prop/direct/P3716'), ('name', 'social classification')]\n",
      "[('p', 'http://www.wikidata.org/prop/direct/P373'), ('name', 'Commons category')]\n",
      "[('p', 'http://www.wikidata.org/prop/direct/P3762'), ('name', 'openMLOL author ID')]\n",
      "[('p', 'http://www.wikidata.org/prop/direct/P3788'), ('name', 'BNMM authority ID')]\n",
      "[('p', 'http://www.wikidata.org/prop/direct/P3846'), ('name', 'DBC author ID')]\n",
      "[('p', 'http://www.wikidata.org/prop/direct/P3847'), ('name', 'Open Library subject ID')]\n",
      "[('p', 'http://www.wikidata.org/prop/direct/P39'), ('name', 'position held')]\n",
      "[('p', 'http://www.wikidata.org/prop/direct/P396'), ('name', 'SBN author ID')]\n",
      "100\n"
     ]
    }
   ],
   "source": [
    "queryString = \"\"\"\n",
    "SELECT DISTINCT ?p ?name\n",
    "WHERE {\n",
    "   # bind something\n",
    "   wd:Q1048 ?p ?obj . #all properties of Julius Caesar\n",
    "   # get the label\n",
    "   ?p sc:name ?name.\n",
    "}\n",
    "LIMIT 100 \n",
    "\"\"\"\n",
    "\n",
    "print(\"Results\")\n",
    "x=run_query(queryString)"
   ]
  },
  {
   "cell_type": "markdown",
   "id": "d50ecd54-0fc8-468b-b633-c9a6abab84c6",
   "metadata": {},
   "source": [
    "They are a ton. Should I filter them using a Regex? Actually, I realize it may be way more trivial than that. I do not need to check the properties of Julius Caesar, I've been given the Nationality identifier in the table at the beginning. "
   ]
  },
  {
   "cell_type": "markdown",
   "id": "f41a5e4e",
   "metadata": {},
   "source": [
    "Final query for this task"
   ]
  },
  {
   "cell_type": "code",
   "execution_count": 5,
   "id": "a8b592d3",
   "metadata": {},
   "outputs": [
    {
     "name": "stdout",
     "output_type": "stream",
     "text": [
      "Results\n",
      "[('obj', 'http://www.wikidata.org/entity/Q1747689'), ('name', 'Ancient Rome')]\n",
      "1\n"
     ]
    }
   ],
   "source": [
    "queryString = \"\"\"\n",
    "SELECT DISTINCT ?obj ?name\n",
    "WHERE {\n",
    "   # bind something\n",
    "   wd:Q1048 wdt:P27 ?obj . #nationality of Julius Caesar\n",
    "   # get the label\n",
    "   ?obj sc:name ?name.\n",
    "}\n",
    "LIMIT 20\n",
    "\"\"\"\n",
    "\n",
    "print(\"Results\")\n",
    "x=run_query(queryString)"
   ]
  },
  {
   "cell_type": "markdown",
   "id": "4b52a48d",
   "metadata": {
    "tags": []
   },
   "source": [
    "## Task 2\n",
    "Find all the Roman Dictators (return the IRI and the name of the dictator)"
   ]
  },
  {
   "cell_type": "markdown",
   "id": "31902501-857a-4a9b-a66c-f70ebf2d2b92",
   "metadata": {},
   "source": [
    "I had a lot of trouble for this one, cause I insisted to much about treating dictator as an occupation."
   ]
  },
  {
   "cell_type": "code",
   "execution_count": 6,
   "id": "d7b77915",
   "metadata": {},
   "outputs": [
    {
     "name": "stdout",
     "output_type": "stream",
     "text": [
      "Results\n",
      "[('obj', 'http://www.wikidata.org/entity/Q3409374'), ('name', 'Ancient Roman priest')]\n",
      "[('obj', 'http://www.wikidata.org/entity/Q99899510'), ('name', 'Ancient Roman historian')]\n",
      "[('obj', 'http://www.wikidata.org/entity/Q1097498'), ('name', 'ruler')]\n",
      "[('obj', 'http://www.wikidata.org/entity/Q12859263'), ('name', 'orator')]\n",
      "[('obj', 'http://www.wikidata.org/entity/Q1402561'), ('name', 'military leader')]\n",
      "[('obj', 'http://www.wikidata.org/entity/Q49757'), ('name', 'poet')]\n",
      "[('obj', 'http://www.wikidata.org/entity/Q82955'), ('name', 'politician')]\n",
      "[('obj', 'http://www.wikidata.org/entity/Q97667506'), ('name', 'Ancient Roman politician')]\n",
      "[('obj', 'http://www.wikidata.org/entity/Q98103687'), ('name', 'Ancient Roman military personnel')]\n",
      "[('obj', 'http://www.wikidata.org/entity/Q11774156'), ('name', 'memoirist')]\n",
      "10\n"
     ]
    }
   ],
   "source": [
    "queryString = \"\"\"\n",
    "SELECT DISTINCT ?obj ?name\n",
    "WHERE {\n",
    "   # bind something\n",
    "   wd:Q1048 wdt:P106 ?obj . #get all occupations of Julius Caesar\n",
    "   # get the label\n",
    "   ?obj sc:name ?name.\n",
    "}\n",
    "LIMIT 20\n",
    "\"\"\"\n",
    "\n",
    "print(\"Results\")\n",
    "x=run_query(queryString)"
   ]
  },
  {
   "cell_type": "markdown",
   "id": "1bb3cf4c-2504-4f54-a806-906974b81f87",
   "metadata": {},
   "source": [
    "Ruler looked like a good starting point:"
   ]
  },
  {
   "cell_type": "code",
   "execution_count": 7,
   "id": "f5786e71-fe1f-47d6-8856-ed011bf0bf0d",
   "metadata": {},
   "outputs": [
    {
     "name": "stdout",
     "output_type": "stream",
     "text": [
      "Results\n",
      "[('obj', 'http://www.wikidata.org/entity/Q3409374'), ('name', 'Ancient Roman priest')]\n",
      "[('obj', 'http://www.wikidata.org/entity/Q99899510'), ('name', 'Ancient Roman historian')]\n",
      "[('obj', 'http://www.wikidata.org/entity/Q1097498'), ('name', 'ruler')]\n",
      "[('obj', 'http://www.wikidata.org/entity/Q12859263'), ('name', 'orator')]\n",
      "[('obj', 'http://www.wikidata.org/entity/Q1402561'), ('name', 'military leader')]\n",
      "[('obj', 'http://www.wikidata.org/entity/Q49757'), ('name', 'poet')]\n",
      "[('obj', 'http://www.wikidata.org/entity/Q82955'), ('name', 'politician')]\n",
      "[('obj', 'http://www.wikidata.org/entity/Q97667506'), ('name', 'Ancient Roman politician')]\n",
      "[('obj', 'http://www.wikidata.org/entity/Q98103687'), ('name', 'Ancient Roman military personnel')]\n",
      "[('obj', 'http://www.wikidata.org/entity/Q11774156'), ('name', 'memoirist')]\n",
      "10\n"
     ]
    }
   ],
   "source": [
    "queryString = \"\"\"\n",
    "SELECT DISTINCT ?obj ?name\n",
    "WHERE {\n",
    "   # bind something\n",
    "   wd:Q1048 wdt:P106 ?obj . #get all occupations of Julius Caesar\n",
    "   # get the label\n",
    "   ?obj sc:name ?name.\n",
    "}\n",
    "LIMIT 20\n",
    "\"\"\"\n",
    "\n",
    "print(\"Results\")\n",
    "x=run_query(queryString)"
   ]
  },
  {
   "cell_type": "markdown",
   "id": "16a0f845-e8e0-4f2a-b83d-cae67d2a942a",
   "metadata": {},
   "source": [
    "Actually, in the query above I did not realize I renamed just half vars, and thus the result is meaningless. Actually, this is a common mistake (you'll see I did it later on multiple times).\n",
    "\n",
    "Let's retry with the right query:"
   ]
  },
  {
   "cell_type": "code",
   "execution_count": 8,
   "id": "d3120b1f-a774-4e0f-858d-aaf7c147e8ab",
   "metadata": {},
   "outputs": [
    {
     "name": "stdout",
     "output_type": "stream",
     "text": [
      "Results\n",
      "[('person', 'http://www.wikidata.org/entity/Q1291385'), ('name', 'Maria')]\n",
      "[('person', 'http://www.wikidata.org/entity/Q2604067'), ('name', 'Flavia Titiana')]\n",
      "[('person', 'http://www.wikidata.org/entity/Q1048'), ('name', 'Julius Caesar')]\n",
      "[('person', 'http://www.wikidata.org/entity/Q191956'), ('name', 'Majorian')]\n",
      "[('person', 'http://www.wikidata.org/entity/Q232094'), ('name', 'Flavia Maximiana Theodora')]\n",
      "[('person', 'http://www.wikidata.org/entity/Q45530'), ('name', 'Eutropia')]\n",
      "[('person', 'http://www.wikidata.org/entity/Q2479052'), ('name', 'Manlia Scantilla')]\n",
      "[('person', 'http://www.wikidata.org/entity/Q239010'), ('name', 'Domitia Longina')]\n",
      "[('person', 'http://www.wikidata.org/entity/Q241466'), ('name', 'Annia Faustina')]\n",
      "[('person', 'http://www.wikidata.org/entity/Q1434'), ('name', 'Commodus')]\n",
      "[('person', 'http://www.wikidata.org/entity/Q232271'), ('name', 'Justa Grata Honoria')]\n",
      "[('person', 'http://www.wikidata.org/entity/Q46837'), ('name', 'Hostilian')]\n",
      "[('person', 'http://www.wikidata.org/entity/Q380773'), ('name', 'Marcia Euphemia')]\n",
      "[('person', 'http://www.wikidata.org/entity/Q63533'), ('name', 'Faustina')]\n",
      "[('person', 'http://www.wikidata.org/entity/Q234562'), ('name', 'Galeria Valeria')]\n",
      "[('person', 'http://www.wikidata.org/entity/Q1898418'), ('name', 'Charito')]\n",
      "[('person', 'http://www.wikidata.org/entity/Q242466'), ('name', 'Lucilla')]\n",
      "[('person', 'http://www.wikidata.org/entity/Q298831'), ('name', 'Sulpicia Dryantilla')]\n",
      "[('person', 'http://www.wikidata.org/entity/Q1233341'), ('name', 'Marina Severa')]\n",
      "[('person', 'http://www.wikidata.org/entity/Q311274'), ('name', 'Valerius Valens')]\n",
      "20\n"
     ]
    }
   ],
   "source": [
    "queryString = \"\"\"\n",
    "SELECT DISTINCT ?person ?name\n",
    "WHERE {\n",
    "   # bind something\n",
    "   ?person wdt:P106 wd:Q1097498 ; # people who have occupation = ruler\n",
    "           wdt:P27  wd:Q1747689 . # and nationality = ancient rome\n",
    "   # get the label\n",
    "   ?person sc:name ?name.\n",
    "}\n",
    "LIMIT 20\n",
    "\"\"\"\n",
    "\n",
    "print(\"Results\")\n",
    "x=run_query(queryString)"
   ]
  },
  {
   "cell_type": "markdown",
   "id": "9a5d9124-a444-4338-9ee5-16d727597cc7",
   "metadata": {},
   "source": [
    "There is something wrong with this query. Never heard about a female dictator as Flavia Titiana.\n",
    "\n",
    "Maybe ruler is too broad, or maybe there is something else. In the next queries I tried to investigate on this with little results."
   ]
  },
  {
   "cell_type": "code",
   "execution_count": 9,
   "id": "e7201435-438e-46c6-8853-59f677612bbe",
   "metadata": {},
   "outputs": [
    {
     "name": "stdout",
     "output_type": "stream",
     "text": [
      "Results\n",
      "[('obj', 'http://www.wikidata.org/entity/Q1097498'), ('name', 'ruler')]\n",
      "1\n"
     ]
    }
   ],
   "source": [
    "queryString = \"\"\"\n",
    "SELECT DISTINCT ?obj ?name\n",
    "WHERE {\n",
    "   # bind something\n",
    "   wd:Q2604067 wdt:P106 ?obj . #get all occupations of Flavia Titiana\n",
    "   # get the label\n",
    "   ?obj sc:name ?name.\n",
    "}\n",
    "LIMIT 20\n",
    "\"\"\"\n",
    "\n",
    "print(\"Results\")\n",
    "x=run_query(queryString)"
   ]
  },
  {
   "cell_type": "code",
   "execution_count": 10,
   "id": "fa34c134-032d-4c71-bd62-013a240793b6",
   "metadata": {},
   "outputs": [
    {
     "name": "stdout",
     "output_type": "stream",
     "text": [
      "Results\n",
      "[('p', 'http://www.wikidata.org/prop/direct/P31'), ('name', 'instance of'), ('obj', 'http://www.wikidata.org/entity/Q12737077'), ('objName', 'occupation')]\n",
      "[('p', 'http://www.wikidata.org/prop/direct/P279'), ('name', 'subclass of'), ('obj', 'http://www.wikidata.org/entity/Q372436'), ('objName', 'statesperson')]\n",
      "[('p', 'http://www.wikidata.org/prop/direct/P1343'), ('name', 'described by source'), ('obj', 'http://www.wikidata.org/entity/Q4086271'), ('objName', 'Bible Encyclopedia of Archimandrite Nicephorus')]\n",
      "[('p', 'http://www.wikidata.org/prop/direct/P279'), ('name', 'subclass of'), ('obj', 'http://www.wikidata.org/entity/Q1251441'), ('objName', 'leader')]\n",
      "[('p', 'http://www.wikidata.org/prop/direct/P461'), ('name', 'opposite of'), ('obj', 'http://www.wikidata.org/entity/Q1204348'), ('objName', 'subject')]\n",
      "[('p', 'http://www.wikidata.org/prop/direct/P279'), ('name', 'subclass of'), ('obj', 'http://www.wikidata.org/entity/Q15296531'), ('objName', 'position of authority')]\n",
      "[('p', 'http://www.wikidata.org/prop/direct/P1889'), ('name', 'different from'), ('obj', 'http://www.wikidata.org/entity/Q16864330'), ('objName', 'Herrscher')]\n",
      "[('p', 'http://www.wikidata.org/prop/direct/P910'), ('name', \"topic's main category\"), ('obj', 'http://www.wikidata.org/entity/Q6006731'), ('objName', 'Category:Rulers')]\n",
      "8\n"
     ]
    }
   ],
   "source": [
    "\n",
    "queryString = \"\"\"\n",
    "SELECT DISTINCT ?p ?name ?obj ?objName\n",
    "WHERE {\n",
    "   # bind something\n",
    "   wd:Q1097498 ?p ?obj . #all properties of Ruler\n",
    "   # get the label\n",
    "   ?p sc:name ?name.\n",
    "   ?obj sc:name ?objName.\n",
    "}\n",
    "LIMIT 40\n",
    "\"\"\"\n",
    "\n",
    "print(\"Results\")\n",
    "x=run_query(queryString)"
   ]
  },
  {
   "cell_type": "code",
   "execution_count": 11,
   "id": "849fafe4-aa62-4dd0-9223-deebd3668c08",
   "metadata": {},
   "outputs": [
    {
     "name": "stdout",
     "output_type": "stream",
     "text": [
      "Results\n",
      "[('p', 'http://www.wikidata.org/prop/direct/P27'), ('name', 'country of citizenship')]\n",
      "1\n"
     ]
    }
   ],
   "source": [
    "queryString = \"\"\"\n",
    "SELECT DISTINCT ?p ?name\n",
    "WHERE {\n",
    "   # bind something\n",
    "   wd:Q1048 ?p wd:Q1747689 . # Julius Caesar ?? Rome\n",
    "   # get the label\n",
    "   ?p sc:name ?name.\n",
    "}\n",
    "LIMIT 40\n",
    "\"\"\"\n",
    "\n",
    "print(\"Results\")\n",
    "x=run_query(queryString)"
   ]
  },
  {
   "cell_type": "code",
   "execution_count": 12,
   "id": "62442698-2ffd-4f70-9f00-f61cc45e546a",
   "metadata": {},
   "outputs": [
    {
     "name": "stdout",
     "output_type": "stream",
     "text": [
      "Results\n",
      "Empty\n"
     ]
    }
   ],
   "source": [
    "queryString = \"\"\"\n",
    "SELECT DISTINCT ?p ?name\n",
    "WHERE {\n",
    "   # bind something\n",
    "   wd:Q1747689 ?p wd:Q1048 . # Rome ?? Julius Caesar\n",
    "   # get the label\n",
    "   ?p sc:name ?name.\n",
    "}\n",
    "LIMIT 40\n",
    "\"\"\"\n",
    "\n",
    "print(\"Results\")\n",
    "x=run_query(queryString)"
   ]
  },
  {
   "cell_type": "code",
   "execution_count": 13,
   "id": "4d90fb60-a2a9-437e-af48-ecb3977198b3",
   "metadata": {},
   "outputs": [
    {
     "name": "stdout",
     "output_type": "stream",
     "text": [
      "Results\n",
      "[('p', 'http://www.wikidata.org/entity/Q1136723'), ('name', 'usurper')]\n",
      "[('p', 'http://www.wikidata.org/entity/Q1097498'), ('name', 'ruler')]\n",
      "2\n"
     ]
    }
   ],
   "source": [
    "queryString = \"\"\"\n",
    "SELECT DISTINCT ?p ?name\n",
    "WHERE {\n",
    "   # bind something\n",
    "   ?p wdt:P279 wd:Q15296531 . # subclass of person of power\n",
    "   # get the label\n",
    "   ?p sc:name ?name.\n",
    "}\n",
    "LIMIT 100 \n",
    "\"\"\"\n",
    "\n",
    "print(\"Results\")\n",
    "x=run_query(queryString)"
   ]
  },
  {
   "cell_type": "markdown",
   "id": "15af0d3a-1680-4a39-9079-cadc96506f60",
   "metadata": {},
   "source": [
    "Since I was stucked with no hope, I completely changed my approach. Maybe Julius Caesar is too complex to start with. Maybe I may look for someone is renewed for being a dictator. I immediately recall the most famous roman dictator ever: Sulla. \n",
    "\n",
    "However, finding Sulla on wikidata proved to be extremely difficult for four main reasons:\n",
    "- the dictator may be spelled either Sulla or Silla, and I was not sure what was the right one\n",
    "- for some weird reason, the entry about Sulla in wikidata is missing his full name\n",
    "- there are tons of people with the same name in the Roman Empire\n",
    "- the istance of the database I'm working on is missing labels and disambiguation labels, and there is no way I could see them unless I cheat. I would strongly advise to add them to the database next year, because they would have been really useful."
   ]
  },
  {
   "cell_type": "code",
   "execution_count": 14,
   "id": "03694223-b056-43f6-9131-65302e890a7d",
   "metadata": {},
   "outputs": [
    {
     "name": "stdout",
     "output_type": "stream",
     "text": [
      "Results\n",
      "[('prenomen', 'http://www.wikidata.org/entity/Q5517401'), ('gensnomen', 'http://www.wikidata.org/entity/Q29871072'), ('cognomen', 'http://www.wikidata.org/entity/Q1025414')]\n",
      "1\n"
     ]
    }
   ],
   "source": [
    "queryString = \"\"\"\n",
    "SELECT DISTINCT ?prenomen ?gensnomen ?cognomen\n",
    "WHERE {\n",
    "   # bind something\n",
    "   wd:Q1048 wdt:P2358  ?prenomen ; # Name and \n",
    "            wdt:P2359  ?gensnomen; # gens name and\n",
    "            wdt:P2365  ?cognomen . # surname of Julius Caesar.\n",
    "           \n",
    "   # Not sure if I have to get the label\n",
    "   #?person sc:name ?name.\n",
    "}\n",
    "LIMIT 20\n",
    "\"\"\"\n",
    "\n",
    "print(\"Results\")\n",
    "x=run_query(queryString)"
   ]
  },
  {
   "cell_type": "code",
   "execution_count": 15,
   "id": "ce985f05-0071-469b-88fc-ddfa57f6be0e",
   "metadata": {},
   "outputs": [
    {
     "name": "stdout",
     "output_type": "stream",
     "text": [
      "Results\n",
      "[('prenomen', 'Gaius'), ('gensnomen', 'Julius'), ('cognomen', 'Caesar')]\n",
      "1\n"
     ]
    }
   ],
   "source": [
    "queryString = \"\"\"\n",
    "SELECT DISTINCT ?prenomen ?gensnomen ?cognomen\n",
    "WHERE {\n",
    "   # bind something\n",
    "   wd:Q1048 wdt:P2358  ?prenomenr ; # Name and \n",
    "            wdt:P2359  ?gensnomenr; # gens name and\n",
    "            wdt:P2365  ?cognomenr . # surname of Julius Caesar.\n",
    "           \n",
    "   # Ok, I have to get the label anyway\n",
    "   ?prenomenr sc:name ?prenomen.\n",
    "   ?gensnomenr sc:name ?gensnomen.\n",
    "   ?cognomenr sc:name ?cognomen.\n",
    "}\n",
    "LIMIT 20 \n",
    "\"\"\"\n",
    "\n",
    "print(\"Results\")\n",
    "x=run_query(queryString)"
   ]
  },
  {
   "cell_type": "code",
   "execution_count": 16,
   "id": "39544355-80c1-4a27-b6d8-39cbb37ff904",
   "metadata": {},
   "outputs": [
    {
     "name": "stdout",
     "output_type": "stream",
     "text": [
      "Results\n",
      "Empty\n"
     ]
    }
   ],
   "source": [
    "queryString = \"\"\"\n",
    "SELECT DISTINCT ?person ?name\n",
    "WHERE {\n",
    "   # bind something\n",
    "   ?person wdt:P106 wd:Q1097498 ; # people who have nationality = ancient rome, then get:\n",
    "           wdt:P2358  ?prenomenr ; # name and \n",
    "           wdt:P2359  ?gensnomenr; # gens name and\n",
    "           wdt:P2365  ?cognomenr . # surname of those people.\n",
    "           \n",
    "   # get the labels and use them to filter\n",
    "   ?prenomenr sc:name ?prenomen.\n",
    "   ?gensnomenr sc:name ?gensnomen.\n",
    "   ?cognomenr sc:name ?cognomen.\n",
    "   \n",
    "   FILTER regex(?prenomen, \"Lucius\")\n",
    "   FILTER regex(?gensnomen, \"Cornelius\")\n",
    "   FILTER regex(?cognomen, \"Sulla\")\n",
    "\n",
    "   \n",
    "   \n",
    "   # get the label of the result\n",
    "   ?person sc:name ?name.\n",
    "   \n",
    "   \n",
    "}\n",
    "LIMIT 20\n",
    "\"\"\"\n",
    "\n",
    "print(\"Results\")\n",
    "x=run_query(queryString)"
   ]
  },
  {
   "cell_type": "code",
   "execution_count": 17,
   "id": "35c19d05-5820-4e7d-8b10-c48acbf2bfe3",
   "metadata": {},
   "outputs": [
    {
     "name": "stdout",
     "output_type": "stream",
     "text": [
      "Results\n",
      "[('person', 'http://www.wikidata.org/entity/Q1048'), ('name', 'Julius Caesar')]\n",
      "1\n"
     ]
    }
   ],
   "source": [
    "queryString = \"\"\"\n",
    "SELECT DISTINCT ?person ?name\n",
    "WHERE {\n",
    "   # bind something\n",
    "   ?person wdt:P106 wd:Q1097498 ; # people who have nationality = ancient rome, then get:\n",
    "           wdt:P2358  ?prenomenr ; # name and \n",
    "           wdt:P2359  ?gensnomenr; # gens name and\n",
    "           wdt:P2365  ?cognomenr . # surname of those people.\n",
    "           \n",
    "   # get the labels and use them to filter\n",
    "   ?prenomenr sc:name ?prenomen.\n",
    "   ?gensnomenr sc:name ?gensnomen.\n",
    "   ?cognomenr sc:name ?cognomen.\n",
    "   \n",
    "   FILTER regex(?prenomen, \"Gaius\")\n",
    "   FILTER regex(?gensnomen, \"Julius\")\n",
    "   FILTER regex(?cognomen, \"Caesar\")\n",
    "\n",
    "   \n",
    "   \n",
    "   # get the label of the result\n",
    "   ?person sc:name ?name.\n",
    "   \n",
    "   \n",
    "}\n",
    "LIMIT 20\n",
    "\"\"\"\n",
    "\n",
    "print(\"Results\")\n",
    "x=run_query(queryString)"
   ]
  },
  {
   "cell_type": "code",
   "execution_count": 18,
   "id": "1bdb81e8-4c43-4d63-b5fb-6bc1109f3715",
   "metadata": {},
   "outputs": [
    {
     "name": "stdout",
     "output_type": "stream",
     "text": [
      "Results\n",
      "[('person', 'http://www.wikidata.org/entity/Q488377'), ('name', 'Jindeok of Silla')]\n",
      "[('person', 'http://www.wikidata.org/entity/Q496772'), ('name', 'Hyegong of Silla')]\n",
      "[('person', 'http://www.wikidata.org/entity/Q484898'), ('name', 'Hyeokgeose of Silla')]\n",
      "3\n"
     ]
    }
   ],
   "source": [
    "queryString = \"\"\"\n",
    "SELECT DISTINCT ?person ?name\n",
    "WHERE {\n",
    "   # bind something\n",
    "   ?person wdt:P106 wd:Q1097498. # people who have nationality = ancient rome, then get:\n",
    "\n",
    "   \n",
    "   \n",
    "   # get the label of the result\n",
    "   ?person sc:name ?name.\n",
    "    FILTER regex(?name, \"Silla\")\n",
    "  \n",
    "   \n",
    "}\n",
    "LIMIT 20 \n",
    "\"\"\"\n",
    "\n",
    "print(\"Results\")\n",
    "x=run_query(queryString)"
   ]
  },
  {
   "cell_type": "code",
   "execution_count": 19,
   "id": "6e3ab2f1-b833-4c2a-a6a4-9bb9f77feb01",
   "metadata": {},
   "outputs": [
    {
     "name": "stdout",
     "output_type": "stream",
     "text": [
      "Results\n",
      "Empty\n"
     ]
    }
   ],
   "source": [
    "queryString = \"\"\"\n",
    "SELECT DISTINCT ?person ?name\n",
    "WHERE {\n",
    "   # bind something\n",
    "   ?person wdt:P106 wd:Q1097498. # people who have nationality = ancient rome, then get:\n",
    "\n",
    "   \n",
    "   \n",
    "   # get the label of the result\n",
    "   ?person sc:name ?name.\n",
    "    FILTER regex(?name, \"Lucius\")\n",
    "  \n",
    "   \n",
    "}\n",
    "LIMIT 20\n",
    "\"\"\"\n",
    "\n",
    "print(\"Results\")\n",
    "x=run_query(queryString)"
   ]
  },
  {
   "cell_type": "code",
   "execution_count": 20,
   "id": "d2d33da1-9f24-43a9-bff0-9c9d9579ad0e",
   "metadata": {},
   "outputs": [
    {
     "name": "stdout",
     "output_type": "stream",
     "text": [
      "Results\n",
      "Empty\n"
     ]
    }
   ],
   "source": [
    "queryString = \"\"\"\n",
    "SELECT DISTINCT ?person ?name\n",
    "WHERE {\n",
    "   ?person wdt:P31 wdt:Q5. # peoples\n",
    "\n",
    "   # get the label of the result\n",
    "   ?person sc:name ?name.\n",
    "}\n",
    "LIMIT 20\n",
    "\"\"\"\n",
    "\n",
    "print(\"Results\")\n",
    "x=run_query(queryString)"
   ]
  },
  {
   "cell_type": "code",
   "execution_count": 21,
   "id": "d892be40-f231-4c8c-a8bf-c6f174549f64",
   "metadata": {},
   "outputs": [
    {
     "name": "stdout",
     "output_type": "stream",
     "text": [
      "Results\n",
      "Empty\n"
     ]
    }
   ],
   "source": [
    "queryString = \"\"\"\n",
    "SELECT DISTINCT ?person ?name\n",
    "WHERE {\n",
    "   ?person ?smt wdt:Q5. # peoples\n",
    "\n",
    "   # get the label of the result\n",
    "   ?person sc:name ?name.\n",
    "}\n",
    "LIMIT 20\n",
    "\"\"\"\n",
    "\n",
    "print(\"Results\")\n",
    "x=run_query(queryString)"
   ]
  },
  {
   "cell_type": "code",
   "execution_count": 22,
   "id": "2d29b737-45c7-4334-b1b4-bf9567e3315f",
   "metadata": {},
   "outputs": [
    {
     "name": "stdout",
     "output_type": "stream",
     "text": [
      "Results\n",
      "[('person', 'http://www.wikidata.org/entity/Q1002728'), ('name', 'Fonsi Nieto')]\n",
      "[('person', 'http://www.wikidata.org/entity/Q100343342'), ('name', 'Lubomír Stoklásek')]\n",
      "[('person', 'http://www.wikidata.org/entity/Q102115260'), ('name', 'Kojiro Kobayashi')]\n",
      "[('person', 'http://www.wikidata.org/entity/Q102118153'), ('name', 'Miguel E. M. Herrera')]\n",
      "[('person', 'http://www.wikidata.org/entity/Q105753880'), ('name', 'Mateo Egea')]\n",
      "[('person', 'http://www.wikidata.org/entity/Q107520918'), ('name', 'Jerónimo Latorre')]\n",
      "[('person', 'http://www.wikidata.org/entity/Q11404285'), ('name', 'Mikiko Kitano')]\n",
      "[('person', 'http://www.wikidata.org/entity/Q11520274'), ('name', 'Honjō Fusanaga')]\n",
      "[('person', 'http://www.wikidata.org/entity/Q11562694'), ('name', 'Takayoshi Watanabe')]\n",
      "[('person', 'http://www.wikidata.org/entity/Q11685026'), ('name', 'Joan de Gènova')]\n",
      "[('person', 'http://www.wikidata.org/entity/Q11686949'), ('name', 'José Ximénez')]\n",
      "[('person', 'http://www.wikidata.org/entity/Q11871976'), ('name', 'Klaus Wirzenius')]\n",
      "[('person', 'http://www.wikidata.org/entity/Q1342082'), ('name', 'Youssef Ziedan')]\n",
      "[('person', 'http://www.wikidata.org/entity/Q1370907'), ('name', 'Empress Dowager Longyu')]\n",
      "[('person', 'http://www.wikidata.org/entity/Q1373516'), ('name', 'Eugénio de Castro')]\n",
      "[('person', 'http://www.wikidata.org/entity/Q15215818'), ('name', 'Erzsébet Bereczky')]\n",
      "[('person', 'http://www.wikidata.org/entity/Q15523196'), ('name', 'Felix Hormuth')]\n",
      "[('person', 'http://www.wikidata.org/entity/Q15628796'), ('name', 'Pedro Ponce de Cabrera')]\n",
      "[('person', 'http://www.wikidata.org/entity/Q17215040'), ('name', 'Tsutsui Junsei')]\n",
      "[('person', 'http://www.wikidata.org/entity/Q17413490'), ('name', 'Antón Patiño Regueira')]\n",
      "20\n"
     ]
    }
   ],
   "source": [
    "queryString = \"\"\"\n",
    "SELECT DISTINCT ?person ?name\n",
    "WHERE {\n",
    "   ?person ?smt wd:Q5. # peoples\n",
    "\n",
    "   # get the label of the result\n",
    "   ?person sc:name ?name.\n",
    "}\n",
    "LIMIT 20 \n",
    "\"\"\"\n",
    "\n",
    "print(\"Results\")\n",
    "x=run_query(queryString)"
   ]
  },
  {
   "cell_type": "code",
   "execution_count": 23,
   "id": "94da5ef1-a054-42b4-9e1b-74bc80044241",
   "metadata": {},
   "outputs": [
    {
     "name": "stdout",
     "output_type": "stream",
     "text": [
      "Results\n",
      "[('person', 'http://www.wikidata.org/entity/Q16188292'), ('name', 'Lucius Caecilius')]\n",
      "[('person', 'http://www.wikidata.org/entity/Q20010809'), ('name', 'Lucius Fenestella')]\n",
      "[('person', 'http://www.wikidata.org/entity/Q22038936'), ('name', 'Lucius Cary, 6th Viscount Falkland')]\n",
      "[('person', 'http://www.wikidata.org/entity/Q75270013'), ('name', 'Lucius Charles Cary, 7th Viscount of Falkland')]\n",
      "[('person', 'http://www.wikidata.org/entity/Q26248409'), ('name', 'Lucius Rossi')]\n",
      "[('person', 'http://www.wikidata.org/entity/Q120122'), ('name', 'Lucius Domitius Ahenobarbus')]\n",
      "[('person', 'http://www.wikidata.org/entity/Q465212'), ('name', 'Lucius Domitius Ahenobarbus')]\n",
      "[('person', 'http://www.wikidata.org/entity/Q507036'), ('name', 'Lucius Annaeus Cornutus')]\n",
      "[('person', 'http://www.wikidata.org/entity/Q11934044'), ('name', 'Lucius Calpurnius Piso')]\n",
      "[('person', 'http://www.wikidata.org/entity/Q1236713'), ('name', 'Lucius Marius Maximus')]\n",
      "[('person', 'http://www.wikidata.org/entity/Q1738423'), ('name', 'Lucius Manlius Vulso')]\n",
      "[('person', 'http://www.wikidata.org/entity/Q4269984'), ('name', 'Lucius Cornelius Lentulus')]\n",
      "[('person', 'http://www.wikidata.org/entity/Q550603'), ('name', 'Lucius Calpurnius Piso Frugi')]\n",
      "[('person', 'http://www.wikidata.org/entity/Q554325'), ('name', 'Lucius Manlius Vulso Longus')]\n",
      "[('person', 'http://www.wikidata.org/entity/Q1238398'), ('name', 'Lucius Egnatius Victor')]\n",
      "[('person', 'http://www.wikidata.org/entity/Q1238473'), ('name', 'Lucius Norbanus Balbus')]\n",
      "[('person', 'http://www.wikidata.org/entity/Q212671'), ('name', 'Lucius Tarquinius Priscus')]\n",
      "[('person', 'http://www.wikidata.org/entity/Q716684'), ('name', 'Lucius Aurellius Commodus Pompeianus')]\n",
      "[('person', 'http://www.wikidata.org/entity/Q1964668'), ('name', 'Lucius Cary, 2nd Viscount Falkland')]\n",
      "[('person', 'http://www.wikidata.org/entity/Q353188'), ('name', 'Lucius Tarquinius Collatinus')]\n",
      "20\n"
     ]
    }
   ],
   "source": [
    "queryString = \"\"\"\n",
    "SELECT DISTINCT ?person ?name\n",
    "WHERE {\n",
    "   ?person ?smt wd:Q5. # peoples\n",
    "\n",
    "   # get the label of the result\n",
    "   ?person sc:name ?name.\n",
    "   FILTER regex(?name, \"Lucius\")\n",
    "\n",
    "}\n",
    "LIMIT 20\n",
    "\"\"\"\n",
    "\n",
    "print(\"Results\")\n",
    "x=run_query(queryString)"
   ]
  },
  {
   "cell_type": "code",
   "execution_count": 24,
   "id": "b3ef9a80-2963-4085-8dea-bbd08c94e18a",
   "metadata": {},
   "outputs": [
    {
     "name": "stdout",
     "output_type": "stream",
     "text": [
      "Results\n",
      "[('person', 'http://www.wikidata.org/entity/Q4269984'), ('name', 'Lucius Cornelius Lentulus')]\n",
      "[('person', 'http://www.wikidata.org/entity/Q201102'), ('name', 'Lucius Cornelius Balbus the Younger')]\n",
      "[('person', 'http://www.wikidata.org/entity/Q958946'), ('name', 'Lucius Cornelius Lentulus')]\n",
      "[('person', 'http://www.wikidata.org/entity/Q12129786'), ('name', 'Lucius Cornelius Lentulus')]\n",
      "[('person', 'http://www.wikidata.org/entity/Q361377'), ('name', 'Lucius Cornelius Scipio Asiaticus')]\n",
      "[('person', 'http://www.wikidata.org/entity/Q708483'), ('name', 'Lucius Cornelius Scipio')]\n",
      "[('person', 'http://www.wikidata.org/entity/Q374630'), ('name', 'Lucius Cornelius Scipio Barbatus')]\n",
      "[('person', 'http://www.wikidata.org/entity/Q1873583'), ('name', 'Lucius Cornelius Lentulus Lupus')]\n",
      "[('person', 'http://www.wikidata.org/entity/Q20005189'), ('name', 'Lucius Cornelius Lentulus Caudinus')]\n",
      "[('person', 'http://www.wikidata.org/entity/Q934699'), ('name', 'Lucius Cornelius Lentulus Caudinus')]\n",
      "[('person', 'http://www.wikidata.org/entity/Q947607'), ('name', 'Lucius Cornelius Lentulus')]\n",
      "[('person', 'http://www.wikidata.org/entity/Q11934067'), ('name', 'Lucius Cornelius Scipio')]\n",
      "[('person', 'http://www.wikidata.org/entity/Q174536'), ('name', 'Lucius Cornelius Lentulus')]\n",
      "[('person', 'http://www.wikidata.org/entity/Q521670'), ('name', 'Lucius Cornelius Lentulus Crus')]\n",
      "[('person', 'http://www.wikidata.org/entity/Q721942'), ('name', 'Lucius Cornelius Dolabella')]\n",
      "[('person', 'http://www.wikidata.org/entity/Q646993'), ('name', 'Lucius Cornelius Cinna')]\n",
      "[('person', 'http://www.wikidata.org/entity/Q1229771'), ('name', 'Lucius Cornelius Maluginensis Uritinus')]\n",
      "[('person', 'http://www.wikidata.org/entity/Q1680048'), ('name', 'Lucius Cornelius Scipio')]\n",
      "[('person', 'http://www.wikidata.org/entity/Q529884'), ('name', 'Lucius Cornelius Scipio Asiaticus')]\n",
      "[('person', 'http://www.wikidata.org/entity/Q348518'), ('name', 'Lucius Cornelius Lentulus Niger')]\n",
      "20\n"
     ]
    }
   ],
   "source": [
    "queryString = \"\"\"\n",
    "SELECT DISTINCT ?person ?name\n",
    "WHERE {\n",
    "   ?person ?smt wd:Q5. # peoples\n",
    "\n",
    "   # get the label of the result\n",
    "   ?person sc:name ?name.\n",
    "   FILTER regex(?name, \"Lucius Cornelius\")\n",
    "\n",
    "}\n",
    "LIMIT 20\n",
    "\"\"\"\n",
    "\n",
    "print(\"Results\")\n",
    "x=run_query(queryString)"
   ]
  },
  {
   "cell_type": "code",
   "execution_count": null,
   "id": "4917384d-7d03-4a8a-a5d5-92f2a3407e7a",
   "metadata": {},
   "outputs": [
    {
     "name": "stdout",
     "output_type": "stream",
     "text": [
      "Results\n",
      "[('person', 'http://www.wikidata.org/entity/Q329572'), ('name', 'Lucius Cornelius Sulla')]\n",
      "[('person', 'http://www.wikidata.org/entity/Q716713'), ('name', 'Lucius Cornelius Sulla Felix')]\n",
      "[('person', 'http://www.wikidata.org/entity/Q12119006'), ('name', 'Lucius Cornelius Sulla')]\n",
      "3\n"
     ]
    }
   ],
   "source": [
    "queryString = \"\"\"\n",
    "SELECT DISTINCT ?person ?name\n",
    "WHERE {\n",
    "   ?person ?smt wd:Q5. # peoples\n",
    "\n",
    "   # get the label of the result\n",
    "   ?person sc:name ?name.\n",
    "   FILTER regex(?name, \"Lucius Cornelius Sulla\")\n",
    "\n",
    "}\n",
    "LIMIT 20\n",
    "\"\"\"\n",
    "\n",
    "print(\"Results\")\n",
    "x=run_query(queryString)"
   ]
  },
  {
   "cell_type": "code",
   "execution_count": null,
   "id": "52ac0413-80d8-476f-9654-0b28b92dc7df",
   "metadata": {},
   "outputs": [
    {
     "name": "stdout",
     "output_type": "stream",
     "text": [
      "Results\n",
      "[('occupationr', 'http://www.wikidata.org/entity/Q47064'), ('occupation', 'military personnel')]\n",
      "[('occupationr', 'http://www.wikidata.org/entity/Q82955'), ('occupation', 'politician')]\n",
      "2\n"
     ]
    }
   ],
   "source": [
    "queryString = \"\"\"\n",
    "SELECT DISTINCT ?occupationr ?occupation\n",
    "WHERE {\n",
    "   wd:Q329572 wdt:P106 ?occupationr . # occupation of Silla\n",
    "   # get the label\n",
    "   ?occupationr sc:name ?occupation.\n",
    "}\n",
    "LIMIT 20 \n",
    "\"\"\"\n",
    "\n",
    "print(\"Results\")\n",
    "x=run_query(queryString)"
   ]
  },
  {
   "cell_type": "code",
   "execution_count": null,
   "id": "53b0de76-1125-4713-8a0e-437ee04a0bac",
   "metadata": {},
   "outputs": [
    {
     "name": "stdout",
     "output_type": "stream",
     "text": [
      "Results\n",
      "Empty\n"
     ]
    }
   ],
   "source": [
    "queryString = \"\"\"\n",
    "SELECT DISTINCT ?occupationr ?occupation\n",
    "WHERE {\n",
    "   wd:Q12119006 wdt:P106 ?occupationr . # occupation of the other Silla\n",
    "   # get the label\n",
    "   ?occupationr sc:name ?occupation.\n",
    "}\n",
    "LIMIT 20 \n",
    "\"\"\"\n",
    "\n",
    "print(\"Results\")\n",
    "x=run_query(queryString)"
   ]
  },
  {
   "cell_type": "code",
   "execution_count": null,
   "id": "2c283195-dbde-4d9b-9897-908202f913d9",
   "metadata": {},
   "outputs": [
    {
     "name": "stdout",
     "output_type": "stream",
     "text": [
      "Results\n",
      "Empty\n"
     ]
    }
   ],
   "source": [
    "queryString = \"\"\"\n",
    "SELECT DISTINCT ?occupationr ?occupation\n",
    "WHERE {\n",
    "    wd:Q329572 ?is ?occupationr . # exploring Silla by regex\n",
    "    # get the label\n",
    "    ?occupationr sc:name ?occupation.\n",
    "    FILTER regex(?occupation, \"ictato\")\n",
    "\n",
    "}\n",
    "LIMIT 20\n",
    "\"\"\"\n",
    "\n",
    "print(\"Results\")\n",
    "x=run_query(queryString)"
   ]
  },
  {
   "cell_type": "code",
   "execution_count": null,
   "id": "82b3d94c-3b6c-4e47-a21f-bb7076da1901",
   "metadata": {},
   "outputs": [
    {
     "name": "stdout",
     "output_type": "stream",
     "text": [
      "Results\n",
      "[('occupationr', 'http://www.wikidata.org/entity/Q11915639'), ('occupation', 'Cornelius')]\n",
      "[('occupationr', 'http://www.wikidata.org/entity/Q221312'), ('occupation', 'Cornelia gens')]\n",
      "[('occupationr', 'http://www.wikidata.org/entity/Q1365457'), ('occupation', 'Faustus Cornelius Sulla')]\n",
      "[('occupationr', 'http://www.wikidata.org/entity/Q1747689'), ('occupation', 'Ancient Rome')]\n",
      "[('occupationr', 'http://www.wikidata.org/entity/Q20056508'), ('occupation', 'Ancient Roman senator')]\n",
      "[('occupationr', 'http://www.wikidata.org/entity/Q220'), ('occupation', 'Rome')]\n",
      "[('occupationr', 'http://www.wikidata.org/entity/Q40779'), ('occupation', 'Roman consul')]\n",
      "[('occupationr', 'http://www.wikidata.org/entity/Q47064'), ('occupation', 'military personnel')]\n",
      "[('occupationr', 'http://www.wikidata.org/entity/Q5'), ('occupation', 'human')]\n",
      "[('occupationr', 'http://www.wikidata.org/entity/Q6581097'), ('occupation', 'male')]\n",
      "[('occupationr', 'http://www.wikidata.org/entity/Q6697451'), ('occupation', 'Lucius')]\n",
      "[('occupationr', 'http://www.wikidata.org/entity/Q787204'), ('occupation', 'High Roman Empire')]\n",
      "[('occupationr', 'http://www.wikidata.org/entity/Q82955'), ('occupation', 'politician')]\n",
      "[('occupationr', 'http://www.wikidata.org/entity/Q1490279'), ('occupation', 'Sulla')]\n",
      "[('occupationr', 'http://www.wikidata.org/entity/Q435946'), ('occupation', 'Pompeia')]\n",
      "[('occupationr', 'http://www.wikidata.org/entity/Q125545'), ('occupation', 'Publius Cornelius Sulla')]\n",
      "[('occupationr', 'http://www.wikidata.org/entity/Q3122988'), ('occupation', 'Sextia')]\n",
      "[('occupationr', 'http://www.wikidata.org/entity/Q716713'), ('occupation', 'Lucius Cornelius Sulla Felix')]\n",
      "18\n"
     ]
    }
   ],
   "source": [
    "queryString = \"\"\"\n",
    "SELECT DISTINCT ?occupationr ?occupation\n",
    "WHERE {\n",
    "    wd:Q329572 ?is ?occupationr . # exploring Silla without regex\n",
    "    # get the label\n",
    "    ?occupationr sc:name ?occupation.\n",
    "\n",
    "}\n",
    "LIMIT 20 \n",
    "\"\"\"\n",
    "\n",
    "print(\"Results\")\n",
    "x=run_query(queryString)"
   ]
  },
  {
   "cell_type": "code",
   "execution_count": null,
   "id": "5b6f162b-b432-4529-a89d-c5f4e5f018e3",
   "metadata": {},
   "outputs": [
    {
     "name": "stdout",
     "output_type": "stream",
     "text": [
      "Results\n",
      "[('occupationr', 'http://www.wikidata.org/entity/Q5'), ('occupation', 'human')]\n",
      "[('occupationr', 'http://www.wikidata.org/entity/Q6581097'), ('occupation', 'male')]\n",
      "[('occupationr', 'http://www.wikidata.org/entity/Q483783'), ('occupation', 'Sulla')]\n",
      "[('occupationr', 'http://www.wikidata.org/entity/Q3621973'), ('occupation', 'Publius Cornelius Sulla')]\n",
      "[('occupationr', 'http://www.wikidata.org/entity/Q15715169'), ('occupation', 'Cornelia')]\n",
      "[('occupationr', 'http://www.wikidata.org/entity/Q12145490'), ('occupation', 'Publius Cornelius Sulla')]\n",
      "6\n"
     ]
    }
   ],
   "source": [
    "queryString = \"\"\"\n",
    "SELECT DISTINCT ?occupationr ?occupation\n",
    "WHERE {\n",
    "    wd:Q12119006 ?is ?occupationr . # exploring other Silla without regex\n",
    "    # get the label\n",
    "    ?occupationr sc:name ?occupation.\n",
    "\n",
    "}\n",
    "LIMIT 20 \n",
    "\"\"\"\n",
    "\n",
    "print(\"Results\")\n",
    "x=run_query(queryString)"
   ]
  },
  {
   "cell_type": "code",
   "execution_count": null,
   "id": "b220203e-552c-433d-b0a2-6214c359f133",
   "metadata": {},
   "outputs": [
    {
     "name": "stdout",
     "output_type": "stream",
     "text": [
      "Results\n",
      "[('pr', 'http://www.wikidata.org/prop/direct/P106'), ('p', 'occupation'), ('or', 'http://www.wikidata.org/entity/Q47064'), ('o', 'military personnel')]\n",
      "[('pr', 'http://www.wikidata.org/prop/direct/P106'), ('p', 'occupation'), ('or', 'http://www.wikidata.org/entity/Q82955'), ('o', 'politician')]\n",
      "[('pr', 'http://www.wikidata.org/prop/direct/P19'), ('p', 'place of birth'), ('or', 'http://www.wikidata.org/entity/Q220'), ('o', 'Rome')]\n",
      "[('pr', 'http://www.wikidata.org/prop/direct/P21'), ('p', 'sex or gender'), ('or', 'http://www.wikidata.org/entity/Q6581097'), ('o', 'male')]\n",
      "[('pr', 'http://www.wikidata.org/prop/direct/P22'), ('p', 'father'), ('or', 'http://www.wikidata.org/entity/Q125545'), ('o', 'Publius Cornelius Sulla')]\n",
      "[('pr', 'http://www.wikidata.org/prop/direct/P2348'), ('p', 'time period'), ('or', 'http://www.wikidata.org/entity/Q787204'), ('o', 'High Roman Empire')]\n",
      "[('pr', 'http://www.wikidata.org/prop/direct/P2358'), ('p', 'Roman praenomen'), ('or', 'http://www.wikidata.org/entity/Q6697451'), ('o', 'Lucius')]\n",
      "[('pr', 'http://www.wikidata.org/prop/direct/P2359'), ('p', 'Roman nomen gentilicium'), ('or', 'http://www.wikidata.org/entity/Q11915639'), ('o', 'Cornelius')]\n",
      "[('pr', 'http://www.wikidata.org/prop/direct/P2365'), ('p', 'Roman cognomen'), ('or', 'http://www.wikidata.org/entity/Q1490279'), ('o', 'Sulla')]\n",
      "[('pr', 'http://www.wikidata.org/prop/direct/P25'), ('p', 'mother'), ('or', 'http://www.wikidata.org/entity/Q435946'), ('o', 'Pompeia')]\n",
      "[('pr', 'http://www.wikidata.org/prop/direct/P26'), ('p', 'spouse'), ('or', 'http://www.wikidata.org/entity/Q3122988'), ('o', 'Sextia')]\n",
      "[('pr', 'http://www.wikidata.org/prop/direct/P27'), ('p', 'country of citizenship'), ('or', 'http://www.wikidata.org/entity/Q1747689'), ('o', 'Ancient Rome')]\n",
      "[('pr', 'http://www.wikidata.org/prop/direct/P31'), ('p', 'instance of'), ('or', 'http://www.wikidata.org/entity/Q5'), ('o', 'human')]\n",
      "[('pr', 'http://www.wikidata.org/prop/direct/P39'), ('p', 'position held'), ('or', 'http://www.wikidata.org/entity/Q40779'), ('o', 'Roman consul')]\n",
      "[('pr', 'http://www.wikidata.org/prop/direct/P39'), ('p', 'position held'), ('or', 'http://www.wikidata.org/entity/Q20056508'), ('o', 'Ancient Roman senator')]\n",
      "[('pr', 'http://www.wikidata.org/prop/direct/P40'), ('p', 'child'), ('or', 'http://www.wikidata.org/entity/Q1365457'), ('o', 'Faustus Cornelius Sulla')]\n",
      "[('pr', 'http://www.wikidata.org/prop/direct/P40'), ('p', 'child'), ('or', 'http://www.wikidata.org/entity/Q716713'), ('o', 'Lucius Cornelius Sulla Felix')]\n",
      "[('pr', 'http://www.wikidata.org/prop/direct/P5025'), ('p', 'gens'), ('or', 'http://www.wikidata.org/entity/Q221312'), ('o', 'Cornelia gens')]\n",
      "18\n"
     ]
    }
   ],
   "source": [
    "queryString = \"\"\"\n",
    "SELECT DISTINCT ?pr ?p ?or ?o\n",
    "WHERE {\n",
    "    wd:Q329572 ?pr ?or . # exploring Silla without regex\n",
    "    # get the label\n",
    "    ?or sc:name ?o.\n",
    "    ?pr sc:name ?p.\n",
    "\n",
    "}\n",
    "LIMIT 20\n",
    "\"\"\"\n",
    "\n",
    "print(\"Results\")\n",
    "x=run_query(queryString)"
   ]
  },
  {
   "cell_type": "code",
   "execution_count": null,
   "id": "f5ea1638-68f7-43d5-969a-7a0d4d84361d",
   "metadata": {},
   "outputs": [
    {
     "name": "stdout",
     "output_type": "stream",
     "text": [
      "Results\n",
      "[('pr', 'http://www.w3.org/1999/02/22-rdf-syntax-ns#type'), ('or', 'http://wikiba.se/ontology#Item')]\n",
      "[('pr', 'http://www.wikidata.org/prop/direct-normalized/P646'), ('or', 'http://g.co/kg/m/08z80q')]\n",
      "[('pr', 'http://www.wikidata.org/prop/direct/P106'), ('or', 'http://www.wikidata.org/entity/Q47064')]\n",
      "[('pr', 'http://www.wikidata.org/prop/direct/P106'), ('or', 'http://www.wikidata.org/entity/Q82955')]\n",
      "[('pr', 'http://www.wikidata.org/prop/direct/P1317'), ('or', '-004-01-01T00:00:00Z')]\n",
      "[('pr', 'http://www.wikidata.org/prop/direct/P1819'), ('or', 'I00735465')]\n",
      "[('pr', 'http://www.wikidata.org/prop/direct/P19'), ('or', 'http://www.wikidata.org/entity/Q220')]\n",
      "[('pr', 'http://www.wikidata.org/prop/direct/P21'), ('or', 'http://www.wikidata.org/entity/Q6581097')]\n",
      "[('pr', 'http://www.wikidata.org/prop/direct/P22'), ('or', 'http://www.wikidata.org/entity/Q125545')]\n",
      "[('pr', 'http://www.wikidata.org/prop/direct/P2348'), ('or', 'http://www.wikidata.org/entity/Q787204')]\n",
      "[('pr', 'http://www.wikidata.org/prop/direct/P2358'), ('or', 'http://www.wikidata.org/entity/Q6697451')]\n",
      "[('pr', 'http://www.wikidata.org/prop/direct/P2359'), ('or', 'http://www.wikidata.org/entity/Q11915639')]\n",
      "[('pr', 'http://www.wikidata.org/prop/direct/P2365'), ('or', 'http://www.wikidata.org/entity/Q1490279')]\n",
      "[('pr', 'http://www.wikidata.org/prop/direct/P25'), ('or', 'http://www.wikidata.org/entity/Q435946')]\n",
      "[('pr', 'http://www.wikidata.org/prop/direct/P26'), ('or', 'http://www.wikidata.org/entity/Q3122988')]\n",
      "[('pr', 'http://www.wikidata.org/prop/direct/P27'), ('or', 'http://www.wikidata.org/entity/Q1747689')]\n",
      "[('pr', 'http://www.wikidata.org/prop/direct/P31'), ('or', 'http://www.wikidata.org/entity/Q5')]\n",
      "[('pr', 'http://www.wikidata.org/prop/direct/P39'), ('or', 'http://www.wikidata.org/entity/Q20056508')]\n",
      "[('pr', 'http://www.wikidata.org/prop/direct/P39'), ('or', 'http://www.wikidata.org/entity/Q40779')]\n",
      "[('pr', 'http://www.wikidata.org/prop/direct/P40'), ('or', 'http://www.wikidata.org/entity/Q1365457')]\n",
      "[('pr', 'http://www.wikidata.org/prop/direct/P40'), ('or', 'http://www.wikidata.org/entity/Q716713')]\n",
      "[('pr', 'http://www.wikidata.org/prop/direct/P5025'), ('or', 'http://www.wikidata.org/entity/Q221312')]\n",
      "[('pr', 'http://www.wikidata.org/prop/direct/P569'), ('or', '-050-01-01T00:00:00Z')]\n",
      "[('pr', 'http://www.wikidata.org/prop/direct/P570'), ('or', 'nodeID://b322603')]\n",
      "[('pr', 'http://www.wikidata.org/prop/direct/P646'), ('or', '/m/08z80q')]\n",
      "[('pr', 'http://schema.org/name'), ('or', 'Lucius Cornelius Sulla')]\n",
      "26\n"
     ]
    }
   ],
   "source": [
    "queryString = \"\"\"\n",
    "SELECT DISTINCT ?pr ?p ?or ?o\n",
    "WHERE {\n",
    "    wd:Q329572 ?pr ?or . # exploring Sulla with no properties label\n",
    "\n",
    "}\n",
    "LIMIT 50\n",
    "\"\"\"\n",
    "\n",
    "print(\"Results\")\n",
    "x=run_query(queryString)"
   ]
  },
  {
   "cell_type": "code",
   "execution_count": null,
   "id": "18416f1b-f0af-46c9-a3f0-d63425c9defb",
   "metadata": {},
   "outputs": [
    {
     "name": "stdout",
     "output_type": "stream",
     "text": [
      "Results\n",
      "[('pr', 'http://www.wikidata.org/prop/direct/P106'), ('p', 'occupation'), ('or', 'http://www.wikidata.org/entity/Q47064'), ('o', 'military personnel')]\n",
      "[('pr', 'http://www.wikidata.org/prop/direct/P106'), ('p', 'occupation'), ('or', 'http://www.wikidata.org/entity/Q82955'), ('o', 'politician')]\n",
      "[('pr', 'http://www.wikidata.org/prop/direct/P21'), ('p', 'sex or gender'), ('or', 'http://www.wikidata.org/entity/Q6581097'), ('o', 'male')]\n",
      "[('pr', 'http://www.wikidata.org/prop/direct/P22'), ('p', 'father'), ('or', 'http://www.wikidata.org/entity/Q329572'), ('o', 'Lucius Cornelius Sulla')]\n",
      "[('pr', 'http://www.wikidata.org/prop/direct/P2348'), ('p', 'time period'), ('or', 'http://www.wikidata.org/entity/Q787204'), ('o', 'High Roman Empire')]\n",
      "[('pr', 'http://www.wikidata.org/prop/direct/P2358'), ('p', 'Roman praenomen'), ('or', 'http://www.wikidata.org/entity/Q6697451'), ('o', 'Lucius')]\n",
      "[('pr', 'http://www.wikidata.org/prop/direct/P2359'), ('p', 'Roman nomen gentilicium'), ('or', 'http://www.wikidata.org/entity/Q11915639'), ('o', 'Cornelius')]\n",
      "[('pr', 'http://www.wikidata.org/prop/direct/P2365'), ('p', 'Roman cognomen'), ('or', 'http://www.wikidata.org/entity/Q1490279'), ('o', 'Sulla')]\n",
      "[('pr', 'http://www.wikidata.org/prop/direct/P2365'), ('p', 'Roman cognomen'), ('or', 'http://www.wikidata.org/entity/Q105186919'), ('o', 'Felix')]\n",
      "[('pr', 'http://www.wikidata.org/prop/direct/P25'), ('p', 'mother'), ('or', 'http://www.wikidata.org/entity/Q3122988'), ('o', 'Sextia')]\n",
      "[('pr', 'http://www.wikidata.org/prop/direct/P27'), ('p', 'country of citizenship'), ('or', 'http://www.wikidata.org/entity/Q1747689'), ('o', 'Ancient Rome')]\n",
      "[('pr', 'http://www.wikidata.org/prop/direct/P31'), ('p', 'instance of'), ('or', 'http://www.wikidata.org/entity/Q5'), ('o', 'human')]\n",
      "[('pr', 'http://www.wikidata.org/prop/direct/P3373'), ('p', 'sibling'), ('or', 'http://www.wikidata.org/entity/Q1365457'), ('o', 'Faustus Cornelius Sulla')]\n",
      "[('pr', 'http://www.wikidata.org/prop/direct/P3716'), ('p', 'social classification'), ('or', 'http://www.wikidata.org/entity/Q154668'), ('o', 'patrician')]\n",
      "[('pr', 'http://www.wikidata.org/prop/direct/P39'), ('p', 'position held'), ('or', 'http://www.wikidata.org/entity/Q40779'), ('o', 'Roman consul')]\n",
      "[('pr', 'http://www.wikidata.org/prop/direct/P39'), ('p', 'position held'), ('or', 'http://www.wikidata.org/entity/Q20056508'), ('o', 'Ancient Roman senator')]\n",
      "[('pr', 'http://www.wikidata.org/prop/direct/P5025'), ('p', 'gens'), ('or', 'http://www.wikidata.org/entity/Q221312'), ('o', 'Cornelia gens')]\n",
      "17\n"
     ]
    }
   ],
   "source": [
    "queryString = \"\"\"\n",
    "SELECT DISTINCT ?pr ?p ?or ?o\n",
    "WHERE {\n",
    "    wd:Q716713 ?pr ?or . # exploring the third Sulla\n",
    "    # get the labels\n",
    "    ?or sc:name ?o.\n",
    "    ?pr sc:name ?p.\n",
    "\n",
    "}\n",
    "LIMIT 50 \n",
    "\"\"\"\n",
    "\n",
    "print(\"Results\")\n",
    "x=run_query(queryString)"
   ]
  },
  {
   "cell_type": "code",
   "execution_count": null,
   "id": "ac922b0f-4dd5-4fa1-82f3-4b171f2becaa",
   "metadata": {},
   "outputs": [
    {
     "name": "stdout",
     "output_type": "stream",
     "text": [
      "Results\n",
      "[('person', 'http://www.wikidata.org/entity/Q238036'), ('name', 'Margaret Sullavan')]\n",
      "[('person', 'http://www.wikidata.org/entity/Q1365457'), ('name', 'Faustus Cornelius Sulla')]\n",
      "[('person', 'http://www.wikidata.org/entity/Q705117'), ('name', 'Faustus Cornelius Sulla Felix')]\n",
      "[('person', 'http://www.wikidata.org/entity/Q353214'), ('name', 'Marcus Munatius Sulla Urbanus')]\n",
      "[('person', 'http://www.wikidata.org/entity/Q678644'), ('name', 'Marcus Munatius Sulla Cerialis')]\n",
      "[('person', 'http://www.wikidata.org/entity/Q11915650'), ('name', 'Cornelius Sulla')]\n",
      "[('person', 'http://www.wikidata.org/entity/Q15709216'), ('name', 'Cornelia Sulla')]\n",
      "[('person', 'http://www.wikidata.org/entity/Q483783'), ('name', 'Sulla')]\n",
      "[('person', 'http://www.wikidata.org/entity/Q5438354'), ('name', 'Faustus Cornelius Sulla')]\n",
      "[('person', 'http://www.wikidata.org/entity/Q708722'), ('name', 'Faustus Cornelius Sulla')]\n",
      "[('person', 'http://www.wikidata.org/entity/Q1412864'), ('name', 'Julius Sullan Tonel')]\n",
      "[('person', 'http://www.wikidata.org/entity/Q58825663'), ('name', 'Francesco Sulla')]\n",
      "[('person', 'http://www.wikidata.org/entity/Q15438615'), ('name', 'Muhammad Iqbal Sullam')]\n",
      "[('person', 'http://www.wikidata.org/entity/Q378602'), ('name', 'Jani Sullanmaa')]\n",
      "[('person', 'http://www.wikidata.org/entity/Q282063'), ('name', 'Sara Copia Sullam')]\n",
      "[('person', 'http://www.wikidata.org/entity/Q58349104'), ('name', 'Damien Sulla-Menashe')]\n",
      "[('person', 'http://www.wikidata.org/entity/Q92984229'), ('name', 'Paul M Sullam')]\n",
      "[('person', 'http://www.wikidata.org/entity/Q1133969'), ('name', 'Cornelius Sulla Felix')]\n",
      "[('person', 'http://www.wikidata.org/entity/Q104698675'), ('name', 'Publius Cornelius Sulla')]\n",
      "[('person', 'http://www.wikidata.org/entity/Q3624657'), ('name', 'Publius Cornelius Sulla')]\n",
      "20\n"
     ]
    }
   ],
   "source": [
    "queryString = \"\"\"\n",
    "SELECT DISTINCT ?person ?name\n",
    "WHERE {\n",
    "   ?person ?smt wd:Q5. # peoples\n",
    "\n",
    "   # get the label of the result\n",
    "   ?person sc:name ?name.\n",
    "    FILTER regex(?name, \"Sulla\")\n",
    "  \n",
    "   \n",
    "}\n",
    "LIMIT 20\n",
    "\"\"\"\n",
    "\n",
    "print(\"Results\")\n",
    "x=run_query(queryString)"
   ]
  },
  {
   "cell_type": "code",
   "execution_count": null,
   "id": "a7653a74-32aa-4b3d-a667-3c3e94f0a6bb",
   "metadata": {},
   "outputs": [
    {
     "name": "stdout",
     "output_type": "stream",
     "text": [
      "Results\n",
      "[('pr', 'http://www.wikidata.org/prop/direct/P102'), ('p', 'member of political party'), ('or', 'http://www.wikidata.org/entity/Q309155'), ('o', 'optimates')]\n",
      "[('pr', 'http://www.wikidata.org/prop/direct/P1038'), ('p', 'relative'), ('or', 'http://www.wikidata.org/entity/Q380857'), ('o', 'Aemilia Scaura')]\n",
      "[('pr', 'http://www.wikidata.org/prop/direct/P106'), ('p', 'occupation'), ('or', 'http://www.wikidata.org/entity/Q97667506'), ('o', 'Ancient Roman politician')]\n",
      "[('pr', 'http://www.wikidata.org/prop/direct/P106'), ('p', 'occupation'), ('or', 'http://www.wikidata.org/entity/Q98103687'), ('o', 'Ancient Roman military personnel')]\n",
      "[('pr', 'http://www.wikidata.org/prop/direct/P1343'), ('p', 'described by source'), ('or', 'http://www.wikidata.org/entity/Q1138524'), ('o', 'Paulys Realenzyklopädie der klassischen Altertumswissenschaft')]\n",
      "[('pr', 'http://www.wikidata.org/prop/direct/P1343'), ('p', 'described by source'), ('or', 'http://www.wikidata.org/entity/Q2657718'), ('o', 'Armenian Soviet Encyclopedia')]\n",
      "[('pr', 'http://www.wikidata.org/prop/direct/P1343'), ('p', 'described by source'), ('or', 'http://www.wikidata.org/entity/Q30059240'), ('o', \"Real'nyj slovar' klassicheskih drevnostej po Ljubkeru\")]\n",
      "[('pr', 'http://www.wikidata.org/prop/direct/P1343'), ('p', 'described by source'), ('or', 'http://www.wikidata.org/entity/Q602358'), ('o', 'Brockhaus and Efron Encyclopedic Dictionary')]\n",
      "[('pr', 'http://www.wikidata.org/prop/direct/P1343'), ('p', 'described by source'), ('or', 'http://www.wikidata.org/entity/Q67311526'), ('o', 'Obalky knih.cz')]\n",
      "[('pr', 'http://www.wikidata.org/prop/direct/P1343'), ('p', 'described by source'), ('or', 'http://www.wikidata.org/entity/Q842337'), ('o', 'Parallel Lives')]\n",
      "[('pr', 'http://www.wikidata.org/prop/direct/P1412'), ('p', 'languages spoken, written or signed'), ('or', 'http://www.wikidata.org/entity/Q397'), ('o', 'Latin')]\n",
      "[('pr', 'http://www.wikidata.org/prop/direct/P166'), ('p', 'award received'), ('or', 'http://www.wikidata.org/entity/Q869184'), ('o', 'Grass Crown')]\n",
      "[('pr', 'http://www.wikidata.org/prop/direct/P19'), ('p', 'place of birth'), ('or', 'http://www.wikidata.org/entity/Q1747689'), ('o', 'Ancient Rome')]\n",
      "[('pr', 'http://www.wikidata.org/prop/direct/P20'), ('p', 'place of death'), ('or', 'http://www.wikidata.org/entity/Q10646925'), ('o', 'Puteoli')]\n",
      "[('pr', 'http://www.wikidata.org/prop/direct/P21'), ('p', 'sex or gender'), ('or', 'http://www.wikidata.org/entity/Q6581097'), ('o', 'male')]\n",
      "[('pr', 'http://www.wikidata.org/prop/direct/P22'), ('p', 'father'), ('or', 'http://www.wikidata.org/entity/Q12119006'), ('o', 'Lucius Cornelius Sulla')]\n",
      "[('pr', 'http://www.wikidata.org/prop/direct/P2348'), ('p', 'time period'), ('or', 'http://www.wikidata.org/entity/Q2815472'), ('o', 'Late Roman Republic')]\n",
      "[('pr', 'http://www.wikidata.org/prop/direct/P2358'), ('p', 'Roman praenomen'), ('or', 'http://www.wikidata.org/entity/Q6697451'), ('o', 'Lucius')]\n",
      "[('pr', 'http://www.wikidata.org/prop/direct/P2359'), ('p', 'Roman nomen gentilicium'), ('or', 'http://www.wikidata.org/entity/Q11915639'), ('o', 'Cornelius')]\n",
      "[('pr', 'http://www.wikidata.org/prop/direct/P2365'), ('p', 'Roman cognomen'), ('or', 'http://www.wikidata.org/entity/Q105186919'), ('o', 'Felix')]\n",
      "[('pr', 'http://www.wikidata.org/prop/direct/P2365'), ('p', 'Roman cognomen'), ('or', 'http://www.wikidata.org/entity/Q1490279'), ('o', 'Sulla')]\n",
      "[('pr', 'http://www.wikidata.org/prop/direct/P26'), ('p', 'spouse'), ('or', 'http://www.wikidata.org/entity/Q6306323'), ('o', 'Julia')]\n",
      "[('pr', 'http://www.wikidata.org/prop/direct/P26'), ('p', 'spouse'), ('or', 'http://www.wikidata.org/entity/Q6454823'), ('o', 'Caecilia Metella Dalmatica')]\n",
      "[('pr', 'http://www.wikidata.org/prop/direct/P26'), ('p', 'spouse'), ('or', 'http://www.wikidata.org/entity/Q432141'), ('o', 'Valeria Messalla')]\n",
      "[('pr', 'http://www.wikidata.org/prop/direct/P26'), ('p', 'spouse'), ('or', 'http://www.wikidata.org/entity/Q98690973'), ('o', 'Aelia')]\n",
      "[('pr', 'http://www.wikidata.org/prop/direct/P26'), ('p', 'spouse'), ('or', 'http://www.wikidata.org/entity/Q15712137'), ('o', 'Cloelia')]\n",
      "[('pr', 'http://www.wikidata.org/prop/direct/P27'), ('p', 'country of citizenship'), ('or', 'http://www.wikidata.org/entity/Q1747689'), ('o', 'Ancient Rome')]\n",
      "[('pr', 'http://www.wikidata.org/prop/direct/P31'), ('p', 'instance of'), ('or', 'http://www.wikidata.org/entity/Q5'), ('o', 'human')]\n",
      "[('pr', 'http://www.wikidata.org/prop/direct/P3373'), ('p', 'sibling'), ('or', 'http://www.wikidata.org/entity/Q15715169'), ('o', 'Cornelia')]\n",
      "[('pr', 'http://www.wikidata.org/prop/direct/P3373'), ('p', 'sibling'), ('or', 'http://www.wikidata.org/entity/Q12145490'), ('o', 'Publius Cornelius Sulla')]\n",
      "[('pr', 'http://www.wikidata.org/prop/direct/P3716'), ('p', 'social classification'), ('or', 'http://www.wikidata.org/entity/Q16744001'), ('o', 'noble')]\n",
      "[('pr', 'http://www.wikidata.org/prop/direct/P3716'), ('p', 'social classification'), ('or', 'http://www.wikidata.org/entity/Q154668'), ('o', 'patrician')]\n",
      "[('pr', 'http://www.wikidata.org/prop/direct/P39'), ('p', 'position held'), ('or', 'http://www.wikidata.org/entity/Q172907'), ('o', 'praetor')]\n",
      "[('pr', 'http://www.wikidata.org/prop/direct/P39'), ('p', 'position held'), ('or', 'http://www.wikidata.org/entity/Q189430'), ('o', 'quaestor')]\n",
      "[('pr', 'http://www.wikidata.org/prop/direct/P39'), ('p', 'position held'), ('or', 'http://www.wikidata.org/entity/Q849288'), ('o', 'Military tribune')]\n",
      "[('pr', 'http://www.wikidata.org/prop/direct/P39'), ('p', 'position held'), ('or', 'http://www.wikidata.org/entity/Q20056508'), ('o', 'Ancient Roman senator')]\n",
      "[('pr', 'http://www.wikidata.org/prop/direct/P39'), ('p', 'position held'), ('or', 'http://www.wikidata.org/entity/Q40779'), ('o', 'Roman consul')]\n",
      "[('pr', 'http://www.wikidata.org/prop/direct/P39'), ('p', 'position held'), ('or', 'http://www.wikidata.org/entity/Q236885'), ('o', 'Roman dictator')]\n",
      "[('pr', 'http://www.wikidata.org/prop/direct/P40'), ('p', 'child'), ('or', 'http://www.wikidata.org/entity/Q11915650'), ('o', 'Cornelius Sulla')]\n",
      "[('pr', 'http://www.wikidata.org/prop/direct/P40'), ('p', 'child'), ('or', 'http://www.wikidata.org/entity/Q162456'), ('o', 'Fausta Cornelia')]\n",
      "[('pr', 'http://www.wikidata.org/prop/direct/P40'), ('p', 'child'), ('or', 'http://www.wikidata.org/entity/Q2126654'), ('o', 'Cornelia')]\n",
      "[('pr', 'http://www.wikidata.org/prop/direct/P40'), ('p', 'child'), ('or', 'http://www.wikidata.org/entity/Q5171177'), ('o', 'Cornelia Postuma')]\n",
      "[('pr', 'http://www.wikidata.org/prop/direct/P40'), ('p', 'child'), ('or', 'http://www.wikidata.org/entity/Q708722'), ('o', 'Faustus Cornelius Sulla')]\n",
      "[('pr', 'http://www.wikidata.org/prop/direct/P451'), ('p', 'unmarried partner'), ('or', 'http://www.wikidata.org/entity/Q83758509'), ('o', 'Nicopolis')]\n",
      "[('pr', 'http://www.wikidata.org/prop/direct/P5025'), ('p', 'gens'), ('or', 'http://www.wikidata.org/entity/Q221312'), ('o', 'Cornelia gens')]\n",
      "[('pr', 'http://www.wikidata.org/prop/direct/P509'), ('p', 'cause of death'), ('or', 'http://www.wikidata.org/entity/Q3010352'), ('o', 'cerebrovascular disease')]\n",
      "[('pr', 'http://www.wikidata.org/prop/direct/P6886'), ('p', 'writing language'), ('or', 'http://www.wikidata.org/entity/Q397'), ('o', 'Latin')]\n",
      "[('pr', 'http://www.wikidata.org/prop/direct/P910'), ('p', \"topic's main category\"), ('or', 'http://www.wikidata.org/entity/Q10040628'), ('o', 'Category:Sulla')]\n",
      "[('pr', 'http://www.wikidata.org/prop/direct/P937'), ('p', 'work location'), ('or', 'http://www.wikidata.org/entity/Q1747689'), ('o', 'Ancient Rome')]\n",
      "[('pr', 'http://www.wikidata.org/prop/direct/P945'), ('p', 'allegiance'), ('or', 'http://www.wikidata.org/entity/Q17167'), ('o', 'Roman Republic')]\n",
      "50\n"
     ]
    }
   ],
   "source": [
    "queryString = \"\"\"\n",
    "SELECT DISTINCT ?pr ?p ?or ?o\n",
    "WHERE {\n",
    "    wd:Q483783 ?pr ?or . # exploring a new Sulla without regex\n",
    "    # get the label\n",
    "    ?or sc:name ?o.\n",
    "    ?pr sc:name ?p.\n",
    "\n",
    "}\n",
    "LIMIT 100\n",
    "\"\"\"\n",
    "\n",
    "print(\"Results\")\n",
    "x=run_query(queryString)"
   ]
  },
  {
   "cell_type": "markdown",
   "id": "41580253-eb66-43f0-aef8-d9976779c0e6",
   "metadata": {},
   "source": [
    "At the end, I finally realize the entities I was looking for were `wdt:P39` and `wd:Q236885`"
   ]
  },
  {
   "cell_type": "markdown",
   "id": "1b394f63",
   "metadata": {},
   "source": [
    "Final query for this task"
   ]
  },
  {
   "cell_type": "code",
   "execution_count": null,
   "id": "65a4456a",
   "metadata": {},
   "outputs": [
    {
     "name": "stdout",
     "output_type": "stream",
     "text": [
      "Results\n",
      "[('dictatorr', 'http://www.wikidata.org/entity/Q155312'), ('dictator', 'Gaius Claudius Centho')]\n",
      "[('dictatorr', 'http://www.wikidata.org/entity/Q297783'), ('dictator', 'Appius Claudius Caecus')]\n",
      "[('dictatorr', 'http://www.wikidata.org/entity/Q703448'), ('dictator', 'Marcus Livius Salinator')]\n",
      "[('dictatorr', 'http://www.wikidata.org/entity/Q529867'), ('dictator', 'Titus Lartius')]\n",
      "[('dictatorr', 'http://www.wikidata.org/entity/Q15034789'), ('dictator', 'Manius Valerius Maximus')]\n",
      "[('dictatorr', 'http://www.wikidata.org/entity/Q359810'), ('dictator', 'Lucius Caecilius Metellus')]\n",
      "[('dictatorr', 'http://www.wikidata.org/entity/Q929498'), ('dictator', 'Quintus Caecilius Metellus')]\n",
      "[('dictatorr', 'http://www.wikidata.org/entity/Q519186'), ('dictator', 'Quintus Hortensius')]\n",
      "[('dictatorr', 'http://www.wikidata.org/entity/Q637596'), ('dictator', 'Quintus Servilius Priscus Structus Fidenas')]\n",
      "[('dictatorr', 'http://www.wikidata.org/entity/Q1223522'), ('dictator', 'Caius Poetelius Libo Visolus')]\n",
      "[('dictatorr', 'http://www.wikidata.org/entity/Q682087'), ('dictator', 'Gaius Poetelius Libo Visolus')]\n",
      "[('dictatorr', 'http://www.wikidata.org/entity/Q1234290'), ('dictator', 'Quintus Publilius Philo')]\n",
      "[('dictatorr', 'http://www.wikidata.org/entity/Q435408'), ('dictator', 'Gaius Duilius')]\n",
      "[('dictatorr', 'http://www.wikidata.org/entity/Q1048'), ('dictator', 'Julius Caesar')]\n",
      "[('dictatorr', 'http://www.wikidata.org/entity/Q483783'), ('dictator', 'Sulla')]\n",
      "[('dictatorr', 'http://www.wikidata.org/entity/Q718133'), ('dictator', 'Titus Manlius Torquatus')]\n",
      "[('dictatorr', 'http://www.wikidata.org/entity/Q709224'), ('dictator', 'Marcus Fabius Ambustus')]\n",
      "[('dictatorr', 'http://www.wikidata.org/entity/Q334940'), ('dictator', 'Aulus Cornelius Cossus')]\n",
      "[('dictatorr', 'http://www.wikidata.org/entity/Q3622696'), ('dictator', 'Quintus Fabius Ambustus')]\n",
      "[('dictatorr', 'http://www.wikidata.org/entity/Q9064243'), ('dictator', 'Publius Cornelius Scipio Barbatus')]\n",
      "[('dictatorr', 'http://www.wikidata.org/entity/Q1439387'), ('dictator', 'Lucius Veturius Philo')]\n",
      "[('dictatorr', 'http://www.wikidata.org/entity/Q63314619'), ('dictator', 'Manius Valerius')]\n",
      "[('dictatorr', 'http://www.wikidata.org/entity/Q963870'), ('dictator', 'Lucius Aemilius Mamercinus Privernas')]\n",
      "[('dictatorr', 'http://www.wikidata.org/entity/Q5759141'), ('dictator', 'Gaius Claudius Crassus Inrelligensis')]\n",
      "[('dictatorr', 'http://www.wikidata.org/entity/Q1491536'), ('dictator', 'Gaius Servilius Geminus')]\n",
      "[('dictatorr', 'http://www.wikidata.org/entity/Q3772609'), ('dictator', 'Gnaeus Quinctius Capitolinus')]\n",
      "[('dictatorr', 'http://www.wikidata.org/entity/Q1227246'), ('dictator', 'Quintus Servilius Ahala')]\n",
      "[('dictatorr', 'http://www.wikidata.org/entity/Q59559'), ('dictator', 'Marcus Aemilius Papus')]\n",
      "[('dictatorr', 'http://www.wikidata.org/entity/Q935315'), ('dictator', 'Gaius Marcius Rutilus')]\n",
      "[('dictatorr', 'http://www.wikidata.org/entity/Q274545'), ('dictator', 'Quintus Fabius Maximus Verrucosus')]\n",
      "[('dictatorr', 'http://www.wikidata.org/entity/Q714821'), ('dictator', 'Titus Manlius Imperiosus Torquatus')]\n",
      "[('dictatorr', 'http://www.wikidata.org/entity/Q772650'), ('dictator', 'Aulus Cornelius Cossus Arvina')]\n",
      "[('dictatorr', 'http://www.wikidata.org/entity/Q779125'), ('dictator', 'Publius Cornelius Rutilus Cossus')]\n",
      "[('dictatorr', 'http://www.wikidata.org/entity/Q465309'), ('dictator', 'Lucius Papirius Cursor')]\n",
      "[('dictatorr', 'http://www.wikidata.org/entity/Q309637'), ('dictator', 'Lucius Quinctius Cincinnatus')]\n",
      "[('dictatorr', 'http://www.wikidata.org/entity/Q369710'), ('dictator', 'Marcus Claudius Marcellus')]\n",
      "[('dictatorr', 'http://www.wikidata.org/entity/Q4244600'), ('dictator', 'Gaius Julius Jullus')]\n",
      "[('dictatorr', 'http://www.wikidata.org/entity/Q723447'), ('dictator', 'Publius Cornelius Rufinus')]\n",
      "[('dictatorr', 'http://www.wikidata.org/entity/Q16198778'), ('dictator', 'Gaius Aemilius Mamercus')]\n",
      "[('dictatorr', 'http://www.wikidata.org/entity/Q4895971'), ('dictator', 'Marcus Fabius Ambustus')]\n",
      "[('dictatorr', 'http://www.wikidata.org/entity/Q435352'), ('dictator', 'Quintus Fabius Maximus Rullianus')]\n",
      "[('dictatorr', 'http://www.wikidata.org/entity/Q1215407'), ('dictator', 'Lucius Manlius Capitolinus Imperiosus')]\n",
      "[('dictatorr', 'http://www.wikidata.org/entity/Q1231649'), ('dictator', 'Gaius Maenius')]\n",
      "[('dictatorr', 'http://www.wikidata.org/entity/Q655227'), ('dictator', 'Lucius Cornelius Lentulus')]\n",
      "[('dictatorr', 'http://www.wikidata.org/entity/Q1235979'), ('dictator', 'Titus Quinctius Cincinnatus Capitolinus')]\n",
      "[('dictatorr', 'http://www.wikidata.org/entity/Q691437'), ('dictator', 'Marcus Papirius Crassus')]\n",
      "[('dictatorr', 'http://www.wikidata.org/entity/Q929627'), ('dictator', 'Gaius Junius Bubulcus Brutus')]\n",
      "[('dictatorr', 'http://www.wikidata.org/entity/Q1236683'), ('dictator', 'Lucius Volumnius Flamma Violens')]\n",
      "[('dictatorr', 'http://www.wikidata.org/entity/Q3290250'), ('dictator', 'Marcus Claudius C. f. Glicia')]\n",
      "[('dictatorr', 'http://www.wikidata.org/entity/Q294862'), ('dictator', 'Marcus Furius Camillus')]\n",
      "[('dictatorr', 'http://www.wikidata.org/entity/Q736087'), ('dictator', 'Marcus Junius Pera')]\n",
      "[('dictatorr', 'http://www.wikidata.org/entity/Q670737'), ('dictator', 'Aulus Postumius Tubertus')]\n",
      "[('dictatorr', 'http://www.wikidata.org/entity/Q957079'), ('dictator', 'Mamercus Aemilius Mamercinus')]\n",
      "[('dictatorr', 'http://www.wikidata.org/entity/Q1091296'), ('dictator', 'Publius Cornelius Rufinus')]\n",
      "[('dictatorr', 'http://www.wikidata.org/entity/Q453874'), ('dictator', 'Marcus Valerius Corvus')]\n",
      "[('dictatorr', 'http://www.wikidata.org/entity/Q657468'), ('dictator', 'Aulus Postumius Albus Regillensis')]\n",
      "[('dictatorr', 'http://www.wikidata.org/entity/Q659723'), ('dictator', 'Publius Sulpicius Galba Maximus')]\n",
      "[('dictatorr', 'http://www.wikidata.org/entity/Q714798'), ('dictator', 'Aulus Atilius Calatinus')]\n",
      "[('dictatorr', 'http://www.wikidata.org/entity/Q542883'), ('dictator', 'Marcus Fabius Buteo')]\n",
      "[('dictatorr', 'http://www.wikidata.org/entity/Q1229565'), ('dictator', 'Lucius Papirius Crassus')]\n",
      "[('dictatorr', 'http://www.wikidata.org/entity/Q857105'), ('dictator', 'Gaius Sulpicius Longus')]\n",
      "[('dictatorr', 'http://www.wikidata.org/entity/Q1261606'), ('dictator', 'Tiberius Coruncanius')]\n",
      "[('dictatorr', 'http://www.wikidata.org/entity/Q1219017'), ('dictator', 'Gaius Plautius Decianus')]\n",
      "[('dictatorr', 'http://www.wikidata.org/entity/Q1223605'), ('dictator', 'Publius Manlius Capitolinus')]\n",
      "[('dictatorr', 'http://www.wikidata.org/entity/Q715851'), ('dictator', 'Quintus Ogulnius Gallus')]\n",
      "[('dictatorr', 'http://www.wikidata.org/entity/Q1146364'), ('dictator', 'Lucius Fulvius Curvus')]\n",
      "[('dictatorr', 'http://www.wikidata.org/entity/Q1219030'), ('dictator', 'Publius Valerius Publicola')]\n",
      "[('dictatorr', 'http://www.wikidata.org/entity/Q589448'), ('dictator', 'Lucius Furius Camillus')]\n",
      "[('dictatorr', 'http://www.wikidata.org/entity/Q716420'), ('dictator', 'Gnaeus Domitius Calvinus Maximus')]\n",
      "[('dictatorr', 'http://www.wikidata.org/entity/Q657609'), ('dictator', 'Appius Claudius Crassus')]\n",
      "[('dictatorr', 'http://www.wikidata.org/entity/Q3757313'), ('dictator', 'Gaius Claudius Regilllensis')]\n",
      "[('dictatorr', 'http://www.wikidata.org/entity/Q738433'), ('dictator', 'Gaius Sulpicius Peticus')]\n",
      "[('dictatorr', 'http://www.wikidata.org/entity/Q151478'), ('dictator', 'Gnaeus Fulvius Maximus Centumalus')]\n",
      "[('dictatorr', 'http://www.wikidata.org/entity/Q710851'), ('dictator', 'Quintus Fulvius Flaccus')]\n",
      "[('dictatorr', 'http://www.wikidata.org/entity/Q1230841'), ('dictator', 'Titus Quinctius Poenus Capitolinus Crispinus')]\n",
      "75\n"
     ]
    }
   ],
   "source": [
    "queryString = \"\"\"\n",
    "SELECT DISTINCT ?dictatorr ?dictator\n",
    "WHERE {\n",
    "    ?dictatorr wdt:P39 wd:Q236885 . # All people with position held = roman dicator\n",
    "    # get the label\n",
    "    ?dictatorr sc:name ?dictator.\n",
    "\n",
    "}\n",
    "LIMIT 100\n",
    "\"\"\"\n",
    "\n",
    "print(\"Results\")\n",
    "x=run_query(queryString)"
   ]
  },
  {
   "cell_type": "markdown",
   "id": "c2aef48c",
   "metadata": {
    "jp-MarkdownHeadingCollapsed": true,
    "tags": []
   },
   "source": [
    "## Task 3\n",
    "Identify the BGP for Roman Empire and Roman Republic"
   ]
  },
  {
   "cell_type": "markdown",
   "id": "89897683-dbed-411b-8d98-ccbcadd10ce3",
   "metadata": {},
   "source": [
    "At first, I tried with some generic approaches:"
   ]
  },
  {
   "cell_type": "code",
   "execution_count": null,
   "id": "5a26293f",
   "metadata": {},
   "outputs": [
    {
     "name": "stdout",
     "output_type": "stream",
     "text": [
      "Results\n",
      "[('children', 'http://www.wikidata.org/entity/Q314710'), ('name', 'Gaius Julius Caesar')]\n",
      "1\n"
     ]
    }
   ],
   "source": [
    "queryString = \"\"\"\n",
    "SELECT DISTINCT ?children ?name\n",
    "WHERE {\n",
    "   wd:Q1048 wdt:P22 ?children . # Children of Julius Caesar \n",
    "\n",
    "   # get the label of the result\n",
    "   ?children sc:name ?name.\n",
    "   \n",
    "}\n",
    "LIMIT 20\n",
    "\"\"\"\n",
    "\n",
    "print(\"Results\")\n",
    "x=run_query(queryString)"
   ]
  },
  {
   "cell_type": "code",
   "execution_count": null,
   "id": "48be9820-8a0a-444f-9d9f-b080c49d8755",
   "metadata": {},
   "outputs": [
    {
     "name": "stdout",
     "output_type": "stream",
     "text": [
      "Results\n",
      "Empty\n"
     ]
    }
   ],
   "source": [
    "queryString = \"\"\"\n",
    "SELECT DISTINCT ?children ?name\n",
    "WHERE {\n",
    "    wd:Q1048 ?did ?thingsr . # Things done by Julius Caesar \n",
    "\n",
    "    # get the label of the result\n",
    "    ?thingsr sc:name ?things.\n",
    "    FILTER regex(?things, \"empire\", \"i\")\n",
    "  \n",
    "}\n",
    "LIMIT 20\n",
    "\"\"\"\n",
    "\n",
    "print(\"Results\")\n",
    "x=run_query(queryString)"
   ]
  },
  {
   "cell_type": "markdown",
   "id": "4e117322-3dd5-4ca9-8cab-eaac38313965",
   "metadata": {},
   "source": [
    "Then I realize I could just use the time period property discovered above."
   ]
  },
  {
   "cell_type": "code",
   "execution_count": null,
   "id": "747e5767-20e5-45ac-a46b-aaf291459ab5",
   "metadata": {},
   "outputs": [
    {
     "name": "stdout",
     "output_type": "stream",
     "text": [
      "Results\n",
      "[('or', 'http://www.wikidata.org/entity/Q2815472'), ('o', 'Late Roman Republic')]\n",
      "1\n"
     ]
    }
   ],
   "source": [
    "queryString = \"\"\"\n",
    "SELECT DISTINCT ?or ?o\n",
    "WHERE {\n",
    "    wd:Q1048 wdt:P2348 ?or . # Time period of Julius Caesar \n",
    "\n",
    "    # get the label of the result\n",
    "    ?or sc:name ?o.\n",
    "}\n",
    "LIMIT 20\n",
    "\"\"\"\n",
    "\n",
    "print(\"Results\")\n",
    "x=run_query(queryString)"
   ]
  },
  {
   "cell_type": "code",
   "execution_count": null,
   "id": "c81132ed-dd6a-4869-9a16-ac2a8476dea3",
   "metadata": {},
   "outputs": [
    {
     "name": "stdout",
     "output_type": "stream",
     "text": [
      "Results\n",
      "[('pr', 'http://www.wikidata.org/prop/direct/P31'), ('p', 'instance of'), ('or', 'http://www.wikidata.org/entity/Q11514315'), ('o', 'historical period')]\n",
      "[('pr', 'http://www.wikidata.org/prop/direct/P156'), ('p', 'followed by'), ('or', 'http://www.wikidata.org/entity/Q787204'), ('o', 'High Roman Empire')]\n",
      "[('pr', 'http://www.wikidata.org/prop/direct/P361'), ('p', 'part of'), ('or', 'http://www.wikidata.org/entity/Q17167'), ('o', 'Roman Republic')]\n",
      "[('pr', 'http://www.wikidata.org/prop/direct/P155'), ('p', 'follows'), ('or', 'http://www.wikidata.org/entity/Q6106068'), ('o', 'Middle Roman Republic')]\n",
      "4\n"
     ]
    }
   ],
   "source": [
    "queryString = \"\"\"\n",
    "SELECT DISTINCT ?pr ?p ?or ?o\n",
    "WHERE {\n",
    "    wd:Q2815472 ?pr ?or . # Properties of the late republic \n",
    "\n",
    "    # get the label of the results\n",
    "    ?pr sc:name ?p.\n",
    "    ?or sc:name ?o.\n",
    "}\n",
    "LIMIT 20\n",
    "\"\"\"\n",
    "\n",
    "print(\"Results\")\n",
    "x=run_query(queryString)"
   ]
  },
  {
   "cell_type": "code",
   "execution_count": null,
   "id": "3734588e-810e-4731-9b8b-de29fc3f4436",
   "metadata": {},
   "outputs": [
    {
     "name": "stdout",
     "output_type": "stream",
     "text": [
      "Results\n",
      "[('pr', 'http://www.wikidata.org/prop/direct/P155'), ('p', 'follows'), ('or', 'http://www.wikidata.org/entity/Q2815472'), ('o', 'Late Roman Republic')]\n",
      "[('pr', 'http://www.wikidata.org/prop/direct/P31'), ('p', 'instance of'), ('or', 'http://www.wikidata.org/entity/Q11514315'), ('o', 'historical period')]\n",
      "[('pr', 'http://www.wikidata.org/prop/direct/P361'), ('p', 'part of'), ('or', 'http://www.wikidata.org/entity/Q2277'), ('o', 'Roman Empire')]\n",
      "[('pr', 'http://www.wikidata.org/prop/direct/P156'), ('p', 'followed by'), ('or', 'http://www.wikidata.org/entity/Q2886278'), ('o', 'Later Roman Empire')]\n",
      "4\n"
     ]
    }
   ],
   "source": [
    "queryString = \"\"\"\n",
    "SELECT DISTINCT ?pr ?p ?or ?o\n",
    "WHERE {\n",
    "    wd:Q787204 ?pr ?or . # Properties of the high empire \n",
    "\n",
    "    # get the label of the results\n",
    "    ?pr sc:name ?p.\n",
    "    ?or sc:name ?o.\n",
    "}\n",
    "LIMIT 20\n",
    "\"\"\"\n",
    "\n",
    "print(\"Results\")\n",
    "x=run_query(queryString)"
   ]
  },
  {
   "cell_type": "markdown",
   "id": "86be2f49",
   "metadata": {},
   "source": [
    "Final query for this task"
   ]
  },
  {
   "cell_type": "code",
   "execution_count": null,
   "id": "a89daf18",
   "metadata": {},
   "outputs": [
    {
     "name": "stdout",
     "output_type": "stream",
     "text": [
      "Results\n",
      "[('period', 'http://www.wikidata.org/entity/Q2277'), ('name', 'Roman Empire')]\n",
      "[('period', 'http://www.wikidata.org/entity/Q17167'), ('name', 'Roman Republic')]\n",
      "2\n"
     ]
    }
   ],
   "source": [
    "queryString = \"\"\"\n",
    "SELECT DISTINCT ?period ?name\n",
    "WHERE {\n",
    "    VALUES ?specificperiod { wd:Q787204  wd:Q2815472 }\n",
    "    ?specificperiod wdt:P361 ?period.  # specific period is part of period\n",
    "    ?period sc:name ?name.\n",
    "}\n",
    "LIMIT 20\n",
    "\"\"\"\n",
    "\n",
    "print(\"Results\")\n",
    "x=run_query(queryString)"
   ]
  },
  {
   "cell_type": "markdown",
   "id": "5cb41448",
   "metadata": {},
   "source": [
    "## Task 4\n",
    "Return the IRI and the name of all Roman emperors killed by homicide (see \"manner of death\") and, for each killed emperor, return also the IRI and name of the killer, if present in Wikidata."
   ]
  },
  {
   "cell_type": "markdown",
   "id": "6a38d718-45cb-41b1-94a2-b4c09c0f0c2e",
   "metadata": {},
   "source": [
    "First, I need to find the IRI for emperor. At first, I tried with some people that may be categorized as emperor (I tried with a couple of them, because I was not sure about who was an emperor):"
   ]
  },
  {
   "cell_type": "code",
   "execution_count": null,
   "id": "74400ad6",
   "metadata": {},
   "outputs": [
    {
     "name": "stdout",
     "output_type": "stream",
     "text": [
      "Results\n",
      "Empty\n"
     ]
    }
   ],
   "source": [
    "queryString = \"\"\"\n",
    "SELECT DISTINCT ?pr ?p ?or ?o\n",
    "WHERE {\n",
    "    wd:Q1048 ?pr ?or . # Julius Caesar objects (actually, I realized I've choosen the wrong example, he is not an emperor)\n",
    "    FILTER regex(?o, \"emperor\", \"i\")\n",
    "    # get the label\n",
    "    ?or sc:name ?o.\n",
    "    ?pr sc:name ?p.\n",
    "\n",
    "}\n",
    "LIMIT 100\n",
    "\"\"\"\n",
    "\n",
    "print(\"Results\")\n",
    "x=run_query(queryString)"
   ]
  },
  {
   "cell_type": "code",
   "execution_count": null,
   "id": "aae2a0f0-7b71-4bd2-bb70-549c6174f495",
   "metadata": {},
   "outputs": [
    {
     "name": "stdout",
     "output_type": "stream",
     "text": [
      "Results\n",
      "Empty\n"
     ]
    }
   ],
   "source": [
    "queryString = \"\"\"\n",
    "SELECT DISTINCT ?pr ?p ?or ?o\n",
    "WHERE {\n",
    "    wd:Q1048 ?pr ?or . # Julius Caesar predicates\n",
    "    FILTER regex(?p, \"emperor\", \"i\")\n",
    "    # get the label\n",
    "    ?or sc:name ?o.\n",
    "    ?pr sc:name ?p.\n",
    "\n",
    "}\n",
    "LIMIT 100\n",
    "\"\"\"\n",
    "\n",
    "print(\"Results\")\n",
    "x=run_query(queryString)"
   ]
  },
  {
   "cell_type": "code",
   "execution_count": null,
   "id": "39186a5f-2f64-4920-b17f-c7cf4f4c699f",
   "metadata": {},
   "outputs": [
    {
     "name": "stdout",
     "output_type": "stream",
     "text": [
      "Results\n",
      "Empty\n"
     ]
    }
   ],
   "source": [
    "queryString = \"\"\"\n",
    "SELECT DISTINCT ?pr ?p ?or ?o\n",
    "WHERE {\n",
    "    wd:Q2604067 ?pr ?or . # checking another ruler from query 2\n",
    "    FILTER regex(?p, \"emperor\", \"i\")\n",
    "    # get the label\n",
    "    ?or sc:name ?o.\n",
    "    ?pr sc:name ?p.\n",
    "\n",
    "}\n",
    "LIMIT 100\n",
    "\"\"\"\n",
    "\n",
    "print(\"Results\")\n",
    "x=run_query(queryString)"
   ]
  },
  {
   "cell_type": "markdown",
   "id": "aa1b5f4b-ead0-4282-a3d7-64c341705465",
   "metadata": {},
   "source": [
    "Then, I tried with regex, which proven to be more effective:"
   ]
  },
  {
   "cell_type": "code",
   "execution_count": null,
   "id": "5003f529-ead2-4a0e-a69c-fddc953ab033",
   "metadata": {},
   "outputs": [
    {
     "name": "stdout",
     "output_type": "stream",
     "text": [
      "Results\n",
      "[('personr', 'http://www.wikidata.org/entity/Q159798'), ('person', 'Honorius'), ('pr', 'http://www.wikidata.org/prop/direct/P39'), ('p', 'position held'), ('or', 'http://www.wikidata.org/entity/Q842606'), ('o', 'Roman emperor')]\n",
      "[('personr', 'http://www.wikidata.org/entity/Q46780'), ('person', 'Aurelian'), ('pr', 'http://www.wikidata.org/prop/direct/P39'), ('p', 'position held'), ('or', 'http://www.wikidata.org/entity/Q842606'), ('o', 'Roman emperor')]\n",
      "[('personr', 'http://www.wikidata.org/entity/Q437604'), ('person', 'Julius Saturninus'), ('pr', 'http://www.wikidata.org/prop/direct/P39'), ('p', 'position held'), ('or', 'http://www.wikidata.org/entity/Q842606'), ('o', 'Roman emperor')]\n",
      "[('personr', 'http://www.wikidata.org/entity/Q46780'), ('person', 'Aurelian'), ('pr', 'http://www.wikidata.org/prop/direct/P53'), ('p', 'family'), ('or', 'http://www.wikidata.org/entity/Q887928'), ('o', 'Illyrian emperors')]\n",
      "[('personr', 'http://www.wikidata.org/entity/Q159798'), ('person', 'Honorius'), ('pr', 'http://www.wikidata.org/prop/direct/P97'), ('p', 'noble title'), ('or', 'http://www.wikidata.org/entity/Q842606'), ('o', 'Roman emperor')]\n",
      "[('personr', 'http://www.wikidata.org/entity/Q46780'), ('person', 'Aurelian'), ('pr', 'http://www.wikidata.org/prop/direct/P97'), ('p', 'noble title'), ('or', 'http://www.wikidata.org/entity/Q842606'), ('o', 'Roman emperor')]\n",
      "[('personr', 'http://www.wikidata.org/entity/Q211396'), ('person', 'Magnus Maximus'), ('pr', 'http://www.wikidata.org/prop/direct/P39'), ('p', 'position held'), ('or', 'http://www.wikidata.org/entity/Q842606'), ('o', 'Roman emperor')]\n",
      "[('personr', 'http://www.wikidata.org/entity/Q1777'), ('person', 'Maximinus Thrax'), ('pr', 'http://www.wikidata.org/prop/direct/P39'), ('p', 'position held'), ('or', 'http://www.wikidata.org/entity/Q842606'), ('o', 'Roman emperor')]\n",
      "[('personr', 'http://www.wikidata.org/entity/Q550622'), ('person', 'Maximus of Hispania'), ('pr', 'http://www.wikidata.org/prop/direct/P39'), ('p', 'position held'), ('or', 'http://www.wikidata.org/entity/Q842606'), ('o', 'Roman emperor')]\n",
      "[('personr', 'http://www.wikidata.org/entity/Q518890'), ('person', 'Gaius Julius Verus Maximus'), ('pr', 'http://www.wikidata.org/prop/direct/P39'), ('p', 'position held'), ('or', 'http://www.wikidata.org/entity/Q842606'), ('o', 'Roman emperor')]\n",
      "[('personr', 'http://www.wikidata.org/entity/Q172471'), ('person', 'Valens'), ('pr', 'http://www.wikidata.org/prop/direct/P39'), ('p', 'position held'), ('or', 'http://www.wikidata.org/entity/Q842606'), ('o', 'Roman emperor')]\n",
      "[('personr', 'http://www.wikidata.org/entity/Q187489'), ('person', 'Silvanus'), ('pr', 'http://www.wikidata.org/prop/direct/P39'), ('p', 'position held'), ('or', 'http://www.wikidata.org/entity/Q842606'), ('o', 'Roman emperor')]\n",
      "[('personr', 'http://www.wikidata.org/entity/Q172471'), ('person', 'Valens'), ('pr', 'http://www.wikidata.org/prop/direct/P39'), ('p', 'position held'), ('or', 'http://www.wikidata.org/entity/Q18577504'), ('o', 'Byzantine emperor')]\n",
      "[('personr', 'http://www.wikidata.org/entity/Q314828'), ('person', 'Vetranio'), ('pr', 'http://www.wikidata.org/prop/direct/P39'), ('p', 'position held'), ('or', 'http://www.wikidata.org/entity/Q842606'), ('o', 'Roman emperor')]\n",
      "[('personr', 'http://www.wikidata.org/entity/Q172471'), ('person', 'Valens'), ('pr', 'http://www.wikidata.org/prop/direct/P97'), ('p', 'noble title'), ('or', 'http://www.wikidata.org/entity/Q842606'), ('o', 'Roman emperor')]\n",
      "[('personr', 'http://www.wikidata.org/entity/Q1427'), ('person', 'Hadrian'), ('pr', 'http://www.wikidata.org/prop/direct/P361'), ('p', 'part of'), ('or', 'http://www.wikidata.org/entity/Q193254'), ('o', 'Five Good Emperors')]\n",
      "[('personr', 'http://www.wikidata.org/entity/Q172168'), ('person', 'Galerius'), ('pr', 'http://www.wikidata.org/prop/direct/P39'), ('p', 'position held'), ('or', 'http://www.wikidata.org/entity/Q842606'), ('o', 'Roman emperor')]\n",
      "[('personr', 'http://www.wikidata.org/entity/Q1427'), ('person', 'Hadrian'), ('pr', 'http://www.wikidata.org/prop/direct/P39'), ('p', 'position held'), ('or', 'http://www.wikidata.org/entity/Q842606'), ('o', 'Roman emperor')]\n",
      "[('personr', 'http://www.wikidata.org/entity/Q1427'), ('person', 'Hadrian'), ('pr', 'http://www.wikidata.org/prop/direct/P97'), ('p', 'noble title'), ('or', 'http://www.wikidata.org/entity/Q842606'), ('o', 'Roman emperor')]\n",
      "[('personr', 'http://www.wikidata.org/entity/Q1429'), ('person', 'Antoninus Pius'), ('pr', 'http://www.wikidata.org/prop/direct/P361'), ('p', 'part of'), ('or', 'http://www.wikidata.org/entity/Q193254'), ('o', 'Five Good Emperors')]\n",
      "[('personr', 'http://www.wikidata.org/entity/Q1762'), ('person', 'Elagabalus'), ('pr', 'http://www.wikidata.org/prop/direct/P39'), ('p', 'position held'), ('or', 'http://www.wikidata.org/entity/Q842606'), ('o', 'Roman emperor')]\n",
      "[('personr', 'http://www.wikidata.org/entity/Q201905'), ('person', 'Constantius III'), ('pr', 'http://www.wikidata.org/prop/direct/P39'), ('p', 'position held'), ('or', 'http://www.wikidata.org/entity/Q842606'), ('o', 'Roman emperor')]\n",
      "[('personr', 'http://www.wikidata.org/entity/Q1429'), ('person', 'Antoninus Pius'), ('pr', 'http://www.wikidata.org/prop/direct/P39'), ('p', 'position held'), ('or', 'http://www.wikidata.org/entity/Q842606'), ('o', 'Roman emperor')]\n",
      "[('personr', 'http://www.wikidata.org/entity/Q560559'), ('person', 'Constans II'), ('pr', 'http://www.wikidata.org/prop/direct/P39'), ('p', 'position held'), ('or', 'http://www.wikidata.org/entity/Q842606'), ('o', 'Roman emperor')]\n",
      "[('personr', 'http://www.wikidata.org/entity/Q231262'), ('person', 'Claudia Octavia'), ('pr', 'http://www.wikidata.org/prop/direct/P106'), ('p', 'occupation'), ('or', 'http://www.wikidata.org/entity/Q39018'), ('o', 'Emperor')]\n",
      "25\n"
     ]
    }
   ],
   "source": [
    "queryString = \"\"\"\n",
    "SELECT DISTINCT ?personr ?person ?pr ?p ?or ?o\n",
    "WHERE {\n",
    "   ?personr wdt:P27  wd:Q1747689 ; # people who nationality = ancient rome\n",
    "                 ?pr ?or.\n",
    "                 \n",
    "    FILTER regex(?o, \"emperor\", \"i\")\n",
    "    # get the label\n",
    "    ?or sc:name ?o.\n",
    "    ?pr sc:name ?p.\n",
    "    ?personr sc:name ?person.\n",
    "\n",
    "\n",
    "}\n",
    "LIMIT 25\n",
    "\"\"\"\n",
    "\n",
    "print(\"Results\")\n",
    "x=run_query(queryString)"
   ]
  },
  {
   "cell_type": "code",
   "execution_count": null,
   "id": "8178f625-b062-4403-b93f-e2bb87ece8b9",
   "metadata": {},
   "outputs": [
    {
     "name": "stdout",
     "output_type": "stream",
     "text": [
      "Results\n",
      "[('or', 'http://www.wikidata.org/entity/Q842606'), ('o', 'Roman emperor')]\n",
      "[('or', 'http://www.wikidata.org/entity/Q887928'), ('o', 'Illyrian emperors')]\n",
      "[('or', 'http://www.wikidata.org/entity/Q18577504'), ('o', 'Byzantine emperor')]\n",
      "[('or', 'http://www.wikidata.org/entity/Q193254'), ('o', 'Five Good Emperors')]\n",
      "[('or', 'http://www.wikidata.org/entity/Q39018'), ('o', 'Emperor')]\n",
      "[('or', 'http://www.wikidata.org/entity/Q128866'), ('o', 'list of Byzantine emperors')]\n",
      "[('or', 'http://www.wikidata.org/entity/Q3023913'), ('o', 'last emperors')]\n",
      "[('or', 'http://www.wikidata.org/entity/Q9479093'), ('o', 'Category:Julian (emperor)')]\n",
      "[('or', 'http://www.wikidata.org/entity/Q106602516'), ('o', \"Familia Caesaris. A Social Study of the Emperor's Freedmen and Slaves\")]\n",
      "[('or', 'http://www.wikidata.org/entity/Q470596'), ('o', 'Year of the Four Emperors')]\n",
      "10\n"
     ]
    }
   ],
   "source": [
    "queryString = \"\"\"\n",
    "SELECT DISTINCT ?or ?o\n",
    "WHERE {\n",
    "   ?personr wdt:P27  wd:Q1747689 ; # people who nationality = ancient rome\n",
    "                 ?pr ?or.\n",
    "                 \n",
    "    FILTER regex(?o, \"emperor\", \"i\")\n",
    "    # get the label\n",
    "    ?or sc:name ?o.\n",
    "    ?pr sc:name ?p.\n",
    "    ?personr sc:name ?person.\n",
    "\n",
    "\n",
    "}\n",
    "LIMIT 25\n",
    "\"\"\"\n",
    "\n",
    "print(\"Results\")\n",
    "x=run_query(queryString)"
   ]
  },
  {
   "cell_type": "markdown",
   "id": "861f29c1-3714-4b4f-bbd8-7654f33bd27a",
   "metadata": {},
   "source": [
    "Now I tried to get the `homicide` IRI (the first query has actually wrong vars name, the second is right):"
   ]
  },
  {
   "cell_type": "code",
   "execution_count": 70,
   "id": "7dc2a91b-0e12-45ba-b6a0-50b118059674",
   "metadata": {},
   "outputs": [
    {
     "name": "stdout",
     "output_type": "stream",
     "text": [
      "Results\n"
     ]
    }
   ],
   "source": [
    "\n",
    "queryString = \"\"\"\n",
    "\n",
    "\"\"\"\n",
    "\n",
    "print(\"Results\")\n",
    "#x=run_query(queryString)"
   ]
  },
  {
   "cell_type": "code",
   "execution_count": null,
   "id": "74ecad5e-01d1-467a-aa21-12150e9b723d",
   "metadata": {},
   "outputs": [
    {
     "name": "stdout",
     "output_type": "stream",
     "text": [
      "Results\n",
      "Empty\n"
     ]
    }
   ],
   "source": [
    "queryString = \"\"\"\n",
    "SELECT DISTINCT ?personr ?person ?deathr ?death\n",
    "WHERE {\n",
    "    VALUES ?emperor { wd:Q842606  wd:Q39018 } # check both \"Emperor\" and \"Roman emperor\"\n",
    "\n",
    "   ?personr wdt:P27  wd:Q1747689 ; # people who nationality = ancient rome\n",
    "            ?occupation ?emperor;\n",
    "            wdt:P1196 ?death .\n",
    "            \n",
    "    \n",
    "            \n",
    "    # get the label\n",
    "    ?deathr sc:name ?death.\n",
    "    ?personr sc:name ?person.\n",
    "\n",
    "\n",
    "}\n",
    "LIMIT 25\n",
    "\"\"\"\n",
    "\n",
    "print(\"Results\")\n",
    "x=run_query(queryString)"
   ]
  },
  {
   "cell_type": "markdown",
   "id": "b7fbec83-00e5-4d15-bd67-6c9cfbcb4d9a",
   "metadata": {},
   "source": [
    "I try to get the `killer` IRI, first with a regex:\n",
    "\n",
    "*Note: actually, it was a good idea, however, there is a mistake on the regex, the filter should be on the `?killed` and not on `?killedr`*"
   ]
  },
  {
   "cell_type": "code",
   "execution_count": null,
   "id": "458e7ff5-a678-4c5f-9948-c42baea78f40",
   "metadata": {},
   "outputs": [
    {
     "name": "stdout",
     "output_type": "stream",
     "text": [
      "Results\n",
      "Empty\n"
     ]
    }
   ],
   "source": [
    "queryString = \"\"\"\n",
    "SELECT DISTINCT ?killerr ?killer ?killedr ?killed ?personr ?person\n",
    "WHERE {\n",
    "    VALUES ?emperor { wd:Q842606  wd:Q39018 } # check both \"Emperor\" and \"Roman emperor\"\n",
    "\n",
    "    ?personr wdt:P27  wd:Q1747689; # people who nationality = ancient rome\n",
    "            ?occupation ?emperor;  # who are emperors\n",
    "            wdt:P1196 wd:Q149086 . # and died by homicide\n",
    "            \n",
    "    # try to get a killer of that person throught regex\n",
    "    ?killerr ?killedr ?personr.\n",
    "    FILTER regex(?killedr, \"kill\", \"i\") \n",
    "            \n",
    "    # get the label\n",
    "    ?killerr sc:name ?killer.\n",
    "    ?killedr sc:name ?killed.\n",
    "    ?personr sc:name ?person.\n",
    "\n",
    "\n",
    "}\n",
    "LIMIT 25\n",
    "\"\"\"\n",
    "\n",
    "print(\"Results\")\n",
    "x=run_query(queryString)"
   ]
  },
  {
   "cell_type": "markdown",
   "id": "dadf32b1-1713-4f1f-8c1a-98e3dd7d9eac",
   "metadata": {},
   "source": [
    "Since the regex failed, I tried to get all relationsh with killed people:"
   ]
  },
  {
   "cell_type": "code",
   "execution_count": null,
   "id": "856263fa-22bf-45e4-9fa1-0be8ca528e5a",
   "metadata": {},
   "outputs": [
    {
     "name": "stdout",
     "output_type": "stream",
     "text": [
      "Results\n",
      "[('killerr', 'http://www.wikidata.org/entity/Q242199'), ('killer', 'Junia Claudilla'), ('killedr', 'http://www.wikidata.org/prop/direct/P26'), ('killed', 'spouse'), ('personr', 'http://www.wikidata.org/entity/Q1409'), ('person', 'Caligula')]\n",
      "[('killerr', 'http://www.wikidata.org/entity/Q101062173'), ('killer', 'Flavia Domitiana'), ('killedr', 'http://www.wikidata.org/prop/direct/P22'), ('killed', 'father'), ('personr', 'http://www.wikidata.org/entity/Q1423'), ('person', 'Domitian')]\n",
      "[('killerr', 'http://www.wikidata.org/entity/Q2803581'), ('killer', 'Titus Flavius Caesar'), ('killedr', 'http://www.wikidata.org/prop/direct/P22'), ('killed', 'father'), ('personr', 'http://www.wikidata.org/entity/Q1423'), ('person', 'Domitian')]\n",
      "[('killerr', 'http://www.wikidata.org/entity/Q1777'), ('killer', 'Maximinus Thrax'), ('killedr', 'http://www.wikidata.org/prop/direct/P40'), ('killed', 'child'), ('personr', 'http://www.wikidata.org/entity/Q518890'), ('person', 'Gaius Julius Verus Maximus')]\n",
      "[('killerr', 'http://www.wikidata.org/entity/Q3372698'), ('killer', 'Caecilia Paulina'), ('killedr', 'http://www.wikidata.org/prop/direct/P26'), ('killed', 'spouse'), ('personr', 'http://www.wikidata.org/entity/Q1777'), ('person', 'Maximinus Thrax')]\n",
      "[('killerr', 'http://www.wikidata.org/entity/Q3372698'), ('killer', 'Caecilia Paulina'), ('killedr', 'http://www.wikidata.org/prop/direct/P40'), ('killed', 'child'), ('personr', 'http://www.wikidata.org/entity/Q518890'), ('person', 'Gaius Julius Verus Maximus')]\n",
      "[('killerr', 'http://www.wikidata.org/entity/Q518890'), ('killer', 'Gaius Julius Verus Maximus'), ('killedr', 'http://www.wikidata.org/prop/direct/P22'), ('killed', 'father'), ('personr', 'http://www.wikidata.org/entity/Q1777'), ('person', 'Maximinus Thrax')]\n",
      "[('killerr', 'http://www.wikidata.org/entity/Q2604067'), ('killer', 'Flavia Titiana'), ('killedr', 'http://www.wikidata.org/prop/direct/P26'), ('killed', 'spouse'), ('personr', 'http://www.wikidata.org/entity/Q1436'), ('person', 'Pertinax')]\n",
      "[('killerr', 'http://www.wikidata.org/entity/Q201905'), ('killer', 'Constantius III'), ('killedr', 'http://www.wikidata.org/prop/direct/P40'), ('killed', 'child'), ('personr', 'http://www.wikidata.org/entity/Q170026'), ('person', 'Valentinian III')]\n",
      "[('killerr', 'http://www.wikidata.org/entity/Q1762'), ('killer', 'Elagabalus'), ('killedr', 'http://www.wikidata.org/prop/direct/P1038'), ('killed', 'relative'), ('personr', 'http://www.wikidata.org/entity/Q1769'), ('person', 'Alexander Severus')]\n",
      "[('killerr', 'http://www.wikidata.org/entity/Q1762'), ('killer', 'Elagabalus'), ('killedr', 'http://www.wikidata.org/prop/direct/P40'), ('killed', 'child'), ('personr', 'http://www.wikidata.org/entity/Q1769'), ('person', 'Alexander Severus')]\n",
      "[('killerr', 'http://www.wikidata.org/entity/Q229871'), ('killer', 'Messalina'), ('killedr', 'http://www.wikidata.org/prop/direct/P26'), ('killed', 'spouse'), ('personr', 'http://www.wikidata.org/entity/Q1411'), ('person', 'Claudius')]\n",
      "[('killerr', 'http://www.wikidata.org/entity/Q256015'), ('killer', 'Julia Cornelia Paula'), ('killedr', 'http://www.wikidata.org/prop/direct/P26'), ('killed', 'spouse'), ('personr', 'http://www.wikidata.org/entity/Q1762'), ('person', 'Elagabalus')]\n",
      "[('killerr', 'http://www.wikidata.org/entity/Q259576'), ('killer', 'Aemilia Lepida'), ('killedr', 'http://www.wikidata.org/prop/direct/P451'), ('killed', 'unmarried partner'), ('personr', 'http://www.wikidata.org/entity/Q1411'), ('person', 'Claudius')]\n",
      "[('killerr', 'http://www.wikidata.org/entity/Q1430'), ('killer', 'Marcus Aurelius'), ('killedr', 'http://www.wikidata.org/prop/direct/P1889'), ('killed', 'different from'), ('personr', 'http://www.wikidata.org/entity/Q46780'), ('person', 'Aurelian')]\n",
      "[('killerr', 'http://www.wikidata.org/entity/Q1430'), ('killer', 'Marcus Aurelius'), ('killedr', 'http://www.wikidata.org/prop/direct/P40'), ('killed', 'child'), ('personr', 'http://www.wikidata.org/entity/Q1434'), ('person', 'Commodus')]\n",
      "[('killerr', 'http://www.wikidata.org/entity/Q231262'), ('killer', 'Claudia Octavia'), ('killedr', 'http://www.wikidata.org/prop/direct/P22'), ('killed', 'father'), ('personr', 'http://www.wikidata.org/entity/Q1411'), ('person', 'Claudius')]\n",
      "[('killerr', 'http://www.wikidata.org/entity/Q255410'), ('killer', 'Claudia Antonia'), ('killedr', 'http://www.wikidata.org/prop/direct/P22'), ('killed', 'father'), ('personr', 'http://www.wikidata.org/entity/Q1411'), ('person', 'Claudius')]\n",
      "[('killerr', 'http://www.wikidata.org/entity/Q2975271'), ('killer', 'Claudius Drusus'), ('killedr', 'http://www.wikidata.org/prop/direct/P22'), ('killed', 'father'), ('personr', 'http://www.wikidata.org/entity/Q1411'), ('person', 'Claudius')]\n",
      "[('killerr', 'http://www.wikidata.org/entity/Q30026262'), ('killer', 'Claudia Julia'), ('killedr', 'http://www.wikidata.org/prop/direct/P22'), ('killed', 'father'), ('personr', 'http://www.wikidata.org/entity/Q1411'), ('person', 'Claudius')]\n",
      "[('killerr', 'http://www.wikidata.org/entity/Q313115'), ('killer', 'Britannicus'), ('killedr', 'http://www.wikidata.org/prop/direct/P22'), ('killed', 'father'), ('personr', 'http://www.wikidata.org/entity/Q1411'), ('person', 'Claudius')]\n",
      "[('killerr', 'http://www.wikidata.org/entity/Q1001933'), ('killer', 'Helena'), ('killedr', 'http://www.wikidata.org/prop/direct/P26'), ('killed', 'spouse'), ('personr', 'http://www.wikidata.org/entity/Q33941'), ('person', 'Julian')]\n",
      "[('killerr', 'http://www.wikidata.org/entity/Q1001933'), ('killer', 'Helena'), ('killedr', 'http://www.wikidata.org/prop/direct/P3373'), ('killed', 'sibling'), ('personr', 'http://www.wikidata.org/entity/Q185538'), ('person', 'Constans')]\n",
      "[('killerr', 'http://www.wikidata.org/entity/Q1001933'), ('killer', 'Helena'), ('killedr', 'http://www.wikidata.org/prop/direct/P3373'), ('killed', 'sibling'), ('personr', 'http://www.wikidata.org/entity/Q46734'), ('person', 'Constantine II')]\n",
      "[('killerr', 'http://www.wikidata.org/entity/Q1419'), ('killer', 'Vespasian'), ('killedr', 'http://www.wikidata.org/prop/direct/P40'), ('killed', 'child'), ('personr', 'http://www.wikidata.org/entity/Q1423'), ('person', 'Domitian')]\n",
      "25\n"
     ]
    }
   ],
   "source": [
    "queryString = \"\"\"\n",
    "SELECT DISTINCT ?killerr ?killer ?killedr ?killed ?personr ?person\n",
    "WHERE {\n",
    "    VALUES ?emperor { wd:Q842606  wd:Q39018 } # check both \"Emperor\" and \"Roman emperor\"\n",
    "\n",
    "    ?personr wdt:P27  wd:Q1747689; # people who nationality = ancient rome\n",
    "            ?occupation ?emperor;  # who are emperors\n",
    "            wdt:P1196 wd:Q149086 . # and died by homicide\n",
    "            \n",
    "    ?killerr wdt:P27  wd:Q1747689; # people who nationality = ancient rome\n",
    "           ?killedr ?personr.      # who did something to the killed person\n",
    "            \n",
    "            \n",
    "    # get the label\n",
    "    ?killerr sc:name ?killer.\n",
    "    ?killedr sc:name ?killed.\n",
    "    ?personr sc:name ?person.\n",
    "\n",
    "\n",
    "}\n",
    "LIMIT 25\n",
    "\"\"\"\n",
    "\n",
    "print(\"Results\")\n",
    "x=run_query(queryString)"
   ]
  },
  {
   "cell_type": "code",
   "execution_count": null,
   "id": "fe65f07b-0fe8-4b7c-86aa-b7b4aa473688",
   "metadata": {},
   "outputs": [
    {
     "name": "stdout",
     "output_type": "stream",
     "text": [
      "Results\n",
      "[('killedr', 'http://www.wikidata.org/prop/direct/P26'), ('killed', 'spouse')]\n",
      "[('killedr', 'http://www.wikidata.org/prop/direct/P22'), ('killed', 'father')]\n",
      "[('killedr', 'http://www.wikidata.org/prop/direct/P40'), ('killed', 'child')]\n",
      "[('killedr', 'http://www.wikidata.org/prop/direct/P1038'), ('killed', 'relative')]\n",
      "[('killedr', 'http://www.wikidata.org/prop/direct/P451'), ('killed', 'unmarried partner')]\n",
      "[('killedr', 'http://www.wikidata.org/prop/direct/P1889'), ('killed', 'different from')]\n",
      "[('killedr', 'http://www.wikidata.org/prop/direct/P3373'), ('killed', 'sibling')]\n",
      "[('killedr', 'http://www.wikidata.org/prop/direct/P802'), ('killed', 'student')]\n",
      "[('killedr', 'http://www.wikidata.org/prop/direct/P127'), ('killed', 'owned by')]\n",
      "[('killedr', 'http://www.wikidata.org/prop/direct/P157'), ('killed', 'killed by')]\n",
      "[('killedr', 'http://www.wikidata.org/prop/direct/P1327'), ('killed', 'partner in business or sport')]\n",
      "11\n"
     ]
    }
   ],
   "source": [
    "queryString = \"\"\"\n",
    "SELECT DISTINCT ?killedr ?killed\n",
    "WHERE {\n",
    "    VALUES ?emperor { wd:Q842606  wd:Q39018 } # check both \"Emperor\" and \"Roman emperor\"\n",
    "\n",
    "    ?personr wdt:P27  wd:Q1747689; # people who nationality = ancient rome\n",
    "            ?occupation ?emperor;  # who are emperors\n",
    "            wdt:P1196 wd:Q149086 . # and died by homicide\n",
    "            \n",
    "    ?killerr wdt:P27  wd:Q1747689; # people who nationality = ancient rome\n",
    "           ?killedr ?personr.      # who did something to the killed person\n",
    "            \n",
    "            \n",
    "    # get the label\n",
    "    ?killerr sc:name ?killer.\n",
    "    ?killedr sc:name ?killed.\n",
    "    ?personr sc:name ?person.\n",
    "\n",
    "\n",
    "}\n",
    "LIMIT 25\n",
    "\"\"\"\n",
    "\n",
    "print(\"Results\")\n",
    "x=run_query(queryString)"
   ]
  },
  {
   "cell_type": "markdown",
   "id": "03897ea1-bb0b-4686-a0f3-3f3193214ee8",
   "metadata": {},
   "source": [
    "Final query for this task (before feedback - after that I checked and realized I was switching the killer with the killed):"
   ]
  },
  {
   "cell_type": "code",
   "execution_count": null,
   "id": "f36a644c-49b5-483a-ac5d-9fd690e69732",
   "metadata": {},
   "outputs": [
    {
     "name": "stdout",
     "output_type": "stream",
     "text": [
      "Results\n",
      "[('personr', 'http://www.wikidata.org/entity/Q1423'), ('person', 'Domitian'), ('killerr', 'http://www.wikidata.org/entity/Q21567913'), ('killer', 'Paris')]\n",
      "[('personr', 'http://www.wikidata.org/entity/Q170026'), ('person', 'Valentinian III'), ('killerr', 'http://www.wikidata.org/entity/Q185476'), ('killer', 'Flavius Aetius')]\n",
      "[('personr', 'http://www.wikidata.org/entity/Q1446'), ('person', 'Caracalla'), ('killerr', 'http://www.wikidata.org/entity/Q183089'), ('killer', 'Geta')]\n",
      "[('personr', 'http://www.wikidata.org/entity/Q1434'), ('person', 'Commodus'), ('killerr', 'http://www.wikidata.org/entity/Q242466'), ('killer', 'Lucilla')]\n",
      "[('personr', 'http://www.wikidata.org/entity/Q46780'), ('person', 'Aurelian')]\n",
      "[('personr', 'http://www.wikidata.org/entity/Q437604'), ('person', 'Julius Saturninus')]\n",
      "[('personr', 'http://www.wikidata.org/entity/Q1777'), ('person', 'Maximinus Thrax')]\n",
      "[('personr', 'http://www.wikidata.org/entity/Q518890'), ('person', 'Gaius Julius Verus Maximus')]\n",
      "[('personr', 'http://www.wikidata.org/entity/Q1762'), ('person', 'Elagabalus')]\n",
      "[('personr', 'http://www.wikidata.org/entity/Q1411'), ('person', 'Claudius')]\n",
      "[('personr', 'http://www.wikidata.org/entity/Q1411'), ('person', 'Claudius')]\n",
      "[('personr', 'http://www.wikidata.org/entity/Q185538'), ('person', 'Constans')]\n",
      "[('personr', 'http://www.wikidata.org/entity/Q185538'), ('person', 'Constans')]\n",
      "[('personr', 'http://www.wikidata.org/entity/Q46734'), ('person', 'Constantine II')]\n",
      "[('personr', 'http://www.wikidata.org/entity/Q46734'), ('person', 'Constantine II')]\n",
      "[('personr', 'http://www.wikidata.org/entity/Q103860'), ('person', 'Julius Nepos')]\n",
      "[('personr', 'http://www.wikidata.org/entity/Q103860'), ('person', 'Julius Nepos')]\n",
      "[('personr', 'http://www.wikidata.org/entity/Q1830'), ('person', 'Decius')]\n",
      "[('personr', 'http://www.wikidata.org/entity/Q1830'), ('person', 'Decius')]\n",
      "[('personr', 'http://www.wikidata.org/entity/Q104475'), ('person', 'Gallienus')]\n",
      "[('personr', 'http://www.wikidata.org/entity/Q189108'), ('person', 'Gratian')]\n",
      "[('personr', 'http://www.wikidata.org/entity/Q189108'), ('person', 'Gratian')]\n",
      "[('personr', 'http://www.wikidata.org/entity/Q1409'), ('person', 'Caligula')]\n",
      "[('personr', 'http://www.wikidata.org/entity/Q191956'), ('person', 'Majorian')]\n",
      "[('personr', 'http://www.wikidata.org/entity/Q191940'), ('person', 'Petronius Maximus')]\n",
      "[('personr', 'http://www.wikidata.org/entity/Q191940'), ('person', 'Petronius Maximus')]\n",
      "[('personr', 'http://www.wikidata.org/entity/Q182070'), ('person', 'Maxentius')]\n",
      "[('personr', 'http://www.wikidata.org/entity/Q182070'), ('person', 'Maxentius')]\n",
      "[('personr', 'http://www.wikidata.org/entity/Q33941'), ('person', 'Julian')]\n",
      "[('personr', 'http://www.wikidata.org/entity/Q33941'), ('person', 'Julian')]\n",
      "[('personr', 'http://www.wikidata.org/entity/Q203198'), ('person', 'Avitus')]\n",
      "[('personr', 'http://www.wikidata.org/entity/Q203198'), ('person', 'Avitus')]\n",
      "[('personr', 'http://www.wikidata.org/entity/Q1414'), ('person', 'Galba')]\n",
      "[('personr', 'http://www.wikidata.org/entity/Q731546'), ('person', 'Bassianus')]\n",
      "[('personr', 'http://www.wikidata.org/entity/Q1440'), ('person', 'Didius Julianus')]\n",
      "[('personr', 'http://www.wikidata.org/entity/Q1417'), ('person', 'Vitellius')]\n",
      "[('personr', 'http://www.wikidata.org/entity/Q1417'), ('person', 'Vitellius')]\n",
      "[('personr', 'http://www.wikidata.org/entity/Q207121'), ('person', 'Libius Severus')]\n",
      "[('personr', 'http://www.wikidata.org/entity/Q207121'), ('person', 'Libius Severus')]\n",
      "[('personr', 'http://www.wikidata.org/entity/Q1769'), ('person', 'Alexander Severus')]\n",
      "[('personr', 'http://www.wikidata.org/entity/Q46837'), ('person', 'Hostilian')]\n",
      "[('personr', 'http://www.wikidata.org/entity/Q177980'), ('person', 'Aemilianus')]\n",
      "[('personr', 'http://www.wikidata.org/entity/Q1797'), ('person', 'Pupienus')]\n",
      "[('personr', 'http://www.wikidata.org/entity/Q1436'), ('person', 'Pertinax')]\n",
      "[('personr', 'http://www.wikidata.org/entity/Q273253'), ('person', 'Herennius Etruscus')]\n",
      "[('personr', 'http://www.wikidata.org/entity/Q190097'), ('person', 'Carinus')]\n",
      "[('personr', 'http://www.wikidata.org/entity/Q187068'), ('person', 'Marcus Aurelius Probus')]\n",
      "[('personr', 'http://www.wikidata.org/entity/Q1817'), ('person', 'Philip the Arab')]\n",
      "[('personr', 'http://www.wikidata.org/entity/Q1817'), ('person', 'Philip the Arab')]\n",
      "[('personr', 'http://www.wikidata.org/entity/Q297494'), ('person', 'Saloninus')]\n",
      "[('personr', 'http://www.wikidata.org/entity/Q317232'), ('person', 'Carausius')]\n",
      "[('personr', 'http://www.wikidata.org/entity/Q171023'), ('person', 'Trebonianus Gallus')]\n",
      "[('personr', 'http://www.wikidata.org/entity/Q202222'), ('person', 'Volusianus')]\n",
      "[('personr', 'http://www.wikidata.org/entity/Q1805'), ('person', 'Balbinus')]\n",
      "[('personr', 'http://www.wikidata.org/entity/Q183089'), ('person', 'Geta')]\n",
      "[('personr', 'http://www.wikidata.org/entity/Q255453'), ('person', 'Marcus')]\n",
      "[('personr', 'http://www.wikidata.org/entity/Q1752'), ('person', 'Macrinus')]\n",
      "[('personr', 'http://www.wikidata.org/entity/Q312910'), ('person', 'Aureolus')]\n",
      "[('personr', 'http://www.wikidata.org/entity/Q199946'), ('person', 'Florianus')]\n",
      "[('personr', 'http://www.wikidata.org/entity/Q199946'), ('person', 'Florianus')]\n",
      "[('personr', 'http://www.wikidata.org/entity/Q1803'), ('person', 'Gordian II')]\n",
      "[('personr', 'http://www.wikidata.org/entity/Q333799'), ('person', 'Regalianus')]\n",
      "[('personr', 'http://www.wikidata.org/entity/Q887042'), ('person', 'Septimius')]\n",
      "[('personr', 'http://www.wikidata.org/entity/Q176536'), ('person', 'Jotapianus')]\n",
      "[('personr', 'http://www.wikidata.org/entity/Q255143'), ('person', 'Gratian')]\n",
      "[('personr', 'http://www.wikidata.org/entity/Q311274'), ('person', 'Valerius Valens')]\n",
      "66\n"
     ]
    }
   ],
   "source": [
    "queryString = \"\"\"\n",
    "SELECT DISTINCT ?personr ?person ?killerr ?killer\n",
    "WHERE {\n",
    "    VALUES ?emperor { wd:Q842606  wd:Q39018 } # check both \"Emperor\" and \"Roman emperor\"\n",
    "\n",
    "    ?personr wdt:P27  wd:Q1747689; # people who nationality = ancient rome\n",
    "            ?occupation ?emperor;  # who are emperors\n",
    "            wdt:P1196 wd:Q149086 . # and died by homicide\n",
    "            \n",
    "    OPTIONAL{\n",
    "        ?killerr wdt:P157 ?personr. # people who did kill that person to the killed person\n",
    "        \n",
    "        # get the label\n",
    "        ?killerr sc:name ?killer.\n",
    "    }\n",
    "            \n",
    "            \n",
    "    # get the label\n",
    "    ?personr sc:name ?person.\n",
    "\n",
    "\n",
    "}\n",
    "LIMIT 200\n",
    "\"\"\"\n",
    "\n",
    "print(\"Results\")\n",
    "x=run_query(queryString)"
   ]
  },
  {
   "cell_type": "markdown",
   "id": "1f6463b4-748e-46c8-90c8-417a552893cf",
   "metadata": {},
   "source": [
    "Final query for this task:"
   ]
  },
  {
   "cell_type": "code",
   "execution_count": 71,
   "id": "98b0efbb-03bb-4c14-b7b8-2f8f43af1650",
   "metadata": {},
   "outputs": [
    {
     "name": "stdout",
     "output_type": "stream",
     "text": [
      "Results\n",
      "[('personr', 'http://www.wikidata.org/entity/Q103860'), ('person', 'Julius Nepos'), ('killerr', 'http://www.wikidata.org/entity/Q1228819'), ('killer', 'Ovida')]\n",
      "[('personr', 'http://www.wikidata.org/entity/Q189108'), ('person', 'Gratian'), ('killerr', 'http://www.wikidata.org/entity/Q2846204'), ('killer', 'Andragathius')]\n",
      "[('personr', 'http://www.wikidata.org/entity/Q1434'), ('person', 'Commodus'), ('killerr', 'http://www.wikidata.org/entity/Q980693'), ('killer', 'Narcissus')]\n",
      "[('personr', 'http://www.wikidata.org/entity/Q183089'), ('person', 'Geta'), ('killerr', 'http://www.wikidata.org/entity/Q1446'), ('killer', 'Caracalla')]\n",
      "[('personr', 'http://www.wikidata.org/entity/Q46780'), ('person', 'Aurelian')]\n",
      "[('personr', 'http://www.wikidata.org/entity/Q437604'), ('person', 'Julius Saturninus')]\n",
      "[('personr', 'http://www.wikidata.org/entity/Q1777'), ('person', 'Maximinus Thrax')]\n",
      "[('personr', 'http://www.wikidata.org/entity/Q518890'), ('person', 'Gaius Julius Verus Maximus')]\n",
      "[('personr', 'http://www.wikidata.org/entity/Q1762'), ('person', 'Elagabalus')]\n",
      "[('personr', 'http://www.wikidata.org/entity/Q1411'), ('person', 'Claudius')]\n",
      "[('personr', 'http://www.wikidata.org/entity/Q1411'), ('person', 'Claudius')]\n",
      "[('personr', 'http://www.wikidata.org/entity/Q1423'), ('person', 'Domitian')]\n",
      "[('personr', 'http://www.wikidata.org/entity/Q185538'), ('person', 'Constans')]\n",
      "[('personr', 'http://www.wikidata.org/entity/Q46734'), ('person', 'Constantine II')]\n",
      "[('personr', 'http://www.wikidata.org/entity/Q1830'), ('person', 'Decius')]\n",
      "[('personr', 'http://www.wikidata.org/entity/Q104475'), ('person', 'Gallienus')]\n",
      "[('personr', 'http://www.wikidata.org/entity/Q1409'), ('person', 'Caligula')]\n",
      "[('personr', 'http://www.wikidata.org/entity/Q191956'), ('person', 'Majorian')]\n",
      "[('personr', 'http://www.wikidata.org/entity/Q170026'), ('person', 'Valentinian III')]\n",
      "[('personr', 'http://www.wikidata.org/entity/Q170026'), ('person', 'Valentinian III')]\n",
      "[('personr', 'http://www.wikidata.org/entity/Q191940'), ('person', 'Petronius Maximus')]\n",
      "[('personr', 'http://www.wikidata.org/entity/Q182070'), ('person', 'Maxentius')]\n",
      "[('personr', 'http://www.wikidata.org/entity/Q33941'), ('person', 'Julian')]\n",
      "[('personr', 'http://www.wikidata.org/entity/Q1446'), ('person', 'Caracalla')]\n",
      "[('personr', 'http://www.wikidata.org/entity/Q203198'), ('person', 'Avitus')]\n",
      "[('personr', 'http://www.wikidata.org/entity/Q1414'), ('person', 'Galba')]\n",
      "[('personr', 'http://www.wikidata.org/entity/Q731546'), ('person', 'Bassianus')]\n",
      "[('personr', 'http://www.wikidata.org/entity/Q1440'), ('person', 'Didius Julianus')]\n",
      "[('personr', 'http://www.wikidata.org/entity/Q1417'), ('person', 'Vitellius')]\n",
      "[('personr', 'http://www.wikidata.org/entity/Q207121'), ('person', 'Libius Severus')]\n",
      "[('personr', 'http://www.wikidata.org/entity/Q1769'), ('person', 'Alexander Severus')]\n",
      "[('personr', 'http://www.wikidata.org/entity/Q46837'), ('person', 'Hostilian')]\n",
      "[('personr', 'http://www.wikidata.org/entity/Q177980'), ('person', 'Aemilianus')]\n",
      "[('personr', 'http://www.wikidata.org/entity/Q1797'), ('person', 'Pupienus')]\n",
      "[('personr', 'http://www.wikidata.org/entity/Q1436'), ('person', 'Pertinax')]\n",
      "[('personr', 'http://www.wikidata.org/entity/Q273253'), ('person', 'Herennius Etruscus')]\n",
      "[('personr', 'http://www.wikidata.org/entity/Q190097'), ('person', 'Carinus')]\n",
      "[('personr', 'http://www.wikidata.org/entity/Q187068'), ('person', 'Marcus Aurelius Probus')]\n",
      "[('personr', 'http://www.wikidata.org/entity/Q1817'), ('person', 'Philip the Arab')]\n",
      "[('personr', 'http://www.wikidata.org/entity/Q297494'), ('person', 'Saloninus')]\n",
      "[('personr', 'http://www.wikidata.org/entity/Q317232'), ('person', 'Carausius')]\n",
      "[('personr', 'http://www.wikidata.org/entity/Q171023'), ('person', 'Trebonianus Gallus')]\n",
      "[('personr', 'http://www.wikidata.org/entity/Q202222'), ('person', 'Volusianus')]\n",
      "[('personr', 'http://www.wikidata.org/entity/Q1805'), ('person', 'Balbinus')]\n",
      "[('personr', 'http://www.wikidata.org/entity/Q255453'), ('person', 'Marcus')]\n",
      "[('personr', 'http://www.wikidata.org/entity/Q1752'), ('person', 'Macrinus')]\n",
      "[('personr', 'http://www.wikidata.org/entity/Q312910'), ('person', 'Aureolus')]\n",
      "[('personr', 'http://www.wikidata.org/entity/Q199946'), ('person', 'Florianus')]\n",
      "[('personr', 'http://www.wikidata.org/entity/Q199946'), ('person', 'Florianus')]\n",
      "[('personr', 'http://www.wikidata.org/entity/Q1803'), ('person', 'Gordian II')]\n",
      "[('personr', 'http://www.wikidata.org/entity/Q333799'), ('person', 'Regalianus')]\n",
      "[('personr', 'http://www.wikidata.org/entity/Q887042'), ('person', 'Septimius')]\n",
      "[('personr', 'http://www.wikidata.org/entity/Q176536'), ('person', 'Jotapianus')]\n",
      "[('personr', 'http://www.wikidata.org/entity/Q255143'), ('person', 'Gratian')]\n",
      "[('personr', 'http://www.wikidata.org/entity/Q311274'), ('person', 'Valerius Valens')]\n",
      "55\n"
     ]
    }
   ],
   "source": [
    "queryString = \"\"\"\n",
    "SELECT DISTINCT ?personr ?person ?killerr ?killer\n",
    "WHERE {\n",
    "    VALUES ?emperor { wd:Q842606  wd:Q39018 } # check both \"Emperor\" and \"Roman emperor\"\n",
    "\n",
    "    ?personr wdt:P27  wd:Q1747689; # people who nationality = ancient rome\n",
    "            ?occupation ?emperor;  # who are emperors\n",
    "            wdt:P1196 wd:Q149086 . # and died by homicide\n",
    "            \n",
    "    OPTIONAL{\n",
    "        ?personr wdt:P157 ?killerr. # person killed by killer\n",
    "        \n",
    "        # get the label\n",
    "        ?killerr sc:name ?killer.\n",
    "    }\n",
    "            \n",
    "            \n",
    "    # get the label\n",
    "    ?personr sc:name ?person.\n",
    "\n",
    "\n",
    "}\n",
    "LIMIT 200\n",
    "\"\"\"\n",
    "\n",
    "print(\"Results\")\n",
    "x=run_query(queryString)"
   ]
  },
  {
   "cell_type": "markdown",
   "id": "3b9b1457",
   "metadata": {},
   "source": [
    "## Task 5\n",
    "Return the Roman emperors who killed another Roman emperor (the result set must a list of 4-tuples with killer IRI and label, and killed IRI and label)."
   ]
  },
  {
   "cell_type": "markdown",
   "id": "7a03563b",
   "metadata": {},
   "source": [
    "Final query for this task"
   ]
  },
  {
   "cell_type": "code",
   "execution_count": null,
   "id": "5c5efd68",
   "metadata": {},
   "outputs": [
    {
     "name": "stdout",
     "output_type": "stream",
     "text": [
      "Results\n",
      "[('killerr', 'http://www.wikidata.org/entity/Q183089'), ('killer', 'Geta'), ('killedr', 'http://www.wikidata.org/entity/Q1446'), ('killed', 'Caracalla')]\n",
      "[('killerr', 'http://www.wikidata.org/entity/Q184549'), ('killer', 'Licinius'), ('killedr', 'http://www.wikidata.org/entity/Q8413'), ('killed', 'Constantine the Great')]\n",
      "2\n"
     ]
    }
   ],
   "source": [
    "queryString = \"\"\"\n",
    "SELECT DISTINCT ?killerr ?killer ?killedr ?killed\n",
    "WHERE {\n",
    "    VALUES ?emperor { wd:Q842606  wd:Q39018 } # check both \"Emperor\" and \"Roman emperor\"\n",
    "\n",
    "    ?killedr wdt:P27  wd:Q1747689; # people who nationality = ancient rome\n",
    "            ?occupation ?emperor.  # who are emperors\n",
    "            \n",
    "    ?killerr wdt:P27  wd:Q1747689; # people who nationality = ancient rome\n",
    "            ?occupation ?emperor;  # who are emperors\n",
    "            wdt:P157 ?killedr.     # and killed another emperor\n",
    "\n",
    " \n",
    "    # get the label\n",
    "    ?killerr sc:name ?killer.\n",
    "    ?killedr sc:name ?killed.\n",
    "\n",
    "\n",
    "}\n",
    "LIMIT 200\n",
    "\"\"\"\n",
    "\n",
    "print(\"Results\")\n",
    "x=run_query(queryString)"
   ]
  },
  {
   "cell_type": "markdown",
   "id": "ba234802",
   "metadata": {},
   "source": [
    "## Task 6\n",
    "Find the BGP for war"
   ]
  },
  {
   "cell_type": "code",
   "execution_count": 56,
   "id": "93cd7e6d",
   "metadata": {},
   "outputs": [
    {
     "name": "stdout",
     "output_type": "stream",
     "text": [
      "Results\n",
      "[('namer', 'http://www.wikidata.org/entity/Q37732336'), ('name', 'WAR')]\n",
      "[('namer', 'http://www.wikidata.org/entity/Q198'), ('name', 'war')]\n",
      "[('namer', 'http://www.wikidata.org/entity/Q2058013'), ('name', 'War')]\n",
      "[('namer', 'http://www.wikidata.org/entity/Q331811'), ('name', 'War')]\n",
      "[('namer', 'http://www.wikidata.org/entity/Q2548927'), ('name', 'War')]\n",
      "[('namer', 'http://www.wikidata.org/entity/Q7968362'), ('name', 'War')]\n",
      "[('namer', 'http://www.wikidata.org/entity/Q1307369'), ('name', 'War')]\n",
      "[('namer', 'http://www.wikidata.org/entity/Q4026034'), ('name', 'WAR')]\n",
      "[('namer', 'http://www.wikidata.org/entity/Q2295871'), ('name', 'War')]\n",
      "[('namer', 'http://www.wikidata.org/entity/Q640673'), ('name', 'War')]\n",
      "[('namer', 'http://www.wikidata.org/entity/Q18891370'), ('name', 'War')]\n",
      "[('namer', 'http://www.wikidata.org/entity/Q19053434'), ('name', 'War')]\n",
      "[('namer', 'http://www.wikidata.org/entity/Q19115023'), ('name', 'War')]\n",
      "[('namer', 'http://www.wikidata.org/entity/Q29727112'), ('name', 'war')]\n",
      "[('namer', 'http://www.wikidata.org/entity/Q18749175'), ('name', 'War')]\n",
      "[('namer', 'http://www.wikidata.org/entity/Q3566208'), ('name', 'War')]\n",
      "[('namer', 'http://www.wikidata.org/entity/Q106572051'), ('name', 'War')]\n",
      "[('namer', 'http://www.wikidata.org/entity/Q76873785'), ('name', 'War')]\n",
      "[('namer', 'http://www.wikidata.org/entity/Q18891369'), ('name', 'War')]\n",
      "[('namer', 'http://www.wikidata.org/entity/Q106240685'), ('name', 'War')]\n",
      "20\n"
     ]
    }
   ],
   "source": [
    "queryString = \"\"\"\n",
    "SELECT DISTINCT ?namer ?name\n",
    "WHERE {\n",
    "    ?namer sc:name ?name.\n",
    "    FILTER regex(?name, \"^war$\", \"i\")\n",
    "}\n",
    "LIMIT 20 \n",
    "\"\"\"\n",
    "\n",
    "print(\"Results\")\n",
    "x=run_query(queryString)"
   ]
  },
  {
   "cell_type": "code",
   "execution_count": 57,
   "id": "55fae5a0-5d3e-4a2c-a094-917a91448a80",
   "metadata": {},
   "outputs": [
    {
     "name": "stdout",
     "output_type": "stream",
     "text": [
      "Results\n",
      "[('namer', 'http://www.wikidata.org/entity/Q198'), ('name', 'war')]\n",
      "[('namer', 'http://www.wikidata.org/entity/Q29727112'), ('name', 'war')]\n",
      "[('namer', 'http://www.wikidata.org/entity/Q26883397'), ('name', 'war')]\n",
      "3\n"
     ]
    }
   ],
   "source": [
    "queryString = \"\"\"\n",
    "SELECT DISTINCT ?namer ?name\n",
    "WHERE {\n",
    "    ?namer sc:name ?name.\n",
    "    FILTER regex(?name, \"^war$\", \"\")\n",
    "}\n",
    "LIMIT 20\n",
    "\"\"\"\n",
    "\n",
    "print(\"Results\")\n",
    "x=run_query(queryString)"
   ]
  },
  {
   "cell_type": "markdown",
   "id": "9d2d1181-c8a9-4a88-8ab4-90526255e4c5",
   "metadata": {},
   "source": [
    "I have just 20 results, I may try them one by one. I noticed that most \"general\" concepts have a lower IRI number, so I started from the lowest, `wd:Q198`:"
   ]
  },
  {
   "cell_type": "code",
   "execution_count": 58,
   "id": "9ed62ec5-891c-4fa7-a469-15d9a2ecd1a4",
   "metadata": {},
   "outputs": [
    {
     "name": "stdout",
     "output_type": "stream",
     "text": [
      "Results\n",
      "[('pr', 'http://www.wikidata.org/prop/direct/P1151'), ('p', \"topic's main Wikimedia portal\"), ('or', 'http://www.wikidata.org/entity/Q10632410'), ('o', 'Portal:War')]\n",
      "[('pr', 'http://www.wikidata.org/prop/direct/P1343'), ('p', 'described by source'), ('or', 'http://www.wikidata.org/entity/Q678259'), ('o', 'Nordisk familjebok')]\n",
      "[('pr', 'http://www.wikidata.org/prop/direct/P1343'), ('p', 'described by source'), ('or', 'http://www.wikidata.org/entity/Q4114391'), ('o', 'Sytin Military Encyclopedia')]\n",
      "[('pr', 'http://www.wikidata.org/prop/direct/P1343'), ('p', 'described by source'), ('or', 'http://www.wikidata.org/entity/Q106727050'), ('o', 'Metropolitan Museum of Art Tagging Vocabulary')]\n",
      "[('pr', 'http://www.wikidata.org/prop/direct/P1343'), ('p', 'described by source'), ('or', 'http://www.wikidata.org/entity/Q4086271'), ('o', 'Bible Encyclopedia of Archimandrite Nicephorus')]\n",
      "[('pr', 'http://www.wikidata.org/prop/direct/P1343'), ('p', 'described by source'), ('or', 'http://www.wikidata.org/entity/Q4173137'), ('o', 'Jewish Encyclopedia of Brockhaus and Efron')]\n",
      "[('pr', 'http://www.wikidata.org/prop/direct/P1424'), ('p', \"topic's main template\"), ('or', 'http://www.wikidata.org/entity/Q13479477'), ('o', 'Template:War')]\n",
      "[('pr', 'http://www.wikidata.org/prop/direct/P1687'), ('p', 'Wikidata property'), ('or', 'http://www.wikidata.org/entity/P607'), ('o', 'conflict')]\n",
      "[('pr', 'http://www.wikidata.org/prop/direct/P2579'), ('p', 'studied by'), ('or', 'http://www.wikidata.org/entity/Q192781'), ('o', 'military history')]\n",
      "[('pr', 'http://www.wikidata.org/prop/direct/P279'), ('p', 'subclass of'), ('or', 'http://www.wikidata.org/entity/Q1190554'), ('o', 'occurrence')]\n",
      "[('pr', 'http://www.wikidata.org/prop/direct/P279'), ('p', 'subclass of'), ('or', 'http://www.wikidata.org/entity/Q1920219'), ('o', 'social issue')]\n",
      "[('pr', 'http://www.wikidata.org/prop/direct/P279'), ('p', 'subclass of'), ('or', 'http://www.wikidata.org/entity/Q350604'), ('o', 'armed conflict')]\n",
      "[('pr', 'http://www.wikidata.org/prop/direct/P461'), ('p', 'opposite of'), ('or', 'http://www.wikidata.org/entity/Q454'), ('o', 'peace')]\n",
      "[('pr', 'http://www.wikidata.org/prop/direct/P5008'), ('p', 'on focus list of Wikimedia project'), ('or', 'http://www.wikidata.org/entity/Q5460604'), ('o', 'Wikipedia:Vital articles')]\n",
      "[('pr', 'http://www.wikidata.org/prop/direct/P527'), ('p', 'has part'), ('or', 'http://www.wikidata.org/entity/Q105370834'), ('o', 'war phase')]\n",
      "[('pr', 'http://www.wikidata.org/prop/direct/P527'), ('p', 'has part'), ('or', 'http://www.wikidata.org/entity/Q178561'), ('o', 'battle')]\n",
      "[('pr', 'http://www.wikidata.org/prop/direct/P910'), ('p', \"topic's main category\"), ('or', 'http://www.wikidata.org/entity/Q4476237'), ('o', 'Category:Wars')]\n",
      "[('pr', 'http://www.wikidata.org/prop/direct/P910'), ('p', \"topic's main category\"), ('or', 'http://www.wikidata.org/entity/Q8394144'), ('o', 'Category:War')]\n",
      "18\n"
     ]
    }
   ],
   "source": [
    "queryString = \"\"\"\n",
    "SELECT DISTINCT ?pr ?p ?or ?o\n",
    "WHERE {\n",
    "    wd:Q198 ?pr ?or .\n",
    "    ?or sc:name ?o.\n",
    "    ?pr sc:name ?p.\n",
    "}\n",
    "LIMIT 20\n",
    "\"\"\"\n",
    "\n",
    "print(\"Results\")\n",
    "x=run_query(queryString)"
   ]
  },
  {
   "cell_type": "markdown",
   "id": "b4efeda9-4b94-43be-9860-b3f84d41470e",
   "metadata": {},
   "source": [
    "As expected, it's the right one."
   ]
  },
  {
   "cell_type": "markdown",
   "id": "3718fceb",
   "metadata": {},
   "source": [
    "Final query for this task"
   ]
  },
  {
   "cell_type": "code",
   "execution_count": 59,
   "id": "337bd0c0",
   "metadata": {},
   "outputs": [
    {
     "name": "stdout",
     "output_type": "stream",
     "text": [
      "Results\n",
      "[('namer', 'http://www.wikidata.org/entity/Q198'), ('name', 'war')]\n",
      "1\n"
     ]
    }
   ],
   "source": [
    "queryString = \"\"\"\n",
    "SELECT DISTINCT ?namer ?name\n",
    "WHERE {\n",
    "    ?namer wdt:P2579 wd:Q192781.\n",
    "    ?namer sc:name ?name.\n",
    "    FILTER regex(?name, \"^war$\", \"i\")\n",
    "}\n",
    "LIMIT 20\n",
    "\"\"\"\n",
    "\n",
    "print(\"Results\")\n",
    "x=run_query(queryString)"
   ]
  },
  {
   "cell_type": "markdown",
   "id": "f7b3ff15",
   "metadata": {},
   "source": [
    "## Task 7\n",
    "Find the wars (note that \"war\" and \"battle\" are not the same thing) participated by the Roman Empire (return IRI and name of the war)."
   ]
  },
  {
   "cell_type": "code",
   "execution_count": 60,
   "id": "60bc1b12",
   "metadata": {},
   "outputs": [
    {
     "name": "stdout",
     "output_type": "stream",
     "text": [
      "Results\n",
      "[('warr', 'http://www.wikidata.org/entity/Q1362238'), ('war', 'World War I outside Europe')]\n",
      "[('warr', 'http://www.wikidata.org/entity/Q1968718'), ('war', 'Great Syrian Revolt')]\n",
      "[('warr', 'http://www.wikidata.org/entity/Q617070'), ('war', 'First Anglo-Mysore War')]\n",
      "[('warr', 'http://www.wikidata.org/entity/Q20987787'), ('war', 'Esen Buqa–Ayurbarwada war')]\n",
      "[('warr', 'http://www.wikidata.org/entity/Q3902588'), ('war', 'Little War in Hungary')]\n",
      "[('warr', 'http://www.wikidata.org/entity/Q1640107'), ('war', 'Ifni War')]\n",
      "[('warr', 'http://www.wikidata.org/entity/Q17512479'), ('war', 'Arab Winter')]\n",
      "[('warr', 'http://www.wikidata.org/entity/Q22948744'), ('war', 'Rebellion of the Alpujarras')]\n",
      "[('warr', 'http://www.wikidata.org/entity/Q1456086'), ('war', 'Nez Perce War')]\n",
      "[('warr', 'http://www.wikidata.org/entity/Q2427419'), ('war', 'Guaraní War')]\n",
      "[('warr', 'http://www.wikidata.org/entity/Q2471586'), ('war', 'Pomeranian War')]\n",
      "[('warr', 'http://www.wikidata.org/entity/Q438252'), ('war', 'Old Zürich War')]\n",
      "[('warr', 'http://www.wikidata.org/entity/Q455747'), ('war', 'Appenzell Wars')]\n",
      "[('warr', 'http://www.wikidata.org/entity/Q842774'), ('war', 'Polish–Ukrainian War')]\n",
      "[('warr', 'http://www.wikidata.org/entity/Q1361354'), ('war', \"Nine Years' War\")]\n",
      "[('warr', 'http://www.wikidata.org/entity/Q1672808'), ('war', 'Irish Confederate Wars')]\n",
      "[('warr', 'http://www.wikidata.org/entity/Q315342'), ('war', 'Burgundian Wars')]\n",
      "[('warr', 'http://www.wikidata.org/entity/Q87138'), ('war', 'Greco-Turkish War (1919–1922)')]\n",
      "[('warr', 'http://www.wikidata.org/entity/Q957586'), ('war', 'Turkish–Armenian War')]\n",
      "[('warr', 'http://www.wikidata.org/entity/Q199955'), ('war', 'Hundred Days')]\n",
      "20\n"
     ]
    }
   ],
   "source": [
    "queryString = \"\"\"\n",
    "SELECT DISTINCT ?warr ?war\n",
    "WHERE {\n",
    "    ?warr wdt:P31 wd:Q198. # instances of war\n",
    "    ?warr sc:name ?war.\n",
    "}\n",
    "LIMIT 20\n",
    "\"\"\"\n",
    "\n",
    "print(\"Results\")\n",
    "x=run_query(queryString)"
   ]
  },
  {
   "cell_type": "code",
   "execution_count": 61,
   "id": "bc53e444-709e-4e04-94ab-654873ece04d",
   "metadata": {},
   "outputs": [
    {
     "name": "stdout",
     "output_type": "stream",
     "text": [
      "Results\n",
      "[('pr', 'http://www.wikidata.org/prop/direct/P710'), ('p', 'participant'), ('or', 'http://www.wikidata.org/entity/Q326029'), ('o', 'Duchy of Brunswick')]\n",
      "[('pr', 'http://www.wikidata.org/prop/direct/P710'), ('p', 'participant'), ('or', 'http://www.wikidata.org/entity/Q819125'), ('o', 'Province of Hanover')]\n",
      "[('pr', 'http://www.wikidata.org/prop/direct/P2936'), ('p', 'language used'), ('or', 'http://www.wikidata.org/entity/Q150'), ('o', 'French')]\n",
      "[('pr', 'http://www.wikidata.org/prop/direct/P710'), ('p', 'participant'), ('or', 'http://www.wikidata.org/entity/Q15864'), ('o', 'United Kingdom of the Netherlands')]\n",
      "[('pr', 'http://www.wikidata.org/prop/direct/P710'), ('p', 'participant'), ('or', 'http://www.wikidata.org/entity/Q174193'), ('o', 'United Kingdom of Great Britain and Ireland')]\n",
      "[('pr', 'http://www.wikidata.org/prop/direct/P710'), ('p', 'participant'), ('or', 'http://www.wikidata.org/entity/Q188586'), ('o', 'Kingdom of Sicily')]\n",
      "[('pr', 'http://www.wikidata.org/prop/direct/P31'), ('p', 'instance of'), ('or', 'http://www.wikidata.org/entity/Q198'), ('o', 'war')]\n",
      "[('pr', 'http://www.wikidata.org/prop/direct/P710'), ('p', 'participant'), ('or', 'http://www.wikidata.org/entity/Q27306'), ('o', 'Kingdom of Prussia')]\n",
      "[('pr', 'http://www.wikidata.org/prop/direct/P710'), ('p', 'participant'), ('or', 'http://www.wikidata.org/entity/Q29'), ('o', 'Spain')]\n",
      "[('pr', 'http://www.wikidata.org/prop/direct/P1343'), ('p', 'described by source'), ('or', 'http://www.wikidata.org/entity/Q3181656'), ('o', 'The Nuttall Encyclopædia')]\n",
      "[('pr', 'http://www.wikidata.org/prop/direct/P710'), ('p', 'participant'), ('or', 'http://www.wikidata.org/entity/Q34'), ('o', 'Sweden')]\n",
      "[('pr', 'http://www.wikidata.org/prop/direct/P710'), ('p', 'participant'), ('or', 'http://www.wikidata.org/entity/Q34266'), ('o', 'Russian Empire')]\n",
      "[('pr', 'http://www.wikidata.org/prop/direct/P710'), ('p', 'participant'), ('or', 'http://www.wikidata.org/entity/Q347'), ('o', 'Liechtenstein')]\n",
      "[('pr', 'http://www.wikidata.org/prop/direct/P710'), ('p', 'participant'), ('or', 'http://www.wikidata.org/entity/Q39'), ('o', 'Switzerland')]\n",
      "[('pr', 'http://www.wikidata.org/prop/direct/P710'), ('p', 'participant'), ('or', 'http://www.wikidata.org/entity/Q45'), ('o', 'Portugal')]\n",
      "[('pr', 'http://www.wikidata.org/prop/direct/P1343'), ('p', 'described by source'), ('or', 'http://www.wikidata.org/entity/Q4532138'), ('o', 'Granat Encyclopedic Dictionary')]\n",
      "[('pr', 'http://www.wikidata.org/prop/direct/P31'), ('p', 'instance of'), ('or', 'http://www.wikidata.org/entity/Q5589178'), ('o', 'regime')]\n",
      "[('pr', 'http://www.wikidata.org/prop/direct/P710'), ('p', 'participant'), ('or', 'http://www.wikidata.org/entity/Q836680'), ('o', 'Duchy of Nassau')]\n",
      "[('pr', 'http://www.wikidata.org/prop/direct/P36'), ('p', 'capital'), ('or', 'http://www.wikidata.org/entity/Q90'), ('o', 'Paris')]\n",
      "[('pr', 'http://www.wikidata.org/prop/direct/P710'), ('p', 'participant'), ('or', 'http://www.wikidata.org/entity/Q131964'), ('o', 'Austrian Empire')]\n",
      "[('pr', 'http://www.wikidata.org/prop/direct/P710'), ('p', 'participant'), ('or', 'http://www.wikidata.org/entity/Q154849'), ('o', 'Grand Duchy of Tuscany')]\n",
      "[('pr', 'http://www.wikidata.org/prop/direct/P710'), ('p', 'participant'), ('or', 'http://www.wikidata.org/entity/Q173065'), ('o', 'Kingdom of Naples')]\n",
      "[('pr', 'http://www.wikidata.org/prop/direct/P122'), ('p', 'basic form of government'), ('or', 'http://www.wikidata.org/entity/Q2994894'), ('o', 'dual monarchy')]\n",
      "[('pr', 'http://www.wikidata.org/prop/direct/P361'), ('p', 'part of'), ('or', 'http://www.wikidata.org/entity/Q78994'), ('o', 'Napoleonic Wars')]\n",
      "[('pr', 'http://www.wikidata.org/prop/direct/P38'), ('p', 'currency'), ('or', 'http://www.wikidata.org/entity/Q184172'), ('o', 'French franc')]\n",
      "[('pr', 'http://www.wikidata.org/prop/direct/P710'), ('p', 'participant'), ('or', 'http://www.wikidata.org/entity/Q71084'), ('o', 'First French Empire')]\n",
      "[('pr', 'http://www.wikidata.org/prop/direct/P710'), ('p', 'participant'), ('or', 'http://www.wikidata.org/entity/Q165154'), ('o', 'Kingdom of Sardinia')]\n",
      "[('pr', 'http://www.wikidata.org/prop/direct/P85'), ('p', 'anthem'), ('or', 'http://www.wikidata.org/entity/Q1365006'), ('o', 'Chant du départ')]\n",
      "[('pr', 'http://www.wikidata.org/prop/direct/P710'), ('p', 'participant'), ('or', 'http://www.wikidata.org/entity/Q207162'), ('o', 'Bourbon Restoration')]\n",
      "[('pr', 'http://www.wikidata.org/prop/direct/P910'), ('p', \"topic's main category\"), ('or', 'http://www.wikidata.org/entity/Q7156721'), ('o', 'Category:Hundred Days')]\n",
      "[('pr', 'http://www.wikidata.org/prop/direct/P1366'), ('p', 'replaced by'), ('or', 'http://www.wikidata.org/entity/Q2358039'), ('o', 'Second Restoration')]\n",
      "[('pr', 'http://www.wikidata.org/prop/direct/P1365'), ('p', 'replaces'), ('or', 'http://www.wikidata.org/entity/Q5453757'), ('o', 'First Restoration')]\n",
      "32\n"
     ]
    }
   ],
   "source": [
    "queryString = \"\"\"\n",
    "SELECT DISTINCT ?pr ?p ?or ?o\n",
    "WHERE {\n",
    "    wd:Q199955 ?pr ?or.\n",
    "    ?pr sc:name ?p.\n",
    "    ?or sc:name ?o.\n",
    "}\n",
    "LIMIT 100 \n",
    "\"\"\"\n",
    "\n",
    "print(\"Results\")\n",
    "x=run_query(queryString)"
   ]
  },
  {
   "cell_type": "markdown",
   "id": "2514bd7b",
   "metadata": {},
   "source": [
    "Final query for this task"
   ]
  },
  {
   "cell_type": "code",
   "execution_count": 62,
   "id": "adb82a0a",
   "metadata": {},
   "outputs": [
    {
     "name": "stdout",
     "output_type": "stream",
     "text": [
      "Results\n",
      "[('warr', 'http://www.wikidata.org/entity/Q6254'), ('war', 'Kitos War')]\n",
      "[('warr', 'http://www.wikidata.org/entity/Q500409'), ('war', 'Roman–Persian Wars')]\n",
      "[('warr', 'http://www.wikidata.org/entity/Q202578'), ('war', 'First Jewish-Roman War')]\n",
      "[('warr', 'http://www.wikidata.org/entity/Q1533828'), ('war', 'Roman–Parthian War of 58–63')]\n",
      "[('warr', 'http://www.wikidata.org/entity/Q3651751'), ('war', \"Trajan's Parthian campaign\")]\n",
      "[('warr', 'http://www.wikidata.org/entity/Q933963'), ('war', 'Marcomannic Wars')]\n",
      "[('warr', 'http://www.wikidata.org/entity/Q3651748'), ('war', 'Parthian war of Caracalla')]\n",
      "[('warr', 'http://www.wikidata.org/entity/Q1790268'), ('war', 'Roman–Parthian War of 161–166')]\n",
      "[('warr', 'http://www.wikidata.org/entity/Q84850006'), ('war', 'Roman–Parthian War of 195–198')]\n",
      "9\n"
     ]
    }
   ],
   "source": [
    "queryString = \"\"\"\n",
    "SELECT DISTINCT ?warr ?war\n",
    "WHERE {\n",
    "    ?warr wdt:P31  wd:Q198;  # a war\n",
    "          wdt:P710 wd:Q2277. # partecipated by the roman empire\n",
    "    \n",
    "    ?warr sc:name ?war.\n",
    "}\n",
    "LIMIT 100\n",
    "\"\"\"\n",
    "\n",
    "print(\"Results\")\n",
    "x=run_query(queryString)"
   ]
  },
  {
   "cell_type": "markdown",
   "id": "04b28f41",
   "metadata": {},
   "source": [
    "## Task 8\n",
    "Consider all the wars participated by the Roman Empire. For each war return the number of related battles and the opponent (a war is composed of one or more battles) (the result set must be a list of 5-tuples war IRI, label, opponent IRI and label, and #battles)."
   ]
  },
  {
   "cell_type": "markdown",
   "id": "1a6322fa-a317-4b46-8787-a72b385bd82b",
   "metadata": {},
   "source": [
    "Here I did the other way around. Since I have no battles (and just a generic \"battles\" instance), I just picked up a random battle and saw how was the sorrounding schema."
   ]
  },
  {
   "cell_type": "code",
   "execution_count": 63,
   "id": "1a432108",
   "metadata": {},
   "outputs": [
    {
     "name": "stdout",
     "output_type": "stream",
     "text": [
      "Results\n",
      "[('battler', 'http://www.wikidata.org/entity/Q15728772'), ('battle', 'Battle of the Ligurian Sea')]\n",
      "[('battler', 'http://www.wikidata.org/entity/Q15905209'), ('battle', 'Battle of Desna')]\n",
      "[('battler', 'http://www.wikidata.org/entity/Q15918532'), ('battle', 'Action at Mechili, 24 January 1941')]\n",
      "[('battler', 'http://www.wikidata.org/entity/Q15928518'), ('battle', 'battle of Qingshuping')]\n",
      "[('battler', 'http://www.wikidata.org/entity/Q697621'), ('battle', 'Siege of Fort Zeelandia')]\n",
      "[('battler', 'http://www.wikidata.org/entity/Q1497969'), ('battle', \"Battle of Sailor's Creek\")]\n",
      "[('battler', 'http://www.wikidata.org/entity/Q194329'), ('battle', 'Battle of Five Forks')]\n",
      "[('battler', 'http://www.wikidata.org/entity/Q4872730'), ('battle', 'Battle of White Oak Swamp')]\n",
      "[('battler', 'http://www.wikidata.org/entity/Q913604'), ('battle', 'Battle of Alma')]\n",
      "[('battler', 'http://www.wikidata.org/entity/Q16207132'), ('battle', 'Battle of Constantinople')]\n",
      "[('battler', 'http://www.wikidata.org/entity/Q16207208'), ('battle', 'Battle of Bundelkhand')]\n",
      "[('battler', 'http://www.wikidata.org/entity/Q16208818'), ('battle', 'Battle of Sinoia')]\n",
      "[('battler', 'http://www.wikidata.org/entity/Q203233'), ('battle', 'Battle of Plassey')]\n",
      "[('battler', 'http://www.wikidata.org/entity/Q2923372'), ('battle', 'Battle of Süntel')]\n",
      "[('battler', 'http://www.wikidata.org/entity/Q402312'), ('battle', 'Battle of Dettingen')]\n",
      "[('battler', 'http://www.wikidata.org/entity/Q17011705'), ('battle', 'Battle of al-Musayfirah')]\n",
      "[('battler', 'http://www.wikidata.org/entity/Q17026630'), ('battle', 'Battle of Tolosa')]\n",
      "[('battler', 'http://www.wikidata.org/entity/Q17026654'), ('battle', 'Battle of Zvolen')]\n",
      "[('battler', 'http://www.wikidata.org/entity/Q17062048'), ('battle', 'Battle of Gan')]\n",
      "[('battler', 'http://www.wikidata.org/entity/Q701195'), ('battle', 'Battle for Velikiye Luki')]\n",
      "20\n"
     ]
    }
   ],
   "source": [
    "queryString = \"\"\"\n",
    "SELECT DISTINCT ?battler ?battle\n",
    "WHERE {\n",
    "    ?battler wdt:P31 wd:Q178561. # instances of battles\n",
    "    ?battler sc:name ?battle.\n",
    "}\n",
    "LIMIT 20\n",
    "\"\"\"\n",
    "\n",
    "print(\"Results\")\n",
    "x=run_query(queryString)"
   ]
  },
  {
   "cell_type": "code",
   "execution_count": 64,
   "id": "dfb805f5-baa3-4cf0-8421-2799e106badb",
   "metadata": {},
   "outputs": [
    {
     "name": "stdout",
     "output_type": "stream",
     "text": [
      "Results\n",
      "[('pr', 'http://www.wikidata.org/prop/direct/P361'), ('p', 'part of'), ('or', 'http://www.wikidata.org/entity/Q702176'), ('o', 'Battle of the Mediterranean')]\n",
      "[('pr', 'http://www.wikidata.org/prop/direct/P31'), ('p', 'instance of'), ('or', 'http://www.wikidata.org/entity/Q178561'), ('o', 'battle')]\n",
      "[('pr', 'http://www.wikidata.org/prop/direct/P276'), ('p', 'location'), ('or', 'http://www.wikidata.org/entity/Q42820'), ('o', 'Ligurian Sea')]\n",
      "3\n"
     ]
    }
   ],
   "source": [
    "queryString = \"\"\"\n",
    "SELECT DISTINCT ?pr ?p ?or ?o\n",
    "WHERE {\n",
    "    wd:Q15728772 ?pr ?or.\n",
    "    ?pr sc:name ?p.\n",
    "    ?or sc:name ?o.\n",
    "}\n",
    "LIMIT 100\n",
    "\"\"\"\n",
    "\n",
    "print(\"Results\")\n",
    "x=run_query(queryString)"
   ]
  },
  {
   "cell_type": "code",
   "execution_count": 65,
   "id": "085d7766-097b-4997-901c-628d1224ab38",
   "metadata": {},
   "outputs": [
    {
     "name": "stdout",
     "output_type": "stream",
     "text": [
      "Results\n",
      "[('pr', 'http://www.wikidata.org/prop/direct/P276'), ('p', 'location'), ('or', 'http://www.wikidata.org/entity/Q4918'), ('o', 'Mediterranean Sea')]\n",
      "[('pr', 'http://www.wikidata.org/prop/direct/P361'), ('p', 'part of'), ('or', 'http://www.wikidata.org/entity/Q696817'), ('o', 'Mediterranean and Middle East theatre of World War II')]\n",
      "[('pr', 'http://www.wikidata.org/prop/direct/P31'), ('p', 'instance of'), ('or', 'http://www.wikidata.org/entity/Q831663'), ('o', 'military campaign')]\n",
      "[('pr', 'http://www.wikidata.org/prop/direct/P910'), ('p', \"topic's main category\"), ('or', 'http://www.wikidata.org/entity/Q8218839'), ('o', 'Category:Battle of the Mediterranean')]\n",
      "4\n"
     ]
    }
   ],
   "source": [
    "queryString = \"\"\"\n",
    "SELECT DISTINCT ?pr ?p ?or ?o\n",
    "WHERE {\n",
    "    wd:Q702176 ?pr ?or.\n",
    "    ?pr sc:name ?p.\n",
    "    ?or sc:name ?o.\n",
    "}\n",
    "LIMIT 100\n",
    "\"\"\"\n",
    "\n",
    "print(\"Results\")\n",
    "x=run_query(queryString)"
   ]
  },
  {
   "cell_type": "markdown",
   "id": "d674cf09-3d20-4ecf-a4a3-d662a85f3f47",
   "metadata": {},
   "source": [
    "Investigating the relationship between war and battle:"
   ]
  },
  {
   "cell_type": "code",
   "execution_count": 66,
   "id": "0e019482-178c-4939-826b-b3ca4647b481",
   "metadata": {},
   "outputs": [
    {
     "name": "stdout",
     "output_type": "stream",
     "text": [
      "Results\n",
      "[('pr', 'http://www.wikidata.org/prop/direct/P276'), ('p', 'location'), ('or', 'http://www.wikidata.org/entity/Q497801'), ('o', 'Tolosa')]\n",
      "[('pr', 'http://www.wikidata.org/prop/direct/P710'), ('p', 'participant'), ('or', 'http://www.wikidata.org/entity/Q145'), ('o', 'United Kingdom')]\n",
      "[('pr', 'http://www.wikidata.org/prop/direct/P31'), ('p', 'instance of'), ('or', 'http://www.wikidata.org/entity/Q178561'), ('o', 'battle')]\n",
      "[('pr', 'http://www.wikidata.org/prop/direct/P17'), ('p', 'country'), ('or', 'http://www.wikidata.org/entity/Q29'), ('o', 'Spain')]\n",
      "[('pr', 'http://www.wikidata.org/prop/direct/P361'), ('p', 'part of'), ('or', 'http://www.wikidata.org/entity/Q152499'), ('o', 'Peninsular War')]\n",
      "[('pr', 'http://www.wikidata.org/prop/direct/P710'), ('p', 'participant'), ('or', 'http://www.wikidata.org/entity/Q71084'), ('o', 'First French Empire')]\n",
      "6\n"
     ]
    }
   ],
   "source": [
    "queryString = \"\"\"\n",
    "SELECT DISTINCT ?pr ?p ?or ?o\n",
    "WHERE {\n",
    "    wd:Q17026630 ?pr ?or.\n",
    "    ?pr sc:name ?p.\n",
    "    ?or sc:name ?o.\n",
    "}\n",
    "LIMIT 100\n",
    "\"\"\"\n",
    "\n",
    "print(\"Results\")\n",
    "x=run_query(queryString)"
   ]
  },
  {
   "cell_type": "markdown",
   "id": "8f6a0695-98d6-421c-9581-6b4b8b58e4d2",
   "metadata": {},
   "source": [
    "We found that the battle is part the peninsular war, let's explore that entity to ensure is similar to the war we found in query 7:"
   ]
  },
  {
   "cell_type": "code",
   "execution_count": 67,
   "id": "0a815a57-c9f4-41c9-bed0-19f625b40d0a",
   "metadata": {},
   "outputs": [
    {
     "name": "stdout",
     "output_type": "stream",
     "text": [
      "Results\n",
      "[('pr', 'http://www.wikidata.org/prop/direct/P31'), ('p', 'instance of'), ('or', 'http://www.wikidata.org/entity/Q1006311'), ('o', 'war of national liberation')]\n",
      "[('pr', 'http://www.wikidata.org/prop/direct/P527'), ('p', 'has part'), ('or', 'http://www.wikidata.org/entity/Q1190696'), ('o', 'War of the Oranges')]\n",
      "[('pr', 'http://www.wikidata.org/prop/direct/P276'), ('p', 'location'), ('or', 'http://www.wikidata.org/entity/Q12837'), ('o', 'Iberian Peninsula')]\n",
      "[('pr', 'http://www.wikidata.org/prop/direct/P1343'), ('p', 'described by source'), ('or', 'http://www.wikidata.org/entity/Q3181656'), ('o', 'The Nuttall Encyclopædia')]\n",
      "[('pr', 'http://www.wikidata.org/prop/direct/P1343'), ('p', 'described by source'), ('or', 'http://www.wikidata.org/entity/Q4114391'), ('o', 'Sytin Military Encyclopedia')]\n",
      "[('pr', 'http://www.wikidata.org/prop/direct/P1343'), ('p', 'described by source'), ('or', 'http://www.wikidata.org/entity/Q602358'), ('o', 'Brockhaus and Efron Encyclopedic Dictionary')]\n",
      "[('pr', 'http://www.wikidata.org/prop/direct/P361'), ('p', 'part of'), ('or', 'http://www.wikidata.org/entity/Q78994'), ('o', 'Napoleonic Wars')]\n",
      "[('pr', 'http://www.wikidata.org/prop/direct/P527'), ('p', 'has part'), ('or', 'http://www.wikidata.org/entity/Q54913614'), ('o', 'The sieges of Zaragoza')]\n",
      "[('pr', 'http://www.wikidata.org/prop/direct/P527'), ('p', 'has part'), ('or', 'http://www.wikidata.org/entity/Q209716'), ('o', 'First Siege of Zaragoza')]\n",
      "[('pr', 'http://www.wikidata.org/prop/direct/P527'), ('p', 'has part'), ('or', 'http://www.wikidata.org/entity/Q524251'), ('o', 'Second Siege of Zaragoza')]\n",
      "[('pr', 'http://www.wikidata.org/prop/direct/P910'), ('p', \"topic's main category\"), ('or', 'http://www.wikidata.org/entity/Q9183226'), ('o', 'Category:Peninsular War')]\n",
      "11\n"
     ]
    }
   ],
   "source": [
    "queryString = \"\"\"\n",
    "SELECT DISTINCT ?pr ?p ?or ?o\n",
    "WHERE {\n",
    "    wd:Q152499 ?pr ?or.\n",
    "    ?pr sc:name ?p.\n",
    "    ?or sc:name ?o.\n",
    "}\n",
    "LIMIT 100 \n",
    "\"\"\"\n",
    "\n",
    "print(\"Results\")\n",
    "x=run_query(queryString)"
   ]
  },
  {
   "cell_type": "markdown",
   "id": "1f37bf9a-c094-4d09-a5c0-ac31b8893e73",
   "metadata": {},
   "source": [
    "Now I have everything I need to reconstruct the schema.\n"
   ]
  },
  {
   "cell_type": "markdown",
   "id": "eed1b94a",
   "metadata": {},
   "source": [
    "Final query for this task (without and with \"OPTIONAL\"):"
   ]
  },
  {
   "cell_type": "code",
   "execution_count": 68,
   "id": "9d795dd2",
   "metadata": {},
   "outputs": [
    {
     "name": "stdout",
     "output_type": "stream",
     "text": [
      "Results\n",
      "[('warr', 'http://www.wikidata.org/entity/Q202578'), ('wars', 'First Jewish-Roman War'), ('opponentrs', 'http://www.wikidata.org/entity/Q56273996'), ('opponents', 'Judean Free Government'), ('battles', '4')]\n",
      "[('warr', 'http://www.wikidata.org/entity/Q933963'), ('wars', 'Marcomannic Wars'), ('opponentrs', 'http://www.wikidata.org/entity/Q308885'), ('opponents', 'Quadi'), ('battles', '3')]\n",
      "[('warr', 'http://www.wikidata.org/entity/Q500409'), ('wars', 'Roman–Persian Wars'), ('opponentrs', 'http://www.wikidata.org/entity/Q83891'), ('opponents', 'Sasanian Empire'), ('battles', '44')]\n",
      "3\n"
     ]
    }
   ],
   "source": [
    "queryString = \"\"\"\n",
    "SELECT ?warr (SAMPLE(?war) AS ?wars)\n",
    "(SAMPLE(?opponentr) AS ?opponentrs)\n",
    "(SAMPLE(?opponent) AS ?opponents)\n",
    "(COUNT(?battler) as ?battles)\n",
    "WHERE {\n",
    "    ?warr wdt:P31  wd:Q198;    # a war\n",
    "          wdt:P710 wd:Q2277;   # partecipated by the roman empire\n",
    "          wdt:P710 ?opponentr. # and an opponent\n",
    "          \n",
    "    FILTER ( ?opponentr != wd:Q2277 )\n",
    "\n",
    "         \n",
    "    ?battler wdt:P31  wd:Q178561;\n",
    "             wdt:P361 ?warr.\n",
    "       \n",
    "       \n",
    "    ?warr sc:name ?war.\n",
    "    ?opponentr sc:name ?opponent.\n",
    "}\n",
    "GROUP BY ?warr \n",
    "LIMIT 100\n",
    "\"\"\"\n",
    "\n",
    "print(\"Results\")\n",
    "x=run_query(queryString)"
   ]
  },
  {
   "cell_type": "code",
   "execution_count": 69,
   "id": "67cce522-e8c6-469a-a9b0-3476fbf60423",
   "metadata": {},
   "outputs": [
    {
     "name": "stdout",
     "output_type": "stream",
     "text": [
      "Results\n",
      "[('warr', 'http://www.wikidata.org/entity/Q1790268'), ('wars', 'Roman–Parthian War of 161–166'), ('opponentrs', 'http://www.wikidata.org/entity/Q1986139'), ('opponents', 'Parthian Empire'), ('battles', '0')]\n",
      "[('warr', 'http://www.wikidata.org/entity/Q3651748'), ('wars', 'Parthian war of Caracalla'), ('opponentrs', 'http://www.wikidata.org/entity/Q1986139'), ('opponents', 'Parthian Empire'), ('battles', '0')]\n",
      "[('warr', 'http://www.wikidata.org/entity/Q1533828'), ('wars', 'Roman–Parthian War of 58–63'), ('opponentrs', 'http://www.wikidata.org/entity/Q208404'), ('opponents', 'Kingdom of Armenia'), ('battles', '0')]\n",
      "[('warr', 'http://www.wikidata.org/entity/Q202578'), ('wars', 'First Jewish-Roman War'), ('opponentrs', 'http://www.wikidata.org/entity/Q56273996'), ('opponents', 'Judean Free Government'), ('battles', '4')]\n",
      "[('warr', 'http://www.wikidata.org/entity/Q6254'), ('wars', 'Kitos War'), ('opponentrs', 'http://www.wikidata.org/entity/Q7325'), ('opponents', 'Jewish people'), ('battles', '0')]\n",
      "[('warr', 'http://www.wikidata.org/entity/Q933963'), ('wars', 'Marcomannic Wars'), ('opponentrs', 'http://www.wikidata.org/entity/Q308885'), ('opponents', 'Quadi'), ('battles', '3')]\n",
      "[('warr', 'http://www.wikidata.org/entity/Q84850006'), ('wars', 'Roman–Parthian War of 195–198'), ('opponentrs', 'http://www.wikidata.org/entity/Q1986139'), ('opponents', 'Parthian Empire'), ('battles', '0')]\n",
      "[('warr', 'http://www.wikidata.org/entity/Q500409'), ('wars', 'Roman–Persian Wars'), ('opponentrs', 'http://www.wikidata.org/entity/Q83891'), ('opponents', 'Sasanian Empire'), ('battles', '44')]\n",
      "[('warr', 'http://www.wikidata.org/entity/Q3651751'), ('wars', \"Trajan's Parthian campaign\"), ('opponentrs', 'http://www.wikidata.org/entity/Q208404'), ('opponents', 'Kingdom of Armenia'), ('battles', '0')]\n",
      "9\n"
     ]
    }
   ],
   "source": [
    "queryString = \"\"\"\n",
    "SELECT ?warr (SAMPLE(?war) AS ?wars)\n",
    "(SAMPLE(?opponentr) AS ?opponentrs)\n",
    "(SAMPLE(?opponent) AS ?opponents)\n",
    "(COUNT(?battler) as ?battles)\n",
    "WHERE {\n",
    "    ?warr wdt:P31  wd:Q198;    # a war\n",
    "          wdt:P710 wd:Q2277.   # partecipated by the roman empire\n",
    "          \n",
    "          \n",
    "    OPTIONAL {\n",
    "        ?warr wdt:P710 ?opponentr. # and an opponent\n",
    "        FILTER ( ?opponentr != wd:Q2277 )\n",
    "    }\n",
    "\n",
    "\n",
    "    OPTIONAL {\n",
    "    ?battler wdt:P31  wd:Q178561;\n",
    "             wdt:P361 ?warr.    \n",
    "    }\n",
    "\n",
    "       \n",
    "       \n",
    "    ?warr sc:name ?war.\n",
    "    ?opponentr sc:name ?opponent.\n",
    "}\n",
    "GROUP BY ?warr \n",
    "LIMIT 100\n",
    "\"\"\"\n",
    "\n",
    "print(\"Results\")\n",
    "x=run_query(queryString)"
   ]
  }
 ],
 "metadata": {
  "kernelspec": {
   "display_name": "Python 3 (ipykernel)",
   "language": "python",
   "name": "python3"
  },
  "language_info": {
   "codemirror_mode": {
    "name": "ipython",
    "version": 3
   },
   "file_extension": ".py",
   "mimetype": "text/x-python",
   "name": "python",
   "nbconvert_exporter": "python",
   "pygments_lexer": "ipython3",
   "version": "3.9.16"
  }
 },
 "nbformat": 4,
 "nbformat_minor": 5
}
