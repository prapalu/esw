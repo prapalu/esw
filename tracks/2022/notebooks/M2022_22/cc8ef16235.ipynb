{
 "cells": [
  {
   "cell_type": "markdown",
   "id": "0b1a4fca",
   "metadata": {},
   "source": [
    "# General instructions\n",
    "\n",
    "The goal of the project is to materialize a set of **exploratory workloads** over a real-world, large-scale,  open-domain KG: [WikiData](https://www.wikidata.org/wiki/Wikidata:Main_Page)\n",
    "\n",
    "An exploratory workload  is composed by a set of queries, where each query is related to the information obtained previously.\n",
    "\n",
    "An exploratory workload starts with a usually vague, open ended question, and does not assume the person issuing the workload has a clear understanding of the data contained in the target database or its structure.\n",
    "\n",
    "Remeber that:\n",
    "\n",
    "1. All the queries must run in the python notebook\n",
    "2. You can use classes and properties only if you find them via a SPARQL query that must be present in the notebook\n",
    "3. You do not delete useless queries. Keep everything that is synthatically valid \n",
    "\n",
    "```\n",
    "?p <http://schema.org/name> ?name .\n",
    "```\n",
    "    \n",
    "    is the BGP returning a human-readable name of a property or a class in Wikidata."
   ]
  },
  {
   "cell_type": "code",
   "execution_count": 1,
   "id": "0df2f424",
   "metadata": {},
   "outputs": [],
   "source": [
    "## SETUP used later\n",
    "\n",
    "from SPARQLWrapper import SPARQLWrapper, JSON\n",
    "\n",
    "\n",
    "prefixString = \"\"\"\n",
    "##-cc8ef16235-##\n",
    "PREFIX wd: <http://www.wikidata.org/entity/> \n",
    "PREFIX wdt: <http://www.wikidata.org/prop/direct/> \n",
    "PREFIX sc: <http://schema.org/>\n",
    "\"\"\"\n",
    "\n",
    "# select and construct queries\n",
    "def run_query(queryString,verbose = True):\n",
    "    to_run = prefixString + \"\\n\" + queryString\n",
    "\n",
    "    sparql = SPARQLWrapper(\"http://a256-gc1-03.srv.aau.dk:5820/sparql\")\n",
    "    sparql.setTimeout(300)\n",
    "    sparql.setReturnFormat(JSON)\n",
    "    sparql.setQuery(to_run)\n",
    "\n",
    "    try :\n",
    "        results = sparql.query()\n",
    "        json_results = results.convert()\n",
    "        if len(json_results['results']['bindings'])==0:\n",
    "            print(\"Empty\")\n",
    "            return []\n",
    "        array = []\n",
    "        for bindings in json_results['results']['bindings']:\n",
    "            app =  [ (var, value['value'])  for var, value in bindings.items() ] \n",
    "            if verbose:\n",
    "                print( app)\n",
    "            array.append(app)\n",
    "        if verbose:\n",
    "            print(len(array))\n",
    "        return array\n",
    "\n",
    "    except Exception as e :\n",
    "        print(\"The operation failed\", e)\n",
    "    \n",
    "# ASk queries\n",
    "def run_ask_query(queryString):\n",
    "    to_run = prefixString + \"\\n\" + queryString\n",
    "\n",
    "    sparql = SPARQLWrapper(\"http://a256-gc1-03.srv.aau.dk:5820/sparql\")\n",
    "    sparql.setTimeout(300)\n",
    "    sparql.setReturnFormat(JSON)\n",
    "    sparql.setQuery(to_run)\n",
    "\n",
    "    try :\n",
    "        return sparql.query().convert()\n",
    "\n",
    "    except Exception as e :\n",
    "        print(\"The operation failed\", e)"
   ]
  },
  {
   "cell_type": "markdown",
   "id": "08b5c2dc",
   "metadata": {},
   "source": [
    "# Sport Workflow Series (Basketball and NBA finals explorative search\") \n",
    "\n",
    "Consider the following exploratory information need:\n",
    "\n",
    "> investigate the world of basketball. Compare italian teams and US teams, country of citizenship of NBA players, and teams which won NBA finals."
   ]
  },
  {
   "cell_type": "markdown",
   "id": "7dc394c7",
   "metadata": {},
   "source": [
    "## Useful URIs for the current workflow\n",
    "The following are given:\n",
    "\n",
    "| IRI           | Description   | Role      |\n",
    "| -----------   | -----------   |-----------|\n",
    "| `wdt:P1647`   | subproperty   | predicate |\n",
    "| `wdt:P31`     | instance of   | predicate |\n",
    "| `wdt:P106`    | profession    | predicate | \n",
    "| `wdt:P279`    | subclass      | predicate |\n",
    "| `wdt:P27`     | nationality   | predicate |\n",
    "| `wd:Q5`| Human       | node |\n",
    "| `wd:Q36159`| Lebron James      | node |\n",
    "| `wd:Q29545`| Kevin Durant      | node |\n"
   ]
  },
  {
   "cell_type": "markdown",
   "id": "534993fa",
   "metadata": {},
   "source": [
    "\n",
    "\n",
    "\n",
    "Also consider\n",
    "\n",
    "```\n",
    "wd:Q36159 ?p ?obj .\n",
    "```\n",
    "\n",
    "is the BGP to retrieve all **properties of Lebron James**\n",
    "\n",
    "Please consider that when you return a resource, you should return the IRI and the label of the resource. In particular, when the task require you to identify a BGP the result set must always be a list of couples IRI - label.\n",
    "\n",
    "\n",
    "The workload should:\n",
    "\n",
    "\n",
    "1. Identify the BGP for basketball player.\n",
    "\n",
    "2. Identify the BGP for basketball.\n",
    "\n",
    "3. Identify the BGP for basketball team.\n",
    "\n",
    "4. Return all italian basketball teams born before 1945 (the result set must be a list of triples basketball team IRI, label and year of inception).\n",
    "\n",
    "5. Identify the BGP for NBA finals\n",
    "\n",
    "6. Consider only the basketball teams which Kevin Durant and Lebron James played. Return the number of NBA finals won by these teams (the result set must be a list of triples basketball team IRI, label and #victories. Return a number for each basketball team).\n",
    "\n",
    "7. Consider only NBA (National Basketball Association) basketball teams and all basketball players who played in one of these teams at least once. Also consider the country of citizenship of the players with the related continent. Return for each continent the number of players who played in an NBA basketball teams. (the result set must be triples of continent IRI, labels and #players)\n",
    "\n",
    "8. Identify the BGP for the NBA Most Valuable Player Award (MVP) (see https://en.wikipedia.org/wiki/NBA_Most_Valuable_Player_Award)\n",
    "\n",
    "9. Consider the players who won the NBA Most Valuable Player Award. Return for these players the number of NBA Most Valuable Player Award won in their career (the result set must be triples of player IRI, label and #victories)\n",
    "\n"
   ]
  },
  {
   "cell_type": "markdown",
   "id": "d1437283",
   "metadata": {},
   "source": [
    "## Task 1\n",
    "Identify the BGP for basketball player."
   ]
  },
  {
   "cell_type": "code",
   "execution_count": 2,
   "id": "55fd5ddc",
   "metadata": {},
   "outputs": [
    {
     "name": "stdout",
     "output_type": "stream",
     "text": [
      "Results\n",
      "[('p', 'http://www.wikidata.org/prop/direct/P106'), ('name', 'occupation')]\n",
      "[('p', 'http://www.wikidata.org/prop/direct/P118'), ('name', 'league')]\n",
      "[('p', 'http://www.wikidata.org/prop/direct/P1207'), ('name', 'NUKAT ID')]\n",
      "[('p', 'http://www.wikidata.org/prop/direct/P1263'), ('name', 'NNDB people ID')]\n",
      "[('p', 'http://www.wikidata.org/prop/direct/P1280'), ('name', 'CONOR.SI ID')]\n",
      "[('p', 'http://www.wikidata.org/prop/direct/P1285'), ('name', 'Munzinger Sport number')]\n",
      "[('p', 'http://www.wikidata.org/prop/direct/P1344'), ('name', 'participant in')]\n",
      "[('p', 'http://www.wikidata.org/prop/direct/P1411'), ('name', 'nominated for')]\n",
      "[('p', 'http://www.wikidata.org/prop/direct/P1412'), ('name', 'languages spoken, written or signed')]\n",
      "[('p', 'http://www.wikidata.org/prop/direct/P1417'), ('name', 'Encyclopædia Britannica Online ID')]\n",
      "[('p', 'http://www.wikidata.org/prop/direct/P1447'), ('name', 'Sports-Reference.com Olympic athlete ID')]\n",
      "[('p', 'http://www.wikidata.org/prop/direct/P1532'), ('name', 'country for sport')]\n",
      "[('p', 'http://www.wikidata.org/prop/direct/P1559'), ('name', 'name in native language')]\n",
      "[('p', 'http://www.wikidata.org/prop/direct/P1618'), ('name', 'sport number')]\n",
      "[('p', 'http://www.wikidata.org/prop/direct/P166'), ('name', 'award received')]\n",
      "[('p', 'http://www.wikidata.org/prop/direct/P172'), ('name', 'ethnic group')]\n",
      "[('p', 'http://www.wikidata.org/prop/direct/P1741'), ('name', 'GTAA ID')]\n",
      "[('p', 'http://www.wikidata.org/prop/direct/P18'), ('name', 'image')]\n",
      "[('p', 'http://www.wikidata.org/prop/direct/P19'), ('name', 'place of birth')]\n",
      "[('p', 'http://www.wikidata.org/prop/direct/P1953'), ('name', 'Discogs artist ID')]\n",
      "20\n"
     ]
    }
   ],
   "source": [
    "# query example\n",
    "queryString = \"\"\"\n",
    "SELECT DISTINCT ?p ?name\n",
    "WHERE {\n",
    "   # bind something\n",
    "   wd:Q36159 ?p ?obj .\n",
    "   # get the label\n",
    "   ?p sc:name ?name.\n",
    "}\n",
    "LIMIT 20\n",
    "\"\"\"\n",
    "\n",
    "print(\"Results\")\n",
    "x=run_query(queryString)"
   ]
  },
  {
   "cell_type": "code",
   "execution_count": 3,
   "id": "33ca2f72",
   "metadata": {},
   "outputs": [
    {
     "name": "stdout",
     "output_type": "stream",
     "text": [
      "Results\n",
      "[('obj', 'http://www.wikidata.org/entity/Q5'), ('name', 'human')]\n",
      "1\n"
     ]
    }
   ],
   "source": [
    "# Check what is Lebron James instance of\n",
    "queryString = \"\"\"\n",
    "SELECT DISTINCT ?obj ?name\n",
    "WHERE {\n",
    "   # bind something\n",
    "   wd:Q36159 wdt:P31 ?obj .\n",
    "   # get the label\n",
    "   ?obj sc:name ?name.\n",
    "}\n",
    "LIMIT 20\n",
    "\"\"\"\n",
    "\n",
    "print(\"Results\")\n",
    "x=run_query(queryString)"
   ]
  },
  {
   "cell_type": "code",
   "execution_count": 4,
   "id": "933c01d6-cac2-4a05-b812-556becde1e08",
   "metadata": {},
   "outputs": [
    {
     "name": "stdout",
     "output_type": "stream",
     "text": [
      "Results\n",
      "[('obj', 'http://www.wikidata.org/entity/Q10798782'), ('name', 'television actor')]\n",
      "[('obj', 'http://www.wikidata.org/entity/Q28389'), ('name', 'screenwriter')]\n",
      "[('obj', 'http://www.wikidata.org/entity/Q3665646'), ('name', 'basketball player')]\n",
      "3\n"
     ]
    }
   ],
   "source": [
    "# FINAL QUERY\n",
    "# Check what is Lebron James occupation: basketball player (wd:Q3665646)\n",
    "queryString = \"\"\"\n",
    "SELECT DISTINCT ?obj ?name\n",
    "WHERE {\n",
    "   # bind something\n",
    "   wd:Q36159 wdt:P106 ?obj .\n",
    "   # get the label\n",
    "   ?obj sc:name ?name.\n",
    "}\n",
    "LIMIT 20\n",
    "\"\"\"\n",
    "\n",
    "print(\"Results\")\n",
    "x=run_query(queryString)"
   ]
  },
  {
   "cell_type": "markdown",
   "id": "a1526b47-1dc7-48e3-af40-77446540fa31",
   "metadata": {},
   "source": [
    ">The node we are interestd in is \"wd:Q3665646\" with label \"basketball player\""
   ]
  },
  {
   "cell_type": "markdown",
   "id": "8a426c07",
   "metadata": {},
   "source": [
    "## Task 2\n",
    "Identify the BGP for basketball."
   ]
  },
  {
   "cell_type": "code",
   "execution_count": 5,
   "id": "5749919d",
   "metadata": {},
   "outputs": [
    {
     "name": "stdout",
     "output_type": "stream",
     "text": [
      "Results\n",
      "[('p', 'http://www.wikidata.org/prop/direct/P1014'), ('name', 'Art & Architecture Thesaurus ID')]\n",
      "[('p', 'http://www.wikidata.org/prop/direct/P1036'), ('name', 'Dewey Decimal Classification')]\n",
      "[('p', 'http://www.wikidata.org/prop/direct/P1296'), ('name', 'Gran Enciclopèdia Catalana ID')]\n",
      "[('p', 'http://www.wikidata.org/prop/direct/P1424'), ('name', \"topic's main template\")]\n",
      "[('p', 'http://www.wikidata.org/prop/direct/P1709'), ('name', 'equivalent class')]\n",
      "[('p', 'http://www.wikidata.org/prop/direct/P1963'), ('name', 'properties for this type')]\n",
      "[('p', 'http://www.wikidata.org/prop/direct/P227'), ('name', 'GND ID')]\n",
      "[('p', 'http://www.wikidata.org/prop/direct/P2347'), ('name', 'YSO ID')]\n",
      "[('p', 'http://www.wikidata.org/prop/direct/P244'), ('name', 'Library of Congress authority ID')]\n",
      "[('p', 'http://www.wikidata.org/prop/direct/P268'), ('name', 'Bibliothèque nationale de France ID')]\n",
      "[('p', 'http://www.wikidata.org/prop/direct/P279'), ('name', 'subclass of')]\n",
      "[('p', 'http://www.wikidata.org/prop/direct/P2888'), ('name', 'exact match')]\n",
      "[('p', 'http://www.wikidata.org/prop/direct/P31'), ('name', 'instance of')]\n",
      "[('p', 'http://www.wikidata.org/prop/direct/P361'), ('name', 'part of')]\n",
      "[('p', 'http://www.wikidata.org/prop/direct/P373'), ('name', 'Commons category')]\n",
      "[('p', 'http://www.wikidata.org/prop/direct/P425'), ('name', 'field of this occupation')]\n",
      "[('p', 'http://www.wikidata.org/prop/direct/P4839'), ('name', 'Wolfram Language entity code')]\n",
      "[('p', 'http://www.wikidata.org/prop/direct/P4946'), ('name', 'Library of Congress Demographic Group Terms ID')]\n",
      "[('p', 'http://www.wikidata.org/prop/direct/P641'), ('name', 'sport')]\n",
      "[('p', 'http://www.wikidata.org/prop/direct/P646'), ('name', 'Freebase ID')]\n",
      "20\n"
     ]
    }
   ],
   "source": [
    "# properties of basketball player\n",
    "queryString = \"\"\"\n",
    "SELECT DISTINCT ?p ?name\n",
    "WHERE {\n",
    "   # bind something\n",
    "   wd:Q3665646 ?p ?obj .\n",
    "   # get the label\n",
    "   ?p sc:name ?name.\n",
    "}\n",
    "LIMIT 20\n",
    "\"\"\"\n",
    "\n",
    "print(\"Results\")\n",
    "x=run_query(queryString)"
   ]
  },
  {
   "cell_type": "code",
   "execution_count": 6,
   "id": "285a72ad",
   "metadata": {},
   "outputs": [
    {
     "name": "stdout",
     "output_type": "stream",
     "text": [
      "Results\n",
      "[('obj', 'http://www.wikidata.org/entity/Q5372'), ('name', 'basketball')]\n",
      "1\n"
     ]
    }
   ],
   "source": [
    "# FINAL QUERY\n",
    "# what sport (wdt:P641) is basketball player referred to \n",
    "queryString = \"\"\"\n",
    "SELECT DISTINCT ?obj ?name\n",
    "WHERE {\n",
    "   # bind something\n",
    "   wd:Q3665646 wdt:P641 ?obj .\n",
    "   # get the label\n",
    "   ?obj sc:name ?name.\n",
    "}\n",
    "LIMIT 20\n",
    "\"\"\"\n",
    "\n",
    "print(\"Results\")\n",
    "x=run_query(queryString)"
   ]
  },
  {
   "cell_type": "markdown",
   "id": "3e563ea0-4152-41cc-a36f-76b6709e3bf3",
   "metadata": {},
   "source": [
    ">As result we got that basktball player is referred to the sport \"wd:Q5372\" with label \"basketball\""
   ]
  },
  {
   "cell_type": "markdown",
   "id": "cc7c8f0b",
   "metadata": {},
   "source": [
    "## Task 3\n",
    "Identify the BGP for basketball team."
   ]
  },
  {
   "cell_type": "code",
   "execution_count": 7,
   "id": "8cdda489",
   "metadata": {},
   "outputs": [
    {
     "name": "stdout",
     "output_type": "stream",
     "text": [
      "Results\n",
      "[('obj', 'http://www.wikidata.org/entity/Q241329'), ('name', '2006 FIBA World Championship')]\n",
      "[('obj', 'http://www.wikidata.org/entity/Q178595'), ('name', '2007 FIBA Americas Championship')]\n",
      "[('obj', 'http://www.wikidata.org/entity/Q8558'), ('name', '2004 Summer Olympics')]\n",
      "[('obj', 'http://www.wikidata.org/entity/Q8567'), ('name', '2008 Summer Olympics')]\n",
      "[('obj', 'http://www.wikidata.org/entity/Q8577'), ('name', '2012 Summer Olympics')]\n",
      "5\n"
     ]
    }
   ],
   "source": [
    "# Lebron James partecipant in (wdt:P1344). Predicate found in the first query of the notebook. \n",
    "queryString = \"\"\"\n",
    "SELECT DISTINCT ?obj ?name\n",
    "WHERE {\n",
    "   # bind something\n",
    "   wd:Q36159 wdt:P1344 ?obj .\n",
    "   # get the label\n",
    "   ?obj sc:name ?name.\n",
    "}\n",
    "LIMIT 20\n",
    "\"\"\"\n",
    "\n",
    "print(\"Results\")\n",
    "x=run_query(queryString)"
   ]
  },
  {
   "cell_type": "code",
   "execution_count": 8,
   "id": "3a251299",
   "metadata": {},
   "outputs": [
    {
     "name": "stdout",
     "output_type": "stream",
     "text": [
      "Results\n",
      "Empty\n"
     ]
    }
   ],
   "source": [
    "# Lebron James part of (wdt:P361). Predicate found in a previous query. But is used for basketball player and not Lebron James -> empty set\n",
    "queryString = \"\"\"\n",
    "SELECT DISTINCT ?obj ?name\n",
    "WHERE {\n",
    "   # bind something\n",
    "   wd:Q36159 wdt:P361 ?obj .\n",
    "   # get the label\n",
    "   ?obj sc:name ?name.\n",
    "}\n",
    "LIMIT 20\n",
    "\"\"\"\n",
    "\n",
    "print(\"Results\")\n",
    "x=run_query(queryString)"
   ]
  },
  {
   "cell_type": "code",
   "execution_count": 9,
   "id": "10af74c0-f484-481f-913b-93c86e724e44",
   "metadata": {},
   "outputs": [
    {
     "name": "stdout",
     "output_type": "stream",
     "text": [
      "Results\n",
      "[('obj', 'http://www.wikidata.org/entity/Q155223'), ('name', 'National Basketball Association')]\n",
      "1\n"
     ]
    }
   ],
   "source": [
    "# Lebron James league (wdt:P118). Predicate found in the first query of the notebook.\n",
    "queryString = \"\"\"\n",
    "SELECT DISTINCT ?obj ?name\n",
    "WHERE {\n",
    "   # bind something\n",
    "   wd:Q36159 wdt:P118 ?obj .\n",
    "   # get the label\n",
    "   ?obj sc:name ?name.\n",
    "}\n",
    "LIMIT 20\n",
    "\"\"\"\n",
    "\n",
    "print(\"Results\")\n",
    "x=run_query(queryString)"
   ]
  },
  {
   "cell_type": "code",
   "execution_count": 10,
   "id": "0c11b4af-d001-4045-9598-a4d43abe537e",
   "metadata": {},
   "outputs": [
    {
     "name": "stdout",
     "output_type": "stream",
     "text": [
      "Results\n",
      "[('p', 'http://www.wikidata.org/prop/direct/P155'), ('name', 'follows')]\n",
      "[('p', 'http://www.wikidata.org/prop/direct/P156'), ('name', 'followed by')]\n",
      "[('p', 'http://www.wikidata.org/prop/direct/P17'), ('name', 'country')]\n",
      "[('p', 'http://www.wikidata.org/prop/direct/P18'), ('name', 'image')]\n",
      "[('p', 'http://www.wikidata.org/prop/direct/P2670'), ('name', 'has parts of the class')]\n",
      "[('p', 'http://www.wikidata.org/prop/direct/P276'), ('name', 'location')]\n",
      "[('p', 'http://www.wikidata.org/prop/direct/P31'), ('name', 'instance of')]\n",
      "[('p', 'http://www.wikidata.org/prop/direct/P527'), ('name', 'has part')]\n",
      "[('p', 'http://www.wikidata.org/prop/direct/P542'), ('name', 'officially opened by')]\n",
      "[('p', 'http://www.wikidata.org/prop/direct/P543'), ('name', 'oath made by')]\n",
      "[('p', 'http://www.wikidata.org/prop/direct/P545'), ('name', 'torch lit by')]\n",
      "[('p', 'http://www.wikidata.org/prop/direct/P664'), ('name', 'organizer')]\n",
      "[('p', 'http://www.wikidata.org/prop/direct/P710'), ('name', 'participant')]\n",
      "[('p', 'http://www.wikidata.org/prop/direct/P793'), ('name', 'significant event')]\n",
      "[('p', 'http://www.wikidata.org/prop/direct/P822'), ('name', 'mascot')]\n",
      "[('p', 'http://www.wikidata.org/prop/direct/P856'), ('name', 'official website')]\n",
      "[('p', 'http://www.wikidata.org/prop/direct/P910'), ('name', \"topic's main category\")]\n",
      "[('p', 'http://www.wikidata.org/prop/direct/P948'), ('name', 'page banner')]\n",
      "[('p', 'http://www.wikidata.org/prop/direct/P973'), ('name', 'described at URL')]\n",
      "19\n"
     ]
    }
   ],
   "source": [
    "# properties of summer olympics 2012 (wd:Q8577). IRI found in a previous query.\n",
    "queryString = \"\"\"\n",
    "SELECT DISTINCT ?p ?name\n",
    "WHERE {\n",
    "   # bind something\n",
    "   wd:Q8577 ?p ?obj .\n",
    "   # get the label\n",
    "   ?p sc:name ?name.\n",
    "   FILTER (!isLiteral(?obj))\n",
    "}\n",
    "LIMIT 20\n",
    "\"\"\"\n",
    "\n",
    "print(\"Results\")\n",
    "x=run_query(queryString)"
   ]
  },
  {
   "cell_type": "code",
   "execution_count": 11,
   "id": "8558181f-61f6-4aad-bfc0-b923ae23caff",
   "metadata": {},
   "outputs": [
    {
     "name": "stdout",
     "output_type": "stream",
     "text": [
      "Results\n",
      "[('obj', 'http://www.wikidata.org/entity/Q1146933'), ('name', '2012 Summer Olympics closing ceremony')]\n",
      "[('obj', 'http://www.wikidata.org/entity/Q168545'), ('name', '2012 Summer Olympics opening ceremony')]\n",
      "[('obj', 'http://www.wikidata.org/entity/Q6671078'), ('name', 'London bid for the 2012 Summer Olympics')]\n",
      "3\n"
     ]
    }
   ],
   "source": [
    "# significant event (wdt:P793) of summer olympics 2012 (wd:Q8577)\n",
    "queryString = \"\"\"\n",
    "SELECT DISTINCT ?obj ?name\n",
    "WHERE {\n",
    "   # bind something\n",
    "   wd:Q8577 wdt:P793 ?obj .\n",
    "   # get the label\n",
    "   ?obj sc:name ?name.\n",
    "\n",
    "}\n",
    "LIMIT 20\n",
    "\"\"\"\n",
    "\n",
    "print(\"Results\")\n",
    "x=run_query(queryString)"
   ]
  },
  {
   "cell_type": "code",
   "execution_count": 12,
   "id": "5309135b-64d2-41df-b0e3-c8a57b555d3a",
   "metadata": {},
   "outputs": [
    {
     "name": "stdout",
     "output_type": "stream",
     "text": [
      "Results\n",
      "[('p', 'http://www.wikidata.org/prop/direct/P106'), ('name', 'occupation')]\n",
      "[('p', 'http://www.wikidata.org/prop/direct/P118'), ('name', 'league')]\n",
      "[('p', 'http://www.wikidata.org/prop/direct/P1207'), ('name', 'NUKAT ID')]\n",
      "[('p', 'http://www.wikidata.org/prop/direct/P1263'), ('name', 'NNDB people ID')]\n",
      "[('p', 'http://www.wikidata.org/prop/direct/P1280'), ('name', 'CONOR.SI ID')]\n",
      "[('p', 'http://www.wikidata.org/prop/direct/P1285'), ('name', 'Munzinger Sport number')]\n",
      "[('p', 'http://www.wikidata.org/prop/direct/P1344'), ('name', 'participant in')]\n",
      "[('p', 'http://www.wikidata.org/prop/direct/P1411'), ('name', 'nominated for')]\n",
      "[('p', 'http://www.wikidata.org/prop/direct/P1412'), ('name', 'languages spoken, written or signed')]\n",
      "[('p', 'http://www.wikidata.org/prop/direct/P1417'), ('name', 'Encyclopædia Britannica Online ID')]\n",
      "[('p', 'http://www.wikidata.org/prop/direct/P1447'), ('name', 'Sports-Reference.com Olympic athlete ID')]\n",
      "[('p', 'http://www.wikidata.org/prop/direct/P1532'), ('name', 'country for sport')]\n",
      "[('p', 'http://www.wikidata.org/prop/direct/P1559'), ('name', 'name in native language')]\n",
      "[('p', 'http://www.wikidata.org/prop/direct/P1618'), ('name', 'sport number')]\n",
      "[('p', 'http://www.wikidata.org/prop/direct/P166'), ('name', 'award received')]\n",
      "[('p', 'http://www.wikidata.org/prop/direct/P172'), ('name', 'ethnic group')]\n",
      "[('p', 'http://www.wikidata.org/prop/direct/P1741'), ('name', 'GTAA ID')]\n",
      "[('p', 'http://www.wikidata.org/prop/direct/P18'), ('name', 'image')]\n",
      "[('p', 'http://www.wikidata.org/prop/direct/P19'), ('name', 'place of birth')]\n",
      "[('p', 'http://www.wikidata.org/prop/direct/P1953'), ('name', 'Discogs artist ID')]\n",
      "[('p', 'http://www.wikidata.org/prop/direct/P2002'), ('name', 'Twitter username')]\n",
      "[('p', 'http://www.wikidata.org/prop/direct/P2003'), ('name', 'Instagram username')]\n",
      "[('p', 'http://www.wikidata.org/prop/direct/P2013'), ('name', 'Facebook ID')]\n",
      "[('p', 'http://www.wikidata.org/prop/direct/P2031'), ('name', 'work period (start)')]\n",
      "[('p', 'http://www.wikidata.org/prop/direct/P2048'), ('name', 'height')]\n",
      "[('p', 'http://www.wikidata.org/prop/direct/P2067'), ('name', 'mass')]\n",
      "[('p', 'http://www.wikidata.org/prop/direct/P2094'), ('name', 'competition class')]\n",
      "[('p', 'http://www.wikidata.org/prop/direct/P21'), ('name', 'sex or gender')]\n",
      "[('p', 'http://www.wikidata.org/prop/direct/P214'), ('name', 'VIAF ID')]\n",
      "[('p', 'http://www.wikidata.org/prop/direct/P2163'), ('name', 'FAST ID')]\n",
      "[('p', 'http://www.wikidata.org/prop/direct/P2373'), ('name', 'Genius artist ID')]\n",
      "[('p', 'http://www.wikidata.org/prop/direct/P244'), ('name', 'Library of Congress authority ID')]\n",
      "[('p', 'http://www.wikidata.org/prop/direct/P26'), ('name', 'spouse')]\n",
      "[('p', 'http://www.wikidata.org/prop/direct/P2600'), ('name', 'Geni.com profile ID')]\n",
      "[('p', 'http://www.wikidata.org/prop/direct/P2605'), ('name', 'ČSFD person ID')]\n",
      "[('p', 'http://www.wikidata.org/prop/direct/P2638'), ('name', 'TV.com ID')]\n",
      "[('p', 'http://www.wikidata.org/prop/direct/P27'), ('name', 'country of citizenship')]\n",
      "[('p', 'http://www.wikidata.org/prop/direct/P2924'), ('name', 'Great Russian Encyclopedia Online ID')]\n",
      "[('p', 'http://www.wikidata.org/prop/direct/P31'), ('name', 'instance of')]\n",
      "[('p', 'http://www.wikidata.org/prop/direct/P3171'), ('name', 'Olympic.org athlete ID (archived version)')]\n",
      "[('p', 'http://www.wikidata.org/prop/direct/P3219'), ('name', 'Encyclopædia Universalis ID')]\n",
      "[('p', 'http://www.wikidata.org/prop/direct/P3221'), ('name', 'New York Times topic ID')]\n",
      "[('p', 'http://www.wikidata.org/prop/direct/P3222'), ('name', 'NE.se ID')]\n",
      "[('p', 'http://www.wikidata.org/prop/direct/P3388'), ('name', 'LittleSis people ID')]\n",
      "[('p', 'http://www.wikidata.org/prop/direct/P3417'), ('name', 'Quora topic ID')]\n",
      "[('p', 'http://www.wikidata.org/prop/direct/P345'), ('name', 'IMDb ID')]\n",
      "[('p', 'http://www.wikidata.org/prop/direct/P3527'), ('name', 'Eurobasket.com player ID')]\n",
      "[('p', 'http://www.wikidata.org/prop/direct/P3542'), ('name', 'FIBA player ID')]\n",
      "[('p', 'http://www.wikidata.org/prop/direct/P3553'), ('name', 'Zhihu topic ID')]\n",
      "[('p', 'http://www.wikidata.org/prop/direct/P373'), ('name', 'Commons category')]\n",
      "[('p', 'http://www.wikidata.org/prop/direct/P3762'), ('name', 'openMLOL author ID')]\n",
      "[('p', 'http://www.wikidata.org/prop/direct/P3957'), ('name', 'RealGM basketball player ID')]\n",
      "[('p', 'http://www.wikidata.org/prop/direct/P40'), ('name', 'child')]\n",
      "[('p', 'http://www.wikidata.org/prop/direct/P4063'), ('name', 'United States Olympic & Paralympic Committee athlete ID')]\n",
      "[('p', 'http://www.wikidata.org/prop/direct/P413'), ('name', 'position played on team / speciality')]\n",
      "[('p', 'http://www.wikidata.org/prop/direct/P434'), ('name', 'MusicBrainz artist ID')]\n",
      "[('p', 'http://www.wikidata.org/prop/direct/P4342'), ('name', 'Store norske leksikon ID')]\n",
      "[('p', 'http://www.wikidata.org/prop/direct/P4657'), ('name', 'The Numbers person ID')]\n",
      "[('p', 'http://www.wikidata.org/prop/direct/P4666'), ('name', 'CineMagia person ID')]\n",
      "[('p', 'http://www.wikidata.org/prop/direct/P4790'), ('name', 'Basketball-Reference.com international player ID')]\n",
      "[('p', 'http://www.wikidata.org/prop/direct/P4985'), ('name', 'TMDb person ID')]\n",
      "[('p', 'http://www.wikidata.org/prop/direct/P5007'), ('name', 'Behind The Voice Actors person ID')]\n",
      "[('p', 'http://www.wikidata.org/prop/direct/P5008'), ('name', 'on focus list of Wikimedia project')]\n",
      "[('p', 'http://www.wikidata.org/prop/direct/P54'), ('name', 'member of sports team')]\n",
      "[('p', 'http://www.wikidata.org/prop/direct/P5421'), ('name', 'Trading Card Database person ID')]\n",
      "[('p', 'http://www.wikidata.org/prop/direct/P551'), ('name', 'residence')]\n",
      "[('p', 'http://www.wikidata.org/prop/direct/P5617'), ('name', 'Evene ID')]\n",
      "[('p', 'http://www.wikidata.org/prop/direct/P569'), ('name', 'date of birth')]\n",
      "[('p', 'http://www.wikidata.org/prop/direct/P5815'), ('name', 'Olympics.com athlete ID')]\n",
      "[('p', 'http://www.wikidata.org/prop/direct/P5882'), ('name', 'Muziekweb performer ID')]\n",
      "[('p', 'http://www.wikidata.org/prop/direct/P6327'), ('name', 'Goodreads character ID')]\n",
      "[('p', 'http://www.wikidata.org/prop/direct/P641'), ('name', 'sport')]\n",
      "[('p', 'http://www.wikidata.org/prop/direct/P646'), ('name', 'Freebase ID')]\n",
      "[('p', 'http://www.wikidata.org/prop/direct/P6517'), ('name', 'WhoSampled artist ID')]\n",
      "[('p', 'http://www.wikidata.org/prop/direct/P6723'), ('name', 'BlackPast.org ID')]\n",
      "[('p', 'http://www.wikidata.org/prop/direct/P6868'), ('name', 'Hoopla artist ID')]\n",
      "[('p', 'http://www.wikidata.org/prop/direct/P69'), ('name', 'educated at')]\n",
      "[('p', 'http://www.wikidata.org/prop/direct/P7293'), ('name', 'PLWABN ID')]\n",
      "[('p', 'http://www.wikidata.org/prop/direct/P734'), ('name', 'family name')]\n",
      "[('p', 'http://www.wikidata.org/prop/direct/P735'), ('name', 'given name')]\n",
      "[('p', 'http://www.wikidata.org/prop/direct/P7644'), ('name', 'Encyclopedia of Cleveland History ID')]\n",
      "[('p', 'http://www.wikidata.org/prop/direct/P7818'), ('name', 'French Vikidia ID')]\n",
      "[('p', 'http://www.wikidata.org/prop/direct/P7832'), ('name', 'Basque Vikidia ID')]\n",
      "[('p', 'http://www.wikidata.org/prop/direct/P7859'), ('name', 'WorldCat Identities ID')]\n",
      "[('p', 'http://www.wikidata.org/prop/direct/P8125'), ('name', 'Fandango person ID')]\n",
      "[('p', 'http://www.wikidata.org/prop/direct/P8286'), ('name', 'Olympedia people ID')]\n",
      "[('p', 'http://www.wikidata.org/prop/direct/P8548'), ('name', 'Proballers ID')]\n",
      "[('p', 'http://www.wikidata.org/prop/direct/P856'), ('name', 'official website')]\n",
      "[('p', 'http://www.wikidata.org/prop/direct/P8672'), ('name', 'Twitter topic ID')]\n",
      "[('p', 'http://www.wikidata.org/prop/direct/P8687'), ('name', 'social media followers')]\n",
      "[('p', 'http://www.wikidata.org/prop/direct/P910'), ('name', \"topic's main category\")]\n",
      "[('p', 'http://www.wikidata.org/prop/direct/P935'), ('name', 'Commons gallery')]\n",
      "[('p', 'http://www.wikidata.org/prop/direct/P950'), ('name', 'Biblioteca Nacional de España ID')]\n",
      "[('p', 'http://www.wikidata.org/prop/direct/P9743'), ('name', 'Podchaser creator ID')]\n",
      "[('p', 'http://www.wikidata.org/prop/direct/P2685'), ('name', 'Basketball Reference NBA player ID')]\n",
      "[('p', 'http://www.wikidata.org/prop/direct/P3533'), ('name', 'DraftExpress ID')]\n",
      "[('p', 'http://www.wikidata.org/prop/direct/P3647'), ('name', 'NBA.com player ID')]\n",
      "[('p', 'http://www.wikidata.org/prop/direct/P3685'), ('name', 'ESPN.com NBA player ID')]\n",
      "[('p', 'http://www.wikidata.org/prop/direct/P647'), ('name', 'drafted by')]\n",
      "[('p', 'http://www.wikidata.org/prop/direct/P7339'), ('name', 'Rivals.com ID')]\n",
      "[('p', 'http://www.wikidata.org/prop/direct/P7397'), ('name', '247Sports ID')]\n",
      "101\n"
     ]
    }
   ],
   "source": [
    "# not working... increase limit of Lebron James properties\n",
    "queryString = \"\"\"\n",
    "SELECT DISTINCT ?p ?name\n",
    "WHERE {\n",
    "   # bind something\n",
    "   wd:Q36159 ?p ?obj .\n",
    "   # get the label\n",
    "   ?p sc:name ?name.\n",
    "}\n",
    "LIMIT 200\n",
    "\"\"\"\n",
    "\n",
    "print(\"Results\")\n",
    "x=run_query(queryString)"
   ]
  },
  {
   "cell_type": "code",
   "execution_count": 13,
   "id": "5b42d031-3080-4bdb-9716-ea1f33fcc9cd",
   "metadata": {},
   "outputs": [
    {
     "name": "stdout",
     "output_type": "stream",
     "text": [
      "Results\n",
      "[('obj', 'http://www.wikidata.org/entity/Q169138'), ('name', 'Miami Heat')]\n",
      "[('obj', 'http://www.wikidata.org/entity/Q121783'), ('name', 'Los Angeles Lakers')]\n",
      "[('obj', 'http://www.wikidata.org/entity/Q162990'), ('name', 'Cleveland Cavaliers')]\n",
      "3\n"
     ]
    }
   ],
   "source": [
    "# Lebron James \"member of the sports team\" (wdt:P54)\n",
    "queryString = \"\"\"\n",
    "SELECT DISTINCT ?obj ?name\n",
    "WHERE {\n",
    "   # bind something\n",
    "   wd:Q36159 wdt:P54 ?obj .\n",
    "   # get the label\n",
    "   ?obj sc:name ?name.\n",
    "}\n",
    "LIMIT 20\n",
    "\"\"\"\n",
    "\n",
    "print(\"Results\")\n",
    "x=run_query(queryString)"
   ]
  },
  {
   "cell_type": "code",
   "execution_count": 14,
   "id": "fd780ea7-9c3b-4bfb-b447-2be57a8c157f",
   "metadata": {},
   "outputs": [
    {
     "name": "stdout",
     "output_type": "stream",
     "text": [
      "Results\n",
      "[('obj', 'http://www.wikidata.org/entity/Q13393265'), ('name', 'basketball team')]\n",
      "1\n"
     ]
    }
   ],
   "source": [
    "# FINAL QUERY\n",
    "# Cleveland Cavaliers instance of\n",
    "queryString = \"\"\"\n",
    "SELECT DISTINCT ?obj ?name\n",
    "WHERE {\n",
    "   # bind something\n",
    "   wd:Q162990 wdt:P31 ?obj .\n",
    "   # get the label\n",
    "   ?obj sc:name ?name.\n",
    "}\n",
    "LIMIT 20\n",
    "\"\"\"\n",
    "\n",
    "print(\"Results\")\n",
    "x=run_query(queryString)"
   ]
  },
  {
   "cell_type": "markdown",
   "id": "83793278-79a2-43a6-be9c-90da39bb228c",
   "metadata": {},
   "source": [
    ">Cleveland Cavaliers is an instance of \"wd:Q13393265\" with label \"basketball team\""
   ]
  },
  {
   "cell_type": "markdown",
   "id": "c3256085",
   "metadata": {},
   "source": [
    "## Task 4\n",
    "Return all italian basketball teams born before 1945 (the result set must be a list of triples basketball team IRI, label and year of inception)."
   ]
  },
  {
   "cell_type": "code",
   "execution_count": 15,
   "id": "e92f3f94",
   "metadata": {},
   "outputs": [
    {
     "name": "stdout",
     "output_type": "stream",
     "text": [
      "Results\n",
      "[('obj', 'http://www.wikidata.org/entity/Q148'), ('name', \"People's Republic of China\")]\n",
      "1\n"
     ]
    }
   ],
   "source": [
    "# baketball team nationality. Not helpful..\n",
    "queryString = \"\"\"\n",
    "SELECT DISTINCT ?obj ?name\n",
    "WHERE {\n",
    "   ?team wdt:P31 wd:Q13393265;\n",
    "         wdt:P27 ?obj .\n",
    "   # get the label\n",
    "   ?obj sc:name ?name.\n",
    "}\n",
    "LIMIT 20\n",
    "\"\"\"\n",
    "\n",
    "print(\"Results\")\n",
    "x=run_query(queryString)"
   ]
  },
  {
   "cell_type": "code",
   "execution_count": 16,
   "id": "8d80d89c",
   "metadata": {},
   "outputs": [
    {
     "name": "stdout",
     "output_type": "stream",
     "text": [
      "Results\n",
      "[('p', 'http://www.wikidata.org/prop/direct/P1424'), ('name', \"topic's main template\")]\n",
      "[('p', 'http://www.wikidata.org/prop/direct/P279'), ('name', 'subclass of')]\n",
      "[('p', 'http://www.wikidata.org/prop/direct/P3417'), ('name', 'Quora topic ID')]\n",
      "[('p', 'http://www.wikidata.org/prop/direct/P373'), ('name', 'Commons category')]\n",
      "[('p', 'http://www.wikidata.org/prop/direct/P527'), ('name', 'has part')]\n",
      "[('p', 'http://www.wikidata.org/prop/direct/P641'), ('name', 'sport')]\n",
      "[('p', 'http://www.wikidata.org/prop/direct/P8408'), ('name', 'KBpedia ID')]\n",
      "[('p', 'http://www.wikidata.org/prop/direct/P910'), ('name', \"topic's main category\")]\n",
      "8\n"
     ]
    }
   ],
   "source": [
    "# basketball team properties. Not really what I should be looking for..\n",
    "queryString = \"\"\"\n",
    "SELECT DISTINCT ?p  ?name\n",
    "WHERE {\n",
    "   wd:Q13393265 ?p ?obj.\n",
    "   # get the label\n",
    "   ?p sc:name ?name.\n",
    "}\n",
    "LIMIT 20\n",
    "\"\"\"\n",
    "\n",
    "print(\"Results\")\n",
    "x=run_query(queryString)"
   ]
  },
  {
   "cell_type": "code",
   "execution_count": 17,
   "id": "9fe939f0-a662-41f3-ba30-b7cba45decdb",
   "metadata": {},
   "outputs": [
    {
     "name": "stdout",
     "output_type": "stream",
     "text": [
      "Results\n",
      "[('p', 'http://www.wikidata.org/prop/direct/P527'), ('name', 'has part'), ('obj', 'http://www.wikidata.org/entity/Q51747567'), ('objName', 'squad')]\n",
      "[('p', 'http://www.wikidata.org/prop/direct/P527'), ('name', 'has part'), ('obj', 'http://www.wikidata.org/entity/Q3665646'), ('objName', 'basketball player')]\n",
      "[('p', 'http://www.wikidata.org/prop/direct/P641'), ('name', 'sport'), ('obj', 'http://www.wikidata.org/entity/Q5372'), ('objName', 'basketball')]\n",
      "[('p', 'http://www.wikidata.org/prop/direct/P527'), ('name', 'has part'), ('obj', 'http://www.wikidata.org/entity/Q5137571'), ('objName', 'basketball coach')]\n",
      "[('p', 'http://www.wikidata.org/prop/direct/P279'), ('name', 'subclass of'), ('obj', 'http://www.wikidata.org/entity/Q847017'), ('objName', 'sports club')]\n",
      "[('p', 'http://www.wikidata.org/prop/direct/P279'), ('name', 'subclass of'), ('obj', 'http://www.wikidata.org/entity/Q12973014'), ('objName', 'sports team')]\n",
      "[('p', 'http://www.wikidata.org/prop/direct/P1424'), ('name', \"topic's main template\"), ('obj', 'http://www.wikidata.org/entity/Q5648512'), ('objName', 'Template:Infobox basketball club')]\n",
      "[('p', 'http://www.wikidata.org/prop/direct/P910'), ('name', \"topic's main category\"), ('obj', 'http://www.wikidata.org/entity/Q5647277'), ('objName', 'Category:Basketball teams')]\n",
      "8\n"
     ]
    }
   ],
   "source": [
    "# basketball team properties with some objects. Not really what I should be looking for..\n",
    "queryString = \"\"\"\n",
    "SELECT DISTINCT ?p ?name ?obj ?objName\n",
    "WHERE {\n",
    "   wd:Q13393265 ?p ?obj.\n",
    "   # get the label\n",
    "   ?p sc:name ?name.\n",
    "   ?obj sc:name ?objName.\n",
    "}\n",
    "LIMIT 20\n",
    "\"\"\"\n",
    "\n",
    "print(\"Results\")\n",
    "x=run_query(queryString)"
   ]
  },
  {
   "cell_type": "code",
   "execution_count": 18,
   "id": "01774c2f-ae44-4aaf-ab3f-803af84c4d01",
   "metadata": {},
   "outputs": [
    {
     "name": "stdout",
     "output_type": "stream",
     "text": [
      "Results\n",
      "[('p', 'http://www.wikidata.org/prop/direct/P115'), ('name', 'home venue')]\n",
      "[('p', 'http://www.wikidata.org/prop/direct/P118'), ('name', 'league')]\n",
      "[('p', 'http://www.wikidata.org/prop/direct/P127'), ('name', 'owned by')]\n",
      "[('p', 'http://www.wikidata.org/prop/direct/P1417'), ('name', 'Encyclopædia Britannica Online ID')]\n",
      "[('p', 'http://www.wikidata.org/prop/direct/P154'), ('name', 'logo image')]\n",
      "[('p', 'http://www.wikidata.org/prop/direct/P159'), ('name', 'headquarters location')]\n",
      "[('p', 'http://www.wikidata.org/prop/direct/P17'), ('name', 'country')]\n",
      "[('p', 'http://www.wikidata.org/prop/direct/P18'), ('name', 'image')]\n",
      "[('p', 'http://www.wikidata.org/prop/direct/P2002'), ('name', 'Twitter username')]\n",
      "[('p', 'http://www.wikidata.org/prop/direct/P214'), ('name', 'VIAF ID')]\n",
      "[('p', 'http://www.wikidata.org/prop/direct/P244'), ('name', 'Library of Congress authority ID')]\n",
      "[('p', 'http://www.wikidata.org/prop/direct/P286'), ('name', 'head coach')]\n",
      "[('p', 'http://www.wikidata.org/prop/direct/P31'), ('name', 'instance of')]\n",
      "[('p', 'http://www.wikidata.org/prop/direct/P3221'), ('name', 'New York Times topic ID')]\n",
      "[('p', 'http://www.wikidata.org/prop/direct/P3417'), ('name', 'Quora topic ID')]\n",
      "[('p', 'http://www.wikidata.org/prop/direct/P361'), ('name', 'part of')]\n",
      "[('p', 'http://www.wikidata.org/prop/direct/P373'), ('name', 'Commons category')]\n",
      "[('p', 'http://www.wikidata.org/prop/direct/P571'), ('name', 'inception')]\n",
      "[('p', 'http://www.wikidata.org/prop/direct/P641'), ('name', 'sport')]\n",
      "[('p', 'http://www.wikidata.org/prop/direct/P646'), ('name', 'Freebase ID')]\n",
      "20\n"
     ]
    }
   ],
   "source": [
    "# properties of Cleveland Cavaliers\n",
    "queryString = \"\"\"\n",
    "SELECT DISTINCT ?p ?name\n",
    "WHERE {\n",
    "   # bind something\n",
    "   wd:Q162990 ?p ?obj .\n",
    "   # get the label\n",
    "   ?p sc:name ?name.\n",
    "}\n",
    "LIMIT 20\n",
    "\"\"\"\n",
    "\n",
    "print(\"Results\")\n",
    "x=run_query(queryString)"
   ]
  },
  {
   "cell_type": "code",
   "execution_count": 19,
   "id": "48f67d16-8a56-4a60-b1c6-efbde9b47b16",
   "metadata": {},
   "outputs": [
    {
     "name": "stdout",
     "output_type": "stream",
     "text": [
      "Results\n",
      "[('obj', 'http://www.wikidata.org/entity/Q38'), ('objName', 'Italy')]\n",
      "1\n"
     ]
    }
   ],
   "source": [
    "# all possible countries of basketball team, filtering Italy.\n",
    "# Using predicate \"country\" (wdt:P17)\n",
    "queryString = \"\"\"\n",
    "SELECT DISTINCT ?obj ?objName\n",
    "WHERE {\n",
    "    ?team wdt:P31 wd:Q13393265;\n",
    "          wdt:P17 ?obj.\n",
    "    # get the label\n",
    "   ?obj sc:name ?objName.\n",
    "    \n",
    "    FILTER (str(?objName) = \"Italy\")\n",
    "\n",
    "}\n",
    "LIMIT 20\n",
    "\"\"\"\n",
    "\n",
    "print(\"Results\")\n",
    "x=run_query(queryString)"
   ]
  },
  {
   "cell_type": "code",
   "execution_count": 20,
   "id": "0a3a41bc-ecda-485d-b9d1-e17dab805e3e",
   "metadata": {},
   "outputs": [
    {
     "name": "stdout",
     "output_type": "stream",
     "text": [
      "Results\n",
      "[('p', 'http://www.wikidata.org/prop/direct/P4003'), ('pName', 'Facebook page ID')]\n",
      "[('p', 'http://www.wikidata.org/prop/direct/P115'), ('pName', 'home venue')]\n",
      "[('p', 'http://www.wikidata.org/prop/direct/P118'), ('pName', 'league')]\n",
      "[('p', 'http://www.wikidata.org/prop/direct/P127'), ('pName', 'owned by')]\n",
      "[('p', 'http://www.wikidata.org/prop/direct/P131'), ('pName', 'located in the administrative territorial entity')]\n",
      "[('p', 'http://www.wikidata.org/prop/direct/P1454'), ('pName', 'legal form')]\n",
      "[('p', 'http://www.wikidata.org/prop/direct/P154'), ('pName', 'logo image')]\n",
      "[('p', 'http://www.wikidata.org/prop/direct/P159'), ('pName', 'headquarters location')]\n",
      "[('p', 'http://www.wikidata.org/prop/direct/P166'), ('pName', 'award received')]\n",
      "[('p', 'http://www.wikidata.org/prop/direct/P17'), ('pName', 'country')]\n",
      "[('p', 'http://www.wikidata.org/prop/direct/P18'), ('pName', 'image')]\n",
      "[('p', 'http://www.wikidata.org/prop/direct/P2002'), ('pName', 'Twitter username')]\n",
      "[('p', 'http://www.wikidata.org/prop/direct/P2003'), ('pName', 'Instagram username')]\n",
      "[('p', 'http://www.wikidata.org/prop/direct/P2013'), ('pName', 'Facebook ID')]\n",
      "[('p', 'http://www.wikidata.org/prop/direct/P2094'), ('pName', 'competition class')]\n",
      "[('p', 'http://www.wikidata.org/prop/direct/P214'), ('pName', 'VIAF ID')]\n",
      "[('p', 'http://www.wikidata.org/prop/direct/P2348'), ('pName', 'time period')]\n",
      "[('p', 'http://www.wikidata.org/prop/direct/P2397'), ('pName', 'YouTube channel ID')]\n",
      "[('p', 'http://www.wikidata.org/prop/direct/P244'), ('pName', 'Library of Congress authority ID')]\n",
      "[('p', 'http://www.wikidata.org/prop/direct/P2522'), ('pName', 'victory')]\n",
      "[('p', 'http://www.wikidata.org/prop/direct/P2671'), ('pName', 'Google Knowledge Graph ID')]\n",
      "[('p', 'http://www.wikidata.org/prop/direct/P276'), ('pName', 'location')]\n",
      "[('p', 'http://www.wikidata.org/prop/direct/P286'), ('pName', 'head coach')]\n",
      "[('p', 'http://www.wikidata.org/prop/direct/P31'), ('pName', 'instance of')]\n",
      "[('p', 'http://www.wikidata.org/prop/direct/P3608'), ('pName', 'EU VAT number')]\n",
      "[('p', 'http://www.wikidata.org/prop/direct/P373'), ('pName', 'Commons category')]\n",
      "[('p', 'http://www.wikidata.org/prop/direct/P488'), ('pName', 'chairperson')]\n",
      "[('p', 'http://www.wikidata.org/prop/direct/P571'), ('pName', 'inception')]\n",
      "[('p', 'http://www.wikidata.org/prop/direct/P576'), ('pName', 'dissolved, abolished or demolished date')]\n",
      "[('p', 'http://www.wikidata.org/prop/direct/P582'), ('pName', 'end time')]\n",
      "[('p', 'http://www.wikidata.org/prop/direct/P585'), ('pName', 'point in time')]\n",
      "[('p', 'http://www.wikidata.org/prop/direct/P5995'), ('pName', 'kit supplier')]\n",
      "[('p', 'http://www.wikidata.org/prop/direct/P6112'), ('pName', 'category for members of a team')]\n",
      "[('p', 'http://www.wikidata.org/prop/direct/P641'), ('pName', 'sport')]\n",
      "[('p', 'http://www.wikidata.org/prop/direct/P646'), ('pName', 'Freebase ID')]\n",
      "[('p', 'http://www.wikidata.org/prop/direct/P749'), ('pName', 'parent organization')]\n",
      "[('p', 'http://www.wikidata.org/prop/direct/P7859'), ('pName', 'WorldCat Identities ID')]\n",
      "[('p', 'http://www.wikidata.org/prop/direct/P856'), ('pName', 'official website')]\n",
      "[('p', 'http://www.wikidata.org/prop/direct/P8687'), ('pName', 'social media followers')]\n",
      "[('p', 'http://www.wikidata.org/prop/direct/P910'), ('pName', \"topic's main category\")]\n",
      "[('p', 'http://www.wikidata.org/prop/direct/P968'), ('pName', 'email address')]\n",
      "[('p', 'http://www.wikidata.org/prop/direct/P505'), ('pName', 'general manager')]\n",
      "[('p', 'http://www.wikidata.org/prop/direct/P1280'), ('pName', 'CONOR.SI ID')]\n",
      "[('p', 'http://www.wikidata.org/prop/direct/P1416'), ('pName', 'affiliation')]\n",
      "[('p', 'http://www.wikidata.org/prop/direct/P155'), ('pName', 'follows')]\n",
      "[('p', 'http://www.wikidata.org/prop/direct/P6364'), ('pName', 'official color(s)')]\n",
      "[('p', 'http://www.wikidata.org/prop/direct/P859'), ('pName', 'sponsor')]\n",
      "47\n"
     ]
    }
   ],
   "source": [
    "# all possible properties of Italian basketball teams\n",
    "queryString = \"\"\"\n",
    "SELECT DISTINCT ?p ?pName\n",
    "WHERE {\n",
    "    ?team wdt:P31 wd:Q13393265;\n",
    "        wdt:P17 wd:Q38;\n",
    "        ?p ?obj.\n",
    "   # get the label\n",
    "   ?p sc:name ?pName.\n",
    "}\n",
    "LIMIT 200\n",
    "\"\"\"\n",
    "\n",
    "print(\"Results\")\n",
    "x=run_query(queryString)"
   ]
  },
  {
   "cell_type": "code",
   "execution_count": 21,
   "id": "432b29b9-ac5e-470e-8cf2-d92f600860f8",
   "metadata": {},
   "outputs": [
    {
     "name": "stdout",
     "output_type": "stream",
     "text": [
      "Results\n",
      "[('obj', '1945-01-01T00:00:00Z')]\n",
      "[('obj', '1970-01-01T00:00:00Z')]\n",
      "[('obj', '1961-01-01T00:00:00Z')]\n",
      "[('obj', '1948-01-01T00:00:00Z')]\n",
      "[('obj', '1994-01-01T00:00:00Z')]\n",
      "[('obj', '1974-01-01T00:00:00Z')]\n",
      "[('obj', '1949-01-01T00:00:00Z')]\n",
      "[('obj', '1951-01-01T00:00:00Z')]\n",
      "[('obj', '1967-01-01T00:00:00Z')]\n",
      "[('obj', '1975-01-01T00:00:00Z')]\n",
      "[('obj', '1946-01-01T00:00:00Z')]\n",
      "[('obj', '1966-01-01T00:00:00Z')]\n",
      "[('obj', '1947-01-01T00:00:00Z')]\n",
      "[('obj', '1943-01-01T00:00:00Z')]\n",
      "[('obj', '1977-01-01T00:00:00Z')]\n",
      "[('obj', '1960-01-01T00:00:00Z')]\n",
      "[('obj', '1932-01-01T00:00:00Z')]\n",
      "[('obj', '2011-01-01T00:00:00Z')]\n",
      "[('obj', '1976-01-01T00:00:00Z')]\n",
      "[('obj', '1978-01-01T00:00:00Z')]\n",
      "20\n"
     ]
    }
   ],
   "source": [
    "# inception (wdt:P571) of some random Italian teams to see the object formatting (the date)\n",
    "queryString = \"\"\"\n",
    "SELECT DISTINCT ?obj\n",
    "WHERE {\n",
    "    ?team wdt:P31 wd:Q13393265;\n",
    "        wdt:P17 wd:Q38;\n",
    "        wdt:P571 ?obj. \n",
    "}\n",
    "LIMIT 20\n",
    "\"\"\"\n",
    "\n",
    "print(\"Results\")\n",
    "x=run_query(queryString)"
   ]
  },
  {
   "cell_type": "code",
   "execution_count": 22,
   "id": "4a335266-2349-48be-a9b4-ceebc07b554d",
   "metadata": {},
   "outputs": [
    {
     "name": "stdout",
     "output_type": "stream",
     "text": [
      "Results\n",
      "[('team', 'http://www.wikidata.org/entity/Q16586535'), ('teamLabel', 'Pallacanestro Brindisi'), ('inceptionYear', '1945')]\n",
      "[('team', 'http://www.wikidata.org/entity/Q3891980'), ('teamLabel', 'Nuova Pallacanestro Pavia'), ('inceptionYear', '1943')]\n",
      "[('team', 'http://www.wikidata.org/entity/Q36551'), ('teamLabel', 'Pallacanestro Varese'), ('inceptionYear', '1945')]\n",
      "[('team', 'http://www.wikidata.org/entity/Q1139737'), ('teamLabel', 'Fortitudo Pallacanestro Bologna'), ('inceptionYear', '1932')]\n",
      "[('team', 'http://www.wikidata.org/entity/Q36362'), ('teamLabel', 'Olimpia Milano'), ('inceptionYear', '1936')]\n",
      "[('team', 'http://www.wikidata.org/entity/Q36500'), ('teamLabel', 'Mens Sana Basket'), ('inceptionYear', '1861')]\n",
      "[('team', 'http://www.wikidata.org/entity/Q36264'), ('teamLabel', 'Virtus Pallacanestro Bologna'), ('inceptionYear', '1927')]\n",
      "[('team', 'http://www.wikidata.org/entity/Q36311'), ('teamLabel', 'Pallacanestro Cantù'), ('inceptionYear', '1936')]\n",
      "[('team', 'http://www.wikidata.org/entity/Q7127695'), ('teamLabel', 'Pallacanestro Pavia'), ('inceptionYear', '1943')]\n",
      "[('team', 'http://www.wikidata.org/entity/Q3754192'), ('teamLabel', 'Fulgor Omegna'), ('inceptionYear', '1937')]\n",
      "[('team', 'http://www.wikidata.org/entity/Q36572'), ('teamLabel', 'Reyer Venezia Mestre'), ('inceptionYear', '1925')]\n",
      "[('team', 'http://www.wikidata.org/entity/Q961782'), ('teamLabel', 'Pallacanestro Petrarca Padova'), ('inceptionYear', '1934')]\n",
      "[('team', 'http://www.wikidata.org/entity/Q3972903'), ('teamLabel', 'Stella Azzurra Roma'), ('inceptionYear', '1938')]\n",
      "[('team', 'http://www.wikidata.org/entity/Q51327338'), ('teamLabel', 'Gruppo Sportivo Bernocchi'), ('inceptionYear', '1945')]\n",
      "[('team', 'http://www.wikidata.org/entity/Q3747654'), ('teamLabel', 'F.C. Internazionale Milano (basketball)'), ('inceptionYear', '1908')]\n",
      "15\n"
     ]
    }
   ],
   "source": [
    "# inception year of italian basketball teams before 1945\n",
    "# Not really sure why it's including also teams born in 1945. The solution would be \n",
    "# FILTER (xsd:gYear(?date)<xsd:gYear(\"1944\")) \n",
    "queryString = \"\"\"\n",
    "SELECT DISTINCT ?team ?teamLabel (year(?date) as ?inceptionYear)\n",
    "WHERE {\n",
    "    ?team wdt:P31 wd:Q13393265;\n",
    "        wdt:P17 wd:Q38;\n",
    "        wdt:P571 ?date.\n",
    "   # get the label\n",
    "   ?team sc:name ?teamLabel\n",
    "   FILTER (xsd:gYear(?date)<xsd:gYear(\"1945\"))\n",
    "   \n",
    "\n",
    "}\n",
    "LIMIT 20\n",
    "\"\"\"\n",
    "\n",
    "print(\"Results\")\n",
    "x=run_query(queryString)"
   ]
  },
  {
   "cell_type": "code",
   "execution_count": 23,
   "id": "f1c99fb4-4a10-4f6d-9f69-a57892f4f5ca",
   "metadata": {},
   "outputs": [
    {
     "name": "stdout",
     "output_type": "stream",
     "text": [
      "Results\n",
      "[('team', 'http://www.wikidata.org/entity/Q3891980'), ('teamLabel', 'Nuova Pallacanestro Pavia'), ('inceptionYear', '1943')]\n",
      "[('team', 'http://www.wikidata.org/entity/Q1139737'), ('teamLabel', 'Fortitudo Pallacanestro Bologna'), ('inceptionYear', '1932')]\n",
      "[('team', 'http://www.wikidata.org/entity/Q36362'), ('teamLabel', 'Olimpia Milano'), ('inceptionYear', '1936')]\n",
      "[('team', 'http://www.wikidata.org/entity/Q36500'), ('teamLabel', 'Mens Sana Basket'), ('inceptionYear', '1861')]\n",
      "[('team', 'http://www.wikidata.org/entity/Q36264'), ('teamLabel', 'Virtus Pallacanestro Bologna'), ('inceptionYear', '1927')]\n",
      "[('team', 'http://www.wikidata.org/entity/Q36311'), ('teamLabel', 'Pallacanestro Cantù'), ('inceptionYear', '1936')]\n",
      "[('team', 'http://www.wikidata.org/entity/Q7127695'), ('teamLabel', 'Pallacanestro Pavia'), ('inceptionYear', '1943')]\n",
      "[('team', 'http://www.wikidata.org/entity/Q3754192'), ('teamLabel', 'Fulgor Omegna'), ('inceptionYear', '1937')]\n",
      "[('team', 'http://www.wikidata.org/entity/Q36572'), ('teamLabel', 'Reyer Venezia Mestre'), ('inceptionYear', '1925')]\n",
      "[('team', 'http://www.wikidata.org/entity/Q961782'), ('teamLabel', 'Pallacanestro Petrarca Padova'), ('inceptionYear', '1934')]\n",
      "[('team', 'http://www.wikidata.org/entity/Q3972903'), ('teamLabel', 'Stella Azzurra Roma'), ('inceptionYear', '1938')]\n",
      "[('team', 'http://www.wikidata.org/entity/Q3747654'), ('teamLabel', 'F.C. Internazionale Milano (basketball)'), ('inceptionYear', '1908')]\n",
      "12\n"
     ]
    }
   ],
   "source": [
    "# FINAL QUERY\n",
    "# inception year of italian basketball teams before 1945\n",
    "# Look at the comments of the previous query\n",
    "queryString = \"\"\"\n",
    "SELECT DISTINCT ?team ?teamLabel (year(?date) as ?inceptionYear)\n",
    "WHERE {\n",
    "    ?team wdt:P31 wd:Q13393265;\n",
    "        wdt:P17 wd:Q38;\n",
    "        wdt:P571 ?date.\n",
    "   # get the label\n",
    "   ?team sc:name ?teamLabel\n",
    "   FILTER (xsd:gYear(?date)<xsd:gYear(\"1944\"))\n",
    "   \n",
    "\n",
    "}\n",
    "LIMIT 20\n",
    "\"\"\"\n",
    "\n",
    "print(\"Results\")\n",
    "x=run_query(queryString)"
   ]
  },
  {
   "cell_type": "markdown",
   "id": "16da1819-671c-420f-a30d-6d92894f3ae2",
   "metadata": {},
   "source": [
    ">Results in the format \"Team IRI\" - \"Team Label\" - \"Inception year\""
   ]
  },
  {
   "cell_type": "markdown",
   "id": "e978154a",
   "metadata": {},
   "source": [
    "## Task 5\n",
    "Identify the BGP for NBA finals"
   ]
  },
  {
   "cell_type": "code",
   "execution_count": 24,
   "id": "ec4fd9ed-5c80-490e-895b-11f5803d938d",
   "metadata": {},
   "outputs": [
    {
     "name": "stdout",
     "output_type": "stream",
     "text": [
      "Results\n",
      "[('league', 'http://www.wikidata.org/entity/Q155223'), ('name', 'National Basketball Association')]\n",
      "1\n"
     ]
    }
   ],
   "source": [
    "# Cleveland Cavaliers league\n",
    "queryString = \"\"\"\n",
    "SELECT DISTINCT ?league ?name\n",
    "WHERE {\n",
    "   # bind something\n",
    "   wd:Q162990 wdt:P118 ?league .\n",
    "   # get the label\n",
    "   ?league sc:name ?name.\n",
    "}\n",
    "LIMIT 20\n",
    "\"\"\"\n",
    "\n",
    "print(\"Results\")\n",
    "x=run_query(queryString)"
   ]
  },
  {
   "cell_type": "code",
   "execution_count": 25,
   "id": "354798a8-2dfc-41fd-811a-52638451a826",
   "metadata": {},
   "outputs": [
    {
     "name": "stdout",
     "output_type": "stream",
     "text": [
      "Results\n",
      "[('p', 'http://www.wikidata.org/prop/direct/P6118'), ('name', 'season ends')]\n",
      "[('p', 'http://www.wikidata.org/prop/direct/P1132'), ('name', 'number of participants')]\n",
      "[('p', 'http://www.wikidata.org/prop/direct/P1273'), ('name', 'CANTIC ID')]\n",
      "[('p', 'http://www.wikidata.org/prop/direct/P1346'), ('name', 'winner')]\n",
      "[('p', 'http://www.wikidata.org/prop/direct/P1365'), ('name', 'replaces')]\n",
      "[('p', 'http://www.wikidata.org/prop/direct/P1417'), ('name', 'Encyclopædia Britannica Online ID')]\n",
      "[('p', 'http://www.wikidata.org/prop/direct/P1424'), ('name', \"topic's main template\")]\n",
      "[('p', 'http://www.wikidata.org/prop/direct/P154'), ('name', 'logo image')]\n",
      "[('p', 'http://www.wikidata.org/prop/direct/P1687'), ('name', 'Wikidata property')]\n",
      "[('p', 'http://www.wikidata.org/prop/direct/P17'), ('name', 'country')]\n",
      "[('p', 'http://www.wikidata.org/prop/direct/P18'), ('name', 'image')]\n",
      "[('p', 'http://www.wikidata.org/prop/direct/P1830'), ('name', 'owner of')]\n",
      "[('p', 'http://www.wikidata.org/prop/direct/P2002'), ('name', 'Twitter username')]\n",
      "[('p', 'http://www.wikidata.org/prop/direct/P2003'), ('name', 'Instagram username')]\n",
      "[('p', 'http://www.wikidata.org/prop/direct/P2013'), ('name', 'Facebook ID')]\n",
      "[('p', 'http://www.wikidata.org/prop/direct/P2088'), ('name', 'Crunchbase organization ID')]\n",
      "[('p', 'http://www.wikidata.org/prop/direct/P2094'), ('name', 'competition class')]\n",
      "[('p', 'http://www.wikidata.org/prop/direct/P213'), ('name', 'ISNI')]\n",
      "[('p', 'http://www.wikidata.org/prop/direct/P214'), ('name', 'VIAF ID')]\n",
      "[('p', 'http://www.wikidata.org/prop/direct/P2184'), ('name', 'history of topic')]\n",
      "[('p', 'http://www.wikidata.org/prop/direct/P2257'), ('name', 'event interval')]\n",
      "[('p', 'http://www.wikidata.org/prop/direct/P227'), ('name', 'GND ID')]\n",
      "[('p', 'http://www.wikidata.org/prop/direct/P2397'), ('name', 'YouTube channel ID')]\n",
      "[('p', 'http://www.wikidata.org/prop/direct/P244'), ('name', 'Library of Congress authority ID')]\n",
      "[('p', 'http://www.wikidata.org/prop/direct/P2500'), ('name', 'league level below')]\n",
      "[('p', 'http://www.wikidata.org/prop/direct/P268'), ('name', 'Bibliothèque nationale de France ID')]\n",
      "[('p', 'http://www.wikidata.org/prop/direct/P269'), ('name', 'IdRef ID')]\n",
      "[('p', 'http://www.wikidata.org/prop/direct/P2924'), ('name', 'Great Russian Encyclopedia Online ID')]\n",
      "[('p', 'http://www.wikidata.org/prop/direct/P31'), ('name', 'instance of')]\n",
      "[('p', 'http://www.wikidata.org/prop/direct/P3219'), ('name', 'Encyclopædia Universalis ID')]\n",
      "[('p', 'http://www.wikidata.org/prop/direct/P3221'), ('name', 'New York Times topic ID')]\n",
      "[('p', 'http://www.wikidata.org/prop/direct/P3417'), ('name', 'Quora topic ID')]\n",
      "[('p', 'http://www.wikidata.org/prop/direct/P3500'), ('name', 'Ringgold ID')]\n",
      "[('p', 'http://www.wikidata.org/prop/direct/P3553'), ('name', 'Zhihu topic ID')]\n",
      "[('p', 'http://www.wikidata.org/prop/direct/P373'), ('name', 'Commons category')]\n",
      "[('p', 'http://www.wikidata.org/prop/direct/P3984'), ('name', 'subreddit')]\n",
      "[('p', 'http://www.wikidata.org/prop/direct/P4013'), ('name', 'Giphy username')]\n",
      "[('p', 'http://www.wikidata.org/prop/direct/P434'), ('name', 'MusicBrainz artist ID')]\n",
      "[('p', 'http://www.wikidata.org/prop/direct/P4794'), ('name', 'season starts')]\n",
      "[('p', 'http://www.wikidata.org/prop/direct/P527'), ('name', 'has part')]\n",
      "[('p', 'http://www.wikidata.org/prop/direct/P571'), ('name', 'inception')]\n",
      "[('p', 'http://www.wikidata.org/prop/direct/P641'), ('name', 'sport')]\n",
      "[('p', 'http://www.wikidata.org/prop/direct/P646'), ('name', 'Freebase ID')]\n",
      "[('p', 'http://www.wikidata.org/prop/direct/P691'), ('name', 'NKCR AUT ID')]\n",
      "[('p', 'http://www.wikidata.org/prop/direct/P7085'), ('name', 'TikTok username')]\n",
      "[('p', 'http://www.wikidata.org/prop/direct/P7859'), ('name', 'WorldCat Identities ID')]\n",
      "[('p', 'http://www.wikidata.org/prop/direct/P8309'), ('name', 'Yle topic ID')]\n",
      "[('p', 'http://www.wikidata.org/prop/direct/P8408'), ('name', 'KBpedia ID')]\n",
      "[('p', 'http://www.wikidata.org/prop/direct/P856'), ('name', 'official website')]\n",
      "[('p', 'http://www.wikidata.org/prop/direct/P8672'), ('name', 'Twitter topic ID')]\n",
      "[('p', 'http://www.wikidata.org/prop/direct/P8687'), ('name', 'social media followers')]\n",
      "[('p', 'http://www.wikidata.org/prop/direct/P9035'), ('name', 'Muck Rack media outlet ID')]\n",
      "[('p', 'http://www.wikidata.org/prop/direct/P910'), ('name', \"topic's main category\")]\n",
      "[('p', 'http://www.wikidata.org/prop/direct/P9346'), ('name', 'France24 topic ID (French)')]\n",
      "[('p', 'http://www.wikidata.org/prop/direct/P9368'), ('name', 'CNA topic ID')]\n",
      "[('p', 'http://www.wikidata.org/prop/direct/P3579'), ('name', 'Sina Weibo user ID')]\n",
      "56\n"
     ]
    }
   ],
   "source": [
    "# NBA properties\n",
    "queryString = \"\"\"\n",
    "SELECT DISTINCT ?p ?name\n",
    "WHERE {\n",
    "   # bind something\n",
    "   wd:Q155223 ?p ?obj.\n",
    "   # get the label\n",
    "   ?p sc:name ?name.\n",
    "}\n",
    "LIMIT 200\n",
    "\"\"\"\n",
    "\n",
    "print(\"Results\")\n",
    "x=run_query(queryString)"
   ]
  },
  {
   "cell_type": "code",
   "execution_count": 26,
   "id": "1e48430a",
   "metadata": {},
   "outputs": [
    {
     "name": "stdout",
     "output_type": "stream",
     "text": [
      "Results\n",
      "[('obj', 'http://www.wikidata.org/entity/Q238240'), ('name', 'Eastern Conference')]\n",
      "[('obj', 'http://www.wikidata.org/entity/Q118'), ('name', 'April')]\n",
      "[('obj', 'http://www.wikidata.org/entity/Q46343203'), ('name', \"men's basketball\")]\n",
      "[('obj', 'http://www.wikidata.org/entity/Q121783'), ('name', 'Los Angeles Lakers')]\n",
      "[('obj', 'http://www.wikidata.org/entity/Q318389'), ('name', 'Western Conference')]\n",
      "[('obj', 'http://www.wikidata.org/entity/Q8663448'), ('name', 'Category:National Basketball Association')]\n",
      "6\n"
     ]
    }
   ],
   "source": [
    "# NBA \"season ends\" (wdt:P6118), \"winner\" (wdt:P1346), \"competition class\" (wdt:P2094), \"event interval\" (wdt:P2257),\n",
    "# \"has part\" (wdt:P527), \"topic's main category\" (wdt:P910), \"history of topic\" (wdt:P2184)\n",
    "queryString = \"\"\"\n",
    "SELECT DISTINCT ?obj ?name\n",
    "WHERE {\n",
    "   # bind something\n",
    "   wd:Q155223 ?p ?obj.\n",
    "   # get the label\n",
    "   ?obj sc:name ?name.\n",
    "   VALUES ?p {wdt:P6118 wdt:P1346 wdt:P2094 wdt:P2257 wdt:P527 wdt:P910 wdt:P2184}\n",
    "}\n",
    "LIMIT 20\n",
    "\"\"\"\n",
    "\n",
    "print(\"Results\")\n",
    "x=run_query(queryString)"
   ]
  },
  {
   "cell_type": "code",
   "execution_count": 27,
   "id": "74f576d2",
   "metadata": {},
   "outputs": [
    {
     "name": "stdout",
     "output_type": "stream",
     "text": [
      "Results\n",
      "[('p', 'http://www.wikidata.org/prop/direct/P17'), ('pname', 'country'), ('obj', 'http://www.wikidata.org/entity/Q30'), ('name', 'United States of America')]\n",
      "[('p', 'http://www.wikidata.org/prop/direct/P641'), ('pname', 'sport'), ('obj', 'http://www.wikidata.org/entity/Q5372'), ('name', 'basketball')]\n",
      "[('p', 'http://www.wikidata.org/prop/direct/P159'), ('pname', 'headquarters location'), ('obj', 'http://www.wikidata.org/entity/Q65'), ('name', 'Los Angeles')]\n",
      "[('p', 'http://www.wikidata.org/prop/direct/P118'), ('pname', 'league'), ('obj', 'http://www.wikidata.org/entity/Q155223'), ('name', 'National Basketball Association')]\n",
      "[('p', 'http://www.wikidata.org/prop/direct/P1830'), ('pname', 'owner of'), ('obj', 'http://www.wikidata.org/entity/Q1781055'), ('name', 'South Bay Lakers')]\n",
      "[('p', 'http://www.wikidata.org/prop/direct/P115'), ('pname', 'home venue'), ('obj', 'http://www.wikidata.org/entity/Q186080'), ('name', 'Staples Center')]\n",
      "[('p', 'http://www.wikidata.org/prop/direct/P31'), ('pname', 'instance of'), ('obj', 'http://www.wikidata.org/entity/Q13393265'), ('name', 'basketball team')]\n",
      "[('p', 'http://www.wikidata.org/prop/direct/P1889'), ('pname', 'different from'), ('obj', 'http://www.wikidata.org/entity/Q668549'), ('name', 'Rapperswil-Jona Lakers')]\n",
      "[('p', 'http://www.wikidata.org/prop/direct/P361'), ('pname', 'part of'), ('obj', 'http://www.wikidata.org/entity/Q206201'), ('name', 'Pacific Division')]\n",
      "[('p', 'http://www.wikidata.org/prop/direct/P286'), ('pname', 'head coach'), ('obj', 'http://www.wikidata.org/entity/Q2456047'), ('name', 'Frank Vogel')]\n",
      "[('p', 'http://www.wikidata.org/prop/direct/P910'), ('pname', \"topic's main category\"), ('obj', 'http://www.wikidata.org/entity/Q4417414'), ('name', 'Category:Los Angeles Lakers')]\n",
      "[('p', 'http://www.wikidata.org/prop/direct/P127'), ('pname', 'owned by'), ('obj', 'http://www.wikidata.org/entity/Q5127792'), ('name', 'Jeanie Buss')]\n",
      "12\n"
     ]
    }
   ],
   "source": [
    "# From Los Angeles Lakers (wd:Q121783) see if I can go back to NBA finals\n",
    "queryString = \"\"\"\n",
    "SELECT DISTINCT ?p ?pname ?obj ?name\n",
    "WHERE {\n",
    "   # bind something\n",
    "   wd:Q121783 ?p ?obj .\n",
    "   # get the label\n",
    "   ?p sc:name ?pname.\n",
    "   ?obj sc:name ?name.\n",
    "}\n",
    "LIMIT 20\n",
    "\"\"\"\n",
    "\n",
    "print(\"Results\")\n",
    "x=run_query(queryString)"
   ]
  },
  {
   "cell_type": "code",
   "execution_count": 28,
   "id": "650b3ed7-158a-4741-84ed-e558cbbb5939",
   "metadata": {},
   "outputs": [
    {
     "name": "stdout",
     "output_type": "stream",
     "text": [
      "Results\n",
      "[('p', 'http://www.wikidata.org/prop/direct/P31'), ('pname', 'instance of'), ('obj', 'http://www.wikidata.org/entity/Q4167836'), ('name', 'Wikimedia category')]\n",
      "[('p', 'http://www.wikidata.org/prop/direct/P301'), ('pname', \"category's main topic\"), ('obj', 'http://www.wikidata.org/entity/Q121783'), ('name', 'Los Angeles Lakers')]\n",
      "2\n"
     ]
    }
   ],
   "source": [
    "#see if \"topic's main category\" (wd:Q4417414) of Los Angeles Lakers leads to something. but it's a loop to Los Angeles Lakers wd:Q121783\n",
    "queryString = \"\"\"\n",
    "SELECT DISTINCT ?p ?pname ?obj ?name\n",
    "WHERE {\n",
    "   # bind something\n",
    "   wd:Q4417414 ?p ?obj .\n",
    "   # get the label\n",
    "   ?p sc:name ?pname.\n",
    "   ?obj sc:name ?name.\n",
    "}\n",
    "LIMIT 20\n",
    "\"\"\"\n",
    "\n",
    "print(\"Results\")\n",
    "x=run_query(queryString)"
   ]
  },
  {
   "cell_type": "code",
   "execution_count": 29,
   "id": "83e87c6f-844b-4d88-b91d-a50ce6e2bc07",
   "metadata": {},
   "outputs": [
    {
     "name": "stdout",
     "output_type": "stream",
     "text": [
      "Results\n",
      "[('p', 'http://www.wikidata.org/prop/direct/P1591'), ('pname', 'defendant')]\n",
      "[('p', 'http://www.wikidata.org/prop/direct/P1423'), ('pname', 'template has topic')]\n",
      "[('p', 'http://www.wikidata.org/prop/direct/P101'), ('pname', 'field of work')]\n",
      "[('p', 'http://www.wikidata.org/prop/direct/P108'), ('pname', 'employer')]\n",
      "[('p', 'http://www.wikidata.org/prop/direct/P118'), ('pname', 'league')]\n",
      "[('p', 'http://www.wikidata.org/prop/direct/P127'), ('pname', 'owned by')]\n",
      "[('p', 'http://www.wikidata.org/prop/direct/P1343'), ('pname', 'described by source')]\n",
      "[('p', 'http://www.wikidata.org/prop/direct/P1366'), ('pname', 'replaced by')]\n",
      "[('p', 'http://www.wikidata.org/prop/direct/P137'), ('pname', 'operator')]\n",
      "[('p', 'http://www.wikidata.org/prop/direct/P264'), ('pname', 'record label')]\n",
      "[('p', 'http://www.wikidata.org/prop/direct/P301'), ('pname', \"category's main topic\")]\n",
      "[('p', 'http://www.wikidata.org/prop/direct/P3450'), ('pname', 'sports season of league or competition')]\n",
      "[('p', 'http://www.wikidata.org/prop/direct/P361'), ('pname', 'part of')]\n",
      "[('p', 'http://www.wikidata.org/prop/direct/P466'), ('pname', 'occupant')]\n",
      "[('p', 'http://www.wikidata.org/prop/direct/P664'), ('pname', 'organizer')]\n",
      "[('p', 'http://www.wikidata.org/prop/direct/P710'), ('pname', 'participant')]\n",
      "[('p', 'http://www.wikidata.org/prop/direct/P921'), ('pname', 'main subject')]\n",
      "[('p', 'http://www.wikidata.org/prop/direct/P971'), ('pname', 'category combines topics')]\n",
      "[('p', 'http://www.wikidata.org/prop/direct/P1027'), ('pname', 'conferred by')]\n",
      "[('p', 'http://www.wikidata.org/prop/direct/P2499'), ('pname', 'league level above')]\n",
      "[('p', 'http://www.wikidata.org/prop/direct/P1629'), ('pname', 'Wikidata item of this property')]\n",
      "[('p', 'http://www.wikidata.org/prop/direct/P1855'), ('pname', 'Wikidata property example')]\n",
      "[('p', 'http://www.wikidata.org/prop/direct/P9073'), ('pname', \"applicable 'stated in' value\")]\n",
      "23\n"
     ]
    }
   ],
   "source": [
    "# incoming edges to NBA. I am looking only for IRI's that have a label (sc:name)\n",
    "# because NBA Finals should have one and not be a literal.\n",
    "queryString = \"\"\"\n",
    "SELECT DISTINCT ?p ?pname\n",
    "WHERE {\n",
    "   # bind something\n",
    "   ?sub ?p wd:Q155223.\n",
    "   # get the label\n",
    "   ?sub sc:name ?name.\n",
    "   ?p sc:name ?pname.\n",
    "}\n",
    "LIMIT 200\n",
    "\"\"\"\n",
    "\n",
    "print(\"Results\")\n",
    "x=run_query(queryString)"
   ]
  },
  {
   "cell_type": "code",
   "execution_count": 30,
   "id": "c4ea9b35-2d4b-4f58-abb6-c6f498e235c5",
   "metadata": {},
   "outputs": [
    {
     "name": "stdout",
     "output_type": "stream",
     "text": [
      "Results\n",
      "[('sub', 'http://www.wikidata.org/entity/Q600389'), ('name', '1990–91 NBA season')]\n",
      "[('sub', 'http://www.wikidata.org/entity/Q2264531'), ('name', '1967–68 NBA season')]\n",
      "[('sub', 'http://www.wikidata.org/entity/Q241834'), ('name', '1989–90 NBA season')]\n",
      "[('sub', 'http://www.wikidata.org/entity/Q602553'), ('name', '1969–70 NBA season')]\n",
      "[('sub', 'http://www.wikidata.org/entity/Q2294127'), ('name', '1971–72 NBA season')]\n",
      "[('sub', 'http://www.wikidata.org/entity/Q113619'), ('name', '2012–13 NBA season')]\n",
      "[('sub', 'http://www.wikidata.org/entity/Q16191100'), ('name', '2014-15 NBA season')]\n",
      "[('sub', 'http://www.wikidata.org/entity/Q19862716'), ('name', '2015–16 NBA season')]\n",
      "[('sub', 'http://www.wikidata.org/entity/Q631240'), ('name', '1979–80 NBA season')]\n",
      "[('sub', 'http://www.wikidata.org/entity/Q1142320'), ('name', '2005–06 NBA season')]\n",
      "[('sub', 'http://www.wikidata.org/entity/Q281094'), ('name', '1949–50 NBA season')]\n",
      "[('sub', 'http://www.wikidata.org/entity/Q52702755'), ('name', '2018–19 NBA season')]\n",
      "[('sub', 'http://www.wikidata.org/entity/Q1121549'), ('name', '2007–08 NBA season')]\n",
      "[('sub', 'http://www.wikidata.org/entity/Q2264502'), ('name', '1961–62 NBA season')]\n",
      "[('sub', 'http://www.wikidata.org/entity/Q2069853'), ('name', '1983–84 NBA season')]\n",
      "[('sub', 'http://www.wikidata.org/entity/Q2264540'), ('name', '1975–76 NBA season')]\n",
      "[('sub', 'http://www.wikidata.org/entity/Q548783'), ('name', '1977–78 NBA season')]\n",
      "[('sub', 'http://www.wikidata.org/entity/Q29098111'), ('name', '2017–18 NBA season')]\n",
      "[('sub', 'http://www.wikidata.org/entity/Q1255750'), ('name', '2011–12 NBA season')]\n",
      "[('sub', 'http://www.wikidata.org/entity/Q2069810'), ('name', '1980–81 NBA season')]\n",
      "20\n"
     ]
    }
   ],
   "source": [
    "# \"sports season of league or competition\" (wdt:P3450) of NBA\n",
    "queryString = \"\"\"\n",
    "SELECT DISTINCT ?sub ?name\n",
    "WHERE {\n",
    "   # bind something\n",
    "   ?sub wdt:P3450 wd:Q155223.\n",
    "   # get the label\n",
    "   ?sub sc:name ?name.\n",
    "   #?p sc:name ?pname.\n",
    "}\n",
    "LIMIT 20\n",
    "\"\"\"\n",
    "\n",
    "print(\"Results\")\n",
    "x=run_query(queryString)"
   ]
  },
  {
   "cell_type": "code",
   "execution_count": 31,
   "id": "6ea8742c-b454-4894-b756-2ab775d33d83",
   "metadata": {},
   "outputs": [
    {
     "name": "stdout",
     "output_type": "stream",
     "text": [
      "Results\n",
      "[('p', 'http://www.wikidata.org/prop/direct/P1344'), ('pname', 'participant in')]\n",
      "[('p', 'http://www.wikidata.org/prop/direct/P301'), ('pname', \"category's main topic\")]\n",
      "2\n"
     ]
    }
   ],
   "source": [
    "# incoming edges to 2017-18 NBA season (wdt:Q29098111), nothing helpful\n",
    "queryString = \"\"\"\n",
    "SELECT DISTINCT ?p ?pname \n",
    "WHERE {\n",
    "   # bind something\n",
    "   ?sub ?p wd:Q29098111.\n",
    "   # get the label\n",
    "   #?sub sc:name ?name.\n",
    "   ?p sc:name ?pname.\n",
    "}\n",
    "LIMIT 20\n",
    "\"\"\"\n",
    "\n",
    "print(\"Results\")\n",
    "x=run_query(queryString)"
   ]
  },
  {
   "cell_type": "code",
   "execution_count": 32,
   "id": "d4213fb2-a8c5-4958-96b5-478543f1a1a0",
   "metadata": {},
   "outputs": [
    {
     "name": "stdout",
     "output_type": "stream",
     "text": [
      "Results\n",
      "[('p', 'http://www.wikidata.org/prop/direct/P1346'), ('pname', 'winner'), ('obj', 'http://www.wikidata.org/entity/Q157376'), ('objname', 'Golden State Warriors')]\n",
      "[('p', 'http://www.wikidata.org/prop/direct/P17'), ('pname', 'country'), ('obj', 'http://www.wikidata.org/entity/Q30'), ('objname', 'United States of America')]\n",
      "[('p', 'http://www.wikidata.org/prop/direct/P2094'), ('pname', 'competition class'), ('obj', 'http://www.wikidata.org/entity/Q46343203'), ('objname', \"men's basketball\")]\n",
      "[('p', 'http://www.wikidata.org/prop/direct/P2348'), ('pname', 'time period'), ('obj', 'http://www.wikidata.org/entity/Q47015413'), ('objname', '2017-2018 one-year-period')]\n",
      "[('p', 'http://www.wikidata.org/prop/direct/P31'), ('pname', 'instance of'), ('obj', 'http://www.wikidata.org/entity/Q27020041'), ('objname', 'sports season')]\n",
      "[('p', 'http://www.wikidata.org/prop/direct/P3450'), ('pname', 'sports season of league or competition'), ('obj', 'http://www.wikidata.org/entity/Q155223'), ('objname', 'National Basketball Association')]\n",
      "[('p', 'http://www.wikidata.org/prop/direct/P641'), ('pname', 'sport'), ('obj', 'http://www.wikidata.org/entity/Q5372'), ('objname', 'basketball')]\n",
      "[('p', 'http://www.wikidata.org/prop/direct/P664'), ('pname', 'organizer'), ('obj', 'http://www.wikidata.org/entity/Q155223'), ('objname', 'National Basketball Association')]\n",
      "[('p', 'http://www.wikidata.org/prop/direct/P910'), ('pname', \"topic's main category\"), ('obj', 'http://www.wikidata.org/entity/Q30001159'), ('objname', 'Category:2017–18 NBA season')]\n",
      "9\n"
     ]
    }
   ],
   "source": [
    "# predicates of 2017-18 NBA season with objects, nothing helpful\n",
    "queryString = \"\"\"\n",
    "SELECT DISTINCT ?p ?pname ?obj ?objname\n",
    "WHERE {\n",
    "   # bind something\n",
    "   wd:Q29098111 ?p ?obj .\n",
    "   # get the label\n",
    "   ?obj sc:name ?objname.\n",
    "   ?p sc:name ?pname.\n",
    "}\n",
    "LIMIT 20\n",
    "\"\"\"\n",
    "\n",
    "print(\"Results\")\n",
    "x=run_query(queryString)"
   ]
  },
  {
   "cell_type": "code",
   "execution_count": 33,
   "id": "26f4a999-e628-4107-b0df-18a27af86d00",
   "metadata": {},
   "outputs": [
    {
     "name": "stdout",
     "output_type": "stream",
     "text": [
      "Results\n",
      "[('obj', 'http://www.wikidata.org/entity/Q1146933'), ('objname', '2012 Summer Olympics closing ceremony')]\n",
      "[('obj', 'http://www.wikidata.org/entity/Q168545'), ('objname', '2012 Summer Olympics opening ceremony')]\n",
      "[('obj', 'http://www.wikidata.org/entity/Q6671078'), ('objname', 'London bid for the 2012 Summer Olympics')]\n",
      "3\n"
     ]
    }
   ],
   "source": [
    "# significant event of summer olympics 2012 (wd:Q8577). Summer Olympics not related to NBA Finals..\n",
    "queryString = \"\"\"\n",
    "SELECT DISTINCT ?obj ?objname\n",
    "WHERE {\n",
    "   # bind something\n",
    "   wd:Q8577 wdt:P793 ?obj .\n",
    "   # get the label\n",
    "   ?obj sc:name ?objname.\n",
    "\n",
    "}\n",
    "LIMIT 20\n",
    "\"\"\"\n",
    "\n",
    "print(\"Results\")\n",
    "x=run_query(queryString)"
   ]
  },
  {
   "cell_type": "code",
   "execution_count": 34,
   "id": "ce91c50e-e714-4e39-867f-d0973fc2cd3f",
   "metadata": {},
   "outputs": [
    {
     "name": "stdout",
     "output_type": "stream",
     "text": [
      "Results\n",
      "[('s', 'http://www.wikidata.org/prop/direct/P4718'), ('sname', 'Basketball-Reference.com NBA coach ID')]\n",
      "[('s', 'http://www.wikidata.org/prop/direct/P3588'), ('sname', 'WNBA player ID')]\n",
      "2\n"
     ]
    }
   ],
   "source": [
    "# simple regex for NBA finals, but too complex with higher limits..\n",
    "# This is a very inefficient query\n",
    "queryString = \"\"\"\n",
    "SELECT DISTINCT ?s ?sname\n",
    "WHERE {\n",
    "   # bind something\n",
    "   ?s ?p ?o.\n",
    "   # get the label\n",
    "   ?s sc:name ?sname.\n",
    "   FILTER(REGEX(str(?sname),\"NBA\"))\n",
    "\n",
    "}\n",
    "LIMIT 2\n",
    "\"\"\"\n",
    "\n",
    "print(\"Results\")\n",
    "x=run_query(queryString)"
   ]
  },
  {
   "cell_type": "code",
   "execution_count": 35,
   "id": "3f26f2e8-f903-4e51-aa56-e1f90f6b596c",
   "metadata": {},
   "outputs": [
    {
     "name": "stdout",
     "output_type": "stream",
     "text": [
      "Results\n",
      "[('edge', 'http://www.wikidata.org/prop/direct/P1151'), ('edgeName', \"topic's main Wikimedia portal\")]\n",
      "[('edge', 'http://www.wikidata.org/prop/direct/P18'), ('edgeName', 'image')]\n",
      "[('edge', 'http://www.wikidata.org/prop/direct/P1889'), ('edgeName', 'different from')]\n",
      "[('edge', 'http://www.wikidata.org/prop/direct/P2094'), ('edgeName', 'competition class')]\n",
      "[('edge', 'http://www.wikidata.org/prop/direct/P2283'), ('edgeName', 'uses')]\n",
      "[('edge', 'http://www.wikidata.org/prop/direct/P279'), ('edgeName', 'subclass of')]\n",
      "[('edge', 'http://www.wikidata.org/prop/direct/P2888'), ('edgeName', 'exact match')]\n",
      "[('edge', 'http://www.wikidata.org/prop/direct/P2910'), ('edgeName', 'icon')]\n",
      "[('edge', 'http://www.wikidata.org/prop/direct/P3095'), ('edgeName', 'practiced by')]\n",
      "[('edge', 'http://www.wikidata.org/prop/direct/P31'), ('edgeName', 'instance of')]\n",
      "[('edge', 'http://www.wikidata.org/prop/direct/P443'), ('edgeName', 'pronunciation audio')]\n",
      "[('edge', 'http://www.wikidata.org/prop/direct/P495'), ('edgeName', 'country of origin')]\n",
      "[('edge', 'http://www.wikidata.org/prop/direct/P5008'), ('edgeName', 'on focus list of Wikimedia project')]\n",
      "[('edge', 'http://www.wikidata.org/prop/direct/P61'), ('edgeName', 'discoverer or inventor')]\n",
      "[('edge', 'http://www.wikidata.org/prop/direct/P910'), ('edgeName', \"topic's main category\")]\n",
      "[('edge', 'http://www.wikidata.org/prop/direct/P948'), ('edgeName', 'page banner')]\n",
      "[('edge', 'http://www.wikidata.org/prop/direct/P101'), ('edgeName', 'field of work')]\n",
      "[('edge', 'http://www.wikidata.org/prop/direct/P106'), ('edgeName', 'occupation')]\n",
      "[('edge', 'http://www.wikidata.org/prop/direct/P1269'), ('edgeName', 'facet of')]\n",
      "[('edge', 'http://www.wikidata.org/prop/direct/P144'), ('edgeName', 'based on')]\n",
      "[('edge', 'http://www.wikidata.org/prop/direct/P1535'), ('edgeName', 'used by')]\n",
      "[('edge', 'http://www.wikidata.org/prop/direct/P2416'), ('edgeName', 'sports discipline competed in')]\n",
      "[('edge', 'http://www.wikidata.org/prop/direct/P2650'), ('edgeName', 'interested in')]\n",
      "[('edge', 'http://www.wikidata.org/prop/direct/P301'), ('edgeName', \"category's main topic\")]\n",
      "[('edge', 'http://www.wikidata.org/prop/direct/P361'), ('edgeName', 'part of')]\n",
      "[('edge', 'http://www.wikidata.org/prop/direct/P366'), ('edgeName', 'use')]\n",
      "[('edge', 'http://www.wikidata.org/prop/direct/P425'), ('edgeName', 'field of this occupation')]\n",
      "[('edge', 'http://www.wikidata.org/prop/direct/P452'), ('edgeName', 'industry')]\n",
      "[('edge', 'http://www.wikidata.org/prop/direct/P466'), ('edgeName', 'occupant')]\n",
      "[('edge', 'http://www.wikidata.org/prop/direct/P527'), ('edgeName', 'has part')]\n",
      "[('edge', 'http://www.wikidata.org/prop/direct/P641'), ('edgeName', 'sport')]\n",
      "[('edge', 'http://www.wikidata.org/prop/direct/P674'), ('edgeName', 'characters')]\n",
      "[('edge', 'http://www.wikidata.org/prop/direct/P710'), ('edgeName', 'participant')]\n",
      "[('edge', 'http://www.wikidata.org/prop/direct/P737'), ('edgeName', 'influenced by')]\n",
      "[('edge', 'http://www.wikidata.org/prop/direct/P825'), ('edgeName', 'dedicated to')]\n",
      "[('edge', 'http://www.wikidata.org/prop/direct/P921'), ('edgeName', 'main subject')]\n",
      "[('edge', 'http://www.wikidata.org/prop/direct/P971'), ('edgeName', 'category combines topics')]\n",
      "[('edge', 'http://www.wikidata.org/prop/direct/P1204'), ('edgeName', \"Wikimedia portal's main topic\")]\n",
      "[('edge', 'http://www.wikidata.org/prop/direct/P5249'), ('edgeName', 'sports competition competed at')]\n",
      "[('edge', 'http://www.wikidata.org/prop/direct/P1855'), ('edgeName', 'Wikidata property example')]\n",
      "40\n"
     ]
    }
   ],
   "source": [
    "# Restart to look for NBA Finals from basketball\n",
    "# incoming and outgoing edges of basketball\n",
    "# I should have looked for objects that contain \"final\"..\n",
    "queryString = \"\"\"\n",
    "SELECT DISTINCT ?edge ?edgeName \n",
    "WHERE {\n",
    "        {\n",
    "           # bind something\n",
    "           wd:Q5372 ?edge ?object.\n",
    "           # get the label\n",
    "           ?edge sc:name ?edgeName.\n",
    "            FILTER (!isLiteral(?object))\n",
    "           }\n",
    "           UNION\n",
    "        {\n",
    "           ?subject ?edge wd:Q5372.\n",
    "           ?edge sc:name ?edgeName\n",
    "           }\n",
    "}\n",
    "LIMIT 200\n",
    "\"\"\"\n",
    "\n",
    "print(\"Results\")\n",
    "x=run_query(queryString)"
   ]
  },
  {
   "cell_type": "code",
   "execution_count": 36,
   "id": "eff971d8-6c42-4e93-befd-c92d47b79ebe",
   "metadata": {},
   "outputs": [
    {
     "name": "stdout",
     "output_type": "stream",
     "text": [
      "Results\n",
      "Empty\n"
     ]
    }
   ],
   "source": [
    "# incoming and outgoing edges of NBA with objects that contain \"final\". None..\n",
    "queryString = \"\"\"\n",
    "SELECT DISTINCT ?edge ?edgeName \n",
    "WHERE {\n",
    "        {\n",
    "           # bind something\n",
    "           wd:Q155223 ?edge ?object.\n",
    "           # get the label\n",
    "           ?edge sc:name ?edgeName.\n",
    "           ?object sc:name ?objectName.\n",
    "           FILTER(REGEX(str(?objectName),\"(?i)final\"))\n",
    "           FILTER (!isLiteral(?object))\n",
    "        }UNION\n",
    "        {\n",
    "           ?subject ?edge wd:Q155223.\n",
    "           ?edge sc:name ?edgeName.\n",
    "           ?subject sc:name ?subjectName.\n",
    "           FILTER(REGEX(str(?subjectName),\"(?i)final\"))\n",
    "       }\n",
    "}\n",
    "LIMIT 200\n",
    "\"\"\"\n",
    "\n",
    "print(\"Results\")\n",
    "x=run_query(queryString)"
   ]
  },
  {
   "cell_type": "code",
   "execution_count": 37,
   "id": "ecd7fb5b-4c77-4227-9e66-de9742c88309",
   "metadata": {},
   "outputs": [
    {
     "name": "stdout",
     "output_type": "stream",
     "text": [
      "Results\n",
      "[('iri', 'http://www.wikidata.org/entity/Q739499'), ('iriName', 'Bill Russell NBA Finals Most Valuable Player Award')]\n",
      "[('iri', 'http://www.wikidata.org/entity/Q4016858'), ('iriName', '1976 World Championship Tennis Finals')]\n",
      "2\n"
     ]
    }
   ],
   "source": [
    "# if NBA finals exists I expect it to be connected to NBA with a short path,i.e. at most 3 traversals\n",
    "# But nothing helpful...I was using LIMIT 2.. maybe that's why\n",
    "# there is also an error (?subject (<>|!<>){,3} wd:Q155223.)\n",
    "\n",
    "# !!!!\n",
    "# Since I am asking for any path, it can be inefficient and take long to compute. I am doing it because I have a hard time finding \n",
    "# the exact path\n",
    "# !!!!\n",
    "\n",
    "queryString = \"\"\"\n",
    "SELECT DISTINCT ?iri ?iriName \n",
    "WHERE {\n",
    "        {\n",
    "            # bind something\n",
    "            wd:Q155223 (<>|!<>){,3} ?iri.\n",
    "            # get the label\n",
    "            ?iri sc:name ?iriName.\n",
    "            FILTER(REGEX(str(?iriName),\"(?i)finals\"))\n",
    "            FILTER (!isLiteral(?iri))\n",
    "       }UNION\n",
    "       {\n",
    "           ?subject (<>|!<>){,3} wd:Q155223.\n",
    "           #?edge sc:name ?iriName.\n",
    "           ?iri sc:name ?iriName.\n",
    "           FILTER(REGEX(str(?iriName),\"(?i)finals\"))\n",
    "       }\n",
    "}\n",
    "LIMIT 2\n",
    "\"\"\"\n",
    "\n",
    "print(\"Results\")\n",
    "x=run_query(queryString)\n",
    "\n"
   ]
  },
  {
   "cell_type": "code",
   "execution_count": 38,
   "id": "34042be5-97b1-4098-bba7-c7be21b3875a",
   "metadata": {
    "tags": []
   },
   "outputs": [
    {
     "name": "stdout",
     "output_type": "stream",
     "text": [
      "Results\n",
      "[('iri', 'http://www.wikidata.org/entity/Q24264147'), ('iriName', '2016 NBA Finals')]\n",
      "[('iri', 'http://www.wikidata.org/entity/Q29096468'), ('iriName', '2017 NBA Finals')]\n",
      "2\n"
     ]
    }
   ],
   "source": [
    "# if NBA finals exists I expect it to be connected to basketball with a short path,e.g. at most 3 traversals\n",
    "# This query can take some seconds to run..\n",
    "# iteratively increased LIMIT and decreased path length\n",
    "# I afterward realized I did a mistake which made the query return 2017 NBA Finals -> (\"?subject (<>|!<>){,2} wd:5372.\") instead of  (\"?iri (<>|!<>){,2} wd:5372.\") \n",
    "# So I found 2016 and 2017 NBA Finals by chance\n",
    "\n",
    "# !!!!\n",
    "# Since I am asking for any path, it can be inefficient and take long to compute. I am doing it because I have a hard time finding \n",
    "# the exact path\n",
    "# !!!!\n",
    "\n",
    "queryString = \"\"\"\n",
    "SELECT DISTINCT ?iri ?iriName \n",
    "WHERE {{\n",
    "   # bind something\n",
    "   wd:5372 (<>|!<>){,2} ?iri.\n",
    "   # get the label\n",
    "   ?iri sc:name ?iriName.\n",
    "   FILTER(REGEX(str(?iriName),\"(?i)nba final\"))\n",
    "   \n",
    "   FILTER (!isLiteral(?iri))\n",
    "   }UNION{\n",
    "   ?subject (<>|!<>){,2} wd:5372.\n",
    "   #?edge sc:name ?iriName.\n",
    "   ?iri sc:name ?iriName.\n",
    "   FILTER(REGEX(str(?iriName),\"(?i)nba final\"))\n",
    "   }\n",
    "}\n",
    "LIMIT 2\n",
    "\"\"\"\n",
    "\n",
    "print(\"Results\")\n",
    "x=run_query(queryString)"
   ]
  },
  {
   "cell_type": "code",
   "execution_count": 39,
   "id": "a8b4339b-6420-43fd-a9b5-2b59e52d0ca9",
   "metadata": {},
   "outputs": [
    {
     "name": "stdout",
     "output_type": "stream",
     "text": [
      "Results\n",
      "[('edge', 'http://www.wikidata.org/prop/direct/P155'), ('edgeName', 'follows'), ('iri', 'http://www.wikidata.org/entity/Q24264147'), ('iriName', '2016 NBA Finals')]\n",
      "[('edge', 'http://www.wikidata.org/prop/direct/P31'), ('edgeName', 'instance of'), ('iri', 'http://www.wikidata.org/entity/Q842375'), ('iriName', 'NBA Finals')]\n",
      "[('edge', 'http://www.wikidata.org/prop/direct/P156'), ('edgeName', 'followed by'), ('iri', 'http://www.wikidata.org/entity/Q24264147'), ('iriName', '2016 NBA Finals')]\n",
      "3\n"
     ]
    }
   ],
   "source": [
    "# FINAL QUERY\n",
    "# Incoming and outgoing edges with subjects/objects \"2017 NBA Finals\" that contain \"final\".\n",
    "queryString = \"\"\"\n",
    "SELECT DISTINCT ?edge ?edgeName ?iri ?iriName\n",
    "WHERE {{\n",
    "   # bind something\n",
    "   wd:Q29096468 ?edge ?iri.\n",
    "   # get the label\n",
    "   ?edge sc:name ?edgeName.\n",
    "   ?iri sc:name ?iriName.\n",
    "   FILTER(REGEX(str(?iriName),\"(?i)final\"))\n",
    "   \n",
    "   FILTER (!isLiteral(?iri))\n",
    "   }UNION{\n",
    "   ?iri ?edge wd:Q29096468.\n",
    "   ?edge sc:name ?edgeName.\n",
    "   ?iri sc:name ?iriName.\n",
    "   FILTER(REGEX(str(?iriName),\"(?i)final\"))\n",
    "   }\n",
    "}\n",
    "LIMIT 200\n",
    "\"\"\"\n",
    "\n",
    "print(\"Results\")\n",
    "x=run_query(queryString)"
   ]
  },
  {
   "cell_type": "markdown",
   "id": "b1d10af3-c0e2-4cf8-a0fb-1874ce1a9edf",
   "metadata": {},
   "source": [
    ">The node we are interesed in is \"wd:Q842375\" with label \"NBA Finals\""
   ]
  },
  {
   "cell_type": "code",
   "execution_count": 40,
   "id": "ac4bc705-6d42-4d88-a76e-8a67d9673d3a",
   "metadata": {},
   "outputs": [
    {
     "name": "stdout",
     "output_type": "stream",
     "text": [
      "Results\n",
      "[('iri', 'http://www.wikidata.org/entity/Q24264147'), ('iriName', '2016 NBA Finals')]\n",
      "[('iri', 'http://www.wikidata.org/entity/Q29096468'), ('iriName', '2017 NBA Finals')]\n",
      "2\n"
     ]
    }
   ],
   "source": [
    "# I want to better understand how basketball is connected with 2017 NBA Finals\n",
    "# Reducing path length to at most 1. but exactly 1 does not work (<>|!<>){1} -> something is not really working as I thought\n",
    "# trying also <>* as property, any path repeated zero or more times? \n",
    "# Actually here I was using a wrong version, with (?subject (<>|!<>){,1}  wd:5372.) instead of (?iri (<>|!<>){,1}  wd:5372.)\n",
    "\n",
    "\n",
    "queryString = \"\"\"\n",
    "SELECT DISTINCT ?iri ?iriName ?w\n",
    "WHERE {{\n",
    "   # bind something\n",
    "   wd:5372 (<>|!<>){,1} ?iri.\n",
    "   # get the label\n",
    "   ?iri sc:name ?iriName.\n",
    "   FILTER(REGEX(str(?iriName),\"(?i)nba final\"))\n",
    "   \n",
    "   FILTER (!isLiteral(?iri))\n",
    "   }UNION{\n",
    "   ?subject (<>|!<>){,1}  wd:5372.\n",
    "   #?edge sc:name ?iriName.\n",
    "   ?iri sc:name ?iriName.\n",
    "   FILTER(REGEX(str(?iriName),\"(?i)nba final\"))\n",
    "   }\n",
    "}\n",
    "LIMIT 2\n",
    "\"\"\"\n",
    "\n",
    "print(\"Results\")\n",
    "x=run_query(queryString)"
   ]
  },
  {
   "cell_type": "code",
   "execution_count": 41,
   "id": "14c7585c-bd32-4d6c-bf91-73f9803fcbef",
   "metadata": {},
   "outputs": [
    {
     "name": "stdout",
     "output_type": "stream",
     "text": [
      "Results\n",
      "[('iri', 'http://www.wikidata.org/entity/Q739499'), ('iriName', 'Bill Russell NBA Finals Most Valuable Player Award')]\n",
      "[('iri', 'http://www.wikidata.org/entity/Q2628013'), ('iriName', '2012 NBA Finals')]\n",
      "2\n"
     ]
    }
   ],
   "source": [
    "# if NBA finals exists I expect it to be connected to basketball with a short path,i.e. at most 3 traversals\n",
    "# can take some seconds..\n",
    "# iteratively increased LIMIT and decreased path length\n",
    "# I afterward realized I did a mistake which made the query return 2017 NBA Finals -> \"?subject (<>|!<>){,2} wd:5372.\" instead of  \"?iri (<>|!<>){,2} wd:5372.\" \n",
    "# restarting with ?iri instead of ?subject\n",
    "# After some trial and error I restarted from NBA (wd:Q155223) instead of basketball (wd:5372) and I find \"2012 NBA Finals\"\n",
    "\n",
    "queryString = \"\"\"\n",
    "SELECT DISTINCT ?iri ?iriName \n",
    "WHERE {{\n",
    "   # bind something\n",
    "   wd:Q155223 (<>|!<>){,2} ?iri.\n",
    "   # get the label\n",
    "   ?iri sc:name ?iriName.\n",
    "   FILTER(REGEX(str(?iriName),\"(?i)nba final\"))\n",
    "   \n",
    "   FILTER (!isLiteral(?iri))\n",
    "   }UNION{\n",
    "   ?iri (<>|!<>){,2} wd:Q155223.\n",
    "   #?edge sc:name ?iriName.\n",
    "   ?iri sc:name ?iriName.\n",
    "   FILTER(REGEX(str(?iriName),\"(?i)nba final\"))\n",
    "   }\n",
    "}\n",
    "LIMIT 2\n",
    "\"\"\"\n",
    "\n",
    "print(\"Results\")\n",
    "x=run_query(queryString)"
   ]
  },
  {
   "cell_type": "code",
   "execution_count": 42,
   "id": "3c45ced5-a9e3-41e6-bfa2-c9a6ab0d6ca0",
   "metadata": {},
   "outputs": [
    {
     "name": "stdout",
     "output_type": "stream",
     "text": [
      "Results\n",
      "[('p', 'http://www.wikidata.org/prop/direct/P1346'), ('pname', 'winner')]\n",
      "[('p', 'http://www.wikidata.org/prop/direct/P115'), ('pname', 'home venue')]\n",
      "2\n"
     ]
    }
   ],
   "source": [
    "# From the previous query I delete the first part and get the same results, I know source and target nodes.\n",
    "# From these I get the path(s) connecting 2012 NBA Finals and NBA.\n",
    "# What I now know is that the following path exists: \"2012 NBA Finals\" - (\"predicate I don't know\") - x (variable) - predicate \"winner\" or \"home venue\" - y(variable) - \"NBA Finals\"\n",
    "\n",
    "queryString = \"\"\"\n",
    "SELECT DISTINCT ?p ?pname\n",
    "WHERE {\n",
    "\n",
    "    wd:Q2628013 (<>|!<>){,2} wd:Q155223. # I don't really need this line\n",
    "   #?edge sc:name ?iriName.\n",
    "   #?iri sc:name ?iriName.\n",
    "   #FILTER(REGEX(str(?iriName),\"(?i)nba final\"))\n",
    "\n",
    "\n",
    "   wd:Q2628013 (<>|!<>) ?x .\n",
    "    ?x ?p ?y .\n",
    "    ?y (<>|!<>) wd:Q155223 .\n",
    "    \n",
    "    ?p sc:name ?pname .\n",
    "   }\n",
    "\n",
    "LIMIT 2\n",
    "\"\"\"\n",
    "\n",
    "print(\"Results\")\n",
    "x=run_query(queryString)"
   ]
  },
  {
   "cell_type": "code",
   "execution_count": 43,
   "id": "e3576cc7-65ef-4da6-8a19-ad8630a556a9",
   "metadata": {},
   "outputs": [
    {
     "name": "stdout",
     "output_type": "stream",
     "text": [
      "Results\n",
      "[('iri', 'http://www.wikidata.org/entity/Q739499'), ('iriName', 'Bill Russell NBA Finals Most Valuable Player Award')]\n",
      "[('iri', 'http://www.wikidata.org/entity/Q2628013'), ('iriName', '2012 NBA Finals')]\n",
      "[('iri', 'http://www.wikidata.org/entity/Q4589592'), ('iriName', '1994 NBA Finals')]\n",
      "[('iri', 'http://www.wikidata.org/entity/Q4590500'), ('iriName', '1995 NBA Finals')]\n",
      "[('iri', 'http://www.wikidata.org/entity/Q2552745'), ('iriName', '2007 NBA Finals')]\n",
      "[('iri', 'http://www.wikidata.org/entity/Q4604623'), ('iriName', '2005 NBA Finals')]\n",
      "[('iri', 'http://www.wikidata.org/entity/Q1006129'), ('iriName', '2003 NBA Finals')]\n",
      "[('iri', 'http://www.wikidata.org/entity/Q16481622'), ('iriName', '2014 NBA Finals')]\n",
      "[('iri', 'http://www.wikidata.org/entity/Q4594932'), ('iriName', '1999 NBA Finals')]\n",
      "[('iri', 'http://www.wikidata.org/entity/Q170590'), ('iriName', '2006 NBA Finals')]\n",
      "[('iri', 'http://www.wikidata.org/entity/Q13405328'), ('iriName', '2013 NBA Finals')]\n",
      "[('iri', 'http://www.wikidata.org/entity/Q4588662'), ('iriName', '1993 NBA Finals')]\n",
      "[('iri', 'http://www.wikidata.org/entity/Q4598928'), ('iriName', '2001 NBA Finals')]\n",
      "[('iri', 'http://www.wikidata.org/entity/Q4600307'), ('iriName', '2002 NBA Finals')]\n",
      "[('iri', 'http://www.wikidata.org/entity/Q4584557'), ('iriName', '1988 NBA Finals')]\n",
      "[('iri', 'http://www.wikidata.org/entity/Q4587787'), ('iriName', '1992 NBA Finals')]\n",
      "[('iri', 'http://www.wikidata.org/entity/Q4592651'), ('iriName', '1997 NBA Finals')]\n",
      "[('iri', 'http://www.wikidata.org/entity/Q4593827'), ('iriName', '1998 NBA Finals')]\n",
      "[('iri', 'http://www.wikidata.org/entity/Q4586976'), ('iriName', '1991 NBA Finals')]\n",
      "[('iri', 'http://www.wikidata.org/entity/Q1959941'), ('iriName', '2009 NBA Finals')]\n",
      "[('iri', 'http://www.wikidata.org/entity/Q4591549'), ('iriName', '1996 NBA Finals')]\n",
      "[('iri', 'http://www.wikidata.org/entity/Q4597667'), ('iriName', '2000 NBA Finals')]\n",
      "[('iri', 'http://www.wikidata.org/entity/Q644353'), ('iriName', '2010 NBA Finals')]\n",
      "[('iri', 'http://www.wikidata.org/entity/Q19877916'), ('iriName', '2015 NBA Finals')]\n",
      "[('iri', 'http://www.wikidata.org/entity/Q2036161'), ('iriName', '2008 NBA Finals')]\n",
      "[('iri', 'http://www.wikidata.org/entity/Q3072473'), ('iriName', '1974 NBA Finals')]\n",
      "[('iri', 'http://www.wikidata.org/entity/Q4586134'), ('iriName', '1990 NBA Finals')]\n",
      "[('iri', 'http://www.wikidata.org/entity/Q1022085'), ('iriName', '2004 NBA Finals')]\n",
      "[('iri', 'http://www.wikidata.org/entity/Q4585299'), ('iriName', '1989 NBA Finals')]\n",
      "[('iri', 'http://www.wikidata.org/entity/Q1320332'), ('iriName', '2011 NBA Finals')]\n",
      "30\n"
     ]
    }
   ],
   "source": [
    "# I want to to the same but for 2017 NBA Finals, instead of 2012 NBA Finals. \n",
    "# Increasing limit, but I don't find 2017 NBA Finals in the result set..\n",
    "# 2017 NBA Finals must have a different path, so I am just going to find the path between \"2012 NBA Finals\" and \"NBA Finals\"\n",
    "queryString = \"\"\"\n",
    "SELECT DISTINCT ?iri ?iriName \n",
    "WHERE {{\n",
    "   # bind something\n",
    "   wd:Q155223 (<>|!<>){,2} ?iri.\n",
    "   # get the label\n",
    "   ?iri sc:name ?iriName.\n",
    "   FILTER(REGEX(str(?iriName),\"(?i)nba final\"))\n",
    "   \n",
    "   FILTER (!isLiteral(?iri))\n",
    "   }UNION{\n",
    "   ?iri (<>|!<>){,2} wd:Q155223.\n",
    "   #?edge sc:name ?iriName.\n",
    "   ?iri sc:name ?iriName.\n",
    "   FILTER(REGEX(str(?iriName),\"(?i)nba final\"))\n",
    "   }\n",
    "}\n",
    "LIMIT 35\n",
    "\"\"\"\n",
    "\n",
    "print(\"Results\")\n",
    "x=run_query(queryString)"
   ]
  },
  {
   "cell_type": "code",
   "execution_count": 44,
   "id": "a48b17a8-3526-439f-8348-0a061a797602",
   "metadata": {},
   "outputs": [
    {
     "name": "stdout",
     "output_type": "stream",
     "text": [
      "Results\n",
      "[('2012NBAFinals', '2012 NBA Finals'), ('iname', 'followed by'), ('xname', '2013 NBA Finals'), ('pname', 'winner'), ('yname', 'Miami Heat'), ('lname', 'league'), ('NBA', 'National Basketball Association')]\n",
      "[('2012NBAFinals', '2012 NBA Finals'), ('iname', 'participating team'), ('xname', 'Oklahoma City Thunder'), ('pname', 'home venue'), ('yname', 'Chesapeake Energy Arena'), ('lname', 'occupant'), ('NBA', 'National Basketball Association')]\n",
      "2\n"
     ]
    }
   ],
   "source": [
    "# From the previous query I delete the first part and get the same results, I know source and target nodes.\n",
    "# From these I get the path(s) connecting 2012 NBA Finals and NBA.\n",
    "# What I now know is the following path exists: \"2012 NBA Finals\" - (\"predicate I don't know\") - x (variable) - predicate \"winner\" or \"home venue\" - y(variable) - \"NBA Finals\"\n",
    "# returning the complete path between \"2012 NBA Finals\" and \"NBA\"\n",
    "\n",
    "\n",
    "\n",
    "queryString = \"\"\"\n",
    "SELECT DISTINCT ?2012NBAFinals ?iname ?xname ?pname ?yname ?lname ?NBA\n",
    "WHERE {\n",
    "\n",
    "    wd:Q2628013 (<>|!<>){,2} wd:Q155223. # I don't really need this line\n",
    "   #?edge sc:name ?iriName.\n",
    "   #?iri sc:name ?iriName.\n",
    "   #FILTER(REGEX(str(?iriName),\"(?i)nba final\"))\n",
    "\n",
    "\n",
    "   wd:Q2628013 ?i ?x .\n",
    "    ?x ?p ?y .\n",
    "    ?y ?l wd:Q155223 .\n",
    "    \n",
    "    wd:Q2628013 sc:name ?2012NBAFinals.\n",
    "    wd:Q155223 sc:name ?NBA.\n",
    "    \n",
    "    ?x sc:name ?xname .\n",
    "    ?y sc:name ?yname .\n",
    "    ?p sc:name ?pname .\n",
    "    ?i sc:name ?iname .\n",
    "    ?l sc:name ?lname .\n",
    "   }\n",
    "\n",
    "LIMIT 10\n",
    "\"\"\"\n",
    "\n",
    "print(\"Results\")\n",
    "x=run_query(queryString)"
   ]
  },
  {
   "cell_type": "markdown",
   "id": "c64b4d99",
   "metadata": {},
   "source": [
    "## Task 6\n",
    "Consider only the basketball teams which Kevin Durant and Lebron James played. Return the number of NBA finals won by these teams (the result set must be a list of triples basketball team IRI, label and #victories. Return a number for each basketball team)."
   ]
  },
  {
   "cell_type": "code",
   "execution_count": 45,
   "id": "341be39e-e1e8-40cb-adbc-93ca23d3db53",
   "metadata": {},
   "outputs": [
    {
     "name": "stdout",
     "output_type": "stream",
     "text": [
      "Results\n",
      "[('p', 'http://www.wikidata.org/prop/direct/P115'), ('name', 'home venue')]\n",
      "[('p', 'http://www.wikidata.org/prop/direct/P118'), ('name', 'league')]\n",
      "[('p', 'http://www.wikidata.org/prop/direct/P127'), ('name', 'owned by')]\n",
      "[('p', 'http://www.wikidata.org/prop/direct/P1417'), ('name', 'Encyclopædia Britannica Online ID')]\n",
      "[('p', 'http://www.wikidata.org/prop/direct/P159'), ('name', 'headquarters location')]\n",
      "[('p', 'http://www.wikidata.org/prop/direct/P17'), ('name', 'country')]\n",
      "[('p', 'http://www.wikidata.org/prop/direct/P18'), ('name', 'image')]\n",
      "[('p', 'http://www.wikidata.org/prop/direct/P2002'), ('name', 'Twitter username')]\n",
      "[('p', 'http://www.wikidata.org/prop/direct/P214'), ('name', 'VIAF ID')]\n",
      "[('p', 'http://www.wikidata.org/prop/direct/P244'), ('name', 'Library of Congress authority ID')]\n",
      "[('p', 'http://www.wikidata.org/prop/direct/P286'), ('name', 'head coach')]\n",
      "[('p', 'http://www.wikidata.org/prop/direct/P31'), ('name', 'instance of')]\n",
      "[('p', 'http://www.wikidata.org/prop/direct/P3221'), ('name', 'New York Times topic ID')]\n",
      "[('p', 'http://www.wikidata.org/prop/direct/P3417'), ('name', 'Quora topic ID')]\n",
      "[('p', 'http://www.wikidata.org/prop/direct/P3553'), ('name', 'Zhihu topic ID')]\n",
      "[('p', 'http://www.wikidata.org/prop/direct/P361'), ('name', 'part of')]\n",
      "[('p', 'http://www.wikidata.org/prop/direct/P373'), ('name', 'Commons category')]\n",
      "[('p', 'http://www.wikidata.org/prop/direct/P571'), ('name', 'inception')]\n",
      "[('p', 'http://www.wikidata.org/prop/direct/P641'), ('name', 'sport')]\n",
      "[('p', 'http://www.wikidata.org/prop/direct/P646'), ('name', 'Freebase ID')]\n",
      "[('p', 'http://www.wikidata.org/prop/direct/P7859'), ('name', 'WorldCat Identities ID')]\n",
      "[('p', 'http://www.wikidata.org/prop/direct/P856'), ('name', 'official website')]\n",
      "[('p', 'http://www.wikidata.org/prop/direct/P8672'), ('name', 'Twitter topic ID')]\n",
      "[('p', 'http://www.wikidata.org/prop/direct/P8687'), ('name', 'social media followers')]\n",
      "[('p', 'http://www.wikidata.org/prop/direct/P910'), ('name', \"topic's main category\")]\n",
      "25\n"
     ]
    }
   ],
   "source": [
    "#Miami Heat properies. no winner predicates. so going from NBA Season to winner\n",
    "queryString = \"\"\"\n",
    "SELECT DISTINCT ?p ?name \n",
    "WHERE {\n",
    "   # bind something\n",
    "   wd:Q169138 ?p ?team .\n",
    "   # get the label\n",
    "   ?p sc:name ?name.\n",
    "}\n",
    "LIMIT 2000\n",
    "\"\"\"\n",
    "\n",
    "print(\"Results\")\n",
    "x=run_query(queryString)"
   ]
  },
  {
   "cell_type": "code",
   "execution_count": 46,
   "id": "1c086488",
   "metadata": {},
   "outputs": [
    {
     "name": "stdout",
     "output_type": "stream",
     "text": [
      "Results\n",
      "[('winner', 'http://www.wikidata.org/entity/Q157376'), ('winnerName', 'Golden State Warriors'), ('victories', '6')]\n",
      "[('winner', 'http://www.wikidata.org/entity/Q121783'), ('winnerName', 'Los Angeles Lakers'), ('victories', '17')]\n",
      "[('winner', 'http://www.wikidata.org/entity/Q235326'), ('winnerName', 'Seattle SuperSonics'), ('victories', '1')]\n",
      "[('winner', 'http://www.wikidata.org/entity/Q169138'), ('winnerName', 'Miami Heat'), ('victories', '3')]\n",
      "[('winner', 'http://www.wikidata.org/entity/Q162990'), ('winnerName', 'Cleveland Cavaliers'), ('victories', '1')]\n",
      "5\n"
     ]
    }
   ],
   "source": [
    "# FINAL QUERY\n",
    "# returning winners of nba seasons, where Lebron James and Keving Durant played\n",
    "\n",
    "# Since NBA Finals is the championship to determine the league champion, I directly consider the winners of the leagues\n",
    "# Also, from the previous task I didn't find a way to go back to each NBA Finals edition by using the same path. \n",
    "\n",
    "queryString = \"\"\"\n",
    "SELECT DISTINCT ?winner ?winnerName (COUNT(DISTINCT ?sub) as ?victories) \n",
    "WHERE {\n",
    "   # bind something\n",
    "   ?sub wdt:P3450 wd:Q155223.\n",
    "   ?sub wdt:P1346 ?winner.\n",
    "   ?player wdt:P54 ?winner.\n",
    "     \n",
    "  VALUES ?player {wd:Q36159 wd:Q29545}\n",
    "  \n",
    "\n",
    "\n",
    "   ?sub sc:name ?name.\n",
    "   ?winner sc:name ?winnerName\n",
    "}\n",
    "LIMIT 200\n",
    "\"\"\"\n",
    "\n",
    "print(\"Results\")\n",
    "x=run_query(queryString)"
   ]
  },
  {
   "cell_type": "markdown",
   "id": "cf177605",
   "metadata": {},
   "source": [
    ">Results in the format \"Team IRI\" - \"Team Label\" - \"number of victories\""
   ]
  },
  {
   "cell_type": "code",
   "execution_count": 47,
   "id": "2eff89ce-93f3-4f1d-887a-c9a3d4f6cdbe",
   "metadata": {},
   "outputs": [
    {
     "name": "stdout",
     "output_type": "stream",
     "text": [
      "Results\n",
      "[('NBAFinalsEdition', 'http://www.wikidata.org/entity/Q644353'), ('predicate', 'http://www.wikidata.org/prop/direct/P17'), ('predicateName', 'country'), ('objectName', 'United States of America')]\n",
      "[('NBAFinalsEdition', 'http://www.wikidata.org/entity/Q1320332'), ('predicate', 'http://www.wikidata.org/prop/direct/P17'), ('predicateName', 'country'), ('objectName', 'United States of America')]\n",
      "[('NBAFinalsEdition', 'http://www.wikidata.org/entity/Q1959941'), ('predicate', 'http://www.wikidata.org/prop/direct/P641'), ('predicateName', 'sport'), ('objectName', 'basketball')]\n",
      "[('NBAFinalsEdition', 'http://www.wikidata.org/entity/Q644353'), ('predicate', 'http://www.wikidata.org/prop/direct/P641'), ('predicateName', 'sport'), ('objectName', 'basketball')]\n",
      "[('NBAFinalsEdition', 'http://www.wikidata.org/entity/Q1320332'), ('predicate', 'http://www.wikidata.org/prop/direct/P641'), ('predicateName', 'sport'), ('objectName', 'basketball')]\n",
      "[('NBAFinalsEdition', 'http://www.wikidata.org/entity/Q644353'), ('predicate', 'http://www.wikidata.org/prop/direct/P31'), ('predicateName', 'instance of'), ('objectName', 'NBA Finals')]\n",
      "[('NBAFinalsEdition', 'http://www.wikidata.org/entity/Q1320332'), ('predicate', 'http://www.wikidata.org/prop/direct/P31'), ('predicateName', 'instance of'), ('objectName', 'NBA Finals')]\n",
      "[('NBAFinalsEdition', 'http://www.wikidata.org/entity/Q1959941'), ('predicate', 'http://www.wikidata.org/prop/direct/P31'), ('predicateName', 'instance of'), ('objectName', 'NBA Finals')]\n",
      "[('NBAFinalsEdition', 'http://www.wikidata.org/entity/Q644353'), ('predicate', 'http://www.wikidata.org/prop/direct/P1346'), ('predicateName', 'winner'), ('objectName', 'Los Angeles Lakers')]\n",
      "[('NBAFinalsEdition', 'http://www.wikidata.org/entity/Q1959941'), ('predicate', 'http://www.wikidata.org/prop/direct/P1346'), ('predicateName', 'winner'), ('objectName', 'Los Angeles Lakers')]\n",
      "[('NBAFinalsEdition', 'http://www.wikidata.org/entity/Q1320332'), ('predicate', 'http://www.wikidata.org/prop/direct/P1346'), ('predicateName', 'winner'), ('objectName', 'Dallas Mavericks')]\n",
      "11\n"
     ]
    }
   ],
   "source": [
    "# For some editions of NBA Finals I look if they have a winning predicate\n",
    "queryString = \"\"\"\n",
    "SELECT DISTINCT ?NBAFinalsEdition ?predicate ?predicateName ?objectName\n",
    "WHERE {\n",
    "   # bind something\n",
    "   ?NBAFinalsEdition ?predicate ?object.\n",
    "     \n",
    "  VALUES ?NBAFinalsEdition {wd:Q644353 wd:Q1320332 wd:Q1959941}\n",
    "  \n",
    "\n",
    "\n",
    "   ?predicate sc:name ?predicateName.\n",
    "   ?object sc:name ?objectName\n",
    "}\n",
    "LIMIT 200\n",
    "\"\"\"\n",
    "\n",
    "print(\"Results\")\n",
    "x=run_query(queryString)"
   ]
  },
  {
   "cell_type": "code",
   "execution_count": 48,
   "id": "325a2a94-ce85-4725-8381-d89130d7dbd2",
   "metadata": {},
   "outputs": [
    {
     "name": "stdout",
     "output_type": "stream",
     "text": [
      "Results\n",
      "[('winner', 'http://www.wikidata.org/entity/Q121783'), ('winnerName', 'Los Angeles Lakers'), ('victories', '16')]\n",
      "[('winner', 'http://www.wikidata.org/entity/Q157376'), ('winnerName', 'Golden State Warriors'), ('victories', '4')]\n",
      "[('winner', 'http://www.wikidata.org/entity/Q169138'), ('winnerName', 'Miami Heat'), ('victories', '2')]\n",
      "3\n"
     ]
    }
   ],
   "source": [
    "# another way to do the final query.\n",
    "# Still I trust more the previous approach (i.e. from NBA Season to winner) than this onw (i.e. from NBA Finals to winner),\n",
    "# because from the previous task it seems to me that instances of NBA Finals are not populated enough. \n",
    "queryString = \"\"\"\n",
    "SELECT DISTINCT ?winner ?winnerName (COUNT(DISTINCT ?NBAFinals) as ?victories) \n",
    "WHERE {\n",
    "   # bind something\n",
    "   ?winner wdt:P118 wd:Q155223.\n",
    "   ?NBAFinals wdt:P1346 ?winner.\n",
    "   ?NBAFinals wdt:P31 wd:Q842375.\n",
    "   ?player wdt:P54 ?winner.\n",
    "     \n",
    "  VALUES ?player {wd:Q36159 wd:Q29545}\n",
    "  \n",
    "\n",
    "   ?winner sc:name ?winnerName\n",
    "}\n",
    "\n",
    "\"\"\"\n",
    "\n",
    "print(\"Results\")\n",
    "x=run_query(queryString)"
   ]
  },
  {
   "cell_type": "markdown",
   "id": "c9b126d1",
   "metadata": {},
   "source": [
    "## Task 7\n",
    "Consider only NBA (National Basketball Association) basketball teams and all basketball players who played in one of these teams at least once. Also consider the country of citizenship of the players with the related continent. Return for each continent the number of players who played in an NBA basketball teams. (the result set must be triples of continent IRI, labels and #players)"
   ]
  },
  {
   "cell_type": "code",
   "execution_count": 49,
   "id": "c179465e",
   "metadata": {},
   "outputs": [
    {
     "name": "stdout",
     "output_type": "stream",
     "text": [
      "Results\n",
      "[('nationality', 'http://www.wikidata.org/entity/Q1033'), ('nationalityName', 'Nigeria')]\n",
      "[('nationality', 'http://www.wikidata.org/entity/Q1041'), ('nationalityName', 'Senegal')]\n",
      "[('nationality', 'http://www.wikidata.org/entity/Q142'), ('nationalityName', 'France')]\n",
      "[('nationality', 'http://www.wikidata.org/entity/Q159'), ('nationalityName', 'Russia')]\n",
      "[('nationality', 'http://www.wikidata.org/entity/Q16'), ('nationalityName', 'Canada')]\n",
      "5\n"
     ]
    }
   ],
   "source": [
    "# examples of NBA player nationality\n",
    "queryString = \"\"\"\n",
    "SELECT DISTINCT ?nationality ?nationalityName\n",
    "WHERE {\n",
    "   # bind something\n",
    "   ?team wdt:P118 wd:Q155223.\n",
    "   ?player wdt:P54 ?team;\n",
    "           wdt:P27 ?nationality.\n",
    "    ?nationality sc:name ?nationalityName.\n",
    "    \n",
    "}\n",
    "LIMIT 5\n",
    "\"\"\"\n",
    "\n",
    "print(\"Results\")\n",
    "x=run_query(queryString)"
   ]
  },
  {
   "cell_type": "code",
   "execution_count": 50,
   "id": "ec4b9196",
   "metadata": {},
   "outputs": [
    {
     "name": "stdout",
     "output_type": "stream",
     "text": [
      "Results\n",
      "[('p', 'http://www.wikidata.org/prop/direct/P1151'), ('name', \"topic's main Wikimedia portal\")]\n",
      "[('p', 'http://www.wikidata.org/prop/direct/P122'), ('name', 'basic form of government')]\n",
      "[('p', 'http://www.wikidata.org/prop/direct/P1304'), ('name', 'central bank')]\n",
      "[('p', 'http://www.wikidata.org/prop/direct/P1313'), ('name', 'office held by head of government')]\n",
      "[('p', 'http://www.wikidata.org/prop/direct/P1343'), ('name', 'described by source')]\n",
      "[('p', 'http://www.wikidata.org/prop/direct/P1365'), ('name', 'replaces')]\n",
      "[('p', 'http://www.wikidata.org/prop/direct/P138'), ('name', 'named after')]\n",
      "[('p', 'http://www.wikidata.org/prop/direct/P1464'), ('name', 'category for people born here')]\n",
      "[('p', 'http://www.wikidata.org/prop/direct/P1465'), ('name', 'category for people who died here')]\n",
      "[('p', 'http://www.wikidata.org/prop/direct/P150'), ('name', 'contains administrative territorial entity')]\n",
      "[('p', 'http://www.wikidata.org/prop/direct/P155'), ('name', 'follows')]\n",
      "[('p', 'http://www.wikidata.org/prop/direct/P1552'), ('name', 'has quality')]\n",
      "[('p', 'http://www.wikidata.org/prop/direct/P158'), ('name', 'seal image')]\n",
      "[('p', 'http://www.wikidata.org/prop/direct/P1589'), ('name', 'lowest point')]\n",
      "[('p', 'http://www.wikidata.org/prop/direct/P1622'), ('name', 'driving side')]\n",
      "[('p', 'http://www.wikidata.org/prop/direct/P163'), ('name', 'flag')]\n",
      "[('p', 'http://www.wikidata.org/prop/direct/P17'), ('name', 'country')]\n",
      "[('p', 'http://www.wikidata.org/prop/direct/P172'), ('name', 'ethnic group')]\n",
      "[('p', 'http://www.wikidata.org/prop/direct/P1740'), ('name', 'category for films shot at this location')]\n",
      "[('p', 'http://www.wikidata.org/prop/direct/P1791'), ('name', 'category of people buried here')]\n",
      "[('p', 'http://www.wikidata.org/prop/direct/P1792'), ('name', 'category of associated people')]\n",
      "[('p', 'http://www.wikidata.org/prop/direct/P1889'), ('name', 'different from')]\n",
      "[('p', 'http://www.wikidata.org/prop/direct/P1906'), ('name', 'office held by head of state')]\n",
      "[('p', 'http://www.wikidata.org/prop/direct/P194'), ('name', 'legislative body')]\n",
      "[('p', 'http://www.wikidata.org/prop/direct/P206'), ('name', 'located in or next to body of water')]\n",
      "[('p', 'http://www.wikidata.org/prop/direct/P208'), ('name', 'executive body')]\n",
      "[('p', 'http://www.wikidata.org/prop/direct/P2184'), ('name', 'history of topic')]\n",
      "[('p', 'http://www.wikidata.org/prop/direct/P237'), ('name', 'coat of arms')]\n",
      "[('p', 'http://www.wikidata.org/prop/direct/P242'), ('name', 'locator map image')]\n",
      "[('p', 'http://www.wikidata.org/prop/direct/P2596'), ('name', 'culture')]\n",
      "[('p', 'http://www.wikidata.org/prop/direct/P2633'), ('name', 'geography of topic')]\n",
      "[('p', 'http://www.wikidata.org/prop/direct/P2852'), ('name', 'emergency telephone number')]\n",
      "[('p', 'http://www.wikidata.org/prop/direct/P2853'), ('name', 'electrical plug type')]\n",
      "[('p', 'http://www.wikidata.org/prop/direct/P2936'), ('name', 'language used')]\n",
      "[('p', 'http://www.wikidata.org/prop/direct/P30'), ('name', 'continent')]\n",
      "[('p', 'http://www.wikidata.org/prop/direct/P31'), ('name', 'instance of')]\n",
      "[('p', 'http://www.wikidata.org/prop/direct/P35'), ('name', 'head of state')]\n",
      "[('p', 'http://www.wikidata.org/prop/direct/P36'), ('name', 'capital')]\n",
      "[('p', 'http://www.wikidata.org/prop/direct/P361'), ('name', 'part of')]\n",
      "[('p', 'http://www.wikidata.org/prop/direct/P37'), ('name', 'official language')]\n",
      "[('p', 'http://www.wikidata.org/prop/direct/P38'), ('name', 'currency')]\n",
      "[('p', 'http://www.wikidata.org/prop/direct/P3896'), ('name', 'geoshape')]\n",
      "[('p', 'http://www.wikidata.org/prop/direct/P41'), ('name', 'flag image')]\n",
      "[('p', 'http://www.wikidata.org/prop/direct/P418'), ('name', 'seal description')]\n",
      "[('p', 'http://www.wikidata.org/prop/direct/P421'), ('name', 'located in time zone')]\n",
      "[('p', 'http://www.wikidata.org/prop/direct/P443'), ('name', 'pronunciation audio')]\n",
      "[('p', 'http://www.wikidata.org/prop/direct/P463'), ('name', 'member of')]\n",
      "[('p', 'http://www.wikidata.org/prop/direct/P47'), ('name', 'shares border with')]\n",
      "[('p', 'http://www.wikidata.org/prop/direct/P5008'), ('name', 'on focus list of Wikimedia project')]\n",
      "[('p', 'http://www.wikidata.org/prop/direct/P5125'), ('name', 'Wikimedia outline')]\n",
      "[('p', 'http://www.wikidata.org/prop/direct/P530'), ('name', 'diplomatic relation')]\n",
      "[('p', 'http://www.wikidata.org/prop/direct/P6'), ('name', 'head of government')]\n",
      "[('p', 'http://www.wikidata.org/prop/direct/P610'), ('name', 'highest point')]\n",
      "[('p', 'http://www.wikidata.org/prop/direct/P706'), ('name', 'located in/on physical feature')]\n",
      "[('p', 'http://www.wikidata.org/prop/direct/P78'), ('name', 'top-level Internet domain')]\n",
      "[('p', 'http://www.wikidata.org/prop/direct/P7867'), ('name', 'category for maps')]\n",
      "[('p', 'http://www.wikidata.org/prop/direct/P85'), ('name', 'anthem')]\n",
      "[('p', 'http://www.wikidata.org/prop/direct/P8744'), ('name', 'economy of topic')]\n",
      "[('p', 'http://www.wikidata.org/prop/direct/P910'), ('name', \"topic's main category\")]\n",
      "[('p', 'http://www.wikidata.org/prop/direct/P9241'), ('name', 'demographics of topic')]\n",
      "[('p', 'http://www.wikidata.org/prop/direct/P94'), ('name', 'coat of arms image')]\n",
      "[('p', 'http://www.wikidata.org/prop/direct/P948'), ('name', 'page banner')]\n",
      "62\n"
     ]
    }
   ],
   "source": [
    "# outgoing edges from Nigeria, to check if belongs to a continent. continent predicate found (wdt:P30)\n",
    "queryString = \"\"\"\n",
    "SELECT DISTINCT ?p ?name\n",
    "WHERE {\n",
    "       wd:Q1033 ?p ?obj.\n",
    "       ?p sc:name ?name.\n",
    "       FILTER(!isLiteral(?obj))\n",
    "    \n",
    "}\n",
    "LIMIT 100\n",
    "\"\"\"\n",
    "\n",
    "print(\"Results\")\n",
    "x=run_query(queryString)"
   ]
  },
  {
   "cell_type": "code",
   "execution_count": 51,
   "id": "9c69ed50-2e55-4e11-a4d3-6d347baac3c6",
   "metadata": {},
   "outputs": [
    {
     "name": "stdout",
     "output_type": "stream",
     "text": [
      "Results\n",
      "[('continent', 'http://www.wikidata.org/entity/Q46'), ('continentName', 'Europe'), ('players', '304')]\n",
      "[('continent', 'http://www.wikidata.org/entity/Q538'), ('continentName', 'Insular Oceania'), ('players', '3799')]\n",
      "[('continent', 'http://www.wikidata.org/entity/Q15'), ('continentName', 'Africa'), ('players', '61')]\n",
      "[('continent', 'http://www.wikidata.org/entity/Q48'), ('continentName', 'Asia'), ('players', '73')]\n",
      "[('continent', 'http://www.wikidata.org/entity/Q5401'), ('continentName', 'Eurasia'), ('players', '17')]\n",
      "[('continent', 'http://www.wikidata.org/entity/Q18'), ('continentName', 'South America'), ('players', '37')]\n",
      "[('continent', 'http://www.wikidata.org/entity/Q49'), ('continentName', 'North America'), ('players', '3849')]\n",
      "7\n"
     ]
    }
   ],
   "source": [
    "# FINAL QUERY\n",
    "# number of players per continent. \n",
    "# Strange continent names, next I'll look for continent IRI instead of predicate. \n",
    "queryString = \"\"\"\n",
    "SELECT DISTINCT ?continent ?continentName (COUNT(DISTINCT ?player) as ?players)\n",
    "WHERE {\n",
    "   # bind something\n",
    "   ?team wdt:P118 wd:Q155223.\n",
    "   ?player wdt:P54 ?team;\n",
    "           wdt:P27 ?nationality.\n",
    "    ?nationality wdt:P30 ?continent.\n",
    "    \n",
    "    \n",
    "    ?continent sc:name ?continentName.\n",
    "    ?nationality sc:name ?nationalityName.\n",
    "    \n",
    "}\n",
    "GROUP BY ?continent ?continentName\n",
    "LIMIT 50\n",
    "\"\"\"\n",
    "\n",
    "print(\"Results\")\n",
    "x=run_query(queryString)"
   ]
  },
  {
   "cell_type": "markdown",
   "id": "1e00e912-9fd7-43b3-8037-0e1569943816",
   "metadata": {},
   "source": [
    ">Results in the format \"Continent IRI\" - \"Continent Label\" - \"Number of players\""
   ]
  },
  {
   "cell_type": "code",
   "execution_count": 52,
   "id": "6f109e51-c2b3-4cdc-8d0d-2b542c7906d5",
   "metadata": {},
   "outputs": [
    {
     "name": "stdout",
     "output_type": "stream",
     "text": [
      "Results\n",
      "[('continent', 'http://www.wikidata.org/entity/Q5107'), ('continentName', 'continent')]\n",
      "[('continent', 'http://www.wikidata.org/entity/Q2418896'), ('continentName', 'part of the world')]\n",
      "2\n"
     ]
    }
   ],
   "source": [
    "#  Asia (wd:Q48) instance of continent (wd:Q5107).\n",
    "queryString = \"\"\"\n",
    "SELECT DISTINCT ?continent ?continentName\n",
    "WHERE {\n",
    "   # bind something\n",
    "   wd:Q48 wdt:P31 ?continent.\n",
    "   ?continent sc:name ?continentName.\n",
    "    \n",
    "}\n",
    "LIMIT 5\n",
    "\"\"\"\n",
    "\n",
    "print(\"Results\")\n",
    "x=run_query(queryString)"
   ]
  },
  {
   "cell_type": "code",
   "execution_count": 53,
   "id": "b73b8390-fb78-475f-bf2b-01d631482559",
   "metadata": {},
   "outputs": [
    {
     "name": "stdout",
     "output_type": "stream",
     "text": [
      "Results\n",
      "[('countries', 'Belgium Italy Norway Spain Switzerland'), ('continent', 'http://www.wikidata.org/entity/Q46'), ('continentName', 'Europe'), ('players', '108')]\n",
      "[('countries', 'Argentina Brazil Colombia Guyana Venezuela'), ('continent', 'http://www.wikidata.org/entity/Q18'), ('continentName', 'South America'), ('players', '71')]\n",
      "[('countries', 'Canada Mexico United States of America'), ('continent', 'http://www.wikidata.org/entity/Q49'), ('continentName', 'North America'), ('players', '9430')]\n",
      "3\n"
     ]
    }
   ],
   "source": [
    "# number of players per continent. \n",
    "# Less continents than before. Perhaps wdt:P30 is the standard IRI to indicate continents.\n",
    "# It's wrong because using wdt:P361 for no apparent reason\n",
    "\n",
    "queryString = \"\"\"\n",
    "SELECT DISTINCT (GROUP_CONCAT(DISTINCT ?countryName; separator=\" \") AS ?countries) ?continent ?continentName (COUNT(?player) as ?players)\n",
    "WHERE {\n",
    "   # bind something\n",
    "   ?team wdt:P118 wd:Q155223.\n",
    "   ?player wdt:P54 ?team;\n",
    "           wdt:P27 ?country.\n",
    "    ?country wdt:P361 ?continent.\n",
    "    ?continent wdt:P31 wd:Q5107.\n",
    "    \n",
    "    \n",
    "    ?continent sc:name ?continentName.\n",
    "    ?country sc:name ?countryName.\n",
    "    \n",
    "}\n",
    "GROUP BY ?continent ?continentName\n",
    "LIMIT 50\n",
    "\"\"\"\n",
    "\n",
    "print(\"Results\")\n",
    "x=run_query(queryString)"
   ]
  },
  {
   "cell_type": "code",
   "execution_count": 54,
   "id": "a53f3962-8061-4c87-a3e5-cbbb7f701458",
   "metadata": {},
   "outputs": [
    {
     "name": "stdout",
     "output_type": "stream",
     "text": [
      "Results\n",
      "[('continent', 'http://www.wikidata.org/entity/Q46'), ('continentName', 'Europe'), ('players', '304')]\n",
      "[('continent', 'http://www.wikidata.org/entity/Q538'), ('continentName', 'Insular Oceania'), ('players', '3799')]\n",
      "[('continent', 'http://www.wikidata.org/entity/Q3960'), ('continentName', 'Australia'), ('players', '25')]\n",
      "[('continent', 'http://www.wikidata.org/entity/Q15'), ('continentName', 'Africa'), ('players', '66')]\n",
      "[('continent', 'http://www.wikidata.org/entity/Q48'), ('continentName', 'Asia'), ('players', '73')]\n",
      "[('continent', 'http://www.wikidata.org/entity/Q18'), ('continentName', 'South America'), ('players', '37')]\n",
      "[('continent', 'http://www.wikidata.org/entity/Q49'), ('continentName', 'North America'), ('players', '3849')]\n",
      "[('continent', 'http://www.wikidata.org/entity/Q828'), ('continentName', 'Americas'), ('players', '3777')]\n",
      "8\n"
     ]
    }
   ],
   "source": [
    "# number of players per continent. \n",
    "\n",
    "queryString = \"\"\"\n",
    "SELECT DISTINCT ?continent ?continentName (COUNT(DISTINCT ?player) as ?players) #(GROUP_CONCAT(DISTINCT ?countryName; separator=\" \") AS ?countries) \n",
    "WHERE {\n",
    "   # bind something\n",
    "   ?team wdt:P118 wd:Q155223.\n",
    "   ?player wdt:P54 ?team;\n",
    "           wdt:P27 ?country.\n",
    "    ?country ?referredInAnyWayTo ?continent.\n",
    "    ?continent wdt:P31 wd:Q5107.\n",
    "    \n",
    "    \n",
    "    ?continent sc:name ?continentName.\n",
    "    ?country sc:name ?countryName.\n",
    "    \n",
    "}\n",
    "GROUP BY ?continent ?continentName\n",
    "LIMIT 50\n",
    "\"\"\"\n",
    "\n",
    "print(\"Results\")\n",
    "x=run_query(queryString)"
   ]
  },
  {
   "cell_type": "markdown",
   "id": "d8ac8e07",
   "metadata": {},
   "source": [
    "## Task 8\n",
    "Identify the BGP for the NBA Most Valuable Player Award (MVP) (see https://en.wikipedia.org/wiki/NBA_Most_Valuable_Player_Award)"
   ]
  },
  {
   "cell_type": "code",
   "execution_count": 55,
   "id": "80e1ee4a",
   "metadata": {},
   "outputs": [
    {
     "name": "stdout",
     "output_type": "stream",
     "text": [
      "Results\n",
      "[('p', 'http://www.wikidata.org/prop/direct/P1344'), ('pname', 'participant in')]\n",
      "[('p', 'http://www.wikidata.org/prop/direct/P301'), ('pname', \"category's main topic\")]\n",
      "[('p', 'http://www.wikidata.org/prop/direct/P1132'), ('pname', 'number of participants')]\n",
      "[('p', 'http://www.wikidata.org/prop/direct/P1346'), ('pname', 'winner')]\n",
      "[('p', 'http://www.wikidata.org/prop/direct/P1350'), ('pname', 'number of matches played/races/starts')]\n",
      "[('p', 'http://www.wikidata.org/prop/direct/P17'), ('pname', 'country')]\n",
      "[('p', 'http://www.wikidata.org/prop/direct/P2094'), ('pname', 'competition class')]\n",
      "[('p', 'http://www.wikidata.org/prop/direct/P2348'), ('pname', 'time period')]\n",
      "[('p', 'http://www.wikidata.org/prop/direct/P2671'), ('pname', 'Google Knowledge Graph ID')]\n",
      "[('p', 'http://www.wikidata.org/prop/direct/P31'), ('pname', 'instance of')]\n",
      "[('p', 'http://www.wikidata.org/prop/direct/P3417'), ('pname', 'Quora topic ID')]\n",
      "[('p', 'http://www.wikidata.org/prop/direct/P3450'), ('pname', 'sports season of league or competition')]\n",
      "[('p', 'http://www.wikidata.org/prop/direct/P393'), ('pname', 'edition number')]\n",
      "[('p', 'http://www.wikidata.org/prop/direct/P580'), ('pname', 'start time')]\n",
      "[('p', 'http://www.wikidata.org/prop/direct/P582'), ('pname', 'end time')]\n",
      "[('p', 'http://www.wikidata.org/prop/direct/P641'), ('pname', 'sport')]\n",
      "[('p', 'http://www.wikidata.org/prop/direct/P664'), ('pname', 'organizer')]\n",
      "[('p', 'http://www.wikidata.org/prop/direct/P856'), ('pname', 'official website')]\n",
      "[('p', 'http://www.wikidata.org/prop/direct/P910'), ('pname', \"topic's main category\")]\n",
      "19\n"
     ]
    }
   ],
   "source": [
    "# NBA MVP is an annual award given for each season\n",
    "# incoming/outgoing edges to/from 2017-18 NBA season, looking for mvp\n",
    "# no award or winner predicate\n",
    "queryString = \"\"\"\n",
    "SELECT DISTINCT ?p ?pname \n",
    "WHERE {{\n",
    "   # bind something\n",
    "   ?sub ?p wd:Q29098111.\n",
    "   # get the label\n",
    "   ?p sc:name ?pname.}\n",
    "   UNION{\n",
    "   wd:Q29098111 ?p ?obj.\n",
    "   ?p sc:name ?pname.\n",
    "   }\n",
    "}\n",
    "LIMIT 20\n",
    "\"\"\"\n",
    "\n",
    "print(\"Results\")\n",
    "x=run_query(queryString)"
   ]
  },
  {
   "cell_type": "code",
   "execution_count": 56,
   "id": "1d334fc8",
   "metadata": {},
   "outputs": [
    {
     "name": "stdout",
     "output_type": "stream",
     "text": [
      "Results\n",
      "[('p', 'http://www.wikidata.org/prop/direct/P106'), ('name', 'occupation')]\n",
      "[('p', 'http://www.wikidata.org/prop/direct/P118'), ('name', 'league')]\n",
      "[('p', 'http://www.wikidata.org/prop/direct/P1207'), ('name', 'NUKAT ID')]\n",
      "[('p', 'http://www.wikidata.org/prop/direct/P1263'), ('name', 'NNDB people ID')]\n",
      "[('p', 'http://www.wikidata.org/prop/direct/P1280'), ('name', 'CONOR.SI ID')]\n",
      "[('p', 'http://www.wikidata.org/prop/direct/P1285'), ('name', 'Munzinger Sport number')]\n",
      "[('p', 'http://www.wikidata.org/prop/direct/P1344'), ('name', 'participant in')]\n",
      "[('p', 'http://www.wikidata.org/prop/direct/P1411'), ('name', 'nominated for')]\n",
      "[('p', 'http://www.wikidata.org/prop/direct/P1412'), ('name', 'languages spoken, written or signed')]\n",
      "[('p', 'http://www.wikidata.org/prop/direct/P1417'), ('name', 'Encyclopædia Britannica Online ID')]\n",
      "[('p', 'http://www.wikidata.org/prop/direct/P1447'), ('name', 'Sports-Reference.com Olympic athlete ID')]\n",
      "[('p', 'http://www.wikidata.org/prop/direct/P1532'), ('name', 'country for sport')]\n",
      "[('p', 'http://www.wikidata.org/prop/direct/P1559'), ('name', 'name in native language')]\n",
      "[('p', 'http://www.wikidata.org/prop/direct/P1618'), ('name', 'sport number')]\n",
      "[('p', 'http://www.wikidata.org/prop/direct/P166'), ('name', 'award received')]\n",
      "[('p', 'http://www.wikidata.org/prop/direct/P172'), ('name', 'ethnic group')]\n",
      "[('p', 'http://www.wikidata.org/prop/direct/P1741'), ('name', 'GTAA ID')]\n",
      "[('p', 'http://www.wikidata.org/prop/direct/P18'), ('name', 'image')]\n",
      "[('p', 'http://www.wikidata.org/prop/direct/P19'), ('name', 'place of birth')]\n",
      "[('p', 'http://www.wikidata.org/prop/direct/P1953'), ('name', 'Discogs artist ID')]\n",
      "[('p', 'http://www.wikidata.org/prop/direct/P2002'), ('name', 'Twitter username')]\n",
      "[('p', 'http://www.wikidata.org/prop/direct/P2003'), ('name', 'Instagram username')]\n",
      "[('p', 'http://www.wikidata.org/prop/direct/P2013'), ('name', 'Facebook ID')]\n",
      "[('p', 'http://www.wikidata.org/prop/direct/P2031'), ('name', 'work period (start)')]\n",
      "[('p', 'http://www.wikidata.org/prop/direct/P2048'), ('name', 'height')]\n",
      "[('p', 'http://www.wikidata.org/prop/direct/P2067'), ('name', 'mass')]\n",
      "[('p', 'http://www.wikidata.org/prop/direct/P2094'), ('name', 'competition class')]\n",
      "[('p', 'http://www.wikidata.org/prop/direct/P21'), ('name', 'sex or gender')]\n",
      "[('p', 'http://www.wikidata.org/prop/direct/P214'), ('name', 'VIAF ID')]\n",
      "[('p', 'http://www.wikidata.org/prop/direct/P2163'), ('name', 'FAST ID')]\n",
      "[('p', 'http://www.wikidata.org/prop/direct/P2373'), ('name', 'Genius artist ID')]\n",
      "[('p', 'http://www.wikidata.org/prop/direct/P244'), ('name', 'Library of Congress authority ID')]\n",
      "[('p', 'http://www.wikidata.org/prop/direct/P26'), ('name', 'spouse')]\n",
      "[('p', 'http://www.wikidata.org/prop/direct/P2600'), ('name', 'Geni.com profile ID')]\n",
      "[('p', 'http://www.wikidata.org/prop/direct/P2605'), ('name', 'ČSFD person ID')]\n",
      "[('p', 'http://www.wikidata.org/prop/direct/P2638'), ('name', 'TV.com ID')]\n",
      "[('p', 'http://www.wikidata.org/prop/direct/P27'), ('name', 'country of citizenship')]\n",
      "[('p', 'http://www.wikidata.org/prop/direct/P2924'), ('name', 'Great Russian Encyclopedia Online ID')]\n",
      "[('p', 'http://www.wikidata.org/prop/direct/P31'), ('name', 'instance of')]\n",
      "[('p', 'http://www.wikidata.org/prop/direct/P3171'), ('name', 'Olympic.org athlete ID (archived version)')]\n",
      "[('p', 'http://www.wikidata.org/prop/direct/P3219'), ('name', 'Encyclopædia Universalis ID')]\n",
      "[('p', 'http://www.wikidata.org/prop/direct/P3221'), ('name', 'New York Times topic ID')]\n",
      "[('p', 'http://www.wikidata.org/prop/direct/P3222'), ('name', 'NE.se ID')]\n",
      "[('p', 'http://www.wikidata.org/prop/direct/P3388'), ('name', 'LittleSis people ID')]\n",
      "[('p', 'http://www.wikidata.org/prop/direct/P3417'), ('name', 'Quora topic ID')]\n",
      "[('p', 'http://www.wikidata.org/prop/direct/P345'), ('name', 'IMDb ID')]\n",
      "[('p', 'http://www.wikidata.org/prop/direct/P3527'), ('name', 'Eurobasket.com player ID')]\n",
      "[('p', 'http://www.wikidata.org/prop/direct/P3542'), ('name', 'FIBA player ID')]\n",
      "[('p', 'http://www.wikidata.org/prop/direct/P3553'), ('name', 'Zhihu topic ID')]\n",
      "[('p', 'http://www.wikidata.org/prop/direct/P373'), ('name', 'Commons category')]\n",
      "[('p', 'http://www.wikidata.org/prop/direct/P3762'), ('name', 'openMLOL author ID')]\n",
      "[('p', 'http://www.wikidata.org/prop/direct/P3957'), ('name', 'RealGM basketball player ID')]\n",
      "[('p', 'http://www.wikidata.org/prop/direct/P40'), ('name', 'child')]\n",
      "[('p', 'http://www.wikidata.org/prop/direct/P4063'), ('name', 'United States Olympic & Paralympic Committee athlete ID')]\n",
      "[('p', 'http://www.wikidata.org/prop/direct/P413'), ('name', 'position played on team / speciality')]\n",
      "[('p', 'http://www.wikidata.org/prop/direct/P434'), ('name', 'MusicBrainz artist ID')]\n",
      "[('p', 'http://www.wikidata.org/prop/direct/P4342'), ('name', 'Store norske leksikon ID')]\n",
      "[('p', 'http://www.wikidata.org/prop/direct/P4657'), ('name', 'The Numbers person ID')]\n",
      "[('p', 'http://www.wikidata.org/prop/direct/P4666'), ('name', 'CineMagia person ID')]\n",
      "[('p', 'http://www.wikidata.org/prop/direct/P4790'), ('name', 'Basketball-Reference.com international player ID')]\n",
      "[('p', 'http://www.wikidata.org/prop/direct/P4985'), ('name', 'TMDb person ID')]\n",
      "[('p', 'http://www.wikidata.org/prop/direct/P5007'), ('name', 'Behind The Voice Actors person ID')]\n",
      "[('p', 'http://www.wikidata.org/prop/direct/P5008'), ('name', 'on focus list of Wikimedia project')]\n",
      "[('p', 'http://www.wikidata.org/prop/direct/P54'), ('name', 'member of sports team')]\n",
      "[('p', 'http://www.wikidata.org/prop/direct/P5421'), ('name', 'Trading Card Database person ID')]\n",
      "[('p', 'http://www.wikidata.org/prop/direct/P551'), ('name', 'residence')]\n",
      "[('p', 'http://www.wikidata.org/prop/direct/P5617'), ('name', 'Evene ID')]\n",
      "[('p', 'http://www.wikidata.org/prop/direct/P569'), ('name', 'date of birth')]\n",
      "[('p', 'http://www.wikidata.org/prop/direct/P5815'), ('name', 'Olympics.com athlete ID')]\n",
      "[('p', 'http://www.wikidata.org/prop/direct/P5882'), ('name', 'Muziekweb performer ID')]\n",
      "[('p', 'http://www.wikidata.org/prop/direct/P6327'), ('name', 'Goodreads character ID')]\n",
      "[('p', 'http://www.wikidata.org/prop/direct/P641'), ('name', 'sport')]\n",
      "[('p', 'http://www.wikidata.org/prop/direct/P646'), ('name', 'Freebase ID')]\n",
      "[('p', 'http://www.wikidata.org/prop/direct/P6517'), ('name', 'WhoSampled artist ID')]\n",
      "[('p', 'http://www.wikidata.org/prop/direct/P6723'), ('name', 'BlackPast.org ID')]\n",
      "[('p', 'http://www.wikidata.org/prop/direct/P6868'), ('name', 'Hoopla artist ID')]\n",
      "[('p', 'http://www.wikidata.org/prop/direct/P69'), ('name', 'educated at')]\n",
      "[('p', 'http://www.wikidata.org/prop/direct/P7293'), ('name', 'PLWABN ID')]\n",
      "[('p', 'http://www.wikidata.org/prop/direct/P734'), ('name', 'family name')]\n",
      "[('p', 'http://www.wikidata.org/prop/direct/P735'), ('name', 'given name')]\n",
      "[('p', 'http://www.wikidata.org/prop/direct/P7644'), ('name', 'Encyclopedia of Cleveland History ID')]\n",
      "[('p', 'http://www.wikidata.org/prop/direct/P7818'), ('name', 'French Vikidia ID')]\n",
      "[('p', 'http://www.wikidata.org/prop/direct/P7832'), ('name', 'Basque Vikidia ID')]\n",
      "[('p', 'http://www.wikidata.org/prop/direct/P7859'), ('name', 'WorldCat Identities ID')]\n",
      "[('p', 'http://www.wikidata.org/prop/direct/P8125'), ('name', 'Fandango person ID')]\n",
      "[('p', 'http://www.wikidata.org/prop/direct/P8286'), ('name', 'Olympedia people ID')]\n",
      "[('p', 'http://www.wikidata.org/prop/direct/P8548'), ('name', 'Proballers ID')]\n",
      "[('p', 'http://www.wikidata.org/prop/direct/P856'), ('name', 'official website')]\n",
      "[('p', 'http://www.wikidata.org/prop/direct/P8672'), ('name', 'Twitter topic ID')]\n",
      "[('p', 'http://www.wikidata.org/prop/direct/P8687'), ('name', 'social media followers')]\n",
      "[('p', 'http://www.wikidata.org/prop/direct/P910'), ('name', \"topic's main category\")]\n",
      "[('p', 'http://www.wikidata.org/prop/direct/P935'), ('name', 'Commons gallery')]\n",
      "[('p', 'http://www.wikidata.org/prop/direct/P950'), ('name', 'Biblioteca Nacional de España ID')]\n",
      "[('p', 'http://www.wikidata.org/prop/direct/P9743'), ('name', 'Podchaser creator ID')]\n",
      "[('p', 'http://www.wikidata.org/prop/direct/P2685'), ('name', 'Basketball Reference NBA player ID')]\n",
      "[('p', 'http://www.wikidata.org/prop/direct/P3533'), ('name', 'DraftExpress ID')]\n",
      "[('p', 'http://www.wikidata.org/prop/direct/P3647'), ('name', 'NBA.com player ID')]\n",
      "[('p', 'http://www.wikidata.org/prop/direct/P3685'), ('name', 'ESPN.com NBA player ID')]\n",
      "[('p', 'http://www.wikidata.org/prop/direct/P647'), ('name', 'drafted by')]\n",
      "[('p', 'http://www.wikidata.org/prop/direct/P7339'), ('name', 'Rivals.com ID')]\n",
      "[('p', 'http://www.wikidata.org/prop/direct/P7397'), ('name', '247Sports ID')]\n",
      "101\n"
     ]
    }
   ],
   "source": [
    "# maybe mvb is connected with the player (Lebron James has for sure won an MVP)\n",
    "queryString = \"\"\"\n",
    "SELECT DISTINCT ?p ?name\n",
    "WHERE {\n",
    "   # bind something\n",
    "   wd:Q36159 ?p ?obj .\n",
    "   # get the label\n",
    "   ?p sc:name ?name.\n",
    "}\n",
    "LIMIT 200\n",
    "\"\"\"\n",
    "\n",
    "print(\"Results\")\n",
    "x=run_query(queryString)"
   ]
  },
  {
   "cell_type": "code",
   "execution_count": 57,
   "id": "a69bb0a7-e5b2-4f07-ab7a-d8d4b22dee4c",
   "metadata": {},
   "outputs": [
    {
     "name": "stdout",
     "output_type": "stream",
     "text": [
      "Results\n",
      "[('obj', 'http://www.wikidata.org/entity/Q1501719'), ('name', 'J. Walter Kennedy Citizenship Award')]\n",
      "[('obj', 'http://www.wikidata.org/entity/Q4896605'), ('name', 'Best Championship Performance ESPY Award')]\n",
      "[('obj', 'http://www.wikidata.org/entity/Q4896598'), ('name', 'Best Breakthrough Athlete ESPY Award')]\n",
      "[('obj', 'http://www.wikidata.org/entity/Q743122'), ('name', 'Associated Press Athlete of the Year')]\n",
      "[('obj', 'http://www.wikidata.org/entity/Q1418009'), ('name', 'NBA All-Rookie Team')]\n",
      "[('obj', 'http://www.wikidata.org/entity/Q1465181'), ('name', 'NBA All-Defensive Team')]\n",
      "[('obj', 'http://www.wikidata.org/entity/Q1653207'), ('name', 'Sports Illustrated Sportsperson of the Year')]\n",
      "[('obj', 'http://www.wikidata.org/entity/Q222047'), ('name', 'NBA Most Valuable Player Award')]\n",
      "[('obj', 'http://www.wikidata.org/entity/Q31391'), ('name', 'NBA All-Star Game Kobe Bryant Most Valuable Player Award')]\n",
      "[('obj', 'http://www.wikidata.org/entity/Q4835465'), ('name', 'BET Award for Athlete of the Century')]\n",
      "[('obj', 'http://www.wikidata.org/entity/Q4896724'), ('name', 'Best Male Athlete ESPY Award')]\n",
      "[('obj', 'http://www.wikidata.org/entity/Q644357'), ('name', 'NBA Rookie of the Year Award')]\n",
      "[('obj', 'http://www.wikidata.org/entity/Q674359'), ('name', 'All-NBA Team')]\n",
      "[('obj', 'http://www.wikidata.org/entity/Q739499'), ('name', 'Bill Russell NBA Finals Most Valuable Player Award')]\n",
      "[('obj', 'http://www.wikidata.org/entity/Q943106'), ('name', 'Best NBA Player ESPY Award')]\n",
      "[('obj', 'http://www.wikidata.org/entity/Q7080855'), ('name', 'Ohio Mr. Basketball')]\n",
      "[('obj', 'http://www.wikidata.org/entity/Q2282428'), ('name', 'Naismith Prep Player of the Year Award')]\n",
      "17\n"
     ]
    }
   ],
   "source": [
    "# FINAL QUERY\n",
    "# award received (wdt:P166) by Lebron James -> nba mvp wd:Q222047\n",
    "queryString = \"\"\"\n",
    "SELECT DISTINCT ?obj ?name\n",
    "WHERE {\n",
    "   # bind something\n",
    "   wd:Q36159 wdt:P166 ?obj .\n",
    "   # get the label\n",
    "   ?obj sc:name ?name.\n",
    "}\n",
    "LIMIT 200\n",
    "\"\"\"\n",
    "\n",
    "print(\"Results\")\n",
    "x=run_query(queryString)"
   ]
  },
  {
   "cell_type": "markdown",
   "id": "d2f30905-fe51-46bc-bce0-6858b25d8647",
   "metadata": {},
   "source": [
    ">The node we are interested in is \"wd:Q222047\" with label \"NBA Most Valuable Player Award\""
   ]
  },
  {
   "cell_type": "markdown",
   "id": "4e0305b8",
   "metadata": {},
   "source": [
    "## Task 9\n",
    "Consider the players who won the NBA Most Valuable Player Award. Return for these players the number of NBA Most Valuable Player Award won in their career (the result set must be triples of player IRI, label and #victories)"
   ]
  },
  {
   "cell_type": "code",
   "execution_count": 58,
   "id": "fc73f1ea",
   "metadata": {},
   "outputs": [
    {
     "name": "stdout",
     "output_type": "stream",
     "text": [
      "Results\n",
      "[('p', 'http://www.wikidata.org/prop/direct/P1411'), ('pname', 'nominated for')]\n",
      "[('p', 'http://www.wikidata.org/prop/direct/P166'), ('pname', 'award received')]\n",
      "[('p', 'http://www.wikidata.org/prop/direct/P301'), ('pname', \"category's main topic\")]\n",
      "[('p', 'http://www.wikidata.org/prop/direct/P1346'), ('pname', 'winner')]\n",
      "[('p', 'http://www.wikidata.org/prop/direct/P17'), ('pname', 'country')]\n",
      "[('p', 'http://www.wikidata.org/prop/direct/P1814'), ('pname', 'name in kana')]\n",
      "[('p', 'http://www.wikidata.org/prop/direct/P31'), ('pname', 'instance of')]\n",
      "[('p', 'http://www.wikidata.org/prop/direct/P571'), ('pname', 'inception')]\n",
      "[('p', 'http://www.wikidata.org/prop/direct/P641'), ('pname', 'sport')]\n",
      "[('p', 'http://www.wikidata.org/prop/direct/P646'), ('pname', 'Freebase ID')]\n",
      "[('p', 'http://www.wikidata.org/prop/direct/P910'), ('pname', \"topic's main category\")]\n",
      "[('p', 'http://www.w3.org/1999/02/22-rdf-syntax-ns#type')]\n",
      "[('p', 'http://www.wikidata.org/prop/direct-normalized/P646')]\n",
      "[('p', 'http://schema.org/name')]\n",
      "14\n"
     ]
    }
   ],
   "source": [
    "# incoming/outgoing edges to/from NBA mvp. No predicates refeering to date, with the exception with inception.\n",
    "queryString = \"\"\"\n",
    "SELECT DISTINCT ?p ?pname \n",
    "WHERE {{\n",
    "   # bind something\n",
    "   ?sub ?p wd:Q222047.\n",
    "   # get the label\n",
    "   ?p sc:name ?pname.}\n",
    "   UNION{\n",
    "   wd:Q222047 ?p ?obj.\n",
    "   OPTIONAL {?p sc:name ?pname.}\n",
    "   }\n",
    "}\n",
    "LIMIT 20\n",
    "\"\"\"\n",
    "\n",
    "print(\"Results\")\n",
    "x=run_query(queryString)"
   ]
  },
  {
   "cell_type": "code",
   "execution_count": 59,
   "id": "d00e4831-c8d1-4a20-8b26-a128b467a47c",
   "metadata": {},
   "outputs": [
    {
     "name": "stdout",
     "output_type": "stream",
     "text": [
      "Results\n",
      "Empty\n"
     ]
    }
   ],
   "source": [
    "# No specific instances of mvp award (e.g. no \"2017 MVP Award\")\n",
    "\n",
    "queryString = \"\"\"\n",
    "SELECT DISTINCT ?p ?pname \n",
    "WHERE {\n",
    "   # bind something\n",
    "   ?sub wdt:P31 wd:Q222047.\n",
    "   # get the label\n",
    "   ?p sc:name ?pname.\n",
    "  \n",
    "}\n",
    "LIMIT 20\n",
    "\"\"\"\n",
    "\n",
    "print(\"Results\")\n",
    "x=run_query(queryString)"
   ]
  },
  {
   "cell_type": "code",
   "execution_count": 60,
   "id": "7fb6dd8d",
   "metadata": {},
   "outputs": [
    {
     "name": "stdout",
     "output_type": "stream",
     "text": [
      "Results\n",
      "[('sub', 'http://www.wikidata.org/entity/Q179051'), ('name', 'Kareem Abdul-Jabbar')]\n",
      "[('sub', 'http://www.wikidata.org/entity/Q134183'), ('name', 'Magic Johnson')]\n",
      "[('sub', 'http://www.wikidata.org/entity/Q169452'), ('name', \"Shaquille O'Neal\")]\n",
      "[('sub', 'http://www.wikidata.org/entity/Q17717'), ('name', 'Oscar Robertson')]\n",
      "[('sub', 'http://www.wikidata.org/entity/Q182455'), ('name', 'Wilt Chamberlain')]\n",
      "[('sub', 'http://www.wikidata.org/entity/Q189240'), ('name', 'Kevin Garnett')]\n",
      "[('sub', 'http://www.wikidata.org/entity/Q190094'), ('name', 'Allen Iverson')]\n",
      "[('sub', 'http://www.wikidata.org/entity/Q190152'), ('name', 'Larry Bird')]\n",
      "[('sub', 'http://www.wikidata.org/entity/Q192707'), ('name', 'Charles Barkley')]\n",
      "[('sub', 'http://www.wikidata.org/entity/Q193020'), ('name', 'Tim Duncan')]\n",
      "[('sub', 'http://www.wikidata.org/entity/Q196185'), ('name', 'Russell Westbrook')]\n",
      "[('sub', 'http://www.wikidata.org/entity/Q199896'), ('name', 'Karl Malone')]\n",
      "[('sub', 'http://www.wikidata.org/entity/Q209921'), ('name', 'Julius Erving')]\n",
      "[('sub', 'http://www.wikidata.org/entity/Q242185'), ('name', 'Bill Russell')]\n",
      "[('sub', 'http://www.wikidata.org/entity/Q25369'), ('name', 'Kobe Bryant')]\n",
      "[('sub', 'http://www.wikidata.org/entity/Q264393'), ('name', 'Dave Cowens')]\n",
      "[('sub', 'http://www.wikidata.org/entity/Q29545'), ('name', 'Kevin Durant')]\n",
      "[('sub', 'http://www.wikidata.org/entity/Q312643'), ('name', 'Bob Cousy')]\n",
      "[('sub', 'http://www.wikidata.org/entity/Q36159'), ('name', 'LeBron James')]\n",
      "[('sub', 'http://www.wikidata.org/entity/Q368561'), ('name', 'Bob Pettit')]\n",
      "20\n"
     ]
    }
   ],
   "source": [
    "# players that have as \"award received\" (wd:P166) an NBA MVP\n",
    "queryString = \"\"\"\n",
    "SELECT DISTINCT ?sub ?name \n",
    "WHERE {\n",
    "   # bind something\n",
    "   ?sub wdt:P166 wd:Q222047.\n",
    "   # get the label\n",
    "   ?sub sc:name ?name.\n",
    "   #?p sc:name ?pname.\n",
    "\n",
    "}\n",
    "LIMIT 20\n",
    "\"\"\"\n",
    "\n",
    "print(\"Results\")\n",
    "x=run_query(queryString)"
   ]
  },
  {
   "cell_type": "code",
   "execution_count": 61,
   "id": "947eb31c-e826-4757-a60d-aa3c862f8d6a",
   "metadata": {},
   "outputs": [
    {
     "name": "stdout",
     "output_type": "stream",
     "text": [
      "Results\n",
      "[('p', 'http://www.wikidata.org/prop/direct/P1346'), ('pname', 'winner'), ('obj', 'http://www.wikidata.org/entity/Q29545'), ('name', 'Kevin Durant')]\n",
      "[('p', 'http://www.wikidata.org/prop/direct/P1346'), ('pname', 'winner'), ('obj', 'http://www.wikidata.org/entity/Q205326'), ('name', 'Derrick Rose')]\n",
      "[('p', 'http://www.wikidata.org/prop/direct/P1346'), ('pname', 'winner'), ('obj', 'http://www.wikidata.org/entity/Q192707'), ('name', 'Charles Barkley')]\n",
      "[('p', 'http://www.wikidata.org/prop/direct/P1346'), ('pname', 'winner'), ('obj', 'http://www.wikidata.org/entity/Q192955'), ('name', 'Steve Nash')]\n",
      "[('p', 'http://www.wikidata.org/prop/direct/P1346'), ('pname', 'winner'), ('obj', 'http://www.wikidata.org/entity/Q182455'), ('name', 'Wilt Chamberlain')]\n",
      "[('p', 'http://www.wikidata.org/prop/direct/P1346'), ('pname', 'winner'), ('obj', 'http://www.wikidata.org/entity/Q380515'), ('name', 'Willis Reed')]\n",
      "[('p', 'http://www.wikidata.org/prop/direct/P1346'), ('pname', 'winner'), ('obj', 'http://www.wikidata.org/entity/Q8991894'), ('name', 'Giannis Antetokounmpo')]\n",
      "[('p', 'http://www.wikidata.org/prop/direct/P1346'), ('pname', 'winner'), ('obj', 'http://www.wikidata.org/entity/Q209921'), ('name', 'Julius Erving')]\n",
      "[('p', 'http://www.wikidata.org/prop/direct/P1346'), ('pname', 'winner'), ('obj', 'http://www.wikidata.org/entity/Q134183'), ('name', 'Magic Johnson')]\n",
      "[('p', 'http://www.wikidata.org/prop/direct/P1346'), ('pname', 'winner'), ('obj', 'http://www.wikidata.org/entity/Q273256'), ('name', 'Hakeem Olajuwon')]\n",
      "[('p', 'http://www.wikidata.org/prop/direct/P1346'), ('pname', 'winner'), ('obj', 'http://www.wikidata.org/entity/Q190094'), ('name', 'Allen Iverson')]\n",
      "[('p', 'http://www.wikidata.org/prop/direct/P1346'), ('pname', 'winner'), ('obj', 'http://www.wikidata.org/entity/Q316179'), ('name', 'Moses Malone')]\n",
      "[('p', 'http://www.wikidata.org/prop/direct/P1346'), ('pname', 'winner'), ('obj', 'http://www.wikidata.org/entity/Q25369'), ('name', 'Kobe Bryant')]\n",
      "[('p', 'http://www.wikidata.org/prop/direct/P1346'), ('pname', 'winner'), ('obj', 'http://www.wikidata.org/entity/Q647516'), ('name', 'Zach Brown')]\n",
      "[('p', 'http://www.wikidata.org/prop/direct/P1346'), ('pname', 'winner'), ('obj', 'http://www.wikidata.org/entity/Q36159'), ('name', 'LeBron James')]\n",
      "[('p', 'http://www.wikidata.org/prop/direct/P1346'), ('pname', 'winner'), ('obj', 'http://www.wikidata.org/entity/Q196185'), ('name', 'Russell Westbrook')]\n",
      "[('p', 'http://www.wikidata.org/prop/direct/P1346'), ('pname', 'winner'), ('obj', 'http://www.wikidata.org/entity/Q456776'), ('name', 'Wes Unseld')]\n",
      "[('p', 'http://www.wikidata.org/prop/direct/P1346'), ('pname', 'winner'), ('obj', 'http://www.wikidata.org/entity/Q179051'), ('name', 'Kareem Abdul-Jabbar')]\n",
      "[('p', 'http://www.wikidata.org/prop/direct/P1346'), ('pname', 'winner'), ('obj', 'http://www.wikidata.org/entity/Q368561'), ('name', 'Bob Pettit')]\n",
      "[('p', 'http://www.wikidata.org/prop/direct/P1346'), ('pname', 'winner'), ('obj', 'http://www.wikidata.org/entity/Q17717'), ('name', 'Oscar Robertson')]\n",
      "[('p', 'http://www.wikidata.org/prop/direct/P1346'), ('pname', 'winner'), ('obj', 'http://www.wikidata.org/entity/Q553232'), ('name', 'Bob McAdoo')]\n",
      "[('p', 'http://www.wikidata.org/prop/direct/P1346'), ('pname', 'winner'), ('obj', 'http://www.wikidata.org/entity/Q199896'), ('name', 'Karl Malone')]\n",
      "[('p', 'http://www.wikidata.org/prop/direct/P1346'), ('pname', 'winner'), ('obj', 'http://www.wikidata.org/entity/Q352159'), ('name', 'Stephen Curry')]\n",
      "[('p', 'http://www.wikidata.org/prop/direct/P1346'), ('pname', 'winner'), ('obj', 'http://www.wikidata.org/entity/Q264393'), ('name', 'Dave Cowens')]\n",
      "[('p', 'http://www.wikidata.org/prop/direct/P1346'), ('pname', 'winner'), ('obj', 'http://www.wikidata.org/entity/Q190152'), ('name', 'Larry Bird')]\n",
      "[('p', 'http://www.wikidata.org/prop/direct/P1346'), ('pname', 'winner'), ('obj', 'http://www.wikidata.org/entity/Q211876'), ('name', 'David Robinson')]\n",
      "[('p', 'http://www.wikidata.org/prop/direct/P1346'), ('pname', 'winner'), ('obj', 'http://www.wikidata.org/entity/Q27662581'), ('name', 'Alex Caruso')]\n",
      "[('p', 'http://www.wikidata.org/prop/direct/P1346'), ('pname', 'winner'), ('obj', 'http://www.wikidata.org/entity/Q312643'), ('name', 'Bob Cousy')]\n",
      "[('p', 'http://www.wikidata.org/prop/direct/P1346'), ('pname', 'winner'), ('obj', 'http://www.wikidata.org/entity/Q193020'), ('name', 'Tim Duncan')]\n",
      "[('p', 'http://www.wikidata.org/prop/direct/P1346'), ('pname', 'winner'), ('obj', 'http://www.wikidata.org/entity/Q363246'), ('name', 'Bill Walton')]\n",
      "[('p', 'http://www.wikidata.org/prop/direct/P1346'), ('pname', 'winner'), ('obj', 'http://www.wikidata.org/entity/Q189240'), ('name', 'Kevin Garnett')]\n",
      "[('p', 'http://www.wikidata.org/prop/direct/P1346'), ('pname', 'winner'), ('obj', 'http://www.wikidata.org/entity/Q44068'), ('name', 'Dirk Nowitzki')]\n",
      "[('p', 'http://www.wikidata.org/prop/direct/P1346'), ('pname', 'winner'), ('obj', 'http://www.wikidata.org/entity/Q41421'), ('name', 'Michael Jordan')]\n",
      "[('p', 'http://www.wikidata.org/prop/direct/P1346'), ('pname', 'winner'), ('obj', 'http://www.wikidata.org/entity/Q136678'), ('name', 'James Harden')]\n",
      "[('p', 'http://www.wikidata.org/prop/direct/P1346'), ('pname', 'winner'), ('obj', 'http://www.wikidata.org/entity/Q242185'), ('name', 'Bill Russell')]\n",
      "[('p', 'http://www.wikidata.org/prop/direct/P17'), ('pname', 'country'), ('obj', 'http://www.wikidata.org/entity/Q30'), ('name', 'United States of America')]\n",
      "[('p', 'http://www.wikidata.org/prop/direct/P31'), ('pname', 'instance of'), ('obj', 'http://www.wikidata.org/entity/Q652965'), ('name', 'most valuable player award')]\n",
      "[('p', 'http://www.wikidata.org/prop/direct/P641'), ('pname', 'sport'), ('obj', 'http://www.wikidata.org/entity/Q5372'), ('name', 'basketball')]\n",
      "38\n"
     ]
    }
   ],
   "source": [
    "# outgoing edges from NBA mvp with objects. Looking for year of the victory. \n",
    "\n",
    "queryString = \"\"\"\n",
    "SELECT DISTINCT ?p ?pname ?obj ?name\n",
    "WHERE {\n",
    "   wd:Q222047 ?p ?obj.\n",
    "   ?obj sc:name ?name.\n",
    "   ?p sc:name ?pname.\n",
    "   \n",
    "}\n",
    "LIMIT 200\n",
    "\"\"\"\n",
    "\n",
    "print(\"Results\")\n",
    "x=run_query(queryString)"
   ]
  },
  {
   "cell_type": "code",
   "execution_count": 62,
   "id": "c7b2f332-e1e1-42d8-bf44-8de279da0f3b",
   "metadata": {},
   "outputs": [
    {
     "name": "stdout",
     "output_type": "stream",
     "text": [
      "Results\n",
      "[('sub', 'http://www.wikidata.org/entity/Q352696'), ('name', 'Michael Beasley'), ('p', 'http://www.wikidata.org/prop/direct/P1411'), ('pname', 'nominated for')]\n",
      "[('sub', 'http://www.wikidata.org/entity/Q264393'), ('name', 'Dave Cowens'), ('p', 'http://www.wikidata.org/prop/direct/P166'), ('pname', 'award received')]\n",
      "[('sub', 'http://www.wikidata.org/entity/Q190152'), ('name', 'Larry Bird'), ('p', 'http://www.wikidata.org/prop/direct/P166'), ('pname', 'award received')]\n",
      "[('sub', 'http://www.wikidata.org/entity/Q553232'), ('name', 'Bob McAdoo'), ('p', 'http://www.wikidata.org/prop/direct/P166'), ('pname', 'award received')]\n",
      "[('sub', 'http://www.wikidata.org/entity/Q273256'), ('name', 'Hakeem Olajuwon'), ('p', 'http://www.wikidata.org/prop/direct/P166'), ('pname', 'award received')]\n",
      "[('sub', 'http://www.wikidata.org/entity/Q17717'), ('name', 'Oscar Robertson'), ('p', 'http://www.wikidata.org/prop/direct/P166'), ('pname', 'award received')]\n",
      "[('sub', 'http://www.wikidata.org/entity/Q368561'), ('name', 'Bob Pettit'), ('p', 'http://www.wikidata.org/prop/direct/P166'), ('pname', 'award received')]\n",
      "[('sub', 'http://www.wikidata.org/entity/Q352159'), ('name', 'Stephen Curry'), ('p', 'http://www.wikidata.org/prop/direct/P166'), ('pname', 'award received')]\n",
      "[('sub', 'http://www.wikidata.org/entity/Q199896'), ('name', 'Karl Malone'), ('p', 'http://www.wikidata.org/prop/direct/P166'), ('pname', 'award received')]\n",
      "[('sub', 'http://www.wikidata.org/entity/Q134183'), ('name', 'Magic Johnson'), ('p', 'http://www.wikidata.org/prop/direct/P166'), ('pname', 'award received')]\n",
      "[('sub', 'http://www.wikidata.org/entity/Q192955'), ('name', 'Steve Nash'), ('p', 'http://www.wikidata.org/prop/direct/P166'), ('pname', 'award received')]\n",
      "[('sub', 'http://www.wikidata.org/entity/Q193020'), ('name', 'Tim Duncan'), ('p', 'http://www.wikidata.org/prop/direct/P166'), ('pname', 'award received')]\n",
      "[('sub', 'http://www.wikidata.org/entity/Q136678'), ('name', 'James Harden'), ('p', 'http://www.wikidata.org/prop/direct/P166'), ('pname', 'award received')]\n",
      "[('sub', 'http://www.wikidata.org/entity/Q312643'), ('name', 'Bob Cousy'), ('p', 'http://www.wikidata.org/prop/direct/P166'), ('pname', 'award received')]\n",
      "[('sub', 'http://www.wikidata.org/entity/Q205326'), ('name', 'Derrick Rose'), ('p', 'http://www.wikidata.org/prop/direct/P166'), ('pname', 'award received')]\n",
      "[('sub', 'http://www.wikidata.org/entity/Q242185'), ('name', 'Bill Russell'), ('p', 'http://www.wikidata.org/prop/direct/P166'), ('pname', 'award received')]\n",
      "[('sub', 'http://www.wikidata.org/entity/Q363246'), ('name', 'Bill Walton'), ('p', 'http://www.wikidata.org/prop/direct/P166'), ('pname', 'award received')]\n",
      "[('sub', 'http://www.wikidata.org/entity/Q189240'), ('name', 'Kevin Garnett'), ('p', 'http://www.wikidata.org/prop/direct/P166'), ('pname', 'award received')]\n",
      "[('sub', 'http://www.wikidata.org/entity/Q41421'), ('name', 'Michael Jordan'), ('p', 'http://www.wikidata.org/prop/direct/P166'), ('pname', 'award received')]\n",
      "[('sub', 'http://www.wikidata.org/entity/Q179051'), ('name', 'Kareem Abdul-Jabbar'), ('p', 'http://www.wikidata.org/prop/direct/P166'), ('pname', 'award received')]\n",
      "[('sub', 'http://www.wikidata.org/entity/Q36159'), ('name', 'LeBron James'), ('p', 'http://www.wikidata.org/prop/direct/P166'), ('pname', 'award received')]\n",
      "[('sub', 'http://www.wikidata.org/entity/Q169452'), ('name', \"Shaquille O'Neal\"), ('p', 'http://www.wikidata.org/prop/direct/P166'), ('pname', 'award received')]\n",
      "[('sub', 'http://www.wikidata.org/entity/Q456776'), ('name', 'Wes Unseld'), ('p', 'http://www.wikidata.org/prop/direct/P166'), ('pname', 'award received')]\n",
      "[('sub', 'http://www.wikidata.org/entity/Q196185'), ('name', 'Russell Westbrook'), ('p', 'http://www.wikidata.org/prop/direct/P166'), ('pname', 'award received')]\n",
      "[('sub', 'http://www.wikidata.org/entity/Q316179'), ('name', 'Moses Malone'), ('p', 'http://www.wikidata.org/prop/direct/P166'), ('pname', 'award received')]\n",
      "[('sub', 'http://www.wikidata.org/entity/Q25369'), ('name', 'Kobe Bryant'), ('p', 'http://www.wikidata.org/prop/direct/P166'), ('pname', 'award received')]\n",
      "[('sub', 'http://www.wikidata.org/entity/Q190094'), ('name', 'Allen Iverson'), ('p', 'http://www.wikidata.org/prop/direct/P166'), ('pname', 'award received')]\n",
      "[('sub', 'http://www.wikidata.org/entity/Q44068'), ('name', 'Dirk Nowitzki'), ('p', 'http://www.wikidata.org/prop/direct/P166'), ('pname', 'award received')]\n",
      "[('sub', 'http://www.wikidata.org/entity/Q17281073'), ('name', 'Nikola Jokić'), ('p', 'http://www.wikidata.org/prop/direct/P166'), ('pname', 'award received')]\n",
      "[('sub', 'http://www.wikidata.org/entity/Q29545'), ('name', 'Kevin Durant'), ('p', 'http://www.wikidata.org/prop/direct/P166'), ('pname', 'award received')]\n",
      "[('sub', 'http://www.wikidata.org/entity/Q192707'), ('name', 'Charles Barkley'), ('p', 'http://www.wikidata.org/prop/direct/P166'), ('pname', 'award received')]\n",
      "[('sub', 'http://www.wikidata.org/entity/Q211876'), ('name', 'David Robinson'), ('p', 'http://www.wikidata.org/prop/direct/P166'), ('pname', 'award received')]\n",
      "[('sub', 'http://www.wikidata.org/entity/Q182455'), ('name', 'Wilt Chamberlain'), ('p', 'http://www.wikidata.org/prop/direct/P166'), ('pname', 'award received')]\n",
      "[('sub', 'http://www.wikidata.org/entity/Q380515'), ('name', 'Willis Reed'), ('p', 'http://www.wikidata.org/prop/direct/P166'), ('pname', 'award received')]\n",
      "[('sub', 'http://www.wikidata.org/entity/Q8991894'), ('name', 'Giannis Antetokounmpo'), ('p', 'http://www.wikidata.org/prop/direct/P166'), ('pname', 'award received')]\n",
      "[('sub', 'http://www.wikidata.org/entity/Q209921'), ('name', 'Julius Erving'), ('p', 'http://www.wikidata.org/prop/direct/P166'), ('pname', 'award received')]\n",
      "36\n"
     ]
    }
   ],
   "source": [
    "# incoming edges to NBA mvp\n",
    "queryString = \"\"\"\n",
    "SELECT DISTINCT ?sub ?name ?p ?pname \n",
    "WHERE {\n",
    "   ?sub ?p wd:Q222047.\n",
    "   ?sub sc:name ?name.\n",
    "   ?p sc:name ?pname.\n",
    "   \n",
    "}\n",
    "LIMIT 200\n",
    "\"\"\"\n",
    "\n",
    "print(\"Results\")\n",
    "x=run_query(queryString)"
   ]
  },
  {
   "cell_type": "code",
   "execution_count": 63,
   "id": "f10f014d-072d-47d8-9547-e3d6b2097aeb",
   "metadata": {},
   "outputs": [
    {
     "name": "stdout",
     "output_type": "stream",
     "text": [
      "Results\n",
      "[('p', 'http://www.wikidata.org/prop/direct/P1346'), ('pname', 'winner'), ('obj', 'http://www.wikidata.org/entity/Q179051'), ('name', 'Kareem Abdul-Jabbar')]\n",
      "[('p', 'http://www.wikidata.org/prop/direct/P17'), ('pname', 'country'), ('obj', 'http://www.wikidata.org/entity/Q30'), ('name', 'United States of America')]\n",
      "[('p', 'http://www.wikidata.org/prop/direct/P641'), ('pname', 'sport'), ('obj', 'http://www.wikidata.org/entity/Q5372'), ('name', 'basketball')]\n",
      "[('p', 'http://www.wikidata.org/prop/direct/P1346'), ('pname', 'winner'), ('obj', 'http://www.wikidata.org/entity/Q134183'), ('name', 'Magic Johnson')]\n",
      "[('p', 'http://www.wikidata.org/prop/direct/P1346'), ('pname', 'winner'), ('obj', 'http://www.wikidata.org/entity/Q17717'), ('name', 'Oscar Robertson')]\n",
      "[('p', 'http://www.wikidata.org/prop/direct/P1346'), ('pname', 'winner'), ('obj', 'http://www.wikidata.org/entity/Q182455'), ('name', 'Wilt Chamberlain')]\n",
      "[('p', 'http://www.wikidata.org/prop/direct/P1346'), ('pname', 'winner'), ('obj', 'http://www.wikidata.org/entity/Q189240'), ('name', 'Kevin Garnett')]\n",
      "[('p', 'http://www.wikidata.org/prop/direct/P1346'), ('pname', 'winner'), ('obj', 'http://www.wikidata.org/entity/Q190094'), ('name', 'Allen Iverson')]\n",
      "[('p', 'http://www.wikidata.org/prop/direct/P1346'), ('pname', 'winner'), ('obj', 'http://www.wikidata.org/entity/Q190152'), ('name', 'Larry Bird')]\n",
      "[('p', 'http://www.wikidata.org/prop/direct/P1346'), ('pname', 'winner'), ('obj', 'http://www.wikidata.org/entity/Q192707'), ('name', 'Charles Barkley')]\n",
      "[('p', 'http://www.wikidata.org/prop/direct/P1346'), ('pname', 'winner'), ('obj', 'http://www.wikidata.org/entity/Q193020'), ('name', 'Tim Duncan')]\n",
      "[('p', 'http://www.wikidata.org/prop/direct/P1346'), ('pname', 'winner'), ('obj', 'http://www.wikidata.org/entity/Q196185'), ('name', 'Russell Westbrook')]\n",
      "[('p', 'http://www.wikidata.org/prop/direct/P1346'), ('pname', 'winner'), ('obj', 'http://www.wikidata.org/entity/Q199896'), ('name', 'Karl Malone')]\n",
      "[('p', 'http://www.wikidata.org/prop/direct/P1346'), ('pname', 'winner'), ('obj', 'http://www.wikidata.org/entity/Q209921'), ('name', 'Julius Erving')]\n",
      "[('p', 'http://www.wikidata.org/prop/direct/P1346'), ('pname', 'winner'), ('obj', 'http://www.wikidata.org/entity/Q242185'), ('name', 'Bill Russell')]\n",
      "[('p', 'http://www.wikidata.org/prop/direct/P1346'), ('pname', 'winner'), ('obj', 'http://www.wikidata.org/entity/Q25369'), ('name', 'Kobe Bryant')]\n",
      "[('p', 'http://www.wikidata.org/prop/direct/P1346'), ('pname', 'winner'), ('obj', 'http://www.wikidata.org/entity/Q264393'), ('name', 'Dave Cowens')]\n",
      "[('p', 'http://www.wikidata.org/prop/direct/P1346'), ('pname', 'winner'), ('obj', 'http://www.wikidata.org/entity/Q29545'), ('name', 'Kevin Durant')]\n",
      "[('p', 'http://www.wikidata.org/prop/direct/P1346'), ('pname', 'winner'), ('obj', 'http://www.wikidata.org/entity/Q312643'), ('name', 'Bob Cousy')]\n",
      "[('p', 'http://www.wikidata.org/prop/direct/P1346'), ('pname', 'winner'), ('obj', 'http://www.wikidata.org/entity/Q36159'), ('name', 'LeBron James')]\n",
      "[('p', 'http://www.wikidata.org/prop/direct/P1346'), ('pname', 'winner'), ('obj', 'http://www.wikidata.org/entity/Q368561'), ('name', 'Bob Pettit')]\n",
      "[('p', 'http://www.wikidata.org/prop/direct/P1346'), ('pname', 'winner'), ('obj', 'http://www.wikidata.org/entity/Q380515'), ('name', 'Willis Reed')]\n",
      "[('p', 'http://www.wikidata.org/prop/direct/P1346'), ('pname', 'winner'), ('obj', 'http://www.wikidata.org/entity/Q41421'), ('name', 'Michael Jordan')]\n",
      "[('p', 'http://www.wikidata.org/prop/direct/P31'), ('pname', 'instance of'), ('obj', 'http://www.wikidata.org/entity/Q652965'), ('name', 'most valuable player award')]\n",
      "[('p', 'http://www.wikidata.org/prop/direct/P1346'), ('pname', 'winner'), ('obj', 'http://www.wikidata.org/entity/Q44068'), ('name', 'Dirk Nowitzki')]\n",
      "[('p', 'http://www.wikidata.org/prop/direct/P1346'), ('pname', 'winner'), ('obj', 'http://www.wikidata.org/entity/Q273256'), ('name', 'Hakeem Olajuwon')]\n",
      "[('p', 'http://www.wikidata.org/prop/direct/P1346'), ('pname', 'winner'), ('obj', 'http://www.wikidata.org/entity/Q211876'), ('name', 'David Robinson')]\n",
      "[('p', 'http://www.wikidata.org/prop/direct/P1346'), ('pname', 'winner'), ('obj', 'http://www.wikidata.org/entity/Q192955'), ('name', 'Steve Nash')]\n",
      "[('p', 'http://www.wikidata.org/prop/direct/P1346'), ('pname', 'winner'), ('obj', 'http://www.wikidata.org/entity/Q363246'), ('name', 'Bill Walton')]\n",
      "[('p', 'http://www.wikidata.org/prop/direct/P1346'), ('pname', 'winner'), ('obj', 'http://www.wikidata.org/entity/Q456776'), ('name', 'Wes Unseld')]\n",
      "[('p', 'http://www.wikidata.org/prop/direct/P1346'), ('pname', 'winner'), ('obj', 'http://www.wikidata.org/entity/Q553232'), ('name', 'Bob McAdoo')]\n",
      "[('p', 'http://www.wikidata.org/prop/direct/P1346'), ('pname', 'winner'), ('obj', 'http://www.wikidata.org/entity/Q8991894'), ('name', 'Giannis Antetokounmpo')]\n",
      "[('p', 'http://www.wikidata.org/prop/direct/P1346'), ('pname', 'winner'), ('obj', 'http://www.wikidata.org/entity/Q136678'), ('name', 'James Harden')]\n",
      "[('p', 'http://www.wikidata.org/prop/direct/P1346'), ('pname', 'winner'), ('obj', 'http://www.wikidata.org/entity/Q316179'), ('name', 'Moses Malone')]\n",
      "[('p', 'http://www.wikidata.org/prop/direct/P1346'), ('pname', 'winner'), ('obj', 'http://www.wikidata.org/entity/Q352159'), ('name', 'Stephen Curry')]\n",
      "[('p', 'http://www.wikidata.org/prop/direct/P1346'), ('pname', 'winner'), ('obj', 'http://www.wikidata.org/entity/Q205326'), ('name', 'Derrick Rose')]\n",
      "[('p', 'http://www.wikidata.org/prop/direct/P1346'), ('pname', 'winner'), ('obj', 'http://www.wikidata.org/entity/Q27662581'), ('name', 'Alex Caruso')]\n",
      "[('p', 'http://www.wikidata.org/prop/direct/P1346'), ('pname', 'winner'), ('obj', 'http://www.wikidata.org/entity/Q647516'), ('name', 'Zach Brown')]\n",
      "[('p', 'http://www.wikidata.org/prop/direct/P1814'), ('pname', 'name in kana'), ('obj', 'さいゆうしゅうせんしゅしょう')]\n",
      "[('p', 'http://www.wikidata.org/prop/direct/P571'), ('pname', 'inception'), ('obj', '1956-01-01T00:00:00Z')]\n",
      "[('p', 'http://www.wikidata.org/prop/direct/P646'), ('pname', 'Freebase ID'), ('obj', '/m/02yqk8')]\n",
      "[('p', 'http://www.wikidata.org/prop/direct/P910'), ('pname', \"topic's main category\"), ('obj', 'http://www.wikidata.org/entity/Q9630219')]\n",
      "42\n"
     ]
    }
   ],
   "source": [
    "# outgoing edges from NBA mvp with objects. Looking for some year references..\n",
    "# Only date present is the inception, likely of the award itself\n",
    "queryString = \"\"\"\n",
    "SELECT DISTINCT ?p ?pname ?obj ?name\n",
    "WHERE {\n",
    "   wd:Q222047 ?p ?obj.\n",
    "   ?p sc:name ?pname.\n",
    "   OPTIONAL {?obj sc:name ?name.}\n",
    "   \n",
    "}\n",
    "LIMIT 200\n",
    "\"\"\"\n",
    "\n",
    "print(\"Results\")\n",
    "x=run_query(queryString)"
   ]
  },
  {
   "cell_type": "code",
   "execution_count": 64,
   "id": "3c204311-20ea-4cf6-acaf-b3bf235fe2ae",
   "metadata": {},
   "outputs": [
    {
     "name": "stdout",
     "output_type": "stream",
     "text": [
      "Results\n",
      "Empty\n"
     ]
    }
   ],
   "source": [
    "# NBA MVP is an annual award given for each season\n",
    "# incoming/outgoing edges to/from 2017-18 NBA season, looking if there is a direct path to MVP.\n",
    "# Empty result set -> no way to reference and mvp to a given season \n",
    "# This query actually doesn't have much sense\n",
    "\n",
    "queryString = \"\"\"\n",
    "SELECT DISTINCT ?p \n",
    "WHERE {{\n",
    "   # bind something\n",
    "   wd:Q222047 ?p wd:Q29098111.}\n",
    "   UNION{\n",
    "   wd:Q29098111 ?p wd:Q222047.\n",
    "   }\n",
    "}\n",
    "LIMIT 20\n",
    "\"\"\"\n",
    "\n",
    "print(\"Results\")\n",
    "x=run_query(queryString)"
   ]
  },
  {
   "cell_type": "code",
   "execution_count": 65,
   "id": "9a5474f7-745c-4379-8ef4-0003fe6c65f8",
   "metadata": {},
   "outputs": [
    {
     "name": "stdout",
     "output_type": "stream",
     "text": [
      "Results\n",
      "[('p', 'http://www.wikidata.org/prop/direct/P31'), ('pname', 'instance of'), ('o', 'http://www.wikidata.org/entity/Q27020041'), ('oname', 'sports season')]\n",
      "[('p', 'http://www.wikidata.org/prop/direct/P17'), ('pname', 'country'), ('o', 'http://www.wikidata.org/entity/Q30'), ('oname', 'United States of America')]\n",
      "[('p', 'http://www.wikidata.org/prop/direct/P2094'), ('pname', 'competition class'), ('o', 'http://www.wikidata.org/entity/Q46343203'), ('oname', \"men's basketball\")]\n",
      "[('p', 'http://www.wikidata.org/prop/direct/P641'), ('pname', 'sport'), ('o', 'http://www.wikidata.org/entity/Q5372'), ('oname', 'basketball')]\n",
      "[('p', 'http://www.wikidata.org/prop/direct/P664'), ('pname', 'organizer'), ('o', 'http://www.wikidata.org/entity/Q155223'), ('oname', 'National Basketball Association')]\n",
      "[('p', 'http://www.wikidata.org/prop/direct/P3450'), ('pname', 'sports season of league or competition'), ('o', 'http://www.wikidata.org/entity/Q155223'), ('oname', 'National Basketball Association')]\n",
      "[('p', 'http://www.wikidata.org/prop/direct/P2348'), ('pname', 'time period'), ('o', 'http://www.wikidata.org/entity/Q47015413'), ('oname', '2017-2018 one-year-period')]\n",
      "[('p', 'http://www.wikidata.org/prop/direct/P1346'), ('pname', 'winner'), ('o', 'http://www.wikidata.org/entity/Q157376'), ('oname', 'Golden State Warriors')]\n",
      "[('p', 'http://www.wikidata.org/prop/direct/P910'), ('pname', \"topic's main category\"), ('o', 'http://www.wikidata.org/entity/Q30001159'), ('oname', 'Category:2017–18 NBA season')]\n",
      "9\n"
     ]
    }
   ],
   "source": [
    "# Looking to all objects of 2017-18 NBA Season, maybe there exists an mvp predicate\n",
    "\n",
    "queryString = \"\"\"\n",
    "SELECT DISTINCT ?p ?pname ?o ?oname\n",
    "WHERE {\n",
    "   # bind something\n",
    "   wd:Q29098111 ?p ?o .\n",
    "   ?p sc:name ?pname .\n",
    "   ?o sc:name ?oname .\n",
    "\n",
    "   \n",
    "}\n",
    "LIMIT 20\n",
    "\"\"\"\n",
    "\n",
    "print(\"Results\")\n",
    "x=run_query(queryString)"
   ]
  },
  {
   "cell_type": "markdown",
   "id": "b141c1be-4b72-440e-a6d1-13a773a68f17",
   "metadata": {},
   "source": [
    "> MVP Award is directly connected with the winners. There are not different instances for each year/edition of the award.\n",
    "> 2017-18 NBA Season does not have an outgoing predicate such as \"MVP award won by\" and the player name. \n",
    "\n",
    "### Since I have no direct NBA MVP information from the NBA Season, and no direct time information from the NBA MVP award, I conclude it's not possible to find the number of MVP awards for each player. I think it's a reification in Wikidata, because I need a statement (year) about the MVP award winner. \n"
   ]
  }
 ],
 "metadata": {
  "kernelspec": {
   "display_name": "Python 3",
   "language": "python",
   "name": "python3"
  },
  "language_info": {
   "codemirror_mode": {
    "name": "ipython",
    "version": 3
   },
   "file_extension": ".py",
   "mimetype": "text/x-python",
   "name": "python",
   "nbconvert_exporter": "python",
   "pygments_lexer": "ipython3",
   "version": "3.7.10"
  }
 },
 "nbformat": 4,
 "nbformat_minor": 5
}
