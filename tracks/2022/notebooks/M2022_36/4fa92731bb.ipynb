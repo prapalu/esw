{
 "cells": [
  {
   "cell_type": "markdown",
   "id": "81304de6",
   "metadata": {},
   "source": [
    "# General instructions\n",
    "\n",
    "The goal of the project is to materialize a set of **exploratory workloads** over a real-world, large-scale,  open-domain KG: [WikiData](https://www.wikidata.org/wiki/Wikidata:Main_Page)\n",
    "\n",
    "An exploratory workload  is composed by a set of queries, where each query is related to the information obtained previously.\n",
    "\n",
    "An exploratory workload starts with a usually vague, open ended question, and does not assume the person issuing the workload has a clear understanding of the data contained in the target database or its structure.\n",
    "\n",
    "Remeber that:\n",
    "\n",
    "1. All the queries must run in the python notebook\n",
    "2. You can use classes and properties only if you find them via a SPARQL query that must be present in the notebook\n",
    "3. You do not delete useless queries. Keep everything that is synthatically valid \n",
    "\n",
    "```\n",
    "?p <http://schema.org/name> ?name .\n",
    "```\n",
    "    \n",
    "    is the BGP returning a human-readable name of a property or a class in Wikidata."
   ]
  },
  {
   "cell_type": "code",
   "execution_count": 1,
   "id": "7b82af40",
   "metadata": {},
   "outputs": [],
   "source": [
    "## SETUP used later\n",
    "\n",
    "from SPARQLWrapper import SPARQLWrapper, JSON\n",
    "\n",
    "\n",
    "prefixString = \"\"\"\n",
    "##-4fa92731bb-##\n",
    "PREFIX wd: <http://www.wikidata.org/entity/> \n",
    "PREFIX wdt: <http://www.wikidata.org/prop/direct/> \n",
    "PREFIX sc: <http://schema.org/>\n",
    "\"\"\"\n",
    "\n",
    "# select and construct queries\n",
    "def run_query(queryString,verbose = True):\n",
    "    to_run = prefixString + \"\\n\" + queryString\n",
    "\n",
    "    sparql = SPARQLWrapper(\"http://a256-gc1-03.srv.aau.dk:5820/sparql\")\n",
    "    sparql.setTimeout(300)\n",
    "    sparql.setReturnFormat(JSON)\n",
    "    sparql.setQuery(to_run)\n",
    "\n",
    "    try :\n",
    "        results = sparql.query()\n",
    "        json_results = results.convert()\n",
    "        if len(json_results['results']['bindings'])==0:\n",
    "            print(\"Empty\")\n",
    "            return []\n",
    "        array = []\n",
    "        for bindings in json_results['results']['bindings']:\n",
    "            app =  [ (var, value['value'])  for var, value in bindings.items() ] \n",
    "            if verbose:\n",
    "                print( app)\n",
    "            array.append(app)\n",
    "        if verbose:\n",
    "            print(len(array))\n",
    "        return array\n",
    "\n",
    "    except Exception as e :\n",
    "        print(\"The operation failed\", e)\n",
    "    \n",
    "# ASk queries\n",
    "def run_ask_query(queryString):\n",
    "    to_run = prefixString + \"\\n\" + queryString\n",
    "\n",
    "    sparql = SPARQLWrapper(\"http://a256-gc1-03.srv.aau.dk:5820/sparql\")\n",
    "    sparql.setTimeout(300)\n",
    "    sparql.setReturnFormat(JSON)\n",
    "    sparql.setQuery(to_run)\n",
    "\n",
    "    try :\n",
    "        return sparql.query().convert()\n",
    "\n",
    "    except Exception as e :\n",
    "        print(\"The operation failed\", e)"
   ]
  },
  {
   "cell_type": "markdown",
   "id": "f86f804b",
   "metadata": {},
   "source": [
    "# Movie Workflow Series (\"Disney explorative search\") \n",
    "\n",
    "Consider the following exploratory information need:\n",
    "\n",
    "> investigate films produced by Disney and compare workers among films."
   ]
  },
  {
   "cell_type": "markdown",
   "id": "df50fc3c",
   "metadata": {},
   "source": [
    "## Useful URIs for the current workflow\n",
    "The following are given:\n",
    "\n",
    "| IRI           | Description   | Role      |\n",
    "| -----------   | -----------   |-----------|\n",
    "| `wdt:P1647`   | subproperty   | predicate |\n",
    "| `wdt:P31`     | instance of   | predicate |\n",
    "| `wdt:P106`    | profession    | predicate | \n",
    "| `wdt:P279`    | subclass      | predicate |\n",
    "| `wdt:P27`     | nationality   | predicate |\n",
    "| `wdt:P106`     | profession   | predicate |\n",
    "| `wdt:P3342`     | Significant person       | predicate |\n",
    "| `wd:Q5`| Human       | node |\n",
    "| `wd:Q36479`    | The Lion King      | node |\n"
   ]
  },
  {
   "cell_type": "markdown",
   "id": "2e25b8fe",
   "metadata": {},
   "source": [
    "\n",
    "\n",
    "\n",
    "Also consider\n",
    "\n",
    "```\n",
    "wd:Q36479 ?p ?obj .\n",
    "```\n",
    "\n",
    "is the BGP to retrieve all **properties of The Lion King**\n",
    "\n",
    "Please consider that when you return a resource, you should return the IRI and the label of the resource. In particular, when the task require you to identify a BGP the result set must always be a list of couples IRI - label.\n",
    "\n",
    "The workload should:\n",
    "\n",
    "\n",
    "1. Identify the BGP for films\n",
    "\n",
    "2. Identify the BGP for Walt Disney Animation Studios\n",
    "\n",
    "3. Identify the BGP for Walt Disney (person)\n",
    "\n",
    "4. List all the films created by the Walt Disney Animation Studios while Walt Disney was alive (the result set must be a list of couples films IRI and label).\n",
    "\n",
    "5. Find the name of the voice actors who participated in more than 5 films by the Walt Disney Animation Studios (the result set must be a list of triples voice actors IRI, label and #films).\n",
    "\n",
    "6. Identify the BGP for the film \"The Little Mermaid\"\n",
    "\n",
    "7. Find who worked on both \"The Little Mermaid\" and \"The Lion King\" (the result set must be a list of couples worker IRI and label). \n",
    "\n",
    "8. Identify the BGP for Academy Awards\n",
    "\n",
    "9. For each films created by the Walt Disney Animation Studios return the number of nomination for an Academy Awards. Return only films with at least one nomination. (the result set must be triples of films IRI, label and #nomination)."
   ]
  },
  {
   "cell_type": "markdown",
   "id": "a6dd9687",
   "metadata": {},
   "source": [
    "## Task 1\n",
    "Identify the BGP for films"
   ]
  },
  {
   "cell_type": "code",
   "execution_count": 2,
   "id": "35550b53",
   "metadata": {},
   "outputs": [
    {
     "name": "stdout",
     "output_type": "stream",
     "text": [
      "Results\n",
      "[('p', 'http://www.wikidata.org/prop/direct/P3092'), ('name', 'film crew member')]\n",
      "[('p', 'http://www.wikidata.org/prop/direct/P4021'), ('name', 'danskefilm animated film ID')]\n",
      "[('p', 'http://www.wikidata.org/prop/direct/P7679'), ('name', 'Cinépolis KLIC ID')]\n",
      "[('p', 'http://www.wikidata.org/prop/direct/P1015'), ('name', 'NORAF ID')]\n",
      "[('p', 'http://www.wikidata.org/prop/direct/P1040'), ('name', 'film editor')]\n",
      "[('p', 'http://www.wikidata.org/prop/direct/P1237'), ('name', 'Box Office Mojo film ID (former scheme)')]\n",
      "[('p', 'http://www.wikidata.org/prop/direct/P1258'), ('name', 'Rotten Tomatoes ID')]\n",
      "[('p', 'http://www.wikidata.org/prop/direct/P1265'), ('name', 'AlloCiné film ID')]\n",
      "[('p', 'http://www.wikidata.org/prop/direct/P1273'), ('name', 'CANTIC ID')]\n",
      "[('p', 'http://www.wikidata.org/prop/direct/P136'), ('name', 'genre')]\n",
      "[('p', 'http://www.wikidata.org/prop/direct/P1411'), ('name', 'nominated for')]\n",
      "[('p', 'http://www.wikidata.org/prop/direct/P1417'), ('name', 'Encyclopædia Britannica Online ID')]\n",
      "[('p', 'http://www.wikidata.org/prop/direct/P1434'), ('name', 'takes place in fictional universe')]\n",
      "[('p', 'http://www.wikidata.org/prop/direct/P144'), ('name', 'based on')]\n",
      "[('p', 'http://www.wikidata.org/prop/direct/P1476'), ('name', 'title')]\n",
      "[('p', 'http://www.wikidata.org/prop/direct/P154'), ('name', 'logo image')]\n",
      "[('p', 'http://www.wikidata.org/prop/direct/P1552'), ('name', 'has quality')]\n",
      "[('p', 'http://www.wikidata.org/prop/direct/P156'), ('name', 'followed by')]\n",
      "[('p', 'http://www.wikidata.org/prop/direct/P1562'), ('name', 'AllMovie title ID')]\n",
      "[('p', 'http://www.wikidata.org/prop/direct/P162'), ('name', 'producer')]\n",
      "20\n"
     ]
    }
   ],
   "source": [
    "# query example\n",
    "queryString = \"\"\"\n",
    "SELECT DISTINCT ?p ?name\n",
    "WHERE {\n",
    "   # bind something\n",
    "   wd:Q36479 ?p ?obj .\n",
    "   # get the label\n",
    "   ?p sc:name ?name.\n",
    "}\n",
    "LIMIT 20\n",
    "\"\"\"\n",
    "\n",
    "print(\"Results\")\n",
    "x=run_query(queryString)"
   ]
  },
  {
   "cell_type": "code",
   "execution_count": 14,
   "id": "533726e4-2a47-40f4-96a9-49fe01f32825",
   "metadata": {},
   "outputs": [
    {
     "name": "stdout",
     "output_type": "stream",
     "text": [
      "Results\n",
      "[('p', 'http://www.wikidata.org/prop/direct/P136'), ('name', 'genre')]\n",
      "1\n"
     ]
    }
   ],
   "source": [
    "# write your queries\n",
    "queryString = \"\"\"\n",
    "SELECT DISTINCT ?p ?name\n",
    "WHERE {\n",
    "   # bind something\n",
    "   wd:Q36479 ?p ?obj .\n",
    "   # get the label\n",
    "   ?p sc:name ?name.\n",
    "   FILTER regex(?name , 'genre')\n",
    "}\n",
    "LIMIT 20\n",
    "\"\"\"\n",
    "\n",
    "print(\"Results\")\n",
    "x=run_query(queryString)"
   ]
  },
  {
   "cell_type": "markdown",
   "id": "08bea520",
   "metadata": {},
   "source": [
    "Final query for this task"
   ]
  },
  {
   "cell_type": "code",
   "execution_count": 10,
   "id": "960f3be7",
   "metadata": {},
   "outputs": [
    {
     "name": "stdout",
     "output_type": "stream",
     "text": [
      "Results\n",
      "[('o', 'http://www.wikidata.org/entity/Q2143665'), ('name', \"children's film\")]\n",
      "[('o', 'http://www.wikidata.org/entity/Q130232'), ('name', 'drama')]\n",
      "[('o', 'http://www.wikidata.org/entity/Q842256'), ('name', 'musical film')]\n",
      "[('o', 'http://www.wikidata.org/entity/Q28968511'), ('name', 'traditionally animated film')]\n",
      "4\n"
     ]
    }
   ],
   "source": [
    "# write your final query\n",
    "# find the differernt type of film\n",
    "queryString = \"\"\"\n",
    "SELECT DISTINCT ?o ?name\n",
    "WHERE {\n",
    "   # bind something\n",
    "   wd:Q36479 wdt:P136 ?o .\n",
    "   # get the label\n",
    "   ?o sc:name ?name.\n",
    "}\n",
    "LIMIT 10\n",
    "\"\"\"\n",
    "\n",
    "print(\"Results\")\n",
    "x=run_query(queryString)"
   ]
  },
  {
   "cell_type": "markdown",
   "id": "0582caeb",
   "metadata": {},
   "source": [
    "## Task 2\n",
    "Identify the BGP for Walt Disney Animation Studios"
   ]
  },
  {
   "cell_type": "code",
   "execution_count": 24,
   "id": "c00e7e43",
   "metadata": {},
   "outputs": [
    {
     "name": "stdout",
     "output_type": "stream",
     "text": [
      "Results\n",
      "[('o', 'http://www.wikidata.org/entity/Q1047410'), ('name', 'Walt Disney Animation Studios')]\n",
      "[('o', 'http://www.wikidata.org/entity/Q56070713'), ('name', 'Walt Disney Animation Studios film')]\n",
      "[('o', 'http://www.wikidata.org/entity/Q101099318'), ('name', 'Walt Disney Animation Studios film universe')]\n",
      "[('o', 'http://www.wikidata.org/entity/Q6603742'), ('name', 'list of Walt Disney Animation Studios films')]\n",
      "[('o', 'http://www.wikidata.org/entity/Q7461830'), ('name', 'Category:Walt Disney Animation Studios films')]\n",
      "[('o', 'http://www.wikidata.org/entity/Q25088476'), ('name', 'Category:Walt Disney Animation Studios')]\n",
      "[('o', 'http://www.wikidata.org/entity/Q24424974'), ('name', 'Walt Disney Animation Studios Reveals New Zootopia Concept Art')]\n",
      "[('o', 'http://www.wikidata.org/entity/Q28382036'), ('name', 'Walt Disney Animation Studios: The Archive Series')]\n",
      "[('o', 'http://www.wikidata.org/entity/Q15056184'), ('name', 'Template:Walt Disney Animation Studios')]\n",
      "[('o', 'http://www.wikidata.org/entity/Q49214081'), ('name', 'Category:Walt Disney Animation Studios people')]\n",
      "[('o', 'http://www.wikidata.org/entity/Q22876062'), ('name', 'Template:Walt Disney Animation Studios short films')]\n",
      "[('o', 'http://www.wikidata.org/entity/Q96184697'), ('name', 'Category:Walt Disney Animation Studios franchises')]\n",
      "[('o', 'http://www.wikidata.org/entity/Q105749508'), ('name', 'Category:Television series by the Walt Disney Animation Studios')]\n",
      "13\n"
     ]
    }
   ],
   "source": [
    "# write your queries\n",
    "# by filter at first find the sutible object\n",
    "queryString = \"\"\"\n",
    "SELECT DISTINCT ?o ?name\n",
    "WHERE {\n",
    "   # bind something\n",
    "   ?s ?p ?o .\n",
    "   # get the label\n",
    "   ?o sc:name ?name.\n",
    "   FILTER REGEX(?name,'Walt Disney Animation Studios')\n",
    "}\n",
    "LIMIT 20\n",
    "\"\"\"\n",
    "\n",
    "print(\"Results\")\n",
    "x=run_query(queryString)"
   ]
  },
  {
   "cell_type": "markdown",
   "id": "12bf25cd",
   "metadata": {},
   "source": [
    "Final query for this task"
   ]
  },
  {
   "cell_type": "code",
   "execution_count": 26,
   "id": "e1eb5f9b",
   "metadata": {},
   "outputs": [
    {
     "name": "stdout",
     "output_type": "stream",
     "text": [
      "Results\n",
      "[('p', 'http://www.wikidata.org/prop/direct/P272'), ('name', 'production company')]\n",
      "1\n"
     ]
    }
   ],
   "source": [
    "# write your final query\n",
    "# we need specify the products\n",
    "queryString = \"\"\"\n",
    "SELECT DISTINCT ?p ?name\n",
    "WHERE {\n",
    "   # bind something\n",
    "   wd:Q36479 ?p wd:Q1047410 .\n",
    "   # get the label\n",
    "   ?p sc:name ?name.\n",
    "}\n",
    "LIMIT 20\n",
    "\"\"\"\n",
    "\n",
    "print(\"Results\")\n",
    "x=run_query(queryString)"
   ]
  },
  {
   "cell_type": "code",
   "execution_count": 29,
   "id": "27520e76-4fee-4108-a240-9060e9d5bed2",
   "metadata": {},
   "outputs": [
    {
     "name": "stdout",
     "output_type": "stream",
     "text": [
      "Results\n",
      "[('o', 'http://www.wikidata.org/entity/Q29168811'), ('name', 'animated feature film')]\n",
      "1\n"
     ]
    }
   ],
   "source": [
    "# write your queries\n",
    "# finaly we find the task issue\n",
    "queryString = \"\"\"\n",
    "SELECT DISTINCT ?o ?name\n",
    "WHERE {\n",
    "   # bind something\n",
    "   wd:Q36479 wdt:P272 wd:Q1047410;\n",
    "               wdt:P31 ?o.\n",
    "   # get the label\n",
    "   ?o sc:name ?name.\n",
    "}\n",
    "LIMIT 10\n",
    "\"\"\"\n",
    "\n",
    "print(\"Results\")\n",
    "x=run_query(queryString)"
   ]
  },
  {
   "cell_type": "markdown",
   "id": "46f11f70",
   "metadata": {},
   "source": [
    "## Task 3\n",
    "Identify the BGP for Walt Disney (person)"
   ]
  },
  {
   "cell_type": "code",
   "execution_count": 11,
   "id": "615092c4",
   "metadata": {},
   "outputs": [
    {
     "name": "stdout",
     "output_type": "stream",
     "text": [
      "Results\n",
      "[('p', 'http://www.wikidata.org/prop/direct/P1037'), ('name', 'director / manager')]\n",
      "[('p', 'http://www.wikidata.org/prop/direct/P1056'), ('name', 'product or material produced')]\n",
      "[('p', 'http://www.wikidata.org/prop/direct/P112'), ('name', 'founded by')]\n",
      "[('p', 'http://www.wikidata.org/prop/direct/P127'), ('name', 'owned by')]\n",
      "[('p', 'http://www.wikidata.org/prop/direct/P1411'), ('name', 'nominated for')]\n",
      "[('p', 'http://www.wikidata.org/prop/direct/P1454'), ('name', 'legal form')]\n",
      "[('p', 'http://www.wikidata.org/prop/direct/P154'), ('name', 'logo image')]\n",
      "[('p', 'http://www.wikidata.org/prop/direct/P159'), ('name', 'headquarters location')]\n",
      "[('p', 'http://www.wikidata.org/prop/direct/P166'), ('name', 'award received')]\n",
      "[('p', 'http://www.wikidata.org/prop/direct/P17'), ('name', 'country')]\n",
      "[('p', 'http://www.wikidata.org/prop/direct/P18'), ('name', 'image')]\n",
      "[('p', 'http://www.wikidata.org/prop/direct/P2002'), ('name', 'Twitter username')]\n",
      "[('p', 'http://www.wikidata.org/prop/direct/P2013'), ('name', 'Facebook ID')]\n",
      "[('p', 'http://www.wikidata.org/prop/direct/P213'), ('name', 'ISNI')]\n",
      "[('p', 'http://www.wikidata.org/prop/direct/P214'), ('name', 'VIAF ID')]\n",
      "[('p', 'http://www.wikidata.org/prop/direct/P227'), ('name', 'GND ID')]\n",
      "[('p', 'http://www.wikidata.org/prop/direct/P244'), ('name', 'Library of Congress authority ID')]\n",
      "[('p', 'http://www.wikidata.org/prop/direct/P31'), ('name', 'instance of')]\n",
      "[('p', 'http://www.wikidata.org/prop/direct/P3372'), ('name', 'Auckland Art Gallery artist ID')]\n",
      "[('p', 'http://www.wikidata.org/prop/direct/P3417'), ('name', 'Quora topic ID')]\n",
      "[('p', 'http://www.wikidata.org/prop/direct/P345'), ('name', 'IMDb ID')]\n",
      "[('p', 'http://www.wikidata.org/prop/direct/P3500'), ('name', 'Ringgold ID')]\n",
      "[('p', 'http://www.wikidata.org/prop/direct/P373'), ('name', 'Commons category')]\n",
      "[('p', 'http://www.wikidata.org/prop/direct/P4013'), ('name', 'Giphy username')]\n",
      "[('p', 'http://www.wikidata.org/prop/direct/P452'), ('name', 'industry')]\n",
      "[('p', 'http://www.wikidata.org/prop/direct/P571'), ('name', 'inception')]\n",
      "[('p', 'http://www.wikidata.org/prop/direct/P6150'), ('name', 'Academy Awards Database nominee ID')]\n",
      "[('p', 'http://www.wikidata.org/prop/direct/P6181'), ('name', 'Disney A to Z ID')]\n",
      "[('p', 'http://www.wikidata.org/prop/direct/P6262'), ('name', 'Fandom article ID')]\n",
      "[('p', 'http://www.wikidata.org/prop/direct/P6379'), ('name', 'has works in the collection')]\n",
      "30\n"
     ]
    }
   ],
   "source": [
    "# write your queries\n",
    "# find the properties of Disney\n",
    "queryString = \"\"\"\n",
    "SELECT DISTINCT ?p ?name\n",
    "WHERE {\n",
    "    # bind something\n",
    "    wd:Q1047410 ?p ?o.\n",
    "    # get the label\n",
    "    ?p sc:name ?name.\n",
    "}\n",
    "LIMIT 30\n",
    "\"\"\"\n",
    "print(\"Results\")\n",
    "x=run_query(queryString)"
   ]
  },
  {
   "cell_type": "markdown",
   "id": "94500c46",
   "metadata": {},
   "source": [
    "Final query for this task"
   ]
  },
  {
   "cell_type": "code",
   "execution_count": 17,
   "id": "f52d67d6",
   "metadata": {},
   "outputs": [
    {
     "name": "stdout",
     "output_type": "stream",
     "text": [
      "Results\n",
      "[('o', 'http://www.wikidata.org/entity/Q8704'), ('name', 'Walt Disney')]\n",
      "1\n"
     ]
    }
   ],
   "source": [
    "# write your final query\n",
    "# find BGP of Walt Disney by using related subject from before part\n",
    "queryString = \"\"\"\n",
    "SELECT DISTINCT ?o ?name\n",
    "WHERE {\n",
    "    # bind something\n",
    "    wd:Q1047410 wdt:P112 ?o.\n",
    "    # get the label\n",
    "    ?o sc:name ?name.\n",
    "    FILTER regex(?name , 'Walt Disney').\n",
    "}\n",
    "LIMIT 30\n",
    "\"\"\"\n",
    "print(\"Results\")\n",
    "x=run_query(queryString)"
   ]
  },
  {
   "cell_type": "markdown",
   "id": "5b9663c9",
   "metadata": {},
   "source": [
    "## Task 4\n",
    "List all the films created by the Walt Disney Animation Studios while Walt Disney was alive (the result set must be a list of couples films IRI and label)."
   ]
  },
  {
   "cell_type": "code",
   "execution_count": null,
   "id": "b8c0c21a",
   "metadata": {},
   "outputs": [],
   "source": [
    "# write your queries"
   ]
  },
  {
   "cell_type": "markdown",
   "id": "e160c9fb",
   "metadata": {},
   "source": [
    "Final query for this task"
   ]
  },
  {
   "cell_type": "code",
   "execution_count": null,
   "id": "c87391a0",
   "metadata": {},
   "outputs": [],
   "source": [
    "# write your final query"
   ]
  },
  {
   "cell_type": "markdown",
   "id": "c28c31e4",
   "metadata": {},
   "source": [
    "## Task 5\n",
    "Find the name of the voice actors who participated in more than 5 films by the Walt Disney Animation Studios (the result set must be a list of triples voice actors IRI, label and #films)."
   ]
  },
  {
   "cell_type": "code",
   "execution_count": 22,
   "id": "fb1399fd-b512-43fd-822f-d08081b1a168",
   "metadata": {},
   "outputs": [
    {
     "name": "stdout",
     "output_type": "stream",
     "text": [
      "Results\n",
      "[('p', 'http://www.wikidata.org/prop/direct/P725'), ('name', 'voice actor')]\n",
      "1\n"
     ]
    }
   ],
   "source": [
    "# write your queries\n",
    "# at first finding the voice actor\n",
    "queryString = \"\"\"\n",
    "SELECT DISTINCT ?p ?name\n",
    "WHERE {\n",
    "   # bind something\n",
    "   wd:Q36479 ?p ?obj .\n",
    "   # get the label\n",
    "   ?p sc:name ?name.\n",
    "   FILTER regex(?name , 'voice')\n",
    "}\n",
    "LIMIT 20\n",
    "\"\"\"\n",
    "\n",
    "print(\"Results\")\n",
    "x=run_query(queryString)"
   ]
  },
  {
   "cell_type": "code",
   "execution_count": 28,
   "id": "c3fd1e68",
   "metadata": {},
   "outputs": [
    {
     "name": "stdout",
     "output_type": "stream",
     "text": [
      "Results\n",
      "[('film_IRI', 'http://www.wikidata.org/entity/Q20035735'), ('voiceactor_IRI', 'http://www.wikidata.org/entity/Q5372060'), ('voiceactorname', 'Emily Bett Rickards')]\n",
      "[('film_IRI', 'http://www.wikidata.org/entity/Q51221761'), ('voiceactor_IRI', 'http://www.wikidata.org/entity/Q5372060'), ('voiceactorname', 'Emily Bett Rickards')]\n",
      "[('film_IRI', 'http://www.wikidata.org/entity/Q3233480'), ('voiceactor_IRI', 'http://www.wikidata.org/entity/Q7670520'), ('voiceactorname', 'TJ Ramini')]\n",
      "[('film_IRI', 'http://www.wikidata.org/entity/Q7234355'), ('voiceactor_IRI', 'http://www.wikidata.org/entity/Q7670520'), ('voiceactorname', 'TJ Ramini')]\n",
      "[('film_IRI', 'http://www.wikidata.org/entity/Q104898016'), ('voiceactor_IRI', 'http://www.wikidata.org/entity/Q14917610'), ('voiceactorname', 'Jakub Kohák')]\n",
      "[('film_IRI', 'http://www.wikidata.org/entity/Q18031874'), ('voiceactor_IRI', 'http://www.wikidata.org/entity/Q3490854'), ('voiceactorname', 'Luděk Sobota')]\n",
      "[('film_IRI', 'http://www.wikidata.org/entity/Q56878168'), ('voiceactor_IRI', 'http://www.wikidata.org/entity/Q3490854'), ('voiceactorname', 'Luděk Sobota')]\n",
      "[('film_IRI', 'http://www.wikidata.org/entity/Q51730010'), ('voiceactor_IRI', 'http://www.wikidata.org/entity/Q3490854'), ('voiceactorname', 'Luděk Sobota')]\n",
      "[('film_IRI', 'http://www.wikidata.org/entity/Q97289392'), ('voiceactor_IRI', 'http://www.wikidata.org/entity/Q572761'), ('voiceactorname', 'Eiza González')]\n",
      "[('film_IRI', 'http://www.wikidata.org/entity/Q203707'), ('voiceactor_IRI', 'http://www.wikidata.org/entity/Q190519'), ('voiceactorname', 'Felicity Huffman')]\n",
      "[('film_IRI', 'http://www.wikidata.org/entity/Q641520'), ('voiceactor_IRI', 'http://www.wikidata.org/entity/Q3390836'), ('voiceactorname', 'Manel Fuentes')]\n",
      "[('film_IRI', 'http://www.wikidata.org/entity/Q1330720'), ('voiceactor_IRI', 'http://www.wikidata.org/entity/Q95107968'), ('voiceactorname', 'Ján Sedal')]\n",
      "[('film_IRI', 'http://www.wikidata.org/entity/Q62633255'), ('voiceactor_IRI', 'http://www.wikidata.org/entity/Q15731360'), ('voiceactorname', 'Mayu Yoshioka')]\n",
      "[('film_IRI', 'http://www.wikidata.org/entity/Q14550419'), ('voiceactor_IRI', 'http://www.wikidata.org/entity/Q15731360'), ('voiceactorname', 'Mayu Yoshioka')]\n",
      "[('film_IRI', 'http://www.wikidata.org/entity/Q61828945'), ('voiceactor_IRI', 'http://www.wikidata.org/entity/Q15731360'), ('voiceactorname', 'Mayu Yoshioka')]\n",
      "[('film_IRI', 'http://www.wikidata.org/entity/Q106027770'), ('voiceactor_IRI', 'http://www.wikidata.org/entity/Q15731360'), ('voiceactorname', 'Mayu Yoshioka')]\n",
      "[('film_IRI', 'http://www.wikidata.org/entity/Q90091929'), ('voiceactor_IRI', 'http://www.wikidata.org/entity/Q15731360'), ('voiceactorname', 'Mayu Yoshioka')]\n",
      "[('film_IRI', 'http://www.wikidata.org/entity/Q710324'), ('voiceactor_IRI', 'http://www.wikidata.org/entity/Q15731362'), ('voiceactorname', 'Naomi Ōzora')]\n",
      "[('film_IRI', 'http://www.wikidata.org/entity/Q61627761'), ('voiceactor_IRI', 'http://www.wikidata.org/entity/Q15731362'), ('voiceactorname', 'Naomi Ōzora')]\n",
      "[('film_IRI', 'http://www.wikidata.org/entity/Q90087288'), ('voiceactor_IRI', 'http://www.wikidata.org/entity/Q15731362'), ('voiceactorname', 'Naomi Ōzora')]\n",
      "[('film_IRI', 'http://www.wikidata.org/entity/Q104230800'), ('voiceactor_IRI', 'http://www.wikidata.org/entity/Q15731362'), ('voiceactorname', 'Naomi Ōzora')]\n",
      "[('film_IRI', 'http://www.wikidata.org/entity/Q104759460'), ('voiceactor_IRI', 'http://www.wikidata.org/entity/Q15731362'), ('voiceactorname', 'Naomi Ōzora')]\n",
      "[('film_IRI', 'http://www.wikidata.org/entity/Q48938075'), ('voiceactor_IRI', 'http://www.wikidata.org/entity/Q15731362'), ('voiceactorname', 'Naomi Ōzora')]\n",
      "[('film_IRI', 'http://www.wikidata.org/entity/Q107001854'), ('voiceactor_IRI', 'http://www.wikidata.org/entity/Q15731362'), ('voiceactorname', 'Naomi Ōzora')]\n",
      "[('film_IRI', 'http://www.wikidata.org/entity/Q78342378'), ('voiceactor_IRI', 'http://www.wikidata.org/entity/Q15731362'), ('voiceactorname', 'Naomi Ōzora')]\n",
      "[('film_IRI', 'http://www.wikidata.org/entity/Q105597913'), ('voiceactor_IRI', 'http://www.wikidata.org/entity/Q15731362'), ('voiceactorname', 'Naomi Ōzora')]\n",
      "[('film_IRI', 'http://www.wikidata.org/entity/Q107147665'), ('voiceactor_IRI', 'http://www.wikidata.org/entity/Q15731362'), ('voiceactorname', 'Naomi Ōzora')]\n",
      "[('film_IRI', 'http://www.wikidata.org/entity/Q105337231'), ('voiceactor_IRI', 'http://www.wikidata.org/entity/Q15731362'), ('voiceactorname', 'Naomi Ōzora')]\n",
      "[('film_IRI', 'http://www.wikidata.org/entity/Q105471910'), ('voiceactor_IRI', 'http://www.wikidata.org/entity/Q15731362'), ('voiceactorname', 'Naomi Ōzora')]\n",
      "[('film_IRI', 'http://www.wikidata.org/entity/Q107985035'), ('voiceactor_IRI', 'http://www.wikidata.org/entity/Q15731362'), ('voiceactorname', 'Naomi Ōzora')]\n",
      "30\n"
     ]
    }
   ],
   "source": [
    "# write your queries\n",
    "# link two part together\n",
    "queryString = \"\"\"\n",
    "SELECT DISTINCT ?film_IRI  ?voiceactor_IRI ?voiceactorname \n",
    "WHERE {\n",
    "    ?film_IRI wdt:P725 ?voiceactor_IRI .\n",
    "    ?voiceactor_IRI sc:name ?voiceactorname\n",
    "}\n",
    "\n",
    "LIMIT 30\n",
    "\"\"\"\n",
    "print(\"Results\")\n",
    "x=run_query(queryString)"
   ]
  },
  {
   "cell_type": "code",
   "execution_count": 30,
   "id": "9048554d-f5a3-494d-a5ec-e884fee12660",
   "metadata": {},
   "outputs": [
    {
     "name": "stdout",
     "output_type": "stream",
     "text": [
      "Results\n",
      "[('p', 'http://www.wikidata.org/prop/direct/P3092'), ('name', 'film crew member')]\n",
      "[('p', 'http://www.wikidata.org/prop/direct/P4021'), ('name', 'danskefilm animated film ID')]\n",
      "[('p', 'http://www.wikidata.org/prop/direct/P7679'), ('name', 'Cinépolis KLIC ID')]\n",
      "[('p', 'http://www.wikidata.org/prop/direct/P1015'), ('name', 'NORAF ID')]\n",
      "[('p', 'http://www.wikidata.org/prop/direct/P1040'), ('name', 'film editor')]\n",
      "[('p', 'http://www.wikidata.org/prop/direct/P1237'), ('name', 'Box Office Mojo film ID (former scheme)')]\n",
      "[('p', 'http://www.wikidata.org/prop/direct/P1258'), ('name', 'Rotten Tomatoes ID')]\n",
      "[('p', 'http://www.wikidata.org/prop/direct/P1265'), ('name', 'AlloCiné film ID')]\n",
      "[('p', 'http://www.wikidata.org/prop/direct/P1273'), ('name', 'CANTIC ID')]\n",
      "[('p', 'http://www.wikidata.org/prop/direct/P136'), ('name', 'genre')]\n",
      "[('p', 'http://www.wikidata.org/prop/direct/P1411'), ('name', 'nominated for')]\n",
      "[('p', 'http://www.wikidata.org/prop/direct/P1417'), ('name', 'Encyclopædia Britannica Online ID')]\n",
      "[('p', 'http://www.wikidata.org/prop/direct/P1434'), ('name', 'takes place in fictional universe')]\n",
      "[('p', 'http://www.wikidata.org/prop/direct/P144'), ('name', 'based on')]\n",
      "[('p', 'http://www.wikidata.org/prop/direct/P1476'), ('name', 'title')]\n",
      "[('p', 'http://www.wikidata.org/prop/direct/P154'), ('name', 'logo image')]\n",
      "[('p', 'http://www.wikidata.org/prop/direct/P1552'), ('name', 'has quality')]\n",
      "[('p', 'http://www.wikidata.org/prop/direct/P156'), ('name', 'followed by')]\n",
      "[('p', 'http://www.wikidata.org/prop/direct/P1562'), ('name', 'AllMovie title ID')]\n",
      "[('p', 'http://www.wikidata.org/prop/direct/P162'), ('name', 'producer')]\n",
      "[('p', 'http://www.wikidata.org/prop/direct/P1657'), ('name', 'MPAA film rating')]\n",
      "[('p', 'http://www.wikidata.org/prop/direct/P166'), ('name', 'award received')]\n",
      "[('p', 'http://www.wikidata.org/prop/direct/P1712'), ('name', 'Metacritic ID')]\n",
      "[('p', 'http://www.wikidata.org/prop/direct/P175'), ('name', 'performer')]\n",
      "[('p', 'http://www.wikidata.org/prop/direct/P179'), ('name', 'part of the series')]\n",
      "[('p', 'http://www.wikidata.org/prop/direct/P1804'), ('name', 'DNF film ID')]\n",
      "[('p', 'http://www.wikidata.org/prop/direct/P1874'), ('name', 'Netflix ID')]\n",
      "[('p', 'http://www.wikidata.org/prop/direct/P1889'), ('name', 'different from')]\n",
      "[('p', 'http://www.wikidata.org/prop/direct/P1970'), ('name', 'MovieMeter film ID')]\n",
      "[('p', 'http://www.wikidata.org/prop/direct/P2047'), ('name', 'duration')]\n",
      "[('p', 'http://www.wikidata.org/prop/direct/P2079'), ('name', 'fabrication method')]\n",
      "[('p', 'http://www.wikidata.org/prop/direct/P2130'), ('name', 'cost')]\n",
      "[('p', 'http://www.wikidata.org/prop/direct/P214'), ('name', 'VIAF ID')]\n",
      "[('p', 'http://www.wikidata.org/prop/direct/P2142'), ('name', 'box office')]\n",
      "[('p', 'http://www.wikidata.org/prop/direct/P227'), ('name', 'GND ID')]\n",
      "[('p', 'http://www.wikidata.org/prop/direct/P2334'), ('name', 'Swedish Film Database film ID')]\n",
      "[('p', 'http://www.wikidata.org/prop/direct/P2346'), ('name', 'Elonet movie ID')]\n",
      "[('p', 'http://www.wikidata.org/prop/direct/P2364'), ('name', 'production code')]\n",
      "[('p', 'http://www.wikidata.org/prop/direct/P244'), ('name', 'Library of Congress authority ID')]\n",
      "[('p', 'http://www.wikidata.org/prop/direct/P2465'), ('name', 'Allcinema film ID')]\n",
      "[('p', 'http://www.wikidata.org/prop/direct/P2508'), ('name', 'KINENOTE film ID')]\n",
      "[('p', 'http://www.wikidata.org/prop/direct/P2518'), ('name', 'Scope.dk film ID')]\n",
      "[('p', 'http://www.wikidata.org/prop/direct/P2529'), ('name', 'ČSFD film ID')]\n",
      "[('p', 'http://www.wikidata.org/prop/direct/P2603'), ('name', 'Kinopoisk film ID')]\n",
      "[('p', 'http://www.wikidata.org/prop/direct/P2631'), ('name', 'TCM Movie Database film ID')]\n",
      "[('p', 'http://www.wikidata.org/prop/direct/P2638'), ('name', 'TV.com ID')]\n",
      "[('p', 'http://www.wikidata.org/prop/direct/P268'), ('name', 'Bibliothèque nationale de France ID')]\n",
      "[('p', 'http://www.wikidata.org/prop/direct/P2704'), ('name', 'EIDR content ID')]\n",
      "[('p', 'http://www.wikidata.org/prop/direct/P272'), ('name', 'production company')]\n",
      "[('p', 'http://www.wikidata.org/prop/direct/P2747'), ('name', 'Filmiroda rating')]\n",
      "50\n"
     ]
    }
   ],
   "source": [
    "# write your queries\n",
    "# find propertise about the related subject\n",
    "queryString = \"\"\"\n",
    "SELECT DISTINCT ?p ?name\n",
    "WHERE {\n",
    "   # bind something\n",
    "   wd:Q36479 ?p ?obj .\n",
    "   # get the label\n",
    "   ?p sc:name ?name.\n",
    "   \n",
    "}\n",
    "LIMIT 50\n",
    "\"\"\"\n",
    "\n",
    "print(\"Results\")\n",
    "x=run_query(queryString)"
   ]
  },
  {
   "cell_type": "code",
   "execution_count": 32,
   "id": "6bfaa280-8454-4f12-ab74-11a00ca31f31",
   "metadata": {},
   "outputs": [
    {
     "name": "stdout",
     "output_type": "stream",
     "text": [
      "Results\n",
      "[('film', 'http://www.wikidata.org/entity/Q223163'), ('name', \"The Emperor's New Groove\")]\n",
      "[('film', 'http://www.wikidata.org/entity/Q134430'), ('name', 'Snow White and the Seven Dwarfs')]\n",
      "[('film', 'http://www.wikidata.org/entity/Q18647981'), ('name', 'Moana')]\n",
      "[('film', 'http://www.wikidata.org/entity/Q199839'), ('name', 'The Jungle Book')]\n",
      "[('film', 'http://www.wikidata.org/entity/Q216929'), ('name', 'Oliver & Company')]\n",
      "[('film', 'http://www.wikidata.org/entity/Q329316'), ('name', 'The Black Cauldron')]\n",
      "[('film', 'http://www.wikidata.org/entity/Q537407'), ('name', 'Mulan')]\n",
      "[('film', 'http://www.wikidata.org/entity/Q270470'), ('name', 'Peter Pan')]\n",
      "[('film', 'http://www.wikidata.org/entity/Q179673'), ('name', 'Beauty and the Beast')]\n",
      "[('film', 'http://www.wikidata.org/entity/Q215365'), ('name', 'Brother Bear')]\n",
      "[('film', 'http://www.wikidata.org/entity/Q936194'), ('name', 'Home on the Range')]\n",
      "[('film', 'http://www.wikidata.org/entity/Q36479'), ('name', 'The Lion King')]\n",
      "[('film', 'http://www.wikidata.org/entity/Q215617'), ('name', 'Sleeping Beauty')]\n",
      "[('film', 'http://www.wikidata.org/entity/Q204662'), ('name', 'The Sword in the Stone')]\n",
      "[('film', 'http://www.wikidata.org/entity/Q212792'), ('name', 'Bolt')]\n",
      "[('film', 'http://www.wikidata.org/entity/Q271189'), ('name', 'Hercules')]\n",
      "[('film', 'http://www.wikidata.org/entity/Q190135'), ('name', 'The Little Mermaid')]\n",
      "[('film', 'http://www.wikidata.org/entity/Q334132'), ('name', 'The Great Mouse Detective')]\n",
      "[('film', 'http://www.wikidata.org/entity/Q25167044'), ('name', 'Ralph Breaks the Internet')]\n",
      "[('film', 'http://www.wikidata.org/entity/Q842306'), ('name', 'Saludos Amigos')]\n",
      "20\n"
     ]
    }
   ],
   "source": [
    "# write your queries\n",
    "# from task 2 : BGP of Walt Disney Animation Studios film is Q56070713 \n",
    "queryString = \"\"\"\n",
    "SELECT DISTINCT ?film ?name \n",
    "WHERE\n",
    "{\n",
    "    ?film wdt:P179 wd:Q56070713 ;\n",
    "    sc:name ?name.\n",
    "}\n",
    "LIMIT 20\n",
    "\"\"\"\n",
    "\n",
    "print(\"Results\")\n",
    "x=run_query(queryString)\n"
   ]
  },
  {
   "cell_type": "code",
   "execution_count": null,
   "id": "afa37618-a35c-4d26-82ce-858660e74153",
   "metadata": {},
   "outputs": [],
   "source": []
  },
  {
   "cell_type": "markdown",
   "id": "58b149b8",
   "metadata": {},
   "source": [
    "Final query for this task"
   ]
  },
  {
   "cell_type": "code",
   "execution_count": 42,
   "id": "37e946bc",
   "metadata": {},
   "outputs": [
    {
     "name": "stdout",
     "output_type": "stream",
     "text": [
      "Results\n",
      "[('voice_actor', 'http://www.wikidata.org/entity/Q296577'), ('voice_actor_name', 'Frank Welker'), ('films_num', '14')]\n",
      "[('voice_actor', 'http://www.wikidata.org/entity/Q328456'), ('voice_actor_name', 'Jennifer Darling'), ('films_num', '7')]\n",
      "[('voice_actor', 'http://www.wikidata.org/entity/Q2451247'), ('voice_actor_name', 'Pat Buttram'), ('films_num', '6')]\n",
      "[('voice_actor', 'http://www.wikidata.org/entity/Q349350'), ('voice_actor_name', 'Alan Tudyk'), ('films_num', '7')]\n",
      "[('voice_actor', 'http://www.wikidata.org/entity/Q3603'), ('voice_actor_name', 'Jack Angel'), ('films_num', '7')]\n",
      "[('voice_actor', 'http://www.wikidata.org/entity/Q24574600'), ('voice_actor_name', 'Terri Douglas'), ('films_num', '6')]\n",
      "[('voice_actor', 'http://www.wikidata.org/entity/Q2739967'), ('voice_actor_name', 'Jimmy MacDonald'), ('films_num', '7')]\n",
      "[('voice_actor', 'http://www.wikidata.org/entity/Q310292'), ('voice_actor_name', 'Jim Cummings'), ('films_num', '16')]\n",
      "[('voice_actor', 'http://www.wikidata.org/entity/Q27928357'), ('voice_actor_name', 'Mickie McGowan'), ('films_num', '8')]\n",
      "[('voice_actor', 'http://www.wikidata.org/entity/Q944638'), ('voice_actor_name', 'John Fiedler'), ('films_num', '6')]\n",
      "[('voice_actor', 'http://www.wikidata.org/entity/Q616400'), ('voice_actor_name', 'Patrick Pinney'), ('films_num', '9')]\n",
      "[('voice_actor', 'http://www.wikidata.org/entity/Q965261'), ('voice_actor_name', 'Corey Burton'), ('films_num', '7')]\n",
      "[('voice_actor', 'http://www.wikidata.org/entity/Q945591'), ('voice_actor_name', 'Pinto Colvig'), ('films_num', '8')]\n",
      "[('voice_actor', 'http://www.wikidata.org/entity/Q1033084'), ('voice_actor_name', 'Candy Candido'), ('films_num', '6')]\n",
      "[('voice_actor', 'http://www.wikidata.org/entity/Q7495420'), ('voice_actor_name', 'Sherry Lynn'), ('films_num', '7')]\n",
      "[('voice_actor', 'http://www.wikidata.org/entity/Q725507'), ('voice_actor_name', 'Sterling Holloway'), ('films_num', '8')]\n",
      "[('voice_actor', 'http://www.wikidata.org/entity/Q372838'), ('voice_actor_name', 'Clarence Nash'), ('films_num', '6')]\n",
      "[('voice_actor', 'http://www.wikidata.org/entity/Q255934'), ('voice_actor_name', 'Verna Felton'), ('films_num', '6')]\n",
      "[('voice_actor', 'http://www.wikidata.org/entity/Q847133'), ('voice_actor_name', 'Fred Tatasciore'), ('films_num', '6')]\n",
      "[('voice_actor', 'http://www.wikidata.org/entity/Q3379068'), ('voice_actor_name', 'Philip Proctor'), ('films_num', '6')]\n",
      "[('voice_actor', 'http://www.wikidata.org/entity/Q773512'), ('voice_actor_name', 'Bob Bergen'), ('films_num', '8')]\n",
      "[('voice_actor', 'http://www.wikidata.org/entity/Q4337'), ('voice_actor_name', 'Rodger Bumpass'), ('films_num', '6')]\n",
      "[('voice_actor', 'http://www.wikidata.org/entity/Q3090787'), ('voice_actor_name', 'Thurl Ravenscroft'), ('films_num', '9')]\n",
      "23\n"
     ]
    }
   ],
   "source": [
    "# write your final query\n",
    "# by using parallel querry for find voice actor name and number of it's film and group by there\n",
    "queryString = \"\"\"\n",
    "SELECT DISTINCT ?voice_actor ?voice_actor_name (COUNT(?film) AS ?films_num)\n",
    "WHERE{\n",
    "    {\n",
    "        SELECT DISTINCT ?voice_actor ?voice_actor_name ?film \n",
    "        WHERE{\n",
    "            ?film wdt:P725 ?voice_actor .\n",
    "            ?voice_actor sc:name ?voice_actor_name .\n",
    "            {\n",
    "                SELECT DISTINCT ?film \n",
    "                WHERE{\n",
    "                    ?film wdt:P179 wd:Q56070713 .\n",
    "                }\n",
    "            }\n",
    "            UNION\n",
    "            {\n",
    "                # the films having as 'production company' 'Walt Disney Animation Studios'\n",
    "                SELECT DISTINCT ?film\n",
    "                WHERE {\n",
    "                    # set the 'production company' as 'Walt Disney Animation Studios' to retrieve all its films\n",
    "                    ?film wdt:P272 wd:Q1047410 ;\n",
    "                        # get the type of film\n",
    "                        wdt:P31 ?instanceof .\n",
    "                    # we are considering only films that are instance of 'film', 'anthology film', 'animated film', '3D film','feature film', 'live-action/animated film','animated feature film' \n",
    "                    # and 'Walt Disney Animation Studios film'\n",
    "                    FILTER (?instanceof IN (wd:Q11424,wd:Q336144,wd:Q202866,wd:Q229390,wd:Q24869,wd:Q25110269,wd:Q29168811,wd:Q56070713))\n",
    "                }\n",
    "            }\n",
    "        }\n",
    "    }\n",
    "} GROUP BY ?voice_actor ?voice_actor_name\n",
    "HAVING (COUNT(?film)>5)\n",
    "\"\"\"\n",
    " \n",
    "print(\"Results\")\n",
    "x=run_query(queryString)"
   ]
  },
  {
   "cell_type": "code",
   "execution_count": 42,
   "id": "70666272-26e8-4c18-ab7e-028d63f05b76",
   "metadata": {},
   "outputs": [
    {
     "name": "stdout",
     "output_type": "stream",
     "text": [
      "Results\n",
      "[('voice_actor', 'http://www.wikidata.org/entity/Q296577'), ('voice_actor_name', 'Frank Welker'), ('films_num', '14')]\n",
      "[('voice_actor', 'http://www.wikidata.org/entity/Q328456'), ('voice_actor_name', 'Jennifer Darling'), ('films_num', '7')]\n",
      "[('voice_actor', 'http://www.wikidata.org/entity/Q2451247'), ('voice_actor_name', 'Pat Buttram'), ('films_num', '6')]\n",
      "[('voice_actor', 'http://www.wikidata.org/entity/Q349350'), ('voice_actor_name', 'Alan Tudyk'), ('films_num', '7')]\n",
      "[('voice_actor', 'http://www.wikidata.org/entity/Q3603'), ('voice_actor_name', 'Jack Angel'), ('films_num', '7')]\n",
      "[('voice_actor', 'http://www.wikidata.org/entity/Q24574600'), ('voice_actor_name', 'Terri Douglas'), ('films_num', '6')]\n",
      "[('voice_actor', 'http://www.wikidata.org/entity/Q2739967'), ('voice_actor_name', 'Jimmy MacDonald'), ('films_num', '7')]\n",
      "[('voice_actor', 'http://www.wikidata.org/entity/Q310292'), ('voice_actor_name', 'Jim Cummings'), ('films_num', '16')]\n",
      "[('voice_actor', 'http://www.wikidata.org/entity/Q27928357'), ('voice_actor_name', 'Mickie McGowan'), ('films_num', '8')]\n",
      "[('voice_actor', 'http://www.wikidata.org/entity/Q944638'), ('voice_actor_name', 'John Fiedler'), ('films_num', '6')]\n",
      "[('voice_actor', 'http://www.wikidata.org/entity/Q616400'), ('voice_actor_name', 'Patrick Pinney'), ('films_num', '9')]\n",
      "[('voice_actor', 'http://www.wikidata.org/entity/Q965261'), ('voice_actor_name', 'Corey Burton'), ('films_num', '7')]\n",
      "[('voice_actor', 'http://www.wikidata.org/entity/Q945591'), ('voice_actor_name', 'Pinto Colvig'), ('films_num', '8')]\n",
      "[('voice_actor', 'http://www.wikidata.org/entity/Q1033084'), ('voice_actor_name', 'Candy Candido'), ('films_num', '6')]\n",
      "[('voice_actor', 'http://www.wikidata.org/entity/Q7495420'), ('voice_actor_name', 'Sherry Lynn'), ('films_num', '7')]\n",
      "[('voice_actor', 'http://www.wikidata.org/entity/Q725507'), ('voice_actor_name', 'Sterling Holloway'), ('films_num', '8')]\n",
      "[('voice_actor', 'http://www.wikidata.org/entity/Q372838'), ('voice_actor_name', 'Clarence Nash'), ('films_num', '6')]\n",
      "[('voice_actor', 'http://www.wikidata.org/entity/Q255934'), ('voice_actor_name', 'Verna Felton'), ('films_num', '6')]\n",
      "[('voice_actor', 'http://www.wikidata.org/entity/Q847133'), ('voice_actor_name', 'Fred Tatasciore'), ('films_num', '6')]\n",
      "[('voice_actor', 'http://www.wikidata.org/entity/Q3379068'), ('voice_actor_name', 'Philip Proctor'), ('films_num', '6')]\n",
      "[('voice_actor', 'http://www.wikidata.org/entity/Q773512'), ('voice_actor_name', 'Bob Bergen'), ('films_num', '8')]\n",
      "[('voice_actor', 'http://www.wikidata.org/entity/Q4337'), ('voice_actor_name', 'Rodger Bumpass'), ('films_num', '6')]\n",
      "[('voice_actor', 'http://www.wikidata.org/entity/Q3090787'), ('voice_actor_name', 'Thurl Ravenscroft'), ('films_num', '9')]\n",
      "23\n"
     ]
    }
   ],
   "source": [
    "# write your final query\n",
    "queryString = \"\"\"\n",
    "SELECT DISTINCT ?voice_actor ?voice_actor_name (COUNT(?film) AS ?films_num)\n",
    "WHERE{\n",
    "    {\n",
    "        SELECT DISTINCT ?voice_actor ?voice_actor_name ?film \n",
    "        WHERE{\n",
    "            ?film wdt:P725 ?voice_actor .\n",
    "            ?voice_actor sc:name ?voice_actor_name .\n",
    "            {\n",
    "                SELECT DISTINCT ?film \n",
    "                WHERE{\n",
    "                    ?film wdt:P179 wd:Q56070713 .\n",
    "                }\n",
    "            }\n",
    "            UNION\n",
    "            {\n",
    "                # the films having as 'production company' 'Walt Disney Animation Studios'\n",
    "                SELECT DISTINCT ?film\n",
    "                WHERE {\n",
    "                    \n",
    "                    ?film wdt:P272 wd:Q1047410 ;\n",
    "                          wdt:P31 ?instanceof .\n",
    "                    FILTER (?instanceof IN (wd:Q11424,wd:Q336144,wd:Q202866,wd:Q229390,wd:Q24869,wd:Q25110269,wd:Q29168811,wd:Q56070713))\n",
    "                }\n",
    "            }\n",
    "        }\n",
    "    }\n",
    "} GROUP BY ?voice_actor ?voice_actor_name\n",
    "HAVING (COUNT(?film)>5)\n",
    "\"\"\"\n",
    " \n",
    "print(\"Results\")\n",
    "x=run_query(queryString)"
   ]
  },
  {
   "cell_type": "markdown",
   "id": "11806c0a",
   "metadata": {},
   "source": [
    "## Task 6\n",
    "Identify the BGP for the film \"The Little Mermaid\""
   ]
  },
  {
   "cell_type": "code",
   "execution_count": 85,
   "id": "521d592a",
   "metadata": {},
   "outputs": [
    {
     "name": "stdout",
     "output_type": "stream",
     "text": [
      "Results\n",
      "[('s', 'http://www.wikidata.org/entity/Q1838284'), ('name', 'Shenzi, Banzai and Ed')]\n",
      "[('s', 'http://www.wikidata.org/entity/Q21772103'), ('name', 'Ed')]\n",
      "[('s', 'http://www.wikidata.org/entity/Q27044293'), ('name', 'The Lion King')]\n",
      "[('s', 'http://www.wikidata.org/entity/Q2287748'), ('name', 'Mufasa')]\n",
      "[('s', 'http://www.wikidata.org/entity/Q134138'), ('name', 'The Lion King')]\n",
      "[('s', 'http://www.wikidata.org/entity/Q6069146'), ('name', 'Irene Mecchi')]\n",
      "[('s', 'http://www.wikidata.org/entity/Q203960'), ('name', 'James Earl Jones')]\n",
      "[('s', 'http://www.wikidata.org/entity/Q191803'), ('name', \"The Lion King II: Simba's Pride\")]\n",
      "[('s', 'http://www.wikidata.org/entity/Q451833'), ('name', 'Ernie Sabella')]\n",
      "[('s', 'http://www.wikidata.org/entity/Q491264'), ('name', 'Nathan Lane')]\n",
      "[('s', 'http://www.wikidata.org/entity/Q73544451'), ('name', 'The Lion King universe')]\n",
      "[('s', 'http://www.wikidata.org/entity/Q1646614'), ('name', 'Hakuna Matata')]\n",
      "[('s', 'http://www.wikidata.org/entity/Q298295'), ('name', 'Tim Rice')]\n",
      "[('s', 'http://www.wikidata.org/entity/P5099'), ('name', 'Il mondo dei doppiatori ID')]\n",
      "[('s', 'http://www.wikidata.org/entity/Q2691406'), ('name', 'Timon')]\n",
      "[('s', 'http://www.wikidata.org/entity/Q326075'), ('name', 'Rafiki')]\n",
      "[('s', 'http://www.wikidata.org/entity/Q1195106'), ('name', 'The Lion King')]\n",
      "[('s', 'http://www.wikidata.org/entity/Q858015'), ('name', 'Be Prepared')]\n",
      "[('s', 'http://www.wikidata.org/entity/Q1649583'), ('name', 'Simba')]\n",
      "[('s', 'http://www.wikidata.org/entity/Q106476107'), ('name', 'The Lion King film score')]\n",
      "20\n"
     ]
    }
   ],
   "source": [
    "# write your queries\n",
    "#find the related subject\n",
    "queryString = \"\"\"\n",
    "SELECT DISTINCT ?s  ?name\n",
    "WHERE {\n",
    "   # bind something\n",
    "   ?s ?p wd:Q36479.\n",
    "   # get the label\n",
    "   ?s sc:name ?name .  \n",
    "   \n",
    "}\n",
    "LIMIT 20\n",
    "\"\"\"\n",
    "\n",
    "print(\"Results\")\n",
    "x=run_query(queryString)"
   ]
  },
  {
   "cell_type": "code",
   "execution_count": null,
   "id": "fb355b0a-ebff-4427-924f-8ea20e46adeb",
   "metadata": {},
   "outputs": [],
   "source": []
  },
  {
   "cell_type": "markdown",
   "id": "829b02b4",
   "metadata": {},
   "source": [
    "Final query for this task"
   ]
  },
  {
   "cell_type": "code",
   "execution_count": 95,
   "id": "51cbaaa8",
   "metadata": {},
   "outputs": [
    {
     "name": "stdout",
     "output_type": "stream",
     "text": [
      "Results\n",
      "[('o', 'http://www.wikidata.org/entity/Q190135'), ('name', 'The Little Mermaid')]\n",
      "[('o', 'http://www.wikidata.org/entity/Q6599789'), ('name', 'list of The Little Mermaid episodes')]\n",
      "2\n"
     ]
    }
   ],
   "source": [
    "# write your final query\n",
    "# by using filter easily we can find the excepted result\n",
    "queryString = \"\"\"\n",
    "SELECT DISTINCT ?o ?name\n",
    "WHERE {\n",
    "   # bind something\n",
    "   wd:Q944287 ?p ?o .\n",
    "   # get the label\n",
    "   ?o sc:name ?name .\n",
    "   FILTER regex(?name , 'The Little Mermaid')\n",
    "   \n",
    "}\n",
    "LIMIT 200\n",
    "\"\"\"\n",
    "\n",
    "print(\"Results\")\n",
    "x=run_query(queryString)"
   ]
  },
  {
   "cell_type": "markdown",
   "id": "07d60cd0",
   "metadata": {},
   "source": [
    "## Task 7\n",
    "Find who worked on both \"The Little Mermaid\" and \"The Lion King\" (the result set must be a list of couples worker IRI and label)."
   ]
  },
  {
   "cell_type": "code",
   "execution_count": 96,
   "id": "a74f77c2",
   "metadata": {},
   "outputs": [
    {
     "name": "stdout",
     "output_type": "stream",
     "text": [
      "Results\n",
      "[('p', 'http://www.wikidata.org/prop/direct/P1113'), ('name', 'number of episodes')]\n",
      "[('p', 'http://www.wikidata.org/prop/direct/P1267'), ('name', 'AlloCiné series ID')]\n",
      "[('p', 'http://www.wikidata.org/prop/direct/P136'), ('name', 'genre')]\n",
      "[('p', 'http://www.wikidata.org/prop/direct/P144'), ('name', 'based on')]\n",
      "[('p', 'http://www.wikidata.org/prop/direct/P155'), ('name', 'follows')]\n",
      "[('p', 'http://www.wikidata.org/prop/direct/P161'), ('name', 'cast member')]\n",
      "[('p', 'http://www.wikidata.org/prop/direct/P170'), ('name', 'creator')]\n",
      "[('p', 'http://www.wikidata.org/prop/direct/P1811'), ('name', 'list of episodes')]\n",
      "[('p', 'http://www.wikidata.org/prop/direct/P2047'), ('name', 'duration')]\n",
      "[('p', 'http://www.wikidata.org/prop/direct/P2364'), ('name', 'production code')]\n",
      "[('p', 'http://www.wikidata.org/prop/direct/P2437'), ('name', 'number of seasons')]\n",
      "[('p', 'http://www.wikidata.org/prop/direct/P2603'), ('name', 'Kinopoisk film ID')]\n",
      "[('p', 'http://www.wikidata.org/prop/direct/P2638'), ('name', 'TV.com ID')]\n",
      "[('p', 'http://www.wikidata.org/prop/direct/P2671'), ('name', 'Google Knowledge Graph ID')]\n",
      "[('p', 'http://www.wikidata.org/prop/direct/P272'), ('name', 'production company')]\n",
      "[('p', 'http://www.wikidata.org/prop/direct/P31'), ('name', 'instance of')]\n",
      "[('p', 'http://www.wikidata.org/prop/direct/P3121'), ('name', 'Epguides ID')]\n",
      "[('p', 'http://www.wikidata.org/prop/direct/P3138'), ('name', 'OFDb film ID')]\n",
      "[('p', 'http://www.wikidata.org/prop/direct/P3301'), ('name', 'broadcast by')]\n",
      "[('p', 'http://www.wikidata.org/prop/direct/P345'), ('name', 'IMDb ID')]\n",
      "[('p', 'http://www.wikidata.org/prop/direct/P364'), ('name', 'original language of film or TV show')]\n",
      "[('p', 'http://www.wikidata.org/prop/direct/P407'), ('name', 'language of work or name')]\n",
      "[('p', 'http://www.wikidata.org/prop/direct/P437'), ('name', 'distribution format')]\n",
      "[('p', 'http://www.wikidata.org/prop/direct/P449'), ('name', 'original broadcaster')]\n",
      "[('p', 'http://www.wikidata.org/prop/direct/P4835'), ('name', 'TheTVDB.com series ID')]\n",
      "[('p', 'http://www.wikidata.org/prop/direct/P495'), ('name', 'country of origin')]\n",
      "[('p', 'http://www.wikidata.org/prop/direct/P4983'), ('name', 'TMDb TV series ID')]\n",
      "[('p', 'http://www.wikidata.org/prop/direct/P5099'), ('name', 'Il mondo dei doppiatori ID')]\n",
      "[('p', 'http://www.wikidata.org/prop/direct/P5327'), ('name', 'fernsehserien.de ID')]\n",
      "[('p', 'http://www.wikidata.org/prop/direct/P577'), ('name', 'publication date')]\n",
      "[('p', 'http://www.wikidata.org/prop/direct/P580'), ('name', 'start time')]\n",
      "[('p', 'http://www.wikidata.org/prop/direct/P582'), ('name', 'end time')]\n",
      "[('p', 'http://www.wikidata.org/prop/direct/P5905'), ('name', 'Comic Vine ID')]\n",
      "[('p', 'http://www.wikidata.org/prop/direct/P5925'), ('name', 'Moviepilot.de series ID')]\n",
      "[('p', 'http://www.wikidata.org/prop/direct/P6181'), ('name', 'Disney A to Z ID')]\n",
      "[('p', 'http://www.wikidata.org/prop/direct/P646'), ('name', 'Freebase ID')]\n",
      "[('p', 'http://www.wikidata.org/prop/direct/P6839'), ('name', 'TV Tropes identifier')]\n",
      "[('p', 'http://www.wikidata.org/prop/direct/P750'), ('name', 'distributed by')]\n",
      "[('p', 'http://www.wikidata.org/prop/direct/P905'), ('name', 'PORT film ID')]\n",
      "[('p', 'http://www.wikidata.org/prop/direct/P4834'), ('name', 'Deutsche Synchronkartei series ID')]\n",
      "40\n"
     ]
    }
   ],
   "source": [
    "# write your queries\n",
    "#at first find the useful propertise\n",
    "queryString = \"\"\"\n",
    "SELECT DISTINCT ?p ?name\n",
    "WHERE {\n",
    "   # bind something\n",
    "   wd:Q944287 ?p ?o .\n",
    "   # get the label\n",
    "   ?p sc:name ?name .\n",
    "}\n",
    "LIMIT 40\n",
    "\"\"\"\n",
    "\n",
    "print(\"Results\")\n",
    "x=run_query(queryString)"
   ]
  },
  {
   "cell_type": "code",
   "execution_count": 98,
   "id": "9e73d0be",
   "metadata": {},
   "outputs": [
    {
     "name": "stdout",
     "output_type": "stream",
     "text": [
      "Results\n",
      "[('person', 'http://www.wikidata.org/entity/Q3565642'), ('personname', 'Walt Disney Television')]\n",
      "[('person', 'http://www.wikidata.org/entity/Q3015230'), ('personname', 'Danny Cooksey')]\n",
      "[('person', 'http://www.wikidata.org/entity/Q1138602'), ('personname', 'Jodi Benson')]\n",
      "[('person', 'http://www.wikidata.org/entity/Q1264306'), ('personname', 'Pat Carroll')]\n",
      "[('person', 'http://www.wikidata.org/entity/Q926362'), ('personname', 'Samuel E. Wright')]\n",
      "[('person', 'http://www.wikidata.org/entity/Q5335683'), ('personname', 'Edan Gross')]\n",
      "[('person', 'http://www.wikidata.org/entity/Q847124'), ('personname', 'Maurice LaMarche')]\n",
      "[('person', 'http://www.wikidata.org/entity/Q1356690'), ('personname', 'Kenneth Mars')]\n",
      "[('person', 'http://www.wikidata.org/entity/Q310292'), ('personname', 'Jim Cummings')]\n",
      "[('person', 'http://www.wikidata.org/entity/Q304701'), ('personname', 'Bradley Pierce')]\n",
      "10\n"
     ]
    }
   ],
   "source": [
    "# write your queriesqueryString\n",
    "#find persons name by using the related propertise\n",
    "queryString = \"\"\"\n",
    "SELECT DISTINCT ?person ?personname\n",
    "WHERE {\n",
    "   # bind something\n",
    "   wd:Q944287 ?p ?person .\n",
    "   # get the label\n",
    "   ?person sc:name ?personname.\n",
    "   FILTER (?p IN (wdt:P161, wdt:P170, wdt:P725))\n",
    "}\n",
    "LIMIT 200\n",
    "\"\"\"\n",
    "\n",
    "print(\"Results\")\n",
    "x=run_query(queryString)"
   ]
  },
  {
   "cell_type": "code",
   "execution_count": 104,
   "id": "80666165-3991-456f-bd16-59953b7b83a2",
   "metadata": {},
   "outputs": [
    {
     "name": "stdout",
     "output_type": "stream",
     "text": [
      "Results\n",
      "[('person', 'http://www.wikidata.org/entity/Q310292'), ('personname', 'Jim Cummings'), ('filmcount', '2')]\n",
      "1\n"
     ]
    }
   ],
   "source": [
    "# write your queries\n",
    "# find all involved people\n",
    "\n",
    "queryString = \"\"\"\n",
    "SELECT DISTINCT ?person ?personname (COUNT(?film) AS ?filmcount)\n",
    "WHERE {\n",
    "   # bind 'The Lion King' or 'The Little Mermaid' to the persons who worked on it\n",
    "   ?film ?p ?person .\n",
    "   # get the label\n",
    "   ?person sc:name ?personname .\n",
    "   \n",
    "   FILTER (?film IN (wd:Q36479,wd:Q944287)) .\n",
    "   FILTER (?p IN (wdt:P3092, wdt:P1040, wdt:P175, wdt:P162, wdt:P57, wdt:P58, wdt:P86, wdt:P2554, wdt:P1431, wdt:P3174, wdt:P725, wdt:P6942, wdt:P4483,wdt:161))\n",
    "} GROUP BY ?person ?personname\n",
    "HAVING (COUNT(?film)>1)\n",
    "LIMIT 200\n",
    "\"\"\"\n",
    "\n",
    "print(\"Results\")\n",
    "x=run_query(queryString)\n"
   ]
  },
  {
   "cell_type": "code",
   "execution_count": 100,
   "id": "0c285947-0e16-46a1-86c5-f5c3e61b7110",
   "metadata": {},
   "outputs": [
    {
     "name": "stdout",
     "output_type": "stream",
     "text": [
      "Results\n",
      "[('person', 'http://www.wikidata.org/entity/Q1341627'), ('personname', 'Rod McKuen')]\n",
      "[('person', 'http://www.wikidata.org/entity/Q2396556'), ('personname', 'Mark Henn')]\n",
      "[('person', 'http://www.wikidata.org/entity/Q11853913'), ('personname', 'Barry Cook')]\n",
      "[('person', 'http://www.wikidata.org/entity/Q12320808'), ('personname', 'Jorgen Klubien')]\n",
      "[('person', 'http://www.wikidata.org/entity/Q28790229'), ('personname', 'Phillip Young')]\n",
      "[('person', 'http://www.wikidata.org/entity/Q28803503'), ('personname', 'Robert Stanton')]\n",
      "[('person', 'http://www.wikidata.org/entity/Q28813470'), ('personname', 'Vera Pacheco')]\n",
      "[('person', 'http://www.wikidata.org/entity/Q3498870'), ('personname', 'Steve Bulen')]\n",
      "[('person', 'http://www.wikidata.org/entity/Q7375942'), ('personname', 'Ruben A. Aquino')]\n",
      "[('person', 'http://www.wikidata.org/entity/Q369276'), ('personname', 'Doug Lefler')]\n",
      "[('person', 'http://www.wikidata.org/entity/Q1497666'), ('personname', 'Geefwee Boedoe')]\n",
      "[('person', 'http://www.wikidata.org/entity/Q6129488'), ('personname', 'James Baxter')]\n",
      "[('person', 'http://www.wikidata.org/entity/Q7817597'), ('personname', 'Tom Sito')]\n",
      "[('person', 'http://www.wikidata.org/entity/Q1151111'), ('personname', 'Rob Minkoff')]\n",
      "[('person', 'http://www.wikidata.org/entity/Q28813472'), ('personname', 'Renee Holt')]\n",
      "[('person', 'http://www.wikidata.org/entity/Q101539890'), ('personname', 'Andy Gaskill')]\n",
      "[('person', 'http://www.wikidata.org/entity/Q18610100'), ('personname', 'Dorse Lanpher')]\n",
      "[('person', 'http://www.wikidata.org/entity/Q269497'), ('personname', 'Kelly Asbury')]\n",
      "[('person', 'http://www.wikidata.org/entity/Q27899227'), ('personname', 'Michael Cedeno')]\n",
      "[('person', 'http://www.wikidata.org/entity/Q27928357'), ('personname', 'Mickie McGowan')]\n",
      "[('person', 'http://www.wikidata.org/entity/Q28797184'), ('personname', 'Doug Krohn')]\n",
      "[('person', 'http://www.wikidata.org/entity/Q28797193'), ('personname', 'Jay Jackson')]\n",
      "[('person', 'http://www.wikidata.org/entity/Q28802203'), ('personname', 'Richard Hoppe')]\n",
      "[('person', 'http://www.wikidata.org/entity/Q28802540'), ('personname', 'Bruce Morris')]\n",
      "[('person', 'http://www.wikidata.org/entity/Q28802729'), ('personname', 'Philip Phillipson')]\n",
      "[('person', 'http://www.wikidata.org/entity/Q28802901'), ('personname', 'Tina Price')]\n",
      "[('person', 'http://www.wikidata.org/entity/Q28802907'), ('personname', 'Stephan Zupkas')]\n",
      "[('person', 'http://www.wikidata.org/entity/Q28803598'), ('personname', 'Gail Frank')]\n",
      "[('person', 'http://www.wikidata.org/entity/Q28803709'), ('personname', 'Mark Myer')]\n",
      "[('person', 'http://www.wikidata.org/entity/Q28812897'), ('personname', 'Greg Drolette')]\n",
      "[('person', 'http://www.wikidata.org/entity/Q28813477'), ('personname', 'Gilda Palinginis')]\n",
      "[('person', 'http://www.wikidata.org/entity/Q28814599'), ('personname', 'Kathleen Bennett')]\n",
      "[('person', 'http://www.wikidata.org/entity/Q2966604'), ('personname', 'Chris Jenkins')]\n",
      "[('person', 'http://www.wikidata.org/entity/Q3242412'), ('personname', 'Lisa Keene')]\n",
      "[('person', 'http://www.wikidata.org/entity/Q328456'), ('personname', 'Jennifer Darling')]\n",
      "[('person', 'http://www.wikidata.org/entity/Q3360325'), ('personname', 'Paddi Edwards')]\n",
      "[('person', 'http://www.wikidata.org/entity/Q3701005'), ('personname', 'Chris Bailey')]\n",
      "[('person', 'http://www.wikidata.org/entity/Q4772378'), ('personname', 'Anthony DeRosa')]\n",
      "[('person', 'http://www.wikidata.org/entity/Q5228386'), ('personname', 'Dave Bossert')]\n",
      "[('person', 'http://www.wikidata.org/entity/Q5365068'), ('personname', 'Ellen Woodbury')]\n",
      "40\n"
     ]
    }
   ],
   "source": [
    "# write your queries\n",
    "queryString = \"\"\"\n",
    "SELECT DISTINCT ?person ?personname\n",
    "WHERE {\n",
    "   # bind something\n",
    "   wd:Q190135 ?p ?person .\n",
    "   # get the label\n",
    "   ?person sc:name ?personname.\n",
    "   FILTER (?p IN (wdt:P3092, wdt:P1040, wdt:P175, wdt:P162, wdt:P57, wdt:P58, wdt:P86, wdt:P2554, wdt:P1431, wdt:P3174, wdt:P725, wdt:P6942, wdt:P4483))\n",
    "}\n",
    "LIMIT 40\n",
    "\"\"\"\n",
    "\n",
    "print(\"Results\")\n",
    "x=run_query(queryString)"
   ]
  },
  {
   "cell_type": "markdown",
   "id": "c52bb32d-9b7d-4969-b150-74d61a046a63",
   "metadata": {},
   "source": [
    "Final query for this task"
   ]
  },
  {
   "cell_type": "code",
   "execution_count": 103,
   "id": "12bc3ab2-7431-4e9d-938e-3dd6fcce8a35",
   "metadata": {},
   "outputs": [
    {
     "name": "stdout",
     "output_type": "stream",
     "text": [
      "Results\n",
      "[('person', 'http://www.wikidata.org/entity/Q7381129'), ('personname', 'Russ Edmonds'), ('filmcount', '2')]\n",
      "[('person', 'http://www.wikidata.org/entity/Q28790229'), ('personname', 'Phillip Young'), ('filmcount', '2')]\n",
      "[('person', 'http://www.wikidata.org/entity/Q5365068'), ('personname', 'Ellen Woodbury'), ('filmcount', '2')]\n",
      "[('person', 'http://www.wikidata.org/entity/Q5228386'), ('personname', 'Dave Bossert'), ('filmcount', '2')]\n",
      "[('person', 'http://www.wikidata.org/entity/Q28813259'), ('personname', 'Christine Blum'), ('filmcount', '2')]\n",
      "[('person', 'http://www.wikidata.org/entity/Q2966604'), ('personname', 'Chris Jenkins'), ('filmcount', '2')]\n",
      "[('person', 'http://www.wikidata.org/entity/Q4772378'), ('personname', 'Anthony DeRosa'), ('filmcount', '2')]\n",
      "[('person', 'http://www.wikidata.org/entity/Q7363958'), ('personname', 'Ron Husband'), ('filmcount', '2')]\n",
      "[('person', 'http://www.wikidata.org/entity/Q5238736'), ('personname', 'David Pruiksma'), ('filmcount', '2')]\n",
      "[('person', 'http://www.wikidata.org/entity/Q27600232'), ('personname', 'Chris Wahl'), ('filmcount', '2')]\n",
      "[('person', 'http://www.wikidata.org/entity/Q3701005'), ('personname', 'Chris Bailey'), ('filmcount', '2')]\n",
      "[('person', 'http://www.wikidata.org/entity/Q7375942'), ('personname', 'Ruben A. Aquino'), ('filmcount', '2')]\n",
      "[('person', 'http://www.wikidata.org/entity/Q2396556'), ('personname', 'Mark Henn'), ('filmcount', '2')]\n",
      "[('person', 'http://www.wikidata.org/entity/Q18610100'), ('personname', 'Dorse Lanpher'), ('filmcount', '2')]\n",
      "[('person', 'http://www.wikidata.org/entity/Q6129488'), ('personname', 'James Baxter'), ('filmcount', '2')]\n",
      "[('person', 'http://www.wikidata.org/entity/Q64046'), ('personname', 'Andreas Deja'), ('filmcount', '2')]\n",
      "[('person', 'http://www.wikidata.org/entity/Q27867909'), ('personname', 'Barry Temple'), ('filmcount', '2')]\n",
      "[('person', 'http://www.wikidata.org/entity/Q18700953'), ('personname', 'Ted Kierscey'), ('filmcount', '2')]\n",
      "[('person', 'http://www.wikidata.org/entity/Q3993230'), ('personname', 'Tony Fucile'), ('filmcount', '2')]\n",
      "[('person', 'http://www.wikidata.org/entity/Q28802905'), ('personname', 'David P. Stephan'), ('filmcount', '2')]\n",
      "[('person', 'http://www.wikidata.org/entity/Q28803710'), ('personname', 'Eusebio Torres'), ('filmcount', '2')]\n",
      "[('person', 'http://www.wikidata.org/entity/Q310292'), ('personname', 'Jim Cummings'), ('filmcount', '2')]\n",
      "[('person', 'http://www.wikidata.org/entity/Q27899227'), ('personname', 'Michael Cedeno'), ('filmcount', '2')]\n",
      "23\n"
     ]
    }
   ],
   "source": [
    "# write your final query\n",
    "\n",
    "queryString = \"\"\"\n",
    "SELECT DISTINCT ?person ?personname (COUNT(?film) AS ?filmcount)\n",
    "WHERE {\n",
    "   # bind something\n",
    "   ?film ?p ?person .\n",
    "   # get the label\n",
    "   ?person sc:name ?personname .\n",
    "   \n",
    "   FILTER (?film IN (wd:Q36479,wd:Q190135)) .\n",
    "   FILTER (?p IN (wdt:P3092, wdt:P1040, wdt:P175, wdt:P162, wdt:P57, wdt:P58, wdt:P86, wdt:P2554, wdt:P1431, wdt:P3174, wdt:P725, wdt:P6942, wdt:P4483))\n",
    "} GROUP BY ?person ?personname\n",
    "HAVING (COUNT(?film)>1)\n",
    "LIMIT 200\n",
    "\"\"\"\n",
    "\n",
    "print(\"Results\")\n",
    "x=run_query(queryString)"
   ]
  },
  {
   "cell_type": "markdown",
   "id": "9d76a3bb",
   "metadata": {},
   "source": [
    "## Task 8\n",
    "Identify the BGP for Academy Awards"
   ]
  },
  {
   "cell_type": "code",
   "execution_count": 113,
   "id": "6d692e47",
   "metadata": {},
   "outputs": [
    {
     "name": "stdout",
     "output_type": "stream",
     "text": [
      "Results\n",
      "[('p', 'http://www.wikidata.org/prop/direct/P3092'), ('name', 'film crew member')]\n",
      "[('p', 'http://www.wikidata.org/prop/direct/P4021'), ('name', 'danskefilm animated film ID')]\n",
      "[('p', 'http://www.wikidata.org/prop/direct/P7679'), ('name', 'Cinépolis KLIC ID')]\n",
      "[('p', 'http://www.wikidata.org/prop/direct/P1015'), ('name', 'NORAF ID')]\n",
      "[('p', 'http://www.wikidata.org/prop/direct/P1040'), ('name', 'film editor')]\n",
      "[('p', 'http://www.wikidata.org/prop/direct/P1237'), ('name', 'Box Office Mojo film ID (former scheme)')]\n",
      "[('p', 'http://www.wikidata.org/prop/direct/P1258'), ('name', 'Rotten Tomatoes ID')]\n",
      "[('p', 'http://www.wikidata.org/prop/direct/P1265'), ('name', 'AlloCiné film ID')]\n",
      "[('p', 'http://www.wikidata.org/prop/direct/P1273'), ('name', 'CANTIC ID')]\n",
      "[('p', 'http://www.wikidata.org/prop/direct/P136'), ('name', 'genre')]\n",
      "[('p', 'http://www.wikidata.org/prop/direct/P1411'), ('name', 'nominated for')]\n",
      "[('p', 'http://www.wikidata.org/prop/direct/P1417'), ('name', 'Encyclopædia Britannica Online ID')]\n",
      "[('p', 'http://www.wikidata.org/prop/direct/P1434'), ('name', 'takes place in fictional universe')]\n",
      "[('p', 'http://www.wikidata.org/prop/direct/P144'), ('name', 'based on')]\n",
      "[('p', 'http://www.wikidata.org/prop/direct/P1476'), ('name', 'title')]\n",
      "[('p', 'http://www.wikidata.org/prop/direct/P154'), ('name', 'logo image')]\n",
      "[('p', 'http://www.wikidata.org/prop/direct/P1552'), ('name', 'has quality')]\n",
      "[('p', 'http://www.wikidata.org/prop/direct/P156'), ('name', 'followed by')]\n",
      "[('p', 'http://www.wikidata.org/prop/direct/P1562'), ('name', 'AllMovie title ID')]\n",
      "[('p', 'http://www.wikidata.org/prop/direct/P162'), ('name', 'producer')]\n",
      "20\n"
     ]
    }
   ],
   "source": [
    "# write your queries\n",
    "# find the nominated propertise \n",
    "queryString = \"\"\"\n",
    "SELECT DISTINCT ?p ?name\n",
    "WHERE {\n",
    "   # bind something\n",
    "   wd:Q36479 ?p ?o.\n",
    "   # get the label\n",
    "   ?p sc:name ?name.\n",
    "}\n",
    "LIMIT 20\n",
    "\"\"\"\n",
    "\n",
    "print(\"Results\")\n",
    "x=run_query(queryString)"
   ]
  },
  {
   "cell_type": "code",
   "execution_count": 117,
   "id": "afd3e952-e109-4627-af1a-531e0856d3d1",
   "metadata": {},
   "outputs": [
    {
     "name": "stdout",
     "output_type": "stream",
     "text": [
      "Results\n",
      "[('o', 'http://www.wikidata.org/entity/Q488651'), ('name', 'Academy Award for Best Original Score')]\n",
      "1\n"
     ]
    }
   ],
   "source": [
    "# write your queries\n",
    "# find the related object\n",
    "queryString = \"\"\"\n",
    "SELECT DISTINCT ?o ?name\n",
    "WHERE {\n",
    "   # bind something\n",
    "   wd:Q36479 wdt:P1411 ?o .\n",
    "   # get the label\n",
    "   ?o sc:name ?name.\n",
    "}\n",
    "LIMIT 40\n",
    "\"\"\"\n",
    "\n",
    "print(\"Results\")\n",
    "x=run_query(queryString)"
   ]
  },
  {
   "cell_type": "code",
   "execution_count": 106,
   "id": "91972494-c563-43ed-84db-d7df8eb1a693",
   "metadata": {},
   "outputs": [
    {
     "name": "stdout",
     "output_type": "stream",
     "text": [
      "Results\n",
      "[('p', 'http://www.wikidata.org/prop/direct/P1424'), ('name', \"topic's main template\")]\n",
      "[('p', 'http://www.wikidata.org/prop/direct/P154'), ('name', 'logo image')]\n",
      "[('p', 'http://www.wikidata.org/prop/direct/P17'), ('name', 'country')]\n",
      "[('p', 'http://www.wikidata.org/prop/direct/P31'), ('name', 'instance of')]\n",
      "[('p', 'http://www.wikidata.org/prop/direct/P361'), ('name', 'part of')]\n",
      "[('p', 'http://www.wikidata.org/prop/direct/P373'), ('name', 'Commons category')]\n",
      "[('p', 'http://www.wikidata.org/prop/direct/P571'), ('name', 'inception')]\n",
      "[('p', 'http://www.wikidata.org/prop/direct/P646'), ('name', 'Freebase ID')]\n",
      "[('p', 'http://www.wikidata.org/prop/direct/P7084'), ('name', 'related category')]\n",
      "[('p', 'http://www.wikidata.org/prop/direct/P8408'), ('name', 'KBpedia ID')]\n",
      "[('p', 'http://www.wikidata.org/prop/direct/P856'), ('name', 'official website')]\n",
      "[('p', 'http://www.wikidata.org/prop/direct/P910'), ('name', \"topic's main category\")]\n",
      "[('p', 'http://www.wikidata.org/prop/direct/P1027'), ('name', 'conferred by')]\n",
      "[('p', 'http://www.wikidata.org/prop/direct/P2517'), ('name', 'category for recipients of this award')]\n",
      "14\n"
     ]
    }
   ],
   "source": [
    "# write your queries\n",
    "\n",
    "queryString = \"\"\"\n",
    "SELECT DISTINCT ?p ?name\n",
    "WHERE {\n",
    "   # bind something\n",
    "   wd:Q488651 ?p ?obj .\n",
    "   \n",
    "   # get the label\n",
    "   ?p sc:name ?name.\n",
    "}\n",
    "LIMIT 200\n",
    "\"\"\"\n",
    "\n",
    "print(\"Results\")\n",
    "x=run_query(queryString)"
   ]
  },
  {
   "cell_type": "markdown",
   "id": "423a52af",
   "metadata": {},
   "source": [
    "Final query for this task"
   ]
  },
  {
   "cell_type": "code",
   "execution_count": 118,
   "id": "3863dd87",
   "metadata": {},
   "outputs": [
    {
     "name": "stdout",
     "output_type": "stream",
     "text": [
      "Results\n",
      "[('obj', 'http://www.wikidata.org/entity/Q19020'), ('name', 'Academy Awards')]\n",
      "1\n"
     ]
    }
   ],
   "source": [
    "# write your final query\n",
    "queryString = \"\"\"\n",
    "SELECT DISTINCT ?obj ?name\n",
    "WHERE {\n",
    "   # bind something\n",
    "   wd:Q488651 wdt:P31 ?obj .\n",
    "   \n",
    "   # get the label\n",
    "   ?obj sc:name ?name.\n",
    "   FILTER regex(?name , 'Academy Awards')\n",
    "}\n",
    "LIMIT 200\n",
    "\"\"\"\n",
    "\n",
    "print(\"Results\")\n",
    "x=run_query(queryString)"
   ]
  },
  {
   "cell_type": "markdown",
   "id": "0281d7b3",
   "metadata": {},
   "source": [
    "## Task 9\n",
    "For each films created by the Walt Disney Animation Studios return the number of nomination for an Academy Awards. Return only films with at least one nomination. (the result set must be triples of films IRI, label and #nomination)."
   ]
  },
  {
   "cell_type": "code",
   "execution_count": 119,
   "id": "c5a27fd9",
   "metadata": {},
   "outputs": [
    {
     "name": "stdout",
     "output_type": "stream",
     "text": [
      "Results\n",
      "[('p', 'http://www.wikidata.org/prop/direct/P1407'), ('name', 'MusicBrainz series ID')]\n",
      "[('p', 'http://www.wikidata.org/prop/direct/P1225'), ('name', 'U.S. National Archives Identifier')]\n",
      "[('p', 'http://www.wikidata.org/prop/direct/P1296'), ('name', 'Gran Enciclopèdia Catalana ID')]\n",
      "[('p', 'http://www.wikidata.org/prop/direct/P1343'), ('name', 'described by source')]\n",
      "[('p', 'http://www.wikidata.org/prop/direct/P1417'), ('name', 'Encyclopædia Britannica Online ID')]\n",
      "[('p', 'http://www.wikidata.org/prop/direct/P1424'), ('name', \"topic's main template\")]\n",
      "[('p', 'http://www.wikidata.org/prop/direct/P17'), ('name', 'country')]\n",
      "[('p', 'http://www.wikidata.org/prop/direct/P1705'), ('name', 'native label')]\n",
      "[('p', 'http://www.wikidata.org/prop/direct/P18'), ('name', 'image')]\n",
      "[('p', 'http://www.wikidata.org/prop/direct/P1889'), ('name', 'different from')]\n",
      "[('p', 'http://www.wikidata.org/prop/direct/P2002'), ('name', 'Twitter username')]\n",
      "[('p', 'http://www.wikidata.org/prop/direct/P2003'), ('name', 'Instagram username')]\n",
      "[('p', 'http://www.wikidata.org/prop/direct/P2013'), ('name', 'Facebook ID')]\n",
      "[('p', 'http://www.wikidata.org/prop/direct/P2163'), ('name', 'FAST ID')]\n",
      "[('p', 'http://www.wikidata.org/prop/direct/P227'), ('name', 'GND ID')]\n",
      "[('p', 'http://www.wikidata.org/prop/direct/P2397'), ('name', 'YouTube channel ID')]\n",
      "[('p', 'http://www.wikidata.org/prop/direct/P244'), ('name', 'Library of Congress authority ID')]\n",
      "[('p', 'http://www.wikidata.org/prop/direct/P2581'), ('name', 'BabelNet ID')]\n",
      "[('p', 'http://www.wikidata.org/prop/direct/P268'), ('name', 'Bibliothèque nationale de France ID')]\n",
      "[('p', 'http://www.wikidata.org/prop/direct/P269'), ('name', 'IdRef ID')]\n",
      "[('p', 'http://www.wikidata.org/prop/direct/P279'), ('name', 'subclass of')]\n",
      "[('p', 'http://www.wikidata.org/prop/direct/P2888'), ('name', 'exact match')]\n",
      "[('p', 'http://www.wikidata.org/prop/direct/P2924'), ('name', 'Great Russian Encyclopedia Online ID')]\n",
      "[('p', 'http://www.wikidata.org/prop/direct/P31'), ('name', 'instance of')]\n",
      "[('p', 'http://www.wikidata.org/prop/direct/P3221'), ('name', 'New York Times topic ID')]\n",
      "[('p', 'http://www.wikidata.org/prop/direct/P3222'), ('name', 'NE.se ID')]\n",
      "[('p', 'http://www.wikidata.org/prop/direct/P3417'), ('name', 'Quora topic ID')]\n",
      "[('p', 'http://www.wikidata.org/prop/direct/P345'), ('name', 'IMDb ID')]\n",
      "[('p', 'http://www.wikidata.org/prop/direct/P3479'), ('name', 'Omni topic ID')]\n",
      "[('p', 'http://www.wikidata.org/prop/direct/P349'), ('name', 'National Diet Library ID')]\n",
      "[('p', 'http://www.wikidata.org/prop/direct/P3509'), ('name', 'Dagens Nyheter topic ID')]\n",
      "[('p', 'http://www.wikidata.org/prop/direct/P3569'), ('name', 'Cultureel Woordenboek ID')]\n",
      "[('p', 'http://www.wikidata.org/prop/direct/P373'), ('name', 'Commons category')]\n",
      "[('p', 'http://www.wikidata.org/prop/direct/P3847'), ('name', 'Open Library subject ID')]\n",
      "[('p', 'http://www.wikidata.org/prop/direct/P4013'), ('name', 'Giphy username')]\n",
      "[('p', 'http://www.wikidata.org/prop/direct/P4073'), ('name', 'Fandom wiki ID')]\n",
      "[('p', 'http://www.wikidata.org/prop/direct/P4342'), ('name', 'Store norske leksikon ID')]\n",
      "[('p', 'http://www.wikidata.org/prop/direct/P4622'), ('name', 'trophy awarded')]\n",
      "[('p', 'http://www.wikidata.org/prop/direct/P5019'), ('name', 'Brockhaus Enzyklopädie online ID')]\n",
      "[('p', 'http://www.wikidata.org/prop/direct/P527'), ('name', 'has part')]\n",
      "40\n"
     ]
    }
   ],
   "source": [
    "# write your queries\n",
    "queryString = \"\"\"\n",
    "SELECT DISTINCT ?p ?name\n",
    "WHERE {\n",
    "   # bind something\n",
    "   wd:Q19020 ?p ?o.\n",
    "   \n",
    "   # get the label\n",
    "   ?p sc:name ?name.\n",
    "}\n",
    "LIMIT 40\n",
    "\"\"\"\n",
    "\n",
    "print(\"Results\")\n",
    "x=run_query(queryString)"
   ]
  },
  {
   "cell_type": "code",
   "execution_count": 4,
   "id": "064cd17d-868e-4cbd-a02a-0a6551e6599c",
   "metadata": {},
   "outputs": [
    {
     "name": "stdout",
     "output_type": "stream",
     "text": [
      "Results\n",
      "[('film', 'http://www.wikidata.org/entity/Q18647981'), ('filmname', 'Moana'), ('nominated_for', 'http://www.wikidata.org/entity/Q106800'), ('nominated_for_name', 'Academy Award for Best Animated Feature')]\n",
      "[('film', 'http://www.wikidata.org/entity/Q179673'), ('filmname', 'Beauty and the Beast'), ('nominated_for', 'http://www.wikidata.org/entity/Q488651'), ('nominated_for_name', 'Academy Award for Best Original Score')]\n",
      "[('film', 'http://www.wikidata.org/entity/Q179673'), ('filmname', 'Beauty and the Beast'), ('nominated_for', 'http://www.wikidata.org/entity/Q102427'), ('nominated_for_name', 'Academy Award for Best Picture')]\n",
      "[('film', 'http://www.wikidata.org/entity/Q179673'), ('filmname', 'Beauty and the Beast'), ('nominated_for', 'http://www.wikidata.org/entity/Q830079'), ('nominated_for_name', 'Academy Award for Best Sound')]\n",
      "[('film', 'http://www.wikidata.org/entity/Q379873'), ('filmname', 'Who Framed Roger Rabbit'), ('nominated_for', 'http://www.wikidata.org/entity/Q393686'), ('nominated_for_name', 'Academy Award for Best Visual Effects')]\n",
      "[('film', 'http://www.wikidata.org/entity/Q379873'), ('filmname', 'Who Framed Roger Rabbit'), ('nominated_for', 'http://www.wikidata.org/entity/Q131520'), ('nominated_for_name', 'Academy Award for Best Cinematography')]\n",
      "[('film', 'http://www.wikidata.org/entity/Q379873'), ('filmname', 'Who Framed Roger Rabbit'), ('nominated_for', 'http://www.wikidata.org/entity/Q281939'), ('nominated_for_name', 'Academy Award for Best Film Editing')]\n",
      "[('film', 'http://www.wikidata.org/entity/Q379873'), ('filmname', 'Who Framed Roger Rabbit'), ('nominated_for', 'http://www.wikidata.org/entity/Q277751'), ('nominated_for_name', 'Academy Award for Best Production Design')]\n",
      "[('film', 'http://www.wikidata.org/entity/Q379873'), ('filmname', 'Who Framed Roger Rabbit'), ('nominated_for', 'http://www.wikidata.org/entity/Q830079'), ('nominated_for_name', 'Academy Award for Best Sound')]\n",
      "[('film', 'http://www.wikidata.org/entity/Q379873'), ('filmname', 'Who Framed Roger Rabbit'), ('nominated_for', 'http://www.wikidata.org/entity/Q488645'), ('nominated_for_name', 'Academy Award for Best Sound Editing')]\n",
      "[('film', 'http://www.wikidata.org/entity/Q36479'), ('filmname', 'The Lion King'), ('nominated_for', 'http://www.wikidata.org/entity/Q488651'), ('nominated_for_name', 'Academy Award for Best Original Score')]\n",
      "[('film', 'http://www.wikidata.org/entity/Q215617'), ('filmname', 'Sleeping Beauty'), ('nominated_for', 'http://www.wikidata.org/entity/Q4671338'), ('nominated_for_name', 'Academy Award for Best Original Musical Score')]\n",
      "[('film', 'http://www.wikidata.org/entity/Q212792'), ('filmname', 'Bolt'), ('nominated_for', 'http://www.wikidata.org/entity/Q106800'), ('nominated_for_name', 'Academy Award for Best Animated Feature')]\n",
      "[('film', 'http://www.wikidata.org/entity/Q842306'), ('filmname', 'Saludos Amigos'), ('nominated_for', 'http://www.wikidata.org/entity/Q4671338'), ('nominated_for_name', 'Academy Award for Best Original Musical Score')]\n",
      "[('film', 'http://www.wikidata.org/entity/Q842306'), ('filmname', 'Saludos Amigos'), ('nominated_for', 'http://www.wikidata.org/entity/Q830079'), ('nominated_for_name', 'Academy Award for Best Sound')]\n",
      "[('film', 'http://www.wikidata.org/entity/Q213787'), ('filmname', 'The Hunchback of Notre Dame'), ('nominated_for', 'http://www.wikidata.org/entity/Q22235305'), ('nominated_for_name', 'Academy Award for Best Original Musical or Comedy Score')]\n",
      "[('film', 'http://www.wikidata.org/entity/Q246283'), ('filmname', 'Frozen'), ('nominated_for', 'http://www.wikidata.org/entity/Q106800'), ('nominated_for_name', 'Academy Award for Best Animated Feature')]\n",
      "[('film', 'http://www.wikidata.org/entity/Q13091172'), ('filmname', 'Big Hero 6'), ('nominated_for', 'http://www.wikidata.org/entity/Q106800'), ('nominated_for_name', 'Academy Award for Best Animated Feature')]\n",
      "[('film', 'http://www.wikidata.org/entity/Q28891'), ('filmname', 'Wreck-It Ralph'), ('nominated_for', 'http://www.wikidata.org/entity/Q106800'), ('nominated_for_name', 'Academy Award for Best Animated Feature')]\n",
      "[('film', 'http://www.wikidata.org/entity/Q15270647'), ('filmname', 'Zootopia'), ('nominated_for', 'http://www.wikidata.org/entity/Q106800'), ('nominated_for_name', 'Academy Award for Best Animated Feature')]\n",
      "[('film', 'http://www.wikidata.org/entity/Q640679'), ('filmname', 'Rugged Bear'), ('nominated_for', 'http://www.wikidata.org/entity/Q917808'), ('nominated_for_name', 'Academy Award for Best Animated Short Film')]\n",
      "[('film', 'http://www.wikidata.org/entity/Q2252695'), ('filmname', 'Paperman'), ('nominated_for', 'http://www.wikidata.org/entity/Q917808'), ('nominated_for_name', 'Academy Award for Best Animated Short Film')]\n",
      "[('film', 'http://www.wikidata.org/entity/Q2399982'), ('filmname', 'Tea for Two Hundred'), ('nominated_for', 'http://www.wikidata.org/entity/Q917808'), ('nominated_for_name', 'Academy Award for Best Animated Short Film')]\n",
      "[('film', 'http://www.wikidata.org/entity/Q16857388'), ('filmname', 'Feast'), ('nominated_for', 'http://www.wikidata.org/entity/Q917808'), ('nominated_for_name', 'Academy Award for Best Animated Short Film')]\n",
      "[('film', 'http://www.wikidata.org/entity/Q12124484'), ('filmname', 'Get a Horse!'), ('nominated_for', 'http://www.wikidata.org/entity/Q917808'), ('nominated_for_name', 'Academy Award for Best Animated Short Film')]\n",
      "[('film', 'http://www.wikidata.org/entity/Q1633009'), ('filmname', 'The Little Matchgirl'), ('nominated_for', 'http://www.wikidata.org/entity/Q917808'), ('nominated_for_name', 'Academy Award for Best Animated Short Film')]\n",
      "[('film', 'http://www.wikidata.org/entity/Q1440760'), ('filmname', 'Runaway Brain'), ('nominated_for', 'http://www.wikidata.org/entity/Q917808'), ('nominated_for_name', 'Academy Award for Best Animated Short Film')]\n",
      "[('film', 'http://www.wikidata.org/entity/Q3259450'), ('filmname', 'Lorenzo'), ('nominated_for', 'http://www.wikidata.org/entity/Q917808'), ('nominated_for_name', 'Academy Award for Best Animated Short Film')]\n",
      "28\n"
     ]
    }
   ],
   "source": [
    "# write your queries\n",
    "queryString = \"\"\"\n",
    "SELECT DISTINCT ?film ?filmname ?nominated_for ?nominated_for_name\n",
    "WHERE {\n",
    "    # bind something\n",
    "    ?film wdt:P272 wd:Q1047410.\n",
    "    # get the label \n",
    "    ?film sc:name ?filmname ;\n",
    "           wdt:P1411 ?nominated_for .       \n",
    "    ?nominated_for sc:name ?nominated_for_name.\n",
    "    FILTER regex(?nominated_for_name, \"academy\", \"i\")\n",
    "}\n",
    "LIMIT 40\n",
    "\"\"\"\n",
    "\n",
    "print(\"Results\")\n",
    "x=run_query(queryString)\n"
   ]
  },
  {
   "cell_type": "code",
   "execution_count": 132,
   "id": "7b2f8df9-5f5b-4df0-853e-df25e9912b96",
   "metadata": {},
   "outputs": [
    {
     "name": "stdout",
     "output_type": "stream",
     "text": [
      "Results\n",
      "[('film', 'http://www.wikidata.org/entity/Q18647981'), ('filmname', 'Moana'), ('number_nominated', '1')]\n",
      "[('film', 'http://www.wikidata.org/entity/Q2399982'), ('filmname', 'Tea for Two Hundred'), ('number_nominated', '1')]\n",
      "[('film', 'http://www.wikidata.org/entity/Q1633009'), ('filmname', 'The Little Matchgirl'), ('number_nominated', '1')]\n",
      "[('film', 'http://www.wikidata.org/entity/Q3259450'), ('filmname', 'Lorenzo'), ('number_nominated', '1')]\n",
      "[('film', 'http://www.wikidata.org/entity/Q842306'), ('filmname', 'Saludos Amigos'), ('number_nominated', '2')]\n",
      "[('film', 'http://www.wikidata.org/entity/Q16857388'), ('filmname', 'Feast'), ('number_nominated', '1')]\n",
      "[('film', 'http://www.wikidata.org/entity/Q1440760'), ('filmname', 'Runaway Brain'), ('number_nominated', '1')]\n",
      "[('film', 'http://www.wikidata.org/entity/Q215617'), ('filmname', 'Sleeping Beauty'), ('number_nominated', '1')]\n",
      "[('film', 'http://www.wikidata.org/entity/Q246283'), ('filmname', 'Frozen'), ('number_nominated', '1')]\n",
      "[('film', 'http://www.wikidata.org/entity/Q2252695'), ('filmname', 'Paperman'), ('number_nominated', '1')]\n",
      "[('film', 'http://www.wikidata.org/entity/Q36479'), ('filmname', 'The Lion King'), ('number_nominated', '1')]\n",
      "[('film', 'http://www.wikidata.org/entity/Q379873'), ('filmname', 'Who Framed Roger Rabbit'), ('number_nominated', '6')]\n",
      "[('film', 'http://www.wikidata.org/entity/Q15270647'), ('filmname', 'Zootopia'), ('number_nominated', '1')]\n",
      "[('film', 'http://www.wikidata.org/entity/Q640679'), ('filmname', 'Rugged Bear'), ('number_nominated', '1')]\n",
      "[('film', 'http://www.wikidata.org/entity/Q12124484'), ('filmname', 'Get a Horse!'), ('number_nominated', '1')]\n",
      "[('film', 'http://www.wikidata.org/entity/Q213787'), ('filmname', 'The Hunchback of Notre Dame'), ('number_nominated', '1')]\n",
      "[('film', 'http://www.wikidata.org/entity/Q13091172'), ('filmname', 'Big Hero 6'), ('number_nominated', '1')]\n",
      "[('film', 'http://www.wikidata.org/entity/Q28891'), ('filmname', 'Wreck-It Ralph'), ('number_nominated', '1')]\n",
      "[('film', 'http://www.wikidata.org/entity/Q179673'), ('filmname', 'Beauty and the Beast'), ('number_nominated', '3')]\n",
      "[('film', 'http://www.wikidata.org/entity/Q212792'), ('filmname', 'Bolt'), ('number_nominated', '1')]\n",
      "20\n"
     ]
    }
   ],
   "source": [
    "# write your queries\n",
    "queryString = \"\"\"\n",
    "SELECT DISTINCT ?film ?filmname (COUNT(?nominated_for) AS ?number_nominated)\n",
    "WHERE {\n",
    "    # bind something\n",
    "    ?film wdt:P272 wd:Q1047410.\n",
    "    # get the label \n",
    "    ?film sc:name ?filmname ;\n",
    "           wdt:P1411 ?nominated_for .\n",
    "           \n",
    "    ?nominated_for sc:name ?nominated_for_name.\n",
    "    FILTER regex(?nominated_for_name, \"academy\", \"i\")\n",
    "}GROUP BY ?film ?filmname\n",
    "LIMIT 40\n",
    "\"\"\"\n",
    "\n",
    "print(\"Results\")\n",
    "x=run_query(queryString)"
   ]
  },
  {
   "cell_type": "code",
   "execution_count": 122,
   "id": "78d3789c-8b7f-4b3b-8dfa-4c2d321fa6ec",
   "metadata": {},
   "outputs": [],
   "source": [
    "# write your queries\n"
   ]
  },
  {
   "cell_type": "markdown",
   "id": "4faaf114",
   "metadata": {},
   "source": [
    "Final query for this task"
   ]
  },
  {
   "cell_type": "code",
   "execution_count": 135,
   "id": "33c71e7b",
   "metadata": {},
   "outputs": [
    {
     "name": "stdout",
     "output_type": "stream",
     "text": [
      "Results\n",
      "[('film', 'http://www.wikidata.org/entity/Q134430'), ('name', 'Snow White and the Seven Dwarfs'), ('number_nominated', '1')]\n",
      "[('film', 'http://www.wikidata.org/entity/Q190135'), ('name', 'The Little Mermaid'), ('number_nominated', '1')]\n",
      "[('film', 'http://www.wikidata.org/entity/Q18647981'), ('name', 'Moana'), ('number_nominated', '1')]\n",
      "[('film', 'http://www.wikidata.org/entity/Q215365'), ('name', 'Brother Bear'), ('number_nominated', '1')]\n",
      "[('film', 'http://www.wikidata.org/entity/Q4341553'), ('name', 'Pinocchio'), ('number_nominated', '1')]\n",
      "[('film', 'http://www.wikidata.org/entity/Q842306'), ('name', 'Saludos Amigos'), ('number_nominated', '2')]\n",
      "[('film', 'http://www.wikidata.org/entity/Q36092'), ('name', 'Lilo & Stitch'), ('number_nominated', '1')]\n",
      "[('film', 'http://www.wikidata.org/entity/Q189875'), ('name', 'Alice in Wonderland'), ('number_nominated', '1')]\n",
      "[('film', 'http://www.wikidata.org/entity/Q40895'), ('name', 'Dumbo'), ('number_nominated', '1')]\n",
      "[('film', 'http://www.wikidata.org/entity/Q16857388'), ('name', 'Feast'), ('number_nominated', '1')]\n",
      "[('film', 'http://www.wikidata.org/entity/Q43051'), ('name', 'Bambi'), ('number_nominated', '2')]\n",
      "[('film', 'http://www.wikidata.org/entity/Q215617'), ('name', 'Sleeping Beauty'), ('number_nominated', '1')]\n",
      "[('film', 'http://www.wikidata.org/entity/Q204662'), ('name', 'The Sword in the Stone'), ('number_nominated', '1')]\n",
      "[('film', 'http://www.wikidata.org/entity/Q246283'), ('name', 'Frozen'), ('number_nominated', '1')]\n",
      "[('film', 'http://www.wikidata.org/entity/Q2252695'), ('name', 'Paperman'), ('number_nominated', '1')]\n",
      "[('film', 'http://www.wikidata.org/entity/Q36479'), ('name', 'The Lion King'), ('number_nominated', '1')]\n",
      "[('film', 'http://www.wikidata.org/entity/Q218894'), ('name', 'Pocahontas'), ('number_nominated', '1')]\n",
      "[('film', 'http://www.wikidata.org/entity/Q15270647'), ('name', 'Zootopia'), ('number_nominated', '1')]\n",
      "[('film', 'http://www.wikidata.org/entity/Q12124484'), ('name', 'Get a Horse!'), ('number_nominated', '1')]\n",
      "[('film', 'http://www.wikidata.org/entity/Q379873'), ('name', 'Who Framed Roger Rabbit'), ('number_nominated', '6')]\n",
      "[('film', 'http://www.wikidata.org/entity/Q213787'), ('name', 'The Hunchback of Notre Dame'), ('number_nominated', '1')]\n",
      "[('film', 'http://www.wikidata.org/entity/Q736731'), ('name', 'The Three Caballeros'), ('number_nominated', '2')]\n",
      "[('film', 'http://www.wikidata.org/entity/Q13091172'), ('name', 'Big Hero 6'), ('number_nominated', '1')]\n",
      "[('film', 'http://www.wikidata.org/entity/Q215518'), ('name', 'Aladdin'), ('number_nominated', '3')]\n",
      "[('film', 'http://www.wikidata.org/entity/Q28891'), ('name', 'Wreck-It Ralph'), ('number_nominated', '1')]\n",
      "[('film', 'http://www.wikidata.org/entity/Q537407'), ('name', 'Mulan'), ('number_nominated', '1')]\n",
      "[('film', 'http://www.wikidata.org/entity/Q179673'), ('name', 'Beauty and the Beast'), ('number_nominated', '3')]\n",
      "[('film', 'http://www.wikidata.org/entity/Q191753'), ('name', 'Cinderella'), ('number_nominated', '2')]\n",
      "[('film', 'http://www.wikidata.org/entity/Q212792'), ('name', 'Bolt'), ('number_nominated', '1')]\n",
      "[('film', 'http://www.wikidata.org/entity/Q392530'), ('name', 'Treasure Planet'), ('number_nominated', '1')]\n",
      "[('film', 'http://www.wikidata.org/entity/Q171300'), ('name', 'The Princess and the Frog'), ('number_nominated', '1')]\n",
      "31\n"
     ]
    }
   ],
   "source": [
    "# write your final query\n",
    "queryString = \"\"\"\n",
    "SELECT DISTINCT ?film ?name (COUNT(?nominated_for) AS ?number_nominated) WHERE{\n",
    "\n",
    "    ?film wdt:P1411 ?nominated_for .\n",
    "    ?nominated_for sc:name ?nominated_for_name.\n",
    "    FILTER regex(?nominated_for_name, \"academy\", \"i\")\n",
    "\n",
    "   {\n",
    "       \n",
    "   \n",
    "        SELECT DISTINCT ?film ?name WHERE {\n",
    "            {\n",
    "                SELECT DISTINCT ?film ?name WHERE{\n",
    "                    ?film wdt:P179 wd:Q56070713 ;\n",
    "                       sc:name ?name.\n",
    "                }\n",
    "            }\n",
    "            UNION\n",
    "            {\n",
    "                # the films having as 'production company' 'Walt Disney Animation Studios'\n",
    "                SELECT DISTINCT ?film ?name WHERE {\n",
    "                    # set the 'production company' as 'Walt Disney Animation Studios' to retrieve all its films\n",
    "                    ?film wdt:P272 wd:Q1047410.\n",
    "                    # get the label\n",
    "                    ?film sc:name ?name ;\n",
    "                          wdt:P31 ?instance_of .\n",
    "                    FILTER (?instance_of IN (wd:Q11424,wd:Q336144,wd:Q202866,wd:Q229390,wd:Q24869,wd:Q25110269,wd:Q29168811,wd:Q56070713))\n",
    "                }\n",
    "            }\n",
    "        }\n",
    "        \n",
    "   }\n",
    "}GROUP BY ?film ?name\n",
    "LIMIT 40\n",
    "\"\"\"\n",
    "\n",
    "print(\"Results\")\n",
    "x=run_query(queryString)"
   ]
  },
  {
   "cell_type": "code",
   "execution_count": null,
   "id": "b7e0d0d9-0b03-46bd-960b-1d2f6e522392",
   "metadata": {},
   "outputs": [],
   "source": []
  }
 ],
 "metadata": {
  "kernelspec": {
   "display_name": "Python 3",
   "language": "python",
   "name": "python3"
  },
  "language_info": {
   "codemirror_mode": {
    "name": "ipython",
    "version": 3
   },
   "file_extension": ".py",
   "mimetype": "text/x-python",
   "name": "python",
   "nbconvert_exporter": "python",
   "pygments_lexer": "ipython3",
   "version": "3.7.10"
  }
 },
 "nbformat": 4,
 "nbformat_minor": 5
}
