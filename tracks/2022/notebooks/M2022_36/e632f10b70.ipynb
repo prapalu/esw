{
 "cells": [
  {
   "cell_type": "markdown",
   "id": "41696ea5",
   "metadata": {},
   "source": [
    "# General instructions\n",
    "\n",
    "The goal of the project is to materialize a set of **exploratory workloads** over a real-world, large-scale,  open-domain KG: [WikiData](https://www.wikidata.org/wiki/Wikidata:Main_Page)\n",
    "\n",
    "An exploratory workload  is composed by a set of queries, where each query is related to the information obtained previously.\n",
    "\n",
    "An exploratory workload starts with a usually vague, open ended question, and does not assume the person issuing the workload has a clear understanding of the data contained in the target database or its structure.\n",
    "\n",
    "Remeber that:\n",
    "\n",
    "1. All the queries must run in the python notebook\n",
    "2. You can use classes and properties only if you find them via a SPARQL query that must be present in the notebook\n",
    "3. You do not delete useless queries. Keep everything that is synthatically valid \n",
    "\n",
    "```\n",
    "?p <http://schema.org/name> ?name .\n",
    "```\n",
    "    \n",
    "    is the BGP returning a human-readable name of a property or a class in Wikidata."
   ]
  },
  {
   "cell_type": "code",
   "execution_count": 252,
   "id": "d53392e1",
   "metadata": {},
   "outputs": [],
   "source": [
    "## SETUP used later\n",
    "\n",
    "from SPARQLWrapper import SPARQLWrapper, JSON\n",
    "\n",
    "\n",
    "prefixString = \"\"\"\n",
    "##-e632f10b70-##\n",
    "PREFIX wd: <http://www.wikidata.org/entity/> \n",
    "PREFIX wdt: <http://www.wikidata.org/prop/direct/> \n",
    "PREFIX sc: <http://schema.org/>\n",
    "\"\"\"\n",
    "\n",
    "# select and construct queries\n",
    "def run_query(queryString,verbose = True):\n",
    "    to_run = prefixString + \"\\n\" + queryString\n",
    "\n",
    "    sparql = SPARQLWrapper(\"http://a256-gc1-03.srv.aau.dk:5820/sparql\")\n",
    "    sparql.setTimeout(300)\n",
    "    sparql.setReturnFormat(JSON)\n",
    "    sparql.setQuery(to_run)\n",
    "\n",
    "    try :\n",
    "        results = sparql.query()\n",
    "        json_results = results.convert()\n",
    "        if len(json_results['results']['bindings'])==0:\n",
    "            print(\"Empty\")\n",
    "            return []\n",
    "        array = []\n",
    "        for bindings in json_results['results']['bindings']:\n",
    "            app =  [ (var, value['value'])  for var, value in bindings.items() ] \n",
    "            if verbose:\n",
    "                print( app)\n",
    "            array.append(app)\n",
    "        if verbose:\n",
    "            print(len(array))\n",
    "        return array\n",
    "\n",
    "    except Exception as e :\n",
    "        print(\"The operation failed\", e)\n",
    "    \n",
    "# ASk queries\n",
    "def run_ask_query(queryString):\n",
    "    to_run = prefixString + \"\\n\" + queryString\n",
    "\n",
    "    sparql = SPARQLWrapper(\"http://a256-gc1-03.srv.aau.dk:5820/sparql\")\n",
    "    sparql.setTimeout(300)\n",
    "    sparql.setReturnFormat(JSON)\n",
    "    sparql.setQuery(to_run)\n",
    "\n",
    "    try :\n",
    "        return sparql.query().convert()\n",
    "\n",
    "    except Exception as e :\n",
    "        print(\"The operation failed\", e)"
   ]
  },
  {
   "cell_type": "markdown",
   "id": "b5f92e31",
   "metadata": {},
   "source": [
    "# Sport Workflow Series (\"Running explorative search\") \n",
    "\n",
    "Consider the following exploratory information need:\n",
    "\n",
    "> investigate the association football players and find the main BGPs related to this sports. Compare awards and participation in the competitions of the players"
   ]
  },
  {
   "cell_type": "markdown",
   "id": "01a17d68",
   "metadata": {},
   "source": [
    "## Useful URIs for the current workflow\n",
    "The following are given:\n",
    "\n",
    "| IRI           | Description   | Role      |\n",
    "| -----------   | -----------   |-----------|\n",
    "| `wdt:P1647`   | subproperty   | predicate |\n",
    "| `wdt:P31`     | instance of   | predicate |\n",
    "| `wdt:P106`    | profession    | predicate | \n",
    "| `wdt:P279`    | subclass      | predicate |\n",
    "| `wdt:P27`     | nationality   | predicate |\n",
    "| `wd:Q5`       | Human         | node      |\n",
    "| `wd:Q9124`    | Eliud Kipchoge| node      |\n",
    "| `wd:Q853003`| athletics at the 2008 Summer Olympics – men's 200 metres |node|\n"
   ]
  },
  {
   "cell_type": "markdown",
   "id": "ccf84cf8",
   "metadata": {},
   "source": [
    "\n",
    "\n",
    "\n",
    "Also consider\n",
    "\n",
    "```\n",
    "wd:Q9124 ?p ?obj .\n",
    "```\n",
    "\n",
    "is the BGP to retrieve all **properties of Eliud Kipchoge**\n",
    "\n",
    "\n",
    "Please consider that when you return a resource, you should return the IRI and the label of the resource. In particular, when the task require you to identify a BGP the result set must always be a list of couples IRI - label.\n",
    "\n",
    "\n",
    "The workload should:\n",
    "\n",
    "\n",
    "1. Identify the BGP for runner\n",
    "\n",
    "2. Identify the BGP for long distance running\n",
    "\n",
    "3. Return the disciplines of the long distance running (e.g. marathon) (the result set must be a list of couples discipline IRI and label).\n",
    "\n",
    "4. Consider marathons ran in Europe. Return the number of different runners who won a marathon group by their country of citizenship (the result set must be a triples of country IRI, label and #different runners).\n",
    "\n",
    "5. Identify the BGP for Olympic Games\n",
    "\n",
    "6. Consider only the summer olympic games of 2004-2008-2012-2016. Return the number of marathon runners who had partecipated to all these editions group by their country of citizenship (if the runner partecipated in more than one edition of the game, consider him/her only once) (the result set must be a list of country IRI, label and #marathon runners)\n",
    "\n",
    "7. For each disciplines of the long distance running find who hold the World Record (the result set must be a list of elements with discipline IRI, label and athlete IRI and label)."
   ]
  },
  {
   "cell_type": "markdown",
   "id": "d27e4b63",
   "metadata": {},
   "source": [
    "## Task 1\n",
    "Identify the BGP for runner"
   ]
  },
  {
   "cell_type": "code",
   "execution_count": 250,
   "id": "49cd545c",
   "metadata": {},
   "outputs": [
    {
     "name": "stdout",
     "output_type": "stream",
     "text": [
      "Results\n",
      "[('p', 'http://www.wikidata.org/prop/direct/P1000'), ('name', 'record held')]\n",
      "[('p', 'http://www.wikidata.org/prop/direct/P106'), ('name', 'occupation')]\n",
      "[('p', 'http://www.wikidata.org/prop/direct/P1146'), ('name', 'World Athletics athlete ID')]\n",
      "[('p', 'http://www.wikidata.org/prop/direct/P1344'), ('name', 'participant in')]\n",
      "[('p', 'http://www.wikidata.org/prop/direct/P1412'), ('name', 'languages spoken, written or signed')]\n",
      "[('p', 'http://www.wikidata.org/prop/direct/P1447'), ('name', 'Sports-Reference.com Olympic athlete ID')]\n",
      "[('p', 'http://www.wikidata.org/prop/direct/P1532'), ('name', 'country for sport')]\n",
      "[('p', 'http://www.wikidata.org/prop/direct/P1559'), ('name', 'name in native language')]\n",
      "[('p', 'http://www.wikidata.org/prop/direct/P172'), ('name', 'ethnic group')]\n",
      "[('p', 'http://www.wikidata.org/prop/direct/P1741'), ('name', 'GTAA ID')]\n",
      "[('p', 'http://www.wikidata.org/prop/direct/P18'), ('name', 'image')]\n",
      "[('p', 'http://www.wikidata.org/prop/direct/P19'), ('name', 'place of birth')]\n",
      "[('p', 'http://www.wikidata.org/prop/direct/P2002'), ('name', 'Twitter username')]\n",
      "[('p', 'http://www.wikidata.org/prop/direct/P2003'), ('name', 'Instagram username')]\n",
      "[('p', 'http://www.wikidata.org/prop/direct/P2013'), ('name', 'Facebook ID')]\n",
      "[('p', 'http://www.wikidata.org/prop/direct/P2048'), ('name', 'height')]\n",
      "[('p', 'http://www.wikidata.org/prop/direct/P2067'), ('name', 'mass')]\n",
      "[('p', 'http://www.wikidata.org/prop/direct/P21'), ('name', 'sex or gender')]\n",
      "[('p', 'http://www.wikidata.org/prop/direct/P214'), ('name', 'VIAF ID')]\n",
      "[('p', 'http://www.wikidata.org/prop/direct/P227'), ('name', 'GND ID')]\n",
      "20\n"
     ]
    }
   ],
   "source": [
    "# query example\n",
    "queryString = \"\"\"\n",
    "SELECT DISTINCT ?p ?name\n",
    "WHERE {\n",
    "   # bind something\n",
    "   wd:Q9124 ?p ?obj .\n",
    "   # get the label\n",
    "   ?p sc:name ?name.\n",
    "}\n",
    "LIMIT 20\n",
    "\"\"\"\n",
    "\n",
    "print(\"Results\")\n",
    "x=run_query(queryString)"
   ]
  },
  {
   "cell_type": "markdown",
   "id": "34ca3d95",
   "metadata": {},
   "source": [
    "Final query for this task"
   ]
  },
  {
   "cell_type": "code",
   "execution_count": 7,
   "id": "dc443358",
   "metadata": {},
   "outputs": [
    {
     "name": "stdout",
     "output_type": "stream",
     "text": [
      "Results\n",
      "[('o', 'http://www.wikidata.org/entity/Q13382460'), ('name', 'marathon runner')]\n",
      "[('o', 'http://www.wikidata.org/entity/Q11513337'), ('name', 'athletics competitor')]\n",
      "[('o', 'http://www.wikidata.org/entity/Q4439155'), ('name', 'long-distance runner')]\n",
      "3\n"
     ]
    }
   ],
   "source": [
    "# write your queries\n",
    "# using occupation to find runner\n",
    "queryString = \"\"\"\n",
    "SELECT DISTINCT ?o ?name\n",
    "WHERE {\n",
    "   # bind something\n",
    "   wd:Q9124 wdt:P106 ?o .\n",
    "   # get the label\n",
    "   ?o sc:name ?name.\n",
    "}\n",
    "LIMIT 20\n",
    "\"\"\"\n",
    "\n",
    "print(\"Results\")\n",
    "x=run_query(queryString)"
   ]
  },
  {
   "cell_type": "code",
   "execution_count": 14,
   "id": "b52d06a6-5ea4-4e22-9ac5-e78eb54aade2",
   "metadata": {},
   "outputs": [
    {
     "name": "stdout",
     "output_type": "stream",
     "text": [
      "Results\n",
      "[('o', 'http://www.wikidata.org/entity/Q12803959'), ('name', 'runner')]\n",
      "1\n"
     ]
    }
   ],
   "source": [
    "# write your final query\n",
    "queryString = \"\"\"\n",
    "SELECT DISTINCT ?o ?name\n",
    "WHERE {\n",
    "   # bind something\n",
    "   wd:Q4439155 wdt:P279 ?o.\n",
    "   # get the label\n",
    "   ?o sc:name ?name.\n",
    "   FILTER regex(?name , 'runner')\n",
    "}\n",
    "LIMIT 20\n",
    "\"\"\"\n",
    "\n",
    "print(\"Results\")\n",
    "x=run_query(queryString)\n"
   ]
  },
  {
   "cell_type": "markdown",
   "id": "d865d941",
   "metadata": {},
   "source": [
    "## Task 2\n",
    "Identify the BGP for long distance running"
   ]
  },
  {
   "cell_type": "code",
   "execution_count": 19,
   "id": "6efbb925",
   "metadata": {},
   "outputs": [
    {
     "name": "stdout",
     "output_type": "stream",
     "text": [
      "Results\n",
      "[('p', 'http://www.wikidata.org/prop/direct/P1000'), ('name', 'record held')]\n",
      "[('p', 'http://www.wikidata.org/prop/direct/P106'), ('name', 'occupation')]\n",
      "[('p', 'http://www.wikidata.org/prop/direct/P1146'), ('name', 'World Athletics athlete ID')]\n",
      "[('p', 'http://www.wikidata.org/prop/direct/P1344'), ('name', 'participant in')]\n",
      "[('p', 'http://www.wikidata.org/prop/direct/P1412'), ('name', 'languages spoken, written or signed')]\n",
      "[('p', 'http://www.wikidata.org/prop/direct/P1447'), ('name', 'Sports-Reference.com Olympic athlete ID')]\n",
      "[('p', 'http://www.wikidata.org/prop/direct/P1532'), ('name', 'country for sport')]\n",
      "[('p', 'http://www.wikidata.org/prop/direct/P1559'), ('name', 'name in native language')]\n",
      "[('p', 'http://www.wikidata.org/prop/direct/P172'), ('name', 'ethnic group')]\n",
      "[('p', 'http://www.wikidata.org/prop/direct/P1741'), ('name', 'GTAA ID')]\n",
      "[('p', 'http://www.wikidata.org/prop/direct/P18'), ('name', 'image')]\n",
      "[('p', 'http://www.wikidata.org/prop/direct/P19'), ('name', 'place of birth')]\n",
      "[('p', 'http://www.wikidata.org/prop/direct/P2002'), ('name', 'Twitter username')]\n",
      "[('p', 'http://www.wikidata.org/prop/direct/P2003'), ('name', 'Instagram username')]\n",
      "[('p', 'http://www.wikidata.org/prop/direct/P2013'), ('name', 'Facebook ID')]\n",
      "[('p', 'http://www.wikidata.org/prop/direct/P2048'), ('name', 'height')]\n",
      "[('p', 'http://www.wikidata.org/prop/direct/P2067'), ('name', 'mass')]\n",
      "[('p', 'http://www.wikidata.org/prop/direct/P21'), ('name', 'sex or gender')]\n",
      "[('p', 'http://www.wikidata.org/prop/direct/P214'), ('name', 'VIAF ID')]\n",
      "[('p', 'http://www.wikidata.org/prop/direct/P227'), ('name', 'GND ID')]\n",
      "20\n"
     ]
    }
   ],
   "source": [
    "# write your queries\n",
    "queryString = \"\"\"\n",
    "SELECT DISTINCT ?p ?name\n",
    "WHERE {\n",
    "   # bind something\n",
    "   wd:Q9124 ?p ?obj .\n",
    "   # get the label\n",
    "   ?p sc:name ?name.\n",
    "}\n",
    "LIMIT 20\n",
    "\"\"\"\n",
    "\n",
    "print(\"Results\")\n",
    "x=run_query(queryString)"
   ]
  },
  {
   "cell_type": "markdown",
   "id": "cda1d623",
   "metadata": {},
   "source": [
    "Final query for this task"
   ]
  },
  {
   "cell_type": "code",
   "execution_count": 18,
   "id": "ab0f2ee2",
   "metadata": {},
   "outputs": [
    {
     "name": "stdout",
     "output_type": "stream",
     "text": [
      "Results\n",
      "[('o', 'http://www.wikidata.org/entity/Q4439155'), ('name', 'long-distance runner')]\n",
      "1\n"
     ]
    }
   ],
   "source": [
    "# write your final query\n",
    "queryString = \"\"\"\n",
    "SELECT DISTINCT ?o ?name\n",
    "WHERE {\n",
    "   # bind something\n",
    "   wd:Q9124 wdt:P106 ?o .\n",
    "   # get the label\n",
    "   ?o sc:name ?name.\n",
    "   FILTER regex(?name , 'long-distance runner')\n",
    "}\n",
    "LIMIT 20\n",
    "\"\"\"\n",
    "\n",
    "print(\"Results\")\n",
    "x=run_query(queryString)"
   ]
  },
  {
   "cell_type": "markdown",
   "id": "60347748",
   "metadata": {},
   "source": [
    "## Task 3\n",
    "Return the disciplines of the long distance running (e.g. marathon) (the result set must be a list of couples discipline IRI and label)."
   ]
  },
  {
   "cell_type": "code",
   "execution_count": 24,
   "id": "053c1e66",
   "metadata": {},
   "outputs": [
    {
     "name": "stdout",
     "output_type": "stream",
     "text": [
      "Results\n",
      "[('o', 'http://www.wikidata.org/entity/Q8928097'), ('name', 'Category:Long-distance runners')]\n",
      "[('o', 'http://www.wikidata.org/entity/Q13382608'), ('name', 'cross-country skier')]\n",
      "[('o', 'http://www.wikidata.org/entity/Q28640'), ('name', 'profession')]\n",
      "[('o', 'http://www.wikidata.org/entity/Q917206'), ('name', 'long-distance running')]\n",
      "[('o', 'http://www.wikidata.org/entity/Q12803959'), ('name', 'runner')]\n",
      "5\n"
     ]
    }
   ],
   "source": [
    "# write your queries\n",
    "#find the related object\n",
    "queryString = \"\"\"\n",
    "SELECT DISTINCT ?o ?name\n",
    "WHERE {\n",
    "   # bind something\n",
    "   wd:Q4439155 ?p ?o.\n",
    "   # get the label\n",
    "   ?o sc:name ?name.\n",
    "}\n",
    "LIMIT 20\n",
    "\"\"\"\n",
    "\n",
    "print(\"Results\")\n",
    "x=run_query(queryString)"
   ]
  },
  {
   "cell_type": "markdown",
   "id": "18ff0a96",
   "metadata": {},
   "source": [
    "Final query for this task"
   ]
  },
  {
   "cell_type": "code",
   "execution_count": 44,
   "id": "57a46abf",
   "metadata": {},
   "outputs": [
    {
     "name": "stdout",
     "output_type": "stream",
     "text": [
      "Results\n",
      "[('o', 'http://www.wikidata.org/entity/Q215677'), ('name', 'half marathon')]\n",
      "[('o', 'http://www.wikidata.org/entity/Q163892'), ('name', '10,000 metres')]\n",
      "[('o', 'http://www.wikidata.org/entity/Q240500'), ('name', '5000 metres')]\n",
      "[('o', 'http://www.wikidata.org/entity/Q40244'), ('name', 'marathon')]\n",
      "[('o', 'http://www.wikidata.org/entity/Q1202167'), ('name', 'ekiden')]\n",
      "[('o', 'http://www.wikidata.org/entity/Q2093999'), ('name', 'trail running')]\n",
      "[('o', 'http://www.wikidata.org/entity/Q2774730'), ('name', '10K run')]\n",
      "[('o', 'http://www.wikidata.org/entity/Q500050'), ('name', 'cross country running')]\n",
      "[('o', 'http://www.wikidata.org/entity/Q9171043'), ('name', '5K run')]\n",
      "9\n"
     ]
    }
   ],
   "source": [
    "# write your final query\n",
    "queryString = \"\"\"\n",
    "SELECT DISTINCT ?o  ?name \n",
    "WHERE {\n",
    "   # bind something\n",
    "   wd:Q917206 wdt:P527 ?o.\n",
    "   # get the label\n",
    "   ?o sc:name ?name.\n",
    "   \n",
    "}\n",
    "LIMIT 20\n",
    "\"\"\"\n",
    "\n",
    "print(\"Results\")\n",
    "x=run_query(queryString)"
   ]
  },
  {
   "cell_type": "markdown",
   "id": "553232e6",
   "metadata": {},
   "source": [
    "## Task 4\n",
    "Consider marathons ran in Europe. Return the number of different runners who won a marathon group by their country of citizenship (the result set must be a triples of country IRI, label and #different runners)."
   ]
  },
  {
   "cell_type": "markdown",
   "id": "d4c84f8d",
   "metadata": {},
   "source": [
    "Final query for this task"
   ]
  },
  {
   "cell_type": "code",
   "execution_count": 76,
   "id": "2eb8f67a",
   "metadata": {},
   "outputs": [
    {
     "name": "stdout",
     "output_type": "stream",
     "text": [
      "Results\n",
      "[('s', 'http://www.wikidata.org/entity/Q55780710'), ('name', \"2018 European Championships in Athletics – men's marathon\")]\n",
      "[('s', 'http://www.wikidata.org/entity/Q17496398'), ('name', \"2014 European Athletics Championships – Women's Marathon\")]\n",
      "[('s', 'http://www.wikidata.org/entity/Q4494720'), ('name', \"1966 European Athletics Championships – men's marathon\")]\n",
      "[('s', 'http://www.wikidata.org/entity/Q4606142'), ('name', \"2006 European Athletics Championships – Women's Marathon\")]\n",
      "[('s', 'http://www.wikidata.org/entity/Q3229843'), ('name', \"1958 European Athletics Championships – men's marathon\")]\n",
      "[('s', 'http://www.wikidata.org/entity/Q3429452'), ('name', \"1982 European Athletics Championships – Women's Marathon\")]\n",
      "[('s', 'http://www.wikidata.org/entity/Q2537624'), ('name', '1998 European Athletics Championships – Marathon')]\n",
      "[('s', 'http://www.wikidata.org/entity/Q3652508'), ('name', \"1998 European Athletics Championships – Men's Marathon\")]\n",
      "[('s', 'http://www.wikidata.org/entity/Q4481862'), ('name', \"1978 European Athletics Championships – men's marathon\")]\n",
      "[('s', 'http://www.wikidata.org/entity/Q15503324'), ('name', '1981 European Marathon Cup')]\n",
      "[('s', 'http://www.wikidata.org/entity/Q15505260'), ('name', '1983 European Marathon Cup')]\n",
      "[('s', 'http://www.wikidata.org/entity/Q4582288'), ('name', '1985 European Marathon Cup')]\n",
      "[('s', 'http://www.wikidata.org/entity/Q18433381'), ('name', '2002 European Athletics Championships – Marathon')]\n",
      "[('s', 'http://www.wikidata.org/entity/Q4585982'), ('name', \"1990 European Athletics Championships – Women's Marathon\")]\n",
      "[('s', 'http://www.wikidata.org/entity/Q4589377'), ('name', \"1994 European Athletics Championships – Women's Marathon\")]\n",
      "[('s', 'http://www.wikidata.org/entity/Q4457905'), ('name', \"1938 European Athletics Championships – men's marathon\")]\n",
      "[('s', 'http://www.wikidata.org/entity/Q2138627'), ('name', '2010 European Athletics Championships – Marathon')]\n",
      "[('s', 'http://www.wikidata.org/entity/Q4489931'), ('name', \"1934 European Athletics Championships – men's marathon\")]\n",
      "[('s', 'http://www.wikidata.org/entity/Q2073515'), ('name', '1982 European Athletics Championships – Marathon')]\n",
      "[('s', 'http://www.wikidata.org/entity/Q4035251'), ('name', \"1982 European Athletics Championships – Men's Marathon\")]\n",
      "[('s', 'http://www.wikidata.org/entity/Q4641953'), ('name', \"1971 European Athletics Championships – men's marathon\")]\n",
      "[('s', 'http://www.wikidata.org/entity/Q2378198'), ('name', '2006 European Athletics Championships – Marathon')]\n",
      "[('s', 'http://www.wikidata.org/entity/Q3652509'), ('name', \"2002 European Athletics Championships – Women's Marathon\")]\n",
      "[('s', 'http://www.wikidata.org/entity/Q3652510'), ('name', \"2006 European Athletics Championships – Men's Marathon\")]\n",
      "[('s', 'http://www.wikidata.org/entity/Q18433379'), ('name', '1986 European Athletics Championships – Marathon')]\n",
      "[('s', 'http://www.wikidata.org/entity/Q4439336'), ('name', \"1986 European Athletics Championships – Men's Marathon\")]\n",
      "[('s', 'http://www.wikidata.org/entity/Q17573153'), ('name', \"2014 European Athletics Championships – Men's Marathon\")]\n",
      "[('s', 'http://www.wikidata.org/entity/Q5038823'), ('name', \"1954 European Athletics Championships – men's marathon\")]\n",
      "[('s', 'http://www.wikidata.org/entity/Q3976256'), ('name', \"1969 European Athletics Championships – men's marathon\")]\n",
      "[('s', 'http://www.wikidata.org/entity/Q4327940'), ('name', \"1962 European Athletics Championships – men's marathon\")]\n",
      "[('s', 'http://www.wikidata.org/entity/Q2247120'), ('name', '1990 European Athletics Championships – Marathon')]\n",
      "[('s', 'http://www.wikidata.org/entity/Q4600007'), ('name', '2002 European Marathon Cup')]\n",
      "[('s', 'http://www.wikidata.org/entity/Q4606155'), ('name', '2006 European Marathon Cup')]\n",
      "[('s', 'http://www.wikidata.org/entity/Q4617142'), ('name', '2010 European Marathon Cup')]\n",
      "[('s', 'http://www.wikidata.org/entity/Q11242503'), ('name', \"1986 European Athletics Championships – Women's Marathon\")]\n",
      "[('s', 'http://www.wikidata.org/entity/Q4593556'), ('name', \"1998 European Athletics Championships – Women's Marathon\")]\n",
      "[('s', 'http://www.wikidata.org/entity/Q3908095'), ('name', \"2002 European Athletics Championships – Men's Marathon\")]\n",
      "[('s', 'http://www.wikidata.org/entity/Q3917247'), ('name', \"1950 European Athletics Championships – men's marathon\")]\n",
      "[('s', 'http://www.wikidata.org/entity/Q2321767'), ('name', '1994 European Athletics Championships – Marathon')]\n",
      "[('s', 'http://www.wikidata.org/entity/Q4589389'), ('name', '1994 European Marathon Cup')]\n",
      "[('s', 'http://www.wikidata.org/entity/Q4593570'), ('name', '1998 European Marathon Cup')]\n",
      "[('s', 'http://www.wikidata.org/entity/Q4556517'), ('name', \"1990 European Athletics Championships – Men's Marathon\")]\n",
      "[('s', 'http://www.wikidata.org/entity/Q4584437'), ('name', '1988 European Marathon Cup')]\n",
      "[('s', 'http://www.wikidata.org/entity/Q4318578'), ('name', \"1946 European Athletics Championships – men's marathon\")]\n",
      "[('s', 'http://www.wikidata.org/entity/Q3424567'), ('name', \"2010 European Athletics Championships – Men's Marathon\")]\n",
      "[('s', 'http://www.wikidata.org/entity/Q4359156'), ('name', \"1974 European Athletics Championships – men's marathon\")]\n",
      "[('s', 'http://www.wikidata.org/entity/Q3503762'), ('name', \"2010 European Athletics Championships – Women's Marathon\")]\n",
      "[('s', 'http://www.wikidata.org/entity/Q3898235'), ('name', \"1994 European Athletics Championships – Men's Marathon\")]\n",
      "48\n"
     ]
    }
   ],
   "source": [
    "# write your queries\n",
    "#find the related subject \n",
    "queryString = \"\"\"\n",
    "SELECT DISTINCT ?s ?name \n",
    "WHERE {\n",
    "   # bind something\n",
    "   ?s ?p wd:Q40244.\n",
    "   # get the label\n",
    "   ?s sc:name ?name.\n",
    "   FILTER regex(?name , 'Europe')\n",
    "}\n",
    "LIMIT 50\n",
    "\"\"\"\n",
    "\n",
    "print(\"Results\")\n",
    "x=run_query(queryString)"
   ]
  },
  {
   "cell_type": "code",
   "execution_count": 77,
   "id": "53ead425-4209-45be-ac19-45098bd3c4f4",
   "metadata": {},
   "outputs": [
    {
     "name": "stdout",
     "output_type": "stream",
     "text": [
      "Results\n",
      "[('p', 'http://www.wikidata.org/prop/direct/P1346'), ('name', 'winner')]\n",
      "[('p', 'http://www.wikidata.org/prop/direct/P155'), ('name', 'follows')]\n",
      "[('p', 'http://www.wikidata.org/prop/direct/P17'), ('name', 'country')]\n",
      "[('p', 'http://www.wikidata.org/prop/direct/P2094'), ('name', 'competition class')]\n",
      "[('p', 'http://www.wikidata.org/prop/direct/P2671'), ('name', 'Google Knowledge Graph ID')]\n",
      "[('p', 'http://www.wikidata.org/prop/direct/P276'), ('name', 'location')]\n",
      "[('p', 'http://www.wikidata.org/prop/direct/P31'), ('name', 'instance of')]\n",
      "[('p', 'http://www.wikidata.org/prop/direct/P361'), ('name', 'part of')]\n",
      "[('p', 'http://www.wikidata.org/prop/direct/P585'), ('name', 'point in time')]\n",
      "[('p', 'http://www.wikidata.org/prop/direct/P641'), ('name', 'sport')]\n",
      "10\n"
     ]
    }
   ],
   "source": [
    "# write your queries \n",
    "\n",
    "queryString = \"\"\"\n",
    "SELECT DISTINCT ?p ?name\n",
    "WHERE {\n",
    "   # bind something\n",
    "   wd:Q55780710 ?p ?obj .\n",
    "   # get the label\n",
    "   ?p sc:name ?name.\n",
    "}\n",
    "LIMIT 20\n",
    "\"\"\"\n",
    "\n",
    "print(\"Results\")\n",
    "x=run_query(queryString)"
   ]
  },
  {
   "cell_type": "code",
   "execution_count": 84,
   "id": "c74cb058-7b2d-48ae-8b89-f5af48a364cf",
   "metadata": {},
   "outputs": [
    {
     "name": "stdout",
     "output_type": "stream",
     "text": [
      "Results\n",
      "[('s', 'http://www.wikidata.org/entity/Q1701191'), ('name', 'John Nada Saya')]\n",
      "[('s', 'http://www.wikidata.org/entity/Q16006623'), ('name', 'Harry Payne')]\n",
      "[('s', 'http://www.wikidata.org/entity/Q16007889'), ('name', 'John Tarrant')]\n",
      "[('s', 'http://www.wikidata.org/entity/Q16008400'), ('name', 'Waldemar Karlsson')]\n",
      "[('s', 'http://www.wikidata.org/entity/Q1602744'), ('name', 'Hellen Mugo')]\n",
      "[('s', 'http://www.wikidata.org/entity/Q16185418'), ('name', 'Jerry Kiernan')]\n",
      "[('s', 'http://www.wikidata.org/entity/Q16210841'), ('name', 'Elva Dryer')]\n",
      "[('s', 'http://www.wikidata.org/entity/Q16212704'), ('name', 'José Alejandro Semprún')]\n",
      "[('s', 'http://www.wikidata.org/entity/Q16226788'), ('name', 'Jacob Bragg')]\n",
      "[('s', 'http://www.wikidata.org/entity/Q17010986'), ('name', 'Naomi Sakashita')]\n",
      "[('s', 'http://www.wikidata.org/entity/Q17021963'), ('name', 'Niagara Falls International Marathon')]\n",
      "[('s', 'http://www.wikidata.org/entity/Q17051087'), ('name', 'Kaohsiung International Marathon')]\n",
      "[('s', 'http://www.wikidata.org/entity/Q1666324'), ('name', 'Stephen Kosgei Kibet')]\n",
      "[('s', 'http://www.wikidata.org/entity/Q275831'), ('name', 'Christelle Daunay')]\n",
      "[('s', 'http://www.wikidata.org/entity/Q18129162'), ('name', 'Steve Way')]\n",
      "[('s', 'http://www.wikidata.org/entity/Q3575181'), ('name', 'Zemzem Ahmed')]\n",
      "[('s', 'http://www.wikidata.org/entity/Q20981824'), ('name', 'Sibusiso Nzima')]\n",
      "[('s', 'http://www.wikidata.org/entity/Q20982761'), ('name', 'Alina Prokopyeva')]\n",
      "[('s', 'http://www.wikidata.org/entity/Q20988442'), ('name', 'Ian Burrell')]\n",
      "[('s', 'http://www.wikidata.org/entity/Q21664355'), ('name', 'Pat Dengis')]\n",
      "20\n"
     ]
    }
   ],
   "source": [
    "# write your queries \n",
    "queryString = \"\"\"\n",
    "SELECT DISTINCT ?s ?name\n",
    "WHERE {\n",
    "   # bind something\n",
    "   ?s ?p wd:Q40244.\n",
    "   # get the label\n",
    "   ?s sc:name ?name.\n",
    "}\n",
    "LIMIT 20\n",
    "\"\"\"\n",
    "\n",
    "print(\"Results\")\n",
    "x=run_query(queryString)"
   ]
  },
  {
   "cell_type": "code",
   "execution_count": 253,
   "id": "755ef89c",
   "metadata": {},
   "outputs": [
    {
     "name": "stdout",
     "output_type": "stream",
     "text": [
      "Results\n",
      "The operation failed QueryBadFormed: a bad request has been sent to the endpoint, probably the sparql query is bad formed. \n",
      "\n",
      "Response:\n",
      "b'Virtuoso 37000 Error SP031: SPARQL compiler: Variable ?loc is used in the result set outside aggregate and not mentioned in GROUP BY clause\\n\\nSPARQL query:\\ndefine sql:big-data-const 0\\n#output-format:application/sparql-results+json\\n\\n##-e632f10b70-##\\nPREFIX wd: <http://www.wikidata.org/entity/> \\nPREFIX wdt: <http://www.wikidata.org/prop/direct/> \\nPREFIX sc: <http://schema.org/>\\n\\n\\nSELECT DISTINCT ?WIN_CIT ?WIN_CIT_NAME ?loc   (count(?winner) as ?win)\\nWHERE {\\n    # bind something\\n   \\n    ?winner wdt:P27 ?WIN_CIT.\\n    ?WIN_CIT sc:name ?WIN_CIT_NAME .\\n    {\\n        SELECT DISTINCT ?winner ?winner_name\\n            WHERE {\\n                #bind something\\n                ?winner wdt:P276 ?loc.\\n                ?europeanmarathon ?p wd:Q40244 .\\n                ?europeanmarathon wdt:P17 ?countrymarathon .\\n                ?countrymarathon wdt:P30 wd:Q46 .\\n                #get label\\n                ?europeanmarathon sc:name ?name .\\n                ?europeanmarathon wdt:P1346 ?winner .\\n                ?winner sc:name ?winner_name .\\n               \\n            }\\n\\n    }\\n    \\n}\\n GROUP BY ?WIN_CIT ?WIN_CIT_NAME\\nlimit 20\\n'\n"
     ]
    }
   ],
   "source": [
    "# write your queries\n",
    "queryString = \"\"\"\n",
    "SELECT DISTINCT ?WIN_CIT ?WIN_CIT_NAME ?loc   (count(?winner) as ?win)\n",
    "WHERE {\n",
    "    # bind something\n",
    "   \n",
    "    ?winner wdt:P27 ?WIN_CIT.\n",
    "    ?WIN_CIT sc:name ?WIN_CIT_NAME .\n",
    "    {\n",
    "        SELECT DISTINCT ?winner ?winner_name\n",
    "            WHERE {\n",
    "                #bind something\n",
    "                ?winner wdt:P276 ?loc.\n",
    "                ?europeanmarathon ?p wd:Q40244 .\n",
    "                ?europeanmarathon wdt:P17 ?countrymarathon .\n",
    "                ?countrymarathon wdt:P30 wd:Q46 .\n",
    "                #get label\n",
    "                ?europeanmarathon sc:name ?name .\n",
    "                ?europeanmarathon wdt:P1346 ?winner .\n",
    "                ?winner sc:name ?winner_name .\n",
    "               \n",
    "            }\n",
    "\n",
    "    }\n",
    "    \n",
    "}\n",
    " GROUP BY ?WIN_CIT ?WIN_CIT_NAME\n",
    "limit 20\n",
    "\"\"\"\n",
    "print(\"Results\")\n",
    "x=run_query(queryString)"
   ]
  },
  {
   "cell_type": "markdown",
   "id": "ec31a5e7",
   "metadata": {},
   "source": [
    "## Task 5\n",
    "Identify the BGP for Olympic Games"
   ]
  },
  {
   "cell_type": "code",
   "execution_count": 42,
   "id": "031c9b5c",
   "metadata": {},
   "outputs": [
    {
     "name": "stdout",
     "output_type": "stream",
     "text": [
      "Results\n",
      "[('p', 'http://www.wikidata.org/prop/direct/P1000'), ('name', 'record held')]\n",
      "[('p', 'http://www.wikidata.org/prop/direct/P106'), ('name', 'occupation')]\n",
      "[('p', 'http://www.wikidata.org/prop/direct/P1146'), ('name', 'World Athletics athlete ID')]\n",
      "[('p', 'http://www.wikidata.org/prop/direct/P1344'), ('name', 'participant in')]\n",
      "[('p', 'http://www.wikidata.org/prop/direct/P1412'), ('name', 'languages spoken, written or signed')]\n",
      "[('p', 'http://www.wikidata.org/prop/direct/P1447'), ('name', 'Sports-Reference.com Olympic athlete ID')]\n",
      "[('p', 'http://www.wikidata.org/prop/direct/P1532'), ('name', 'country for sport')]\n",
      "[('p', 'http://www.wikidata.org/prop/direct/P1559'), ('name', 'name in native language')]\n",
      "[('p', 'http://www.wikidata.org/prop/direct/P172'), ('name', 'ethnic group')]\n",
      "[('p', 'http://www.wikidata.org/prop/direct/P1741'), ('name', 'GTAA ID')]\n",
      "[('p', 'http://www.wikidata.org/prop/direct/P18'), ('name', 'image')]\n",
      "[('p', 'http://www.wikidata.org/prop/direct/P19'), ('name', 'place of birth')]\n",
      "[('p', 'http://www.wikidata.org/prop/direct/P2002'), ('name', 'Twitter username')]\n",
      "[('p', 'http://www.wikidata.org/prop/direct/P2003'), ('name', 'Instagram username')]\n",
      "[('p', 'http://www.wikidata.org/prop/direct/P2013'), ('name', 'Facebook ID')]\n",
      "[('p', 'http://www.wikidata.org/prop/direct/P2048'), ('name', 'height')]\n",
      "[('p', 'http://www.wikidata.org/prop/direct/P2067'), ('name', 'mass')]\n",
      "[('p', 'http://www.wikidata.org/prop/direct/P21'), ('name', 'sex or gender')]\n",
      "[('p', 'http://www.wikidata.org/prop/direct/P214'), ('name', 'VIAF ID')]\n",
      "[('p', 'http://www.wikidata.org/prop/direct/P227'), ('name', 'GND ID')]\n",
      "[('p', 'http://www.wikidata.org/prop/direct/P2416'), ('name', 'sports discipline competed in')]\n",
      "[('p', 'http://www.wikidata.org/prop/direct/P27'), ('name', 'country of citizenship')]\n",
      "[('p', 'http://www.wikidata.org/prop/direct/P286'), ('name', 'head coach')]\n",
      "[('p', 'http://www.wikidata.org/prop/direct/P31'), ('name', 'instance of')]\n",
      "[('p', 'http://www.wikidata.org/prop/direct/P3171'), ('name', 'Olympic.org athlete ID (archived version)')]\n",
      "[('p', 'http://www.wikidata.org/prop/direct/P3520'), ('name', 'databaseOlympics.com athlete ID')]\n",
      "[('p', 'http://www.wikidata.org/prop/direct/P373'), ('name', 'Commons category')]\n",
      "[('p', 'http://www.wikidata.org/prop/direct/P3765'), ('name', 'All-Athletics.com ID')]\n",
      "[('p', 'http://www.wikidata.org/prop/direct/P3884'), ('name', 'Tilastopaja male athlete ID')]\n",
      "[('p', 'http://www.wikidata.org/prop/direct/P3923'), ('name', 'Diamond League athlete ID')]\n",
      "[('p', 'http://www.wikidata.org/prop/direct/P3925'), ('name', 'Track and Field Statistics male athlete ID')]\n",
      "[('p', 'http://www.wikidata.org/prop/direct/P4548'), ('name', 'Commonwealth Games Federation athlete ID')]\n",
      "[('p', 'http://www.wikidata.org/prop/direct/P569'), ('name', 'date of birth')]\n",
      "[('p', 'http://www.wikidata.org/prop/direct/P5815'), ('name', 'Olympics.com athlete ID')]\n",
      "[('p', 'http://www.wikidata.org/prop/direct/P641'), ('name', 'sport')]\n",
      "[('p', 'http://www.wikidata.org/prop/direct/P646'), ('name', 'Freebase ID')]\n",
      "[('p', 'http://www.wikidata.org/prop/direct/P7293'), ('name', 'PLWABN ID')]\n",
      "[('p', 'http://www.wikidata.org/prop/direct/P734'), ('name', 'family name')]\n",
      "[('p', 'http://www.wikidata.org/prop/direct/P735'), ('name', 'given name')]\n",
      "[('p', 'http://www.wikidata.org/prop/direct/P7859'), ('name', 'WorldCat Identities ID')]\n",
      "[('p', 'http://www.wikidata.org/prop/direct/P8286'), ('name', 'Olympedia people ID')]\n",
      "[('p', 'http://www.wikidata.org/prop/direct/P8687'), ('name', 'social media followers')]\n",
      "[('p', 'http://www.wikidata.org/prop/direct/P2415'), ('name', 'personal best')]\n",
      "43\n"
     ]
    }
   ],
   "source": [
    "# write your queries \n",
    "queryString = \"\"\"\n",
    "SELECT DISTINCT ?p ?name\n",
    "WHERE {\n",
    "   # bind something\n",
    "   wd:Q9124 ?p ?o.\n",
    "   # get the label\n",
    "   ?p sc:name ?name.\n",
    "      \n",
    "}\n",
    "LIMIT 50\n",
    "\"\"\"\n",
    "\n",
    "print(\"Results\")\n",
    "x=run_query(queryString)"
   ]
  },
  {
   "cell_type": "code",
   "execution_count": 43,
   "id": "da570555-f48a-4968-a02f-19f16823d6d0",
   "metadata": {},
   "outputs": [
    {
     "name": "stdout",
     "output_type": "stream",
     "text": [
      "Results\n",
      "[('o', 'http://www.wikidata.org/entity/Q542'), ('name', 'athletics')]\n",
      "1\n"
     ]
    }
   ],
   "source": [
    "# write your queries \n",
    "#find the related object\n",
    "queryString = \"\"\"\n",
    "SELECT DISTINCT ?o ?name\n",
    "WHERE {\n",
    "   # bind something\n",
    "   wd:Q9124 wdt:P641 ?o.\n",
    "   # get the label\n",
    "   ?o sc:name ?name.\n",
    "     \n",
    "}\n",
    "LIMIT 20\n",
    "\"\"\"\n",
    "\n",
    "print(\"Results\")\n",
    "x=run_query(queryString)"
   ]
  },
  {
   "cell_type": "markdown",
   "id": "b1f434eb",
   "metadata": {},
   "source": [
    "Final query for this task"
   ]
  },
  {
   "cell_type": "code",
   "execution_count": 47,
   "id": "5932cdc3",
   "metadata": {},
   "outputs": [
    {
     "name": "stdout",
     "output_type": "stream",
     "text": [
      "Results\n",
      "[('p', 'http://www.wikidata.org/prop/direct/P2869'), ('name', 'record or record progression')]\n",
      "[('p', 'http://www.wikidata.org/prop/direct/P1014'), ('name', 'Art & Architecture Thesaurus ID')]\n",
      "[('p', 'http://www.wikidata.org/prop/direct/P1036'), ('name', 'Dewey Decimal Classification')]\n",
      "[('p', 'http://www.wikidata.org/prop/direct/P1151'), ('name', \"topic's main Wikimedia portal\")]\n",
      "[('p', 'http://www.wikidata.org/prop/direct/P1225'), ('name', 'U.S. National Archives Identifier')]\n",
      "[('p', 'http://www.wikidata.org/prop/direct/P1245'), ('name', 'OmegaWiki Defined Meaning')]\n",
      "[('p', 'http://www.wikidata.org/prop/direct/P1282'), ('name', 'OpenStreetMap tag or key')]\n",
      "[('p', 'http://www.wikidata.org/prop/direct/P1296'), ('name', 'Gran Enciclopèdia Catalana ID')]\n",
      "[('p', 'http://www.wikidata.org/prop/direct/P1343'), ('name', 'described by source')]\n",
      "[('p', 'http://www.wikidata.org/prop/direct/P1417'), ('name', 'Encyclopædia Britannica Online ID')]\n",
      "[('p', 'http://www.wikidata.org/prop/direct/P1424'), ('name', \"topic's main template\")]\n",
      "[('p', 'http://www.wikidata.org/prop/direct/P18'), ('name', 'image')]\n",
      "[('p', 'http://www.wikidata.org/prop/direct/P1807'), ('name', 'Great Aragonese Encyclopedia ID')]\n",
      "[('p', 'http://www.wikidata.org/prop/direct/P1889'), ('name', 'different from')]\n",
      "[('p', 'http://www.wikidata.org/prop/direct/P227'), ('name', 'GND ID')]\n",
      "[('p', 'http://www.wikidata.org/prop/direct/P2283'), ('name', 'uses')]\n",
      "[('p', 'http://www.wikidata.org/prop/direct/P2347'), ('name', 'YSO ID')]\n",
      "[('p', 'http://www.wikidata.org/prop/direct/P244'), ('name', 'Library of Congress authority ID')]\n",
      "[('p', 'http://www.wikidata.org/prop/direct/P268'), ('name', 'Bibliothèque nationale de France ID')]\n",
      "[('p', 'http://www.wikidata.org/prop/direct/P279'), ('name', 'subclass of')]\n",
      "[('p', 'http://www.wikidata.org/prop/direct/P2910'), ('name', 'icon')]\n",
      "[('p', 'http://www.wikidata.org/prop/direct/P3095'), ('name', 'practiced by')]\n",
      "[('p', 'http://www.wikidata.org/prop/direct/P31'), ('name', 'instance of')]\n",
      "[('p', 'http://www.wikidata.org/prop/direct/P3219'), ('name', 'Encyclopædia Universalis ID')]\n",
      "[('p', 'http://www.wikidata.org/prop/direct/P3365'), ('name', 'Treccani ID')]\n",
      "[('p', 'http://www.wikidata.org/prop/direct/P3417'), ('name', 'Quora topic ID')]\n",
      "[('p', 'http://www.wikidata.org/prop/direct/P349'), ('name', 'National Diet Library ID')]\n",
      "[('p', 'http://www.wikidata.org/prop/direct/P3509'), ('name', 'Dagens Nyheter topic ID')]\n",
      "[('p', 'http://www.wikidata.org/prop/direct/P3553'), ('name', 'Zhihu topic ID')]\n",
      "[('p', 'http://www.wikidata.org/prop/direct/P373'), ('name', 'Commons category')]\n",
      "[('p', 'http://www.wikidata.org/prop/direct/P3911'), ('name', 'STW Thesaurus for Economics ID')]\n",
      "[('p', 'http://www.wikidata.org/prop/direct/P4212'), ('name', 'PACTOLS thesaurus ID')]\n",
      "[('p', 'http://www.wikidata.org/prop/direct/P4223'), ('name', \"Treccani's Enciclopedia Italiana ID\")]\n",
      "[('p', 'http://www.wikidata.org/prop/direct/P4527'), ('name', 'UK Parliament thesaurus ID')]\n",
      "[('p', 'http://www.wikidata.org/prop/direct/P4613'), ('name', 'Encyclopedia of Modern Ukraine ID')]\n",
      "[('p', 'http://www.wikidata.org/prop/direct/P5008'), ('name', 'on focus list of Wikimedia project')]\n",
      "[('p', 'http://www.wikidata.org/prop/direct/P5019'), ('name', 'Brockhaus Enzyklopädie online ID')]\n",
      "[('p', 'http://www.wikidata.org/prop/direct/P508'), ('name', 'BNCF Thesaurus ID')]\n",
      "[('p', 'http://www.wikidata.org/prop/direct/P5198'), ('name', 'ASC Leiden Thesaurus ID')]\n",
      "[('p', 'http://www.wikidata.org/prop/direct/P527'), ('name', 'has part')]\n",
      "40\n"
     ]
    }
   ],
   "source": [
    "# write your queries\n",
    "queryString = \"\"\"\n",
    "SELECT DISTINCT ?p ?name\n",
    "WHERE {\n",
    "   # bind something\n",
    "   wd:Q542 ?p ?o.\n",
    "   # get the label\n",
    "   ?p sc:name ?name.\n",
    "   \n",
    "}\n",
    "LIMIT 40\n",
    "\"\"\"\n",
    "\n",
    "print(\"Results\")\n",
    "x=run_query(queryString)"
   ]
  },
  {
   "cell_type": "code",
   "execution_count": 50,
   "id": "ba86009f-1ac3-4317-9aeb-b9471932a915",
   "metadata": {},
   "outputs": [
    {
     "name": "stdout",
     "output_type": "stream",
     "text": [
      "Results\n",
      "[('o', 'http://www.wikidata.org/entity/Q3312129'), ('name', 'track and field')]\n",
      "[('o', 'http://www.wikidata.org/entity/Q3216963'), ('name', 'throwing event')]\n",
      "[('o', 'http://www.wikidata.org/entity/Q11047409'), ('name', 'athletic culture')]\n",
      "[('o', 'http://www.wikidata.org/entity/Q21467672'), ('name', 'running disciplines of track and field')]\n",
      "[('o', 'http://www.wikidata.org/entity/Q10235779'), ('name', 'indoor athletics')]\n",
      "[('o', 'http://www.wikidata.org/entity/Q202391'), ('name', 'racewalking')]\n",
      "[('o', 'http://www.wikidata.org/entity/Q212434'), ('name', 'Olympic sport')]\n",
      "[('o', 'http://www.wikidata.org/entity/Q3924425'), ('name', 'combined track and field events')]\n",
      "[('o', 'http://www.wikidata.org/entity/Q52177345'), ('name', 'technical disciplines of athletics')]\n",
      "[('o', 'http://www.wikidata.org/entity/Q1151752'), ('name', 'jumping')]\n",
      "10\n"
     ]
    }
   ],
   "source": [
    "# write your queries\n",
    "queryString = \"\"\"\n",
    "SELECT DISTINCT ?o ?name\n",
    "WHERE {\n",
    "   # bind something\n",
    "   wd:Q542 wdt:P279|wdt:P527 ?o.\n",
    "   # get the label\n",
    "   ?o sc:name ?name.\n",
    "   \n",
    "}\n",
    "LIMIT 40\n",
    "\"\"\"\n",
    "\n",
    "print(\"Results\")\n",
    "x=run_query(queryString)"
   ]
  },
  {
   "cell_type": "code",
   "execution_count": 53,
   "id": "e902b5ff-84cd-4d84-918d-73074b07e59b",
   "metadata": {},
   "outputs": [
    {
     "name": "stdout",
     "output_type": "stream",
     "text": [
      "Results\n",
      "[('o', 'http://www.wikidata.org/entity/Q5389'), ('name', 'Olympic Games')]\n",
      "1\n"
     ]
    }
   ],
   "source": [
    "# write your final query\n",
    "queryString = \"\"\"\n",
    "SELECT DISTINCT ?o ?name\n",
    "WHERE {\n",
    "   # bind something\n",
    "   wd:Q212434 ?p ?o.\n",
    "   # get the label\n",
    "   ?o sc:name ?name.\n",
    "   Filter regex(?name , 'Olympic Games')\n",
    "   \n",
    "}\n",
    "LIMIT 40\n",
    "\"\"\"\n",
    "\n",
    "print(\"Results\")\n",
    "x=run_query(queryString)\n"
   ]
  },
  {
   "cell_type": "markdown",
   "id": "c2cab5e7",
   "metadata": {},
   "source": [
    "## Task 6\n",
    "Consider only the summer olympic games of 2004-2008-2012-2016. Return the number of marathon runners who had partecipated to all these editions group by their country of citizenship (if the runner partecipated in more than one edition of the game, consider him/her only once) (the result set must be a list of country IRI, label and #marathon runners)"
   ]
  },
  {
   "cell_type": "code",
   "execution_count": 88,
   "id": "2b23e7ba",
   "metadata": {},
   "outputs": [
    {
     "name": "stdout",
     "output_type": "stream",
     "text": [
      "Results\n",
      "[('o', 'http://www.wikidata.org/entity/Q1093409'), ('name', 'Citius, Altius, Fortius')]\n",
      "[('o', 'http://www.wikidata.org/entity/Q14624058'), ('name', 'Olympic flag')]\n",
      "[('o', 'http://www.wikidata.org/entity/Q159821'), ('name', 'Summer Olympic Games')]\n",
      "[('o', 'http://www.wikidata.org/entity/Q167170'), ('name', 'multi-sport event')]\n",
      "[('o', 'http://www.wikidata.org/entity/Q18608583'), ('name', 'recurring sporting event')]\n",
      "[('o', 'http://www.wikidata.org/entity/Q19180675'), ('name', 'Small Brockhaus and Efron Encyclopedic Dictionary')]\n",
      "[('o', 'http://www.wikidata.org/entity/Q19190511'), ('name', 'New Encyclopedic Dictionary')]\n",
      "[('o', 'http://www.wikidata.org/entity/Q1983209'), ('name', 'Category:Olympic Games')]\n",
      "[('o', 'http://www.wikidata.org/entity/Q212434'), ('name', 'Olympic sport')]\n",
      "[('o', 'http://www.wikidata.org/entity/Q221956'), ('name', 'olympiad')]\n",
      "[('o', 'http://www.wikidata.org/entity/Q30059240'), ('name', \"Real'nyj slovar' klassicheskih drevnostej po Ljubkeru\")]\n",
      "[('o', 'http://www.wikidata.org/entity/Q328840'), ('name', 'Visa Inc.')]\n",
      "[('o', 'http://www.wikidata.org/entity/Q40970'), ('name', 'International Olympic Committee')]\n",
      "[('o', 'http://www.wikidata.org/entity/Q44637051'), ('name', 'international competition')]\n",
      "[('o', 'http://www.wikidata.org/entity/Q5460604'), ('name', 'Wikipedia:Vital articles')]\n",
      "[('o', 'http://www.wikidata.org/entity/Q5497326'), ('name', 'WikiProject Olympics')]\n",
      "[('o', 'http://www.wikidata.org/entity/Q5615691'), ('name', 'Template:Infobox Olympic games')]\n",
      "[('o', 'http://www.wikidata.org/entity/Q602358'), ('name', 'Brockhaus and Efron Encyclopedic Dictionary')]\n",
      "[('o', 'http://www.wikidata.org/entity/Q636830'), ('name', 'Olympic medal')]\n",
      "[('o', 'http://www.wikidata.org/entity/Q6564527'), ('name', 'Template:NavigationOlympicChampionsFigureSkatingIcedance')]\n",
      "[('o', 'http://www.wikidata.org/entity/Q6817590'), ('name', 'Template:Olympic Games')]\n",
      "[('o', 'http://www.wikidata.org/entity/Q82414'), ('name', 'Winter Olympic Games')]\n",
      "[('o', 'http://www.wikidata.org/entity/Q8288491'), ('name', 'Portal:Olympics')]\n",
      "23\n"
     ]
    }
   ],
   "source": [
    "# write your queries\n",
    "queryString = \"\"\"\n",
    "SELECT DISTINCT ?o ?name\n",
    "WHERE {\n",
    "   # bind something\n",
    "   wd:Q5389 ?p ?o.\n",
    "   # get the label\n",
    "   ?o sc:name ?name.\n",
    "   \n",
    "   \n",
    "}\n",
    "LIMIT 40\n",
    "\"\"\"\n",
    "\n",
    "print(\"Results\")\n",
    "x=run_query(queryString)"
   ]
  },
  {
   "cell_type": "code",
   "execution_count": 63,
   "id": "0e540ef1-1f3b-4509-8416-a2e04b5db3ec",
   "metadata": {},
   "outputs": [
    {
     "name": "stdout",
     "output_type": "stream",
     "text": [
      "Results\n",
      "[('s', 'http://www.wikidata.org/entity/Q8695307'), ('name', 'Category:Olympic badminton players of Poland')]\n",
      "[('s', 'http://www.wikidata.org/entity/Q16212726'), ('name', 'Indian women at the Olympics')]\n",
      "[('s', 'http://www.wikidata.org/entity/Q8204577'), ('name', 'Category:2016 Summer Olympics')]\n",
      "[('s', 'http://www.wikidata.org/entity/Q2748206'), ('name', 'Beijing 2008')]\n",
      "[('s', 'http://www.wikidata.org/entity/Q3890208'), ('name', 'Olympic medal table')]\n",
      "[('s', 'http://www.wikidata.org/entity/Q938381'), ('name', 'bids for Olympic Games')]\n",
      "[('s', 'http://www.wikidata.org/entity/Q1093409'), ('name', 'Citius, Altius, Fortius')]\n",
      "[('s', 'http://www.wikidata.org/entity/Q159821'), ('name', 'Summer Olympic Games')]\n",
      "[('s', 'http://www.wikidata.org/entity/Q1983209'), ('name', 'Category:Olympic Games')]\n",
      "[('s', 'http://www.wikidata.org/entity/Q212434'), ('name', 'Olympic sport')]\n",
      "[('s', 'http://www.wikidata.org/entity/Q221956'), ('name', 'olympiad')]\n",
      "[('s', 'http://www.wikidata.org/entity/Q40970'), ('name', 'International Olympic Committee')]\n",
      "[('s', 'http://www.wikidata.org/entity/Q5497326'), ('name', 'WikiProject Olympics')]\n",
      "[('s', 'http://www.wikidata.org/entity/Q5615691'), ('name', 'Template:Infobox Olympic games')]\n",
      "[('s', 'http://www.wikidata.org/entity/Q636830'), ('name', 'Olympic medal')]\n",
      "[('s', 'http://www.wikidata.org/entity/Q6564527'), ('name', 'Template:NavigationOlympicChampionsFigureSkatingIcedance')]\n",
      "[('s', 'http://www.wikidata.org/entity/Q6817590'), ('name', 'Template:Olympic Games')]\n",
      "[('s', 'http://www.wikidata.org/entity/Q7215606'), ('name', 'Category:2004 Summer Olympics')]\n",
      "[('s', 'http://www.wikidata.org/entity/Q7215607'), ('name', 'Category:2012 Summer Olympics')]\n",
      "[('s', 'http://www.wikidata.org/entity/Q82414'), ('name', 'Winter Olympic Games')]\n",
      "[('s', 'http://www.wikidata.org/entity/Q8288491'), ('name', 'Portal:Olympics')]\n",
      "[('s', 'http://www.wikidata.org/entity/Q849784'), ('name', 'Los Angeles Memorial Coliseum')]\n",
      "[('s', 'http://www.wikidata.org/entity/Q2690549'), ('name', 'O, Sport, You – the Peace!')]\n",
      "[('s', 'http://www.wikidata.org/entity/Q987057'), ('name', 'Olympic mascot')]\n",
      "[('s', 'http://www.wikidata.org/entity/Q3010392'), ('name', 'Olympic Games ceremony')]\n",
      "[('s', 'http://www.wikidata.org/entity/Q188468'), ('name', 'Ancient Olympic Games')]\n",
      "[('s', 'http://www.wikidata.org/entity/Q9066803'), ('name', 'Category:Olympic Games in Australia')]\n",
      "[('s', 'http://www.wikidata.org/entity/Q699635'), ('name', 'Arrhichion')]\n",
      "[('s', 'http://www.wikidata.org/entity/Q3643463'), ('name', 'Olympic cauldron')]\n",
      "[('s', 'http://www.wikidata.org/entity/Q32086046'), ('name', \"Category:Cycling at the Summer Olympics – Women's keirin\")]\n",
      "[('s', 'http://www.wikidata.org/entity/Q10007150'), ('name', 'Category:Olympic Games in Finland')]\n",
      "[('s', 'http://www.wikidata.org/entity/Q8694896'), ('name', 'Category:Olympic Games in France')]\n",
      "[('s', 'http://www.wikidata.org/entity/Q9066805'), ('name', 'Category:Olympic Games in Belgium')]\n",
      "[('s', 'http://www.wikidata.org/entity/P2257'), ('name', 'event interval')]\n",
      "[('s', 'http://www.wikidata.org/entity/Q31079700'), ('name', 'Norwegian athletes in athletics during the Olympics')]\n",
      "[('s', 'http://www.wikidata.org/entity/Q8694907'), ('name', 'Category:Olympic Games in South Korea')]\n",
      "[('s', 'http://www.wikidata.org/entity/Q663341'), ('name', 'One Day in September')]\n",
      "[('s', 'http://www.wikidata.org/entity/Q50670073'), ('name', 'Participation of women in the Olympics')]\n",
      "[('s', 'http://www.wikidata.org/entity/Q57205279'), ('name', 'Category:Olympic Games in Senegal')]\n",
      "[('s', 'http://www.wikidata.org/entity/Q988994'), ('name', 'cancelled Olympic Games')]\n",
      "40\n"
     ]
    }
   ],
   "source": [
    "# write your final query\n",
    "queryString = \"\"\"\n",
    "SELECT DISTINCT ?s ?name\n",
    "WHERE {\n",
    "   # bind something\n",
    "   ?s ?p wd:Q5389.\n",
    "   # get the label\n",
    "   ?s sc:name ?name.\n",
    "      \n",
    "}\n",
    "LIMIT 40\n",
    "\"\"\"\n",
    "\n",
    "print(\"Results\")\n",
    "x=run_query(queryString)"
   ]
  },
  {
   "cell_type": "markdown",
   "id": "3f12376c",
   "metadata": {},
   "source": [
    "Final query for this task"
   ]
  },
  {
   "cell_type": "code",
   "execution_count": 85,
   "id": "0dedafc8",
   "metadata": {},
   "outputs": [
    {
     "name": "stdout",
     "output_type": "stream",
     "text": [
      "Results\n",
      "[('o', 'http://www.wikidata.org/entity/Q8098'), ('name', '1904 Summer Olympics')]\n",
      "[('o', 'http://www.wikidata.org/entity/Q8150'), ('name', '1936 Summer Olympics')]\n",
      "[('o', 'http://www.wikidata.org/entity/Q8415'), ('name', '1960 Summer Olympics')]\n",
      "[('o', 'http://www.wikidata.org/entity/Q181278'), ('name', '2020 Summer Olympics')]\n",
      "[('o', 'http://www.wikidata.org/entity/Q18608583'), ('name', 'recurring sporting event')]\n",
      "[('o', 'http://www.wikidata.org/entity/Q40970'), ('name', 'International Olympic Committee')]\n",
      "[('o', 'http://www.wikidata.org/entity/Q5389'), ('name', 'Olympic Games')]\n",
      "[('o', 'http://www.wikidata.org/entity/Q8088'), ('name', '1900 Summer Olympics')]\n",
      "[('o', 'http://www.wikidata.org/entity/Q82414'), ('name', 'Winter Olympic Games')]\n",
      "[('o', 'http://www.wikidata.org/entity/Q8438'), ('name', '1972 Summer Olympics')]\n",
      "[('o', 'http://www.wikidata.org/entity/Q8444'), ('name', '1976 Summer Olympics')]\n",
      "[('o', 'http://www.wikidata.org/entity/Q8470'), ('name', '1988 Summer Olympics')]\n",
      "[('o', 'http://www.wikidata.org/entity/Q8488'), ('name', '1992 Summer Olympics')]\n",
      "[('o', 'http://www.wikidata.org/entity/Q8531'), ('name', '1996 Summer Olympics')]\n",
      "[('o', 'http://www.wikidata.org/entity/Q8544'), ('name', '2000 Summer Olympics')]\n",
      "[('o', 'http://www.wikidata.org/entity/Q8558'), ('name', '2004 Summer Olympics')]\n",
      "[('o', 'http://www.wikidata.org/entity/Q8567'), ('name', '2008 Summer Olympics')]\n",
      "[('o', 'http://www.wikidata.org/entity/Q8577'), ('name', '2012 Summer Olympics')]\n",
      "[('o', 'http://www.wikidata.org/entity/Q8613'), ('name', '2016 Summer Olympics')]\n",
      "[('o', 'http://www.wikidata.org/entity/Q99413897'), ('name', 'Medvik')]\n",
      "[('o', 'http://www.wikidata.org/entity/Q8128'), ('name', '1920 Summer Olympics')]\n",
      "[('o', 'http://www.wikidata.org/entity/Q8132'), ('name', '1924 Summer Olympics')]\n",
      "[('o', 'http://www.wikidata.org/entity/Q8138'), ('name', '1928 Summer Olympics')]\n",
      "[('o', 'http://www.wikidata.org/entity/Q8143'), ('name', '1932 Summer Olympics')]\n",
      "[('o', 'http://www.wikidata.org/entity/Q8420'), ('name', '1964 Summer Olympics')]\n",
      "[('o', 'http://www.wikidata.org/entity/Q8429'), ('name', '1968 Summer Olympics')]\n",
      "[('o', 'http://www.wikidata.org/entity/Q8111'), ('name', '1908 Summer Olympics')]\n",
      "[('o', 'http://www.wikidata.org/entity/Q8118'), ('name', '1912 Summer Olympics')]\n",
      "[('o', 'http://www.wikidata.org/entity/Q8407'), ('name', '1952 Summer Olympics')]\n",
      "[('o', 'http://www.wikidata.org/entity/Q8411'), ('name', '1956 Summer Olympics')]\n",
      "[('o', 'http://www.wikidata.org/entity/Q8450'), ('name', '1980 Summer Olympics')]\n",
      "[('o', 'http://www.wikidata.org/entity/Q8456'), ('name', '1984 Summer Olympics')]\n",
      "[('o', 'http://www.wikidata.org/entity/Q8080'), ('name', '1896 Summer Olympics')]\n",
      "[('o', 'http://www.wikidata.org/entity/Q8403'), ('name', '1948 Summer Olympics')]\n",
      "[('o', 'http://www.wikidata.org/entity/Q8105'), ('name', '1906 Intercalated Games')]\n",
      "[('o', 'http://www.wikidata.org/entity/Q8123'), ('name', '1916 Summer Olympics')]\n",
      "[('o', 'http://www.wikidata.org/entity/Q1451505'), ('name', '2028 Summer Olympics')]\n",
      "[('o', 'http://www.wikidata.org/entity/Q31039462'), ('name', '2032 Summer Olympics')]\n",
      "[('o', 'http://www.wikidata.org/entity/Q995653'), ('name', '2024 Summer Olympics')]\n",
      "[('o', 'http://www.wikidata.org/entity/Q8368'), ('name', '1940 Summer Olympics')]\n",
      "40\n"
     ]
    }
   ],
   "source": [
    "# write your final query\n",
    "queryString = \"\"\"\n",
    "SELECT DISTINCT ?o ?name\n",
    "WHERE {\n",
    "   # bind something\n",
    "   wd:Q159821 ?p ?o.\n",
    "   # get the label\n",
    "   ?o sc:name ?name.\n",
    "      \n",
    "}\n",
    "LIMIT 40\n",
    "\"\"\"\n",
    "\n",
    "print(\"Results\")\n",
    "x=run_query(queryString)"
   ]
  },
  {
   "cell_type": "code",
   "execution_count": 91,
   "id": "eae17bb4-9546-4c47-bf18-8945e4d35121",
   "metadata": {},
   "outputs": [
    {
     "name": "stdout",
     "output_type": "stream",
     "text": [
      "Results\n",
      "[('p', 'http://www.wikidata.org/prop/direct/P6291'), ('name', 'advertises')]\n",
      "[('p', 'http://www.wikidata.org/prop/direct/P101'), ('name', 'field of work')]\n",
      "[('p', 'http://www.wikidata.org/prop/direct/P1269'), ('name', 'facet of')]\n",
      "[('p', 'http://www.wikidata.org/prop/direct/P1344'), ('name', 'participant in')]\n",
      "[('p', 'http://www.wikidata.org/prop/direct/P155'), ('name', 'follows')]\n",
      "[('p', 'http://www.wikidata.org/prop/direct/P156'), ('name', 'followed by')]\n",
      "[('p', 'http://www.wikidata.org/prop/direct/P301'), ('name', \"category's main topic\")]\n",
      "[('p', 'http://www.wikidata.org/prop/direct/P361'), ('name', 'part of')]\n",
      "[('p', 'http://www.wikidata.org/prop/direct/P466'), ('name', 'occupant')]\n",
      "[('p', 'http://www.wikidata.org/prop/direct/P527'), ('name', 'has part')]\n",
      "[('p', 'http://www.wikidata.org/prop/direct/P793'), ('name', 'significant event')]\n",
      "[('p', 'http://www.wikidata.org/prop/direct/P971'), ('name', 'category combines topics')]\n",
      "12\n"
     ]
    }
   ],
   "source": [
    "# write your final query\n",
    "queryString = \"\"\"\n",
    "SELECT DISTINCT ?p ?name\n",
    "WHERE {\n",
    "   # bind something\n",
    "    ?s ?p wd:Q8558.\n",
    "   # get the label\n",
    "   ?p sc:name ?name.\n",
    "      \n",
    "}\n",
    "LIMIT 40\n",
    "\"\"\"\n",
    "\n",
    "print(\"Results\")\n",
    "x=run_query(queryString)"
   ]
  },
  {
   "cell_type": "code",
   "execution_count": 105,
   "id": "8fa91dc2-7693-4e5d-bb46-2098af578920",
   "metadata": {},
   "outputs": [
    {
     "name": "stdout",
     "output_type": "stream",
     "text": [
      "Results\n",
      "[('s', 'http://www.wikidata.org/entity/Q8558'), ('name', '2004 Summer Olympics'), ('time', '2004-01-01T00:00:00Z')]\n",
      "[('s', 'http://www.wikidata.org/entity/Q8567'), ('name', '2008 Summer Olympics'), ('time', '2008-01-01T00:00:00Z')]\n",
      "[('s', 'http://www.wikidata.org/entity/Q8577'), ('name', '2012 Summer Olympics'), ('time', '2012-01-01T00:00:00Z')]\n",
      "[('s', 'http://www.wikidata.org/entity/Q8613'), ('name', '2016 Summer Olympics'), ('time', '2016-01-01T00:00:00Z')]\n",
      "4\n"
     ]
    }
   ],
   "source": [
    "# write your final query\n",
    "queryString = \"\"\"\n",
    "SELECT DISTINCT ?s ?name ?time\n",
    "WHERE {\n",
    "   # bind something\n",
    "   ?s  wdt:P31 wd:Q159821;\n",
    "       wdt:P585 ?time.\n",
    "   # get the label\n",
    "   ?s sc:name ?name.\n",
    "    FILTER(YEAR(?time) >= 2004 && YEAR(?time) <=2016)\n",
    "   \n",
    "}\n",
    "LIMIT 40\n",
    "\"\"\"\n",
    "\n",
    "print(\"Results\")\n",
    "x=run_query(queryString)"
   ]
  },
  {
   "cell_type": "code",
   "execution_count": 150,
   "id": "ca53cc98-fbcc-42fc-96ac-379db3d02871",
   "metadata": {},
   "outputs": [
    {
     "name": "stdout",
     "output_type": "stream",
     "text": [
      "Results\n",
      "[('o', 'http://www.wikidata.org/entity/Q339283'), ('name', 'athletics at the 2004 Summer Olympics')]\n",
      "1\n"
     ]
    }
   ],
   "source": [
    "# write your final query\n",
    "queryString = \"\"\"\n",
    "SELECT DISTINCT ?o ?name\n",
    "WHERE {\n",
    "   # bind something\n",
    "   wd:Q8558 wdt:P527 ?o.\n",
    "   # get the label\n",
    "   ?o sc:name ?name.\n",
    "   FILTER regex(?name , 'athletics')\n",
    " \n",
    "}\n",
    "LIMIT 40\n",
    "\"\"\"\n",
    "\n",
    "print(\"Results\")\n",
    "x=run_query(queryString)"
   ]
  },
  {
   "cell_type": "code",
   "execution_count": 160,
   "id": "78782d99-f7f6-4560-9819-ac0ac902a679",
   "metadata": {},
   "outputs": [
    {
     "name": "stdout",
     "output_type": "stream",
     "text": [
      "Results\n",
      "[('o', 'http://www.wikidata.org/entity/Q18193712'), ('name', 'athletics at the 2016 Summer Olympics')]\n",
      "[('o', 'http://www.wikidata.org/entity/Q185262'), ('name', 'athletics at the 2012 Summer Olympics')]\n",
      "[('o', 'http://www.wikidata.org/entity/Q339283'), ('name', 'athletics at the 2004 Summer Olympics')]\n",
      "[('o', 'http://www.wikidata.org/entity/Q189941'), ('name', 'athletics at the 2008 Summer Olympics')]\n",
      "4\n"
     ]
    }
   ],
   "source": [
    "# write your queries\n",
    "queryString = \"\"\"\n",
    "SELECT DISTINCT ?o ?name\n",
    "WHERE {\n",
    "   # bind something\n",
    "    ?s wdt:P527 ?o.\n",
    "   # get the label\n",
    "   ?o sc:name ?name.\n",
    "   FILTER (?s IN(wd:Q8558,wd:Q8567,wd:Q8577,wd:Q8613))\n",
    "   FILTER regex(?name , 'athletics')\n",
    "   \n",
    "}\n",
    "LIMIT 40\n",
    "\"\"\"\n",
    "\n",
    "print(\"Results\")\n",
    "x=run_query(queryString)"
   ]
  },
  {
   "cell_type": "code",
   "execution_count": 163,
   "id": "e8311862-fd25-4acd-9334-ecaa5cc8d6ba",
   "metadata": {},
   "outputs": [
    {
     "name": "stdout",
     "output_type": "stream",
     "text": [
      "Results\n",
      "[('o', 'http://www.wikidata.org/entity/Q21858018'), ('name', \"athletics at the 2016 Summer Olympics – men's marathon\")]\n",
      "[('o', 'http://www.wikidata.org/entity/Q2000988'), ('name', \"athletics at the 2012 Summer Olympics – women's marathon\")]\n",
      "[('o', 'http://www.wikidata.org/entity/Q21858030'), ('name', \"athletics at the 2016 Summer Olympics – women's marathon\")]\n",
      "[('o', 'http://www.wikidata.org/entity/Q2552272'), ('name', \"athletics at the 2004 Summer Olympics – women's marathon\")]\n",
      "[('o', 'http://www.wikidata.org/entity/Q693595'), ('name', \"athletics at the 2008 Summer Olympics – men's marathon\")]\n",
      "[('o', 'http://www.wikidata.org/entity/Q947691'), ('name', \"athletics at the 2008 Summer Olympics – women's marathon\")]\n",
      "[('o', 'http://www.wikidata.org/entity/Q1798983'), ('name', \"athletics at the 2012 Summer Olympics – men's marathon\")]\n",
      "[('o', 'http://www.wikidata.org/entity/Q2443986'), ('name', \"athletics at the 2004 Summer Olympics – men's marathon\")]\n",
      "8\n"
     ]
    }
   ],
   "source": [
    "# write your queries\n",
    "queryString = \"\"\"\n",
    "SELECT DISTINCT ?o ?name\n",
    "WHERE {\n",
    "   # bind something\n",
    "   ?s wdt:P527 ?o.\n",
    "   # get the label\n",
    "   ?o sc:name ?name.\n",
    "   FILTER (?s IN(wd:Q18193712,wd:Q185262,wd:Q339283,wd:Q189941))\n",
    "   FILTER regex(?name , 'marathon')\n",
    "  \n",
    "   \n",
    "}\n",
    "LIMIT 40\n",
    "\"\"\"\n",
    "\n",
    "print(\"Results\")\n",
    "x=run_query(queryString)"
   ]
  },
  {
   "cell_type": "code",
   "execution_count": 254,
   "id": "8c4d511b-e208-4c8d-80b0-13c736548caa",
   "metadata": {},
   "outputs": [
    {
     "name": "stdout",
     "output_type": "stream",
     "text": [
      "Results\n",
      "[('s', 'http://www.wikidata.org/entity/Q26221036'), ('name', 'Marhu Teferi')]\n",
      "[('s', 'http://www.wikidata.org/entity/Q4376764'), ('name', 'Abdi Nageeye')]\n",
      "[('s', 'http://www.wikidata.org/entity/Q9124'), ('name', 'Eliud Kipchoge')]\n",
      "[('s', 'http://www.wikidata.org/entity/Q6373165'), ('name', 'Karolina Jarzyńska')]\n",
      "[('s', 'http://www.wikidata.org/entity/Q7367027'), ('name', 'Rosa Chacha')]\n",
      "[('s', 'http://www.wikidata.org/entity/Q26472794'), ('name', 'Luis Orta')]\n",
      "[('s', 'http://www.wikidata.org/entity/Q526508'), ('name', 'Helalia Johannes')]\n",
      "[('s', 'http://www.wikidata.org/entity/Q19365752'), ('name', 'Tadesse Abraham')]\n",
      "[('s', 'http://www.wikidata.org/entity/Q16212038'), ('name', 'Paul Pollock')]\n",
      "[('s', 'http://www.wikidata.org/entity/Q24034036'), ('name', 'Volha Mazuronak')]\n",
      "[('s', 'http://www.wikidata.org/entity/Q1702'), ('name', 'Stephen Kiprotich')]\n",
      "[('s', 'http://www.wikidata.org/entity/Q21028954'), ('name', 'Andrea Deelstra')]\n",
      "[('s', 'http://www.wikidata.org/entity/Q63691'), ('name', 'Galen Rupp')]\n",
      "[('s', 'http://www.wikidata.org/entity/Q22276905'), ('name', 'Derlis Ramón Ayala')]\n",
      "[('s', 'http://www.wikidata.org/entity/Q2340625'), ('name', 'Koen Naert')]\n",
      "[('s', 'http://www.wikidata.org/entity/Q26483251'), ('name', 'Tseveenravdan Byambajav')]\n",
      "[('s', 'http://www.wikidata.org/entity/Q26472786'), ('name', 'Cristhian Pacheco')]\n",
      "[('s', 'http://www.wikidata.org/entity/Q2271929'), ('name', 'Bat-Ochiryn Ser-Od')]\n",
      "[('s', 'http://www.wikidata.org/entity/Q24083616'), ('name', 'Callum Hawkins')]\n",
      "[('s', 'http://www.wikidata.org/entity/Q6539472'), ('name', 'Liam Adams')]\n",
      "[('s', 'http://www.wikidata.org/entity/Q26268002'), ('name', 'Angie Orjuel')]\n",
      "[('s', 'http://www.wikidata.org/entity/Q20528590'), ('name', 'Roman Fosti')]\n",
      "[('s', 'http://www.wikidata.org/entity/Q769607'), ('name', 'Augusto Ramos Soares')]\n",
      "[('s', 'http://www.wikidata.org/entity/Q7610012'), ('name', 'Stephen Mokoka')]\n",
      "[('s', 'http://www.wikidata.org/entity/Q20988443'), ('name', 'Alphonce Simbu')]\n",
      "[('s', 'http://www.wikidata.org/entity/Q26220530'), ('name', 'Estela Navascués')]\n",
      "[('s', 'http://www.wikidata.org/entity/Q3072729'), ('name', 'Fionnuala McCormack')]\n",
      "[('s', 'http://www.wikidata.org/entity/Q1453442'), ('name', 'Oleksandr Sitkovskyy')]\n",
      "[('s', 'http://www.wikidata.org/entity/Q1617873'), ('name', 'Marcel Matanin')]\n",
      "[('s', 'http://www.wikidata.org/entity/Q441189'), ('name', 'Gladys Tejeda')]\n",
      "[('s', 'http://www.wikidata.org/entity/Q5295728'), ('name', 'Dong Guojian')]\n",
      "[('s', 'http://www.wikidata.org/entity/Q13554449'), ('name', 'Paulo Roberto Paula')]\n",
      "[('s', 'http://www.wikidata.org/entity/Q22002466'), ('name', 'Jared Ward')]\n",
      "[('s', 'http://www.wikidata.org/entity/Q26464315'), ('name', 'Ahn Seul-ki')]\n",
      "[('s', 'http://www.wikidata.org/entity/Q26268001'), ('name', 'Jovana de la Cruz')]\n",
      "[('s', 'http://www.wikidata.org/entity/Q26059275'), ('name', 'Lilia Fisikovici')]\n",
      "[('s', 'http://www.wikidata.org/entity/Q6820977'), ('name', 'Meryem Erdoğan')]\n",
      "[('s', 'http://www.wikidata.org/entity/Q7801786'), ('name', 'Tiidrek Nurme')]\n",
      "[('s', 'http://www.wikidata.org/entity/Q20988054'), ('name', 'Munkhzaya Bayartsogt')]\n",
      "[('s', 'http://www.wikidata.org/entity/Q26218408'), ('name', 'Kevin Seaward')]\n",
      "40\n"
     ]
    }
   ],
   "source": [
    "# write your queries\n",
    "queryString = \"\"\"\n",
    "SELECT DISTINCT ?s ?name \n",
    "WHERE {\n",
    "   # bind something\n",
    "   ?s wdt:P1344 ?o.\n",
    "   # get the label\n",
    "   ?s sc:name ?name.\n",
    "   FILTER (?o IN(wd:Q21858018,wd:Q2000988,wd:Q21858030,wd:Q2552272,wd:Q693595,wd:Q947691,wd:Q1798983,wd:Q2443986))\n",
    "}\n",
    "LIMIT 40\n",
    "\"\"\"\n",
    "\n",
    "print(\"Results\")\n",
    "x=run_query(queryString)"
   ]
  },
  {
   "cell_type": "code",
   "execution_count": 207,
   "id": "a1d40b85-0dc8-4193-9342-f81e7582069c",
   "metadata": {},
   "outputs": [
    {
     "name": "stdout",
     "output_type": "stream",
     "text": [
      "Results\n",
      "[('s', 'http://www.wikidata.org/entity/Q26221036'), ('country_name', 'Israel')]\n",
      "[('s', 'http://www.wikidata.org/entity/Q4376764'), ('country_name', 'Kingdom of the Netherlands')]\n",
      "[('s', 'http://www.wikidata.org/entity/Q9124'), ('country_name', 'Kenya')]\n",
      "[('s', 'http://www.wikidata.org/entity/Q26472794'), ('country_name', 'Venezuela')]\n",
      "[('s', 'http://www.wikidata.org/entity/Q19365752'), ('country_name', 'Switzerland')]\n",
      "[('s', 'http://www.wikidata.org/entity/Q16212038'), ('country_name', 'Ireland')]\n",
      "[('s', 'http://www.wikidata.org/entity/Q1702'), ('country_name', 'Uganda')]\n",
      "[('s', 'http://www.wikidata.org/entity/Q63691'), ('country_name', 'United States of America')]\n",
      "[('s', 'http://www.wikidata.org/entity/Q22276905'), ('country_name', 'Paraguay')]\n",
      "[('s', 'http://www.wikidata.org/entity/Q2340625'), ('country_name', 'Belgium')]\n",
      "[('s', 'http://www.wikidata.org/entity/Q26483251'), ('country_name', 'Mongolia')]\n",
      "[('s', 'http://www.wikidata.org/entity/Q26472786'), ('country_name', 'Peru')]\n",
      "[('s', 'http://www.wikidata.org/entity/Q2271929'), ('country_name', 'Mongolia')]\n",
      "[('s', 'http://www.wikidata.org/entity/Q24083616'), ('country_name', 'United Kingdom')]\n",
      "[('s', 'http://www.wikidata.org/entity/Q6539472'), ('country_name', 'Australia')]\n",
      "[('s', 'http://www.wikidata.org/entity/Q20528590'), ('country_name', 'Estonia')]\n",
      "[('s', 'http://www.wikidata.org/entity/Q20988443'), ('country_name', 'Tanzania')]\n",
      "[('s', 'http://www.wikidata.org/entity/Q1453442'), ('country_name', 'Ukraine')]\n",
      "[('s', 'http://www.wikidata.org/entity/Q5295728'), ('country_name', \"People's Republic of China\")]\n",
      "[('s', 'http://www.wikidata.org/entity/Q13554449'), ('country_name', 'Brazil')]\n",
      "[('s', 'http://www.wikidata.org/entity/Q22002466'), ('country_name', 'United States of America')]\n",
      "[('s', 'http://www.wikidata.org/entity/Q7801786'), ('country_name', 'Estonia')]\n",
      "[('s', 'http://www.wikidata.org/entity/Q26218408'), ('country_name', 'Ireland')]\n",
      "[('s', 'http://www.wikidata.org/entity/Q12300376'), ('country_name', 'Denmark')]\n",
      "[('s', 'http://www.wikidata.org/entity/Q2301289'), ('country_name', 'Norway')]\n",
      "[('s', 'http://www.wikidata.org/entity/Q26472803'), ('country_name', 'Panama')]\n",
      "[('s', 'http://www.wikidata.org/entity/Q26203953'), ('country_name', 'Kenya')]\n",
      "[('s', 'http://www.wikidata.org/entity/Q26203953'), ('country_name', 'Azerbaijan')]\n",
      "[('s', 'http://www.wikidata.org/entity/Q26483255'), ('country_name', 'South Korea')]\n",
      "[('s', 'http://www.wikidata.org/entity/Q6373165'), ('country_name', 'Poland')]\n",
      "[('s', 'http://www.wikidata.org/entity/Q7367027'), ('country_name', 'Ecuador')]\n",
      "[('s', 'http://www.wikidata.org/entity/Q7367027'), ('country_name', 'Colombia')]\n",
      "[('s', 'http://www.wikidata.org/entity/Q526508'), ('country_name', 'Namibia')]\n",
      "[('s', 'http://www.wikidata.org/entity/Q24034036'), ('country_name', 'Belarus')]\n",
      "[('s', 'http://www.wikidata.org/entity/Q21028954'), ('country_name', 'Kingdom of the Netherlands')]\n",
      "[('s', 'http://www.wikidata.org/entity/Q26268002'), ('country_name', 'Colombia')]\n",
      "[('s', 'http://www.wikidata.org/entity/Q26220530'), ('country_name', 'Spain')]\n",
      "[('s', 'http://www.wikidata.org/entity/Q3072729'), ('country_name', 'Ireland')]\n",
      "[('s', 'http://www.wikidata.org/entity/Q441189'), ('country_name', 'Peru')]\n",
      "[('s', 'http://www.wikidata.org/entity/Q26464315'), ('country_name', 'South Korea')]\n",
      "40\n"
     ]
    }
   ],
   "source": [
    "# write your queries\n",
    "queryString = \"\"\"\n",
    "SELECT DISTINCT ?s  ?country_name\n",
    "WHERE {\n",
    "   # bind something\n",
    "   ?s wdt:P1344 ?o.\n",
    "   ?athlete wdt:P106 ?occupation .\n",
    "   ?athlete wdt:P2416 ?sportcompeted .\n",
    "   ?athlete wdt:P641 ?sport .\n",
    "   ?s wdt:P27 ?country.\n",
    "   # get the label         \n",
    "   ?s sc:name ?name.\n",
    "   ?country sc:name ?country_name.\n",
    "   FILTER (?occupation=wd:Q13382460 || ?sport=wd:Q40244 || ?sportcompeted=wd:Q40244 ) .\n",
    "   FILTER (?o IN(wd:Q21858018,wd:Q2000988,wd:Q21858030,wd:Q2552272,wd:Q693595,wd:Q947691,wd:Q1798983,wd:Q2443986))\n",
    "   \n",
    "}\n",
    "LIMIT 40\n",
    "\"\"\"\n",
    "\n",
    "print(\"Results\")\n",
    "x=run_query(queryString)"
   ]
  },
  {
   "cell_type": "code",
   "execution_count": 210,
   "id": "9965c0a3-97ad-4f3b-8d69-7f9005ea81cb",
   "metadata": {},
   "outputs": [
    {
     "name": "stdout",
     "output_type": "stream",
     "text": [
      "Results\n",
      "[('s', 'http://www.wikidata.org/entity/Q26464315'), ('country_name', 'South Korea'), ('numberathletes', '4')]\n",
      "[('s', 'http://www.wikidata.org/entity/Q7367027'), ('country_name', 'Ecuador'), ('numberathletes', '4')]\n",
      "[('s', 'http://www.wikidata.org/entity/Q1702'), ('country_name', 'Uganda'), ('numberathletes', '6')]\n",
      "[('s', 'http://www.wikidata.org/entity/Q7610012'), ('country_name', 'South Africa'), ('numberathletes', '2')]\n",
      "[('s', 'http://www.wikidata.org/entity/Q22002466'), ('country_name', 'United States of America'), ('numberathletes', '2')]\n",
      "[('s', 'http://www.wikidata.org/entity/Q769607'), ('country_name', 'East Timor'), ('numberathletes', '2')]\n",
      "[('s', 'http://www.wikidata.org/entity/Q526508'), ('country_name', 'Namibia'), ('numberathletes', '3')]\n",
      "[('s', 'http://www.wikidata.org/entity/Q13554449'), ('country_name', 'Brazil'), ('numberathletes', '4')]\n",
      "[('s', 'http://www.wikidata.org/entity/Q2271929'), ('country_name', 'Mongolia'), ('numberathletes', '8')]\n",
      "[('s', 'http://www.wikidata.org/entity/Q24034036'), ('country_name', 'Belarus'), ('numberathletes', '2')]\n",
      "[('s', 'http://www.wikidata.org/entity/Q19365752'), ('country_name', 'Switzerland'), ('numberathletes', '1')]\n",
      "[('s', 'http://www.wikidata.org/entity/Q441189'), ('country_name', 'Peru'), ('numberathletes', '4')]\n",
      "[('s', 'http://www.wikidata.org/entity/Q20988443'), ('country_name', 'Tanzania'), ('numberathletes', '2')]\n",
      "[('s', 'http://www.wikidata.org/entity/Q9124'), ('country_name', 'Kenya'), ('numberathletes', '3')]\n",
      "[('s', 'http://www.wikidata.org/entity/Q6373165'), ('country_name', 'Poland'), ('numberathletes', '2')]\n",
      "[('s', 'http://www.wikidata.org/entity/Q1453442'), ('country_name', 'Ukraine'), ('numberathletes', '4')]\n",
      "[('s', 'http://www.wikidata.org/entity/Q20528590'), ('country_name', 'Estonia'), ('numberathletes', '1')]\n",
      "[('s', 'http://www.wikidata.org/entity/Q16212038'), ('country_name', 'Ireland'), ('numberathletes', '1')]\n",
      "[('s', 'http://www.wikidata.org/entity/Q6539472'), ('country_name', 'Australia'), ('numberathletes', '1')]\n",
      "[('s', 'http://www.wikidata.org/entity/Q7367027'), ('country_name', 'Colombia'), ('numberathletes', '4')]\n",
      "[('s', 'http://www.wikidata.org/entity/Q1617873'), ('country_name', 'Slovakia'), ('numberathletes', '1')]\n",
      "[('s', 'http://www.wikidata.org/entity/Q26203953'), ('country_name', 'Kenya'), ('numberathletes', '6')]\n",
      "[('s', 'http://www.wikidata.org/entity/Q26203953'), ('country_name', 'Azerbaijan'), ('numberathletes', '6')]\n",
      "[('s', 'http://www.wikidata.org/entity/Q2340625'), ('country_name', 'Belgium'), ('numberathletes', '2')]\n",
      "[('s', 'http://www.wikidata.org/entity/Q20988054'), ('country_name', 'Mongolia'), ('numberathletes', '1')]\n",
      "[('s', 'http://www.wikidata.org/entity/Q26472794'), ('country_name', 'Venezuela'), ('numberathletes', '1')]\n",
      "26\n"
     ]
    }
   ],
   "source": [
    "# write your queries\n",
    "queryString = \"\"\"\n",
    "SELECT DISTINCT ?s  ?country_name (COUNT(?s) as ?numberathletes)\n",
    "WHERE {\n",
    "   # bind something\n",
    "   ?s wdt:P1344 ?o.\n",
    "   ?s wdt:P106 ?occupation .\n",
    "   ?s wdt:P2416 ?sportcompeted .\n",
    "   ?s wdt:P641 ?sport .\n",
    "   ?s wdt:P27 ?country.\n",
    "   # get the label\n",
    "   ?s sc:name ?name.\n",
    "   ?country sc:name ?country_name.\n",
    "   FILTER (?occupation=wd:Q13382460 || ?sport=wd:Q40244 || ?sportcompeted=wd:Q40244 ) .\n",
    "   FILTER (?o IN(wd:Q21858018,wd:Q2000988,wd:Q21858030,wd:Q2552272,wd:Q693595,wd:Q947691,wd:Q1798983,wd:Q2443986))\n",
    "}\n",
    "LIMIT 40\n",
    "\"\"\"\n",
    "\n",
    "print(\"Results\")\n",
    "x=run_query(queryString)"
   ]
  },
  {
   "cell_type": "code",
   "execution_count": 222,
   "id": "38ffb1aa-2327-43eb-96af-b218ab713cf1",
   "metadata": {},
   "outputs": [
    {
     "name": "stdout",
     "output_type": "stream",
     "text": [
      "Results\n",
      "[('s', 'http://www.wikidata.org/entity/Q20528590'), ('country', 'http://www.wikidata.org/entity/Q191'), ('country_name', 'Estonia'), ('numberathletes', '1')]\n",
      "[('s', 'http://www.wikidata.org/entity/Q19365752'), ('country', 'http://www.wikidata.org/entity/Q39'), ('country_name', 'Switzerland'), ('numberathletes', '1')]\n",
      "[('s', 'http://www.wikidata.org/entity/Q13554449'), ('country', 'http://www.wikidata.org/entity/Q155'), ('country_name', 'Brazil'), ('numberathletes', '4')]\n",
      "[('s', 'http://www.wikidata.org/entity/Q6373165'), ('country', 'http://www.wikidata.org/entity/Q36'), ('country_name', 'Poland'), ('numberathletes', '2')]\n",
      "[('s', 'http://www.wikidata.org/entity/Q6539472'), ('country', 'http://www.wikidata.org/entity/Q408'), ('country_name', 'Australia'), ('numberathletes', '1')]\n",
      "[('s', 'http://www.wikidata.org/entity/Q441189'), ('country', 'http://www.wikidata.org/entity/Q419'), ('country_name', 'Peru'), ('numberathletes', '4')]\n",
      "[('s', 'http://www.wikidata.org/entity/Q1702'), ('country', 'http://www.wikidata.org/entity/Q1036'), ('country_name', 'Uganda'), ('numberathletes', '6')]\n",
      "[('s', 'http://www.wikidata.org/entity/Q1617873'), ('country', 'http://www.wikidata.org/entity/Q214'), ('country_name', 'Slovakia'), ('numberathletes', '1')]\n",
      "[('s', 'http://www.wikidata.org/entity/Q22002466'), ('country', 'http://www.wikidata.org/entity/Q30'), ('country_name', 'United States of America'), ('numberathletes', '2')]\n",
      "[('s', 'http://www.wikidata.org/entity/Q26464315'), ('country', 'http://www.wikidata.org/entity/Q884'), ('country_name', 'South Korea'), ('numberathletes', '4')]\n",
      "[('s', 'http://www.wikidata.org/entity/Q7367027'), ('country', 'http://www.wikidata.org/entity/Q739'), ('country_name', 'Colombia'), ('numberathletes', '4')]\n",
      "[('s', 'http://www.wikidata.org/entity/Q20988443'), ('country', 'http://www.wikidata.org/entity/Q924'), ('country_name', 'Tanzania'), ('numberathletes', '2')]\n",
      "[('s', 'http://www.wikidata.org/entity/Q16212038'), ('country', 'http://www.wikidata.org/entity/Q27'), ('country_name', 'Ireland'), ('numberathletes', '1')]\n",
      "[('s', 'http://www.wikidata.org/entity/Q7610012'), ('country', 'http://www.wikidata.org/entity/Q258'), ('country_name', 'South Africa'), ('numberathletes', '2')]\n",
      "[('s', 'http://www.wikidata.org/entity/Q769607'), ('country', 'http://www.wikidata.org/entity/Q574'), ('country_name', 'East Timor'), ('numberathletes', '2')]\n",
      "[('s', 'http://www.wikidata.org/entity/Q26203953'), ('country', 'http://www.wikidata.org/entity/Q114'), ('country_name', 'Kenya'), ('numberathletes', '6')]\n",
      "[('s', 'http://www.wikidata.org/entity/Q26472794'), ('country', 'http://www.wikidata.org/entity/Q717'), ('country_name', 'Venezuela'), ('numberathletes', '1')]\n",
      "[('s', 'http://www.wikidata.org/entity/Q526508'), ('country', 'http://www.wikidata.org/entity/Q1030'), ('country_name', 'Namibia'), ('numberathletes', '3')]\n",
      "[('s', 'http://www.wikidata.org/entity/Q2340625'), ('country', 'http://www.wikidata.org/entity/Q31'), ('country_name', 'Belgium'), ('numberathletes', '2')]\n",
      "[('s', 'http://www.wikidata.org/entity/Q1453442'), ('country', 'http://www.wikidata.org/entity/Q212'), ('country_name', 'Ukraine'), ('numberathletes', '4')]\n",
      "[('s', 'http://www.wikidata.org/entity/Q24034036'), ('country', 'http://www.wikidata.org/entity/Q184'), ('country_name', 'Belarus'), ('numberathletes', '2')]\n",
      "[('s', 'http://www.wikidata.org/entity/Q7367027'), ('country', 'http://www.wikidata.org/entity/Q736'), ('country_name', 'Ecuador'), ('numberathletes', '4')]\n",
      "[('s', 'http://www.wikidata.org/entity/Q2271929'), ('country', 'http://www.wikidata.org/entity/Q711'), ('country_name', 'Mongolia'), ('numberathletes', '8')]\n",
      "[('s', 'http://www.wikidata.org/entity/Q9124'), ('country', 'http://www.wikidata.org/entity/Q114'), ('country_name', 'Kenya'), ('numberathletes', '3')]\n",
      "[('s', 'http://www.wikidata.org/entity/Q26203953'), ('country', 'http://www.wikidata.org/entity/Q227'), ('country_name', 'Azerbaijan'), ('numberathletes', '6')]\n",
      "[('s', 'http://www.wikidata.org/entity/Q20988054'), ('country', 'http://www.wikidata.org/entity/Q711'), ('country_name', 'Mongolia'), ('numberathletes', '1')]\n",
      "26\n"
     ]
    }
   ],
   "source": [
    "# write your queries\n",
    "queryString = \"\"\"\n",
    "SELECT DISTINCT ?s ?country ?country_name (COUNT(?s) as ?numberathletes)\n",
    "WHERE {\n",
    "   # bind something\n",
    "   ?s wdt:P1344 ?o.\n",
    "   ?s wdt:P106 ?occupation .\n",
    "   ?s wdt:P2416 ?sportcompeted .\n",
    "   ?s wdt:P641 ?sport .\n",
    "   ?s wdt:P27 ?country.\n",
    "   # get the label\n",
    "   ?s sc:name ?name.\n",
    "   ?country sc:name ?country_name.\n",
    "   FILTER (?occupation=wd:Q13382460 || ?sport=wd:Q40244 || ?sportcompeted=wd:Q40244 ) .\n",
    "   FILTER (?o IN(wd:Q21858018,wd:Q2000988,wd:Q21858030,wd:Q2552272,wd:Q693595,wd:Q947691,wd:Q1798983,wd:Q2443986))\n",
    " \n",
    "} \n",
    "\n",
    "LIMIT 40\n",
    "\"\"\"\n",
    "\n",
    "print(\"Results\")\n",
    "x=run_query(queryString)"
   ]
  },
  {
   "cell_type": "markdown",
   "id": "732cde7c",
   "metadata": {},
   "source": [
    "## Task 7\n",
    "For each disciplines of the long distance running find who hold the World Record (the result set must be a list of elements with discipline IRI, label and athlete IRI and label)."
   ]
  },
  {
   "cell_type": "code",
   "execution_count": 223,
   "id": "00d4c1cd-ffc0-4c9e-89d9-c2ea5ae0acde",
   "metadata": {},
   "outputs": [
    {
     "name": "stdout",
     "output_type": "stream",
     "text": [
      "Results\n",
      "[('p', 'http://www.wikidata.org/prop/direct/P1889'), ('name', 'different from')]\n",
      "[('p', 'http://www.wikidata.org/prop/direct/P2671'), ('name', 'Google Knowledge Graph ID')]\n",
      "[('p', 'http://www.wikidata.org/prop/direct/P279'), ('name', 'subclass of')]\n",
      "[('p', 'http://www.wikidata.org/prop/direct/P31'), ('name', 'instance of')]\n",
      "[('p', 'http://www.wikidata.org/prop/direct/P373'), ('name', 'Commons category')]\n",
      "[('p', 'http://www.wikidata.org/prop/direct/P425'), ('name', 'field of this occupation')]\n",
      "[('p', 'http://www.wikidata.org/prop/direct/P910'), ('name', \"topic's main category\")]\n",
      "7\n"
     ]
    }
   ],
   "source": [
    "# write your queries\n",
    "queryString = \"\"\"\n",
    "SELECT DISTINCT ?p ?name\n",
    "WHERE {\n",
    "    # bind something\n",
    "    wd:Q4439155 ?p ?o .\n",
    "    # get the label\n",
    "    ?p sc:name ?name .\n",
    "}\n",
    "LIMIT 100\n",
    "\"\"\"\n",
    "print(\"Results\")\n",
    "x=run_query(queryString)"
   ]
  },
  {
   "cell_type": "code",
   "execution_count": 224,
   "id": "cbd69bef",
   "metadata": {},
   "outputs": [
    {
     "name": "stdout",
     "output_type": "stream",
     "text": [
      "Results\n",
      "[('o', 'http://www.wikidata.org/entity/Q917206'), ('name', 'long-distance running')]\n",
      "1\n"
     ]
    }
   ],
   "source": [
    "# write your queries\n",
    "queryString = \"\"\"\n",
    "SELECT DISTINCT ?o ?name\n",
    "WHERE {\n",
    "    # bind something\n",
    "    wd:Q4439155 wdt:P425 ?o .\n",
    "    # get the label\n",
    "    ?o sc:name ?name .\n",
    "}\n",
    "LIMIT 100\n",
    "\"\"\"\n",
    "print(\"Results\")\n",
    "x=run_query(queryString)"
   ]
  },
  {
   "cell_type": "code",
   "execution_count": 227,
   "id": "1ae06cfd-5b08-4b73-b103-83b0419c707d",
   "metadata": {},
   "outputs": [
    {
     "name": "stdout",
     "output_type": "stream",
     "text": [
      "Results\n",
      "[('s', 'http://www.wikidata.org/entity/Q4439155'), ('name', 'long-distance runner')]\n",
      "1\n"
     ]
    }
   ],
   "source": [
    "# write your queries\n",
    "queryString = \"\"\"\n",
    "SELECT DISTINCT ?s ?name\n",
    "WHERE {\n",
    "    # bind something\n",
    "    ?s wdt:P425 wd:Q917206.\n",
    "    # get the label\n",
    "    ?s sc:name ?name .\n",
    "}\n",
    "LIMIT 100\n",
    "\"\"\"\n",
    "print(\"Results\")\n",
    "x=run_query(queryString)"
   ]
  },
  {
   "cell_type": "markdown",
   "id": "fa31f06a",
   "metadata": {},
   "source": [
    "Final query for this task"
   ]
  },
  {
   "cell_type": "code",
   "execution_count": 251,
   "id": "31afe679",
   "metadata": {},
   "outputs": [
    {
     "name": "stdout",
     "output_type": "stream",
     "text": [
      "Results\n",
      "[('discipline', 'http://www.wikidata.org/entity/Q13382460'), ('discipline_label', 'Marathon world record progression'), ('athlete', 'http://www.wikidata.org/entity/Q1044585'), ('athlete_name', 'Caroline Walker')]\n",
      "[('discipline', 'http://www.wikidata.org/entity/Q13382460'), ('discipline_label', 'Marathon world record progression'), ('athlete', 'http://www.wikidata.org/entity/Q171500'), ('athlete_name', 'Gebrselassie Haile')]\n",
      "[('discipline', 'http://www.wikidata.org/entity/Q13382460'), ('discipline_label', 'Marathon world record progression'), ('athlete', 'http://www.wikidata.org/entity/Q728634'), ('athlete_name', 'Robert de Castella')]\n",
      "[('discipline', 'http://www.wikidata.org/entity/Q13382460'), ('discipline_label', 'Marathon world record progression'), ('athlete', 'http://www.wikidata.org/entity/Q9124'), ('athlete_name', 'Eliud Kipchoge')]\n",
      "[('discipline', 'http://www.wikidata.org/entity/Q13382460'), ('discipline_label', 'Marathon world record progression'), ('athlete', 'http://www.wikidata.org/entity/Q133667'), ('athlete_name', 'Sohn Kee-chung')]\n",
      "[('discipline', 'http://www.wikidata.org/entity/Q13382460'), ('discipline_label', 'Marathon world record progression'), ('athlete', 'http://www.wikidata.org/entity/Q1705'), ('athlete_name', 'Wilson Kipsang Kiprotich')]\n",
      "[('discipline', 'http://www.wikidata.org/entity/Q13382460'), ('discipline_label', 'Marathon world record progression'), ('athlete', 'http://www.wikidata.org/entity/Q518358'), ('athlete_name', 'Beth Bonner')]\n",
      "[('discipline', 'http://www.wikidata.org/entity/Q13382460'), ('discipline_label', 'Marathon world record progression'), ('athlete', 'http://www.wikidata.org/entity/Q815310'), ('athlete_name', 'Belayneh Densamo')]\n",
      "[('discipline', 'http://www.wikidata.org/entity/Q13382460'), ('discipline_label', 'Marathon world record progression'), ('athlete', 'http://www.wikidata.org/entity/Q454958'), ('athlete_name', 'Carlos Lopes')]\n",
      "[('discipline', 'http://www.wikidata.org/entity/Q13382460'), ('discipline_label', 'Marathon world record progression'), ('athlete', 'http://www.wikidata.org/entity/Q456857'), ('athlete_name', 'Johnny Hayes')]\n",
      "[('discipline', 'http://www.wikidata.org/entity/Q13382460'), ('discipline_label', 'Marathon world record progression'), ('athlete', 'http://www.wikidata.org/entity/Q4710838'), ('athlete_name', 'Albert Michelsen')]\n",
      "[('discipline', 'http://www.wikidata.org/entity/Q13382460'), ('discipline_label', 'Marathon world record progression'), ('athlete', 'http://www.wikidata.org/entity/Q311338'), ('athlete_name', 'Hannes Kolehmainen')]\n",
      "[('discipline', 'http://www.wikidata.org/entity/Q13382460'), ('discipline_label', 'Marathon world record progression'), ('athlete', 'http://www.wikidata.org/entity/Q52596'), ('athlete_name', 'Abebe Bikila')]\n",
      "[('discipline', 'http://www.wikidata.org/entity/Q13382460'), ('discipline_label', 'Marathon world record progression'), ('athlete', 'http://www.wikidata.org/entity/Q63223'), ('athlete_name', 'Dennis Kipruto Kimetto')]\n",
      "[('discipline', 'http://www.wikidata.org/entity/Q13382460'), ('discipline_label', 'Marathon world record progression'), ('athlete', 'http://www.wikidata.org/entity/Q313799'), ('athlete_name', 'Paul Tergat')]\n",
      "[('discipline', 'http://www.wikidata.org/entity/Q13382460'), ('discipline_label', 'Marathon world record progression'), ('athlete', 'http://www.wikidata.org/entity/Q547285'), ('athlete_name', 'Anni Pede-Erdkamp')]\n",
      "[('discipline', 'http://www.wikidata.org/entity/Q13382460'), ('discipline_label', 'Marathon world record progression'), ('athlete', 'http://www.wikidata.org/entity/Q950340'), ('athlete_name', 'Ronaldo da Costa')]\n",
      "[('discipline', 'http://www.wikidata.org/entity/Q13382460'), ('discipline_label', 'Marathon world record progression'), ('athlete', 'http://www.wikidata.org/entity/Q428087'), ('athlete_name', 'Yasuo Ikenaka')]\n",
      "[('discipline', 'http://www.wikidata.org/entity/Q13382460'), ('discipline_label', 'Marathon world record progression'), ('athlete', 'http://www.wikidata.org/entity/Q443382'), ('athlete_name', 'Toru Terasawa')]\n",
      "[('discipline', 'http://www.wikidata.org/entity/Q13382460'), ('discipline_label', 'Marathon world record progression'), ('athlete', 'http://www.wikidata.org/entity/Q16210614'), ('athlete_name', 'Merry Lepper')]\n",
      "20\n"
     ]
    }
   ],
   "source": [
    "# write your final query\n",
    "#from task 2 P1000 - \n",
    "queryString = \"\"\"\n",
    "SELECT DISTINCT ?discipline ?discipline_label ?athlete ?athlete_name \n",
    "WHERE {\n",
    "    # bind something\n",
    "    ?discipline wdt:P279 wd:Q4439155.\n",
    "    ?athlete wdt:P1000 ?record;\n",
    "            wdt:P106 ?discipline.\n",
    "    # get the label\n",
    "    ?athlete sc:name ?athlete_name.\n",
    "    ?record sc:name ?discipline_label.\n",
    "    FILTER REGEX(?discipline_label, 'world')\n",
    "}\n",
    "limit 20\n",
    "\"\"\"\n",
    "print(\"Results\")\n",
    "x=run_query(queryString)"
   ]
  }
 ],
 "metadata": {
  "kernelspec": {
   "display_name": "Python 3",
   "language": "python",
   "name": "python3"
  },
  "language_info": {
   "codemirror_mode": {
    "name": "ipython",
    "version": 3
   },
   "file_extension": ".py",
   "mimetype": "text/x-python",
   "name": "python",
   "nbconvert_exporter": "python",
   "pygments_lexer": "ipython3",
   "version": "3.7.10"
  }
 },
 "nbformat": 4,
 "nbformat_minor": 5
}
