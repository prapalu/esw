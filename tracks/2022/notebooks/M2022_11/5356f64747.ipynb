{
 "cells": [
  {
   "cell_type": "markdown",
   "id": "fb7a99ea",
   "metadata": {},
   "source": [
    "# General instructions\n",
    "\n",
    "The goal of the project is to materialize a set of **exploratory workloads** over a real-world, large-scale,  open-domain KG: [WikiData](https://www.wikidata.org/wiki/Wikidata:Main_Page)\n",
    "\n",
    "An exploratory workload  is composed by a set of queries, where each query is related to the information obtained previously.\n",
    "\n",
    "An exploratory workload starts with a usually vague, open ended question, and does not assume the person issuing the workload has a clear understanding of the data contained in the target database or its structure.\n",
    "\n",
    "Remeber that:\n",
    "\n",
    "1. All the queries must run in the python notebook\n",
    "2. You can use classes and properties only if you find them via a SPARQL query that must be present in the notebook\n",
    "3. You do not delete useless queries. Keep everything that is synthatically valid \n",
    "\n",
    "```\n",
    "?p <http://schema.org/name> ?name .\n",
    "```\n",
    "    \n",
    "    is the BGP returning a human-readable name of a property or a class in Wikidata."
   ]
  },
  {
   "cell_type": "code",
   "execution_count": 2,
   "id": "5156fe14",
   "metadata": {},
   "outputs": [],
   "source": [
    "## SETUP used later\n",
    "\n",
    "from SPARQLWrapper import SPARQLWrapper, JSON\n",
    "\n",
    "\n",
    "prefixString = \"\"\"\n",
    "##-5356f64747-##\n",
    "PREFIX wd: <http://www.wikidata.org/entity/> \n",
    "PREFIX wdt: <http://www.wikidata.org/prop/direct/> \n",
    "PREFIX sc: <http://schema.org/>\n",
    "\"\"\"\n",
    "\n",
    "# select and construct queries\n",
    "def run_query(queryString,verbose = True):\n",
    "    to_run = prefixString + \"\\n\" + queryString\n",
    "\n",
    "    sparql = SPARQLWrapper(\"http://a256-gc1-03.srv.aau.dk:5820/sparql\")\n",
    "    sparql.setTimeout(300)\n",
    "    sparql.setReturnFormat(JSON)\n",
    "    sparql.setQuery(to_run)\n",
    "\n",
    "    try :\n",
    "        results = sparql.query()\n",
    "        json_results = results.convert()\n",
    "        if len(json_results['results']['bindings'])==0:\n",
    "            print(\"Empty\")\n",
    "            return []\n",
    "        array = []\n",
    "        for bindings in json_results['results']['bindings']:\n",
    "            app =  [ (var, value['value'])  for var, value in bindings.items() ] \n",
    "            if verbose:\n",
    "                print( app)\n",
    "            array.append(app)\n",
    "        if verbose:\n",
    "            print(len(array))\n",
    "        return array\n",
    "\n",
    "    except Exception as e :\n",
    "        print(\"The operation failed\", e)\n",
    "    \n",
    "# ASk queries\n",
    "def run_ask_query(queryString):\n",
    "    to_run = prefixString + \"\\n\" + queryString\n",
    "\n",
    "    sparql = SPARQLWrapper(\"http://a256-gc1-03.srv.aau.dk:5820/sparql\")\n",
    "    sparql.setTimeout(300)\n",
    "    sparql.setReturnFormat(JSON)\n",
    "    sparql.setQuery(to_run)\n",
    "\n",
    "    try :\n",
    "        return sparql.query().convert()\n",
    "\n",
    "    except Exception as e :\n",
    "        print(\"The operation failed\", e)"
   ]
  },
  {
   "cell_type": "markdown",
   "id": "04124c7c",
   "metadata": {},
   "source": [
    "# History Workflow Series (\"Ancient Rome explorative search\") \n",
    "\n",
    "Consider the following exploratory information need:\n",
    "\n",
    "> The goal of this workflow is to study the Ancient Rome and some of the main events connected to that historical period. For instance, the emperors, killings, wars and so on."
   ]
  },
  {
   "cell_type": "markdown",
   "id": "c512ef18",
   "metadata": {},
   "source": [
    "## Useful URIs for the current workflow\n",
    "The following data are given:\n",
    "\n",
    "| IRI           | Description   | Role      |\n",
    "| -----------   | -----------   |-----------|\n",
    "| `wdt:P1647`   | subproperty   | predicate |\n",
    "| `wdt:P31`     | instance of   | predicate |\n",
    "| `wdt:P106`    | occupation    | predicate | \n",
    "| `wdt:P279`    | subclass      | predicate |\n",
    "| `wdt:P27`     | nationality   | predicate |\n",
    "| `wdt:P3342`     | Significant person       | predicate |\n",
    "| `wd:Q5`| Human       | node |\n",
    "| `wd:Q1048`| Julius Caesar       | node |\n"
   ]
  },
  {
   "cell_type": "markdown",
   "id": "9ae7ad2d",
   "metadata": {},
   "source": [
    "\n",
    "\n",
    "\n",
    "Also consider that\n",
    "\n",
    "```\n",
    "wd:Q1048 ?p ?obj .\n",
    "```\n",
    "\n",
    "is the BGP to retrieve all **properties of Julius Caesar**.\n",
    "\n",
    "Please consider that when you return a resource, you should return the IRI and the label of the resource. In particular, when the task require you to identify a BGP the result set must always be a list of couples IRI - label.\n",
    "\n",
    "The workload should:\n",
    "\n",
    "\n",
    "1. Identify the BGP for Ancient Rome\n",
    "\n",
    "2. Find all the Roman Dictators (return the IRI and the name of the dictator)\n",
    "\n",
    "3. Identify the BGP for Roman Empire and Roman Republic\n",
    "\n",
    "4. Return the IRI and the name of all Roman emperors killed by homicide (see \"manner of death\") and, for each killed emperor, return also the IRI and name of the killer, if present in Wikidata.\n",
    "\n",
    "5. Return the Roman emperors who killed another Roman emperor (the result set must a list of 4-tuples with killer IRI and label, and killed IRI and label).\n",
    "\n",
    "6. Find the BGP for war\n",
    "\n",
    "7. Find the wars (note that \"war\" and \"battle\" are not the same thing) participated by the Roman Empire (return IRI and name of the war).\n",
    "\n",
    "8. Consider all the wars participated by the Roman Empire. For each war return the number of related battles and the opponent (a war is composed of one or more battles) (the result set must be a list of 5-tuples war IRI, label, opponent IRI and label, and #battles).\n"
   ]
  },
  {
   "cell_type": "markdown",
   "id": "6757e439",
   "metadata": {},
   "source": [
    "## Task 1\n",
    "Identify the BGP for Ancient Rome"
   ]
  },
  {
   "cell_type": "code",
   "execution_count": 6,
   "id": "3c98408c",
   "metadata": {
    "tags": []
   },
   "outputs": [
    {
     "name": "stdout",
     "output_type": "stream",
     "text": [
      "Results\n",
      "[('obj', 'http://www.wikidata.org/entity/Q1747689'), ('name', 'Ancient Rome')]\n",
      "1\n"
     ]
    }
   ],
   "source": [
    "# write your final query\n",
    "# getting the BGP of Ancient Rome data via Julius Caesar\n",
    "\n",
    "queryString = \"\"\"\n",
    "SELECT DISTINCT ?obj ?name\n",
    "WHERE {\n",
    "   # bind something\n",
    "   wd:Q1048 wdt:P27 ?obj .\n",
    "   # get the label\n",
    "   ?obj sc:name ?name.\n",
    "}\n",
    "LIMIT 20\n",
    "\"\"\"\n",
    "\n",
    "print(\"Results\")\n",
    "x=run_query(queryString)"
   ]
  },
  {
   "cell_type": "markdown",
   "id": "24887928",
   "metadata": {},
   "source": [
    "Final query for this task"
   ]
  },
  {
   "cell_type": "code",
   "execution_count": 10,
   "id": "60f13f07",
   "metadata": {},
   "outputs": [
    {
     "name": "stdout",
     "output_type": "stream",
     "text": [
      "Results\n",
      "[('p', 'http://www.wikidata.org/prop/direct/P1014'), ('name', 'Art & Architecture Thesaurus ID')]\n",
      "[('p', 'http://www.wikidata.org/prop/direct/P1082'), ('name', 'population')]\n",
      "[('p', 'http://www.wikidata.org/prop/direct/P1151'), ('name', \"topic's main Wikimedia portal\")]\n",
      "[('p', 'http://www.wikidata.org/prop/direct/P1245'), ('name', 'OmegaWiki Defined Meaning')]\n",
      "[('p', 'http://www.wikidata.org/prop/direct/P1282'), ('name', 'OpenStreetMap tag or key')]\n",
      "[('p', 'http://www.wikidata.org/prop/direct/P1343'), ('name', 'described by source')]\n",
      "[('p', 'http://www.wikidata.org/prop/direct/P1417'), ('name', 'Encyclopædia Britannica Online ID')]\n",
      "[('p', 'http://www.wikidata.org/prop/direct/P1424'), ('name', \"topic's main template\")]\n",
      "[('p', 'http://www.wikidata.org/prop/direct/P1667'), ('name', 'Getty Thesaurus of Geographic Names ID')]\n",
      "[('p', 'http://www.wikidata.org/prop/direct/P1792'), ('name', 'category of associated people')]\n",
      "[('p', 'http://www.wikidata.org/prop/direct/P18'), ('name', 'image')]\n",
      "[('p', 'http://www.wikidata.org/prop/direct/P214'), ('name', 'VIAF ID')]\n",
      "[('p', 'http://www.wikidata.org/prop/direct/P2163'), ('name', 'FAST ID')]\n",
      "[('p', 'http://www.wikidata.org/prop/direct/P2184'), ('name', 'history of topic')]\n",
      "[('p', 'http://www.wikidata.org/prop/direct/P227'), ('name', 'GND ID')]\n",
      "[('p', 'http://www.wikidata.org/prop/direct/P2347'), ('name', 'YSO ID')]\n",
      "[('p', 'http://www.wikidata.org/prop/direct/P2348'), ('name', 'time period')]\n",
      "[('p', 'http://www.wikidata.org/prop/direct/P242'), ('name', 'locator map image')]\n",
      "[('p', 'http://www.wikidata.org/prop/direct/P244'), ('name', 'Library of Congress authority ID')]\n",
      "[('p', 'http://www.wikidata.org/prop/direct/P2579'), ('name', 'studied by')]\n",
      "20\n"
     ]
    }
   ],
   "source": [
    "# write your final query\n",
    "queryString = \"\"\"\n",
    "SELECT DISTINCT ?p ?name\n",
    "WHERE {\n",
    "   # bind something\n",
    "   wd:Q1747689 ?p ?obj .\n",
    "   # get the label\n",
    "   ?p sc:name ?name.\n",
    "}\n",
    "LIMIT 20\n",
    "\"\"\"\n",
    "\n",
    "print(\"Results\")\n",
    "x=run_query(queryString)"
   ]
  },
  {
   "cell_type": "markdown",
   "id": "fbba9b33",
   "metadata": {},
   "source": [
    "## Task 2\n",
    "Find all the Roman Dictators (return the IRI and the name of the dictator)"
   ]
  },
  {
   "cell_type": "code",
   "execution_count": 14,
   "id": "6717fcd0",
   "metadata": {},
   "outputs": [
    {
     "name": "stdout",
     "output_type": "stream",
     "text": [
      "Results\n",
      "[('p', 'http://www.wikidata.org/prop/direct/P3701'), ('name', 'incarnation of')]\n",
      "[('p', 'http://www.wikidata.org/prop/direct/P1003'), ('name', 'National Library of Romania ID')]\n",
      "[('p', 'http://www.wikidata.org/prop/direct/P1005'), ('name', 'Portuguese National Library ID')]\n",
      "[('p', 'http://www.wikidata.org/prop/direct/P1006'), ('name', 'Nationale Thesaurus voor Auteurs ID')]\n",
      "[('p', 'http://www.wikidata.org/prop/direct/P1015'), ('name', 'NORAF ID')]\n",
      "[('p', 'http://www.wikidata.org/prop/direct/P1017'), ('name', 'Vatican Library ID (former scheme)')]\n",
      "[('p', 'http://www.wikidata.org/prop/direct/P102'), ('name', 'member of political party')]\n",
      "[('p', 'http://www.wikidata.org/prop/direct/P103'), ('name', 'native language')]\n",
      "[('p', 'http://www.wikidata.org/prop/direct/P1035'), ('name', 'honorific suffix')]\n",
      "[('p', 'http://www.wikidata.org/prop/direct/P1038'), ('name', 'relative')]\n",
      "[('p', 'http://www.wikidata.org/prop/direct/P106'), ('name', 'occupation')]\n",
      "[('p', 'http://www.wikidata.org/prop/direct/P1185'), ('name', 'Rodovid ID')]\n",
      "[('p', 'http://www.wikidata.org/prop/direct/P119'), ('name', 'place of burial')]\n",
      "[('p', 'http://www.wikidata.org/prop/direct/P1196'), ('name', 'manner of death')]\n",
      "[('p', 'http://www.wikidata.org/prop/direct/P1207'), ('name', 'NUKAT ID')]\n",
      "[('p', 'http://www.wikidata.org/prop/direct/P1245'), ('name', 'OmegaWiki Defined Meaning')]\n",
      "[('p', 'http://www.wikidata.org/prop/direct/P1263'), ('name', 'NNDB people ID')]\n",
      "[('p', 'http://www.wikidata.org/prop/direct/P1273'), ('name', 'CANTIC ID')]\n",
      "[('p', 'http://www.wikidata.org/prop/direct/P1280'), ('name', 'CONOR.SI ID')]\n",
      "[('p', 'http://www.wikidata.org/prop/direct/P1296'), ('name', 'Gran Enciclopèdia Catalana ID')]\n",
      "20\n"
     ]
    }
   ],
   "source": [
    "# getting the roman dictators data via Julius Caesar\n",
    "queryString = \"\"\"\n",
    "SELECT DISTINCT ?p ?name\n",
    "WHERE {\n",
    "   # bind something\n",
    "   wd:Q1048 ?p ?obj .\n",
    "   # get the label\n",
    "   ?p sc:name ?name.\n",
    "}\n",
    "LIMIT 20\n",
    "\"\"\"\n",
    "\n",
    "print(\"Results\")\n",
    "x=run_query(queryString)"
   ]
  },
  {
   "cell_type": "markdown",
   "id": "e4144eae",
   "metadata": {},
   "source": [
    "Final query for this task"
   ]
  },
  {
   "cell_type": "code",
   "execution_count": 13,
   "id": "35d81ac5",
   "metadata": {},
   "outputs": [
    {
     "name": "stdout",
     "output_type": "stream",
     "text": [
      "Results\n",
      "[('person', 'http://www.wikidata.org/entity/Q155312'), ('name', 'Gaius Claudius Centho')]\n",
      "[('person', 'http://www.wikidata.org/entity/Q297783'), ('name', 'Appius Claudius Caecus')]\n",
      "[('person', 'http://www.wikidata.org/entity/Q703448'), ('name', 'Marcus Livius Salinator')]\n",
      "[('person', 'http://www.wikidata.org/entity/Q529867'), ('name', 'Titus Lartius')]\n",
      "[('person', 'http://www.wikidata.org/entity/Q15034789'), ('name', 'Manius Valerius Maximus')]\n",
      "[('person', 'http://www.wikidata.org/entity/Q359810'), ('name', 'Lucius Caecilius Metellus')]\n",
      "[('person', 'http://www.wikidata.org/entity/Q929498'), ('name', 'Quintus Caecilius Metellus')]\n",
      "[('person', 'http://www.wikidata.org/entity/Q519186'), ('name', 'Quintus Hortensius')]\n",
      "[('person', 'http://www.wikidata.org/entity/Q637596'), ('name', 'Quintus Servilius Priscus Structus Fidenas')]\n",
      "[('person', 'http://www.wikidata.org/entity/Q1223522'), ('name', 'Caius Poetelius Libo Visolus')]\n",
      "[('person', 'http://www.wikidata.org/entity/Q682087'), ('name', 'Gaius Poetelius Libo Visolus')]\n",
      "[('person', 'http://www.wikidata.org/entity/Q1234290'), ('name', 'Quintus Publilius Philo')]\n",
      "[('person', 'http://www.wikidata.org/entity/Q435408'), ('name', 'Gaius Duilius')]\n",
      "[('person', 'http://www.wikidata.org/entity/Q1048'), ('name', 'Julius Caesar')]\n",
      "[('person', 'http://www.wikidata.org/entity/Q483783'), ('name', 'Sulla')]\n",
      "[('person', 'http://www.wikidata.org/entity/Q718133'), ('name', 'Titus Manlius Torquatus')]\n",
      "[('person', 'http://www.wikidata.org/entity/Q709224'), ('name', 'Marcus Fabius Ambustus')]\n",
      "[('person', 'http://www.wikidata.org/entity/Q334940'), ('name', 'Aulus Cornelius Cossus')]\n",
      "[('person', 'http://www.wikidata.org/entity/Q3622696'), ('name', 'Quintus Fabius Ambustus')]\n",
      "[('person', 'http://www.wikidata.org/entity/Q9064243'), ('name', 'Publius Cornelius Scipio Barbatus')]\n",
      "20\n"
     ]
    }
   ],
   "source": [
    "# write your final query\n",
    "queryString = \"\"\"\n",
    "SELECT DISTINCT ?person ?name\n",
    "WHERE {\n",
    "   # bind something\n",
    "   ?person wdt:P39 wd:Q236885 .\n",
    "   # get the label\n",
    "   ?person sc:name ?name.\n",
    "}\n",
    "LIMIT 20\n",
    "\"\"\"\n",
    "\n",
    "print(\"Results\")\n",
    "x=run_query(queryString)"
   ]
  },
  {
   "cell_type": "markdown",
   "id": "0e7da507",
   "metadata": {},
   "source": [
    "## Task 3\n",
    "Identify the BGP for Roman Empire and Roman Republic"
   ]
  },
  {
   "cell_type": "code",
   "execution_count": 39,
   "id": "fab66f3f",
   "metadata": {},
   "outputs": [
    {
     "name": "stdout",
     "output_type": "stream",
     "text": [
      "Results\n",
      "[('name', 'Roman Empire'), ('region', 'http://www.wikidata.org/entity/Q2277')]\n",
      "[('name', 'Byzantine Empire'), ('region', 'http://www.wikidata.org/entity/Q12544')]\n",
      "[('name', 'Roman Republic'), ('region', 'http://www.wikidata.org/entity/Q17167')]\n",
      "[('name', 'Roman Kingdom'), ('region', 'http://www.wikidata.org/entity/Q201038')]\n",
      "4\n"
     ]
    }
   ],
   "source": [
    "# getting Roman Empire and Roman Republic data via Julius Ceasar- country of citizenship relation to country of citizenship-has parts relationship \n",
    "queryString = \"\"\"\n",
    "SELECT DISTINCT ?p ?name ?region\n",
    "WHERE {\n",
    "   # bind something\n",
    "   wd:Q1048 wdt:P27 ?obj .\n",
    "   ?obj wdt:P527 ?region.\n",
    "  \n",
    "   # get the label\n",
    "   ?region sc:name ?name.\n",
    "}\n",
    "LIMIT 20\n",
    "\"\"\"\n",
    "\n",
    "print(\"Results\")\n",
    "x=run_query(queryString)\n",
    "\n",
    "\n",
    "\n"
   ]
  },
  {
   "cell_type": "markdown",
   "id": "c688c6f9",
   "metadata": {},
   "source": [
    "Final query for this task"
   ]
  },
  {
   "cell_type": "code",
   "execution_count": 37,
   "id": "b35d033e",
   "metadata": {},
   "outputs": [
    {
     "name": "stdout",
     "output_type": "stream",
     "text": [
      "Results\n",
      "[('p', 'http://www.wikidata.org/prop/direct/P140'), ('name', 'religion')]\n",
      "[('p', 'http://www.wikidata.org/prop/direct/P2348'), ('name', 'time period')]\n",
      "[('p', 'http://www.wikidata.org/prop/direct/P2936'), ('name', 'language used')]\n",
      "[('p', 'http://www.wikidata.org/prop/direct/P30'), ('name', 'continent')]\n",
      "[('p', 'http://www.wikidata.org/prop/direct/P3075'), ('name', 'official religion')]\n",
      "[('p', 'http://www.wikidata.org/prop/direct/P31'), ('name', 'instance of')]\n",
      "[('p', 'http://www.wikidata.org/prop/direct/P36'), ('name', 'capital')]\n",
      "[('p', 'http://www.wikidata.org/prop/direct/P361'), ('name', 'part of')]\n",
      "[('p', 'http://www.wikidata.org/prop/direct/P38'), ('name', 'currency')]\n",
      "[('p', 'http://www.wikidata.org/prop/direct/P41'), ('name', 'flag image')]\n",
      "10\n"
     ]
    }
   ],
   "source": [
    "# write your final query\n",
    "queryString = \"\"\"\n",
    "SELECT DISTINCT ?p ?name\n",
    "WHERE {\n",
    "   # bind something\n",
    "   wd:Q2277 ?p ?obj .\n",
    "   wd:Q17167 ?p ?obj.\n",
    "   # get the label\n",
    "   ?p sc:name ?name.\n",
    "}\n",
    "LIMIT 20\n",
    "\"\"\"\n",
    "\n",
    "print(\"Results\")\n",
    "x=run_query(queryString)"
   ]
  },
  {
   "cell_type": "markdown",
   "id": "0111e80c",
   "metadata": {},
   "source": [
    "## Task 4\n",
    "Return the IRI and the name of all Roman emperors killed by homicide (see \"manner of death\") and, for each killed emperor, return also the IRI and name of the killer, if present in Wikidata."
   ]
  },
  {
   "cell_type": "code",
   "execution_count": 56,
   "id": "d14a49c6",
   "metadata": {},
   "outputs": [
    {
     "name": "stdout",
     "output_type": "stream",
     "text": [
      "Results\n",
      "[('deathcause', 'http://www.wikidata.org/entity/Q149086'), ('name', 'homicide')]\n",
      "1\n"
     ]
    }
   ],
   "source": [
    "#getting to homicide and killer data by \"manner of death\" and \"killed by\" relation of Julius Caesar.\n",
    "queryString = \"\"\"\n",
    "SELECT DISTINCT ?deathcause ?killer ?name \n",
    "WHERE {\n",
    "   # bind something\n",
    "   wd:Q1048 wdt:P1196 ?deathcause .\n",
    "   #wd:Q1048 wdt:P157 ?killer. USED TO GET KILLER DATA\n",
    "  \n",
    "   # get the label\n",
    "   ?deathcause sc:name ?name.\n",
    "   #?killer sc:name ?name. USED TO GET KILLER DATA\n",
    "}\n",
    "LIMIT 20\n",
    "\"\"\"\n",
    "\n",
    "print(\"Results\")\n",
    "x=run_query(queryString)\n",
    "\n",
    "\n",
    "\n"
   ]
  },
  {
   "cell_type": "markdown",
   "id": "d38ba6c6",
   "metadata": {},
   "source": [
    "Final query for this task"
   ]
  },
  {
   "cell_type": "code",
   "execution_count": 75,
   "id": "5a0a3d62",
   "metadata": {},
   "outputs": [
    {
     "name": "stdout",
     "output_type": "stream",
     "text": [
      "Results\n",
      "[('person', 'http://www.wikidata.org/entity/Q13645258'), ('killer', 'http://www.wikidata.org/entity/Q3530369'), ('nameKiller', 'Toghon Taishi'), ('nameEmperor', 'Esekü')]\n",
      "[('person', 'http://www.wikidata.org/entity/Q24929787'), ('killer', 'http://www.wikidata.org/entity/Q7649086'), ('nameKiller', 'Susima'), ('nameEmperor', 'Dharma')]\n",
      "[('person', 'http://www.wikidata.org/entity/Q107191433'), ('killer', 'http://www.wikidata.org/entity/Q107340634'), ('nameKiller', 'Zhang Sheng'), ('nameEmperor', 'Chen Jingji')]\n",
      "[('person', 'http://www.wikidata.org/entity/Q107199626'), ('killer', 'http://www.wikidata.org/entity/Q107199590'), ('nameKiller', 'Wu Song'), ('nameEmperor', 'Granny Wang')]\n",
      "[('person', 'http://www.wikidata.org/entity/Q107291928'), ('killer', 'http://www.wikidata.org/entity/Q107199590'), ('nameKiller', 'Wu Song'), ('nameEmperor', 'Li Waizhuan')]\n",
      "[('person', 'http://www.wikidata.org/entity/Q1496'), ('killer', 'http://www.wikidata.org/entity/Q216275'), ('nameKiller', 'Lapulapu'), ('nameEmperor', 'Ferdinand Magellan')]\n",
      "[('person', 'http://www.wikidata.org/entity/Q57461'), ('killer', 'http://www.wikidata.org/entity/Q706143'), ('nameKiller', 'David Frankfurter'), ('nameEmperor', 'Wilhelm Gustloff')]\n",
      "[('person', 'http://www.wikidata.org/entity/Q19359499'), ('killer', 'http://www.wikidata.org/entity/Q26899515'), ('nameKiller', 'Gregor Clegane'), ('nameEmperor', 'Oberyn Martell')]\n",
      "[('person', 'http://www.wikidata.org/entity/Q28468107'), ('killer', 'http://www.wikidata.org/entity/Q24933002'), ('nameKiller', 'Ellaria Sand'), ('nameEmperor', 'Doran Martell')]\n",
      "[('person', 'http://www.wikidata.org/entity/Q55433629'), ('killer', 'http://www.wikidata.org/entity/Q55441953'), ('nameKiller', 'Obara Sand'), ('nameEmperor', 'Trystane Martell')]\n",
      "[('person', 'http://www.wikidata.org/entity/Q496205'), ('killer', 'http://www.wikidata.org/entity/Q16179494'), ('nameKiller', 'Baek-ui-sa'), ('nameEmperor', 'Lyuh Woon-hyung')]\n",
      "[('person', 'http://www.wikidata.org/entity/Q2287748'), ('killer', 'http://www.wikidata.org/entity/Q29016922'), ('nameKiller', 'Wildebeest Stampede'), ('nameEmperor', 'Mufasa')]\n",
      "[('person', 'http://www.wikidata.org/entity/Q2287748'), ('killer', 'http://www.wikidata.org/entity/Q1977325'), ('nameKiller', 'Scar'), ('nameEmperor', 'Mufasa')]\n",
      "[('person', 'http://www.wikidata.org/entity/Q3568921'), ('killer', 'http://www.wikidata.org/entity/Q2119272'), ('nameKiller', 'François Courvoisier'), ('nameEmperor', 'Lord William Russell')]\n",
      "[('person', 'http://www.wikidata.org/entity/Q3399200'), ('killer', 'http://www.wikidata.org/entity/Q96084931'), ('nameKiller', 'Mark Bridger'), ('nameEmperor', 'April Jones')]\n",
      "[('person', 'http://www.wikidata.org/entity/Q97575029'), ('killer', 'http://www.wikidata.org/entity/Q97301841'), ('nameKiller', 'Lonnie Machin'), ('nameEmperor', 'Alex Davis')]\n",
      "[('person', 'http://www.wikidata.org/entity/Q89371256'), ('killer', 'http://www.wikidata.org/entity/Q97301841'), ('nameKiller', 'Lonnie Machin'), ('nameEmperor', 'Ruvé Adams')]\n",
      "[('person', 'http://www.wikidata.org/entity/Q455379'), ('killer', 'http://www.wikidata.org/entity/Q62685667'), ('nameKiller', 'Władysław Emeryk'), ('nameEmperor', 'Dagny Juel')]\n",
      "[('person', 'http://www.wikidata.org/entity/Q1640658'), ('killer', 'http://www.wikidata.org/entity/Q813858'), ('nameKiller', 'Izanagi'), ('nameEmperor', 'Kagu-tsuchi')]\n",
      "[('person', 'http://www.wikidata.org/entity/Q2299139'), ('killer', 'http://www.wikidata.org/entity/Q1049890'), ('nameKiller', 'Sandman'), ('nameEmperor', 'Uncle Ben')]\n",
      "20\n"
     ]
    }
   ],
   "source": [
    "# write your final query\n",
    "queryString = \"\"\"\n",
    "SELECT DISTINCT ?person ?killer ?nameKiller ?nameEmperor \n",
    "WHERE {\n",
    "   # bind something\n",
    "   ?person wdt:P1196 wd:Q149086 . #data of emperors killed by homice\n",
    "   ?person wdt:P157 ?killer. \n",
    "   # get the label\n",
    "   ?person sc:name ?nameEmperor.\n",
    "   ?killer sc:name ?nameKiller.\n",
    "}limit 20\n",
    "\"\"\"\n",
    "\n",
    "print(\"Results\")\n",
    "x=run_query(queryString)"
   ]
  },
  {
   "cell_type": "markdown",
   "id": "b923a70b-f5f7-4305-adc3-54a3e8b73100",
   "metadata": {},
   "source": [
    "## Task 5\n",
    "Return the Roman emperors who killed another Roman emperor (the result set must a list of 4-tuples with killer IRI and label, and killed IRI and label)."
   ]
  },
  {
   "cell_type": "code",
   "execution_count": 97,
   "id": "ce0cc162",
   "metadata": {},
   "outputs": [
    {
     "name": "stdout",
     "output_type": "stream",
     "text": [
      "Results\n",
      "[('sub', 'http://www.wikidata.org/entity/Q46780'), ('name', 'Aurelian')]\n",
      "[('sub', 'http://www.wikidata.org/entity/Q159798'), ('name', 'Honorius')]\n",
      "[('sub', 'http://www.wikidata.org/entity/Q437604'), ('name', 'Julius Saturninus')]\n",
      "[('sub', 'http://www.wikidata.org/entity/Q211396'), ('name', 'Magnus Maximus')]\n",
      "[('sub', 'http://www.wikidata.org/entity/Q550622'), ('name', 'Maximus of Hispania')]\n",
      "[('sub', 'http://www.wikidata.org/entity/Q1777'), ('name', 'Maximinus Thrax')]\n",
      "[('sub', 'http://www.wikidata.org/entity/Q518890'), ('name', 'Gaius Julius Verus Maximus')]\n",
      "[('sub', 'http://www.wikidata.org/entity/Q172471'), ('name', 'Valens')]\n",
      "[('sub', 'http://www.wikidata.org/entity/Q314828'), ('name', 'Vetranio')]\n",
      "[('sub', 'http://www.wikidata.org/entity/Q187489'), ('name', 'Silvanus')]\n",
      "[('sub', 'http://www.wikidata.org/entity/Q1427'), ('name', 'Hadrian')]\n",
      "[('sub', 'http://www.wikidata.org/entity/Q172168'), ('name', 'Galerius')]\n",
      "[('sub', 'http://www.wikidata.org/entity/Q1429'), ('name', 'Antoninus Pius')]\n",
      "[('sub', 'http://www.wikidata.org/entity/Q201905'), ('name', 'Constantius III')]\n",
      "[('sub', 'http://www.wikidata.org/entity/Q560559'), ('name', 'Constans II')]\n",
      "[('sub', 'http://www.wikidata.org/entity/Q1762'), ('name', 'Elagabalus')]\n",
      "[('sub', 'http://www.wikidata.org/entity/Q1430'), ('name', 'Marcus Aurelius')]\n",
      "[('sub', 'http://www.wikidata.org/entity/Q507623'), ('name', 'Vaballathus')]\n",
      "[('sub', 'http://www.wikidata.org/entity/Q189095'), ('name', 'Maximinus II')]\n",
      "[('sub', 'http://www.wikidata.org/entity/Q131195'), ('name', 'Constantius Chlorus')]\n",
      "20\n"
     ]
    }
   ],
   "source": [
    "queryString = \"\"\"\n",
    "SELECT DISTINCT ?sub ?name\n",
    "WHERE {\n",
    "   # bind something\n",
    "   #wd:Q1048 ?p ?obj . #getting properties of Julius Caesar\n",
    "   #wd:Q1048 wdt:P39 ?obj. #by Caesar-\"position held\" relation getting \"Roman dictator\" ?p ?obj.\" data\n",
    "   #wd:Q236885 ?p ?obj. #seeing \"Roman dictator\" data\n",
    "   #wd:Q236885 wdt:P17 ?obj. #by using \"Roman dictator\"-\"country\" relationship we get to 'Ancient Rome' data\n",
    "   #wd:Q1747689 ?p ?obj. #seeing \"Ancient Rome\" data\n",
    "   #wd:Q1747689 wdt:P527 ?obj. #by using \"Ancient Rome\"-\"has parts\" relationship we get to 'Roman Republic' data\n",
    "   #wd:Q2277 ?p ?obj. #seeing \"Roman Republic\" data and we get to \"roman emperor\" data.\n",
    "   ?sub ?p wd:Q842606. #we get all the roman emperors.\n",
    "   # get the label\n",
    "   ?sub sc:name ?name.\n",
    "}limit 20\n",
    "\"\"\"\n",
    "\n",
    "print(\"Results\")\n",
    "x=run_query(queryString)"
   ]
  },
  {
   "cell_type": "markdown",
   "id": "8081019e",
   "metadata": {},
   "source": [
    "Final query for this task"
   ]
  },
  {
   "cell_type": "code",
   "execution_count": 100,
   "id": "ace2f494",
   "metadata": {},
   "outputs": [
    {
     "name": "stdout",
     "output_type": "stream",
     "text": [
      "Results\n",
      "[('killedBy', 'http://www.wikidata.org/entity/Q8413'), ('sub', 'http://www.wikidata.org/entity/Q184549'), ('emperorName', 'Licinius'), ('killerName', 'Constantine the Great')]\n",
      "[('killedBy', 'http://www.wikidata.org/entity/Q1446'), ('sub', 'http://www.wikidata.org/entity/Q183089'), ('emperorName', 'Geta'), ('killerName', 'Caracalla')]\n",
      "2\n"
     ]
    }
   ],
   "source": [
    "# write your final query\n",
    "queryString = \"\"\"\n",
    "SELECT DISTINCT ?killedBy ?sub ?emperorName ?killerName\n",
    "WHERE {\n",
    "   ?sub ?p wd:Q842606. #we get all the roman emperors.\n",
    "   ?sub wdt:P157 ?killedBy. #we get the killers\n",
    "   ?killedBy ?p wd:Q842606. #we indicate the killer is also a roman emperor\n",
    "   # get the label\n",
    "   ?killedBy sc:name ?killerName.\n",
    "   ?sub sc:name ?emperorName.\n",
    "   \n",
    "}limit 20\n",
    "\"\"\"\n",
    "\n",
    "print(\"Results\")\n",
    "x=run_query(queryString)"
   ]
  },
  {
   "cell_type": "markdown",
   "id": "38a3d31f",
   "metadata": {},
   "source": [
    "## Task 6\n",
    "Find the BGP for war"
   ]
  },
  {
   "cell_type": "code",
   "execution_count": 105,
   "id": "ba93067e",
   "metadata": {},
   "outputs": [
    {
     "name": "stdout",
     "output_type": "stream",
     "text": [
      "Results\n",
      "[('obj', 'http://www.wikidata.org/entity/Q198'), ('name', 'war')]\n",
      "1\n"
     ]
    }
   ],
   "source": [
    "# write your queries\n",
    "queryString = \"\"\"\n",
    "SELECT DISTINCT ?obj ?name\n",
    "WHERE {\n",
    "   # bind something\n",
    "   #wd:Q1048 ?p ?obj . #getting properties of \"Julius Caesar\"\n",
    "   #wd:Q1048 wdt:P607 ?obj. #from \"Julius Caesar\"-\"conflict\" relation we get \"gallic war\"\n",
    "   #wd:Q202161 ?p ?obj. #getting data of \"gallic war\"\n",
    "   wd:Q202161 wdt:P31 ?obj. #from \"gallic war\"-\"instance of\" relation we get \"war\"\n",
    "   \n",
    "   # get the label\n",
    "   ?obj sc:name ?name.\n",
    "}\n",
    "LIMIT 20\n",
    "\"\"\"\n",
    "\n",
    "print(\"Results\")\n",
    "x=run_query(queryString)"
   ]
  },
  {
   "cell_type": "markdown",
   "id": "31752f6b",
   "metadata": {},
   "source": [
    "Final query for this task"
   ]
  },
  {
   "cell_type": "code",
   "execution_count": 106,
   "id": "70a3ad8b",
   "metadata": {},
   "outputs": [
    {
     "name": "stdout",
     "output_type": "stream",
     "text": [
      "Results\n",
      "[('p', 'http://www.wikidata.org/prop/direct/P1014'), ('name', 'Art & Architecture Thesaurus ID')]\n",
      "[('p', 'http://www.wikidata.org/prop/direct/P1036'), ('name', 'Dewey Decimal Classification')]\n",
      "[('p', 'http://www.wikidata.org/prop/direct/P1051'), ('name', 'PSH ID')]\n",
      "[('p', 'http://www.wikidata.org/prop/direct/P1151'), ('name', \"topic's main Wikimedia portal\")]\n",
      "[('p', 'http://www.wikidata.org/prop/direct/P1225'), ('name', 'U.S. National Archives Identifier')]\n",
      "[('p', 'http://www.wikidata.org/prop/direct/P1245'), ('name', 'OmegaWiki Defined Meaning')]\n",
      "[('p', 'http://www.wikidata.org/prop/direct/P1296'), ('name', 'Gran Enciclopèdia Catalana ID')]\n",
      "[('p', 'http://www.wikidata.org/prop/direct/P1343'), ('name', 'described by source')]\n",
      "[('p', 'http://www.wikidata.org/prop/direct/P1417'), ('name', 'Encyclopædia Britannica Online ID')]\n",
      "[('p', 'http://www.wikidata.org/prop/direct/P1424'), ('name', \"topic's main template\")]\n",
      "[('p', 'http://www.wikidata.org/prop/direct/P1687'), ('name', 'Wikidata property')]\n",
      "[('p', 'http://www.wikidata.org/prop/direct/P18'), ('name', 'image')]\n",
      "[('p', 'http://www.wikidata.org/prop/direct/P2163'), ('name', 'FAST ID')]\n",
      "[('p', 'http://www.wikidata.org/prop/direct/P227'), ('name', 'GND ID')]\n",
      "[('p', 'http://www.wikidata.org/prop/direct/P2347'), ('name', 'YSO ID')]\n",
      "[('p', 'http://www.wikidata.org/prop/direct/P244'), ('name', 'Library of Congress authority ID')]\n",
      "[('p', 'http://www.wikidata.org/prop/direct/P2579'), ('name', 'studied by')]\n",
      "[('p', 'http://www.wikidata.org/prop/direct/P2581'), ('name', 'BabelNet ID')]\n",
      "[('p', 'http://www.wikidata.org/prop/direct/P2612'), ('name', 'TED topic ID')]\n",
      "[('p', 'http://www.wikidata.org/prop/direct/P268'), ('name', 'Bibliothèque nationale de France ID')]\n",
      "20\n"
     ]
    }
   ],
   "source": [
    "# write your final query\n",
    "queryString = \"\"\"\n",
    "SELECT DISTINCT ?p ?name\n",
    "WHERE {\n",
    "   wd:Q198 ?p ?obj.\n",
    "   # get the label\n",
    "   ?p sc:name ?name.\n",
    "}\n",
    "LIMIT 20\n",
    "\"\"\"\n",
    "\n",
    "print(\"Results\")\n",
    "x=run_query(queryString)"
   ]
  },
  {
   "cell_type": "markdown",
   "id": "498e6747",
   "metadata": {},
   "source": [
    "## Task 7\n",
    "Find the wars (note that \"war\" and \"battle\" are not the same thing) participated by the Roman Empire (return IRI and name of the war)."
   ]
  },
  {
   "cell_type": "code",
   "execution_count": 132,
   "id": "e4a12d46",
   "metadata": {},
   "outputs": [
    {
     "name": "stdout",
     "output_type": "stream",
     "text": [
      "Results\n",
      "[('wars', 'http://www.wikidata.org/entity/Q6254'), ('name', 'Kitos War')]\n",
      "[('wars', 'http://www.wikidata.org/entity/Q500409'), ('name', 'Roman–Persian Wars')]\n",
      "[('wars', 'http://www.wikidata.org/entity/Q202578'), ('name', 'First Jewish-Roman War')]\n",
      "[('wars', 'http://www.wikidata.org/entity/Q1533828'), ('name', 'Roman–Parthian War of 58–63')]\n",
      "[('wars', 'http://www.wikidata.org/entity/Q3651751'), ('name', \"Trajan's Parthian campaign\")]\n",
      "[('wars', 'http://www.wikidata.org/entity/Q933963'), ('name', 'Marcomannic Wars')]\n",
      "[('wars', 'http://www.wikidata.org/entity/Q3651748'), ('name', 'Parthian war of Caracalla')]\n",
      "[('wars', 'http://www.wikidata.org/entity/Q1790268'), ('name', 'Roman–Parthian War of 161–166')]\n",
      "[('wars', 'http://www.wikidata.org/entity/Q84850006'), ('name', 'Roman–Parthian War of 195–198')]\n",
      "9\n"
     ]
    }
   ],
   "source": [
    "# write your queries\n",
    "queryString = \"\"\"\n",
    "SELECT DISTINCT ?wars ?name \n",
    "WHERE {\n",
    "    \n",
    "    ?wars wdt:P31 wd:Q198. #we find the all war names from \"instance\" relation through \"war\" data \n",
    "    ?wars wdt:P710 wd:Q2277. #we bind the each war in \"participant\" to \"Roman Empire\" \n",
    "    ?wars sc:name ?name.\n",
    "}limit 20\n",
    "\"\"\"\n",
    "\n",
    "print(\"Results\")\n",
    "x=run_query(queryString)\n",
    "\n",
    "\n"
   ]
  },
  {
   "cell_type": "markdown",
   "id": "5349ef45",
   "metadata": {},
   "source": [
    "Final query for this task"
   ]
  },
  {
   "cell_type": "code",
   "execution_count": 133,
   "id": "34c4824f",
   "metadata": {},
   "outputs": [
    {
     "name": "stdout",
     "output_type": "stream",
     "text": [
      "Results\n",
      "[('wars', 'http://www.wikidata.org/entity/Q6254'), ('name', 'Kitos War')]\n",
      "[('wars', 'http://www.wikidata.org/entity/Q500409'), ('name', 'Roman–Persian Wars')]\n",
      "[('wars', 'http://www.wikidata.org/entity/Q202578'), ('name', 'First Jewish-Roman War')]\n",
      "[('wars', 'http://www.wikidata.org/entity/Q1533828'), ('name', 'Roman–Parthian War of 58–63')]\n",
      "[('wars', 'http://www.wikidata.org/entity/Q3651751'), ('name', \"Trajan's Parthian campaign\")]\n",
      "[('wars', 'http://www.wikidata.org/entity/Q933963'), ('name', 'Marcomannic Wars')]\n",
      "[('wars', 'http://www.wikidata.org/entity/Q3651748'), ('name', 'Parthian war of Caracalla')]\n",
      "[('wars', 'http://www.wikidata.org/entity/Q1790268'), ('name', 'Roman–Parthian War of 161–166')]\n",
      "[('wars', 'http://www.wikidata.org/entity/Q84850006'), ('name', 'Roman–Parthian War of 195–198')]\n",
      "9\n"
     ]
    }
   ],
   "source": [
    "# write your final query\n",
    "queryString = \"\"\"\n",
    "SELECT DISTINCT ?wars ?name \n",
    "WHERE {\n",
    "    \n",
    "    ?wars wdt:P31 wd:Q198. #we find the all war names from \"instance\" relation through \"war\" data \n",
    "    ?wars wdt:P710 wd:Q2277. #we bind the each war in \"participant\" to \"Roman Empire\" \n",
    "    ?wars sc:name ?name.\n",
    "}limit 20\n",
    "\"\"\"\n",
    "\n",
    "print(\"Results\")\n",
    "x=run_query(queryString)\n",
    "\n",
    "\n"
   ]
  },
  {
   "cell_type": "markdown",
   "id": "828f4a73",
   "metadata": {},
   "source": [
    "## Task 8\n",
    "Consider all the wars participated by the Roman Empire. For each war return the number of related battles and the opponent (a war is composed of one or more battles) (the result set must be a list of 5-tuples war IRI, label, opponent IRI and label, and #battles)."
   ]
  },
  {
   "cell_type": "code",
   "execution_count": 163,
   "id": "e80242e8",
   "metadata": {},
   "outputs": [
    {
     "name": "stdout",
     "output_type": "stream",
     "text": [
      "Results\n",
      "[('participant', 'http://www.wikidata.org/entity/Q1986139'), ('wars', 'http://www.wikidata.org/entity/Q3651748'), ('opponent', 'Parthian Empire'), ('warname', 'Parthian war of Caracalla'), ('numberIfBattles', '0')]\n",
      "[('participant', 'http://www.wikidata.org/entity/Q1986139'), ('wars', 'http://www.wikidata.org/entity/Q3651751'), ('opponent', 'Parthian Empire'), ('warname', \"Trajan's Parthian campaign\"), ('numberIfBattles', '0')]\n",
      "[('participant', 'http://www.wikidata.org/entity/Q1986139'), ('wars', 'http://www.wikidata.org/entity/Q1790268'), ('opponent', 'Parthian Empire'), ('warname', 'Roman–Parthian War of 161–166'), ('numberIfBattles', '0')]\n",
      "[('participant', 'http://www.wikidata.org/entity/Q12544'), ('wars', 'http://www.wikidata.org/entity/Q500409'), ('opponent', 'Byzantine Empire'), ('warname', 'Roman–Persian Wars'), ('numberIfBattles', '2')]\n",
      "[('participant', 'http://www.wikidata.org/entity/Q17167'), ('wars', 'http://www.wikidata.org/entity/Q500409'), ('opponent', 'Roman Republic'), ('warname', 'Roman–Persian Wars'), ('numberIfBattles', '2')]\n",
      "[('participant', 'http://www.wikidata.org/entity/Q83891'), ('wars', 'http://www.wikidata.org/entity/Q500409'), ('opponent', 'Sasanian Empire'), ('warname', 'Roman–Persian Wars'), ('numberIfBattles', '2')]\n",
      "[('participant', 'http://www.wikidata.org/entity/Q1986139'), ('wars', 'http://www.wikidata.org/entity/Q84850006'), ('opponent', 'Parthian Empire'), ('warname', 'Roman–Parthian War of 195–198'), ('numberIfBattles', '0')]\n",
      "[('participant', 'http://www.wikidata.org/entity/Q56273996'), ('wars', 'http://www.wikidata.org/entity/Q202578'), ('opponent', 'Judean Free Government'), ('warname', 'First Jewish-Roman War'), ('numberIfBattles', '0')]\n",
      "[('participant', 'http://www.wikidata.org/entity/Q1986139'), ('wars', 'http://www.wikidata.org/entity/Q1533828'), ('opponent', 'Parthian Empire'), ('warname', 'Roman–Parthian War of 58–63'), ('numberIfBattles', '0')]\n",
      "[('participant', 'http://www.wikidata.org/entity/Q837791'), ('wars', 'http://www.wikidata.org/entity/Q933963'), ('opponent', 'Iazyges'), ('warname', 'Marcomannic Wars'), ('numberIfBattles', '0')]\n",
      "[('participant', 'http://www.wikidata.org/entity/Q208404'), ('wars', 'http://www.wikidata.org/entity/Q1533828'), ('opponent', 'Kingdom of Armenia'), ('warname', 'Roman–Parthian War of 58–63'), ('numberIfBattles', '0')]\n",
      "[('participant', 'http://www.wikidata.org/entity/Q308885'), ('wars', 'http://www.wikidata.org/entity/Q933963'), ('opponent', 'Quadi'), ('warname', 'Marcomannic Wars'), ('numberIfBattles', '0')]\n",
      "[('participant', 'http://www.wikidata.org/entity/Q209851'), ('wars', 'http://www.wikidata.org/entity/Q933963'), ('opponent', 'Marcomanni'), ('warname', 'Marcomannic Wars'), ('numberIfBattles', '0')]\n",
      "[('participant', 'http://www.wikidata.org/entity/Q208404'), ('wars', 'http://www.wikidata.org/entity/Q3651751'), ('opponent', 'Kingdom of Armenia'), ('warname', \"Trajan's Parthian campaign\"), ('numberIfBattles', '0')]\n",
      "[('participant', 'http://www.wikidata.org/entity/Q1986139'), ('wars', 'http://www.wikidata.org/entity/Q500409'), ('opponent', 'Parthian Empire'), ('warname', 'Roman–Persian Wars'), ('numberIfBattles', '2')]\n",
      "[('participant', 'http://www.wikidata.org/entity/Q7325'), ('wars', 'http://www.wikidata.org/entity/Q6254'), ('opponent', 'Jewish people'), ('warname', 'Kitos War'), ('numberIfBattles', '0')]\n",
      "16\n"
     ]
    }
   ],
   "source": [
    "# write your queries\n",
    "queryString = \"\"\"\n",
    "SELECT DISTINCT ?participant ?wars ?opponent ?warname (count(?warParts) as ?numberOfBattles)\n",
    "WHERE {\n",
    "    \n",
    "    ?wars wdt:P31 wd:Q198. #we find the all war names from \"instance\" relation through \"war\" data \n",
    "    ?wars wdt:P710 wd:Q2277. #we bind the each war in \"participant\" to \"Roman Empire\" \n",
    "    ?wars wdt:P710 ?participant.\n",
    "    \n",
    "    filter (?participant != wd:Q2277) #we eliminate \"Roman Empire\" because we are trying to find all the opponents which are versus \"Roman Empire\".\n",
    "\n",
    "    optional{?wars wdt:P527 ?warParts}. #from wars we get the all the related wars by \"parts of\" relation. We add optional because some wars do not have related wars. Not to eliminate those wars we use optional.\n",
    "    \n",
    "    ?participant sc:name ?opponent.\n",
    "    ?wars sc:name ?warname.\n",
    "    \n",
    "} group by ?wars ?warname ?participant ?opponent\n",
    "limit 20\n",
    "\"\"\"\n",
    "\n",
    "print(\"Results\")\n",
    "x=run_query(queryString)\n",
    "\n",
    "\n"
   ]
  },
  {
   "cell_type": "markdown",
   "id": "5a6ea1c4",
   "metadata": {},
   "source": [
    "Final query for this task"
   ]
  },
  {
   "cell_type": "code",
   "execution_count": 164,
   "id": "5829189c",
   "metadata": {},
   "outputs": [
    {
     "name": "stdout",
     "output_type": "stream",
     "text": [
      "Results\n",
      "[('participant', 'http://www.wikidata.org/entity/Q1986139'), ('wars', 'http://www.wikidata.org/entity/Q3651748'), ('opponent', 'Parthian Empire'), ('warname', 'Parthian war of Caracalla'), ('numberOfBattles', '0')]\n",
      "[('participant', 'http://www.wikidata.org/entity/Q1986139'), ('wars', 'http://www.wikidata.org/entity/Q3651751'), ('opponent', 'Parthian Empire'), ('warname', \"Trajan's Parthian campaign\"), ('numberOfBattles', '0')]\n",
      "[('participant', 'http://www.wikidata.org/entity/Q1986139'), ('wars', 'http://www.wikidata.org/entity/Q1790268'), ('opponent', 'Parthian Empire'), ('warname', 'Roman–Parthian War of 161–166'), ('numberOfBattles', '0')]\n",
      "[('participant', 'http://www.wikidata.org/entity/Q12544'), ('wars', 'http://www.wikidata.org/entity/Q500409'), ('opponent', 'Byzantine Empire'), ('warname', 'Roman–Persian Wars'), ('numberOfBattles', '2')]\n",
      "[('participant', 'http://www.wikidata.org/entity/Q17167'), ('wars', 'http://www.wikidata.org/entity/Q500409'), ('opponent', 'Roman Republic'), ('warname', 'Roman–Persian Wars'), ('numberOfBattles', '2')]\n",
      "[('participant', 'http://www.wikidata.org/entity/Q83891'), ('wars', 'http://www.wikidata.org/entity/Q500409'), ('opponent', 'Sasanian Empire'), ('warname', 'Roman–Persian Wars'), ('numberOfBattles', '2')]\n",
      "[('participant', 'http://www.wikidata.org/entity/Q1986139'), ('wars', 'http://www.wikidata.org/entity/Q84850006'), ('opponent', 'Parthian Empire'), ('warname', 'Roman–Parthian War of 195–198'), ('numberOfBattles', '0')]\n",
      "[('participant', 'http://www.wikidata.org/entity/Q56273996'), ('wars', 'http://www.wikidata.org/entity/Q202578'), ('opponent', 'Judean Free Government'), ('warname', 'First Jewish-Roman War'), ('numberOfBattles', '0')]\n",
      "[('participant', 'http://www.wikidata.org/entity/Q1986139'), ('wars', 'http://www.wikidata.org/entity/Q1533828'), ('opponent', 'Parthian Empire'), ('warname', 'Roman–Parthian War of 58–63'), ('numberOfBattles', '0')]\n",
      "[('participant', 'http://www.wikidata.org/entity/Q837791'), ('wars', 'http://www.wikidata.org/entity/Q933963'), ('opponent', 'Iazyges'), ('warname', 'Marcomannic Wars'), ('numberOfBattles', '0')]\n",
      "[('participant', 'http://www.wikidata.org/entity/Q208404'), ('wars', 'http://www.wikidata.org/entity/Q1533828'), ('opponent', 'Kingdom of Armenia'), ('warname', 'Roman–Parthian War of 58–63'), ('numberOfBattles', '0')]\n",
      "[('participant', 'http://www.wikidata.org/entity/Q308885'), ('wars', 'http://www.wikidata.org/entity/Q933963'), ('opponent', 'Quadi'), ('warname', 'Marcomannic Wars'), ('numberOfBattles', '0')]\n",
      "[('participant', 'http://www.wikidata.org/entity/Q209851'), ('wars', 'http://www.wikidata.org/entity/Q933963'), ('opponent', 'Marcomanni'), ('warname', 'Marcomannic Wars'), ('numberOfBattles', '0')]\n",
      "[('participant', 'http://www.wikidata.org/entity/Q208404'), ('wars', 'http://www.wikidata.org/entity/Q3651751'), ('opponent', 'Kingdom of Armenia'), ('warname', \"Trajan's Parthian campaign\"), ('numberOfBattles', '0')]\n",
      "[('participant', 'http://www.wikidata.org/entity/Q1986139'), ('wars', 'http://www.wikidata.org/entity/Q500409'), ('opponent', 'Parthian Empire'), ('warname', 'Roman–Persian Wars'), ('numberOfBattles', '2')]\n",
      "[('participant', 'http://www.wikidata.org/entity/Q7325'), ('wars', 'http://www.wikidata.org/entity/Q6254'), ('opponent', 'Jewish people'), ('warname', 'Kitos War'), ('numberOfBattles', '0')]\n",
      "16\n"
     ]
    }
   ],
   "source": [
    "# write your queries\n",
    "queryString = \"\"\"\n",
    "SELECT DISTINCT ?participant ?wars ?opponent ?warname (count(?warParts) as ?numberOfBattles)\n",
    "WHERE {\n",
    "    \n",
    "    ?wars wdt:P31 wd:Q198. #we find the all war names from \"instance\" relation through \"war\" data \n",
    "    ?wars wdt:P710 wd:Q2277. #we bind the each war in \"participant\" to \"Roman Empire\" \n",
    "    ?wars wdt:P710 ?participant.\n",
    "    \n",
    "    filter (?participant != wd:Q2277) #we eliminate \"Roman Empire\" because we are trying to find all the opponents which are versus \"Roman Empire\".\n",
    "\n",
    "    optional{?wars wdt:P527 ?warParts}. #from wars we get the all the related wars by \"parts of\" relation. We add optional because some wars do not have related wars. Not to eliminate those wars we use optional.\n",
    "    \n",
    "    ?participant sc:name ?opponent.\n",
    "    ?wars sc:name ?warname.\n",
    "    \n",
    "} group by ?wars ?warname ?participant ?opponent\n",
    "limit 20\n",
    "\"\"\"\n",
    "\n",
    "print(\"Results\")\n",
    "x=run_query(queryString)\n",
    "\n",
    "\n"
   ]
  },
  {
   "cell_type": "code",
   "execution_count": null,
   "id": "2523c8df-0fd3-4b38-aa68-08b7b4362003",
   "metadata": {},
   "outputs": [],
   "source": []
  }
 ],
 "metadata": {
  "kernelspec": {
   "display_name": "Python 3",
   "language": "python",
   "name": "python3"
  },
  "language_info": {
   "codemirror_mode": {
    "name": "ipython",
    "version": 3
   },
   "file_extension": ".py",
   "mimetype": "text/x-python",
   "name": "python",
   "nbconvert_exporter": "python",
   "pygments_lexer": "ipython3",
   "version": "3.7.10"
  }
 },
 "nbformat": 4,
 "nbformat_minor": 5
}
