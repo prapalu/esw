{
 "cells": [
  {
   "cell_type": "markdown",
   "id": "a444e1cc",
   "metadata": {},
   "source": [
    "# General instructions\n",
    "\n",
    "The goal of the project is to materialize a set of **exploratory workloads** over a real-world, large-scale,  open-domain KG: [WikiData](https://www.wikidata.org/wiki/Wikidata:Main_Page)\n",
    "\n",
    "An exploratory workload  is composed by a set of queries, where each query is related to the information obtained previously.\n",
    "\n",
    "An exploratory workload starts with a usually vague, open ended question, and does not assume the person issuing the workload has a clear understanding of the data contained in the target database or its structure.\n",
    "\n",
    "Remeber that:\n",
    "\n",
    "1. All the queries must run in the python notebook\n",
    "2. You can use classes and properties only if you find them via a SPARQL query that must be present in the notebook\n",
    "3. You do not delete useless queries. Keep everything that is synthatically valid \n",
    "\n",
    "```\n",
    "?p <http://schema.org/name> ?name .\n",
    "```\n",
    "    \n",
    "    is the BGP returning a human-readable name of a property or a class in Wikidata."
   ]
  },
  {
   "cell_type": "code",
   "execution_count": 1,
   "id": "2f938c8a",
   "metadata": {},
   "outputs": [],
   "source": [
    "## SETUP used later\n",
    "\n",
    "from SPARQLWrapper import SPARQLWrapper, JSON\n",
    "\n",
    "\n",
    "prefixString = \"\"\"\n",
    "##-61211000ef-##\n",
    "PREFIX wd: <http://www.wikidata.org/entity/> \n",
    "PREFIX wdt: <http://www.wikidata.org/prop/direct/> \n",
    "PREFIX sc: <http://schema.org/>\n",
    "\"\"\"\n",
    "\n",
    "# select and construct queries\n",
    "def run_query(queryString,verbose = True):\n",
    "    to_run = prefixString + \"\\n\" + queryString\n",
    "\n",
    "    sparql = SPARQLWrapper(\"http://a256-gc1-03.srv.aau.dk:5820/sparql\")\n",
    "    sparql.setTimeout(300)\n",
    "    sparql.setReturnFormat(JSON)\n",
    "    sparql.setQuery(to_run)\n",
    "\n",
    "    try :\n",
    "        results = sparql.query()\n",
    "        json_results = results.convert()\n",
    "        if len(json_results['results']['bindings'])==0:\n",
    "            print(\"Empty\")\n",
    "            return []\n",
    "        array = []\n",
    "        for bindings in json_results['results']['bindings']:\n",
    "            app =  [ (var, value['value'])  for var, value in bindings.items() ] \n",
    "            if verbose:\n",
    "                print( app)\n",
    "            array.append(app)\n",
    "        if verbose:\n",
    "            print(len(array))\n",
    "        return array\n",
    "\n",
    "    except Exception as e :\n",
    "        print(\"The operation failed\", e)\n",
    "    \n",
    "# ASk queries\n",
    "def run_ask_query(queryString):\n",
    "    to_run = prefixString + \"\\n\" + queryString\n",
    "\n",
    "    sparql = SPARQLWrapper(\"http://a256-gc1-03.srv.aau.dk:5820/sparql\")\n",
    "    sparql.setTimeout(300)\n",
    "    sparql.setReturnFormat(JSON)\n",
    "    sparql.setQuery(to_run)\n",
    "\n",
    "    try :\n",
    "        return sparql.query().convert()\n",
    "\n",
    "    except Exception as e :\n",
    "        print(\"The operation failed\", e)"
   ]
  },
  {
   "cell_type": "markdown",
   "id": "7261365b",
   "metadata": {},
   "source": [
    "# Movie Workflow Series (\"Film Genre and composer explorative search\") \n",
    "\n",
    "Consider the following exploratory information need:\n",
    "\n",
    "> investigate the results concerning the different film genre over years and the composers for the cinema."
   ]
  },
  {
   "cell_type": "markdown",
   "id": "b2e5df7c",
   "metadata": {
    "tags": []
   },
   "source": [
    "## Useful URIs for the current workflow\n",
    "The following are given:\n",
    "\n",
    "| IRI           | Description   | Role      |\n",
    "| -----------   | -----------   |-----------|\n",
    "| `wdt:P1647`   | subproperty   | predicate |\n",
    "| `wdt:P31`     | instance of   | predicate |\n",
    "| `wdt:P106`    | occupation    | predicate | \n",
    "| `wdt:P279`    | subclass      | predicate |\n",
    "| `wdt:P27`     | nationality   | predicate |\n",
    "| `wdt:P3342`     | Significant person       | predicate |\n",
    "| `wd:Q5`| Human       | node |\n",
    "| `wd:Q25089`| Woody Allen       | node |\n"
   ]
  },
  {
   "cell_type": "markdown",
   "id": "67667c90",
   "metadata": {},
   "source": [
    "\n",
    "\n",
    "\n",
    "Also consider\n",
    "\n",
    "```\n",
    "wd:Q25089 ?p ?obj .\n",
    "```\n",
    "\n",
    "is the BGP to retrieve all **properties of Woody Allen**\n",
    "\n",
    "Please consider that when you return a resource, you should return the IRI and the label of the resource. In particular, when the task require you to identify a BGP the result set must always be a list of couples IRI - label.\n",
    "\n",
    "The workload should:\n",
    "\n",
    "\n",
    "1. Identify the BGP for films\n",
    "\n",
    "2. Identify the BGP for composer\n",
    "\n",
    "3. Identify the BGP for film genre\n",
    "\n",
    "4. Find how many films are been released in the United States of America from 2010-01-01 to 2015-31-12 for each film genre available (the result set must be genre IRI, label and #films).\n",
    "\n",
    "5. Consider the timespan from 2001-01-01 to nowadays. Find the number of films released in this timespan divided by film genre and return only those with more than 50 films released every year (the result set must be genre IRI and label).\n",
    "\n",
    "6. Consider the composers of Western films and their country of citizenship. Count the number of Western Films on which worked a composer grouped by country of citizenship and return the top-10 (the result set must be country IRI, label and #films).. \n",
    "\n",
    "7. Consider the decades from 1961 to 1970, and from 2001 to 2010 and compare the total number of western films released in each one (the result set must be two couples decade and #western films of that decade).\n",
    "\n",
    "8. Consider the decades from 1961 to 1970, and from 2001 to 2010 and select only western films. Then, for each decade, compare the average cast members size per film (the result set must be two couples decade and average cast members size of that decade)."
   ]
  },
  {
   "cell_type": "markdown",
   "id": "80dfc196",
   "metadata": {},
   "source": [
    "## Task 1\n",
    "Identify the BGP for films"
   ]
  },
  {
   "cell_type": "code",
   "execution_count": 13,
   "id": "c854d933",
   "metadata": {},
   "outputs": [
    {
     "name": "stdout",
     "output_type": "stream",
     "text": [
      "Results\n",
      "[('filmwanted', 'http://www.wikidata.org/entity/Q2973201'), ('name', 'political film')]\n",
      "[('filmwanted', 'http://www.wikidata.org/entity/Q15416'), ('name', 'television program')]\n",
      "[('filmwanted', 'http://www.wikidata.org/entity/Q181001'), ('name', 'erotica')]\n",
      "[('filmwanted', 'http://www.wikidata.org/entity/Q182015'), ('name', 'thriller')]\n",
      "[('filmwanted', 'http://www.wikidata.org/entity/Q21010853'), ('name', 'drama')]\n",
      "[('filmwanted', 'http://www.wikidata.org/entity/Q170539'), ('name', 'parody')]\n",
      "[('filmwanted', 'http://www.wikidata.org/entity/Q185867'), ('name', 'film noir')]\n",
      "[('filmwanted', 'http://www.wikidata.org/entity/Q905770'), ('name', 'soft science fiction')]\n",
      "[('filmwanted', 'http://www.wikidata.org/entity/Q1257444'), ('name', 'film adaptation')]\n",
      "[('filmwanted', 'http://www.wikidata.org/entity/Q15062348'), ('name', 'dystopian fiction')]\n",
      "[('filmwanted', 'http://www.wikidata.org/entity/Q1054574'), ('name', 'romance film')]\n",
      "[('filmwanted', 'http://www.wikidata.org/entity/Q11424'), ('name', 'film')]\n",
      "[('filmwanted', 'http://www.wikidata.org/entity/Q128758'), ('name', 'satire')]\n",
      "[('filmwanted', 'http://www.wikidata.org/entity/Q157443'), ('name', 'comedy film')]\n",
      "[('filmwanted', 'http://www.wikidata.org/entity/Q188473'), ('name', 'action film')]\n",
      "[('filmwanted', 'http://www.wikidata.org/entity/Q24925'), ('name', 'science fiction')]\n",
      "[('filmwanted', 'http://www.wikidata.org/entity/Q40831'), ('name', 'comedy')]\n",
      "[('filmwanted', 'http://www.wikidata.org/entity/Q2973181'), ('name', 'speculative fiction film')]\n",
      "[('filmwanted', 'http://www.wikidata.org/entity/Q132311'), ('name', 'fantasy')]\n",
      "[('filmwanted', 'http://www.wikidata.org/entity/Q2484376'), ('name', 'thriller film')]\n",
      "20\n"
     ]
    }
   ],
   "source": [
    "#getting films data from Woody Allen-\"notable work\", Notable work object-\"genre\", genre object-\"subclass\" relations\n",
    "queryString = \"\"\"\n",
    "SELECT DISTINCT ?filmwanted ?name\n",
    "WHERE {\n",
    "   # bind something\n",
    "   wd:Q25089 ?p ?obj .\n",
    "   wd:Q25089 wdt:P800 ?film.\n",
    "   ?film wdt:P136 ?genre.\n",
    "   ?genre wdt:P279 ?filmwanted.\n",
    "   # get the label\n",
    "   ?filmwanted sc:name ?name.\n",
    "}\n",
    "LIMIT 20\n",
    "\"\"\"\n",
    "\n",
    "print(\"Results\")\n",
    "x=run_query(queryString)"
   ]
  },
  {
   "cell_type": "markdown",
   "id": "3d3e84b1",
   "metadata": {},
   "source": [
    "Final query for this task"
   ]
  },
  {
   "cell_type": "code",
   "execution_count": 8,
   "id": "c464a4fb",
   "metadata": {},
   "outputs": [
    {
     "name": "stdout",
     "output_type": "stream",
     "text": [
      "Results\n",
      "[('p', 'http://www.wikidata.org/prop/direct/P1014'), ('name', 'Art & Architecture Thesaurus ID')]\n",
      "[('p', 'http://www.wikidata.org/prop/direct/P1036'), ('name', 'Dewey Decimal Classification')]\n",
      "[('p', 'http://www.wikidata.org/prop/direct/P1051'), ('name', 'PSH ID')]\n",
      "[('p', 'http://www.wikidata.org/prop/direct/P1151'), ('name', \"topic's main Wikimedia portal\")]\n",
      "[('p', 'http://www.wikidata.org/prop/direct/P1225'), ('name', 'U.S. National Archives Identifier')]\n",
      "[('p', 'http://www.wikidata.org/prop/direct/P1245'), ('name', 'OmegaWiki Defined Meaning')]\n",
      "[('p', 'http://www.wikidata.org/prop/direct/P1256'), ('name', 'Iconclass notation')]\n",
      "[('p', 'http://www.wikidata.org/prop/direct/P1343'), ('name', 'described by source')]\n",
      "[('p', 'http://www.wikidata.org/prop/direct/P1368'), ('name', 'LNB ID')]\n",
      "[('p', 'http://www.wikidata.org/prop/direct/P1417'), ('name', 'Encyclopædia Britannica Online ID')]\n",
      "[('p', 'http://www.wikidata.org/prop/direct/P1424'), ('name', \"topic's main template\")]\n",
      "[('p', 'http://www.wikidata.org/prop/direct/P1617'), ('name', 'BBC Things ID')]\n",
      "[('p', 'http://www.wikidata.org/prop/direct/P1709'), ('name', 'equivalent class')]\n",
      "[('p', 'http://www.wikidata.org/prop/direct/P18'), ('name', 'image')]\n",
      "[('p', 'http://www.wikidata.org/prop/direct/P1889'), ('name', 'different from')]\n",
      "[('p', 'http://www.wikidata.org/prop/direct/P1963'), ('name', 'properties for this type')]\n",
      "[('p', 'http://www.wikidata.org/prop/direct/P2167'), ('name', 'UNSPSC Code')]\n",
      "[('p', 'http://www.wikidata.org/prop/direct/P227'), ('name', 'GND ID')]\n",
      "[('p', 'http://www.wikidata.org/prop/direct/P2347'), ('name', 'YSO ID')]\n",
      "[('p', 'http://www.wikidata.org/prop/direct/P244'), ('name', 'Library of Congress authority ID')]\n",
      "20\n"
     ]
    }
   ],
   "source": [
    "# write your final query\n",
    "\n",
    "queryString = \"\"\"\n",
    "SELECT DISTINCT ?p ?name\n",
    "WHERE {\n",
    "   # bind something\n",
    "   wd:Q11424 ?p ?obj .\n",
    "   # get the label\n",
    "   ?p sc:name ?name.\n",
    "}\n",
    "LIMIT 20\n",
    "\"\"\"\n",
    "\n",
    "print(\"Results\")\n",
    "x=run_query(queryString)"
   ]
  },
  {
   "cell_type": "markdown",
   "id": "69d4f309",
   "metadata": {},
   "source": [
    "## Task 2\n",
    "Identify the BGP for composer"
   ]
  },
  {
   "cell_type": "code",
   "execution_count": 31,
   "id": "93e8503c",
   "metadata": {},
   "outputs": [
    {
     "name": "stdout",
     "output_type": "stream",
     "text": [
      "Results\n",
      "[('obj', 'http://www.wikidata.org/entity/P345'), ('name', 'IMDb ID')]\n",
      "[('obj', 'http://www.wikidata.org/entity/P1040'), ('name', 'film editor')]\n",
      "[('obj', 'http://www.wikidata.org/entity/P344'), ('name', 'director of photography')]\n",
      "[('obj', 'http://www.wikidata.org/entity/P1476'), ('name', 'title')]\n",
      "[('obj', 'http://www.wikidata.org/entity/P2047'), ('name', 'duration')]\n",
      "[('obj', 'http://www.wikidata.org/entity/P162'), ('name', 'producer')]\n",
      "[('obj', 'http://www.wikidata.org/entity/P921'), ('name', 'main subject')]\n",
      "[('obj', 'http://www.wikidata.org/entity/P577'), ('name', 'publication date')]\n",
      "[('obj', 'http://www.wikidata.org/entity/P495'), ('name', 'country of origin')]\n",
      "[('obj', 'http://www.wikidata.org/entity/P3816'), ('name', 'film script')]\n",
      "[('obj', 'http://www.wikidata.org/entity/P179'), ('name', 'part of the series')]\n",
      "[('obj', 'http://www.wikidata.org/entity/P480'), ('name', 'FilmAffinity ID')]\n",
      "[('obj', 'http://www.wikidata.org/entity/P136'), ('name', 'genre')]\n",
      "[('obj', 'http://www.wikidata.org/entity/P2408'), ('name', 'set in period')]\n",
      "[('obj', 'http://www.wikidata.org/entity/P840'), ('name', 'narrative location')]\n",
      "[('obj', 'http://www.wikidata.org/entity/P86'), ('name', 'composer')]\n",
      "[('obj', 'http://www.wikidata.org/entity/P915'), ('name', 'filming location')]\n",
      "[('obj', 'http://www.wikidata.org/entity/P161'), ('name', 'cast member')]\n",
      "[('obj', 'http://www.wikidata.org/entity/P166'), ('name', 'award received')]\n",
      "[('obj', 'http://www.wikidata.org/entity/P364'), ('name', 'original language of film or TV show')]\n",
      "20\n"
     ]
    }
   ],
   "source": [
    "# write your queries\n",
    "#Finding composer data via film-\"property for this type\" relation. \n",
    "queryString = \"\"\"\n",
    "SELECT DISTINCT ?obj ?name\n",
    "WHERE {\n",
    "   # bind something\n",
    "   wd:Q11424 wdt:P1963 ?obj .\n",
    "   # get the label\n",
    "   ?obj sc:name ?name.\n",
    "}limit 20\n",
    "\"\"\"\n",
    "\n",
    "print(\"Results\")\n",
    "x=run_query(queryString)"
   ]
  },
  {
   "cell_type": "markdown",
   "id": "52f41c3b",
   "metadata": {},
   "source": [
    "Final query for this task"
   ]
  },
  {
   "cell_type": "code",
   "execution_count": 18,
   "id": "09239845",
   "metadata": {},
   "outputs": [
    {
     "name": "stdout",
     "output_type": "stream",
     "text": [
      "Results\n",
      "[('p', 'http://www.wikidata.org/prop/direct/P1628'), ('name', 'equivalent property')]\n",
      "[('p', 'http://www.wikidata.org/prop/direct/P2236'), ('name', 'external subproperty')]\n",
      "[('p', 'http://www.wikidata.org/prop/direct/P2888'), ('name', 'exact match')]\n",
      "[('p', 'http://www.wikidata.org/prop/direct/P31'), ('name', 'instance of')]\n",
      "[('p', 'http://www.wikidata.org/prop/direct/P1659'), ('name', 'see also')]\n",
      "[('p', 'http://www.wikidata.org/prop/direct/P1629'), ('name', 'Wikidata item of this property')]\n",
      "[('p', 'http://www.wikidata.org/prop/direct/P1647'), ('name', 'subproperty of')]\n",
      "[('p', 'http://www.wikidata.org/prop/direct/P1855'), ('name', 'Wikidata property example')]\n",
      "[('p', 'http://www.wikidata.org/prop/direct/P2302'), ('name', 'property constraint')]\n",
      "[('p', 'http://www.wikidata.org/prop/direct/P2875'), ('name', 'property usage tracking category')]\n",
      "[('p', 'http://www.wikidata.org/prop/direct/P3254'), ('name', 'property proposal discussion')]\n",
      "[('p', 'http://www.wikidata.org/prop/direct/P3709'), ('name', 'category for value different from Wikidata')]\n",
      "[('p', 'http://www.wikidata.org/prop/direct/P3734'), ('name', 'category for value same as Wikidata')]\n",
      "[('p', 'http://www.wikidata.org/prop/direct/P7087'), ('name', 'inverse label item')]\n",
      "14\n"
     ]
    }
   ],
   "source": [
    "# write your final query\n",
    "\n",
    "queryString = \"\"\"\n",
    "SELECT DISTINCT ?p ?name\n",
    "WHERE {\n",
    "   # bind something\n",
    "   wd:P86 ?p ?obj .\n",
    "   # get the label\n",
    "   ?p sc:name ?name.\n",
    "}\n",
    "LIMIT 20\n",
    "\"\"\"\n",
    "\n",
    "print(\"Results\")\n",
    "x=run_query(queryString)"
   ]
  },
  {
   "cell_type": "markdown",
   "id": "53fcdcf7",
   "metadata": {},
   "source": [
    "## Task 3\n",
    "Identify the BGP for film genre"
   ]
  },
  {
   "cell_type": "code",
   "execution_count": 173,
   "id": "eeb5876e",
   "metadata": {
    "tags": []
   },
   "outputs": [
    {
     "name": "stdout",
     "output_type": "stream",
     "text": [
      "Results\n",
      "[('obj', 'http://www.wikidata.org/entity/Q15961987'), ('name', 'television genre')]\n",
      "[('obj', 'http://www.wikidata.org/entity/Q483394'), ('name', 'genre')]\n",
      "[('obj', 'http://www.wikidata.org/entity/Q201658'), ('name', 'film genre')]\n",
      "[('obj', 'http://www.wikidata.org/entity/Q659563'), ('name', 'video game genre')]\n",
      "[('obj', 'http://www.wikidata.org/entity/Q13406463'), ('name', 'Wikimedia list article')]\n",
      "[('obj', 'http://www.wikidata.org/entity/Q188451'), ('name', 'music genre')]\n",
      "[('obj', 'http://www.wikidata.org/entity/Q223393'), ('name', 'literary genre')]\n",
      "7\n"
     ]
    }
   ],
   "source": [
    "# write your queries\n",
    "queryString = \"\"\" \n",
    "SELECT DISTINCT ?obj ?name \n",
    "WHERE {\n",
    "   # bind something\n",
    "   #wd:Q11424 ?p ?obj . #we get genre data\n",
    "   \n",
    "   #wd:Q483394 ?p ?obj. #from genre we get \"list of genres\" by \"has list\" relation.\n",
    "\n",
    "   wd:Q6621591 ?p ?obj. #from \"list of genres\" by \"is a list of\" relation we get to film genre. \n",
    "   \n",
    "  \n",
    "   # get the label\n",
    "   ?obj sc:name ?name.\n",
    "}limit 20\n",
    "\"\"\"\n",
    "\n",
    "print(\"Results\")\n",
    "x=run_query(queryString)"
   ]
  },
  {
   "cell_type": "markdown",
   "id": "6a2f4c38",
   "metadata": {},
   "source": [
    "Final query for this task"
   ]
  },
  {
   "cell_type": "code",
   "execution_count": 174,
   "id": "0f5fe833",
   "metadata": {},
   "outputs": [
    {
     "name": "stdout",
     "output_type": "stream",
     "text": [
      "Results\n",
      "[('p', 'http://www.wikidata.org/prop/direct/P1014'), ('name', 'Art & Architecture Thesaurus ID')]\n",
      "[('p', 'http://www.wikidata.org/prop/direct/P1256'), ('name', 'Iconclass notation')]\n",
      "[('p', 'http://www.wikidata.org/prop/direct/P227'), ('name', 'GND ID')]\n",
      "[('p', 'http://www.wikidata.org/prop/direct/P2354'), ('name', 'has list')]\n",
      "[('p', 'http://www.wikidata.org/prop/direct/P244'), ('name', 'Library of Congress authority ID')]\n",
      "[('p', 'http://www.wikidata.org/prop/direct/P279'), ('name', 'subclass of')]\n",
      "[('p', 'http://www.wikidata.org/prop/direct/P31'), ('name', 'instance of')]\n",
      "[('p', 'http://www.wikidata.org/prop/direct/P3235'), ('name', 'PhilPapers topic')]\n",
      "[('p', 'http://www.wikidata.org/prop/direct/P3553'), ('name', 'Zhihu topic ID')]\n",
      "[('p', 'http://www.wikidata.org/prop/direct/P361'), ('name', 'part of')]\n",
      "[('p', 'http://www.wikidata.org/prop/direct/P373'), ('name', 'Commons category')]\n",
      "[('p', 'http://www.wikidata.org/prop/direct/P3827'), ('name', 'JSTOR topic ID')]\n",
      "[('p', 'http://www.wikidata.org/prop/direct/P4342'), ('name', 'Store norske leksikon ID')]\n",
      "[('p', 'http://www.wikidata.org/prop/direct/P5250'), ('name', 'IAB code')]\n",
      "[('p', 'http://www.wikidata.org/prop/direct/P5748'), ('name', 'Basisklassifikation')]\n",
      "[('p', 'http://www.wikidata.org/prop/direct/P6366'), ('name', 'Microsoft Academic ID')]\n",
      "[('p', 'http://www.wikidata.org/prop/direct/P646'), ('name', 'Freebase ID')]\n",
      "[('p', 'http://www.wikidata.org/prop/direct/P8408'), ('name', 'KBpedia ID')]\n",
      "[('p', 'http://www.wikidata.org/prop/direct/P910'), ('name', \"topic's main category\")]\n",
      "[('p', 'http://www.wikidata.org/prop/direct/P9760'), ('name', \"Treccani's Enciclopedia del Cinema ID\")]\n",
      "20\n"
     ]
    }
   ],
   "source": [
    "# write your final query\n",
    "queryString = \"\"\" \n",
    "SELECT DISTINCT ?p ?name \n",
    "WHERE {\n",
    "  wd:Q201658 ?p ?obj.\n",
    "  ?p sc:name ?name.\n",
    "}limit 20\n",
    "\"\"\"\n",
    "\n",
    "print(\"Results\")\n",
    "x=run_query(queryString)"
   ]
  },
  {
   "cell_type": "markdown",
   "id": "8c681bcd",
   "metadata": {},
   "source": [
    "## Task 4\n",
    "Find how many films are been released in the United States of America from 2010-01-01 to 2015-31-12 for each film genre available (the result set must be genre IRI, label and #films)."
   ]
  },
  {
   "cell_type": "code",
   "execution_count": 139,
   "id": "0d35846c",
   "metadata": {},
   "outputs": [
    {
     "name": "stdout",
     "output_type": "stream",
     "text": [
      "Results\n",
      "Empty\n"
     ]
    }
   ],
   "source": [
    "#write your queries\n",
    "#we bind films-\"country of origin\" relation to USA data. we get USA data by Woody Allen-\"country of citizenship\" relation.\n",
    "#from the films-\"genre\" relation we get the genre data.\n",
    "#we get the date data by film-\"publication date\".\n",
    "queryString = \"\"\"\n",
    "SELECT DISTINCT ?obj ?name \n",
    "WHERE {\n",
    "   # bind something\n",
    "   wd:Q11424 ?p ?obj. #from film-\"properties for this type\"-\"country of origin\" relation we get to data of where film is released in.\n",
    "   \n",
    "   # get the label\n",
    "   ?obj sc:name ?name.\n",
    " \n",
    "   }\n",
    "\n",
    "\"\"\"\n",
    "\n",
    "print(\"Results\")\n",
    "x=run_query(queryString)"
   ]
  },
  {
   "cell_type": "markdown",
   "id": "5a3a2483",
   "metadata": {},
   "source": [
    "Final query for this task"
   ]
  },
  {
   "cell_type": "code",
   "execution_count": 151,
   "id": "fa606e38",
   "metadata": {},
   "outputs": [
    {
     "name": "stdout",
     "output_type": "stream",
     "text": [
      "Results\n",
      "[('filmNum', '2400'), ('genre', 'http://www.wikidata.org/entity/Q130232'), ('name', 'drama')]\n",
      "[('filmNum', '873'), ('genre', 'http://www.wikidata.org/entity/Q200092'), ('name', 'horror film')]\n",
      "[('filmNum', '56'), ('genre', 'http://www.wikidata.org/entity/Q858330'), ('name', 'romance novel')]\n",
      "[('filmNum', '167'), ('genre', 'http://www.wikidata.org/entity/Q10992055'), ('name', 'speculative fiction novel')]\n",
      "[('filmNum', '10'), ('genre', 'http://www.wikidata.org/entity/Q459435'), ('name', 'mockumentary')]\n",
      "[('filmNum', '19'), ('genre', 'http://www.wikidata.org/entity/Q1379958'), ('name', 'contemporary Christian music')]\n",
      "[('filmNum', '5'), ('genre', 'http://www.wikidata.org/entity/Q101856615'), ('name', 'zombie television program')]\n",
      "[('filmNum', '130'), ('genre', 'http://www.wikidata.org/entity/Q2975633'), ('name', 'coming-of-age story')]\n",
      "[('filmNum', '35'), ('genre', 'http://www.wikidata.org/entity/Q1033891'), ('name', 'martial arts film')]\n",
      "[('filmNum', '53'), ('genre', 'http://www.wikidata.org/entity/Q1422746'), ('name', 'action role-playing game')]\n",
      "[('filmNum', '1'), ('genre', 'http://www.wikidata.org/entity/Q861823'), ('name', 'electroclash')]\n",
      "[('filmNum', '33'), ('genre', 'http://www.wikidata.org/entity/Q22812458'), ('name', 'comedic television series')]\n",
      "[('filmNum', '43'), ('genre', 'http://www.wikidata.org/entity/Q191489'), ('name', 'melodrama')]\n",
      "[('filmNum', '56'), ('genre', 'http://www.wikidata.org/entity/Q38848'), ('name', 'heavy metal')]\n",
      "[('filmNum', '406'), ('genre', 'http://www.wikidata.org/entity/Q52207399'), ('name', 'film based on a novel')]\n",
      "[('filmNum', '2'), ('genre', 'http://www.wikidata.org/entity/Q944250'), ('name', 'social science fiction')]\n",
      "[('filmNum', '137'), ('genre', 'http://www.wikidata.org/entity/Q1535153'), ('name', 'superhero film')]\n",
      "[('filmNum', '7'), ('genre', 'http://www.wikidata.org/entity/Q904447'), ('name', 'Military science fiction')]\n",
      "[('filmNum', '38'), ('genre', 'http://www.wikidata.org/entity/Q604725'), ('name', 'psychological horror')]\n",
      "[('filmNum', '4'), ('genre', 'http://www.wikidata.org/entity/Q622370'), ('name', 'docudrama')]\n",
      "20\n"
     ]
    }
   ],
   "source": [
    "#write your queries\n",
    "#we bind films-\"country of origin\" relation to USA data. we get USA data by Woody Allen-\"country of citizenship\" relation.\n",
    "#from the films-\"genre\" relation we get the genre data.\n",
    "queryString = \"\"\"\n",
    "SELECT DISTINCT (count(?s) as ?filmNum) ?genre ?name \n",
    "WHERE {\n",
    "   # bind something\n",
    "   ?s wdt:P495 wd:Q30. #getting data where the film is released in USA \n",
    "   ?s wdt:P136 ?genre. #getting these films genre data \n",
    "   ?s wdt:P577 ?date.\n",
    "   \n",
    "   # get the label\n",
    "   ?genre sc:name ?name.\n",
    "   filter((?date > \"2010-01-01\"^^xsd:dateTime) && (?date < \"2015-12-31\"^^xsd:dateTime))\n",
    "   }limit 20\n",
    "\n",
    "\"\"\"\n",
    "\n",
    "print(\"Results\")\n",
    "x=run_query(queryString)"
   ]
  },
  {
   "cell_type": "markdown",
   "id": "abd9fc70",
   "metadata": {},
   "source": [
    "## Task 5\n",
    "Consider the timespan from 2001-01-01 to nowadays. Find the number of films released in this timespan divided by film genre and return only those with more than 50 films released every year (the result set must be genre IRI and label)."
   ]
  },
  {
   "cell_type": "code",
   "execution_count": 152,
   "id": "5cb2d6c3",
   "metadata": {},
   "outputs": [
    {
     "name": "stdout",
     "output_type": "stream",
     "text": [
      "Results\n",
      "[('filmNum', '303'), ('genre', 'http://www.wikidata.org/entity/Q157443'), ('name', 'comedy film')]\n",
      "[('filmNum', '54'), ('genre', 'http://www.wikidata.org/entity/Q9778'), ('name', 'electronic music')]\n",
      "[('filmNum', '67'), ('genre', 'http://www.wikidata.org/entity/Q973150'), ('name', 'mandopop')]\n",
      "[('filmNum', '229'), ('genre', 'http://www.wikidata.org/entity/Q200092'), ('name', 'horror film')]\n",
      "[('filmNum', '200'), ('genre', 'http://www.wikidata.org/entity/Q200092'), ('name', 'horror film')]\n",
      "[('filmNum', '55'), ('genre', 'http://www.wikidata.org/entity/Q645928'), ('name', 'biographical film')]\n",
      "[('filmNum', '61'), ('genre', 'http://www.wikidata.org/entity/Q645928'), ('name', 'biographical film')]\n",
      "[('filmNum', '62'), ('genre', 'http://www.wikidata.org/entity/Q20442589'), ('name', 'LGBT-related film')]\n",
      "[('filmNum', '53'), ('genre', 'http://www.wikidata.org/entity/Q637866'), ('name', 'book review')]\n",
      "[('filmNum', '70'), ('genre', 'http://www.wikidata.org/entity/Q235858'), ('name', 'traditional folk music')]\n",
      "[('filmNum', '102'), ('genre', 'http://www.wikidata.org/entity/Q83270'), ('name', 'hard rock')]\n",
      "[('filmNum', '84'), ('genre', 'http://www.wikidata.org/entity/Q471839'), ('name', 'science fiction film')]\n",
      "[('filmNum', '332'), ('genre', 'http://www.wikidata.org/entity/Q157443'), ('name', 'comedy film')]\n",
      "[('filmNum', '98'), ('genre', 'http://www.wikidata.org/entity/Q959790'), ('name', 'crime film')]\n",
      "[('filmNum', '166'), ('genre', 'http://www.wikidata.org/entity/Q11401'), ('name', 'hip hop music')]\n",
      "[('filmNum', '60'), ('genre', 'http://www.wikidata.org/entity/Q9778'), ('name', 'electronic music')]\n",
      "[('filmNum', '75'), ('genre', 'http://www.wikidata.org/entity/Q20442589'), ('name', 'LGBT-related film')]\n",
      "[('filmNum', '805'), ('genre', 'http://www.wikidata.org/entity/Q93204'), ('name', 'documentary film')]\n",
      "[('filmNum', '70'), ('genre', 'http://www.wikidata.org/entity/Q645928'), ('name', 'biographical film')]\n",
      "[('filmNum', '66'), ('genre', 'http://www.wikidata.org/entity/Q38848'), ('name', 'heavy metal')]\n",
      "20\n"
     ]
    }
   ],
   "source": [
    "# write your queries\n",
    "#we make changes from the previous code \n",
    "queryString = \"\"\"\n",
    "SELECT DISTINCT (count(?s) as ?filmNum) ?genre ?name #can add \"?date\" to see the seperation by years \n",
    "WHERE {\n",
    "   # bind something\n",
    "   ?s wdt:P136 ?genre. #getting these films genre data \n",
    "   ?s wdt:P577 ?date.\n",
    "   \n",
    "   # get the label\n",
    "   ?genre sc:name ?name.\n",
    "   filter((?date > \"2001\"^^xsd:dateTime) ) #updating the date restriction\n",
    "   }group by ?genre ?name ?date #adding \"?date\" in the \"group by\" to detect data separated by each year and by genre\n",
    "   having(count(?s) > 50) #using \"having\" to get data only the ones having more than 50 counts every year\n",
    "   limit 20\n",
    "\n",
    "\"\"\"\n",
    "\n",
    "print(\"Results\")\n",
    "x=run_query(queryString)"
   ]
  },
  {
   "cell_type": "markdown",
   "id": "8a4fdb76",
   "metadata": {},
   "source": [
    "Final query for this task"
   ]
  },
  {
   "cell_type": "code",
   "execution_count": 159,
   "id": "e266e8f0",
   "metadata": {},
   "outputs": [
    {
     "name": "stdout",
     "output_type": "stream",
     "text": [
      "Results\n",
      "[('filmNum', '303'), ('genre', 'http://www.wikidata.org/entity/Q157443'), ('name', 'comedy film')]\n",
      "[('filmNum', '54'), ('genre', 'http://www.wikidata.org/entity/Q9778'), ('name', 'electronic music')]\n",
      "[('filmNum', '67'), ('genre', 'http://www.wikidata.org/entity/Q973150'), ('name', 'mandopop')]\n",
      "[('filmNum', '229'), ('genre', 'http://www.wikidata.org/entity/Q200092'), ('name', 'horror film')]\n",
      "[('filmNum', '200'), ('genre', 'http://www.wikidata.org/entity/Q200092'), ('name', 'horror film')]\n",
      "[('filmNum', '55'), ('genre', 'http://www.wikidata.org/entity/Q645928'), ('name', 'biographical film')]\n",
      "[('filmNum', '61'), ('genre', 'http://www.wikidata.org/entity/Q645928'), ('name', 'biographical film')]\n",
      "[('filmNum', '62'), ('genre', 'http://www.wikidata.org/entity/Q20442589'), ('name', 'LGBT-related film')]\n",
      "[('filmNum', '53'), ('genre', 'http://www.wikidata.org/entity/Q637866'), ('name', 'book review')]\n",
      "[('filmNum', '70'), ('genre', 'http://www.wikidata.org/entity/Q235858'), ('name', 'traditional folk music')]\n",
      "[('filmNum', '102'), ('genre', 'http://www.wikidata.org/entity/Q83270'), ('name', 'hard rock')]\n",
      "[('filmNum', '84'), ('genre', 'http://www.wikidata.org/entity/Q471839'), ('name', 'science fiction film')]\n",
      "[('filmNum', '332'), ('genre', 'http://www.wikidata.org/entity/Q157443'), ('name', 'comedy film')]\n",
      "[('filmNum', '98'), ('genre', 'http://www.wikidata.org/entity/Q959790'), ('name', 'crime film')]\n",
      "[('filmNum', '166'), ('genre', 'http://www.wikidata.org/entity/Q11401'), ('name', 'hip hop music')]\n",
      "[('filmNum', '60'), ('genre', 'http://www.wikidata.org/entity/Q9778'), ('name', 'electronic music')]\n",
      "[('filmNum', '75'), ('genre', 'http://www.wikidata.org/entity/Q20442589'), ('name', 'LGBT-related film')]\n",
      "[('filmNum', '805'), ('genre', 'http://www.wikidata.org/entity/Q93204'), ('name', 'documentary film')]\n",
      "[('filmNum', '70'), ('genre', 'http://www.wikidata.org/entity/Q645928'), ('name', 'biographical film')]\n",
      "[('filmNum', '66'), ('genre', 'http://www.wikidata.org/entity/Q38848'), ('name', 'heavy metal')]\n",
      "20\n"
     ]
    }
   ],
   "source": [
    "# write your final query\n",
    "#we make changes from the previous code \n",
    "queryString = \"\"\"\n",
    "SELECT DISTINCT (count(?s) as ?filmNum) ?genre ?name #can add \"?date\" to see the seperation by years \n",
    "WHERE {\n",
    "   # bind something\n",
    "   ?s wdt:P136 ?genre. #getting these films genre data \n",
    "   ?s wdt:P577 ?date.\n",
    "   \n",
    "   # get the label\n",
    "   ?genre sc:name ?name.\n",
    "   filter((?date > \"2001\"^^xsd:dateTime) ) #updating the date restriction\n",
    "   }group by ?genre ?name ?date #adding \"?date\" in the \"group by\" to detect data separated by each year and by genre\n",
    "   having(count(?s) > 50) #using \"having\" to get data only the ones having more than 50 counts every year\n",
    "   limit 20\n",
    "\n",
    "\"\"\"\n",
    "\n",
    "print(\"Results\")\n",
    "x=run_query(queryString)"
   ]
  },
  {
   "cell_type": "markdown",
   "id": "1e9acdcd",
   "metadata": {},
   "source": [
    "## Task 6\n",
    "Consider the composers of Western films and their country of citizenship. Count the number of Western Films on which worked a composer grouped by country of citizenship and return the top-10 (the result set must be country IRI, label and #films).."
   ]
  },
  {
   "cell_type": "code",
   "execution_count": 190,
   "id": "ea0b754b",
   "metadata": {},
   "outputs": [
    {
     "name": "stdout",
     "output_type": "stream",
     "text": [
      "Results\n",
      "[('country', 'http://www.wikidata.org/entity/Q30'), ('name', 'United States of America'), ('filmNum', '1080')]\n",
      "[('country', 'http://www.wikidata.org/entity/Q145'), ('name', 'United Kingdom'), ('filmNum', '59')]\n",
      "[('country', 'http://www.wikidata.org/entity/Q183'), ('name', 'Germany'), ('filmNum', '45')]\n",
      "[('country', 'http://www.wikidata.org/entity/Q34266'), ('name', 'Russian Empire'), ('filmNum', '45')]\n",
      "[('country', 'http://www.wikidata.org/entity/Q38'), ('name', 'Italy'), ('filmNum', '41')]\n",
      "[('country', 'http://www.wikidata.org/entity/Q40'), ('name', 'Austria'), ('filmNum', '36')]\n",
      "[('country', 'http://www.wikidata.org/entity/Q15180'), ('name', 'Soviet Union'), ('filmNum', '36')]\n",
      "[('country', 'http://www.wikidata.org/entity/Q172579'), ('name', 'Kingdom of Italy'), ('filmNum', '32')]\n",
      "[('country', 'http://www.wikidata.org/entity/Q28513'), ('name', 'Austria-Hungary'), ('filmNum', '31')]\n",
      "[('country', 'http://www.wikidata.org/entity/Q142'), ('name', 'France'), ('filmNum', '22')]\n",
      "10\n"
     ]
    }
   ],
   "source": [
    "# write your queries\n",
    "\n",
    "queryString = \"\"\"\n",
    "SELECT DISTINCT ?country ?name (count(?film) as ?filmNum) \n",
    "WHERE {\n",
    "    #?sub ?p wd:Q201658. #we find \"western films\" through \"film genre\" data\n",
    "    \n",
    "    ?film ?p wd:Q172980. #we get all the movies which are western. \n",
    "    ?film wdt:P86 ?composer. #we get the composers from these movies.\n",
    "    ?composer wdt:P27 ?country. #we get the country of citizenship.\n",
    "    \n",
    "    ?country sc:name ?name.\n",
    "\n",
    "   \n",
    "   } group by ?country ?name\n",
    "   order by desc(?filmNum)\n",
    "   limit 10\n",
    "   \n",
    "\n",
    "\"\"\"\n",
    "\n",
    "print(\"Results\")\n",
    "x=run_query(queryString)"
   ]
  },
  {
   "cell_type": "markdown",
   "id": "5ab4b66e",
   "metadata": {},
   "source": [
    "Final query for this task"
   ]
  },
  {
   "cell_type": "code",
   "execution_count": 208,
   "id": "35fae48a",
   "metadata": {},
   "outputs": [
    {
     "name": "stdout",
     "output_type": "stream",
     "text": [
      "Results\n",
      "[('country', 'http://www.wikidata.org/entity/Q30'), ('name', 'United States of America'), ('filmNum', '1080')]\n",
      "[('country', 'http://www.wikidata.org/entity/Q145'), ('name', 'United Kingdom'), ('filmNum', '59')]\n",
      "[('country', 'http://www.wikidata.org/entity/Q183'), ('name', 'Germany'), ('filmNum', '45')]\n",
      "[('country', 'http://www.wikidata.org/entity/Q34266'), ('name', 'Russian Empire'), ('filmNum', '45')]\n",
      "[('country', 'http://www.wikidata.org/entity/Q38'), ('name', 'Italy'), ('filmNum', '41')]\n",
      "[('country', 'http://www.wikidata.org/entity/Q40'), ('name', 'Austria'), ('filmNum', '36')]\n",
      "[('country', 'http://www.wikidata.org/entity/Q15180'), ('name', 'Soviet Union'), ('filmNum', '36')]\n",
      "[('country', 'http://www.wikidata.org/entity/Q172579'), ('name', 'Kingdom of Italy'), ('filmNum', '32')]\n",
      "[('country', 'http://www.wikidata.org/entity/Q28513'), ('name', 'Austria-Hungary'), ('filmNum', '31')]\n",
      "[('country', 'http://www.wikidata.org/entity/Q142'), ('name', 'France'), ('filmNum', '22')]\n",
      "10\n"
     ]
    }
   ],
   "source": [
    "# write your final query\n",
    "\n",
    "queryString = \"\"\"\n",
    "SELECT DISTINCT ?country ?name (count(?film) as ?filmNum) \n",
    "WHERE {\n",
    "    #?sub ?p wd:Q201658. #we find \"western films\" through \"film genre\" data\n",
    "    \n",
    "    ?film ?p wd:Q172980. #we get all the movies which are western. \n",
    "    ?film wdt:P86 ?composer. #we get the composers from these movies.\n",
    "    ?composer wdt:P27 ?country. #we get the country of citizenship.\n",
    "    \n",
    "    ?country sc:name ?name.\n",
    "\n",
    "   \n",
    "   } group by ?country ?name\n",
    "   order by desc(?filmNum)\n",
    "   limit 10\n",
    "   \n",
    "\n",
    "\"\"\"\n",
    "\n",
    "print(\"Results\")\n",
    "x=run_query(queryString)"
   ]
  },
  {
   "cell_type": "markdown",
   "id": "09c6c678",
   "metadata": {},
   "source": [
    "## Task 7\n",
    "Consider the decades from 1961 to 1970, and from 2001 to 2010 and compare the total number of western films released in each one (the result set must be two couples decade and #western films of that decade)."
   ]
  },
  {
   "cell_type": "code",
   "execution_count": 304,
   "id": "649c536d",
   "metadata": {},
   "outputs": [
    {
     "name": "stdout",
     "output_type": "stream",
     "text": [
      "Results\n",
      "[('year', '2009'), ('filmTotal', '7')]\n",
      "[('year', '2002'), ('filmTotal', '8')]\n",
      "[('year', '1968'), ('filmTotal', '24')]\n",
      "[('year', '1970'), ('filmTotal', '35')]\n",
      "[('year', '2001'), ('filmTotal', '4')]\n",
      "[('year', '1966'), ('filmTotal', '32')]\n",
      "[('year', '1965'), ('filmTotal', '38')]\n",
      "[('year', '2005'), ('filmTotal', '8')]\n",
      "[('year', '1961'), ('filmTotal', '6')]\n",
      "[('year', '2007'), ('filmTotal', '14')]\n",
      "[('year', '1964'), ('filmTotal', '26')]\n",
      "[('year', '1967'), ('filmTotal', '29')]\n",
      "[('year', '2008'), ('filmTotal', '16')]\n",
      "[('year', '2004'), ('filmTotal', '7')]\n",
      "[('year', '2006'), ('filmTotal', '8')]\n",
      "[('year', '1969'), ('filmTotal', '28')]\n",
      "[('year', '1963'), ('filmTotal', '12')]\n",
      "[('year', '1962'), ('filmTotal', '19')]\n",
      "[('year', '2010'), ('filmTotal', '13')]\n",
      "[('year', '2003'), ('filmTotal', '12')]\n",
      "20\n"
     ]
    }
   ],
   "source": [
    "# write your queries\n",
    "#we use union to get two different data for two different decades.\n",
    "queryString = \"\"\"\n",
    "SELECT DISTINCT ?year ?name (count(?film) as ?filmTotal)\n",
    "WHERE {\n",
    "    {\n",
    "    ?film ?p wd:Q172980. #we get all the movies which are western. \n",
    "    ?film wdt:P577 ?releaseDate. #we get release date.\n",
    "    bind(STRBEFORE(str(?releaseDate), '-')AS ?year). #we take only the year of the date.\n",
    "    \n",
    "    filter((?releaseDate > \"1961\"^^xsd:dateTime)&&(?releaseDate < \"1970\"^^xsd:dateTime)).\n",
    "    }\n",
    "    UNION\n",
    "    {\n",
    "    ?film ?p wd:Q172980. #we get all the movies which are western. \n",
    "    ?film wdt:P577 ?releaseDate.\n",
    "    bind(STRBEFORE(str(?releaseDate), '-')AS ?year).\n",
    "\n",
    "    filter((?releaseDate > \"2001\"^^xsd:dateTime)&&(?releaseDate < \"2010\"^^xsd:dateTime)).\n",
    "    }   \n",
    "   }\n",
    "    group by ?year ?name\n",
    "    having(sum(?film))\n",
    "    limit 20\n",
    "   \n",
    "\n",
    "\"\"\"\n",
    "\n",
    "print(\"Results\")\n",
    "x=run_query(queryString)"
   ]
  },
  {
   "cell_type": "markdown",
   "id": "3e3d05d0",
   "metadata": {},
   "source": [
    "Final query for this task"
   ]
  },
  {
   "cell_type": "code",
   "execution_count": null,
   "id": "b80012e8",
   "metadata": {},
   "outputs": [],
   "source": []
  },
  {
   "cell_type": "markdown",
   "id": "2802b7db",
   "metadata": {},
   "source": [
    "## Task 8\n",
    "Consider the decades from 1961 to 1970, and from 2001 to 2010 and select only western films. Then, for each decade, compare the average cast members size per film (the result set must be two couples decade and average cast members size of that decade)."
   ]
  },
  {
   "cell_type": "code",
   "execution_count": 308,
   "id": "07e2955a",
   "metadata": {},
   "outputs": [
    {
     "name": "stdout",
     "output_type": "stream",
     "text": [
      "Results\n",
      "The operation failed QueryBadFormed: a bad request has been sent to the endpoint, probably the sparql query is bad formed. \n",
      "\n",
      "Response:\n",
      "b'Virtuoso 37000 Error SP030: SPARQL compiler, line 25: syntax error at \\'UNION\\'\\n\\nSPARQL query:\\ndefine sql:big-data-const 0\\n#output-format:application/sparql-results+json\\n\\n##-61211000ef-##\\nPREFIX wd: <http://www.wikidata.org/entity/> \\nPREFIX wdt: <http://www.wikidata.org/prop/direct/> \\nPREFIX sc: <http://schema.org/>\\n\\n\\nSELECT DISTINCT ?year ?name ?castNum1 ?castNum2\\nWHERE {\\n    select ?film ?name (avg(?cast) as ?castNum1)\\n    where{\\n    ?film ?p wd:Q172980. #we get all the movies which are western. \\n    ?film wdt:P577 ?releaseDate. #we get release date.\\n    bind(STRBEFORE(str(?releaseDate), \\'-\\')AS ?year). #we take only the year of the date.\\n    \\n    filter((?releaseDate > \"1961\"^^xsd:dateTime)&&(?releaseDate < \"1970\"^^xsd:dateTime)).\\n    \\n    ?film wdt:P161 ?cast.\\n    \\n    } group by ?film ?name\\n      having (count(?cast))\\n      \\n    UNION\\n    select ?film ?name (avg(?cast) as ?castNum2)\\n    where{    ?film ?p wd:Q172980. #we get all the movies which are western. \\n    ?film wdt:P577 ?releaseDate.\\n    bind(STRBEFORE(str(?releaseDate), \\'-\\')AS ?year).\\n\\n    filter((?releaseDate > \"2001\"^^xsd:dateTime)&&(?releaseDate < \"2010\"^^xsd:dateTime)).\\n    \\n    ?film wdt:P161 ?cast.\\n    \\n    } group by ?film ?name\\n      having (count(?cast))\\n   }\\n    group by ?year ?name\\n    limit 20\\n   \\n\\n'\n"
     ]
    }
   ],
   "source": [
    "# write your queries\n",
    "#we use union to get two different data for two different decades.\n",
    "queryString = \"\"\"\n",
    "SELECT DISTINCT ?year ?name (count(?cast) as ?castNum)\n",
    "WHERE {\n",
    "    {\n",
    "    ?film ?p wd:Q172980. #we get all the movies which are western. \n",
    "    ?film wdt:P577 ?releaseDate. #we get release date.\n",
    "    bind(STRBEFORE(str(?releaseDate), '-')AS ?year). #we take only the year of the date.\n",
    "    \n",
    "    filter((?releaseDate > \"1961\"^^xsd:dateTime)&&(?releaseDate < \"1970\"^^xsd:dateTime)).\n",
    "    \n",
    "    ?film wdt:P161 ?cast.\n",
    "    \n",
    "    }\n",
    "    UNION\n",
    "    {\n",
    "    ?film ?p wd:Q172980. #we get all the movies which are western. \n",
    "    ?film wdt:P577 ?releaseDate.\n",
    "    bind(STRBEFORE(str(?releaseDate), '-')AS ?year).\n",
    "\n",
    "    filter((?releaseDate > \"2001\"^^xsd:dateTime)&&(?releaseDate < \"2010\"^^xsd:dateTime)).\n",
    "    \n",
    "    ?film wdt:P161 ?cast.\n",
    "    \n",
    "    }   \n",
    "   }\n",
    "    group by ?year ?name\n",
    "    limit 20\n",
    "   \n",
    "\n",
    "\"\"\"\n",
    "\n",
    "print(\"Results\")\n",
    "x=run_query(queryString)"
   ]
  },
  {
   "cell_type": "markdown",
   "id": "e2729abc",
   "metadata": {},
   "source": [
    "Final query for this task"
   ]
  },
  {
   "cell_type": "code",
   "execution_count": 306,
   "id": "af464d8d",
   "metadata": {},
   "outputs": [
    {
     "name": "stdout",
     "output_type": "stream",
     "text": [
      "Results\n",
      "[('cast', 'http://www.wikidata.org/entity/Q16889560'), ('name', 'Peggy Montgomery')]\n",
      "[('cast', 'http://www.wikidata.org/entity/Q266888'), ('name', 'Vinessa Shaw')]\n",
      "[('cast', 'http://www.wikidata.org/entity/Q7305588'), ('name', 'Redd Harper')]\n",
      "[('cast', 'http://www.wikidata.org/entity/Q3040473'), ('name', 'Duane Thompson')]\n",
      "[('cast', 'http://www.wikidata.org/entity/Q7373408'), ('name', 'Roy Stewart')]\n",
      "[('cast', 'http://www.wikidata.org/entity/Q3760487'), ('name', 'George F. Marion')]\n",
      "[('cast', 'http://www.wikidata.org/entity/Q749098'), ('name', 'Bob Burns')]\n",
      "[('cast', 'http://www.wikidata.org/entity/Q1797384'), ('name', 'Lutz Moik')]\n",
      "[('cast', 'http://www.wikidata.org/entity/Q1794297'), ('name', 'Kurt Zips')]\n",
      "[('cast', 'http://www.wikidata.org/entity/Q433198'), ('name', 'Paula Malcomson')]\n",
      "[('cast', 'http://www.wikidata.org/entity/Q232840'), ('name', 'Honor Blackman')]\n",
      "[('cast', 'http://www.wikidata.org/entity/Q455877'), ('name', 'Stole Aranđelović')]\n",
      "[('cast', 'http://www.wikidata.org/entity/Q955098'), ('name', 'James Mitchell')]\n",
      "[('cast', 'http://www.wikidata.org/entity/Q1209826'), ('name', 'Dick Van Patten')]\n",
      "[('cast', 'http://www.wikidata.org/entity/Q1645740'), ('name', 'Paul Benedict')]\n",
      "[('cast', 'http://www.wikidata.org/entity/Q1648686'), ('name', 'Red West')]\n",
      "[('cast', 'http://www.wikidata.org/entity/Q2017853'), ('name', 'John Dehner')]\n",
      "[('cast', 'http://www.wikidata.org/entity/Q202631'), ('name', 'John Archibald Wheeler')]\n",
      "[('cast', 'http://www.wikidata.org/entity/Q241471'), ('name', 'Gina Torres')]\n",
      "[('cast', 'http://www.wikidata.org/entity/Q259151'), ('name', 'Perry Lopez')]\n",
      "20\n"
     ]
    }
   ],
   "source": [
    "# write your final query\n",
    "# write your queries\n",
    "#we use union to get two different data for two different decades.\n",
    "queryString = \"\"\"\n",
    "SELECT DISTINCT ?cast ?name \n",
    "WHERE {\n",
    "      ?film ?p wd:Q172980.\n",
    "      ?film sc:name ?name.\n",
    "      ?film wdt:P161 ?cast.\n",
    "      ?cast sc:name ?name.\n",
    "   }\n",
    "    limit 20\n",
    "   \n",
    "\n",
    "\"\"\"\n",
    "\n",
    "print(\"Results\")\n",
    "x=run_query(queryString)"
   ]
  },
  {
   "cell_type": "code",
   "execution_count": null,
   "id": "2b68aa32-1269-4018-b261-2e520f50c357",
   "metadata": {},
   "outputs": [],
   "source": []
  }
 ],
 "metadata": {
  "kernelspec": {
   "display_name": "Python 3",
   "language": "python",
   "name": "python3"
  },
  "language_info": {
   "codemirror_mode": {
    "name": "ipython",
    "version": 3
   },
   "file_extension": ".py",
   "mimetype": "text/x-python",
   "name": "python",
   "nbconvert_exporter": "python",
   "pygments_lexer": "ipython3",
   "version": "3.7.10"
  }
 },
 "nbformat": 4,
 "nbformat_minor": 5
}
