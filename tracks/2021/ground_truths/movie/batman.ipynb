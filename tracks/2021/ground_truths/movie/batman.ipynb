{
 "cells": [
  {
   "cell_type": "markdown",
   "id": "7034c3bf-6eb0-4418-8687-7b9d2a501103",
   "metadata": {},
   "source": [
    "# General instructions\n",
    "\n",
    "The goal of the project is to materialize a set of **exploratory workloads** over a real-world, large-scale,  open-domain KG: [WikiData](https://www.wikidata.org/wiki/Wikidata:Main_Page)\n",
    "\n",
    "An exploratory workload  is composed by a set of queries, where each query is related to the information obtained previously.\n",
    "\n",
    "An exploratory workload starts with a usually vague, open ended question, and does not assume the person issuing the workload has a clear understanding of the data contained in the target database or its structure.\n",
    "\n",
    "Remeber that:\n",
    "\n",
    "1. All the queries must run in the python notebook\n",
    "2. You can use classes and properties only if you find them via a SPARQL query that must be present in the notebook\n",
    "3. You do not delete useless queries. Keep everything that is synthatically valid \n",
    "\n",
    "```\n",
    "?p <http://schema.org/name> ?name .\n",
    "```\n",
    "    \n",
    "    is the BGP returning a human-readable name of a property or a class in Wikidata.\n",
    "    \n",
    "    "
   ]
  },
  {
   "cell_type": "code",
   "execution_count": 36,
   "id": "3605c9d5-5371-49a5-be8d-d66e8f417139",
   "metadata": {
    "tags": []
   },
   "outputs": [],
   "source": [
    "## SETUP used later\n",
    "\n",
    "import sys\n",
    "import os\n",
    "import json\n",
    "import pandas as pd\n",
    "sys.path.insert(1, '/locale/data/jupyter/prando/wd-project/src')\n",
    "import gt_modules.evaluation as evaluation\n",
    "from SPARQLWrapper import SPARQLWrapper, JSON\n",
    "\n",
    "\n",
    "prefixString = \"\"\"\n",
    "##-batman_g_t-##\n",
    "PREFIX wd: <http://www.wikidata.org/entity/> \n",
    "PREFIX wdt: <http://www.wikidata.org/prop/direct/> \n",
    "PREFIX sc: <http://schema.org/>\n",
    "\"\"\"\n",
    "\n",
    "# select and construct queries\n",
    "def run_query(queryString,verbose = True):\n",
    "    to_run = prefixString + \"\\n\" + queryString\n",
    "\n",
    "    sparql = SPARQLWrapper(\"http://gracevirtuoso.dei.unipd.it/sparql\")\n",
    "    sparql.setTimeout(300)\n",
    "    sparql.setReturnFormat(JSON)\n",
    "    sparql.setQuery(to_run)\n",
    "\n",
    "    try :\n",
    "        results = sparql.query()\n",
    "        json_results = results.convert()\n",
    "        if len(json_results['results']['bindings'])==0:\n",
    "            print(\"Empty\")\n",
    "            return []\n",
    "        array = []\n",
    "        for bindings in json_results['results']['bindings']:\n",
    "            app =  [ (var, value['value'])  for var, value in bindings.items() ] \n",
    "            if verbose:\n",
    "                print( app)\n",
    "            array.append(app)\n",
    "        if verbose:\n",
    "            print(len(array))\n",
    "        return array\n",
    "\n",
    "    except Exception as e :\n",
    "        print(\"The operation failed\", e)\n",
    "    \n",
    "# ASk queries\n",
    "def run_ask_query(queryString):\n",
    "    to_run = prefixString + \"\\n\" + queryString\n",
    "\n",
    "    sparql = SPARQLWrapper(\"http://gracevirtuoso.dei.unipd.it/sparql\")\n",
    "    sparql.setTimeout(300)\n",
    "    sparql.setReturnFormat(JSON)\n",
    "    sparql.setQuery(to_run)\n",
    "\n",
    "    try :\n",
    "        return sparql.query().convert()\n",
    "\n",
    "    except Exception as e :\n",
    "        print(\"The operation failed\", e)"
   ]
  },
  {
   "cell_type": "markdown",
   "id": "d477a59c-a68c-4c8f-9f97-8ca5294d7d27",
   "metadata": {},
   "source": [
    "# Movie Workflow Series (\"The Batman movies explorative search\") \n",
    "\n",
    "Consider the following exploratory scenario:\n",
    "\n",
    "\n",
    "> we are interested in movies about the Batman. We want to investigate the differences between the variuos series of films produced in different decades. \n",
    "\n",
    "\n",
    "## Useful URIs for the current workflow\n",
    "The following are given:\n",
    "\n",
    "| IRI           | Description   | Role      |\n",
    "| -----------   | -----------   |-----------|\n",
    "| `wdt:P1647`   | subproperty   | predicate |\n",
    "| `wdt:P31`     | instance of   | predicate |\n",
    "| `wdt:P279`    | subclass      | predicate |\n",
    "| `wdt:P4969`    | derivative work      | predicate |\n",
    "| `wd:Q2695156` | Batman        | node |\n",
    "| `wd:Q25191` | Christopher Nolan         | node |\n",
    "| `wd:Q12859908'` | The Dark Knight Trilogy | node |\n",
    "\n",
    "\n",
    "\n",
    "Also consider\n",
    "\n",
    "```\n",
    "wd:Q25191 ?p ?obj .\n",
    "```\n",
    "\n",
    "is the BGP to retrieve all **properties of Christopher Nolan**\n",
    "\n",
    "The workload should\n",
    "\n",
    "\n",
    "1. Investigate the works (aka derivative works) related to the Batman and individuate the movies. Return the movies along with the year of production and the director.\n",
    "\n",
    "2. Return the main Batman movie series produced in the last four decades and compare them in terms of length, number of actors involved and costs.\n",
    "\n",
    "3. Investigate what are the workers (writers, actors, etc.) who had a role in more Batman movies so far.\n",
    "\n",
    "4. Compare the ratings of the single movies and of the series. Indentify the movie with highest rating from the critics and the \"best\" series overall\n",
    "\n",
    "5. Return how many actors who are members of the cast of the \"Dark Knight Trilogy\" by Christopher Nolan have [Kavin Bacon number](https://en.wikipedia.org/wiki/Six_Degrees_of_Kevin_Bacon#:~:text=Kevin%20Bacon%20himself%20has%20a,Bacon%20number%20is%20N%2B1.) equal to 2 "
   ]
  },
  {
   "cell_type": "code",
   "execution_count": 5,
   "id": "2c19343f-cfab-4df5-9b7b-35dd87baa629",
   "metadata": {},
   "outputs": [
    {
     "name": "stdout",
     "output_type": "stream",
     "text": [
      "The index of this workflow is: 5_1\n"
     ]
    }
   ],
   "source": [
    "## startup the evaluation\n",
    "# setup the file and create the empty json\n",
    "ipname = \"batman.ipynb\"\n",
    "pt = os.getcwd()+os.sep+ipname\n",
    "evaluation.setup(pt)"
   ]
  },
  {
   "cell_type": "markdown",
   "id": "a1307e92-4efa-4bfc-b228-5d6c03c8c916",
   "metadata": {
    "tags": []
   },
   "source": [
    "## Task 1\n",
    "Investigate the works (aka derivative works) related to the Batman and individuate the movies. Return the movies along with the year of production and the director."
   ]
  },
  {
   "cell_type": "code",
   "execution_count": 6,
   "id": "21f54871-0000-43b7-acc2-7298e73a7810",
   "metadata": {},
   "outputs": [
    {
     "name": "stdout",
     "output_type": "stream",
     "text": [
      "Results\n",
      "[('obj', 'http://www.wikidata.org/entity/Q1339570'), ('pName', 'Batman Beyond')]\n",
      "[('obj', 'http://www.wikidata.org/entity/Q635933'), ('pName', 'The Batman')]\n",
      "[('obj', 'http://www.wikidata.org/entity/Q673517'), ('pName', 'Batman: The Animated Series')]\n",
      "[('obj', 'http://www.wikidata.org/entity/Q958989'), ('pName', 'Nite Owl')]\n",
      "[('obj', 'http://www.wikidata.org/entity/Q221345'), ('pName', 'Batman Forever')]\n",
      "[('obj', 'http://www.wikidata.org/entity/Q94496874'), ('pName', 'Bruce Wayne')]\n",
      "[('obj', 'http://www.wikidata.org/entity/Q288811'), ('pName', 'Batman: Arkham City')]\n",
      "[('obj', 'http://www.wikidata.org/entity/Q21095079'), ('pName', 'Batman: Bad Blood')]\n",
      "[('obj', 'http://www.wikidata.org/entity/Q189054'), ('pName', 'Batman Returns')]\n",
      "[('obj', 'http://www.wikidata.org/entity/Q10826261'), ('pName', 'Batman: Arkham Origins')]\n",
      "[('obj', 'http://www.wikidata.org/entity/Q10856847'), ('pName', 'Batman: Arkham Origins Blackgate')]\n",
      "[('obj', 'http://www.wikidata.org/entity/Q15091564'), ('pName', 'Batman: Arkham Origins')]\n",
      "[('obj', 'http://www.wikidata.org/entity/Q15891648'), ('pName', 'Batman: Arkham Knight')]\n",
      "[('obj', 'http://www.wikidata.org/entity/Q116852'), ('pName', 'Batman')]\n",
      "[('obj', 'http://www.wikidata.org/entity/Q64658410'), ('pName', 'Batman')]\n",
      "[('obj', 'http://www.wikidata.org/entity/Q163872'), ('pName', 'The Dark Knight')]\n",
      "[('obj', 'http://www.wikidata.org/entity/Q746228'), ('pName', 'Batman: Arkham Asylum')]\n",
      "[('obj', 'http://www.wikidata.org/entity/Q166262'), ('pName', 'Batman Begins')]\n",
      "[('obj', 'http://www.wikidata.org/entity/Q189330'), ('pName', 'The Dark Knight Rises')]\n",
      "[('obj', 'http://www.wikidata.org/entity/Q276523'), ('pName', 'Batman & Robin')]\n",
      "[('obj', 'http://www.wikidata.org/entity/Q61117344'), ('pName', 'The Batman')]\n",
      "[('obj', 'http://www.wikidata.org/entity/Q3636199'), ('pName', 'Batman (Earth-Two)')]\n",
      "[('obj', 'http://www.wikidata.org/entity/Q4869384'), ('pName', 'Batman')]\n",
      "[('obj', 'http://www.wikidata.org/entity/Q558962'), ('pName', 'Batman: Dark Tomorrow')]\n",
      "[('obj', 'http://www.wikidata.org/entity/Q2604987'), ('pName', 'Batzarro')]\n",
      "[('obj', 'http://www.wikidata.org/entity/Q78607187'), ('pName', 'Bruce Wayne')]\n",
      "[('obj', 'http://www.wikidata.org/entity/Q25442668'), ('pName', 'Batman')]\n",
      "[('obj', 'http://www.wikidata.org/entity/Q3636202'), ('pName', 'Batman of Zur-En-Arrh')]\n",
      "[('obj', 'http://www.wikidata.org/entity/Q39075549'), ('pName', 'Bruce Wayne')]\n",
      "[('obj', 'http://www.wikidata.org/entity/Q16155090'), ('pName', 'Batman')]\n",
      "[('obj', 'http://www.wikidata.org/entity/Q2438285'), ('pName', 'Dark Claw')]\n",
      "[('obj', 'http://www.wikidata.org/entity/Q57394119'), ('pName', 'Batman')]\n",
      "32\n"
     ]
    }
   ],
   "source": [
    "# show all the derivative works related to the batman\n",
    "queryString = \"\"\"\n",
    "SELECT DISTINCT ?obj ?pName\n",
    "WHERE { \n",
    "    wd:Q2695156 wdt:P4969 ?obj .\n",
    "    ?obj <http://schema.org/name> ?pName .\n",
    "\n",
    "}\n",
    "\"\"\"\n",
    "\n",
    "print(\"Results\")\n",
    "x = run_query(queryString)"
   ]
  },
  {
   "cell_type": "markdown",
   "id": "df10673c-157d-436d-bcf6-d55dc19cb57e",
   "metadata": {},
   "source": [
    "To individuate the movies I must know which is the class of films"
   ]
  },
  {
   "cell_type": "code",
   "execution_count": 7,
   "id": "173d1ac5-172c-4688-9d24-9206ff6df513",
   "metadata": {},
   "outputs": [
    {
     "name": "stdout",
     "output_type": "stream",
     "text": [
      "Results\n",
      "[('inst', 'http://www.wikidata.org/entity/Q11424'), ('iName', 'film')]\n",
      "[('inst', 'http://www.wikidata.org/entity/Q15632617'), ('iName', 'fictional human')]\n",
      "[('inst', 'http://www.wikidata.org/entity/Q15711870'), ('iName', 'animated character')]\n",
      "[('inst', 'http://www.wikidata.org/entity/Q15773317'), ('iName', 'television character')]\n",
      "[('inst', 'http://www.wikidata.org/entity/Q5398426'), ('iName', 'television series')]\n",
      "[('inst', 'http://www.wikidata.org/entity/Q581714'), ('iName', 'animated series')]\n",
      "[('inst', 'http://www.wikidata.org/entity/Q7889'), ('iName', 'video game')]\n",
      "[('inst', 'http://www.wikidata.org/entity/Q1114461'), ('iName', 'comics character')]\n",
      "[('inst', 'http://www.wikidata.org/entity/Q1307329'), ('iName', 'extraterrestrials in fiction')]\n",
      "[('inst', 'http://www.wikidata.org/entity/Q1569167'), ('iName', 'video game character')]\n",
      "[('inst', 'http://www.wikidata.org/entity/Q95074'), ('iName', 'fictional character')]\n",
      "[('inst', 'http://www.wikidata.org/entity/Q63998451'), ('iName', 'superhero film character')]\n",
      "[('inst', 'http://www.wikidata.org/entity/Q3656924'), ('iName', 'fictional detective')]\n",
      "[('inst', 'http://www.wikidata.org/entity/Q18011172'), ('iName', 'film project')]\n",
      "14\n"
     ]
    }
   ],
   "source": [
    "# find the instances of this derivative works\n",
    "queryString = \"\"\"\n",
    "SELECT DISTINCT ?inst ?iName\n",
    "WHERE { \n",
    "    wd:Q2695156 wdt:P4969 ?obj .\n",
    "    ?obj wdt:P31 ?inst.\n",
    "    ?inst <http://schema.org/name> ?iName .\n",
    "\n",
    "}\n",
    "\"\"\"\n",
    "\n",
    "print(\"Results\")\n",
    "x = run_query(queryString)"
   ]
  },
  {
   "cell_type": "markdown",
   "id": "866887c0-9b14-4310-aa61-e48baf73f497",
   "metadata": {},
   "source": [
    "`wd:Q11424` is the class of films. I can show all the films of the Batman"
   ]
  },
  {
   "cell_type": "code",
   "execution_count": 8,
   "id": "33f5777e-9bcf-4fde-b213-bc5d1a7a0b15",
   "metadata": {},
   "outputs": [
    {
     "name": "stdout",
     "output_type": "stream",
     "text": [
      "Results\n",
      "[('film', 'http://www.wikidata.org/entity/Q221345'), ('name', 'Batman Forever')]\n",
      "[('film', 'http://www.wikidata.org/entity/Q21095079'), ('name', 'Batman: Bad Blood')]\n",
      "[('film', 'http://www.wikidata.org/entity/Q189054'), ('name', 'Batman Returns')]\n",
      "[('film', 'http://www.wikidata.org/entity/Q116852'), ('name', 'Batman')]\n",
      "[('film', 'http://www.wikidata.org/entity/Q163872'), ('name', 'The Dark Knight')]\n",
      "[('film', 'http://www.wikidata.org/entity/Q166262'), ('name', 'Batman Begins')]\n",
      "[('film', 'http://www.wikidata.org/entity/Q189330'), ('name', 'The Dark Knight Rises')]\n",
      "[('film', 'http://www.wikidata.org/entity/Q276523'), ('name', 'Batman & Robin')]\n",
      "8\n"
     ]
    }
   ],
   "source": [
    "# show the batman movies\n",
    "queryString = \"\"\"\n",
    "SELECT DISTINCT ?film ?name\n",
    "WHERE { \n",
    "    wd:Q2695156 wdt:P4969 ?film .\n",
    "    ?film wdt:P31 wd:Q11424.\n",
    "    ?film <http://schema.org/name> ?name .\n",
    "\n",
    "}\n",
    "\"\"\"\n",
    "\n",
    "print(\"Results\")\n",
    "x = run_query(queryString)"
   ]
  },
  {
   "cell_type": "markdown",
   "id": "53308679-c853-47e3-bd9c-1c8ae33424c0",
   "metadata": {},
   "source": [
    "To return the movies with the year of production and the directors I have to find this two properties. "
   ]
  },
  {
   "cell_type": "code",
   "execution_count": 9,
   "id": "6783656f-02d6-4718-92f3-7ec23b45a8fa",
   "metadata": {},
   "outputs": [
    {
     "name": "stdout",
     "output_type": "stream",
     "text": [
      "Results\n",
      "[('prop', 'http://www.wikidata.org/prop/direct/P2529'), ('name', 'ČSFD film ID')]\n",
      "[('prop', 'http://www.wikidata.org/prop/direct/P1476'), ('name', 'title')]\n",
      "[('prop', 'http://www.wikidata.org/prop/direct/P577'), ('name', 'publication date')]\n",
      "[('prop', 'http://www.wikidata.org/prop/direct/P2754'), ('name', 'production date')]\n",
      "[('prop', 'http://www.wikidata.org/prop/direct/P6398'), ('name', 'iTunes movie ID')]\n",
      "[('prop', 'http://www.wikidata.org/prop/direct/P2755'), ('name', 'exploitation visa number')]\n",
      "[('prop', 'http://www.wikidata.org/prop/direct/P3143'), ('name', 'elFilm film ID')]\n",
      "[('prop', 'http://www.wikidata.org/prop/direct/P3135'), ('name', 'elCinema film ID')]\n",
      "[('prop', 'http://www.wikidata.org/prop/direct/P2047'), ('name', 'duration')]\n",
      "[('prop', 'http://www.wikidata.org/prop/direct/P2130'), ('name', 'cost')]\n",
      "[('prop', 'http://www.wikidata.org/prop/direct/P1638'), ('name', 'codename')]\n",
      "[('prop', 'http://www.wikidata.org/prop/direct/P4786'), ('name', 'cinematografo film ID')]\n",
      "[('prop', 'http://www.wikidata.org/prop/direct/P3129'), ('name', 'cine.gr film ID')]\n",
      "[('prop', 'http://www.wikidata.org/prop/direct/P2142'), ('name', 'box office')]\n",
      "[('prop', 'http://www.wikidata.org/prop/direct/P1651'), ('name', 'YouTube video ID')]\n",
      "[('prop', 'http://www.wikidata.org/prop/direct/P4839'), ('name', 'Wolfram Language entity code')]\n",
      "[('prop', 'http://www.wikidata.org/prop/direct/P7334'), ('name', 'Vudu video ID')]\n",
      "[('prop', 'http://www.wikidata.org/prop/direct/P214'), ('name', 'VIAF ID')]\n",
      "[('prop', 'http://www.wikidata.org/prop/direct/P9760'), ('name', \"Treccani's Enciclopedia del Cinema ID\")]\n",
      "[('prop', 'http://www.wikidata.org/prop/direct/P8013'), ('name', 'Trakt.tv ID')]\n",
      "[('prop', 'http://www.wikidata.org/prop/direct/P3808'), ('name', 'The Numbers movie ID')]\n",
      "[('prop', 'http://www.wikidata.org/prop/direct/P5357'), ('name', 'The Encyclopedia of Science Fiction ID')]\n",
      "[('prop', 'http://www.wikidata.org/prop/direct/P2638'), ('name', 'TV.com ID')]\n",
      "[('prop', 'http://www.wikidata.org/prop/direct/P6839'), ('name', 'TV Tropes identifier')]\n",
      "[('prop', 'http://www.wikidata.org/prop/direct/P6383'), ('name', 'TV Spielfilm film ID')]\n",
      "[('prop', 'http://www.wikidata.org/prop/direct/P3804'), ('name', 'TV Guide show ID (former scheme)')]\n",
      "[('prop', 'http://www.wikidata.org/prop/direct/P4947'), ('name', 'TMDb movie ID')]\n",
      "[('prop', 'http://www.wikidata.org/prop/direct/P2631'), ('name', 'TCM Movie Database film ID')]\n",
      "[('prop', 'http://www.wikidata.org/prop/direct/P2334'), ('name', 'Swedish Film Database film ID')]\n",
      "[('prop', 'http://www.wikidata.org/prop/direct/P3145'), ('name', 'Sratim ID')]\n",
      "[('prop', 'http://www.wikidata.org/prop/direct/P3854'), ('name', 'Soundtrack Collector ID')]\n",
      "[('prop', 'http://www.wikidata.org/prop/direct/P9205'), ('name', 'Sinemalar title ID')]\n",
      "[('prop', 'http://www.wikidata.org/prop/direct/P6133'), ('name', 'Siamzone film ID')]\n",
      "[('prop', 'http://www.wikidata.org/prop/direct/P6584'), ('name', 'Scripts.com script ID')]\n",
      "[('prop', 'http://www.wikidata.org/prop/direct/P2518'), ('name', 'Scope.dk film ID')]\n",
      "[('prop', 'http://www.wikidata.org/prop/direct/P1258'), ('name', 'Rotten Tomatoes ID')]\n",
      "[('prop', 'http://www.wikidata.org/prop/direct/P6932'), ('name', 'RogerEbert.com film ID')]\n",
      "[('prop', 'http://www.wikidata.org/prop/direct/P3417'), ('name', 'Quora topic ID')]\n",
      "[('prop', 'http://www.wikidata.org/prop/direct/P4515'), ('name', 'Prisma ID')]\n",
      "[('prop', 'http://www.wikidata.org/prop/direct/P905'), ('name', 'PORT film ID')]\n",
      "[('prop', 'http://www.wikidata.org/prop/direct/P3302'), ('name', 'Open Media Database film ID')]\n",
      "[('prop', 'http://www.wikidata.org/prop/direct/P3138'), ('name', 'OFDb film ID')]\n",
      "[('prop', 'http://www.wikidata.org/prop/direct/P1874'), ('name', 'Netflix ID')]\n",
      "[('prop', 'http://www.wikidata.org/prop/direct/P3265'), ('name', 'Myspace ID')]\n",
      "[('prop', 'http://www.wikidata.org/prop/direct/P2014'), ('name', 'Museum of Modern Art work ID')]\n",
      "[('prop', 'http://www.wikidata.org/prop/direct/P6458'), ('name', 'Mtime movie ID')]\n",
      "[('prop', 'http://www.wikidata.org/prop/direct/P5990'), ('name', 'Movies Anywhere ID')]\n",
      "[('prop', 'http://www.wikidata.org/prop/direct/P4783'), ('name', 'Movieplayer film ID')]\n",
      "[('prop', 'http://www.wikidata.org/prop/direct/P5786'), ('name', 'Moviepilot.de film ID')]\n",
      "[('prop', 'http://www.wikidata.org/prop/direct/P1970'), ('name', 'MovieMeter film ID')]\n",
      "[('prop', 'http://www.wikidata.org/prop/direct/P2509'), ('name', 'Movie Walker film ID')]\n",
      "[('prop', 'http://www.wikidata.org/prop/direct/P8033'), ('name', 'Movie Review Query Engine ID')]\n",
      "[('prop', 'http://www.wikidata.org/prop/direct/P1712'), ('name', 'Metacritic ID')]\n",
      "[('prop', 'http://www.wikidata.org/prop/direct/P8918'), ('name', 'Max Movie film ID')]\n",
      "[('prop', 'http://www.wikidata.org/prop/direct/P4780'), ('name', 'MYmovies movie ID')]\n",
      "[('prop', 'http://www.wikidata.org/prop/direct/P7299'), ('name', 'MUBI film ID')]\n",
      "[('prop', 'http://www.wikidata.org/prop/direct/P244'), ('name', 'Library of Congress authority ID')]\n",
      "[('prop', 'http://www.wikidata.org/prop/direct/P6127'), ('name', 'Letterboxd film ID')]\n",
      "[('prop', 'http://www.wikidata.org/prop/direct/P3107'), ('name', 'LdiF ID')]\n",
      "[('prop', 'http://www.wikidata.org/prop/direct/P4282'), ('name', 'LUMIERE film ID')]\n",
      "[('prop', 'http://www.wikidata.org/prop/direct/P3340'), ('name', 'Kvikmyndir film ID')]\n",
      "[('prop', 'http://www.wikidata.org/prop/direct/P8847'), ('name', 'Kinorium movie ID')]\n",
      "[('prop', 'http://www.wikidata.org/prop/direct/P2603'), ('name', 'Kinopoisk film ID')]\n",
      "[('prop', 'http://www.wikidata.org/prop/direct/P5311'), ('name', 'Kino-teatr.ua film ID')]\n",
      "[('prop', 'http://www.wikidata.org/prop/direct/P2508'), ('name', 'KINENOTE film ID')]\n",
      "[('prop', 'http://www.wikidata.org/prop/direct/P5099'), ('name', 'Il mondo dei doppiatori ID')]\n",
      "[('prop', 'http://www.wikidata.org/prop/direct/P269'), ('name', 'IdRef ID')]\n",
      "[('prop', 'http://www.wikidata.org/prop/direct/P3110'), ('name', 'ISzDb film ID')]\n",
      "[('prop', 'http://www.wikidata.org/prop/direct/P3212'), ('name', 'ISAN')]\n",
      "[('prop', 'http://www.wikidata.org/prop/direct/P345'), ('name', 'IMDb ID')]\n",
      "[('prop', 'http://www.wikidata.org/prop/direct/P5865'), ('name', 'IGN film ID')]\n",
      "[('prop', 'http://www.wikidata.org/prop/direct/P5128'), ('name', 'ICAA film catalogue ID')]\n",
      "[('prop', 'http://www.wikidata.org/prop/direct/P6562'), ('name', 'Google Play Movies & TV ID')]\n",
      "[('prop', 'http://www.wikidata.org/prop/direct/P2671'), ('name', 'Google Knowledge Graph ID')]\n",
      "[('prop', 'http://www.wikidata.org/prop/direct/P227'), ('name', 'GND ID')]\n",
      "[('prop', 'http://www.wikidata.org/prop/direct/P646'), ('name', 'Freebase ID')]\n",
      "[('prop', 'http://www.wikidata.org/prop/direct/P5032'), ('name', 'Filmweb.pl film ID')]\n",
      "[('prop', 'http://www.wikidata.org/prop/direct/P3995'), ('name', 'Filmweb.pl ID')]\n",
      "[('prop', 'http://www.wikidata.org/prop/direct/P5233'), ('name', 'Filmow ID')]\n",
      "[('prop', 'http://www.wikidata.org/prop/direct/P7975'), ('name', 'Filmfront film ID')]\n",
      "[('prop', 'http://www.wikidata.org/prop/direct/P5253'), ('name', 'FilmTv.it movie ID')]\n",
      "[('prop', 'http://www.wikidata.org/prop/direct/P8796'), ('name', 'FilmPolski press collection ID')]\n",
      "[('prop', 'http://www.wikidata.org/prop/direct/P480'), ('name', 'FilmAffinity ID')]\n",
      "[('prop', 'http://www.wikidata.org/prop/direct/P6262'), ('name', 'Fandom article ID')]\n",
      "[('prop', 'http://www.wikidata.org/prop/direct/P7970'), ('name', 'FandangoNow ID')]\n",
      "[('prop', 'http://www.wikidata.org/prop/direct/P5693'), ('name', 'Fandango film ID')]\n",
      "[('prop', 'http://www.wikidata.org/prop/direct/P2013'), ('name', 'Facebook ID')]\n",
      "[('prop', 'http://www.wikidata.org/prop/direct/P1417'), ('name', 'Encyclopædia Britannica Online ID')]\n",
      "[('prop', 'http://www.wikidata.org/prop/direct/P2346'), ('name', 'Elonet movie ID')]\n",
      "[('prop', 'http://www.wikidata.org/prop/direct/P2704'), ('name', 'EIDR content ID')]\n",
      "[('prop', 'http://www.wikidata.org/prop/direct/P3141'), ('name', 'EDb film ID')]\n",
      "[('prop', 'http://www.wikidata.org/prop/direct/P4529'), ('name', 'Douban film ID')]\n",
      "[('prop', 'http://www.wikidata.org/prop/direct/P3844'), ('name', 'Deutsche Synchronkartei film ID')]\n",
      "[('prop', 'http://www.wikidata.org/prop/direct/P7978'), ('name', 'Decine21 film ID')]\n",
      "[('prop', 'http://www.wikidata.org/prop/direct/P4277'), ('name', 'Daum movie ID')]\n",
      "[('prop', 'http://www.wikidata.org/prop/direct/P1804'), ('name', 'DNF film ID')]\n",
      "[('prop', 'http://www.wikidata.org/prop/direct/P6359'), ('name', 'Crew United title ID')]\n",
      "[('prop', 'http://www.wikidata.org/prop/direct/P935'), ('name', 'Commons gallery')]\n",
      "[('prop', 'http://www.wikidata.org/prop/direct/P373'), ('name', 'Commons category')]\n",
      "[('prop', 'http://www.wikidata.org/prop/direct/P7091'), ('name', 'Common Sense Media ID')]\n",
      "[('prop', 'http://www.wikidata.org/prop/direct/P5905'), ('name', 'Comic Vine ID')]\n",
      "[('prop', 'http://www.wikidata.org/prop/direct/P8958'), ('name', 'ClassInd audiovisual work ID')]\n",
      "[('prop', 'http://www.wikidata.org/prop/direct/P4276'), ('name', 'Cinémathèque québécoise work identifier')]\n",
      "[('prop', 'http://www.wikidata.org/prop/direct/P3203'), ('name', 'Ciné-Ressources film ID')]\n",
      "[('prop', 'http://www.wikidata.org/prop/direct/P3077'), ('name', 'Cineplex Germany film ID')]\n",
      "[('prop', 'http://www.wikidata.org/prop/direct/P9204'), ('name', 'CinemaRX title ID')]\n",
      "[('prop', 'http://www.wikidata.org/prop/direct/P3933'), ('name', 'Cinema.de ID')]\n",
      "[('prop', 'http://www.wikidata.org/prop/direct/P4665'), ('name', 'CineMagia title ID')]\n",
      "[('prop', 'http://www.wikidata.org/prop/direct/P9203'), ('name', 'CineFAN.ro title ID')]\n",
      "[('prop', 'http://www.wikidata.org/prop/direct/P9146'), ('name', 'CITWF title ID')]\n",
      "[('prop', 'http://www.wikidata.org/prop/direct/P1273'), ('name', 'CANTIC ID')]\n",
      "[('prop', 'http://www.wikidata.org/prop/direct/P1237'), ('name', 'Box Office Mojo film ID (former scheme)')]\n",
      "[('prop', 'http://www.wikidata.org/prop/direct/P268'), ('name', 'Bibliothèque nationale de France ID')]\n",
      "[('prop', 'http://www.wikidata.org/prop/direct/P950'), ('name', 'Biblioteca Nacional de España ID')]\n",
      "[('prop', 'http://www.wikidata.org/prop/direct/P4632'), ('name', 'Bechdel Test Movie List ID')]\n",
      "[('prop', 'http://www.wikidata.org/prop/direct/P2581'), ('name', 'BabelNet ID')]\n",
      "[('prop', 'http://www.wikidata.org/prop/direct/P2703'), ('name', 'BFI National Archive work ID')]\n",
      "[('prop', 'http://www.wikidata.org/prop/direct/P4438'), ('name', 'BFI Films, TV and people ID')]\n",
      "[('prop', 'http://www.wikidata.org/prop/direct/P9586'), ('name', 'Apple TV movie ID')]\n",
      "[('prop', 'http://www.wikidata.org/prop/direct/P8055'), ('name', 'Amazon.com Prime Video ID')]\n",
      "[('prop', 'http://www.wikidata.org/prop/direct/P1265'), ('name', 'AlloCiné film ID')]\n",
      "[('prop', 'http://www.wikidata.org/prop/direct/P2465'), ('name', 'Allcinema film ID')]\n",
      "[('prop', 'http://www.wikidata.org/prop/direct/P1562'), ('name', 'AllMovie title ID')]\n",
      "[('prop', 'http://www.wikidata.org/prop/direct/P6145'), ('name', 'Academy Awards Database film ID')]\n",
      "[('prop', 'http://www.wikidata.org/prop/direct/P7118'), ('name', 'AMPAS collections film ID')]\n",
      "[('prop', 'http://www.wikidata.org/prop/direct/P3593'), ('name', 'AFI Catalog of Feature Films ID')]\n",
      "126\n"
     ]
    }
   ],
   "source": [
    "# find the year of production\n",
    "queryString = \"\"\"\n",
    "SELECT DISTINCT ?prop ?name\n",
    "WHERE { \n",
    "    wd:Q2695156 wdt:P4969 ?film .\n",
    "    ?film wdt:P31 wd:Q11424;\n",
    "          ?prop ?o.\n",
    "    ?prop sc:name ?name.\n",
    "    FILTER(isLiteral(?o)).\n",
    "} \n",
    "ORDER BY DESC (?name)\n",
    "\"\"\"\n",
    "\n",
    "print(\"Results\")\n",
    "x = run_query(queryString)"
   ]
  },
  {
   "cell_type": "markdown",
   "id": "7e2b76f9-c375-4926-9ef8-65f5b19038ff",
   "metadata": {},
   "source": [
    "Production date: `wdt:P2754`\n",
    "Publication date: `wdt:P577`"
   ]
  },
  {
   "cell_type": "code",
   "execution_count": 10,
   "id": "2e1452cf-2483-42e7-bc18-10782c46368e",
   "metadata": {},
   "outputs": [
    {
     "name": "stdout",
     "output_type": "stream",
     "text": [
      "Results\n",
      "[('film', 'http://www.wikidata.org/entity/Q116852'), ('name', 'Batman'), ('date', '1989-01-01T00:00:00Z')]\n",
      "1\n"
     ]
    }
   ],
   "source": [
    "# print the year of production\n",
    "queryString = \"\"\"\n",
    "SELECT DISTINCT ?film ?name ?date\n",
    "WHERE { \n",
    "    wd:Q2695156 wdt:P4969 ?film .\n",
    "    ?film wdt:P31 wd:Q11424;\n",
    "          wdt:P2754 ?date.\n",
    "    ?film sc:name ?name.\n",
    "}\n",
    "\"\"\"\n",
    "\n",
    "print(\"Results\")\n",
    "x = run_query(queryString)"
   ]
  },
  {
   "cell_type": "markdown",
   "id": "cc3227b0-7d75-4fe1-bd62-03eb04cf099a",
   "metadata": {},
   "source": [
    "Since the production date exists only for one element, I rewrite the query using the publication date."
   ]
  },
  {
   "cell_type": "code",
   "execution_count": 11,
   "id": "0633d416-ab82-4789-b55a-1686bc91b373",
   "metadata": {},
   "outputs": [
    {
     "name": "stdout",
     "output_type": "stream",
     "text": [
      "Results\n",
      "[('film', 'http://www.wikidata.org/entity/Q221345'), ('name', 'Batman Forever'), ('date', '1995-06-16T00:00:00Z')]\n",
      "[('film', 'http://www.wikidata.org/entity/Q221345'), ('name', 'Batman Forever'), ('date', '1995-07-14T00:00:00Z')]\n",
      "[('film', 'http://www.wikidata.org/entity/Q221345'), ('name', 'Batman Forever'), ('date', '1995-08-03T00:00:00Z')]\n",
      "[('film', 'http://www.wikidata.org/entity/Q21095079'), ('name', 'Batman: Bad Blood'), ('date', '2016-01-01T00:00:00Z')]\n",
      "[('film', 'http://www.wikidata.org/entity/Q21095079'), ('name', 'Batman: Bad Blood'), ('date', '2016-08-04T00:00:00Z')]\n",
      "[('film', 'http://www.wikidata.org/entity/Q189054'), ('name', 'Batman Returns'), ('date', '1992-06-16T00:00:00Z')]\n",
      "[('film', 'http://www.wikidata.org/entity/Q189054'), ('name', 'Batman Returns'), ('date', '1992-06-19T00:00:00Z')]\n",
      "[('film', 'http://www.wikidata.org/entity/Q189054'), ('name', 'Batman Returns'), ('date', '1992-07-16T00:00:00Z')]\n",
      "[('film', 'http://www.wikidata.org/entity/Q189054'), ('name', 'Batman Returns'), ('date', '1992-07-31T00:00:00Z')]\n",
      "[('film', 'http://www.wikidata.org/entity/Q116852'), ('name', 'Batman'), ('date', '1989-06-23T00:00:00Z')]\n",
      "[('film', 'http://www.wikidata.org/entity/Q116852'), ('name', 'Batman'), ('date', '1989-09-13T00:00:00Z')]\n",
      "[('film', 'http://www.wikidata.org/entity/Q116852'), ('name', 'Batman'), ('date', '1989-10-20T00:00:00Z')]\n",
      "[('film', 'http://www.wikidata.org/entity/Q116852'), ('name', 'Batman'), ('date', '1989-10-26T00:00:00Z')]\n",
      "[('film', 'http://www.wikidata.org/entity/Q163872'), ('name', 'The Dark Knight'), ('date', '2008-07-18T00:00:00Z')]\n",
      "[('film', 'http://www.wikidata.org/entity/Q163872'), ('name', 'The Dark Knight'), ('date', '2008-07-25T00:00:00Z')]\n",
      "[('film', 'http://www.wikidata.org/entity/Q163872'), ('name', 'The Dark Knight'), ('date', '2008-08-13T00:00:00Z')]\n",
      "[('film', 'http://www.wikidata.org/entity/Q163872'), ('name', 'The Dark Knight'), ('date', '2008-08-21T00:00:00Z')]\n",
      "[('film', 'http://www.wikidata.org/entity/Q166262'), ('name', 'Batman Begins'), ('date', '2005-06-15T00:00:00Z')]\n",
      "[('film', 'http://www.wikidata.org/entity/Q166262'), ('name', 'Batman Begins'), ('date', '2005-06-16T00:00:00Z')]\n",
      "[('film', 'http://www.wikidata.org/entity/Q166262'), ('name', 'Batman Begins'), ('date', '2005-07-27T00:00:00Z')]\n",
      "[('film', 'http://www.wikidata.org/entity/Q189330'), ('name', 'The Dark Knight Rises'), ('date', '2012-07-20T00:00:00Z')]\n",
      "[('film', 'http://www.wikidata.org/entity/Q189330'), ('name', 'The Dark Knight Rises'), ('date', '2012-07-25T00:00:00Z')]\n",
      "[('film', 'http://www.wikidata.org/entity/Q189330'), ('name', 'The Dark Knight Rises'), ('date', '2012-07-26T00:00:00Z')]\n",
      "[('film', 'http://www.wikidata.org/entity/Q276523'), ('name', 'Batman & Robin'), ('date', '1997-06-20T00:00:00Z')]\n",
      "[('film', 'http://www.wikidata.org/entity/Q276523'), ('name', 'Batman & Robin'), ('date', '1997-06-26T00:00:00Z')]\n",
      "[('film', 'http://www.wikidata.org/entity/Q276523'), ('name', 'Batman & Robin'), ('date', '1997-07-04T00:00:00Z')]\n",
      "26\n"
     ]
    }
   ],
   "source": [
    "# print the year of publication\n",
    "queryString = \"\"\"\n",
    "SELECT DISTINCT ?film ?name ?date\n",
    "WHERE { \n",
    "    wd:Q2695156 wdt:P4969 ?film .\n",
    "    ?film wdt:P31 wd:Q11424;\n",
    "          wdt:P577 ?date.\n",
    "    ?film sc:name ?name.\n",
    "}\n",
    "\"\"\"\n",
    "\n",
    "print(\"Results\")\n",
    "x = run_query(queryString)"
   ]
  },
  {
   "cell_type": "markdown",
   "id": "84c90bc6-3c81-417e-b1fe-1882550355cb",
   "metadata": {},
   "source": [
    "There are more publication date for each film that is surely due to different publication dates in different countries. I decide to take the minimum publication date and then retrieve the related year."
   ]
  },
  {
   "cell_type": "code",
   "execution_count": 12,
   "id": "63d7cfe8-783a-4e59-8487-b92ef8e8e401",
   "metadata": {},
   "outputs": [
    {
     "name": "stdout",
     "output_type": "stream",
     "text": [
      "Results\n",
      "[('film', 'http://www.wikidata.org/entity/Q116852'), ('name', 'Batman'), ('year', '1989')]\n",
      "[('film', 'http://www.wikidata.org/entity/Q221345'), ('name', 'Batman Forever'), ('year', '1995')]\n",
      "[('film', 'http://www.wikidata.org/entity/Q166262'), ('name', 'Batman Begins'), ('year', '2005')]\n",
      "[('film', 'http://www.wikidata.org/entity/Q276523'), ('name', 'Batman & Robin'), ('year', '1997')]\n",
      "[('film', 'http://www.wikidata.org/entity/Q189054'), ('name', 'Batman Returns'), ('year', '1992')]\n",
      "[('film', 'http://www.wikidata.org/entity/Q189330'), ('name', 'The Dark Knight Rises'), ('year', '2012')]\n",
      "[('film', 'http://www.wikidata.org/entity/Q21095079'), ('name', 'Batman: Bad Blood'), ('year', '2016')]\n",
      "[('film', 'http://www.wikidata.org/entity/Q163872'), ('name', 'The Dark Knight'), ('year', '2008')]\n",
      "8\n"
     ]
    }
   ],
   "source": [
    "# show the minimum year of publication (the first publication ever)\n",
    "queryString = \"\"\"\n",
    "SELECT ?film ?name (year(xsd:dateTime(min(?date))) as ?year)\n",
    "WHERE { \n",
    "    wd:Q2695156 wdt:P4969 ?film .\n",
    "    ?film wdt:P31 wd:Q11424;\n",
    "          wdt:P577 ?date.\n",
    "    ?film sc:name ?name.\n",
    "}\n",
    "GROUP BY ?film ?name\n",
    "\"\"\"\n",
    "\n",
    "print(\"Results\")\n",
    "x = run_query(queryString)"
   ]
  },
  {
   "cell_type": "markdown",
   "id": "e90a0274-886d-4670-aa33-c4fe9e18a8d2",
   "metadata": {},
   "source": [
    "Find the directors of the films. Start from the films and look to their properties to find the director."
   ]
  },
  {
   "cell_type": "code",
   "execution_count": 13,
   "id": "56ed0b59-2913-4065-9a83-bfce66069ede",
   "metadata": {},
   "outputs": [
    {
     "name": "stdout",
     "output_type": "stream",
     "text": [
      "Results\n",
      "[('prop', 'http://www.wikidata.org/prop/direct/P344'), ('name', 'director of photography')]\n",
      "[('prop', 'http://www.wikidata.org/prop/direct/P57'), ('name', 'director')]\n",
      "2\n"
     ]
    }
   ],
   "source": [
    "# find the property director\n",
    "queryString = \"\"\"\n",
    "SELECT DISTINCT ?prop ?name\n",
    "WHERE { \n",
    "    wd:Q2695156 wdt:P4969 ?film .\n",
    "    ?film wdt:P31 wd:Q11424;\n",
    "          ?prop ?obj.\n",
    "    ?prop sc:name ?name.\n",
    "    FILTER(REGEX(?name,\"director\")).\n",
    "}\n",
    "\"\"\"\n",
    "\n",
    "print(\"Results\")\n",
    "x = run_query(queryString)"
   ]
  },
  {
   "cell_type": "markdown",
   "id": "94570453-1e26-47b6-a1cf-4b91b39457c3",
   "metadata": {},
   "source": [
    "`wdt:P57` is the property that tells me the director of the film.<br>\n",
    "Put all the informations found together and show all the batman films with the year of publication (because production is very restrictive) and the director"
   ]
  },
  {
   "cell_type": "code",
   "execution_count": 14,
   "id": "f14d56f1-e0d8-4fe7-be3f-180a812d2312",
   "metadata": {},
   "outputs": [
    {
     "name": "stdout",
     "output_type": "stream",
     "text": [
      "Results\n",
      "[('name', 'The Dark Knight Rises'), ('year', '2012'), ('director', 'Christopher Nolan')]\n",
      "[('name', 'Batman: Bad Blood'), ('year', '2016'), ('director', 'Jay Oliva')]\n",
      "[('name', 'The Dark Knight'), ('year', '2008'), ('director', 'Christopher Nolan')]\n",
      "[('name', 'Batman Forever'), ('year', '1995'), ('director', 'Joel Schumacher')]\n",
      "[('name', 'Batman Returns'), ('year', '1992'), ('director', 'Tim Burton')]\n",
      "[('name', 'Batman'), ('year', '1989'), ('director', 'Tim Burton')]\n",
      "[('name', 'Batman Begins'), ('year', '2005'), ('director', 'Christopher Nolan')]\n",
      "[('name', 'Batman & Robin'), ('year', '1997'), ('director', 'Joel Schumacher')]\n",
      "8\n"
     ]
    }
   ],
   "source": [
    "# show all together\n",
    "queryString = \"\"\"\n",
    "SELECT ?name (year(xsd:dateTime(min(?date))) as ?year) ?director\n",
    "WHERE { \n",
    "    wd:Q2695156 wdt:P4969 ?film .\n",
    "    ?film wdt:P31 wd:Q11424;\n",
    "          wdt:P57 ?dir;\n",
    "          wdt:P577 ?date.\n",
    "    ?film sc:name ?name.\n",
    "    ?dir sc:name ?director.\n",
    "}\n",
    "\"\"\"\n",
    "\n",
    "print(\"Results\")\n",
    "x = run_query(queryString)"
   ]
  },
  {
   "cell_type": "code",
   "execution_count": 17,
   "id": "7c73f523-76f5-4a19-931e-3eef0b59c164",
   "metadata": {
    "tags": []
   },
   "outputs": [
    {
     "name": "stdout",
     "output_type": "stream",
     "text": [
      "Results\n",
      "[('film', 'http://www.wikidata.org/entity/Q276523'), ('name', 'Batman & Robin'), ('dir', 'http://www.wikidata.org/entity/Q295207'), ('director', 'Joel Schumacher'), ('year', '1997')]\n",
      "[('film', 'http://www.wikidata.org/entity/Q21095079'), ('name', 'Batman: Bad Blood'), ('dir', 'http://www.wikidata.org/entity/Q11866244'), ('director', 'Jay Oliva'), ('year', '2016')]\n",
      "[('film', 'http://www.wikidata.org/entity/Q221345'), ('name', 'Batman Forever'), ('dir', 'http://www.wikidata.org/entity/Q295207'), ('director', 'Joel Schumacher'), ('year', '1995')]\n",
      "[('film', 'http://www.wikidata.org/entity/Q189054'), ('name', 'Batman Returns'), ('dir', 'http://www.wikidata.org/entity/Q56008'), ('director', 'Tim Burton'), ('year', '1992')]\n",
      "[('film', 'http://www.wikidata.org/entity/Q116852'), ('name', 'Batman'), ('dir', 'http://www.wikidata.org/entity/Q56008'), ('director', 'Tim Burton'), ('year', '1989')]\n",
      "[('film', 'http://www.wikidata.org/entity/Q166262'), ('name', 'Batman Begins'), ('dir', 'http://www.wikidata.org/entity/Q25191'), ('director', 'Christopher Nolan'), ('year', '2005')]\n",
      "[('film', 'http://www.wikidata.org/entity/Q189330'), ('name', 'The Dark Knight Rises'), ('dir', 'http://www.wikidata.org/entity/Q25191'), ('director', 'Christopher Nolan'), ('year', '2012')]\n",
      "[('film', 'http://www.wikidata.org/entity/Q163872'), ('name', 'The Dark Knight'), ('dir', 'http://www.wikidata.org/entity/Q25191'), ('director', 'Christopher Nolan'), ('year', '2008')]\n",
      "8\n"
     ]
    }
   ],
   "source": [
    "# show all together with the respective URI for the films and the directors, for evaluation purpose\n",
    "queryString = \"\"\"\n",
    "SELECT ?film ?name ?dir ?director (year(xsd:dateTime(min(?date))) as ?year) \n",
    "WHERE { \n",
    "    wd:Q2695156 wdt:P4969 ?film .\n",
    "    ?film wdt:P31 wd:Q11424;\n",
    "          wdt:P57 ?dir;\n",
    "          wdt:P577 ?date.\n",
    "    ?film sc:name ?name.\n",
    "    ?dir sc:name ?director.\n",
    "}\n",
    "\"\"\"\n",
    "\n",
    "print(\"Results\")\n",
    "x = run_query(queryString)"
   ]
  },
  {
   "cell_type": "code",
   "execution_count": 18,
   "id": "b1f7512b-b7b9-419b-89d2-fccdb52fbe34",
   "metadata": {},
   "outputs": [
    {
     "name": "stdout",
     "output_type": "stream",
     "text": [
      "The index of this workflow is: 5_1\n",
      "The path is /locale/data/jupyter/prando/wd-project/2021/ground_truths/gt_json/workflow5_1.json\n",
      "JSON object updated\n"
     ]
    }
   ],
   "source": [
    "## more elements mixed between URI and literals\n",
    "objs=[]\n",
    "for i in x:\n",
    "    f_uri = i[0][1]\n",
    "    f_name = i[1][1]\n",
    "    dir_uri = i[2][1]\n",
    "    dir_name = i[3][1]\n",
    "    year = i[4][1]\n",
    "    # add the year element\n",
    "    obj = {}\n",
    "    obj[\"refers_to\"] = f_uri\n",
    "    obj[\"refers_to_name\"] = f_name\n",
    "    obj[\"check\"] = \"value\"\n",
    "    obj[\"value\"] = year\n",
    "    objs.append(obj)\n",
    "    # add the director element\n",
    "    obj = {}\n",
    "    obj[\"refers_to\"] = f_uri\n",
    "    obj[\"refers_to_name\"] = f_name\n",
    "    obj[\"check\"] = [\"uri\",\"name\"]\n",
    "    obj[\"uri\"] = dir_uri\n",
    "    obj[\"name\"] = dir_name\n",
    "    objs.append(obj)\n",
    "evaluation.add_result(evaluation.get_index_workflow(pt),\"1\", evaluation.TYPE_REFERRED ,[\"uri\",\"name\",\"value\"], objs, elements_per_tuple = 2)"
   ]
  },
  {
   "cell_type": "markdown",
   "id": "609b5ece-cfc5-4e2c-96d9-cf4c98e7313a",
   "metadata": {
    "tags": []
   },
   "source": [
    "## Task 2"
   ]
  },
  {
   "cell_type": "code",
   "execution_count": 19,
   "id": "9e6f0de3-552a-4b29-8f03-d91cbca61355",
   "metadata": {},
   "outputs": [
    {
     "name": "stdout",
     "output_type": "stream",
     "text": [
      "Results\n",
      "[('prop', 'http://www.wikidata.org/prop/direct/P1040'), ('name', 'film editor')]\n",
      "[('prop', 'http://www.wikidata.org/prop/direct/P1237'), ('name', 'Box Office Mojo film ID (former scheme)')]\n",
      "[('prop', 'http://www.wikidata.org/prop/direct/P1258'), ('name', 'Rotten Tomatoes ID')]\n",
      "[('prop', 'http://www.wikidata.org/prop/direct/P1265'), ('name', 'AlloCiné film ID')]\n",
      "[('prop', 'http://www.wikidata.org/prop/direct/P1273'), ('name', 'CANTIC ID')]\n",
      "[('prop', 'http://www.wikidata.org/prop/direct/P136'), ('name', 'genre')]\n",
      "[('prop', 'http://www.wikidata.org/prop/direct/P1411'), ('name', 'nominated for')]\n",
      "[('prop', 'http://www.wikidata.org/prop/direct/P1417'), ('name', 'Encyclopædia Britannica Online ID')]\n",
      "[('prop', 'http://www.wikidata.org/prop/direct/P1434'), ('name', 'takes place in fictional universe')]\n",
      "[('prop', 'http://www.wikidata.org/prop/direct/P144'), ('name', 'based on')]\n",
      "[('prop', 'http://www.wikidata.org/prop/direct/P1476'), ('name', 'title')]\n",
      "[('prop', 'http://www.wikidata.org/prop/direct/P154'), ('name', 'logo image')]\n",
      "[('prop', 'http://www.wikidata.org/prop/direct/P155'), ('name', 'follows')]\n",
      "[('prop', 'http://www.wikidata.org/prop/direct/P1552'), ('name', 'has quality')]\n",
      "[('prop', 'http://www.wikidata.org/prop/direct/P156'), ('name', 'followed by')]\n",
      "[('prop', 'http://www.wikidata.org/prop/direct/P1562'), ('name', 'AllMovie title ID')]\n",
      "[('prop', 'http://www.wikidata.org/prop/direct/P161'), ('name', 'cast member')]\n",
      "[('prop', 'http://www.wikidata.org/prop/direct/P162'), ('name', 'producer')]\n",
      "[('prop', 'http://www.wikidata.org/prop/direct/P1651'), ('name', 'YouTube video ID')]\n",
      "[('prop', 'http://www.wikidata.org/prop/direct/P1657'), ('name', 'MPAA film rating')]\n",
      "[('prop', 'http://www.wikidata.org/prop/direct/P166'), ('name', 'award received')]\n",
      "[('prop', 'http://www.wikidata.org/prop/direct/P170'), ('name', 'creator')]\n",
      "[('prop', 'http://www.wikidata.org/prop/direct/P1712'), ('name', 'Metacritic ID')]\n",
      "[('prop', 'http://www.wikidata.org/prop/direct/P175'), ('name', 'performer')]\n",
      "[('prop', 'http://www.wikidata.org/prop/direct/P179'), ('name', 'part of the series')]\n",
      "[('prop', 'http://www.wikidata.org/prop/direct/P18'), ('name', 'image')]\n",
      "[('prop', 'http://www.wikidata.org/prop/direct/P1804'), ('name', 'DNF film ID')]\n",
      "[('prop', 'http://www.wikidata.org/prop/direct/P1874'), ('name', 'Netflix ID')]\n",
      "[('prop', 'http://www.wikidata.org/prop/direct/P1889'), ('name', 'different from')]\n",
      "[('prop', 'http://www.wikidata.org/prop/direct/P195'), ('name', 'collection')]\n",
      "[('prop', 'http://www.wikidata.org/prop/direct/P1970'), ('name', 'MovieMeter film ID')]\n",
      "[('prop', 'http://www.wikidata.org/prop/direct/P1981'), ('name', 'FSK film rating')]\n",
      "[('prop', 'http://www.wikidata.org/prop/direct/P2013'), ('name', 'Facebook ID')]\n",
      "[('prop', 'http://www.wikidata.org/prop/direct/P2047'), ('name', 'duration')]\n",
      "[('prop', 'http://www.wikidata.org/prop/direct/P2061'), ('name', 'aspect ratio')]\n",
      "[('prop', 'http://www.wikidata.org/prop/direct/P2130'), ('name', 'cost')]\n",
      "[('prop', 'http://www.wikidata.org/prop/direct/P214'), ('name', 'VIAF ID')]\n",
      "[('prop', 'http://www.wikidata.org/prop/direct/P2142'), ('name', 'box office')]\n",
      "[('prop', 'http://www.wikidata.org/prop/direct/P227'), ('name', 'GND ID')]\n",
      "[('prop', 'http://www.wikidata.org/prop/direct/P2283'), ('name', 'uses')]\n",
      "[('prop', 'http://www.wikidata.org/prop/direct/P2334'), ('name', 'Swedish Film Database film ID')]\n",
      "[('prop', 'http://www.wikidata.org/prop/direct/P2346'), ('name', 'Elonet movie ID')]\n",
      "[('prop', 'http://www.wikidata.org/prop/direct/P2363'), ('name', 'NMHH film rating')]\n",
      "[('prop', 'http://www.wikidata.org/prop/direct/P244'), ('name', 'Library of Congress authority ID')]\n",
      "[('prop', 'http://www.wikidata.org/prop/direct/P2465'), ('name', 'Allcinema film ID')]\n",
      "[('prop', 'http://www.wikidata.org/prop/direct/P2508'), ('name', 'KINENOTE film ID')]\n",
      "[('prop', 'http://www.wikidata.org/prop/direct/P2509'), ('name', 'Movie Walker film ID')]\n",
      "[('prop', 'http://www.wikidata.org/prop/direct/P2515'), ('name', 'costume designer')]\n",
      "[('prop', 'http://www.wikidata.org/prop/direct/P2518'), ('name', 'Scope.dk film ID')]\n",
      "[('prop', 'http://www.wikidata.org/prop/direct/P2529'), ('name', 'ČSFD film ID')]\n",
      "[('prop', 'http://www.wikidata.org/prop/direct/P2581'), ('name', 'BabelNet ID')]\n",
      "[('prop', 'http://www.wikidata.org/prop/direct/P2603'), ('name', 'Kinopoisk film ID')]\n",
      "[('prop', 'http://www.wikidata.org/prop/direct/P2629'), ('name', 'BBFC rating')]\n",
      "[('prop', 'http://www.wikidata.org/prop/direct/P2631'), ('name', 'TCM Movie Database film ID')]\n",
      "[('prop', 'http://www.wikidata.org/prop/direct/P2638'), ('name', 'TV.com ID')]\n",
      "[('prop', 'http://www.wikidata.org/prop/direct/P2671'), ('name', 'Google Knowledge Graph ID')]\n",
      "[('prop', 'http://www.wikidata.org/prop/direct/P268'), ('name', 'Bibliothèque nationale de France ID')]\n",
      "[('prop', 'http://www.wikidata.org/prop/direct/P269'), ('name', 'IdRef ID')]\n",
      "[('prop', 'http://www.wikidata.org/prop/direct/P2703'), ('name', 'BFI National Archive work ID')]\n",
      "[('prop', 'http://www.wikidata.org/prop/direct/P2704'), ('name', 'EIDR content ID')]\n",
      "[('prop', 'http://www.wikidata.org/prop/direct/P272'), ('name', 'production company')]\n",
      "[('prop', 'http://www.wikidata.org/prop/direct/P2747'), ('name', 'Filmiroda rating')]\n",
      "[('prop', 'http://www.wikidata.org/prop/direct/P2755'), ('name', 'exploitation visa number')]\n",
      "[('prop', 'http://www.wikidata.org/prop/direct/P2758'), ('name', 'CNC film rating (France)')]\n",
      "[('prop', 'http://www.wikidata.org/prop/direct/P3077'), ('name', 'Cineplex Germany film ID')]\n",
      "[('prop', 'http://www.wikidata.org/prop/direct/P31'), ('name', 'instance of')]\n",
      "[('prop', 'http://www.wikidata.org/prop/direct/P3107'), ('name', 'LdiF ID')]\n",
      "[('prop', 'http://www.wikidata.org/prop/direct/P3110'), ('name', 'ISzDb film ID')]\n",
      "[('prop', 'http://www.wikidata.org/prop/direct/P3129'), ('name', 'cine.gr film ID')]\n",
      "[('prop', 'http://www.wikidata.org/prop/direct/P3135'), ('name', 'elCinema film ID')]\n",
      "[('prop', 'http://www.wikidata.org/prop/direct/P3138'), ('name', 'OFDb film ID')]\n",
      "[('prop', 'http://www.wikidata.org/prop/direct/P3141'), ('name', 'EDb film ID')]\n",
      "[('prop', 'http://www.wikidata.org/prop/direct/P3143'), ('name', 'elFilm film ID')]\n",
      "[('prop', 'http://www.wikidata.org/prop/direct/P3145'), ('name', 'Sratim ID')]\n",
      "[('prop', 'http://www.wikidata.org/prop/direct/P3203'), ('name', 'Ciné-Ressources film ID')]\n",
      "[('prop', 'http://www.wikidata.org/prop/direct/P3212'), ('name', 'ISAN')]\n",
      "[('prop', 'http://www.wikidata.org/prop/direct/P3265'), ('name', 'Myspace ID')]\n",
      "[('prop', 'http://www.wikidata.org/prop/direct/P3302'), ('name', 'Open Media Database film ID')]\n",
      "[('prop', 'http://www.wikidata.org/prop/direct/P3306'), ('name', 'ICAA rating')]\n",
      "[('prop', 'http://www.wikidata.org/prop/direct/P3340'), ('name', 'Kvikmyndir film ID')]\n",
      "[('prop', 'http://www.wikidata.org/prop/direct/P3402'), ('name', 'CNC film rating (Romania)')]\n",
      "[('prop', 'http://www.wikidata.org/prop/direct/P3417'), ('name', 'Quora topic ID')]\n",
      "[('prop', 'http://www.wikidata.org/prop/direct/P344'), ('name', 'director of photography')]\n",
      "[('prop', 'http://www.wikidata.org/prop/direct/P345'), ('name', 'IMDb ID')]\n",
      "[('prop', 'http://www.wikidata.org/prop/direct/P3593'), ('name', 'AFI Catalog of Feature Films ID')]\n",
      "[('prop', 'http://www.wikidata.org/prop/direct/P364'), ('name', 'original language of film or TV show')]\n",
      "[('prop', 'http://www.wikidata.org/prop/direct/P3650'), ('name', 'JMK film rating')]\n",
      "[('prop', 'http://www.wikidata.org/prop/direct/P373'), ('name', 'Commons category')]\n",
      "[('prop', 'http://www.wikidata.org/prop/direct/P3804'), ('name', 'TV Guide show ID (former scheme)')]\n",
      "[('prop', 'http://www.wikidata.org/prop/direct/P3808'), ('name', 'The Numbers movie ID')]\n",
      "[('prop', 'http://www.wikidata.org/prop/direct/P3834'), ('name', 'RTC film rating')]\n",
      "[('prop', 'http://www.wikidata.org/prop/direct/P3844'), ('name', 'Deutsche Synchronkartei film ID')]\n",
      "[('prop', 'http://www.wikidata.org/prop/direct/P3933'), ('name', 'Cinema.de ID')]\n",
      "[('prop', 'http://www.wikidata.org/prop/direct/P4276'), ('name', 'Cinémathèque québécoise work identifier')]\n",
      "[('prop', 'http://www.wikidata.org/prop/direct/P4282'), ('name', 'LUMIERE film ID')]\n",
      "[('prop', 'http://www.wikidata.org/prop/direct/P437'), ('name', 'distribution format')]\n",
      "[('prop', 'http://www.wikidata.org/prop/direct/P4438'), ('name', 'BFI Films, TV and people ID')]\n",
      "[('prop', 'http://www.wikidata.org/prop/direct/P4515'), ('name', 'Prisma ID')]\n",
      "[('prop', 'http://www.wikidata.org/prop/direct/P4529'), ('name', 'Douban film ID')]\n",
      "[('prop', 'http://www.wikidata.org/prop/direct/P462'), ('name', 'color')]\n",
      "[('prop', 'http://www.wikidata.org/prop/direct/P4632'), ('name', 'Bechdel Test Movie List ID')]\n",
      "[('prop', 'http://www.wikidata.org/prop/direct/P4665'), ('name', 'CineMagia title ID')]\n",
      "[('prop', 'http://www.wikidata.org/prop/direct/P4780'), ('name', 'MYmovies movie ID')]\n",
      "[('prop', 'http://www.wikidata.org/prop/direct/P4783'), ('name', 'Movieplayer film ID')]\n",
      "[('prop', 'http://www.wikidata.org/prop/direct/P4786'), ('name', 'cinematografo film ID')]\n",
      "[('prop', 'http://www.wikidata.org/prop/direct/P480'), ('name', 'FilmAffinity ID')]\n",
      "[('prop', 'http://www.wikidata.org/prop/direct/P4839'), ('name', 'Wolfram Language entity code')]\n",
      "[('prop', 'http://www.wikidata.org/prop/direct/P4947'), ('name', 'TMDb movie ID')]\n",
      "[('prop', 'http://www.wikidata.org/prop/direct/P495'), ('name', 'country of origin')]\n",
      "[('prop', 'http://www.wikidata.org/prop/direct/P4969'), ('name', 'derivative work')]\n",
      "[('prop', 'http://www.wikidata.org/prop/direct/P5021'), ('name', 'assessment')]\n",
      "[('prop', 'http://www.wikidata.org/prop/direct/P5032'), ('name', 'Filmweb.pl film ID')]\n",
      "[('prop', 'http://www.wikidata.org/prop/direct/P5099'), ('name', 'Il mondo dei doppiatori ID')]\n",
      "[('prop', 'http://www.wikidata.org/prop/direct/P5128'), ('name', 'ICAA film catalogue ID')]\n",
      "[('prop', 'http://www.wikidata.org/prop/direct/P5233'), ('name', 'Filmow ID')]\n",
      "[('prop', 'http://www.wikidata.org/prop/direct/P5253'), ('name', 'FilmTv.it movie ID')]\n",
      "[('prop', 'http://www.wikidata.org/prop/direct/P5357'), ('name', 'The Encyclopedia of Science Fiction ID')]\n",
      "[('prop', 'http://www.wikidata.org/prop/direct/P5693'), ('name', 'Fandango film ID')]\n",
      "[('prop', 'http://www.wikidata.org/prop/direct/P57'), ('name', 'director')]\n",
      "[('prop', 'http://www.wikidata.org/prop/direct/P577'), ('name', 'publication date')]\n",
      "[('prop', 'http://www.wikidata.org/prop/direct/P5786'), ('name', 'Moviepilot.de film ID')]\n",
      "[('prop', 'http://www.wikidata.org/prop/direct/P58'), ('name', 'screenwriter')]\n",
      "[('prop', 'http://www.wikidata.org/prop/direct/P5905'), ('name', 'Comic Vine ID')]\n",
      "[('prop', 'http://www.wikidata.org/prop/direct/P5970'), ('name', 'Medierådet rating')]\n",
      "[('prop', 'http://www.wikidata.org/prop/direct/P6127'), ('name', 'Letterboxd film ID')]\n",
      "[('prop', 'http://www.wikidata.org/prop/direct/P6145'), ('name', 'Academy Awards Database film ID')]\n",
      "[('prop', 'http://www.wikidata.org/prop/direct/P6262'), ('name', 'Fandom article ID')]\n",
      "[('prop', 'http://www.wikidata.org/prop/direct/P6398'), ('name', 'iTunes movie ID')]\n",
      "[('prop', 'http://www.wikidata.org/prop/direct/P646'), ('name', 'Freebase ID')]\n",
      "[('prop', 'http://www.wikidata.org/prop/direct/P6562'), ('name', 'Google Play Movies & TV ID')]\n",
      "[('prop', 'http://www.wikidata.org/prop/direct/P6584'), ('name', 'Scripts.com script ID')]\n",
      "[('prop', 'http://www.wikidata.org/prop/direct/P674'), ('name', 'characters')]\n",
      "[('prop', 'http://www.wikidata.org/prop/direct/P6839'), ('name', 'TV Tropes identifier')]\n",
      "[('prop', 'http://www.wikidata.org/prop/direct/P7091'), ('name', 'Common Sense Media ID')]\n",
      "[('prop', 'http://www.wikidata.org/prop/direct/P7299'), ('name', 'MUBI film ID')]\n",
      "[('prop', 'http://www.wikidata.org/prop/direct/P7334'), ('name', 'Vudu video ID')]\n",
      "[('prop', 'http://www.wikidata.org/prop/direct/P750'), ('name', 'distributed by')]\n",
      "[('prop', 'http://www.wikidata.org/prop/direct/P767'), ('name', 'contributor to the creative work or subject')]\n",
      "[('prop', 'http://www.wikidata.org/prop/direct/P7970'), ('name', 'FandangoNow ID')]\n",
      "[('prop', 'http://www.wikidata.org/prop/direct/P8013'), ('name', 'Trakt.tv ID')]\n",
      "[('prop', 'http://www.wikidata.org/prop/direct/P8033'), ('name', 'Movie Review Query Engine ID')]\n",
      "[('prop', 'http://www.wikidata.org/prop/direct/P840'), ('name', 'narrative location')]\n",
      "[('prop', 'http://www.wikidata.org/prop/direct/P8411'), ('name', 'set in environment')]\n",
      "[('prop', 'http://www.wikidata.org/prop/direct/P856'), ('name', 'official website')]\n",
      "[('prop', 'http://www.wikidata.org/prop/direct/P86'), ('name', 'composer')]\n",
      "[('prop', 'http://www.wikidata.org/prop/direct/P8796'), ('name', 'FilmPolski press collection ID')]\n",
      "[('prop', 'http://www.wikidata.org/prop/direct/P8847'), ('name', 'Kinorium movie ID')]\n",
      "[('prop', 'http://www.wikidata.org/prop/direct/P905'), ('name', 'PORT film ID')]\n",
      "[('prop', 'http://www.wikidata.org/prop/direct/P910'), ('name', \"topic's main category\")]\n",
      "[('prop', 'http://www.wikidata.org/prop/direct/P915'), ('name', 'filming location')]\n",
      "[('prop', 'http://www.wikidata.org/prop/direct/P921'), ('name', 'main subject')]\n",
      "[('prop', 'http://www.wikidata.org/prop/direct/P935'), ('name', 'Commons gallery')]\n",
      "[('prop', 'http://www.wikidata.org/prop/direct/P941'), ('name', 'inspired by')]\n",
      "[('prop', 'http://www.wikidata.org/prop/direct/P950'), ('name', 'Biblioteca Nacional de España ID')]\n",
      "[('prop', 'http://www.wikidata.org/prop/direct/P9586'), ('name', 'Apple TV movie ID')]\n",
      "[('prop', 'http://www.wikidata.org/prop/direct/P973'), ('name', 'described at URL')]\n",
      "[('prop', 'http://www.wikidata.org/prop/direct/P9760'), ('name', \"Treccani's Enciclopedia del Cinema ID\")]\n",
      "[('prop', 'http://www.wikidata.org/prop/direct/P2756'), ('name', 'EIRIN film rating')]\n",
      "[('prop', 'http://www.wikidata.org/prop/direct/P7118'), ('name', 'AMPAS collections film ID')]\n",
      "[('prop', 'http://www.wikidata.org/prop/direct/P725'), ('name', 'voice actor')]\n",
      "[('prop', 'http://www.wikidata.org/prop/direct/P8055'), ('name', 'Amazon.com Prime Video ID')]\n",
      "[('prop', 'http://www.wikidata.org/prop/direct/P1638'), ('name', 'codename')]\n",
      "[('prop', 'http://www.wikidata.org/prop/direct/P3818'), ('name', 'KMRB film rating')]\n",
      "[('prop', 'http://www.wikidata.org/prop/direct/P5865'), ('name', 'IGN film ID')]\n",
      "[('prop', 'http://www.wikidata.org/prop/direct/P6383'), ('name', 'TV Spielfilm film ID')]\n",
      "[('prop', 'http://www.wikidata.org/prop/direct/P6658'), ('name', 'RCQ classification')]\n",
      "[('prop', 'http://www.wikidata.org/prop/direct/P3216'), ('name', 'ClassInd rating')]\n",
      "[('prop', 'http://www.wikidata.org/prop/direct/P8958'), ('name', 'ClassInd audiovisual work ID')]\n",
      "[('prop', 'http://www.wikidata.org/prop/direct/P2754'), ('name', 'production date')]\n",
      "[('prop', 'http://www.wikidata.org/prop/direct/P1431'), ('name', 'executive producer')]\n",
      "[('prop', 'http://www.wikidata.org/prop/direct/P1877'), ('name', 'after a work by')]\n",
      "[('prop', 'http://www.wikidata.org/prop/direct/P2014'), ('name', 'Museum of Modern Art work ID')]\n",
      "[('prop', 'http://www.wikidata.org/prop/direct/P2554'), ('name', 'production designer')]\n",
      "[('prop', 'http://www.wikidata.org/prop/direct/P3854'), ('name', 'Soundtrack Collector ID')]\n",
      "[('prop', 'http://www.wikidata.org/prop/direct/P3995'), ('name', 'Filmweb.pl ID')]\n",
      "[('prop', 'http://www.wikidata.org/prop/direct/P406'), ('name', 'soundtrack release')]\n",
      "[('prop', 'http://www.wikidata.org/prop/direct/P4277'), ('name', 'Daum movie ID')]\n",
      "[('prop', 'http://www.wikidata.org/prop/direct/P5311'), ('name', 'Kino-teatr.ua film ID')]\n",
      "[('prop', 'http://www.wikidata.org/prop/direct/P5990'), ('name', 'Movies Anywhere ID')]\n",
      "[('prop', 'http://www.wikidata.org/prop/direct/P6133'), ('name', 'Siamzone film ID')]\n",
      "[('prop', 'http://www.wikidata.org/prop/direct/P7975'), ('name', 'Filmfront film ID')]\n",
      "[('prop', 'http://www.wikidata.org/prop/direct/P9215'), ('name', 'set during recurring event')]\n",
      "[('prop', 'http://www.wikidata.org/prop/direct/P7978'), ('name', 'Decine21 film ID')]\n",
      "[('prop', 'http://www.wikidata.org/prop/direct/P6359'), ('name', 'Crew United title ID')]\n",
      "[('prop', 'http://www.wikidata.org/prop/direct/P8918'), ('name', 'Max Movie film ID')]\n",
      "[('prop', 'http://www.wikidata.org/prop/direct/P9146'), ('name', 'CITWF title ID')]\n",
      "[('prop', 'http://www.wikidata.org/prop/direct/P9205'), ('name', 'Sinemalar title ID')]\n",
      "[('prop', 'http://www.wikidata.org/prop/direct/P6932'), ('name', 'RogerEbert.com film ID')]\n",
      "[('prop', 'http://www.wikidata.org/prop/direct/P9203'), ('name', 'CineFAN.ro title ID')]\n",
      "[('prop', 'http://www.wikidata.org/prop/direct/P9204'), ('name', 'CinemaRX title ID')]\n",
      "[('prop', 'http://www.wikidata.org/prop/direct/P6458'), ('name', 'Mtime movie ID')]\n",
      "[('prop', 'http://www.wikidata.org/prop/direct/P3816'), ('name', 'film script')]\n",
      "192\n"
     ]
    }
   ],
   "source": [
    "# find something that tells me that a film is part of a series\n",
    "queryString = \"\"\"\n",
    "SELECT DISTINCT ?prop ?name\n",
    "WHERE { \n",
    "    wd:Q2695156 wdt:P4969 ?film .\n",
    "    ?film wdt:P31 wd:Q11424.\n",
    "    ?film ?prop ?series.\n",
    "    ?prop <http://schema.org/name> ?name .\n",
    "\n",
    "}\n",
    "\"\"\"\n",
    "\n",
    "print(\"Results\")\n",
    "x = run_query(queryString)"
   ]
  },
  {
   "cell_type": "markdown",
   "id": "44d9836b-7741-48d7-93f1-b431ce71fd91",
   "metadata": {},
   "source": [
    "`wdt:P179` tells me that the film is part of a series. Now, have a look to these series"
   ]
  },
  {
   "cell_type": "code",
   "execution_count": 20,
   "id": "83040b0c-0460-43f6-b525-2c285289c972",
   "metadata": {},
   "outputs": [
    {
     "name": "stdout",
     "output_type": "stream",
     "text": [
      "Results\n",
      "[('series', 'http://www.wikidata.org/entity/Q18914861'), ('name', 'Batman')]\n",
      "[('series', 'http://www.wikidata.org/entity/Q2111133'), ('name', 'Batman in film')]\n",
      "[('series', 'http://www.wikidata.org/entity/Q2405799'), ('name', 'DC Universe Animated Original Movies')]\n",
      "[('series', 'http://www.wikidata.org/entity/Q12859908'), ('name', 'The Dark Knight Trilogy')]\n",
      "4\n"
     ]
    }
   ],
   "source": [
    "# show all the movie series\n",
    "queryString = \"\"\"\n",
    "SELECT DISTINCT ?series ?name\n",
    "WHERE { \n",
    "    wd:Q2695156 wdt:P4969 ?film .\n",
    "    ?film wdt:P31 wd:Q11424.\n",
    "    ?film wdt:P179 ?series.\n",
    "    ?series <http://schema.org/name> ?name .\n",
    "\n",
    "}\n",
    "\"\"\"\n",
    "\n",
    "print(\"Results\")\n",
    "x = run_query(queryString)"
   ]
  },
  {
   "cell_type": "markdown",
   "id": "229de628-b422-4c84-9732-a3c197e67440",
   "metadata": {},
   "source": [
    "These are all the series of batman movies"
   ]
  },
  {
   "cell_type": "code",
   "execution_count": 21,
   "id": "7764890d-3291-494e-8fa3-12ce7b42c6a3",
   "metadata": {},
   "outputs": [
    {
     "name": "stdout",
     "output_type": "stream",
     "text": [
      "Results\n",
      "[('prop', 'http://www.wikidata.org/prop/direct/P1040'), ('name', 'film editor')]\n",
      "[('prop', 'http://www.wikidata.org/prop/direct/P1424'), ('name', \"topic's main template\")]\n",
      "[('prop', 'http://www.wikidata.org/prop/direct/P1434'), ('name', 'takes place in fictional universe')]\n",
      "[('prop', 'http://www.wikidata.org/prop/direct/P1476'), ('name', 'title')]\n",
      "[('prop', 'http://www.wikidata.org/prop/direct/P155'), ('name', 'follows')]\n",
      "[('prop', 'http://www.wikidata.org/prop/direct/P156'), ('name', 'followed by')]\n",
      "[('prop', 'http://www.wikidata.org/prop/direct/P161'), ('name', 'cast member')]\n",
      "[('prop', 'http://www.wikidata.org/prop/direct/P162'), ('name', 'producer')]\n",
      "[('prop', 'http://www.wikidata.org/prop/direct/P2354'), ('name', 'has list')]\n",
      "[('prop', 'http://www.wikidata.org/prop/direct/P272'), ('name', 'production company')]\n",
      "[('prop', 'http://www.wikidata.org/prop/direct/P31'), ('name', 'instance of')]\n",
      "[('prop', 'http://www.wikidata.org/prop/direct/P3417'), ('name', 'Quora topic ID')]\n",
      "[('prop', 'http://www.wikidata.org/prop/direct/P344'), ('name', 'director of photography')]\n",
      "[('prop', 'http://www.wikidata.org/prop/direct/P361'), ('name', 'part of')]\n",
      "[('prop', 'http://www.wikidata.org/prop/direct/P364'), ('name', 'original language of film or TV show')]\n",
      "[('prop', 'http://www.wikidata.org/prop/direct/P373'), ('name', 'Commons category')]\n",
      "[('prop', 'http://www.wikidata.org/prop/direct/P407'), ('name', 'language of work or name')]\n",
      "[('prop', 'http://www.wikidata.org/prop/direct/P437'), ('name', 'distribution format')]\n",
      "[('prop', 'http://www.wikidata.org/prop/direct/P462'), ('name', 'color')]\n",
      "[('prop', 'http://www.wikidata.org/prop/direct/P495'), ('name', 'country of origin')]\n",
      "[('prop', 'http://www.wikidata.org/prop/direct/P527'), ('name', 'has part')]\n",
      "[('prop', 'http://www.wikidata.org/prop/direct/P5357'), ('name', 'The Encyclopedia of Science Fiction ID')]\n",
      "[('prop', 'http://www.wikidata.org/prop/direct/P57'), ('name', 'director')]\n",
      "[('prop', 'http://www.wikidata.org/prop/direct/P5737'), ('name', 'Chinese Moegirlpedia ID')]\n",
      "[('prop', 'http://www.wikidata.org/prop/direct/P577'), ('name', 'publication date')]\n",
      "[('prop', 'http://www.wikidata.org/prop/direct/P58'), ('name', 'screenwriter')]\n",
      "[('prop', 'http://www.wikidata.org/prop/direct/P580'), ('name', 'start time')]\n",
      "[('prop', 'http://www.wikidata.org/prop/direct/P582'), ('name', 'end time')]\n",
      "[('prop', 'http://www.wikidata.org/prop/direct/P6262'), ('name', 'Fandom article ID')]\n",
      "[('prop', 'http://www.wikidata.org/prop/direct/P646'), ('name', 'Freebase ID')]\n",
      "[('prop', 'http://www.wikidata.org/prop/direct/P6839'), ('name', 'TV Tropes identifier')]\n",
      "[('prop', 'http://www.wikidata.org/prop/direct/P750'), ('name', 'distributed by')]\n",
      "[('prop', 'http://www.wikidata.org/prop/direct/P8408'), ('name', 'KBpedia ID')]\n",
      "[('prop', 'http://www.wikidata.org/prop/direct/P86'), ('name', 'composer')]\n",
      "[('prop', 'http://www.wikidata.org/prop/direct/P910'), ('name', \"topic's main category\")]\n",
      "[('prop', 'http://www.wikidata.org/prop/direct/P2530'), ('name', 'Box Office Mojo franchise ID (former scheme)')]\n",
      "36\n"
     ]
    }
   ],
   "source": [
    "# find the date of production or publication\n",
    "queryString = \"\"\"\n",
    "SELECT DISTINCT ?prop ?name\n",
    "WHERE { \n",
    "    wd:Q2695156 wdt:P4969 ?film .\n",
    "    ?film wdt:P31 wd:Q11424.\n",
    "    ?film wdt:P179 ?series.\n",
    "    ?series ?prop ?o.\n",
    "    ?prop sc:name ?name.\n",
    "\n",
    "}\n",
    "\"\"\"\n",
    "\n",
    "print(\"Results\")\n",
    "x = run_query(queryString)"
   ]
  },
  {
   "cell_type": "markdown",
   "id": "0ba5bec1-5e94-43d3-ad23-213f09b281cc",
   "metadata": {},
   "source": [
    "Some useful properties:\n",
    "- `wdt:P2354` has list\n",
    "- `wdt:P527` has part\n",
    "- `wdt:P577` publication date\n",
    "- `wdt:P580` start time"
   ]
  },
  {
   "cell_type": "code",
   "execution_count": 22,
   "id": "ad596c34-d246-4ea2-8b2e-d8aae71249b0",
   "metadata": {},
   "outputs": [
    {
     "name": "stdout",
     "output_type": "stream",
     "text": [
      "Results\n",
      "[('series', 'http://www.wikidata.org/entity/Q12859908'), ('name', 'The Dark Knight Trilogy'), ('date', '2005-01-01T00:00:00Z'), ('start', '2005-01-01T00:00:00Z')]\n",
      "[('series', 'http://www.wikidata.org/entity/Q18914861'), ('name', 'Batman'), ('date', '1989-01-01T00:00:00Z')]\n",
      "[('series', 'http://www.wikidata.org/entity/Q2111133'), ('name', 'Batman in film'), ('date', '1940-01-01T00:00:00Z')]\n",
      "[('series', 'http://www.wikidata.org/entity/Q2405799'), ('name', 'DC Universe Animated Original Movies'), ('date', '2007-01-01T00:00:00Z')]\n",
      "4\n"
     ]
    }
   ],
   "source": [
    "# show publication date and start time\n",
    "queryString = \"\"\"\n",
    "SELECT DISTINCT ?series ?name ?date ?start\n",
    "WHERE { \n",
    "    wd:Q2695156 wdt:P4969 ?film .\n",
    "    ?film wdt:P31 wd:Q11424.\n",
    "    ?film wdt:P179 ?series.\n",
    "    OPTIONAL{?series wdt:P577 ?date.}\n",
    "    OPTIONAL{?series wdt:P580 ?start.}\n",
    "    ?series sc:name ?name.\n",
    "}\n",
    "\"\"\"\n",
    "\n",
    "print(\"Results\")\n",
    "x = run_query(queryString)"
   ]
  },
  {
   "cell_type": "markdown",
   "id": "82714513-0b30-4e17-ac9a-debd5903dbe2",
   "metadata": {},
   "source": [
    "We have the publication date for all of these series but not the start time. Since we are interested only in series of the last 4 decades, we have to discard the \"Batman in film\" that is older."
   ]
  },
  {
   "cell_type": "code",
   "execution_count": 23,
   "id": "6c991c42-35cb-429e-8308-66710498c7a6",
   "metadata": {},
   "outputs": [
    {
     "name": "stdout",
     "output_type": "stream",
     "text": [
      "Results\n",
      "[('series', 'http://www.wikidata.org/entity/Q18914861'), ('name', 'Batman'), ('date', '1989-01-01T00:00:00Z')]\n",
      "[('series', 'http://www.wikidata.org/entity/Q2405799'), ('name', 'DC Universe Animated Original Movies'), ('date', '2007-01-01T00:00:00Z')]\n",
      "[('series', 'http://www.wikidata.org/entity/Q12859908'), ('name', 'The Dark Knight Trilogy'), ('date', '2005-01-01T00:00:00Z')]\n",
      "3\n"
     ]
    }
   ],
   "source": [
    "# show publication date and start time\n",
    "queryString = \"\"\"\n",
    "SELECT DISTINCT ?series ?name ?date ?start\n",
    "WHERE { \n",
    "    wd:Q2695156 wdt:P4969 ?film .\n",
    "    ?film wdt:P31 wd:Q11424.\n",
    "    ?film wdt:P179 ?series.\n",
    "    ?series wdt:P577 ?date.\n",
    "    BIND(year(xsd:dateTime(?date)) AS ?year).\n",
    "    FILTER(?year > 1982).\n",
    "    ?series sc:name ?name.\n",
    "}\n",
    "\"\"\"\n",
    "\n",
    "print(\"Results\")\n",
    "x = run_query(queryString)"
   ]
  },
  {
   "cell_type": "markdown",
   "id": "b7da2e34-d5cc-42d4-b0c0-29d0e81e6c3f",
   "metadata": {},
   "source": [
    "At this point we have to find how many films for each series, how many actors for each series and the total cost of the series (we have to sum the cost of the single film) and also the length of the film. From a previous query we have already found:\n",
    "- `wdt:P161` : cast member\n",
    "- `wdt:P2047` : duration\n",
    "- `wdt:P2130` : cost\n",
    "We can fully answer to the second task"
   ]
  },
  {
   "cell_type": "code",
   "execution_count": 26,
   "id": "60e0931e-9610-4865-a9c9-9d28820aa3a0",
   "metadata": {},
   "outputs": [
    {
     "name": "stdout",
     "output_type": "stream",
     "text": [
      "Results\n",
      "[('series', 'http://www.wikidata.org/entity/Q12859908'), ('name', 'The Dark Knight Trilogy'), ('num_film', '3'), ('actors', '95'), ('tot_len', '17093'), ('tot_cost', '22565000000')]\n",
      "[('series', 'http://www.wikidata.org/entity/Q18914861'), ('name', 'Batman'), ('num_film', '3'), ('actors', '65'), ('tot_len', '8860'), ('tot_cost', '7215000000')]\n",
      "2\n"
     ]
    }
   ],
   "source": [
    "# show all together filtering for series of the last 4 decades\n",
    "queryString = \"\"\"\n",
    "SELECT DISTINCT ?series ?name (COUNT(DISTINCT ?film) AS ?num_film) (COUNT(DISTINCT ?cast) AS ?actors) (sum(?duration) AS ?tot_len) (sum(?cost) AS ?tot_cost) \n",
    "WHERE { \n",
    "    wd:Q2695156 wdt:P4969 ?film .\n",
    "    ?film wdt:P31 wd:Q11424.\n",
    "    ?film wdt:P179 ?series.\n",
    "    ?series wdt:P577 ?date.\n",
    "    BIND(year(xsd:dateTime(?date)) AS ?year).\n",
    "    FILTER(?year > 1982).\n",
    "    \n",
    "    #get the properties of the film\n",
    "    ?film wdt:P161 ?cast;\n",
    "          wdt:P2047 ?duration;\n",
    "          wdt:P2130 ?cost.\n",
    "    \n",
    "    ?series sc:name ?name.\n",
    "}\n",
    "GROUP BY ?series ?name\n",
    "\"\"\"\n",
    "\n",
    "print(\"Results\")\n",
    "x = run_query(queryString)"
   ]
  },
  {
   "cell_type": "code",
   "execution_count": 27,
   "id": "189a8be0-b5ee-4cca-8f60-28c10ad1218f",
   "metadata": {},
   "outputs": [
    {
     "name": "stdout",
     "output_type": "stream",
     "text": [
      "The index of this workflow is: 5_1\n",
      "The path is /locale/data/jupyter/prando/wd-project/2021/ground_truths/gt_json/workflow5_1.json\n",
      "JSON object updated\n"
     ]
    }
   ],
   "source": [
    "## more literals associated to the same element\n",
    "objs = []\n",
    "for i in x:\n",
    "    f_uri = i[0][1]\n",
    "    f_name = i[1][1]\n",
    "    films = i[2][1]\n",
    "    actors = i[3][1]\n",
    "    tot_len = i[4][1]\n",
    "    cost = i[5][1]\n",
    "    for val in [films,actors,tot_len,cost]:\n",
    "        obj = {}\n",
    "        obj[\"refers_to\"] = f_uri\n",
    "        obj[\"refers_to_name\"] = f_name\n",
    "        obj[\"check\"] = \"value\"\n",
    "        obj[\"value\"]= val\n",
    "        objs.append(obj)\n",
    "evaluation.add_result(evaluation.get_index_workflow(pt),\"2\", evaluation.TYPE_REFERRED ,\"value\", objs, elements_per_tuple = 4)"
   ]
  },
  {
   "cell_type": "markdown",
   "id": "7ed55326-762c-4372-b917-4c17a8bbb413",
   "metadata": {
    "tags": []
   },
   "source": [
    "## Task 3\n",
    "Investigate what are the workers (writers, actors, etc.) who had a role in more Batman movies so far.\n"
   ]
  },
  {
   "cell_type": "code",
   "execution_count": 28,
   "id": "f9448548-2847-4bd4-8733-3b520ff58b54",
   "metadata": {},
   "outputs": [
    {
     "name": "stdout",
     "output_type": "stream",
     "text": [
      "Results\n",
      "[('worker', 'http://www.wikidata.org/entity/Q2740528'), ('name', 'Benjamin Melniker'), ('films', '6')]\n",
      "[('worker', 'http://www.wikidata.org/entity/Q313048'), ('name', 'Bob Kane'), ('films', '5')]\n",
      "[('worker', 'http://www.wikidata.org/entity/Q299302'), ('name', 'Michael Gough'), ('films', '4')]\n",
      "[('worker', 'http://www.wikidata.org/entity/Q165283'), ('name', 'Pat Hingle'), ('films', '4')]\n",
      "[('worker', 'http://www.wikidata.org/entity/Q464282'), ('name', 'Bill Finger'), ('films', '4')]\n",
      "[('worker', 'http://www.wikidata.org/entity/Q123351'), ('name', 'Michael Caine'), ('films', '3')]\n",
      "[('worker', 'http://www.wikidata.org/entity/Q56008'), ('name', 'Tim Burton'), ('films', '3')]\n",
      "[('worker', 'http://www.wikidata.org/entity/Q352010'), ('name', 'David S. Goyer'), ('films', '3')]\n",
      "[('worker', 'http://www.wikidata.org/entity/Q3336708'), ('name', 'Nathan Crowley'), ('films', '3')]\n",
      "[('worker', 'http://www.wikidata.org/entity/Q25191'), ('name', 'Christopher Nolan'), ('films', '3')]\n",
      "10\n"
     ]
    }
   ],
   "source": [
    "# show the workers who worked on more films\n",
    "queryString = \"\"\"\n",
    "SELECT DISTINCT ?worker ?name (COUNT(DISTINCT ?film) AS ?films)\n",
    "WHERE { \n",
    "    wd:Q2695156 wdt:P4969 ?film .\n",
    "    ?film wdt:P31 wd:Q11424.\n",
    "    \n",
    "    #get the properties of the film\n",
    "    ?film ?prop ?worker.\n",
    "    ?worker wdt:P31 wd:Q5.\n",
    "    \n",
    "    ?worker sc:name ?name.\n",
    "}\n",
    "GROUP BY ?worker ?name\n",
    "ORDER BY DESC (?films)\n",
    "LIMIT 10\n",
    "\"\"\"\n",
    "\n",
    "print(\"Results\")\n",
    "x = run_query(queryString)"
   ]
  },
  {
   "cell_type": "code",
   "execution_count": 30,
   "id": "cd380e6a-fd39-4b13-92d5-860d65abac89",
   "metadata": {},
   "outputs": [
    {
     "name": "stdout",
     "output_type": "stream",
     "text": [
      "The index of this workflow is: 5_1\n",
      "The path is /locale/data/jupyter/prando/wd-project/2021/ground_truths/gt_json/workflow5_1.json\n",
      "JSON object updated\n"
     ]
    }
   ],
   "source": [
    "## single literal associated to an URI\n",
    "objs = []\n",
    "for i in x:\n",
    "    f_uri = i[0][1]\n",
    "    f_name = i[1][1]\n",
    "    val = i[2][1]\n",
    "    obj = {}\n",
    "    obj[\"refers_to\"] = f_uri\n",
    "    obj[\"refers_to_name\"] = f_name\n",
    "    obj[\"check\"] = \"value\"\n",
    "    obj[\"value\"]= val\n",
    "    objs.append(obj)\n",
    "evaluation.add_result(evaluation.get_index_workflow(pt),\"3\", evaluation.TYPE_REFERRED ,\"value\", objs)"
   ]
  },
  {
   "cell_type": "markdown",
   "id": "82870d07-68c7-492f-806d-af03c9fa19c2",
   "metadata": {},
   "source": [
    "## Task 4\n",
    "Compare the ratings of the single movies and of the series. Indentify the movie with highest rating from the critics and the \"best\" series overall"
   ]
  },
  {
   "cell_type": "code",
   "execution_count": 31,
   "id": "a9551ac5-1de2-49db-a613-2be08c2d070b",
   "metadata": {},
   "outputs": [
    {
     "name": "stdout",
     "output_type": "stream",
     "text": [
      "Results\n",
      "[('prop', 'http://www.wikidata.org/prop/direct/P444'), ('pName', 'review score')]\n",
      "[('prop', 'http://www.wikidata.org/prop/direct/P447'), ('pName', 'review score by')]\n",
      "2\n"
     ]
    }
   ],
   "source": [
    "### This query in the endpoint of wikidata returns exactly what we want, but here data is missing\n",
    "####\n",
    "queryString = \"\"\"\n",
    "SELECT DISTINCT ?prop ?pName\n",
    "WHERE { \n",
    "    ?film wdt:P31 wd:Q11424.\n",
    "    \n",
    "    #get the properties of the film\n",
    "    ?film ?prop ?obj.\n",
    "    ?prop sc:name ?pName.\n",
    "    FILTER(REGEX(?pName,\"score\")).\n",
    "}\n",
    "\n",
    "\"\"\"\n",
    "\n",
    "print(\"Results\")\n",
    "x = run_query(queryString)"
   ]
  },
  {
   "cell_type": "code",
   "execution_count": 32,
   "id": "886308f7-625f-48a4-b987-890fab840fc2",
   "metadata": {},
   "outputs": [
    {
     "name": "stdout",
     "output_type": "stream",
     "text": [
      "Results\n",
      "Empty\n"
     ]
    }
   ],
   "source": [
    "### This query in the endpoint of wikidata returns exactly what we want, but here data is missing\n",
    "####\n",
    "queryString = \"\"\"\n",
    "SELECT DISTINCT ?film  ?obj\n",
    "WHERE { \n",
    "    wd:Q2695156 wdt:P4969 ?film .\n",
    "    ?film wdt:P31 wd:Q11424.\n",
    "    \n",
    "    #get the properties of the film\n",
    "    ?film wdt:P444 ?obj.\n",
    "    \n",
    "}\n",
    "\n",
    "\"\"\"\n",
    "\n",
    "print(\"Results\")\n",
    "x = run_query(queryString)"
   ]
  },
  {
   "cell_type": "markdown",
   "id": "dcbe191e-2f72-4ba1-a55c-0017d3e11bca",
   "metadata": {},
   "source": [
    "## Task 5\n",
    "Return how many actors who are members of the cast of the \"Dark Knight Trilogy\" by Christopher Nolan have Kavin Bacon number equal to 2\n",
    "\n",
    "The Bacon number of an actor is the number of degrees of separation he or she has from Kevin Bacon. So, first af all, I need to retrieve Kevin Bacon.\n",
    "\n",
    "***Dark Knight Trilogy (wd:Q12859908)*** "
   ]
  },
  {
   "cell_type": "code",
   "execution_count": 27,
   "id": "de1efdb1-70ee-4705-8ca1-78628f58d8b9",
   "metadata": {},
   "outputs": [
    {
     "name": "stdout",
     "output_type": "stream",
     "text": [
      "Results\n",
      "[('person', 'http://www.wikidata.org/entity/Q3102228'), ('personName', 'Georges Baconnet')]\n",
      "[('person', 'http://www.wikidata.org/entity/Q3116093'), ('personName', 'Irving Bacon')]\n",
      "[('person', 'http://www.wikidata.org/entity/Q503597'), ('personName', 'James Bacon')]\n",
      "[('person', 'http://www.wikidata.org/entity/Q3454165'), ('personName', 'Kevin Bacon')]\n",
      "[('person', 'http://www.wikidata.org/entity/Q3491343'), ('personName', 'Sosie Bacon')]\n",
      "[('person', 'http://www.wikidata.org/entity/Q3992438'), ('personName', 'Tom Bacon')]\n",
      "[('person', 'http://www.wikidata.org/entity/Q706678'), ('personName', 'Lloyd Bacon')]\n",
      "[('person', 'http://www.wikidata.org/entity/Q65116263'), ('personName', 'Marco Bacon')]\n",
      "[('person', 'http://www.wikidata.org/entity/Q5216474'), ('personName', 'Daniel Bacon')]\n",
      "[('person', 'http://www.wikidata.org/entity/Q16031668'), ('personName', 'Frank Bacon')]\n",
      "[('person', 'http://www.wikidata.org/entity/Q21483293'), ('personName', 'Georges Baconnier')]\n",
      "[('person', 'http://www.wikidata.org/entity/Q608866'), ('personName', 'Nicholas Bacon')]\n",
      "[('person', 'http://www.wikidata.org/entity/Q154340'), ('personName', 'Francis Bacon')]\n",
      "[('person', 'http://www.wikidata.org/entity/Q5231033'), ('personName', 'David Bacon')]\n",
      "[('person', 'http://www.wikidata.org/entity/Q3186649'), ('personName', 'Joséphine Bacon')]\n",
      "15\n"
     ]
    }
   ],
   "source": [
    "# find Kevin Bacon\n",
    "queryString = \"\"\"\n",
    "SELECT DISTINCT ?person ?personName  WHERE { \n",
    "\n",
    "    # Retrieve humans\n",
    "    ?person wdt:P31 wd:Q5 .\n",
    "    \n",
    "    # This returns the labels\n",
    "    ?person <http://schema.org/name> ?personName .\n",
    "\n",
    "    # Since Kevin Bacon is an actor, he probably acted in a film.\n",
    "    FILTER EXISTS{\n",
    "        ?film   wdt:P31   wd:Q11424 ;\n",
    "                wdt:P161  ?person   .             \n",
    "    }\n",
    "    \n",
    "    # I use a regex to search for a surname that contains the word \"Bacon\"\n",
    "    FILTER(REGEX(?personName, \"Bacon\"))\n",
    "    \n",
    "}\n",
    "\"\"\"\n",
    "\n",
    "print(\"Results\")\n",
    "x = run_query(queryString)"
   ]
  },
  {
   "cell_type": "markdown",
   "id": "33b415c4-bbd2-43a8-9679-b229aac7c33b",
   "metadata": {},
   "source": [
    "I have ***Kevin Bacon (wd:Q3454165)***. Now I can retrieve all the cast members of ***Batman's film*** with Kevin Bacon number equal to 2."
   ]
  },
  {
   "cell_type": "code",
   "execution_count": 37,
   "id": "d9f7c990-ed79-423a-8ef5-a746a1064b7b",
   "metadata": {},
   "outputs": [
    {
     "name": "stdout",
     "output_type": "stream",
     "text": [
      "Results\n",
      "[('actor', 'http://www.wikidata.org/entity/Q202381'), ('actorName', 'Maggie Gyllenhaal')]\n",
      "[('actor', 'http://www.wikidata.org/entity/Q729618'), ('actorName', 'Nicky Katt')]\n",
      "[('actor', 'http://www.wikidata.org/entity/Q318249'), ('actorName', 'Matthew Modine')]\n",
      "[('actor', 'http://www.wikidata.org/entity/Q6166387'), ('actorName', 'Jay Benedict')]\n",
      "[('actor', 'http://www.wikidata.org/entity/Q117415'), ('actorName', 'Josh Stewart')]\n",
      "[('actor', 'http://www.wikidata.org/entity/Q16149374'), ('actorName', 'Christine Adams')]\n",
      "[('actor', 'http://www.wikidata.org/entity/Q737369'), ('actorName', 'Tomas Arana')]\n",
      "[('actor', 'http://www.wikidata.org/entity/Q220335'), ('actorName', 'William Fichtner')]\n",
      "[('actor', 'http://www.wikidata.org/entity/Q40572'), ('actorName', 'Heath Ledger')]\n",
      "[('actor', 'http://www.wikidata.org/entity/Q225933'), ('actorName', 'Nestor Carbonell')]\n",
      "[('actor', 'http://www.wikidata.org/entity/Q207969'), ('actorName', 'Eric Roberts')]\n",
      "[('actor', 'http://www.wikidata.org/entity/Q361215'), ('actorName', 'Anthony Michael Hall')]\n",
      "[('actor', 'http://www.wikidata.org/entity/Q192643'), ('actorName', 'Aaron Eckhart')]\n",
      "[('actor', 'http://www.wikidata.org/entity/Q8927'), ('actorName', 'Marion Cotillard')]\n",
      "[('actor', 'http://www.wikidata.org/entity/Q58444'), ('actorName', 'Liam Neeson')]\n",
      "[('actor', 'http://www.wikidata.org/entity/Q981821'), ('actorName', 'Burn Gorman')]\n",
      "[('actor', 'http://www.wikidata.org/entity/Q7817052'), ('actorName', 'Tom Nolan')]\n",
      "[('actor', 'http://www.wikidata.org/entity/Q48337'), ('actorName', 'Morgan Freeman')]\n",
      "[('actor', 'http://www.wikidata.org/entity/Q1108562'), ('actorName', 'Colin McFarlane')]\n",
      "[('actor', 'http://www.wikidata.org/entity/Q312294'), ('actorName', 'Christopher Judge')]\n",
      "[('actor', 'http://www.wikidata.org/entity/Q1366768'), ('actorName', 'Tom Lister, Jr.')]\n",
      "[('actor', 'http://www.wikidata.org/entity/Q5567967'), ('actorName', 'Glen Powell')]\n",
      "[('actor', 'http://www.wikidata.org/entity/Q1058562'), ('actorName', 'Tamer Hassan')]\n",
      "[('actor', 'http://www.wikidata.org/entity/Q3147237'), ('actorName', 'Ian Bohen')]\n",
      "[('actor', 'http://www.wikidata.org/entity/Q177311'), ('actorName', 'Joseph Gordon-Levitt')]\n",
      "[('actor', 'http://www.wikidata.org/entity/Q2635096'), ('actorName', 'Melinda McGraw')]\n",
      "[('actor', 'http://www.wikidata.org/entity/Q4088048'), ('actorName', 'Ronnie Gene Blevins')]\n",
      "[('actor', 'http://www.wikidata.org/entity/Q445146'), ('actorName', 'Desmond Harrington')]\n",
      "[('actor', 'http://www.wikidata.org/entity/Q957363'), ('actorName', 'Vincent Riotta')]\n",
      "[('actor', 'http://www.wikidata.org/entity/Q1859256'), ('actorName', 'Richard Brake')]\n",
      "[('actor', 'http://www.wikidata.org/entity/Q174346'), ('actorName', 'Katie Holmes')]\n",
      "[('actor', 'http://www.wikidata.org/entity/Q465981'), ('actorName', 'Karen David')]\n",
      "[('actor', 'http://www.wikidata.org/entity/Q967833'), ('actorName', 'Josh Pence')]\n",
      "[('actor', 'http://www.wikidata.org/entity/Q266881'), ('actorName', 'Beatrice Rosen')]\n",
      "[('actor', 'http://www.wikidata.org/entity/Q468915'), ('actorName', 'Linus Roache')]\n",
      "[('actor', 'http://www.wikidata.org/entity/Q211322'), ('actorName', 'Tom Wilkinson')]\n",
      "[('actor', 'http://www.wikidata.org/entity/Q202589'), ('actorName', 'Cillian Murphy')]\n",
      "[('actor', 'http://www.wikidata.org/entity/Q379830'), ('actorName', 'Edison Chen')]\n",
      "[('actor', 'http://www.wikidata.org/entity/Q1619100'), ('actorName', 'Lucy Russell')]\n",
      "[('actor', 'http://www.wikidata.org/entity/Q12858652'), ('actorName', 'John Nolan')]\n",
      "[('actor', 'http://www.wikidata.org/entity/Q1313592'), ('actorName', 'Jeremy Theobald')]\n",
      "[('actor', 'http://www.wikidata.org/entity/Q530578'), ('actorName', 'Larry Holden')]\n",
      "[('actor', 'http://www.wikidata.org/entity/Q515044'), ('actorName', 'Sara Stewart')]\n",
      "[('actor', 'http://www.wikidata.org/entity/Q16213294'), ('actorName', 'Thomas Tull')]\n",
      "[('actor', 'http://www.wikidata.org/entity/Q1364838'), ('actorName', 'Fredric Lehne')]\n",
      "[('actor', 'http://www.wikidata.org/entity/Q909704'), ('actorName', 'Brent Briscoe')]\n",
      "[('actor', 'http://www.wikidata.org/entity/Q275658'), ('actorName', 'Wade Williams')]\n",
      "[('actor', 'http://www.wikidata.org/entity/Q3806600'), ('actorName', 'James Harvey Ward')]\n",
      "[('actor', 'http://www.wikidata.org/entity/Q320973'), ('actorName', 'Robert Wisdom')]\n",
      "[('actor', 'http://www.wikidata.org/entity/Q674451'), ('actorName', 'Shane Rimmer')]\n",
      "[('actor', 'http://www.wikidata.org/entity/Q7670520'), ('actorName', 'TJ Ramini')]\n",
      "[('actor', 'http://www.wikidata.org/entity/Q36301'), ('actorName', 'Anne Hathaway')]\n",
      "[('actor', 'http://www.wikidata.org/entity/Q1174630'), ('actorName', 'David Gyasi')]\n",
      "[('actor', 'http://www.wikidata.org/entity/Q2438420'), ('actorName', 'Alon Abutbul')]\n",
      "[('actor', 'http://www.wikidata.org/entity/Q648565'), ('actorName', 'Daniel Sunjata')]\n",
      "[('actor', 'http://www.wikidata.org/entity/Q123351'), ('actorName', 'Michael Caine')]\n",
      "[('actor', 'http://www.wikidata.org/entity/Q536653'), ('actorName', 'Jillian Armenante')]\n",
      "[('actor', 'http://www.wikidata.org/entity/Q16203767'), ('actorName', 'David Dastmalchian')]\n",
      "[('actor', 'http://www.wikidata.org/entity/Q718382'), ('actorName', 'Mark Boone Junior')]\n",
      "[('actor', 'http://www.wikidata.org/entity/Q2434354'), ('actorName', 'Ritchie Coster')]\n",
      "[('actor', 'http://www.wikidata.org/entity/Q208026'), ('actorName', 'Tom Hardy')]\n",
      "[('actor', 'http://www.wikidata.org/entity/Q213574'), ('actorName', 'Rutger Hauer')]\n",
      "[('actor', 'http://www.wikidata.org/entity/Q948751'), ('actorName', 'Michael Papajohn')]\n",
      "[('actor', 'http://www.wikidata.org/entity/Q1319539'), ('actorName', 'Thomas Lennon')]\n",
      "[('actor', 'http://www.wikidata.org/entity/Q717631'), ('actorName', 'Rob Brown')]\n",
      "[('actor', 'http://www.wikidata.org/entity/Q938855'), ('actorName', 'Chin Han')]\n",
      "[('actor', 'http://www.wikidata.org/entity/Q816565'), ('actorName', 'Ben Mendelsohn')]\n",
      "[('actor', 'http://www.wikidata.org/entity/Q436828'), ('actorName', 'Joshua Harto')]\n",
      "[('actor', 'http://www.wikidata.org/entity/Q934484'), ('actorName', 'Nathan Gamble')]\n",
      "[('actor', 'http://www.wikidata.org/entity/Q248915'), ('actorName', 'Michael Jai White')]\n",
      "[('actor', 'http://www.wikidata.org/entity/Q7609915'), ('actorName', 'Stephen Walters')]\n",
      "[('actor', 'http://www.wikidata.org/entity/Q544038'), ('actorName', 'Dave Legeno')]\n",
      "[('actor', 'http://www.wikidata.org/entity/Q1388258'), ('actorName', 'Keith Szarabajka')]\n",
      "[('actor', 'http://www.wikidata.org/entity/Q45772'), ('actorName', 'Christian Bale')]\n",
      "[('actor', 'http://www.wikidata.org/entity/Q1591382'), ('actorName', 'Richard Dillane')]\n",
      "[('actor', 'http://www.wikidata.org/entity/Q211553'), ('actorName', 'Ken Watanabe')]\n",
      "[('actor', 'http://www.wikidata.org/entity/Q554606'), ('actorName', 'Uri Gavriel')]\n",
      "[('actor', 'http://www.wikidata.org/entity/Q613029'), ('actorName', 'Joey Ansah')]\n",
      "[('actor', 'http://www.wikidata.org/entity/Q456426'), ('actorName', 'Monique Gabriela Curnen')]\n",
      "[('actor', 'http://www.wikidata.org/entity/Q241962'), ('actorName', 'Tom Conti')]\n",
      "[('actor', 'http://www.wikidata.org/entity/Q2132927'), ('actorName', 'Gerard Murphy')]\n",
      "[('actor', 'http://www.wikidata.org/entity/Q358032'), ('actorName', 'Aidan Gillen')]\n",
      "[('actor', 'http://www.wikidata.org/entity/Q519949'), ('actorName', 'Sarah Jayne Dunn')]\n",
      "[('actor', 'http://www.wikidata.org/entity/Q1262715'), ('actorName', 'Gus Lewis')]\n",
      "[('actor', 'http://www.wikidata.org/entity/Q933428'), ('actorName', 'Jon Foo')]\n",
      "[('actor', 'http://www.wikidata.org/entity/Q777260'), ('actorName', 'Jack Gleeson')]\n",
      "[('actor', 'http://www.wikidata.org/entity/Q4334647'), ('actorName', 'Vincent van Ommen')]\n",
      "87\n"
     ]
    }
   ],
   "source": [
    "#actors of Dark Knight Trilogy with Kevin Bacon equal to 2\n",
    "queryString = \"\"\"\n",
    "SELECT DISTINCT ?actor ?actorName WHERE { \n",
    "\n",
    "    ## Retrieve actors of the Dark Knight Trilogy\n",
    "    wd:Q12859908 wdt:P527 ?f.\n",
    "    ?f wdt:P161 ?actor .\n",
    "    \n",
    "    # Ensure that the actor and worked together with another actor \"in the middle\"\n",
    "    ?filmMiddle wdt:P161 ?actor       ;\n",
    "                wdt:P161 ?actorMiddle .\n",
    "    \n",
    "    # Ensure that the actor \"in the middle\" worked with Kevin Bacon\n",
    "    ?film       wdt:P161 ?actorMiddle  ;\n",
    "                wdt:P161 wd:Q3454165 .\n",
    "    \n",
    "    # Ensure that the \"first\" actor and Kevin Bacon did not worked together\n",
    "    FILTER NOT EXISTS{\n",
    "        ?film3 wdt:P161 ?actor      ;\n",
    "               wdt:P161 wd:Q3454165 .\n",
    "    }\n",
    "    \n",
    "    # This returns the labels\n",
    "    ?actor <http://schema.org/name> ?actorName .\n",
    "}\n",
    "LIMIT 100\n",
    "\"\"\"\n",
    "\n",
    "print(\"Results\")\n",
    "x = run_query(queryString)"
   ]
  },
  {
   "cell_type": "code",
   "execution_count": 38,
   "id": "e9db05e2",
   "metadata": {},
   "outputs": [
    {
     "name": "stdout",
     "output_type": "stream",
     "text": [
      "The index of this workflow is: 5_1\n",
      "The path is /locale/data/jupyter/prando/wd-project/2021/ground_truths/gt_json/workflow5_1.json\n",
      "JSON object updated\n"
     ]
    }
   ],
   "source": [
    "obj = [{\"uri\":r[0][1],\"name\":r[1][1]} for r in x]\n",
    "evaluation.add_result(evaluation.get_index_workflow(pt),\"5\", evaluation.TYPE_SET ,\"uri\", obj)"
   ]
  },
  {
   "cell_type": "code",
   "execution_count": 39,
   "id": "60fc2f00-c4f9-4920-83a9-3b65d5b80a0a",
   "metadata": {},
   "outputs": [
    {
     "name": "stdout",
     "output_type": "stream",
     "text": [
      "Results\n",
      "[('bacon_2_actors', '87')]\n",
      "1\n"
     ]
    }
   ],
   "source": [
    "#number of actors of Dark Knight Trilogy with Kevin Bacon equal to 2\n",
    "queryString = \"\"\"\n",
    "SELECT COUNT(DISTINCT ?actor) AS ?bacon_2_actors WHERE { \n",
    "\n",
    "    ## Retrieve actors of the Dark Knight Trilogy\n",
    "    wd:Q12859908 wdt:P527 ?f.\n",
    "    ?f wdt:P161 ?actor .\n",
    "    \n",
    "    # Ensure that the actor and worked together with another actor \"in the middle\"\n",
    "    ?filmMiddle wdt:P161 ?actor       ;\n",
    "                wdt:P161 ?actorMiddle .\n",
    "    \n",
    "    # Ensure that the actor \"in the middle\" worked with Kevin Bacon\n",
    "    ?film       wdt:P161 ?actorMiddle  ;\n",
    "                wdt:P161 wd:Q3454165 .\n",
    "    \n",
    "    # Ensure that the \"first\" actor and Kevin Bacon did not worked together\n",
    "    FILTER NOT EXISTS{\n",
    "        ?film3 wdt:P161 ?actor      ;\n",
    "               wdt:P161 wd:Q3454165 .\n",
    "    }\n",
    "    \n",
    "    # This returns the labels\n",
    "    ?actor <http://schema.org/name> ?actorName .\n",
    "}\n",
    "\"\"\"\n",
    "\n",
    "print(\"Results\")\n",
    "x = run_query(queryString)\n",
    "\n"
   ]
  },
  {
   "cell_type": "code",
   "execution_count": null,
   "id": "43aa10ad-323b-4179-83f8-db47c5e440d8",
   "metadata": {},
   "outputs": [],
   "source": []
  }
 ],
 "metadata": {
  "kernelspec": {
   "display_name": "Python 3 (ipykernel)",
   "language": "python",
   "name": "python3"
  },
  "language_info": {
   "codemirror_mode": {
    "name": "ipython",
    "version": 3
   },
   "file_extension": ".py",
   "mimetype": "text/x-python",
   "name": "python",
   "nbconvert_exporter": "python",
   "pygments_lexer": "ipython3",
   "version": "3.9.16"
  }
 },
 "nbformat": 4,
 "nbformat_minor": 5
}
