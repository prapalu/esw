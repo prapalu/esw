{
 "cells": [
  {
   "cell_type": "markdown",
   "id": "7034c3bf-6eb0-4418-8687-7b9d2a501103",
   "metadata": {},
   "source": [
    "# General instructions\n",
    "\n",
    "The goal of the project is to materialize a set of **exploratory workloads** over a real-world, large-scale,  open-domain KG: [WikiData](https://www.wikidata.org/wiki/Wikidata:Main_Page)\n",
    "\n",
    "An exploratory workload  is composed by a set of queries, where each query is related to the information obtained previously.\n",
    "\n",
    "An exploratory workload starts with a usually vague, open ended question, and does not assume the person issuing the workload has a clear understanding of the data contained in the target database or its structure.\n",
    "\n",
    "Remeber that:\n",
    "\n",
    "1. All the queries must run in the python notebook\n",
    "2. You can use classes and properties only if you find them via a SPARQL query that must be present in the notebook\n",
    "3. You do not delete useless queries. Keep everything that is synthatically valid \n",
    "\n",
    "```\n",
    "?p <http://schema.org/name> ?name .\n",
    "```\n",
    "    \n",
    "    is the BGP returning a human-readable name of a property or a class in Wikidata."
   ]
  },
  {
   "cell_type": "code",
   "execution_count": 5,
   "id": "3605c9d5-5371-49a5-be8d-d66e8f417139",
   "metadata": {},
   "outputs": [],
   "source": [
    "## SETUP used later\n",
    "\n",
    "import sys\n",
    "import os\n",
    "import json\n",
    "import pandas as pd\n",
    "sys.path.insert(1, '/locale/data/jupyter/prando/wd-project/src')\n",
    "import gt_modules.evaluation as evaluation\n",
    "from SPARQLWrapper import SPARQLWrapper, JSON\n",
    "\n",
    "\n",
    "prefixString = \"\"\"\n",
    "##-directors_g_t-##\n",
    "PREFIX wd: <http://www.wikidata.org/entity/> \n",
    "PREFIX wdt: <http://www.wikidata.org/prop/direct/> \n",
    "PREFIX sc: <http://schema.org/>\n",
    "\"\"\"\n",
    "\n",
    "# select and construct queries\n",
    "def run_query(queryString,verbose = True):\n",
    "    to_run = prefixString + \"\\n\" + queryString\n",
    "\n",
    "    sparql = SPARQLWrapper(\"http://gracevirtuoso.dei.unipd.it/sparql\")\n",
    "    sparql.setTimeout(300)\n",
    "    sparql.setReturnFormat(JSON)\n",
    "    sparql.setQuery(to_run)\n",
    "\n",
    "    try :\n",
    "        results = sparql.query()\n",
    "        json_results = results.convert()\n",
    "        if len(json_results['results']['bindings'])==0:\n",
    "            print(\"Empty\")\n",
    "            return []\n",
    "        array = []\n",
    "        for bindings in json_results['results']['bindings']:\n",
    "            app =  [ (var, value['value'])  for var, value in bindings.items() ] \n",
    "            if verbose:\n",
    "                print( app)\n",
    "            array.append(app)\n",
    "        if verbose:\n",
    "            print(len(array))\n",
    "        return array\n",
    "\n",
    "    except Exception as e :\n",
    "        print(\"The operation failed\", e)\n",
    "    \n",
    "# ASk queries\n",
    "def run_ask_query(queryString):\n",
    "    to_run = prefixString + \"\\n\" + queryString\n",
    "\n",
    "    sparql = SPARQLWrapper(\"http://gracevirtuoso.dei.unipd.it/sparql\")\n",
    "    sparql.setTimeout(300)\n",
    "    sparql.setReturnFormat(JSON)\n",
    "    sparql.setQuery(to_run)\n",
    "\n",
    "    try :\n",
    "        return sparql.query().convert()\n",
    "\n",
    "    except Exception as e :\n",
    "        print(\"The operation failed\", e)"
   ]
  },
  {
   "cell_type": "markdown",
   "id": "d477a59c-a68c-4c8f-9f97-8ca5294d7d27",
   "metadata": {},
   "source": [
    "# Movie Workflow Series (\"Directors explorative search\") \n",
    "\n",
    "Consider the following exploratory information need:\n",
    "\n",
    "> investigate the results concerning the common aspects between movies directed by Woody Allen or Quentin Tarantino. We want to know the people that worked for both directors with some numerical analyses, what are the differences in terms of budget for their movies, who won more Academy Awards. "
   ]
  },
  {
   "cell_type": "markdown",
   "id": "4a45c0ba-f79e-441d-bec5-84401b09db70",
   "metadata": {},
   "source": [
    "## Useful URIs for the current workflow\n",
    "The following are given:\n",
    "\n",
    "| IRI           | Description   | Role      |\n",
    "| -----------   | -----------   |-----------|\n",
    "| `wdt:P1647`   | subproperty   | predicate |\n",
    "| `wdt:P31`     | instance of   | predicate |\n",
    "| `wdt:P106`    | profession    | predicate | \n",
    "| `wdt:P279`    | subclass      | predicate |\n",
    "| `wdt:P27`     | nationality   | predicate |\n",
    "| `wdt:P106`     | profession   | predicate |\n",
    "| `wdt:P3342`     | Significant person       | predicate |\n",
    "| `wd:Q5`| Human       | node |\n",
    "| `wd:Q2526255`| Director       | node |\n",
    "| `wd:Q25089`| Woody Allen       | node |\n",
    "| `wd:Q3772`    | Quentin Tarantino      | node |\n"
   ]
  },
  {
   "cell_type": "markdown",
   "id": "7af439fb-96e4-4dbb-a381-f19afab79f86",
   "metadata": {
    "tags": []
   },
   "source": [
    "\n",
    "\n",
    "\n",
    "Also consider\n",
    "\n",
    "```\n",
    "wd:Q25089 ?p ?obj .\n",
    "```\n",
    "\n",
    "is the BGP to retrieve all **properties of Woody Allen**\n",
    "\n",
    "\n",
    "The workload should:\n",
    "\n",
    "\n",
    "1. Identify the BGP for films\n",
    "\n",
    "2. Identify the BGP for directors\n",
    "\n",
    "3. Identify the BGP for workers in a films\n",
    "\n",
    "4. Compare the workers amongst the films directed by the two directors\n",
    "\n",
    "5. Return some numerical comparison between the two directors (e.g., how many workers in Tarantino's movies who also worked in Allen's films?, what is the film with the highest number of shared actors? Who is the most used actor by both the directors? etc. )\n",
    "\n",
    "6. Is the maximum budget for a Tarantino's movie higher of the max budget of an Allen's movie?\n",
    "\n",
    "7. Who has films with more nominations for Academy Awards and who won more Academy Awards (with his films not only personal awards).\n",
    "\n",
    "    7.1 Find the BGP for Academy Awards \n",
    "\n",
    "    7.2 Find the related subproperties\n",
    "\n",
    "    7.3 Find how they are related to the directors\n",
    "    \n",
    "    7.4 Are there alternative queries to get the same result?\n",
    "\n"
   ]
  },
  {
   "cell_type": "code",
   "execution_count": 6,
   "id": "d6fdf2c1-d563-4340-98a4-ae302a6bc4dd",
   "metadata": {},
   "outputs": [
    {
     "name": "stdout",
     "output_type": "stream",
     "text": [
      "The index of this workflow is: 5_0\n"
     ]
    }
   ],
   "source": [
    "## startup the evaluation\n",
    "# setup the file and create the empty json\n",
    "ipname = \"directors.ipynb\"\n",
    "pt = os.getcwd()+os.sep+ipname\n",
    "evaluation.setup(pt)"
   ]
  },
  {
   "cell_type": "markdown",
   "id": "4be4a371-a6c0-4616-92b6-5fd6f8c1c24f",
   "metadata": {
    "tags": []
   },
   "source": [
    "## Task 1 \n",
    "Identify the BGP for films"
   ]
  },
  {
   "cell_type": "code",
   "execution_count": 7,
   "id": "06c2b5e5-bc7b-404a-8fc7-31d6ca118da5",
   "metadata": {},
   "outputs": [
    {
     "name": "stdout",
     "output_type": "stream",
     "text": [
      "Results\n",
      "[('pr', 'http://www.wikidata.org/prop/direct/P57'), ('name', 'director')]\n",
      "1\n"
     ]
    }
   ],
   "source": [
    "#Starting from Woody Allen, look to his properties with a regex to find something like 'director'\n",
    "queryString = \"\"\"\n",
    "SELECT DISTINCT ?pr ?name\n",
    "WHERE { \n",
    "\n",
    "?o ?pr wd:Q25089.\n",
    "?pr <http://schema.org/name> ?name .\n",
    "FILTER(REGEX(?name,\\\".*irect.*\\\"))\n",
    "} \n",
    "LIMIT 100\n",
    "\"\"\"\n",
    "\n",
    "print(\"Results\")\n",
    "x = run_query(queryString)"
   ]
  },
  {
   "cell_type": "markdown",
   "id": "39558e76-e074-469b-9e01-8cb7a0d22f2d",
   "metadata": {},
   "source": [
    "Look for the instance of the objects related with the predicate found in the cell above"
   ]
  },
  {
   "cell_type": "code",
   "execution_count": 8,
   "id": "b84948bd-2009-4ad1-b1c5-59e120cab75b",
   "metadata": {},
   "outputs": [
    {
     "name": "stdout",
     "output_type": "stream",
     "text": [
      "Results\n",
      "[('ist', 'http://www.wikidata.org/entity/Q11424'), ('ista', 'film')]\n",
      "[('ist', 'http://www.wikidata.org/entity/Q506240'), ('ista', 'television film')]\n",
      "[('ist', 'http://www.wikidata.org/entity/Q5398426'), ('ista', 'television series')]\n",
      "[('ist', 'http://www.wikidata.org/entity/Q24862'), ('ista', 'short film')]\n",
      "[('ist', 'http://www.wikidata.org/entity/Q47467768'), ('ista', 'operatic production')]\n",
      "5\n"
     ]
    }
   ],
   "source": [
    "queryString = \"\"\"\n",
    "SELECT DISTINCT ?ist ?ista\n",
    "WHERE { \n",
    "\n",
    "?o wdt:P57 wd:Q25089;\n",
    "    wdt:P31 ?ist.\n",
    "    \n",
    "?ist <http://schema.org/name> ?ista .\n",
    "} \n",
    "LIMIT 100\n",
    "\"\"\"\n",
    "\n",
    "print(\"Results\")\n",
    "x = run_query(queryString)"
   ]
  },
  {
   "cell_type": "markdown",
   "id": "95e237e0-90f0-4c65-aa7f-0f513c49860e",
   "metadata": {},
   "source": [
    "So, Q11424 identifies a film"
   ]
  },
  {
   "cell_type": "code",
   "execution_count": 9,
   "id": "ded3f9b8-638e-4a86-9ecd-82e955a5253d",
   "metadata": {},
   "outputs": [
    {
     "name": "stdout",
     "output_type": "stream",
     "text": [
      "The index of this workflow is: 5_0\n",
      "The path is /locale/data/jupyter/prando/wd-project/2021/ground_truths/gt_json/workflow5_0.json\n",
      "JSON object updated\n"
     ]
    }
   ],
   "source": [
    "### insert the result of TASK 1 in the file\n",
    "film_uri = \"http://www.wikidata.org/entity/Q11424\"\n",
    "film_name = \"film\"\n",
    "obj = {\"uri\":film_uri,\"name\":film_name}\n",
    "evaluation.add_result(evaluation.get_index_workflow(pt),\"1\", evaluation.TYPE_SINGLE ,\"uri\", [obj] ,\"all\")"
   ]
  },
  {
   "cell_type": "markdown",
   "id": "2e596872-c846-4324-bba4-fbf18b4862a3",
   "metadata": {
    "tags": []
   },
   "source": [
    "## Task 2\n",
    "Identify the BGP for directors"
   ]
  },
  {
   "cell_type": "markdown",
   "id": "4cadcdc4-d34a-4ace-b413-a3bb5fa59b73",
   "metadata": {},
   "source": [
    "Since I know that Q11424 is the class of film I will look for the class of the director of a film"
   ]
  },
  {
   "cell_type": "code",
   "execution_count": 10,
   "id": "a407cae6-7ffd-4070-95b0-e44806d9198a",
   "metadata": {},
   "outputs": [
    {
     "name": "stdout",
     "output_type": "stream",
     "text": [
      "Results\n",
      "[('pr', 'http://www.wikidata.org/entity/Q2526255'), ('name', 'film director')]\n",
      "[('pr', 'http://www.wikidata.org/entity/Q3455803'), ('name', 'director')]\n",
      "2\n"
     ]
    }
   ],
   "source": [
    "queryString = \"\"\"\n",
    "SELECT DISTINCT ?pr ?name\n",
    "WHERE { \n",
    "?o wdt:P31 wd:Q11424;\n",
    "    wdt:P57 ?x.\n",
    "?x wdt:P31/wdt:P279* ?pr.\n",
    "?pr <http://schema.org/name> ?name .\n",
    "FILTER(REGEX(?name,\\\".*irect.*\\\"))\n",
    "} \n",
    "LIMIT 100\n",
    "\"\"\"\n",
    "\n",
    "print(\"Results\")\n",
    "x= run_query(queryString)"
   ]
  },
  {
   "cell_type": "markdown",
   "id": "7cc9e851-4037-4220-a81a-b4cfceb5fbc4",
   "metadata": {},
   "source": [
    "Q3455803 is a generic director.<br>\n",
    "Q2526255 is a film director (specifically film e.g., not tv series)"
   ]
  },
  {
   "cell_type": "code",
   "execution_count": 12,
   "id": "1741c7ed-1b4e-44d7-8f44-f288378edff7",
   "metadata": {},
   "outputs": [
    {
     "name": "stdout",
     "output_type": "stream",
     "text": [
      "The index of this workflow is: 5_0\n",
      "The path is /locale/data/jupyter/prando/wd-project/2021/ground_truths/gt_json/workflow5_0.json\n",
      "JSON object updated\n"
     ]
    }
   ],
   "source": [
    "### insert the result of TASK 1 in the file\n",
    "film_dir_uri = \"http://www.wikidata.org/entity/Q2526255\"\n",
    "film_dir_name = \"film director\"\n",
    "dir_uri = \"http://www.wikidata.org/entity/Q3455803\"\n",
    "dir_name = \"director\"\n",
    "obj = [{\"uri\":film_dir_uri,\"name\":film_dir_name},{\"uri\":dir_uri,\"name\":dir_name}]\n",
    "evaluation.add_result(evaluation.get_index_workflow(pt),\"2\", evaluation.TYPE_SINGLE ,\"uri\", obj ,\"any\")"
   ]
  },
  {
   "cell_type": "markdown",
   "id": "8b06e178-c189-4043-ae8b-0b8d5b0947fb",
   "metadata": {
    "tags": []
   },
   "source": [
    "## Task 3 "
   ]
  },
  {
   "cell_type": "markdown",
   "id": "326be3cb-b139-4a53-b32e-eee9da266288",
   "metadata": {},
   "source": [
    "Starting from the class \"film director\" I look at its properties"
   ]
  },
  {
   "cell_type": "code",
   "execution_count": 13,
   "id": "b6bb90d6-e900-4920-8789-e4309a0d8ce5",
   "metadata": {},
   "outputs": [
    {
     "name": "stdout",
     "output_type": "stream",
     "text": [
      "Results\n",
      "[('p', 'http://www.wikidata.org/prop/direct/P1424'), ('pName', \"topic's main template\"), ('obj', 'http://www.wikidata.org/entity/Q15278146'), ('objName', 'Template:Infobox film director')]\n",
      "[('p', 'http://www.wikidata.org/prop/direct/P1889'), ('pName', 'different from'), ('obj', 'http://www.wikidata.org/entity/Q222344'), ('objName', 'cinematographer')]\n",
      "[('p', 'http://www.wikidata.org/prop/direct/P1963'), ('pName', 'properties for this type'), ('obj', 'http://www.wikidata.org/entity/P1969'), ('objName', 'MovieMeter director ID (former scheme)')]\n",
      "[('p', 'http://www.wikidata.org/prop/direct/P279'), ('pName', 'subclass of'), ('obj', 'http://www.wikidata.org/entity/Q3391743'), ('objName', 'visual artist')]\n",
      "[('p', 'http://www.wikidata.org/prop/direct/P279'), ('pName', 'subclass of'), ('obj', 'http://www.wikidata.org/entity/Q3406858'), ('objName', 'film professional')]\n",
      "[('p', 'http://www.wikidata.org/prop/direct/P279'), ('pName', 'subclass of'), ('obj', 'http://www.wikidata.org/entity/Q3455803'), ('objName', 'director')]\n",
      "[('p', 'http://www.wikidata.org/prop/direct/P31'), ('pName', 'instance of'), ('obj', 'http://www.wikidata.org/entity/Q28640'), ('objName', 'profession')]\n",
      "[('p', 'http://www.wikidata.org/prop/direct/P31'), ('pName', 'instance of'), ('obj', 'http://www.wikidata.org/entity/Q4220920'), ('objName', 'filmmaking occupation')]\n",
      "[('p', 'http://www.wikidata.org/prop/direct/P361'), ('pName', 'part of'), ('obj', 'http://www.wikidata.org/entity/Q506702'), ('objName', 'film crew')]\n",
      "[('p', 'http://www.wikidata.org/prop/direct/P425'), ('pName', 'field of this occupation'), ('obj', 'http://www.wikidata.org/entity/Q15488100'), ('objName', 'film direction')]\n",
      "[('p', 'http://www.wikidata.org/prop/direct/P6104'), ('pName', 'maintained by WikiProject'), ('obj', 'http://www.wikidata.org/entity/Q8485793'), ('objName', 'WikiProject Film')]\n",
      "[('p', 'http://www.wikidata.org/prop/direct/P910'), ('pName', \"topic's main category\"), ('obj', 'http://www.wikidata.org/entity/Q3919997'), ('objName', 'Category:Film directors')]\n",
      "12\n"
     ]
    }
   ],
   "source": [
    "queryString = \"\"\"\n",
    "SELECT ?p ?pName ?obj ?objName \n",
    "WHERE { \n",
    "\n",
    "wd:Q2526255 ?p ?obj.\n",
    "\n",
    "?obj <http://schema.org/name> ?objName .\n",
    "?p <http://schema.org/name> ?pName .\n",
    "} \n",
    "limit 30\n",
    "\"\"\"\n",
    "\n",
    "print(\"Results\")\n",
    "x = run_query(queryString)"
   ]
  },
  {
   "cell_type": "markdown",
   "id": "c5176fc5-f1df-46ce-a6c6-60ede4ed4edc",
   "metadata": {},
   "source": [
    "Found `Q4220920` that represents a filmmaking occupation. Starting from films I will look for human related with such that their profession is an instance of filmmaking occupation or other subclasses."
   ]
  },
  {
   "cell_type": "code",
   "execution_count": 14,
   "id": "b966fed5-dcb8-4d3a-8b66-6b14d044879d",
   "metadata": {},
   "outputs": [
    {
     "name": "stdout",
     "output_type": "stream",
     "text": [
      "Results\n",
      "[('p', 'http://www.wikidata.org/prop/direct/P5202'), ('role', 'adapted by')]\n",
      "[('p', 'http://www.wikidata.org/prop/direct/P1877'), ('role', 'after a work by')]\n",
      "[('p', 'http://www.wikidata.org/prop/direct/P6942'), ('role', 'animator')]\n",
      "[('p', 'http://www.wikidata.org/prop/direct/P3174'), ('role', 'art director')]\n",
      "[('p', 'http://www.wikidata.org/prop/direct/P5126'), ('role', 'assistant director')]\n",
      "[('p', 'http://www.wikidata.org/prop/direct/P50'), ('role', 'author')]\n",
      "[('p', 'http://www.wikidata.org/prop/direct/P144'), ('role', 'based on')]\n",
      "[('p', 'http://www.wikidata.org/prop/direct/P161'), ('role', 'cast member')]\n",
      "[('p', 'http://www.wikidata.org/prop/direct/P8670'), ('role', 'character designer')]\n",
      "[('p', 'http://www.wikidata.org/prop/direct/P674'), ('role', 'characters')]\n",
      "[('p', 'http://www.wikidata.org/prop/direct/P1809'), ('role', 'choreographer')]\n",
      "[('p', 'http://www.wikidata.org/prop/direct/P86'), ('role', 'composer')]\n",
      "[('p', 'http://www.wikidata.org/prop/direct/P767'), ('role', 'contributor to the creative work or subject')]\n",
      "[('p', 'http://www.wikidata.org/prop/direct/P3931'), ('role', 'copyright holder')]\n",
      "[('p', 'http://www.wikidata.org/prop/direct/P2515'), ('role', 'costume designer')]\n",
      "[('p', 'http://www.wikidata.org/prop/direct/P736'), ('role', 'cover art by')]\n",
      "[('p', 'http://www.wikidata.org/prop/direct/P170'), ('role', 'creator')]\n",
      "[('p', 'http://www.wikidata.org/prop/direct/P1029'), ('role', 'crew member(s)')]\n",
      "[('p', 'http://www.wikidata.org/prop/direct/P825'), ('role', 'dedicated to')]\n",
      "[('p', 'http://www.wikidata.org/prop/direct/P180'), ('role', 'depicts')]\n",
      "[('p', 'http://www.wikidata.org/prop/direct/P287'), ('role', 'designed by')]\n",
      "[('p', 'http://www.wikidata.org/prop/direct/P1889'), ('role', 'different from')]\n",
      "[('p', 'http://www.wikidata.org/prop/direct/P57'), ('role', 'director')]\n",
      "[('p', 'http://www.wikidata.org/prop/direct/P1037'), ('role', 'director / manager')]\n",
      "[('p', 'http://www.wikidata.org/prop/direct/P344'), ('role', 'director of photography')]\n",
      "[('p', 'http://www.wikidata.org/prop/direct/P750'), ('role', 'distributed by')]\n",
      "[('p', 'http://www.wikidata.org/prop/direct/P6086'), ('role', 'dramaturge')]\n",
      "[('p', 'http://www.wikidata.org/prop/direct/P98'), ('role', 'editor')]\n",
      "[('p', 'http://www.wikidata.org/prop/direct/P1431'), ('role', 'executive producer')]\n",
      "[('p', 'http://www.wikidata.org/prop/direct/P1269'), ('role', 'facet of')]\n",
      "[('p', 'http://www.wikidata.org/prop/direct/P3092'), ('role', 'film crew member')]\n",
      "[('p', 'http://www.wikidata.org/prop/direct/P1040'), ('role', 'film editor')]\n",
      "[('p', 'http://www.wikidata.org/prop/direct/P3816'), ('role', 'film script')]\n",
      "[('p', 'http://www.wikidata.org/prop/direct/P155'), ('role', 'follows')]\n",
      "[('p', 'http://www.wikidata.org/prop/direct/P136'), ('role', 'genre')]\n",
      "[('p', 'http://www.wikidata.org/prop/direct/P1542'), ('role', 'has effect')]\n",
      "[('p', 'http://www.wikidata.org/prop/direct/P2354'), ('role', 'has list')]\n",
      "[('p', 'http://www.wikidata.org/prop/direct/P110'), ('role', 'illustrator')]\n",
      "[('p', 'http://www.wikidata.org/prop/direct/P737'), ('role', 'influenced by')]\n",
      "[('p', 'http://www.wikidata.org/prop/direct/P941'), ('role', 'inspired by')]\n",
      "[('p', 'http://www.wikidata.org/prop/direct/P87'), ('role', 'librettist')]\n",
      "[('p', 'http://www.wikidata.org/prop/direct/P5026'), ('role', 'lighting designer')]\n",
      "[('p', 'http://www.wikidata.org/prop/direct/P676'), ('role', 'lyrics by')]\n",
      "[('p', 'http://www.wikidata.org/prop/direct/P921'), ('role', 'main subject')]\n",
      "[('p', 'http://www.wikidata.org/prop/direct/P4805'), ('role', 'make-up artist')]\n",
      "[('p', 'http://www.wikidata.org/prop/direct/P176'), ('role', 'manufacturer')]\n",
      "[('p', 'http://www.wikidata.org/prop/direct/P3300'), ('role', 'musical conductor')]\n",
      "[('p', 'http://www.wikidata.org/prop/direct/P138'), ('role', 'named after')]\n",
      "[('p', 'http://www.wikidata.org/prop/direct/P2438'), ('role', 'narrator')]\n",
      "[('p', 'http://www.wikidata.org/prop/direct/P137'), ('role', 'operator')]\n",
      "[('p', 'http://www.wikidata.org/prop/direct/P710'), ('role', 'participant')]\n",
      "[('p', 'http://www.wikidata.org/prop/direct/P175'), ('role', 'performer')]\n",
      "[('p', 'http://www.wikidata.org/prop/direct/P371'), ('role', 'presenter')]\n",
      "[('p', 'http://www.wikidata.org/prop/direct/P2849'), ('role', 'produced by')]\n",
      "[('p', 'http://www.wikidata.org/prop/direct/P162'), ('role', 'producer')]\n",
      "[('p', 'http://www.wikidata.org/prop/direct/P272'), ('role', 'production company')]\n",
      "[('p', 'http://www.wikidata.org/prop/direct/P2554'), ('role', 'production designer')]\n",
      "[('p', 'http://www.wikidata.org/prop/direct/P123'), ('role', 'publisher')]\n",
      "[('p', 'http://www.wikidata.org/prop/direct/P4608'), ('role', 'scenographer')]\n",
      "[('p', 'http://www.wikidata.org/prop/direct/P58'), ('role', 'screenwriter')]\n",
      "[('p', 'http://www.wikidata.org/prop/direct/P3342'), ('role', 'significant person')]\n",
      "[('p', 'http://www.wikidata.org/prop/direct/P5028'), ('role', 'sound designer')]\n",
      "[('p', 'http://www.wikidata.org/prop/direct/P406'), ('role', 'soundtrack release')]\n",
      "[('p', 'http://www.wikidata.org/prop/direct/P805'), ('role', 'statement is subject of')]\n",
      "[('p', 'http://www.wikidata.org/prop/direct/P3275'), ('role', 'storyboard artist')]\n",
      "[('p', 'http://www.wikidata.org/prop/direct/P942'), ('role', 'theme music')]\n",
      "[('p', 'http://www.wikidata.org/prop/direct/P5051'), ('role', 'towards')]\n",
      "[('p', 'http://www.wikidata.org/prop/direct/P658'), ('role', 'tracklist')]\n",
      "[('p', 'http://www.wikidata.org/prop/direct/P725'), ('role', 'voice actor')]\n",
      "[('p', 'http://www.wikidata.org/prop/direct/P1346'), ('role', 'winner')]\n",
      "70\n"
     ]
    }
   ],
   "source": [
    "queryString = \"\"\"\n",
    "SELECT DISTINCT ?p ?role\n",
    "WHERE { \n",
    "\n",
    "?film wdt:P31 wd:Q11424 .\n",
    "?film ?p ?worker .\n",
    "?worker wdt:P31 wd:Q5 ;\n",
    "        wdt:P106/wdt:P31/wdt:279* wd:Q4220920 .\n",
    "\n",
    "?p <http://schema.org/name> ?role .\n",
    "\n",
    "FILTER(!isLiteral(?worker))\n",
    "} \n",
    "ORDER BY ASC(?role)\n",
    "\"\"\"\n",
    "#\n",
    "print(\"Results\")\n",
    "x = run_query(queryString)"
   ]
  },
  {
   "cell_type": "code",
   "execution_count": 15,
   "id": "65b78dd9-4d6c-4df5-9ccc-cfb09883140e",
   "metadata": {},
   "outputs": [
    {
     "name": "stdout",
     "output_type": "stream",
     "text": [
      "The index of this workflow is: 5_0\n",
      "The path is /locale/data/jupyter/prando/wd-project/2021/ground_truths/gt_json/workflow5_0.json\n",
      "JSON object updated\n"
     ]
    }
   ],
   "source": [
    "obj = [{\"uri\":r[0][1],\"name\":r[1][1]} for r in x]\n",
    "evaluation.add_result(evaluation.get_index_workflow(pt),\"3\", evaluation.TYPE_SET ,\"uri\", obj)"
   ]
  },
  {
   "cell_type": "markdown",
   "id": "25bd0dfa-f0c1-4d31-9c83-4672b40c4b7b",
   "metadata": {
    "jp-MarkdownHeadingCollapsed": true,
    "tags": []
   },
   "source": [
    "## Task 4\n",
    "Compare the workers amongst the films directed by the two directors\n",
    "\n",
    "Starting from the BGP above, the predicate director (wdt:P57) and the two director nodes wd:Q25089 (Woody Allen) and wd:Q3772 (Quentin Tarantino) I will perform some queries."
   ]
  },
  {
   "cell_type": "markdown",
   "id": "49b27310-e4ac-4771-81d7-9218755346ed",
   "metadata": {
    "tags": []
   },
   "source": [
    "#### Query 1.\n",
    "\n",
    "**Which are the top 10 films with more people worked on?**"
   ]
  },
  {
   "cell_type": "code",
   "execution_count": 16,
   "id": "cff68777-a804-459c-a6ea-38475f8a8e48",
   "metadata": {},
   "outputs": [
    {
     "name": "stdout",
     "output_type": "stream",
     "text": [
      "Results\n",
      "[('film', 'Celebrity'), ('director', 'Woody Allen'), ('all', '60')]\n",
      "[('film', 'Once Upon a Time in Hollywood'), ('director', 'Quentin Tarantino'), ('all', '60')]\n",
      "[('film', 'Django Unchained'), ('director', 'Quentin Tarantino'), ('all', '55')]\n",
      "[('film', 'Inglourious Basterds'), ('director', 'Quentin Tarantino'), ('all', '51')]\n",
      "[('film', 'New York Stories'), ('director', 'Woody Allen'), ('all', '42')]\n",
      "[('film', 'The Concert for New York City'), ('director', 'Woody Allen'), ('all', '39')]\n",
      "[('film', 'Pulp Fiction'), ('director', 'Quentin Tarantino'), ('all', '38')]\n",
      "[('film', 'Deconstructing Harry'), ('director', 'Woody Allen'), ('all', '38')]\n",
      "[('film', 'Sin City'), ('director', 'Quentin Tarantino'), ('all', '37')]\n",
      "[('film', 'Shadows and Fog'), ('director', 'Woody Allen'), ('all', '35')]\n",
      "10\n"
     ]
    }
   ],
   "source": [
    "# TOP-10 films with director and people\n",
    "##values ?work {wd:P57 wd:P161}\n",
    "queryString = \"\"\"\n",
    "SELECT ?film ?director (COUNT(DISTINCT ?worker) AS ?all)\n",
    "WHERE {\n",
    "    VALUES ?dir {wd:Q25089 wd:Q3772}\n",
    "    \n",
    "    ?o wdt:P31 wd:Q11424 .\n",
    "    ?o ?p ?worker .\n",
    "    ?o wdt:P57 ?dir.\n",
    "    ?worker wdt:P31 wd:Q5 ;\n",
    "            wdt:P106/wdt:P31/wdt:279* wd:Q4220920 .\n",
    "    \n",
    "    ?o sc:name ?film .\n",
    "    ?dir sc:name ?director .\n",
    "} \n",
    "GROUP BY ?o ?film ?director ?dir\n",
    "ORDER BY DESC (?all)\n",
    "LIMIT 10\n",
    "\"\"\"\n",
    "\n",
    "print(\"Results\")\n",
    "x=run_query(queryString)"
   ]
  },
  {
   "cell_type": "code",
   "execution_count": 17,
   "id": "229bd651-0373-436e-bee8-5e0761a6fb06",
   "metadata": {},
   "outputs": [
    {
     "name": "stdout",
     "output_type": "stream",
     "text": [
      "Results\n",
      "[('worker', 'http://www.wikidata.org/entity/Q346285'), ('name', 'David Arnold')]\n",
      "[('worker', 'http://www.wikidata.org/entity/Q185724'), ('name', 'Mike Myers')]\n",
      "[('worker', 'http://www.wikidata.org/entity/Q207596'), ('name', 'Daryl Hannah')]\n",
      "[('worker', 'http://www.wikidata.org/entity/Q202148'), ('name', 'Burt Reynolds')]\n",
      "[('worker', 'http://www.wikidata.org/entity/Q231096'), ('name', 'Léa Seydoux')]\n",
      "[('worker', 'http://www.wikidata.org/entity/Q38111'), ('name', 'Leonardo DiCaprio')]\n",
      "[('worker', 'http://www.wikidata.org/entity/Q185051'), ('name', 'Christopher Walken')]\n",
      "[('worker', 'http://www.wikidata.org/entity/Q109232'), ('name', 'Rosanna Arquette')]\n",
      "[('worker', 'http://www.wikidata.org/entity/Q203804'), ('name', 'Tim Roth')]\n",
      "[('worker', 'http://www.wikidata.org/entity/Q36949'), ('name', 'Robert De Niro')]\n",
      "[('worker', 'http://www.wikidata.org/entity/Q76819'), ('name', 'Christoph Waltz')]\n",
      "[('worker', 'http://www.wikidata.org/entity/Q125017'), ('name', 'Uma Thurman')]\n",
      "[('worker', 'http://www.wikidata.org/entity/Q104061'), ('name', 'Steve Buscemi')]\n",
      "[('worker', 'http://www.wikidata.org/entity/Q26806'), ('name', 'Danny DeVito')]\n",
      "14\n"
     ]
    }
   ],
   "source": [
    "#list of common workers\n",
    "queryString = \"\"\"\n",
    "SELECT ?worker ?name\n",
    "WHERE {\n",
    "    ?film wdt:P31 wd:Q11424 .\n",
    "    ?film wdt:P57 ?dir.\n",
    "    ?film ?p ?worker .\n",
    "    ?worker wdt:P31 wd:Q5 ;\n",
    "        wdt:P106/wdt:P31/wdt:279* wd:Q4220920 .\n",
    "    FILTER(?dir = wd:Q3772 || ?dir = wd:Q25089) . \n",
    "    FILTER(!isLiteral(?worker)) .\n",
    "    ?worker sc:name ?name\n",
    "}\n",
    "GROUP BY ?worker ?name\n",
    "HAVING (COUNT(DISTINCT ?dir) = 2)\n",
    "\"\"\"\n",
    "\n",
    "print(\"Results\")\n",
    "x = run_query(queryString)"
   ]
  },
  {
   "cell_type": "markdown",
   "id": "db8b76d6-9094-45f7-8fba-9feb5ce2ad81",
   "metadata": {
    "jp-MarkdownHeadingCollapsed": true,
    "tags": []
   },
   "source": [
    "## Task 5\n",
    "Return some numerical comparisons between the two directors (e.g., how many workers in Tarantino's movies who also worked in Allen's films? what is the film with the highest number of shared actors? Who is the most used actor by both the directors? etc. )"
   ]
  },
  {
   "cell_type": "markdown",
   "id": "dfa7c236-327d-497f-b06f-bf723a7aaa30",
   "metadata": {},
   "source": [
    "**How many workers in Tarantino's movies who also worked in Allen's films?**"
   ]
  },
  {
   "cell_type": "code",
   "execution_count": 20,
   "id": "51d85154-b30b-4953-a6d4-771aec0487cc",
   "metadata": {},
   "outputs": [
    {
     "name": "stdout",
     "output_type": "stream",
     "text": [
      "Results\n",
      "[('common_workers', '14')]\n",
      "1\n"
     ]
    }
   ],
   "source": [
    "#how many common workers?\n",
    "queryString = \"\"\"\n",
    "SELECT COUNT(*) AS ?common_workers WHERE{\n",
    "    SELECT ?worker ?name\n",
    "    WHERE {\n",
    "        VALUES ?dir {wd:Q3772 wd:Q25089}\n",
    "        ?film wdt:P31 wd:Q11424 .\n",
    "        ?film wdt:P57 ?dir.\n",
    "        ?film ?p ?worker .\n",
    "        ?worker wdt:P31 wd:Q5 ;\n",
    "            wdt:P106/wdt:P31/wdt:279* wd:Q4220920 .\n",
    "        FILTER(!isLiteral(?worker)) .\n",
    "        ?worker sc:name ?name\n",
    "    }\n",
    "    GROUP BY ?worker ?name\n",
    "    HAVING (COUNT(DISTINCT ?dir) = 2)\n",
    "}\n",
    "\"\"\"\n",
    "\n",
    "print(\"Results\")\n",
    "x=run_query(queryString)"
   ]
  },
  {
   "cell_type": "markdown",
   "id": "3404efe8-f27d-4ddb-913b-f0df36e2e423",
   "metadata": {},
   "source": [
    "**What is the film with the highest number of shared actors?**\n",
    "\n",
    "First: find the actors who worked for both directors"
   ]
  },
  {
   "cell_type": "code",
   "execution_count": 22,
   "id": "d6db1850-c3e4-4bd2-b55c-6d1d83ba4ad5",
   "metadata": {},
   "outputs": [
    {
     "name": "stdout",
     "output_type": "stream",
     "text": [
      "Results\n",
      "[('shared', 'Mike Myers')]\n",
      "[('shared', 'Tim Roth')]\n",
      "[('shared', 'Steve Buscemi')]\n",
      "[('shared', 'Léa Seydoux')]\n",
      "[('shared', 'Rosanna Arquette')]\n",
      "[('shared', 'Daryl Hannah')]\n",
      "[('shared', 'Robert De Niro')]\n",
      "[('shared', 'Uma Thurman')]\n",
      "[('shared', 'Christopher Walken')]\n",
      "[('shared', 'Leonardo DiCaprio')]\n",
      "[('shared', 'Burt Reynolds')]\n",
      "[('shared', 'Christoph Waltz')]\n",
      "12\n"
     ]
    }
   ],
   "source": [
    "#list of shared actors\n",
    "queryString = \"\"\"\n",
    "SELECT DISTINCT ?name AS ?shared\n",
    "WHERE { \n",
    "\n",
    "    # allen\n",
    "    ?filmA wdt:P31 wd:Q11424 .\n",
    "    ?filmA wdt:P57 wd:Q25089.\n",
    "    ?filmA wdt:P161 ?actors .\n",
    "    \n",
    "    # tarantino\n",
    "    ?filmT wdt:P31 wd:Q11424 .\n",
    "    ?filmT wdt:P57 wd:Q3772 .\n",
    "    ?filmT wdt:P161 ?actors .\n",
    "    \n",
    "    ?actors sc:name ?name.\n",
    "} \n",
    "\"\"\"\n",
    "\n",
    "print(\"Results\")\n",
    "x=run_query(queryString)"
   ]
  },
  {
   "cell_type": "code",
   "execution_count": 23,
   "id": "b9273170-537f-460a-8c87-ae74884344ea",
   "metadata": {},
   "outputs": [
    {
     "name": "stdout",
     "output_type": "stream",
     "text": [
      "Results\n",
      "[('f', 'http://www.wikidata.org/entity/Q104123'), ('film', 'Pulp Fiction'), ('more', '5')]\n",
      "[('f', 'http://www.wikidata.org/entity/Q3986392'), ('film', 'The Concert for New York City'), ('more', '4')]\n",
      "[('f', 'http://www.wikidata.org/entity/Q1547511'), ('film', 'One Hundred and One Nights'), ('more', '3')]\n",
      "[('f', 'http://www.wikidata.org/entity/Q153723'), ('film', 'Inglourious Basterds'), ('more', '3')]\n",
      "[('f', 'http://www.wikidata.org/entity/Q47300912'), ('film', 'Once Upon a Time in Hollywood'), ('more', '3')]\n",
      "[('f', 'http://www.wikidata.org/entity/Q25999873'), ('film', 'The War with Grandpa'), ('more', '3')]\n",
      "[('f', 'http://www.wikidata.org/entity/Q1163526'), ('film', 'Search and Destroy'), ('more', '2')]\n",
      "[('f', 'http://www.wikidata.org/entity/Q1743746'), ('film', 'Kiss Daddy Goodnight'), ('more', '2')]\n",
      "[('f', 'http://www.wikidata.org/entity/Q775586'), ('film', 'King of New York'), ('more', '2')]\n",
      "[('f', 'http://www.wikidata.org/entity/Q1524544'), ('film', 'Deceiver'), ('more', '2')]\n",
      "10\n"
     ]
    }
   ],
   "source": [
    "#films with more shared actors\n",
    "queryString = \"\"\"\n",
    "SELECT DISTINCT ?f ?film (COUNT(DISTINCT ?actor) AS ?more)\n",
    "WHERE{\n",
    "    {\n",
    "        SELECT DISTINCT ?actors AS ?shared\n",
    "        WHERE { \n",
    "\n",
    "            # allen\n",
    "            ?filmA wdt:P31 wd:Q11424 .\n",
    "            ?filmA wdt:P57 wd:Q25089.\n",
    "            ?filmA wdt:P161 ?actors .\n",
    "\n",
    "            # tarantino\n",
    "            ?filmT wdt:P31 wd:Q11424 .\n",
    "            ?filmT wdt:P57 wd:Q3772 .\n",
    "            ?filmT wdt:P161 ?actors .\n",
    "\n",
    "        } \n",
    "    }\n",
    "    ?f wdt:P31 wd:Q11424;\n",
    "        wdt:P161 ?x.\n",
    "    ?f sc:name ?film.\n",
    "    ?shared sc:name ?actor.\n",
    "    FILTER(?x = ?shared)\n",
    "}\n",
    "\n",
    "GROUP BY ?f ?film\n",
    "ORDER BY DESC (?more)\n",
    "LIMIT 10\n",
    "\"\"\"\n",
    "\n",
    "print(\"Results\")\n",
    "x=run_query(queryString)"
   ]
  },
  {
   "cell_type": "code",
   "execution_count": 25,
   "id": "cdf21e67-4877-425e-8d40-dacea6451b67",
   "metadata": {},
   "outputs": [
    {
     "name": "stdout",
     "output_type": "stream",
     "text": [
      "Results\n",
      "[('film', 'Pulp Fiction'), ('director', 'Quentin Tarantino'), ('more', '5'), ('actors', 'Tim Roth,Steve Buscemi,Rosanna Arquette,Uma Thurman,Christopher Walken')]\n",
      "[('film', 'The Concert for New York City'), ('director', 'Spike Lee'), ('more', '4'), ('actors', 'Mike Myers,Steve Buscemi,Robert De Niro,Leonardo DiCaprio')]\n",
      "[('film', 'The Concert for New York City'), ('director', 'Martin Scorsese'), ('more', '4'), ('actors', 'Mike Myers,Steve Buscemi,Robert De Niro,Leonardo DiCaprio')]\n",
      "[('film', 'The Concert for New York City'), ('director', 'Kevin Smith'), ('more', '4'), ('actors', 'Mike Myers,Steve Buscemi,Robert De Niro,Leonardo DiCaprio')]\n",
      "[('film', 'The Concert for New York City'), ('director', 'Jerry Seinfeld'), ('more', '4'), ('actors', 'Mike Myers,Steve Buscemi,Robert De Niro,Leonardo DiCaprio')]\n",
      "[('film', 'The Concert for New York City'), ('director', 'Woody Allen'), ('more', '4'), ('actors', 'Mike Myers,Steve Buscemi,Robert De Niro,Leonardo DiCaprio')]\n",
      "[('film', 'The Concert for New York City'), ('director', 'Edward Burns'), ('more', '4'), ('actors', 'Mike Myers,Steve Buscemi,Robert De Niro,Leonardo DiCaprio')]\n",
      "[('film', 'Once Upon a Time in Hollywood'), ('director', 'Quentin Tarantino'), ('more', '3'), ('actors', 'Tim Roth,Leonardo DiCaprio,Burt Reynolds')]\n",
      "[('film', 'Inglourious Basterds'), ('director', 'Quentin Tarantino'), ('more', '3'), ('actors', 'Mike Myers,Léa Seydoux,Christoph Waltz')]\n",
      "[('film', 'The War with Grandpa'), ('director', 'Tim Hill'), ('more', '3'), ('actors', 'Robert De Niro,Uma Thurman,Christopher Walken')]\n",
      "10\n"
     ]
    }
   ],
   "source": [
    "#films with more shared actors with their names\n",
    "queryString = \"\"\"\n",
    "SELECT DISTINCT ?film ?director (COUNT(DISTINCT ?actor) AS ?more) (GROUP_CONCAT(?actor;separator=\",\") AS ?actors)\n",
    "WHERE{\n",
    "    {\n",
    "        SELECT DISTINCT ?actors AS ?shared\n",
    "        WHERE { \n",
    "\n",
    "            # allen\n",
    "            ?filmA wdt:P31 wd:Q11424 .\n",
    "            ?filmA wdt:P57 wd:Q25089.\n",
    "            ?filmA wdt:P161 ?actors .\n",
    "\n",
    "            # tarantino\n",
    "            ?filmT wdt:P31 wd:Q11424 .\n",
    "            ?filmT wdt:P57 wd:Q3772 .\n",
    "            ?filmT wdt:P161 ?actors .\n",
    "\n",
    "        } \n",
    "    }\n",
    "    ?f wdt:P31 wd:Q11424;\n",
    "        wdt:P57 ?dir;\n",
    "        wdt:P161 ?x.\n",
    "    ?f sc:name ?film.\n",
    "    ?dir sc:name ?director.\n",
    "    ?shared sc:name ?actor.\n",
    "    FILTER(?x = ?shared)\n",
    "}\n",
    "\n",
    "GROUP BY ?f ?director ?film\n",
    "ORDER BY DESC (?more)\n",
    "LIMIT 10\n",
    "\"\"\"\n",
    "\n",
    "print(\"Results\")\n",
    "x=run_query(queryString)"
   ]
  },
  {
   "cell_type": "markdown",
   "id": "d6daed8f-8a8e-4989-966d-73e7053a7ed7",
   "metadata": {},
   "source": [
    "**Who is the most used actor by both the directors?**"
   ]
  },
  {
   "cell_type": "code",
   "execution_count": 26,
   "id": "493ba611-3b79-4eef-9f63-b4a68ae8d0cf",
   "metadata": {},
   "outputs": [
    {
     "name": "stdout",
     "output_type": "stream",
     "text": [
      "Results\n",
      "[('director', 'Quentin Tarantino'), ('actor', 'Uma Thurman'), ('films', '4')]\n",
      "[('director', 'Quentin Tarantino'), ('actor', 'Tim Roth'), ('films', '4')]\n",
      "[('director', 'Quentin Tarantino'), ('actor', 'Daryl Hannah'), ('films', '3')]\n",
      "[('director', 'Quentin Tarantino'), ('actor', 'Christoph Waltz'), ('films', '2')]\n",
      "[('director', 'Woody Allen'), ('actor', 'Leonardo DiCaprio'), ('films', '2')]\n",
      "[('director', 'Quentin Tarantino'), ('actor', 'Steve Buscemi'), ('films', '2')]\n",
      "[('director', 'Quentin Tarantino'), ('actor', 'Leonardo DiCaprio'), ('films', '2')]\n",
      "[('director', 'Woody Allen'), ('actor', 'Steve Buscemi'), ('films', '2')]\n",
      "[('director', 'Woody Allen'), ('actor', 'Burt Reynolds'), ('films', '1')]\n",
      "[('director', 'Quentin Tarantino'), ('actor', 'Robert De Niro'), ('films', '1')]\n",
      "10\n"
     ]
    }
   ],
   "source": [
    "queryString = \"\"\"\n",
    "SELECT DISTINCT ?director ?actor (COUNT(DISTINCT ?f) AS ?films)\n",
    "WHERE{\n",
    "    {\n",
    "        SELECT DISTINCT ?actors AS ?shared\n",
    "        WHERE { \n",
    "\n",
    "            # allen\n",
    "            ?filmA wdt:P31 wd:Q11424 .\n",
    "            ?filmA wdt:P57 wd:Q25089.\n",
    "            ?filmA wdt:P161 ?actors .\n",
    "\n",
    "            # tarantino\n",
    "            ?filmT wdt:P31 wd:Q11424 .\n",
    "            ?filmT wdt:P57 wd:Q3772 .\n",
    "            ?filmT wdt:P161 ?actors .\n",
    "\n",
    "        } \n",
    "    }\n",
    "    ?f wdt:P31 wd:Q11424;\n",
    "        wdt:P57 ?dir;\n",
    "        wdt:P161 ?x.\n",
    "    ?f sc:name ?film.\n",
    "    ?dir sc:name ?director.\n",
    "    ?shared sc:name ?actor.\n",
    "    FILTER((?dir = wd:Q25089 || ?dir = wd:Q3772) && (?x = ?shared))\n",
    "}\n",
    "\n",
    "GROUP BY ?common ?actor ?dir ?director\n",
    "ORDER BY DESC (?films)\n",
    "LIMIT 10\n",
    "\"\"\"\n",
    "\n",
    "print(\"Results\")\n",
    "x=run_query(queryString)"
   ]
  },
  {
   "cell_type": "code",
   "execution_count": 27,
   "id": "d0e84611-589f-4e6a-8db3-873cab117e36",
   "metadata": {},
   "outputs": [
    {
     "name": "stdout",
     "output_type": "stream",
     "text": [
      "Results\n",
      "[('actor', 'Uma Thurman'), ('films', '5')]\n",
      "[('actor', 'Tim Roth'), ('films', '5')]\n",
      "[('actor', 'Leonardo DiCaprio'), ('films', '4')]\n",
      "[('actor', 'Daryl Hannah'), ('films', '4')]\n",
      "[('actor', 'Steve Buscemi'), ('films', '4')]\n",
      "[('actor', 'Christoph Waltz'), ('films', '3')]\n",
      "[('actor', 'Léa Seydoux'), ('films', '2')]\n",
      "[('actor', 'Robert De Niro'), ('films', '2')]\n",
      "[('actor', 'Mike Myers'), ('films', '2')]\n",
      "[('actor', 'Rosanna Arquette'), ('films', '2')]\n",
      "10\n"
     ]
    }
   ],
   "source": [
    "queryString = \"\"\"\n",
    "SELECT DISTINCT ?actor (COUNT(DISTINCT ?f) AS ?films)\n",
    "WHERE{\n",
    "    {\n",
    "        SELECT DISTINCT ?actors AS ?shared\n",
    "        WHERE { \n",
    "\n",
    "            # allen\n",
    "            ?filmA wdt:P31 wd:Q11424 .\n",
    "            ?filmA wdt:P57 wd:Q25089.\n",
    "            ?filmA wdt:P161 ?actors .\n",
    "\n",
    "            # tarantino\n",
    "            ?filmT wdt:P31 wd:Q11424 .\n",
    "            ?filmT wdt:P57 wd:Q3772 .\n",
    "            ?filmT wdt:P161 ?actors .\n",
    "\n",
    "        } \n",
    "    }\n",
    "    ?f wdt:P31 wd:Q11424;\n",
    "        wdt:P57 ?dir;\n",
    "        wdt:P161 ?x.\n",
    "    ?f sc:name ?film.\n",
    "    ?dir sc:name ?director.\n",
    "    ?shared sc:name ?actor.\n",
    "    FILTER((?dir = wd:Q25089 || ?dir = wd:Q3772) && (?x = ?shared))\n",
    "}\n",
    "\n",
    "GROUP BY ?common ?actor\n",
    "ORDER BY DESC (?films)\n",
    "LIMIT 10\n",
    "\"\"\"\n",
    "\n",
    "print(\"Results\")\n",
    "x=run_query(queryString)"
   ]
  },
  {
   "cell_type": "markdown",
   "id": "fde15bb6-3e51-43c2-8305-21f410e98726",
   "metadata": {
    "tags": []
   },
   "source": [
    "## Task 6\n",
    "Is the maximum budget for a Tarantino's movie higher of the max budget of an Allen's movie?"
   ]
  },
  {
   "cell_type": "code",
   "execution_count": 18,
   "id": "8e2e44d2-b8b4-4e5a-84a3-688f64e4cde6",
   "metadata": {},
   "outputs": [
    {
     "name": "stdout",
     "output_type": "stream",
     "text": [
      "Results\n",
      "[('pr', 'http://www.wikidata.org/prop/direct/P2047'), ('name', 'duration')]\n",
      "[('pr', 'http://www.wikidata.org/prop/direct/P2130'), ('name', 'cost')]\n",
      "[('pr', 'http://www.wikidata.org/prop/direct/P2142'), ('name', 'box office')]\n",
      "[('pr', 'http://www.wikidata.org/prop/direct/P2769'), ('name', 'budget')]\n",
      "4\n"
     ]
    }
   ],
   "source": [
    "# look for the budget\n",
    "queryString = \"\"\"\n",
    "SELECT DISTINCT ?pr ?name\n",
    "WHERE { \n",
    "?film wdt:P31 wd:Q11424;\n",
    "     wdt:P57 wd:Q25089;\n",
    "    ?pr ?x.\n",
    "?pr <http://schema.org/name> ?name .\n",
    "FILTER(isNumeric(?x))\n",
    "} \n",
    "LIMIT 100\n",
    "\"\"\"\n",
    "\n",
    "print(\"Results\")\n",
    "x=run_query(queryString)"
   ]
  },
  {
   "cell_type": "markdown",
   "id": "589d1763-e6aa-45ae-88ef-a2cc834c16bc",
   "metadata": {},
   "source": [
    "Find two properties: cost (`wd:P2130`) and budget (`wd:P2769`). Have a look to both"
   ]
  },
  {
   "cell_type": "code",
   "execution_count": 19,
   "id": "fa34f180-ac02-45c1-aa48-b1ddde94110b",
   "metadata": {},
   "outputs": [
    {
     "name": "stdout",
     "output_type": "stream",
     "text": [
      "Results\n",
      "[('dir', 'http://www.wikidata.org/entity/Q25089'), ('costT', '25000000')]\n",
      "1\n"
     ]
    }
   ],
   "source": [
    "#result with only numbers using property budget (P2769)\n",
    "queryString = \"\"\"\n",
    "SELECT ?dir MAX( ?cost ) AS ?costT\n",
    "WHERE {\n",
    "    ?film wdt:P31 wd:Q11424 ;\n",
    "        wdt:P57 ?dir ;\n",
    "        wdt:P2769 ?cost .\n",
    "    FILTER(?dir = wd:Q25089 || ?dir = wd:Q3772 ).\n",
    "}\n",
    "GROUP BY ?dir\n",
    "\"\"\"\n",
    "\n",
    "print(\"Results\")\n",
    "x=run_query(queryString)"
   ]
  },
  {
   "cell_type": "code",
   "execution_count": 20,
   "id": "20cb4a80-0734-42bc-a4b7-7d396ee5711a",
   "metadata": {},
   "outputs": [
    {
     "name": "stdout",
     "output_type": "stream",
     "text": [
      "Results\n",
      "[('dir', 'http://www.wikidata.org/entity/Q3772'), ('costT', '100000000')]\n",
      "[('dir', 'http://www.wikidata.org/entity/Q25089'), ('costT', '22000000')]\n",
      "2\n"
     ]
    }
   ],
   "source": [
    "#result with only numbers using property cost (P2130)\n",
    "queryString = \"\"\"\n",
    "SELECT ?dir MAX( ?cost ) AS ?costT\n",
    "WHERE {\n",
    "    ?film wdt:P31 wd:Q11424 ;\n",
    "        wdt:P57 ?dir ;\n",
    "        wdt:P2130 ?cost .\n",
    "    FILTER(?dir = wd:Q25089 || ?dir = wd:Q3772 ).\n",
    "}\n",
    "GROUP BY ?dir\n",
    "\"\"\"\n",
    "\n",
    "print(\"Results\")\n",
    "x=run_query(queryString)"
   ]
  },
  {
   "cell_type": "code",
   "execution_count": 21,
   "id": "1f843658-c9d2-4fed-b4c6-6efaf96befc9",
   "metadata": {},
   "outputs": [
    {
     "name": "stdout",
     "output_type": "stream",
     "text": [
      "Results\n",
      "[('dir', 'http://www.wikidata.org/entity/Q25089'), ('dir_name', 'Woody Allen'), ('film_name', 'You Will Meet a Tall Dark Stranger'), ('max_cost', '22000000')]\n",
      "[('dir', 'http://www.wikidata.org/entity/Q3772'), ('dir_name', 'Quentin Tarantino'), ('film_name', 'Django Unchained'), ('max_cost', '100000000')]\n",
      "2\n"
     ]
    }
   ],
   "source": [
    "#result with film name\n",
    "queryString = \"\"\"\n",
    "SELECT ?dir ?dir_name ?film_name (?c AS ?max_cost)\n",
    "WHERE{\n",
    "{\n",
    "    SELECT ?dir MAX( ?cost ) AS ?costT\n",
    "    WHERE {\n",
    "        ?film wdt:P31 wd:Q11424 ;\n",
    "            wdt:P57 ?dir ;\n",
    "            wdt:P2130 ?cost .\n",
    "        FILTER(?dir = wd:Q25089 || ?dir = wd:Q3772 ).\n",
    "    }GROUP BY ?dir\n",
    "}\n",
    "?f wdt:P31 wd:Q11424 ;\n",
    "    wdt:P57 ?d ;\n",
    "    wdt:P2130 ?c .\n",
    "FILTER(?d = ?dir && ?c = ?costT).\n",
    "?f sc:name ?film_name.\n",
    "?d sc:name ?dir_name.\n",
    "}\n",
    "\"\"\"\n",
    "\n",
    "print(\"Results\")\n",
    "x=run_query(queryString)"
   ]
  },
  {
   "cell_type": "markdown",
   "id": "4d55ba16-b4a1-4ad2-bd06-052591e556c8",
   "metadata": {},
   "source": [
    "Found that cost is the property to answer the question. Run an ASK query"
   ]
  },
  {
   "cell_type": "code",
   "execution_count": 25,
   "id": "698e697c-1c4a-449a-bbc7-1b1ae030523e",
   "metadata": {},
   "outputs": [
    {
     "name": "stdout",
     "output_type": "stream",
     "text": [
      "The index of this workflow is: 5_0\n",
      "The path is /locale/data/jupyter/prando/wd-project/2021/ground_truths/gt_json/workflow5_0.json\n",
      "JSON object updated\n"
     ]
    }
   ],
   "source": [
    "### insert the result of TASK 6 in the file\n",
    "obj1 = {\"uri\":x[0][0][1],\"name\":x[0][1][1],\"value\":x[0][3][1]}\n",
    "obj2 = {\"uri\":x[1][0][1],\"name\":x[1][1][1],\"value\":x[1][3][1]}\n",
    "obj = {\"ask\":True,\"elements\":[obj1,obj2],\"check\":\"value\",\"format\":\"number\"}\n",
    "evaluation.add_result(evaluation.get_index_workflow(pt),\"6\", evaluation.TYPE_SINGLE ,\"ask\",[obj],type_inside=evaluation.TYPE_SINGLE)"
   ]
  },
  {
   "cell_type": "code",
   "execution_count": 26,
   "id": "4fb53dec-bdb0-4b8f-9830-900c0a11a3aa",
   "metadata": {},
   "outputs": [
    {
     "name": "stdout",
     "output_type": "stream",
     "text": [
      "Results\n"
     ]
    },
    {
     "data": {
      "text/plain": [
       "{'head': {'link': []}, 'boolean': True}"
      ]
     },
     "execution_count": 26,
     "metadata": {},
     "output_type": "execute_result"
    }
   ],
   "source": [
    "queryString = \"\"\"\n",
    "ASK WHERE { \n",
    "{\n",
    "#Tarantino\n",
    "    SELECT MAX( ?cost ) AS ?costT\n",
    "    WHERE {\n",
    "        ?film wdt:P31 wd:Q11424 ;\n",
    "            wdt:P57 wd:Q3772 ;\n",
    "            wdt:P2130 ?cost .\n",
    "    }\n",
    "}\n",
    "{\n",
    "#Allen\n",
    "    SELECT MAX(?cost) AS ?costA\n",
    "    WHERE {\n",
    "        ?film wdt:P31 wd:Q11424 ;\n",
    "            wdt:P57 wd:Q25089 ;\n",
    "            wdt:P2130 ?cost .\n",
    "    }\n",
    "}\n",
    "\n",
    "FILTER(?costT > ?costA)\n",
    "\n",
    "} \n",
    "\"\"\"\n",
    "\n",
    "print(\"Results\")\n",
    "run_ask_query(queryString)"
   ]
  },
  {
   "cell_type": "markdown",
   "id": "9fc77f39-8256-46c2-b159-5a9803f1554d",
   "metadata": {},
   "source": [
    "Yes because the maximum budget of Tarantino is 100M while the maximum budget of Allen is 22M. "
   ]
  },
  {
   "cell_type": "markdown",
   "id": "e195abe1-92ca-437e-a3a0-630042f68ff5",
   "metadata": {},
   "source": [
    "## Task 7 \n",
    "Who has films with more nominations for Academy Awards and who won more Academy Awards (with his films not only personal awards)."
   ]
  },
  {
   "cell_type": "markdown",
   "id": "4abecf7e-8db5-4f6d-b39a-672d0966adf5",
   "metadata": {
    "tags": []
   },
   "source": [
    "### Task 7.1\n",
    "Find the BGP for Academy Awards"
   ]
  },
  {
   "cell_type": "markdown",
   "id": "39bee88d-ab07-480d-b339-2c744220c47e",
   "metadata": {},
   "source": [
    "Start from a film looking for property that are similar to `nominated`"
   ]
  },
  {
   "cell_type": "code",
   "execution_count": 25,
   "id": "72e734cd-1a92-4c60-8a87-9faf3d5e1d89",
   "metadata": {},
   "outputs": [
    {
     "name": "stdout",
     "output_type": "stream",
     "text": [
      "Results\n",
      "[('pr', 'http://www.wikidata.org/prop/direct/P1411'), ('name', 'nominated for')]\n",
      "[('pr', 'http://www.wikidata.org/prop/direct/P4353'), ('name', 'nominated by')]\n",
      "2\n"
     ]
    }
   ],
   "source": [
    "queryString = \"\"\"\n",
    "SELECT DISTINCT ?pr ?name\n",
    "WHERE { \n",
    "?f wdt:P31 wd:Q11424;\n",
    "    ?pr ?a.\n",
    "?pr sc:name ?name .\n",
    "FILTER(REGEX(?name,\".*nominated.*\"))\n",
    "} \n",
    "LIMIT 100\n",
    "\"\"\"\n",
    "\n",
    "print(\"Results\")\n",
    "x=run_query(queryString)"
   ]
  },
  {
   "cell_type": "code",
   "execution_count": 26,
   "id": "233c90a4-8103-4271-8030-6fc27347b447",
   "metadata": {},
   "outputs": [
    {
     "name": "stdout",
     "output_type": "stream",
     "text": [
      "Results\n",
      "[('x', 'http://www.wikidata.org/entity/Q96474676'), ('name', 'award for best leading actress')]\n",
      "[('x', 'http://www.wikidata.org/entity/Q96474688'), ('name', 'award for best film by genre')]\n",
      "[('x', 'http://www.wikidata.org/entity/Q96474699'), ('name', 'award for best costume design')]\n",
      "[('x', 'http://www.wikidata.org/entity/Q96474679'), ('name', 'award for best direction')]\n",
      "[('x', 'http://www.wikidata.org/entity/Q618779'), ('name', 'award')]\n",
      "[('x', 'http://www.wikidata.org/entity/Q96474603'), ('name', 'award for best supporting actor')]\n",
      "[('x', 'http://www.wikidata.org/entity/Q56116950'), ('name', 'film award category')]\n",
      "[('x', 'http://www.wikidata.org/entity/Q96474683'), ('name', 'award for best sound editing')]\n",
      "[('x', 'http://www.wikidata.org/entity/Q96474709'), ('name', 'award for best visual effects')]\n",
      "[('x', 'http://www.wikidata.org/entity/Q4220917'), ('name', 'film award')]\n",
      "[('x', 'http://www.wikidata.org/entity/Q96474687'), ('name', 'award for best film')]\n",
      "[('x', 'http://www.wikidata.org/entity/Q38033430'), ('name', 'class of award')]\n",
      "[('x', 'http://www.wikidata.org/entity/Q96474684'), ('name', 'award for best photography')]\n",
      "[('x', 'http://www.wikidata.org/entity/Q96474701'), ('name', 'award for best adapted screenplay')]\n",
      "[('x', 'http://www.wikidata.org/entity/Q96474691'), ('name', 'award for best leading actor')]\n",
      "[('x', 'http://www.wikidata.org/entity/Q71076284'), ('name', 'award for best editing')]\n",
      "[('x', 'http://www.wikidata.org/entity/Q96474589'), ('name', 'award for best supporting actress')]\n",
      "[('x', 'http://www.wikidata.org/entity/Q96474700'), ('name', 'award for best screenplay')]\n",
      "[('x', 'http://www.wikidata.org/entity/Q96474698'), ('name', 'award for best production design')]\n",
      "[('x', 'http://www.wikidata.org/entity/Q96474704'), ('name', 'award for best makeup and hairdressing')]\n",
      "[('x', 'http://www.wikidata.org/entity/Q74681122'), ('name', 'audience award')]\n",
      "[('x', 'http://www.wikidata.org/entity/Q96474686'), ('name', 'award for best first work')]\n",
      "[('x', 'http://www.wikidata.org/entity/Q96474681'), ('name', 'award for best production direction')]\n",
      "[('x', 'http://www.wikidata.org/entity/Q96474685'), ('name', 'award for best original music')]\n",
      "[('x', 'http://www.wikidata.org/entity/Q2116414'), ('name', 'audience award')]\n",
      "[('x', 'http://www.wikidata.org/entity/Q96474708'), ('name', 'award for best special effects')]\n",
      "[('x', 'http://www.wikidata.org/entity/Q96474703'), ('name', 'award for best original screenplay')]\n",
      "[('x', 'http://www.wikidata.org/entity/Q96474690'), ('name', 'award for best film by place of origin')]\n",
      "[('x', 'http://www.wikidata.org/entity/Q96474692'), ('name', 'award for best new actor')]\n",
      "[('x', 'http://www.wikidata.org/entity/Q96474697'), ('name', 'award for best short film by genre')]\n",
      "[('x', 'http://www.wikidata.org/entity/Q107655869'), ('name', 'group of awards')]\n",
      "[('x', 'http://www.wikidata.org/entity/Q96474678'), ('name', 'award for best original song')]\n",
      "[('x', 'http://www.wikidata.org/entity/Q96474689'), ('name', 'award for best film for original language')]\n",
      "[('x', 'http://www.wikidata.org/entity/Q96474696'), ('name', 'award for best short film')]\n",
      "[('x', 'http://www.wikidata.org/entity/Q96474677'), ('name', 'award for best new actress')]\n",
      "[('x', 'http://www.wikidata.org/entity/Q96474682'), ('name', 'award for best new director')]\n",
      "[('x', 'http://www.wikidata.org/entity/Q96575323'), ('name', 'special award')]\n",
      "[('x', 'http://www.wikidata.org/entity/Q96474711'), ('name', 'award for best choreography')]\n",
      "[('x', 'http://www.wikidata.org/entity/Q4504495'), ('name', 'award ceremony')]\n",
      "[('x', 'http://www.wikidata.org/entity/Q96474680'), ('name', 'award for best artistic direction')]\n",
      "[('x', 'http://www.wikidata.org/entity/Q29788158'), ('name', 'award for best newcomer')]\n",
      "[('x', 'http://www.wikidata.org/entity/Q26877490'), ('name', 'award, award nominees, award recipients or award ceremony')]\n",
      "[('x', 'http://www.wikidata.org/entity/Q96474706'), ('name', 'award for best trailer')]\n",
      "[('x', 'http://www.wikidata.org/entity/Q107467117'), ('name', 'type of award')]\n",
      "[('x', 'http://www.wikidata.org/entity/Q28343277'), ('name', 'Locarno International Film Festival award')]\n",
      "[('x', 'http://www.wikidata.org/entity/Q18772252'), ('name', 'pornographic film award')]\n",
      "[('x', 'http://www.wikidata.org/entity/Q28056433'), ('name', 'Gdynia Film Festival awards')]\n",
      "[('x', 'http://www.wikidata.org/entity/Q1407225'), ('name', 'television award')]\n",
      "48\n"
     ]
    }
   ],
   "source": [
    "#looking for what are the instances of these objects\n",
    "queryString = \"\"\"\n",
    "SELECT DISTINCT ?x ?name\n",
    "WHERE { \n",
    "?f wdt:P31 wd:Q11424;\n",
    "    wdt:P1411 ?a.\n",
    "?a wdt:P31 ?x.\n",
    "?x sc:name ?name .\n",
    "FILTER(REGEX(?name,\".*award.*\"))\n",
    "} \n",
    "LIMIT 100\n",
    "\"\"\"\n",
    "\n",
    "print(\"Results\")\n",
    "x=run_query(queryString)"
   ]
  },
  {
   "cell_type": "markdown",
   "id": "1336c3cc-03c3-49c7-94f8-c5f05958da71",
   "metadata": {},
   "source": [
    "`wd:Q4220917`(film award) seems to be the right class of award. Try to look for subclasses of this class to find the Academy award"
   ]
  },
  {
   "cell_type": "code",
   "execution_count": 27,
   "id": "f6bbd964-d204-496a-98d4-a0492fd898a8",
   "metadata": {},
   "outputs": [
    {
     "name": "stdout",
     "output_type": "stream",
     "text": [
      "Results\n",
      "[('a', 'http://www.wikidata.org/entity/Q655089'), ('name', 'International Indian Film Academy Awards')]\n",
      "[('a', 'http://www.wikidata.org/entity/Q2510955'), ('name', 'Japan Academy Prize for Animation of the Year')]\n",
      "[('a', 'http://www.wikidata.org/entity/Q19020'), ('name', 'Academy Awards')]\n",
      "[('a', 'http://www.wikidata.org/entity/Q194258'), ('name', 'Japan Academy Film Prize')]\n",
      "[('a', 'http://www.wikidata.org/entity/Q732997'), ('name', 'British Academy Film Awards')]\n",
      "[('a', 'http://www.wikidata.org/entity/Q384139'), ('name', 'Africa Movie Academy Award')]\n",
      "[('a', 'http://www.wikidata.org/entity/Q11024975'), ('name', 'Myanmar Motion Picture Academy Awards')]\n",
      "[('a', 'http://www.wikidata.org/entity/Q18345192'), ('name', 'Golden Icons Academy Movie Awards')]\n",
      "[('a', 'http://www.wikidata.org/entity/Q74066919'), ('name', '14th Africa Movie Academy Awards')]\n",
      "9\n"
     ]
    }
   ],
   "source": [
    "queryString = \"\"\"\n",
    "SELECT DISTINCT ?a ?name\n",
    "WHERE { \n",
    "?a wdt:P279+ wd:Q4220917.\n",
    "?a sc:name ?name .\n",
    "FILTER(REGEX(?name,\".*cadem.*\"))\n",
    "} \n",
    "LIMIT 100\n",
    "\"\"\"\n",
    "\n",
    "print(\"Results\")\n",
    "x=run_query(queryString)"
   ]
  },
  {
   "cell_type": "markdown",
   "id": "3095fb02-2db2-46fb-aa84-0b379c41ba62",
   "metadata": {},
   "source": [
    "`wd:Q19020` is the Academy Awards"
   ]
  },
  {
   "cell_type": "code",
   "execution_count": 27,
   "id": "5a145549-1d4b-45b5-a576-930c3c2124ad",
   "metadata": {},
   "outputs": [
    {
     "name": "stdout",
     "output_type": "stream",
     "text": [
      "The index of this workflow is: 5_0\n",
      "The path is /locale/data/jupyter/prando/wd-project/2021/ground_truths/gt_json/workflow5_0.json\n",
      "JSON object updated\n"
     ]
    }
   ],
   "source": [
    "### insert the result of TASK 7.1 in the file\n",
    "ac_aw_uri = \"http://www.wikidata.org/entity/Q19020\"\n",
    "ac_aw_name = \"Academy Awards\"\n",
    "obj = {\"uri\":ac_aw_uri,\"name\":ac_aw_name}\n",
    "evaluation.add_result(evaluation.get_index_workflow(pt),\"7.1\", evaluation.TYPE_SINGLE ,\"uri\", [obj] ,\"all\")"
   ]
  },
  {
   "cell_type": "markdown",
   "id": "acff250b-61e1-4fa8-9690-52477fd32ce3",
   "metadata": {
    "tags": []
   },
   "source": [
    "### Task 7.2 \n",
    "Find the related subproperties"
   ]
  },
  {
   "cell_type": "code",
   "execution_count": 28,
   "id": "2b9ff690-dd5f-44b9-9b4f-0f1e4a17e582",
   "metadata": {},
   "outputs": [
    {
     "name": "stdout",
     "output_type": "stream",
     "text": [
      "Results\n",
      "[('a', 'http://www.wikidata.org/entity/Q102427'), ('name', 'Academy Award for Best Picture')]\n",
      "[('a', 'http://www.wikidata.org/entity/Q103360'), ('name', 'Academy Award for Best Director')]\n",
      "[('a', 'http://www.wikidata.org/entity/Q103618'), ('name', 'Academy Award for Best Actress')]\n",
      "[('a', 'http://www.wikidata.org/entity/Q106301'), ('name', 'Academy Award for Best Supporting Actress')]\n",
      "[('a', 'http://www.wikidata.org/entity/Q107258'), ('name', 'Academy Award for Best Writing, Adapted Screenplay')]\n",
      "[('a', 'http://www.wikidata.org/entity/Q112243'), ('name', 'Academy Award for Best Original Song')]\n",
      "[('a', 'http://www.wikidata.org/entity/Q281939'), ('name', 'Academy Award for Best Film Editing')]\n",
      "[('a', 'http://www.wikidata.org/entity/Q41417'), ('name', 'Academy Award for Best Writing, Original Screenplay')]\n",
      "[('a', 'http://www.wikidata.org/entity/Q844273'), ('name', 'Irving G. Thalberg Memorial Award')]\n",
      "[('a', 'http://www.wikidata.org/entity/Q106800'), ('name', 'Academy Award for Best Animated Feature')]\n",
      "[('a', 'http://www.wikidata.org/entity/Q22253131'), ('name', 'Academy Award for Best Art Direction, Color')]\n",
      "[('a', 'http://www.wikidata.org/entity/Q489705'), ('name', 'Academy Juvenile Award')]\n",
      "[('a', 'http://www.wikidata.org/entity/Q1401974'), ('name', 'Academy Award for Best Short Subject, Two-reel')]\n",
      "[('a', 'http://www.wikidata.org/entity/Q22344608'), ('name', 'Academy Award for Best Original Song Score')]\n",
      "[('a', 'http://www.wikidata.org/entity/Q4671338'), ('name', 'Academy Award for Best Original Musical Score')]\n",
      "[('a', 'http://www.wikidata.org/entity/Q22117120'), ('name', 'Academy Award for Best Writing')]\n",
      "[('a', 'http://www.wikidata.org/entity/Q2032630'), ('name', 'Special Achievement Academy Award')]\n",
      "[('a', 'http://www.wikidata.org/entity/Q501004'), ('name', 'Academy Award for Best Assistant Director')]\n",
      "[('a', 'http://www.wikidata.org/entity/Q22335251'), ('name', 'Academy Award for Best Live Action Short Film, One-Reel')]\n",
      "[('a', 'http://www.wikidata.org/entity/Q103916'), ('name', 'Academy Award for Best Actor')]\n",
      "[('a', 'http://www.wikidata.org/entity/Q105304'), ('name', 'Academy Award for Best Foreign Language Film')]\n",
      "[('a', 'http://www.wikidata.org/entity/Q106291'), ('name', 'Academy Award for Best Supporting Actor')]\n",
      "[('a', 'http://www.wikidata.org/entity/Q131520'), ('name', 'Academy Award for Best Cinematography')]\n",
      "[('a', 'http://www.wikidata.org/entity/Q22120095'), ('name', 'Academy Award for Best Costume Design, Black-and-White')]\n",
      "[('a', 'http://www.wikidata.org/entity/Q22253133'), ('name', 'Academy Award for Best Art Direction, Black and White')]\n",
      "[('a', 'http://www.wikidata.org/entity/Q22752868'), ('name', 'Academy Award for Best Original Dramatic or Comedy Score')]\n",
      "[('a', 'http://www.wikidata.org/entity/Q277536'), ('name', 'Academy Award for Best Costume Design')]\n",
      "[('a', 'http://www.wikidata.org/entity/Q277751'), ('name', 'Academy Award for Best Production Design')]\n",
      "[('a', 'http://www.wikidata.org/entity/Q393686'), ('name', 'Academy Award for Best Visual Effects')]\n",
      "[('a', 'http://www.wikidata.org/entity/Q488645'), ('name', 'Academy Award for Best Sound Editing')]\n",
      "[('a', 'http://www.wikidata.org/entity/Q488651'), ('name', 'Academy Award for Best Original Score')]\n",
      "[('a', 'http://www.wikidata.org/entity/Q727328'), ('name', 'Academy Honorary Award')]\n",
      "[('a', 'http://www.wikidata.org/entity/Q830079'), ('name', 'Academy Award for Best Sound')]\n",
      "[('a', 'http://www.wikidata.org/entity/Q21995136'), ('name', 'Academy Award for Best Cinematography, Color')]\n",
      "[('a', 'http://www.wikidata.org/entity/Q21995139'), ('name', 'Academy Award for Best Cinematography, Black-and-White')]\n",
      "[('a', 'http://www.wikidata.org/entity/Q22752811'), ('name', 'Academy Award for Best Score, Adaptation or Treatment')]\n",
      "[('a', 'http://www.wikidata.org/entity/Q8610'), ('name', 'Academy Scientific and Technical Award')]\n",
      "[('a', 'http://www.wikidata.org/entity/Q1324407'), ('name', 'Academy Award for Best Live Action Short Film')]\n",
      "[('a', 'http://www.wikidata.org/entity/Q487136'), ('name', 'Academy Award for Best Makeup and Hairstyling')]\n",
      "[('a', 'http://www.wikidata.org/entity/Q504298'), ('name', 'Academy Award for Best Story')]\n",
      "[('a', 'http://www.wikidata.org/entity/Q3886464'), ('name', 'Academy Award for Best Live Action Short Film, Comedy')]\n",
      "[('a', 'http://www.wikidata.org/entity/Q2297175'), ('name', 'Academy Award for Best Short Subject, Novelty')]\n",
      "[('a', 'http://www.wikidata.org/entity/Q111332'), ('name', 'Academy Award for Best Documentary Feature')]\n",
      "[('a', 'http://www.wikidata.org/entity/Q22752734'), ('name', 'Academy Award for Best Original Score, no Musical')]\n",
      "[('a', 'http://www.wikidata.org/entity/Q488151'), ('name', 'Gordon E. Sawyer Award')]\n",
      "[('a', 'http://www.wikidata.org/entity/Q21995338'), ('name', 'Academy Award for Best Director, Dramatic Picture')]\n",
      "[('a', 'http://www.wikidata.org/entity/Q22235305'), ('name', 'Academy Award for Best Original Musical or Comedy Score')]\n",
      "[('a', 'http://www.wikidata.org/entity/Q8636'), ('name', 'Academy Award for Technical Achievement')]\n",
      "[('a', 'http://www.wikidata.org/entity/Q22120066'), ('name', 'Academy Award for Best Costume Design, Color')]\n",
      "[('a', 'http://www.wikidata.org/entity/Q22235329'), ('name', 'Academy Award for Best Original Dramatic Score')]\n",
      "[('a', 'http://www.wikidata.org/entity/Q22917729'), ('name', 'Academy Award for Best Special Effects')]\n",
      "[('a', 'http://www.wikidata.org/entity/Q1425151'), ('name', 'Academy Award for Best Documentary (Short Subject)')]\n",
      "[('a', 'http://www.wikidata.org/entity/Q917808'), ('name', 'Academy Award for Best Animated Short Film')]\n",
      "[('a', 'http://www.wikidata.org/entity/Q98924004'), ('name', 'Academy Award to the Producer of the Best Film')]\n",
      "[('a', 'http://www.wikidata.org/entity/Q498690'), ('name', 'Academy Award for Best Dance Direction')]\n",
      "[('a', 'http://www.wikidata.org/entity/Q3451157'), ('name', 'Academy Award for Best Director (Comedy picture)')]\n",
      "[('a', 'http://www.wikidata.org/entity/Q3886465'), ('name', 'Academy Award for Best Live Action Short Film, Color')]\n",
      "[('a', 'http://www.wikidata.org/entity/Q3886463'), ('name', 'Academy Award for Best Engineering Effects')]\n",
      "[('a', 'http://www.wikidata.org/entity/Q8624'), ('name', 'Academy Award of Merit')]\n",
      "[('a', 'http://www.wikidata.org/entity/Q3886486'), ('name', 'Academy Award for Best Title Writing')]\n",
      "[('a', 'http://www.wikidata.org/entity/Q8250869'), ('name', 'Scientific and Engineering Award')]\n",
      "[('a', 'http://www.wikidata.org/entity/Q3298549'), ('name', 'Academy Award for Unique and Artistic Production')]\n",
      "[('a', 'http://www.wikidata.org/entity/Q31193514'), ('name', 'Academy Award for Best Unique and Artistic Picture')]\n",
      "63\n"
     ]
    }
   ],
   "source": [
    "#look for something istance of academy awards\n",
    "queryString = \"\"\"\n",
    "SELECT DISTINCT ?a ?name\n",
    "WHERE { \n",
    "?a wdt:P31 wd:Q19020.\n",
    "?a sc:name ?name .\n",
    "} \n",
    "LIMIT 100\n",
    "\"\"\"\n",
    "\n",
    "print(\"Results\")\n",
    "x=run_query(queryString)"
   ]
  },
  {
   "cell_type": "markdown",
   "id": "ff8ecd5a-e86b-4632-88d2-65f14eef988a",
   "metadata": {},
   "source": [
    "`wd:Q19020` is the class of Academy Awards. Then selecting objects that are istance of academy awards we have the list of all type of academy awards. "
   ]
  },
  {
   "cell_type": "code",
   "execution_count": 29,
   "id": "a8b218e1-bc3f-4c41-9d8c-129f088a55cb",
   "metadata": {},
   "outputs": [
    {
     "name": "stdout",
     "output_type": "stream",
     "text": [
      "The index of this workflow is: 5_0\n",
      "The path is /locale/data/jupyter/prando/wd-project/2021/ground_truths/gt_json/workflow5_0.json\n",
      "JSON object updated\n"
     ]
    }
   ],
   "source": [
    "obj = [{\"uri\":r[0][1],\"name\":r[1][1]} for r in x]\n",
    "evaluation.add_result(evaluation.get_index_workflow(pt),\"4\", evaluation.TYPE_SET ,\"uri\", obj)"
   ]
  },
  {
   "cell_type": "code",
   "execution_count": 31,
   "id": "7f184e96-4bac-4807-815e-6df28e21f69e",
   "metadata": {},
   "outputs": [
    {
     "name": "stdout",
     "output_type": "stream",
     "text": [
      "Results\n",
      "[('pr', 'http://www.wikidata.org/prop/direct/P101'), ('name', 'field of work')]\n",
      "[('pr', 'http://www.wikidata.org/prop/direct/P1346'), ('name', 'winner')]\n",
      "[('pr', 'http://www.wikidata.org/prop/direct/P138'), ('name', 'named after')]\n",
      "[('pr', 'http://www.wikidata.org/prop/direct/P1417'), ('name', 'Encyclopædia Britannica Online ID')]\n",
      "[('pr', 'http://www.wikidata.org/prop/direct/P1424'), ('name', \"topic's main template\")]\n",
      "[('pr', 'http://www.wikidata.org/prop/direct/P154'), ('name', 'logo image')]\n",
      "[('pr', 'http://www.wikidata.org/prop/direct/P166'), ('name', 'award received')]\n",
      "[('pr', 'http://www.wikidata.org/prop/direct/P17'), ('name', 'country')]\n",
      "[('pr', 'http://www.wikidata.org/prop/direct/P1705'), ('name', 'native label')]\n",
      "[('pr', 'http://www.wikidata.org/prop/direct/P2257'), ('name', 'event interval')]\n",
      "[('pr', 'http://www.wikidata.org/prop/direct/P2581'), ('name', 'BabelNet ID')]\n",
      "[('pr', 'http://www.wikidata.org/prop/direct/P2671'), ('name', 'Google Knowledge Graph ID')]\n",
      "[('pr', 'http://www.wikidata.org/prop/direct/P31'), ('name', 'instance of')]\n",
      "[('pr', 'http://www.wikidata.org/prop/direct/P3553'), ('name', 'Zhihu topic ID')]\n",
      "[('pr', 'http://www.wikidata.org/prop/direct/P361'), ('name', 'part of')]\n",
      "[('pr', 'http://www.wikidata.org/prop/direct/P373'), ('name', 'Commons category')]\n",
      "[('pr', 'http://www.wikidata.org/prop/direct/P5008'), ('name', 'on focus list of Wikimedia project')]\n",
      "[('pr', 'http://www.wikidata.org/prop/direct/P571'), ('name', 'inception')]\n",
      "[('pr', 'http://www.wikidata.org/prop/direct/P576'), ('name', 'dissolved, abolished or demolished date')]\n",
      "[('pr', 'http://www.wikidata.org/prop/direct/P580'), ('name', 'start time')]\n",
      "[('pr', 'http://www.wikidata.org/prop/direct/P582'), ('name', 'end time')]\n",
      "[('pr', 'http://www.wikidata.org/prop/direct/P6262'), ('name', 'Fandom article ID')]\n",
      "[('pr', 'http://www.wikidata.org/prop/direct/P646'), ('name', 'Freebase ID')]\n",
      "[('pr', 'http://www.wikidata.org/prop/direct/P7084'), ('name', 'related category')]\n",
      "[('pr', 'http://www.wikidata.org/prop/direct/P7502'), ('name', 'Golden ID')]\n",
      "[('pr', 'http://www.wikidata.org/prop/direct/P8408'), ('name', 'KBpedia ID')]\n",
      "[('pr', 'http://www.wikidata.org/prop/direct/P856'), ('name', 'official website')]\n",
      "[('pr', 'http://www.wikidata.org/prop/direct/P910'), ('name', \"topic's main category\")]\n",
      "[('pr', 'http://www.wikidata.org/prop/direct/P935'), ('name', 'Commons gallery')]\n",
      "[('pr', 'http://www.wikidata.org/prop/direct/P1027'), ('name', 'conferred by')]\n",
      "[('pr', 'http://www.wikidata.org/prop/direct/P2517'), ('name', 'category for recipients of this award')]\n",
      "[('pr', 'http://www.wikidata.org/prop/direct/P8115'), ('name', 'eligible recipient')]\n",
      "32\n"
     ]
    }
   ],
   "source": [
    "#look for some properties\n",
    "queryString = \"\"\"\n",
    "SELECT DISTINCT ?pr ?name\n",
    "WHERE { \n",
    "?a wdt:P31 wd:Q19020.\n",
    "?a ?pr ?o.\n",
    "?pr sc:name ?name .\n",
    "} \n",
    "LIMIT 100\n",
    "\"\"\"\n",
    "\n",
    "print(\"Results\")\n",
    "x=run_query(queryString)"
   ]
  },
  {
   "cell_type": "code",
   "execution_count": 32,
   "id": "fd1af79a-0469-4a1c-9754-fc19f9a8150c",
   "metadata": {},
   "outputs": [
    {
     "name": "stdout",
     "output_type": "stream",
     "text": [
      "Results\n",
      "[('pr', 'http://www.wikidata.org/prop/direct/P1423'), ('name', 'template has topic')]\n",
      "[('pr', 'http://www.wikidata.org/prop/direct/P106'), ('name', 'occupation')]\n",
      "[('pr', 'http://www.wikidata.org/prop/direct/P1269'), ('name', 'facet of')]\n",
      "[('pr', 'http://www.wikidata.org/prop/direct/P1411'), ('name', 'nominated for')]\n",
      "[('pr', 'http://www.wikidata.org/prop/direct/P166'), ('name', 'award received')]\n",
      "[('pr', 'http://www.wikidata.org/prop/direct/P2522'), ('name', 'victory')]\n",
      "[('pr', 'http://www.wikidata.org/prop/direct/P301'), ('name', \"category's main topic\")]\n",
      "[('pr', 'http://www.wikidata.org/prop/direct/P31'), ('name', 'instance of')]\n",
      "[('pr', 'http://www.wikidata.org/prop/direct/P361'), ('name', 'part of')]\n",
      "[('pr', 'http://www.wikidata.org/prop/direct/P527'), ('name', 'has part')]\n",
      "[('pr', 'http://www.wikidata.org/prop/direct/P921'), ('name', 'main subject')]\n",
      "[('pr', 'http://www.wikidata.org/prop/direct/P971'), ('name', 'category combines topics')]\n",
      "12\n"
     ]
    }
   ],
   "source": [
    "#look for some properties\n",
    "queryString = \"\"\"\n",
    "SELECT DISTINCT ?pr ?name\n",
    "WHERE { \n",
    "?a wdt:P31 wd:Q19020.\n",
    "?o ?pr ?a.\n",
    "?pr sc:name ?name .\n",
    "} \n",
    "LIMIT 100\n",
    "\"\"\"\n",
    "\n",
    "print(\"Results\")\n",
    "x=run_query(queryString)"
   ]
  },
  {
   "cell_type": "markdown",
   "id": "aef2018f-9793-4213-8dc5-e434573814dd",
   "metadata": {},
   "source": [
    "The properties of interest are:\n",
    "- `wdt:P1411`  nominated for\n",
    "- `wdt:P166`  award received"
   ]
  },
  {
   "cell_type": "markdown",
   "id": "7c4c1f07-785c-4e7c-8ada-6446491b09b8",
   "metadata": {
    "tags": []
   },
   "source": [
    "### Task 7.3\n",
    "Find how they are related to the directors (`wd:Q3455803`)"
   ]
  },
  {
   "cell_type": "code",
   "execution_count": 33,
   "id": "e1b4ce0c-87c4-4535-be01-327d57b1d0af",
   "metadata": {},
   "outputs": [
    {
     "name": "stdout",
     "output_type": "stream",
     "text": [
      "Results\n",
      "[('pr', 'http://www.wikidata.org/prop/direct/P106'), ('name', 'occupation')]\n",
      "1\n"
     ]
    }
   ],
   "source": [
    "#find all people who are connected with the class director\n",
    "queryString = \"\"\"\n",
    "SELECT DISTINCT ?pr ?name\n",
    "WHERE { \n",
    "?sub wdt:P279* wd:Q3455803.\n",
    "wd:Q3772 ?pr ?sub.\n",
    "\n",
    "?pr sc:name ?name .\n",
    "} \n",
    "LIMIT 100\n",
    "\"\"\"\n",
    "\n",
    "print(\"Results\")\n",
    "x=run_query(queryString)"
   ]
  },
  {
   "cell_type": "code",
   "execution_count": 30,
   "id": "8bebb091-cdfd-43b1-ab70-de378a90c320",
   "metadata": {},
   "outputs": [
    {
     "name": "stdout",
     "output_type": "stream",
     "text": [
      "Results\n",
      "[('pr', 'http://www.wikidata.org/prop/direct/P1411'), ('name', 'nominated for')]\n",
      "[('pr', 'http://www.wikidata.org/prop/direct/P166'), ('name', 'award received')]\n",
      "2\n"
     ]
    }
   ],
   "source": [
    "#from the directors find the relations to the academy award\n",
    "queryString = \"\"\"\n",
    "SELECT DISTINCT ?pr ?name\n",
    "WHERE { \n",
    "?award wdt:P31 wd:Q19020.\n",
    "?x wdt:P106 wd:Q3455803.\n",
    "\n",
    "?x ?pr ?award.\n",
    "\n",
    "?pr sc:name ?name .\n",
    "} \n",
    "LIMIT 100\n",
    "\"\"\"\n",
    "\n",
    "print(\"Results\")\n",
    "x = run_query(queryString)"
   ]
  },
  {
   "cell_type": "code",
   "execution_count": 31,
   "id": "ae7f5181-7026-4715-a8b6-23d9af058e19",
   "metadata": {},
   "outputs": [
    {
     "name": "stdout",
     "output_type": "stream",
     "text": [
      "The index of this workflow is: 5_0\n",
      "The path is /locale/data/jupyter/prando/wd-project/2021/ground_truths/gt_json/workflow5_0.json\n",
      "JSON object updated\n"
     ]
    }
   ],
   "source": [
    "obj = [{\"uri\":r[0][1],\"name\":r[1][1]} for r in x]\n",
    "evaluation.add_result(evaluation.get_index_workflow(pt),\"7.3\", evaluation.TYPE_SET ,\"uri\", obj)"
   ]
  },
  {
   "cell_type": "markdown",
   "id": "84c4fe1a-0b03-43d1-b2b1-2e2277a8c036",
   "metadata": {},
   "source": [
    "### Task 7 Who has more nomination and more wins? ONE SHOT VERSION"
   ]
  },
  {
   "cell_type": "code",
   "execution_count": 33,
   "id": "6e10255f-d1fd-4a58-9a42-548ddff4976d",
   "metadata": {},
   "outputs": [
    {
     "name": "stdout",
     "output_type": "stream",
     "text": [
      "Results\n",
      "[('dir_wins', 'http://www.wikidata.org/entity/Q25089'), ('director', 'Woody Allen'), ('nominations', '52'), ('wins', '12')]\n",
      "[('dir_wins', 'http://www.wikidata.org/entity/Q3772'), ('director', 'Quentin Tarantino'), ('nominations', '24'), ('wins', '7')]\n",
      "2\n"
     ]
    }
   ],
   "source": [
    "#academy award nominations and wins by directors\n",
    "queryString = \"\"\"\n",
    "SELECT DISTINCT ?dir_wins ?director ?nominations ?wins\n",
    "WHERE { \n",
    "{\n",
    "    SELECT DISTINCT ?dir AS ?dir_nom (COUNT(*) AS ?nominations)\n",
    "    WHERE { \n",
    "    ?film wdt:P31 wd:Q11424 .\n",
    "    ?film wdt:P57 ?dir.\n",
    "    ?film wdt:P1411 ?nomination .\n",
    "    ?nomination wdt:P31 wd:Q19020 .\n",
    "    FILTER(?dir = wd:Q25089 || ?dir = wd:Q3772 ).\n",
    "    } \n",
    "    GROUP BY ?dir \n",
    "}\n",
    "{\n",
    "    SELECT DISTINCT ?dir AS ?dir_wins (COUNT(*) AS ?wins)\n",
    "    WHERE { \n",
    "    ?film wdt:P31 wd:Q11424 .\n",
    "    ?film wdt:P57 ?dir.\n",
    "    ?film wdt:P166 ?win .\n",
    "    ?win wdt:P31 wd:Q19020 .\n",
    "    FILTER(?dir = wd:Q25089 || ?dir = wd:Q3772 ).\n",
    "    } \n",
    "    GROUP BY ?dir\n",
    "}\n",
    "FILTER(?dir_wins=?dir_nom)\n",
    "?dir_wins sc:name ?director\n",
    "} \n",
    "ORDER BY DESC ( ?nominations) DESC (?wins)\n",
    "LIMIT 20\n",
    "\"\"\"\n",
    "\n",
    "print(\"Results\")\n",
    "x=run_query(queryString)"
   ]
  },
  {
   "cell_type": "code",
   "execution_count": 34,
   "id": "50329fde",
   "metadata": {},
   "outputs": [
    {
     "name": "stdout",
     "output_type": "stream",
     "text": [
      "The index of this workflow is: 5_0\n",
      "The path is /locale/data/jupyter/prando/wd-project/2021/ground_truths/gt_json/workflow5_0.json\n",
      "JSON object updated\n"
     ]
    }
   ],
   "source": [
    "## more literals associated to the same element\n",
    "objs = []\n",
    "for i in x:\n",
    "    f_uri = i[0][1]\n",
    "    f_name = i[1][1]\n",
    "    nom = i[2][1]\n",
    "    win = i[3][1]\n",
    "    for val in [nom,win]:\n",
    "        obj = {}\n",
    "        obj[\"refers_to\"] = f_uri\n",
    "        obj[\"refers_to_name\"] = f_name\n",
    "        obj[\"check\"] = \"value\"\n",
    "        obj[\"value\"]= val\n",
    "        objs.append(obj)\n",
    "evaluation.add_result(evaluation.get_index_workflow(pt),\"7\", evaluation.TYPE_REFERRED ,\"value\", objs, elements_per_tuple = 2)"
   ]
  },
  {
   "cell_type": "markdown",
   "id": "531933e1-8166-4e3a-95de-0050a4f1003a",
   "metadata": {
    "tags": []
   },
   "source": [
    "### Task 7 Who has more nomination and more wins? EXTENDED VERSION"
   ]
  },
  {
   "cell_type": "markdown",
   "id": "11aec15c-91d5-46ca-9d1a-15c71ce53ec8",
   "metadata": {},
   "source": [
    "**Academy awards di Woody Allen - Nomination**"
   ]
  },
  {
   "cell_type": "code",
   "execution_count": 79,
   "id": "118b6536-7043-47bf-8848-0e841e6fec74",
   "metadata": {},
   "outputs": [
    {
     "name": "stdout",
     "output_type": "stream",
     "text": [
      "Results\n",
      "[('filmName', 'Alice'), ('nomination', 'http://www.wikidata.org/entity/Q41417'), ('nomName', 'Academy Award for Best Writing, Original Screenplay')]\n",
      "[('filmName', 'Annie Hall'), ('nomination', 'http://www.wikidata.org/entity/Q102427'), ('nomName', 'Academy Award for Best Picture')]\n",
      "[('filmName', 'Annie Hall'), ('nomination', 'http://www.wikidata.org/entity/Q103360'), ('nomName', 'Academy Award for Best Director')]\n",
      "[('filmName', 'Annie Hall'), ('nomination', 'http://www.wikidata.org/entity/Q103618'), ('nomName', 'Academy Award for Best Actress')]\n",
      "[('filmName', 'Annie Hall'), ('nomination', 'http://www.wikidata.org/entity/Q41417'), ('nomName', 'Academy Award for Best Writing, Original Screenplay')]\n",
      "[('filmName', 'Annie Hall'), ('nomination', 'http://www.wikidata.org/entity/Q103916'), ('nomName', 'Academy Award for Best Actor')]\n",
      "[('filmName', 'Blue Jasmine'), ('nomination', 'http://www.wikidata.org/entity/Q103618'), ('nomName', 'Academy Award for Best Actress')]\n",
      "[('filmName', 'Blue Jasmine'), ('nomination', 'http://www.wikidata.org/entity/Q106301'), ('nomName', 'Academy Award for Best Supporting Actress')]\n",
      "[('filmName', 'Blue Jasmine'), ('nomination', 'http://www.wikidata.org/entity/Q41417'), ('nomName', 'Academy Award for Best Writing, Original Screenplay')]\n",
      "[('filmName', 'Broadway Danny Rose'), ('nomination', 'http://www.wikidata.org/entity/Q103360'), ('nomName', 'Academy Award for Best Director')]\n",
      "[('filmName', 'Broadway Danny Rose'), ('nomination', 'http://www.wikidata.org/entity/Q41417'), ('nomName', 'Academy Award for Best Writing, Original Screenplay')]\n",
      "[('filmName', 'Bullets Over Broadway'), ('nomination', 'http://www.wikidata.org/entity/Q103360'), ('nomName', 'Academy Award for Best Director')]\n",
      "[('filmName', 'Bullets Over Broadway'), ('nomination', 'http://www.wikidata.org/entity/Q106301'), ('nomName', 'Academy Award for Best Supporting Actress')]\n",
      "[('filmName', 'Bullets Over Broadway'), ('nomination', 'http://www.wikidata.org/entity/Q41417'), ('nomName', 'Academy Award for Best Writing, Original Screenplay')]\n",
      "[('filmName', 'Bullets Over Broadway'), ('nomination', 'http://www.wikidata.org/entity/Q106291'), ('nomName', 'Academy Award for Best Supporting Actor')]\n",
      "[('filmName', 'Bullets Over Broadway'), ('nomination', 'http://www.wikidata.org/entity/Q277536'), ('nomName', 'Academy Award for Best Costume Design')]\n",
      "[('filmName', 'Bullets Over Broadway'), ('nomination', 'http://www.wikidata.org/entity/Q277751'), ('nomName', 'Academy Award for Best Production Design')]\n",
      "[('filmName', 'Crimes and Misdemeanors'), ('nomination', 'http://www.wikidata.org/entity/Q103360'), ('nomName', 'Academy Award for Best Director')]\n",
      "[('filmName', 'Crimes and Misdemeanors'), ('nomination', 'http://www.wikidata.org/entity/Q41417'), ('nomName', 'Academy Award for Best Writing, Original Screenplay')]\n",
      "[('filmName', 'Crimes and Misdemeanors'), ('nomination', 'http://www.wikidata.org/entity/Q106291'), ('nomName', 'Academy Award for Best Supporting Actor')]\n",
      "[('filmName', 'Deconstructing Harry'), ('nomination', 'http://www.wikidata.org/entity/Q41417'), ('nomName', 'Academy Award for Best Writing, Original Screenplay')]\n",
      "[('filmName', 'Hannah and Her Sisters'), ('nomination', 'http://www.wikidata.org/entity/Q102427'), ('nomName', 'Academy Award for Best Picture')]\n",
      "[('filmName', 'Hannah and Her Sisters'), ('nomination', 'http://www.wikidata.org/entity/Q103360'), ('nomName', 'Academy Award for Best Director')]\n",
      "[('filmName', 'Hannah and Her Sisters'), ('nomination', 'http://www.wikidata.org/entity/Q106301'), ('nomName', 'Academy Award for Best Supporting Actress')]\n",
      "[('filmName', 'Hannah and Her Sisters'), ('nomination', 'http://www.wikidata.org/entity/Q281939'), ('nomName', 'Academy Award for Best Film Editing')]\n",
      "[('filmName', 'Hannah and Her Sisters'), ('nomination', 'http://www.wikidata.org/entity/Q41417'), ('nomName', 'Academy Award for Best Writing, Original Screenplay')]\n",
      "[('filmName', 'Hannah and Her Sisters'), ('nomination', 'http://www.wikidata.org/entity/Q106291'), ('nomName', 'Academy Award for Best Supporting Actor')]\n",
      "[('filmName', 'Hannah and Her Sisters'), ('nomination', 'http://www.wikidata.org/entity/Q277751'), ('nomName', 'Academy Award for Best Production Design')]\n",
      "[('filmName', 'Husbands and Wives'), ('nomination', 'http://www.wikidata.org/entity/Q106301'), ('nomName', 'Academy Award for Best Supporting Actress')]\n",
      "[('filmName', 'Husbands and Wives'), ('nomination', 'http://www.wikidata.org/entity/Q41417'), ('nomName', 'Academy Award for Best Writing, Original Screenplay')]\n",
      "[('filmName', 'Interiors'), ('nomination', 'http://www.wikidata.org/entity/Q103360'), ('nomName', 'Academy Award for Best Director')]\n",
      "[('filmName', 'Interiors'), ('nomination', 'http://www.wikidata.org/entity/Q103618'), ('nomName', 'Academy Award for Best Actress')]\n",
      "[('filmName', 'Interiors'), ('nomination', 'http://www.wikidata.org/entity/Q106301'), ('nomName', 'Academy Award for Best Supporting Actress')]\n",
      "[('filmName', 'Interiors'), ('nomination', 'http://www.wikidata.org/entity/Q41417'), ('nomName', 'Academy Award for Best Writing, Original Screenplay')]\n",
      "[('filmName', 'Interiors'), ('nomination', 'http://www.wikidata.org/entity/Q277751'), ('nomName', 'Academy Award for Best Production Design')]\n",
      "[('filmName', 'Manhattan'), ('nomination', 'http://www.wikidata.org/entity/Q106301'), ('nomName', 'Academy Award for Best Supporting Actress')]\n",
      "[('filmName', 'Manhattan'), ('nomination', 'http://www.wikidata.org/entity/Q41417'), ('nomName', 'Academy Award for Best Writing, Original Screenplay')]\n",
      "[('filmName', 'Match Point'), ('nomination', 'http://www.wikidata.org/entity/Q41417'), ('nomName', 'Academy Award for Best Writing, Original Screenplay')]\n",
      "[('filmName', 'Midnight in Paris'), ('nomination', 'http://www.wikidata.org/entity/Q102427'), ('nomName', 'Academy Award for Best Picture')]\n",
      "[('filmName', 'Midnight in Paris'), ('nomination', 'http://www.wikidata.org/entity/Q103360'), ('nomName', 'Academy Award for Best Director')]\n",
      "[('filmName', 'Midnight in Paris'), ('nomination', 'http://www.wikidata.org/entity/Q41417'), ('nomName', 'Academy Award for Best Writing, Original Screenplay')]\n",
      "[('filmName', 'Midnight in Paris'), ('nomination', 'http://www.wikidata.org/entity/Q277751'), ('nomName', 'Academy Award for Best Production Design')]\n",
      "[('filmName', 'Mighty Aphrodite'), ('nomination', 'http://www.wikidata.org/entity/Q106301'), ('nomName', 'Academy Award for Best Supporting Actress')]\n",
      "[('filmName', 'Mighty Aphrodite'), ('nomination', 'http://www.wikidata.org/entity/Q41417'), ('nomName', 'Academy Award for Best Writing, Original Screenplay')]\n",
      "[('filmName', 'Radio Days'), ('nomination', 'http://www.wikidata.org/entity/Q41417'), ('nomName', 'Academy Award for Best Writing, Original Screenplay')]\n",
      "[('filmName', 'Radio Days'), ('nomination', 'http://www.wikidata.org/entity/Q277751'), ('nomName', 'Academy Award for Best Production Design')]\n",
      "[('filmName', 'Sweet and Lowdown'), ('nomination', 'http://www.wikidata.org/entity/Q106301'), ('nomName', 'Academy Award for Best Supporting Actress')]\n",
      "[('filmName', 'Sweet and Lowdown'), ('nomination', 'http://www.wikidata.org/entity/Q103916'), ('nomName', 'Academy Award for Best Actor')]\n",
      "[('filmName', 'The Purple Rose of Cairo'), ('nomination', 'http://www.wikidata.org/entity/Q41417'), ('nomName', 'Academy Award for Best Writing, Original Screenplay')]\n",
      "[('filmName', 'Vicky Cristina Barcelona'), ('nomination', 'http://www.wikidata.org/entity/Q106301'), ('nomName', 'Academy Award for Best Supporting Actress')]\n",
      "[('filmName', 'Zelig'), ('nomination', 'http://www.wikidata.org/entity/Q131520'), ('nomName', 'Academy Award for Best Cinematography')]\n",
      "[('filmName', 'Zelig'), ('nomination', 'http://www.wikidata.org/entity/Q277536'), ('nomName', 'Academy Award for Best Costume Design')]\n",
      "52\n"
     ]
    }
   ],
   "source": [
    "queryString = \"\"\"\n",
    "SELECT DISTINCT ?filmName ?nomination ?nomName \n",
    "WHERE { \n",
    "    ?film wdt:P31 wd:Q11424 .\n",
    "    ?film wdt:P57 wd:Q25089.\n",
    "    ?film wdt:P1411 ?nomination .\n",
    "    ?nomination wdt:P31 wd:Q19020 .\n",
    "    \n",
    "    ?film <http://schema.org/name> ?filmName .\n",
    "    ?nomination <http://schema.org/name> ?nomName .\n",
    "} \n",
    "ORDER BY ASC(?filmName)\n",
    "\"\"\"\n",
    "\n",
    "print(\"Results\")\n",
    "x=run_query(queryString)"
   ]
  },
  {
   "cell_type": "markdown",
   "id": "3b402ffa-caa0-4c5d-8e78-26ce94241114",
   "metadata": {},
   "source": [
    "**Academy awards di Woody Allen - Wins**"
   ]
  },
  {
   "cell_type": "code",
   "execution_count": 80,
   "id": "a734c528-e626-4052-b4c2-21823e1c2992",
   "metadata": {},
   "outputs": [
    {
     "name": "stdout",
     "output_type": "stream",
     "text": [
      "Results\n",
      "[('filmName', 'Annie Hall'), ('win', 'http://www.wikidata.org/entity/Q103360'), ('winName', 'Academy Award for Best Director')]\n",
      "[('filmName', 'Annie Hall'), ('win', 'http://www.wikidata.org/entity/Q41417'), ('winName', 'Academy Award for Best Writing, Original Screenplay')]\n",
      "[('filmName', 'Annie Hall'), ('win', 'http://www.wikidata.org/entity/Q102427'), ('winName', 'Academy Award for Best Picture')]\n",
      "[('filmName', 'Annie Hall'), ('win', 'http://www.wikidata.org/entity/Q103618'), ('winName', 'Academy Award for Best Actress')]\n",
      "[('filmName', 'Blue Jasmine'), ('win', 'http://www.wikidata.org/entity/Q103618'), ('winName', 'Academy Award for Best Actress')]\n",
      "[('filmName', 'Bullets Over Broadway'), ('win', 'http://www.wikidata.org/entity/Q106301'), ('winName', 'Academy Award for Best Supporting Actress')]\n",
      "[('filmName', 'Hannah and Her Sisters'), ('win', 'http://www.wikidata.org/entity/Q41417'), ('winName', 'Academy Award for Best Writing, Original Screenplay')]\n",
      "[('filmName', 'Hannah and Her Sisters'), ('win', 'http://www.wikidata.org/entity/Q106301'), ('winName', 'Academy Award for Best Supporting Actress')]\n",
      "[('filmName', 'Hannah and Her Sisters'), ('win', 'http://www.wikidata.org/entity/Q106291'), ('winName', 'Academy Award for Best Supporting Actor')]\n",
      "[('filmName', 'Midnight in Paris'), ('win', 'http://www.wikidata.org/entity/Q41417'), ('winName', 'Academy Award for Best Writing, Original Screenplay')]\n",
      "[('filmName', 'Mighty Aphrodite'), ('win', 'http://www.wikidata.org/entity/Q106301'), ('winName', 'Academy Award for Best Supporting Actress')]\n",
      "[('filmName', 'Vicky Cristina Barcelona'), ('win', 'http://www.wikidata.org/entity/Q106301'), ('winName', 'Academy Award for Best Supporting Actress')]\n",
      "12\n"
     ]
    }
   ],
   "source": [
    "queryString = \"\"\"\n",
    "SELECT DISTINCT ?filmName ?win ?winName\n",
    "WHERE { \n",
    "    ?film wdt:P31 wd:Q11424 .\n",
    "    ?film wdt:P57 wd:Q25089.\n",
    "    ?film wdt:P166 ?win .\n",
    "    ?win wdt:P31 wd:Q19020 .\n",
    "    \n",
    "    ?film <http://schema.org/name> ?filmName .\n",
    "    ?win <http://schema.org/name> ?winName .\n",
    "} \n",
    "ORDER BY ASC(?filmName)\n",
    "\"\"\"\n",
    "\n",
    "print(\"Results\")\n",
    "x=run_query(queryString)"
   ]
  },
  {
   "cell_type": "markdown",
   "id": "32771120-8023-4668-96fe-bcfc95fbb60e",
   "metadata": {},
   "source": [
    "**Academy awards di Quentin Tarantino - Nomination**"
   ]
  },
  {
   "cell_type": "code",
   "execution_count": 81,
   "id": "1597a4fb-0c15-4c2c-9cd7-911318e81612",
   "metadata": {},
   "outputs": [
    {
     "name": "stdout",
     "output_type": "stream",
     "text": [
      "Results\n",
      "[('filmName', 'Django Unchained'), ('nomination', 'http://www.wikidata.org/entity/Q106291'), ('nomName', 'Academy Award for Best Supporting Actor')]\n",
      "[('filmName', 'Django Unchained'), ('nomination', 'http://www.wikidata.org/entity/Q102427'), ('nomName', 'Academy Award for Best Picture')]\n",
      "[('filmName', 'Django Unchained'), ('nomination', 'http://www.wikidata.org/entity/Q131520'), ('nomName', 'Academy Award for Best Cinematography')]\n",
      "[('filmName', 'Django Unchained'), ('nomination', 'http://www.wikidata.org/entity/Q488645'), ('nomName', 'Academy Award for Best Sound Editing')]\n",
      "[('filmName', 'Django Unchained'), ('nomination', 'http://www.wikidata.org/entity/Q41417'), ('nomName', 'Academy Award for Best Writing, Original Screenplay')]\n",
      "[('filmName', 'Inglourious Basterds'), ('nomination', 'http://www.wikidata.org/entity/Q106291'), ('nomName', 'Academy Award for Best Supporting Actor')]\n",
      "[('filmName', 'Inglourious Basterds'), ('nomination', 'http://www.wikidata.org/entity/Q102427'), ('nomName', 'Academy Award for Best Picture')]\n",
      "[('filmName', 'Inglourious Basterds'), ('nomination', 'http://www.wikidata.org/entity/Q488645'), ('nomName', 'Academy Award for Best Sound Editing')]\n",
      "[('filmName', 'Inglourious Basterds'), ('nomination', 'http://www.wikidata.org/entity/Q281939'), ('nomName', 'Academy Award for Best Film Editing')]\n",
      "[('filmName', 'Inglourious Basterds'), ('nomination', 'http://www.wikidata.org/entity/Q830079'), ('nomName', 'Academy Award for Best Sound')]\n",
      "[('filmName', 'Inglourious Basterds'), ('nomination', 'http://www.wikidata.org/entity/Q41417'), ('nomName', 'Academy Award for Best Writing, Original Screenplay')]\n",
      "[('filmName', 'Inglourious Basterds'), ('nomination', 'http://www.wikidata.org/entity/Q103360'), ('nomName', 'Academy Award for Best Director')]\n",
      "[('filmName', 'Inglourious Basterds'), ('nomination', 'http://www.wikidata.org/entity/Q131520'), ('nomName', 'Academy Award for Best Cinematography')]\n",
      "[('filmName', 'Jackie Brown'), ('nomination', 'http://www.wikidata.org/entity/Q106291'), ('nomName', 'Academy Award for Best Supporting Actor')]\n",
      "[('filmName', 'Pulp Fiction'), ('nomination', 'http://www.wikidata.org/entity/Q103360'), ('nomName', 'Academy Award for Best Director')]\n",
      "[('filmName', 'Pulp Fiction'), ('nomination', 'http://www.wikidata.org/entity/Q102427'), ('nomName', 'Academy Award for Best Picture')]\n",
      "[('filmName', 'Pulp Fiction'), ('nomination', 'http://www.wikidata.org/entity/Q41417'), ('nomName', 'Academy Award for Best Writing, Original Screenplay')]\n",
      "[('filmName', 'Pulp Fiction'), ('nomination', 'http://www.wikidata.org/entity/Q106301'), ('nomName', 'Academy Award for Best Supporting Actress')]\n",
      "[('filmName', 'Pulp Fiction'), ('nomination', 'http://www.wikidata.org/entity/Q103916'), ('nomName', 'Academy Award for Best Actor')]\n",
      "[('filmName', 'Pulp Fiction'), ('nomination', 'http://www.wikidata.org/entity/Q281939'), ('nomName', 'Academy Award for Best Film Editing')]\n",
      "[('filmName', 'Pulp Fiction'), ('nomination', 'http://www.wikidata.org/entity/Q106291'), ('nomName', 'Academy Award for Best Supporting Actor')]\n",
      "[('filmName', 'The Hateful Eight'), ('nomination', 'http://www.wikidata.org/entity/Q488651'), ('nomName', 'Academy Award for Best Original Score')]\n",
      "[('filmName', 'The Hateful Eight'), ('nomination', 'http://www.wikidata.org/entity/Q106301'), ('nomName', 'Academy Award for Best Supporting Actress')]\n",
      "[('filmName', 'The Hateful Eight'), ('nomination', 'http://www.wikidata.org/entity/Q131520'), ('nomName', 'Academy Award for Best Cinematography')]\n",
      "24\n"
     ]
    }
   ],
   "source": [
    "queryString = \"\"\"\n",
    "SELECT DISTINCT ?filmName ?nomination ?nomName\n",
    "WHERE { \n",
    "    ?film wdt:P31 wd:Q11424 .\n",
    "    ?film wdt:P57 wd:Q3772.\n",
    "    ?film wdt:P1411 ?nomination .\n",
    "    ?nomination wdt:P31 wd:Q19020 .\n",
    "    \n",
    "    ?film <http://schema.org/name> ?filmName .\n",
    "    ?nomination <http://schema.org/name> ?nomName .\n",
    "} \n",
    "ORDER BY ASC(?filmName)\n",
    "\"\"\"\n",
    "\n",
    "print(\"Results\")\n",
    "x=run_query(queryString)"
   ]
  },
  {
   "cell_type": "markdown",
   "id": "846f80e1-01c5-4d68-897e-e0b80675daaa",
   "metadata": {},
   "source": [
    "**Academy awards di Quentin Tarantino - Wins**"
   ]
  },
  {
   "cell_type": "code",
   "execution_count": 82,
   "id": "8842d0d5-8b27-4503-881c-82c2179be5d6",
   "metadata": {},
   "outputs": [
    {
     "name": "stdout",
     "output_type": "stream",
     "text": [
      "Results\n",
      "[('filmName', 'Django Unchained'), ('win', 'http://www.wikidata.org/entity/Q106291'), ('winName', 'Academy Award for Best Supporting Actor')]\n",
      "[('filmName', 'Django Unchained'), ('win', 'http://www.wikidata.org/entity/Q41417'), ('winName', 'Academy Award for Best Writing, Original Screenplay')]\n",
      "[('filmName', 'Inglourious Basterds'), ('win', 'http://www.wikidata.org/entity/Q106291'), ('winName', 'Academy Award for Best Supporting Actor')]\n",
      "[('filmName', 'Once Upon a Time in Hollywood'), ('win', 'http://www.wikidata.org/entity/Q277751'), ('winName', 'Academy Award for Best Production Design')]\n",
      "[('filmName', 'Once Upon a Time in Hollywood'), ('win', 'http://www.wikidata.org/entity/Q106291'), ('winName', 'Academy Award for Best Supporting Actor')]\n",
      "[('filmName', 'Pulp Fiction'), ('win', 'http://www.wikidata.org/entity/Q41417'), ('winName', 'Academy Award for Best Writing, Original Screenplay')]\n",
      "[('filmName', 'The Hateful Eight'), ('win', 'http://www.wikidata.org/entity/Q488651'), ('winName', 'Academy Award for Best Original Score')]\n",
      "7\n"
     ]
    }
   ],
   "source": [
    "queryString = \"\"\"\n",
    "SELECT DISTINCT ?filmName ?win ?winName\n",
    "WHERE { \n",
    "    ?film wdt:P31 wd:Q11424 .\n",
    "    ?film wdt:P57 wd:Q3772.\n",
    "    ?film wdt:P166 ?win .\n",
    "    ?win wdt:P31 wd:Q19020 .\n",
    "    \n",
    "    ?film <http://schema.org/name> ?filmName .\n",
    "    ?win <http://schema.org/name> ?winName .\n",
    "} \n",
    "ORDER BY ASC(?filmName)\n",
    "\"\"\"\n",
    "\n",
    "print(\"Results\")\n",
    "x=run_query(queryString)"
   ]
  },
  {
   "cell_type": "markdown",
   "id": "d5aa5ecb-2320-4dcc-80b5-2cb242e22839",
   "metadata": {},
   "source": [
    "**Woody Allen has more nomination than Quentin Tarantino? YES**"
   ]
  },
  {
   "cell_type": "code",
   "execution_count": 83,
   "id": "cc096523-52e1-445c-abc2-60ce50bcceb3",
   "metadata": {},
   "outputs": [
    {
     "name": "stdout",
     "output_type": "stream",
     "text": [
      "Results\n"
     ]
    }
   ],
   "source": [
    "queryString = \"\"\"\n",
    "ASK WHERE\n",
    "{\n",
    "{\n",
    "    SELECT COUNT(?nomination) AS ?wa_nom \n",
    "    WHERE { \n",
    "        ?film wdt:P31 wd:Q11424 .\n",
    "        ?film wdt:P57 wd:Q25089.\n",
    "        ?film wdt:P1411 ?nomination .\n",
    "        ?nomination wdt:P31 wd:Q19020 .\n",
    "    }\n",
    "}\n",
    "{\n",
    "    SELECT COUNT(?nomination) AS ?qt_nom \n",
    "    WHERE { \n",
    "        ?film wdt:P31 wd:Q11424 .\n",
    "        ?film wdt:P57 wd:Q3772.\n",
    "        ?film wdt:P1411 ?nomination .\n",
    "        ?nomination wdt:P31 wd:Q19020 .\n",
    "    }\n",
    "}\n",
    "FILTER(?wa_nom > ?qt_nom)\n",
    "}\n",
    "\"\"\"\n",
    "\n",
    "print(\"Results\")\n",
    "x=run_ask_query(queryString)"
   ]
  },
  {
   "cell_type": "markdown",
   "id": "f9beb027-19b7-4daa-8891-dac366956ad1",
   "metadata": {},
   "source": [
    "**Woody Allen has more wins than Quentin Tarantino? YES**"
   ]
  },
  {
   "cell_type": "code",
   "execution_count": 85,
   "id": "5d1a031d-7451-4496-bb97-a147820cb7ac",
   "metadata": {},
   "outputs": [
    {
     "name": "stdout",
     "output_type": "stream",
     "text": [
      "Results\n"
     ]
    },
    {
     "data": {
      "text/plain": [
       "{'head': {'link': []}, 'boolean': True}"
      ]
     },
     "execution_count": 85,
     "metadata": {},
     "output_type": "execute_result"
    }
   ],
   "source": [
    "queryString = \"\"\"\n",
    "ASK WHERE\n",
    "{\n",
    "{\n",
    "    SELECT COUNT(?nomination) AS ?wa_win \n",
    "    WHERE { \n",
    "        ?film wdt:P31 wd:Q11424 .\n",
    "        ?film wdt:P57 wd:Q25089.\n",
    "        ?film wdt:P166 ?nomination .\n",
    "        ?nomination wdt:P31 wd:Q19020 .\n",
    "    }\n",
    "}\n",
    "{\n",
    "    SELECT COUNT(?nomination) AS ?qt_win\n",
    "    WHERE { \n",
    "        ?film wdt:P31 wd:Q11424 .\n",
    "        ?film wdt:P57 wd:Q3772.\n",
    "        ?film wdt:P166 ?nomination .\n",
    "        ?nomination wdt:P31 wd:Q19020 .\n",
    "    }\n",
    "}\n",
    "FILTER(?wa_win > ?qt_win)\n",
    "}\n",
    "\"\"\"\n",
    "\n",
    "print(\"Results\")\n",
    "run_ask_query(queryString)"
   ]
  },
  {
   "cell_type": "code",
   "execution_count": null,
   "id": "c4ca1353-7195-4b7d-8495-0b5e424d29e5",
   "metadata": {},
   "outputs": [],
   "source": []
  }
 ],
 "metadata": {
  "kernelspec": {
   "display_name": "Python 3 (ipykernel)",
   "language": "python",
   "name": "python3"
  },
  "language_info": {
   "codemirror_mode": {
    "name": "ipython",
    "version": 3
   },
   "file_extension": ".py",
   "mimetype": "text/x-python",
   "name": "python",
   "nbconvert_exporter": "python",
   "pygments_lexer": "ipython3",
   "version": "3.9.16"
  }
 },
 "nbformat": 4,
 "nbformat_minor": 5
}
