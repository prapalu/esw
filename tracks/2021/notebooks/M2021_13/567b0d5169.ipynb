{
 "cells": [
  {
   "cell_type": "markdown",
   "id": "7034c3bf-6eb0-4418-8687-7b9d2a501103",
   "metadata": {},
   "source": [
    "# General instructions\n",
    "\n",
    "The goal of the project is to materialize a set of **exploratory workloads** over a real-world, large-scale,  open-domain KG: [WikiData](https://www.wikidata.org/wiki/Wikidata:Main_Page)\n",
    "\n",
    "An exploratory workload  is composed by a set of queries, where each query is related to the information obtained previously.\n",
    "\n",
    "An exploratory workload starts with a usually vague, open ended question, and does not assume the person issuing the workload has a clear understanding of the data contained in the target database or its structure.\n",
    "\n",
    "Remeber that:\n",
    "\n",
    "1. All the queries must run in the python notebook\n",
    "2. You can use classes and properties only if you find them via a SPARQL query that must be present in the notebook\n",
    "3. You do not delete useless queries. Keep everything that is synthatically valid \n",
    "\n",
    "```\n",
    "?p <http://schema.org/name> ?name .\n",
    "```\n",
    "    \n",
    "is the BGP returning a human-readable name of a property or a class in Wikidata.\n",
    "    \n",
    "    "
   ]
  },
  {
   "cell_type": "code",
   "execution_count": 1,
   "id": "3605c9d5-5371-49a5-be8d-d66e8f417139",
   "metadata": {},
   "outputs": [],
   "source": [
    "## SETUP used later\n",
    "\n",
    "from SPARQLWrapper import SPARQLWrapper, JSON\n",
    "\n",
    "\n",
    "prefixString = \"\"\"\n",
    "##-567b0d5169-##\n",
    "PREFIX wd: <http://www.wikidata.org/entity/> \n",
    "PREFIX wdt: <http://www.wikidata.org/prop/direct/> \n",
    "PREFIX sc: <http://schema.org/>\n",
    "\"\"\"\n",
    "\n",
    "# select and construct queries\n",
    "def run_query(queryString):\n",
    "    to_run = prefixString + \"\\n\" + queryString\n",
    "\n",
    "    sparql = SPARQLWrapper(\"http://a256-gc1-02.srv.aau.dk:5820/sparql\")\n",
    "    sparql.setTimeout(300)\n",
    "    sparql.setReturnFormat(JSON)\n",
    "    sparql.setQuery(to_run)\n",
    "\n",
    "    try :\n",
    "       results = sparql.query()\n",
    "       json_results = results.convert()\n",
    "       if len(json_results['results']['bindings'])==0:\n",
    "          print(\"Empty\")\n",
    "          return 0\n",
    "    \n",
    "       for bindings in json_results['results']['bindings']:\n",
    "          print( [ (var, value['value'])  for var, value in bindings.items() ] )\n",
    "\n",
    "       return len(json_results['results']['bindings'])\n",
    "\n",
    "    except Exception as e :\n",
    "        print(\"The operation failed\", e)\n",
    "    \n",
    "# ASk queries\n",
    "def run_ask_query(queryString):\n",
    "    to_run = prefixString + \"\\n\" + queryString\n",
    "\n",
    "    sparql = SPARQLWrapper(\"http://a256-gc1-02.srv.aau.dk:5820/sparql\")\n",
    "    sparql.setTimeout(300)\n",
    "    sparql.setReturnFormat(JSON)\n",
    "    sparql.setQuery(to_run)\n",
    "\n",
    "    try :\n",
    "        return sparql.query().convert()\n",
    "\n",
    "    except Exception as e :\n",
    "        print(\"The operation failed\", e)\n"
   ]
  },
  {
   "cell_type": "markdown",
   "id": "d477a59c-a68c-4c8f-9f97-8ca5294d7d27",
   "metadata": {},
   "source": [
    "# Sport Workflow Series (\"Olympic explorative search\") \n",
    "\n",
    "Consider the following exploratory information need:\n",
    "\n",
    "> investigate the results, in terms of participations and competitions won, in the past editions of the olympics between France and Germany"
   ]
  },
  {
   "cell_type": "markdown",
   "id": "4a45c0ba-f79e-441d-bec5-84401b09db70",
   "metadata": {},
   "source": [
    "## Useful URIs for the current workflow\n",
    "\n",
    "\n",
    "The following are given:\n",
    "\n",
    "| IRI           | Description   | Role      |\n",
    "| -----------   | -----------   |-----------|\n",
    "| `wdt:P1647`   | subproperty   | predicate |\n",
    "| `wdt:P31`     | instance of   | predicate |\n",
    "| `wdt:P106`    | profession    | predicate | \n",
    "| `wdt:P279`    | subclass      | predicate |\n",
    "| `wdt:P27`     | nationality   | predicate |\n",
    "| `wd:Q159821`  | Olympic games | node      |\n",
    "| `wd:Q10843402`| Swimmer       | node |\n",
    "| `wd:Q2066131` | Athlete       | node |\n",
    "| `wd:Q142`     | France        | node |\n",
    "| `wd:Q183`     | Germany       | node |\n",
    "\n",
    "\n",
    "Also consider\n",
    "\n",
    "\n",
    "```\n",
    "?a wdt:P106/wdt:P279 wd:Q2066131\n",
    "```\n",
    "\n",
    "is the BGP to retrieve all instances of **athlete**\n",
    "\n",
    "\n",
    "```\n",
    "?p wdt:P27 wd:Q142\n",
    "```\n",
    "\n",
    "is the BGP to retrieve all **citizens of France**"
   ]
  },
  {
   "cell_type": "markdown",
   "id": "7af439fb-96e4-4dbb-a381-f19afab79f86",
   "metadata": {
    "tags": []
   },
   "source": [
    "## Workload Goals\n",
    "\n",
    "1. Identify the BGP for participating or winning some competition\n",
    "\n",
    "2. Identify the BGP for different sports or types of competitions\n",
    "\n",
    "3. Is there some French or German Athlete participating to any olympic event with double citizenship?\n",
    "\n",
    "4. Compare number of participations and winning events across different dimensions\n",
    " \n",
    "   4.1 In which specific sport France has more winners than Germany\n",
    "   \n",
    "   4.2 Who has the highest number of female winners\n",
    "   \n",
    "   4.3 For each country , which are the atheletes with the highest number of participations\n"
   ]
  },
  {
   "cell_type": "code",
   "execution_count": 1,
   "id": "24a853ab-830c-422c-afd3-e9e015b8b8ed",
   "metadata": {},
   "outputs": [],
   "source": [
    "# start your workflow here"
   ]
  },
  {
   "cell_type": "code",
   "execution_count": 2,
   "id": "ade01416-92e7-4ad7-b9a9-b8fb330750dc",
   "metadata": {},
   "outputs": [
    {
     "name": "stdout",
     "output_type": "stream",
     "text": [
      "Results\n",
      "[('callret-0', '929008')]\n"
     ]
    },
    {
     "data": {
      "text/plain": [
       "1"
      ]
     },
     "execution_count": 2,
     "metadata": {},
     "output_type": "execute_result"
    }
   ],
   "source": [
    "queryString = \"\"\"\n",
    "SELECT COUNT(*)\n",
    "WHERE { \n",
    "\n",
    "?a wdt:P106/wdt:P279 wd:Q2066131\n",
    "\n",
    "} \n",
    "\"\"\"\n",
    "\n",
    "print(\"Results\")\n",
    "run_query(queryString)"
   ]
  },
  {
   "cell_type": "markdown",
   "id": "077cbc8a-eea9-4676-9f59-e22f2a220c40",
   "metadata": {
    "tags": []
   },
   "source": [
    "<h3> TASK 1 STARTS HERE </h3>\n",
    "Identify the BGP for participating or winning some competition."
   ]
  },
  {
   "cell_type": "markdown",
   "id": "8da64f31-615e-429a-8598-d492b37afc7c",
   "metadata": {},
   "source": [
    "Retrieve some properties of a french athlete."
   ]
  },
  {
   "cell_type": "code",
   "execution_count": 3,
   "id": "c3ad5e88-4026-4d9a-98c7-083cf207f10c",
   "metadata": {},
   "outputs": [
    {
     "name": "stdout",
     "output_type": "stream",
     "text": [
      "Results\n",
      "[('p', 'http://www.wikidata.org/prop/direct/P4588'), ('pname', 'International World Games Association athlete ID')]\n",
      "[('p', 'http://www.wikidata.org/prop/direct/P1006'), ('pname', 'Nationale Thesaurus voor Auteurs ID')]\n",
      "[('p', 'http://www.wikidata.org/prop/direct/P103'), ('pname', 'native language')]\n",
      "[('p', 'http://www.wikidata.org/prop/direct/P106'), ('pname', 'occupation')]\n",
      "[('p', 'http://www.wikidata.org/prop/direct/P1207'), ('pname', 'NUKAT ID')]\n",
      "[('p', 'http://www.wikidata.org/prop/direct/P1344'), ('pname', 'participant in')]\n",
      "[('p', 'http://www.wikidata.org/prop/direct/P1412'), ('pname', 'languages spoken, written or signed')]\n",
      "[('p', 'http://www.wikidata.org/prop/direct/P1532'), ('pname', 'country for sport')]\n",
      "[('p', 'http://www.wikidata.org/prop/direct/P18'), ('pname', 'image')]\n",
      "[('p', 'http://www.wikidata.org/prop/direct/P1889'), ('pname', 'different from')]\n",
      "[('p', 'http://www.wikidata.org/prop/direct/P19'), ('pname', 'place of birth')]\n",
      "[('p', 'http://www.wikidata.org/prop/direct/P2002'), ('pname', 'Twitter username')]\n",
      "[('p', 'http://www.wikidata.org/prop/direct/P2048'), ('pname', 'height')]\n",
      "[('p', 'http://www.wikidata.org/prop/direct/P2067'), ('pname', 'mass')]\n",
      "[('p', 'http://www.wikidata.org/prop/direct/P21'), ('pname', 'sex or gender')]\n",
      "[('p', 'http://www.wikidata.org/prop/direct/P213'), ('pname', 'ISNI')]\n",
      "[('p', 'http://www.wikidata.org/prop/direct/P214'), ('pname', 'VIAF ID')]\n",
      "[('p', 'http://www.wikidata.org/prop/direct/P2163'), ('pname', 'FAST ID')]\n",
      "[('p', 'http://www.wikidata.org/prop/direct/P244'), ('pname', 'Library of Congress authority ID')]\n",
      "[('p', 'http://www.wikidata.org/prop/direct/P2522'), ('pname', 'victory')]\n",
      "[('p', 'http://www.wikidata.org/prop/direct/P26'), ('pname', 'spouse')]\n",
      "[('p', 'http://www.wikidata.org/prop/direct/P2671'), ('pname', 'Google Knowledge Graph ID')]\n",
      "[('p', 'http://www.wikidata.org/prop/direct/P268'), ('pname', 'Bibliothèque nationale de France ID')]\n",
      "[('p', 'http://www.wikidata.org/prop/direct/P269'), ('pname', 'IdRef ID')]\n",
      "[('p', 'http://www.wikidata.org/prop/direct/P27'), ('pname', 'country of citizenship')]\n",
      "[('p', 'http://www.wikidata.org/prop/direct/P31'), ('pname', 'instance of')]\n",
      "[('p', 'http://www.wikidata.org/prop/direct/P3373'), ('pname', 'sibling')]\n",
      "[('p', 'http://www.wikidata.org/prop/direct/P3630'), ('pname', 'Babelio author ID')]\n",
      "[('p', 'http://www.wikidata.org/prop/direct/P373'), ('pname', 'Commons category')]\n",
      "[('p', 'http://www.wikidata.org/prop/direct/P4124'), ('pname', \"Who's Who in France biography ID\")]\n",
      "[('p', 'http://www.wikidata.org/prop/direct/P54'), ('pname', 'member of sports team')]\n",
      "[('p', 'http://www.wikidata.org/prop/direct/P551'), ('pname', 'residence')]\n",
      "[('p', 'http://www.wikidata.org/prop/direct/P552'), ('pname', 'handedness')]\n",
      "[('p', 'http://www.wikidata.org/prop/direct/P569'), ('pname', 'date of birth')]\n",
      "[('p', 'http://www.wikidata.org/prop/direct/P599'), ('pname', 'ITF player ID')]\n",
      "[('p', 'http://www.wikidata.org/prop/direct/P641'), ('pname', 'sport')]\n",
      "[('p', 'http://www.wikidata.org/prop/direct/P646'), ('pname', 'Freebase ID')]\n",
      "[('p', 'http://www.wikidata.org/prop/direct/P69'), ('pname', 'educated at')]\n",
      "[('p', 'http://www.wikidata.org/prop/direct/P7293'), ('pname', 'PLWABN ID')]\n",
      "[('p', 'http://www.wikidata.org/prop/direct/P734'), ('pname', 'family name')]\n",
      "[('p', 'http://www.wikidata.org/prop/direct/P735'), ('pname', 'given name')]\n",
      "[('p', 'http://www.wikidata.org/prop/direct/P7859'), ('pname', 'WorldCat Identities ID')]\n",
      "[('p', 'http://www.wikidata.org/prop/direct/P8286'), ('pname', 'Olympedia people ID')]\n",
      "[('p', 'http://www.wikidata.org/prop/direct/P856'), ('pname', 'official website')]\n",
      "[('p', 'http://www.wikidata.org/prop/direct/P8618'), ('pname', 'ITF player ID 2020')]\n",
      "[('p', 'http://www.wikidata.org/prop/direct/P8687'), ('pname', 'social media followers')]\n",
      "[('p', 'http://www.wikidata.org/prop/direct/P8974'), ('pname', 'SAPA ID')]\n",
      "[('p', 'http://www.wikidata.org/prop/direct/P536'), ('pname', 'ATP player ID')]\n",
      "[('p', 'http://www.wikidata.org/prop/direct/P3286'), ('pname', 'Squash Info player ID')]\n",
      "[('p', 'http://www.wikidata.org/prop/direct/P3476'), ('pname', 'PSA World Tour player ID')]\n"
     ]
    },
    {
     "data": {
      "text/plain": [
       "50"
      ]
     },
     "execution_count": 3,
     "metadata": {},
     "output_type": "execute_result"
    }
   ],
   "source": [
    "#Q1\n",
    "#get the properties of a french athlete\n",
    "queryString = \"\"\"\n",
    "SELECT DISTINCT ?p ?pname\n",
    "WHERE {\n",
    "    ?a wdt:P106/wdt:P279 wd:Q2066131;\n",
    "       wdt:P27 wd:Q142;\n",
    "    ?p ?o .\n",
    "\n",
    "    #labels\n",
    "    ?p <http://schema.org/name> ?pname .\n",
    "}\n",
    "LIMIT 50\n",
    "\"\"\"\n",
    "print(\"Results\")\n",
    "run_query(queryString)"
   ]
  },
  {
   "cell_type": "markdown",
   "id": "bca18997-8604-4c95-a287-2e9e7a296ae4",
   "metadata": {},
   "source": [
    "I am trying to find the properties that connect an athlete to an instance of Olympics."
   ]
  },
  {
   "cell_type": "code",
   "execution_count": 4,
   "id": "da87d20d-5ed9-4032-b372-f5d1fe56786a",
   "metadata": {},
   "outputs": [
    {
     "name": "stdout",
     "output_type": "stream",
     "text": [
      "Results\n",
      "[('p', 'http://www.wikidata.org/prop/direct/P1344'), ('pname', 'participant in')]\n",
      "[('p', 'http://www.wikidata.org/prop/direct/P2522'), ('pname', 'victory')]\n",
      "[('p', 'http://www.wikidata.org/prop/direct/P710'), ('pname', 'participant')]\n",
      "[('p', 'http://www.wikidata.org/prop/direct/P793'), ('pname', 'significant event')]\n"
     ]
    },
    {
     "data": {
      "text/plain": [
       "4"
      ]
     },
     "execution_count": 4,
     "metadata": {},
     "output_type": "execute_result"
    }
   ],
   "source": [
    "#Q2\n",
    "#get the properties of a french athlete that connect to Olympics\n",
    "queryString = \"\"\"\n",
    "SELECT DISTINCT ?p ?pname\n",
    "WHERE {\n",
    "    ?a wdt:P106/wdt:P279 wd:Q2066131;\n",
    "       wdt:P27 wd:Q142;\n",
    "    ?p ?o .\n",
    "    \n",
    "    ?o wdt:P31 wd:Q159821.\n",
    "\n",
    "    #labels\n",
    "    ?p <http://schema.org/name> ?pname .\n",
    "}\n",
    "LIMIT 50\n",
    "\"\"\"\n",
    "print(\"Results\")\n",
    "run_query(queryString)"
   ]
  },
  {
   "cell_type": "markdown",
   "id": "fc31685e-6924-4fd2-ad94-6bc42fa28a6d",
   "metadata": {},
   "source": [
    "Retrieve some competitions where an athlete took part in."
   ]
  },
  {
   "cell_type": "code",
   "execution_count": 5,
   "id": "ab470386-b95a-446b-8c8c-c1254e1e32b8",
   "metadata": {},
   "outputs": [
    {
     "name": "stdout",
     "output_type": "stream",
     "text": [
      "Results\n",
      "[('o', 'http://www.wikidata.org/entity/Q11831154'), ('oname', '2019 Africa Cup of Nations')]\n",
      "[('o', 'http://www.wikidata.org/entity/Q1239608'), ('oname', '2011–12 UCI America Tour')]\n",
      "[('o', 'http://www.wikidata.org/entity/Q1280387'), ('oname', '2013 UCI Europe Tour')]\n",
      "[('o', 'http://www.wikidata.org/entity/Q15041668'), ('oname', '2014 UCI Europe Tour')]\n",
      "[('o', 'http://www.wikidata.org/entity/Q18342122'), ('oname', '2015 UCI Europe Tour')]\n",
      "[('o', 'http://www.wikidata.org/entity/Q21029681'), ('oname', '2016 UCI Europe Tour')]\n",
      "[('o', 'http://www.wikidata.org/entity/Q30750603'), ('oname', '2017 UCI World Ranking')]\n",
      "[('o', 'http://www.wikidata.org/entity/Q751208'), ('oname', '2010–11 UCI Europe Tour')]\n",
      "[('o', 'http://www.wikidata.org/entity/Q8150'), ('oname', '1936 Summer Olympics')]\n",
      "[('o', 'http://www.wikidata.org/entity/Q21857932'), ('oname', '2017 UCI World Tour')]\n",
      "[('o', 'http://www.wikidata.org/entity/Q27915850'), ('oname', '2017 UCI Europe Tour')]\n",
      "[('o', 'http://www.wikidata.org/entity/Q47517245'), ('oname', '2018 UCI World Ranking')]\n",
      "[('o', 'http://www.wikidata.org/entity/Q60964153'), ('oname', '2019 UCI World Ranking')]\n",
      "[('o', 'http://www.wikidata.org/entity/Q24190193'), ('oname', '2016–17 NHL season')]\n",
      "[('o', 'http://www.wikidata.org/entity/Q28721200'), ('oname', '2017–18 NHL season')]\n",
      "[('o', 'http://www.wikidata.org/entity/Q187579'), ('oname', '24 Hours of Le Mans')]\n",
      "[('o', 'http://www.wikidata.org/entity/Q8088'), ('oname', '1900 Summer Olympics')]\n",
      "[('o', 'http://www.wikidata.org/entity/Q8470'), ('oname', '1988 Summer Olympics')]\n",
      "[('o', 'http://www.wikidata.org/entity/Q8488'), ('oname', '1992 Summer Olympics')]\n",
      "[('o', 'http://www.wikidata.org/entity/Q8577'), ('oname', '2012 Summer Olympics')]\n",
      "[('o', 'http://www.wikidata.org/entity/Q33881'), ('oname', 'Tour de France')]\n",
      "[('o', 'http://www.wikidata.org/entity/Q8128'), ('oname', '1920 Summer Olympics')]\n",
      "[('o', 'http://www.wikidata.org/entity/Q8132'), ('oname', '1924 Summer Olympics')]\n",
      "[('o', 'http://www.wikidata.org/entity/Q8037824'), ('oname', \"wrestling at the 1924 Summer Olympics – men's freestyle welterweight\")]\n",
      "[('o', 'http://www.wikidata.org/entity/Q859344'), ('oname', 'sailing at the 1900 Summer Olympics – .5 to 1 ton')]\n",
      "[('o', 'http://www.wikidata.org/entity/Q15831496'), ('oname', \"2014 in women's road cycling\")]\n",
      "[('o', 'http://www.wikidata.org/entity/Q1811548'), ('oname', '2008–09 UCI Europe Tour')]\n",
      "[('o', 'http://www.wikidata.org/entity/Q18348936'), ('oname', \"2015 in women's road cycling\")]\n",
      "[('o', 'http://www.wikidata.org/entity/Q212197'), ('oname', '2009–10 UCI Europe Tour')]\n",
      "[('o', 'http://www.wikidata.org/entity/Q22696468'), ('oname', \"2016 in women's road cycling\")]\n"
     ]
    },
    {
     "data": {
      "text/plain": [
       "30"
      ]
     },
     "execution_count": 5,
     "metadata": {},
     "output_type": "execute_result"
    }
   ],
   "source": [
    "#Q3\n",
    "#get the objects with french athlete as subject and partecipant in (P1344) as property\n",
    "queryString = \"\"\"\n",
    "SELECT DISTINCT ?o ?oname\n",
    "WHERE {\n",
    "    ?a wdt:P106/wdt:P279 wd:Q2066131;\n",
    "       wdt:P27 wd:Q142;\n",
    "       wdt:P1344 ?o.\n",
    "       \n",
    "    #labels\n",
    "    ?o <http://schema.org/name> ?oname .\n",
    "}\n",
    "LIMIT 30\n",
    "\"\"\"\n",
    "print(\"Results\")\n",
    "run_query(queryString)"
   ]
  },
  {
   "cell_type": "markdown",
   "id": "2aaaabc4-2710-40c1-ae6b-5cead9c82d21",
   "metadata": {},
   "source": [
    "Same query as above but for an athlete in general (no nationality constraint)."
   ]
  },
  {
   "cell_type": "code",
   "execution_count": 8,
   "id": "c94ca69f-88fc-40a3-94b9-a39ef677a6a2",
   "metadata": {},
   "outputs": [
    {
     "name": "stdout",
     "output_type": "stream",
     "text": [
      "Results\n",
      "[('o', 'http://www.wikidata.org/entity/Q1053559'), ('oname', '2020 Winter Youth Olympics')]\n",
      "[('o', 'http://www.wikidata.org/entity/Q1082132'), ('oname', '2004 UEFA European Under-17 Football Championship')]\n",
      "[('o', 'http://www.wikidata.org/entity/Q1209347'), ('oname', '1987 Southeast Asian Games')]\n",
      "[('o', 'http://www.wikidata.org/entity/Q1279521'), ('oname', '2013 Copa Libertadores')]\n",
      "[('o', 'http://www.wikidata.org/entity/Q129304'), ('oname', '2013 CONCACAF U-20 Championship')]\n",
      "[('o', 'http://www.wikidata.org/entity/Q162977'), ('oname', 'Egypt')]\n",
      "[('o', 'http://www.wikidata.org/entity/Q1649567'), ('oname', '1965 Major League Baseball season')]\n",
      "[('o', 'http://www.wikidata.org/entity/Q166551'), ('oname', '1997 FIFA Confederations Cup')]\n",
      "[('o', 'http://www.wikidata.org/entity/Q216330'), ('oname', '24 Hours of Daytona')]\n",
      "[('o', 'http://www.wikidata.org/entity/Q2365546'), ('oname', '2011 CONCACAF U-17 Championship')]\n",
      "[('o', 'http://www.wikidata.org/entity/Q244367'), ('oname', '2007–08 La Liga')]\n",
      "[('o', 'http://www.wikidata.org/entity/Q2592295'), ('oname', 'Constitutionalist Revolution')]\n",
      "[('o', 'http://www.wikidata.org/entity/Q2948731'), ('oname', \"2012 NCAA Men's Division I Basketball Tournament\")]\n",
      "[('o', 'http://www.wikidata.org/entity/Q304420'), ('oname', '1989 Davis Cup')]\n",
      "[('o', 'http://www.wikidata.org/entity/Q3994982'), ('oname', \"2013 NCAA Men's Division I Basketball Tournament\")]\n",
      "[('o', 'http://www.wikidata.org/entity/Q429425'), ('oname', '1998 Davis Cup')]\n",
      "[('o', 'http://www.wikidata.org/entity/Q4575601'), ('oname', '1973 Maccabiah Games')]\n",
      "[('o', 'http://www.wikidata.org/entity/Q4588674'), ('oname', '1993 National Invitation Tournament')]\n",
      "[('o', 'http://www.wikidata.org/entity/Q4610259'), ('oname', '2007–08 Tercera División')]\n",
      "[('o', 'http://www.wikidata.org/entity/Q4621962'), ('oname', '2011 National Invitation Tournament')]\n",
      "[('o', 'http://www.wikidata.org/entity/Q4629658'), ('oname', '2013 National Invitation Tournament')]\n",
      "[('o', 'http://www.wikidata.org/entity/Q470450'), ('oname', '2006 FEI World Equestrian Games')]\n",
      "[('o', 'http://www.wikidata.org/entity/Q586213'), ('oname', '2004 FIFA Futsal World Championship')]\n",
      "[('o', 'http://www.wikidata.org/entity/Q660527'), ('oname', '1983 French Open')]\n",
      "[('o', 'http://www.wikidata.org/entity/Q668106'), ('oname', '1995 UCI Road World Championships')]\n",
      "[('o', 'http://www.wikidata.org/entity/Q719443'), ('oname', \"2012 European Men's Handball Championship\")]\n",
      "[('o', 'http://www.wikidata.org/entity/Q729305'), ('oname', '2002 UEFA European Under-17 Football Championship')]\n",
      "[('o', 'http://www.wikidata.org/entity/Q776378'), ('oname', '2009 Lusophony Games')]\n",
      "[('o', 'http://www.wikidata.org/entity/Q7854'), ('oname', 'Argentine Grand Prix')]\n",
      "[('o', 'http://www.wikidata.org/entity/Q8134864'), ('oname', \"2013 European Athletics Indoor Championships – men's long jump\")]\n",
      "[('o', 'http://www.wikidata.org/entity/Q829807'), ('oname', '2008 FIFA Futsal World Cup')]\n",
      "[('o', 'http://www.wikidata.org/entity/Q870879'), ('oname', '2018 Summer Youth Olympics')]\n",
      "[('o', 'http://www.wikidata.org/entity/Q919129'), ('oname', '1930 British Empire Games')]\n",
      "[('o', 'http://www.wikidata.org/entity/Q946600'), ('oname', '1996 World Cup of Hockey')]\n",
      "[('o', 'http://www.wikidata.org/entity/Q11317814'), ('oname', 'Cheltenham Gold Cup')]\n",
      "[('o', 'http://www.wikidata.org/entity/Q369891'), ('oname', 'diving at the 1984 Summer Olympics')]\n",
      "[('o', 'http://www.wikidata.org/entity/Q652498'), ('oname', \"EHF Women's Champions League\")]\n",
      "[('o', 'http://www.wikidata.org/entity/Q869296'), ('oname', 'Double-Cross System')]\n",
      "[('o', 'http://www.wikidata.org/entity/Q917709'), ('oname', \"Hundred Days' Reform\")]\n",
      "[('o', 'http://www.wikidata.org/entity/Q167071'), ('oname', 'Pekan Olahraga Nasional')]\n",
      "[('o', 'http://www.wikidata.org/entity/Q17088224'), ('oname', \"shooting at the 1992 Summer Olympics – men's 50 metre rifle three positions\")]\n",
      "[('o', 'http://www.wikidata.org/entity/Q17090112'), ('oname', 'Melodifestivalen 2004')]\n",
      "[('o', 'http://www.wikidata.org/entity/Q256273'), ('oname', 'Melodifestivalen 2009')]\n",
      "[('o', 'http://www.wikidata.org/entity/Q3588'), ('oname', 'European Revolutions of 1848')]\n",
      "[('o', 'http://www.wikidata.org/entity/Q13649576'), ('oname', 'Miss Colombia 2007')]\n",
      "[('o', 'http://www.wikidata.org/entity/Q13650943'), ('oname', '2013 European Beach Volleyball Championships')]\n",
      "[('o', 'http://www.wikidata.org/entity/Q13659451'), ('oname', \"2013 European Diving Championships – men's 1 metre springboard\")]\n",
      "[('o', 'http://www.wikidata.org/entity/Q16913723'), ('oname', '2014 European Beach Volleyball Championships')]\n",
      "[('o', 'http://www.wikidata.org/entity/Q5500827'), ('oname', 'Freedom of the Press Foundation')]\n",
      "[('o', 'http://www.wikidata.org/entity/Q13883065'), ('oname', \"2013 Asian Junior Badminton Championships – men's singles\")]\n"
     ]
    },
    {
     "data": {
      "text/plain": [
       "50"
      ]
     },
     "execution_count": 8,
     "metadata": {},
     "output_type": "execute_result"
    }
   ],
   "source": [
    "#Q4\n",
    "#try (P1344=participant in) without 'french athlete' and see what competitions are retrived\n",
    "queryString = \"\"\"\n",
    "SELECT DISTINCT ?o ?oname\n",
    "WHERE {\n",
    "    ?a wdt:P1344 ?o.\n",
    "       \n",
    "    #labels\n",
    "    ?o <http://schema.org/name> ?oname .\n",
    "}\n",
    "LIMIT 50\n",
    "\"\"\"\n",
    "print(\"Results\")\n",
    "run_query(queryString)"
   ]
  },
  {
   "cell_type": "markdown",
   "id": "d279552e-f69c-4873-bfd1-f998060456b6",
   "metadata": {},
   "source": [
    "Run the same query as above but using P710 (participant) to see if there are some differences."
   ]
  },
  {
   "cell_type": "code",
   "execution_count": 5,
   "id": "09020bb6-64e4-4854-8fd8-50d1699db7be",
   "metadata": {},
   "outputs": [
    {
     "name": "stdout",
     "output_type": "stream",
     "text": [
      "Results\n",
      "[('o', 'http://www.wikidata.org/entity/Q28739880'), ('oname', 'Eastern Mediterranean Championship Tennis')]\n",
      "[('o', 'http://www.wikidata.org/entity/Q27779355'), ('oname', \"Panhellenic men's and women's tennis championship\")]\n",
      "[('o', 'http://www.wikidata.org/entity/Q775871'), ('oname', 'football at the 1906 Intercalated Games')]\n",
      "[('o', 'http://www.wikidata.org/entity/Q1069341'), ('oname', 'tennis at the 1906 Intercalated Games')]\n",
      "[('o', 'http://www.wikidata.org/entity/Q8567'), ('oname', '2008 Summer Olympics')]\n",
      "[('o', 'http://www.wikidata.org/entity/Q4630361'), ('oname', \"2019 FIFA Women's World Cup\")]\n",
      "[('o', 'http://www.wikidata.org/entity/Q1344963'), ('oname', 'world championship')]\n",
      "[('o', 'http://www.wikidata.org/entity/Q249097'), ('oname', '1906 Tour de France')]\n",
      "[('o', 'http://www.wikidata.org/entity/Q634350'), ('oname', '1910 Tour de France')]\n",
      "[('o', 'http://www.wikidata.org/entity/Q734077'), ('oname', '1905 Tour de France')]\n",
      "[('o', 'http://www.wikidata.org/entity/Q2202752'), ('oname', '1909 Milan–San Remo')]\n",
      "[('o', 'http://www.wikidata.org/entity/Q506911'), ('oname', '1903 Tour de France')]\n",
      "[('o', 'http://www.wikidata.org/entity/Q577246'), ('oname', '1904 Tour de France')]\n",
      "[('o', 'http://www.wikidata.org/entity/Q132377'), ('oname', 'Davis Cup')]\n",
      "[('o', 'http://www.wikidata.org/entity/Q43605'), ('oname', 'French Open')]\n",
      "[('o', 'http://www.wikidata.org/entity/Q41520'), ('oname', 'Wimbledon Championships')]\n",
      "[('o', 'http://www.wikidata.org/entity/Q523804'), ('oname', '1952 Tour de France')]\n",
      "[('o', 'http://www.wikidata.org/entity/Q249109'), ('oname', '1907 Tour de France')]\n",
      "[('o', 'http://www.wikidata.org/entity/Q123577'), ('oname', 'US Open')]\n",
      "[('o', 'http://www.wikidata.org/entity/Q3533489'), ('oname', \"2008 Tour de l'Ain\")]\n"
     ]
    },
    {
     "data": {
      "text/plain": [
       "20"
      ]
     },
     "execution_count": 5,
     "metadata": {},
     "output_type": "execute_result"
    }
   ],
   "source": [
    "#Q5\n",
    "#run other property to figure if there is any difference(P710=participant) \n",
    "queryString = \"\"\"\n",
    "SELECT DISTINCT ?o ?oname\n",
    "WHERE {\n",
    "    ?a wdt:P106/wdt:P279 wd:Q2066131;\n",
    "       wdt:P27 wd:Q142;\n",
    "       wdt:P710 ?o.\n",
    "       \n",
    "    #labels\n",
    "    ?o <http://schema.org/name> ?oname .\n",
    "}\n",
    "LIMIT 30\n",
    "\"\"\"\n",
    "print(\"Results\")\n",
    "run_query(queryString)"
   ]
  },
  {
   "cell_type": "markdown",
   "id": "37f45cb8-c608-43e3-b588-d93ff2136da8",
   "metadata": {},
   "source": [
    "Retrieve some properties of competitions."
   ]
  },
  {
   "cell_type": "code",
   "execution_count": 8,
   "id": "503961e7-db4b-457c-bc74-54844686e5dc",
   "metadata": {},
   "outputs": [
    {
     "name": "stdout",
     "output_type": "stream",
     "text": [
      "Results\n",
      "[('p', 'http://www.wikidata.org/prop/direct/P1132'), ('pname', 'number of participants')]\n",
      "[('p', 'http://www.wikidata.org/prop/direct/P155'), ('pname', 'follows')]\n",
      "[('p', 'http://www.wikidata.org/prop/direct/P156'), ('pname', 'followed by')]\n",
      "[('p', 'http://www.wikidata.org/prop/direct/P17'), ('pname', 'country')]\n",
      "[('p', 'http://www.wikidata.org/prop/direct/P2031'), ('pname', 'work period (start)')]\n",
      "[('p', 'http://www.wikidata.org/prop/direct/P2032'), ('pname', 'work period (end)')]\n",
      "[('p', 'http://www.wikidata.org/prop/direct/P2671'), ('pname', 'Google Knowledge Graph ID')]\n",
      "[('p', 'http://www.wikidata.org/prop/direct/P276'), ('pname', 'location')]\n",
      "[('p', 'http://www.wikidata.org/prop/direct/P279'), ('pname', 'subclass of')]\n",
      "[('p', 'http://www.wikidata.org/prop/direct/P31'), ('pname', 'instance of')]\n",
      "[('p', 'http://www.wikidata.org/prop/direct/P3450'), ('pname', 'sports season of league or competition')]\n",
      "[('p', 'http://www.wikidata.org/prop/direct/P361'), ('pname', 'part of')]\n",
      "[('p', 'http://www.wikidata.org/prop/direct/P373'), ('pname', 'Commons category')]\n",
      "[('p', 'http://www.wikidata.org/prop/direct/P527'), ('pname', 'has part')]\n",
      "[('p', 'http://www.wikidata.org/prop/direct/P585'), ('pname', 'point in time')]\n",
      "[('p', 'http://www.wikidata.org/prop/direct/P641'), ('pname', 'sport')]\n",
      "[('p', 'http://www.wikidata.org/prop/direct/P646'), ('pname', 'Freebase ID')]\n",
      "[('p', 'http://www.wikidata.org/prop/direct/P664'), ('pname', 'organizer')]\n",
      "[('p', 'http://www.wikidata.org/prop/direct/P710'), ('pname', 'participant')]\n",
      "[('p', 'http://www.wikidata.org/prop/direct/P840'), ('pname', 'narrative location')]\n",
      "[('p', 'http://www.wikidata.org/prop/direct/P910'), ('pname', \"topic's main category\")]\n",
      "[('p', 'http://www.wikidata.org/prop/direct/P1417'), ('pname', 'Encyclopædia Britannica Online ID')]\n",
      "[('p', 'http://www.wikidata.org/prop/direct/P18'), ('pname', 'image')]\n",
      "[('p', 'http://www.wikidata.org/prop/direct/P214'), ('pname', 'VIAF ID')]\n",
      "[('p', 'http://www.wikidata.org/prop/direct/P227'), ('pname', 'GND ID')]\n",
      "[('p', 'http://www.wikidata.org/prop/direct/P2397'), ('pname', 'YouTube channel ID')]\n",
      "[('p', 'http://www.wikidata.org/prop/direct/P244'), ('pname', 'Library of Congress authority ID')]\n",
      "[('p', 'http://www.wikidata.org/prop/direct/P2581'), ('pname', 'BabelNet ID')]\n",
      "[('p', 'http://www.wikidata.org/prop/direct/P2670'), ('pname', 'has parts of the class')]\n",
      "[('p', 'http://www.wikidata.org/prop/direct/P3219'), ('pname', 'Encyclopædia Universalis ID')]\n",
      "[('p', 'http://www.wikidata.org/prop/direct/P3221'), ('pname', 'New York Times topic ID')]\n",
      "[('p', 'http://www.wikidata.org/prop/direct/P3417'), ('pname', 'Quora topic ID')]\n",
      "[('p', 'http://www.wikidata.org/prop/direct/P393'), ('pname', 'edition number')]\n",
      "[('p', 'http://www.wikidata.org/prop/direct/P542'), ('pname', 'officially opened by')]\n",
      "[('p', 'http://www.wikidata.org/prop/direct/P543'), ('pname', 'oath made by')]\n",
      "[('p', 'http://www.wikidata.org/prop/direct/P545'), ('pname', 'torch lit by')]\n",
      "[('p', 'http://www.wikidata.org/prop/direct/P580'), ('pname', 'start time')]\n",
      "[('p', 'http://www.wikidata.org/prop/direct/P582'), ('pname', 'end time')]\n",
      "[('p', 'http://www.wikidata.org/prop/direct/P6058'), ('pname', 'Larousse ID')]\n",
      "[('p', 'http://www.wikidata.org/prop/direct/P6262'), ('pname', 'Fandom article ID')]\n",
      "[('p', 'http://www.wikidata.org/prop/direct/P6683'), ('pname', 'Alexander Turnbull Library ID')]\n",
      "[('p', 'http://www.wikidata.org/prop/direct/P691'), ('pname', 'NKCR AUT ID')]\n",
      "[('p', 'http://www.wikidata.org/prop/direct/P7859'), ('pname', 'WorldCat Identities ID')]\n",
      "[('p', 'http://www.wikidata.org/prop/direct/P822'), ('pname', 'mascot')]\n",
      "[('p', 'http://www.wikidata.org/prop/direct/P8309'), ('pname', 'Yle topic ID')]\n",
      "[('p', 'http://www.wikidata.org/prop/direct/P856'), ('pname', 'official website')]\n",
      "[('p', 'http://www.wikidata.org/prop/direct/P8687'), ('pname', 'social media followers')]\n",
      "[('p', 'http://www.wikidata.org/prop/direct/P9322'), ('pname', 'SVKKL authority ID')]\n",
      "[('p', 'http://www.wikidata.org/prop/direct/P935'), ('pname', 'Commons gallery')]\n",
      "[('p', 'http://www.wikidata.org/prop/direct/P948'), ('pname', 'page banner')]\n"
     ]
    },
    {
     "data": {
      "text/plain": [
       "50"
      ]
     },
     "execution_count": 8,
     "metadata": {},
     "output_type": "execute_result"
    }
   ],
   "source": [
    "#Q6\n",
    "#get labels of some competitions (P710=participant) \n",
    "queryString = \"\"\"\n",
    "SELECT DISTINCT ?p ?pname\n",
    "WHERE {\n",
    "    ?a wdt:P106/wdt:P279 wd:Q2066131;\n",
    "       wdt:P27 wd:Q142;\n",
    "       wdt:P710 ?c.\n",
    "    \n",
    "    ?c ?p ?o .\n",
    "       \n",
    "    #labels\n",
    "    ?p <http://schema.org/name> ?pname .\n",
    "}\n",
    "LIMIT 50\n",
    "\"\"\"\n",
    "print(\"Results\")\n",
    "run_query(queryString)"
   ]
  },
  {
   "cell_type": "markdown",
   "id": "77944e24-0324-47ce-9212-b2e7fb5b2002",
   "metadata": {},
   "source": [
    "As above but excluding literals."
   ]
  },
  {
   "cell_type": "code",
   "execution_count": 9,
   "id": "bbc13699-afdb-4496-917a-8185a2bd4dbf",
   "metadata": {},
   "outputs": [
    {
     "name": "stdout",
     "output_type": "stream",
     "text": [
      "Results\n",
      "[('p', 'http://www.wikidata.org/prop/direct/P155'), ('pname', 'follows')]\n",
      "[('p', 'http://www.wikidata.org/prop/direct/P156'), ('pname', 'followed by')]\n",
      "[('p', 'http://www.wikidata.org/prop/direct/P17'), ('pname', 'country')]\n",
      "[('p', 'http://www.wikidata.org/prop/direct/P276'), ('pname', 'location')]\n",
      "[('p', 'http://www.wikidata.org/prop/direct/P279'), ('pname', 'subclass of')]\n",
      "[('p', 'http://www.wikidata.org/prop/direct/P31'), ('pname', 'instance of')]\n",
      "[('p', 'http://www.wikidata.org/prop/direct/P3450'), ('pname', 'sports season of league or competition')]\n",
      "[('p', 'http://www.wikidata.org/prop/direct/P361'), ('pname', 'part of')]\n",
      "[('p', 'http://www.wikidata.org/prop/direct/P527'), ('pname', 'has part')]\n",
      "[('p', 'http://www.wikidata.org/prop/direct/P641'), ('pname', 'sport')]\n",
      "[('p', 'http://www.wikidata.org/prop/direct/P664'), ('pname', 'organizer')]\n",
      "[('p', 'http://www.wikidata.org/prop/direct/P710'), ('pname', 'participant')]\n",
      "[('p', 'http://www.wikidata.org/prop/direct/P840'), ('pname', 'narrative location')]\n",
      "[('p', 'http://www.wikidata.org/prop/direct/P910'), ('pname', \"topic's main category\")]\n",
      "[('p', 'http://www.wikidata.org/prop/direct/P18'), ('pname', 'image')]\n",
      "[('p', 'http://www.wikidata.org/prop/direct/P2670'), ('pname', 'has parts of the class')]\n",
      "[('p', 'http://www.wikidata.org/prop/direct/P542'), ('pname', 'officially opened by')]\n",
      "[('p', 'http://www.wikidata.org/prop/direct/P543'), ('pname', 'oath made by')]\n",
      "[('p', 'http://www.wikidata.org/prop/direct/P545'), ('pname', 'torch lit by')]\n",
      "[('p', 'http://www.wikidata.org/prop/direct/P822'), ('pname', 'mascot')]\n",
      "[('p', 'http://www.wikidata.org/prop/direct/P856'), ('pname', 'official website')]\n",
      "[('p', 'http://www.wikidata.org/prop/direct/P948'), ('pname', 'page banner')]\n",
      "[('p', 'http://www.wikidata.org/prop/direct/P973'), ('pname', 'described at URL')]\n",
      "[('p', 'http://www.wikidata.org/prop/direct/P115'), ('pname', 'home venue')]\n",
      "[('p', 'http://www.wikidata.org/prop/direct/P1346'), ('pname', 'winner')]\n",
      "[('p', 'http://www.wikidata.org/prop/direct/P1424'), ('pname', \"topic's main template\")]\n",
      "[('p', 'http://www.wikidata.org/prop/direct/P2094'), ('pname', 'competition class')]\n",
      "[('p', 'http://www.wikidata.org/prop/direct/P2348'), ('pname', 'time period')]\n",
      "[('p', 'http://www.wikidata.org/prop/direct/P3967'), ('pname', 'final event')]\n",
      "[('p', 'http://www.wikidata.org/prop/direct/P2321'), ('pname', 'general classification of race participants')]\n",
      "[('p', 'http://www.wikidata.org/prop/direct/P2354'), ('pname', 'has list')]\n",
      "[('p', 'http://www.wikidata.org/prop/direct/P242'), ('pname', 'locator map image')]\n",
      "[('p', 'http://www.wikidata.org/prop/direct/P1427'), ('pname', 'start point')]\n",
      "[('p', 'http://www.wikidata.org/prop/direct/P1444'), ('pname', 'destination point')]\n",
      "[('p', 'http://www.wikidata.org/prop/direct/P6118'), ('pname', 'season ends')]\n",
      "[('p', 'http://www.wikidata.org/prop/direct/P112'), ('pname', 'founded by')]\n",
      "[('p', 'http://www.wikidata.org/prop/direct/P131'), ('pname', 'located in the administrative territorial entity')]\n",
      "[('p', 'http://www.wikidata.org/prop/direct/P138'), ('pname', 'named after')]\n",
      "[('p', 'http://www.wikidata.org/prop/direct/P154'), ('pname', 'logo image')]\n",
      "[('p', 'http://www.wikidata.org/prop/direct/P1687'), ('pname', 'Wikidata property')]\n",
      "[('p', 'http://www.wikidata.org/prop/direct/P1889'), ('pname', 'different from')]\n",
      "[('p', 'http://www.wikidata.org/prop/direct/P2184'), ('pname', 'history of topic')]\n",
      "[('p', 'http://www.wikidata.org/prop/direct/P4622'), ('pname', 'trophy awarded')]\n",
      "[('p', 'http://www.wikidata.org/prop/direct/P4794'), ('pname', 'season starts')]\n",
      "[('p', 'http://www.wikidata.org/prop/direct/P765'), ('pname', 'surface played on')]\n",
      "[('p', 'http://www.wikidata.org/prop/direct/P7959'), ('pname', 'historic county')]\n",
      "[('p', 'http://www.wikidata.org/prop/direct/P1923'), ('pname', 'participating team')]\n"
     ]
    },
    {
     "data": {
      "text/plain": [
       "47"
      ]
     },
     "execution_count": 9,
     "metadata": {},
     "output_type": "execute_result"
    }
   ],
   "source": [
    "#Q7\n",
    "#get labels (exclude literals) of some competitions (P710=participant) \n",
    "queryString = \"\"\"\n",
    "SELECT DISTINCT ?p ?pname\n",
    "WHERE {\n",
    "    ?a wdt:P106/wdt:P279 wd:Q2066131;\n",
    "       wdt:P27 wd:Q142;\n",
    "       wdt:P710 ?c.\n",
    "    \n",
    "    ?c ?p ?o . FILTER(!isLiteral(?o))\n",
    "       \n",
    "    #labels\n",
    "    ?p <http://schema.org/name> ?pname .\n",
    "}\n",
    "LIMIT 50\n",
    "\"\"\"\n",
    "print(\"Results\")\n",
    "run_query(queryString)"
   ]
  },
  {
   "cell_type": "markdown",
   "id": "58efc8a4-5e21-4a84-9300-02cc7a22a0d9",
   "metadata": {},
   "source": [
    "I am trying to use P1346 (winner). Retrieve the competitions won by a french athlete."
   ]
  },
  {
   "cell_type": "code",
   "execution_count": 10,
   "id": "964d34f8-2865-46d5-bf2e-3bfef2e64ece",
   "metadata": {},
   "outputs": [
    {
     "name": "stdout",
     "output_type": "stream",
     "text": [
      "Results\n",
      "Empty\n"
     ]
    },
    {
     "data": {
      "text/plain": [
       "0"
      ]
     },
     "execution_count": 10,
     "metadata": {},
     "output_type": "execute_result"
    }
   ],
   "source": [
    "#Q8\n",
    "#add the property winner(P1346) found in the cell above\n",
    "queryString = \"\"\"\n",
    "SELECT DISTINCT ?c ?cname\n",
    "WHERE {\n",
    "    ?a wdt:P106/wdt:P279 wd:Q2066131;\n",
    "       wdt:P27 wd:Q142;\n",
    "       wdt:P1346 ?c.\n",
    "       \n",
    "    #labels\n",
    "    ?c <http://schema.org/name> ?cname .\n",
    "}\n",
    "LIMIT 50\n",
    "\"\"\"\n",
    "print(\"Results\")\n",
    "run_query(queryString)"
   ]
  },
  {
   "cell_type": "markdown",
   "id": "1554e90c-73e2-4fbf-aecd-eb23d7c1a713",
   "metadata": {},
   "source": [
    "Remove the nationality constraint to see if we get some results."
   ]
  },
  {
   "cell_type": "code",
   "execution_count": 11,
   "id": "2dba4570-9314-428b-99b5-e515cd75b238",
   "metadata": {},
   "outputs": [
    {
     "name": "stdout",
     "output_type": "stream",
     "text": [
      "Results\n",
      "[('c', 'http://www.wikidata.org/entity/Q57609226'), ('cname', \"2018 World Wrestling Championships – Women's freestyle 55 kg\")]\n",
      "[('c', 'http://www.wikidata.org/entity/Q28406503'), ('cname', \"2016 World Wrestling Championships – women's freestyle 55 kg\")]\n",
      "[('c', 'http://www.wikidata.org/entity/Q478328'), ('cname', 'Amsterdam Marathon')]\n",
      "[('c', 'http://www.wikidata.org/entity/Q752138'), ('cname', 'New York City Marathon')]\n",
      "[('c', 'http://www.wikidata.org/entity/Q1628588'), ('cname', 'North American Boxing Federation')]\n",
      "[('c', 'http://www.wikidata.org/entity/Q1209340'), ('cname', '2007 Southeast Asian Games')]\n",
      "[('c', 'http://www.wikidata.org/entity/Q24908675'), ('cname', '2016 Supercopa de España de Baloncesto')]\n",
      "[('c', 'http://www.wikidata.org/entity/Q19323'), ('cname', \"FIFA Women's World Cup\")]\n",
      "[('c', 'http://www.wikidata.org/entity/Q11680472'), ('cname', 'Galician Rally Championship')]\n",
      "[('c', 'http://www.wikidata.org/entity/Q1059464'), ('cname', 'WWE Raw Tag Team Championship')]\n",
      "[('c', 'http://www.wikidata.org/entity/Q2286741'), ('cname', \"United States Women's Amateur Golf Championship\")]\n",
      "[('c', 'http://www.wikidata.org/entity/Q3572871'), ('cname', 'Jean Bouin Road Race')]\n",
      "[('c', 'http://www.wikidata.org/entity/Q106825114'), ('cname', \"Diving at the 2020 European Aquatics Championships – Women's 10 m platform\")]\n",
      "[('c', 'http://www.wikidata.org/entity/Q8352738'), ('cname', 'Cursa de la Mercè')]\n",
      "[('c', 'http://www.wikidata.org/entity/Q8352736'), ('cname', 'Cursa El Corte Inglés')]\n"
     ]
    },
    {
     "data": {
      "text/plain": [
       "15"
      ]
     },
     "execution_count": 11,
     "metadata": {},
     "output_type": "execute_result"
    }
   ],
   "source": [
    "#Q9\n",
    "#same as before but without 'french' to enlarge the view\n",
    "queryString = \"\"\"\n",
    "SELECT DISTINCT ?c ?cname\n",
    "WHERE {\n",
    "    ?a wdt:P106/wdt:P279 wd:Q2066131;\n",
    "       wdt:P1346 ?c.\n",
    "       \n",
    "    #labels\n",
    "    ?c <http://schema.org/name> ?cname .\n",
    "}\n",
    "LIMIT 50\n",
    "\"\"\"\n",
    "print(\"Results\")\n",
    "run_query(queryString)"
   ]
  },
  {
   "cell_type": "markdown",
   "id": "b9ef1f9e-b464-42b2-8af5-143ea9f397e6",
   "metadata": {},
   "source": [
    "Try to use P2522 (victory) instead of P1346 to check if we can get more results."
   ]
  },
  {
   "cell_type": "code",
   "execution_count": 12,
   "id": "070de71f-86a0-4602-a929-49f9103e2bf1",
   "metadata": {},
   "outputs": [
    {
     "name": "stdout",
     "output_type": "stream",
     "text": [
      "Results\n",
      "[('c', 'http://www.wikidata.org/entity/Q1848041'), ('cname', 'European Squash Individual Championships')]\n",
      "[('c', 'http://www.wikidata.org/entity/Q28132075'), ('cname', 'Monte-Carlo Squash Classic 2013')]\n",
      "[('c', 'http://www.wikidata.org/entity/Q17009124'), ('cname', \"2014 Women's World Team Squash Championships\")]\n",
      "[('c', 'http://www.wikidata.org/entity/Q20711297'), ('cname', \"Women's China Squash Open 2015\")]\n",
      "[('c', 'http://www.wikidata.org/entity/Q1995390'), ('cname', '1993 BDO World Darts Championship')]\n",
      "[('c', 'http://www.wikidata.org/entity/Q2195114'), ('cname', '1987 BDO World Darts Championship')]\n",
      "[('c', 'http://www.wikidata.org/entity/Q2742604'), ('cname', '1982 BDO World Darts Championship')]\n",
      "[('c', 'http://www.wikidata.org/entity/Q2186851'), ('cname', '1981 BDO World Darts Championship')]\n",
      "[('c', 'http://www.wikidata.org/entity/Q2189461'), ('cname', '1980 BDO World Darts Championship')]\n",
      "[('c', 'http://www.wikidata.org/entity/Q2420623'), ('cname', '1984 BDO World Darts Championship')]\n",
      "[('c', 'http://www.wikidata.org/entity/Q2560040'), ('cname', '1985 BDO World Darts Championship')]\n",
      "[('c', 'http://www.wikidata.org/entity/Q2693153'), ('cname', '1986 BDO World Darts Championship')]\n",
      "[('c', 'http://www.wikidata.org/entity/Q288673'), ('cname', '1995 BDO World Darts Championship')]\n",
      "[('c', 'http://www.wikidata.org/entity/Q4580928'), ('cname', '1983 BDO World Darts Championship')]\n",
      "[('c', 'http://www.wikidata.org/entity/Q4479236'), ('cname', '1994 BDO World Darts Championship')]\n",
      "[('c', 'http://www.wikidata.org/entity/Q963544'), ('cname', \"1968 French Open – Women's Singles\")]\n",
      "[('c', 'http://www.wikidata.org/entity/Q1753915'), ('cname', \"1966 Wimbledon Championships – Men's Singles\")]\n",
      "[('c', 'http://www.wikidata.org/entity/Q1755228'), ('cname', \"1965 U.S. National Championships – Men's Singles\")]\n",
      "[('c', 'http://www.wikidata.org/entity/Q27866699'), ('cname', \"1961 French Badminton Championships – men's singles\")]\n",
      "[('c', 'http://www.wikidata.org/entity/Q27866702'), ('cname', \"1964 French Badminton Championships – men's singles\")]\n",
      "[('c', 'http://www.wikidata.org/entity/Q1455334'), ('cname', \"1970 French Open – Women's Singles\")]\n",
      "[('c', 'http://www.wikidata.org/entity/Q594977'), ('cname', \"1969 French Open – Women's Singles\")]\n",
      "[('c', 'http://www.wikidata.org/entity/Q765736'), ('cname', \"1971 Australian Open – Women's Singles\")]\n",
      "[('c', 'http://www.wikidata.org/entity/Q781672'), ('cname', \"1973 Australian Open – Women's Singles\")]\n",
      "[('c', 'http://www.wikidata.org/entity/Q1059671'), ('cname', \"1970 US Open – Women's Singles\")]\n",
      "[('c', 'http://www.wikidata.org/entity/Q657674'), ('cname', \"1958 Wimbledon Championships – Women's Singles\")]\n",
      "[('c', 'http://www.wikidata.org/entity/Q657699'), ('cname', \"1957 Wimbledon Championships – Women's Singles\")]\n",
      "[('c', 'http://www.wikidata.org/entity/Q655345'), ('cname', \"1956 Wimbledon Championships – Women's Singles\")]\n",
      "[('c', 'http://www.wikidata.org/entity/Q1752603'), ('cname', \"1951 French Championships – Women's Singles\")]\n",
      "[('c', 'http://www.wikidata.org/entity/Q12412277'), ('cname', \"1952 U.S. National Championships – Women's Singles\")]\n",
      "[('c', 'http://www.wikidata.org/entity/Q12412279'), ('cname', \"1953 U.S. National Championships – Women's Singles\")]\n",
      "[('c', 'http://www.wikidata.org/entity/Q15642890'), ('cname', \"1951 U.S. National Championships – Women's Singles\")]\n",
      "[('c', 'http://www.wikidata.org/entity/Q1752618'), ('cname', \"1953 French Championships – Women's Singles\")]\n",
      "[('c', 'http://www.wikidata.org/entity/Q1752647'), ('cname', \"1954 French Championships – Women's Singles\")]\n",
      "[('c', 'http://www.wikidata.org/entity/Q2406593'), ('cname', \"1953 Australian Championships – Women's Singles\")]\n",
      "[('c', 'http://www.wikidata.org/entity/Q576966'), ('cname', \"1954 Wimbledon Championships – Women's Singles\")]\n",
      "[('c', 'http://www.wikidata.org/entity/Q576977'), ('cname', \"1952 Wimbledon Championships – Women's Singles\")]\n",
      "[('c', 'http://www.wikidata.org/entity/Q577247'), ('cname', \"1953 Wimbledon Championships – Women's Singles\")]\n",
      "[('c', 'http://www.wikidata.org/entity/Q12412281'), ('cname', \"1954 U.S. National Championships – Women's Singles\")]\n",
      "[('c', 'http://www.wikidata.org/entity/Q15642891'), ('cname', \"1955 U.S. National Championships – Women's Singles\")]\n",
      "[('c', 'http://www.wikidata.org/entity/Q1752558'), ('cname', \"1950 French Championships – Women's Singles\")]\n",
      "[('c', 'http://www.wikidata.org/entity/Q1752585'), ('cname', \"1952 French Championships – Women's Singles\")]\n",
      "[('c', 'http://www.wikidata.org/entity/Q2406586'), ('cname', \"1949 Australian Championships – Women's Singles\")]\n",
      "[('c', 'http://www.wikidata.org/entity/Q612711'), ('cname', \"1951 Wimbledon Championships – Women's Singles\")]\n",
      "[('c', 'http://www.wikidata.org/entity/Q937475'), ('cname', '2012 French Open – Mixed Doubles')]\n",
      "[('c', 'http://www.wikidata.org/entity/Q404147'), ('cname', \"1929 Wimbledon Championships – Women's Singles\")]\n",
      "[('c', 'http://www.wikidata.org/entity/Q404151'), ('cname', \"1930 Wimbledon Championships – Women's Singles\")]\n",
      "[('c', 'http://www.wikidata.org/entity/Q2686578'), ('cname', '1976 Davis Cup')]\n",
      "[('c', 'http://www.wikidata.org/entity/Q25344122'), ('cname', \"2017 Wimbledon Championships – Women's Singles\")]\n",
      "[('c', 'http://www.wikidata.org/entity/Q22956224'), ('cname', \"2017 Australian Open – Men's Singles\")]\n",
      "[('c', 'http://www.wikidata.org/entity/Q612597'), ('cname', '2007 Tennis Masters Cup')]\n",
      "[('c', 'http://www.wikidata.org/entity/Q782589'), ('cname', \"2010 Australian Open – Men's Singles\")]\n",
      "[('c', 'http://www.wikidata.org/entity/Q658805'), ('cname', \"1971 US Open – Women's Singles\")]\n",
      "[('c', 'http://www.wikidata.org/entity/Q963803'), ('cname', \"1972 US Open – Women's Singles\")]\n",
      "[('c', 'http://www.wikidata.org/entity/Q752413'), ('cname', \"tennis at the 2008 Summer Olympics – women's singles\")]\n",
      "[('c', 'http://www.wikidata.org/entity/Q3883665'), ('cname', \"1980 French Open – Men's Doubles\")]\n",
      "[('c', 'http://www.wikidata.org/entity/Q26218947'), ('cname', \"swimming at the 2016 Summer Olympics – men's 100 metre breaststroke\")]\n",
      "[('c', 'http://www.wikidata.org/entity/Q74111678'), ('cname', \"2018 African Swimming Championships – men's 50 metre freestyle\")]\n",
      "[('c', 'http://www.wikidata.org/entity/Q106938088'), ('cname', \"Swimming at the 2020 European Aquatics Championships – Men's 200 metre butterfly\")]\n",
      "[('c', 'http://www.wikidata.org/entity/Q106966867'), ('cname', \"Swimming at the 2020 European Aquatics Championships – Men's 100 metre butterfly\")]\n",
      "[('c', 'http://www.wikidata.org/entity/Q863281'), ('cname', \"figure skating at the 1932 Winter Olympics – men's singles\")]\n",
      "[('c', 'http://www.wikidata.org/entity/Q867422'), ('cname', \"figure skating at the 1936 Winter Olympics – men's singles\")]\n",
      "[('c', 'http://www.wikidata.org/entity/Q55391951'), ('cname', \"swimming at the 2018 Mediterranean Games – men's 50 metre freestyle\")]\n",
      "[('c', 'http://www.wikidata.org/entity/Q253755'), ('cname', 'Miss Venezuela')]\n",
      "[('c', 'http://www.wikidata.org/entity/Q675359'), ('cname', 'Miss Peru')]\n",
      "[('c', 'http://www.wikidata.org/entity/Q39059190'), ('cname', 'Wladimir Klitschko vs. Sultan Ibragimov')]\n",
      "[('c', 'http://www.wikidata.org/entity/Q28865290'), ('cname', 'Anthony Joshua vs. Wladimir Klitschko')]\n",
      "[('c', 'http://www.wikidata.org/entity/Q48698922'), ('cname', 'Anthony Joshua vs. Joseph Parker')]\n",
      "[('c', 'http://www.wikidata.org/entity/Q60850060'), ('cname', 'Anthony Joshua vs. Alexander Povetkin')]\n",
      "[('c', 'http://www.wikidata.org/entity/Q74114066'), ('cname', 'Andy Ruiz Jr. vs. Anthony Joshua II')]\n",
      "[('c', 'http://www.wikidata.org/entity/Q87118555'), ('cname', 'Anthony Joshua vs. Kubrat Pulev')]\n",
      "[('c', 'http://www.wikidata.org/entity/Q62388470'), ('cname', 'Anthony Joshua vs. Andy Ruiz Jr.')]\n",
      "[('c', 'http://www.wikidata.org/entity/Q18124977'), ('cname', \"1958 European Athletics Championships – men's 3000 metres steeplechase\")]\n",
      "[('c', 'http://www.wikidata.org/entity/Q86680753'), ('cname', \"Cross de L'Humanité\")]\n",
      "[('c', 'http://www.wikidata.org/entity/Q23058340'), ('cname', \"athletics at the 2015 African Games – men's pole vault\")]\n",
      "[('c', 'http://www.wikidata.org/entity/Q25239577'), ('cname', \"2016 African Championships in Athletics – men's pole vault\")]\n",
      "[('c', 'http://www.wikidata.org/entity/Q66787715'), ('cname', \"athletics at the 2019 African Games – men's pole vault\")]\n",
      "[('c', 'http://www.wikidata.org/entity/Q3652243'), ('cname', \"2003 World Championships in Athletics – men's pole vault\")]\n",
      "[('c', 'http://www.wikidata.org/entity/Q2869154'), ('cname', 'athletics at the 1966 British Empire and Commonwealth Games')]\n",
      "[('c', 'http://www.wikidata.org/entity/Q2869157'), ('cname', 'athletics at the 1970 British Commonwealth Games')]\n",
      "[('c', 'http://www.wikidata.org/entity/Q3628419'), ('cname', \"athletics at the 1968 Summer Olympics – men's 400 metres hurdles\")]\n",
      "[('c', 'http://www.wikidata.org/entity/Q18124441'), ('cname', \"1958 European Athletics Championships – men's 10,000 metres\")]\n",
      "[('c', 'http://www.wikidata.org/entity/Q4597343'), ('cname', \"2000 European Athletics Indoor Championships – men's 60 metres\")]\n",
      "[('c', 'http://www.wikidata.org/entity/Q4599978'), ('cname', \"2002 European Athletics Indoor Championships – men's 60 metres\")]\n",
      "[('c', 'http://www.wikidata.org/entity/Q4604222'), ('cname', \"2005 European Athletics Indoor Championships – men's 60 metres\")]\n",
      "[('c', 'http://www.wikidata.org/entity/Q4608376'), ('cname', \"2007 European Athletics Indoor Championships – men's 60 metres\")]\n",
      "[('c', 'http://www.wikidata.org/entity/Q17176042'), ('cname', '2014 Ibero-American Championships in Athletics')]\n",
      "[('c', 'http://www.wikidata.org/entity/Q4815248'), ('cname', \"athletics at the 2010 Summer Youth Olympics – boys' 400 metres\")]\n",
      "[('c', 'http://www.wikidata.org/entity/Q28858574'), ('cname', \"2017 European Athletics Indoor Championships – men's 60 metres\")]\n",
      "[('c', 'http://www.wikidata.org/entity/Q56034210'), ('cname', \"2018 European Athletics Championships – women's 5000 metres\")]\n",
      "[('c', 'http://www.wikidata.org/entity/Q2012680'), ('cname', '2007 European Cup')]\n",
      "[('c', 'http://www.wikidata.org/entity/Q217258'), ('cname', '2012 European Athletics Championships')]\n",
      "[('c', 'http://www.wikidata.org/entity/Q1144200'), ('cname', \"athletics at the 2012 Summer Olympics – men's 4 × 100 metres relay\")]\n",
      "[('c', 'http://www.wikidata.org/entity/Q2153797'), ('cname', '2014 World Wrestling Championships')]\n",
      "[('c', 'http://www.wikidata.org/entity/Q26218171'), ('cname', \"shooting at the 2016 Summer Olympics – women's 10 metre air rifle\")]\n",
      "[('c', 'http://www.wikidata.org/entity/Q63985649'), ('cname', \"shooting at the 2020 Summer Olympics – women's 10 metre air rifle\")]\n",
      "[('c', 'http://www.wikidata.org/entity/Q1189350'), ('cname', 'Miss Italia')]\n",
      "[('c', 'http://www.wikidata.org/entity/Q213347'), ('cname', 'English Football League')]\n",
      "[('c', 'http://www.wikidata.org/entity/Q26217865'), ('cname', \"judo at the 2016 Summer Olympics – women's 57 kg\")]\n",
      "[('c', 'http://www.wikidata.org/entity/Q11867321'), ('cname', 'judo at the 2016 Summer Olympics')]\n"
     ]
    },
    {
     "data": {
      "text/plain": [
       "100"
      ]
     },
     "execution_count": 12,
     "metadata": {},
     "output_type": "execute_result"
    }
   ],
   "source": [
    "#Q10\n",
    "#check the difference with P2522 'victory' (found in q4)\n",
    "queryString = \"\"\"\n",
    "SELECT DISTINCT ?c ?cname\n",
    "WHERE {\n",
    "    ?a wdt:P106/wdt:P279 wd:Q2066131;\n",
    "       wdt:P2522 ?c.\n",
    "       \n",
    "    #labels\n",
    "    ?c <http://schema.org/name> ?cname .\n",
    "}\n",
    "LIMIT 100\n",
    "\"\"\"\n",
    "print(\"Results\")\n",
    "run_query(queryString)"
   ]
  },
  {
   "cell_type": "code",
   "execution_count": 10,
   "id": "99655e5b-068f-473d-9142-49bf8768051d",
   "metadata": {},
   "outputs": [
    {
     "name": "stdout",
     "output_type": "stream",
     "text": [
      "Results\n",
      "[('c', 'http://www.wikidata.org/entity/Q1082132'), ('cname', '2004 UEFA European Under-17 Football Championship')]\n",
      "[('c', 'http://www.wikidata.org/entity/Q1785470'), ('cname', '1999 Major League Soccer season')]\n",
      "[('c', 'http://www.wikidata.org/entity/Q1886152'), ('cname', '2006 Major League Soccer season')]\n",
      "[('c', 'http://www.wikidata.org/entity/Q216330'), ('cname', '24 Hours of Daytona')]\n",
      "[('c', 'http://www.wikidata.org/entity/Q244367'), ('cname', '2007–08 La Liga')]\n",
      "[('c', 'http://www.wikidata.org/entity/Q2686578'), ('cname', '1976 Davis Cup')]\n",
      "[('c', 'http://www.wikidata.org/entity/Q3066961'), ('cname', 'Galician trainera league')]\n",
      "[('c', 'http://www.wikidata.org/entity/Q706023'), ('cname', '2004 UEFA European Under-21 Football Championship')]\n",
      "[('c', 'http://www.wikidata.org/entity/Q8184272'), ('cname', 'Category:Tour de France stage winners')]\n",
      "[('c', 'http://www.wikidata.org/entity/Q946600'), ('cname', '1996 World Cup of Hockey')]\n",
      "[('c', 'http://www.wikidata.org/entity/Q1275984'), ('cname', 'Miss Puerto Rico')]\n",
      "[('c', 'http://www.wikidata.org/entity/Q2455781'), ('cname', 'Miss Nippon')]\n",
      "[('c', 'http://www.wikidata.org/entity/Q6877780'), ('cname', 'Miss Universe Germany')]\n",
      "[('c', 'http://www.wikidata.org/entity/Q20779258'), ('cname', '2nd Mlily Cup')]\n",
      "[('c', 'http://www.wikidata.org/entity/Q31043671'), ('cname', '2018 FIFA World Cup Final')]\n",
      "[('c', 'http://www.wikidata.org/entity/Q16024399'), ('cname', '1966 Critérium du Dauphiné Libéré')]\n",
      "[('c', 'http://www.wikidata.org/entity/Q1935482'), ('cname', 'Mille Miglia')]\n",
      "[('c', 'http://www.wikidata.org/entity/Q20724086'), ('cname', '1969 Critérium du Dauphiné Libéré')]\n",
      "[('c', 'http://www.wikidata.org/entity/Q16029857'), ('cname', \"RuPaul's Drag Race, season 4\")]\n",
      "[('c', 'http://www.wikidata.org/entity/Q17176042'), ('cname', '2014 Ibero-American Championships in Athletics')]\n",
      "[('c', 'http://www.wikidata.org/entity/Q25162542'), ('cname', \"rugby sevens at the 2016 Summer Olympics – men's tournament\")]\n",
      "[('c', 'http://www.wikidata.org/entity/Q498509'), ('cname', 'Miss Romania')]\n",
      "[('c', 'http://www.wikidata.org/entity/Q56064693'), ('cname', 'Stand Up Comedy Indonesia, season 1')]\n",
      "[('c', 'http://www.wikidata.org/entity/Q56676723'), ('cname', \"2018 CS Ondrej Nepela Trophy - men's singles\")]\n",
      "[('c', 'http://www.wikidata.org/entity/Q56877306'), ('cname', \"2018 CS Finlandia Trophy - men's singles\")]\n",
      "[('c', 'http://www.wikidata.org/entity/Q56877423'), ('cname', \"2018 CS Finlandia Trophy - ladies' singles\")]\n",
      "[('c', 'http://www.wikidata.org/entity/Q58229605'), ('cname', \"Volvo Open Cup 37th - senior men's singles\")]\n",
      "[('c', 'http://www.wikidata.org/entity/Q59307550'), ('cname', \"2018 British Figure Skating Championships - senior men's singles\")]\n",
      "[('c', 'http://www.wikidata.org/entity/Q60513800'), ('cname', \"2019 Mentor Toruń Cup - senior men's singles\")]\n",
      "[('c', 'http://www.wikidata.org/entity/Q60550682'), ('cname', \"2018 Halloween Cup - senior men's singles\")]\n",
      "[('c', 'http://www.wikidata.org/entity/Q60732987'), ('cname', '2019 Canadian Figure Skating Championships - senior ice dancing')]\n",
      "[('c', 'http://www.wikidata.org/entity/Q60735850'), ('cname', \"2019 European Figure Skating Championships - men's singles\")]\n",
      "[('c', 'http://www.wikidata.org/entity/Q615116'), ('cname', 'Miss Universe Hungary')]\n",
      "[('c', 'http://www.wikidata.org/entity/Q61636484'), ('cname', \"Dragon Trophy 2019 - senior men's singles\")]\n",
      "[('c', 'http://www.wikidata.org/entity/Q61774817'), ('cname', \"2019 Challenge Cup - senior men's singles\")]\n",
      "[('c', 'http://www.wikidata.org/entity/Q62050557'), ('cname', '2017 NHK Trophy - ice dancing')]\n",
      "[('c', 'http://www.wikidata.org/entity/Q6876384'), ('cname', 'Miss Colorado')]\n",
      "[('c', 'http://www.wikidata.org/entity/Q6877034'), ('cname', 'Miss Maryland')]\n",
      "[('c', 'http://www.wikidata.org/entity/Q6877959'), ('cname', 'Miss Venezuela 1993')]\n",
      "[('c', 'http://www.wikidata.org/entity/Q7375605'), ('cname', \"RuPaul's Drag Race All Stars, season 1\")]\n",
      "[('c', 'http://www.wikidata.org/entity/Q15669738'), ('cname', 'Miss Grand International')]\n",
      "[('c', 'http://www.wikidata.org/entity/Q16676806'), ('cname', 'Miss World Botswana')]\n",
      "[('c', 'http://www.wikidata.org/entity/Q17004461'), ('cname', 'Miss World Canada')]\n",
      "[('c', 'http://www.wikidata.org/entity/Q17007317'), ('cname', 'Miss New Hampshire')]\n",
      "[('c', 'http://www.wikidata.org/entity/Q17009124'), ('cname', \"2014 Women's World Team Squash Championships\")]\n",
      "[('c', 'http://www.wikidata.org/entity/Q17010238'), ('cname', 'Miss Queen Portugal')]\n",
      "[('c', 'http://www.wikidata.org/entity/Q17622655'), ('cname', 'Miss Venezuela Mundo')]\n",
      "[('c', 'http://www.wikidata.org/entity/Q6019362'), ('cname', 'Miss Mundo Colombia')]\n",
      "[('c', 'http://www.wikidata.org/entity/Q7068436'), ('cname', 'Nuestra Belleza Baja California Sur')]\n",
      "[('c', 'http://www.wikidata.org/entity/Q7068552'), ('cname', 'Mexicana Universal Sinaloa')]\n"
     ]
    },
    {
     "data": {
      "text/plain": [
       "50"
      ]
     },
     "execution_count": 10,
     "metadata": {},
     "output_type": "execute_result"
    }
   ],
   "source": [
    "#Q11\n",
    "#check winner (2522) without the athlete constraint\n",
    "queryString = \"\"\"\n",
    "SELECT DISTINCT ?c ?cname\n",
    "WHERE {\n",
    "    ?a wdt:P2522 ?c.\n",
    "       \n",
    "    #labels\n",
    "    ?c <http://schema.org/name> ?cname .\n",
    "}\n",
    "LIMIT 50\n",
    "\"\"\"\n",
    "print(\"Results\")\n",
    "run_query(queryString)"
   ]
  },
  {
   "cell_type": "code",
   "execution_count": 11,
   "id": "25f80f0e-259f-47bf-b3e3-c0acf495ec82",
   "metadata": {},
   "outputs": [
    {
     "name": "stdout",
     "output_type": "stream",
     "text": [
      "Results\n",
      "[('c', 'http://www.wikidata.org/entity/Q1342082'), ('cname', 'Youssef Ziedan')]\n",
      "[('c', 'http://www.wikidata.org/entity/Q8160652'), ('cname', 'Australia at the Hopman Cup')]\n",
      "[('c', 'http://www.wikidata.org/entity/Q8206968'), ('cname', 'Hebraica y Macabi')]\n",
      "[('c', 'http://www.wikidata.org/entity/Q8208548'), ('cname', 'Atlético Trujillo')]\n",
      "[('c', 'http://www.wikidata.org/entity/Q10769440'), ('cname', 'Alena Mihulová')]\n",
      "[('c', 'http://www.wikidata.org/entity/Q1202851'), ('cname', 'Kihachi Okamoto')]\n",
      "[('c', 'http://www.wikidata.org/entity/Q1676812'), ('cname', 'Jabbar Patel')]\n",
      "[('c', 'http://www.wikidata.org/entity/Q18788'), ('cname', 'Epik High')]\n",
      "[('c', 'http://www.wikidata.org/entity/Q232273'), ('cname', 'Isabel Coixet')]\n",
      "[('c', 'http://www.wikidata.org/entity/Q302645'), ('cname', 'Aaron Schneider')]\n",
      "[('c', 'http://www.wikidata.org/entity/Q3080378'), ('cname', 'Yasuo Furuhata')]\n",
      "[('c', 'http://www.wikidata.org/entity/Q3106353'), ('cname', 'Gilles Legrand')]\n",
      "[('c', 'http://www.wikidata.org/entity/Q3269591'), ('cname', 'Lynne Ramsay')]\n",
      "[('c', 'http://www.wikidata.org/entity/Q3687020'), ('cname', 'Connacht GAA')]\n",
      "[('c', 'http://www.wikidata.org/entity/Q457178'), ('cname', 'Federico Mompou')]\n",
      "[('c', 'http://www.wikidata.org/entity/Q5144784'), ('cname', \"Colgate Raiders men's basketball\")]\n",
      "[('c', 'http://www.wikidata.org/entity/Q5308280'), ('cname', 'Dromina GAA')]\n",
      "[('c', 'http://www.wikidata.org/entity/Q706475'), ('cname', 'Steve McQueen')]\n",
      "[('c', 'http://www.wikidata.org/entity/Q9384703'), ('cname', 'Yue Daiyun')]\n",
      "[('c', 'http://www.wikidata.org/entity/Q1372312'), ('cname', 'Michael Marshall Smith')]\n",
      "[('c', 'http://www.wikidata.org/entity/Q188117'), ('cname', 'Walter Mosley')]\n",
      "[('c', 'http://www.wikidata.org/entity/Q239911'), ('cname', 'Val McDermid')]\n",
      "[('c', 'http://www.wikidata.org/entity/Q242643'), ('cname', 'Naomi Novik')]\n",
      "[('c', 'http://www.wikidata.org/entity/Q451136'), ('cname', 'Scott Turow')]\n",
      "[('c', 'http://www.wikidata.org/entity/Q504698'), ('cname', 'James Welch')]\n",
      "[('c', 'http://www.wikidata.org/entity/Q7051115'), ('cname', \"Norfolk State Spartans men's basketball\")]\n",
      "[('c', 'http://www.wikidata.org/entity/Q7280157'), ('cname', \"Radford Highlanders men's soccer\")]\n",
      "[('c', 'http://www.wikidata.org/entity/Q7390523'), ('cname', \"SIU Edwardsville Cougars men's soccer\")]\n",
      "[('c', 'http://www.wikidata.org/entity/Q7401260'), ('cname', 'Saint Francis Red Flash')]\n",
      "[('c', 'http://www.wikidata.org/entity/Q13637715'), ('cname', 'Fraser Mac Master')]\n",
      "[('c', 'http://www.wikidata.org/entity/Q190519'), ('cname', 'Felicity Huffman')]\n",
      "[('c', 'http://www.wikidata.org/entity/Q2150690'), ('cname', 'Richard Stilgoe')]\n",
      "[('c', 'http://www.wikidata.org/entity/Q286698'), ('cname', 'Taliana Vargas')]\n",
      "[('c', 'http://www.wikidata.org/entity/Q477810'), ('cname', 'Emir Bekrić')]\n",
      "[('c', 'http://www.wikidata.org/entity/Q923390'), ('cname', 'Illya Kvasha')]\n",
      "[('c', 'http://www.wikidata.org/entity/Q1298398'), ('cname', 'Egoitz García')]\n",
      "[('c', 'http://www.wikidata.org/entity/Q15462728'), ('cname', 'Lou Aronica')]\n",
      "[('c', 'http://www.wikidata.org/entity/Q15485799'), ('cname', 'Denis Forman')]\n",
      "[('c', 'http://www.wikidata.org/entity/Q16237391'), ('cname', 'True Eames Boardman')]\n",
      "[('c', 'http://www.wikidata.org/entity/Q3390836'), ('cname', 'Manel Fuentes')]\n",
      "[('c', 'http://www.wikidata.org/entity/Q313195'), ('cname', 'Archie Hahn')]\n",
      "[('c', 'http://www.wikidata.org/entity/Q15405535'), ('cname', 'IAM 2014')]\n",
      "[('c', 'http://www.wikidata.org/entity/Q15477120'), ('cname', '2014 NetApp-Endura')]\n",
      "[('c', 'http://www.wikidata.org/entity/Q1553933'), ('cname', 'Guillaume Van Keirsbulck')]\n",
      "[('c', 'http://www.wikidata.org/entity/Q15725095'), ('cname', 'Han Tianyu')]\n",
      "[('c', 'http://www.wikidata.org/entity/Q15728505'), ('cname', 'Summer Britcher')]\n",
      "[('c', 'http://www.wikidata.org/entity/Q15818237'), ('cname', 'Shi Yuqi')]\n",
      "[('c', 'http://www.wikidata.org/entity/Q16943490'), ('cname', 'Carles Porta i Gaset')]\n",
      "[('c', 'http://www.wikidata.org/entity/Q175460'), ('cname', 'Georgi Stoykovski')]\n",
      "[('c', 'http://www.wikidata.org/entity/Q246992'), ('cname', 'Jason Day')]\n"
     ]
    },
    {
     "data": {
      "text/plain": [
       "50"
      ]
     },
     "execution_count": 11,
     "metadata": {},
     "output_type": "execute_result"
    }
   ],
   "source": [
    "#Q12\n",
    "#same as before but for victory(P1346)\n",
    "queryString = \"\"\"\n",
    "SELECT DISTINCT ?c ?cname\n",
    "WHERE {\n",
    "    ?a wdt:P1346 ?c.\n",
    "       \n",
    "    #labels\n",
    "    ?c <http://schema.org/name> ?cname .\n",
    "}\n",
    "LIMIT 50\n",
    "\"\"\"\n",
    "print(\"Results\")\n",
    "run_query(queryString)"
   ]
  },
  {
   "cell_type": "markdown",
   "id": "af30e516-51dc-4c0b-be99-496704770b09",
   "metadata": {},
   "source": [
    "<h3> TASK 1 ENDS HERE </h3>\n",
    "In the following cells there are the BGP for winning and the one for participate in a competition. On top of that there is also the BGP for participate in an edition of Olympic Games."
   ]
  },
  {
   "cell_type": "code",
   "execution_count": 14,
   "id": "443033c8-7c62-421a-80d1-63ba39499427",
   "metadata": {},
   "outputs": [
    {
     "name": "stdout",
     "output_type": "stream",
     "text": [
      "Results\n",
      "[('aname', 'Alison Waters'), ('cname', \"2014 Women's World Team Squash Championships\")]\n",
      "[('aname', 'Sarah-Jane Perry'), ('cname', \"2014 Women's World Team Squash Championships\")]\n",
      "[('aname', 'Laura Massaro'), ('cname', \"2014 Women's World Team Squash Championships\")]\n",
      "[('aname', 'Camille Serme'), ('cname', 'European Squash Individual Championships')]\n",
      "[('aname', 'Raneem El Weleily'), ('cname', \"Women's China Squash Open 2015\")]\n",
      "[('aname', 'Camille Serme'), ('cname', 'Monte-Carlo Squash Classic 2013')]\n",
      "[('aname', 'Nicol David'), ('cname', 'Cayman Islands Open 2011')]\n",
      "[('aname', 'Nour El Sherbini'), ('cname', \"2016 Women's World Open Squash Championship\")]\n",
      "[('aname', 'Alison Waters'), ('cname', 'European Team Squash Championships 2017')]\n",
      "[('aname', 'Sarah-Jane Perry'), ('cname', 'European Team Squash Championships 2017')]\n",
      "[('aname', 'Nicol David'), ('cname', 'WSA World Series 2011')]\n",
      "[('aname', 'Nicol David'), ('cname', \"squash at the 2006 Asian Games – women's singles\")]\n",
      "[('aname', 'Nicol David'), ('cname', \"squash at the 2010 Asian Games – women's singles\")]\n",
      "[('aname', 'Nicol David'), ('cname', \"squash at the 1998 Asian Games – women's singles\")]\n",
      "[('aname', 'Camille Serme'), ('cname', \"2015 Women's British Open Squash Championship\")]\n",
      "[('aname', 'Nour El Sherbini'), ('cname', \"2016 Women's British Open Squash Championship\")]\n",
      "[('aname', 'Laura Massaro'), ('cname', \"2017 Women's British Open Squash Championship\")]\n",
      "[('aname', 'Natalie Grainger'), ('cname', 'Grasshopper Cup')]\n",
      "[('aname', 'Nouran Gohar'), ('cname', 'Cathay Pacific Sun Hung Kai Financial Hong Kong Open 2016')]\n",
      "[('aname', 'Camille Serme'), ('cname', \"Women's United States Open (squash) 2016\")]\n",
      "[('aname', 'Nour El Sherbini'), ('cname', \"Women's Hong Kong squash Open 2017\")]\n",
      "[('aname', 'Laura Massaro'), ('cname', \"Women's Qatar Classic 2015\")]\n",
      "[('aname', 'Laura Massaro'), ('cname', \"Women's China Squash Open 2016\")]\n",
      "[('aname', 'Nour El Sherbini'), ('cname', 'J.P. Morgan China Squash Open 2017')]\n",
      "[('aname', 'Raneem El Weleily'), ('cname', \"Women's China Squash Open 2018\")]\n",
      "[('aname', 'Alison Waters'), ('cname', 'Carol Weymuller Open 2014')]\n",
      "[('aname', 'Laura Massaro'), ('cname', 'Carol Weymuller Open 2012')]\n",
      "[('aname', 'Laura Massaro'), ('cname', \"Women's Windy City Open 2014\")]\n",
      "[('aname', 'Raneem El Weleily'), ('cname', \"Women's Windy City Open 2015\")]\n",
      "[('aname', 'Raneem El Weleily'), ('cname', \"Women's Windy City Open 2016\")]\n",
      "[('aname', 'Nour El Sherbini'), ('cname', 'Carol Weymuller Open 2015')]\n",
      "[('aname', 'Nour El Sherbini'), ('cname', 'Carol Weymuller Open 2016')]\n",
      "[('aname', 'Nour El Sherbini'), ('cname', 'Carol Weymuller Open 2017')]\n",
      "[('aname', 'Nour El Sherbini'), ('cname', \"2018 Women's British Open Squash Championship\")]\n",
      "[('aname', 'Nouran Gohar'), ('cname', \"2019 Women's British Open Squash Championship\")]\n",
      "[('aname', 'Camille Serme'), ('cname', \"Women's Open de France - Nantes 2019\")]\n",
      "[('aname', 'Amanda Sobhy'), ('cname', \"Women's Netsuite Open 2015\")]\n",
      "[('aname', 'Laura Massaro'), ('cname', 'Monte-Carlo Squash Classic 2018')]\n",
      "[('aname', 'Raneem El Weleily'), ('cname', 'DPD Open 2019')]\n",
      "[('aname', 'Nicol David'), ('cname', 'Cayman Islands Open 2009')]\n",
      "[('aname', 'Camille Serme'), ('cname', \"Women's Tournament of Champions 2020\")]\n",
      "[('aname', 'Nicol David'), ('cname', \"squash at the 2014 Commonwealth Games – women's singles\")]\n",
      "[('aname', 'Nicol David'), ('cname', 'WSA World Series 2014')]\n",
      "[('aname', 'Camille Serme'), ('cname', \"Women's Tournament of Champions 2017\")]\n",
      "[('aname', 'Raneem El Weleily'), ('cname', \"Women's Windy City Open 2017\")]\n",
      "[('aname', 'Alison Waters'), ('cname', 'British National Squash Championships')]\n",
      "[('aname', 'Sarah-Jane Perry'), ('cname', 'British National Squash Championships')]\n",
      "[('aname', 'Laura Massaro'), ('cname', 'British National Squash Championships')]\n",
      "[('aname', 'Camille Serme'), ('cname', \"2013 Women's European Individual Closed Championships\")]\n",
      "[('aname', 'Camille Serme'), ('cname', \"2014 Women's European Individual Closed Championships\")]\n"
     ]
    },
    {
     "data": {
      "text/plain": [
       "50"
      ]
     },
     "execution_count": 14,
     "metadata": {},
     "output_type": "execute_result"
    }
   ],
   "source": [
    "#ANSWER TO 1): BGP for winning (P2522 or P1346)\n",
    "queryString = \"\"\"\n",
    "SELECT DISTINCT ?a ?aname ?c ?cname\n",
    "WHERE {\n",
    "    ?a wdt:P106/wdt:P279 wd:Q2066131; #athlete\n",
    "       wdt:P2522|wdt:P1346 ?c. #winning\n",
    "       \n",
    "    #labels\n",
    "    ?a <http://schema.org/name> ?aname .\n",
    "    ?c <http://schema.org/name> ?cname .\n",
    "}\n",
    "LIMIT 50\n",
    "\"\"\"\n",
    "print(\"Results\")\n",
    "run_query(queryString)"
   ]
  },
  {
   "cell_type": "code",
   "execution_count": 15,
   "id": "3b59621d-1f71-4903-85a1-50a1840e0b02",
   "metadata": {},
   "outputs": [
    {
     "name": "stdout",
     "output_type": "stream",
     "text": [
      "Results\n",
      "[('a', 'http://www.wikidata.org/entity/Q50225176'), ('aname', 'Jesse Engelbrecht'), ('c', 'http://www.wikidata.org/entity/Q7120597'), ('cname', 'PSA World Tour 2012')]\n",
      "[('a', 'http://www.wikidata.org/entity/Q7088030'), ('aname', 'Olivia Blatchford'), ('c', 'http://www.wikidata.org/entity/Q2049076'), ('cname', '2011 Pan American Games')]\n",
      "[('a', 'http://www.wikidata.org/entity/Q592452'), ('aname', 'Miguel Ángel Rodríguez'), ('c', 'http://www.wikidata.org/entity/Q2049076'), ('cname', '2011 Pan American Games')]\n",
      "[('a', 'http://www.wikidata.org/entity/Q6165464'), ('aname', 'Javier Castilla'), ('c', 'http://www.wikidata.org/entity/Q2049076'), ('cname', '2011 Pan American Games')]\n",
      "[('a', 'http://www.wikidata.org/entity/Q2935075'), ('aname', 'Camille Serme'), ('c', 'http://www.wikidata.org/entity/Q3083264'), ('cname', 'World Games Wroclaw 2017')]\n",
      "[('a', 'http://www.wikidata.org/entity/Q119692'), ('aname', 'Simon Rösner'), ('c', 'http://www.wikidata.org/entity/Q3083264'), ('cname', 'World Games Wroclaw 2017')]\n",
      "[('a', 'http://www.wikidata.org/entity/Q1736561'), ('aname', 'Kati Kraaving'), ('c', 'http://www.wikidata.org/entity/Q27910970'), ('cname', \"1997 Baltic Badminton Championships – women's doubles\")]\n",
      "[('a', 'http://www.wikidata.org/entity/Q1736561'), ('aname', 'Kati Kraaving'), ('c', 'http://www.wikidata.org/entity/Q27910974'), ('cname', \"1998 Baltic Badminton Championships – women's singles\")]\n",
      "[('a', 'http://www.wikidata.org/entity/Q1736561'), ('aname', 'Kati Kraaving'), ('c', 'http://www.wikidata.org/entity/Q63435290'), ('cname', \"1996 Estonian Badminton Championships – women's doubles\")]\n",
      "[('a', 'http://www.wikidata.org/entity/Q1736561'), ('aname', 'Kati Kraaving'), ('c', 'http://www.wikidata.org/entity/Q63435293'), ('cname', \"1998 Estonian Badminton Championships – women's doubles\")]\n",
      "[('a', 'http://www.wikidata.org/entity/Q1736561'), ('aname', 'Kati Kraaving'), ('c', 'http://www.wikidata.org/entity/Q63435481'), ('cname', '2005 Estonian Badminton Championships – mixed doubles')]\n",
      "[('a', 'http://www.wikidata.org/entity/Q1736561'), ('aname', 'Kati Kraaving'), ('c', 'http://www.wikidata.org/entity/Q65502229'), ('cname', \"2001 Estonian International Badminton Championships – women's doubles\")]\n",
      "[('a', 'http://www.wikidata.org/entity/Q1736561'), ('aname', 'Kati Kraaving'), ('c', 'http://www.wikidata.org/entity/Q65502713'), ('cname', \"1995 Estonian Junior Badminton Championships – women's doubles\")]\n",
      "[('a', 'http://www.wikidata.org/entity/Q1736561'), ('aname', 'Kati Kraaving'), ('c', 'http://www.wikidata.org/entity/Q65502715'), ('cname', \"1996 Estonian Junior Badminton Championships – women's doubles\")]\n",
      "[('a', 'http://www.wikidata.org/entity/Q1736561'), ('aname', 'Kati Kraaving'), ('c', 'http://www.wikidata.org/entity/Q65502717'), ('cname', \"1997 Estonian Junior Badminton Championships – women's doubles\")]\n",
      "[('a', 'http://www.wikidata.org/entity/Q1736561'), ('aname', 'Kati Kraaving'), ('c', 'http://www.wikidata.org/entity/Q65502719'), ('cname', \"1998 Estonian Junior Badminton Championships – women's doubles\")]\n",
      "[('a', 'http://www.wikidata.org/entity/Q1736561'), ('aname', 'Kati Kraaving'), ('c', 'http://www.wikidata.org/entity/Q65502722'), ('cname', \"1999 Estonian Junior Badminton Championships – women's doubles\")]\n",
      "[('a', 'http://www.wikidata.org/entity/Q1736561'), ('aname', 'Kati Kraaving'), ('c', 'http://www.wikidata.org/entity/Q65502813'), ('cname', \"1999 Estonian Junior Badminton Championships – women's singles\")]\n",
      "[('a', 'http://www.wikidata.org/entity/Q282340'), ('aname', 'Cassie Jackman'), ('c', 'http://www.wikidata.org/entity/Q1116640'), ('cname', '2002 Commonwealth Games')]\n",
      "[('a', 'http://www.wikidata.org/entity/Q2278396'), ('aname', 'Paul Johnson'), ('c', 'http://www.wikidata.org/entity/Q1116640'), ('cname', '2002 Commonwealth Games')]\n",
      "[('a', 'http://www.wikidata.org/entity/Q1067663'), ('aname', 'Jonathon Power'), ('c', 'http://www.wikidata.org/entity/Q1116640'), ('cname', '2002 Commonwealth Games')]\n",
      "[('a', 'http://www.wikidata.org/entity/Q719333'), ('aname', 'Peter Nicol'), ('c', 'http://www.wikidata.org/entity/Q1116640'), ('cname', '2002 Commonwealth Games')]\n",
      "[('a', 'http://www.wikidata.org/entity/Q2476134'), ('aname', 'Sarah Fitz-Gerald'), ('c', 'http://www.wikidata.org/entity/Q1116640'), ('cname', '2002 Commonwealth Games')]\n",
      "[('a', 'http://www.wikidata.org/entity/Q766689'), ('aname', 'Ong Beng Hee'), ('c', 'http://www.wikidata.org/entity/Q1116640'), ('cname', '2002 Commonwealth Games')]\n",
      "[('a', 'http://www.wikidata.org/entity/Q2119904'), ('aname', 'Mark Chaloner'), ('c', 'http://www.wikidata.org/entity/Q1116640'), ('cname', '2002 Commonwealth Games')]\n",
      "[('a', 'http://www.wikidata.org/entity/Q2913292'), ('aname', 'Rachael Grinham'), ('c', 'http://www.wikidata.org/entity/Q1116640'), ('cname', '2002 Commonwealth Games')]\n",
      "[('a', 'http://www.wikidata.org/entity/Q3539430'), ('aname', 'Glen Wilson'), ('c', 'http://www.wikidata.org/entity/Q1116640'), ('cname', '2002 Commonwealth Games')]\n",
      "[('a', 'http://www.wikidata.org/entity/Q3562530'), ('aname', 'Leilani Rorani'), ('c', 'http://www.wikidata.org/entity/Q1116640'), ('cname', '2002 Commonwealth Games')]\n",
      "[('a', 'http://www.wikidata.org/entity/Q2920788'), ('aname', 'Chris Walker'), ('c', 'http://www.wikidata.org/entity/Q1116640'), ('cname', '2002 Commonwealth Games')]\n",
      "[('a', 'http://www.wikidata.org/entity/Q2939850'), ('aname', 'Carol Owens'), ('c', 'http://www.wikidata.org/entity/Q1116640'), ('cname', '2002 Commonwealth Games')]\n",
      "[('a', 'http://www.wikidata.org/entity/Q50225176'), ('aname', 'Jesse Engelbrecht'), ('c', 'http://www.wikidata.org/entity/Q1116640'), ('cname', '2002 Commonwealth Games')]\n",
      "[('a', 'http://www.wikidata.org/entity/Q55112428'), ('aname', 'Daniel Sharplin'), ('c', 'http://www.wikidata.org/entity/Q1116640'), ('cname', '2002 Commonwealth Games')]\n",
      "[('a', 'http://www.wikidata.org/entity/Q7353580'), ('aname', 'Robyn Cooper'), ('c', 'http://www.wikidata.org/entity/Q1116640'), ('cname', '2002 Commonwealth Games')]\n",
      "[('a', 'http://www.wikidata.org/entity/Q6551539'), ('aname', 'Linda Elriani'), ('c', 'http://www.wikidata.org/entity/Q1116640'), ('cname', '2002 Commonwealth Games')]\n",
      "[('a', 'http://www.wikidata.org/entity/Q79764619'), ('aname', 'Steve Richardson'), ('c', 'http://www.wikidata.org/entity/Q1116640'), ('cname', '2002 Commonwealth Games')]\n",
      "[('a', 'http://www.wikidata.org/entity/Q80008786'), ('aname', 'Nicholas Kyme'), ('c', 'http://www.wikidata.org/entity/Q1116640'), ('cname', '2002 Commonwealth Games')]\n",
      "[('a', 'http://www.wikidata.org/entity/Q106945074'), ('aname', 'Patrick Chifunda'), ('c', 'http://www.wikidata.org/entity/Q1116640'), ('cname', '2002 Commonwealth Games')]\n",
      "[('a', 'http://www.wikidata.org/entity/Q5451050'), ('aname', 'Fiona Geaves'), ('c', 'http://www.wikidata.org/entity/Q1116640'), ('cname', '2002 Commonwealth Games')]\n",
      "[('a', 'http://www.wikidata.org/entity/Q3956919'), ('aname', 'Tania Bailey'), ('c', 'http://www.wikidata.org/entity/Q1116640'), ('cname', '2002 Commonwealth Games')]\n",
      "[('a', 'http://www.wikidata.org/entity/Q18624411'), ('aname', 'Gavin Jones'), ('c', 'http://www.wikidata.org/entity/Q1116640'), ('cname', '2002 Commonwealth Games')]\n",
      "[('a', 'http://www.wikidata.org/entity/Q552646'), ('aname', 'Philippe Washer'), ('c', 'http://www.wikidata.org/entity/Q28739880'), ('cname', 'Eastern Mediterranean Championship Tennis')]\n",
      "[('a', 'http://www.wikidata.org/entity/Q638491'), ('aname', 'Susan Noel'), ('c', 'http://www.wikidata.org/entity/Q28739880'), ('cname', 'Eastern Mediterranean Championship Tennis')]\n",
      "[('a', 'http://www.wikidata.org/entity/Q6204985'), ('aname', 'Joan Curry'), ('c', 'http://www.wikidata.org/entity/Q28739880'), ('cname', 'Eastern Mediterranean Championship Tennis')]\n",
      "[('a', 'http://www.wikidata.org/entity/Q16236584'), ('aname', 'Abdulla Al-Tamimi'), ('c', 'http://www.wikidata.org/entity/Q495366'), ('cname', '2014 Asian Games')]\n",
      "[('a', 'http://www.wikidata.org/entity/Q16235917'), ('aname', 'Tsz Fung Yip'), ('c', 'http://www.wikidata.org/entity/Q495366'), ('cname', '2014 Asian Games')]\n",
      "[('a', 'http://www.wikidata.org/entity/Q766689'), ('aname', 'Ong Beng Hee'), ('c', 'http://www.wikidata.org/entity/Q495366'), ('cname', '2014 Asian Games')]\n",
      "[('a', 'http://www.wikidata.org/entity/Q4027091'), ('aname', 'Annie Au'), ('c', 'http://www.wikidata.org/entity/Q495366'), ('cname', '2014 Asian Games')]\n",
      "[('a', 'http://www.wikidata.org/entity/Q6692959'), ('aname', 'Low Wee Wern'), ('c', 'http://www.wikidata.org/entity/Q495366'), ('cname', '2014 Asian Games')]\n",
      "[('a', 'http://www.wikidata.org/entity/Q6289572'), ('aname', 'Joshna Chinappa'), ('c', 'http://www.wikidata.org/entity/Q495366'), ('cname', '2014 Asian Games')]\n",
      "[('a', 'http://www.wikidata.org/entity/Q2754583'), ('aname', 'Saurav Ghosal'), ('c', 'http://www.wikidata.org/entity/Q495366'), ('cname', '2014 Asian Games')]\n"
     ]
    },
    {
     "data": {
      "text/plain": [
       "50"
      ]
     },
     "execution_count": 15,
     "metadata": {},
     "output_type": "execute_result"
    }
   ],
   "source": [
    "#ANSWER TO 1): BGP for participating (P710 or P1344)\n",
    "queryString = \"\"\"\n",
    "SELECT DISTINCT ?a ?aname ?c ?cname\n",
    "WHERE {\n",
    "    ?a wdt:P106/wdt:P279 wd:Q2066131; #athlete\n",
    "       wdt:P710|wdt:P1344 ?c. #participate\n",
    "       \n",
    "    #labels\n",
    "    ?a <http://schema.org/name> ?aname .\n",
    "    ?c <http://schema.org/name> ?cname .\n",
    "}\n",
    "LIMIT 50\n",
    "\"\"\"\n",
    "print(\"Results\")\n",
    "run_query(queryString)"
   ]
  },
  {
   "cell_type": "code",
   "execution_count": 16,
   "id": "04cad9da-4ccd-4453-a20a-b9d2c7dc96bd",
   "metadata": {},
   "outputs": [
    {
     "name": "stdout",
     "output_type": "stream",
     "text": [
      "Results\n",
      "[('a', 'http://www.wikidata.org/entity/Q16014208'), ('aname', 'Jan Vrolijk'), ('c', 'http://www.wikidata.org/entity/Q8150'), ('cname', '1936 Summer Olympics')]\n",
      "[('a', 'http://www.wikidata.org/entity/Q665100'), ('aname', 'Frank Amyot'), ('c', 'http://www.wikidata.org/entity/Q8150'), ('cname', '1936 Summer Olympics')]\n",
      "[('a', 'http://www.wikidata.org/entity/Q3362309'), ('aname', 'Erik Bladström'), ('c', 'http://www.wikidata.org/entity/Q8150'), ('cname', '1936 Summer Olympics')]\n",
      "[('a', 'http://www.wikidata.org/entity/Q700944'), ('aname', 'Fritz Landertinger'), ('c', 'http://www.wikidata.org/entity/Q8150'), ('cname', '1936 Summer Olympics')]\n",
      "[('a', 'http://www.wikidata.org/entity/Q5126665'), ('aname', 'Clarence McNutt'), ('c', 'http://www.wikidata.org/entity/Q8150'), ('cname', '1936 Summer Olympics')]\n",
      "[('a', 'http://www.wikidata.org/entity/Q453677'), ('aname', 'Gregor Hradetzky'), ('c', 'http://www.wikidata.org/entity/Q8150'), ('cname', '1936 Summer Olympics')]\n",
      "[('a', 'http://www.wikidata.org/entity/Q5000316'), ('aname', 'Burr Folks'), ('c', 'http://www.wikidata.org/entity/Q8150'), ('cname', '1936 Summer Olympics')]\n",
      "[('a', 'http://www.wikidata.org/entity/Q6140531'), ('aname', \"James O'Rourke\"), ('c', 'http://www.wikidata.org/entity/Q8150'), ('cname', '1936 Summer Olympics')]\n",
      "[('a', 'http://www.wikidata.org/entity/Q6824191'), ('aname', 'Metod Gabršček'), ('c', 'http://www.wikidata.org/entity/Q8150'), ('cname', '1936 Summer Olympics')]\n",
      "[('a', 'http://www.wikidata.org/entity/Q6089265'), ('aname', 'István Kolnai'), ('c', 'http://www.wikidata.org/entity/Q8150'), ('cname', '1936 Summer Olympics')]\n",
      "[('a', 'http://www.wikidata.org/entity/Q7533095'), ('aname', 'Sixten Jansson'), ('c', 'http://www.wikidata.org/entity/Q8150'), ('cname', '1936 Summer Olympics')]\n",
      "[('a', 'http://www.wikidata.org/entity/Q6279757'), ('aname', 'Josef Dusil'), ('c', 'http://www.wikidata.org/entity/Q8150'), ('cname', '1936 Summer Olympics')]\n",
      "[('a', 'http://www.wikidata.org/entity/Q215377'), ('aname', 'Helmut Cämmerer'), ('c', 'http://www.wikidata.org/entity/Q8150'), ('cname', '1936 Summer Olympics')]\n",
      "[('a', 'http://www.wikidata.org/entity/Q1384122'), ('aname', 'Jan Brzák-Felix'), ('c', 'http://www.wikidata.org/entity/Q8150'), ('cname', '1936 Summer Olympics')]\n",
      "[('a', 'http://www.wikidata.org/entity/Q443556'), ('aname', 'Ludwig Landen'), ('c', 'http://www.wikidata.org/entity/Q8150'), ('cname', '1936 Summer Olympics')]\n",
      "[('a', 'http://www.wikidata.org/entity/Q95907'), ('aname', 'Ewald Tilker'), ('c', 'http://www.wikidata.org/entity/Q8150'), ('cname', '1936 Summer Olympics')]\n",
      "[('a', 'http://www.wikidata.org/entity/Q4916225'), ('aname', 'Birger Johansson'), ('c', 'http://www.wikidata.org/entity/Q8150'), ('cname', '1936 Summer Olympics')]\n",
      "[('a', 'http://www.wikidata.org/entity/Q563279'), ('aname', 'Alfons Dorfner'), ('c', 'http://www.wikidata.org/entity/Q8150'), ('cname', '1936 Summer Olympics')]\n",
      "[('a', 'http://www.wikidata.org/entity/Q16009662'), ('aname', 'Helge Nielsen'), ('c', 'http://www.wikidata.org/entity/Q8150'), ('cname', '1936 Summer Olympics')]\n",
      "[('a', 'http://www.wikidata.org/entity/Q5650819'), ('aname', 'Hans Wedemann'), ('c', 'http://www.wikidata.org/entity/Q8150'), ('cname', '1936 Summer Olympics')]\n",
      "[('a', 'http://www.wikidata.org/entity/Q6230247'), ('aname', 'John Dudderidge'), ('c', 'http://www.wikidata.org/entity/Q8150'), ('cname', '1936 Summer Olympics')]\n",
      "[('a', 'http://www.wikidata.org/entity/Q6245657'), ('aname', 'John Lysak'), ('c', 'http://www.wikidata.org/entity/Q8150'), ('cname', '1936 Summer Olympics')]\n",
      "[('a', 'http://www.wikidata.org/entity/Q6687738'), ('aname', 'Louis Maes'), ('c', 'http://www.wikidata.org/entity/Q8150'), ('cname', '1936 Summer Olympics')]\n",
      "[('a', 'http://www.wikidata.org/entity/Q7313742'), ('aname', 'René Lacelle'), ('c', 'http://www.wikidata.org/entity/Q8150'), ('cname', '1936 Summer Olympics')]\n",
      "[('a', 'http://www.wikidata.org/entity/Q7800503'), ('aname', 'Tibor Poór'), ('c', 'http://www.wikidata.org/entity/Q8150'), ('cname', '1936 Summer Olympics')]\n",
      "[('a', 'http://www.wikidata.org/entity/Q7983526'), ('aname', 'Werner Zimmermann'), ('c', 'http://www.wikidata.org/entity/Q8150'), ('cname', '1936 Summer Olympics')]\n",
      "[('a', 'http://www.wikidata.org/entity/Q1994747'), ('aname', 'Kees Wijdekop'), ('c', 'http://www.wikidata.org/entity/Q8150'), ('cname', '1936 Summer Olympics')]\n",
      "[('a', 'http://www.wikidata.org/entity/Q2022104'), ('aname', 'Piet Wijdekop'), ('c', 'http://www.wikidata.org/entity/Q8150'), ('cname', '1936 Summer Olympics')]\n",
      "[('a', 'http://www.wikidata.org/entity/Q2910431'), ('aname', 'Nicolaas Tates'), ('c', 'http://www.wikidata.org/entity/Q8150'), ('cname', '1936 Summer Olympics')]\n",
      "[('a', 'http://www.wikidata.org/entity/Q1605948'), ('aname', 'Hettie Dyhrenfurth'), ('c', 'http://www.wikidata.org/entity/Q8150'), ('cname', '1936 Summer Olympics')]\n"
     ]
    },
    {
     "data": {
      "text/plain": [
       "30"
      ]
     },
     "execution_count": 16,
     "metadata": {},
     "output_type": "execute_result"
    }
   ],
   "source": [
    "#Q13\n",
    "#participating (P710 or P1344 ) limited to Olympic Games\n",
    "queryString = \"\"\"\n",
    "SELECT DISTINCT ?a ?aname ?c ?cname\n",
    "WHERE {\n",
    "    ?a wdt:P106/wdt:P279 wd:Q2066131; #athlete\n",
    "       wdt:P710|wdt:P1344 ?c. #participate\n",
    "    ?c wdt:P31 wd:Q159821. #olympic games\n",
    "       \n",
    "    #labels\n",
    "    ?a <http://schema.org/name> ?aname .\n",
    "    ?c <http://schema.org/name> ?cname .\n",
    "}\n",
    "LIMIT 30\n",
    "\"\"\"\n",
    "print(\"Results\")\n",
    "run_query(queryString)"
   ]
  },
  {
   "cell_type": "markdown",
   "id": "bfe4724a-bc48-402c-988d-87ed8943748d",
   "metadata": {},
   "source": [
    "<h3> TASK 2 STARTS HERE </h3>\n",
    "Identify the BGP for different sports or types of competitions."
   ]
  },
  {
   "cell_type": "markdown",
   "id": "c9c80bfe-2abf-49d3-aeb8-f027463ee482",
   "metadata": {},
   "source": [
    "Using the result from task 1, i.e. the BGP for participating in Olympics, I am trying to find something related to sports or types of competitions.\n",
    "Retrieve some instances of Olympics."
   ]
  },
  {
   "cell_type": "code",
   "execution_count": 4,
   "id": "3d3ac88f-ae01-4899-9497-19e231ada59a",
   "metadata": {},
   "outputs": [
    {
     "name": "stdout",
     "output_type": "stream",
     "text": [
      "Results\n",
      "[('c', 'http://www.wikidata.org/entity/Q8150'), ('cname', '1936 Summer Olympics')]\n",
      "[('c', 'http://www.wikidata.org/entity/Q8098'), ('cname', '1904 Summer Olympics')]\n",
      "[('c', 'http://www.wikidata.org/entity/Q8415'), ('cname', '1960 Summer Olympics')]\n",
      "[('c', 'http://www.wikidata.org/entity/Q8438'), ('cname', '1972 Summer Olympics')]\n",
      "[('c', 'http://www.wikidata.org/entity/Q181278'), ('cname', '2020 Summer Olympics')]\n",
      "[('c', 'http://www.wikidata.org/entity/Q8088'), ('cname', '1900 Summer Olympics')]\n",
      "[('c', 'http://www.wikidata.org/entity/Q8444'), ('cname', '1976 Summer Olympics')]\n",
      "[('c', 'http://www.wikidata.org/entity/Q8470'), ('cname', '1988 Summer Olympics')]\n",
      "[('c', 'http://www.wikidata.org/entity/Q8488'), ('cname', '1992 Summer Olympics')]\n",
      "[('c', 'http://www.wikidata.org/entity/Q8531'), ('cname', '1996 Summer Olympics')]\n",
      "[('c', 'http://www.wikidata.org/entity/Q8544'), ('cname', '2000 Summer Olympics')]\n",
      "[('c', 'http://www.wikidata.org/entity/Q8558'), ('cname', '2004 Summer Olympics')]\n",
      "[('c', 'http://www.wikidata.org/entity/Q8567'), ('cname', '2008 Summer Olympics')]\n",
      "[('c', 'http://www.wikidata.org/entity/Q8577'), ('cname', '2012 Summer Olympics')]\n",
      "[('c', 'http://www.wikidata.org/entity/Q8613'), ('cname', '2016 Summer Olympics')]\n",
      "[('c', 'http://www.wikidata.org/entity/Q8128'), ('cname', '1920 Summer Olympics')]\n",
      "[('c', 'http://www.wikidata.org/entity/Q8132'), ('cname', '1924 Summer Olympics')]\n",
      "[('c', 'http://www.wikidata.org/entity/Q8138'), ('cname', '1928 Summer Olympics')]\n",
      "[('c', 'http://www.wikidata.org/entity/Q8143'), ('cname', '1932 Summer Olympics')]\n",
      "[('c', 'http://www.wikidata.org/entity/Q8420'), ('cname', '1964 Summer Olympics')]\n",
      "[('c', 'http://www.wikidata.org/entity/Q8429'), ('cname', '1968 Summer Olympics')]\n",
      "[('c', 'http://www.wikidata.org/entity/Q8111'), ('cname', '1908 Summer Olympics')]\n",
      "[('c', 'http://www.wikidata.org/entity/Q8118'), ('cname', '1912 Summer Olympics')]\n",
      "[('c', 'http://www.wikidata.org/entity/Q8407'), ('cname', '1952 Summer Olympics')]\n",
      "[('c', 'http://www.wikidata.org/entity/Q8411'), ('cname', '1956 Summer Olympics')]\n",
      "[('c', 'http://www.wikidata.org/entity/Q8450'), ('cname', '1980 Summer Olympics')]\n",
      "[('c', 'http://www.wikidata.org/entity/Q8456'), ('cname', '1984 Summer Olympics')]\n",
      "[('c', 'http://www.wikidata.org/entity/Q8403'), ('cname', '1948 Summer Olympics')]\n",
      "[('c', 'http://www.wikidata.org/entity/Q8080'), ('cname', '1896 Summer Olympics')]\n",
      "[('c', 'http://www.wikidata.org/entity/Q8105'), ('cname', '1906 Intercalated Games')]\n"
     ]
    },
    {
     "data": {
      "text/plain": [
       "30"
      ]
     },
     "execution_count": 4,
     "metadata": {},
     "output_type": "execute_result"
    }
   ],
   "source": [
    "#Q13\n",
    "#check  relationship with participate in olympic games\n",
    "queryString = \"\"\"\n",
    "SELECT DISTINCT ?c ?cname\n",
    "WHERE {\n",
    "    ?a wdt:P106/wdt:P279 wd:Q2066131; #athlete\n",
    "       wdt:P710|wdt:P1344 ?c. #participate\n",
    "    ?c wdt:P31 wd:Q159821. #olympic games\n",
    "    \n",
    "    #labels\n",
    "    ?c <http://schema.org/name> ?cname .\n",
    "}\n",
    "LIMIT 30\n",
    "\"\"\"\n",
    "print(\"Results\")\n",
    "run_query(queryString)"
   ]
  },
  {
   "cell_type": "code",
   "execution_count": 3,
   "id": "23205334-e914-47d8-8457-c3dcd9b55541",
   "metadata": {},
   "outputs": [
    {
     "name": "stdout",
     "output_type": "stream",
     "text": [
      "Results\n",
      "[('c', 'http://www.wikidata.org/entity/Q8567'), ('cname', '2008 Summer Olympics')]\n",
      "[('c', 'http://www.wikidata.org/entity/Q181278'), ('cname', '2020 Summer Olympics')]\n",
      "[('c', 'http://www.wikidata.org/entity/Q8438'), ('cname', '1972 Summer Olympics')]\n"
     ]
    },
    {
     "data": {
      "text/plain": [
       "3"
      ]
     },
     "execution_count": 3,
     "metadata": {},
     "output_type": "execute_result"
    }
   ],
   "source": [
    "#Q14\n",
    "#same as above but using winning properties to connect to olympic games\n",
    "queryString = \"\"\"\n",
    "SELECT DISTINCT ?c ?cname\n",
    "WHERE {\n",
    "    ?a wdt:P106/wdt:P279 wd:Q2066131; #athlete\n",
    "       wdt:P2522|wdt:P1346 ?c. #winning\n",
    "    ?c wdt:P31 wd:Q159821. #olympic games\n",
    "       \n",
    "    #labels\n",
    "    ?c <http://schema.org/name> ?cname .\n",
    "}\n",
    "LIMIT 50\n",
    "\"\"\"\n",
    "print(\"Results\")\n",
    "run_query(queryString)"
   ]
  },
  {
   "cell_type": "code",
   "execution_count": 5,
   "id": "16956d8f-f394-4d45-89d7-4dd16ae50a2f",
   "metadata": {},
   "outputs": [
    {
     "name": "stdout",
     "output_type": "stream",
     "text": [
      "Results\n",
      "[('c', 'http://www.wikidata.org/entity/Q8150'), ('cname', '1936 Summer Olympics')]\n",
      "[('c', 'http://www.wikidata.org/entity/Q8415'), ('cname', '1960 Summer Olympics')]\n",
      "[('c', 'http://www.wikidata.org/entity/Q8438'), ('cname', '1972 Summer Olympics')]\n",
      "[('c', 'http://www.wikidata.org/entity/Q8444'), ('cname', '1976 Summer Olympics')]\n",
      "[('c', 'http://www.wikidata.org/entity/Q8470'), ('cname', '1988 Summer Olympics')]\n",
      "[('c', 'http://www.wikidata.org/entity/Q8488'), ('cname', '1992 Summer Olympics')]\n",
      "[('c', 'http://www.wikidata.org/entity/Q8531'), ('cname', '1996 Summer Olympics')]\n",
      "[('c', 'http://www.wikidata.org/entity/Q8544'), ('cname', '2000 Summer Olympics')]\n",
      "[('c', 'http://www.wikidata.org/entity/Q8558'), ('cname', '2004 Summer Olympics')]\n",
      "[('c', 'http://www.wikidata.org/entity/Q8567'), ('cname', '2008 Summer Olympics')]\n",
      "[('c', 'http://www.wikidata.org/entity/Q8577'), ('cname', '2012 Summer Olympics')]\n",
      "[('c', 'http://www.wikidata.org/entity/Q8613'), ('cname', '2016 Summer Olympics')]\n",
      "[('c', 'http://www.wikidata.org/entity/Q8132'), ('cname', '1924 Summer Olympics')]\n",
      "[('c', 'http://www.wikidata.org/entity/Q8420'), ('cname', '1964 Summer Olympics')]\n",
      "[('c', 'http://www.wikidata.org/entity/Q8411'), ('cname', '1956 Summer Olympics')]\n",
      "[('c', 'http://www.wikidata.org/entity/Q8456'), ('cname', '1984 Summer Olympics')]\n"
     ]
    },
    {
     "data": {
      "text/plain": [
       "16"
      ]
     },
     "execution_count": 5,
     "metadata": {},
     "output_type": "execute_result"
    }
   ],
   "source": [
    "#Q14\n",
    "#change athlete to swimmer to find references to different type/sports \n",
    "queryString = \"\"\"\n",
    "SELECT DISTINCT ?c ?cname\n",
    "WHERE {\n",
    "    ?a wdt:P106/wdt:P279 wd:Q10843402; #swimmer\n",
    "       wdt:P710|wdt:P1344 ?c. #participation\n",
    "    ?c wdt:P31 wd:Q159821. #olympic games\n",
    "       \n",
    "    #labels\n",
    "    ?c <http://schema.org/name> ?cname .\n",
    "}\n",
    "LIMIT 50\n",
    "\"\"\"\n",
    "print(\"Results\")\n",
    "run_query(queryString)"
   ]
  },
  {
   "cell_type": "code",
   "execution_count": 6,
   "id": "9081dde1-9946-4259-a383-f8ce52a6a4c0",
   "metadata": {},
   "outputs": [
    {
     "name": "stdout",
     "output_type": "stream",
     "text": [
      "Results\n",
      "[('c', 'http://www.wikidata.org/entity/Q1978175'), ('cname', '21st Congress of the Communist Party of the Soviet Union')]\n",
      "[('c', 'http://www.wikidata.org/entity/Q8150'), ('cname', '1936 Summer Olympics')]\n",
      "[('c', 'http://www.wikidata.org/entity/Q8415'), ('cname', '1960 Summer Olympics')]\n",
      "[('c', 'http://www.wikidata.org/entity/Q8438'), ('cname', '1972 Summer Olympics')]\n",
      "[('c', 'http://www.wikidata.org/entity/Q8444'), ('cname', '1976 Summer Olympics')]\n",
      "[('c', 'http://www.wikidata.org/entity/Q8488'), ('cname', '1992 Summer Olympics')]\n",
      "[('c', 'http://www.wikidata.org/entity/Q8531'), ('cname', '1996 Summer Olympics')]\n",
      "[('c', 'http://www.wikidata.org/entity/Q8544'), ('cname', '2000 Summer Olympics')]\n",
      "[('c', 'http://www.wikidata.org/entity/Q8558'), ('cname', '2004 Summer Olympics')]\n",
      "[('c', 'http://www.wikidata.org/entity/Q8132'), ('cname', '1924 Summer Olympics')]\n",
      "[('c', 'http://www.wikidata.org/entity/Q8420'), ('cname', '1964 Summer Olympics')]\n",
      "[('c', 'http://www.wikidata.org/entity/Q919088'), ('cname', '1974 British Commonwealth Games')]\n",
      "[('c', 'http://www.wikidata.org/entity/Q659207'), ('cname', '2006 Commonwealth Games')]\n",
      "[('c', 'http://www.wikidata.org/entity/Q8411'), ('cname', '1956 Summer Olympics')]\n",
      "[('c', 'http://www.wikidata.org/entity/Q2373347'), ('cname', '22nd Congress of the Communist Party of the Soviet Union')]\n",
      "[('c', 'http://www.wikidata.org/entity/Q103909908'), ('cname', 'Ra expedition')]\n",
      "[('c', 'http://www.wikidata.org/entity/Q103909910'), ('cname', 'Ra II expedition')]\n",
      "[('c', 'http://www.wikidata.org/entity/Q1980657'), ('cname', '25th Congress of the Communist Party of the Soviet Union')]\n",
      "[('c', 'http://www.wikidata.org/entity/Q1315733'), ('cname', 'World Games 1981')]\n",
      "[('c', 'http://www.wikidata.org/entity/Q1186538'), ('cname', 'World Games 1985')]\n",
      "[('c', 'http://www.wikidata.org/entity/Q1042446'), ('cname', \"synchronized swimming at the 2008 Summer Olympics – women's team\")]\n",
      "[('c', 'http://www.wikidata.org/entity/Q11896072'), ('cname', 'synchronized swimming at the 2016 Summer Olympics')]\n",
      "[('c', 'http://www.wikidata.org/entity/Q1754221'), ('cname', \"synchronized swimming at the 2012 Summer Olympics – women's duet\")]\n",
      "[('c', 'http://www.wikidata.org/entity/Q1823432'), ('cname', \"synchronized swimming at the 2012 Summer Olympics – women's team\")]\n",
      "[('c', 'http://www.wikidata.org/entity/Q26256610'), ('cname', \"synchronized swimming at the 2016 Summer Olympics – women's duet\")]\n",
      "[('c', 'http://www.wikidata.org/entity/Q26256651'), ('cname', \"synchronized swimming at the 2016 Summer Olympics – women's team\")]\n",
      "[('c', 'http://www.wikidata.org/entity/Q72976086'), ('cname', \"artistic swimming at the 2020 Summer Olympics – women's duet\")]\n",
      "[('c', 'http://www.wikidata.org/entity/Q72976097'), ('cname', \"artistic swimming at the 2020 Summer Olympics – women's team\")]\n",
      "[('c', 'http://www.wikidata.org/entity/Q495366'), ('cname', '2014 Asian Games')]\n",
      "[('c', 'http://www.wikidata.org/entity/Q8470'), ('cname', '1988 Summer Olympics')]\n",
      "[('c', 'http://www.wikidata.org/entity/Q8567'), ('cname', '2008 Summer Olympics')]\n",
      "[('c', 'http://www.wikidata.org/entity/Q8577'), ('cname', '2012 Summer Olympics')]\n",
      "[('c', 'http://www.wikidata.org/entity/Q8613'), ('cname', '2016 Summer Olympics')]\n",
      "[('c', 'http://www.wikidata.org/entity/Q244322'), ('cname', '2010 Asian Games')]\n",
      "[('c', 'http://www.wikidata.org/entity/Q494906'), ('cname', '2002 Asian Games')]\n",
      "[('c', 'http://www.wikidata.org/entity/Q729664'), ('cname', '1998 Asian Games')]\n",
      "[('c', 'http://www.wikidata.org/entity/Q329679'), ('cname', '2006 Asian Games')]\n",
      "[('c', 'http://www.wikidata.org/entity/Q729592'), ('cname', '1994 Asian Games')]\n",
      "[('c', 'http://www.wikidata.org/entity/Q8456'), ('cname', '1984 Summer Olympics')]\n",
      "[('c', 'http://www.wikidata.org/entity/Q106811199'), ('cname', 'artistic swimming at the 2020 European Aquatics Championships – solo free routine')]\n",
      "[('c', 'http://www.wikidata.org/entity/Q56283810'), ('cname', \"artistic swimming at the 2018 Asian Games – women's team\")]\n",
      "[('c', 'http://www.wikidata.org/entity/Q56283807'), ('cname', \"artistic swimming at the 2018 Asian Games – women's duet\")]\n",
      "[('c', 'http://www.wikidata.org/entity/Q65521296'), ('cname', 'artistic swimming at the 2019 World Aquatics Championships – duet technical routine')]\n",
      "[('c', 'http://www.wikidata.org/entity/Q65521299'), ('cname', 'artistic swimming at the 2019 World Aquatics Championships – solo technical routine')]\n",
      "[('c', 'http://www.wikidata.org/entity/Q65557995'), ('cname', 'artistic swimming at the 2019 World Aquatics Championships – solo free routine')]\n",
      "[('c', 'http://www.wikidata.org/entity/Q7662173'), ('cname', \"synchronized swimming at the 2000 Summer Olympics – women's duet\")]\n",
      "[('c', 'http://www.wikidata.org/entity/Q4630365'), ('cname', '2019 Pan American Games')]\n",
      "[('c', 'http://www.wikidata.org/entity/Q1185431'), ('cname', '2015 Pan American Games')]\n",
      "[('c', 'http://www.wikidata.org/entity/Q389836'), ('cname', 'synchronized swimming at the 2004 Summer Olympics')]\n",
      "[('c', 'http://www.wikidata.org/entity/Q18085498'), ('cname', 'Mexico at the 2016 Summer Olympics')]\n"
     ]
    },
    {
     "data": {
      "text/plain": [
       "50"
      ]
     },
     "execution_count": 6,
     "metadata": {},
     "output_type": "execute_result"
    }
   ],
   "source": [
    "#Q15\n",
    "#same as above but without connection to olympic games\n",
    "queryString = \"\"\"\n",
    "SELECT DISTINCT ?c ?cname\n",
    "WHERE {\n",
    "    ?a wdt:P106/wdt:P279 wd:Q10843402; #swimmer\n",
    "       wdt:P710|wdt:P1344 ?c. #participation\n",
    "       \n",
    "    #labels\n",
    "    ?c <http://schema.org/name> ?cname .\n",
    "}\n",
    "LIMIT 50\n",
    "\"\"\"\n",
    "print(\"Results\")\n",
    "run_query(queryString)"
   ]
  },
  {
   "cell_type": "markdown",
   "id": "2ea5e9c3-3832-434b-aa8d-301c841d8595",
   "metadata": {},
   "source": [
    "Retrieve some predicates and objects of 2000 Olympics."
   ]
  },
  {
   "cell_type": "code",
   "execution_count": 10,
   "id": "2b8603a9-ac08-42f6-9b61-8f78e169686b",
   "metadata": {},
   "outputs": [
    {
     "name": "stdout",
     "output_type": "stream",
     "text": [
      "Results\n",
      "[('p', 'http://www.wikidata.org/prop/direct/P527'), ('pname', 'has part'), ('o', 'http://www.wikidata.org/entity/Q513725'), ('oname', 'synchronized swimming at the 2000 Summer Olympics')]\n",
      "[('p', 'http://www.wikidata.org/prop/direct/P527'), ('pname', 'has part'), ('o', 'http://www.wikidata.org/entity/Q579844'), ('oname', 'fencing at the 2000 Summer Olympics')]\n",
      "[('p', 'http://www.wikidata.org/prop/direct/P527'), ('pname', 'has part'), ('o', 'http://www.wikidata.org/entity/Q847738'), ('oname', 'cycling at the 2000 Summer Olympics')]\n",
      "[('p', 'http://www.wikidata.org/prop/direct/P527'), ('pname', 'has part'), ('o', 'http://www.wikidata.org/entity/Q679703'), ('oname', 'judo at the 2000 Summer Olympics')]\n",
      "[('p', 'http://www.wikidata.org/prop/direct/P31'), ('pname', 'instance of'), ('o', 'http://www.wikidata.org/entity/Q159821'), ('oname', 'Summer Olympic Games')]\n",
      "[('p', 'http://www.wikidata.org/prop/direct/P2670'), ('pname', 'has parts of the class'), ('o', 'http://www.wikidata.org/entity/Q18536594'), ('oname', 'Olympic sporting event')]\n",
      "[('p', 'http://www.wikidata.org/prop/direct/P17'), ('pname', 'country'), ('o', 'http://www.wikidata.org/entity/Q408'), ('oname', 'Australia')]\n",
      "[('p', 'http://www.wikidata.org/prop/direct/P155'), ('pname', 'follows'), ('o', 'http://www.wikidata.org/entity/Q8531'), ('oname', '1996 Summer Olympics')]\n",
      "[('p', 'http://www.wikidata.org/prop/direct/P156'), ('pname', 'followed by'), ('o', 'http://www.wikidata.org/entity/Q8558'), ('oname', '2004 Summer Olympics')]\n",
      "[('p', 'http://www.wikidata.org/prop/direct/P527'), ('pname', 'has part'), ('o', 'http://www.wikidata.org/entity/Q754594'), ('oname', 'wrestling at the 2000 Summer Olympics')]\n",
      "[('p', 'http://www.wikidata.org/prop/direct/P527'), ('pname', 'has part'), ('o', 'http://www.wikidata.org/entity/Q843711'), ('oname', 'equestrian at the 2000 Summer Olympics')]\n",
      "[('p', 'http://www.wikidata.org/prop/direct/P527'), ('pname', 'has part'), ('o', 'http://www.wikidata.org/entity/Q855408'), ('oname', 'canoeing at the 2000 Summer Olympics')]\n",
      "[('p', 'http://www.wikidata.org/prop/direct/P527'), ('pname', 'has part'), ('o', 'http://www.wikidata.org/entity/Q570002'), ('oname', 'table tennis at the 2000 Summer Olympics')]\n",
      "[('p', 'http://www.wikidata.org/prop/direct/P527'), ('pname', 'has part'), ('o', 'http://www.wikidata.org/entity/Q843708'), ('oname', 'shooting at the 2000 Summer Olympics')]\n",
      "[('p', 'http://www.wikidata.org/prop/direct/P527'), ('pname', 'has part'), ('o', 'http://www.wikidata.org/entity/Q661494'), ('oname', 'tennis at the 2000 Summer Olympics')]\n",
      "[('p', 'http://www.wikidata.org/prop/direct/P527'), ('pname', 'has part'), ('o', 'http://www.wikidata.org/entity/Q639125'), ('oname', 'water polo at the 2000 Summer Olympics')]\n",
      "[('p', 'http://www.wikidata.org/prop/direct/P527'), ('pname', 'has part'), ('o', 'http://www.wikidata.org/entity/Q426993'), ('oname', 'basketball at the 2000 Summer Olympics')]\n",
      "[('p', 'http://www.wikidata.org/prop/direct/P527'), ('pname', 'has part'), ('o', 'http://www.wikidata.org/entity/Q517784'), ('oname', 'swimming at the 2000 Summer Olympics')]\n",
      "[('p', 'http://www.wikidata.org/prop/direct/P527'), ('pname', 'has part'), ('o', 'http://www.wikidata.org/entity/Q249809'), ('oname', 'athletics at the 2000 Summer Olympics')]\n",
      "[('p', 'http://www.wikidata.org/prop/direct/P115'), ('pname', 'home venue'), ('o', 'http://www.wikidata.org/entity/Q295886'), ('oname', 'Stadium Australia')]\n",
      "[('p', 'http://www.wikidata.org/prop/direct/P276'), ('pname', 'location'), ('o', 'http://www.wikidata.org/entity/Q295886'), ('oname', 'Stadium Australia')]\n",
      "[('p', 'http://www.wikidata.org/prop/direct/P542'), ('pname', 'officially opened by'), ('o', 'http://www.wikidata.org/entity/Q267745'), ('oname', 'William Deane')]\n",
      "[('p', 'http://www.wikidata.org/prop/direct/P545'), ('pname', 'torch lit by'), ('o', 'http://www.wikidata.org/entity/Q234762'), ('oname', 'Cathy Freeman')]\n",
      "[('p', 'http://www.wikidata.org/prop/direct/P527'), ('pname', 'has part'), ('o', 'http://www.wikidata.org/entity/Q573649'), ('oname', 'rowing at the 2000 Summer Olympics')]\n",
      "[('p', 'http://www.wikidata.org/prop/direct/P527'), ('pname', 'has part'), ('o', 'http://www.wikidata.org/entity/Q579853'), ('oname', 'sailing at the 2000 Summer Olympics')]\n",
      "[('p', 'http://www.wikidata.org/prop/direct/P527'), ('pname', 'has part'), ('o', 'http://www.wikidata.org/entity/Q602592'), ('oname', 'weightlifting at the 2000 Summer Olympics')]\n",
      "[('p', 'http://www.wikidata.org/prop/direct/P527'), ('pname', 'has part'), ('o', 'http://www.wikidata.org/entity/Q843715'), ('oname', 'gymnastics at the 2000 Summer Olympics')]\n",
      "[('p', 'http://www.wikidata.org/prop/direct/P527'), ('pname', 'has part'), ('o', 'http://www.wikidata.org/entity/Q355637'), ('oname', 'artistic gymnastics at the 2000 Summer Olympics')]\n",
      "[('p', 'http://www.wikidata.org/prop/direct/P527'), ('pname', 'has part'), ('o', 'http://www.wikidata.org/entity/Q638193'), ('oname', 'volleyball at the 2000 Summer Olympics')]\n",
      "[('p', 'http://www.wikidata.org/prop/direct/P527'), ('pname', 'has part'), ('o', 'http://www.wikidata.org/entity/Q696263'), ('oname', 'taekwondo at the 2000 Summer Olympics')]\n",
      "[('p', 'http://www.wikidata.org/prop/direct/P527'), ('pname', 'has part'), ('o', 'http://www.wikidata.org/entity/Q545237'), ('oname', 'modern pentathlon at the 2000 Summer Olympics')]\n",
      "[('p', 'http://www.wikidata.org/prop/direct/P527'), ('pname', 'has part'), ('o', 'http://www.wikidata.org/entity/Q575661'), ('oname', 'archery at the 2000 Summer Olympics')]\n",
      "[('p', 'http://www.wikidata.org/prop/direct/P527'), ('pname', 'has part'), ('o', 'http://www.wikidata.org/entity/Q838632'), ('oname', 'field hockey at the 2000 Summer Olympics')]\n",
      "[('p', 'http://www.wikidata.org/prop/direct/P527'), ('pname', 'has part'), ('o', 'http://www.wikidata.org/entity/Q542212'), ('oname', 'badminton at the 2000 Summer Olympics')]\n",
      "[('p', 'http://www.wikidata.org/prop/direct/P543'), ('pname', 'oath made by'), ('o', 'http://www.wikidata.org/entity/Q272139'), ('oname', 'Rechelle Hawkes')]\n",
      "[('p', 'http://www.wikidata.org/prop/direct/P527'), ('pname', 'has part'), ('o', 'http://www.wikidata.org/entity/Q753553'), ('oname', 'beach volleyball at the 2000 Summer Olympics')]\n",
      "[('p', 'http://www.wikidata.org/prop/direct/P910'), ('pname', \"topic's main category\"), ('o', 'http://www.wikidata.org/entity/Q8182345'), ('oname', 'Category:2000 Summer Olympics')]\n",
      "[('p', 'http://www.wikidata.org/prop/direct/P822'), ('pname', 'mascot'), ('o', 'http://www.wikidata.org/entity/Q10340744'), ('oname', 'Olly, Sid and Millie')]\n",
      "[('p', 'http://www.wikidata.org/prop/direct/P527'), ('pname', 'has part'), ('o', 'http://www.wikidata.org/entity/Q752067'), ('oname', 'handball at the 2000 Summer Olympics')]\n",
      "[('p', 'http://www.wikidata.org/prop/direct/P527'), ('pname', 'has part'), ('o', 'http://www.wikidata.org/entity/Q843647'), ('oname', 'diving at the 2000 Summer Olympics')]\n",
      "[('p', 'http://www.wikidata.org/prop/direct/P527'), ('pname', 'has part'), ('o', 'http://www.wikidata.org/entity/Q843741'), ('oname', 'softball at the 2000 Summer Olympics')]\n",
      "[('p', 'http://www.wikidata.org/prop/direct/P527'), ('pname', 'has part'), ('o', 'http://www.wikidata.org/entity/Q843691'), ('oname', 'boxing at the 2000 Summer Olympics')]\n",
      "[('p', 'http://www.wikidata.org/prop/direct/P527'), ('pname', 'has part'), ('o', 'http://www.wikidata.org/entity/Q754589'), ('oname', 'football at the 2000 Summer Olympics')]\n",
      "[('p', 'http://www.wikidata.org/prop/direct/P527'), ('pname', 'has part'), ('o', 'http://www.wikidata.org/entity/Q791188'), ('oname', 'baseball at the 2000 Summer Olympics')]\n",
      "[('p', 'http://www.wikidata.org/prop/direct/P527'), ('pname', 'has part'), ('o', 'http://www.wikidata.org/entity/Q354094'), ('oname', 'trampoline gymnastics at the 2000 Summer Olympics')]\n",
      "[('p', 'http://www.wikidata.org/prop/direct/P527'), ('pname', 'has part'), ('o', 'http://www.wikidata.org/entity/Q354098'), ('oname', 'rhythmic gymnastics at the 2000 Summer Olympics')]\n",
      "[('p', 'http://www.wikidata.org/prop/direct/P527'), ('pname', 'has part'), ('o', 'http://www.wikidata.org/entity/Q16972643'), ('oname', 'wheelchair racing at the 2000 Summer Olympics')]\n",
      "[('p', 'http://www.wikidata.org/prop/direct/P527'), ('pname', 'has part'), ('o', 'http://www.wikidata.org/entity/Q665686'), ('oname', 'triathlon at the 2000 Summer Olympics')]\n",
      "[('p', 'http://www.wikidata.org/prop/direct/P543'), ('pname', 'oath made by'), ('o', 'http://www.wikidata.org/entity/Q7175176'), ('oname', 'Peter Kerr')]\n",
      "[('p', 'http://www.wikidata.org/prop/direct/P822'), ('pname', 'mascot'), ('o', 'http://www.wikidata.org/entity/Q5437962'), ('oname', 'Fatso the Fat-Arsed Wombat')]\n"
     ]
    },
    {
     "data": {
      "text/plain": [
       "50"
      ]
     },
     "execution_count": 10,
     "metadata": {},
     "output_type": "execute_result"
    }
   ],
   "source": [
    "#Q16\n",
    "#closer look to Q8544 found above\n",
    "queryString = \"\"\"\n",
    "SELECT DISTINCT ?p ?pname ?o ?oname\n",
    "WHERE {\n",
    "    \n",
    "    wd:Q8544 ?p ?o .#2000 olympics\n",
    "    \n",
    "    #labels\n",
    "    ?p <http://schema.org/name> ?pname .\n",
    "    ?o <http://schema.org/name> ?oname .\n",
    "}\n",
    "LIMIT 50\n",
    "\"\"\"\n",
    "print(\"Results\")\n",
    "run_query(queryString)"
   ]
  },
  {
   "cell_type": "markdown",
   "id": "1b4d3684-3d34-46c6-893e-64f25b1d30f6",
   "metadata": {},
   "source": [
    "Try to retrieve some olympic competitions using P527."
   ]
  },
  {
   "cell_type": "code",
   "execution_count": 11,
   "id": "efea60ef-0a59-4c99-80be-fe9d31661a0d",
   "metadata": {},
   "outputs": [
    {
     "name": "stdout",
     "output_type": "stream",
     "text": [
      "Results\n",
      "[('o', 'http://www.wikidata.org/entity/Q513725'), ('oname', 'synchronized swimming at the 2000 Summer Olympics')]\n",
      "[('o', 'http://www.wikidata.org/entity/Q579844'), ('oname', 'fencing at the 2000 Summer Olympics')]\n",
      "[('o', 'http://www.wikidata.org/entity/Q847738'), ('oname', 'cycling at the 2000 Summer Olympics')]\n",
      "[('o', 'http://www.wikidata.org/entity/Q679703'), ('oname', 'judo at the 2000 Summer Olympics')]\n",
      "[('o', 'http://www.wikidata.org/entity/Q754594'), ('oname', 'wrestling at the 2000 Summer Olympics')]\n",
      "[('o', 'http://www.wikidata.org/entity/Q843711'), ('oname', 'equestrian at the 2000 Summer Olympics')]\n",
      "[('o', 'http://www.wikidata.org/entity/Q855408'), ('oname', 'canoeing at the 2000 Summer Olympics')]\n",
      "[('o', 'http://www.wikidata.org/entity/Q570002'), ('oname', 'table tennis at the 2000 Summer Olympics')]\n",
      "[('o', 'http://www.wikidata.org/entity/Q843708'), ('oname', 'shooting at the 2000 Summer Olympics')]\n",
      "[('o', 'http://www.wikidata.org/entity/Q661494'), ('oname', 'tennis at the 2000 Summer Olympics')]\n",
      "[('o', 'http://www.wikidata.org/entity/Q639125'), ('oname', 'water polo at the 2000 Summer Olympics')]\n",
      "[('o', 'http://www.wikidata.org/entity/Q426993'), ('oname', 'basketball at the 2000 Summer Olympics')]\n",
      "[('o', 'http://www.wikidata.org/entity/Q517784'), ('oname', 'swimming at the 2000 Summer Olympics')]\n",
      "[('o', 'http://www.wikidata.org/entity/Q249809'), ('oname', 'athletics at the 2000 Summer Olympics')]\n",
      "[('o', 'http://www.wikidata.org/entity/Q573649'), ('oname', 'rowing at the 2000 Summer Olympics')]\n",
      "[('o', 'http://www.wikidata.org/entity/Q579853'), ('oname', 'sailing at the 2000 Summer Olympics')]\n",
      "[('o', 'http://www.wikidata.org/entity/Q602592'), ('oname', 'weightlifting at the 2000 Summer Olympics')]\n",
      "[('o', 'http://www.wikidata.org/entity/Q843715'), ('oname', 'gymnastics at the 2000 Summer Olympics')]\n",
      "[('o', 'http://www.wikidata.org/entity/Q355637'), ('oname', 'artistic gymnastics at the 2000 Summer Olympics')]\n",
      "[('o', 'http://www.wikidata.org/entity/Q638193'), ('oname', 'volleyball at the 2000 Summer Olympics')]\n",
      "[('o', 'http://www.wikidata.org/entity/Q696263'), ('oname', 'taekwondo at the 2000 Summer Olympics')]\n",
      "[('o', 'http://www.wikidata.org/entity/Q545237'), ('oname', 'modern pentathlon at the 2000 Summer Olympics')]\n",
      "[('o', 'http://www.wikidata.org/entity/Q575661'), ('oname', 'archery at the 2000 Summer Olympics')]\n",
      "[('o', 'http://www.wikidata.org/entity/Q838632'), ('oname', 'field hockey at the 2000 Summer Olympics')]\n",
      "[('o', 'http://www.wikidata.org/entity/Q542212'), ('oname', 'badminton at the 2000 Summer Olympics')]\n",
      "[('o', 'http://www.wikidata.org/entity/Q753553'), ('oname', 'beach volleyball at the 2000 Summer Olympics')]\n",
      "[('o', 'http://www.wikidata.org/entity/Q752067'), ('oname', 'handball at the 2000 Summer Olympics')]\n",
      "[('o', 'http://www.wikidata.org/entity/Q843647'), ('oname', 'diving at the 2000 Summer Olympics')]\n",
      "[('o', 'http://www.wikidata.org/entity/Q843741'), ('oname', 'softball at the 2000 Summer Olympics')]\n",
      "[('o', 'http://www.wikidata.org/entity/Q843691'), ('oname', 'boxing at the 2000 Summer Olympics')]\n",
      "[('o', 'http://www.wikidata.org/entity/Q754589'), ('oname', 'football at the 2000 Summer Olympics')]\n",
      "[('o', 'http://www.wikidata.org/entity/Q791188'), ('oname', 'baseball at the 2000 Summer Olympics')]\n",
      "[('o', 'http://www.wikidata.org/entity/Q354094'), ('oname', 'trampoline gymnastics at the 2000 Summer Olympics')]\n",
      "[('o', 'http://www.wikidata.org/entity/Q354098'), ('oname', 'rhythmic gymnastics at the 2000 Summer Olympics')]\n",
      "[('o', 'http://www.wikidata.org/entity/Q16972643'), ('oname', 'wheelchair racing at the 2000 Summer Olympics')]\n",
      "[('o', 'http://www.wikidata.org/entity/Q665686'), ('oname', 'triathlon at the 2000 Summer Olympics')]\n"
     ]
    },
    {
     "data": {
      "text/plain": [
       "36"
      ]
     },
     "execution_count": 11,
     "metadata": {},
     "output_type": "execute_result"
    }
   ],
   "source": [
    "#Q17\n",
    "#closer look to Q8544 + property P527\n",
    "queryString = \"\"\"\n",
    "SELECT DISTINCT ?o ?oname\n",
    "WHERE {\n",
    "    \n",
    "    wd:Q8544 wdt:P527 ?o .#2000 olympics\n",
    "    \n",
    "    #labels\n",
    "    ?o <http://schema.org/name> ?oname .\n",
    "}\n",
    "LIMIT 50\n",
    "\"\"\"\n",
    "print(\"Results\")\n",
    "run_query(queryString)"
   ]
  },
  {
   "cell_type": "markdown",
   "id": "7ad7fb24-4e44-4938-b270-bd240655a2d7",
   "metadata": {},
   "source": [
    "Retrieve all editions of Olympic Games."
   ]
  },
  {
   "cell_type": "code",
   "execution_count": 12,
   "id": "f20103d3-fe33-463a-aa6c-135db004652f",
   "metadata": {},
   "outputs": [
    {
     "name": "stdout",
     "output_type": "stream",
     "text": [
      "Results\n",
      "[('o', 'http://www.wikidata.org/entity/Q8098'), ('oname', '1904 Summer Olympics')]\n",
      "[('o', 'http://www.wikidata.org/entity/Q8150'), ('oname', '1936 Summer Olympics')]\n",
      "[('o', 'http://www.wikidata.org/entity/Q8415'), ('oname', '1960 Summer Olympics')]\n",
      "[('o', 'http://www.wikidata.org/entity/Q181278'), ('oname', '2020 Summer Olympics')]\n",
      "[('o', 'http://www.wikidata.org/entity/Q8088'), ('oname', '1900 Summer Olympics')]\n",
      "[('o', 'http://www.wikidata.org/entity/Q8438'), ('oname', '1972 Summer Olympics')]\n",
      "[('o', 'http://www.wikidata.org/entity/Q8444'), ('oname', '1976 Summer Olympics')]\n",
      "[('o', 'http://www.wikidata.org/entity/Q8470'), ('oname', '1988 Summer Olympics')]\n",
      "[('o', 'http://www.wikidata.org/entity/Q8488'), ('oname', '1992 Summer Olympics')]\n",
      "[('o', 'http://www.wikidata.org/entity/Q8531'), ('oname', '1996 Summer Olympics')]\n",
      "[('o', 'http://www.wikidata.org/entity/Q8544'), ('oname', '2000 Summer Olympics')]\n",
      "[('o', 'http://www.wikidata.org/entity/Q8558'), ('oname', '2004 Summer Olympics')]\n",
      "[('o', 'http://www.wikidata.org/entity/Q8567'), ('oname', '2008 Summer Olympics')]\n",
      "[('o', 'http://www.wikidata.org/entity/Q8577'), ('oname', '2012 Summer Olympics')]\n",
      "[('o', 'http://www.wikidata.org/entity/Q8613'), ('oname', '2016 Summer Olympics')]\n",
      "[('o', 'http://www.wikidata.org/entity/Q8128'), ('oname', '1920 Summer Olympics')]\n",
      "[('o', 'http://www.wikidata.org/entity/Q8132'), ('oname', '1924 Summer Olympics')]\n",
      "[('o', 'http://www.wikidata.org/entity/Q8138'), ('oname', '1928 Summer Olympics')]\n",
      "[('o', 'http://www.wikidata.org/entity/Q8143'), ('oname', '1932 Summer Olympics')]\n",
      "[('o', 'http://www.wikidata.org/entity/Q8420'), ('oname', '1964 Summer Olympics')]\n",
      "[('o', 'http://www.wikidata.org/entity/Q8429'), ('oname', '1968 Summer Olympics')]\n",
      "[('o', 'http://www.wikidata.org/entity/Q8111'), ('oname', '1908 Summer Olympics')]\n",
      "[('o', 'http://www.wikidata.org/entity/Q8118'), ('oname', '1912 Summer Olympics')]\n",
      "[('o', 'http://www.wikidata.org/entity/Q8407'), ('oname', '1952 Summer Olympics')]\n",
      "[('o', 'http://www.wikidata.org/entity/Q8411'), ('oname', '1956 Summer Olympics')]\n",
      "[('o', 'http://www.wikidata.org/entity/Q8450'), ('oname', '1980 Summer Olympics')]\n",
      "[('o', 'http://www.wikidata.org/entity/Q8456'), ('oname', '1984 Summer Olympics')]\n",
      "[('o', 'http://www.wikidata.org/entity/Q8080'), ('oname', '1896 Summer Olympics')]\n",
      "[('o', 'http://www.wikidata.org/entity/Q8403'), ('oname', '1948 Summer Olympics')]\n",
      "[('o', 'http://www.wikidata.org/entity/Q8105'), ('oname', '1906 Intercalated Games')]\n",
      "[('o', 'http://www.wikidata.org/entity/Q8123'), ('oname', '1916 Summer Olympics')]\n",
      "[('o', 'http://www.wikidata.org/entity/Q1451505'), ('oname', '2028 Summer Olympics')]\n",
      "[('o', 'http://www.wikidata.org/entity/Q31039462'), ('oname', '2032 Summer Olympics')]\n",
      "[('o', 'http://www.wikidata.org/entity/Q995653'), ('oname', '2024 Summer Olympics')]\n",
      "[('o', 'http://www.wikidata.org/entity/Q8368'), ('oname', '1940 Summer Olympics')]\n",
      "[('o', 'http://www.wikidata.org/entity/Q8376'), ('oname', '1944 Summer Olympics')]\n"
     ]
    },
    {
     "data": {
      "text/plain": [
       "36"
      ]
     },
     "execution_count": 12,
     "metadata": {},
     "output_type": "execute_result"
    }
   ],
   "source": [
    "#Q18\n",
    "#P527 on 'general' olympics entity\n",
    "queryString = \"\"\"\n",
    "SELECT DISTINCT ?o ?oname\n",
    "WHERE {\n",
    "    \n",
    "    wd:Q159821 wdt:P527 ?o .#olympics\n",
    "    \n",
    "    #labels\n",
    "    ?o <http://schema.org/name> ?oname .\n",
    "}\n",
    "LIMIT 50\n",
    "\"\"\"\n",
    "print(\"Results\")\n",
    "run_query(queryString)"
   ]
  },
  {
   "cell_type": "markdown",
   "id": "774290f7-bb02-424d-80a0-b1e3d59106b5",
   "metadata": {},
   "source": [
    "By iterating two times P527 I could be able to list all the competitions included in all the editions of Olympics."
   ]
  },
  {
   "cell_type": "code",
   "execution_count": 13,
   "id": "bd0e1163-2dae-46ed-b6fe-0930a75723e1",
   "metadata": {},
   "outputs": [
    {
     "name": "stdout",
     "output_type": "stream",
     "text": [
      "Results\n",
      "[('o', 'http://www.wikidata.org/entity/Q765662'), ('oname', 'water motorsports at the 1908 Summer Olympics')]\n",
      "[('o', 'http://www.wikidata.org/entity/Q221132'), ('oname', 'field hockey at the 2008 Summer Olympics')]\n",
      "[('o', 'http://www.wikidata.org/entity/Q267154'), ('oname', 'diving at the 1932 Summer Olympics')]\n",
      "[('o', 'http://www.wikidata.org/entity/Q369891'), ('oname', 'diving at the 1984 Summer Olympics')]\n",
      "[('o', 'http://www.wikidata.org/entity/Q770656'), ('oname', 'diving at the 1920 Summer Olympics')]\n",
      "[('o', 'http://www.wikidata.org/entity/Q7427963'), ('oname', 'savate at the 1924 Summer Olympics')]\n",
      "[('o', 'http://www.wikidata.org/entity/Q17063692'), ('oname', 'wheelchair racing at the 1988 Summer Olympics')]\n",
      "[('o', 'http://www.wikidata.org/entity/Q17066430'), ('oname', 'wheelchair racing at the 1984 Summer Olympics')]\n",
      "[('o', 'http://www.wikidata.org/entity/Q599584'), ('oname', 'equestrian at the 1996 Summer Olympics')]\n",
      "[('o', 'http://www.wikidata.org/entity/Q283048'), ('oname', 'wrestling at the 1936 Summer Olympics')]\n",
      "[('o', 'http://www.wikidata.org/entity/Q688402'), ('oname', 'gymnastics at the 1936 Summer Olympics')]\n",
      "[('o', 'http://www.wikidata.org/entity/Q803981'), ('oname', 'wrestling at the 1948 Summer Olympics')]\n",
      "[('o', 'http://www.wikidata.org/entity/Q562015'), ('oname', 'rowing at the 1988 Summer Olympics')]\n",
      "[('o', 'http://www.wikidata.org/entity/Q647629'), ('oname', 'rowing at the 1960 Summer Olympics')]\n",
      "[('o', 'http://www.wikidata.org/entity/Q650159'), ('oname', 'rowing at the 1976 Summer Olympics')]\n",
      "[('o', 'http://www.wikidata.org/entity/Q843743'), ('oname', 'rowing at the 1968 Summer Olympics')]\n",
      "[('o', 'http://www.wikidata.org/entity/Q909939'), ('oname', 'rowing at the 1984 Summer Olympics')]\n",
      "[('o', 'http://www.wikidata.org/entity/Q843983'), ('oname', 'boxing at the 1956 Summer Olympics')]\n",
      "[('o', 'http://www.wikidata.org/entity/Q11884985'), ('oname', 'boxing at the 2016 Summer Olympics')]\n",
      "[('o', 'http://www.wikidata.org/entity/Q22812204'), ('oname', 'artistic gymnastics at the 2016 Summer Olympics')]\n",
      "[('o', 'http://www.wikidata.org/entity/Q562803'), ('oname', 'badminton at the 1988 Summer Olympics')]\n",
      "[('o', 'http://www.wikidata.org/entity/Q819645'), ('oname', 'badminton at the 1972 Summer Olympics')]\n",
      "[('o', 'http://www.wikidata.org/entity/Q11896072'), ('oname', 'synchronized swimming at the 2016 Summer Olympics')]\n",
      "[('o', 'http://www.wikidata.org/entity/Q160007'), ('oname', 'athletics at the 1972 Summer Olympics')]\n",
      "[('o', 'http://www.wikidata.org/entity/Q579878'), ('oname', 'athletics at the 1956 Summer Olympics')]\n",
      "[('o', 'http://www.wikidata.org/entity/Q733316'), ('oname', 'athletics at the 1976 Summer Olympics')]\n",
      "[('o', 'http://www.wikidata.org/entity/Q766357'), ('oname', 'athletics at the 1968 Summer Olympics')]\n",
      "[('o', 'http://www.wikidata.org/entity/Q494633'), ('oname', 'football at the 1988 Summer Olympics')]\n",
      "[('o', 'http://www.wikidata.org/entity/Q688439'), ('oname', 'fencing at the 1972 Summer Olympics')]\n",
      "[('o', 'http://www.wikidata.org/entity/Q632112'), ('oname', 'athletics at the 1980 Summer Olympics')]\n",
      "[('o', 'http://www.wikidata.org/entity/Q780631'), ('oname', 'fencing at the 1928 Summer Olympics')]\n",
      "[('o', 'http://www.wikidata.org/entity/Q650263'), ('oname', 'gymnastics at the 1952 Summer Olympics')]\n",
      "[('o', 'http://www.wikidata.org/entity/Q657929'), ('oname', 'athletics at the 1928 Summer Olympics')]\n",
      "[('o', 'http://www.wikidata.org/entity/Q794834'), ('oname', 'gymnastics at the 1948 Summer Olympics')]\n",
      "[('o', 'http://www.wikidata.org/entity/Q387526'), ('oname', 'table tennis at the 2008 Summer Olympics')]\n",
      "[('o', 'http://www.wikidata.org/entity/Q39080771'), ('oname', 'triathlon at the 2020 Summer Olympics')]\n",
      "[('o', 'http://www.wikidata.org/entity/Q222264'), ('oname', 'rowing at the 1980 Summer Olympics')]\n",
      "[('o', 'http://www.wikidata.org/entity/Q282596'), ('oname', 'equestrian at the 1980 Summer Olympics')]\n",
      "[('o', 'http://www.wikidata.org/entity/Q32646403'), ('oname', 'field hockey at the 2020 Summer Olympics')]\n",
      "[('o', 'http://www.wikidata.org/entity/Q11865693'), ('oname', 'football at the 2016 Summer Olympics')]\n",
      "[('o', 'http://www.wikidata.org/entity/Q220654'), ('oname', 'wrestling at the 2008 Summer Olympics')]\n",
      "[('o', 'http://www.wikidata.org/entity/Q562043'), ('oname', 'tennis at the 1988 Summer Olympics')]\n",
      "[('o', 'http://www.wikidata.org/entity/Q159181'), ('oname', 'football at the 1972 Summer Olympics')]\n",
      "[('o', 'http://www.wikidata.org/entity/Q18020555'), ('oname', 'equestrian at the 2016 Summer Olympics')]\n",
      "[('o', 'http://www.wikidata.org/entity/Q581196'), ('oname', 'cycling at the 1996 Summer Olympics')]\n",
      "[('o', 'http://www.wikidata.org/entity/Q675597'), ('oname', 'athletics at the 1900 Summer Olympics')]\n",
      "[('o', 'http://www.wikidata.org/entity/Q159199'), ('oname', 'volleyball at the 1972 Summer Olympics')]\n",
      "[('o', 'http://www.wikidata.org/entity/Q161922'), ('oname', 'wrestling at the 1920 Summer Olympics')]\n",
      "[('o', 'http://www.wikidata.org/entity/Q202510'), ('oname', 'football at the 1964 Summer Olympics')]\n",
      "[('o', 'http://www.wikidata.org/entity/Q553909'), ('oname', 'wrestling at the 1924 Summer Olympics')]\n"
     ]
    },
    {
     "data": {
      "text/plain": [
       "50"
      ]
     },
     "execution_count": 13,
     "metadata": {},
     "output_type": "execute_result"
    }
   ],
   "source": [
    "#Q18\n",
    "#iterate P527 to get the sport entities related to all olympics editions\n",
    "queryString = \"\"\"\n",
    "SELECT DISTINCT ?o ?oname\n",
    "WHERE {\n",
    "    \n",
    "    wd:Q159821 wdt:P527/wdt:P527 ?o .#olympics\n",
    "    \n",
    "    #labels\n",
    "    ?o <http://schema.org/name> ?oname .\n",
    "}\n",
    "LIMIT 50\n",
    "\"\"\"\n",
    "print(\"Results\")\n",
    "run_query(queryString)"
   ]
  },
  {
   "cell_type": "markdown",
   "id": "3314bfd5-399e-4c09-a2af-7b27abe84053",
   "metadata": {},
   "source": [
    "Let's have a closer look to 1964 Olympics."
   ]
  },
  {
   "cell_type": "code",
   "execution_count": 14,
   "id": "83649d42-6392-4f68-b09e-33c585b9a2ee",
   "metadata": {},
   "outputs": [
    {
     "name": "stdout",
     "output_type": "stream",
     "text": [
      "Results\n",
      "[('p', 'http://www.wikidata.org/prop/direct/P17'), ('pname', 'country'), ('o', 'http://www.wikidata.org/entity/Q17'), ('oname', 'Japan')]\n",
      "[('p', 'http://www.wikidata.org/prop/direct/P31'), ('pname', 'instance of'), ('o', 'http://www.wikidata.org/entity/Q26132862'), ('oname', 'Olympic sports discipline event')]\n",
      "[('p', 'http://www.wikidata.org/prop/direct/P641'), ('pname', 'sport'), ('o', 'http://www.wikidata.org/entity/Q2736'), ('oname', 'association football')]\n",
      "[('p', 'http://www.wikidata.org/prop/direct/P361'), ('pname', 'part of'), ('o', 'http://www.wikidata.org/entity/Q8420'), ('oname', '1964 Summer Olympics')]\n",
      "[('p', 'http://www.wikidata.org/prop/direct/P276'), ('pname', 'location'), ('o', 'http://www.wikidata.org/entity/Q330033'), ('oname', 'National Stadium')]\n",
      "[('p', 'http://www.wikidata.org/prop/direct/P131'), ('pname', 'located in the administrative territorial entity'), ('o', 'http://www.wikidata.org/entity/Q7473516'), ('oname', 'Tokyo')]\n",
      "[('p', 'http://www.wikidata.org/prop/direct/P3450'), ('pname', 'sports season of league or competition'), ('o', 'http://www.wikidata.org/entity/Q188317'), ('oname', 'association football at the Summer Olympics')]\n",
      "[('p', 'http://www.wikidata.org/prop/direct/P1424'), ('pname', \"topic's main template\"), ('o', 'http://www.wikidata.org/entity/Q95614299'), ('oname', 'Template:Football at the 1964 Summer Olympics')]\n",
      "[('p', 'http://www.wikidata.org/prop/direct/P910'), ('pname', \"topic's main category\"), ('o', 'http://www.wikidata.org/entity/Q9553757'), ('oname', 'Category:Football at the 1964 Summer Olympics')]\n",
      "[('p', 'http://www.wikidata.org/prop/direct/P527'), ('pname', 'has part'), ('o', 'http://www.wikidata.org/entity/Q77316229'), ('oname', \"football at the 1964 Summer Olympics – men's tournament\")]\n"
     ]
    },
    {
     "data": {
      "text/plain": [
       "10"
      ]
     },
     "execution_count": 14,
     "metadata": {},
     "output_type": "execute_result"
    }
   ],
   "source": [
    "#Q19\n",
    "#closer look to Q202510 (1964 Olympics)\n",
    "queryString = \"\"\"\n",
    "SELECT DISTINCT ?p ?pname ?o ?oname\n",
    "WHERE {\n",
    "    \n",
    "    wd:Q202510 ?p ?o .#football in 1964 olympic games\n",
    "    \n",
    "    #labels\n",
    "    ?p <http://schema.org/name> ?pname .\n",
    "    ?o <http://schema.org/name> ?oname .\n",
    "}\n",
    "LIMIT 50\n",
    "\"\"\"\n",
    "print(\"Results\")\n",
    "run_query(queryString)"
   ]
  },
  {
   "cell_type": "markdown",
   "id": "c4045bc4-8e7e-4a1e-b72c-1df1fe78dc8f",
   "metadata": {},
   "source": [
    "<h3> TASK 2 ENDS HERE </h3>\n",
    "In the following cell there is the BGP for identify a sport (using P641) or different types of competitions."
   ]
  },
  {
   "cell_type": "code",
   "execution_count": 16,
   "id": "0b61c19d-6025-4a3a-b37c-cc832c5fa0be",
   "metadata": {},
   "outputs": [
    {
     "name": "stdout",
     "output_type": "stream",
     "text": [
      "Results\n",
      "[('o', 'http://www.wikidata.org/entity/Q327223'), ('oname', 'freestyle wrestling')]\n",
      "[('o', 'http://www.wikidata.org/entity/Q3312129'), ('oname', 'track and field')]\n",
      "[('o', 'http://www.wikidata.org/entity/Q1455'), ('oname', 'field hockey')]\n",
      "[('o', 'http://www.wikidata.org/entity/Q167170'), ('oname', 'multi-sport event')]\n",
      "[('o', 'http://www.wikidata.org/entity/Q1734'), ('oname', 'volleyball')]\n",
      "[('o', 'http://www.wikidata.org/entity/Q179687'), ('oname', 'cross-country skiing')]\n",
      "[('o', 'http://www.wikidata.org/entity/Q204686'), ('oname', 'winter sport')]\n",
      "[('o', 'http://www.wikidata.org/entity/Q206989'), ('oname', 'shooting sport')]\n",
      "[('o', 'http://www.wikidata.org/entity/Q2736'), ('oname', 'association football')]\n",
      "[('o', 'http://www.wikidata.org/entity/Q31920'), ('oname', 'swimming')]\n",
      "[('o', 'http://www.wikidata.org/entity/Q41466'), ('oname', 'ice hockey')]\n",
      "[('o', 'http://www.wikidata.org/entity/Q5369'), ('oname', 'baseball')]\n",
      "[('o', 'http://www.wikidata.org/entity/Q5372'), ('oname', 'basketball')]\n",
      "[('o', 'http://www.wikidata.org/entity/Q542'), ('oname', 'athletics')]\n",
      "[('o', 'http://www.wikidata.org/entity/Q718'), ('oname', 'chess')]\n",
      "[('o', 'http://www.wikidata.org/entity/Q847'), ('oname', 'tennis')]\n",
      "[('o', 'http://www.wikidata.org/entity/Q108429'), ('oname', 'archery')]\n",
      "[('o', 'http://www.wikidata.org/entity/Q12100'), ('oname', 'fencing')]\n",
      "[('o', 'http://www.wikidata.org/entity/Q14085739'), ('oname', 'sailing')]\n",
      "[('o', 'http://www.wikidata.org/entity/Q159354'), ('oname', 'rowing')]\n",
      "[('o', 'http://www.wikidata.org/entity/Q2215841'), ('oname', 'cycle sport')]\n",
      "[('o', 'http://www.wikidata.org/entity/Q3609'), ('oname', 'road bicycle racing')]\n",
      "[('o', 'http://www.wikidata.org/entity/Q38108'), ('oname', 'figure skating')]\n",
      "[('o', 'http://www.wikidata.org/entity/Q3930'), ('oname', 'table tennis')]\n",
      "[('o', 'http://www.wikidata.org/entity/Q42486'), ('oname', 'wrestling')]\n",
      "[('o', 'http://www.wikidata.org/entity/Q43450'), ('oname', 'gymnastics')]\n",
      "[('o', 'http://www.wikidata.org/entity/Q60583336'), ('oname', 'summer sport')]\n",
      "[('o', 'http://www.wikidata.org/entity/Q7735'), ('oname', 'diving')]\n",
      "[('o', 'http://www.wikidata.org/entity/Q8418'), ('oname', 'handball')]\n",
      "[('o', 'http://www.wikidata.org/entity/Q36389'), ('oname', 'taekwondo')]\n",
      "[('o', 'http://www.wikidata.org/entity/Q7291'), ('oname', 'badminton')]\n",
      "[('o', 'http://www.wikidata.org/entity/Q221635'), ('oname', 'track cycling')]\n",
      "[('o', 'http://www.wikidata.org/entity/Q814517'), ('oname', 'disabled sport')]\n",
      "[('o', 'http://www.wikidata.org/entity/Q1128216'), ('oname', 'wheelchair basketball')]\n",
      "[('o', 'http://www.wikidata.org/entity/Q371804'), ('oname', 'sports car racing')]\n",
      "[('o', 'http://www.wikidata.org/entity/Q1805420'), ('oname', 'endurance racing')]\n",
      "[('o', 'http://www.wikidata.org/entity/Q22940089'), ('oname', 'automobile endurance racing')]\n",
      "[('o', 'http://www.wikidata.org/entity/Q213934'), ('oname', 'canoeing and kayaking')]\n",
      "[('o', 'http://www.wikidata.org/entity/Q326827'), ('oname', 'artistic gymnastics')]\n",
      "[('o', 'http://www.wikidata.org/entity/Q164761'), ('oname', '100 metres')]\n",
      "[('o', 'http://www.wikidata.org/entity/Q211155'), ('oname', '200 metres')]\n",
      "[('o', 'http://www.wikidata.org/entity/Q180692'), ('oname', 'synchronized swimming')]\n",
      "[('o', 'http://www.wikidata.org/entity/Q631004'), ('oname', 'open water swimming')]\n",
      "[('o', 'http://www.wikidata.org/entity/Q389654'), ('oname', 'Greco-Roman wrestling')]\n",
      "[('o', 'http://www.wikidata.org/entity/Q5132811'), ('oname', 'cliff jumping')]\n",
      "[('o', 'http://www.wikidata.org/entity/Q32112'), ('oname', 'boxing')]\n",
      "[('o', 'http://www.wikidata.org/entity/Q7707'), ('oname', 'water polo')]\n",
      "[('o', 'http://www.wikidata.org/entity/Q902378'), ('oname', 'equestrian sport')]\n",
      "[('o', 'http://www.wikidata.org/entity/Q17165362'), ('oname', 'long track speed skating')]\n",
      "[('o', 'http://www.wikidata.org/entity/Q838089'), ('oname', 'amateur wrestling')]\n"
     ]
    },
    {
     "data": {
      "text/plain": [
       "50"
      ]
     },
     "execution_count": 16,
     "metadata": {},
     "output_type": "execute_result"
    }
   ],
   "source": [
    "#ANSWER TO 2) : BGP for different sports\n",
    "#for each athlete, this query retrieves the sport (P641 found above) of the competiton he/she took part in\n",
    "queryString = \"\"\"\n",
    "SELECT DISTINCT ?o ?oname\n",
    "WHERE {\n",
    "    ?a wdt:P106/wdt:P279 wd:Q2066131; #athlete\n",
    "       wdt:P710|wdt:P1344 ?c. #participate\n",
    "    ?c wdt:P641 ?o.\n",
    "       \n",
    "    #labels\n",
    "    ?o <http://schema.org/name> ?oname .\n",
    "}\n",
    "LIMIT 50\n",
    "\"\"\"\n",
    "print(\"Results\")\n",
    "run_query(queryString)"
   ]
  },
  {
   "cell_type": "markdown",
   "id": "80438165-fad2-4222-930f-96ac91f7ceca",
   "metadata": {},
   "source": [
    "<h3>TASK 3 STARTS HERE</h3>\n",
    "Is there some French or German Athlete participating to any olympic event with double citizenship?"
   ]
  },
  {
   "cell_type": "markdown",
   "id": "266b86a3-1e56-4960-9380-692622c69469",
   "metadata": {},
   "source": [
    "Retrieve the french athletes who played for other country using P1532 (country for sport) found in the first query."
   ]
  },
  {
   "cell_type": "code",
   "execution_count": 19,
   "id": "2e4b961f-151b-4f32-8c46-847b17fe69d1",
   "metadata": {},
   "outputs": [
    {
     "name": "stdout",
     "output_type": "stream",
     "text": [
      "Results\n",
      "[('a', 'http://www.wikidata.org/entity/Q536340'), ('aname', 'Angelo Parisi')]\n",
      "[('a', 'http://www.wikidata.org/entity/Q3271440'), ('aname', 'Léon de Lunden')]\n",
      "[('a', 'http://www.wikidata.org/entity/Q348493'), ('aname', 'Jessica Fox')]\n",
      "[('a', 'http://www.wikidata.org/entity/Q83853'), ('aname', 'Henryk Kasperczak')]\n",
      "[('a', 'http://www.wikidata.org/entity/Q3358507'), ('aname', 'Ousmane Diarra')]\n",
      "[('a', 'http://www.wikidata.org/entity/Q1905564'), ('aname', 'Martine Oppliger')]\n",
      "[('a', 'http://www.wikidata.org/entity/Q3196017'), ('aname', 'Khalid Rahilou')]\n",
      "[('a', 'http://www.wikidata.org/entity/Q513557'), ('aname', 'Mickaël Conjungo')]\n",
      "[('a', 'http://www.wikidata.org/entity/Q229085'), ('aname', 'Françoise Mbango Etone')]\n",
      "[('a', 'http://www.wikidata.org/entity/Q216557'), ('aname', 'Mohamed Sissoko')]\n",
      "[('a', 'http://www.wikidata.org/entity/Q1644734'), ('aname', 'Hajnalka Kiraly')]\n",
      "[('a', 'http://www.wikidata.org/entity/Q925242'), ('aname', 'Jamal Alioui')]\n",
      "[('a', 'http://www.wikidata.org/entity/Q937669'), ('aname', 'Monsef Zerka')]\n",
      "[('a', 'http://www.wikidata.org/entity/Q369779'), ('aname', 'Feta Ahamada')]\n",
      "[('a', 'http://www.wikidata.org/entity/Q233256'), ('aname', 'Tatiana Golovin')]\n",
      "[('a', 'http://www.wikidata.org/entity/Q210453'), ('aname', 'Thiago Silva')]\n",
      "[('a', 'http://www.wikidata.org/entity/Q350107'), ('aname', 'Sol Bamba')]\n",
      "[('a', 'http://www.wikidata.org/entity/Q321315'), ('aname', 'Benjamin Angoua')]\n",
      "[('a', 'http://www.wikidata.org/entity/Q527845'), ('aname', \"Franck Songo'o\")]\n",
      "[('a', 'http://www.wikidata.org/entity/Q44977'), ('aname', 'Pierre-Emerick Aubameyang')]\n",
      "[('a', 'http://www.wikidata.org/entity/Q193108'), ('aname', 'Tony Parker')]\n",
      "[('a', 'http://www.wikidata.org/entity/Q1443059'), ('aname', 'Zakarya Bergdich')]\n",
      "[('a', 'http://www.wikidata.org/entity/Q116551'), ('aname', 'Ronny Turiaf')]\n",
      "[('a', 'http://www.wikidata.org/entity/Q380128'), ('aname', 'Mohamed Diamé')]\n",
      "[('a', 'http://www.wikidata.org/entity/Q2310422'), ('aname', 'Magaye Gueye')]\n",
      "[('a', 'http://www.wikidata.org/entity/Q2646122'), ('aname', 'Rosvitha Okou')]\n",
      "[('a', 'http://www.wikidata.org/entity/Q962948'), ('aname', 'Kentin Mahé')]\n",
      "[('a', 'http://www.wikidata.org/entity/Q1983375'), ('aname', 'Germaine Golding')]\n"
     ]
    },
    {
     "data": {
      "text/plain": [
       "28"
      ]
     },
     "execution_count": 19,
     "metadata": {},
     "output_type": "execute_result"
    }
   ],
   "source": [
    "#Q20\n",
    "#french athletes who play for other countries\n",
    "#in the first query we found (P1532)= country for sport\n",
    "queryString = \"\"\"\n",
    "SELECT DISTINCT ?a ?aname\n",
    "WHERE {\n",
    "    ?a wdt:P106/wdt:P279 wd:Q2066131; #athlete\n",
    "       wdt:P27 wd:Q142; #french\n",
    "       wdt:P710|wdt:P1344 ?o; #participating in competition\n",
    "       wdt:P1532 ?country.\n",
    "    \n",
    "    ?o wdt:P31 wd:Q159821. #olympic games\n",
    "       \n",
    "    FILTER(?country != wd:Q142) #french but playing for other country\n",
    "    \n",
    "    #labels\n",
    "    ?a <http://schema.org/name> ?aname .\n",
    "}\n",
    "LIMIT 50\n",
    "\"\"\"\n",
    "print(\"Results\")\n",
    "run_query(queryString)"
   ]
  },
  {
   "cell_type": "markdown",
   "id": "97f57db6-8db6-4328-9b0e-ce05741bf89d",
   "metadata": {},
   "source": [
    "Let's have a look at Tony Parker."
   ]
  },
  {
   "cell_type": "code",
   "execution_count": 20,
   "id": "443887b0-a053-4886-84af-4f14250e6d73",
   "metadata": {},
   "outputs": [
    {
     "name": "stdout",
     "output_type": "stream",
     "text": [
      "Results\n",
      "[('oname', '2012 Summer Olympics'), ('cname', 'United States of America')]\n",
      "[('oname', '2016 Summer Olympics'), ('cname', 'United States of America')]\n"
     ]
    },
    {
     "data": {
      "text/plain": [
       "2"
      ]
     },
     "execution_count": 20,
     "metadata": {},
     "output_type": "execute_result"
    }
   ],
   "source": [
    "#Q21\n",
    "#closer look to Tony Parker  (Q193108)\n",
    "queryString = \"\"\"\n",
    "SELECT DISTINCT ?oname ?cname\n",
    "WHERE {\n",
    "    wd:Q193108 wdt:P710|wdt:P1344 ?o; #participating in competition\n",
    "               wdt:P1532 ?country.\n",
    "    \n",
    "    ?o wdt:P31 wd:Q159821. #olympic games\n",
    "    \n",
    "    #labels\n",
    "    ?o <http://schema.org/name> ?oname .\n",
    "    ?country <http://schema.org/name> ?cname .\n",
    "}\n",
    "LIMIT 50\n",
    "\"\"\"\n",
    "print(\"Results\")\n",
    "run_query(queryString)"
   ]
  },
  {
   "cell_type": "markdown",
   "id": "427d8d35-84ef-4ef7-9dc8-83aa8fab47fa",
   "metadata": {},
   "source": [
    "The previous result is odd since he never played for USA. I'll go deeper to find why."
   ]
  },
  {
   "cell_type": "code",
   "execution_count": 23,
   "id": "737be609-6196-4a2e-9267-dbfabe27cadc",
   "metadata": {},
   "outputs": [
    {
     "name": "stdout",
     "output_type": "stream",
     "text": [
      "Results\n",
      "[('pname', 'occupation'), ('oname', 'radio personality')]\n",
      "[('pname', 'occupation'), ('oname', 'basketball player')]\n",
      "[('pname', 'employer'), ('oname', 'San Antonio Spurs')]\n",
      "[('pname', 'league'), ('oname', 'National Basketball Association')]\n",
      "[('pname', 'participant in'), ('oname', 'FIBA EuroBasket 2011')]\n",
      "[('pname', 'participant in'), ('oname', 'EuroBasket 2005')]\n",
      "[('pname', 'participant in'), ('oname', '2012 Summer Olympics')]\n",
      "[('pname', 'participant in'), ('oname', '2016 Summer Olympics')]\n",
      "[('pname', 'participant in'), ('oname', 'FIBA EuroBasket 2015')]\n",
      "[('pname', 'participant in'), ('oname', 'EuroBasket 2007')]\n",
      "[('pname', 'participant in'), ('oname', 'FIBA EuroBasket 2013')]\n",
      "[('pname', 'participant in'), ('oname', 'FIBA EuroBasket 2009')]\n",
      "[('pname', 'participant in'), ('oname', 'EuroBasket 2003')]\n",
      "[('pname', 'participant in'), ('oname', 'EuroBasket 2001')]\n",
      "[('pname', 'named after'), ('oname', 'Tony Parker, Sr.')]\n",
      "[('pname', 'languages spoken, written or signed'), ('oname', 'French')]\n",
      "[('pname', 'country for sport'), ('oname', 'United States of America')]\n",
      "[('pname', 'award received'), ('oname', 'Knight of the Legion of Honour')]\n",
      "[('pname', 'award received'), ('oname', 'Officer of the National Order of Merit')]\n",
      "[('pname', 'award received'), ('oname', \"Champion des champions français de L'Équipe\")]\n",
      "[('pname', 'different from'), ('oname', 'Tony Parker')]\n",
      "[('pname', 'different from'), ('oname', 'Anthony Parker')]\n",
      "[('pname', 'different from'), ('oname', 'Tony Parker, Sr.')]\n",
      "[('pname', 'place of birth'), ('oname', 'Bruges')]\n",
      "[('pname', 'competition class'), ('oname', \"men's basketball\")]\n",
      "[('pname', 'sex or gender'), ('oname', 'male')]\n",
      "[('pname', 'father'), ('oname', 'Tony Parker, Sr.')]\n",
      "[('pname', 'spouse'), ('oname', 'Eva Longoria')]\n",
      "[('pname', 'country of citizenship'), ('oname', 'France')]\n",
      "[('pname', 'instance of'), ('oname', 'human')]\n",
      "[('pname', 'position played on team / speciality'), ('oname', 'point guard')]\n",
      "[('pname', 'member of sports team'), ('oname', 'San Antonio Spurs')]\n",
      "[('pname', 'member of sports team'), ('oname', 'Charlotte Hornets')]\n",
      "[('pname', 'member of sports team'), ('oname', 'Paris Basket Racing')]\n",
      "[('pname', 'member of sports team'), ('oname', 'ASVEL Basket')]\n",
      "[('pname', 'sport'), ('oname', 'basketball')]\n",
      "[('pname', 'educated at'), ('oname', 'INSEP')]\n",
      "[('pname', 'educated at'), ('oname', 'Jean-Baptiste-de-La-Salle de Rouen School')]\n",
      "[('pname', 'family name'), ('oname', 'Parker')]\n",
      "[('pname', 'given name'), ('oname', 'Toni')]\n",
      "[('pname', \"topic's main category\"), ('oname', 'Category:Tony Parker')]\n",
      "[('pname', 'partner in business or sport'), ('oname', 'Gaëtan Müller')]\n",
      "[('pname', 'drafted by'), ('oname', 'San Antonio Spurs')]\n"
     ]
    },
    {
     "data": {
      "text/plain": [
       "43"
      ]
     },
     "execution_count": 23,
     "metadata": {},
     "output_type": "execute_result"
    }
   ],
   "source": [
    "#Q22\n",
    "#again because previous results are weird (Q193108)\n",
    "queryString = \"\"\"\n",
    "SELECT DISTINCT ?pname ?oname\n",
    "WHERE {\n",
    "    wd:Q193108 ?p ?o.\n",
    "    \n",
    "    #labels\n",
    "    ?o <http://schema.org/name> ?oname .\n",
    "    ?p <http://schema.org/name> ?pname .\n",
    "}\n",
    "LIMIT 50\n",
    "\"\"\"\n",
    "print(\"Results\")\n",
    "run_query(queryString)"
   ]
  },
  {
   "cell_type": "markdown",
   "id": "83fd1560-5b80-4767-9b1b-e1dcb742658d",
   "metadata": {},
   "source": [
    "Try to run the same query but for another athlete with multiple citizenships."
   ]
  },
  {
   "cell_type": "code",
   "execution_count": 24,
   "id": "00492224-e6d2-447d-aaba-72ade1145084",
   "metadata": {},
   "outputs": [
    {
     "name": "stdout",
     "output_type": "stream",
     "text": [
      "Results\n",
      "[('country', 'http://www.wikidata.org/entity/Q1000'), ('cname', 'Gabon')]\n",
      "[('country', 'http://www.wikidata.org/entity/Q142'), ('cname', 'France')]\n",
      "[('country', 'http://www.wikidata.org/entity/Q29'), ('cname', 'Spain')]\n"
     ]
    },
    {
     "data": {
      "text/plain": [
       "3"
      ]
     },
     "execution_count": 24,
     "metadata": {},
     "output_type": "execute_result"
    }
   ],
   "source": [
    "#Q23\n",
    "#closer look to Aubameyang (Q44977)\n",
    "queryString = \"\"\"\n",
    "SELECT DISTINCT ?country ?cname\n",
    "WHERE {\n",
    "    wd:Q44977 wdt:P27 ?country .\n",
    "    \n",
    "    #labels\n",
    "    ?country <http://schema.org/name> ?cname .\n",
    "}\n",
    "LIMIT 50\n",
    "\"\"\"\n",
    "print(\"Results\")\n",
    "run_query(queryString)"
   ]
  },
  {
   "cell_type": "markdown",
   "id": "a2ace45c-e0c8-4c04-9e11-f65ed4ee4803",
   "metadata": {},
   "source": [
    "Retrieve some french or german athletes with double citizenship who took part in olympics."
   ]
  },
  {
   "cell_type": "code",
   "execution_count": 30,
   "id": "51f0a45f-b515-40cf-98de-2adead1ed83f",
   "metadata": {},
   "outputs": [
    {
     "name": "stdout",
     "output_type": "stream",
     "text": [
      "Results\n",
      "[('athlete', 'http://www.wikidata.org/entity/Q435068')]\n",
      "[('athlete', 'http://www.wikidata.org/entity/Q26262098')]\n",
      "[('athlete', 'http://www.wikidata.org/entity/Q4261')]\n",
      "[('athlete', 'http://www.wikidata.org/entity/Q440839')]\n",
      "[('athlete', 'http://www.wikidata.org/entity/Q567084')]\n",
      "[('athlete', 'http://www.wikidata.org/entity/Q65790')]\n",
      "[('athlete', 'http://www.wikidata.org/entity/Q44781')]\n",
      "[('athlete', 'http://www.wikidata.org/entity/Q13485')]\n",
      "[('athlete', 'http://www.wikidata.org/entity/Q609877')]\n",
      "[('athlete', 'http://www.wikidata.org/entity/Q452740')]\n"
     ]
    },
    {
     "data": {
      "text/plain": [
       "10"
      ]
     },
     "execution_count": 30,
     "metadata": {},
     "output_type": "execute_result"
    }
   ],
   "source": [
    "#Q24\n",
    "#retrieve french or german athletes with double citizenship who took part in olympics\n",
    "queryString = \"\"\"\n",
    "SELECT ?athlete\n",
    "WHERE {\n",
    "    ?athlete wdt:P710|wdt:P1344 ?o; #participating in competition\n",
    "             wdt:P27 ?country;\n",
    "             wdt:P1532 ?cs. #country for sport\n",
    "    \n",
    "    ?o wdt:P31 wd:Q159821. #olympic games\n",
    "    FILTER( (?cs = wd:Q142) || (?cs=wd:Q183) ) \n",
    "}\n",
    "GROUP BY (?athlete)\n",
    "HAVING (COUNT(?country)>1)\n",
    "LIMIT 10\n",
    "\"\"\"\n",
    "print(\"Results\")\n",
    "run_query(queryString)"
   ]
  },
  {
   "cell_type": "markdown",
   "id": "e2233f79-173c-4063-9078-186bfb537905",
   "metadata": {},
   "source": [
    "Count how many athlete have more than one citizenships and took part in Olympics representing France."
   ]
  },
  {
   "cell_type": "code",
   "execution_count": 8,
   "id": "b7590bbe-a7de-4166-be92-92be5738f8ce",
   "metadata": {},
   "outputs": [
    {
     "name": "stdout",
     "output_type": "stream",
     "text": [
      "Results\n",
      "[('french', '66')]\n"
     ]
    },
    {
     "data": {
      "text/plain": [
       "1"
      ]
     },
     "execution_count": 8,
     "metadata": {},
     "output_type": "execute_result"
    }
   ],
   "source": [
    "#Q25\n",
    "#count how many for France\n",
    "queryString = \"\"\"\n",
    "SELECT (COUNT(?athlete) AS ?french)\n",
    "{\n",
    "SELECT ?athlete (COUNT (?country) AS ?nCountries)\n",
    "WHERE {\n",
    "    ?athlete wdt:P710|wdt:P1344 ?o; #participating in competition\n",
    "             wdt:P27 ?country;\n",
    "             wdt:P1532 ?cs. #country for sport\n",
    "    \n",
    "    ?o wdt:P31 wd:Q159821. #olympic games\n",
    "    FILTER (?cs = wd:Q142) \n",
    "}\n",
    "GROUP BY (?athlete)\n",
    "HAVING (COUNT(?country)>1)\n",
    "}\n",
    "\"\"\"\n",
    "print(\"Results\")\n",
    "run_query(queryString)"
   ]
  },
  {
   "cell_type": "markdown",
   "id": "03c26e9c-0d0a-4e51-968a-ff8425c99837",
   "metadata": {},
   "source": [
    "66 seems low, so in the next cells I want to check if there are better way to connect athletes and Olympic Games."
   ]
  },
  {
   "cell_type": "code",
   "execution_count": 6,
   "id": "24e02605-eee0-4b21-8131-feee2216fbfe",
   "metadata": {},
   "outputs": [
    {
     "name": "stdout",
     "output_type": "stream",
     "text": [
      "Results\n",
      "The operation failed timed out\n"
     ]
    }
   ],
   "source": [
    "#Q26\n",
    "#66 seems pretty low, check if there are a better way to connect olympics and competition\n",
    "#try to use P361 (part of) found in Q19\n",
    "queryString = \"\"\"\n",
    "SELECT ?o ?oname\n",
    "WHERE {\n",
    "\n",
    "    ?o wdt:P361 wd:Q159821. #olympic games\n",
    "    #Label\n",
    "    ?oname <http://schema.org/name> ?oname .\n",
    "   \n",
    "}\n",
    "LIMIT 30\n",
    "\"\"\"\n",
    "print(\"Results\")\n",
    "run_query(queryString)"
   ]
  },
  {
   "cell_type": "code",
   "execution_count": 5,
   "id": "f0ab6c80-c476-4d29-9f50-e8c7cee1f20b",
   "metadata": {},
   "outputs": [
    {
     "name": "stdout",
     "output_type": "stream",
     "text": [
      "Results\n",
      "Empty\n"
     ]
    },
    {
     "data": {
      "text/plain": [
       "0"
      ]
     },
     "execution_count": 5,
     "metadata": {},
     "output_type": "execute_result"
    }
   ],
   "source": [
    "#Q27\n",
    "#66 seems pretty low, check if there are a better way to connect olympics and competition\n",
    "#no result, so try to iterate over P361 (part of)\n",
    "queryString = \"\"\"\n",
    "SELECT ?o ?oname\n",
    "WHERE {\n",
    "\n",
    "    ?o wdt:P361/wdt:P361 wd:Q159821. #olympic games\n",
    "    #Label\n",
    "    ?oname <http://schema.org/name> ?oname .\n",
    "   \n",
    "}\n",
    "LIMIT 30\n",
    "\"\"\"\n",
    "print(\"Results\")\n",
    "run_query(queryString)"
   ]
  },
  {
   "cell_type": "code",
   "execution_count": 4,
   "id": "c2e49299-5db8-480a-85f3-8a4eb288245d",
   "metadata": {},
   "outputs": [
    {
     "name": "stdout",
     "output_type": "stream",
     "text": [
      "Results\n",
      "[('athlete', 'http://www.wikidata.org/entity/Q3195752')]\n",
      "[('athlete', 'http://www.wikidata.org/entity/Q229831')]\n",
      "[('athlete', 'http://www.wikidata.org/entity/Q180872')]\n",
      "[('athlete', 'http://www.wikidata.org/entity/Q232633')]\n",
      "[('athlete', 'http://www.wikidata.org/entity/Q229002')]\n",
      "[('athlete', 'http://www.wikidata.org/entity/Q242959')]\n",
      "[('athlete', 'http://www.wikidata.org/entity/Q28325')]\n",
      "[('athlete', 'http://www.wikidata.org/entity/Q192661')]\n"
     ]
    },
    {
     "data": {
      "text/plain": [
       "8"
      ]
     },
     "execution_count": 4,
     "metadata": {},
     "output_type": "execute_result"
    }
   ],
   "source": [
    "#Q28\n",
    "#66 seems pretty low, check if there are a better way to connect olympics and competition\n",
    "#keep P31 and use Q26132862 (olympics sport event)\n",
    "\n",
    "queryString = \"\"\"\n",
    "SELECT ?athlete\n",
    "WHERE {\n",
    "    ?athlete wdt:P710|wdt:P1344 ?o; #participating in competition\n",
    "             wdt:P27 ?country;\n",
    "             wdt:P1532 ?cs. #country for sport\n",
    "    \n",
    "    ?o wdt:P31 wd:Q26132862. #olympic sport event\n",
    "    FILTER (?cs = wd:Q142) \n",
    "}\n",
    "GROUP BY (?athlete)\n",
    "HAVING (COUNT(?country)>1)\n",
    "LIMIT 10\n",
    "\"\"\"\n",
    "print(\"Results\")\n",
    "run_query(queryString)"
   ]
  },
  {
   "cell_type": "code",
   "execution_count": 3,
   "id": "a93a4c6d-4e61-4669-9880-34f67e9ab0a8",
   "metadata": {},
   "outputs": [
    {
     "name": "stdout",
     "output_type": "stream",
     "text": [
      "Results\n",
      "The operation failed EndPointInternalError: endpoint returned code 500 and response. \n",
      "\n",
      "Response:\n",
      "b'Virtuoso 42000 Error The estimated execution time 300931360 (sec) exceeds the limit of 800 (sec).\\n\\nSPARQL query:\\n\\n##-567b0d5169-##\\nPREFIX wd: <http://www.wikidata.org/entity/> \\nPREFIX wdt: <http://www.wikidata.org/prop/direct/> \\nPREFIX sc: <http://schema.org/>\\n\\n\\nSELECT ?p ?pname ?o ?oname\\nWHERE {\\n\\n    wd:Q160007 ?p ?o.\\n    FILTER(!isLiteral(?o))\\n    \\n    #Label\\n    ?pname <http://schema.org/name> ?pname .\\n    ?oname <http://schema.org/name> ?oname .\\n}\\nLIMIT 30\\n'\n"
     ]
    }
   ],
   "source": [
    "#Q29\n",
    "#closer look to an olympic sport (Q160007 athletics at 1972 olympics)\n",
    "queryString = \"\"\"\n",
    "SELECT ?p ?pname ?o ?oname\n",
    "WHERE {\n",
    "\n",
    "    wd:Q160007 ?p ?o.\n",
    "    FILTER(!isLiteral(?o))\n",
    "    \n",
    "    #Label\n",
    "    ?pname <http://schema.org/name> ?pname .\n",
    "    ?oname <http://schema.org/name> ?oname .\n",
    "}\n",
    "LIMIT 30\n",
    "\"\"\"\n",
    "print(\"Results\")\n",
    "run_query(queryString)"
   ]
  },
  {
   "cell_type": "code",
   "execution_count": 5,
   "id": "3b142723-3cf4-4bf9-aea0-40e766c00ca5",
   "metadata": {},
   "outputs": [
    {
     "name": "stdout",
     "output_type": "stream",
     "text": [
      "Results\n",
      "The operation failed timed out\n"
     ]
    }
   ],
   "source": [
    "#Q30\n",
    "#closer look to an olympic sport (Q766357 athletics at some olympics)\n",
    "queryString = \"\"\"\n",
    "SELECT ?p ?o ?oname\n",
    "WHERE {\n",
    "\n",
    "    wd:Q766357 ?p ?o.\n",
    "    FILTER(!isLiteral(?o))\n",
    "    \n",
    "    #Label\n",
    "    ?oname <http://schema.org/name> ?oname .\n",
    "}\n",
    "LIMIT 30\n",
    "\"\"\"\n",
    "print(\"Results\")\n",
    "run_query(queryString)"
   ]
  },
  {
   "cell_type": "code",
   "execution_count": 7,
   "id": "2afa394e-c147-4503-919a-325a7ba8e2a1",
   "metadata": {},
   "outputs": [
    {
     "name": "stdout",
     "output_type": "stream",
     "text": [
      "Results\n",
      "The operation failed timed out\n"
     ]
    }
   ],
   "source": [
    "#Q31\n",
    "#closer look to an olympic sport (Q766357 athletics at some olympics)\n",
    "queryString = \"\"\"\n",
    "SELECT ?o ?oname\n",
    "WHERE {\n",
    "\n",
    "    wd:Q766357 wdt:P527 ?o.\n",
    "    FILTER(!isLiteral(?o))\n",
    "    \n",
    "    #Label\n",
    "    ?oname <http://schema.org/name> ?oname .\n",
    "}\n",
    "LIMIT 30\n",
    "\"\"\"\n",
    "print(\"Results\")\n",
    "run_query(queryString)"
   ]
  },
  {
   "cell_type": "code",
   "execution_count": 9,
   "id": "9bf35cb9-78e6-4f9b-998b-416a64bd0958",
   "metadata": {},
   "outputs": [
    {
     "name": "stdout",
     "output_type": "stream",
     "text": [
      "Results\n",
      "Empty\n"
     ]
    },
    {
     "data": {
      "text/plain": [
       "0"
      ]
     },
     "execution_count": 9,
     "metadata": {},
     "output_type": "execute_result"
    }
   ],
   "source": [
    "#Q32\n",
    "#last try\n",
    "#closer look to an olympic sport (Q581196 cycling at XXVI olympics)\n",
    "queryString = \"\"\"\n",
    "SELECT ?o ?oname\n",
    "WHERE {\n",
    "\n",
    "    wd:Q581196 wdt:P527 ?o.\n",
    "    FILTER(!isLiteral(?o))\n",
    "    \n",
    "    #Label\n",
    "    ?oname <http://schema.org/name> ?oname .\n",
    "}\n",
    "LIMIT 30\n",
    "\"\"\"\n",
    "print(\"Results\")\n",
    "run_query(queryString)"
   ]
  },
  {
   "cell_type": "code",
   "execution_count": 10,
   "id": "918f8900-8c89-43de-900b-be071c91f800",
   "metadata": {},
   "outputs": [
    {
     "name": "stdout",
     "output_type": "stream",
     "text": [
      "Results\n",
      "Empty\n"
     ]
    },
    {
     "data": {
      "text/plain": [
       "0"
      ]
     },
     "execution_count": 10,
     "metadata": {},
     "output_type": "execute_result"
    }
   ],
   "source": [
    "#Q33\n",
    "#check the reverse path: from a specific athlete (Q435068) to olympic games to see if there are other ways to connect the nodes\n",
    "queryString = \"\"\"\n",
    "SELECT ?o ?oname\n",
    "WHERE {\n",
    "\n",
    "    wd:Q435068 wdt:P1344|wdt:710 ?o.\n",
    "    ?o wdt:P31 wd:Q159821. #olympic games\n",
    "    \n",
    "    #Label\n",
    "    ?oname <http://schema.org/name> ?oname .\n",
    "}\n",
    "LIMIT 30\n",
    "\"\"\"\n",
    "print(\"Results\")\n",
    "run_query(queryString)"
   ]
  },
  {
   "cell_type": "code",
   "execution_count": 11,
   "id": "e7121d97-450d-4ebd-97cf-b172e67f847b",
   "metadata": {},
   "outputs": [
    {
     "name": "stdout",
     "output_type": "stream",
     "text": [
      "Results\n",
      "The operation failed EndPointInternalError: endpoint returned code 500 and response. \n",
      "\n",
      "Response:\n",
      "b'Virtuoso 42000 Error The estimated execution time 8483 (sec) exceeds the limit of 800 (sec).\\n\\nSPARQL query:\\n\\n##-567b0d5169-##\\nPREFIX wd: <http://www.wikidata.org/entity/> \\nPREFIX wdt: <http://www.wikidata.org/prop/direct/> \\nPREFIX sc: <http://schema.org/>\\n\\n\\nSELECT ?p ?pname\\nWHERE {\\n\\n    ?a wdt:P106/wdt:P279 wd:Q2066131. \\n    ?o ?p wd:Q159821. #olympic games\\n    \\n    #Label\\n    ?pname <http://schema.org/name> ?pname .\\n}\\nLIMIT 30\\n'\n"
     ]
    }
   ],
   "source": [
    "#Q34\n",
    "#check the reverse path: from generic french athlete to olympic games to see if there are other ways to connect the nodes\n",
    "queryString = \"\"\"\n",
    "SELECT ?p ?pname\n",
    "WHERE {\n",
    "\n",
    "    ?a wdt:P106/wdt:P279 wd:Q2066131. \n",
    "    ?o ?p wd:Q159821. #olympic games\n",
    "    \n",
    "    #Label\n",
    "    ?pname <http://schema.org/name> ?pname .\n",
    "}\n",
    "LIMIT 30\n",
    "\"\"\"\n",
    "print(\"Results\")\n",
    "run_query(queryString)"
   ]
  },
  {
   "cell_type": "code",
   "execution_count": 13,
   "id": "b735517a-cd8f-4740-85c5-458c97f60611",
   "metadata": {},
   "outputs": [
    {
     "name": "stdout",
     "output_type": "stream",
     "text": [
      "Results\n",
      "Empty\n"
     ]
    },
    {
     "data": {
      "text/plain": [
       "0"
      ]
     },
     "execution_count": 13,
     "metadata": {},
     "output_type": "execute_result"
    }
   ],
   "source": [
    "#Q35\n",
    "#try to use part of (P361) found in Q19\n",
    "queryString = \"\"\"\n",
    "SELECT ?athlete\n",
    "WHERE {\n",
    "    ?athlete wdt:P710|wdt:P1344 ?o; #participating in competition\n",
    "             wdt:P27 ?country;\n",
    "             wdt:P1532 ?cs. #country for sport\n",
    "             \n",
    "    ?o wdt:P361 wd:Q159821. #olympic games\n",
    "    FILTER( (?cs = wd:Q142) || (?cs=wd:Q183) ) \n",
    "}\n",
    "GROUP BY (?athlete)\n",
    "HAVING (COUNT(?country)>1)\n",
    "LIMIT 10\n",
    "\"\"\"\n",
    "print(\"Results\")\n",
    "run_query(queryString)"
   ]
  },
  {
   "cell_type": "markdown",
   "id": "e92baa30-8ea8-49f3-85fc-85a188ec92cc",
   "metadata": {},
   "source": [
    "<h3> TASK 3 ENDS HERE </h3>\n",
    "In the next cell there is the BGP to find the french or german athlete who took part in olympics and have double citizenship.\n",
    "I used BGP that connect athlete and participating in olympics found in task 2 and added the property P1532 which shows the nation an athlete compete for. The first result seems low so i tried other ways to connect athlete and olympics partecipation but unsuccessfully."
   ]
  },
  {
   "cell_type": "code",
   "execution_count": 14,
   "id": "f58d5e74-dd24-408e-95a5-3ed2d339e8bd",
   "metadata": {},
   "outputs": [
    {
     "name": "stdout",
     "output_type": "stream",
     "text": [
      "Results\n"
     ]
    }
   ],
   "source": [
    "#ANSWER TO TASK 3)\n",
    "#this is the BGP to find the french or german athlete who took part in olympics and have double citizenship\n",
    "#i used BGP that connect athlete and participating in olympics found in task 2 and added the property P1532 which shows the\n",
    "#nation an athlete compete for\n",
    "#the first result seems low so i tried other ways to connect athlete and olympics partecipation but unsuccessfully\n",
    "queryString = \"\"\"\n",
    "SELECT ?athlete\n",
    "WHERE {\n",
    "    ?athlete wdt:P710|wdt:P1344 ?o; #participating in competition\n",
    "             wdt:P27 ?country;\n",
    "             wdt:P1532 ?cs. #country for sport\n",
    "    \n",
    "    ?o wdt:P31 wd:Q159821. #olympic games\n",
    "    FILTER( (?cs = wd:Q142) || (?cs=wd:Q183) ) \n",
    "}\n",
    "GROUP BY (?athlete)\n",
    "HAVING (COUNT(?country)>1)\n",
    "LIMIT 10\n",
    "\"\"\"\n",
    "print(\"Results\")\n",
    "run_query(queryString)"
   ]
  },
  {
   "cell_type": "markdown",
   "id": "eb7a3fa6-93d4-41a4-80f6-46c0ef22441c",
   "metadata": {},
   "source": [
    "Count how many athlete participated in Olympic Games for Germany and also have double citizenship."
   ]
  },
  {
   "cell_type": "code",
   "execution_count": 15,
   "id": "02b36617-5ff9-4a31-8847-b6a9a965a8ba",
   "metadata": {},
   "outputs": [
    {
     "name": "stdout",
     "output_type": "stream",
     "text": [
      "Results\n",
      "[('german', '115')]\n"
     ]
    },
    {
     "data": {
      "text/plain": [
       "1"
      ]
     },
     "execution_count": 15,
     "metadata": {},
     "output_type": "execute_result"
    }
   ],
   "source": [
    "#ADDITIONAL ON TASK 3\n",
    "\n",
    "#France has 66 olympic athletes with double citizenships \n",
    "#count how many for Germany\n",
    "queryString = \"\"\"\n",
    "SELECT (COUNT(?athlete) AS ?german)\n",
    "{\n",
    "SELECT ?athlete (COUNT (?country) AS ?nCountries)\n",
    "WHERE {\n",
    "    ?athlete wdt:P710|wdt:P1344 ?o; #participating in competition\n",
    "             wdt:P27 ?country;\n",
    "             wdt:P1532 ?cs. #country for sport\n",
    "    \n",
    "    ?o wdt:P31 wd:Q159821. #olympic games\n",
    "    FILTER (?cs = wd:Q183) \n",
    "}\n",
    "GROUP BY (?athlete)\n",
    "HAVING (COUNT(?country)>1)\n",
    "}\n",
    "\"\"\"\n",
    "print(\"Results\")\n",
    "run_query(queryString)"
   ]
  },
  {
   "cell_type": "markdown",
   "id": "ff14d32c-0eea-4380-a645-d2c1736740e8",
   "metadata": {},
   "source": [
    "Check if an athlete from France or Gemrany with double citizenship won an olympic competition."
   ]
  },
  {
   "cell_type": "code",
   "execution_count": 16,
   "id": "46f221a9-d62d-4a1b-8a89-a3e91794a6f5",
   "metadata": {},
   "outputs": [
    {
     "name": "stdout",
     "output_type": "stream",
     "text": [
      "Results\n",
      "Empty\n"
     ]
    },
    {
     "data": {
      "text/plain": [
       "0"
      ]
     },
     "execution_count": 16,
     "metadata": {},
     "output_type": "execute_result"
    }
   ],
   "source": [
    "#ADDITIONAL ON TASK 3\n",
    "\n",
    "#France has 66 olympic athletes with double citizenships, Germany 115\n",
    "#check if someone won something related to olympic games\n",
    "queryString = \"\"\"\n",
    "SELECT ?athlete\n",
    "WHERE {\n",
    "    ?athlete wdt:P2522|wdt:P1346 ?o; #winning in competition\n",
    "             wdt:P27 ?country;\n",
    "             wdt:P1532 ?cs. #country for sport\n",
    "    \n",
    "    ?o wdt:P31 wd:Q159821. #olympic games\n",
    "    FILTER( (?cs = wd:Q142) || (?cs=wd:Q183) ) \n",
    "}\n",
    "GROUP BY (?athlete)\n",
    "HAVING (COUNT(?country)>1)\n",
    "LIMIT 10\n",
    "\"\"\"\n",
    "print(\"Results\")\n",
    "run_query(queryString)"
   ]
  },
  {
   "cell_type": "markdown",
   "id": "89ba6468-d983-498b-b5fd-9da8d676b15a",
   "metadata": {},
   "source": [
    "On top of TASK 3, I compared how many german athletes have double citizenships and I found out that they are 115, so about the double with respect to\n",
    "France. Also an athlete with double citizenship from France or German never won anything related to Olympic Games."
   ]
  },
  {
   "cell_type": "markdown",
   "id": "b6f9a2bb-3950-4626-908d-06a0c5040dc1",
   "metadata": {},
   "source": [
    "<h3> TASK 4 STARTS HERE </h3>\n",
    "Compare number of participations and winning events across different dimensions\n",
    "4.1 In which specific sport France has more winners than Germany\n",
    "4.2 Who has the highest number of female winners\n",
    "4.3 For each country , which are the atheletes with the highest number of participations"
   ]
  },
  {
   "cell_type": "markdown",
   "id": "57305d7f-cf9a-49db-a4e0-ad19f05810b6",
   "metadata": {},
   "source": [
    "Using TASK 1 result, try to find a BGP for winning a competition in Olympics."
   ]
  },
  {
   "cell_type": "code",
   "execution_count": 3,
   "id": "cb60c079-fa89-419c-92a5-a597b08c76c2",
   "metadata": {},
   "outputs": [
    {
     "name": "stdout",
     "output_type": "stream",
     "text": [
      "Results\n",
      "[('a', 'http://www.wikidata.org/entity/Q1174439'), ('aname', 'David Florence'), ('c', 'http://www.wikidata.org/entity/Q8567'), ('cname', '2008 Summer Olympics')]\n",
      "[('a', 'http://www.wikidata.org/entity/Q1189365'), ('aname', 'Dmitriy Dobroskok'), ('c', 'http://www.wikidata.org/entity/Q8567'), ('cname', '2008 Summer Olympics')]\n",
      "[('a', 'http://www.wikidata.org/entity/Q11156528'), ('aname', 'Matthew Wells'), ('c', 'http://www.wikidata.org/entity/Q8567'), ('cname', '2008 Summer Olympics')]\n",
      "[('a', 'http://www.wikidata.org/entity/Q127132'), ('aname', 'Paddy Barnes'), ('c', 'http://www.wikidata.org/entity/Q8567'), ('cname', '2008 Summer Olympics')]\n",
      "[('a', 'http://www.wikidata.org/entity/Q1048599'), ('aname', 'Yordenis Ugás'), ('c', 'http://www.wikidata.org/entity/Q8567'), ('cname', '2008 Summer Olympics')]\n",
      "[('a', 'http://www.wikidata.org/entity/Q1165461'), ('aname', 'Daouda Sow'), ('c', 'http://www.wikidata.org/entity/Q8567'), ('cname', '2008 Summer Olympics')]\n",
      "[('a', 'http://www.wikidata.org/entity/Q25366209'), ('aname', 'Marcell Jacobs'), ('c', 'http://www.wikidata.org/entity/Q181278'), ('cname', '2020 Summer Olympics')]\n",
      "[('a', 'http://www.wikidata.org/entity/Q241917'), ('aname', 'Faina Melnyk'), ('c', 'http://www.wikidata.org/entity/Q8438'), ('cname', '1972 Summer Olympics')]\n",
      "[('a', 'http://www.wikidata.org/entity/Q1323344'), ('aname', 'Aline Rotter-Focken'), ('c', 'http://www.wikidata.org/entity/Q181278'), ('cname', '2020 Summer Olympics')]\n",
      "[('a', 'http://www.wikidata.org/entity/Q1267138'), ('aname', 'Ruslan Tumenbaev'), ('c', 'http://www.wikidata.org/entity/Q8567'), ('cname', '2008 Summer Olympics')]\n",
      "[('a', 'http://www.wikidata.org/entity/Q1061938'), ('aname', 'Chang Yongxiang'), ('c', 'http://www.wikidata.org/entity/Q8567'), ('cname', '2008 Summer Olympics')]\n",
      "[('a', 'http://www.wikidata.org/entity/Q10058'), ('aname', 'Justine Smethurst'), ('c', 'http://www.wikidata.org/entity/Q8567'), ('cname', '2008 Summer Olympics')]\n",
      "[('a', 'http://www.wikidata.org/entity/Q10062'), ('aname', 'Laura Berg'), ('c', 'http://www.wikidata.org/entity/Q8567'), ('cname', '2008 Summer Olympics')]\n",
      "[('a', 'http://www.wikidata.org/entity/Q1273290'), ('aname', 'Jason Turner'), ('c', 'http://www.wikidata.org/entity/Q8567'), ('cname', '2008 Summer Olympics')]\n",
      "[('a', 'http://www.wikidata.org/entity/Q1204639'), ('aname', 'Oleksandr Petriv'), ('c', 'http://www.wikidata.org/entity/Q8567'), ('cname', '2008 Summer Olympics')]\n",
      "[('a', 'http://www.wikidata.org/entity/Q1094035'), ('aname', 'Gemma Beadsworth'), ('c', 'http://www.wikidata.org/entity/Q8567'), ('cname', '2008 Summer Olympics')]\n",
      "[('a', 'http://www.wikidata.org/entity/Q1281809'), ('aname', 'Slobodan Soro'), ('c', 'http://www.wikidata.org/entity/Q8567'), ('cname', '2008 Summer Olympics')]\n",
      "[('a', 'http://www.wikidata.org/entity/Q1081275'), ('aname', 'Dénes Varga'), ('c', 'http://www.wikidata.org/entity/Q8567'), ('cname', '2008 Summer Olympics')]\n",
      "[('a', 'http://www.wikidata.org/entity/Q1187717'), ('aname', 'Denis Šefik'), ('c', 'http://www.wikidata.org/entity/Q8567'), ('cname', '2008 Summer Olympics')]\n",
      "[('a', 'http://www.wikidata.org/entity/Q1274732'), ('aname', 'Filip Filipović'), ('c', 'http://www.wikidata.org/entity/Q8567'), ('cname', '2008 Summer Olympics')]\n",
      "[('a', 'http://www.wikidata.org/entity/Q1282399'), ('aname', 'Živko Gocić'), ('c', 'http://www.wikidata.org/entity/Q8567'), ('cname', '2008 Summer Olympics')]\n",
      "[('a', 'http://www.wikidata.org/entity/Q1094040'), ('aname', 'Suzie Fraser'), ('c', 'http://www.wikidata.org/entity/Q8567'), ('cname', '2008 Summer Olympics')]\n",
      "[('a', 'http://www.wikidata.org/entity/Q119562'), ('aname', 'Sergio Agüero'), ('c', 'http://www.wikidata.org/entity/Q8567'), ('cname', '2008 Summer Olympics')]\n",
      "[('a', 'http://www.wikidata.org/entity/Q1046140'), ('aname', 'Taylor Teagarden'), ('c', 'http://www.wikidata.org/entity/Q8567'), ('cname', '2008 Summer Olympics')]\n",
      "[('a', 'http://www.wikidata.org/entity/Q1057639'), ('aname', 'Lou Marson'), ('c', 'http://www.wikidata.org/entity/Q8567'), ('cname', '2008 Summer Olympics')]\n",
      "[('a', 'http://www.wikidata.org/entity/Q125826'), ('aname', 'Alina Dumitru'), ('c', 'http://www.wikidata.org/entity/Q8567'), ('cname', '2008 Summer Olympics')]\n",
      "[('a', 'http://www.wikidata.org/entity/Q117703'), ('aname', 'Ludwig Paischer'), ('c', 'http://www.wikidata.org/entity/Q8567'), ('cname', '2008 Summer Olympics')]\n",
      "[('a', 'http://www.wikidata.org/entity/Q1150190'), ('aname', 'Cédric Burdet'), ('c', 'http://www.wikidata.org/entity/Q8567'), ('cname', '2008 Summer Olympics')]\n",
      "[('a', 'http://www.wikidata.org/entity/Q1097044'), ('aname', 'Claude Onesta'), ('c', 'http://www.wikidata.org/entity/Q8567'), ('cname', '2008 Summer Olympics')]\n",
      "[('a', 'http://www.wikidata.org/entity/Q1174177'), ('aname', 'David Davis'), ('c', 'http://www.wikidata.org/entity/Q8567'), ('cname', '2008 Summer Olympics')]\n",
      "[('a', 'http://www.wikidata.org/entity/Q1059871'), ('aname', 'Yana Uskova'), ('c', 'http://www.wikidata.org/entity/Q8567'), ('cname', '2008 Summer Olympics')]\n",
      "[('a', 'http://www.wikidata.org/entity/Q1150266'), ('aname', 'Cédric Paty'), ('c', 'http://www.wikidata.org/entity/Q8567'), ('cname', '2008 Summer Olympics')]\n",
      "[('a', 'http://www.wikidata.org/entity/Q126119'), ('aname', 'Michał Jeliński'), ('c', 'http://www.wikidata.org/entity/Q8567'), ('cname', '2008 Summer Olympics')]\n",
      "[('a', 'http://www.wikidata.org/entity/Q1283673'), ('aname', 'Steve Williams'), ('c', 'http://www.wikidata.org/entity/Q8567'), ('cname', '2008 Summer Olympics')]\n",
      "[('a', 'http://www.wikidata.org/entity/Q1174097'), ('aname', 'David Crawshay'), ('c', 'http://www.wikidata.org/entity/Q8567'), ('cname', '2008 Summer Olympics')]\n",
      "[('a', 'http://www.wikidata.org/entity/Q1258722'), ('aname', 'Drew Ginn'), ('c', 'http://www.wikidata.org/entity/Q8567'), ('cname', '2008 Summer Olympics')]\n",
      "[('a', 'http://www.wikidata.org/entity/Q1265388'), ('aname', 'Duncan Free'), ('c', 'http://www.wikidata.org/entity/Q8567'), ('cname', '2008 Summer Olympics')]\n",
      "[('a', 'http://www.wikidata.org/entity/Q1072603'), ('aname', 'Chika Chukwumerije'), ('c', 'http://www.wikidata.org/entity/Q8567'), ('cname', '2008 Summer Olympics')]\n",
      "[('a', 'http://www.wikidata.org/entity/Q124327'), ('aname', 'Dante Amaral'), ('c', 'http://www.wikidata.org/entity/Q8567'), ('cname', '2008 Summer Olympics')]\n",
      "[('a', 'http://www.wikidata.org/entity/Q1151335'), ('aname', 'Fofão'), ('c', 'http://www.wikidata.org/entity/Q8567'), ('cname', '2008 Summer Olympics')]\n",
      "[('a', 'http://www.wikidata.org/entity/Q1167606'), ('aname', 'Márcio Araújo'), ('c', 'http://www.wikidata.org/entity/Q8567'), ('cname', '2008 Summer Olympics')]\n",
      "[('a', 'http://www.wikidata.org/entity/Q11728184'), ('aname', 'Jonathan Glanfield'), ('c', 'http://www.wikidata.org/entity/Q8567'), ('cname', '2008 Summer Olympics')]\n"
     ]
    },
    {
     "data": {
      "text/plain": [
       "42"
      ]
     },
     "execution_count": 3,
     "metadata": {},
     "output_type": "execute_result"
    }
   ],
   "source": [
    "#Q36\n",
    "#find a path between athletes and win in Olympic Games using TASK 1 results\n",
    "queryString = \"\"\"\n",
    "SELECT DISTINCT ?a ?aname ?c ?cname\n",
    "WHERE {\n",
    "    ?a wdt:P106/wdt:P279 wd:Q2066131; #athlete\n",
    "       wdt:P2522|wdt:P1346 ?c. #winning\n",
    "    ?c wdt:P31 wd:Q159821 . #instance of olympics\n",
    "       \n",
    "    #labels\n",
    "    ?a <http://schema.org/name> ?aname .\n",
    "    ?c <http://schema.org/name> ?cname .\n",
    "}\n",
    "LIMIT 50\n",
    "\"\"\"\n",
    "print(\"Results\")\n",
    "run_query(queryString)"
   ]
  },
  {
   "cell_type": "markdown",
   "id": "0347b988-f868-49cd-82ed-d6b4c0046e0c",
   "metadata": {},
   "source": [
    "In the last resultset there are very few results."
   ]
  },
  {
   "cell_type": "code",
   "execution_count": 6,
   "id": "3293b1b7-8f29-4f2a-b6d5-e3d2c7cd4e59",
   "metadata": {},
   "outputs": [
    {
     "name": "stdout",
     "output_type": "stream",
     "text": [
      "Results\n",
      "[('p', 'http://www.wikidata.org/prop/direct/P31'), ('pname', 'instance of')]\n",
      "[('p', 'http://www.wikidata.org/prop/direct/P2670'), ('pname', 'has parts of the class')]\n"
     ]
    },
    {
     "data": {
      "text/plain": [
       "2"
      ]
     },
     "execution_count": 6,
     "metadata": {},
     "output_type": "execute_result"
    }
   ],
   "source": [
    "#Q37\n",
    "#previous query retrived very few athletes (and also all about the same edition)\n",
    "#find new link between competition and olympics\n",
    "queryString = \"\"\"\n",
    "SELECT DISTINCT ?p ?pname\n",
    "WHERE {\n",
    "    ?a wdt:P106/wdt:P279 wd:Q2066131; #athlete\n",
    "       wdt:P2522|wdt:P1346 ?c. #winning\n",
    "    ?c ?p wd:Q159821 . #instance of olympics\n",
    "       \n",
    "    #labels\n",
    "    ?p <http://schema.org/name> ?pname .\n",
    "}\n",
    "LIMIT 50\n",
    "\"\"\"\n",
    "print(\"Results\")\n",
    "run_query(queryString)"
   ]
  },
  {
   "cell_type": "markdown",
   "id": "26a16f9a-7b88-4f83-b333-23f92e4a4581",
   "metadata": {},
   "source": [
    "Explore a competition belonging to Olympic Games."
   ]
  },
  {
   "cell_type": "code",
   "execution_count": 7,
   "id": "c0b79fe6-382b-4328-a166-2428bf1e5a45",
   "metadata": {},
   "outputs": [
    {
     "name": "stdout",
     "output_type": "stream",
     "text": [
      "Results\n",
      "[('c', 'http://www.wikidata.org/entity/Q513725'), ('cname', 'synchronized swimming at the 2000 Summer Olympics')]\n",
      "[('c', 'http://www.wikidata.org/entity/Q579844'), ('cname', 'fencing at the 2000 Summer Olympics')]\n",
      "[('c', 'http://www.wikidata.org/entity/Q847738'), ('cname', 'cycling at the 2000 Summer Olympics')]\n",
      "[('c', 'http://www.wikidata.org/entity/Q679703'), ('cname', 'judo at the 2000 Summer Olympics')]\n",
      "[('c', 'http://www.wikidata.org/entity/Q754594'), ('cname', 'wrestling at the 2000 Summer Olympics')]\n",
      "[('c', 'http://www.wikidata.org/entity/Q843711'), ('cname', 'equestrian at the 2000 Summer Olympics')]\n",
      "[('c', 'http://www.wikidata.org/entity/Q855408'), ('cname', 'canoeing at the 2000 Summer Olympics')]\n",
      "[('c', 'http://www.wikidata.org/entity/Q570002'), ('cname', 'table tennis at the 2000 Summer Olympics')]\n",
      "[('c', 'http://www.wikidata.org/entity/Q843708'), ('cname', 'shooting at the 2000 Summer Olympics')]\n",
      "[('c', 'http://www.wikidata.org/entity/Q661494'), ('cname', 'tennis at the 2000 Summer Olympics')]\n"
     ]
    },
    {
     "data": {
      "text/plain": [
       "10"
      ]
     },
     "execution_count": 7,
     "metadata": {},
     "output_type": "execute_result"
    }
   ],
   "source": [
    "#Q38\n",
    "#try to have a closer look to olympic game competition using Q19 results\n",
    "queryString = \"\"\"\n",
    "SELECT DISTINCT ?c ?cname\n",
    "WHERE {\n",
    "    \n",
    "    wd:Q8544 wdt:P527 ?c.\n",
    "\n",
    "    #labels\n",
    "    ?c <http://schema.org/name> ?cname .\n",
    "}\n",
    "LIMIT 10\n",
    "\"\"\"\n",
    "print(\"Results\")\n",
    "run_query(queryString)"
   ]
  },
  {
   "cell_type": "code",
   "execution_count": 8,
   "id": "83670fd9-d25e-4972-8178-8a294885f2ff",
   "metadata": {},
   "outputs": [
    {
     "name": "stdout",
     "output_type": "stream",
     "text": [
      "Results\n",
      "[('c', 'http://www.wikidata.org/entity/Q3628783'), ('cname', \"athletics at the 2000 Summer Olympics – men's pole vault\")]\n",
      "[('c', 'http://www.wikidata.org/entity/Q7372011'), ('cname', \"rowing at the 2000 Summer Olympics – lightweight women's double sculls\")]\n",
      "[('c', 'http://www.wikidata.org/entity/Q886703'), ('cname', \"gymnastics at the 2000 Summer Olympics – men's vault\")]\n",
      "[('c', 'http://www.wikidata.org/entity/Q942211'), ('cname', \"tennis at the 2000 Summer Olympics – women's doubles\")]\n",
      "[('c', 'http://www.wikidata.org/entity/Q942244'), ('cname', \"tennis at the 2000 Summer Olympics – women's singles\")]\n",
      "[('c', 'http://www.wikidata.org/entity/Q7979999'), ('cname', \"weightlifting at the 2000 Summer Olympics – men's 85 kg\")]\n",
      "[('c', 'http://www.wikidata.org/entity/Q1856784'), ('cname', \"cycling at the 2000 Summer Olympics – men's cross-country\")]\n",
      "[('c', 'http://www.wikidata.org/entity/Q3879605'), ('cname', \"swimming at the 2000 Summer Olympics – women's 4 × 100 metre medley relay\")]\n",
      "[('c', 'http://www.wikidata.org/entity/Q4951842'), ('cname', 'boxing at the 2000 Summer Olympics – light heavyweight')]\n",
      "[('c', 'http://www.wikidata.org/entity/Q5033076'), ('cname', \"canoeing at the 2000 Summer Olympics – men's C-2 500 metres\")]\n"
     ]
    },
    {
     "data": {
      "text/plain": [
       "10"
      ]
     },
     "execution_count": 8,
     "metadata": {},
     "output_type": "execute_result"
    }
   ],
   "source": [
    "#Q39\n",
    "#try to have a closer look to olympic game competition using Q19 results\n",
    "queryString = \"\"\"\n",
    "SELECT DISTINCT ?c ?cname\n",
    "WHERE {\n",
    "    \n",
    "    wd:Q8544 wdt:P527/wdt:P527 ?c.\n",
    "\n",
    "    #labels\n",
    "    ?c <http://schema.org/name> ?cname .\n",
    "}\n",
    "LIMIT 10\n",
    "\"\"\"\n",
    "print(\"Results\")\n",
    "run_query(queryString)"
   ]
  },
  {
   "cell_type": "markdown",
   "id": "37e18e31-2e23-4a1b-a6b5-291e10568fa4",
   "metadata": {},
   "source": [
    "Try the reserve path: from Olympics to athletes."
   ]
  },
  {
   "cell_type": "code",
   "execution_count": 9,
   "id": "ae192428-c326-48ee-8c2a-996fb6aa5d20",
   "metadata": {},
   "outputs": [
    {
     "name": "stdout",
     "output_type": "stream",
     "text": [
      "Results\n",
      "[('p', 'http://www.wikidata.org/prop/direct/P1346'), ('pname', 'winner')]\n",
      "[('p', 'http://www.wikidata.org/prop/direct/P545'), ('pname', 'torch lit by')]\n",
      "[('p', 'http://www.wikidata.org/prop/direct/P710'), ('pname', 'participant')]\n",
      "[('p', 'http://www.wikidata.org/prop/direct/P3279'), ('pname', 'statistical leader')]\n",
      "[('p', 'http://www.wikidata.org/prop/direct/P543'), ('pname', 'oath made by')]\n",
      "[('p', 'http://www.wikidata.org/prop/direct/P542'), ('pname', 'officially opened by')]\n",
      "[('p', 'http://www.wikidata.org/prop/direct/P2321'), ('pname', 'general classification of race participants')]\n",
      "[('p', 'http://www.wikidata.org/prop/direct/P3342'), ('pname', 'significant person')]\n"
     ]
    },
    {
     "data": {
      "text/plain": [
       "8"
      ]
     },
     "execution_count": 9,
     "metadata": {},
     "output_type": "execute_result"
    }
   ],
   "source": [
    "#Q40\n",
    "#start from Summer Olympics and check the connection with athletes\n",
    "queryString = \"\"\"\n",
    "SELECT DISTINCT ?p ?pname\n",
    "WHERE {\n",
    "    \n",
    "    wd:Q159821 wdt:P527* ?c.\n",
    "    ?c ?p ?a.\n",
    "    ?a wdt:P106/wdt:P279 wd:Q2066131. #athlete\n",
    "\n",
    "    #labels\n",
    "    ?p <http://schema.org/name> ?pname .\n",
    "}\n",
    "LIMIT 10\n",
    "\"\"\"\n",
    "print(\"Results\")\n",
    "run_query(queryString)"
   ]
  },
  {
   "cell_type": "markdown",
   "id": "d4746b5b-2f5f-4bb7-8f29-45836424652c",
   "metadata": {},
   "source": [
    "Retrieve some olympic competitions and their winners using P1346 found earlier."
   ]
  },
  {
   "cell_type": "code",
   "execution_count": 14,
   "id": "9fca7fcf-3434-4657-b1d3-63e904772f11",
   "metadata": {},
   "outputs": [
    {
     "name": "stdout",
     "output_type": "stream",
     "text": [
      "Results\n",
      "[('cname', \"wrestling at the 1952 Summer Olympics – men's Greco-Roman light heavyweight\"), ('aname', 'Kelpo Gröndahl')]\n",
      "[('cname', \"wrestling at the 1948 Summer Olympics – men's Greco-Roman light heavyweight\"), ('aname', 'Karl-Erik Nilsson')]\n",
      "[('cname', \"wrestling at the 1948 Summer Olympics – men's Greco-Roman featherweight\"), ('aname', 'Mehmet Oktav')]\n",
      "[('cname', \"wrestling at the 1948 Summer Olympics – men's freestyle featherweight\"), ('aname', 'Gazanfer Bilge')]\n",
      "[('cname', \"fencing at the 1948 Summer Olympics – men's sabre\"), ('aname', 'Aladár Gerevich')]\n",
      "[('cname', \"shooting at the 1984 Summer Olympics – men's 50 metre rifle three positions\"), ('aname', 'Malcolm Cooper')]\n",
      "[('cname', \"athletics at the 1984 Summer Olympics – women's long jump\"), ('aname', 'Anișoara Cușmir-Stanciu')]\n",
      "[('cname', \"rowing at the 1984 Summer Olympics – men's coxless pair\"), ('aname', 'Petru Iosub')]\n",
      "[('cname', 'boxing at the 1952 Summer Olympics – light middleweight'), ('aname', 'László Papp')]\n",
      "[('cname', 'boxing at the 1956 Summer Olympics – light middleweight'), ('aname', 'László Papp')]\n"
     ]
    },
    {
     "data": {
      "text/plain": [
       "10"
      ]
     },
     "execution_count": 14,
     "metadata": {},
     "output_type": "execute_result"
    }
   ],
   "source": [
    "#Q41\n",
    "#start from Summer Olympics and check the connection with athletes\n",
    "queryString = \"\"\"\n",
    "SELECT DISTINCT ?cname ?aname\n",
    "WHERE {\n",
    "    \n",
    "    wd:Q159821 wdt:P527* ?c.\n",
    "    ?c wdt:P1346 ?a.\n",
    "    ?a wdt:P106/wdt:P279 wd:Q2066131. #athlete\n",
    "\n",
    "    #labels\n",
    "    ?c <http://schema.org/name> ?cname .\n",
    "    ?a <http://schema.org/name> ?aname .\n",
    "}\n",
    "LIMIT 10\n",
    "\"\"\"\n",
    "print(\"Results\")\n",
    "run_query(queryString)"
   ]
  },
  {
   "cell_type": "markdown",
   "id": "0631d9cd-7d89-45f8-905a-cdd060b161c2",
   "metadata": {},
   "source": [
    "For each sport, retrieve how mnay french athletes won a gold medal ."
   ]
  },
  {
   "cell_type": "code",
   "execution_count": 15,
   "id": "0f331390-a7ec-4446-ac27-315434a63ff1",
   "metadata": {},
   "outputs": [
    {
     "name": "stdout",
     "output_type": "stream",
     "text": [
      "Results\n",
      "[('NumberOfWinners', '9'), ('Sport', 'http://www.wikidata.org/entity/Q14085739')]\n",
      "[('NumberOfWinners', '14'), ('Sport', 'http://www.wikidata.org/entity/Q206989')]\n",
      "[('NumberOfWinners', '6'), ('Sport', 'http://www.wikidata.org/entity/Q108429')]\n",
      "[('NumberOfWinners', '7'), ('Sport', 'http://www.wikidata.org/entity/Q159354')]\n",
      "[('NumberOfWinners', '6'), ('Sport', 'http://www.wikidata.org/entity/Q213934')]\n",
      "[('NumberOfWinners', '2'), ('Sport', 'http://www.wikidata.org/entity/Q42486')]\n",
      "[('NumberOfWinners', '2'), ('Sport', 'http://www.wikidata.org/entity/Q215184')]\n",
      "[('NumberOfWinners', '82'), ('Sport', 'http://www.wikidata.org/entity/Q221635')]\n",
      "[('NumberOfWinners', '8'), ('Sport', 'http://www.wikidata.org/entity/Q847')]\n",
      "[('NumberOfWinners', '4'), ('Sport', 'http://www.wikidata.org/entity/Q32112')]\n",
      "[('NumberOfWinners', '1'), ('Sport', 'http://www.wikidata.org/entity/Q31874')]\n",
      "[('NumberOfWinners', '34'), ('Sport', 'http://www.wikidata.org/entity/Q3609')]\n",
      "[('NumberOfWinners', '1'), ('Sport', 'http://www.wikidata.org/entity/Q902378')]\n",
      "[('NumberOfWinners', '2'), ('Sport', 'http://www.wikidata.org/entity/Q520611')]\n",
      "[('NumberOfWinners', '15'), ('Sport', 'http://www.wikidata.org/entity/Q2215841')]\n",
      "[('NumberOfWinners', '15'), ('Sport', 'http://www.wikidata.org/entity/Q11420')]\n",
      "[('NumberOfWinners', '3'), ('Sport', 'http://www.wikidata.org/entity/Q389654')]\n",
      "[('NumberOfWinners', '43'), ('Sport', 'http://www.wikidata.org/entity/Q12100')]\n",
      "[('NumberOfWinners', '3'), ('Sport', 'http://www.wikidata.org/entity/Q193387')]\n",
      "[('NumberOfWinners', '16'), ('Sport', 'http://www.wikidata.org/entity/Q542')]\n",
      "[('NumberOfWinners', '7'), ('Sport', 'http://www.wikidata.org/entity/Q31920')]\n"
     ]
    },
    {
     "data": {
      "text/plain": [
       "21"
      ]
     },
     "execution_count": 15,
     "metadata": {},
     "output_type": "execute_result"
    }
   ],
   "source": [
    "#Q42\n",
    "#count for each sport the number of french winners\n",
    "queryString = \"\"\"\n",
    "SELECT (COUNT(?a) AS ?NumberOfWinners) (?s AS ?Sport)\n",
    "WHERE {\n",
    "    \n",
    "    wd:Q159821 wdt:P527* ?c.\n",
    "    ?c wdt:P1346 ?a; #winner\n",
    "       wdt:P641  ?s. #sport\n",
    "       \n",
    "    ?a wdt:P106/wdt:P279 wd:Q2066131; #athlete\n",
    "       wdt:P27 wd:Q142. \n",
    "}\n",
    "GROUP BY (?s)\n",
    "\"\"\"\n",
    "print(\"Results\")\n",
    "run_query(queryString)"
   ]
  },
  {
   "cell_type": "markdown",
   "id": "163f89ee-3d6d-439d-a5d8-dbee2a5afda4",
   "metadata": {},
   "source": [
    "Retrieve the sports where France has more winners than Germany."
   ]
  },
  {
   "cell_type": "code",
   "execution_count": 6,
   "id": "7d3ff5f3-ee42-4564-a421-f3579a07b59c",
   "metadata": {},
   "outputs": [
    {
     "name": "stdout",
     "output_type": "stream",
     "text": [
      "Results\n",
      "[('Sport', 'http://www.wikidata.org/entity/Q847'), ('Sportname', 'tennis')]\n",
      "[('Sport', 'http://www.wikidata.org/entity/Q11420'), ('Sportname', 'judo')]\n",
      "[('Sport', 'http://www.wikidata.org/entity/Q12100'), ('Sportname', 'fencing')]\n",
      "[('Sport', 'http://www.wikidata.org/entity/Q14085739'), ('Sportname', 'sailing')]\n",
      "[('Sport', 'http://www.wikidata.org/entity/Q520611'), ('Sportname', 'mountain biking')]\n"
     ]
    },
    {
     "data": {
      "text/plain": [
       "5"
      ]
     },
     "execution_count": 6,
     "metadata": {},
     "output_type": "execute_result"
    }
   ],
   "source": [
    "#TASK 4.1: In which specific sport France has more winners than Germany\n",
    "#compare french winners with german ones\n",
    "queryString = \"\"\"\n",
    "SELECT ?Sport ?Sportname{\n",
    "{\n",
    "  SELECT (COUNT(DISTINCT ?f) AS ?NFrench) (?s AS ?Sport)\n",
    "  WHERE {\n",
    "    \n",
    "      wd:Q159821 wdt:P527* ?c.\n",
    "      ?c wdt:P1346 ?f; #winner\n",
    "         wdt:P641  ?s. #sport\n",
    "       \n",
    "      ?f wdt:P106/wdt:P279 wd:Q2066131; #french\n",
    "         wdt:P27 wd:Q142. \n",
    "  }\n",
    "  GROUP BY (?s)\n",
    "  }\n",
    "\n",
    "  {\n",
    "  SELECT (COUNT(DISTINCT ?g) AS ?NGerman) (?s AS ?Sport)\n",
    "  WHERE {\n",
    "    \n",
    "      wd:Q159821 wdt:P527* ?c.\n",
    "      ?c wdt:P1346 ?g; #winner\n",
    "         wdt:P641  ?s. #sport\n",
    "       \n",
    "      ?g wdt:P106/wdt:P279 wd:Q2066131; #german\n",
    "         wdt:P27 wd:Q183. \n",
    "  }\n",
    "  GROUP BY (?s)\n",
    "  }\n",
    "  FILTER(?NFrench > ?NGerman)\n",
    "  \n",
    "   #labels\n",
    "   ?Sport <http://schema.org/name> ?Sportname .\n",
    "}\n",
    "\"\"\"\n",
    "print(\"Results\")\n",
    "run_query(queryString)"
   ]
  },
  {
   "cell_type": "markdown",
   "id": "00cc9cab-f62f-4707-ba0d-31178858fea2",
   "metadata": {},
   "source": [
    "Looking for female winners."
   ]
  },
  {
   "cell_type": "code",
   "execution_count": 2,
   "id": "5b6eded8-f8fd-4e20-bfee-2c4e627fc5ec",
   "metadata": {},
   "outputs": [
    {
     "name": "stdout",
     "output_type": "stream",
     "text": [
      "Results\n",
      "[('cname', \"wrestling at the 1952 Summer Olympics – men's Greco-Roman light heavyweight\"), ('aname', 'Kelpo Gröndahl'), ('a', 'http://www.wikidata.org/entity/Q715090')]\n",
      "[('cname', \"wrestling at the 1948 Summer Olympics – men's Greco-Roman light heavyweight\"), ('aname', 'Karl-Erik Nilsson'), ('a', 'http://www.wikidata.org/entity/Q645996')]\n",
      "[('cname', \"wrestling at the 1948 Summer Olympics – men's Greco-Roman featherweight\"), ('aname', 'Mehmet Oktav'), ('a', 'http://www.wikidata.org/entity/Q710110')]\n",
      "[('cname', \"wrestling at the 1948 Summer Olympics – men's freestyle featherweight\"), ('aname', 'Gazanfer Bilge'), ('a', 'http://www.wikidata.org/entity/Q1372262')]\n",
      "[('cname', \"fencing at the 1948 Summer Olympics – men's sabre\"), ('aname', 'Aladár Gerevich'), ('a', 'http://www.wikidata.org/entity/Q312971')]\n",
      "[('cname', \"shooting at the 1984 Summer Olympics – men's 50 metre rifle three positions\"), ('aname', 'Malcolm Cooper'), ('a', 'http://www.wikidata.org/entity/Q1360937')]\n",
      "[('cname', \"athletics at the 1984 Summer Olympics – women's long jump\"), ('aname', 'Anișoara Cușmir-Stanciu'), ('a', 'http://www.wikidata.org/entity/Q242871')]\n",
      "[('cname', \"rowing at the 1984 Summer Olympics – men's coxless pair\"), ('aname', 'Petru Iosub'), ('a', 'http://www.wikidata.org/entity/Q7179175')]\n",
      "[('cname', 'boxing at the 1952 Summer Olympics – light middleweight'), ('aname', 'László Papp'), ('a', 'http://www.wikidata.org/entity/Q296473')]\n",
      "[('cname', 'boxing at the 1956 Summer Olympics – light middleweight'), ('aname', 'László Papp'), ('a', 'http://www.wikidata.org/entity/Q296473')]\n",
      "[('cname', \"swimming at the 1896 Summer Olympics – men's 1200 metre freestyle\"), ('aname', 'Alfréd Hajós'), ('a', 'http://www.wikidata.org/entity/Q313443')]\n",
      "[('cname', \"tennis at the 1896 Summer Olympics – men's singles\"), ('aname', 'John Pius Boland'), ('a', 'http://www.wikidata.org/entity/Q319754')]\n",
      "[('cname', \"swimming at the 1984 Summer Olympics – women's 200 metre breaststroke\"), ('aname', 'Anne Ottenbrite'), ('a', 'http://www.wikidata.org/entity/Q434504')]\n",
      "[('cname', \"fencing at the 1956 Summer Olympics – men's foil\"), ('aname', \"Christian d'Oriola\"), ('a', 'http://www.wikidata.org/entity/Q443142')]\n",
      "[('cname', \"wrestling at the 1984 Summer Olympics – men's Greco-Roman 52 kg\"), ('aname', 'Atsuji Miyahara'), ('a', 'http://www.wikidata.org/entity/Q757791')]\n",
      "[('cname', \"fencing at the 1948 Summer Olympics – men's foil\"), ('aname', 'Jehan Buhan'), ('a', 'http://www.wikidata.org/entity/Q1674431')]\n",
      "[('cname', \"fencing at the 1952 Summer Olympics – men's foil\"), ('aname', \"Christian d'Oriola\"), ('a', 'http://www.wikidata.org/entity/Q443142')]\n",
      "[('cname', \"swimming at the 1984 Summer Olympics – women's 100 metre backstroke\"), ('aname', 'Theresa Andrews'), ('a', 'http://www.wikidata.org/entity/Q287393')]\n",
      "[('cname', \"swimming at the 1984 Summer Olympics – women's 200 metre backstroke\"), ('aname', 'Jolanda de Rover'), ('a', 'http://www.wikidata.org/entity/Q448129')]\n",
      "[('cname', \"athletics at the 1984 Summer Olympics – men's discus throw\"), ('aname', 'Rolf Danneberg'), ('a', 'http://www.wikidata.org/entity/Q448060')]\n"
     ]
    },
    {
     "data": {
      "text/plain": [
       "20"
      ]
     },
     "execution_count": 2,
     "metadata": {},
     "output_type": "execute_result"
    }
   ],
   "source": [
    "#Q43\n",
    "#looking for female winners\n",
    "queryString = \"\"\"\n",
    "SELECT DISTINCT ?cname ?aname ?a\n",
    "WHERE {\n",
    "    \n",
    "    wd:Q159821 wdt:P527* ?c.\n",
    "    ?c wdt:P1346 ?a.\n",
    "    ?a wdt:P106/wdt:P279 wd:Q2066131. #athlete\n",
    "\n",
    "    #labels\n",
    "    ?c <http://schema.org/name> ?cname .\n",
    "    ?a <http://schema.org/name> ?aname .\n",
    "}\n",
    "LIMIT 20\n",
    "\"\"\"\n",
    "print(\"Results\")\n",
    "run_query(queryString)"
   ]
  },
  {
   "cell_type": "markdown",
   "id": "cb465e97-216e-4bd2-b16d-dfb581f81457",
   "metadata": {},
   "source": [
    "Looking for gender/sex property on Q448129 found above."
   ]
  },
  {
   "cell_type": "code",
   "execution_count": 3,
   "id": "c44504aa-e82b-40b2-9424-c8aa8f81e94d",
   "metadata": {},
   "outputs": [
    {
     "name": "stdout",
     "output_type": "stream",
     "text": [
      "Results\n",
      "[('p', 'http://www.wikidata.org/prop/direct/P3408'), ('pname', 'FINA athlete ID')]\n",
      "[('p', 'http://www.wikidata.org/prop/direct/P106'), ('pname', 'occupation')]\n",
      "[('p', 'http://www.wikidata.org/prop/direct/P1344'), ('pname', 'participant in')]\n",
      "[('p', 'http://www.wikidata.org/prop/direct/P1447'), ('pname', 'Sports-Reference.com Olympic athlete ID')]\n",
      "[('p', 'http://www.wikidata.org/prop/direct/P1741'), ('pname', 'GTAA ID')]\n",
      "[('p', 'http://www.wikidata.org/prop/direct/P18'), ('pname', 'image')]\n",
      "[('p', 'http://www.wikidata.org/prop/direct/P19'), ('pname', 'place of birth')]\n",
      "[('p', 'http://www.wikidata.org/prop/direct/P2048'), ('pname', 'height')]\n",
      "[('p', 'http://www.wikidata.org/prop/direct/P21'), ('pname', 'sex or gender')]\n",
      "[('p', 'http://www.wikidata.org/prop/direct/P27'), ('pname', 'country of citizenship')]\n",
      "[('p', 'http://www.wikidata.org/prop/direct/P31'), ('pname', 'instance of')]\n",
      "[('p', 'http://www.wikidata.org/prop/direct/P373'), ('pname', 'Commons category')]\n",
      "[('p', 'http://www.wikidata.org/prop/direct/P40'), ('pname', 'child')]\n",
      "[('p', 'http://www.wikidata.org/prop/direct/P569'), ('pname', 'date of birth')]\n",
      "[('p', 'http://www.wikidata.org/prop/direct/P641'), ('pname', 'sport')]\n",
      "[('p', 'http://www.wikidata.org/prop/direct/P646'), ('pname', 'Freebase ID')]\n",
      "[('p', 'http://www.wikidata.org/prop/direct/P735'), ('pname', 'given name')]\n",
      "[('p', 'http://www.wikidata.org/prop/direct/P8286'), ('pname', 'Olympedia people ID')]\n"
     ]
    },
    {
     "data": {
      "text/plain": [
       "18"
      ]
     },
     "execution_count": 3,
     "metadata": {},
     "output_type": "execute_result"
    }
   ],
   "source": [
    "#Q44\n",
    "#looking for gender/sex property on Q448129 found above\n",
    "queryString = \"\"\"\n",
    "SELECT DISTINCT ?p ?pname\n",
    "WHERE {\n",
    "    \n",
    "    wd:Q448129 ?p ?o.\n",
    "\n",
    "    #labels\n",
    "    ?p <http://schema.org/name> ?pname .\n",
    "}\n",
    "\"\"\"\n",
    "print(\"Results\")\n",
    "run_query(queryString)"
   ]
  },
  {
   "cell_type": "markdown",
   "id": "23557fca-fdf4-41b2-9827-cdbb70afe1f6",
   "metadata": {},
   "source": [
    "The BGP to identify a female."
   ]
  },
  {
   "cell_type": "code",
   "execution_count": 2,
   "id": "feeb87cd-27a5-43b8-a134-c2e02f264010",
   "metadata": {},
   "outputs": [
    {
     "name": "stdout",
     "output_type": "stream",
     "text": [
      "Results\n",
      "[('o', 'http://www.wikidata.org/entity/Q6581072'), ('oname', 'female')]\n"
     ]
    },
    {
     "data": {
      "text/plain": [
       "1"
      ]
     },
     "execution_count": 2,
     "metadata": {},
     "output_type": "execute_result"
    }
   ],
   "source": [
    "#Q45\n",
    "#gender/sex property (P21)\n",
    "queryString = \"\"\"\n",
    "SELECT DISTINCT ?o ?oname\n",
    "WHERE {\n",
    "    \n",
    "    wd:Q448129 wdt:P21 ?o.\n",
    "\n",
    "    #labels\n",
    "    ?o <http://schema.org/name> ?oname .\n",
    "}\n",
    "LIMIT 10\n",
    "\"\"\"\n",
    "print(\"Results\")\n",
    "run_query(queryString)"
   ]
  },
  {
   "cell_type": "markdown",
   "id": "50f73adb-8a64-4312-b8f6-01e3f161cf79",
   "metadata": {},
   "source": [
    "Retrieve some french female winners."
   ]
  },
  {
   "cell_type": "code",
   "execution_count": 4,
   "id": "44cca7da-e195-4c6f-8765-419c8b24a4da",
   "metadata": {},
   "outputs": [
    {
     "name": "stdout",
     "output_type": "stream",
     "text": [
      "Results\n",
      "[('a', 'http://www.wikidata.org/entity/Q1528051'), ('aname', 'Marie Décugis')]\n",
      "[('a', 'http://www.wikidata.org/entity/Q241577'), ('aname', 'Marguerite Broquedis')]\n",
      "[('a', 'http://www.wikidata.org/entity/Q432388'), ('aname', 'Pascale Trinquet')]\n",
      "[('a', 'http://www.wikidata.org/entity/Q201365'), ('aname', 'Micheline Ostermeyer')]\n",
      "[('a', 'http://www.wikidata.org/entity/Q201365'), ('aname', 'Micheline Ostermeyer')]\n",
      "[('a', 'http://www.wikidata.org/entity/Q201365'), ('aname', 'Micheline Ostermeyer')]\n",
      "[('a', 'http://www.wikidata.org/entity/Q201365'), ('aname', 'Micheline Ostermeyer')]\n",
      "[('a', 'http://www.wikidata.org/entity/Q432388'), ('aname', 'Pascale Trinquet')]\n",
      "[('a', 'http://www.wikidata.org/entity/Q269722'), ('aname', 'Julie Bresset')]\n",
      "[('a', 'http://www.wikidata.org/entity/Q45659'), ('aname', 'Laure Manaudou')]\n"
     ]
    },
    {
     "data": {
      "text/plain": [
       "10"
      ]
     },
     "execution_count": 4,
     "metadata": {},
     "output_type": "execute_result"
    }
   ],
   "source": [
    "#Q46\n",
    "#add female property (wdt:P21 wd:Q6581072) found above on Q42\n",
    "queryString = \"\"\"\n",
    "SELECT DISTINCT ?a ?aname\n",
    "WHERE {\n",
    "    \n",
    "    wd:Q159821 wdt:P527* ?c.\n",
    "    ?c wdt:P1346 ?a; #winner\n",
    "       wdt:P641  ?s. #sport\n",
    "       \n",
    "    ?a wdt:P106/wdt:P279 wd:Q2066131; #athlete\n",
    "       wdt:P27 wd:Q142;               #french\n",
    "       wdt:P21 wd:Q6581072.           #female\n",
    "       \n",
    "        #labels\n",
    "        ?a <http://schema.org/name> ?aname .\n",
    "}\n",
    "LIMIT 10\n",
    "\"\"\"\n",
    "print(\"Results\")\n",
    "run_query(queryString)"
   ]
  },
  {
   "cell_type": "code",
   "execution_count": 5,
   "id": "06e7b8b8-36e5-472a-b32f-a1b3c7c54147",
   "metadata": {},
   "outputs": [
    {
     "name": "stdout",
     "output_type": "stream",
     "text": [
      "Results\n",
      "[('a', 'http://www.wikidata.org/entity/Q1528051'), ('aname', 'Marie Décugis')]\n",
      "[('a', 'http://www.wikidata.org/entity/Q241577'), ('aname', 'Marguerite Broquedis')]\n",
      "[('a', 'http://www.wikidata.org/entity/Q432388'), ('aname', 'Pascale Trinquet')]\n",
      "[('a', 'http://www.wikidata.org/entity/Q201365'), ('aname', 'Micheline Ostermeyer')]\n",
      "[('a', 'http://www.wikidata.org/entity/Q269722'), ('aname', 'Julie Bresset')]\n",
      "[('a', 'http://www.wikidata.org/entity/Q45659'), ('aname', 'Laure Manaudou')]\n",
      "[('a', 'http://www.wikidata.org/entity/Q233488'), ('aname', 'Colette Besson')]\n",
      "[('a', 'http://www.wikidata.org/entity/Q229085'), ('aname', 'Françoise Mbango Etone')]\n",
      "[('a', 'http://www.wikidata.org/entity/Q240002'), ('aname', 'Lucie Décosse')]\n",
      "[('a', 'http://www.wikidata.org/entity/Q232831'), ('aname', 'Suzanne Lenglen')]\n"
     ]
    },
    {
     "data": {
      "text/plain": [
       "10"
      ]
     },
     "execution_count": 5,
     "metadata": {},
     "output_type": "execute_result"
    }
   ],
   "source": [
    "#Q47\n",
    "#add female property (wdt:P21 wd:Q6581072) found above on Q42\n",
    "queryString = \"\"\"\n",
    "SELECT DISTINCT ?a ?aname\n",
    "WHERE {\n",
    "    \n",
    "    wd:Q159821 wdt:P527* ?c.\n",
    "    ?c wdt:P1346 ?a; #winner\n",
    "       wdt:P641  ?s. #sport\n",
    "       \n",
    "    ?a wdt:P106/wdt:P279 wd:Q2066131; #athlete\n",
    "       wdt:P27 wd:Q142;               #french\n",
    "       wdt:P21 wd:Q6581072.           #female\n",
    "       \n",
    "        #labels\n",
    "        ?a <http://schema.org/name> ?aname .\n",
    "}\n",
    "LIMIT 10\n",
    "\"\"\"\n",
    "print(\"Results\")\n",
    "run_query(queryString)"
   ]
  },
  {
   "cell_type": "markdown",
   "id": "bb10d030-6ae7-468f-a334-f5df5c93ebcd",
   "metadata": {},
   "source": [
    "Compare the number of female winners between France and Germany."
   ]
  },
  {
   "cell_type": "code",
   "execution_count": 7,
   "id": "d870a124-1482-4161-83bb-6f2a4c2c9198",
   "metadata": {},
   "outputs": [
    {
     "name": "stdout",
     "output_type": "stream",
     "text": [
      "Results\n",
      "[('NFrench', '30'), ('NGerman', '98')]\n"
     ]
    },
    {
     "data": {
      "text/plain": [
       "1"
      ]
     },
     "execution_count": 7,
     "metadata": {},
     "output_type": "execute_result"
    }
   ],
   "source": [
    "#TASK 4.2 Who has the highest number of female winners\n",
    "#compare french winners with german ones\n",
    "queryString = \"\"\"\n",
    "SELECT ?NFrench ?NGerman{\n",
    "{\n",
    "  SELECT (COUNT(DISTINCT ?f) AS ?NFrench)\n",
    "  WHERE {\n",
    "    \n",
    "      wd:Q159821 wdt:P527* ?c.\n",
    "      ?c wdt:P1346 ?f. #winner\n",
    "       \n",
    "      ?f wdt:P106/wdt:P279 wd:Q2066131; #french\n",
    "         wdt:P27 wd:Q142;\n",
    "         wdt:P21 wd:Q6581072.           #female\n",
    "  }\n",
    "\n",
    "  }\n",
    "\n",
    "  {\n",
    "  SELECT (COUNT( DISTINCT ?g) AS ?NGerman)\n",
    "  WHERE {\n",
    "    \n",
    "      wd:Q159821 wdt:P527* ?c.\n",
    "      ?c wdt:P1346 ?g. #winner\n",
    "       \n",
    "      ?g wdt:P106/wdt:P279 wd:Q2066131; #german\n",
    "         wdt:P27 wd:Q183;\n",
    "         wdt:P21 wd:Q6581072.           #female\n",
    "  }\n",
    "\n",
    "  }  \n",
    "  \n",
    "}\n",
    "\"\"\"\n",
    "print(\"Results\")\n",
    "run_query(queryString)"
   ]
  },
  {
   "cell_type": "markdown",
   "id": "7a844c1c-3af1-4312-b1b6-5b8e7fa97036",
   "metadata": {},
   "source": [
    "Look if France has more female winners than Germany in any sport."
   ]
  },
  {
   "cell_type": "code",
   "execution_count": 10,
   "id": "403e6ed1-d84e-42e4-b1df-9e428cab9a45",
   "metadata": {},
   "outputs": [
    {
     "name": "stdout",
     "output_type": "stream",
     "text": [
      "Results\n",
      "[('Sport', 'http://www.wikidata.org/entity/Q11420'), ('Sportname', 'judo')]\n"
     ]
    },
    {
     "data": {
      "text/plain": [
       "1"
      ]
     },
     "execution_count": 10,
     "metadata": {},
     "output_type": "execute_result"
    }
   ],
   "source": [
    "#ADDITIONAL ON TASK 4.2: looking if french has more female winners in any sport\n",
    "queryString = \"\"\"\n",
    "SELECT ?Sport ?Sportname{\n",
    "{\n",
    "  SELECT (COUNT(DISTINCT ?f) AS ?NFrench) (?s AS ?Sport)\n",
    "  WHERE {\n",
    "    \n",
    "      wd:Q159821 wdt:P527* ?c.\n",
    "      ?c wdt:P1346 ?f; #winner\n",
    "         wdt:P641  ?s. #sport\n",
    "       \n",
    "      ?f wdt:P106/wdt:P279 wd:Q2066131; #french\n",
    "         wdt:P27 wd:Q142;\n",
    "         wdt:P21 wd:Q6581072.           #female\n",
    "  }\n",
    "  GROUP BY (?s)\n",
    "  }\n",
    "\n",
    "  {\n",
    "  SELECT (COUNT(DISTINCT ?g) AS ?NGerman) (?s AS ?Sport)\n",
    "  WHERE {\n",
    "    \n",
    "      wd:Q159821 wdt:P527* ?c.\n",
    "      ?c wdt:P1346 ?g; #winner\n",
    "         wdt:P641  ?s. #sport\n",
    "       \n",
    "      ?g wdt:P106/wdt:P279 wd:Q2066131; #german\n",
    "         wdt:P27 wd:Q183;\n",
    "         wdt:P21 wd:Q6581072.           #female\n",
    "  }\n",
    "  GROUP BY (?s)\n",
    "  }\n",
    "  FILTER(?NFrench > ?NGerman)\n",
    "  \n",
    "   #labels\n",
    "   ?Sport <http://schema.org/name> ?Sportname .\n",
    "}\n",
    "\"\"\"\n",
    "print(\"Results\")\n",
    "run_query(queryString)"
   ]
  },
  {
   "cell_type": "code",
   "execution_count": 11,
   "id": "ee693bef-2aa7-4929-aa90-7dcce545e776",
   "metadata": {},
   "outputs": [
    {
     "name": "stdout",
     "output_type": "stream",
     "text": [
      "Results\n",
      "[('a', 'http://www.wikidata.org/entity/Q13639919'), ('aname', 'Joseph Goubert'), ('oname', '1936 Summer Olympics')]\n",
      "[('a', 'http://www.wikidata.org/entity/Q30133063'), ('aname', 'Paul Bronner'), ('oname', '1936 Summer Olympics')]\n",
      "[('a', 'http://www.wikidata.org/entity/Q5079280'), ('aname', 'Charles Imbault'), ('oname', '1936 Summer Olympics')]\n",
      "[('a', 'http://www.wikidata.org/entity/Q5373240'), ('aname', 'Emmanuel Gonat'), ('oname', '1936 Summer Olympics')]\n",
      "[('a', 'http://www.wikidata.org/entity/Q168971'), ('aname', 'Robert Dorgebray'), ('oname', '1936 Summer Olympics')]\n",
      "[('a', 'http://www.wikidata.org/entity/Q2356350'), ('aname', 'René Bougnol'), ('oname', '1936 Summer Olympics')]\n",
      "[('a', 'http://www.wikidata.org/entity/Q2357548'), ('aname', 'René Bondoux'), ('oname', '1936 Summer Olympics')]\n",
      "[('a', 'http://www.wikidata.org/entity/Q3092463'), ('aname', 'Félix Grimonprez'), ('oname', '1936 Summer Olympics')]\n",
      "[('a', 'http://www.wikidata.org/entity/Q2960736'), ('aname', 'Charles des Jamonières'), ('oname', '1936 Summer Olympics')]\n",
      "[('a', 'http://www.wikidata.org/entity/Q6836605'), ('aname', 'Michel Verkindère'), ('oname', '1936 Summer Olympics')]\n"
     ]
    },
    {
     "data": {
      "text/plain": [
       "10"
      ]
     },
     "execution_count": 11,
     "metadata": {},
     "output_type": "execute_result"
    }
   ],
   "source": [
    "#Q48\n",
    "#in previous task we found the BGP for participating in competition\n",
    "\n",
    "queryString = \"\"\"\n",
    "SELECT DISTINCT ?a ?aname ?oname\n",
    "WHERE {\n",
    "       \n",
    "    ?a wdt:P106/wdt:P279 wd:Q2066131; #athlete\n",
    "       wdt:P27 wd:Q142;               #french\n",
    "       wdt:P710|wdt:P1344 ?o.\n",
    "       \n",
    "       ?o wdt:P31 wd:Q159821.\n",
    "       \n",
    "        #labels\n",
    "        ?a <http://schema.org/name> ?aname .\n",
    "        ?o <http://schema.org/name> ?oname .\n",
    "}\n",
    "LIMIT 10\n",
    "\"\"\"\n",
    "print(\"Results\")\n",
    "run_query(queryString)"
   ]
  },
  {
   "cell_type": "code",
   "execution_count": 12,
   "id": "6ccaeac9-3448-41d5-a2f5-8778ac2b3331",
   "metadata": {},
   "outputs": [
    {
     "name": "stdout",
     "output_type": "stream",
     "text": [
      "Results\n",
      "[('a', 'http://www.wikidata.org/entity/Q13639919'), ('aname', 'Joseph Goubert'), ('oname', '1936 Summer Olympics')]\n",
      "[('a', 'http://www.wikidata.org/entity/Q30133063'), ('aname', 'Paul Bronner'), ('oname', '1936 Summer Olympics')]\n",
      "[('a', 'http://www.wikidata.org/entity/Q5079280'), ('aname', 'Charles Imbault'), ('oname', '1936 Summer Olympics')]\n",
      "[('a', 'http://www.wikidata.org/entity/Q5373240'), ('aname', 'Emmanuel Gonat'), ('oname', '1936 Summer Olympics')]\n",
      "[('a', 'http://www.wikidata.org/entity/Q168971'), ('aname', 'Robert Dorgebray'), ('oname', '1936 Summer Olympics')]\n",
      "[('a', 'http://www.wikidata.org/entity/Q2356350'), ('aname', 'René Bougnol'), ('oname', '1936 Summer Olympics')]\n",
      "[('a', 'http://www.wikidata.org/entity/Q2357548'), ('aname', 'René Bondoux'), ('oname', '1936 Summer Olympics')]\n",
      "[('a', 'http://www.wikidata.org/entity/Q3092463'), ('aname', 'Félix Grimonprez'), ('oname', '1936 Summer Olympics')]\n",
      "[('a', 'http://www.wikidata.org/entity/Q2960736'), ('aname', 'Charles des Jamonières'), ('oname', '1936 Summer Olympics')]\n",
      "[('a', 'http://www.wikidata.org/entity/Q6836605'), ('aname', 'Michel Verkindère'), ('oname', '1936 Summer Olympics')]\n"
     ]
    },
    {
     "data": {
      "text/plain": [
       "10"
      ]
     },
     "execution_count": 12,
     "metadata": {},
     "output_type": "execute_result"
    }
   ],
   "source": [
    "#Q49\n",
    "#in previous task we found the BGP for participating in competition\n",
    "queryString = \"\"\"\n",
    "SELECT ?a ?aname ?oname\n",
    "WHERE {\n",
    "       \n",
    "    ?a wdt:P106/wdt:P279 wd:Q2066131; #athlete\n",
    "       wdt:P27 wd:Q142;               #french\n",
    "       wdt:P710|wdt:P1344 ?o.\n",
    "       \n",
    "       ?o wdt:P31 wd:Q159821.\n",
    "       \n",
    "        #labels\n",
    "        ?a <http://schema.org/name> ?aname .\n",
    "        ?o <http://schema.org/name> ?oname .\n",
    "}\n",
    "LIMIT 10\n",
    "\"\"\"\n",
    "print(\"Results\")\n",
    "run_query(queryString)"
   ]
  },
  {
   "cell_type": "code",
   "execution_count": 13,
   "id": "d66c0156-9cc8-4bd3-ae82-50aed64e365c",
   "metadata": {},
   "outputs": [
    {
     "name": "stdout",
     "output_type": "stream",
     "text": [
      "Results\n",
      "[('o', 'http://www.wikidata.org/entity/Q8150'), ('oname', '1936 Summer Olympics')]\n"
     ]
    },
    {
     "data": {
      "text/plain": [
       "1"
      ]
     },
     "execution_count": 13,
     "metadata": {},
     "output_type": "execute_result"
    }
   ],
   "source": [
    "#Q50\n",
    "#check a specific entity found above\n",
    "queryString = \"\"\"\n",
    "SELECT ?o ?oname\n",
    "WHERE {\n",
    "       \n",
    "    wd:Q13639919 wdt:P710|wdt:P1344 ?o.     \n",
    "    ?o wdt:P31 wd:Q159821.\n",
    "       \n",
    "        #labels\n",
    "        ?o <http://schema.org/name> ?oname .\n",
    "}\n",
    "LIMIT 10\n",
    "\"\"\"\n",
    "print(\"Results\")\n",
    "run_query(queryString)"
   ]
  },
  {
   "cell_type": "code",
   "execution_count": 14,
   "id": "4cda8a72-3b0e-436b-896f-0cf09406b4d3",
   "metadata": {},
   "outputs": [
    {
     "name": "stdout",
     "output_type": "stream",
     "text": [
      "Results\n",
      "[('p', 'http://www.wikidata.org/prop/direct/P31'), ('pname', 'instance of')]\n"
     ]
    },
    {
     "data": {
      "text/plain": [
       "1"
      ]
     },
     "execution_count": 14,
     "metadata": {},
     "output_type": "execute_result"
    }
   ],
   "source": [
    "#Q51\n",
    "#check a specific entity found above\n",
    "queryString = \"\"\"\n",
    "SELECT ?p ?pname\n",
    "WHERE {\n",
    "       \n",
    "    wd:Q13639919 wdt:P710|wdt:P1344 ?o.     \n",
    "    ?o ?p wd:Q159821.\n",
    "       \n",
    "        #labels\n",
    "        ?p <http://schema.org/name> ?pname .\n",
    "}\n",
    "LIMIT 10\n",
    "\"\"\"\n",
    "print(\"Results\")\n",
    "run_query(queryString)"
   ]
  },
  {
   "cell_type": "markdown",
   "id": "0f526dd6-bb37-430d-9238-637e3fa47d5e",
   "metadata": {},
   "source": [
    "Retrieve the french athletes in order of participations in Olympics.  "
   ]
  },
  {
   "cell_type": "code",
   "execution_count": 16,
   "id": "c4870b51-8557-41d4-b091-7e891f5972ab",
   "metadata": {},
   "outputs": [
    {
     "name": "stdout",
     "output_type": "stream",
     "text": [
      "Results\n",
      "[('NumberOfParticipation', '12'), ('a', 'http://www.wikidata.org/entity/Q3379370')]\n",
      "[('NumberOfParticipation', '8'), ('a', 'http://www.wikidata.org/entity/Q316224')]\n",
      "[('NumberOfParticipation', '8'), ('a', 'http://www.wikidata.org/entity/Q1605975')]\n",
      "[('NumberOfParticipation', '7'), ('a', 'http://www.wikidata.org/entity/Q233834')]\n",
      "[('NumberOfParticipation', '6'), ('a', 'http://www.wikidata.org/entity/Q3367302')]\n",
      "[('NumberOfParticipation', '6'), ('a', 'http://www.wikidata.org/entity/Q3052611')]\n",
      "[('NumberOfParticipation', '6'), ('a', 'http://www.wikidata.org/entity/Q3082493')]\n",
      "[('NumberOfParticipation', '6'), ('a', 'http://www.wikidata.org/entity/Q3175379')]\n",
      "[('NumberOfParticipation', '6'), ('a', 'http://www.wikidata.org/entity/Q2863132')]\n",
      "[('NumberOfParticipation', '6'), ('a', 'http://www.wikidata.org/entity/Q2609559')]\n"
     ]
    },
    {
     "data": {
      "text/plain": [
       "10"
      ]
     },
     "execution_count": 16,
     "metadata": {},
     "output_type": "execute_result"
    }
   ],
   "source": [
    "#Q52\n",
    "#count the number of participation in olympic games for french athletes\n",
    "#retrieve top 10\n",
    "queryString = \"\"\"\n",
    "SELECT (COUNT(?o) AS ?NumberOfParticipation) ?a\n",
    "WHERE {\n",
    "       \n",
    "    ?a wdt:P106/wdt:P279 wd:Q2066131; #athlete\n",
    "       wdt:P27 wd:Q142;               #french\n",
    "       wdt:P710|wdt:P1344 ?o.\n",
    "       \n",
    "    ?o wdt:P31 wd:Q159821.\n",
    "}\n",
    "GROUP BY (?a)\n",
    "ORDER BY DESC(?NumberOfParticipation)\n",
    "LIMIT 10\n",
    "\"\"\"\n",
    "print(\"Results\")\n",
    "run_query(queryString)"
   ]
  },
  {
   "cell_type": "code",
   "execution_count": 17,
   "id": "c8841a9a-fffe-49a1-b5bc-1aa08fe2a5e0",
   "metadata": {},
   "outputs": [
    {
     "name": "stdout",
     "output_type": "stream",
     "text": [
      "Results\n",
      "[('o', 'http://www.wikidata.org/entity/Q8470'), ('oname', '1988 Summer Olympics')]\n",
      "[('o', 'http://www.wikidata.org/entity/Q8488'), ('oname', '1992 Summer Olympics')]\n",
      "[('o', 'http://www.wikidata.org/entity/Q8531'), ('oname', '1996 Summer Olympics')]\n",
      "[('o', 'http://www.wikidata.org/entity/Q8544'), ('oname', '2000 Summer Olympics')]\n",
      "[('o', 'http://www.wikidata.org/entity/Q8450'), ('oname', '1980 Summer Olympics')]\n",
      "[('o', 'http://www.wikidata.org/entity/Q8456'), ('oname', '1984 Summer Olympics')]\n"
     ]
    },
    {
     "data": {
      "text/plain": [
       "6"
      ]
     },
     "execution_count": 17,
     "metadata": {},
     "output_type": "execute_result"
    }
   ],
   "source": [
    "#Q53\n",
    "#check a specific entity found above\n",
    "queryString = \"\"\"\n",
    "SELECT ?o ?oname\n",
    "WHERE {\n",
    "       \n",
    "    wd:Q3379370 wdt:P710|wdt:P1344 ?o.     \n",
    "    ?o wdt:P31 wd:Q159821.\n",
    "       \n",
    "    #labels\n",
    "    ?o <http://schema.org/name> ?oname .\n",
    "}\n",
    "LIMIT 25\n",
    "\"\"\"\n",
    "print(\"Results\")\n",
    "run_query(queryString)"
   ]
  },
  {
   "cell_type": "markdown",
   "id": "e4fc4db2-0c1e-417f-b8f7-5d3990624a40",
   "metadata": {},
   "source": [
    "Add distinct in the previous query."
   ]
  },
  {
   "cell_type": "code",
   "execution_count": 18,
   "id": "170b1384-e967-4273-a33b-e16d8db4877b",
   "metadata": {},
   "outputs": [
    {
     "name": "stdout",
     "output_type": "stream",
     "text": [
      "Results\n",
      "[('NumberOfParticipation', '7'), ('a', 'http://www.wikidata.org/entity/Q233834')]\n",
      "[('NumberOfParticipation', '6'), ('a', 'http://www.wikidata.org/entity/Q3379370')]\n",
      "[('NumberOfParticipation', '5'), ('a', 'http://www.wikidata.org/entity/Q2493829')]\n",
      "[('NumberOfParticipation', '5'), ('a', 'http://www.wikidata.org/entity/Q2359387')]\n",
      "[('NumberOfParticipation', '5'), ('a', 'http://www.wikidata.org/entity/Q239263')]\n",
      "[('NumberOfParticipation', '5'), ('a', 'http://www.wikidata.org/entity/Q3159341')]\n",
      "[('NumberOfParticipation', '5'), ('a', 'http://www.wikidata.org/entity/Q934015')]\n",
      "[('NumberOfParticipation', '5'), ('a', 'http://www.wikidata.org/entity/Q144864')]\n",
      "[('NumberOfParticipation', '4'), ('a', 'http://www.wikidata.org/entity/Q949468')]\n",
      "[('NumberOfParticipation', '4'), ('a', 'http://www.wikidata.org/entity/Q1805125')]\n"
     ]
    },
    {
     "data": {
      "text/plain": [
       "10"
      ]
     },
     "execution_count": 18,
     "metadata": {},
     "output_type": "execute_result"
    }
   ],
   "source": [
    "#Q54\n",
    "#add distinct\n",
    "queryString = \"\"\"\n",
    "SELECT (COUNT(DISTINCT ?o) AS ?NumberOfParticipation) ?a\n",
    "WHERE {\n",
    "       \n",
    "    ?a wdt:P106/wdt:P279 wd:Q2066131; #athlete\n",
    "       wdt:P27 wd:Q142;               #french\n",
    "       wdt:P710|wdt:P1344 ?o.\n",
    "       \n",
    "    ?o wdt:P31 wd:Q159821.\n",
    "}\n",
    "GROUP BY (?a)\n",
    "ORDER BY DESC(?NumberOfParticipation)\n",
    "LIMIT 10\n",
    "\"\"\"\n",
    "print(\"Results\")\n",
    "run_query(queryString)"
   ]
  },
  {
   "cell_type": "markdown",
   "id": "be9a65d2-8ba5-4e84-beed-9adf24accbf7",
   "metadata": {},
   "source": [
    "Retrieve the german athletes with the highest number of olympic participations."
   ]
  },
  {
   "cell_type": "code",
   "execution_count": 19,
   "id": "59a0c0df-b19a-4ccb-ab53-64fa477e5a42",
   "metadata": {},
   "outputs": [
    {
     "name": "stdout",
     "output_type": "stream",
     "text": [
      "Results\n",
      "[('NumberOfParticipation', '7'), ('a', 'http://www.wikidata.org/entity/Q248926')]\n",
      "[('NumberOfParticipation', '7'), ('a', 'http://www.wikidata.org/entity/Q553279')]\n",
      "[('NumberOfParticipation', '6'), ('a', 'http://www.wikidata.org/entity/Q70562')]\n",
      "[('NumberOfParticipation', '5'), ('a', 'http://www.wikidata.org/entity/Q73336')]\n",
      "[('NumberOfParticipation', '5'), ('a', 'http://www.wikidata.org/entity/Q506576')]\n",
      "[('NumberOfParticipation', '5'), ('a', 'http://www.wikidata.org/entity/Q1885348')]\n",
      "[('NumberOfParticipation', '5'), ('a', 'http://www.wikidata.org/entity/Q544298')]\n",
      "[('NumberOfParticipation', '5'), ('a', 'http://www.wikidata.org/entity/Q453208')]\n",
      "[('NumberOfParticipation', '5'), ('a', 'http://www.wikidata.org/entity/Q384411')]\n",
      "[('NumberOfParticipation', '5'), ('a', 'http://www.wikidata.org/entity/Q61161')]\n"
     ]
    },
    {
     "data": {
      "text/plain": [
       "10"
      ]
     },
     "execution_count": 19,
     "metadata": {},
     "output_type": "execute_result"
    }
   ],
   "source": [
    "#TASK 4.3 For each country , which are the atheletes with the highest number of participations \n",
    "#same as above but for german ones\n",
    "queryString = \"\"\"\n",
    "SELECT (COUNT(DISTINCT ?o) AS ?NumberOfParticipation) ?a\n",
    "WHERE {\n",
    "       \n",
    "    ?a wdt:P106/wdt:P279 wd:Q2066131; #athlete\n",
    "       wdt:P27 wd:Q183;               #german\n",
    "       wdt:P710|wdt:P1344 ?o.\n",
    "       \n",
    "    ?o wdt:P31 wd:Q159821.\n",
    "}\n",
    "GROUP BY (?a)\n",
    "ORDER BY DESC(?NumberOfParticipation)\n",
    "LIMIT 10\n",
    "\"\"\"\n",
    "print(\"Results\")\n",
    "run_query(queryString)"
   ]
  },
  {
   "cell_type": "code",
   "execution_count": 20,
   "id": "c9776e52-4e60-4af3-b055-8a666f192f73",
   "metadata": {},
   "outputs": [
    {
     "name": "stdout",
     "output_type": "stream",
     "text": [
      "Results\n",
      "[('a', 'http://www.wikidata.org/entity/Q3568815'), ('aname', 'Charles William Martin'), ('o', 'http://www.wikidata.org/entity/Q859344'), ('oname', 'sailing at the 1900 Summer Olympics – .5 to 1 ton')]\n",
      "[('a', 'http://www.wikidata.org/entity/Q15973499'), ('aname', 'Rudy Barbier'), ('o', 'http://www.wikidata.org/entity/Q1280387'), ('oname', '2013 UCI Europe Tour')]\n",
      "[('a', 'http://www.wikidata.org/entity/Q15973499'), ('aname', 'Rudy Barbier'), ('o', 'http://www.wikidata.org/entity/Q15041668'), ('oname', '2014 UCI Europe Tour')]\n",
      "[('a', 'http://www.wikidata.org/entity/Q15973499'), ('aname', 'Rudy Barbier'), ('o', 'http://www.wikidata.org/entity/Q18342122'), ('oname', '2015 UCI Europe Tour')]\n",
      "[('a', 'http://www.wikidata.org/entity/Q15973499'), ('aname', 'Rudy Barbier'), ('o', 'http://www.wikidata.org/entity/Q21029681'), ('oname', '2016 UCI Europe Tour')]\n",
      "[('a', 'http://www.wikidata.org/entity/Q15973499'), ('aname', 'Rudy Barbier'), ('o', 'http://www.wikidata.org/entity/Q30750603'), ('oname', '2017 UCI World Ranking')]\n",
      "[('a', 'http://www.wikidata.org/entity/Q15973499'), ('aname', 'Rudy Barbier'), ('o', 'http://www.wikidata.org/entity/Q21857932'), ('oname', '2017 UCI World Tour')]\n",
      "[('a', 'http://www.wikidata.org/entity/Q15973499'), ('aname', 'Rudy Barbier'), ('o', 'http://www.wikidata.org/entity/Q27915850'), ('oname', '2017 UCI Europe Tour')]\n",
      "[('a', 'http://www.wikidata.org/entity/Q15973499'), ('aname', 'Rudy Barbier'), ('o', 'http://www.wikidata.org/entity/Q47517245'), ('oname', '2018 UCI World Ranking')]\n",
      "[('a', 'http://www.wikidata.org/entity/Q15973499'), ('aname', 'Rudy Barbier'), ('o', 'http://www.wikidata.org/entity/Q60964153'), ('oname', '2019 UCI World Ranking')]\n"
     ]
    },
    {
     "data": {
      "text/plain": [
       "10"
      ]
     },
     "execution_count": 20,
     "metadata": {},
     "output_type": "execute_result"
    }
   ],
   "source": [
    "#Q55\n",
    "#in previous task we found the BGP for participating in generic competition instead of olympic ones\n",
    "queryString = \"\"\"\n",
    "SELECT ?a ?aname ?o ?oname\n",
    "WHERE {\n",
    "       \n",
    "    ?a wdt:P106/wdt:P279 wd:Q2066131; #athlete\n",
    "       wdt:P27 wd:Q142;               #french\n",
    "       wdt:P710|wdt:P1344 ?o.\n",
    "       \n",
    "       ?o wdt:P641 ?sport.\n",
    "       \n",
    "        #labels\n",
    "        ?a <http://schema.org/name> ?aname .\n",
    "        ?o <http://schema.org/name> ?oname .\n",
    "}\n",
    "LIMIT 10\n",
    "\"\"\"\n",
    "print(\"Results\")\n",
    "run_query(queryString)"
   ]
  },
  {
   "cell_type": "markdown",
   "id": "caf86769-0f2e-4647-b29f-a1775a3e390e",
   "metadata": {},
   "source": [
    "Try to obtain the participation in a single olympic event instead of a olympic games edition."
   ]
  },
  {
   "cell_type": "code",
   "execution_count": 21,
   "id": "3ee66106-85df-43aa-be45-9e8fcc4c214b",
   "metadata": {},
   "outputs": [
    {
     "name": "stdout",
     "output_type": "stream",
     "text": [
      "Results\n",
      "[('p', 'http://www.wikidata.org/prop/direct/P276'), ('pname', 'location'), ('o', 'http://www.wikidata.org/entity/Q275371'), ('oname', 'Meulan-en-Yvelines')]\n",
      "[('p', 'http://www.wikidata.org/prop/direct/P31'), ('pname', 'instance of'), ('o', 'http://www.wikidata.org/entity/Q18536594'), ('oname', 'Olympic sporting event')]\n",
      "[('p', 'http://www.wikidata.org/prop/direct/P641'), ('pname', 'sport'), ('o', 'http://www.wikidata.org/entity/Q14085739'), ('oname', 'sailing')]\n",
      "[('p', 'http://www.wikidata.org/prop/direct/P1346'), ('pname', 'winner'), ('o', 'http://www.wikidata.org/entity/Q1802560'), ('oname', 'Lorne Currie')]\n",
      "[('p', 'http://www.wikidata.org/prop/direct/P361'), ('pname', 'part of'), ('o', 'http://www.wikidata.org/entity/Q900212'), ('oname', 'sailing at the 1900 Summer Olympics')]\n"
     ]
    },
    {
     "data": {
      "text/plain": [
       "5"
      ]
     },
     "execution_count": 21,
     "metadata": {},
     "output_type": "execute_result"
    }
   ],
   "source": [
    "#Q56\n",
    "#try to obtain the participation in a single olympic event instead of a olympic games edition\n",
    "queryString = \"\"\"\n",
    "SELECT ?p ?pname ?o ?oname\n",
    "WHERE {\n",
    "\n",
    "    wd:Q859344 ?p ?o.\n",
    "          \n",
    "    #labels\n",
    "    ?p <http://schema.org/name> ?pname .\n",
    "    ?o <http://schema.org/name> ?oname .\n",
    "}\n",
    "LIMIT 30\n",
    "\"\"\"\n",
    "print(\"Results\")\n",
    "run_query(queryString)"
   ]
  },
  {
   "cell_type": "code",
   "execution_count": 22,
   "id": "cb4219c2-1e2e-4e90-95c8-a84978c707a9",
   "metadata": {},
   "outputs": [
    {
     "name": "stdout",
     "output_type": "stream",
     "text": [
      "Results\n",
      "[('a', 'http://www.wikidata.org/entity/Q26252931'), ('aname', 'Jean-Pierre Bourhis'), ('o', 'http://www.wikidata.org/entity/Q26212275'), ('oname', \"canoeing at the 2016 Summer Olympics – men's slalom C-1\")]\n",
      "[('a', 'http://www.wikidata.org/entity/Q26252931'), ('aname', 'Jean-Pierre Bourhis'), ('o', 'http://www.wikidata.org/entity/Q76711065'), ('oname', \"canoeing at the 2020 Summer Olympics – men's slalom C-1\")]\n",
      "[('a', 'http://www.wikidata.org/entity/Q41111427'), ('aname', 'Martin Thomas'), ('o', 'http://www.wikidata.org/entity/Q76711065'), ('oname', \"canoeing at the 2020 Summer Olympics – men's slalom C-1\")]\n",
      "[('a', 'http://www.wikidata.org/entity/Q316224'), ('aname', 'Tony Estanguet'), ('o', 'http://www.wikidata.org/entity/Q3491894'), ('oname', \"canoeing at the 2004 Summer Olympics – men's slalom C-1\")]\n",
      "[('a', 'http://www.wikidata.org/entity/Q8078410'), ('aname', 'Éric le Leuch'), ('o', 'http://www.wikidata.org/entity/Q3655475'), ('oname', \"canoeing at the 2000 Summer Olympics – men's C-1 1000 metres\")]\n",
      "[('a', 'http://www.wikidata.org/entity/Q8078410'), ('aname', 'Éric le Leuch'), ('o', 'http://www.wikidata.org/entity/Q3655477'), ('oname', \"canoeing at the 2000 Summer Olympics – men's C-1 500 metres\")]\n",
      "[('a', 'http://www.wikidata.org/entity/Q3592199'), ('aname', 'Étienne Hubert'), ('o', 'http://www.wikidata.org/entity/Q20948675'), ('oname', \"canoeing at the 2016 Summer Olympics – men's K-2 1000 metres\")]\n",
      "[('a', 'http://www.wikidata.org/entity/Q24808076'), ('aname', 'Manon Hostens'), ('o', 'http://www.wikidata.org/entity/Q26335055'), ('oname', \"canoeing at the 2016 Summer Olympics – women's K-4 500 metres\")]\n",
      "[('a', 'http://www.wikidata.org/entity/Q24808076'), ('aname', 'Manon Hostens'), ('o', 'http://www.wikidata.org/entity/Q65229731'), ('oname', \"canoeing at the 2020 Summer Olympics – women's K-1 500 metres\")]\n",
      "[('a', 'http://www.wikidata.org/entity/Q24808076'), ('aname', 'Manon Hostens'), ('o', 'http://www.wikidata.org/entity/Q65229741'), ('oname', \"canoeing at the 2020 Summer Olympics – women's K-2 500 metres\")]\n"
     ]
    },
    {
     "data": {
      "text/plain": [
       "10"
      ]
     },
     "execution_count": 22,
     "metadata": {},
     "output_type": "execute_result"
    }
   ],
   "source": [
    "#Q57\n",
    "#use Q18536594\n",
    "queryString = \"\"\"\n",
    "SELECT ?a ?aname ?o ?oname\n",
    "WHERE {\n",
    "       \n",
    "    ?a wdt:P106/wdt:P279 wd:Q2066131; #athlete\n",
    "       wdt:P27 wd:Q142;               #french\n",
    "       wdt:P710|wdt:P1344 ?o.\n",
    "       \n",
    "       ?o wdt:P31 wd:Q18536594.\n",
    "       \n",
    "        #labels\n",
    "        ?a <http://schema.org/name> ?aname .\n",
    "        ?o <http://schema.org/name> ?oname .\n",
    "}\n",
    "LIMIT 10\n",
    "\"\"\"\n",
    "print(\"Results\")\n",
    "run_query(queryString)"
   ]
  },
  {
   "cell_type": "markdown",
   "id": "c7819672-e173-4b8f-8837-091daa16c530",
   "metadata": {},
   "source": [
    "Retrieve the athletes with the highest number of participations in olympic competitions instead of Olympic Games (that i have done some cells above)."
   ]
  },
  {
   "cell_type": "code",
   "execution_count": 23,
   "id": "700087f3-f49f-4c9b-bcbe-dbc9b56cae3b",
   "metadata": {},
   "outputs": [
    {
     "name": "stdout",
     "output_type": "stream",
     "text": [
      "Results\n",
      "[('NumberOfParticipation', '13'), ('a', 'http://www.wikidata.org/entity/Q2151006')]\n",
      "[('NumberOfParticipation', '12'), ('a', 'http://www.wikidata.org/entity/Q57747')]\n",
      "[('NumberOfParticipation', '10'), ('a', 'http://www.wikidata.org/entity/Q62968')]\n",
      "[('NumberOfParticipation', '10'), ('a', 'http://www.wikidata.org/entity/Q473760')]\n",
      "[('NumberOfParticipation', '10'), ('a', 'http://www.wikidata.org/entity/Q163055')]\n",
      "[('NumberOfParticipation', '10'), ('a', 'http://www.wikidata.org/entity/Q62501')]\n",
      "[('NumberOfParticipation', '10'), ('a', 'http://www.wikidata.org/entity/Q57582')]\n",
      "[('NumberOfParticipation', '9'), ('a', 'http://www.wikidata.org/entity/Q567102')]\n",
      "[('NumberOfParticipation', '8'), ('a', 'http://www.wikidata.org/entity/Q882906')]\n",
      "[('NumberOfParticipation', '8'), ('a', 'http://www.wikidata.org/entity/Q64106')]\n"
     ]
    },
    {
     "data": {
      "text/plain": [
       "10"
      ]
     },
     "execution_count": 23,
     "metadata": {},
     "output_type": "execute_result"
    }
   ],
   "source": [
    "#TASK 4.3 For each country , which are the atheletes with the highest number of participations\n",
    "#consider participation in single olympic events instead of editions\n",
    "#same as above but for german ones\n",
    "queryString = \"\"\"\n",
    "SELECT (COUNT(DISTINCT ?o) AS ?NumberOfParticipation) ?a\n",
    "WHERE {\n",
    "       \n",
    "    ?a wdt:P106/wdt:P279 wd:Q2066131; #athlete\n",
    "       wdt:P27 wd:Q183;               #german\n",
    "       wdt:P710|wdt:P1344 ?o.\n",
    "       \n",
    "    ?o wdt:P31 wd:Q18536594.\n",
    "}\n",
    "GROUP BY (?a)\n",
    "ORDER BY DESC(?NumberOfParticipation)\n",
    "LIMIT 10\n",
    "\"\"\"\n",
    "print(\"Results\")\n",
    "run_query(queryString)"
   ]
  },
  {
   "cell_type": "code",
   "execution_count": 24,
   "id": "1ce840fa-3098-4c6f-8d5c-43a9a65737bf",
   "metadata": {},
   "outputs": [
    {
     "name": "stdout",
     "output_type": "stream",
     "text": [
      "Results\n",
      "[('o', 'http://www.wikidata.org/entity/Q5033039'), ('oname', \"canoeing at the 1988 Summer Olympics – women's K-4 500 metres\")]\n",
      "[('o', 'http://www.wikidata.org/entity/Q5033052'), ('oname', \"canoeing at the 1992 Summer Olympics – women's K-1 500 metres\")]\n",
      "[('o', 'http://www.wikidata.org/entity/Q5033056'), ('oname', \"canoeing at the 1992 Summer Olympics – women's K-4 500 metres\")]\n",
      "[('o', 'http://www.wikidata.org/entity/Q5033069'), ('oname', \"canoeing at the 1996 Summer Olympics – women's K-1 500 metres\")]\n",
      "[('o', 'http://www.wikidata.org/entity/Q5033087'), ('oname', \"canoeing at the 2000 Summer Olympics – women's K-4 500 metres\")]\n",
      "[('o', 'http://www.wikidata.org/entity/Q1222361'), ('oname', \"canoeing at the 2004 Summer Olympics – women's K-2 500 metres\")]\n",
      "[('o', 'http://www.wikidata.org/entity/Q1222367'), ('oname', \"canoeing at the 2004 Summer Olympics – women's K-4 500 metres\")]\n",
      "[('o', 'http://www.wikidata.org/entity/Q5033013'), ('oname', \"canoeing at the 1980 Summer Olympics – women's K-1 500 metres\")]\n",
      "[('o', 'http://www.wikidata.org/entity/Q5033037'), ('oname', \"canoeing at the 1988 Summer Olympics – women's K-1 500 metres\")]\n",
      "[('o', 'http://www.wikidata.org/entity/Q5033038'), ('oname', \"canoeing at the 1988 Summer Olympics – women's K-2 500 metres\")]\n",
      "[('o', 'http://www.wikidata.org/entity/Q5033071'), ('oname', \"canoeing at the 1996 Summer Olympics – women's K-2 500 metres\")]\n",
      "[('o', 'http://www.wikidata.org/entity/Q5033074'), ('oname', \"canoeing at the 1996 Summer Olympics – women's K-4 500 metres\")]\n",
      "[('o', 'http://www.wikidata.org/entity/Q5033085'), ('oname', \"canoeing at the 2000 Summer Olympics – women's K-2 500 metres\")]\n"
     ]
    },
    {
     "data": {
      "text/plain": [
       "13"
      ]
     },
     "execution_count": 24,
     "metadata": {},
     "output_type": "execute_result"
    }
   ],
   "source": [
    "#Q58\n",
    "#check a specific entity found above\n",
    "queryString = \"\"\"\n",
    "SELECT ?o ?oname\n",
    "WHERE {\n",
    "       \n",
    "    wd:Q2151006 wdt:P710|wdt:P1344 ?o.     \n",
    "    ?o wdt:P31 wd:Q18536594.\n",
    "       \n",
    "    #labels\n",
    "    ?o <http://schema.org/name> ?oname .\n",
    "}\n",
    "LIMIT 25\n",
    "\"\"\"\n",
    "print(\"Results\")\n",
    "run_query(queryString)"
   ]
  },
  {
   "cell_type": "code",
   "execution_count": 25,
   "id": "d9190b61-74df-4091-9deb-84c9aebda5ed",
   "metadata": {},
   "outputs": [
    {
     "name": "stdout",
     "output_type": "stream",
     "text": [
      "Results\n",
      "[('NumberOfParticipation', '11'), ('a', 'http://www.wikidata.org/entity/Q129192')]\n",
      "[('NumberOfParticipation', '8'), ('a', 'http://www.wikidata.org/entity/Q1392951')]\n",
      "[('NumberOfParticipation', '7'), ('a', 'http://www.wikidata.org/entity/Q44413')]\n",
      "[('NumberOfParticipation', '7'), ('a', 'http://www.wikidata.org/entity/Q1334464')]\n",
      "[('NumberOfParticipation', '7'), ('a', 'http://www.wikidata.org/entity/Q229002')]\n",
      "[('NumberOfParticipation', '7'), ('a', 'http://www.wikidata.org/entity/Q242959')]\n",
      "[('NumberOfParticipation', '6'), ('a', 'http://www.wikidata.org/entity/Q1392625')]\n",
      "[('NumberOfParticipation', '6'), ('a', 'http://www.wikidata.org/entity/Q3164706')]\n",
      "[('NumberOfParticipation', '6'), ('a', 'http://www.wikidata.org/entity/Q27820')]\n",
      "[('NumberOfParticipation', '6'), ('a', 'http://www.wikidata.org/entity/Q3098966')]\n"
     ]
    },
    {
     "data": {
      "text/plain": [
       "10"
      ]
     },
     "execution_count": 25,
     "metadata": {},
     "output_type": "execute_result"
    }
   ],
   "source": [
    "#TASK 4.3 For each country , which are the atheletes with the highest number of participations\n",
    "#same as above but for french ones\n",
    "queryString = \"\"\"\n",
    "SELECT (COUNT(DISTINCT ?o) AS ?NumberOfParticipation) ?a\n",
    "WHERE {\n",
    "       \n",
    "    ?a wdt:P106/wdt:P279 wd:Q2066131; #athlete\n",
    "       wdt:P27 wd:Q142;               #german\n",
    "       wdt:P710|wdt:P1344 ?o.\n",
    "       \n",
    "    ?o wdt:P31 wd:Q18536594.\n",
    "}\n",
    "GROUP BY (?a)\n",
    "ORDER BY DESC(?NumberOfParticipation)\n",
    "LIMIT 10\n",
    "\"\"\"\n",
    "print(\"Results\")\n",
    "run_query(queryString)"
   ]
  },
  {
   "cell_type": "markdown",
   "id": "1365eaea-a887-422d-98b9-abcfaacbbfba",
   "metadata": {},
   "source": [
    "<h3> TASK 4 ENDS HERE </h3>\n",
    "In this task I found the sports where french athlets are better than german one, the sports where female french athletes are better than germans, the number of female winners for both countries. On top of that I found the athletes who took part most times in Olympic Games and also the ones who participated in more olympic events."
   ]
  },
  {
   "cell_type": "code",
   "execution_count": null,
   "id": "22a31810-9a4c-4acf-b1d8-e1b25626fa46",
   "metadata": {},
   "outputs": [],
   "source": []
  }
 ],
 "metadata": {
  "kernelspec": {
   "display_name": "Python 3 (ipykernel)",
   "language": "python",
   "name": "python3"
  },
  "language_info": {
   "codemirror_mode": {
    "name": "ipython",
    "version": 3
   },
   "file_extension": ".py",
   "mimetype": "text/x-python",
   "name": "python",
   "nbconvert_exporter": "python",
   "pygments_lexer": "ipython3",
   "version": "3.7.10"
  }
 },
 "nbformat": 4,
 "nbformat_minor": 5
}
