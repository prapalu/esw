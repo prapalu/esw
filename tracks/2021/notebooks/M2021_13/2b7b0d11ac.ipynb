{
 "cells": [
  {
   "cell_type": "markdown",
   "id": "7034c3bf-6eb0-4418-8687-7b9d2a501103",
   "metadata": {},
   "source": [
    "# General instructions\n",
    "\n",
    "The goal of the project is to materialize a set of **exploratory workloads** over a real-world, large-scale,  open-domain KG: [WikiData](https://www.wikidata.org/wiki/Wikidata:Main_Page)\n",
    "\n",
    "An exploratory workload  is composed by a set of queries, where each query is related to the information obtained previously.\n",
    "\n",
    "An exploratory workload starts with a usually vague, open ended question, and does not assume the person issuing the workload has a clear understanding of the data contained in the target database or its structure.\n",
    "\n",
    "Remeber that:\n",
    "\n",
    "1. All the queries must run in the python notebook\n",
    "2. You can use classes and properties only if you find them via a SPARQL query that must be present in the notebook\n",
    "3. You do not delete useless queries. Keep everything that is synthatically valid \n",
    "\n",
    "```\n",
    "?p <http://schema.org/name> ?name .\n",
    "```\n",
    "    \n",
    "is the BGP returning a human-readable name of a property or a class in Wikidata.\n",
    "    \n",
    "    "
   ]
  },
  {
   "cell_type": "code",
   "execution_count": 1,
   "id": "3605c9d5-5371-49a5-be8d-d66e8f417139",
   "metadata": {},
   "outputs": [],
   "source": [
    "## SETUP used later\n",
    "\n",
    "from SPARQLWrapper import SPARQLWrapper, JSON\n",
    "\n",
    "\n",
    "prefixString = \"\"\"\n",
    "##-2b7b0d11ac-##\n",
    "PREFIX wd: <http://www.wikidata.org/entity/> \n",
    "PREFIX wdt: <http://www.wikidata.org/prop/direct/> \n",
    "PREFIX sc: <http://schema.org/>\n",
    "\"\"\"\n",
    "\n",
    "# select and construct queries\n",
    "def run_query(queryString):\n",
    "    to_run = prefixString + \"\\n\" + queryString\n",
    "\n",
    "    sparql = SPARQLWrapper(\"http://a256-gc1-02.srv.aau.dk:5820/sparql\")\n",
    "    sparql.setTimeout(300)\n",
    "    sparql.setReturnFormat(JSON)\n",
    "    sparql.setQuery(to_run)\n",
    "\n",
    "    try :\n",
    "       results = sparql.query()\n",
    "       json_results = results.convert()\n",
    "       if len(json_results['results']['bindings'])==0:\n",
    "          print(\"Empty\")\n",
    "          return 0\n",
    "    \n",
    "       for bindings in json_results['results']['bindings']:\n",
    "          print( [ (var, value['value'])  for var, value in bindings.items() ] )\n",
    "\n",
    "       return len(json_results['results']['bindings'])\n",
    "\n",
    "    except Exception as e :\n",
    "        print(\"The operation failed\", e)\n",
    "    \n",
    "# ASk queries\n",
    "def run_ask_query(queryString):\n",
    "    to_run = prefixString + \"\\n\" + queryString\n",
    "\n",
    "    sparql = SPARQLWrapper(\"http://a256-gc1-02.srv.aau.dk:5820/sparql\")\n",
    "    sparql.setTimeout(300)\n",
    "    sparql.setReturnFormat(JSON)\n",
    "    sparql.setQuery(to_run)\n",
    "\n",
    "    try :\n",
    "        return sparql.query().convert()\n",
    "\n",
    "    except Exception as e :\n",
    "        print(\"The operation failed\", e)\n"
   ]
  },
  {
   "cell_type": "markdown",
   "id": "d477a59c-a68c-4c8f-9f97-8ca5294d7d27",
   "metadata": {},
   "source": [
    "# GEO Workflow Series (\"Place of Birth, Death, and Burial\") \n",
    "\n",
    "Consider the following exploratory information need:\n",
    "\n",
    "> You want to visit cities connected to famous writers and poets, and you are deciding wether to visit France or Germany"
   ]
  },
  {
   "cell_type": "markdown",
   "id": "4a45c0ba-f79e-441d-bec5-84401b09db70",
   "metadata": {},
   "source": [
    "## Useful URIs for the current workflow\n",
    "\n",
    "\n",
    "The following are given:\n",
    "\n",
    "| IRI           | Description   | Role      |\n",
    "| -----------   | -----------   |-----------|\n",
    "| `wdt:P1647`   | subproperty   | predicate |\n",
    "| `wdt:P31`     | instance of   | predicate |\n",
    "| `wdt:P279`    | subclass      | predicate |\n",
    "| `wdt:P106`    | occupation    | predicate |\n",
    "| `wdt:P27`     | citizenship   | predicate |\n",
    "| `wd:Q183`     | Germany       | node |\n",
    "| `wd:Q142`     | France        | node |\n",
    "| `wd:Q90`      | Paris         | node |\n",
    "| `wd:Q49757`   | Poet          | node |\n",
    "| `wd:Q36180`   | Writer        | node |\n",
    "| `wd:Q501`     | Charles Baudelaire  | node      |\n",
    "| `wd:Q272208`  | Montparnasse Cemetery       | node |\n",
    "\n",
    "\n",
    "Also consider\n",
    "\n",
    "```\n",
    "?p wdt:P27 wd:Q142  . \n",
    "?p wdt:P106 wd:Q36180  . \n",
    "```\n",
    "\n",
    "is the BGP to retrieve all **French writers**"
   ]
  },
  {
   "cell_type": "markdown",
   "id": "7af439fb-96e4-4dbb-a381-f19afab79f86",
   "metadata": {
    "tags": []
   },
   "source": [
    "## Workload Goals\n",
    "\n",
    "1. Identify the BGP that connect people to their place of birth or place, death, or burial\n",
    "\n",
    "2. Identify the BGP to obtain the country in which a place is located\n",
    "\n",
    "3. How many poets and writers  have a place of birth, death, or burial in Germany and France?\n",
    "\n",
    "4. Analyze cities across the two countries\n",
    " \n",
    "   4.1 Is there any poet for which the birth place and the place of burial are located in the same city either in Germany or France?\n",
    "   \n",
    "   4.2 Which cities host the place of birth of the larger number of poets or writers across the two countries?\n",
    "   \n",
    "   4.3 What are the top 3 cities in each country that you could visit? Based on what criteria?\n"
   ]
  },
  {
   "cell_type": "code",
   "execution_count": 3,
   "id": "24a853ab-830c-422c-afd3-e9e015b8b8ed",
   "metadata": {},
   "outputs": [],
   "source": [
    "# start your workflow here"
   ]
  },
  {
   "cell_type": "code",
   "execution_count": 3,
   "id": "ade01416-92e7-4ad7-b9a9-b8fb330750dc",
   "metadata": {},
   "outputs": [
    {
     "name": "stdout",
     "output_type": "stream",
     "text": [
      "Predicates\n",
      "[('callret-0', '14400')]\n"
     ]
    },
    {
     "data": {
      "text/plain": [
       "1"
      ]
     },
     "execution_count": 3,
     "metadata": {},
     "output_type": "execute_result"
    }
   ],
   "source": [
    "queryString = \"\"\"\n",
    "SELECT COUNT(*)\n",
    "WHERE { \n",
    "\n",
    "?p wdt:P27 wd:Q142  . \n",
    "?p wdt:P106 wd:Q36180  . \n",
    "} \n",
    "GROUP BY ?cult  ?arch\n",
    "\"\"\"\n",
    "\n",
    "print(\"Predicates\")\n",
    "run_query(queryString)"
   ]
  },
  {
   "cell_type": "markdown",
   "id": "77499fda-f67a-450f-9c85-c0c929c56eba",
   "metadata": {
    "tags": []
   },
   "source": [
    "<h3>TASK 1 STARTS HERE </h3> \n",
    "Identify the BGP that connect people to their place of birth or place, death, or burial"
   ]
  },
  {
   "cell_type": "markdown",
   "id": "d37c7a00-b99c-4e31-9c56-f0968ceef808",
   "metadata": {},
   "source": [
    "Search properties of french writers."
   ]
  },
  {
   "cell_type": "code",
   "execution_count": 5,
   "id": "09d1c534-a75d-4ca2-be66-a2b9e9589c74",
   "metadata": {},
   "outputs": [
    {
     "name": "stdout",
     "output_type": "stream",
     "text": [
      "Results\n",
      "[('p', 'http://www.wikidata.org/prop/direct/P3363'), ('pname', 'Tennis Hall of Fame player ID')]\n",
      "[('p', 'http://www.wikidata.org/prop/direct/P4944'), ('pname', 'Premiers préfets ID')]\n",
      "[('p', 'http://www.wikidata.org/prop/direct/P1005'), ('pname', 'Portuguese National Library ID')]\n",
      "[('p', 'http://www.wikidata.org/prop/direct/P1006'), ('pname', 'Nationale Thesaurus voor Auteurs ID')]\n",
      "[('p', 'http://www.wikidata.org/prop/direct/P1015'), ('pname', 'NORAF ID')]\n",
      "[('p', 'http://www.wikidata.org/prop/direct/P1017'), ('pname', 'Vatican Library ID (former scheme)')]\n",
      "[('p', 'http://www.wikidata.org/prop/direct/P103'), ('pname', 'native language')]\n",
      "[('p', 'http://www.wikidata.org/prop/direct/P1038'), ('pname', 'relative')]\n",
      "[('p', 'http://www.wikidata.org/prop/direct/P1045'), ('pname', 'Sycomore ID')]\n",
      "[('p', 'http://www.wikidata.org/prop/direct/P1050'), ('pname', 'medical condition')]\n",
      "[('p', 'http://www.wikidata.org/prop/direct/P106'), ('pname', 'occupation')]\n",
      "[('p', 'http://www.wikidata.org/prop/direct/P1066'), ('pname', 'student of')]\n",
      "[('p', 'http://www.wikidata.org/prop/direct/P108'), ('pname', 'employer')]\n",
      "[('p', 'http://www.wikidata.org/prop/direct/P109'), ('pname', 'signature')]\n",
      "[('p', 'http://www.wikidata.org/prop/direct/P1150'), ('pname', 'Regensburg Classification')]\n",
      "[('p', 'http://www.wikidata.org/prop/direct/P119'), ('pname', 'place of burial')]\n",
      "[('p', 'http://www.wikidata.org/prop/direct/P1196'), ('pname', 'manner of death')]\n",
      "[('p', 'http://www.wikidata.org/prop/direct/P1207'), ('pname', 'NUKAT ID')]\n",
      "[('p', 'http://www.wikidata.org/prop/direct/P1220'), ('pname', 'Internet Broadway Database person ID')]\n",
      "[('p', 'http://www.wikidata.org/prop/direct/P1233'), ('pname', 'Internet Speculative Fiction Database author ID')]\n",
      "[('p', 'http://www.wikidata.org/prop/direct/P1263'), ('pname', 'NNDB people ID')]\n",
      "[('p', 'http://www.wikidata.org/prop/direct/P1266'), ('pname', 'AlloCiné person ID')]\n",
      "[('p', 'http://www.wikidata.org/prop/direct/P1273'), ('pname', 'CANTIC ID')]\n",
      "[('p', 'http://www.wikidata.org/prop/direct/P1280'), ('pname', 'CONOR.SI ID')]\n",
      "[('p', 'http://www.wikidata.org/prop/direct/P1296'), ('pname', 'Gran Enciclopèdia Catalana ID')]\n"
     ]
    },
    {
     "data": {
      "text/plain": [
       "25"
      ]
     },
     "execution_count": 5,
     "metadata": {},
     "output_type": "execute_result"
    }
   ],
   "source": [
    "#Q1\n",
    "#search properties of french writers\n",
    "queryString = \"\"\"\n",
    "SELECT DISTINCT ?p ?pname\n",
    "WHERE { \n",
    "\n",
    "?f wdt:P27 wd:Q142;\n",
    "   wdt:P106 wd:Q36180;\n",
    "   ?p ?o.\n",
    "   \n",
    "#Labels\n",
    "?p <http://schema.org/name> ?pname .\n",
    "\n",
    "} \n",
    "LIMIT 25\n",
    "\"\"\"\n",
    "\n",
    "print(\"Results\")\n",
    "run_query(queryString)"
   ]
  },
  {
   "cell_type": "markdown",
   "id": "332d4aff-76ff-4d52-b04c-ef4dca48de54",
   "metadata": {},
   "source": [
    "Retrieve \"Place of burial\" of french writers using P119 found above."
   ]
  },
  {
   "cell_type": "code",
   "execution_count": 6,
   "id": "3e4c57a0-676f-44e1-91af-97b12bfa90d0",
   "metadata": {},
   "outputs": [
    {
     "name": "stdout",
     "output_type": "stream",
     "text": [
      "Results\n",
      "[('fname', 'Louise Colet'), ('o', 'http://www.wikidata.org/entity/Q317271'), ('oname', 'Verneuil-sur-Avre')]\n",
      "[('fname', 'Zénaïde Fleuriot'), ('o', 'http://www.wikidata.org/entity/Q12642'), ('oname', 'Morbihan')]\n",
      "[('fname', 'Pierre Delanoë'), ('o', 'http://www.wikidata.org/entity/Q8532961'), ('oname', 'Cimetière de Fourqueux')]\n",
      "[('fname', 'Edmonde Charles-Roux'), ('o', 'http://www.wikidata.org/entity/Q2972480'), ('oname', 'Saint Pierre Cemetery')]\n",
      "[('fname', 'Raymond Queneau'), ('o', 'http://www.wikidata.org/entity/Q752255'), ('oname', 'Juvisy-sur-Orge')]\n",
      "[('fname', 'Julie Manet'), ('o', 'http://www.wikidata.org/entity/Q1092107'), ('oname', 'Passy Cemetery')]\n",
      "[('fname', 'Abbot Suger'), ('o', 'http://www.wikidata.org/entity/Q184407'), ('oname', 'Basilica of Saint-Denis')]\n",
      "[('fname', 'Édouard Vaillant'), ('o', 'http://www.wikidata.org/entity/Q208538'), ('oname', 'Vierzon')]\n",
      "[('fname', 'Adolphe Willette'), ('o', 'http://www.wikidata.org/entity/Q272208'), ('oname', 'Montparnasse Cemetery')]\n",
      "[('fname', 'Cornelius Castoriadis'), ('o', 'http://www.wikidata.org/entity/Q272208'), ('oname', 'Montparnasse Cemetery')]\n",
      "[('fname', 'Charles Rappoport'), ('o', 'http://www.wikidata.org/entity/Q272208'), ('oname', 'Montparnasse Cemetery')]\n",
      "[('fname', 'Jeanne Lapauze'), ('o', 'http://www.wikidata.org/entity/Q272208'), ('oname', 'Montparnasse Cemetery')]\n",
      "[('fname', 'Léon-Paul Fargue'), ('o', 'http://www.wikidata.org/entity/Q272208'), ('oname', 'Montparnasse Cemetery')]\n",
      "[('fname', 'Anne Wiazemsky'), ('o', 'http://www.wikidata.org/entity/Q272208'), ('oname', 'Montparnasse Cemetery')]\n",
      "[('fname', 'Gustave Geffroy'), ('o', 'http://www.wikidata.org/entity/Q2972544'), ('oname', 'Cimetière de Montrouge')]\n",
      "[('fname', \"Armand d'Artois\"), ('o', 'http://www.wikidata.org/entity/Q311'), ('oname', 'Père Lachaise Cemetery')]\n",
      "[('fname', 'Valérie Simonin'), ('o', 'http://www.wikidata.org/entity/Q311'), ('oname', 'Père Lachaise Cemetery')]\n",
      "[('fname', 'Arsène Arnaud Claretie'), ('o', 'http://www.wikidata.org/entity/Q311'), ('oname', 'Père Lachaise Cemetery')]\n",
      "[('fname', 'Anne-Louis Girodet de Roussy-Trioson'), ('o', 'http://www.wikidata.org/entity/Q311'), ('oname', 'Père Lachaise Cemetery')]\n",
      "[('fname', 'René Doumic'), ('o', 'http://www.wikidata.org/entity/Q311'), ('oname', 'Père Lachaise Cemetery')]\n",
      "[('fname', 'Pierre Emmanuel'), ('o', 'http://www.wikidata.org/entity/Q311'), ('oname', 'Père Lachaise Cemetery')]\n",
      "[('fname', \"Charles de Batz-Castelmore d'Artagnan\"), ('o', 'http://www.wikidata.org/entity/Q55'), ('oname', 'Netherlands')]\n",
      "[('fname', 'Édouard Siebecker'), ('o', 'http://www.wikidata.org/entity/Q746647'), ('oname', 'Montmartre Cemetery')]\n",
      "[('fname', 'Pierre Alexis Ponson du Terrail'), ('o', 'http://www.wikidata.org/entity/Q746647'), ('oname', 'Montmartre Cemetery')]\n",
      "[('fname', 'Jean de Létraz'), ('o', 'http://www.wikidata.org/entity/Q12543'), ('oname', 'Hauts-de-Seine')]\n"
     ]
    },
    {
     "data": {
      "text/plain": [
       "25"
      ]
     },
     "execution_count": 6,
     "metadata": {},
     "output_type": "execute_result"
    }
   ],
   "source": [
    "#Q2\n",
    "#use P119 (place of burial) found above\n",
    "queryString = \"\"\"\n",
    "SELECT DISTINCT ?fname ?o ?oname\n",
    "WHERE { \n",
    "\n",
    "?f wdt:P27 wd:Q142;\n",
    "   wdt:P106 wd:Q36180;\n",
    "   wdt:P119 ?o.\n",
    "   \n",
    "#Labels\n",
    "?f <http://schema.org/name> ?fname .\n",
    "?o <http://schema.org/name> ?oname .\n",
    "\n",
    "} \n",
    "LIMIT 25\n",
    "\"\"\"\n",
    "\n",
    "print(\"Results\")\n",
    "run_query(queryString)"
   ]
  },
  {
   "cell_type": "markdown",
   "id": "82e6af61-2547-4cce-a73b-096368858d33",
   "metadata": {},
   "source": [
    "Retrieve some properties related to cemetries."
   ]
  },
  {
   "cell_type": "code",
   "execution_count": 7,
   "id": "7ba019b0-8fd6-4a0e-a60f-5d8f7343cd00",
   "metadata": {},
   "outputs": [
    {
     "name": "stdout",
     "output_type": "stream",
     "text": [
      "Results\n",
      "[('p', 'http://www.wikidata.org/prop/direct/P10'), ('pname', 'video')]\n",
      "[('p', 'http://www.wikidata.org/prop/direct/P1036'), ('pname', 'Dewey Decimal Classification')]\n",
      "[('p', 'http://www.wikidata.org/prop/direct/P1082'), ('pname', 'population')]\n",
      "[('p', 'http://www.wikidata.org/prop/direct/P1151'), ('pname', \"topic's main Wikimedia portal\")]\n",
      "[('p', 'http://www.wikidata.org/prop/direct/P1281'), ('pname', 'WOEID')]\n",
      "[('p', 'http://www.wikidata.org/prop/direct/P1296'), ('pname', 'Gran Enciclopèdia Catalana ID')]\n",
      "[('p', 'http://www.wikidata.org/prop/direct/P131'), ('pname', 'located in the administrative territorial entity')]\n",
      "[('p', 'http://www.wikidata.org/prop/direct/P1313'), ('pname', 'office held by head of government')]\n",
      "[('p', 'http://www.wikidata.org/prop/direct/P1343'), ('pname', 'described by source')]\n",
      "[('p', 'http://www.wikidata.org/prop/direct/P1366'), ('pname', 'replaced by')]\n",
      "[('p', 'http://www.wikidata.org/prop/direct/P1376'), ('pname', 'capital of')]\n",
      "[('p', 'http://www.wikidata.org/prop/direct/P138'), ('pname', 'named after')]\n",
      "[('p', 'http://www.wikidata.org/prop/direct/P1417'), ('pname', 'Encyclopædia Britannica Online ID')]\n",
      "[('p', 'http://www.wikidata.org/prop/direct/P1435'), ('pname', 'heritage designation')]\n",
      "[('p', 'http://www.wikidata.org/prop/direct/P1456'), ('pname', 'list of monuments')]\n",
      "[('p', 'http://www.wikidata.org/prop/direct/P1464'), ('pname', 'category for people born here')]\n",
      "[('p', 'http://www.wikidata.org/prop/direct/P1465'), ('pname', 'category for people who died here')]\n",
      "[('p', 'http://www.wikidata.org/prop/direct/P150'), ('pname', 'contains administrative territorial entity')]\n",
      "[('p', 'http://www.wikidata.org/prop/direct/P1539'), ('pname', 'female population')]\n",
      "[('p', 'http://www.wikidata.org/prop/direct/P1540'), ('pname', 'male population')]\n",
      "[('p', 'http://www.wikidata.org/prop/direct/P1566'), ('pname', 'GeoNames ID')]\n",
      "[('p', 'http://www.wikidata.org/prop/direct/P1616'), ('pname', 'SIREN number')]\n",
      "[('p', 'http://www.wikidata.org/prop/direct/P1619'), ('pname', 'date of official opening')]\n",
      "[('p', 'http://www.wikidata.org/prop/direct/P166'), ('pname', 'award received')]\n",
      "[('p', 'http://www.wikidata.org/prop/direct/P17'), ('pname', 'country')]\n"
     ]
    },
    {
     "data": {
      "text/plain": [
       "25"
      ]
     },
     "execution_count": 7,
     "metadata": {},
     "output_type": "execute_result"
    }
   ],
   "source": [
    "#Q3\n",
    "#closer look at entities \n",
    "queryString = \"\"\"\n",
    "SELECT DISTINCT ?p ?pname\n",
    "WHERE { \n",
    "\n",
    "?f wdt:P27 wd:Q142;\n",
    "   wdt:P106 wd:Q36180;\n",
    "   wdt:P119 ?c.\n",
    "\n",
    "?c ?p ?o .\n",
    "   \n",
    "#Labels\n",
    "?p <http://schema.org/name> ?pname .\n",
    "\n",
    "} \n",
    "LIMIT 25\n",
    "\"\"\"\n",
    "\n",
    "print(\"Results\")\n",
    "run_query(queryString)"
   ]
  },
  {
   "cell_type": "markdown",
   "id": "973369dd-4fae-43f7-92d0-429b7ea888ff",
   "metadata": {},
   "source": [
    "Try to use P1464 and check where it can lead us."
   ]
  },
  {
   "cell_type": "code",
   "execution_count": 8,
   "id": "430a9bb1-1274-486b-aa7a-2f1088481c5c",
   "metadata": {},
   "outputs": [
    {
     "name": "stdout",
     "output_type": "stream",
     "text": [
      "Results\n",
      "[('c', 'http://www.wikidata.org/entity/Q12642'), ('cname', 'Morbihan'), ('o', 'http://www.wikidata.org/entity/Q8081092'), ('oname', 'Category:Births in Morbihan')]\n",
      "[('c', 'http://www.wikidata.org/entity/Q55'), ('cname', 'Netherlands'), ('o', 'http://www.wikidata.org/entity/Q7463294'), ('oname', 'Category:Births in the Netherlands')]\n",
      "[('c', 'http://www.wikidata.org/entity/Q12543'), ('cname', 'Hauts-de-Seine'), ('o', 'http://www.wikidata.org/entity/Q9229576'), ('oname', 'Category:Births in Hauts-de-Seine')]\n",
      "[('c', 'http://www.wikidata.org/entity/Q1854'), ('cname', 'Ho Chi Minh City'), ('o', 'http://www.wikidata.org/entity/Q18523866'), ('oname', 'Category:Births in Ho Chi Minh City')]\n",
      "[('c', 'http://www.wikidata.org/entity/Q365'), ('cname', 'Cologne'), ('o', 'http://www.wikidata.org/entity/Q11078895'), ('oname', 'Category: Born in Cologne')]\n",
      "[('c', 'http://www.wikidata.org/entity/Q456327'), ('cname', \"Ville-d'Avray\"), ('o', 'http://www.wikidata.org/entity/Q9228011'), ('oname', \"Category:Births in Ville-d'Avray\")]\n",
      "[('c', 'http://www.wikidata.org/entity/Q171800'), ('cname', 'Évreux'), ('o', 'http://www.wikidata.org/entity/Q8079892'), ('oname', 'Category:Births in Évreux')]\n",
      "[('c', 'http://www.wikidata.org/entity/Q12820'), ('cname', 'Yvelines'), ('o', 'http://www.wikidata.org/entity/Q8081019'), ('oname', 'Category:Births in Yvelines')]\n",
      "[('c', 'http://www.wikidata.org/entity/Q985'), ('cname', 'Baden-Württemberg'), ('o', 'http://www.wikidata.org/entity/Q17279448'), ('oname', 'Category:Births in Baden-Württemberg')]\n",
      "[('c', 'http://www.wikidata.org/entity/Q240752'), ('cname', 'Chatou'), ('o', 'http://www.wikidata.org/entity/Q9224141'), ('oname', 'Category:Births in Chatou')]\n",
      "[('c', 'http://www.wikidata.org/entity/Q90'), ('cname', 'Paris'), ('o', 'http://www.wikidata.org/entity/Q9226347'), ('oname', 'Category:Births in Paris')]\n",
      "[('c', 'http://www.wikidata.org/entity/Q3105'), ('cname', 'Vosges'), ('o', 'http://www.wikidata.org/entity/Q8080954'), ('oname', 'Category:Births in Vosges')]\n",
      "[('c', 'http://www.wikidata.org/entity/Q188743'), ('cname', 'Lisieux'), ('o', 'http://www.wikidata.org/entity/Q9225525'), ('oname', 'Category:Births in Lisieux')]\n",
      "[('c', 'http://www.wikidata.org/entity/Q206493'), ('cname', 'Sèvres'), ('o', 'http://www.wikidata.org/entity/Q16751363'), ('oname', 'Category:Births in Sèvres')]\n",
      "[('c', 'http://www.wikidata.org/entity/Q217173'), ('cname', 'Jarnac'), ('o', 'http://www.wikidata.org/entity/Q9225180'), ('oname', 'Category:Births in Jarnac')]\n",
      "[('c', 'http://www.wikidata.org/entity/Q6441'), ('cname', 'Montpellier'), ('o', 'http://www.wikidata.org/entity/Q9225956'), ('oname', 'Category:Births in Montpellier')]\n",
      "[('c', 'http://www.wikidata.org/entity/Q8848'), ('cname', 'Valence'), ('o', 'http://www.wikidata.org/entity/Q6345064'), ('oname', 'Category:Births in Valence')]\n",
      "[('c', 'http://www.wikidata.org/entity/Q262'), ('cname', 'Algeria'), ('o', 'http://www.wikidata.org/entity/Q9448123'), ('oname', 'Category:Births in Algeria')]\n",
      "[('c', 'http://www.wikidata.org/entity/Q167600'), ('cname', 'Auxerre'), ('o', 'http://www.wikidata.org/entity/Q8067185'), ('oname', 'Category:Births in Auxerre')]\n",
      "[('c', 'http://www.wikidata.org/entity/Q64'), ('cname', 'Berlin'), ('o', 'http://www.wikidata.org/entity/Q15068755'), ('oname', 'Category:Births in Berlin')]\n",
      "[('c', 'http://www.wikidata.org/entity/Q12816'), ('cname', 'Yonne'), ('o', 'http://www.wikidata.org/entity/Q8081023'), ('oname', 'Category:Births in Yonne')]\n",
      "[('c', 'http://www.wikidata.org/entity/Q48958'), ('cname', 'Neuilly-sur-Seine'), ('o', 'http://www.wikidata.org/entity/Q16750710'), ('oname', 'Category:Births in Neuilly-sur-Seine')]\n",
      "[('c', 'http://www.wikidata.org/entity/Q12564'), ('cname', 'Loir-et-Cher'), ('o', 'http://www.wikidata.org/entity/Q8081062'), ('oname', 'Category:Births in Loir-et-Cher')]\n",
      "[('c', 'http://www.wikidata.org/entity/Q29234'), ('cname', 'Saint-Brieuc'), ('o', 'http://www.wikidata.org/entity/Q8072262'), ('oname', 'Category:Births in Saint-Brieuc')]\n",
      "[('c', 'http://www.wikidata.org/entity/Q3113'), ('cname', 'Allier'), ('o', 'http://www.wikidata.org/entity/Q8080875'), ('oname', 'Category:Births in Allier')]\n"
     ]
    },
    {
     "data": {
      "text/plain": [
       "25"
      ]
     },
     "execution_count": 8,
     "metadata": {},
     "output_type": "execute_result"
    }
   ],
   "source": [
    "#Q4\n",
    "#properties P1464 P1465 seem to lead to the reverse path we want to find\n",
    "queryString = \"\"\"\n",
    "SELECT DISTINCT ?c ?cname ?o ?oname\n",
    "WHERE { \n",
    "\n",
    "?f wdt:P27 wd:Q142;\n",
    "   wdt:P106 wd:Q36180;\n",
    "   wdt:P119 ?c.\n",
    "\n",
    "?c wdt:P1464 ?o .\n",
    "   \n",
    "#Labels\n",
    "?c <http://schema.org/name> ?cname .\n",
    "?o <http://schema.org/name> ?oname .\n",
    "\n",
    "} \n",
    "LIMIT 25\n",
    "\"\"\"\n",
    "\n",
    "print(\"Results\")\n",
    "run_query(queryString)"
   ]
  },
  {
   "cell_type": "markdown",
   "id": "e345e6d1-2345-49b9-97da-8cf3ced9a884",
   "metadata": {},
   "source": [
    "Retrieve the properties of the triples where \"born in Paris\" is the object."
   ]
  },
  {
   "cell_type": "code",
   "execution_count": 10,
   "id": "49ff0626-11ba-4eeb-af2a-35cbeadaad62",
   "metadata": {},
   "outputs": [
    {
     "name": "stdout",
     "output_type": "stream",
     "text": [
      "Results\n",
      "[('p', 'http://www.wikidata.org/prop/direct/P1464'), ('pname', 'category for people born here')]\n",
      "[('p', 'http://www.wikidata.org/prop/direct/P461'), ('pname', 'opposite of')]\n"
     ]
    },
    {
     "data": {
      "text/plain": [
       "2"
      ]
     },
     "execution_count": 10,
     "metadata": {},
     "output_type": "execute_result"
    }
   ],
   "source": [
    "#Q5\n",
    "#check where reverse path lead\n",
    "queryString = \"\"\"\n",
    "SELECT DISTINCT ?p ?pname\n",
    "WHERE { \n",
    "\n",
    "?s ?p wd:Q9226347. #born in Paris\n",
    "   \n",
    "#Labels\n",
    "?p <http://schema.org/name> ?pname .\n",
    "\n",
    "} \n",
    "LIMIT 25\n",
    "\"\"\"\n",
    "\n",
    "print(\"Results\")\n",
    "run_query(queryString)"
   ]
  },
  {
   "cell_type": "markdown",
   "id": "5a6db6c4-c63c-4fca-b849-0dc0c16b2add",
   "metadata": {},
   "source": [
    "As above but using \"Born in Paris\" as subject."
   ]
  },
  {
   "cell_type": "code",
   "execution_count": 11,
   "id": "241bd03c-847b-48f7-98e7-3bdbad3dc023",
   "metadata": {},
   "outputs": [
    {
     "name": "stdout",
     "output_type": "stream",
     "text": [
      "Results\n",
      "[('p', 'http://www.wikidata.org/prop/direct/P31'), ('pname', 'instance of')]\n",
      "[('p', 'http://www.wikidata.org/prop/direct/P373'), ('pname', 'Commons category')]\n",
      "[('p', 'http://www.wikidata.org/prop/direct/P4224'), ('pname', 'category contains')]\n",
      "[('p', 'http://www.wikidata.org/prop/direct/P461'), ('pname', 'opposite of')]\n",
      "[('p', 'http://www.wikidata.org/prop/direct/P971'), ('pname', 'category combines topics')]\n"
     ]
    },
    {
     "data": {
      "text/plain": [
       "5"
      ]
     },
     "execution_count": 11,
     "metadata": {},
     "output_type": "execute_result"
    }
   ],
   "source": [
    "#Q6\n",
    "#check where reverse path lead\n",
    "queryString = \"\"\"\n",
    "SELECT DISTINCT ?p ?pname\n",
    "WHERE { \n",
    "\n",
    "wd:Q9226347 ?p ?o. #born in Paris\n",
    "   \n",
    "#Labels\n",
    "?p <http://schema.org/name> ?pname .\n",
    "\n",
    "} \n",
    "LIMIT 25\n",
    "\"\"\"\n",
    "\n",
    "print(\"Results\")\n",
    "run_query(queryString)"
   ]
  },
  {
   "cell_type": "markdown",
   "id": "6b894b39-2ec2-44e2-a999-47e817f90f0e",
   "metadata": {},
   "source": [
    "Retrieve the proprties of writers that are related to a city. I add P137 (capital of) to exclude place that are not city."
   ]
  },
  {
   "cell_type": "code",
   "execution_count": 12,
   "id": "8eb1f4c2-8db9-447e-8ff4-6bed8613dd86",
   "metadata": {},
   "outputs": [
    {
     "name": "stdout",
     "output_type": "stream",
     "text": [
      "Results\n",
      "[('p', 'http://www.wikidata.org/prop/direct/P119'), ('pname', 'place of burial')]\n",
      "[('p', 'http://www.wikidata.org/prop/direct/P19'), ('pname', 'place of birth')]\n",
      "[('p', 'http://www.wikidata.org/prop/direct/P20'), ('pname', 'place of death')]\n",
      "[('p', 'http://www.wikidata.org/prop/direct/P551'), ('pname', 'residence')]\n",
      "[('p', 'http://www.wikidata.org/prop/direct/P937'), ('pname', 'work location')]\n",
      "[('p', 'http://www.wikidata.org/prop/direct/P1889'), ('pname', 'different from')]\n",
      "[('p', 'http://www.wikidata.org/prop/direct/P66'), ('pname', 'ancestral home')]\n",
      "[('p', 'http://www.wikidata.org/prop/direct/P276'), ('pname', 'location')]\n",
      "[('p', 'http://www.wikidata.org/prop/direct/P495'), ('pname', 'country of origin')]\n",
      "[('p', 'http://www.wikidata.org/prop/direct/P102'), ('pname', 'member of political party')]\n",
      "[('p', 'http://www.wikidata.org/prop/direct/P7153'), ('pname', 'significant place')]\n",
      "[('p', 'http://www.wikidata.org/prop/direct/P69'), ('pname', 'educated at')]\n",
      "[('p', 'http://www.wikidata.org/prop/direct/P361'), ('pname', 'part of')]\n",
      "[('p', 'http://www.wikidata.org/prop/direct/P138'), ('pname', 'named after')]\n",
      "[('p', 'http://www.wikidata.org/prop/direct/P2650'), ('pname', 'interested in')]\n",
      "[('p', 'http://www.wikidata.org/prop/direct/P140'), ('pname', 'religion')]\n",
      "[('p', 'http://www.wikidata.org/prop/direct/P27'), ('pname', 'country of citizenship')]\n",
      "[('p', 'http://www.wikidata.org/prop/direct/P740'), ('pname', 'location of formation')]\n",
      "[('p', 'http://www.wikidata.org/prop/direct/P1321'), ('pname', 'place of origin (Switzerland)')]\n",
      "[('p', 'http://www.wikidata.org/prop/direct/P2632'), ('pname', 'place of detention')]\n",
      "[('p', 'http://www.wikidata.org/prop/direct/P734'), ('pname', 'family name')]\n",
      "[('p', 'http://www.wikidata.org/prop/direct/P108'), ('pname', 'employer')]\n",
      "[('p', 'http://www.wikidata.org/prop/direct/P31'), ('pname', 'instance of')]\n",
      "[('p', 'http://www.wikidata.org/prop/direct/P136'), ('pname', 'genre')]\n",
      "[('p', 'http://www.wikidata.org/prop/direct/P159'), ('pname', 'headquarters location')]\n"
     ]
    },
    {
     "data": {
      "text/plain": [
       "25"
      ]
     },
     "execution_count": 12,
     "metadata": {},
     "output_type": "execute_result"
    }
   ],
   "source": [
    "#Q7\n",
    "#that properties don't look useful\n",
    "#search properties of writers, add P1376 (capital of) found in Q3 to have only cities as objects\n",
    "queryString = \"\"\"\n",
    "SELECT DISTINCT ?p ?pname\n",
    "WHERE { \n",
    "\n",
    "?f wdt:P106 wd:Q36180;  #writers\n",
    "   ?p ?city.\n",
    "\n",
    "?city wdt:P1376 ?o. #capital of\n",
    "   \n",
    "#Labels\n",
    "?p <http://schema.org/name> ?pname .\n",
    "\n",
    "} \n",
    "LIMIT 25\n",
    "\"\"\"\n",
    "\n",
    "print(\"Results\")\n",
    "run_query(queryString)"
   ]
  },
  {
   "cell_type": "markdown",
   "id": "e29a12de-5402-44d7-aa51-5fde5292c4d7",
   "metadata": {},
   "source": [
    "Above I found P19 (place of birth) and P20 (place of death). Retrieve some french writers and their place of birth."
   ]
  },
  {
   "cell_type": "code",
   "execution_count": 13,
   "id": "8c3250eb-9a4c-435c-95f6-2d958f71299e",
   "metadata": {},
   "outputs": [
    {
     "name": "stdout",
     "output_type": "stream",
     "text": [
      "Results\n",
      "[('f', 'http://www.wikidata.org/entity/Q21775921'), ('fname', 'Ferdinand Pouy'), ('o', 'http://www.wikidata.org/entity/Q1373216'), ('oname', 'Villiers-sur-Tholon')]\n",
      "[('f', 'http://www.wikidata.org/entity/Q63485595'), ('fname', 'Mariette Moreaud Monnet'), ('o', 'http://www.wikidata.org/entity/Q82185'), ('oname', 'La Rochelle')]\n",
      "[('f', 'http://www.wikidata.org/entity/Q16186086'), ('fname', 'Jacob Neyts'), ('o', 'http://www.wikidata.org/entity/Q12994'), ('oname', 'Bruges')]\n",
      "[('f', 'http://www.wikidata.org/entity/Q16196357'), ('fname', 'Anacharsis Combes'), ('o', 'http://www.wikidata.org/entity/Q188776'), ('oname', 'Castres')]\n",
      "[('f', 'http://www.wikidata.org/entity/Q17429277'), ('fname', 'Gabrielle Réval'), ('o', 'http://www.wikidata.org/entity/Q13395'), ('oname', 'Viterbo')]\n",
      "[('f', 'http://www.wikidata.org/entity/Q3091464'), ('fname', 'Xavier Forneret'), ('o', 'http://www.wikidata.org/entity/Q16121'), ('oname', 'Beaune')]\n",
      "[('f', 'http://www.wikidata.org/entity/Q674280'), ('fname', 'Pierre Delanoë'), ('o', 'http://www.wikidata.org/entity/Q163948'), ('oname', '10th arrondissement of Paris')]\n",
      "[('f', 'http://www.wikidata.org/entity/Q214821'), ('fname', 'Gilad Shalit'), ('o', 'http://www.wikidata.org/entity/Q167749'), ('oname', 'Nahariya')]\n",
      "[('f', 'http://www.wikidata.org/entity/Q27767341'), ('fname', 'Georges Lechartier'), ('o', 'http://www.wikidata.org/entity/Q191415'), ('oname', 'Asnières-sur-Seine')]\n",
      "[('f', 'http://www.wikidata.org/entity/Q2618397'), ('fname', 'François Eudes de Mézeray'), ('o', 'http://www.wikidata.org/entity/Q248839'), ('oname', 'Ri')]\n",
      "[('f', 'http://www.wikidata.org/entity/Q164469'), ('fname', 'Pierre Emmanuel'), ('o', 'http://www.wikidata.org/entity/Q859063'), ('oname', 'Gan')]\n",
      "[('f', 'http://www.wikidata.org/entity/Q3426412'), ('fname', 'René Jolivet'), ('o', 'http://www.wikidata.org/entity/Q159469'), ('oname', 'Albertville')]\n",
      "[('f', 'http://www.wikidata.org/entity/Q744183'), ('fname', \"Charles de Batz-Castelmore d'Artagnan\"), ('o', 'http://www.wikidata.org/entity/Q191085'), ('oname', 'Gascony')]\n",
      "[('f', 'http://www.wikidata.org/entity/Q1238005'), ('fname', 'Louis de Fourcaud'), ('o', 'http://www.wikidata.org/entity/Q1041910'), ('oname', 'Beaumarchés')]\n",
      "[('f', 'http://www.wikidata.org/entity/Q23309163'), ('fname', 'Olivier Bourdeaut'), ('o', 'http://www.wikidata.org/entity/Q12191'), ('oname', 'Nantes')]\n",
      "[('f', 'http://www.wikidata.org/entity/Q548860'), ('fname', 'Michel Seuphor'), ('o', 'http://www.wikidata.org/entity/Q12892'), ('oname', 'Antwerp')]\n",
      "[('f', 'http://www.wikidata.org/entity/Q77742'), ('fname', 'Gottlieb Konrad Pfeffel'), ('o', 'http://www.wikidata.org/entity/Q130994'), ('oname', 'Colmar')]\n",
      "[('f', 'http://www.wikidata.org/entity/Q384698'), ('fname', 'Barthélémy Aneau'), ('o', 'http://www.wikidata.org/entity/Q132404'), ('oname', 'Bourges')]\n",
      "[('f', 'http://www.wikidata.org/entity/Q76395'), ('fname', 'Alfred Grosser'), ('o', 'http://www.wikidata.org/entity/Q1794'), ('oname', 'Frankfurt am Main')]\n",
      "[('f', 'http://www.wikidata.org/entity/Q1210514'), ('fname', 'Didier Barbelivien'), ('o', 'http://www.wikidata.org/entity/Q187153'), ('oname', '14th arrondissement of Paris')]\n",
      "[('f', 'http://www.wikidata.org/entity/Q597354'), ('fname', 'Jean Markale'), ('o', 'http://www.wikidata.org/entity/Q187153'), ('oname', '14th arrondissement of Paris')]\n",
      "[('f', 'http://www.wikidata.org/entity/Q22212601'), ('fname', 'Jean-Christophe Portes'), ('o', 'http://www.wikidata.org/entity/Q193920'), ('oname', 'Rueil-Malmaison')]\n",
      "[('f', 'http://www.wikidata.org/entity/Q3271271'), ('fname', 'Léon Poirier'), ('o', 'http://www.wikidata.org/entity/Q194420'), ('oname', '16th arrondissement of Paris')]\n",
      "[('f', 'http://www.wikidata.org/entity/Q274464'), ('fname', 'Édouard Vaillant'), ('o', 'http://www.wikidata.org/entity/Q208538'), ('oname', 'Vierzon')]\n",
      "[('f', 'http://www.wikidata.org/entity/Q17496617'), ('fname', 'Jean Charles-Roux'), ('o', 'http://www.wikidata.org/entity/Q23482'), ('oname', 'Marseille')]\n"
     ]
    },
    {
     "data": {
      "text/plain": [
       "25"
      ]
     },
     "execution_count": 13,
     "metadata": {},
     "output_type": "execute_result"
    }
   ],
   "source": [
    "#Q8\n",
    "#use P19 and P20 found above\n",
    "queryString = \"\"\"\n",
    "SELECT DISTINCT ?f ?fname ?o ?oname\n",
    "WHERE { \n",
    "\n",
    "?f  wdt:P27 wd:Q142;\n",
    "    wdt:P106 wd:Q36180;  #writers\n",
    "    wdt:P19 ?o.\n",
    "   \n",
    "#Labels\n",
    "?f <http://schema.org/name> ?fname .\n",
    "?o <http://schema.org/name> ?oname .\n",
    "\n",
    "} \n",
    "LIMIT 25\n",
    "\"\"\"\n",
    "\n",
    "print(\"Results\")\n",
    "run_query(queryString)"
   ]
  },
  {
   "cell_type": "markdown",
   "id": "87ec6827-ac0d-476e-90bb-359922e50eec",
   "metadata": {},
   "source": [
    "Retrieve place of birth, death and burial of Baudelaire."
   ]
  },
  {
   "cell_type": "code",
   "execution_count": 14,
   "id": "68d70af1-53a5-48c3-94fc-13b1e01c606a",
   "metadata": {},
   "outputs": [
    {
     "name": "stdout",
     "output_type": "stream",
     "text": [
      "Results\n",
      "[('bname', 'Paris'), ('dname', 'Paris'), ('buname', 'Montparnasse Cemetery')]\n"
     ]
    },
    {
     "data": {
      "text/plain": [
       "1"
      ]
     },
     "execution_count": 14,
     "metadata": {},
     "output_type": "execute_result"
    }
   ],
   "source": [
    "#Q9\n",
    "#retrieve place of birth, death and burial of Baudelaire\n",
    "queryString = \"\"\"\n",
    "SELECT DISTINCT ?bname ?dname ?buname\n",
    "WHERE { \n",
    "\n",
    "wd:Q501 wdt:P19 ?birth;\n",
    "        wdt:P20 ?death;\n",
    "        wdt:P119 ?burial.\n",
    "\n",
    "   \n",
    "#Labels\n",
    "?birth <http://schema.org/name> ?bname .\n",
    "?death <http://schema.org/name> ?dname .\n",
    "?burial <http://schema.org/name> ?buname .\n",
    "\n",
    "} \n",
    "LIMIT 25\n",
    "\"\"\"\n",
    "\n",
    "print(\"Results\")\n",
    "run_query(queryString)"
   ]
  },
  {
   "cell_type": "markdown",
   "id": "1a762bc4-cde7-40c1-a69e-98459adc1d60",
   "metadata": {},
   "source": [
    "<h3> TASK 1 ENDS HERE </h3>\n",
    "In the code below there is the BGP to obtain someone's place of birth, death and burial."
   ]
  },
  {
   "cell_type": "code",
   "execution_count": 15,
   "id": "a0ed93f0-fac2-4451-bc43-1d5ba701ed39",
   "metadata": {},
   "outputs": [
    {
     "name": "stdout",
     "output_type": "stream",
     "text": [
      "Results\n",
      "[('s', 'http://www.wikidata.org/entity/Q310715'), ('birth', 'http://www.wikidata.org/entity/Q1289'), ('death', 'http://www.wikidata.org/entity/Q1095443'), ('burial', 'http://www.wikidata.org/entity/Q272208')]\n",
      "[('s', 'http://www.wikidata.org/entity/Q4093892'), ('birth', 'http://www.wikidata.org/entity/Q45003206'), ('death', 'http://www.wikidata.org/entity/Q45003206'), ('burial', 'http://www.wikidata.org/entity/Q45003206')]\n",
      "[('s', 'http://www.wikidata.org/entity/Q456991'), ('birth', 'http://www.wikidata.org/entity/Q956524'), ('death', 'http://www.wikidata.org/entity/Q487096'), ('burial', 'http://www.wikidata.org/entity/Q126453')]\n",
      "[('s', 'http://www.wikidata.org/entity/Q553172'), ('birth', 'http://www.wikidata.org/entity/Q385070'), ('death', 'http://www.wikidata.org/entity/Q8818'), ('burial', 'http://www.wikidata.org/entity/Q3682887')]\n",
      "[('s', 'http://www.wikidata.org/entity/Q710504'), ('birth', 'http://www.wikidata.org/entity/Q180139'), ('death', 'http://www.wikidata.org/entity/Q1085'), ('burial', 'http://www.wikidata.org/entity/Q1085')]\n"
     ]
    },
    {
     "data": {
      "text/plain": [
       "5"
      ]
     },
     "execution_count": 15,
     "metadata": {},
     "output_type": "execute_result"
    }
   ],
   "source": [
    "#TASK 1 ENDS HERE:\n",
    "#The BGP to obtain someone's place of birth, death and burial is the following:\n",
    "queryString = \"\"\"\n",
    "SELECT ?s ?birth ?death ?burial\n",
    "WHERE { \n",
    "\n",
    "?s      wdt:P19 ?birth;\n",
    "        wdt:P20 ?death;\n",
    "        wdt:P119 ?burial.\n",
    "} \n",
    "LIMIT 5\n",
    "\"\"\"\n",
    "\n",
    "print(\"Results\")\n",
    "run_query(queryString)"
   ]
  },
  {
   "cell_type": "markdown",
   "id": "f27855a6-cd3e-4896-951e-754904e6dee4",
   "metadata": {},
   "source": [
    "<h3> TASK 2 STARTS HERE </h3>\n",
    "Identify the BGP to obtain the country in which a place is located."
   ]
  },
  {
   "cell_type": "markdown",
   "id": "069c8e96-1a91-4796-98fd-88d045784d1f",
   "metadata": {},
   "source": [
    "Retrieve some properties of Montparnasse cemetry."
   ]
  },
  {
   "cell_type": "code",
   "execution_count": 3,
   "id": "de0a74b2-9896-4266-a2e8-5f243ae39a51",
   "metadata": {},
   "outputs": [
    {
     "name": "stdout",
     "output_type": "stream",
     "text": [
      "Results\n",
      "[('p', 'http://www.wikidata.org/prop/direct/P131'), ('pname', 'located in the administrative territorial entity')]\n",
      "[('p', 'http://www.wikidata.org/prop/direct/P1329'), ('pname', 'phone number')]\n",
      "[('p', 'http://www.wikidata.org/prop/direct/P1566'), ('pname', 'GeoNames ID')]\n",
      "[('p', 'http://www.wikidata.org/prop/direct/P17'), ('pname', 'country')]\n",
      "[('p', 'http://www.wikidata.org/prop/direct/P1766'), ('pname', 'place name sign')]\n",
      "[('p', 'http://www.wikidata.org/prop/direct/P1791'), ('pname', 'category of people buried here')]\n",
      "[('p', 'http://www.wikidata.org/prop/direct/P18'), ('pname', 'image')]\n",
      "[('p', 'http://www.wikidata.org/prop/direct/P2025'), ('pname', 'Find A Grave cemetery ID')]\n",
      "[('p', 'http://www.wikidata.org/prop/direct/P2046'), ('pname', 'area')]\n",
      "[('p', 'http://www.wikidata.org/prop/direct/P281'), ('pname', 'postal code')]\n",
      "[('p', 'http://www.wikidata.org/prop/direct/P31'), ('pname', 'instance of')]\n",
      "[('p', 'http://www.wikidata.org/prop/direct/P3182'), ('pname', 'FANTOIR code')]\n",
      "[('p', 'http://www.wikidata.org/prop/direct/P373'), ('pname', 'Commons category')]\n",
      "[('p', 'http://www.wikidata.org/prop/direct/P495'), ('pname', 'country of origin')]\n",
      "[('p', 'http://www.wikidata.org/prop/direct/P527'), ('pname', 'has part')]\n",
      "[('p', 'http://www.wikidata.org/prop/direct/P571'), ('pname', 'inception')]\n",
      "[('p', 'http://www.wikidata.org/prop/direct/P646'), ('pname', 'Freebase ID')]\n",
      "[('p', 'http://www.wikidata.org/prop/direct/P669'), ('pname', 'located on street')]\n",
      "[('p', 'http://www.wikidata.org/prop/direct/P7772'), ('pname', 'Atlas Obscura identifier')]\n",
      "[('p', 'http://www.wikidata.org/prop/direct/P7818'), ('pname', 'French Vikidia ID')]\n",
      "[('p', 'http://www.wikidata.org/prop/direct/P856'), ('pname', 'official website')]\n",
      "[('p', 'http://www.wikidata.org/prop/direct/P910'), ('pname', \"topic's main category\")]\n",
      "[('p', 'http://www.wikidata.org/prop/direct/P935'), ('pname', 'Commons gallery')]\n",
      "[('p', 'http://www.wikidata.org/prop/direct/P3032'), ('pname', 'adjacent building')]\n",
      "[('p', 'http://www.wikidata.org/prop/direct/P2351'), ('pname', 'number of graves')]\n"
     ]
    },
    {
     "data": {
      "text/plain": [
       "25"
      ]
     },
     "execution_count": 3,
     "metadata": {},
     "output_type": "execute_result"
    }
   ],
   "source": [
    "#Q10\n",
    "#analyze wd:Q272208\n",
    "queryString = \"\"\"\n",
    "SELECT DISTINCT ?p ?pname\n",
    "WHERE { \n",
    "\n",
    "wd:Q272208 ?p ?o.\n",
    "\n",
    "#Labels\n",
    "?p <http://schema.org/name> ?pname .\n",
    "\n",
    "} \n",
    "LIMIT 25\n",
    "\"\"\"\n",
    "\n",
    "print(\"Results\")\n",
    "run_query(queryString)"
   ]
  },
  {
   "cell_type": "markdown",
   "id": "062b8f34-1fff-4aa4-a087-f2fd5c8191ac",
   "metadata": {},
   "source": [
    "In the previous result set, I found out that P17 is the property for country. Test it on Montparnasse cemetry."
   ]
  },
  {
   "cell_type": "code",
   "execution_count": 4,
   "id": "f040be51-d112-44f4-84b8-279e3a71762b",
   "metadata": {},
   "outputs": [
    {
     "name": "stdout",
     "output_type": "stream",
     "text": [
      "Results\n",
      "[('o', 'http://www.wikidata.org/entity/Q142'), ('oname', 'France')]\n"
     ]
    },
    {
     "data": {
      "text/plain": [
       "1"
      ]
     },
     "execution_count": 4,
     "metadata": {},
     "output_type": "execute_result"
    }
   ],
   "source": [
    "#Q11\n",
    "#analyze wd:Q272208 using P17 country\n",
    "queryString = \"\"\"\n",
    "SELECT DISTINCT ?o ?oname\n",
    "WHERE { \n",
    "\n",
    "wd:Q272208 wdt:P17 ?o.\n",
    "\n",
    "#Labels\n",
    "?o <http://schema.org/name> ?oname .\n",
    "\n",
    "} \n",
    "LIMIT 25\n",
    "\"\"\"\n",
    "\n",
    "print(\"Results\")\n",
    "run_query(queryString)"
   ]
  },
  {
   "cell_type": "markdown",
   "id": "6c1d98c5-7017-45ec-9375-4cf011302df2",
   "metadata": {},
   "source": [
    "In Q10 I also found P131 (located in the administrative territorial entity) and P495 (country of origin). Check the results if using Montparnasse as\n",
    "subject."
   ]
  },
  {
   "cell_type": "code",
   "execution_count": 5,
   "id": "940f2b19-7a59-49f9-91e1-2d1d3f035fbd",
   "metadata": {},
   "outputs": [
    {
     "name": "stdout",
     "output_type": "stream",
     "text": [
      "Results\n",
      "[('area', 'http://www.wikidata.org/entity/Q187153'), ('aname', '14th arrondissement of Paris'), ('origin', 'http://www.wikidata.org/entity/Q142'), ('oname', 'France')]\n"
     ]
    },
    {
     "data": {
      "text/plain": [
       "1"
      ]
     },
     "execution_count": 5,
     "metadata": {},
     "output_type": "execute_result"
    }
   ],
   "source": [
    "#Q12\n",
    "#check also P131, P495 found in Q10\n",
    "queryString = \"\"\"\n",
    "SELECT DISTINCT ?area ?aname ?origin ?oname\n",
    "WHERE { \n",
    "\n",
    "wd:Q272208 wdt:P131 ?area;\n",
    "           wdt:P495 ?origin.\n",
    "\n",
    "#Labels\n",
    "?area <http://schema.org/name> ?aname .\n",
    "?origin <http://schema.org/name> ?oname .\n",
    "\n",
    "} \n",
    "LIMIT 25\n",
    "\"\"\"\n",
    "\n",
    "print(\"Results\")\n",
    "run_query(queryString)"
   ]
  },
  {
   "cell_type": "code",
   "execution_count": 6,
   "id": "6507ff5e-83c0-466f-b673-e850e3d2cc37",
   "metadata": {},
   "outputs": [
    {
     "name": "stdout",
     "output_type": "stream",
     "text": [
      "Results\n",
      "[('o', 'http://www.wikidata.org/entity/Q2972684'), ('oname', 'Parisian cemetery')]\n"
     ]
    },
    {
     "data": {
      "text/plain": [
       "1"
      ]
     },
     "execution_count": 6,
     "metadata": {},
     "output_type": "execute_result"
    }
   ],
   "source": [
    "#Q13\n",
    "#analyze wd:Q272208 using P31\n",
    "queryString = \"\"\"\n",
    "SELECT DISTINCT ?o ?oname\n",
    "WHERE { \n",
    "\n",
    "wd:Q272208 wdt:P31 ?o.\n",
    "\n",
    "#Labels\n",
    "?o <http://schema.org/name> ?oname .\n",
    "\n",
    "} \n",
    "LIMIT 25\n",
    "\"\"\"\n",
    "\n",
    "print(\"Results\")\n",
    "run_query(queryString)"
   ]
  },
  {
   "cell_type": "code",
   "execution_count": 7,
   "id": "ce7317b9-d40a-4255-ae16-0ecfac0d24b7",
   "metadata": {},
   "outputs": [
    {
     "name": "stdout",
     "output_type": "stream",
     "text": [
      "Results\n",
      "Empty\n"
     ]
    },
    {
     "data": {
      "text/plain": [
       "0"
      ]
     },
     "execution_count": 7,
     "metadata": {},
     "output_type": "execute_result"
    }
   ],
   "source": [
    "#Q14\n",
    "#iterate over P31\n",
    "queryString = \"\"\"\n",
    "SELECT DISTINCT ?o ?oname\n",
    "WHERE { \n",
    "\n",
    "wd:Q272208 wdt:P31/wdt:P31 ?o.\n",
    "\n",
    "#Labels\n",
    "?o <http://schema.org/name> ?oname .\n",
    "\n",
    "} \n",
    "LIMIT 25\n",
    "\"\"\"\n",
    "\n",
    "print(\"Results\")\n",
    "run_query(queryString)"
   ]
  },
  {
   "cell_type": "markdown",
   "id": "caeea54b-c206-4633-9154-51e6b565b99c",
   "metadata": {},
   "source": [
    "I'd like to see if there are some categories related to historical places/monuments or to distinguish points of interest in general. Retrieve the \n",
    "properties of \"Parisian cemetry\" found in Q13."
   ]
  },
  {
   "cell_type": "code",
   "execution_count": 8,
   "id": "ea563196-32d5-4324-9cbe-b77f5d5c2e09",
   "metadata": {},
   "outputs": [
    {
     "name": "stdout",
     "output_type": "stream",
     "text": [
      "Results\n",
      "[('p', 'http://www.wikidata.org/prop/direct/P910'), ('pname', \"topic's main category\"), ('o', 'http://www.wikidata.org/entity/Q8959882'), ('oname', 'Category:Cemeteries in Paris')]\n",
      "[('p', 'http://www.wikidata.org/prop/direct/P17'), ('pname', 'country'), ('o', 'http://www.wikidata.org/entity/Q142'), ('oname', 'France')]\n",
      "[('p', 'http://www.wikidata.org/prop/direct/P126'), ('pname', 'maintained by'), ('o', 'http://www.wikidata.org/entity/Q90'), ('oname', 'Paris')]\n",
      "[('p', 'http://www.wikidata.org/prop/direct/P279'), ('pname', 'subclass of'), ('o', 'http://www.wikidata.org/entity/Q39614'), ('oname', 'cemetery')]\n"
     ]
    },
    {
     "data": {
      "text/plain": [
       "4"
      ]
     },
     "execution_count": 8,
     "metadata": {},
     "output_type": "execute_result"
    }
   ],
   "source": [
    "#Q15\n",
    "#looking for something related to place/monument\n",
    "queryString = \"\"\"\n",
    "SELECT DISTINCT ?p ?pname ?o ?oname\n",
    "WHERE { \n",
    "\n",
    "wd:Q2972684 ?p ?o.\n",
    "\n",
    "#Labels\n",
    "?p <http://schema.org/name> ?pname .\n",
    "?o <http://schema.org/name> ?oname .\n",
    "\n",
    "} \n",
    "LIMIT 25\n",
    "\"\"\"\n",
    "\n",
    "print(\"Results\")\n",
    "run_query(queryString)"
   ]
  },
  {
   "cell_type": "markdown",
   "id": "ed821752-2fe4-4243-80bd-2c10e895cf9e",
   "metadata": {},
   "source": [
    "As previous query but using \"cemetry\" (Q39614)."
   ]
  },
  {
   "cell_type": "code",
   "execution_count": 9,
   "id": "fd330eb9-89f6-437d-a06f-6ddc7439e8e6",
   "metadata": {},
   "outputs": [
    {
     "name": "stdout",
     "output_type": "stream",
     "text": [
      "Results\n",
      "[('p', 'http://www.wikidata.org/prop/direct/P1963'), ('pname', 'properties for this type'), ('o', 'http://www.wikidata.org/entity/P2046'), ('oname', 'area')]\n",
      "[('p', 'http://www.wikidata.org/prop/direct/P1963'), ('pname', 'properties for this type'), ('o', 'http://www.wikidata.org/entity/P1705'), ('oname', 'native label')]\n",
      "[('p', 'http://www.wikidata.org/prop/direct/P1963'), ('pname', 'properties for this type'), ('o', 'http://www.wikidata.org/entity/P2324'), ('oname', 'quantity buried')]\n",
      "[('p', 'http://www.wikidata.org/prop/direct/P527'), ('pname', 'has part'), ('o', 'http://www.wikidata.org/entity/Q173387'), ('oname', 'grave')]\n",
      "[('p', 'http://www.wikidata.org/prop/direct/P279'), ('pname', 'subclass of'), ('o', 'http://www.wikidata.org/entity/Q1497375'), ('oname', 'architectural ensemble')]\n",
      "[('p', 'http://www.wikidata.org/prop/direct/P1963'), ('pname', 'properties for this type'), ('o', 'http://www.wikidata.org/entity/P2351'), ('oname', 'number of graves')]\n",
      "[('p', 'http://www.wikidata.org/prop/direct/P1963'), ('pname', 'properties for this type'), ('o', 'http://www.wikidata.org/entity/P373'), ('oname', 'Commons category')]\n",
      "[('p', 'http://www.wikidata.org/prop/direct/P279'), ('pname', 'subclass of'), ('o', 'http://www.wikidata.org/entity/Q12131650'), ('oname', 'location of burial')]\n",
      "[('p', 'http://www.wikidata.org/prop/direct/P1889'), ('pname', 'different from'), ('o', 'http://www.wikidata.org/entity/Q12131650'), ('oname', 'location of burial')]\n",
      "[('p', 'http://www.wikidata.org/prop/direct/P1557'), ('pname', 'manifestation of'), ('o', 'http://www.wikidata.org/entity/Q4'), ('oname', 'death')]\n",
      "[('p', 'http://www.wikidata.org/prop/direct/P1269'), ('pname', 'facet of'), ('o', 'http://www.wikidata.org/entity/Q4'), ('oname', 'death')]\n",
      "[('p', 'http://www.wikidata.org/prop/direct/P527'), ('pname', 'has part'), ('o', 'http://www.wikidata.org/entity/Q5003624'), ('oname', 'memorial')]\n",
      "[('p', 'http://www.wikidata.org/prop/direct/P1343'), ('pname', 'described by source'), ('o', 'http://www.wikidata.org/entity/Q65109596'), ('oname', 'Arkeologisen kulttuuriperinnön opas')]\n",
      "[('p', 'http://www.wikidata.org/prop/direct/P279'), ('pname', 'subclass of'), ('o', 'http://www.wikidata.org/entity/Q13226383'), ('oname', 'facility')]\n",
      "[('p', 'http://www.wikidata.org/prop/direct/P1963'), ('pname', 'properties for this type'), ('o', 'http://www.wikidata.org/entity/P140'), ('oname', 'religion')]\n",
      "[('p', 'http://www.wikidata.org/prop/direct/P1963'), ('pname', 'properties for this type'), ('o', 'http://www.wikidata.org/entity/P1621'), ('oname', 'detail map')]\n",
      "[('p', 'http://www.wikidata.org/prop/direct/P1963'), ('pname', 'properties for this type'), ('o', 'http://www.wikidata.org/entity/P17'), ('oname', 'country')]\n",
      "[('p', 'http://www.wikidata.org/prop/direct/P1343'), ('pname', 'described by source'), ('o', 'http://www.wikidata.org/entity/Q106727050'), ('oname', 'Metropolitan Museum of Art Tagging Vocabulary')]\n",
      "[('p', 'http://www.wikidata.org/prop/direct/P1343'), ('pname', 'described by source'), ('o', 'http://www.wikidata.org/entity/Q602358'), ('oname', 'Brockhaus and Efron Encyclopedic Dictionary')]\n",
      "[('p', 'http://www.wikidata.org/prop/direct/P279'), ('pname', 'subclass of'), ('o', 'http://www.wikidata.org/entity/Q811979'), ('oname', 'architectural structure')]\n",
      "[('p', 'http://www.wikidata.org/prop/direct/P1963'), ('pname', 'properties for this type'), ('o', 'http://www.wikidata.org/entity/P571'), ('oname', 'inception')]\n",
      "[('p', 'http://www.wikidata.org/prop/direct/P1963'), ('pname', 'properties for this type'), ('o', 'http://www.wikidata.org/entity/P131'), ('oname', 'located in the administrative territorial entity')]\n",
      "[('p', 'http://www.wikidata.org/prop/direct/P1963'), ('pname', 'properties for this type'), ('o', 'http://www.wikidata.org/entity/P625'), ('oname', 'coordinate location')]\n",
      "[('p', 'http://www.wikidata.org/prop/direct/P1963'), ('pname', 'properties for this type'), ('o', 'http://www.wikidata.org/entity/P6375'), ('oname', 'street address')]\n",
      "[('p', 'http://www.wikidata.org/prop/direct/P1343'), ('pname', 'described by source'), ('o', 'http://www.wikidata.org/entity/Q103892210'), ('oname', 'Green Map Icons')]\n"
     ]
    },
    {
     "data": {
      "text/plain": [
       "25"
      ]
     },
     "execution_count": 9,
     "metadata": {},
     "output_type": "execute_result"
    }
   ],
   "source": [
    "#Q16\n",
    "#looking for something related to place/monument using Q39614 found above\n",
    "queryString = \"\"\"\n",
    "SELECT DISTINCT ?p ?pname ?o ?oname\n",
    "WHERE { \n",
    "\n",
    "wd:Q39614 ?p ?o.\n",
    "\n",
    "#Labels\n",
    "?p <http://schema.org/name> ?pname .\n",
    "?o <http://schema.org/name> ?oname .\n",
    "\n",
    "} \n",
    "LIMIT 25\n",
    "\"\"\"\n",
    "\n",
    "print(\"Results\")\n",
    "run_query(queryString)"
   ]
  },
  {
   "cell_type": "markdown",
   "id": "a78de1ed-7687-470a-9de1-3685ce5a7699",
   "metadata": {},
   "source": [
    "Retrieve just the properties."
   ]
  },
  {
   "cell_type": "code",
   "execution_count": 11,
   "id": "9dc8838d-ab9b-4072-9b7a-998f3d4db700",
   "metadata": {},
   "outputs": [
    {
     "name": "stdout",
     "output_type": "stream",
     "text": [
      "Results\n",
      "[('p', 'http://www.wikidata.org/prop/direct/P1014'), ('pname', 'Art & Architecture Thesaurus ID')]\n",
      "[('p', 'http://www.wikidata.org/prop/direct/P1051'), ('pname', 'PSH ID')]\n",
      "[('p', 'http://www.wikidata.org/prop/direct/P1225'), ('pname', 'U.S. National Archives Identifier')]\n",
      "[('p', 'http://www.wikidata.org/prop/direct/P1245'), ('pname', 'OmegaWiki Defined Meaning')]\n",
      "[('p', 'http://www.wikidata.org/prop/direct/P1269'), ('pname', 'facet of')]\n",
      "[('p', 'http://www.wikidata.org/prop/direct/P1282'), ('pname', 'OpenStreetMap tag or key')]\n",
      "[('p', 'http://www.wikidata.org/prop/direct/P1296'), ('pname', 'Gran Enciclopèdia Catalana ID')]\n",
      "[('p', 'http://www.wikidata.org/prop/direct/P1343'), ('pname', 'described by source')]\n",
      "[('p', 'http://www.wikidata.org/prop/direct/P1417'), ('pname', 'Encyclopædia Britannica Online ID')]\n",
      "[('p', 'http://www.wikidata.org/prop/direct/P1424'), ('pname', \"topic's main template\")]\n",
      "[('p', 'http://www.wikidata.org/prop/direct/P1557'), ('pname', 'manifestation of')]\n",
      "[('p', 'http://www.wikidata.org/prop/direct/P1709'), ('pname', 'equivalent class')]\n",
      "[('p', 'http://www.wikidata.org/prop/direct/P18'), ('pname', 'image')]\n",
      "[('p', 'http://www.wikidata.org/prop/direct/P1842'), ('pname', 'Global Anabaptist Mennonite Encyclopedia Online ID')]\n",
      "[('p', 'http://www.wikidata.org/prop/direct/P1889'), ('pname', 'different from')]\n",
      "[('p', 'http://www.wikidata.org/prop/direct/P1900'), ('pname', 'EAGLE id')]\n",
      "[('p', 'http://www.wikidata.org/prop/direct/P1963'), ('pname', 'properties for this type')]\n",
      "[('p', 'http://www.wikidata.org/prop/direct/P2163'), ('pname', 'FAST ID')]\n",
      "[('p', 'http://www.wikidata.org/prop/direct/P227'), ('pname', 'GND ID')]\n",
      "[('p', 'http://www.wikidata.org/prop/direct/P2347'), ('pname', 'YSO ID')]\n",
      "[('p', 'http://www.wikidata.org/prop/direct/P244'), ('pname', 'Library of Congress authority ID')]\n",
      "[('p', 'http://www.wikidata.org/prop/direct/P2452'), ('pname', 'GeoNames feature code')]\n",
      "[('p', 'http://www.wikidata.org/prop/direct/P2579'), ('pname', 'studied by')]\n",
      "[('p', 'http://www.wikidata.org/prop/direct/P2581'), ('pname', 'BabelNet ID')]\n",
      "[('p', 'http://www.wikidata.org/prop/direct/P268'), ('pname', 'Bibliothèque nationale de France ID')]\n",
      "[('p', 'http://www.wikidata.org/prop/direct/P279'), ('pname', 'subclass of')]\n",
      "[('p', 'http://www.wikidata.org/prop/direct/P3021'), ('pname', 'Iranica ID')]\n",
      "[('p', 'http://www.wikidata.org/prop/direct/P3241'), ('pname', 'Catholic Encyclopedia ID')]\n",
      "[('p', 'http://www.wikidata.org/prop/direct/P3365'), ('pname', 'Treccani ID')]\n",
      "[('p', 'http://www.wikidata.org/prop/direct/P3417'), ('pname', 'Quora topic ID')]\n",
      "[('p', 'http://www.wikidata.org/prop/direct/P3451'), ('pname', 'nighttime view')]\n",
      "[('p', 'http://www.wikidata.org/prop/direct/P349'), ('pname', 'National Diet Library ID')]\n",
      "[('p', 'http://www.wikidata.org/prop/direct/P373'), ('pname', 'Commons category')]\n",
      "[('p', 'http://www.wikidata.org/prop/direct/P3827'), ('pname', 'JSTOR topic ID')]\n",
      "[('p', 'http://www.wikidata.org/prop/direct/P4212'), ('pname', 'PACTOLS thesaurus ID')]\n",
      "[('p', 'http://www.wikidata.org/prop/direct/P4527'), ('pname', 'UK Parliament thesaurus ID')]\n",
      "[('p', 'http://www.wikidata.org/prop/direct/P486'), ('pname', 'MeSH descriptor ID')]\n",
      "[('p', 'http://www.wikidata.org/prop/direct/P487'), ('pname', 'Unicode character')]\n",
      "[('p', 'http://www.wikidata.org/prop/direct/P508'), ('pname', 'BNCF Thesaurus ID')]\n",
      "[('p', 'http://www.wikidata.org/prop/direct/P5198'), ('pname', 'ASC Leiden Thesaurus ID')]\n",
      "[('p', 'http://www.wikidata.org/prop/direct/P5247'), ('pname', 'Giant Bomb ID')]\n",
      "[('p', 'http://www.wikidata.org/prop/direct/P527'), ('pname', 'has part')]\n",
      "[('p', 'http://www.wikidata.org/prop/direct/P5604'), ('pname', 'archINFORM keyword ID')]\n",
      "[('p', 'http://www.wikidata.org/prop/direct/P6293'), ('pname', 'YSA ID')]\n",
      "[('p', 'http://www.wikidata.org/prop/direct/P646'), ('pname', 'Freebase ID')]\n",
      "[('p', 'http://www.wikidata.org/prop/direct/P6573'), ('pname', 'Klexikon article ID')]\n",
      "[('p', 'http://www.wikidata.org/prop/direct/P672'), ('pname', 'MeSH tree code')]\n",
      "[('p', 'http://www.wikidata.org/prop/direct/P7497'), ('pname', 'Wolfram Language entity type')]\n",
      "[('p', 'http://www.wikidata.org/prop/direct/P7644'), ('pname', 'Encyclopedia of Cleveland History ID')]\n",
      "[('p', 'http://www.wikidata.org/prop/direct/P7686'), ('pname', 'Encyclopedia of the Great Plains ID')]\n"
     ]
    },
    {
     "data": {
      "text/plain": [
       "50"
      ]
     },
     "execution_count": 11,
     "metadata": {},
     "output_type": "execute_result"
    }
   ],
   "source": [
    "#Q17\n",
    "#looking for something related to place/monument using Q39614 found above\n",
    "#as before but only properties\n",
    "queryString = \"\"\"\n",
    "SELECT DISTINCT ?p ?pname\n",
    "WHERE {\n",
    "\n",
    "wd:Q39614 ?p ?o.\n",
    "\n",
    "#Labels\n",
    "?p <http://schema.org/name> ?pname .\n",
    "\n",
    "} \n",
    "LIMIT 50\n",
    "\"\"\"\n",
    "\n",
    "print(\"Results\")\n",
    "run_query(queryString)"
   ]
  },
  {
   "cell_type": "markdown",
   "id": "39dffd1b-7506-47b6-8e16-6ecf8a753e91",
   "metadata": {},
   "source": [
    "Use property P1766 (place name sign) found in Q10"
   ]
  },
  {
   "cell_type": "code",
   "execution_count": 13,
   "id": "8f165740-758d-41f2-b0c3-13cbb8405fb5",
   "metadata": {},
   "outputs": [
    {
     "name": "stdout",
     "output_type": "stream",
     "text": [
      "Results\n",
      "Empty\n"
     ]
    },
    {
     "data": {
      "text/plain": [
       "0"
      ]
     },
     "execution_count": 13,
     "metadata": {},
     "output_type": "execute_result"
    }
   ],
   "source": [
    "#Q18\n",
    "#use property P1766 found in Q10\n",
    "queryString = \"\"\"\n",
    "SELECT DISTINCT ?o ?oname\n",
    "WHERE {\n",
    "\n",
    "wd:Q272208 wdt:P1766 ?o.\n",
    "\n",
    "#Labels\n",
    "?o <http://schema.org/name> ?oname .\n",
    "\n",
    "} \n",
    "LIMIT 25\n",
    "\"\"\"\n",
    "\n",
    "print(\"Results\")\n",
    "run_query(queryString)"
   ]
  },
  {
   "cell_type": "markdown",
   "id": "90ba6bde-8e89-4201-bb72-5f434d83b60c",
   "metadata": {},
   "source": [
    "Try to build a path using Q1497375 (architecture ensemble) found in Q16."
   ]
  },
  {
   "cell_type": "code",
   "execution_count": 14,
   "id": "2986c06b-7a0a-4576-a5b5-c119eebae59b",
   "metadata": {},
   "outputs": [
    {
     "name": "stdout",
     "output_type": "stream",
     "text": [
      "Results\n",
      "[('s', 'http://www.wikidata.org/entity/Q56685193'), ('sname', 'Collège de Pontlevoy')]\n",
      "[('s', 'http://www.wikidata.org/entity/Q66715783'), ('sname', 'Habitation Gradis')]\n",
      "[('s', 'http://www.wikidata.org/entity/Q22925567'), ('sname', 'Domaine des Granges à Hénon')]\n",
      "[('s', 'http://www.wikidata.org/entity/Q22979508'), ('sname', 'Domaine du château de Saint-Symphorien-des-Monts')]\n",
      "[('s', 'http://www.wikidata.org/entity/Q5289861'), ('sname', 'Domaine de Terre Blanche')]\n",
      "[('s', 'http://www.wikidata.org/entity/Q856882'), ('sname', 'Bicêtre')]\n",
      "[('s', 'http://www.wikidata.org/entity/Q3034410'), ('sname', 'Domaine de Beauregard')]\n",
      "[('s', 'http://www.wikidata.org/entity/Q22996538'), ('sname', 'Domaine de Vallète')]\n",
      "[('s', 'http://www.wikidata.org/entity/Q88413287'), ('sname', 'Domaine Adolphe-Chérioux')]\n",
      "[('s', 'http://www.wikidata.org/entity/Q22954710'), ('sname', 'Domaine de la Forêt')]\n",
      "[('s', 'http://www.wikidata.org/entity/Q107470992'), ('sname', 'mansion of Madame Élisabeth')]\n",
      "[('s', 'http://www.wikidata.org/entity/Q3034418'), ('sname', 'domain of Chantilly')]\n",
      "[('s', 'http://www.wikidata.org/entity/Q60442408'), ('sname', 'domaine de Boisbuchet')]\n",
      "[('s', 'http://www.wikidata.org/entity/Q3034598'), ('sname', 'Domaine des Treilles')]\n",
      "[('s', 'http://www.wikidata.org/entity/Q107662899'), ('sname', \"mansion of Queen's Stables\")]\n",
      "[('s', 'http://www.wikidata.org/entity/Q63348290'), ('sname', 'Château de Dreux')]\n",
      "[('s', 'http://www.wikidata.org/entity/Q22916194'), ('sname', 'Domaine des Colombières')]\n",
      "[('s', 'http://www.wikidata.org/entity/Q22920350'), ('sname', 'Domaine de la Seiglière')]\n",
      "[('s', 'http://www.wikidata.org/entity/Q22922454'), ('sname', 'Domaine de Ravanne (Écuelles)')]\n",
      "[('s', 'http://www.wikidata.org/entity/Q22940019'), ('sname', 'Domaine de la Fédial')]\n",
      "[('s', 'http://www.wikidata.org/entity/Q96357339'), ('sname', 'Domaine de Bellevue')]\n",
      "[('s', 'http://www.wikidata.org/entity/Q22980830'), ('sname', 'Domaine de Villeflix')]\n",
      "[('s', 'http://www.wikidata.org/entity/Q98925316'), ('sname', 'Domaine de Méréville')]\n",
      "[('s', 'http://www.wikidata.org/entity/Q29814287'), ('sname', 'Château de Mouillemuse')]\n",
      "[('s', 'http://www.wikidata.org/entity/Q3034479'), ('sname', 'Domaine de La Saussaye, Sours')]\n"
     ]
    },
    {
     "data": {
      "text/plain": [
       "25"
      ]
     },
     "execution_count": 14,
     "metadata": {},
     "output_type": "execute_result"
    }
   ],
   "source": [
    "#Q19\n",
    "#try to connect with Q1497375 (architecture ensemble) found in Q16\n",
    "queryString = \"\"\"\n",
    "SELECT DISTINCT ?s ?sname\n",
    "WHERE {\n",
    "\n",
    "?s wdt:P17 wd:Q142; #france\n",
    "   wdt:P31 ?o.\n",
    "?o wdt:P279 wd:Q1497375.\n",
    "\n",
    "#Labels\n",
    "?s <http://schema.org/name> ?sname .\n",
    "\n",
    "} \n",
    "LIMIT 25\n",
    "\"\"\"\n",
    "\n",
    "print(\"Results\")\n",
    "run_query(queryString)"
   ]
  },
  {
   "cell_type": "code",
   "execution_count": 15,
   "id": "0bd215ea-6f44-4128-9693-490020bcfce4",
   "metadata": {},
   "outputs": [
    {
     "name": "stdout",
     "output_type": "stream",
     "text": [
      "Results\n",
      "[('s', 'http://www.wikidata.org/entity/Q66715783'), ('sname', 'Habitation Gradis')]\n",
      "[('s', 'http://www.wikidata.org/entity/Q22925567'), ('sname', 'Domaine des Granges à Hénon')]\n",
      "[('s', 'http://www.wikidata.org/entity/Q22979508'), ('sname', 'Domaine du château de Saint-Symphorien-des-Monts')]\n",
      "[('s', 'http://www.wikidata.org/entity/Q5289861'), ('sname', 'Domaine de Terre Blanche')]\n",
      "[('s', 'http://www.wikidata.org/entity/Q856882'), ('sname', 'Bicêtre')]\n",
      "[('s', 'http://www.wikidata.org/entity/Q3034410'), ('sname', 'Domaine de Beauregard')]\n",
      "[('s', 'http://www.wikidata.org/entity/Q22996538'), ('sname', 'Domaine de Vallète')]\n",
      "[('s', 'http://www.wikidata.org/entity/Q88413287'), ('sname', 'Domaine Adolphe-Chérioux')]\n",
      "[('s', 'http://www.wikidata.org/entity/Q22954710'), ('sname', 'Domaine de la Forêt')]\n",
      "[('s', 'http://www.wikidata.org/entity/Q107470992'), ('sname', 'mansion of Madame Élisabeth')]\n",
      "[('s', 'http://www.wikidata.org/entity/Q3034418'), ('sname', 'domain of Chantilly')]\n",
      "[('s', 'http://www.wikidata.org/entity/Q60442408'), ('sname', 'domaine de Boisbuchet')]\n",
      "[('s', 'http://www.wikidata.org/entity/Q3034598'), ('sname', 'Domaine des Treilles')]\n",
      "[('s', 'http://www.wikidata.org/entity/Q107662899'), ('sname', \"mansion of Queen's Stables\")]\n",
      "[('s', 'http://www.wikidata.org/entity/Q63348290'), ('sname', 'Château de Dreux')]\n",
      "[('s', 'http://www.wikidata.org/entity/Q22916194'), ('sname', 'Domaine des Colombières')]\n",
      "[('s', 'http://www.wikidata.org/entity/Q22920350'), ('sname', 'Domaine de la Seiglière')]\n",
      "[('s', 'http://www.wikidata.org/entity/Q22922454'), ('sname', 'Domaine de Ravanne (Écuelles)')]\n",
      "[('s', 'http://www.wikidata.org/entity/Q22940019'), ('sname', 'Domaine de la Fédial')]\n",
      "[('s', 'http://www.wikidata.org/entity/Q96357339'), ('sname', 'Domaine de Bellevue')]\n",
      "[('s', 'http://www.wikidata.org/entity/Q22980830'), ('sname', 'Domaine de Villeflix')]\n",
      "[('s', 'http://www.wikidata.org/entity/Q98925316'), ('sname', 'Domaine de Méréville')]\n",
      "[('s', 'http://www.wikidata.org/entity/Q29814287'), ('sname', 'Château de Mouillemuse')]\n",
      "[('s', 'http://www.wikidata.org/entity/Q3034479'), ('sname', 'Domaine de La Saussaye, Sours')]\n",
      "[('s', 'http://www.wikidata.org/entity/Q22988324'), ('sname', 'Ferme du Parcot')]\n"
     ]
    },
    {
     "data": {
      "text/plain": [
       "25"
      ]
     },
     "execution_count": 15,
     "metadata": {},
     "output_type": "execute_result"
    }
   ],
   "source": [
    "#Q20\n",
    "#iterate over P31\n",
    "queryString = \"\"\"\n",
    "SELECT DISTINCT ?s ?sname\n",
    "WHERE {\n",
    "\n",
    "?s wdt:P17 wd:Q142; #france\n",
    "   wdt:P31* ?o.\n",
    "?o wdt:P279 wd:Q1497375.\n",
    "\n",
    "#Labels\n",
    "?s <http://schema.org/name> ?sname .\n",
    "\n",
    "\n",
    "} \n",
    "LIMIT 25\n",
    "\"\"\"\n",
    "\n",
    "print(\"Results\")\n",
    "run_query(queryString)"
   ]
  },
  {
   "cell_type": "markdown",
   "id": "a05b68ce-d591-49f4-8828-fecf811c86f9",
   "metadata": {},
   "source": [
    "Retrieve the properties of entity wd:Q66715783 (Habitation Gradis)."
   ]
  },
  {
   "cell_type": "code",
   "execution_count": 16,
   "id": "eb35d332-c465-4661-9842-016f0f63e835",
   "metadata": {},
   "outputs": [
    {
     "name": "stdout",
     "output_type": "stream",
     "text": [
      "Results\n",
      "[('p', 'http://www.wikidata.org/prop/direct/P131'), ('pname', 'located in the administrative territorial entity')]\n",
      "[('p', 'http://www.wikidata.org/prop/direct/P1435'), ('pname', 'heritage designation')]\n",
      "[('p', 'http://www.wikidata.org/prop/direct/P17'), ('pname', 'country')]\n",
      "[('p', 'http://www.wikidata.org/prop/direct/P18'), ('pname', 'image')]\n",
      "[('p', 'http://www.wikidata.org/prop/direct/P2671'), ('pname', 'Google Knowledge Graph ID')]\n",
      "[('p', 'http://www.wikidata.org/prop/direct/P279'), ('pname', 'subclass of')]\n",
      "[('p', 'http://www.wikidata.org/prop/direct/P31'), ('pname', 'instance of')]\n",
      "[('p', 'http://www.wikidata.org/prop/direct/P373'), ('pname', 'Commons category')]\n",
      "[('p', 'http://www.wikidata.org/prop/direct/P380'), ('pname', 'Mérimée ID')]\n"
     ]
    },
    {
     "data": {
      "text/plain": [
       "9"
      ]
     },
     "execution_count": 16,
     "metadata": {},
     "output_type": "execute_result"
    }
   ],
   "source": [
    "#Q21\n",
    "#closer look to an entity\n",
    "queryString = \"\"\"\n",
    "SELECT DISTINCT ?p ?pname\n",
    "WHERE {\n",
    "\n",
    "wd:Q66715783 ?p ?o.\n",
    "\n",
    "#Labels\n",
    "?p <http://schema.org/name> ?pname .\n",
    "\n",
    "} \n",
    "LIMIT 25\n",
    "\"\"\"\n",
    "\n",
    "print(\"Results\")\n",
    "run_query(queryString)"
   ]
  },
  {
   "cell_type": "markdown",
   "id": "1b78deef-15f4-4771-aed1-598d5d2033c2",
   "metadata": {},
   "source": [
    "Try to use art and architeture id property found in Q17."
   ]
  },
  {
   "cell_type": "code",
   "execution_count": 17,
   "id": "e74110cd-621e-47df-a3dc-184c03560587",
   "metadata": {},
   "outputs": [
    {
     "name": "stdout",
     "output_type": "stream",
     "text": [
      "Results\n",
      "[('s', 'http://www.wikidata.org/entity/Q1246307'), ('sname', 'Tornesel')]\n",
      "[('s', 'http://www.wikidata.org/entity/Q455403'), ('sname', 'grand hotel')]\n",
      "[('s', 'http://www.wikidata.org/entity/Q174419'), ('sname', 'Second Empire style')]\n",
      "[('s', 'http://www.wikidata.org/entity/Q129337'), ('sname', 'TGV')]\n",
      "[('s', 'http://www.wikidata.org/entity/Q56472'), ('sname', 'Shuadit')]\n",
      "[('s', 'http://www.wikidata.org/entity/Q209086'), ('sname', 'Pantin')]\n",
      "[('s', 'http://www.wikidata.org/entity/Q42934'), ('sname', 'Cubism')]\n",
      "[('s', 'http://www.wikidata.org/entity/Q466887'), ('sname', 'Belle Époque')]\n",
      "[('s', 'http://www.wikidata.org/entity/Q517391'), ('sname', 'Folles')]\n",
      "[('s', 'http://www.wikidata.org/entity/Q35735'), ('sname', 'Gascon')]\n",
      "[('s', 'http://www.wikidata.org/entity/Q12107'), ('sname', 'Breton')]\n",
      "[('s', 'http://www.wikidata.org/entity/Q150'), ('sname', 'French')]\n",
      "[('s', 'http://www.wikidata.org/entity/Q188'), ('sname', 'German')]\n",
      "[('s', 'http://www.wikidata.org/entity/Q202216'), ('sname', 'overseas department and region of France')]\n",
      "[('s', 'http://www.wikidata.org/entity/Q2655664'), ('sname', 'Arawak')]\n",
      "[('s', 'http://www.wikidata.org/entity/Q34219'), ('sname', 'Walloon')]\n",
      "[('s', 'http://www.wikidata.org/entity/Q35452'), ('sname', 'Bislama')]\n",
      "[('s', 'http://www.wikidata.org/entity/Q7411'), ('sname', 'Dutch')]\n",
      "[('s', 'http://www.wikidata.org/entity/Q8641'), ('sname', 'Yiddish')]\n",
      "[('s', 'http://www.wikidata.org/entity/Q9051'), ('sname', 'Luxembourgish')]\n",
      "[('s', 'http://www.wikidata.org/entity/Q1365179'), ('sname', 'private mansion')]\n",
      "[('s', 'http://www.wikidata.org/entity/Q173782'), ('sname', 'Art Deco')]\n",
      "[('s', 'http://www.wikidata.org/entity/Q22730'), ('sname', 'Haguenau')]\n",
      "[('s', 'http://www.wikidata.org/entity/Q7026'), ('sname', 'Catalan')]\n",
      "[('s', 'http://www.wikidata.org/entity/Q2669199'), ('sname', 'Vlax Romani')]\n"
     ]
    },
    {
     "data": {
      "text/plain": [
       "25"
      ]
     },
     "execution_count": 17,
     "metadata": {},
     "output_type": "execute_result"
    }
   ],
   "source": [
    "#Q22\n",
    "#try to use art and architeture id property found in Q17\n",
    "queryString = \"\"\"\n",
    "SELECT DISTINCT ?s ?sname\n",
    "WHERE {\n",
    "\n",
    "?s wdt:P17 wd:Q142; #france\n",
    "   wdt:P1014 ?o.\n",
    "\n",
    "#Labels\n",
    "?s <http://schema.org/name> ?sname .\n",
    "\n",
    "} \n",
    "LIMIT 25\n",
    "\"\"\"\n",
    "\n",
    "print(\"Results\")\n",
    "run_query(queryString)"
   ]
  },
  {
   "cell_type": "markdown",
   "id": "33e7b08d-bf51-4d89-aff0-7b5ea54a5e67",
   "metadata": {},
   "source": [
    "Try to use P1963 found in Q16 (Q811979)."
   ]
  },
  {
   "cell_type": "code",
   "execution_count": 19,
   "id": "b1a1660d-ad52-43ec-82db-b99178dad88f",
   "metadata": {},
   "outputs": [
    {
     "name": "stdout",
     "output_type": "stream",
     "text": [
      "Results\n",
      "[('s', 'http://www.wikidata.org/entity/Q916475'), ('sname', 'Historical Monument')]\n",
      "[('s', 'http://www.wikidata.org/entity/Q3457689'), ('sname', 'nature reserve in France')]\n"
     ]
    },
    {
     "data": {
      "text/plain": [
       "2"
      ]
     },
     "execution_count": 19,
     "metadata": {},
     "output_type": "execute_result"
    }
   ],
   "source": [
    "#Q23\n",
    "#try to use P1963 found in Q16 (Q811979)\n",
    "#the entity coordinate location could link to place/monument\n",
    "queryString = \"\"\"\n",
    "SELECT DISTINCT ?s ?sname\n",
    "WHERE {\n",
    "\n",
    "?s wdt:P17 wd:Q142; #france\n",
    "   wdt:P1963 ?o.\n",
    "\n",
    "#Labels\n",
    "?s <http://schema.org/name> ?sname .\n",
    "\n",
    "} \n",
    "LIMIT 25\n",
    "\"\"\"\n",
    "\n",
    "print(\"Results\")\n",
    "run_query(queryString)"
   ]
  },
  {
   "cell_type": "markdown",
   "id": "831bf92e-5ed1-4ba5-a495-fc85d0ece849",
   "metadata": {},
   "source": [
    "Try to use historical monument entity in order to have a more general definition of monument/point of interest."
   ]
  },
  {
   "cell_type": "code",
   "execution_count": 2,
   "id": "cc7e8457-1e2a-4e0d-950e-14b61e79d737",
   "metadata": {},
   "outputs": [
    {
     "name": "stdout",
     "output_type": "stream",
     "text": [
      "Results\n",
      "[('p', 'http://www.wikidata.org/prop/direct/P1435'), ('pname', 'heritage designation')]\n",
      "[('p', 'http://www.wikidata.org/prop/direct/P279'), ('pname', 'subclass of')]\n",
      "[('p', 'http://www.wikidata.org/prop/direct/P301'), ('pname', \"category's main topic\")]\n",
      "[('p', 'http://www.wikidata.org/prop/direct/P31'), ('pname', 'instance of')]\n",
      "[('p', 'http://www.wikidata.org/prop/direct/P360'), ('pname', 'is a list of')]\n",
      "[('p', 'http://www.wikidata.org/prop/direct/P4224'), ('pname', 'category contains')]\n",
      "[('p', 'http://www.wikidata.org/prop/direct/P793'), ('pname', 'significant event')]\n",
      "[('p', 'http://www.wikidata.org/prop/direct/P921'), ('pname', 'main subject')]\n",
      "[('p', 'http://www.wikidata.org/prop/direct/P971'), ('pname', 'category combines topics')]\n"
     ]
    },
    {
     "data": {
      "text/plain": [
       "9"
      ]
     },
     "execution_count": 2,
     "metadata": {},
     "output_type": "execute_result"
    }
   ],
   "source": [
    "#Q24\n",
    "#try to use historical monument entity\n",
    "queryString = \"\"\"\n",
    "SELECT DISTINCT ?p ?pname\n",
    "WHERE {\n",
    "\n",
    "?s ?p wd:Q916475.\n",
    "\n",
    "#Labels\n",
    "?p <http://schema.org/name> ?pname .\n",
    "\n",
    "} \n",
    "LIMIT 25\n",
    "\"\"\"\n",
    "\n",
    "print(\"Results\")\n",
    "run_query(queryString)"
   ]
  },
  {
   "cell_type": "code",
   "execution_count": 3,
   "id": "33965868-b677-401f-9bb7-f2f0f454856e",
   "metadata": {},
   "outputs": [
    {
     "name": "stdout",
     "output_type": "stream",
     "text": [
      "Results\n",
      "[('p', 'http://www.wikidata.org/prop/direct/P154'), ('pname', 'logo image')]\n",
      "[('p', 'http://www.wikidata.org/prop/direct/P17'), ('pname', 'country')]\n",
      "[('p', 'http://www.wikidata.org/prop/direct/P18'), ('pname', 'image')]\n",
      "[('p', 'http://www.wikidata.org/prop/direct/P1963'), ('pname', 'properties for this type')]\n",
      "[('p', 'http://www.wikidata.org/prop/direct/P279'), ('pname', 'subclass of')]\n",
      "[('p', 'http://www.wikidata.org/prop/direct/P373'), ('pname', 'Commons category')]\n",
      "[('p', 'http://www.wikidata.org/prop/direct/P4212'), ('pname', 'PACTOLS thesaurus ID')]\n",
      "[('p', 'http://www.wikidata.org/prop/direct/P527'), ('pname', 'has part')]\n",
      "[('p', 'http://www.wikidata.org/prop/direct/P6104'), ('pname', 'maintained by WikiProject')]\n",
      "[('p', 'http://www.wikidata.org/prop/direct/P646'), ('pname', 'Freebase ID')]\n",
      "[('p', 'http://www.wikidata.org/prop/direct/P7818'), ('pname', 'French Vikidia ID')]\n",
      "[('p', 'http://www.wikidata.org/prop/direct/P910'), ('pname', \"topic's main category\")]\n"
     ]
    },
    {
     "data": {
      "text/plain": [
       "12"
      ]
     },
     "execution_count": 3,
     "metadata": {},
     "output_type": "execute_result"
    }
   ],
   "source": [
    "#Q25\n",
    "#try to use historical monument entity\n",
    "queryString = \"\"\"\n",
    "SELECT DISTINCT ?p ?pname\n",
    "WHERE {\n",
    "\n",
    "wd:Q916475 ?p ?o.\n",
    "\n",
    "#Labels\n",
    "?p <http://schema.org/name> ?pname .\n",
    "\n",
    "} \n",
    "LIMIT 25\n",
    "\"\"\"\n",
    "\n",
    "print(\"Results\")\n",
    "run_query(queryString)"
   ]
  },
  {
   "cell_type": "code",
   "execution_count": 4,
   "id": "d8478456-b333-4e38-8d0d-8230975f1df6",
   "metadata": {},
   "outputs": [
    {
     "name": "stdout",
     "output_type": "stream",
     "text": [
      "Results\n",
      "Empty\n"
     ]
    },
    {
     "data": {
      "text/plain": [
       "0"
      ]
     },
     "execution_count": 4,
     "metadata": {},
     "output_type": "execute_result"
    }
   ],
   "source": [
    "#Q26\n",
    "#try to use historical monument entity\n",
    "queryString = \"\"\"\n",
    "SELECT DISTINCT ?s ?sname\n",
    "WHERE {\n",
    "\n",
    "?s wdt:P31 wd:Q916475;\n",
    "   wdt:P17 wd:Q142.\n",
    "\n",
    "#Labels\n",
    "?s <http://schema.org/name> ?sname .\n",
    "\n",
    "} \n",
    "LIMIT 25\n",
    "\"\"\"\n",
    "\n",
    "print(\"Results\")\n",
    "run_query(queryString)"
   ]
  },
  {
   "cell_type": "markdown",
   "id": "4facceed-8e1a-4c78-bb69-110ee87f37f6",
   "metadata": {},
   "source": [
    "Try to use P301 found on Q24."
   ]
  },
  {
   "cell_type": "code",
   "execution_count": 5,
   "id": "e9d0aa17-14c3-4fd0-a0c2-8bf646169c6d",
   "metadata": {},
   "outputs": [
    {
     "name": "stdout",
     "output_type": "stream",
     "text": [
      "Results\n",
      "[('s', 'http://www.wikidata.org/entity/Q7164760'), ('sname', 'Category:Official historical monuments of France')]\n"
     ]
    },
    {
     "data": {
      "text/plain": [
       "1"
      ]
     },
     "execution_count": 5,
     "metadata": {},
     "output_type": "execute_result"
    }
   ],
   "source": [
    "#Q27\n",
    "#try to use P301 found on Q24\n",
    "queryString = \"\"\"\n",
    "SELECT DISTINCT ?s ?sname\n",
    "WHERE {\n",
    "\n",
    "?s wdt:P301 wd:Q916475.\n",
    "\n",
    "#Labels\n",
    "?s <http://schema.org/name> ?sname .\n",
    "\n",
    "} \n",
    "LIMIT 25\n",
    "\"\"\"\n",
    "\n",
    "print(\"Results\")\n",
    "run_query(queryString)"
   ]
  },
  {
   "cell_type": "code",
   "execution_count": 6,
   "id": "14dd19a3-e37e-40fe-980b-924bbb5277ed",
   "metadata": {},
   "outputs": [
    {
     "name": "stdout",
     "output_type": "stream",
     "text": [
      "Results\n",
      "[('p', 'http://www.wikidata.org/prop/direct/P31'), ('pname', 'instance of'), ('o', 'http://www.wikidata.org/entity/Q4167836'), ('oname', 'Wikimedia category')]\n",
      "[('p', 'http://www.wikidata.org/prop/direct/P301'), ('pname', \"category's main topic\"), ('o', 'http://www.wikidata.org/entity/Q916475'), ('oname', 'Historical Monument')]\n"
     ]
    },
    {
     "data": {
      "text/plain": [
       "2"
      ]
     },
     "execution_count": 6,
     "metadata": {},
     "output_type": "execute_result"
    }
   ],
   "source": [
    "#Q28\n",
    "#wd:Q7164760\n",
    "queryString = \"\"\"\n",
    "SELECT DISTINCT ?p ?pname ?o ?oname\n",
    "WHERE {\n",
    "\n",
    "wd:Q7164760 ?p ?o.\n",
    "\n",
    "#Labels\n",
    "?p <http://schema.org/name> ?pname .\n",
    "?o <http://schema.org/name> ?oname .\n",
    "\n",
    "} \n",
    "LIMIT 25\n",
    "\"\"\"\n",
    "\n",
    "print(\"Results\")\n",
    "run_query(queryString)"
   ]
  },
  {
   "cell_type": "markdown",
   "id": "8aff3656-562d-49e2-bf2c-3382464aed39",
   "metadata": {},
   "source": [
    "Create a graph pattern considering France and historical monument as object. Retrieve some properties. "
   ]
  },
  {
   "cell_type": "code",
   "execution_count": 7,
   "id": "94845532-8a99-4e0f-920c-191246d41d5d",
   "metadata": {},
   "outputs": [
    {
     "name": "stdout",
     "output_type": "stream",
     "text": [
      "Results\n",
      "[('p', 'http://www.wikidata.org/prop/direct/P2389'), ('pname', 'organization directed by the office or position'), ('o', 'http://www.wikidata.org/entity/Q35309827'), ('oname', 'Inspection générale des monuments historiques')]\n",
      "[('p', 'http://www.wikidata.org/prop/direct/P106'), ('pname', 'occupation'), ('o', 'http://www.wikidata.org/entity/Q10387684'), ('oname', 'monument historique classé')]\n",
      "[('p', 'http://www.wikidata.org/prop/direct/P1435'), ('pname', 'heritage designation'), ('o', 'http://www.wikidata.org/entity/Q10387575'), ('oname', 'registered historic monument')]\n",
      "[('p', 'http://www.wikidata.org/prop/direct/P1435'), ('pname', 'heritage designation'), ('o', 'http://www.wikidata.org/entity/Q10387684'), ('oname', 'monument historique classé')]\n",
      "[('p', 'http://www.wikidata.org/prop/direct/P360'), ('pname', 'is a list of'), ('o', 'http://www.wikidata.org/entity/Q10387684'), ('oname', 'monument historique classé')]\n",
      "[('p', 'http://www.wikidata.org/prop/direct/P527'), ('pname', 'has part'), ('o', 'http://www.wikidata.org/entity/Q10387575'), ('oname', 'registered historic monument')]\n",
      "[('p', 'http://www.wikidata.org/prop/direct/P527'), ('pname', 'has part'), ('o', 'http://www.wikidata.org/entity/Q10387684'), ('oname', 'monument historique classé')]\n",
      "[('p', 'http://www.wikidata.org/prop/direct/P793'), ('pname', 'significant event'), ('o', 'http://www.wikidata.org/entity/Q10387575'), ('oname', 'registered historic monument')]\n",
      "[('p', 'http://www.wikidata.org/prop/direct/P793'), ('pname', 'significant event'), ('o', 'http://www.wikidata.org/entity/Q10387684'), ('oname', 'monument historique classé')]\n"
     ]
    },
    {
     "data": {
      "text/plain": [
       "9"
      ]
     },
     "execution_count": 7,
     "metadata": {},
     "output_type": "execute_result"
    }
   ],
   "source": [
    "#Q29\n",
    "#use path found in Q20\n",
    "queryString = \"\"\"\n",
    "SELECT DISTINCT ?p ?pname ?o ?oname\n",
    "WHERE {\n",
    "\n",
    "?s wdt:P17 wd:Q142; #france\n",
    "   ?p ?o. #some connection\n",
    "?o wdt:P279 wd:Q916475. #historical monument\n",
    "\n",
    "#Labels\n",
    "?p <http://schema.org/name> ?pname .\n",
    "?o <http://schema.org/name> ?oname .\n",
    "\n",
    "} \n",
    "LIMIT 25\n",
    "\"\"\"\n",
    "\n",
    "print(\"Results\")\n",
    "run_query(queryString)"
   ]
  },
  {
   "cell_type": "markdown",
   "id": "261ccca4-f942-44fd-8215-f8d0247e0ec4",
   "metadata": {},
   "source": [
    "The following BGP is the one to find the historical monuments or places in France."
   ]
  },
  {
   "cell_type": "code",
   "execution_count": 8,
   "id": "c6186328-62fb-4c8b-9169-3ac5bd3631ae",
   "metadata": {},
   "outputs": [
    {
     "name": "stdout",
     "output_type": "stream",
     "text": [
      "Results\n",
      "[('s', 'http://www.wikidata.org/entity/Q334124'), ('sname', 'Remiremont Abbey')]\n",
      "[('s', 'http://www.wikidata.org/entity/Q15918273'), ('sname', 'Château de Soye')]\n",
      "[('s', 'http://www.wikidata.org/entity/Q15918342'), ('sname', \"Château d'Aynac\")]\n",
      "[('s', 'http://www.wikidata.org/entity/Q16008495'), ('sname', 'Église Saint-Jacques-le-Majeur de Saint-Yaguen')]\n",
      "[('s', 'http://www.wikidata.org/entity/Q16008496'), ('sname', 'Église Saint-Laurent de Montégut')]\n",
      "[('s', 'http://www.wikidata.org/entity/Q16008497'), ('sname', 'Église Saint-Lucien de Litz')]\n",
      "[('s', 'http://www.wikidata.org/entity/Q16008503'), ('sname', 'Église Saint-Hilaire de Salvezou')]\n",
      "[('s', 'http://www.wikidata.org/entity/Q16008519'), ('sname', \"Église Notre-Dame-de-la-Nativité d'Alan\")]\n",
      "[('s', 'http://www.wikidata.org/entity/Q16008524'), ('sname', 'Église Saint-Perdufle de la Masse')]\n",
      "[('s', 'http://www.wikidata.org/entity/Q16008526'), ('sname', 'Église de Caillac')]\n",
      "[('s', 'http://www.wikidata.org/entity/Q16008570'), ('sname', 'Château de La Croix-Saint-Leufroy')]\n",
      "[('s', 'http://www.wikidata.org/entity/Q16008583'), ('sname', 'Ferme de la Fontaine Haute')]\n",
      "[('s', 'http://www.wikidata.org/entity/Q16008589'), ('sname', 'Maison Cavaillé')]\n",
      "[('s', 'http://www.wikidata.org/entity/Q22921275'), ('sname', 'Hôtel Mégret de Sérilly')]\n",
      "[('s', 'http://www.wikidata.org/entity/Q27921256'), ('sname', \"Pigeonnier du château d'Assier\")]\n",
      "[('s', 'http://www.wikidata.org/entity/Q2969799'), ('sname', 'Château de Mareuil (Marne)')]\n",
      "[('s', 'http://www.wikidata.org/entity/Q2970168'), ('sname', 'Château de Panat')]\n",
      "[('s', 'http://www.wikidata.org/entity/Q2970239'), ('sname', 'Château de Plassac')]\n",
      "[('s', 'http://www.wikidata.org/entity/Q1260253'), ('sname', 'Abbaye de Hautefontaine')]\n",
      "[('s', 'http://www.wikidata.org/entity/Q13516978'), ('sname', 'Immeuble Margarance')]\n",
      "[('s', 'http://www.wikidata.org/entity/Q3145511'), ('sname', 'Hôtel Gradis')]\n",
      "[('s', 'http://www.wikidata.org/entity/Q3364121'), ('sname', 'Parc de Bourran')]\n",
      "[('s', 'http://www.wikidata.org/entity/Q576569'), ('sname', 'Château de Beauregard, Loire Valley')]\n",
      "[('s', 'http://www.wikidata.org/entity/Q20855607'), ('sname', 'hôpital de Valognes')]\n",
      "[('s', 'http://www.wikidata.org/entity/Q17190245'), ('sname', 'Église Saint-Denis de Jouy-le-Comte')]\n"
     ]
    },
    {
     "data": {
      "text/plain": [
       "25"
      ]
     },
     "execution_count": 8,
     "metadata": {},
     "output_type": "execute_result"
    }
   ],
   "source": [
    "#Q30\n",
    "#BGP to find historical france monuments\n",
    "#use path found in Q20\n",
    "queryString = \"\"\"\n",
    "SELECT DISTINCT ?s ?sname\n",
    "WHERE {\n",
    "\n",
    "?s wdt:P17 wd:Q142; #france\n",
    "   wdt:P1435 ?o. #heritage designation\n",
    "\n",
    "FILTER ( (?o=wd:Q10387575) || (?o=wd:Q10387684) )\n",
    "\n",
    "#Labels\n",
    "?s <http://schema.org/name> ?sname .\n",
    "\n",
    "} \n",
    "LIMIT 25\n",
    "\"\"\"\n",
    "\n",
    "print(\"Results\")\n",
    "run_query(queryString)"
   ]
  },
  {
   "cell_type": "markdown",
   "id": "e97feab4-28a0-4188-9174-26259c54e6ac",
   "metadata": {},
   "source": [
    "Retrieve countries of some heritage designation."
   ]
  },
  {
   "cell_type": "code",
   "execution_count": 11,
   "id": "12531a72-2e87-4c7d-b3d2-f515dcf4e70d",
   "metadata": {},
   "outputs": [
    {
     "name": "stdout",
     "output_type": "stream",
     "text": [
      "Results\n",
      "[('c', 'http://www.wikidata.org/entity/Q142'), ('cname', 'France')]\n",
      "[('c', 'http://www.wikidata.org/entity/Q70972'), ('cname', 'Kingdom of France')]\n",
      "[('c', 'http://www.wikidata.org/entity/Q29'), ('cname', 'Spain')]\n",
      "[('c', 'http://www.wikidata.org/entity/Q38'), ('cname', 'Italy')]\n",
      "[('c', 'http://www.wikidata.org/entity/Q252'), ('cname', 'Indonesia')]\n",
      "[('c', 'http://www.wikidata.org/entity/Q12631'), ('cname', 'Meuse')]\n",
      "[('c', 'http://www.wikidata.org/entity/Q1137'), ('cname', 'Lorraine')]\n",
      "[('c', 'http://www.wikidata.org/entity/Q622783'), ('cname', 'Spanish Netherlands')]\n",
      "[('c', 'http://www.wikidata.org/entity/Q771193'), ('cname', 'Kingdom of Brittany')]\n",
      "[('c', 'http://www.wikidata.org/entity/Q183'), ('cname', 'Germany')]\n",
      "[('c', 'http://www.wikidata.org/entity/Q298'), ('cname', 'Chile')]\n",
      "[('c', 'http://www.wikidata.org/entity/Q1009'), ('cname', 'Cameroon')]\n",
      "[('c', 'http://www.wikidata.org/entity/Q1747689'), ('cname', 'Ancient Rome')]\n",
      "[('c', 'http://www.wikidata.org/entity/Q403'), ('cname', 'Serbia')]\n",
      "[('c', 'http://www.wikidata.org/entity/Q17'), ('cname', 'Japan')]\n"
     ]
    },
    {
     "data": {
      "text/plain": [
       "15"
      ]
     },
     "execution_count": 11,
     "metadata": {},
     "output_type": "execute_result"
    }
   ],
   "source": [
    "#Q31\n",
    "queryString = \"\"\"\n",
    "SELECT DISTINCT ?c ?cname\n",
    "WHERE {\n",
    "\n",
    "?s wdt:P17 ?c; \n",
    "   wdt:P1435 ?o. #heritage designation\n",
    "\n",
    "FILTER ( (?o=wd:Q10387575) || (?o=wd:Q10387684) )\n",
    "\n",
    "#Labels\n",
    "?c <http://schema.org/name> ?cname .\n",
    "\n",
    "} \n",
    "LIMIT 50\n",
    "\"\"\"\n",
    "\n",
    "print(\"Results\")\n",
    "run_query(queryString)"
   ]
  },
  {
   "cell_type": "code",
   "execution_count": 12,
   "id": "440a4413-fab9-44eb-b0a4-b2006b1949e4",
   "metadata": {},
   "outputs": [
    {
     "name": "stdout",
     "output_type": "stream",
     "text": [
      "Results\n",
      "[('p', 'http://www.wikidata.org/prop/direct/P17'), ('pname', 'country'), ('o', 'http://www.wikidata.org/entity/Q142'), ('oname', 'France')]\n",
      "[('p', 'http://www.wikidata.org/prop/direct/P279'), ('pname', 'subclass of'), ('o', 'http://www.wikidata.org/entity/Q358'), ('oname', 'heritage site')]\n",
      "[('p', 'http://www.wikidata.org/prop/direct/P279'), ('pname', 'subclass of'), ('o', 'http://www.wikidata.org/entity/Q916475'), ('oname', 'Historical Monument')]\n",
      "[('p', 'http://www.wikidata.org/prop/direct/P1687'), ('pname', 'Wikidata property'), ('o', 'http://www.wikidata.org/entity/P380'), ('oname', 'Mérimée ID')]\n",
      "[('p', 'http://www.wikidata.org/prop/direct/P910'), ('pname', \"topic's main category\"), ('o', 'http://www.wikidata.org/entity/Q21177718'), ('oname', 'Category:Monuments historiques inscrits')]\n"
     ]
    },
    {
     "data": {
      "text/plain": [
       "5"
      ]
     },
     "execution_count": 12,
     "metadata": {},
     "output_type": "execute_result"
    }
   ],
   "source": [
    "#Q32\n",
    "#very few countries in the previous result set, get a closer look to heritage designation wd:Q10387575\n",
    "queryString = \"\"\"\n",
    "SELECT DISTINCT ?p ?pname ?o ?oname\n",
    "WHERE {\n",
    "\n",
    "wd:Q10387575 ?p ?o.\n",
    "\n",
    "#Labels\n",
    "?p <http://schema.org/name> ?pname .\n",
    "?o <http://schema.org/name> ?oname .\n",
    "\n",
    "} \n",
    "LIMIT 25\n",
    "\"\"\"\n",
    "\n",
    "print(\"Results\")\n",
    "run_query(queryString)"
   ]
  },
  {
   "cell_type": "code",
   "execution_count": 13,
   "id": "99313749-9981-4d7e-92cd-1f315b000561",
   "metadata": {},
   "outputs": [
    {
     "name": "stdout",
     "output_type": "stream",
     "text": [
      "Results\n",
      "[('p', 'http://www.wikidata.org/prop/direct/P17'), ('pname', 'country'), ('o', 'http://www.wikidata.org/entity/Q142'), ('oname', 'France')]\n",
      "[('p', 'http://www.wikidata.org/prop/direct/P279'), ('pname', 'subclass of'), ('o', 'http://www.wikidata.org/entity/Q358'), ('oname', 'heritage site')]\n",
      "[('p', 'http://www.wikidata.org/prop/direct/P279'), ('pname', 'subclass of'), ('o', 'http://www.wikidata.org/entity/Q916475'), ('oname', 'Historical Monument')]\n",
      "[('p', 'http://www.wikidata.org/prop/direct/P1687'), ('pname', 'Wikidata property'), ('o', 'http://www.wikidata.org/entity/P380'), ('oname', 'Mérimée ID')]\n",
      "[('p', 'http://www.wikidata.org/prop/direct/P910'), ('pname', \"topic's main category\"), ('o', 'http://www.wikidata.org/entity/Q26938523'), ('oname', 'Category:Monuments historiques classés')]\n"
     ]
    },
    {
     "data": {
      "text/plain": [
       "5"
      ]
     },
     "execution_count": 13,
     "metadata": {},
     "output_type": "execute_result"
    }
   ],
   "source": [
    "#Q33\n",
    "#very few countries in the previous result set, get a closer look to heritage designation wd:Q10387684\n",
    "queryString = \"\"\"\n",
    "SELECT DISTINCT ?p ?pname ?o ?oname\n",
    "WHERE {\n",
    "\n",
    "wd:Q10387684 ?p ?o.\n",
    "\n",
    "#Labels\n",
    "?p <http://schema.org/name> ?pname .\n",
    "?o <http://schema.org/name> ?oname .\n",
    "\n",
    "} \n",
    "LIMIT 25\n",
    "\"\"\"\n",
    "\n",
    "print(\"Results\")\n",
    "run_query(queryString)"
   ]
  },
  {
   "cell_type": "markdown",
   "id": "c7f0f5a1-dd1b-4c2f-a00f-e0be0684904d",
   "metadata": {},
   "source": [
    "<h3> TASK 2 ENDS HERE </h3>\n",
    "I found out that P17 is the property that links a entity to its country.\n",
    "On top of that I tried to explore the graph in order to find a pattern to identify historical monuments or points of interest in a certain country.\n",
    "As a result I found out the BGP to discover french historical monuments (Q30), I didn't dig more to find a general BGP for historical monuments because I ended up in a dead end and I didn't want to extend the task too much."
   ]
  },
  {
   "cell_type": "markdown",
   "id": "98d6fb98-ede1-43a4-9440-2ebc3e9bfdd9",
   "metadata": {},
   "source": [
    "<h3> TASK 3 STARTS HERE </h3>\n",
    "How many poets and writers have a place of birth, death, or burial in Germany and France?"
   ]
  },
  {
   "cell_type": "markdown",
   "id": "16263d39-cb78-4a44-9d17-72e4cc43ec15",
   "metadata": {},
   "source": [
    "Use the information found in previous task to retrieve the place of birth of poets who are/were born in France."
   ]
  },
  {
   "cell_type": "code",
   "execution_count": 17,
   "id": "dccac715-d915-4a71-a7b0-b9b326e7aaec",
   "metadata": {},
   "outputs": [
    {
     "name": "stdout",
     "output_type": "stream",
     "text": [
      "Results\n",
      "[('sname', 'Valery Larbaud'), ('birth', 'http://www.wikidata.org/entity/Q93351')]\n",
      "[('sname', 'Georges Lafenestre'), ('birth', 'http://www.wikidata.org/entity/Q6548')]\n",
      "[('sname', 'André Theuriet'), ('birth', 'http://www.wikidata.org/entity/Q656505')]\n",
      "[('sname', 'Robert de Montesquiou'), ('birth', 'http://www.wikidata.org/entity/Q90')]\n",
      "[('sname', 'Bonaventure des Périers'), ('birth', 'http://www.wikidata.org/entity/Q16031')]\n",
      "[('sname', 'Gottlieb Konrad Pfeffel'), ('birth', 'http://www.wikidata.org/entity/Q130994')]\n",
      "[('sname', 'Dionys Ordinaire'), ('birth', 'http://www.wikidata.org/entity/Q923421')]\n",
      "[('sname', 'André Bellessort'), ('birth', 'http://www.wikidata.org/entity/Q184154')]\n",
      "[('sname', 'Guillaume Antoine Le Monnier'), ('birth', 'http://www.wikidata.org/entity/Q668199')]\n",
      "[('sname', 'Francesc Català i Duran'), ('birth', 'http://www.wikidata.org/entity/Q752284')]\n"
     ]
    },
    {
     "data": {
      "text/plain": [
       "10"
      ]
     },
     "execution_count": 17,
     "metadata": {},
     "output_type": "execute_result"
    }
   ],
   "source": [
    "#Q34\n",
    "#try to use the information found in the previous task\n",
    "queryString = \"\"\"\n",
    "SELECT ?sname ?birth \n",
    "WHERE { \n",
    "\n",
    "?s  wdt:P106 wd:Q49757; #poet\n",
    "    wdt:P19 ?birth.\n",
    "?birth wdt:P17 wd:Q142.  \n",
    "\n",
    "#Labels\n",
    "?s <http://schema.org/name> ?sname .\n",
    "} \n",
    "LIMIT 10\n",
    "\"\"\"\n",
    "\n",
    "print(\"Results\")\n",
    "run_query(queryString)"
   ]
  },
  {
   "cell_type": "markdown",
   "id": "c3c86c57-99fb-4c7e-8576-dacc57fa8ae5",
   "metadata": {},
   "source": [
    "Retrieve how many poets are born in France."
   ]
  },
  {
   "cell_type": "code",
   "execution_count": 20,
   "id": "64d3fa0b-d348-4ef1-b366-ecaa551a571b",
   "metadata": {},
   "outputs": [
    {
     "name": "stdout",
     "output_type": "stream",
     "text": [
      "Results\n",
      "[('Poets', '3849')]\n"
     ]
    },
    {
     "data": {
      "text/plain": [
       "1"
      ]
     },
     "execution_count": 20,
     "metadata": {},
     "output_type": "execute_result"
    }
   ],
   "source": [
    "#Q35\n",
    "#try to use the information found in the previous task\n",
    "#poets born in france\n",
    "queryString = \"\"\"\n",
    "SELECT (COUNT(DISTINCT ?s) AS ?Poets)\n",
    "WHERE { \n",
    "\n",
    "?s  wdt:P106 wd:Q49757; #poet\n",
    "    wdt:P19 ?birth.\n",
    "?birth wdt:P17 wd:Q142. \n",
    "\n",
    "OPTIONAL{\n",
    "  ?s wdt:P20 ?death.\n",
    "  ?death wdt:P17 wd:Q142}\n",
    "OPTIONAL{\n",
    "  ?s wdt:P119 ?burial.\n",
    "  ?burial wdt:P17 wd:Q142}\n",
    "\n",
    "} \n",
    "LIMIT 10\n",
    "\"\"\"\n",
    "\n",
    "print(\"Results\")\n",
    "run_query(queryString)"
   ]
  },
  {
   "cell_type": "markdown",
   "id": "18f97a43-1c96-44eb-9b39-01e177b3de23",
   "metadata": {},
   "source": [
    "Retrieve poets who are/were born or dead or buried in France."
   ]
  },
  {
   "cell_type": "code",
   "execution_count": 25,
   "id": "2c5dbde8-44d6-4d48-919f-f40daf6dd0ad",
   "metadata": {},
   "outputs": [
    {
     "name": "stdout",
     "output_type": "stream",
     "text": [
      "Results\n",
      "[('Poets', '4685')]\n"
     ]
    },
    {
     "data": {
      "text/plain": [
       "1"
      ]
     },
     "execution_count": 25,
     "metadata": {},
     "output_type": "execute_result"
    }
   ],
   "source": [
    "#Q36\n",
    "#try to use the information found in the previous task\n",
    "#poets born,death o buried in france\n",
    "queryString = \"\"\"\n",
    "SELECT (COUNT(DISTINCT ?s) AS ?Poets)\n",
    "WHERE { \n",
    "\n",
    "{?s  wdt:P106 wd:Q49757; #poet\n",
    "    wdt:P19 ?birth.\n",
    "?birth wdt:P17 wd:Q142.}\n",
    "\n",
    "UNION{\n",
    "  ?s  wdt:P106 wd:Q49757; #poet\n",
    "      wdt:P20 ?death.\n",
    "?death wdt:P17 wd:Q142.}\n",
    "\n",
    "UNION{\n",
    "  ?s  wdt:P106 wd:Q49757; #poet\n",
    "      wdt:P119 ?burial.\n",
    "?burial wdt:P17 wd:Q142.}\n",
    "\n",
    "} \n",
    "\"\"\"\n",
    "\n",
    "print(\"Results\")\n",
    "run_query(queryString)"
   ]
  },
  {
   "cell_type": "code",
   "execution_count": 24,
   "id": "41ccc230-e04a-4aef-a9c2-c6e1e9d70ac6",
   "metadata": {},
   "outputs": [
    {
     "name": "stdout",
     "output_type": "stream",
     "text": [
      "Results\n",
      "[('Born', '3849'), ('Dead', '3203'), ('Buried', '710')]\n"
     ]
    },
    {
     "data": {
      "text/plain": [
       "1"
      ]
     },
     "execution_count": 24,
     "metadata": {},
     "output_type": "execute_result"
    }
   ],
   "source": [
    "#Q37\n",
    "#try to use the information found in the previous task\n",
    "#poets born,death o buried in france\n",
    "queryString = \"\"\"\n",
    "SELECT (COUNT(DISTINCT ?s) AS ?Born) (COUNT(DISTINCT ?d) AS ?Dead) (COUNT(DISTINCT ?b) AS ?Buried)\n",
    "WHERE { \n",
    "\n",
    "{?s  wdt:P106 wd:Q49757; #poet\n",
    "    wdt:P19 ?birth.\n",
    "?birth wdt:P17 wd:Q142.}\n",
    "\n",
    "UNION{\n",
    "  ?d  wdt:P106 wd:Q49757; #poet\n",
    "      wdt:P20 ?death.\n",
    "?death wdt:P17 wd:Q142.}\n",
    "\n",
    "UNION{\n",
    "  ?b  wdt:P106 wd:Q49757; #poet\n",
    "      wdt:P119 ?burial.\n",
    "?burial wdt:P17 wd:Q142.}\n",
    "\n",
    "} \n",
    "\"\"\"\n",
    "\n",
    "print(\"Results\")\n",
    "run_query(queryString)"
   ]
  },
  {
   "cell_type": "markdown",
   "id": "f8eb0e2b-fe02-425b-ac0c-697d11ed79cc",
   "metadata": {},
   "source": [
    "Retrieve the poets born in Germany."
   ]
  },
  {
   "cell_type": "code",
   "execution_count": 27,
   "id": "bec16a3d-2702-42cf-9a7b-bfeeb4bc2d40",
   "metadata": {},
   "outputs": [
    {
     "name": "stdout",
     "output_type": "stream",
     "text": [
      "Results\n",
      "[('Poets', '2050')]\n"
     ]
    },
    {
     "data": {
      "text/plain": [
       "1"
      ]
     },
     "execution_count": 27,
     "metadata": {},
     "output_type": "execute_result"
    }
   ],
   "source": [
    "#Q38\n",
    "#poets born in germany\n",
    "queryString = \"\"\"\n",
    "SELECT (COUNT(DISTINCT ?s) AS ?Poets)\n",
    "WHERE { \n",
    "\n",
    "?s  wdt:P106 wd:Q49757; #poet\n",
    "    wdt:P19 ?birth.\n",
    "?birth wdt:P17 wd:Q183. \n",
    "} \n",
    "LIMIT 10\n",
    "\"\"\"\n",
    "\n",
    "print(\"Results\")\n",
    "run_query(queryString)"
   ]
  },
  {
   "cell_type": "markdown",
   "id": "af3469a4-c871-4de5-871a-030f0db4b134",
   "metadata": {},
   "source": [
    "Retrieve poets born,death o buried in France or Germany."
   ]
  },
  {
   "cell_type": "code",
   "execution_count": 29,
   "id": "b03fe3b2-1712-4f5b-aacb-d08e1b40e3d8",
   "metadata": {},
   "outputs": [
    {
     "name": "stdout",
     "output_type": "stream",
     "text": [
      "Results\n",
      "[('Born', '5892'), ('Dead', '4530'), ('Buried', '959')]\n"
     ]
    },
    {
     "data": {
      "text/plain": [
       "1"
      ]
     },
     "execution_count": 29,
     "metadata": {},
     "output_type": "execute_result"
    }
   ],
   "source": [
    "#Q39\n",
    "#try to use the information found in the previous task\n",
    "#poets born,death o buried in France or Germany\n",
    "queryString = \"\"\"\n",
    "SELECT (COUNT(DISTINCT ?s) AS ?Born) (COUNT(DISTINCT ?d) AS ?Dead) (COUNT(DISTINCT ?b) AS ?Buried)\n",
    "WHERE { \n",
    "\n",
    "{?s  wdt:P106 wd:Q49757; #poet\n",
    "    wdt:P19 ?birth.\n",
    "?birth wdt:P17 ?country.}\n",
    "\n",
    "UNION{\n",
    "  ?d  wdt:P106 wd:Q49757; #poet\n",
    "      wdt:P20 ?death.\n",
    "?death wdt:P17 ?country.}\n",
    "\n",
    "UNION{\n",
    "  ?b  wdt:P106 wd:Q49757; #poet\n",
    "      wdt:P119 ?burial.\n",
    "?burial wdt:P17 ?country.}\n",
    "\n",
    "FILTER( (?country=wd:Q142) || (?country=wd:Q183) )\n",
    "\n",
    "} \n",
    "\"\"\"\n",
    "\n",
    "print(\"Results\")\n",
    "run_query(queryString)"
   ]
  },
  {
   "cell_type": "markdown",
   "id": "008763f0-2aed-4703-b82e-b620e21a4149",
   "metadata": {},
   "source": [
    "As above but consider also writers."
   ]
  },
  {
   "cell_type": "code",
   "execution_count": 2,
   "id": "c3cb69e4-e685-4d62-9009-581f1083415f",
   "metadata": {},
   "outputs": [
    {
     "name": "stdout",
     "output_type": "stream",
     "text": [
      "Results\n",
      "[('Born', '37110'), ('Dead', '21573'), ('Buried', '2956')]\n"
     ]
    },
    {
     "data": {
      "text/plain": [
       "1"
      ]
     },
     "execution_count": 2,
     "metadata": {},
     "output_type": "execute_result"
    }
   ],
   "source": [
    "#Q40\n",
    "#add writers to previous query\n",
    "queryString = \"\"\"\n",
    "SELECT (COUNT(DISTINCT ?s) AS ?Born) (COUNT(DISTINCT ?d) AS ?Dead) (COUNT(DISTINCT ?b) AS ?Buried)\n",
    "WHERE { \n",
    "\n",
    "{?s  wdt:P106 ?job; #poet\n",
    "    wdt:P19 ?birth.\n",
    "?birth wdt:P17 ?country.}\n",
    "\n",
    "UNION{\n",
    "  ?d  wdt:P106 ?job; #poet\n",
    "      wdt:P20 ?death.\n",
    "?death wdt:P17 ?country.}\n",
    "\n",
    "UNION{\n",
    "  ?b  wdt:P106 ?job; #poet\n",
    "      wdt:P119 ?burial.\n",
    "?burial wdt:P17 ?country.}\n",
    "\n",
    "FILTER( ( (?country=wd:Q142) || (?country=wd:Q183) ) && ( (?job=wd:Q49757) || (?job=wd:Q36180) ) )\n",
    "\n",
    "} \n",
    "\"\"\"\n",
    "\n",
    "print(\"Results\")\n",
    "run_query(queryString)"
   ]
  },
  {
   "cell_type": "markdown",
   "id": "542461d4-6ac1-46d9-8908-8c06ce3b3dd8",
   "metadata": {},
   "source": [
    "Compare writers born in France and in Germany."
   ]
  },
  {
   "cell_type": "code",
   "execution_count": 3,
   "id": "f72cac34-ef44-4153-a217-b4ce105537d8",
   "metadata": {},
   "outputs": [
    {
     "name": "stdout",
     "output_type": "stream",
     "text": [
      "Results\n",
      "[('french', '11165'), ('german', '23065')]\n"
     ]
    },
    {
     "data": {
      "text/plain": [
       "1"
      ]
     },
     "execution_count": 3,
     "metadata": {},
     "output_type": "execute_result"
    }
   ],
   "source": [
    "#Q41\n",
    "#comparison between writers born in France and in Germany\n",
    "queryString = \"\"\"\n",
    "SELECT ?french ?german \n",
    "WHERE{\n",
    "{\n",
    "SELECT (COUNT(DISTINCT(?f)) AS ?french) WHERE{\n",
    "?f wdt:P106 wd:Q36180;\n",
    "   wdt:P19 ?france.\n",
    "?france wdt:P17 wd:Q142.\n",
    "}}\n",
    "{\n",
    "SELECT (COUNT(DISTINCT(?g)) AS ?german) WHERE{\n",
    "?g wdt:P106 wd:Q36180;\n",
    "   wdt:P19 ?germany.\n",
    "?germany wdt:P17 wd:Q183.\n",
    "}}\n",
    "}\n",
    "\"\"\"\n",
    "\n",
    "print(\"Results\")\n",
    "run_query(queryString)"
   ]
  },
  {
   "cell_type": "markdown",
   "id": "aede8516-32e6-4cdd-a2de-dfe0c4ce96ec",
   "metadata": {},
   "source": [
    "Retrieve poets born and dead in france but not buried."
   ]
  },
  {
   "cell_type": "code",
   "execution_count": 5,
   "id": "cde280a5-3dbf-42c1-b8cf-b409c5f6ea32",
   "metadata": {},
   "outputs": [
    {
     "name": "stdout",
     "output_type": "stream",
     "text": [
      "Results\n",
      "[('s', 'http://www.wikidata.org/entity/Q44361'), ('sname', 'Ludwig I of Bavaria')]\n",
      "[('s', 'http://www.wikidata.org/entity/Q184622'), ('sname', 'Jean Genet')]\n",
      "[('s', 'http://www.wikidata.org/entity/Q170353'), ('sname', 'René of Anjou')]\n",
      "[('s', 'http://www.wikidata.org/entity/Q272'), ('sname', 'Paul Morand')]\n",
      "[('s', 'http://www.wikidata.org/entity/Q245355'), ('sname', 'Zygmunt Krasiński')]\n"
     ]
    },
    {
     "data": {
      "text/plain": [
       "5"
      ]
     },
     "execution_count": 5,
     "metadata": {},
     "output_type": "execute_result"
    }
   ],
   "source": [
    "#Q42\n",
    "#look for poets born and dead in france but not buried\n",
    "queryString = \"\"\"\n",
    "SELECT DISTINCT ?s ?sname\n",
    "WHERE{\n",
    "\n",
    "?s wdt:P106 wd:Q49757; #poet\n",
    "   wdt:P19/wdt:P17 wd:Q142; #born in france\n",
    "   wdt:P20/wdt:P17 wd:Q142; #dead in france\n",
    "   wdt:P119/wdt:P17 ?country.\n",
    "\n",
    "FILTER(?country!=wd:Q142)\n",
    "\n",
    "#Labels\n",
    "?s <http://schema.org/name> ?sname .\n",
    "}\n",
    "LIMIT 10\n",
    "\"\"\"\n",
    "\n",
    "print(\"Results\")\n",
    "run_query(queryString)"
   ]
  },
  {
   "cell_type": "markdown",
   "id": "572c1b80-dcca-4d7f-9d38-6b43fc6c629a",
   "metadata": {},
   "source": [
    "As above but for German ones."
   ]
  },
  {
   "cell_type": "code",
   "execution_count": 6,
   "id": "a6304ef7-c588-4b68-a20e-01e2c67de64c",
   "metadata": {},
   "outputs": [
    {
     "name": "stdout",
     "output_type": "stream",
     "text": [
      "Results\n",
      "[('s', 'http://www.wikidata.org/entity/Q57945'), ('sname', 'Georg Herwegh')]\n"
     ]
    },
    {
     "data": {
      "text/plain": [
       "1"
      ]
     },
     "execution_count": 6,
     "metadata": {},
     "output_type": "execute_result"
    }
   ],
   "source": [
    "#Q43\n",
    "#same but for german\n",
    "queryString = \"\"\"\n",
    "SELECT DISTINCT ?s ?sname\n",
    "WHERE{\n",
    "\n",
    "?s wdt:P106 wd:Q49757; #poet\n",
    "   wdt:P19/wdt:P17 wd:Q183; #born in france\n",
    "   wdt:P20/wdt:P17 wd:Q183; #dead in france\n",
    "   wdt:P119/wdt:P17 ?country.\n",
    "\n",
    "FILTER(?country!=wd:Q183)\n",
    "\n",
    "#Labels\n",
    "?s <http://schema.org/name> ?sname .\n",
    "}\n",
    "LIMIT 10\n",
    "\"\"\"\n",
    "\n",
    "print(\"Results\")\n",
    "run_query(queryString)"
   ]
  },
  {
   "cell_type": "markdown",
   "id": "e60ece12-4a7a-4f94-b99a-04976ea48da4",
   "metadata": {},
   "source": [
    "Retrieve how many french poets died in Germany."
   ]
  },
  {
   "cell_type": "code",
   "execution_count": 7,
   "id": "5c414dd2-b24f-40dd-82e4-a65b8036d50c",
   "metadata": {},
   "outputs": [
    {
     "name": "stdout",
     "output_type": "stream",
     "text": [
      "Results\n",
      "[('French', '26')]\n"
     ]
    },
    {
     "data": {
      "text/plain": [
       "1"
      ]
     },
     "execution_count": 7,
     "metadata": {},
     "output_type": "execute_result"
    }
   ],
   "source": [
    "#Q44\n",
    "#french poets who died in germany\n",
    "queryString = \"\"\"\n",
    "SELECT (COUNT (DISTINCT ?s) AS ?French)\n",
    "WHERE{\n",
    "\n",
    "?s wdt:P106 wd:Q49757; #poet\n",
    "   wdt:P19/wdt:P17 wd:Q142; #born in france\n",
    "   wdt:P20/wdt:P17 wd:Q183. #dead in germany\n",
    "}\n",
    "\n",
    "\"\"\"\n",
    "\n",
    "print(\"Results\")\n",
    "run_query(queryString)"
   ]
  },
  {
   "cell_type": "code",
   "execution_count": 8,
   "id": "8bb558c8-d202-4632-b7ac-8075d7a0c6f6",
   "metadata": {},
   "outputs": [
    {
     "name": "stdout",
     "output_type": "stream",
     "text": [
      "Results\n",
      "[('German', '30')]\n"
     ]
    },
    {
     "data": {
      "text/plain": [
       "1"
      ]
     },
     "execution_count": 8,
     "metadata": {},
     "output_type": "execute_result"
    }
   ],
   "source": [
    "#Q45\n",
    "#previous one but reverse\n",
    "#german poets who died in france\n",
    "queryString = \"\"\"\n",
    "SELECT (COUNT (DISTINCT ?s) AS ?German)\n",
    "WHERE{\n",
    "\n",
    "?s wdt:P106 wd:Q49757; #poet\n",
    "   wdt:P19/wdt:P17 wd:Q183; #born in ger\n",
    "   wdt:P20/wdt:P17 wd:Q142. #dead in fra\n",
    "}\n",
    "\n",
    "\"\"\"\n",
    "\n",
    "print(\"Results\")\n",
    "run_query(queryString)"
   ]
  },
  {
   "cell_type": "markdown",
   "id": "6704279f-82aa-4430-888c-9df4bb0600d1",
   "metadata": {},
   "source": [
    "<h3> TASK 3 ENDS HERE </h3>\n",
    "Using the result of previous task i have been able to count how many poets and writers were born, or dead or buried in France or Germany (Q40). As a result I obtained ('Born', '37110'), ('Dead', '21573'), ('Buried', '2956').\n",
    "I discovered Germany has more writers but less poets than France.\n",
    "On top of that i tried to mix up place of birth, death and burial to see some results, for example 30 german poets died in France while 26\n",
    "french poets died in Germany. I thought that could be interesting because many poets and writers had to fight in foreign countries during WWI and WWII."
   ]
  },
  {
   "cell_type": "markdown",
   "id": "7caae641-680c-4121-b4a4-9203a768271a",
   "metadata": {
    "tags": []
   },
   "source": [
    "<h3> TASK 4 STARTS HERE </h3>\n",
    "4.1 Is there any poet for which the birth place and the place of burial are located in the same city either in Germany or France?\n",
    "4.2 Which cities host the place of birth of the larger number of poets or writers across the two countries?\n",
    "4.3 What are the top 3 cities in each country that you could visit? Based on what criteria?"
   ]
  },
  {
   "cell_type": "markdown",
   "id": "a41e919d-bb53-4d06-8c8a-4ab5f0dbbfc4",
   "metadata": {},
   "source": [
    "Retrieve some properties of place of birth and burial."
   ]
  },
  {
   "cell_type": "code",
   "execution_count": 11,
   "id": "4453299d-46bc-4957-a89b-3161acca1240",
   "metadata": {},
   "outputs": [
    {
     "name": "stdout",
     "output_type": "stream",
     "text": [
      "Results\n",
      "[('p', 'http://www.wikidata.org/prop/direct/P9472'), ('pname', 'Cimiterium ID')]\n",
      "[('p', 'http://www.wikidata.org/prop/direct/P3008'), ('pname', 'Australian Heritage Database Place ID')]\n",
      "[('p', 'http://www.wikidata.org/prop/direct/P3449'), ('pname', 'NSW Heritage database ID')]\n",
      "[('p', 'http://www.wikidata.org/prop/direct/P2382'), ('pname', 'Chemins de mémoire ID')]\n",
      "[('p', 'http://www.wikidata.org/prop/direct/P4352'), ('pname', 'BillionGraves cemetery ID')]\n",
      "[('p', 'http://www.wikidata.org/prop/direct/P7673'), ('pname', 'Czech district ID')]\n",
      "[('p', 'http://www.wikidata.org/prop/direct/P7607'), ('pname', 'WikiTree category or space')]\n",
      "[('p', 'http://www.wikidata.org/prop/direct/P8911'), ('pname', 'Sonneveld-index')]\n",
      "[('p', 'http://www.wikidata.org/prop/direct/P1004'), ('pname', 'MusicBrainz place ID')]\n",
      "[('p', 'http://www.wikidata.org/prop/direct/P1014'), ('pname', 'Art & Architecture Thesaurus ID')]\n",
      "[('p', 'http://www.wikidata.org/prop/direct/P1036'), ('pname', 'Dewey Decimal Classification')]\n",
      "[('p', 'http://www.wikidata.org/prop/direct/P1082'), ('pname', 'population')]\n",
      "[('p', 'http://www.wikidata.org/prop/direct/P1083'), ('pname', 'maximum capacity')]\n",
      "[('p', 'http://www.wikidata.org/prop/direct/P1128'), ('pname', 'employees')]\n",
      "[('p', 'http://www.wikidata.org/prop/direct/P1151'), ('pname', \"topic's main Wikimedia portal\")]\n",
      "[('p', 'http://www.wikidata.org/prop/direct/P1174'), ('pname', 'visitors per year')]\n",
      "[('p', 'http://www.wikidata.org/prop/direct/P1188'), ('pname', 'Dharma Drum Institute of Liberal Arts place ID')]\n",
      "[('p', 'http://www.wikidata.org/prop/direct/P1225'), ('pname', 'U.S. National Archives Identifier')]\n",
      "[('p', 'http://www.wikidata.org/prop/direct/P1245'), ('pname', 'OmegaWiki Defined Meaning')]\n",
      "[('p', 'http://www.wikidata.org/prop/direct/P1249'), ('pname', 'time of earliest written record')]\n",
      "[('p', 'http://www.wikidata.org/prop/direct/P1260'), ('pname', 'Swedish Open Cultural Heritage URI')]\n",
      "[('p', 'http://www.wikidata.org/prop/direct/P127'), ('pname', 'owned by')]\n",
      "[('p', 'http://www.wikidata.org/prop/direct/P1278'), ('pname', 'Legal Entity Identifier')]\n",
      "[('p', 'http://www.wikidata.org/prop/direct/P1281'), ('pname', 'WOEID')]\n",
      "[('p', 'http://www.wikidata.org/prop/direct/P1296'), ('pname', 'Gran Enciclopèdia Catalana ID')]\n"
     ]
    },
    {
     "data": {
      "text/plain": [
       "25"
      ]
     },
     "execution_count": 11,
     "metadata": {},
     "output_type": "execute_result"
    }
   ],
   "source": [
    "#Q46\n",
    "#poets with the same place of birth and burial\n",
    "queryString = \"\"\"\n",
    "SELECT DISTINCT ?p ?pname\n",
    "WHERE{\n",
    "\n",
    "?s wdt:P106 wd:Q49757; #poet\n",
    "   wdt:P119 ?burial. #dead\n",
    "?burial ?p ?o.\n",
    "\n",
    "#Labels\n",
    "?p <http://schema.org/name> ?pname .\n",
    "}\n",
    "LIMIT 25\n",
    "\"\"\"\n",
    "\n",
    "print(\"Results\")\n",
    "run_query(queryString)"
   ]
  },
  {
   "cell_type": "markdown",
   "id": "29f0ef65-2066-40a1-b3db-aae7a7ead0b3",
   "metadata": {},
   "source": [
    "Check for geographic property by adding a country in the path."
   ]
  },
  {
   "cell_type": "code",
   "execution_count": 12,
   "id": "3cc8626f-9822-49dc-b1e9-17c7ff008129",
   "metadata": {},
   "outputs": [
    {
     "name": "stdout",
     "output_type": "stream",
     "text": [
      "Results\n",
      "[('p', 'http://www.wikidata.org/prop/direct/P131'), ('pname', 'located in the administrative territorial entity')]\n",
      "[('p', 'http://www.wikidata.org/prop/direct/P1313'), ('pname', 'office held by head of government')]\n",
      "[('p', 'http://www.wikidata.org/prop/direct/P1366'), ('pname', 'replaced by')]\n",
      "[('p', 'http://www.wikidata.org/prop/direct/P1376'), ('pname', 'capital of')]\n",
      "[('p', 'http://www.wikidata.org/prop/direct/P138'), ('pname', 'named after')]\n",
      "[('p', 'http://www.wikidata.org/prop/direct/P1435'), ('pname', 'heritage designation')]\n",
      "[('p', 'http://www.wikidata.org/prop/direct/P17'), ('pname', 'country')]\n",
      "[('p', 'http://www.wikidata.org/prop/direct/P190'), ('pname', 'twinned administrative body')]\n",
      "[('p', 'http://www.wikidata.org/prop/direct/P206'), ('pname', 'located in or next to body of water')]\n",
      "[('p', 'http://www.wikidata.org/prop/direct/P31'), ('pname', 'instance of')]\n",
      "[('p', 'http://www.wikidata.org/prop/direct/P463'), ('pname', 'member of')]\n",
      "[('p', 'http://www.wikidata.org/prop/direct/P47'), ('pname', 'shares border with')]\n",
      "[('p', 'http://www.wikidata.org/prop/direct/P495'), ('pname', 'country of origin')]\n",
      "[('p', 'http://www.wikidata.org/prop/direct/P527'), ('pname', 'has part')]\n",
      "[('p', 'http://www.wikidata.org/prop/direct/P669'), ('pname', 'located on street')]\n",
      "[('p', 'http://www.wikidata.org/prop/direct/P7938'), ('pname', 'associated electoral district')]\n",
      "[('p', 'http://www.wikidata.org/prop/direct/P3032'), ('pname', 'adjacent building')]\n",
      "[('p', 'http://www.wikidata.org/prop/direct/P127'), ('pname', 'owned by')]\n",
      "[('p', 'http://www.wikidata.org/prop/direct/P361'), ('pname', 'part of')]\n",
      "[('p', 'http://www.wikidata.org/prop/direct/P37'), ('pname', 'official language')]\n",
      "[('p', 'http://www.wikidata.org/prop/direct/P485'), ('pname', 'archives at')]\n",
      "[('p', 'http://www.wikidata.org/prop/direct/P137'), ('pname', 'operator')]\n",
      "[('p', 'http://www.wikidata.org/prop/direct/P1416'), ('pname', 'affiliation')]\n",
      "[('p', 'http://www.wikidata.org/prop/direct/P166'), ('pname', 'award received')]\n",
      "[('p', 'http://www.wikidata.org/prop/direct/P708'), ('pname', 'diocese')]\n"
     ]
    },
    {
     "data": {
      "text/plain": [
       "25"
      ]
     },
     "execution_count": 12,
     "metadata": {},
     "output_type": "execute_result"
    }
   ],
   "source": [
    "#Q47\n",
    "#check for geographic property by adding a country in the path\n",
    "queryString = \"\"\"\n",
    "SELECT DISTINCT ?p ?pname\n",
    "WHERE{\n",
    "\n",
    "?s wdt:P106 wd:Q49757; #poet\n",
    "   wdt:P119 ?burial. #dead\n",
    "?burial ?p ?o.\n",
    "?o wdt:P17 wd:Q142. \n",
    "\n",
    "#Labels\n",
    "?p <http://schema.org/name> ?pname .\n",
    "}\n",
    "LIMIT 25\n",
    "\"\"\"\n",
    "\n",
    "print(\"Results\")\n",
    "run_query(queryString)"
   ]
  },
  {
   "cell_type": "markdown",
   "id": "1d3d22be-66fc-461b-b86c-c42a90491c88",
   "metadata": {},
   "source": [
    "Use P131 to retrieve the geolocation of a certain place of birth/burial."
   ]
  },
  {
   "cell_type": "code",
   "execution_count": 13,
   "id": "8b4266d3-c347-41a9-a692-9cad2ebf4c2b",
   "metadata": {},
   "outputs": [
    {
     "name": "stdout",
     "output_type": "stream",
     "text": [
      "Results\n",
      "[('bname', 'Cimetière Saint-Martin de Brest'), ('o', 'http://www.wikidata.org/entity/Q12193'), ('oname', 'Brest')]\n",
      "[('bname', 'Véretz'), ('o', 'http://www.wikidata.org/entity/Q12556'), ('oname', 'Indre-et-Loire')]\n",
      "[('bname', 'Véretz'), ('o', 'http://www.wikidata.org/entity/Q702657'), ('oname', 'arrondissement of Tours')]\n",
      "[('bname', 'Trégastel'), ('o', 'http://www.wikidata.org/entity/Q3349'), ('oname', \"Côtes-d'Armor\")]\n",
      "[('bname', 'Trégastel'), ('o', 'http://www.wikidata.org/entity/Q584641'), ('oname', 'arrondissement of Lannion')]\n",
      "[('bname', 'Omonville-la-Petite'), ('o', 'http://www.wikidata.org/entity/Q700914'), ('oname', 'arrondissement of Cherbourg')]\n",
      "[('bname', 'Omonville-la-Petite'), ('o', 'http://www.wikidata.org/entity/Q1724422'), ('oname', 'canton of Beaumont-Hague')]\n",
      "[('bname', 'Omonville-la-Petite'), ('o', 'http://www.wikidata.org/entity/Q12589'), ('oname', 'Manche')]\n",
      "[('bname', 'Saint-Germain-en-Coglès'), ('o', 'http://www.wikidata.org/entity/Q701222'), ('oname', 'arrondissement of Fougères-Vitré')]\n",
      "[('bname', 'Saint-Germain-en-Coglès'), ('o', 'http://www.wikidata.org/entity/Q1704012'), ('oname', 'canton of Saint-Brice-en-Coglès')]\n",
      "[('bname', 'Saint-Germain-en-Coglès'), ('o', 'http://www.wikidata.org/entity/Q28008956'), ('oname', 'Couesnon Marches de Bretagne')]\n",
      "[('bname', 'Saint-Germain-en-Coglès'), ('o', 'http://www.wikidata.org/entity/Q12549'), ('oname', 'Ille-et-Vilaine')]\n",
      "[('bname', 'Saint-Germain-en-Coglès'), ('o', 'http://www.wikidata.org/entity/Q23018450'), ('oname', 'arrondissement of Fougères')]\n",
      "[('bname', 'Cimetière de Loyasse'), ('o', 'http://www.wikidata.org/entity/Q3354'), ('oname', '5th arrondissement of Lyon')]\n",
      "[('bname', 'Lannion'), ('o', 'http://www.wikidata.org/entity/Q3349'), ('oname', \"Côtes-d'Armor\")]\n",
      "[('bname', 'Lannion'), ('o', 'http://www.wikidata.org/entity/Q584641'), ('oname', 'arrondissement of Lannion')]\n",
      "[('bname', 'Verneuil-sur-Avre'), ('o', 'http://www.wikidata.org/entity/Q702864'), ('oname', 'arrondissement of Évreux')]\n",
      "[('bname', 'Verneuil-sur-Avre'), ('o', 'http://www.wikidata.org/entity/Q3372'), ('oname', 'Eure')]\n",
      "[('bname', 'Triel-sur-Seine'), ('o', 'http://www.wikidata.org/entity/Q979470'), ('oname', 'Seine-et-Oise')]\n",
      "[('bname', 'Triel-sur-Seine'), ('o', 'http://www.wikidata.org/entity/Q212673'), ('oname', 'arrondissement of Saint-Germain-en-Laye')]\n",
      "[('bname', 'Triel-sur-Seine'), ('o', 'http://www.wikidata.org/entity/Q12820'), ('oname', 'Yvelines')]\n",
      "[('bname', 'Cimetière parisien de Thiais'), ('o', 'http://www.wikidata.org/entity/Q316452'), ('oname', 'Thiais')]\n",
      "[('bname', 'cemetery of Fontainebleau'), ('o', 'http://www.wikidata.org/entity/Q182872'), ('oname', 'Fontainebleau')]\n",
      "[('bname', 'Montségur'), ('o', 'http://www.wikidata.org/entity/Q518212'), ('oname', 'arrondissement of Foix')]\n",
      "[('bname', 'Montségur'), ('o', 'http://www.wikidata.org/entity/Q3184'), ('oname', 'Ariège')]\n"
     ]
    },
    {
     "data": {
      "text/plain": [
       "25"
      ]
     },
     "execution_count": 13,
     "metadata": {},
     "output_type": "execute_result"
    }
   ],
   "source": [
    "#Q48\n",
    "#use P131 found above\n",
    "queryString = \"\"\"\n",
    "SELECT DISTINCT ?bname ?o ?oname\n",
    "WHERE{\n",
    "\n",
    "?s wdt:P106 wd:Q49757; #poet\n",
    "   wdt:P119 ?burial. #dead\n",
    "?burial wdt:P131 ?o;\n",
    "        wdt:P17 wd:Q142.\n",
    "\n",
    "#Labels\n",
    "?burial <http://schema.org/name> ?bname .\n",
    "?o <http://schema.org/name> ?oname .\n",
    "}\n",
    "LIMIT 25\n",
    "\"\"\"\n",
    "\n",
    "print(\"Results\")\n",
    "run_query(queryString)"
   ]
  },
  {
   "cell_type": "markdown",
   "id": "5a6a0c7d-8c14-4bb1-b9c5-23df6194aced",
   "metadata": {},
   "source": [
    "Use P669 (located on street) in order to get some info about location."
   ]
  },
  {
   "cell_type": "code",
   "execution_count": 14,
   "id": "ca908ac8-2adb-40bf-a089-cc1fbe7ddde8",
   "metadata": {},
   "outputs": [
    {
     "name": "stdout",
     "output_type": "stream",
     "text": [
      "Results\n",
      "[('bname', 'cemetery of Fontainebleau'), ('o', 'http://www.wikidata.org/entity/Q101656142'), ('oname', 'Dead Fighters for France Square')]\n",
      "[('bname', 'Church of St. Eustace'), ('o', 'http://www.wikidata.org/entity/Q3452393'), ('oname', 'rue du Jour')]\n",
      "[('bname', 'Crématorium-columbarium du Père-Lachaise'), ('o', 'http://www.wikidata.org/entity/Q311'), ('oname', 'Père Lachaise Cemetery')]\n",
      "[('bname', 'Cimetière de Bagneux'), ('o', 'http://www.wikidata.org/entity/Q104695867'), ('oname', 'Category:Avenue Marx-Dormoy (Bagneux et Montrouge)')]\n",
      "[('bname', 'Cimetière de Pantin'), ('o', 'http://www.wikidata.org/entity/Q101210088'), ('oname', 'Avenue Jean-Jaurès')]\n",
      "[('bname', 'Saint-Paul-Saint-Louis'), ('o', 'http://www.wikidata.org/entity/Q1478811'), ('oname', 'rue Saint-Antoine')]\n",
      "[('bname', \"Cimetière parisien d'Ivry\"), ('o', 'http://www.wikidata.org/entity/Q99604296'), ('oname', 'Avenue de Verdun')]\n",
      "[('bname', \"Cimetière de l'Est\"), ('o', 'http://www.wikidata.org/entity/Q20205330'), ('oname', 'Rue Jean-Jaurès (Reims)')]\n",
      "[('bname', 'Passy Cemetery'), ('o', 'http://www.wikidata.org/entity/Q3452226'), ('oname', 'rue du Commandant-Schloesing')]\n",
      "[('bname', 'Panthéon'), ('o', 'http://www.wikidata.org/entity/Q3390667'), ('oname', 'place du Panthéon')]\n",
      "[('bname', 'Montparnasse Cemetery'), ('o', 'http://www.wikidata.org/entity/Q2921810'), ('oname', 'boulevard Edgar-Quinet')]\n",
      "[('bname', 'Cimetière de Montrouge'), ('o', 'http://www.wikidata.org/entity/Q2874032'), ('oname', 'avenue de la Porte-de-Montrouge')]\n",
      "[('bname', 'Père Lachaise Cemetery'), ('o', 'http://www.wikidata.org/entity/Q2921989'), ('oname', 'Boulevard de Ménilmontant')]\n",
      "[('bname', 'Montmartre Cemetery'), ('o', 'http://www.wikidata.org/entity/Q2873818'), ('oname', 'avenue Rachel')]\n",
      "[('bname', 'Saint-Sulpice'), ('o', 'http://www.wikidata.org/entity/Q2735858'), ('oname', 'place Saint-Sulpice')]\n",
      "[('bname', 'Levallois-Perret Cemetery'), ('o', 'http://www.wikidata.org/entity/Q3447086'), ('oname', 'rue Baudin')]\n",
      "[('bname', \"Saint-Louis en l'Île\"), ('o', 'http://www.wikidata.org/entity/Q3449607'), ('oname', 'rue Poulletier')]\n",
      "[('bname', 'Saint-Étienne-du-Mont'), ('o', 'http://www.wikidata.org/entity/Q3447667'), ('oname', 'rue Descartes')]\n",
      "[('bname', 'Saint-Vincent Cemetery'), ('o', 'http://www.wikidata.org/entity/Q3448933'), ('oname', 'rue Lucien-Gaulard')]\n",
      "[('bname', 'Picpus Cemetery'), ('o', 'http://www.wikidata.org/entity/Q3450957'), ('oname', 'rue de Picpus')]\n",
      "[('bname', 'Auteuil Cemetery'), ('o', 'http://www.wikidata.org/entity/Q3447473'), ('oname', 'rue Claude-Lorrain')]\n",
      "[('bname', 'Abbey of Saint-Germain-des-Prés'), ('o', 'http://www.wikidata.org/entity/Q3390094'), ('oname', 'place Saint-Germain-des-Prés')]\n",
      "[('bname', 'Notre-Dame de Paris'), ('o', 'http://www.wikidata.org/entity/Q2720522'), ('oname', 'Parvis Notre-Dame – Place Jean-Paul-II')]\n",
      "[('bname', 'Rouen Cathedral'), ('o', 'http://www.wikidata.org/entity/Q3449965'), ('oname', 'rue Saint-Romain')]\n",
      "[('bname', 'Batignolles Cemetery'), ('o', 'http://www.wikidata.org/entity/Q3449910'), ('oname', 'rue Saint-Just')]\n"
     ]
    },
    {
     "data": {
      "text/plain": [
       "25"
      ]
     },
     "execution_count": 14,
     "metadata": {},
     "output_type": "execute_result"
    }
   ],
   "source": [
    "#Q49\n",
    "#use P669 found on Q47\n",
    "queryString = \"\"\"\n",
    "SELECT DISTINCT ?bname ?o ?oname\n",
    "WHERE{\n",
    "\n",
    "?s wdt:P106 wd:Q49757; #poet\n",
    "   wdt:P119 ?burial. #dead\n",
    "?burial wdt:P669 ?o;\n",
    "        wdt:P17 wd:Q142.\n",
    "\n",
    "#Labels\n",
    "?burial <http://schema.org/name> ?bname .\n",
    "?o <http://schema.org/name> ?oname .\n",
    "}\n",
    "LIMIT 25\n",
    "\"\"\"\n",
    "\n",
    "print(\"Results\")\n",
    "run_query(queryString)"
   ]
  },
  {
   "cell_type": "markdown",
   "id": "5f0d8343-4cac-4b71-85f6-47754d8f3e2b",
   "metadata": {},
   "source": [
    "Use the graph pattern found above and retrieve some properties."
   ]
  },
  {
   "cell_type": "code",
   "execution_count": 15,
   "id": "22634a3b-e245-4f78-96a7-4c5fa01dabd0",
   "metadata": {},
   "outputs": [
    {
     "name": "stdout",
     "output_type": "stream",
     "text": [
      "Results\n",
      "[('p', 'http://www.wikidata.org/prop/direct/P131'), ('pname', 'located in the administrative territorial entity')]\n",
      "[('p', 'http://www.wikidata.org/prop/direct/P138'), ('pname', 'named after')]\n",
      "[('p', 'http://www.wikidata.org/prop/direct/P17'), ('pname', 'country')]\n",
      "[('p', 'http://www.wikidata.org/prop/direct/P1766'), ('pname', 'place name sign')]\n",
      "[('p', 'http://www.wikidata.org/prop/direct/P18'), ('pname', 'image')]\n",
      "[('p', 'http://www.wikidata.org/prop/direct/P2046'), ('pname', 'area')]\n",
      "[('p', 'http://www.wikidata.org/prop/direct/P31'), ('pname', 'instance of')]\n",
      "[('p', 'http://www.wikidata.org/prop/direct/P3182'), ('pname', 'FANTOIR code')]\n",
      "[('p', 'http://www.wikidata.org/prop/direct/P361'), ('pname', 'part of')]\n",
      "[('p', 'http://www.wikidata.org/prop/direct/P373'), ('pname', 'Commons category')]\n",
      "[('p', 'http://www.wikidata.org/prop/direct/P2382'), ('pname', 'Chemins de mémoire ID')]\n",
      "[('p', 'http://www.wikidata.org/prop/direct/P4352'), ('pname', 'BillionGraves cemetery ID')]\n",
      "[('p', 'http://www.wikidata.org/prop/direct/P1174'), ('pname', 'visitors per year')]\n",
      "[('p', 'http://www.wikidata.org/prop/direct/P1249'), ('pname', 'time of earliest written record')]\n",
      "[('p', 'http://www.wikidata.org/prop/direct/P1296'), ('pname', 'Gran Enciclopèdia Catalana ID')]\n",
      "[('p', 'http://www.wikidata.org/prop/direct/P1329'), ('pname', 'phone number')]\n",
      "[('p', 'http://www.wikidata.org/prop/direct/P1417'), ('pname', 'Encyclopædia Britannica Online ID')]\n",
      "[('p', 'http://www.wikidata.org/prop/direct/P1435'), ('pname', 'heritage designation')]\n",
      "[('p', 'http://www.wikidata.org/prop/direct/P1465'), ('pname', 'category for people who died here')]\n",
      "[('p', 'http://www.wikidata.org/prop/direct/P1566'), ('pname', 'GeoNames ID')]\n",
      "[('p', 'http://www.wikidata.org/prop/direct/P1612'), ('pname', 'Commons Institution page')]\n",
      "[('p', 'http://www.wikidata.org/prop/direct/P1619'), ('pname', 'date of official opening')]\n",
      "[('p', 'http://www.wikidata.org/prop/direct/P1667'), ('pname', 'Getty Thesaurus of Geographic Names ID')]\n",
      "[('p', 'http://www.wikidata.org/prop/direct/P1791'), ('pname', 'category of people buried here')]\n",
      "[('p', 'http://www.wikidata.org/prop/direct/P2025'), ('pname', 'Find A Grave cemetery ID')]\n"
     ]
    },
    {
     "data": {
      "text/plain": [
       "25"
      ]
     },
     "execution_count": 15,
     "metadata": {},
     "output_type": "execute_result"
    }
   ],
   "source": [
    "#Q49\n",
    "#use P669 found on Q47\n",
    "queryString = \"\"\"\n",
    "SELECT DISTINCT ?p ?pname\n",
    "WHERE{\n",
    "\n",
    "?s wdt:P106 wd:Q49757; #poet\n",
    "   wdt:P119 ?burial. #dead\n",
    "?burial wdt:P669 ?street;\n",
    "        wdt:P17 wd:Q142.\n",
    "?street ?p ?o.\n",
    "\n",
    "#Labels\n",
    "?p <http://schema.org/name> ?pname .\n",
    "}\n",
    "LIMIT 25\n",
    "\"\"\"\n",
    "\n",
    "print(\"Results\")\n",
    "run_query(queryString)"
   ]
  },
  {
   "cell_type": "markdown",
   "id": "552509a3-9278-48cf-96bf-256f83649747",
   "metadata": {},
   "source": [
    "Use the graph pattern of Q48 and also add country=France. Retrieve some properties."
   ]
  },
  {
   "cell_type": "code",
   "execution_count": 17,
   "id": "b4784c86-1873-46f7-9770-d7d13a0d0d66",
   "metadata": {},
   "outputs": [
    {
     "name": "stdout",
     "output_type": "stream",
     "text": [
      "Results\n",
      "[('p', 'http://www.wikidata.org/prop/direct/P131'), ('pname', 'located in the administrative territorial entity')]\n",
      "[('p', 'http://www.wikidata.org/prop/direct/P17'), ('pname', 'country')]\n",
      "[('p', 'http://www.wikidata.org/prop/direct/P361'), ('pname', 'part of')]\n",
      "[('p', 'http://www.wikidata.org/prop/direct/P138'), ('pname', 'named after')]\n",
      "[('p', 'http://www.wikidata.org/prop/direct/P1435'), ('pname', 'heritage designation')]\n",
      "[('p', 'http://www.wikidata.org/prop/direct/P47'), ('pname', 'shares border with')]\n",
      "[('p', 'http://www.wikidata.org/prop/direct/P527'), ('pname', 'has part')]\n",
      "[('p', 'http://www.wikidata.org/prop/direct/P559'), ('pname', 'terminus')]\n",
      "[('p', 'http://www.wikidata.org/prop/direct/P669'), ('pname', 'located on street')]\n",
      "[('p', 'http://www.wikidata.org/prop/direct/P1427'), ('pname', 'start point')]\n",
      "[('p', 'http://www.wikidata.org/prop/direct/P1444'), ('pname', 'destination point')]\n",
      "[('p', 'http://www.wikidata.org/prop/direct/P1889'), ('pname', 'different from')]\n",
      "[('p', 'http://www.wikidata.org/prop/direct/P706'), ('pname', 'located in/on physical feature')]\n",
      "[('p', 'http://www.wikidata.org/prop/direct/P31'), ('pname', 'instance of')]\n"
     ]
    },
    {
     "data": {
      "text/plain": [
       "14"
      ]
     },
     "execution_count": 17,
     "metadata": {},
     "output_type": "execute_result"
    }
   ],
   "source": [
    "#Q50\n",
    "#use P669 found on Q47\n",
    "queryString = \"\"\"\n",
    "SELECT DISTINCT ?p ?pname\n",
    "WHERE{\n",
    "\n",
    "?s wdt:P106 wd:Q49757; #poet\n",
    "   wdt:P119 ?burial. #dead\n",
    "?burial wdt:P669 ?street;\n",
    "        wdt:P17 wd:Q142.\n",
    "?street ?p ?o.\n",
    "?o wdt:P17 wd:Q142.\n",
    "\n",
    "#Labels\n",
    "?p <http://schema.org/name> ?pname .\n",
    "}\n",
    "LIMIT 25\n",
    "\"\"\"\n",
    "\n",
    "print(\"Results\")\n",
    "run_query(queryString)"
   ]
  },
  {
   "cell_type": "markdown",
   "id": "a0c7f48b-b01c-4a82-bad5-55038e6234f6",
   "metadata": {},
   "source": [
    "P706 is \"located in\", I think that it could be useful so I am going to use it in the next query, on top of the graph pattern used previously."
   ]
  },
  {
   "cell_type": "code",
   "execution_count": 18,
   "id": "50299760-f2bc-438c-acb1-beb5ed5e5670",
   "metadata": {},
   "outputs": [
    {
     "name": "stdout",
     "output_type": "stream",
     "text": [
      "Results\n",
      "[('o', 'http://www.wikidata.org/entity/Q211034'), ('oname', 'île Saint-Louis')]\n",
      "[('o', 'http://www.wikidata.org/entity/Q190063'), ('oname', 'île de la Cité')]\n"
     ]
    },
    {
     "data": {
      "text/plain": [
       "2"
      ]
     },
     "execution_count": 18,
     "metadata": {},
     "output_type": "execute_result"
    }
   ],
   "source": [
    "#Q51\n",
    "#use P706 found above\n",
    "queryString = \"\"\"\n",
    "SELECT DISTINCT ?o ?oname\n",
    "WHERE{\n",
    "\n",
    "?s wdt:P106 wd:Q49757; #poet\n",
    "   wdt:P119 ?burial. #dead\n",
    "?burial wdt:P669 ?street;\n",
    "        wdt:P17 wd:Q142.\n",
    "?street wdt:P706 ?o.\n",
    "\n",
    "#Labels\n",
    "?o <http://schema.org/name> ?oname .\n",
    "}\n",
    "LIMIT 25\n",
    "\"\"\"\n",
    "\n",
    "print(\"Results\")\n",
    "run_query(queryString)"
   ]
  },
  {
   "cell_type": "markdown",
   "id": "57ceb6f2-ad1d-4ac2-84ce-3aa45d6b5e4b",
   "metadata": {},
   "source": [
    "Run the same qiery as above but wihtout the \"french\" constraint in order to see if the pattern is valid in general."
   ]
  },
  {
   "cell_type": "code",
   "execution_count": 19,
   "id": "05006ace-be16-43c2-9b93-ca63969dc17f",
   "metadata": {},
   "outputs": [
    {
     "name": "stdout",
     "output_type": "stream",
     "text": [
      "Results\n",
      "[('o', 'http://www.wikidata.org/entity/Q1815284'), ('oname', 'Leinegraben')]\n",
      "[('o', 'http://www.wikidata.org/entity/Q10883263'), ('oname', 'Kyoto Basin')]\n",
      "[('o', 'http://www.wikidata.org/entity/Q1769836'), ('oname', 'Veierland')]\n",
      "[('o', 'http://www.wikidata.org/entity/Q2381124'), ('oname', 'South Lower Saxony')]\n",
      "[('o', 'http://www.wikidata.org/entity/Q27600'), ('oname', 'Vasilyevsky Island')]\n",
      "[('o', 'http://www.wikidata.org/entity/Q2641546'), ('oname', 'southern Ukraine')]\n",
      "[('o', 'http://www.wikidata.org/entity/Q27449'), ('oname', 'Southern Europe')]\n",
      "[('o', 'http://www.wikidata.org/entity/Q191862'), ('oname', 'East European Plain')]\n",
      "[('o', 'http://www.wikidata.org/entity/Q14324291'), ('oname', 'South European Russia')]\n",
      "[('o', 'http://www.wikidata.org/entity/Q15621281'), ('oname', 'Mont-Royal Heritage Site')]\n",
      "[('o', 'http://www.wikidata.org/entity/Q72499'), ('oname', 'Mediterranean Basin')]\n",
      "[('o', 'http://www.wikidata.org/entity/Q805369'), ('oname', 'metropolitan area Leipzig-Halle')]\n",
      "[('o', 'http://www.wikidata.org/entity/Q166004'), ('oname', 'North German Plain')]\n",
      "[('o', 'http://www.wikidata.org/entity/Q23666'), ('oname', 'Great Britain')]\n",
      "[('o', 'http://www.wikidata.org/entity/Q3113539'), ('oname', 'Grand Bé')]\n",
      "[('o', 'http://www.wikidata.org/entity/Q824294'), ('oname', 'Euroregion Elbe/Labe')]\n",
      "[('o', 'http://www.wikidata.org/entity/Q314741'), ('oname', 'Dresden Basin')]\n",
      "[('o', 'http://www.wikidata.org/entity/Q805366'), ('oname', 'conurbation Dresden')]\n",
      "[('o', 'http://www.wikidata.org/entity/Q8828'), ('oname', 'Mallorca')]\n",
      "[('o', 'http://www.wikidata.org/entity/Q683705'), ('oname', 'New York metropolitan area')]\n",
      "[('o', 'http://www.wikidata.org/entity/Q2339242'), ('oname', 'Ludgate Hill')]\n",
      "[('o', 'http://www.wikidata.org/entity/Q6084279'), ('oname', 'San Juan Islet')]\n",
      "[('o', 'http://www.wikidata.org/entity/Q292354'), ('oname', 'Island of Montreal')]\n",
      "[('o', 'http://www.wikidata.org/entity/Q34374'), ('oname', 'Crete')]\n",
      "[('o', 'http://www.wikidata.org/entity/Q937908'), ('oname', 'Hiva-Oa')]\n"
     ]
    },
    {
     "data": {
      "text/plain": [
       "25"
      ]
     },
     "execution_count": 19,
     "metadata": {},
     "output_type": "execute_result"
    }
   ],
   "source": [
    "#Q52\n",
    "#use P706 found above\n",
    "queryString = \"\"\"\n",
    "SELECT DISTINCT ?o ?oname\n",
    "WHERE{\n",
    "\n",
    "?s wdt:P106 wd:Q49757; #poet\n",
    "   wdt:P119 ?burial. #dead\n",
    "?burial wdt:P706 ?o.\n",
    "\n",
    "#Labels\n",
    "?o <http://schema.org/name> ?oname .\n",
    "}\n",
    "LIMIT 25\n",
    "\"\"\"\n",
    "\n",
    "print(\"Results\")\n",
    "run_query(queryString)"
   ]
  },
  {
   "cell_type": "markdown",
   "id": "a6d82826-cb9d-4c94-9f57-b5595cb2bb71",
   "metadata": {},
   "source": [
    "Some results are pretty vague, so it's better to dig a little more on the properties to see if there is something useful."
   ]
  },
  {
   "cell_type": "code",
   "execution_count": 20,
   "id": "6d373f74-cb90-452d-8da7-e691a3b9e818",
   "metadata": {},
   "outputs": [
    {
     "name": "stdout",
     "output_type": "stream",
     "text": [
      "Results\n",
      "[('p', 'http://www.wikidata.org/prop/direct/P131'), ('pname', 'located in the administrative territorial entity')]\n",
      "[('p', 'http://www.wikidata.org/prop/direct/P17'), ('pname', 'country')]\n",
      "[('p', 'http://www.wikidata.org/prop/direct/P31'), ('pname', 'instance of')]\n",
      "[('p', 'http://www.wikidata.org/prop/direct/P495'), ('pname', 'country of origin')]\n",
      "[('p', 'http://www.wikidata.org/prop/direct/P527'), ('pname', 'has part')]\n",
      "[('p', 'http://www.wikidata.org/prop/direct/P669'), ('pname', 'located on street')]\n",
      "[('p', 'http://www.wikidata.org/prop/direct/P3032'), ('pname', 'adjacent building')]\n"
     ]
    },
    {
     "data": {
      "text/plain": [
       "7"
      ]
     },
     "execution_count": 20,
     "metadata": {},
     "output_type": "execute_result"
    }
   ],
   "source": [
    "#Q53\n",
    "#closer look at wd:Q272208\n",
    "queryString = \"\"\"\n",
    "SELECT DISTINCT ?p ?pname\n",
    "WHERE{\n",
    "\n",
    "wd:Q272208 ?p ?o.\n",
    "?o wdt:P17 wd:Q142.\n",
    "\n",
    "#Labels\n",
    "?p <http://schema.org/name> ?pname .\n",
    "}\n",
    "LIMIT 25\n",
    "\"\"\"\n",
    "\n",
    "print(\"Results\")\n",
    "run_query(queryString)"
   ]
  },
  {
   "cell_type": "code",
   "execution_count": 21,
   "id": "caf11631-f3ea-4e87-a1f9-52f6eb921096",
   "metadata": {},
   "outputs": [
    {
     "name": "stdout",
     "output_type": "stream",
     "text": [
      "Results\n",
      "[('p', 'http://www.wikidata.org/prop/direct/P131'), ('pname', 'located in the administrative territorial entity'), ('o', 'http://www.wikidata.org/entity/Q187153'), ('oname', '14th arrondissement of Paris')]\n",
      "[('p', 'http://www.wikidata.org/prop/direct/P17'), ('pname', 'country'), ('o', 'http://www.wikidata.org/entity/Q142'), ('oname', 'France')]\n",
      "[('p', 'http://www.wikidata.org/prop/direct/P31'), ('pname', 'instance of'), ('o', 'http://www.wikidata.org/entity/Q2972684'), ('oname', 'Parisian cemetery')]\n",
      "[('p', 'http://www.wikidata.org/prop/direct/P495'), ('pname', 'country of origin'), ('o', 'http://www.wikidata.org/entity/Q142'), ('oname', 'France')]\n",
      "[('p', 'http://www.wikidata.org/prop/direct/P527'), ('pname', 'has part'), ('o', 'http://www.wikidata.org/entity/Q3220192'), ('oname', 'The Kiss')]\n",
      "[('p', 'http://www.wikidata.org/prop/direct/P669'), ('pname', 'located on street'), ('o', 'http://www.wikidata.org/entity/Q2921810'), ('oname', 'boulevard Edgar-Quinet')]\n",
      "[('p', 'http://www.wikidata.org/prop/direct/P3032'), ('pname', 'adjacent building'), ('o', 'http://www.wikidata.org/entity/Q764465'), ('oname', 'Montparnasse – Bienvenüe')]\n"
     ]
    },
    {
     "data": {
      "text/plain": [
       "7"
      ]
     },
     "execution_count": 21,
     "metadata": {},
     "output_type": "execute_result"
    }
   ],
   "source": [
    "#Q54\n",
    "#closer look at wd:Q272208\n",
    "queryString = \"\"\"\n",
    "SELECT DISTINCT ?p ?pname ?o ?oname\n",
    "WHERE{\n",
    "\n",
    "wd:Q272208 ?p ?o.\n",
    "?o wdt:P17 wd:Q142.\n",
    "\n",
    "#Labels\n",
    "?p <http://schema.org/name> ?pname .\n",
    "?o <http://schema.org/name> ?oname .\n",
    "}\n",
    "LIMIT 25\n",
    "\"\"\"\n",
    "\n",
    "print(\"Results\")\n",
    "run_query(queryString)"
   ]
  },
  {
   "cell_type": "code",
   "execution_count": 22,
   "id": "f84d817b-23b6-4cb9-a912-fcd4f7b38b02",
   "metadata": {},
   "outputs": [
    {
     "name": "stdout",
     "output_type": "stream",
     "text": [
      "Results\n",
      "[('p', 'http://www.wikidata.org/prop/direct/P131'), ('pname', 'located in the administrative territorial entity'), ('o', 'http://www.wikidata.org/entity/Q90'), ('oname', 'Paris')]\n",
      "[('p', 'http://www.wikidata.org/prop/direct/P1313'), ('pname', 'office held by head of government'), ('o', 'http://www.wikidata.org/entity/Q62093207'), ('oname', 'Mayor of 14th arrondissement of Paris')]\n",
      "[('p', 'http://www.wikidata.org/prop/direct/P1365'), ('pname', 'replaces'), ('o', 'http://www.wikidata.org/entity/Q234728'), ('oname', 'Vanves')]\n",
      "[('p', 'http://www.wikidata.org/prop/direct/P1365'), ('pname', 'replaces'), ('o', 'http://www.wikidata.org/entity/Q640102'), ('oname', 'Gentilly')]\n",
      "[('p', 'http://www.wikidata.org/prop/direct/P1365'), ('pname', 'replaces'), ('o', 'http://www.wikidata.org/entity/Q15149909'), ('oname', 'former 12th arrondissement of Paris')]\n",
      "[('p', 'http://www.wikidata.org/prop/direct/P1365'), ('pname', 'replaces'), ('o', 'http://www.wikidata.org/entity/Q241021'), ('oname', 'Montrouge')]\n",
      "[('p', 'http://www.wikidata.org/prop/direct/P1365'), ('pname', 'replaces'), ('o', 'http://www.wikidata.org/entity/Q3555080'), ('oname', 'Vaugirard')]\n",
      "[('p', 'http://www.wikidata.org/prop/direct/P150'), ('pname', 'contains administrative territorial entity'), ('o', 'http://www.wikidata.org/entity/Q3413173'), ('oname', 'Plaisance')]\n",
      "[('p', 'http://www.wikidata.org/prop/direct/P150'), ('pname', 'contains administrative territorial entity'), ('o', 'http://www.wikidata.org/entity/Q211604'), ('oname', 'Montparnasse')]\n",
      "[('p', 'http://www.wikidata.org/prop/direct/P150'), ('pname', 'contains administrative territorial entity'), ('o', 'http://www.wikidata.org/entity/Q1537421'), ('oname', 'Petit-Montrouge')]\n",
      "[('p', 'http://www.wikidata.org/prop/direct/P150'), ('pname', 'contains administrative territorial entity'), ('o', 'http://www.wikidata.org/entity/Q3413285'), ('oname', 'Parc-de-Montsouris')]\n",
      "[('p', 'http://www.wikidata.org/prop/direct/P17'), ('pname', 'country'), ('o', 'http://www.wikidata.org/entity/Q142'), ('oname', 'France')]\n",
      "[('p', 'http://www.wikidata.org/prop/direct/P31'), ('pname', 'instance of'), ('o', 'http://www.wikidata.org/entity/Q702842'), ('oname', 'municipal arrondissement')]\n",
      "[('p', 'http://www.wikidata.org/prop/direct/P47'), ('pname', 'shares border with'), ('o', 'http://www.wikidata.org/entity/Q175129'), ('oname', '13th arrondissement of Paris')]\n",
      "[('p', 'http://www.wikidata.org/prop/direct/P47'), ('pname', 'shares border with'), ('o', 'http://www.wikidata.org/entity/Q238723'), ('oname', '5th arrondissement of Paris')]\n",
      "[('p', 'http://www.wikidata.org/prop/direct/P47'), ('pname', 'shares border with'), ('o', 'http://www.wikidata.org/entity/Q191066'), ('oname', '15th arrondissement of Paris')]\n",
      "[('p', 'http://www.wikidata.org/prop/direct/P47'), ('pname', 'shares border with'), ('o', 'http://www.wikidata.org/entity/Q245546'), ('oname', '6th arrondissement of Paris')]\n"
     ]
    },
    {
     "data": {
      "text/plain": [
       "17"
      ]
     },
     "execution_count": 22,
     "metadata": {},
     "output_type": "execute_result"
    }
   ],
   "source": [
    "#Q55\n",
    "#wd:Q187153\n",
    "queryString = \"\"\"\n",
    "SELECT DISTINCT ?p ?pname ?o ?oname\n",
    "WHERE{\n",
    "\n",
    "wd:Q187153 ?p ?o.\n",
    "?o wdt:P17 wd:Q142.\n",
    "\n",
    "#Labels\n",
    "?p <http://schema.org/name> ?pname .\n",
    "?o <http://schema.org/name> ?oname .\n",
    "}\n",
    "LIMIT 25\n",
    "\"\"\"\n",
    "\n",
    "print(\"Results\")\n",
    "run_query(queryString)"
   ]
  },
  {
   "cell_type": "markdown",
   "id": "0017daa0-5cb8-4af1-8ee2-79e207afa8b8",
   "metadata": {},
   "source": [
    "Retrieve a burial place and the city where is located."
   ]
  },
  {
   "cell_type": "code",
   "execution_count": 23,
   "id": "d3d33918-cb6d-4177-ad63-669f2a1b1cf4",
   "metadata": {},
   "outputs": [
    {
     "name": "stdout",
     "output_type": "stream",
     "text": [
      "Results\n",
      "[('burial', 'http://www.wikidata.org/entity/Q317271'), ('bname', 'Verneuil-sur-Avre'), ('city', 'http://www.wikidata.org/entity/Q317271'), ('cname', 'Verneuil-sur-Avre')]\n",
      "[('burial', 'http://www.wikidata.org/entity/Q317271'), ('bname', 'Verneuil-sur-Avre'), ('city', 'http://www.wikidata.org/entity/Q702864'), ('cname', 'arrondissement of Évreux')]\n",
      "[('burial', 'http://www.wikidata.org/entity/Q317271'), ('bname', 'Verneuil-sur-Avre'), ('city', 'http://www.wikidata.org/entity/Q142'), ('cname', 'France')]\n",
      "[('burial', 'http://www.wikidata.org/entity/Q317271'), ('bname', 'Verneuil-sur-Avre'), ('city', 'http://www.wikidata.org/entity/Q212429'), ('cname', 'Metropolitan France')]\n",
      "[('burial', 'http://www.wikidata.org/entity/Q317271'), ('bname', 'Verneuil-sur-Avre'), ('city', 'http://www.wikidata.org/entity/Q3372'), ('cname', 'Eure')]\n",
      "[('burial', 'http://www.wikidata.org/entity/Q317271'), ('bname', 'Verneuil-sur-Avre'), ('city', 'http://www.wikidata.org/entity/Q18677875'), ('cname', 'Normandy')]\n",
      "[('burial', 'http://www.wikidata.org/entity/Q2482942'), ('bname', 'Cimetière de Bagneux'), ('city', 'http://www.wikidata.org/entity/Q161884'), ('cname', 'Bagneux')]\n",
      "[('burial', 'http://www.wikidata.org/entity/Q2482942'), ('bname', 'Cimetière de Bagneux'), ('city', 'http://www.wikidata.org/entity/Q2482942'), ('cname', 'Cimetière de Bagneux')]\n",
      "[('burial', 'http://www.wikidata.org/entity/Q2482942'), ('bname', 'Cimetière de Bagneux'), ('city', 'http://www.wikidata.org/entity/Q1142326'), ('cname', 'Seine')]\n",
      "[('burial', 'http://www.wikidata.org/entity/Q2482942'), ('bname', 'Cimetière de Bagneux'), ('city', 'http://www.wikidata.org/entity/Q700438'), ('cname', 'arrondissement of Antony')]\n",
      "[('burial', 'http://www.wikidata.org/entity/Q2482942'), ('bname', 'Cimetière de Bagneux'), ('city', 'http://www.wikidata.org/entity/Q142'), ('cname', 'France')]\n",
      "[('burial', 'http://www.wikidata.org/entity/Q2482942'), ('bname', 'Cimetière de Bagneux'), ('city', 'http://www.wikidata.org/entity/Q212429'), ('cname', 'Metropolitan France')]\n",
      "[('burial', 'http://www.wikidata.org/entity/Q2482942'), ('bname', 'Cimetière de Bagneux'), ('city', 'http://www.wikidata.org/entity/Q12543'), ('cname', 'Hauts-de-Seine')]\n",
      "[('burial', 'http://www.wikidata.org/entity/Q2482942'), ('bname', 'Cimetière de Bagneux'), ('city', 'http://www.wikidata.org/entity/Q13917'), ('cname', 'Île-de-France')]\n",
      "[('burial', 'http://www.wikidata.org/entity/Q752255'), ('bname', 'Juvisy-sur-Orge'), ('city', 'http://www.wikidata.org/entity/Q752255'), ('cname', 'Juvisy-sur-Orge')]\n",
      "[('burial', 'http://www.wikidata.org/entity/Q752255'), ('bname', 'Juvisy-sur-Orge'), ('city', 'http://www.wikidata.org/entity/Q142'), ('cname', 'France')]\n",
      "[('burial', 'http://www.wikidata.org/entity/Q752255'), ('bname', 'Juvisy-sur-Orge'), ('city', 'http://www.wikidata.org/entity/Q212429'), ('cname', 'Metropolitan France')]\n",
      "[('burial', 'http://www.wikidata.org/entity/Q752255'), ('bname', 'Juvisy-sur-Orge'), ('city', 'http://www.wikidata.org/entity/Q3368'), ('cname', 'Essonne')]\n",
      "[('burial', 'http://www.wikidata.org/entity/Q752255'), ('bname', 'Juvisy-sur-Orge'), ('city', 'http://www.wikidata.org/entity/Q979470'), ('cname', 'Seine-et-Oise')]\n",
      "[('burial', 'http://www.wikidata.org/entity/Q752255'), ('bname', 'Juvisy-sur-Orge'), ('city', 'http://www.wikidata.org/entity/Q13917'), ('cname', 'Île-de-France')]\n",
      "[('burial', 'http://www.wikidata.org/entity/Q752255'), ('bname', 'Juvisy-sur-Orge'), ('city', 'http://www.wikidata.org/entity/Q539378'), ('cname', 'arrondissement of Palaiseau')]\n",
      "[('burial', 'http://www.wikidata.org/entity/Q2972454'), ('bname', 'Cimetière Saint-Gall de Strasbourg'), ('city', 'http://www.wikidata.org/entity/Q2972454'), ('cname', 'Cimetière Saint-Gall de Strasbourg')]\n",
      "[('burial', 'http://www.wikidata.org/entity/Q2972454'), ('bname', 'Cimetière Saint-Gall de Strasbourg'), ('city', 'http://www.wikidata.org/entity/Q142'), ('cname', 'France')]\n",
      "[('burial', 'http://www.wikidata.org/entity/Q2972454'), ('bname', 'Cimetière Saint-Gall de Strasbourg'), ('city', 'http://www.wikidata.org/entity/Q212429'), ('cname', 'Metropolitan France')]\n",
      "[('burial', 'http://www.wikidata.org/entity/Q2972454'), ('bname', 'Cimetière Saint-Gall de Strasbourg'), ('city', 'http://www.wikidata.org/entity/Q6602'), ('cname', 'Strasbourg')]\n"
     ]
    },
    {
     "data": {
      "text/plain": [
       "25"
      ]
     },
     "execution_count": 23,
     "metadata": {},
     "output_type": "execute_result"
    }
   ],
   "source": [
    "#Q56\n",
    "#try to find city where burial place is located\n",
    "queryString = \"\"\"\n",
    "SELECT DISTINCT ?burial ?bname ?city ?cname\n",
    "WHERE{\n",
    "\n",
    "?s wdt:P106 wd:Q49757; #poet\n",
    "   wdt:P119 ?burial. #dead\n",
    "?burial wdt:P131* ?city.\n",
    "?city wdt:P17 wd:Q142.\n",
    "\n",
    "#Labels\n",
    "?burial <http://schema.org/name> ?bname .\n",
    "?city <http://schema.org/name> ?cname .\n",
    "}\n",
    "LIMIT 25\n",
    "\"\"\"\n",
    "\n",
    "print(\"Results\")\n",
    "run_query(queryString)"
   ]
  },
  {
   "cell_type": "markdown",
   "id": "688766b3-7d28-4b69-b6f9-679a8be36c80",
   "metadata": {},
   "source": [
    "Try to find a way to identify the category of \"city\"."
   ]
  },
  {
   "cell_type": "code",
   "execution_count": 24,
   "id": "ecc1cc67-95f5-48ce-8b7e-dbcf3c85d37e",
   "metadata": {},
   "outputs": [
    {
     "name": "stdout",
     "output_type": "stream",
     "text": [
      "Results\n",
      "[('o', 'http://www.wikidata.org/entity/Q1549591'), ('oname', 'big city')]\n",
      "[('o', 'http://www.wikidata.org/entity/Q484170'), ('oname', 'commune of France')]\n",
      "[('o', 'http://www.wikidata.org/entity/Q902814'), ('oname', 'border town')]\n"
     ]
    },
    {
     "data": {
      "text/plain": [
       "3"
      ]
     },
     "execution_count": 24,
     "metadata": {},
     "output_type": "execute_result"
    }
   ],
   "source": [
    "#Q57\n",
    "#there is a way to select only cities\n",
    "queryString = \"\"\"\n",
    "SELECT DISTINCT ?o ?oname\n",
    "WHERE{\n",
    "\n",
    "wd:Q6602 wdt:P31 ?o.\n",
    "\n",
    "#Labels\n",
    "?o <http://schema.org/name> ?oname .\n",
    "}\n",
    "LIMIT 25\n",
    "\"\"\"\n",
    "\n",
    "print(\"Results\")\n",
    "run_query(queryString)"
   ]
  },
  {
   "cell_type": "markdown",
   "id": "58e811b4-41d5-401f-8758-3f8c4a80d446",
   "metadata": {},
   "source": [
    "Retrieve the poets and the city where they are buried."
   ]
  },
  {
   "cell_type": "code",
   "execution_count": 25,
   "id": "92ec92f1-9509-4b12-a1ed-4b6257b1b67f",
   "metadata": {},
   "outputs": [
    {
     "name": "stdout",
     "output_type": "stream",
     "text": [
      "Results\n",
      "[('burial', 'http://www.wikidata.org/entity/Q19853853'), ('bname', 'the Tomb of Zheng Yong-xi'), ('city', 'http://www.wikidata.org/entity/Q249994'), ('cname', 'Hsinchu')]\n",
      "[('burial', 'http://www.wikidata.org/entity/Q1358639'), ('bname', 'Westwood Village Memorial Park Cemetery'), ('city', 'http://www.wikidata.org/entity/Q65'), ('cname', 'Los Angeles')]\n",
      "[('burial', 'http://www.wikidata.org/entity/Q168886'), ('bname', 'Powązki Cemetery'), ('city', 'http://www.wikidata.org/entity/Q270'), ('cname', 'Warsaw')]\n",
      "[('burial', 'http://www.wikidata.org/entity/Q2790054'), ('bname', 'Powązki Military Cemetery'), ('city', 'http://www.wikidata.org/entity/Q270'), ('cname', 'Warsaw')]\n",
      "[('burial', 'http://www.wikidata.org/entity/Q3033'), ('bname', 'Göttingen'), ('city', 'http://www.wikidata.org/entity/Q3033'), ('cname', 'Göttingen')]\n",
      "[('burial', 'http://www.wikidata.org/entity/Q1627748'), ('bname', 'Hoppenlau Cemetery'), ('city', 'http://www.wikidata.org/entity/Q1022'), ('cname', 'Stuttgart')]\n",
      "[('burial', 'http://www.wikidata.org/entity/Q2661974'), ('bname', 'Olšany Cemetery'), ('city', 'http://www.wikidata.org/entity/Q1085'), ('cname', 'Prague')]\n",
      "[('burial', 'http://www.wikidata.org/entity/Q1545193'), ('bname', 'Grote Kerk'), ('city', 'http://www.wikidata.org/entity/Q9920'), ('cname', 'Haarlem')]\n",
      "[('burial', 'http://www.wikidata.org/entity/Q281859'), ('bname', 'Vagankovo Cemetery'), ('city', 'http://www.wikidata.org/entity/Q649'), ('cname', 'Moscow')]\n",
      "[('burial', 'http://www.wikidata.org/entity/Q1457437'), ('bname', 'Troyekurovskoye Cemetery'), ('city', 'http://www.wikidata.org/entity/Q649'), ('cname', 'Moscow')]\n",
      "[('burial', 'http://www.wikidata.org/entity/Q2972578'), ('bname', 'Waverley Cemetery'), ('city', 'http://www.wikidata.org/entity/Q3130'), ('cname', 'Sydney')]\n",
      "[('burial', 'http://www.wikidata.org/entity/Q1271094'), ('bname', 'Allegheny Cemetery'), ('city', 'http://www.wikidata.org/entity/Q1342'), ('cname', 'Pittsburgh')]\n",
      "[('burial', 'http://www.wikidata.org/entity/Q438026'), ('bname', 'Old Jewish Cemetery'), ('city', 'http://www.wikidata.org/entity/Q1085'), ('cname', 'Prague')]\n",
      "[('burial', 'http://www.wikidata.org/entity/Q873449'), ('bname', 'Hauptfriedhof Karlsruhe'), ('city', 'http://www.wikidata.org/entity/Q1040'), ('cname', 'Karlsruhe')]\n",
      "[('burial', 'http://www.wikidata.org/entity/Q8343387'), ('bname', 'Civil Cemetery, Madrid'), ('city', 'http://www.wikidata.org/entity/Q2807'), ('cname', 'Madrid')]\n",
      "[('burial', 'http://www.wikidata.org/entity/Q2972454'), ('bname', 'Cimetière Saint-Gall de Strasbourg'), ('city', 'http://www.wikidata.org/entity/Q6602'), ('cname', 'Strasbourg')]\n",
      "[('burial', 'http://www.wikidata.org/entity/Q1085'), ('bname', 'Prague'), ('city', 'http://www.wikidata.org/entity/Q1085'), ('cname', 'Prague')]\n",
      "[('burial', 'http://www.wikidata.org/entity/Q31487'), ('bname', 'Kraków'), ('city', 'http://www.wikidata.org/entity/Q31487'), ('cname', 'Kraków')]\n",
      "[('burial', 'http://www.wikidata.org/entity/Q34600'), ('bname', 'Kyoto'), ('city', 'http://www.wikidata.org/entity/Q34600'), ('cname', 'Kyoto')]\n",
      "[('burial', 'http://www.wikidata.org/entity/Q641'), ('bname', 'Venice'), ('city', 'http://www.wikidata.org/entity/Q641'), ('cname', 'Venice')]\n",
      "[('burial', 'http://www.wikidata.org/entity/Q208175'), ('bname', 'Novodevichy Cemetery'), ('city', 'http://www.wikidata.org/entity/Q649'), ('cname', 'Moscow')]\n",
      "[('burial', 'http://www.wikidata.org/entity/Q4793209'), ('bname', 'Armenian cemetery of Khojivanq'), ('city', 'http://www.wikidata.org/entity/Q994'), ('cname', 'Tbilisi')]\n",
      "[('burial', 'http://www.wikidata.org/entity/Q1187723'), ('bname', 'Protestant Cemetery, Rome'), ('city', 'http://www.wikidata.org/entity/Q220'), ('cname', 'Rome')]\n",
      "[('burial', 'http://www.wikidata.org/entity/Q2999'), ('bname', 'Würzburg'), ('city', 'http://www.wikidata.org/entity/Q2999'), ('cname', 'Würzburg')]\n",
      "[('burial', 'http://www.wikidata.org/entity/Q11088399'), ('bname', 'Brno Central Cemetery'), ('city', 'http://www.wikidata.org/entity/Q14960'), ('cname', 'Brno')]\n"
     ]
    },
    {
     "data": {
      "text/plain": [
       "25"
      ]
     },
     "execution_count": 25,
     "metadata": {},
     "output_type": "execute_result"
    }
   ],
   "source": [
    "#Q58\n",
    "#poets buried in a big city\n",
    "queryString = \"\"\"\n",
    "SELECT DISTINCT ?burial ?bname ?city ?cname\n",
    "WHERE{\n",
    "\n",
    "?s wdt:P106 wd:Q49757; #poet\n",
    "   wdt:P119 ?burial. #dead\n",
    "?burial wdt:P131* ?city.\n",
    "?city wdt:P31 wd:Q1549591.\n",
    "\n",
    "#Labels\n",
    "?burial <http://schema.org/name> ?bname .\n",
    "?city <http://schema.org/name> ?cname .\n",
    "}\n",
    "LIMIT 25\n",
    "\"\"\"\n",
    "\n",
    "print(\"Results\")\n",
    "run_query(queryString)"
   ]
  },
  {
   "cell_type": "markdown",
   "id": "28e4347f-ce0b-41bf-b1a5-48bb6961f27c",
   "metadata": {},
   "source": [
    "I am trying to find a more general definition of city using the entity \"big city\" found previously."
   ]
  },
  {
   "cell_type": "code",
   "execution_count": 26,
   "id": "cc8e679d-b813-4924-bd36-0c5473c6f7e5",
   "metadata": {},
   "outputs": [
    {
     "name": "stdout",
     "output_type": "stream",
     "text": [
      "Results\n",
      "Empty\n"
     ]
    },
    {
     "data": {
      "text/plain": [
       "0"
      ]
     },
     "execution_count": 26,
     "metadata": {},
     "output_type": "execute_result"
    }
   ],
   "source": [
    "#Q59\n",
    "#wd:Q1549591\n",
    "queryString = \"\"\"\n",
    "SELECT DISTINCT ?o ?oname\n",
    "WHERE{\n",
    "\n",
    "wd:Q1549591 wdt:P31 ?o.\n",
    "\n",
    "#Labels\n",
    "?o <http://schema.org/name> ?oname .\n",
    "}\n",
    "LIMIT 25\n",
    "\"\"\"\n",
    "\n",
    "print(\"Results\")\n",
    "run_query(queryString)"
   ]
  },
  {
   "cell_type": "code",
   "execution_count": 27,
   "id": "8bfca683-c5a7-4ed1-ab4d-9470b8a2bde3",
   "metadata": {},
   "outputs": [
    {
     "name": "stdout",
     "output_type": "stream",
     "text": [
      "Results\n",
      "[('o', 'http://www.wikidata.org/entity/Q1637706'), ('oname', 'million city')]\n",
      "[('o', 'http://www.wikidata.org/entity/Q3957'), ('oname', 'town')]\n",
      "[('o', 'http://www.wikidata.org/entity/Q515'), ('oname', 'city')]\n",
      "[('o', 'http://www.wikidata.org/entity/Q51706937'), ('oname', 'minimum population')]\n",
      "[('o', 'http://www.wikidata.org/entity/Q9823231'), ('oname', 'Category:Big cities')]\n"
     ]
    },
    {
     "data": {
      "text/plain": [
       "5"
      ]
     },
     "execution_count": 27,
     "metadata": {},
     "output_type": "execute_result"
    }
   ],
   "source": [
    "#Q60\n",
    "#wd:Q1549591\n",
    "queryString = \"\"\"\n",
    "SELECT DISTINCT ?o ?oname\n",
    "WHERE{\n",
    "\n",
    "wd:Q1549591 ?p ?o.\n",
    "\n",
    "#Labels\n",
    "?o <http://schema.org/name> ?oname .\n",
    "}\n",
    "LIMIT 25\n",
    "\"\"\"\n",
    "\n",
    "print(\"Results\")\n",
    "run_query(queryString)"
   ]
  },
  {
   "cell_type": "code",
   "execution_count": 28,
   "id": "9fbd3e15-5c2a-41d3-9ab5-632f7611ebe8",
   "metadata": {},
   "outputs": [
    {
     "name": "stdout",
     "output_type": "stream",
     "text": [
      "Results\n",
      "[('p', 'http://www.wikidata.org/prop/direct/P279'), ('pname', 'subclass of')]\n"
     ]
    },
    {
     "data": {
      "text/plain": [
       "1"
      ]
     },
     "execution_count": 28,
     "metadata": {},
     "output_type": "execute_result"
    }
   ],
   "source": [
    "#Q61\n",
    "#wd:Q1549591 + city\n",
    "queryString = \"\"\"\n",
    "SELECT DISTINCT ?p ?pname\n",
    "WHERE{\n",
    "\n",
    "wd:Q1549591 ?p wd:Q515.\n",
    "\n",
    "#Labels\n",
    "?p <http://schema.org/name> ?pname .\n",
    "}\n",
    "LIMIT 25\n",
    "\"\"\"\n",
    "\n",
    "print(\"Results\")\n",
    "run_query(queryString)"
   ]
  },
  {
   "cell_type": "markdown",
   "id": "bb4da5b9-6135-4c02-9a5c-aab8b4d9e4d0",
   "metadata": {},
   "source": [
    "Retrieve poets and the cities where they are buried using the pattern found above."
   ]
  },
  {
   "cell_type": "code",
   "execution_count": 29,
   "id": "44165519-40ad-40ff-b9cb-6955c58f460c",
   "metadata": {},
   "outputs": [
    {
     "name": "stdout",
     "output_type": "stream",
     "text": [
      "Results\n",
      "[('burial', 'http://www.wikidata.org/entity/Q19853853'), ('bname', 'the Tomb of Zheng Yong-xi'), ('city', 'http://www.wikidata.org/entity/Q249994'), ('cname', 'Hsinchu')]\n",
      "[('burial', 'http://www.wikidata.org/entity/Q722732'), ('bname', 'Litomyšl'), ('city', 'http://www.wikidata.org/entity/Q722732'), ('cname', 'Litomyšl')]\n",
      "[('burial', 'http://www.wikidata.org/entity/Q1358639'), ('bname', 'Westwood Village Memorial Park Cemetery'), ('city', 'http://www.wikidata.org/entity/Q65'), ('cname', 'Los Angeles')]\n",
      "[('burial', 'http://www.wikidata.org/entity/Q1508013'), ('bname', 'Jelgava Palace'), ('city', 'http://www.wikidata.org/entity/Q179830'), ('cname', 'Jelgava')]\n",
      "[('burial', 'http://www.wikidata.org/entity/Q168886'), ('bname', 'Powązki Cemetery'), ('city', 'http://www.wikidata.org/entity/Q270'), ('cname', 'Warsaw')]\n",
      "[('burial', 'http://www.wikidata.org/entity/Q2790054'), ('bname', 'Powązki Military Cemetery'), ('city', 'http://www.wikidata.org/entity/Q270'), ('cname', 'Warsaw')]\n",
      "[('burial', 'http://www.wikidata.org/entity/Q3033'), ('bname', 'Göttingen'), ('city', 'http://www.wikidata.org/entity/Q3033'), ('cname', 'Göttingen')]\n",
      "[('burial', 'http://www.wikidata.org/entity/Q470445'), ('bname', 'Prostějov'), ('city', 'http://www.wikidata.org/entity/Q470445'), ('cname', 'Prostějov')]\n",
      "[('burial', 'http://www.wikidata.org/entity/Q1627748'), ('bname', 'Hoppenlau Cemetery'), ('city', 'http://www.wikidata.org/entity/Q1022'), ('cname', 'Stuttgart')]\n",
      "[('burial', 'http://www.wikidata.org/entity/Q2661974'), ('bname', 'Olšany Cemetery'), ('city', 'http://www.wikidata.org/entity/Q1085'), ('cname', 'Prague')]\n",
      "[('burial', 'http://www.wikidata.org/entity/Q1545193'), ('bname', 'Grote Kerk'), ('city', 'http://www.wikidata.org/entity/Q9920'), ('cname', 'Haarlem')]\n",
      "[('burial', 'http://www.wikidata.org/entity/Q281859'), ('bname', 'Vagankovo Cemetery'), ('city', 'http://www.wikidata.org/entity/Q649'), ('cname', 'Moscow')]\n",
      "[('burial', 'http://www.wikidata.org/entity/Q1457437'), ('bname', 'Troyekurovskoye Cemetery'), ('city', 'http://www.wikidata.org/entity/Q649'), ('cname', 'Moscow')]\n",
      "[('burial', 'http://www.wikidata.org/entity/Q2972578'), ('bname', 'Waverley Cemetery'), ('city', 'http://www.wikidata.org/entity/Q3130'), ('cname', 'Sydney')]\n",
      "[('burial', 'http://www.wikidata.org/entity/Q1271094'), ('bname', 'Allegheny Cemetery'), ('city', 'http://www.wikidata.org/entity/Q1342'), ('cname', 'Pittsburgh')]\n",
      "[('burial', 'http://www.wikidata.org/entity/Q263432'), ('bname', 'Schaerbeek Cemetery'), ('city', 'http://www.wikidata.org/entity/Q240'), ('cname', 'Brussels Capital Region')]\n",
      "[('burial', 'http://www.wikidata.org/entity/Q438026'), ('bname', 'Old Jewish Cemetery'), ('city', 'http://www.wikidata.org/entity/Q1085'), ('cname', 'Prague')]\n",
      "[('burial', 'http://www.wikidata.org/entity/Q873449'), ('bname', 'Hauptfriedhof Karlsruhe'), ('city', 'http://www.wikidata.org/entity/Q1040'), ('cname', 'Karlsruhe')]\n",
      "[('burial', 'http://www.wikidata.org/entity/Q8343387'), ('bname', 'Civil Cemetery, Madrid'), ('city', 'http://www.wikidata.org/entity/Q2807'), ('cname', 'Madrid')]\n",
      "[('burial', 'http://www.wikidata.org/entity/Q2972454'), ('bname', 'Cimetière Saint-Gall de Strasbourg'), ('city', 'http://www.wikidata.org/entity/Q6602'), ('cname', 'Strasbourg')]\n",
      "[('burial', 'http://www.wikidata.org/entity/Q1085'), ('bname', 'Prague'), ('city', 'http://www.wikidata.org/entity/Q1085'), ('cname', 'Prague')]\n",
      "[('burial', 'http://www.wikidata.org/entity/Q31487'), ('bname', 'Kraków'), ('city', 'http://www.wikidata.org/entity/Q31487'), ('cname', 'Kraków')]\n",
      "[('burial', 'http://www.wikidata.org/entity/Q34600'), ('bname', 'Kyoto'), ('city', 'http://www.wikidata.org/entity/Q34600'), ('cname', 'Kyoto')]\n",
      "[('burial', 'http://www.wikidata.org/entity/Q641'), ('bname', 'Venice'), ('city', 'http://www.wikidata.org/entity/Q641'), ('cname', 'Venice')]\n",
      "[('burial', 'http://www.wikidata.org/entity/Q208175'), ('bname', 'Novodevichy Cemetery'), ('city', 'http://www.wikidata.org/entity/Q649'), ('cname', 'Moscow')]\n"
     ]
    },
    {
     "data": {
      "text/plain": [
       "25"
      ]
     },
     "execution_count": 29,
     "metadata": {},
     "output_type": "execute_result"
    }
   ],
   "source": [
    "#Q62\n",
    "#poets buried in a city\n",
    "queryString = \"\"\"\n",
    "SELECT DISTINCT ?burial ?bname ?city ?cname\n",
    "WHERE{\n",
    "\n",
    "?s wdt:P106 wd:Q49757; #poet\n",
    "   wdt:P119 ?burial. #dead\n",
    "?burial wdt:P131* ?city.  #found location\n",
    "?city wdt:P31 ?o.\n",
    "?o wdt:P279 wd:Q515.\n",
    "\n",
    "#Labels\n",
    "?burial <http://schema.org/name> ?bname .\n",
    "?city <http://schema.org/name> ?cname .\n",
    "}\n",
    "LIMIT 25\n",
    "\"\"\"\n",
    "\n",
    "print(\"Results\")\n",
    "run_query(queryString)"
   ]
  },
  {
   "cell_type": "code",
   "execution_count": 30,
   "id": "ecce9836-6ce1-4ae2-8cad-74c3fbe1ebbf",
   "metadata": {},
   "outputs": [
    {
     "name": "stdout",
     "output_type": "stream",
     "text": [
      "Results\n",
      "[('birth', 'http://www.wikidata.org/entity/Q752284'), ('bname', 'Joch')]\n",
      "[('birth', 'http://www.wikidata.org/entity/Q152027'), ('bname', 'Saint-Nazaire')]\n",
      "[('birth', 'http://www.wikidata.org/entity/Q15950541'), ('bname', \"Hôtel d'Antoine\")]\n",
      "[('birth', 'http://www.wikidata.org/entity/Q1331813'), ('bname', 'Lanty-sur-Aube')]\n",
      "[('birth', 'http://www.wikidata.org/entity/Q844680'), ('bname', 'Recey-sur-Ource')]\n",
      "[('birth', 'http://www.wikidata.org/entity/Q638656'), ('bname', 'Vaucresson')]\n",
      "[('birth', 'http://www.wikidata.org/entity/Q545015'), ('bname', 'Chaptuzat')]\n",
      "[('birth', 'http://www.wikidata.org/entity/Q1163139'), ('bname', 'Le Soler')]\n",
      "[('birth', 'http://www.wikidata.org/entity/Q737436'), ('bname', 'Chaumont-en-Vexin')]\n",
      "[('birth', 'http://www.wikidata.org/entity/Q989360'), ('bname', 'Nieul-sur-Mer')]\n",
      "[('birth', 'http://www.wikidata.org/entity/Q172455'), ('bname', 'Boulogne-Billancourt')]\n",
      "[('birth', 'http://www.wikidata.org/entity/Q184159'), ('bname', 'Niort')]\n",
      "[('birth', 'http://www.wikidata.org/entity/Q207622'), ('bname', 'Argentan')]\n",
      "[('birth', 'http://www.wikidata.org/entity/Q41876'), ('bname', 'Reims')]\n",
      "[('birth', 'http://www.wikidata.org/entity/Q209814'), ('bname', 'Guebwiller')]\n",
      "[('birth', 'http://www.wikidata.org/entity/Q38060'), ('bname', 'Gaul')]\n",
      "[('birth', 'http://www.wikidata.org/entity/Q16121'), ('bname', 'Beaune')]\n",
      "[('birth', 'http://www.wikidata.org/entity/Q163948'), ('bname', '10th arrondissement of Paris')]\n",
      "[('birth', 'http://www.wikidata.org/entity/Q191415'), ('bname', 'Asnières-sur-Seine')]\n",
      "[('birth', 'http://www.wikidata.org/entity/Q202368'), ('bname', 'Morlaix')]\n",
      "[('birth', 'http://www.wikidata.org/entity/Q3667188'), ('bname', 'Cherbourg')]\n",
      "[('birth', 'http://www.wikidata.org/entity/Q42168'), ('bname', 'Clermont-Ferrand')]\n",
      "[('birth', 'http://www.wikidata.org/entity/Q235382'), ('bname', 'Quimperlé')]\n",
      "[('birth', 'http://www.wikidata.org/entity/Q190118'), ('bname', 'La Roche-sur-Yon')]\n",
      "[('birth', 'http://www.wikidata.org/entity/Q192744'), ('bname', 'Limoux')]\n"
     ]
    },
    {
     "data": {
      "text/plain": [
       "25"
      ]
     },
     "execution_count": 30,
     "metadata": {},
     "output_type": "execute_result"
    }
   ],
   "source": [
    "#Q63\n",
    "#closer look to place of birth\n",
    "queryString = \"\"\"\n",
    "SELECT DISTINCT ?birth ?bname\n",
    "WHERE{\n",
    "\n",
    "?s wdt:P106 wd:Q49757; #poet\n",
    "   wdt:P19 ?birth.\n",
    "?birth wdt:P17 wd:Q142.\n",
    "\n",
    "#Labels\n",
    "?birth <http://schema.org/name> ?bname .\n",
    "}\n",
    "LIMIT 25\n",
    "\"\"\"\n",
    "\n",
    "print(\"Results\")\n",
    "run_query(queryString)"
   ]
  },
  {
   "cell_type": "markdown",
   "id": "f710609b-ee64-4985-a8be-6eda63659ddb",
   "metadata": {},
   "source": [
    "I am checking if P19 has always a city as object because I noticed that some poets have as place of birth  arrondissement of Paris instead of Paris."
   ]
  },
  {
   "cell_type": "code",
   "execution_count": 32,
   "id": "5084bd5f-b2f5-4e77-9e2a-9461aabadda0",
   "metadata": {},
   "outputs": [
    {
     "name": "stdout",
     "output_type": "stream",
     "text": [
      "Results\n",
      "[('birth', 'http://www.wikidata.org/entity/Q989360'), ('bname', 'Nieul-sur-Mer'), ('city', 'http://www.wikidata.org/entity/Q82185'), ('cname', 'La Rochelle')]\n",
      "[('birth', 'http://www.wikidata.org/entity/Q172455'), ('bname', 'Boulogne-Billancourt'), ('city', 'http://www.wikidata.org/entity/Q172455'), ('cname', 'Boulogne-Billancourt')]\n",
      "[('birth', 'http://www.wikidata.org/entity/Q41876'), ('bname', 'Reims'), ('city', 'http://www.wikidata.org/entity/Q41876'), ('cname', 'Reims')]\n",
      "[('birth', 'http://www.wikidata.org/entity/Q42168'), ('bname', 'Clermont-Ferrand'), ('city', 'http://www.wikidata.org/entity/Q42168'), ('cname', 'Clermont-Ferrand')]\n",
      "[('birth', 'http://www.wikidata.org/entity/Q12191'), ('bname', 'Nantes'), ('city', 'http://www.wikidata.org/entity/Q12191'), ('cname', 'Nantes')]\n",
      "[('birth', 'http://www.wikidata.org/entity/Q15950541'), ('bname', \"Hôtel d'Antoine\"), ('city', 'http://www.wikidata.org/entity/Q47465'), ('cname', 'Aix-en-Provence')]\n",
      "[('birth', 'http://www.wikidata.org/entity/Q160506'), ('bname', 'Saint-Denis'), ('city', 'http://www.wikidata.org/entity/Q160506'), ('cname', 'Saint-Denis')]\n",
      "[('birth', 'http://www.wikidata.org/entity/Q23482'), ('bname', 'Marseille'), ('city', 'http://www.wikidata.org/entity/Q23482'), ('cname', 'Marseille')]\n",
      "[('birth', 'http://www.wikidata.org/entity/Q30974'), ('bname', 'Rouen'), ('city', 'http://www.wikidata.org/entity/Q30974'), ('cname', 'Rouen')]\n",
      "[('birth', 'http://www.wikidata.org/entity/Q33959'), ('bname', 'Nice'), ('city', 'http://www.wikidata.org/entity/Q33959'), ('cname', 'Nice')]\n",
      "[('birth', 'http://www.wikidata.org/entity/Q37776'), ('bname', 'Besançon'), ('city', 'http://www.wikidata.org/entity/Q37776'), ('cname', 'Besançon')]\n",
      "[('birth', 'http://www.wikidata.org/entity/Q6441'), ('bname', 'Montpellier'), ('city', 'http://www.wikidata.org/entity/Q6441'), ('cname', 'Montpellier')]\n",
      "[('birth', 'http://www.wikidata.org/entity/Q647'), ('bname', 'Rennes'), ('city', 'http://www.wikidata.org/entity/Q647'), ('cname', 'Rennes')]\n",
      "[('birth', 'http://www.wikidata.org/entity/Q648'), ('bname', 'Lille'), ('city', 'http://www.wikidata.org/entity/Q648'), ('cname', 'Lille')]\n",
      "[('birth', 'http://www.wikidata.org/entity/Q6602'), ('bname', 'Strasbourg'), ('city', 'http://www.wikidata.org/entity/Q6602'), ('cname', 'Strasbourg')]\n",
      "[('birth', 'http://www.wikidata.org/entity/Q42807'), ('bname', 'Nîmes'), ('city', 'http://www.wikidata.org/entity/Q42807'), ('cname', 'Nîmes')]\n",
      "[('birth', 'http://www.wikidata.org/entity/Q47045'), ('bname', 'Saint-Denis'), ('city', 'http://www.wikidata.org/entity/Q47045'), ('cname', 'Saint-Denis')]\n",
      "[('birth', 'http://www.wikidata.org/entity/Q6548'), ('bname', 'Orléans'), ('city', 'http://www.wikidata.org/entity/Q6548'), ('cname', 'Orléans')]\n",
      "[('birth', 'http://www.wikidata.org/entity/Q7880'), ('bname', 'Toulouse'), ('city', 'http://www.wikidata.org/entity/Q7880'), ('cname', 'Toulouse')]\n",
      "[('birth', 'http://www.wikidata.org/entity/Q1479'), ('bname', 'Bordeaux'), ('city', 'http://www.wikidata.org/entity/Q1479'), ('cname', 'Bordeaux')]\n",
      "[('birth', 'http://www.wikidata.org/entity/Q42810'), ('bname', 'Le Havre'), ('city', 'http://www.wikidata.org/entity/Q42810'), ('cname', 'Le Havre')]\n",
      "[('birth', 'http://www.wikidata.org/entity/Q1476'), ('bname', 'Le Mans'), ('city', 'http://www.wikidata.org/entity/Q1476'), ('cname', 'Le Mans')]\n",
      "[('birth', 'http://www.wikidata.org/entity/Q47465'), ('bname', 'Aix-en-Provence'), ('city', 'http://www.wikidata.org/entity/Q47465'), ('cname', 'Aix-en-Provence')]\n",
      "[('birth', 'http://www.wikidata.org/entity/Q12193'), ('bname', 'Brest'), ('city', 'http://www.wikidata.org/entity/Q12193'), ('cname', 'Brest')]\n",
      "[('birth', 'http://www.wikidata.org/entity/Q288'), ('bname', 'Tours'), ('city', 'http://www.wikidata.org/entity/Q288'), ('cname', 'Tours')]\n"
     ]
    },
    {
     "data": {
      "text/plain": [
       "25"
      ]
     },
     "execution_count": 32,
     "metadata": {},
     "output_type": "execute_result"
    }
   ],
   "source": [
    "#Q64\n",
    "#check if P19 retrieve a city or something else (for example above we have arrondissement of Paris instead of Paris)\n",
    "queryString = \"\"\"\n",
    "SELECT DISTINCT ?birth ?bname ?city ?cname\n",
    "WHERE{\n",
    "\n",
    "?s wdt:P106 wd:Q49757; #poet\n",
    "   wdt:P19 ?birth.\n",
    "?birth wdt:P17 wd:Q142.\n",
    "\n",
    "?birth wdt:P131* ?city.  #found location\n",
    "?city wdt:P31 ?o.\n",
    "?o wdt:P279 wd:Q515.\n",
    "\n",
    "#Labels\n",
    "?birth <http://schema.org/name> ?bname .\n",
    "?city <http://schema.org/name> ?cname .\n",
    "}\n",
    "LIMIT 25\n",
    "\"\"\"\n",
    "\n",
    "print(\"Results\")\n",
    "run_query(queryString)"
   ]
  },
  {
   "cell_type": "markdown",
   "id": "8a1b7690-a473-4523-94a1-60431657054c",
   "metadata": {},
   "source": [
    "Retrieve german or french poets who were born and dead in the same city."
   ]
  },
  {
   "cell_type": "code",
   "execution_count": 33,
   "id": "1eadf99c-1215-43f2-9a41-6dbfcb4c8e96",
   "metadata": {},
   "outputs": [
    {
     "name": "stdout",
     "output_type": "stream",
     "text": [
      "Results\n",
      "[('sname', 'Joseph Victor von Scheffel'), ('bname', 'Karlsruhe'), ('cname', 'Karlsruhe')]\n",
      "[('sname', 'Johann Georg Daniel Arnold'), ('bname', 'Strasbourg'), ('cname', 'Strasbourg')]\n",
      "[('sname', 'Ludwig Rubiner'), ('bname', 'Berlin'), ('cname', 'Berlin')]\n",
      "[('sname', 'Hanns Heinz Ewers'), ('bname', 'Düsseldorf'), ('cname', 'Düsseldorf')]\n",
      "[('sname', 'Otto Ernst'), ('bname', 'Ottensen'), ('cname', 'Hamburg')]\n",
      "[('sname', 'Hans Sachs'), ('bname', 'Nuremberg'), ('cname', 'Nuremberg')]\n",
      "[('sname', 'Roger Gilbert-Lecomte'), ('bname', 'Reims'), ('cname', 'Reims')]\n",
      "[('sname', 'Sophie Hoechstetter'), ('bname', 'Pappenheim'), ('cname', 'Pappenheim')]\n",
      "[('sname', 'Wilhelm Müller'), ('bname', 'Dessau'), ('cname', 'Dessau-Roßlau')]\n",
      "[('sname', 'Wilhelm Hauff'), ('bname', 'Stuttgart'), ('cname', 'Stuttgart')]\n",
      "[('sname', 'Édouard Turquety'), ('bname', 'Rennes'), ('cname', 'Rennes')]\n",
      "[('sname', 'August Hermann Niemeyer'), ('bname', 'Halle (Saale)'), ('cname', 'Halle (Saale)')]\n",
      "[('sname', 'Martin Heidegger'), ('bname', 'Messkirch'), ('cname', 'Messkirch')]\n",
      "[('sname', 'Ernest Louis, Grand Duke of Hesse'), ('bname', 'Darmstadt'), ('cname', 'Darmstadt')]\n",
      "[('sname', 'Wolfgang Borchert'), ('bname', 'Hamburg'), ('cname', 'Hamburg')]\n",
      "[('sname', 'Friedrich Nietzsche'), ('bname', 'Röcken'), ('cname', 'Lützen')]\n",
      "[('sname', 'Ehrenfried Stoeber'), ('bname', 'Strasbourg'), ('cname', 'Strasbourg')]\n",
      "[('sname', 'Auguste Magdalene of Hessen-Darmstadt'), ('bname', 'Darmstadt'), ('cname', 'Darmstadt')]\n",
      "[('sname', 'Kurt Schwitters'), ('bname', 'Hanover'), ('cname', 'Hanover')]\n",
      "[('sname', 'Alexandre Desrousseaux'), ('bname', 'Lille'), ('cname', 'Lille')]\n",
      "[('sname', 'Wolfgang Franz von Kobell'), ('bname', 'Munich'), ('cname', 'Munich')]\n",
      "[('sname', 'Gustav Schwab'), ('bname', 'Stuttgart'), ('cname', 'Stuttgart')]\n",
      "[('sname', 'Eugen Roth'), ('bname', 'Munich'), ('cname', 'Munich')]\n",
      "[('sname', 'Jean Baptista von Schweitzer'), ('bname', 'Frankfurt am Main'), ('cname', 'Frankfurt am Main')]\n",
      "[('sname', 'René of Anjou'), ('bname', 'Angers'), ('cname', 'Angers')]\n"
     ]
    },
    {
     "data": {
      "text/plain": [
       "25"
      ]
     },
     "execution_count": 33,
     "metadata": {},
     "output_type": "execute_result"
    }
   ],
   "source": [
    "#TASK 4.1\n",
    "#compare city of birth and dead in france and germany\n",
    "queryString = \"\"\"\n",
    "SELECT DISTINCT ?sname ?bname ?cname\n",
    "WHERE{\n",
    "\n",
    "?s wdt:P106 wd:Q49757; #poet\n",
    "   wdt:P19 ?birth;\n",
    "   wdt:P119 ?burial.\n",
    "\n",
    "?birth wdt:P17 ?country.\n",
    "\n",
    "?birth wdt:P131* ?city.  #found location\n",
    "?city wdt:P31 ?o.\n",
    "?o wdt:P279 wd:Q515.\n",
    "\n",
    "?burial wdt:P131* ?bcity.  #found location\n",
    "?bcity wdt:P31 ?bo.\n",
    "?bo wdt:P279 wd:Q515.\n",
    "\n",
    "FILTER( ( (?country=wd:Q142)||(?country=wd:Q183) ) && (?city=?bcity) )\n",
    "#Labels\n",
    "?s <http://schema.org/name> ?sname .\n",
    "?birth <http://schema.org/name> ?bname .\n",
    "?city <http://schema.org/name> ?cname .\n",
    "}\n",
    "LIMIT 25\n",
    "\"\"\"\n",
    "\n",
    "print(\"Results\")\n",
    "run_query(queryString)"
   ]
  },
  {
   "cell_type": "markdown",
   "id": "55ca521a-964c-4b12-a1ba-645a2e2e51ec",
   "metadata": {},
   "source": [
    "Count how many german or french poets were born and dead in the same city."
   ]
  },
  {
   "cell_type": "code",
   "execution_count": 35,
   "id": "e21fa57f-ffe5-4b82-b28b-fc5a1848b910",
   "metadata": {},
   "outputs": [
    {
     "name": "stdout",
     "output_type": "stream",
     "text": [
      "Results\n",
      "[('Poets', '57')]\n"
     ]
    },
    {
     "data": {
      "text/plain": [
       "1"
      ]
     },
     "execution_count": 35,
     "metadata": {},
     "output_type": "execute_result"
    }
   ],
   "source": [
    "#Q65\n",
    "#as above but with count\n",
    "queryString = \"\"\"\n",
    "SELECT (COUNT (DISTINCT ?s) AS ?Poets)\n",
    "WHERE{\n",
    "\n",
    "?s wdt:P106 wd:Q49757; #poet\n",
    "   wdt:P19 ?birth;\n",
    "   wdt:P119 ?burial.\n",
    "\n",
    "?birth wdt:P17 ?country.\n",
    "\n",
    "?birth wdt:P131* ?city.  #found location\n",
    "?city wdt:P31 ?o.\n",
    "?o wdt:P279 wd:Q515.\n",
    "\n",
    "?burial wdt:P131* ?bcity.  #found location\n",
    "?bcity wdt:P31 ?bo.\n",
    "?bo wdt:P279 wd:Q515.\n",
    "\n",
    "FILTER( ( (?country=wd:Q142)||(?country=wd:Q183) ) && (?city=?bcity) )\n",
    "}\n",
    "\"\"\"\n",
    "\n",
    "print(\"Results\")\n",
    "run_query(queryString)"
   ]
  },
  {
   "cell_type": "code",
   "execution_count": 36,
   "id": "f518cb52-3444-4779-a7f2-9cd3be374b44",
   "metadata": {},
   "outputs": [
    {
     "name": "stdout",
     "output_type": "stream",
     "text": [
      "Results\n",
      "The operation failed timed out\n"
     ]
    }
   ],
   "source": [
    "#Q66\n",
    "#57 seems low, delete a constraint on birth\n",
    "queryString = \"\"\"\n",
    "SELECT (COUNT (DISTINCT ?s) AS ?Poets)\n",
    "WHERE{\n",
    "\n",
    "?s wdt:P106 wd:Q49757; #poet\n",
    "   wdt:P19 ?birth;\n",
    "   wdt:P119 ?burial.\n",
    "\n",
    "?birth wdt:P17 ?country.\n",
    "\n",
    "?burial wdt:P131* ?bcity.  #found location\n",
    "?bcity wdt:P31 ?bo.\n",
    "?bo wdt:P279 wd:Q515.\n",
    "\n",
    "FILTER( ( (?country=wd:Q142)||(?country=wd:Q183) ) && (?birth=?bcity) )\n",
    "}\n",
    "\"\"\"\n",
    "\n",
    "print(\"Results\")\n",
    "run_query(queryString)"
   ]
  },
  {
   "cell_type": "markdown",
   "id": "9ca768aa-c636-4574-b3e3-a52fc827a31b",
   "metadata": {},
   "source": [
    "<h3> TASK 4.1 ENDS HERE </h3>\n",
    "I found the graph pattern to retrieve a city where a place of burial is located. This BGP made me able to see how many german and french poets were\n",
    "born and dead in the same city. "
   ]
  },
  {
   "cell_type": "markdown",
   "id": "ee637ef8-0eae-4f6c-a1c7-b7c4c4020f4a",
   "metadata": {},
   "source": [
    "<h3> TASK 4.2 STARTS HERE </h3>\n",
    "Which cities host the place of birth of the larger number of poets or writers across the two countries?"
   ]
  },
  {
   "cell_type": "markdown",
   "id": "02a3d2bd-3098-4054-9f17-e733fe7fa9f1",
   "metadata": {},
   "source": [
    "Retrieve german and french cities ordered by the number of poets that were born there."
   ]
  },
  {
   "cell_type": "code",
   "execution_count": 4,
   "id": "15cba0a4-259f-45b6-8840-b0caaaa33e38",
   "metadata": {},
   "outputs": [
    {
     "name": "stdout",
     "output_type": "stream",
     "text": [
      "Results\n",
      "[('city', 'http://www.wikidata.org/entity/Q64'), ('HowMany', '167')]\n",
      "[('city', 'http://www.wikidata.org/entity/Q23482'), ('HowMany', '86')]\n",
      "[('city', 'http://www.wikidata.org/entity/Q1055'), ('HowMany', '75')]\n",
      "[('city', 'http://www.wikidata.org/entity/Q1726'), ('HowMany', '64')]\n",
      "[('city', 'http://www.wikidata.org/entity/Q1479'), ('HowMany', '53')]\n",
      "[('city', 'http://www.wikidata.org/entity/Q30974'), ('HowMany', '49')]\n",
      "[('city', 'http://www.wikidata.org/entity/Q7880'), ('HowMany', '43')]\n",
      "[('city', 'http://www.wikidata.org/entity/Q1022'), ('HowMany', '41')]\n",
      "[('city', 'http://www.wikidata.org/entity/Q6602'), ('HowMany', '41')]\n",
      "[('city', 'http://www.wikidata.org/entity/Q365'), ('HowMany', '40')]\n",
      "[('city', 'http://www.wikidata.org/entity/Q1731'), ('HowMany', '38')]\n",
      "[('city', 'http://www.wikidata.org/entity/Q1794'), ('HowMany', '38')]\n",
      "[('city', 'http://www.wikidata.org/entity/Q42807'), ('HowMany', '34')]\n",
      "[('city', 'http://www.wikidata.org/entity/Q2079'), ('HowMany', '33')]\n",
      "[('city', 'http://www.wikidata.org/entity/Q2090'), ('HowMany', '33')]\n",
      "[('city', 'http://www.wikidata.org/entity/Q1718'), ('HowMany', '33')]\n",
      "[('city', 'http://www.wikidata.org/entity/Q12191'), ('HowMany', '32')]\n",
      "[('city', 'http://www.wikidata.org/entity/Q41185'), ('HowMany', '31')]\n",
      "[('city', 'http://www.wikidata.org/entity/Q648'), ('HowMany', '25')]\n",
      "[('city', 'http://www.wikidata.org/entity/Q33959'), ('HowMany', '22')]\n",
      "[('city', 'http://www.wikidata.org/entity/Q1040'), ('HowMany', '22')]\n",
      "[('city', 'http://www.wikidata.org/entity/Q38380'), ('HowMany', '21')]\n",
      "[('city', 'http://www.wikidata.org/entity/Q6441'), ('HowMany', '21')]\n",
      "[('city', 'http://www.wikidata.org/entity/Q1209'), ('HowMany', '20')]\n",
      "[('city', 'http://www.wikidata.org/entity/Q288'), ('HowMany', '19')]\n"
     ]
    },
    {
     "data": {
      "text/plain": [
       "25"
      ]
     },
     "execution_count": 4,
     "metadata": {},
     "output_type": "execute_result"
    }
   ],
   "source": [
    "#Q67\n",
    "#try count on poets\n",
    "queryString = \"\"\"\n",
    "SELECT ?city (COUNT (DISTINCT ?s) AS ?HowMany)\n",
    "WHERE{\n",
    "\n",
    "?s wdt:P106 wd:Q49757; #poet\n",
    "   wdt:P19 ?birth.\n",
    "   \n",
    "?birth wdt:P17 ?country.\n",
    "\n",
    "?birth wdt:P131* ?city.  #found location\n",
    "?city wdt:P31 ?o.\n",
    "?o wdt:P279 wd:Q515.\n",
    "\n",
    "FILTER( (?country=wd:Q142)||(?country=wd:Q183) )\n",
    "}\n",
    "GROUP BY (?city)\n",
    "ORDER BY DESC(?HowMany)\n",
    "LIMIT 25\n",
    "\"\"\"\n",
    "\n",
    "print(\"Results\")\n",
    "run_query(queryString)"
   ]
  },
  {
   "cell_type": "markdown",
   "id": "5ab3a496-f3b0-4b8d-9106-8ab57ca23489",
   "metadata": {},
   "source": [
    "Retrieve german and french cities ordered by the number of poets and writers that were born there."
   ]
  },
  {
   "cell_type": "code",
   "execution_count": 5,
   "id": "db626150-8c55-47f1-bad1-46f4005fd2ee",
   "metadata": {},
   "outputs": [
    {
     "name": "stdout",
     "output_type": "stream",
     "text": [
      "Results\n",
      "[('city', 'http://www.wikidata.org/entity/Q64'), ('HowMany', '2028')]\n",
      "[('city', 'http://www.wikidata.org/entity/Q1055'), ('HowMany', '941')]\n",
      "[('city', 'http://www.wikidata.org/entity/Q1726'), ('HowMany', '783')]\n",
      "[('city', 'http://www.wikidata.org/entity/Q2079'), ('HowMany', '466')]\n",
      "[('city', 'http://www.wikidata.org/entity/Q365'), ('HowMany', '466')]\n",
      "[('city', 'http://www.wikidata.org/entity/Q1794'), ('HowMany', '432')]\n",
      "[('city', 'http://www.wikidata.org/entity/Q1022'), ('HowMany', '396')]\n",
      "[('city', 'http://www.wikidata.org/entity/Q1731'), ('HowMany', '386')]\n",
      "[('city', 'http://www.wikidata.org/entity/Q1715'), ('HowMany', '314')]\n",
      "[('city', 'http://www.wikidata.org/entity/Q1209'), ('HowMany', '280')]\n",
      "[('city', 'http://www.wikidata.org/entity/Q23482'), ('HowMany', '262')]\n",
      "[('city', 'http://www.wikidata.org/entity/Q1718'), ('HowMany', '261')]\n",
      "[('city', 'http://www.wikidata.org/entity/Q2090'), ('HowMany', '233')]\n",
      "[('city', 'http://www.wikidata.org/entity/Q2107'), ('HowMany', '194')]\n",
      "[('city', 'http://www.wikidata.org/entity/Q586'), ('HowMany', '193')]\n",
      "[('city', 'http://www.wikidata.org/entity/Q2066'), ('HowMany', '189')]\n",
      "[('city', 'http://www.wikidata.org/entity/Q6602'), ('HowMany', '184')]\n",
      "[('city', 'http://www.wikidata.org/entity/Q1479'), ('HowMany', '178')]\n",
      "[('city', 'http://www.wikidata.org/entity/Q1733'), ('HowMany', '167')]\n",
      "[('city', 'http://www.wikidata.org/entity/Q1040'), ('HowMany', '162')]\n",
      "[('city', 'http://www.wikidata.org/entity/Q2773'), ('HowMany', '157')]\n",
      "[('city', 'http://www.wikidata.org/entity/Q24879'), ('HowMany', '152')]\n",
      "[('city', 'http://www.wikidata.org/entity/Q2814'), ('HowMany', '151')]\n",
      "[('city', 'http://www.wikidata.org/entity/Q2843'), ('HowMany', '147')]\n",
      "[('city', 'http://www.wikidata.org/entity/Q2865'), ('HowMany', '144')]\n"
     ]
    },
    {
     "data": {
      "text/plain": [
       "25"
      ]
     },
     "execution_count": 5,
     "metadata": {},
     "output_type": "execute_result"
    }
   ],
   "source": [
    "#Q68\n",
    "queryString = \"\"\"\n",
    "SELECT ?city (COUNT (DISTINCT ?s) AS ?HowMany)\n",
    "WHERE{\n",
    "\n",
    "?s wdt:P106 ?job; \n",
    "   wdt:P19 ?birth.\n",
    "   \n",
    "?birth wdt:P17 ?country.\n",
    "\n",
    "?birth wdt:P131* ?city.  #found location\n",
    "?city wdt:P31 ?o.\n",
    "?o wdt:P279 wd:Q515.\n",
    "\n",
    "FILTER( ( (?country=wd:Q142)||(?country=wd:Q183) ) && ( (?job=wd:Q49757) || (?job=wd:Q36180) ) )\n",
    "}\n",
    "GROUP BY (?city)\n",
    "ORDER BY DESC(?HowMany)\n",
    "LIMIT 25\n",
    "\"\"\"\n",
    "\n",
    "print(\"Results\")\n",
    "run_query(queryString)"
   ]
  },
  {
   "cell_type": "code",
   "execution_count": 3,
   "id": "ed0ea35a-73a5-4f84-85b6-a6f615d675c9",
   "metadata": {},
   "outputs": [
    {
     "name": "stdout",
     "output_type": "stream",
     "text": [
      "Results\n",
      "[('city', 'http://www.wikidata.org/entity/Q64'), ('cname', 'Berlin'), ('HowMany', '2028')]\n",
      "[('city', 'http://www.wikidata.org/entity/Q1055'), ('cname', 'Hamburg'), ('HowMany', '941')]\n",
      "[('city', 'http://www.wikidata.org/entity/Q1726'), ('cname', 'Munich'), ('HowMany', '783')]\n",
      "[('city', 'http://www.wikidata.org/entity/Q2079'), ('cname', 'Leipzig'), ('HowMany', '466')]\n",
      "[('city', 'http://www.wikidata.org/entity/Q365'), ('cname', 'Cologne'), ('HowMany', '466')]\n",
      "[('city', 'http://www.wikidata.org/entity/Q1794'), ('cname', 'Frankfurt am Main'), ('HowMany', '432')]\n",
      "[('city', 'http://www.wikidata.org/entity/Q1022'), ('cname', 'Stuttgart'), ('HowMany', '396')]\n",
      "[('city', 'http://www.wikidata.org/entity/Q1731'), ('cname', 'Dresden'), ('HowMany', '386')]\n",
      "[('city', 'http://www.wikidata.org/entity/Q1715'), ('cname', 'Hanover'), ('HowMany', '314')]\n",
      "[('city', 'http://www.wikidata.org/entity/Q1209'), ('cname', 'Free Hanseatic City of Bremen'), ('HowMany', '280')]\n",
      "[('city', 'http://www.wikidata.org/entity/Q23482'), ('cname', 'Marseille'), ('HowMany', '262')]\n",
      "[('city', 'http://www.wikidata.org/entity/Q1718'), ('cname', 'Düsseldorf'), ('HowMany', '261')]\n",
      "[('city', 'http://www.wikidata.org/entity/Q2090'), ('cname', 'Nuremberg'), ('HowMany', '233')]\n",
      "[('city', 'http://www.wikidata.org/entity/Q2107'), ('cname', 'Wuppertal'), ('HowMany', '194')]\n",
      "[('city', 'http://www.wikidata.org/entity/Q586'), ('cname', 'Bonn'), ('HowMany', '193')]\n",
      "[('city', 'http://www.wikidata.org/entity/Q2066'), ('cname', 'Essen'), ('HowMany', '189')]\n",
      "[('city', 'http://www.wikidata.org/entity/Q6602'), ('cname', 'Strasbourg'), ('HowMany', '184')]\n",
      "[('city', 'http://www.wikidata.org/entity/Q1479'), ('cname', 'Bordeaux'), ('HowMany', '178')]\n",
      "[('city', 'http://www.wikidata.org/entity/Q1733'), ('cname', 'Magdeburg'), ('HowMany', '167')]\n",
      "[('city', 'http://www.wikidata.org/entity/Q1040'), ('cname', 'Karlsruhe'), ('HowMany', '162')]\n",
      "[('city', 'http://www.wikidata.org/entity/Q2773'), ('cname', 'Brunswick'), ('HowMany', '157')]\n",
      "[('city', 'http://www.wikidata.org/entity/Q24879'), ('cname', 'Bremen'), ('HowMany', '152')]\n",
      "[('city', 'http://www.wikidata.org/entity/Q2814'), ('cname', 'Halle (Saale)'), ('HowMany', '151')]\n",
      "[('city', 'http://www.wikidata.org/entity/Q2843'), ('cname', 'Lübeck'), ('HowMany', '147')]\n",
      "[('city', 'http://www.wikidata.org/entity/Q2865'), ('cname', 'Kassel'), ('HowMany', '144')]\n"
     ]
    },
    {
     "data": {
      "text/plain": [
       "25"
      ]
     },
     "execution_count": 3,
     "metadata": {},
     "output_type": "execute_result"
    }
   ],
   "source": [
    "#TASK 4.2:\n",
    "queryString = \"\"\"\n",
    "SELECT ?city ?cname ?HowMany WHERE\n",
    "{\n",
    "{\n",
    "SELECT ?city (COUNT (DISTINCT ?s) AS ?HowMany)\n",
    "WHERE{\n",
    "\n",
    "?s wdt:P106 ?job; \n",
    "   wdt:P19 ?birth.\n",
    "   \n",
    "?birth wdt:P17 ?country.\n",
    "\n",
    "?birth wdt:P131* ?city.  #found location\n",
    "?city wdt:P31 ?o.\n",
    "?o wdt:P279 wd:Q515.\n",
    "\n",
    "FILTER( ( (?country=wd:Q142)||(?country=wd:Q183) ) && ( (?job=wd:Q49757) || (?job=wd:Q36180) ) )\n",
    "}\n",
    "GROUP BY (?city)\n",
    "ORDER BY DESC(?HowMany)\n",
    "LIMIT 25\n",
    "}\n",
    "#Labels\n",
    "?city <http://schema.org/name> ?cname .\n",
    "}\n",
    "ORDER BY DESC(?HowMany)\n",
    "\"\"\"\n",
    "\n",
    "print(\"Results\")\n",
    "run_query(queryString)"
   ]
  },
  {
   "cell_type": "markdown",
   "id": "7eaf833d-5125-46ae-b1e2-32ca638d32d1",
   "metadata": {},
   "source": [
    "<h3> TASK 4.2 ENDS HERE </h3>\n",
    "In the previous query I orderder german or french cities by the number of poets and writers born there. Most of them are born in\n",
    "german cities such as Berlin, Hamburg and Munich"
   ]
  },
  {
   "cell_type": "markdown",
   "id": "2129c417-9b2b-4e7d-a57d-e45d68fa5daa",
   "metadata": {},
   "source": [
    "<h3> TASK 4.3 STARTS HERE </h3>\n",
    "4.3 What are the top 3 cities in each country that you could visit? Based on what criteria?"
   ]
  },
  {
   "cell_type": "markdown",
   "id": "d3940d65-a816-4ae8-b1ee-70cf7b0f6eaa",
   "metadata": {},
   "source": [
    "Let's have a closer look to poets related to Berlin"
   ]
  },
  {
   "cell_type": "code",
   "execution_count": 6,
   "id": "31012472-d485-4692-b5a8-670a00be51f7",
   "metadata": {},
   "outputs": [
    {
     "name": "stdout",
     "output_type": "stream",
     "text": [
      "Results\n",
      "[('s', 'http://www.wikidata.org/entity/Q1874926'), ('sname', 'Ludwig Rubiner')]\n",
      "[('s', 'http://www.wikidata.org/entity/Q72568'), ('sname', 'Alfred Lichtenstein')]\n",
      "[('s', 'http://www.wikidata.org/entity/Q57386'), ('sname', 'Kurt Tucholsky')]\n",
      "[('s', 'http://www.wikidata.org/entity/Q88302'), ('sname', 'Karin Kiwus')]\n",
      "[('s', 'http://www.wikidata.org/entity/Q90577'), ('sname', 'Christa Reinig')]\n",
      "[('s', 'http://www.wikidata.org/entity/Q67815'), ('sname', 'Helmina von Chézy')]\n",
      "[('s', 'http://www.wikidata.org/entity/Q110163'), ('sname', 'Carl Blum')]\n",
      "[('s', 'http://www.wikidata.org/entity/Q70435'), ('sname', 'Ludwig Robert')]\n",
      "[('s', 'http://www.wikidata.org/entity/Q76487'), ('sname', 'Paul Heyse')]\n",
      "[('s', 'http://www.wikidata.org/entity/Q76664'), ('sname', 'Jakob van Hoddis')]\n",
      "[('s', 'http://www.wikidata.org/entity/Q77933'), ('sname', 'Caroline von Briest')]\n",
      "[('s', 'http://www.wikidata.org/entity/Q85155'), ('sname', 'Ferdinand Avenarius')]\n",
      "[('s', 'http://www.wikidata.org/entity/Q103211'), ('sname', 'Henriette Hardenberg')]\n",
      "[('s', 'http://www.wikidata.org/entity/Q104666'), ('sname', 'Esther von Kirchbach')]\n",
      "[('s', 'http://www.wikidata.org/entity/Q98943'), ('sname', 'Adalbert von Hanstein')]\n",
      "[('s', 'http://www.wikidata.org/entity/Q2177665'), ('sname', 'Ruth Landshoff')]\n",
      "[('s', 'http://www.wikidata.org/entity/Q70988'), ('sname', 'Ludwig Achim von Arnim')]\n",
      "[('s', 'http://www.wikidata.org/entity/Q1635911'), ('sname', 'Hugo von Blomberg')]\n",
      "[('s', 'http://www.wikidata.org/entity/Q57239'), ('sname', 'Ludwig Tieck')]\n",
      "[('s', 'http://www.wikidata.org/entity/Q2991516'), ('sname', 'Andrea Hollander Budy')]\n",
      "[('s', 'http://www.wikidata.org/entity/Q6136734'), ('sname', 'James J. Metcalfe')]\n",
      "[('s', 'http://www.wikidata.org/entity/Q64400'), ('sname', 'Günter Kunert')]\n",
      "[('s', 'http://www.wikidata.org/entity/Q16859280'), ('sname', 'Johann Christian Cuno')]\n",
      "[('s', 'http://www.wikidata.org/entity/Q21660249'), ('sname', 'Samuel Friedrich Lucas von Eckardt')]\n",
      "[('s', 'http://www.wikidata.org/entity/Q215353'), ('sname', 'Wilhelm Wackernagel')]\n"
     ]
    },
    {
     "data": {
      "text/plain": [
       "25"
      ]
     },
     "execution_count": 6,
     "metadata": {},
     "output_type": "execute_result"
    }
   ],
   "source": [
    "#Q69\n",
    "#let's have a closer look to poets related to Berlin\n",
    "queryString = \"\"\"\n",
    "SELECT DISTINCT ?s ?sname\n",
    "WHERE{\n",
    "\n",
    "?s wdt:P106 wd:Q49757; #poet\n",
    "   wdt:P19 ?birth.\n",
    "\n",
    "?birth wdt:P131* ?city.  #found location\n",
    "?city wdt:P31 ?o.\n",
    "?o wdt:P279 wd:Q515.\n",
    "\n",
    "FILTER(?city=wd:Q64)\n",
    "#Labels\n",
    "?s <http://schema.org/name> ?sname .\n",
    "\n",
    "}\n",
    "LIMIT 25\n",
    "\"\"\"\n",
    "\n",
    "print(\"Results\")\n",
    "run_query(queryString)"
   ]
  },
  {
   "cell_type": "code",
   "execution_count": 9,
   "id": "887d9a6c-2832-4006-a7a2-4b097b151979",
   "metadata": {},
   "outputs": [
    {
     "name": "stdout",
     "output_type": "stream",
     "text": [
      "Results\n",
      "[('p', 'http://www.wikidata.org/prop/direct/P7947'), ('pname', 'WeChangEd ID')]\n",
      "[('p', 'http://www.wikidata.org/prop/direct/P9129'), ('pname', 'Data Collection of the Hungarian Peerage ID')]\n",
      "[('p', 'http://www.wikidata.org/prop/direct/P1005'), ('pname', 'Portuguese National Library ID')]\n",
      "[('p', 'http://www.wikidata.org/prop/direct/P1006'), ('pname', 'Nationale Thesaurus voor Auteurs ID')]\n",
      "[('p', 'http://www.wikidata.org/prop/direct/P101'), ('pname', 'field of work')]\n",
      "[('p', 'http://www.wikidata.org/prop/direct/P1015'), ('pname', 'NORAF ID')]\n",
      "[('p', 'http://www.wikidata.org/prop/direct/P1017'), ('pname', 'Vatican Library ID (former scheme)')]\n",
      "[('p', 'http://www.wikidata.org/prop/direct/P102'), ('pname', 'member of political party')]\n",
      "[('p', 'http://www.wikidata.org/prop/direct/P103'), ('pname', 'native language')]\n",
      "[('p', 'http://www.wikidata.org/prop/direct/P106'), ('pname', 'occupation')]\n",
      "[('p', 'http://www.wikidata.org/prop/direct/P108'), ('pname', 'employer')]\n",
      "[('p', 'http://www.wikidata.org/prop/direct/P109'), ('pname', 'signature')]\n",
      "[('p', 'http://www.wikidata.org/prop/direct/P1150'), ('pname', 'Regensburg Classification')]\n",
      "[('p', 'http://www.wikidata.org/prop/direct/P119'), ('pname', 'place of burial')]\n",
      "[('p', 'http://www.wikidata.org/prop/direct/P1196'), ('pname', 'manner of death')]\n",
      "[('p', 'http://www.wikidata.org/prop/direct/P1207'), ('pname', 'NUKAT ID')]\n",
      "[('p', 'http://www.wikidata.org/prop/direct/P1220'), ('pname', 'Internet Broadway Database person ID')]\n",
      "[('p', 'http://www.wikidata.org/prop/direct/P1233'), ('pname', 'Internet Speculative Fiction Database author ID')]\n",
      "[('p', 'http://www.wikidata.org/prop/direct/P1263'), ('pname', 'NNDB people ID')]\n",
      "[('p', 'http://www.wikidata.org/prop/direct/P1266'), ('pname', 'AlloCiné person ID')]\n",
      "[('p', 'http://www.wikidata.org/prop/direct/P1273'), ('pname', 'CANTIC ID')]\n",
      "[('p', 'http://www.wikidata.org/prop/direct/P1280'), ('pname', 'CONOR.SI ID')]\n",
      "[('p', 'http://www.wikidata.org/prop/direct/P1284'), ('pname', 'Munzinger person ID')]\n",
      "[('p', 'http://www.wikidata.org/prop/direct/P1296'), ('pname', 'Gran Enciclopèdia Catalana ID')]\n",
      "[('p', 'http://www.wikidata.org/prop/direct/P1303'), ('pname', 'instrument')]\n"
     ]
    },
    {
     "data": {
      "text/plain": [
       "25"
      ]
     },
     "execution_count": 9,
     "metadata": {},
     "output_type": "execute_result"
    }
   ],
   "source": [
    "#Q70\n",
    "#let's have a closer look to poets related to Berlin\n",
    "queryString = \"\"\"\n",
    "SELECT DISTINCT ?p ?pname\n",
    "WHERE{\n",
    "\n",
    "?s wdt:P106 wd:Q49757; #poet\n",
    "   wdt:P19 ?birth;\n",
    "   ?p ?obj.\n",
    "\n",
    "?birth wdt:P131* ?city.  #found location\n",
    "?city wdt:P31 ?o.\n",
    "?o wdt:P279 wd:Q515.\n",
    "\n",
    "FILTER(?city=wd:Q64)\n",
    "\n",
    "#Labels\n",
    "?p <http://schema.org/name> ?pname .\n",
    "\n",
    "}\n",
    "LIMIT 25\n",
    "\"\"\"\n",
    "\n",
    "print(\"Results\")\n",
    "run_query(queryString)"
   ]
  },
  {
   "cell_type": "markdown",
   "id": "4e18643e-189a-4e2d-b00b-a47c792b4d4c",
   "metadata": {},
   "source": [
    "Previous results are too generic, i want to find something related to their poetry. "
   ]
  },
  {
   "cell_type": "code",
   "execution_count": 10,
   "id": "2e00c33f-253a-4a6d-a54d-32dc0e10e6ea",
   "metadata": {},
   "outputs": [
    {
     "name": "stdout",
     "output_type": "stream",
     "text": [
      "Results\n",
      "[('p', 'http://www.wikidata.org/prop/direct/P7947'), ('pname', 'WeChangEd ID')]\n",
      "[('p', 'http://www.wikidata.org/prop/direct/P9129'), ('pname', 'Data Collection of the Hungarian Peerage ID')]\n",
      "[('p', 'http://www.wikidata.org/prop/direct/P1005'), ('pname', 'Portuguese National Library ID')]\n",
      "[('p', 'http://www.wikidata.org/prop/direct/P1006'), ('pname', 'Nationale Thesaurus voor Auteurs ID')]\n",
      "[('p', 'http://www.wikidata.org/prop/direct/P101'), ('pname', 'field of work')]\n",
      "[('p', 'http://www.wikidata.org/prop/direct/P1015'), ('pname', 'NORAF ID')]\n",
      "[('p', 'http://www.wikidata.org/prop/direct/P1017'), ('pname', 'Vatican Library ID (former scheme)')]\n",
      "[('p', 'http://www.wikidata.org/prop/direct/P102'), ('pname', 'member of political party')]\n",
      "[('p', 'http://www.wikidata.org/prop/direct/P103'), ('pname', 'native language')]\n",
      "[('p', 'http://www.wikidata.org/prop/direct/P106'), ('pname', 'occupation')]\n",
      "[('p', 'http://www.wikidata.org/prop/direct/P108'), ('pname', 'employer')]\n",
      "[('p', 'http://www.wikidata.org/prop/direct/P109'), ('pname', 'signature')]\n",
      "[('p', 'http://www.wikidata.org/prop/direct/P1150'), ('pname', 'Regensburg Classification')]\n",
      "[('p', 'http://www.wikidata.org/prop/direct/P119'), ('pname', 'place of burial')]\n",
      "[('p', 'http://www.wikidata.org/prop/direct/P1196'), ('pname', 'manner of death')]\n",
      "[('p', 'http://www.wikidata.org/prop/direct/P1207'), ('pname', 'NUKAT ID')]\n",
      "[('p', 'http://www.wikidata.org/prop/direct/P1220'), ('pname', 'Internet Broadway Database person ID')]\n",
      "[('p', 'http://www.wikidata.org/prop/direct/P1233'), ('pname', 'Internet Speculative Fiction Database author ID')]\n",
      "[('p', 'http://www.wikidata.org/prop/direct/P1263'), ('pname', 'NNDB people ID')]\n",
      "[('p', 'http://www.wikidata.org/prop/direct/P1266'), ('pname', 'AlloCiné person ID')]\n",
      "[('p', 'http://www.wikidata.org/prop/direct/P1273'), ('pname', 'CANTIC ID')]\n",
      "[('p', 'http://www.wikidata.org/prop/direct/P1280'), ('pname', 'CONOR.SI ID')]\n",
      "[('p', 'http://www.wikidata.org/prop/direct/P1284'), ('pname', 'Munzinger person ID')]\n",
      "[('p', 'http://www.wikidata.org/prop/direct/P1296'), ('pname', 'Gran Enciclopèdia Catalana ID')]\n",
      "[('p', 'http://www.wikidata.org/prop/direct/P1303'), ('pname', 'instrument')]\n",
      "[('p', 'http://www.wikidata.org/prop/direct/P1315'), ('pname', 'NLA Trove ID')]\n",
      "[('p', 'http://www.wikidata.org/prop/direct/P1343'), ('pname', 'described by source')]\n",
      "[('p', 'http://www.wikidata.org/prop/direct/P1347'), ('pname', 'military casualty classification')]\n",
      "[('p', 'http://www.wikidata.org/prop/direct/P135'), ('pname', 'movement')]\n",
      "[('p', 'http://www.wikidata.org/prop/direct/P136'), ('pname', 'genre')]\n",
      "[('p', 'http://www.wikidata.org/prop/direct/P1368'), ('pname', 'LNB ID')]\n",
      "[('p', 'http://www.wikidata.org/prop/direct/P1375'), ('pname', 'NSK ID')]\n",
      "[('p', 'http://www.wikidata.org/prop/direct/P1411'), ('pname', 'nominated for')]\n",
      "[('p', 'http://www.wikidata.org/prop/direct/P1412'), ('pname', 'languages spoken, written or signed')]\n",
      "[('p', 'http://www.wikidata.org/prop/direct/P1416'), ('pname', 'affiliation')]\n",
      "[('p', 'http://www.wikidata.org/prop/direct/P1417'), ('pname', 'Encyclopædia Britannica Online ID')]\n",
      "[('p', 'http://www.wikidata.org/prop/direct/P1430'), ('pname', 'OpenPlaques subject ID')]\n",
      "[('p', 'http://www.wikidata.org/prop/direct/P1442'), ('pname', 'image of grave')]\n",
      "[('p', 'http://www.wikidata.org/prop/direct/P1472'), ('pname', 'Commons Creator page')]\n",
      "[('p', 'http://www.wikidata.org/prop/direct/P1580'), ('pname', 'University of Barcelona authority ID')]\n",
      "[('p', 'http://www.wikidata.org/prop/direct/P166'), ('pname', 'award received')]\n",
      "[('p', 'http://www.wikidata.org/prop/direct/P1695'), ('pname', 'NLP ID (unique)')]\n",
      "[('p', 'http://www.wikidata.org/prop/direct/P172'), ('pname', 'ethnic group')]\n",
      "[('p', 'http://www.wikidata.org/prop/direct/P1741'), ('pname', 'GTAA ID')]\n",
      "[('p', 'http://www.wikidata.org/prop/direct/P18'), ('pname', 'image')]\n",
      "[('p', 'http://www.wikidata.org/prop/direct/P1801'), ('pname', 'commemorative plaque image')]\n",
      "[('p', 'http://www.wikidata.org/prop/direct/P1819'), ('pname', 'genealogics.org person ID')]\n",
      "[('p', 'http://www.wikidata.org/prop/direct/P1871'), ('pname', 'CERL Thesaurus ID')]\n",
      "[('p', 'http://www.wikidata.org/prop/direct/P1899'), ('pname', 'LibriVox author ID')]\n",
      "[('p', 'http://www.wikidata.org/prop/direct/P19'), ('pname', 'place of birth')]\n"
     ]
    },
    {
     "data": {
      "text/plain": [
       "50"
      ]
     },
     "execution_count": 10,
     "metadata": {},
     "output_type": "execute_result"
    }
   ],
   "source": [
    "#Q71\n",
    "#previous results are too generic, i want to find something related to their poetry\n",
    "queryString = \"\"\"\n",
    "SELECT DISTINCT ?p ?pname\n",
    "WHERE{\n",
    "\n",
    "?s wdt:P106 wd:Q49757; #poet\n",
    "   wdt:P19 ?birth;\n",
    "   ?p ?obj.\n",
    "\n",
    "?birth wdt:P131* ?city.  #found location\n",
    "?city wdt:P31 ?o.\n",
    "?o wdt:P279 wd:Q515.\n",
    "\n",
    "FILTER(?city=wd:Q64)\n",
    "\n",
    "#Labels\n",
    "?p <http://schema.org/name> ?pname .\n",
    "\n",
    "}\n",
    "LIMIT 50\n",
    "\"\"\"\n",
    "\n",
    "print(\"Results\")\n",
    "run_query(queryString)"
   ]
  },
  {
   "cell_type": "markdown",
   "id": "384141ee-241d-4c1e-bc0a-221471efe1e7",
   "metadata": {},
   "source": [
    "I found P135 (movement) and P136 (genre) that could be useful in the search."
   ]
  },
  {
   "cell_type": "code",
   "execution_count": 12,
   "id": "f2db6b28-8c36-49ba-82d2-31e4b930d326",
   "metadata": {},
   "outputs": [
    {
     "name": "stdout",
     "output_type": "stream",
     "text": [
      "Results\n",
      "[('genre', 'http://www.wikidata.org/entity/Q37068'), ('gname', 'Romanticism')]\n",
      "[('genre', 'http://www.wikidata.org/entity/Q181655'), ('gname', 'Heidelberg School')]\n",
      "[('genre', 'http://www.wikidata.org/entity/Q2477112'), ('gname', 'German Romanticism')]\n",
      "[('genre', 'http://www.wikidata.org/entity/Q5977111'), ('gname', 'romantic literature')]\n",
      "[('genre', 'http://www.wikidata.org/entity/Q177725'), ('gname', 'abstract expressionism')]\n"
     ]
    },
    {
     "data": {
      "text/plain": [
       "5"
      ]
     },
     "execution_count": 12,
     "metadata": {},
     "output_type": "execute_result"
    }
   ],
   "source": [
    "#Q72\n",
    "#movement (P135) and genre(P136) are interesting\n",
    "queryString = \"\"\"\n",
    "SELECT DISTINCT ?genre ?gname\n",
    "WHERE{\n",
    "\n",
    "?s wdt:P106 wd:Q49757; #poet\n",
    "   wdt:P19 ?birth;\n",
    "   wdt:P135 ?genre.\n",
    "\n",
    "?birth wdt:P131* ?city.  #found location\n",
    "?city wdt:P31 ?o.\n",
    "?o wdt:P279 wd:Q515.\n",
    "\n",
    "FILTER(?city=wd:Q64)\n",
    "\n",
    "#Labels\n",
    "?genre <http://schema.org/name> ?gname .\n",
    "\n",
    "}\n",
    "LIMIT 25\n",
    "\"\"\"\n",
    "\n",
    "print(\"Results\")\n",
    "run_query(queryString)"
   ]
  },
  {
   "cell_type": "code",
   "execution_count": 13,
   "id": "77cfb878-41af-45fa-8202-6ea87183673e",
   "metadata": {},
   "outputs": [
    {
     "name": "stdout",
     "output_type": "stream",
     "text": [
      "Results\n",
      "[('genre', 'http://www.wikidata.org/entity/Q1344'), ('gname', 'opera')]\n",
      "[('genre', 'http://www.wikidata.org/entity/Q482'), ('gname', 'poetry')]\n",
      "[('genre', 'http://www.wikidata.org/entity/Q7362788'), ('gname', 'Romantic')]\n",
      "[('genre', 'http://www.wikidata.org/entity/Q37073'), ('gname', 'pop music')]\n"
     ]
    },
    {
     "data": {
      "text/plain": [
       "4"
      ]
     },
     "execution_count": 13,
     "metadata": {},
     "output_type": "execute_result"
    }
   ],
   "source": [
    "#Q73\n",
    "#movement (P135) and genre(P136) are interesting\n",
    "queryString = \"\"\"\n",
    "SELECT DISTINCT ?genre ?gname\n",
    "WHERE{\n",
    "\n",
    "?s wdt:P106 wd:Q49757; #poet\n",
    "   wdt:P19 ?birth;\n",
    "   wdt:P136 ?genre.\n",
    "\n",
    "?birth wdt:P131* ?city.  #found location\n",
    "?city wdt:P31 ?o.\n",
    "?o wdt:P279 wd:Q515.\n",
    "\n",
    "FILTER(?city=wd:Q64)\n",
    "\n",
    "#Labels\n",
    "?genre <http://schema.org/name> ?gname .\n",
    "\n",
    "}\n",
    "LIMIT 25\n",
    "\"\"\"\n",
    "\n",
    "print(\"Results\")\n",
    "run_query(queryString)"
   ]
  },
  {
   "cell_type": "markdown",
   "id": "2bc57d4f-96a9-45cd-9659-faa6674bc283",
   "metadata": {},
   "source": [
    "Retrieve some movements related to poets born in Berlin."
   ]
  },
  {
   "cell_type": "code",
   "execution_count": 15,
   "id": "6771e0cc-17af-41ce-a994-e05b72608b93",
   "metadata": {},
   "outputs": [
    {
     "name": "stdout",
     "output_type": "stream",
     "text": [
      "Results\n",
      "[('genre', 'http://www.wikidata.org/entity/Q207741'), ('gname', 'Sturm und Drang')]\n",
      "[('genre', 'http://www.wikidata.org/entity/Q39427'), ('gname', 'surrealism')]\n",
      "[('genre', 'http://www.wikidata.org/entity/Q40415'), ('gname', 'Impressionism')]\n",
      "[('genre', 'http://www.wikidata.org/entity/Q42934'), ('gname', 'Cubism')]\n",
      "[('genre', 'http://www.wikidata.org/entity/Q2477112'), ('gname', 'German Romanticism')]\n",
      "[('genre', 'http://www.wikidata.org/entity/Q12539'), ('gname', 'Age of Enlightenment')]\n",
      "[('genre', 'http://www.wikidata.org/entity/Q335652'), ('gname', 'parnassianism')]\n",
      "[('genre', 'http://www.wikidata.org/entity/Q163775'), ('gname', 'medieval music')]\n",
      "[('genre', 'http://www.wikidata.org/entity/Q37068'), ('gname', 'Romanticism')]\n",
      "[('genre', 'http://www.wikidata.org/entity/Q37853'), ('gname', 'Baroque')]\n",
      "[('genre', 'http://www.wikidata.org/entity/Q9730'), ('gname', 'Western classical music')]\n",
      "[('genre', 'http://www.wikidata.org/entity/Q170292'), ('gname', 'classicism')]\n",
      "[('genre', 'http://www.wikidata.org/entity/Q6199'), ('gname', 'anarchism')]\n",
      "[('genre', 'http://www.wikidata.org/entity/Q1808721'), ('gname', 'sound poetry')]\n",
      "[('genre', 'http://www.wikidata.org/entity/Q164800'), ('gname', 'Symbolism')]\n",
      "[('genre', 'http://www.wikidata.org/entity/Q6034'), ('gname', 'Dada')]\n",
      "[('genre', 'http://www.wikidata.org/entity/Q5977111'), ('gname', 'romantic literature')]\n",
      "[('genre', 'http://www.wikidata.org/entity/Q627187'), ('gname', 'proletarian literature')]\n",
      "[('genre', 'http://www.wikidata.org/entity/Q843393'), ('gname', 'Mail art')]\n",
      "[('genre', 'http://www.wikidata.org/entity/Q940595'), ('gname', 'Zutiste')]\n",
      "[('genre', 'http://www.wikidata.org/entity/Q5600643'), ('gname', 'Modernismo')]\n",
      "[('genre', 'http://www.wikidata.org/entity/Q166593'), ('gname', 'fauvism')]\n",
      "[('genre', 'http://www.wikidata.org/entity/Q596594'), ('gname', 'concrete poetry')]\n",
      "[('genre', 'http://www.wikidata.org/entity/Q876031'), ('gname', 'School of Lyon')]\n",
      "[('genre', 'http://www.wikidata.org/entity/Q2541667'), ('gname', 'Zazou')]\n",
      "[('genre', 'http://www.wikidata.org/entity/Q943197'), ('gname', 'royalism')]\n",
      "[('genre', 'http://www.wikidata.org/entity/Q210115'), ('gname', 'free-thought')]\n",
      "[('genre', 'http://www.wikidata.org/entity/Q528648'), ('gname', 'La Pléiade')]\n",
      "[('genre', 'http://www.wikidata.org/entity/Q842333'), ('gname', 'Western philosophy')]\n",
      "[('genre', 'http://www.wikidata.org/entity/Q878985'), ('gname', 'modernism')]\n",
      "[('genre', 'http://www.wikidata.org/entity/Q200034'), ('gname', 'pointillism')]\n",
      "[('genre', 'http://www.wikidata.org/entity/Q382056'), ('gname', 'Pont-Aven School')]\n",
      "[('genre', 'http://www.wikidata.org/entity/Q42865'), ('gname', 'Orientalism')]\n",
      "[('genre', 'http://www.wikidata.org/entity/Q503708'), ('gname', 'Les Nabis')]\n",
      "[('genre', 'http://www.wikidata.org/entity/Q847847'), ('gname', 'synthetism')]\n",
      "[('genre', 'http://www.wikidata.org/entity/Q889525'), ('gname', 'Cloisonnism')]\n",
      "[('genre', 'http://www.wikidata.org/entity/Q14378'), ('gname', 'neoclassicism')]\n",
      "[('genre', 'http://www.wikidata.org/entity/Q2455000'), ('gname', 'German Renaissance')]\n",
      "[('genre', 'http://www.wikidata.org/entity/Q471194'), ('gname', 'troubadoric poetry')]\n",
      "[('genre', 'http://www.wikidata.org/entity/Q8261'), ('gname', 'novel')]\n",
      "[('genre', 'http://www.wikidata.org/entity/Q207445'), ('gname', 'De Stijl')]\n",
      "[('genre', 'http://www.wikidata.org/entity/Q46158'), ('gname', 'humanism')]\n",
      "[('genre', 'http://www.wikidata.org/entity/Q5185279'), ('gname', 'poem')]\n",
      "[('genre', 'http://www.wikidata.org/entity/Q55996'), ('gname', 'Naturalism')]\n",
      "[('genre', 'http://www.wikidata.org/entity/Q59104'), ('gname', 'continental philosophy')]\n",
      "[('genre', 'http://www.wikidata.org/entity/Q667661'), ('gname', 'literary realism')]\n",
      "[('genre', 'http://www.wikidata.org/entity/Q10857409'), ('gname', 'Realism')]\n",
      "[('genre', 'http://www.wikidata.org/entity/Q191760'), ('gname', 'Theatre of the Absurd')]\n",
      "[('genre', 'http://www.wikidata.org/entity/Q274053'), ('gname', 'Ultramontanism')]\n",
      "[('genre', 'http://www.wikidata.org/entity/Q131015'), ('gname', 'positivism')]\n"
     ]
    },
    {
     "data": {
      "text/plain": [
       "50"
      ]
     },
     "execution_count": 15,
     "metadata": {},
     "output_type": "execute_result"
    }
   ],
   "source": [
    "#Q74\n",
    "#search for movement with the berlin pattern\n",
    "queryString = \"\"\"\n",
    "SELECT DISTINCT ?genre ?gname\n",
    "WHERE{\n",
    "\n",
    "?s wdt:P106 wd:Q49757; #poet\n",
    "   wdt:P19 ?birth;\n",
    "   wdt:P135 ?genre.\n",
    "\n",
    "?birth wdt:P17 ?country.\n",
    "\n",
    "#Labels\n",
    "?genre <http://schema.org/name> ?gname .\n",
    "\n",
    "FILTER((?country=wd:Q142)||(?country=wd:Q183))\n",
    "}\n",
    "LIMIT 50\n",
    "\"\"\"\n",
    "\n",
    "print(\"Results\")\n",
    "run_query(queryString)"
   ]
  },
  {
   "cell_type": "code",
   "execution_count": 16,
   "id": "a1692da1-f071-4e27-b946-a04d7155cf60",
   "metadata": {},
   "outputs": [
    {
     "name": "stdout",
     "output_type": "stream",
     "text": [
      "Results\n",
      "[('p', 'http://www.wikidata.org/prop/direct/P2671'), ('pname', 'Google Knowledge Graph ID')]\n",
      "[('p', 'http://www.wikidata.org/prop/direct/P279'), ('pname', 'subclass of')]\n",
      "[('p', 'http://www.wikidata.org/prop/direct/P31'), ('pname', 'instance of')]\n",
      "[('p', 'http://www.wikidata.org/prop/direct/P349'), ('pname', 'National Diet Library ID')]\n",
      "[('p', 'http://www.wikidata.org/prop/direct/P910'), ('pname', \"topic's main category\")]\n",
      "[('p', 'http://www.wikidata.org/prop/direct/P950'), ('pname', 'Biblioteca Nacional de España ID')]\n"
     ]
    },
    {
     "data": {
      "text/plain": [
       "6"
      ]
     },
     "execution_count": 16,
     "metadata": {},
     "output_type": "execute_result"
    }
   ],
   "source": [
    "#Q75\n",
    "#closer look to an entity found above\n",
    "queryString = \"\"\"\n",
    "SELECT DISTINCT ?p ?pname\n",
    "WHERE{\n",
    "\n",
    "wd:Q5977111 ?p ?o.\n",
    "\n",
    "#Labels\n",
    "?p <http://schema.org/name> ?pname .\n",
    "\n",
    "}\n",
    "LIMIT 50\n",
    "\"\"\"\n",
    "\n",
    "print(\"Results\")\n",
    "run_query(queryString)"
   ]
  },
  {
   "cell_type": "code",
   "execution_count": 17,
   "id": "dcfdb500-b7fe-429a-aa79-f93d0313d14a",
   "metadata": {},
   "outputs": [
    {
     "name": "stdout",
     "output_type": "stream",
     "text": [
      "Results\n",
      "[('o', 'http://www.wikidata.org/entity/Q37068'), ('oname', 'Romanticism')]\n",
      "[('o', 'http://www.wikidata.org/entity/Q8242'), ('oname', 'literature')]\n"
     ]
    },
    {
     "data": {
      "text/plain": [
       "2"
      ]
     },
     "execution_count": 17,
     "metadata": {},
     "output_type": "execute_result"
    }
   ],
   "source": [
    "#Q76\n",
    "#closer look to an entity found above\n",
    "queryString = \"\"\"\n",
    "SELECT DISTINCT ?o ?oname\n",
    "WHERE{\n",
    "\n",
    "wd:Q5977111 wdt:P279 ?o.\n",
    "\n",
    "#Labels\n",
    "?o <http://schema.org/name> ?oname .\n",
    "\n",
    "}\n",
    "LIMIT 50\n",
    "\"\"\"\n",
    "\n",
    "print(\"Results\")\n",
    "run_query(queryString)"
   ]
  },
  {
   "cell_type": "code",
   "execution_count": 18,
   "id": "fc0de709-8373-47bf-bc30-99f99ef65f2e",
   "metadata": {},
   "outputs": [
    {
     "name": "stdout",
     "output_type": "stream",
     "text": [
      "Results\n",
      "[('p', 'http://www.wikidata.org/prop/direct/P1014'), ('pname', 'Art & Architecture Thesaurus ID')]\n",
      "[('p', 'http://www.wikidata.org/prop/direct/P1036'), ('pname', 'Dewey Decimal Classification')]\n",
      "[('p', 'http://www.wikidata.org/prop/direct/P1051'), ('pname', 'PSH ID')]\n",
      "[('p', 'http://www.wikidata.org/prop/direct/P1245'), ('pname', 'OmegaWiki Defined Meaning')]\n",
      "[('p', 'http://www.wikidata.org/prop/direct/P1296'), ('pname', 'Gran Enciclopèdia Catalana ID')]\n",
      "[('p', 'http://www.wikidata.org/prop/direct/P1343'), ('pname', 'described by source')]\n",
      "[('p', 'http://www.wikidata.org/prop/direct/P1417'), ('pname', 'Encyclopædia Britannica Online ID')]\n",
      "[('p', 'http://www.wikidata.org/prop/direct/P155'), ('pname', 'follows')]\n",
      "[('p', 'http://www.wikidata.org/prop/direct/P156'), ('pname', 'followed by')]\n",
      "[('p', 'http://www.wikidata.org/prop/direct/P18'), ('pname', 'image')]\n",
      "[('p', 'http://www.wikidata.org/prop/direct/P1807'), ('pname', 'Great Aragonese Encyclopedia ID')]\n",
      "[('p', 'http://www.wikidata.org/prop/direct/P227'), ('pname', 'GND ID')]\n",
      "[('p', 'http://www.wikidata.org/prop/direct/P2347'), ('pname', 'YSO ID')]\n",
      "[('p', 'http://www.wikidata.org/prop/direct/P244'), ('pname', 'Library of Congress authority ID')]\n",
      "[('p', 'http://www.wikidata.org/prop/direct/P2581'), ('pname', 'BabelNet ID')]\n",
      "[('p', 'http://www.wikidata.org/prop/direct/P268'), ('pname', 'Bibliothèque nationale de France ID')]\n",
      "[('p', 'http://www.wikidata.org/prop/direct/P2924'), ('pname', 'Great Russian Encyclopedia Online ID')]\n",
      "[('p', 'http://www.wikidata.org/prop/direct/P2959'), ('pname', 'permanent duplicated item')]\n",
      "[('p', 'http://www.wikidata.org/prop/direct/P31'), ('pname', 'instance of')]\n",
      "[('p', 'http://www.wikidata.org/prop/direct/P3219'), ('pname', 'Encyclopædia Universalis ID')]\n",
      "[('p', 'http://www.wikidata.org/prop/direct/P3222'), ('pname', 'NE.se ID')]\n",
      "[('p', 'http://www.wikidata.org/prop/direct/P3235'), ('pname', 'PhilPapers topic')]\n",
      "[('p', 'http://www.wikidata.org/prop/direct/P3365'), ('pname', 'Treccani ID')]\n",
      "[('p', 'http://www.wikidata.org/prop/direct/P3417'), ('pname', 'Quora topic ID')]\n",
      "[('p', 'http://www.wikidata.org/prop/direct/P349'), ('pname', 'National Diet Library ID')]\n",
      "[('p', 'http://www.wikidata.org/prop/direct/P3553'), ('pname', 'Zhihu topic ID')]\n",
      "[('p', 'http://www.wikidata.org/prop/direct/P373'), ('pname', 'Commons category')]\n",
      "[('p', 'http://www.wikidata.org/prop/direct/P3827'), ('pname', 'JSTOR topic ID')]\n",
      "[('p', 'http://www.wikidata.org/prop/direct/P4223'), ('pname', \"Treccani's Enciclopedia Italiana ID\")]\n",
      "[('p', 'http://www.wikidata.org/prop/direct/P443'), ('pname', 'pronunciation audio')]\n",
      "[('p', 'http://www.wikidata.org/prop/direct/P486'), ('pname', 'MeSH descriptor ID')]\n",
      "[('p', 'http://www.wikidata.org/prop/direct/P508'), ('pname', 'BNCF Thesaurus ID')]\n",
      "[('p', 'http://www.wikidata.org/prop/direct/P527'), ('pname', 'has part')]\n",
      "[('p', 'http://www.wikidata.org/prop/direct/P571'), ('pname', 'inception')]\n",
      "[('p', 'http://www.wikidata.org/prop/direct/P580'), ('pname', 'start time')]\n",
      "[('p', 'http://www.wikidata.org/prop/direct/P582'), ('pname', 'end time')]\n",
      "[('p', 'http://www.wikidata.org/prop/direct/P6058'), ('pname', 'Larousse ID')]\n",
      "[('p', 'http://www.wikidata.org/prop/direct/P6366'), ('pname', 'Microsoft Academic ID')]\n",
      "[('p', 'http://www.wikidata.org/prop/direct/P6404'), ('pname', \"Treccani's Dizionario di Storia ID\")]\n",
      "[('p', 'http://www.wikidata.org/prop/direct/P646'), ('pname', 'Freebase ID')]\n",
      "[('p', 'http://www.wikidata.org/prop/direct/P6573'), ('pname', 'Klexikon article ID')]\n",
      "[('p', 'http://www.wikidata.org/prop/direct/P7033'), ('pname', 'Australian Educational Vocabulary ID')]\n",
      "[('p', 'http://www.wikidata.org/prop/direct/P7786'), ('pname', 'Joconde epoch ID')]\n",
      "[('p', 'http://www.wikidata.org/prop/direct/P7818'), ('pname', 'French Vikidia ID')]\n",
      "[('p', 'http://www.wikidata.org/prop/direct/P7832'), ('pname', 'Basque Vikidia ID')]\n",
      "[('p', 'http://www.wikidata.org/prop/direct/P7993'), ('pname', \"Treccani's Dizionario di Filosofia ID\")]\n",
      "[('p', 'http://www.wikidata.org/prop/direct/P8168'), ('pname', 'FactGrid item ID')]\n",
      "[('p', 'http://www.wikidata.org/prop/direct/P8406'), ('pname', 'Grove Art Online ID')]\n",
      "[('p', 'http://www.wikidata.org/prop/direct/P8408'), ('pname', 'KBpedia ID')]\n",
      "[('p', 'http://www.wikidata.org/prop/direct/P9070'), ('pname', 'Internet Encyclopedia of Ukraine ID')]\n"
     ]
    },
    {
     "data": {
      "text/plain": [
       "50"
      ]
     },
     "execution_count": 18,
     "metadata": {},
     "output_type": "execute_result"
    }
   ],
   "source": [
    "#Q77\n",
    "#closer look to an entity found above\n",
    "queryString = \"\"\"\n",
    "SELECT DISTINCT ?p ?pname\n",
    "WHERE{\n",
    "\n",
    "wd:Q37068 ?p ?o.\n",
    "\n",
    "#Labels\n",
    "?p <http://schema.org/name> ?pname .\n",
    "\n",
    "}\n",
    "LIMIT 50\n",
    "\"\"\"\n",
    "\n",
    "print(\"Results\")\n",
    "run_query(queryString)"
   ]
  },
  {
   "cell_type": "markdown",
   "id": "a82a2471-cf00-4fee-a6b1-73bb7d6168a8",
   "metadata": {},
   "source": [
    "Check if a poet can be directly linked to Romanticism by P135"
   ]
  },
  {
   "cell_type": "code",
   "execution_count": 21,
   "id": "eb9ff847-a194-4b3e-afab-06328e0270aa",
   "metadata": {},
   "outputs": [
    {
     "name": "stdout",
     "output_type": "stream",
     "text": [
      "Results\n",
      "[('s', 'http://www.wikidata.org/entity/Q5932129'), ('sname', 'Joaquín José Cervino')]\n",
      "[('s', 'http://www.wikidata.org/entity/Q5258787'), ('sname', 'Tobias Barreto')]\n",
      "[('s', 'http://www.wikidata.org/entity/Q5340521'), ('sname', 'Eduardo Asquerino')]\n",
      "[('s', 'http://www.wikidata.org/entity/Q573223'), ('sname', 'Patricio de la Escosura')]\n",
      "[('s', 'http://www.wikidata.org/entity/Q688529'), ('sname', 'Johannes Carsten Hauch')]\n",
      "[('s', 'http://www.wikidata.org/entity/Q597298'), ('sname', 'Antoni Edward Odyniec')]\n",
      "[('s', 'http://www.wikidata.org/entity/Q645491'), ('sname', 'Yevhen Hrebinka')]\n",
      "[('s', 'http://www.wikidata.org/entity/Q93343'), ('sname', 'Percy Bysshe Shelley')]\n",
      "[('s', 'http://www.wikidata.org/entity/Q378133'), ('sname', 'Hendrik Conscience')]\n",
      "[('s', 'http://www.wikidata.org/entity/Q352914'), ('sname', 'Karel Jaromír Erben')]\n",
      "[('s', 'http://www.wikidata.org/entity/Q2621545'), ('sname', 'Alexander Polezhayev')]\n",
      "[('s', 'http://www.wikidata.org/entity/Q4151323'), ('sname', 'Eduard Huber')]\n",
      "[('s', 'http://www.wikidata.org/entity/Q60684'), ('sname', 'Novalis')]\n",
      "[('s', 'http://www.wikidata.org/entity/Q761705'), ('sname', 'Louis Bouilhet')]\n",
      "[('s', 'http://www.wikidata.org/entity/Q2980553'), ('sname', 'Antoinette Henriette Clémence Robert')]\n",
      "[('s', 'http://www.wikidata.org/entity/Q27179260'), ('sname', 'Alexandre de Saint-Juan')]\n",
      "[('s', 'http://www.wikidata.org/entity/Q49767'), ('sname', 'François-René de Chateaubriand')]\n",
      "[('s', 'http://www.wikidata.org/entity/Q64652'), ('sname', 'Gaspar Núñez de Arce')]\n",
      "[('s', 'http://www.wikidata.org/entity/Q1031'), ('sname', 'France Prešeren')]\n",
      "[('s', 'http://www.wikidata.org/entity/Q157623'), ('sname', 'Vasily Zhukovsky')]\n",
      "[('s', 'http://www.wikidata.org/entity/Q46599'), ('sname', 'Mikhail Lermontov')]\n",
      "[('s', 'http://www.wikidata.org/entity/Q7200'), ('sname', 'Alexander Pushkin')]\n",
      "[('s', 'http://www.wikidata.org/entity/Q82083'), ('sname', 'John Keats')]\n",
      "[('s', 'http://www.wikidata.org/entity/Q80137'), ('sname', 'Emily Brontë')]\n",
      "[('s', 'http://www.wikidata.org/entity/Q179680'), ('sname', 'Alfred de Musset')]\n"
     ]
    },
    {
     "data": {
      "text/plain": [
       "25"
      ]
     },
     "execution_count": 21,
     "metadata": {},
     "output_type": "execute_result"
    }
   ],
   "source": [
    "#Q77\n",
    "#check if a poet can be directly linked to Romanticism by P135\n",
    "queryString = \"\"\"\n",
    "SELECT DISTINCT ?s ?sname\n",
    "WHERE{\n",
    "\n",
    "?s wdt:P106 wd:Q49757;\n",
    "   wdt:P135 wd:Q37068.\n",
    "\n",
    "#Labels\n",
    "?s <http://schema.org/name> ?sname .\n",
    "\n",
    "}\n",
    "LIMIT 25\n",
    "\"\"\"\n",
    "\n",
    "print(\"Results\")\n",
    "run_query(queryString)"
   ]
  },
  {
   "cell_type": "markdown",
   "id": "4393c939-c1cc-4902-80df-770d2ff285ac",
   "metadata": {},
   "source": [
    "Retrieve subclasseses of Romanticism."
   ]
  },
  {
   "cell_type": "code",
   "execution_count": 20,
   "id": "a0e650a0-da5f-4ad8-b098-806882a64f0d",
   "metadata": {},
   "outputs": [
    {
     "name": "stdout",
     "output_type": "stream",
     "text": [
      "Results\n",
      "[('o', 'http://www.wikidata.org/entity/Q3038946'), ('oname', 'romantic drama')]\n",
      "[('o', 'http://www.wikidata.org/entity/Q207591'), ('oname', 'Romantic music')]\n",
      "[('o', 'http://www.wikidata.org/entity/Q5977111'), ('oname', 'romantic literature')]\n",
      "[('o', 'http://www.wikidata.org/entity/Q3088366'), ('oname', 'Romantic painting')]\n",
      "[('o', 'http://www.wikidata.org/entity/Q12775412'), ('oname', 'Romantic philosophy')]\n"
     ]
    },
    {
     "data": {
      "text/plain": [
       "5"
      ]
     },
     "execution_count": 20,
     "metadata": {},
     "output_type": "execute_result"
    }
   ],
   "source": [
    "#Q78\n",
    "#check P527 on Romanticism\n",
    "queryString = \"\"\"\n",
    "SELECT DISTINCT ?o ?oname\n",
    "WHERE{\n",
    "\n",
    "wd:Q37068 wdt:P527 ?o.\n",
    "\n",
    "#Labels\n",
    "?o <http://schema.org/name> ?oname .\n",
    "\n",
    "}\n",
    "LIMIT 25\n",
    "\"\"\"\n",
    "\n",
    "print(\"Results\")\n",
    "run_query(queryString)"
   ]
  },
  {
   "cell_type": "markdown",
   "id": "dc6af3e9-8dab-4c36-b978-05470ea64806",
   "metadata": {},
   "source": [
    "Retrieve the three cities where the highest number of romantic poets used to live (born)."
   ]
  },
  {
   "cell_type": "code",
   "execution_count": 22,
   "id": "3ac20360-8ca0-4620-805b-9125d6d471fd",
   "metadata": {},
   "outputs": [
    {
     "name": "stdout",
     "output_type": "stream",
     "text": [
      "Results\n",
      "[('city', 'http://www.wikidata.org/entity/Q1715'), ('cname', 'Hanover'), ('HowMany', '2')]\n",
      "[('city', 'http://www.wikidata.org/entity/Q37776'), ('cname', 'Besançon'), ('HowMany', '2')]\n",
      "[('city', 'http://www.wikidata.org/entity/Q64'), ('cname', 'Berlin'), ('HowMany', '2')]\n"
     ]
    },
    {
     "data": {
      "text/plain": [
       "3"
      ]
     },
     "execution_count": 22,
     "metadata": {},
     "output_type": "execute_result"
    }
   ],
   "source": [
    "#Q79\n",
    "#find the three cities where the highest number of romantic poets used to live (born)\n",
    "queryString = \"\"\"\n",
    "SELECT ?city ?cname ?HowMany WHERE\n",
    "{\n",
    "{\n",
    "SELECT ?city (COUNT (DISTINCT ?s) AS ?HowMany)\n",
    "WHERE{\n",
    "\n",
    "?s wdt:P106 wd:Q49757; \n",
    "   wdt:P19 ?birth;\n",
    "   wdt:P135 wd:Q37068.\n",
    "   \n",
    "?birth wdt:P17 ?country.\n",
    "\n",
    "?birth wdt:P131* ?city.  #found location\n",
    "?city wdt:P31 ?o.\n",
    "?o wdt:P279 wd:Q515.\n",
    "\n",
    "FILTER( (?country=wd:Q142)||(?country=wd:Q183) )\n",
    "}\n",
    "GROUP BY (?city)\n",
    "ORDER BY DESC(?HowMany)\n",
    "LIMIT 25\n",
    "}\n",
    "#Labels\n",
    "?city <http://schema.org/name> ?cname .\n",
    "}\n",
    "ORDER BY DESC(?HowMany)\n",
    "LIMIT 3\n",
    "\"\"\"\n",
    "\n",
    "print(\"Results\")\n",
    "run_query(queryString)"
   ]
  },
  {
   "cell_type": "markdown",
   "id": "6951bf6a-0b73-4969-938f-1b174917fe2d",
   "metadata": {},
   "source": [
    "As above but using romantic literature instead of romanticism."
   ]
  },
  {
   "cell_type": "code",
   "execution_count": 26,
   "id": "74c586ef-fc4e-4a56-a757-79c37e55d3ee",
   "metadata": {},
   "outputs": [
    {
     "name": "stdout",
     "output_type": "stream",
     "text": [
      "Results\n",
      "[('city', 'http://www.wikidata.org/entity/Q697577'), ('cname', 'Arnstein'), ('HowMany', '1')]\n",
      "[('city', 'http://www.wikidata.org/entity/Q1715'), ('cname', 'Hanover'), ('HowMany', '1')]\n",
      "[('city', 'http://www.wikidata.org/entity/Q64'), ('cname', 'Berlin'), ('HowMany', '1')]\n"
     ]
    },
    {
     "data": {
      "text/plain": [
       "3"
      ]
     },
     "execution_count": 26,
     "metadata": {},
     "output_type": "execute_result"
    }
   ],
   "source": [
    "#Q80\n",
    "#find the three cities where the highest number of romantic poets used to live (born)\n",
    "#use romantic literature instead of romanticism\n",
    "queryString = \"\"\"\n",
    "SELECT ?city ?cname ?HowMany WHERE\n",
    "{\n",
    "{\n",
    "SELECT ?city (COUNT (DISTINCT ?s) AS ?HowMany)\n",
    "WHERE{\n",
    "\n",
    "?s wdt:P106 wd:Q49757; \n",
    "   wdt:P19 ?birth;\n",
    "   wdt:P135 wd:Q5977111.\n",
    "   \n",
    "?birth wdt:P17 ?country.\n",
    "\n",
    "?birth wdt:P131* ?city.  #found location\n",
    "?city wdt:P31 ?o.\n",
    "?o wdt:P279 wd:Q515.\n",
    "\n",
    "FILTER( (?country=wd:Q142)||(?country=wd:Q183) )\n",
    "}\n",
    "GROUP BY (?city)\n",
    "ORDER BY DESC(?HowMany)\n",
    "LIMIT 25\n",
    "}\n",
    "#Labels\n",
    "?city <http://schema.org/name> ?cname .\n",
    "}\n",
    "ORDER BY DESC(?HowMany)\n",
    "\"\"\"\n",
    "\n",
    "print(\"Results\")\n",
    "run_query(queryString)"
   ]
  },
  {
   "cell_type": "code",
   "execution_count": 27,
   "id": "db55c66c-5c02-4415-9634-f6fe281e8617",
   "metadata": {},
   "outputs": [
    {
     "name": "stdout",
     "output_type": "stream",
     "text": [
      "Results\n",
      "[('RPoets', '3')]\n"
     ]
    },
    {
     "data": {
      "text/plain": [
       "1"
      ]
     },
     "execution_count": 27,
     "metadata": {},
     "output_type": "execute_result"
    }
   ],
   "source": [
    "#Q81\n",
    "#use only country pattern\n",
    "queryString = \"\"\"\n",
    "SELECT (COUNT(DISTINCT(?s)) AS ?RPoets) WHERE\n",
    "{\n",
    "?s wdt:P106 wd:Q49757; \n",
    "   wdt:P27 ?country;\n",
    "   wdt:P135 wd:Q5977111.\n",
    "   \n",
    "FILTER( (?country=wd:Q142)||(?country=wd:Q183) )\n",
    "}\n",
    "\"\"\"\n",
    "\n",
    "print(\"Results\")\n",
    "run_query(queryString)"
   ]
  },
  {
   "cell_type": "markdown",
   "id": "235f4b55-4e12-4233-8f49-a7b74f73d7e9",
   "metadata": {},
   "source": [
    "Retrieve how many romantic poets are born in France or Germany."
   ]
  },
  {
   "cell_type": "code",
   "execution_count": 28,
   "id": "75aebbbf-6c1c-4471-aee7-c4cf5a5ee750",
   "metadata": {},
   "outputs": [
    {
     "name": "stdout",
     "output_type": "stream",
     "text": [
      "Results\n",
      "[('RPoets', '23')]\n"
     ]
    },
    {
     "data": {
      "text/plain": [
       "1"
      ]
     },
     "execution_count": 28,
     "metadata": {},
     "output_type": "execute_result"
    }
   ],
   "source": [
    "#Q82\n",
    "#use only country pattern + romanticism\n",
    "queryString = \"\"\"\n",
    "SELECT (COUNT(DISTINCT(?s)) AS ?RPoets) WHERE\n",
    "{\n",
    "?s wdt:P106 wd:Q49757; \n",
    "   wdt:P27 ?country;\n",
    "   wdt:P135 wd:Q37068.\n",
    "   \n",
    "FILTER( (?country=wd:Q142)||(?country=wd:Q183) )\n",
    "}\n",
    "\"\"\"\n",
    "\n",
    "print(\"Results\")\n",
    "run_query(queryString)"
   ]
  },
  {
   "cell_type": "markdown",
   "id": "891a9abb-2e1d-4adb-982c-511bbfc271dd",
   "metadata": {},
   "source": [
    "Retrieve the most common movements in France and Germany."
   ]
  },
  {
   "cell_type": "code",
   "execution_count": 30,
   "id": "d7333533-ffc5-4df9-b23f-897246d2f3a3",
   "metadata": {},
   "outputs": [
    {
     "name": "stdout",
     "output_type": "stream",
     "text": [
      "Results\n",
      "[('genre', 'http://www.wikidata.org/entity/Q163775'), ('Poets', '34')]\n",
      "[('genre', 'http://www.wikidata.org/entity/Q9730'), ('Poets', '30')]\n",
      "[('genre', 'http://www.wikidata.org/entity/Q39427'), ('Poets', '30')]\n",
      "[('genre', 'http://www.wikidata.org/entity/Q37068'), ('Poets', '23')]\n",
      "[('genre', 'http://www.wikidata.org/entity/Q164800'), ('Poets', '19')]\n",
      "[('genre', 'http://www.wikidata.org/entity/Q471194'), ('Poets', '19')]\n",
      "[('genre', 'http://www.wikidata.org/entity/Q6034'), ('Poets', '17')]\n",
      "[('genre', 'http://www.wikidata.org/entity/Q876031'), ('Poets', '12')]\n",
      "[('genre', 'http://www.wikidata.org/entity/Q528648'), ('Poets', '11')]\n",
      "[('genre', 'http://www.wikidata.org/entity/Q2455000'), ('Poets', '10')]\n"
     ]
    },
    {
     "data": {
      "text/plain": [
       "10"
      ]
     },
     "execution_count": 30,
     "metadata": {},
     "output_type": "execute_result"
    }
   ],
   "source": [
    "#Q83\n",
    "#search for most common movement in french or german poets\n",
    "queryString = \"\"\"\n",
    "SELECT ?genre (COUNT(DISTINCT(?s)) AS ?Poets) WHERE\n",
    "{\n",
    "?s wdt:P106 wd:Q49757; \n",
    "   wdt:P27 ?country;\n",
    "   wdt:P135 ?genre.\n",
    "   \n",
    "FILTER( (?country=wd:Q142)||(?country=wd:Q183) )\n",
    "}\n",
    "GROUP BY (?genre)\n",
    "ORDER BY DESC(?Poets)\n",
    "LIMIT 10\n",
    "\"\"\"\n",
    "\n",
    "print(\"Results\")\n",
    "run_query(queryString)"
   ]
  },
  {
   "cell_type": "code",
   "execution_count": 31,
   "id": "ad3f20f9-1e33-4c15-b3f9-ffa4624db215",
   "metadata": {},
   "outputs": [
    {
     "name": "stdout",
     "output_type": "stream",
     "text": [
      "Results\n",
      "[('genre', 'http://www.wikidata.org/entity/Q163775'), ('gname', 'medieval music'), ('Poets', '34')]\n",
      "[('genre', 'http://www.wikidata.org/entity/Q39427'), ('gname', 'surrealism'), ('Poets', '30')]\n",
      "[('genre', 'http://www.wikidata.org/entity/Q9730'), ('gname', 'Western classical music'), ('Poets', '30')]\n",
      "[('genre', 'http://www.wikidata.org/entity/Q37068'), ('gname', 'Romanticism'), ('Poets', '23')]\n",
      "[('genre', 'http://www.wikidata.org/entity/Q471194'), ('gname', 'troubadoric poetry'), ('Poets', '19')]\n",
      "[('genre', 'http://www.wikidata.org/entity/Q164800'), ('gname', 'Symbolism'), ('Poets', '19')]\n",
      "[('genre', 'http://www.wikidata.org/entity/Q6034'), ('gname', 'Dada'), ('Poets', '17')]\n",
      "[('genre', 'http://www.wikidata.org/entity/Q876031'), ('gname', 'School of Lyon'), ('Poets', '12')]\n",
      "[('genre', 'http://www.wikidata.org/entity/Q528648'), ('gname', 'La Pléiade'), ('Poets', '11')]\n",
      "[('genre', 'http://www.wikidata.org/entity/Q2455000'), ('gname', 'German Renaissance'), ('Poets', '10')]\n"
     ]
    },
    {
     "data": {
      "text/plain": [
       "10"
      ]
     },
     "execution_count": 31,
     "metadata": {},
     "output_type": "execute_result"
    }
   ],
   "source": [
    "#Q84\n",
    "#get labels\n",
    "queryString = \"\"\"\n",
    "SELECT ?genre ?gname ?Poets WHERE{\n",
    "{\n",
    "SELECT ?genre (COUNT(DISTINCT(?s)) AS ?Poets) WHERE\n",
    "{\n",
    "?s wdt:P106 wd:Q49757; \n",
    "   wdt:P27 ?country;\n",
    "   wdt:P135 ?genre.\n",
    "   \n",
    "FILTER( (?country=wd:Q142)||(?country=wd:Q183) )\n",
    "}\n",
    "GROUP BY (?genre)\n",
    "ORDER BY DESC(?Poets)\n",
    "LIMIT 10\n",
    "}\n",
    "#Labels\n",
    "?genre <http://schema.org/name> ?gname .\n",
    "}\n",
    "ORDER BY DESC(?Poets)\n",
    "\"\"\"\n",
    "\n",
    "print(\"Results\")\n",
    "run_query(queryString)"
   ]
  },
  {
   "cell_type": "markdown",
   "id": "cfa52d34-44a4-459c-8571-c0e818016a78",
   "metadata": {},
   "source": [
    "Retrieve some properties of romantic poets."
   ]
  },
  {
   "cell_type": "code",
   "execution_count": 33,
   "id": "583845b8-fb7a-4319-9640-2fa7a124d38b",
   "metadata": {},
   "outputs": [
    {
     "name": "stdout",
     "output_type": "stream",
     "text": [
      "Results\n",
      "[('p', 'http://www.wikidata.org/prop/direct/P7947'), ('pname', 'WeChangEd ID')]\n",
      "[('p', 'http://www.wikidata.org/prop/direct/P9129'), ('pname', 'Data Collection of the Hungarian Peerage ID')]\n",
      "[('p', 'http://www.wikidata.org/prop/direct/P1003'), ('pname', 'National Library of Romania ID')]\n",
      "[('p', 'http://www.wikidata.org/prop/direct/P1005'), ('pname', 'Portuguese National Library ID')]\n",
      "[('p', 'http://www.wikidata.org/prop/direct/P1006'), ('pname', 'Nationale Thesaurus voor Auteurs ID')]\n",
      "[('p', 'http://www.wikidata.org/prop/direct/P1015'), ('pname', 'NORAF ID')]\n",
      "[('p', 'http://www.wikidata.org/prop/direct/P1017'), ('pname', 'Vatican Library ID (former scheme)')]\n",
      "[('p', 'http://www.wikidata.org/prop/direct/P103'), ('pname', 'native language')]\n",
      "[('p', 'http://www.wikidata.org/prop/direct/P1038'), ('pname', 'relative')]\n",
      "[('p', 'http://www.wikidata.org/prop/direct/P1050'), ('pname', 'medical condition')]\n",
      "[('p', 'http://www.wikidata.org/prop/direct/P106'), ('pname', 'occupation')]\n",
      "[('p', 'http://www.wikidata.org/prop/direct/P108'), ('pname', 'employer')]\n",
      "[('p', 'http://www.wikidata.org/prop/direct/P109'), ('pname', 'signature')]\n",
      "[('p', 'http://www.wikidata.org/prop/direct/P1150'), ('pname', 'Regensburg Classification')]\n",
      "[('p', 'http://www.wikidata.org/prop/direct/P119'), ('pname', 'place of burial')]\n",
      "[('p', 'http://www.wikidata.org/prop/direct/P1207'), ('pname', 'NUKAT ID')]\n",
      "[('p', 'http://www.wikidata.org/prop/direct/P1233'), ('pname', 'Internet Speculative Fiction Database author ID')]\n",
      "[('p', 'http://www.wikidata.org/prop/direct/P1263'), ('pname', 'NNDB people ID')]\n",
      "[('p', 'http://www.wikidata.org/prop/direct/P1266'), ('pname', 'AlloCiné person ID')]\n",
      "[('p', 'http://www.wikidata.org/prop/direct/P1273'), ('pname', 'CANTIC ID')]\n",
      "[('p', 'http://www.wikidata.org/prop/direct/P1280'), ('pname', 'CONOR.SI ID')]\n",
      "[('p', 'http://www.wikidata.org/prop/direct/P1290'), ('pname', 'godparent')]\n",
      "[('p', 'http://www.wikidata.org/prop/direct/P1296'), ('pname', 'Gran Enciclopèdia Catalana ID')]\n",
      "[('p', 'http://www.wikidata.org/prop/direct/P1309'), ('pname', 'EGAXA ID')]\n",
      "[('p', 'http://www.wikidata.org/prop/direct/P1315'), ('pname', 'NLA Trove ID')]\n",
      "[('p', 'http://www.wikidata.org/prop/direct/P1343'), ('pname', 'described by source')]\n",
      "[('p', 'http://www.wikidata.org/prop/direct/P135'), ('pname', 'movement')]\n",
      "[('p', 'http://www.wikidata.org/prop/direct/P136'), ('pname', 'genre')]\n",
      "[('p', 'http://www.wikidata.org/prop/direct/P1368'), ('pname', 'LNB ID')]\n",
      "[('p', 'http://www.wikidata.org/prop/direct/P1375'), ('pname', 'NSK ID')]\n",
      "[('p', 'http://www.wikidata.org/prop/direct/P140'), ('pname', 'religion')]\n",
      "[('p', 'http://www.wikidata.org/prop/direct/P1412'), ('pname', 'languages spoken, written or signed')]\n",
      "[('p', 'http://www.wikidata.org/prop/direct/P1416'), ('pname', 'affiliation')]\n",
      "[('p', 'http://www.wikidata.org/prop/direct/P1417'), ('pname', 'Encyclopædia Britannica Online ID')]\n",
      "[('p', 'http://www.wikidata.org/prop/direct/P1442'), ('pname', 'image of grave')]\n",
      "[('p', 'http://www.wikidata.org/prop/direct/P1472'), ('pname', 'Commons Creator page')]\n",
      "[('p', 'http://www.wikidata.org/prop/direct/P1580'), ('pname', 'University of Barcelona authority ID')]\n",
      "[('p', 'http://www.wikidata.org/prop/direct/P1607'), ('pname', 'Dialnet author ID')]\n",
      "[('p', 'http://www.wikidata.org/prop/direct/P166'), ('pname', 'award received')]\n",
      "[('p', 'http://www.wikidata.org/prop/direct/P1695'), ('pname', 'NLP ID (unique)')]\n",
      "[('p', 'http://www.wikidata.org/prop/direct/P1711'), ('pname', 'British Museum person or institution ID')]\n",
      "[('p', 'http://www.wikidata.org/prop/direct/P172'), ('pname', 'ethnic group')]\n",
      "[('p', 'http://www.wikidata.org/prop/direct/P1741'), ('pname', 'GTAA ID')]\n",
      "[('p', 'http://www.wikidata.org/prop/direct/P18'), ('pname', 'image')]\n",
      "[('p', 'http://www.wikidata.org/prop/direct/P1819'), ('pname', 'genealogics.org person ID')]\n",
      "[('p', 'http://www.wikidata.org/prop/direct/P185'), ('pname', 'doctoral student')]\n",
      "[('p', 'http://www.wikidata.org/prop/direct/P1871'), ('pname', 'CERL Thesaurus ID')]\n",
      "[('p', 'http://www.wikidata.org/prop/direct/P1899'), ('pname', 'LibriVox author ID')]\n",
      "[('p', 'http://www.wikidata.org/prop/direct/P19'), ('pname', 'place of birth')]\n",
      "[('p', 'http://www.wikidata.org/prop/direct/P1938'), ('pname', 'Project Gutenberg author ID')]\n"
     ]
    },
    {
     "data": {
      "text/plain": [
       "50"
      ]
     },
     "execution_count": 33,
     "metadata": {},
     "output_type": "execute_result"
    }
   ],
   "source": [
    "#Q85\n",
    "#get some info about german romantic poets\n",
    "queryString = \"\"\"\n",
    "SELECT DISTINCT ?p ?pname WHERE{\n",
    "\n",
    "?s wdt:P106 wd:Q49757; \n",
    "   wdt:P27 wd:Q183;\n",
    "   wdt:P135 wd:Q37068;\n",
    "   ?p ?o.\n",
    "#Labels\n",
    "?p <http://schema.org/name> ?pname .\n",
    "}\n",
    "LIMIT 50\n",
    "\n",
    "\"\"\"\n",
    "\n",
    "print(\"Results\")\n",
    "run_query(queryString)"
   ]
  },
  {
   "cell_type": "code",
   "execution_count": 35,
   "id": "06361e63-a157-4455-96dd-5693d4ecd31f",
   "metadata": {},
   "outputs": [
    {
     "name": "stdout",
     "output_type": "stream",
     "text": [
      "Results\n",
      "[('award', 'http://www.wikidata.org/entity/Q1260597'), ('aname', 'Droste-Preis')]\n",
      "[('award', 'http://www.wikidata.org/entity/Q1396769'), ('aname', 'Goethe-Medaille für Kunst und Wissenschaft')]\n",
      "[('award', 'http://www.wikidata.org/entity/Q15124418'), ('aname', 'honorary citizen of Munich')]\n",
      "[('award', 'http://www.wikidata.org/entity/Q1534190'), ('aname', 'Goethe Plaque of the City of Frankfurt')]\n",
      "[('award', 'http://www.wikidata.org/entity/Q1595389'), ('aname', 'Thüringer Literaturpreis')]\n",
      "[('award', 'http://www.wikidata.org/entity/Q17484040'), ('aname', 'Order of the Red Eagle 3rd Class')]\n",
      "[('award', 'http://www.wikidata.org/entity/Q18582827'), ('aname', 'Order of the Red Eagle 4th Class')]\n",
      "[('award', 'http://www.wikidata.org/entity/Q519214'), ('aname', 'Nelly Sachs Prize')]\n",
      "[('award', 'http://www.wikidata.org/entity/Q700236'), ('aname', 'German Book Prize')]\n",
      "[('award', 'http://www.wikidata.org/entity/Q43101241'), ('aname', 'Christine Lavant prize')]\n",
      "[('award', 'http://www.wikidata.org/entity/Q17200714'), ('aname', 'Commander of the Order of the Crown')]\n",
      "[('award', 'http://www.wikidata.org/entity/Q10685949'), ('aname', \"Sveriges Radio's Poetry Prize\")]\n",
      "[('award', 'http://www.wikidata.org/entity/Q96609836'), ('aname', 'honorary doctor of the Sapienza University of Rome')]\n",
      "[('award', 'http://www.wikidata.org/entity/Q1861904'), ('aname', 'Commander of the Order of Orange-Nassau')]\n",
      "[('award', 'http://www.wikidata.org/entity/Q10905276'), ('aname', \"Commander's Cross of the Order of Merit of the Federal Republic of Germany\")]\n",
      "[('award', 'http://www.wikidata.org/entity/Q15056034'), ('aname', 'Pour le Mérite for Sciences and Arts')]\n",
      "[('award', 'http://www.wikidata.org/entity/Q15124573'), ('aname', 'honorary citizen of Berlin')]\n",
      "[('award', 'http://www.wikidata.org/entity/Q28861731'), ('aname', 'honorary doctor of the Hebrew University of Jerusalem')]\n",
      "[('award', 'http://www.wikidata.org/entity/Q37922'), ('aname', 'Nobel Prize in Literature')]\n",
      "[('award', 'http://www.wikidata.org/entity/Q38104'), ('aname', 'Nobel Prize in Physics')]\n",
      "[('award', 'http://www.wikidata.org/entity/Q565030'), ('aname', 'Bavarian Maximilian Order for Science and Art')]\n",
      "[('award', 'http://www.wikidata.org/entity/Q672787'), ('aname', 'Bavarian Order of Merit')]\n",
      "[('award', 'http://www.wikidata.org/entity/Q684511'), ('aname', 'Friedrich Order')]\n",
      "[('award', 'http://www.wikidata.org/entity/Q265920'), ('aname', \"Peace Prize of the German Publishers' and Booksellers' Association\")]\n",
      "[('award', 'http://www.wikidata.org/entity/Q10905380'), ('aname', 'Cross of the Order of Merit of the Federal Republic of Germany')]\n",
      "[('award', 'http://www.wikidata.org/entity/Q700368'), ('aname', 'Wilhelm Exner Medal')]\n",
      "[('award', 'http://www.wikidata.org/entity/Q1692160'), ('aname', 'Johann-Heinrich-Voß-Preis für Übersetzung')]\n",
      "[('award', 'http://www.wikidata.org/entity/Q2108431'), ('aname', 'Preis der SWR-Bestenliste')]\n",
      "[('award', 'http://www.wikidata.org/entity/Q478194'), ('aname', 'Leonce-und-Lena-Preis')]\n",
      "[('award', 'http://www.wikidata.org/entity/Q51527076'), ('aname', 'honorary doctorate at the Laval University')]\n",
      "[('award', 'http://www.wikidata.org/entity/Q644621'), ('aname', 'House Order of Hohenzollern')]\n",
      "[('award', 'http://www.wikidata.org/entity/Q68674299'), ('aname', 'honorary doctor of the University of Munich')]\n",
      "[('award', 'http://www.wikidata.org/entity/Q69818926'), ('aname', 'honorary doctor of the University of Tübingen')]\n",
      "[('award', 'http://www.wikidata.org/entity/Q1036635'), ('aname', 'Medal Carl von Ossietzky')]\n",
      "[('award', 'http://www.wikidata.org/entity/Q563216'), ('aname', 'Anna Seghers-Preis')]\n",
      "[('award', 'http://www.wikidata.org/entity/Q1282608'), ('aname', 'Three Physicists Prize')]\n",
      "[('award', 'http://www.wikidata.org/entity/Q1305177'), ('aname', 'Prix Félix-Robin')]\n",
      "[('award', 'http://www.wikidata.org/entity/Q1957671'), ('aname', 'CNRS Gold medal')]\n",
      "[('award', 'http://www.wikidata.org/entity/Q615585'), ('aname', 'Holweck Prize')]\n",
      "[('award', 'http://www.wikidata.org/entity/Q14900499'), ('aname', 'Commander of the Order of Leopold')]\n",
      "[('award', 'http://www.wikidata.org/entity/Q31310'), ('aname', 'Civil Courage Prize')]\n",
      "[('award', 'http://www.wikidata.org/entity/Q523577'), ('aname', 'Villa Massimo')]\n",
      "[('award', 'http://www.wikidata.org/entity/Q11722780'), ('aname', 'South Moravian Region Award')]\n",
      "[('award', 'http://www.wikidata.org/entity/Q118404'), ('aname', 'Geschwister-Scholl-Preis')]\n",
      "[('award', 'http://www.wikidata.org/entity/Q1353569'), ('aname', 'Weilheim Literature Prize')]\n",
      "[('award', 'http://www.wikidata.org/entity/Q1656470'), ('aname', 'Ida-Dehmel-Literaturpreis')]\n",
      "[('award', 'http://www.wikidata.org/entity/Q16974791'), ('aname', 'America Award in Literature')]\n",
      "[('award', 'http://www.wikidata.org/entity/Q1885769'), ('aname', 'Mainzer Stadtschreiber')]\n",
      "[('award', 'http://www.wikidata.org/entity/Q314183'), ('aname', 'Friedrich-Hölderlin-Preis')]\n",
      "[('award', 'http://www.wikidata.org/entity/Q354189'), ('aname', 'Adelbert von Chamisso Prize')]\n"
     ]
    },
    {
     "data": {
      "text/plain": [
       "50"
      ]
     },
     "execution_count": 35,
     "metadata": {},
     "output_type": "execute_result"
    }
   ],
   "source": [
    "#Q86\n",
    "#check awards for german poets\n",
    "queryString = \"\"\"\n",
    "SELECT DISTINCT ?award ?aname WHERE{\n",
    "\n",
    "?s wdt:P106 wd:Q49757; \n",
    "   wdt:P27 wd:Q183;\n",
    "   wdt:P166 ?award.\n",
    "#Labels\n",
    "?award <http://schema.org/name> ?aname .\n",
    "}\n",
    "LIMIT 50\n",
    "\n",
    "\"\"\"\n",
    "\n",
    "print(\"Results\")\n",
    "run_query(queryString)"
   ]
  },
  {
   "cell_type": "markdown",
   "id": "a91b9435-2ec0-447d-908c-7594062a07fb",
   "metadata": {},
   "source": [
    "Retrieve how many german or french poets and writers won the nobel prize."
   ]
  },
  {
   "cell_type": "code",
   "execution_count": 36,
   "id": "aead3fa8-0b1b-4187-b5fe-bf709ea3f1a7",
   "metadata": {},
   "outputs": [
    {
     "name": "stdout",
     "output_type": "stream",
     "text": [
      "Results\n",
      "[('country', 'http://www.wikidata.org/entity/Q142'), ('HowMany', '16')]\n",
      "[('country', 'http://www.wikidata.org/entity/Q183'), ('HowMany', '6')]\n"
     ]
    },
    {
     "data": {
      "text/plain": [
       "2"
      ]
     },
     "execution_count": 36,
     "metadata": {},
     "output_type": "execute_result"
    }
   ],
   "source": [
    "#Q87\n",
    "#check how many german or french poets/writers won the nobel\n",
    "queryString = \"\"\"\n",
    "SELECT ?country (COUNT (DISTINCT ?s) AS ?HowMany) WHERE{\n",
    "\n",
    "?s wdt:P106 ?job; \n",
    "   wdt:P27 ?country;\n",
    "   wdt:P166 wd:Q37922.\n",
    "   \n",
    "FILTER( ( (?country=wd:Q142)||(?country=wd:Q183) ) && ( (?job=wd:Q49757) || (?job=wd:Q36180) ) )\n",
    "}\n",
    "GROUP BY(?country)\n",
    "LIMIT 50\n",
    "\"\"\"\n",
    "\n",
    "print(\"Results\")\n",
    "run_query(queryString)"
   ]
  },
  {
   "cell_type": "markdown",
   "id": "0aa864d1-6856-4e74-8944-8f3958c6e533",
   "metadata": {},
   "source": [
    "Retrieve top three cities for nobel prizes (poets) born there."
   ]
  },
  {
   "cell_type": "code",
   "execution_count": 37,
   "id": "5416c74b-5280-4bd5-bed2-317c5db89178",
   "metadata": {},
   "outputs": [
    {
     "name": "stdout",
     "output_type": "stream",
     "text": [
      "Results\n",
      "[('city', 'http://www.wikidata.org/entity/Q64'), ('cname', 'Berlin'), ('HowMany', '2')]\n",
      "[('city', 'http://www.wikidata.org/entity/Q365'), ('cname', 'Cologne'), ('HowMany', '1')]\n",
      "[('city', 'http://www.wikidata.org/entity/Q487921'), ('cname', 'Calw'), ('HowMany', '1')]\n",
      "[('city', 'http://www.wikidata.org/entity/Q1479'), ('cname', 'Bordeaux'), ('HowMany', '1')]\n"
     ]
    },
    {
     "data": {
      "text/plain": [
       "4"
      ]
     },
     "execution_count": 37,
     "metadata": {},
     "output_type": "execute_result"
    }
   ],
   "source": [
    "#Q88\n",
    "#retrieve top three cities for nobel prizes (poets) born there\n",
    "queryString = \"\"\"\n",
    "SELECT ?city ?cname ?HowMany WHERE\n",
    "{\n",
    "{\n",
    "SELECT ?city (COUNT (DISTINCT ?s) AS ?HowMany)\n",
    "WHERE{\n",
    "\n",
    "?s wdt:P106 wd:Q49757; \n",
    "   wdt:P19 ?birth;\n",
    "   wdt:P166 wd:Q37922.\n",
    "   \n",
    "?birth wdt:P17 ?country.\n",
    "\n",
    "?birth wdt:P131* ?city.  #found location\n",
    "?city wdt:P31 ?o.\n",
    "?o wdt:P279 wd:Q515.\n",
    "\n",
    "FILTER( (?country=wd:Q142)||(?country=wd:Q183) )\n",
    "}\n",
    "GROUP BY (?city)\n",
    "ORDER BY DESC(?HowMany)\n",
    "LIMIT 25\n",
    "}\n",
    "#Labels\n",
    "?city <http://schema.org/name> ?cname .\n",
    "}\n",
    "ORDER BY DESC(?HowMany)\n",
    "\"\"\"\n",
    "\n",
    "print(\"Results\")\n",
    "run_query(queryString)"
   ]
  },
  {
   "cell_type": "code",
   "execution_count": 38,
   "id": "c54f1c1c-ff97-4a84-aaba-dfb1c4db355a",
   "metadata": {},
   "outputs": [
    {
     "name": "stdout",
     "output_type": "stream",
     "text": [
      "Results\n",
      "[('city', 'http://www.wikidata.org/entity/Q64'), ('cname', 'Berlin'), ('HowMany', '2')]\n",
      "[('city', 'http://www.wikidata.org/entity/Q14839'), ('cname', 'Aurich'), ('HowMany', '1')]\n",
      "[('city', 'http://www.wikidata.org/entity/Q172455'), ('cname', 'Boulogne-Billancourt'), ('HowMany', '1')]\n",
      "[('city', 'http://www.wikidata.org/entity/Q27324'), ('cname', 'Garding'), ('HowMany', '1')]\n",
      "[('city', 'http://www.wikidata.org/entity/Q2843'), ('cname', 'Lübeck'), ('HowMany', '1')]\n",
      "[('city', 'http://www.wikidata.org/entity/Q33959'), ('cname', 'Nice'), ('HowMany', '1')]\n",
      "[('city', 'http://www.wikidata.org/entity/Q365'), ('cname', 'Cologne'), ('HowMany', '1')]\n",
      "[('city', 'http://www.wikidata.org/entity/Q487921'), ('cname', 'Calw'), ('HowMany', '1')]\n",
      "[('city', 'http://www.wikidata.org/entity/Q1479'), ('cname', 'Bordeaux'), ('HowMany', '1')]\n"
     ]
    },
    {
     "data": {
      "text/plain": [
       "9"
      ]
     },
     "execution_count": 38,
     "metadata": {},
     "output_type": "execute_result"
    }
   ],
   "source": [
    "#Q89\n",
    "#retrieve top three cities for nobel prizes (poets and writers) born there\n",
    "queryString = \"\"\"\n",
    "SELECT ?city ?cname ?HowMany WHERE\n",
    "{\n",
    "{\n",
    "SELECT ?city (COUNT (DISTINCT ?s) AS ?HowMany)\n",
    "WHERE{\n",
    "\n",
    "?s wdt:P106 ?job; \n",
    "   wdt:P19 ?birth;\n",
    "   wdt:P166 wd:Q37922.\n",
    "   \n",
    "?birth wdt:P17 ?country.\n",
    "\n",
    "?birth wdt:P131* ?city.  #found location\n",
    "?city wdt:P31 ?o.\n",
    "?o wdt:P279 wd:Q515.\n",
    "\n",
    "FILTER( ( (?country=wd:Q142)||(?country=wd:Q183) ) && ( (?job=wd:Q49757) || (?job=wd:Q36180) ) )\n",
    "}\n",
    "GROUP BY (?city)\n",
    "ORDER BY DESC(?HowMany)\n",
    "LIMIT 25\n",
    "}\n",
    "#Labels\n",
    "?city <http://schema.org/name> ?cname .\n",
    "}\n",
    "ORDER BY DESC(?HowMany)\n",
    "\"\"\"\n",
    "\n",
    "print(\"Results\")\n",
    "run_query(queryString)"
   ]
  },
  {
   "cell_type": "markdown",
   "id": "fbcb7ccf-6185-411f-9d75-f4e7313b5bee",
   "metadata": {},
   "source": [
    "Retrieve top three cities for romantic artists born there."
   ]
  },
  {
   "cell_type": "code",
   "execution_count": 39,
   "id": "ee0543c9-f68e-4d19-b7e4-2595f98012ff",
   "metadata": {},
   "outputs": [
    {
     "name": "stdout",
     "output_type": "stream",
     "text": [
      "Results\n",
      "[('city', 'http://www.wikidata.org/entity/Q37776'), ('cname', 'Besançon'), ('HowMany', '4')]\n",
      "[('city', 'http://www.wikidata.org/entity/Q1715'), ('cname', 'Hanover'), ('HowMany', '2')]\n",
      "[('city', 'http://www.wikidata.org/entity/Q365'), ('cname', 'Cologne'), ('HowMany', '2')]\n",
      "[('city', 'http://www.wikidata.org/entity/Q3802'), ('cname', 'Hanau'), ('HowMany', '2')]\n",
      "[('city', 'http://www.wikidata.org/entity/Q64'), ('cname', 'Berlin'), ('HowMany', '2')]\n",
      "[('city', 'http://www.wikidata.org/entity/Q525720'), ('cname', 'Lauffen am Neckar'), ('HowMany', '1')]\n",
      "[('city', 'http://www.wikidata.org/entity/Q3931'), ('cname', 'Brandenburg an der Havel'), ('HowMany', '1')]\n",
      "[('city', 'http://www.wikidata.org/entity/Q697577'), ('cname', 'Arnstein'), ('HowMany', '1')]\n",
      "[('city', 'http://www.wikidata.org/entity/Q1055'), ('cname', 'Hamburg'), ('HowMany', '1')]\n",
      "[('city', 'http://www.wikidata.org/entity/Q1711'), ('cname', 'Potsdam'), ('HowMany', '1')]\n",
      "[('city', 'http://www.wikidata.org/entity/Q1718'), ('cname', 'Düsseldorf'), ('HowMany', '1')]\n",
      "[('city', 'http://www.wikidata.org/entity/Q2865'), ('cname', 'Kassel'), ('HowMany', '1')]\n",
      "[('city', 'http://www.wikidata.org/entity/Q2966'), ('cname', 'Heidelberg'), ('HowMany', '1')]\n",
      "[('city', 'http://www.wikidata.org/entity/Q30974'), ('cname', 'Rouen'), ('HowMany', '1')]\n",
      "[('city', 'http://www.wikidata.org/entity/Q33959'), ('cname', 'Nice'), ('HowMany', '1')]\n",
      "[('city', 'http://www.wikidata.org/entity/Q4037'), ('cname', 'Schwäbisch Gmünd'), ('HowMany', '1')]\n",
      "[('city', 'http://www.wikidata.org/entity/Q42716'), ('cname', 'Saint-Étienne'), ('HowMany', '1')]\n",
      "[('city', 'http://www.wikidata.org/entity/Q622'), ('cname', 'Ludwigsburg'), ('HowMany', '1')]\n",
      "[('city', 'http://www.wikidata.org/entity/Q38380'), ('cname', 'Angers'), ('HowMany', '1')]\n",
      "[('city', 'http://www.wikidata.org/entity/Q1479'), ('cname', 'Bordeaux'), ('HowMany', '1')]\n",
      "[('city', 'http://www.wikidata.org/entity/Q47465'), ('cname', 'Aix-en-Provence'), ('HowMany', '1')]\n",
      "[('city', 'http://www.wikidata.org/entity/Q570114'), ('cname', 'Trebbin'), ('HowMany', '1')]\n"
     ]
    },
    {
     "data": {
      "text/plain": [
       "22"
      ]
     },
     "execution_count": 39,
     "metadata": {},
     "output_type": "execute_result"
    }
   ],
   "source": [
    "#Q89\n",
    "#retrieve top three cities for romantic artists born there\n",
    "queryString = \"\"\"\n",
    "SELECT ?city ?cname ?HowMany WHERE\n",
    "{\n",
    "{\n",
    "SELECT ?city (COUNT (DISTINCT ?s) AS ?HowMany)\n",
    "WHERE{\n",
    "\n",
    "?s wdt:P19 ?birth;\n",
    "   wdt:P135 wd:Q37068.\n",
    "   \n",
    "?birth wdt:P17 ?country.\n",
    "\n",
    "?birth wdt:P131* ?city.  #found location\n",
    "?city wdt:P31 ?o.\n",
    "?o wdt:P279 wd:Q515.\n",
    "\n",
    "FILTER( (?country=wd:Q142)||(?country=wd:Q183) )\n",
    "}\n",
    "GROUP BY (?city)\n",
    "ORDER BY DESC(?HowMany)\n",
    "LIMIT 25\n",
    "}\n",
    "#Labels\n",
    "?city <http://schema.org/name> ?cname .\n",
    "}\n",
    "ORDER BY DESC(?HowMany)\n",
    "\"\"\"\n",
    "\n",
    "print(\"Results\")\n",
    "run_query(queryString)"
   ]
  },
  {
   "cell_type": "markdown",
   "id": "e8a514d9-e309-47fb-a09c-272a5e418e1b",
   "metadata": {},
   "source": [
    "Retrieve top three cities for neoclassic artists born there."
   ]
  },
  {
   "cell_type": "code",
   "execution_count": 40,
   "id": "6c3f4f04-992e-4a23-9a9d-289701e56f46",
   "metadata": {},
   "outputs": [
    {
     "name": "stdout",
     "output_type": "stream",
     "text": [
      "Results\n",
      "[('city', 'http://www.wikidata.org/entity/Q64'), ('cname', 'Berlin'), ('HowMany', '4')]\n",
      "[('city', 'http://www.wikidata.org/entity/Q586'), ('cname', 'Bonn'), ('HowMany', '2')]\n",
      "[('city', 'http://www.wikidata.org/entity/Q648'), ('cname', 'Lille'), ('HowMany', '2')]\n",
      "[('city', 'http://www.wikidata.org/entity/Q7880'), ('cname', 'Toulouse'), ('HowMany', '2')]\n",
      "[('city', 'http://www.wikidata.org/entity/Q3905'), ('cname', 'Gladbeck'), ('HowMany', '1')]\n",
      "[('city', 'http://www.wikidata.org/entity/Q7050'), ('cname', 'Weinheim'), ('HowMany', '1')]\n",
      "[('city', 'http://www.wikidata.org/entity/Q498078'), ('cname', 'Bad Arolsen'), ('HowMany', '1')]\n",
      "[('city', 'http://www.wikidata.org/entity/Q12191'), ('cname', 'Nantes'), ('HowMany', '1')]\n",
      "[('city', 'http://www.wikidata.org/entity/Q2843'), ('cname', 'Lübeck'), ('HowMany', '1')]\n",
      "[('city', 'http://www.wikidata.org/entity/Q30974'), ('cname', 'Rouen'), ('HowMany', '1')]\n",
      "[('city', 'http://www.wikidata.org/entity/Q37776'), ('cname', 'Besançon'), ('HowMany', '1')]\n",
      "[('city', 'http://www.wikidata.org/entity/Q3802'), ('cname', 'Hanau'), ('HowMany', '1')]\n",
      "[('city', 'http://www.wikidata.org/entity/Q38380'), ('cname', 'Angers'), ('HowMany', '1')]\n",
      "[('city', 'http://www.wikidata.org/entity/Q6829'), ('cname', 'Speyer'), ('HowMany', '1')]\n",
      "[('city', 'http://www.wikidata.org/entity/Q7003'), ('cname', 'Dijon'), ('HowMany', '1')]\n",
      "[('city', 'http://www.wikidata.org/entity/Q1479'), ('cname', 'Bordeaux'), ('HowMany', '1')]\n",
      "[('city', 'http://www.wikidata.org/entity/Q47465'), ('cname', 'Aix-en-Provence'), ('HowMany', '1')]\n"
     ]
    },
    {
     "data": {
      "text/plain": [
       "17"
      ]
     },
     "execution_count": 40,
     "metadata": {},
     "output_type": "execute_result"
    }
   ],
   "source": [
    "#Q90\n",
    "#retrieve top three cities for neoclassic artists born there\n",
    "queryString = \"\"\"\n",
    "SELECT ?city ?cname ?HowMany WHERE\n",
    "{\n",
    "{\n",
    "SELECT ?city (COUNT (DISTINCT ?s) AS ?HowMany)\n",
    "WHERE{\n",
    "\n",
    "?s wdt:P19 ?birth;\n",
    "   wdt:P135 wd:Q14378.\n",
    "   \n",
    "?birth wdt:P17 ?country.\n",
    "\n",
    "?birth wdt:P131* ?city.  #found location\n",
    "?city wdt:P31 ?o.\n",
    "?o wdt:P279 wd:Q515.\n",
    "\n",
    "FILTER( (?country=wd:Q142)||(?country=wd:Q183) )\n",
    "}\n",
    "GROUP BY (?city)\n",
    "ORDER BY DESC(?HowMany)\n",
    "LIMIT 25\n",
    "}\n",
    "#Labels\n",
    "?city <http://schema.org/name> ?cname .\n",
    "}\n",
    "ORDER BY DESC(?HowMany)\n",
    "\"\"\"\n",
    "\n",
    "print(\"Results\")\n",
    "run_query(queryString)"
   ]
  },
  {
   "cell_type": "markdown",
   "id": "2f1776d7-df74-4742-bc92-18ac32237b8d",
   "metadata": {},
   "source": [
    "Retrieve top three cities with the highest number of poets buried"
   ]
  },
  {
   "cell_type": "code",
   "execution_count": 41,
   "id": "e2c34686-4f8b-4d5f-a580-31a2b495692a",
   "metadata": {},
   "outputs": [
    {
     "name": "stdout",
     "output_type": "stream",
     "text": [
      "Results\n",
      "[('city', 'http://www.wikidata.org/entity/Q64'), ('cname', 'Berlin'), ('HowMany', '51')]\n",
      "[('city', 'http://www.wikidata.org/entity/Q1726'), ('cname', 'Munich'), ('HowMany', '23')]\n",
      "[('city', 'http://www.wikidata.org/entity/Q1022'), ('cname', 'Stuttgart'), ('HowMany', '16')]\n",
      "[('city', 'http://www.wikidata.org/entity/Q1055'), ('cname', 'Hamburg'), ('HowMany', '14')]\n",
      "[('city', 'http://www.wikidata.org/entity/Q1794'), ('cname', 'Frankfurt am Main'), ('HowMany', '11')]\n",
      "[('city', 'http://www.wikidata.org/entity/Q1731'), ('cname', 'Dresden'), ('HowMany', '10')]\n",
      "[('city', 'http://www.wikidata.org/entity/Q3955'), ('cname', 'Weimar'), ('HowMany', '8')]\n",
      "[('city', 'http://www.wikidata.org/entity/Q1715'), ('cname', 'Hanover'), ('HowMany', '7')]\n",
      "[('city', 'http://www.wikidata.org/entity/Q23482'), ('cname', 'Marseille'), ('HowMany', '5')]\n",
      "[('city', 'http://www.wikidata.org/entity/Q33959'), ('cname', 'Nice'), ('HowMany', '5')]\n",
      "[('city', 'http://www.wikidata.org/entity/Q365'), ('cname', 'Cologne'), ('HowMany', '5')]\n",
      "[('city', 'http://www.wikidata.org/entity/Q586'), ('cname', 'Bonn'), ('HowMany', '5')]\n",
      "[('city', 'http://www.wikidata.org/entity/Q30974'), ('cname', 'Rouen'), ('HowMany', '4')]\n",
      "[('city', 'http://www.wikidata.org/entity/Q6602'), ('cname', 'Strasbourg'), ('HowMany', '4')]\n",
      "[('city', 'http://www.wikidata.org/entity/Q38380'), ('cname', 'Angers'), ('HowMany', '4')]\n",
      "[('city', 'http://www.wikidata.org/entity/Q2079'), ('cname', 'Leipzig'), ('HowMany', '3')]\n",
      "[('city', 'http://www.wikidata.org/entity/Q2090'), ('cname', 'Nuremberg'), ('HowMany', '3')]\n",
      "[('city', 'http://www.wikidata.org/entity/Q2773'), ('cname', 'Brunswick'), ('HowMany', '3')]\n",
      "[('city', 'http://www.wikidata.org/entity/Q2966'), ('cname', 'Heidelberg'), ('HowMany', '3')]\n",
      "[('city', 'http://www.wikidata.org/entity/Q3923'), ('cname', 'Bayreuth'), ('HowMany', '3')]\n",
      "[('city', 'http://www.wikidata.org/entity/Q165140'), ('cname', 'Herrnhut'), ('HowMany', '3')]\n",
      "[('city', 'http://www.wikidata.org/entity/Q2973'), ('cname', 'Darmstadt'), ('HowMany', '2')]\n",
      "[('city', 'http://www.wikidata.org/entity/Q12191'), ('cname', 'Nantes'), ('HowMany', '2')]\n",
      "[('city', 'http://www.wikidata.org/entity/Q42807'), ('cname', 'Nîmes'), ('HowMany', '2')]\n",
      "[('city', 'http://www.wikidata.org/entity/Q316887'), ('cname', 'Saint-Paul'), ('HowMany', '2')]\n"
     ]
    },
    {
     "data": {
      "text/plain": [
       "25"
      ]
     },
     "execution_count": 41,
     "metadata": {},
     "output_type": "execute_result"
    }
   ],
   "source": [
    "#Q91\n",
    "#retrieve top three cities with the highest number of poets buried\n",
    "queryString = \"\"\"\n",
    "SELECT ?city ?cname ?HowMany WHERE\n",
    "{\n",
    "{\n",
    "SELECT ?city (COUNT (DISTINCT ?s) AS ?HowMany)\n",
    "WHERE{\n",
    "\n",
    "?s wdt:P119 ?burial;\n",
    "   wdt:P106 wd:Q49757.\n",
    "   \n",
    "?burial wdt:P17 ?country.\n",
    "\n",
    "?burial wdt:P131* ?city.  #found location\n",
    "?city wdt:P31 ?o.\n",
    "?o wdt:P279 wd:Q515.\n",
    "\n",
    "FILTER( (?country=wd:Q142)||(?country=wd:Q183) )\n",
    "}\n",
    "GROUP BY (?city)\n",
    "ORDER BY DESC(?HowMany)\n",
    "LIMIT 25\n",
    "}\n",
    "#Labels\n",
    "?city <http://schema.org/name> ?cname .\n",
    "}\n",
    "ORDER BY DESC(?HowMany)\n",
    "\"\"\"\n",
    "\n",
    "print(\"Results\")\n",
    "run_query(queryString)"
   ]
  },
  {
   "cell_type": "markdown",
   "id": "603dd2b7-5c8c-421a-b94f-4b91002f1232",
   "metadata": {},
   "source": [
    "<h3> TASK 4.3 ENDS HERE </h3>\n",
    "I think i'd visit Berlin because leads for nobel prize for literature and romantic artists born there, Besancon which instead is first for romantic\n",
    "artist born, and Munich, which is the second \"cemetry\" of german poets."
   ]
  },
  {
   "cell_type": "code",
   "execution_count": null,
   "id": "07e8d206-38ee-41f8-afba-4af4fc425508",
   "metadata": {},
   "outputs": [],
   "source": []
  }
 ],
 "metadata": {
  "kernelspec": {
   "display_name": "Python 3 (ipykernel)",
   "language": "python",
   "name": "python3"
  },
  "language_info": {
   "codemirror_mode": {
    "name": "ipython",
    "version": 3
   },
   "file_extension": ".py",
   "mimetype": "text/x-python",
   "name": "python",
   "nbconvert_exporter": "python",
   "pygments_lexer": "ipython3",
   "version": "3.7.10"
  }
 },
 "nbformat": 4,
 "nbformat_minor": 5
}
