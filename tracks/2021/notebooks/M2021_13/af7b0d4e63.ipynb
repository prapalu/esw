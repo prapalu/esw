{
 "cells": [
  {
   "cell_type": "markdown",
   "id": "7034c3bf-6eb0-4418-8687-7b9d2a501103",
   "metadata": {},
   "source": [
    "# General instructions\n",
    "\n",
    "The goal of the project is to materialize a set of **exploratory workloads** over a real-world, large-scale,  open-domain KG: [WikiData](https://www.wikidata.org/wiki/Wikidata:Main_Page)\n",
    "\n",
    "An exploratory workload  is composed by a set of queries, where each query is related to the information obtained previously.\n",
    "\n",
    "An exploratory workload starts with a usually vague, open ended question, and does not assume the person issuing the workload has a clear understanding of the data contained in the target database or its structure.\n",
    "\n",
    "Remeber that:\n",
    "\n",
    "1. All the queries must run in the python notebook\n",
    "2. You can use classes and properties only if you find them via a SPARQL query that must be present in the notebook\n",
    "3. You do not delete useless queries. Keep everything that is synthatically valid \n",
    "\n",
    "```\n",
    "?p <http://schema.org/name> ?name .\n",
    "```\n",
    "    \n",
    "    is the BGP returning a human-readable name of a property or a class in Wikidata.\n",
    "    \n",
    "    "
   ]
  },
  {
   "cell_type": "code",
   "execution_count": 1,
   "id": "3605c9d5-5371-49a5-be8d-d66e8f417139",
   "metadata": {},
   "outputs": [],
   "source": [
    "## SETUP used later\n",
    "\n",
    "from SPARQLWrapper import SPARQLWrapper, JSON\n",
    "\n",
    "\n",
    "prefixString = \"\"\"\n",
    "##-af7b0d4e63-##\n",
    "PREFIX wd: <http://www.wikidata.org/entity/> \n",
    "PREFIX wdt: <http://www.wikidata.org/prop/direct/> \n",
    "PREFIX sc: <http://schema.org/>\n",
    "\"\"\"\n",
    "\n",
    "# select and construct queries\n",
    "def run_query(queryString):\n",
    "    to_run = prefixString + \"\\n\" + queryString\n",
    "\n",
    "    sparql = SPARQLWrapper(\"http://a256-gc1-02.srv.aau.dk:5820/sparql\")\n",
    "    sparql.setTimeout(300)\n",
    "    sparql.setReturnFormat(JSON)\n",
    "    sparql.setQuery(to_run)\n",
    "\n",
    "    try :\n",
    "       results = sparql.query()\n",
    "       json_results = results.convert()\n",
    "       if len(json_results['results']['bindings'])==0:\n",
    "          print(\"Empty\")\n",
    "          return 0\n",
    "    \n",
    "       for bindings in json_results['results']['bindings']:\n",
    "          print( [ (var, value['value'])  for var, value in bindings.items() ] )\n",
    "\n",
    "       return len(json_results['results']['bindings'])\n",
    "\n",
    "    except Exception as e :\n",
    "        print(\"The operation failed\", e)\n",
    "    \n",
    "# ASk queries\n",
    "def run_ask_query(queryString):\n",
    "    to_run = prefixString + \"\\n\" + queryString\n",
    "\n",
    "    sparql = SPARQLWrapper(\"http://a256-gc1-02.srv.aau.dk:5820/sparql\")\n",
    "    sparql.setTimeout(300)\n",
    "    sparql.setReturnFormat(JSON)\n",
    "    sparql.setQuery(to_run)\n",
    "\n",
    "    try :\n",
    "        return sparql.query().convert()\n",
    "\n",
    "    except Exception as e :\n",
    "        print(\"The operation failed\", e)"
   ]
  },
  {
   "cell_type": "markdown",
   "id": "d477a59c-a68c-4c8f-9f97-8ca5294d7d27",
   "metadata": {},
   "source": [
    "# Movie Workflow Series (\"Horror Franchises explorative search\") \n",
    "\n",
    "Consider the following exploratory scenario:\n",
    "\n",
    "\n",
    "> we are interested in horror movies, in particular we care about the slasher subgenre, and we want to compare the Halloween and the Friday the 13th francise. \n",
    "\n",
    "Background knowledge useful for better conducting the search: Halloween is a movie from 1978 with many sequels and the set of Halloween + all the sequels is called the \"Halloween franchise\". The same considerations hold for Friday the 13th.\n",
    "\n",
    "\n",
    "## Useful URIs for the current workflow\n",
    "The following are given:\n",
    "\n",
    "| IRI           | Description   | Role      |\n",
    "| -----------   | -----------   |-----------|\n",
    "| `wdt:P1647`   | subproperty   | predicate |\n",
    "| `wdt:P31`     | instance of   | predicate |\n",
    "| `wdt:P106`    | profession    | predicate | \n",
    "| `wdt:P279`    | subclass      | predicate |\n",
    "| `wd:Q221103`     | Halloween       | node |\n",
    "| `wd:Q1243029`| Friday the 13th       | node |\n",
    "\n",
    "\n",
    "\n",
    "\n",
    "\n",
    "Also consider\n",
    "\n",
    "```\n",
    "wd:Q1243029 ?p ?obj .\n",
    "```\n",
    "\n",
    "is the BGP to retrieve all **properties of Friday the 13th**\n",
    "\n",
    "The workload should\n",
    "\n",
    "\n",
    "1. Investigate the workers of the two original movies and check any commonality \n",
    "\n",
    "2. Check who was the most famous actor/actress on Halloween and Friday the 13th at the time of the release (e.g., the actor/actress who acted in more movies before and/or the actor/actress who won more academy awards)\n",
    "\n",
    "3. Check which actor/actress did more movies after the release of these two films (consider the films separately)\n",
    "\n",
    "4. Get all the movies of the two franchises (return year and director)\n",
    "\n",
    "5. Who is most involved in a franchise (who did something in the movies, e.g., writer, director, producer)? \n",
    "\n",
    "6. Investigate which franchise is highly regarded by the critics overall\n",
    "\n",
    "7. Investigate which franchise costed more "
   ]
  },
  {
   "cell_type": "code",
   "execution_count": 1,
   "id": "24a853ab-830c-422c-afd3-e9e015b8b8ed",
   "metadata": {},
   "outputs": [],
   "source": [
    "# start your workflow here"
   ]
  },
  {
   "cell_type": "code",
   "execution_count": 2,
   "id": "ade01416-92e7-4ad7-b9a9-b8fb330750dc",
   "metadata": {
    "collapsed": true,
    "jupyter": {
     "outputs_hidden": true
    },
    "tags": []
   },
   "outputs": [
    {
     "name": "stdout",
     "output_type": "stream",
     "text": [
      "Results\n",
      "[('p', 'http://www.w3.org/1999/02/22-rdf-syntax-ns#type'), ('obj', 'http://wikiba.se/ontology#Item')]\n",
      "[('p', 'http://www.wikidata.org/prop/direct-normalized/P244'), ('obj', 'https://id.loc.gov/authorities/names/no98033420')]\n",
      "[('p', 'http://www.wikidata.org/prop/direct-normalized/P3212'), ('obj', 'urn:isan:0000-0000-31EA-0000-G-0000-0000-Q')]\n",
      "[('p', 'http://www.wikidata.org/prop/direct-normalized/P4276'), ('obj', 'https://data.cinematheque.qc.ca/data/Work1467')]\n",
      "[('p', 'http://www.wikidata.org/prop/direct-normalized/P646'), ('obj', 'http://g.co/kg/m/016mng')]\n",
      "[('p', 'http://www.wikidata.org/prop/direct/P1237'), ('obj', 'friday13th')]\n",
      "[('p', 'http://www.wikidata.org/prop/direct/P1258'), ('obj', 'm/friday_the_13th_part_1')]\n",
      "[('p', 'http://www.wikidata.org/prop/direct/P1265'), ('obj', '505')]\n",
      "[('p', 'http://www.wikidata.org/prop/direct/P136'), ('obj', 'http://www.wikidata.org/entity/Q1067324')]\n",
      "[('p', 'http://www.wikidata.org/prop/direct/P136'), ('obj', 'http://www.wikidata.org/entity/Q1200678')]\n",
      "[('p', 'http://www.wikidata.org/prop/direct/P136'), ('obj', 'http://www.wikidata.org/entity/Q853630')]\n",
      "[('p', 'http://www.wikidata.org/prop/direct/P136'), ('obj', 'http://www.wikidata.org/entity/Q909586')]\n",
      "[('p', 'http://www.wikidata.org/prop/direct/P1411'), ('obj', 'http://www.wikidata.org/entity/Q1780634')]\n",
      "[('p', 'http://www.wikidata.org/prop/direct/P1411'), ('obj', 'http://www.wikidata.org/entity/Q977915')]\n",
      "[('p', 'http://www.wikidata.org/prop/direct/P1476'), ('obj', 'Friday the 13th')]\n",
      "[('p', 'http://www.wikidata.org/prop/direct/P156'), ('obj', 'http://www.wikidata.org/entity/Q1243009')]\n",
      "[('p', 'http://www.wikidata.org/prop/direct/P1562'), ('obj', 'v18658')]\n",
      "[('p', 'http://www.wikidata.org/prop/direct/P161'), ('obj', 'http://www.wikidata.org/entity/Q2440012')]\n",
      "[('p', 'http://www.wikidata.org/prop/direct/P161'), ('obj', 'http://www.wikidata.org/entity/Q263765')]\n",
      "[('p', 'http://www.wikidata.org/prop/direct/P161'), ('obj', 'http://www.wikidata.org/entity/Q3428829')]\n",
      "[('p', 'http://www.wikidata.org/prop/direct/P161'), ('obj', 'http://www.wikidata.org/entity/Q3434272')]\n",
      "[('p', 'http://www.wikidata.org/prop/direct/P161'), ('obj', 'http://www.wikidata.org/entity/Q3454165')]\n",
      "[('p', 'http://www.wikidata.org/prop/direct/P161'), ('obj', 'http://www.wikidata.org/entity/Q13218111')]\n",
      "[('p', 'http://www.wikidata.org/prop/direct/P161'), ('obj', 'http://www.wikidata.org/entity/Q2570201')]\n",
      "[('p', 'http://www.wikidata.org/prop/direct/P161'), ('obj', 'http://www.wikidata.org/entity/Q3047636')]\n",
      "[('p', 'http://www.wikidata.org/prop/direct/P161'), ('obj', 'http://www.wikidata.org/entity/Q524486')]\n",
      "[('p', 'http://www.wikidata.org/prop/direct/P162'), ('obj', 'http://www.wikidata.org/entity/Q709325')]\n",
      "[('p', 'http://www.wikidata.org/prop/direct/P1712'), ('obj', 'movie/friday-the-13th-1980')]\n",
      "[('p', 'http://www.wikidata.org/prop/direct/P175'), ('obj', 'http://www.wikidata.org/entity/Q664025')]\n",
      "[('p', 'http://www.wikidata.org/prop/direct/P179'), ('obj', 'http://www.wikidata.org/entity/Q1138878')]\n",
      "[('p', 'http://www.wikidata.org/prop/direct/P18'), ('obj', 'http://commons.wikimedia.org/wiki/Special:FilePath/Friday%20the%2013th%20%281980%29%20film%20logo.png')]\n",
      "[('p', 'http://www.wikidata.org/prop/direct/P1804'), ('obj', '1319')]\n",
      "[('p', 'http://www.wikidata.org/prop/direct/P1874'), ('obj', '525111')]\n",
      "[('p', 'http://www.wikidata.org/prop/direct/P1889'), ('obj', 'http://www.wikidata.org/entity/Q1454815')]\n",
      "[('p', 'http://www.wikidata.org/prop/direct/P1970'), ('obj', '1191')]\n",
      "[('p', 'http://www.wikidata.org/prop/direct/P2047'), ('obj', '91')]\n",
      "[('p', 'http://www.wikidata.org/prop/direct/P2061'), ('obj', 'http://www.wikidata.org/entity/Q752245')]\n",
      "[('p', 'http://www.wikidata.org/prop/direct/P2334'), ('obj', '7782')]\n",
      "[('p', 'http://www.wikidata.org/prop/direct/P2346'), ('obj', '133662')]\n",
      "[('p', 'http://www.wikidata.org/prop/direct/P244'), ('obj', 'no98033420')]\n",
      "[('p', 'http://www.wikidata.org/prop/direct/P2465'), ('obj', '10511')]\n",
      "[('p', 'http://www.wikidata.org/prop/direct/P2508'), ('obj', '4386')]\n",
      "[('p', 'http://www.wikidata.org/prop/direct/P2509'), ('obj', 'mv4378')]\n",
      "[('p', 'http://www.wikidata.org/prop/direct/P2518'), ('obj', '1265')]\n",
      "[('p', 'http://www.wikidata.org/prop/direct/P2529'), ('obj', '23053')]\n",
      "[('p', 'http://www.wikidata.org/prop/direct/P2603'), ('obj', '23922')]\n",
      "[('p', 'http://www.wikidata.org/prop/direct/P2631'), ('obj', '17974')]\n",
      "[('p', 'http://www.wikidata.org/prop/direct/P2638'), ('obj', 'movies/friday-the-13th-1980')]\n",
      "[('p', 'http://www.wikidata.org/prop/direct/P2704'), ('obj', '10.5240/7544-6FCA-F299-ECD8-BE4D-A')]\n",
      "[('p', 'http://www.wikidata.org/prop/direct/P272'), ('obj', 'http://www.wikidata.org/entity/Q159846')]\n",
      "[('p', 'http://www.wikidata.org/prop/direct/P2747'), ('obj', 'http://www.wikidata.org/entity/Q23830579')]\n",
      "[('p', 'http://www.wikidata.org/prop/direct/P2755'), ('obj', '52986')]\n",
      "[('p', 'http://www.wikidata.org/prop/direct/P2758'), ('obj', 'http://www.wikidata.org/entity/Q23817741')]\n",
      "[('p', 'http://www.wikidata.org/prop/direct/P3077'), ('obj', '18183')]\n",
      "[('p', 'http://www.wikidata.org/prop/direct/P31'), ('obj', 'http://www.wikidata.org/entity/Q11424')]\n",
      "[('p', 'http://www.wikidata.org/prop/direct/P3107'), ('obj', '25470')]\n",
      "[('p', 'http://www.wikidata.org/prop/direct/P3129'), ('obj', '651006')]\n",
      "[('p', 'http://www.wikidata.org/prop/direct/P3138'), ('obj', '53')]\n",
      "[('p', 'http://www.wikidata.org/prop/direct/P3141'), ('obj', 't0003232')]\n",
      "[('p', 'http://www.wikidata.org/prop/direct/P3143'), ('obj', '80561')]\n",
      "[('p', 'http://www.wikidata.org/prop/direct/P3203'), ('obj', '54093')]\n",
      "[('p', 'http://www.wikidata.org/prop/direct/P3212'), ('obj', '0000-0000-31EA-0000-G-0000-0000-Q')]\n",
      "[('p', 'http://www.wikidata.org/prop/direct/P3302'), ('obj', '4488')]\n",
      "[('p', 'http://www.wikidata.org/prop/direct/P344'), ('obj', 'http://www.wikidata.org/entity/Q4863956')]\n",
      "[('p', 'http://www.wikidata.org/prop/direct/P345'), ('obj', 'tt0080761')]\n",
      "[('p', 'http://www.wikidata.org/prop/direct/P3593'), ('obj', '56417')]\n",
      "[('p', 'http://www.wikidata.org/prop/direct/P364'), ('obj', 'http://www.wikidata.org/entity/Q1860')]\n",
      "[('p', 'http://www.wikidata.org/prop/direct/P3804'), ('obj', '123800')]\n",
      "[('p', 'http://www.wikidata.org/prop/direct/P3808'), ('obj', 'Friday-the-13th')]\n",
      "[('p', 'http://www.wikidata.org/prop/direct/P3844'), ('obj', '1142')]\n",
      "[('p', 'http://www.wikidata.org/prop/direct/P3933'), ('obj', '1294128')]\n",
      "[('p', 'http://www.wikidata.org/prop/direct/P4276'), ('obj', '1467')]\n",
      "[('p', 'http://www.wikidata.org/prop/direct/P4282'), ('obj', '13638')]\n",
      "[('p', 'http://www.wikidata.org/prop/direct/P437'), ('obj', 'http://www.wikidata.org/entity/Q723685')]\n",
      "[('p', 'http://www.wikidata.org/prop/direct/P4529'), ('obj', '1293143')]\n",
      "[('p', 'http://www.wikidata.org/prop/direct/P462'), ('obj', 'http://www.wikidata.org/entity/Q22006653')]\n",
      "[('p', 'http://www.wikidata.org/prop/direct/P4632'), ('obj', '4569')]\n",
      "[('p', 'http://www.wikidata.org/prop/direct/P4665'), ('obj', '6056')]\n",
      "[('p', 'http://www.wikidata.org/prop/direct/P480'), ('obj', '265349')]\n",
      "[('p', 'http://www.wikidata.org/prop/direct/P4947'), ('obj', '4488')]\n",
      "[('p', 'http://www.wikidata.org/prop/direct/P495'), ('obj', 'http://www.wikidata.org/entity/Q30')]\n",
      "[('p', 'http://www.wikidata.org/prop/direct/P4969'), ('obj', 'http://www.wikidata.org/entity/Q1454815')]\n",
      "[('p', 'http://www.wikidata.org/prop/direct/P5021'), ('obj', 'http://www.wikidata.org/entity/Q4165246')]\n",
      "[('p', 'http://www.wikidata.org/prop/direct/P5032'), ('obj', '8684')]\n",
      "[('p', 'http://www.wikidata.org/prop/direct/P5099'), ('obj', 'film/venerdi13')]\n",
      "[('p', 'http://www.wikidata.org/prop/direct/P5693'), ('obj', '93065')]\n",
      "[('p', 'http://www.wikidata.org/prop/direct/P57'), ('obj', 'http://www.wikidata.org/entity/Q709325')]\n",
      "[('p', 'http://www.wikidata.org/prop/direct/P577'), ('obj', '1980-05-09T00:00:00Z')]\n",
      "[('p', 'http://www.wikidata.org/prop/direct/P577'), ('obj', '1980-10-23T00:00:00Z')]\n",
      "[('p', 'http://www.wikidata.org/prop/direct/P577'), ('obj', '1980-11-10T00:00:00Z')]\n",
      "[('p', 'http://www.wikidata.org/prop/direct/P5786'), ('obj', 'freitag-der-13')]\n",
      "[('p', 'http://www.wikidata.org/prop/direct/P58'), ('obj', 'http://www.wikidata.org/entity/Q7926158')]\n",
      "[('p', 'http://www.wikidata.org/prop/direct/P5905'), ('obj', '4025-275')]\n",
      "[('p', 'http://www.wikidata.org/prop/direct/P6127'), ('obj', 'friday-the-13th')]\n",
      "[('p', 'http://www.wikidata.org/prop/direct/P6262'), ('obj', 'movies:Friday_the_13th_(1980)')]\n",
      "[('p', 'http://www.wikidata.org/prop/direct/P6262'), ('obj', 'the80smovies:Friday_the_13th')]\n",
      "[('p', 'http://www.wikidata.org/prop/direct/P6398'), ('obj', '305332580')]\n",
      "[('p', 'http://www.wikidata.org/prop/direct/P6398'), ('obj', '312028305')]\n",
      "[('p', 'http://www.wikidata.org/prop/direct/P646'), ('obj', '/m/016mng')]\n",
      "[('p', 'http://www.wikidata.org/prop/direct/P6562'), ('obj', '-er1PNqRLiI')]\n",
      "[('p', 'http://www.wikidata.org/prop/direct/P674'), ('obj', 'http://www.wikidata.org/entity/Q2576457')]\n",
      "[('p', 'http://www.wikidata.org/prop/direct/P674'), ('obj', 'http://www.wikidata.org/entity/Q366957')]\n",
      "[('p', 'http://www.wikidata.org/prop/direct/P750'), ('obj', 'http://www.wikidata.org/entity/Q80948336')]\n",
      "[('p', 'http://www.wikidata.org/prop/direct/P750'), ('obj', 'http://www.wikidata.org/entity/Q907311')]\n",
      "[('p', 'http://www.wikidata.org/prop/direct/P750'), ('obj', 'http://www.wikidata.org/entity/Q159846')]\n",
      "[('p', 'http://www.wikidata.org/prop/direct/P7970'), ('obj', '1MV59a10bc8835dfb67d1a4a2bf5428a03b')]\n",
      "[('p', 'http://www.wikidata.org/prop/direct/P8033'), ('obj', 'friday-the-13th-m100051176')]\n",
      "[('p', 'http://www.wikidata.org/prop/direct/P840'), ('obj', 'http://www.wikidata.org/entity/Q1408')]\n",
      "[('p', 'http://www.wikidata.org/prop/direct/P856'), ('obj', 'http://www.fridaythe13thfilms.com')]\n",
      "[('p', 'http://www.wikidata.org/prop/direct/P86'), ('obj', 'http://www.wikidata.org/entity/Q664025')]\n",
      "[('p', 'http://www.wikidata.org/prop/direct/P905'), ('obj', '7021')]\n",
      "[('p', 'http://www.wikidata.org/prop/direct/P915'), ('obj', 'http://www.wikidata.org/entity/Q1408')]\n",
      "[('p', 'http://www.wikidata.org/prop/direct/P9586'), ('obj', 'umc.cmc.4cny06c1e312h2mfd2utrtve2')]\n",
      "[('p', 'http://schema.org/name'), ('obj', 'Friday the 13th')]\n",
      "[('p', 'http://www.wikidata.org/prop/direct/P2554'), ('obj', 'http://www.wikidata.org/entity/Q450964')]\n",
      "[('p', 'http://www.wikidata.org/prop/direct/P4277'), ('obj', '10178')]\n",
      "[('p', 'http://www.wikidata.org/prop/direct/P7975'), ('obj', '1283')]\n",
      "[('p', 'http://www.wikidata.org/prop/direct/P6466'), ('obj', '98dc6b45-4478-4877-8316-acc3c7f6ae94')]\n"
     ]
    },
    {
     "data": {
      "text/plain": [
       "118"
      ]
     },
     "execution_count": 2,
     "metadata": {},
     "output_type": "execute_result"
    }
   ],
   "source": [
    "queryString = \"\"\"\n",
    "SELECT *\n",
    "WHERE { \n",
    "\n",
    "wd:Q1243029 ?p ?obj .\n",
    "} \n",
    "\"\"\"\n",
    "\n",
    "print(\"Results\")\n",
    "run_query(queryString)"
   ]
  },
  {
   "cell_type": "markdown",
   "id": "396b000a-6f5a-45df-bcf0-d5872807c4cb",
   "metadata": {},
   "source": [
    "<h3> TASK 1 STARTS HERE </h3>\n",
    "Investigate the workers of the two original movies and check any commonality."
   ]
  },
  {
   "cell_type": "markdown",
   "id": "beca8b26-e6dc-46e7-82e0-4bcd0e97ba82",
   "metadata": {},
   "source": [
    "Retrieve some properties of Friday 13th."
   ]
  },
  {
   "cell_type": "code",
   "execution_count": 5,
   "id": "98de2997-a65c-4315-9e44-420a321f0669",
   "metadata": {
    "collapsed": true,
    "jupyter": {
     "outputs_hidden": true
    },
    "tags": []
   },
   "outputs": [
    {
     "name": "stdout",
     "output_type": "stream",
     "text": [
      "Results\n",
      "[('p', 'http://www.wikidata.org/prop/direct/P1237'), ('pname', 'Box Office Mojo film ID (former scheme)')]\n",
      "[('p', 'http://www.wikidata.org/prop/direct/P1258'), ('pname', 'Rotten Tomatoes ID')]\n",
      "[('p', 'http://www.wikidata.org/prop/direct/P1265'), ('pname', 'AlloCiné film ID')]\n",
      "[('p', 'http://www.wikidata.org/prop/direct/P136'), ('pname', 'genre')]\n",
      "[('p', 'http://www.wikidata.org/prop/direct/P1411'), ('pname', 'nominated for')]\n",
      "[('p', 'http://www.wikidata.org/prop/direct/P1476'), ('pname', 'title')]\n",
      "[('p', 'http://www.wikidata.org/prop/direct/P156'), ('pname', 'followed by')]\n",
      "[('p', 'http://www.wikidata.org/prop/direct/P1562'), ('pname', 'AllMovie title ID')]\n",
      "[('p', 'http://www.wikidata.org/prop/direct/P161'), ('pname', 'cast member')]\n",
      "[('p', 'http://www.wikidata.org/prop/direct/P162'), ('pname', 'producer')]\n",
      "[('p', 'http://www.wikidata.org/prop/direct/P1712'), ('pname', 'Metacritic ID')]\n",
      "[('p', 'http://www.wikidata.org/prop/direct/P175'), ('pname', 'performer')]\n",
      "[('p', 'http://www.wikidata.org/prop/direct/P179'), ('pname', 'part of the series')]\n",
      "[('p', 'http://www.wikidata.org/prop/direct/P18'), ('pname', 'image')]\n",
      "[('p', 'http://www.wikidata.org/prop/direct/P1804'), ('pname', 'DNF film ID')]\n",
      "[('p', 'http://www.wikidata.org/prop/direct/P1874'), ('pname', 'Netflix ID')]\n",
      "[('p', 'http://www.wikidata.org/prop/direct/P1889'), ('pname', 'different from')]\n",
      "[('p', 'http://www.wikidata.org/prop/direct/P1970'), ('pname', 'MovieMeter film ID')]\n",
      "[('p', 'http://www.wikidata.org/prop/direct/P2047'), ('pname', 'duration')]\n",
      "[('p', 'http://www.wikidata.org/prop/direct/P2061'), ('pname', 'aspect ratio')]\n",
      "[('p', 'http://www.wikidata.org/prop/direct/P2334'), ('pname', 'Swedish Film Database film ID')]\n",
      "[('p', 'http://www.wikidata.org/prop/direct/P2346'), ('pname', 'Elonet movie ID')]\n",
      "[('p', 'http://www.wikidata.org/prop/direct/P244'), ('pname', 'Library of Congress authority ID')]\n",
      "[('p', 'http://www.wikidata.org/prop/direct/P2465'), ('pname', 'Allcinema film ID')]\n",
      "[('p', 'http://www.wikidata.org/prop/direct/P2508'), ('pname', 'KINENOTE film ID')]\n",
      "[('p', 'http://www.wikidata.org/prop/direct/P2509'), ('pname', 'Movie Walker film ID')]\n",
      "[('p', 'http://www.wikidata.org/prop/direct/P2518'), ('pname', 'Scope.dk film ID')]\n",
      "[('p', 'http://www.wikidata.org/prop/direct/P2529'), ('pname', 'ČSFD film ID')]\n",
      "[('p', 'http://www.wikidata.org/prop/direct/P2603'), ('pname', 'Kinopoisk film ID')]\n",
      "[('p', 'http://www.wikidata.org/prop/direct/P2631'), ('pname', 'TCM Movie Database film ID')]\n",
      "[('p', 'http://www.wikidata.org/prop/direct/P2638'), ('pname', 'TV.com ID')]\n",
      "[('p', 'http://www.wikidata.org/prop/direct/P2704'), ('pname', 'EIDR content ID')]\n",
      "[('p', 'http://www.wikidata.org/prop/direct/P272'), ('pname', 'production company')]\n",
      "[('p', 'http://www.wikidata.org/prop/direct/P2747'), ('pname', 'Filmiroda rating')]\n",
      "[('p', 'http://www.wikidata.org/prop/direct/P2755'), ('pname', 'exploitation visa number')]\n",
      "[('p', 'http://www.wikidata.org/prop/direct/P2758'), ('pname', 'CNC film rating (France)')]\n",
      "[('p', 'http://www.wikidata.org/prop/direct/P3077'), ('pname', 'Cineplex Germany film ID')]\n",
      "[('p', 'http://www.wikidata.org/prop/direct/P31'), ('pname', 'instance of')]\n",
      "[('p', 'http://www.wikidata.org/prop/direct/P3107'), ('pname', 'LdiF ID')]\n",
      "[('p', 'http://www.wikidata.org/prop/direct/P3129'), ('pname', 'cine.gr film ID')]\n",
      "[('p', 'http://www.wikidata.org/prop/direct/P3138'), ('pname', 'OFDb film ID')]\n",
      "[('p', 'http://www.wikidata.org/prop/direct/P3141'), ('pname', 'EDb film ID')]\n",
      "[('p', 'http://www.wikidata.org/prop/direct/P3143'), ('pname', 'elFilm film ID')]\n",
      "[('p', 'http://www.wikidata.org/prop/direct/P3203'), ('pname', 'Ciné-Ressources film ID')]\n",
      "[('p', 'http://www.wikidata.org/prop/direct/P3212'), ('pname', 'ISAN')]\n",
      "[('p', 'http://www.wikidata.org/prop/direct/P3302'), ('pname', 'Open Media Database film ID')]\n",
      "[('p', 'http://www.wikidata.org/prop/direct/P344'), ('pname', 'director of photography')]\n",
      "[('p', 'http://www.wikidata.org/prop/direct/P345'), ('pname', 'IMDb ID')]\n",
      "[('p', 'http://www.wikidata.org/prop/direct/P3593'), ('pname', 'AFI Catalog of Feature Films ID')]\n",
      "[('p', 'http://www.wikidata.org/prop/direct/P364'), ('pname', 'original language of film or TV show')]\n",
      "[('p', 'http://www.wikidata.org/prop/direct/P3804'), ('pname', 'TV Guide show ID (former scheme)')]\n",
      "[('p', 'http://www.wikidata.org/prop/direct/P3808'), ('pname', 'The Numbers movie ID')]\n",
      "[('p', 'http://www.wikidata.org/prop/direct/P3844'), ('pname', 'Deutsche Synchronkartei film ID')]\n",
      "[('p', 'http://www.wikidata.org/prop/direct/P3933'), ('pname', 'Cinema.de ID')]\n",
      "[('p', 'http://www.wikidata.org/prop/direct/P4276'), ('pname', 'Cinémathèque québécoise work identifier')]\n",
      "[('p', 'http://www.wikidata.org/prop/direct/P4282'), ('pname', 'LUMIERE film ID')]\n",
      "[('p', 'http://www.wikidata.org/prop/direct/P437'), ('pname', 'distribution format')]\n",
      "[('p', 'http://www.wikidata.org/prop/direct/P4529'), ('pname', 'Douban film ID')]\n",
      "[('p', 'http://www.wikidata.org/prop/direct/P462'), ('pname', 'color')]\n",
      "[('p', 'http://www.wikidata.org/prop/direct/P4632'), ('pname', 'Bechdel Test Movie List ID')]\n",
      "[('p', 'http://www.wikidata.org/prop/direct/P4665'), ('pname', 'CineMagia title ID')]\n",
      "[('p', 'http://www.wikidata.org/prop/direct/P480'), ('pname', 'FilmAffinity ID')]\n",
      "[('p', 'http://www.wikidata.org/prop/direct/P4947'), ('pname', 'TMDb movie ID')]\n",
      "[('p', 'http://www.wikidata.org/prop/direct/P495'), ('pname', 'country of origin')]\n",
      "[('p', 'http://www.wikidata.org/prop/direct/P4969'), ('pname', 'derivative work')]\n",
      "[('p', 'http://www.wikidata.org/prop/direct/P5021'), ('pname', 'assessment')]\n",
      "[('p', 'http://www.wikidata.org/prop/direct/P5032'), ('pname', 'Filmweb.pl film ID')]\n",
      "[('p', 'http://www.wikidata.org/prop/direct/P5099'), ('pname', 'Il mondo dei doppiatori ID')]\n",
      "[('p', 'http://www.wikidata.org/prop/direct/P5693'), ('pname', 'Fandango film ID')]\n",
      "[('p', 'http://www.wikidata.org/prop/direct/P57'), ('pname', 'director')]\n",
      "[('p', 'http://www.wikidata.org/prop/direct/P577'), ('pname', 'publication date')]\n",
      "[('p', 'http://www.wikidata.org/prop/direct/P5786'), ('pname', 'Moviepilot.de film ID')]\n",
      "[('p', 'http://www.wikidata.org/prop/direct/P58'), ('pname', 'screenwriter')]\n",
      "[('p', 'http://www.wikidata.org/prop/direct/P5905'), ('pname', 'Comic Vine ID')]\n",
      "[('p', 'http://www.wikidata.org/prop/direct/P6127'), ('pname', 'Letterboxd film ID')]\n",
      "[('p', 'http://www.wikidata.org/prop/direct/P6262'), ('pname', 'Fandom article ID')]\n",
      "[('p', 'http://www.wikidata.org/prop/direct/P6398'), ('pname', 'iTunes movie ID')]\n",
      "[('p', 'http://www.wikidata.org/prop/direct/P646'), ('pname', 'Freebase ID')]\n",
      "[('p', 'http://www.wikidata.org/prop/direct/P6562'), ('pname', 'Google Play Movies & TV ID')]\n",
      "[('p', 'http://www.wikidata.org/prop/direct/P674'), ('pname', 'characters')]\n",
      "[('p', 'http://www.wikidata.org/prop/direct/P750'), ('pname', 'distributed by')]\n",
      "[('p', 'http://www.wikidata.org/prop/direct/P7970'), ('pname', 'FandangoNow ID')]\n",
      "[('p', 'http://www.wikidata.org/prop/direct/P8033'), ('pname', 'Movie Review Query Engine ID')]\n",
      "[('p', 'http://www.wikidata.org/prop/direct/P840'), ('pname', 'narrative location')]\n",
      "[('p', 'http://www.wikidata.org/prop/direct/P856'), ('pname', 'official website')]\n",
      "[('p', 'http://www.wikidata.org/prop/direct/P86'), ('pname', 'composer')]\n",
      "[('p', 'http://www.wikidata.org/prop/direct/P905'), ('pname', 'PORT film ID')]\n",
      "[('p', 'http://www.wikidata.org/prop/direct/P915'), ('pname', 'filming location')]\n",
      "[('p', 'http://www.wikidata.org/prop/direct/P9586'), ('pname', 'Apple TV movie ID')]\n",
      "[('p', 'http://www.wikidata.org/prop/direct/P2554'), ('pname', 'production designer')]\n",
      "[('p', 'http://www.wikidata.org/prop/direct/P4277'), ('pname', 'Daum movie ID')]\n",
      "[('p', 'http://www.wikidata.org/prop/direct/P7975'), ('pname', 'Filmfront film ID')]\n",
      "[('p', 'http://www.wikidata.org/prop/direct/P6466'), ('pname', 'Hulu movie ID')]\n"
     ]
    },
    {
     "data": {
      "text/plain": [
       "93"
      ]
     },
     "execution_count": 5,
     "metadata": {},
     "output_type": "execute_result"
    }
   ],
   "source": [
    "#Q1\n",
    "#get labels\n",
    "queryString = \"\"\"\n",
    "SELECT DISTINCT ?p ?pname\n",
    "WHERE { \n",
    "\n",
    "wd:Q1243029 ?p ?obj .\n",
    "\n",
    "#Labels\n",
    "?p <http://schema.org/name> ?pname .\n",
    "} \n",
    "\"\"\"\n",
    "\n",
    "print(\"Results\")\n",
    "run_query(queryString)"
   ]
  },
  {
   "cell_type": "markdown",
   "id": "027b2283-6769-46fc-84ec-3d3975f21276",
   "metadata": {},
   "source": [
    "In the resultset above I found the following interesting properties: P161 cast member, P162 producer, P175 performer, P272 production company, P344 director of photography\n",
    "P57 director, P58 screenwriter, P86 composer, P2554 production designer. Retrieve the cast of Fridat 13th."
   ]
  },
  {
   "cell_type": "code",
   "execution_count": 6,
   "id": "f40d55f7-e77f-41ea-aafa-9018b6d2a89a",
   "metadata": {},
   "outputs": [
    {
     "name": "stdout",
     "output_type": "stream",
     "text": [
      "Results\n",
      "[('cast', 'http://www.wikidata.org/entity/Q2440012')]\n",
      "[('cast', 'http://www.wikidata.org/entity/Q263765')]\n",
      "[('cast', 'http://www.wikidata.org/entity/Q3428829')]\n",
      "[('cast', 'http://www.wikidata.org/entity/Q3434272')]\n",
      "[('cast', 'http://www.wikidata.org/entity/Q3454165')]\n",
      "[('cast', 'http://www.wikidata.org/entity/Q13218111')]\n",
      "[('cast', 'http://www.wikidata.org/entity/Q2570201')]\n",
      "[('cast', 'http://www.wikidata.org/entity/Q3047636')]\n",
      "[('cast', 'http://www.wikidata.org/entity/Q524486')]\n"
     ]
    },
    {
     "data": {
      "text/plain": [
       "9"
      ]
     },
     "execution_count": 6,
     "metadata": {},
     "output_type": "execute_result"
    }
   ],
   "source": [
    "#Q2\n",
    "#useful predicates found above: P161 cast member, P162 producer, P175 performer, P272 production company, P344 director of photography\n",
    "#P57 director, P58 screenwriter, P86 composer, P2554 production designer\n",
    "#retrieve Friday 13th cast\n",
    "queryString = \"\"\"\n",
    "SELECT *\n",
    "WHERE { \n",
    "\n",
    "wd:Q1243029 wdt:P161 ?cast.\n",
    "} \n",
    "\"\"\"\n",
    "\n",
    "print(\"Results\")\n",
    "run_query(queryString)"
   ]
  },
  {
   "cell_type": "markdown",
   "id": "d1be12f2-38c7-4e80-875e-99fc5e6028a8",
   "metadata": {},
   "source": [
    "Retrieve other workers such as producer, composer, director."
   ]
  },
  {
   "cell_type": "code",
   "execution_count": 7,
   "id": "f09199f9-466b-4eda-bcbc-8df5e409bcda",
   "metadata": {},
   "outputs": [
    {
     "name": "stdout",
     "output_type": "stream",
     "text": [
      "Results\n",
      "[('producer', 'http://www.wikidata.org/entity/Q709325'), ('performer', 'http://www.wikidata.org/entity/Q664025'), ('pdir', 'http://www.wikidata.org/entity/Q4863956'), ('dir', 'http://www.wikidata.org/entity/Q709325'), ('swr', 'http://www.wikidata.org/entity/Q7926158'), ('composer', 'http://www.wikidata.org/entity/Q664025'), ('prod', 'http://www.wikidata.org/entity/Q450964')]\n"
     ]
    },
    {
     "data": {
      "text/plain": [
       "1"
      ]
     },
     "execution_count": 7,
     "metadata": {},
     "output_type": "execute_result"
    }
   ],
   "source": [
    "#Q3\n",
    "#other workers of friday 13th\n",
    "queryString = \"\"\"\n",
    "SELECT *\n",
    "WHERE { \n",
    "\n",
    "wd:Q1243029 wdt:P162 ?producer;\n",
    "            wdt:P175 ?performer;\n",
    "            wdt:P344 ?pdir;\n",
    "            wdt:P57 ?dir;\n",
    "            wdt:P58 ?swr;\n",
    "            wdt:P86 ?composer;\n",
    "            wdt:P2554 ?prod.\n",
    "} \n",
    "\"\"\"\n",
    "\n",
    "print(\"Results\")\n",
    "run_query(queryString)"
   ]
  },
  {
   "cell_type": "markdown",
   "id": "c34ab93d-6d3e-4326-9356-44c013b9d12f",
   "metadata": {},
   "source": [
    "Check if some actors acted in both films."
   ]
  },
  {
   "cell_type": "code",
   "execution_count": 8,
   "id": "ffc8e45d-b59a-47f3-aded-ecabd76f9b9f",
   "metadata": {},
   "outputs": [
    {
     "name": "stdout",
     "output_type": "stream",
     "text": [
      "Results\n",
      "Empty\n"
     ]
    },
    {
     "data": {
      "text/plain": [
       "0"
      ]
     },
     "execution_count": 8,
     "metadata": {},
     "output_type": "execute_result"
    }
   ],
   "source": [
    "#Q4\n",
    "#check if some actor acted in both films\n",
    "queryString = \"\"\"\n",
    "SELECT *\n",
    "WHERE { \n",
    "\n",
    "wd:Q1243029 wdt:P161 ?cast.\n",
    "wd:Q221103 wdt:P161 ?cast.\n",
    "} \n",
    "\"\"\"\n",
    "\n",
    "print(\"Results\")\n",
    "run_query(queryString)"
   ]
  },
  {
   "cell_type": "markdown",
   "id": "5733392b-1c0f-4b34-9756-3bbb1e12f0ba",
   "metadata": {},
   "source": [
    "Retrieve some predicates of the director of Friday 13th."
   ]
  },
  {
   "cell_type": "code",
   "execution_count": 10,
   "id": "75380ad2-488d-43b7-adbe-f892a120ab3c",
   "metadata": {
    "collapsed": true,
    "jupyter": {
     "outputs_hidden": true
    },
    "tags": []
   },
   "outputs": [
    {
     "name": "stdout",
     "output_type": "stream",
     "text": [
      "Results\n",
      "[('p', 'http://www.wikidata.org/prop/direct/P1006'), ('pname', 'Nationale Thesaurus voor Auteurs ID')]\n",
      "[('p', 'http://www.wikidata.org/prop/direct/P106'), ('pname', 'occupation')]\n",
      "[('p', 'http://www.wikidata.org/prop/direct/P1266'), ('pname', 'AlloCiné person ID')]\n",
      "[('p', 'http://www.wikidata.org/prop/direct/P1280'), ('pname', 'CONOR.SI ID')]\n",
      "[('p', 'http://www.wikidata.org/prop/direct/P1343'), ('pname', 'described by source')]\n",
      "[('p', 'http://www.wikidata.org/prop/direct/P1411'), ('pname', 'nominated for')]\n",
      "[('p', 'http://www.wikidata.org/prop/direct/P1412'), ('pname', 'languages spoken, written or signed')]\n",
      "[('p', 'http://www.wikidata.org/prop/direct/P18'), ('pname', 'image')]\n",
      "[('p', 'http://www.wikidata.org/prop/direct/P19'), ('pname', 'place of birth')]\n",
      "[('p', 'http://www.wikidata.org/prop/direct/P1969'), ('pname', 'MovieMeter director ID (former scheme)')]\n",
      "[('p', 'http://www.wikidata.org/prop/direct/P2019'), ('pname', 'AllMovie person ID')]\n",
      "[('p', 'http://www.wikidata.org/prop/direct/P21'), ('pname', 'sex or gender')]\n",
      "[('p', 'http://www.wikidata.org/prop/direct/P213'), ('pname', 'ISNI')]\n",
      "[('p', 'http://www.wikidata.org/prop/direct/P214'), ('pname', 'VIAF ID')]\n",
      "[('p', 'http://www.wikidata.org/prop/direct/P2168'), ('pname', 'Swedish Film Database person ID')]\n",
      "[('p', 'http://www.wikidata.org/prop/direct/P227'), ('pname', 'GND ID')]\n",
      "[('p', 'http://www.wikidata.org/prop/direct/P2387'), ('pname', 'Elonet person ID')]\n",
      "[('p', 'http://www.wikidata.org/prop/direct/P2435'), ('pname', 'PORT person ID')]\n",
      "[('p', 'http://www.wikidata.org/prop/direct/P244'), ('pname', 'Library of Congress authority ID')]\n",
      "[('p', 'http://www.wikidata.org/prop/direct/P2519'), ('pname', 'Scope.dk person ID')]\n",
      "[('p', 'http://www.wikidata.org/prop/direct/P2604'), ('pname', 'Kinopoisk person ID')]\n",
      "[('p', 'http://www.wikidata.org/prop/direct/P2605'), ('pname', 'ČSFD person ID')]\n",
      "[('p', 'http://www.wikidata.org/prop/direct/P2626'), ('pname', 'Danish National Filmography person ID')]\n",
      "[('p', 'http://www.wikidata.org/prop/direct/P268'), ('pname', 'Bibliothèque nationale de France ID')]\n",
      "[('p', 'http://www.wikidata.org/prop/direct/P269'), ('pname', 'IdRef ID')]\n",
      "[('p', 'http://www.wikidata.org/prop/direct/P27'), ('pname', 'country of citizenship')]\n",
      "[('p', 'http://www.wikidata.org/prop/direct/P31'), ('pname', 'instance of')]\n",
      "[('p', 'http://www.wikidata.org/prop/direct/P3305'), ('pname', 'KINENOTE person ID')]\n",
      "[('p', 'http://www.wikidata.org/prop/direct/P3430'), ('pname', 'SNAC ARK ID')]\n",
      "[('p', 'http://www.wikidata.org/prop/direct/P345'), ('pname', 'IMDb ID')]\n",
      "[('p', 'http://www.wikidata.org/prop/direct/P373'), ('pname', 'Commons category')]\n",
      "[('p', 'http://www.wikidata.org/prop/direct/P4985'), ('pname', 'TMDb person ID')]\n",
      "[('p', 'http://www.wikidata.org/prop/direct/P5034'), ('pname', 'National Library of Korea ID')]\n",
      "[('p', 'http://www.wikidata.org/prop/direct/P5534'), ('pname', 'Open Media Database person ID')]\n",
      "[('p', 'http://www.wikidata.org/prop/direct/P5617'), ('pname', 'Evene ID')]\n",
      "[('p', 'http://www.wikidata.org/prop/direct/P569'), ('pname', 'date of birth')]\n",
      "[('p', 'http://www.wikidata.org/prop/direct/P6379'), ('pname', 'has works in the collection')]\n",
      "[('p', 'http://www.wikidata.org/prop/direct/P646'), ('pname', 'Freebase ID')]\n",
      "[('p', 'http://www.wikidata.org/prop/direct/P69'), ('pname', 'educated at')]\n",
      "[('p', 'http://www.wikidata.org/prop/direct/P691'), ('pname', 'NKCR AUT ID')]\n",
      "[('p', 'http://www.wikidata.org/prop/direct/P7084'), ('pname', 'related category')]\n",
      "[('p', 'http://www.wikidata.org/prop/direct/P7214'), ('pname', 'Allcinema person ID')]\n",
      "[('p', 'http://www.wikidata.org/prop/direct/P7293'), ('pname', 'PLWABN ID')]\n",
      "[('p', 'http://www.wikidata.org/prop/direct/P734'), ('pname', 'family name')]\n",
      "[('p', 'http://www.wikidata.org/prop/direct/P735'), ('pname', 'given name')]\n",
      "[('p', 'http://www.wikidata.org/prop/direct/P7763'), ('pname', 'copyright status as a creator')]\n",
      "[('p', 'http://www.wikidata.org/prop/direct/P7859'), ('pname', 'WorldCat Identities ID')]\n",
      "[('p', 'http://www.wikidata.org/prop/direct/P8971'), ('pname', 'Cinémathèque québécoise person ID')]\n",
      "[('p', 'http://www.wikidata.org/prop/direct/P9404'), ('pname', 'OFDb person ID')]\n",
      "[('p', 'http://www.wikidata.org/prop/direct/P950'), ('pname', 'Biblioteca Nacional de España ID')]\n"
     ]
    },
    {
     "data": {
      "text/plain": [
       "50"
      ]
     },
     "execution_count": 10,
     "metadata": {},
     "output_type": "execute_result"
    }
   ],
   "source": [
    "#Q5\n",
    "#check some predicates related to director\n",
    "queryString = \"\"\"\n",
    "SELECT DISTINCT ?p ?pname\n",
    "WHERE { \n",
    "\n",
    "wd:Q1243029 wdt:P57 ?dir.\n",
    "?dir ?p ?o.\n",
    "\n",
    "#Labels\n",
    "?p <http://schema.org/name> ?pname .\n",
    "} \n",
    "LIMIT 100\n",
    "\"\"\"\n",
    "\n",
    "print(\"Results\")\n",
    "run_query(queryString)"
   ]
  },
  {
   "cell_type": "markdown",
   "id": "6f925c12-1bb5-444e-971a-62ad7c68afdc",
   "metadata": {},
   "source": [
    "Retrieve for each country, how many workers of Friday 13th are from there."
   ]
  },
  {
   "cell_type": "code",
   "execution_count": 11,
   "id": "2df9a0c7-303a-4056-a36a-47d77abe56ff",
   "metadata": {},
   "outputs": [
    {
     "name": "stdout",
     "output_type": "stream",
     "text": [
      "Results\n",
      "[('country', 'http://www.wikidata.org/entity/Q30'), ('howMany', '13')]\n",
      "[('country', 'http://www.wikidata.org/entity/Q145'), ('howMany', '1')]\n"
     ]
    },
    {
     "data": {
      "text/plain": [
       "2"
      ]
     },
     "execution_count": 11,
     "metadata": {},
     "output_type": "execute_result"
    }
   ],
   "source": [
    "#Q6\n",
    "#country distrubution for friday 13th workers\n",
    "queryString = \"\"\"\n",
    "SELECT ?country (COUNT(DISTINCT ?o) AS ?howMany)\n",
    "{  wd:Q1243029 ?p ?o.\n",
    "   ?o wdt:P27 ?country.\n",
    "   VALUES ?p {wdt:P161 wdt:P162 wdt:P175 wdt:P344 wdt:P57 wdt:P58 wdt:P86 wdt:P2554}\n",
    "}\n",
    "GROUP BY (?country)\n",
    "\"\"\"\n",
    "print(\"Results\")\n",
    "run_query(queryString)"
   ]
  },
  {
   "cell_type": "markdown",
   "id": "be71d7dc-8a1f-4d8f-9569-d20bece0e97e",
   "metadata": {},
   "source": [
    "Same but for Halloween."
   ]
  },
  {
   "cell_type": "code",
   "execution_count": 12,
   "id": "673f3e28-91e8-4b06-bc01-27ab7a666b18",
   "metadata": {},
   "outputs": [
    {
     "name": "stdout",
     "output_type": "stream",
     "text": [
      "Results\n",
      "[('country', 'http://www.wikidata.org/entity/Q30'), ('howMany', '16')]\n",
      "[('country', 'http://www.wikidata.org/entity/Q858'), ('howMany', '1')]\n",
      "[('country', 'http://www.wikidata.org/entity/Q142'), ('howMany', '1')]\n",
      "[('country', 'http://www.wikidata.org/entity/Q145'), ('howMany', '1')]\n"
     ]
    },
    {
     "data": {
      "text/plain": [
       "4"
      ]
     },
     "execution_count": 12,
     "metadata": {},
     "output_type": "execute_result"
    }
   ],
   "source": [
    "#Q7\n",
    "#country distrubution for hallowen workers\n",
    "queryString = \"\"\"\n",
    "SELECT ?country (COUNT(DISTINCT ?o) AS ?howMany)\n",
    "{  wd:Q221103 ?p ?o.\n",
    "   ?o wdt:P27 ?country.\n",
    "   VALUES ?p {wdt:P161 wdt:P162 wdt:P175 wdt:P344 wdt:P57 wdt:P58 wdt:P86 wdt:P2554}\n",
    "}\n",
    "GROUP BY (?country)\n",
    "\"\"\"\n",
    "print(\"Results\")\n",
    "run_query(queryString)"
   ]
  },
  {
   "cell_type": "markdown",
   "id": "876e1cae-6608-46e3-ac0f-07bdbd643e14",
   "metadata": {},
   "source": [
    "Both casts almost are made of american actors. Retrieve how many workers have been nominated for an award for each film."
   ]
  },
  {
   "cell_type": "code",
   "execution_count": 39,
   "id": "0dac952b-3f97-4ab5-a742-74427ccbca4e",
   "metadata": {},
   "outputs": [
    {
     "name": "stdout",
     "output_type": "stream",
     "text": [
      "Results\n",
      "[('film', 'http://www.wikidata.org/entity/Q221103'), ('howMany', '3')]\n",
      "[('film', 'http://www.wikidata.org/entity/Q1243029'), ('howMany', '2')]\n"
     ]
    },
    {
     "data": {
      "text/plain": [
       "2"
      ]
     },
     "execution_count": 39,
     "metadata": {},
     "output_type": "execute_result"
    }
   ],
   "source": [
    "#cast sizes are similar, also almost every worker is from Q30\n",
    "#Q8\n",
    "#how many workers for each film were nomitated for some awards(using P1411 found in Q5)\n",
    "queryString = \"\"\"\n",
    "SELECT ?film (COUNT(DISTINCT ?o) AS ?howMany)\n",
    "{  ?film ?p ?o.\n",
    "   ?o wdt:P1411 ?award.\n",
    "   VALUES ?film {wd:Q221103 wd:Q1243029}\n",
    "   VALUES ?p {wdt:P161 wdt:P162 wdt:P175 wdt:P344 wdt:P57 wdt:P58 wdt:P86 wdt:P2554}\n",
    "}\n",
    "GROUP BY (?film)\n",
    "\"\"\"\n",
    "print(\"Results\")\n",
    "run_query(queryString)"
   ]
  },
  {
   "cell_type": "markdown",
   "id": "28f3d6ab-d5da-484c-a1b2-832e4ffab524",
   "metadata": {},
   "source": [
    "Compute how many men and women were involved in the production of Halloween."
   ]
  },
  {
   "cell_type": "code",
   "execution_count": 14,
   "id": "f836ea1b-35aa-4e56-9d0e-1964a4dd9d39",
   "metadata": {},
   "outputs": [
    {
     "name": "stdout",
     "output_type": "stream",
     "text": [
      "Results\n",
      "[('gender', 'http://www.wikidata.org/entity/Q6581097'), ('howMany', '16')]\n",
      "[('gender', 'http://www.wikidata.org/entity/Q6581072'), ('howMany', '7')]\n"
     ]
    },
    {
     "data": {
      "text/plain": [
       "2"
      ]
     },
     "execution_count": 14,
     "metadata": {},
     "output_type": "execute_result"
    }
   ],
   "source": [
    "#Q9\n",
    "#count gender\n",
    "queryString = \"\"\"\n",
    "SELECT ?gender (COUNT(?o) AS ?howMany)\n",
    "{  wd:Q221103 ?p ?o.\n",
    "   ?o wdt:P21 ?gender.\n",
    "   VALUES ?p {wdt:P161 wdt:P162 wdt:P175 wdt:P344 wdt:P57 wdt:P58 wdt:P86 wdt:P2554}\n",
    "}\n",
    "GROUP BY (?gender)\n",
    "\"\"\"\n",
    "print(\"Results\")\n",
    "run_query(queryString)"
   ]
  },
  {
   "cell_type": "markdown",
   "id": "945e3762-b775-4c11-bc9f-3f0629fdb3aa",
   "metadata": {},
   "source": [
    "Same but for Friday 13th."
   ]
  },
  {
   "cell_type": "code",
   "execution_count": 15,
   "id": "deb79168-7cd9-45fe-a5d2-d0653b2f9970",
   "metadata": {},
   "outputs": [
    {
     "name": "stdout",
     "output_type": "stream",
     "text": [
      "Results\n",
      "[('gender', 'http://www.wikidata.org/entity/Q6581097'), ('howMany', '10')]\n",
      "[('gender', 'http://www.wikidata.org/entity/Q6581072'), ('howMany', '6')]\n"
     ]
    },
    {
     "data": {
      "text/plain": [
       "2"
      ]
     },
     "execution_count": 15,
     "metadata": {},
     "output_type": "execute_result"
    }
   ],
   "source": [
    "#Q10\n",
    "#count gender\n",
    "queryString = \"\"\"\n",
    "SELECT ?gender (COUNT(?o) AS ?howMany)\n",
    "{  wd:Q1243029 ?p ?o.\n",
    "   ?o wdt:P21 ?gender.\n",
    "   VALUES ?p {wdt:P161 wdt:P162 wdt:P175 wdt:P344 wdt:P57 wdt:P58 wdt:P86 wdt:P2554}\n",
    "}\n",
    "GROUP BY (?gender)\n",
    "\"\"\"\n",
    "print(\"Results\")\n",
    "run_query(queryString)"
   ]
  },
  {
   "cell_type": "markdown",
   "id": "43163727-ab6a-4c3c-99e3-7fd24b633ac7",
   "metadata": {},
   "source": [
    "<h3> TASK 1 ENDS HERE </h3>\n",
    "I did a comparison between the two casts and i found out that they have similar sizes, both are almost made of american workers.\n",
    "Also in both cases there are more men than women. On top of that the Halloween workers have on more actor who was nomitated to some awards."
   ]
  },
  {
   "cell_type": "markdown",
   "id": "3f9a60a4-ddc4-4784-b481-b8f6953eb650",
   "metadata": {},
   "source": [
    "<h3> TASK 2 STARTS HERE </h3>\n",
    "Check who was the most famous actor/actress on Halloween and Friday the 13th at the time of the release. "
   ]
  },
  {
   "cell_type": "markdown",
   "id": "bb729e6c-e852-4479-a04c-81d87c20817c",
   "metadata": {},
   "source": [
    "Retrieve some actors' predicates."
   ]
  },
  {
   "cell_type": "code",
   "execution_count": 19,
   "id": "0337ab20-8d8b-472f-80de-1e9f1cfad58b",
   "metadata": {
    "collapsed": true,
    "jupyter": {
     "outputs_hidden": true
    },
    "tags": []
   },
   "outputs": [
    {
     "name": "stdout",
     "output_type": "stream",
     "text": [
      "Results\n",
      "[('p', 'http://www.wikidata.org/prop/direct/P1006'), ('pname', 'Nationale Thesaurus voor Auteurs ID')]\n",
      "[('p', 'http://www.wikidata.org/prop/direct/P1015'), ('pname', 'NORAF ID')]\n",
      "[('p', 'http://www.wikidata.org/prop/direct/P106'), ('pname', 'occupation')]\n",
      "[('p', 'http://www.wikidata.org/prop/direct/P1196'), ('pname', 'manner of death')]\n",
      "[('p', 'http://www.wikidata.org/prop/direct/P1207'), ('pname', 'NUKAT ID')]\n",
      "[('p', 'http://www.wikidata.org/prop/direct/P1220'), ('pname', 'Internet Broadway Database person ID')]\n",
      "[('p', 'http://www.wikidata.org/prop/direct/P1258'), ('pname', 'Rotten Tomatoes ID')]\n",
      "[('p', 'http://www.wikidata.org/prop/direct/P1263'), ('pname', 'NNDB people ID')]\n",
      "[('p', 'http://www.wikidata.org/prop/direct/P1266'), ('pname', 'AlloCiné person ID')]\n",
      "[('p', 'http://www.wikidata.org/prop/direct/P1280'), ('pname', 'CONOR.SI ID')]\n",
      "[('p', 'http://www.wikidata.org/prop/direct/P1283'), ('pname', 'filmography')]\n",
      "[('p', 'http://www.wikidata.org/prop/direct/P1284'), ('pname', 'Munzinger person ID')]\n",
      "[('p', 'http://www.wikidata.org/prop/direct/P1303'), ('pname', 'instrument')]\n",
      "[('p', 'http://www.wikidata.org/prop/direct/P1315'), ('pname', 'NLA Trove ID')]\n",
      "[('p', 'http://www.wikidata.org/prop/direct/P1343'), ('pname', 'described by source')]\n",
      "[('p', 'http://www.wikidata.org/prop/direct/P136'), ('pname', 'genre')]\n",
      "[('p', 'http://www.wikidata.org/prop/direct/P1368'), ('pname', 'LNB ID')]\n",
      "[('p', 'http://www.wikidata.org/prop/direct/P140'), ('pname', 'religion')]\n",
      "[('p', 'http://www.wikidata.org/prop/direct/P1411'), ('pname', 'nominated for')]\n",
      "[('p', 'http://www.wikidata.org/prop/direct/P1412'), ('pname', 'languages spoken, written or signed')]\n",
      "[('p', 'http://www.wikidata.org/prop/direct/P1553'), ('pname', 'Yandex Music artist ID')]\n",
      "[('p', 'http://www.wikidata.org/prop/direct/P1559'), ('pname', 'name in native language')]\n",
      "[('p', 'http://www.wikidata.org/prop/direct/P1649'), ('pname', 'KMDb person ID')]\n",
      "[('p', 'http://www.wikidata.org/prop/direct/P166'), ('pname', 'award received')]\n",
      "[('p', 'http://www.wikidata.org/prop/direct/P1695'), ('pname', 'NLP ID (unique)')]\n",
      "[('p', 'http://www.wikidata.org/prop/direct/P1741'), ('pname', 'GTAA ID')]\n",
      "[('p', 'http://www.wikidata.org/prop/direct/P18'), ('pname', 'image')]\n",
      "[('p', 'http://www.wikidata.org/prop/direct/P1819'), ('pname', 'genealogics.org person ID')]\n",
      "[('p', 'http://www.wikidata.org/prop/direct/P19'), ('pname', 'place of birth')]\n",
      "[('p', 'http://www.wikidata.org/prop/direct/P1953'), ('pname', 'Discogs artist ID')]\n",
      "[('p', 'http://www.wikidata.org/prop/direct/P1969'), ('pname', 'MovieMeter director ID (former scheme)')]\n",
      "[('p', 'http://www.wikidata.org/prop/direct/P1971'), ('pname', 'number of children')]\n",
      "[('p', 'http://www.wikidata.org/prop/direct/P20'), ('pname', 'place of death')]\n",
      "[('p', 'http://www.wikidata.org/prop/direct/P2002'), ('pname', 'Twitter username')]\n",
      "[('p', 'http://www.wikidata.org/prop/direct/P2003'), ('pname', 'Instagram username')]\n",
      "[('p', 'http://www.wikidata.org/prop/direct/P2013'), ('pname', 'Facebook ID')]\n",
      "[('p', 'http://www.wikidata.org/prop/direct/P2019'), ('pname', 'AllMovie person ID')]\n",
      "[('p', 'http://www.wikidata.org/prop/direct/P2031'), ('pname', 'work period (start)')]\n",
      "[('p', 'http://www.wikidata.org/prop/direct/P21'), ('pname', 'sex or gender')]\n",
      "[('p', 'http://www.wikidata.org/prop/direct/P213'), ('pname', 'ISNI')]\n",
      "[('p', 'http://www.wikidata.org/prop/direct/P214'), ('pname', 'VIAF ID')]\n",
      "[('p', 'http://www.wikidata.org/prop/direct/P2163'), ('pname', 'FAST ID')]\n",
      "[('p', 'http://www.wikidata.org/prop/direct/P2168'), ('pname', 'Swedish Film Database person ID')]\n",
      "[('p', 'http://www.wikidata.org/prop/direct/P22'), ('pname', 'father')]\n",
      "[('p', 'http://www.wikidata.org/prop/direct/P227'), ('pname', 'GND ID')]\n",
      "[('p', 'http://www.wikidata.org/prop/direct/P2387'), ('pname', 'Elonet person ID')]\n",
      "[('p', 'http://www.wikidata.org/prop/direct/P2435'), ('pname', 'PORT person ID')]\n",
      "[('p', 'http://www.wikidata.org/prop/direct/P244'), ('pname', 'Library of Congress authority ID')]\n",
      "[('p', 'http://www.wikidata.org/prop/direct/P25'), ('pname', 'mother')]\n",
      "[('p', 'http://www.wikidata.org/prop/direct/P2519'), ('pname', 'Scope.dk person ID')]\n",
      "[('p', 'http://www.wikidata.org/prop/direct/P26'), ('pname', 'spouse')]\n",
      "[('p', 'http://www.wikidata.org/prop/direct/P2600'), ('pname', 'Geni.com profile ID')]\n",
      "[('p', 'http://www.wikidata.org/prop/direct/P2604'), ('pname', 'Kinopoisk person ID')]\n",
      "[('p', 'http://www.wikidata.org/prop/direct/P2605'), ('pname', 'ČSFD person ID')]\n",
      "[('p', 'http://www.wikidata.org/prop/direct/P2626'), ('pname', 'Danish National Filmography person ID')]\n",
      "[('p', 'http://www.wikidata.org/prop/direct/P2638'), ('pname', 'TV.com ID')]\n",
      "[('p', 'http://www.wikidata.org/prop/direct/P268'), ('pname', 'Bibliothèque nationale de France ID')]\n",
      "[('p', 'http://www.wikidata.org/prop/direct/P2688'), ('pname', 'Box Office Mojo person ID')]\n",
      "[('p', 'http://www.wikidata.org/prop/direct/P269'), ('pname', 'IdRef ID')]\n",
      "[('p', 'http://www.wikidata.org/prop/direct/P27'), ('pname', 'country of citizenship')]\n",
      "[('p', 'http://www.wikidata.org/prop/direct/P2949'), ('pname', 'WikiTree person ID')]\n",
      "[('p', 'http://www.wikidata.org/prop/direct/P3051'), ('pname', 'Kindred Britain ID')]\n",
      "[('p', 'http://www.wikidata.org/prop/direct/P3056'), ('pname', 'TCM Movie Database person ID')]\n",
      "[('p', 'http://www.wikidata.org/prop/direct/P3065'), ('pname', 'RERO ID')]\n",
      "[('p', 'http://www.wikidata.org/prop/direct/P31'), ('pname', 'instance of')]\n",
      "[('p', 'http://www.wikidata.org/prop/direct/P3136'), ('pname', 'elCinema person ID')]\n",
      "[('p', 'http://www.wikidata.org/prop/direct/P3142'), ('pname', 'EDb person ID')]\n",
      "[('p', 'http://www.wikidata.org/prop/direct/P3265'), ('pname', 'Myspace ID')]\n",
      "[('p', 'http://www.wikidata.org/prop/direct/P3305'), ('pname', 'KINENOTE person ID')]\n",
      "[('p', 'http://www.wikidata.org/prop/direct/P3373'), ('pname', 'sibling')]\n",
      "[('p', 'http://www.wikidata.org/prop/direct/P3417'), ('pname', 'Quora topic ID')]\n",
      "[('p', 'http://www.wikidata.org/prop/direct/P3430'), ('pname', 'SNAC ARK ID')]\n",
      "[('p', 'http://www.wikidata.org/prop/direct/P345'), ('pname', 'IMDb ID')]\n",
      "[('p', 'http://www.wikidata.org/prop/direct/P3478'), ('pname', 'Songkick artist ID')]\n",
      "[('p', 'http://www.wikidata.org/prop/direct/P373'), ('pname', 'Commons category')]\n",
      "[('p', 'http://www.wikidata.org/prop/direct/P3762'), ('pname', 'openMLOL author ID')]\n",
      "[('p', 'http://www.wikidata.org/prop/direct/P3846'), ('pname', 'DBC author ID')]\n",
      "[('p', 'http://www.wikidata.org/prop/direct/P40'), ('pname', 'child')]\n",
      "[('p', 'http://www.wikidata.org/prop/direct/P409'), ('pname', 'Libraries Australia ID')]\n",
      "[('p', 'http://www.wikidata.org/prop/direct/P4104'), ('pname', 'Carnegie Hall agent ID')]\n",
      "[('p', 'http://www.wikidata.org/prop/direct/P434'), ('pname', 'MusicBrainz artist ID')]\n",
      "[('p', 'http://www.wikidata.org/prop/direct/P4456'), ('pname', 'Internet Off-Broadway Database creditable entity ID')]\n",
      "[('p', 'http://www.wikidata.org/prop/direct/P463'), ('pname', 'member of')]\n",
      "[('p', 'http://www.wikidata.org/prop/direct/P485'), ('pname', 'archives at')]\n",
      "[('p', 'http://www.wikidata.org/prop/direct/P4985'), ('pname', 'TMDb person ID')]\n",
      "[('p', 'http://www.wikidata.org/prop/direct/P5033'), ('pname', 'Filmweb.pl person ID')]\n",
      "[('p', 'http://www.wikidata.org/prop/direct/P509'), ('pname', 'cause of death')]\n",
      "[('p', 'http://www.wikidata.org/prop/direct/P5340'), ('pname', 'American Film Institute person ID')]\n",
      "[('p', 'http://www.wikidata.org/prop/direct/P535'), ('pname', 'Find A Grave memorial ID')]\n",
      "[('p', 'http://www.wikidata.org/prop/direct/P5421'), ('pname', 'Trading Card Database person ID')]\n",
      "[('p', 'http://www.wikidata.org/prop/direct/P551'), ('pname', 'residence')]\n",
      "[('p', 'http://www.wikidata.org/prop/direct/P5534'), ('pname', 'Open Media Database person ID')]\n",
      "[('p', 'http://www.wikidata.org/prop/direct/P5617'), ('pname', 'Evene ID')]\n",
      "[('p', 'http://www.wikidata.org/prop/direct/P569'), ('pname', 'date of birth')]\n",
      "[('p', 'http://www.wikidata.org/prop/direct/P570'), ('pname', 'date of death')]\n",
      "[('p', 'http://www.wikidata.org/prop/direct/P5882'), ('pname', 'Muziekweb performer ID')]\n",
      "[('p', 'http://www.wikidata.org/prop/direct/P5905'), ('pname', 'Comic Vine ID')]\n",
      "[('p', 'http://www.wikidata.org/prop/direct/P6181'), ('pname', 'Disney A to Z ID')]\n",
      "[('p', 'http://www.wikidata.org/prop/direct/P6262'), ('pname', 'Fandom article ID')]\n",
      "[('p', 'http://www.wikidata.org/prop/direct/P646'), ('pname', 'Freebase ID')]\n"
     ]
    },
    {
     "data": {
      "text/plain": [
       "100"
      ]
     },
     "execution_count": 19,
     "metadata": {},
     "output_type": "execute_result"
    }
   ],
   "source": [
    "#Q11\n",
    "#look for predicates related to acting/partecipating in films\n",
    "queryString = \"\"\"\n",
    "SELECT DISTINCT ?p ?pname\n",
    "WHERE { \n",
    "\n",
    "wd:Q1243029 wdt:P161 ?cast.\n",
    "?cast ?p ?o.\n",
    "\n",
    "#Labels\n",
    "?p <http://schema.org/name> ?pname .\n",
    "\n",
    "} \n",
    "LIMIT 100\n",
    "\"\"\"\n",
    "\n",
    "print(\"Results\")\n",
    "run_query(queryString)"
   ]
  },
  {
   "cell_type": "markdown",
   "id": "3cef11e5-6ae8-41c1-b021-f729d35806c0",
   "metadata": {},
   "source": [
    "Trying the reverse path (from film to actor) to count in how many films the actors of friday 13th acted before the release."
   ]
  },
  {
   "cell_type": "code",
   "execution_count": 20,
   "id": "a1d9a36a-f260-453f-ad0c-e7380653771f",
   "metadata": {},
   "outputs": [
    {
     "name": "stdout",
     "output_type": "stream",
     "text": [
      "Results\n",
      "[('actor', 'http://www.wikidata.org/entity/Q263765'), ('films', '7')]\n",
      "[('actor', 'http://www.wikidata.org/entity/Q3454165'), ('films', '4')]\n",
      "[('actor', 'http://www.wikidata.org/entity/Q3428829'), ('films', '4')]\n",
      "[('actor', 'http://www.wikidata.org/entity/Q2440012'), ('films', '3')]\n",
      "[('actor', 'http://www.wikidata.org/entity/Q3434272'), ('films', '2')]\n",
      "[('actor', 'http://www.wikidata.org/entity/Q13218111'), ('films', '1')]\n",
      "[('actor', 'http://www.wikidata.org/entity/Q2570201'), ('films', '1')]\n",
      "[('actor', 'http://www.wikidata.org/entity/Q524486'), ('films', '1')]\n",
      "[('actor', 'http://www.wikidata.org/entity/Q3047636'), ('films', '1')]\n"
     ]
    },
    {
     "data": {
      "text/plain": [
       "9"
      ]
     },
     "execution_count": 20,
     "metadata": {},
     "output_type": "execute_result"
    }
   ],
   "source": [
    "#Q12\n",
    "#maybe the reverse path is better (from film to actor)\n",
    "#count in how many films the actors of friday 13th acted before the release\n",
    "queryString = \"\"\"\n",
    "SELECT ?actor (COUNT(DISTINCT ?film) AS ?films)\n",
    "WHERE { \n",
    "\n",
    "wd:Q1243029 wdt:P161 ?actor;\n",
    "            wdt:P577 ?datef.\n",
    "?film wdt:P161 ?actor;\n",
    "      wdt:P577 ?date.\n",
    "\n",
    "FILTER(?date<?datef)\n",
    "} \n",
    "GROUP BY (?actor)\n",
    "ORDER BY DESC(?films)\n",
    "LIMIT 100\n",
    "\"\"\"\n",
    "\n",
    "print(\"Results\")\n",
    "run_query(queryString)"
   ]
  },
  {
   "cell_type": "markdown",
   "id": "15921ffa-057f-401f-ba68-9cd0f7844985",
   "metadata": {},
   "source": [
    "Use P166 (award received) found in Q11."
   ]
  },
  {
   "cell_type": "code",
   "execution_count": 21,
   "id": "18282d8e-2a3d-41b4-9009-98cafd22123e",
   "metadata": {},
   "outputs": [
    {
     "name": "stdout",
     "output_type": "stream",
     "text": [
      "Results\n",
      "[('actor', 'http://www.wikidata.org/entity/Q3454165'), ('award', 'http://www.wikidata.org/entity/Q251542')]\n",
      "[('actor', 'http://www.wikidata.org/entity/Q3454165'), ('award', 'http://www.wikidata.org/entity/Q17985761')]\n",
      "[('actor', 'http://www.wikidata.org/entity/Q3454165'), ('award', 'http://www.wikidata.org/entity/Q105447')]\n",
      "[('actor', 'http://www.wikidata.org/entity/Q3454165'), ('award', 'http://www.wikidata.org/entity/Q18600734')]\n"
     ]
    },
    {
     "data": {
      "text/plain": [
       "4"
      ]
     },
     "execution_count": 21,
     "metadata": {},
     "output_type": "execute_result"
    }
   ],
   "source": [
    "#Q13\n",
    "#check P166 found in Q11\n",
    "queryString = \"\"\"\n",
    "SELECT ?actor ?award\n",
    "WHERE { \n",
    "\n",
    "wd:Q1243029 wdt:P161 ?actor.\n",
    "?actor wdt:P166 ?award.\n",
    "\n",
    "} \n",
    "LIMIT 100\n",
    "\"\"\"\n",
    "\n",
    "print(\"Results\")\n",
    "run_query(queryString)"
   ]
  },
  {
   "cell_type": "markdown",
   "id": "6a641b0b-acaf-4fa0-917a-ee778024a412",
   "metadata": {},
   "source": [
    "Retrieve award properties to see if there is a temporal reference."
   ]
  },
  {
   "cell_type": "code",
   "execution_count": 22,
   "id": "664153bf-c023-489f-8db4-45cd3710dba8",
   "metadata": {
    "collapsed": true,
    "jupyter": {
     "outputs_hidden": true
    },
    "tags": []
   },
   "outputs": [
    {
     "name": "stdout",
     "output_type": "stream",
     "text": [
      "Results\n",
      "[('p', 'http://www.wikidata.org/prop/direct/P1269'), ('pname', 'facet of')]\n",
      "[('p', 'http://www.wikidata.org/prop/direct/P1424'), ('pname', \"topic's main template\")]\n",
      "[('p', 'http://www.wikidata.org/prop/direct/P155'), ('pname', 'follows')]\n",
      "[('p', 'http://www.wikidata.org/prop/direct/P156'), ('pname', 'followed by')]\n",
      "[('p', 'http://www.wikidata.org/prop/direct/P17'), ('pname', 'country')]\n",
      "[('p', 'http://www.wikidata.org/prop/direct/P1705'), ('pname', 'native label')]\n",
      "[('p', 'http://www.wikidata.org/prop/direct/P179'), ('pname', 'part of the series')]\n",
      "[('p', 'http://www.wikidata.org/prop/direct/P18'), ('pname', 'image')]\n",
      "[('p', 'http://www.wikidata.org/prop/direct/P180'), ('pname', 'depicts')]\n",
      "[('p', 'http://www.wikidata.org/prop/direct/P1889'), ('pname', 'different from')]\n",
      "[('p', 'http://www.wikidata.org/prop/direct/P2354'), ('pname', 'has list')]\n",
      "[('p', 'http://www.wikidata.org/prop/direct/P276'), ('pname', 'location')]\n",
      "[('p', 'http://www.wikidata.org/prop/direct/P279'), ('pname', 'subclass of')]\n",
      "[('p', 'http://www.wikidata.org/prop/direct/P31'), ('pname', 'instance of')]\n",
      "[('p', 'http://www.wikidata.org/prop/direct/P3301'), ('pname', 'broadcast by')]\n",
      "[('p', 'http://www.wikidata.org/prop/direct/P345'), ('pname', 'IMDb ID')]\n",
      "[('p', 'http://www.wikidata.org/prop/direct/P361'), ('pname', 'part of')]\n",
      "[('p', 'http://www.wikidata.org/prop/direct/P373'), ('pname', 'Commons category')]\n",
      "[('p', 'http://www.wikidata.org/prop/direct/P393'), ('pname', 'edition number')]\n",
      "[('p', 'http://www.wikidata.org/prop/direct/P461'), ('pname', 'opposite of')]\n",
      "[('p', 'http://www.wikidata.org/prop/direct/P5357'), ('pname', 'The Encyclopedia of Science Fiction ID')]\n",
      "[('p', 'http://www.wikidata.org/prop/direct/P571'), ('pname', 'inception')]\n",
      "[('p', 'http://www.wikidata.org/prop/direct/P580'), ('pname', 'start time')]\n",
      "[('p', 'http://www.wikidata.org/prop/direct/P585'), ('pname', 'point in time')]\n",
      "[('p', 'http://www.wikidata.org/prop/direct/P646'), ('pname', 'Freebase ID')]\n",
      "[('p', 'http://www.wikidata.org/prop/direct/P856'), ('pname', 'official website')]\n",
      "[('p', 'http://www.wikidata.org/prop/direct/P910'), ('pname', \"topic's main category\")]\n",
      "[('p', 'http://www.wikidata.org/prop/direct/P1027'), ('pname', 'conferred by')]\n",
      "[('p', 'http://www.wikidata.org/prop/direct/P2517'), ('pname', 'category for recipients of this award')]\n"
     ]
    },
    {
     "data": {
      "text/plain": [
       "29"
      ]
     },
     "execution_count": 22,
     "metadata": {},
     "output_type": "execute_result"
    }
   ],
   "source": [
    "#Q14\n",
    "#looking for a temporal reference related to each award\n",
    "queryString = \"\"\"\n",
    "SELECT DISTINCT ?p ?pname\n",
    "WHERE { \n",
    "\n",
    "wd:Q1243029 wdt:P161 ?actor.\n",
    "?actor wdt:P166 ?award.\n",
    "?award ?p ?o.\n",
    "\n",
    "#Labels\n",
    "?p <http://schema.org/name> ?pname .\n",
    "\n",
    "} \n",
    "LIMIT 100\n",
    "\"\"\"\n",
    "\n",
    "print(\"Results\")\n",
    "run_query(queryString)"
   ]
  },
  {
   "cell_type": "markdown",
   "id": "d57a9043-3d79-41c8-a23f-adda96e31260",
   "metadata": {},
   "source": [
    "We have P580(start time) and P585(point in time) that could be useful. Check what results we get using them."
   ]
  },
  {
   "cell_type": "code",
   "execution_count": 23,
   "id": "95dae829-337d-4405-9d4c-b5760cbebd40",
   "metadata": {},
   "outputs": [
    {
     "name": "stdout",
     "output_type": "stream",
     "text": [
      "Results\n",
      "Empty\n"
     ]
    },
    {
     "data": {
      "text/plain": [
       "0"
      ]
     },
     "execution_count": 23,
     "metadata": {},
     "output_type": "execute_result"
    }
   ],
   "source": [
    "#Q15\n",
    "#p580 and p585 seem useful\n",
    "queryString = \"\"\"\n",
    "SELECT DISTINCT ?time ?point\n",
    "WHERE { \n",
    "\n",
    "wd:Q1243029 wdt:P161 ?actor.\n",
    "?actor wdt:P166 ?award.\n",
    "?award wdt:P580 ?time;\n",
    "       wdt:P585 ?point.\n",
    "\n",
    "\n",
    "} \n",
    "LIMIT 100\n",
    "\"\"\"\n",
    "\n",
    "print(\"Results\")\n",
    "run_query(queryString)"
   ]
  },
  {
   "cell_type": "markdown",
   "id": "a6de5cc0-7767-4bb5-8763-02b76f8a36fd",
   "metadata": {},
   "source": [
    "Retrieve start time of an award won by an actor of Friday 13th."
   ]
  },
  {
   "cell_type": "code",
   "execution_count": 25,
   "id": "541c6cd8-04ef-4a06-8eb1-7926991f7b2b",
   "metadata": {},
   "outputs": [
    {
     "name": "stdout",
     "output_type": "stream",
     "text": [
      "Results\n",
      "[('time', '1972-01-01T00:00:00Z')]\n"
     ]
    },
    {
     "data": {
      "text/plain": [
       "1"
      ]
     },
     "execution_count": 25,
     "metadata": {},
     "output_type": "execute_result"
    }
   ],
   "source": [
    "#Q16\n",
    "#p580 and p585 seem useful\n",
    "queryString = \"\"\"\n",
    "SELECT DISTINCT ?time ?point\n",
    "WHERE { \n",
    "\n",
    "wd:Q1243029 wdt:P161 ?actor.\n",
    "?actor wdt:P166 ?award.\n",
    "?award wdt:P580 ?time.\n",
    "OPTIONAL {?award wdt:P585 ?point}\n",
    "\n",
    "\n",
    "} \n",
    "LIMIT 100\n",
    "\"\"\"\n",
    "\n",
    "print(\"Results\")\n",
    "run_query(queryString)"
   ]
  },
  {
   "cell_type": "markdown",
   "id": "e4276766-05d8-4d00-bf39-de0af6a7a91f",
   "metadata": {},
   "source": [
    "As above but retrieve the point in time."
   ]
  },
  {
   "cell_type": "code",
   "execution_count": 26,
   "id": "6351d86a-c664-4607-8b6b-fc7cff67de28",
   "metadata": {},
   "outputs": [
    {
     "name": "stdout",
     "output_type": "stream",
     "text": [
      "Results\n",
      "[('time', '2015-01-25T00:00:00Z')]\n"
     ]
    },
    {
     "data": {
      "text/plain": [
       "1"
      ]
     },
     "execution_count": 26,
     "metadata": {},
     "output_type": "execute_result"
    }
   ],
   "source": [
    "#Q17\n",
    "#reverse of previous one\n",
    "queryString = \"\"\"\n",
    "SELECT DISTINCT ?time ?point\n",
    "WHERE { \n",
    "\n",
    "wd:Q1243029 wdt:P161 ?actor.\n",
    "?actor wdt:P166 ?award.\n",
    "?award wdt:P585 ?time.\n",
    "OPTIONAL {?award wdt:P580 ?point}\n",
    "\n",
    "\n",
    "} \n",
    "LIMIT 100\n",
    "\"\"\"\n",
    "\n",
    "print(\"Results\")\n",
    "run_query(queryString)"
   ]
  },
  {
   "cell_type": "markdown",
   "id": "1b98511e-aaf6-4648-83fc-475b2a92ed6d",
   "metadata": {},
   "source": [
    "Retrieve the actors of Friday 13th who won an award and the time when he did it."
   ]
  },
  {
   "cell_type": "code",
   "execution_count": 41,
   "id": "4f1f8a78-aa25-4dca-bf09-42f8b719f10b",
   "metadata": {},
   "outputs": [
    {
     "name": "stdout",
     "output_type": "stream",
     "text": [
      "Results\n",
      "[('actor', 'http://www.wikidata.org/entity/Q3454165'), ('award', 'http://www.wikidata.org/entity/Q105447'), ('aname', 'Saturn Award'), ('time', '1972-01-01T00:00:00Z')]\n",
      "[('actor', 'http://www.wikidata.org/entity/Q3454165'), ('award', 'http://www.wikidata.org/entity/Q18600734'), ('aname', '21st Screen Actors Guild Awards'), ('point', '2015-01-25T00:00:00Z')]\n",
      "[('actor', 'http://www.wikidata.org/entity/Q3454165'), ('award', 'http://www.wikidata.org/entity/Q251542'), ('aname', 'Golden Globe Award for Best Actor – Miniseries or Television Film')]\n",
      "[('actor', 'http://www.wikidata.org/entity/Q3454165'), ('award', 'http://www.wikidata.org/entity/Q17985761'), ('aname', 'star on Hollywood Walk of Fame')]\n"
     ]
    },
    {
     "data": {
      "text/plain": [
       "4"
      ]
     },
     "execution_count": 41,
     "metadata": {},
     "output_type": "execute_result"
    }
   ],
   "source": [
    "#Q18\n",
    "queryString = \"\"\"\n",
    "SELECT ?actor ?award  ?aname ?time ?point\n",
    "WHERE { \n",
    "\n",
    "wd:Q1243029 wdt:P161 ?actor.\n",
    "?actor wdt:P166 ?award.\n",
    "OPTIONAL {?award wdt:P580 ?time}\n",
    "OPTIONAL {?award wdt:P585 ?point}\n",
    "\n",
    "#Labels\n",
    "?award <http://schema.org/name> ?aname .\n",
    "\n",
    "} \n",
    "LIMIT 100\n",
    "\"\"\"\n",
    "\n",
    "print(\"Results\")\n",
    "run_query(queryString)"
   ]
  },
  {
   "cell_type": "markdown",
   "id": "bf8b8fab-a4dc-484c-b4a6-db15377c4d19",
   "metadata": {},
   "source": [
    "Retrieve actor who won an award before the release of Friday 13th."
   ]
  },
  {
   "cell_type": "code",
   "execution_count": 32,
   "id": "6c9cd842-7499-4843-9cf2-1980a82efca2",
   "metadata": {},
   "outputs": [
    {
     "name": "stdout",
     "output_type": "stream",
     "text": [
      "Results\n",
      "[('actor', 'http://www.wikidata.org/entity/Q3454165'), ('awards', '1')]\n"
     ]
    },
    {
     "data": {
      "text/plain": [
       "1"
      ]
     },
     "execution_count": 32,
     "metadata": {},
     "output_type": "execute_result"
    }
   ],
   "source": [
    "#Q19\n",
    "#retrieve actor who won an award before the release of friday 13th\n",
    "queryString = \"\"\"\n",
    "SELECT ?actor (COUNT(DISTINCT (?award)) AS ?awards)\n",
    "WHERE { \n",
    "\n",
    "wd:Q1243029 wdt:P161 ?actor;\n",
    "            wdt:P577 ?date.\n",
    "?actor wdt:P166 ?award.\n",
    "?award wdt:P580 ?time.\n",
    "\n",
    "FILTER(?time<?date)\n",
    "} \n",
    "GROUP BY (?actor)\n",
    "ORDER BY (?awards)\n",
    "LIMIT 100\n",
    "\"\"\"\n",
    "\n",
    "print(\"Results\")\n",
    "run_query(queryString)"
   ]
  },
  {
   "cell_type": "markdown",
   "id": "93865ac8-012d-48aa-a363-814463b4e58f",
   "metadata": {},
   "source": [
    "Count in how many films the actors of Halloween acted before the release."
   ]
  },
  {
   "cell_type": "code",
   "execution_count": 33,
   "id": "84284b0e-ac55-46b7-ad81-5d31689744e8",
   "metadata": {},
   "outputs": [
    {
     "name": "stdout",
     "output_type": "stream",
     "text": [
      "Results\n",
      "[('actor', 'http://www.wikidata.org/entity/Q314914'), ('films', '80')]\n",
      "[('actor', 'http://www.wikidata.org/entity/Q3093664'), ('films', '25')]\n",
      "[('actor', 'http://www.wikidata.org/entity/Q2865227'), ('films', '12')]\n",
      "[('actor', 'http://www.wikidata.org/entity/Q1064022'), ('films', '7')]\n",
      "[('actor', 'http://www.wikidata.org/entity/Q270079'), ('films', '6')]\n",
      "[('actor', 'http://www.wikidata.org/entity/Q1853959'), ('films', '5')]\n",
      "[('actor', 'http://www.wikidata.org/entity/Q95008'), ('films', '3')]\n",
      "[('actor', 'http://www.wikidata.org/entity/Q201570'), ('films', '2')]\n",
      "[('actor', 'http://www.wikidata.org/entity/Q6248629'), ('films', '2')]\n",
      "[('actor', 'http://www.wikidata.org/entity/Q936000'), ('films', '2')]\n",
      "[('actor', 'http://www.wikidata.org/entity/Q106997'), ('films', '1')]\n",
      "[('actor', 'http://www.wikidata.org/entity/Q6963012'), ('films', '1')]\n",
      "[('actor', 'http://www.wikidata.org/entity/Q3066766'), ('films', '1')]\n"
     ]
    },
    {
     "data": {
      "text/plain": [
       "13"
      ]
     },
     "execution_count": 33,
     "metadata": {},
     "output_type": "execute_result"
    }
   ],
   "source": [
    "#Q20\n",
    "#as Q12 but for Halloween\n",
    "queryString = \"\"\"\n",
    "SELECT ?actor (COUNT(DISTINCT ?film) AS ?films)\n",
    "WHERE { \n",
    "\n",
    "wd:Q221103 wdt:P161 ?actor;\n",
    "            wdt:P577 ?datef.\n",
    "?film wdt:P161 ?actor;\n",
    "      wdt:P577 ?date.\n",
    "\n",
    "FILTER(?date<?datef)\n",
    "} \n",
    "GROUP BY (?actor)\n",
    "ORDER BY DESC(?films)\n",
    "LIMIT 100\n",
    "\"\"\"\n",
    "\n",
    "print(\"Results\")\n",
    "run_query(queryString)"
   ]
  },
  {
   "cell_type": "markdown",
   "id": "257ee577-7176-4027-a90e-6b72c9be8c6f",
   "metadata": {},
   "source": [
    "Retrieve actor who won an award before the release of Halloween."
   ]
  },
  {
   "cell_type": "code",
   "execution_count": 34,
   "id": "6d03bde5-9c70-4f7a-809b-7b70b9a3493b",
   "metadata": {},
   "outputs": [
    {
     "name": "stdout",
     "output_type": "stream",
     "text": [
      "Results\n",
      "Empty\n"
     ]
    },
    {
     "data": {
      "text/plain": [
       "0"
      ]
     },
     "execution_count": 34,
     "metadata": {},
     "output_type": "execute_result"
    }
   ],
   "source": [
    "#Q21\n",
    "#as Q19 but for halloween\n",
    "queryString = \"\"\"\n",
    "SELECT ?actor (COUNT(DISTINCT (?award)) AS ?awards)\n",
    "WHERE { \n",
    "\n",
    "wd:Q221103 wdt:P161 ?actor;\n",
    "            wdt:P577 ?date.\n",
    "?actor wdt:P166 ?award.\n",
    "?award wdt:P580 ?time.\n",
    "\n",
    "FILTER(?time<?date)\n",
    "} \n",
    "GROUP BY (?actor)\n",
    "ORDER BY (?awards)\n",
    "LIMIT 100\n",
    "\"\"\"\n",
    "\n",
    "print(\"Results\")\n",
    "run_query(queryString)"
   ]
  },
  {
   "cell_type": "markdown",
   "id": "76871570-c12a-4e7a-b37b-c132389f6596",
   "metadata": {},
   "source": [
    "Same above but using Optional for time property."
   ]
  },
  {
   "cell_type": "code",
   "execution_count": 37,
   "id": "9c8960e3-0b4e-4ab3-bedf-327be50436ad",
   "metadata": {},
   "outputs": [
    {
     "name": "stdout",
     "output_type": "stream",
     "text": [
      "Results\n",
      "[('actor', 'http://www.wikidata.org/entity/Q314914'), ('award', 'http://www.wikidata.org/entity/Q10762848'), ('aname', 'Officer of the Order of the British Empire')]\n",
      "[('actor', 'http://www.wikidata.org/entity/Q106997'), ('award', 'http://www.wikidata.org/entity/Q787123'), ('aname', 'BAFTA Award for Best Actress in a Supporting Role')]\n",
      "[('actor', 'http://www.wikidata.org/entity/Q106997'), ('award', 'http://www.wikidata.org/entity/Q1011564'), ('aname', 'Golden Globe Award for Best Actress – Motion Picture Musical or Comedy')]\n",
      "[('actor', 'http://www.wikidata.org/entity/Q106997'), ('award', 'http://www.wikidata.org/entity/Q17985761'), ('aname', 'star on Hollywood Walk of Fame')]\n"
     ]
    },
    {
     "data": {
      "text/plain": [
       "4"
      ]
     },
     "execution_count": 37,
     "metadata": {},
     "output_type": "execute_result"
    }
   ],
   "source": [
    "#Q22\n",
    "#put time as optional\n",
    "queryString = \"\"\"\n",
    "SELECT DISTINCT ?actor ?award ?aname ?time\n",
    "WHERE { \n",
    "\n",
    "wd:Q221103 wdt:P161 ?actor;\n",
    "            wdt:P577 ?date.\n",
    "?actor wdt:P166 ?award.\n",
    "OPTIONAL {?award wdt:P580 ?time.}\n",
    "\n",
    "#Labels\n",
    "?award <http://schema.org/name> ?aname .\n",
    "\n",
    "} \n",
    "LIMIT 100\n",
    "\"\"\"\n",
    "\n",
    "print(\"Results\")\n",
    "run_query(queryString)"
   ]
  },
  {
   "cell_type": "markdown",
   "id": "145788bf-992c-40a2-a12c-c563371fcff2",
   "metadata": {},
   "source": [
    "<h3> TASK 2 ENDS HERE </h3>\n",
    "Donald Pleasence is the actor who acted more times before the release of Halloween. On the other hand the actor who acted in more films before the release\n",
    "of Friday 13th is Kevin Bacon. To conclude, Betsy Palmer is the only actor who managed to get an award before acting in Friday 13th."
   ]
  },
  {
   "cell_type": "code",
   "execution_count": 40,
   "id": "1626481e-5517-4c97-b286-270f9e314873",
   "metadata": {},
   "outputs": [
    {
     "name": "stdout",
     "output_type": "stream",
     "text": [
      "Results\n",
      "[('s', 'http://www.wikidata.org/entity/Q263765'), ('sname', 'Betsy Palmer')]\n",
      "[('s', 'http://www.wikidata.org/entity/Q314914'), ('sname', 'Donald Pleasence')]\n",
      "[('s', 'http://www.wikidata.org/entity/Q3454165'), ('sname', 'Kevin Bacon')]\n"
     ]
    },
    {
     "data": {
      "text/plain": [
       "3"
      ]
     },
     "execution_count": 40,
     "metadata": {},
     "output_type": "execute_result"
    }
   ],
   "source": [
    "#TASK 2 ENDS HERE:\n",
    "#Q314914 more film before acting in hallowen\n",
    "#Q3454165 only one to get an awards before acting in friday 13th\n",
    "#Q263765 acted in more films than anyone else before the releasing of friday 13th\n",
    "#i have no temporal references to retrieve the actor who won more awards before acting in halloween\n",
    "\n",
    "#gets names\n",
    "queryString = \"\"\"\n",
    "SELECT DISTINCT ?s ?sname\n",
    "WHERE { \n",
    "\n",
    "?s ?p ?o.\n",
    "VALUES ?s {wd:Q314914  wd:Q3454165 wd:Q263765}\n",
    "\n",
    "#Labels\n",
    "?s <http://schema.org/name> ?sname .\n",
    "} \n",
    "LIMIT 100\n",
    "\"\"\"\n",
    "\n",
    "print(\"Results\")\n",
    "run_query(queryString)"
   ]
  },
  {
   "cell_type": "markdown",
   "id": "d1b1c7e8-c277-444b-b9cb-9290b2e9f7cf",
   "metadata": {},
   "source": [
    "<h3> TASK 3 STARTS HERE </h3>\n",
    "Check which actor/actress did more movies after the release of these two films (consider the films separately)."
   ]
  },
  {
   "cell_type": "markdown",
   "id": "d57a4577-3034-4c0d-82de-e9da76eb4645",
   "metadata": {},
   "source": [
    "Retrieve who acted in more films after the release of Friday 13th."
   ]
  },
  {
   "cell_type": "code",
   "execution_count": 45,
   "id": "68cd50cb-e23f-4b27-9dc2-142aa9a333dd",
   "metadata": {},
   "outputs": [
    {
     "name": "stdout",
     "output_type": "stream",
     "text": [
      "Results\n",
      "[('actor', 'http://www.wikidata.org/entity/Q3454165'), ('films', '64')]\n",
      "[('actor', 'http://www.wikidata.org/entity/Q314914'), ('films', '50')]\n",
      "[('actor', 'http://www.wikidata.org/entity/Q106997'), ('films', '50')]\n",
      "[('actor', 'http://www.wikidata.org/entity/Q95008'), ('films', '17')]\n",
      "[('actor', 'http://www.wikidata.org/entity/Q270079'), ('films', '16')]\n",
      "[('actor', 'http://www.wikidata.org/entity/Q2440012'), ('films', '9')]\n",
      "[('actor', 'http://www.wikidata.org/entity/Q2865227'), ('films', '8')]\n",
      "[('actor', 'http://www.wikidata.org/entity/Q263765'), ('films', '8')]\n",
      "[('actor', 'http://www.wikidata.org/entity/Q3093664'), ('films', '7')]\n",
      "[('actor', 'http://www.wikidata.org/entity/Q3434272'), ('films', '6')]\n",
      "[('actor', 'http://www.wikidata.org/entity/Q1064022'), ('films', '6')]\n",
      "[('actor', 'http://www.wikidata.org/entity/Q1853959'), ('films', '5')]\n",
      "[('actor', 'http://www.wikidata.org/entity/Q936000'), ('films', '5')]\n",
      "[('actor', 'http://www.wikidata.org/entity/Q3428829'), ('films', '4')]\n",
      "[('actor', 'http://www.wikidata.org/entity/Q201570'), ('films', '3')]\n",
      "[('actor', 'http://www.wikidata.org/entity/Q6963012'), ('films', '3')]\n",
      "[('actor', 'http://www.wikidata.org/entity/Q524486'), ('films', '3')]\n",
      "[('actor', 'http://www.wikidata.org/entity/Q3047636'), ('films', '3')]\n",
      "[('actor', 'http://www.wikidata.org/entity/Q3066766'), ('films', '2')]\n",
      "[('actor', 'http://www.wikidata.org/entity/Q13218111'), ('films', '1')]\n",
      "[('actor', 'http://www.wikidata.org/entity/Q2570201'), ('films', '1')]\n"
     ]
    },
    {
     "data": {
      "text/plain": [
       "21"
      ]
     },
     "execution_count": 45,
     "metadata": {},
     "output_type": "execute_result"
    }
   ],
   "source": [
    "#Q23\n",
    "#who acted in more movies after the release of friday 13th\n",
    "queryString = \"\"\"\n",
    "SELECT ?actor (COUNT(DISTINCT ?film) AS ?films)\n",
    "WHERE { \n",
    "\n",
    "?film wdt:P161 ?actor;\n",
    "      wdt:P577 ?date.\n",
    "wd:Q1243029 wdt:P577 ?datef.\n",
    "\n",
    "{SELECT ?actor WHERE{  \n",
    "?f wdt:P161 ?actor.\n",
    "VALUES ?f {wd:Q221103 wd:Q1243029}\n",
    "}}\n",
    "\n",
    "FILTER(?date>?datef)\n",
    "} \n",
    "GROUP BY (?actor)\n",
    "ORDER BY DESC(?films)\n",
    "LIMIT 100\n",
    "\"\"\"\n",
    "\n",
    "print(\"Results\")\n",
    "run_query(queryString)"
   ]
  },
  {
   "cell_type": "markdown",
   "id": "a5d11cf3-c470-4693-9002-1c218f0621f7",
   "metadata": {},
   "source": [
    "Retrieve who acted in more movies after the release of Halloween."
   ]
  },
  {
   "cell_type": "code",
   "execution_count": 46,
   "id": "a437b2b5-a83e-4e42-a7ed-f7cf04e62db5",
   "metadata": {},
   "outputs": [
    {
     "name": "stdout",
     "output_type": "stream",
     "text": [
      "Results\n",
      "[('actor', 'http://www.wikidata.org/entity/Q3454165'), ('films', '67')]\n",
      "[('actor', 'http://www.wikidata.org/entity/Q314914'), ('films', '55')]\n",
      "[('actor', 'http://www.wikidata.org/entity/Q106997'), ('films', '52')]\n",
      "[('actor', 'http://www.wikidata.org/entity/Q270079'), ('films', '20')]\n",
      "[('actor', 'http://www.wikidata.org/entity/Q95008'), ('films', '18')]\n",
      "[('actor', 'http://www.wikidata.org/entity/Q3093664'), ('films', '12')]\n",
      "[('actor', 'http://www.wikidata.org/entity/Q2865227'), ('films', '10')]\n",
      "[('actor', 'http://www.wikidata.org/entity/Q2440012'), ('films', '10')]\n",
      "[('actor', 'http://www.wikidata.org/entity/Q1064022'), ('films', '9')]\n",
      "[('actor', 'http://www.wikidata.org/entity/Q1853959'), ('films', '8')]\n",
      "[('actor', 'http://www.wikidata.org/entity/Q263765'), ('films', '8')]\n",
      "[('actor', 'http://www.wikidata.org/entity/Q3434272'), ('films', '6')]\n",
      "[('actor', 'http://www.wikidata.org/entity/Q936000'), ('films', '6')]\n",
      "[('actor', 'http://www.wikidata.org/entity/Q3428829'), ('films', '6')]\n",
      "[('actor', 'http://www.wikidata.org/entity/Q201570'), ('films', '5')]\n",
      "[('actor', 'http://www.wikidata.org/entity/Q6963012'), ('films', '4')]\n",
      "[('actor', 'http://www.wikidata.org/entity/Q3066766'), ('films', '3')]\n",
      "[('actor', 'http://www.wikidata.org/entity/Q524486'), ('films', '3')]\n",
      "[('actor', 'http://www.wikidata.org/entity/Q3047636'), ('films', '3')]\n",
      "[('actor', 'http://www.wikidata.org/entity/Q13218111'), ('films', '1')]\n",
      "[('actor', 'http://www.wikidata.org/entity/Q2570201'), ('films', '1')]\n",
      "[('actor', 'http://www.wikidata.org/entity/Q6248629'), ('films', '1')]\n"
     ]
    },
    {
     "data": {
      "text/plain": [
       "22"
      ]
     },
     "execution_count": 46,
     "metadata": {},
     "output_type": "execute_result"
    }
   ],
   "source": [
    "#Q24\n",
    "#who acted in more movies after the release of halloween\n",
    "queryString = \"\"\"\n",
    "SELECT ?actor (COUNT(DISTINCT ?film) AS ?films)\n",
    "WHERE { \n",
    "\n",
    "?film wdt:P161 ?actor;\n",
    "      wdt:P577 ?date.\n",
    "wd:Q221103 wdt:P577 ?datef.\n",
    "\n",
    "{SELECT ?actor WHERE{  \n",
    "?f wdt:P161 ?actor.\n",
    "VALUES ?f {wd:Q221103 wd:Q1243029}\n",
    "}}\n",
    "\n",
    "FILTER(?date>?datef)\n",
    "} \n",
    "GROUP BY (?actor)\n",
    "ORDER BY DESC(?films)\n",
    "LIMIT 100\n",
    "\"\"\"\n",
    "\n",
    "print(\"Results\")\n",
    "run_query(queryString)"
   ]
  },
  {
   "cell_type": "markdown",
   "id": "6f6cad16-8922-415e-923b-eacf677847a9",
   "metadata": {},
   "source": [
    "<h3> TASK 3 ENDS HERE </h3>\n",
    "The two actors with the most partecipations are the same as TASK 2. \n",
    "It's interesting to notice that their number of appearances is more then the triple of their colleagues.\n",
    "Also Betty Palmer who was the one only to get an award before Friday 13th release is not even in the top 10."
   ]
  },
  {
   "cell_type": "markdown",
   "id": "f40734f7-ab3a-43b1-88c6-c66ba20ddc06",
   "metadata": {},
   "source": [
    "Count in how many films Donald Pleasance acted in."
   ]
  },
  {
   "cell_type": "code",
   "execution_count": 3,
   "id": "a4f0e4b7-a866-4761-8ade-02a3bcf8da3d",
   "metadata": {},
   "outputs": [
    {
     "name": "stdout",
     "output_type": "stream",
     "text": [
      "Results\n",
      "[('films', '128')]\n"
     ]
    },
    {
     "data": {
      "text/plain": [
       "1"
      ]
     },
     "execution_count": 3,
     "metadata": {},
     "output_type": "execute_result"
    }
   ],
   "source": [
    "#Q25\n",
    "#just for curiosity, count the film with Donald Pleasance\n",
    "queryString = \"\"\"\n",
    "SELECT (COUNT (DISTINCT (?film)) AS ?films) WHERE\n",
    "{\n",
    "?film wdt:P161 wd:Q314914\n",
    "}\n",
    "\"\"\"\n",
    "print(\"Results\")\n",
    "run_query(queryString)"
   ]
  },
  {
   "cell_type": "markdown",
   "id": "d8471388-2838-4942-b32e-b3bf3dfc3daa",
   "metadata": {},
   "source": [
    "<h3>TASK 4 STARTS HERE</h3>\n",
    "Get all the movies of the two franchises (return year and director)"
   ]
  },
  {
   "cell_type": "markdown",
   "id": "793b9ba5-622a-49a4-bd97-225e331968cb",
   "metadata": {},
   "source": [
    "In Q1 i found P179 (part of series), let's see if it is useful."
   ]
  },
  {
   "cell_type": "code",
   "execution_count": 5,
   "id": "40c8afa6-5792-4ac4-9efb-32eee73af4e4",
   "metadata": {},
   "outputs": [
    {
     "name": "stdout",
     "output_type": "stream",
     "text": [
      "Results\n",
      "[('o', 'http://www.wikidata.org/entity/Q1138878'), ('oname', 'Friday the 13th')]\n"
     ]
    },
    {
     "data": {
      "text/plain": [
       "1"
      ]
     },
     "execution_count": 5,
     "metadata": {},
     "output_type": "execute_result"
    }
   ],
   "source": [
    "#Q26\n",
    "#in Q1 i found P179 (part of series), let's see if it is useful\n",
    "queryString = \"\"\"\n",
    "SELECT ?o ?oname WHERE{\n",
    "\n",
    "wd:Q1243029 wdt:P179 ?o.\n",
    "\n",
    "#Labels\n",
    "?o <http://schema.org/name> ?oname .\n",
    "\n",
    "} \n",
    "\n",
    "LIMIT 100\n",
    "\"\"\"\n",
    "\n",
    "print(\"Results\")\n",
    "run_query(queryString)"
   ]
  },
  {
   "cell_type": "markdown",
   "id": "c09d2ef1-b71b-40e7-a79a-48328f348560",
   "metadata": {},
   "source": [
    "Using P179+Q1138878 i should find all the films belonging to Friday 13th saga. Let's check."
   ]
  },
  {
   "cell_type": "code",
   "execution_count": 6,
   "id": "aac1677f-b3d7-4f68-9e9d-747a219e9abd",
   "metadata": {},
   "outputs": [
    {
     "name": "stdout",
     "output_type": "stream",
     "text": [
      "Results\n",
      "[('film', 'http://www.wikidata.org/entity/Q1243009'), ('sname', 'Friday the 13th Part 2'), ('director', 'http://www.wikidata.org/entity/Q709325')]\n",
      "[('film', 'http://www.wikidata.org/entity/Q1243009'), ('sname', 'Friday the 13th Part 2'), ('director', 'http://www.wikidata.org/entity/Q107404')]\n",
      "[('film', 'http://www.wikidata.org/entity/Q1243013'), ('sname', 'Friday the 13th Part III'), ('director', 'http://www.wikidata.org/entity/Q107404')]\n",
      "[('film', 'http://www.wikidata.org/entity/Q1243029'), ('sname', 'Friday the 13th'), ('director', 'http://www.wikidata.org/entity/Q709325')]\n",
      "[('film', 'http://www.wikidata.org/entity/Q1427521'), ('sname', 'Jason X'), ('director', 'http://www.wikidata.org/entity/Q472868')]\n",
      "[('film', 'http://www.wikidata.org/entity/Q1683918'), ('sname', 'Jason Goes to Hell: The Final Friday'), ('director', 'http://www.wikidata.org/entity/Q4679450')]\n",
      "[('film', 'http://www.wikidata.org/entity/Q1454794'), ('sname', 'Friday the 13th Part VIII: Jason Takes Manhattan'), ('director', 'http://www.wikidata.org/entity/Q21280751')]\n",
      "[('film', 'http://www.wikidata.org/entity/Q1454798'), ('sname', 'Friday the 13th Part VII: The New Blood'), ('director', 'http://www.wikidata.org/entity/Q3052099')]\n",
      "[('film', 'http://www.wikidata.org/entity/Q1454799'), ('sname', 'Friday the 13th Part VI: Jason Lives'), ('director', 'http://www.wikidata.org/entity/Q730985')]\n",
      "[('film', 'http://www.wikidata.org/entity/Q286830'), ('sname', 'Friday the 13th: A New Beginning'), ('director', 'http://www.wikidata.org/entity/Q1778633')]\n",
      "[('film', 'http://www.wikidata.org/entity/Q965859'), ('sname', 'Freddy vs. Jason'), ('director', 'http://www.wikidata.org/entity/Q525109')]\n",
      "[('film', 'http://www.wikidata.org/entity/Q1243019'), ('sname', 'Friday the 13th: The Final Chapter'), ('director', 'http://www.wikidata.org/entity/Q11335')]\n",
      "[('film', 'http://www.wikidata.org/entity/Q1454815'), ('sname', 'Friday the 13th'), ('director', 'http://www.wikidata.org/entity/Q77399')]\n"
     ]
    },
    {
     "data": {
      "text/plain": [
       "13"
      ]
     },
     "execution_count": 6,
     "metadata": {},
     "output_type": "execute_result"
    }
   ],
   "source": [
    "#Q27\n",
    "#so using P179+Q1138878 i should find all the films belonging to Friday 13th saga\n",
    "queryString = \"\"\"\n",
    "SELECT ?film ?sname ?director WHERE{\n",
    "\n",
    "?film wdt:P179 wd:Q1138878;\n",
    "        wdt:P57  ?director.\n",
    "\n",
    "#Labels\n",
    "?film <http://schema.org/name> ?sname .\n",
    "}\n",
    "LIMIT 100\n",
    "\"\"\"\n",
    "\n",
    "print(\"Results\")\n",
    "run_query(queryString)"
   ]
  },
  {
   "cell_type": "markdown",
   "id": "98a037c0-39e4-4598-b393-ac7c74c64fd8",
   "metadata": {},
   "source": [
    "Use group_concat since a film can have more than one director, same for date of pubblication."
   ]
  },
  {
   "cell_type": "code",
   "execution_count": 7,
   "id": "4d122d3a-e63a-44e4-a8ad-ee905dba7851",
   "metadata": {},
   "outputs": [
    {
     "name": "stdout",
     "output_type": "stream",
     "text": [
      "Results\n",
      "[('film', 'http://www.wikidata.org/entity/Q1243029'), ('fname', 'Friday the 13th'), ('directors', 'http://www.wikidata.org/entity/Q709325'), ('year', '1980-05-09 00:00:00Z,1980-10-23 00:00:00Z,1980-11-10 00:00:00Z')]\n",
      "[('film', 'http://www.wikidata.org/entity/Q1243009'), ('fname', 'Friday the 13th Part 2'), ('directors', 'http://www.wikidata.org/entity/Q709325,http://www.wikidata.org/entity/Q107404'), ('year', '1981-04-30 00:00:00Z,1981-11-02 00:00:00Z')]\n",
      "[('film', 'http://www.wikidata.org/entity/Q1243013'), ('fname', 'Friday the 13th Part III'), ('directors', 'http://www.wikidata.org/entity/Q107404'), ('year', '1982-08-13 00:00:00Z,1983-05-12 00:00:00Z,1983-05-13 00:00:00Z')]\n",
      "[('film', 'http://www.wikidata.org/entity/Q1243019'), ('fname', 'Friday the 13th: The Final Chapter'), ('directors', 'http://www.wikidata.org/entity/Q11335'), ('year', '1984-01-01 00:00:00Z,1984-07-13 00:00:00Z')]\n",
      "[('film', 'http://www.wikidata.org/entity/Q286830'), ('fname', 'Friday the 13th: A New Beginning'), ('directors', 'http://www.wikidata.org/entity/Q1778633'), ('year', '1985-01-01 00:00:00Z,1987-01-02 00:00:00Z')]\n",
      "[('film', 'http://www.wikidata.org/entity/Q1454799'), ('fname', 'Friday the 13th Part VI: Jason Lives'), ('directors', 'http://www.wikidata.org/entity/Q730985'), ('year', '1986-01-01 00:00:00Z')]\n",
      "[('film', 'http://www.wikidata.org/entity/Q1454798'), ('fname', 'Friday the 13th Part VII: The New Blood'), ('directors', 'http://www.wikidata.org/entity/Q3052099'), ('year', '1988-01-01 00:00:00Z')]\n",
      "[('film', 'http://www.wikidata.org/entity/Q1454794'), ('fname', 'Friday the 13th Part VIII: Jason Takes Manhattan'), ('directors', 'http://www.wikidata.org/entity/Q21280751'), ('year', '1989-01-01 00:00:00Z')]\n",
      "[('film', 'http://www.wikidata.org/entity/Q1683918'), ('fname', 'Jason Goes to Hell: The Final Friday'), ('directors', 'http://www.wikidata.org/entity/Q4679450'), ('year', '1993-01-01 00:00:00Z')]\n",
      "[('film', 'http://www.wikidata.org/entity/Q1427521'), ('fname', 'Jason X'), ('directors', 'http://www.wikidata.org/entity/Q472868'), ('year', '2001-01-01 00:00:00Z')]\n",
      "[('film', 'http://www.wikidata.org/entity/Q965859'), ('fname', 'Freddy vs. Jason'), ('directors', 'http://www.wikidata.org/entity/Q525109'), ('year', '2003-08-13 00:00:00Z,2003-11-20 00:00:00Z')]\n",
      "[('film', 'http://www.wikidata.org/entity/Q1454815'), ('fname', 'Friday the 13th'), ('directors', 'http://www.wikidata.org/entity/Q77399'), ('year', '2009-01-01 00:00:00Z,2009-02-13 00:00:00Z')]\n"
     ]
    },
    {
     "data": {
      "text/plain": [
       "12"
      ]
     },
     "execution_count": 7,
     "metadata": {},
     "output_type": "execute_result"
    }
   ],
   "source": [
    "#Q28\n",
    "#use group_concat since a film can have more than one director, same for date of pubblication\n",
    "queryString = \"\"\"\n",
    "SELECT ?film ?fname ?directors ?year WHERE{\n",
    "{\n",
    "SELECT ?film (GROUP_CONCAT(?director;SEPARATOR=\",\") AS ?directors) WHERE{\n",
    "\n",
    "?film wdt:P179 wd:Q1138878;\n",
    "        wdt:P57  ?director.\n",
    "}\n",
    "GROUP BY (?film)}\n",
    "{SELECT ?film (GROUP_CONCAT(?date;SEPARATOR=\",\") AS ?year) WHERE{\n",
    "\n",
    "?film wdt:P179 wd:Q1138878;\n",
    "        wdt:P577 ?date.\n",
    "}\n",
    "GROUP BY (?film)}\n",
    "#Labels\n",
    "?film <http://schema.org/name> ?fname .\n",
    "}\n",
    "\n",
    "ORDER BY (?year)\n",
    "LIMIT 100\n",
    "\"\"\"\n",
    "\n",
    "print(\"Results\")\n",
    "run_query(queryString)"
   ]
  },
  {
   "cell_type": "markdown",
   "id": "08ffba54-25b3-4111-a429-f11a4dd7adbf",
   "metadata": {},
   "source": [
    "Find Halloween saga."
   ]
  },
  {
   "cell_type": "code",
   "execution_count": 8,
   "id": "705daf2d-3191-40b2-949f-d7748b183e73",
   "metadata": {},
   "outputs": [
    {
     "name": "stdout",
     "output_type": "stream",
     "text": [
      "Results\n",
      "[('o', 'http://www.wikidata.org/entity/Q1364022'), ('oname', 'Halloween')]\n"
     ]
    },
    {
     "data": {
      "text/plain": [
       "1"
      ]
     },
     "execution_count": 8,
     "metadata": {},
     "output_type": "execute_result"
    }
   ],
   "source": [
    "#Q29\n",
    "#find Halloween saga\n",
    "queryString = \"\"\"\n",
    "SELECT ?o ?oname WHERE{\n",
    "\n",
    "wd:Q221103 wdt:P179 ?o.\n",
    "\n",
    "#Labels\n",
    "?o <http://schema.org/name> ?oname .\n",
    "\n",
    "} \n",
    "\n",
    "LIMIT 100\n",
    "\"\"\"\n",
    "print(\"Results\")\n",
    "run_query(queryString)"
   ]
  },
  {
   "cell_type": "markdown",
   "id": "13e47624-a7a9-43c4-940f-f1b1cd09e00a",
   "metadata": {},
   "source": [
    "Retrieve directors and date of pubblication for all films belonging to Halloween saga."
   ]
  },
  {
   "cell_type": "code",
   "execution_count": 10,
   "id": "c47b36bb-477c-4678-a021-d46f6b0aafd7",
   "metadata": {},
   "outputs": [
    {
     "name": "stdout",
     "output_type": "stream",
     "text": [
      "Results\n",
      "[('film', 'http://www.wikidata.org/entity/Q221103'), ('fname', 'Halloween'), ('directors', 'http://www.wikidata.org/entity/Q95008'), ('year', '1978-10-25 00:00:00Z,1979-07-06 00:00:00Z,1979-08-06 00:00:00Z')]\n",
      "[('film', 'http://www.wikidata.org/entity/Q850312'), ('fname', 'Halloween II'), ('directors', 'http://www.wikidata.org/entity/Q95008,http://www.wikidata.org/entity/Q1384404'), ('year', '1981-01-01 00:00:00Z,1982-11-11 00:00:00Z')]\n",
      "[('film', 'http://www.wikidata.org/entity/Q203705'), ('fname', 'Halloween III: Season of the Witch'), ('directors', 'http://www.wikidata.org/entity/Q574983'), ('year', '1982-01-01 00:00:00Z')]\n",
      "[('film', 'http://www.wikidata.org/entity/Q959853'), ('fname', 'Halloween 4: The Return of Michael Myers'), ('directors', 'http://www.wikidata.org/entity/Q1268483'), ('year', '1988-01-01 00:00:00Z,1989-05-18 00:00:00Z')]\n",
      "[('film', 'http://www.wikidata.org/entity/Q976728'), ('fname', 'Halloween 5: The Revenge of Michael Myers'), ('directors', 'http://www.wikidata.org/entity/Q117234'), ('year', '1989-01-01 00:00:00Z,1991-07-11 00:00:00Z')]\n",
      "[('film', 'http://www.wikidata.org/entity/Q1138055'), ('fname', 'Halloween: The Curse of Michael Myers'), ('directors', 'http://www.wikidata.org/entity/Q1381885'), ('year', '1995-01-01 00:00:00Z')]\n",
      "[('film', 'http://www.wikidata.org/entity/Q1050815'), ('fname', 'Halloween H20: 20 Years Later'), ('directors', 'http://www.wikidata.org/entity/Q107404'), ('year', '1998-01-01 00:00:00Z,1998-10-29 00:00:00Z')]\n",
      "[('film', 'http://www.wikidata.org/entity/Q176488'), ('fname', 'Halloween: Resurrection'), ('directors', 'http://www.wikidata.org/entity/Q1384404'), ('year', '2002-01-01 00:00:00Z,2002-11-07 00:00:00Z')]\n",
      "[('film', 'http://www.wikidata.org/entity/Q909063'), ('fname', 'Halloween'), ('directors', 'http://www.wikidata.org/entity/Q298255'), ('year', '2007-01-01 00:00:00Z,2007-10-25 00:00:00Z')]\n",
      "[('film', 'http://www.wikidata.org/entity/Q908690'), ('fname', 'Halloween II'), ('directors', 'http://www.wikidata.org/entity/Q298255'), ('year', '2009-01-01 00:00:00Z,2009-10-15 00:00:00Z')]\n"
     ]
    },
    {
     "data": {
      "text/plain": [
       "10"
      ]
     },
     "execution_count": 10,
     "metadata": {},
     "output_type": "execute_result"
    }
   ],
   "source": [
    "#Q30\n",
    "#as above but for Halloween saga\n",
    "queryString = \"\"\"\n",
    "SELECT ?film ?fname ?directors ?year WHERE{\n",
    "{\n",
    "SELECT ?film (GROUP_CONCAT(?director;SEPARATOR=\",\") AS ?directors) WHERE{\n",
    "\n",
    "?film wdt:P179 wd:Q1364022;\n",
    "        wdt:P57  ?director.\n",
    "}\n",
    "GROUP BY (?film)}\n",
    "{SELECT ?film (GROUP_CONCAT(?date;SEPARATOR=\",\") AS ?year) WHERE{\n",
    "\n",
    "?film wdt:P179 wd:Q1364022;\n",
    "        wdt:P577 ?date.\n",
    "}\n",
    "GROUP BY (?film)}\n",
    "#Labels\n",
    "?film <http://schema.org/name> ?fname .\n",
    "}\n",
    "\n",
    "ORDER BY (?year)\n",
    "LIMIT 100\n",
    "\"\"\"\n",
    "\n",
    "print(\"Results\")\n",
    "run_query(queryString)"
   ]
  },
  {
   "cell_type": "markdown",
   "id": "0c694b70-cc20-4053-a4c5-701ec6089020",
   "metadata": {},
   "source": [
    "<h3> TASK 4 ENDS HERE </h3>"
   ]
  },
  {
   "cell_type": "markdown",
   "id": "8c29d8e8-058f-45f6-ab11-5c8c3895d628",
   "metadata": {},
   "source": [
    "<h3> TASK 5 STARTS HERE</h3>\n",
    "Who is most involved in a franchise (who did something in the movies, e.g., writer, director, producer)?"
   ]
  },
  {
   "cell_type": "markdown",
   "id": "2f5c43f0-5f93-421d-a9b8-14bca3f2e06a",
   "metadata": {},
   "source": [
    "Retrieve the most involved in Friday 13th franchise."
   ]
  },
  {
   "cell_type": "code",
   "execution_count": 2,
   "id": "0195ed21-e215-45d7-a3e5-b3c7d9279d4b",
   "metadata": {},
   "outputs": [
    {
     "name": "stdout",
     "output_type": "stream",
     "text": [
      "Results\n",
      "[('o', 'http://www.wikidata.org/entity/Q664025'), ('Appearances', '9')]\n",
      "[('o', 'http://www.wikidata.org/entity/Q709325'), ('Appearances', '6')]\n",
      "[('o', 'http://www.wikidata.org/entity/Q465134'), ('Appearances', '4')]\n",
      "[('o', 'http://www.wikidata.org/entity/Q3082711'), ('Appearances', '4')]\n",
      "[('o', 'http://www.wikidata.org/entity/Q375419'), ('Appearances', '3')]\n",
      "[('o', 'http://www.wikidata.org/entity/Q263765'), ('Appearances', '3')]\n",
      "[('o', 'http://www.wikidata.org/entity/Q30327831'), ('Appearances', '2')]\n",
      "[('o', 'http://www.wikidata.org/entity/Q3063036'), ('Appearances', '2')]\n",
      "[('o', 'http://www.wikidata.org/entity/Q3086901'), ('Appearances', '2')]\n",
      "[('o', 'http://www.wikidata.org/entity/Q6234410'), ('Appearances', '2')]\n"
     ]
    },
    {
     "data": {
      "text/plain": [
       "10"
      ]
     },
     "execution_count": 2,
     "metadata": {},
     "output_type": "execute_result"
    }
   ],
   "source": [
    "#Q31\n",
    "#most involved in Friday 13th franchise (?film wdt:P179 wd:Q1138878)\n",
    "queryString = \"\"\"\n",
    "SELECT ?o (COUNT(DISTINCT ?film) AS ?Appearances)\n",
    "{  \n",
    "?film wdt:P179 wd:Q1138878. #franchise\n",
    "?film ?p ?o.\n",
    "   VALUES ?p {wdt:P161 wdt:P162 wdt:P175 wdt:P344 wdt:P57 wdt:P58 wdt:P86 wdt:P2554}\n",
    "}\n",
    "GROUP BY (?o)\n",
    "ORDER BY DESC(?Appearances)\n",
    "LIMIT 10\n",
    "\"\"\"\n",
    "print(\"Results\")\n",
    "run_query(queryString)"
   ]
  },
  {
   "cell_type": "markdown",
   "id": "e8818bf2-81bd-4c14-90f5-f96a3c71454e",
   "metadata": {},
   "source": [
    "Retrieve in which films and with what roles appearead Harry Manfredini (first result of previous query)."
   ]
  },
  {
   "cell_type": "code",
   "execution_count": 4,
   "id": "a0d71640-db3a-464a-9d7f-ace77452c0cb",
   "metadata": {},
   "outputs": [
    {
     "name": "stdout",
     "output_type": "stream",
     "text": [
      "Results\n",
      "[('name', 'Harry Manfredini'), ('pname', 'performer'), ('film', 'http://www.wikidata.org/entity/Q1454799'), ('fname', 'Friday the 13th Part VI: Jason Lives')]\n",
      "[('name', 'Harry Manfredini'), ('pname', 'performer'), ('film', 'http://www.wikidata.org/entity/Q1243013'), ('fname', 'Friday the 13th Part III')]\n",
      "[('name', 'Harry Manfredini'), ('pname', 'performer'), ('film', 'http://www.wikidata.org/entity/Q1243019'), ('fname', 'Friday the 13th: The Final Chapter')]\n",
      "[('name', 'Harry Manfredini'), ('pname', 'performer'), ('film', 'http://www.wikidata.org/entity/Q1243009'), ('fname', 'Friday the 13th Part 2')]\n",
      "[('name', 'Harry Manfredini'), ('pname', 'performer'), ('film', 'http://www.wikidata.org/entity/Q1243029'), ('fname', 'Friday the 13th')]\n",
      "[('name', 'Harry Manfredini'), ('pname', 'performer'), ('film', 'http://www.wikidata.org/entity/Q286830'), ('fname', 'Friday the 13th: A New Beginning')]\n",
      "[('name', 'Harry Manfredini'), ('pname', 'composer'), ('film', 'http://www.wikidata.org/entity/Q1243013'), ('fname', 'Friday the 13th Part III')]\n",
      "[('name', 'Harry Manfredini'), ('pname', 'composer'), ('film', 'http://www.wikidata.org/entity/Q1454798'), ('fname', 'Friday the 13th Part VII: The New Blood')]\n",
      "[('name', 'Harry Manfredini'), ('pname', 'composer'), ('film', 'http://www.wikidata.org/entity/Q286830'), ('fname', 'Friday the 13th: A New Beginning')]\n",
      "[('name', 'Harry Manfredini'), ('pname', 'composer'), ('film', 'http://www.wikidata.org/entity/Q1427521'), ('fname', 'Jason X')]\n",
      "[('name', 'Harry Manfredini'), ('pname', 'composer'), ('film', 'http://www.wikidata.org/entity/Q1243009'), ('fname', 'Friday the 13th Part 2')]\n",
      "[('name', 'Harry Manfredini'), ('pname', 'composer'), ('film', 'http://www.wikidata.org/entity/Q1454799'), ('fname', 'Friday the 13th Part VI: Jason Lives')]\n",
      "[('name', 'Harry Manfredini'), ('pname', 'composer'), ('film', 'http://www.wikidata.org/entity/Q1243029'), ('fname', 'Friday the 13th')]\n",
      "[('name', 'Harry Manfredini'), ('pname', 'composer'), ('film', 'http://www.wikidata.org/entity/Q1243019'), ('fname', 'Friday the 13th: The Final Chapter')]\n",
      "[('name', 'Harry Manfredini'), ('pname', 'composer'), ('film', 'http://www.wikidata.org/entity/Q1683918'), ('fname', 'Jason Goes to Hell: The Final Friday')]\n"
     ]
    },
    {
     "data": {
      "text/plain": [
       "15"
      ]
     },
     "execution_count": 4,
     "metadata": {},
     "output_type": "execute_result"
    }
   ],
   "source": [
    "#Q32\n",
    "#have a look at wd:Q664025\n",
    "queryString = \"\"\"\n",
    "SELECT ?name ?pname ?film ?fname\n",
    "{  \n",
    "?film wdt:P179 wd:Q1138878. #franchise\n",
    "?film ?p wd:Q664025.\n",
    "   VALUES ?p {wdt:P161 wdt:P162 wdt:P175 wdt:P344 wdt:P57 wdt:P58 wdt:P86 wdt:P2554}\n",
    "   \n",
    "#Labels\n",
    "wd:Q664025 <http://schema.org/name> ?name .\n",
    "?p <http://schema.org/name> ?pname .\n",
    "?film <http://schema.org/name> ?fname .\n",
    "}\n",
    "\n",
    "LIMIT 25\n",
    "\"\"\"\n",
    "print(\"Results\")\n",
    "run_query(queryString)"
   ]
  },
  {
   "cell_type": "markdown",
   "id": "8c75034a-ff66-4371-9976-d4968bcc3c4d",
   "metadata": {},
   "source": [
    "A worker can be involved in different roles, so it's better to not use DISTINCT. Retrieve the same query as Q31 but without distinct."
   ]
  },
  {
   "cell_type": "code",
   "execution_count": 5,
   "id": "a08a6086-bef5-4844-9ed4-0b2922436ace",
   "metadata": {},
   "outputs": [
    {
     "name": "stdout",
     "output_type": "stream",
     "text": [
      "Results\n",
      "[('o', 'http://www.wikidata.org/entity/Q664025'), ('Appearances', '15')]\n",
      "[('o', 'http://www.wikidata.org/entity/Q709325'), ('Appearances', '7')]\n",
      "[('o', 'http://www.wikidata.org/entity/Q107404'), ('Appearances', '4')]\n",
      "[('o', 'http://www.wikidata.org/entity/Q3082711'), ('Appearances', '4')]\n",
      "[('o', 'http://www.wikidata.org/entity/Q465134'), ('Appearances', '4')]\n",
      "[('o', 'http://www.wikidata.org/entity/Q375419'), ('Appearances', '3')]\n",
      "[('o', 'http://www.wikidata.org/entity/Q263765'), ('Appearances', '3')]\n",
      "[('o', 'http://www.wikidata.org/entity/Q3116155'), ('Appearances', '2')]\n",
      "[('o', 'http://www.wikidata.org/entity/Q1314250'), ('Appearances', '2')]\n",
      "[('o', 'http://www.wikidata.org/entity/Q30327831'), ('Appearances', '2')]\n"
     ]
    },
    {
     "data": {
      "text/plain": [
       "10"
      ]
     },
     "execution_count": 5,
     "metadata": {},
     "output_type": "execute_result"
    }
   ],
   "source": [
    "#Q33\n",
    "#as Q31 but without DISTINCT since someone can be involved with different roles\n",
    "queryString = \"\"\"\n",
    "SELECT ?o (COUNT(?film) AS ?Appearances)\n",
    "{  \n",
    "?film wdt:P179 wd:Q1138878. #franchise\n",
    "?film ?p ?o.\n",
    "   VALUES ?p {wdt:P161 wdt:P162 wdt:P175 wdt:P344 wdt:P57 wdt:P58 wdt:P86 wdt:P2554}\n",
    "}\n",
    "GROUP BY (?o)\n",
    "ORDER BY DESC(?Appearances)\n",
    "LIMIT 10\n",
    "\"\"\"\n",
    "print(\"Results\")\n",
    "run_query(queryString)"
   ]
  },
  {
   "cell_type": "markdown",
   "id": "0a524b16-8b6c-49b3-9b3f-63de702a81b0",
   "metadata": {},
   "source": [
    "Retrieve the most involved in most films of Halloween franchise."
   ]
  },
  {
   "cell_type": "code",
   "execution_count": 7,
   "id": "b196f236-37dc-4490-937c-549a9e0b38a2",
   "metadata": {},
   "outputs": [
    {
     "name": "stdout",
     "output_type": "stream",
     "text": [
      "Results\n",
      "[('o', 'http://www.wikidata.org/entity/Q314914'), ('Appearances', '5')]\n",
      "[('o', 'http://www.wikidata.org/entity/Q106997'), ('Appearances', '5')]\n",
      "[('o', 'http://www.wikidata.org/entity/Q95008'), ('Appearances', '5')]\n",
      "[('o', 'http://www.wikidata.org/entity/Q380471'), ('Appearances', '4')]\n",
      "[('o', 'http://www.wikidata.org/entity/Q262102'), ('Appearances', '4')]\n",
      "[('o', 'http://www.wikidata.org/entity/Q272944'), ('Appearances', '4')]\n",
      "[('o', 'http://www.wikidata.org/entity/Q730362'), ('Appearances', '4')]\n",
      "[('o', 'http://www.wikidata.org/entity/Q1378684'), ('Appearances', '3')]\n",
      "[('o', 'http://www.wikidata.org/entity/Q201570'), ('Appearances', '3')]\n",
      "[('o', 'http://www.wikidata.org/entity/Q6963012'), ('Appearances', '3')]\n"
     ]
    },
    {
     "data": {
      "text/plain": [
       "10"
      ]
     },
     "execution_count": 7,
     "metadata": {},
     "output_type": "execute_result"
    }
   ],
   "source": [
    "#Q34\n",
    "#most involved in Halloween franchise\n",
    "queryString = \"\"\"\n",
    "SELECT ?o (COUNT(DISTINCT ?film) AS ?Appearances)\n",
    "{  \n",
    "?film wdt:P179 wd:Q1364022. #franchise\n",
    "?film ?p ?o.\n",
    "   VALUES ?p {wdt:P161 wdt:P162 wdt:P175 wdt:P344 wdt:P57 wdt:P58 wdt:P86 wdt:P2554}\n",
    "}\n",
    "GROUP BY (?o)\n",
    "ORDER BY DESC(?Appearances)\n",
    "LIMIT 10\n",
    "\"\"\"\n",
    "print(\"Results\")\n",
    "run_query(queryString)"
   ]
  },
  {
   "cell_type": "markdown",
   "id": "20055a62-8fff-4ca0-b39f-d8b0c32b1851",
   "metadata": {},
   "source": [
    "Retrieve the worker with the highest number of roles in the Halloween franchise."
   ]
  },
  {
   "cell_type": "code",
   "execution_count": 8,
   "id": "bd87eefd-a552-4cec-ab4a-0941d5ae4e03",
   "metadata": {},
   "outputs": [
    {
     "name": "stdout",
     "output_type": "stream",
     "text": [
      "Results\n",
      "[('o', 'http://www.wikidata.org/entity/Q95008'), ('Appearances', '13')]\n",
      "[('o', 'http://www.wikidata.org/entity/Q262102'), ('Appearances', '6')]\n",
      "[('o', 'http://www.wikidata.org/entity/Q298255'), ('Appearances', '6')]\n",
      "[('o', 'http://www.wikidata.org/entity/Q314914'), ('Appearances', '5')]\n",
      "[('o', 'http://www.wikidata.org/entity/Q106997'), ('Appearances', '5')]\n",
      "[('o', 'http://www.wikidata.org/entity/Q730362'), ('Appearances', '4')]\n",
      "[('o', 'http://www.wikidata.org/entity/Q272944'), ('Appearances', '4')]\n",
      "[('o', 'http://www.wikidata.org/entity/Q380471'), ('Appearances', '4')]\n",
      "[('o', 'http://www.wikidata.org/entity/Q574983'), ('Appearances', '4')]\n",
      "[('o', 'http://www.wikidata.org/entity/Q497036'), ('Appearances', '3')]\n"
     ]
    },
    {
     "data": {
      "text/plain": [
       "10"
      ]
     },
     "execution_count": 8,
     "metadata": {},
     "output_type": "execute_result"
    }
   ],
   "source": [
    "#Q35\n",
    "#most involved in Halloween franchise without distinct\n",
    "queryString = \"\"\"\n",
    "SELECT ?o (COUNT(?film) AS ?Appearances)\n",
    "{  \n",
    "?film wdt:P179 wd:Q1364022. #franchise\n",
    "?film ?p ?o.\n",
    "   VALUES ?p {wdt:P161 wdt:P162 wdt:P175 wdt:P344 wdt:P57 wdt:P58 wdt:P86 wdt:P2554}\n",
    "}\n",
    "GROUP BY (?o)\n",
    "ORDER BY DESC(?Appearances)\n",
    "LIMIT 10\n",
    "\"\"\"\n",
    "print(\"Results\")\n",
    "run_query(queryString)"
   ]
  },
  {
   "cell_type": "markdown",
   "id": "f740efff-5f35-4ef3-a51b-8564fea5da00",
   "metadata": {},
   "source": [
    "Retrieve in which films and with what role John Carpenter appeared in Halloween saga."
   ]
  },
  {
   "cell_type": "code",
   "execution_count": 12,
   "id": "aa77d0df-f3c6-4d0c-a174-0814d0b1fa0a",
   "metadata": {},
   "outputs": [
    {
     "name": "stdout",
     "output_type": "stream",
     "text": [
      "Results\n",
      "[('name', 'John Carpenter'), ('pname', 'cast member'), ('film', 'http://www.wikidata.org/entity/Q221103'), ('fname', 'Halloween')]\n",
      "[('name', 'John Carpenter'), ('pname', 'producer'), ('film', 'http://www.wikidata.org/entity/Q850312'), ('fname', 'Halloween II')]\n",
      "[('name', 'John Carpenter'), ('pname', 'producer'), ('film', 'http://www.wikidata.org/entity/Q203705'), ('fname', 'Halloween III: Season of the Witch')]\n",
      "[('name', 'John Carpenter'), ('pname', 'performer'), ('film', 'http://www.wikidata.org/entity/Q221103'), ('fname', 'Halloween')]\n",
      "[('name', 'John Carpenter'), ('pname', 'director'), ('film', 'http://www.wikidata.org/entity/Q850312'), ('fname', 'Halloween II')]\n",
      "[('name', 'John Carpenter'), ('pname', 'director'), ('film', 'http://www.wikidata.org/entity/Q221103'), ('fname', 'Halloween')]\n",
      "[('name', 'John Carpenter'), ('pname', 'screenwriter'), ('film', 'http://www.wikidata.org/entity/Q976728'), ('fname', 'Halloween 5: The Revenge of Michael Myers')]\n",
      "[('name', 'John Carpenter'), ('pname', 'screenwriter'), ('film', 'http://www.wikidata.org/entity/Q909063'), ('fname', 'Halloween')]\n",
      "[('name', 'John Carpenter'), ('pname', 'screenwriter'), ('film', 'http://www.wikidata.org/entity/Q221103'), ('fname', 'Halloween')]\n",
      "[('name', 'John Carpenter'), ('pname', 'screenwriter'), ('film', 'http://www.wikidata.org/entity/Q850312'), ('fname', 'Halloween II')]\n",
      "[('name', 'John Carpenter'), ('pname', 'composer'), ('film', 'http://www.wikidata.org/entity/Q850312'), ('fname', 'Halloween II')]\n",
      "[('name', 'John Carpenter'), ('pname', 'composer'), ('film', 'http://www.wikidata.org/entity/Q203705'), ('fname', 'Halloween III: Season of the Witch')]\n",
      "[('name', 'John Carpenter'), ('pname', 'composer'), ('film', 'http://www.wikidata.org/entity/Q221103'), ('fname', 'Halloween')]\n"
     ]
    },
    {
     "data": {
      "text/plain": [
       "13"
      ]
     },
     "execution_count": 12,
     "metadata": {},
     "output_type": "execute_result"
    }
   ],
   "source": [
    "#Q36\n",
    "#have a look at the most involved wd:Q95008 \n",
    "queryString = \"\"\"\n",
    "SELECT ?name ?pname ?film ?fname\n",
    "{  \n",
    "?film wdt:P179 wd:Q1364022. #franchise\n",
    "?film ?p wd:Q95008 .\n",
    "\n",
    "   VALUES ?p {wdt:P161 wdt:P162 wdt:P175 wdt:P344 wdt:P57 wdt:P58 wdt:P86 wdt:P2554}\n",
    "   \n",
    "#Labels\n",
    "wd:Q95008  <http://schema.org/name> ?name .\n",
    "?p <http://schema.org/name> ?pname .\n",
    "?film <http://schema.org/name> ?fname .\n",
    "}\n",
    "LIMIT 50\n",
    "\"\"\"\n",
    "print(\"Results\")\n",
    "run_query(queryString)"
   ]
  },
  {
   "cell_type": "markdown",
   "id": "99e912cc-8d98-4d9f-b925-fcaaf7c3978a",
   "metadata": {},
   "source": [
    "<h3> TASK 5 ENDS HERE </h3>\n",
    "The most involved in Friday 13th franchise is Henry Manfredini, he is a perfomer and composer who took part in 9 films.\n",
    "Meanwhile for Halloween franchise i found out that John Carpenter took part in five different films with several roles (actor, producer, performer,\n",
    "director,screenwriter). The most involved actors are Donald Pleasance (already found in task 2 and 3) and Jamie Lee Curtis who acted in five films."
   ]
  },
  {
   "cell_type": "markdown",
   "id": "354e5788-73dc-4390-95c4-42e943280204",
   "metadata": {},
   "source": [
    "<h3> TASK 6 STARTS HERE </h3>\n",
    "Investigate which franchise is highly regarded by the critics overall"
   ]
  },
  {
   "cell_type": "markdown",
   "id": "d664bdae-1565-49a2-be91-0b4eb22b78b5",
   "metadata": {},
   "source": [
    "In Q1 i found out P5021 (assessment), let's check if it can be useful."
   ]
  },
  {
   "cell_type": "code",
   "execution_count": 16,
   "id": "8f6559cd-b15f-4daf-b214-27583f92e9ad",
   "metadata": {},
   "outputs": [
    {
     "name": "stdout",
     "output_type": "stream",
     "text": [
      "Results\n",
      "[('film', 'http://www.wikidata.org/entity/Q909063'), ('o', 'http://www.wikidata.org/entity/Q4165246'), ('oname', 'Bechdel test')]\n",
      "[('film', 'http://www.wikidata.org/entity/Q221103'), ('o', 'http://www.wikidata.org/entity/Q4165246'), ('oname', 'Bechdel test')]\n",
      "[('film', 'http://www.wikidata.org/entity/Q1050815'), ('o', 'http://www.wikidata.org/entity/Q4165246'), ('oname', 'Bechdel test')]\n",
      "[('film', 'http://www.wikidata.org/entity/Q850312'), ('o', 'http://www.wikidata.org/entity/Q4165246'), ('oname', 'Bechdel test')]\n",
      "[('film', 'http://www.wikidata.org/entity/Q221103'), ('o', 'http://www.wikidata.org/entity/Q85783379'), ('oname', 'Mako Mori test')]\n"
     ]
    },
    {
     "data": {
      "text/plain": [
       "5"
      ]
     },
     "execution_count": 16,
     "metadata": {},
     "output_type": "execute_result"
    }
   ],
   "source": [
    "#Q37\n",
    "#in Q1 i found out P5021 (assessment), let's check if it can be useful\n",
    "queryString = \"\"\"\n",
    "SELECT ?film ?o ?oname\n",
    "{  \n",
    "?film wdt:P179 wd:Q1364022. #franchise\n",
    "?film wdt:P5021 ?o.\n",
    "   \n",
    "#Labels\n",
    "?o <http://schema.org/name> ?oname .\n",
    "}\n",
    "LIMIT 50\n",
    "\"\"\"\n",
    "print(\"Results\")\n",
    "run_query(queryString)"
   ]
  },
  {
   "cell_type": "markdown",
   "id": "cb4c0346-df54-4a2e-b954-2d06d2086465",
   "metadata": {},
   "source": [
    "Retrieve some properties of these tests to understand what they are about."
   ]
  },
  {
   "cell_type": "code",
   "execution_count": 17,
   "id": "613920d6-d771-41bc-8581-3d7e4bfb9509",
   "metadata": {},
   "outputs": [
    {
     "name": "stdout",
     "output_type": "stream",
     "text": [
      "Results\n",
      "[('p', 'http://www.wikidata.org/prop/direct/P1269'), ('pname', 'facet of'), ('obj', 'http://www.wikidata.org/entity/Q7252'), ('oname', 'feminism')]\n",
      "[('p', 'http://www.wikidata.org/prop/direct/P1269'), ('pname', 'facet of'), ('obj', 'http://www.wikidata.org/entity/Q7252'), ('oname', 'feminism')]\n",
      "[('p', 'http://www.wikidata.org/prop/direct/P1269'), ('pname', 'facet of'), ('obj', 'http://www.wikidata.org/entity/Q7252'), ('oname', 'feminism')]\n",
      "[('p', 'http://www.wikidata.org/prop/direct/P1269'), ('pname', 'facet of'), ('obj', 'http://www.wikidata.org/entity/Q7252'), ('oname', 'feminism')]\n",
      "[('p', 'http://www.wikidata.org/prop/direct/P1269'), ('pname', 'facet of'), ('obj', 'http://www.wikidata.org/entity/Q7252'), ('oname', 'feminism')]\n",
      "[('p', 'http://www.wikidata.org/prop/direct/P1269'), ('pname', 'facet of'), ('obj', 'http://www.wikidata.org/entity/Q2265123'), ('oname', 'Feminist film theory')]\n",
      "[('p', 'http://www.wikidata.org/prop/direct/P1269'), ('pname', 'facet of'), ('obj', 'http://www.wikidata.org/entity/Q2265123'), ('oname', 'Feminist film theory')]\n",
      "[('p', 'http://www.wikidata.org/prop/direct/P1269'), ('pname', 'facet of'), ('obj', 'http://www.wikidata.org/entity/Q2265123'), ('oname', 'Feminist film theory')]\n",
      "[('p', 'http://www.wikidata.org/prop/direct/P1269'), ('pname', 'facet of'), ('obj', 'http://www.wikidata.org/entity/Q2265123'), ('oname', 'Feminist film theory')]\n",
      "[('p', 'http://www.wikidata.org/prop/direct/P1269'), ('pname', 'facet of'), ('obj', 'http://www.wikidata.org/entity/Q2265123'), ('oname', 'Feminist film theory')]\n",
      "[('p', 'http://www.wikidata.org/prop/direct/P138'), ('pname', 'named after'), ('obj', 'http://www.wikidata.org/entity/Q435032'), ('oname', 'Alison Bechdel')]\n",
      "[('p', 'http://www.wikidata.org/prop/direct/P138'), ('pname', 'named after'), ('obj', 'http://www.wikidata.org/entity/Q435032'), ('oname', 'Alison Bechdel')]\n",
      "[('p', 'http://www.wikidata.org/prop/direct/P138'), ('pname', 'named after'), ('obj', 'http://www.wikidata.org/entity/Q435032'), ('oname', 'Alison Bechdel')]\n",
      "[('p', 'http://www.wikidata.org/prop/direct/P138'), ('pname', 'named after'), ('obj', 'http://www.wikidata.org/entity/Q435032'), ('oname', 'Alison Bechdel')]\n",
      "[('p', 'http://www.wikidata.org/prop/direct/P138'), ('pname', 'named after'), ('obj', 'http://www.wikidata.org/entity/Q106122093'), ('oname', 'Mako Mori')]\n",
      "[('p', 'http://www.wikidata.org/prop/direct/P1441'), ('pname', 'present in work'), ('obj', 'http://www.wikidata.org/entity/Q689591'), ('oname', 'Dykes to Watch Out For')]\n",
      "[('p', 'http://www.wikidata.org/prop/direct/P1441'), ('pname', 'present in work'), ('obj', 'http://www.wikidata.org/entity/Q689591'), ('oname', 'Dykes to Watch Out For')]\n",
      "[('p', 'http://www.wikidata.org/prop/direct/P1441'), ('pname', 'present in work'), ('obj', 'http://www.wikidata.org/entity/Q689591'), ('oname', 'Dykes to Watch Out For')]\n",
      "[('p', 'http://www.wikidata.org/prop/direct/P1441'), ('pname', 'present in work'), ('obj', 'http://www.wikidata.org/entity/Q689591'), ('oname', 'Dykes to Watch Out For')]\n",
      "[('p', 'http://www.wikidata.org/prop/direct/P31'), ('pname', 'instance of'), ('obj', 'http://www.wikidata.org/entity/Q102179937'), ('oname', 'representation test')]\n",
      "[('p', 'http://www.wikidata.org/prop/direct/P31'), ('pname', 'instance of'), ('obj', 'http://www.wikidata.org/entity/Q102179937'), ('oname', 'representation test')]\n",
      "[('p', 'http://www.wikidata.org/prop/direct/P31'), ('pname', 'instance of'), ('obj', 'http://www.wikidata.org/entity/Q102179937'), ('oname', 'representation test')]\n",
      "[('p', 'http://www.wikidata.org/prop/direct/P31'), ('pname', 'instance of'), ('obj', 'http://www.wikidata.org/entity/Q102179937'), ('oname', 'representation test')]\n",
      "[('p', 'http://www.wikidata.org/prop/direct/P31'), ('pname', 'instance of'), ('obj', 'http://www.wikidata.org/entity/Q102179937'), ('oname', 'representation test')]\n",
      "[('p', 'http://www.wikidata.org/prop/direct/P461'), ('pname', 'opposite of'), ('obj', 'http://www.wikidata.org/entity/Q105776216'), ('oname', 'reverse Bechdel Test')]\n",
      "[('p', 'http://www.wikidata.org/prop/direct/P461'), ('pname', 'opposite of'), ('obj', 'http://www.wikidata.org/entity/Q105776216'), ('oname', 'reverse Bechdel Test')]\n",
      "[('p', 'http://www.wikidata.org/prop/direct/P461'), ('pname', 'opposite of'), ('obj', 'http://www.wikidata.org/entity/Q105776216'), ('oname', 'reverse Bechdel Test')]\n",
      "[('p', 'http://www.wikidata.org/prop/direct/P461'), ('pname', 'opposite of'), ('obj', 'http://www.wikidata.org/entity/Q105776216'), ('oname', 'reverse Bechdel Test')]\n",
      "[('p', 'http://www.wikidata.org/prop/direct/P5008'), ('pname', 'on focus list of Wikimedia project'), ('obj', 'http://www.wikidata.org/entity/Q13360738'), ('oname', 'WikiProject Feminism')]\n",
      "[('p', 'http://www.wikidata.org/prop/direct/P5008'), ('pname', 'on focus list of Wikimedia project'), ('obj', 'http://www.wikidata.org/entity/Q13360738'), ('oname', 'WikiProject Feminism')]\n",
      "[('p', 'http://www.wikidata.org/prop/direct/P5008'), ('pname', 'on focus list of Wikimedia project'), ('obj', 'http://www.wikidata.org/entity/Q13360738'), ('oname', 'WikiProject Feminism')]\n",
      "[('p', 'http://www.wikidata.org/prop/direct/P5008'), ('pname', 'on focus list of Wikimedia project'), ('obj', 'http://www.wikidata.org/entity/Q13360738'), ('oname', 'WikiProject Feminism')]\n",
      "[('p', 'http://www.wikidata.org/prop/direct/P5008'), ('pname', 'on focus list of Wikimedia project'), ('obj', 'http://www.wikidata.org/entity/Q13360738'), ('oname', 'WikiProject Feminism')]\n",
      "[('p', 'http://www.wikidata.org/prop/direct/P5008'), ('pname', 'on focus list of Wikimedia project'), ('obj', 'http://www.wikidata.org/entity/Q21712210'), ('oname', 'WikiProject Women')]\n",
      "[('p', 'http://www.wikidata.org/prop/direct/P5008'), ('pname', 'on focus list of Wikimedia project'), ('obj', 'http://www.wikidata.org/entity/Q21712210'), ('oname', 'WikiProject Women')]\n",
      "[('p', 'http://www.wikidata.org/prop/direct/P5008'), ('pname', 'on focus list of Wikimedia project'), ('obj', 'http://www.wikidata.org/entity/Q21712210'), ('oname', 'WikiProject Women')]\n",
      "[('p', 'http://www.wikidata.org/prop/direct/P5008'), ('pname', 'on focus list of Wikimedia project'), ('obj', 'http://www.wikidata.org/entity/Q21712210'), ('oname', 'WikiProject Women')]\n",
      "[('p', 'http://www.wikidata.org/prop/direct/P5008'), ('pname', 'on focus list of Wikimedia project'), ('obj', 'http://www.wikidata.org/entity/Q21712210'), ('oname', 'WikiProject Women')]\n",
      "[('p', 'http://www.wikidata.org/prop/direct/P5008'), ('pname', 'on focus list of Wikimedia project'), ('obj', 'http://www.wikidata.org/entity/Q8485793'), ('oname', 'WikiProject Film')]\n",
      "[('p', 'http://www.wikidata.org/prop/direct/P5008'), ('pname', 'on focus list of Wikimedia project'), ('obj', 'http://www.wikidata.org/entity/Q8485793'), ('oname', 'WikiProject Film')]\n",
      "[('p', 'http://www.wikidata.org/prop/direct/P5008'), ('pname', 'on focus list of Wikimedia project'), ('obj', 'http://www.wikidata.org/entity/Q8485793'), ('oname', 'WikiProject Film')]\n",
      "[('p', 'http://www.wikidata.org/prop/direct/P5008'), ('pname', 'on focus list of Wikimedia project'), ('obj', 'http://www.wikidata.org/entity/Q8485793'), ('oname', 'WikiProject Film')]\n",
      "[('p', 'http://www.wikidata.org/prop/direct/P5008'), ('pname', 'on focus list of Wikimedia project'), ('obj', 'http://www.wikidata.org/entity/Q8485793'), ('oname', 'WikiProject Film')]\n",
      "[('p', 'http://www.wikidata.org/prop/direct/P5008'), ('pname', 'on focus list of Wikimedia project'), ('obj', 'http://www.wikidata.org/entity/Q102180207'), ('oname', 'WikiProject Media Representation')]\n",
      "[('p', 'http://www.wikidata.org/prop/direct/P5008'), ('pname', 'on focus list of Wikimedia project'), ('obj', 'http://www.wikidata.org/entity/Q102180207'), ('oname', 'WikiProject Media Representation')]\n",
      "[('p', 'http://www.wikidata.org/prop/direct/P5008'), ('pname', 'on focus list of Wikimedia project'), ('obj', 'http://www.wikidata.org/entity/Q102180207'), ('oname', 'WikiProject Media Representation')]\n",
      "[('p', 'http://www.wikidata.org/prop/direct/P5008'), ('pname', 'on focus list of Wikimedia project'), ('obj', 'http://www.wikidata.org/entity/Q102180207'), ('oname', 'WikiProject Media Representation')]\n",
      "[('p', 'http://www.wikidata.org/prop/direct/P527'), ('pname', 'has part'), ('obj', 'http://www.wikidata.org/entity/Q93591279'), ('oname', 'considering named characters only')]\n",
      "[('p', 'http://www.wikidata.org/prop/direct/P527'), ('pname', 'has part'), ('obj', 'http://www.wikidata.org/entity/Q93591279'), ('oname', 'considering named characters only')]\n",
      "[('p', 'http://www.wikidata.org/prop/direct/P527'), ('pname', 'has part'), ('obj', 'http://www.wikidata.org/entity/Q93591279'), ('oname', 'considering named characters only')]\n"
     ]
    },
    {
     "data": {
      "text/plain": [
       "50"
      ]
     },
     "execution_count": 17,
     "metadata": {},
     "output_type": "execute_result"
    }
   ],
   "source": [
    "#Q37\n",
    "#in Q1 i found out P5021 (assessment), let's check if it can be useful\n",
    "queryString = \"\"\"\n",
    "SELECT ?p ?pname ?obj ?oname\n",
    "{  \n",
    "?film wdt:P179 wd:Q1364022. #franchise\n",
    "?film wdt:P5021 ?o.\n",
    "?o ?p ?obj.\n",
    "   \n",
    "#Labels\n",
    "?p <http://schema.org/name> ?pname .\n",
    "?obj <http://schema.org/name> ?oname .\n",
    "}\n",
    "LIMIT 50\n",
    "\"\"\"\n",
    "print(\"Results\")\n",
    "run_query(queryString)"
   ]
  },
  {
   "cell_type": "markdown",
   "id": "c27554a3-97cf-4cc5-bc94-593b826358d5",
   "metadata": {},
   "source": [
    "They don't seem to be related to critics. Let's look if there is some info from Metacritic (P1712 found in Q1)."
   ]
  },
  {
   "cell_type": "code",
   "execution_count": 18,
   "id": "1bfc9e61-6a29-41ba-97fd-2c0188ae22d5",
   "metadata": {},
   "outputs": [
    {
     "name": "stdout",
     "output_type": "stream",
     "text": [
      "Results\n",
      "Empty\n"
     ]
    },
    {
     "data": {
      "text/plain": [
       "0"
      ]
     },
     "execution_count": 18,
     "metadata": {},
     "output_type": "execute_result"
    }
   ],
   "source": [
    "#Q38\n",
    "#ok it doesn't seem to be related to critics\n",
    "#let's look if there is some info from Metacritic (P1712 found in Q1)\n",
    "queryString = \"\"\"\n",
    "SELECT ?p ?pname ?obj ?oname\n",
    "{  \n",
    "?film wdt:P179 wd:Q1364022. #franchise\n",
    "?film wdt:P1712 ?o.\n",
    "?o ?p ?obj.\n",
    "   \n",
    "#Labels\n",
    "?p <http://schema.org/name> ?pname .\n",
    "?obj <http://schema.org/name> ?oname .\n",
    "}\n",
    "LIMIT 50\n",
    "\"\"\"\n",
    "print(\"Results\")\n",
    "run_query(queryString)"
   ]
  },
  {
   "cell_type": "code",
   "execution_count": 19,
   "id": "257250e1-8403-45f4-a2c9-c2f4ed9821c1",
   "metadata": {},
   "outputs": [
    {
     "name": "stdout",
     "output_type": "stream",
     "text": [
      "Results\n",
      "[('film', 'http://www.wikidata.org/entity/Q221103'), ('o', 'movie/halloween-1978')]\n",
      "[('film', 'http://www.wikidata.org/entity/Q1050815'), ('o', 'movie/halloween-h20-20-years-later')]\n",
      "[('film', 'http://www.wikidata.org/entity/Q176488'), ('o', 'movie/halloween-resurrection')]\n",
      "[('film', 'http://www.wikidata.org/entity/Q909063'), ('o', 'movie/halloween')]\n",
      "[('film', 'http://www.wikidata.org/entity/Q850312'), ('o', 'movie/halloween-ii')]\n",
      "[('film', 'http://www.wikidata.org/entity/Q203705'), ('o', 'movie/halloween-iii-season-of-the-witch')]\n",
      "[('film', 'http://www.wikidata.org/entity/Q959853'), ('o', 'movie/halloween-4-the-return-of-michael-myers')]\n",
      "[('film', 'http://www.wikidata.org/entity/Q976728'), ('o', 'movie/halloween-5-the-revenge-of-michael-myers')]\n",
      "[('film', 'http://www.wikidata.org/entity/Q908690'), ('o', 'movie/halloween-ii-2009')]\n",
      "[('film', 'http://www.wikidata.org/entity/Q1138055'), ('o', 'movie/halloween-the-curse-of-michael-myers')]\n"
     ]
    },
    {
     "data": {
      "text/plain": [
       "10"
      ]
     },
     "execution_count": 19,
     "metadata": {},
     "output_type": "execute_result"
    }
   ],
   "source": [
    "#Q39\n",
    "#let's look if there is some info from Metacritic (P1712 found in Q1)\n",
    "queryString = \"\"\"\n",
    "SELECT DISTINCT ?film ?o\n",
    "{  \n",
    "?film wdt:P179 wd:Q1364022. #franchise\n",
    "?film wdt:P1712 ?o.\n",
    "}\n",
    "LIMIT 50\n",
    "\"\"\"\n",
    "print(\"Results\")\n",
    "run_query(queryString)"
   ]
  },
  {
   "cell_type": "markdown",
   "id": "8e1c3f57-9a04-4a38-aee3-4704e718a355",
   "metadata": {},
   "source": [
    "Also the different IDs don't look to be useful, i think the best way is to see each film how many time has been nominated/won some awards using\n",
    "P1411 (found in Q1) and P166 (found in Q11)."
   ]
  },
  {
   "cell_type": "code",
   "execution_count": 20,
   "id": "39ade356-1fd7-43ed-9070-5c68fe0553b7",
   "metadata": {},
   "outputs": [
    {
     "name": "stdout",
     "output_type": "stream",
     "text": [
      "Results\n",
      "Empty\n"
     ]
    },
    {
     "data": {
      "text/plain": [
       "0"
      ]
     },
     "execution_count": 20,
     "metadata": {},
     "output_type": "execute_result"
    }
   ],
   "source": [
    "#Q40\n",
    "#also the different IDs don't look to be useful, i think the best way is to see each film how many time has been nominated/won some awards using\n",
    "#P1411 (found in Q1) and P166 (found in Q11)\n",
    "queryString = \"\"\"\n",
    "SELECT ?film ?nomination ?award WHERE{\n",
    "\n",
    "{SELECT ?film (COUNT(?o) as ?nomination) WHERE\n",
    "{  \n",
    "?film wdt:P179 ?franchise;\n",
    "      wdt:P1411 ?o.\n",
    "VALUES ?franchise {wd:Q1364022 wd:Q1138878}\n",
    "}\n",
    "GROUP BY ?film}\n",
    "\n",
    "{SELECT ?film (COUNT(?o) as ?award) WHERE\n",
    "{  \n",
    "?film wdt:P179 ?franchise;\n",
    "      wdt:P166 ?o.\n",
    "VALUES ?franchise {wd:Q1364022 wd:Q1138878}\n",
    "}\n",
    "GROUP BY ?film}\n",
    "}\n",
    "ORDER BY ?award ?nomination\n",
    "\"\"\"\n",
    "print(\"Results\")\n",
    "run_query(queryString)"
   ]
  },
  {
   "cell_type": "markdown",
   "id": "17fe812d-a1b8-420d-8080-2b251a44d6ca",
   "metadata": {},
   "source": [
    "Retrieve just nominations for both films."
   ]
  },
  {
   "cell_type": "code",
   "execution_count": 21,
   "id": "9c182c6a-ef0c-4a55-bc60-8af8d416a2b4",
   "metadata": {},
   "outputs": [
    {
     "name": "stdout",
     "output_type": "stream",
     "text": [
      "Results\n",
      "[('film', 'http://www.wikidata.org/entity/Q1243029'), ('nomination', '2')]\n"
     ]
    },
    {
     "data": {
      "text/plain": [
       "1"
      ]
     },
     "execution_count": 21,
     "metadata": {},
     "output_type": "execute_result"
    }
   ],
   "source": [
    "#Q41\n",
    "#just nomination\n",
    "queryString = \"\"\"\n",
    "SELECT ?film (COUNT(?o) as ?nomination) WHERE\n",
    "{  \n",
    "?film wdt:P179 ?franchise;\n",
    "      wdt:P1411 ?o.\n",
    "VALUES ?franchise {wd:Q1364022 wd:Q1138878}\n",
    "}\n",
    "GROUP BY ?film\n",
    "\"\"\"\n",
    "print(\"Results\")\n",
    "run_query(queryString)"
   ]
  },
  {
   "cell_type": "markdown",
   "id": "1ffa0945-7d81-4f03-b1b7-7960dd822531",
   "metadata": {},
   "source": [
    "Retrieve awards won by each film."
   ]
  },
  {
   "cell_type": "code",
   "execution_count": 23,
   "id": "51b756a7-ffb9-46e0-8bb0-f2683fc8afdb",
   "metadata": {},
   "outputs": [
    {
     "name": "stdout",
     "output_type": "stream",
     "text": [
      "Results\n",
      "[('film', 'http://www.wikidata.org/entity/Q221103'), ('awards', '1')]\n"
     ]
    },
    {
     "data": {
      "text/plain": [
       "1"
      ]
     },
     "execution_count": 23,
     "metadata": {},
     "output_type": "execute_result"
    }
   ],
   "source": [
    "#Q42\n",
    "#just awards won\n",
    "queryString = \"\"\"\n",
    "SELECT ?film (COUNT(?o) as ?awards) WHERE\n",
    "{  \n",
    "?film wdt:P179 ?franchise;\n",
    "      wdt:P166 ?o.\n",
    "VALUES ?franchise {wd:Q1364022 wd:Q1138878}\n",
    "}\n",
    "GROUP BY ?film\n",
    "\"\"\"\n",
    "print(\"Results\")\n",
    "run_query(queryString)"
   ]
  },
  {
   "cell_type": "markdown",
   "id": "9ac99667-5221-4740-9e9b-9ed7bfffa79a",
   "metadata": {},
   "source": [
    "Retrieve the awards for what Friday 13th films have been nominated."
   ]
  },
  {
   "cell_type": "code",
   "execution_count": 5,
   "id": "30cccae1-8c66-4be3-9cfe-559e2077eee1",
   "metadata": {},
   "outputs": [
    {
     "name": "stdout",
     "output_type": "stream",
     "text": [
      "Results\n",
      "[('film', 'http://www.wikidata.org/entity/Q1243029'), ('fname', 'Friday the 13th'), ('nomination', 'http://www.wikidata.org/entity/Q1780634'), ('nname', 'Golden Raspberry Award for Worst Picture')]\n",
      "[('film', 'http://www.wikidata.org/entity/Q1243029'), ('fname', 'Friday the 13th'), ('nomination', 'http://www.wikidata.org/entity/Q977915'), ('nname', 'Golden Raspberry Award for Worst Supporting Actress')]\n",
      "[('film', 'http://www.wikidata.org/entity/Q221103'), ('fname', 'Halloween'), ('award', 'http://www.wikidata.org/entity/Q823422'), ('aname', 'National Film Registry')]\n"
     ]
    },
    {
     "data": {
      "text/plain": [
       "3"
      ]
     },
     "execution_count": 5,
     "metadata": {},
     "output_type": "execute_result"
    }
   ],
   "source": [
    "#Q43\n",
    "#get film and for what it has been nominated/what it won\n",
    "queryString = \"\"\"\n",
    "SELECT ?film ?fname ?nomination ?nname ?award ?aname WHERE\n",
    "{  \n",
    "?film wdt:P179 ?franchise.\n",
    "VALUES ?franchise {wd:Q1364022 wd:Q1138878}\n",
    "?film <http://schema.org/name> ?fname .\n",
    "{ { \n",
    "?film wdt:P1411 ?nomination.\n",
    "?nomination <http://schema.org/name> ?nname .\n",
    "} UNION { \n",
    "?film wdt:P166 ?award.\n",
    "?award <http://schema.org/name> ?aname .} }\n",
    "}\n",
    "LIMIT 10\n",
    "\"\"\"\n",
    "print(\"Results\")\n",
    "run_query(queryString)"
   ]
  },
  {
   "cell_type": "markdown",
   "id": "76177417-7373-4985-a573-4f69c84c293d",
   "metadata": {},
   "source": [
    "Very interesting this golden raspberry award, just for curiosity i want to take a quick look at this (wd:Q1780634)."
   ]
  },
  {
   "cell_type": "code",
   "execution_count": 6,
   "id": "f07bad20-bb13-4ac4-affa-796ff891dc72",
   "metadata": {
    "collapsed": true,
    "jupyter": {
     "outputs_hidden": true
    },
    "tags": []
   },
   "outputs": [
    {
     "name": "stdout",
     "output_type": "stream",
     "text": [
      "Results\n",
      "[('p', 'http://www.wikidata.org/prop/direct/P1346'), ('pname', 'winner'), ('o', 'http://www.wikidata.org/entity/Q15455603'), ('oname', 'Buzz Feitshans')]\n",
      "[('p', 'http://www.wikidata.org/prop/direct/P1346'), ('pname', 'winner'), ('o', 'http://www.wikidata.org/entity/Q185724'), ('oname', 'Mike Myers')]\n",
      "[('p', 'http://www.wikidata.org/prop/direct/P1346'), ('pname', 'winner'), ('o', 'http://www.wikidata.org/entity/Q381545'), ('oname', 'Elie Samaha')]\n",
      "[('p', 'http://www.wikidata.org/prop/direct/P1346'), ('pname', 'winner'), ('o', 'http://www.wikidata.org/entity/Q2563751'), ('oname', 'Jon Peters')]\n",
      "[('p', 'http://www.wikidata.org/prop/direct/P1346'), ('pname', 'winner'), ('o', 'http://www.wikidata.org/entity/Q3999144'), ('oname', 'Triumph Films')]\n",
      "[('p', 'http://www.wikidata.org/prop/direct/P1346'), ('pname', 'winner'), ('o', 'http://www.wikidata.org/entity/Q7482626'), ('oname', 'Steve Tisch')]\n",
      "[('p', 'http://www.wikidata.org/prop/direct/P1346'), ('pname', 'winner'), ('o', 'http://www.wikidata.org/entity/Q9012349'), ('oname', 'Joel B. Michaels')]\n",
      "[('p', 'http://www.wikidata.org/prop/direct/P1346'), ('pname', 'winner'), ('o', 'http://www.wikidata.org/entity/Q3196855'), ('oname', 'Kimberley Kates')]\n",
      "[('p', 'http://www.wikidata.org/prop/direct/P1346'), ('pname', 'winner'), ('o', 'http://www.wikidata.org/entity/Q503720'), ('oname', 'Andrew Bergman')]\n",
      "[('p', 'http://www.wikidata.org/prop/direct/P1346'), ('pname', 'winner'), ('o', 'http://www.wikidata.org/entity/Q126399'), ('oname', 'Warner Bros.')]\n",
      "[('p', 'http://www.wikidata.org/prop/direct/P1346'), ('pname', 'winner'), ('o', 'http://www.wikidata.org/entity/Q154958'), ('oname', 'Nickelodeon')]\n",
      "[('p', 'http://www.wikidata.org/prop/direct/P1346'), ('pname', 'winner'), ('o', 'http://www.wikidata.org/entity/Q5453219'), ('oname', 'First Look Studios')]\n",
      "[('p', 'http://www.wikidata.org/prop/direct/P1346'), ('pname', 'winner'), ('o', 'http://www.wikidata.org/entity/Q229477'), ('oname', 'Bo Derek')]\n",
      "[('p', 'http://www.wikidata.org/prop/direct/P1346'), ('pname', 'winner'), ('o', 'http://www.wikidata.org/entity/Q317567'), ('oname', 'Barry Sonnenfeld')]\n",
      "[('p', 'http://www.wikidata.org/prop/direct/P1346'), ('pname', 'winner'), ('o', 'http://www.wikidata.org/entity/Q2053826'), ('oname', 'Denise Di Novi')]\n",
      "[('p', 'http://www.wikidata.org/prop/direct/P1346'), ('pname', 'winner'), ('o', 'http://www.wikidata.org/entity/Q220834'), ('oname', 'Joe Eszterhas')]\n",
      "[('p', 'http://www.wikidata.org/prop/direct/P1346'), ('pname', 'winner'), ('o', 'http://www.wikidata.org/entity/Q80938'), ('oname', 'John Travolta')]\n",
      "[('p', 'http://www.wikidata.org/prop/direct/P1346'), ('pname', 'winner'), ('o', 'http://www.wikidata.org/entity/Q920273'), ('oname', 'Michael De Luca')]\n",
      "[('p', 'http://www.wikidata.org/prop/direct/P1346'), ('pname', 'winner'), ('o', 'http://www.wikidata.org/entity/Q1160868'), ('oname', 'Revolution Studios')]\n",
      "[('p', 'http://www.wikidata.org/prop/direct/P1346'), ('pname', 'winner'), ('o', 'http://www.wikidata.org/entity/Q363117'), ('oname', 'Martin Brest')]\n",
      "[('p', 'http://www.wikidata.org/prop/direct/P1346'), ('pname', 'winner'), ('o', 'http://www.wikidata.org/entity/Q5048582'), ('oname', 'Casey Silver')]\n",
      "[('p', 'http://www.wikidata.org/prop/direct/P1346'), ('pname', 'winner'), ('o', 'http://www.wikidata.org/entity/Q299704'), ('oname', 'Sherry Lansing')]\n",
      "[('p', 'http://www.wikidata.org/prop/direct/P1346'), ('pname', 'winner'), ('o', 'http://www.wikidata.org/entity/Q1057926'), ('oname', 'John Asher')]\n",
      "[('p', 'http://www.wikidata.org/prop/direct/P1346'), ('pname', 'winner'), ('o', 'http://www.wikidata.org/entity/Q1386741'), ('oname', 'Harve Bennett')]\n",
      "[('p', 'http://www.wikidata.org/prop/direct/P1346'), ('pname', 'winner'), ('o', 'http://www.wikidata.org/entity/Q3750890'), ('oname', 'Franchise Pictures')]\n",
      "[('p', 'http://www.wikidata.org/prop/direct/P31'), ('pname', 'instance of'), ('o', 'http://www.wikidata.org/entity/Q56116950'), ('oname', 'film award category')]\n",
      "[('p', 'http://www.wikidata.org/prop/direct/P1346'), ('pname', 'winner'), ('o', 'http://www.wikidata.org/entity/Q2593'), ('oname', 'Matthew Vaughn')]\n",
      "[('p', 'http://www.wikidata.org/prop/direct/P1346'), ('pname', 'winner'), ('o', 'http://www.wikidata.org/entity/Q3758467'), ('oname', 'Gary Barber')]\n",
      "[('p', 'http://www.wikidata.org/prop/direct/P1346'), ('pname', 'winner'), ('o', 'http://www.wikidata.org/entity/Q3082871'), ('oname', 'Frank Yablans')]\n",
      "[('p', 'http://www.wikidata.org/prop/direct/P17'), ('pname', 'country'), ('o', 'http://www.wikidata.org/entity/Q30'), ('oname', 'United States of America')]\n",
      "[('p', 'http://www.wikidata.org/prop/direct/P1346'), ('pname', 'winner'), ('o', 'http://www.wikidata.org/entity/Q11930'), ('oname', 'Kevin Costner')]\n",
      "[('p', 'http://www.wikidata.org/prop/direct/P1346'), ('pname', 'winner'), ('o', 'http://www.wikidata.org/entity/Q159846'), ('oname', 'Paramount Pictures')]\n",
      "[('p', 'http://www.wikidata.org/prop/direct/P1346'), ('pname', 'winner'), ('o', 'http://www.wikidata.org/entity/Q186941'), ('oname', 'Columbia Pictures')]\n",
      "[('p', 'http://www.wikidata.org/prop/direct/P1346'), ('pname', 'winner'), ('o', 'http://www.wikidata.org/entity/Q369195'), ('oname', 'Sam Mercer')]\n",
      "[('p', 'http://www.wikidata.org/prop/direct/P1346'), ('pname', 'winner'), ('o', 'http://www.wikidata.org/entity/Q3808389'), ('oname', 'Jim Wilson')]\n",
      "[('p', 'http://www.wikidata.org/prop/direct/P1346'), ('pname', 'winner'), ('o', 'http://www.wikidata.org/entity/Q434841'), ('oname', '20th Century Studios')]\n",
      "[('p', 'http://www.wikidata.org/prop/direct/P1346'), ('pname', 'winner'), ('o', 'http://www.wikidata.org/entity/Q51489'), ('oname', 'M. Night Shyamalan')]\n",
      "[('p', 'http://www.wikidata.org/prop/direct/P1346'), ('pname', 'winner'), ('o', 'http://www.wikidata.org/entity/Q549570'), ('oname', 'Frank Marshall')]\n",
      "[('p', 'http://www.wikidata.org/prop/direct/P1346'), ('pname', 'winner'), ('o', 'http://www.wikidata.org/entity/Q651454'), ('oname', 'TriStar Pictures')]\n",
      "[('p', 'http://www.wikidata.org/prop/direct/P1346'), ('pname', 'winner'), ('o', 'http://www.wikidata.org/entity/Q2837687'), ('oname', 'Allan Carr')]\n",
      "[('p', 'http://www.wikidata.org/prop/direct/P1346'), ('pname', 'winner'), ('o', 'http://www.wikidata.org/entity/Q213512'), ('oname', 'Bill Cosby')]\n",
      "[('p', 'http://www.wikidata.org/prop/direct/P1346'), ('pname', 'winner'), ('o', 'http://www.wikidata.org/entity/Q1370297'), ('oname', 'Screen Gems')]\n",
      "[('p', 'http://www.wikidata.org/prop/direct/P1346'), ('pname', 'winner'), ('o', 'http://www.wikidata.org/entity/Q179200'), ('oname', 'Metro-Goldwyn-Mayer')]\n",
      "[('p', 'http://www.wikidata.org/prop/direct/P1346'), ('pname', 'winner'), ('o', 'http://www.wikidata.org/entity/Q219400'), ('oname', 'United Artists Corporation')]\n",
      "[('p', 'http://www.wikidata.org/prop/direct/P1346'), ('pname', 'winner'), ('o', 'http://www.wikidata.org/entity/Q160219'), ('oname', 'Stephenie Meyer')]\n",
      "[('p', 'http://www.wikidata.org/prop/direct/P1346'), ('pname', 'winner'), ('o', 'http://www.wikidata.org/entity/Q622848'), ('oname', 'Castle Rock Entertainment')]\n",
      "[('p', 'http://www.wikidata.org/prop/direct/P1346'), ('pname', 'winner'), ('o', 'http://www.wikidata.org/entity/Q632323'), ('oname', 'Summit Entertainment')]\n",
      "[('p', 'http://www.wikidata.org/prop/direct/P1346'), ('pname', 'winner'), ('o', 'http://www.wikidata.org/entity/Q192557'), ('oname', 'DreamWorks')]\n",
      "[('p', 'http://www.wikidata.org/prop/direct/P1346'), ('pname', 'winner'), ('o', 'http://www.wikidata.org/entity/Q2270687'), ('oname', 'Don Murphy')]\n",
      "[('p', 'http://www.wikidata.org/prop/direct/P1346'), ('pname', 'winner'), ('o', 'http://www.wikidata.org/entity/Q501476'), ('oname', 'Hasbro')]\n",
      "[('p', 'http://www.wikidata.org/prop/direct/P1346'), ('pname', 'winner'), ('o', 'http://www.wikidata.org/entity/Q5077447'), ('oname', 'Charles Evans')]\n",
      "[('p', 'http://www.wikidata.org/prop/direct/P1346'), ('pname', 'winner'), ('o', 'http://www.wikidata.org/entity/Q536964'), ('oname', 'Ian Bryce')]\n",
      "[('p', 'http://www.wikidata.org/prop/direct/P1346'), ('pname', 'winner'), ('o', 'http://www.wikidata.org/entity/Q539718'), ('oname', 'Joel Silver')]\n",
      "[('p', 'http://www.wikidata.org/prop/direct/P1346'), ('pname', 'winner'), ('o', 'http://www.wikidata.org/entity/Q636664'), ('oname', 'Lorenzo di Bonaventura')]\n",
      "[('p', 'http://www.wikidata.org/prop/direct/P1346'), ('pname', 'winner'), ('o', 'http://www.wikidata.org/entity/Q6811130'), ('oname', 'Tom DeSanto')]\n",
      "[('p', 'http://www.wikidata.org/prop/direct/P1346'), ('pname', 'winner'), ('o', 'http://www.wikidata.org/entity/Q132952'), ('oname', 'Adam Sandler')]\n",
      "[('p', 'http://www.wikidata.org/prop/direct/P1346'), ('pname', 'winner'), ('o', 'http://www.wikidata.org/entity/Q1385214'), ('oname', 'Mario Kassar')]\n",
      "[('p', 'http://www.wikidata.org/prop/direct/P1346'), ('pname', 'winner'), ('o', 'http://www.wikidata.org/entity/Q230993'), ('oname', 'Jenny McCarthy Wahlberg')]\n",
      "[('p', 'http://www.wikidata.org/prop/direct/P1346'), ('pname', 'winner'), ('o', 'http://www.wikidata.org/entity/Q3157185'), ('oname', 'Jack Giarraputo')]\n",
      "[('p', 'http://www.wikidata.org/prop/direct/P1346'), ('pname', 'winner'), ('o', 'http://www.wikidata.org/entity/Q383528'), ('oname', 'Andrew G. Vajna')]\n",
      "[('p', 'http://www.wikidata.org/prop/direct/P1346'), ('pname', 'winner'), ('o', 'http://www.wikidata.org/entity/Q1348264'), ('oname', 'Hollywood Pictures')]\n",
      "[('p', 'http://www.wikidata.org/prop/direct/P31'), ('pname', 'instance of'), ('o', 'http://www.wikidata.org/entity/Q40237'), ('oname', 'Golden Raspberry Awards')]\n",
      "[('p', 'http://www.wikidata.org/prop/direct/P1346'), ('pname', 'winner'), ('o', 'http://www.wikidata.org/entity/Q6272883'), ('oname', 'Jonathan D. Krane')]\n",
      "[('p', 'http://www.wikidata.org/prop/direct/P1346'), ('pname', 'winner'), ('o', 'http://www.wikidata.org/entity/Q133631'), ('oname', 'Gloria Katz')]\n",
      "[('p', 'http://www.wikidata.org/prop/direct/P1346'), ('pname', 'winner'), ('o', 'http://www.wikidata.org/entity/Q4886204'), ('oname', 'Ben Myron')]\n",
      "[('p', 'http://www.wikidata.org/prop/direct/P1346'), ('pname', 'winner'), ('o', 'http://www.wikidata.org/entity/Q73608'), ('oname', 'Michael Manasseri')]\n",
      "[('p', 'http://www.wikidata.org/prop/direct/P1346'), ('pname', 'winner'), ('o', 'http://www.wikidata.org/entity/Q3082711'), ('oname', 'Frank Mancuso, Jr.')]\n",
      "[('p', 'http://www.wikidata.org/prop/direct/P1346'), ('pname', 'winner'), ('o', 'http://www.wikidata.org/entity/Q7350659'), ('oname', 'Robert W. Cort')]\n",
      "[('p', 'http://www.wikidata.org/prop/direct/P1346'), ('pname', 'winner'), ('o', 'http://www.wikidata.org/entity/Q7693189'), ('oname', 'Ted Field')]\n",
      "[('p', 'http://www.wikidata.org/prop/direct/P1346'), ('pname', 'winner'), ('o', 'http://www.wikidata.org/entity/Q19878370'), ('oname', 'Todd Garner')]\n",
      "[('p', 'http://www.wikidata.org/prop/direct/P1346'), ('pname', 'winner'), ('o', 'http://www.wikidata.org/entity/Q938050'), ('oname', 'Alan Marshall')]\n",
      "[('p', 'http://www.wikidata.org/prop/direct/P279'), ('pname', 'subclass of'), ('o', 'http://www.wikidata.org/entity/Q97597352'), ('oname', 'award for worst (...)')]\n",
      "[('p', 'http://www.wikidata.org/prop/direct/P1346'), ('pname', 'winner'), ('o', 'http://www.wikidata.org/entity/Q16205325'), ('oname', 'Carol Baum')]\n",
      "[('p', 'http://www.wikidata.org/prop/direct/P1346'), ('pname', 'winner'), ('o', 'http://www.wikidata.org/entity/Q15622666'), ('oname', 'Howard Rosenman')]\n",
      "[('p', 'http://www.wikidata.org/prop/direct/P1424'), ('pname', \"topic's main template\"), ('o', 'http://www.wikidata.org/entity/Q14407000'), ('oname', 'Template:Golden Raspberry Award for Worst Picture')]\n"
     ]
    },
    {
     "data": {
      "text/plain": [
       "75"
      ]
     },
     "execution_count": 6,
     "metadata": {},
     "output_type": "execute_result"
    }
   ],
   "source": [
    "#Q44\n",
    "#very interesting this golden raspberry award, just for curiosity i want to take a quick look at this (wd:Q1780634)\n",
    "queryString = \"\"\"\n",
    "SELECT ?p ?pname ?o ?oname WHERE\n",
    "{  \n",
    "wd:Q1780634 ?p ?o.\n",
    "\n",
    "#Labels\n",
    "?p <http://schema.org/name> ?pname .\n",
    "?o <http://schema.org/name> ?oname .\n",
    "}\n",
    "LIMIT 100\n",
    "\"\"\"\n",
    "print(\"Results\")\n",
    "run_query(queryString)"
   ]
  },
  {
   "cell_type": "code",
   "execution_count": 7,
   "id": "0d4703b3-1b49-403d-9fcc-83d562b1102d",
   "metadata": {},
   "outputs": [
    {
     "name": "stdout",
     "output_type": "stream",
     "text": [
      "Results\n",
      "[('p', 'http://www.wikidata.org/prop/direct/P527'), ('pname', 'has part'), ('o', 'http://www.wikidata.org/entity/Q1535134'), ('oname', 'Golden Raspberry Award for Worst Visual Effects')]\n",
      "[('p', 'http://www.wikidata.org/prop/direct/P17'), ('pname', 'country'), ('o', 'http://www.wikidata.org/entity/Q30'), ('oname', 'United States of America')]\n",
      "[('p', 'http://www.wikidata.org/prop/direct/P31'), ('pname', 'instance of'), ('o', 'http://www.wikidata.org/entity/Q107655869'), ('oname', 'group of awards')]\n",
      "[('p', 'http://www.wikidata.org/prop/direct/P8225'), ('pname', 'is metaclass for'), ('o', 'http://www.wikidata.org/entity/Q4220917'), ('oname', 'film award')]\n",
      "[('p', 'http://www.wikidata.org/prop/direct/P279'), ('pname', 'subclass of'), ('o', 'http://www.wikidata.org/entity/Q4220917'), ('oname', 'film award')]\n",
      "[('p', 'http://www.wikidata.org/prop/direct/P279'), ('pname', 'subclass of'), ('o', 'http://www.wikidata.org/entity/Q38033430'), ('oname', 'class of award')]\n",
      "[('p', 'http://www.wikidata.org/prop/direct/P31'), ('pname', 'instance of'), ('o', 'http://www.wikidata.org/entity/Q19361238'), ('oname', 'Wikidata metaclass')]\n",
      "[('p', 'http://www.wikidata.org/prop/direct/P279'), ('pname', 'subclass of'), ('o', 'http://www.wikidata.org/entity/Q14936523'), ('oname', 'ironic award')]\n",
      "[('p', 'http://www.wikidata.org/prop/direct/P1889'), ('pname', 'different from'), ('o', 'http://www.wikidata.org/entity/Q296773'), ('oname', 'Malina')]\n",
      "[('p', 'http://www.wikidata.org/prop/direct/P910'), ('pname', \"topic's main category\"), ('o', 'http://www.wikidata.org/entity/Q8493560'), ('oname', 'Category:Golden Raspberry Awards')]\n"
     ]
    },
    {
     "data": {
      "text/plain": [
       "10"
      ]
     },
     "execution_count": 7,
     "metadata": {},
     "output_type": "execute_result"
    }
   ],
   "source": [
    "#Q45\n",
    "#very interesting this golden raspberry award, just for curiosity i want to take a quick look at this (wd:Q1780634)\n",
    "queryString = \"\"\"\n",
    "SELECT ?p ?pname ?o ?oname WHERE\n",
    "{\n",
    "\n",
    "wd:Q1780634 wdt:P31 ?s.\n",
    "?s ?p ?o.\n",
    "\n",
    "#Labels\n",
    "?p <http://schema.org/name> ?pname .\n",
    "?o <http://schema.org/name> ?oname .\n",
    "}\n",
    "LIMIT 100\n",
    "\"\"\"\n",
    "print(\"Results\")\n",
    "run_query(queryString)"
   ]
  },
  {
   "cell_type": "markdown",
   "id": "5205114b-eb93-4543-bfbc-d3eaaf46c679",
   "metadata": {},
   "source": [
    "I notice that exists also the reverse path (from award to movie) using P1346, let's use it to check if movies won something else."
   ]
  },
  {
   "cell_type": "code",
   "execution_count": 8,
   "id": "2c55bfc0-c249-43d2-b4ac-2f787a910102",
   "metadata": {},
   "outputs": [
    {
     "name": "stdout",
     "output_type": "stream",
     "text": [
      "Results\n",
      "Empty\n"
     ]
    },
    {
     "data": {
      "text/plain": [
       "0"
      ]
     },
     "execution_count": 8,
     "metadata": {},
     "output_type": "execute_result"
    }
   ],
   "source": [
    "#Q46\n",
    "#i notice that exists also the reverse path (from award to movie) using P1346, let's use it to check if movies won something else\n",
    "queryString = \"\"\"\n",
    "SELECT ?film (COUNT(?o) as ?awards) WHERE\n",
    "{  \n",
    "?film wdt:P179 ?franchise.\n",
    "?award wdt:P1346 ?film.\n",
    "VALUES ?franchise {wd:Q1364022 wd:Q1138878}\n",
    "}\n",
    "GROUP BY ?film\n",
    "LIMIT 100\n",
    "\"\"\"\n",
    "print(\"Results\")\n",
    "run_query(queryString)"
   ]
  },
  {
   "cell_type": "markdown",
   "id": "015fe508-c772-4856-a8ce-49f61f2f752b",
   "metadata": {},
   "source": [
    "No results makes sense since all the entities related using P1346 are actors or productors\n",
    "<h3> TASK 6 ENDS HERE</h3>\n",
    "I used the number of nominations and awards won to measure how much the crititcs liked the films belonging to the two franchises. \n",
    "Friday 13th has been nominated two times for Golden Raspberry Award. Unexpectedly this is not a good thing because it was for worst picture and worst\n",
    "actress, so I'd say that critics liked Halloween franchise more than Friday 13th one."
   ]
  },
  {
   "cell_type": "markdown",
   "id": "0cc70b40-5e79-40aa-ab52-7652f0d83b6d",
   "metadata": {},
   "source": [
    "<h3> TASK 7 STARTS HERE </h3>\n",
    "Investigate which franchise costed more "
   ]
  },
  {
   "cell_type": "markdown",
   "id": "33edcbf6-7405-4016-8278-3ba573e9fe16",
   "metadata": {},
   "source": [
    "In Q1 i didn't find a predicate related to production cost, i try to check all predicates for all films."
   ]
  },
  {
   "cell_type": "code",
   "execution_count": 11,
   "id": "27615394-3c3b-4b61-a114-f0a5babf2e2b",
   "metadata": {
    "collapsed": true,
    "jupyter": {
     "outputs_hidden": true
    },
    "tags": []
   },
   "outputs": [
    {
     "name": "stdout",
     "output_type": "stream",
     "text": [
      "Results\n",
      "[('p', 'http://www.wikidata.org/prop/direct/P2438'), ('pname', 'narrator')]\n",
      "[('p', 'http://www.wikidata.org/prop/direct/P1040'), ('pname', 'film editor')]\n",
      "[('p', 'http://www.wikidata.org/prop/direct/P1237'), ('pname', 'Box Office Mojo film ID (former scheme)')]\n",
      "[('p', 'http://www.wikidata.org/prop/direct/P1258'), ('pname', 'Rotten Tomatoes ID')]\n",
      "[('p', 'http://www.wikidata.org/prop/direct/P1265'), ('pname', 'AlloCiné film ID')]\n",
      "[('p', 'http://www.wikidata.org/prop/direct/P135'), ('pname', 'movement')]\n",
      "[('p', 'http://www.wikidata.org/prop/direct/P136'), ('pname', 'genre')]\n",
      "[('p', 'http://www.wikidata.org/prop/direct/P1411'), ('pname', 'nominated for')]\n",
      "[('p', 'http://www.wikidata.org/prop/direct/P1417'), ('pname', 'Encyclopædia Britannica Online ID')]\n",
      "[('p', 'http://www.wikidata.org/prop/direct/P1434'), ('pname', 'takes place in fictional universe')]\n",
      "[('p', 'http://www.wikidata.org/prop/direct/P144'), ('pname', 'based on')]\n",
      "[('p', 'http://www.wikidata.org/prop/direct/P1476'), ('pname', 'title')]\n",
      "[('p', 'http://www.wikidata.org/prop/direct/P154'), ('pname', 'logo image')]\n",
      "[('p', 'http://www.wikidata.org/prop/direct/P155'), ('pname', 'follows')]\n",
      "[('p', 'http://www.wikidata.org/prop/direct/P1552'), ('pname', 'has quality')]\n",
      "[('p', 'http://www.wikidata.org/prop/direct/P156'), ('pname', 'followed by')]\n",
      "[('p', 'http://www.wikidata.org/prop/direct/P1562'), ('pname', 'AllMovie title ID')]\n",
      "[('p', 'http://www.wikidata.org/prop/direct/P161'), ('pname', 'cast member')]\n",
      "[('p', 'http://www.wikidata.org/prop/direct/P162'), ('pname', 'producer')]\n",
      "[('p', 'http://www.wikidata.org/prop/direct/P166'), ('pname', 'award received')]\n",
      "[('p', 'http://www.wikidata.org/prop/direct/P1712'), ('pname', 'Metacritic ID')]\n",
      "[('p', 'http://www.wikidata.org/prop/direct/P175'), ('pname', 'performer')]\n",
      "[('p', 'http://www.wikidata.org/prop/direct/P178'), ('pname', 'developer')]\n",
      "[('p', 'http://www.wikidata.org/prop/direct/P179'), ('pname', 'part of the series')]\n",
      "[('p', 'http://www.wikidata.org/prop/direct/P18'), ('pname', 'image')]\n",
      "[('p', 'http://www.wikidata.org/prop/direct/P1804'), ('pname', 'DNF film ID')]\n",
      "[('p', 'http://www.wikidata.org/prop/direct/P1874'), ('pname', 'Netflix ID')]\n",
      "[('p', 'http://www.wikidata.org/prop/direct/P1889'), ('pname', 'different from')]\n",
      "[('p', 'http://www.wikidata.org/prop/direct/P1970'), ('pname', 'MovieMeter film ID')]\n",
      "[('p', 'http://www.wikidata.org/prop/direct/P1981'), ('pname', 'FSK film rating')]\n",
      "[('p', 'http://www.wikidata.org/prop/direct/P2047'), ('pname', 'duration')]\n",
      "[('p', 'http://www.wikidata.org/prop/direct/P2061'), ('pname', 'aspect ratio')]\n",
      "[('p', 'http://www.wikidata.org/prop/direct/P2130'), ('pname', 'cost')]\n",
      "[('p', 'http://www.wikidata.org/prop/direct/P214'), ('pname', 'VIAF ID')]\n",
      "[('p', 'http://www.wikidata.org/prop/direct/P2142'), ('pname', 'box office')]\n",
      "[('p', 'http://www.wikidata.org/prop/direct/P227'), ('pname', 'GND ID')]\n",
      "[('p', 'http://www.wikidata.org/prop/direct/P2334'), ('pname', 'Swedish Film Database film ID')]\n",
      "[('p', 'http://www.wikidata.org/prop/direct/P2346'), ('pname', 'Elonet movie ID')]\n",
      "[('p', 'http://www.wikidata.org/prop/direct/P2363'), ('pname', 'NMHH film rating')]\n",
      "[('p', 'http://www.wikidata.org/prop/direct/P244'), ('pname', 'Library of Congress authority ID')]\n",
      "[('p', 'http://www.wikidata.org/prop/direct/P2465'), ('pname', 'Allcinema film ID')]\n",
      "[('p', 'http://www.wikidata.org/prop/direct/P2508'), ('pname', 'KINENOTE film ID')]\n",
      "[('p', 'http://www.wikidata.org/prop/direct/P2509'), ('pname', 'Movie Walker film ID')]\n",
      "[('p', 'http://www.wikidata.org/prop/direct/P2515'), ('pname', 'costume designer')]\n",
      "[('p', 'http://www.wikidata.org/prop/direct/P2518'), ('pname', 'Scope.dk film ID')]\n",
      "[('p', 'http://www.wikidata.org/prop/direct/P2529'), ('pname', 'ČSFD film ID')]\n",
      "[('p', 'http://www.wikidata.org/prop/direct/P2603'), ('pname', 'Kinopoisk film ID')]\n",
      "[('p', 'http://www.wikidata.org/prop/direct/P2631'), ('pname', 'TCM Movie Database film ID')]\n",
      "[('p', 'http://www.wikidata.org/prop/direct/P2638'), ('pname', 'TV.com ID')]\n",
      "[('p', 'http://www.wikidata.org/prop/direct/P2704'), ('pname', 'EIDR content ID')]\n",
      "[('p', 'http://www.wikidata.org/prop/direct/P272'), ('pname', 'production company')]\n",
      "[('p', 'http://www.wikidata.org/prop/direct/P2747'), ('pname', 'Filmiroda rating')]\n",
      "[('p', 'http://www.wikidata.org/prop/direct/P2755'), ('pname', 'exploitation visa number')]\n",
      "[('p', 'http://www.wikidata.org/prop/direct/P2758'), ('pname', 'CNC film rating (France)')]\n",
      "[('p', 'http://www.wikidata.org/prop/direct/P2769'), ('pname', 'budget')]\n",
      "[('p', 'http://www.wikidata.org/prop/direct/P3077'), ('pname', 'Cineplex Germany film ID')]\n",
      "[('p', 'http://www.wikidata.org/prop/direct/P31'), ('pname', 'instance of')]\n",
      "[('p', 'http://www.wikidata.org/prop/direct/P3107'), ('pname', 'LdiF ID')]\n",
      "[('p', 'http://www.wikidata.org/prop/direct/P3129'), ('pname', 'cine.gr film ID')]\n",
      "[('p', 'http://www.wikidata.org/prop/direct/P3135'), ('pname', 'elCinema film ID')]\n",
      "[('p', 'http://www.wikidata.org/prop/direct/P3138'), ('pname', 'OFDb film ID')]\n",
      "[('p', 'http://www.wikidata.org/prop/direct/P3141'), ('pname', 'EDb film ID')]\n",
      "[('p', 'http://www.wikidata.org/prop/direct/P3143'), ('pname', 'elFilm film ID')]\n",
      "[('p', 'http://www.wikidata.org/prop/direct/P3203'), ('pname', 'Ciné-Ressources film ID')]\n",
      "[('p', 'http://www.wikidata.org/prop/direct/P3212'), ('pname', 'ISAN')]\n",
      "[('p', 'http://www.wikidata.org/prop/direct/P3302'), ('pname', 'Open Media Database film ID')]\n",
      "[('p', 'http://www.wikidata.org/prop/direct/P3417'), ('pname', 'Quora topic ID')]\n",
      "[('p', 'http://www.wikidata.org/prop/direct/P344'), ('pname', 'director of photography')]\n",
      "[('p', 'http://www.wikidata.org/prop/direct/P345'), ('pname', 'IMDb ID')]\n",
      "[('p', 'http://www.wikidata.org/prop/direct/P3593'), ('pname', 'AFI Catalog of Feature Films ID')]\n",
      "[('p', 'http://www.wikidata.org/prop/direct/P364'), ('pname', 'original language of film or TV show')]\n",
      "[('p', 'http://www.wikidata.org/prop/direct/P3650'), ('pname', 'JMK film rating')]\n",
      "[('p', 'http://www.wikidata.org/prop/direct/P373'), ('pname', 'Commons category')]\n",
      "[('p', 'http://www.wikidata.org/prop/direct/P3804'), ('pname', 'TV Guide show ID (former scheme)')]\n",
      "[('p', 'http://www.wikidata.org/prop/direct/P3808'), ('pname', 'The Numbers movie ID')]\n",
      "[('p', 'http://www.wikidata.org/prop/direct/P3844'), ('pname', 'Deutsche Synchronkartei film ID')]\n",
      "[('p', 'http://www.wikidata.org/prop/direct/P3933'), ('pname', 'Cinema.de ID')]\n",
      "[('p', 'http://www.wikidata.org/prop/direct/P400'), ('pname', 'platform')]\n",
      "[('p', 'http://www.wikidata.org/prop/direct/P404'), ('pname', 'game mode')]\n",
      "[('p', 'http://www.wikidata.org/prop/direct/P4276'), ('pname', 'Cinémathèque québécoise work identifier')]\n",
      "[('p', 'http://www.wikidata.org/prop/direct/P4282'), ('pname', 'LUMIERE film ID')]\n",
      "[('p', 'http://www.wikidata.org/prop/direct/P437'), ('pname', 'distribution format')]\n",
      "[('p', 'http://www.wikidata.org/prop/direct/P4529'), ('pname', 'Douban film ID')]\n",
      "[('p', 'http://www.wikidata.org/prop/direct/P462'), ('pname', 'color')]\n",
      "[('p', 'http://www.wikidata.org/prop/direct/P4632'), ('pname', 'Bechdel Test Movie List ID')]\n",
      "[('p', 'http://www.wikidata.org/prop/direct/P4665'), ('pname', 'CineMagia title ID')]\n",
      "[('p', 'http://www.wikidata.org/prop/direct/P4780'), ('pname', 'MYmovies movie ID')]\n",
      "[('p', 'http://www.wikidata.org/prop/direct/P4783'), ('pname', 'Movieplayer film ID')]\n",
      "[('p', 'http://www.wikidata.org/prop/direct/P480'), ('pname', 'FilmAffinity ID')]\n",
      "[('p', 'http://www.wikidata.org/prop/direct/P4947'), ('pname', 'TMDb movie ID')]\n",
      "[('p', 'http://www.wikidata.org/prop/direct/P495'), ('pname', 'country of origin')]\n",
      "[('p', 'http://www.wikidata.org/prop/direct/P4969'), ('pname', 'derivative work')]\n",
      "[('p', 'http://www.wikidata.org/prop/direct/P5021'), ('pname', 'assessment')]\n",
      "[('p', 'http://www.wikidata.org/prop/direct/P5032'), ('pname', 'Filmweb.pl film ID')]\n",
      "[('p', 'http://www.wikidata.org/prop/direct/P5099'), ('pname', 'Il mondo dei doppiatori ID')]\n",
      "[('p', 'http://www.wikidata.org/prop/direct/P5357'), ('pname', 'The Encyclopedia of Science Fiction ID')]\n",
      "[('p', 'http://www.wikidata.org/prop/direct/P5680'), ('pname', 'Hoopla title ID')]\n",
      "[('p', 'http://www.wikidata.org/prop/direct/P5693'), ('pname', 'Fandango film ID')]\n",
      "[('p', 'http://www.wikidata.org/prop/direct/P57'), ('pname', 'director')]\n",
      "[('p', 'http://www.wikidata.org/prop/direct/P577'), ('pname', 'publication date')]\n"
     ]
    },
    {
     "data": {
      "text/plain": [
       "100"
      ]
     },
     "execution_count": 11,
     "metadata": {},
     "output_type": "execute_result"
    }
   ],
   "source": [
    "#Q47\n",
    "#in Q1 i didn't find a predicate related to production cost, i try to check all predicates for all films.\n",
    "queryString = \"\"\"\n",
    "SELECT DISTINCT ?p ?pname WHERE\n",
    "{  \n",
    "?film wdt:P179 ?franchise;\n",
    "      ?p ?o.\n",
    "VALUES ?franchise {wd:Q1364022 wd:Q1138878}\n",
    "\n",
    "#Labels\n",
    "?p <http://schema.org/name> ?pname .\n",
    "\n",
    "}\n",
    "LIMIT 100\n",
    "\"\"\"\n",
    "print(\"Results\")\n",
    "run_query(queryString)"
   ]
  },
  {
   "cell_type": "markdown",
   "id": "7c98614e-4ddc-4908-a32b-8205d28aaf27",
   "metadata": {},
   "source": [
    "Exclude non-literals"
   ]
  },
  {
   "cell_type": "code",
   "execution_count": 12,
   "id": "43351aff-c277-4535-a9cb-2bab6b8f11bb",
   "metadata": {
    "collapsed": true,
    "jupyter": {
     "outputs_hidden": true
    },
    "tags": []
   },
   "outputs": [
    {
     "name": "stdout",
     "output_type": "stream",
     "text": [
      "Results\n",
      "[('p', 'http://www.wikidata.org/prop/direct/P1237'), ('pname', 'Box Office Mojo film ID (former scheme)')]\n",
      "[('p', 'http://www.wikidata.org/prop/direct/P1258'), ('pname', 'Rotten Tomatoes ID')]\n",
      "[('p', 'http://www.wikidata.org/prop/direct/P1265'), ('pname', 'AlloCiné film ID')]\n",
      "[('p', 'http://www.wikidata.org/prop/direct/P1417'), ('pname', 'Encyclopædia Britannica Online ID')]\n",
      "[('p', 'http://www.wikidata.org/prop/direct/P1476'), ('pname', 'title')]\n",
      "[('p', 'http://www.wikidata.org/prop/direct/P1562'), ('pname', 'AllMovie title ID')]\n",
      "[('p', 'http://www.wikidata.org/prop/direct/P1712'), ('pname', 'Metacritic ID')]\n",
      "[('p', 'http://www.wikidata.org/prop/direct/P1804'), ('pname', 'DNF film ID')]\n",
      "[('p', 'http://www.wikidata.org/prop/direct/P1874'), ('pname', 'Netflix ID')]\n",
      "[('p', 'http://www.wikidata.org/prop/direct/P1970'), ('pname', 'MovieMeter film ID')]\n",
      "[('p', 'http://www.wikidata.org/prop/direct/P2047'), ('pname', 'duration')]\n",
      "[('p', 'http://www.wikidata.org/prop/direct/P2130'), ('pname', 'cost')]\n",
      "[('p', 'http://www.wikidata.org/prop/direct/P214'), ('pname', 'VIAF ID')]\n",
      "[('p', 'http://www.wikidata.org/prop/direct/P2142'), ('pname', 'box office')]\n",
      "[('p', 'http://www.wikidata.org/prop/direct/P227'), ('pname', 'GND ID')]\n",
      "[('p', 'http://www.wikidata.org/prop/direct/P2334'), ('pname', 'Swedish Film Database film ID')]\n",
      "[('p', 'http://www.wikidata.org/prop/direct/P2346'), ('pname', 'Elonet movie ID')]\n",
      "[('p', 'http://www.wikidata.org/prop/direct/P244'), ('pname', 'Library of Congress authority ID')]\n",
      "[('p', 'http://www.wikidata.org/prop/direct/P2465'), ('pname', 'Allcinema film ID')]\n",
      "[('p', 'http://www.wikidata.org/prop/direct/P2508'), ('pname', 'KINENOTE film ID')]\n",
      "[('p', 'http://www.wikidata.org/prop/direct/P2509'), ('pname', 'Movie Walker film ID')]\n",
      "[('p', 'http://www.wikidata.org/prop/direct/P2518'), ('pname', 'Scope.dk film ID')]\n",
      "[('p', 'http://www.wikidata.org/prop/direct/P2529'), ('pname', 'ČSFD film ID')]\n",
      "[('p', 'http://www.wikidata.org/prop/direct/P2603'), ('pname', 'Kinopoisk film ID')]\n",
      "[('p', 'http://www.wikidata.org/prop/direct/P2631'), ('pname', 'TCM Movie Database film ID')]\n",
      "[('p', 'http://www.wikidata.org/prop/direct/P2638'), ('pname', 'TV.com ID')]\n",
      "[('p', 'http://www.wikidata.org/prop/direct/P2704'), ('pname', 'EIDR content ID')]\n",
      "[('p', 'http://www.wikidata.org/prop/direct/P2755'), ('pname', 'exploitation visa number')]\n",
      "[('p', 'http://www.wikidata.org/prop/direct/P2769'), ('pname', 'budget')]\n",
      "[('p', 'http://www.wikidata.org/prop/direct/P3077'), ('pname', 'Cineplex Germany film ID')]\n",
      "[('p', 'http://www.wikidata.org/prop/direct/P3107'), ('pname', 'LdiF ID')]\n",
      "[('p', 'http://www.wikidata.org/prop/direct/P3129'), ('pname', 'cine.gr film ID')]\n",
      "[('p', 'http://www.wikidata.org/prop/direct/P3135'), ('pname', 'elCinema film ID')]\n",
      "[('p', 'http://www.wikidata.org/prop/direct/P3138'), ('pname', 'OFDb film ID')]\n",
      "[('p', 'http://www.wikidata.org/prop/direct/P3141'), ('pname', 'EDb film ID')]\n",
      "[('p', 'http://www.wikidata.org/prop/direct/P3143'), ('pname', 'elFilm film ID')]\n",
      "[('p', 'http://www.wikidata.org/prop/direct/P3203'), ('pname', 'Ciné-Ressources film ID')]\n",
      "[('p', 'http://www.wikidata.org/prop/direct/P3212'), ('pname', 'ISAN')]\n",
      "[('p', 'http://www.wikidata.org/prop/direct/P3302'), ('pname', 'Open Media Database film ID')]\n",
      "[('p', 'http://www.wikidata.org/prop/direct/P3417'), ('pname', 'Quora topic ID')]\n",
      "[('p', 'http://www.wikidata.org/prop/direct/P345'), ('pname', 'IMDb ID')]\n",
      "[('p', 'http://www.wikidata.org/prop/direct/P3593'), ('pname', 'AFI Catalog of Feature Films ID')]\n",
      "[('p', 'http://www.wikidata.org/prop/direct/P373'), ('pname', 'Commons category')]\n",
      "[('p', 'http://www.wikidata.org/prop/direct/P3804'), ('pname', 'TV Guide show ID (former scheme)')]\n",
      "[('p', 'http://www.wikidata.org/prop/direct/P3808'), ('pname', 'The Numbers movie ID')]\n",
      "[('p', 'http://www.wikidata.org/prop/direct/P3844'), ('pname', 'Deutsche Synchronkartei film ID')]\n",
      "[('p', 'http://www.wikidata.org/prop/direct/P3933'), ('pname', 'Cinema.de ID')]\n",
      "[('p', 'http://www.wikidata.org/prop/direct/P4276'), ('pname', 'Cinémathèque québécoise work identifier')]\n",
      "[('p', 'http://www.wikidata.org/prop/direct/P4282'), ('pname', 'LUMIERE film ID')]\n",
      "[('p', 'http://www.wikidata.org/prop/direct/P4529'), ('pname', 'Douban film ID')]\n",
      "[('p', 'http://www.wikidata.org/prop/direct/P4632'), ('pname', 'Bechdel Test Movie List ID')]\n",
      "[('p', 'http://www.wikidata.org/prop/direct/P4665'), ('pname', 'CineMagia title ID')]\n",
      "[('p', 'http://www.wikidata.org/prop/direct/P4780'), ('pname', 'MYmovies movie ID')]\n",
      "[('p', 'http://www.wikidata.org/prop/direct/P4783'), ('pname', 'Movieplayer film ID')]\n",
      "[('p', 'http://www.wikidata.org/prop/direct/P480'), ('pname', 'FilmAffinity ID')]\n",
      "[('p', 'http://www.wikidata.org/prop/direct/P4947'), ('pname', 'TMDb movie ID')]\n",
      "[('p', 'http://www.wikidata.org/prop/direct/P5032'), ('pname', 'Filmweb.pl film ID')]\n",
      "[('p', 'http://www.wikidata.org/prop/direct/P5099'), ('pname', 'Il mondo dei doppiatori ID')]\n",
      "[('p', 'http://www.wikidata.org/prop/direct/P5357'), ('pname', 'The Encyclopedia of Science Fiction ID')]\n",
      "[('p', 'http://www.wikidata.org/prop/direct/P5680'), ('pname', 'Hoopla title ID')]\n",
      "[('p', 'http://www.wikidata.org/prop/direct/P5693'), ('pname', 'Fandango film ID')]\n",
      "[('p', 'http://www.wikidata.org/prop/direct/P577'), ('pname', 'publication date')]\n",
      "[('p', 'http://www.wikidata.org/prop/direct/P5786'), ('pname', 'Moviepilot.de film ID')]\n",
      "[('p', 'http://www.wikidata.org/prop/direct/P5905'), ('pname', 'Comic Vine ID')]\n",
      "[('p', 'http://www.wikidata.org/prop/direct/P6058'), ('pname', 'Larousse ID')]\n",
      "[('p', 'http://www.wikidata.org/prop/direct/P6127'), ('pname', 'Letterboxd film ID')]\n",
      "[('p', 'http://www.wikidata.org/prop/direct/P6262'), ('pname', 'Fandom article ID')]\n",
      "[('p', 'http://www.wikidata.org/prop/direct/P6398'), ('pname', 'iTunes movie ID')]\n",
      "[('p', 'http://www.wikidata.org/prop/direct/P646'), ('pname', 'Freebase ID')]\n",
      "[('p', 'http://www.wikidata.org/prop/direct/P6562'), ('pname', 'Google Play Movies & TV ID')]\n",
      "[('p', 'http://www.wikidata.org/prop/direct/P6827'), ('pname', 'Igromania ID')]\n",
      "[('p', 'http://www.wikidata.org/prop/direct/P7334'), ('pname', 'Vudu video ID')]\n",
      "[('p', 'http://www.wikidata.org/prop/direct/P7335'), ('pname', 'Mixer game ID (former scheme)')]\n",
      "[('p', 'http://www.wikidata.org/prop/direct/P7970'), ('pname', 'FandangoNow ID')]\n",
      "[('p', 'http://www.wikidata.org/prop/direct/P8033'), ('pname', 'Movie Review Query Engine ID')]\n",
      "[('p', 'http://www.wikidata.org/prop/direct/P905'), ('pname', 'PORT film ID')]\n",
      "[('p', 'http://www.wikidata.org/prop/direct/P9586'), ('pname', 'Apple TV movie ID')]\n",
      "[('p', 'http://www.wikidata.org/prop/direct/P3995'), ('pname', 'Filmweb.pl ID')]\n",
      "[('p', 'http://www.wikidata.org/prop/direct/P4277'), ('pname', 'Daum movie ID')]\n",
      "[('p', 'http://www.wikidata.org/prop/direct/P5990'), ('pname', 'Movies Anywhere ID')]\n",
      "[('p', 'http://www.wikidata.org/prop/direct/P7975'), ('pname', 'Filmfront film ID')]\n",
      "[('p', 'http://www.wikidata.org/prop/direct/P8351'), ('pname', 'vglist video game ID')]\n",
      "[('p', 'http://www.wikidata.org/prop/direct/P6466'), ('pname', 'Hulu movie ID')]\n"
     ]
    },
    {
     "data": {
      "text/plain": [
       "83"
      ]
     },
     "execution_count": 12,
     "metadata": {},
     "output_type": "execute_result"
    }
   ],
   "source": [
    "#Q48\n",
    "#i found cost (P2130) and bugdet (P2769)\n",
    "#filter some properties excluding the non-literals\n",
    "queryString = \"\"\"\n",
    "SELECT DISTINCT ?p ?pname WHERE\n",
    "{  \n",
    "?film wdt:P179 ?franchise;\n",
    "      ?p ?o.\n",
    "VALUES ?franchise {wd:Q1364022 wd:Q1138878}\n",
    "FILTER(isLiteral(?o))\n",
    "\n",
    "#Labels\n",
    "?p <http://schema.org/name> ?pname .\n",
    "\n",
    "}\n",
    "LIMIT 100\n",
    "\"\"\"\n",
    "print(\"Results\")\n",
    "run_query(queryString)"
   ]
  },
  {
   "cell_type": "markdown",
   "id": "eb3211e7-5e73-4435-b15f-0c7ed6f5c9bf",
   "metadata": {},
   "source": [
    "Check how many movies have cost (P2130) and bugdet (P2769)."
   ]
  },
  {
   "cell_type": "code",
   "execution_count": 14,
   "id": "654b0f19-9bee-4341-8601-65cd45a2ae7f",
   "metadata": {},
   "outputs": [
    {
     "name": "stdout",
     "output_type": "stream",
     "text": [
      "Results\n",
      "[('film', 'http://www.wikidata.org/entity/Q1454799'), ('fname', 'Friday the 13th Part VI: Jason Lives'), ('cost', '3000000')]\n",
      "[('film', 'http://www.wikidata.org/entity/Q1454798'), ('fname', 'Friday the 13th Part VII: The New Blood'), ('cost', '2800000')]\n",
      "[('film', 'http://www.wikidata.org/entity/Q1243019'), ('fname', 'Friday the 13th: The Final Chapter'), ('cost', '2600000')]\n",
      "[('film', 'http://www.wikidata.org/entity/Q1243013'), ('fname', 'Friday the 13th Part III'), ('cost', '2250000')]\n",
      "[('film', 'http://www.wikidata.org/entity/Q1243009'), ('fname', 'Friday the 13th Part 2'), ('cost', '1250000')]\n",
      "[('film', 'http://www.wikidata.org/entity/Q221103'), ('fname', 'Halloween'), ('cost', '325000')]\n",
      "[('film', 'http://www.wikidata.org/entity/Q176488'), ('fname', 'Halloween: Resurrection'), ('budget', '15000000')]\n",
      "[('film', 'http://www.wikidata.org/entity/Q909063'), ('fname', 'Halloween'), ('budget', '15000000')]\n",
      "[('film', 'http://www.wikidata.org/entity/Q203705'), ('fname', 'Halloween III: Season of the Witch'), ('budget', '2500000')]\n",
      "[('film', 'http://www.wikidata.org/entity/Q976728'), ('fname', 'Halloween 5: The Revenge of Michael Myers'), ('budget', '3000000')]\n",
      "[('film', 'http://www.wikidata.org/entity/Q1138055'), ('fname', 'Halloween: The Curse of Michael Myers'), ('budget', '5000000')]\n"
     ]
    },
    {
     "data": {
      "text/plain": [
       "11"
      ]
     },
     "execution_count": 14,
     "metadata": {},
     "output_type": "execute_result"
    }
   ],
   "source": [
    "#Q49\n",
    "#check how many movies have cost (P2130) and bugdet (P2769)\n",
    "queryString = \"\"\"\n",
    "SELECT ?film ?fname ?cost ?budget WHERE\n",
    "{  \n",
    "?film wdt:P179 ?franchise.\n",
    "VALUES ?franchise {wd:Q1364022 wd:Q1138878}\n",
    "\n",
    "{ { ?film wdt:P2130 ?cost.} UNION { ?film wdt:P2769 ?budget.} }\n",
    "\n",
    "?film <http://schema.org/name> ?fname .\n",
    "\n",
    "}\n",
    "ORDER BY DESC(?cost)\n",
    "LIMIT 25\n",
    "\"\"\"\n",
    "print(\"Results\")\n",
    "run_query(queryString)"
   ]
  },
  {
   "cell_type": "markdown",
   "id": "5a5487ef-83ca-435f-b8c8-e388fabbb8f0",
   "metadata": {},
   "source": [
    "Some films have cost, other budget. i still don't get the difference. Check if some films have both and how are different."
   ]
  },
  {
   "cell_type": "code",
   "execution_count": 15,
   "id": "5f50d5aa-4b9a-49bb-b07a-2602cfe97d61",
   "metadata": {},
   "outputs": [
    {
     "name": "stdout",
     "output_type": "stream",
     "text": [
      "Results\n",
      "[('film', 'http://www.wikidata.org/entity/Q21637453'), ('fname', 'First Time'), ('cost', '400000000'), ('budget', '400000000')]\n",
      "[('film', 'http://www.wikidata.org/entity/Q21500755'), ('fname', 'Blade Runner 2049'), ('cost', '150000000'), ('budget', '242000000')]\n",
      "[('film', 'http://www.wikidata.org/entity/Q213081'), ('fname', 'Star Trek'), ('cost', '150000000'), ('budget', '150000000')]\n",
      "[('film', 'http://www.wikidata.org/entity/Q18547944'), ('fname', 'The Martian'), ('cost', '108000000'), ('budget', '108000000')]\n",
      "[('film', 'http://www.wikidata.org/entity/Q26465665'), ('fname', 'Life'), ('cost', '58000000'), ('budget', '58000000')]\n",
      "[('film', 'http://www.wikidata.org/entity/Q30321629'), ('fname', 'All the Money in the World'), ('cost', '50000000'), ('budget', '50000000')]\n",
      "[('film', 'http://www.wikidata.org/entity/Q164417'), ('fname', 'Corpse Bride'), ('cost', '40000000'), ('budget', '40000000')]\n",
      "[('film', 'http://www.wikidata.org/entity/Q30011713'), ('fname', 'Game Night'), ('cost', '37000000'), ('budget', '37000000')]\n",
      "[('film', 'http://www.wikidata.org/entity/Q25136484'), ('fname', 'It'), ('cost', '35000000'), ('budget', '35000000')]\n",
      "[('film', 'http://www.wikidata.org/entity/Q421875'), ('fname', 'The X-Files: I Want to Believe'), ('cost', '30000000'), ('budget', '30000000')]\n",
      "[('film', 'http://www.wikidata.org/entity/Q24576050'), ('fname', 'Logan Lucky'), ('cost', '29000000'), ('budget', '29000000')]\n",
      "[('film', 'http://www.wikidata.org/entity/Q123742'), ('fname', 'Cloverfield'), ('cost', '25000000'), ('budget', '25000000')]\n",
      "[('film', 'http://www.wikidata.org/entity/Q20456'), ('fname', 'Dances with Wolves'), ('cost', '22000000'), ('budget', '22000000')]\n",
      "[('film', 'http://www.wikidata.org/entity/Q26698156'), ('fname', 'The Shape of Water'), ('cost', '19500001'), ('budget', '19400000')]\n",
      "[('film', 'http://www.wikidata.org/entity/Q18703038'), ('fname', '10 Cloverfield Lane'), ('cost', '15000000'), ('budget', '15000000')]\n",
      "[('film', 'http://www.wikidata.org/entity/Q24053277'), ('fname', 'Three Billboards Outside Ebbing, Missouri'), ('cost', '12000000'), ('budget', '15000000')]\n",
      "[('film', 'http://www.wikidata.org/entity/Q103474'), ('fname', '2001: A Space Odyssey'), ('cost', '10500000'), ('budget', '12000000')]\n",
      "[('film', 'http://www.wikidata.org/entity/Q21098696'), ('fname', 'The Book of Henry'), ('cost', '10000000'), ('budget', '10000000')]\n",
      "[('film', 'http://www.wikidata.org/entity/Q27964442'), ('fname', 'Everything, Everything'), ('cost', '10000000'), ('budget', '10000000')]\n",
      "[('film', 'http://www.wikidata.org/entity/Q18633732'), ('fname', 'The Unknown Soldier'), ('cost', '7000000'), ('budget', '7000000')]\n",
      "[('film', 'http://www.wikidata.org/entity/Q6166723'), ('fname', 'Extinction'), ('cost', '7000000'), ('budget', '8000000')]\n",
      "[('film', 'http://www.wikidata.org/entity/Q961100'), ('fname', 'Curdled'), ('cost', '2300000'), ('budget', '2300000')]\n",
      "[('film', 'http://www.wikidata.org/entity/Q11618'), ('fname', 'Eraserhead'), ('cost', '100000'), ('budget', '20000')]\n"
     ]
    },
    {
     "data": {
      "text/plain": [
       "23"
      ]
     },
     "execution_count": 15,
     "metadata": {},
     "output_type": "execute_result"
    }
   ],
   "source": [
    "#Q50\n",
    "#some films have cost, other budget. i still don't get the difference. check if some films have both and how are different\n",
    "queryString = \"\"\"\n",
    "SELECT ?film ?fname ?cost ?budget WHERE\n",
    "{  \n",
    "\n",
    "?film wdt:P31 wd:Q11424; #film\n",
    "      wdt:P2130 ?cost;\n",
    "      wdt:P2769 ?budget.\n",
    "\n",
    "?film <http://schema.org/name> ?fname .\n",
    "\n",
    "}\n",
    "ORDER BY DESC(?cost)\n",
    "LIMIT 25\n",
    "\"\"\"\n",
    "print(\"Results\")\n",
    "run_query(queryString)"
   ]
  },
  {
   "cell_type": "markdown",
   "id": "70c46a15-bf2d-4a76-aef0-257851284d2d",
   "metadata": {},
   "source": [
    "Generally speaking cost and budget have the same value so i will consider them as equivalent predicates.\n",
    "Compare the five most expensive films from Friday 13th franchise with the top 5 from Hallowen one."
   ]
  },
  {
   "cell_type": "code",
   "execution_count": 17,
   "id": "ce26d1dc-921c-47a1-9d12-8ef5535b97e6",
   "metadata": {},
   "outputs": [
    {
     "name": "stdout",
     "output_type": "stream",
     "text": [
      "Results\n",
      "[('halloween', '40500000'), ('friday', '11900000')]\n"
     ]
    },
    {
     "data": {
      "text/plain": [
       "1"
      ]
     },
     "execution_count": 17,
     "metadata": {},
     "output_type": "execute_result"
    }
   ],
   "source": [
    "#Q51\n",
    "#generally speaking cost and budget have the same value so i will consider them as equivalent predicates\n",
    "#compare the five most expensive films from Friday 13th franchise with the top 5 from Hallowen one\n",
    "queryString = \"\"\"\n",
    "SELECT ?halloween ?friday WHERE\n",
    "{\n",
    "{SELECT (SUM(?budget) AS ?halloween) WHERE{\n",
    "#top 5 from Halloween have P2769\n",
    "?h wdt:P179 wd:Q1364022; \n",
    "      wdt:P2769 ?budget. }}\n",
    "      \n",
    "{SELECT (SUM(?cost) AS ?friday) WHERE{\n",
    "#top 5 from Halloween have P2769\n",
    "?f wdt:P179 wd:Q1138878; \n",
    "      wdt:P2130 ?cost. }}\n",
    "}\n",
    "LIMIT 25\n",
    "\"\"\"\n",
    "print(\"Results\")\n",
    "run_query(queryString)"
   ]
  },
  {
   "cell_type": "code",
   "execution_count": 19,
   "id": "b55a2010-a497-4a87-817f-5fdbbc12e1c7",
   "metadata": {},
   "outputs": [
    {
     "name": "stdout",
     "output_type": "stream",
     "text": [
      "Results\n",
      "[('p', 'http://www.wikidata.org/prop/direct/P2530'), ('pname', 'Box Office Mojo franchise ID (former scheme)')]\n",
      "[('p', 'http://www.wikidata.org/prop/direct/P1258'), ('pname', 'Rotten Tomatoes ID')]\n",
      "[('p', 'http://www.wikidata.org/prop/direct/P136'), ('pname', 'genre')]\n",
      "[('p', 'http://www.wikidata.org/prop/direct/P1424'), ('pname', \"topic's main template\")]\n",
      "[('p', 'http://www.wikidata.org/prop/direct/P1476'), ('pname', 'title')]\n",
      "[('p', 'http://www.wikidata.org/prop/direct/P1889'), ('pname', 'different from')]\n",
      "[('p', 'http://www.wikidata.org/prop/direct/P31'), ('pname', 'instance of')]\n",
      "[('p', 'http://www.wikidata.org/prop/direct/P364'), ('pname', 'original language of film or TV show')]\n",
      "[('p', 'http://www.wikidata.org/prop/direct/P373'), ('pname', 'Commons category')]\n",
      "[('p', 'http://www.wikidata.org/prop/direct/P495'), ('pname', 'country of origin')]\n",
      "[('p', 'http://www.wikidata.org/prop/direct/P527'), ('pname', 'has part')]\n",
      "[('p', 'http://www.wikidata.org/prop/direct/P646'), ('pname', 'Freebase ID')]\n",
      "[('p', 'http://www.wikidata.org/prop/direct/P7818'), ('pname', 'French Vikidia ID')]\n",
      "[('p', 'http://www.wikidata.org/prop/direct/P910'), ('pname', \"topic's main category\")]\n",
      "[('p', 'http://www.wikidata.org/prop/direct/P9215'), ('pname', 'set during recurring event')]\n"
     ]
    },
    {
     "data": {
      "text/plain": [
       "15"
      ]
     },
     "execution_count": 19,
     "metadata": {},
     "output_type": "execute_result"
    }
   ],
   "source": [
    "#Q52\n",
    "#last check on franchise to see if there are other useful properties (wd:Q1364022)\n",
    "queryString = \"\"\"\n",
    "SELECT DISTINCT ?p ?pname WHERE\n",
    "{\n",
    "wd:Q1364022 ?p ?o.\n",
    "?p <http://schema.org/name> ?pname .\n",
    "}\n",
    "LIMIT 100\n",
    "\"\"\"\n",
    "print(\"Results\")\n",
    "run_query(queryString)"
   ]
  },
  {
   "cell_type": "markdown",
   "id": "c8377860-6f4d-4b23-9f9c-68f69ff43de5",
   "metadata": {},
   "source": [
    "<h3> TASK 7 ENDS HERE </h3>\n",
    "I found out P2130 (cost) and P2769 (budget). Since only 11 movies have one of these two predicates, I computed the total cost of the top 5 most \n",
    "expensive movies for each franchise and as a result, I obtained that Halloween franchise required four times the budget required by Friday 13th."
   ]
  },
  {
   "cell_type": "code",
   "execution_count": null,
   "id": "b8943a31-f950-4422-ba01-44038ff962d1",
   "metadata": {},
   "outputs": [],
   "source": []
  }
 ],
 "metadata": {
  "kernelspec": {
   "display_name": "Python 3",
   "language": "python",
   "name": "python3"
  },
  "language_info": {
   "codemirror_mode": {
    "name": "ipython",
    "version": 3
   },
   "file_extension": ".py",
   "mimetype": "text/x-python",
   "name": "python",
   "nbconvert_exporter": "python",
   "pygments_lexer": "ipython3",
   "version": "3.7.10"
  }
 },
 "nbformat": 4,
 "nbformat_minor": 5
}
