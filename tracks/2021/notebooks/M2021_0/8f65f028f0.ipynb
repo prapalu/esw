{
 "cells": [
  {
   "cell_type": "markdown",
   "id": "7034c3bf-6eb0-4418-8687-7b9d2a501103",
   "metadata": {},
   "source": [
    "# General instructions\n",
    "\n",
    "The goal of the project is to materialize a set of **exploratory workloads** over a real-world, large-scale,  open-domain KG: [WikiData](https://www.wikidata.org/wiki/Wikidata:Main_Page)\n",
    "\n",
    "An exploratory workload  is composed by a set of queries, where each query is related to the information obtained previously.\n",
    "\n",
    "An exploratory workload starts with a usually vague, open ended question, and does not assume the person issuing the workload has a clear understanding of the data contained in the target database or its structure.\n",
    "\n",
    "Remeber that:\n",
    "\n",
    "1. All the queries must run in the python notebook\n",
    "2. You can use classes and properties only if you find them via a SPARQL query that must be present in the notebook\n",
    "3. You do not delete useless queries. Keep everything that is synthatically valid \n",
    "\n",
    "```\n",
    "?p <http://schema.org/name> ?name .\n",
    "```\n",
    "    \n",
    "    is the BGP returning a human-readable name of a property or a class in Wikidata.\n",
    "    \n",
    "    "
   ]
  },
  {
   "cell_type": "code",
   "execution_count": 1,
   "id": "3605c9d5-5371-49a5-be8d-d66e8f417139",
   "metadata": {},
   "outputs": [],
   "source": [
    "## SETUP used later\n",
    "\n",
    "from SPARQLWrapper import SPARQLWrapper, JSON\n",
    "\n",
    "\n",
    "prefixString = \"\"\"\n",
    "##-8f65f028f0-##\n",
    "PREFIX wd: <http://www.wikidata.org/entity/> \n",
    "PREFIX wdt: <http://www.wikidata.org/prop/direct/> \n",
    "PREFIX sc: <http://schema.org/>\n",
    "\"\"\"\n",
    "\n",
    "# select and construct queries\n",
    "def run_query(queryString):\n",
    "    to_run = prefixString + \"\\n\" + queryString\n",
    "\n",
    "    sparql = SPARQLWrapper(\"http://a256-gc1-02.srv.aau.dk:5820/sparql\")\n",
    "    sparql.setTimeout(300)\n",
    "    sparql.setReturnFormat(JSON)\n",
    "    sparql.setQuery(to_run)\n",
    "\n",
    "    try :\n",
    "       results = sparql.query()\n",
    "       json_results = results.convert()\n",
    "       if len(json_results['results']['bindings'])==0:\n",
    "          print(\"Empty\")\n",
    "          return 0\n",
    "    \n",
    "       for bindings in json_results['results']['bindings']:\n",
    "          print( [ (var, value['value'])  for var, value in bindings.items() ] )\n",
    "\n",
    "       return len(json_results['results']['bindings'])\n",
    "\n",
    "    except Exception as e :\n",
    "        print(\"The operation failed\", e)\n",
    "    \n",
    "# ASk queries\n",
    "def run_ask_query(queryString):\n",
    "    to_run = prefixString + \"\\n\" + queryString\n",
    "\n",
    "    sparql = SPARQLWrapper(\"http://a256-gc1-02.srv.aau.dk:5820/sparql\")\n",
    "    sparql.setTimeout(300)\n",
    "    sparql.setReturnFormat(JSON)\n",
    "    sparql.setQuery(to_run)\n",
    "\n",
    "    try :\n",
    "        return sparql.query().convert()\n",
    "\n",
    "    except Exception as e :\n",
    "        print(\"The operation failed\", e)"
   ]
  },
  {
   "cell_type": "markdown",
   "id": "d477a59c-a68c-4c8f-9f97-8ca5294d7d27",
   "metadata": {},
   "source": [
    "# Movie Workflow Series (\"Tv series explorative search\") \n",
    "\n",
    "## Workflow 4\n",
    "\n",
    "\n",
    "Consider the following exploratory scenario:\n",
    "\n",
    "\n",
    "> we are interested in the TV series \"How I met your mother\" and we want to investigate the main aspects related to the actors and directors involved in the production, know the numerber of seasons and check what are the episodes which got the higher success/impact.\n",
    "\n",
    "\n",
    "## Useful URIs for the current workflow\n",
    "The following are given:\n",
    "\n",
    "| IRI           | Description   | Role      |\n",
    "| -----------   | -----------   |-----------|\n",
    "| `wdt:P1647`   | subproperty   | predicate |\n",
    "| `wdt:P31`     | instance of   | predicate |\n",
    "| `wdt:P106`    | profession    | predicate | \n",
    "| `wdt:P279`    | subclass      | predicate |\n",
    "| `wdt:P4969`    | derivative work      | predicate |\n",
    "| `wd:Q147235` | How I met your mother        | node |\n",
    "| `wd:Q23831` | The Office (US)        | node |\n",
    "\n",
    "\n",
    "\n",
    "Also consider\n",
    "\n",
    "```\n",
    "wd:Q23831 ?p ?obj .\n",
    "```\n",
    "\n",
    "is the BGP to retrieve all **properties of The Office (US)**\n",
    "\n",
    "The workload should\n",
    "\n",
    "\n",
    "1. Return the number of seasons and episodes per season of the tv series\n",
    "\n",
    "2. Get the number of episodes in which the cast members played a role. Who are the most present actors?\n",
    "\n",
    "3. Check who is the actor who acted in more films while working on \"How I met your mother\" and who is the actor who participated in more films after the end of the tv series.\n",
    "\n",
    "4. Compare HIMYM with the tv series \"The Office (US)\" in terms of number of seasons, episods and cast members.\n",
    "\n",
    "5. Return how many of the actors who are members of the cast of the tv series have [Kavin Bacon number](https://en.wikipedia.org/wiki/Six_Degrees_of_Kevin_Bacon#:~:text=Kevin%20Bacon%20himself%20has%20a,Bacon%20number%20is%20N%2B1.) equal to 2"
   ]
  },
  {
   "cell_type": "markdown",
   "id": "deba7ecf-ad1d-4d9e-9b0d-a7116f4fa0f2",
   "metadata": {},
   "source": [
    "#### Example of query"
   ]
  },
  {
   "cell_type": "code",
   "execution_count": 2,
   "id": "ade01416-92e7-4ad7-b9a9-b8fb330750dc",
   "metadata": {},
   "outputs": [
    {
     "name": "stdout",
     "output_type": "stream",
     "text": [
      "Results\n",
      "[('p', 'http://www.w3.org/1999/02/22-rdf-syntax-ns#type'), ('obj', 'http://wikiba.se/ontology#Item')]\n",
      "[('p', 'http://www.wikidata.org/prop/direct-normalized/P214'), ('obj', 'http://viaf.org/viaf/207954525')]\n",
      "[('p', 'http://www.wikidata.org/prop/direct-normalized/P244'), ('obj', 'https://id.loc.gov/authorities/names/no2006017037')]\n",
      "[('p', 'http://www.wikidata.org/prop/direct-normalized/P2581'), ('obj', 'http://babelnet.org/rdf/s02352929n')]\n",
      "[('p', 'http://www.wikidata.org/prop/direct-normalized/P646'), ('obj', 'http://g.co/kg/m/08jgk1')]\n",
      "[('p', 'http://www.wikidata.org/prop/direct/P1113'), ('obj', '201')]\n",
      "[('p', 'http://www.wikidata.org/prop/direct/P1258'), ('obj', 'tv/the_office')]\n",
      "[('p', 'http://www.wikidata.org/prop/direct/P1267'), ('obj', '199')]\n",
      "[('p', 'http://www.wikidata.org/prop/direct/P136'), ('obj', 'http://www.wikidata.org/entity/Q21188110')]\n",
      "[('p', 'http://www.wikidata.org/prop/direct/P136'), ('obj', 'http://www.wikidata.org/entity/Q459435')]\n"
     ]
    },
    {
     "data": {
      "text/plain": [
       "10"
      ]
     },
     "execution_count": 2,
     "metadata": {},
     "output_type": "execute_result"
    }
   ],
   "source": [
    "queryString = \"\"\"\n",
    "SELECT * WHERE { \n",
    "    wd:Q23831 ?p ?obj .\n",
    "}\n",
    "LIMIT 10\n",
    "\"\"\"\n",
    "\n",
    "print(\"Results\")\n",
    "run_query(queryString)"
   ]
  },
  {
   "cell_type": "markdown",
   "id": "76d8580d-4b29-4c4b-be35-6491ff9d78ba",
   "metadata": {
    "tags": []
   },
   "source": [
    "### My Workflow\n",
    "\n",
    "### Task 1 : Return the number of seasons and episodes per season of the tv series.\n",
    "\n",
    "I'm interested on the TV series ***\"How I met your mother\" (wd:Q147235)***, so as a starting point I show all the data properties of this TV series."
   ]
  },
  {
   "cell_type": "code",
   "execution_count": 3,
   "id": "0232bdb3-be94-4cc5-84f2-4b15d9e21a03",
   "metadata": {},
   "outputs": [
    {
     "name": "stdout",
     "output_type": "stream",
     "text": [
      "Results\n",
      "[('p', 'http://www.wikidata.org/prop/direct/P1113'), ('pName', 'number of episodes')]\n",
      "[('p', 'http://www.wikidata.org/prop/direct/P1258'), ('pName', 'Rotten Tomatoes ID')]\n",
      "[('p', 'http://www.wikidata.org/prop/direct/P1267'), ('pName', 'AlloCiné series ID')]\n",
      "[('p', 'http://www.wikidata.org/prop/direct/P1476'), ('pName', 'title')]\n",
      "[('p', 'http://www.wikidata.org/prop/direct/P1562'), ('pName', 'AllMovie title ID')]\n",
      "[('p', 'http://www.wikidata.org/prop/direct/P1712'), ('pName', 'Metacritic ID')]\n",
      "[('p', 'http://www.wikidata.org/prop/direct/P1874'), ('pName', 'Netflix ID')]\n",
      "[('p', 'http://www.wikidata.org/prop/direct/P1922'), ('pName', 'first line')]\n",
      "[('p', 'http://www.wikidata.org/prop/direct/P2002'), ('pName', 'Twitter username')]\n",
      "[('p', 'http://www.wikidata.org/prop/direct/P2047'), ('pName', 'duration')]\n",
      "[('p', 'http://www.wikidata.org/prop/direct/P214'), ('pName', 'VIAF ID')]\n",
      "[('p', 'http://www.wikidata.org/prop/direct/P227'), ('pName', 'GND ID')]\n",
      "[('p', 'http://www.wikidata.org/prop/direct/P2373'), ('pName', 'Genius artist ID')]\n",
      "[('p', 'http://www.wikidata.org/prop/direct/P2437'), ('pName', 'number of seasons')]\n",
      "[('p', 'http://www.wikidata.org/prop/direct/P244'), ('pName', 'Library of Congress authority ID')]\n",
      "[('p', 'http://www.wikidata.org/prop/direct/P2529'), ('pName', 'ČSFD film ID')]\n",
      "[('p', 'http://www.wikidata.org/prop/direct/P2581'), ('pName', 'BabelNet ID')]\n",
      "[('p', 'http://www.wikidata.org/prop/direct/P2603'), ('pName', 'Kinopoisk film ID')]\n",
      "[('p', 'http://www.wikidata.org/prop/direct/P2638'), ('pName', 'TV.com ID')]\n",
      "[('p', 'http://www.wikidata.org/prop/direct/P2703'), ('pName', 'BFI National Archive work ID')]\n",
      "[('p', 'http://www.wikidata.org/prop/direct/P2704'), ('pName', 'EIDR content ID')]\n",
      "[('p', 'http://www.wikidata.org/prop/direct/P3121'), ('pName', 'Epguides ID')]\n",
      "[('p', 'http://www.wikidata.org/prop/direct/P3138'), ('pName', 'OFDb film ID')]\n",
      "[('p', 'http://www.wikidata.org/prop/direct/P3302'), ('pName', 'Open Media Database film ID')]\n",
      "[('p', 'http://www.wikidata.org/prop/direct/P3417'), ('pName', 'Quora topic ID')]\n",
      "[('p', 'http://www.wikidata.org/prop/direct/P345'), ('pName', 'IMDb ID')]\n",
      "[('p', 'http://www.wikidata.org/prop/direct/P3553'), ('pName', 'Zhihu topic ID')]\n",
      "[('p', 'http://www.wikidata.org/prop/direct/P373'), ('pName', 'Commons category')]\n",
      "[('p', 'http://www.wikidata.org/prop/direct/P4073'), ('pName', 'Fandom wiki ID')]\n",
      "[('p', 'http://www.wikidata.org/prop/direct/P4438'), ('pName', 'BFI Films, TV and people ID')]\n",
      "[('p', 'http://www.wikidata.org/prop/direct/P4665'), ('pName', 'CineMagia title ID')]\n",
      "[('p', 'http://www.wikidata.org/prop/direct/P4835'), ('pName', 'TheTVDB.com series ID')]\n",
      "[('p', 'http://www.wikidata.org/prop/direct/P4983'), ('pName', 'TMDb TV series ID')]\n",
      "[('p', 'http://www.wikidata.org/prop/direct/P5032'), ('pName', 'Filmweb.pl film ID')]\n",
      "[('p', 'http://www.wikidata.org/prop/direct/P5099'), ('pName', 'Il mondo dei doppiatori ID')]\n",
      "[('p', 'http://www.wikidata.org/prop/direct/P5327'), ('pName', 'fernsehserien.de ID')]\n",
      "[('p', 'http://www.wikidata.org/prop/direct/P580'), ('pName', 'start time')]\n",
      "[('p', 'http://www.wikidata.org/prop/direct/P582'), ('pName', 'end time')]\n",
      "[('p', 'http://www.wikidata.org/prop/direct/P5925'), ('pName', 'Moviepilot.de series ID')]\n",
      "[('p', 'http://www.wikidata.org/prop/direct/P646'), ('pName', 'Freebase ID')]\n",
      "[('p', 'http://www.wikidata.org/prop/direct/P6760'), ('pName', 'Know Your Meme ID')]\n",
      "[('p', 'http://www.wikidata.org/prop/direct/P6839'), ('pName', 'TV Tropes identifier')]\n",
      "[('p', 'http://www.wikidata.org/prop/direct/P7299'), ('pName', 'MUBI film ID')]\n",
      "[('p', 'http://www.wikidata.org/prop/direct/P8013'), ('pName', 'Trakt.tv ID')]\n",
      "[('p', 'http://www.wikidata.org/prop/direct/P8278'), ('pName', 'serial identifier on SerialZone')]\n",
      "[('p', 'http://www.wikidata.org/prop/direct/P8687'), ('pName', 'social media followers')]\n",
      "[('p', 'http://www.wikidata.org/prop/direct/P905'), ('pName', 'PORT film ID')]\n",
      "[('p', 'http://www.wikidata.org/prop/direct/P9629'), ('pName', 'Armeniapedia ID')]\n",
      "[('p', 'http://www.wikidata.org/prop/direct/P4784'), ('pName', 'Movieplayer TV-series ID')]\n",
      "[('p', 'http://www.wikidata.org/prop/direct/P4834'), ('pName', 'Deutsche Synchronkartei series ID')]\n",
      "[('p', 'http://www.wikidata.org/prop/direct/P6467'), ('pName', 'Hulu series ID')]\n",
      "[('p', 'http://www.wikidata.org/prop/direct/P6643'), ('pName', 'TV Spielfilm series ID')]\n",
      "[('p', 'http://www.wikidata.org/prop/direct/P7107'), ('pName', 'LezWatch.TV show ID')]\n",
      "[('p', 'http://www.wikidata.org/prop/direct/P7596'), ('pName', 'Disney+ series ID')]\n",
      "[('p', 'http://www.wikidata.org/prop/direct/P9751'), ('pName', 'Apple TV show ID')]\n"
     ]
    },
    {
     "data": {
      "text/plain": [
       "55"
      ]
     },
     "execution_count": 3,
     "metadata": {},
     "output_type": "execute_result"
    }
   ],
   "source": [
    "queryString = \"\"\"\n",
    "SELECT DISTINCT ?p ?pName WHERE { \n",
    "\n",
    "    # Connecting HIMYM to something\n",
    "    wd:Q147235 ?p  ?o.\n",
    "\n",
    "    # This returns the labels\n",
    "    ?p <http://schema.org/name> ?pName .\n",
    "\n",
    "    # Only data properties\n",
    "    FILTER(isLiteral(?o))\n",
    "}\n",
    "\"\"\"\n",
    "\n",
    "print(\"Results\")\n",
    "run_query(queryString)"
   ]
  },
  {
   "cell_type": "markdown",
   "id": "e13b0f3a-1f76-4b73-96eb-cab8133e8d7a",
   "metadata": {},
   "source": [
    "I discovered the two properties: ***number of episodes (wdt:P1113)*** and ***number of seasons (wdt:P2437)***. \n",
    "\n",
    "I try to use them on ***\"How I met your mother\" (wd:Q147235)***."
   ]
  },
  {
   "cell_type": "code",
   "execution_count": 4,
   "id": "b34f9810-b777-4bd7-9d51-5bbf8eadd554",
   "metadata": {},
   "outputs": [
    {
     "name": "stdout",
     "output_type": "stream",
     "text": [
      "Results\n",
      "[('numEpisodes', '208'), ('numSeasons', '9')]\n"
     ]
    },
    {
     "data": {
      "text/plain": [
       "1"
      ]
     },
     "execution_count": 4,
     "metadata": {},
     "output_type": "execute_result"
    }
   ],
   "source": [
    "queryString = \"\"\"\n",
    "SELECT ?numEpisodes ?numSeasons WHERE { \n",
    "\n",
    "    # Retrieve HIMYM numEpisodes and numSeasons\n",
    "    wd:Q147235  wdt:P1113 ?numEpisodes ;\n",
    "                wdt:P2437 ?numSeasons  .\n",
    "}\n",
    "\"\"\"\n",
    "\n",
    "print(\"Results\")\n",
    "run_query(queryString)"
   ]
  },
  {
   "cell_type": "markdown",
   "id": "18d7ea3e-37f7-4e11-9005-ed3744456119",
   "metadata": {},
   "source": [
    "Now I have to discover how many episodes there are for each season. To do this I show all the object properties of ***\"How I met your mother\" (wd:Q147235)***."
   ]
  },
  {
   "cell_type": "code",
   "execution_count": 5,
   "id": "9ded595a-2c81-457b-981e-073b4740a7f5",
   "metadata": {},
   "outputs": [
    {
     "name": "stdout",
     "output_type": "stream",
     "text": [
      "Results\n",
      "[('p', 'http://www.wikidata.org/prop/direct/P2438'), ('pName', 'narrator')]\n",
      "[('p', 'http://www.wikidata.org/prop/direct/P136'), ('pName', 'genre')]\n",
      "[('p', 'http://www.wikidata.org/prop/direct/P138'), ('pName', 'named after')]\n",
      "[('p', 'http://www.wikidata.org/prop/direct/P1411'), ('pName', 'nominated for')]\n",
      "[('p', 'http://www.wikidata.org/prop/direct/P1424'), ('pName', \"topic's main template\")]\n",
      "[('p', 'http://www.wikidata.org/prop/direct/P154'), ('pName', 'logo image')]\n",
      "[('p', 'http://www.wikidata.org/prop/direct/P161'), ('pName', 'cast member')]\n",
      "[('p', 'http://www.wikidata.org/prop/direct/P162'), ('pName', 'producer')]\n",
      "[('p', 'http://www.wikidata.org/prop/direct/P166'), ('pName', 'award received')]\n",
      "[('p', 'http://www.wikidata.org/prop/direct/P170'), ('pName', 'creator')]\n",
      "[('p', 'http://www.wikidata.org/prop/direct/P18'), ('pName', 'image')]\n",
      "[('p', 'http://www.wikidata.org/prop/direct/P1811'), ('pName', 'list of episodes')]\n",
      "[('p', 'http://www.wikidata.org/prop/direct/P1881'), ('pName', 'list of characters')]\n",
      "[('p', 'http://www.wikidata.org/prop/direct/P2061'), ('pName', 'aspect ratio')]\n",
      "[('p', 'http://www.wikidata.org/prop/direct/P2670'), ('pName', 'has parts of the class')]\n",
      "[('p', 'http://www.wikidata.org/prop/direct/P272'), ('pName', 'production company')]\n",
      "[('p', 'http://www.wikidata.org/prop/direct/P31'), ('pName', 'instance of')]\n",
      "[('p', 'http://www.wikidata.org/prop/direct/P364'), ('pName', 'original language of film or TV show')]\n",
      "[('p', 'http://www.wikidata.org/prop/direct/P437'), ('pName', 'distribution format')]\n",
      "[('p', 'http://www.wikidata.org/prop/direct/P449'), ('pName', 'original broadcaster')]\n",
      "[('p', 'http://www.wikidata.org/prop/direct/P495'), ('pName', 'country of origin')]\n",
      "[('p', 'http://www.wikidata.org/prop/direct/P4969'), ('pName', 'derivative work')]\n",
      "[('p', 'http://www.wikidata.org/prop/direct/P527'), ('pName', 'has part')]\n",
      "[('p', 'http://www.wikidata.org/prop/direct/P58'), ('pName', 'screenwriter')]\n",
      "[('p', 'http://www.wikidata.org/prop/direct/P674'), ('pName', 'characters')]\n",
      "[('p', 'http://www.wikidata.org/prop/direct/P750'), ('pName', 'distributed by')]\n",
      "[('p', 'http://www.wikidata.org/prop/direct/P840'), ('pName', 'narrative location')]\n",
      "[('p', 'http://www.wikidata.org/prop/direct/P856'), ('pName', 'official website')]\n",
      "[('p', 'http://www.wikidata.org/prop/direct/P86'), ('pName', 'composer')]\n",
      "[('p', 'http://www.wikidata.org/prop/direct/P910'), ('pName', \"topic's main category\")]\n",
      "[('p', 'http://www.wikidata.org/prop/direct/P4312'), ('pName', 'camera setup')]\n",
      "[('p', 'http://www.wikidata.org/prop/direct/P7501'), ('pName', 'audio system')]\n",
      "[('p', 'http://www.wikidata.org/prop/direct/P725'), ('pName', 'voice actor')]\n"
     ]
    },
    {
     "data": {
      "text/plain": [
       "33"
      ]
     },
     "execution_count": 5,
     "metadata": {},
     "output_type": "execute_result"
    }
   ],
   "source": [
    "queryString = \"\"\"\n",
    "SELECT DISTINCT ?p ?pName WHERE { \n",
    "\n",
    "    # Connecting HIMYM to something\n",
    "    wd:Q147235 ?p  ?o.\n",
    "\n",
    "    # This returns the labels\n",
    "    ?p <http://schema.org/name> ?pName .\n",
    "\n",
    "    # Exclude data properties\n",
    "    FILTER(!isLiteral(?o))\n",
    "}\n",
    "\"\"\"\n",
    "\n",
    "print(\"Results\")\n",
    "run_query(queryString)"
   ]
  },
  {
   "cell_type": "markdown",
   "id": "fe49218b-c01e-4f3b-b2de-36b8bb6aa2f9",
   "metadata": {},
   "source": [
    "I want to see what is connected to ***\"How I met your mother\" (wd:Q147235)*** through the property ***list of episodes (wdt:P1811)***."
   ]
  },
  {
   "cell_type": "code",
   "execution_count": 6,
   "id": "a7f1d65c-b13e-4707-a3f8-1a1fb4d00c93",
   "metadata": {},
   "outputs": [
    {
     "name": "stdout",
     "output_type": "stream",
     "text": [
      "Results\n",
      "[('list', 'http://www.wikidata.org/entity/Q785891'), ('listName', 'list of How I Met Your Mother episodes')]\n"
     ]
    },
    {
     "data": {
      "text/plain": [
       "1"
      ]
     },
     "execution_count": 6,
     "metadata": {},
     "output_type": "execute_result"
    }
   ],
   "source": [
    "queryString = \"\"\"\n",
    "SELECT DISTINCT ?list ?listName WHERE { \n",
    "\n",
    "    # Connecting HIMYM to something using property list of episodes\n",
    "    wd:Q147235 wdt:P1811  ?list.\n",
    "\n",
    "    # This returns the labels\n",
    "    ?list <http://schema.org/name> ?listName .\n",
    "}\n",
    "\"\"\"\n",
    "\n",
    "print(\"Results\")\n",
    "run_query(queryString)"
   ]
  },
  {
   "cell_type": "markdown",
   "id": "e48389df-170a-4707-8b15-841708593767",
   "metadata": {},
   "source": [
    "I try to see what is connected to ***list of How I Met Your Mother episodes (wd:Q785891)***."
   ]
  },
  {
   "cell_type": "code",
   "execution_count": 7,
   "id": "06051f02-d365-4ef4-98d9-0c5e3e433408",
   "metadata": {},
   "outputs": [
    {
     "name": "stdout",
     "output_type": "stream",
     "text": [
      "Results\n",
      "[('p', 'http://www.wikidata.org/prop/direct/P31'), ('pName', 'instance of'), ('o', 'http://www.wikidata.org/entity/Q13406463'), ('oName', 'Wikimedia list article')]\n",
      "[('p', 'http://www.wikidata.org/prop/direct/P360'), ('pName', 'is a list of'), ('o', 'http://www.wikidata.org/entity/Q21191270'), ('oName', 'television series episode')]\n",
      "[('p', 'http://www.wikidata.org/prop/direct/P1754'), ('pName', 'category related to list'), ('o', 'http://www.wikidata.org/entity/Q8526738'), ('oName', 'Category:How I Met Your Mother episodes')]\n",
      "[('p', 'http://www.wikidata.org/prop/direct/P3921'), ('pName', 'Wikidata SPARQL query equivalent'), ('o', '?st ps:P179 wd:Q147235. ?item wdt:P31 wd:Q21191270; p:P179 ?st OPTIONAL{?st pq:P1545 ?value}')]\n"
     ]
    },
    {
     "data": {
      "text/plain": [
       "4"
      ]
     },
     "execution_count": 7,
     "metadata": {},
     "output_type": "execute_result"
    }
   ],
   "source": [
    "queryString = \"\"\"\n",
    "SELECT DISTINCT ?p ?pName ?o ?oName WHERE { \n",
    "\n",
    "    # Connecting list of HIMYM episodes to something\n",
    "    wd:Q785891 ?p ?o.\n",
    "\n",
    "    # This returns the labels\n",
    "    ?p <http://schema.org/name> ?pName .\n",
    "    OPTIONAL{ ?o <http://schema.org/name> ?oName .}\n",
    "}\n",
    "\"\"\"\n",
    "\n",
    "print(\"Results\")\n",
    "run_query(queryString)"
   ]
  },
  {
   "cell_type": "markdown",
   "id": "1dd490f2-7fae-4bac-9255-3acf8cb998da",
   "metadata": {},
   "source": [
    "There are no useful information to retrieve the number of episodes of each season. \n",
    "\n",
    "I try to use an other property discovered before: ***has part (wdt:P527)***."
   ]
  },
  {
   "cell_type": "code",
   "execution_count": 8,
   "id": "f713e135-6f2e-4c94-813b-5b09b485150d",
   "metadata": {},
   "outputs": [
    {
     "name": "stdout",
     "output_type": "stream",
     "text": [
      "Results\n",
      "[('part', 'http://www.wikidata.org/entity/Q2438066'), ('partName', 'How I Met Your Mother, season 6')]\n",
      "[('part', 'http://www.wikidata.org/entity/Q2715578'), ('partName', 'How I Met Your Mother, season 1')]\n",
      "[('part', 'http://www.wikidata.org/entity/Q13567027'), ('partName', 'How I Met Your Mother, season 9')]\n",
      "[('part', 'http://www.wikidata.org/entity/Q2567330'), ('partName', 'How I Met Your Mother, season 4')]\n",
      "[('part', 'http://www.wikidata.org/entity/Q338715'), ('partName', 'How I Met Your Mother, season 8')]\n",
      "[('part', 'http://www.wikidata.org/entity/Q582332'), ('partName', 'How I Met Your Mother, season 5')]\n",
      "[('part', 'http://www.wikidata.org/entity/Q3468515'), ('partName', 'How I Met Your Mother, season 2')]\n",
      "[('part', 'http://www.wikidata.org/entity/Q2555117'), ('partName', 'How I Met Your Mother, season 3')]\n",
      "[('part', 'http://www.wikidata.org/entity/Q2472427'), ('partName', 'How I Met Your Mother, season 7')]\n"
     ]
    },
    {
     "data": {
      "text/plain": [
       "9"
      ]
     },
     "execution_count": 8,
     "metadata": {},
     "output_type": "execute_result"
    }
   ],
   "source": [
    "queryString = \"\"\"\n",
    "SELECT DISTINCT ?part ?partName WHERE { \n",
    "\n",
    "    # Connecting HIMYM to something using property hasPart\n",
    "    wd:Q147235 wdt:P527 ?part .\n",
    "\n",
    "    # This returns the labels\n",
    "    ?part <http://schema.org/name> ?partName .\n",
    "}\n",
    "\"\"\"\n",
    "\n",
    "print(\"Results\")\n",
    "run_query(queryString)"
   ]
  },
  {
   "cell_type": "markdown",
   "id": "a5a210f6-fb54-4ac0-813d-0012bc213c73",
   "metadata": {},
   "source": [
    "It is possible to retrieve all the different seasons of the TV series. \n",
    "I show the properties of one of them ( ***How I Met Your Mother, season 1 (wd:Q2715578)*** )"
   ]
  },
  {
   "cell_type": "code",
   "execution_count": 9,
   "id": "e68b75cf-e0c7-4d33-b251-4342d7c636cd",
   "metadata": {},
   "outputs": [
    {
     "name": "stdout",
     "output_type": "stream",
     "text": [
      "Results\n",
      "[('p', 'http://www.wikidata.org/prop/direct/P1113'), ('pName', 'number of episodes')]\n",
      "[('p', 'http://www.wikidata.org/prop/direct/P1258'), ('pName', 'Rotten Tomatoes ID')]\n",
      "[('p', 'http://www.wikidata.org/prop/direct/P1712'), ('pName', 'Metacritic ID')]\n",
      "[('p', 'http://www.wikidata.org/prop/direct/P179'), ('pName', 'part of the series')]\n",
      "[('p', 'http://www.wikidata.org/prop/direct/P2529'), ('pName', 'ČSFD film ID')]\n",
      "[('p', 'http://www.wikidata.org/prop/direct/P2581'), ('pName', 'BabelNet ID')]\n",
      "[('p', 'http://www.wikidata.org/prop/direct/P2638'), ('pName', 'TV.com ID')]\n",
      "[('p', 'http://www.wikidata.org/prop/direct/P2704'), ('pName', 'EIDR content ID')]\n",
      "[('p', 'http://www.wikidata.org/prop/direct/P31'), ('pName', 'instance of')]\n",
      "[('p', 'http://www.wikidata.org/prop/direct/P3302'), ('pName', 'Open Media Database film ID')]\n",
      "[('p', 'http://www.wikidata.org/prop/direct/P364'), ('pName', 'original language of film or TV show')]\n",
      "[('p', 'http://www.wikidata.org/prop/direct/P437'), ('pName', 'distribution format')]\n",
      "[('p', 'http://www.wikidata.org/prop/direct/P527'), ('pName', 'has part')]\n",
      "[('p', 'http://www.wikidata.org/prop/direct/P580'), ('pName', 'start time')]\n",
      "[('p', 'http://www.wikidata.org/prop/direct/P582'), ('pName', 'end time')]\n",
      "[('p', 'http://www.wikidata.org/prop/direct/P6262'), ('pName', 'Fandom article ID')]\n",
      "[('p', 'http://www.wikidata.org/prop/direct/P646'), ('pName', 'Freebase ID')]\n",
      "[('p', 'http://www.wikidata.org/prop/direct/P750'), ('pName', 'distributed by')]\n",
      "[('p', 'http://www.wikidata.org/prop/direct/P6381'), ('pName', 'iTunes TV season ID')]\n"
     ]
    },
    {
     "data": {
      "text/plain": [
       "19"
      ]
     },
     "execution_count": 9,
     "metadata": {},
     "output_type": "execute_result"
    }
   ],
   "source": [
    "queryString = \"\"\"\n",
    "SELECT DISTINCT ?p ?pName WHERE { \n",
    "\n",
    "    # Connecting HIMYM S1 to something\n",
    "    wd:Q2715578 ?p ?o.\n",
    "\n",
    "    # This returns the labels\n",
    "    ?p <http://schema.org/name> ?pName .\n",
    "}\n",
    "\"\"\"\n",
    "\n",
    "print(\"Results\")\n",
    "run_query(queryString)"
   ]
  },
  {
   "cell_type": "markdown",
   "id": "1d3fd492-445a-422a-8a4a-e0d378a78a4f",
   "metadata": {},
   "source": [
    "I have the property ***number of episodes (wdt:P1113)***. I try to use it on ***How I Met Your Mother, season 1 (wd:Q2715578)***."
   ]
  },
  {
   "cell_type": "code",
   "execution_count": 10,
   "id": "18e715c9-e31a-47dc-8f4f-24cfdb074bc2",
   "metadata": {},
   "outputs": [
    {
     "name": "stdout",
     "output_type": "stream",
     "text": [
      "Results\n",
      "[('numEpisodes', '22')]\n"
     ]
    },
    {
     "data": {
      "text/plain": [
       "1"
      ]
     },
     "execution_count": 10,
     "metadata": {},
     "output_type": "execute_result"
    }
   ],
   "source": [
    "queryString = \"\"\"\n",
    "SELECT ?numEpisodes WHERE { \n",
    "\n",
    "    # Retrieve number of episoed of HIMYM S1\n",
    "    wd:Q2715578 wdt:P1113 ?numEpisodes.\n",
    "}\n",
    "\"\"\"\n",
    "\n",
    "print(\"Results\")\n",
    "run_query(queryString)"
   ]
  },
  {
   "cell_type": "markdown",
   "id": "e2bc38c4-c60a-450e-a243-86a75449c6be",
   "metadata": {},
   "source": [
    "I can finally retrieve the number of episodes per season of  ***\"How I met your mother\" (wd:Q147235)***."
   ]
  },
  {
   "cell_type": "code",
   "execution_count": 11,
   "id": "a6716d05-dcbe-4c3e-8ae7-1121bd256efc",
   "metadata": {},
   "outputs": [
    {
     "name": "stdout",
     "output_type": "stream",
     "text": [
      "Results\n",
      "[('part', 'http://www.wikidata.org/entity/Q2438066'), ('partName', 'How I Met Your Mother, season 6'), ('numEpisodes', '24')]\n",
      "[('part', 'http://www.wikidata.org/entity/Q2715578'), ('partName', 'How I Met Your Mother, season 1'), ('numEpisodes', '22')]\n",
      "[('part', 'http://www.wikidata.org/entity/Q13567027'), ('partName', 'How I Met Your Mother, season 9'), ('numEpisodes', '24')]\n",
      "[('part', 'http://www.wikidata.org/entity/Q2567330'), ('partName', 'How I Met Your Mother, season 4'), ('numEpisodes', '24')]\n",
      "[('part', 'http://www.wikidata.org/entity/Q338715'), ('partName', 'How I Met Your Mother, season 8'), ('numEpisodes', '24')]\n",
      "[('part', 'http://www.wikidata.org/entity/Q582332'), ('partName', 'How I Met Your Mother, season 5'), ('numEpisodes', '24')]\n",
      "[('part', 'http://www.wikidata.org/entity/Q3468515'), ('partName', 'How I Met Your Mother, season 2'), ('numEpisodes', '22')]\n",
      "[('part', 'http://www.wikidata.org/entity/Q2555117'), ('partName', 'How I Met Your Mother, season 3'), ('numEpisodes', '20')]\n",
      "[('part', 'http://www.wikidata.org/entity/Q2472427'), ('partName', 'How I Met Your Mother, season 7'), ('numEpisodes', '24')]\n"
     ]
    },
    {
     "data": {
      "text/plain": [
       "9"
      ]
     },
     "execution_count": 11,
     "metadata": {},
     "output_type": "execute_result"
    }
   ],
   "source": [
    "queryString = \"\"\"\n",
    "SELECT DISTINCT ?part ?partName ?numEpisodes WHERE { \n",
    "\n",
    "    # Retrieve HIMYM seasons\n",
    "    wd:Q147235 wdt:P527 ?part .\n",
    "    \n",
    "    # Retrieve number of episodes of each HIMYM season\n",
    "    ?part wdt:P1113 ?numEpisodes.\n",
    "\n",
    "    # This returns the labels\n",
    "    ?part <http://schema.org/name> ?partName .\n",
    "}\n",
    "\"\"\"\n",
    "\n",
    "print(\"Results\")\n",
    "run_query(queryString)"
   ]
  },
  {
   "cell_type": "markdown",
   "id": "6f07717d-2cf8-4163-9bb4-9b413a4524a2",
   "metadata": {},
   "source": [
    "##### END TASK 1:\n",
    "I can finally answer to the initial question. ***\"How I met your mother\" (wd:Q147235)*** has 9 seasons and there are 20, 22 or 24 episodes for each season."
   ]
  },
  {
   "cell_type": "markdown",
   "id": "4e5ab9e6-b3a5-44b1-b700-f668829eb744",
   "metadata": {
    "jp-MarkdownHeadingCollapsed": true,
    "tags": []
   },
   "source": [
    "### Task 2 : Get the number of episodes in which the cast members played a role. Who are the most present actors?\n",
    "\n",
    "From a previous query, I can notice that each season has also the property ***has part (wdt:P527)***.\n",
    "\n",
    "I want to see what is connected to ***How I Met Your Mother, season 1 (wd:Q2715578)*** through this property."
   ]
  },
  {
   "cell_type": "code",
   "execution_count": 12,
   "id": "a1c22d34-62b8-488e-84c9-29b7a22b9ff1",
   "metadata": {},
   "outputs": [
    {
     "name": "stdout",
     "output_type": "stream",
     "text": [
      "Results\n",
      "[('episode', 'http://www.wikidata.org/entity/Q11696021'), ('episodeName', 'Nothing Good Happens After 2 A.M.')]\n",
      "[('episode', 'http://www.wikidata.org/entity/Q1327587'), ('episodeName', 'Okay Awesome')]\n",
      "[('episode', 'http://www.wikidata.org/entity/Q3480575'), ('episodeName', 'Return of the Shirt')]\n",
      "[('episode', 'http://www.wikidata.org/entity/Q467447'), ('episodeName', 'Pilot')]\n",
      "[('episode', 'http://www.wikidata.org/entity/Q468587'), ('episodeName', 'Purple Giraffe')]\n",
      "[('episode', 'http://www.wikidata.org/entity/Q471448'), ('episodeName', 'Sweet Taste of Liberty')]\n",
      "[('episode', 'http://www.wikidata.org/entity/Q4809956'), ('episodeName', 'Game Night')]\n",
      "[('episode', 'http://www.wikidata.org/entity/Q4817584'), ('episodeName', 'Drumroll, Please')]\n",
      "[('episode', 'http://www.wikidata.org/entity/Q4818636'), ('episodeName', 'Life Among the Gorillas')]\n",
      "[('episode', 'http://www.wikidata.org/entity/Q4818989'), ('episodeName', 'Cupcake')]\n",
      "[('episode', 'http://www.wikidata.org/entity/Q4819005'), ('episodeName', 'The Wedding')]\n",
      "[('episode', 'http://www.wikidata.org/entity/Q4884249'), ('episodeName', 'Belly Full of Turkey')]\n",
      "[('episode', 'http://www.wikidata.org/entity/Q5151207'), ('episodeName', 'Come On')]\n",
      "[('episode', 'http://www.wikidata.org/entity/Q6781049'), ('episodeName', 'Mary the Paralegal')]\n",
      "[('episode', 'http://www.wikidata.org/entity/Q6857975'), ('episodeName', 'Milk')]\n",
      "[('episode', 'http://www.wikidata.org/entity/Q7731151'), ('episodeName', 'The Duel')]\n",
      "[('episode', 'http://www.wikidata.org/entity/Q7747382'), ('episodeName', 'The Limo')]\n",
      "[('episode', 'http://www.wikidata.org/entity/Q7757165'), ('episodeName', 'The Pineapple Incident')]\n",
      "[('episode', 'http://www.wikidata.org/entity/Q8072588'), ('episodeName', 'Zip, Zip, Zip')]\n",
      "[('episode', 'http://www.wikidata.org/entity/Q8247171'), ('episodeName', 'Best Prom Ever')]\n",
      "[('episode', 'http://www.wikidata.org/entity/Q9030442'), ('episodeName', 'Matchmaker')]\n",
      "[('episode', 'http://www.wikidata.org/entity/Q9078314'), ('episodeName', 'Slutty Pumpkin')]\n"
     ]
    },
    {
     "data": {
      "text/plain": [
       "22"
      ]
     },
     "execution_count": 12,
     "metadata": {},
     "output_type": "execute_result"
    }
   ],
   "source": [
    "queryString = \"\"\"\n",
    "SELECT ?episode ?episodeName WHERE { \n",
    "\n",
    "    # Retrieve episodes of HIMYM S1\n",
    "    wd:Q2715578 wdt:P527 ?episode .\n",
    "    \n",
    "    # This returns the labels\n",
    "    ?episode <http://schema.org/name> ?episodeName .\n",
    "}\n",
    "\"\"\"\n",
    "\n",
    "print(\"Results\")\n",
    "run_query(queryString)"
   ]
  },
  {
   "cell_type": "markdown",
   "id": "ea3c3eed-e3eb-4f58-ac77-37d0e634fd2f",
   "metadata": {},
   "source": [
    "Using the property ***has part (wdt:P527)*** on a single season, I can retrieve all the episodes of that season.\n",
    "\n",
    "I have to discover the cast members, so I try to list all the properties of a specific episode: ***The Pineapple Incident (wd:Q7757165)***"
   ]
  },
  {
   "cell_type": "code",
   "execution_count": 13,
   "id": "ce0d6be2-bfbc-4dce-92eb-9a47c8debc73",
   "metadata": {},
   "outputs": [
    {
     "name": "stdout",
     "output_type": "stream",
     "text": [
      "Results\n",
      "[('p', 'http://www.wikidata.org/prop/direct/P161'), ('pName', 'cast member'), ('o', 'http://www.wikidata.org/entity/Q200566'), ('oName', 'Cobie Smulders')]\n",
      "[('p', 'http://www.wikidata.org/prop/direct/P161'), ('pName', 'cast member'), ('o', 'http://www.wikidata.org/entity/Q485310'), ('oName', 'Neil Patrick Harris')]\n",
      "[('p', 'http://www.wikidata.org/prop/direct/P161'), ('pName', 'cast member'), ('o', 'http://www.wikidata.org/entity/Q223455'), ('oName', 'Josh Radnor')]\n",
      "[('p', 'http://www.wikidata.org/prop/direct/P161'), ('pName', 'cast member'), ('o', 'http://www.wikidata.org/entity/Q199927'), ('oName', 'Alyson Hannigan')]\n",
      "[('p', 'http://www.wikidata.org/prop/direct/P161'), ('pName', 'cast member'), ('o', 'http://www.wikidata.org/entity/Q202304'), ('oName', 'Jason Segel')]\n",
      "[('p', 'http://www.wikidata.org/prop/direct/P161'), ('pName', 'cast member'), ('o', 'http://www.wikidata.org/entity/Q333544'), ('oName', 'Bob Saget')]\n",
      "[('p', 'http://www.wikidata.org/prop/direct/P161'), ('pName', 'cast member'), ('o', 'http://www.wikidata.org/entity/Q242949'), ('oName', 'Danica McKellar')]\n",
      "[('p', 'http://www.wikidata.org/prop/direct/P57'), ('pName', 'director'), ('o', 'http://www.wikidata.org/entity/Q460221'), ('oName', 'Pamela Fryman')]\n",
      "[('p', 'http://www.wikidata.org/prop/direct/P156'), ('pName', 'followed by'), ('o', 'http://www.wikidata.org/entity/Q7747382'), ('oName', 'The Limo')]\n",
      "[('p', 'http://www.wikidata.org/prop/direct/P155'), ('pName', 'follows'), ('o', 'http://www.wikidata.org/entity/Q4884249'), ('oName', 'Belly Full of Turkey')]\n",
      "[('p', 'http://www.wikidata.org/prop/direct/P31'), ('pName', 'instance of'), ('o', 'http://www.wikidata.org/entity/Q21191270'), ('oName', 'television series episode')]\n",
      "[('p', 'http://www.wikidata.org/prop/direct/P364'), ('pName', 'original language of film or TV show'), ('o', 'http://www.wikidata.org/entity/Q1860'), ('oName', 'English')]\n",
      "[('p', 'http://www.wikidata.org/prop/direct/P179'), ('pName', 'part of the series'), ('o', 'http://www.wikidata.org/entity/Q147235'), ('oName', 'How I Met Your Mother')]\n",
      "[('p', 'http://www.wikidata.org/prop/direct/P58'), ('pName', 'screenwriter'), ('o', 'http://www.wikidata.org/entity/Q2656047'), ('oName', 'Carter Bays')]\n",
      "[('p', 'http://www.wikidata.org/prop/direct/P58'), ('pName', 'screenwriter'), ('o', 'http://www.wikidata.org/entity/Q3002075'), ('oName', 'Craig Thomas')]\n",
      "[('p', 'http://www.wikidata.org/prop/direct/P4908'), ('pName', 'season'), ('o', 'http://www.wikidata.org/entity/Q2715578'), ('oName', 'How I Met Your Mother, season 1')]\n"
     ]
    },
    {
     "data": {
      "text/plain": [
       "16"
      ]
     },
     "execution_count": 13,
     "metadata": {},
     "output_type": "execute_result"
    }
   ],
   "source": [
    "queryString = \"\"\"\n",
    "SELECT DISTINCT ?p ?pName ?o ?oName WHERE { \n",
    "\n",
    "    # Connecting The Pineapple Incident to something\n",
    "    wd:Q7757165 ?p ?o.\n",
    "\n",
    "    # This returns the labels\n",
    "    ?p <http://schema.org/name> ?pName .\n",
    "    ?o <http://schema.org/name> ?oName .\n",
    "}\n",
    "ORDER BY ?pName\n",
    "\"\"\"\n",
    "\n",
    "print(\"Results\")\n",
    "run_query(queryString)"
   ]
  },
  {
   "cell_type": "markdown",
   "id": "e2f51b86-3fbc-472f-ba0d-ac9e9bde0d68",
   "metadata": {},
   "source": [
    "I discovered that the property ***cast member (wdt:P161)*** can be used to retrieve all the actors that partecipated in a specific episode.\n",
    "\n",
    "Now I can count the number of episodes in which the cast members played a role, and show the most present actors."
   ]
  },
  {
   "cell_type": "code",
   "execution_count": 14,
   "id": "dec7eee7-5b04-44af-b2ae-84f5f216e702",
   "metadata": {},
   "outputs": [
    {
     "name": "stdout",
     "output_type": "stream",
     "text": [
      "Results\n",
      "[('actor', 'http://www.wikidata.org/entity/Q200566'), ('actorName', 'Cobie Smulders'), ('numEpisodes', '145')]\n",
      "[('actor', 'http://www.wikidata.org/entity/Q485310'), ('actorName', 'Neil Patrick Harris'), ('numEpisodes', '145')]\n",
      "[('actor', 'http://www.wikidata.org/entity/Q223455'), ('actorName', 'Josh Radnor'), ('numEpisodes', '145')]\n",
      "[('actor', 'http://www.wikidata.org/entity/Q202304'), ('actorName', 'Jason Segel'), ('numEpisodes', '145')]\n",
      "[('actor', 'http://www.wikidata.org/entity/Q199927'), ('actorName', 'Alyson Hannigan'), ('numEpisodes', '143')]\n",
      "[('actor', 'http://www.wikidata.org/entity/Q333544'), ('actorName', 'Bob Saget'), ('numEpisodes', '142')]\n",
      "[('actor', 'http://www.wikidata.org/entity/Q297128'), ('actorName', 'David Henrie'), ('numEpisodes', '48')]\n",
      "[('actor', 'http://www.wikidata.org/entity/Q229914'), ('actorName', 'Lyndsy Fonseca'), ('numEpisodes', '48')]\n",
      "[('actor', 'http://www.wikidata.org/entity/Q16149506'), ('actorName', 'Charlene Amoia'), ('numEpisodes', '17')]\n",
      "[('actor', 'http://www.wikidata.org/entity/Q199929'), ('actorName', 'Jennifer Morrison'), ('numEpisodes', '12')]\n"
     ]
    },
    {
     "data": {
      "text/plain": [
       "10"
      ]
     },
     "execution_count": 14,
     "metadata": {},
     "output_type": "execute_result"
    }
   ],
   "source": [
    "queryString = \"\"\"\n",
    "SELECT ?actor ?actorName COUNT(DISTINCT ?episode) AS ?numEpisodes WHERE { \n",
    "\n",
    "    # Retrieve HIMYM episodes \n",
    "    wd:Q147235 wdt:P527{2} ?episode .\n",
    "    \n",
    "    # Retrieve cast members\n",
    "    ?episode wdt:P161 ?actor .\n",
    "    \n",
    "    # This returns the labels\n",
    "    ?actor <http://schema.org/name> ?actorName .\n",
    "}\n",
    "GROUP BY ?actor ?actorName\n",
    "ORDER BY DESC(?numEpisodes)\n",
    "LIMIT 10\n",
    "\"\"\"\n",
    "\n",
    "print(\"Results\")\n",
    "run_query(queryString)"
   ]
  },
  {
   "cell_type": "markdown",
   "id": "ceb35dcd-9b67-4e38-9fc1-7bef9b993862",
   "metadata": {},
   "source": [
    "##### END TASK 2 \n",
    "With this final query I was able to get the number of episodes in which the cast members acted. \n",
    "\n",
    "Moreover, the most present actors are ***Cobie Smulders, Neil Patrick Harris, Josh Radnor*** and ***Jason Segel***."
   ]
  },
  {
   "cell_type": "markdown",
   "id": "1f979066-bead-4aa3-8ded-dfd760e45cae",
   "metadata": {
    "jp-MarkdownHeadingCollapsed": true,
    "tags": []
   },
   "source": [
    "### Task 3 :  Check who is the actor who acted in more films while working on \"How I met your mother\" and who is the actor who participated in more films after the end of the tv series.\n",
    "\n",
    "To check if an actor acted in a film while working on ***\"How I met your mother\" (wd:Q147235)***, I need to know when HIMYM started and when it ended.\n",
    "\n",
    "I can rely on these two properties discovered in a previous query: \n",
    "* ***start time (wdt:P580)*** \n",
    "* ***end time (wdt:P582)***"
   ]
  },
  {
   "cell_type": "code",
   "execution_count": 15,
   "id": "4c896f07-7bf6-4fe0-b3c3-bcebeef62f16",
   "metadata": {},
   "outputs": [
    {
     "name": "stdout",
     "output_type": "stream",
     "text": [
      "Results\n",
      "[('startTime', '2005-09-19T00:00:00Z'), ('endTime', '2014-03-31T00:00:00Z')]\n"
     ]
    },
    {
     "data": {
      "text/plain": [
       "1"
      ]
     },
     "execution_count": 15,
     "metadata": {},
     "output_type": "execute_result"
    }
   ],
   "source": [
    "queryString = \"\"\"\n",
    "SELECT ?startTime ?endTime WHERE { \n",
    "\n",
    "    # Retrieving HIMYM startTime and endTime\n",
    "    wd:Q147235  wdt:P580  ?startTime ;\n",
    "                wdt:P582  ?endTime   . \n",
    "}\n",
    "\"\"\"\n",
    "\n",
    "print(\"Results\")\n",
    "run_query(queryString)"
   ]
  },
  {
   "cell_type": "markdown",
   "id": "81933916-ae77-4edb-ad8f-0c55d003b01d",
   "metadata": {},
   "source": [
    "Hence, I need to check if an actor worked in a film between ***\"2005-09-19\"*** and ***\"2014-03-31\"***. To do this, I have to understand how actors and films are connected.\n",
    "\n",
    "First, I try to retrieve all the object propertis of a specific actor : ***Cobie Smulders (wd:Q200566)***."
   ]
  },
  {
   "cell_type": "code",
   "execution_count": 16,
   "id": "2ddde9a5-d57b-42d2-93ef-0b45de877be9",
   "metadata": {},
   "outputs": [
    {
     "name": "stdout",
     "output_type": "stream",
     "text": [
      "Results\n",
      "[('p', 'http://www.wikidata.org/prop/direct/P27'), ('pName', 'country of citizenship'), ('o', 'http://www.wikidata.org/entity/Q16'), ('oName', 'Canada')]\n",
      "[('p', 'http://www.wikidata.org/prop/direct/P734'), ('pName', 'family name'), ('o', 'http://www.wikidata.org/entity/Q2018583'), ('oName', 'Smulders')]\n",
      "[('p', 'http://www.wikidata.org/prop/direct/P735'), ('pName', 'given name'), ('o', 'http://www.wikidata.org/entity/Q15208593'), ('oName', 'Francisca')]\n",
      "[('p', 'http://www.wikidata.org/prop/direct/P735'), ('pName', 'given name'), ('o', 'http://www.wikidata.org/entity/Q6119607'), ('oName', 'Jacoba')]\n",
      "[('p', 'http://www.wikidata.org/prop/direct/P735'), ('pName', 'given name'), ('o', 'http://www.wikidata.org/entity/Q325872'), ('oName', 'Maria')]\n",
      "[('p', 'http://www.wikidata.org/prop/direct/P31'), ('pName', 'instance of'), ('o', 'http://www.wikidata.org/entity/Q5'), ('oName', 'human')]\n",
      "[('p', 'http://www.wikidata.org/prop/direct/P1412'), ('pName', 'languages spoken, written or signed'), ('o', 'http://www.wikidata.org/entity/Q1860'), ('oName', 'English')]\n",
      "[('p', 'http://www.wikidata.org/prop/direct/P106'), ('pName', 'occupation'), ('o', 'http://www.wikidata.org/entity/Q10798782'), ('oName', 'television actor')]\n",
      "[('p', 'http://www.wikidata.org/prop/direct/P106'), ('pName', 'occupation'), ('o', 'http://www.wikidata.org/entity/Q10800557'), ('oName', 'film actor')]\n",
      "[('p', 'http://www.wikidata.org/prop/direct/P106'), ('pName', 'occupation'), ('o', 'http://www.wikidata.org/entity/Q2259451'), ('oName', 'stage actor')]\n",
      "[('p', 'http://www.wikidata.org/prop/direct/P106'), ('pName', 'occupation'), ('o', 'http://www.wikidata.org/entity/Q4610556'), ('oName', 'model')]\n",
      "[('p', 'http://www.wikidata.org/prop/direct/P19'), ('pName', 'place of birth'), ('o', 'http://www.wikidata.org/entity/Q24639'), ('oName', 'Vancouver')]\n",
      "[('p', 'http://www.wikidata.org/prop/direct/P551'), ('pName', 'residence'), ('o', 'http://www.wikidata.org/entity/Q65'), ('oName', 'Los Angeles')]\n",
      "[('p', 'http://www.wikidata.org/prop/direct/P21'), ('pName', 'sex or gender'), ('o', 'http://www.wikidata.org/entity/Q6581072'), ('oName', 'female')]\n",
      "[('p', 'http://www.wikidata.org/prop/direct/P26'), ('pName', 'spouse'), ('o', 'http://www.wikidata.org/entity/Q2706805'), ('oName', 'Taran Killam')]\n"
     ]
    },
    {
     "data": {
      "text/plain": [
       "15"
      ]
     },
     "execution_count": 16,
     "metadata": {},
     "output_type": "execute_result"
    }
   ],
   "source": [
    "queryString = \"\"\"\n",
    "SELECT ?p ?pName ?o ?oName WHERE { \n",
    "\n",
    "    # Connecting Cobie Smulders to something\n",
    "    wd:Q200566  ?p  ?o .\n",
    "    \n",
    "    # This returns the labels\n",
    "    ?p <http://schema.org/name> ?pName .\n",
    "    ?o <http://schema.org/name> ?oName .\n",
    "}\n",
    "ORDER BY ?pName\n",
    "\"\"\"\n",
    "\n",
    "print(\"Results\")\n",
    "run_query(queryString)"
   ]
  },
  {
   "cell_type": "markdown",
   "id": "8761da13-e612-4732-932e-b9c96f5b367f",
   "metadata": {},
   "source": [
    "Maybe there are connection in the opposite direction: ***?s ?p wd:Q200566***."
   ]
  },
  {
   "cell_type": "code",
   "execution_count": 17,
   "id": "e57e931f-ab58-415c-a87f-826932963107",
   "metadata": {},
   "outputs": [
    {
     "name": "stdout",
     "output_type": "stream",
     "text": [
      "Results\n",
      "[('s', 'http://www.wikidata.org/entity/Q65070140'), ('sName', 'Stumptown'), ('p', 'http://www.wikidata.org/prop/direct/P161'), ('pName', 'cast member')]\n",
      "[('s', 'http://www.wikidata.org/entity/Q51963292'), ('sName', 'Marvel Cinematic Universe Phase One'), ('p', 'http://www.wikidata.org/prop/direct/P161'), ('pName', 'cast member')]\n",
      "[('s', 'http://www.wikidata.org/entity/Q63405798'), ('sName', 'The Infinity Saga'), ('p', 'http://www.wikidata.org/prop/direct/P161'), ('pName', 'cast member')]\n",
      "[('s', 'http://www.wikidata.org/entity/Q147235'), ('sName', 'How I Met Your Mother'), ('p', 'http://www.wikidata.org/prop/direct/P161'), ('pName', 'cast member')]\n",
      "[('s', 'http://www.wikidata.org/entity/Q5264968'), ('sName', 'Desperation Day'), ('p', 'http://www.wikidata.org/prop/direct/P161'), ('pName', 'cast member')]\n",
      "[('s', 'http://www.wikidata.org/entity/Q5521981'), ('sName', 'Garbage Island'), ('p', 'http://www.wikidata.org/prop/direct/P161'), ('pName', 'cast member')]\n",
      "[('s', 'http://www.wikidata.org/entity/Q7080458'), ('sName', 'Oh Honey'), ('p', 'http://www.wikidata.org/prop/direct/P161'), ('pName', 'cast member')]\n",
      "[('s', 'http://www.wikidata.org/entity/Q5888848'), ('sName', 'Home Wreckers'), ('p', 'http://www.wikidata.org/prop/direct/P161'), ('pName', 'cast member')]\n",
      "[('s', 'http://www.wikidata.org/entity/Q7858076'), ('sName', 'Twin Beds'), ('p', 'http://www.wikidata.org/prop/direct/P161'), ('pName', 'cast member')]\n",
      "[('s', 'http://www.wikidata.org/entity/Q8074081'), ('sName', 'Zoo or False'), ('p', 'http://www.wikidata.org/prop/direct/P161'), ('pName', 'cast member')]\n",
      "[('s', 'http://www.wikidata.org/entity/Q17113214'), ('sName', 'They Came Together'), ('p', 'http://www.wikidata.org/prop/direct/P161'), ('pName', 'cast member')]\n",
      "[('s', 'http://www.wikidata.org/entity/Q23780914'), ('sName', 'Avengers: Infinity War'), ('p', 'http://www.wikidata.org/prop/direct/P161'), ('pName', 'cast member')]\n",
      "[('s', 'http://www.wikidata.org/entity/Q23781155'), ('sName', 'Avengers: Endgame'), ('p', 'http://www.wikidata.org/prop/direct/P161'), ('pName', 'cast member')]\n",
      "[('s', 'http://www.wikidata.org/entity/Q27985819'), ('sName', 'Spider-Man: Far from Home'), ('p', 'http://www.wikidata.org/prop/direct/P161'), ('pName', 'cast member')]\n",
      "[('s', 'http://www.wikidata.org/entity/Q4786988'), ('sName', 'Architect of Destruction'), ('p', 'http://www.wikidata.org/prop/direct/P161'), ('pName', 'cast member')]\n",
      "[('s', 'http://www.wikidata.org/entity/Q4838409'), ('sName', 'Baby Talk'), ('p', 'http://www.wikidata.org/prop/direct/P161'), ('pName', 'cast member')]\n",
      "[('s', 'http://www.wikidata.org/entity/Q7632493'), ('sName', 'Subway Wars'), ('p', 'http://www.wikidata.org/prop/direct/P161'), ('pName', 'cast member')]\n",
      "[('s', 'http://www.wikidata.org/entity/Q14171368'), ('sName', 'Avengers: Age of Ultron'), ('p', 'http://www.wikidata.org/prop/direct/P161'), ('pName', 'cast member')]\n",
      "[('s', 'http://www.wikidata.org/entity/Q1765358'), ('sName', 'Captain America: The Winter Soldier'), ('p', 'http://www.wikidata.org/prop/direct/P161'), ('pName', 'cast member')]\n",
      "[('s', 'http://www.wikidata.org/entity/Q182218'), ('sName', 'The Avengers'), ('p', 'http://www.wikidata.org/prop/direct/P161'), ('pName', 'cast member')]\n"
     ]
    },
    {
     "data": {
      "text/plain": [
       "20"
      ]
     },
     "execution_count": 17,
     "metadata": {},
     "output_type": "execute_result"
    }
   ],
   "source": [
    "queryString = \"\"\"\n",
    "SELECT ?s ?sName ?p ?pName WHERE { \n",
    "\n",
    "    # Connecting something to Cobie Smulders\n",
    "    ?s ?p wd:Q200566 .\n",
    "    \n",
    "    # This returns the labels\n",
    "    ?p <http://schema.org/name> ?pName .\n",
    "    ?s <http://schema.org/name> ?sName .\n",
    "}\n",
    "ORDER BY ?pName\n",
    "LIMIT 20\n",
    "\"\"\"\n",
    "\n",
    "print(\"Results\")\n",
    "run_query(queryString)"
   ]
  },
  {
   "cell_type": "markdown",
   "id": "9b7678d4-1a5e-4ee0-b8d9-2ad4f91763df",
   "metadata": {},
   "source": [
    "I can use the property ***cast member (wdt:P161)*** as before, but I need to understand how to select only films and not other TV series.\n",
    "\n",
    "I use the property ***instanceOf (wdt:P31)*** on ***Avengers: Infinity War (wd:Q23780914)***."
   ]
  },
  {
   "cell_type": "code",
   "execution_count": 18,
   "id": "0e9f449c-7681-4c58-9f5b-d40e6f2593b0",
   "metadata": {},
   "outputs": [
    {
     "name": "stdout",
     "output_type": "stream",
     "text": [
      "Results\n",
      "[('class', 'http://www.wikidata.org/entity/Q11424'), ('className', 'film')]\n"
     ]
    },
    {
     "data": {
      "text/plain": [
       "1"
      ]
     },
     "execution_count": 18,
     "metadata": {},
     "output_type": "execute_result"
    }
   ],
   "source": [
    "queryString = \"\"\"\n",
    "SELECT ?class ?className WHERE { \n",
    "\n",
    "    # Retrieve class of Avengers Infinity War\n",
    "    wd:Q23780914 wdt:P31 ?class .\n",
    "    \n",
    "    # This returns the labels\n",
    "    ?class <http://schema.org/name> ?className .\n",
    "}\n",
    "\"\"\"\n",
    "\n",
    "print(\"Results\")\n",
    "run_query(queryString)"
   ]
  },
  {
   "cell_type": "markdown",
   "id": "363f1a3c-9095-4466-8b84-df08606d2f27",
   "metadata": {},
   "source": [
    "I retrieved ***film (wd:Q11424)***. Now, I can retrieve only the films of a specific actor : ***Cobie Smulders (wd:Q200566)***."
   ]
  },
  {
   "cell_type": "code",
   "execution_count": 19,
   "id": "95146a63-e5b9-44cd-9a2b-18a3c0d440ee",
   "metadata": {},
   "outputs": [
    {
     "name": "stdout",
     "output_type": "stream",
     "text": [
      "Results\n",
      "[('film', 'http://www.wikidata.org/entity/Q14171368'), ('filmName', 'Avengers: Age of Ultron')]\n",
      "[('film', 'http://www.wikidata.org/entity/Q23781155'), ('filmName', 'Avengers: Endgame')]\n",
      "[('film', 'http://www.wikidata.org/entity/Q23780914'), ('filmName', 'Avengers: Infinity War')]\n",
      "[('film', 'http://www.wikidata.org/entity/Q1765358'), ('filmName', 'Captain America: The Winter Soldier')]\n",
      "[('film', 'http://www.wikidata.org/entity/Q7729669'), ('filmName', 'Delivery Man')]\n",
      "[('film', 'http://www.wikidata.org/entity/Q3012583'), ('filmName', 'Grassroots')]\n",
      "[('film', 'http://www.wikidata.org/entity/Q21168538'), ('filmName', 'Jack Reacher: Never Go Back')]\n",
      "[('film', 'http://www.wikidata.org/entity/Q27663881'), ('filmName', 'Killing Gunther')]\n",
      "[('film', 'http://www.wikidata.org/entity/Q27888468'), ('filmName', 'Lennon or McCartney')]\n",
      "[('film', 'http://www.wikidata.org/entity/Q18703883'), ('filmName', 'Results')]\n",
      "[('film', 'http://www.wikidata.org/entity/Q1767513'), ('filmName', 'Safe Haven')]\n",
      "[('film', 'http://www.wikidata.org/entity/Q27985819'), ('filmName', 'Spider-Man: Far from Home')]\n",
      "[('film', 'http://www.wikidata.org/entity/Q182218'), ('filmName', 'The Avengers')]\n",
      "[('film', 'http://www.wikidata.org/entity/Q21866873'), ('filmName', 'The Intervention')]\n",
      "[('film', 'http://www.wikidata.org/entity/Q1347959'), ('filmName', 'The Long Weekend')]\n",
      "[('film', 'http://www.wikidata.org/entity/Q1131162'), ('filmName', \"The Slammin' Salmon\")]\n",
      "[('film', 'http://www.wikidata.org/entity/Q17113214'), ('filmName', 'They Came Together')]\n",
      "[('film', 'http://www.wikidata.org/entity/Q19264031'), ('filmName', 'Unexpected')]\n",
      "[('film', 'http://www.wikidata.org/entity/Q919363'), ('filmName', 'Walking Tall')]\n"
     ]
    },
    {
     "data": {
      "text/plain": [
       "19"
      ]
     },
     "execution_count": 19,
     "metadata": {},
     "output_type": "execute_result"
    }
   ],
   "source": [
    "queryString = \"\"\"\n",
    "SELECT ?film ?filmName WHERE { \n",
    "\n",
    "    # Retrieve films in which Cobie Smulders acted\n",
    "    ?film  wdt:P161 wd:Q200566 ;\n",
    "           wdt:P31  wd:Q11424  .\n",
    "    \n",
    "    # This returns the labels\n",
    "    ?film <http://schema.org/name> ?filmName .\n",
    "}\n",
    "ORDER BY ?filmName\n",
    "\"\"\"\n",
    "\n",
    "print(\"Results\")\n",
    "run_query(queryString)"
   ]
  },
  {
   "cell_type": "markdown",
   "id": "2b934c6c-582e-423e-a6fe-a676cc1c0c5b",
   "metadata": {},
   "source": [
    "I have to retrieve the publication date of a film. I check if there is a property of ***Avengers: Infinity War (wd:Q23780914)*** that contains the word \"date\"."
   ]
  },
  {
   "cell_type": "code",
   "execution_count": 20,
   "id": "0a3f157b-d3aa-4090-bf8c-90278c365424",
   "metadata": {},
   "outputs": [
    {
     "name": "stdout",
     "output_type": "stream",
     "text": [
      "Results\n",
      "[('p', 'http://www.wikidata.org/prop/direct/P577'), ('pName', 'publication date')]\n"
     ]
    },
    {
     "data": {
      "text/plain": [
       "1"
      ]
     },
     "execution_count": 20,
     "metadata": {},
     "output_type": "execute_result"
    }
   ],
   "source": [
    "queryString = \"\"\"\n",
    "SELECT DISTINCT ?p ?pName WHERE { \n",
    "\n",
    "    # Connect something to Avengers Infinity War\n",
    "    wd:Q23780914 ?p ?o.\n",
    "    \n",
    "    # This returns the labels\n",
    "    ?p <http://schema.org/name> ?pName .\n",
    "    \n",
    "    # I use a regex to search a property that contains the word \"date\"\n",
    "    FILTER(REGEX(?pName, \"date\"))\n",
    "}\n",
    "\"\"\"\n",
    "\n",
    "print(\"Results\")\n",
    "run_query(queryString)"
   ]
  },
  {
   "cell_type": "markdown",
   "id": "bd880cf4-f0cd-4a3c-8fa5-0b8235c96a17",
   "metadata": {},
   "source": [
    "So to retrieve the publication date of a ***film (wd:Q11424)***, I can use the property ***publication date (wdt:P577)***.\n",
    "\n",
    "Now I can finally answer to the initial question: who is the actor who acted in more films while working on ***\"How I met your mother\" (wd:Q147235)***."
   ]
  },
  {
   "cell_type": "code",
   "execution_count": 21,
   "id": "1f6ff845-a1c4-468f-9280-6d98c31a8787",
   "metadata": {},
   "outputs": [
    {
     "name": "stdout",
     "output_type": "stream",
     "text": [
      "Results\n",
      "[('actor', 'http://www.wikidata.org/entity/Q192165'), ('actorName', 'Danny Glover'), ('numFilms', '40')]\n",
      "[('actor', 'http://www.wikidata.org/entity/Q229669'), ('actorName', 'Malin Åkerman'), ('numFilms', '21')]\n",
      "[('actor', 'http://www.wikidata.org/entity/Q469579'), ('actorName', 'Mircea Monroe'), ('numFilms', '19')]\n",
      "[('actor', 'http://www.wikidata.org/entity/Q1319539'), ('actorName', 'Thomas Lennon'), ('numFilms', '18')]\n",
      "[('actor', 'http://www.wikidata.org/entity/Q236189'), ('actorName', 'Judy Greer'), ('numFilms', '18')]\n",
      "[('actor', 'http://www.wikidata.org/entity/Q1319744'), ('actorName', 'Will Forte'), ('numFilms', '17')]\n",
      "[('actor', 'http://www.wikidata.org/entity/Q566037'), ('actorName', 'Scoot McNairy'), ('numFilms', '16')]\n",
      "[('actor', 'http://www.wikidata.org/entity/Q1189470'), ('actorName', 'Jimmi Simpson'), ('numFilms', '16')]\n",
      "[('actor', 'http://www.wikidata.org/entity/Q530646'), ('actorName', 'Ray Wise'), ('numFilms', '16')]\n",
      "[('actor', 'http://www.wikidata.org/entity/Q716936'), ('actorName', 'Joe Lo Truglio'), ('numFilms', '15')]\n"
     ]
    },
    {
     "data": {
      "text/plain": [
       "10"
      ]
     },
     "execution_count": 21,
     "metadata": {},
     "output_type": "execute_result"
    }
   ],
   "source": [
    "queryString = \"\"\"\n",
    "SELECT ?actor ?actorName COUNT(DISTINCT ?film) AS ?numFilms WHERE { \n",
    "\n",
    "    # Retrieve all the HIMYM cast members\n",
    "    wd:Q147235 wdt:P161 ?actor .\n",
    "    \n",
    "    # Retrieve films in which actor of HIMYM acted\n",
    "    ?film  wdt:P31   wd:Q11424         ;\n",
    "           wdt:P161  ?actor            ;\n",
    "           wdt:P577  ?publicationDate  .\n",
    "    \n",
    "    # This returns the labels\n",
    "    ?actor <http://schema.org/name> ?actorName .\n",
    "    \n",
    "    # I want only films that were published while the actor was working on \"How I met your mother\".\n",
    "    FILTER (?publicationDate > \"2005-09-19\"^^xsd:date AND ?publicationDate < \"2014-03-31\"^^xsd:date )\n",
    "}\n",
    "GROUP BY ?actor ?actorName\n",
    "ORDER BY DESC(?numFilms)\n",
    "LIMIT 10\n",
    "\"\"\"\n",
    "\n",
    "print(\"Results\")\n",
    "run_query(queryString)"
   ]
  },
  {
   "cell_type": "markdown",
   "id": "8c042cfe-4dff-462b-9ce9-4c32c21302cb",
   "metadata": {},
   "source": [
    "Who is the actor who participated in more films after the end of the tv series ?\n",
    "\n",
    "I can use the previous query, but I consider only films published after ***\"2014-03-31\"*** ( the end date of ***\"How I met your mother\" (wd:Q147235)*** )"
   ]
  },
  {
   "cell_type": "code",
   "execution_count": 22,
   "id": "14c86559-93bc-49a0-a61f-73ffcf8fe1fc",
   "metadata": {},
   "outputs": [
    {
     "name": "stdout",
     "output_type": "stream",
     "text": [
      "Results\n",
      "[('actor', 'http://www.wikidata.org/entity/Q192165'), ('actorName', 'Danny Glover'), ('numFilms', '27')]\n",
      "[('actor', 'http://www.wikidata.org/entity/Q236189'), ('actorName', 'Judy Greer'), ('numFilms', '20')]\n",
      "[('actor', 'http://www.wikidata.org/entity/Q6382703'), ('actorName', 'Keegan-Michael Key'), ('numFilms', '17')]\n",
      "[('actor', 'http://www.wikidata.org/entity/Q1319744'), ('actorName', 'Will Forte'), ('numFilms', '15')]\n",
      "[('actor', 'http://www.wikidata.org/entity/Q362616'), ('actorName', 'Jon Bernthal'), ('numFilms', '15')]\n",
      "[('actor', 'http://www.wikidata.org/entity/Q23547'), ('actorName', 'Bryan Cranston'), ('numFilms', '14')]\n",
      "[('actor', 'http://www.wikidata.org/entity/Q566037'), ('actorName', 'Scoot McNairy'), ('numFilms', '13')]\n",
      "[('actor', 'http://www.wikidata.org/entity/Q311271'), ('actorName', 'John Lithgow'), ('numFilms', '12')]\n",
      "[('actor', 'http://www.wikidata.org/entity/Q200566'), ('actorName', 'Cobie Smulders'), ('numFilms', '11')]\n",
      "[('actor', 'http://www.wikidata.org/entity/Q888178'), ('actorName', 'Bob Odenkirk'), ('numFilms', '10')]\n"
     ]
    },
    {
     "data": {
      "text/plain": [
       "10"
      ]
     },
     "execution_count": 22,
     "metadata": {},
     "output_type": "execute_result"
    }
   ],
   "source": [
    "queryString = \"\"\"\n",
    "SELECT ?actor ?actorName COUNT(DISTINCT ?film) AS ?numFilms WHERE { \n",
    "\n",
    "    # Retrieve all the HIMYM cast members\n",
    "    wd:Q147235 wdt:P161 ?actor .\n",
    "    \n",
    "    # Retrieve films in which actor of HIMYM acted\n",
    "    ?film  wdt:P31   wd:Q11424         ;\n",
    "           wdt:P161  ?actor            ;\n",
    "           wdt:P577  ?publicationDate  .\n",
    "    \n",
    "    # This returns the labels\n",
    "    ?actor <http://schema.org/name> ?actorName .\n",
    "    \n",
    "    # I want only films that were published after the end of \"How I met your mother\".\n",
    "    FILTER (?publicationDate > \"2014-03-31\"^^xsd:date )\n",
    "}\n",
    "GROUP BY ?actor ?actorName\n",
    "ORDER BY DESC(?numFilms)\n",
    "LIMIT 10\n",
    "\"\"\"\n",
    "\n",
    "print(\"Results\")\n",
    "run_query(queryString)"
   ]
  },
  {
   "cell_type": "markdown",
   "id": "59ab8b82-8452-4c12-89e5-80e0458d6c99",
   "metadata": {},
   "source": [
    "##### END TASK 3\n",
    "The actor who acted in more films while working on \"How I met your mother\" is ***Danny Glover (wd:Q192165)*** with 40 films.\n",
    "\n",
    "The actor who participated in more films after the end of the tv series is again ***Danny Glover (wd:Q192165)*** with 27 films."
   ]
  },
  {
   "cell_type": "markdown",
   "id": "daa486c1-2ca6-408a-aff8-f0fba459658e",
   "metadata": {
    "jp-MarkdownHeadingCollapsed": true,
    "tags": []
   },
   "source": [
    "### Task 4 : Compare HIMYM with the tv series \"The Office (US)\" in terms of number of seasons, episods and cast members.\n",
    "\n",
    "To compare the number of seasons and episodes I can rely on the same query used in Task 1."
   ]
  },
  {
   "cell_type": "code",
   "execution_count": 23,
   "id": "e0d366a5-f0ef-4382-a13d-130a31633aa9",
   "metadata": {},
   "outputs": [
    {
     "name": "stdout",
     "output_type": "stream",
     "text": [
      "Results\n",
      "[('numEpisodesHIMYM', '208'), ('numEpisodesTheOffice', '201'), ('numSeasonsHIMYM', '9'), ('numSeasonsTheOffice', '9')]\n"
     ]
    },
    {
     "data": {
      "text/plain": [
       "1"
      ]
     },
     "execution_count": 23,
     "metadata": {},
     "output_type": "execute_result"
    }
   ],
   "source": [
    "queryString = \"\"\"\n",
    "SELECT ?numEpisodesHIMYM ?numEpisodesTheOffice ?numSeasonsHIMYM ?numSeasonsTheOffice WHERE { \n",
    "\n",
    "    # Retrieve HIMYM numEpisodes and numSeasons\n",
    "    wd:Q147235  wdt:P1113 ?numEpisodesHIMYM ;\n",
    "                wdt:P2437 ?numSeasonsHIMYM  .\n",
    "    \n",
    "    # Retrieve The Office numEpisodes and numSeasons\n",
    "    wd:Q23831   wdt:P1113 ?numEpisodesTheOffice ;\n",
    "                wdt:P2437 ?numSeasonsTheOffice  . \n",
    "}\n",
    "\"\"\"\n",
    "\n",
    "print(\"Results\")\n",
    "run_query(queryString)"
   ]
  },
  {
   "cell_type": "markdown",
   "id": "6d663616-4732-4b2f-a475-4f99f3f44834",
   "metadata": {},
   "source": [
    "I can also retrieve who are the actors who partecipated in the highest number of episodes in ***The Office (US) (wd:Q23831)*** using the same query used in Task 2."
   ]
  },
  {
   "cell_type": "code",
   "execution_count": 24,
   "id": "7eb09834-b7d4-4ccf-9c0f-8b6c804c4941",
   "metadata": {},
   "outputs": [
    {
     "name": "stdout",
     "output_type": "stream",
     "text": [
      "Results\n",
      "[('actor', 'http://www.wikidata.org/entity/Q349548'), ('actorName', 'Rainn Wilson'), ('numEpisodes', '1')]\n",
      "[('actor', 'http://www.wikidata.org/entity/Q72077'), ('actorName', 'Ellie Kemper'), ('numEpisodes', '1')]\n",
      "[('actor', 'http://www.wikidata.org/entity/Q238877'), ('actorName', 'Jenna Fischer'), ('numEpisodes', '1')]\n",
      "[('actor', 'http://www.wikidata.org/entity/Q926912'), ('actorName', 'Craig Robinson'), ('numEpisodes', '1')]\n",
      "[('actor', 'http://www.wikidata.org/entity/Q328790'), ('actorName', 'Ed Helms'), ('numEpisodes', '1')]\n",
      "[('actor', 'http://www.wikidata.org/entity/Q254766'), ('actorName', 'Catherine Tate'), ('numEpisodes', '1')]\n",
      "[('actor', 'http://www.wikidata.org/entity/Q313039'), ('actorName', 'John Krasinski'), ('numEpisodes', '1')]\n"
     ]
    },
    {
     "data": {
      "text/plain": [
       "7"
      ]
     },
     "execution_count": 24,
     "metadata": {},
     "output_type": "execute_result"
    }
   ],
   "source": [
    "queryString = \"\"\"\n",
    "SELECT ?actor ?actorName COUNT(DISTINCT ?episode) AS ?numEpisodes WHERE { \n",
    "\n",
    "    # Retrieve The Office episodes \n",
    "    wd:Q23831 wdt:P527{2} ?episode .\n",
    "    \n",
    "    # Retrieve cast members\n",
    "    ?episode wdt:P161 ?actor .\n",
    "    \n",
    "    # This returns the labels\n",
    "    ?actor <http://schema.org/name> ?actorName .\n",
    "}\n",
    "GROUP BY ?actor ?actorName\n",
    "ORDER BY DESC(?numEpisodes)\n",
    "LIMIT 10\n",
    "\"\"\"\n",
    "\n",
    "print(\"Results\")\n",
    "run_query(queryString)"
   ]
  },
  {
   "cell_type": "markdown",
   "id": "75340c57-eb66-482e-a7ba-d3730288540e",
   "metadata": {},
   "source": [
    "The results are quite strange, because I have only one episode for each actor. \n",
    "\n",
    "I want to check if there is any problem with the first part of the query."
   ]
  },
  {
   "cell_type": "code",
   "execution_count": 25,
   "id": "464113ca-501c-40f8-9368-96b1342f5b85",
   "metadata": {},
   "outputs": [
    {
     "name": "stdout",
     "output_type": "stream",
     "text": [
      "Results\n",
      "[('episode', 'http://www.wikidata.org/entity/Q50379836'), ('episodeName', 'Classy Christmas (part 1)')]\n",
      "[('episode', 'http://www.wikidata.org/entity/Q50379837'), ('episodeName', 'Classy Christmas (part 2)')]\n",
      "[('episode', 'http://www.wikidata.org/entity/Q5099551'), ('episodeName', 'China')]\n",
      "[('episode', 'http://www.wikidata.org/entity/Q5178024'), ('episodeName', 'Couples Discount')]\n",
      "[('episode', 'http://www.wikidata.org/entity/Q6927074'), ('episodeName', 'Moving On')]\n",
      "[('episode', 'http://www.wikidata.org/entity/Q7880294'), ('episodeName', 'Ultimatum')]\n",
      "[('episode', 'http://www.wikidata.org/entity/Q7914333'), ('episodeName', 'Vandalism')]\n",
      "[('episode', 'http://www.wikidata.org/entity/Q4838397'), ('episodeName', 'Baby Shower')]\n",
      "[('episode', 'http://www.wikidata.org/entity/Q5001718'), ('episodeName', 'Business Ethics')]\n",
      "[('episode', 'http://www.wikidata.org/entity/Q5185169'), ('episodeName', 'Crime Aid')]\n"
     ]
    },
    {
     "data": {
      "text/plain": [
       "10"
      ]
     },
     "execution_count": 25,
     "metadata": {},
     "output_type": "execute_result"
    }
   ],
   "source": [
    "queryString = \"\"\"\n",
    "SELECT ?episode ?episodeName WHERE { \n",
    "\n",
    "    # Retrieve The Office episodes \n",
    "    wd:Q23831 wdt:P527{2} ?episode .\n",
    "    \n",
    "    # This returns the labels\n",
    "    ?episode <http://schema.org/name> ?episodeName .\n",
    "}\n",
    "LIMIT 10\n",
    "\"\"\"\n",
    "\n",
    "print(\"Results\")\n",
    "run_query(queryString)"
   ]
  },
  {
   "cell_type": "markdown",
   "id": "b219899a-1086-405e-9e2e-eea995a3b505",
   "metadata": {},
   "source": [
    "The episodes are retrieved correctly.\n",
    "\n",
    "Maybe there is a problem with the property ***cast member (wdt:P161)***. I show all the properties of a single episode: ***Ultimatum (wd:Q7880294)***"
   ]
  },
  {
   "cell_type": "code",
   "execution_count": 26,
   "id": "f92aa1f2-f80d-432f-9777-380a14ea66c0",
   "metadata": {},
   "outputs": [
    {
     "name": "stdout",
     "output_type": "stream",
     "text": [
      "Results\n",
      "[('p', 'http://www.wikidata.org/prop/direct/P495'), ('pName', 'country of origin'), ('o', 'http://www.wikidata.org/entity/Q30'), ('oName', 'United States of America')]\n",
      "[('p', 'http://www.wikidata.org/prop/direct/P57'), ('pName', 'director'), ('o', 'http://www.wikidata.org/entity/Q5239168'), ('oName', 'David Rogers')]\n",
      "[('p', 'http://www.wikidata.org/prop/direct/P750'), ('pName', 'distributed by'), ('o', 'http://www.wikidata.org/entity/Q5371838'), ('oName', 'Vudu')]\n",
      "[('p', 'http://www.wikidata.org/prop/direct/P437'), ('pName', 'distribution format'), ('o', 'http://www.wikidata.org/entity/Q723685'), ('oName', 'video on demand')]\n",
      "[('p', 'http://www.wikidata.org/prop/direct/P156'), ('pName', 'followed by'), ('o', 'http://www.wikidata.org/entity/Q7763280'), ('oName', 'The Seminar')]\n",
      "[('p', 'http://www.wikidata.org/prop/direct/P155'), ('pName', 'follows'), ('o', 'http://www.wikidata.org/entity/Q5128465'), ('oName', 'Classy Christmas')]\n",
      "[('p', 'http://www.wikidata.org/prop/direct/P31'), ('pName', 'instance of'), ('o', 'http://www.wikidata.org/entity/Q21191270'), ('oName', 'television series episode')]\n",
      "[('p', 'http://www.wikidata.org/prop/direct/P364'), ('pName', 'original language of film or TV show'), ('o', 'http://www.wikidata.org/entity/Q1860'), ('oName', 'English')]\n",
      "[('p', 'http://www.wikidata.org/prop/direct/P179'), ('pName', 'part of the series'), ('o', 'http://www.wikidata.org/entity/Q23831'), ('oName', 'The Office')]\n",
      "[('p', 'http://www.wikidata.org/prop/direct/P58'), ('pName', 'screenwriter'), ('o', 'http://www.wikidata.org/entity/Q5046253'), ('oName', 'Carrie Kemper')]\n",
      "[('p', 'http://www.wikidata.org/prop/direct/P4908'), ('pName', 'season'), ('o', 'http://www.wikidata.org/entity/Q3730263'), ('oName', 'The Office, season 7')]\n",
      "[('p', 'http://www.wikidata.org/prop/direct/P9215'), ('pName', 'set during recurring event'), ('o', 'http://www.wikidata.org/entity/Q34812'), ('oName', 'New Year')]\n"
     ]
    },
    {
     "data": {
      "text/plain": [
       "12"
      ]
     },
     "execution_count": 26,
     "metadata": {},
     "output_type": "execute_result"
    }
   ],
   "source": [
    "queryString = \"\"\"\n",
    "SELECT ?p ?pName ?o ?oName WHERE { \n",
    "\n",
    "    # Connecting Ultimatum to something\n",
    "    wd:Q7880294  ?p  ?o .\n",
    "    \n",
    "    # This returns the labels\n",
    "    ?p <http://schema.org/name> ?pName .\n",
    "    ?o <http://schema.org/name> ?oName .\n",
    "}\n",
    "ORDER BY ?pName\n",
    "\"\"\"\n",
    "\n",
    "print(\"Results\")\n",
    "run_query(queryString)"
   ]
  },
  {
   "cell_type": "markdown",
   "id": "d7ca88a0-31b7-4b2a-a98e-4e36e4ddcc01",
   "metadata": {},
   "source": [
    "Ok so the episodes of ***The Office (US) (wd:Q23831)*** do not have the property ***cast member (wdt:P161)*** as for HIMYM episodes.\n",
    "\n",
    "The only way to retrieve the actors of the TV series, is using ***cast member (wdt:P161)*** directly on the TV Series ( ***The Office (US) (wd:Q23831)*** )."
   ]
  },
  {
   "cell_type": "code",
   "execution_count": 27,
   "id": "129db81f-46ea-4d88-a2ae-9073fc4983a9",
   "metadata": {},
   "outputs": [
    {
     "name": "stdout",
     "output_type": "stream",
     "text": [
      "Results\n",
      "[('actor', 'http://www.wikidata.org/entity/Q1050211'), ('actorName', 'Leslie David Baker')]\n",
      "[('actor', 'http://www.wikidata.org/entity/Q1139248'), ('actorName', 'Oscar Nunez')]\n",
      "[('actor', 'http://www.wikidata.org/entity/Q216221'), ('actorName', 'Steve Carell')]\n",
      "[('actor', 'http://www.wikidata.org/entity/Q2238008'), ('actorName', 'Creed Bratton')]\n",
      "[('actor', 'http://www.wikidata.org/entity/Q231203'), ('actorName', 'Amy Ryan')]\n",
      "[('actor', 'http://www.wikidata.org/entity/Q238877'), ('actorName', 'Jenna Fischer')]\n",
      "[('actor', 'http://www.wikidata.org/entity/Q254766'), ('actorName', 'Catherine Tate')]\n",
      "[('actor', 'http://www.wikidata.org/entity/Q2669971'), ('actorName', 'Angela Kinsey')]\n",
      "[('actor', 'http://www.wikidata.org/entity/Q2671438'), ('actorName', 'Paul Lieberstein')]\n",
      "[('actor', 'http://www.wikidata.org/entity/Q269901'), ('actorName', 'Melora Hardin')]\n",
      "[('actor', 'http://www.wikidata.org/entity/Q2924850'), ('actorName', 'Brian Baumgartner')]\n",
      "[('actor', 'http://www.wikidata.org/entity/Q296928'), ('actorName', 'James Spader')]\n",
      "[('actor', 'http://www.wikidata.org/entity/Q3028200'), ('actorName', 'Kate Flannery')]\n",
      "[('actor', 'http://www.wikidata.org/entity/Q313039'), ('actorName', 'John Krasinski')]\n",
      "[('actor', 'http://www.wikidata.org/entity/Q328790'), ('actorName', 'Ed Helms')]\n",
      "[('actor', 'http://www.wikidata.org/entity/Q349548'), ('actorName', 'Rainn Wilson')]\n",
      "[('actor', 'http://www.wikidata.org/entity/Q459925'), ('actorName', 'B. J. Novak')]\n",
      "[('actor', 'http://www.wikidata.org/entity/Q508280'), ('actorName', 'Phyllis Smith')]\n",
      "[('actor', 'http://www.wikidata.org/entity/Q512818'), ('actorName', 'Clark Duke')]\n",
      "[('actor', 'http://www.wikidata.org/entity/Q539917'), ('actorName', 'Mindy Kaling')]\n",
      "[('actor', 'http://www.wikidata.org/entity/Q6124807'), ('actorName', 'Jake Lacy')]\n",
      "[('actor', 'http://www.wikidata.org/entity/Q64560'), ('actorName', 'David Denman')]\n",
      "[('actor', 'http://www.wikidata.org/entity/Q72077'), ('actorName', 'Ellie Kemper')]\n",
      "[('actor', 'http://www.wikidata.org/entity/Q8063863'), ('actorName', 'Zach Woods')]\n",
      "[('actor', 'http://www.wikidata.org/entity/Q926912'), ('actorName', 'Craig Robinson')]\n"
     ]
    },
    {
     "data": {
      "text/plain": [
       "25"
      ]
     },
     "execution_count": 27,
     "metadata": {},
     "output_type": "execute_result"
    }
   ],
   "source": [
    "queryString = \"\"\"\n",
    "SELECT DISTINCT ?actor ?actorName WHERE { \n",
    "\n",
    "    # Retrieve The Office episodes \n",
    "    wd:Q23831 wdt:P161 ?actor .\n",
    "    \n",
    "    # This returns the labels\n",
    "    ?actor <http://schema.org/name> ?actorName .\n",
    "}\n",
    "\"\"\"\n",
    "\n",
    "print(\"Results\")\n",
    "run_query(queryString)"
   ]
  },
  {
   "cell_type": "markdown",
   "id": "e0db6723-8e89-48eb-81f9-cfab34239cc0",
   "metadata": {},
   "source": [
    "I want to check which TV series has the largest cast between ***The Office (US) (wd:Q23831)*** and ***\"How I met your mother\" (wd:Q147235)***."
   ]
  },
  {
   "cell_type": "code",
   "execution_count": 28,
   "id": "e02f2b8a-bb2a-4607-9253-885e5baf9213",
   "metadata": {},
   "outputs": [
    {
     "name": "stdout",
     "output_type": "stream",
     "text": [
      "Results\n",
      "[('numActorHIMYM', '480'), ('numActorTheOffice', '25')]\n"
     ]
    },
    {
     "data": {
      "text/plain": [
       "1"
      ]
     },
     "execution_count": 28,
     "metadata": {},
     "output_type": "execute_result"
    }
   ],
   "source": [
    "queryString = \"\"\"\n",
    "SELECT (COUNT(DISTINCT ?actorHIMYM) AS ?numActorHIMYM) (COUNT(DISTINCT ?actorTheOffice) AS ?numActorTheOffice) WHERE { \n",
    "\n",
    "    # Retrieve HIMYM actors\n",
    "    wd:Q147235  wdt:P161 ?actorHIMYM .\n",
    "    \n",
    "    # Retrieve The Office actors\n",
    "    wd:Q23831   wdt:P161 ?actorTheOffice . \n",
    "}\n",
    "\"\"\"\n",
    "\n",
    "print(\"Results\")\n",
    "run_query(queryString)"
   ]
  },
  {
   "cell_type": "markdown",
   "id": "b63222f7-5d18-43f5-b17f-debc9d16d0f3",
   "metadata": {},
   "source": [
    "I can also check if there are actors who partecipated both in ***The Office (US) (wd:Q23831)*** and ***\"How I met your mother\" (wd:Q147235)***."
   ]
  },
  {
   "cell_type": "code",
   "execution_count": 29,
   "id": "b0cef2fa-a5d2-4fe4-9052-4119a978884b",
   "metadata": {},
   "outputs": [
    {
     "name": "stdout",
     "output_type": "stream",
     "text": [
      "Results\n",
      "Empty\n"
     ]
    },
    {
     "data": {
      "text/plain": [
       "0"
      ]
     },
     "execution_count": 29,
     "metadata": {},
     "output_type": "execute_result"
    }
   ],
   "source": [
    "queryString = \"\"\"\n",
    "SELECT ?actor WHERE { \n",
    "\n",
    "    # Retrieve HIMYM actors\n",
    "    wd:Q147235  wdt:P161 ?actor .\n",
    "    \n",
    "    # Retrieve The Office actors\n",
    "    wd:Q23831   wdt:P161 ?actor .\n",
    "    \n",
    "    # This returns the labels\n",
    "    ?actor <http://schema.org/name> ?actorName .\n",
    "}\n",
    "\"\"\"\n",
    "\n",
    "print(\"Results\")\n",
    "run_query(queryString)"
   ]
  },
  {
   "cell_type": "markdown",
   "id": "0f3d119c-08bc-48e7-b92b-0b34d2daf258",
   "metadata": {},
   "source": [
    "The are no common actors between the two TV series."
   ]
  },
  {
   "cell_type": "markdown",
   "id": "befdd43b-1c22-4191-9176-e910158535d9",
   "metadata": {},
   "source": [
    "##### END TASK 4:\n",
    "Both ***\"How I met your mother\" (wd:Q147235)*** and ***The Office (US) (wd:Q23831)*** have nine season but HIMYM has 208 episodes while \"The Office\" has 201 episodes.\n",
    "\n",
    "In ***\"How I met your mother\" (wd:Q147235)*** there are 480 actors, while in ***The Office (US) (wd:Q23831)*** only 25. \n",
    "\n",
    "Moreover, it is not possibile to determine who are the most present actors in ***The Office (US) (wd:Q23831)***, since the episodes of this TV series do not have the property ***cast member (wdt:P161)***.\n",
    "\n",
    "Finally, I discovered that there are no common actors between ***\"How I met your mother\" (wd:Q147235)*** and ***The Office (US) (wd:Q23831)***."
   ]
  },
  {
   "cell_type": "markdown",
   "id": "2fc4a49c-02dd-4d88-8162-3fa0b16bce66",
   "metadata": {
    "jp-MarkdownHeadingCollapsed": true,
    "tags": []
   },
   "source": [
    "### Task 5 : Return how many of the actors who are members of the cast of the tv series have [Kavin Bacon number](https://en.wikipedia.org/wiki/Six_Degrees_of_Kevin_Bacon#:~:text=Kevin%20Bacon%20himself%20has%20a,Bacon%20number%20is%20N%2B1.) equal to 2\n",
    "\n",
    "The Bacon number of an actor is the number of degrees of separation he or she has from Kevin Bacon. So, first af all, I need to retrieve Kevin Bacon.\n",
    "\n",
    "To do this, I can use a ***REGEX*** on the surname connect through the property ***family name (wdt:P734)*** discovered in a previous query."
   ]
  },
  {
   "cell_type": "code",
   "execution_count": 30,
   "id": "e9630f4f-6f37-42f5-9f2b-80d36cd52357",
   "metadata": {},
   "outputs": [
    {
     "name": "stdout",
     "output_type": "stream",
     "text": [
      "Results\n",
      "[('person', 'http://www.wikidata.org/entity/Q3102228'), ('personName', 'Georges Baconnet'), ('personSurname', 'Baconnet')]\n",
      "[('person', 'http://www.wikidata.org/entity/Q3116093'), ('personName', 'Irving Bacon'), ('personSurname', 'Bacon')]\n",
      "[('person', 'http://www.wikidata.org/entity/Q503597'), ('personName', 'James Bacon'), ('personSurname', 'Bacon')]\n",
      "[('person', 'http://www.wikidata.org/entity/Q3454165'), ('personName', 'Kevin Bacon'), ('personSurname', 'Bacon')]\n",
      "[('person', 'http://www.wikidata.org/entity/Q3491343'), ('personName', 'Sosie Bacon'), ('personSurname', 'Bacon')]\n",
      "[('person', 'http://www.wikidata.org/entity/Q3992438'), ('personName', 'Tom Bacon'), ('personSurname', 'Bacon')]\n",
      "[('person', 'http://www.wikidata.org/entity/Q706678'), ('personName', 'Lloyd Bacon'), ('personSurname', 'Bacon')]\n",
      "[('person', 'http://www.wikidata.org/entity/Q65116263'), ('personName', 'Marco Bacon'), ('personSurname', 'Bacon')]\n",
      "[('person', 'http://www.wikidata.org/entity/Q5216474'), ('personName', 'Daniel Bacon'), ('personSurname', 'Bacon')]\n",
      "[('person', 'http://www.wikidata.org/entity/Q16031668'), ('personName', 'Frank Bacon'), ('personSurname', 'Bacon')]\n",
      "[('person', 'http://www.wikidata.org/entity/Q21483293'), ('personName', 'Georges Baconnier'), ('personSurname', 'Baconnier')]\n",
      "[('person', 'http://www.wikidata.org/entity/Q608866'), ('personName', 'Nicholas Bacon'), ('personSurname', 'Bacon')]\n",
      "[('person', 'http://www.wikidata.org/entity/Q154340'), ('personName', 'Francis Bacon'), ('personSurname', 'Bacon')]\n",
      "[('person', 'http://www.wikidata.org/entity/Q5231033'), ('personName', 'David Bacon'), ('personSurname', 'Bacon')]\n",
      "[('person', 'http://www.wikidata.org/entity/Q3186649'), ('personName', 'Joséphine Bacon'), ('personSurname', 'Bacon')]\n"
     ]
    },
    {
     "data": {
      "text/plain": [
       "15"
      ]
     },
     "execution_count": 30,
     "metadata": {},
     "output_type": "execute_result"
    }
   ],
   "source": [
    "queryString = \"\"\"\n",
    "SELECT DISTINCT ?person ?personName ?personSurname WHERE { \n",
    "\n",
    "    # Retrieve surname of a person using the property family name\n",
    "    ?person wdt:P734 ?surname .\n",
    "    \n",
    "    # This returns the labels\n",
    "    ?person <http://schema.org/name> ?personName .\n",
    "    ?surname <http://schema.org/name> ?personSurname .\n",
    "\n",
    "    # Since Kevin Bacon is an actor, he probably acted in a film.\n",
    "    FILTER EXISTS{\n",
    "        ?film   wdt:P31   wd:Q11424 ;\n",
    "                wdt:P161  ?person   .             \n",
    "    }\n",
    "    \n",
    "    # I use a regex to search for a surname that contains the word \"Bacon\"\n",
    "    FILTER(REGEX(?personSurname, \"Bacon\"))\n",
    "    \n",
    "}\n",
    "LIMIT 10\n",
    "\"\"\"\n",
    "\n",
    "print(\"Results\")\n",
    "run_query(queryString)"
   ]
  },
  {
   "cell_type": "markdown",
   "id": "4fed5784-c348-4d49-ab9b-1d13e9331364",
   "metadata": {},
   "source": [
    "I have ***Kevin Bacon (wd:Q3454165)***. Now I can retrieve all the cast members of ***\"How I met your mother\" (wd:Q147235)*** with Kevin Bacon number equal to 2.\n",
    "\n",
    "First, I start with cast members that have a Kevin Bacon Number equal to 1."
   ]
  },
  {
   "cell_type": "code",
   "execution_count": 31,
   "id": "5b03fbec-9a73-488d-a36c-baa4f2c62cb5",
   "metadata": {},
   "outputs": [
    {
     "name": "stdout",
     "output_type": "stream",
     "text": [
      "Results\n",
      "[('actor', 'http://www.wikidata.org/entity/Q269891'), ('actorName', 'Julianna Guill'), ('film', 'http://www.wikidata.org/entity/Q519490'), ('filmName', 'Crazy, Stupid, Love.')]\n",
      "[('actor', 'http://www.wikidata.org/entity/Q312705'), ('actorName', 'John Cho'), ('film', 'http://www.wikidata.org/entity/Q370893'), ('filmName', 'The Air I Breathe')]\n",
      "[('actor', 'http://www.wikidata.org/entity/Q234715'), ('actorName', 'Jamie-Lynn Sigler'), ('film', 'http://www.wikidata.org/entity/Q16167570'), ('filmName', 'Skum Rocks!')]\n",
      "[('actor', 'http://www.wikidata.org/entity/Q311271'), ('actorName', 'John Lithgow'), ('film', 'http://www.wikidata.org/entity/Q627533'), ('filmName', 'Footloose')]\n",
      "[('actor', 'http://www.wikidata.org/entity/Q234137'), ('actorName', 'Megan Mullally'), ('film', 'http://www.wikidata.org/entity/Q1476932'), ('filmName', 'Queens Logic')]\n",
      "[('actor', 'http://www.wikidata.org/entity/Q530646'), ('actorName', 'Ray Wise'), ('film', 'http://www.wikidata.org/entity/Q223596'), ('filmName', 'X-Men: First Class')]\n",
      "[('actor', 'http://www.wikidata.org/entity/Q199929'), ('actorName', 'Jennifer Morrison'), ('film', 'http://www.wikidata.org/entity/Q975358'), ('filmName', 'Stir of Echoes')]\n",
      "[('actor', 'http://www.wikidata.org/entity/Q199929'), ('actorName', 'Jennifer Morrison'), ('film', 'http://www.wikidata.org/entity/Q17508638'), ('filmName', 'The Darkness')]\n",
      "[('actor', 'http://www.wikidata.org/entity/Q433355'), ('actorName', 'Patricia Belcher'), ('film', 'http://www.wikidata.org/entity/Q514348'), ('filmName', 'Flatliners')]\n",
      "[('actor', 'http://www.wikidata.org/entity/Q234514'), ('actorName', 'Camryn Manheim'), ('film', 'http://www.wikidata.org/entity/Q19824612'), ('filmName', 'Cop Car')]\n",
      "[('actor', 'http://www.wikidata.org/entity/Q362616'), ('actorName', 'Jon Bernthal'), ('film', 'http://www.wikidata.org/entity/Q370893'), ('filmName', 'The Air I Breathe')]\n",
      "[('actor', 'http://www.wikidata.org/entity/Q329744'), ('actorName', 'Martin Short'), ('film', 'http://www.wikidata.org/entity/Q339045'), ('filmName', 'The Big Picture')]\n",
      "[('actor', 'http://www.wikidata.org/entity/Q5357354'), ('actorName', 'Todd Stashwick'), ('film', 'http://www.wikidata.org/entity/Q370893'), ('filmName', 'The Air I Breathe')]\n",
      "[('actor', 'http://www.wikidata.org/entity/Q782662'), ('actorName', 'Michael Gross'), ('film', 'http://www.wikidata.org/entity/Q835650'), ('filmName', 'Tremors')]\n",
      "[('actor', 'http://www.wikidata.org/entity/Q268549'), ('actorName', 'Sherri Shepherd'), ('film', 'http://www.wikidata.org/entity/Q813464'), ('filmName', 'Beauty Shop')]\n",
      "[('actor', 'http://www.wikidata.org/entity/Q1120700'), ('actorName', 'Orson Bean'), ('film', 'http://www.wikidata.org/entity/Q3005459'), ('filmName', 'Forty Deuce')]\n",
      "[('actor', 'http://www.wikidata.org/entity/Q1976946'), ('actorName', 'Rachel Specter'), ('film', 'http://www.wikidata.org/entity/Q990987'), ('filmName', 'My One and Only')]\n"
     ]
    },
    {
     "data": {
      "text/plain": [
       "17"
      ]
     },
     "execution_count": 31,
     "metadata": {},
     "output_type": "execute_result"
    }
   ],
   "source": [
    "queryString = \"\"\"\n",
    "SELECT ?actor ?actorName ?film ?filmName WHERE { \n",
    "\n",
    "    # Retrieve HIMYM actors\n",
    "    wd:Q147235 wdt:P161 ?actor .\n",
    "    \n",
    "    # Ensure that the actor and Kevin Bacon worked together\n",
    "    ?film wdt:P161 ?actor      ;\n",
    "          wdt:P161 wd:Q3454165 .\n",
    "    \n",
    "    # This returns the labels\n",
    "    ?actor <http://schema.org/name> ?actorName .\n",
    "    ?film <http://schema.org/name> ?filmName .\n",
    "}\n",
    "\"\"\"\n",
    "\n",
    "print(\"Results\")\n",
    "run_query(queryString)"
   ]
  },
  {
   "cell_type": "markdown",
   "id": "aa3416af-09a5-43fd-96bf-a9513a455248",
   "metadata": {},
   "source": [
    "Now I want only cast members of ***\"How I met your mother\" (wd:Q147235)*** that have a Kevin Bacon Number equal to 2."
   ]
  },
  {
   "cell_type": "code",
   "execution_count": 32,
   "id": "b9a6937e-2ae8-4584-ab68-161c58d3132e",
   "metadata": {},
   "outputs": [
    {
     "name": "stdout",
     "output_type": "stream",
     "text": [
      "Results\n",
      "[('actorName', 'Mircea Monroe')]\n",
      "[('actorName', 'Virginia Williams')]\n",
      "[('actorName', 'Kate Micucci')]\n",
      "[('actorName', 'Alex Trebek')]\n",
      "[('actorName', 'Eva Amurri')]\n",
      "[('actorName', 'Elizabeth Bogush')]\n",
      "[('actorName', 'Peter Gallagher')]\n",
      "[('actorName', 'Jayma Mays')]\n",
      "[('actorName', 'George Cheung')]\n",
      "[('actorName', 'John Getz')]\n",
      "[('actorName', 'Darcy Rose Byrnes')]\n",
      "[('actorName', 'Will Sasso')]\n",
      "[('actorName', 'Scoot McNairy')]\n",
      "[('actorName', 'Alyssa Shafer')]\n",
      "[('actorName', 'Laura Prepon')]\n",
      "[('actorName', 'Kal Penn')]\n",
      "[('actorName', 'Jason Lewis')]\n",
      "[('actorName', 'Charlene Amoia')]\n",
      "[('actorName', 'Judy Greer')]\n",
      "[('actorName', 'America Olivo')]\n",
      "[('actorName', 'Michael York')]\n",
      "[('actorName', 'Valerie Azlynn')]\n",
      "[('actorName', 'Joe Manganiello')]\n",
      "[('actorName', 'Chi McBride')]\n",
      "[('actorName', 'Ed Brigadier')]\n",
      "[('actorName', 'Anna Camp')]\n",
      "[('actorName', 'Anne Dudek')]\n",
      "[('actorName', 'Seth Green')]\n",
      "[('actorName', 'Lyndsy Fonseca')]\n",
      "[('actorName', 'Nate Torrence')]\n"
     ]
    },
    {
     "data": {
      "text/plain": [
       "30"
      ]
     },
     "execution_count": 32,
     "metadata": {},
     "output_type": "execute_result"
    }
   ],
   "source": [
    "queryString = \"\"\"\n",
    "SELECT DISTINCT ?actorName WHERE { \n",
    "\n",
    "    # Retrieve HIMYM actors\n",
    "    wd:Q147235 wdt:P161 ?actor .\n",
    "    \n",
    "    # Ensure that the actor and worked together with another actor \"in the middle\"\n",
    "    ?filmMiddle wdt:P161 ?actor       ;\n",
    "                wdt:P161 ?actorMiddle .\n",
    "    \n",
    "    # Ensure that the actor \"in the middle\" worked with Kevin Bacon\n",
    "    ?film       wdt:P161 ?actorMiddle  ;\n",
    "                wdt:P161 wd:Q3454165 .\n",
    "    \n",
    "    # Ensure that the \"first\" actor and Kevin Bacon did not worked together\n",
    "    FILTER NOT EXISTS{\n",
    "        ?film3 wdt:P161 ?actor      ;\n",
    "               wdt:P161 wd:Q3454165 .\n",
    "    }\n",
    "    \n",
    "    # This returns the labels\n",
    "    ?actor <http://schema.org/name> ?actorName .\n",
    "}\n",
    "LIMIT 30\n",
    "\"\"\"\n",
    "\n",
    "print(\"Results\")\n",
    "run_query(queryString)"
   ]
  },
  {
   "cell_type": "code",
   "execution_count": 33,
   "id": "c4c83dd5-51f8-4bbd-9dc7-7b490825462b",
   "metadata": {},
   "outputs": [
    {
     "name": "stdout",
     "output_type": "stream",
     "text": [
      "Results\n",
      "[('callret-0', '464')]\n"
     ]
    },
    {
     "data": {
      "text/plain": [
       "1"
      ]
     },
     "execution_count": 33,
     "metadata": {},
     "output_type": "execute_result"
    }
   ],
   "source": [
    "queryString = \"\"\"\n",
    "SELECT COUNT(DISTINCT ?actor) WHERE { \n",
    "\n",
    "    # Retrieve HIMYM actors\n",
    "    wd:Q147235 wdt:P161 ?actor .\n",
    "    \n",
    "    # Ensure that the actor and worked together with another actor \"in the middle\"\n",
    "    ?filmMiddle wdt:P161 ?actor       ;\n",
    "                wdt:P161 ?actorMiddle .\n",
    "    \n",
    "    # Ensure that the actor \"in the middle\" worked with Kevin Bacon\n",
    "    ?film       wdt:P161 ?actorMiddle  ;\n",
    "                wdt:P161 wd:Q3454165 .\n",
    "    \n",
    "    # Ensure that the \"first\" actor and Kevin Bacon did not worked together\n",
    "    FILTER NOT EXISTS{\n",
    "        ?film3 wdt:P161 ?actor      ;\n",
    "               wdt:P161 wd:Q3454165 .\n",
    "    }\n",
    "    \n",
    "    # This returns the labels\n",
    "    ?actor <http://schema.org/name> ?actorName .\n",
    "}\n",
    "\"\"\"\n",
    "\n",
    "print(\"Results\")\n",
    "run_query(queryString)\n"
   ]
  },
  {
   "cell_type": "markdown",
   "id": "090d1220-b7d9-4008-b635-77e32e69384b",
   "metadata": {},
   "source": [
    "There are 464 actors who partecipated to ***\"How I met your mother\" (wd:Q147235)*** with Kevin Bacon Number equals to 2.\n",
    "\n",
    "I can also show how a cast member of ***\"How I met your mother\" (wd:Q147235)***  with Kevin Bacon Number equal to 2 is connected to ***Kevin Bacon (wd:Q3454165)***."
   ]
  },
  {
   "cell_type": "code",
   "execution_count": 34,
   "id": "a05868de-ea3d-4b1e-91b3-ae7c5b16ee73",
   "metadata": {},
   "outputs": [
    {
     "name": "stdout",
     "output_type": "stream",
     "text": [
      "Results\n",
      "[('actorName', 'John Getz'), ('filmMiddleName', 'Halt and Catch Fire'), ('actorMiddleName', \"Mark O'Brien\"), ('filmName', 'City on a Hill')]\n"
     ]
    },
    {
     "data": {
      "text/plain": [
       "1"
      ]
     },
     "execution_count": 34,
     "metadata": {},
     "output_type": "execute_result"
    }
   ],
   "source": [
    "queryString = \"\"\"\n",
    "SELECT DISTINCT ?actorName ?filmMiddleName ?actorMiddleName ?filmName WHERE { \n",
    "\n",
    "    # Retrieve HIMYM actors\n",
    "    wd:Q147235 wdt:P161 ?actor .\n",
    "    \n",
    "    # Ensure that the actor and worked together with another actor \"in the middle\"\n",
    "    ?filmMiddle wdt:P161 ?actor       ;\n",
    "                wdt:P161 ?actorMiddle .\n",
    "    \n",
    "    # Ensure that the actor \"in the middle\" worked with Kevin Bacon\n",
    "    ?film       wdt:P161 ?actorMiddle  ;\n",
    "                wdt:P161 wd:Q3454165 .\n",
    "    \n",
    "    # Ensure that the \"first\" actor and Kevin Bacon did not worked together\n",
    "    FILTER NOT EXISTS{\n",
    "        ?film3 wdt:P161 ?actor      ;\n",
    "               wdt:P161 wd:Q3454165 .\n",
    "    }\n",
    "    \n",
    "    # This returns the labels\n",
    "    ?actor <http://schema.org/name> ?actorName .\n",
    "    ?film <http://schema.org/name> ?filmName .\n",
    "    ?actorMiddle <http://schema.org/name> ?actorMiddleName .\n",
    "    ?filmMiddle <http://schema.org/name> ?filmMiddleName .\n",
    "}\n",
    "LIMIT 1\n",
    "\"\"\"\n",
    "\n",
    "print(\"Results\")\n",
    "run_query(queryString)"
   ]
  },
  {
   "cell_type": "markdown",
   "id": "8df94a5d-1612-4706-937b-e445aab190f8",
   "metadata": {},
   "source": [
    "For example, in this case\n",
    "* ***John Getz*** acted in HIMYM\n",
    "* ***John Getz*** worked with ***Mark O'Brien*** in ***Halt and Catch Fire***\n",
    "* ***Mark O'Brien*** worked with ***Kevin Bacon*** in ***City on a Hill***\n",
    "\n",
    "So ***John Getz*** has a Kevin Bacon Number equal to 2."
   ]
  },
  {
   "cell_type": "markdown",
   "id": "41e9d9b3-bb68-4b86-8776-eec70971dcf9",
   "metadata": {},
   "source": [
    "##### END TASK 5:\n",
    "I discovered that there are 464 out of 480 cast members of ***\"How I met your mother\" (wd:Q147235)*** with Kevin Bacon Number equals to 2."
   ]
  },
  {
   "cell_type": "markdown",
   "id": "b137b90a-a0a5-45b9-9693-c0804e2432a7",
   "metadata": {},
   "source": [
    "### Extra analytics query\n",
    "\n",
    "#### Which are the episodes of ***\"How I met your mother\" (wd:Q147235)*** with the highest number of cast members ?\n"
   ]
  },
  {
   "cell_type": "code",
   "execution_count": 35,
   "id": "1d998dd9-e769-4a36-9b47-2738baa35d66",
   "metadata": {},
   "outputs": [
    {
     "name": "stdout",
     "output_type": "stream",
     "text": [
      "Results\n",
      "[('episode', 'http://www.wikidata.org/entity/Q6494765'), ('episodeName', 'Last Words'), ('numActors', '14')]\n",
      "[('episode', 'http://www.wikidata.org/entity/Q7776702'), ('episodeName', 'The Yips'), ('numActors', '14')]\n",
      "[('episode', 'http://www.wikidata.org/entity/Q16745474'), ('episodeName', 'Noretta'), ('numActors', '14')]\n",
      "[('episode', 'http://www.wikidata.org/entity/Q5453909'), ('episodeName', 'First Time in New York'), ('numActors', '13')]\n",
      "[('episode', 'http://www.wikidata.org/entity/Q5888848'), ('episodeName', 'Home Wreckers'), ('numActors', '13')]\n",
      "[('episode', 'http://www.wikidata.org/entity/Q5917914'), ('episodeName', 'How Lily Stole Christmas'), ('numActors', '12')]\n",
      "[('episode', 'http://www.wikidata.org/entity/Q7416049'), ('episodeName', 'Sandcastles in the Sand'), ('numActors', '12')]\n",
      "[('episode', 'http://www.wikidata.org/entity/Q7733793'), ('episodeName', 'The Fight'), ('numActors', '12')]\n",
      "[('episode', 'http://www.wikidata.org/entity/Q7753043'), ('episodeName', 'The Naked Truth'), ('numActors', '12')]\n",
      "[('episode', 'http://www.wikidata.org/entity/Q6857975'), ('episodeName', 'Milk'), ('numActors', '12')]\n"
     ]
    },
    {
     "data": {
      "text/plain": [
       "10"
      ]
     },
     "execution_count": 35,
     "metadata": {},
     "output_type": "execute_result"
    }
   ],
   "source": [
    "queryString = \"\"\"\n",
    "SELECT ?episode ?episodeName COUNT(DISTINCT ?actor) AS ?numActors WHERE { \n",
    "\n",
    "    # Retrieve HIMYM episodes \n",
    "    wd:Q147235 wdt:P527{2} ?episode .\n",
    "    \n",
    "    # Retrieve cast members\n",
    "    ?episode wdt:P161 ?actor .\n",
    "    \n",
    "    # This returns the labels\n",
    "    ?episode <http://schema.org/name> ?episodeName .\n",
    "}\n",
    "GROUP BY ?episode ?episodeName\n",
    "ORDER BY DESC(?numActors)\n",
    "LIMIT 10\n",
    "\"\"\"\n",
    "\n",
    "print(\"Results\")\n",
    "run_query(queryString)"
   ]
  },
  {
   "cell_type": "markdown",
   "id": "fd57e4d3-d8d5-411c-8285-294f6dad3052",
   "metadata": {},
   "source": [
    "#### On average, how many actors partecipate in a single episode of ***\"How I met your mother\" (wd:Q147235)*** ?"
   ]
  },
  {
   "cell_type": "code",
   "execution_count": 36,
   "id": "c51c2179-0c11-4777-a9d6-11c5e11460c9",
   "metadata": {},
   "outputs": [
    {
     "name": "stdout",
     "output_type": "stream",
     "text": [
      "Results\n",
      "[('avgNumActors', '9.116438356164384')]\n"
     ]
    },
    {
     "data": {
      "text/plain": [
       "1"
      ]
     },
     "execution_count": 36,
     "metadata": {},
     "output_type": "execute_result"
    }
   ],
   "source": [
    "queryString = \"\"\"\n",
    "SELECT AVG(?numActors) AS ?avgNumActors WHERE {\n",
    "\n",
    "    {   # Count how many actors there are in each episode\n",
    "        SELECT ?episode ?episodeName COUNT(DISTINCT ?actor) AS ?numActors WHERE { \n",
    "\n",
    "            # Retrieve HIMYM episodes \n",
    "            wd:Q147235 wdt:P527{2} ?episode .\n",
    "\n",
    "            # Retrieve cast members\n",
    "            ?episode wdt:P161 ?actor .\n",
    "\n",
    "            # This returns the labels\n",
    "            ?episode <http://schema.org/name> ?episodeName .\n",
    "        }\n",
    "         GROUP BY ?episode ?episodeName\n",
    "    }\n",
    "}  \n",
    "\n",
    "\"\"\"\n",
    "\n",
    "print(\"Results\")\n",
    "run_query(queryString)"
   ]
  },
  {
   "cell_type": "markdown",
   "id": "3fd99fbf-45d5-45a0-81e9-e859f5a97f9d",
   "metadata": {},
   "source": [
    "#### How many awards ***\"How I met your mother\"*** won ?\n",
    "\n",
    "From one of the first queries I obtained the properties: ***nominated for (wdt:P1411)*** and ***award received (wdt:P166)***.\n",
    "\n",
    "I can retrieve the number of nominations and awards received by ***\"How I met your mother\" (wd:Q147235)***."
   ]
  },
  {
   "cell_type": "code",
   "execution_count": 37,
   "id": "2bdedae1-e565-47cf-a1ff-c1d731bf6910",
   "metadata": {},
   "outputs": [
    {
     "name": "stdout",
     "output_type": "stream",
     "text": [
      "Results\n",
      "[('numNominations', '10'), ('numAwards', '7')]\n"
     ]
    },
    {
     "data": {
      "text/plain": [
       "1"
      ]
     },
     "execution_count": 37,
     "metadata": {},
     "output_type": "execute_result"
    }
   ],
   "source": [
    "queryString = \"\"\"\n",
    "SELECT COUNT(DISTINCT ?nomination) AS ?numNominations COUNT(DISTINCT ?award) AS ?numAwards WHERE { \n",
    "\n",
    "    # Retrieve HIMYM episodes \n",
    "    wd:Q147235  wdt:P1411 ?nomination ;\n",
    "                wdt:P166  ?award      .\n",
    "}\n",
    "\n",
    "\"\"\"\n",
    "\n",
    "print(\"Results\")\n",
    "run_query(queryString)"
   ]
  },
  {
   "cell_type": "markdown",
   "id": "516dcc9a-5733-473b-81cb-e843193defde",
   "metadata": {},
   "source": [
    "#### Show the ***\"How I met your mother\"*** actors that are both in the first and last episodes of the TV series. Show also the percentage rate of numbers of episodes in which they are present."
   ]
  },
  {
   "cell_type": "markdown",
   "id": "f37f1c7f-6b73-4e2f-81eb-d0fc22ef96d0",
   "metadata": {},
   "source": [
    "I can use two properties retrieved in a previous query : ***followed by (wdt:P156)*** and ***follows (wdt:P155)*** to determine if an episode is the last one or the first one."
   ]
  },
  {
   "cell_type": "code",
   "execution_count": 38,
   "id": "f59cdc13-e777-4f0e-a521-b0205d353a7f",
   "metadata": {},
   "outputs": [
    {
     "name": "stdout",
     "output_type": "stream",
     "text": [
      "Results\n",
      "[('actor', 'http://www.wikidata.org/entity/Q200566'), ('actorName', 'Cobie Smulders'), ('partecipationRate', '69.711538461538462')]\n",
      "[('actor', 'http://www.wikidata.org/entity/Q223455'), ('actorName', 'Josh Radnor'), ('partecipationRate', '69.711538461538462')]\n",
      "[('actor', 'http://www.wikidata.org/entity/Q485310'), ('actorName', 'Neil Patrick Harris'), ('partecipationRate', '69.711538461538462')]\n",
      "[('actor', 'http://www.wikidata.org/entity/Q202304'), ('actorName', 'Jason Segel'), ('partecipationRate', '69.711538461538462')]\n",
      "[('actor', 'http://www.wikidata.org/entity/Q199927'), ('actorName', 'Alyson Hannigan'), ('partecipationRate', '68.75')]\n",
      "[('actor', 'http://www.wikidata.org/entity/Q297128'), ('actorName', 'David Henrie'), ('partecipationRate', '23.076923076923077')]\n",
      "[('actor', 'http://www.wikidata.org/entity/Q229914'), ('actorName', 'Lyndsy Fonseca'), ('partecipationRate', '23.076923076923077')]\n"
     ]
    },
    {
     "data": {
      "text/plain": [
       "7"
      ]
     },
     "execution_count": 38,
     "metadata": {},
     "output_type": "execute_result"
    }
   ],
   "source": [
    "queryString = \"\"\"\n",
    "SELECT DISTINCT ?actor ?actorName ((?numEpisodesByActor * 100 / ?numEpisodes) AS ?partecipationRate) WHERE { \n",
    "\n",
    "    # Retrieve total number of episodes of HIMYM\n",
    "    wd:Q147235  wdt:P1113 ?numEpisodes .\n",
    "    \n",
    "    # Retrieve episodes of HIMYM first season\n",
    "    wd:Q2715578 wdt:P527 ?firstEpisode .\n",
    "    \n",
    "    # Retrieve episodes of HIMYM last season\n",
    "    wd:Q13567027 wdt:P527 ?lastEpisode .\n",
    "    \n",
    "    # Retrieve cast members\n",
    "    ?firstEpisode wdt:P161 ?actor .\n",
    "    ?lastEpisode wdt:P161 ?actor .\n",
    "    \n",
    "    # This returns the labels\n",
    "    ?actor <http://schema.org/name> ?actorName .\n",
    "    \n",
    "    # Retrieve last episode\n",
    "    FILTER NOT EXISTS{ ?lastEpisode  wdt:P156 ?y .}\n",
    "    \n",
    "    #Retrieve first episode\n",
    "    FILTER NOT EXISTS{ ?firstEpisode wdt:P155 ?x .}\n",
    "    \n",
    "    # Count in how many episodes the actor partecipated\n",
    "    {   SELECT ?actor ?actorName COUNT(DISTINCT ?episode) AS ?numEpisodesByActor WHERE { \n",
    "\n",
    "            # Retrieve HIMYM episodes \n",
    "            wd:Q147235 wdt:P527{2} ?episode .\n",
    "\n",
    "            # Retrieve cast members\n",
    "            ?episode wdt:P161 ?actor .\n",
    "\n",
    "            # This returns the labels\n",
    "            ?actor <http://schema.org/name> ?actorName .\n",
    "        }\n",
    "        GROUP BY ?actor ?actorName\n",
    "    }\n",
    "}\n",
    "ORDER BY DESC(?partecipationRate)\n",
    "\"\"\"\n",
    "\n",
    "print(\"Results\")\n",
    "run_query(queryString)"
   ]
  },
  {
   "cell_type": "markdown",
   "id": "5f3e1e69-36c9-4cb2-9afa-a89b489c6043",
   "metadata": {},
   "source": [
    "## END"
   ]
  }
 ],
 "metadata": {
  "kernelspec": {
   "display_name": "Python 3",
   "language": "python",
   "name": "python3"
  },
  "language_info": {
   "codemirror_mode": {
    "name": "ipython",
    "version": 3
   },
   "file_extension": ".py",
   "mimetype": "text/x-python",
   "name": "python",
   "nbconvert_exporter": "python",
   "pygments_lexer": "ipython3",
   "version": "3.7.10"
  }
 },
 "nbformat": 4,
 "nbformat_minor": 5
}
