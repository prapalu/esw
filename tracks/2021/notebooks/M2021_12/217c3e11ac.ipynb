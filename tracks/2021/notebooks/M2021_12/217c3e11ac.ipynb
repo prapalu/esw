{
 "cells": [
  {
   "cell_type": "markdown",
   "id": "7034c3bf-6eb0-4418-8687-7b9d2a501103",
   "metadata": {},
   "source": [
    "# General instructions\n",
    "\n",
    "The goal of the project is to materialize a set of **exploratory workloads** over a real-world, large-scale,  open-domain KG: [WikiData](https://www.wikidata.org/wiki/Wikidata:Main_Page)\n",
    "\n",
    "An exploratory workload  is composed by a set of queries, where each query is related to the information obtained previously.\n",
    "\n",
    "An exploratory workload starts with a usually vague, open ended question, and does not assume the person issuing the workload has a clear understanding of the data contained in the target database or its structure.\n",
    "\n",
    "Remeber that:\n",
    "\n",
    "1. All the queries must run in the python notebook\n",
    "2. You can use classes and properties only if you find them via a SPARQL query that must be present in the notebook\n",
    "3. You do not delete useless queries. Keep everything that is synthatically valid \n",
    "\n",
    "```\n",
    "?p <http://schema.org/name> ?name .\n",
    "```\n",
    "    \n",
    "is the BGP returning a human-readable name of a property or a class in Wikidata.\n",
    "    \n",
    "    "
   ]
  },
  {
   "cell_type": "code",
   "execution_count": 2,
   "id": "3605c9d5-5371-49a5-be8d-d66e8f417139",
   "metadata": {},
   "outputs": [],
   "source": [
    "## SETUP used later\n",
    "\n",
    "from SPARQLWrapper import SPARQLWrapper, JSON\n",
    "\n",
    "\n",
    "prefixString = \"\"\"\n",
    "##-217c3e11ac-##\n",
    "PREFIX wd: <http://www.wikidata.org/entity/> \n",
    "PREFIX wdt: <http://www.wikidata.org/prop/direct/> \n",
    "PREFIX sc: <http://schema.org/>\n",
    "\"\"\"\n",
    "\n",
    "# select and construct queries\n",
    "def run_query(queryString):\n",
    "    to_run = prefixString + \"\\n\" + queryString\n",
    "\n",
    "    sparql = SPARQLWrapper(\"http://a256-gc1-02.srv.aau.dk:5820/sparql\")\n",
    "    sparql.setTimeout(300)\n",
    "    sparql.setReturnFormat(JSON)\n",
    "    sparql.setQuery(to_run)\n",
    "\n",
    "    try :\n",
    "       results = sparql.query()\n",
    "       json_results = results.convert()\n",
    "       if len(json_results['results']['bindings'])==0:\n",
    "          print(\"Empty\")\n",
    "          return 0\n",
    "    \n",
    "       for bindings in json_results['results']['bindings']:\n",
    "          print( [ (var, value['value'])  for var, value in bindings.items() ] )\n",
    "\n",
    "       return len(json_results['results']['bindings'])\n",
    "\n",
    "    except Exception as e :\n",
    "        print(\"The operation failed\", e)\n",
    "    \n",
    "# ASk queries\n",
    "def run_ask_query(queryString):\n",
    "    to_run = prefixString + \"\\n\" + queryString\n",
    "\n",
    "    sparql = SPARQLWrapper(\"http://a256-gc1-02.srv.aau.dk:5820/sparql\")\n",
    "    sparql.setTimeout(300)\n",
    "    sparql.setReturnFormat(JSON)\n",
    "    sparql.setQuery(to_run)\n",
    "\n",
    "    try :\n",
    "        return sparql.query().convert()\n",
    "\n",
    "    except Exception as e :\n",
    "        print(\"The operation failed\", e)\n"
   ]
  },
  {
   "cell_type": "markdown",
   "id": "d477a59c-a68c-4c8f-9f97-8ca5294d7d27",
   "metadata": {},
   "source": [
    "# GEO Workflow Series (\"Place of Birth, Death, and Burial\") \n",
    "\n",
    "Consider the following exploratory information need:\n",
    "\n",
    "> You want to visit cities connected to famous writers and poets, and you are deciding wether to visit France or Germany"
   ]
  },
  {
   "cell_type": "markdown",
   "id": "4a45c0ba-f79e-441d-bec5-84401b09db70",
   "metadata": {},
   "source": [
    "## Useful URIs for the current workflow\n",
    "\n",
    "\n",
    "The following are given:\n",
    "\n",
    "| IRI           | Description   | Role      |\n",
    "| -----------   | -----------   |-----------|\n",
    "| `wdt:P1647`   | subproperty   | predicate |\n",
    "| `wdt:P31`     | instance of   | predicate |\n",
    "| `wdt:P279`    | subclass      | predicate |\n",
    "| `wdt:P106`    | occupation    | predicate |\n",
    "| `wdt:P27`     | citizenship   | predicate |\n",
    "| `wd:Q183`     | Germany       | node |\n",
    "| `wd:Q142`     | France        | node |\n",
    "| `wd:Q90`      | Paris         | node |\n",
    "| `wd:Q49757`   | Poet          | node |\n",
    "| `wd:Q36180`   | Writer        | node |\n",
    "| `wd:Q501`     | Charles Baudelaire  | node      |\n",
    "| `wd:Q272208`  | Montparnasse Cemetery       | node |\n",
    "\n",
    "\n",
    "Also consider\n",
    "\n",
    "```\n",
    "?p wdt:P27 wd:Q142  . \n",
    "?p wdt:P106 wd:Q36180  . \n",
    "```\n",
    "\n",
    "is the BGP to retrieve all **French writers**"
   ]
  },
  {
   "cell_type": "code",
   "execution_count": null,
   "id": "ec6e8f1c-315c-4ab5-b0b4-db243c9f6dc4",
   "metadata": {},
   "outputs": [],
   "source": []
  },
  {
   "cell_type": "code",
   "execution_count": null,
   "id": "599967fa-3af2-4880-9e6b-8ff5adeba845",
   "metadata": {},
   "outputs": [],
   "source": []
  },
  {
   "cell_type": "code",
   "execution_count": null,
   "id": "0196758b-f00c-40df-a30f-1205ebadef28",
   "metadata": {},
   "outputs": [],
   "source": []
  },
  {
   "cell_type": "markdown",
   "id": "7af439fb-96e4-4dbb-a381-f19afab79f86",
   "metadata": {
    "tags": []
   },
   "source": [
    "## Workload Goals\n",
    "\n",
    "1. Identify the BGP that connect people to their place of birth or place, death, or burial\n",
    "\n",
    "2. Identify the BGP to obtain the country in which a place is located\n",
    "\n",
    "3. How many poets and writers  have a place of birth, death, or burial in Germany and France?\n",
    "\n",
    "4. Analyze cities across the two countries\n",
    " \n",
    "   4.1 Is there any poet for which the birth place and the place of burial are located in the same city either in Germany or France?\n",
    "   \n",
    "   4.2 Which cities host the place of birth of the larger number of poets or writers across the two countries?\n",
    "   \n",
    "   4.3 What are the top 3 cities in each country that you could visit? Based on what criteria?\n"
   ]
  },
  {
   "cell_type": "code",
   "execution_count": 2,
   "id": "24a853ab-830c-422c-afd3-e9e015b8b8ed",
   "metadata": {},
   "outputs": [],
   "source": [
    "# start your workflow here"
   ]
  },
  {
   "cell_type": "code",
   "execution_count": 3,
   "id": "ade01416-92e7-4ad7-b9a9-b8fb330750dc",
   "metadata": {},
   "outputs": [
    {
     "name": "stdout",
     "output_type": "stream",
     "text": [
      "Predicates\n",
      "[('callret-0', '14400')]\n"
     ]
    },
    {
     "data": {
      "text/plain": [
       "1"
      ]
     },
     "execution_count": 3,
     "metadata": {},
     "output_type": "execute_result"
    }
   ],
   "source": [
    "queryString = \"\"\"\n",
    "SELECT COUNT(*)\n",
    "WHERE { \n",
    "\n",
    "?p wdt:P27 wd:Q142  . \n",
    "?p wdt:P106 wd:Q36180  . \n",
    "} \n",
    "GROUP BY ?cult  ?arch\n",
    "\"\"\"\n",
    "\n",
    "print(\"Predicates\")\n",
    "run_query(queryString)"
   ]
  },
  {
   "cell_type": "code",
   "execution_count": null,
   "id": "466eda14-e45c-48cb-b846-a124545a22be",
   "metadata": {},
   "outputs": [],
   "source": [
    "#I identify the BGP for place of burial througth the Montparnasse Cemetery"
   ]
  },
  {
   "cell_type": "code",
   "execution_count": 26,
   "id": "a3a239ee-934a-4d9e-941a-b9ac88d75dba",
   "metadata": {},
   "outputs": [
    {
     "name": "stdout",
     "output_type": "stream",
     "text": [
      "Predicates\n",
      "[('q', 'http://www.wikidata.org/entity/Q310715'), ('d', 'http://www.wikidata.org/prop/direct/P119'), ('qname', 'Henri Fantin-Latour'), ('dname', 'place of burial')]\n",
      "[('q', 'http://www.wikidata.org/entity/Q15729827'), ('d', 'http://www.wikidata.org/prop/direct/P119'), ('qname', 'Henri Plon'), ('dname', 'place of burial')]\n",
      "[('q', 'http://www.wikidata.org/entity/Q970511'), ('d', 'http://www.wikidata.org/prop/direct/P119'), ('qname', 'Charles Meynier'), ('dname', 'place of burial')]\n",
      "[('q', 'http://www.wikidata.org/entity/Q16889566'), ('d', 'http://www.wikidata.org/prop/direct/P119'), ('qname', 'Henri Marie Bouley'), ('dname', 'place of burial')]\n",
      "[('q', 'http://www.wikidata.org/entity/Q313556'), ('d', 'http://www.wikidata.org/prop/direct/P119'), ('qname', 'Charles Garnier'), ('dname', 'place of burial')]\n",
      "[('q', 'http://www.wikidata.org/entity/Q62990549'), ('d', 'http://www.wikidata.org/prop/direct/P119'), ('qname', 'Jacques Libman'), ('dname', 'place of burial')]\n",
      "[('q', 'http://www.wikidata.org/entity/Q1174166'), ('d', 'http://www.wikidata.org/prop/direct/P119'), ('qname', 'David David-Weill'), ('dname', 'place of burial')]\n",
      "[('q', 'http://www.wikidata.org/entity/Q2386507'), ('d', 'http://www.wikidata.org/prop/direct/P119'), ('qname', \"Henri-Cardin-Jean-Baptiste d'Aguesseau\"), ('dname', 'place of burial')]\n",
      "[('q', 'http://www.wikidata.org/entity/Q17350650'), ('d', 'http://www.wikidata.org/prop/direct/P119'), ('qname', 'Herbert Lottman'), ('dname', 'place of burial')]\n",
      "[('q', 'http://www.wikidata.org/entity/Q260047'), ('d', 'http://www.wikidata.org/prop/direct/P119'), ('qname', 'Adolphe Crémieux'), ('dname', 'place of burial')]\n"
     ]
    },
    {
     "data": {
      "text/plain": [
       "10"
      ]
     },
     "execution_count": 26,
     "metadata": {},
     "output_type": "execute_result"
    }
   ],
   "source": [
    "queryString = \"\"\"\n",
    "SELECT ?q ?d ?qname ?dname\n",
    "WHERE { \n",
    " ?q ?d wd:Q272208.\n",
    " ?q <http://schema.org/name> ?qname.\n",
    " ?d <http://schema.org/name> ?dname\n",
    "} \n",
    "LIMIT 10\n",
    "\"\"\"\n",
    "\n",
    "print(\"Predicates\")\n",
    "run_query(queryString)"
   ]
  },
  {
   "cell_type": "code",
   "execution_count": null,
   "id": "67b08c24-31f0-45c7-9d18-541bed5bcd76",
   "metadata": {},
   "outputs": [],
   "source": [
    "#so the BGP for place of burial is P119"
   ]
  },
  {
   "cell_type": "code",
   "execution_count": null,
   "id": "da835b65-a526-4247-845d-1dc5086a2afb",
   "metadata": {},
   "outputs": [],
   "source": [
    "#i identify the bgp for place of birth or death for Henri Fantin-Latour "
   ]
  },
  {
   "cell_type": "code",
   "execution_count": 28,
   "id": "35ba4890-0996-411d-a035-bf76b761d70b",
   "metadata": {},
   "outputs": [
    {
     "name": "stdout",
     "output_type": "stream",
     "text": [
      "Results\n",
      "[('pname', 'Portuguese National Library ID'), ('a', 'http://www.wikidata.org/prop/direct/P1005')]\n",
      "[('pname', 'Nationale Thesaurus voor Auteurs ID'), ('a', 'http://www.wikidata.org/prop/direct/P1006')]\n",
      "[('pname', 'occupation'), ('a', 'http://www.wikidata.org/prop/direct/P106')]\n",
      "[('pname', 'student of'), ('a', 'http://www.wikidata.org/prop/direct/P1066')]\n",
      "[('pname', 'place of burial'), ('a', 'http://www.wikidata.org/prop/direct/P119')]\n",
      "[('pname', 'NUKAT ID'), ('a', 'http://www.wikidata.org/prop/direct/P1207')]\n",
      "[('pname', 'KulturNav-ID'), ('a', 'http://www.wikidata.org/prop/direct/P1248')]\n",
      "[('pname', 'NNDB people ID'), ('a', 'http://www.wikidata.org/prop/direct/P1263')]\n",
      "[('pname', 'CANTIC ID'), ('a', 'http://www.wikidata.org/prop/direct/P1273')]\n",
      "[('pname', 'CONOR.SI ID'), ('a', 'http://www.wikidata.org/prop/direct/P1280')]\n",
      "[('pname', 'Gran Enciclopèdia Catalana ID'), ('a', 'http://www.wikidata.org/prop/direct/P1296')]\n",
      "[('pname', 'NLA Trove ID'), ('a', 'http://www.wikidata.org/prop/direct/P1315')]\n",
      "[('pname', 'described by source'), ('a', 'http://www.wikidata.org/prop/direct/P1343')]\n",
      "[('pname', 'movement'), ('a', 'http://www.wikidata.org/prop/direct/P135')]\n",
      "[('pname', 'genre'), ('a', 'http://www.wikidata.org/prop/direct/P136')]\n",
      "[('pname', 'Art UK artist ID'), ('a', 'http://www.wikidata.org/prop/direct/P1367')]\n",
      "[('pname', 'LNB ID'), ('a', 'http://www.wikidata.org/prop/direct/P1368')]\n",
      "[('pname', 'languages spoken, written or signed'), ('a', 'http://www.wikidata.org/prop/direct/P1412')]\n",
      "[('pname', 'Encyclopædia Britannica Online ID'), ('a', 'http://www.wikidata.org/prop/direct/P1417')]\n",
      "[('pname', 'image of grave'), ('a', 'http://www.wikidata.org/prop/direct/P1442')]\n",
      "[('pname', 'Commons Creator page'), ('a', 'http://www.wikidata.org/prop/direct/P1472')]\n",
      "[('pname', 'University of Barcelona authority ID'), ('a', 'http://www.wikidata.org/prop/direct/P1580')]\n",
      "[('pname', 'NLP ID (unique)'), ('a', 'http://www.wikidata.org/prop/direct/P1695')]\n",
      "[('pname', 'British Museum person or institution ID'), ('a', 'http://www.wikidata.org/prop/direct/P1711')]\n",
      "[('pname', 'ethnic group'), ('a', 'http://www.wikidata.org/prop/direct/P172')]\n",
      "[('pname', 'image'), ('a', 'http://www.wikidata.org/prop/direct/P18')]\n",
      "[('pname', 'Web Gallery of Art ID'), ('a', 'http://www.wikidata.org/prop/direct/P1882')]\n",
      "[('pname', 'place of birth'), ('a', 'http://www.wikidata.org/prop/direct/P19')]\n",
      "[('pname', 'Discogs artist ID'), ('a', 'http://www.wikidata.org/prop/direct/P1953')]\n",
      "[('pname', 'place of death'), ('a', 'http://www.wikidata.org/prop/direct/P20')]\n",
      "[('pname', 'National Gallery of Victoria artist ID'), ('a', 'http://www.wikidata.org/prop/direct/P2041')]\n",
      "[('pname', 'Artsy artist ID'), ('a', 'http://www.wikidata.org/prop/direct/P2042')]\n",
      "[('pname', 'sex or gender'), ('a', 'http://www.wikidata.org/prop/direct/P21')]\n",
      "[('pname', 'ISNI'), ('a', 'http://www.wikidata.org/prop/direct/P213')]\n",
      "[('pname', 'VIAF ID'), ('a', 'http://www.wikidata.org/prop/direct/P214')]\n",
      "[('pname', 'FAST ID'), ('a', 'http://www.wikidata.org/prop/direct/P2163')]\n",
      "[('pname', 'Museum of Modern Art artist ID'), ('a', 'http://www.wikidata.org/prop/direct/P2174')]\n",
      "[('pname', 'father'), ('a', 'http://www.wikidata.org/prop/direct/P22')]\n",
      "[('pname', 'National Gallery of Art artist ID'), ('a', 'http://www.wikidata.org/prop/direct/P2252')]\n",
      "[('pname', \"Musée d'Orsay artist ID\"), ('a', 'http://www.wikidata.org/prop/direct/P2268')]\n",
      "[('pname', 'GND ID'), ('a', 'http://www.wikidata.org/prop/direct/P227')]\n",
      "[('pname', 'AGORHA person/institution ID'), ('a', 'http://www.wikidata.org/prop/direct/P2342')]\n",
      "[('pname', 'Thyssen-Bornemisza artist ID'), ('a', 'http://www.wikidata.org/prop/direct/P2431')]\n",
      "[('pname', 'Library of Congress authority ID'), ('a', 'http://www.wikidata.org/prop/direct/P244')]\n",
      "[('pname', 'Union List of Artist Names ID'), ('a', 'http://www.wikidata.org/prop/direct/P245')]\n",
      "[('pname', 'Nationalmuseum Sweden actor ID'), ('a', 'http://www.wikidata.org/prop/direct/P2538')]\n",
      "[('pname', 'spouse'), ('a', 'http://www.wikidata.org/prop/direct/P26')]\n",
      "[('pname', 'Bibliothèque nationale de France ID'), ('a', 'http://www.wikidata.org/prop/direct/P268')]\n",
      "[('pname', 'IdRef ID'), ('a', 'http://www.wikidata.org/prop/direct/P269')]\n",
      "[('pname', 'country of citizenship'), ('a', 'http://www.wikidata.org/prop/direct/P27')]\n"
     ]
    },
    {
     "data": {
      "text/plain": [
       "50"
      ]
     },
     "execution_count": 28,
     "metadata": {},
     "output_type": "execute_result"
    }
   ],
   "source": [
    "\n",
    "queryString = \"\"\"\n",
    "SELECT DISTINCT ?pname ?a\n",
    "WHERE { \n",
    "\n",
    "wd:Q310715 ?a ?b.\n",
    "\n",
    "\n",
    "\n",
    "?a <http://schema.org/name> ?pname\n",
    "} \n",
    "LIMIT 50\n",
    "\"\"\"\n",
    "\n",
    "print(\"Results\")\n",
    "run_query(queryString)"
   ]
  },
  {
   "cell_type": "code",
   "execution_count": null,
   "id": "b52671c5-07cb-4ed1-b251-6191752a5941",
   "metadata": {},
   "outputs": [],
   "source": [
    "#the BGP for place of birth is P19 and for place of death is P20"
   ]
  },
  {
   "cell_type": "code",
   "execution_count": null,
   "id": "16a591cf-2819-483c-a0bf-4e8fd7a85fec",
   "metadata": {},
   "outputs": [],
   "source": [
    "#I Identify the BGP to obtain the country in which a place is located using the place paris\n",
    "\n"
   ]
  },
  {
   "cell_type": "code",
   "execution_count": 18,
   "id": "c3d1c7b3-c16a-49ad-84c5-fa45062de0f8",
   "metadata": {},
   "outputs": [
    {
     "name": "stdout",
     "output_type": "stream",
     "text": [
      "Results\n",
      "[('pname', 'Vatican Library ID (former scheme)'), ('relation', 'http://www.wikidata.org/prop/direct/P1017')]\n",
      "[('pname', 'Dewey Decimal Classification'), ('relation', 'http://www.wikidata.org/prop/direct/P1036')]\n",
      "[('pname', 'population'), ('relation', 'http://www.wikidata.org/prop/direct/P1082')]\n",
      "[('pname', \"topic's main Wikimedia portal\"), ('relation', 'http://www.wikidata.org/prop/direct/P1151')]\n",
      "[('pname', 'U.S. National Archives Identifier'), ('relation', 'http://www.wikidata.org/prop/direct/P1225')]\n",
      "[('pname', 'OmegaWiki Defined Meaning'), ('relation', 'http://www.wikidata.org/prop/direct/P1245')]\n",
      "[('pname', 'Gran Enciclopèdia Catalana ID'), ('relation', 'http://www.wikidata.org/prop/direct/P1296')]\n",
      "[('pname', 'located in the administrative territorial entity'), ('relation', 'http://www.wikidata.org/prop/direct/P131')]\n",
      "[('pname', 'office held by head of government'), ('relation', 'http://www.wikidata.org/prop/direct/P1313')]\n",
      "[('pname', 'described by source'), ('relation', 'http://www.wikidata.org/prop/direct/P1343')]\n",
      "[('pname', 'replaces'), ('relation', 'http://www.wikidata.org/prop/direct/P1365')]\n",
      "[('pname', 'LNB ID'), ('relation', 'http://www.wikidata.org/prop/direct/P1368')]\n",
      "[('pname', 'capital of'), ('relation', 'http://www.wikidata.org/prop/direct/P1376')]\n",
      "[('pname', 'named after'), ('relation', 'http://www.wikidata.org/prop/direct/P138')]\n",
      "[('pname', 'Encyclopædia Britannica Online ID'), ('relation', 'http://www.wikidata.org/prop/direct/P1417')]\n",
      "[('pname', \"topic's main template\"), ('relation', 'http://www.wikidata.org/prop/direct/P1424')]\n",
      "[('pname', 'Jewish Encyclopedia ID (Russian)'), ('relation', 'http://www.wikidata.org/prop/direct/P1438')]\n",
      "[('pname', 'present in work'), ('relation', 'http://www.wikidata.org/prop/direct/P1441')]\n",
      "[('pname', 'nickname'), ('relation', 'http://www.wikidata.org/prop/direct/P1449')]\n",
      "[('pname', 'legal form'), ('relation', 'http://www.wikidata.org/prop/direct/P1454')]\n",
      "[('pname', 'list of monuments'), ('relation', 'http://www.wikidata.org/prop/direct/P1456')]\n",
      "[('pname', 'category for people born here'), ('relation', 'http://www.wikidata.org/prop/direct/P1464')]\n",
      "[('pname', 'category for people who died here'), ('relation', 'http://www.wikidata.org/prop/direct/P1465')]\n",
      "[('pname', 'contains administrative territorial entity'), ('relation', 'http://www.wikidata.org/prop/direct/P150')]\n",
      "[('pname', 'female population'), ('relation', 'http://www.wikidata.org/prop/direct/P1539')]\n",
      "[('pname', 'male population'), ('relation', 'http://www.wikidata.org/prop/direct/P1540')]\n",
      "[('pname', 'demonym'), ('relation', 'http://www.wikidata.org/prop/direct/P1549')]\n",
      "[('pname', 'GeoNames ID'), ('relation', 'http://www.wikidata.org/prop/direct/P1566')]\n",
      "[('pname', 'SIREN number'), ('relation', 'http://www.wikidata.org/prop/direct/P1616')]\n",
      "[('pname', 'flag'), ('relation', 'http://www.wikidata.org/prop/direct/P163')]\n",
      "[('pname', 'award received'), ('relation', 'http://www.wikidata.org/prop/direct/P166')]\n",
      "[('pname', 'Getty Thesaurus of Geographic Names ID'), ('relation', 'http://www.wikidata.org/prop/direct/P1667')]\n",
      "[('pname', 'country'), ('relation', 'http://www.wikidata.org/prop/direct/P17')]\n",
      "[('pname', 'category for films shot at this location'), ('relation', 'http://www.wikidata.org/prop/direct/P1740')]\n",
      "[('pname', 'place name sign'), ('relation', 'http://www.wikidata.org/prop/direct/P1766')]\n",
      "[('pname', 'category of people buried here'), ('relation', 'http://www.wikidata.org/prop/direct/P1791')]\n",
      "[('pname', 'category of associated people'), ('relation', 'http://www.wikidata.org/prop/direct/P1792')]\n",
      "[('pname', 'image'), ('relation', 'http://www.wikidata.org/prop/direct/P18')]\n",
      "[('pname', 'owner of'), ('relation', 'http://www.wikidata.org/prop/direct/P1830')]\n",
      "[('pname', 'different from'), ('relation', 'http://www.wikidata.org/prop/direct/P1889')]\n",
      "[('pname', 'twinned administrative body'), ('relation', 'http://www.wikidata.org/prop/direct/P190')]\n",
      "[('pname', 'UN/LOCODE'), ('relation', 'http://www.wikidata.org/prop/direct/P1937')]\n",
      "[('pname', 'legislative body'), ('relation', 'http://www.wikidata.org/prop/direct/P194')]\n",
      "[('pname', 'location map'), ('relation', 'http://www.wikidata.org/prop/direct/P1943')]\n",
      "[('pname', 'Foursquare venue ID'), ('relation', 'http://www.wikidata.org/prop/direct/P1968')]\n",
      "[('pname', 'Facebook Places ID'), ('relation', 'http://www.wikidata.org/prop/direct/P1997')]\n",
      "[('pname', 'Twitter username'), ('relation', 'http://www.wikidata.org/prop/direct/P2002')]\n",
      "[('pname', 'Instagram username'), ('relation', 'http://www.wikidata.org/prop/direct/P2003')]\n",
      "[('pname', 'Facebook ID'), ('relation', 'http://www.wikidata.org/prop/direct/P2013')]\n",
      "[('pname', 'elevation above sea level'), ('relation', 'http://www.wikidata.org/prop/direct/P2044')]\n"
     ]
    },
    {
     "data": {
      "text/plain": [
       "50"
      ]
     },
     "execution_count": 18,
     "metadata": {},
     "output_type": "execute_result"
    }
   ],
   "source": [
    " \n",
    "queryString = \"\"\"\n",
    "SELECT DISTINCT ?pname ?relation \n",
    "WHERE { \n",
    "\n",
    "wd:Q90 ?relation ?q.\n",
    "\n",
    "?relation <http://schema.org/name> ?pname\n",
    "} \n",
    "LIMIT 50\n",
    "\"\"\"\n",
    "\n",
    "print(\"Results\")\n",
    "run_query(queryString)"
   ]
  },
  {
   "cell_type": "code",
   "execution_count": 14,
   "id": "7266328d-0ddf-4a29-9f60-98fecdbca608",
   "metadata": {},
   "outputs": [],
   "source": [
    "#i obtained the BGP for country wich is P17"
   ]
  },
  {
   "cell_type": "code",
   "execution_count": null,
   "id": "f7f7ffae-9b06-433a-9ae6-23faf70e1543",
   "metadata": {},
   "outputs": [],
   "source": [
    "#How many poets and writers have a place of birth, death, or burial in Germany and France?"
   ]
  },
  {
   "cell_type": "code",
   "execution_count": 9,
   "id": "48f3af80-497a-4e6f-8191-c14603189fad",
   "metadata": {},
   "outputs": [
    {
     "name": "stdout",
     "output_type": "stream",
     "text": [
      "Results\n",
      "[('callret-0', '20641')]\n"
     ]
    },
    {
     "data": {
      "text/plain": [
       "1"
      ]
     },
     "execution_count": 9,
     "metadata": {},
     "output_type": "execute_result"
    }
   ],
   "source": [
    "#att:sbagliato quì ripete la somma\n",
    "#here i find the writer who have place of death birth or burial in france \n",
    "queryString = \"\"\"\n",
    "\n",
    "SELECT DISTINCT COUNT(?pname) \n",
    "WHERE {\n",
    "{\n",
    "?place wdt:P17 wd:Q142.\n",
    "?nameF wdt:P19 ?place . \n",
    "?nameF wdt:P106 wd:Q36180  .\n",
    "\n",
    "?nameF <http://schema.org/name> ?pname.\n",
    "} \n",
    "\n",
    "UNION\n",
    "{\n",
    "\n",
    "?place wdt:P17 wd:Q142.\n",
    "?nameF wdt:P20 ?place . \n",
    "?nameF wdt:P106 wd:Q36180  .\n",
    "\n",
    "?nameF <http://schema.org/name> ?pname.\n",
    "} \n",
    "\n",
    "UNION\n",
    "{\n",
    "\n",
    "?place wdt:P17 wd:Q142.\n",
    "?nameF wdt:P119 ?place . \n",
    "?nameF wdt:P106 wd:Q36180  .\n",
    "\n",
    "?nameF <http://schema.org/name> ?pname.\n",
    "} \n",
    "}\n",
    "\n",
    "\"\"\"\n",
    "\n",
    "print(\"Results\")\n",
    "run_query(queryString)"
   ]
  },
  {
   "cell_type": "code",
   "execution_count": 4,
   "id": "00e20a0d-6d49-4523-b1bc-a9e173f5d59a",
   "metadata": {},
   "outputs": [
    {
     "name": "stdout",
     "output_type": "stream",
     "text": [
      "Results\n",
      "[('pname', 'Enguerrand Homps'), ('callret-1', '1')]\n",
      "[('pname', 'Gustave Geffroy'), ('callret-1', '1')]\n",
      "[('pname', 'Jeanne Lapauze'), ('callret-1', '2')]\n",
      "[('pname', 'Charles, Duke of Orléans'), ('callret-1', '1')]\n",
      "[('pname', 'Georges Darien'), ('callret-1', '1')]\n",
      "[('pname', 'Nicolas Artaud'), ('callret-1', '1')]\n",
      "[('pname', 'Boris Ûlianovič Poplavskij'), ('callret-1', '1')]\n",
      "[('pname', 'Louis Bouilhet'), ('callret-1', '1')]\n",
      "[('pname', 'Edmée de La Rochefoucauld'), ('callret-1', '1')]\n",
      "[('pname', 'Frédéric Soulié'), ('callret-1', '1')]\n"
     ]
    },
    {
     "data": {
      "text/plain": [
       "10"
      ]
     },
     "execution_count": 4,
     "metadata": {},
     "output_type": "execute_result"
    }
   ],
   "source": [
    "\n",
    "#here i find the writer who have place of death birth or burial in france \n",
    "queryString = \"\"\"\n",
    "\n",
    "SELECT DISTINCT ?pname COUNT(?nameF)\n",
    "WHERE {\n",
    "\n",
    "?place wdt:P17 wd:Q142.\n",
    "?nameF wdt:P119/wdt:P19*/wdt:P20* ?place . \n",
    "?nameF wdt:P106 wd:Q36180  .\n",
    "\n",
    "?nameF <http://schema.org/name> ?pname.\n",
    "\n",
    "\n",
    "}LIMIT 10\n",
    "\n",
    "\"\"\"\n",
    "\n",
    "print(\"Results\")\n",
    "run_query(queryString)"
   ]
  },
  {
   "cell_type": "code",
   "execution_count": 21,
   "id": "f9dccf96-0940-4987-a315-bca8fc6da661",
   "metadata": {},
   "outputs": [
    {
     "name": "stdout",
     "output_type": "stream",
     "text": [
      "Results\n",
      "[('number', '2350')]\n"
     ]
    },
    {
     "data": {
      "text/plain": [
       "1"
      ]
     },
     "execution_count": 21,
     "metadata": {},
     "output_type": "execute_result"
    }
   ],
   "source": [
    "#SBAGLIATA GUARDA LA PROSSIMA\n",
    "#here i find the poet or writer who have place of death birt or burial in france \n",
    "queryString = \"\"\"\n",
    "\n",
    "SELECT DISTINCT COUNT(?nameF) AS ?number\n",
    "WHERE {\n",
    "{\n",
    "?place wdt:P17 wd:Q142.\n",
    "?nameF wdt:P119/wdt:P19*/wdt:P20* ?place . \n",
    "?nameF wdt:P106 wd:Q36180 .\n",
    "\n",
    "?nameF <http://schema.org/name> ?pname.\n",
    "\n",
    "\n",
    "}\n",
    "UNION\n",
    "{\n",
    "\n",
    "?place wdt:P17 wd:Q142.\n",
    "?nameF wdt:P119/wdt:P19*/wdt:P20* ?place . \n",
    "?nameF wdt:P106 wd:Q49757 .\n",
    "\n",
    "?nameF <http://schema.org/name> ?pname.\n",
    "\n",
    "}\n",
    "\n",
    "}\n",
    "\n",
    "\"\"\"\n",
    "\n",
    "print(\"Results\")\n",
    "run_query(queryString)"
   ]
  },
  {
   "cell_type": "code",
   "execution_count": 22,
   "id": "8060f4c5-3f42-4f10-b0aa-a2b7727516b1",
   "metadata": {},
   "outputs": [
    {
     "name": "stdout",
     "output_type": "stream",
     "text": [
      "Results\n",
      "[('number', '3629')]\n"
     ]
    },
    {
     "data": {
      "text/plain": [
       "1"
      ]
     },
     "execution_count": 22,
     "metadata": {},
     "output_type": "execute_result"
    }
   ],
   "source": [
    "#SBAGLIATA GUARDA LA PROSSIMA\n",
    "#here i find the poet or writer who have place of death birt or burial in france or germany wd:Q183\n",
    "queryString = \"\"\"\n",
    "\n",
    "SELECT DISTINCT COUNT(?nameF) AS ?number\n",
    "WHERE {\n",
    "{\n",
    "?place wdt:P17 wd:Q142.\n",
    "?nameF wdt:P119/wdt:P19*/wdt:P20* ?place . \n",
    "?nameF wdt:P106 wd:Q36180 .\n",
    "\n",
    "?nameF <http://schema.org/name> ?pname.\n",
    "\n",
    "\n",
    "}\n",
    "UNION\n",
    "{\n",
    "\n",
    "?place wdt:P17 wd:Q142.\n",
    "?nameF wdt:P119/wdt:P19*/wdt:P20* ?place . \n",
    "?nameF wdt:P106 wd:Q49757 .\n",
    "\n",
    "?nameF <http://schema.org/name> ?pname.\n",
    "\n",
    "}\n",
    "UNION\n",
    "{\n",
    "?place wdt:P17 wd:Q183.\n",
    "?nameF wdt:P119/wdt:P19*/wdt:P20* ?place . \n",
    "?nameF wdt:P106 wd:Q36180 .\n",
    "\n",
    "?nameF <http://schema.org/name> ?pname.\n",
    "\n",
    "\n",
    "}\n",
    "UNION\n",
    "{\n",
    "\n",
    "?place wdt:P17 wd:Q183.\n",
    "?nameF wdt:P119/wdt:P19*/wdt:P20* ?place . \n",
    "?nameF wdt:P106 wd:Q49757 .\n",
    "\n",
    "?nameF <http://schema.org/name> ?pname.\n",
    "\n",
    "}\n",
    "\n",
    "}\n",
    "\n",
    "\"\"\"\n",
    "\n",
    "print(\"Results\")\n",
    "run_query(queryString)"
   ]
  },
  {
   "cell_type": "code",
   "execution_count": 34,
   "id": "83a2c173-11f0-4575-a7b3-c31f87d56737",
   "metadata": {},
   "outputs": [
    {
     "name": "stdout",
     "output_type": "stream",
     "text": [
      "Results\n",
      "[('numero', '2940')]\n"
     ]
    },
    {
     "data": {
      "text/plain": [
       "1"
      ]
     },
     "execution_count": 34,
     "metadata": {},
     "output_type": "execute_result"
    }
   ],
   "source": [
    "#SBAGLIATA RIFARE\n",
    "#here i find the number of poet or writer who have place of death birt or burial in france or germany wd:Q183\n",
    "queryString = \"\"\"\n",
    "SELECT DISTINCT COUNT(?nameF) AS ?numero\n",
    "{\n",
    "SELECT DISTINCT ?nameF \n",
    "WHERE {\n",
    "{\n",
    "?place wdt:P17 wd:Q142.\n",
    "?nameF wdt:P119/wdt:P19*/wdt:P20* ?place . \n",
    "?nameF wdt:P106 wd:Q36180 .\n",
    "\n",
    "?nameF <http://schema.org/name> ?pname.\n",
    "\n",
    "\n",
    "}\n",
    "UNION\n",
    "{\n",
    "\n",
    "?place wdt:P17 wd:Q142.\n",
    "?nameF wdt:P119/wdt:P19*/wdt:P20* ?place . \n",
    "?nameF wdt:P106 wd:Q49757 .\n",
    "\n",
    "?nameF <http://schema.org/name> ?pname.\n",
    "\n",
    "}\n",
    "UNION\n",
    "{\n",
    "?place wdt:P17 wd:Q183.\n",
    "?nameF wdt:P119/wdt:P19*/wdt:P20* ?place . \n",
    "?nameF wdt:P106 wd:Q36180 .\n",
    "\n",
    "?nameF <http://schema.org/name> ?pname.\n",
    "\n",
    "\n",
    "}\n",
    "UNION\n",
    "{\n",
    "\n",
    "?place wdt:P17 wd:Q183.\n",
    "?nameF wdt:P119/wdt:P19*/wdt:P20* ?place . \n",
    "?nameF wdt:P106 wd:Q49757 .\n",
    "\n",
    "?nameF <http://schema.org/name> ?pname.\n",
    "\n",
    "}\n",
    "\n",
    "}\n",
    "}\n",
    "\"\"\"\n",
    "\n",
    "print(\"Results\")\n",
    "run_query(queryString)"
   ]
  },
  {
   "cell_type": "code",
   "execution_count": 3,
   "id": "ced402c4-304d-4790-aa44-17f72ea73dae",
   "metadata": {},
   "outputs": [
    {
     "name": "stdout",
     "output_type": "stream",
     "text": [
      "Results\n",
      "[('numero', '42514')]\n"
     ]
    },
    {
     "data": {
      "text/plain": [
       "1"
      ]
     },
     "execution_count": 3,
     "metadata": {},
     "output_type": "execute_result"
    }
   ],
   "source": [
    "##here i find the number of poet or writer who have place of death birth or burial in france or germany wd:Q183\n",
    "queryString = \"\"\"\n",
    "SELECT DISTINCT COUNT(distinct ?nameF) AS ?numero\n",
    "{\n",
    "SELECT DISTINCT ?nameF \n",
    "WHERE {\n",
    "{\n",
    "?place wdt:P17 wd:Q142.\n",
    "?nameF wdt:P119 ?place . \n",
    "?nameF wdt:P106 wd:Q36180 .\n",
    "\n",
    "?nameF <http://schema.org/name> ?pname.\n",
    "\n",
    "\n",
    "}\n",
    "UNION\n",
    "{\n",
    "\n",
    "?place wdt:P17 wd:Q142.\n",
    "?nameF wdt:P119 ?place . \n",
    "?nameF wdt:P106 wd:Q49757 .\n",
    "\n",
    "?nameF <http://schema.org/name> ?pname.\n",
    "\n",
    "}\n",
    "UNION\n",
    "{\n",
    "?place wdt:P17 wd:Q183.\n",
    "?nameF wdt:P119 ?place . \n",
    "?nameF wdt:P106 wd:Q36180 .\n",
    "\n",
    "?nameF <http://schema.org/name> ?pname.\n",
    "\n",
    "\n",
    "}\n",
    "UNION\n",
    "{\n",
    "\n",
    "?place wdt:P17 wd:Q183.\n",
    "?nameF wdt:P119 ?place . \n",
    "?nameF wdt:P106 wd:Q49757 .\n",
    "\n",
    "?nameF <http://schema.org/name> ?pname.\n",
    "\n",
    "}\n",
    "\n",
    "\n",
    "\n",
    "\n",
    "\n",
    "\n",
    "\n",
    "\n",
    "UNION \n",
    "{\n",
    "?place wdt:P17 wd:Q142.\n",
    "?nameF wdt:P20 ?place . \n",
    "?nameF wdt:P106 wd:Q36180 .\n",
    "\n",
    "?nameF <http://schema.org/name> ?pname.\n",
    "\n",
    "\n",
    "}\n",
    "UNION\n",
    "{\n",
    "\n",
    "?place wdt:P17 wd:Q142.\n",
    "?nameF wdt:P20 ?place . \n",
    "?nameF wdt:P106 wd:Q49757 .\n",
    "\n",
    "?nameF <http://schema.org/name> ?pname.\n",
    "\n",
    "}\n",
    "UNION\n",
    "{\n",
    "?place wdt:P17 wd:Q183.\n",
    "?nameF wdt:P20 ?place . \n",
    "?nameF wdt:P106 wd:Q36180 .\n",
    "\n",
    "?nameF <http://schema.org/name> ?pname.\n",
    "\n",
    "\n",
    "}\n",
    "UNION\n",
    "{\n",
    "\n",
    "?place wdt:P17 wd:Q183.\n",
    "?nameF wdt:P20 ?place . \n",
    "?nameF wdt:P106 wd:Q49757 .\n",
    "\n",
    "?nameF <http://schema.org/name> ?pname.\n",
    "\n",
    "}\n",
    "\n",
    "\n",
    "\n",
    "\n",
    "\n",
    "UNION\n",
    "\n",
    "\n",
    "{\n",
    "?place wdt:P17 wd:Q142.\n",
    "?nameF wdt:P19 ?place . \n",
    "?nameF wdt:P106 wd:Q36180 .\n",
    "\n",
    "?nameF <http://schema.org/name> ?pname.\n",
    "\n",
    "\n",
    "}\n",
    "UNION\n",
    "{\n",
    "\n",
    "?place wdt:P17 wd:Q142.\n",
    "?nameF wdt:P19 ?place . \n",
    "?nameF wdt:P106 wd:Q49757 .\n",
    "\n",
    "?nameF <http://schema.org/name> ?pname.\n",
    "\n",
    "}\n",
    "UNION\n",
    "{\n",
    "?place wdt:P17 wd:Q183.\n",
    "?nameF wdt:P19 ?place . \n",
    "?nameF wdt:P106 wd:Q36180 .\n",
    "\n",
    "?nameF <http://schema.org/name> ?pname.\n",
    "\n",
    "\n",
    "}\n",
    "UNION\n",
    "{\n",
    "\n",
    "?place wdt:P17 wd:Q183.\n",
    "?nameF wdt:P19 ?place . \n",
    "?nameF wdt:P106 wd:Q49757 .\n",
    "\n",
    "?nameF <http://schema.org/name> ?pname.\n",
    "\n",
    "}\n",
    "\n",
    "\n",
    "\n",
    "\n",
    "}\n",
    "}\n",
    "\"\"\"\n",
    "\n",
    "print(\"Results\")\n",
    "run_query(queryString)"
   ]
  },
  {
   "cell_type": "code",
   "execution_count": null,
   "id": "bb919fd5-1685-4603-8a4c-d249e721ca3d",
   "metadata": {},
   "outputs": [],
   "source": [
    "# Is there any poet for which the birth place and the place of burial are located in the same city either in Germany or France?"
   ]
  },
  {
   "cell_type": "code",
   "execution_count": 29,
   "id": "7fd351b2-6e73-41e1-bc7a-85420ba105cc",
   "metadata": {},
   "outputs": [
    {
     "name": "stdout",
     "output_type": "stream",
     "text": [
      "Results\n",
      "[('pname', 'occupation'), ('a', 'http://www.wikidata.org/prop/direct/P106'), ('bname', 'painter'), ('b', 'http://www.wikidata.org/entity/Q1028181')]\n",
      "[('pname', 'occupation'), ('a', 'http://www.wikidata.org/prop/direct/P106'), ('bname', 'printmaker'), ('b', 'http://www.wikidata.org/entity/Q11569986')]\n",
      "[('pname', 'occupation'), ('a', 'http://www.wikidata.org/prop/direct/P106'), ('bname', 'graphic artist'), ('b', 'http://www.wikidata.org/entity/Q1925963')]\n",
      "[('pname', 'occupation'), ('a', 'http://www.wikidata.org/prop/direct/P106'), ('bname', 'lithographer'), ('b', 'http://www.wikidata.org/entity/Q16947657')]\n",
      "[('pname', 'occupation'), ('a', 'http://www.wikidata.org/prop/direct/P106'), ('bname', 'botanical illustrator'), ('b', 'http://www.wikidata.org/entity/Q3148760')]\n",
      "[('pname', 'student of'), ('a', 'http://www.wikidata.org/prop/direct/P1066'), ('bname', 'Horace Lecoq de Boisbaudran'), ('b', 'http://www.wikidata.org/entity/Q3140465')]\n",
      "[('pname', 'student of'), ('a', 'http://www.wikidata.org/prop/direct/P1066'), ('bname', 'Théodore Fantin-Latour'), ('b', 'http://www.wikidata.org/entity/Q3526419')]\n",
      "[('pname', 'student of'), ('a', 'http://www.wikidata.org/prop/direct/P1066'), ('bname', 'Louis-Alexandre Péron'), ('b', 'http://www.wikidata.org/entity/Q19630647')]\n",
      "[('pname', 'place of burial'), ('a', 'http://www.wikidata.org/prop/direct/P119'), ('bname', 'Montparnasse Cemetery'), ('b', 'http://www.wikidata.org/entity/Q272208')]\n",
      "[('pname', 'described by source'), ('a', 'http://www.wikidata.org/prop/direct/P1343'), ('bname', 'Great Soviet Encyclopedia (1969–1978)'), ('b', 'http://www.wikidata.org/entity/Q17378135')]\n",
      "[('pname', 'described by source'), ('a', 'http://www.wikidata.org/prop/direct/P1343'), ('bname', 'Brockhaus and Efron Encyclopedic Dictionary'), ('b', 'http://www.wikidata.org/entity/Q602358')]\n",
      "[('pname', 'described by source'), ('a', 'http://www.wikidata.org/prop/direct/P1343'), ('bname', 'Obalky knih.cz'), ('b', 'http://www.wikidata.org/entity/Q67311526')]\n",
      "[('pname', 'movement'), ('a', 'http://www.wikidata.org/prop/direct/P135'), ('bname', 'Impressionism'), ('b', 'http://www.wikidata.org/entity/Q40415')]\n",
      "[('pname', 'movement'), ('a', 'http://www.wikidata.org/prop/direct/P135'), ('bname', 'Symbolism'), ('b', 'http://www.wikidata.org/entity/Q164800')]\n",
      "[('pname', 'movement'), ('a', 'http://www.wikidata.org/prop/direct/P135'), ('bname', 'Realism'), ('b', 'http://www.wikidata.org/entity/Q2642826')]\n",
      "[('pname', 'genre'), ('a', 'http://www.wikidata.org/prop/direct/P136'), ('bname', 'still life'), ('b', 'http://www.wikidata.org/entity/Q170571')]\n",
      "[('pname', 'genre'), ('a', 'http://www.wikidata.org/prop/direct/P136'), ('bname', 'portrait painting'), ('b', 'http://www.wikidata.org/entity/Q1400853')]\n",
      "[('pname', 'genre'), ('a', 'http://www.wikidata.org/prop/direct/P136'), ('bname', 'mythological painting'), ('b', 'http://www.wikidata.org/entity/Q3374376')]\n",
      "[('pname', 'genre'), ('a', 'http://www.wikidata.org/prop/direct/P136'), ('bname', 'history painting'), ('b', 'http://www.wikidata.org/entity/Q742333')]\n",
      "[('pname', 'genre'), ('a', 'http://www.wikidata.org/prop/direct/P136'), ('bname', 'floral painting'), ('b', 'http://www.wikidata.org/entity/Q12303833')]\n",
      "[('pname', 'languages spoken, written or signed'), ('a', 'http://www.wikidata.org/prop/direct/P1412'), ('bname', 'French'), ('b', 'http://www.wikidata.org/entity/Q150')]\n",
      "[('pname', 'ethnic group'), ('a', 'http://www.wikidata.org/prop/direct/P172'), ('bname', 'French'), ('b', 'http://www.wikidata.org/entity/Q121842')]\n",
      "[('pname', 'place of birth'), ('a', 'http://www.wikidata.org/prop/direct/P19'), ('bname', 'Grenoble'), ('b', 'http://www.wikidata.org/entity/Q1289')]\n",
      "[('pname', 'place of death'), ('a', 'http://www.wikidata.org/prop/direct/P20'), ('bname', 'Buré'), ('b', 'http://www.wikidata.org/entity/Q1095443')]\n",
      "[('pname', 'sex or gender'), ('a', 'http://www.wikidata.org/prop/direct/P21'), ('bname', 'male'), ('b', 'http://www.wikidata.org/entity/Q6581097')]\n",
      "[('pname', 'father'), ('a', 'http://www.wikidata.org/prop/direct/P22'), ('bname', 'Théodore Fantin-Latour'), ('b', 'http://www.wikidata.org/entity/Q3526419')]\n",
      "[('pname', 'spouse'), ('a', 'http://www.wikidata.org/prop/direct/P26'), ('bname', 'Victoria Dubourg'), ('b', 'http://www.wikidata.org/entity/Q19414297')]\n",
      "[('pname', 'country of citizenship'), ('a', 'http://www.wikidata.org/prop/direct/P27'), ('bname', 'France'), ('b', 'http://www.wikidata.org/entity/Q142')]\n",
      "[('pname', 'instance of'), ('a', 'http://www.wikidata.org/prop/direct/P31'), ('bname', 'human'), ('b', 'http://www.wikidata.org/entity/Q5')]\n",
      "[('pname', 'member of'), ('a', 'http://www.wikidata.org/prop/direct/P463'), ('bname', 'Groupe des Batignolles'), ('b', 'http://www.wikidata.org/entity/Q2492168')]\n",
      "[('pname', 'member of'), ('a', 'http://www.wikidata.org/prop/direct/P463'), ('bname', 'Société du Jing-lar'), ('b', 'http://www.wikidata.org/entity/Q25381687')]\n",
      "[('pname', 'on focus list of Wikimedia project'), ('a', 'http://www.wikidata.org/prop/direct/P5008'), ('bname', 'WikiProject PCC Wikidata Pilot/Frick Art Reference Library'), ('b', 'http://www.wikidata.org/entity/Q104694359')]\n",
      "[('pname', 'cause of death'), ('a', 'http://www.wikidata.org/prop/direct/P509'), ('bname', 'Lyme disease'), ('b', 'http://www.wikidata.org/entity/Q201989')]\n",
      "[('pname', 'has works in the collection'), ('a', 'http://www.wikidata.org/prop/direct/P6379'), ('bname', \"Musée des Beaux-Arts et de la Dentelle d'Alençon\"), ('b', 'http://www.wikidata.org/entity/Q3330234')]\n",
      "[('pname', 'has works in the collection'), ('a', 'http://www.wikidata.org/prop/direct/P6379'), ('bname', 'Fin-de-Siècle Museum'), ('b', 'http://www.wikidata.org/entity/Q17354571')]\n",
      "[('pname', 'has works in the collection'), ('a', 'http://www.wikidata.org/prop/direct/P6379'), ('bname', 'Musée des Beaux-Arts Tournai'), ('b', 'http://www.wikidata.org/entity/Q1778179')]\n",
      "[('pname', 'has works in the collection'), ('a', 'http://www.wikidata.org/prop/direct/P6379'), ('bname', 'The Phillips Collection'), ('b', 'http://www.wikidata.org/entity/Q578485')]\n",
      "[('pname', 'has works in the collection'), ('a', 'http://www.wikidata.org/prop/direct/P6379'), ('bname', 'Yamazaki Mazak Museum of Art'), ('b', 'http://www.wikidata.org/entity/Q11345132')]\n",
      "[('pname', 'has works in the collection'), ('a', 'http://www.wikidata.org/prop/direct/P6379'), ('bname', 'Smith College Museum of Art'), ('b', 'http://www.wikidata.org/entity/Q14715853')]\n",
      "[('pname', 'has works in the collection'), ('a', 'http://www.wikidata.org/prop/direct/P6379'), ('bname', 'Kreeger Museum'), ('b', 'http://www.wikidata.org/entity/Q1787100')]\n",
      "[('pname', 'has works in the collection'), ('a', 'http://www.wikidata.org/prop/direct/P6379'), ('bname', 'Museum of Grenoble'), ('b', 'http://www.wikidata.org/entity/Q1952944')]\n",
      "[('pname', 'has works in the collection'), ('a', 'http://www.wikidata.org/prop/direct/P6379'), ('bname', 'Ipswich Museum'), ('b', 'http://www.wikidata.org/entity/Q3329546')]\n",
      "[('pname', 'has works in the collection'), ('a', 'http://www.wikidata.org/prop/direct/P6379'), ('bname', 'Wadsworth Atheneum Museum of Art'), ('b', 'http://www.wikidata.org/entity/Q403080')]\n",
      "[('pname', 'has works in the collection'), ('a', 'http://www.wikidata.org/prop/direct/P6379'), ('bname', 'Chrysler Museum of Art'), ('b', 'http://www.wikidata.org/entity/Q5114675')]\n",
      "[('pname', 'has works in the collection'), ('a', 'http://www.wikidata.org/prop/direct/P6379'), ('bname', 'Des Moines Art Center'), ('b', 'http://www.wikidata.org/entity/Q5263501')]\n",
      "[('pname', 'has works in the collection'), ('a', 'http://www.wikidata.org/prop/direct/P6379'), ('bname', 'Dixon Gallery and Gardens'), ('b', 'http://www.wikidata.org/entity/Q5284947')]\n",
      "[('pname', 'has works in the collection'), ('a', 'http://www.wikidata.org/prop/direct/P6379'), ('bname', 'Museum der bildenden Künste'), ('b', 'http://www.wikidata.org/entity/Q566661')]\n",
      "[('pname', 'has works in the collection'), ('a', 'http://www.wikidata.org/prop/direct/P6379'), ('bname', 'Johannesburg Art Gallery'), ('b', 'http://www.wikidata.org/entity/Q6217142')]\n",
      "[('pname', 'has works in the collection'), ('a', 'http://www.wikidata.org/prop/direct/P6379'), ('bname', 'Kawamura Memorial DIC Museum of Art'), ('b', 'http://www.wikidata.org/entity/Q6379617')]\n",
      "[('pname', 'has works in the collection'), ('a', 'http://www.wikidata.org/prop/direct/P6379'), ('bname', 'Sheffield Galleries and Museums Trust'), ('b', 'http://www.wikidata.org/entity/Q7492669')]\n"
     ]
    },
    {
     "data": {
      "text/plain": [
       "50"
      ]
     },
     "execution_count": 29,
     "metadata": {},
     "output_type": "execute_result"
    }
   ],
   "source": [
    "#here i identify a city trougth the relationship with Henri Fantin-Latour \n",
    "queryString = \"\"\"\n",
    "SELECT DISTINCT ?pname ?a ?bname ?b\n",
    "WHERE { \n",
    "\n",
    "wd:Q310715 ?a ?b.\n",
    "\n",
    "\n",
    "?b <http://schema.org/name> ?bname.\n",
    "?a <http://schema.org/name> ?pname.\n",
    "} \n",
    "LIMIT 50\n",
    "\"\"\"\n",
    "\n",
    "print(\"Results\")\n",
    "run_query(queryString)"
   ]
  },
  {
   "cell_type": "code",
   "execution_count": 31,
   "id": "00a8447b-993d-4eb8-a952-9618c68167f9",
   "metadata": {},
   "outputs": [
    {
     "name": "stdout",
     "output_type": "stream",
     "text": [
      "Results\n",
      "[('pname', \"topic's main Wikimedia portal\"), ('a', 'http://www.wikidata.org/prop/direct/P1151'), ('bname', 'Portal:Grenoble Métropole'), ('b', 'http://www.wikidata.org/entity/Q15649944')]\n",
      "[('pname', 'located in the administrative territorial entity'), ('a', 'http://www.wikidata.org/prop/direct/P131'), ('bname', 'Isère'), ('b', 'http://www.wikidata.org/entity/Q12559')]\n",
      "[('pname', 'located in the administrative territorial entity'), ('a', 'http://www.wikidata.org/prop/direct/P131'), ('bname', 'arrondissement of Grenoble'), ('b', 'http://www.wikidata.org/entity/Q132224')]\n",
      "[('pname', 'located in the administrative territorial entity'), ('a', 'http://www.wikidata.org/prop/direct/P131'), ('bname', 'canton of Grenoble-5'), ('b', 'http://www.wikidata.org/entity/Q1725421')]\n",
      "[('pname', 'located in the administrative territorial entity'), ('a', 'http://www.wikidata.org/prop/direct/P131'), ('bname', 'canton of Grenoble-6'), ('b', 'http://www.wikidata.org/entity/Q1725423')]\n",
      "[('pname', 'office held by head of government'), ('a', 'http://www.wikidata.org/prop/direct/P1313'), ('bname', 'mayor of a place in France'), ('b', 'http://www.wikidata.org/entity/Q382617')]\n",
      "[('pname', 'office held by head of government'), ('a', 'http://www.wikidata.org/prop/direct/P1313'), ('bname', 'mayor of Grenoble'), ('b', 'http://www.wikidata.org/entity/Q62116884')]\n",
      "[('pname', 'described by source'), ('a', 'http://www.wikidata.org/prop/direct/P1343'), ('bname', 'Small Brockhaus and Efron Encyclopedic Dictionary'), ('b', 'http://www.wikidata.org/entity/Q19180675')]\n",
      "[('pname', 'described by source'), ('a', 'http://www.wikidata.org/prop/direct/P1343'), ('bname', 'Armenian Soviet Encyclopedia'), ('b', 'http://www.wikidata.org/entity/Q2657718')]\n",
      "[('pname', 'described by source'), ('a', 'http://www.wikidata.org/prop/direct/P1343'), ('bname', 'The Nuttall Encyclopædia'), ('b', 'http://www.wikidata.org/entity/Q3181656')]\n",
      "[('pname', 'described by source'), ('a', 'http://www.wikidata.org/prop/direct/P1343'), ('bname', 'Sytin Military Encyclopedia'), ('b', 'http://www.wikidata.org/entity/Q4114391')]\n",
      "[('pname', 'described by source'), ('a', 'http://www.wikidata.org/prop/direct/P1343'), ('bname', 'Jewish Encyclopedia of Brockhaus and Efron'), ('b', 'http://www.wikidata.org/entity/Q4173137')]\n",
      "[('pname', 'described by source'), ('a', 'http://www.wikidata.org/prop/direct/P1343'), ('bname', 'Brockhaus and Efron Encyclopedic Dictionary'), ('b', 'http://www.wikidata.org/entity/Q602358')]\n",
      "[('pname', 'capital of'), ('a', 'http://www.wikidata.org/prop/direct/P1376'), ('bname', 'canton of Grenoble-2'), ('b', 'http://www.wikidata.org/entity/Q1725411')]\n",
      "[('pname', 'capital of'), ('a', 'http://www.wikidata.org/prop/direct/P1376'), ('bname', 'Dauphiné'), ('b', 'http://www.wikidata.org/entity/Q151999')]\n",
      "[('pname', 'capital of'), ('a', 'http://www.wikidata.org/prop/direct/P1376'), ('bname', 'Isère'), ('b', 'http://www.wikidata.org/entity/Q12559')]\n",
      "[('pname', 'capital of'), ('a', 'http://www.wikidata.org/prop/direct/P1376'), ('bname', 'arrondissement of Grenoble'), ('b', 'http://www.wikidata.org/entity/Q132224')]\n",
      "[('pname', 'capital of'), ('a', 'http://www.wikidata.org/prop/direct/P1376'), ('bname', 'canton of Grenoble-1'), ('b', 'http://www.wikidata.org/entity/Q1556545')]\n",
      "[('pname', 'capital of'), ('a', 'http://www.wikidata.org/prop/direct/P1376'), ('bname', 'canton of Grenoble-3'), ('b', 'http://www.wikidata.org/entity/Q1725416')]\n",
      "[('pname', 'capital of'), ('a', 'http://www.wikidata.org/prop/direct/P1376'), ('bname', 'canton of Grenoble-4'), ('b', 'http://www.wikidata.org/entity/Q1725418')]\n",
      "[('pname', 'capital of'), ('a', 'http://www.wikidata.org/prop/direct/P1376'), ('bname', 'canton of Grenoble-5'), ('b', 'http://www.wikidata.org/entity/Q1725421')]\n",
      "[('pname', 'capital of'), ('a', 'http://www.wikidata.org/prop/direct/P1376'), ('bname', 'canton of Grenoble-6'), ('b', 'http://www.wikidata.org/entity/Q1725423')]\n",
      "[('pname', 'category for people born here'), ('a', 'http://www.wikidata.org/prop/direct/P1464'), ('bname', 'Category:Births in Grenoble'), ('b', 'http://www.wikidata.org/entity/Q8051365')]\n",
      "[('pname', 'category for people who died here'), ('a', 'http://www.wikidata.org/prop/direct/P1465'), ('bname', 'Category:Deaths in Grenoble'), ('b', 'http://www.wikidata.org/entity/Q9218535')]\n",
      "[('pname', 'award received'), ('a', 'http://www.wikidata.org/prop/direct/P166'), ('bname', 'Companion of the Liberation'), ('b', 'http://www.wikidata.org/entity/Q2990283')]\n",
      "[('pname', 'country'), ('a', 'http://www.wikidata.org/prop/direct/P17'), ('bname', 'France'), ('b', 'http://www.wikidata.org/entity/Q142')]\n",
      "[('pname', 'category for films shot at this location'), ('a', 'http://www.wikidata.org/prop/direct/P1740'), ('bname', 'Category:Films shot in Grenoble'), ('b', 'http://www.wikidata.org/entity/Q19363098')]\n",
      "[('pname', 'category of associated people'), ('a', 'http://www.wikidata.org/prop/direct/P1792'), ('bname', 'Category:People from Grenoble'), ('b', 'http://www.wikidata.org/entity/Q8792159')]\n",
      "[('pname', 'twinned administrative body'), ('a', 'http://www.wikidata.org/prop/direct/P190'), ('bname', 'Constantine'), ('b', 'http://www.wikidata.org/entity/Q187346')]\n",
      "[('pname', 'twinned administrative body'), ('a', 'http://www.wikidata.org/prop/direct/P190'), ('bname', 'Pécs'), ('b', 'http://www.wikidata.org/entity/Q45779')]\n",
      "[('pname', 'twinned administrative body'), ('a', 'http://www.wikidata.org/prop/direct/P190'), ('bname', 'Stendal'), ('b', 'http://www.wikidata.org/entity/Q7082')]\n",
      "[('pname', 'twinned administrative body'), ('a', 'http://www.wikidata.org/prop/direct/P190'), ('bname', 'Sfax'), ('b', 'http://www.wikidata.org/entity/Q46325')]\n",
      "[('pname', 'twinned administrative body'), ('a', 'http://www.wikidata.org/prop/direct/P190'), ('bname', 'Rehovot'), ('b', 'http://www.wikidata.org/entity/Q207350')]\n",
      "[('pname', 'twinned administrative body'), ('a', 'http://www.wikidata.org/prop/direct/P190'), ('bname', 'Irkutsk'), ('b', 'http://www.wikidata.org/entity/Q6576')]\n",
      "[('pname', 'twinned administrative body'), ('a', 'http://www.wikidata.org/prop/direct/P190'), ('bname', 'Innsbruck'), ('b', 'http://www.wikidata.org/entity/Q1735')]\n",
      "[('pname', 'twinned administrative body'), ('a', 'http://www.wikidata.org/prop/direct/P190'), ('bname', 'Essen'), ('b', 'http://www.wikidata.org/entity/Q2066')]\n",
      "[('pname', 'twinned administrative body'), ('a', 'http://www.wikidata.org/prop/direct/P190'), ('bname', 'Chișinău'), ('b', 'http://www.wikidata.org/entity/Q21197')]\n",
      "[('pname', 'twinned administrative body'), ('a', 'http://www.wikidata.org/prop/direct/P190'), ('bname', 'Oxford'), ('b', 'http://www.wikidata.org/entity/Q34217')]\n",
      "[('pname', 'twinned administrative body'), ('a', 'http://www.wikidata.org/prop/direct/P190'), ('bname', 'Kaunas'), ('b', 'http://www.wikidata.org/entity/Q4115712')]\n",
      "[('pname', 'twinned administrative body'), ('a', 'http://www.wikidata.org/prop/direct/P190'), ('bname', 'Suzhou'), ('b', 'http://www.wikidata.org/entity/Q42622')]\n",
      "[('pname', 'twinned administrative body'), ('a', 'http://www.wikidata.org/prop/direct/P190'), ('bname', 'Bethlehem'), ('b', 'http://www.wikidata.org/entity/Q5776')]\n",
      "[('pname', 'twinned administrative body'), ('a', 'http://www.wikidata.org/prop/direct/P190'), ('bname', 'Cairo'), ('b', 'http://www.wikidata.org/entity/Q85')]\n",
      "[('pname', 'twinned administrative body'), ('a', 'http://www.wikidata.org/prop/direct/P190'), ('bname', 'Phoenix'), ('b', 'http://www.wikidata.org/entity/Q16556')]\n",
      "[('pname', 'twinned administrative body'), ('a', 'http://www.wikidata.org/prop/direct/P190'), ('bname', 'Catania'), ('b', 'http://www.wikidata.org/entity/Q1903')]\n",
      "[('pname', 'twinned administrative body'), ('a', 'http://www.wikidata.org/prop/direct/P190'), ('bname', 'Tsukuba'), ('b', 'http://www.wikidata.org/entity/Q273863')]\n",
      "[('pname', 'twinned administrative body'), ('a', 'http://www.wikidata.org/prop/direct/P190'), ('bname', 'Corato'), ('b', 'http://www.wikidata.org/entity/Q51826')]\n",
      "[('pname', 'twinned administrative body'), ('a', 'http://www.wikidata.org/prop/direct/P190'), ('bname', 'Halle (Saale)'), ('b', 'http://www.wikidata.org/entity/Q2814')]\n",
      "[('pname', 'twinned administrative body'), ('a', 'http://www.wikidata.org/prop/direct/P190'), ('bname', 'Ouagadougou'), ('b', 'http://www.wikidata.org/entity/Q3777')]\n",
      "[('pname', 'located in or next to body of water'), ('a', 'http://www.wikidata.org/prop/direct/P206'), ('bname', 'Isère'), ('b', 'http://www.wikidata.org/entity/Q201341')]\n",
      "[('pname', 'located in or next to body of water'), ('a', 'http://www.wikidata.org/prop/direct/P206'), ('bname', 'Drac'), ('b', 'http://www.wikidata.org/entity/Q1127096')]\n",
      "[('pname', 'instance of'), ('a', 'http://www.wikidata.org/prop/direct/P31'), ('bname', 'big city'), ('b', 'http://www.wikidata.org/entity/Q1549591')]\n",
      "[('pname', 'instance of'), ('a', 'http://www.wikidata.org/prop/direct/P31'), ('bname', 'commune of France'), ('b', 'http://www.wikidata.org/entity/Q484170')]\n",
      "[('pname', 'located in time zone'), ('a', 'http://www.wikidata.org/prop/direct/P421'), ('bname', 'Central European Time'), ('b', 'http://www.wikidata.org/entity/Q25989')]\n",
      "[('pname', 'located in time zone'), ('a', 'http://www.wikidata.org/prop/direct/P421'), ('bname', 'UTC+01:00'), ('b', 'http://www.wikidata.org/entity/Q6655')]\n",
      "[('pname', 'located in time zone'), ('a', 'http://www.wikidata.org/prop/direct/P421'), ('bname', 'UTC+02:00'), ('b', 'http://www.wikidata.org/entity/Q6723')]\n",
      "[('pname', 'shares border with'), ('a', 'http://www.wikidata.org/prop/direct/P47'), ('bname', 'Fontaine'), ('b', 'http://www.wikidata.org/entity/Q838235')]\n",
      "[('pname', 'shares border with'), ('a', 'http://www.wikidata.org/prop/direct/P47'), ('bname', 'Seyssinet-Pariset'), ('b', 'http://www.wikidata.org/entity/Q1081604')]\n",
      "[('pname', 'shares border with'), ('a', 'http://www.wikidata.org/prop/direct/P47'), ('bname', 'Sassenage'), ('b', 'http://www.wikidata.org/entity/Q694818')]\n",
      "[('pname', 'shares border with'), ('a', 'http://www.wikidata.org/prop/direct/P47'), ('bname', 'Échirolles'), ('b', 'http://www.wikidata.org/entity/Q211134')]\n",
      "[('pname', 'shares border with'), ('a', 'http://www.wikidata.org/prop/direct/P47'), ('bname', 'Saint-Égrève'), ('b', 'http://www.wikidata.org/entity/Q1069745')]\n",
      "[('pname', 'shares border with'), ('a', 'http://www.wikidata.org/prop/direct/P47'), ('bname', 'Saint-Martin-le-Vinoux'), ('b', 'http://www.wikidata.org/entity/Q687967')]\n",
      "[('pname', 'shares border with'), ('a', 'http://www.wikidata.org/prop/direct/P47'), ('bname', 'Eybens'), ('b', 'http://www.wikidata.org/entity/Q1002915')]\n",
      "[('pname', 'shares border with'), ('a', 'http://www.wikidata.org/prop/direct/P47'), ('bname', 'La Tronche'), ('b', 'http://www.wikidata.org/entity/Q1017260')]\n",
      "[('pname', 'shares border with'), ('a', 'http://www.wikidata.org/prop/direct/P47'), ('bname', \"Saint-Martin-d'Hères\"), ('b', 'http://www.wikidata.org/entity/Q243868')]\n",
      "[('pname', 'shares border with'), ('a', 'http://www.wikidata.org/prop/direct/P47'), ('bname', 'Seyssins'), ('b', 'http://www.wikidata.org/entity/Q594785')]\n",
      "[('pname', 'archives at'), ('a', 'http://www.wikidata.org/prop/direct/P485'), ('bname', 'archives municipales et métropolitaine de Grenoble'), ('b', 'http://www.wikidata.org/entity/Q62070442')]\n",
      "[('pname', 'head of government'), ('a', 'http://www.wikidata.org/prop/direct/P6'), ('bname', 'Éric Piolle'), ('b', 'http://www.wikidata.org/entity/Q16007948')]\n",
      "[('pname', 'category for maps'), ('a', 'http://www.wikidata.org/prop/direct/P7867'), ('bname', 'Category:Maps of Grenoble'), ('b', 'http://www.wikidata.org/entity/Q84050400')]\n",
      "[('pname', 'open data portal'), ('a', 'http://www.wikidata.org/prop/direct/P8402'), ('bname', 'Data Grenoble Métropole'), ('b', 'http://www.wikidata.org/entity/Q97289454')]\n",
      "[('pname', 'category for the view of the item'), ('a', 'http://www.wikidata.org/prop/direct/P8989'), ('bname', 'Category:Views of Grenoble'), ('b', 'http://www.wikidata.org/entity/Q104600916')]\n",
      "[('pname', \"topic's main category\"), ('a', 'http://www.wikidata.org/prop/direct/P910'), ('bname', 'Category:Grenoble'), ('b', 'http://www.wikidata.org/entity/Q7256210')]\n"
     ]
    },
    {
     "data": {
      "text/plain": [
       "71"
      ]
     },
     "execution_count": 31,
     "metadata": {},
     "output_type": "execute_result"
    }
   ],
   "source": [
    "#here i get all the relationship with greenoble\n",
    "queryString = \"\"\"\n",
    "SELECT DISTINCT ?pname ?a ?bname ?b\n",
    "WHERE { \n",
    "\n",
    "wd:Q1289 ?a ?b.\n",
    "\n",
    "\n",
    "?b <http://schema.org/name> ?bname.\n",
    "?a <http://schema.org/name> ?pname.\n",
    "} \n",
    "LIMIT 100\n",
    "\"\"\"\n",
    "\n",
    "print(\"Results\")\n",
    "run_query(queryString)"
   ]
  },
  {
   "cell_type": "code",
   "execution_count": 32,
   "id": "3c27b099-483b-4912-8b9b-34acf2a24d75",
   "metadata": {},
   "outputs": [
    {
     "name": "stdout",
     "output_type": "stream",
     "text": [
      "Results\n",
      "[('pname', 'next lower rank'), ('a', 'http://www.wikidata.org/prop/direct/P3729'), ('bname', 'town'), ('b', 'http://www.wikidata.org/entity/Q3957')]\n",
      "[('pname', 'has quality'), ('a', 'http://www.wikidata.org/prop/direct/P1552'), ('bname', 'minimum population'), ('b', 'http://www.wikidata.org/entity/Q51706937')]\n",
      "[('pname', 'subclass of'), ('a', 'http://www.wikidata.org/prop/direct/P279'), ('bname', 'city'), ('b', 'http://www.wikidata.org/entity/Q515')]\n",
      "[('pname', \"topic's main category\"), ('a', 'http://www.wikidata.org/prop/direct/P910'), ('bname', 'Category:Big cities'), ('b', 'http://www.wikidata.org/entity/Q9823231')]\n",
      "[('pname', 'next higher rank'), ('a', 'http://www.wikidata.org/prop/direct/P3730'), ('bname', 'million city'), ('b', 'http://www.wikidata.org/entity/Q1637706')]\n"
     ]
    },
    {
     "data": {
      "text/plain": [
       "5"
      ]
     },
     "execution_count": 32,
     "metadata": {},
     "output_type": "execute_result"
    }
   ],
   "source": [
    "#here i get all the relationship with big city Q1549591 found in the query above\n",
    "queryString = \"\"\"\n",
    "SELECT DISTINCT ?pname ?a ?bname ?b\n",
    "WHERE { \n",
    "\n",
    "wd:Q1549591 ?a ?b.\n",
    "\n",
    "\n",
    "?b <http://schema.org/name> ?bname.\n",
    "?a <http://schema.org/name> ?pname.\n",
    "} \n",
    "LIMIT 100\n",
    "\"\"\"\n",
    "\n",
    "print(\"Results\")\n",
    "run_query(queryString)"
   ]
  },
  {
   "cell_type": "code",
   "execution_count": null,
   "id": "4f0a50e4-95a2-453e-9a73-21eb81b922a5",
   "metadata": {},
   "outputs": [],
   "source": [
    "#now i get the iri of city Q515"
   ]
  },
  {
   "cell_type": "code",
   "execution_count": 33,
   "id": "c2fa9fd7-8c11-44c2-be4d-8e731d42ec22",
   "metadata": {},
   "outputs": [
    {
     "name": "stdout",
     "output_type": "stream",
     "text": [
      "Results\n",
      "[('burial', 'http://www.wikidata.org/entity/Q1170765'), ('birth', 'http://www.wikidata.org/entity/Q1170765'), ('bname', 'Véretz'), ('buname', 'Véretz')]\n",
      "[('burial', 'http://www.wikidata.org/entity/Q275438'), ('birth', 'http://www.wikidata.org/entity/Q275438'), ('bname', 'Argenton-sur-Creuse'), ('buname', 'Argenton-sur-Creuse')]\n",
      "[('burial', 'http://www.wikidata.org/entity/Q815838'), ('birth', 'http://www.wikidata.org/entity/Q815838'), ('bname', 'Belle Île'), ('buname', 'Belle Île')]\n",
      "[('burial', 'http://www.wikidata.org/entity/Q202368'), ('birth', 'http://www.wikidata.org/entity/Q202368'), ('bname', 'Morlaix'), ('buname', 'Morlaix')]\n",
      "[('burial', 'http://www.wikidata.org/entity/Q209093'), ('birth', 'http://www.wikidata.org/entity/Q209093'), ('bname', 'Bar-sur-Aube'), ('buname', 'Bar-sur-Aube')]\n",
      "[('burial', 'http://www.wikidata.org/entity/Q209776'), ('birth', 'http://www.wikidata.org/entity/Q209776'), ('bname', 'Coadout'), ('buname', 'Coadout')]\n",
      "[('burial', 'http://www.wikidata.org/entity/Q747799'), ('birth', 'http://www.wikidata.org/entity/Q747799'), ('bname', 'Verrières-le-Buisson'), ('buname', 'Verrières-le-Buisson')]\n",
      "[('burial', 'http://www.wikidata.org/entity/Q248708'), ('birth', 'http://www.wikidata.org/entity/Q248708'), ('bname', 'Moulins-sur-Orne'), ('buname', 'Moulins-sur-Orne')]\n",
      "[('burial', 'http://www.wikidata.org/entity/Q12193'), ('birth', 'http://www.wikidata.org/entity/Q12193'), ('bname', 'Brest'), ('buname', 'Brest')]\n",
      "[('burial', 'http://www.wikidata.org/entity/Q8848'), ('birth', 'http://www.wikidata.org/entity/Q8848'), ('bname', 'Valence'), ('buname', 'Valence')]\n",
      "[('burial', 'http://www.wikidata.org/entity/Q167600'), ('birth', 'http://www.wikidata.org/entity/Q167600'), ('bname', 'Auxerre'), ('buname', 'Auxerre')]\n",
      "[('burial', 'http://www.wikidata.org/entity/Q659969'), ('birth', 'http://www.wikidata.org/entity/Q659969'), ('bname', 'Mirecourt'), ('buname', 'Mirecourt')]\n",
      "[('burial', 'http://www.wikidata.org/entity/Q212962'), ('birth', 'http://www.wikidata.org/entity/Q212962'), ('bname', 'Ainhoa'), ('buname', 'Ainhoa')]\n",
      "[('burial', 'http://www.wikidata.org/entity/Q223186'), ('birth', 'http://www.wikidata.org/entity/Q223186'), ('bname', 'Cérilly'), ('buname', 'Cérilly')]\n",
      "[('burial', 'http://www.wikidata.org/entity/Q184371'), ('birth', 'http://www.wikidata.org/entity/Q184371'), ('bname', 'Sedan'), ('buname', 'Sedan')]\n",
      "[('burial', 'http://www.wikidata.org/entity/Q456327'), ('birth', 'http://www.wikidata.org/entity/Q456327'), ('bname', \"Ville-d'Avray\"), ('buname', \"Ville-d'Avray\")]\n",
      "[('burial', 'http://www.wikidata.org/entity/Q120161'), ('birth', 'http://www.wikidata.org/entity/Q120161'), ('bname', 'Saint-Florent-le-Vieil'), ('buname', 'Saint-Florent-le-Vieil')]\n",
      "[('burial', 'http://www.wikidata.org/entity/Q271085'), ('birth', 'http://www.wikidata.org/entity/Q271085'), ('bname', 'Sisteron'), ('buname', 'Sisteron')]\n",
      "[('burial', 'http://www.wikidata.org/entity/Q668199'), ('birth', 'http://www.wikidata.org/entity/Q668199'), ('bname', 'Saint-Sauveur-le-Vicomte'), ('buname', 'Saint-Sauveur-le-Vicomte')]\n",
      "[('burial', 'http://www.wikidata.org/entity/Q2973'), ('birth', 'http://www.wikidata.org/entity/Q2973'), ('bname', 'Darmstadt'), ('buname', 'Darmstadt')]\n",
      "[('burial', 'http://www.wikidata.org/entity/Q82724'), ('birth', 'http://www.wikidata.org/entity/Q82724'), ('bname', 'Messkirch'), ('buname', 'Messkirch')]\n",
      "[('burial', 'http://www.wikidata.org/entity/Q638537'), ('birth', 'http://www.wikidata.org/entity/Q638537'), ('bname', 'Burg (Spreewald)'), ('buname', 'Burg (Spreewald)')]\n"
     ]
    },
    {
     "data": {
      "text/plain": [
       "22"
      ]
     },
     "execution_count": 33,
     "metadata": {},
     "output_type": "execute_result"
    }
   ],
   "source": [
    "# Is there any poet for which the birth place and the place of burial are located in the same city either in Germany or France\n",
    "\n",
    "queryString = \"\"\"\n",
    "SELECT DISTINCT ?burial ?birth ?bname ?buname\n",
    "WHERE {\n",
    "\n",
    "{\n",
    "?burial wdt:P17 wd:Q142.\n",
    "?nameF wdt:P119 ?burial. \n",
    "?birth wdt:P17 wd:Q142.\n",
    "?nameF wdt:P19 ?birth. \n",
    "?nameF wdt:P106 wd:Q49757 .\n",
    "\n",
    "?burial <http://schema.org/name> ?buname.\n",
    "?birth <http://schema.org/name> ?bname.\n",
    "\n",
    "}\n",
    "\n",
    "UNION\n",
    "{\n",
    "\n",
    "\n",
    "\n",
    "?burial wdt:P17 wd:Q183.\n",
    "?nameF wdt:P119 ?burial. \n",
    "?birth wdt:P17 wd:Q183.\n",
    "?nameF wdt:P19 ?birth. \n",
    "?nameF wdt:P106 wd:Q49757 .\n",
    "\n",
    "?burial <http://schema.org/name> ?buname.\n",
    "?birth <http://schema.org/name> ?bname.\n",
    "\n",
    "\n",
    "\n",
    "\n",
    "}\n",
    "\n",
    "FILTER(?birth=?burial)\n",
    "}\n",
    "\n",
    "\"\"\"\n",
    "\n",
    "print(\"Results\")\n",
    "run_query(queryString)\n",
    "\n",
    "\n",
    "\n",
    "\n",
    "\n",
    "\n",
    "\n",
    "\n",
    "\n"
   ]
  },
  {
   "cell_type": "code",
   "execution_count": null,
   "id": "a0c31eaa-fce9-468d-9812-19f65cfbaafb",
   "metadata": {},
   "outputs": [],
   "source": [
    "#i found that there exist some poet with the same place of burial and birth in most cases this place is a city so the answer is yes"
   ]
  },
  {
   "cell_type": "code",
   "execution_count": null,
   "id": "1be06b81-bb20-4ebc-950b-d36c64b2cfd3",
   "metadata": {},
   "outputs": [],
   "source": [
    "\n",
    "    \n",
    "    \n",
    "    \n",
    "    "
   ]
  },
  {
   "cell_type": "code",
   "execution_count": 6,
   "id": "2ec4089c-09a2-4c6b-bb39-8e548fa4a8ff",
   "metadata": {},
   "outputs": [
    {
     "name": "stdout",
     "output_type": "stream",
     "text": [
      "Results\n",
      "[('numero', '2482'), ('city', 'http://www.wikidata.org/entity/Q90')]\n",
      "[('numero', '1904'), ('city', 'http://www.wikidata.org/entity/Q64')]\n",
      "[('numero', '846'), ('city', 'http://www.wikidata.org/entity/Q1055')]\n",
      "[('numero', '771'), ('city', 'http://www.wikidata.org/entity/Q1726')]\n",
      "[('numero', '458'), ('city', 'http://www.wikidata.org/entity/Q2079')]\n",
      "[('numero', '436'), ('city', 'http://www.wikidata.org/entity/Q365')]\n",
      "[('numero', '420'), ('city', 'http://www.wikidata.org/entity/Q1794')]\n",
      "[('numero', '372'), ('city', 'http://www.wikidata.org/entity/Q1022')]\n",
      "[('numero', '365'), ('city', 'http://www.wikidata.org/entity/Q1731')]\n",
      "[('numero', '310'), ('city', 'http://www.wikidata.org/entity/Q1715')]\n",
      "[('numero', '255'), ('city', 'http://www.wikidata.org/entity/Q456')]\n",
      "[('numero', '255'), ('city', 'http://www.wikidata.org/entity/Q23482')]\n",
      "[('numero', '254'), ('city', 'http://www.wikidata.org/entity/Q1718')]\n",
      "[('numero', '231'), ('city', 'http://www.wikidata.org/entity/Q2090')]\n",
      "[('numero', '184'), ('city', 'http://www.wikidata.org/entity/Q6602')]\n",
      "[('numero', '177'), ('city', 'http://www.wikidata.org/entity/Q586')]\n",
      "[('numero', '176'), ('city', 'http://www.wikidata.org/entity/Q2066')]\n",
      "[('numero', '175'), ('city', 'http://www.wikidata.org/entity/Q1479')]\n",
      "[('numero', '162'), ('city', 'http://www.wikidata.org/entity/Q1733')]\n",
      "[('numero', '155'), ('city', 'http://www.wikidata.org/entity/Q2773')]\n"
     ]
    },
    {
     "data": {
      "text/plain": [
       "20"
      ]
     },
     "execution_count": 6,
     "metadata": {},
     "output_type": "execute_result"
    }
   ],
   "source": [
    "#Which cities host the place of birth of the larger number of poets or writers across the two countries\n",
    "\n",
    "queryString = \"\"\"\n",
    "SELECT DISTINCT COUNT(distinct ?nameF) AS ?numero ?place AS ?city\n",
    "{\n",
    "SELECT DISTINCT ?nameF ?place\n",
    "WHERE {\n",
    "{\n",
    "?place wdt:P17 wd:Q142.\n",
    "?nameF wdt:P19 ?place . \n",
    "?nameF wdt:P106 wd:Q36180 .\n",
    "\n",
    "?nameF <http://schema.org/name> ?pname.\n",
    "\n",
    "\n",
    "}\n",
    "UNION\n",
    "{\n",
    "\n",
    "?place wdt:P17 wd:Q142.\n",
    "?nameF wdt:P19 ?place . \n",
    "?nameF wdt:P106 wd:Q49757 .\n",
    "\n",
    "?nameF <http://schema.org/name> ?pname.\n",
    "\n",
    "}\n",
    "UNION\n",
    "{\n",
    "?place wdt:P17 wd:Q183.\n",
    "?nameF wdt:P19 ?place . \n",
    "?nameF wdt:P106 wd:Q36180 .\n",
    "\n",
    "?nameF <http://schema.org/name> ?pname.\n",
    "\n",
    "\n",
    "}\n",
    "UNION\n",
    "{\n",
    "\n",
    "?place wdt:P17 wd:Q183.\n",
    "?nameF wdt:P19 ?place .\n",
    "?nameF wdt:P106 wd:Q49757 .\n",
    "\n",
    "?nameF <http://schema.org/name> ?pname.\n",
    "\n",
    "}\n",
    "\n",
    "}\n",
    "}GROUP BY ?place\n",
    "ORDER BY DESC(?numero)\n",
    "LIMIT 20\n",
    "\"\"\"\n",
    "\n",
    "print(\"Results\")\n",
    "run_query(queryString)"
   ]
  },
  {
   "cell_type": "code",
   "execution_count": null,
   "id": "527f1885-b642-4268-9374-9048ae0581f7",
   "metadata": {},
   "outputs": [],
   "source": [
    "#What are the top 3 cities in each country that you could visit? Based on what criteria? "
   ]
  },
  {
   "cell_type": "code",
   "execution_count": 43,
   "id": "b5452e51-aaa1-483e-a573-bdc469d2313f",
   "metadata": {},
   "outputs": [
    {
     "name": "stdout",
     "output_type": "stream",
     "text": [
      "Results\n",
      "[('numero', '2482'), ('city', 'http://www.wikidata.org/entity/Q90')]\n",
      "[('numero', '255'), ('city', 'http://www.wikidata.org/entity/Q23482')]\n",
      "[('numero', '255'), ('city', 'http://www.wikidata.org/entity/Q456')]\n"
     ]
    },
    {
     "data": {
      "text/plain": [
       "3"
      ]
     },
     "execution_count": 43,
     "metadata": {},
     "output_type": "execute_result"
    }
   ],
   "source": [
    "#based on the writers/poets who where born in these city i found the top 3 city in france:\n",
    "\n",
    "queryString = \"\"\"\n",
    "SELECT DISTINCT COUNT(?nameF) AS ?numero ?place AS ?city\n",
    "{\n",
    "SELECT DISTINCT ?nameF ?place\n",
    "WHERE {\n",
    "{\n",
    "?place wdt:P17 wd:Q142.\n",
    "?nameF wdt:P19 ?place . \n",
    "?nameF wdt:P106 wd:Q36180 .\n",
    "\n",
    "?nameF <http://schema.org/name> ?pname.\n",
    "\n",
    "\n",
    "}\n",
    "UNION\n",
    "{\n",
    "\n",
    "?place wdt:P17 wd:Q142.\n",
    "?nameF wdt:P19 ?place . \n",
    "?nameF wdt:P106 wd:Q49757 .\n",
    "\n",
    "?nameF <http://schema.org/name> ?pname.\n",
    "\n",
    "}\n",
    "\n",
    "\n",
    "}\n",
    "}GROUP BY ?place\n",
    "ORDER BY DESC(?numero)\n",
    "LIMIT 3\n",
    "\"\"\"\n",
    "\n",
    "print(\"Results\")\n",
    "run_query(queryString)"
   ]
  },
  {
   "cell_type": "code",
   "execution_count": 45,
   "id": "1de9b981-99ac-4661-a700-8d41aa0dc719",
   "metadata": {},
   "outputs": [
    {
     "name": "stdout",
     "output_type": "stream",
     "text": [
      "Results\n",
      "[('numero', '1904'), ('city', 'http://www.wikidata.org/entity/Q64')]\n",
      "[('numero', '846'), ('city', 'http://www.wikidata.org/entity/Q1055')]\n",
      "[('numero', '771'), ('city', 'http://www.wikidata.org/entity/Q1726')]\n"
     ]
    },
    {
     "data": {
      "text/plain": [
       "3"
      ]
     },
     "execution_count": 45,
     "metadata": {},
     "output_type": "execute_result"
    }
   ],
   "source": [
    "#based on the writers/poets who where born in these city i found the top 3 city in Germany:\n",
    "queryString = \"\"\"\n",
    "SELECT DISTINCT COUNT(?nameF) AS ?numero ?place AS ?city\n",
    "{\n",
    "SELECT DISTINCT ?nameF ?place\n",
    "WHERE {\n",
    "\n",
    "{\n",
    "?place wdt:P17 wd:Q183.\n",
    "?nameF wdt:P19 ?place . \n",
    "?nameF wdt:P106 wd:Q36180 .\n",
    "\n",
    "?nameF <http://schema.org/name> ?pname.\n",
    "\n",
    "\n",
    "}\n",
    "UNION\n",
    "{\n",
    "\n",
    "?place wdt:P17 wd:Q183.\n",
    "?nameF wdt:P19 ?place .\n",
    "?nameF wdt:P106 wd:Q49757 .\n",
    "\n",
    "?nameF <http://schema.org/name> ?pname.\n",
    "\n",
    "}\n",
    "\n",
    "}\n",
    "}GROUP BY ?place\n",
    "ORDER BY DESC(?numero)\n",
    "LIMIT 3\n",
    "\"\"\"\n",
    "\n",
    "print(\"Results\")\n",
    "run_query(queryString)"
   ]
  },
  {
   "cell_type": "code",
   "execution_count": null,
   "id": "be2f7d6d-264a-4429-8616-bd242e65bc0a",
   "metadata": {},
   "outputs": [],
   "source": []
  }
 ],
 "metadata": {
  "kernelspec": {
   "display_name": "Python 3",
   "language": "python",
   "name": "python3"
  },
  "language_info": {
   "codemirror_mode": {
    "name": "ipython",
    "version": 3
   },
   "file_extension": ".py",
   "mimetype": "text/x-python",
   "name": "python",
   "nbconvert_exporter": "python",
   "pygments_lexer": "ipython3",
   "version": "3.7.10"
  }
 },
 "nbformat": 4,
 "nbformat_minor": 5
}
