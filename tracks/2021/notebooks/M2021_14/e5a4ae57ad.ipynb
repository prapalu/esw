{
 "cells": [
  {
   "cell_type": "markdown",
   "id": "7034c3bf-6eb0-4418-8687-7b9d2a501103",
   "metadata": {},
   "source": [
    "# General instructions\n",
    "\n",
    "The goal of the project is to materialize a set of **exploratory workloads** over a real-world, large-scale,  open-domain KG: [WikiData](https://www.wikidata.org/wiki/Wikidata:Main_Page)\n",
    "\n",
    "An exploratory workload  is composed by a set of queries, where each query is related to the information obtained previously.\n",
    "\n",
    "An exploratory workload starts with a usually vague, open ended question, and does not assume the person issuing the workload has a clear understanding of the data contained in the target database or its structure.\n",
    "\n",
    "Remeber that:\n",
    "\n",
    "1. All the queries must run in the python notebook\n",
    "2. You can use classes and properties only if you find them via a SPARQL query that must be present in the notebook\n",
    "3. You do not delete useless queries. Keep everything that is synthatically valid \n",
    "\n",
    "```\n",
    "?p sc:name ?name .\n",
    "```\n",
    "    \n",
    "is the BGP returning a human-readable name of a property or a class in Wikidata.\n",
    "    \n",
    "    "
   ]
  },
  {
   "cell_type": "code",
   "execution_count": 1,
   "id": "3605c9d5-5371-49a5-be8d-d66e8f417139",
   "metadata": {},
   "outputs": [],
   "source": [
    "## SETUP used later\n",
    "\n",
    "from SPARQLWrapper import SPARQLWrapper, JSON\n",
    "\n",
    "\n",
    "prefixString = \"\"\"\n",
    "##-e5a4ae57ad-##\n",
    "PREFIX wd: <http://www.wikidata.org/entity/> \n",
    "PREFIX wdt: <http://www.wikidata.org/prop/direct/> \n",
    "PREFIX sc: <http://schema.org/>\n",
    "\"\"\"\n",
    "\n",
    "# select and construct queries\n",
    "def run_query(queryString):\n",
    "    to_run = prefixString + \"\\n\" + queryString\n",
    "\n",
    "    sparql = SPARQLWrapper(\"http://a256-gc1-02.srv.aau.dk:5820/sparql\")\n",
    "    sparql.setTimeout(300)\n",
    "    sparql.setReturnFormat(JSON)\n",
    "    sparql.setQuery(to_run)\n",
    "\n",
    "    try :\n",
    "       results = sparql.query()\n",
    "       json_results = results.convert()\n",
    "       if len(json_results['results']['bindings'])==0:\n",
    "          print(\"Empty\")\n",
    "          return 0\n",
    "    \n",
    "       for bindings in json_results['results']['bindings']:\n",
    "          print( [ (var, value['value'])  for var, value in bindings.items() ] )\n",
    "\n",
    "       return len(json_results['results']['bindings'])\n",
    "\n",
    "    except Exception as e :\n",
    "        print(\"The operation failed\", e)\n",
    "    \n",
    "# ASk queries\n",
    "def run_ask_query(queryString):\n",
    "    to_run = prefixString + \"\\n\" + queryString\n",
    "\n",
    "    sparql = SPARQLWrapper(\"http://a256-gc1-02.srv.aau.dk:5820/sparql\")\n",
    "    sparql.setTimeout(300)\n",
    "    sparql.setReturnFormat(JSON)\n",
    "    sparql.setQuery(to_run)\n",
    "\n",
    "    try :\n",
    "        return sparql.query().convert()\n",
    "\n",
    "    except Exception as e :\n",
    "        print(\"The operation failed\", e)\n"
   ]
  },
  {
   "cell_type": "markdown",
   "id": "d477a59c-a68c-4c8f-9f97-8ca5294d7d27",
   "metadata": {},
   "source": [
    "# Companies Workflow Series (\"IT Companies explorative search\") \n",
    "\n",
    "Consider the following exploratory information need:\n",
    "\n",
    "> Compare companies across different sectors in U.K., U.S., and Canada, consider number of employees, companies owned or acquired, and revenue or assets"
   ]
  },
  {
   "cell_type": "markdown",
   "id": "4a45c0ba-f79e-441d-bec5-84401b09db70",
   "metadata": {},
   "source": [
    "## Useful URIs for the current workflow\n",
    "\n",
    "\n",
    "The following are given:\n",
    "\n",
    "| IRI           | Description   | Role      |\n",
    "| -----------   | -----------   |-----------|\n",
    "| `wdt:P1647`   | subproperty   | predicate |\n",
    "| `wdt:P31`     | instance of   | predicate |\n",
    "| `wdt:P279`    | subclass      | predicate |\n",
    "| `wdt:P17`      | country       | predicate |\n",
    "| `wd:Q4830453`  | Business      | node      |\n",
    "| `wd:Q13977`    | Bloomberg L.P.| node |\n",
    "| `wd:Q502121`   | BlackBerry    | node |\n",
    "| `wd:Q16`        | Canada        | node |\n",
    "| `wd:Q145`      | U.K.          | node |\n",
    "| `wd:Q30`       | U.S.A.        | node |\n",
    "\n",
    "\n",
    "Also consider\n",
    "\n",
    "```\n",
    "?p wdt:P17 wd:Q16  . \n",
    "?p wdt:P31 wd:Q4830453  . \n",
    "```\n",
    "\n",
    "is the BGP to retrieve all **canadian businesses**"
   ]
  },
  {
   "cell_type": "markdown",
   "id": "7af439fb-96e4-4dbb-a381-f19afab79f86",
   "metadata": {
    "tags": []
   },
   "source": [
    "## Workload Goals\n",
    "\n",
    "1. Identify the BGP for obtaining number of employees of a company and other relevant numerical attributes\n",
    "\n",
    "2. Identify the BGP to retrieve all companies owned by a company\n",
    "\n",
    "3. Is there some company that owns companies in other countries?\n",
    "\n",
    "4. Companies have different 'legal forms', compare the number of companies divided in different legal forms\n",
    "\n",
    "5. Analyze the number of employees  and other relevant numeric attributes\n",
    " \n",
    "   5.1 What are the top-10 companies for a given attribute?\n",
    "   \n",
    "   5.2 For which companies is defined some form of income or market capitalization or total assets? What is the min, max, and average in each category and country?\n",
    "   \n",
    "   5.3 Which business in each country owns more businesses in other countries?\n"
   ]
  },
  {
   "cell_type": "code",
   "execution_count": 2,
   "id": "24a853ab-830c-422c-afd3-e9e015b8b8ed",
   "metadata": {},
   "outputs": [],
   "source": [
    "# start your workflow here"
   ]
  },
  {
   "cell_type": "code",
   "execution_count": 4,
   "id": "ade01416-92e7-4ad7-b9a9-b8fb330750dc",
   "metadata": {},
   "outputs": [
    {
     "name": "stdout",
     "output_type": "stream",
     "text": [
      "Results\n",
      "[('callret-0', '2482')]\n"
     ]
    },
    {
     "data": {
      "text/plain": [
       "1"
      ]
     },
     "execution_count": 4,
     "metadata": {},
     "output_type": "execute_result"
    }
   ],
   "source": [
    "queryString = \"\"\"\n",
    "SELECT COUNT(*)\n",
    "WHERE { \n",
    "\n",
    "?p wdt:P17 wd:Q16  . \n",
    "?p wdt:P31 wd:Q4830453  . \n",
    "} \n",
    "\"\"\"\n",
    "\n",
    "print(\"Results\")\n",
    "run_query(queryString)"
   ]
  },
  {
   "cell_type": "markdown",
   "id": "b7e11670-bf95-4ab5-8746-60511c6bfe5d",
   "metadata": {
    "tags": []
   },
   "source": [
    "## Task 1\n",
    "Identify the BGP for obtaining number of employees of a company and other relevant numerical attributes"
   ]
  },
  {
   "cell_type": "markdown",
   "id": "fc7890c4-9848-4010-8956-d5dc8fc61f33",
   "metadata": {},
   "source": [
    "Starting from the companies I look for the relations which object is numeric"
   ]
  },
  {
   "cell_type": "code",
   "execution_count": 4,
   "id": "35aead8b-6aca-4b9e-a8d6-f5bf64d609ec",
   "metadata": {},
   "outputs": [
    {
     "name": "stdout",
     "output_type": "stream",
     "text": [
      "Results\n",
      "[('pr', 'http://www.wikidata.org/prop/direct/P1128'), ('name', 'employees')]\n",
      "[('pr', 'http://www.wikidata.org/prop/direct/P1661'), ('name', 'Alexa rank')]\n",
      "[('pr', 'http://www.wikidata.org/prop/direct/P2139'), ('name', 'total revenue')]\n",
      "[('pr', 'http://www.wikidata.org/prop/direct/P2295'), ('name', 'net profit')]\n",
      "[('pr', 'http://www.wikidata.org/prop/direct/P2403'), ('name', 'total assets')]\n",
      "[('pr', 'http://www.wikidata.org/prop/direct/P3362'), ('name', 'operating income')]\n",
      "[('pr', 'http://www.wikidata.org/prop/direct/P8687'), ('name', 'social media followers')]\n",
      "[('pr', 'http://www.wikidata.org/prop/direct/P2137'), ('name', 'total equity')]\n",
      "[('pr', 'http://www.wikidata.org/prop/direct/P2138'), ('name', 'total liabilities')]\n",
      "[('pr', 'http://www.wikidata.org/prop/direct/P8340'), ('name', 'estimated value')]\n",
      "[('pr', 'http://www.wikidata.org/prop/direct/P9279'), ('name', 'Egapro gender equality index')]\n",
      "[('pr', 'http://www.wikidata.org/prop/direct/P2043'), ('name', 'length')]\n",
      "[('pr', 'http://www.wikidata.org/prop/direct/P2048'), ('name', 'height')]\n",
      "[('pr', 'http://www.wikidata.org/prop/direct/P2049'), ('name', 'width')]\n",
      "[('pr', 'http://www.wikidata.org/prop/direct/P2046'), ('name', 'area')]\n",
      "[('pr', 'http://www.wikidata.org/prop/direct/P3744'), ('name', 'number of subscribers')]\n",
      "[('pr', 'http://www.wikidata.org/prop/direct/P2226'), ('name', 'market capitalization')]\n",
      "[('pr', 'http://www.wikidata.org/prop/direct/P2133'), ('name', 'total debt')]\n",
      "[('pr', 'http://www.wikidata.org/prop/direct/P2663'), ('name', 'common equity tier 1 capital ratio (CETI)')]\n",
      "[('pr', 'http://www.wikidata.org/prop/direct/P1114'), ('name', 'quantity')]\n",
      "[('pr', 'http://www.wikidata.org/prop/direct/P1833'), ('name', 'number of registered users/contributors')]\n",
      "[('pr', 'http://www.wikidata.org/prop/direct/P4103'), ('name', 'assets under management')]\n",
      "[('pr', 'http://www.wikidata.org/prop/direct/P8368'), ('name', 'number of branches')]\n",
      "[('pr', 'http://www.wikidata.org/prop/direct/P1174'), ('name', 'visitors per year')]\n",
      "[('pr', 'http://www.wikidata.org/prop/direct/P2124'), ('name', 'member count')]\n",
      "[('pr', 'http://www.wikidata.org/prop/direct/P3086'), ('name', 'speed limit')]\n",
      "[('pr', 'http://www.wikidata.org/prop/direct/P2595'), ('name', 'maximum gradient')]\n",
      "[('pr', 'http://www.wikidata.org/prop/direct/P8247'), ('name', 'nominal share capital')]\n",
      "[('pr', 'http://www.wikidata.org/prop/direct/P2402'), ('name', 'total expenditure')]\n",
      "[('pr', 'http://www.wikidata.org/prop/direct/P1132'), ('name', 'number of participants')]\n",
      "[('pr', 'http://www.wikidata.org/prop/direct/P2896'), ('name', 'publication interval')]\n",
      "[('pr', 'http://www.wikidata.org/prop/direct/P2232'), ('name', 'cash')]\n",
      "[('pr', 'http://www.wikidata.org/prop/direct/P6801'), ('name', 'number of hospital beds')]\n",
      "[('pr', 'http://www.wikidata.org/prop/direct/P1092'), ('name', 'total produced')]\n",
      "[('pr', 'http://www.wikidata.org/prop/direct/P2284'), ('name', 'price')]\n",
      "[('pr', 'http://www.wikidata.org/prop/direct/P2257'), ('name', 'event interval')]\n",
      "[('pr', 'http://www.wikidata.org/prop/direct/P3575'), ('name', 'data size')]\n",
      "[('pr', 'http://www.wikidata.org/prop/direct/P1436'), ('name', 'collection or exhibition size')]\n",
      "[('pr', 'http://www.wikidata.org/prop/direct/P1872'), ('name', 'minimum number of players')]\n",
      "[('pr', 'http://www.wikidata.org/prop/direct/P1113'), ('name', 'number of episodes')]\n",
      "[('pr', 'http://www.wikidata.org/prop/direct/P2109'), ('name', 'installed capacity')]\n",
      "[('pr', 'http://www.wikidata.org/prop/direct/P2044'), ('name', 'elevation above sea level')]\n",
      "[('pr', 'http://www.wikidata.org/prop/direct/P2197'), ('name', 'production rate')]\n",
      "[('pr', 'http://www.wikidata.org/prop/direct/P2254'), ('name', 'maximum operating altitude')]\n",
      "[('pr', 'http://www.wikidata.org/prop/direct/P2555'), ('name', 'fee')]\n",
      "[('pr', 'http://www.wikidata.org/prop/direct/P6589'), ('name', 'endowment')]\n",
      "[('pr', 'http://www.wikidata.org/prop/direct/P3872'), ('name', 'patronage')]\n",
      "[('pr', 'http://www.wikidata.org/prop/direct/P2262'), ('name', 'draft')]\n",
      "[('pr', 'http://www.wikidata.org/prop/direct/P2052'), ('name', 'speed')]\n",
      "[('pr', 'http://www.wikidata.org/prop/direct/P1373'), ('name', 'daily patronage')]\n",
      "[('pr', 'http://www.wikidata.org/prop/direct/P1083'), ('name', 'maximum capacity')]\n",
      "[('pr', 'http://www.wikidata.org/prop/direct/P2130'), ('name', 'cost')]\n",
      "[('pr', 'http://www.wikidata.org/prop/direct/P2144'), ('name', 'frequency')]\n",
      "[('pr', 'http://www.wikidata.org/prop/direct/P5896'), ('name', 'trading fee')]\n",
      "[('pr', 'http://www.wikidata.org/prop/direct/P5991'), ('name', 'carbon footprint')]\n",
      "[('pr', 'http://www.wikidata.org/prop/direct/P3039'), ('name', 'wheelbase')]\n",
      "[('pr', 'http://www.wikidata.org/prop/direct/P4131'), ('name', 'annual energy output')]\n",
      "[('pr', 'http://www.wikidata.org/prop/direct/P2661'), ('name', 'target interest rate')]\n",
      "[('pr', 'http://www.wikidata.org/prop/direct/P1101'), ('name', 'floors above ground')]\n",
      "[('pr', 'http://www.wikidata.org/prop/direct/P2769'), ('name', 'budget')]\n",
      "[('pr', 'http://www.wikidata.org/prop/direct/P2067'), ('name', 'mass')]\n",
      "[('pr', 'http://www.wikidata.org/prop/direct/P2610'), ('name', 'thickness')]\n",
      "[('pr', 'http://www.wikidata.org/prop/direct/P8594'), ('name', 'ride height')]\n",
      "[('pr', 'http://www.wikidata.org/prop/direct/P2261'), ('name', 'beam')]\n",
      "[('pr', 'http://www.wikidata.org/prop/direct/P6125'), ('name', 'number of volunteers')]\n",
      "[('pr', 'http://www.wikidata.org/prop/direct/P8093'), ('name', 'donations')]\n",
      "[('pr', 'http://www.wikidata.org/prop/direct/P2957'), ('name', 'throughput')]\n",
      "[('pr', 'http://www.wikidata.org/prop/direct/P2437'), ('name', 'number of seasons')]\n",
      "[('pr', 'http://www.wikidata.org/prop/direct/P1104'), ('name', 'number of pages')]\n",
      "[('pr', 'http://www.wikidata.org/prop/direct/P6697'), ('name', 'Football Money League rank')]\n",
      "[('pr', 'http://www.wikidata.org/prop/direct/P2658'), ('name', 'Scoville grade')]\n",
      "[('pr', 'http://www.wikidata.org/prop/direct/P3087'), ('name', 'fiscal/tax revenue')]\n"
     ]
    },
    {
     "data": {
      "text/plain": [
       "72"
      ]
     },
     "execution_count": 4,
     "metadata": {},
     "output_type": "execute_result"
    }
   ],
   "source": [
    "queryString = \"\"\"\n",
    "SELECT DISTINCT ?pr ?name\n",
    "WHERE { \n",
    "\n",
    "?p wdt:P31 wd:Q4830453 ;\n",
    "    ?pr ?o.\n",
    "?pr sc:name ?name .\n",
    "FILTER(isNumeric(?o))\n",
    "}\n",
    "\"\"\"\n",
    "\n",
    "print(\"Results\")\n",
    "run_query(queryString)"
   ]
  },
  {
   "cell_type": "markdown",
   "id": "ea6c5bf1-ef65-4c3b-8fa1-2332cbbbcb17",
   "metadata": {},
   "source": [
    "For example we can look for employees, revenue, net profit, market cap and total assets."
   ]
  },
  {
   "cell_type": "code",
   "execution_count": 5,
   "id": "76086f7c-c5f1-476e-8f31-c04f5b5601be",
   "metadata": {},
   "outputs": [
    {
     "name": "stdout",
     "output_type": "stream",
     "text": [
      "Results\n",
      "[('name', 'HHLA'), ('employees', '5528'), ('revenues', '1177700000'), ('net_profit', '105000000'), ('market_cap', '1239900000'), ('tot_assets', '2610019000')]\n",
      "[('name', 'Vinci'), ('employees', '222397'), ('revenues', '48053000000'), ('net_profit', '3408000000'), ('market_cap', '60000000000'), ('tot_assets', '91102000000')]\n",
      "[('name', 'ČEZ Group'), ('employees', '31385'), ('revenues', '184486000000'), ('net_profit', '10500000000'), ('market_cap', '265300000000'), ('tot_assets', '707443000000')]\n",
      "[('name', 'ČEZ Group'), ('employees', '31385'), ('revenues', '184486000000'), ('net_profit', '10500000000'), ('market_cap', '286200000000'), ('tot_assets', '707443000000')]\n",
      "[('name', 'S.P. Korolev Rocket and Space Corporation Energia'), ('employees', '7791'), ('revenues', '42373811000'), ('net_profit', '1232438000'), ('market_cap', '6858000000'), ('tot_assets', '114995477000')]\n",
      "[('name', 'Telefónica'), ('employees', '121853'), ('revenues', '48693000000'), ('net_profit', '3950000000'), ('market_cap', '38105000000'), ('tot_assets', '90707000000')]\n",
      "[('name', 'Bank of America'), ('employees', '204000'), ('revenues', '83416000000'), ('net_profit', '15888000000'), ('market_cap', '232000000000'), ('tot_assets', '2144000000000')]\n",
      "[('name', 'Bank of America'), ('employees', '204000'), ('revenues', '83416000000'), ('net_profit', '15888000000'), ('market_cap', '344490000000'), ('tot_assets', '2144000000000')]\n",
      "[('name', 'Intel'), ('employees', '106000'), ('revenues', '77867000000'), ('net_profit', '20899000000'), ('market_cap', '200000000000'), ('tot_assets', '153091000000')]\n",
      "[('name', 'Intel'), ('employees', '106000'), ('revenues', '77867000000'), ('net_profit', '20899000000'), ('market_cap', '223140000000'), ('tot_assets', '153091000000')]\n",
      "[('name', 'Intel'), ('employees', '107300'), ('revenues', '77867000000'), ('net_profit', '20899000000'), ('market_cap', '200000000000'), ('tot_assets', '153091000000')]\n",
      "[('name', 'Intel'), ('employees', '107300'), ('revenues', '77867000000'), ('net_profit', '20899000000'), ('market_cap', '223140000000'), ('tot_assets', '153091000000')]\n",
      "[('name', 'Intel'), ('employees', '110600'), ('revenues', '77867000000'), ('net_profit', '20899000000'), ('market_cap', '200000000000'), ('tot_assets', '153091000000')]\n",
      "[('name', 'Intel'), ('employees', '110600'), ('revenues', '77867000000'), ('net_profit', '20899000000'), ('market_cap', '223140000000'), ('tot_assets', '153091000000')]\n",
      "[('name', 'Intel'), ('employees', '110800'), ('revenues', '77867000000'), ('net_profit', '20899000000'), ('market_cap', '200000000000'), ('tot_assets', '153091000000')]\n",
      "[('name', 'Intel'), ('employees', '110800'), ('revenues', '77867000000'), ('net_profit', '20899000000'), ('market_cap', '223140000000'), ('tot_assets', '153091000000')]\n",
      "[('name', 'Siemens'), ('employees', '372000'), ('revenues', '83000000000'), ('net_profit', '5584000000'), ('market_cap', '111760000'), ('tot_assets', '125727000000')]\n",
      "[('name', 'Siemens'), ('employees', '372000'), ('revenues', '83000000000'), ('net_profit', '5584000000'), ('market_cap', '139800000000'), ('tot_assets', '125727000000')]\n",
      "[('name', 'Nestlé'), ('employees', '328000'), ('revenues', '89800000000'), ('net_profit', '9066000000'), ('market_cap', '237363000000'), ('tot_assets', '123992000000')]\n",
      "[('name', 'BlackBerry'), ('employees', '3647'), ('revenues', '1040000000'), ('net_profit', '-152000000'), ('market_cap', '6882000000'), ('tot_assets', '3888000000')]\n"
     ]
    },
    {
     "data": {
      "text/plain": [
       "20"
      ]
     },
     "execution_count": 5,
     "metadata": {},
     "output_type": "execute_result"
    }
   ],
   "source": [
    "queryString = \"\"\"\n",
    "SELECT ?name ?employees ?revenues ?net_profit ?market_cap ?tot_assets\n",
    "WHERE { \n",
    "\n",
    "?p wdt:P31 wd:Q4830453.\n",
    " \n",
    "?p  wdt:P1128 ?employees;\n",
    "    wdt:P2139 ?revenues;\n",
    "    wdt:P2295 ?net_profit;\n",
    "    wdt:P2226 ?market_cap;\n",
    "    wdt:P2403 ?tot_assets.\n",
    "\n",
    "?p sc:name ?name .\n",
    "}\n",
    "LIMIT 20\n",
    "\"\"\"\n",
    "\n",
    "print(\"Results\")\n",
    "run_query(queryString)"
   ]
  },
  {
   "cell_type": "markdown",
   "id": "d7b01ba2-4f5c-4058-a9ed-3b17d616893c",
   "metadata": {},
   "source": [
    "I found that for the same company I have more results, probably due to the fact that we have data of different years"
   ]
  },
  {
   "cell_type": "markdown",
   "id": "56ae6f92-7630-49a0-850b-23effa3f7929",
   "metadata": {
    "tags": []
   },
   "source": [
    "## Task 2\n",
    "Identify the BGP to retrieve all companies owned by a company"
   ]
  },
  {
   "cell_type": "markdown",
   "id": "d4b02e8f-c501-4077-945e-9b07f903b038",
   "metadata": {},
   "source": [
    "Starting from the companies, I look for predicate similar to \"own\""
   ]
  },
  {
   "cell_type": "code",
   "execution_count": 6,
   "id": "663590c6-5918-43a6-9975-d511f45b7214",
   "metadata": {},
   "outputs": [
    {
     "name": "stdout",
     "output_type": "stream",
     "text": [
      "Results\n",
      "[('pr', 'http://www.wikidata.org/prop/direct/P4945'), ('name', 'download link')]\n",
      "[('pr', 'http://www.wikidata.org/prop/direct/P127'), ('name', 'owned by')]\n",
      "[('pr', 'http://www.wikidata.org/prop/direct/P1830'), ('name', 'owner of')]\n"
     ]
    },
    {
     "data": {
      "text/plain": [
       "3"
      ]
     },
     "execution_count": 6,
     "metadata": {},
     "output_type": "execute_result"
    }
   ],
   "source": [
    "queryString = \"\"\"\n",
    "SELECT DISTINCT ?pr ?name\n",
    "WHERE { \n",
    "\n",
    "?p wdt:P31 wd:Q4830453.\n",
    "?p ?pr ?o.\n",
    "\n",
    "?pr sc:name ?name .\n",
    "FILTER (!isLiteral(?o)).\n",
    "\n",
    "FILTER (REGEX(?name,\".*wn.*\"))\n",
    "}\n",
    "ORDER BY (?name)\n",
    "LIMIT 50\n",
    "\"\"\"\n",
    "\n",
    "print(\"Results\")\n",
    "run_query(queryString)"
   ]
  },
  {
   "cell_type": "markdown",
   "id": "31a9d49f-cb64-4140-8d05-987bde3a2c06",
   "metadata": {},
   "source": [
    "Found that `P127` gives me who owned this company. Probably it is more efficient to start from a company and look for the property `P1830` that tell me the companies owned by the company with I started with."
   ]
  },
  {
   "cell_type": "code",
   "execution_count": 7,
   "id": "6591e822-4dd4-479d-85d8-710172ec0fd9",
   "metadata": {},
   "outputs": [
    {
     "name": "stdout",
     "output_type": "stream",
     "text": [
      "Results\n",
      "[('company', 'The Walt Disney Company'), ('companies_owned', '224')]\n",
      "[('company', 'Google'), ('companies_owned', '136')]\n",
      "[('company', 'EFE Trenes de Chile'), ('companies_owned', '133')]\n",
      "[('company', 'Bell Media'), ('companies_owned', '125')]\n",
      "[('company', 'Azienda Trasporti Milanesi'), ('companies_owned', '109')]\n",
      "[('company', 'DSB'), ('companies_owned', '101')]\n",
      "[('company', 'WarnerMedia'), ('companies_owned', '93')]\n",
      "[('company', 'Microsoft'), ('companies_owned', '81')]\n",
      "[('company', 'Sony'), ('companies_owned', '70')]\n",
      "[('company', 'BBC'), ('companies_owned', '70')]\n",
      "[('company', 'ATAC'), ('companies_owned', '69')]\n",
      "[('company', 'Viacom'), ('companies_owned', '56')]\n",
      "[('company', 'RAI'), ('companies_owned', '53')]\n",
      "[('company', 'Budapesti Közlekedési Zrt.'), ('companies_owned', '53')]\n",
      "[('company', 'AG für Verkehrswesen'), ('companies_owned', '51')]\n",
      "[('company', 'Yahoo'), ('companies_owned', '47')]\n",
      "[('company', 'Discovery Inc.'), ('companies_owned', '46')]\n",
      "[('company', 'White Star Line'), ('companies_owned', '45')]\n",
      "[('company', 'The Vanguard Group'), ('companies_owned', '45')]\n",
      "[('company', 'Televisa'), ('companies_owned', '42')]\n",
      "[('company', 'Cunard Line'), ('companies_owned', '42')]\n",
      "[('company', 'Telefónica'), ('companies_owned', '38')]\n",
      "[('company', 'Amazon'), ('companies_owned', '38')]\n",
      "[('company', 'Procter & Gamble'), ('companies_owned', '38')]\n",
      "[('company', 'Bangladesh Railway'), ('companies_owned', '37')]\n",
      "[('company', 'LVMH'), ('companies_owned', '35')]\n",
      "[('company', 'Modern Times Group'), ('companies_owned', '33')]\n",
      "[('company', 'Heineken'), ('companies_owned', '33')]\n",
      "[('company', 'Daimler AG'), ('companies_owned', '33')]\n",
      "[('company', 'Railways of Slovak Republic'), ('companies_owned', '31')]\n",
      "[('company', 'Anheuser-Busch InBev'), ('companies_owned', '30')]\n",
      "[('company', 'Dutch East India Company'), ('companies_owned', '30')]\n",
      "[('company', 'Ford Motor Company'), ('companies_owned', '28')]\n",
      "[('company', 'Unibail Rodamco Westfield'), ('companies_owned', '27')]\n",
      "[('company', 'Mediaset S.p.A.'), ('companies_owned', '27')]\n",
      "[('company', 'Raidió Teilifís Éireann'), ('companies_owned', '27')]\n",
      "[('company', 'XM Satellite Radio'), ('companies_owned', '25')]\n",
      "[('company', 'News Corporation'), ('companies_owned', '24')]\n",
      "[('company', 'Johnson & Johnson'), ('companies_owned', '24')]\n",
      "[('company', \"L'Oréal\"), ('companies_owned', '24')]\n",
      "[('company', 'Ural Mining and Metallurgical Company'), ('companies_owned', '24')]\n",
      "[('company', 'Carlsberg Group'), ('companies_owned', '23')]\n",
      "[('company', 'BNP Paribas'), ('companies_owned', '23')]\n",
      "[('company', 'Wildenstein & Company'), ('companies_owned', '22')]\n",
      "[('company', 'Transdev'), ('companies_owned', '22')]\n",
      "[('company', 'Keolis'), ('companies_owned', '21')]\n",
      "[('company', 'E. W. Scripps Company'), ('companies_owned', '21')]\n",
      "[('company', 'Societé Génerale'), ('companies_owned', '20')]\n",
      "[('company', 'Warner Bros.'), ('companies_owned', '20')]\n",
      "[('company', 'APN News & Media'), ('companies_owned', '20')]\n"
     ]
    },
    {
     "data": {
      "text/plain": [
       "50"
      ]
     },
     "execution_count": 7,
     "metadata": {},
     "output_type": "execute_result"
    }
   ],
   "source": [
    "queryString = \"\"\"\n",
    "SELECT ?company (count(DISTINCT ?o) AS ?companies_owned)\n",
    "WHERE { \n",
    "\n",
    "?p wdt:P31 wd:Q4830453.\n",
    "?p wdt:P1830 ?o.\n",
    "\n",
    "?p sc:name ?company .\n",
    "\n",
    "}\n",
    "GROUP BY ?p ?company\n",
    "ORDER BY DESC (?companies_owned)\n",
    "LIMIT 50\n",
    "\"\"\"\n",
    "\n",
    "print(\"Results\")\n",
    "run_query(queryString)"
   ]
  },
  {
   "cell_type": "markdown",
   "id": "b00c893c-fcda-4391-bf87-ba27b94b5b42",
   "metadata": {
    "tags": []
   },
   "source": [
    "## Task 3\n",
    "Is there some company that owns companies in other countries?"
   ]
  },
  {
   "cell_type": "markdown",
   "id": "54c99b2a-b1d0-4062-b91f-b402b3b31b9e",
   "metadata": {},
   "source": [
    "Starting from the country of the company I look for the companies owned and I look for the related country. I perform an ask query first."
   ]
  },
  {
   "cell_type": "code",
   "execution_count": 8,
   "id": "12964f15-5e63-4767-95f3-22e7eb2c62db",
   "metadata": {},
   "outputs": [
    {
     "name": "stdout",
     "output_type": "stream",
     "text": [
      "Results\n"
     ]
    },
    {
     "data": {
      "text/plain": [
       "{'head': {'link': []}, 'boolean': True}"
      ]
     },
     "execution_count": 8,
     "metadata": {},
     "output_type": "execute_result"
    }
   ],
   "source": [
    "queryString = \"\"\"\n",
    "ASK WHERE { \n",
    "\n",
    "?p wdt:P31 wd:Q4830453;\n",
    "    wdt:P17 ?c;\n",
    "    wdt:P1830 ?o.\n",
    "?o wdt:P17 ?own_c.\n",
    "FILTER(?c != ?own_c).\n",
    "\n",
    "}\n",
    "\"\"\"\n",
    "\n",
    "print(\"Results\")\n",
    "run_ask_query(queryString)"
   ]
  },
  {
   "cell_type": "markdown",
   "id": "b703f2c7-50ee-473c-acdc-c954dff505ea",
   "metadata": {},
   "source": [
    "There is at least one company that owned companies in other countries. Let return the companies that owned the most companies in other countries."
   ]
  },
  {
   "cell_type": "code",
   "execution_count": 9,
   "id": "1949d192-2c16-44f5-a766-254619e5ecdd",
   "metadata": {},
   "outputs": [
    {
     "name": "stdout",
     "output_type": "stream",
     "text": [
      "Results\n",
      "[('company', 'The Walt Disney Company'), ('companies_owned', '66')]\n",
      "[('company', 'Sony'), ('companies_owned', '29')]\n",
      "[('company', 'AG für Verkehrswesen'), ('companies_owned', '25')]\n",
      "[('company', 'Anheuser-Busch InBev'), ('companies_owned', '25')]\n",
      "[('company', 'WarnerMedia'), ('companies_owned', '23')]\n",
      "[('company', 'Viacom'), ('companies_owned', '20')]\n",
      "[('company', 'Discovery Inc.'), ('companies_owned', '17')]\n",
      "[('company', 'Heineken'), ('companies_owned', '16')]\n",
      "[('company', 'LVMH'), ('companies_owned', '13')]\n",
      "[('company', 'Daimler AG'), ('companies_owned', '13')]\n",
      "[('company', 'Carlsberg Group'), ('companies_owned', '13')]\n",
      "[('company', 'NexGen'), ('companies_owned', '13')]\n",
      "[('company', 'Ford Motor Company'), ('companies_owned', '12')]\n",
      "[('company', 'Modern Times Group'), ('companies_owned', '11')]\n",
      "[('company', 'BNP Paribas'), ('companies_owned', '10')]\n",
      "[('company', 'Unibail Rodamco Westfield'), ('companies_owned', '10')]\n",
      "[('company', 'News Corporation'), ('companies_owned', '10')]\n",
      "[('company', 'AngloGold Ashanti'), ('companies_owned', '10')]\n",
      "[('company', 'Microsoft'), ('companies_owned', '9')]\n",
      "[('company', 'Vattenfall'), ('companies_owned', '9')]\n",
      "[('company', 'SABMiller'), ('companies_owned', '9')]\n",
      "[('company', 'Liberty Global'), ('companies_owned', '8')]\n",
      "[('company', 'Red Bull GmbH'), ('companies_owned', '8')]\n",
      "[('company', 'Isle of Wight Central Railway'), ('companies_owned', '8')]\n",
      "[('company', 'Societé Génerale'), ('companies_owned', '8')]\n",
      "[('company', 'Aachen Münchener'), ('companies_owned', '8')]\n",
      "[('company', 'TotalEnergies'), ('companies_owned', '8')]\n",
      "[('company', 'Telefónica'), ('companies_owned', '8')]\n",
      "[('company', 'Google'), ('companies_owned', '7')]\n",
      "[('company', 'Starwood Hotels and Resorts Worldwide'), ('companies_owned', '7')]\n",
      "[('company', 'Hammerson'), ('companies_owned', '7')]\n",
      "[('company', 'Penta Investments Limited'), ('companies_owned', '7')]\n",
      "[('company', 'Bauer Media Group'), ('companies_owned', '7')]\n",
      "[('company', 'Veolia Central & Eastern Europe'), ('companies_owned', '7')]\n",
      "[('company', 'Vodafone'), ('companies_owned', '7')]\n",
      "[('company', 'GIC Private Limited'), ('companies_owned', '7')]\n",
      "[('company', 'SoftBank'), ('companies_owned', '6')]\n",
      "[('company', 'Barrick Gold'), ('companies_owned', '6')]\n",
      "[('company', 'Yamaha Corporation'), ('companies_owned', '6')]\n",
      "[('company', 'EP Power Europe'), ('companies_owned', '6')]\n",
      "[('company', 'EMI'), ('companies_owned', '6')]\n",
      "[('company', 'Renault'), ('companies_owned', '6')]\n",
      "[('company', 'Koninklijke Philips NV'), ('companies_owned', '6')]\n",
      "[('company', 'Enel'), ('companies_owned', '6')]\n",
      "[('company', 'Pernod Ricard'), ('companies_owned', '6')]\n",
      "[('company', 'General Electric'), ('companies_owned', '6')]\n",
      "[('company', 'Electrolux'), ('companies_owned', '6')]\n",
      "[('company', 'Walmart'), ('companies_owned', '6')]\n",
      "[('company', 'Apax Partners'), ('companies_owned', '5')]\n",
      "[('company', 'Sega'), ('companies_owned', '5')]\n"
     ]
    },
    {
     "data": {
      "text/plain": [
       "50"
      ]
     },
     "execution_count": 9,
     "metadata": {},
     "output_type": "execute_result"
    }
   ],
   "source": [
    "queryString = \"\"\"\n",
    "SELECT ?company (count(DISTINCT ?o) AS ?companies_owned)\n",
    "WHERE { \n",
    "\n",
    "?p wdt:P31 wd:Q4830453;\n",
    "    wdt:P17 ?c;\n",
    "    wdt:P1830 ?o.\n",
    "?o wdt:P17 ?own_c.\n",
    "FILTER(?c != ?own_c).\n",
    "\n",
    "?p sc:name ?company .\n",
    "\n",
    "}\n",
    "GROUP BY ?p ?company\n",
    "ORDER BY DESC (?companies_owned)\n",
    "LIMIT 50\n",
    "\"\"\"\n",
    "\n",
    "print(\"Results\")\n",
    "run_query(queryString)"
   ]
  },
  {
   "cell_type": "markdown",
   "id": "1fdf9297-5e08-4f94-9b09-04803b73ff4e",
   "metadata": {
    "tags": []
   },
   "source": [
    "## Task 4 \n",
    "Companies have different 'legal forms', compare the number of companies divided in different legal forms"
   ]
  },
  {
   "cell_type": "markdown",
   "id": "c95f38c6-4ff0-4002-91a3-c754674b2e46",
   "metadata": {},
   "source": [
    "Look for the predicate legal forms or something similar."
   ]
  },
  {
   "cell_type": "code",
   "execution_count": 10,
   "id": "ba486343-7df2-4048-9b9f-61eb8c768f10",
   "metadata": {},
   "outputs": [
    {
     "name": "stdout",
     "output_type": "stream",
     "text": [
      "Results\n",
      "[('pr', 'http://www.wikidata.org/prop/direct/P1278'), ('name', 'Legal Entity Identifier')]\n",
      "[('pr', 'http://www.wikidata.org/prop/direct/P1454'), ('name', 'legal form')]\n",
      "[('pr', 'http://www.wikidata.org/prop/direct/P1031'), ('name', 'legal citation of this text')]\n"
     ]
    },
    {
     "data": {
      "text/plain": [
       "3"
      ]
     },
     "execution_count": 10,
     "metadata": {},
     "output_type": "execute_result"
    }
   ],
   "source": [
    "queryString = \"\"\"\n",
    "SELECT DISTINCT ?pr ?name\n",
    "WHERE { \n",
    "\n",
    "?p wdt:P31 wd:Q4830453.\n",
    "?p ?pr ?o.\n",
    "\n",
    "?pr sc:name ?name .\n",
    "\n",
    "FILTER (REGEX(?name,\".*egal.*\"))\n",
    "}\n",
    "LIMIT 50\n",
    "\"\"\"\n",
    "\n",
    "print(\"Results\")\n",
    "run_query(queryString)"
   ]
  },
  {
   "cell_type": "markdown",
   "id": "b9bde883-180c-4eef-a399-e0071fd39dd4",
   "metadata": {},
   "source": [
    "Found that legal form is the predicate `P1454`"
   ]
  },
  {
   "cell_type": "code",
   "execution_count": 11,
   "id": "6c6913dd-7288-4efc-bbe1-99cd5df5ff24",
   "metadata": {},
   "outputs": [
    {
     "name": "stdout",
     "output_type": "stream",
     "text": [
      "Results\n",
      "[('legal_form', 'společnost s ručením omezeným'), ('companies', '13059')]\n",
      "[('legal_form', 'akciová společnost'), ('companies', '5551')]\n",
      "[('legal_form', 'joint-stock company'), ('companies', '5168')]\n",
      "[('legal_form', 'GmbH'), ('companies', '2823')]\n",
      "[('legal_form', 'Spoločnosť s ručením obmedzeným'), ('companies', '2302')]\n",
      "[('legal_form', 'Aktiengesellschaft'), ('companies', '1842')]\n",
      "[('legal_form', 'public company'), ('companies', '1407')]\n",
      "[('legal_form', 'aksjeselskap'), ('companies', '1312')]\n",
      "[('legal_form', 'kabushiki gaisha'), ('companies', '1228')]\n",
      "[('legal_form', 'S.A.'), ('companies', '1134')]\n",
      "[('legal_form', 'GmbH & Co. KG'), ('companies', '1127')]\n",
      "[('legal_form', 'private limited liability company'), ('companies', '1112')]\n",
      "[('legal_form', 'privately held company'), ('companies', '968')]\n",
      "[('legal_form', 'Gesellschaft mit beschränkter Haftung'), ('companies', '867')]\n",
      "[('legal_form', 'akciová spoločnosť'), ('companies', '838')]\n",
      "[('legal_form', 'open joint-stock company'), ('companies', '610')]\n",
      "[('legal_form', 'private company limited by shares'), ('companies', '581')]\n",
      "[('legal_form', 'Société par actions simplifiée'), ('companies', '554')]\n",
      "[('legal_form', 'public limited company'), ('companies', '544')]\n",
      "[('legal_form', 'limited liability company'), ('companies', '471')]\n",
      "[('legal_form', 'cooperative'), ('companies', '446')]\n",
      "[('legal_form', 'S.r.l.'), ('companies', '385')]\n",
      "[('legal_form', 'aktieselskab'), ('companies', '340')]\n",
      "[('legal_form', 'società per azioni'), ('companies', '318')]\n",
      "[('legal_form', 'Societas Europaea'), ('companies', '307')]\n",
      "[('legal_form', 'aktiebolag'), ('companies', '306')]\n",
      "[('legal_form', 'mutual fund'), ('companies', '269')]\n",
      "[('legal_form', 'private limited company'), ('companies', '254')]\n",
      "[('legal_form', 'Besloten vennootschap'), ('companies', '250')]\n",
      "[('legal_form', 'corporation'), ('companies', '249')]\n",
      "[('legal_form', 'société anonyme'), ('companies', '238')]\n",
      "[('legal_form', 'Oy'), ('companies', '235')]\n",
      "[('legal_form', 'Kommanditgesellschaft'), ('companies', '222')]\n",
      "[('legal_form', 'state-owned enterprise'), ('companies', '221')]\n",
      "[('legal_form', 'company'), ('companies', '211')]\n",
      "[('legal_form', 'closed joint-stock company'), ('companies', '194')]\n",
      "[('legal_form', 'Sp. z o.o.'), ('companies', '186')]\n",
      "[('legal_form', 'limited company'), ('companies', '184')]\n",
      "[('legal_form', 'Naamloze vennootschap'), ('companies', '184')]\n",
      "[('legal_form', 'subsidiary'), ('companies', '175')]\n",
      "[('legal_form', 'jednoduchá spoločnosť na akcie'), ('companies', '170')]\n",
      "[('legal_form', 'Kft.'), ('companies', '159')]\n",
      "[('legal_form', 'voluntary organization'), ('companies', '155')]\n",
      "[('legal_form', 'A natural person doing business according to the Trade Licensing Act not registered in the Commercial Register'), ('companies', '134')]\n",
      "[('legal_form', 'NV/SA'), ('companies', '120')]\n",
      "[('legal_form', 'spolek'), ('companies', '112')]\n",
      "[('legal_form', 'ООО'), ('companies', '102')]\n",
      "[('legal_form', 'public-benefit corporation'), ('companies', '94')]\n",
      "[('legal_form', 'sociedad anónima'), ('companies', '89')]\n",
      "[('legal_form', 'allmennaksjeselskap'), ('companies', '87')]\n",
      "[('legal_form', 'U.S. corporation'), ('companies', '87')]\n",
      "[('legal_form', 'Volkseigener Betrieb'), ('companies', '81')]\n",
      "[('legal_form', 'Anpartsselskab'), ('companies', '79')]\n",
      "[('legal_form', 'limited liability partnership'), ('companies', '71')]\n",
      "[('legal_form', 'Akcinė bendrovė'), ('companies', '61')]\n",
      "[('legal_form', 'komanditní společnost'), ('companies', '60')]\n",
      "[('legal_form', 'foundation'), ('companies', '59')]\n",
      "[('legal_form', 'Anonim Şirket'), ('companies', '59')]\n",
      "[('legal_form', 'otevřený podílový fond'), ('companies', '53')]\n",
      "[('legal_form', 'Eingetragene Genossenschaft'), ('companies', '50')]\n",
      "[('legal_form', 'Gemeinnützige GmbH'), ('companies', '49')]\n",
      "[('legal_form', 'general partnership'), ('companies', '49')]\n",
      "[('legal_form', 'S.L.'), ('companies', '49')]\n",
      "[('legal_form', 'svěřenský fond'), ('companies', '47')]\n",
      "[('legal_form', 'nadace'), ('companies', '44')]\n",
      "[('legal_form', 'Société à responsabilité limitée'), ('companies', '43')]\n",
      "[('legal_form', 'unitary enterprise'), ('companies', '43')]\n",
      "[('legal_form', 'natural person'), ('companies', '42')]\n",
      "[('legal_form', 'Delaware corporation'), ('companies', '42')]\n",
      "[('legal_form', 'Société Anonyme'), ('companies', '42')]\n",
      "[('legal_form', 'joint venture'), ('companies', '41')]\n",
      "[('legal_form', 'Anstalt des öffentlichen Rechts'), ('companies', '41')]\n",
      "[('legal_form', 'julkinen osakeyhtiö'), ('companies', '40')]\n",
      "[('legal_form', 'mutual organization'), ('companies', '39')]\n",
      "[('legal_form', 'sole proprietorship in Germany'), ('companies', '39')]\n",
      "[('legal_form', 'Offene Handelsgesellschaft'), ('companies', '38')]\n",
      "[('legal_form', 'samvirkeforetak'), ('companies', '37')]\n",
      "[('legal_form', 'société à responsabilité limitée'), ('companies', '37')]\n",
      "[('legal_form', 'limited partnership'), ('companies', '37')]\n",
      "[('legal_form', 'Kommanditgesellschaft auf Aktien'), ('companies', '36')]\n",
      "[('legal_form', 'sociedade anónima'), ('companies', '34')]\n",
      "[('legal_form', 'obecně prospěšná společnost'), ('companies', '34')]\n",
      "[('legal_form', 'société par actions simplifiée unipersonnelle'), ('companies', '33')]\n",
      "[('legal_form', 'partnership'), ('companies', '32')]\n",
      "[('legal_form', 'veřejná obchodní společnost'), ('companies', '31')]\n",
      "[('legal_form', 'státní podnik'), ('companies', '28')]\n",
      "[('legal_form', 'holding company'), ('companies', '28')]\n",
      "[('legal_form', 'società consortile'), ('companies', '26')]\n",
      "[('legal_form', 'publisher'), ('companies', '22')]\n",
      "[('legal_form', 'private joint stock company'), ('companies', '21')]\n",
      "[('legal_form', 'Limited Company'), ('companies', '21')]\n",
      "[('legal_form', 'GbR'), ('companies', '20')]\n",
      "[('legal_form', 'association of legal entities'), ('companies', '20')]\n",
      "[('legal_form', 'mutual insurance'), ('companies', '19')]\n",
      "[('legal_form', 'nonprofit organization'), ('companies', '19')]\n",
      "[('legal_form', 'organisational unit of the state'), ('companies', '19')]\n",
      "[('legal_form', 'spółka akcyjna'), ('companies', '19')]\n",
      "[('legal_form', 'GmbH & Co. KGaA'), ('companies', '19')]\n",
      "[('legal_form', 'general incorporated association'), ('companies', '19')]\n",
      "[('legal_form', 'národní podnik'), ('companies', '18')]\n"
     ]
    },
    {
     "data": {
      "text/plain": [
       "100"
      ]
     },
     "execution_count": 11,
     "metadata": {},
     "output_type": "execute_result"
    }
   ],
   "source": [
    "queryString = \"\"\"\n",
    "SELECT DISTINCT ?legal_form (COUNT(DISTINCT ?p) AS ?companies)\n",
    "WHERE { \n",
    "\n",
    "?p wdt:P31 wd:Q4830453;\n",
    "    wdt:P1454 ?o.\n",
    "\n",
    "?o sc:name ?legal_form .\n",
    "\n",
    "}\n",
    "GROUP BY ?legal_form\n",
    "ORDER BY DESC (?companies)\n",
    "LIMIT 100\n",
    "\"\"\"\n",
    "\n",
    "print(\"Results\")\n",
    "run_query(queryString)"
   ]
  },
  {
   "cell_type": "markdown",
   "id": "1e2ea4f2-95f7-495f-8a56-08ab4414da8a",
   "metadata": {
    "tags": []
   },
   "source": [
    "## Task 5\n",
    "Analyze the number of employees and other relevant numeric attributes"
   ]
  },
  {
   "cell_type": "markdown",
   "id": "0a639ed4-d9e9-48c6-9bad-02cf8b25ec15",
   "metadata": {
    "tags": []
   },
   "source": [
    "#### 5.1 What are the top-10 companies for a given attribute?\n",
    "\n",
    "Rerun the first query to have all numeric attributes. "
   ]
  },
  {
   "cell_type": "code",
   "execution_count": 12,
   "id": "3cce0c17-51c4-43c0-8e9b-f5de924e6e53",
   "metadata": {},
   "outputs": [
    {
     "name": "stdout",
     "output_type": "stream",
     "text": [
      "Results\n",
      "[('pr', 'http://www.wikidata.org/prop/direct/P1128'), ('name', 'employees')]\n",
      "[('pr', 'http://www.wikidata.org/prop/direct/P1661'), ('name', 'Alexa rank')]\n",
      "[('pr', 'http://www.wikidata.org/prop/direct/P2139'), ('name', 'total revenue')]\n",
      "[('pr', 'http://www.wikidata.org/prop/direct/P2295'), ('name', 'net profit')]\n",
      "[('pr', 'http://www.wikidata.org/prop/direct/P2403'), ('name', 'total assets')]\n",
      "[('pr', 'http://www.wikidata.org/prop/direct/P3362'), ('name', 'operating income')]\n",
      "[('pr', 'http://www.wikidata.org/prop/direct/P8687'), ('name', 'social media followers')]\n",
      "[('pr', 'http://www.wikidata.org/prop/direct/P2137'), ('name', 'total equity')]\n",
      "[('pr', 'http://www.wikidata.org/prop/direct/P2138'), ('name', 'total liabilities')]\n",
      "[('pr', 'http://www.wikidata.org/prop/direct/P8340'), ('name', 'estimated value')]\n",
      "[('pr', 'http://www.wikidata.org/prop/direct/P9279'), ('name', 'Egapro gender equality index')]\n",
      "[('pr', 'http://www.wikidata.org/prop/direct/P2043'), ('name', 'length')]\n",
      "[('pr', 'http://www.wikidata.org/prop/direct/P2048'), ('name', 'height')]\n",
      "[('pr', 'http://www.wikidata.org/prop/direct/P2049'), ('name', 'width')]\n",
      "[('pr', 'http://www.wikidata.org/prop/direct/P2046'), ('name', 'area')]\n",
      "[('pr', 'http://www.wikidata.org/prop/direct/P3744'), ('name', 'number of subscribers')]\n",
      "[('pr', 'http://www.wikidata.org/prop/direct/P2226'), ('name', 'market capitalization')]\n",
      "[('pr', 'http://www.wikidata.org/prop/direct/P2133'), ('name', 'total debt')]\n",
      "[('pr', 'http://www.wikidata.org/prop/direct/P2663'), ('name', 'common equity tier 1 capital ratio (CETI)')]\n",
      "[('pr', 'http://www.wikidata.org/prop/direct/P1114'), ('name', 'quantity')]\n",
      "[('pr', 'http://www.wikidata.org/prop/direct/P1833'), ('name', 'number of registered users/contributors')]\n",
      "[('pr', 'http://www.wikidata.org/prop/direct/P4103'), ('name', 'assets under management')]\n",
      "[('pr', 'http://www.wikidata.org/prop/direct/P8368'), ('name', 'number of branches')]\n",
      "[('pr', 'http://www.wikidata.org/prop/direct/P1174'), ('name', 'visitors per year')]\n",
      "[('pr', 'http://www.wikidata.org/prop/direct/P2124'), ('name', 'member count')]\n",
      "[('pr', 'http://www.wikidata.org/prop/direct/P3086'), ('name', 'speed limit')]\n",
      "[('pr', 'http://www.wikidata.org/prop/direct/P2595'), ('name', 'maximum gradient')]\n",
      "[('pr', 'http://www.wikidata.org/prop/direct/P8247'), ('name', 'nominal share capital')]\n",
      "[('pr', 'http://www.wikidata.org/prop/direct/P2402'), ('name', 'total expenditure')]\n",
      "[('pr', 'http://www.wikidata.org/prop/direct/P1132'), ('name', 'number of participants')]\n",
      "[('pr', 'http://www.wikidata.org/prop/direct/P2896'), ('name', 'publication interval')]\n",
      "[('pr', 'http://www.wikidata.org/prop/direct/P2232'), ('name', 'cash')]\n",
      "[('pr', 'http://www.wikidata.org/prop/direct/P6801'), ('name', 'number of hospital beds')]\n",
      "[('pr', 'http://www.wikidata.org/prop/direct/P1092'), ('name', 'total produced')]\n",
      "[('pr', 'http://www.wikidata.org/prop/direct/P2284'), ('name', 'price')]\n",
      "[('pr', 'http://www.wikidata.org/prop/direct/P2257'), ('name', 'event interval')]\n",
      "[('pr', 'http://www.wikidata.org/prop/direct/P3575'), ('name', 'data size')]\n",
      "[('pr', 'http://www.wikidata.org/prop/direct/P1436'), ('name', 'collection or exhibition size')]\n",
      "[('pr', 'http://www.wikidata.org/prop/direct/P1872'), ('name', 'minimum number of players')]\n",
      "[('pr', 'http://www.wikidata.org/prop/direct/P1113'), ('name', 'number of episodes')]\n",
      "[('pr', 'http://www.wikidata.org/prop/direct/P2109'), ('name', 'installed capacity')]\n",
      "[('pr', 'http://www.wikidata.org/prop/direct/P2044'), ('name', 'elevation above sea level')]\n",
      "[('pr', 'http://www.wikidata.org/prop/direct/P2197'), ('name', 'production rate')]\n",
      "[('pr', 'http://www.wikidata.org/prop/direct/P2254'), ('name', 'maximum operating altitude')]\n",
      "[('pr', 'http://www.wikidata.org/prop/direct/P2555'), ('name', 'fee')]\n",
      "[('pr', 'http://www.wikidata.org/prop/direct/P6589'), ('name', 'endowment')]\n",
      "[('pr', 'http://www.wikidata.org/prop/direct/P3872'), ('name', 'patronage')]\n",
      "[('pr', 'http://www.wikidata.org/prop/direct/P2262'), ('name', 'draft')]\n",
      "[('pr', 'http://www.wikidata.org/prop/direct/P2052'), ('name', 'speed')]\n",
      "[('pr', 'http://www.wikidata.org/prop/direct/P1373'), ('name', 'daily patronage')]\n",
      "[('pr', 'http://www.wikidata.org/prop/direct/P1083'), ('name', 'maximum capacity')]\n",
      "[('pr', 'http://www.wikidata.org/prop/direct/P2130'), ('name', 'cost')]\n",
      "[('pr', 'http://www.wikidata.org/prop/direct/P2144'), ('name', 'frequency')]\n",
      "[('pr', 'http://www.wikidata.org/prop/direct/P5896'), ('name', 'trading fee')]\n",
      "[('pr', 'http://www.wikidata.org/prop/direct/P5991'), ('name', 'carbon footprint')]\n",
      "[('pr', 'http://www.wikidata.org/prop/direct/P3039'), ('name', 'wheelbase')]\n",
      "[('pr', 'http://www.wikidata.org/prop/direct/P4131'), ('name', 'annual energy output')]\n",
      "[('pr', 'http://www.wikidata.org/prop/direct/P2661'), ('name', 'target interest rate')]\n",
      "[('pr', 'http://www.wikidata.org/prop/direct/P1101'), ('name', 'floors above ground')]\n",
      "[('pr', 'http://www.wikidata.org/prop/direct/P2769'), ('name', 'budget')]\n",
      "[('pr', 'http://www.wikidata.org/prop/direct/P2067'), ('name', 'mass')]\n",
      "[('pr', 'http://www.wikidata.org/prop/direct/P2610'), ('name', 'thickness')]\n",
      "[('pr', 'http://www.wikidata.org/prop/direct/P8594'), ('name', 'ride height')]\n",
      "[('pr', 'http://www.wikidata.org/prop/direct/P2261'), ('name', 'beam')]\n",
      "[('pr', 'http://www.wikidata.org/prop/direct/P6125'), ('name', 'number of volunteers')]\n",
      "[('pr', 'http://www.wikidata.org/prop/direct/P8093'), ('name', 'donations')]\n",
      "[('pr', 'http://www.wikidata.org/prop/direct/P2957'), ('name', 'throughput')]\n",
      "[('pr', 'http://www.wikidata.org/prop/direct/P2437'), ('name', 'number of seasons')]\n",
      "[('pr', 'http://www.wikidata.org/prop/direct/P1104'), ('name', 'number of pages')]\n",
      "[('pr', 'http://www.wikidata.org/prop/direct/P6697'), ('name', 'Football Money League rank')]\n",
      "[('pr', 'http://www.wikidata.org/prop/direct/P2658'), ('name', 'Scoville grade')]\n",
      "[('pr', 'http://www.wikidata.org/prop/direct/P3087'), ('name', 'fiscal/tax revenue')]\n"
     ]
    },
    {
     "data": {
      "text/plain": [
       "72"
      ]
     },
     "execution_count": 12,
     "metadata": {},
     "output_type": "execute_result"
    }
   ],
   "source": [
    "queryString = \"\"\"\n",
    "SELECT DISTINCT ?pr ?name\n",
    "WHERE { \n",
    "\n",
    "?p wdt:P31 wd:Q4830453 ;\n",
    "    ?pr ?o.\n",
    "?pr sc:name ?name .\n",
    "FILTER(isNumeric(?o))\n",
    "}\n",
    "\"\"\"\n",
    "\n",
    "print(\"Results\")\n",
    "run_query(queryString)"
   ]
  },
  {
   "cell_type": "markdown",
   "id": "c01e4066-325f-4504-af0f-13cadeb5880a",
   "metadata": {},
   "source": [
    "Now we can look for the single attributes and perform a query with only this attributw, limit to 10 the result set and order by descendant order, that is the answer of the question 5.1. I will do some example for some numeric attributes (employees and total revenue) but then it is possible to do the same with all the predicates listed above."
   ]
  },
  {
   "cell_type": "code",
   "execution_count": 13,
   "id": "b5b1a850-c550-47c0-880c-6190ce25b4ad",
   "metadata": {},
   "outputs": [
    {
     "name": "stdout",
     "output_type": "stream",
     "text": [
      "Results\n",
      "[('name', 'Walmart'), ('employees', '2500000')]\n",
      "[('name', 'China National Petroleum Corporation'), ('employees', '1589508')]\n",
      "[('name', 'State Grid Corporation of China'), ('employees', '1581000')]\n",
      "[('name', 'Amazon'), ('employees', '1298000')]\n",
      "[('name', 'Randstad N.V.'), ('employees', '658580')]\n",
      "[('name', 'Foxconn'), ('employees', '618460')]\n",
      "[('name', 'G4S'), ('employees', '618260')]\n",
      "[('name', 'RAO UES'), ('employees', '577000')]\n",
      "[('name', 'DHL'), ('employees', '570000')]\n",
      "[('name', 'Deutsche Post AG'), ('employees', '547459')]\n"
     ]
    },
    {
     "data": {
      "text/plain": [
       "10"
      ]
     },
     "execution_count": 13,
     "metadata": {},
     "output_type": "execute_result"
    }
   ],
   "source": [
    "queryString = \"\"\"\n",
    "SELECT ?name ?employees\n",
    "WHERE { \n",
    "\n",
    "?p wdt:P31 wd:Q4830453;\n",
    "   wdt:P1128 ?employees.\n",
    "\n",
    "?p sc:name ?name .\n",
    "FILTER (isNumeric(?employees))\n",
    "}\n",
    "ORDER BY DESC (?employees)\n",
    "LIMIT 10\n",
    "\"\"\"\n",
    "\n",
    "print(\"Results\")\n",
    "run_query(queryString)"
   ]
  },
  {
   "cell_type": "code",
   "execution_count": 14,
   "id": "03b78c86-0f06-4280-9521-dc48806c9679",
   "metadata": {},
   "outputs": [
    {
     "name": "stdout",
     "output_type": "stream",
     "text": [
      "Results\n",
      "[('name', 'Samsung Electronics'), ('revenues', '201870000000000')]\n",
      "[('name', 'Bank Rakyat Indonesia'), ('revenues', '111582000000000')]\n",
      "[('name', 'RAO UES'), ('revenues', '40377000000000')]\n",
      "[('name', 'Toyota'), ('revenues', '28403118000000')]\n",
      "[('name', 'Indofood Agri Resources Limited'), ('revenues', '13650388000000')]\n",
      "[('name', 'SoftBank'), ('revenues', '9158765000000')]\n",
      "[('name', 'Hanjin Shipping'), ('revenues', '7669598000000')]\n",
      "[('name', 'Panasonic Corporation'), ('revenues', '7343707000000')]\n",
      "[('name', 'Gazprom'), ('revenues', '6321559000000')]\n",
      "[('name', 'Yukos'), ('revenues', '5860000000000')]\n"
     ]
    },
    {
     "data": {
      "text/plain": [
       "10"
      ]
     },
     "execution_count": 14,
     "metadata": {},
     "output_type": "execute_result"
    }
   ],
   "source": [
    "queryString = \"\"\"\n",
    "SELECT ?name ?revenues\n",
    "WHERE { \n",
    "\n",
    "?p wdt:P31 wd:Q4830453;\n",
    "    wdt:P2139 ?revenues.\n",
    "\n",
    "?p sc:name ?name .\n",
    "}\n",
    "ORDER BY DESC (?revenues)\n",
    "LIMIT 10\n",
    "\"\"\"\n",
    "\n",
    "print(\"Results\")\n",
    "run_query(queryString)"
   ]
  },
  {
   "cell_type": "markdown",
   "id": "0cc83ed1-cdd5-4261-9daf-618b3d7297c2",
   "metadata": {},
   "source": [
    "#### 5.2 For which companies is defined some form of income or market capitalization or total assets? What is the min, max, and average in each category and country?\n",
    "\n",
    "From the queries about numeric attributes done before, I found some predicates useful to answer this query. The predicates are:\n",
    "- `P2139`: total revenues;\n",
    "- `P2295`: net profit;\n",
    "- `P3362`: operating income;\n",
    "- `P8340`: estimated value;\n",
    "- `P2133`: total debt;\n",
    "- `P2226`: market capitalization;\n",
    "- `P2403`: total assets.\n",
    "\n",
    "For each of this predicate I will perform a query that show the min, max and average"
   ]
  },
  {
   "cell_type": "code",
   "execution_count": 15,
   "id": "0e85d176-4afe-4f36-9653-4fa70a8a34c0",
   "metadata": {},
   "outputs": [
    {
     "name": "stdout",
     "output_type": "stream",
     "text": [
      "Results\n",
      "[('country', 'Indonesia'), ('min', '111582000000000'), ('max', '111582000000000'), ('avg', '111582000000000')]\n",
      "[('country', 'South Korea'), ('min', '700000000'), ('max', '201870000000000'), ('avg', '19408289289454.545454545454545')]\n",
      "[('country', 'Singapore'), ('min', '102400000'), ('max', '13650388000000'), ('avg', '2739130932000')]\n",
      "[('country', 'Japan'), ('min', '180000000'), ('max', '28403118000000'), ('avg', '2061081295925.925925925925926')]\n",
      "[('country', 'Iraq'), ('min', '1361329000000'), ('max', '1361329000000'), ('avg', '1361329000000')]\n",
      "[('country', 'Taiwan'), ('min', '234285354'), ('max', '4358733357000'), ('avg', '822597048764.857142857142857')]\n",
      "[('country', 'Hong Kong'), ('min', '566497000000'), ('max', '566497000000'), ('avg', '566497000000')]\n",
      "[('country', 'Nigeria'), ('min', '449800000000'), ('max', '449800000000'), ('avg', '449800000000')]\n",
      "[('country', \"People's Republic of China\"), ('min', '80000000'), ('max', '2742779810000'), ('avg', '402983084099.816363636363636')]\n",
      "[('country', 'Russia'), ('min', '1000000'), ('max', '40377000000000'), ('avg', '386489310198.975')]\n",
      "[('country', 'Cayman Islands'), ('min', '627122000'), ('max', '507248000000'), ('avg', '253937561000')]\n",
      "[('country', 'Hungary'), ('min', '482000000'), ('max', '3553005000000'), ('avg', '50609430555.555555555555556')]\n",
      "[('country', 'Thailand'), ('min', '41000000000'), ('max', '41000000000'), ('avg', '41000000000')]\n",
      "[('country', 'United Kingdom'), ('min', '6730021'), ('max', '631214100000'), ('avg', '39356073110.426428571428571')]\n",
      "[('country', 'Mexico'), ('min', '816000000'), ('max', '125943900000'), ('avg', '38801380000')]\n",
      "[('country', 'Switzerland'), ('min', '18000000'), ('max', '180744100000'), ('avg', '36755845210.526315789473684')]\n",
      "[('country', 'Norway'), ('min', '225904'), ('max', '941000000000'), ('avg', '34915177423.48936170212766')]\n",
      "[('country', 'Kazakhstan'), ('min', '158000000'), ('max', '93286400000'), ('avg', '33349800000')]\n",
      "[('country', 'Saudi Arabia'), ('min', '26690000'), ('max', '1105696000000'), ('avg', '33071398974.358974358974359')]\n",
      "[('country', 'Argentina'), ('min', '524876000'), ('max', '134710200000'), ('avg', '32415038616.2')]\n"
     ]
    },
    {
     "data": {
      "text/plain": [
       "20"
      ]
     },
     "execution_count": 15,
     "metadata": {},
     "output_type": "execute_result"
    }
   ],
   "source": [
    "#query for the revenues\n",
    "queryString = \"\"\"\n",
    "SELECT DISTINCT ?country (min(?revenues) AS ?min) (max(?revenues) AS ?max) (avg(?revenues) AS ?avg)\n",
    "WHERE { \n",
    "\n",
    "?p wdt:P31 wd:Q4830453;\n",
    "    wdt:P2139 ?revenues;\n",
    "    wdt:P17 ?c.\n",
    "\n",
    "?c sc:name ?country .\n",
    "FILTER (isNumeric(?revenues))\n",
    "}\n",
    "GROUP BY ?c ?country\n",
    "ORDER BY DESC (?avg)\n",
    "LIMIT 20\n",
    "\"\"\"\n",
    "\n",
    "print(\"Results\")\n",
    "run_query(queryString)"
   ]
  },
  {
   "cell_type": "code",
   "execution_count": 16,
   "id": "3d98b6da-0191-4707-8911-09c4209b44b2",
   "metadata": {},
   "outputs": [
    {
     "name": "stdout",
     "output_type": "stream",
     "text": [
      "Results\n",
      "[('country', 'South Korea'), ('min', '182000000'), ('max', '22730000000000'), ('avg', '5691187331750')]\n",
      "[('country', 'Saudi Arabia'), ('min', '330693000000'), ('max', '330693000000'), ('avg', '330693000000')]\n",
      "[('country', 'Japan'), ('min', '-5114000000'), ('max', '2312694000000'), ('avg', '247274351941.778111111111111')]\n",
      "[('country', 'Iraq'), ('min', '243618000000'), ('max', '243618000000'), ('avg', '243618000000')]\n",
      "[('country', 'Hong Kong'), ('min', '78188000000'), ('max', '78188000000'), ('avg', '78188000000')]\n",
      "[('country', \"People's Republic of China\"), ('min', '38668000'), ('max', '317685000000'), ('avg', '51582444678.618965517241379')]\n",
      "[('country', 'Crimean Peninsula'), ('min', '37611743000'), ('max', '37611743000'), ('avg', '37611743000')]\n",
      "[('country', 'Taiwan'), ('min', '2632565'), ('max', '151357164000'), ('avg', '27938595094.166666666666667')]\n",
      "[('country', 'Cayman Islands'), ('min', '18881000'), ('max', '31400000000'), ('avg', '15709440500')]\n",
      "[('country', 'Russia'), ('min', '-108244949000'), ('max', '760300000000'), ('avg', '14523234424.553072625698324')]\n",
      "[('country', 'United Arab Emirates'), ('min', '6777915000'), ('max', '6777915000'), ('avg', '6777915000')]\n",
      "[('country', 'United States of America'), ('min', '-11673000000'), ('max', '78586000000'), ('avg', '5595168843.814366197183099')]\n",
      "[('country', 'Denmark'), ('min', '-239000000'), ('max', '42138000000'), ('avg', '5443632176.555555555555556')]\n",
      "[('country', 'Norway'), ('min', '-15400000'), ('max', '39000000000'), ('avg', '4245504642.307692307692308')]\n",
      "[('country', 'Sweden'), ('min', '-239000000'), ('max', '12652000000'), ('avg', '3914885000')]\n",
      "[('country', 'Hungary'), ('min', '-105300000'), ('max', '251655000000'), ('avg', '3816156028.985507246405797')]\n",
      "[('country', 'Brazil'), ('min', '2500000000'), ('max', '2500000000'), ('avg', '2500000000')]\n",
      "[('country', 'Kazakhstan'), ('min', '2197000000'), ('max', '2197000000'), ('avg', '2197000000')]\n",
      "[('country', 'India'), ('min', '-840000000'), ('max', '6700000000'), ('avg', '2113666666.666666666666667')]\n",
      "[('country', 'Ukraine'), ('min', '-1916000000'), ('max', '10322053000'), ('avg', '2077747500')]\n"
     ]
    },
    {
     "data": {
      "text/plain": [
       "20"
      ]
     },
     "execution_count": 16,
     "metadata": {},
     "output_type": "execute_result"
    }
   ],
   "source": [
    "#query for the net profit\n",
    "queryString = \"\"\"\n",
    "SELECT DISTINCT ?country (min(?net) AS ?min) (max(?net) AS ?max) (avg(?net) AS ?avg)\n",
    "WHERE { \n",
    "\n",
    "?p wdt:P31 wd:Q4830453;\n",
    "    wdt:P2295 ?net;\n",
    "    wdt:P17 ?c.\n",
    "\n",
    "?c sc:name ?country .\n",
    "FILTER (isNumeric(?net))\n",
    "}\n",
    "GROUP BY ?c ?country\n",
    "ORDER BY DESC (?avg)\n",
    "LIMIT 20\n",
    "\"\"\"\n",
    "\n",
    "print(\"Results\")\n",
    "run_query(queryString)"
   ]
  },
  {
   "cell_type": "code",
   "execution_count": 17,
   "id": "da37ef40-7274-4865-a14b-c4826d18a398",
   "metadata": {},
   "outputs": [
    {
     "name": "stdout",
     "output_type": "stream",
     "text": [
      "Results\n",
      "[('country', 'South Korea'), ('min', '97000000'), ('max', '29240000000000'), ('avg', '7348055899750')]\n",
      "[('country', 'Saudi Arabia'), ('min', '674871000000'), ('max', '674871000000'), ('avg', '674871000000')]\n",
      "[('country', 'Japan'), ('min', '-5104000000'), ('max', '2853971000000'), ('avg', '613255182222.222222222222222')]\n",
      "[('country', 'Hungary'), ('min', '307905000000'), ('max', '307905000000'), ('avg', '307905000000')]\n",
      "[('country', \"People's Republic of China\"), ('min', '33685000'), ('max', '390822000000'), ('avg', '71484820490.857142857142857')]\n",
      "[('country', 'Russia'), ('min', '-48465118000'), ('max', '1702100000000'), ('avg', '51122627077.777777777777778')]\n",
      "[('country', 'Taiwan'), ('min', '24716786'), ('max', '174939501000'), ('avg', '50573411196.5')]\n",
      "[('country', 'Cayman Islands'), ('min', '49985000'), ('max', '69712000000'), ('avg', '34880992500')]\n",
      "[('country', 'Australia'), ('min', '15996000000'), ('max', '15996000000'), ('avg', '15996000000')]\n",
      "[('country', 'Turkey'), ('min', '94100000'), ('max', '41578000000'), ('avg', '14275366666.666666666666667')]\n",
      "[('country', 'Switzerland'), ('min', '22317000'), ('max', '50998000000'), ('avg', '12997502833.333333333333333')]\n",
      "[('country', 'United States of America'), ('min', '-12150000000'), ('max', '113012000000'), ('avg', '10150369915.43953488372093')]\n",
      "[('country', 'Ukraine'), ('min', '-77197000'), ('max', '13010193000'), ('avg', '6466498000')]\n",
      "[('country', 'Spain'), ('min', '-560957000'), ('max', '12640000000'), ('avg', '5725084000')]\n",
      "[('country', 'Sweden'), ('min', '-855000000'), ('max', '15493000000'), ('avg', '4502891666.666666666666667')]\n",
      "[('country', 'Belgium'), ('min', '4020000000'), ('max', '4020000000'), ('avg', '4020000000')]\n",
      "[('country', 'Norway'), ('min', '54100000'), ('max', '18848000000'), ('avg', '3899335166.666666666666667')]\n",
      "[('country', 'Germany'), ('min', '-181518000'), ('max', '12902000000'), ('avg', '3686841473.684210526315789')]\n",
      "[('country', 'France'), ('min', '114600000'), ('max', '6810000000'), ('avg', '2855231300')]\n",
      "[('country', 'Netherlands'), ('min', '-9677000'), ('max', '18324000000'), ('avg', '2752035357.142857142857143')]\n"
     ]
    },
    {
     "data": {
      "text/plain": [
       "20"
      ]
     },
     "execution_count": 17,
     "metadata": {},
     "output_type": "execute_result"
    }
   ],
   "source": [
    "#query for the operating income\n",
    "queryString = \"\"\"\n",
    "SELECT DISTINCT ?country (min(?op_income) AS ?min) (max(?op_income) AS ?max) (avg(?op_income) AS ?avg)\n",
    "WHERE { \n",
    "\n",
    "?p wdt:P31 wd:Q4830453;\n",
    "    wdt:P3362 ?op_income;\n",
    "    wdt:P17 ?c.\n",
    "\n",
    "?c sc:name ?country .\n",
    "FILTER (isNumeric(?op_income))\n",
    "}\n",
    "GROUP BY ?c ?country\n",
    "ORDER BY DESC (?avg)\n",
    "LIMIT 20\n",
    "\"\"\"\n",
    "\n",
    "print(\"Results\")\n",
    "run_query(queryString)"
   ]
  },
  {
   "cell_type": "code",
   "execution_count": 18,
   "id": "50f1e9c0-8bf9-4bbc-8b63-0e68dc7aad64",
   "metadata": {},
   "outputs": [
    {
     "name": "stdout",
     "output_type": "stream",
     "text": [
      "Results\n",
      "[('country', \"People's Republic of China\"), ('min', '2000000000'), ('max', '105000000000'), ('avg', '21042857142.857142857142857')]\n",
      "[('country', 'United States of America'), ('min', '1000000000'), ('max', '105000000000'), ('avg', '5858108108.108108108108108')]\n",
      "[('country', 'Sweden'), ('min', '2500000000'), ('max', '8500000000'), ('avg', '5500000000')]\n",
      "[('country', 'India'), ('min', '1000000000'), ('max', '15000000000'), ('avg', '3914285714.285714285714286')]\n",
      "[('country', 'Netherlands'), ('min', '2300000000'), ('max', '2300000000'), ('avg', '2300000000')]\n",
      "[('country', 'Germany'), ('min', '1000000000'), ('max', '3100000000'), ('avg', '1880000000')]\n",
      "[('country', 'Singapore'), ('min', '1000000000'), ('max', '2500000000'), ('avg', '1600000000')]\n",
      "[('country', 'Israel'), ('min', '1500000000'), ('max', '1500000000'), ('avg', '1500000000')]\n",
      "[('country', 'Malaysia'), ('min', '1300000000'), ('max', '1600000000'), ('avg', '1450000000')]\n",
      "[('country', 'United Kingdom'), ('min', '1000000000'), ('max', '1600000000'), ('avg', '1366666666.666666666666667')]\n",
      "[('country', 'Thailand'), ('min', '1300000000'), ('max', '1300000000'), ('avg', '1300000000')]\n",
      "[('country', 'Philippines'), ('min', '1300000000'), ('max', '1300000000'), ('avg', '1300000000')]\n",
      "[('country', 'Indonesia'), ('min', '1300000000'), ('max', '1300000000'), ('avg', '1300000000')]\n",
      "[('country', 'Vietnam'), ('min', '1300000000'), ('max', '1300000000'), ('avg', '1300000000')]\n",
      "[('country', 'Canada'), ('min', '1000000000'), ('max', '1000000000'), ('avg', '1000000000')]\n",
      "[('country', 'Argentina'), ('min', '1000000000'), ('max', '1000000000'), ('avg', '1000000000')]\n",
      "[('country', 'United Arab Emirates'), ('min', '1000000000'), ('max', '1000000000'), ('avg', '1000000000')]\n"
     ]
    },
    {
     "data": {
      "text/plain": [
       "17"
      ]
     },
     "execution_count": 18,
     "metadata": {},
     "output_type": "execute_result"
    }
   ],
   "source": [
    "#query for the estimated value\n",
    "queryString = \"\"\"\n",
    "SELECT DISTINCT ?country (min(?value) AS ?min) (max(?value) AS ?max) (avg(?value) AS ?avg)\n",
    "WHERE { \n",
    "\n",
    "?p wdt:P31 wd:Q4830453;\n",
    "    wdt:P8340 ?value;\n",
    "    wdt:P17 ?c.\n",
    "\n",
    "?c sc:name ?country .\n",
    "FILTER (isNumeric(?value))\n",
    "}\n",
    "GROUP BY ?c ?country\n",
    "ORDER BY DESC (?avg)\n",
    "LIMIT 20\n",
    "\"\"\"\n",
    "\n",
    "print(\"Results\")\n",
    "run_query(queryString)"
   ]
  },
  {
   "cell_type": "code",
   "execution_count": 19,
   "id": "cf5b041c-75cb-4f53-bb0a-7b4ee7cfd0a3",
   "metadata": {},
   "outputs": [
    {
     "name": "stdout",
     "output_type": "stream",
     "text": [
      "Results\n",
      "[('country', 'United States of America'), ('min', '1683900000'), ('max', '33717000000'), ('avg', '15571521428.571428571428571')]\n",
      "[('country', 'France'), ('min', '1622100'), ('max', '14001000000'), ('avg', '5569155525')]\n",
      "[('country', 'Spain'), ('min', '442000000'), ('max', '442000000'), ('avg', '442000000')]\n"
     ]
    },
    {
     "data": {
      "text/plain": [
       "3"
      ]
     },
     "execution_count": 19,
     "metadata": {},
     "output_type": "execute_result"
    }
   ],
   "source": [
    "#query for the total debt\n",
    "queryString = \"\"\"\n",
    "SELECT DISTINCT ?country (min(?debt) AS ?min) (max(?debt) AS ?max) (avg(?debt) AS ?avg)\n",
    "WHERE { \n",
    "\n",
    "?p wdt:P31 wd:Q4830453;\n",
    "    wdt:P2133 ?debt;\n",
    "    wdt:P17 ?c.\n",
    "\n",
    "?c sc:name ?country .\n",
    "FILTER (isNumeric(?debt))\n",
    "}\n",
    "GROUP BY ?c ?country\n",
    "ORDER BY DESC (?avg)\n",
    "LIMIT 20\n",
    "\"\"\"\n",
    "\n",
    "print(\"Results\")\n",
    "run_query(queryString)"
   ]
  },
  {
   "cell_type": "code",
   "execution_count": 20,
   "id": "a2b5378e-a325-40db-95cd-dcafab67a010",
   "metadata": {},
   "outputs": [
    {
     "name": "stdout",
     "output_type": "stream",
     "text": [
      "Results\n",
      "[('country', 'Saudi Arabia'), ('min', '2458000000000'), ('max', '2458000000000'), ('avg', '2458000000000')]\n",
      "[('country', 'Russia'), ('min', '6858000000'), ('max', '3100000000000'), ('avg', '731755800000')]\n",
      "[('country', 'United States of America'), ('min', '500000'), ('max', '2470000000000'), ('avg', '411943146923')]\n",
      "[('country', \"People's Republic of China\"), ('min', '57703130'), ('max', '486000000000'), ('avg', '243028851565')]\n",
      "[('country', 'Finland'), ('min', '26257000000'), ('max', '415000000000'), ('avg', '220628500000')]\n",
      "[('country', 'Switzerland'), ('min', '172750000000'), ('max', '237363000000'), ('avg', '205056500000')]\n",
      "[('country', 'Japan'), ('min', '8414000000'), ('max', '500000000000'), ('avg', '176578250000')]\n",
      "[('country', 'Denmark'), ('min', '25256000000'), ('max', '289600000000'), ('avg', '142452000000')]\n",
      "[('country', 'Czech Republic'), ('min', '7100000000'), ('max', '286200000000'), ('avg', '138800000000')]\n",
      "[('country', 'United Kingdom'), ('min', '47000000000'), ('max', '185400000000'), ('avg', '116200000000')]\n",
      "[('country', 'India'), ('min', '4635000000'), ('max', '300500000000'), ('avg', '107711666666.666666666666667')]\n",
      "[('country', 'Sweden'), ('min', '37774000000'), ('max', '80004000000'), ('avg', '58889000000')]\n",
      "[('country', 'Taiwan'), ('min', '56280000000'), ('max', '56280000000'), ('avg', '56280000000')]\n",
      "[('country', 'Germany'), ('min', '111760000'), ('max', '139800000000'), ('avg', '40829082512.5')]\n",
      "[('country', 'Spain'), ('min', '38105000000'), ('max', '38105000000'), ('avg', '38105000000')]\n",
      "[('country', 'Luxembourg'), ('min', '32000000000'), ('max', '32000000000'), ('avg', '32000000000')]\n",
      "[('country', 'France'), ('min', '157659497'), ('max', '139000000000'), ('avg', '30570379928.142857142857143')]\n",
      "[('country', 'Norway'), ('min', '22800000000'), ('max', '22800000000'), ('avg', '22800000000')]\n",
      "[('country', 'Canada'), ('min', '648532358'), ('max', '45900000000'), ('avg', '17810177452.666666666666667')]\n",
      "[('country', 'Netherlands'), ('min', '16707000'), ('max', '35600000000'), ('avg', '16371469400')]\n"
     ]
    },
    {
     "data": {
      "text/plain": [
       "20"
      ]
     },
     "execution_count": 20,
     "metadata": {},
     "output_type": "execute_result"
    }
   ],
   "source": [
    "#query for the market capitalization\n",
    "queryString = \"\"\"\n",
    "SELECT DISTINCT ?country (min(?cap) AS ?min) (max(?cap) AS ?max) (avg(?cap) AS ?avg)\n",
    "WHERE { \n",
    "\n",
    "?p wdt:P31 wd:Q4830453;\n",
    "    wdt:P2226 ?cap;\n",
    "    wdt:P17 ?c.\n",
    "\n",
    "?c sc:name ?country .\n",
    "FILTER (isNumeric(?cap))\n",
    "}\n",
    "GROUP BY ?c ?country\n",
    "ORDER BY DESC (?avg)\n",
    "LIMIT 20\n",
    "\"\"\"\n",
    "\n",
    "print(\"Results\")\n",
    "run_query(queryString)"
   ]
  },
  {
   "cell_type": "code",
   "execution_count": 21,
   "id": "03c70ff1-5547-4bce-8f99-c894b97e835b",
   "metadata": {},
   "outputs": [
    {
     "name": "stdout",
     "output_type": "stream",
     "text": [
      "Results\n",
      "[('country', 'South Korea'), ('min', '6450000000'), ('max', '262174300000000'), ('avg', '53747392301544.4')]\n",
      "[('country', 'Japan'), ('min', '1412070000'), ('max', '47427597000000'), ('avg', '10170190707000')]\n",
      "[('country', 'Hong Kong'), ('min', '8289924000000'), ('max', '8289924000000'), ('avg', '8289924000000')]\n",
      "[('country', \"People's Republic of China\"), ('min', '3727000000'), ('max', '33345058000000'), ('avg', '4439947726959.48875')]\n",
      "[('country', 'Hungary'), ('min', '720000000000'), ('max', '4103786000000'), ('avg', '2411893000000')]\n",
      "[('country', 'Russia'), ('min', '50858000'), ('max', '36016000000000'), ('avg', '1292729712609.523809523809524')]\n",
      "[('country', 'Cayman Islands'), ('min', '1496525000'), ('max', '2301159000000'), ('avg', '1151327762500')]\n",
      "[('country', 'Norway'), ('min', '42988000'), ('max', '2793294000000'), ('avg', '740150872000')]\n",
      "[('country', 'Croatia'), ('min', '675233145000'), ('max', '675233145000'), ('avg', '675233145000')]\n",
      "[('country', 'Finland'), ('min', '39517000000'), ('max', '615659000000'), ('avg', '327588000000')]\n",
      "[('country', 'United Kingdom'), ('min', '135646163'), ('max', '2374986000000'), ('avg', '319181544833')]\n",
      "[('country', 'Taiwan'), ('min', '182373217000'), ('max', '433057069000'), ('avg', '318177620333.333333333333333')]\n",
      "[('country', 'Belgium'), ('min', '275200000000'), ('max', '275200000000'), ('avg', '275200000000')]\n",
      "[('country', 'Italy'), ('min', '69899000'), ('max', '601300000000'), ('avg', '274456633000')]\n",
      "[('country', 'Spain'), ('min', '100000'), ('max', '1340000000000'), ('avg', '272700152875')]\n",
      "[('country', 'Algeria'), ('min', '230000000000'), ('max', '230000000000'), ('avg', '230000000000')]\n",
      "[('country', 'United States of America'), ('min', '1'), ('max', '3960490000000'), ('avg', '212870364610.982424778761062')]\n",
      "[('country', 'Switzerland'), ('min', '284824000'), ('max', '439299000000'), ('avg', '127131876666.666666666666667')]\n",
      "[('country', 'Crimean Peninsula'), ('min', '126869333000'), ('max', '126869333000'), ('avg', '126869333000')]\n",
      "[('country', 'Saudi Arabia'), ('min', '32525893'), ('max', '1494126000000'), ('avg', '104463601437.86')]\n"
     ]
    },
    {
     "data": {
      "text/plain": [
       "20"
      ]
     },
     "execution_count": 21,
     "metadata": {},
     "output_type": "execute_result"
    }
   ],
   "source": [
    "#query for the total assets\n",
    "queryString = \"\"\"\n",
    "SELECT DISTINCT ?country (min(?assets) AS ?min) (max(?assets) AS ?max) (avg(?assets) AS ?avg)\n",
    "WHERE { \n",
    "\n",
    "?p wdt:P31 wd:Q4830453;\n",
    "    wdt:P2403 ?assets;\n",
    "    wdt:P17 ?c.\n",
    "\n",
    "?c sc:name ?country .\n",
    "FILTER (isNumeric(?assets))\n",
    "}\n",
    "GROUP BY ?c ?country\n",
    "ORDER BY DESC (?avg)\n",
    "LIMIT 20\n",
    "\"\"\"\n",
    "\n",
    "print(\"Results\")\n",
    "run_query(queryString)"
   ]
  },
  {
   "cell_type": "markdown",
   "id": "455b254e-0921-45a7-b08e-0ed7268b6e71",
   "metadata": {},
   "source": [
    "#### 5.3 Which business in each country owns more businesses in other countries?"
   ]
  },
  {
   "cell_type": "markdown",
   "id": "c55de2b4-863b-4a26-8dbe-c043bd30cc09",
   "metadata": {},
   "source": [
    "Firstable group by company to discover the companies owned and append the country"
   ]
  },
  {
   "cell_type": "code",
   "execution_count": 22,
   "id": "b998c93f-6377-4fee-83b0-3dd560af1cfb",
   "metadata": {},
   "outputs": [
    {
     "name": "stdout",
     "output_type": "stream",
     "text": [
      "Results\n",
      "[('company', 'The Walt Disney Company'), ('country', 'United States of America'), ('companies_owned', '66')]\n",
      "[('company', 'Sony'), ('country', 'Japan'), ('companies_owned', '29')]\n",
      "[('company', 'AG für Verkehrswesen'), ('country', 'German Reich'), ('companies_owned', '25')]\n",
      "[('company', 'WarnerMedia'), ('country', 'United States of America'), ('companies_owned', '23')]\n",
      "[('company', 'Anheuser-Busch InBev'), ('country', 'Brazil'), ('companies_owned', '22')]\n",
      "[('company', 'Anheuser-Busch InBev'), ('country', 'Belgium'), ('companies_owned', '21')]\n",
      "[('company', 'Viacom'), ('country', 'United States of America'), ('companies_owned', '20')]\n",
      "[('company', 'Discovery Inc.'), ('country', 'United States of America'), ('companies_owned', '17')]\n",
      "[('company', 'Heineken'), ('country', 'Netherlands'), ('companies_owned', '16')]\n",
      "[('company', 'LVMH'), ('country', 'France'), ('companies_owned', '13')]\n"
     ]
    },
    {
     "data": {
      "text/plain": [
       "10"
      ]
     },
     "execution_count": 22,
     "metadata": {},
     "output_type": "execute_result"
    }
   ],
   "source": [
    "queryString = \"\"\"\n",
    "SELECT ?company ?country (COUNT(DISTINCT ?o) AS ?companies_owned)\n",
    "WHERE { \n",
    "\n",
    "    ?p wdt:P31 wd:Q4830453;\n",
    "        wdt:P17 ?c;\n",
    "        wdt:P1830 ?o.\n",
    "    ?o wdt:P17 ?own_c.\n",
    "    FILTER(?c != ?own_c).\n",
    "\n",
    "    ?p sc:name ?company .\n",
    "    ?c sc:name ?country .\n",
    "\n",
    "}\n",
    "GROUP BY ?p ?company ?c ?country\n",
    "ORDER BY DESC (?companies_owned)\n",
    "\n",
    "LIMIT 10\n",
    "\"\"\"\n",
    "\n",
    "print(\"Results\")\n",
    "run_query(queryString)"
   ]
  },
  {
   "cell_type": "markdown",
   "id": "e82d553b-b9d8-492f-9e76-f940286978a9",
   "metadata": {},
   "source": [
    "Then find for each country the max companies owned"
   ]
  },
  {
   "cell_type": "code",
   "execution_count": 23,
   "id": "f44c4085-fdf5-41f2-9568-e849183e1311",
   "metadata": {},
   "outputs": [
    {
     "name": "stdout",
     "output_type": "stream",
     "text": [
      "Results\n",
      "[('country', 'United States of America'), ('max_owned', '66')]\n",
      "[('country', 'Japan'), ('max_owned', '29')]\n",
      "[('country', 'German Reich'), ('max_owned', '25')]\n",
      "[('country', 'Brazil'), ('max_owned', '22')]\n",
      "[('country', 'Belgium'), ('max_owned', '21')]\n",
      "[('country', 'Netherlands'), ('max_owned', '16')]\n",
      "[('country', 'Luxembourg'), ('max_owned', '13')]\n",
      "[('country', 'Denmark'), ('max_owned', '13')]\n",
      "[('country', 'Germany'), ('max_owned', '13')]\n",
      "[('country', 'France'), ('max_owned', '13')]\n"
     ]
    },
    {
     "data": {
      "text/plain": [
       "10"
      ]
     },
     "execution_count": 23,
     "metadata": {},
     "output_type": "execute_result"
    }
   ],
   "source": [
    "queryString = \"\"\"\n",
    "SELECT ?country (max(?companies_owned) AS ?max_owned)\n",
    "WHERE{\n",
    "    {\n",
    "        SELECT ?p ?company ?country (COUNT(DISTINCT ?o) AS ?companies_owned)\n",
    "        WHERE { \n",
    "\n",
    "            ?p wdt:P31 wd:Q4830453;\n",
    "                wdt:P17 ?c;\n",
    "                wdt:P1830 ?o.\n",
    "            ?o wdt:P17 ?own_c.\n",
    "            FILTER(?c != ?own_c).\n",
    "\n",
    "            ?p sc:name ?company .\n",
    "            ?c sc:name ?country .\n",
    "\n",
    "        }\n",
    "        GROUP BY ?p ?company ?c ?country\n",
    "    }\n",
    "}\n",
    "GROUP BY ?c ?country\n",
    "ORDER BY DESC (?max_owned)\n",
    "LIMIT 10\n",
    "\"\"\"\n",
    "\n",
    "print(\"Results\")\n",
    "run_query(queryString)"
   ]
  },
  {
   "cell_type": "markdown",
   "id": "6552329d-5a65-4d86-a7d6-9dd5e6fef124",
   "metadata": {},
   "source": [
    "Put together the two queries above and filter for the same owned companies and same country. In this way I found the company in that country that own more companies."
   ]
  },
  {
   "cell_type": "code",
   "execution_count": 24,
   "id": "73be42a0-4a75-4549-8cf6-9411f1024df1",
   "metadata": {},
   "outputs": [
    {
     "name": "stdout",
     "output_type": "stream",
     "text": [
      "Results\n",
      "[('country', 'United States of America'), ('company1', 'The Walt Disney Company'), ('max_owned', '66')]\n",
      "[('country', 'Japan'), ('company1', 'Sony'), ('max_owned', '29')]\n",
      "[('country', 'German Reich'), ('company1', 'AG für Verkehrswesen'), ('max_owned', '25')]\n",
      "[('country', 'Brazil'), ('company1', 'Anheuser-Busch InBev'), ('max_owned', '22')]\n",
      "[('country', 'Belgium'), ('company1', 'Anheuser-Busch InBev'), ('max_owned', '21')]\n",
      "[('country', 'Netherlands'), ('company1', 'Heineken'), ('max_owned', '16')]\n",
      "[('country', 'France'), ('company1', 'LVMH'), ('max_owned', '13')]\n",
      "[('country', 'Denmark'), ('company1', 'Carlsberg Group'), ('max_owned', '13')]\n",
      "[('country', 'Germany'), ('company1', 'Daimler AG'), ('max_owned', '13')]\n",
      "[('country', 'Luxembourg'), ('company1', 'NexGen'), ('max_owned', '13')]\n",
      "[('country', 'Sweden'), ('company1', 'Modern Times Group'), ('max_owned', '11')]\n",
      "[('country', 'South Africa'), ('company1', 'AngloGold Ashanti'), ('max_owned', '10')]\n",
      "[('country', 'United Kingdom'), ('company1', 'SABMiller'), ('max_owned', '9')]\n",
      "[('country', 'Spain'), ('company1', 'Telefónica'), ('max_owned', '8')]\n",
      "[('country', 'Austria'), ('company1', 'Red Bull GmbH'), ('max_owned', '8')]\n",
      "[('country', 'Singapore'), ('company1', 'GIC Private Limited'), ('max_owned', '7')]\n",
      "[('country', 'Jersey'), ('company1', 'Penta Investments Limited'), ('max_owned', '7')]\n",
      "[('country', 'Canada'), ('company1', 'Barrick Gold'), ('max_owned', '6')]\n",
      "[('country', 'Turkey'), ('company1', 'Yamaha Corporation'), ('max_owned', '6')]\n",
      "[('country', 'Italy'), ('company1', 'Enel'), ('max_owned', '6')]\n",
      "[('country', 'Czech Republic'), ('company1', 'EP Power Europe'), ('max_owned', '6')]\n",
      "[('country', 'Finland'), ('company1', 'Amer Sports'), ('max_owned', '5')]\n",
      "[('country', 'Dutch Republic'), ('company1', 'Dutch East India Company'), ('max_owned', '5')]\n",
      "[('country', 'Finland'), ('company1', 'Nokia'), ('max_owned', '5')]\n",
      "[('country', 'Norway'), ('company1', 'Telenor'), ('max_owned', '5')]\n",
      "[('country', 'Switzerland'), ('company1', 'Richemont'), ('max_owned', '5')]\n",
      "[('country', 'British Hong Kong'), ('company1', 'TVB'), ('max_owned', '5')]\n",
      "[('country', 'Romania'), ('company1', 'Citibank'), ('max_owned', '4')]\n",
      "[('country', 'Cyprus'), ('company1', 'WCV World Capital Ventures Cyprus'), ('max_owned', '4')]\n",
      "[('country', 'Cyprus'), ('company1', 'Penta Investments Limited'), ('max_owned', '4')]\n",
      "[('country', 'Ireland'), ('company1', 'Euronext'), ('max_owned', '4')]\n",
      "[('country', \"People's Republic of China\"), ('company1', 'TVB'), ('max_owned', '3')]\n",
      "[('country', 'Liechtenstein'), ('company1', 'Nemo Fund'), ('max_owned', '3')]\n",
      "[('country', 'Grand Duchy of Finland'), ('company1', 'Tampella'), ('max_owned', '3')]\n",
      "[('country', 'Portugal'), ('company1', 'Euronext'), ('max_owned', '3')]\n",
      "[('country', 'Croatia'), ('company1', 'Agrokor'), ('max_owned', '3')]\n",
      "[('country', 'Hong Kong'), ('company1', 'China International Group Corporation'), ('max_owned', '3')]\n",
      "[('country', 'Mexico'), ('company1', 'América Móvil'), ('max_owned', '3')]\n",
      "[('country', \"People's Republic of China\"), ('company1', 'Alibaba Group'), ('max_owned', '3')]\n",
      "[('country', 'Malaysia'), ('company1', 'Axiata'), ('max_owned', '3')]\n",
      "[('country', 'India'), ('company1', 'Tata Motors'), ('max_owned', '3')]\n",
      "[('country', 'Kingdom of the Netherlands'), ('company1', 'CZI Holdings'), ('max_owned', '2')]\n",
      "[('country', 'Russia'), ('company1', 'Sberbank of Russia'), ('max_owned', '2')]\n",
      "[('country', 'South Korea'), ('company1', 'POSCO'), ('max_owned', '2')]\n",
      "[('country', 'Malta'), ('company1', 'Priveq Funds'), ('max_owned', '2')]\n",
      "[('country', 'Russia'), ('company1', 'Basic Element'), ('max_owned', '2')]\n",
      "[('country', 'Taiwan'), ('company1', 'Acer Inc.'), ('max_owned', '2')]\n",
      "[('country', 'Slovakia'), ('company1', 'Supernius'), ('max_owned', '2')]\n",
      "[('country', 'United Arab Emirates'), ('company1', 'Emirates Telecommunications Corporation'), ('max_owned', '2')]\n",
      "[('country', 'Czechoslovakia'), ('company1', 'ČKD'), ('max_owned', '2')]\n"
     ]
    },
    {
     "data": {
      "text/plain": [
       "50"
      ]
     },
     "execution_count": 24,
     "metadata": {},
     "output_type": "execute_result"
    }
   ],
   "source": [
    "queryString = \"\"\"\n",
    "SELECT ?country ?company1 ?max_owned{\n",
    "    {\n",
    "        SELECT ?country (max(?companies_owned) AS ?max_owned)\n",
    "        WHERE{\n",
    "            {\n",
    "                SELECT ?p ?company ?country (COUNT(DISTINCT ?o) AS ?companies_owned)\n",
    "                WHERE { \n",
    "\n",
    "                    ?p wdt:P31 wd:Q4830453;\n",
    "                        wdt:P17 ?c;\n",
    "                        wdt:P1830 ?o.\n",
    "                    ?o wdt:P17 ?own_c.\n",
    "                    FILTER(?c != ?own_c).\n",
    "\n",
    "                    ?p sc:name ?company .\n",
    "                    ?c sc:name ?country .\n",
    "\n",
    "                }\n",
    "                GROUP BY ?p ?company ?c ?country\n",
    "            }\n",
    "        }\n",
    "        GROUP BY ?c ?country\n",
    "        ORDER BY DESC (?max_owned)\n",
    "    }\n",
    "    {\n",
    "        SELECT ?p1 ?company1 ?country1 (COUNT(DISTINCT ?o1) AS ?inside_companies_owned)\n",
    "        WHERE { \n",
    "\n",
    "            ?p1 wdt:P31 wd:Q4830453;\n",
    "                wdt:P17 ?c1;\n",
    "                wdt:P1830 ?o1.\n",
    "            ?o1 wdt:P17 ?own_c1.\n",
    "            FILTER(?c1 != ?own_c1).\n",
    "\n",
    "            ?p1 sc:name ?company1 .\n",
    "            ?c1 sc:name ?country1 .\n",
    "\n",
    "        }\n",
    "        GROUP BY ?p1 ?company1 ?c1 ?country1\n",
    "    }\n",
    "    FILTER (?inside_companies_owned = ?max_owned && ?country1 = ?country)\n",
    "}\n",
    "ORDER BY DESC (?max_owned)\n",
    "LIMIT 50\n",
    "\"\"\"\n",
    "\n",
    "print(\"Results\")\n",
    "run_query(queryString)"
   ]
  },
  {
   "cell_type": "code",
   "execution_count": null,
   "id": "bb0702bf-725d-48c1-9f3c-c7ef22172f70",
   "metadata": {},
   "outputs": [],
   "source": []
  }
 ],
 "metadata": {
  "kernelspec": {
   "display_name": "Python 3",
   "language": "python",
   "name": "python3"
  },
  "language_info": {
   "codemirror_mode": {
    "name": "ipython",
    "version": 3
   },
   "file_extension": ".py",
   "mimetype": "text/x-python",
   "name": "python",
   "nbconvert_exporter": "python",
   "pygments_lexer": "ipython3",
   "version": "3.7.10"
  }
 },
 "nbformat": 4,
 "nbformat_minor": 5
}
