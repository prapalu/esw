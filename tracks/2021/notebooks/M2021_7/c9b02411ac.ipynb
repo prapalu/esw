{
 "cells": [
  {
   "cell_type": "markdown",
   "id": "7034c3bf-6eb0-4418-8687-7b9d2a501103",
   "metadata": {},
   "source": [
    "# General instructions\n",
    "\n",
    "The goal of the project is to materialize a set of **exploratory workloads** over a real-world, large-scale,  open-domain KG: [WikiData](https://www.wikidata.org/wiki/Wikidata:Main_Page)\n",
    "\n",
    "An exploratory workload  is composed by a set of queries, where each query is related to the information obtained previously.\n",
    "\n",
    "An exploratory workload starts with a usually vague, open ended question, and does not assume the person issuing the workload has a clear understanding of the data contained in the target database or its structure.\n",
    "\n",
    "Remeber that:\n",
    "\n",
    "1. All the queries must run in the python notebook\n",
    "2. You can use classes and properties only if you find them via a SPARQL query that must be present in the notebook\n",
    "3. You do not delete useless queries. Keep everything that is synthatically valid \n",
    "\n",
    "```\n",
    "?p <http://schema.org/name> ?name .\n",
    "```\n",
    "    \n",
    "is the BGP returning a human-readable name of a property or a class in Wikidata.\n",
    "    \n",
    "    "
   ]
  },
  {
   "cell_type": "code",
   "execution_count": 1,
   "id": "3605c9d5-5371-49a5-be8d-d66e8f417139",
   "metadata": {},
   "outputs": [],
   "source": [
    "## SETUP used later\n",
    "\n",
    "from SPARQLWrapper import SPARQLWrapper, JSON\n",
    "\n",
    "\n",
    "prefixString = \"\"\"\n",
    "##-c9b02411ac-##\n",
    "PREFIX wd: <http://www.wikidata.org/entity/> \n",
    "PREFIX wdt: <http://www.wikidata.org/prop/direct/> \n",
    "PREFIX sc: <http://schema.org/>\n",
    "\"\"\"\n",
    "\n",
    "# select and construct queries\n",
    "def run_query(queryString):\n",
    "    to_run = prefixString + \"\\n\" + queryString\n",
    "\n",
    "    sparql = SPARQLWrapper(\"http://a256-gc1-02.srv.aau.dk:5820/sparql\")\n",
    "    sparql.setTimeout(300)\n",
    "    sparql.setReturnFormat(JSON)\n",
    "    sparql.setQuery(to_run)\n",
    "\n",
    "    try :\n",
    "       results = sparql.query()\n",
    "       json_results = results.convert()\n",
    "       if len(json_results['results']['bindings'])==0:\n",
    "          print(\"Empty\")\n",
    "          return 0\n",
    "    \n",
    "       for bindings in json_results['results']['bindings']:\n",
    "          print( [ (var, value['value'])  for var, value in bindings.items() ] )\n",
    "\n",
    "       return len(json_results['results']['bindings'])\n",
    "\n",
    "    except Exception as e :\n",
    "        print(\"The operation failed\", e)\n",
    "    \n",
    "# ASk queries\n",
    "def run_ask_query(queryString):\n",
    "    to_run = prefixString + \"\\n\" + queryString\n",
    "\n",
    "    sparql = SPARQLWrapper(\"http://a256-gc1-03.srv.aau.dk:5820/sparql\")\n",
    "    sparql.setTimeout(300)\n",
    "    sparql.setReturnFormat(JSON)\n",
    "    sparql.setQuery(to_run)\n",
    "\n",
    "    try :\n",
    "        return sparql.query().convert()\n",
    "\n",
    "    except Exception as e :\n",
    "        print(\"The operation failed\", e)\n"
   ]
  },
  {
   "cell_type": "markdown",
   "id": "d477a59c-a68c-4c8f-9f97-8ca5294d7d27",
   "metadata": {},
   "source": [
    "# GEO Workflow Series (\"Place of Birth, Death, and Burial\") \n",
    "\n",
    "Consider the following exploratory information need:\n",
    "\n",
    "> You want to visit cities connected to famous writers and poets, and you are deciding wether to visit France or Germany"
   ]
  },
  {
   "cell_type": "markdown",
   "id": "4a45c0ba-f79e-441d-bec5-84401b09db70",
   "metadata": {
    "tags": []
   },
   "source": [
    "## Useful URIs for the current workflow\n",
    "\n",
    "\n",
    "The following are given:\n",
    "\n",
    "| IRI           | Description   | Role      |\n",
    "| -----------   | -----------   |-----------|\n",
    "| `wdt:P1647`   | subproperty   | predicate |\n",
    "| `wdt:P31`     | instance of   | predicate |\n",
    "| `wdt:P279`    | subclass      | predicate |\n",
    "| `wdt:P106`    | occupation    | predicate |\n",
    "| `wdt:P27`     | citizenship   | predicate |\n",
    "| `wd:Q183`     | Germany       | node |\n",
    "| `wd:Q142`     | France        | node |\n",
    "| `wd:Q90`      | Paris         | node |\n",
    "| `wd:Q49757`   | Poet          | node |\n",
    "| `wd:Q36180`   | Writer        | node |\n",
    "| `wd:Q501`     | Charles Baudelaire  | node      |\n",
    "| `wd:Q272208`  | Montparnasse Cemetery       | node |\n",
    "\n",
    "\n",
    "Also consider\n",
    "\n",
    "```\n",
    "?p wdt:P27 wd:Q142  . \n",
    "?p wdt:P106 wd:Q36180  . \n",
    "```\n",
    "\n",
    "is the BGP to retrieve all **French writers**"
   ]
  },
  {
   "cell_type": "markdown",
   "id": "7af439fb-96e4-4dbb-a381-f19afab79f86",
   "metadata": {
    "tags": []
   },
   "source": [
    "## Workload Goals\n",
    "\n",
    "1. Identify the BGP that connect people to their place of birth or place, death, or burial\n",
    "\n",
    "2. Identify the BGP to obtain the country in which a place is located\n",
    "\n",
    "3. How many poets and writers  have a place of birth, death, or burial in Germany and France?\n",
    "\n",
    "4. Analyze cities across the two countries\n",
    " \n",
    "   4.1 Is there any poet for which the birth place and the place of burial are located in the same city either in Germany or France?\n",
    "   \n",
    "   4.2 Which cities host the place of birth of the larger number of poets or writers across the two countries?\n",
    "   \n",
    "   4.3 What are the top 3 cities in each country that you could visit? Based on what criteria?\n"
   ]
  },
  {
   "cell_type": "code",
   "execution_count": 2,
   "id": "24a853ab-830c-422c-afd3-e9e015b8b8ed",
   "metadata": {},
   "outputs": [],
   "source": [
    "# start your workflow here"
   ]
  },
  {
   "cell_type": "code",
   "execution_count": 3,
   "id": "ade01416-92e7-4ad7-b9a9-b8fb330750dc",
   "metadata": {},
   "outputs": [
    {
     "name": "stdout",
     "output_type": "stream",
     "text": [
      "Predicates\n",
      "[('callret-0', '14400')]\n"
     ]
    },
    {
     "data": {
      "text/plain": [
       "1"
      ]
     },
     "execution_count": 3,
     "metadata": {},
     "output_type": "execute_result"
    }
   ],
   "source": [
    "queryString = \"\"\"\n",
    "SELECT COUNT(*)\n",
    "WHERE { \n",
    "\n",
    "?p wdt:P27 wd:Q142  . \n",
    "?p wdt:P106 wd:Q36180  . \n",
    "} \n",
    "GROUP BY ?cult  ?arch\n",
    "\"\"\"\n",
    "\n",
    "print(\"Predicates\")\n",
    "run_query(queryString)"
   ]
  },
  {
   "cell_type": "markdown",
   "id": "c040f84e-6c40-4ace-b465-e2ff95e0bcfb",
   "metadata": {},
   "source": [
    "## My workflow\n",
    "### Search for properties of writers that are related with places of burial, death and birth\n",
    "\n",
    "### 1. Identify the BGP that connect people to their place of birth or place, death, or burial"
   ]
  },
  {
   "cell_type": "code",
   "execution_count": 4,
   "id": "85b57b05-2a78-4863-878e-b43551f649d7",
   "metadata": {},
   "outputs": [
    {
     "name": "stdout",
     "output_type": "stream",
     "text": [
      "Results\n",
      "[('p', 'http://www.wikidata.org/prop/direct/P102'), ('pname', 'member of political party')]\n",
      "[('p', 'http://www.wikidata.org/prop/direct/P1050'), ('pname', 'medical condition')]\n",
      "[('p', 'http://www.wikidata.org/prop/direct/P106'), ('pname', 'occupation')]\n",
      "[('p', 'http://www.wikidata.org/prop/direct/P1066'), ('pname', 'student of')]\n",
      "[('p', 'http://www.wikidata.org/prop/direct/P108'), ('pname', 'employer')]\n",
      "[('p', 'http://www.wikidata.org/prop/direct/P109'), ('pname', 'signature')]\n",
      "[('p', 'http://www.wikidata.org/prop/direct/P119'), ('pname', 'place of burial')]\n",
      "[('p', 'http://www.wikidata.org/prop/direct/P1196'), ('pname', 'manner of death')]\n",
      "[('p', 'http://www.wikidata.org/prop/direct/P1303'), ('pname', 'instrument')]\n",
      "[('p', 'http://www.wikidata.org/prop/direct/P1343'), ('pname', 'described by source')]\n",
      "[('p', 'http://www.wikidata.org/prop/direct/P1344'), ('pname', 'participant in')]\n",
      "[('p', 'http://www.wikidata.org/prop/direct/P136'), ('pname', 'genre')]\n",
      "[('p', 'http://www.wikidata.org/prop/direct/P140'), ('pname', 'religion')]\n",
      "[('p', 'http://www.wikidata.org/prop/direct/P1411'), ('pname', 'nominated for')]\n",
      "[('p', 'http://www.wikidata.org/prop/direct/P1412'), ('pname', 'languages spoken, written or signed')]\n",
      "[('p', 'http://www.wikidata.org/prop/direct/P166'), ('pname', 'award received')]\n",
      "[('p', 'http://www.wikidata.org/prop/direct/P172'), ('pname', 'ethnic group')]\n",
      "[('p', 'http://www.wikidata.org/prop/direct/P18'), ('pname', 'image')]\n",
      "[('p', 'http://www.wikidata.org/prop/direct/P1889'), ('pname', 'different from')]\n",
      "[('p', 'http://www.wikidata.org/prop/direct/P19'), ('pname', 'place of birth')]\n",
      "[('p', 'http://www.wikidata.org/prop/direct/P1950'), ('pname', 'second family name in Spanish name')]\n",
      "[('p', 'http://www.wikidata.org/prop/direct/P20'), ('pname', 'place of death')]\n",
      "[('p', 'http://www.wikidata.org/prop/direct/P21'), ('pname', 'sex or gender')]\n",
      "[('p', 'http://www.wikidata.org/prop/direct/P22'), ('pname', 'father')]\n",
      "[('p', 'http://www.wikidata.org/prop/direct/P26'), ('pname', 'spouse')]\n",
      "[('p', 'http://www.wikidata.org/prop/direct/P264'), ('pname', 'record label')]\n",
      "[('p', 'http://www.wikidata.org/prop/direct/P27'), ('pname', 'country of citizenship')]\n",
      "[('p', 'http://www.wikidata.org/prop/direct/P2868'), ('pname', 'subject has role')]\n",
      "[('p', 'http://www.wikidata.org/prop/direct/P31'), ('pname', 'instance of')]\n",
      "[('p', 'http://www.wikidata.org/prop/direct/P3373'), ('pname', 'sibling')]\n"
     ]
    },
    {
     "data": {
      "text/plain": [
       "30"
      ]
     },
     "execution_count": 4,
     "metadata": {},
     "output_type": "execute_result"
    }
   ],
   "source": [
    "queryString = \"\"\"\n",
    "SELECT DISTINCT ?p ?pname WHERE {\n",
    "    # search for poet\n",
    "    ?poet wdt:P106 wd:Q36180 ;\n",
    "            ?p ?o .\n",
    "    \n",
    "    # this returns the labels\n",
    "    ?p <http://schema.org/name> ?pname .\n",
    "    \n",
    "    # exclude data properties\n",
    "    FILTER(!isLiteral(?o))\n",
    "}\n",
    "LIMIT 30\n",
    "\"\"\"\n",
    "\n",
    "print(\"Results\")\n",
    "run_query(queryString)"
   ]
  },
  {
   "cell_type": "markdown",
   "id": "2a2a3a81-1652-4e2c-84f7-e49aafef30d7",
   "metadata": {},
   "source": [
    "I discover properties P119 (place of burial), P19 (place of birth) and P20 (place of death)."
   ]
  },
  {
   "cell_type": "code",
   "execution_count": 7,
   "id": "71bc641d-d46c-47a6-a598-5f1ae7118358",
   "metadata": {},
   "outputs": [
    {
     "name": "stdout",
     "output_type": "stream",
     "text": [
      "Results\n",
      "[('s', 'http://www.wikidata.org/entity/Q13656462'), ('sname', 'Iris Brooks'), ('class', 'http://www.wikidata.org/entity/Q15632617'), ('classname', 'fictional human')]\n",
      "[('s', 'http://www.wikidata.org/entity/Q13656760'), ('sname', 'Lisa Dagdelen'), ('class', 'http://www.wikidata.org/entity/Q15632617'), ('classname', 'fictional human')]\n",
      "[('s', 'http://www.wikidata.org/entity/Q13656907'), ('sname', 'Murat Dagdelen'), ('class', 'http://www.wikidata.org/entity/Q15632617'), ('classname', 'fictional human')]\n",
      "[('s', 'http://www.wikidata.org/entity/Q13657412'), ('sname', 'Carsten Flöter'), ('class', 'http://www.wikidata.org/entity/Q15632617'), ('classname', 'fictional human')]\n",
      "[('s', 'http://www.wikidata.org/entity/Q13660282'), ('sname', 'Andrea Neumann'), ('class', 'http://www.wikidata.org/entity/Q15632617'), ('classname', 'fictional human')]\n",
      "[('s', 'http://www.wikidata.org/entity/Q13882716'), ('sname', 'Ahmet Dagdelen'), ('class', 'http://www.wikidata.org/entity/Q15632617'), ('classname', 'fictional human')]\n",
      "[('s', 'http://www.wikidata.org/entity/Q13882775'), ('sname', 'Canan Dagdelen'), ('class', 'http://www.wikidata.org/entity/Q15632617'), ('classname', 'fictional human')]\n",
      "[('s', 'http://www.wikidata.org/entity/Q13933438'), ('sname', 'Berta Griese'), ('class', 'http://www.wikidata.org/entity/Q15632617'), ('classname', 'fictional human')]\n",
      "[('s', 'http://www.wikidata.org/entity/Q15707554'), ('sname', 'Apple Bloom'), ('class', 'http://www.wikidata.org/entity/Q15711870'), ('classname', 'animated character')]\n",
      "[('s', 'http://www.wikidata.org/entity/Q13656462'), ('sname', 'Iris Brooks'), ('class', 'http://www.wikidata.org/entity/Q15773317'), ('classname', 'television character')]\n",
      "[('s', 'http://www.wikidata.org/entity/Q13656760'), ('sname', 'Lisa Dagdelen'), ('class', 'http://www.wikidata.org/entity/Q15773317'), ('classname', 'television character')]\n",
      "[('s', 'http://www.wikidata.org/entity/Q13656907'), ('sname', 'Murat Dagdelen'), ('class', 'http://www.wikidata.org/entity/Q15773317'), ('classname', 'television character')]\n",
      "[('s', 'http://www.wikidata.org/entity/Q13657412'), ('sname', 'Carsten Flöter'), ('class', 'http://www.wikidata.org/entity/Q15773317'), ('classname', 'television character')]\n",
      "[('s', 'http://www.wikidata.org/entity/Q13660282'), ('sname', 'Andrea Neumann'), ('class', 'http://www.wikidata.org/entity/Q15773317'), ('classname', 'television character')]\n",
      "[('s', 'http://www.wikidata.org/entity/Q13882716'), ('sname', 'Ahmet Dagdelen'), ('class', 'http://www.wikidata.org/entity/Q15773317'), ('classname', 'television character')]\n",
      "[('s', 'http://www.wikidata.org/entity/Q13882775'), ('sname', 'Canan Dagdelen'), ('class', 'http://www.wikidata.org/entity/Q15773317'), ('classname', 'television character')]\n",
      "[('s', 'http://www.wikidata.org/entity/Q13933438'), ('sname', 'Berta Griese'), ('class', 'http://www.wikidata.org/entity/Q15773317'), ('classname', 'television character')]\n",
      "[('s', 'http://www.wikidata.org/entity/Q1002728'), ('sname', 'Fonsi Nieto'), ('class', 'http://www.wikidata.org/entity/Q5'), ('classname', 'human')]\n",
      "[('s', 'http://www.wikidata.org/entity/Q100343342'), ('sname', 'Lubomír Stoklásek'), ('class', 'http://www.wikidata.org/entity/Q5'), ('classname', 'human')]\n",
      "[('s', 'http://www.wikidata.org/entity/Q105753880'), ('sname', 'Mateo Egea'), ('class', 'http://www.wikidata.org/entity/Q5'), ('classname', 'human')]\n",
      "[('s', 'http://www.wikidata.org/entity/Q11404285'), ('sname', 'Mikiko Kitano'), ('class', 'http://www.wikidata.org/entity/Q5'), ('classname', 'human')]\n",
      "[('s', 'http://www.wikidata.org/entity/Q11562694'), ('sname', 'Takayoshi Watanabe'), ('class', 'http://www.wikidata.org/entity/Q5'), ('classname', 'human')]\n",
      "[('s', 'http://www.wikidata.org/entity/Q11686949'), ('sname', 'José Ximénez'), ('class', 'http://www.wikidata.org/entity/Q5'), ('classname', 'human')]\n",
      "[('s', 'http://www.wikidata.org/entity/Q1342082'), ('sname', 'Youssef Ziedan'), ('class', 'http://www.wikidata.org/entity/Q5'), ('classname', 'human')]\n",
      "[('s', 'http://www.wikidata.org/entity/Q1373516'), ('sname', 'Eugénio de Castro'), ('class', 'http://www.wikidata.org/entity/Q5'), ('classname', 'human')]\n",
      "[('s', 'http://www.wikidata.org/entity/Q15215818'), ('sname', 'Erzsébet Bereczky'), ('class', 'http://www.wikidata.org/entity/Q5'), ('classname', 'human')]\n",
      "[('s', 'http://www.wikidata.org/entity/Q17413490'), ('sname', 'Antón Patiño Regueira'), ('class', 'http://www.wikidata.org/entity/Q5'), ('classname', 'human')]\n",
      "[('s', 'http://www.wikidata.org/entity/Q18531652'), ('sname', 'William Walker'), ('class', 'http://www.wikidata.org/entity/Q5'), ('classname', 'human')]\n",
      "[('s', 'http://www.wikidata.org/entity/Q19594453'), ('sname', 'Menchu Lamas'), ('class', 'http://www.wikidata.org/entity/Q5'), ('classname', 'human')]\n",
      "[('s', 'http://www.wikidata.org/entity/Q20100600'), ('sname', 'Antoni Freixa i Martí'), ('class', 'http://www.wikidata.org/entity/Q5'), ('classname', 'human')]\n"
     ]
    },
    {
     "data": {
      "text/plain": [
       "30"
      ]
     },
     "execution_count": 7,
     "metadata": {},
     "output_type": "execute_result"
    }
   ],
   "source": [
    "queryString = \"\"\"\n",
    "SELECT DISTINCT ?s ?sname ?class ?classname WHERE {\n",
    "   \n",
    "    ?s  wdt:P19 ?o ;\n",
    "        wdt:P31 ?class .\n",
    "        \n",
    "    \n",
    "    # this returns the labels\n",
    "    ?s <http://schema.org/name> ?sname .\n",
    "    ?class <http://schema.org/name> ?classname .\n",
    "    \n",
    "}\n",
    "LIMIT 30\n",
    "\"\"\"\n",
    "\n",
    "print(\"Results\")\n",
    "run_query(queryString)"
   ]
  },
  {
   "cell_type": "markdown",
   "id": "844993cd-5cff-4828-9b16-9c97cc2509da",
   "metadata": {},
   "source": [
    "I decided to explicitly avoid literary, fictional or human characters because often they can lack of information and use only Q5 (human)."
   ]
  },
  {
   "cell_type": "code",
   "execution_count": 6,
   "id": "39a13341-e70e-43d1-a756-38f082b7a8f3",
   "metadata": {},
   "outputs": [
    {
     "name": "stdout",
     "output_type": "stream",
     "text": [
      "Results\n",
      "[('hname', 'Henri Fantin-Latour'), ('bname', 'Grenoble'), ('dname', 'Buré'), ('burial', 'Montparnasse Cemetery')]\n",
      "[('hname', 'Pablo Gargallo'), ('bname', 'Maella'), ('dname', 'Reus'), ('burial', 'Montjuïc Cemetery')]\n",
      "[('hname', 'Vicente Enrique y Tarancón'), ('bname', 'Borriana'), ('dname', 'Valencia'), ('burial', 'San Isidro Church')]\n",
      "[('hname', 'Bohuslav Balbín'), ('bname', 'Hradec Králové'), ('dname', 'Prague'), ('burial', 'Prague')]\n",
      "[('hname', 'Bohuslav Balbín'), ('bname', 'Hradec Králové'), ('dname', 'Prague'), ('burial', 'St. Salvator Church')]\n"
     ]
    },
    {
     "data": {
      "text/plain": [
       "5"
      ]
     },
     "execution_count": 6,
     "metadata": {},
     "output_type": "execute_result"
    }
   ],
   "source": [
    "queryString = \"\"\"\n",
    "SELECT DISTINCT ?hname ?bname ?dname ?burial WHERE {\n",
    "   \n",
    "   # search for poet\n",
    "    ?human  wdt:P19 ?birthplace ;\n",
    "            wdt:P20 ?deathplace ;\n",
    "            wdt:P119 ?burialplace ;\n",
    "            wdt:P31 wd:Q5 .\n",
    "        \n",
    "    \n",
    "    # this returns the labels\n",
    "    ?human <http://schema.org/name> ?hname .\n",
    "    ?birthplace <http://schema.org/name> ?bname .\n",
    "    ?deathplace <http://schema.org/name> ?dname .\n",
    "    ?burialplace <http://schema.org/name> ?burial .\n",
    "\n",
    "}\n",
    "LIMIT 5\n",
    "\"\"\"\n",
    "\n",
    "print(\"Results\")\n",
    "run_query(queryString)"
   ]
  },
  {
   "cell_type": "raw",
   "id": "0868f508-3ec4-4228-8fa3-277a7b41291f",
   "metadata": {},
   "source": [
    "?human  wdt:P19 ?birthplace ;\n",
    "        wdt:P20 ?deathplace ;\n",
    "        wdt:P119 ?burialplace ;\n",
    "        wdt:P31 wd:Q5 .\n",
    "            \n",
    "is the BGP that connects people to their place of birth, death (P20) and burial (P119)"
   ]
  },
  {
   "cell_type": "markdown",
   "id": "fd2e217f-ca83-4667-9294-2dcce7f8ccae",
   "metadata": {},
   "source": [
    "### 2. Identify the BGP to obtain the country in which a place is located"
   ]
  },
  {
   "cell_type": "markdown",
   "id": "aeee442d-d5e2-43d4-b5e4-8d55322fe53b",
   "metadata": {},
   "source": [
    "Starting from the table, I look for a property of the cemetery"
   ]
  },
  {
   "cell_type": "code",
   "execution_count": 22,
   "id": "636e395d-dc48-4e42-a149-6596848d4fed",
   "metadata": {},
   "outputs": [
    {
     "name": "stdout",
     "output_type": "stream",
     "text": [
      "Results\n",
      "[('p', 'http://www.wikidata.org/prop/direct/P1791'), ('property', 'category of people buried here'), ('o', 'http://www.wikidata.org/entity/Q6444336'), ('oname', 'Category:Burials at Montparnasse Cemetery')]\n",
      "[('p', 'http://www.wikidata.org/prop/direct/P17'), ('property', 'country'), ('o', 'http://www.wikidata.org/entity/Q142'), ('oname', 'France')]\n",
      "[('p', 'http://www.wikidata.org/prop/direct/P495'), ('property', 'country of origin'), ('o', 'http://www.wikidata.org/entity/Q142'), ('oname', 'France')]\n",
      "[('p', 'http://www.wikidata.org/prop/direct/P131'), ('property', 'located in the administrative territorial entity'), ('o', 'http://www.wikidata.org/entity/Q187153'), ('oname', '14th arrondissement of Paris')]\n",
      "[('p', 'http://www.wikidata.org/prop/direct/P3032'), ('property', 'adjacent building'), ('o', 'http://www.wikidata.org/entity/Q764465'), ('oname', 'Montparnasse – Bienvenüe')]\n",
      "[('p', 'http://www.wikidata.org/prop/direct/P669'), ('property', 'located on street'), ('o', 'http://www.wikidata.org/entity/Q2921810'), ('oname', 'boulevard Edgar-Quinet')]\n",
      "[('p', 'http://www.wikidata.org/prop/direct/P31'), ('property', 'instance of'), ('o', 'http://www.wikidata.org/entity/Q2972684'), ('oname', 'Parisian cemetery')]\n",
      "[('p', 'http://www.wikidata.org/prop/direct/P527'), ('property', 'has part'), ('o', 'http://www.wikidata.org/entity/Q3220192'), ('oname', 'The Kiss')]\n",
      "[('p', 'http://www.wikidata.org/prop/direct/P910'), ('property', \"topic's main category\"), ('o', 'http://www.wikidata.org/entity/Q9594268'), ('oname', 'Category:Cimetière du Montparnasse')]\n"
     ]
    },
    {
     "data": {
      "text/plain": [
       "9"
      ]
     },
     "execution_count": 22,
     "metadata": {},
     "output_type": "execute_result"
    }
   ],
   "source": [
    "queryString = \"\"\"\n",
    "SELECT DISTINCT ?p ?property ?pname ?o ?oname WHERE {\n",
    "    # search for poe\n",
    "    wd:Q272208 ?p ?o .\n",
    "    \n",
    "    # this returns the labels\n",
    "    ?p <http://schema.org/name> ?property .\n",
    "    ?o <http://schema.org/name> ?oname .\n",
    "    \n",
    "    # exclude data properties\n",
    "    FILTER(!isLiteral(?o))\n",
    "}\n",
    "LIMIT 50\n",
    "\"\"\"\n",
    "\n",
    "print(\"Results\")\n",
    "run_query(queryString)"
   ]
  },
  {
   "cell_type": "markdown",
   "id": "c8897ac5-2025-42ae-b0f7-633cce0252d3",
   "metadata": {},
   "source": [
    "P17 links cemetery to the country\n",
    "so the bgp is \n",
    "\n",
    "?place  wdt:P17 ?country .\n",
    "            "
   ]
  },
  {
   "cell_type": "markdown",
   "id": "8527d89d-b99c-41ad-aa2e-a2664994869e",
   "metadata": {},
   "source": [
    "### 3. How many poets and writers have a place of birth, death, or burial in Germany and France?"
   ]
  },
  {
   "cell_type": "code",
   "execution_count": 8,
   "id": "01b7fc53-92bd-41ce-995c-049761f1dba0",
   "metadata": {},
   "outputs": [
    {
     "name": "stdout",
     "output_type": "stream",
     "text": [
      "Results\n",
      "[('count', '2454')]\n"
     ]
    },
    {
     "data": {
      "text/plain": [
       "1"
      ]
     },
     "execution_count": 8,
     "metadata": {},
     "output_type": "execute_result"
    }
   ],
   "source": [
    "queryString = \"\"\"\n",
    "SELECT (COUNT (?literati) AS ?count) WHERE {\n",
    "   \n",
    "   # search for poet\n",
    "    ?s  wdt:P19 ?birthplace ;\n",
    "        wdt:P20 ?deathplace ;\n",
    "        wdt:P119 ?burialplace ;  \n",
    "        wdt:P106 ?occupation .\n",
    "                \n",
    "    ?birthplace wdt:P17 ?country .\n",
    "    ?deathplace wdt:P17 ?country .\n",
    "    ?burialplace wdt:P17 ?country . \n",
    "    \n",
    "    ?s <http://schema.org/name> ?literati .\n",
    "\n",
    "    \n",
    "    # I add filters to specify work (writers or poet) and country (Germany or France )\n",
    "    FILTER ((?occupation = wd:Q49757) || (?occupation = wd:Q36180)) .\n",
    "    FILTER ((?country = wd:Q183) || (?country = wd:Q142)) .\n",
    "\n",
    "}\n",
    "\"\"\"\n",
    "\n",
    "print(\"Results\")\n",
    "run_query(queryString)"
   ]
  },
  {
   "cell_type": "markdown",
   "id": "529ecb9d-5040-4d3f-914d-642b3fc7b37e",
   "metadata": {},
   "source": [
    "### 4.1 Is there any poet for which the birth place and the place of burial are located in the same city either in Germany or France?\n"
   ]
  },
  {
   "cell_type": "markdown",
   "id": "4800c390-3453-4fff-884a-ea4856e055d1",
   "metadata": {},
   "source": [
    "From the query above, I discover that Montparnasse Cemetery is linked to 14th arrondissement of Paris with P131"
   ]
  },
  {
   "cell_type": "code",
   "execution_count": 10,
   "id": "f099f7f3-62bc-44d3-a147-e9a6df9078a6",
   "metadata": {},
   "outputs": [
    {
     "name": "stdout",
     "output_type": "stream",
     "text": [
      "Results\n",
      "[('p', 'http://www.wikidata.org/prop/direct/P47'), ('property', 'shares border with'), ('o', 'http://www.wikidata.org/entity/Q175129'), ('oname', '13th arrondissement of Paris')]\n",
      "[('p', 'http://www.wikidata.org/prop/direct/P1365'), ('property', 'replaces'), ('o', 'http://www.wikidata.org/entity/Q15149909'), ('oname', 'former 12th arrondissement of Paris')]\n",
      "[('p', 'http://www.wikidata.org/prop/direct/P17'), ('property', 'country'), ('o', 'http://www.wikidata.org/entity/Q142'), ('oname', 'France')]\n",
      "[('p', 'http://www.wikidata.org/prop/direct/P47'), ('property', 'shares border with'), ('o', 'http://www.wikidata.org/entity/Q238723'), ('oname', '5th arrondissement of Paris')]\n",
      "[('p', 'http://www.wikidata.org/prop/direct/P47'), ('property', 'shares border with'), ('o', 'http://www.wikidata.org/entity/Q245546'), ('oname', '6th arrondissement of Paris')]\n",
      "[('p', 'http://www.wikidata.org/prop/direct/P31'), ('property', 'instance of'), ('o', 'http://www.wikidata.org/entity/Q702842'), ('oname', 'municipal arrondissement')]\n",
      "[('p', 'http://www.wikidata.org/prop/direct/P131'), ('property', 'located in the administrative territorial entity'), ('o', 'http://www.wikidata.org/entity/Q90'), ('oname', 'Paris')]\n",
      "[('p', 'http://www.wikidata.org/prop/direct/P150'), ('property', 'contains administrative territorial entity'), ('o', 'http://www.wikidata.org/entity/Q211604'), ('oname', 'Montparnasse')]\n",
      "[('p', 'http://www.wikidata.org/prop/direct/P150'), ('property', 'contains administrative territorial entity'), ('o', 'http://www.wikidata.org/entity/Q1537421'), ('oname', 'Petit-Montrouge')]\n",
      "[('p', 'http://www.wikidata.org/prop/direct/P150'), ('property', 'contains administrative territorial entity'), ('o', 'http://www.wikidata.org/entity/Q3413173'), ('oname', 'Plaisance')]\n",
      "[('p', 'http://www.wikidata.org/prop/direct/P150'), ('property', 'contains administrative territorial entity'), ('o', 'http://www.wikidata.org/entity/Q3413285'), ('oname', 'Parc-de-Montsouris')]\n",
      "[('p', 'http://www.wikidata.org/prop/direct/P1365'), ('property', 'replaces'), ('o', 'http://www.wikidata.org/entity/Q234728'), ('oname', 'Vanves')]\n",
      "[('p', 'http://www.wikidata.org/prop/direct/P1365'), ('property', 'replaces'), ('o', 'http://www.wikidata.org/entity/Q241021'), ('oname', 'Montrouge')]\n",
      "[('p', 'http://www.wikidata.org/prop/direct/P1365'), ('property', 'replaces'), ('o', 'http://www.wikidata.org/entity/Q640102'), ('oname', 'Gentilly')]\n",
      "[('p', 'http://www.wikidata.org/prop/direct/P47'), ('property', 'shares border with'), ('o', 'http://www.wikidata.org/entity/Q191066'), ('oname', '15th arrondissement of Paris')]\n",
      "[('p', 'http://www.wikidata.org/prop/direct/P1365'), ('property', 'replaces'), ('o', 'http://www.wikidata.org/entity/Q3555080'), ('oname', 'Vaugirard')]\n",
      "[('p', 'http://www.wikidata.org/prop/direct/P1740'), ('property', 'category for films shot at this location'), ('o', 'http://www.wikidata.org/entity/Q10212268'), ('oname', 'Category:Films shot in the 14th arrondissement of Paris')]\n",
      "[('p', 'http://www.wikidata.org/prop/direct/P6'), ('property', 'head of government'), ('o', 'http://www.wikidata.org/entity/Q18744921'), ('oname', 'Carine Petit')]\n",
      "[('p', 'http://www.wikidata.org/prop/direct/P1313'), ('property', 'office held by head of government'), ('o', 'http://www.wikidata.org/entity/Q62093207'), ('oname', 'Mayor of 14th arrondissement of Paris')]\n",
      "[('p', 'http://www.wikidata.org/prop/direct/P910'), ('property', \"topic's main category\"), ('o', 'http://www.wikidata.org/entity/Q7470165'), ('oname', 'Category:14th arrondissement of Paris')]\n",
      "[('p', 'http://www.wikidata.org/prop/direct/P7867'), ('property', 'category for maps'), ('o', 'http://www.wikidata.org/entity/Q84117756'), ('oname', 'Category:Maps of Paris 14e arrondissement')]\n",
      "[('p', 'http://www.wikidata.org/prop/direct/P1465'), ('property', 'category for people who died here'), ('o', 'http://www.wikidata.org/entity/Q9678745'), ('oname', 'Category:Deaths in 14th arrondissement of Paris')]\n"
     ]
    },
    {
     "data": {
      "text/plain": [
       "22"
      ]
     },
     "execution_count": 10,
     "metadata": {},
     "output_type": "execute_result"
    }
   ],
   "source": [
    "queryString = \"\"\"\n",
    "SELECT DISTINCT ?p ?property ?pname ?o ?oname WHERE {\n",
    "    # search for poe\n",
    "    wd:Q187153 ?p ?o .\n",
    "    \n",
    "    # this returns the labels\n",
    "    ?p <http://schema.org/name> ?property .\n",
    "    ?o <http://schema.org/name> ?oname .\n",
    "    \n",
    "    # exclude data properties\n",
    "    FILTER(!isLiteral(?o))\n",
    "}\n",
    "LIMIT 50\n",
    "\"\"\"\n",
    "\n",
    "print(\"Results\")\n",
    "run_query(queryString)"
   ]
  },
  {
   "cell_type": "markdown",
   "id": "ec0e5558-cc72-45a9-a992-6824fdb50cfe",
   "metadata": {},
   "source": [
    "So, with another P131 I find Paris."
   ]
  },
  {
   "cell_type": "code",
   "execution_count": 11,
   "id": "89129755-7fd3-4604-8d41-f04c9abd5a39",
   "metadata": {},
   "outputs": [
    {
     "name": "stdout",
     "output_type": "stream",
     "text": [
      "Results\n",
      "[('literati', 'Valery Larbaud'), ('birth', 'Vichy'), ('cityb', 'Vichy')]\n",
      "[('literati', 'Joseph Victor von Scheffel'), ('birth', 'Karlsruhe'), ('cityb', 'Karlsruhe')]\n",
      "[('literati', 'Johann Georg Daniel Arnold'), ('birth', 'Strasbourg'), ('cityb', 'Strasbourg')]\n",
      "[('literati', 'Hanns Heinz Ewers'), ('birth', 'Düsseldorf'), ('cityb', 'Düsseldorf')]\n",
      "[('literati', 'Jean Lescure'), ('birth', 'Asnières-sur-Seine'), ('cityb', 'Asnières-sur-Seine')]\n",
      "[('literati', 'Hans Sachs'), ('birth', 'Nuremberg'), ('cityb', 'Nuremberg')]\n",
      "[('literati', 'Roger Gilbert-Lecomte'), ('birth', 'Reims'), ('cityb', 'Reims')]\n",
      "[('literati', 'Sophie Hoechstetter'), ('birth', 'Pappenheim'), ('cityb', 'Pappenheim')]\n",
      "[('literati', 'Édouard Turquety'), ('birth', 'Rennes'), ('cityb', 'Rennes')]\n",
      "[('literati', 'August Hermann Niemeyer'), ('birth', 'Halle (Saale)'), ('cityb', 'Halle (Saale)')]\n"
     ]
    },
    {
     "data": {
      "text/plain": [
       "10"
      ]
     },
     "execution_count": 11,
     "metadata": {},
     "output_type": "execute_result"
    }
   ],
   "source": [
    "queryString = \"\"\"\n",
    "SELECT DISTINCT ?literati ?birth ?cityb WHERE {\n",
    "   \n",
    "   # search for poet\n",
    "    ?s  wdt:P19 ?citybirth ;\n",
    "        wdt:P119 ?burialplace ;\n",
    "        wdt:P106 wd:Q49757 .\n",
    "                \n",
    "    ?burialplace wdt:P131 ?cityburial .\n",
    "    \n",
    "    ?citybirth wdt:P17 ?country .\n",
    "    ?cityburial wdt:P17 ?country .\n",
    "    \n",
    "    # this returns the labels\n",
    "     ?s <http://schema.org/name> ?literati .\n",
    "     ?citybirth <http://schema.org/name> ?birth .\n",
    "     ?cityburial <http://schema.org/name> ?cityb .\n",
    "     \n",
    "    FILTER (?citybirth = ?cityburial) .\n",
    "    FILTER ((?country = wd:Q183) || (?country = wd:Q142)) .\n",
    "} \n",
    "LIMIT 10\n",
    "\"\"\"\n",
    "print(\"Results\")\n",
    "run_query(queryString)"
   ]
  },
  {
   "cell_type": "markdown",
   "id": "cfcdee2c-3070-4474-ac84-5d343803d2ea",
   "metadata": {},
   "source": [
    "### 4.2 Which cities host the place of birth of the largest number of poets or writers across the two countries?"
   ]
  },
  {
   "cell_type": "code",
   "execution_count": 20,
   "id": "9b669069-6ae0-4380-92c5-cfe7ef9daaa4",
   "metadata": {},
   "outputs": [
    {
     "name": "stdout",
     "output_type": "stream",
     "text": [
      "Results\n",
      "[('numLiterari', '2787'), ('birthplace', 'http://www.wikidata.org/entity/Q90'), ('birth', 'Paris')]\n",
      "[('numLiterari', '2007'), ('birthplace', 'http://www.wikidata.org/entity/Q64'), ('birth', 'Berlin')]\n",
      "[('numLiterari', '895'), ('birthplace', 'http://www.wikidata.org/entity/Q1055'), ('birth', 'Hamburg')]\n",
      "[('numLiterari', '816'), ('birthplace', 'http://www.wikidata.org/entity/Q1726'), ('birth', 'Munich')]\n",
      "[('numLiterari', '481'), ('birthplace', 'http://www.wikidata.org/entity/Q2079'), ('birth', 'Leipzig')]\n",
      "[('numLiterari', '461'), ('birthplace', 'http://www.wikidata.org/entity/Q365'), ('birth', 'Cologne')]\n",
      "[('numLiterari', '446'), ('birthplace', 'http://www.wikidata.org/entity/Q1794'), ('birth', 'Frankfurt am Main')]\n",
      "[('numLiterari', '395'), ('birthplace', 'http://www.wikidata.org/entity/Q1022'), ('birth', 'Stuttgart')]\n",
      "[('numLiterari', '388'), ('birthplace', 'http://www.wikidata.org/entity/Q1731'), ('birth', 'Dresden')]\n",
      "[('numLiterari', '323'), ('birthplace', 'http://www.wikidata.org/entity/Q1715'), ('birth', 'Hanover')]\n"
     ]
    },
    {
     "data": {
      "text/plain": [
       "10"
      ]
     },
     "execution_count": 20,
     "metadata": {},
     "output_type": "execute_result"
    }
   ],
   "source": [
    "queryString = \"\"\"\n",
    "SELECT (COUNT (?literari) AS ?numLiterari) ?birthplace ?birth WHERE {\n",
    "   \n",
    "    ?s  wdt:P19 ?birthplace ;  \n",
    "        wdt:P106 ?lavoro .\n",
    "    \n",
    "    ?birthplace wdt:P17 ?country .\n",
    "    \n",
    "    # this returns the labels\n",
    "     ?s <http://schema.org/name> ?literari .\n",
    "     ?birthplace <http://schema.org/name> ?birth .\n",
    "     \n",
    "     FILTER ((?lavoro = wd:Q49757) || (?lavoro = wd:Q36180)) .\n",
    "     FILTER ((?country = wd:Q183) || (?country = wd:Q142)) .\n",
    "}\n",
    "\n",
    "GROUP BY ?birthplace ?birth \n",
    "ORDER BY desc(?numLiterari)\n",
    "\n",
    "LIMIT 10\n",
    "\n",
    "\n",
    "\"\"\"\n",
    "print(\"Results\")\n",
    "run_query(queryString)"
   ]
  },
  {
   "cell_type": "markdown",
   "id": "40f97fbe-5984-484a-8331-08671c2441e6",
   "metadata": {},
   "source": [
    "Since I see that numers are pretty low, I assume that lots of neighborhood are counted as cities, so with a path I try to force that all the places of birth must be grouped in instances of city"
   ]
  },
  {
   "cell_type": "code",
   "execution_count": 32,
   "id": "131ebd69-27a6-459c-8eb6-f54b73827c5f",
   "metadata": {},
   "outputs": [
    {
     "name": "stdout",
     "output_type": "stream",
     "text": [
      "Results\n",
      "[('numArtists', '6063'), ('vera', 'Berlin')]\n",
      "[('numArtists', '5622'), ('vera', 'Hamburg')]\n",
      "[('numArtists', '2463'), ('vera', 'Munich')]\n",
      "[('numArtists', '1800'), ('vera', 'Frankfurt am Main')]\n",
      "[('numArtists', '978'), ('vera', 'Leipzig')]\n",
      "[('numArtists', '905'), ('vera', 'Magdeburg')]\n",
      "[('numArtists', '836'), ('vera', 'Stuttgart')]\n",
      "[('numArtists', '820'), ('vera', 'Dresden')]\n",
      "[('numArtists', '796'), ('vera', 'Bonn')]\n",
      "[('numArtists', '792'), ('vera', 'Essen')]\n"
     ]
    },
    {
     "data": {
      "text/plain": [
       "10"
      ]
     },
     "execution_count": 32,
     "metadata": {},
     "output_type": "execute_result"
    }
   ],
   "source": [
    "queryString = \"\"\"\n",
    "SELECT (COUNT (?literati) AS ?numArtists) ?vera WHERE {\n",
    "       values ?country {wd:Q183 wd:Q142}\n",
    "    ?s  wdt:P19 ?birthplace ;  \n",
    "        wdt:P106 ?job .\n",
    "                          \n",
    "    ?birthplace wdt:P17 ?country ;\n",
    "                wdt:P131? ?real .\n",
    "    \n",
    "    ?real wdt:P31*/wdt:P279 wd:Q515 . #path to specifically \n",
    "    \n",
    "    # this returns the labels\n",
    "     ?s <http://schema.org/name> ?literati .\n",
    "     ?birthplace <http://schema.org/name> ?birth .\n",
    "     ?real <http://schema.org/name> ?vera .\n",
    "     \n",
    "     FILTER ((?job = wd:Q49757) || (?job = wd:Q36180)) .\n",
    "}\n",
    "\n",
    "GROUP BY ?vera \n",
    "ORDER BY desc(?numArtists)\n",
    "\n",
    "LIMIT 10\n",
    "\n",
    "\n",
    "\"\"\"\n",
    "print(\"Results\")\n",
    "run_query(queryString)"
   ]
  },
  {
   "cell_type": "markdown",
   "id": "36649cdc-4f89-4982-9b0a-b65821698775",
   "metadata": {},
   "source": [
    "### 4.3 What are the top 3 cities in each country that you could visit? Based on what criteria?"
   ]
  },
  {
   "cell_type": "code",
   "execution_count": 22,
   "id": "844b9d01-7797-4fb5-8d8c-716e9111e9d6",
   "metadata": {},
   "outputs": [
    {
     "name": "stdout",
     "output_type": "stream",
     "text": [
      "Results\n",
      "[('p', 'http://www.wikidata.org/prop/direct/P8744'), ('properties', 'economy of topic'), ('o', 'http://www.wikidata.org/entity/Q320054'), ('oname', 'economy of Berlin')]\n",
      "[('p', 'http://www.wikidata.org/prop/direct/P6104'), ('properties', 'maintained by WikiProject'), ('o', 'http://www.wikidata.org/entity/Q59078352'), ('oname', 'Wikipedia:WikiProject Berlin')]\n",
      "[('p', 'http://www.wikidata.org/prop/direct/P1830'), ('properties', 'owner of'), ('o', 'http://www.wikidata.org/entity/Q685725'), ('oname', 'Deutschlandhalle')]\n",
      "[('p', 'http://www.wikidata.org/prop/direct/P194'), ('properties', 'legislative body'), ('o', 'http://www.wikidata.org/entity/Q640859'), ('oname', 'Abgeordnetenhaus of Berlin')]\n",
      "[('p', 'http://www.wikidata.org/prop/direct/P31'), ('properties', 'instance of'), ('o', 'http://www.wikidata.org/entity/Q257391'), ('oname', 'federal capital')]\n",
      "[('p', 'http://www.wikidata.org/prop/direct/P166'), ('properties', 'award received'), ('o', 'http://www.wikidata.org/entity/Q3323440'), ('oname', 'Princess of Asturias Award for Concord')]\n",
      "[('p', 'http://www.wikidata.org/prop/direct/P1830'), ('properties', 'owner of'), ('o', 'http://www.wikidata.org/entity/Q656063'), ('oname', 'Friedrich-Ludwig-Jahn-Sportpark')]\n",
      "[('p', 'http://www.wikidata.org/prop/direct/P206'), ('properties', 'located in or next to body of water'), ('o', 'http://www.wikidata.org/entity/Q1538524'), ('oname', 'Gosen Canal')]\n",
      "[('p', 'http://www.wikidata.org/prop/direct/P1830'), ('properties', 'owner of'), ('o', 'http://www.wikidata.org/entity/Q162684'), ('oname', 'Charité')]\n",
      "[('p', 'http://www.wikidata.org/prop/direct/P1365'), ('properties', 'replaces'), ('o', 'http://www.wikidata.org/entity/Q56037'), ('oname', 'East Berlin')]\n",
      "[('p', 'http://www.wikidata.org/prop/direct/P47'), ('properties', 'shares border with'), ('o', 'http://www.wikidata.org/entity/Q104192'), ('oname', 'Kleinmachnow')]\n",
      "[('p', 'http://www.wikidata.org/prop/direct/P793'), ('properties', 'significant event'), ('o', 'http://www.wikidata.org/entity/Q154182'), ('oname', 'Battle of Berlin')]\n",
      "[('p', 'http://www.wikidata.org/prop/direct/P150'), ('properties', 'contains administrative territorial entity'), ('o', 'http://www.wikidata.org/entity/Q158064'), ('oname', 'Steglitz-Zehlendorf')]\n",
      "[('p', 'http://www.wikidata.org/prop/direct/P47'), ('properties', 'shares border with'), ('o', 'http://www.wikidata.org/entity/Q6178'), ('oname', 'Oder-Spree District')]\n",
      "[('p', 'http://www.wikidata.org/prop/direct/P150'), ('properties', 'contains administrative territorial entity'), ('o', 'http://www.wikidata.org/entity/Q158106'), ('oname', 'Tempelhof-Schöneberg')]\n",
      "[('p', 'http://www.wikidata.org/prop/direct/P206'), ('properties', 'located in or next to body of water'), ('o', 'http://www.wikidata.org/entity/Q316287'), ('oname', 'Neukölln Ship Canal')]\n",
      "[('p', 'http://www.wikidata.org/prop/direct/P1792'), ('properties', 'category of associated people'), ('o', 'http://www.wikidata.org/entity/Q6151539'), ('oname', 'Category:People from Berlin')]\n",
      "[('p', 'http://www.wikidata.org/prop/direct/P1830'), ('properties', 'owner of'), ('o', 'http://www.wikidata.org/entity/Q754454'), ('oname', 'ResearchGate')]\n",
      "[('p', 'http://www.wikidata.org/prop/direct/P485'), ('properties', 'archives at'), ('o', 'http://www.wikidata.org/entity/Q1610731'), ('oname', 'Landesarchiv Berlin')]\n",
      "[('p', 'http://www.wikidata.org/prop/direct/P190'), ('properties', 'twinned administrative body'), ('o', 'http://www.wikidata.org/entity/Q1085'), ('oname', 'Prague')]\n",
      "[('p', 'http://www.wikidata.org/prop/direct/P463'), ('properties', 'member of'), ('o', 'http://www.wikidata.org/entity/Q1139352'), ('oname', 'Creative Cities Network')]\n",
      "[('p', 'http://www.wikidata.org/prop/direct/P47'), ('properties', 'shares border with'), ('o', 'http://www.wikidata.org/entity/Q1208'), ('oname', 'Brandenburg')]\n",
      "[('p', 'http://www.wikidata.org/prop/direct/P501'), ('properties', 'enclave within'), ('o', 'http://www.wikidata.org/entity/Q1208'), ('oname', 'Brandenburg')]\n",
      "[('p', 'http://www.wikidata.org/prop/direct/P31'), ('properties', 'instance of'), ('o', 'http://www.wikidata.org/entity/Q1221156'), ('oname', 'state of Germany')]\n",
      "[('p', 'http://www.wikidata.org/prop/direct/P190'), ('properties', 'twinned administrative body'), ('o', 'http://www.wikidata.org/entity/Q1486'), ('oname', 'Buenos Aires')]\n",
      "[('p', 'http://www.wikidata.org/prop/direct/P190'), ('properties', 'twinned administrative body'), ('o', 'http://www.wikidata.org/entity/Q1489'), ('oname', 'Mexico City')]\n",
      "[('p', 'http://www.wikidata.org/prop/direct/P190'), ('properties', 'twinned administrative body'), ('o', 'http://www.wikidata.org/entity/Q1490'), ('oname', 'Tokyo')]\n",
      "[('p', 'http://www.wikidata.org/prop/direct/P361'), ('properties', 'part of'), ('o', 'http://www.wikidata.org/entity/Q15781847'), ('oname', 'agglomeration of Berlin')]\n",
      "[('p', 'http://www.wikidata.org/prop/direct/P150'), ('properties', 'contains administrative territorial entity'), ('o', 'http://www.wikidata.org/entity/Q158095'), ('oname', 'Charlottenburg-Wilmersdorf')]\n",
      "[('p', 'http://www.wikidata.org/prop/direct/P150'), ('properties', 'contains administrative territorial entity'), ('o', 'http://www.wikidata.org/entity/Q158876'), ('oname', 'Reinickendorf')]\n",
      "[('p', 'http://www.wikidata.org/prop/direct/P150'), ('properties', 'contains administrative territorial entity'), ('o', 'http://www.wikidata.org/entity/Q158893'), ('oname', 'Friedrichshain-Kreuzberg')]\n",
      "[('p', 'http://www.wikidata.org/prop/direct/P1343'), ('properties', 'described by source'), ('o', 'http://www.wikidata.org/entity/Q15987490'), ('oname', '1922 Encyclopædia Britannica')]\n",
      "[('p', 'http://www.wikidata.org/prop/direct/P463'), ('properties', 'member of'), ('o', 'http://www.wikidata.org/entity/Q1654951'), ('oname', 'IT-Planungsrat')]\n",
      "[('p', 'http://www.wikidata.org/prop/direct/P206'), ('properties', 'located in or next to body of water'), ('o', 'http://www.wikidata.org/entity/Q1682'), ('oname', 'Havel')]\n",
      "[('p', 'http://www.wikidata.org/prop/direct/P47'), ('properties', 'shares border with'), ('o', 'http://www.wikidata.org/entity/Q1711'), ('oname', 'Potsdam')]\n",
      "[('p', 'http://www.wikidata.org/prop/direct/P190'), ('properties', 'twinned administrative body'), ('o', 'http://www.wikidata.org/entity/Q1748'), ('oname', 'Copenhagen')]\n",
      "[('p', 'http://www.wikidata.org/prop/direct/P463'), ('properties', 'member of'), ('o', 'http://www.wikidata.org/entity/Q1768108'), ('oname', 'Climate Alliance')]\n",
      "[('p', 'http://www.wikidata.org/prop/direct/P190'), ('properties', 'twinned administrative body'), ('o', 'http://www.wikidata.org/entity/Q1781'), ('oname', 'Budapest')]\n",
      "[('p', 'http://www.wikidata.org/prop/direct/P131'), ('properties', 'located in the administrative territorial entity'), ('o', 'http://www.wikidata.org/entity/Q183'), ('oname', 'Germany')]\n",
      "[('p', 'http://www.wikidata.org/prop/direct/P1376'), ('properties', 'capital of'), ('o', 'http://www.wikidata.org/entity/Q183'), ('oname', 'Germany')]\n",
      "[('p', 'http://www.wikidata.org/prop/direct/P17'), ('properties', 'country'), ('o', 'http://www.wikidata.org/entity/Q183'), ('oname', 'Germany')]\n",
      "[('p', 'http://www.wikidata.org/prop/direct/P37'), ('properties', 'official language'), ('o', 'http://www.wikidata.org/entity/Q188'), ('oname', 'German')]\n",
      "[('p', 'http://www.wikidata.org/prop/direct/P190'), ('properties', 'twinned administrative body'), ('o', 'http://www.wikidata.org/entity/Q1899'), ('oname', 'Kyiv')]\n",
      "[('p', 'http://www.wikidata.org/prop/direct/P31'), ('properties', 'instance of'), ('o', 'http://www.wikidata.org/entity/Q1901835'), ('oname', 'seat of government')]\n",
      "[('p', 'http://www.wikidata.org/prop/direct/P1343'), ('properties', 'described by source'), ('o', 'http://www.wikidata.org/entity/Q19180675'), ('oname', 'Small Brockhaus and Efron Encyclopedic Dictionary')]\n",
      "[('p', 'http://www.wikidata.org/prop/direct/P31'), ('properties', 'instance of'), ('o', 'http://www.wikidata.org/entity/Q200250'), ('oname', 'metropolis')]\n",
      "[('p', 'http://www.wikidata.org/prop/direct/P1343'), ('properties', 'described by source'), ('o', 'http://www.wikidata.org/entity/Q20078554'), ('oname', 'Great Soviet Encyclopedia (1926–1947)')]\n",
      "[('p', 'http://www.wikidata.org/prop/direct/P1343'), ('properties', 'described by source'), ('o', 'http://www.wikidata.org/entity/Q2041543'), ('oname', 'Ottův slovník naučný')]\n",
      "[('p', 'http://www.wikidata.org/prop/direct/P190'), ('properties', 'twinned administrative body'), ('o', 'http://www.wikidata.org/entity/Q239'), ('oname', 'City of Brussels')]\n",
      "[('p', 'http://www.wikidata.org/prop/direct/P190'), ('properties', 'twinned administrative body'), ('o', 'http://www.wikidata.org/entity/Q270'), ('oname', 'Warsaw')]\n"
     ]
    },
    {
     "data": {
      "text/plain": [
       "50"
      ]
     },
     "execution_count": 28,
     "metadata": {},
     "output_type": "execute_result"
    }
   ],
   "source": [
    "# I search for some interesting property of a city\n",
    "\n",
    "queryString = \"\"\"\n",
    "SELECT DISTINCT ?p ?properties ?o ?oname WHERE {\n",
    "    wd:Q64 ?p ?o  .\n",
    "    \n",
    "    ?p <http://schema.org/name> ?properties .\n",
    "    ?o <http://schema.org/name> ?oname\n",
    "}\n",
    "LIMIT 50\n",
    "\"\"\"\n",
    "print(\"Results\")\n",
    "run_query(queryString)\n"
   ]
  },
  {
   "cell_type": "markdown",
   "id": "f737fc16-ebab-45f4-bc9d-a724ab3191a3",
   "metadata": {},
   "source": [
    "I find interesting P8687, social media followers, so I will use it"
   ]
  },
  {
   "cell_type": "markdown",
   "id": "93ee69e8-fe67-42fb-9d03-47449222679a",
   "metadata": {},
   "source": [
    "Now I show the cities with the most social media followers through France & Germany"
   ]
  },
  {
   "cell_type": "code",
   "execution_count": 15,
   "id": "27faecb8-9efb-477d-a77d-1b3706f9944f",
   "metadata": {
    "tags": []
   },
   "outputs": [
    {
     "name": "stdout",
     "output_type": "stream",
     "text": [
      "Results\n",
      "[('numFollowers', '260627'), ('city', 'Munich')]\n",
      "[('numFollowers', '232696'), ('city', 'Bordeaux')]\n",
      "[('numFollowers', '214132'), ('city', 'Frankfurt am Main')]\n",
      "[('numFollowers', '201515'), ('city', 'Toulouse')]\n",
      "[('numFollowers', '159032'), ('city', 'Marseille')]\n",
      "[('numFollowers', '139002'), ('city', 'Nantes')]\n",
      "[('numFollowers', '116784'), ('city', 'Berlin')]\n",
      "[('numFollowers', '105857'), ('city', 'Strasbourg')]\n",
      "[('numFollowers', '99902'), ('city', 'Nice')]\n",
      "[('numFollowers', '75580'), ('city', 'Rennes')]\n",
      "[('numFollowers', '65755'), ('city', 'Düsseldorf')]\n",
      "[('numFollowers', '55654'), ('city', 'Rouen')]\n",
      "[('numFollowers', '42931'), ('city', 'Angers')]\n",
      "[('numFollowers', '42666'), ('city', 'Grenoble')]\n",
      "[('numFollowers', '37968'), ('city', 'Lille')]\n",
      "[('numFollowers', '37908'), ('city', 'Montpellier')]\n",
      "[('numFollowers', '22528'), ('city', 'Hanover')]\n",
      "[('numFollowers', '20332'), ('city', 'Nancy')]\n",
      "[('numFollowers', '19812'), ('city', 'Caen')]\n",
      "[('numFollowers', '17186'), ('city', 'Bonn')]\n",
      "[('numFollowers', '16968'), ('city', 'Saint-Étienne')]\n",
      "[('numFollowers', '16676'), ('city', 'Tours')]\n",
      "[('numFollowers', '15706'), ('city', 'Essen')]\n",
      "[('numFollowers', '14406'), ('city', 'Brest')]\n",
      "[('numFollowers', '12903'), ('city', 'Le Havre')]\n",
      "[('numFollowers', '12028'), ('city', 'Limoges')]\n",
      "[('numFollowers', '11197'), ('city', 'Dijon')]\n",
      "[('numFollowers', '10459'), ('city', 'Mulhouse')]\n",
      "[('numFollowers', '10165'), ('city', 'Boulogne-Billancourt')]\n",
      "[('numFollowers', '9807'), ('city', 'Montreuil')]\n",
      "[('numFollowers', '8388'), ('city', 'Saint-Denis')]\n",
      "[('numFollowers', '6583'), ('city', 'Darmstadt')]\n",
      "[('numFollowers', '5613'), ('city', 'Bamberg')]\n",
      "[('numFollowers', '5582'), ('city', 'Le Mans')]\n",
      "[('numFollowers', '3516'), ('city', 'Hagen')]\n",
      "[('numFollowers', '3165'), ('city', 'Herne')]\n",
      "[('numFollowers', '2772'), ('city', 'Moers')]\n",
      "[('numFollowers', '2271'), ('city', 'Aschaffenburg')]\n",
      "[('numFollowers', '2152'), ('city', 'Bayreuth')]\n",
      "[('numFollowers', '1426'), ('city', 'Bad Homburg vor der Höhe')]\n",
      "[('numFollowers', '1065'), ('city', 'Attendorn')]\n"
     ]
    },
    {
     "data": {
      "text/plain": [
       "41"
      ]
     },
     "execution_count": 29,
     "metadata": {},
     "output_type": "execute_result"
    }
   ],
   "source": [
    "queryString = \"\"\"\n",
    "SELECT DISTINCT ?numFollowers ?city WHERE {\n",
    "        values ?country {wd:Q183 wd:Q142}\n",
    "        ?c  wdt:P31*/wdt:P279 wd:Q515 ; #path created to specifically find a city\n",
    "            wdt:P8687 ?numFollowers  ;\n",
    "            wdt:P17 ?country .\n",
    "            \n",
    "        # this returns the labels\n",
    "        ?c <http://schema.org/name> ?city .\n",
    "}\n",
    "\n",
    "ORDER BY desc (?numFollowers)\n",
    "\n",
    "\"\"\"\n",
    "print(\"Results\")\n",
    "run_query(queryString)"
   ]
  },
  {
   "cell_type": "markdown",
   "id": "f34d0253-7fdc-4243-bd58-e60ee4d7f4f0",
   "metadata": {},
   "source": [
    "I think there can be some linking issue with Paris since it doesn't appear."
   ]
  }
 ],
 "metadata": {
  "kernelspec": {
   "display_name": "Python 3",
   "language": "python",
   "name": "python3"
  },
  "language_info": {
   "codemirror_mode": {
    "name": "ipython",
    "version": 3
   },
   "file_extension": ".py",
   "mimetype": "text/x-python",
   "name": "python",
   "nbconvert_exporter": "python",
   "pygments_lexer": "ipython3",
   "version": "3.7.10"
  }
 },
 "nbformat": 4,
 "nbformat_minor": 5
}
