{
 "cells": [
  {
   "cell_type": "markdown",
   "id": "7034c3bf-6eb0-4418-8687-7b9d2a501103",
   "metadata": {},
   "source": [
    "# General instructions\n",
    "\n",
    "The goal of the project is to materialize a set of **exploratory workloads** over a real-world, large-scale,  open-domain KG: [WikiData](https://www.wikidata.org/wiki/Wikidata:Main_Page)\n",
    "\n",
    "An exploratory workload  is composed by a set of queries, where each query is related to the information obtained previously.\n",
    "\n",
    "An exploratory workload starts with a usually vague, open ended question, and does not assume the person issuing the workload has a clear understanding of the data contained in the target database or its structure.\n",
    "\n",
    "Remeber that:\n",
    "\n",
    "1. All the queries must run in the python notebook\n",
    "2. You can use classes and properties only if you find them via a SPARQL query that must be present in the notebook\n",
    "3. You do not delete useless queries. Keep everything that is synthatically valid \n",
    "\n",
    "```\n",
    "?p <http://schema.org/name> ?name .\n",
    "```\n",
    "    \n",
    "    is the BGP returning a human-readable name of a property or a class in Wikidata.\n",
    "    \n",
    "    "
   ]
  },
  {
   "cell_type": "code",
   "execution_count": 1,
   "id": "3605c9d5-5371-49a5-be8d-d66e8f417139",
   "metadata": {},
   "outputs": [],
   "source": [
    "## SETUP used later\n",
    "\n",
    "from SPARQLWrapper import SPARQLWrapper, JSON\n",
    "\n",
    "\n",
    "prefixString = \"\"\"\n",
    "##-NOTEBOOK_CODE_HERE-##\n",
    "PREFIX wd: <http://www.wikidata.org/entity/> \n",
    "PREFIX wdt: <http://www.wikidata.org/prop/direct/> \n",
    "PREFIX sc: <http://schema.org/>\n",
    "\"\"\"\n",
    "\n",
    "# select and construct queries\n",
    "def run_query(queryString):\n",
    "    to_run = prefixString + \"\\n\" + queryString\n",
    "\n",
    "    sparql = SPARQLWrapper(\"http://a256-gc1-02.srv.aau.dk:5820/sparql\")\n",
    "    sparql.setTimeout(300)\n",
    "    sparql.setReturnFormat(JSON)\n",
    "    sparql.setQuery(to_run)\n",
    "\n",
    "    try :\n",
    "       results = sparql.query()\n",
    "       json_results = results.convert()\n",
    "       if len(json_results['results']['bindings'])==0:\n",
    "          print(\"Empty\")\n",
    "          return 0\n",
    "    \n",
    "       for bindings in json_results['results']['bindings']:\n",
    "          print( [ (var, value['value'])  for var, value in bindings.items() ] )\n",
    "\n",
    "       return len(json_results['results']['bindings'])\n",
    "\n",
    "    except Exception as e :\n",
    "        print(\"The operation failed\", e)\n",
    "    \n",
    "# ASk queries\n",
    "def run_ask_query(queryString):\n",
    "    to_run = prefixString + \"\\n\" + queryString\n",
    "\n",
    "    sparql = SPARQLWrapper(\"http://a256-gc1-03.srv.aau.dk:5820/sparql\")\n",
    "    sparql.setTimeout(300)\n",
    "    sparql.setReturnFormat(JSON)\n",
    "    sparql.setQuery(to_run)\n",
    "\n",
    "    try :\n",
    "        return sparql.query().convert()\n",
    "\n",
    "    except Exception as e :\n",
    "        print(\"The operation failed\", e)"
   ]
  },
  {
   "cell_type": "markdown",
   "id": "d477a59c-a68c-4c8f-9f97-8ca5294d7d27",
   "metadata": {},
   "source": [
    "# Book Workflow Series (\"Authors comparison explorative search\") \n",
    "\n",
    "Consider the following exploratory scenario:\n",
    "\n",
    "\n",
    ">  Investigate the the production of Paul Auster and Ian McEwan, check how many books they have written for each litarature genre, gather information about their production and about their works which are not books\n",
    "\n",
    "\n",
    "\n",
    "## Useful URIs for the current workflow\n",
    "The following are given:\n",
    "\n",
    "| IRI           | Description   | Role      |\n",
    "| -----------   | -----------   |-----------|\n",
    "| `wdt:P1647`   | subproperty   | predicate |\n",
    "| `wdt:P31`     | instance of   | predicate |\n",
    "| `wdt:P106`    | profession    | predicate | \n",
    "| `wdt:P279`    | subclass      | predicate |\n",
    "| `wd:Q47461344`| writtenwork   | node |\n",
    "| `wd:Q214642`  | Paul Auster   | node |\n",
    "| `wd:Q190379`  | Ian McEwan    | node |\n",
    "\n",
    "\n",
    "\n",
    "\n",
    "Also consider\n",
    "\n",
    "```\n",
    "wd:Q214642 ?rel ?obj  . \n",
    "```\n",
    "is the BGP to retrieve all **properties of Paul Auster**\n",
    "\n",
    "\n",
    "The workload should\n",
    "\n",
    "\n",
    "1. Identify the BGP for obtaining the books (with publishing date and genre) published by the two authors\n",
    "\n",
    "2. Did the authors published a book in the same year? What is the longest period without publishing a book for the two authors? \n",
    "\n",
    "3. Did the authors produced, acted or directed a film? If so, did they write the screenplay?\n",
    "\n",
    "4. How many films were derived from the books of these two authors? \n",
    "\n",
    "5. Which author won more literature-related awards? Have they ever being nominated for a Nobel award? "
   ]
  },
  {
   "cell_type": "code",
   "execution_count": 2,
   "id": "24a853ab-830c-422c-afd3-e9e015b8b8ed",
   "metadata": {},
   "outputs": [],
   "source": [
    "# start your workflow here"
   ]
  },
  {
   "cell_type": "code",
   "execution_count": 3,
   "id": "ade01416-92e7-4ad7-b9a9-b8fb330750dc",
   "metadata": {},
   "outputs": [
    {
     "name": "stdout",
     "output_type": "stream",
     "text": [
      "Results\n",
      "[('callret-0', '191')]\n"
     ]
    },
    {
     "data": {
      "text/plain": [
       "1"
      ]
     },
     "execution_count": 3,
     "metadata": {},
     "output_type": "execute_result"
    }
   ],
   "source": [
    "queryString = \"\"\"\n",
    "SELECT COUNT( ?obj)\n",
    "WHERE { \n",
    "wd:Q214642 ?rel ?obj  . \n",
    "} \n",
    "\"\"\"\n",
    "\n",
    "print(\"Results\")\n",
    "run_query(queryString)"
   ]
  },
  {
   "cell_type": "markdown",
   "id": "c96a8eeb-5d0e-476c-8713-87d636058757",
   "metadata": {},
   "source": [
    "### 1. Identify the BGP for obtaining the books (with publishing date and genre) published by the two authors"
   ]
  },
  {
   "cell_type": "markdown",
   "id": "3da5d3e3-59ac-48fb-90a9-9288cc090263",
   "metadata": {},
   "source": [
    "Let's analyze the links to the authors"
   ]
  },
  {
   "cell_type": "code",
   "execution_count": 4,
   "id": "57ba67d0-e8d2-4fa5-a46f-9cd9e3e6ada2",
   "metadata": {
    "collapsed": true,
    "jupyter": {
     "outputs_hidden": true
    },
    "tags": []
   },
   "outputs": [
    {
     "name": "stdout",
     "output_type": "stream",
     "text": [
      "Results\n",
      "[('p', 'http://www.wikidata.org/prop/direct/P26'), ('pname', 'spouse'), ('o', 'http://www.wikidata.org/entity/Q1280035'), ('oname', 'Lydia Davis')]\n",
      "[('p', 'http://www.wikidata.org/prop/direct/P800'), ('pname', 'notable work'), ('o', 'http://www.wikidata.org/entity/Q581485'), ('oname', 'The Book of Illusions')]\n",
      "[('p', 'http://www.wikidata.org/prop/direct/P734'), ('pname', 'family name'), ('o', 'http://www.wikidata.org/entity/Q37565995'), ('oname', 'McEwan')]\n",
      "[('p', 'http://www.wikidata.org/prop/direct/P69'), ('pname', 'educated at'), ('o', 'http://www.wikidata.org/entity/Q1045828'), ('oname', 'University of East Anglia')]\n",
      "[('p', 'http://www.wikidata.org/prop/direct/P735'), ('pname', 'given name'), ('o', 'http://www.wikidata.org/entity/Q18336315'), ('oname', 'Ian')]\n",
      "[('p', 'http://www.wikidata.org/prop/direct/P69'), ('pname', 'educated at'), ('o', 'http://www.wikidata.org/entity/Q1161297'), ('oname', 'University of Sussex')]\n",
      "[('p', 'http://www.wikidata.org/prop/direct/P19'), ('pname', 'place of birth'), ('o', 'http://www.wikidata.org/entity/Q25395'), ('oname', 'Newark')]\n",
      "[('p', 'http://www.wikidata.org/prop/direct/P463'), ('pname', 'member of'), ('o', 'http://www.wikidata.org/entity/Q7118978'), ('oname', 'PEN America')]\n",
      "[('p', 'http://www.wikidata.org/prop/direct/P19'), ('pname', 'place of birth'), ('o', 'http://www.wikidata.org/entity/Q646980'), ('oname', 'Aldershot')]\n",
      "[('p', 'http://www.wikidata.org/prop/direct/P166'), ('pname', 'award received'), ('o', 'http://www.wikidata.org/entity/Q56494487'), ('oname', 'honorary doctor of the University of Sussex')]\n",
      "[('p', 'http://www.wikidata.org/prop/direct/P737'), ('pname', 'influenced by'), ('o', 'http://www.wikidata.org/entity/Q187019'), ('oname', 'Philip Roth')]\n",
      "[('p', 'http://www.wikidata.org/prop/direct/P166'), ('pname', 'award received'), ('o', 'http://www.wikidata.org/entity/Q5153503'), ('oname', 'Common Wealth Award of Distinguished Service')]\n",
      "[('p', 'http://www.wikidata.org/prop/direct/P106'), ('pname', 'occupation'), ('o', 'http://www.wikidata.org/entity/Q11774202'), ('oname', 'essayist')]\n",
      "[('p', 'http://www.wikidata.org/prop/direct/P166'), ('pname', 'award received'), ('o', 'http://www.wikidata.org/entity/Q12201477'), ('oname', 'Commander of the Order of the British Empire')]\n",
      "[('p', 'http://www.wikidata.org/prop/direct/P166'), ('pname', 'award received'), ('o', 'http://www.wikidata.org/entity/Q13452531'), ('oname', 'Commandeur des Arts et des Lettres\\u200e')]\n",
      "[('p', 'http://www.wikidata.org/prop/direct/P106'), ('pname', 'occupation'), ('o', 'http://www.wikidata.org/entity/Q14467526'), ('oname', 'linguist')]\n",
      "[('p', 'http://www.wikidata.org/prop/direct/P27'), ('pname', 'country of citizenship'), ('o', 'http://www.wikidata.org/entity/Q145'), ('oname', 'United Kingdom')]\n",
      "[('p', 'http://www.wikidata.org/prop/direct/P463'), ('pname', 'member of'), ('o', 'http://www.wikidata.org/entity/Q1468277'), ('oname', 'Royal Society of Literature')]\n",
      "[('p', 'http://www.wikidata.org/prop/direct/P1412'), ('pname', 'languages spoken, written or signed'), ('o', 'http://www.wikidata.org/entity/Q150'), ('oname', 'French')]\n",
      "[('p', 'http://www.wikidata.org/prop/direct/P106'), ('pname', 'occupation'), ('o', 'http://www.wikidata.org/entity/Q1622272'), ('oname', 'university teacher')]\n",
      "[('p', 'http://www.wikidata.org/prop/direct/P1412'), ('pname', 'languages spoken, written or signed'), ('o', 'http://www.wikidata.org/entity/Q1860'), ('oname', 'English')]\n",
      "[('p', 'http://www.wikidata.org/prop/direct/P1412'), ('pname', 'languages spoken, written or signed'), ('o', 'http://www.wikidata.org/entity/Q1860'), ('oname', 'English')]\n",
      "[('p', 'http://www.wikidata.org/prop/direct/P106'), ('pname', 'occupation'), ('o', 'http://www.wikidata.org/entity/Q18814623'), ('oname', 'autobiographer')]\n",
      "[('p', 'http://www.wikidata.org/prop/direct/P6379'), ('pname', 'has works in the collection'), ('o', 'http://www.wikidata.org/entity/Q188740'), ('oname', 'Museum of Modern Art')]\n",
      "[('p', 'http://www.wikidata.org/prop/direct/P106'), ('pname', 'occupation'), ('o', 'http://www.wikidata.org/entity/Q214917'), ('oname', 'playwright')]\n",
      "[('p', 'http://www.wikidata.org/prop/direct/P106'), ('pname', 'occupation'), ('o', 'http://www.wikidata.org/entity/Q2526255'), ('oname', 'film director')]\n",
      "[('p', 'http://www.wikidata.org/prop/direct/P166'), ('pname', 'award received'), ('o', 'http://www.wikidata.org/entity/Q277787'), ('oname', 'Jerusalem Prize')]\n",
      "[('p', 'http://www.wikidata.org/prop/direct/P106'), ('pname', 'occupation'), ('o', 'http://www.wikidata.org/entity/Q28389'), ('oname', 'screenwriter')]\n",
      "[('p', 'http://www.wikidata.org/prop/direct/P106'), ('pname', 'occupation'), ('o', 'http://www.wikidata.org/entity/Q28389'), ('oname', 'screenwriter')]\n",
      "[('p', 'http://www.wikidata.org/prop/direct/P27'), ('pname', 'country of citizenship'), ('o', 'http://www.wikidata.org/entity/Q30'), ('oname', 'United States of America')]\n",
      "[('p', 'http://www.wikidata.org/prop/direct/P106'), ('pname', 'occupation'), ('o', 'http://www.wikidata.org/entity/Q3282637'), ('oname', 'film producer')]\n",
      "[('p', 'http://www.wikidata.org/prop/direct/P166'), ('pname', 'award received'), ('o', 'http://www.wikidata.org/entity/Q3332454'), ('oname', 'Princess of Asturias Literary Prize')]\n",
      "[('p', 'http://www.wikidata.org/prop/direct/P106'), ('pname', 'occupation'), ('o', 'http://www.wikidata.org/entity/Q333634'), ('oname', 'translator')]\n",
      "[('p', 'http://www.wikidata.org/prop/direct/P106'), ('pname', 'occupation'), ('o', 'http://www.wikidata.org/entity/Q36180'), ('oname', 'writer')]\n",
      "[('p', 'http://www.wikidata.org/prop/direct/P106'), ('pname', 'occupation'), ('o', 'http://www.wikidata.org/entity/Q36180'), ('oname', 'writer')]\n",
      "[('p', 'http://www.wikidata.org/prop/direct/P166'), ('pname', 'award received'), ('o', 'http://www.wikidata.org/entity/Q39477935'), ('oname', 'Fellow of the Royal Society of Literature')]\n",
      "[('p', 'http://www.wikidata.org/prop/direct/P463'), ('pname', 'member of'), ('o', 'http://www.wikidata.org/entity/Q463303'), ('oname', 'American Academy of Arts and Sciences')]\n",
      "[('p', 'http://www.wikidata.org/prop/direct/P463'), ('pname', 'member of'), ('o', 'http://www.wikidata.org/entity/Q463303'), ('oname', 'American Academy of Arts and Sciences')]\n",
      "[('p', 'http://www.wikidata.org/prop/direct/P106'), ('pname', 'occupation'), ('o', 'http://www.wikidata.org/entity/Q482980'), ('oname', 'author')]\n",
      "[('p', 'http://www.wikidata.org/prop/direct/P106'), ('pname', 'occupation'), ('o', 'http://www.wikidata.org/entity/Q482980'), ('oname', 'author')]\n",
      "[('p', 'http://www.wikidata.org/prop/direct/P108'), ('pname', 'employer'), ('o', 'http://www.wikidata.org/entity/Q49088'), ('oname', 'Columbia University')]\n",
      "[('p', 'http://www.wikidata.org/prop/direct/P69'), ('pname', 'educated at'), ('o', 'http://www.wikidata.org/entity/Q49088'), ('oname', 'Columbia University')]\n",
      "[('p', 'http://www.wikidata.org/prop/direct/P735'), ('pname', 'given name'), ('o', 'http://www.wikidata.org/entity/Q4925623'), ('oname', 'Paul')]\n",
      "[('p', 'http://www.wikidata.org/prop/direct/P106'), ('pname', 'occupation'), ('o', 'http://www.wikidata.org/entity/Q49757'), ('oname', 'poet')]\n",
      "[('p', 'http://www.wikidata.org/prop/direct/P31'), ('pname', 'instance of'), ('o', 'http://www.wikidata.org/entity/Q5'), ('oname', 'human')]\n",
      "[('p', 'http://www.wikidata.org/prop/direct/P31'), ('pname', 'instance of'), ('o', 'http://www.wikidata.org/entity/Q5'), ('oname', 'human')]\n",
      "[('p', 'http://www.wikidata.org/prop/direct/P166'), ('pname', 'award received'), ('o', 'http://www.wikidata.org/entity/Q52382875'), ('oname', 'AAAS Fellow')]\n",
      "[('p', 'http://www.wikidata.org/prop/direct/P166'), ('pname', 'award received'), ('o', 'http://www.wikidata.org/entity/Q52382875'), ('oname', 'AAAS Fellow')]\n",
      "[('p', 'http://www.wikidata.org/prop/direct/P1411'), ('pname', 'nominated for'), ('o', 'http://www.wikidata.org/entity/Q628637'), ('oname', \"European Film Award – People's Choice Award for Best European Film\")]\n",
      "[('p', 'http://www.wikidata.org/prop/direct/P21'), ('pname', 'sex or gender'), ('o', 'http://www.wikidata.org/entity/Q6581097'), ('oname', 'male')]\n",
      "[('p', 'http://www.wikidata.org/prop/direct/P21'), ('pname', 'sex or gender'), ('o', 'http://www.wikidata.org/entity/Q6581097'), ('oname', 'male')]\n",
      "[('p', 'http://www.wikidata.org/prop/direct/P106'), ('pname', 'occupation'), ('o', 'http://www.wikidata.org/entity/Q6625963'), ('oname', 'novelist')]\n",
      "[('p', 'http://www.wikidata.org/prop/direct/P106'), ('pname', 'occupation'), ('o', 'http://www.wikidata.org/entity/Q6625963'), ('oname', 'novelist')]\n",
      "[('p', 'http://www.wikidata.org/prop/direct/P1343'), ('pname', 'described by source'), ('o', 'http://www.wikidata.org/entity/Q67311526'), ('oname', 'Obalky knih.cz')]\n",
      "[('p', 'http://www.wikidata.org/prop/direct/P1343'), ('pname', 'described by source'), ('o', 'http://www.wikidata.org/entity/Q67311526'), ('oname', 'Obalky knih.cz')]\n",
      "[('p', 'http://www.wikidata.org/prop/direct/P136'), ('pname', 'genre'), ('o', 'http://www.wikidata.org/entity/Q676'), ('oname', 'prose')]\n",
      "[('p', 'http://www.wikidata.org/prop/direct/P140'), ('pname', 'religion'), ('o', 'http://www.wikidata.org/entity/Q7066'), ('oname', 'atheism')]\n",
      "[('p', 'http://www.wikidata.org/prop/direct/P7763'), ('pname', 'copyright status as a creator'), ('o', 'http://www.wikidata.org/entity/Q73555012'), ('oname', 'works protected by copyrights')]\n",
      "[('p', 'http://www.wikidata.org/prop/direct/P101'), ('pname', 'field of work'), ('o', 'http://www.wikidata.org/entity/Q8242'), ('oname', 'literature')]\n",
      "[('p', 'http://www.wikidata.org/prop/direct/P166'), ('pname', 'award received'), ('o', 'http://www.wikidata.org/entity/Q15271633'), ('oname', 'Fellow of the Royal Society of Arts')]\n",
      "[('p', 'http://www.wikidata.org/prop/direct/P108'), ('pname', 'employer'), ('o', 'http://www.wikidata.org/entity/Q193196'), ('oname', 'University College London')]\n",
      "[('p', 'http://www.wikidata.org/prop/direct/P463'), ('pname', 'member of'), ('o', 'http://www.wikidata.org/entity/Q40358'), ('oname', 'American Association for the Advancement of Science')]\n",
      "[('p', 'http://www.wikidata.org/prop/direct/P485'), ('pname', 'archives at'), ('o', 'http://www.wikidata.org/entity/Q5671855'), ('oname', 'Harry Ransom Center')]\n",
      "[('p', 'http://www.wikidata.org/prop/direct/P737'), ('pname', 'influenced by'), ('o', 'http://www.wikidata.org/entity/Q105756'), ('oname', 'John Updike')]\n",
      "[('p', 'http://www.wikidata.org/prop/direct/P6104'), ('pname', 'maintained by WikiProject'), ('o', 'http://www.wikidata.org/entity/Q101246526'), ('oname', 'Iedereen Leest')]\n",
      "[('p', 'http://www.wikidata.org/prop/direct/P166'), ('pname', 'award received'), ('o', 'http://www.wikidata.org/entity/Q1188661'), ('oname', 'PEN/Faulkner Award for Fiction')]\n",
      "[('p', 'http://www.wikidata.org/prop/direct/P1411'), ('pname', 'nominated for'), ('o', 'http://www.wikidata.org/entity/Q160082'), ('oname', 'Booker Prize')]\n",
      "[('p', 'http://www.wikidata.org/prop/direct/P166'), ('pname', 'award received'), ('o', 'http://www.wikidata.org/entity/Q160082'), ('oname', 'Booker Prize')]\n",
      "[('p', 'http://www.wikidata.org/prop/direct/P166'), ('pname', 'award received'), ('o', 'http://www.wikidata.org/entity/Q3405076'), ('oname', 'Prix Médicis for foreign literature')]\n",
      "[('p', 'http://www.wikidata.org/prop/direct/P166'), ('pname', 'award received'), ('o', 'http://www.wikidata.org/entity/Q392586'), ('oname', 'James Tait Black Memorial Prize')]\n",
      "[('p', 'http://www.wikidata.org/prop/direct/P1343'), ('pname', 'described by source'), ('o', 'http://www.wikidata.org/entity/Q41981607'), ('oname', 'Iedereen Leest')]\n",
      "[('p', 'http://www.wikidata.org/prop/direct/P172'), ('pname', 'ethnic group'), ('o', 'http://www.wikidata.org/entity/Q42406'), ('oname', 'English people')]\n",
      "[('p', 'http://www.wikidata.org/prop/direct/P463'), ('pname', 'member of'), ('o', 'http://www.wikidata.org/entity/Q463281'), ('oname', 'American Academy of Arts and Letters')]\n",
      "[('p', 'http://www.wikidata.org/prop/direct/P166'), ('pname', 'award received'), ('o', 'http://www.wikidata.org/entity/Q5709276'), ('oname', 'Helmerich Award')]\n",
      "[('p', 'http://www.wikidata.org/prop/direct/P166'), ('pname', 'award received'), ('o', 'http://www.wikidata.org/entity/Q3404580'), ('oname', 'Prix Femina étranger')]\n",
      "[('p', 'http://www.wikidata.org/prop/direct/P737'), ('pname', 'influenced by'), ('o', 'http://www.wikidata.org/entity/Q40909'), ('oname', 'Virginia Woolf')]\n",
      "[('p', 'http://www.wikidata.org/prop/direct/P69'), ('pname', 'educated at'), ('o', 'http://www.wikidata.org/entity/Q5149722'), ('oname', 'Columbia High School')]\n",
      "[('p', 'http://www.wikidata.org/prop/direct/P737'), ('pname', 'influenced by'), ('o', 'http://www.wikidata.org/entity/Q905'), ('oname', 'Franz Kafka')]\n",
      "[('p', 'http://www.wikidata.org/prop/direct/P800'), ('pname', 'notable work'), ('o', 'http://www.wikidata.org/entity/Q1817920'), ('oname', 'Man in the Dark')]\n",
      "[('p', 'http://www.wikidata.org/prop/direct/P7084'), ('pname', 'related category'), ('o', 'http://www.wikidata.org/entity/Q7510954'), ('oname', 'Category:Films directed by Paul Auster')]\n",
      "[('p', 'http://www.wikidata.org/prop/direct/P737'), ('pname', 'influenced by'), ('o', 'http://www.wikidata.org/entity/Q83059'), ('oname', 'Saul Bellow')]\n",
      "[('p', 'http://www.wikidata.org/prop/direct/P1411'), ('pname', 'nominated for'), ('o', 'http://www.wikidata.org/entity/Q1362723'), ('oname', 'International IMPAC Dublin Literary Award')]\n",
      "[('p', 'http://www.wikidata.org/prop/direct/P166'), ('pname', 'award received'), ('o', 'http://www.wikidata.org/entity/Q4936657'), ('oname', 'Bodley Medal')]\n",
      "[('p', 'http://www.wikidata.org/prop/direct/P166'), ('pname', 'award received'), ('o', 'http://www.wikidata.org/entity/Q50622024'), ('oname', 'honorary doctorate of Carlos III University')]\n",
      "[('p', 'http://www.wikidata.org/prop/direct/P26'), ('pname', 'spouse'), ('o', 'http://www.wikidata.org/entity/Q259543'), ('oname', 'Siri Hustvedt')]\n",
      "[('p', 'http://www.wikidata.org/prop/direct/P800'), ('pname', 'notable work'), ('o', 'http://www.wikidata.org/entity/Q1215203'), ('oname', 'The New York Trilogy')]\n",
      "[('p', 'http://www.wikidata.org/prop/direct/P166'), ('pname', 'award received'), ('o', 'http://www.wikidata.org/entity/Q891461'), ('oname', 'Bollinger Everyman Wodehouse Prize')]\n",
      "[('p', 'http://www.wikidata.org/prop/direct/P1411'), ('pname', 'nominated for'), ('o', 'http://www.wikidata.org/entity/Q2052291'), ('oname', 'International Booker Prize')]\n",
      "[('p', 'http://www.wikidata.org/prop/direct/P26'), ('pname', 'spouse'), ('o', 'http://www.wikidata.org/entity/Q3243784'), ('oname', 'Annalena McAfee')]\n",
      "[('p', 'http://www.wikidata.org/prop/direct/P910'), ('pname', \"topic's main category\"), ('o', 'http://www.wikidata.org/entity/Q8718676'), ('oname', 'Category:Paul Auster')]\n",
      "[('p', 'http://www.wikidata.org/prop/direct/P734'), ('pname', 'family name'), ('o', 'http://www.wikidata.org/entity/Q16479919'), ('oname', 'Auster')]\n",
      "[('p', 'http://www.wikidata.org/prop/direct/P800'), ('pname', 'notable work'), ('o', 'http://www.wikidata.org/entity/Q306619'), ('oname', 'Atonement')]\n",
      "[('p', 'http://www.wikidata.org/prop/direct/P800'), ('pname', 'notable work'), ('o', 'http://www.wikidata.org/entity/Q1821899'), ('oname', 'Leviathan')]\n",
      "[('p', 'http://www.wikidata.org/prop/direct/P166'), ('pname', 'award received'), ('o', 'http://www.wikidata.org/entity/Q7462809'), ('oname', 'Shakespeare Prize')]\n",
      "[('p', 'http://www.wikidata.org/prop/direct/P910'), ('pname', \"topic's main category\"), ('o', 'http://www.wikidata.org/entity/Q15831559'), ('oname', 'Category:Ian McEwan')]\n",
      "[('p', 'http://www.wikidata.org/prop/direct/P800'), ('pname', 'notable work'), ('o', 'http://www.wikidata.org/entity/Q1198186'), ('oname', 'The Cement Garden')]\n",
      "[('p', 'http://www.wikidata.org/prop/direct/P69'), ('pname', 'educated at'), ('o', 'http://www.wikidata.org/entity/Q16903654'), ('oname', 'Woolverstone Hall School')]\n",
      "[('p', 'http://www.wikidata.org/prop/direct/P40'), ('pname', 'child'), ('o', 'http://www.wikidata.org/entity/Q445905'), ('oname', 'Sophie Auster')]\n"
     ]
    },
    {
     "data": {
      "text/plain": [
       "98"
      ]
     },
     "execution_count": 4,
     "metadata": {},
     "output_type": "execute_result"
    }
   ],
   "source": [
    "queryString = \"\"\"\n",
    "SELECT ?p ?pname ?o ?oname WHERE { \n",
    "    ?authors ?p ?o  .\n",
    " \n",
    "    # this returns the labels\n",
    "    ?p <http://schema.org/name> ?pname .\n",
    "    ?o <http://schema.org/name> ?oname .\n",
    "    \n",
    "    FILTER ((?authors = wd:Q214642) || (?authors = wd:Q190379)) .\n",
    "} \n",
    "LIMIT 100\n",
    "\"\"\"\n",
    "\n",
    "print(\"Results\")\n",
    "run_query(queryString)"
   ]
  },
  {
   "cell_type": "markdown",
   "id": "7f2e8170-34bb-4ae6-805f-edb723fb998e",
   "metadata": {},
   "source": [
    "Since it's complicated that the books are all listed as links to the authors, let's try by searching books written by the authors"
   ]
  },
  {
   "cell_type": "code",
   "execution_count": 8,
   "id": "1581f75a-b9a8-4259-902b-e61028496b81",
   "metadata": {},
   "outputs": [
    {
     "name": "stdout",
     "output_type": "stream",
     "text": [
      "Results\n",
      "[('b', 'http://www.wikidata.org/entity/Q160082'), ('bname', 'Booker Prize'), ('p', 'http://www.wikidata.org/prop/direct/P1346'), ('pname', 'winner')]\n",
      "[('b', 'http://www.wikidata.org/entity/Q5709276'), ('bname', 'Helmerich Award'), ('p', 'http://www.wikidata.org/prop/direct/P1346'), ('pname', 'winner')]\n",
      "[('b', 'http://www.wikidata.org/entity/Q2915460'), ('bname', 'Act of God'), ('p', 'http://www.wikidata.org/prop/direct/P161'), ('pname', 'cast member')]\n",
      "[('b', 'http://www.wikidata.org/entity/Q2364684'), ('bname', 'The Music of Chance'), ('p', 'http://www.wikidata.org/prop/direct/P161'), ('pname', 'cast member')]\n",
      "[('b', 'http://www.wikidata.org/entity/Q7348342'), ('bname', 'The Unbelievers'), ('p', 'http://www.wikidata.org/prop/direct/P161'), ('pname', 'cast member')]\n",
      "[('b', 'http://www.wikidata.org/entity/Q3213673'), ('bname', 'The Inner Life of Martin Frost'), ('p', 'http://www.wikidata.org/prop/direct/P162'), ('pname', 'producer')]\n",
      "[('b', 'http://www.wikidata.org/entity/Q1626186'), ('bname', 'Atonement'), ('p', 'http://www.wikidata.org/prop/direct/P162'), ('pname', 'producer')]\n",
      "[('b', 'http://www.wikidata.org/entity/Q3213673'), ('bname', 'The Inner Life of Martin Frost'), ('p', 'http://www.wikidata.org/prop/direct/P170'), ('pname', 'creator')]\n",
      "[('b', 'http://www.wikidata.org/entity/Q445905'), ('bname', 'Sophie Auster'), ('p', 'http://www.wikidata.org/prop/direct/P22'), ('pname', 'father')]\n",
      "[('b', 'http://www.wikidata.org/entity/Q1280035'), ('bname', 'Lydia Davis'), ('p', 'http://www.wikidata.org/prop/direct/P26'), ('pname', 'spouse')]\n",
      "[('b', 'http://www.wikidata.org/entity/Q259543'), ('bname', 'Siri Hustvedt'), ('p', 'http://www.wikidata.org/prop/direct/P26'), ('pname', 'spouse')]\n",
      "[('b', 'http://www.wikidata.org/entity/Q3243784'), ('bname', 'Annalena McAfee'), ('p', 'http://www.wikidata.org/prop/direct/P26'), ('pname', 'spouse')]\n",
      "[('b', 'http://www.wikidata.org/entity/Q8718676'), ('bname', 'Category:Paul Auster'), ('p', 'http://www.wikidata.org/prop/direct/P301'), ('pname', \"category's main topic\")]\n",
      "[('b', 'http://www.wikidata.org/entity/Q15831559'), ('bname', 'Category:Ian McEwan'), ('p', 'http://www.wikidata.org/prop/direct/P301'), ('pname', \"category's main topic\")]\n",
      "[('b', 'http://www.wikidata.org/entity/Q1951470'), ('bname', 'Mr. Vertigo'), ('p', 'http://www.wikidata.org/prop/direct/P50'), ('pname', 'author')]\n",
      "[('b', 'http://www.wikidata.org/entity/Q492991'), ('bname', 'Timbuktu'), ('p', 'http://www.wikidata.org/prop/direct/P50'), ('pname', 'author')]\n",
      "[('b', 'http://www.wikidata.org/entity/Q581485'), ('bname', 'The Book of Illusions'), ('p', 'http://www.wikidata.org/prop/direct/P50'), ('pname', 'author')]\n",
      "[('b', 'http://www.wikidata.org/entity/Q526792'), ('bname', 'Travels in the Scriptorium'), ('p', 'http://www.wikidata.org/prop/direct/P50'), ('pname', 'author')]\n",
      "[('b', 'http://www.wikidata.org/entity/Q1723053'), ('bname', 'Saturday'), ('p', 'http://www.wikidata.org/prop/direct/P50'), ('pname', 'author')]\n",
      "[('b', 'http://www.wikidata.org/entity/Q1817920'), ('bname', 'Man in the Dark'), ('p', 'http://www.wikidata.org/prop/direct/P50'), ('pname', 'author')]\n",
      "[('b', 'http://www.wikidata.org/entity/Q1322083'), ('bname', 'Sunset Park'), ('p', 'http://www.wikidata.org/prop/direct/P50'), ('pname', 'author')]\n",
      "[('b', 'http://www.wikidata.org/entity/Q1584652'), ('bname', 'Invisible'), ('p', 'http://www.wikidata.org/prop/direct/P50'), ('pname', 'author')]\n",
      "[('b', 'http://www.wikidata.org/entity/Q28846426'), ('bname', '4 3 2 1'), ('p', 'http://www.wikidata.org/prop/direct/P50'), ('pname', 'author')]\n",
      "[('b', 'http://www.wikidata.org/entity/Q60412205'), ('bname', 'Sunset Park'), ('p', 'http://www.wikidata.org/prop/direct/P50'), ('pname', 'author')]\n",
      "[('b', 'http://www.wikidata.org/entity/Q16386002'), ('bname', 'Here and Now: Letters, 2008-2011'), ('p', 'http://www.wikidata.org/prop/direct/P50'), ('pname', 'author')]\n",
      "[('b', 'http://www.wikidata.org/entity/Q58883639'), ('bname', 'Saturday'), ('p', 'http://www.wikidata.org/prop/direct/P50'), ('pname', 'author')]\n",
      "[('b', 'http://www.wikidata.org/entity/Q1215203'), ('bname', 'The New York Trilogy'), ('p', 'http://www.wikidata.org/prop/direct/P50'), ('pname', 'author')]\n",
      "[('b', 'http://www.wikidata.org/entity/Q1506280'), ('bname', 'In the Country of Last Things'), ('p', 'http://www.wikidata.org/prop/direct/P50'), ('pname', 'author')]\n",
      "[('b', 'http://www.wikidata.org/entity/Q1944147'), ('bname', 'Moon Palace'), ('p', 'http://www.wikidata.org/prop/direct/P50'), ('pname', 'author')]\n",
      "[('b', 'http://www.wikidata.org/entity/Q45823712'), ('bname', 'The Locked Room'), ('p', 'http://www.wikidata.org/prop/direct/P50'), ('pname', 'author')]\n",
      "[('b', 'http://www.wikidata.org/entity/Q16887077'), ('bname', 'Winter Journal'), ('p', 'http://www.wikidata.org/prop/direct/P50'), ('pname', 'author')]\n",
      "[('b', 'http://www.wikidata.org/entity/Q7766783'), ('bname', 'The Story of My Typewriter'), ('p', 'http://www.wikidata.org/prop/direct/P50'), ('pname', 'author')]\n",
      "[('b', 'http://www.wikidata.org/entity/Q306619'), ('bname', 'Atonement'), ('p', 'http://www.wikidata.org/prop/direct/P50'), ('pname', 'author')]\n",
      "[('b', 'http://www.wikidata.org/entity/Q60411070'), ('bname', 'Atonement'), ('p', 'http://www.wikidata.org/prop/direct/P50'), ('pname', 'author')]\n",
      "[('b', 'http://www.wikidata.org/entity/Q1214916'), ('bname', 'The Music of Chance'), ('p', 'http://www.wikidata.org/prop/direct/P50'), ('pname', 'author')]\n",
      "[('b', 'http://www.wikidata.org/entity/Q1821899'), ('bname', 'Leviathan'), ('p', 'http://www.wikidata.org/prop/direct/P50'), ('pname', 'author')]\n",
      "[('b', 'http://www.wikidata.org/entity/Q3225069'), ('bname', \"Auggie Wren's Christmas Story\"), ('p', 'http://www.wikidata.org/prop/direct/P50'), ('pname', 'author')]\n",
      "[('b', 'http://www.wikidata.org/entity/Q1211751'), ('bname', 'The Brooklyn Follies'), ('p', 'http://www.wikidata.org/prop/direct/P50'), ('pname', 'author')]\n",
      "[('b', 'http://www.wikidata.org/entity/Q1258502'), ('bname', 'Oracle Night'), ('p', 'http://www.wikidata.org/prop/direct/P50'), ('pname', 'author')]\n",
      "[('b', 'http://www.wikidata.org/entity/Q1704438'), ('bname', 'Black Dogs'), ('p', 'http://www.wikidata.org/prop/direct/P50'), ('pname', 'author')]\n",
      "[('b', 'http://www.wikidata.org/entity/Q64031447'), ('bname', 'Machines Like Me'), ('p', 'http://www.wikidata.org/prop/direct/P50'), ('pname', 'author')]\n",
      "[('b', 'http://www.wikidata.org/entity/Q451491'), ('bname', 'On Chesil Beach'), ('p', 'http://www.wikidata.org/prop/direct/P50'), ('pname', 'author')]\n",
      "[('b', 'http://www.wikidata.org/entity/Q42185883'), ('bname', 'Man in the Dark'), ('p', 'http://www.wikidata.org/prop/direct/P50'), ('pname', 'author')]\n",
      "[('b', 'http://www.wikidata.org/entity/Q1198186'), ('bname', 'The Cement Garden'), ('p', 'http://www.wikidata.org/prop/direct/P50'), ('pname', 'author')]\n",
      "[('b', 'http://www.wikidata.org/entity/Q478433'), ('bname', 'Amsterdam'), ('p', 'http://www.wikidata.org/prop/direct/P50'), ('pname', 'author')]\n",
      "[('b', 'http://www.wikidata.org/entity/Q1212217'), ('bname', 'The Invention of Solitude'), ('p', 'http://www.wikidata.org/prop/direct/P50'), ('pname', 'author')]\n",
      "[('b', 'http://www.wikidata.org/entity/Q5770801'), ('bname', 'City of Glass'), ('p', 'http://www.wikidata.org/prop/direct/P50'), ('pname', 'author')]\n",
      "[('b', 'http://www.wikidata.org/entity/Q5855938'), ('bname', 'Ghosts'), ('p', 'http://www.wikidata.org/prop/direct/P50'), ('pname', 'author')]\n",
      "[('b', 'http://www.wikidata.org/entity/Q18162235'), ('bname', 'The Children Act'), ('p', 'http://www.wikidata.org/prop/direct/P50'), ('pname', 'author')]\n",
      "[('b', 'http://www.wikidata.org/entity/Q27940587'), ('bname', 'Nutshell'), ('p', 'http://www.wikidata.org/prop/direct/P50'), ('pname', 'author')]\n"
     ]
    },
    {
     "data": {
      "text/plain": [
       "50"
      ]
     },
     "execution_count": 8,
     "metadata": {},
     "output_type": "execute_result"
    }
   ],
   "source": [
    "queryString = \"\"\"\n",
    "SELECT ?b ?bname ?p ?pname WHERE { \n",
    "    ?b ?p ?authors.\n",
    " \n",
    "    # this returns the labels\n",
    "    ?p <http://schema.org/name> ?pname .\n",
    "    ?b <http://schema.org/name> ?bname .\n",
    "    \n",
    "    FILTER ((?authors = wd:Q214642) || (?authors = wd:Q190379)) .\n",
    "} \n",
    "LIMIT 50\n",
    "\"\"\"\n",
    "\n",
    "print(\"Results\")\n",
    "run_query(queryString)"
   ]
  },
  {
   "cell_type": "code",
   "execution_count": 9,
   "id": "ee41c0d2-339b-45c8-87c2-5e0e8d7cee9a",
   "metadata": {},
   "outputs": [
    {
     "name": "stdout",
     "output_type": "stream",
     "text": [
      "Results\n",
      "[('p', 'http://www.wikidata.org/prop/direct/P50'), ('pname', 'author'), ('o', 'http://www.wikidata.org/entity/Q214642'), ('oname', 'Paul Auster')]\n",
      "[('p', 'http://www.wikidata.org/prop/direct/P155'), ('pname', 'follows'), ('o', 'http://www.wikidata.org/entity/Q492991'), ('oname', 'Timbuktu')]\n",
      "[('p', 'http://www.wikidata.org/prop/direct/P407'), ('pname', 'language of work or name'), ('o', 'http://www.wikidata.org/entity/Q1860'), ('oname', 'English')]\n",
      "[('p', 'http://www.wikidata.org/prop/direct/P495'), ('pname', 'country of origin'), ('o', 'http://www.wikidata.org/entity/Q30'), ('oname', 'United States of America')]\n",
      "[('p', 'http://www.wikidata.org/prop/direct/P31'), ('pname', 'instance of'), ('o', 'http://www.wikidata.org/entity/Q47461344'), ('oname', 'written work')]\n",
      "[('p', 'http://www.wikidata.org/prop/direct/P136'), ('pname', 'genre'), ('o', 'http://www.wikidata.org/entity/Q8261'), ('oname', 'novel')]\n",
      "[('p', 'http://www.wikidata.org/prop/direct/P840'), ('pname', 'narrative location'), ('o', 'http://www.wikidata.org/entity/Q90'), ('oname', 'Paris')]\n",
      "[('p', 'http://www.wikidata.org/prop/direct/P31'), ('pname', 'instance of'), ('o', 'http://www.wikidata.org/entity/Q571'), ('oname', 'book')]\n",
      "[('p', 'http://www.wikidata.org/prop/direct/P123'), ('pname', 'publisher'), ('o', 'http://www.wikidata.org/entity/Q3132837'), ('oname', 'Henry Holt and Company')]\n",
      "[('p', 'http://www.wikidata.org/prop/direct/P156'), ('pname', 'followed by'), ('o', 'http://www.wikidata.org/entity/Q1258502'), ('oname', 'Oracle Night')]\n"
     ]
    },
    {
     "data": {
      "text/plain": [
       "10"
      ]
     },
     "execution_count": 9,
     "metadata": {},
     "output_type": "execute_result"
    }
   ],
   "source": [
    "queryString = \"\"\"\n",
    "SELECT ?p ?pname ?o ?oname WHERE { \n",
    "     wd:Q581485 ?p ?o.\n",
    " \n",
    "    # this returns the labels\n",
    "    ?p <http://schema.org/name> ?pname .\n",
    "    ?o <http://schema.org/name> ?oname .\n",
    "    \n",
    "} \n",
    "\"\"\"\n",
    "\n",
    "print(\"Results\")\n",
    "run_query(queryString)"
   ]
  },
  {
   "cell_type": "markdown",
   "id": "6f8c52a4-7c40-4b4c-bba2-8cc9afdc9a58",
   "metadata": {},
   "source": [
    "P50 (author) and P136(genre) is what I need"
   ]
  },
  {
   "cell_type": "code",
   "execution_count": 9,
   "id": "f300b198-1552-4686-9580-f49c41713783",
   "metadata": {},
   "outputs": [
    {
     "name": "stdout",
     "output_type": "stream",
     "text": [
      "Results\n",
      "[('books', 'Moon Palace'), ('genre', 'picaresque novel')]\n",
      "[('books', 'Winter Journal'), ('genre', 'memoir')]\n",
      "[('books', 'The Invention of Solitude'), ('genre', 'memoir')]\n",
      "[('books', 'Report from the Interior'), ('genre', 'memoir')]\n",
      "[('books', 'Leviathan'), ('genre', 'crime novel')]\n",
      "[('books', 'Squeeze Play'), ('genre', 'crime novel')]\n",
      "[('books', 'The Invention of Solitude'), ('genre', 'autobiography')]\n",
      "[('books', 'Mr. Vertigo'), ('genre', 'novel')]\n",
      "[('books', 'Timbuktu'), ('genre', 'novel')]\n",
      "[('books', 'The Book of Illusions'), ('genre', 'novel')]\n",
      "[('books', 'Travels in the Scriptorium'), ('genre', 'novel')]\n",
      "[('books', 'Saturday'), ('genre', 'novel')]\n",
      "[('books', 'Man in the Dark'), ('genre', 'novel')]\n",
      "[('books', 'Sunset Park'), ('genre', 'novel')]\n",
      "[('books', 'Invisible'), ('genre', 'novel')]\n",
      "[('books', 'The New York Trilogy'), ('genre', 'novel')]\n",
      "[('books', 'The Locked Room'), ('genre', 'novel')]\n",
      "[('books', 'Winter Journal'), ('genre', 'novel')]\n",
      "[('books', 'The Story of My Typewriter'), ('genre', 'novel')]\n",
      "[('books', 'Atonement'), ('genre', 'novel')]\n",
      "[('books', 'The Music of Chance'), ('genre', 'novel')]\n",
      "[('books', 'The Brooklyn Follies'), ('genre', 'novel')]\n",
      "[('books', 'Oracle Night'), ('genre', 'novel')]\n",
      "[('books', 'Black Dogs'), ('genre', 'novel')]\n",
      "[('books', 'Machines Like Me'), ('genre', 'novel')]\n",
      "[('books', 'On Chesil Beach'), ('genre', 'novel')]\n",
      "[('books', 'Man in the Dark'), ('genre', 'novel')]\n",
      "[('books', 'The Cement Garden'), ('genre', 'novel')]\n",
      "[('books', 'Amsterdam'), ('genre', 'novel')]\n",
      "[('books', 'City of Glass'), ('genre', 'novel')]\n",
      "[('books', 'Ghosts'), ('genre', 'novel')]\n",
      "[('books', 'The Children Act'), ('genre', 'novel')]\n",
      "[('books', 'Solar'), ('genre', 'novel')]\n",
      "[('books', 'The Innocent'), ('genre', 'novel')]\n",
      "[('books', 'Enduring Love'), ('genre', 'novel')]\n",
      "[('books', 'The Comfort of Strangers'), ('genre', 'novel')]\n",
      "[('books', 'The Child in Time'), ('genre', 'novel')]\n",
      "[('books', 'Sweet Tooth'), ('genre', 'novel')]\n",
      "[('books', 'The Innocent (McEwan novel)'), ('genre', 'novel')]\n",
      "[('books', 'The Daydreamer'), ('genre', 'novel')]\n",
      "[('books', 'My Purple Scented Novel'), ('genre', 'novel')]\n",
      "[('books', 'Leviathan'), ('genre', 'detective fiction')]\n",
      "[('books', 'In the Country of Last Things'), ('genre', 'epistolary novel')]\n",
      "[('books', \"Auggie Wren's Christmas Story\"), ('genre', 'short story')]\n",
      "[('books', 'In the Country of Last Things'), ('genre', 'science fiction novel')]\n",
      "[('books', 'Timbuktu'), ('genre', 'novella')]\n",
      "[('books', 'In the Country of Last Things'), ('genre', 'dystopian novel')]\n",
      "[('books', '4 3 2 1'), ('genre', 'Bildungsroman')]\n",
      "[('books', 'The New York Trilogy'), ('genre', 'mystery fiction')]\n",
      "[('books', 'The Music of Chance'), ('genre', 'hardboiled')]\n"
     ]
    },
    {
     "data": {
      "text/plain": [
       "50"
      ]
     },
     "execution_count": 9,
     "metadata": {},
     "output_type": "execute_result"
    }
   ],
   "source": [
    "queryString = \"\"\"\n",
    "SELECT ?books ?genre WHERE { \n",
    "    ?s wdt:P50 ?authors ;\n",
    "        wdt:P136 ?g .\n",
    " \n",
    "    # this returns the labels\n",
    "    ?s <http://schema.org/name> ?books .\n",
    "    ?g <http://schema.org/name> ?genre .\n",
    "\n",
    "    \n",
    "    FILTER ((?authors = wd:Q214642) || (?authors = wd:Q190379)) .\n",
    "}\n",
    "LIMIT 50\n",
    "\"\"\"\n",
    "\n",
    "print(\"Results\")\n",
    "run_query(queryString)"
   ]
  },
  {
   "cell_type": "markdown",
   "id": "21f964d6-e5be-4d8c-9056-52b3a5776876",
   "metadata": {},
   "source": [
    "I can't find date of publications on properties of the book. I search it in another book, found on notable work on first query"
   ]
  },
  {
   "cell_type": "code",
   "execution_count": null,
   "id": "f73f83d2-e2a9-4d9c-8e6b-94fa2df0d2b5",
   "metadata": {},
   "outputs": [
    {
     "name": "stdout",
     "output_type": "stream",
     "text": [
      "Results\n",
      "[('pname', 'main subject'), ('sname', 'orphan')]\n",
      "[('pname', 'main subject'), ('sname', 'death')]\n",
      "[('pname', 'country of origin'), ('sname', 'United Kingdom')]\n",
      "[('pname', 'language of work or name'), ('sname', 'English')]\n",
      "[('pname', 'instance of'), ('sname', 'written work')]\n",
      "[('pname', 'genre'), ('sname', 'novel')]\n",
      "[('pname', 'author'), ('sname', 'Ian McEwan')]\n",
      "[('pname', 'publisher'), ('sname', 'Jonathan Cape')]\n",
      "[('pname', 'main subject'), ('sname', 'puberty')]\n",
      "[('pname', 'derivative work'), ('sname', 'The Cement Garden')]\n"
     ]
    },
    {
     "data": {
      "text/plain": [
       "10"
      ]
     },
     "execution_count": 10,
     "metadata": {},
     "output_type": "execute_result"
    }
   ],
   "source": [
    "queryString = \"\"\"\n",
    "SELECT ?pname ?sname WHERE { \n",
    "     wd:Q1198186 ?p ?s.\n",
    " \n",
    "    # this returns the labels\n",
    "    ?p <http://schema.org/name> ?pname .\n",
    "    ?s <http://schema.org/name> ?sname .\n",
    "    \n",
    "} \n",
    "\"\"\"\n",
    "\n",
    "print(\"Results\")\n",
    "run_query(queryString)"
   ]
  },
  {
   "cell_type": "raw",
   "id": "bf7aa2ad-0cde-4e83-85fd-caa5406454ac",
   "metadata": {},
   "source": [
    "No date neither in this case\n",
    "So the BGP is \n",
    "\n",
    " ?books wdt:P50 ?authors ;\n",
    "        wdt:P136 ?genre.     \n",
    "    FILTER ((?authors = wd:Q214642) || (?authors = wd:Q190379)) ."
   ]
  },
  {
   "cell_type": "markdown",
   "id": "beb63150-2209-4167-997f-42f85b72b75b",
   "metadata": {},
   "source": [
    "### 2. Did the authors published a book in the same year? What is the longest period without publishing a book for the two authors?"
   ]
  },
  {
   "cell_type": "markdown",
   "id": "3c39df76-764c-46f4-8671-d8d591af03e1",
   "metadata": {},
   "source": [
    "Cannot find any data about the publication date of the books"
   ]
  },
  {
   "cell_type": "markdown",
   "id": "7f9d50fe-ca16-4d8b-8d28-5769b4474ff0",
   "metadata": {},
   "source": [
    "### 3. Did the authors produced, acted or directed a film? If so, did they write the screenplay"
   ]
  },
  {
   "cell_type": "code",
   "execution_count": 9,
   "id": "da3cf822-43e0-47af-bd38-07928705fe03",
   "metadata": {},
   "outputs": [
    {
     "ename": "SyntaxError",
     "evalue": "invalid syntax (<ipython-input-9-64eb545e35af>, line 1)",
     "output_type": "error",
     "traceback": [
      "\u001b[0;36m  File \u001b[0;32m\"<ipython-input-9-64eb545e35af>\"\u001b[0;36m, line \u001b[0;32m1\u001b[0m\n\u001b[0;31m    I start with Ian McEwan\u001b[0m\n\u001b[0m          ^\u001b[0m\n\u001b[0;31mSyntaxError\u001b[0m\u001b[0;31m:\u001b[0m invalid syntax\n"
     ]
    }
   ],
   "source": [
    "I start with Ian McEwan."
   ]
  },
  {
   "cell_type": "code",
   "execution_count": 38,
   "id": "63129596-5b71-4f2e-b62c-b12e27460f5a",
   "metadata": {},
   "outputs": [
    {
     "name": "stdout",
     "output_type": "stream",
     "text": [
      "Results\n",
      "[('p', 'http://www.wikidata.org/prop/direct/P26'), ('pname', 'spouse'), ('o', 'http://www.wikidata.org/entity/Q1280035'), ('oname', 'Lydia Davis')]\n",
      "[('p', 'http://www.wikidata.org/prop/direct/P800'), ('pname', 'notable work'), ('o', 'http://www.wikidata.org/entity/Q581485'), ('oname', 'The Book of Illusions')]\n",
      "[('p', 'http://www.wikidata.org/prop/direct/P19'), ('pname', 'place of birth'), ('o', 'http://www.wikidata.org/entity/Q25395'), ('oname', 'Newark')]\n",
      "[('p', 'http://www.wikidata.org/prop/direct/P463'), ('pname', 'member of'), ('o', 'http://www.wikidata.org/entity/Q7118978'), ('oname', 'PEN America')]\n",
      "[('p', 'http://www.wikidata.org/prop/direct/P106'), ('pname', 'occupation'), ('o', 'http://www.wikidata.org/entity/Q11774202'), ('oname', 'essayist')]\n",
      "[('p', 'http://www.wikidata.org/prop/direct/P166'), ('pname', 'award received'), ('o', 'http://www.wikidata.org/entity/Q13452531'), ('oname', 'Commandeur des Arts et des Lettres\\u200e')]\n",
      "[('p', 'http://www.wikidata.org/prop/direct/P106'), ('pname', 'occupation'), ('o', 'http://www.wikidata.org/entity/Q14467526'), ('oname', 'linguist')]\n",
      "[('p', 'http://www.wikidata.org/prop/direct/P1412'), ('pname', 'languages spoken, written or signed'), ('o', 'http://www.wikidata.org/entity/Q150'), ('oname', 'French')]\n",
      "[('p', 'http://www.wikidata.org/prop/direct/P106'), ('pname', 'occupation'), ('o', 'http://www.wikidata.org/entity/Q1622272'), ('oname', 'university teacher')]\n",
      "[('p', 'http://www.wikidata.org/prop/direct/P1412'), ('pname', 'languages spoken, written or signed'), ('o', 'http://www.wikidata.org/entity/Q1860'), ('oname', 'English')]\n",
      "[('p', 'http://www.wikidata.org/prop/direct/P106'), ('pname', 'occupation'), ('o', 'http://www.wikidata.org/entity/Q18814623'), ('oname', 'autobiographer')]\n",
      "[('p', 'http://www.wikidata.org/prop/direct/P6379'), ('pname', 'has works in the collection'), ('o', 'http://www.wikidata.org/entity/Q188740'), ('oname', 'Museum of Modern Art')]\n",
      "[('p', 'http://www.wikidata.org/prop/direct/P106'), ('pname', 'occupation'), ('o', 'http://www.wikidata.org/entity/Q2526255'), ('oname', 'film director')]\n",
      "[('p', 'http://www.wikidata.org/prop/direct/P106'), ('pname', 'occupation'), ('o', 'http://www.wikidata.org/entity/Q28389'), ('oname', 'screenwriter')]\n",
      "[('p', 'http://www.wikidata.org/prop/direct/P27'), ('pname', 'country of citizenship'), ('o', 'http://www.wikidata.org/entity/Q30'), ('oname', 'United States of America')]\n",
      "[('p', 'http://www.wikidata.org/prop/direct/P166'), ('pname', 'award received'), ('o', 'http://www.wikidata.org/entity/Q3332454'), ('oname', 'Princess of Asturias Literary Prize')]\n",
      "[('p', 'http://www.wikidata.org/prop/direct/P106'), ('pname', 'occupation'), ('o', 'http://www.wikidata.org/entity/Q333634'), ('oname', 'translator')]\n",
      "[('p', 'http://www.wikidata.org/prop/direct/P106'), ('pname', 'occupation'), ('o', 'http://www.wikidata.org/entity/Q36180'), ('oname', 'writer')]\n",
      "[('p', 'http://www.wikidata.org/prop/direct/P463'), ('pname', 'member of'), ('o', 'http://www.wikidata.org/entity/Q463303'), ('oname', 'American Academy of Arts and Sciences')]\n",
      "[('p', 'http://www.wikidata.org/prop/direct/P106'), ('pname', 'occupation'), ('o', 'http://www.wikidata.org/entity/Q482980'), ('oname', 'author')]\n",
      "[('p', 'http://www.wikidata.org/prop/direct/P108'), ('pname', 'employer'), ('o', 'http://www.wikidata.org/entity/Q49088'), ('oname', 'Columbia University')]\n",
      "[('p', 'http://www.wikidata.org/prop/direct/P69'), ('pname', 'educated at'), ('o', 'http://www.wikidata.org/entity/Q49088'), ('oname', 'Columbia University')]\n",
      "[('p', 'http://www.wikidata.org/prop/direct/P735'), ('pname', 'given name'), ('o', 'http://www.wikidata.org/entity/Q4925623'), ('oname', 'Paul')]\n",
      "[('p', 'http://www.wikidata.org/prop/direct/P106'), ('pname', 'occupation'), ('o', 'http://www.wikidata.org/entity/Q49757'), ('oname', 'poet')]\n",
      "[('p', 'http://www.wikidata.org/prop/direct/P31'), ('pname', 'instance of'), ('o', 'http://www.wikidata.org/entity/Q5'), ('oname', 'human')]\n",
      "[('p', 'http://www.wikidata.org/prop/direct/P166'), ('pname', 'award received'), ('o', 'http://www.wikidata.org/entity/Q52382875'), ('oname', 'AAAS Fellow')]\n",
      "[('p', 'http://www.wikidata.org/prop/direct/P21'), ('pname', 'sex or gender'), ('o', 'http://www.wikidata.org/entity/Q6581097'), ('oname', 'male')]\n",
      "[('p', 'http://www.wikidata.org/prop/direct/P106'), ('pname', 'occupation'), ('o', 'http://www.wikidata.org/entity/Q6625963'), ('oname', 'novelist')]\n",
      "[('p', 'http://www.wikidata.org/prop/direct/P1343'), ('pname', 'described by source'), ('o', 'http://www.wikidata.org/entity/Q67311526'), ('oname', 'Obalky knih.cz')]\n",
      "[('p', 'http://www.wikidata.org/prop/direct/P136'), ('pname', 'genre'), ('o', 'http://www.wikidata.org/entity/Q676'), ('oname', 'prose')]\n",
      "[('p', 'http://www.wikidata.org/prop/direct/P7763'), ('pname', 'copyright status as a creator'), ('o', 'http://www.wikidata.org/entity/Q73555012'), ('oname', 'works protected by copyrights')]\n",
      "[('p', 'http://www.wikidata.org/prop/direct/P101'), ('pname', 'field of work'), ('o', 'http://www.wikidata.org/entity/Q8242'), ('oname', 'literature')]\n",
      "[('p', 'http://www.wikidata.org/prop/direct/P166'), ('pname', 'award received'), ('o', 'http://www.wikidata.org/entity/Q1188661'), ('oname', 'PEN/Faulkner Award for Fiction')]\n",
      "[('p', 'http://www.wikidata.org/prop/direct/P166'), ('pname', 'award received'), ('o', 'http://www.wikidata.org/entity/Q3405076'), ('oname', 'Prix Médicis for foreign literature')]\n",
      "[('p', 'http://www.wikidata.org/prop/direct/P463'), ('pname', 'member of'), ('o', 'http://www.wikidata.org/entity/Q463281'), ('oname', 'American Academy of Arts and Letters')]\n",
      "[('p', 'http://www.wikidata.org/prop/direct/P69'), ('pname', 'educated at'), ('o', 'http://www.wikidata.org/entity/Q5149722'), ('oname', 'Columbia High School')]\n",
      "[('p', 'http://www.wikidata.org/prop/direct/P800'), ('pname', 'notable work'), ('o', 'http://www.wikidata.org/entity/Q1817920'), ('oname', 'Man in the Dark')]\n",
      "[('p', 'http://www.wikidata.org/prop/direct/P7084'), ('pname', 'related category'), ('o', 'http://www.wikidata.org/entity/Q7510954'), ('oname', 'Category:Films directed by Paul Auster')]\n",
      "[('p', 'http://www.wikidata.org/prop/direct/P26'), ('pname', 'spouse'), ('o', 'http://www.wikidata.org/entity/Q259543'), ('oname', 'Siri Hustvedt')]\n",
      "[('p', 'http://www.wikidata.org/prop/direct/P800'), ('pname', 'notable work'), ('o', 'http://www.wikidata.org/entity/Q1215203'), ('oname', 'The New York Trilogy')]\n",
      "[('p', 'http://www.wikidata.org/prop/direct/P910'), ('pname', \"topic's main category\"), ('o', 'http://www.wikidata.org/entity/Q8718676'), ('oname', 'Category:Paul Auster')]\n",
      "[('p', 'http://www.wikidata.org/prop/direct/P734'), ('pname', 'family name'), ('o', 'http://www.wikidata.org/entity/Q16479919'), ('oname', 'Auster')]\n",
      "[('p', 'http://www.wikidata.org/prop/direct/P800'), ('pname', 'notable work'), ('o', 'http://www.wikidata.org/entity/Q1821899'), ('oname', 'Leviathan')]\n",
      "[('p', 'http://www.wikidata.org/prop/direct/P40'), ('pname', 'child'), ('o', 'http://www.wikidata.org/entity/Q445905'), ('oname', 'Sophie Auster')]\n"
     ]
    },
    {
     "data": {
      "text/plain": [
       "44"
      ]
     },
     "execution_count": 38,
     "metadata": {},
     "output_type": "execute_result"
    }
   ],
   "source": [
    "queryString = \"\"\"\n",
    "\n",
    "SELECT ?p ?pname ?o ?oname WHERE { \n",
    "    wd:Q214642 ?p ?o .\n",
    " \n",
    "    # this returns the labels\n",
    "    ?p <http://schema.org/name> ?pname .\n",
    "    ?o <http://schema.org/name> ?oname .\n",
    "} \n",
    "\"\"\"\n",
    "\n",
    "print(\"Results\")\n",
    "run_query(queryString)"
   ]
  },
  {
   "cell_type": "markdown",
   "id": "b8d8958a-e75d-42c0-9545-e95f52397027",
   "metadata": {},
   "source": [
    "Let's now find the code of movies\n",
    "title of movies that Ian McEwan directed."
   ]
  },
  {
   "cell_type": "code",
   "execution_count": 49,
   "id": "35ff2bef-4955-4f72-819c-8ecb5607a291",
   "metadata": {},
   "outputs": [
    {
     "name": "stdout",
     "output_type": "stream",
     "text": [
      "Results\n",
      "[('p', 'http://www.wikidata.org/prop/direct/P31'), ('pname', 'instance of'), ('o', 'http://www.wikidata.org/entity/Q4220920'), ('oname', 'filmmaking occupation')]\n",
      "[('p', 'http://www.wikidata.org/prop/direct/P31'), ('pname', 'instance of'), ('o', 'http://www.wikidata.org/entity/Q28640'), ('oname', 'profession')]\n",
      "[('p', 'http://www.wikidata.org/prop/direct/P279'), ('pname', 'subclass of'), ('o', 'http://www.wikidata.org/entity/Q3455803'), ('oname', 'director')]\n",
      "[('p', 'http://www.wikidata.org/prop/direct/P1889'), ('pname', 'different from'), ('o', 'http://www.wikidata.org/entity/Q222344'), ('oname', 'cinematographer')]\n",
      "[('p', 'http://www.wikidata.org/prop/direct/P910'), ('pname', \"topic's main category\"), ('o', 'http://www.wikidata.org/entity/Q3919997'), ('oname', 'Category:Film directors')]\n",
      "[('p', 'http://www.wikidata.org/prop/direct/P279'), ('pname', 'subclass of'), ('o', 'http://www.wikidata.org/entity/Q3391743'), ('oname', 'visual artist')]\n",
      "[('p', 'http://www.wikidata.org/prop/direct/P361'), ('pname', 'part of'), ('o', 'http://www.wikidata.org/entity/Q506702'), ('oname', 'film crew')]\n",
      "[('p', 'http://www.wikidata.org/prop/direct/P6104'), ('pname', 'maintained by WikiProject'), ('o', 'http://www.wikidata.org/entity/Q8485793'), ('oname', 'WikiProject Film')]\n",
      "[('p', 'http://www.wikidata.org/prop/direct/P1963'), ('pname', 'properties for this type'), ('o', 'http://www.wikidata.org/entity/P1969'), ('oname', 'MovieMeter director ID (former scheme)')]\n",
      "[('p', 'http://www.wikidata.org/prop/direct/P1424'), ('pname', \"topic's main template\"), ('o', 'http://www.wikidata.org/entity/Q15278146'), ('oname', 'Template:Infobox film director')]\n",
      "[('p', 'http://www.wikidata.org/prop/direct/P425'), ('pname', 'field of this occupation'), ('o', 'http://www.wikidata.org/entity/Q15488100'), ('oname', 'film direction')]\n",
      "[('p', 'http://www.wikidata.org/prop/direct/P279'), ('pname', 'subclass of'), ('o', 'http://www.wikidata.org/entity/Q3406858'), ('oname', 'film professional')]\n"
     ]
    },
    {
     "data": {
      "text/plain": [
       "12"
      ]
     },
     "execution_count": 49,
     "metadata": {},
     "output_type": "execute_result"
    }
   ],
   "source": [
    "queryString = \"\"\"\n",
    "SELECT ?p ?pname ?o ?oname WHERE { \n",
    "    wd:Q2526255 ?p ?o .\n",
    " \n",
    "    # this returns the labels\n",
    "    ?p <http://schema.org/name> ?pname .\n",
    "    ?o <http://schema.org/name> ?oname .\n",
    "} \n",
    "\"\"\"\n",
    "\n",
    "print(\"Results\")\n",
    "run_query(queryString)"
   ]
  },
  {
   "cell_type": "code",
   "execution_count": 50,
   "id": "c161908c-2c7a-4327-b598-ed1640c9eb18",
   "metadata": {},
   "outputs": [
    {
     "name": "stdout",
     "output_type": "stream",
     "text": [
      "Results\n",
      "[('p', 'http://www.wikidata.org/prop/direct/P31'), ('pname', 'instance of'), ('o', 'http://www.wikidata.org/entity/Q62302889'), ('oname', 'art practice')]\n",
      "[('p', 'http://www.wikidata.org/prop/direct/P3095'), ('pname', 'practiced by'), ('o', 'http://www.wikidata.org/entity/Q2526255'), ('oname', 'film director')]\n",
      "[('p', 'http://www.wikidata.org/prop/direct/P31'), ('pname', 'instance of'), ('o', 'http://www.wikidata.org/entity/Q4671286'), ('oname', 'academic major')]\n",
      "[('p', 'http://www.wikidata.org/prop/direct/P361'), ('pname', 'part of'), ('o', 'http://www.wikidata.org/entity/Q932586'), ('oname', 'filmmaking')]\n",
      "[('p', 'http://www.wikidata.org/prop/direct/P31'), ('pname', 'instance of'), ('o', 'http://www.wikidata.org/entity/Q1914636'), ('oname', 'activity')]\n"
     ]
    },
    {
     "data": {
      "text/plain": [
       "5"
      ]
     },
     "execution_count": 50,
     "metadata": {},
     "output_type": "execute_result"
    }
   ],
   "source": [
    "queryString = \"\"\"\n",
    "SELECT ?p ?pname ?o ?oname WHERE { \n",
    "    wd:Q15488100 ?p ?o .\n",
    " \n",
    "    # this returns the labels\n",
    "    ?p <http://schema.org/name> ?pname .\n",
    "    ?o <http://schema.org/name> ?oname .\n",
    "} \n",
    "\"\"\"\n",
    "\n",
    "print(\"Results\")\n",
    "run_query(queryString)"
   ]
  },
  {
   "cell_type": "code",
   "execution_count": 51,
   "id": "6056d889-03e5-4b09-9220-7ed779f468da",
   "metadata": {},
   "outputs": [
    {
     "name": "stdout",
     "output_type": "stream",
     "text": [
      "Results\n",
      "[('p', 'http://www.wikidata.org/prop/direct/P279'), ('pname', 'subclass of'), ('o', 'http://www.wikidata.org/entity/Q21198548'), ('oname', 'audiovisual production')]\n",
      "[('p', 'http://www.wikidata.org/prop/direct/P1056'), ('pname', 'product or material produced'), ('o', 'http://www.wikidata.org/entity/Q11424'), ('oname', 'film')]\n",
      "[('p', 'http://www.wikidata.org/prop/direct/P31'), ('pname', 'instance of'), ('o', 'http://www.wikidata.org/entity/Q11862829'), ('oname', 'academic discipline')]\n",
      "[('p', 'http://www.wikidata.org/prop/direct/P1343'), ('pname', 'described by source'), ('o', 'http://www.wikidata.org/entity/Q2657718'), ('oname', 'Armenian Soviet Encyclopedia')]\n",
      "[('p', 'http://www.wikidata.org/prop/direct/P3095'), ('pname', 'practiced by'), ('o', 'http://www.wikidata.org/entity/Q3282637'), ('oname', 'film producer')]\n",
      "[('p', 'http://www.wikidata.org/prop/direct/P279'), ('pname', 'subclass of'), ('o', 'http://www.wikidata.org/entity/Q590870'), ('oname', 'cinematography')]\n",
      "[('p', 'http://www.wikidata.org/prop/direct/P31'), ('pname', 'instance of'), ('o', 'http://www.wikidata.org/entity/Q8148'), ('oname', 'industry')]\n",
      "[('p', 'http://www.wikidata.org/prop/direct/P1889'), ('pname', 'different from'), ('o', 'http://www.wikidata.org/entity/Q1415395'), ('oname', 'film industry')]\n",
      "[('p', 'http://www.wikidata.org/prop/direct/P361'), ('pname', 'part of'), ('o', 'http://www.wikidata.org/entity/Q1415395'), ('oname', 'film industry')]\n",
      "[('p', 'http://www.wikidata.org/prop/direct/P3095'), ('pname', 'practiced by'), ('o', 'http://www.wikidata.org/entity/Q2867219'), ('oname', 'production assistant')]\n",
      "[('p', 'http://www.wikidata.org/prop/direct/P3095'), ('pname', 'practiced by'), ('o', 'http://www.wikidata.org/entity/Q21292974'), ('oname', 'production manager')]\n",
      "[('p', 'http://www.wikidata.org/prop/direct/P3095'), ('pname', 'practiced by'), ('o', 'http://www.wikidata.org/entity/Q1263187'), ('oname', 'script supervisor')]\n",
      "[('p', 'http://www.wikidata.org/prop/direct/P910'), ('pname', \"topic's main category\"), ('o', 'http://www.wikidata.org/entity/Q7012536'), ('oname', 'Category:Filmmaking')]\n",
      "[('p', 'http://www.wikidata.org/prop/direct/P3095'), ('pname', 'practiced by'), ('o', 'http://www.wikidata.org/entity/Q96677905'), ('oname', 'organizer of film production')]\n"
     ]
    },
    {
     "data": {
      "text/plain": [
       "14"
      ]
     },
     "execution_count": 51,
     "metadata": {},
     "output_type": "execute_result"
    }
   ],
   "source": [
    "queryString = \"\"\"\n",
    "SELECT ?p ?pname ?o ?oname WHERE { \n",
    "    wd:Q932586 ?p ?o .\n",
    " \n",
    "    # this returns the labels\n",
    "    ?p <http://schema.org/name> ?pname .\n",
    "    ?o <http://schema.org/name> ?oname .\n",
    "} \n",
    "\"\"\"\n",
    "\n",
    "print(\"Results\")\n",
    "run_query(queryString)"
   ]
  },
  {
   "cell_type": "markdown",
   "id": "cd072c70-5ed3-415c-9ac8-6b79e2db681e",
   "metadata": {},
   "source": [
    "Finally, I find that movies are Q11424. Now I need to know how titles of movies are related with it."
   ]
  },
  {
   "cell_type": "code",
   "execution_count": 54,
   "id": "09dcb6b7-7714-4965-ac79-d72ed91ac3d6",
   "metadata": {},
   "outputs": [
    {
     "name": "stdout",
     "output_type": "stream",
     "text": [
      "Results\n",
      "[('p', 'http://www.wikidata.org/prop/direct/P2579'), ('pname', 'studied by'), ('o', 'http://www.wikidata.org/entity/Q1660187'), ('oname', 'film studies')]\n",
      "[('p', 'http://www.wikidata.org/prop/direct/P1963'), ('pname', 'properties for this type'), ('o', 'http://www.wikidata.org/entity/P345'), ('oname', 'IMDb ID')]\n",
      "[('p', 'http://www.wikidata.org/prop/direct/P1963'), ('pname', 'properties for this type'), ('o', 'http://www.wikidata.org/entity/P1040'), ('oname', 'film editor')]\n",
      "[('p', 'http://www.wikidata.org/prop/direct/P1963'), ('pname', 'properties for this type'), ('o', 'http://www.wikidata.org/entity/P344'), ('oname', 'director of photography')]\n",
      "[('p', 'http://www.wikidata.org/prop/direct/P5869'), ('pname', 'model item'), ('o', 'http://www.wikidata.org/entity/Q17738'), ('oname', 'Star Wars: Episode IV – A New Hope')]\n",
      "[('p', 'http://www.wikidata.org/prop/direct/P910'), ('pname', \"topic's main category\"), ('o', 'http://www.wikidata.org/entity/Q55321'), ('oname', 'Category:Films')]\n",
      "[('p', 'http://www.wikidata.org/prop/direct/P279'), ('pname', 'subclass of'), ('o', 'http://www.wikidata.org/entity/Q20937557'), ('oname', 'series')]\n",
      "[('p', 'http://www.wikidata.org/prop/direct/P1963'), ('pname', 'properties for this type'), ('o', 'http://www.wikidata.org/entity/P1476'), ('oname', 'title')]\n",
      "[('p', 'http://www.wikidata.org/prop/direct/P1963'), ('pname', 'properties for this type'), ('o', 'http://www.wikidata.org/entity/P2047'), ('oname', 'duration')]\n",
      "[('p', 'http://www.wikidata.org/prop/direct/P1963'), ('pname', 'properties for this type'), ('o', 'http://www.wikidata.org/entity/P162'), ('oname', 'producer')]\n"
     ]
    },
    {
     "data": {
      "text/plain": [
       "10"
      ]
     },
     "execution_count": 54,
     "metadata": {},
     "output_type": "execute_result"
    }
   ],
   "source": [
    "queryString = \"\"\"\n",
    "SELECT ?p ?pname ?o ?oname WHERE { \n",
    "    wd:Q11424 ?p ?o .\n",
    " \n",
    "    # this returns the labels\n",
    "    ?p <http://schema.org/name> ?pname .\n",
    "    ?o <http://schema.org/name> ?oname .\n",
    "} \n",
    "LIMIT 10\n",
    "\"\"\"\n",
    "\n",
    "print(\"Results\")\n",
    "run_query(queryString)"
   ]
  },
  {
   "cell_type": "code",
   "execution_count": null,
   "id": "a8885734-4d89-4842-b9ef-f9a15abd48e7",
   "metadata": {},
   "outputs": [],
   "source": [
    "I use 'Star Wars: Episode IV – A New Hope' as a template."
   ]
  },
  {
   "cell_type": "code",
   "execution_count": 57,
   "id": "6af8c507-f242-406c-8167-d28dca7a4d56",
   "metadata": {},
   "outputs": [
    {
     "name": "stdout",
     "output_type": "stream",
     "text": [
      "Results\n",
      "[('p', 'http://www.wikidata.org/prop/direct/P161'), ('pname', 'cast member'), ('o', 'http://www.wikidata.org/entity/Q1351454'), ('oname', 'William Hootkins')]\n",
      "[('p', 'http://www.wikidata.org/prop/direct/P161'), ('pname', 'cast member'), ('o', 'http://www.wikidata.org/entity/Q210447'), ('oname', 'Mark Hamill')]\n",
      "[('p', 'http://www.wikidata.org/prop/direct/P1040'), ('pname', 'film editor'), ('o', 'http://www.wikidata.org/entity/Q38222'), ('oname', 'George Lucas')]\n",
      "[('p', 'http://www.wikidata.org/prop/direct/P162'), ('pname', 'producer'), ('o', 'http://www.wikidata.org/entity/Q38222'), ('oname', 'George Lucas')]\n",
      "[('p', 'http://www.wikidata.org/prop/direct/P57'), ('pname', 'director'), ('o', 'http://www.wikidata.org/entity/Q38222'), ('oname', 'George Lucas')]\n",
      "[('p', 'http://www.wikidata.org/prop/direct/P58'), ('pname', 'screenwriter'), ('o', 'http://www.wikidata.org/entity/Q38222'), ('oname', 'George Lucas')]\n",
      "[('p', 'http://www.wikidata.org/prop/direct/P1431'), ('pname', 'executive producer'), ('o', 'http://www.wikidata.org/entity/Q38222'), ('oname', 'George Lucas')]\n",
      "[('p', 'http://www.wikidata.org/prop/direct/P840'), ('pname', 'narrative location'), ('o', 'http://www.wikidata.org/entity/Q723764'), ('oname', 'Tatooine')]\n",
      "[('p', 'http://www.wikidata.org/prop/direct/P161'), ('pname', 'cast member'), ('o', 'http://www.wikidata.org/entity/Q81328'), ('oname', 'Harrison Ford')]\n",
      "[('p', 'http://www.wikidata.org/prop/direct/P8411'), ('pname', 'set in environment'), ('o', 'http://www.wikidata.org/entity/Q8514'), ('oname', 'desert')]\n",
      "[('p', 'http://www.wikidata.org/prop/direct/P1657'), ('pname', 'MPAA film rating'), ('o', 'http://www.wikidata.org/entity/Q18665334'), ('oname', 'PG')]\n",
      "[('p', 'http://www.wikidata.org/prop/direct/P166'), ('pname', 'award received'), ('o', 'http://www.wikidata.org/entity/Q1131772'), ('oname', 'Saturn Award for Best Science Fiction Film')]\n",
      "[('p', 'http://www.wikidata.org/prop/direct/P166'), ('pname', 'award received'), ('o', 'http://www.wikidata.org/entity/Q1422140'), ('oname', 'Golden Globe Award for Best Original Score')]\n",
      "[('p', 'http://www.wikidata.org/prop/direct/P161'), ('pname', 'cast member'), ('o', 'http://www.wikidata.org/entity/Q325398'), ('oname', 'Phil Brown')]\n",
      "[('p', 'http://www.wikidata.org/prop/direct/P166'), ('pname', 'award received'), ('o', 'http://www.wikidata.org/entity/Q4376972'), ('oname', 'Grammy Award for Best Score Soundtrack for Visual Media')]\n",
      "[('p', 'http://www.wikidata.org/prop/direct/P1040'), ('pname', 'film editor'), ('o', 'http://www.wikidata.org/entity/Q542167'), ('oname', 'Richard Chew')]\n",
      "[('p', 'http://www.wikidata.org/prop/direct/P166'), ('pname', 'award received'), ('o', 'http://www.wikidata.org/entity/Q787098'), ('oname', 'BAFTA Award for Best Film Music')]\n",
      "[('p', 'http://www.wikidata.org/prop/direct/P166'), ('pname', 'award received'), ('o', 'http://www.wikidata.org/entity/Q8555'), ('oname', 'Saturn Award for Best Special Effects')]\n",
      "[('p', 'http://www.wikidata.org/prop/direct/P161'), ('pname', 'cast member'), ('o', 'http://www.wikidata.org/entity/Q108941'), ('oname', 'Carrie Fisher')]\n",
      "[('p', 'http://www.wikidata.org/prop/direct/P161'), ('pname', 'cast member'), ('o', 'http://www.wikidata.org/entity/Q4764168'), ('oname', 'Angus MacInnes')]\n",
      "[('p', 'http://www.wikidata.org/prop/direct/P161'), ('pname', 'cast member'), ('o', 'http://www.wikidata.org/entity/Q674451'), ('oname', 'Shane Rimmer')]\n",
      "[('p', 'http://www.wikidata.org/prop/direct/P166'), ('pname', 'award received'), ('o', 'http://www.wikidata.org/entity/Q981030'), ('oname', 'Saturn Award for Best Writing')]\n",
      "[('p', 'http://www.wikidata.org/prop/direct/P161'), ('pname', 'cast member'), ('o', 'http://www.wikidata.org/entity/Q5523981'), ('oname', 'Garrick Hagon')]\n",
      "[('p', 'http://www.wikidata.org/prop/direct/P166'), ('pname', 'award received'), ('o', 'http://www.wikidata.org/entity/Q2032630'), ('oname', 'Special Achievement Academy Award')]\n",
      "[('p', 'http://www.wikidata.org/prop/direct/P344'), ('pname', 'director of photography'), ('o', 'http://www.wikidata.org/entity/Q182148'), ('oname', 'Gilbert Taylor')]\n",
      "[('p', 'http://www.wikidata.org/prop/direct/P1040'), ('pname', 'film editor'), ('o', 'http://www.wikidata.org/entity/Q429973'), ('oname', 'Paul Hirsch')]\n",
      "[('p', 'http://www.wikidata.org/prop/direct/P161'), ('pname', 'cast member'), ('o', 'http://www.wikidata.org/entity/Q1935109'), ('oname', 'Phil Tippett')]\n",
      "[('p', 'http://www.wikidata.org/prop/direct/P406'), ('pname', 'soundtrack release'), ('o', 'http://www.wikidata.org/entity/Q2715371'), ('oname', 'Star Wars (soundtrack)')]\n",
      "[('p', 'http://www.wikidata.org/prop/direct/P1411'), ('pname', 'nominated for'), ('o', 'http://www.wikidata.org/entity/Q102427'), ('oname', 'Academy Award for Best Picture')]\n",
      "[('p', 'http://www.wikidata.org/prop/direct/P1411'), ('pname', 'nominated for'), ('o', 'http://www.wikidata.org/entity/Q103360'), ('oname', 'Academy Award for Best Director')]\n",
      "[('p', 'http://www.wikidata.org/prop/direct/P5021'), ('pname', 'assessment'), ('o', 'http://www.wikidata.org/entity/Q105776216'), ('oname', 'reverse Bechdel Test')]\n",
      "[('p', 'http://www.wikidata.org/prop/direct/P31'), ('pname', 'instance of'), ('o', 'http://www.wikidata.org/entity/Q11424'), ('oname', 'film')]\n",
      "[('p', 'http://www.wikidata.org/prop/direct/P750'), ('pname', 'distributed by'), ('o', 'http://www.wikidata.org/entity/Q17126013'), ('oname', 'MOKÉP')]\n",
      "[('p', 'http://www.wikidata.org/prop/direct/P364'), ('pname', 'original language of film or TV show'), ('o', 'http://www.wikidata.org/entity/Q1860'), ('oname', 'English')]\n",
      "[('p', 'http://www.wikidata.org/prop/direct/P136'), ('pname', 'genre'), ('o', 'http://www.wikidata.org/entity/Q188473'), ('oname', 'action film')]\n",
      "[('p', 'http://www.wikidata.org/prop/direct/P166'), ('pname', 'award received'), ('o', 'http://www.wikidata.org/entity/Q1966965'), ('oname', 'National Board of Review: Top Ten Films')]\n",
      "[('p', 'http://www.wikidata.org/prop/direct/P462'), ('pname', 'color'), ('o', 'http://www.wikidata.org/entity/Q22006653'), ('oname', 'color')]\n",
      "[('p', 'http://www.wikidata.org/prop/direct/P2758'), ('pname', 'CNC film rating (France)'), ('o', 'http://www.wikidata.org/entity/Q23817729'), ('oname', 'no age restriction')]\n",
      "[('p', 'http://www.wikidata.org/prop/direct/P8411'), ('pname', 'set in environment'), ('o', 'http://www.wikidata.org/entity/Q2775969'), ('oname', 'fictional planet')]\n",
      "[('p', 'http://www.wikidata.org/prop/direct/P3402'), ('pname', 'CNC film rating (Romania)'), ('o', 'http://www.wikidata.org/entity/Q27915575'), ('oname', 'A.P. - 12')]\n",
      "[('p', 'http://www.wikidata.org/prop/direct/P1411'), ('pname', 'nominated for'), ('o', 'http://www.wikidata.org/entity/Q281939'), ('oname', 'Academy Award for Best Film Editing')]\n",
      "[('p', 'http://www.wikidata.org/prop/direct/P166'), ('pname', 'award received'), ('o', 'http://www.wikidata.org/entity/Q281939'), ('oname', 'Academy Award for Best Film Editing')]\n",
      "[('p', 'http://www.wikidata.org/prop/direct/P495'), ('pname', 'country of origin'), ('o', 'http://www.wikidata.org/entity/Q30'), ('oname', 'United States of America')]\n",
      "[('p', 'http://www.wikidata.org/prop/direct/P1411'), ('pname', 'nominated for'), ('o', 'http://www.wikidata.org/entity/Q41417'), ('oname', 'Academy Award for Best Writing, Original Screenplay')]\n",
      "[('p', 'http://www.wikidata.org/prop/direct/P5021'), ('pname', 'assessment'), ('o', 'http://www.wikidata.org/entity/Q4165246'), ('oname', 'Bechdel test')]\n",
      "[('p', 'http://www.wikidata.org/prop/direct/P437'), ('pname', 'distribution format'), ('o', 'http://www.wikidata.org/entity/Q723685'), ('oname', 'video on demand')]\n",
      "[('p', 'http://www.wikidata.org/prop/direct/P915'), ('pname', 'filming location'), ('o', 'http://www.wikidata.org/entity/Q774'), ('oname', 'Guatemala')]\n",
      "[('p', 'http://www.wikidata.org/prop/direct/P5970'), ('pname', 'Medierådet rating'), ('o', 'http://www.wikidata.org/entity/Q80654859'), ('oname', 'For ages 12 and up')]\n",
      "[('p', 'http://www.wikidata.org/prop/direct/P750'), ('pname', 'distributed by'), ('o', 'http://www.wikidata.org/entity/Q80948336'), ('oname', 'FandangoNow')]\n",
      "[('p', 'http://www.wikidata.org/prop/direct/P915'), ('pname', 'filming location'), ('o', 'http://www.wikidata.org/entity/Q816'), ('oname', 'Arizona')]\n",
      "[('p', 'http://www.wikidata.org/prop/direct/P166'), ('pname', 'award received'), ('o', 'http://www.wikidata.org/entity/Q823422'), ('oname', 'National Film Registry')]\n",
      "[('p', 'http://www.wikidata.org/prop/direct/P750'), ('pname', 'distributed by'), ('o', 'http://www.wikidata.org/entity/Q907311'), ('oname', 'Netflix')]\n",
      "[('p', 'http://www.wikidata.org/prop/direct/P915'), ('pname', 'filming location'), ('o', 'http://www.wikidata.org/entity/Q948'), ('oname', 'Tunisia')]\n",
      "[('p', 'http://www.wikidata.org/prop/direct/P915'), ('pname', 'filming location'), ('o', 'http://www.wikidata.org/entity/Q99'), ('oname', 'California')]\n",
      "[('p', 'http://www.wikidata.org/prop/direct/P136'), ('pname', 'genre'), ('o', 'http://www.wikidata.org/entity/Q157394'), ('oname', 'fantasy film')]\n",
      "[('p', 'http://www.wikidata.org/prop/direct/P1411'), ('pname', 'nominated for'), ('o', 'http://www.wikidata.org/entity/Q106291'), ('oname', 'Academy Award for Best Supporting Actor')]\n",
      "[('p', 'http://www.wikidata.org/prop/direct/P750'), ('pname', 'distributed by'), ('o', 'http://www.wikidata.org/entity/Q1097348'), ('oname', 'InterCom')]\n",
      "[('p', 'http://www.wikidata.org/prop/direct/P166'), ('pname', 'award received'), ('o', 'http://www.wikidata.org/entity/Q1265702'), ('oname', 'Saturn Award for Best Director')]\n",
      "[('p', 'http://www.wikidata.org/prop/direct/P8411'), ('pname', 'set in environment'), ('o', 'http://www.wikidata.org/entity/Q17480853'), ('oname', 'fictional moon')]\n",
      "[('p', 'http://www.wikidata.org/prop/direct/P1434'), ('pname', 'takes place in fictional universe'), ('o', 'http://www.wikidata.org/entity/Q19786052'), ('oname', 'Star Wars universe')]\n",
      "[('p', 'http://www.wikidata.org/prop/direct/P840'), ('pname', 'narrative location'), ('o', 'http://www.wikidata.org/entity/Q19907'), ('oname', 'Death Star')]\n",
      "[('p', 'http://www.wikidata.org/prop/direct/P2061'), ('pname', 'aspect ratio'), ('o', 'http://www.wikidata.org/entity/Q21062414'), ('oname', '2.35:1')]\n",
      "[('p', 'http://www.wikidata.org/prop/direct/P1411'), ('pname', 'nominated for'), ('o', 'http://www.wikidata.org/entity/Q277536'), ('oname', 'Academy Award for Best Costume Design')]\n",
      "[('p', 'http://www.wikidata.org/prop/direct/P166'), ('pname', 'award received'), ('o', 'http://www.wikidata.org/entity/Q277536'), ('oname', 'Academy Award for Best Costume Design')]\n",
      "[('p', 'http://www.wikidata.org/prop/direct/P1411'), ('pname', 'nominated for'), ('o', 'http://www.wikidata.org/entity/Q277751'), ('oname', 'Academy Award for Best Production Design')]\n",
      "[('p', 'http://www.wikidata.org/prop/direct/P166'), ('pname', 'award received'), ('o', 'http://www.wikidata.org/entity/Q277751'), ('oname', 'Academy Award for Best Production Design')]\n",
      "[('p', 'http://www.wikidata.org/prop/direct/P136'), ('pname', 'genre'), ('o', 'http://www.wikidata.org/entity/Q2975633'), ('oname', 'coming-of-age story')]\n",
      "[('p', 'http://www.wikidata.org/prop/direct/P161'), ('pname', 'cast member'), ('o', 'http://www.wikidata.org/entity/Q309589'), ('oname', 'Peter Cushing')]\n",
      "[('p', 'http://www.wikidata.org/prop/direct/P136'), ('pname', 'genre'), ('o', 'http://www.wikidata.org/entity/Q319221'), ('oname', 'adventure film')]\n",
      "[('p', 'http://www.wikidata.org/prop/direct/P1411'), ('pname', 'nominated for'), ('o', 'http://www.wikidata.org/entity/Q393686'), ('oname', 'Academy Award for Best Visual Effects')]\n",
      "[('p', 'http://www.wikidata.org/prop/direct/P166'), ('pname', 'award received'), ('o', 'http://www.wikidata.org/entity/Q393686'), ('oname', 'Academy Award for Best Visual Effects')]\n",
      "[('p', 'http://www.wikidata.org/prop/direct/P750'), ('pname', 'distributed by'), ('o', 'http://www.wikidata.org/entity/Q434841'), ('oname', '20th Century Studios')]\n",
      "[('p', 'http://www.wikidata.org/prop/direct/P8345'), ('pname', 'media franchise'), ('o', 'http://www.wikidata.org/entity/Q462'), ('oname', 'Star Wars')]\n",
      "[('p', 'http://www.wikidata.org/prop/direct/P136'), ('pname', 'genre'), ('o', 'http://www.wikidata.org/entity/Q471839'), ('oname', 'science fiction film')]\n",
      "[('p', 'http://www.wikidata.org/prop/direct/P1411'), ('pname', 'nominated for'), ('o', 'http://www.wikidata.org/entity/Q488651'), ('oname', 'Academy Award for Best Original Score')]\n",
      "[('p', 'http://www.wikidata.org/prop/direct/P166'), ('pname', 'award received'), ('o', 'http://www.wikidata.org/entity/Q488651'), ('oname', 'Academy Award for Best Original Score')]\n",
      "[('p', 'http://www.wikidata.org/prop/direct/P750'), ('pname', 'distributed by'), ('o', 'http://www.wikidata.org/entity/Q5371838'), ('oname', 'Vudu')]\n",
      "[('p', 'http://www.wikidata.org/prop/direct/P750'), ('pname', 'distributed by'), ('o', 'http://www.wikidata.org/entity/Q54958752'), ('oname', 'Disney+')]\n",
      "[('p', 'http://www.wikidata.org/prop/direct/P1411'), ('pname', 'nominated for'), ('o', 'http://www.wikidata.org/entity/Q830079'), ('oname', 'Academy Award for Best Sound')]\n",
      "[('p', 'http://www.wikidata.org/prop/direct/P166'), ('pname', 'award received'), ('o', 'http://www.wikidata.org/entity/Q830079'), ('oname', 'Academy Award for Best Sound')]\n",
      "[('p', 'http://www.wikidata.org/prop/direct/P5021'), ('pname', 'assessment'), ('o', 'http://www.wikidata.org/entity/Q85783379'), ('oname', 'Mako Mori test')]\n",
      "[('p', 'http://www.wikidata.org/prop/direct/P161'), ('pname', 'cast member'), ('o', 'http://www.wikidata.org/entity/Q1282707'), ('oname', 'Eddie Byrne')]\n",
      "[('p', 'http://www.wikidata.org/prop/direct/P840'), ('pname', 'narrative location'), ('o', 'http://www.wikidata.org/entity/Q837921'), ('oname', 'Yavin IV')]\n",
      "[('p', 'http://www.wikidata.org/prop/direct/P162'), ('pname', 'producer'), ('o', 'http://www.wikidata.org/entity/Q683785'), ('oname', 'Rick McCallum')]\n",
      "[('p', 'http://www.wikidata.org/prop/direct/P86'), ('pname', 'composer'), ('o', 'http://www.wikidata.org/entity/Q131285'), ('oname', 'John Williams')]\n",
      "[('p', 'http://www.wikidata.org/prop/direct/P136'), ('pname', 'genre'), ('o', 'http://www.wikidata.org/entity/Q468478'), ('oname', 'space opera')]\n",
      "[('p', 'http://www.wikidata.org/prop/direct/P166'), ('pname', 'award received'), ('o', 'http://www.wikidata.org/entity/Q1258647'), ('oname', 'Saturn Award for Best Supporting Actor')]\n",
      "[('p', 'http://www.wikidata.org/prop/direct/P161'), ('pname', 'cast member'), ('o', 'http://www.wikidata.org/entity/Q128379'), ('oname', 'David Prowse')]\n",
      "[('p', 'http://www.wikidata.org/prop/direct/P2554'), ('pname', 'production designer'), ('o', 'http://www.wikidata.org/entity/Q1600325'), ('oname', 'John Barry')]\n",
      "[('p', 'http://www.wikidata.org/prop/direct/P161'), ('pname', 'cast member'), ('o', 'http://www.wikidata.org/entity/Q203960'), ('oname', 'James Earl Jones')]\n",
      "[('p', 'http://www.wikidata.org/prop/direct/P725'), ('pname', 'voice actor'), ('o', 'http://www.wikidata.org/entity/Q203960'), ('oname', 'James Earl Jones')]\n",
      "[('p', 'http://www.wikidata.org/prop/direct/P272'), ('pname', 'production company'), ('o', 'http://www.wikidata.org/entity/Q242446'), ('oname', 'Lucasfilm')]\n",
      "[('p', 'http://www.wikidata.org/prop/direct/P161'), ('pname', 'cast member'), ('o', 'http://www.wikidata.org/entity/Q454081'), ('oname', 'Kenny Baker')]\n",
      "[('p', 'http://www.wikidata.org/prop/direct/P161'), ('pname', 'cast member'), ('o', 'http://www.wikidata.org/entity/Q103894'), ('oname', 'Alec Guinness')]\n",
      "[('p', 'http://www.wikidata.org/prop/direct/P161'), ('pname', 'cast member'), ('o', 'http://www.wikidata.org/entity/Q441685'), ('oname', 'Anthony Daniels')]\n",
      "[('p', 'http://www.wikidata.org/prop/direct/P161'), ('pname', 'cast member'), ('o', 'http://www.wikidata.org/entity/Q7342955'), ('oname', 'Robert Clarke')]\n",
      "[('p', 'http://www.wikidata.org/prop/direct/P161'), ('pname', 'cast member'), ('o', 'http://www.wikidata.org/entity/Q352948'), ('oname', 'Joe Johnston')]\n",
      "[('p', 'http://www.wikidata.org/prop/direct/P161'), ('pname', 'cast member'), ('o', 'http://www.wikidata.org/entity/Q1187504'), ('oname', 'Denis Lawson')]\n",
      "[('p', 'http://www.wikidata.org/prop/direct/P166'), ('pname', 'award received'), ('o', 'http://www.wikidata.org/entity/Q1757366'), ('oname', 'Saturn Award for Best Music')]\n",
      "[('p', 'http://www.wikidata.org/prop/direct/P179'), ('pname', 'part of the series'), ('o', 'http://www.wikidata.org/entity/Q22092344'), ('oname', 'Star Wars')]\n",
      "[('p', 'http://www.wikidata.org/prop/direct/P179'), ('pname', 'part of the series'), ('o', 'http://www.wikidata.org/entity/Q25540859'), ('oname', 'Star Wars Trilogy')]\n",
      "[('p', 'http://www.wikidata.org/prop/direct/P166'), ('pname', 'award received'), ('o', 'http://www.wikidata.org/entity/Q2116650'), ('oname', 'Saturn Award for Best Make-up')]\n",
      "[('p', 'http://www.wikidata.org/prop/direct/P161'), ('pname', 'cast member'), ('o', 'http://www.wikidata.org/entity/Q512456'), ('oname', 'Shelagh Fraser')]\n",
      "[('p', 'http://www.wikidata.org/prop/direct/P161'), ('pname', 'cast member'), ('o', 'http://www.wikidata.org/entity/Q560552'), ('oname', 'Peter Mayhew')]\n",
      "[('p', 'http://www.wikidata.org/prop/direct/P166'), ('pname', 'award received'), ('o', 'http://www.wikidata.org/entity/Q971008'), ('oname', 'Saturn Award for Best Costume')]\n",
      "[('p', 'http://www.wikidata.org/prop/direct/P737'), ('pname', 'influenced by'), ('o', 'http://www.wikidata.org/entity/Q710850'), ('oname', 'The Dam Busters')]\n",
      "[('p', 'http://www.wikidata.org/prop/direct/P162'), ('pname', 'producer'), ('o', 'http://www.wikidata.org/entity/Q1494912'), ('oname', 'Gary Kurtz')]\n",
      "[('p', 'http://www.wikidata.org/prop/direct/P161'), ('pname', 'cast member'), ('o', 'http://www.wikidata.org/entity/Q3157294'), ('oname', 'Jack Purvis')]\n",
      "[('p', 'http://www.wikidata.org/prop/direct/P161'), ('pname', 'cast member'), ('o', 'http://www.wikidata.org/entity/Q367085'), ('oname', 'Richard LeParmentier')]\n",
      "[('p', 'http://www.wikidata.org/prop/direct/P1040'), ('pname', 'film editor'), ('o', 'http://www.wikidata.org/entity/Q463119'), ('oname', 'Marcia Lucas')]\n",
      "[('p', 'http://www.wikidata.org/prop/direct/P910'), ('pname', \"topic's main category\"), ('o', 'http://www.wikidata.org/entity/Q8810557'), ('oname', 'Category:Star Wars (film)')]\n",
      "[('p', 'http://www.wikidata.org/prop/direct/P2515'), ('pname', 'costume designer'), ('o', 'http://www.wikidata.org/entity/Q1701116'), ('oname', 'John Mollo')]\n",
      "[('p', 'http://www.wikidata.org/prop/direct/P161'), ('pname', 'cast member'), ('o', 'http://www.wikidata.org/entity/Q15488048'), ('oname', 'Alex McCrindle')]\n"
     ]
    },
    {
     "data": {
      "text/plain": [
       "113"
      ]
     },
     "execution_count": 57,
     "metadata": {},
     "output_type": "execute_result"
    }
   ],
   "source": [
    "queryString = \"\"\"\n",
    "SELECT ?p ?pname ?o ?oname WHERE { \n",
    "    wd:Q17738 ?p ?o .\n",
    " \n",
    "    # this returns the labels\n",
    "    ?p <http://schema.org/name> ?pname .\n",
    "    ?o <http://schema.org/name> ?oname .\n",
    "} \n",
    "\"\"\"\n",
    "\n",
    "print(\"Results\")\n",
    "run_query(queryString)"
   ]
  },
  {
   "cell_type": "code",
   "execution_count": null,
   "id": "48508363-bd13-45c9-ada5-ad18b53590c1",
   "metadata": {},
   "outputs": [],
   "source": [
    "So returning to the original query, I use P57"
   ]
  },
  {
   "cell_type": "code",
   "execution_count": 60,
   "id": "e60d3401-4da4-4098-9cea-5797c7c00299",
   "metadata": {},
   "outputs": [
    {
     "name": "stdout",
     "output_type": "stream",
     "text": [
      "Results\n",
      "Empty\n"
     ]
    },
    {
     "data": {
      "text/plain": [
       "0"
      ]
     },
     "execution_count": 60,
     "metadata": {},
     "output_type": "execute_result"
    }
   ],
   "source": [
    "queryString = \"\"\"\n",
    "SELECT ?s ?filmdirected WHERE { \n",
    "    ?s wdt:P57 wd:Q190379 .\n",
    " \n",
    "    # this returns the labels\n",
    "    ?s <http://schema.org/name> ?filmdirected .\n",
    "} \n",
    "\"\"\"\n",
    "\n",
    "print(\"Results\")\n",
    "run_query(queryString)"
   ]
  },
  {
   "cell_type": "markdown",
   "id": "2949c2f9-5477-41f0-9b17-0b3982fd49a6",
   "metadata": {},
   "source": [
    "He doesn't direct any movie. Let's find if he's been an actor (P161) or a screenwriter(P58)."
   ]
  },
  {
   "cell_type": "code",
   "execution_count": 10,
   "id": "fe57efc8-9547-4b70-a02e-a3e4cdfc32ca",
   "metadata": {},
   "outputs": [
    {
     "name": "stdout",
     "output_type": "stream",
     "text": [
      "Results\n",
      "[('s', 'http://www.wikidata.org/entity/Q7348342'), ('film', 'The Unbelievers')]\n"
     ]
    },
    {
     "data": {
      "text/plain": [
       "1"
      ]
     },
     "execution_count": 10,
     "metadata": {},
     "output_type": "execute_result"
    }
   ],
   "source": [
    "queryString = \"\"\"\n",
    "SELECT ?s ?film WHERE { \n",
    "    ?s wdt:P161 wd:Q190379 .\n",
    " \n",
    "    # this returns the labels\n",
    "    ?s <http://schema.org/name> ?film .\n",
    "} \n",
    "\"\"\"\n",
    "\n",
    "print(\"Results\")\n",
    "run_query(queryString)"
   ]
  },
  {
   "cell_type": "markdown",
   "id": "712abb59-b818-4f93-a0bd-80ea87d881b4",
   "metadata": {},
   "source": [
    "Now let's show the movie for which he has been the screenwriter"
   ]
  },
  {
   "cell_type": "code",
   "execution_count": 67,
   "id": "57f32fdf-3474-42d2-a0a4-7e921b409cb0",
   "metadata": {},
   "outputs": [
    {
     "name": "stdout",
     "output_type": "stream",
     "text": [
      "Results\n",
      "[('s', 'http://www.wikidata.org/entity/Q589713'), ('movie', 'The Good Son')]\n",
      "[('s', 'http://www.wikidata.org/entity/Q129813'), ('movie', 'Enduring Love')]\n",
      "[('s', 'http://www.wikidata.org/entity/Q7757528'), ('movie', \"The Ploughman's Lunch\")]\n",
      "[('s', 'http://www.wikidata.org/entity/Q1879989'), ('movie', 'The Comfort of Strangers')]\n",
      "[('s', 'http://www.wikidata.org/entity/Q27959336'), ('movie', 'On Chesil Beach')]\n",
      "[('s', 'http://www.wikidata.org/entity/Q1626186'), ('movie', 'Atonement')]\n",
      "[('s', 'http://www.wikidata.org/entity/Q1916423'), ('movie', 'The Cement Garden')]\n",
      "[('s', 'http://www.wikidata.org/entity/Q426397'), ('movie', 'The Innocent')]\n",
      "[('s', 'http://www.wikidata.org/entity/Q28923729'), ('movie', 'The Children Act')]\n"
     ]
    },
    {
     "data": {
      "text/plain": [
       "9"
      ]
     },
     "execution_count": 67,
     "metadata": {},
     "output_type": "execute_result"
    }
   ],
   "source": [
    "queryString = \"\"\"\n",
    "SELECT ?s ?movie WHERE { \n",
    "    ?s wdt:P58 wd:Q190379 .\n",
    " \n",
    "    # this returns the labels\n",
    "    ?s <http://schema.org/name> ?movie .\n",
    "} \n",
    "\"\"\"\n",
    "\n",
    "print(\"Results\")\n",
    "run_query(queryString)"
   ]
  },
  {
   "cell_type": "markdown",
   "id": "adffe416-575f-4682-9329-d6d42916222f",
   "metadata": {},
   "source": [
    "Now let's search about Paul Auster.\n",
    "Firstly, director."
   ]
  },
  {
   "cell_type": "code",
   "execution_count": 69,
   "id": "69554379-3a01-4440-bd57-2541b35af249",
   "metadata": {},
   "outputs": [
    {
     "name": "stdout",
     "output_type": "stream",
     "text": [
      "Results\n",
      "[('s', 'http://www.wikidata.org/entity/Q2478977'), ('sname', 'Blue in the Face')]\n",
      "[('s', 'http://www.wikidata.org/entity/Q3213673'), ('sname', 'The Inner Life of Martin Frost')]\n",
      "[('s', 'http://www.wikidata.org/entity/Q653447'), ('sname', 'Smoke')]\n",
      "[('s', 'http://www.wikidata.org/entity/Q1877215'), ('sname', 'Lulu on the Bridge')]\n"
     ]
    },
    {
     "data": {
      "text/plain": [
       "4"
      ]
     },
     "execution_count": 69,
     "metadata": {},
     "output_type": "execute_result"
    }
   ],
   "source": [
    " queryString = \"\"\"\n",
    "SELECT ?s ?sname WHERE { \n",
    "    ?s wdt:P57 wd:Q214642 .\n",
    " \n",
    "    # this returns the labels\n",
    "    ?s <http://schema.org/name> ?sname .\n",
    "} \n",
    "\"\"\"\n",
    "\n",
    "print(\"Results\")\n",
    "run_query(queryString)"
   ]
  },
  {
   "cell_type": "markdown",
   "id": "2d247979-21de-4ed1-bcb1-51c76d9cef1e",
   "metadata": {},
   "source": [
    "Actor"
   ]
  },
  {
   "cell_type": "code",
   "execution_count": 70,
   "id": "196c0e54-d58a-45b2-b6bd-e06edf9a27c4",
   "metadata": {},
   "outputs": [
    {
     "name": "stdout",
     "output_type": "stream",
     "text": [
      "Results\n",
      "[('s', 'http://www.wikidata.org/entity/Q2915460'), ('sname', 'Act of God')]\n",
      "[('s', 'http://www.wikidata.org/entity/Q2364684'), ('sname', 'The Music of Chance')]\n"
     ]
    },
    {
     "data": {
      "text/plain": [
       "2"
      ]
     },
     "execution_count": 70,
     "metadata": {},
     "output_type": "execute_result"
    }
   ],
   "source": [
    " queryString = \"\"\"\n",
    "SELECT ?s ?sname WHERE { \n",
    "    ?s wdt:P161 wd:Q214642 .\n",
    " \n",
    "    # this returns the labels\n",
    "    ?s <http://schema.org/name> ?sname .\n",
    "} \n",
    "\"\"\"\n",
    "\n",
    "print(\"Results\")\n",
    "run_query(queryString)"
   ]
  },
  {
   "cell_type": "markdown",
   "id": "b2a47c0c-f87f-414e-ab46-eee7fbce5a4c",
   "metadata": {},
   "source": [
    "Screenwriter"
   ]
  },
  {
   "cell_type": "code",
   "execution_count": 71,
   "id": "b2fc51da-7866-450c-937b-4d95d02cf8b2",
   "metadata": {},
   "outputs": [
    {
     "name": "stdout",
     "output_type": "stream",
     "text": [
      "Results\n",
      "[('s', 'http://www.wikidata.org/entity/Q2478977'), ('sname', 'Blue in the Face')]\n",
      "[('s', 'http://www.wikidata.org/entity/Q2915460'), ('sname', 'Act of God')]\n",
      "[('s', 'http://www.wikidata.org/entity/Q3213673'), ('sname', 'The Inner Life of Martin Frost')]\n",
      "[('s', 'http://www.wikidata.org/entity/Q2364684'), ('sname', 'The Music of Chance')]\n",
      "[('s', 'http://www.wikidata.org/entity/Q653447'), ('sname', 'Smoke')]\n",
      "[('s', 'http://www.wikidata.org/entity/Q1877215'), ('sname', 'Lulu on the Bridge')]\n",
      "[('s', 'http://www.wikidata.org/entity/Q3220942'), ('sname', 'The Center of the World')]\n"
     ]
    },
    {
     "data": {
      "text/plain": [
       "7"
      ]
     },
     "execution_count": 71,
     "metadata": {},
     "output_type": "execute_result"
    }
   ],
   "source": [
    " queryString = \"\"\"\n",
    "SELECT ?s ?sname WHERE { \n",
    "    ?s wdt:P58 wd:Q214642 .\n",
    " \n",
    "    # this returns the labels\n",
    "    ?s <http://schema.org/name> ?sname .\n",
    "} \n",
    "\"\"\"\n",
    "\n",
    "print(\"Results\")\n",
    "run_query(queryString)"
   ]
  },
  {
   "cell_type": "markdown",
   "id": "0470f3ee-672a-4b7e-8d35-8582b3952e76",
   "metadata": {},
   "source": [
    "### 4. How many films were derived from the books of these two authors?"
   ]
  },
  {
   "cell_type": "markdown",
   "id": "55fe1e84-aa80-4795-8c7a-07df09e67bb7",
   "metadata": {},
   "source": [
    "Let's find the books of the two authors and search for some propertes related to a movie."
   ]
  },
  {
   "cell_type": "code",
   "execution_count": null,
   "id": "9d8b57b0-edff-43b1-bad0-e7a9353c316e",
   "metadata": {},
   "outputs": [
    {
     "name": "stdout",
     "output_type": "stream",
     "text": [
      "Results\n",
      "[('s', 'http://www.wikidata.org/entity/Q1951470'), ('sname', 'Mr. Vertigo')]\n",
      "[('s', 'http://www.wikidata.org/entity/Q492991'), ('sname', 'Timbuktu')]\n",
      "[('s', 'http://www.wikidata.org/entity/Q581485'), ('sname', 'The Book of Illusions')]\n",
      "[('s', 'http://www.wikidata.org/entity/Q526792'), ('sname', 'Travels in the Scriptorium')]\n",
      "[('s', 'http://www.wikidata.org/entity/Q1723053'), ('sname', 'Saturday')]\n",
      "[('s', 'http://www.wikidata.org/entity/Q1817920'), ('sname', 'Man in the Dark')]\n",
      "[('s', 'http://www.wikidata.org/entity/Q1322083'), ('sname', 'Sunset Park')]\n",
      "[('s', 'http://www.wikidata.org/entity/Q1584652'), ('sname', 'Invisible')]\n",
      "[('s', 'http://www.wikidata.org/entity/Q28846426'), ('sname', '4 3 2 1')]\n",
      "[('s', 'http://www.wikidata.org/entity/Q60412205'), ('sname', 'Sunset Park')]\n",
      "[('s', 'http://www.wikidata.org/entity/Q16386002'), ('sname', 'Here and Now: Letters, 2008-2011')]\n",
      "[('s', 'http://www.wikidata.org/entity/Q58883639'), ('sname', 'Saturday')]\n",
      "[('s', 'http://www.wikidata.org/entity/Q1215203'), ('sname', 'The New York Trilogy')]\n",
      "[('s', 'http://www.wikidata.org/entity/Q1506280'), ('sname', 'In the Country of Last Things')]\n",
      "[('s', 'http://www.wikidata.org/entity/Q1944147'), ('sname', 'Moon Palace')]\n",
      "[('s', 'http://www.wikidata.org/entity/Q45823712'), ('sname', 'The Locked Room')]\n",
      "[('s', 'http://www.wikidata.org/entity/Q16887077'), ('sname', 'Winter Journal')]\n",
      "[('s', 'http://www.wikidata.org/entity/Q7766783'), ('sname', 'The Story of My Typewriter')]\n",
      "[('s', 'http://www.wikidata.org/entity/Q306619'), ('sname', 'Atonement')]\n",
      "[('s', 'http://www.wikidata.org/entity/Q60411070'), ('sname', 'Atonement')]\n",
      "[('s', 'http://www.wikidata.org/entity/Q1214916'), ('sname', 'The Music of Chance')]\n",
      "[('s', 'http://www.wikidata.org/entity/Q1821899'), ('sname', 'Leviathan')]\n",
      "[('s', 'http://www.wikidata.org/entity/Q3225069'), ('sname', \"Auggie Wren's Christmas Story\")]\n",
      "[('s', 'http://www.wikidata.org/entity/Q1211751'), ('sname', 'The Brooklyn Follies')]\n",
      "[('s', 'http://www.wikidata.org/entity/Q1258502'), ('sname', 'Oracle Night')]\n",
      "[('s', 'http://www.wikidata.org/entity/Q1704438'), ('sname', 'Black Dogs')]\n",
      "[('s', 'http://www.wikidata.org/entity/Q64031447'), ('sname', 'Machines Like Me')]\n",
      "[('s', 'http://www.wikidata.org/entity/Q451491'), ('sname', 'On Chesil Beach')]\n",
      "[('s', 'http://www.wikidata.org/entity/Q42185883'), ('sname', 'Man in the Dark')]\n",
      "[('s', 'http://www.wikidata.org/entity/Q1198186'), ('sname', 'The Cement Garden')]\n",
      "[('s', 'http://www.wikidata.org/entity/Q478433'), ('sname', 'Amsterdam')]\n",
      "[('s', 'http://www.wikidata.org/entity/Q1212217'), ('sname', 'The Invention of Solitude')]\n",
      "[('s', 'http://www.wikidata.org/entity/Q5770801'), ('sname', 'City of Glass')]\n",
      "[('s', 'http://www.wikidata.org/entity/Q5855938'), ('sname', 'Ghosts')]\n",
      "[('s', 'http://www.wikidata.org/entity/Q18162235'), ('sname', 'The Children Act')]\n",
      "[('s', 'http://www.wikidata.org/entity/Q27940587'), ('sname', 'Nutshell')]\n",
      "[('s', 'http://www.wikidata.org/entity/Q1531861'), ('sname', 'Solar')]\n",
      "[('s', 'http://www.wikidata.org/entity/Q1755376'), ('sname', 'The Innocent')]\n",
      "[('s', 'http://www.wikidata.org/entity/Q3786029'), ('sname', 'I Thought My Father Was God')]\n",
      "[('s', 'http://www.wikidata.org/entity/Q90699593'), ('sname', 'The Cockroach')]\n",
      "[('s', 'http://www.wikidata.org/entity/Q5123698'), ('sname', 'City of Glass')]\n",
      "[('s', 'http://www.wikidata.org/entity/Q17027694'), ('sname', 'Report from the Interior')]\n",
      "[('s', 'http://www.wikidata.org/entity/Q2920448'), ('sname', 'Enduring Love')]\n",
      "[('s', 'http://www.wikidata.org/entity/Q1754953'), ('sname', 'The Comfort of Strangers')]\n",
      "[('s', 'http://www.wikidata.org/entity/Q1747269'), ('sname', 'The Child in Time')]\n",
      "[('s', 'http://www.wikidata.org/entity/Q5453216'), ('sname', 'First Love, Last Rites')]\n",
      "[('s', 'http://www.wikidata.org/entity/Q972609'), ('sname', 'Sweet Tooth')]\n",
      "[('s', 'http://www.wikidata.org/entity/Q3067425'), ('sname', 'Squeeze Play')]\n",
      "[('s', 'http://www.wikidata.org/entity/Q16653447'), ('sname', 'The Red Notebook')]\n",
      "[('s', 'http://www.wikidata.org/entity/Q14395944'), ('sname', 'The Innocent (McEwan novel)')]\n",
      "[('s', 'http://www.wikidata.org/entity/Q16386280'), ('sname', 'In Between the Sheets')]\n",
      "[('s', 'http://www.wikidata.org/entity/Q3819411'), ('sname', 'The Daydreamer')]\n",
      "[('s', 'http://www.wikidata.org/entity/Q60977819'), ('sname', 'My Purple Scented Novel')]\n"
     ]
    },
    {
     "data": {
      "text/plain": [
       "53"
      ]
     },
     "execution_count": 15,
     "metadata": {},
     "output_type": "execute_result"
    }
   ],
   "source": [
    "  queryString = \"\"\"\n",
    "SELECT ?s ?sname WHERE { \n",
    "        ?s wdt:P50 ?authors .\n",
    "        \n",
    "    # this returns the labels\n",
    "    ?s <http://schema.org/name> ?sname .\n",
    "    \n",
    "    FILTER ((?authors = wd:Q214642) || (?authors = wd:Q190379)) .\n",
    "} \n",
    "\"\"\"\n",
    "\n",
    "print(\"Results\")\n",
    "run_query(queryString)"
   ]
  },
  {
   "cell_type": "markdown",
   "id": "a6f66383-cde6-47a9-87f7-4299b4b9d5cd",
   "metadata": {},
   "source": [
    "Let's search the properties of the movie, to see how it's categorized. "
   ]
  },
  {
   "cell_type": "code",
   "execution_count": null,
   "id": "1bd0a09c-5c8b-4672-9ec7-dbd59193e6a9",
   "metadata": {},
   "outputs": [
    {
     "name": "stdout",
     "output_type": "stream",
     "text": [
      "Results\n",
      "[('pname', 'cast member'), ('o', 'http://www.wikidata.org/entity/Q44380'), ('oname', 'Cameron Diaz')]\n",
      "[('pname', 'cast member'), ('o', 'http://www.wikidata.org/entity/Q214475'), ('oname', 'Ayaan Hirsi Ali')]\n",
      "[('pname', 'cast member'), ('o', 'http://www.wikidata.org/entity/Q25089'), ('oname', 'Woody Allen')]\n",
      "[('pname', 'cast member'), ('o', 'http://www.wikidata.org/entity/Q296047'), ('oname', 'Sam Harris')]\n",
      "[('pname', 'cast member'), ('o', 'http://www.wikidata.org/entity/Q44461'), ('oname', 'Richard Dawkins')]\n",
      "[('pname', 'instance of'), ('o', 'http://www.wikidata.org/entity/Q11424'), ('oname', 'film')]\n",
      "[('pname', 'original language of film or TV show'), ('o', 'http://www.wikidata.org/entity/Q1860'), ('oname', 'English')]\n",
      "[('pname', 'color'), ('o', 'http://www.wikidata.org/entity/Q22006653'), ('oname', 'color')]\n",
      "[('pname', 'country of origin'), ('o', 'http://www.wikidata.org/entity/Q30'), ('oname', 'United States of America')]\n",
      "[('pname', 'distribution format'), ('o', 'http://www.wikidata.org/entity/Q723685'), ('oname', 'video on demand')]\n",
      "[('pname', 'cast member'), ('o', 'http://www.wikidata.org/entity/Q17714'), ('oname', 'Stephen Hawking')]\n",
      "[('pname', 'genre'), ('o', 'http://www.wikidata.org/entity/Q93204'), ('oname', 'documentary film')]\n",
      "[('pname', 'Kijkwijzer rating'), ('o', 'http://www.wikidata.org/entity/Q23649980'), ('oname', 'AL')]\n",
      "[('pname', 'cast member'), ('o', 'http://www.wikidata.org/entity/Q190379'), ('oname', 'Ian McEwan')]\n",
      "[('pname', 'cast member'), ('o', 'http://www.wikidata.org/entity/Q4129653'), ('oname', 'Penn Jillette')]\n",
      "[('pname', 'screenwriter'), ('o', 'http://www.wikidata.org/entity/Q470468'), ('oname', 'Lawrence M. Krauss')]\n",
      "[('pname', 'cast member'), ('o', 'http://www.wikidata.org/entity/Q470468'), ('oname', 'Lawrence M. Krauss')]\n",
      "[('pname', 'producer'), ('o', 'http://www.wikidata.org/entity/Q470468'), ('oname', 'Lawrence M. Krauss')]\n",
      "[('pname', 'director'), ('o', 'http://www.wikidata.org/entity/Q19957982'), ('oname', 'Gus Holwerda')]\n"
     ]
    },
    {
     "data": {
      "text/plain": [
       "19"
      ]
     },
     "execution_count": 16,
     "metadata": {},
     "output_type": "execute_result"
    }
   ],
   "source": [
    "  queryString = \"\"\"\n",
    "SELECT ?pname ?o ?oname WHERE { \n",
    "        wd:Q7348342 ?p ?o .\n",
    "        \n",
    "    # this returns the labels\n",
    "    ?p <http://schema.org/name> ?pname .\n",
    "    ?o <http://schema.org/name> ?oname .    \n",
    "    \n",
    "} \n",
    "\"\"\"\n",
    "\n",
    "print(\"Results\")\n",
    "run_query(queryString)"
   ]
  },
  {
   "cell_type": "markdown",
   "id": "dd32481c-20ce-43d9-be86-7ece5242ee82",
   "metadata": {},
   "source": [
    "Let's observe the properties "
   ]
  },
  {
   "cell_type": "code",
   "execution_count": 19,
   "id": "2f8c7eda-a316-42c6-a5ad-78af339213c3",
   "metadata": {},
   "outputs": [
    {
     "name": "stdout",
     "output_type": "stream",
     "text": [
      "Results\n",
      "[('book', 'Atonement'), ('author', 'Ian McEwan'), ('movie', 'Atonement')]\n",
      "[('book', 'The Cement Garden'), ('author', 'Ian McEwan'), ('movie', 'The Cement Garden')]\n"
     ]
    },
    {
     "data": {
      "text/plain": [
       "2"
      ]
     },
     "execution_count": 19,
     "metadata": {},
     "output_type": "execute_result"
    }
   ],
   "source": [
    "  queryString = \"\"\"\n",
    "SELECT ?book ?author ?movie  WHERE { \n",
    "        ?b wdt:P50 ?a ;\n",
    "            wdt:P4969 ?m .\n",
    "        ?m wdt:P31 wd:Q11424 .\n",
    "        \n",
    "    # this returns the labels\n",
    "    ?b <http://schema.org/name> ?book .\n",
    "    ?a <http://schema.org/name> ?author .\n",
    "    ?m <http://schema.org/name> ?movie .\n",
    "    \n",
    "    FILTER ((?a = wd:Q214642) || (?a = wd:Q190379)) .\n",
    "} \n",
    "\"\"\"\n",
    "\n",
    "print(\"Results\")\n",
    "run_query(queryString)\n"
   ]
  },
  {
   "cell_type": "markdown",
   "id": "950e161e-31e6-42b2-88e5-71311dcd8e3c",
   "metadata": {},
   "source": [
    "### 5. Which author won more literature-related awards? "
   ]
  },
  {
   "cell_type": "markdown",
   "id": "30380192-5344-46f2-906a-4d6a538b0d43",
   "metadata": {},
   "source": [
    "Let's check some properties of them"
   ]
  },
  {
   "cell_type": "code",
   "execution_count": null,
   "id": "d1207f31-54be-4d60-b90d-6832e0e7eca4",
   "metadata": {},
   "outputs": [
    {
     "name": "stdout",
     "output_type": "stream",
     "text": [
      "Results\n",
      "[('p', 'http://www.wikidata.org/prop/direct/P26'), ('pname', 'spouse'), ('s', 'http://www.wikidata.org/entity/Q1280035'), ('sname', 'Lydia Davis')]\n",
      "[('p', 'http://www.wikidata.org/prop/direct/P800'), ('pname', 'notable work'), ('s', 'http://www.wikidata.org/entity/Q581485'), ('sname', 'The Book of Illusions')]\n",
      "[('p', 'http://www.wikidata.org/prop/direct/P734'), ('pname', 'family name'), ('s', 'http://www.wikidata.org/entity/Q37565995'), ('sname', 'McEwan')]\n",
      "[('p', 'http://www.wikidata.org/prop/direct/P69'), ('pname', 'educated at'), ('s', 'http://www.wikidata.org/entity/Q1045828'), ('sname', 'University of East Anglia')]\n",
      "[('p', 'http://www.wikidata.org/prop/direct/P735'), ('pname', 'given name'), ('s', 'http://www.wikidata.org/entity/Q18336315'), ('sname', 'Ian')]\n",
      "[('p', 'http://www.wikidata.org/prop/direct/P69'), ('pname', 'educated at'), ('s', 'http://www.wikidata.org/entity/Q1161297'), ('sname', 'University of Sussex')]\n",
      "[('p', 'http://www.wikidata.org/prop/direct/P19'), ('pname', 'place of birth'), ('s', 'http://www.wikidata.org/entity/Q25395'), ('sname', 'Newark')]\n",
      "[('p', 'http://www.wikidata.org/prop/direct/P463'), ('pname', 'member of'), ('s', 'http://www.wikidata.org/entity/Q7118978'), ('sname', 'PEN America')]\n",
      "[('p', 'http://www.wikidata.org/prop/direct/P19'), ('pname', 'place of birth'), ('s', 'http://www.wikidata.org/entity/Q646980'), ('sname', 'Aldershot')]\n",
      "[('p', 'http://www.wikidata.org/prop/direct/P166'), ('pname', 'award received'), ('s', 'http://www.wikidata.org/entity/Q56494487'), ('sname', 'honorary doctor of the University of Sussex')]\n",
      "[('p', 'http://www.wikidata.org/prop/direct/P737'), ('pname', 'influenced by'), ('s', 'http://www.wikidata.org/entity/Q187019'), ('sname', 'Philip Roth')]\n",
      "[('p', 'http://www.wikidata.org/prop/direct/P166'), ('pname', 'award received'), ('s', 'http://www.wikidata.org/entity/Q5153503'), ('sname', 'Common Wealth Award of Distinguished Service')]\n",
      "[('p', 'http://www.wikidata.org/prop/direct/P106'), ('pname', 'occupation'), ('s', 'http://www.wikidata.org/entity/Q11774202'), ('sname', 'essayist')]\n",
      "[('p', 'http://www.wikidata.org/prop/direct/P166'), ('pname', 'award received'), ('s', 'http://www.wikidata.org/entity/Q12201477'), ('sname', 'Commander of the Order of the British Empire')]\n",
      "[('p', 'http://www.wikidata.org/prop/direct/P166'), ('pname', 'award received'), ('s', 'http://www.wikidata.org/entity/Q13452531'), ('sname', 'Commandeur des Arts et des Lettres\\u200e')]\n",
      "[('p', 'http://www.wikidata.org/prop/direct/P106'), ('pname', 'occupation'), ('s', 'http://www.wikidata.org/entity/Q14467526'), ('sname', 'linguist')]\n",
      "[('p', 'http://www.wikidata.org/prop/direct/P27'), ('pname', 'country of citizenship'), ('s', 'http://www.wikidata.org/entity/Q145'), ('sname', 'United Kingdom')]\n",
      "[('p', 'http://www.wikidata.org/prop/direct/P463'), ('pname', 'member of'), ('s', 'http://www.wikidata.org/entity/Q1468277'), ('sname', 'Royal Society of Literature')]\n",
      "[('p', 'http://www.wikidata.org/prop/direct/P1412'), ('pname', 'languages spoken, written or signed'), ('s', 'http://www.wikidata.org/entity/Q150'), ('sname', 'French')]\n",
      "[('p', 'http://www.wikidata.org/prop/direct/P106'), ('pname', 'occupation'), ('s', 'http://www.wikidata.org/entity/Q1622272'), ('sname', 'university teacher')]\n",
      "[('p', 'http://www.wikidata.org/prop/direct/P1412'), ('pname', 'languages spoken, written or signed'), ('s', 'http://www.wikidata.org/entity/Q1860'), ('sname', 'English')]\n",
      "[('p', 'http://www.wikidata.org/prop/direct/P1412'), ('pname', 'languages spoken, written or signed'), ('s', 'http://www.wikidata.org/entity/Q1860'), ('sname', 'English')]\n",
      "[('p', 'http://www.wikidata.org/prop/direct/P106'), ('pname', 'occupation'), ('s', 'http://www.wikidata.org/entity/Q18814623'), ('sname', 'autobiographer')]\n",
      "[('p', 'http://www.wikidata.org/prop/direct/P6379'), ('pname', 'has works in the collection'), ('s', 'http://www.wikidata.org/entity/Q188740'), ('sname', 'Museum of Modern Art')]\n",
      "[('p', 'http://www.wikidata.org/prop/direct/P106'), ('pname', 'occupation'), ('s', 'http://www.wikidata.org/entity/Q214917'), ('sname', 'playwright')]\n",
      "[('p', 'http://www.wikidata.org/prop/direct/P106'), ('pname', 'occupation'), ('s', 'http://www.wikidata.org/entity/Q2526255'), ('sname', 'film director')]\n",
      "[('p', 'http://www.wikidata.org/prop/direct/P166'), ('pname', 'award received'), ('s', 'http://www.wikidata.org/entity/Q277787'), ('sname', 'Jerusalem Prize')]\n",
      "[('p', 'http://www.wikidata.org/prop/direct/P106'), ('pname', 'occupation'), ('s', 'http://www.wikidata.org/entity/Q28389'), ('sname', 'screenwriter')]\n",
      "[('p', 'http://www.wikidata.org/prop/direct/P106'), ('pname', 'occupation'), ('s', 'http://www.wikidata.org/entity/Q28389'), ('sname', 'screenwriter')]\n",
      "[('p', 'http://www.wikidata.org/prop/direct/P27'), ('pname', 'country of citizenship'), ('s', 'http://www.wikidata.org/entity/Q30'), ('sname', 'United States of America')]\n",
      "[('p', 'http://www.wikidata.org/prop/direct/P106'), ('pname', 'occupation'), ('s', 'http://www.wikidata.org/entity/Q3282637'), ('sname', 'film producer')]\n",
      "[('p', 'http://www.wikidata.org/prop/direct/P166'), ('pname', 'award received'), ('s', 'http://www.wikidata.org/entity/Q3332454'), ('sname', 'Princess of Asturias Literary Prize')]\n",
      "[('p', 'http://www.wikidata.org/prop/direct/P106'), ('pname', 'occupation'), ('s', 'http://www.wikidata.org/entity/Q333634'), ('sname', 'translator')]\n",
      "[('p', 'http://www.wikidata.org/prop/direct/P106'), ('pname', 'occupation'), ('s', 'http://www.wikidata.org/entity/Q36180'), ('sname', 'writer')]\n",
      "[('p', 'http://www.wikidata.org/prop/direct/P106'), ('pname', 'occupation'), ('s', 'http://www.wikidata.org/entity/Q36180'), ('sname', 'writer')]\n",
      "[('p', 'http://www.wikidata.org/prop/direct/P166'), ('pname', 'award received'), ('s', 'http://www.wikidata.org/entity/Q39477935'), ('sname', 'Fellow of the Royal Society of Literature')]\n",
      "[('p', 'http://www.wikidata.org/prop/direct/P463'), ('pname', 'member of'), ('s', 'http://www.wikidata.org/entity/Q463303'), ('sname', 'American Academy of Arts and Sciences')]\n",
      "[('p', 'http://www.wikidata.org/prop/direct/P463'), ('pname', 'member of'), ('s', 'http://www.wikidata.org/entity/Q463303'), ('sname', 'American Academy of Arts and Sciences')]\n",
      "[('p', 'http://www.wikidata.org/prop/direct/P106'), ('pname', 'occupation'), ('s', 'http://www.wikidata.org/entity/Q482980'), ('sname', 'author')]\n",
      "[('p', 'http://www.wikidata.org/prop/direct/P106'), ('pname', 'occupation'), ('s', 'http://www.wikidata.org/entity/Q482980'), ('sname', 'author')]\n",
      "[('p', 'http://www.wikidata.org/prop/direct/P108'), ('pname', 'employer'), ('s', 'http://www.wikidata.org/entity/Q49088'), ('sname', 'Columbia University')]\n",
      "[('p', 'http://www.wikidata.org/prop/direct/P69'), ('pname', 'educated at'), ('s', 'http://www.wikidata.org/entity/Q49088'), ('sname', 'Columbia University')]\n",
      "[('p', 'http://www.wikidata.org/prop/direct/P735'), ('pname', 'given name'), ('s', 'http://www.wikidata.org/entity/Q4925623'), ('sname', 'Paul')]\n",
      "[('p', 'http://www.wikidata.org/prop/direct/P106'), ('pname', 'occupation'), ('s', 'http://www.wikidata.org/entity/Q49757'), ('sname', 'poet')]\n",
      "[('p', 'http://www.wikidata.org/prop/direct/P31'), ('pname', 'instance of'), ('s', 'http://www.wikidata.org/entity/Q5'), ('sname', 'human')]\n",
      "[('p', 'http://www.wikidata.org/prop/direct/P31'), ('pname', 'instance of'), ('s', 'http://www.wikidata.org/entity/Q5'), ('sname', 'human')]\n",
      "[('p', 'http://www.wikidata.org/prop/direct/P166'), ('pname', 'award received'), ('s', 'http://www.wikidata.org/entity/Q52382875'), ('sname', 'AAAS Fellow')]\n",
      "[('p', 'http://www.wikidata.org/prop/direct/P166'), ('pname', 'award received'), ('s', 'http://www.wikidata.org/entity/Q52382875'), ('sname', 'AAAS Fellow')]\n",
      "[('p', 'http://www.wikidata.org/prop/direct/P1411'), ('pname', 'nominated for'), ('s', 'http://www.wikidata.org/entity/Q628637'), ('sname', \"European Film Award – People's Choice Award for Best European Film\")]\n",
      "[('p', 'http://www.wikidata.org/prop/direct/P21'), ('pname', 'sex or gender'), ('s', 'http://www.wikidata.org/entity/Q6581097'), ('sname', 'male')]\n",
      "[('p', 'http://www.wikidata.org/prop/direct/P21'), ('pname', 'sex or gender'), ('s', 'http://www.wikidata.org/entity/Q6581097'), ('sname', 'male')]\n",
      "[('p', 'http://www.wikidata.org/prop/direct/P106'), ('pname', 'occupation'), ('s', 'http://www.wikidata.org/entity/Q6625963'), ('sname', 'novelist')]\n",
      "[('p', 'http://www.wikidata.org/prop/direct/P106'), ('pname', 'occupation'), ('s', 'http://www.wikidata.org/entity/Q6625963'), ('sname', 'novelist')]\n",
      "[('p', 'http://www.wikidata.org/prop/direct/P1343'), ('pname', 'described by source'), ('s', 'http://www.wikidata.org/entity/Q67311526'), ('sname', 'Obalky knih.cz')]\n",
      "[('p', 'http://www.wikidata.org/prop/direct/P1343'), ('pname', 'described by source'), ('s', 'http://www.wikidata.org/entity/Q67311526'), ('sname', 'Obalky knih.cz')]\n",
      "[('p', 'http://www.wikidata.org/prop/direct/P136'), ('pname', 'genre'), ('s', 'http://www.wikidata.org/entity/Q676'), ('sname', 'prose')]\n",
      "[('p', 'http://www.wikidata.org/prop/direct/P140'), ('pname', 'religion'), ('s', 'http://www.wikidata.org/entity/Q7066'), ('sname', 'atheism')]\n",
      "[('p', 'http://www.wikidata.org/prop/direct/P7763'), ('pname', 'copyright status as a creator'), ('s', 'http://www.wikidata.org/entity/Q73555012'), ('sname', 'works protected by copyrights')]\n",
      "[('p', 'http://www.wikidata.org/prop/direct/P101'), ('pname', 'field of work'), ('s', 'http://www.wikidata.org/entity/Q8242'), ('sname', 'literature')]\n",
      "[('p', 'http://www.wikidata.org/prop/direct/P166'), ('pname', 'award received'), ('s', 'http://www.wikidata.org/entity/Q15271633'), ('sname', 'Fellow of the Royal Society of Arts')]\n",
      "[('p', 'http://www.wikidata.org/prop/direct/P108'), ('pname', 'employer'), ('s', 'http://www.wikidata.org/entity/Q193196'), ('sname', 'University College London')]\n",
      "[('p', 'http://www.wikidata.org/prop/direct/P463'), ('pname', 'member of'), ('s', 'http://www.wikidata.org/entity/Q40358'), ('sname', 'American Association for the Advancement of Science')]\n",
      "[('p', 'http://www.wikidata.org/prop/direct/P485'), ('pname', 'archives at'), ('s', 'http://www.wikidata.org/entity/Q5671855'), ('sname', 'Harry Ransom Center')]\n",
      "[('p', 'http://www.wikidata.org/prop/direct/P737'), ('pname', 'influenced by'), ('s', 'http://www.wikidata.org/entity/Q105756'), ('sname', 'John Updike')]\n",
      "[('p', 'http://www.wikidata.org/prop/direct/P6104'), ('pname', 'maintained by WikiProject'), ('s', 'http://www.wikidata.org/entity/Q101246526'), ('sname', 'Iedereen Leest')]\n",
      "[('p', 'http://www.wikidata.org/prop/direct/P166'), ('pname', 'award received'), ('s', 'http://www.wikidata.org/entity/Q1188661'), ('sname', 'PEN/Faulkner Award for Fiction')]\n",
      "[('p', 'http://www.wikidata.org/prop/direct/P1411'), ('pname', 'nominated for'), ('s', 'http://www.wikidata.org/entity/Q160082'), ('sname', 'Booker Prize')]\n",
      "[('p', 'http://www.wikidata.org/prop/direct/P166'), ('pname', 'award received'), ('s', 'http://www.wikidata.org/entity/Q160082'), ('sname', 'Booker Prize')]\n",
      "[('p', 'http://www.wikidata.org/prop/direct/P166'), ('pname', 'award received'), ('s', 'http://www.wikidata.org/entity/Q3405076'), ('sname', 'Prix Médicis for foreign literature')]\n",
      "[('p', 'http://www.wikidata.org/prop/direct/P166'), ('pname', 'award received'), ('s', 'http://www.wikidata.org/entity/Q392586'), ('sname', 'James Tait Black Memorial Prize')]\n",
      "[('p', 'http://www.wikidata.org/prop/direct/P1343'), ('pname', 'described by source'), ('s', 'http://www.wikidata.org/entity/Q41981607'), ('sname', 'Iedereen Leest')]\n",
      "[('p', 'http://www.wikidata.org/prop/direct/P172'), ('pname', 'ethnic group'), ('s', 'http://www.wikidata.org/entity/Q42406'), ('sname', 'English people')]\n",
      "[('p', 'http://www.wikidata.org/prop/direct/P463'), ('pname', 'member of'), ('s', 'http://www.wikidata.org/entity/Q463281'), ('sname', 'American Academy of Arts and Letters')]\n",
      "[('p', 'http://www.wikidata.org/prop/direct/P166'), ('pname', 'award received'), ('s', 'http://www.wikidata.org/entity/Q5709276'), ('sname', 'Helmerich Award')]\n",
      "[('p', 'http://www.wikidata.org/prop/direct/P166'), ('pname', 'award received'), ('s', 'http://www.wikidata.org/entity/Q3404580'), ('sname', 'Prix Femina étranger')]\n",
      "[('p', 'http://www.wikidata.org/prop/direct/P737'), ('pname', 'influenced by'), ('s', 'http://www.wikidata.org/entity/Q40909'), ('sname', 'Virginia Woolf')]\n",
      "[('p', 'http://www.wikidata.org/prop/direct/P69'), ('pname', 'educated at'), ('s', 'http://www.wikidata.org/entity/Q5149722'), ('sname', 'Columbia High School')]\n",
      "[('p', 'http://www.wikidata.org/prop/direct/P737'), ('pname', 'influenced by'), ('s', 'http://www.wikidata.org/entity/Q905'), ('sname', 'Franz Kafka')]\n",
      "[('p', 'http://www.wikidata.org/prop/direct/P800'), ('pname', 'notable work'), ('s', 'http://www.wikidata.org/entity/Q1817920'), ('sname', 'Man in the Dark')]\n",
      "[('p', 'http://www.wikidata.org/prop/direct/P7084'), ('pname', 'related category'), ('s', 'http://www.wikidata.org/entity/Q7510954'), ('sname', 'Category:Films directed by Paul Auster')]\n",
      "[('p', 'http://www.wikidata.org/prop/direct/P737'), ('pname', 'influenced by'), ('s', 'http://www.wikidata.org/entity/Q83059'), ('sname', 'Saul Bellow')]\n",
      "[('p', 'http://www.wikidata.org/prop/direct/P1411'), ('pname', 'nominated for'), ('s', 'http://www.wikidata.org/entity/Q1362723'), ('sname', 'International IMPAC Dublin Literary Award')]\n",
      "[('p', 'http://www.wikidata.org/prop/direct/P166'), ('pname', 'award received'), ('s', 'http://www.wikidata.org/entity/Q4936657'), ('sname', 'Bodley Medal')]\n",
      "[('p', 'http://www.wikidata.org/prop/direct/P166'), ('pname', 'award received'), ('s', 'http://www.wikidata.org/entity/Q50622024'), ('sname', 'honorary doctorate of Carlos III University')]\n",
      "[('p', 'http://www.wikidata.org/prop/direct/P26'), ('pname', 'spouse'), ('s', 'http://www.wikidata.org/entity/Q259543'), ('sname', 'Siri Hustvedt')]\n",
      "[('p', 'http://www.wikidata.org/prop/direct/P800'), ('pname', 'notable work'), ('s', 'http://www.wikidata.org/entity/Q1215203'), ('sname', 'The New York Trilogy')]\n",
      "[('p', 'http://www.wikidata.org/prop/direct/P166'), ('pname', 'award received'), ('s', 'http://www.wikidata.org/entity/Q891461'), ('sname', 'Bollinger Everyman Wodehouse Prize')]\n",
      "[('p', 'http://www.wikidata.org/prop/direct/P1411'), ('pname', 'nominated for'), ('s', 'http://www.wikidata.org/entity/Q2052291'), ('sname', 'International Booker Prize')]\n",
      "[('p', 'http://www.wikidata.org/prop/direct/P26'), ('pname', 'spouse'), ('s', 'http://www.wikidata.org/entity/Q3243784'), ('sname', 'Annalena McAfee')]\n",
      "[('p', 'http://www.wikidata.org/prop/direct/P910'), ('pname', \"topic's main category\"), ('s', 'http://www.wikidata.org/entity/Q8718676'), ('sname', 'Category:Paul Auster')]\n",
      "[('p', 'http://www.wikidata.org/prop/direct/P734'), ('pname', 'family name'), ('s', 'http://www.wikidata.org/entity/Q16479919'), ('sname', 'Auster')]\n",
      "[('p', 'http://www.wikidata.org/prop/direct/P800'), ('pname', 'notable work'), ('s', 'http://www.wikidata.org/entity/Q306619'), ('sname', 'Atonement')]\n",
      "[('p', 'http://www.wikidata.org/prop/direct/P800'), ('pname', 'notable work'), ('s', 'http://www.wikidata.org/entity/Q1821899'), ('sname', 'Leviathan')]\n",
      "[('p', 'http://www.wikidata.org/prop/direct/P166'), ('pname', 'award received'), ('s', 'http://www.wikidata.org/entity/Q7462809'), ('sname', 'Shakespeare Prize')]\n",
      "[('p', 'http://www.wikidata.org/prop/direct/P910'), ('pname', \"topic's main category\"), ('s', 'http://www.wikidata.org/entity/Q15831559'), ('sname', 'Category:Ian McEwan')]\n",
      "[('p', 'http://www.wikidata.org/prop/direct/P800'), ('pname', 'notable work'), ('s', 'http://www.wikidata.org/entity/Q1198186'), ('sname', 'The Cement Garden')]\n",
      "[('p', 'http://www.wikidata.org/prop/direct/P69'), ('pname', 'educated at'), ('s', 'http://www.wikidata.org/entity/Q16903654'), ('sname', 'Woolverstone Hall School')]\n",
      "[('p', 'http://www.wikidata.org/prop/direct/P40'), ('pname', 'child'), ('s', 'http://www.wikidata.org/entity/Q445905'), ('sname', 'Sophie Auster')]\n"
     ]
    },
    {
     "data": {
      "text/plain": [
       "98"
      ]
     },
     "execution_count": 21,
     "metadata": {},
     "output_type": "execute_result"
    }
   ],
   "source": [
    "  queryString = \"\"\"\n",
    "SELECT ?p ?pname ?s ?sname WHERE { \n",
    "        ?a ?p ?s .\n",
    "        \n",
    "    # this returns the labels\n",
    "    ?p <http://schema.org/name> ?pname .\n",
    "    ?s <http://schema.org/name> ?sname .\n",
    "    \n",
    "    FILTER ((?a = wd:Q214642) || (?a = wd:Q190379)) .\n",
    "} \n",
    "\"\"\"\n",
    "\n",
    "print(\"Results\")\n",
    "run_query(queryString)"
   ]
  },
  {
   "cell_type": "markdown",
   "id": "32162916-a3d0-419f-aa0c-663e9db4f870",
   "metadata": {},
   "source": [
    "P166 is what I am searching for"
   ]
  },
  {
   "cell_type": "code",
   "execution_count": 33,
   "id": "600dab16-b2c4-426f-aa23-b27132f391b0",
   "metadata": {},
   "outputs": [
    {
     "name": "stdout",
     "output_type": "stream",
     "text": [
      "Results\n",
      "[('prizes', '5'), ('aname', 'Paul Auster')]\n",
      "[('prizes', '15'), ('aname', 'Ian McEwan')]\n"
     ]
    },
    {
     "data": {
      "text/plain": [
       "2"
      ]
     },
     "execution_count": 33,
     "metadata": {},
     "output_type": "execute_result"
    }
   ],
   "source": [
    "  queryString = \"\"\"\n",
    "SELECT (COUNT (?o) as ?prizes) ?aname WHERE { \n",
    "        ?a wdt:P166 ?o .\n",
    "        \n",
    "        # this returns the labels\n",
    "    ?a <http://schema.org/name> ?aname .\n",
    "    \n",
    "    FILTER ((?a = wd:Q214642) || (?a = wd:Q190379)) .\n",
    "} \n",
    "GROUP BY ?aname\n",
    "\"\"\"\n",
    "\n",
    "print(\"Results\")\n",
    "run_query(queryString)"
   ]
  },
  {
   "cell_type": "markdown",
   "id": "8ea0d0d6-b66c-4dea-abb1-47783f486131",
   "metadata": {},
   "source": [
    "Have they ever being nominated for a Nobel award?"
   ]
  },
  {
   "cell_type": "markdown",
   "id": "80ed3b6f-a209-44dd-9fa3-b3e603a8607a",
   "metadata": {},
   "source": [
    "I need to use P1411"
   ]
  },
  {
   "cell_type": "code",
   "execution_count": 35,
   "id": "5cedf4e1-e1fd-4db1-a92e-6892b33d4ea9",
   "metadata": {},
   "outputs": [
    {
     "name": "stdout",
     "output_type": "stream",
     "text": [
      "Results\n",
      "[('o', 'http://www.wikidata.org/entity/Q160082'), ('oname', 'Booker Prize')]\n",
      "[('o', 'http://www.wikidata.org/entity/Q2052291'), ('oname', 'International Booker Prize')]\n",
      "[('o', 'http://www.wikidata.org/entity/Q1362723'), ('oname', 'International IMPAC Dublin Literary Award')]\n",
      "[('o', 'http://www.wikidata.org/entity/Q628637'), ('oname', \"European Film Award – People's Choice Award for Best European Film\")]\n"
     ]
    },
    {
     "data": {
      "text/plain": [
       "4"
      ]
     },
     "execution_count": 35,
     "metadata": {},
     "output_type": "execute_result"
    }
   ],
   "source": [
    "  queryString = \"\"\"\n",
    "SELECT ?o ?oname WHERE { \n",
    "        ?a wdt:P1411 ?o .\n",
    "        \n",
    "        # this returns the labels\n",
    "    ?o <http://schema.org/name> ?oname .\n",
    "    \n",
    "    FILTER ((?a = wd:Q214642) || (?a = wd:Q190379)) .\n",
    "} \n",
    "GROUP BY ?aname\n",
    "\"\"\"\n",
    "\n",
    "print(\"Results\")\n",
    "run_query(queryString)"
   ]
  },
  {
   "cell_type": "markdown",
   "id": "e58a3611-aa88-4cca-b5ea-8be8fdb29685",
   "metadata": {},
   "source": [
    "No, neither."
   ]
  }
 ],
 "metadata": {
  "kernelspec": {
   "display_name": "Python 3",
   "language": "python",
   "name": "python3"
  },
  "language_info": {
   "codemirror_mode": {
    "name": "ipython",
    "version": 3
   },
   "file_extension": ".py",
   "mimetype": "text/x-python",
   "name": "python",
   "nbconvert_exporter": "python",
   "pygments_lexer": "ipython3",
   "version": "3.7.10"
  }
 },
 "nbformat": 4,
 "nbformat_minor": 5
}
