{
 "cells": [
  {
   "cell_type": "markdown",
   "id": "7034c3bf-6eb0-4418-8687-7b9d2a501103",
   "metadata": {},
   "source": [
    "# General instructions\n",
    "\n",
    "The goal of the project is to materialize a set of **exploratory workloads** over a real-world, large-scale,  open-domain KG: [WikiData](https://www.wikidata.org/wiki/Wikidata:Main_Page)\n",
    "\n",
    "An exploratory workload  is composed by a set of queries, where each query is related to the information obtained previously.\n",
    "\n",
    "An exploratory workload starts with a usually vague, open ended question, and does not assume the person issuing the workload has a clear understanding of the data contained in the target database or its structure.\n",
    "\n",
    "Remeber that:\n",
    "\n",
    "1. All the queries must run in the python notebook\n",
    "2. You can use classes and properties only if you find them via a SPARQL query that must be present in the notebook\n",
    "3. You do not delete useless queries. Keep everything that is synthatically valid \n",
    "\n",
    "```\n",
    "?p <http://schema.org/name> ?name .\n",
    "```\n",
    "    \n",
    "    is the BGP returning a human-readable name of a property or a class in Wikidata.\n",
    "    \n",
    "    "
   ]
  },
  {
   "cell_type": "code",
   "execution_count": 1,
   "id": "3605c9d5-5371-49a5-be8d-d66e8f417139",
   "metadata": {},
   "outputs": [],
   "source": [
    "## SETUP used later\n",
    "\n",
    "from SPARQLWrapper import SPARQLWrapper, JSON\n",
    "\n",
    "\n",
    "prefixString = \"\"\"\n",
    "##-NOTEBOOK_CODE_HERE-##\n",
    "PREFIX wd: <http://www.wikidata.org/entity/> \n",
    "PREFIX wdt: <http://www.wikidata.org/prop/direct/> \n",
    "PREFIX sc: <http://schema.org/>\n",
    "\"\"\"\n",
    "\n",
    "# select and construct queries\n",
    "def run_query(queryString):\n",
    "    to_run = prefixString + \"\\n\" + queryString\n",
    "\n",
    "    sparql = SPARQLWrapper(\"http://a256-gc1-02.srv.aau.dk:5820/sparql\")\n",
    "    sparql.setTimeout(300)\n",
    "    sparql.setReturnFormat(JSON)\n",
    "    sparql.setQuery(to_run)\n",
    "\n",
    "    try :\n",
    "       results = sparql.query()\n",
    "       json_results = results.convert()\n",
    "       if len(json_results['results']['bindings'])==0:\n",
    "          print(\"Empty\")\n",
    "          return 0\n",
    "    \n",
    "       for bindings in json_results['results']['bindings']:\n",
    "          print( [ (var, value['value'])  for var, value in bindings.items() ] )\n",
    "\n",
    "       return len(json_results['results']['bindings'])\n",
    "\n",
    "    except Exception as e :\n",
    "        print(\"The operation failed\", e)\n",
    "    \n",
    "# ASk queries\n",
    "def run_ask_query(queryString):\n",
    "    to_run = prefixString + \"\\n\" + queryString\n",
    "\n",
    "    sparql = SPARQLWrapper(\"http://a256-gc1-02.srv.aau.dk:5820/sparql\")\n",
    "    sparql.setTimeout(300)\n",
    "    sparql.setReturnFormat(JSON)\n",
    "    sparql.setQuery(to_run)\n",
    "\n",
    "    try :\n",
    "        return sparql.query().convert()\n",
    "\n",
    "    except Exception as e :\n",
    "        print(\"The operation failed\", e)"
   ]
  },
  {
   "cell_type": "markdown",
   "id": "d477a59c-a68c-4c8f-9f97-8ca5294d7d27",
   "metadata": {},
   "source": [
    "# Book Workflow Series (\"Nobel laureates explorative search\") \n",
    "\n",
    "\n",
    "Consider the following exploratory scenario:\n",
    "\n",
    ">  Investigate the authors who won the Nobel award for literature and get information about the nationality of the winners and analyse their literary production\n",
    "\n",
    "\n",
    "\n",
    "## Useful URIs for the current workflow\n",
    "The following are given:\n",
    "\n",
    "| IRI           | Description   | Role      |\n",
    "| -----------   | -----------   |-----------|\n",
    "| `wdt:P1647`   | subproperty   | predicate |\n",
    "| `wdt:P31`     | instance of   | predicate |\n",
    "| `wdt:P106`    | profession    | predicate | \n",
    "| `wdt:P279`    | subclass      | predicate |\n",
    "| `wdt:P17`     | country       | predicate |\n",
    "| `wdt:P27`     | citizenship   | predicate |\n",
    "| `wd:Q37922`   | Nobel Prize in Literature     | node |\n",
    "| `wd:Q36180`   | writer        | node |\n",
    "| `wd:Q38`      | Italy         | node |\n",
    "| `wd:Q3624078` | Sovereign state  | node |\n",
    "| `wd:Q213678`  | Vatican Library  | node |\n",
    "\n",
    "\n",
    "Also consider\n",
    "\n",
    "```\n",
    "?p wdt:P27 wd:Q38  . \n",
    "?p wdt:P106/wdt:P279* wd:Q36180  . \n",
    "```\n",
    "\n",
    "is the BGP to retrieve all **italian authors**\n",
    "\n",
    "The workload should\n",
    "\n",
    "\n",
    "1. Identify the BGP for obtaining the nobel laureates and the nominees with their relevant attributes\n",
    "\n",
    "2. Get the number of Italian, French and Iranian winners and check which nation won more awards in the last twenty years.\n",
    "\n",
    "3. Determine how many Literature nobel laureates have the following contries: Italy, Germany, France, Romania, Denmark, Iran, and China\n",
    "\n",
    "4. How many Literature Nobel award winners have a PhD (aka Doctorate of Philosophy) (you may check if they have a doctoral advisor)?\n",
    "\n",
    "5. Are there books from Litarature Nobel Award winners which are not present in the Vatican Library? (if so, who is the author with more books not in the Vatical Library)?"
   ]
  },
  {
   "cell_type": "code",
   "execution_count": 2,
   "id": "24a853ab-830c-422c-afd3-e9e015b8b8ed",
   "metadata": {},
   "outputs": [],
   "source": [
    "# start your workflow here"
   ]
  },
  {
   "cell_type": "code",
   "execution_count": 3,
   "id": "ade01416-92e7-4ad7-b9a9-b8fb330750dc",
   "metadata": {},
   "outputs": [
    {
     "name": "stdout",
     "output_type": "stream",
     "text": [
      "Results\n",
      "[('callret-0', '34')]\n"
     ]
    },
    {
     "data": {
      "text/plain": [
       "1"
      ]
     },
     "execution_count": 3,
     "metadata": {},
     "output_type": "execute_result"
    }
   ],
   "source": [
    "queryString = \"\"\"\n",
    "SELECT COUNT( ?p)\n",
    "WHERE { \n",
    "#?p wdt:P27 wd:Q38  . \n",
    "?p wdt:P279 wd:Q482980   . \n",
    "\n",
    "} \n",
    "\"\"\"\n",
    "\n",
    "print(\"Results\")\n",
    "run_query(queryString)"
   ]
  },
  {
   "cell_type": "markdown",
   "id": "12757bc0-426d-4857-974b-d280ce4b4e77",
   "metadata": {},
   "source": [
    "# Workload 1"
   ]
  },
  {
   "cell_type": "code",
   "execution_count": 123,
   "id": "87c5f18a-e61c-4022-97c6-3ba84d8264f7",
   "metadata": {},
   "outputs": [],
   "source": [
    "# 1. Identify the BGP for obtaining the nobel laureates and the nominees with their relevant attributes"
   ]
  },
  {
   "cell_type": "code",
   "execution_count": 124,
   "id": "817bcdeb-ea3b-43a8-a49d-ad8ec493271d",
   "metadata": {},
   "outputs": [],
   "source": [
    "# To find all the nobel laureates and the nominees we find the node for the Nobel Prize (to analyze it) starting \n",
    "# from the node \"Noble Prize in Literature\""
   ]
  },
  {
   "cell_type": "code",
   "execution_count": 125,
   "id": "06e445f2-c2ad-4de4-8841-7275ab3d860f",
   "metadata": {},
   "outputs": [
    {
     "name": "stdout",
     "output_type": "stream",
     "text": [
      "Results\n",
      "[('p', 'http://www.wikidata.org/entity/Q7191'), ('pname', 'Nobel Prize')]\n"
     ]
    },
    {
     "data": {
      "text/plain": [
       "1"
      ]
     },
     "execution_count": 125,
     "metadata": {},
     "output_type": "execute_result"
    }
   ],
   "source": [
    "queryString = \"\"\"\n",
    "SELECT ?p ?pname\n",
    "WHERE { \n",
    " \n",
    " wd:Q37922  wdt:P279 ?p   . \n",
    "\n",
    "# this returns the labels\n",
    "    ?p <http://schema.org/name> ?pname .\n",
    "} \n",
    "LIMIT 50\n",
    "\"\"\"\n",
    "\n",
    "print(\"Results\")\n",
    "run_query(queryString)"
   ]
  },
  {
   "cell_type": "code",
   "execution_count": 126,
   "id": "05e9be8c-1a43-4818-a129-072e2b95a834",
   "metadata": {},
   "outputs": [],
   "source": [
    "# Get wd:Q7191 --> 'Nobel Prize'"
   ]
  },
  {
   "cell_type": "code",
   "execution_count": 127,
   "id": "cb2eae01-2946-4b86-b6f8-8690cbcb9b49",
   "metadata": {},
   "outputs": [],
   "source": [
    "# Find list of Nobel Prize existing"
   ]
  },
  {
   "cell_type": "code",
   "execution_count": 128,
   "id": "4650c468-5e7a-49f8-8900-f15df5a3ce3b",
   "metadata": {},
   "outputs": [
    {
     "name": "stdout",
     "output_type": "stream",
     "text": [
      "Results\n",
      "[('s', 'http://www.wikidata.org/entity/Q35637'), ('sname', 'Nobel Peace Prize')]\n",
      "[('s', 'http://www.wikidata.org/entity/Q37922'), ('sname', 'Nobel Prize in Literature')]\n",
      "[('s', 'http://www.wikidata.org/entity/Q38104'), ('sname', 'Nobel Prize in Physics')]\n",
      "[('s', 'http://www.wikidata.org/entity/Q44585'), ('sname', 'Nobel Prize in Chemistry')]\n",
      "[('s', 'http://www.wikidata.org/entity/Q47170'), ('sname', 'Prize in Economic Sciences in Memory of Alfred Nobel')]\n",
      "[('s', 'http://www.wikidata.org/entity/Q80061'), ('sname', 'Nobel Prize in Physiology or Medicine')]\n"
     ]
    },
    {
     "data": {
      "text/plain": [
       "6"
      ]
     },
     "execution_count": 128,
     "metadata": {},
     "output_type": "execute_result"
    }
   ],
   "source": [
    "queryString = \"\"\"\n",
    "SELECT DISTINCT ?s ?sname\n",
    "WHERE { \n",
    " \n",
    " ?s wdt:P279  wd:Q7191 . \n",
    "\n",
    "# this returns the labels\n",
    "   ?s <http://schema.org/name> ?sname .\n",
    "   \n",
    "} \n",
    "LIMIT 50\n",
    "\"\"\"\n",
    "\n",
    "print(\"Results\")\n",
    "run_query(queryString)"
   ]
  },
  {
   "cell_type": "code",
   "execution_count": 129,
   "id": "46967cfb-9512-4a4f-882a-cb60fd4c7ce1",
   "metadata": {},
   "outputs": [
    {
     "name": "stdout",
     "output_type": "stream",
     "text": [
      "Results\n",
      "[('p', 'http://www.wikidata.org/prop/direct/P1423'), ('pname', 'template has topic')]\n",
      "[('p', 'http://www.wikidata.org/prop/direct/P1269'), ('pname', 'facet of')]\n",
      "[('p', 'http://www.wikidata.org/prop/direct/P1411'), ('pname', 'nominated for')]\n",
      "[('p', 'http://www.wikidata.org/prop/direct/P279'), ('pname', 'subclass of')]\n",
      "[('p', 'http://www.wikidata.org/prop/direct/P2959'), ('pname', 'permanent duplicated item')]\n",
      "[('p', 'http://www.wikidata.org/prop/direct/P301'), ('pname', \"category's main topic\")]\n",
      "[('p', 'http://www.wikidata.org/prop/direct/P31'), ('pname', 'instance of')]\n",
      "[('p', 'http://www.wikidata.org/prop/direct/P360'), ('pname', 'is a list of')]\n",
      "[('p', 'http://www.wikidata.org/prop/direct/P361'), ('pname', 'part of')]\n",
      "[('p', 'http://www.wikidata.org/prop/direct/P800'), ('pname', 'notable work')]\n",
      "[('p', 'http://www.wikidata.org/prop/direct/P921'), ('pname', 'main subject')]\n",
      "[('p', 'http://www.wikidata.org/prop/direct/P971'), ('pname', 'category combines topics')]\n",
      "[('p', 'http://www.wikidata.org/prop/direct/P1204'), ('pname', \"Wikimedia portal's main topic\")]\n",
      "[('p', 'http://www.wikidata.org/prop/direct/P1855'), ('pname', 'Wikidata property example')]\n"
     ]
    },
    {
     "data": {
      "text/plain": [
       "14"
      ]
     },
     "execution_count": 129,
     "metadata": {},
     "output_type": "execute_result"
    }
   ],
   "source": [
    "queryString = \"\"\"\n",
    "SELECT DISTINCT ?p ?pname\n",
    "WHERE { \n",
    " \n",
    " ?s ?p  wd:Q7191 . \n",
    "\n",
    "# this returns the labels\n",
    "   ?p <http://schema.org/name> ?pname .\n",
    "   \n",
    "} \n",
    "LIMIT 50\n",
    "\"\"\"\n",
    "\n",
    "print(\"Results\")\n",
    "run_query(queryString)"
   ]
  },
  {
   "cell_type": "code",
   "execution_count": 130,
   "id": "6d760233-0003-4029-a5be-feda1b0024a6",
   "metadata": {},
   "outputs": [],
   "source": [
    "# Return on 'Noble Prize in Literature' we analiyze it to find interesting property"
   ]
  },
  {
   "cell_type": "code",
   "execution_count": 131,
   "id": "c5fd6fd9-a5d2-45b1-bbea-14a7a174e193",
   "metadata": {},
   "outputs": [
    {
     "name": "stdout",
     "output_type": "stream",
     "text": [
      "Results\n",
      "[('p', 'http://www.wikidata.org/prop/direct/P1411'), ('pname', 'nominated for')]\n",
      "[('p', 'http://www.wikidata.org/prop/direct/P166'), ('pname', 'award received')]\n",
      "[('p', 'http://www.wikidata.org/prop/direct/P179'), ('pname', 'part of the series')]\n",
      "[('p', 'http://www.wikidata.org/prop/direct/P301'), ('pname', \"category's main topic\")]\n",
      "[('p', 'http://www.wikidata.org/prop/direct/P31'), ('pname', 'instance of')]\n",
      "[('p', 'http://www.wikidata.org/prop/direct/P360'), ('pname', 'is a list of')]\n",
      "[('p', 'http://www.wikidata.org/prop/direct/P527'), ('pname', 'has part')]\n",
      "[('p', 'http://www.wikidata.org/prop/direct/P793'), ('pname', 'significant event')]\n",
      "[('p', 'http://www.wikidata.org/prop/direct/P921'), ('pname', 'main subject')]\n",
      "[('p', 'http://www.wikidata.org/prop/direct/P971'), ('pname', 'category combines topics')]\n"
     ]
    },
    {
     "data": {
      "text/plain": [
       "10"
      ]
     },
     "execution_count": 131,
     "metadata": {},
     "output_type": "execute_result"
    }
   ],
   "source": [
    "queryString = \"\"\"\n",
    "SELECT DISTINCT ?p ?pname\n",
    "WHERE { \n",
    " \n",
    " ?s ?p  wd:Q37922 . \n",
    "\n",
    "# this returns the labels\n",
    "   ?p <http://schema.org/name> ?pname .\n",
    "   \n",
    "} \n",
    "LIMIT 50\n",
    "\"\"\"\n",
    "\n",
    "print(\"Results\")\n",
    "run_query(queryString)"
   ]
  },
  {
   "cell_type": "code",
   "execution_count": 132,
   "id": "078a653e-6105-4ea1-9e89-febfc40cbadb",
   "metadata": {},
   "outputs": [],
   "source": [
    "# Get wdt:P1411 --> predicate 'nominated for' //// wdt:P166 --> predicate 'award received'"
   ]
  },
  {
   "cell_type": "code",
   "execution_count": 133,
   "id": "72a240a4-ea40-471a-a6e8-3f9f9f80c572",
   "metadata": {},
   "outputs": [],
   "source": [
    "# Find name - award received/nominated for - type of Noble  "
   ]
  },
  {
   "cell_type": "code",
   "execution_count": 134,
   "id": "02f112ff-93bd-4373-a87a-dfe9927b28fa",
   "metadata": {},
   "outputs": [
    {
     "name": "stdout",
     "output_type": "stream",
     "text": [
      "Results\n",
      "[('person', 'http://www.wikidata.org/entity/Q135640'), ('pn', 'Valery Larbaud'), ('ar', 'nominated for'), ('nameNoble', 'Nobel Prize in Literature')]\n",
      "[('person', 'http://www.wikidata.org/entity/Q335187'), ('pn', 'Edward Grey, 1st Viscount Grey of Fallodon'), ('ar', 'nominated for'), ('nameNoble', 'Nobel Peace Prize')]\n",
      "[('person', 'http://www.wikidata.org/entity/Q115448'), ('pn', 'Daniel Bovet'), ('ar', 'nominated for'), ('nameNoble', 'Nobel Prize in Physiology or Medicine')]\n",
      "[('person', 'http://www.wikidata.org/entity/Q16012577'), ('pn', 'Howard Cary'), ('ar', 'nominated for'), ('nameNoble', 'Nobel Prize in Chemistry')]\n",
      "[('person', 'http://www.wikidata.org/entity/Q2475967'), ('pn', 'Adrien Albert Marie de Mun'), ('ar', 'nominated for'), ('nameNoble', 'Nobel Prize in Literature')]\n",
      "[('person', 'http://www.wikidata.org/entity/Q216398'), ('pn', 'Alan Sillitoe'), ('ar', 'nominated for'), ('nameNoble', 'Nobel Prize in Literature')]\n",
      "[('person', 'http://www.wikidata.org/entity/Q164469'), ('pn', 'Pierre Emmanuel'), ('ar', 'nominated for'), ('nameNoble', 'Nobel Prize in Literature')]\n",
      "[('person', 'http://www.wikidata.org/entity/Q727717'), ('pn', 'Ramón Pérez de Ayala'), ('ar', 'nominated for'), ('nameNoble', 'Nobel Prize in Literature')]\n",
      "[('person', 'http://www.wikidata.org/entity/Q79055'), ('pn', 'Franz Theodor Csokor'), ('ar', 'nominated for'), ('nameNoble', 'Nobel Prize in Literature')]\n",
      "[('person', 'http://www.wikidata.org/entity/Q193009'), ('pn', 'Frank B. Kellogg'), ('ar', 'nominated for'), ('nameNoble', 'Nobel Peace Prize')]\n"
     ]
    },
    {
     "data": {
      "text/plain": [
       "10"
      ]
     },
     "execution_count": 134,
     "metadata": {},
     "output_type": "execute_result"
    }
   ],
   "source": [
    "queryString = \"\"\"\n",
    "SELECT ?person ?pn ?ar ?nameNoble\n",
    "WHERE { \n",
    " \n",
    "\n",
    "?person ?p ?noble . \n",
    "?noble  wdt:P279 wd:Q7191 .\n",
    "\n",
    "# this returns the labels\n",
    "   ?person <http://schema.org/name> ?pn .\n",
    "    ?p <http://schema.org/name> ?ar .\n",
    "    ?noble <http://schema.org/name> ?nameNoble .\n",
    "    \n",
    "    FILTER(?p = wdt:P166 || ?p = wdt:P1411 )\n",
    "} \n",
    "LIMIT 10\n",
    "\"\"\"\n",
    "\n",
    "print(\"Results\")\n",
    "run_query(queryString)"
   ]
  },
  {
   "cell_type": "code",
   "execution_count": null,
   "id": "1d1050dd-afa5-4ff5-8907-00cd2ef04d69",
   "metadata": {},
   "outputs": [],
   "source": [
    "# Get a person IRI random to find its relevant attributes\n",
    "# Get wd:Q57074 "
   ]
  },
  {
   "cell_type": "code",
   "execution_count": 149,
   "id": "1dcf1bd5-6bad-48fa-814c-9a1d063db4b3",
   "metadata": {},
   "outputs": [
    {
     "name": "stdout",
     "output_type": "stream",
     "text": [
      "Results\n",
      "[('p', 'http://www.wikidata.org/prop/direct/P1003'), ('pname', 'National Library of Romania ID')]\n",
      "[('p', 'http://www.wikidata.org/prop/direct/P1005'), ('pname', 'Portuguese National Library ID')]\n",
      "[('p', 'http://www.wikidata.org/prop/direct/P1006'), ('pname', 'Nationale Thesaurus voor Auteurs ID')]\n",
      "[('p', 'http://www.wikidata.org/prop/direct/P101'), ('pname', 'field of work')]\n",
      "[('p', 'http://www.wikidata.org/prop/direct/P1015'), ('pname', 'NORAF ID')]\n",
      "[('p', 'http://www.wikidata.org/prop/direct/P1017'), ('pname', 'Vatican Library ID (former scheme)')]\n",
      "[('p', 'http://www.wikidata.org/prop/direct/P106'), ('pname', 'occupation')]\n",
      "[('p', 'http://www.wikidata.org/prop/direct/P109'), ('pname', 'signature')]\n",
      "[('p', 'http://www.wikidata.org/prop/direct/P119'), ('pname', 'place of burial')]\n",
      "[('p', 'http://www.wikidata.org/prop/direct/P1207'), ('pname', 'NUKAT ID')]\n"
     ]
    },
    {
     "data": {
      "text/plain": [
       "10"
      ]
     },
     "execution_count": 149,
     "metadata": {},
     "output_type": "execute_result"
    }
   ],
   "source": [
    "queryString = \"\"\"\n",
    "SELECT DISTINCT ?p ?pname\n",
    "WHERE { \n",
    "wd:Q57074 ?p ?o. \n",
    "\n",
    "\n",
    "# this returns the labels\n",
    "    ?p <http://schema.org/name> ?pname .\n",
    "} \n",
    "LIMIT 10\n",
    "\"\"\"\n",
    "\n",
    "print(\"Results\")\n",
    "run_query(queryString)"
   ]
  },
  {
   "cell_type": "code",
   "execution_count": null,
   "id": "6e6c46fb-0950-47da-825f-a73c9b39c4c0",
   "metadata": {},
   "outputs": [],
   "source": [
    "# GET:\n",
    "# wdt:P27 --> Country\n",
    "# wdt:P569 --> date of birthday\n",
    "# wdt:P21 --> sex or gender\n",
    "# wdt:P106 --> occupation"
   ]
  },
  {
   "cell_type": "code",
   "execution_count": null,
   "id": "6ab35d43-4ffd-4c01-b984-4d0f6c121b10",
   "metadata": {},
   "outputs": [],
   "source": [
    "# Find all noble lauterates and nominees with their relevant attributes relevant"
   ]
  },
  {
   "cell_type": "code",
   "execution_count": 178,
   "id": "12fd298f-844d-4af6-8d91-816b5a2f1c1f",
   "metadata": {},
   "outputs": [
    {
     "name": "stdout",
     "output_type": "stream",
     "text": [
      "Results\n",
      "[('person', 'http://www.wikidata.org/entity/Q1385071'), ('pn', 'Robert Serber'), ('ar', 'nominated for'), ('nameNoble', 'Nobel Prize in Physics'), ('countryname', 'United States of America'), ('dateofbirthday', '1909-03-14T00:00:00Z'), ('sexorgender', 'male'), ('occupations', 'nuclear physicist, physicist, university teacher')]\n",
      "[('person', 'http://www.wikidata.org/entity/Q121372'), ('pn', 'Karl Friedrich Meyer'), ('ar', 'nominated for'), ('nameNoble', 'Nobel Prize in Physiology or Medicine'), ('countryname', 'United States of America'), ('dateofbirthday', '1884-05-19T00:00:00Z'), ('sexorgender', 'male'), ('occupations', 'pathologist, university teacher, veterinarian')]\n",
      "[('person', 'http://www.wikidata.org/entity/Q109721'), ('pn', 'Dale T. Mortensen'), ('ar', 'award received'), ('nameNoble', 'Prize in Economic Sciences in Memory of Alfred Nobel'), ('countryname', 'United States of America'), ('dateofbirthday', '1939-02-02T00:00:00Z'), ('sexorgender', 'male'), ('occupations', 'economist, professor, university teacher')]\n",
      "[('person', 'http://www.wikidata.org/entity/Q93356'), ('pn', 'Seamus Heaney'), ('ar', 'award received'), ('nameNoble', 'Nobel Prize in Literature'), ('countryname', 'Ireland'), ('dateofbirthday', '1939-04-13T00:00:00Z'), ('sexorgender', 'male'), ('occupations', 'actor, author, linguist, playwright, poet, translator, university teacher, writer')]\n",
      "[('person', 'http://www.wikidata.org/entity/Q1678456'), ('pn', 'Richard Henderson'), ('ar', 'award received'), ('nameNoble', 'Nobel Prize in Chemistry'), ('countryname', 'United Kingdom'), ('dateofbirthday', '1945-07-19T00:00:00Z'), ('sexorgender', 'male'), ('occupations', 'biochemist, chemist, molecular biologist')]\n",
      "[('person', 'http://www.wikidata.org/entity/Q191016'), ('pn', 'Fredrik Bajer'), ('ar', 'award received'), ('nameNoble', 'Nobel Peace Prize'), ('countryname', 'Denmark'), ('dateofbirthday', '1837-04-21T00:00:00Z'), ('sexorgender', 'male'), ('occupations', 'author, politician, teacher, writer')]\n",
      "[('person', 'http://www.wikidata.org/entity/Q89233'), ('pn', 'Elise Richter'), ('ar', 'nominated for'), ('nameNoble', 'Nobel Prize in Literature'), ('countryname', 'Austria'), ('dateofbirthday', '1865-03-02T00:00:00Z'), ('sexorgender', 'female'), ('occupations', 'literary critic, professor, romanist')]\n",
      "[('person', 'http://www.wikidata.org/entity/Q77072'), ('pn', 'Richard Willstätter'), ('ar', 'award received'), ('nameNoble', 'Nobel Prize in Chemistry'), ('countryname', 'Weimar Republic'), ('dateofbirthday', '1872-08-13T00:00:00Z'), ('sexorgender', 'male'), ('occupations', 'chemist, university teacher')]\n",
      "[('person', 'http://www.wikidata.org/entity/Q322520'), ('pn', 'Jean Schlumberger'), ('ar', 'nominated for'), ('nameNoble', 'Nobel Prize in Literature'), ('countryname', 'France'), ('dateofbirthday', '1877-05-26T00:00:00Z'), ('sexorgender', 'male'), ('occupations', 'biographer, journalist, poet, publisher, writer')]\n",
      "[('person', 'http://www.wikidata.org/entity/Q8023'), ('pn', 'Nelson Mandela'), ('ar', 'award received'), ('nameNoble', 'Nobel Peace Prize'), ('countryname', 'South Africa'), ('dateofbirthday', '1918-07-18T00:00:00Z'), ('sexorgender', 'male'), ('occupations', 'autobiographer, lawyer, political activist, political prisoner, politician')]\n"
     ]
    },
    {
     "data": {
      "text/plain": [
       "10"
      ]
     },
     "execution_count": 178,
     "metadata": {},
     "output_type": "execute_result"
    }
   ],
   "source": [
    "queryString = \"\"\"\n",
    "SELECT ?person ?pn ?ar ?nameNoble ?countryname ?dateofbirthday ?sexorgender (GROUP_CONCAT(DISTINCT ?occupation ; separator = \", \") AS ?occupations)\n",
    "WHERE { \n",
    " \n",
    "\n",
    "?person ?p ?noble .\n",
    "OPTIONAL { \n",
    "   ?person wdt:P27 ?country;\n",
    "           wdt:P569 ?dateofbirthday ;\n",
    "           wdt:P21 ?sog;\n",
    "           wdt:P106 ?oc }\n",
    "        .\n",
    "?noble  wdt:P279 wd:Q7191 .\n",
    "\n",
    "# this returns the labels\n",
    "   ?person <http://schema.org/name> ?pn .\n",
    "    ?p <http://schema.org/name> ?ar .\n",
    "    ?noble <http://schema.org/name> ?nameNoble .\n",
    "     ?country <http://schema.org/name> ?countryname .\n",
    "    ?sog <http://schema.org/name> ?sexorgender .\n",
    "    ?oc <http://schema.org/name> ?occupation .\n",
    "    FILTER(?p = wdt:P166 || ?p = wdt:P1411 ) \n",
    "    \n",
    "} \n",
    "LIMIT 10\n",
    "\"\"\"\n",
    "\n",
    "print(\"Results\")\n",
    "run_query(queryString)"
   ]
  },
  {
   "cell_type": "code",
   "execution_count": 1,
   "id": "1c9b852c-a46b-4d16-b6ac-a3bd1f016494",
   "metadata": {},
   "outputs": [],
   "source": [
    "###"
   ]
  },
  {
   "cell_type": "markdown",
   "id": "5733030b-e263-45a2-acb7-12a544a5f4ac",
   "metadata": {},
   "source": [
    "# Workload 2"
   ]
  },
  {
   "cell_type": "code",
   "execution_count": null,
   "id": "ab031769-95f8-4859-9076-0f7748bd95cc",
   "metadata": {},
   "outputs": [],
   "source": [
    "# 2. Get the number of Italian, French and Iranian winners and check which nation won more awards in the last twenty years."
   ]
  },
  {
   "cell_type": "code",
   "execution_count": null,
   "id": "5587db0c-65be-492c-beab-fdeb18fd336b",
   "metadata": {},
   "outputs": [],
   "source": [
    "# Find the IRI for France and Iran, starting from Italy IRI wd:Q38"
   ]
  },
  {
   "cell_type": "code",
   "execution_count": 152,
   "id": "03745ee4-dbf8-48f9-a988-bbbf8c1c61d6",
   "metadata": {},
   "outputs": [
    {
     "name": "stdout",
     "output_type": "stream",
     "text": [
      "Results\n",
      "[('p', 'http://www.wikidata.org/entity/Q3624078'), ('pname', 'sovereign state')]\n",
      "[('p', 'http://www.wikidata.org/entity/Q6256'), ('pname', 'country')]\n"
     ]
    },
    {
     "data": {
      "text/plain": [
       "2"
      ]
     },
     "execution_count": 152,
     "metadata": {},
     "output_type": "execute_result"
    }
   ],
   "source": [
    "queryString = \"\"\"\n",
    "SELECT ?p ?pname\n",
    "WHERE { \n",
    "\n",
    "wd:Q38 wdt:P31 ?p .\n",
    "\n",
    "# this returns the labels\n",
    "    ?p <http://schema.org/name> ?pname .\n",
    "} \n",
    "LIMIT 10\n",
    "\"\"\"\n",
    "\n",
    "print(\"Results\")\n",
    "run_query(queryString)"
   ]
  },
  {
   "cell_type": "code",
   "execution_count": null,
   "id": "127795c1-166d-4351-a233-3c075c056805",
   "metadata": {},
   "outputs": [],
   "source": [
    "# Get node 'sovereign state' --> wd:Q3624078 to find all the states (its instance of)"
   ]
  },
  {
   "cell_type": "code",
   "execution_count": 153,
   "id": "c1785883-7cb5-4adc-b77f-ef19709f56c8",
   "metadata": {},
   "outputs": [
    {
     "name": "stdout",
     "output_type": "stream",
     "text": [
      "Results\n",
      "[('s', 'http://www.wikidata.org/entity/Q756617'), ('state', 'Danish Realm')]\n",
      "[('s', 'http://www.wikidata.org/entity/Q786'), ('state', 'Dominican Republic')]\n",
      "[('s', 'http://www.wikidata.org/entity/Q30747910'), ('state', 'Islamic Republic of Afghanistan')]\n",
      "[('s', 'http://www.wikidata.org/entity/Q1000'), ('state', 'Gabon')]\n",
      "[('s', 'http://www.wikidata.org/entity/Q1005'), ('state', 'The Gambia')]\n",
      "[('s', 'http://www.wikidata.org/entity/Q1006'), ('state', 'Guinea')]\n",
      "[('s', 'http://www.wikidata.org/entity/Q1007'), ('state', 'Guinea-Bissau')]\n",
      "[('s', 'http://www.wikidata.org/entity/Q1008'), ('state', 'Ivory Coast')]\n",
      "[('s', 'http://www.wikidata.org/entity/Q1009'), ('state', 'Cameroon')]\n",
      "[('s', 'http://www.wikidata.org/entity/Q1011'), ('state', 'Cape Verde')]\n"
     ]
    },
    {
     "data": {
      "text/plain": [
       "10"
      ]
     },
     "execution_count": 153,
     "metadata": {},
     "output_type": "execute_result"
    }
   ],
   "source": [
    "queryString = \"\"\"\n",
    "SELECT ?s ?state\n",
    "WHERE { \n",
    "\n",
    "?s wdt:P31 wd:Q3624078 .\n",
    "\n",
    "# this returns the labels\n",
    "    ?s <http://schema.org/name> ?state .\n",
    "} \n",
    "LIMIT 10\n",
    "\"\"\"\n",
    "\n",
    "print(\"Results\")\n",
    "run_query(queryString)"
   ]
  },
  {
   "cell_type": "code",
   "execution_count": null,
   "id": "ab4060c8-9706-4bb5-bef8-6d661f949376",
   "metadata": {},
   "outputs": [],
   "source": [
    "# Look for France and Iran"
   ]
  },
  {
   "cell_type": "code",
   "execution_count": 154,
   "id": "f36f9ec4-7071-4cd8-8d0a-8f09bee069b8",
   "metadata": {},
   "outputs": [
    {
     "name": "stdout",
     "output_type": "stream",
     "text": [
      "Results\n",
      "[('s', 'http://www.wikidata.org/entity/Q142'), ('state', 'France')]\n",
      "[('s', 'http://www.wikidata.org/entity/Q794'), ('state', 'Iran')]\n",
      "[('s', 'http://www.wikidata.org/entity/Q4689103'), ('state', 'Transitional Islamic State of Afghanistan')]\n"
     ]
    },
    {
     "data": {
      "text/plain": [
       "3"
      ]
     },
     "execution_count": 154,
     "metadata": {},
     "output_type": "execute_result"
    }
   ],
   "source": [
    "queryString = \"\"\"\n",
    "SELECT ?s ?state\n",
    "WHERE { \n",
    "\n",
    "?s wdt:P31 wd:Q3624078 .\n",
    "\n",
    "# this returns the labels\n",
    "    ?s <http://schema.org/name> ?state .\n",
    "    \n",
    "    FILTER (REGEX(?state, \"rance\") || REGEX(?state, \"ran\"))\n",
    "} \n",
    "LIMIT 10\n",
    "\"\"\"\n",
    "\n",
    "print(\"Results\")\n",
    "run_query(queryString)"
   ]
  },
  {
   "cell_type": "code",
   "execution_count": null,
   "id": "0382f446-fb27-46f8-a122-35ce3e22a5ad",
   "metadata": {},
   "outputs": [],
   "source": [
    "# Get node 'France' --> wd:Q142\n",
    "# Get node 'Iran' --> wd:Q794"
   ]
  },
  {
   "cell_type": "code",
   "execution_count": null,
   "id": "03bc83a3-69bd-4fd0-8d4a-d24b12c26451",
   "metadata": {},
   "outputs": [],
   "source": [
    "# To find all the Noble winners we use the predicate found above 'award received' --> wdt:P166\n",
    "# Try for italian winners"
   ]
  },
  {
   "cell_type": "code",
   "execution_count": 229,
   "id": "22b42eb9-85ff-4c62-9451-3bf99230a199",
   "metadata": {},
   "outputs": [
    {
     "name": "stdout",
     "output_type": "stream",
     "text": [
      "Results\n",
      "[('winner', 'http://www.wikidata.org/entity/Q115448'), ('winnername', 'Daniel Bovet'), ('ar', 'award received'), ('noblename', 'Nobel Prize in Physiology or Medicine'), ('countryname', 'Italy')]\n",
      "[('winner', 'http://www.wikidata.org/entity/Q109553'), ('winnername', 'Renato Dulbecco'), ('ar', 'award received'), ('noblename', 'Nobel Prize in Physiology or Medicine'), ('countryname', 'Italy')]\n",
      "[('winner', 'http://www.wikidata.org/entity/Q186481'), ('winnername', 'Riccardo Giacconi'), ('ar', 'award received'), ('noblename', 'Nobel Prize in Physics'), ('countryname', 'Italy')]\n",
      "[('winner', 'http://www.wikidata.org/entity/Q173028'), ('winnername', 'Emilio G. Segrè'), ('ar', 'award received'), ('noblename', 'Nobel Prize in Physics'), ('countryname', 'Italy')]\n",
      "[('winner', 'http://www.wikidata.org/entity/Q234145'), ('winnername', 'Giulio Natta'), ('ar', 'award received'), ('noblename', 'Nobel Prize in Chemistry'), ('countryname', 'Italy')]\n",
      "[('winner', 'http://www.wikidata.org/entity/Q8753'), ('winnername', 'Enrico Fermi'), ('ar', 'award received'), ('noblename', 'Nobel Prize in Physics'), ('countryname', 'Italy')]\n",
      "[('winner', 'http://www.wikidata.org/entity/Q765'), ('winnername', 'Dario Fo'), ('ar', 'award received'), ('noblename', 'Nobel Prize in Literature'), ('countryname', 'Italy')]\n",
      "[('winner', 'http://www.wikidata.org/entity/Q83038'), ('winnername', 'Salvatore Quasimodo'), ('ar', 'award received'), ('noblename', 'Nobel Prize in Literature'), ('countryname', 'Italy')]\n",
      "[('winner', 'http://www.wikidata.org/entity/Q185007'), ('winnername', 'Rita Levi-Montalcini'), ('ar', 'award received'), ('noblename', 'Nobel Prize in Physiology or Medicine'), ('countryname', 'Italy')]\n",
      "[('winner', 'http://www.wikidata.org/entity/Q83174'), ('winnername', 'Eugenio Montale'), ('ar', 'award received'), ('noblename', 'Nobel Prize in Literature'), ('countryname', 'Italy')]\n",
      "[('winner', 'http://www.wikidata.org/entity/Q205850'), ('winnername', 'Franco Modigliani'), ('ar', 'award received'), ('noblename', 'Prize in Economic Sciences in Memory of Alfred Nobel'), ('countryname', 'Italy')]\n",
      "[('winner', 'http://www.wikidata.org/entity/Q187199'), ('winnername', 'Carlo Rubbia'), ('ar', 'award received'), ('noblename', 'Nobel Prize in Physics'), ('countryname', 'Italy')]\n",
      "[('winner', 'http://www.wikidata.org/entity/Q205667'), ('winnername', 'Salvador Luria'), ('ar', 'award received'), ('noblename', 'Nobel Prize in Physiology or Medicine'), ('countryname', 'Italy')]\n"
     ]
    },
    {
     "data": {
      "text/plain": [
       "13"
      ]
     },
     "execution_count": 229,
     "metadata": {},
     "output_type": "execute_result"
    }
   ],
   "source": [
    "queryString = \"\"\"\n",
    "SELECT ?winner ?winnername ?ar ?noblename ?countryname\n",
    "WHERE { \n",
    "\n",
    "    ?winner wdt:P27 wd:Q38 .\n",
    "    ?winner wdt:P166 ?noble .\n",
    "    ?noble  wdt:P279 wd:Q7191 . \n",
    "\n",
    "\n",
    "# this returns the labels\n",
    "    ?winner <http://schema.org/name> ?winnername .\n",
    "    wdt:P166 <http://schema.org/name> ?ar .\n",
    "    ?noble <http://schema.org/name> ?noblename .\n",
    "    wd:Q38 <http://schema.org/name> ?countryname .\n",
    "} \n",
    "LIMIT 100\n",
    "\"\"\"\n",
    "\n",
    "print(\"Results\")\n",
    "run_query(queryString)"
   ]
  },
  {
   "cell_type": "code",
   "execution_count": null,
   "id": "0fbe207d-4eb8-458f-9d78-c12fd3b3542f",
   "metadata": {},
   "outputs": [],
   "source": [
    "# Find the numbers of italian, french and iranian winners"
   ]
  },
  {
   "cell_type": "code",
   "execution_count": 234,
   "id": "dc36f9f5-3de5-41ca-ad2c-5fe99c6cebce",
   "metadata": {},
   "outputs": [
    {
     "name": "stdout",
     "output_type": "stream",
     "text": [
      "Results\n",
      "[('italianwinners', '13'), ('frenchwinners', '71'), ('iranianwinners', '1')]\n"
     ]
    },
    {
     "data": {
      "text/plain": [
       "1"
      ]
     },
     "execution_count": 234,
     "metadata": {},
     "output_type": "execute_result"
    }
   ],
   "source": [
    "queryString = \"\"\"\n",
    "SELECT DISTINCT ?italianwinners ?frenchwinners ?iranianwinners\n",
    "WHERE { \n",
    "\n",
    "    \n",
    "{\n",
    "    select distinct (COUNT(?winner) AS ?italianwinners) {\n",
    "    ?winner wdt:P27 wd:Q38 .\n",
    "    ?winner wdt:P166 ?noble .\n",
    "    ?noble  wdt:P279 wd:Q7191 . \n",
    "    }\n",
    "}\n",
    "\n",
    "{\n",
    "    select distinct (COUNT(?winner) AS ?frenchwinners) {\n",
    "    ?winner wdt:P27 wd:Q142 .\n",
    "    ?winner wdt:P166 ?noble .\n",
    "    ?noble  wdt:P279 wd:Q7191 . \n",
    "    }\n",
    "}\n",
    "\n",
    "{\n",
    "    select distinct (COUNT(?winner) AS ?iranianwinners) {\n",
    "    ?winner wdt:P27 wd:Q794 .\n",
    "    ?winner wdt:P166 ?noble .\n",
    "    ?noble  wdt:P279 wd:Q7191 . \n",
    "    }\n",
    "}\n",
    "\n",
    "# this returns the labels\n",
    "    \n",
    "} \n",
    "LIMIT 100\n",
    "\"\"\"\n",
    "\n",
    "print(\"Results\")\n",
    "run_query(queryString)"
   ]
  },
  {
   "cell_type": "code",
   "execution_count": null,
   "id": "c69e2080-b476-4ec7-862d-4b52e7a1bd26",
   "metadata": {},
   "outputs": [],
   "source": [
    "# capire come ricavare date vittoria per stampare numero vincitori degli ultimi 20 anni"
   ]
  },
  {
   "cell_type": "code",
   "execution_count": 2,
   "id": "7d14f059-e16d-4bee-9395-b05bc6d5a2c4",
   "metadata": {},
   "outputs": [],
   "source": [
    "#\n",
    "#"
   ]
  },
  {
   "cell_type": "markdown",
   "id": "736b0f97-47cc-4e19-a03d-817eaa1b1a32",
   "metadata": {},
   "source": [
    "# Workload 3"
   ]
  },
  {
   "cell_type": "code",
   "execution_count": 224,
   "id": "99cfab9d-a964-4c0d-b446-40e356e46ae5",
   "metadata": {},
   "outputs": [],
   "source": [
    "# 3. Determine how many Literature nobel laureates have the following contries: Italy, Germany, France, Romania, Denmark, \n",
    "#    Iran, and China"
   ]
  },
  {
   "cell_type": "code",
   "execution_count": null,
   "id": "1ce6bbb4-9d42-408e-b060-568632542c2e",
   "metadata": {},
   "outputs": [],
   "source": [
    "# We have to find the IRI for Germany, Romania, Denmark, China\n",
    "# We have found above the following:\n",
    "# Italy --> wd:Q38\n",
    "# France --> wd:Q142\n",
    "# Iran --> wd:Q794"
   ]
  },
  {
   "cell_type": "code",
   "execution_count": null,
   "id": "560f8467-3af0-4d7e-abb9-801cd3da65c8",
   "metadata": {},
   "outputs": [],
   "source": [
    "# We look now for: Germany, Romania, Denmark, China --> searching on Sovereign state"
   ]
  },
  {
   "cell_type": "code",
   "execution_count": 237,
   "id": "1455f533-c003-4d98-9c70-9c04b27601ef",
   "metadata": {},
   "outputs": [
    {
     "name": "stdout",
     "output_type": "stream",
     "text": [
      "Results\n",
      "[('s', 'http://www.wikidata.org/entity/Q183'), ('state', 'Germany')]\n",
      "[('s', 'http://www.wikidata.org/entity/Q7318'), ('state', 'Nazi Germany')]\n",
      "[('s', 'http://www.wikidata.org/entity/Q218'), ('state', 'Romania')]\n",
      "[('s', 'http://www.wikidata.org/entity/Q35'), ('state', 'Denmark')]\n",
      "[('s', 'http://www.wikidata.org/entity/Q148'), ('state', \"People's Republic of China\")]\n",
      "[('s', 'http://www.wikidata.org/entity/Q107312248'), ('state', 'Republic of China')]\n"
     ]
    },
    {
     "data": {
      "text/plain": [
       "6"
      ]
     },
     "execution_count": 237,
     "metadata": {},
     "output_type": "execute_result"
    }
   ],
   "source": [
    "queryString = \"\"\"\n",
    "SELECT ?s ?state\n",
    "WHERE { \n",
    "\n",
    "?s wdt:P31 wd:Q3624078 .\n",
    "\n",
    "# this returns the labels\n",
    "    ?s <http://schema.org/name> ?state .\n",
    "    \n",
    "    FILTER (REGEX(?state, \"erman\") || REGEX(?state, \"omani\") || REGEX(?state, \"enmark\") || REGEX(?state, \"hina\"))\n",
    "} \n",
    "LIMIT 10\n",
    "\"\"\"\n",
    "\n",
    "print(\"Results\")\n",
    "run_query(queryString)"
   ]
  },
  {
   "cell_type": "code",
   "execution_count": null,
   "id": "8c75f23f-283b-4cee-b58a-b229b56185d2",
   "metadata": {},
   "outputs": [],
   "source": [
    "# GET:\n",
    "# Germany --> wd:Q183\n",
    "# Romania --> wd:Q218\n",
    "# Denmark --> wd:Q35\n",
    "# China --> wd:Q148 "
   ]
  },
  {
   "cell_type": "code",
   "execution_count": null,
   "id": "2aa412fd-e2f7-4c93-b748-e1cf7fa5e640",
   "metadata": {},
   "outputs": [],
   "source": [
    "# Find now the number of Literature Nobel lauraeates have all the countries"
   ]
  },
  {
   "cell_type": "code",
   "execution_count": 238,
   "id": "ba2970b1-bd51-4c5e-a235-3cb86c5ffce2",
   "metadata": {},
   "outputs": [
    {
     "name": "stdout",
     "output_type": "stream",
     "text": [
      "Results\n",
      "[('italianwinners', '13'), ('frenchwinners', '71'), ('iranianwinners', '1'), ('germanywinners', '74'), ('romanianwinners', '4'), ('chinawinners', '6')]\n"
     ]
    },
    {
     "data": {
      "text/plain": [
       "1"
      ]
     },
     "execution_count": 238,
     "metadata": {},
     "output_type": "execute_result"
    }
   ],
   "source": [
    "queryString = \"\"\"\n",
    "SELECT DISTINCT ?italianwinners ?frenchwinners ?iranianwinners ?germanywinners ?romanianwinners ?chinawinners\n",
    "WHERE { \n",
    "\n",
    "    \n",
    "{\n",
    "    select distinct (COUNT(?winner) AS ?italianwinners) {\n",
    "    ?winner wdt:P27 wd:Q38 .\n",
    "    ?winner wdt:P166 ?noble .\n",
    "    ?noble  wdt:P279 wd:Q7191 . \n",
    "    }\n",
    "}\n",
    "\n",
    "{\n",
    "    select distinct (COUNT(?winner) AS ?frenchwinners) {\n",
    "    ?winner wdt:P27 wd:Q142 .\n",
    "    ?winner wdt:P166 ?noble .\n",
    "    ?noble  wdt:P279 wd:Q7191 . \n",
    "    }\n",
    "}\n",
    "\n",
    "{\n",
    "    select distinct (COUNT(?winner) AS ?iranianwinners) {\n",
    "    ?winner wdt:P27 wd:Q794 .\n",
    "    ?winner wdt:P166 ?noble .\n",
    "    ?noble  wdt:P279 wd:Q7191 . \n",
    "    }\n",
    "}\n",
    "\n",
    "{\n",
    "    select distinct (COUNT(?winner) AS ?germanywinners) {\n",
    "    ?winner wdt:P27 wd:Q183 .\n",
    "    ?winner wdt:P166 ?noble .\n",
    "    ?noble  wdt:P279 wd:Q7191 . \n",
    "    }\n",
    "}\n",
    "\n",
    "{\n",
    "    select distinct (COUNT(?winner) AS ?romanianwinners) {\n",
    "    ?winner wdt:P27 wd:Q218 .\n",
    "    ?winner wdt:P166 ?noble .\n",
    "    ?noble  wdt:P279 wd:Q7191 . \n",
    "    }\n",
    "}\n",
    "\n",
    "{\n",
    "    select distinct (COUNT(?winner) AS ?denmarkwinners) {\n",
    "    ?winner wdt:P27 wd:Q35 .\n",
    "    ?winner wdt:P166 ?noble .\n",
    "    ?noble  wdt:P279 wd:Q7191 . \n",
    "    }\n",
    "}\n",
    "\n",
    "{\n",
    "    select distinct (COUNT(?winner) AS ?chinawinners) {\n",
    "    ?winner wdt:P27 wd:Q148 .\n",
    "    ?winner wdt:P166 ?noble .\n",
    "    ?noble  wdt:P279 wd:Q7191 . \n",
    "    }\n",
    "}\n",
    "\n",
    "\n",
    "# this returns the labels\n",
    "    \n",
    "} \n",
    "\n",
    "\n",
    "LIMIT 100\n",
    "\"\"\"\n",
    "\n",
    "print(\"Results\")\n",
    "run_query(queryString)"
   ]
  },
  {
   "cell_type": "code",
   "execution_count": 7,
   "id": "a10d752f-af53-45f0-8a98-a265543f848a",
   "metadata": {},
   "outputs": [],
   "source": [
    "#\n",
    "#"
   ]
  },
  {
   "cell_type": "markdown",
   "id": "fbad47c5-a398-4944-88c7-2150c910d03f",
   "metadata": {},
   "source": [
    "# Workload 4"
   ]
  },
  {
   "cell_type": "code",
   "execution_count": null,
   "id": "aff8c10e-c6e1-4a1d-a6a4-08fb3219942d",
   "metadata": {},
   "outputs": [],
   "source": [
    "# 4. How many Literature Nobel award winners have a PhD (aka Doctorate of Philosophy)\n",
    "#    (you may check if they have a doctoral advisor)?"
   ]
  },
  {
   "cell_type": "code",
   "execution_count": 8,
   "id": "8cebb50d-73d7-412d-8895-7314a44d8a23",
   "metadata": {},
   "outputs": [],
   "source": [
    "# I look for find PhD IRI to have all doctorate"
   ]
  },
  {
   "cell_type": "code",
   "execution_count": 27,
   "id": "b4556ed8-f8d4-4727-9b79-ad5f553ac919",
   "metadata": {},
   "outputs": [
    {
     "name": "stdout",
     "output_type": "stream",
     "text": [
      "Results\n",
      "[('prof', 'http://www.wikidata.org/entity/Q19603972'), ('profname', 'PhD in Philosophical Sciences')]\n",
      "[('prof', 'http://www.wikidata.org/entity/Q65640233'), ('profname', 'PhD in philosophy')]\n"
     ]
    },
    {
     "data": {
      "text/plain": [
       "2"
      ]
     },
     "execution_count": 27,
     "metadata": {},
     "output_type": "execute_result"
    }
   ],
   "source": [
    "queryString = \"\"\"\n",
    "SELECT DISTINCT ?prof ?profname\n",
    "WHERE { \n",
    " \n",
    " ?d  wdt:P106 ?prof   . \n",
    "\n",
    "# this returns the labels\n",
    "    ?prof <http://schema.org/name> ?profname .\n",
    "\n",
    "FILTER (REGEX(?profname, \"PhD\") or REGEX(?profname, \"Doctorate of Philosophy\"))\n",
    "} \n",
    "LIMIT 10\n",
    "\"\"\"\n",
    "\n",
    "print(\"Results\")\n",
    "run_query(queryString)"
   ]
  },
  {
   "cell_type": "code",
   "execution_count": 12,
   "id": "497e5106-e12c-4217-aa92-ced34967dfbb",
   "metadata": {},
   "outputs": [],
   "source": [
    "# GET:  'PhD in philosophy' --> wd:Q65640233"
   ]
  },
  {
   "cell_type": "code",
   "execution_count": 13,
   "id": "bab9a79f-db3b-44f3-84b9-5ba581a439e7",
   "metadata": {},
   "outputs": [],
   "source": [
    "# Look for all PhD in philosophy"
   ]
  },
  {
   "cell_type": "code",
   "execution_count": 26,
   "id": "9c7be542-28e4-48c0-8c55-3a7adc60687d",
   "metadata": {},
   "outputs": [
    {
     "name": "stdout",
     "output_type": "stream",
     "text": [
      "Results\n",
      "[('d', 'http://www.wikidata.org/entity/Q89410064'), ('dname', 'Yiota Vassi')]\n"
     ]
    },
    {
     "data": {
      "text/plain": [
       "1"
      ]
     },
     "execution_count": 26,
     "metadata": {},
     "output_type": "execute_result"
    }
   ],
   "source": [
    "queryString = \"\"\"\n",
    "SELECT DISTINCT ?d ?dname\n",
    "WHERE { \n",
    " \n",
    " ?d  wdt:P106 wd:Q65640233  . \n",
    "\n",
    "# this returns the labels\n",
    "    ?d <http://schema.org/name> ?dname .\n",
    "\n",
    "} \n",
    "LIMIT 10\n",
    "\"\"\"\n",
    "\n",
    "print(\"Results\")\n",
    "run_query(queryString)"
   ]
  },
  {
   "cell_type": "code",
   "execution_count": null,
   "id": "f8144ef6-4098-489f-853e-1ef209b3b3df",
   "metadata": {},
   "outputs": [],
   "source": [
    "# ...only one PhD found"
   ]
  },
  {
   "cell_type": "code",
   "execution_count": null,
   "id": "fe4b8e85-846d-49b8-86c2-0f7effe6e5a1",
   "metadata": {},
   "outputs": [],
   "source": [
    "# In this way I can look for all the Phd in philosophy and explore if they win something"
   ]
  },
  {
   "cell_type": "code",
   "execution_count": null,
   "id": "27e6a6cd-86e0-455e-ae7a-af19fafab76e",
   "metadata": {},
   "outputs": [],
   "source": [
    "# To find all the Noble winners we use the predicate found above 'award received' --> wdt:P166"
   ]
  },
  {
   "cell_type": "code",
   "execution_count": 25,
   "id": "a91cd573-6999-4324-897a-7fb6f0da2186",
   "metadata": {},
   "outputs": [
    {
     "name": "stdout",
     "output_type": "stream",
     "text": [
      "Results\n",
      "Empty\n"
     ]
    },
    {
     "data": {
      "text/plain": [
       "0"
      ]
     },
     "execution_count": 25,
     "metadata": {},
     "output_type": "execute_result"
    }
   ],
   "source": [
    "queryString = \"\"\"\n",
    "SELECT DISTINCT ?winner ?winnername ?ar ?noblename\n",
    "WHERE { \n",
    "\n",
    "    ?winner  wdt:P106 wd:Q65640233 ;\n",
    "             wdt:P166 ?noble .\n",
    "    ?noble   wdt:P279 wd:Q7191 . \n",
    "\n",
    "\n",
    "# this returns the labels\n",
    "    ?winner <http://schema.org/name> ?winnername .\n",
    "    wdt:P166 <http://schema.org/name> ?ar .\n",
    "    ?noble <http://schema.org/name> ?noblename .\n",
    "  #  wd:Q37922 <http://schema.org/name> ?noblename .\n",
    "  \n",
    "  FILTER(?noble = wd:Q37922)\n",
    "    \n",
    "} \n",
    "LIMIT 100\n",
    "\"\"\"\n",
    "\n",
    "print(\"Results\")\n",
    "run_query(queryString)"
   ]
  },
  {
   "cell_type": "code",
   "execution_count": null,
   "id": "3fbff45a-2d1a-48b7-af1b-893572240aeb",
   "metadata": {},
   "outputs": [],
   "source": [
    "# Not found anything"
   ]
  },
  {
   "cell_type": "code",
   "execution_count": null,
   "id": "0a2078d1-bf67-45bb-8557-e9817091df96",
   "metadata": {},
   "outputs": [],
   "source": [
    "#\n",
    "#"
   ]
  },
  {
   "cell_type": "markdown",
   "id": "515c6927-6152-4cc2-8c8a-0e1d94ade28f",
   "metadata": {},
   "source": [
    "# Workload 5"
   ]
  },
  {
   "cell_type": "code",
   "execution_count": 20,
   "id": "4f7d5ad9-0920-4dd6-9bc5-c22d806cc2e1",
   "metadata": {},
   "outputs": [],
   "source": [
    "# 5. Are there books from Litarature Nobel Award winners which are not present in the Vatican Library? \n",
    "#    (if so, who is the author with more books not in the Vatical Library)?"
   ]
  },
  {
   "cell_type": "code",
   "execution_count": null,
   "id": "0207f1ec-53de-4ac8-8ecc-dc011e408a8e",
   "metadata": {},
   "outputs": [],
   "source": [
    "# I try to find something that won an award "
   ]
  },
  {
   "cell_type": "code",
   "execution_count": 24,
   "id": "53c4211b-8b46-4a52-a3a8-c26b4bf3e56e",
   "metadata": {},
   "outputs": [
    {
     "name": "stdout",
     "output_type": "stream",
     "text": [
      "Results\n",
      "[('winner', 'http://www.wikidata.org/entity/Q42970'), ('winnername', 'Amnesty International'), ('ar', 'award received'), ('noblename', 'Nobel Peace Prize')]\n",
      "[('winner', 'http://www.wikidata.org/entity/Q5987345'), ('winnername', 'International Committee of the Red Cross'), ('ar', 'award received'), ('noblename', 'Nobel Peace Prize')]\n",
      "[('winner', 'http://www.wikidata.org/entity/Q1069175'), ('winnername', 'International Federation of Red Cross and Red Crescent Societies'), ('ar', 'award received'), ('noblename', 'Nobel Peace Prize')]\n",
      "[('winner', 'http://www.wikidata.org/entity/Q1065'), ('winnername', 'United Nations'), ('ar', 'award received'), ('noblename', 'Nobel Peace Prize')]\n",
      "[('winner', 'http://www.wikidata.org/entity/Q170208'), ('winnername', 'Quakers'), ('ar', 'award received'), ('noblename', 'Nobel Peace Prize')]\n",
      "[('winner', 'http://www.wikidata.org/entity/Q41984'), ('winnername', 'International Atomic Energy Agency'), ('ar', 'award received'), ('noblename', 'Nobel Peace Prize')]\n",
      "[('winner', 'http://www.wikidata.org/entity/Q458'), ('winnername', 'European Union'), ('ar', 'award received'), ('noblename', 'Nobel Peace Prize')]\n",
      "[('winner', 'http://www.wikidata.org/entity/Q54129'), ('winnername', 'International Labour Organization'), ('ar', 'award received'), ('noblename', 'Nobel Peace Prize')]\n",
      "[('winner', 'http://www.wikidata.org/entity/Q740308'), ('winnername', 'UNICEF'), ('ar', 'award received'), ('noblename', 'Nobel Peace Prize')]\n",
      "[('winner', 'http://www.wikidata.org/entity/Q842490'), ('winnername', 'Organisation for the Prohibition of Chemical Weapons'), ('ar', 'award received'), ('noblename', 'Nobel Peace Prize')]\n"
     ]
    },
    {
     "data": {
      "text/plain": [
       "10"
      ]
     },
     "execution_count": 24,
     "metadata": {},
     "output_type": "execute_result"
    }
   ],
   "source": [
    "queryString = \"\"\"\n",
    "SELECT DISTINCT ?winner ?winnername ?ar ?noblename\n",
    "WHERE { \n",
    "\n",
    "    ?winner  wdt:P166 ?noble ;\n",
    "             wdt:P31 ?og .\n",
    "    ?noble   wdt:P279 wd:Q7191 . \n",
    "\n",
    "\n",
    "# this returns the labels\n",
    "    ?winner <http://schema.org/name> ?winnername .\n",
    "    wdt:P166 <http://schema.org/name> ?ar .\n",
    "    ?noble <http://schema.org/name> ?noblename .\n",
    "  #  wd:Q37922 <http://schema.org/name> ?noblename .\n",
    "  \n",
    "  FILTER(?og != wd:Q5)\n",
    "    \n",
    "} \n",
    "LIMIT 10\n",
    "\"\"\"\n",
    "\n",
    "print(\"Results\")\n",
    "run_query(queryString)"
   ]
  },
  {
   "cell_type": "code",
   "execution_count": null,
   "id": "9a8dde92-625b-401a-b729-eecbb54d8fda",
   "metadata": {},
   "outputs": [],
   "source": [
    "# But I understand that I have to find book.. so I look for instance to find book"
   ]
  },
  {
   "cell_type": "code",
   "execution_count": 23,
   "id": "dfdd6bd5-f5f8-4c8a-bf64-a2d3f98f3281",
   "metadata": {},
   "outputs": [
    {
     "name": "stdout",
     "output_type": "stream",
     "text": [
      "Results\n",
      "[('og', 'http://www.wikidata.org/entity/Q21814441'), ('ogname', 'ambassador to South Korea')]\n",
      "[('og', 'http://www.wikidata.org/entity/Q29511881'), ('ogname', 'ambassador of Canada')]\n",
      "[('og', 'http://www.wikidata.org/entity/Q299931'), ('ogname', 'Chile Open')]\n",
      "[('og', 'http://www.wikidata.org/entity/Q30057159'), ('ogname', 'ambassador to Israel')]\n",
      "[('og', 'http://www.wikidata.org/entity/Q40243936'), ('ogname', 'ambassador to the Marshall Islands')]\n",
      "[('og', 'http://www.wikidata.org/entity/Q104027338'), ('ogname', 'Russian folk game')]\n",
      "[('og', 'http://www.wikidata.org/entity/Q30057139'), ('ogname', 'ambassador to Uruguay')]\n",
      "[('og', 'http://www.wikidata.org/entity/Q38152077'), ('ogname', 'ambassador to the Comoros')]\n",
      "[('og', 'http://www.wikidata.org/entity/Q3342913'), ('ogname', 'Basque family name')]\n",
      "[('og', 'http://www.wikidata.org/entity/Q4663385'), ('ogname', 'former railway station')]\n"
     ]
    },
    {
     "data": {
      "text/plain": [
       "10"
      ]
     },
     "execution_count": 23,
     "metadata": {},
     "output_type": "execute_result"
    }
   ],
   "source": [
    "queryString = \"\"\"\n",
    "SELECT DISTINCT ?og ?ogname \n",
    "WHERE { \n",
    "\n",
    "    ?winner  wdt:P31 ?og .\n",
    "\n",
    "# this returns the labels\n",
    "    ?winner <http://schema.org/name> ?winnername .\n",
    "    ?og <http://schema.org/name> ?ogname .\n",
    "  \n",
    "    \n",
    "} \n",
    "LIMIT 10\n",
    "\"\"\"\n",
    "\n",
    "print(\"Results\")\n",
    "run_query(queryString)"
   ]
  },
  {
   "cell_type": "code",
   "execution_count": null,
   "id": "17940c0f-9e6b-474e-bbed-48e7c6ea0e3b",
   "metadata": {},
   "outputs": [],
   "source": [
    "# Look for 'Book'"
   ]
  },
  {
   "cell_type": "code",
   "execution_count": null,
   "id": "8622c909-9fa9-42e7-8638-55dada19926b",
   "metadata": {},
   "outputs": [
    {
     "name": "stdout",
     "output_type": "stream",
     "text": [
      "Results\n"
     ]
    }
   ],
   "source": [
    "queryString = \"\"\"\n",
    "SELECT DISTINCT ?og ?ogname \n",
    "WHERE { \n",
    "\n",
    "    ?winner  wdt:P31 ?og .\n",
    "    \n",
    "\n",
    "\n",
    "# this returns the labels\n",
    "    ?winner <http://schema.org/name> ?winnername .\n",
    "    ?og <http://schema.org/name> ?ogname .\n",
    "  \n",
    "FILTER regex(?ogname, \"\\\\bbook\\\\b\", \"i\")  \n",
    "} \n",
    "LIMIT 10\n",
    "\"\"\"\n",
    "\n",
    "print(\"Results\")\n",
    "run_query(queryString)"
   ]
  },
  {
   "cell_type": "code",
   "execution_count": null,
   "id": "5056bd76-434b-4ada-88fd-039e90cff59c",
   "metadata": {},
   "outputs": [],
   "source": [
    "# GET: 'book' --> wd:Q571"
   ]
  },
  {
   "cell_type": "code",
   "execution_count": null,
   "id": "a44bb072-5309-439c-9f0b-17dd0cddba23",
   "metadata": {},
   "outputs": [],
   "source": [
    "# I look only for books that won Noble in Literature"
   ]
  },
  {
   "cell_type": "code",
   "execution_count": 6,
   "id": "8647fcd4-b2f0-41bb-84cb-3f7122ada3c9",
   "metadata": {},
   "outputs": [
    {
     "name": "stdout",
     "output_type": "stream",
     "text": [
      "Results\n",
      "Empty\n"
     ]
    },
    {
     "data": {
      "text/plain": [
       "0"
      ]
     },
     "execution_count": 6,
     "metadata": {},
     "output_type": "execute_result"
    }
   ],
   "source": [
    "queryString = \"\"\"\n",
    "SELECT DISTINCT ?winner ?winnername ?ar ?noblename\n",
    "WHERE { \n",
    "\n",
    "    ?winner  wdt:P166 ?noble ;\n",
    "             wdt:P279 wd:Q571 .\n",
    "    ?noble   wdt:P279 wd:Q7191 . \n",
    "\n",
    "\n",
    "# this returns the labels\n",
    "    ?winner <http://schema.org/name> ?winnername .\n",
    "    wdt:P166 <http://schema.org/name> ?ar .\n",
    "    ?noble <http://schema.org/name> ?noblename .\n",
    "  #  wd:Q37922 <http://schema.org/name> ?noblename .\n",
    "  \n",
    " \n",
    "    \n",
    "} \n",
    "LIMIT 10\n",
    "\"\"\"\n",
    "\n",
    "print(\"Results\")\n",
    "run_query(queryString)"
   ]
  },
  {
   "cell_type": "code",
   "execution_count": null,
   "id": "fa8d42ab-2133-4903-b7b5-7919bbd95fde",
   "metadata": {},
   "outputs": [],
   "source": []
  }
 ],
 "metadata": {
  "kernelspec": {
   "display_name": "Python 3 (ipykernel)",
   "language": "python",
   "name": "python3"
  },
  "language_info": {
   "codemirror_mode": {
    "name": "ipython",
    "version": 3
   },
   "file_extension": ".py",
   "mimetype": "text/x-python",
   "name": "python",
   "nbconvert_exporter": "python",
   "pygments_lexer": "ipython3",
   "version": "3.7.10"
  }
 },
 "nbformat": 4,
 "nbformat_minor": 5
}
