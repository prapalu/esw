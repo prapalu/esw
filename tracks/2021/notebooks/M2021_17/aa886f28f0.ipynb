{
 "cells": [
  {
   "cell_type": "markdown",
   "id": "7034c3bf-6eb0-4418-8687-7b9d2a501103",
   "metadata": {},
   "source": [
    "# General instructions\n",
    "\n",
    "The goal of the project is to materialize a set of **exploratory workloads** over a real-world, large-scale,  open-domain KG: [WikiData](https://www.wikidata.org/wiki/Wikidata:Main_Page)\n",
    "\n",
    "An exploratory workload  is composed by a set of queries, where each query is related to the information obtained previously.\n",
    "\n",
    "An exploratory workload starts with a usually vague, open ended question, and does not assume the person issuing the workload has a clear understanding of the data contained in the target database or its structure.\n",
    "\n",
    "Remeber that:\n",
    "\n",
    "1. All the queries must run in the python notebook\n",
    "2. You can use classes and properties only if you find them via a SPARQL query that must be present in the notebook\n",
    "3. You do not delete useless queries. Keep everything that is synthatically valid \n",
    "\n",
    "```\n",
    "?p <http://schema.org/name> ?name .\n",
    "```\n",
    "    \n",
    "    is the BGP returning a human-readable name of a property or a class in Wikidata.\n",
    "    \n",
    "    "
   ]
  },
  {
   "cell_type": "code",
   "execution_count": 1,
   "id": "3605c9d5-5371-49a5-be8d-d66e8f417139",
   "metadata": {},
   "outputs": [],
   "source": [
    "## SETUP used later\n",
    "\n",
    "from SPARQLWrapper import SPARQLWrapper, JSON\n",
    "\n",
    "\n",
    "prefixString = \"\"\"\n",
    "##-aa886f28f0-##\n",
    "PREFIX wd: <http://www.wikidata.org/entity/> \n",
    "PREFIX wdt: <http://www.wikidata.org/prop/direct/> \n",
    "PREFIX sc: <http://schema.org/>\n",
    "\"\"\"\n",
    "\n",
    "# select and construct queries\n",
    "def run_query(queryString):\n",
    "    to_run = prefixString + \"\\n\" + queryString\n",
    "\n",
    "    sparql = SPARQLWrapper(\"http://a256-gc1-02.srv.aau.dk:5820/sparql\")\n",
    "    sparql.setTimeout(300)\n",
    "    sparql.setReturnFormat(JSON)\n",
    "    sparql.setQuery(to_run)\n",
    "\n",
    "    try :\n",
    "       results = sparql.query()\n",
    "       json_results = results.convert()\n",
    "       if len(json_results['results']['bindings'])==0:\n",
    "          print(\"Empty\")\n",
    "          return 0\n",
    "    \n",
    "       for bindings in json_results['results']['bindings']:\n",
    "          print( [ (var, value['value'])  for var, value in bindings.items() ] )\n",
    "\n",
    "       return len(json_results['results']['bindings'])\n",
    "\n",
    "    except Exception as e :\n",
    "        print(\"The operation failed\", e)\n",
    "    \n",
    "# ASk queries\n",
    "def run_ask_query(queryString):\n",
    "    to_run = prefixString + \"\\n\" + queryString\n",
    "\n",
    "    sparql = SPARQLWrapper(\"http://a256-gc1-02.srv.aau.dk:5820/sparql\")\n",
    "    sparql.setTimeout(300)\n",
    "    sparql.setReturnFormat(JSON)\n",
    "    sparql.setQuery(to_run)\n",
    "\n",
    "    try :\n",
    "        return sparql.query().convert()\n",
    "\n",
    "    except Exception as e :\n",
    "        print(\"The operation failed\", e)"
   ]
  },
  {
   "cell_type": "markdown",
   "id": "d477a59c-a68c-4c8f-9f97-8ca5294d7d27",
   "metadata": {},
   "source": [
    "# Movie Workflow Series (\"Tv series explorative search\") \n",
    "\n",
    "## Workflow 4\n",
    "\n",
    "\n",
    "Consider the following exploratory scenario:\n",
    "\n",
    "\n",
    "> we are interested in the TV series \"How I met your mother\" and we want to investigate the main aspects related to the actors and directors involved in the production, know the numerber of seasons and check what are the episodes which got the higher success/impact.\n",
    "\n",
    "\n",
    "## Useful URIs for the current workflow\n",
    "The following are given:\n",
    "\n",
    "| IRI           | Description   | Role      |\n",
    "| -----------   | -----------   |-----------|\n",
    "| `wdt:P1647`   | subproperty   | predicate |\n",
    "| `wdt:P31`     | instance of   | predicate |\n",
    "| `wdt:P106`    | profession    | predicate | \n",
    "| `wdt:P279`    | subclass      | predicate |\n",
    "| `wdt:P4969`    | derivative work      | predicate |\n",
    "| `wd:Q147235` | How I met your mother        | node |\n",
    "| `wd:Q23831` | The Office (US)        | node |\n",
    "\n",
    "\n",
    "\n",
    "Also consider\n",
    "\n",
    "```\n",
    "wd:Q23831 ?p ?obj .\n",
    "```\n",
    "\n",
    "is the BGP to retrieve all **properties of The Office (US)**\n",
    "\n",
    "The workload should\n",
    "\n",
    "\n",
    "1. Return the number of seasons and episodes per season of the tv series\n",
    "\n",
    "2. Get the number of episodes in which the cast members played a role. Who are the most present actors?\n",
    "\n",
    "3. Check who is the actor who acted in more films while working on \"How I met your mother\" and who is the actor who participated in more films after the end of the tv series.\n",
    "\n",
    "4. Compare HIMYM with the tv series \"The Office (US)\" in terms of number of seasons, episods and cast members.\n",
    "\n",
    "5. Return how many of the actors who are members of the cast of the tv series have [Kavin Bacon number](https://en.wikipedia.org/wiki/Six_Degrees_of_Kevin_Bacon#:~:text=Kevin%20Bacon%20himself%20has%20a,Bacon%20number%20is%20N%2B1.) equal to 2"
   ]
  },
  {
   "cell_type": "code",
   "execution_count": 2,
   "id": "24a853ab-830c-422c-afd3-e9e015b8b8ed",
   "metadata": {},
   "outputs": [],
   "source": [
    "# start your workflow here"
   ]
  },
  {
   "cell_type": "code",
   "execution_count": 3,
   "id": "ade01416-92e7-4ad7-b9a9-b8fb330750dc",
   "metadata": {},
   "outputs": [
    {
     "name": "stdout",
     "output_type": "stream",
     "text": [
      "Results\n",
      "[('p', 'http://www.wikidata.org/prop/direct/P449'), ('pname', 'original broadcaster'), ('o', 'http://www.wikidata.org/entity/Q13974'), ('oname', 'NBC')]\n",
      "[('p', 'http://www.wikidata.org/prop/direct/P364'), ('pname', 'original language of film or TV show'), ('o', 'http://www.wikidata.org/entity/Q1860'), ('oname', 'English')]\n",
      "[('p', 'http://www.wikidata.org/prop/direct/P2670'), ('pname', 'has parts of the class'), ('o', 'http://www.wikidata.org/entity/Q21664088'), ('oname', 'two-part episode')]\n",
      "[('p', 'http://www.wikidata.org/prop/direct/P495'), ('pname', 'country of origin'), ('o', 'http://www.wikidata.org/entity/Q30'), ('oname', 'United States of America')]\n",
      "[('p', 'http://www.wikidata.org/prop/direct/P31'), ('pname', 'instance of'), ('o', 'http://www.wikidata.org/entity/Q5398426'), ('oname', 'television series')]\n",
      "[('p', 'http://www.wikidata.org/prop/direct/P437'), ('pname', 'distribution format'), ('o', 'http://www.wikidata.org/entity/Q723685'), ('oname', 'video on demand')]\n",
      "[('p', 'http://www.wikidata.org/prop/direct/P750'), ('pname', 'distributed by'), ('o', 'http://www.wikidata.org/entity/Q907311'), ('oname', 'Netflix')]\n",
      "[('p', 'http://www.wikidata.org/prop/direct/P161'), ('pname', 'cast member'), ('o', 'http://www.wikidata.org/entity/Q1050211'), ('oname', 'Leslie David Baker')]\n",
      "[('p', 'http://www.wikidata.org/prop/direct/P161'), ('pname', 'cast member'), ('o', 'http://www.wikidata.org/entity/Q1139248'), ('oname', 'Oscar Nunez')]\n",
      "[('p', 'http://www.wikidata.org/prop/direct/P272'), ('pname', 'production company'), ('o', 'http://www.wikidata.org/entity/Q1337530'), ('oname', 'Universal Television')]\n",
      "[('p', 'http://www.wikidata.org/prop/direct/P1811'), ('pname', 'list of episodes'), ('o', 'http://www.wikidata.org/entity/Q1361122'), ('oname', 'list of The Office (U.S. TV series) episodes')]\n",
      "[('p', 'http://www.wikidata.org/prop/direct/P2061'), ('pname', 'aspect ratio'), ('o', 'http://www.wikidata.org/entity/Q1383069'), ('oname', '16:9 aspect ratio')]\n",
      "[('p', 'http://www.wikidata.org/prop/direct/P170'), ('pname', 'creator'), ('o', 'http://www.wikidata.org/entity/Q1544904'), ('oname', 'Greg Daniels')]\n",
      "[('p', 'http://www.wikidata.org/prop/direct/P57'), ('pname', 'director'), ('o', 'http://www.wikidata.org/entity/Q1738629'), ('oname', 'Ken Kwapis')]\n",
      "[('p', 'http://www.wikidata.org/prop/direct/P57'), ('pname', 'director'), ('o', 'http://www.wikidata.org/entity/Q188137'), ('oname', 'J. J. Abrams')]\n",
      "[('p', 'http://www.wikidata.org/prop/direct/P674'), ('pname', 'characters'), ('o', 'http://www.wikidata.org/entity/Q1967229'), ('oname', 'Ryan Howard')]\n",
      "[('p', 'http://www.wikidata.org/prop/direct/P674'), ('pname', 'characters'), ('o', 'http://www.wikidata.org/entity/Q2013030'), ('oname', 'Jim Halpert')]\n",
      "[('p', 'http://www.wikidata.org/prop/direct/P674'), ('pname', 'characters'), ('o', 'http://www.wikidata.org/entity/Q2027359'), ('oname', 'Pam Halpert')]\n",
      "[('p', 'http://www.wikidata.org/prop/direct/P136'), ('pname', 'genre'), ('o', 'http://www.wikidata.org/entity/Q21188110'), ('oname', 'American television sitcom')]\n",
      "[('p', 'http://www.wikidata.org/prop/direct/P161'), ('pname', 'cast member'), ('o', 'http://www.wikidata.org/entity/Q216221'), ('oname', 'Steve Carell')]\n",
      "[('p', 'http://www.wikidata.org/prop/direct/P272'), ('pname', 'production company'), ('o', 'http://www.wikidata.org/entity/Q22021534'), ('oname', '3 Arts Entertainment')]\n",
      "[('p', 'http://www.wikidata.org/prop/direct/P161'), ('pname', 'cast member'), ('o', 'http://www.wikidata.org/entity/Q2238008'), ('oname', 'Creed Bratton')]\n",
      "[('p', 'http://www.wikidata.org/prop/direct/P161'), ('pname', 'cast member'), ('o', 'http://www.wikidata.org/entity/Q231203'), ('oname', 'Amy Ryan')]\n",
      "[('p', 'http://www.wikidata.org/prop/direct/P674'), ('pname', 'characters'), ('o', 'http://www.wikidata.org/entity/Q2346771'), ('oname', 'Michael Scott')]\n",
      "[('p', 'http://www.wikidata.org/prop/direct/P144'), ('pname', 'based on'), ('o', 'http://www.wikidata.org/entity/Q23829'), ('oname', 'The Office')]\n",
      "[('p', 'http://www.wikidata.org/prop/direct/P1889'), ('pname', 'different from'), ('o', 'http://www.wikidata.org/entity/Q23829'), ('oname', 'The Office')]\n",
      "[('p', 'http://www.wikidata.org/prop/direct/P161'), ('pname', 'cast member'), ('o', 'http://www.wikidata.org/entity/Q238877'), ('oname', 'Jenna Fischer')]\n",
      "[('p', 'http://www.wikidata.org/prop/direct/P161'), ('pname', 'cast member'), ('o', 'http://www.wikidata.org/entity/Q254766'), ('oname', 'Catherine Tate')]\n",
      "[('p', 'http://www.wikidata.org/prop/direct/P161'), ('pname', 'cast member'), ('o', 'http://www.wikidata.org/entity/Q2669971'), ('oname', 'Angela Kinsey')]\n",
      "[('p', 'http://www.wikidata.org/prop/direct/P161'), ('pname', 'cast member'), ('o', 'http://www.wikidata.org/entity/Q2671438'), ('oname', 'Paul Lieberstein')]\n",
      "[('p', 'http://www.wikidata.org/prop/direct/P161'), ('pname', 'cast member'), ('o', 'http://www.wikidata.org/entity/Q269901'), ('oname', 'Melora Hardin')]\n",
      "[('p', 'http://www.wikidata.org/prop/direct/P840'), ('pname', 'narrative location'), ('o', 'http://www.wikidata.org/entity/Q271395'), ('oname', 'Scranton')]\n",
      "[('p', 'http://www.wikidata.org/prop/direct/P1552'), ('pname', 'has quality'), ('o', 'http://www.wikidata.org/entity/Q27907088'), ('oname', 'breaking the fourth wall')]\n",
      "[('p', 'http://www.wikidata.org/prop/direct/P57'), ('pname', 'director'), ('o', 'http://www.wikidata.org/entity/Q286890'), ('oname', 'Harold Ramis')]\n",
      "[('p', 'http://www.wikidata.org/prop/direct/P4312'), ('pname', 'camera setup'), ('o', 'http://www.wikidata.org/entity/Q2918907'), ('oname', 'single-camera setup')]\n",
      "[('p', 'http://www.wikidata.org/prop/direct/P161'), ('pname', 'cast member'), ('o', 'http://www.wikidata.org/entity/Q2924850'), ('oname', 'Brian Baumgartner')]\n",
      "[('p', 'http://www.wikidata.org/prop/direct/P57'), ('pname', 'director'), ('o', 'http://www.wikidata.org/entity/Q295964'), ('oname', 'Jon Favreau')]\n",
      "[('p', 'http://www.wikidata.org/prop/direct/P161'), ('pname', 'cast member'), ('o', 'http://www.wikidata.org/entity/Q296928'), ('oname', 'James Spader')]\n",
      "[('p', 'http://www.wikidata.org/prop/direct/P57'), ('pname', 'director'), ('o', 'http://www.wikidata.org/entity/Q298025'), ('oname', 'Joss Whedon')]\n",
      "[('p', 'http://www.wikidata.org/prop/direct/P161'), ('pname', 'cast member'), ('o', 'http://www.wikidata.org/entity/Q3028200'), ('oname', 'Kate Flannery')]\n",
      "[('p', 'http://www.wikidata.org/prop/direct/P161'), ('pname', 'cast member'), ('o', 'http://www.wikidata.org/entity/Q313039'), ('oname', 'John Krasinski')]\n",
      "[('p', 'http://www.wikidata.org/prop/direct/P57'), ('pname', 'director'), ('o', 'http://www.wikidata.org/entity/Q314502'), ('oname', 'Jason Reitman')]\n",
      "[('p', 'http://www.wikidata.org/prop/direct/P161'), ('pname', 'cast member'), ('o', 'http://www.wikidata.org/entity/Q328790'), ('oname', 'Ed Helms')]\n",
      "[('p', 'http://www.wikidata.org/prop/direct/P527'), ('pname', 'has part'), ('o', 'http://www.wikidata.org/entity/Q3465812'), ('oname', 'The Office, season 1')]\n",
      "[('p', 'http://www.wikidata.org/prop/direct/P527'), ('pname', 'has part'), ('o', 'http://www.wikidata.org/entity/Q3468601'), ('oname', 'The Office, season 2')]\n",
      "[('p', 'http://www.wikidata.org/prop/direct/P527'), ('pname', 'has part'), ('o', 'http://www.wikidata.org/entity/Q3468797'), ('oname', 'The Office, season 3')]\n",
      "[('p', 'http://www.wikidata.org/prop/direct/P527'), ('pname', 'has part'), ('o', 'http://www.wikidata.org/entity/Q3468906'), ('oname', 'The Office, season 4')]\n",
      "[('p', 'http://www.wikidata.org/prop/direct/P527'), ('pname', 'has part'), ('o', 'http://www.wikidata.org/entity/Q3468990'), ('oname', 'The Office, season 5')]\n",
      "[('p', 'http://www.wikidata.org/prop/direct/P161'), ('pname', 'cast member'), ('o', 'http://www.wikidata.org/entity/Q349548'), ('oname', 'Rainn Wilson')]\n",
      "[('p', 'http://www.wikidata.org/prop/direct/P57'), ('pname', 'director'), ('o', 'http://www.wikidata.org/entity/Q357998'), ('oname', 'Marc Webb')]\n",
      "[('p', 'http://www.wikidata.org/prop/direct/P527'), ('pname', 'has part'), ('o', 'http://www.wikidata.org/entity/Q3730253'), ('oname', 'The Office, season 9')]\n",
      "[('p', 'http://www.wikidata.org/prop/direct/P527'), ('pname', 'has part'), ('o', 'http://www.wikidata.org/entity/Q3730255'), ('oname', 'The Office, season 8')]\n",
      "[('p', 'http://www.wikidata.org/prop/direct/P527'), ('pname', 'has part'), ('o', 'http://www.wikidata.org/entity/Q3730261'), ('oname', 'The Office, season 6')]\n",
      "[('p', 'http://www.wikidata.org/prop/direct/P527'), ('pname', 'has part'), ('o', 'http://www.wikidata.org/entity/Q3730263'), ('oname', 'The Office, season 7')]\n",
      "[('p', 'http://www.wikidata.org/prop/direct/P674'), ('pname', 'characters'), ('o', 'http://www.wikidata.org/entity/Q4169030'), ('oname', 'Dwight Schrute')]\n",
      "[('p', 'http://www.wikidata.org/prop/direct/P136'), ('pname', 'genre'), ('o', 'http://www.wikidata.org/entity/Q459435'), ('oname', 'mockumentary')]\n",
      "[('p', 'http://www.wikidata.org/prop/direct/P161'), ('pname', 'cast member'), ('o', 'http://www.wikidata.org/entity/Q459925'), ('oname', 'B. J. Novak')]\n",
      "[('p', 'http://www.wikidata.org/prop/direct/P674'), ('pname', 'characters'), ('o', 'http://www.wikidata.org/entity/Q4760429'), ('oname', 'Andy Bernard')]\n",
      "[('p', 'http://www.wikidata.org/prop/direct/P161'), ('pname', 'cast member'), ('o', 'http://www.wikidata.org/entity/Q508280'), ('oname', 'Phyllis Smith')]\n",
      "[('p', 'http://www.wikidata.org/prop/direct/P161'), ('pname', 'cast member'), ('o', 'http://www.wikidata.org/entity/Q512818'), ('oname', 'Clark Duke')]\n",
      "[('p', 'http://www.wikidata.org/prop/direct/P272'), ('pname', 'production company'), ('o', 'http://www.wikidata.org/entity/Q5249982'), ('oname', 'Deedle-Dee Productions')]\n",
      "[('p', 'http://www.wikidata.org/prop/direct/P161'), ('pname', 'cast member'), ('o', 'http://www.wikidata.org/entity/Q539917'), ('oname', 'Mindy Kaling')]\n",
      "[('p', 'http://www.wikidata.org/prop/direct/P161'), ('pname', 'cast member'), ('o', 'http://www.wikidata.org/entity/Q6124807'), ('oname', 'Jake Lacy')]\n",
      "[('p', 'http://www.wikidata.org/prop/direct/P674'), ('pname', 'characters'), ('o', 'http://www.wikidata.org/entity/Q6149368'), ('oname', 'Jan Levinson')]\n",
      "[('p', 'http://www.wikidata.org/prop/direct/P161'), ('pname', 'cast member'), ('o', 'http://www.wikidata.org/entity/Q64560'), ('oname', 'David Denman')]\n",
      "[('p', 'http://www.wikidata.org/prop/direct/P161'), ('pname', 'cast member'), ('o', 'http://www.wikidata.org/entity/Q72077'), ('oname', 'Ellie Kemper')]\n",
      "[('p', 'http://www.wikidata.org/prop/direct/P57'), ('pname', 'director'), ('o', 'http://www.wikidata.org/entity/Q7291535'), ('oname', 'Randall Einhorn')]\n",
      "[('p', 'http://www.wikidata.org/prop/direct/P674'), ('pname', 'characters'), ('o', 'http://www.wikidata.org/entity/Q7342694'), ('oname', 'Robert California')]\n",
      "[('p', 'http://www.wikidata.org/prop/direct/P161'), ('pname', 'cast member'), ('o', 'http://www.wikidata.org/entity/Q8063863'), ('oname', 'Zach Woods')]\n",
      "[('p', 'http://www.wikidata.org/prop/direct/P910'), ('pname', \"topic's main category\"), ('o', 'http://www.wikidata.org/entity/Q8849068'), ('oname', 'Category:The Office (American TV series)')]\n",
      "[('p', 'http://www.wikidata.org/prop/direct/P750'), ('pname', 'distributed by'), ('o', 'http://www.wikidata.org/entity/Q9048317'), ('oname', 'NBCUniversal Television and Streaming')]\n",
      "[('p', 'http://www.wikidata.org/prop/direct/P161'), ('pname', 'cast member'), ('o', 'http://www.wikidata.org/entity/Q926912'), ('oname', 'Craig Robinson')]\n"
     ]
    },
    {
     "data": {
      "text/plain": [
       "72"
      ]
     },
     "execution_count": 3,
     "metadata": {},
     "output_type": "execute_result"
    }
   ],
   "source": [
    "queryString = \"\"\"\n",
    "SELECT ?p ?pname ?o ?oname\n",
    "WHERE { \n",
    "\n",
    "    wd:Q23831 ?p ?o .\n",
    "    # Labels\n",
    "    ?p <http://schema.org/name> ?pname .\n",
    "    ?o <http://schema.org/name> ?oname .\n",
    "} \n",
    "\"\"\"\n",
    "\n",
    "print(\"Results\")\n",
    "run_query(queryString)"
   ]
  },
  {
   "cell_type": "code",
   "execution_count": 4,
   "id": "e285155a-7e95-4d9d-91b9-bf0380c47df3",
   "metadata": {},
   "outputs": [
    {
     "name": "stdout",
     "output_type": "stream",
     "text": [
      "Results\n",
      "[('p', 'http://www.wikidata.org/prop/direct/P1811'), ('pname', 'list of episodes'), ('o', 'http://www.wikidata.org/entity/Q1361122'), ('oname', 'list of The Office (U.S. TV series) episodes')]\n",
      "[('p', 'http://www.wikidata.org/prop/direct/P2670'), ('pname', 'has parts of the class'), ('o', 'http://www.wikidata.org/entity/Q21664088'), ('oname', 'two-part episode')]\n"
     ]
    },
    {
     "data": {
      "text/plain": [
       "2"
      ]
     },
     "execution_count": 4,
     "metadata": {},
     "output_type": "execute_result"
    }
   ],
   "source": [
    "\n",
    "queryString = \"\"\"\n",
    "SELECT ?p ?pname ?o ?oname\n",
    "WHERE { \n",
    "\n",
    "    wd:Q23831 ?p ?o .\n",
    "    # Labels\n",
    "    ?p <http://schema.org/name> ?pname .\n",
    "    ?o <http://schema.org/name> ?oname .\n",
    "    FILTER regex(?oname, \"episode\", \"i\") \n",
    "} \n",
    "LIMIT 100\n",
    "\"\"\"\n",
    "\n",
    "print(\"Results\")\n",
    "run_query(queryString)"
   ]
  },
  {
   "cell_type": "markdown",
   "id": "14623af3-db0f-4ba0-9fd1-cfb51dc1a154",
   "metadata": {
    "tags": []
   },
   "source": [
    "# Task 1\n",
    "Return the number of seasons and episodes per season of the tv series"
   ]
  },
  {
   "cell_type": "code",
   "execution_count": 5,
   "id": "17e22483-7589-4788-b4a3-c5e9e9086814",
   "metadata": {},
   "outputs": [
    {
     "name": "stdout",
     "output_type": "stream",
     "text": [
      "Results\n",
      "[('p', 'http://www.wikidata.org/prop/direct/P527'), ('pname', 'has part'), ('o', 'http://www.wikidata.org/entity/Q3468906'), ('oname', 'The Office, season 4')]\n",
      "[('p', 'http://www.wikidata.org/prop/direct/P527'), ('pname', 'has part'), ('o', 'http://www.wikidata.org/entity/Q3730261'), ('oname', 'The Office, season 6')]\n",
      "[('p', 'http://www.wikidata.org/prop/direct/P527'), ('pname', 'has part'), ('o', 'http://www.wikidata.org/entity/Q3468601'), ('oname', 'The Office, season 2')]\n",
      "[('p', 'http://www.wikidata.org/prop/direct/P527'), ('pname', 'has part'), ('o', 'http://www.wikidata.org/entity/Q3730253'), ('oname', 'The Office, season 9')]\n",
      "[('p', 'http://www.wikidata.org/prop/direct/P527'), ('pname', 'has part'), ('o', 'http://www.wikidata.org/entity/Q3465812'), ('oname', 'The Office, season 1')]\n",
      "[('p', 'http://www.wikidata.org/prop/direct/P527'), ('pname', 'has part'), ('o', 'http://www.wikidata.org/entity/Q3730255'), ('oname', 'The Office, season 8')]\n",
      "[('p', 'http://www.wikidata.org/prop/direct/P527'), ('pname', 'has part'), ('o', 'http://www.wikidata.org/entity/Q3468797'), ('oname', 'The Office, season 3')]\n",
      "[('p', 'http://www.wikidata.org/prop/direct/P527'), ('pname', 'has part'), ('o', 'http://www.wikidata.org/entity/Q3730263'), ('oname', 'The Office, season 7')]\n",
      "[('p', 'http://www.wikidata.org/prop/direct/P527'), ('pname', 'has part'), ('o', 'http://www.wikidata.org/entity/Q3468990'), ('oname', 'The Office, season 5')]\n"
     ]
    },
    {
     "data": {
      "text/plain": [
       "9"
      ]
     },
     "execution_count": 5,
     "metadata": {},
     "output_type": "execute_result"
    }
   ],
   "source": [
    "\n",
    "queryString = \"\"\"\n",
    "SELECT ?p ?pname ?o ?oname\n",
    "WHERE { \n",
    "\n",
    "    wd:Q23831 ?p ?o .\n",
    "    # Labels\n",
    "    ?p <http://schema.org/name> ?pname .\n",
    "    ?o <http://schema.org/name> ?oname .\n",
    "    FILTER regex(?oname, \"season\", \"i\") \n",
    "} \n",
    "LIMIT 100\n",
    "\"\"\"\n",
    "\n",
    "print(\"Results\")\n",
    "run_query(queryString)"
   ]
  },
  {
   "cell_type": "code",
   "execution_count": 6,
   "id": "95137e00-cfab-497d-9270-ca95115226c1",
   "metadata": {},
   "outputs": [
    {
     "name": "stdout",
     "output_type": "stream",
     "text": [
      "Results\n",
      "[('season', 'http://www.wikidata.org/entity/Q3468906'), ('seasonname', 'The Office, season 4')]\n",
      "[('season', 'http://www.wikidata.org/entity/Q3730261'), ('seasonname', 'The Office, season 6')]\n",
      "[('season', 'http://www.wikidata.org/entity/Q3468601'), ('seasonname', 'The Office, season 2')]\n",
      "[('season', 'http://www.wikidata.org/entity/Q3730253'), ('seasonname', 'The Office, season 9')]\n",
      "[('season', 'http://www.wikidata.org/entity/Q3465812'), ('seasonname', 'The Office, season 1')]\n",
      "[('season', 'http://www.wikidata.org/entity/Q3730255'), ('seasonname', 'The Office, season 8')]\n",
      "[('season', 'http://www.wikidata.org/entity/Q3468797'), ('seasonname', 'The Office, season 3')]\n",
      "[('season', 'http://www.wikidata.org/entity/Q3730263'), ('seasonname', 'The Office, season 7')]\n",
      "[('season', 'http://www.wikidata.org/entity/Q3468990'), ('seasonname', 'The Office, season 5')]\n"
     ]
    },
    {
     "data": {
      "text/plain": [
       "9"
      ]
     },
     "execution_count": 6,
     "metadata": {},
     "output_type": "execute_result"
    }
   ],
   "source": [
    "#P527 seasons\n",
    "\n",
    "queryString = \"\"\"\n",
    "SELECT DISTINCT ?season ?seasonname\n",
    "WHERE { \n",
    "\n",
    "    wd:Q23831 wdt:P527 ?season .\n",
    "    # Labels\n",
    "    ?p <http://schema.org/name> ?pname .\n",
    "    ?season <http://schema.org/name> ?seasonname .\n",
    "    FILTER regex(?seasonname, \"season\", \"i\") \n",
    "} \n",
    "LIMIT 100\n",
    "\"\"\"\n",
    "\n",
    "print(\"Results\")\n",
    "run_query(queryString)"
   ]
  },
  {
   "cell_type": "code",
   "execution_count": 7,
   "id": "124dca19-b35f-45de-a173-b41693e5eda3",
   "metadata": {},
   "outputs": [
    {
     "name": "stdout",
     "output_type": "stream",
     "text": [
      "Results\n",
      "[('p', 'http://www.wikidata.org/prop/direct/P364'), ('pname', 'original language of film or TV show'), ('o', 'http://www.wikidata.org/entity/Q1860'), ('oname', 'English')]\n",
      "[('p', 'http://www.wikidata.org/prop/direct/P495'), ('pname', 'country of origin'), ('o', 'http://www.wikidata.org/entity/Q30'), ('oname', 'United States of America')]\n",
      "[('p', 'http://www.wikidata.org/prop/direct/P179'), ('pname', 'part of the series'), ('o', 'http://www.wikidata.org/entity/Q23831'), ('oname', 'The Office')]\n",
      "[('p', 'http://www.wikidata.org/prop/direct/P31'), ('pname', 'instance of'), ('o', 'http://www.wikidata.org/entity/Q3464665'), ('oname', 'television series season')]\n",
      "[('p', 'http://www.wikidata.org/prop/direct/P527'), ('pname', 'has part'), ('o', 'http://www.wikidata.org/entity/Q16744428'), ('oname', 'Job Fair')]\n",
      "[('p', 'http://www.wikidata.org/prop/direct/P527'), ('pname', 'has part'), ('o', 'http://www.wikidata.org/entity/Q50379716'), ('oname', 'Goodbye, Toby (part 1)')]\n",
      "[('p', 'http://www.wikidata.org/prop/direct/P527'), ('pname', 'has part'), ('o', 'http://www.wikidata.org/entity/Q50379718'), ('oname', 'Goodbye, Toby (part 2)')]\n",
      "[('p', 'http://www.wikidata.org/prop/direct/P527'), ('pname', 'has part'), ('o', 'http://www.wikidata.org/entity/Q50379682'), ('oname', 'Money (part 1)')]\n",
      "[('p', 'http://www.wikidata.org/prop/direct/P527'), ('pname', 'has part'), ('o', 'http://www.wikidata.org/entity/Q50379683'), ('oname', 'Money (part 2)')]\n",
      "[('p', 'http://www.wikidata.org/prop/direct/P527'), ('pname', 'has part'), ('o', 'http://www.wikidata.org/entity/Q6663943'), ('oname', 'Local Ad')]\n",
      "[('p', 'http://www.wikidata.org/prop/direct/P527'), ('pname', 'has part'), ('o', 'http://www.wikidata.org/entity/Q5274039'), ('oname', 'Did I Stutter?')]\n",
      "[('p', 'http://www.wikidata.org/prop/direct/P527'), ('pname', 'has part'), ('o', 'http://www.wikidata.org/entity/Q7033383'), ('oname', 'Night Out')]\n",
      "[('p', 'http://www.wikidata.org/prop/direct/P527'), ('pname', 'has part'), ('o', 'http://www.wikidata.org/entity/Q50379594'), ('oname', 'Fun Run (part 1)')]\n",
      "[('p', 'http://www.wikidata.org/prop/direct/P527'), ('pname', 'has part'), ('o', 'http://www.wikidata.org/entity/Q50379664'), ('oname', 'Launch Party (part 2)')]\n",
      "[('p', 'http://www.wikidata.org/prop/direct/P527'), ('pname', 'has part'), ('o', 'http://www.wikidata.org/entity/Q4956378'), ('oname', 'Branch Wars')]\n",
      "[('p', 'http://www.wikidata.org/prop/direct/P527'), ('pname', 'has part'), ('o', 'http://www.wikidata.org/entity/Q50379663'), ('oname', 'Launch Party (part 1)')]\n",
      "[('p', 'http://www.wikidata.org/prop/direct/P527'), ('pname', 'has part'), ('o', 'http://www.wikidata.org/entity/Q5068046'), ('oname', 'Chair Model')]\n",
      "[('p', 'http://www.wikidata.org/prop/direct/P527'), ('pname', 'has part'), ('o', 'http://www.wikidata.org/entity/Q5278408'), ('oname', 'Dinner Party')]\n",
      "[('p', 'http://www.wikidata.org/prop/direct/P527'), ('pname', 'has part'), ('o', 'http://www.wikidata.org/entity/Q50379592'), ('oname', 'Fun Run (part 2)')]\n",
      "[('p', 'http://www.wikidata.org/prop/direct/P527'), ('pname', 'has part'), ('o', 'http://www.wikidata.org/entity/Q50379638'), ('oname', 'Dunder Mifflin Infinity (part 1)')]\n",
      "[('p', 'http://www.wikidata.org/prop/direct/P527'), ('pname', 'has part'), ('o', 'http://www.wikidata.org/entity/Q50379636'), ('oname', 'Dunder Mifflin Infinity (part 2)')]\n",
      "[('p', 'http://www.wikidata.org/prop/direct/P527'), ('pname', 'has part'), ('o', 'http://www.wikidata.org/entity/Q7647298'), ('oname', 'Survivor Man')]\n",
      "[('p', 'http://www.wikidata.org/prop/direct/P527'), ('pname', 'has part'), ('o', 'http://www.wikidata.org/entity/Q7729754'), ('oname', 'The Deposition')]\n"
     ]
    },
    {
     "data": {
      "text/plain": [
       "23"
      ]
     },
     "execution_count": 7,
     "metadata": {},
     "output_type": "execute_result"
    }
   ],
   "source": [
    "#Q3468906 season 4\n",
    "queryString = \"\"\"\n",
    "SELECT ?p ?pname ?o ?oname\n",
    "WHERE { \n",
    "\n",
    "    wd:Q3468906 ?p ?o .\n",
    "    # Labels\n",
    "    ?p <http://schema.org/name> ?pname .\n",
    "    ?o <http://schema.org/name> ?oname .\n",
    "\n",
    "} \n",
    "LIMIT 100\n",
    "\"\"\"\n",
    "\n",
    "print(\"Results\")\n",
    "run_query(queryString)"
   ]
  },
  {
   "cell_type": "code",
   "execution_count": 8,
   "id": "099296e5-fc95-496a-b23c-4c010bb4f2a3",
   "metadata": {},
   "outputs": [
    {
     "name": "stdout",
     "output_type": "stream",
     "text": [
      "Results\n",
      "[('episode', 'http://www.wikidata.org/entity/Q7033383'), ('episodename', 'Night Out')]\n",
      "[('episode', 'http://www.wikidata.org/entity/Q50379638'), ('episodename', 'Dunder Mifflin Infinity (part 1)')]\n",
      "[('episode', 'http://www.wikidata.org/entity/Q50379682'), ('episodename', 'Money (part 1)')]\n",
      "[('episode', 'http://www.wikidata.org/entity/Q50379663'), ('episodename', 'Launch Party (part 1)')]\n",
      "[('episode', 'http://www.wikidata.org/entity/Q50379716'), ('episodename', 'Goodbye, Toby (part 1)')]\n",
      "[('episode', 'http://www.wikidata.org/entity/Q5278408'), ('episodename', 'Dinner Party')]\n",
      "[('episode', 'http://www.wikidata.org/entity/Q6663943'), ('episodename', 'Local Ad')]\n",
      "[('episode', 'http://www.wikidata.org/entity/Q7647298'), ('episodename', 'Survivor Man')]\n",
      "[('episode', 'http://www.wikidata.org/entity/Q50379664'), ('episodename', 'Launch Party (part 2)')]\n",
      "[('episode', 'http://www.wikidata.org/entity/Q16744428'), ('episodename', 'Job Fair')]\n",
      "[('episode', 'http://www.wikidata.org/entity/Q5068046'), ('episodename', 'Chair Model')]\n",
      "[('episode', 'http://www.wikidata.org/entity/Q50379683'), ('episodename', 'Money (part 2)')]\n",
      "[('episode', 'http://www.wikidata.org/entity/Q50379636'), ('episodename', 'Dunder Mifflin Infinity (part 2)')]\n",
      "[('episode', 'http://www.wikidata.org/entity/Q50379594'), ('episodename', 'Fun Run (part 1)')]\n",
      "[('episode', 'http://www.wikidata.org/entity/Q7729754'), ('episodename', 'The Deposition')]\n",
      "[('episode', 'http://www.wikidata.org/entity/Q5274039'), ('episodename', 'Did I Stutter?')]\n",
      "[('episode', 'http://www.wikidata.org/entity/Q50379592'), ('episodename', 'Fun Run (part 2)')]\n",
      "[('episode', 'http://www.wikidata.org/entity/Q50379718'), ('episodename', 'Goodbye, Toby (part 2)')]\n",
      "[('episode', 'http://www.wikidata.org/entity/Q4956378'), ('episodename', 'Branch Wars')]\n"
     ]
    },
    {
     "data": {
      "text/plain": [
       "19"
      ]
     },
     "execution_count": 8,
     "metadata": {},
     "output_type": "execute_result"
    }
   ],
   "source": [
    "#Q3468906 season 4\n",
    "queryString = \"\"\"\n",
    "SELECT DISTINCT ?episode ?episodename\n",
    "WHERE { \n",
    "\n",
    "    wd:Q3468906 wdt:P527 ?episode .\n",
    "    # Labels\n",
    "    ?p <http://schema.org/name> ?pname .\n",
    "    ?episode <http://schema.org/name> ?episodename .\n",
    "\n",
    "} \n",
    "LIMIT 100\n",
    "\"\"\"\n",
    "\n",
    "print(\"Results\")\n",
    "run_query(queryString)"
   ]
  },
  {
   "cell_type": "code",
   "execution_count": 9,
   "id": "fa0b9be7-aa5a-499b-a358-fdcae1e19dbf",
   "metadata": {},
   "outputs": [
    {
     "name": "stdout",
     "output_type": "stream",
     "text": [
      "Results\n",
      "[('p', 'http://www.wikidata.org/prop/direct/P364'), ('o', 'http://www.wikidata.org/entity/Q1860'), ('pname', 'original language of film or TV show'), ('oname', 'English')]\n",
      "[('p', 'http://www.wikidata.org/prop/direct/P31'), ('o', 'http://www.wikidata.org/entity/Q21191270'), ('pname', 'instance of'), ('oname', 'television series episode')]\n",
      "[('p', 'http://www.wikidata.org/prop/direct/P495'), ('o', 'http://www.wikidata.org/entity/Q30'), ('pname', 'country of origin'), ('oname', 'United States of America')]\n",
      "[('p', 'http://www.wikidata.org/prop/direct/P437'), ('o', 'http://www.wikidata.org/entity/Q723685'), ('pname', 'distribution format'), ('oname', 'video on demand')]\n",
      "[('p', 'http://www.wikidata.org/prop/direct/P179'), ('o', 'http://www.wikidata.org/entity/Q23831'), ('pname', 'part of the series'), ('oname', 'The Office')]\n",
      "[('p', 'http://www.wikidata.org/prop/direct/P4908'), ('o', 'http://www.wikidata.org/entity/Q3468906'), ('pname', 'season'), ('oname', 'The Office, season 4')]\n",
      "[('p', 'http://www.wikidata.org/prop/direct/P750'), ('o', 'http://www.wikidata.org/entity/Q5371838'), ('pname', 'distributed by'), ('oname', 'Vudu')]\n",
      "[('p', 'http://www.wikidata.org/prop/direct/P58'), ('o', 'http://www.wikidata.org/entity/Q6531902'), ('pname', 'screenwriter'), ('oname', 'Lester Lewis')]\n",
      "[('p', 'http://www.wikidata.org/prop/direct/P57'), ('o', 'http://www.wikidata.org/entity/Q15500352'), ('pname', 'director'), ('oname', 'Julian Farino')]\n",
      "[('p', 'http://www.wikidata.org/prop/direct/P156'), ('o', 'http://www.wikidata.org/entity/Q5278408'), ('pname', 'followed by'), ('oname', 'Dinner Party')]\n",
      "[('p', 'http://www.wikidata.org/prop/direct/P155'), ('o', 'http://www.wikidata.org/entity/Q7647298'), ('pname', 'follows'), ('oname', 'Survivor Man')]\n"
     ]
    },
    {
     "data": {
      "text/plain": [
       "11"
      ]
     },
     "execution_count": 9,
     "metadata": {},
     "output_type": "execute_result"
    }
   ],
   "source": [
    "#Q7729754, ('oname', 'The Deposition')] season 4 episode ?\n",
    "queryString = \"\"\"\n",
    "SELECT *\n",
    "WHERE { \n",
    "\n",
    "    wd:Q7729754 ?p ?o .\n",
    "    # Labels\n",
    "    ?p <http://schema.org/name> ?pname .\n",
    "    ?o <http://schema.org/name> ?oname .\n",
    "\n",
    "} \n",
    "LIMIT 100\n",
    "\"\"\"\n",
    "\n",
    "print(\"Results\")\n",
    "run_query(queryString)"
   ]
  },
  {
   "cell_type": "code",
   "execution_count": 10,
   "id": "b2f6dad1-1b62-4d51-9660-b615d178d303",
   "metadata": {},
   "outputs": [
    {
     "name": "stdout",
     "output_type": "stream",
     "text": [
      "Results\n",
      "[('p', 'http://www.wikidata.org/entity/Q5278408'), ('o', 'http://www.wikidata.org/prop/direct/P155'), ('pname', 'Dinner Party'), ('oname', 'follows')]\n",
      "[('p', 'http://www.wikidata.org/entity/Q7647298'), ('o', 'http://www.wikidata.org/prop/direct/P156'), ('pname', 'Survivor Man'), ('oname', 'followed by')]\n",
      "[('p', 'http://www.wikidata.org/entity/Q3468906'), ('o', 'http://www.wikidata.org/prop/direct/P527'), ('pname', 'The Office, season 4'), ('oname', 'has part')]\n"
     ]
    },
    {
     "data": {
      "text/plain": [
       "3"
      ]
     },
     "execution_count": 10,
     "metadata": {},
     "output_type": "execute_result"
    }
   ],
   "source": [
    "#Q7729754, ('oname', 'The Deposition')] season 4 episode ?\n",
    "queryString = \"\"\"\n",
    "SELECT *\n",
    "WHERE { \n",
    "\n",
    "    ?p ?o wd:Q7729754 .\n",
    "    # Labels\n",
    "    ?p <http://schema.org/name> ?pname .\n",
    "    ?o <http://schema.org/name> ?oname .\n",
    "\n",
    "} \n",
    "LIMIT 100\n",
    "\"\"\"\n",
    "\n",
    "print(\"Results\")\n",
    "run_query(queryString)"
   ]
  },
  {
   "cell_type": "code",
   "execution_count": 11,
   "id": "5aa65b59-d557-4bb9-8c72-79473a4b84b5",
   "metadata": {},
   "outputs": [
    {
     "name": "stdout",
     "output_type": "stream",
     "text": [
      "Results\n",
      "[('countseason', '9')]\n"
     ]
    },
    {
     "data": {
      "text/plain": [
       "1"
      ]
     },
     "execution_count": 11,
     "metadata": {},
     "output_type": "execute_result"
    }
   ],
   "source": [
    "#Count seasons of The Office\n",
    "\n",
    "queryString = \"\"\"\n",
    "SELECT (COUNT (DISTINCT ?season) AS ?countseason) \n",
    "WHERE { \n",
    "\n",
    "    wd:Q23831 wdt:P527 ?season .\n",
    "    # Labels\n",
    "    ?season <http://schema.org/name> ?seasonname .\n",
    "    FILTER regex(?seasonname, \"season\", \"i\") \n",
    "} \n",
    "LIMIT 100\n",
    "\"\"\"\n",
    "\n",
    "print(\"Results\")\n",
    "run_query(queryString)"
   ]
  },
  {
   "cell_type": "code",
   "execution_count": 12,
   "id": "a0580f17-c6d5-4f12-9db5-edc822ed6117",
   "metadata": {},
   "outputs": [
    {
     "name": "stdout",
     "output_type": "stream",
     "text": [
      "Results\n",
      "[('countepisode', '201')]\n"
     ]
    },
    {
     "data": {
      "text/plain": [
       "1"
      ]
     },
     "execution_count": 12,
     "metadata": {},
     "output_type": "execute_result"
    }
   ],
   "source": [
    "#Count episodes of a season of The Office\n",
    "\n",
    "queryString = \"\"\"\n",
    "SELECT (COUNT (DISTINCT ?episode) AS ?countepisode) \n",
    "WHERE { \n",
    "    wd:Q23831 wdt:P527 ?season .\n",
    "    ?season wdt:P527 ?episode .\n",
    "    # Labels\n",
    "    ?season <http://schema.org/name> ?seasonname .\n",
    "} \n",
    "LIMIT 100\n",
    "\"\"\"\n",
    "\n",
    "print(\"Results\")\n",
    "run_query(queryString)"
   ]
  },
  {
   "cell_type": "markdown",
   "id": "116b7df4-b161-4eac-9a0c-f8525e35d9d9",
   "metadata": {},
   "source": [
    "## Return the number of seasons and episodes per season of the tv series"
   ]
  },
  {
   "cell_type": "code",
   "execution_count": 13,
   "id": "3be159a9-b597-4995-ad2a-d498764e8f7d",
   "metadata": {},
   "outputs": [
    {
     "name": "stdout",
     "output_type": "stream",
     "text": [
      "Results\n",
      "[('seasonname', 'The Office, season 1'), ('countepisode', '6')]\n",
      "[('seasonname', 'The Office, season 2'), ('countepisode', '22')]\n",
      "[('seasonname', 'The Office, season 3'), ('countepisode', '25')]\n",
      "[('seasonname', 'The Office, season 4'), ('countepisode', '19')]\n",
      "[('seasonname', 'The Office, season 5'), ('countepisode', '28')]\n",
      "[('seasonname', 'The Office, season 6'), ('countepisode', '26')]\n",
      "[('seasonname', 'The Office, season 7'), ('countepisode', '26')]\n",
      "[('seasonname', 'The Office, season 8'), ('countepisode', '24')]\n",
      "[('seasonname', 'The Office, season 9'), ('countepisode', '25')]\n"
     ]
    },
    {
     "data": {
      "text/plain": [
       "9"
      ]
     },
     "execution_count": 13,
     "metadata": {},
     "output_type": "execute_result"
    }
   ],
   "source": [
    "#Count episodes of a season of The Office and show the number of seasons\n",
    "\n",
    "queryString = \"\"\"\n",
    "    SELECT ?seasonname ?countepisode WHERE {\n",
    "      {\n",
    "        SELECT ?season (COUNT (DISTINCT ?episode) AS ?countepisode) \n",
    "        WHERE { \n",
    "            wd:Q23831 wdt:P527 ?season .\n",
    "            ?season wdt:P527 ?episode .\n",
    "\n",
    "                } \n",
    "    GROUP BY ?season\n",
    "    } .\n",
    "     ## labels   \n",
    "    ?season <http://schema.org/name> ?seasonname .\n",
    "    }\n",
    "    ORDER BY (?seasonname) ?countepisode\n",
    "\n",
    "\n",
    "\"\"\"\n",
    "\n",
    "print(\"Results\")\n",
    "run_query(queryString)"
   ]
  },
  {
   "cell_type": "code",
   "execution_count": 14,
   "id": "0eb9861a-139e-4acd-82fa-2696057ba7e8",
   "metadata": {},
   "outputs": [
    {
     "name": "stdout",
     "output_type": "stream",
     "text": [
      "Results\n",
      "[('countepisode', '20'), ('seasonname', 'How I Met Your Mother, season 3')]\n",
      "[('countepisode', '22'), ('seasonname', 'How I Met Your Mother, season 1')]\n",
      "[('countepisode', '22'), ('seasonname', 'How I Met Your Mother, season 2')]\n",
      "[('countepisode', '24'), ('seasonname', 'How I Met Your Mother, season 9')]\n",
      "[('countepisode', '24'), ('seasonname', 'How I Met Your Mother, season 7')]\n",
      "[('countepisode', '24'), ('seasonname', 'How I Met Your Mother, season 6')]\n",
      "[('countepisode', '24'), ('seasonname', 'How I Met Your Mother, season 8')]\n",
      "[('countepisode', '24'), ('seasonname', 'How I Met Your Mother, season 4')]\n",
      "[('countepisode', '24'), ('seasonname', 'How I Met Your Mother, season 5')]\n"
     ]
    },
    {
     "data": {
      "text/plain": [
       "9"
      ]
     },
     "execution_count": 14,
     "metadata": {},
     "output_type": "execute_result"
    }
   ],
   "source": [
    "#Count episodes of a season of HIMYM and show the number of seasons\n",
    "\n",
    "queryString = \"\"\"\n",
    "    SELECT ?countepisode ?seasonname WHERE {\n",
    "      {\n",
    "        SELECT ?season (COUNT (DISTINCT ?episode) AS ?countepisode) \n",
    "        WHERE { \n",
    "            wd:Q147235 wdt:P527 ?season .\n",
    "            ?season wdt:P527 ?episode .\n",
    "\n",
    "                } \n",
    "    GROUP BY ?season\n",
    "    } .\n",
    "     ## labels   \n",
    "    ?season <http://schema.org/name> ?seasonname .\n",
    "    }\n",
    "    ORDER BY (?countepisode) ?seasonname \n",
    "\n",
    "\n",
    "\"\"\"\n",
    "\n",
    "print(\"Results\")\n",
    "run_query(queryString)"
   ]
  },
  {
   "cell_type": "markdown",
   "id": "3b5c90f3-d47a-4dc9-8744-71838bfcaa3c",
   "metadata": {},
   "source": [
    "# Task 2"
   ]
  },
  {
   "cell_type": "markdown",
   "id": "a46e5dc3-f16f-4f33-9669-1a6f7d58da43",
   "metadata": {
    "jp-MarkdownHeadingCollapsed": true,
    "tags": []
   },
   "source": [
    "### Show the name of all the characters of both series, their actors, count the number of the characters and the other occupution every actor has.\n",
    "### filter the acters who are singers too. "
   ]
  },
  {
   "cell_type": "code",
   "execution_count": 15,
   "id": "776cb5f2-1c9e-4513-a2fd-9d93af26aa11",
   "metadata": {},
   "outputs": [
    {
     "name": "stdout",
     "output_type": "stream",
     "text": [
      "Results\n",
      "[('p', 'http://www.wikidata.org/entity/Q5398810'), ('o', 'http://www.wikidata.org/prop/direct/P1423'), ('pname', 'Template:How I Met Your Mother'), ('oname', 'template has topic')]\n",
      "[('p', 'http://www.wikidata.org/entity/Q2332356'), ('o', 'http://www.wikidata.org/prop/direct/P138'), ('pname', 'How I Wet Your Mother'), ('oname', 'named after')]\n",
      "[('p', 'http://www.wikidata.org/entity/Q20385035'), ('o', 'http://www.wikidata.org/prop/direct/P144'), ('pname', 'Ahla Ayam'), ('oname', 'based on')]\n",
      "[('p', 'http://www.wikidata.org/entity/Q4208862'), ('o', 'http://www.wikidata.org/prop/direct/P144'), ('pname', 'How I Met Your Mother'), ('oname', 'based on')]\n",
      "[('p', 'http://www.wikidata.org/entity/Q2347474'), ('o', 'http://www.wikidata.org/prop/direct/P1441'), ('pname', 'Robin Scherbatsky'), ('oname', 'present in work')]\n",
      "[('p', 'http://www.wikidata.org/entity/Q50383228'), ('o', 'http://www.wikidata.org/prop/direct/P1441'), ('pname', 'Don Frank'), ('oname', 'present in work')]\n",
      "[('p', 'http://www.wikidata.org/entity/Q50383236'), ('o', 'http://www.wikidata.org/prop/direct/P1441'), ('pname', 'Kevin Venkataraghavan'), ('oname', 'present in work')]\n",
      "[('p', 'http://www.wikidata.org/entity/Q50383247'), ('o', 'http://www.wikidata.org/prop/direct/P1441'), ('pname', 'Nick Podarutti'), ('oname', 'present in work')]\n",
      "[('p', 'http://www.wikidata.org/entity/Q50384074'), ('o', 'http://www.wikidata.org/prop/direct/P1441'), ('pname', 'Metro News One'), ('oname', 'present in work')]\n",
      "[('p', 'http://www.wikidata.org/entity/Q50384098'), ('o', 'http://www.wikidata.org/prop/direct/P1441'), ('pname', 'World Wide News'), ('oname', 'present in work')]\n"
     ]
    },
    {
     "data": {
      "text/plain": [
       "10"
      ]
     },
     "execution_count": 15,
     "metadata": {},
     "output_type": "execute_result"
    }
   ],
   "source": [
    "# list of all characters in HIMYM\n",
    "# wd:Q147235\n",
    "\n",
    "queryString = \"\"\"\n",
    "SELECT *\n",
    "WHERE { \n",
    "\n",
    "    ?p ?o wd:Q147235 .\n",
    "    # Labels\n",
    "    ?p <http://schema.org/name> ?pname .\n",
    "    ?o <http://schema.org/name> ?oname .\n",
    "    # FILTER regex(?pname, \"name\", \"i\") \n",
    "\n",
    "} \n",
    "LIMIT 10\n",
    "\"\"\"\n",
    "\n",
    "print(\"Results\")\n",
    "run_query(queryString)"
   ]
  },
  {
   "cell_type": "code",
   "execution_count": 16,
   "id": "3a40e62a-0fba-4e39-b84e-a28bbd06b0e8",
   "metadata": {},
   "outputs": [
    {
     "name": "stdout",
     "output_type": "stream",
     "text": [
      "Results\n",
      "[('charactername', 'Robin Scherbatsky')]\n",
      "[('charactername', 'Don Frank')]\n",
      "[('charactername', 'Kevin Venkataraghavan')]\n",
      "[('charactername', 'Nick Podarutti')]\n",
      "[('charactername', 'Metro News One')]\n",
      "[('charactername', 'World Wide News')]\n",
      "[('charactername', 'Genevieve Scherbatsky')]\n",
      "[('charactername', 'Katie Scherbatsky')]\n",
      "[('charactername', 'Max')]\n",
      "[('charactername', 'Scooby Scooberman')]\n",
      "[('charactername', 'Gael')]\n",
      "[('charactername', 'Ted Mosby')]\n",
      "[('charactername', 'Barney Stinson')]\n",
      "[('charactername', 'Doctor John Stangel')]\n",
      "[('charactername', 'Loretta Stinson')]\n",
      "[('charactername', 'Carl MacLaren')]\n",
      "[('charactername', 'The Mother')]\n",
      "[('charactername', \"Ted's son\")]\n",
      "[('charactername', \"Ted's daughter\")]\n",
      "[('charactername', 'Arthur Hobbs')]\n",
      "[('charactername', 'Daphne')]\n",
      "[('charactername', 'James Stinson')]\n",
      "[('charactername', 'Linus')]\n",
      "[('charactername', 'Victoria')]\n",
      "[('charactername', 'Lesbian Robin')]\n",
      "[('charactername', 'Mexican Wrestler Ted')]\n",
      "[('charactername', 'Goliath National Bank')]\n",
      "[('charactername', 'Blah Blah')]\n",
      "[('charactername', 'Carly Whittaker')]\n",
      "[('charactername', 'Jerome Whittaker')]\n"
     ]
    },
    {
     "data": {
      "text/plain": [
       "30"
      ]
     },
     "execution_count": 16,
     "metadata": {},
     "output_type": "execute_result"
    }
   ],
   "source": [
    "# list of all characters in HIMYM\n",
    "# wd:Q147235\n",
    "\n",
    "queryString = \"\"\"\n",
    "SELECT ?charactername\n",
    "WHERE { \n",
    "\n",
    "    ?character ?present wd:Q147235 .\n",
    "    ?character wdt:P1441 wd:Q147235 .\n",
    "    # Labels\n",
    "    ?character <http://schema.org/name> ?charactername .\n",
    "    ?present <http://schema.org/name> ?presentname .\n",
    "\n",
    "} \n",
    "LIMIT 30\n",
    "\"\"\"\n",
    "\n",
    "print(\"Results\")\n",
    "run_query(queryString)\n",
    "\n",
    "\n",
    "\n",
    "\n",
    "\n",
    "\n",
    "### order by number of their episodes"
   ]
  },
  {
   "cell_type": "code",
   "execution_count": 17,
   "id": "65f8086a-21a9-4bea-8463-b9398ab052e9",
   "metadata": {},
   "outputs": [
    {
     "name": "stdout",
     "output_type": "stream",
     "text": [
      "Results\n",
      "[('countcharacter', '114')]\n"
     ]
    },
    {
     "data": {
      "text/plain": [
       "1"
      ]
     },
     "execution_count": 17,
     "metadata": {},
     "output_type": "execute_result"
    }
   ],
   "source": [
    "# Count all characters in HIMYM\n",
    "# wd:Q147235\n",
    "\n",
    "queryString = \"\"\"\n",
    " SELECT (COUNT (DISTINCT ?character) AS ?countcharacter) \n",
    "    WHERE { \n",
    "\n",
    "    ?character ?present wd:Q147235 .\n",
    "    ?character wdt:P1441 wd:Q147235 .\n",
    "    # Labels\n",
    "    ?character <http://schema.org/name> ?charactername .\n",
    "    ?present <http://schema.org/name> ?presentname .\n",
    "\n",
    "    } \n",
    "    LIMIT 30\n",
    "\"\"\"\n",
    "\n",
    "print(\"Results\")\n",
    "run_query(queryString)\n",
    "\n",
    "\n"
   ]
  },
  {
   "cell_type": "code",
   "execution_count": 18,
   "id": "b5acd885-33fa-44a3-8c1f-29dae8d4ef5c",
   "metadata": {},
   "outputs": [
    {
     "name": "stdout",
     "output_type": "stream",
     "text": [
      "Results\n",
      "[('character', 'http://www.wikidata.org/entity/Q2347474'), ('charactername', 'Robin Scherbatsky')]\n",
      "[('character', 'http://www.wikidata.org/entity/Q50383228'), ('charactername', 'Don Frank')]\n",
      "[('character', 'http://www.wikidata.org/entity/Q50383236'), ('charactername', 'Kevin Venkataraghavan')]\n",
      "[('character', 'http://www.wikidata.org/entity/Q50383247'), ('charactername', 'Nick Podarutti')]\n",
      "[('character', 'http://www.wikidata.org/entity/Q50384074'), ('charactername', 'Metro News One')]\n",
      "[('character', 'http://www.wikidata.org/entity/Q50384098'), ('charactername', 'World Wide News')]\n",
      "[('character', 'http://www.wikidata.org/entity/Q50385677'), ('charactername', 'Genevieve Scherbatsky')]\n",
      "[('character', 'http://www.wikidata.org/entity/Q50385690'), ('charactername', 'Katie Scherbatsky')]\n",
      "[('character', 'http://www.wikidata.org/entity/Q50385704'), ('charactername', 'Max')]\n",
      "[('character', 'http://www.wikidata.org/entity/Q50385707'), ('charactername', 'Scooby Scooberman')]\n",
      "[('character', 'http://www.wikidata.org/entity/Q50386077'), ('charactername', 'Gael')]\n",
      "[('character', 'http://www.wikidata.org/entity/Q775254'), ('charactername', 'Ted Mosby')]\n",
      "[('character', 'http://www.wikidata.org/entity/Q838512'), ('charactername', 'Barney Stinson')]\n",
      "[('character', 'http://www.wikidata.org/entity/Q50378104'), ('charactername', 'Doctor John Stangel')]\n",
      "[('character', 'http://www.wikidata.org/entity/Q50383238'), ('charactername', 'Loretta Stinson')]\n",
      "[('character', 'http://www.wikidata.org/entity/Q50383223'), ('charactername', 'Carl MacLaren')]\n",
      "[('character', 'http://www.wikidata.org/entity/Q15362106'), ('charactername', 'The Mother')]\n",
      "[('character', 'http://www.wikidata.org/entity/Q50377928'), ('charactername', \"Ted's son\")]\n",
      "[('character', 'http://www.wikidata.org/entity/Q50377934'), ('charactername', \"Ted's daughter\")]\n",
      "[('character', 'http://www.wikidata.org/entity/Q50383216'), ('charactername', 'Arthur Hobbs')]\n",
      "[('character', 'http://www.wikidata.org/entity/Q50383227'), ('charactername', 'Daphne')]\n",
      "[('character', 'http://www.wikidata.org/entity/Q50383232'), ('charactername', 'James Stinson')]\n",
      "[('character', 'http://www.wikidata.org/entity/Q50383237'), ('charactername', 'Linus')]\n",
      "[('character', 'http://www.wikidata.org/entity/Q50383257'), ('charactername', 'Victoria')]\n",
      "[('character', 'http://www.wikidata.org/entity/Q50383274'), ('charactername', 'Lesbian Robin')]\n",
      "[('character', 'http://www.wikidata.org/entity/Q50383276'), ('charactername', 'Mexican Wrestler Ted')]\n",
      "[('character', 'http://www.wikidata.org/entity/Q50384006'), ('charactername', 'Goliath National Bank')]\n",
      "[('character', 'http://www.wikidata.org/entity/Q50385664'), ('charactername', 'Blah Blah')]\n",
      "[('character', 'http://www.wikidata.org/entity/Q50385667'), ('charactername', 'Carly Whittaker')]\n",
      "[('character', 'http://www.wikidata.org/entity/Q50385684'), ('charactername', 'Jerome Whittaker')]\n"
     ]
    },
    {
     "data": {
      "text/plain": [
       "30"
      ]
     },
     "execution_count": 18,
     "metadata": {},
     "output_type": "execute_result"
    }
   ],
   "source": [
    "# list of all characters in HIMYM\n",
    "# wd:Q147235\n",
    "\n",
    "queryString = \"\"\"\n",
    "SELECT ?character ?charactername\n",
    "WHERE { \n",
    "\n",
    "    ?character wdt:P1441 wd:Q147235 .\n",
    "    # Labels\n",
    "    ?character <http://schema.org/name> ?charactername .\n",
    "\n",
    "\n",
    "} \n",
    "LIMIT 30\n",
    "\"\"\"\n",
    "\n",
    "print(\"Results\")\n",
    "run_query(queryString)\n",
    "\n"
   ]
  },
  {
   "cell_type": "code",
   "execution_count": 19,
   "id": "fa84c551-708d-4f4a-a95b-0099d74e74c7",
   "metadata": {},
   "outputs": [
    {
     "name": "stdout",
     "output_type": "stream",
     "text": [
      "Results\n",
      "[('p', 'http://www.wikidata.org/entity/Q838512'), ('o', 'http://www.wikidata.org/prop/direct/P26'), ('pname', 'Barney Stinson'), ('oname', 'spouse')]\n",
      "[('p', 'http://www.wikidata.org/entity/Q50385690'), ('o', 'http://www.wikidata.org/prop/direct/P3373'), ('pname', 'Katie Scherbatsky'), ('oname', 'sibling')]\n",
      "[('p', 'http://www.wikidata.org/entity/Q50385677'), ('o', 'http://www.wikidata.org/prop/direct/P40'), ('pname', 'Genevieve Scherbatsky'), ('oname', 'child')]\n",
      "[('p', 'http://www.wikidata.org/entity/Q50383251'), ('o', 'http://www.wikidata.org/prop/direct/P40'), ('pname', 'Robin Scherbatsky Sr.'), ('oname', 'child')]\n",
      "[('p', 'http://www.wikidata.org/entity/Q50385707'), ('o', 'http://www.wikidata.org/prop/direct/P451'), ('pname', 'Scooby Scooberman'), ('oname', 'unmarried partner')]\n",
      "[('p', 'http://www.wikidata.org/entity/Q50383247'), ('o', 'http://www.wikidata.org/prop/direct/P451'), ('pname', 'Nick Podarutti'), ('oname', 'unmarried partner')]\n",
      "[('p', 'http://www.wikidata.org/entity/Q775254'), ('o', 'http://www.wikidata.org/prop/direct/P451'), ('pname', 'Ted Mosby'), ('oname', 'unmarried partner')]\n",
      "[('p', 'http://www.wikidata.org/entity/Q50383228'), ('o', 'http://www.wikidata.org/prop/direct/P451'), ('pname', 'Don Frank'), ('oname', 'unmarried partner')]\n",
      "[('p', 'http://www.wikidata.org/entity/Q50383236'), ('o', 'http://www.wikidata.org/prop/direct/P451'), ('pname', 'Kevin Venkataraghavan'), ('oname', 'unmarried partner')]\n",
      "[('p', 'http://www.wikidata.org/entity/Q50386077'), ('o', 'http://www.wikidata.org/prop/direct/P451'), ('pname', 'Gael'), ('oname', 'unmarried partner')]\n"
     ]
    },
    {
     "data": {
      "text/plain": [
       "10"
      ]
     },
     "execution_count": 19,
     "metadata": {},
     "output_type": "execute_result"
    }
   ],
   "source": [
    "# find the relationship between actor and character\n",
    "#[('character', 'http://www.wikidata.org/entity/Q2347474'),\n",
    "# ('charactername', 'Robin Scherbatsky')]\n",
    "\n",
    "queryString = \"\"\"\n",
    "SELECT *\n",
    "WHERE { \n",
    "\n",
    "    ?p ?o wd:Q2347474 .\n",
    "    # Labels\n",
    "    ?p <http://schema.org/name> ?pname .\n",
    "    ?o <http://schema.org/name> ?oname .\n",
    "    # FILTER regex(?pname, \"name\", \"i\") \n",
    "\n",
    "} \n",
    "LIMIT 10\n",
    "\"\"\"\n",
    "\n",
    "print(\"Results\")\n",
    "run_query(queryString)"
   ]
  },
  {
   "cell_type": "code",
   "execution_count": 20,
   "id": "0575fab7-cda0-4126-96f3-bcbbc8ca2193",
   "metadata": {},
   "outputs": [
    {
     "name": "stdout",
     "output_type": "stream",
     "text": [
      "Results\n",
      "[('p', 'http://www.wikidata.org/prop/direct/P175'), ('o', 'http://www.wikidata.org/entity/Q200566'), ('pname', 'performer'), ('oname', 'Cobie Smulders')]\n",
      "[('p', 'http://www.wikidata.org/prop/direct/P1441'), ('o', 'http://www.wikidata.org/entity/Q147235'), ('pname', 'present in work'), ('oname', 'How I Met Your Mother')]\n",
      "[('p', 'http://www.wikidata.org/prop/direct/P31'), ('o', 'http://www.wikidata.org/entity/Q15632617'), ('pname', 'instance of'), ('oname', 'fictional human')]\n",
      "[('p', 'http://www.wikidata.org/prop/direct/P31'), ('o', 'http://www.wikidata.org/entity/Q15773317'), ('pname', 'instance of'), ('oname', 'television character')]\n",
      "[('p', 'http://www.wikidata.org/prop/direct/P27'), ('o', 'http://www.wikidata.org/entity/Q16'), ('pname', 'country of citizenship'), ('oname', 'Canada')]\n",
      "[('p', 'http://www.wikidata.org/prop/direct/P106'), ('o', 'http://www.wikidata.org/entity/Q177220'), ('pname', 'occupation'), ('oname', 'singer')]\n",
      "[('p', 'http://www.wikidata.org/prop/direct/P1412'), ('o', 'http://www.wikidata.org/entity/Q1860'), ('pname', 'languages spoken, written or signed'), ('oname', 'English')]\n",
      "[('p', 'http://www.wikidata.org/prop/direct/P27'), ('o', 'http://www.wikidata.org/entity/Q30'), ('pname', 'country of citizenship'), ('oname', 'United States of America')]\n",
      "[('p', 'http://www.wikidata.org/prop/direct/P21'), ('o', 'http://www.wikidata.org/entity/Q6581072'), ('pname', 'sex or gender'), ('oname', 'female')]\n",
      "[('p', 'http://www.wikidata.org/prop/direct/P735'), ('o', 'http://www.wikidata.org/entity/Q1158139'), ('pname', 'given name'), ('oname', 'Robin')]\n"
     ]
    },
    {
     "data": {
      "text/plain": [
       "10"
      ]
     },
     "execution_count": 20,
     "metadata": {},
     "output_type": "execute_result"
    }
   ],
   "source": [
    "# find the relationship between actor and character\n",
    "#[('character', 'http://www.wikidata.org/entity/Q2347474'),\n",
    "# ('charactername', 'Robin Scherbatsky')]\n",
    "\n",
    "queryString = \"\"\"\n",
    "SELECT *\n",
    "WHERE { \n",
    "\n",
    "    wd:Q2347474 ?p ?o .\n",
    "    # Labels\n",
    "    ?p <http://schema.org/name> ?pname .\n",
    "    ?o <http://schema.org/name> ?oname .\n",
    "    # FILTER regex(?pname, \"name\", \"i\") \n",
    "\n",
    "} \n",
    "LIMIT 10\n",
    "\"\"\"\n",
    "\n",
    "print(\"Results\")\n",
    "run_query(queryString)\n",
    "# performer : P175"
   ]
  },
  {
   "cell_type": "code",
   "execution_count": 21,
   "id": "071de8fc-e399-4d2f-9a71-0ce1f8c47795",
   "metadata": {},
   "outputs": [
    {
     "name": "stdout",
     "output_type": "stream",
     "text": [
      "Results\n",
      "[('actor', 'http://www.wikidata.org/entity/Q200566'), ('actorname', 'Cobie Smulders')]\n"
     ]
    },
    {
     "data": {
      "text/plain": [
       "1"
      ]
     },
     "execution_count": 21,
     "metadata": {},
     "output_type": "execute_result"
    }
   ],
   "source": [
    "# find the relationship between actor and character\n",
    "#[('character', 'http://www.wikidata.org/entity/Q2347474'),\n",
    "# ('charactername', 'Robin Scherbatsky')]\n",
    "\n",
    "queryString = \"\"\"\n",
    "SELECT ?actor ?actorname\n",
    "WHERE { \n",
    "\n",
    "    wd:Q2347474 wdt:P175 ?actor .\n",
    "    # Labels\n",
    "    ?actor <http://schema.org/name> ?actorname .\n",
    "} \n",
    "LIMIT 10\n",
    "\"\"\"\n",
    "\n",
    "print(\"Results\")\n",
    "run_query(queryString)\n",
    "# performer : P175"
   ]
  },
  {
   "cell_type": "code",
   "execution_count": 22,
   "id": "d7adcbe1-a98e-4f40-898a-41d549bdde4a",
   "metadata": {},
   "outputs": [
    {
     "name": "stdout",
     "output_type": "stream",
     "text": [
      "Results\n",
      "[('p', 'http://www.wikidata.org/prop/direct/P735'), ('o', 'http://www.wikidata.org/entity/Q15208593'), ('pname', 'given name'), ('oname', 'Francisca')]\n",
      "[('p', 'http://www.wikidata.org/prop/direct/P735'), ('o', 'http://www.wikidata.org/entity/Q6119607'), ('pname', 'given name'), ('oname', 'Jacoba')]\n",
      "[('p', 'http://www.wikidata.org/prop/direct/P106'), ('o', 'http://www.wikidata.org/entity/Q10798782'), ('pname', 'occupation'), ('oname', 'television actor')]\n",
      "[('p', 'http://www.wikidata.org/prop/direct/P106'), ('o', 'http://www.wikidata.org/entity/Q10800557'), ('pname', 'occupation'), ('oname', 'film actor')]\n",
      "[('p', 'http://www.wikidata.org/prop/direct/P27'), ('o', 'http://www.wikidata.org/entity/Q16'), ('pname', 'country of citizenship'), ('oname', 'Canada')]\n",
      "[('p', 'http://www.wikidata.org/prop/direct/P1412'), ('o', 'http://www.wikidata.org/entity/Q1860'), ('pname', 'languages spoken, written or signed'), ('oname', 'English')]\n",
      "[('p', 'http://www.wikidata.org/prop/direct/P106'), ('o', 'http://www.wikidata.org/entity/Q2259451'), ('pname', 'occupation'), ('oname', 'stage actor')]\n",
      "[('p', 'http://www.wikidata.org/prop/direct/P19'), ('o', 'http://www.wikidata.org/entity/Q24639'), ('pname', 'place of birth'), ('oname', 'Vancouver')]\n",
      "[('p', 'http://www.wikidata.org/prop/direct/P735'), ('o', 'http://www.wikidata.org/entity/Q325872'), ('pname', 'given name'), ('oname', 'Maria')]\n",
      "[('p', 'http://www.wikidata.org/prop/direct/P106'), ('o', 'http://www.wikidata.org/entity/Q4610556'), ('pname', 'occupation'), ('oname', 'model')]\n",
      "[('p', 'http://www.wikidata.org/prop/direct/P31'), ('o', 'http://www.wikidata.org/entity/Q5'), ('pname', 'instance of'), ('oname', 'human')]\n",
      "[('p', 'http://www.wikidata.org/prop/direct/P551'), ('o', 'http://www.wikidata.org/entity/Q65'), ('pname', 'residence'), ('oname', 'Los Angeles')]\n",
      "[('p', 'http://www.wikidata.org/prop/direct/P21'), ('o', 'http://www.wikidata.org/entity/Q6581072'), ('pname', 'sex or gender'), ('oname', 'female')]\n",
      "[('p', 'http://www.wikidata.org/prop/direct/P734'), ('o', 'http://www.wikidata.org/entity/Q2018583'), ('pname', 'family name'), ('oname', 'Smulders')]\n",
      "[('p', 'http://www.wikidata.org/prop/direct/P26'), ('o', 'http://www.wikidata.org/entity/Q2706805'), ('pname', 'spouse'), ('oname', 'Taran Killam')]\n"
     ]
    },
    {
     "data": {
      "text/plain": [
       "15"
      ]
     },
     "execution_count": 22,
     "metadata": {},
     "output_type": "execute_result"
    }
   ],
   "source": [
    "# actor name and finding its occupation\n",
    "#[('actor', 'http://www.wikidata.org/entity/Q200566'),\n",
    "#('actorname', 'Cobie Smulders')]\n",
    "queryString = \"\"\"\n",
    "SELECT *\n",
    "WHERE { \n",
    "\n",
    "    wd:Q200566 ?p ?o .\n",
    "    # Labels\n",
    "    ?p <http://schema.org/name> ?pname .\n",
    "    ?o <http://schema.org/name> ?oname .\n",
    "} \n",
    "LIMIT 100\n",
    "\"\"\"\n",
    "\n",
    "print(\"Results\")\n",
    "run_query(queryString)\n",
    "# occupation : P106"
   ]
  },
  {
   "cell_type": "code",
   "execution_count": 23,
   "id": "4cf47522-bcf4-427c-bd8c-05ab675c4a93",
   "metadata": {},
   "outputs": [
    {
     "name": "stdout",
     "output_type": "stream",
     "text": [
      "Results\n",
      "[('occupationname', 'television actor')]\n",
      "[('occupationname', 'film actor')]\n",
      "[('occupationname', 'stage actor')]\n",
      "[('occupationname', 'model')]\n"
     ]
    },
    {
     "data": {
      "text/plain": [
       "4"
      ]
     },
     "execution_count": 23,
     "metadata": {},
     "output_type": "execute_result"
    }
   ],
   "source": [
    "# actor name and finding its occupation\n",
    "#[('actor', 'http://www.wikidata.org/entity/Q200566'),\n",
    "#('actorname', 'Cobie Smulders')]\n",
    "queryString = \"\"\"\n",
    "SELECT ?occupationname\n",
    "WHERE { \n",
    "\n",
    "    wd:Q200566 wdt:P106 ?occupation .\n",
    "    # Labels\n",
    "    ?occupation <http://schema.org/name> ?occupationname .\n",
    "} \n",
    "LIMIT 100\n",
    "\"\"\"\n",
    "\n",
    "print(\"Results\")\n",
    "run_query(queryString)\n",
    "# occupation : P106"
   ]
  },
  {
   "cell_type": "markdown",
   "id": "cc3b26c4-41e8-4686-bcb2-327da38f0517",
   "metadata": {},
   "source": [
    "### HOW I MET YOUR MOTHER"
   ]
  },
  {
   "cell_type": "code",
   "execution_count": 24,
   "id": "c48c499e-7bed-4604-9d5c-bd45c6c25e99",
   "metadata": {},
   "outputs": [
    {
     "name": "stdout",
     "output_type": "stream",
     "text": [
      "Results\n",
      "[('charactername', 'Robin Scherbatsky'), ('actorname', 'Cobie Smulders')]\n",
      "[('charactername', 'Don Frank'), ('actorname', 'Benjamin Koldyke')]\n",
      "[('charactername', 'Kevin Venkataraghavan'), ('actorname', 'Kal Penn')]\n",
      "[('charactername', 'Nick Podarutti'), ('actorname', 'Michael Trucco')]\n",
      "[('charactername', 'Genevieve Scherbatsky'), ('actorname', 'Tracey Ullman')]\n",
      "[('charactername', 'Katie Scherbatsky'), ('actorname', 'Lucy Hale')]\n",
      "[('charactername', 'Katie Scherbatsky'), ('actorname', 'Pamela Darling')]\n",
      "[('charactername', 'Max'), ('actorname', 'Geoff Stults')]\n",
      "[('charactername', 'Scooby Scooberman'), ('actorname', 'Robbie Amell')]\n",
      "[('charactername', 'Gael'), ('actorname', 'Enrique Iglesias')]\n",
      "[('charactername', 'Ted Mosby'), ('actorname', 'Josh Radnor')]\n",
      "[('charactername', 'Barney Stinson'), ('actorname', 'Neil Patrick Harris')]\n",
      "[('charactername', 'Doctor John Stangel'), ('actorname', 'Neil Patrick Harris')]\n",
      "[('charactername', 'Loretta Stinson'), ('actorname', 'Frances Conroy')]\n",
      "[('charactername', 'Carl MacLaren'), ('actorname', 'Joe Nieves')]\n",
      "[('charactername', 'The Mother'), ('actorname', 'Cristin Milioti')]\n",
      "[('charactername', \"Ted's son\"), ('actorname', 'David Henrie')]\n",
      "[('charactername', \"Ted's daughter\"), ('actorname', 'Lyndsy Fonseca')]\n",
      "[('charactername', 'Arthur Hobbs'), ('actorname', 'Bob Odenkirk')]\n",
      "[('charactername', 'Daphne'), ('actorname', 'Sherri Shepherd')]\n",
      "[('charactername', 'James Stinson'), ('actorname', 'Wayne Brady')]\n",
      "[('charactername', 'Linus'), ('actorname', 'Robert Belushi')]\n",
      "[('charactername', 'Victoria'), ('actorname', 'Ashley Williams')]\n",
      "[('charactername', 'Lesbian Robin'), ('actorname', 'Cobie Smulders')]\n",
      "[('charactername', 'Mexican Wrestler Ted'), ('actorname', 'Josh Radnor')]\n",
      "[('charactername', 'Blah Blah'), ('actorname', 'Abigail Spencer')]\n",
      "[('charactername', 'Carly Whittaker'), ('actorname', 'Ashley Benson')]\n",
      "[('charactername', 'Jerome Whittaker'), ('actorname', 'John Lithgow')]\n",
      "[('charactername', 'Klaus'), ('actorname', 'Thomas Lennon')]\n",
      "[('charactername', 'Naomi'), ('actorname', 'Katie Holmes')]\n"
     ]
    },
    {
     "data": {
      "text/plain": [
       "30"
      ]
     },
     "execution_count": 24,
     "metadata": {},
     "output_type": "execute_result"
    }
   ],
   "source": [
    "# Show the name of all the characters of both series, their actors,\n",
    "# \n",
    "\n",
    "queryString = \"\"\"\n",
    "SELECT ?charactername ?actorname\n",
    "WHERE { \n",
    "\n",
    "    ?character wdt:P1441 wd:Q147235 .\n",
    "    ?character wdt:P175 ?actor .\n",
    "    # Labels\n",
    "    ?actor <http://schema.org/name> ?actorname .\n",
    "    ?character <http://schema.org/name> ?charactername .\n",
    "    \n",
    "} \n",
    "LIMIT 30\n",
    "\"\"\"\n",
    "\n",
    "print(\"Results\")\n",
    "run_query(queryString)\n"
   ]
  },
  {
   "cell_type": "code",
   "execution_count": 25,
   "id": "54bfacd5-4ac8-4716-84c6-d073e0e3f5b9",
   "metadata": {},
   "outputs": [
    {
     "name": "stdout",
     "output_type": "stream",
     "text": [
      "Results\n",
      "[('countcharacter', '109')]\n"
     ]
    },
    {
     "data": {
      "text/plain": [
       "1"
      ]
     },
     "execution_count": 25,
     "metadata": {},
     "output_type": "execute_result"
    }
   ],
   "source": [
    "# Show the name of all the characters of both series, their actors,\n",
    "# count the number of the characters \n",
    "\n",
    "queryString = \"\"\"\n",
    "SELECT (COUNT (DISTINCT ?character) AS ?countcharacter) \n",
    "WHERE { \n",
    "\n",
    "    ?character wdt:P1441 wd:Q147235 .\n",
    "    ?character wdt:P175 ?actor .\n",
    "    # Labels\n",
    "    ?actor <http://schema.org/name> ?actorname .\n",
    "    ?character <http://schema.org/name> ?charactername .\n",
    "    \n",
    "} \n",
    "\n",
    "\"\"\"\n",
    "\n",
    "print(\"Results\")\n",
    "run_query(queryString)\n"
   ]
  },
  {
   "cell_type": "code",
   "execution_count": 26,
   "id": "dedd1104-771f-4f0e-b1d6-c6200dc9e9fe",
   "metadata": {},
   "outputs": [
    {
     "name": "stdout",
     "output_type": "stream",
     "text": [
      "Results\n",
      "[('charactername', \"'Crazy' Meg\"), ('actorname', 'April Bowlby'), ('occupationname', 'television actor')]\n",
      "[('charactername', \"'Crazy' Meg\"), ('actorname', 'April Bowlby'), ('occupationname', 'film actor')]\n",
      "[('charactername', \"'Crazy' Meg\"), ('actorname', 'April Bowlby'), ('occupationname', 'actor')]\n",
      "[('charactername', 'Abby'), ('actorname', 'Britney Spears'), ('occupationname', 'television actor')]\n",
      "[('charactername', 'Abby'), ('actorname', 'Britney Spears'), ('occupationname', 'film actor')]\n",
      "[('charactername', 'Abby'), ('actorname', 'Britney Spears'), ('occupationname', 'manufacturer')]\n",
      "[('charactername', 'Abby'), ('actorname', 'Britney Spears'), ('occupationname', 'singer')]\n",
      "[('charactername', 'Abby'), ('actorname', 'Britney Spears'), ('occupationname', 'record producer')]\n",
      "[('charactername', 'Abby'), ('actorname', 'Britney Spears'), ('occupationname', 'stage actor')]\n",
      "[('charactername', 'Abby'), ('actorname', 'Britney Spears'), ('occupationname', 'music video director')]\n",
      "[('charactername', 'Abby'), ('actorname', 'Britney Spears'), ('occupationname', 'screenwriter')]\n",
      "[('charactername', 'Abby'), ('actorname', 'Britney Spears'), ('occupationname', 'writer')]\n",
      "[('charactername', 'Abby'), ('actorname', 'Britney Spears'), ('occupationname', 'composer')]\n",
      "[('charactername', 'Abby'), ('actorname', 'Britney Spears'), ('occupationname', 'businessperson')]\n",
      "[('charactername', 'Abby'), ('actorname', 'Britney Spears'), ('occupationname', 'model')]\n",
      "[('charactername', 'Abby'), ('actorname', 'Britney Spears'), ('occupationname', 'singer-songwriter')]\n",
      "[('charactername', 'Abby'), ('actorname', 'Britney Spears'), ('occupationname', 'musician')]\n",
      "[('charactername', 'Abby'), ('actorname', 'Britney Spears'), ('occupationname', 'songwriter')]\n",
      "[('charactername', 'Abby'), ('actorname', 'Britney Spears'), ('occupationname', 'fashion designer')]\n",
      "[('charactername', 'Abby'), ('actorname', 'Britney Spears'), ('occupationname', 'dancer')]\n",
      "[('charactername', 'Abby'), ('actorname', 'Britney Spears'), ('occupationname', 'presenter')]\n",
      "[('charactername', 'Abby'), ('actorname', 'Britney Spears'), ('occupationname', 'public figure')]\n",
      "[('charactername', 'Abby'), ('actorname', 'Britney Spears'), ('occupationname', 'perfumer')]\n",
      "[('charactername', 'Abby'), ('actorname', 'Britney Spears'), ('occupationname', 'child singer')]\n",
      "[('charactername', 'Alfred Mosby'), ('actorname', 'Michael Gross'), ('occupationname', 'television actor')]\n",
      "[('charactername', 'Alfred Mosby'), ('actorname', 'Michael Gross'), ('occupationname', 'film actor')]\n",
      "[('charactername', 'Alfred Mosby'), ('actorname', 'Michael Gross'), ('occupationname', 'stage actor')]\n",
      "[('charactername', 'Alfred Mosby'), ('actorname', 'Michael Gross'), ('occupationname', 'voice actor')]\n",
      "[('charactername', 'Alfred Mosby'), ('actorname', 'Michael Gross'), ('occupationname', 'actor')]\n",
      "[('charactername', 'Alfred Mosby'), ('actorname', 'Michael Gross'), ('occupationname', 'model railroader')]\n"
     ]
    },
    {
     "data": {
      "text/plain": [
       "30"
      ]
     },
     "execution_count": 26,
     "metadata": {},
     "output_type": "execute_result"
    }
   ],
   "source": [
    "# Show the name of all the characters of both series, their actors\n",
    "# and the other occupution every actor has.\n",
    "\n",
    "queryString = \"\"\"\n",
    "SELECT ?charactername ?actorname ?occupationname\n",
    "WHERE { \n",
    "\n",
    "    ?character wdt:P1441 wd:Q147235 .\n",
    "    ?character wdt:P175 ?actor .\n",
    "    ?actor wdt:P106 ?occupation .\n",
    "    # Labels\n",
    "    ?actor <http://schema.org/name> ?actorname .\n",
    "    ?character <http://schema.org/name> ?charactername .\n",
    "    ?occupation <http://schema.org/name> ?occupationname .\n",
    "\n",
    "} \n",
    "ORDER BY ?charactername\n",
    "LIMIT 30\n",
    "\"\"\"\n",
    "\n",
    "print(\"Results\")\n",
    "run_query(queryString)\n",
    "\n"
   ]
  },
  {
   "cell_type": "markdown",
   "id": "56576147-3239-46cd-a0fc-26b38ed815ad",
   "metadata": {
    "tags": []
   },
   "source": [
    "## Singers"
   ]
  },
  {
   "cell_type": "code",
   "execution_count": 27,
   "id": "0322f6da-1f6d-4635-bf8c-683569a67fb4",
   "metadata": {},
   "outputs": [
    {
     "name": "stdout",
     "output_type": "stream",
     "text": [
      "Results\n",
      "[('charactername', 'Abby'), ('actorname', 'Britney Spears'), ('occupationname', 'singer')]\n",
      "[('charactername', 'Abby'), ('actorname', 'Britney Spears'), ('occupationname', 'singer-songwriter')]\n",
      "[('charactername', 'Abby'), ('actorname', 'Britney Spears'), ('occupationname', 'child singer')]\n",
      "[('charactername', 'Amy'), ('actorname', 'Mandy Moore'), ('occupationname', 'singer')]\n",
      "[('charactername', 'Amy'), ('actorname', 'Mandy Moore'), ('occupationname', 'singer-songwriter')]\n",
      "[('charactername', 'Anita Appleby'), ('actorname', 'Jennifer Lopez'), ('occupationname', 'singer-songwriter')]\n",
      "[('charactername', 'Barney Stinson'), ('actorname', 'Neil Patrick Harris'), ('occupationname', 'singer')]\n",
      "[('charactername', 'Becky'), ('actorname', 'Laura Bell Bundy'), ('occupationname', 'singer')]\n",
      "[('charactername', 'Cathy'), ('actorname', 'Lindsay Price'), ('occupationname', 'singer')]\n",
      "[('charactername', 'Coat-Check Girl'), ('actorname', 'Jayma Mays'), ('occupationname', 'singer')]\n",
      "[('charactername', 'Darren'), ('actorname', 'Andrew Rannells'), ('occupationname', 'singer')]\n",
      "[('charactername', 'Doctor John Stangel'), ('actorname', 'Neil Patrick Harris'), ('occupationname', 'singer')]\n",
      "[('charactername', 'Dr. Sonya'), ('actorname', 'Vicki Lewis'), ('occupationname', 'singer')]\n",
      "[('charactername', 'Gael'), ('actorname', 'Enrique Iglesias'), ('occupationname', 'singer-songwriter')]\n",
      "[('charactername', 'Garrison Cootes'), ('actorname', 'Martin Short'), ('occupationname', 'singer')]\n",
      "[('charactername', 'Genevieve Scherbatsky'), ('actorname', 'Tracey Ullman'), ('occupationname', 'singer')]\n",
      "[('charactername', 'Genevieve Scherbatsky'), ('actorname', 'Tracey Ullman'), ('occupationname', 'singer-songwriter')]\n",
      "[('charactername', 'Honey'), ('actorname', 'Katy Perry'), ('occupationname', 'singer-songwriter')]\n",
      "[('charactername', 'James Stinson'), ('actorname', 'Wayne Brady'), ('occupationname', 'singer')]\n",
      "[('charactername', 'Jeanette Peterson'), ('actorname', 'Abby Elliott'), ('occupationname', 'singer')]\n",
      "[('charactername', 'Jefferson Coatsworth'), ('actorname', 'John Cho'), ('occupationname', 'singer')]\n",
      "[('charactername', 'Jenkins'), ('actorname', 'Amanda Peet'), ('occupationname', 'singer')]\n",
      "[('charactername', 'Jessica Glitter'), ('actorname', 'Nicole Scherzinger'), ('occupationname', 'singer')]\n",
      "[('charactername', 'Jessica Glitter'), ('actorname', 'Nicole Scherzinger'), ('occupationname', 'singer-songwriter')]\n",
      "[('charactername', 'Judy Eriksen'), ('actorname', 'Suzie Plakson'), ('occupationname', 'singer')]\n",
      "[('charactername', 'Katie Scherbatsky'), ('actorname', 'Lucy Hale'), ('occupationname', 'singer')]\n",
      "[('charactername', 'Professor Vinick'), ('actorname', 'Peter Gallagher'), ('occupationname', 'singer')]\n",
      "[('charactername', 'Sam Gibbs'), ('actorname', 'Ben Vereen'), ('occupationname', 'singer')]\n",
      "[('charactername', 'The Mother'), ('actorname', 'Cristin Milioti'), ('occupationname', 'singer')]\n",
      "[('charactername', 'Tiffany'), ('actorname', 'Carrie Underwood'), ('occupationname', 'singer')]\n"
     ]
    },
    {
     "data": {
      "text/plain": [
       "30"
      ]
     },
     "execution_count": 27,
     "metadata": {},
     "output_type": "execute_result"
    }
   ],
   "source": [
    "# Show the name of all the characters of both series, their actors\n",
    "# and the other occupution every actor has.\n",
    "\n",
    "queryString = \"\"\"\n",
    "SELECT ?charactername ?actorname ?occupationname\n",
    "WHERE { \n",
    "\n",
    "    ?character wdt:P1441 wd:Q147235 .\n",
    "    ?character wdt:P175 ?actor .\n",
    "    ?actor wdt:P106 ?occupation .\n",
    "    # Labels\n",
    "    ?actor <http://schema.org/name> ?actorname .\n",
    "    ?character <http://schema.org/name> ?charactername .\n",
    "    ?occupation <http://schema.org/name> ?occupationname .\n",
    "    FILTER regex(?occupationname, \"singer\", \"i\") \n",
    "} \n",
    "ORDER BY ?charactername\n",
    "LIMIT 30\n",
    "\"\"\"\n",
    "\n",
    "print(\"Results\")\n",
    "run_query(queryString)\n",
    "\n"
   ]
  },
  {
   "cell_type": "markdown",
   "id": "304d3809-0c7d-483c-9db4-b026975df101",
   "metadata": {},
   "source": [
    "### The office "
   ]
  },
  {
   "cell_type": "code",
   "execution_count": 28,
   "id": "d9472670-5f6b-4fc9-a147-5d7573edb831",
   "metadata": {},
   "outputs": [
    {
     "name": "stdout",
     "output_type": "stream",
     "text": [
      "Results\n",
      "[('charactername', 'Ryan Howard'), ('actorname', 'B. J. Novak')]\n",
      "[('charactername', 'Jim Halpert'), ('actorname', 'John Krasinski')]\n",
      "[('charactername', 'Pam Halpert'), ('actorname', 'Jenna Fischer')]\n",
      "[('charactername', 'Michael Scott'), ('actorname', 'Steve Carell')]\n",
      "[('charactername', 'Dwight Schrute'), ('actorname', 'Rainn Wilson')]\n",
      "[('charactername', 'Andy Bernard'), ('actorname', 'Ed Helms')]\n",
      "[('charactername', 'Jan Levinson'), ('actorname', 'Melora Hardin')]\n",
      "[('charactername', 'Robert California'), ('actorname', 'James Spader')]\n",
      "[('charactername', 'Erin Hannon'), ('actorname', 'Ellie Kemper')]\n",
      "[('charactername', 'Kelly Kapoor'), ('actorname', 'Mindy Kaling')]\n",
      "[('charactername', 'Kevin Malone'), ('actorname', 'Brian Baumgartner')]\n",
      "[('charactername', 'Meredith Palmer'), ('actorname', 'Henriette Mantel')]\n",
      "[('charactername', 'Roy Anderson'), ('actorname', 'David Denman')]\n",
      "[('charactername', 'Michael Scarn'), ('actorname', 'Steve Carell')]\n",
      "[('charactername', 'Mose Schrute'), ('actorname', 'Michael Schur')]\n",
      "[('charactername', 'Angela Martin'), ('actorname', 'Angela Kinsey')]\n",
      "[('charactername', 'Toby Flenderson'), ('actorname', 'Paul Lieberstein')]\n",
      "[('charactername', 'Oscar Martinez'), ('actorname', 'Oscar Nunez')]\n",
      "[('charactername', 'Creed Bratton'), ('actorname', 'Creed Bratton')]\n",
      "[('charactername', 'Samuel L. Chang'), ('actorname', 'Rainn Wilson')]\n",
      "[('charactername', 'Clark Green'), ('actorname', 'Clark Duke')]\n",
      "[('charactername', 'Darryl Philbin'), ('actorname', 'Craig Robinson')]\n",
      "[('charactername', 'Phyllis Lapin-Vance'), ('actorname', 'Phyllis Smith')]\n",
      "[('charactername', 'Goldenface'), ('actorname', 'John Krasinski')]\n",
      "[('charactername', 'Deangelo Vickers'), ('actorname', 'Will Ferrell')]\n",
      "[('charactername', 'Holly Flax'), ('actorname', 'Amy Ryan')]\n",
      "[('charactername', 'Stanley Hudson'), ('actorname', 'Leslie David Baker')]\n",
      "[('charactername', 'President Jackson'), ('actorname', 'Craig Robinson')]\n",
      "[('charactername', 'Todd Packer'), ('actorname', 'David Koechner')]\n",
      "[('charactername', 'Gabe Lewis'), ('actorname', 'Zach Woods')]\n"
     ]
    },
    {
     "data": {
      "text/plain": [
       "30"
      ]
     },
     "execution_count": 28,
     "metadata": {},
     "output_type": "execute_result"
    }
   ],
   "source": [
    "# Show the name of all the characters of both series, their actors,\n",
    "# \n",
    "\n",
    "queryString = \"\"\"\n",
    "SELECT ?charactername ?actorname\n",
    "WHERE { \n",
    "\n",
    "    ?character wdt:P1441 wd:Q23831 .\n",
    "    ?character wdt:P175 ?actor .\n",
    "    # Labels\n",
    "    ?actor <http://schema.org/name> ?actorname .\n",
    "    ?character <http://schema.org/name> ?charactername .\n",
    "    \n",
    "\n",
    "\n",
    "} \n",
    "LIMIT 30\n",
    "\"\"\"\n",
    "\n",
    "print(\"Results\")\n",
    "run_query(queryString)\n"
   ]
  },
  {
   "cell_type": "code",
   "execution_count": 29,
   "id": "5a2e2416-3b66-4a37-a4c1-2b85a2525503",
   "metadata": {},
   "outputs": [
    {
     "name": "stdout",
     "output_type": "stream",
     "text": [
      "Results\n",
      "[('countcharacter', '33')]\n"
     ]
    },
    {
     "data": {
      "text/plain": [
       "1"
      ]
     },
     "execution_count": 29,
     "metadata": {},
     "output_type": "execute_result"
    }
   ],
   "source": [
    "\n",
    "# Show the name of all the characters of both series, their actors,\n",
    "# count the number of the characters \n",
    "\n",
    "queryString = \"\"\"\n",
    "SELECT (COUNT (DISTINCT ?character) AS ?countcharacter) \n",
    "WHERE { \n",
    "\n",
    "    ?character wdt:P1441 wd:Q23831 .\n",
    "    ?character wdt:P175 ?actor .\n",
    "    # Labels\n",
    "    ?actor <http://schema.org/name> ?actorname .\n",
    "    ?character <http://schema.org/name> ?charactername .\n",
    "    \n",
    "} \n",
    "\n",
    "\"\"\"\n",
    "\n",
    "print(\"Results\")\n",
    "run_query(queryString)"
   ]
  },
  {
   "cell_type": "code",
   "execution_count": 30,
   "id": "80472c67-767a-4da2-83d2-48db3cf61b35",
   "metadata": {},
   "outputs": [
    {
     "name": "stdout",
     "output_type": "stream",
     "text": [
      "Results\n",
      "[('charactername', 'Andy Bernard'), ('actorname', 'Ed Helms'), ('occupationname', 'banjoist')]\n",
      "[('charactername', 'Andy Bernard'), ('actorname', 'Ed Helms'), ('occupationname', 'television actor')]\n",
      "[('charactername', 'Andy Bernard'), ('actorname', 'Ed Helms'), ('occupationname', 'film actor')]\n",
      "[('charactername', 'Andy Bernard'), ('actorname', 'Ed Helms'), ('occupationname', 'voice actor')]\n",
      "[('charactername', 'Andy Bernard'), ('actorname', 'Ed Helms'), ('occupationname', 'comedian')]\n",
      "[('charactername', 'Andy Bernard'), ('actorname', 'Ed Helms'), ('occupationname', 'screenwriter')]\n",
      "[('charactername', 'Andy Bernard'), ('actorname', 'Ed Helms'), ('occupationname', 'character actor')]\n",
      "[('charactername', 'Angela Martin'), ('actorname', 'Angela Kinsey'), ('occupationname', 'television actor')]\n",
      "[('charactername', 'Angela Martin'), ('actorname', 'Angela Kinsey'), ('occupationname', 'film actor')]\n",
      "[('charactername', 'Angela Martin'), ('actorname', 'Angela Kinsey'), ('occupationname', 'podcaster')]\n",
      "[('charactername', 'Angela Martin'), ('actorname', 'Angela Kinsey'), ('occupationname', 'actor')]\n",
      "[('charactername', 'Clark Green'), ('actorname', 'Clark Duke'), ('occupationname', 'television actor')]\n",
      "[('charactername', 'Clark Green'), ('actorname', 'Clark Duke'), ('occupationname', 'film actor')]\n",
      "[('charactername', 'Clark Green'), ('actorname', 'Clark Duke'), ('occupationname', 'voice actor')]\n",
      "[('charactername', 'Clark Green'), ('actorname', 'Clark Duke'), ('occupationname', 'film director')]\n",
      "[('charactername', 'Clark Green'), ('actorname', 'Clark Duke'), ('occupationname', 'actor')]\n",
      "[('charactername', 'Creed Bratton'), ('actorname', 'Creed Bratton'), ('occupationname', 'television actor')]\n",
      "[('charactername', 'Creed Bratton'), ('actorname', 'Creed Bratton'), ('occupationname', 'actor')]\n",
      "[('charactername', 'Creed Bratton'), ('actorname', 'Creed Bratton'), ('occupationname', 'singer-songwriter')]\n",
      "[('charactername', 'Creed Bratton'), ('actorname', 'Creed Bratton'), ('occupationname', 'guitarist')]\n",
      "[('charactername', 'Darryl Philbin'), ('actorname', 'Craig Robinson'), ('occupationname', 'television actor')]\n",
      "[('charactername', 'Darryl Philbin'), ('actorname', 'Craig Robinson'), ('occupationname', 'film actor')]\n",
      "[('charactername', 'Darryl Philbin'), ('actorname', 'Craig Robinson'), ('occupationname', 'singer')]\n",
      "[('charactername', 'Darryl Philbin'), ('actorname', 'Craig Robinson'), ('occupationname', 'voice actor')]\n",
      "[('charactername', 'Darryl Philbin'), ('actorname', 'Craig Robinson'), ('occupationname', 'actor')]\n",
      "[('charactername', 'David Wallace'), ('actorname', 'Andy Buckley'), ('occupationname', 'stockbroker')]\n",
      "[('charactername', 'David Wallace'), ('actorname', 'Andy Buckley'), ('occupationname', 'television actor')]\n",
      "[('charactername', 'David Wallace'), ('actorname', 'Andy Buckley'), ('occupationname', 'film actor')]\n",
      "[('charactername', 'David Wallace'), ('actorname', 'Andy Buckley'), ('occupationname', 'actor')]\n",
      "[('charactername', 'Deangelo Vickers'), ('actorname', 'Will Ferrell'), ('occupationname', 'television actor')]\n"
     ]
    },
    {
     "data": {
      "text/plain": [
       "30"
      ]
     },
     "execution_count": 30,
     "metadata": {},
     "output_type": "execute_result"
    }
   ],
   "source": [
    "# Show the name of all the characters of both series, their actors\n",
    "# and the other occupution every actor has.\n",
    "\n",
    "queryString = \"\"\"\n",
    "SELECT ?charactername ?actorname ?occupationname\n",
    "WHERE { \n",
    "\n",
    "    ?character wdt:P1441 wd:Q23831 .\n",
    "    ?character wdt:P175 ?actor .\n",
    "    ?actor wdt:P106 ?occupation .\n",
    "    # Labels\n",
    "    ?actor <http://schema.org/name> ?actorname .\n",
    "    ?character <http://schema.org/name> ?charactername .\n",
    "    ?occupation <http://schema.org/name> ?occupationname .\n",
    "\n",
    "} \n",
    "ORDER BY ?charactername\n",
    "LIMIT 30\n",
    "\"\"\"\n",
    "\n",
    "print(\"Results\")\n",
    "run_query(queryString)\n",
    "\n"
   ]
  },
  {
   "cell_type": "code",
   "execution_count": 31,
   "id": "ddc79972-dd4f-4105-a9a7-dac2416ec729",
   "metadata": {},
   "outputs": [
    {
     "name": "stdout",
     "output_type": "stream",
     "text": [
      "Results\n",
      "[('charactername', 'Creed Bratton'), ('actorname', 'Creed Bratton'), ('occupationname', 'singer-songwriter')]\n",
      "[('charactername', 'Darryl Philbin'), ('actorname', 'Craig Robinson'), ('occupationname', 'singer')]\n",
      "[('charactername', 'Jan Levinson'), ('actorname', 'Melora Hardin'), ('occupationname', 'singer')]\n",
      "[('charactername', 'President Jackson'), ('actorname', 'Craig Robinson'), ('occupationname', 'singer')]\n",
      "[('charactername', 'Todd Packer'), ('actorname', 'David Koechner'), ('occupationname', 'singer')]\n"
     ]
    },
    {
     "data": {
      "text/plain": [
       "5"
      ]
     },
     "execution_count": 31,
     "metadata": {},
     "output_type": "execute_result"
    }
   ],
   "source": [
    "# Show the name of all the characters of both series, their actors\n",
    "# and the other occupution every actor has.\n",
    "\n",
    "queryString = \"\"\"\n",
    "SELECT ?charactername ?actorname ?occupationname\n",
    "WHERE { \n",
    "\n",
    "    ?character wdt:P1441 wd:Q23831 .\n",
    "    ?character wdt:P175 ?actor .\n",
    "    ?actor wdt:P106 ?occupation .\n",
    "    # Labels\n",
    "    ?actor <http://schema.org/name> ?actorname .\n",
    "    ?character <http://schema.org/name> ?charactername .\n",
    "    ?occupation <http://schema.org/name> ?occupationname .\n",
    "    FILTER regex(?occupationname, \"singer\", \"i\") \n",
    "\n",
    "} \n",
    "ORDER BY ?charactername\n",
    "LIMIT 30\n",
    "\"\"\"\n",
    "\n",
    "print(\"Results\")\n",
    "run_query(queryString)\n",
    "\n"
   ]
  },
  {
   "cell_type": "markdown",
   "id": "9be50cd8-11df-4bb6-a09c-cc10f74b4dbd",
   "metadata": {},
   "source": [
    "# Task 3"
   ]
  },
  {
   "cell_type": "markdown",
   "id": "25d1cc50-c81e-4fe4-b9fa-d02b3aff6904",
   "metadata": {
    "tags": []
   },
   "source": [
    "## Find the movies of the actors of each series."
   ]
  },
  {
   "cell_type": "code",
   "execution_count": 32,
   "id": "9e93af11-05b4-4bac-86a6-d36b6403be40",
   "metadata": {},
   "outputs": [
    {
     "name": "stdout",
     "output_type": "stream",
     "text": [
      "Results\n",
      "[('p', 'http://www.wikidata.org/entity/Q65070140'), ('o', 'http://www.wikidata.org/prop/direct/P161'), ('pname', 'Stumptown'), ('oname', 'cast member')]\n",
      "[('p', 'http://www.wikidata.org/entity/Q51963292'), ('o', 'http://www.wikidata.org/prop/direct/P161'), ('pname', 'Marvel Cinematic Universe Phase One'), ('oname', 'cast member')]\n",
      "[('p', 'http://www.wikidata.org/entity/Q63405798'), ('o', 'http://www.wikidata.org/prop/direct/P161'), ('pname', 'The Infinity Saga'), ('oname', 'cast member')]\n",
      "[('p', 'http://www.wikidata.org/entity/Q147235'), ('o', 'http://www.wikidata.org/prop/direct/P161'), ('pname', 'How I Met Your Mother'), ('oname', 'cast member')]\n",
      "[('p', 'http://www.wikidata.org/entity/Q5264968'), ('o', 'http://www.wikidata.org/prop/direct/P161'), ('pname', 'Desperation Day'), ('oname', 'cast member')]\n",
      "[('p', 'http://www.wikidata.org/entity/Q5521981'), ('o', 'http://www.wikidata.org/prop/direct/P161'), ('pname', 'Garbage Island'), ('oname', 'cast member')]\n",
      "[('p', 'http://www.wikidata.org/entity/Q7080458'), ('o', 'http://www.wikidata.org/prop/direct/P161'), ('pname', 'Oh Honey'), ('oname', 'cast member')]\n",
      "[('p', 'http://www.wikidata.org/entity/Q5888848'), ('o', 'http://www.wikidata.org/prop/direct/P161'), ('pname', 'Home Wreckers'), ('oname', 'cast member')]\n",
      "[('p', 'http://www.wikidata.org/entity/Q7858076'), ('o', 'http://www.wikidata.org/prop/direct/P161'), ('pname', 'Twin Beds'), ('oname', 'cast member')]\n",
      "[('p', 'http://www.wikidata.org/entity/Q8074081'), ('o', 'http://www.wikidata.org/prop/direct/P161'), ('pname', 'Zoo or False'), ('oname', 'cast member')]\n"
     ]
    },
    {
     "data": {
      "text/plain": [
       "10"
      ]
     },
     "execution_count": 32,
     "metadata": {},
     "output_type": "execute_result"
    }
   ],
   "source": [
    "# actor name and finding its occupation\n",
    "#[('actor', 'http://www.wikidata.org/entity/Q200566'),\n",
    "#('actorname', 'Cobie Smulders')]\n",
    "queryString = \"\"\"\n",
    "SELECT *\n",
    "WHERE { \n",
    "\n",
    "     ?p ?o wd:Q200566 .\n",
    "    # Labels\n",
    "    ?p <http://schema.org/name> ?pname .\n",
    "    ?o <http://schema.org/name> ?oname .\n",
    "} \n",
    "LIMIT 10\n",
    "\"\"\"\n",
    "\n",
    "print(\"Results\")\n",
    "run_query(queryString)\n",
    "# find the movies of the actor and count them "
   ]
  },
  {
   "cell_type": "code",
   "execution_count": 33,
   "id": "3ff40685-3c90-4106-8eaf-1f1637a00123",
   "metadata": {},
   "outputs": [
    {
     "name": "stdout",
     "output_type": "stream",
     "text": [
      "Results\n",
      "[('p', 'http://www.wikidata.org/entity/Q65070140'), ('o', 'http://www.wikidata.org/prop/direct/P161'), ('pname', 'Stumptown'), ('oname', 'cast member')]\n",
      "[('p', 'http://www.wikidata.org/entity/Q51963292'), ('o', 'http://www.wikidata.org/prop/direct/P161'), ('pname', 'Marvel Cinematic Universe Phase One'), ('oname', 'cast member')]\n",
      "[('p', 'http://www.wikidata.org/entity/Q63405798'), ('o', 'http://www.wikidata.org/prop/direct/P161'), ('pname', 'The Infinity Saga'), ('oname', 'cast member')]\n",
      "[('p', 'http://www.wikidata.org/entity/Q147235'), ('o', 'http://www.wikidata.org/prop/direct/P161'), ('pname', 'How I Met Your Mother'), ('oname', 'cast member')]\n",
      "[('p', 'http://www.wikidata.org/entity/Q5264968'), ('o', 'http://www.wikidata.org/prop/direct/P161'), ('pname', 'Desperation Day'), ('oname', 'cast member')]\n",
      "[('p', 'http://www.wikidata.org/entity/Q5521981'), ('o', 'http://www.wikidata.org/prop/direct/P161'), ('pname', 'Garbage Island'), ('oname', 'cast member')]\n",
      "[('p', 'http://www.wikidata.org/entity/Q7080458'), ('o', 'http://www.wikidata.org/prop/direct/P161'), ('pname', 'Oh Honey'), ('oname', 'cast member')]\n",
      "[('p', 'http://www.wikidata.org/entity/Q5888848'), ('o', 'http://www.wikidata.org/prop/direct/P161'), ('pname', 'Home Wreckers'), ('oname', 'cast member')]\n",
      "[('p', 'http://www.wikidata.org/entity/Q7858076'), ('o', 'http://www.wikidata.org/prop/direct/P161'), ('pname', 'Twin Beds'), ('oname', 'cast member')]\n",
      "[('p', 'http://www.wikidata.org/entity/Q8074081'), ('o', 'http://www.wikidata.org/prop/direct/P161'), ('pname', 'Zoo or False'), ('oname', 'cast member')]\n"
     ]
    },
    {
     "data": {
      "text/plain": [
       "10"
      ]
     },
     "execution_count": 33,
     "metadata": {},
     "output_type": "execute_result"
    }
   ],
   "source": [
    "# actor name and finding its occupation\n",
    "#[('actor', 'http://www.wikidata.org/entity/Q200566'),\n",
    "#('actorname', 'Cobie Smulders')]\n",
    "queryString = \"\"\"\n",
    "SELECT *\n",
    "WHERE { \n",
    "\n",
    "     ?p ?o wd:Q200566 .\n",
    "    # Labels\n",
    "    ?p <http://schema.org/name> ?pname .\n",
    "    ?o <http://schema.org/name> ?oname .\n",
    "    FILTER regex(?oname, \"cast\", \"i\") \n",
    "} \n",
    "LIMIT 10\n",
    "\"\"\"\n",
    "\n",
    "print(\"Results\")\n",
    "run_query(queryString)\n",
    "# find the movies of the actor and count them "
   ]
  },
  {
   "cell_type": "code",
   "execution_count": 34,
   "id": "9b99f416-7e34-453f-8bba-842f6f0f19e4",
   "metadata": {},
   "outputs": [
    {
     "name": "stdout",
     "output_type": "stream",
     "text": [
      "Results\n",
      "[('movie', 'http://www.wikidata.org/entity/Q65070140'), ('moviename', 'Stumptown')]\n",
      "[('movie', 'http://www.wikidata.org/entity/Q51963292'), ('moviename', 'Marvel Cinematic Universe Phase One')]\n",
      "[('movie', 'http://www.wikidata.org/entity/Q63405798'), ('moviename', 'The Infinity Saga')]\n",
      "[('movie', 'http://www.wikidata.org/entity/Q147235'), ('moviename', 'How I Met Your Mother')]\n",
      "[('movie', 'http://www.wikidata.org/entity/Q5264968'), ('moviename', 'Desperation Day')]\n",
      "[('movie', 'http://www.wikidata.org/entity/Q5521981'), ('moviename', 'Garbage Island')]\n",
      "[('movie', 'http://www.wikidata.org/entity/Q7080458'), ('moviename', 'Oh Honey')]\n",
      "[('movie', 'http://www.wikidata.org/entity/Q5888848'), ('moviename', 'Home Wreckers')]\n",
      "[('movie', 'http://www.wikidata.org/entity/Q7858076'), ('moviename', 'Twin Beds')]\n",
      "[('movie', 'http://www.wikidata.org/entity/Q8074081'), ('moviename', 'Zoo or False')]\n"
     ]
    },
    {
     "data": {
      "text/plain": [
       "10"
      ]
     },
     "execution_count": 34,
     "metadata": {},
     "output_type": "execute_result"
    }
   ],
   "source": [
    "# find the movies of the actor and count them \n",
    "# actor name and finding its occupation\n",
    "#[('actor', 'http://www.wikidata.org/entity/Q200566'),\n",
    "#('actorname', 'Cobie Smulders')]\n",
    "queryString = \"\"\"\n",
    "SELECT *\n",
    "WHERE { \n",
    "\n",
    "    ?movie wdt:P161 wd:Q200566 .\n",
    "    # Labels\n",
    "    ?movie <http://schema.org/name> ?moviename .\n",
    "} \n",
    "LIMIT 10\n",
    "\"\"\"\n",
    "\n",
    "print(\"Results\")\n",
    "run_query(queryString)\n"
   ]
  },
  {
   "cell_type": "code",
   "execution_count": 35,
   "id": "db1cfa8d-4f5f-4830-98b9-101dc79d7484",
   "metadata": {},
   "outputs": [
    {
     "name": "stdout",
     "output_type": "stream",
     "text": [
      "Results\n",
      "[('movie', 'http://www.wikidata.org/entity/Q51963292'), ('moviename', 'Marvel Cinematic Universe Phase One')]\n"
     ]
    },
    {
     "data": {
      "text/plain": [
       "1"
      ]
     },
     "execution_count": 35,
     "metadata": {},
     "output_type": "execute_result"
    }
   ],
   "source": [
    "# marvel\n",
    "# actor name and finding its occupation\n",
    "#[('actor', 'http://www.wikidata.org/entity/Q200566'),\n",
    "#('actorname', 'Cobie Smulders')]\n",
    "queryString = \"\"\"\n",
    "SELECT *\n",
    "WHERE { \n",
    "\n",
    "    ?movie wdt:P161 wd:Q200566 .\n",
    "    # Labels\n",
    "    ?movie <http://schema.org/name> ?moviename .\n",
    "    FILTER regex(?moviename, \"marvel\", \"i\") \n",
    "    \n",
    "} \n",
    "LIMIT 10\n",
    "\"\"\"\n",
    "\n",
    "print(\"Results\")\n",
    "run_query(queryString)\n",
    "# marvel"
   ]
  },
  {
   "cell_type": "markdown",
   "id": "f0f17a17-3710-4c2d-88ef-ddc6c36b2792",
   "metadata": {},
   "source": [
    "### HIMYM"
   ]
  },
  {
   "cell_type": "code",
   "execution_count": 36,
   "id": "870604a4-d118-4e40-98a3-84d3ac773c74",
   "metadata": {},
   "outputs": [
    {
     "name": "stdout",
     "output_type": "stream",
     "text": [
      "Results\n",
      "[('character', 'http://www.wikidata.org/entity/Q50383228'), ('actor', 'http://www.wikidata.org/entity/Q4888924'), ('movie', 'http://www.wikidata.org/entity/Q22908690'), ('actorname', 'Benjamin Koldyke'), ('charactername', 'Don Frank'), ('moviename', 'The Good Place')]\n",
      "[('character', 'http://www.wikidata.org/entity/Q50383228'), ('actor', 'http://www.wikidata.org/entity/Q4888924'), ('movie', 'http://www.wikidata.org/entity/Q147235'), ('actorname', 'Benjamin Koldyke'), ('charactername', 'Don Frank'), ('moviename', 'How I Met Your Mother')]\n",
      "[('character', 'http://www.wikidata.org/entity/Q50383228'), ('actor', 'http://www.wikidata.org/entity/Q4888924'), ('movie', 'http://www.wikidata.org/entity/Q18031184'), ('actorname', 'Benjamin Koldyke'), ('charactername', 'Don Frank'), ('moviename', 'The Finest Hours')]\n",
      "[('character', 'http://www.wikidata.org/entity/Q50383228'), ('actor', 'http://www.wikidata.org/entity/Q4888924'), ('movie', 'http://www.wikidata.org/entity/Q128730'), ('actorname', 'Benjamin Koldyke'), ('charactername', 'Don Frank'), ('moviename', 'Thirteen Days')]\n",
      "[('character', 'http://www.wikidata.org/entity/Q50383228'), ('actor', 'http://www.wikidata.org/entity/Q4888924'), ('movie', 'http://www.wikidata.org/entity/Q61041669'), ('actorname', 'Benjamin Koldyke'), ('charactername', 'Don Frank'), ('moviename', 'This Little Piggy')]\n",
      "[('character', 'http://www.wikidata.org/entity/Q50385681'), ('actor', 'http://www.wikidata.org/entity/Q312705'), ('movie', 'http://www.wikidata.org/entity/Q23558'), ('actorname', 'John Cho'), ('charactername', 'Jefferson Coatsworth'), ('moviename', 'House')]\n",
      "[('character', 'http://www.wikidata.org/entity/Q50385681'), ('actor', 'http://www.wikidata.org/entity/Q312705'), ('movie', 'http://www.wikidata.org/entity/Q500460'), ('actorname', 'John Cho'), ('charactername', 'Jefferson Coatsworth'), ('moviename', 'Evolution')]\n",
      "[('character', 'http://www.wikidata.org/entity/Q50385681'), ('actor', 'http://www.wikidata.org/entity/Q312705'), ('movie', 'http://www.wikidata.org/entity/Q673195'), ('actorname', 'John Cho'), ('charactername', 'Jefferson Coatsworth'), ('moviename', 'Solaris')]\n",
      "[('character', 'http://www.wikidata.org/entity/Q50385681'), ('actor', 'http://www.wikidata.org/entity/Q312705'), ('movie', 'http://www.wikidata.org/entity/Q147235'), ('actorname', 'John Cho'), ('charactername', 'Jefferson Coatsworth'), ('moviename', 'How I Met Your Mother')]\n",
      "[('character', 'http://www.wikidata.org/entity/Q50385681'), ('actor', 'http://www.wikidata.org/entity/Q312705'), ('movie', 'http://www.wikidata.org/entity/Q844059'), ('actorname', 'John Cho'), ('charactername', 'Jefferson Coatsworth'), ('moviename', 'New Girl')]\n"
     ]
    },
    {
     "data": {
      "text/plain": [
       "10"
      ]
     },
     "execution_count": 36,
     "metadata": {},
     "output_type": "execute_result"
    }
   ],
   "source": [
    "# HIMYM\n",
    "queryString = \"\"\"\n",
    "SELECT *\n",
    "WHERE { \n",
    "\n",
    "    ?character wdt:P1441 wd:Q147235 .\n",
    "    ?character wdt:P175 ?actor .\n",
    "    ?movie wdt:P161 ?actor .\n",
    "    # Labels\n",
    "    ?actor <http://schema.org/name> ?actorname .\n",
    "    ?character <http://schema.org/name> ?charactername .\n",
    "    \n",
    "    ?movie <http://schema.org/name> ?moviename .\n",
    "\n",
    "} \n",
    "limit 10\n",
    "\"\"\"\n",
    "\n",
    "print(\"Results\")\n",
    "run_query(queryString)\n"
   ]
  },
  {
   "cell_type": "code",
   "execution_count": 37,
   "id": "6df5a7f0-6075-48d8-8b35-4ac32b31ffdc",
   "metadata": {},
   "outputs": [
    {
     "name": "stdout",
     "output_type": "stream",
     "text": [
      "Results\n",
      "[('actorname', 'Neil Patrick Harris'), ('countmovie', '187')]\n",
      "[('actorname', 'Cobie Smulders'), ('countmovie', '173')]\n",
      "[('actorname', 'Alyson Hannigan'), ('countmovie', '170')]\n",
      "[('actorname', 'Jason Segel'), ('countmovie', '170')]\n",
      "[('actorname', 'Josh Radnor'), ('countmovie', '155')]\n",
      "[('actorname', 'John Lithgow'), ('countmovie', '74')]\n",
      "[('actorname', 'David Henrie'), ('countmovie', '67')]\n",
      "[('actorname', 'Seth Green'), ('countmovie', '66')]\n",
      "[('actorname', 'Ray Wise'), ('countmovie', '64')]\n",
      "[('actorname', 'Lyndsy Fonseca'), ('countmovie', '63')]\n",
      "[('actorname', 'Peter Gallagher'), ('countmovie', '62')]\n",
      "[('actorname', 'Jane Seymour'), ('countmovie', '60')]\n",
      "[('actorname', 'Bob Odenkirk'), ('countmovie', '54')]\n",
      "[('actorname', 'Kyle MacLachlan'), ('countmovie', '54')]\n",
      "[('actorname', 'Jennifer Morrison'), ('countmovie', '53')]\n",
      "[('actorname', 'Bryan Cranston'), ('countmovie', '52')]\n",
      "[('actorname', 'Frances Conroy'), ('countmovie', '49')]\n",
      "[('actorname', 'John Cho'), ('countmovie', '48')]\n",
      "[('actorname', 'Amanda Peet'), ('countmovie', '46')]\n",
      "[('actorname', 'Thomas Lennon'), ('countmovie', '46')]\n",
      "[('actorname', 'Kal Penn'), ('countmovie', '45')]\n",
      "[('actorname', 'Marshall Manesh'), ('countmovie', '42')]\n",
      "[('actorname', 'Will Forte'), ('countmovie', '41')]\n",
      "[('actorname', 'Amy Acker'), ('countmovie', '40')]\n",
      "[('actorname', 'Martin Short'), ('countmovie', '39')]\n",
      "[('actorname', 'Jayma Mays'), ('countmovie', '37')]\n",
      "[('actorname', 'Jennifer Lopez'), ('countmovie', '37')]\n",
      "[('actorname', 'Danica McKellar'), ('countmovie', '36')]\n",
      "[('actorname', 'Katie Holmes'), ('countmovie', '35')]\n",
      "[('actorname', 'Mircea Monroe'), ('countmovie', '35')]\n",
      "[('actorname', 'Renée Taylor'), ('countmovie', '34')]\n",
      "[('actorname', 'Will Sasso'), ('countmovie', '34')]\n",
      "[('actorname', 'Michael Gross'), ('countmovie', '33')]\n",
      "[('actorname', 'Chris Elliott'), ('countmovie', '32')]\n",
      "[('actorname', 'Sarah Chalke'), ('countmovie', '32')]\n",
      "[('actorname', 'Bryan Callen'), ('countmovie', '31')]\n",
      "[('actorname', 'Ashley Williams'), ('countmovie', '29')]\n",
      "[('actorname', 'Bill Fagerbakke'), ('countmovie', '29')]\n",
      "[('actorname', 'James Van Der Beek'), ('countmovie', '29')]\n",
      "[('actorname', 'Robbie Amell'), ('countmovie', '28')]\n",
      "[('actorname', 'Tracey Ullman'), ('countmovie', '28')]\n",
      "[('actorname', 'Alexis Denisof'), ('countmovie', '27')]\n",
      "[('actorname', 'Charlene Amoia'), ('countmovie', '27')]\n",
      "[('actorname', 'Cristine Rose'), ('countmovie', '27')]\n",
      "[('actorname', 'Joe Manganiello'), ('countmovie', '27')]\n",
      "[('actorname', 'Laura Prepon'), ('countmovie', '27')]\n",
      "[('actorname', 'Nazanin Boniadi'), ('countmovie', '27')]\n",
      "[('actorname', 'Geoff Stults'), ('countmovie', '26')]\n",
      "[('actorname', 'Mandy Moore'), ('countmovie', '26')]\n",
      "[('actorname', 'Michael Trucco'), ('countmovie', '26')]\n"
     ]
    },
    {
     "data": {
      "text/plain": [
       "50"
      ]
     },
     "execution_count": 37,
     "metadata": {},
     "output_type": "execute_result"
    }
   ],
   "source": [
    "# HIMYM\n",
    "queryString = \"\"\"\n",
    "SELECT ?actorname ?countmovie\n",
    "WHERE { \n",
    "\n",
    "      {\n",
    "              SELECT ?actor (COUNT (DISTINCT ?movie) AS ?countmovie) WHERE\n",
    "              {\n",
    "                    ?character wdt:P1441 wd:Q147235 .\n",
    "                    ?character wdt:P175 ?actor .\n",
    "                    ?movie wdt:P161 ?actor .\n",
    "\n",
    "               }\n",
    "                GROUP BY ?actor\n",
    "      }  .\n",
    "\n",
    "    # Labels\n",
    "    ?actor <http://schema.org/name> ?actorname .\n",
    "\n",
    "} \n",
    "ORDER BY DESC(?countmovie) ?actorname\n",
    "LIMIT 50\n",
    "\"\"\"\n",
    "\n",
    "print(\"Results\")\n",
    "run_query(queryString)\n"
   ]
  },
  {
   "cell_type": "markdown",
   "id": "0f55bcf7-8efe-4ed4-ae4c-a9a03fe8c45d",
   "metadata": {},
   "source": [
    "### The office"
   ]
  },
  {
   "cell_type": "code",
   "execution_count": 38,
   "id": "25734274-af45-4f09-951e-b3c5b6f6388a",
   "metadata": {},
   "outputs": [
    {
     "name": "stdout",
     "output_type": "stream",
     "text": [
      "Results\n",
      "[('character', 'http://www.wikidata.org/entity/Q7372521'), ('actor', 'http://www.wikidata.org/entity/Q64560'), ('movie', 'http://www.wikidata.org/entity/Q17480384'), ('actorname', 'David Denman'), ('charactername', 'Roy Anderson'), ('moviename', 'Take')]\n",
      "[('character', 'http://www.wikidata.org/entity/Q2013030'), ('actor', 'http://www.wikidata.org/entity/Q313039'), ('movie', 'http://www.wikidata.org/entity/Q18150704'), ('actorname', 'John Krasinski'), ('charactername', 'Jim Halpert'), ('moviename', 'The Hollars')]\n",
      "[('character', 'http://www.wikidata.org/entity/Q63801326'), ('actor', 'http://www.wikidata.org/entity/Q313039'), ('movie', 'http://www.wikidata.org/entity/Q18150704'), ('actorname', 'John Krasinski'), ('charactername', 'Goldenface'), ('moviename', 'The Hollars')]\n",
      "[('character', 'http://www.wikidata.org/entity/Q4762500'), ('actor', 'http://www.wikidata.org/entity/Q2669971'), ('movie', 'http://www.wikidata.org/entity/Q22908828'), ('actorname', 'Angela Kinsey'), ('charactername', 'Angela Martin'), ('moviename', 'Haters Back Off')]\n",
      "[('character', 'http://www.wikidata.org/entity/Q6386111'), ('actor', 'http://www.wikidata.org/entity/Q539917'), ('movie', 'http://www.wikidata.org/entity/Q24301388'), ('actorname', 'Mindy Kaling'), ('charactername', 'Kelly Kapoor'), ('moviename', 'A Wrinkle in Time')]\n",
      "[('character', 'http://www.wikidata.org/entity/Q2027359'), ('actor', 'http://www.wikidata.org/entity/Q238877'), ('movie', 'http://www.wikidata.org/entity/Q30127307'), ('actorname', 'Jenna Fischer'), ('charactername', 'Pam Halpert'), ('moviename', 'Splitting Up Together')]\n",
      "[('character', 'http://www.wikidata.org/entity/Q5240791'), ('actor', 'http://www.wikidata.org/entity/Q612512'), ('movie', 'http://www.wikidata.org/entity/Q3512046'), ('actorname', 'Andy Buckley'), ('charactername', 'David Wallace'), ('moviename', 'Jurassic World')]\n",
      "[('character', 'http://www.wikidata.org/entity/Q7812550'), ('actor', 'http://www.wikidata.org/entity/Q164328'), ('movie', 'http://www.wikidata.org/entity/Q487978'), ('actorname', 'David Koechner'), ('charactername', 'Todd Packer'), ('moviename', 'Austin Powers: The Spy Who Shagged Me')]\n",
      "[('character', 'http://www.wikidata.org/entity/Q59483822'), ('actor', 'http://www.wikidata.org/entity/Q218503'), ('movie', 'http://www.wikidata.org/entity/Q487978'), ('actorname', 'Will Ferrell'), ('charactername', 'Deangelo Vickers'), ('moviename', 'Austin Powers: The Spy Who Shagged Me')]\n",
      "[('character', 'http://www.wikidata.org/entity/Q5225425'), ('actor', 'http://www.wikidata.org/entity/Q926912'), ('movie', 'http://www.wikidata.org/entity/Q494594'), ('actorname', 'Craig Robinson'), ('charactername', 'Darryl Philbin'), ('moviename', 'D-War')]\n"
     ]
    },
    {
     "data": {
      "text/plain": [
       "10"
      ]
     },
     "execution_count": 38,
     "metadata": {},
     "output_type": "execute_result"
    }
   ],
   "source": [
    "# The office\n",
    "queryString = \"\"\"\n",
    "SELECT *\n",
    "WHERE { \n",
    "    ?character wdt:P1441 wd:Q23831 .\n",
    "    ?character wdt:P175 ?actor .\n",
    "    ?movie wdt:P161 ?actor .\n",
    "    # Labels\n",
    "    ?actor <http://schema.org/name> ?actorname .\n",
    "    ?character <http://schema.org/name> ?charactername .\n",
    "    \n",
    "    ?movie <http://schema.org/name> ?moviename .\n",
    "} \n",
    "limit 10\n",
    "\"\"\"\n",
    "\n",
    "print(\"Results\")\n",
    "run_query(queryString)\n"
   ]
  },
  {
   "cell_type": "code",
   "execution_count": 39,
   "id": "2be5e85d-2a32-4eae-a2a4-464064c468ab",
   "metadata": {},
   "outputs": [
    {
     "name": "stdout",
     "output_type": "stream",
     "text": [
      "Results\n",
      "[('actorname', 'David Koechner'), ('countmovie', '63')]\n",
      "[('actorname', 'Will Ferrell'), ('countmovie', '60')]\n",
      "[('actorname', 'James Spader'), ('countmovie', '46')]\n",
      "[('actorname', 'Steve Carell'), ('countmovie', '44')]\n",
      "[('actorname', 'Catherine Tate'), ('countmovie', '37')]\n",
      "[('actorname', 'Melora Hardin'), ('countmovie', '37')]\n",
      "[('actorname', 'John Krasinski'), ('countmovie', '35')]\n",
      "[('actorname', 'Amy Ryan'), ('countmovie', '34')]\n",
      "[('actorname', 'Craig Robinson'), ('countmovie', '33')]\n",
      "[('actorname', 'Ed Helms'), ('countmovie', '33')]\n",
      "[('actorname', 'David Denman'), ('countmovie', '31')]\n",
      "[('actorname', 'Rainn Wilson'), ('countmovie', '29')]\n",
      "[('actorname', 'Jenna Fischer'), ('countmovie', '26')]\n",
      "[('actorname', 'Clark Duke'), ('countmovie', '21')]\n",
      "[('actorname', 'Jake Lacy'), ('countmovie', '16')]\n",
      "[('actorname', 'Mindy Kaling'), ('countmovie', '15')]\n",
      "[('actorname', 'Ellie Kemper'), ('countmovie', '14')]\n",
      "[('actorname', 'Oscar Nunez'), ('countmovie', '12')]\n",
      "[('actorname', 'Zach Woods'), ('countmovie', '11')]\n",
      "[('actorname', 'B. J. Novak'), ('countmovie', '10')]\n",
      "[('actorname', 'Phyllis Smith'), ('countmovie', '10')]\n",
      "[('actorname', 'Andy Buckley'), ('countmovie', '9')]\n",
      "[('actorname', 'Angela Kinsey'), ('countmovie', '8')]\n",
      "[('actorname', 'Brian Baumgartner'), ('countmovie', '7')]\n",
      "[('actorname', 'Creed Bratton'), ('countmovie', '4')]\n",
      "[('actorname', 'Paul Lieberstein'), ('countmovie', '2')]\n",
      "[('actorname', 'Henriette Mantel'), ('countmovie', '1')]\n",
      "[('actorname', 'Leslie David Baker'), ('countmovie', '1')]\n"
     ]
    },
    {
     "data": {
      "text/plain": [
       "28"
      ]
     },
     "execution_count": 39,
     "metadata": {},
     "output_type": "execute_result"
    }
   ],
   "source": [
    "queryString = \"\"\"\n",
    "SELECT ?actorname ?countmovie\n",
    "WHERE { \n",
    "\n",
    "      {\n",
    "              SELECT ?actor (COUNT (DISTINCT ?movie) AS ?countmovie) WHERE\n",
    "              {\n",
    "                    ?character wdt:P1441 wd:Q23831 .\n",
    "                    ?character wdt:P175 ?actor .\n",
    "                    ?movie wdt:P161 ?actor .\n",
    "\n",
    "               }\n",
    "                GROUP BY ?actor\n",
    "      }  .\n",
    "\n",
    "    # Labels\n",
    "    ?actor <http://schema.org/name> ?actorname .\n",
    "\n",
    "} \n",
    "ORDER BY DESC(?countmovie) ?actorname\n",
    "LIMIT 50\n",
    "\"\"\"\n",
    "\n",
    "print(\"Results\")\n",
    "run_query(queryString)"
   ]
  },
  {
   "cell_type": "markdown",
   "id": "8e36e8f7-e088-445a-910c-27e44b1fad0b",
   "metadata": {},
   "source": [
    "# Task 4"
   ]
  },
  {
   "cell_type": "markdown",
   "id": "60d38f52-3bdb-4f41-a7b5-1eeec9a27431",
   "metadata": {
    "tags": []
   },
   "source": [
    "# Show the name of the spouses of the actors in every series and show the occupution of their spouses. and filter singers."
   ]
  },
  {
   "cell_type": "code",
   "execution_count": 40,
   "id": "1d041922-5018-4519-8f77-d186ee484aa5",
   "metadata": {},
   "outputs": [
    {
     "name": "stdout",
     "output_type": "stream",
     "text": [
      "Results\n",
      "[('p', 'http://www.wikidata.org/prop/direct/P735'), ('o', 'http://www.wikidata.org/entity/Q15208593'), ('pname', 'given name'), ('oname', 'Francisca')]\n",
      "[('p', 'http://www.wikidata.org/prop/direct/P735'), ('o', 'http://www.wikidata.org/entity/Q6119607'), ('pname', 'given name'), ('oname', 'Jacoba')]\n",
      "[('p', 'http://www.wikidata.org/prop/direct/P106'), ('o', 'http://www.wikidata.org/entity/Q10798782'), ('pname', 'occupation'), ('oname', 'television actor')]\n",
      "[('p', 'http://www.wikidata.org/prop/direct/P106'), ('o', 'http://www.wikidata.org/entity/Q10800557'), ('pname', 'occupation'), ('oname', 'film actor')]\n",
      "[('p', 'http://www.wikidata.org/prop/direct/P27'), ('o', 'http://www.wikidata.org/entity/Q16'), ('pname', 'country of citizenship'), ('oname', 'Canada')]\n",
      "[('p', 'http://www.wikidata.org/prop/direct/P1412'), ('o', 'http://www.wikidata.org/entity/Q1860'), ('pname', 'languages spoken, written or signed'), ('oname', 'English')]\n",
      "[('p', 'http://www.wikidata.org/prop/direct/P106'), ('o', 'http://www.wikidata.org/entity/Q2259451'), ('pname', 'occupation'), ('oname', 'stage actor')]\n",
      "[('p', 'http://www.wikidata.org/prop/direct/P19'), ('o', 'http://www.wikidata.org/entity/Q24639'), ('pname', 'place of birth'), ('oname', 'Vancouver')]\n",
      "[('p', 'http://www.wikidata.org/prop/direct/P735'), ('o', 'http://www.wikidata.org/entity/Q325872'), ('pname', 'given name'), ('oname', 'Maria')]\n",
      "[('p', 'http://www.wikidata.org/prop/direct/P106'), ('o', 'http://www.wikidata.org/entity/Q4610556'), ('pname', 'occupation'), ('oname', 'model')]\n",
      "[('p', 'http://www.wikidata.org/prop/direct/P31'), ('o', 'http://www.wikidata.org/entity/Q5'), ('pname', 'instance of'), ('oname', 'human')]\n",
      "[('p', 'http://www.wikidata.org/prop/direct/P551'), ('o', 'http://www.wikidata.org/entity/Q65'), ('pname', 'residence'), ('oname', 'Los Angeles')]\n",
      "[('p', 'http://www.wikidata.org/prop/direct/P21'), ('o', 'http://www.wikidata.org/entity/Q6581072'), ('pname', 'sex or gender'), ('oname', 'female')]\n",
      "[('p', 'http://www.wikidata.org/prop/direct/P734'), ('o', 'http://www.wikidata.org/entity/Q2018583'), ('pname', 'family name'), ('oname', 'Smulders')]\n",
      "[('p', 'http://www.wikidata.org/prop/direct/P26'), ('o', 'http://www.wikidata.org/entity/Q2706805'), ('pname', 'spouse'), ('oname', 'Taran Killam')]\n"
     ]
    },
    {
     "data": {
      "text/plain": [
       "15"
      ]
     },
     "execution_count": 40,
     "metadata": {},
     "output_type": "execute_result"
    }
   ],
   "source": [
    "# HIMYM\n",
    "queryString = \"\"\"\n",
    "SELECT *\n",
    "WHERE { \n",
    "\n",
    "\n",
    "    wd:Q200566 ?p ?o .\n",
    "    # Labels\n",
    "    ?p <http://schema.org/name> ?pname .\n",
    "    ?o <http://schema.org/name> ?oname .\n",
    "\n",
    "} \n",
    "limit 20\n",
    "\"\"\"\n",
    "\n",
    "print(\"Results\")\n",
    "run_query(queryString)\n"
   ]
  },
  {
   "cell_type": "code",
   "execution_count": 41,
   "id": "dfe9e572-e52a-46a5-aad8-b2b262aea3a1",
   "metadata": {},
   "outputs": [
    {
     "name": "stdout",
     "output_type": "stream",
     "text": [
      "Results\n",
      "[('spouse', 'http://www.wikidata.org/entity/Q2706805'), ('spousename', 'Taran Killam')]\n"
     ]
    },
    {
     "data": {
      "text/plain": [
       "1"
      ]
     },
     "execution_count": 41,
     "metadata": {},
     "output_type": "execute_result"
    }
   ],
   "source": [
    "# HIMYM\n",
    "queryString = \"\"\"\n",
    "SELECT *\n",
    "WHERE { \n",
    "\n",
    "\n",
    "    wd:Q200566 wdt:P26 ?spouse .\n",
    "    # Labels\n",
    "    ?spouse <http://schema.org/name> ?spousename .\n",
    "\n",
    "} \n",
    "limit 20\n",
    "\"\"\"\n",
    "\n",
    "print(\"Results\")\n",
    "run_query(queryString)\n"
   ]
  },
  {
   "cell_type": "code",
   "execution_count": 42,
   "id": "a70058ee-5274-49b6-901f-42b9ac0377d6",
   "metadata": {},
   "outputs": [
    {
     "name": "stdout",
     "output_type": "stream",
     "text": [
      "Results\n",
      "[('o', 'http://www.wikidata.org/prop/direct/P26'), ('p', 'http://www.wikidata.org/entity/Q200566'), ('oname', 'spouse'), ('pname', 'Cobie Smulders')]\n",
      "[('o', 'http://www.wikidata.org/prop/direct/P69'), ('p', 'http://www.wikidata.org/entity/Q6682090'), ('oname', 'educated at'), ('pname', 'Los Angeles County High School for the Arts')]\n",
      "[('o', 'http://www.wikidata.org/prop/direct/P106'), ('p', 'http://www.wikidata.org/entity/Q10798782'), ('oname', 'occupation'), ('pname', 'television actor')]\n",
      "[('o', 'http://www.wikidata.org/prop/direct/P106'), ('p', 'http://www.wikidata.org/entity/Q10800557'), ('oname', 'occupation'), ('pname', 'film actor')]\n",
      "[('o', 'http://www.wikidata.org/prop/direct/P69'), ('p', 'http://www.wikidata.org/entity/Q174710'), ('oname', 'educated at'), ('pname', 'University of California, Los Angeles')]\n",
      "[('o', 'http://www.wikidata.org/prop/direct/P106'), ('p', 'http://www.wikidata.org/entity/Q2405480'), ('oname', 'occupation'), ('pname', 'voice actor')]\n",
      "[('o', 'http://www.wikidata.org/prop/direct/P106'), ('p', 'http://www.wikidata.org/entity/Q245068'), ('oname', 'occupation'), ('pname', 'comedian')]\n",
      "[('o', 'http://www.wikidata.org/prop/direct/P106'), ('p', 'http://www.wikidata.org/entity/Q2526255'), ('oname', 'occupation'), ('pname', 'film director')]\n",
      "[('o', 'http://www.wikidata.org/prop/direct/P27'), ('p', 'http://www.wikidata.org/entity/Q30'), ('oname', 'country of citizenship'), ('pname', 'United States of America')]\n",
      "[('o', 'http://www.wikidata.org/prop/direct/P106'), ('p', 'http://www.wikidata.org/entity/Q36180'), ('oname', 'occupation'), ('pname', 'writer')]\n",
      "[('o', 'http://www.wikidata.org/prop/direct/P31'), ('p', 'http://www.wikidata.org/entity/Q5'), ('oname', 'instance of'), ('pname', 'human')]\n",
      "[('o', 'http://www.wikidata.org/prop/direct/P106'), ('p', 'http://www.wikidata.org/entity/Q578109'), ('oname', 'occupation'), ('pname', 'television producer')]\n",
      "[('o', 'http://www.wikidata.org/prop/direct/P21'), ('p', 'http://www.wikidata.org/entity/Q6581097'), ('oname', 'sex or gender'), ('pname', 'male')]\n",
      "[('o', 'http://www.wikidata.org/prop/direct/P19'), ('p', 'http://www.wikidata.org/entity/Q493378'), ('oname', 'place of birth'), ('pname', 'Culver City')]\n",
      "[('o', 'http://www.wikidata.org/prop/direct/P735'), ('p', 'http://www.wikidata.org/entity/Q12718901'), ('oname', 'given name'), ('pname', 'Taran')]\n",
      "[('o', 'http://www.wikidata.org/prop/direct/P734'), ('p', 'http://www.wikidata.org/entity/Q21491455'), ('oname', 'family name'), ('pname', 'Killam')]\n"
     ]
    },
    {
     "data": {
      "text/plain": [
       "16"
      ]
     },
     "execution_count": 42,
     "metadata": {},
     "output_type": "execute_result"
    }
   ],
   "source": [
    "# HIMYM\n",
    "queryString = \"\"\"\n",
    "SELECT *\n",
    "WHERE { \n",
    "\n",
    "\n",
    "    wd:Q2706805 ?o ?p .\n",
    "    # Labels\n",
    "    ?o <http://schema.org/name> ?oname .\n",
    "    ?p <http://schema.org/name> ?pname .\n",
    "\n",
    "} \n",
    "limit 20\n",
    "\"\"\"\n",
    "\n",
    "print(\"Results\")\n",
    "run_query(queryString)\n"
   ]
  },
  {
   "cell_type": "code",
   "execution_count": 43,
   "id": "bdec6068-1d80-4f80-9566-81cf8a338351",
   "metadata": {},
   "outputs": [
    {
     "name": "stdout",
     "output_type": "stream",
     "text": [
      "Results\n",
      "[('p', 'http://www.wikidata.org/entity/Q10798782'), ('pname', 'television actor')]\n",
      "[('p', 'http://www.wikidata.org/entity/Q10800557'), ('pname', 'film actor')]\n",
      "[('p', 'http://www.wikidata.org/entity/Q2405480'), ('pname', 'voice actor')]\n",
      "[('p', 'http://www.wikidata.org/entity/Q245068'), ('pname', 'comedian')]\n",
      "[('p', 'http://www.wikidata.org/entity/Q2526255'), ('pname', 'film director')]\n",
      "[('p', 'http://www.wikidata.org/entity/Q36180'), ('pname', 'writer')]\n",
      "[('p', 'http://www.wikidata.org/entity/Q578109'), ('pname', 'television producer')]\n"
     ]
    },
    {
     "data": {
      "text/plain": [
       "7"
      ]
     },
     "execution_count": 43,
     "metadata": {},
     "output_type": "execute_result"
    }
   ],
   "source": [
    "# HIMYM\n",
    "queryString = \"\"\"\n",
    "SELECT *\n",
    "WHERE { \n",
    "\n",
    "\n",
    "    wd:Q2706805 wdt:P106 ?p .\n",
    "    # Labels\n",
    "    ?p <http://schema.org/name> ?pname .\n",
    "\n",
    "} \n",
    "LIMIT 20\n",
    "\"\"\"\n",
    "\n",
    "print(\"Results\")\n",
    "run_query(queryString)\n"
   ]
  },
  {
   "cell_type": "markdown",
   "id": "813c4fa6-18dd-49dc-b61c-a9cb31afdb35",
   "metadata": {},
   "source": [
    "## HIMYM"
   ]
  },
  {
   "cell_type": "code",
   "execution_count": 44,
   "id": "75696db2-cc10-4d6e-8c53-2917f172c877",
   "metadata": {},
   "outputs": [
    {
     "name": "stdout",
     "output_type": "stream",
     "text": [
      "Results\n",
      "[('actorname', 'Britney Spears'), ('spousename', 'Kevin Federline'), ('spouseoccname', 'singer')]\n",
      "[('actorname', 'Jennifer Lopez'), ('spousename', 'Marc Anthony'), ('spouseoccname', 'singer')]\n",
      "[('actorname', 'Bill Fagerbakke'), ('spousename', 'Catherine McClenahan'), ('spouseoccname', 'singer')]\n",
      "[('actorname', 'Katy Perry'), ('spousename', 'Russell Brand'), ('spouseoccname', 'singer')]\n",
      "[('actorname', 'David Burtka'), ('spousename', 'Neil Patrick Harris'), ('spouseoccname', 'singer')]\n",
      "[('actorname', 'Seth Green'), ('spousename', 'Clare Grant'), ('spouseoccname', 'singer')]\n",
      "[('actorname', 'Martin Short'), ('spousename', 'Nancy Dolman'), ('spouseoccname', 'singer')]\n"
     ]
    },
    {
     "data": {
      "text/plain": [
       "7"
      ]
     },
     "execution_count": 44,
     "metadata": {},
     "output_type": "execute_result"
    }
   ],
   "source": [
    "# HIMYM\n",
    "queryString = \"\"\"\n",
    "SELECT DISTINCT ?actorname ?spousename ?spouseoccname\n",
    "WHERE { \n",
    "\n",
    "    ?character wdt:P1441 wd:Q147235 .\n",
    "    ?character wdt:P175 ?actor .\n",
    "    ?movie wdt:P161 ?actor .\n",
    "    ?actor wdt:P26 ?spouse .\n",
    "    ?spouse wdt:P106 ?spouseocc .\n",
    "    # Labels\n",
    "    ?actor <http://schema.org/name> ?actorname .\n",
    "    ?character <http://schema.org/name> ?charactername .\n",
    "    ?movie <http://schema.org/name> ?moviename .\n",
    "    ?spouse <http://schema.org/name> ?spousename .\n",
    "    ?spouseocc <http://schema.org/name> ?spouseoccname\n",
    "    FILTER regex(?spouseoccname, \"singer\", \"i\") \n",
    "} \n",
    "LIMIT 10\n",
    "\"\"\"\n",
    "\n",
    "print(\"Results\")\n",
    "run_query(queryString)\n",
    "\n",
    "\n",
    "### order the name of the actor by the most episodes they have acted in this series"
   ]
  },
  {
   "cell_type": "markdown",
   "id": "2bd91b97-5d87-4f01-89a6-6be64a46a197",
   "metadata": {},
   "source": [
    "## The office"
   ]
  },
  {
   "cell_type": "code",
   "execution_count": 45,
   "id": "ead6ee4d-0ed5-49e2-a545-d594ca3c2be1",
   "metadata": {},
   "outputs": [
    {
     "name": "stdout",
     "output_type": "stream",
     "text": [
      "Results\n",
      "[('actorname', 'Steve Carell'), ('spousename', 'Nancy Carell'), ('spouseoccname', 'television actor')]\n",
      "[('actorname', 'Steve Carell'), ('spousename', 'Nancy Carell'), ('spouseoccname', 'television actor')]\n",
      "[('actorname', 'Steve Carell'), ('spousename', 'Nancy Carell'), ('spouseoccname', 'film actor')]\n",
      "[('actorname', 'Steve Carell'), ('spousename', 'Nancy Carell'), ('spouseoccname', 'film actor')]\n",
      "[('actorname', 'Steve Carell'), ('spousename', 'Nancy Carell'), ('spouseoccname', 'screenwriter')]\n",
      "[('actorname', 'Steve Carell'), ('spousename', 'Nancy Carell'), ('spouseoccname', 'screenwriter')]\n",
      "[('actorname', 'Steve Carell'), ('spousename', 'Nancy Carell'), ('spouseoccname', 'actor')]\n",
      "[('actorname', 'Steve Carell'), ('spousename', 'Nancy Carell'), ('spouseoccname', 'actor')]\n",
      "[('actorname', 'Steve Carell'), ('spousename', 'Nancy Carell'), ('spouseoccname', 'television producer')]\n",
      "[('actorname', 'Steve Carell'), ('spousename', 'Nancy Carell'), ('spouseoccname', 'television producer')]\n"
     ]
    },
    {
     "data": {
      "text/plain": [
       "10"
      ]
     },
     "execution_count": 45,
     "metadata": {},
     "output_type": "execute_result"
    }
   ],
   "source": [
    "# HIMYM\n",
    "queryString = \"\"\"\n",
    "SELECT ?actorname ?spousename ?spouseoccname\n",
    "WHERE { \n",
    "\n",
    "    ?character wdt:P1441 wd:Q23831 .\n",
    "    ?character wdt:P175 ?actor .\n",
    "    ?movie wdt:P161 ?actor .\n",
    "    ?actor wdt:P26 ?spouse .\n",
    "    ?spouse wdt:P106 ?spouseocc .\n",
    "    # Labels\n",
    "    ?actor <http://schema.org/name> ?actorname .\n",
    "    ?character <http://schema.org/name> ?charactername .\n",
    "    ?movie <http://schema.org/name> ?moviename .\n",
    "    ?spouse <http://schema.org/name> ?spousename .\n",
    "    ?spouseocc <http://schema.org/name> ?spouseoccname\n",
    "\n",
    "} \n",
    "LIMIT 10\n",
    "\"\"\"\n",
    "\n",
    "print(\"Results\")\n",
    "run_query(queryString)\n",
    "\n",
    "\n",
    "### order the name of the actor by the most episodes they have acted in this series"
   ]
  },
  {
   "cell_type": "markdown",
   "id": "376b814d-4198-447b-9fd7-060f4b242770",
   "metadata": {},
   "source": [
    "## Get the number of episodes in which the cast members played a role. Who are the most present actors?"
   ]
  },
  {
   "cell_type": "markdown",
   "id": "318a4179-284f-4833-8bcd-0cebbdd79ded",
   "metadata": {},
   "source": [
    "### HIMYM"
   ]
  },
  {
   "cell_type": "code",
   "execution_count": 46,
   "id": "81215328-bfee-4a9e-a741-8230e0609147",
   "metadata": {},
   "outputs": [
    {
     "name": "stdout",
     "output_type": "stream",
     "text": [
      "Results\n",
      "[('p', 'http://www.wikidata.org/prop/direct/P161'), ('pname', 'cast member'), ('o', 'http://www.wikidata.org/entity/Q465556'), ('oname', 'Annie Ilonzeh')]\n",
      "[('p', 'http://www.wikidata.org/prop/direct/P161'), ('pname', 'cast member'), ('o', 'http://www.wikidata.org/entity/Q269891'), ('oname', 'Julianna Guill')]\n",
      "[('p', 'http://www.wikidata.org/prop/direct/P161'), ('pname', 'cast member'), ('o', 'http://www.wikidata.org/entity/Q4888924'), ('oname', 'Benjamin Koldyke')]\n",
      "[('p', 'http://www.wikidata.org/prop/direct/P161'), ('pname', 'cast member'), ('o', 'http://www.wikidata.org/entity/Q446031'), ('oname', 'Nikki Griffin')]\n",
      "[('p', 'http://www.wikidata.org/prop/direct/P161'), ('pname', 'cast member'), ('o', 'http://www.wikidata.org/entity/Q312705'), ('oname', 'John Cho')]\n",
      "[('p', 'http://www.wikidata.org/prop/direct/P161'), ('pname', 'cast member'), ('o', 'http://www.wikidata.org/entity/Q469579'), ('oname', 'Mircea Monroe')]\n",
      "[('p', 'http://www.wikidata.org/prop/direct/P161'), ('pname', 'cast member'), ('o', 'http://www.wikidata.org/entity/Q516659'), ('oname', 'Virginia Williams')]\n",
      "[('p', 'http://www.wikidata.org/prop/direct/P161'), ('pname', 'cast member'), ('o', 'http://www.wikidata.org/entity/Q522856'), ('oname', 'Kate Micucci')]\n",
      "[('p', 'http://www.wikidata.org/prop/direct/P161'), ('pname', 'cast member'), ('o', 'http://www.wikidata.org/entity/Q200566'), ('oname', 'Cobie Smulders')]\n",
      "[('p', 'http://www.wikidata.org/prop/direct/P161'), ('pname', 'cast member'), ('o', 'http://www.wikidata.org/entity/Q435839'), ('oname', 'Ashley Williams')]\n",
      "[('p', 'http://www.wikidata.org/prop/direct/P161'), ('pname', 'cast member'), ('o', 'http://www.wikidata.org/entity/Q446481'), ('oname', 'Harvey Fierstein')]\n",
      "[('p', 'http://www.wikidata.org/prop/direct/P161'), ('pname', 'cast member'), ('o', 'http://www.wikidata.org/entity/Q2040329'), ('oname', 'Hayes MacArthur')]\n",
      "[('p', 'http://www.wikidata.org/prop/direct/P161'), ('pname', 'cast member'), ('o', 'http://www.wikidata.org/entity/Q596953'), ('oname', 'Phil Simms')]\n",
      "[('p', 'http://www.wikidata.org/prop/direct/P161'), ('pname', 'cast member'), ('o', 'http://www.wikidata.org/entity/Q926420'), ('oname', 'Robbie Amell')]\n",
      "[('p', 'http://www.wikidata.org/prop/direct/P161'), ('pname', 'cast member'), ('o', 'http://www.wikidata.org/entity/Q929985'), ('oname', 'Alex Trebek')]\n",
      "[('p', 'http://www.wikidata.org/prop/direct/P161'), ('pname', 'cast member'), ('o', 'http://www.wikidata.org/entity/Q234715'), ('oname', 'Jamie-Lynn Sigler')]\n",
      "[('p', 'http://www.wikidata.org/prop/direct/P161'), ('pname', 'cast member'), ('o', 'http://www.wikidata.org/entity/Q215546'), ('oname', 'Carrie Underwood')]\n",
      "[('p', 'http://www.wikidata.org/prop/direct/P161'), ('pname', 'cast member'), ('o', 'http://www.wikidata.org/entity/Q2914539'), ('oname', 'Jeff Probst')]\n",
      "[('p', 'http://www.wikidata.org/prop/direct/P161'), ('pname', 'cast member'), ('o', 'http://www.wikidata.org/entity/Q289330'), ('oname', 'Erin Cardillo')]\n",
      "[('p', 'http://www.wikidata.org/prop/direct/P161'), ('pname', 'cast member'), ('o', 'http://www.wikidata.org/entity/Q3306283'), ('oname', 'Dwight Hicks')]\n"
     ]
    },
    {
     "data": {
      "text/plain": [
       "20"
      ]
     },
     "execution_count": 46,
     "metadata": {},
     "output_type": "execute_result"
    }
   ],
   "source": [
    "# show cast members\n",
    "queryString = \"\"\"\n",
    "SELECT ?p ?pname ?o ?oname\n",
    "WHERE { \n",
    "\n",
    "    wd:Q147235 ?p ?o .\n",
    "    # Labels\n",
    "    ?p <http://schema.org/name> ?pname .\n",
    "    ?o <http://schema.org/name> ?oname .\n",
    "    FILTER regex(?pname, \"cast member\", \"i\") \n",
    "} \n",
    "LIMIT 20\n",
    "\"\"\"\n",
    "\n",
    "print(\"Results\")\n",
    "run_query(queryString)"
   ]
  },
  {
   "cell_type": "code",
   "execution_count": 47,
   "id": "9c345780-ad8d-470f-b512-13aad5b1b559",
   "metadata": {},
   "outputs": [
    {
     "name": "stdout",
     "output_type": "stream",
     "text": [
      "Results\n",
      "[('p', 'http://www.wikidata.org/prop/direct/P19'), ('pname', 'place of birth'), ('o', 'http://www.wikidata.org/entity/Q185216'), ('oname', 'Grapevine')]\n",
      "[('p', 'http://www.wikidata.org/prop/direct/P106'), ('pname', 'occupation'), ('o', 'http://www.wikidata.org/entity/Q10798782'), ('oname', 'television actor')]\n",
      "[('p', 'http://www.wikidata.org/prop/direct/P106'), ('pname', 'occupation'), ('o', 'http://www.wikidata.org/entity/Q10800557'), ('oname', 'film actor')]\n",
      "[('p', 'http://www.wikidata.org/prop/direct/P27'), ('pname', 'country of citizenship'), ('o', 'http://www.wikidata.org/entity/Q30'), ('oname', 'United States of America')]\n",
      "[('p', 'http://www.wikidata.org/prop/direct/P106'), ('pname', 'occupation'), ('o', 'http://www.wikidata.org/entity/Q33999'), ('oname', 'actor')]\n",
      "[('p', 'http://www.wikidata.org/prop/direct/P172'), ('pname', 'ethnic group'), ('o', 'http://www.wikidata.org/entity/Q49085'), ('oname', 'African Americans')]\n",
      "[('p', 'http://www.wikidata.org/prop/direct/P31'), ('pname', 'instance of'), ('o', 'http://www.wikidata.org/entity/Q5'), ('oname', 'human')]\n",
      "[('p', 'http://www.wikidata.org/prop/direct/P5008'), ('pname', 'on focus list of Wikimedia project'), ('o', 'http://www.wikidata.org/entity/Q60687720'), ('oname', 'NL Gendergap maintenance')]\n",
      "[('p', 'http://www.wikidata.org/prop/direct/P21'), ('pname', 'sex or gender'), ('o', 'http://www.wikidata.org/entity/Q6581072'), ('oname', 'female')]\n",
      "[('p', 'http://www.wikidata.org/prop/direct/P735'), ('pname', 'given name'), ('o', 'http://www.wikidata.org/entity/Q566893'), ('oname', 'Annie')]\n",
      "[('p', 'http://www.wikidata.org/prop/direct/P69'), ('pname', 'educated at'), ('o', 'http://www.wikidata.org/entity/Q1230739'), ('oname', 'University of Texas at Arlington')]\n",
      "[('p', 'http://www.wikidata.org/prop/direct/P69'), ('pname', 'educated at'), ('o', 'http://www.wikidata.org/entity/Q5147123'), ('oname', 'Colleyville Heritage High School')]\n"
     ]
    },
    {
     "data": {
      "text/plain": [
       "12"
      ]
     },
     "execution_count": 47,
     "metadata": {},
     "output_type": "execute_result"
    }
   ],
   "source": [
    "### instance of the cast members:\n",
    "# ('o', 'http://www.wikidata.org/entity/Q465556'), ('oname', 'Annie Ilonzeh')]\n",
    "\n",
    "queryString = \"\"\"\n",
    "SELECT ?p ?pname ?o ?oname\n",
    "WHERE { \n",
    "\n",
    "    wd:Q465556 ?p ?o .\n",
    "    # Labels\n",
    "    ?p <http://schema.org/name> ?pname .\n",
    "    ?o <http://schema.org/name> ?oname .\n",
    "    \n",
    "} \n",
    "LIMIT 20\n",
    "\"\"\"\n",
    "\n",
    "print(\"Results\")\n",
    "run_query(queryString)"
   ]
  },
  {
   "cell_type": "code",
   "execution_count": 48,
   "id": "d1701d38-2eda-4b0b-a164-26686e223527",
   "metadata": {},
   "outputs": [
    {
     "name": "stdout",
     "output_type": "stream",
     "text": [
      "Results\n",
      "[('p', 'http://www.wikidata.org/entity/Q147235'), ('pname', 'How I Met Your Mother'), ('o', 'http://www.wikidata.org/prop/direct/P161'), ('oname', 'cast member')]\n"
     ]
    },
    {
     "data": {
      "text/plain": [
       "1"
      ]
     },
     "execution_count": 48,
     "metadata": {},
     "output_type": "execute_result"
    }
   ],
   "source": [
    "### instance of the cast members:\n",
    "# ('o', 'http://www.wikidata.org/entity/Q465556'), ('oname', 'Annie Ilonzeh')]\n",
    "\n",
    "queryString = \"\"\"\n",
    "SELECT ?p ?pname ?o ?oname\n",
    "WHERE { \n",
    "\n",
    "    ?p ?o wd:Q465556 .\n",
    "    # Labels\n",
    "    ?p <http://schema.org/name> ?pname .\n",
    "    ?o <http://schema.org/name> ?oname .\n",
    "    FILTER regex(?pname, \"how I met your mother\", \"i\") \n",
    "    \n",
    "} \n",
    "LIMIT 20\n",
    "\"\"\"\n",
    "\n",
    "print(\"Results\")\n",
    "run_query(queryString)"
   ]
  },
  {
   "cell_type": "code",
   "execution_count": 49,
   "id": "885f08f6-867f-47fc-8c7d-b204bb586ba7",
   "metadata": {},
   "outputs": [
    {
     "name": "stdout",
     "output_type": "stream",
     "text": [
      "Results\n",
      "[('p', 'http://www.wikidata.org/prop/direct/P1811'), ('pname', 'list of episodes'), ('o', 'http://www.wikidata.org/entity/Q785891'), ('oname', 'list of How I Met Your Mother episodes')]\n"
     ]
    },
    {
     "data": {
      "text/plain": [
       "1"
      ]
     },
     "execution_count": 49,
     "metadata": {},
     "output_type": "execute_result"
    }
   ],
   "source": [
    "queryString = \"\"\"\n",
    "SELECT ?p ?pname ?o ?oname\n",
    "WHERE { \n",
    "\n",
    "    wd:Q147235 ?p ?o .\n",
    "    # Labels\n",
    "    ?p <http://schema.org/name> ?pname .\n",
    "    ?o <http://schema.org/name> ?oname .\n",
    "    FILTER regex(?pname, \"episode\", \"i\") \n",
    "} \n",
    "LIMIT 20\n",
    "\"\"\"\n",
    "\n",
    "print(\"Results\")\n",
    "run_query(queryString)"
   ]
  },
  {
   "cell_type": "code",
   "execution_count": 50,
   "id": "71ee74f0-499a-4a29-81b0-67e09bfdf7a0",
   "metadata": {},
   "outputs": [
    {
     "name": "stdout",
     "output_type": "stream",
     "text": [
      "Results\n",
      "[('countepisode', '20'), ('seasonname', 'How I Met Your Mother, season 3')]\n",
      "[('countepisode', '22'), ('seasonname', 'How I Met Your Mother, season 1')]\n",
      "[('countepisode', '22'), ('seasonname', 'How I Met Your Mother, season 2')]\n",
      "[('countepisode', '24'), ('seasonname', 'How I Met Your Mother, season 9')]\n",
      "[('countepisode', '24'), ('seasonname', 'How I Met Your Mother, season 7')]\n",
      "[('countepisode', '24'), ('seasonname', 'How I Met Your Mother, season 6')]\n",
      "[('countepisode', '24'), ('seasonname', 'How I Met Your Mother, season 8')]\n",
      "[('countepisode', '24'), ('seasonname', 'How I Met Your Mother, season 4')]\n",
      "[('countepisode', '24'), ('seasonname', 'How I Met Your Mother, season 5')]\n"
     ]
    },
    {
     "data": {
      "text/plain": [
       "9"
      ]
     },
     "execution_count": 50,
     "metadata": {},
     "output_type": "execute_result"
    }
   ],
   "source": [
    "#Count episodes of a season of HIMYM and show the number of seasons\n",
    "\n",
    "queryString = \"\"\"\n",
    "    SELECT ?countepisode ?seasonname WHERE {\n",
    "      {\n",
    "        SELECT ?season (COUNT (DISTINCT ?episode) AS ?countepisode) \n",
    "        WHERE { \n",
    "            wd:Q147235 wdt:P527 ?season .\n",
    "            ?season wdt:P527 ?episode .\n",
    "\n",
    "                } \n",
    "    GROUP BY ?season\n",
    "    } .\n",
    "     ## labels   \n",
    "    ?season <http://schema.org/name> ?seasonname .\n",
    "    }\n",
    "    ORDER BY (?countepisode) ?seasonname \n",
    "\n",
    "\n",
    "\"\"\"\n",
    "\n",
    "print(\"Results\")\n",
    "run_query(queryString)"
   ]
  },
  {
   "cell_type": "code",
   "execution_count": 51,
   "id": "96612268-6361-43be-b827-768c7d0e0081",
   "metadata": {},
   "outputs": [
    {
     "name": "stdout",
     "output_type": "stream",
     "text": [
      "Results\n",
      "[('season', 'http://www.wikidata.org/entity/Q2715578'), ('seasonname', 'How I Met Your Mother, season 1'), ('episode', 'http://www.wikidata.org/entity/Q467447'), ('episodename', 'Pilot')]\n",
      "[('season', 'http://www.wikidata.org/entity/Q582332'), ('seasonname', 'How I Met Your Mother, season 5'), ('episode', 'http://www.wikidata.org/entity/Q7538739'), ('episodename', 'Slapsgiving 2: Revenge of the Slap')]\n",
      "[('season', 'http://www.wikidata.org/entity/Q2555117'), ('seasonname', 'How I Met Your Mother, season 3'), ('episode', 'http://www.wikidata.org/entity/Q7776702'), ('episodename', 'The Yips')]\n",
      "[('season', 'http://www.wikidata.org/entity/Q13567027'), ('seasonname', 'How I Met Your Mother, season 9'), ('episode', 'http://www.wikidata.org/entity/Q16746127'), ('episodename', 'The Locket')]\n",
      "[('season', 'http://www.wikidata.org/entity/Q13567027'), ('seasonname', 'How I Met Your Mother, season 9'), ('episode', 'http://www.wikidata.org/entity/Q16746145'), ('episodename', 'Coming Back')]\n",
      "[('season', 'http://www.wikidata.org/entity/Q13567027'), ('seasonname', 'How I Met Your Mother, season 9'), ('episode', 'http://www.wikidata.org/entity/Q16746202'), ('episodename', 'Last Time in New York')]\n",
      "[('season', 'http://www.wikidata.org/entity/Q13567027'), ('seasonname', 'How I Met Your Mother, season 9'), ('episode', 'http://www.wikidata.org/entity/Q16746365'), ('episodename', 'Vesuvius')]\n",
      "[('season', 'http://www.wikidata.org/entity/Q582332'), ('seasonname', 'How I Met Your Mother, season 5'), ('episode', 'http://www.wikidata.org/entity/Q5299707'), ('episodename', 'Double Date')]\n",
      "[('season', 'http://www.wikidata.org/entity/Q3468515'), ('seasonname', 'How I Met Your Mother, season 2'), ('episode', 'http://www.wikidata.org/entity/Q5917914'), ('episodename', 'How Lily Stole Christmas')]\n",
      "[('season', 'http://www.wikidata.org/entity/Q2472427'), ('seasonname', 'How I Met Your Mother, season 7'), ('episode', 'http://www.wikidata.org/entity/Q7842088'), ('episodename', 'Trilogy Time')]\n"
     ]
    },
    {
     "data": {
      "text/plain": [
       "10"
      ]
     },
     "execution_count": 51,
     "metadata": {},
     "output_type": "execute_result"
    }
   ],
   "source": [
    "#Count episodes of a season of HIMYM and show the number of seasons\n",
    "\n",
    "queryString = \"\"\"\n",
    "\n",
    "SELECT ?season ?seasonname ?episode ?episodename\n",
    "WHERE { \n",
    "            wd:Q147235 wdt:P527 ?season .\n",
    "            ?season wdt:P527 ?episode .\n",
    "            ?season <http://schema.org/name> ?seasonname .\n",
    "            ?episode <http://schema.org/name> ?episodename .\n",
    "        } \n",
    "GROUP BY ?season\n",
    "LIMIT 10 \n",
    "\n",
    "\n",
    "\n",
    "\"\"\"\n",
    "\n",
    "print(\"Results\")\n",
    "run_query(queryString)"
   ]
  },
  {
   "cell_type": "code",
   "execution_count": 52,
   "id": "d68c50f8-10f5-4c6e-8bf6-35ee2d2422dd",
   "metadata": {},
   "outputs": [
    {
     "name": "stdout",
     "output_type": "stream",
     "text": [
      "Results\n",
      "[('p', 'http://www.wikidata.org/prop/direct/P161'), ('pname', 'cast member'), ('o', 'http://www.wikidata.org/entity/Q200566'), ('oname', 'Cobie Smulders')]\n",
      "[('p', 'http://www.wikidata.org/prop/direct/P161'), ('pname', 'cast member'), ('o', 'http://www.wikidata.org/entity/Q485310'), ('oname', 'Neil Patrick Harris')]\n",
      "[('p', 'http://www.wikidata.org/prop/direct/P161'), ('pname', 'cast member'), ('o', 'http://www.wikidata.org/entity/Q223455'), ('oname', 'Josh Radnor')]\n",
      "[('p', 'http://www.wikidata.org/prop/direct/P161'), ('pname', 'cast member'), ('o', 'http://www.wikidata.org/entity/Q199927'), ('oname', 'Alyson Hannigan')]\n",
      "[('p', 'http://www.wikidata.org/prop/direct/P161'), ('pname', 'cast member'), ('o', 'http://www.wikidata.org/entity/Q202304'), ('oname', 'Jason Segel')]\n",
      "[('p', 'http://www.wikidata.org/prop/direct/P161'), ('pname', 'cast member'), ('o', 'http://www.wikidata.org/entity/Q552889'), ('oname', 'Marshall Manesh')]\n",
      "[('p', 'http://www.wikidata.org/prop/direct/P161'), ('pname', 'cast member'), ('o', 'http://www.wikidata.org/entity/Q229914'), ('oname', 'Lyndsy Fonseca')]\n",
      "[('p', 'http://www.wikidata.org/prop/direct/P161'), ('pname', 'cast member'), ('o', 'http://www.wikidata.org/entity/Q333544'), ('oname', 'Bob Saget')]\n",
      "[('p', 'http://www.wikidata.org/prop/direct/P161'), ('pname', 'cast member'), ('o', 'http://www.wikidata.org/entity/Q297128'), ('oname', 'David Henrie')]\n"
     ]
    },
    {
     "data": {
      "text/plain": [
       "9"
      ]
     },
     "execution_count": 52,
     "metadata": {},
     "output_type": "execute_result"
    }
   ],
   "source": [
    "#[('season', 'http://www.wikidata.org/entity/Q2715578'),\n",
    "# ('seasonname', 'How I Met Your Mother, season 1'),\n",
    "# ('episode', 'http://www.wikidata.org/entity/Q467447'),\n",
    "# ('episodename', 'Pilot')]\n",
    "queryString = \"\"\"\n",
    "SELECT ?p ?pname ?o ?oname\n",
    "WHERE { \n",
    "\n",
    "    wd:Q467447 ?p ?o .\n",
    "    # Labels\n",
    "    ?p <http://schema.org/name> ?pname .\n",
    "    ?o <http://schema.org/name> ?oname .\n",
    "    FILTER regex(?pname, \"cast member\", \"i\") \n",
    "} \n",
    "LIMIT 20\n",
    "\"\"\"\n",
    "\n",
    "print(\"Results\")\n",
    "run_query(queryString)"
   ]
  },
  {
   "cell_type": "code",
   "execution_count": 53,
   "id": "d0849ebb-1f44-4a65-8c7a-ee5cd934e148",
   "metadata": {},
   "outputs": [
    {
     "name": "stdout",
     "output_type": "stream",
     "text": [
      "Results\n",
      "[('p', 'http://www.wikidata.org/entity/Q147235'), ('pname', 'How I Met Your Mother')]\n",
      "[('p', 'http://www.wikidata.org/entity/Q5264968'), ('pname', 'Desperation Day')]\n",
      "[('p', 'http://www.wikidata.org/entity/Q5521981'), ('pname', 'Garbage Island')]\n",
      "[('p', 'http://www.wikidata.org/entity/Q7080458'), ('pname', 'Oh Honey')]\n",
      "[('p', 'http://www.wikidata.org/entity/Q5888848'), ('pname', 'Home Wreckers')]\n",
      "[('p', 'http://www.wikidata.org/entity/Q7858076'), ('pname', 'Twin Beds')]\n",
      "[('p', 'http://www.wikidata.org/entity/Q8074081'), ('pname', 'Zoo or False')]\n",
      "[('p', 'http://www.wikidata.org/entity/Q1253366'), ('pname', 'The Smurfs 2')]\n",
      "[('p', 'http://www.wikidata.org/entity/Q842253'), ('pname', \"Dr. Horrible's Sing-Along Blog\")]\n",
      "[('p', 'http://www.wikidata.org/entity/Q2093198'), ('pname', 'Undercover Brother')]\n"
     ]
    },
    {
     "data": {
      "text/plain": [
       "10"
      ]
     },
     "execution_count": 53,
     "metadata": {},
     "output_type": "execute_result"
    }
   ],
   "source": [
    "#[('p', 'http://www.wikidata.org/prop/direct/P161'), \n",
    "#('pname', 'cast member'), ('o', 'http://www.wikidata.org/entity/Q485310'), ('oname', 'Neil Patrick Harris')]\n",
    "queryString = \"\"\"\n",
    "SELECT ?p ?pname \n",
    "WHERE { \n",
    "    \n",
    "    ?p wdt:P161 wd:Q485310  .\n",
    "    # Labels\n",
    "    ?p <http://schema.org/name> ?pname .\n",
    "\n",
    "    #FILTER regex(?pname, \"cast member\", \"i\") \n",
    "} \n",
    "LIMIT 10\n",
    "\"\"\"\n",
    "\n",
    "print(\"Results\")\n",
    "run_query(queryString)"
   ]
  },
  {
   "cell_type": "code",
   "execution_count": 54,
   "id": "08cf2d5a-e014-4dae-a823-a53f1c117052",
   "metadata": {},
   "outputs": [
    {
     "name": "stdout",
     "output_type": "stream",
     "text": [
      "Results\n",
      "[('countepisode', '20'), ('seasonname', 'How I Met Your Mother, season 3')]\n",
      "[('countepisode', '22'), ('seasonname', 'How I Met Your Mother, season 1')]\n",
      "[('countepisode', '22'), ('seasonname', 'How I Met Your Mother, season 2')]\n",
      "[('countepisode', '24'), ('seasonname', 'How I Met Your Mother, season 9')]\n",
      "[('countepisode', '24'), ('seasonname', 'How I Met Your Mother, season 7')]\n",
      "[('countepisode', '24'), ('seasonname', 'How I Met Your Mother, season 6')]\n",
      "[('countepisode', '24'), ('seasonname', 'How I Met Your Mother, season 8')]\n",
      "[('countepisode', '24'), ('seasonname', 'How I Met Your Mother, season 4')]\n",
      "[('countepisode', '24'), ('seasonname', 'How I Met Your Mother, season 5')]\n"
     ]
    },
    {
     "data": {
      "text/plain": [
       "9"
      ]
     },
     "execution_count": 54,
     "metadata": {},
     "output_type": "execute_result"
    }
   ],
   "source": [
    "#Count episodes of a season of HIMYM and show the number of seasons\n",
    "\n",
    "queryString = \"\"\"\n",
    "    SELECT?countepisode ?seasonname WHERE {\n",
    "      {\n",
    "        SELECT ?season (COUNT (DISTINCT ?episode) AS ?countepisode) \n",
    "        WHERE { \n",
    "            wd:Q147235 wdt:P527 ?season .\n",
    "            ?season wdt:P527 ?episode .\n",
    "\n",
    "                } \n",
    "    GROUP BY ?season\n",
    "    } .\n",
    "     ## labels   \n",
    "    ?season <http://schema.org/name> ?seasonname .\n",
    "    }\n",
    "    ORDER BY (?countepisode) ?seasonname \n",
    "\n",
    "\n",
    "\"\"\"\n",
    "\n",
    "print(\"Results\")\n",
    "run_query(queryString)"
   ]
  },
  {
   "cell_type": "code",
   "execution_count": 55,
   "id": "1c806d73-ee1b-4fd2-8de1-1f40b7a71c6c",
   "metadata": {},
   "outputs": [
    {
     "name": "stdout",
     "output_type": "stream",
     "text": [
      "Results\n",
      "[('seasonname', 'How I Met Your Mother, season 6'), ('episode', 'http://www.wikidata.org/entity/Q5264968'), ('episodename', 'Desperation Day')]\n",
      "[('seasonname', 'How I Met Your Mother, season 6'), ('episode', 'http://www.wikidata.org/entity/Q5521981'), ('episodename', 'Garbage Island')]\n",
      "[('seasonname', 'How I Met Your Mother, season 6'), ('episode', 'http://www.wikidata.org/entity/Q7080458'), ('episodename', 'Oh Honey')]\n",
      "[('seasonname', 'How I Met Your Mother, season 5'), ('episode', 'http://www.wikidata.org/entity/Q5888848'), ('episodename', 'Home Wreckers')]\n",
      "[('seasonname', 'How I Met Your Mother, season 5'), ('episode', 'http://www.wikidata.org/entity/Q7858076'), ('episodename', 'Twin Beds')]\n",
      "[('seasonname', 'How I Met Your Mother, season 5'), ('episode', 'http://www.wikidata.org/entity/Q8074081'), ('episodename', 'Zoo or False')]\n",
      "[('seasonname', 'How I Met Your Mother, season 6'), ('episode', 'http://www.wikidata.org/entity/Q4786988'), ('episodename', 'Architect of Destruction')]\n",
      "[('seasonname', 'How I Met Your Mother, season 6'), ('episode', 'http://www.wikidata.org/entity/Q4838409'), ('episodename', 'Baby Talk')]\n",
      "[('seasonname', 'How I Met Your Mother, season 6'), ('episode', 'http://www.wikidata.org/entity/Q7632493'), ('episodename', 'Subway Wars')]\n",
      "[('seasonname', 'How I Met Your Mother, season 1'), ('episode', 'http://www.wikidata.org/entity/Q11696021'), ('episodename', 'Nothing Good Happens After 2 A.M.')]\n"
     ]
    },
    {
     "data": {
      "text/plain": [
       "10"
      ]
     },
     "execution_count": 55,
     "metadata": {},
     "output_type": "execute_result"
    }
   ],
   "source": [
    "#Count episodes of a season of HIMYM and show the number of seasons\n",
    "\n",
    "queryString = \"\"\"\n",
    "\n",
    "        SELECT ?seasonname ?episode ?episodename\n",
    "        WHERE { \n",
    "            wd:Q147235 wdt:P527 ?season .\n",
    "            ?season wdt:P527 ?episode .\n",
    "            ?season <http://schema.org/name> ?seasonname .\n",
    "            ?episode <http://schema.org/name> ?episodename .\n",
    "\n",
    "                } \n",
    "                LIMIT 10\n",
    "\"\"\"\n",
    "\n",
    "print(\"Results\")\n",
    "run_query(queryString)"
   ]
  },
  {
   "cell_type": "code",
   "execution_count": 56,
   "id": "46276ad6-3481-43d2-a824-b79464383cff",
   "metadata": {},
   "outputs": [
    {
     "name": "stdout",
     "output_type": "stream",
     "text": [
      "Results\n",
      "[('p', 'http://www.wikidata.org/prop/direct/P161'), ('pname', 'cast member'), ('o', 'http://www.wikidata.org/entity/Q200566'), ('oname', 'Cobie Smulders')]\n",
      "[('p', 'http://www.wikidata.org/prop/direct/P161'), ('pname', 'cast member'), ('o', 'http://www.wikidata.org/entity/Q439070'), ('oname', 'E. E. Bell')]\n",
      "[('p', 'http://www.wikidata.org/prop/direct/P179'), ('pname', 'part of the series'), ('o', 'http://www.wikidata.org/entity/Q147235'), ('oname', 'How I Met Your Mother')]\n",
      "[('p', 'http://www.wikidata.org/prop/direct/P57'), ('pname', 'director'), ('o', 'http://www.wikidata.org/entity/Q460221'), ('oname', 'Pamela Fryman')]\n",
      "[('p', 'http://www.wikidata.org/prop/direct/P156'), ('pname', 'followed by'), ('o', 'http://www.wikidata.org/entity/Q5888848'), ('oname', 'Home Wreckers')]\n",
      "[('p', 'http://www.wikidata.org/prop/direct/P364'), ('pname', 'original language of film or TV show'), ('o', 'http://www.wikidata.org/entity/Q1860'), ('oname', 'English')]\n",
      "[('p', 'http://www.wikidata.org/prop/direct/P31'), ('pname', 'instance of'), ('o', 'http://www.wikidata.org/entity/Q21191270'), ('oname', 'television series episode')]\n",
      "[('p', 'http://www.wikidata.org/prop/direct/P161'), ('pname', 'cast member'), ('o', 'http://www.wikidata.org/entity/Q485310'), ('oname', 'Neil Patrick Harris')]\n",
      "[('p', 'http://www.wikidata.org/prop/direct/P161'), ('pname', 'cast member'), ('o', 'http://www.wikidata.org/entity/Q223455'), ('oname', 'Josh Radnor')]\n",
      "[('p', 'http://www.wikidata.org/prop/direct/P161'), ('pname', 'cast member'), ('o', 'http://www.wikidata.org/entity/Q199927'), ('oname', 'Alyson Hannigan')]\n",
      "[('p', 'http://www.wikidata.org/prop/direct/P161'), ('pname', 'cast member'), ('o', 'http://www.wikidata.org/entity/Q1802786'), ('oname', 'Matt L. Jones')]\n",
      "[('p', 'http://www.wikidata.org/prop/direct/P161'), ('pname', 'cast member'), ('o', 'http://www.wikidata.org/entity/Q202304'), ('oname', 'Jason Segel')]\n",
      "[('p', 'http://www.wikidata.org/prop/direct/P161'), ('pname', 'cast member'), ('o', 'http://www.wikidata.org/entity/Q2604240'), ('oname', 'Collette Wolfe')]\n",
      "[('p', 'http://www.wikidata.org/prop/direct/P58'), ('pname', 'screenwriter'), ('o', 'http://www.wikidata.org/entity/Q2656047'), ('oname', 'Carter Bays')]\n",
      "[('p', 'http://www.wikidata.org/prop/direct/P58'), ('pname', 'screenwriter'), ('o', 'http://www.wikidata.org/entity/Q3002075'), ('oname', 'Craig Thomas')]\n",
      "[('p', 'http://www.wikidata.org/prop/direct/P161'), ('pname', 'cast member'), ('o', 'http://www.wikidata.org/entity/Q333544'), ('oname', 'Bob Saget')]\n",
      "[('p', 'http://www.wikidata.org/prop/direct/P155'), ('pname', 'follows'), ('o', 'http://www.wikidata.org/entity/Q7428911'), ('oname', 'Say Cheese')]\n",
      "[('p', 'http://www.wikidata.org/prop/direct/P4908'), ('pname', 'season'), ('o', 'http://www.wikidata.org/entity/Q582332'), ('oname', 'How I Met Your Mother, season 5')]\n"
     ]
    },
    {
     "data": {
      "text/plain": [
       "18"
      ]
     },
     "execution_count": 56,
     "metadata": {},
     "output_type": "execute_result"
    }
   ],
   "source": [
    "#Q8074081' episode name\n",
    "queryString = \"\"\"\n",
    "SELECT ?p ?pname ?o ?oname\n",
    "WHERE { \n",
    "\n",
    "    wd:Q8074081 ?p ?o .\n",
    "    # Labels\n",
    "    ?p <http://schema.org/name> ?pname .\n",
    "    ?o <http://schema.org/name> ?oname .\n",
    "\n",
    "\n",
    "\n",
    "    #FILTER regex(?pname, \"episode\", \"i\") \n",
    "} \n",
    "LIMIT 20\n",
    "\"\"\"\n",
    "\n",
    "print(\"Results\")\n",
    "run_query(queryString)"
   ]
  },
  {
   "cell_type": "code",
   "execution_count": 57,
   "id": "2b5c6372-0dfb-4f62-ab81-36d67447c705",
   "metadata": {},
   "outputs": [
    {
     "name": "stdout",
     "output_type": "stream",
     "text": [
      "Results\n",
      "[('episodename', 'Desperation Day'), ('castname', 'Cobie Smulders')]\n",
      "[('episodename', 'Desperation Day'), ('castname', 'Bill Fagerbakke')]\n",
      "[('episodename', 'Desperation Day'), ('castname', 'Nazanin Boniadi')]\n",
      "[('episodename', 'Desperation Day'), ('castname', 'Jennifer Morrison')]\n",
      "[('episodename', 'Desperation Day'), ('castname', 'Jesse Heiman')]\n",
      "[('episodename', 'Desperation Day'), ('castname', 'Neil Patrick Harris')]\n",
      "[('episodename', 'Desperation Day'), ('castname', 'Josh Radnor')]\n",
      "[('episodename', 'Desperation Day'), ('castname', 'Suzie Plakson')]\n",
      "[('episodename', 'Desperation Day'), ('castname', 'Alyson Hannigan')]\n",
      "[('episodename', 'Desperation Day'), ('castname', 'Jason Segel')]\n",
      "[('episodename', 'Desperation Day'), ('castname', 'Bob Saget')]\n",
      "[('episodename', 'Garbage Island'), ('castname', 'Cobie Smulders')]\n",
      "[('episodename', 'Garbage Island'), ('castname', 'Nazanin Boniadi')]\n",
      "[('episodename', 'Garbage Island'), ('castname', 'Jennifer Morrison')]\n",
      "[('episodename', 'Garbage Island'), ('castname', 'Neil Patrick Harris')]\n",
      "[('episodename', 'Garbage Island'), ('castname', 'Charlene Amoia')]\n",
      "[('episodename', 'Garbage Island'), ('castname', 'Josh Radnor')]\n",
      "[('episodename', 'Garbage Island'), ('castname', 'Kyle MacLachlan')]\n",
      "[('episodename', 'Garbage Island'), ('castname', 'Bob Odenkirk')]\n",
      "[('episodename', 'Garbage Island'), ('castname', 'Alyson Hannigan')]\n"
     ]
    },
    {
     "data": {
      "text/plain": [
       "20"
      ]
     },
     "execution_count": 57,
     "metadata": {},
     "output_type": "execute_result"
    }
   ],
   "source": [
    "#Q8074081' episode name\n",
    "queryString = \"\"\"\n",
    "SELECT ?episodename ?castname\n",
    "WHERE { \n",
    "    wd:Q147235 wdt:P527 ?season .\n",
    "    ?season wdt:P527 ?episode .\n",
    "    ?episode wdt:P161 ?cast .\n",
    "    # Labels\n",
    "    #?season <http://schema.org/name> ?seasonname .\n",
    "    ?episode <http://schema.org/name> ?episodename .\n",
    "    ?cast <http://schema.org/name> ?castname .\n",
    "\n",
    "\n",
    "\n",
    "    #FILTER regex(?pname, \"episode\", \"i\") \n",
    "} \n",
    "LIMIT 20\n",
    "\"\"\"\n",
    "\n",
    "print(\"Results\")\n",
    "run_query(queryString)"
   ]
  },
  {
   "cell_type": "code",
   "execution_count": 58,
   "id": "5953a816-623b-40b6-9809-86868bb5c666",
   "metadata": {},
   "outputs": [
    {
     "name": "stdout",
     "output_type": "stream",
     "text": [
      "Results\n",
      "[('episodename', 'Desperation Day'), ('castname', 'Cobie Smulders'), ('cast', 'http://www.wikidata.org/entity/Q200566')]\n",
      "[('episodename', 'Desperation Day'), ('castname', 'Bill Fagerbakke'), ('cast', 'http://www.wikidata.org/entity/Q591238')]\n",
      "[('episodename', 'Desperation Day'), ('castname', 'Nazanin Boniadi'), ('cast', 'http://www.wikidata.org/entity/Q1189102')]\n",
      "[('episodename', 'Desperation Day'), ('castname', 'Jennifer Morrison'), ('cast', 'http://www.wikidata.org/entity/Q199929')]\n",
      "[('episodename', 'Desperation Day'), ('castname', 'Jesse Heiman'), ('cast', 'http://www.wikidata.org/entity/Q978367')]\n",
      "[('episodename', 'Desperation Day'), ('castname', 'Neil Patrick Harris'), ('cast', 'http://www.wikidata.org/entity/Q485310')]\n",
      "[('episodename', 'Desperation Day'), ('castname', 'Josh Radnor'), ('cast', 'http://www.wikidata.org/entity/Q223455')]\n",
      "[('episodename', 'Desperation Day'), ('castname', 'Suzie Plakson'), ('cast', 'http://www.wikidata.org/entity/Q1396070')]\n",
      "[('episodename', 'Desperation Day'), ('castname', 'Alyson Hannigan'), ('cast', 'http://www.wikidata.org/entity/Q199927')]\n",
      "[('episodename', 'Desperation Day'), ('castname', 'Jason Segel'), ('cast', 'http://www.wikidata.org/entity/Q202304')]\n",
      "[('episodename', 'Desperation Day'), ('castname', 'Bob Saget'), ('cast', 'http://www.wikidata.org/entity/Q333544')]\n",
      "[('episodename', 'Garbage Island'), ('castname', 'Cobie Smulders'), ('cast', 'http://www.wikidata.org/entity/Q200566')]\n",
      "[('episodename', 'Garbage Island'), ('castname', 'Nazanin Boniadi'), ('cast', 'http://www.wikidata.org/entity/Q1189102')]\n",
      "[('episodename', 'Garbage Island'), ('castname', 'Jennifer Morrison'), ('cast', 'http://www.wikidata.org/entity/Q199929')]\n",
      "[('episodename', 'Garbage Island'), ('castname', 'Neil Patrick Harris'), ('cast', 'http://www.wikidata.org/entity/Q485310')]\n",
      "[('episodename', 'Garbage Island'), ('castname', 'Charlene Amoia'), ('cast', 'http://www.wikidata.org/entity/Q16149506')]\n",
      "[('episodename', 'Garbage Island'), ('castname', 'Josh Radnor'), ('cast', 'http://www.wikidata.org/entity/Q223455')]\n",
      "[('episodename', 'Garbage Island'), ('castname', 'Kyle MacLachlan'), ('cast', 'http://www.wikidata.org/entity/Q207506')]\n",
      "[('episodename', 'Garbage Island'), ('castname', 'Bob Odenkirk'), ('cast', 'http://www.wikidata.org/entity/Q888178')]\n",
      "[('episodename', 'Garbage Island'), ('castname', 'Alyson Hannigan'), ('cast', 'http://www.wikidata.org/entity/Q199927')]\n"
     ]
    },
    {
     "data": {
      "text/plain": [
       "20"
      ]
     },
     "execution_count": 58,
     "metadata": {},
     "output_type": "execute_result"
    }
   ],
   "source": [
    "#Q8074081' episode name\n",
    "queryString = \"\"\"\n",
    "SELECT ?episodename ?castname ?cast\n",
    "WHERE { \n",
    "    wd:Q147235 wdt:P527 ?season .\n",
    "    ?season wdt:P527 ?episode .\n",
    "    ?episode wdt:P161 ?cast .\n",
    "    # Labels\n",
    "    #?season <http://schema.org/name> ?seasonname .\n",
    "    ?episode <http://schema.org/name> ?episodename .\n",
    "    ?cast <http://schema.org/name> ?castname .\n",
    "\n",
    "\n",
    "\n",
    "    #FILTER regex(?pname, \"episode\", \"i\") \n",
    "} \n",
    "LIMIT 20\n",
    "\"\"\"\n",
    "\n",
    "print(\"Results\")\n",
    "run_query(queryString)"
   ]
  },
  {
   "cell_type": "code",
   "execution_count": 59,
   "id": "0f720aa1-5385-4dd2-aa25-0b3abe07316b",
   "metadata": {},
   "outputs": [
    {
     "name": "stdout",
     "output_type": "stream",
     "text": [
      "Results\n",
      "[('p', 'http://www.wikidata.org/prop/direct/P106'), ('pname', 'occupation'), ('o', 'http://www.wikidata.org/entity/Q10798782'), ('oname', 'television actor')]\n",
      "[('p', 'http://www.wikidata.org/prop/direct/P106'), ('pname', 'occupation'), ('o', 'http://www.wikidata.org/entity/Q10800557'), ('oname', 'film actor')]\n",
      "[('p', 'http://www.wikidata.org/prop/direct/P27'), ('pname', 'country of citizenship'), ('o', 'http://www.wikidata.org/entity/Q145'), ('oname', 'United Kingdom')]\n",
      "[('p', 'http://www.wikidata.org/prop/direct/P106'), ('pname', 'occupation'), ('o', 'http://www.wikidata.org/entity/Q33999'), ('oname', 'actor')]\n",
      "[('p', 'http://www.wikidata.org/prop/direct/P19'), ('pname', 'place of birth'), ('o', 'http://www.wikidata.org/entity/Q3616'), ('oname', 'Tehran')]\n",
      "[('p', 'http://www.wikidata.org/prop/direct/P140'), ('pname', 'religion'), ('o', 'http://www.wikidata.org/entity/Q432'), ('oname', 'Islam')]\n",
      "[('p', 'http://www.wikidata.org/prop/direct/P31'), ('pname', 'instance of'), ('o', 'http://www.wikidata.org/entity/Q5'), ('oname', 'human')]\n",
      "[('p', 'http://www.wikidata.org/prop/direct/P551'), ('pname', 'residence'), ('o', 'http://www.wikidata.org/entity/Q65'), ('oname', 'Los Angeles')]\n",
      "[('p', 'http://www.wikidata.org/prop/direct/P21'), ('pname', 'sex or gender'), ('o', 'http://www.wikidata.org/entity/Q6581072'), ('oname', 'female')]\n",
      "[('p', 'http://www.wikidata.org/prop/direct/P551'), ('pname', 'residence'), ('o', 'http://www.wikidata.org/entity/Q84'), ('oname', 'London')]\n",
      "[('p', 'http://www.wikidata.org/prop/direct/P2348'), ('pname', 'time period'), ('o', 'http://www.wikidata.org/entity/Q6939'), ('oname', '21st century')]\n",
      "[('p', 'http://www.wikidata.org/prop/direct/P69'), ('pname', 'educated at'), ('o', 'http://www.wikidata.org/entity/Q868421'), ('oname', 'University of California, Irvine')]\n",
      "[('p', 'http://www.wikidata.org/prop/direct/P140'), ('pname', 'religion'), ('o', 'http://www.wikidata.org/entity/Q131036'), ('oname', 'Scientology')]\n",
      "[('p', 'http://www.wikidata.org/prop/direct/P735'), ('pname', 'given name'), ('o', 'http://www.wikidata.org/entity/Q61795178'), ('oname', 'Nazanin')]\n"
     ]
    },
    {
     "data": {
      "text/plain": [
       "14"
      ]
     },
     "execution_count": 59,
     "metadata": {},
     "output_type": "execute_result"
    }
   ],
   "source": [
    "# 'Nazanin Boniadi' ('cast', 'http://www.wikidata.org/entity/Q1189102')\n",
    "\n",
    "queryString = \"\"\"\n",
    "SELECT ?p ?pname ?o ?oname\n",
    "WHERE { \n",
    "\n",
    "    wd:Q1189102 ?p ?o .\n",
    "    # Labels\n",
    "    ?p <http://schema.org/name> ?pname .\n",
    "    ?o <http://schema.org/name> ?oname .\n",
    "\n",
    "} \n",
    "LIMIT 20\n",
    "\"\"\"\n",
    "\n",
    "print(\"Results\")\n",
    "run_query(queryString)"
   ]
  },
  {
   "cell_type": "code",
   "execution_count": 60,
   "id": "9a86c4ae-92c5-4a51-89ad-1f1dec66046f",
   "metadata": {},
   "outputs": [
    {
     "name": "stdout",
     "output_type": "stream",
     "text": [
      "Results\n",
      "[('countepisode', '8')]\n"
     ]
    },
    {
     "data": {
      "text/plain": [
       "1"
      ]
     },
     "execution_count": 60,
     "metadata": {},
     "output_type": "execute_result"
    }
   ],
   "source": [
    "# the number of episodes a cast played # Q1189102 'Nazanin Boniadi' \n",
    "\n",
    "queryString = \"\"\"\n",
    "SELECT (COUNT (DISTINCT ?episode) AS ?countepisode) WHERE\n",
    "{ \n",
    "    wd:Q147235 wdt:P527 ?season .\n",
    "    ?season wdt:P527 ?episode .\n",
    "    ?episode wdt:P161 wd:Q1189102 .\n",
    "    # Labels\n",
    "    #?season <http://schema.org/name> ?seasonname .\n",
    "    ?episode <http://schema.org/name> ?episodename .\n",
    "    #?cast <http://schema.org/name> ?castname .\n",
    "} \n",
    "LIMIT 20\n",
    "\"\"\"\n",
    "\n",
    "print(\"Results\")\n",
    "run_query(queryString)"
   ]
  },
  {
   "cell_type": "markdown",
   "id": "8e0a595c-1b64-4127-bbca-3821e712eb95",
   "metadata": {},
   "source": [
    "## Get the number of HIMYM episodes in which the cast members played a role. Who are the most present actors?"
   ]
  },
  {
   "cell_type": "code",
   "execution_count": 61,
   "id": "0bf4fe9f-86c2-4935-8d69-40051da0e263",
   "metadata": {},
   "outputs": [
    {
     "name": "stdout",
     "output_type": "stream",
     "text": [
      "Results\n",
      "[('castname', 'Cobie Smulders'), ('cast', 'http://www.wikidata.org/entity/Q200566'), ('countepisode', '145')]\n",
      "[('castname', 'Neil Patrick Harris'), ('cast', 'http://www.wikidata.org/entity/Q485310'), ('countepisode', '145')]\n",
      "[('castname', 'Josh Radnor'), ('cast', 'http://www.wikidata.org/entity/Q223455'), ('countepisode', '145')]\n",
      "[('castname', 'Jason Segel'), ('cast', 'http://www.wikidata.org/entity/Q202304'), ('countepisode', '145')]\n",
      "[('castname', 'Alyson Hannigan'), ('cast', 'http://www.wikidata.org/entity/Q199927'), ('countepisode', '143')]\n",
      "[('castname', 'Bob Saget'), ('cast', 'http://www.wikidata.org/entity/Q333544'), ('countepisode', '142')]\n",
      "[('castname', 'David Henrie'), ('cast', 'http://www.wikidata.org/entity/Q297128'), ('countepisode', '48')]\n",
      "[('castname', 'Lyndsy Fonseca'), ('cast', 'http://www.wikidata.org/entity/Q229914'), ('countepisode', '48')]\n",
      "[('castname', 'Charlene Amoia'), ('cast', 'http://www.wikidata.org/entity/Q16149506'), ('countepisode', '17')]\n",
      "[('castname', 'Jennifer Morrison'), ('cast', 'http://www.wikidata.org/entity/Q199929'), ('countepisode', '12')]\n",
      "[('castname', 'Marshall Manesh'), ('cast', 'http://www.wikidata.org/entity/Q552889'), ('countepisode', '11')]\n",
      "[('castname', 'Sarah Chalke'), ('cast', 'http://www.wikidata.org/entity/Q229728'), ('countepisode', '10')]\n",
      "[('castname', 'Bill Fagerbakke'), ('cast', 'http://www.wikidata.org/entity/Q591238'), ('countepisode', '9')]\n",
      "[('castname', 'Ashley Williams'), ('cast', 'http://www.wikidata.org/entity/Q435839'), ('countepisode', '9')]\n",
      "[('castname', 'Suzie Plakson'), ('cast', 'http://www.wikidata.org/entity/Q1396070'), ('countepisode', '9')]\n",
      "[('castname', 'Nazanin Boniadi'), ('cast', 'http://www.wikidata.org/entity/Q1189102'), ('countepisode', '8')]\n",
      "[('castname', 'Bob Odenkirk'), ('cast', 'http://www.wikidata.org/entity/Q888178'), ('countepisode', '7')]\n",
      "[('castname', 'Bryan Callen'), ('cast', 'http://www.wikidata.org/entity/Q1139526'), ('countepisode', '6')]\n",
      "[('castname', 'Joe Manganiello'), ('cast', 'http://www.wikidata.org/entity/Q470005'), ('countepisode', '5')]\n",
      "[('castname', 'Darcy Rose Byrnes'), ('cast', 'http://www.wikidata.org/entity/Q454698'), ('countepisode', '5')]\n"
     ]
    },
    {
     "data": {
      "text/plain": [
       "20"
      ]
     },
     "execution_count": 61,
     "metadata": {},
     "output_type": "execute_result"
    }
   ],
   "source": [
    "# the number of episodes a cast played \n",
    "\n",
    "queryString = \"\"\"\n",
    "SELECT ?castname ?cast (COUNT (DISTINCT ?episode) AS ?countepisode) WHERE\n",
    "{ \n",
    "    wd:Q147235 wdt:P527 ?season .\n",
    "    ?season wdt:P527 ?episode .\n",
    "    ?episode wdt:P161 ?cast .\n",
    "    # Labels\n",
    "    ?season <http://schema.org/name> ?seasonname .\n",
    "    ?episode <http://schema.org/name> ?episodename .\n",
    "    ?cast <http://schema.org/name> ?castname .\n",
    "} \n",
    "ORDER BY DESC (?countepisode)\n",
    "LIMIT 20\n",
    "\"\"\"\n",
    "\n",
    "print(\"Results\")\n",
    "run_query(queryString)"
   ]
  },
  {
   "cell_type": "markdown",
   "id": "b88df30f-325b-4331-8f92-774dc9575c33",
   "metadata": {},
   "source": [
    "## Get the number of The office episodes in which the cast members played a role. Who are the most present actors?"
   ]
  },
  {
   "cell_type": "code",
   "execution_count": 62,
   "id": "c861521e-f62e-4351-9312-8365a17d67df",
   "metadata": {},
   "outputs": [
    {
     "name": "stdout",
     "output_type": "stream",
     "text": [
      "Results\n",
      "[('castname', 'Ellie Kemper'), ('countepisode', '1')]\n",
      "[('castname', 'Craig Robinson'), ('countepisode', '1')]\n",
      "[('castname', 'Catherine Tate'), ('countepisode', '1')]\n",
      "[('castname', 'Jenna Fischer'), ('countepisode', '1')]\n",
      "[('castname', 'Rainn Wilson'), ('countepisode', '1')]\n",
      "[('castname', 'Ed Helms'), ('countepisode', '1')]\n",
      "[('castname', 'John Krasinski'), ('countepisode', '1')]\n"
     ]
    },
    {
     "data": {
      "text/plain": [
       "7"
      ]
     },
     "execution_count": 62,
     "metadata": {},
     "output_type": "execute_result"
    }
   ],
   "source": [
    "# the number of episodes a cast played \n",
    "\n",
    "queryString = \"\"\"\n",
    "SELECT ?castname (COUNT (DISTINCT ?episode) AS ?countepisode) WHERE\n",
    "{ \n",
    "    wd:Q23831 wdt:P527 ?season .\n",
    "    ?season wdt:P527 ?episode .\n",
    "    ?episode wdt:P161 ?cast .\n",
    "    # Labels\n",
    "    ?season <http://schema.org/name> ?seasonname .\n",
    "    ?episode <http://schema.org/name> ?episodename .\n",
    "    ?cast <http://schema.org/name> ?castname .\n",
    "} \n",
    "ORDER BY DESC (?countepisode)\n",
    "LIMIT 20\n",
    "\"\"\"\n",
    "\n",
    "print(\"Results\")\n",
    "run_query(queryString)"
   ]
  },
  {
   "cell_type": "code",
   "execution_count": 63,
   "id": "1241c789-a109-487a-a07c-d3e779505855",
   "metadata": {},
   "outputs": [
    {
     "name": "stdout",
     "output_type": "stream",
     "text": [
      "Results\n",
      "[('episode', 'http://www.wikidata.org/entity/Q50379836'), ('episodename', 'Classy Christmas (part 1)')]\n",
      "[('episode', 'http://www.wikidata.org/entity/Q50379837'), ('episodename', 'Classy Christmas (part 2)')]\n",
      "[('episode', 'http://www.wikidata.org/entity/Q5099551'), ('episodename', 'China')]\n",
      "[('episode', 'http://www.wikidata.org/entity/Q5178024'), ('episodename', 'Couples Discount')]\n",
      "[('episode', 'http://www.wikidata.org/entity/Q6927074'), ('episodename', 'Moving On')]\n",
      "[('episode', 'http://www.wikidata.org/entity/Q7880294'), ('episodename', 'Ultimatum')]\n",
      "[('episode', 'http://www.wikidata.org/entity/Q7914333'), ('episodename', 'Vandalism')]\n",
      "[('episode', 'http://www.wikidata.org/entity/Q4838397'), ('episodename', 'Baby Shower')]\n",
      "[('episode', 'http://www.wikidata.org/entity/Q5001718'), ('episodename', 'Business Ethics')]\n",
      "[('episode', 'http://www.wikidata.org/entity/Q5185169'), ('episodename', 'Crime Aid')]\n",
      "[('episode', 'http://www.wikidata.org/entity/Q4956350'), ('episodename', 'Branch Closing')]\n",
      "[('episode', 'http://www.wikidata.org/entity/Q5284730'), ('episodename', 'Diwali')]\n",
      "[('episode', 'http://www.wikidata.org/entity/Q7751073'), ('episodename', 'The Merger')]\n",
      "[('episode', 'http://www.wikidata.org/entity/Q5017095'), ('episodename', 'Cafe Disco')]\n",
      "[('episode', 'http://www.wikidata.org/entity/Q5050849'), ('episodename', 'Casual Friday')]\n",
      "[('episode', 'http://www.wikidata.org/entity/Q5155530'), ('episodename', 'Company Picnic')]\n",
      "[('episode', 'http://www.wikidata.org/entity/Q16744428'), ('episodename', 'Job Fair')]\n",
      "[('episode', 'http://www.wikidata.org/entity/Q50379716'), ('episodename', 'Goodbye, Toby (part 1)')]\n",
      "[('episode', 'http://www.wikidata.org/entity/Q50379718'), ('episodename', 'Goodbye, Toby (part 2)')]\n",
      "[('episode', 'http://www.wikidata.org/entity/Q5583196'), ('episodename', 'Goodbye, Michael')]\n"
     ]
    },
    {
     "data": {
      "text/plain": [
       "20"
      ]
     },
     "execution_count": 63,
     "metadata": {},
     "output_type": "execute_result"
    }
   ],
   "source": [
    "# the number of episodes a cast played \n",
    "\n",
    "queryString = \"\"\"\n",
    "SELECT ?episode ?episodename WHERE\n",
    "{ \n",
    "    wd:Q23831 wdt:P527 ?season .\n",
    "    ?season wdt:P527 ?episode .\n",
    "    # Labels\n",
    "    ?season <http://schema.org/name> ?seasonname .\n",
    "    ?episode <http://schema.org/name> ?episodename .\n",
    "    #?cast <http://schema.org/name> ?castname .\n",
    "} \n",
    "LIMIT 20\n",
    "\n",
    "\"\"\"\n",
    "\n",
    "print(\"Results\")\n",
    "run_query(queryString)"
   ]
  },
  {
   "cell_type": "code",
   "execution_count": 64,
   "id": "a5309a2b-0d2b-4c6e-b6fe-756cd29390cf",
   "metadata": {},
   "outputs": [
    {
     "name": "stdout",
     "output_type": "stream",
     "text": [
      "Results\n",
      "[('seasonname', 'The Office, season 1'), ('countepisode', '6')]\n",
      "[('seasonname', 'The Office, season 2'), ('countepisode', '22')]\n",
      "[('seasonname', 'The Office, season 3'), ('countepisode', '25')]\n",
      "[('seasonname', 'The Office, season 4'), ('countepisode', '19')]\n",
      "[('seasonname', 'The Office, season 5'), ('countepisode', '28')]\n",
      "[('seasonname', 'The Office, season 6'), ('countepisode', '26')]\n",
      "[('seasonname', 'The Office, season 7'), ('countepisode', '26')]\n",
      "[('seasonname', 'The Office, season 8'), ('countepisode', '24')]\n",
      "[('seasonname', 'The Office, season 9'), ('countepisode', '25')]\n"
     ]
    },
    {
     "data": {
      "text/plain": [
       "9"
      ]
     },
     "execution_count": 64,
     "metadata": {},
     "output_type": "execute_result"
    }
   ],
   "source": [
    "#Count episodes of a season of The Office and show the number of seasons\n",
    "\n",
    "queryString = \"\"\"\n",
    "    SELECT ?seasonname ?countepisode WHERE {\n",
    "      {\n",
    "        SELECT ?season (COUNT (DISTINCT ?episode) AS ?countepisode) \n",
    "        WHERE { \n",
    "            wd:Q23831 wdt:P527 ?season .\n",
    "            ?season wdt:P527 ?episode .\n",
    "\n",
    "                } \n",
    "    GROUP BY ?season\n",
    "    } .\n",
    "     ## labels   \n",
    "    ?season <http://schema.org/name> ?seasonname .\n",
    "    }\n",
    "    ORDER BY (?seasonname) ?countepisode\n",
    "\n",
    "\n",
    "\"\"\"\n",
    "\n",
    "print(\"Results\")\n",
    "run_query(queryString)"
   ]
  },
  {
   "cell_type": "code",
   "execution_count": 65,
   "id": "ecedb386-187a-48c8-9fc3-0147a9b489a3",
   "metadata": {},
   "outputs": [
    {
     "name": "stdout",
     "output_type": "stream",
     "text": [
      "Results\n",
      "[('p', 'http://www.wikidata.org/prop/direct/P449'), ('pname', 'original broadcaster'), ('o', 'http://www.wikidata.org/entity/Q13974'), ('oname', 'NBC')]\n",
      "[('p', 'http://www.wikidata.org/prop/direct/P161'), ('pname', 'cast member'), ('o', 'http://www.wikidata.org/entity/Q1050211'), ('oname', 'Leslie David Baker')]\n",
      "[('p', 'http://www.wikidata.org/prop/direct/P161'), ('pname', 'cast member'), ('o', 'http://www.wikidata.org/entity/Q1139248'), ('oname', 'Oscar Nunez')]\n",
      "[('p', 'http://www.wikidata.org/prop/direct/P161'), ('pname', 'cast member'), ('o', 'http://www.wikidata.org/entity/Q216221'), ('oname', 'Steve Carell')]\n",
      "[('p', 'http://www.wikidata.org/prop/direct/P161'), ('pname', 'cast member'), ('o', 'http://www.wikidata.org/entity/Q2238008'), ('oname', 'Creed Bratton')]\n",
      "[('p', 'http://www.wikidata.org/prop/direct/P161'), ('pname', 'cast member'), ('o', 'http://www.wikidata.org/entity/Q231203'), ('oname', 'Amy Ryan')]\n",
      "[('p', 'http://www.wikidata.org/prop/direct/P161'), ('pname', 'cast member'), ('o', 'http://www.wikidata.org/entity/Q238877'), ('oname', 'Jenna Fischer')]\n",
      "[('p', 'http://www.wikidata.org/prop/direct/P161'), ('pname', 'cast member'), ('o', 'http://www.wikidata.org/entity/Q254766'), ('oname', 'Catherine Tate')]\n",
      "[('p', 'http://www.wikidata.org/prop/direct/P161'), ('pname', 'cast member'), ('o', 'http://www.wikidata.org/entity/Q2669971'), ('oname', 'Angela Kinsey')]\n",
      "[('p', 'http://www.wikidata.org/prop/direct/P161'), ('pname', 'cast member'), ('o', 'http://www.wikidata.org/entity/Q2671438'), ('oname', 'Paul Lieberstein')]\n",
      "[('p', 'http://www.wikidata.org/prop/direct/P161'), ('pname', 'cast member'), ('o', 'http://www.wikidata.org/entity/Q269901'), ('oname', 'Melora Hardin')]\n",
      "[('p', 'http://www.wikidata.org/prop/direct/P161'), ('pname', 'cast member'), ('o', 'http://www.wikidata.org/entity/Q2924850'), ('oname', 'Brian Baumgartner')]\n",
      "[('p', 'http://www.wikidata.org/prop/direct/P161'), ('pname', 'cast member'), ('o', 'http://www.wikidata.org/entity/Q296928'), ('oname', 'James Spader')]\n",
      "[('p', 'http://www.wikidata.org/prop/direct/P161'), ('pname', 'cast member'), ('o', 'http://www.wikidata.org/entity/Q3028200'), ('oname', 'Kate Flannery')]\n",
      "[('p', 'http://www.wikidata.org/prop/direct/P161'), ('pname', 'cast member'), ('o', 'http://www.wikidata.org/entity/Q313039'), ('oname', 'John Krasinski')]\n",
      "[('p', 'http://www.wikidata.org/prop/direct/P161'), ('pname', 'cast member'), ('o', 'http://www.wikidata.org/entity/Q328790'), ('oname', 'Ed Helms')]\n",
      "[('p', 'http://www.wikidata.org/prop/direct/P161'), ('pname', 'cast member'), ('o', 'http://www.wikidata.org/entity/Q349548'), ('oname', 'Rainn Wilson')]\n",
      "[('p', 'http://www.wikidata.org/prop/direct/P161'), ('pname', 'cast member'), ('o', 'http://www.wikidata.org/entity/Q459925'), ('oname', 'B. J. Novak')]\n",
      "[('p', 'http://www.wikidata.org/prop/direct/P161'), ('pname', 'cast member'), ('o', 'http://www.wikidata.org/entity/Q508280'), ('oname', 'Phyllis Smith')]\n",
      "[('p', 'http://www.wikidata.org/prop/direct/P161'), ('pname', 'cast member'), ('o', 'http://www.wikidata.org/entity/Q512818'), ('oname', 'Clark Duke')]\n",
      "[('p', 'http://www.wikidata.org/prop/direct/P161'), ('pname', 'cast member'), ('o', 'http://www.wikidata.org/entity/Q539917'), ('oname', 'Mindy Kaling')]\n",
      "[('p', 'http://www.wikidata.org/prop/direct/P161'), ('pname', 'cast member'), ('o', 'http://www.wikidata.org/entity/Q6124807'), ('oname', 'Jake Lacy')]\n",
      "[('p', 'http://www.wikidata.org/prop/direct/P161'), ('pname', 'cast member'), ('o', 'http://www.wikidata.org/entity/Q64560'), ('oname', 'David Denman')]\n",
      "[('p', 'http://www.wikidata.org/prop/direct/P161'), ('pname', 'cast member'), ('o', 'http://www.wikidata.org/entity/Q72077'), ('oname', 'Ellie Kemper')]\n",
      "[('p', 'http://www.wikidata.org/prop/direct/P161'), ('pname', 'cast member'), ('o', 'http://www.wikidata.org/entity/Q8063863'), ('oname', 'Zach Woods')]\n",
      "[('p', 'http://www.wikidata.org/prop/direct/P161'), ('pname', 'cast member'), ('o', 'http://www.wikidata.org/entity/Q926912'), ('oname', 'Craig Robinson')]\n"
     ]
    },
    {
     "data": {
      "text/plain": [
       "26"
      ]
     },
     "execution_count": 65,
     "metadata": {},
     "output_type": "execute_result"
    }
   ],
   "source": [
    "# Q50379836\n",
    "queryString = \"\"\"\n",
    "SELECT ?p ?pname ?o ?oname\n",
    "WHERE { \n",
    "\n",
    "    wd:Q23831 ?p ?o .\n",
    "    # Labels\n",
    "    ?p <http://schema.org/name> ?pname .\n",
    "    ?o <http://schema.org/name> ?oname .\n",
    "    FILTER regex(?pname, \"cast\", \"i\") \n",
    "} \n",
    "LIMIT 50\n",
    "\"\"\"\n",
    "\n",
    "print(\"Results\")\n",
    "run_query(queryString)\n"
   ]
  },
  {
   "cell_type": "code",
   "execution_count": 66,
   "id": "24dfac18-4110-450e-8860-d89f5c638e4e",
   "metadata": {},
   "outputs": [
    {
     "name": "stdout",
     "output_type": "stream",
     "text": [
      "Results\n",
      "[('p', 'http://www.wikidata.org/entity/Q2529789'), ('pname', 'Screen Actors Guild Award for Outstanding Performance by an Ensemble in a Comedy Series'), ('o', 'http://www.wikidata.org/prop/direct/P1346'), ('oname', 'winner')]\n",
      "[('p', 'http://www.wikidata.org/entity/Q23831'), ('pname', 'The Office'), ('o', 'http://www.wikidata.org/prop/direct/P161'), ('oname', 'cast member')]\n",
      "[('p', 'http://www.wikidata.org/entity/Q7599690'), ('pname', 'Stanley Hudson'), ('o', 'http://www.wikidata.org/prop/direct/P175'), ('oname', 'performer')]\n"
     ]
    },
    {
     "data": {
      "text/plain": [
       "3"
      ]
     },
     "execution_count": 66,
     "metadata": {},
     "output_type": "execute_result"
    }
   ],
   "source": [
    "# Q50379836\n",
    "queryString = \"\"\"\n",
    "SELECT ?p ?pname ?o ?oname\n",
    "WHERE { \n",
    "\n",
    "    ?p ?o wd:Q1050211 .\n",
    "    # Labels\n",
    "    ?p <http://schema.org/name> ?pname .\n",
    "    ?o <http://schema.org/name> ?oname .\n",
    "\n",
    "} \n",
    "LIMIT 20\n",
    "\"\"\"\n",
    "\n",
    "print(\"Results\")\n",
    "run_query(queryString)\n"
   ]
  },
  {
   "cell_type": "code",
   "execution_count": 67,
   "id": "c14e3f4c-b8ac-47ea-9cc6-1ea9fb489e0a",
   "metadata": {},
   "outputs": [
    {
     "name": "stdout",
     "output_type": "stream",
     "text": [
      "Results\n",
      "[('p', 'http://www.wikidata.org/prop/direct/P166'), ('pname', 'award received'), ('o', 'http://www.wikidata.org/entity/Q2529789'), ('oname', 'Screen Actors Guild Award for Outstanding Performance by an Ensemble in a Comedy Series')]\n",
      "[('p', 'http://www.wikidata.org/prop/direct/P1411'), ('pname', 'nominated for'), ('o', 'http://www.wikidata.org/entity/Q2529789'), ('oname', 'Screen Actors Guild Award for Outstanding Performance by an Ensemble in a Comedy Series')]\n",
      "[('p', 'http://www.wikidata.org/prop/direct/P735'), ('pname', 'given name'), ('o', 'http://www.wikidata.org/entity/Q26736517'), ('oname', 'Leslie')]\n",
      "[('p', 'http://www.wikidata.org/prop/direct/P106'), ('pname', 'occupation'), ('o', 'http://www.wikidata.org/entity/Q10798782'), ('oname', 'television actor')]\n",
      "[('p', 'http://www.wikidata.org/prop/direct/P106'), ('pname', 'occupation'), ('o', 'http://www.wikidata.org/entity/Q10800557'), ('oname', 'film actor')]\n",
      "[('p', 'http://www.wikidata.org/prop/direct/P19'), ('pname', 'place of birth'), ('o', 'http://www.wikidata.org/entity/Q1297'), ('oname', 'Chicago')]\n",
      "[('p', 'http://www.wikidata.org/prop/direct/P27'), ('pname', 'country of citizenship'), ('o', 'http://www.wikidata.org/entity/Q30'), ('oname', 'United States of America')]\n",
      "[('p', 'http://www.wikidata.org/prop/direct/P106'), ('pname', 'occupation'), ('o', 'http://www.wikidata.org/entity/Q33999'), ('oname', 'actor')]\n",
      "[('p', 'http://www.wikidata.org/prop/direct/P172'), ('pname', 'ethnic group'), ('o', 'http://www.wikidata.org/entity/Q49085'), ('oname', 'African Americans')]\n",
      "[('p', 'http://www.wikidata.org/prop/direct/P31'), ('pname', 'instance of'), ('o', 'http://www.wikidata.org/entity/Q5'), ('oname', 'human')]\n",
      "[('p', 'http://www.wikidata.org/prop/direct/P21'), ('pname', 'sex or gender'), ('o', 'http://www.wikidata.org/entity/Q6581097'), ('oname', 'male')]\n",
      "[('p', 'http://www.wikidata.org/prop/direct/P2348'), ('pname', 'time period'), ('o', 'http://www.wikidata.org/entity/Q6927'), ('oname', '20th century')]\n",
      "[('p', 'http://www.wikidata.org/prop/direct/P734'), ('pname', 'family name'), ('o', 'http://www.wikidata.org/entity/Q2658150'), ('oname', 'Baker')]\n",
      "[('p', 'http://www.wikidata.org/prop/direct/P69'), ('pname', 'educated at'), ('o', 'http://www.wikidata.org/entity/Q1537759'), ('oname', 'Loyola University Chicago')]\n"
     ]
    },
    {
     "data": {
      "text/plain": [
       "14"
      ]
     },
     "execution_count": 67,
     "metadata": {},
     "output_type": "execute_result"
    }
   ],
   "source": [
    "# Q50379836\n",
    "queryString = \"\"\"\n",
    "SELECT ?p ?pname ?o ?oname\n",
    "WHERE { \n",
    "\n",
    "    wd:Q1050211 ?p ?o .\n",
    "    # Labels\n",
    "    ?p <http://schema.org/name> ?pname .\n",
    "    ?o <http://schema.org/name> ?oname .\n",
    "\n",
    "} \n",
    "LIMIT 20\n",
    "\"\"\"\n",
    "\n",
    "print(\"Results\")\n",
    "run_query(queryString)\n"
   ]
  },
  {
   "cell_type": "code",
   "execution_count": 68,
   "id": "9cdeb5fb-13ed-424d-9ba9-e73767edbdc7",
   "metadata": {},
   "outputs": [
    {
     "name": "stdout",
     "output_type": "stream",
     "text": [
      "Results\n",
      "[('p', 'http://www.wikidata.org/prop/direct/P156'), ('pname', 'followed by'), ('o', 'http://www.wikidata.org/entity/Q50379837'), ('oname', 'Classy Christmas (part 2)')]\n",
      "[('p', 'http://www.wikidata.org/prop/direct/P155'), ('pname', 'follows'), ('o', 'http://www.wikidata.org/entity/Q5099551'), ('oname', 'China')]\n",
      "[('p', 'http://www.wikidata.org/prop/direct/P361'), ('pname', 'part of'), ('o', 'http://www.wikidata.org/entity/Q5128465'), ('oname', 'Classy Christmas')]\n",
      "[('p', 'http://www.wikidata.org/prop/direct/P364'), ('pname', 'original language of film or TV show'), ('o', 'http://www.wikidata.org/entity/Q1860'), ('oname', 'English')]\n",
      "[('p', 'http://www.wikidata.org/prop/direct/P31'), ('pname', 'instance of'), ('o', 'http://www.wikidata.org/entity/Q21191270'), ('oname', 'television series episode')]\n",
      "[('p', 'http://www.wikidata.org/prop/direct/P495'), ('pname', 'country of origin'), ('o', 'http://www.wikidata.org/entity/Q30'), ('oname', 'United States of America')]\n",
      "[('p', 'http://www.wikidata.org/prop/direct/P179'), ('pname', 'part of the series'), ('o', 'http://www.wikidata.org/entity/Q23831'), ('oname', 'The Office')]\n",
      "[('p', 'http://www.wikidata.org/prop/direct/P57'), ('pname', 'director'), ('o', 'http://www.wikidata.org/entity/Q349548'), ('oname', 'Rainn Wilson')]\n",
      "[('p', 'http://www.wikidata.org/prop/direct/P4908'), ('pname', 'season'), ('o', 'http://www.wikidata.org/entity/Q3730263'), ('oname', 'The Office, season 7')]\n",
      "[('p', 'http://www.wikidata.org/prop/direct/P58'), ('pname', 'screenwriter'), ('o', 'http://www.wikidata.org/entity/Q539917'), ('oname', 'Mindy Kaling')]\n"
     ]
    },
    {
     "data": {
      "text/plain": [
       "10"
      ]
     },
     "execution_count": 68,
     "metadata": {},
     "output_type": "execute_result"
    }
   ],
   "source": [
    "# Q50379836\n",
    "queryString = \"\"\"\n",
    "SELECT ?p ?pname ?o ?oname\n",
    "WHERE { \n",
    "\n",
    "    wd:Q50379836 ?p ?o .\n",
    "    # Labels\n",
    "    ?p <http://schema.org/name> ?pname .\n",
    "    ?o <http://schema.org/name> ?oname .\n",
    "\n",
    "} \n",
    "LIMIT 20\n",
    "\"\"\"\n",
    "\n",
    "print(\"Results\")\n",
    "run_query(queryString)\n"
   ]
  },
  {
   "cell_type": "code",
   "execution_count": 69,
   "id": "c6cf2d97-8f75-45e3-a194-2740e22249d7",
   "metadata": {},
   "outputs": [
    {
     "name": "stdout",
     "output_type": "stream",
     "text": [
      "Results\n",
      "[('p', 'http://www.wikidata.org/entity/Q50379837'), ('pname', 'Classy Christmas (part 2)'), ('o', 'http://www.wikidata.org/prop/direct/P155'), ('oname', 'follows')]\n",
      "[('p', 'http://www.wikidata.org/entity/Q5128465'), ('pname', 'Classy Christmas'), ('o', 'http://www.wikidata.org/prop/direct/P527'), ('oname', 'has part')]\n",
      "[('p', 'http://www.wikidata.org/entity/Q3730263'), ('pname', 'The Office, season 7'), ('o', 'http://www.wikidata.org/prop/direct/P527'), ('oname', 'has part')]\n"
     ]
    },
    {
     "data": {
      "text/plain": [
       "3"
      ]
     },
     "execution_count": 69,
     "metadata": {},
     "output_type": "execute_result"
    }
   ],
   "source": [
    "# Q50379836\n",
    "queryString = \"\"\"\n",
    "SELECT ?p ?pname ?o ?oname\n",
    "WHERE { \n",
    "\n",
    "     ?p ?o wd:Q50379836 .\n",
    "    # Labels\n",
    "    ?p <http://schema.org/name> ?pname .\n",
    "    ?o <http://schema.org/name> ?oname .\n",
    "\n",
    "} \n",
    "LIMIT 20\n",
    "\"\"\"\n",
    "\n",
    "print(\"Results\")\n",
    "run_query(queryString)\n"
   ]
  },
  {
   "cell_type": "markdown",
   "id": "935b3b82-0d95-4157-856c-6540b39b9fb6",
   "metadata": {},
   "source": [
    "## Check who is the actor who acted in more films while working on \"How I met your mother\" and who is the actor who participated in more films after the end of the tv series."
   ]
  },
  {
   "cell_type": "code",
   "execution_count": 70,
   "id": "78d7828c-6c1f-45a0-a80d-3db430a2f9a2",
   "metadata": {},
   "outputs": [
    {
     "name": "stdout",
     "output_type": "stream",
     "text": [
      "Results\n",
      "[('actorname', 'Neil Patrick Harris'), ('countmovie', '187')]\n",
      "[('actorname', 'Cobie Smulders'), ('countmovie', '173')]\n",
      "[('actorname', 'Alyson Hannigan'), ('countmovie', '170')]\n",
      "[('actorname', 'Jason Segel'), ('countmovie', '170')]\n",
      "[('actorname', 'Josh Radnor'), ('countmovie', '155')]\n",
      "[('actorname', 'John Lithgow'), ('countmovie', '74')]\n",
      "[('actorname', 'David Henrie'), ('countmovie', '67')]\n",
      "[('actorname', 'Seth Green'), ('countmovie', '66')]\n",
      "[('actorname', 'Ray Wise'), ('countmovie', '64')]\n",
      "[('actorname', 'Lyndsy Fonseca'), ('countmovie', '63')]\n",
      "[('actorname', 'Peter Gallagher'), ('countmovie', '62')]\n",
      "[('actorname', 'Jane Seymour'), ('countmovie', '60')]\n",
      "[('actorname', 'Bob Odenkirk'), ('countmovie', '54')]\n",
      "[('actorname', 'Kyle MacLachlan'), ('countmovie', '54')]\n",
      "[('actorname', 'Jennifer Morrison'), ('countmovie', '53')]\n",
      "[('actorname', 'Bryan Cranston'), ('countmovie', '52')]\n",
      "[('actorname', 'Frances Conroy'), ('countmovie', '49')]\n",
      "[('actorname', 'John Cho'), ('countmovie', '48')]\n",
      "[('actorname', 'Amanda Peet'), ('countmovie', '46')]\n",
      "[('actorname', 'Thomas Lennon'), ('countmovie', '46')]\n"
     ]
    },
    {
     "data": {
      "text/plain": [
       "20"
      ]
     },
     "execution_count": 70,
     "metadata": {},
     "output_type": "execute_result"
    }
   ],
   "source": [
    "# HIMYM\n",
    "queryString = \"\"\"\n",
    "SELECT ?actorname ?countmovie\n",
    "WHERE { \n",
    "\n",
    "      {\n",
    "              SELECT ?actor (COUNT (DISTINCT ?movie) AS ?countmovie) WHERE\n",
    "              {\n",
    "                    ?character wdt:P1441 wd:Q147235 .\n",
    "                    ?character wdt:P175 ?actor .\n",
    "                    ?movie wdt:P161 ?actor .\n",
    "\n",
    "               }\n",
    "                GROUP BY ?actor\n",
    "      }  .\n",
    "\n",
    "    # Labels\n",
    "    ?actor <http://schema.org/name> ?actorname .\n",
    "\n",
    "} \n",
    "ORDER BY DESC(?countmovie) ?actorname\n",
    "LIMIT 20\n",
    "\"\"\"\n",
    "\n",
    "print(\"Results\")\n",
    "run_query(queryString)\n"
   ]
  },
  {
   "cell_type": "code",
   "execution_count": 71,
   "id": "ce363ff7-abde-426d-80a6-98136672276c",
   "metadata": {},
   "outputs": [],
   "source": [
    "## finding the start time and end time of every series. "
   ]
  },
  {
   "cell_type": "code",
   "execution_count": 72,
   "id": "639ec0a0-a0ff-4e31-9e0e-ede7c6edc6eb",
   "metadata": {},
   "outputs": [
    {
     "name": "stdout",
     "output_type": "stream",
     "text": [
      "Results\n",
      "Empty\n"
     ]
    },
    {
     "data": {
      "text/plain": [
       "0"
      ]
     },
     "execution_count": 72,
     "metadata": {},
     "output_type": "execute_result"
    }
   ],
   "source": [
    "#wd:Q147235\n",
    "queryString = \"\"\"\n",
    "SELECT ?p ?pname ?o ?oname\n",
    "WHERE { \n",
    "\n",
    "    wd:Q147235 ?p ?o .\n",
    "\n",
    "    # Labels\n",
    "    ?p <http://schema.org/name> ?pname .\n",
    "    ?o <http://schema.org/name> ?oname .\n",
    "    FILTER regex(?pname, \"time\", \"i\")\n",
    "\n",
    "} \n",
    "LIMIT 20\n",
    "\"\"\"\n",
    "\n",
    "print(\"Results\")\n",
    "run_query(queryString)"
   ]
  },
  {
   "cell_type": "code",
   "execution_count": 73,
   "id": "787e90c4-3189-4d08-9185-f8e027dc7137",
   "metadata": {},
   "outputs": [
    {
     "name": "stdout",
     "output_type": "stream",
     "text": [
      "Results\n",
      "[('callret-0', '77')]\n"
     ]
    },
    {
     "data": {
      "text/plain": [
       "1"
      ]
     },
     "execution_count": 73,
     "metadata": {},
     "output_type": "execute_result"
    }
   ],
   "source": [
    "# | `wd:Q23831` | The Office (US)        | node |\n",
    "queryString = \"\"\"\n",
    "SELECT COUNT(DISTINCT ?p)\n",
    "WHERE { \n",
    "\n",
    "    wd:Q23831 ?p ?o .\n",
    "\n",
    "    # Labels\n",
    "    #?p <http://schema.org/name> ?pname .\n",
    "    #?o <http://schema.org/name> ?oname .\n",
    "\n",
    "} \n",
    "LIMIT 20\n",
    "\"\"\"\n",
    "\n",
    "print(\"Results\")\n",
    "run_query(queryString)"
   ]
  },
  {
   "cell_type": "code",
   "execution_count": 74,
   "id": "5cf3c49d-87bc-4558-b0c7-418800286643",
   "metadata": {},
   "outputs": [
    {
     "name": "stdout",
     "output_type": "stream",
     "text": [
      "Results\n",
      "[('p', 'http://www.wikidata.org/prop/direct/P580'), ('pname', 'start time')]\n",
      "[('p', 'http://www.wikidata.org/prop/direct/P582'), ('pname', 'end time')]\n"
     ]
    },
    {
     "data": {
      "text/plain": [
       "2"
      ]
     },
     "execution_count": 74,
     "metadata": {},
     "output_type": "execute_result"
    }
   ],
   "source": [
    "# | `wd:Q23831` | The Office (US)        | node |\n",
    "queryString = \"\"\"\n",
    "SELECT ?p ?pname\n",
    "WHERE { \n",
    "\n",
    "    wd:Q23831 ?p ?o .\n",
    "\n",
    "    # Labels\n",
    "    ?p <http://schema.org/name> ?pname .\n",
    "    #?o <http://schema.org/name> ?oname .\n",
    "    FILTER regex(?pname, \"time\", \"i\")\n",
    "\n",
    "} \n",
    "LIMIT 20\n",
    "\"\"\"\n",
    "\n",
    "print(\"Results\")\n",
    "run_query(queryString)"
   ]
  },
  {
   "cell_type": "code",
   "execution_count": 75,
   "id": "8b04d9fa-9867-4aa8-946e-447ed394500f",
   "metadata": {},
   "outputs": [
    {
     "name": "stdout",
     "output_type": "stream",
     "text": [
      "Results\n",
      "[('start_time', '2005-03-24T00:00:00Z'), ('end_time', '2013-05-16T00:00:00Z')]\n"
     ]
    },
    {
     "data": {
      "text/plain": [
       "1"
      ]
     },
     "execution_count": 75,
     "metadata": {},
     "output_type": "execute_result"
    }
   ],
   "source": [
    "#P580 start time\n",
    "#P582 end time\n",
    "# | `wd:Q23831` | The Office (US)        | node |\n",
    "queryString = \"\"\"\n",
    "SELECT *\n",
    "WHERE { \n",
    "\n",
    "    wd:Q23831 wdt:P580 ?start_time .\n",
    "    wd:Q23831 wdt:P582 ?end_time .\n",
    "    # Labels\n",
    "    #?p <http://schema.org/name> ?pname .\n",
    "    #?o <http://schema.org/name> ?oname .\n",
    "\n",
    "} \n",
    "LIMIT 20\n",
    "\"\"\"\n",
    "\n",
    "print(\"Results\")\n",
    "run_query(queryString)"
   ]
  },
  {
   "cell_type": "code",
   "execution_count": 76,
   "id": "303d4aa9-1b91-47df-8014-8aa925afa76f",
   "metadata": {},
   "outputs": [
    {
     "name": "stdout",
     "output_type": "stream",
     "text": [
      "Results\n",
      "[('actorname', 'Neil Patrick Harris'), ('countmovie', '187')]\n",
      "[('actorname', 'Cobie Smulders'), ('countmovie', '173')]\n",
      "[('actorname', 'Alyson Hannigan'), ('countmovie', '170')]\n",
      "[('actorname', 'Jason Segel'), ('countmovie', '170')]\n",
      "[('actorname', 'Josh Radnor'), ('countmovie', '155')]\n",
      "[('actorname', 'John Lithgow'), ('countmovie', '74')]\n",
      "[('actorname', 'David Henrie'), ('countmovie', '67')]\n",
      "[('actorname', 'Seth Green'), ('countmovie', '66')]\n",
      "[('actorname', 'Ray Wise'), ('countmovie', '64')]\n",
      "[('actorname', 'Lyndsy Fonseca'), ('countmovie', '63')]\n"
     ]
    },
    {
     "data": {
      "text/plain": [
       "10"
      ]
     },
     "execution_count": 76,
     "metadata": {},
     "output_type": "execute_result"
    }
   ],
   "source": [
    "\n",
    "queryString = \"\"\"\n",
    "SELECT ?actorname ?countmovie\n",
    "WHERE { \n",
    "\n",
    "      {\n",
    "              SELECT ?actor (COUNT (DISTINCT ?movie) AS ?countmovie) WHERE\n",
    "              {\n",
    "                    ?character wdt:P1441 wd:Q147235 .\n",
    "                    ?character wdt:P175 ?actor .\n",
    "                    ?movie wdt:P161 ?actor .\n",
    "\n",
    "               }\n",
    "                GROUP BY ?actor\n",
    "      }  .\n",
    "\n",
    "    # Labels\n",
    "    ?actor <http://schema.org/name> ?actorname .\n",
    "\n",
    "} \n",
    "ORDER BY DESC(?countmovie) ?actorname\n",
    "LIMIT 10\n",
    "\"\"\"\n",
    "\n",
    "print(\"Results\")\n",
    "run_query(queryString)"
   ]
  },
  {
   "cell_type": "code",
   "execution_count": 77,
   "id": "8d0562bd-ab09-4471-b7b3-6033bea63b04",
   "metadata": {},
   "outputs": [
    {
     "name": "stdout",
     "output_type": "stream",
     "text": [
      "Results\n",
      "[('movie', 'http://www.wikidata.org/entity/Q22908690'), ('moviename', 'The Good Place'), ('start_time', '2016-09-19T00:00:00Z'), ('end_time', '2020-01-30T00:00:00Z')]\n",
      "[('movie', 'http://www.wikidata.org/entity/Q147235'), ('moviename', 'How I Met Your Mother'), ('start_time', '2005-09-19T00:00:00Z'), ('end_time', '2014-03-31T00:00:00Z')]\n",
      "[('movie', 'http://www.wikidata.org/entity/Q23558'), ('moviename', 'House'), ('start_time', '2004-11-16T00:00:00Z'), ('end_time', '2012-05-21T00:00:00Z')]\n",
      "[('movie', 'http://www.wikidata.org/entity/Q147235'), ('moviename', 'How I Met Your Mother'), ('start_time', '2005-09-19T00:00:00Z'), ('end_time', '2014-03-31T00:00:00Z')]\n",
      "[('movie', 'http://www.wikidata.org/entity/Q844059'), ('moviename', 'New Girl'), ('start_time', '2011-09-20T00:00:00Z'), ('end_time', '2018-05-15T00:00:00Z')]\n",
      "[('movie', 'http://www.wikidata.org/entity/Q476857'), ('moviename', 'FlashForward'), ('start_time', '2009-09-24T00:00:00Z'), ('end_time', '2010-05-27T00:00:00Z')]\n",
      "[('movie', 'http://www.wikidata.org/entity/Q16840992'), ('moviename', 'Selfie'), ('start_time', '2014-09-30T00:00:00Z'), ('end_time', '2014-12-30T00:00:00Z')]\n",
      "[('movie', 'http://www.wikidata.org/entity/Q2282750'), ('moviename', 'Off Centre'), ('start_time', '2001-10-14T00:00:00Z'), ('end_time', '2002-10-31T00:00:00Z')]\n",
      "[('movie', 'http://www.wikidata.org/entity/Q498569'), ('moviename', 'Rules of Engagement'), ('start_time', '2007-02-05T00:00:00Z'), ('end_time', '2013-05-20T00:00:00Z')]\n",
      "[('movie', 'http://www.wikidata.org/entity/Q147235'), ('moviename', 'How I Met Your Mother'), ('start_time', '2005-09-19T00:00:00Z'), ('end_time', '2014-03-31T00:00:00Z')]\n"
     ]
    },
    {
     "data": {
      "text/plain": [
       "10"
      ]
     },
     "execution_count": 77,
     "metadata": {},
     "output_type": "execute_result"
    }
   ],
   "source": [
    "###    wd:Q23831 wdt:P580 ?start_time .\n",
    "###    wd:Q23831 wdt:P582 ?end_time .\n",
    "\n",
    "queryString = \"\"\"\n",
    "SELECT ?movie ?moviename ?start_time ?end_time\n",
    "WHERE { \n",
    "\n",
    "    ?character wdt:P1441 wd:Q147235 .\n",
    "    ?character wdt:P175 ?actor .\n",
    "    ?movie wdt:P161 ?actor .\n",
    "    ?movie wdt:P580 ?start_time ;\n",
    "            wdt:P582 ?end_time .\n",
    "    # Labels\n",
    "    ?actor <http://schema.org/name> ?actorname .\n",
    "    ?movie <http://schema.org/name> ?moviename .\n",
    "    #FILTER regex(?pname, \"ww\", \"i\") \n",
    "} \n",
    "LIMIT 10\n",
    "\"\"\"\n",
    "\n",
    "print(\"Results\")\n",
    "run_query(queryString)"
   ]
  },
  {
   "cell_type": "markdown",
   "id": "651ee0c1-b6a0-448d-9ba7-51fd843a39d4",
   "metadata": {},
   "source": [
    "### Check who is the actor who acted in more films while working on \"How I met your mother\""
   ]
  },
  {
   "cell_type": "code",
   "execution_count": 78,
   "id": "a3010c01-4432-4ec9-8f1c-a6e6f2f3b529",
   "metadata": {},
   "outputs": [
    {
     "name": "stdout",
     "output_type": "stream",
     "text": [
      "Results\n",
      "[('actorname', 'John Cho'), ('moviename', 'FlashForward'), ('start_time', '2009-09-24T00:00:00Z'), ('end_time', '2010-05-27T00:00:00Z')]\n",
      "[('actorname', 'Mircea Monroe'), ('moviename', 'Rules of Engagement'), ('start_time', '2007-02-05T00:00:00Z'), ('end_time', '2013-05-20T00:00:00Z')]\n",
      "[('actorname', 'Mircea Monroe'), ('moviename', 'Chuck'), ('start_time', '2007-09-24T00:00:00Z'), ('end_time', '2012-01-27T00:00:00Z')]\n",
      "[('actorname', 'Mircea Monroe'), ('moviename', 'Zeke and Luther'), ('start_time', '2009-06-15T00:00:00Z'), ('end_time', '2012-04-02T00:00:00Z')]\n",
      "[('actorname', 'Mircea Monroe'), ('moviename', 'Drive'), ('start_time', '2007-04-13T00:00:00Z'), ('end_time', '2007-04-23T00:00:00Z')]\n",
      "[('actorname', 'Virginia Williams'), ('moviename', 'Rules of Engagement'), ('start_time', '2007-02-05T00:00:00Z'), ('end_time', '2013-05-20T00:00:00Z')]\n",
      "[('actorname', 'Virginia Williams'), ('moviename', 'Better Off Ted'), ('start_time', '2009-03-18T00:00:00Z'), ('end_time', '2010-01-26T00:00:00Z')]\n",
      "[('actorname', 'Virginia Williams'), ('moviename', 'Lie to Me'), ('start_time', '2009-01-21T00:00:00Z'), ('end_time', '2011-01-31T00:00:00Z')]\n",
      "[('actorname', 'Virginia Williams'), ('moviename', 'Fairly Legal'), ('start_time', '2011-01-20T00:00:00Z'), ('end_time', '2012-06-15T00:00:00Z')]\n",
      "[('actorname', 'Cobie Smulders'), ('moviename', 'Marvel Cinematic Universe Phase One'), ('start_time', '2008-01-01T00:00:00Z'), ('end_time', '2012-01-01T00:00:00Z')]\n"
     ]
    },
    {
     "data": {
      "text/plain": [
       "10"
      ]
     },
     "execution_count": 78,
     "metadata": {},
     "output_type": "execute_result"
    }
   ],
   "source": [
    "queryString = \"\"\"\n",
    "SELECT ?actorname ?moviename ?start_time ?end_time\n",
    "WHERE { \n",
    "\n",
    "    ?character wdt:P1441 wd:Q147235 .\n",
    "    ?character wdt:P175 ?actor .\n",
    "    ?movie wdt:P161 ?actor .\n",
    "    ?movie wdt:P580 ?start_time ;\n",
    "            wdt:P582 ?end_time .\n",
    "    wd:Q147235 wdt:P580 ?himym_start .\n",
    "    wd:Q147235 wdt:P582 ?himym_end .\n",
    "    # Labels\n",
    "    ?actor <http://schema.org/name> ?actorname .\n",
    "    ?movie <http://schema.org/name> ?moviename .\n",
    "    #FILTER regex(?pname, \"ww\", \"i\") \n",
    "    FILTER (?himym_start < ?start_time)\n",
    "    FILTER (?end_time < ?himym_end)\n",
    "} \n",
    "LIMIT 10\n",
    "\"\"\"\n",
    "\n",
    "print(\"Results\")\n",
    "run_query(queryString)"
   ]
  },
  {
   "cell_type": "code",
   "execution_count": 79,
   "id": "c611f12c-e94e-48f3-a7f4-6842d15ba26c",
   "metadata": {},
   "outputs": [
    {
     "name": "stdout",
     "output_type": "stream",
     "text": [
      "Results\n",
      "[('actorname', 'Amy Acker'), ('countmovies', '6')]\n",
      "[('actorname', 'Virginia Williams'), ('countmovies', '4')]\n",
      "[('actorname', 'Mircea Monroe'), ('countmovies', '4')]\n",
      "[('actorname', 'Abigail Spencer'), ('countmovies', '4')]\n",
      "[('actorname', 'Lucy Hale'), ('countmovies', '4')]\n",
      "[('actorname', 'Frances Conroy'), ('countmovies', '4')]\n",
      "[('actorname', 'Darcy Rose Byrnes'), ('countmovies', '4')]\n",
      "[('actorname', 'Cristine Rose'), ('countmovies', '3')]\n",
      "[('actorname', 'Bryan Callen'), ('countmovies', '3')]\n",
      "[('actorname', 'Geoff Stults'), ('countmovies', '3')]\n"
     ]
    },
    {
     "data": {
      "text/plain": [
       "10"
      ]
     },
     "execution_count": 79,
     "metadata": {},
     "output_type": "execute_result"
    }
   ],
   "source": [
    "queryString = \"\"\"\n",
    "SELECT ?actorname (COUNT(?movie) AS ?countmovies)\n",
    "WHERE { \n",
    "\n",
    "    ?character wdt:P1441 wd:Q147235 .\n",
    "    ?character wdt:P175 ?actor .\n",
    "    ?movie wdt:P161 ?actor .\n",
    "    ?movie wdt:P580 ?start_time ;\n",
    "            wdt:P582 ?end_time .\n",
    "    wd:Q147235 wdt:P580 ?himym_start .\n",
    "    wd:Q147235 wdt:P582 ?himym_end .\n",
    "    # Labels\n",
    "    ?actor <http://schema.org/name> ?actorname .\n",
    "    ?movie <http://schema.org/name> ?moviename .\n",
    "    ?character <http://schema.org/name> ?charactername .\n",
    "    FILTER (?himym_start < ?start_time)\n",
    "    FILTER (?end_time < ?himym_end)\n",
    "} \n",
    "\n",
    "ORDER BY DESC (?countmovies) \n",
    "\n",
    "LIMIT 10\n",
    "\"\"\"\n",
    "\n",
    "print(\"Results\")\n",
    "run_query(queryString)"
   ]
  },
  {
   "cell_type": "markdown",
   "id": "af136d5a-864a-48c8-b096-477d475cd2a6",
   "metadata": {},
   "source": [
    "### Who is the actor who participated in more films after the end of the HIMYM."
   ]
  },
  {
   "cell_type": "code",
   "execution_count": 80,
   "id": "a9f75a58-b0ab-449c-b608-56c27c430e8f",
   "metadata": {},
   "outputs": [
    {
     "name": "stdout",
     "output_type": "stream",
     "text": [
      "Results\n",
      "[('actorname', 'Josh Radnor'), ('countmovies', '6')]\n",
      "[('actorname', 'Neil Patrick Harris'), ('countmovies', '6')]\n",
      "[('actorname', 'Kal Penn'), ('countmovies', '4')]\n",
      "[('actorname', 'Amy Acker'), ('countmovies', '3')]\n",
      "[('actorname', 'Taran Killam'), ('countmovies', '3')]\n",
      "[('actorname', 'Virginia Williams'), ('countmovies', '2')]\n",
      "[('actorname', 'Kyle MacLachlan'), ('countmovies', '2')]\n",
      "[('actorname', 'Cobie Smulders'), ('countmovies', '2')]\n",
      "[('actorname', 'Ray Wise'), ('countmovies', '2')]\n",
      "[('actorname', 'JoAnna García'), ('countmovies', '2')]\n"
     ]
    },
    {
     "data": {
      "text/plain": [
       "10"
      ]
     },
     "execution_count": 80,
     "metadata": {},
     "output_type": "execute_result"
    }
   ],
   "source": [
    "queryString = \"\"\"\n",
    "SELECT ?actorname (COUNT(?movie) AS ?countmovies)\n",
    "WHERE { \n",
    "\n",
    "    ?character wdt:P1441 wd:Q147235 .\n",
    "    ?character wdt:P175 ?actor .\n",
    "    ?movie wdt:P161 ?actor .\n",
    "    ?movie wdt:P580 ?start_time ;\n",
    "            wdt:P582 ?end_time .\n",
    "    wd:Q147235 wdt:P580 ?himym_start .\n",
    "    wd:Q147235 wdt:P582 ?himym_end .\n",
    "    # Labels\n",
    "    ?actor <http://schema.org/name> ?actorname .\n",
    "    ?movie <http://schema.org/name> ?moviename .\n",
    "    ?character <http://schema.org/name> ?charactername .\n",
    "    FILTER (?himym_end < ?start_time)\n",
    "} \n",
    "\n",
    "ORDER BY DESC (?countmovies) \n",
    "\n",
    "LIMIT 10\n",
    "\"\"\"\n",
    "\n",
    "print(\"Results\")\n",
    "run_query(queryString)"
   ]
  },
  {
   "cell_type": "markdown",
   "id": "853e561a-36f2-4d27-b56f-92f39395914f",
   "metadata": {},
   "source": [
    "### Check who is the actor who acted in more films while working on \"The office\"."
   ]
  },
  {
   "cell_type": "code",
   "execution_count": 81,
   "id": "e6463655-4f3f-40dc-80e5-84951c2839bc",
   "metadata": {},
   "outputs": [
    {
     "name": "stdout",
     "output_type": "stream",
     "text": [
      "Results\n",
      "[('actorname', 'David Koechner'), ('countmovies', '2')]\n",
      "[('actorname', 'Oscar Nunez'), ('countmovies', '1')]\n",
      "[('actorname', 'Melora Hardin'), ('countmovies', '1')]\n",
      "[('actorname', 'Amy Ryan'), ('countmovies', '1')]\n",
      "[('actorname', 'Clark Duke'), ('countmovies', '1')]\n"
     ]
    },
    {
     "data": {
      "text/plain": [
       "5"
      ]
     },
     "execution_count": 81,
     "metadata": {},
     "output_type": "execute_result"
    }
   ],
   "source": [
    "queryString = \"\"\"\n",
    "SELECT ?actorname (COUNT(?movie) AS ?countmovies)\n",
    "WHERE { \n",
    "\n",
    "    ?character wdt:P1441 wd:Q23831 .\n",
    "    ?character wdt:P175 ?actor .\n",
    "    ?movie wdt:P161 ?actor .\n",
    "    ?movie wdt:P580 ?start_time ;\n",
    "            wdt:P582 ?end_time .\n",
    "    wd:Q23831 wdt:P580 ?theoffice_start .\n",
    "    wd:Q23831 wdt:P582 ?theoffice_end .\n",
    "    # Labels\n",
    "    ?actor <http://schema.org/name> ?actorname .\n",
    "    ?movie <http://schema.org/name> ?moviename .\n",
    "    ?character <http://schema.org/name> ?charactername .\n",
    "    FILTER (?theoffice_start < ?start_time)\n",
    "    FILTER (?end_time < ?theoffice_end)\n",
    "} \n",
    "\n",
    "ORDER BY DESC (?countmovies) \n",
    "\n",
    "LIMIT 10\n",
    "\"\"\"\n",
    "\n",
    "print(\"Results\")\n",
    "run_query(queryString)"
   ]
  },
  {
   "cell_type": "markdown",
   "id": "0ab70eab-43e8-415e-aae5-282d28816962",
   "metadata": {},
   "source": [
    "### Who is the actor who participated in more films after the end of the The office."
   ]
  },
  {
   "cell_type": "code",
   "execution_count": 82,
   "id": "63023817-3423-4ecb-aaa8-1fb329442862",
   "metadata": {},
   "outputs": [
    {
     "name": "stdout",
     "output_type": "stream",
     "text": [
      "Results\n",
      "[('actorname', 'Josh Radnor'), ('countmovies', '6')]\n",
      "[('actorname', 'Neil Patrick Harris'), ('countmovies', '6')]\n",
      "[('actorname', 'Kal Penn'), ('countmovies', '4')]\n",
      "[('actorname', 'Amy Acker'), ('countmovies', '3')]\n",
      "[('actorname', 'Taran Killam'), ('countmovies', '3')]\n",
      "[('actorname', 'Virginia Williams'), ('countmovies', '2')]\n",
      "[('actorname', 'Kyle MacLachlan'), ('countmovies', '2')]\n",
      "[('actorname', 'Cobie Smulders'), ('countmovies', '2')]\n",
      "[('actorname', 'Ray Wise'), ('countmovies', '2')]\n",
      "[('actorname', 'JoAnna García'), ('countmovies', '2')]\n"
     ]
    },
    {
     "data": {
      "text/plain": [
       "10"
      ]
     },
     "execution_count": 82,
     "metadata": {},
     "output_type": "execute_result"
    }
   ],
   "source": [
    "queryString = \"\"\"\n",
    "SELECT ?actorname (COUNT(?movie) AS ?countmovies)\n",
    "WHERE { \n",
    "\n",
    "    ?character wdt:P1441 wd:Q147235 .\n",
    "    ?character wdt:P175 ?actor .\n",
    "    ?movie wdt:P161 ?actor .\n",
    "    ?movie wdt:P580 ?start_time ;\n",
    "            wdt:P582 ?end_time .\n",
    "    wd:Q147235 wdt:P580 ?theoffice_start .\n",
    "    wd:Q147235 wdt:P582 ?theoffice_end .\n",
    "    # Labels\n",
    "    ?actor <http://schema.org/name> ?actorname .\n",
    "    #?movie <http://schema.org/name> ?moviename .\n",
    "    #?character <http://schema.org/name> ?charactername .\n",
    "    FILTER (?theoffice_end < ?start_time)\n",
    "} \n",
    "\n",
    "ORDER BY DESC (?countmovies) \n",
    "\n",
    "LIMIT 10\n",
    "\"\"\"\n",
    "\n",
    "print(\"Results\")\n",
    "run_query(queryString)"
   ]
  },
  {
   "cell_type": "code",
   "execution_count": 83,
   "id": "f67a2a4d-146c-458e-9664-fbfa69951f44",
   "metadata": {},
   "outputs": [
    {
     "name": "stdout",
     "output_type": "stream",
     "text": [
      "Results\n",
      "[('actor', 'http://www.wikidata.org/entity/Q223455'), ('countmovies', '6')]\n",
      "[('actor', 'http://www.wikidata.org/entity/Q485310'), ('countmovies', '6')]\n",
      "[('actor', 'http://www.wikidata.org/entity/Q220536'), ('countmovies', '4')]\n",
      "[('actor', 'http://www.wikidata.org/entity/Q2706805'), ('countmovies', '3')]\n",
      "[('actor', 'http://www.wikidata.org/entity/Q152773'), ('countmovies', '3')]\n",
      "[('actor', 'http://www.wikidata.org/entity/Q207506'), ('countmovies', '2')]\n",
      "[('actor', 'http://www.wikidata.org/entity/Q200566'), ('countmovies', '2')]\n",
      "[('actor', 'http://www.wikidata.org/entity/Q131332'), ('countmovies', '2')]\n",
      "[('actor', 'http://www.wikidata.org/entity/Q530646'), ('countmovies', '2')]\n",
      "[('actor', 'http://www.wikidata.org/entity/Q516659'), ('countmovies', '2')]\n"
     ]
    },
    {
     "data": {
      "text/plain": [
       "10"
      ]
     },
     "execution_count": 83,
     "metadata": {},
     "output_type": "execute_result"
    }
   ],
   "source": [
    "queryString = \"\"\"\n",
    "SELECT ?actor (COUNT(?movie) AS ?countmovies)\n",
    "WHERE { \n",
    "\n",
    "    ?character wdt:P1441 wd:Q147235 .\n",
    "    ?character wdt:P175 ?actor .\n",
    "    ?movie wdt:P161 ?actor .\n",
    "    ?movie wdt:P580 ?start_time ;\n",
    "            wdt:P582 ?end_time .\n",
    "    wd:Q147235 wdt:P580 ?theoffice_start .\n",
    "    wd:Q147235 wdt:P582 ?theoffice_end .\n",
    "    # Labels\n",
    "    ?actor <http://schema.org/name> ?actorname .\n",
    "    ?movie <http://schema.org/name> ?moviename .\n",
    "    ?character <http://schema.org/name> ?charactername .\n",
    "    FILTER (?theoffice_end < ?start_time)\n",
    "} \n",
    "\n",
    "ORDER BY DESC (?countmovies) \n",
    "\n",
    "LIMIT 10\n",
    "\"\"\"\n",
    "\n",
    "print(\"Results\")\n",
    "run_query(queryString)"
   ]
  },
  {
   "cell_type": "markdown",
   "id": "1c0604de-ff08-4b93-b76e-170380c32b1f",
   "metadata": {},
   "source": [
    "# Task 5"
   ]
  },
  {
   "cell_type": "markdown",
   "id": "05250545-dbe2-44f5-8c11-279a9d304153",
   "metadata": {
    "jp-MarkdownHeadingCollapsed": true,
    "tags": []
   },
   "source": [
    "### Return how many of the actors who are members of the cast of the tv series have [Kavin Bacon number] equal to 2."
   ]
  },
  {
   "cell_type": "code",
   "execution_count": 84,
   "id": "585a1923-8fcc-44c1-a382-354844c9ac9e",
   "metadata": {},
   "outputs": [
    {
     "name": "stdout",
     "output_type": "stream",
     "text": [
      "Results\n",
      "[('movie', 'http://www.wikidata.org/entity/Q122113'), ('actorname', 'Kevin Bacon'), ('actor', 'http://www.wikidata.org/entity/Q3454165')]\n",
      "[('movie', 'http://www.wikidata.org/entity/Q463927'), ('actorname', 'Kevin Bacon'), ('actor', 'http://www.wikidata.org/entity/Q3454165')]\n",
      "[('movie', 'http://www.wikidata.org/entity/Q636062'), ('actorname', 'Kevin Bacon'), ('actor', 'http://www.wikidata.org/entity/Q3454165')]\n",
      "[('movie', 'http://www.wikidata.org/entity/Q691672'), ('actorname', 'Kevin Bacon'), ('actor', 'http://www.wikidata.org/entity/Q3454165')]\n",
      "[('movie', 'http://www.wikidata.org/entity/Q1917925'), ('actorname', 'Kevin Bacon'), ('actor', 'http://www.wikidata.org/entity/Q3454165')]\n",
      "[('movie', 'http://www.wikidata.org/entity/Q5265117'), ('actorname', 'Kevin Bacon'), ('actor', 'http://www.wikidata.org/entity/Q3454165')]\n",
      "[('movie', 'http://www.wikidata.org/entity/Q1154802'), ('actorname', 'Kevin Bacon'), ('actor', 'http://www.wikidata.org/entity/Q3454165')]\n",
      "[('movie', 'http://www.wikidata.org/entity/Q1243029'), ('actorname', 'Kevin Bacon'), ('actor', 'http://www.wikidata.org/entity/Q3454165')]\n",
      "[('movie', 'http://www.wikidata.org/entity/Q108946'), ('actorname', 'Kevin Bacon'), ('actor', 'http://www.wikidata.org/entity/Q3454165')]\n",
      "[('movie', 'http://www.wikidata.org/entity/Q223596'), ('actorname', 'Kevin Bacon'), ('actor', 'http://www.wikidata.org/entity/Q3454165')]\n",
      "[('movie', 'http://www.wikidata.org/entity/Q339045'), ('actorname', 'Kevin Bacon'), ('actor', 'http://www.wikidata.org/entity/Q3454165')]\n",
      "[('movie', 'http://www.wikidata.org/entity/Q935173'), ('actorname', 'Kevin Bacon'), ('actor', 'http://www.wikidata.org/entity/Q3454165')]\n",
      "[('movie', 'http://www.wikidata.org/entity/Q1507790'), ('actorname', 'Kevin Bacon'), ('actor', 'http://www.wikidata.org/entity/Q3454165')]\n",
      "[('movie', 'http://www.wikidata.org/entity/Q1098140'), ('actorname', 'Kevin Bacon'), ('actor', 'http://www.wikidata.org/entity/Q3454165')]\n",
      "[('movie', 'http://www.wikidata.org/entity/Q1189631'), ('actorname', 'Kevin Bacon'), ('actor', 'http://www.wikidata.org/entity/Q3454165')]\n",
      "[('movie', 'http://www.wikidata.org/entity/Q611535'), ('actorname', 'Kevin Bacon'), ('actor', 'http://www.wikidata.org/entity/Q3454165')]\n",
      "[('movie', 'http://www.wikidata.org/entity/Q627533'), ('actorname', 'Kevin Bacon'), ('actor', 'http://www.wikidata.org/entity/Q3454165')]\n",
      "[('movie', 'http://www.wikidata.org/entity/Q1133610'), ('actorname', 'Kevin Bacon'), ('actor', 'http://www.wikidata.org/entity/Q3454165')]\n",
      "[('movie', 'http://www.wikidata.org/entity/Q813464'), ('actorname', 'Kevin Bacon'), ('actor', 'http://www.wikidata.org/entity/Q3454165')]\n",
      "[('movie', 'http://www.wikidata.org/entity/Q221586'), ('actorname', 'Kevin Bacon'), ('actor', 'http://www.wikidata.org/entity/Q3454165')]\n"
     ]
    },
    {
     "data": {
      "text/plain": [
       "20"
      ]
     },
     "execution_count": 84,
     "metadata": {},
     "output_type": "execute_result"
    }
   ],
   "source": [
    "#?movie wdt:P161 ?actor .\n",
    "\n",
    "queryString = \"\"\"\n",
    "SELECT DISTINCT ?movie ?actorname ?actor\n",
    "WHERE { \n",
    "    \n",
    "    ?movie wdt:P161 ?actor .\n",
    "    wd:Q147235 ?p ?o .\n",
    "    # Labels\n",
    "    ?actor <http://schema.org/name> ?actorname .\n",
    "    FILTER regex(?actorname, \"kevin bacon\", \"i\") \n",
    "} \n",
    "LIMIT 20\n",
    "\"\"\"\n",
    "\n",
    "print(\"Results\")\n",
    "run_query(queryString)"
   ]
  },
  {
   "cell_type": "code",
   "execution_count": 85,
   "id": "c3800044-ce2c-4b96-be54-e189e6f99385",
   "metadata": {},
   "outputs": [
    {
     "name": "stdout",
     "output_type": "stream",
     "text": [
      "Results\n",
      "[('callret-0', '69')]\n"
     ]
    },
    {
     "data": {
      "text/plain": [
       "1"
      ]
     },
     "execution_count": 85,
     "metadata": {},
     "output_type": "execute_result"
    }
   ],
   "source": [
    "#?movie wdt:P161 ?actor .\n",
    "# Q3454165 KEVIN BACON\n",
    "queryString = \"\"\"\n",
    "SELECT COUNT (DISTINCT ?movie)\n",
    "WHERE { \n",
    "    \n",
    "    ?movie wdt:P161 ?actor .\n",
    "    wd:Q147235 ?p ?o .\n",
    "    # Labels\n",
    "    ?actor <http://schema.org/name> ?actorname .\n",
    "    FILTER regex(?actorname, \"kevin bacon\", \"i\") \n",
    "} \n",
    "LIMIT 20\n",
    "\"\"\"\n",
    "\n",
    "print(\"Results\")\n",
    "run_query(queryString)"
   ]
  },
  {
   "cell_type": "code",
   "execution_count": 86,
   "id": "54a5d1f6-f4e5-4db2-aeb0-f4682f23b6c2",
   "metadata": {},
   "outputs": [
    {
     "name": "stdout",
     "output_type": "stream",
     "text": [
      "Results\n",
      "[('callret-0', '0')]\n"
     ]
    },
    {
     "data": {
      "text/plain": [
       "1"
      ]
     },
     "execution_count": 86,
     "metadata": {},
     "output_type": "execute_result"
    }
   ],
   "source": [
    "#?movie wdt:P161 ?actor .\n",
    "# Q3454165 KEVIN BACON\n",
    "queryString = \"\"\"\n",
    "SELECT COUNT (DISTINCT ?movie)\n",
    "WHERE { \n",
    "    \n",
    "    ?moviekb wdt:P161 wd:Q3454165 .\n",
    "    wd:Q147235 ?p ?o .\n",
    "    # Labels\n",
    "    #?actor <http://schema.org/name> ?actorname .\n",
    "    FILTER regex(?actorname, \"kevin bacon\", \"i\") \n",
    "} \n",
    "LIMIT 20\n",
    "\"\"\"\n",
    "\n",
    "print(\"Results\")\n",
    "run_query(queryString)"
   ]
  },
  {
   "cell_type": "code",
   "execution_count": 87,
   "id": "a52845c6-a25a-453e-9911-59381350bd54",
   "metadata": {},
   "outputs": [],
   "source": [
    "## Kevin bacon = 1 'HIMYM'"
   ]
  },
  {
   "cell_type": "code",
   "execution_count": 88,
   "id": "b30899eb-998b-4a65-9926-d37bbf191236",
   "metadata": {},
   "outputs": [
    {
     "name": "stdout",
     "output_type": "stream",
     "text": [
      "Results\n",
      "[('actorname', 'John Cho'), ('moviename', 'The Air I Breathe')]\n",
      "[('actorname', 'John Lithgow'), ('moviename', 'Footloose')]\n",
      "[('actorname', 'Ray Wise'), ('moviename', 'X-Men: First Class')]\n",
      "[('actorname', 'Jennifer Morrison'), ('moviename', 'Stir of Echoes')]\n",
      "[('actorname', 'Jennifer Morrison'), ('moviename', 'The Darkness')]\n",
      "[('actorname', 'Martin Short'), ('moviename', 'The Big Picture')]\n",
      "[('actorname', 'Michael Gross'), ('moviename', 'Tremors')]\n",
      "[('actorname', 'Sherri Shepherd'), ('moviename', 'Beauty Shop')]\n"
     ]
    },
    {
     "data": {
      "text/plain": [
       "8"
      ]
     },
     "execution_count": 88,
     "metadata": {},
     "output_type": "execute_result"
    }
   ],
   "source": [
    "queryString = \"\"\"\n",
    "SELECT ?actorname ?moviename\n",
    "WHERE { \n",
    "\n",
    "    ?character wdt:P1441 wd:Q147235 .\n",
    "    ?character wdt:P175 ?actor .\n",
    "    ?movie wdt:P161 ?actor .\n",
    "    ?moviekb wdt:P161 wd:Q3454165 .\n",
    "    # Labels\n",
    "    ?actor <http://schema.org/name> ?actorname .\n",
    "    ?movie <http://schema.org/name> ?moviename .\n",
    "    #FILTER regex(?pname, \"ww\", \"i\") \n",
    "    FILTER (?moviekb = ?movie)\n",
    "} \n",
    "LIMIT 10\n",
    "\"\"\"\n",
    "\n",
    "print(\"Results\")\n",
    "run_query(queryString)"
   ]
  },
  {
   "cell_type": "code",
   "execution_count": 89,
   "id": "07b9a1fd-e6d5-4126-9906-b6092a3e49ef",
   "metadata": {},
   "outputs": [
    {
     "name": "stdout",
     "output_type": "stream",
     "text": [
      "Results\n",
      "[('actorname', 'John Cho')]\n",
      "[('actorname', 'Eva Amurri')]\n",
      "[('actorname', 'Jayma Mays')]\n",
      "[('actorname', 'Darcy Rose Byrnes')]\n",
      "[('actorname', 'Laura Prepon')]\n",
      "[('actorname', 'Benjamin Koldyke')]\n",
      "[('actorname', 'Nazanin Boniadi')]\n",
      "[('actorname', 'Katie Holmes')]\n",
      "[('actorname', 'Geoff Stults')]\n",
      "[('actorname', 'Jennifer Morrison')]\n"
     ]
    },
    {
     "data": {
      "text/plain": [
       "10"
      ]
     },
     "execution_count": 89,
     "metadata": {},
     "output_type": "execute_result"
    }
   ],
   "source": [
    "# Kevin bacon number = 2\n",
    "queryString = \"\"\"\n",
    "SELECT DISTINCT ?actorname\n",
    "WHERE { \n",
    "\n",
    "    ?character wdt:P1441 wd:Q147235 .\n",
    "    ?character wdt:P175 ?actor .\n",
    "    ?movie wdt:P161 ?actor .\n",
    "    ?moviekb wdt:P161 wd:Q3454165 .\n",
    "    ?moviekb wdt:P161 ?actorkb .\n",
    "    ?moviekbtwo wdt:P161 ?actorkb .\n",
    "    # Labels\n",
    "    ?actor <http://schema.org/name> ?actorname .\n",
    "    ?movie <http://schema.org/name> ?moviename .\n",
    "    FILTER (?moviekbtwo = ?movie)\n",
    "} \n",
    "LIMIT 10\n",
    "\"\"\"\n",
    "\n",
    "print(\"Results\")\n",
    "run_query(queryString)"
   ]
  },
  {
   "cell_type": "code",
   "execution_count": null,
   "id": "246ad41a-ba06-4f88-a5d4-a9c8fcab794c",
   "metadata": {},
   "outputs": [],
   "source": []
  },
  {
   "cell_type": "markdown",
   "id": "b4cdf65a-4ef3-4744-8a4b-152175f46ef9",
   "metadata": {
    "jp-MarkdownHeadingCollapsed": true,
    "tags": []
   },
   "source": [
    "### HIMYM actors kevin bacon number 2.\n",
    "### how many of the actors who are members of the cast of the tv series have [Kavin Bacon number] equal to 2"
   ]
  },
  {
   "cell_type": "code",
   "execution_count": 90,
   "id": "05652811-b8ef-4749-a9ac-bef2059d4637",
   "metadata": {},
   "outputs": [
    {
     "name": "stdout",
     "output_type": "stream",
     "text": [
      "Results\n",
      "[('countkbnumber', '110')]\n"
     ]
    },
    {
     "data": {
      "text/plain": [
       "1"
      ]
     },
     "execution_count": 90,
     "metadata": {},
     "output_type": "execute_result"
    }
   ],
   "source": [
    "# Kevin bacon number = 2\n",
    "queryString = \"\"\"\n",
    "SELECT (COUNT (DISTINCT ?actorname) AS ?countkbnumber)\n",
    "WHERE { \n",
    "\n",
    "    ?character wdt:P1441 wd:Q147235 .\n",
    "    ?character wdt:P175 ?actor .\n",
    "    ?movie wdt:P161 ?actor .\n",
    "    ?moviekb wdt:P161 wd:Q3454165 .\n",
    "    ?moviekb wdt:P161 ?actorkb .\n",
    "    ?moviekbtwo wdt:P161 ?actorkb .\n",
    "    # Labels\n",
    "    ?actor <http://schema.org/name> ?actorname .\n",
    "    ?movie <http://schema.org/name> ?moviename .\n",
    "    FILTER (?moviekbtwo = ?movie)\n",
    "} \n",
    "\n",
    "\"\"\"\n",
    "\n",
    "print(\"Results\")\n",
    "run_query(queryString)"
   ]
  },
  {
   "cell_type": "markdown",
   "id": "25b81793-a2ec-46e0-ac69-581244618ccd",
   "metadata": {
    "tags": []
   },
   "source": [
    "### The office actors kevin bacon number 2."
   ]
  },
  {
   "cell_type": "code",
   "execution_count": 91,
   "id": "b55aebd3-ba6a-4bd9-abd8-0776e76db181",
   "metadata": {},
   "outputs": [
    {
     "name": "stdout",
     "output_type": "stream",
     "text": [
      "Results\n",
      "[('actorname', 'David Koechner')]\n",
      "[('actorname', 'Jenna Fischer')]\n",
      "[('actorname', 'Phyllis Smith')]\n",
      "[('actorname', 'Craig Robinson')]\n",
      "[('actorname', 'Will Ferrell')]\n",
      "[('actorname', 'Melora Hardin')]\n",
      "[('actorname', 'James Spader')]\n",
      "[('actorname', 'David Denman')]\n",
      "[('actorname', 'Oscar Nunez')]\n",
      "[('actorname', 'Ed Helms')]\n"
     ]
    },
    {
     "data": {
      "text/plain": [
       "10"
      ]
     },
     "execution_count": 91,
     "metadata": {},
     "output_type": "execute_result"
    }
   ],
   "source": [
    "# Kevin bacon number = 2\n",
    "queryString = \"\"\"\n",
    "SELECT DISTINCT ?actorname\n",
    "WHERE { \n",
    "\n",
    "    ?character wdt:P1441 wd:Q23831 .\n",
    "    ?character wdt:P175 ?actor .\n",
    "    ?movie wdt:P161 ?actor .\n",
    "    ?moviekb wdt:P161 wd:Q3454165 .\n",
    "    ?moviekb wdt:P161 ?actorkb .\n",
    "    ?moviekbtwo wdt:P161 ?actorkb .\n",
    "    # Labels\n",
    "    ?actor <http://schema.org/name> ?actorname .\n",
    "    ?movie <http://schema.org/name> ?moviename .\n",
    "    FILTER (?moviekbtwo = ?movie)\n",
    "} \n",
    "LIMIT 10\n",
    "\"\"\"\n",
    "\n",
    "print(\"Results\")\n",
    "run_query(queryString)"
   ]
  },
  {
   "cell_type": "code",
   "execution_count": 92,
   "id": "30a62a3c-caaa-4e96-98e7-33dea627084a",
   "metadata": {},
   "outputs": [
    {
     "name": "stdout",
     "output_type": "stream",
     "text": [
      "Results\n",
      "[('countkbnumber', '28')]\n"
     ]
    },
    {
     "data": {
      "text/plain": [
       "1"
      ]
     },
     "execution_count": 92,
     "metadata": {},
     "output_type": "execute_result"
    }
   ],
   "source": [
    "# Kevin bacon number = 2\n",
    "queryString = \"\"\"\n",
    "SELECT (COUNT (DISTINCT ?actorname) AS ?countkbnumber)\n",
    "WHERE { \n",
    "\n",
    "    ?character wdt:P1441 wd:Q23831 .\n",
    "    ?character wdt:P175 ?actor .\n",
    "    ?movie wdt:P161 ?actor .\n",
    "    ?moviekb wdt:P161 wd:Q3454165 .\n",
    "    ?moviekb wdt:P161 ?actorkb .\n",
    "    ?moviekbtwo wdt:P161 ?actorkb .\n",
    "    # Labels\n",
    "    ?actor <http://schema.org/name> ?actorname .\n",
    "    ?movie <http://schema.org/name> ?moviename .\n",
    "    FILTER (?moviekbtwo = ?movie)\n",
    "} \n",
    "LIMIT 10\n",
    "\"\"\"\n",
    "\n",
    "print(\"Results\")\n",
    "run_query(queryString)"
   ]
  },
  {
   "cell_type": "code",
   "execution_count": null,
   "id": "cc2e4b20-e56f-44e2-9ef3-7bd6e48da28e",
   "metadata": {},
   "outputs": [],
   "source": []
  }
 ],
 "metadata": {
  "kernelspec": {
   "display_name": "Python 3 (ipykernel)",
   "language": "python",
   "name": "python3"
  },
  "language_info": {
   "codemirror_mode": {
    "name": "ipython",
    "version": 3
   },
   "file_extension": ".py",
   "mimetype": "text/x-python",
   "name": "python",
   "nbconvert_exporter": "python",
   "pygments_lexer": "ipython3",
   "version": "3.10.6"
  }
 },
 "nbformat": 4,
 "nbformat_minor": 5
}
