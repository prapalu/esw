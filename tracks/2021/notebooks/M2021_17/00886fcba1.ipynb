{
 "cells": [
  {
   "cell_type": "markdown",
   "id": "7034c3bf-6eb0-4418-8687-7b9d2a501103",
   "metadata": {},
   "source": [
    "# General instructions\n",
    "\n",
    "The goal of the project is to materialize a set of **exploratory workloads** over a real-world, large-scale,  open-domain KG: [WikiData](https://www.wikidata.org/wiki/Wikidata:Main_Page)\n",
    "\n",
    "An exploratory workload  is composed by a set of queries, where each query is related to the information obtained previously.\n",
    "\n",
    "An exploratory workload starts with a usually vague, open ended question, and does not assume the person issuing the workload has a clear understanding of the data contained in the target database or its structure.\n",
    "\n",
    "Remeber that:\n",
    "\n",
    "1. All the queries must run in the python notebook\n",
    "2. You can use classes and properties only if you find them via a SPARQL query that must be present in the notebook\n",
    "3. You do not delete useless queries. Keep everything that is synthatically valid \n",
    "\n",
    "```\n",
    "?p <http://schema.org/name> ?name .\n",
    "```\n",
    "    \n",
    "is the BGP returning a human-readable name of a property or a class in Wikidata.\n",
    "    \n",
    "    "
   ]
  },
  {
   "cell_type": "code",
   "execution_count": 1,
   "id": "3605c9d5-5371-49a5-be8d-d66e8f417139",
   "metadata": {},
   "outputs": [],
   "source": [
    "## SETUP used later\n",
    "\n",
    "from SPARQLWrapper import SPARQLWrapper, JSON\n",
    "\n",
    "\n",
    "prefixString = \"\"\"\n",
    "##-00886fcba1-##\n",
    "PREFIX wd: <http://www.wikidata.org/entity/> \n",
    "PREFIX wdt: <http://www.wikidata.org/prop/direct/> \n",
    "PREFIX sc: <http://schema.org/>\n",
    "\"\"\"\n",
    "\n",
    "# select and construct queries\n",
    "def run_query(queryString):\n",
    "    to_run = prefixString + \"\\n\" + queryString\n",
    "\n",
    "    sparql = SPARQLWrapper(\"http://a256-gc1-02.srv.aau.dk:5820/sparql\")\n",
    "    sparql.setTimeout(300)\n",
    "    sparql.setReturnFormat(JSON)\n",
    "    sparql.setQuery(to_run)\n",
    "\n",
    "    try :\n",
    "       results = sparql.query()\n",
    "       json_results = results.convert()\n",
    "       if len(json_results['results']['bindings'])==0:\n",
    "          print(\"Empty\")\n",
    "          return 0\n",
    "    \n",
    "       for bindings in json_results['results']['bindings']:\n",
    "          print( [ (var, value['value'])  for var, value in bindings.items() ] )\n",
    "\n",
    "       return len(json_results['results']['bindings'])\n",
    "\n",
    "    except Exception as e :\n",
    "        print(\"The operation failed\", e)\n",
    "    \n",
    "# ASk queries\n",
    "def run_ask_query(queryString):\n",
    "    to_run = prefixString + \"\\n\" + queryString\n",
    "\n",
    "    sparql = SPARQLWrapper(\"http://a256-gc1-02.srv.aau.dk:5820/sparql\")\n",
    "    sparql.setTimeout(300)\n",
    "    sparql.setReturnFormat(JSON)\n",
    "    sparql.setQuery(to_run)\n",
    "\n",
    "    try :\n",
    "        return sparql.query().convert()\n",
    "\n",
    "    except Exception as e :\n",
    "        print(\"The operation failed\", e)\n"
   ]
  },
  {
   "cell_type": "markdown",
   "id": "d477a59c-a68c-4c8f-9f97-8ca5294d7d27",
   "metadata": {},
   "source": [
    "# Politics Workflow Series (\"Monarchies\") \n",
    "\n",
    "Consider the following exploratory information need:\n",
    "\n",
    "> You investigating existing and past historical monarchies"
   ]
  },
  {
   "cell_type": "markdown",
   "id": "4a45c0ba-f79e-441d-bec5-84401b09db70",
   "metadata": {},
   "source": [
    "## Useful URIs for the current workflow\n",
    "\n",
    "\n",
    "The following are given:\n",
    "\n",
    "| IRI           | Description   | Role      |\n",
    "| -----------   | -----------   |-----------|\n",
    "| `wdt:P1647`   | subproperty   | predicate |\n",
    "| `wdt:P31`     | instance of   | predicate |\n",
    "| `wdt:P279`    | subclass      | predicate |\n",
    "| `wdt:P17`     | country       | predicate |\n",
    "| `wdt:P27`     | citizenship   | predicate |\n",
    "| `wdt:P1366`   | replaced by    | predicate |\n",
    "| `wdt:P122`    | basic form of government    | predicate |\n",
    "| `wd:Q38`      | Italy          | node |\n",
    "| `wd:Q145`     | United Kingdom           | node |\n",
    "| `wd:Q7269`    | monarchy           | node |\n",
    "\n",
    "\n",
    "\n",
    "\n",
    "Also consider\n",
    "\n",
    "```\n",
    "?p (wdt:P31|wdt:P122)/wdt:P279* wd:Q7269  . \n",
    "```\n",
    "\n",
    "is the BGP to retrieve all **countries that are some instance of a monarchy**"
   ]
  },
  {
   "cell_type": "markdown",
   "id": "7af439fb-96e4-4dbb-a381-f19afab79f86",
   "metadata": {
    "tags": []
   },
   "source": [
    "## Workload Goals\n",
    "\n",
    "\n",
    "1. Identify the BGP to retrieve states that were monarchies and have been replaced by some other state\n",
    "\n",
    "2. Identify the BGP for obtaining statistical information of monarchies, e.g., poluation or inception date\n",
    "\n",
    "3. Which is or was  the country with the highest population?\n",
    "\n",
    "4. How many countries are or have been monarchies across continents?\n",
    "\n",
    "5. Analyze the number of countries that were monarchies\n",
    " \n",
    "   5.1 How many sub-types of monarchy exist?  How many instances of exist of each one?\n",
    "   \n",
    "   5.2 Are there cities that have been capital of multiple kingdoms?\n",
    "   \n",
    "   5.3 Which are the top-3 monarchies with the earliest inception and still existing?\n"
   ]
  },
  {
   "cell_type": "code",
   "execution_count": 2,
   "id": "24a853ab-830c-422c-afd3-e9e015b8b8ed",
   "metadata": {},
   "outputs": [],
   "source": [
    "# start your workflow here"
   ]
  },
  {
   "cell_type": "code",
   "execution_count": 3,
   "id": "ade01416-92e7-4ad7-b9a9-b8fb330750dc",
   "metadata": {},
   "outputs": [
    {
     "name": "stdout",
     "output_type": "stream",
     "text": [
      "Results\n",
      "[('callret-0', '2344')]\n"
     ]
    },
    {
     "data": {
      "text/plain": [
       "1"
      ]
     },
     "execution_count": 3,
     "metadata": {},
     "output_type": "execute_result"
    }
   ],
   "source": [
    "    queryString = \"\"\"\n",
    "    SELECT COUNT(*)\n",
    "    WHERE { \n",
    "\n",
    "        ?p (wdt:P31|wdt:P122)/wdt:P279* wd:Q7269  . \n",
    "    } \n",
    "    \"\"\"\n",
    "\n",
    "    print(\"Results\")\n",
    "    run_query(queryString)"
   ]
  },
  {
   "cell_type": "markdown",
   "id": "d0ee38c6-2268-4033-8270-f6b91f39662d",
   "metadata": {},
   "source": [
    "# Workload Goals"
   ]
  },
  {
   "cell_type": "markdown",
   "id": "553e0c6f-38ac-4a0c-b079-9bdd760ff810",
   "metadata": {},
   "source": [
    "##### Identify the BGP to retrieve states that were monarchies and have been replaced by some other state"
   ]
  },
  {
   "cell_type": "code",
   "execution_count": 4,
   "id": "8149a23f-47bd-444a-b8cf-37402b569ad0",
   "metadata": {},
   "outputs": [
    {
     "name": "stdout",
     "output_type": "stream",
     "text": [
      "Results\n",
      "[('p', 'http://www.wikidata.org/prop/direct/P9486'), ('o', '3545'), ('pname', 'HERO ID')]\n",
      "[('p', 'http://www.wikidata.org/prop/direct/P1014'), ('o', '300055529'), ('pname', 'Art & Architecture Thesaurus ID')]\n",
      "[('p', 'http://www.wikidata.org/prop/direct/P1051'), ('o', '8373'), ('pname', 'PSH ID')]\n",
      "[('p', 'http://www.wikidata.org/prop/direct/P1149'), ('o', 'JC375'), ('pname', 'Library of Congress Classification')]\n",
      "[('p', 'http://www.wikidata.org/prop/direct/P1151'), ('o', 'http://www.wikidata.org/entity/Q8209976'), ('pname', \"topic's main Wikimedia portal\")]\n",
      "[('p', 'http://www.wikidata.org/prop/direct/P1296'), ('o', '0124448'), ('pname', 'Gran Enciclopèdia Catalana ID')]\n",
      "[('p', 'http://www.wikidata.org/prop/direct/P1417'), ('o', 'topic/monarchy'), ('pname', 'Encyclopædia Britannica Online ID')]\n",
      "[('p', 'http://www.wikidata.org/prop/direct/P18'), ('o', 'http://commons.wikimedia.org/wiki/Special:FilePath/Heraldic%20Royal%20Crown%20%28Common%29.svg'), ('pname', 'image')]\n",
      "[('p', 'http://www.wikidata.org/prop/direct/P227'), ('o', '4040034-7'), ('pname', 'GND ID')]\n",
      "[('p', 'http://www.wikidata.org/prop/direct/P2347'), ('o', '11329'), ('pname', 'YSO ID')]\n",
      "[('p', 'http://www.wikidata.org/prop/direct/P2354'), ('o', 'http://www.wikidata.org/entity/Q3446184'), ('pname', 'has list')]\n",
      "[('p', 'http://www.wikidata.org/prop/direct/P244'), ('o', 'sh85086679'), ('pname', 'Library of Congress authority ID')]\n",
      "[('p', 'http://www.wikidata.org/prop/direct/P2581'), ('o', '00055624n'), ('pname', 'BabelNet ID')]\n",
      "[('p', 'http://www.wikidata.org/prop/direct/P279'), ('o', 'http://www.wikidata.org/entity/Q22676587'), ('pname', 'subclass of')]\n",
      "[('p', 'http://www.wikidata.org/prop/direct/P31'), ('o', 'http://www.wikidata.org/entity/Q1307214'), ('pname', 'instance of')]\n",
      "[('p', 'http://www.wikidata.org/prop/direct/P3219'), ('o', 'monarchie'), ('pname', 'Encyclopædia Universalis ID')]\n",
      "[('p', 'http://www.wikidata.org/prop/direct/P3222'), ('o', 'monarki'), ('pname', 'NE.se ID')]\n",
      "[('p', 'http://www.wikidata.org/prop/direct/P3365'), ('o', 'monarchia'), ('pname', 'Treccani ID')]\n",
      "[('p', 'http://www.wikidata.org/prop/direct/P3417'), ('o', 'Monarchies'), ('pname', 'Quora topic ID')]\n",
      "[('p', 'http://www.wikidata.org/prop/direct/P3553'), ('o', '20034675'), ('pname', 'Zhihu topic ID')]\n",
      "[('p', 'http://www.wikidata.org/prop/direct/P3569'), ('o', 'wet-en-recht/monarchie'), ('pname', 'Cultureel Woordenboek ID')]\n",
      "[('p', 'http://www.wikidata.org/prop/direct/P3612'), ('o', 'sujet/monarchie'), ('pname', 'Le Monde diplomatique subject ID')]\n",
      "[('p', 'http://www.wikidata.org/prop/direct/P373'), ('o', 'Monarchy'), ('pname', 'Commons category')]\n",
      "[('p', 'http://www.wikidata.org/prop/direct/P3827'), ('o', 'monarchy'), ('pname', 'JSTOR topic ID')]\n",
      "[('p', 'http://www.wikidata.org/prop/direct/P3827'), ('o', 'kingship'), ('pname', 'JSTOR topic ID')]\n",
      "[('p', 'http://www.wikidata.org/prop/direct/P3827'), ('o', 'queenship'), ('pname', 'JSTOR topic ID')]\n",
      "[('p', 'http://www.wikidata.org/prop/direct/P3916'), ('o', 'concept14251'), ('pname', 'UNESCO Thesaurus ID')]\n",
      "[('p', 'http://www.wikidata.org/prop/direct/P4212'), ('o', 'pcrtLaK7qbSoDY'), ('pname', 'PACTOLS thesaurus ID')]\n",
      "[('p', 'http://www.wikidata.org/prop/direct/P4527'), ('o', '92062'), ('pname', 'UK Parliament thesaurus ID')]\n",
      "[('p', 'http://www.wikidata.org/prop/direct/P4839'), ('o', 'Entity[\"Concept\", \"Monarchy::44v86\"]'), ('pname', 'Wolfram Language entity code')]\n",
      "[('p', 'http://www.wikidata.org/prop/direct/P5008'), ('o', 'http://www.wikidata.org/entity/Q5460604'), ('pname', 'on focus list of Wikimedia project')]\n",
      "[('p', 'http://www.wikidata.org/prop/direct/P508'), ('o', '4615'), ('pname', 'BNCF Thesaurus ID')]\n",
      "[('p', 'http://www.wikidata.org/prop/direct/P5198'), ('o', '294926062'), ('pname', 'ASC Leiden Thesaurus ID')]\n",
      "[('p', 'http://www.wikidata.org/prop/direct/P527'), ('o', 'http://www.wikidata.org/entity/Q116'), ('pname', 'has part')]\n",
      "[('p', 'http://www.wikidata.org/prop/direct/P5748'), ('o', '89.33'), ('pname', 'Basisklassifikation')]\n",
      "[('p', 'http://www.wikidata.org/prop/direct/P6293'), ('o', 'Y103548'), ('pname', 'YSA ID')]\n",
      "[('p', 'http://www.wikidata.org/prop/direct/P6366'), ('o', '203458295'), ('pname', 'Microsoft Academic ID')]\n",
      "[('p', 'http://www.wikidata.org/prop/direct/P6404'), ('o', 'monarchia'), ('pname', \"Treccani's Dizionario di Storia ID\")]\n",
      "[('p', 'http://www.wikidata.org/prop/direct/P646'), ('o', '/m/04szc'), ('pname', 'Freebase ID')]\n",
      "[('p', 'http://www.wikidata.org/prop/direct/P6706'), ('o', 'monarchìa'), ('pname', 'De Agostini ID')]\n",
      "[('p', 'http://www.wikidata.org/prop/direct/P7033'), ('o', 'scot/4332'), ('pname', 'Australian Educational Vocabulary ID')]\n",
      "[('p', 'http://www.wikidata.org/prop/direct/P7818'), ('o', 'Monarchie'), ('pname', 'French Vikidia ID')]\n",
      "[('p', 'http://www.wikidata.org/prop/direct/P7822'), ('o', 'Monarchia'), ('pname', 'Italian Vikidia ID')]\n",
      "[('p', 'http://www.wikidata.org/prop/direct/P7827'), ('o', 'Monarquía'), ('pname', 'Spanish Vikidia ID')]\n",
      "[('p', 'http://www.wikidata.org/prop/direct/P7832'), ('o', 'Monarkia'), ('pname', 'Basque Vikidia ID')]\n",
      "[('p', 'http://www.wikidata.org/prop/direct/P8248'), ('o', 'W4'), ('pname', 'Colon Classification')]\n",
      "[('p', 'http://www.wikidata.org/prop/direct/P8309'), ('o', '18-215409'), ('pname', 'Yle topic ID')]\n",
      "[('p', 'http://www.wikidata.org/prop/direct/P8408'), ('o', 'Monarchy'), ('pname', 'KBpedia ID')]\n",
      "[('p', 'http://www.wikidata.org/prop/direct/P8519'), ('o', '82410'), ('pname', 'RKD thesaurus ID')]\n",
      "[('p', 'http://www.wikidata.org/prop/direct/P910'), ('o', 'http://www.wikidata.org/entity/Q54068'), ('pname', \"topic's main category\")]\n"
     ]
    },
    {
     "data": {
      "text/plain": [
       "50"
      ]
     },
     "execution_count": 4,
     "metadata": {},
     "output_type": "execute_result"
    }
   ],
   "source": [
    "# wd:Q7269\tmonarchy\tnode\n",
    "queryString = \"\"\"\n",
    "SELECT *\n",
    "WHERE { \n",
    "\n",
    "    wd:Q7269 ?p ?o .   \n",
    "        # Labels\n",
    "    ?p <http://schema.org/name> ?pname .\n",
    "    #?o <http://schema.org/name> ?oname .\n",
    "    #FILTER regex(?pname, \"ww\", \"i\") \n",
    "} \n",
    "LIMIT 50\n",
    "\"\"\"\n",
    "\n",
    "print(\"Results\")\n",
    "run_query(queryString)"
   ]
  },
  {
   "cell_type": "code",
   "execution_count": 5,
   "id": "95a792ee-caf3-450f-9c0f-654a918f8756",
   "metadata": {},
   "outputs": [
    {
     "name": "stdout",
     "output_type": "stream",
     "text": [
      "Results\n",
      "[('p', 'http://www.wikidata.org/entity/Q1183407'), ('o', 'http://www.wikidata.org/prop/direct/P122'), ('pname', 'Taifa of Algeciras')]\n",
      "[('p', 'http://www.wikidata.org/entity/Q484195'), ('o', 'http://www.wikidata.org/prop/direct/P122'), ('pname', 'Timurid Empire')]\n",
      "[('p', 'http://www.wikidata.org/entity/Q215443'), ('o', 'http://www.wikidata.org/prop/direct/P122'), ('pname', 'Swedish Empire')]\n",
      "[('p', 'http://www.wikidata.org/entity/Q12150341'), ('o', 'http://www.wikidata.org/prop/direct/P122'), ('pname', 'Samanid Empire')]\n",
      "[('p', 'http://www.wikidata.org/entity/Q215530'), ('o', 'http://www.wikidata.org/prop/direct/P122'), ('pname', 'Kingdom of Ireland')]\n",
      "[('p', 'http://www.wikidata.org/entity/Q93180'), ('o', 'http://www.wikidata.org/prop/direct/P122'), ('pname', 'Seleucid Empire')]\n",
      "[('p', 'http://www.wikidata.org/entity/Q205718'), ('o', 'http://www.wikidata.org/prop/direct/P122'), ('pname', 'Zirid dynasty')]\n",
      "[('p', 'http://www.wikidata.org/entity/Q733897'), ('o', 'http://www.wikidata.org/prop/direct/P122'), ('pname', 'First Babylonian Empire')]\n",
      "[('p', 'http://www.wikidata.org/entity/Q13053139'), ('o', 'http://www.wikidata.org/prop/direct/P122'), ('pname', 'Hittite Empire')]\n",
      "[('p', 'http://www.wikidata.org/entity/Q200464'), ('o', 'http://www.wikidata.org/prop/direct/P122'), ('pname', 'Portuguese Empire')]\n",
      "[('p', 'http://www.wikidata.org/entity/Q2277'), ('o', 'http://www.wikidata.org/prop/direct/P122'), ('pname', 'Roman Empire')]\n",
      "[('p', 'http://www.wikidata.org/entity/Q83311'), ('o', 'http://www.wikidata.org/prop/direct/P31'), ('pname', 'Persian Empire')]\n",
      "[('p', 'http://www.wikidata.org/entity/Q178897'), ('o', 'http://www.wikidata.org/prop/direct/P122'), ('pname', 'Latin Empire')]\n",
      "[('p', 'http://www.wikidata.org/entity/Q178913'), ('o', 'http://www.wikidata.org/prop/direct/P122'), ('pname', 'Empire of Trebizond')]\n",
      "[('p', 'http://www.wikidata.org/entity/Q42834'), ('o', 'http://www.wikidata.org/prop/direct/P122'), ('pname', 'Western Roman Empire (395-476 AD)')]\n",
      "[('p', 'http://www.wikidata.org/entity/Q2431480'), ('o', 'http://www.wikidata.org/prop/direct/P122'), ('pname', 'Tibetan Empire')]\n",
      "[('p', 'http://www.wikidata.org/entity/Q9141475'), ('o', 'http://www.wikidata.org/prop/direct/P122'), ('pname', 'Aedirn')]\n",
      "[('p', 'http://www.wikidata.org/entity/Q11774'), ('o', 'http://www.wikidata.org/prop/direct/P122'), ('pname', 'Gupta Empire')]\n",
      "[('p', 'http://www.wikidata.org/entity/Q1337854'), ('o', 'http://www.wikidata.org/prop/direct/P122'), ('pname', 'emirate of Córdoba')]\n",
      "[('p', 'http://www.wikidata.org/entity/Q389688'), ('o', 'http://www.wikidata.org/prop/direct/P122'), ('pname', 'Achaemenid Empire')]\n",
      "[('p', 'http://www.wikidata.org/entity/Q536476'), ('o', 'http://www.wikidata.org/prop/direct/P122'), ('pname', 'Toucouleur Empire')]\n",
      "[('p', 'http://www.wikidata.org/entity/Q4461035'), ('o', 'http://www.wikidata.org/prop/direct/P122'), ('pname', 'Akkadian empire')]\n",
      "[('p', 'http://www.wikidata.org/entity/Q3708094'), ('o', 'http://www.wikidata.org/prop/direct/P122'), ('pname', 'Seljuk Empire')]\n",
      "[('p', 'http://www.wikidata.org/entity/Q83546'), ('o', 'http://www.wikidata.org/prop/direct/P122'), ('pname', 'Grand Duchy of Vladimir')]\n",
      "[('p', 'http://www.wikidata.org/entity/Q1250763'), ('o', 'http://www.wikidata.org/prop/direct/P122'), ('pname', 'Emirate of Sicily')]\n",
      "[('p', 'http://www.wikidata.org/entity/Q1406298'), ('o', 'http://www.wikidata.org/prop/direct/P122'), ('pname', 'Serbian Empire')]\n",
      "[('p', 'http://www.wikidata.org/entity/Q187587'), ('o', 'http://www.wikidata.org/prop/direct/P279'), ('pname', 'empire')]\n",
      "[('p', 'http://www.wikidata.org/entity/Q181254'), ('o', 'http://www.wikidata.org/prop/direct/P122'), ('pname', 'Empire of Nicaea')]\n",
      "[('p', 'http://www.wikidata.org/entity/Q18234383'), ('o', 'http://www.wikidata.org/prop/direct/P122'), ('pname', 'Safavid Empire')]\n",
      "[('p', 'http://www.wikidata.org/entity/Q466581'), ('o', 'http://www.wikidata.org/prop/direct/P122'), ('pname', 'Hoysala Empire')]\n",
      "[('p', 'http://www.wikidata.org/entity/Q4147013'), ('o', 'http://www.wikidata.org/prop/direct/P122'), ('pname', 'Tulunid emirate')]\n",
      "[('p', 'http://www.wikidata.org/entity/Q6049322'), ('o', 'http://www.wikidata.org/prop/direct/P122'), ('pname', 'Ophir')]\n",
      "[('p', 'http://www.wikidata.org/entity/Q83572'), ('o', 'http://www.wikidata.org/prop/direct/P122'), ('pname', 'Sikh Empire')]\n",
      "[('p', 'http://www.wikidata.org/entity/Q2349630'), ('o', 'http://www.wikidata.org/prop/direct/P122'), ('pname', 'Galactic Empire')]\n",
      "[('p', 'http://www.wikidata.org/entity/Q65037349'), ('o', 'http://www.wikidata.org/prop/direct/P122'), ('pname', 'Saffarid Empire')]\n",
      "[('p', 'http://www.wikidata.org/entity/Q887803'), ('o', 'http://www.wikidata.org/prop/direct/P122'), ('pname', 'Bruneian Empire')]\n",
      "[('p', 'http://www.wikidata.org/entity/Q25979'), ('o', 'http://www.wikidata.org/prop/direct/P122'), ('pname', 'Kushan Empire')]\n",
      "[('p', 'http://www.wikidata.org/entity/Q146871'), ('o', 'http://www.wikidata.org/prop/direct/P122'), ('pname', 'First Saudi State')]\n",
      "[('p', 'http://www.wikidata.org/entity/Q568712'), ('o', 'http://www.wikidata.org/prop/direct/P122'), ('pname', 'Wassoulou Empire')]\n",
      "[('p', 'http://www.wikidata.org/entity/Q3780537'), ('o', 'http://www.wikidata.org/prop/direct/P122'), ('pname', 'Gaza Empire')]\n",
      "[('p', 'http://www.wikidata.org/entity/Q842390'), ('o', 'http://www.wikidata.org/prop/direct/P122'), ('pname', 'Tuʻi Tonga Empire')]\n",
      "[('p', 'http://www.wikidata.org/entity/Q11744447'), ('o', 'http://www.wikidata.org/prop/direct/P122'), ('pname', 'Kovir and Poviss')]\n",
      "[('p', 'http://www.wikidata.org/entity/Q23039102'), ('o', 'http://www.wikidata.org/prop/direct/P122'), ('pname', 'First Toungoo Empire')]\n"
     ]
    },
    {
     "data": {
      "text/plain": [
       "43"
      ]
     },
     "execution_count": 5,
     "metadata": {},
     "output_type": "execute_result"
    }
   ],
   "source": [
    "# wd:Q7269\tmonarchy\tnode\n",
    "queryString = \"\"\"\n",
    "SELECT *\n",
    "WHERE { \n",
    "\n",
    "    ?p ?o wd:Q7269 .   \n",
    "        # Labels\n",
    "    ?p <http://schema.org/name> ?pname .\n",
    "    #?o <http://schema.org/name> ?oname .\n",
    "    FILTER regex(?pname, \"ir\", \"i\") \n",
    "} \n",
    "LIMIT 50\n",
    "\"\"\"\n",
    "\n",
    "print(\"Results\")\n",
    "run_query(queryString)"
   ]
  },
  {
   "cell_type": "code",
   "execution_count": 6,
   "id": "2cdd3fd9-5045-4b16-8710-4a062513b1c0",
   "metadata": {},
   "outputs": [
    {
     "name": "stdout",
     "output_type": "stream",
     "text": [
      "Results\n",
      "[('p', 'http://www.wikidata.org/entity/Q5762342'), ('o', 'http://www.wikidata.org/prop/direct/P1001'), ('pname', 'Koi'), ('oname', 'applies to jurisdiction')]\n",
      "[('p', 'http://www.wikidata.org/entity/Q794'), ('o', 'http://www.wikidata.org/prop/direct/P1365'), ('pname', 'Iran'), ('oname', 'replaces')]\n",
      "[('p', 'http://www.wikidata.org/entity/Q1969109'), ('o', 'http://www.wikidata.org/prop/direct/P138'), ('pname', 'Persian windmill'), ('oname', 'named after')]\n",
      "[('p', 'http://www.wikidata.org/entity/Q10394208'), ('o', 'http://www.wikidata.org/prop/direct/P17'), ('pname', 'chess in Persia'), ('oname', 'country')]\n",
      "[('p', 'http://www.wikidata.org/entity/Q3273852'), ('o', 'http://www.wikidata.org/prop/direct/P17'), ('pname', 'Hellespontine Phrygia'), ('oname', 'country')]\n",
      "[('p', 'http://www.wikidata.org/entity/Q1163924'), ('o', 'http://www.wikidata.org/prop/direct/P17'), ('pname', 'Celaenae'), ('oname', 'country')]\n",
      "[('p', 'http://www.wikidata.org/entity/Q102104649'), ('o', 'http://www.wikidata.org/prop/direct/P17'), ('pname', 'Polonais carpet'), ('oname', 'country')]\n",
      "[('p', 'http://www.wikidata.org/entity/Q746583'), ('o', 'http://www.wikidata.org/prop/direct/P180'), ('pname', 'Histories'), ('oname', 'depicts')]\n",
      "[('p', 'http://www.wikidata.org/entity/Q27992625'), ('o', 'http://www.wikidata.org/prop/direct/P1889'), ('pname', 'men'), ('oname', 'different from')]\n",
      "[('p', 'http://www.wikidata.org/entity/Q437609'), ('o', 'http://www.wikidata.org/prop/direct/P19'), ('pname', 'Ivo of Ramsey'), ('oname', 'place of birth')]\n",
      "[('p', 'http://www.wikidata.org/entity/Q7401109'), ('o', 'http://www.wikidata.org/prop/direct/P19'), ('pname', 'Saint Christina of Persia'), ('oname', 'place of birth')]\n",
      "[('p', 'http://www.wikidata.org/entity/Q3866933'), ('o', 'http://www.wikidata.org/prop/direct/P19'), ('pname', \"Muhammad ibn 'Ubayd Allah Abu l-Ma 'ali\"), ('oname', 'place of birth')]\n",
      "[('p', 'http://www.wikidata.org/entity/Q59562131'), ('o', 'http://www.wikidata.org/prop/direct/P19'), ('pname', 'Ananias'), ('oname', 'place of birth')]\n",
      "[('p', 'http://www.wikidata.org/entity/Q3622583'), ('o', 'http://www.wikidata.org/prop/direct/P19'), ('pname', 'ʻĀrifī'), ('oname', 'place of birth')]\n",
      "[('p', 'http://www.wikidata.org/entity/Q43945'), ('o', 'http://www.wikidata.org/prop/direct/P20'), ('pname', 'Jude the Apostle'), ('oname', 'place of death')]\n",
      "[('p', 'http://www.wikidata.org/entity/Q104695960'), ('o', 'http://www.wikidata.org/prop/direct/P20'), ('pname', 'Jonas'), ('oname', 'place of death')]\n",
      "[('p', 'http://www.wikidata.org/entity/Q104695961'), ('o', 'http://www.wikidata.org/prop/direct/P20'), ('pname', 'Barachisius'), ('oname', 'place of death')]\n",
      "[('p', 'http://www.wikidata.org/entity/Q5960960'), ('o', 'http://www.wikidata.org/prop/direct/P2348'), ('pname', 'Kuprilli'), ('oname', 'time period')]\n",
      "[('p', 'http://www.wikidata.org/entity/Q106916684'), ('o', 'http://www.wikidata.org/prop/direct/P2348'), ('pname', 'Arshit Dana'), ('oname', 'time period')]\n",
      "[('p', 'http://www.wikidata.org/entity/Q6564498'), ('o', 'http://www.wikidata.org/prop/direct/P2596'), ('pname', 'Tachara'), ('oname', 'culture')]\n",
      "[('p', 'http://www.wikidata.org/entity/Q5527015'), ('o', 'http://www.wikidata.org/prop/direct/P2596'), ('pname', 'Gate of All Nations'), ('oname', 'culture')]\n",
      "[('p', 'http://www.wikidata.org/entity/Q2610362'), ('o', 'http://www.wikidata.org/prop/direct/P27'), ('pname', 'Raffi'), ('oname', 'country of citizenship')]\n",
      "[('p', 'http://www.wikidata.org/entity/Q2562036'), ('o', 'http://www.wikidata.org/prop/direct/P27'), ('pname', 'Abradatas'), ('oname', 'country of citizenship')]\n",
      "[('p', 'http://www.wikidata.org/entity/Q233359'), ('o', 'http://www.wikidata.org/prop/direct/P27'), ('pname', 'Atossa'), ('oname', 'country of citizenship')]\n",
      "[('p', 'http://www.wikidata.org/entity/Q4896825'), ('o', 'http://www.wikidata.org/prop/direct/P27'), ('pname', 'Artabanus'), ('oname', 'country of citizenship')]\n",
      "[('p', 'http://www.wikidata.org/entity/Q561925'), ('o', 'http://www.wikidata.org/prop/direct/P27'), ('pname', 'Achaemenes'), ('oname', 'country of citizenship')]\n",
      "[('p', 'http://www.wikidata.org/entity/Q58811132'), ('o', 'http://www.wikidata.org/prop/direct/P27'), ('pname', 'Mahomed Ismaël-Khan'), ('oname', 'country of citizenship')]\n",
      "[('p', 'http://www.wikidata.org/entity/Q312893'), ('o', 'http://www.wikidata.org/prop/direct/P27'), ('pname', 'Artaphernes'), ('oname', 'country of citizenship')]\n",
      "[('p', 'http://www.wikidata.org/entity/Q888906'), ('o', 'http://www.wikidata.org/prop/direct/P27'), ('pname', 'Khosrau III'), ('oname', 'country of citizenship')]\n",
      "[('p', 'http://www.wikidata.org/entity/Q2663540'), ('o', 'http://www.wikidata.org/prop/direct/P27'), ('pname', \"Muhammad Bal'ami\"), ('oname', 'country of citizenship')]\n",
      "[('p', 'http://www.wikidata.org/entity/Q790811'), ('o', 'http://www.wikidata.org/prop/direct/P27'), ('pname', 'Barsauma'), ('oname', 'country of citizenship')]\n",
      "[('p', 'http://www.wikidata.org/entity/Q3607422'), ('o', 'http://www.wikidata.org/prop/direct/P27'), ('pname', 'Al-Abiwardi'), ('oname', 'country of citizenship')]\n",
      "[('p', 'http://www.wikidata.org/entity/Q1641601'), ('o', 'http://www.wikidata.org/prop/direct/P27'), ('pname', 'Tattenai'), ('oname', 'country of citizenship')]\n",
      "[('p', 'http://www.wikidata.org/entity/Q262329'), ('o', 'http://www.wikidata.org/prop/direct/P27'), ('pname', 'Amastris'), ('oname', 'country of citizenship')]\n",
      "[('p', 'http://www.wikidata.org/entity/Q96439226'), ('o', 'http://www.wikidata.org/prop/direct/P27'), ('pname', 'Kutb al-Din Shah Mahmud'), ('oname', 'country of citizenship')]\n",
      "[('p', 'http://www.wikidata.org/entity/Q11085305'), ('o', 'http://www.wikidata.org/prop/direct/P27'), ('pname', 'Abdon'), ('oname', 'country of citizenship')]\n",
      "[('p', 'http://www.wikidata.org/entity/Q11948174'), ('o', 'http://www.wikidata.org/prop/direct/P27'), ('pname', 'Sennen'), ('oname', 'country of citizenship')]\n",
      "[('p', 'http://www.wikidata.org/entity/Q438979'), ('o', 'http://www.wikidata.org/prop/direct/P27'), ('pname', 'Ali-Akbar Davar'), ('oname', 'country of citizenship')]\n",
      "[('p', 'http://www.wikidata.org/entity/Q18913392'), ('o', 'http://www.wikidata.org/prop/direct/P27'), ('pname', 'Lazare Nazare-Aga'), ('oname', 'country of citizenship')]\n",
      "[('p', 'http://www.wikidata.org/entity/Q597636'), ('o', 'http://www.wikidata.org/prop/direct/P27'), ('pname', 'Alopen'), ('oname', 'country of citizenship')]\n",
      "[('p', 'http://www.wikidata.org/entity/Q10394208'), ('o', 'http://www.wikidata.org/prop/direct/P276'), ('pname', 'chess in Persia'), ('oname', 'location')]\n",
      "[('p', 'http://www.wikidata.org/entity/Q1299584'), ('o', 'http://www.wikidata.org/prop/direct/P276'), ('pname', 'Sogdo'), ('oname', 'location')]\n",
      "[('p', 'http://www.wikidata.org/entity/Q389688'), ('o', 'http://www.wikidata.org/prop/direct/P279'), ('pname', 'Achaemenid Empire'), ('oname', 'subclass of')]\n",
      "[('p', 'http://www.wikidata.org/entity/Q6161979'), ('o', 'http://www.wikidata.org/prop/direct/P301'), ('pname', 'Category:Persian empire'), ('oname', \"category's main topic\")]\n",
      "[('p', 'http://www.wikidata.org/entity/Q83891'), ('o', 'http://www.wikidata.org/prop/direct/P31'), ('pname', 'Sasanian Empire'), ('oname', 'instance of')]\n",
      "[('p', 'http://www.wikidata.org/entity/Q83891'), ('o', 'http://www.wikidata.org/prop/direct/P361'), ('pname', 'Sasanian Empire'), ('oname', 'part of')]\n",
      "[('p', 'http://www.wikidata.org/entity/Q63149558'), ('o', 'http://www.wikidata.org/prop/direct/P361'), ('pname', 'Afsharid Empire'), ('oname', 'part of')]\n",
      "[('p', 'http://www.wikidata.org/entity/Q797926'), ('o', 'http://www.wikidata.org/prop/direct/P361'), ('pname', 'Babylon Satrapy'), ('oname', 'part of')]\n",
      "[('p', 'http://www.wikidata.org/entity/Q18234383'), ('o', 'http://www.wikidata.org/prop/direct/P361'), ('pname', 'Safavid Empire'), ('oname', 'part of')]\n",
      "[('p', 'http://www.wikidata.org/entity/Q11772'), ('o', 'http://www.wikidata.org/prop/direct/P47'), ('pname', 'Ancient Greece'), ('oname', 'shares border with')]\n"
     ]
    },
    {
     "data": {
      "text/plain": [
       "50"
      ]
     },
     "execution_count": 6,
     "metadata": {},
     "output_type": "execute_result"
    }
   ],
   "source": [
    "# [('p', 'http://www.wikidata.org/entity/Q18234383'), \n",
    "# ('o', 'http://www.wikidata.org/prop/direct/P122'), ('pname', 'Safavid Empire')]\n",
    "\n",
    "# [('p', 'http://www.wikidata.org/entity/Q83311'), \n",
    "# ('o', 'http://www.wikidata.org/prop/direct/P31'), ('pname', 'Persian Empire')]\n",
    "\n",
    "queryString = \"\"\"\n",
    "SELECT *\n",
    "WHERE { \n",
    "    ?p ?o wd:Q83311 .   \n",
    "        # Labels\n",
    "    ?p <http://schema.org/name> ?pname .\n",
    "    ?o <http://schema.org/name> ?oname .\n",
    "    #FILTER regex(?pname, \"ir\", \"i\") \n",
    "} \n",
    "LIMIT 50\n",
    "\"\"\"\n",
    "\n",
    "print(\"Results\")\n",
    "run_query(queryString)"
   ]
  },
  {
   "cell_type": "code",
   "execution_count": 7,
   "id": "82640d3f-0a0f-4bcb-878c-7b470aabf330",
   "metadata": {},
   "outputs": [
    {
     "name": "stdout",
     "output_type": "stream",
     "text": [
      "Results\n",
      "[('p', 'http://www.wikidata.org/entity/Q794'), ('o', 'http://www.wikidata.org/prop/direct/P1365'), ('pname', 'Iran'), ('oname', 'replaces')]\n"
     ]
    },
    {
     "data": {
      "text/plain": [
       "1"
      ]
     },
     "execution_count": 7,
     "metadata": {},
     "output_type": "execute_result"
    }
   ],
   "source": [
    "# [('p', 'http://www.wikidata.org/entity/Q18234383'), \n",
    "# ('o', 'http://www.wikidata.org/prop/direct/P122'), ('pname', 'Safavid Empire')]\n",
    "\n",
    "# [('p', 'http://www.wikidata.org/entity/Q83311'), \n",
    "# ('o', 'http://www.wikidata.org/prop/direct/P31'), ('pname', 'Persian Empire')]\n",
    "\n",
    "queryString = \"\"\"\n",
    "SELECT *\n",
    "WHERE { \n",
    "    ?p ?o wd:Q83311 .   \n",
    "        # Labels\n",
    "    ?p <http://schema.org/name> ?pname .\n",
    "    ?o <http://schema.org/name> ?oname .\n",
    "    FILTER regex(?pname, \"iran\", \"i\") \n",
    "} \n",
    "LIMIT 50\n",
    "\"\"\"\n",
    "\n",
    "print(\"Results\")\n",
    "run_query(queryString)"
   ]
  },
  {
   "cell_type": "code",
   "execution_count": 8,
   "id": "39c22938-c665-4263-8ef5-96cda9f0d941",
   "metadata": {},
   "outputs": [
    {
     "name": "stdout",
     "output_type": "stream",
     "text": [
      "Results\n",
      "[('monarchy', 'http://www.wikidata.org/entity/Q207991'), ('monarchyname', 'Pahlavi Dynasty')]\n",
      "[('monarchy', 'http://www.wikidata.org/entity/Q83311'), ('monarchyname', 'Persian Empire')]\n",
      "[('monarchy', 'http://www.wikidata.org/entity/Q107258515'), ('monarchyname', 'Pahlavi Iran')]\n"
     ]
    },
    {
     "data": {
      "text/plain": [
       "3"
      ]
     },
     "execution_count": 8,
     "metadata": {},
     "output_type": "execute_result"
    }
   ],
   "source": [
    "# [('p', 'http://www.wikidata.org/entity/Q794'), ('o', 'http://www.wikidata.org/prop/direct/P1365'),\n",
    "# ('pname', 'Iran'), ('oname', 'replaces')]\n",
    "queryString = \"\"\"\n",
    "SELECT *\n",
    "WHERE { \n",
    "    wd:Q794 wdt:P1365 ?monarchy .   \n",
    "        # Labels\n",
    "    ?monarchy <http://schema.org/name> ?monarchyname .\n",
    "} \n",
    "LIMIT 50\n",
    "\"\"\"\n",
    "\n",
    "print(\"Results\")\n",
    "run_query(queryString)"
   ]
  },
  {
   "cell_type": "code",
   "execution_count": 9,
   "id": "61c10654-fa31-4b12-82e1-3400e8aeb4f9",
   "metadata": {},
   "outputs": [
    {
     "name": "stdout",
     "output_type": "stream",
     "text": [
      "Results\n",
      "[('p', 'http://www.wikidata.org/entity/Q794'), ('o', 'http://www.wikidata.org/prop/direct/P1365'), ('oname', 'replaces')]\n",
      "[('p', 'http://www.wikidata.org/entity/Q189326'), ('o', 'http://www.wikidata.org/prop/direct/P1366'), ('oname', 'replaced by')]\n",
      "[('p', 'http://www.wikidata.org/entity/Q4767446'), ('o', 'http://www.wikidata.org/prop/direct/P551'), ('oname', 'residence')]\n"
     ]
    },
    {
     "data": {
      "text/plain": [
       "3"
      ]
     },
     "execution_count": 9,
     "metadata": {},
     "output_type": "execute_result"
    }
   ],
   "source": [
    "queryString = \"\"\"\n",
    "SELECT *\n",
    "WHERE { \n",
    "    ?p ?o wd:Q207991 .   \n",
    "        # Labels\n",
    "    #?p <http://schema.org/name> ?pname .\n",
    "    ?o <http://schema.org/name> ?oname .\n",
    "    FILTER(REGEX(STR(?oname), \"^[Rr][eplace]\"))\n",
    "} \n",
    "LIMIT 50\n",
    "\"\"\"\n",
    "\n",
    "print(\"Results\")\n",
    "run_query(queryString)"
   ]
  },
  {
   "cell_type": "code",
   "execution_count": 10,
   "id": "93336684-d345-472b-b688-e59de67b36b5",
   "metadata": {},
   "outputs": [
    {
     "name": "stdout",
     "output_type": "stream",
     "text": [
      "Results\n",
      "[('p', 'http://www.wikidata.org/prop/direct/P9486'), ('o', '3545'), ('pname', 'HERO ID')]\n",
      "[('p', 'http://www.wikidata.org/prop/direct/P1014'), ('o', '300055529'), ('pname', 'Art & Architecture Thesaurus ID')]\n",
      "[('p', 'http://www.wikidata.org/prop/direct/P1051'), ('o', '8373'), ('pname', 'PSH ID')]\n",
      "[('p', 'http://www.wikidata.org/prop/direct/P1149'), ('o', 'JC375'), ('pname', 'Library of Congress Classification')]\n",
      "[('p', 'http://www.wikidata.org/prop/direct/P1151'), ('o', 'http://www.wikidata.org/entity/Q8209976'), ('pname', \"topic's main Wikimedia portal\")]\n",
      "[('p', 'http://www.wikidata.org/prop/direct/P1296'), ('o', '0124448'), ('pname', 'Gran Enciclopèdia Catalana ID')]\n",
      "[('p', 'http://www.wikidata.org/prop/direct/P1417'), ('o', 'topic/monarchy'), ('pname', 'Encyclopædia Britannica Online ID')]\n",
      "[('p', 'http://www.wikidata.org/prop/direct/P18'), ('o', 'http://commons.wikimedia.org/wiki/Special:FilePath/Heraldic%20Royal%20Crown%20%28Common%29.svg'), ('pname', 'image')]\n",
      "[('p', 'http://www.wikidata.org/prop/direct/P227'), ('o', '4040034-7'), ('pname', 'GND ID')]\n",
      "[('p', 'http://www.wikidata.org/prop/direct/P2347'), ('o', '11329'), ('pname', 'YSO ID')]\n",
      "[('p', 'http://www.wikidata.org/prop/direct/P2354'), ('o', 'http://www.wikidata.org/entity/Q3446184'), ('pname', 'has list')]\n",
      "[('p', 'http://www.wikidata.org/prop/direct/P244'), ('o', 'sh85086679'), ('pname', 'Library of Congress authority ID')]\n",
      "[('p', 'http://www.wikidata.org/prop/direct/P2581'), ('o', '00055624n'), ('pname', 'BabelNet ID')]\n",
      "[('p', 'http://www.wikidata.org/prop/direct/P279'), ('o', 'http://www.wikidata.org/entity/Q22676587'), ('pname', 'subclass of')]\n",
      "[('p', 'http://www.wikidata.org/prop/direct/P31'), ('o', 'http://www.wikidata.org/entity/Q1307214'), ('pname', 'instance of')]\n",
      "[('p', 'http://www.wikidata.org/prop/direct/P3219'), ('o', 'monarchie'), ('pname', 'Encyclopædia Universalis ID')]\n",
      "[('p', 'http://www.wikidata.org/prop/direct/P3222'), ('o', 'monarki'), ('pname', 'NE.se ID')]\n",
      "[('p', 'http://www.wikidata.org/prop/direct/P3365'), ('o', 'monarchia'), ('pname', 'Treccani ID')]\n",
      "[('p', 'http://www.wikidata.org/prop/direct/P3417'), ('o', 'Monarchies'), ('pname', 'Quora topic ID')]\n",
      "[('p', 'http://www.wikidata.org/prop/direct/P3553'), ('o', '20034675'), ('pname', 'Zhihu topic ID')]\n",
      "[('p', 'http://www.wikidata.org/prop/direct/P3569'), ('o', 'wet-en-recht/monarchie'), ('pname', 'Cultureel Woordenboek ID')]\n",
      "[('p', 'http://www.wikidata.org/prop/direct/P3612'), ('o', 'sujet/monarchie'), ('pname', 'Le Monde diplomatique subject ID')]\n",
      "[('p', 'http://www.wikidata.org/prop/direct/P373'), ('o', 'Monarchy'), ('pname', 'Commons category')]\n",
      "[('p', 'http://www.wikidata.org/prop/direct/P3827'), ('o', 'monarchy'), ('pname', 'JSTOR topic ID')]\n",
      "[('p', 'http://www.wikidata.org/prop/direct/P3827'), ('o', 'kingship'), ('pname', 'JSTOR topic ID')]\n",
      "[('p', 'http://www.wikidata.org/prop/direct/P3827'), ('o', 'queenship'), ('pname', 'JSTOR topic ID')]\n",
      "[('p', 'http://www.wikidata.org/prop/direct/P3916'), ('o', 'concept14251'), ('pname', 'UNESCO Thesaurus ID')]\n",
      "[('p', 'http://www.wikidata.org/prop/direct/P4212'), ('o', 'pcrtLaK7qbSoDY'), ('pname', 'PACTOLS thesaurus ID')]\n",
      "[('p', 'http://www.wikidata.org/prop/direct/P4527'), ('o', '92062'), ('pname', 'UK Parliament thesaurus ID')]\n",
      "[('p', 'http://www.wikidata.org/prop/direct/P4839'), ('o', 'Entity[\"Concept\", \"Monarchy::44v86\"]'), ('pname', 'Wolfram Language entity code')]\n",
      "[('p', 'http://www.wikidata.org/prop/direct/P5008'), ('o', 'http://www.wikidata.org/entity/Q5460604'), ('pname', 'on focus list of Wikimedia project')]\n",
      "[('p', 'http://www.wikidata.org/prop/direct/P508'), ('o', '4615'), ('pname', 'BNCF Thesaurus ID')]\n",
      "[('p', 'http://www.wikidata.org/prop/direct/P5198'), ('o', '294926062'), ('pname', 'ASC Leiden Thesaurus ID')]\n",
      "[('p', 'http://www.wikidata.org/prop/direct/P527'), ('o', 'http://www.wikidata.org/entity/Q116'), ('pname', 'has part')]\n",
      "[('p', 'http://www.wikidata.org/prop/direct/P5748'), ('o', '89.33'), ('pname', 'Basisklassifikation')]\n",
      "[('p', 'http://www.wikidata.org/prop/direct/P6293'), ('o', 'Y103548'), ('pname', 'YSA ID')]\n",
      "[('p', 'http://www.wikidata.org/prop/direct/P6366'), ('o', '203458295'), ('pname', 'Microsoft Academic ID')]\n",
      "[('p', 'http://www.wikidata.org/prop/direct/P6404'), ('o', 'monarchia'), ('pname', \"Treccani's Dizionario di Storia ID\")]\n",
      "[('p', 'http://www.wikidata.org/prop/direct/P646'), ('o', '/m/04szc'), ('pname', 'Freebase ID')]\n",
      "[('p', 'http://www.wikidata.org/prop/direct/P6706'), ('o', 'monarchìa'), ('pname', 'De Agostini ID')]\n",
      "[('p', 'http://www.wikidata.org/prop/direct/P7033'), ('o', 'scot/4332'), ('pname', 'Australian Educational Vocabulary ID')]\n",
      "[('p', 'http://www.wikidata.org/prop/direct/P7818'), ('o', 'Monarchie'), ('pname', 'French Vikidia ID')]\n",
      "[('p', 'http://www.wikidata.org/prop/direct/P7822'), ('o', 'Monarchia'), ('pname', 'Italian Vikidia ID')]\n",
      "[('p', 'http://www.wikidata.org/prop/direct/P7827'), ('o', 'Monarquía'), ('pname', 'Spanish Vikidia ID')]\n",
      "[('p', 'http://www.wikidata.org/prop/direct/P7832'), ('o', 'Monarkia'), ('pname', 'Basque Vikidia ID')]\n",
      "[('p', 'http://www.wikidata.org/prop/direct/P8248'), ('o', 'W4'), ('pname', 'Colon Classification')]\n",
      "[('p', 'http://www.wikidata.org/prop/direct/P8309'), ('o', '18-215409'), ('pname', 'Yle topic ID')]\n",
      "[('p', 'http://www.wikidata.org/prop/direct/P8408'), ('o', 'Monarchy'), ('pname', 'KBpedia ID')]\n",
      "[('p', 'http://www.wikidata.org/prop/direct/P8519'), ('o', '82410'), ('pname', 'RKD thesaurus ID')]\n",
      "[('p', 'http://www.wikidata.org/prop/direct/P910'), ('o', 'http://www.wikidata.org/entity/Q54068'), ('pname', \"topic's main category\")]\n"
     ]
    },
    {
     "data": {
      "text/plain": [
       "50"
      ]
     },
     "execution_count": 10,
     "metadata": {},
     "output_type": "execute_result"
    }
   ],
   "source": [
    "queryString = \"\"\"\n",
    "SELECT *\n",
    "WHERE { \n",
    "    wd:Q7269 ?p ?o .   \n",
    "        # Labels\n",
    "    ?p <http://schema.org/name> ?pname .\n",
    "    #?o <http://schema.org/name> ?oname .\n",
    "    #FILTER(REGEX(STR(?oname), \"^[Rr][eplace]\"))\n",
    "} \n",
    "LIMIT 50\n",
    "\"\"\"\n",
    "\n",
    "print(\"Results\")\n",
    "run_query(queryString)"
   ]
  },
  {
   "cell_type": "code",
   "execution_count": 11,
   "id": "6fe1e18c-3db5-49d5-8529-68d67c2652f9",
   "metadata": {},
   "outputs": [
    {
     "name": "stdout",
     "output_type": "stream",
     "text": [
      "Results\n",
      "[('monarchy', 'http://www.wikidata.org/entity/Q101423800'), ('o', 'http://www.wikidata.org/prop/direct/P106'), ('monarchyname', 'Jacob Gyang Buba'), ('oname', 'occupation')]\n",
      "[('monarchy', 'http://www.wikidata.org/entity/Q3640980'), ('o', 'http://www.wikidata.org/prop/direct/P1142'), ('monarchyname', 'National Bloc of Freedom'), ('oname', 'political ideology')]\n",
      "[('monarchy', 'http://www.wikidata.org/entity/Q2993893'), ('o', 'http://www.wikidata.org/prop/direct/P1269'), ('monarchyname', 'royal council'), ('oname', 'facet of')]\n",
      "[('monarchy', 'http://www.wikidata.org/entity/Q5186811'), ('o', 'http://www.wikidata.org/prop/direct/P1269'), ('monarchyname', 'criticism of monarchy'), ('oname', 'facet of')]\n",
      "[('monarchy', 'http://www.wikidata.org/entity/Q7995869'), ('o', 'http://www.wikidata.org/prop/direct/P1269'), ('monarchyname', 'abolition of monarchy'), ('oname', 'facet of')]\n",
      "[('monarchy', 'http://www.wikidata.org/entity/Q106570346'), ('o', 'http://www.wikidata.org/prop/direct/P1269'), ('monarchyname', 'history of monarchy'), ('oname', 'facet of')]\n",
      "[('monarchy', 'http://www.wikidata.org/entity/Q60788337'), ('o', 'http://www.wikidata.org/prop/direct/P1269'), ('monarchyname', 'designation'), ('oname', 'facet of')]\n",
      "[('monarchy', 'http://www.wikidata.org/entity/Q15622229'), ('o', 'http://www.wikidata.org/prop/direct/P279'), ('monarchyname', 'patrimonialism'), ('oname', 'subclass of')]\n",
      "[('monarchy', 'http://www.wikidata.org/entity/Q4482688'), ('o', 'http://www.wikidata.org/prop/direct/P279'), ('monarchyname', 'feudal monarchy'), ('oname', 'subclass of')]\n",
      "[('monarchy', 'http://www.wikidata.org/entity/Q179352'), ('o', 'http://www.wikidata.org/prop/direct/P279'), ('monarchyname', 'despotism'), ('oname', 'subclass of')]\n",
      "[('monarchy', 'http://www.wikidata.org/entity/Q584683'), ('o', 'http://www.wikidata.org/prop/direct/P279'), ('monarchyname', 'elective monarchy'), ('oname', 'subclass of')]\n",
      "[('monarchy', 'http://www.wikidata.org/entity/Q849242'), ('o', 'http://www.wikidata.org/prop/direct/P279'), ('monarchyname', 'hereditary monarchy'), ('oname', 'subclass of')]\n",
      "[('monarchy', 'http://www.wikidata.org/entity/Q184558'), ('o', 'http://www.wikidata.org/prop/direct/P279'), ('monarchyname', 'absolute monarchy'), ('oname', 'subclass of')]\n",
      "[('monarchy', 'http://www.wikidata.org/entity/Q3208952'), ('o', 'http://www.wikidata.org/prop/direct/P279'), ('monarchyname', 'federal monarchy'), ('oname', 'subclass of')]\n",
      "[('monarchy', 'http://www.wikidata.org/entity/Q41614'), ('o', 'http://www.wikidata.org/prop/direct/P279'), ('monarchyname', 'constitutional monarchy'), ('oname', 'subclass of')]\n",
      "[('monarchy', 'http://www.wikidata.org/entity/Q154547'), ('o', 'http://www.wikidata.org/prop/direct/P279'), ('monarchyname', 'duchy'), ('oname', 'subclass of')]\n",
      "[('monarchy', 'http://www.wikidata.org/entity/Q417175'), ('o', 'http://www.wikidata.org/prop/direct/P279'), ('monarchyname', 'kingdom'), ('oname', 'subclass of')]\n",
      "[('monarchy', 'http://www.wikidata.org/entity/Q2387481'), ('o', 'http://www.wikidata.org/prop/direct/P279'), ('monarchyname', 'list of Indonesian monarchies'), ('oname', 'subclass of')]\n",
      "[('monarchy', 'http://www.wikidata.org/entity/Q1257585'), ('o', 'http://www.wikidata.org/prop/direct/P279'), ('monarchyname', 'monarchy of Barbados'), ('oname', 'subclass of')]\n",
      "[('monarchy', 'http://www.wikidata.org/entity/Q187587'), ('o', 'http://www.wikidata.org/prop/direct/P279'), ('monarchyname', 'empire'), ('oname', 'subclass of')]\n"
     ]
    },
    {
     "data": {
      "text/plain": [
       "20"
      ]
     },
     "execution_count": 11,
     "metadata": {},
     "output_type": "execute_result"
    }
   ],
   "source": [
    "queryString = \"\"\"\n",
    "SELECT *\n",
    "WHERE { \n",
    "    ?monarchy ?o wd:Q7269 .   \n",
    "        # Labels\n",
    "    ?monarchy <http://schema.org/name> ?monarchyname .\n",
    "    ?o <http://schema.org/name> ?oname .\n",
    "    FILTER NOT EXISTS { ?monarchy wdt:P122 wd:Q7269 } \n",
    "    #FILTER(REGEX(STR(?monarchyname), \"[Ss]afavid\"))\n",
    "} \n",
    "LIMIT 20\n",
    "\"\"\"\n",
    "\n",
    "print(\"Results\")\n",
    "run_query(queryString)"
   ]
  },
  {
   "cell_type": "code",
   "execution_count": 12,
   "id": "3ae3371a-a57e-426f-a1fa-7ac9cc4bb4ce",
   "metadata": {},
   "outputs": [
    {
     "name": "stdout",
     "output_type": "stream",
     "text": [
      "Results\n",
      "[('monarchy', 'http://www.wikidata.org/entity/Q101423800'), ('o', 'http://www.wikidata.org/prop/direct/P106'), ('oname', 'occupation')]\n",
      "[('monarchy', 'http://www.wikidata.org/entity/Q3640980'), ('o', 'http://www.wikidata.org/prop/direct/P1142'), ('oname', 'political ideology')]\n",
      "[('monarchy', 'http://www.wikidata.org/entity/Q2993893'), ('o', 'http://www.wikidata.org/prop/direct/P1269'), ('oname', 'facet of')]\n",
      "[('monarchy', 'http://www.wikidata.org/entity/Q5186811'), ('o', 'http://www.wikidata.org/prop/direct/P1269'), ('oname', 'facet of')]\n",
      "[('monarchy', 'http://www.wikidata.org/entity/Q7995869'), ('o', 'http://www.wikidata.org/prop/direct/P1269'), ('oname', 'facet of')]\n",
      "[('monarchy', 'http://www.wikidata.org/entity/Q106570346'), ('o', 'http://www.wikidata.org/prop/direct/P1269'), ('oname', 'facet of')]\n",
      "[('monarchy', 'http://www.wikidata.org/entity/Q60788337'), ('o', 'http://www.wikidata.org/prop/direct/P1269'), ('oname', 'facet of')]\n",
      "[('monarchy', 'http://www.wikidata.org/entity/Q12616396'), ('o', 'http://www.wikidata.org/prop/direct/P1269'), ('oname', 'facet of')]\n",
      "[('monarchy', 'http://www.wikidata.org/entity/Q1789907'), ('o', 'http://www.wikidata.org/prop/direct/P1269'), ('oname', 'facet of')]\n",
      "[('monarchy', 'http://www.wikidata.org/entity/Q87458612'), ('o', 'http://www.wikidata.org/prop/direct/P180'), ('oname', 'depicts')]\n",
      "[('monarchy', 'http://www.wikidata.org/entity/Q19753100'), ('o', 'http://www.wikidata.org/prop/direct/P180'), ('oname', 'depicts')]\n",
      "[('monarchy', 'http://www.wikidata.org/entity/Q15622229'), ('o', 'http://www.wikidata.org/prop/direct/P279'), ('oname', 'subclass of')]\n",
      "[('monarchy', 'http://www.wikidata.org/entity/Q4482688'), ('o', 'http://www.wikidata.org/prop/direct/P279'), ('oname', 'subclass of')]\n",
      "[('monarchy', 'http://www.wikidata.org/entity/Q179352'), ('o', 'http://www.wikidata.org/prop/direct/P279'), ('oname', 'subclass of')]\n",
      "[('monarchy', 'http://www.wikidata.org/entity/Q584683'), ('o', 'http://www.wikidata.org/prop/direct/P279'), ('oname', 'subclass of')]\n",
      "[('monarchy', 'http://www.wikidata.org/entity/Q849242'), ('o', 'http://www.wikidata.org/prop/direct/P279'), ('oname', 'subclass of')]\n",
      "[('monarchy', 'http://www.wikidata.org/entity/Q184558'), ('o', 'http://www.wikidata.org/prop/direct/P279'), ('oname', 'subclass of')]\n",
      "[('monarchy', 'http://www.wikidata.org/entity/Q3208952'), ('o', 'http://www.wikidata.org/prop/direct/P279'), ('oname', 'subclass of')]\n",
      "[('monarchy', 'http://www.wikidata.org/entity/Q41614'), ('o', 'http://www.wikidata.org/prop/direct/P279'), ('oname', 'subclass of')]\n",
      "[('monarchy', 'http://www.wikidata.org/entity/Q154547'), ('o', 'http://www.wikidata.org/prop/direct/P279'), ('oname', 'subclass of')]\n"
     ]
    },
    {
     "data": {
      "text/plain": [
       "20"
      ]
     },
     "execution_count": 12,
     "metadata": {},
     "output_type": "execute_result"
    }
   ],
   "source": [
    "queryString = \"\"\"\n",
    "SELECT *\n",
    "WHERE { \n",
    "    ?monarchy ?o wd:Q7269 .   \n",
    "        # Labels\n",
    "    #?monarchy <http://schema.org/name> ?monarchyname .\n",
    "    ?o <http://schema.org/name> ?oname .\n",
    "    FILTER NOT EXISTS { ?monarchy wdt:P122 wd:Q7269 } \n",
    "    #FILTER(REGEX(STR(?monarchyname), \"[Ss]afavid\"))\n",
    "} \n",
    "LIMIT 20\n",
    "\"\"\"\n",
    "\n",
    "print(\"Results\")\n",
    "run_query(queryString)"
   ]
  },
  {
   "cell_type": "code",
   "execution_count": 13,
   "id": "2f87f868-278a-4930-b4e5-07de6c7d526f",
   "metadata": {},
   "outputs": [
    {
     "name": "stdout",
     "output_type": "stream",
     "text": [
      "Results\n",
      "[('o', 'http://www.wikidata.org/prop/direct/P106'), ('oname', 'occupation')]\n",
      "[('o', 'http://www.wikidata.org/prop/direct/P1142'), ('oname', 'political ideology')]\n",
      "[('o', 'http://www.wikidata.org/prop/direct/P122'), ('oname', 'basic form of government')]\n",
      "[('o', 'http://www.wikidata.org/prop/direct/P1269'), ('oname', 'facet of')]\n",
      "[('o', 'http://www.wikidata.org/prop/direct/P180'), ('oname', 'depicts')]\n",
      "[('o', 'http://www.wikidata.org/prop/direct/P279'), ('oname', 'subclass of')]\n",
      "[('o', 'http://www.wikidata.org/prop/direct/P301'), ('oname', \"category's main topic\")]\n",
      "[('o', 'http://www.wikidata.org/prop/direct/P31'), ('oname', 'instance of')]\n",
      "[('o', 'http://www.wikidata.org/prop/direct/P360'), ('oname', 'is a list of')]\n",
      "[('o', 'http://www.wikidata.org/prop/direct/P361'), ('oname', 'part of')]\n",
      "[('o', 'http://www.wikidata.org/prop/direct/P4224'), ('oname', 'category contains')]\n",
      "[('o', 'http://www.wikidata.org/prop/direct/P527'), ('oname', 'has part')]\n",
      "[('o', 'http://www.wikidata.org/prop/direct/P6'), ('oname', 'head of government')]\n",
      "[('o', 'http://www.wikidata.org/prop/direct/P921'), ('oname', 'main subject')]\n",
      "[('o', 'http://www.wikidata.org/prop/direct/P971'), ('oname', 'category combines topics')]\n",
      "[('o', 'http://www.wikidata.org/prop/direct/P1204'), ('oname', \"Wikimedia portal's main topic\")]\n"
     ]
    },
    {
     "data": {
      "text/plain": [
       "16"
      ]
     },
     "execution_count": 13,
     "metadata": {},
     "output_type": "execute_result"
    }
   ],
   "source": [
    "queryString = \"\"\"\n",
    "SELECT DISTINCT ?o ?oname\n",
    "WHERE { \n",
    "    ?monarchy ?o wd:Q7269 .   \n",
    "        # Labels\n",
    "    #?monarchy <http://schema.org/name> ?monarchyname .\n",
    "    ?o <http://schema.org/name> ?oname .\n",
    "    #FILTER NOT EXISTS { ?monarchy wdt:P122 wd:Q7269 } \n",
    "    #FILTER(REGEX(STR(?monarchyname), \"[Ss]afavid\"))\n",
    "} \n",
    "LIMIT 40\n",
    "\"\"\"\n",
    "\n",
    "print(\"Results\")\n",
    "run_query(queryString)"
   ]
  },
  {
   "cell_type": "code",
   "execution_count": 14,
   "id": "5c833564-3998-4254-9375-59531f9527f1",
   "metadata": {},
   "outputs": [
    {
     "name": "stdout",
     "output_type": "stream",
     "text": [
      "Results\n",
      "[('monarchy', 'http://www.wikidata.org/entity/Q2196956'), ('monarchyname', 'Kingdom of Norway (872–1397)')]\n",
      "[('monarchy', 'http://www.wikidata.org/entity/Q83311'), ('monarchyname', 'Persian Empire')]\n",
      "[('monarchy', 'http://www.wikidata.org/entity/Q669459'), ('monarchyname', 'Monarchy of Australia')]\n",
      "[('monarchy', 'http://www.wikidata.org/entity/Q3244497'), ('monarchyname', 'monarchy of the Bahamas')]\n",
      "[('monarchy', 'http://www.wikidata.org/entity/Q703340'), ('monarchyname', 'Wiman Joseon')]\n",
      "[('monarchy', 'http://www.wikidata.org/entity/Q6898103'), ('monarchyname', 'Monarchy of South Africa')]\n",
      "[('monarchy', 'http://www.wikidata.org/entity/Q508840'), ('monarchyname', 'Monarchy of Canada')]\n",
      "[('monarchy', 'http://www.wikidata.org/entity/Q10331792'), ('monarchyname', 'Portuguese monarchy')]\n",
      "[('monarchy', 'http://www.wikidata.org/entity/Q4296'), ('monarchyname', 'monarchy of New Zealand')]\n",
      "[('monarchy', 'http://www.wikidata.org/entity/Q16840097'), ('monarchyname', 'monarchy of Greece')]\n",
      "[('monarchy', 'http://www.wikidata.org/entity/Q3244203'), ('monarchyname', 'monarchy of Antigua and Barbuda')]\n",
      "[('monarchy', 'http://www.wikidata.org/entity/Q15057121'), ('monarchyname', 'Tsarist autocracy')]\n",
      "[('monarchy', 'http://www.wikidata.org/entity/Q4986330'), ('monarchyname', 'Buhweju')]\n",
      "[('monarchy', 'http://www.wikidata.org/entity/Q89101318'), ('monarchyname', 'Pre-modern Hungary')]\n",
      "[('monarchy', 'http://www.wikidata.org/entity/Q6898109'), ('monarchyname', 'Monarchy of the Cook Islands')]\n",
      "[('monarchy', 'http://www.wikidata.org/entity/Q107656931'), ('monarchyname', 'Kingdom of Wémè')]\n",
      "[('monarchy', 'http://www.wikidata.org/entity/Q31840731'), ('monarchyname', 'Godenu')]\n",
      "[('monarchy', 'http://www.wikidata.org/entity/Q50825947'), ('monarchyname', 'Daju kingdom')]\n",
      "[('monarchy', 'http://www.wikidata.org/entity/Q3320135'), ('monarchyname', 'Monarchy of the Solomon Islands')]\n",
      "[('monarchy', 'http://www.wikidata.org/entity/Q105430165'), ('monarchyname', 'Monarchy of Korea')]\n"
     ]
    },
    {
     "data": {
      "text/plain": [
       "20"
      ]
     },
     "execution_count": 14,
     "metadata": {},
     "output_type": "execute_result"
    }
   ],
   "source": [
    "queryString = \"\"\"\n",
    "SELECT *\n",
    "WHERE { \n",
    "    ?monarchy wdt:P31 wd:Q7269 .   \n",
    "        # Labels\n",
    "    ?monarchy <http://schema.org/name> ?monarchyname .\n",
    "    #?o <http://schema.org/name> ?oname .\n",
    "    #?p <http://schema.org/name> ?pname .\n",
    "    #FILTER NOT EXISTS { ?monarchy wdt:P122 wd:Q7269 } \n",
    "    #FILTER(REGEX(STR(?monarchyname), \"[Ss]afavid\"))\n",
    "} \n",
    "LIMIT 40\n",
    "\"\"\"\n",
    "\n",
    "print(\"Results\")\n",
    "run_query(queryString)"
   ]
  },
  {
   "cell_type": "code",
   "execution_count": 15,
   "id": "d4943cb2-d0c2-4335-bff6-de49355c9a18",
   "metadata": {},
   "outputs": [
    {
     "name": "stdout",
     "output_type": "stream",
     "text": [
      "Results\n",
      "[('monarchy', 'http://www.wikidata.org/entity/Q3494968'), ('monarchyname', 'monarchies in Europe')]\n",
      "[('monarchy', 'http://www.wikidata.org/entity/Q3446184'), ('monarchyname', 'list of monarchies')]\n",
      "[('monarchy', 'http://www.wikidata.org/entity/Q3510397'), ('monarchyname', 'Monarchies in Africa')]\n"
     ]
    },
    {
     "data": {
      "text/plain": [
       "3"
      ]
     },
     "execution_count": 15,
     "metadata": {},
     "output_type": "execute_result"
    }
   ],
   "source": [
    "# [('o', 'http://www.wikidata.org/prop/direct/P360'), ('oname', 'is a list of')]\n",
    "queryString = \"\"\"\n",
    "SELECT *\n",
    "WHERE { \n",
    "    ?monarchy wdt:P360 wd:Q7269 .   \n",
    "        # Labels\n",
    "    ?monarchy <http://schema.org/name> ?monarchyname .\n",
    "    #?o <http://schema.org/name> ?oname .\n",
    "    #FILTER NOT EXISTS { ?monarchy wdt:P122 wd:Q7269 } \n",
    "    #FILTER(REGEX(STR(?monarchyname), \"[Ss]afavid\"))\n",
    "} \n",
    "LIMIT 40\n",
    "\"\"\"\n",
    "\n",
    "print(\"Results\")\n",
    "run_query(queryString)"
   ]
  },
  {
   "cell_type": "code",
   "execution_count": 16,
   "id": "5bc5b86d-ebe6-4f1d-8432-caa34facbba9",
   "metadata": {},
   "outputs": [
    {
     "name": "stdout",
     "output_type": "stream",
     "text": [
      "Results\n",
      "[('p', 'http://www.wikidata.org/prop/direct/P1754'), ('o', 'http://www.wikidata.org/entity/Q8791896'), ('oname', 'Category:Monarchies'), ('pname', 'category related to list')]\n",
      "[('p', 'http://www.wikidata.org/prop/direct/P1754'), ('o', 'http://www.wikidata.org/entity/Q54068'), ('oname', 'Category:Monarchy'), ('pname', 'category related to list')]\n",
      "[('p', 'http://www.wikidata.org/prop/direct/P31'), ('o', 'http://www.wikidata.org/entity/Q13406463'), ('oname', 'Wikimedia list article'), ('pname', 'instance of')]\n",
      "[('p', 'http://www.wikidata.org/prop/direct/P360'), ('o', 'http://www.wikidata.org/entity/Q7269'), ('oname', 'monarchy'), ('pname', 'is a list of')]\n"
     ]
    },
    {
     "data": {
      "text/plain": [
       "4"
      ]
     },
     "execution_count": 16,
     "metadata": {},
     "output_type": "execute_result"
    }
   ],
   "source": [
    "# [('o', 'http://www.wikidata.org/prop/direct/P360'), ('oname', 'is a list of')]\n",
    "queryString = \"\"\"\n",
    "SELECT *\n",
    "WHERE { \n",
    "    wd:Q3446184 ?p ?o .  \n",
    "    \n",
    "        # Labels\n",
    "    #?monarchy <http://schema.org/name> ?monarchyname .\n",
    "    ?o <http://schema.org/name> ?oname .\n",
    "    ?p <http://schema.org/name> ?pname .\n",
    "    #FILTER NOT EXISTS { ?monarchy wdt:P122 wd:Q7269 } \n",
    "    #FILTER(REGEX(STR(?monarchyname), \"[Ss]afavid\"))\n",
    "} \n",
    "LIMIT 40\n",
    "\"\"\"\n",
    "\n",
    "print(\"Results\")\n",
    "run_query(queryString)"
   ]
  },
  {
   "cell_type": "code",
   "execution_count": 17,
   "id": "7cc62743-526a-4708-91b7-33271deeb4e8",
   "metadata": {},
   "outputs": [
    {
     "name": "stdout",
     "output_type": "stream",
     "text": [
      "Results\n",
      "[('monarchy', 'http://www.wikidata.org/entity/Q139315'), ('monarchyname', 'Dʿmt')]\n",
      "[('monarchy', 'http://www.wikidata.org/entity/Q30673322'), ('monarchyname', 'Safavid Georgia')]\n",
      "[('monarchy', 'http://www.wikidata.org/entity/Q30890672'), ('monarchyname', 'Kingdom of Sicily')]\n",
      "[('monarchy', 'http://www.wikidata.org/entity/Q153080'), ('monarchyname', 'East Francia')]\n",
      "[('monarchy', 'http://www.wikidata.org/entity/Q449639'), ('monarchyname', 'Alodia')]\n",
      "[('monarchy', 'http://www.wikidata.org/entity/Q733668'), ('monarchyname', 'Ghassanids')]\n",
      "[('monarchy', 'http://www.wikidata.org/entity/Q1183407'), ('monarchyname', 'Taifa of Algeciras')]\n",
      "[('monarchy', 'http://www.wikidata.org/entity/Q1389743'), ('monarchyname', 'Kotoko kingdom')]\n",
      "[('monarchy', 'http://www.wikidata.org/entity/Q696640'), ('monarchyname', 'Duchy of Pomerania')]\n",
      "[('monarchy', 'http://www.wikidata.org/entity/Q3110559'), ('monarchyname', 'Pauravas')]\n",
      "[('monarchy', 'http://www.wikidata.org/entity/Q484195'), ('monarchyname', 'Timurid Empire')]\n",
      "[('monarchy', 'http://www.wikidata.org/entity/Q7405'), ('monarchyname', 'Sui dynasty')]\n",
      "[('monarchy', 'http://www.wikidata.org/entity/Q7462'), ('monarchyname', 'Song dynasty')]\n",
      "[('monarchy', 'http://www.wikidata.org/entity/Q7468093'), ('monarchyname', 'captaincy of Brazil')]\n",
      "[('monarchy', 'http://www.wikidata.org/entity/Q958291'), ('monarchyname', 'United Principalities')]\n",
      "[('monarchy', 'http://www.wikidata.org/entity/Q2524715'), ('monarchyname', 'Taifa of Ronda')]\n",
      "[('monarchy', 'http://www.wikidata.org/entity/Q3359147'), ('monarchyname', 'Videha')]\n",
      "[('monarchy', 'http://www.wikidata.org/entity/Q46652'), ('monarchyname', 'Malacca sultanate')]\n",
      "[('monarchy', 'http://www.wikidata.org/entity/Q13099569'), ('monarchyname', 'Hyrule')]\n",
      "[('monarchy', 'http://www.wikidata.org/entity/Q3028514'), ('monarchyname', 'Kingdom of Tahiti')]\n",
      "[('monarchy', 'http://www.wikidata.org/entity/Q112745'), ('monarchyname', 'Kingdom of Lori')]\n",
      "[('monarchy', 'http://www.wikidata.org/entity/Q6083755'), ('monarchyname', 'Islands of Refreshment')]\n",
      "[('monarchy', 'http://www.wikidata.org/entity/Q153015'), ('monarchyname', 'Kingdom of Saxony')]\n",
      "[('monarchy', 'http://www.wikidata.org/entity/Q20135'), ('monarchyname', 'Grand Duchy of Hesse')]\n",
      "[('monarchy', 'http://www.wikidata.org/entity/Q207991'), ('monarchyname', 'Pahlavi Dynasty')]\n",
      "[('monarchy', 'http://www.wikidata.org/entity/Q282428'), ('monarchyname', 'Mamluk Sultanate')]\n",
      "[('monarchy', 'http://www.wikidata.org/entity/Q1250464'), ('monarchyname', 'realm')]\n",
      "[('monarchy', 'http://www.wikidata.org/entity/Q157013'), ('monarchyname', 'Hohenzollern-Sigmaringen')]\n",
      "[('monarchy', 'http://www.wikidata.org/entity/Q161215'), ('monarchyname', 'Grand Duchy of Mecklenburg-Strelitz')]\n",
      "[('monarchy', 'http://www.wikidata.org/entity/Q673865'), ('monarchyname', 'Hohenzollern-Hechingen')]\n",
      "[('monarchy', 'http://www.wikidata.org/entity/Q10957559'), ('monarchyname', 'Principality of Moldavia')]\n",
      "[('monarchy', 'http://www.wikidata.org/entity/Q126416'), ('monarchyname', 'Phagmodrupa Dynasty')]\n",
      "[('monarchy', 'http://www.wikidata.org/entity/Q330533'), ('monarchyname', 'Seventeen Provinces')]\n",
      "[('monarchy', 'http://www.wikidata.org/entity/Q975405'), ('monarchyname', 'Sultanate of Rum')]\n",
      "[('monarchy', 'http://www.wikidata.org/entity/Q146600'), ('monarchyname', 'Arab Kingdom of Syria')]\n",
      "[('monarchy', 'http://www.wikidata.org/entity/Q173082'), ('monarchyname', 'Dacia')]\n",
      "[('monarchy', 'http://www.wikidata.org/entity/Q215443'), ('monarchyname', 'Swedish Empire')]\n",
      "[('monarchy', 'http://www.wikidata.org/entity/Q3932079'), ('monarchyname', 'Kingdom of Sicily (1734-1816)')]\n",
      "[('monarchy', 'http://www.wikidata.org/entity/Q541745'), ('monarchyname', 'Captaincy General of Puerto Rico')]\n",
      "[('monarchy', 'http://www.wikidata.org/entity/Q583038'), ('monarchyname', 'Ostrogothic Kingdom')]\n"
     ]
    },
    {
     "data": {
      "text/plain": [
       "40"
      ]
     },
     "execution_count": 17,
     "metadata": {},
     "output_type": "execute_result"
    }
   ],
   "source": [
    "queryString = \"\"\"\n",
    "SELECT *\n",
    "WHERE { \n",
    "    ?monarchy wdt:P122 wd:Q7269 .   \n",
    "        # Labels\n",
    "    ?monarchy <http://schema.org/name> ?monarchyname .\n",
    "    #?o <http://schema.org/name> ?oname .\n",
    "    #FILTER(REGEX(STR(?monarchyname), \"[Ss]afavid\"))\n",
    "} \n",
    "LIMIT 40\n",
    "\"\"\"\n",
    "\n",
    "print(\"Results\")\n",
    "run_query(queryString)"
   ]
  },
  {
   "cell_type": "code",
   "execution_count": 18,
   "id": "76dcb21b-9234-4852-92c0-201835936321",
   "metadata": {},
   "outputs": [
    {
     "name": "stdout",
     "output_type": "stream",
     "text": [
      "Results\n",
      "[('p', 'http://www.wikidata.org/entity/Q139315'), ('pname', 'Dʿmt')]\n",
      "[('p', 'http://www.wikidata.org/entity/Q139315'), ('pname', 'Dʿmt')]\n",
      "[('p', 'http://www.wikidata.org/entity/Q688859'), ('pname', 'Duchy of Bouillon')]\n",
      "[('p', 'http://www.wikidata.org/entity/Q15883591'), ('pname', 'Anhalt-Dessau')]\n",
      "[('p', 'http://www.wikidata.org/entity/Q2308237'), ('pname', 'Ahom Kingdom')]\n",
      "[('p', 'http://www.wikidata.org/entity/Q2308237'), ('pname', 'Ahom Kingdom')]\n",
      "[('p', 'http://www.wikidata.org/entity/Q3919363'), ('pname', 'Principality of Lahojsk')]\n",
      "[('p', 'http://www.wikidata.org/entity/Q6207845'), ('pname', 'Jodhpur State')]\n",
      "[('p', 'http://www.wikidata.org/entity/Q1740533'), ('pname', 'Baku Khanate')]\n",
      "[('p', 'http://www.wikidata.org/entity/Q13032661'), ('pname', 'Principality of Slutsk')]\n",
      "[('p', 'http://www.wikidata.org/entity/Q625380'), ('pname', 'Eastern Hungarian Kingdom')]\n",
      "[('p', 'http://www.wikidata.org/entity/Q896856'), ('pname', 'Prince-Bishopric Konstanz')]\n",
      "[('p', 'http://www.wikidata.org/entity/Q777981'), ('pname', 'Duchy of the Archipelago')]\n",
      "[('p', 'http://www.wikidata.org/entity/Q777981'), ('pname', 'Duchy of the Archipelago')]\n",
      "[('p', 'http://www.wikidata.org/entity/Q30673322'), ('pname', 'Safavid Georgia')]\n",
      "[('p', 'http://www.wikidata.org/entity/Q30890672'), ('pname', 'Kingdom of Sicily')]\n",
      "[('p', 'http://www.wikidata.org/entity/Q153080'), ('pname', 'East Francia')]\n",
      "[('p', 'http://www.wikidata.org/entity/Q156418'), ('pname', 'Kingdom of Hawaiʻi')]\n",
      "[('p', 'http://www.wikidata.org/entity/Q156418'), ('pname', 'Kingdom of Hawaiʻi')]\n",
      "[('p', 'http://www.wikidata.org/entity/Q2719360'), ('pname', 'Duchy of Luxembourg')]\n"
     ]
    },
    {
     "data": {
      "text/plain": [
       "20"
      ]
     },
     "execution_count": 18,
     "metadata": {},
     "output_type": "execute_result"
    }
   ],
   "source": [
    "### retrieve all **countries that are some instance of a monarchy**\n",
    "queryString = \"\"\"\n",
    "SELECT ?p ?pname\n",
    "WHERE { \n",
    "\n",
    "    ?p (wdt:P31|wdt:P122)/wdt:P279* wd:Q7269  . \n",
    "            # Labels\n",
    "    ?p <http://schema.org/name> ?pname .\n",
    "} \n",
    "LIMIT 20\n",
    "\"\"\"\n",
    "\n",
    "print(\"Results\")\n",
    "run_query(queryString)"
   ]
  },
  {
   "cell_type": "code",
   "execution_count": 19,
   "id": "4ecca36f-ba0a-4a20-980f-4a072e06b197",
   "metadata": {},
   "outputs": [
    {
     "name": "stdout",
     "output_type": "stream",
     "text": [
      "Results\n",
      "[('monarchy', 'http://www.wikidata.org/entity/Q8733'), ('monarchyname', 'Qing dynasty'), ('replacesname', 'Da Ming Shun Tian Guo'), ('replacedbyname', 'Da Ming Shun Tian Guo')]\n",
      "[('monarchy', 'http://www.wikidata.org/entity/Q8733'), ('monarchyname', 'Qing dynasty'), ('replacesname', 'Da Ming Shun Tian Guo'), ('replacedbyname', 'Republic of China 1912–1949')]\n",
      "[('monarchy', 'http://www.wikidata.org/entity/Q11916665'), ('monarchyname', 'Datarpur'), ('replacesname', 'Guler State'), ('replacedbyname', 'India')]\n",
      "[('monarchy', 'http://www.wikidata.org/entity/Q11949691'), ('monarchyname', 'Siba State'), ('replacesname', 'Guler State'), ('replacedbyname', 'India')]\n",
      "[('monarchy', 'http://www.wikidata.org/entity/Q11916665'), ('monarchyname', 'Datarpur'), ('replacesname', 'Guler State'), ('replacedbyname', 'Provinces of India')]\n",
      "[('monarchy', 'http://www.wikidata.org/entity/Q11949691'), ('monarchyname', 'Siba State'), ('replacesname', 'Guler State'), ('replacedbyname', 'Provinces of India')]\n",
      "[('monarchy', 'http://www.wikidata.org/entity/Q12548'), ('monarchyname', 'Holy Roman Empire'), ('replacesname', 'East Francia'), ('replacedbyname', 'Kingdom of Prussia')]\n",
      "[('monarchy', 'http://www.wikidata.org/entity/Q12548'), ('monarchyname', 'Holy Roman Empire'), ('replacesname', 'East Francia'), ('replacedbyname', 'Austrian Empire')]\n",
      "[('monarchy', 'http://www.wikidata.org/entity/Q12548'), ('monarchyname', 'Holy Roman Empire'), ('replacesname', 'East Francia'), ('replacedbyname', 'Confederation of the Rhine')]\n",
      "[('monarchy', 'http://www.wikidata.org/entity/Q1389743'), ('monarchyname', 'Kotoko kingdom'), ('replacesname', 'Sao civilization'), ('replacedbyname', 'Bornu Empire')]\n",
      "[('monarchy', 'http://www.wikidata.org/entity/Q577668'), ('monarchyname', 'Khanate of Bukhara'), ('replacesname', 'Timurid Empire'), ('replacedbyname', 'Emirate of Bukhara')]\n",
      "[('monarchy', 'http://www.wikidata.org/entity/Q577668'), ('monarchyname', 'Khanate of Bukhara'), ('replacesname', 'Timurid Empire'), ('replacedbyname', 'Durrani Empire')]\n",
      "[('monarchy', 'http://www.wikidata.org/entity/Q577668'), ('monarchyname', 'Khanate of Bukhara'), ('replacesname', 'Timurid Empire'), ('replacedbyname', 'Khanate of Kokand')]\n",
      "[('monarchy', 'http://www.wikidata.org/entity/Q172579'), ('monarchyname', 'Kingdom of Italy'), ('replacesname', 'Free State of Fiume'), ('replacedbyname', 'Italy')]\n",
      "[('monarchy', 'http://www.wikidata.org/entity/Q172579'), ('monarchyname', 'Kingdom of Italy'), ('replacesname', 'Free State of Fiume'), ('replacedbyname', 'Italy')]\n",
      "[('monarchy', 'http://www.wikidata.org/entity/Q15102440'), ('monarchyname', 'Kingdom of Serbs, Croats and Slovenes'), ('replacesname', 'Free State of Fiume'), ('replacedbyname', 'Kingdom of Yugoslavia')]\n",
      "[('monarchy', 'http://www.wikidata.org/entity/Q172579'), ('monarchyname', 'Kingdom of Italy'), ('replacesname', 'Free State of Fiume'), ('replacedbyname', 'Kingdom of Italy under Fascism')]\n",
      "[('monarchy', 'http://www.wikidata.org/entity/Q172579'), ('monarchyname', 'Kingdom of Italy'), ('replacesname', 'Free State of Fiume'), ('replacedbyname', 'Kingdom of Italy under Fascism')]\n",
      "[('monarchy', 'http://www.wikidata.org/entity/Q7405'), ('monarchyname', 'Sui dynasty'), ('replacesname', 'Northern Zhou'), ('replacedbyname', 'Tang Empire')]\n",
      "[('monarchy', 'http://www.wikidata.org/entity/Q9683'), ('monarchyname', 'Tang Empire'), ('replacesname', 'Sui dynasty'), ('replacedbyname', 'Later Liang dynasty')]\n",
      "[('monarchy', 'http://www.wikidata.org/entity/Q9683'), ('monarchyname', 'Tang Empire'), ('replacesname', 'Sui dynasty'), ('replacedbyname', 'Wu guo')]\n",
      "[('monarchy', 'http://www.wikidata.org/entity/Q9683'), ('monarchyname', 'Tang Empire'), ('replacesname', 'Sui dynasty'), ('replacedbyname', 'Zhou dynasty (690–705)')]\n",
      "[('monarchy', 'http://www.wikidata.org/entity/Q7313'), ('monarchyname', 'Yuan Empire'), ('replacesname', 'Song dynasty'), ('replacedbyname', 'Northern Yuan Dynasty')]\n",
      "[('monarchy', 'http://www.wikidata.org/entity/Q7313'), ('monarchyname', 'Yuan Empire'), ('replacesname', 'Song dynasty'), ('replacedbyname', 'Ming dynasty')]\n",
      "[('monarchy', 'http://www.wikidata.org/entity/Q34756'), ('monarchyname', 'Qin'), ('replacesname', 'Wei'), ('replacedbyname', 'Qin dynasty')]\n",
      "[('monarchy', 'http://www.wikidata.org/entity/Q199442'), ('monarchyname', 'Kingdom of Aragon'), ('replacesname', 'County of Aragon'), ('replacedbyname', 'Captaincy General of Aragon')]\n",
      "[('monarchy', 'http://www.wikidata.org/entity/Q2006542'), ('monarchyname', 'Dominion of Pakistan'), ('replacesname', 'Dir State'), ('replacedbyname', 'Pakistan')]\n",
      "[('monarchy', 'http://www.wikidata.org/entity/Q203493'), ('monarchyname', 'Kingdom of Romania'), ('replacesname', 'United Principalities'), ('replacedbyname', 'National Legionary State')]\n",
      "[('monarchy', 'http://www.wikidata.org/entity/Q55502'), ('monarchyname', 'Kingdom of Jerusalem'), ('replacesname', 'Fatimid Caliphate'), ('replacedbyname', 'Mamluk Sultanate')]\n",
      "[('monarchy', 'http://www.wikidata.org/entity/Q55502'), ('monarchyname', 'Kingdom of Jerusalem'), ('replacesname', 'Fatimid Caliphate'), ('replacedbyname', 'Mamluk Sultanate')]\n",
      "[('monarchy', 'http://www.wikidata.org/entity/Q199688'), ('monarchyname', 'Almohad Caliphate'), ('replacesname', 'Fatimid Caliphate'), ('replacedbyname', 'Kingdom of Portugal')]\n",
      "[('monarchy', 'http://www.wikidata.org/entity/Q199688'), ('monarchyname', 'Almohad Caliphate'), ('replacesname', 'Fatimid Caliphate'), ('replacedbyname', 'Marinid Dynasty')]\n",
      "[('monarchy', 'http://www.wikidata.org/entity/Q12548'), ('monarchyname', 'Holy Roman Empire'), ('replacesname', 'Kingdom of Germany'), ('replacedbyname', 'Kingdom of Prussia')]\n",
      "[('monarchy', 'http://www.wikidata.org/entity/Q12548'), ('monarchyname', 'Holy Roman Empire'), ('replacesname', 'Kingdom of Germany'), ('replacedbyname', 'Austrian Empire')]\n",
      "[('monarchy', 'http://www.wikidata.org/entity/Q12548'), ('monarchyname', 'Holy Roman Empire'), ('replacesname', 'Kingdom of Germany'), ('replacedbyname', 'Confederation of the Rhine')]\n",
      "[('monarchy', 'http://www.wikidata.org/entity/Q615902'), ('monarchyname', 'Kingdom of Finland'), ('replacesname', \"Finnish Socialist Workers' Republic\"), ('replacedbyname', 'Finland')]\n",
      "[('monarchy', 'http://www.wikidata.org/entity/Q718374'), ('monarchyname', 'State of Slovenes, Croats and Serbs'), ('replacesname', 'Republic of German-Austria'), ('replacedbyname', 'Kingdom of Serbs, Croats and Slovenes')]\n",
      "[('monarchy', 'http://www.wikidata.org/entity/Q172579'), ('monarchyname', 'Kingdom of Italy'), ('replacesname', 'Republic of German-Austria'), ('replacedbyname', 'Italy')]\n",
      "[('monarchy', 'http://www.wikidata.org/entity/Q172579'), ('monarchyname', 'Kingdom of Italy'), ('replacesname', 'Republic of German-Austria'), ('replacedbyname', 'Italy')]\n",
      "[('monarchy', 'http://www.wikidata.org/entity/Q172579'), ('monarchyname', 'Kingdom of Italy'), ('replacesname', 'Republic of German-Austria'), ('replacedbyname', 'Kingdom of Italy under Fascism')]\n"
     ]
    },
    {
     "data": {
      "text/plain": [
       "40"
      ]
     },
     "execution_count": 19,
     "metadata": {},
     "output_type": "execute_result"
    }
   ],
   "source": [
    "#[('p', 'http://www.wikidata.org/entity/Q794'), ('o', 'http://www.wikidata.org/prop/direct/P1365'), ('oname', 'replaces')]\n",
    "#[('p', 'http://www.wikidata.org/entity/Q189326'), ('o', 'http://www.wikidata.org/prop/direct/P1366'), ('oname', 'replaced by')]\n",
    "queryString = \"\"\"\n",
    "SELECT ?monarchy ?monarchyname ?replacesname ?replacedbyname\n",
    "WHERE { \n",
    "\n",
    "    ?monarchy (wdt:P31|wdt:P122)/wdt:P279* wd:Q7269  . \n",
    "    ?monarchy wdt:P1365 ?replaces .\n",
    "    ?monarchy wdt:P1366 ?replacedby .\n",
    "    \n",
    "    # Labels\n",
    "    ?monarchy <http://schema.org/name> ?monarchyname .\n",
    "    ?replaces <http://schema.org/name> ?replacesname .\n",
    "    ?replacedby <http://schema.org/name> ?replacedbyname .\n",
    "} \n",
    "LIMIT 40\n",
    "\"\"\"\n",
    "\n",
    "print(\"Results\")\n",
    "run_query(queryString)"
   ]
  },
  {
   "cell_type": "code",
   "execution_count": 20,
   "id": "3c3690ec-a17c-4bb8-bb74-909d3ccf5614",
   "metadata": {},
   "outputs": [
    {
     "name": "stdout",
     "output_type": "stream",
     "text": [
      "Results\n",
      "[('p', 'http://www.wikidata.org/prop/direct/P1151'), ('pname', \"topic's main Wikimedia portal\"), ('o', 'http://www.wikidata.org/entity/Q42351257')]\n",
      "[('p', 'http://www.wikidata.org/prop/direct/P1151'), ('pname', \"topic's main Wikimedia portal\"), ('o', 'http://www.wikidata.org/entity/Q42351257')]\n",
      "[('p', 'http://www.wikidata.org/prop/direct/P122'), ('pname', 'basic form of government'), ('o', 'http://www.wikidata.org/entity/Q7269')]\n",
      "[('p', 'http://www.wikidata.org/prop/direct/P122'), ('pname', 'basic form of government'), ('o', 'http://www.wikidata.org/entity/Q7269')]\n",
      "[('p', 'http://www.wikidata.org/prop/direct/P1365'), ('pname', 'replaces'), ('o', 'http://www.wikidata.org/entity/Q55502')]\n",
      "[('p', 'http://www.wikidata.org/prop/direct/P1365'), ('pname', 'replaces'), ('o', 'http://www.wikidata.org/entity/Q12536')]\n",
      "[('p', 'http://www.wikidata.org/prop/direct/P1365'), ('pname', 'replaces'), ('o', 'http://www.wikidata.org/entity/Q7887194')]\n",
      "[('p', 'http://www.wikidata.org/prop/direct/P1365'), ('pname', 'replaces'), ('o', 'http://www.wikidata.org/entity/Q55502')]\n",
      "[('p', 'http://www.wikidata.org/prop/direct/P1365'), ('pname', 'replaces'), ('o', 'http://www.wikidata.org/entity/Q12536')]\n",
      "[('p', 'http://www.wikidata.org/prop/direct/P1365'), ('pname', 'replaces'), ('o', 'http://www.wikidata.org/entity/Q7887194')]\n",
      "[('p', 'http://www.wikidata.org/prop/direct/P1667'), ('pname', 'Getty Thesaurus of Geographic Names ID'), ('o', '6003667')]\n",
      "[('p', 'http://www.wikidata.org/prop/direct/P1667'), ('pname', 'Getty Thesaurus of Geographic Names ID'), ('o', '6003667')]\n",
      "[('p', 'http://www.wikidata.org/prop/direct/P17'), ('pname', 'country'), ('o', 'http://www.wikidata.org/entity/Q79')]\n",
      "[('p', 'http://www.wikidata.org/prop/direct/P17'), ('pname', 'country'), ('o', 'http://www.wikidata.org/entity/Q79')]\n",
      "[('p', 'http://www.wikidata.org/prop/direct/P2184'), ('pname', 'history of topic'), ('o', 'http://www.wikidata.org/entity/Q28747702')]\n",
      "[('p', 'http://www.wikidata.org/prop/direct/P2184'), ('pname', 'history of topic'), ('o', 'http://www.wikidata.org/entity/Q28747702')]\n",
      "[('p', 'http://www.wikidata.org/prop/direct/P242'), ('pname', 'locator map image'), ('o', 'http://commons.wikimedia.org/wiki/Special:FilePath/Mamluks1279.png')]\n",
      "[('p', 'http://www.wikidata.org/prop/direct/P242'), ('pname', 'locator map image'), ('o', 'http://commons.wikimedia.org/wiki/Special:FilePath/Mamluks1279.png')]\n",
      "[('p', 'http://www.wikidata.org/prop/direct/P244'), ('pname', 'Library of Congress authority ID'), ('o', 'sh85041295')]\n",
      "[('p', 'http://www.wikidata.org/prop/direct/P244'), ('pname', 'Library of Congress authority ID'), ('o', 'sh85041295')]\n",
      "[('p', 'http://www.wikidata.org/prop/direct/P2950'), ('pname', 'Nomisma ID'), ('o', 'mamluks_cairo')]\n",
      "[('p', 'http://www.wikidata.org/prop/direct/P2950'), ('pname', 'Nomisma ID'), ('o', 'mamluks_cairo')]\n",
      "[('p', 'http://www.wikidata.org/prop/direct/P30'), ('pname', 'continent'), ('o', 'http://www.wikidata.org/entity/Q15')]\n",
      "[('p', 'http://www.wikidata.org/prop/direct/P30'), ('pname', 'continent'), ('o', 'http://www.wikidata.org/entity/Q15')]\n",
      "[('p', 'http://www.wikidata.org/prop/direct/P3075'), ('pname', 'official religion'), ('o', 'http://www.wikidata.org/entity/Q432')]\n",
      "[('p', 'http://www.wikidata.org/prop/direct/P3075'), ('pname', 'official religion'), ('o', 'http://www.wikidata.org/entity/Q432')]\n",
      "[('p', 'http://www.wikidata.org/prop/direct/P31'), ('pname', 'instance of'), ('o', 'http://www.wikidata.org/entity/Q12759805')]\n",
      "[('p', 'http://www.wikidata.org/prop/direct/P31'), ('pname', 'instance of'), ('o', 'http://www.wikidata.org/entity/Q12759805')]\n",
      "[('p', 'http://www.wikidata.org/prop/direct/P3219'), ('pname', 'Encyclopædia Universalis ID'), ('o', 'mamelouk-reperes-chronologiques')]\n",
      "[('p', 'http://www.wikidata.org/prop/direct/P3219'), ('pname', 'Encyclopædia Universalis ID'), ('o', 'sultanat-mamelouk')]\n",
      "[('p', 'http://www.wikidata.org/prop/direct/P3219'), ('pname', 'Encyclopædia Universalis ID'), ('o', 'mamelouk-reperes-chronologiques')]\n",
      "[('p', 'http://www.wikidata.org/prop/direct/P3219'), ('pname', 'Encyclopædia Universalis ID'), ('o', 'sultanat-mamelouk')]\n",
      "[('p', 'http://www.wikidata.org/prop/direct/P349'), ('pname', 'National Diet Library ID'), ('o', '00567434')]\n",
      "[('p', 'http://www.wikidata.org/prop/direct/P349'), ('pname', 'National Diet Library ID'), ('o', '00567434')]\n",
      "[('p', 'http://www.wikidata.org/prop/direct/P36'), ('pname', 'capital'), ('o', 'http://www.wikidata.org/entity/Q85')]\n",
      "[('p', 'http://www.wikidata.org/prop/direct/P36'), ('pname', 'capital'), ('o', 'http://www.wikidata.org/entity/Q85')]\n",
      "[('p', 'http://www.wikidata.org/prop/direct/P37'), ('pname', 'official language'), ('o', 'http://www.wikidata.org/entity/Q13955')]\n",
      "[('p', 'http://www.wikidata.org/prop/direct/P37'), ('pname', 'official language'), ('o', 'http://www.wikidata.org/entity/Q4279942')]\n",
      "[('p', 'http://www.wikidata.org/prop/direct/P37'), ('pname', 'official language'), ('o', 'http://www.wikidata.org/entity/Q13955')]\n",
      "[('p', 'http://www.wikidata.org/prop/direct/P37'), ('pname', 'official language'), ('o', 'http://www.wikidata.org/entity/Q4279942')]\n"
     ]
    },
    {
     "data": {
      "text/plain": [
       "40"
      ]
     },
     "execution_count": 20,
     "metadata": {},
     "output_type": "execute_result"
    }
   ],
   "source": [
    "#[('p', 'http://www.wikidata.org/entity/Q794'), ('o', 'http://www.wikidata.org/prop/direct/P1365'), ('oname', 'replaces')]\n",
    "#[('p', 'http://www.wikidata.org/entity/Q189326'), ('o', 'http://www.wikidata.org/prop/direct/P1366'), ('oname', 'replaced by')]\n",
    "queryString = \"\"\"\n",
    "SELECT ?p ?pname ?o\n",
    "WHERE { \n",
    "\n",
    "    ?monarchy (wdt:P31|wdt:P122)/wdt:P279* wd:Q7269  . \n",
    "    ?monarchy wdt:P1365 ?replaces .\n",
    "    ?monarchy wdt:P1366 ?replacedby .\n",
    "    ?replacedby ?p ?o .\n",
    "    \n",
    "    # Labels\n",
    "    ?monarchy <http://schema.org/name> ?monarchyname .\n",
    "    ?replaces <http://schema.org/name> ?replacesname .\n",
    "    ?replacedby <http://schema.org/name> ?replacedbyname .\n",
    "        # Labels\n",
    "    ?p <http://schema.org/name> ?pname .\n",
    "    #?o <http://schema.org/name> ?oname .\n",
    "} \n",
    "LIMIT 40\n",
    "\"\"\"\n",
    "\n",
    "print(\"Results\")\n",
    "run_query(queryString)"
   ]
  },
  {
   "cell_type": "code",
   "execution_count": 21,
   "id": "231e5ded-dd0e-481c-8086-769d8a2eb3bd",
   "metadata": {},
   "outputs": [
    {
     "name": "stdout",
     "output_type": "stream",
     "text": [
      "Results\n",
      "[('p', 'http://www.wikidata.org/prop/direct/P1082'), ('pname', 'population'), ('o', '2437574')]\n",
      "[('p', 'http://www.wikidata.org/prop/direct/P1082'), ('pname', 'population'), ('o', '11984911')]\n",
      "[('p', 'http://www.wikidata.org/prop/direct/P1082'), ('pname', 'population'), ('o', '10400000')]\n",
      "[('p', 'http://www.wikidata.org/prop/direct/P1082'), ('pname', 'population'), ('o', '10400000')]\n",
      "[('p', 'http://www.wikidata.org/prop/direct/P1082'), ('pname', 'population'), ('o', '785240')]\n",
      "[('p', 'http://www.wikidata.org/prop/direct/P1082'), ('pname', 'population'), ('o', '676376')]\n",
      "[('p', 'http://www.wikidata.org/prop/direct/P1082'), ('pname', 'population'), ('o', '3190619')]\n",
      "[('p', 'http://www.wikidata.org/prop/direct/P1082'), ('pname', 'population'), ('o', '2590939')]\n",
      "[('p', 'http://www.wikidata.org/prop/direct/P1082'), ('pname', 'population'), ('o', '2278361')]\n",
      "[('p', 'http://www.wikidata.org/prop/direct/P1082'), ('pname', 'population'), ('o', '2942436')]\n",
      "[('p', 'http://www.wikidata.org/prop/direct/P1082'), ('pname', 'population'), ('o', '1961437')]\n",
      "[('p', 'http://www.wikidata.org/prop/direct/P1082'), ('pname', 'population'), ('o', '3476056')]\n",
      "[('p', 'http://www.wikidata.org/prop/direct/P1082'), ('pname', 'population'), ('o', '3367507')]\n",
      "[('p', 'http://www.wikidata.org/prop/direct/P1082'), ('pname', 'population'), ('o', '2120168')]\n",
      "[('p', 'http://www.wikidata.org/prop/direct/P1082'), ('pname', 'population'), ('o', '3618458')]\n",
      "[('p', 'http://www.wikidata.org/prop/direct/P1082'), ('pname', 'population'), ('o', '11984911')]\n",
      "[('p', 'http://www.wikidata.org/prop/direct/P1082'), ('pname', 'population'), ('o', '11984911')]\n",
      "[('p', 'http://www.wikidata.org/prop/direct/P1082'), ('pname', 'population'), ('o', '34689000')]\n",
      "[('p', 'http://www.wikidata.org/prop/direct/P1082'), ('pname', 'population'), ('o', '26265000')]\n",
      "[('p', 'http://www.wikidata.org/prop/direct/P1082'), ('pname', 'population'), ('o', '14800000')]\n",
      "[('p', 'http://www.wikidata.org/prop/direct/P1082'), ('pname', 'population'), ('o', '14800000')]\n",
      "[('p', 'http://www.wikidata.org/prop/direct/P1082'), ('pname', 'population'), ('o', '66022273')]\n",
      "[('p', 'http://www.wikidata.org/prop/direct/P1082'), ('pname', 'population'), ('o', '66022273')]\n",
      "[('p', 'http://www.wikidata.org/prop/direct/P1082'), ('pname', 'population'), ('o', '10500000')]\n",
      "[('p', 'http://www.wikidata.org/prop/direct/P1082'), ('pname', 'population'), ('o', '10500000')]\n",
      "[('p', 'http://www.wikidata.org/prop/direct/P1082'), ('pname', 'population'), ('o', '10500000')]\n",
      "[('p', 'http://www.wikidata.org/prop/direct/P1082'), ('pname', 'population'), ('o', '9250000')]\n",
      "[('p', 'http://www.wikidata.org/prop/direct/P1082'), ('pname', 'population'), ('o', '9250000')]\n",
      "[('p', 'http://www.wikidata.org/prop/direct/P1082'), ('pname', 'population'), ('o', '9250000')]\n",
      "[('p', 'http://www.wikidata.org/prop/direct/P1082'), ('pname', 'population'), ('o', '213317639')]\n",
      "[('p', 'http://www.wikidata.org/prop/direct/P1082'), ('pname', 'population'), ('o', '14800000')]\n",
      "[('p', 'http://www.wikidata.org/prop/direct/P1082'), ('pname', 'population'), ('o', '14800000')]\n",
      "[('p', 'http://www.wikidata.org/prop/direct/P1082'), ('pname', 'population'), ('o', '6678567')]\n",
      "[('p', 'http://www.wikidata.org/prop/direct/P1082'), ('pname', 'population'), ('o', '6678567')]\n",
      "[('p', 'http://www.wikidata.org/prop/direct/P1082'), ('pname', 'population'), ('o', '6640000')]\n",
      "[('p', 'http://www.wikidata.org/prop/direct/P1082'), ('pname', 'population'), ('o', '6640000')]\n",
      "[('p', 'http://www.wikidata.org/prop/direct/P1082'), ('pname', 'population'), ('o', '19795791')]\n",
      "[('p', 'http://www.wikidata.org/prop/direct/P1082'), ('pname', 'population'), ('o', '16345646')]\n",
      "[('p', 'http://www.wikidata.org/prop/direct/P1082'), ('pname', 'population'), ('o', '42769196')]\n",
      "[('p', 'http://www.wikidata.org/prop/direct/P1082'), ('pname', 'population'), ('o', '45370530')]\n"
     ]
    },
    {
     "data": {
      "text/plain": [
       "40"
      ]
     },
     "execution_count": 21,
     "metadata": {},
     "output_type": "execute_result"
    }
   ],
   "source": [
    "#[('p', 'http://www.wikidata.org/entity/Q794'), ('o', 'http://www.wikidata.org/prop/direct/P1365'), ('oname', 'replaces')]\n",
    "#[('p', 'http://www.wikidata.org/entity/Q189326'), ('o', 'http://www.wikidata.org/prop/direct/P1366'), ('oname', 'replaced by')]\n",
    "queryString = \"\"\"\n",
    "SELECT ?p ?pname ?o\n",
    "WHERE { \n",
    "\n",
    "    ?monarchy (wdt:P31|wdt:P122)/wdt:P279* wd:Q7269  . \n",
    "    ?monarchy wdt:P1365 ?replaces .\n",
    "    ?monarchy wdt:P1366 ?replacedby .\n",
    "    ?replacedby ?p ?o .\n",
    "    \n",
    "    # Labels\n",
    "    ?monarchy <http://schema.org/name> ?monarchyname .\n",
    "    ?replaces <http://schema.org/name> ?replacesname .\n",
    "    ?replacedby <http://schema.org/name> ?replacedbyname .\n",
    "    ?p <http://schema.org/name> ?pname .\n",
    "    #?o <http://schema.org/name> ?oname .\n",
    "    FILTER(REGEX(STR(?pname), \"[Pp]opulation\"))\n",
    "} \n",
    "LIMIT 40\n",
    "\"\"\"\n",
    "\n",
    "print(\"Results\")\n",
    "run_query(queryString)"
   ]
  },
  {
   "cell_type": "code",
   "execution_count": 22,
   "id": "ca5cead1-4274-4c44-85f3-aaf1ef5b8873",
   "metadata": {},
   "outputs": [
    {
     "name": "stdout",
     "output_type": "stream",
     "text": [
      "Results\n",
      "[('callret-0', '544')]\n"
     ]
    },
    {
     "data": {
      "text/plain": [
       "1"
      ]
     },
     "execution_count": 22,
     "metadata": {},
     "output_type": "execute_result"
    }
   ],
   "source": [
    "#[('p', 'http://www.wikidata.org/entity/Q794'), ('o', 'http://www.wikidata.org/prop/direct/P1365'), ('oname', 'replaces')]\n",
    "#[('p', 'http://www.wikidata.org/entity/Q189326'), ('o', 'http://www.wikidata.org/prop/direct/P1366'), ('oname', 'replaced by')]\n",
    "queryString = \"\"\"\n",
    "SELECT count (DISTINCT ?p)\n",
    "WHERE { \n",
    "\n",
    "    ?monarchy (wdt:P31|wdt:P122)/wdt:P279* wd:Q7269  . \n",
    "    ?monarchy wdt:P1365 ?replaces .\n",
    "    ?monarchy wdt:P1366 ?replacedby .\n",
    "    ?replacedby ?p ?o .\n",
    "    \n",
    "    # Labels\n",
    "    ?monarchy <http://schema.org/name> ?monarchyname .\n",
    "    ?replaces <http://schema.org/name> ?replacesname .\n",
    "    ?replacedby <http://schema.org/name> ?replacedbyname .\n",
    "        # Labels\n",
    "    ?p <http://schema.org/name> ?pname .\n",
    "    #?o <http://schema.org/name> ?oname .\n",
    "} \n",
    "LIMIT 40\n",
    "\"\"\"\n",
    "\n",
    "print(\"Results\")\n",
    "run_query(queryString)"
   ]
  },
  {
   "cell_type": "code",
   "execution_count": 23,
   "id": "bfd45d3d-091c-4b5e-b8f3-0aecf83f3cc8",
   "metadata": {},
   "outputs": [
    {
     "name": "stdout",
     "output_type": "stream",
     "text": [
      "Results\n",
      "[('p', 'http://www.wikidata.org/prop/direct/P17'), ('pname', 'country'), ('o', 'http://www.wikidata.org/entity/Q79')]\n",
      "[('p', 'http://www.wikidata.org/prop/direct/P17'), ('pname', 'country'), ('o', 'http://www.wikidata.org/entity/Q43287')]\n",
      "[('p', 'http://www.wikidata.org/prop/direct/P17'), ('pname', 'country'), ('o', 'http://www.wikidata.org/entity/Q15102440')]\n",
      "[('p', 'http://www.wikidata.org/prop/direct/P17'), ('pname', 'country'), ('o', 'http://www.wikidata.org/entity/Q516160')]\n",
      "[('p', 'http://www.wikidata.org/prop/direct/P17'), ('pname', 'country'), ('o', 'http://www.wikidata.org/entity/Q3025345')]\n",
      "[('p', 'http://www.wikidata.org/prop/direct/P17'), ('pname', 'country'), ('o', 'http://www.wikidata.org/entity/Q3540212')]\n",
      "[('p', 'http://www.wikidata.org/prop/direct/P17'), ('pname', 'country'), ('o', 'http://www.wikidata.org/entity/Q965692')]\n",
      "[('p', 'http://www.wikidata.org/prop/direct/P17'), ('pname', 'country'), ('o', 'http://www.wikidata.org/entity/Q8575586')]\n",
      "[('p', 'http://www.wikidata.org/prop/direct/P17'), ('pname', 'country'), ('o', 'http://www.wikidata.org/entity/Q199688')]\n",
      "[('p', 'http://www.wikidata.org/prop/direct/P17'), ('pname', 'country'), ('o', 'http://www.wikidata.org/entity/Q1337854')]\n",
      "[('p', 'http://www.wikidata.org/prop/direct/P17'), ('pname', 'country'), ('o', 'http://www.wikidata.org/entity/Q171740')]\n",
      "[('p', 'http://www.wikidata.org/prop/direct/P17'), ('pname', 'country'), ('o', 'http://www.wikidata.org/entity/Q238445')]\n",
      "[('p', 'http://www.wikidata.org/prop/direct/P17'), ('pname', 'country'), ('o', 'http://www.wikidata.org/entity/Q75613')]\n",
      "[('p', 'http://www.wikidata.org/prop/direct/P17'), ('pname', 'country'), ('o', 'http://www.wikidata.org/entity/Q28513')]\n",
      "[('p', 'http://www.wikidata.org/prop/direct/P17'), ('pname', 'country'), ('o', 'http://www.wikidata.org/entity/Q171150')]\n",
      "[('p', 'http://www.wikidata.org/prop/direct/P17'), ('pname', 'country'), ('o', 'http://www.wikidata.org/entity/Q139319')]\n",
      "[('p', 'http://www.wikidata.org/prop/direct/P17'), ('pname', 'country'), ('o', 'http://www.wikidata.org/entity/Q142')]\n",
      "[('p', 'http://www.wikidata.org/prop/direct/P17'), ('pname', 'country'), ('o', 'http://www.wikidata.org/entity/Q8733')]\n",
      "[('p', 'http://www.wikidata.org/prop/direct/P17'), ('pname', 'country'), ('o', 'http://www.wikidata.org/entity/Q12560')]\n",
      "[('p', 'http://www.wikidata.org/prop/direct/P17'), ('pname', 'country'), ('o', 'http://www.wikidata.org/entity/Q268970')]\n",
      "[('p', 'http://www.wikidata.org/prop/direct/P17'), ('pname', 'country'), ('o', 'http://www.wikidata.org/entity/Q146246')]\n",
      "[('p', 'http://www.wikidata.org/prop/direct/P17'), ('pname', 'country'), ('o', 'http://www.wikidata.org/entity/Q29')]\n",
      "[('p', 'http://www.wikidata.org/prop/direct/P17'), ('pname', 'country'), ('o', 'http://www.wikidata.org/entity/Q217196')]\n",
      "[('p', 'http://www.wikidata.org/prop/direct/P17'), ('pname', 'country'), ('o', 'http://www.wikidata.org/entity/Q1206012')]\n",
      "[('p', 'http://www.wikidata.org/prop/direct/P17'), ('pname', 'country'), ('o', 'http://www.wikidata.org/entity/Q41304')]\n",
      "[('p', 'http://www.wikidata.org/prop/direct/P17'), ('pname', 'country'), ('o', 'http://www.wikidata.org/entity/Q7318')]\n",
      "[('p', 'http://www.wikidata.org/prop/direct/P17'), ('pname', 'country'), ('o', 'http://www.wikidata.org/entity/Q27306')]\n",
      "[('p', 'http://www.wikidata.org/prop/direct/P17'), ('pname', 'country'), ('o', 'http://www.wikidata.org/entity/Q219')]\n",
      "[('p', 'http://www.wikidata.org/prop/direct/P17'), ('pname', 'country'), ('o', 'http://www.wikidata.org/entity/Q843')]\n",
      "[('p', 'http://www.wikidata.org/prop/direct/P17'), ('pname', 'country'), ('o', 'http://www.wikidata.org/entity/Q12548')]\n",
      "[('p', 'http://www.wikidata.org/prop/direct/P17'), ('pname', 'country'), ('o', 'http://www.wikidata.org/entity/Q33946')]\n",
      "[('p', 'http://www.wikidata.org/prop/direct/P17'), ('pname', 'country'), ('o', 'http://www.wikidata.org/entity/Q145')]\n",
      "[('p', 'http://www.wikidata.org/prop/direct/P17'), ('pname', 'country'), ('o', 'http://www.wikidata.org/entity/Q155')]\n",
      "[('p', 'http://www.wikidata.org/prop/direct/P17'), ('pname', 'country'), ('o', 'http://www.wikidata.org/entity/Q668')]\n",
      "[('p', 'http://www.wikidata.org/prop/direct/P17'), ('pname', 'country'), ('o', 'http://www.wikidata.org/entity/Q1016')]\n",
      "[('p', 'http://www.wikidata.org/prop/direct/P17'), ('pname', 'country'), ('o', 'http://www.wikidata.org/entity/Q30')]\n",
      "[('p', 'http://www.wikidata.org/prop/direct/P474'), ('pname', 'country calling code'), ('o', '+44')]\n",
      "[('p', 'http://www.wikidata.org/prop/direct/P474'), ('pname', 'country calling code'), ('o', '+55')]\n",
      "[('p', 'http://www.wikidata.org/prop/direct/P474'), ('pname', 'country calling code'), ('o', '+218')]\n",
      "[('p', 'http://www.wikidata.org/prop/direct/P17'), ('pname', 'country'), ('o', 'http://www.wikidata.org/entity/Q174193')]\n"
     ]
    },
    {
     "data": {
      "text/plain": [
       "40"
      ]
     },
     "execution_count": 23,
     "metadata": {},
     "output_type": "execute_result"
    }
   ],
   "source": [
    "#[('p', 'http://www.wikidata.org/entity/Q794'), ('o', 'http://www.wikidata.org/prop/direct/P1365'), ('oname', 'replaces')]\n",
    "#[('p', 'http://www.wikidata.org/entity/Q189326'), ('o', 'http://www.wikidata.org/prop/direct/P1366'), ('oname', 'replaced by')]\n",
    "queryString = \"\"\"\n",
    "SELECT DISTINCT ?p ?pname ?o\n",
    "WHERE { \n",
    "\n",
    "    ?monarchy (wdt:P31|wdt:P122)/wdt:P279* wd:Q7269  . \n",
    "    ?monarchy wdt:P1365 ?replaces .\n",
    "    ?monarchy wdt:P1366 ?replacedby .\n",
    "    ?replacedby ?p ?o .\n",
    "    \n",
    "    # Labels\n",
    "    ?monarchy <http://schema.org/name> ?monarchyname .\n",
    "    ?replaces <http://schema.org/name> ?replacesname .\n",
    "    ?replacedby <http://schema.org/name> ?replacedbyname .\n",
    "        # Labels\n",
    "    ?p <http://schema.org/name> ?pname .\n",
    "    #?o <http://schema.org/name> ?oname .\n",
    "    FILTER(REGEX(STR(?pname), \"^[Cc]ountry\"))\n",
    "} \n",
    "LIMIT 40\n",
    "\"\"\"\n",
    "\n",
    "print(\"Results\")\n",
    "run_query(queryString)"
   ]
  },
  {
   "cell_type": "code",
   "execution_count": 24,
   "id": "e938ac24-1607-4ce3-b098-10fe71745816",
   "metadata": {},
   "outputs": [
    {
     "name": "stdout",
     "output_type": "stream",
     "text": [
      "Results\n",
      "[('callret-0', '2')]\n"
     ]
    },
    {
     "data": {
      "text/plain": [
       "1"
      ]
     },
     "execution_count": 24,
     "metadata": {},
     "output_type": "execute_result"
    }
   ],
   "source": [
    "#[('p', 'http://www.wikidata.org/entity/Q794'), ('o', 'http://www.wikidata.org/prop/direct/P1365'), ('oname', 'replaces')]\n",
    "#[('p', 'http://www.wikidata.org/entity/Q189326'), ('o', 'http://www.wikidata.org/prop/direct/P1366'), ('oname', 'replaced by')]\n",
    "queryString = \"\"\"\n",
    "SELECT COUNT (DISTINCT ?pname)\n",
    "WHERE { \n",
    "\n",
    "    ?monarchy (wdt:P31|wdt:P122)/wdt:P279* wd:Q7269  . \n",
    "    ?monarchy wdt:P1365 ?replaces .\n",
    "    ?monarchy wdt:P1366 ?replacedby .\n",
    "    ?replacedby ?p ?o .\n",
    "    \n",
    "    # Labels\n",
    "    ?monarchy <http://schema.org/name> ?monarchyname .\n",
    "    ?replaces <http://schema.org/name> ?replacesname .\n",
    "    ?replacedby <http://schema.org/name> ?replacedbyname .\n",
    "        # Labels\n",
    "    ?p <http://schema.org/name> ?pname .\n",
    "    #?o <http://schema.org/name> ?oname .\n",
    "    FILTER(REGEX(STR(?pname), \"^[Cc]ountry\"))\n",
    "} \n",
    "LIMIT 40\n",
    "\"\"\"\n",
    "\n",
    "print(\"Results\")\n",
    "run_query(queryString)"
   ]
  },
  {
   "cell_type": "code",
   "execution_count": 25,
   "id": "c93447f8-59d8-45cc-b6f5-7dae38e79c2a",
   "metadata": {},
   "outputs": [
    {
     "name": "stdout",
     "output_type": "stream",
     "text": [
      "Results\n",
      "[('pname', 'country')]\n",
      "[('pname', 'country calling code')]\n"
     ]
    },
    {
     "data": {
      "text/plain": [
       "2"
      ]
     },
     "execution_count": 25,
     "metadata": {},
     "output_type": "execute_result"
    }
   ],
   "source": [
    "#[('p', 'http://www.wikidata.org/entity/Q794'), ('o', 'http://www.wikidata.org/prop/direct/P1365'), ('oname', 'replaces')]\n",
    "#[('p', 'http://www.wikidata.org/entity/Q189326'), ('o', 'http://www.wikidata.org/prop/direct/P1366'), ('oname', 'replaced by')]\n",
    "queryString = \"\"\"\n",
    "SELECT DISTINCT ?pname\n",
    "WHERE { \n",
    "\n",
    "    ?monarchy (wdt:P31|wdt:P122)/wdt:P279* wd:Q7269  . \n",
    "    ?monarchy wdt:P1365 ?replaces .\n",
    "    ?monarchy wdt:P1366 ?replacedby .\n",
    "    ?replacedby ?p ?o .\n",
    "    \n",
    "    # Labels\n",
    "    ?monarchy <http://schema.org/name> ?monarchyname .\n",
    "    ?replaces <http://schema.org/name> ?replacesname .\n",
    "    ?replacedby <http://schema.org/name> ?replacedbyname .\n",
    "        # Labels\n",
    "    ?p <http://schema.org/name> ?pname .\n",
    "    #?o <http://schema.org/name> ?oname .\n",
    "    FILTER(REGEX(STR(?pname), \"^[Cc]ountry\"))\n",
    "} \n",
    "LIMIT 40\n",
    "\"\"\"\n",
    "\n",
    "print(\"Results\")\n",
    "run_query(queryString)"
   ]
  },
  {
   "cell_type": "code",
   "execution_count": 26,
   "id": "034523ad-58f6-40ba-a773-3e42fe680d56",
   "metadata": {},
   "outputs": [
    {
     "name": "stdout",
     "output_type": "stream",
     "text": [
      "Results\n",
      "[('o', 'http://www.wikidata.org/entity/Q8733')]\n",
      "[('o', 'http://www.wikidata.org/entity/Q668')]\n",
      "[('o', 'http://www.wikidata.org/entity/Q8680')]\n",
      "[('o', 'http://www.wikidata.org/entity/Q41304')]\n",
      "[('o', 'http://www.wikidata.org/entity/Q43287')]\n",
      "[('o', 'http://www.wikidata.org/entity/Q7318')]\n",
      "[('o', 'http://www.wikidata.org/entity/Q131964')]\n",
      "[('o', 'http://www.wikidata.org/entity/Q34266')]\n",
      "[('o', 'http://www.wikidata.org/entity/Q696241')]\n",
      "[('o', 'http://www.wikidata.org/entity/Q38')]\n",
      "[('o', 'http://www.wikidata.org/entity/Q191077')]\n",
      "[('o', 'http://www.wikidata.org/entity/Q29')]\n",
      "[('o', 'http://www.wikidata.org/entity/Q843')]\n",
      "[('o', 'http://www.wikidata.org/entity/Q79')]\n",
      "[('o', 'http://www.wikidata.org/entity/Q45670')]\n",
      "[('o', 'http://www.wikidata.org/entity/Q377350')]\n",
      "[('o', 'http://www.wikidata.org/entity/Q1028')]\n",
      "[('o', 'http://www.wikidata.org/entity/Q33')]\n",
      "[('o', 'http://www.wikidata.org/entity/Q15102440')]\n",
      "[('o', 'http://www.wikidata.org/entity/Q3025345')]\n",
      "[('o', 'http://www.wikidata.org/entity/Q3540212')]\n",
      "[('o', 'http://www.wikidata.org/entity/Q965692')]\n",
      "[('o', 'http://www.wikidata.org/entity/Q8575586')]\n",
      "[('o', 'http://www.wikidata.org/entity/Q199688')]\n",
      "[('o', 'http://www.wikidata.org/entity/Q1337854')]\n",
      "[('o', 'http://www.wikidata.org/entity/Q171740')]\n",
      "[('o', 'http://www.wikidata.org/entity/Q238445')]\n",
      "[('o', 'http://www.wikidata.org/entity/Q75613')]\n",
      "[('o', 'http://www.wikidata.org/entity/Q794')]\n",
      "[('o', 'http://www.wikidata.org/entity/Q203493')]\n",
      "[('o', 'http://www.wikidata.org/entity/Q80702')]\n",
      "[('o', 'http://www.wikidata.org/entity/Q217196')]\n",
      "[('o', 'http://www.wikidata.org/entity/Q228')]\n",
      "[('o', 'http://www.wikidata.org/entity/Q1775277')]\n",
      "[('o', 'http://www.wikidata.org/entity/Q12560')]\n",
      "[('o', 'http://www.wikidata.org/entity/Q36704')]\n",
      "[('o', 'http://www.wikidata.org/entity/Q172579')]\n",
      "[('o', 'http://www.wikidata.org/entity/Q246373')]\n",
      "[('o', 'http://www.wikidata.org/entity/Q35216')]\n",
      "[('o', 'http://www.wikidata.org/entity/Q851')]\n"
     ]
    },
    {
     "data": {
      "text/plain": [
       "40"
      ]
     },
     "execution_count": 26,
     "metadata": {},
     "output_type": "execute_result"
    }
   ],
   "source": [
    "# COUNTRY \n",
    "#[('p', 'http://www.wikidata.org/entity/Q189326'), ('o', 'http://www.wikidata.org/prop/direct/P1366'), ('oname', 'replaced by')]\n",
    "queryString = \"\"\"\n",
    "SELECT DISTINCT ?o\n",
    "WHERE { \n",
    "\n",
    "    ?monarchy (wdt:P31|wdt:P122)/wdt:P279* wd:Q7269  . \n",
    "    ?monarchy wdt:P1365 ?replaces .\n",
    "    ?monarchy wdt:P1366 ?replacedby .\n",
    "    ?replacedby wdt:P17 ?o .\n",
    "    \n",
    "    # Labels\n",
    "    ?monarchy <http://schema.org/name> ?monarchyname .\n",
    "    ?replaces <http://schema.org/name> ?replacesname .\n",
    "    ?replacedby <http://schema.org/name> ?replacedbyname .\n",
    "        # Labels\n",
    "    #?p <http://schema.org/name> ?pname .\n",
    "    #?o <http://schema.org/name> ?oname .\n",
    "    #FILTER(REGEX(STR(?pname), \"^[Cc]ountry\"))\n",
    "} \n",
    "LIMIT 40\n",
    "\"\"\"\n",
    "\n",
    "print(\"Results\")\n",
    "run_query(queryString)"
   ]
  },
  {
   "cell_type": "code",
   "execution_count": 27,
   "id": "a1fb1e1d-733f-43f8-860a-d7139aae301e",
   "metadata": {},
   "outputs": [
    {
     "name": "stdout",
     "output_type": "stream",
     "text": [
      "Results\n",
      "[('callret-0', '109')]\n"
     ]
    },
    {
     "data": {
      "text/plain": [
       "1"
      ]
     },
     "execution_count": 27,
     "metadata": {},
     "output_type": "execute_result"
    }
   ],
   "source": [
    "# COUNTRY \n",
    "#[('p', 'http://www.wikidata.org/entity/Q189326'), ('o', 'http://www.wikidata.org/prop/direct/P1366'), ('oname', 'replaced by')]\n",
    "queryString = \"\"\"\n",
    "SELECT COUNT (DISTINCT ?o)\n",
    "WHERE { \n",
    "\n",
    "    ?monarchy (wdt:P31|wdt:P122)/wdt:P279* wd:Q7269  . \n",
    "    ?monarchy wdt:P1365 ?replaces .\n",
    "    ?monarchy wdt:P1366 ?replacedby .\n",
    "    ?replacedby wdt:P17 ?o .\n",
    "    \n",
    "    # Labels\n",
    "    ?monarchy <http://schema.org/name> ?monarchyname .\n",
    "    ?replaces <http://schema.org/name> ?replacesname .\n",
    "    ?replacedby <http://schema.org/name> ?replacedbyname .\n",
    "        # Labels\n",
    "    #?p <http://schema.org/name> ?pname .\n",
    "    #?o <http://schema.org/name> ?oname .\n",
    "    #FILTER(REGEX(STR(?pname), \"^[Cc]ountry\"))\n",
    "} \n",
    "LIMIT 40\n",
    "\"\"\"\n",
    "\n",
    "print(\"Results\")\n",
    "run_query(queryString)"
   ]
  },
  {
   "cell_type": "code",
   "execution_count": 28,
   "id": "d3a5a4d5-f0aa-4ef8-898d-21cc5d4841ea",
   "metadata": {},
   "outputs": [
    {
     "name": "stdout",
     "output_type": "stream",
     "text": [
      "Results\n",
      "[('monarchyname', 'Eastern Hungarian Kingdom'), ('countryname', 'Principality of Transylvania')]\n",
      "[('monarchyname', 'East Francia'), ('countryname', 'Holy Roman Empire')]\n",
      "[('monarchyname', 'Province of North Carolina'), ('countryname', 'United States of America')]\n",
      "[('monarchyname', 'Song dynasty'), ('countryname', 'Yuan Empire')]\n",
      "[('monarchyname', 'United Principalities'), ('countryname', 'Kingdom of Romania')]\n",
      "[('monarchyname', 'United Principalities'), ('countryname', 'Kingdom of Romania')]\n",
      "[('monarchyname', 'Travancore'), ('countryname', 'India')]\n",
      "[('monarchyname', 'Travancore'), ('countryname', 'India')]\n",
      "[('monarchyname', 'Mataram Sultanate'), ('countryname', 'Indonesia')]\n",
      "[('monarchyname', 'Mataram Sultanate'), ('countryname', 'Indonesia')]\n",
      "[('monarchyname', 'Mataram Sultanate'), ('countryname', 'Indonesia')]\n",
      "[('monarchyname', 'Mataram Sultanate'), ('countryname', 'Indonesia')]\n",
      "[('monarchyname', 'Kingdom of Cochin'), ('countryname', 'India')]\n",
      "[('monarchyname', 'Kingdom of Cochin'), ('countryname', 'India')]\n",
      "[('monarchyname', 'Second Empire of Haiti'), ('countryname', 'Haiti')]\n",
      "[('monarchyname', 'Kingdom of Württemberg'), ('countryname', 'Weimar Republic')]\n",
      "[('monarchyname', 'Kingdom of Württemberg'), ('countryname', 'Weimar Republic')]\n",
      "[('monarchyname', 'Kingdom of Württemberg'), ('countryname', 'Weimar Republic')]\n",
      "[('monarchyname', 'Kingdom of Württemberg'), ('countryname', 'Nazi Germany')]\n",
      "[('monarchyname', 'Kingdom of Württemberg'), ('countryname', 'Nazi Germany')]\n",
      "[('monarchyname', 'Kingdom of Württemberg'), ('countryname', 'Nazi Germany')]\n",
      "[('monarchyname', 'Pahlavi Dynasty'), ('countryname', 'Iran')]\n",
      "[('monarchyname', 'Province of South Carolina'), ('countryname', 'United States of America')]\n",
      "[('monarchyname', 'Kingdom of Jerusalem'), ('countryname', 'Egypt')]\n",
      "[('monarchyname', 'Kingdom of Jerusalem'), ('countryname', 'Egypt')]\n",
      "[('monarchyname', 'Kingdom of Finland'), ('countryname', 'Finland')]\n",
      "[('monarchyname', 'Kingdom of Finland'), ('countryname', 'Finland')]\n",
      "[('monarchyname', 'Hohenzollern-Sigmaringen'), ('countryname', 'Prussia')]\n",
      "[('monarchyname', 'Hohenzollern-Sigmaringen'), ('countryname', 'Prussia')]\n",
      "[('monarchyname', 'Hohenzollern-Sigmaringen'), ('countryname', 'Prussia')]\n",
      "[('monarchyname', 'Hohenzollern-Sigmaringen'), ('countryname', 'Prussia')]\n",
      "[('monarchyname', 'Duchy of Württemberg'), ('countryname', 'German Empire')]\n",
      "[('monarchyname', 'Kingdom of Serbia'), ('countryname', 'Kingdom of Serbs, Croats and Slovenes')]\n",
      "[('monarchyname', 'July Monarchy'), ('countryname', 'France')]\n",
      "[('monarchyname', 'Kingdom of Granada'), ('countryname', 'Spain')]\n",
      "[('monarchyname', 'Kingdom of Granada'), ('countryname', 'Spanish Empire')]\n",
      "[('monarchyname', 'Kingdom of Granada'), ('countryname', 'Crown of Castile')]\n",
      "[('monarchyname', 'Kingdom of Hungary'), ('countryname', 'First Hungarian Republic')]\n",
      "[('monarchyname', 'Kingdom of Hungary'), ('countryname', 'First Hungarian Republic')]\n",
      "[('monarchyname', 'Kingdom of Serbs, Croats and Slovenes'), ('countryname', 'Kingdom of Yugoslavia')]\n"
     ]
    },
    {
     "data": {
      "text/plain": [
       "40"
      ]
     },
     "execution_count": 28,
     "metadata": {},
     "output_type": "execute_result"
    }
   ],
   "source": [
    "# COUNTRY \n",
    "#[('p', 'http://www.wikidata.org/entity/Q189326'), ('o', 'http://www.wikidata.org/prop/direct/P1366'), ('oname', 'replaced by')]\n",
    "queryString = \"\"\"\n",
    "SELECT ?monarchyname ?countryname\n",
    "WHERE { \n",
    "\n",
    "    ?monarchy (wdt:P31|wdt:P122)/wdt:P279* wd:Q7269  . \n",
    "    ?monarchy wdt:P1365 ?replaces .\n",
    "    ?monarchy wdt:P1366 ?replacedby .\n",
    "    ?replacedby wdt:P17 ?country .\n",
    "    \n",
    "    # Labels\n",
    "    ?monarchy <http://schema.org/name> ?monarchyname .\n",
    "    #?replaces <http://schema.org/name> ?replacesname .\n",
    "    #?replacedby <http://schema.org/name> ?replacedbyname .\n",
    "        # Labels\n",
    "    #?p <http://schema.org/name> ?pname .\n",
    "    #?o <http://schema.org/name> ?oname .\n",
    "    ?country <http://schema.org/name> ?countryname .\n",
    "    #FILTER(REGEX(STR(?pname), \"^[Cc]ountry\"))\n",
    "} \n",
    "LIMIT 40\n",
    "\"\"\"\n",
    "\n",
    "print(\"Results\")\n",
    "run_query(queryString)"
   ]
  },
  {
   "cell_type": "code",
   "execution_count": 29,
   "id": "253ea606-a5c4-4dcc-ba6c-8b775d8d6d05",
   "metadata": {},
   "outputs": [
    {
     "name": "stdout",
     "output_type": "stream",
     "text": [
      "Results\n",
      "[('monarchyname', 'Eastern Hungarian Kingdom'), ('countryname', 'Principality of Transylvania')]\n",
      "[('monarchyname', 'East Francia'), ('countryname', 'Holy Roman Empire')]\n",
      "[('monarchyname', 'Province of North Carolina'), ('countryname', 'United States of America')]\n",
      "[('monarchyname', 'Song dynasty'), ('countryname', 'Yuan Empire')]\n",
      "[('monarchyname', 'United Principalities'), ('countryname', 'Kingdom of Romania')]\n",
      "[('monarchyname', 'United Principalities'), ('countryname', 'Kingdom of Romania')]\n",
      "[('monarchyname', 'Travancore'), ('countryname', 'India')]\n",
      "[('monarchyname', 'Travancore'), ('countryname', 'India')]\n",
      "[('monarchyname', 'Mataram Sultanate'), ('countryname', 'Indonesia')]\n",
      "[('monarchyname', 'Mataram Sultanate'), ('countryname', 'Indonesia')]\n",
      "[('monarchyname', 'Mataram Sultanate'), ('countryname', 'Indonesia')]\n",
      "[('monarchyname', 'Mataram Sultanate'), ('countryname', 'Indonesia')]\n",
      "[('monarchyname', 'Kingdom of Cochin'), ('countryname', 'India')]\n",
      "[('monarchyname', 'Kingdom of Cochin'), ('countryname', 'India')]\n",
      "[('monarchyname', 'Second Empire of Haiti'), ('countryname', 'Haiti')]\n",
      "[('monarchyname', 'Kingdom of Württemberg'), ('countryname', 'Weimar Republic')]\n",
      "[('monarchyname', 'Kingdom of Württemberg'), ('countryname', 'Weimar Republic')]\n",
      "[('monarchyname', 'Kingdom of Württemberg'), ('countryname', 'Weimar Republic')]\n",
      "[('monarchyname', 'Kingdom of Württemberg'), ('countryname', 'Nazi Germany')]\n",
      "[('monarchyname', 'Kingdom of Württemberg'), ('countryname', 'Nazi Germany')]\n",
      "[('monarchyname', 'Kingdom of Württemberg'), ('countryname', 'Nazi Germany')]\n",
      "[('monarchyname', 'Pahlavi Dynasty'), ('countryname', 'Iran')]\n",
      "[('monarchyname', 'Province of South Carolina'), ('countryname', 'United States of America')]\n",
      "[('monarchyname', 'Kingdom of Jerusalem'), ('countryname', 'Egypt')]\n",
      "[('monarchyname', 'Kingdom of Jerusalem'), ('countryname', 'Egypt')]\n",
      "[('monarchyname', 'Kingdom of Finland'), ('countryname', 'Finland')]\n",
      "[('monarchyname', 'Kingdom of Finland'), ('countryname', 'Finland')]\n",
      "[('monarchyname', 'Hohenzollern-Sigmaringen'), ('countryname', 'Prussia')]\n",
      "[('monarchyname', 'Hohenzollern-Sigmaringen'), ('countryname', 'Prussia')]\n",
      "[('monarchyname', 'Hohenzollern-Sigmaringen'), ('countryname', 'Prussia')]\n",
      "[('monarchyname', 'Hohenzollern-Sigmaringen'), ('countryname', 'Prussia')]\n",
      "[('monarchyname', 'Duchy of Württemberg'), ('countryname', 'German Empire')]\n",
      "[('monarchyname', 'Kingdom of Serbia'), ('countryname', 'Kingdom of Serbs, Croats and Slovenes')]\n",
      "[('monarchyname', 'July Monarchy'), ('countryname', 'France')]\n",
      "[('monarchyname', 'Kingdom of Granada'), ('countryname', 'Spain')]\n",
      "[('monarchyname', 'Kingdom of Granada'), ('countryname', 'Spanish Empire')]\n",
      "[('monarchyname', 'Kingdom of Granada'), ('countryname', 'Crown of Castile')]\n",
      "[('monarchyname', 'Kingdom of Hungary'), ('countryname', 'First Hungarian Republic')]\n",
      "[('monarchyname', 'Kingdom of Hungary'), ('countryname', 'First Hungarian Republic')]\n",
      "[('monarchyname', 'Kingdom of Serbs, Croats and Slovenes'), ('countryname', 'Kingdom of Yugoslavia')]\n"
     ]
    },
    {
     "data": {
      "text/plain": [
       "40"
      ]
     },
     "execution_count": 29,
     "metadata": {},
     "output_type": "execute_result"
    }
   ],
   "source": [
    "# COUNTRY \n",
    "#[('p', 'http://www.wikidata.org/entity/Q189326'), ('o', 'http://www.wikidata.org/prop/direct/P1366'), ('oname', 'replaced by')]\n",
    "queryString = \"\"\"\n",
    "SELECT ?monarchyname ?countryname\n",
    "WHERE { \n",
    "\n",
    "    ?monarchy (wdt:P31|wdt:P122)/wdt:P279* wd:Q7269  . \n",
    "    ?monarchy wdt:P1365 ?replaces .\n",
    "    ?monarchy wdt:P1366 ?replacedby .\n",
    "    ?replacedby wdt:P17 ?country .\n",
    "    \n",
    "    # Labels\n",
    "    ?monarchy <http://schema.org/name> ?monarchyname .\n",
    "    #?replaces <http://schema.org/name> ?replacesname .\n",
    "    #?replacedby <http://schema.org/name> ?replacedbyname .\n",
    "        # Labels\n",
    "    #?p <http://schema.org/name> ?pname .\n",
    "    #?o <http://schema.org/name> ?oname .\n",
    "    ?country <http://schema.org/name> ?countryname .\n",
    "    #FILTER(REGEX(STR(?pname), \"^[Cc]ountry\"))\n",
    "} \n",
    "LIMIT 40\n",
    "\"\"\"\n",
    "\n",
    "print(\"Results\")\n",
    "run_query(queryString)"
   ]
  },
  {
   "cell_type": "code",
   "execution_count": 30,
   "id": "a37cd6ac-05f6-4878-be14-f0dace0d4505",
   "metadata": {},
   "outputs": [
    {
     "name": "stdout",
     "output_type": "stream",
     "text": [
      "Results\n",
      "[('monarchyname', 'Eastern Hungarian Kingdom'), ('countryname', 'Principality of Transylvania'), ('country', 'http://www.wikidata.org/entity/Q655621')]\n",
      "[('monarchyname', 'East Francia'), ('countryname', 'Holy Roman Empire'), ('country', 'http://www.wikidata.org/entity/Q12548')]\n",
      "[('monarchyname', 'Province of North Carolina'), ('countryname', 'United States of America'), ('country', 'http://www.wikidata.org/entity/Q30')]\n",
      "[('monarchyname', 'Song dynasty'), ('countryname', 'Yuan Empire'), ('country', 'http://www.wikidata.org/entity/Q7313')]\n",
      "[('monarchyname', 'United Principalities'), ('countryname', 'Kingdom of Romania'), ('country', 'http://www.wikidata.org/entity/Q203493')]\n",
      "[('monarchyname', 'United Principalities'), ('countryname', 'Kingdom of Romania'), ('country', 'http://www.wikidata.org/entity/Q203493')]\n",
      "[('monarchyname', 'Travancore'), ('countryname', 'India'), ('country', 'http://www.wikidata.org/entity/Q668')]\n",
      "[('monarchyname', 'Travancore'), ('countryname', 'India'), ('country', 'http://www.wikidata.org/entity/Q668')]\n",
      "[('monarchyname', 'Mataram Sultanate'), ('countryname', 'Indonesia'), ('country', 'http://www.wikidata.org/entity/Q252')]\n",
      "[('monarchyname', 'Mataram Sultanate'), ('countryname', 'Indonesia'), ('country', 'http://www.wikidata.org/entity/Q252')]\n",
      "[('monarchyname', 'Mataram Sultanate'), ('countryname', 'Indonesia'), ('country', 'http://www.wikidata.org/entity/Q252')]\n",
      "[('monarchyname', 'Mataram Sultanate'), ('countryname', 'Indonesia'), ('country', 'http://www.wikidata.org/entity/Q252')]\n",
      "[('monarchyname', 'Kingdom of Cochin'), ('countryname', 'India'), ('country', 'http://www.wikidata.org/entity/Q668')]\n",
      "[('monarchyname', 'Kingdom of Cochin'), ('countryname', 'India'), ('country', 'http://www.wikidata.org/entity/Q668')]\n",
      "[('monarchyname', 'Second Empire of Haiti'), ('countryname', 'Haiti'), ('country', 'http://www.wikidata.org/entity/Q790')]\n",
      "[('monarchyname', 'Kingdom of Württemberg'), ('countryname', 'Weimar Republic'), ('country', 'http://www.wikidata.org/entity/Q41304')]\n",
      "[('monarchyname', 'Kingdom of Württemberg'), ('countryname', 'Weimar Republic'), ('country', 'http://www.wikidata.org/entity/Q41304')]\n",
      "[('monarchyname', 'Kingdom of Württemberg'), ('countryname', 'Weimar Republic'), ('country', 'http://www.wikidata.org/entity/Q41304')]\n",
      "[('monarchyname', 'Kingdom of Württemberg'), ('countryname', 'Nazi Germany'), ('country', 'http://www.wikidata.org/entity/Q7318')]\n",
      "[('monarchyname', 'Kingdom of Württemberg'), ('countryname', 'Nazi Germany'), ('country', 'http://www.wikidata.org/entity/Q7318')]\n",
      "[('monarchyname', 'Kingdom of Württemberg'), ('countryname', 'Nazi Germany'), ('country', 'http://www.wikidata.org/entity/Q7318')]\n",
      "[('monarchyname', 'Pahlavi Dynasty'), ('countryname', 'Iran'), ('country', 'http://www.wikidata.org/entity/Q794')]\n",
      "[('monarchyname', 'Province of South Carolina'), ('countryname', 'United States of America'), ('country', 'http://www.wikidata.org/entity/Q30')]\n",
      "[('monarchyname', 'Kingdom of Jerusalem'), ('countryname', 'Egypt'), ('country', 'http://www.wikidata.org/entity/Q79')]\n",
      "[('monarchyname', 'Kingdom of Jerusalem'), ('countryname', 'Egypt'), ('country', 'http://www.wikidata.org/entity/Q79')]\n",
      "[('monarchyname', 'Kingdom of Finland'), ('countryname', 'Finland'), ('country', 'http://www.wikidata.org/entity/Q33')]\n",
      "[('monarchyname', 'Kingdom of Finland'), ('countryname', 'Finland'), ('country', 'http://www.wikidata.org/entity/Q33')]\n",
      "[('monarchyname', 'Hohenzollern-Sigmaringen'), ('countryname', 'Prussia'), ('country', 'http://www.wikidata.org/entity/Q38872')]\n",
      "[('monarchyname', 'Hohenzollern-Sigmaringen'), ('countryname', 'Prussia'), ('country', 'http://www.wikidata.org/entity/Q38872')]\n",
      "[('monarchyname', 'Hohenzollern-Sigmaringen'), ('countryname', 'Prussia'), ('country', 'http://www.wikidata.org/entity/Q38872')]\n",
      "[('monarchyname', 'Hohenzollern-Sigmaringen'), ('countryname', 'Prussia'), ('country', 'http://www.wikidata.org/entity/Q38872')]\n",
      "[('monarchyname', 'Duchy of Württemberg'), ('countryname', 'German Empire'), ('country', 'http://www.wikidata.org/entity/Q43287')]\n",
      "[('monarchyname', 'Kingdom of Serbia'), ('countryname', 'Kingdom of Serbs, Croats and Slovenes'), ('country', 'http://www.wikidata.org/entity/Q15102440')]\n",
      "[('monarchyname', 'July Monarchy'), ('countryname', 'France'), ('country', 'http://www.wikidata.org/entity/Q142')]\n",
      "[('monarchyname', 'Kingdom of Granada'), ('countryname', 'Spain'), ('country', 'http://www.wikidata.org/entity/Q29')]\n",
      "[('monarchyname', 'Kingdom of Granada'), ('countryname', 'Spanish Empire'), ('country', 'http://www.wikidata.org/entity/Q80702')]\n",
      "[('monarchyname', 'Kingdom of Granada'), ('countryname', 'Crown of Castile'), ('country', 'http://www.wikidata.org/entity/Q217196')]\n",
      "[('monarchyname', 'Kingdom of Hungary'), ('countryname', 'First Hungarian Republic'), ('country', 'http://www.wikidata.org/entity/Q516160')]\n",
      "[('monarchyname', 'Kingdom of Hungary'), ('countryname', 'First Hungarian Republic'), ('country', 'http://www.wikidata.org/entity/Q516160')]\n",
      "[('monarchyname', 'Kingdom of Serbs, Croats and Slovenes'), ('countryname', 'Kingdom of Yugoslavia'), ('country', 'http://www.wikidata.org/entity/Q191077')]\n"
     ]
    },
    {
     "data": {
      "text/plain": [
       "40"
      ]
     },
     "execution_count": 30,
     "metadata": {},
     "output_type": "execute_result"
    }
   ],
   "source": [
    "# COUNTRY \n",
    "#[('p', 'http://www.wikidata.org/entity/Q189326'), ('o', 'http://www.wikidata.org/prop/direct/P1366'), ('oname', 'replaced by')]\n",
    "queryString = \"\"\"\n",
    "SELECT ?monarchyname ?countryname ?country\n",
    "WHERE { \n",
    "\n",
    "    ?monarchy (wdt:P31|wdt:P122)/wdt:P279* wd:Q7269  . \n",
    "    ?monarchy wdt:P1365 ?replaces .\n",
    "    ?monarchy wdt:P1366 ?replacedby .\n",
    "    ?replacedby wdt:P17 ?country .\n",
    "    \n",
    "    # Labels\n",
    "    ?monarchy <http://schema.org/name> ?monarchyname .\n",
    "    #?replaces <http://schema.org/name> ?replacesname .\n",
    "    #?replacedby <http://schema.org/name> ?replacedbyname .\n",
    "        # Labels\n",
    "    #?p <http://schema.org/name> ?pname .\n",
    "    #?o <http://schema.org/name> ?oname .\n",
    "    ?country <http://schema.org/name> ?countryname .\n",
    "    #FILTER(REGEX(STR(?pname), \"^[Cc]ountry\"))\n",
    "} \n",
    "LIMIT 40\n",
    "\"\"\"\n",
    "\n",
    "print(\"Results\")\n",
    "run_query(queryString)"
   ]
  },
  {
   "cell_type": "code",
   "execution_count": 31,
   "id": "9ce070e2-c1c8-4c7d-9149-c85ef9507f0d",
   "metadata": {},
   "outputs": [
    {
     "name": "stdout",
     "output_type": "stream",
     "text": [
      "Results\n",
      "Empty\n"
     ]
    },
    {
     "data": {
      "text/plain": [
       "0"
      ]
     },
     "execution_count": 31,
     "metadata": {},
     "output_type": "execute_result"
    }
   ],
   "source": [
    "# \n",
    "# http://www.wikidata.org/entity/Q794\n",
    "queryString = \"\"\"\n",
    "SELECT *\n",
    "WHERE { \n",
    "\n",
    "    wd:Q794 ?p ?o .\n",
    "    # Labels\n",
    "    ?p <http://schema.org/name> ?pname .\n",
    "    #?o <http://schema.org/name> ?oname .\n",
    "    FILTER regex(?pname, \"begin\", \"i\") \n",
    "} \n",
    "LIMIT 40\n",
    "\"\"\"\n",
    "\n",
    "print(\"Results\")\n",
    "run_query(queryString)"
   ]
  },
  {
   "cell_type": "code",
   "execution_count": 32,
   "id": "8957eae5-75b9-4fe9-8e4f-c1d5f0b4dc47",
   "metadata": {},
   "outputs": [
    {
     "name": "stdout",
     "output_type": "stream",
     "text": [
      "Results\n",
      "Empty\n"
     ]
    },
    {
     "data": {
      "text/plain": [
       "0"
      ]
     },
     "execution_count": 32,
     "metadata": {},
     "output_type": "execute_result"
    }
   ],
   "source": [
    "# \n",
    "# http://www.wikidata.org/entity/Q794\n",
    "queryString = \"\"\"\n",
    "SELECT *\n",
    "WHERE { \n",
    "\n",
    "    wd:Q794 ?p ?o .\n",
    "    # Labels\n",
    "    ?p <http://schema.org/name> ?pname .\n",
    "    ?o <http://schema.org/name> ?oname .\n",
    "    FILTER regex(?oname, \"1979\", \"i\") \n",
    "} \n",
    "LIMIT 40\n",
    "\"\"\"\n",
    "\n",
    "print(\"Results\")\n",
    "run_query(queryString)"
   ]
  },
  {
   "cell_type": "code",
   "execution_count": 33,
   "id": "ed880087-614c-4bf2-8041-caf8ac9fefb8",
   "metadata": {},
   "outputs": [
    {
     "name": "stdout",
     "output_type": "stream",
     "text": [
      "Results\n",
      "[('callret-0', '205')]\n"
     ]
    },
    {
     "data": {
      "text/plain": [
       "1"
      ]
     },
     "execution_count": 33,
     "metadata": {},
     "output_type": "execute_result"
    }
   ],
   "source": [
    "# \n",
    "# http://www.wikidata.org/entity/Q794\n",
    "queryString = \"\"\"\n",
    "SELECT COUNT (DISTINCT ?p)\n",
    "WHERE { \n",
    "\n",
    "    wd:Q794 ?p ?o .\n",
    "    # Labels\n",
    "    ?p <http://schema.org/name> ?pname .\n",
    "    #?o <http://schema.org/name> ?oname .\n",
    "    #FILTER regex(?pname, \"\", \"i\") \n",
    "} \n",
    "LIMIT 40\n",
    "\"\"\"\n",
    "\n",
    "print(\"Results\")\n",
    "run_query(queryString)"
   ]
  },
  {
   "cell_type": "code",
   "execution_count": 34,
   "id": "2c46eb3f-de6d-43b2-b185-b81e4c4543df",
   "metadata": {},
   "outputs": [
    {
     "name": "stdout",
     "output_type": "stream",
     "text": [
      "Results\n",
      "[('p', 'http://www.wikidata.org/prop/direct/P1036'), ('pname', 'Dewey Decimal Classification')]\n",
      "[('p', 'http://www.wikidata.org/prop/direct/P1081'), ('pname', 'Human Development Index')]\n",
      "[('p', 'http://www.wikidata.org/prop/direct/P1082'), ('pname', 'population')]\n",
      "[('p', 'http://www.wikidata.org/prop/direct/P1151'), ('pname', \"topic's main Wikimedia portal\")]\n",
      "[('p', 'http://www.wikidata.org/prop/direct/P1174'), ('pname', 'visitors per year')]\n",
      "[('p', 'http://www.wikidata.org/prop/direct/P122'), ('pname', 'basic form of government')]\n",
      "[('p', 'http://www.wikidata.org/prop/direct/P1225'), ('pname', 'U.S. National Archives Identifier')]\n",
      "[('p', 'http://www.wikidata.org/prop/direct/P1245'), ('pname', 'OmegaWiki Defined Meaning')]\n",
      "[('p', 'http://www.wikidata.org/prop/direct/P1296'), ('pname', 'Gran Enciclopèdia Catalana ID')]\n",
      "[('p', 'http://www.wikidata.org/prop/direct/P1304'), ('pname', 'central bank')]\n"
     ]
    },
    {
     "data": {
      "text/plain": [
       "10"
      ]
     },
     "execution_count": 34,
     "metadata": {},
     "output_type": "execute_result"
    }
   ],
   "source": [
    "# find the time \n",
    "# http://www.wikidata.org/entity/Q794\n",
    "queryString = \"\"\"\n",
    "SELECT DISTINCT ?p ?pname\n",
    "WHERE { \n",
    "\n",
    "    wd:Q794 ?p ?o .\n",
    "    # Labels\n",
    "    ?p <http://schema.org/name> ?pname .\n",
    "    #?o <http://schema.org/name> ?oname .\n",
    "    #FILTER regex(?pname, \"\", \"i\") \n",
    "} \n",
    "LIMIT 10\n",
    "\"\"\"\n",
    "\n",
    "print(\"Results\")\n",
    "run_query(queryString)"
   ]
  },
  {
   "cell_type": "code",
   "execution_count": 35,
   "id": "5615a19a-46f7-4e9c-8a64-c7315b3b065e",
   "metadata": {},
   "outputs": [
    {
     "name": "stdout",
     "output_type": "stream",
     "text": [
      "Results\n",
      "[('monarchyname', 'Pahlavi Dynasty'), ('monarchy', 'http://www.wikidata.org/entity/Q207991'), ('countryname', 'Iran'), ('country', 'http://www.wikidata.org/entity/Q794')]\n"
     ]
    },
    {
     "data": {
      "text/plain": [
       "1"
      ]
     },
     "execution_count": 35,
     "metadata": {},
     "output_type": "execute_result"
    }
   ],
   "source": [
    "# COUNTRY \n",
    "#[('p', 'http://www.wikidata.org/entity/Q189326'), ('o', 'http://www.wikidata.org/prop/direct/P1366'), ('oname', 'replaced by')]\n",
    "queryString = \"\"\"\n",
    "SELECT ?monarchyname ?monarchy ?countryname ?country\n",
    "WHERE { \n",
    "\n",
    "    ?monarchy (wdt:P31|wdt:P122)/wdt:P279* wd:Q7269  . \n",
    "    ?monarchy wdt:P1365 ?replaces .\n",
    "    ?monarchy wdt:P1366 ?replacedby .\n",
    "    ?replacedby wdt:P17 ?country .\n",
    "    \n",
    "    # Labels\n",
    "    ?monarchy <http://schema.org/name> ?monarchyname .\n",
    "    #?replaces <http://schema.org/name> ?replacesname .\n",
    "    #?replacedby <http://schema.org/name> ?replacedbyname .\n",
    "        # Labels\n",
    "    #?p <http://schema.org/name> ?pname .\n",
    "    #?o <http://schema.org/name> ?oname .\n",
    "    ?country <http://schema.org/name> ?countryname .\n",
    "    FILTER(REGEX(STR(?monarchyname), \"^[Pp]ahlavi\"))\n",
    "} \n",
    "LIMIT 40\n",
    "\"\"\"\n",
    "\n",
    "print(\"Results\")\n",
    "run_query(queryString)"
   ]
  },
  {
   "cell_type": "code",
   "execution_count": 36,
   "id": "dccf8861-75aa-49ca-b75b-efde1c8cd326",
   "metadata": {},
   "outputs": [
    {
     "name": "stdout",
     "output_type": "stream",
     "text": [
      "Results\n",
      "[('instance', 'http://www.wikidata.org/entity/Q164950'), ('instancename', 'dynasty')]\n",
      "[('instance', 'http://www.wikidata.org/entity/Q3024240'), ('instancename', 'historical country')]\n",
      "[('instance', 'http://www.wikidata.org/entity/Q6256'), ('instancename', 'country')]\n"
     ]
    },
    {
     "data": {
      "text/plain": [
       "3"
      ]
     },
     "execution_count": 36,
     "metadata": {},
     "output_type": "execute_result"
    }
   ],
   "source": [
    "# monarchy time \n",
    "queryString = \"\"\"\n",
    "SELECT *\n",
    "WHERE { \n",
    "\n",
    "    #wd:Q207991 ?p ?o .\n",
    "    wd:Q207991 wdt:P31 ?instance .\n",
    "    # Labels\n",
    "    #?p <http://schema.org/name> ?pname .\n",
    "    #?o <http://schema.org/name> ?oname .\n",
    "    ?instance <http://schema.org/name> ?instancename .\n",
    "    #FILTER regex(?pname, \"ww\", \"i\") \n",
    "} \n",
    "LIMIT 20\n",
    "\"\"\"\n",
    "\n",
    "print(\"Results\")\n",
    "run_query(queryString)"
   ]
  },
  {
   "cell_type": "code",
   "execution_count": 37,
   "id": "4f21544d-ba31-47fb-8744-3a0b57c5a01f",
   "metadata": {},
   "outputs": [
    {
     "name": "stdout",
     "output_type": "stream",
     "text": [
      "Results\n",
      "[('o', 'Former countries')]\n"
     ]
    },
    {
     "data": {
      "text/plain": [
       "1"
      ]
     },
     "execution_count": 37,
     "metadata": {},
     "output_type": "execute_result"
    }
   ],
   "source": [
    "# monarchy time \n",
    "queryString = \"\"\"\n",
    "SELECT *\n",
    "WHERE { \n",
    "\n",
    "    #wd:Q207991 ?p ?o .\n",
    "\n",
    "    wd:Q3024240 wdt:P373 ?o . \n",
    "\n",
    "    # Labels\n",
    "    #?p <http://schema.org/name> ?pname .\n",
    "    #?o <http://schema.org/name> ?oname .\n",
    "\n",
    "} \n",
    "LIMIT 50\n",
    "\"\"\"\n",
    "\n",
    "print(\"Results\")\n",
    "run_query(queryString)"
   ]
  },
  {
   "cell_type": "code",
   "execution_count": 38,
   "id": "d729d6d7-f759-4dfd-ba95-afeb172d850b",
   "metadata": {},
   "outputs": [
    {
     "name": "stdout",
     "output_type": "stream",
     "text": [
      "Results\n",
      "[('p', 'http://www.wikidata.org/prop/direct/P1889'), ('o', 'http://www.wikidata.org/entity/Q28864179'), ('pname', 'different from'), ('oname', 'proposed country')]\n",
      "[('p', 'http://www.wikidata.org/prop/direct/P279'), ('o', 'http://www.wikidata.org/entity/Q19953632'), ('pname', 'subclass of'), ('oname', 'former administrative territorial entity')]\n",
      "[('p', 'http://www.wikidata.org/prop/direct/P8952'), ('o', 'http://www.wikidata.org/entity/P580'), ('pname', 'inappropriate property for this type'), ('oname', 'start time')]\n",
      "[('p', 'http://www.wikidata.org/prop/direct/P8952'), ('o', 'http://www.wikidata.org/entity/P582'), ('pname', 'inappropriate property for this type'), ('oname', 'end time')]\n",
      "[('p', 'http://www.wikidata.org/prop/direct/P1963'), ('o', 'http://www.wikidata.org/entity/P576'), ('pname', 'properties for this type'), ('oname', 'dissolved, abolished or demolished date')]\n",
      "[('p', 'http://www.wikidata.org/prop/direct/P1687'), ('o', 'http://www.wikidata.org/entity/P17'), ('pname', 'Wikidata property'), ('oname', 'country')]\n",
      "[('p', 'http://www.wikidata.org/prop/direct/P1963'), ('o', 'http://www.wikidata.org/entity/P571'), ('pname', 'properties for this type'), ('oname', 'inception')]\n",
      "[('p', 'http://www.wikidata.org/prop/direct/P1963'), ('o', 'http://www.wikidata.org/entity/P36'), ('pname', 'properties for this type'), ('oname', 'capital')]\n",
      "[('p', 'http://www.wikidata.org/prop/direct/P1963'), ('o', 'http://www.wikidata.org/entity/P1365'), ('pname', 'properties for this type'), ('oname', 'replaces')]\n",
      "[('p', 'http://www.wikidata.org/prop/direct/P1963'), ('o', 'http://www.wikidata.org/entity/P1366'), ('pname', 'properties for this type'), ('oname', 'replaced by')]\n",
      "[('p', 'http://www.wikidata.org/prop/direct/P1963'), ('o', 'http://www.wikidata.org/entity/P3842'), ('pname', 'properties for this type'), ('oname', 'located in present-day administrative territorial entity')]\n",
      "[('p', 'http://www.wikidata.org/prop/direct/P1424'), ('o', 'http://www.wikidata.org/entity/Q6036853'), ('pname', \"topic's main template\"), ('oname', 'Template:Infobox former country')]\n",
      "[('p', 'http://www.wikidata.org/prop/direct/P910'), ('o', 'http://www.wikidata.org/entity/Q7238252'), ('pname', \"topic's main category\"), ('oname', 'Category:Former countries')]\n",
      "[('p', 'http://www.wikidata.org/prop/direct/P279'), ('o', 'http://www.wikidata.org/entity/Q96196009'), ('pname', 'subclass of'), ('oname', 'state (former or current)')]\n"
     ]
    },
    {
     "data": {
      "text/plain": [
       "14"
      ]
     },
     "execution_count": 38,
     "metadata": {},
     "output_type": "execute_result"
    }
   ],
   "source": [
    "# [('instance', 'http://www.wikidata.org/entity/Q3024240'), ('instancename', 'historical country')]\n",
    "# monarchy time \n",
    "queryString = \"\"\"\n",
    "SELECT *\n",
    "WHERE { \n",
    "\n",
    "    #wd:Q207991 ?p ?o .\n",
    "\n",
    "    wd:Q3024240 ?p ?o . \n",
    "\n",
    "    # Labels\n",
    "    ?p <http://schema.org/name> ?pname .\n",
    "    ?o <http://schema.org/name> ?oname .\n",
    "} \n",
    "LIMIT 50\n",
    "\"\"\"\n",
    "\n",
    "print(\"Results\")\n",
    "run_query(queryString)\n",
    "\n",
    "### start date, date or time "
   ]
  },
  {
   "cell_type": "code",
   "execution_count": 39,
   "id": "f4ff4914-763b-4b8f-a2ca-fbc1f7165c45",
   "metadata": {},
   "outputs": [
    {
     "name": "stdout",
     "output_type": "stream",
     "text": [
      "Results\n",
      "[('p', 'http://www.wikidata.org/prop/direct/P1963'), ('o', 'http://www.wikidata.org/entity/P576'), ('pname', 'properties for this type'), ('oname', 'dissolved, abolished or demolished date')]\n"
     ]
    },
    {
     "data": {
      "text/plain": [
       "1"
      ]
     },
     "execution_count": 39,
     "metadata": {},
     "output_type": "execute_result"
    }
   ],
   "source": [
    "# ('oname', 'dissolved, abolished or demolished date')]\n",
    "queryString = \"\"\"\n",
    "SELECT *\n",
    "WHERE { \n",
    "\n",
    "    #wd:Q207991 ?p ?o .\n",
    "\n",
    "    wd:Q3024240 ?p ?o . \n",
    "\n",
    "    # Labels\n",
    "    ?p <http://schema.org/name> ?pname .\n",
    "    ?o <http://schema.org/name> ?oname .\n",
    "\n",
    "    FILTER(REGEX(STR(?oname), \".[Dd]ate\")) \n",
    "    \n",
    "    #FILTER(REGEX(STR(?oname), \"[Tt]ime\")) \n",
    "} \n",
    "LIMIT 50\n",
    "\"\"\"\n",
    "\n",
    "print(\"Results\")\n",
    "run_query(queryString)"
   ]
  },
  {
   "cell_type": "code",
   "execution_count": 40,
   "id": "1110e421-b5fd-4b41-8f11-c32610935dbc",
   "metadata": {},
   "outputs": [
    {
     "name": "stdout",
     "output_type": "stream",
     "text": [
      "Results\n",
      "[('p', 'http://www.wikidata.org/prop/direct/P8952'), ('o', 'http://www.wikidata.org/entity/P580'), ('pname', 'inappropriate property for this type'), ('oname', 'start time')]\n",
      "[('p', 'http://www.wikidata.org/prop/direct/P8952'), ('o', 'http://www.wikidata.org/entity/P582'), ('pname', 'inappropriate property for this type'), ('oname', 'end time')]\n"
     ]
    },
    {
     "data": {
      "text/plain": [
       "2"
      ]
     },
     "execution_count": 40,
     "metadata": {},
     "output_type": "execute_result"
    }
   ],
   "source": [
    "# ('oname', 'dissolved, abolished or demolished date')]\n",
    "queryString = \"\"\"\n",
    "SELECT *\n",
    "WHERE { \n",
    "\n",
    "    #wd:Q207991 ?p ?o .\n",
    "\n",
    "    wd:Q3024240 ?p ?o . \n",
    "\n",
    "    # Labels\n",
    "    ?p <http://schema.org/name> ?pname .\n",
    "    ?o <http://schema.org/name> ?oname .\n",
    "\n",
    "    #FILTER(REGEX(STR(?oname), \".[Dd]ate\")) \n",
    "    \n",
    "    FILTER(REGEX(STR(?oname), \"[Tt]ime\")) \n",
    "} \n",
    "LIMIT 50\n",
    "\"\"\"\n",
    "\n",
    "print(\"Results\")\n",
    "run_query(queryString)"
   ]
  },
  {
   "cell_type": "code",
   "execution_count": 41,
   "id": "633f681c-1f97-4a30-97a7-436b523cb42c",
   "metadata": {},
   "outputs": [
    {
     "name": "stdout",
     "output_type": "stream",
     "text": [
      "Results\n",
      "[('o', 'http://www.wikidata.org/entity/P576'), ('oname', 'dissolved, abolished or demolished date')]\n",
      "[('o', 'http://www.wikidata.org/entity/P571'), ('oname', 'inception')]\n",
      "[('o', 'http://www.wikidata.org/entity/P36'), ('oname', 'capital')]\n",
      "[('o', 'http://www.wikidata.org/entity/P1365'), ('oname', 'replaces')]\n",
      "[('o', 'http://www.wikidata.org/entity/P1366'), ('oname', 'replaced by')]\n",
      "[('o', 'http://www.wikidata.org/entity/P3842'), ('oname', 'located in present-day administrative territorial entity')]\n"
     ]
    },
    {
     "data": {
      "text/plain": [
       "6"
      ]
     },
     "execution_count": 41,
     "metadata": {},
     "output_type": "execute_result"
    }
   ],
   "source": [
    "# historical country wd:Q3024240 ?p ?o . \n",
    "queryString = \"\"\"\n",
    "SELECT *\n",
    "WHERE { \n",
    "\n",
    "    #wd:Q207991 wdt:P1963 ?o .\n",
    "\n",
    "    wd:Q3024240 wdt:P1963 ?o . \n",
    "\n",
    "    # Labels\n",
    "    #?p <http://schema.org/name> ?pname .\n",
    "    ?o <http://schema.org/name> ?oname .\n",
    "\n",
    "    #FILTER(REGEX(STR(?oname), \".[Dd]ate\")) \n",
    "    \n",
    "    #FILTER(REGEX(STR(?oname), \"[Tt]ime\")) \n",
    "} \n",
    "LIMIT 50\n",
    "\"\"\"\n",
    "\n",
    "print(\"Results\")\n",
    "run_query(queryString)"
   ]
  },
  {
   "cell_type": "code",
   "execution_count": 42,
   "id": "4158b577-edfc-4c1b-bfeb-1838bfcddac0",
   "metadata": {},
   "outputs": [
    {
     "name": "stdout",
     "output_type": "stream",
     "text": [
      "Results\n",
      "[('o', 'http://www.wikidata.org/entity/P571'), ('p', 'http://www.w3.org/1999/02/22-rdf-syntax-ns#type'), ('s', 'http://wikiba.se/ontology#Property'), ('oname', 'inception')]\n",
      "[('o', 'http://www.wikidata.org/entity/P571'), ('p', 'http://www.wikidata.org/prop/direct/P1628'), ('s', 'http://purl.org/dc/terms/created'), ('oname', 'inception')]\n",
      "[('o', 'http://www.wikidata.org/entity/P571'), ('p', 'http://www.wikidata.org/prop/direct/P1628'), ('s', 'http://id.nlm.nih.gov/mesh/vocab#dateCreated'), ('oname', 'inception')]\n",
      "[('o', 'http://www.wikidata.org/entity/P571'), ('p', 'http://www.wikidata.org/prop/direct/P1628'), ('s', 'http://schema.org/startDate'), ('oname', 'inception')]\n",
      "[('o', 'http://www.wikidata.org/entity/P571'), ('p', 'http://www.wikidata.org/prop/direct/P1628'), ('s', 'https://schema.org/dateCreated'), ('oname', 'inception')]\n",
      "[('o', 'http://www.wikidata.org/entity/P571'), ('p', 'http://www.wikidata.org/prop/direct/P1628'), ('s', 'https://schema.org/foundingDate'), ('oname', 'inception')]\n",
      "[('o', 'http://www.wikidata.org/entity/P571'), ('p', 'http://www.wikidata.org/prop/direct/P2236'), ('s', 'https://schema.org/foundingDate'), ('oname', 'inception')]\n",
      "[('o', 'http://www.wikidata.org/entity/P571'), ('p', 'http://www.wikidata.org/prop/direct/P1282'), ('s', 'Key:start_date'), ('oname', 'inception')]\n",
      "[('o', 'http://www.wikidata.org/entity/P571'), ('p', 'http://www.wikidata.org/prop/direct/P31'), ('s', 'http://www.wikidata.org/entity/Q70564278'), ('oname', 'inception')]\n",
      "[('o', 'http://www.wikidata.org/entity/P571'), ('p', 'http://www.wikidata.org/prop/direct/P31'), ('s', 'http://www.wikidata.org/entity/Q18636219'), ('oname', 'inception')]\n",
      "[('o', 'http://www.wikidata.org/entity/P571'), ('p', 'http://www.wikidata.org/prop/direct/P31'), ('s', 'http://www.wikidata.org/entity/Q18608993'), ('oname', 'inception')]\n",
      "[('o', 'http://www.wikidata.org/entity/P571'), ('p', 'http://schema.org/name'), ('s', 'inception'), ('oname', 'inception')]\n",
      "[('o', 'http://www.wikidata.org/entity/P571'), ('p', 'http://www.wikidata.org/prop/direct/P1659'), ('s', 'http://www.wikidata.org/entity/P580'), ('oname', 'inception')]\n",
      "[('o', 'http://www.wikidata.org/entity/P571'), ('p', 'http://www.wikidata.org/prop/direct/P1659'), ('s', 'http://www.wikidata.org/entity/P577'), ('oname', 'inception')]\n",
      "[('o', 'http://www.wikidata.org/entity/P571'), ('p', 'http://www.wikidata.org/prop/direct/P1659'), ('s', 'http://www.wikidata.org/entity/P5204'), ('oname', 'inception')]\n",
      "[('o', 'http://www.wikidata.org/entity/P571'), ('p', 'http://www.wikidata.org/prop/direct/P1659'), ('s', 'http://www.wikidata.org/entity/P1071'), ('oname', 'inception')]\n",
      "[('o', 'http://www.wikidata.org/entity/P571'), ('p', 'http://www.wikidata.org/prop/direct/P1659'), ('s', 'http://www.wikidata.org/entity/P1619'), ('oname', 'inception')]\n",
      "[('o', 'http://www.wikidata.org/entity/P571'), ('p', 'http://www.wikidata.org/prop/direct/P1659'), ('s', 'http://www.wikidata.org/entity/P729'), ('oname', 'inception')]\n",
      "[('o', 'http://www.wikidata.org/entity/P571'), ('p', 'http://www.wikidata.org/prop/direct/P1659'), ('s', 'http://www.wikidata.org/entity/P2754'), ('oname', 'inception')]\n",
      "[('o', 'http://www.wikidata.org/entity/P571'), ('p', 'http://www.wikidata.org/prop/direct/P1659'), ('s', 'http://www.wikidata.org/entity/P7584'), ('oname', 'inception')]\n"
     ]
    },
    {
     "data": {
      "text/plain": [
       "20"
      ]
     },
     "execution_count": 42,
     "metadata": {},
     "output_type": "execute_result"
    }
   ],
   "source": [
    "# historical country wd:Q3024240 ?p ?o . \n",
    "# 'inception' P571\n",
    "queryString = \"\"\"\n",
    "SELECT *\n",
    "WHERE { \n",
    "\n",
    "    #wd:Q207991 wdt:P1963 ?o .\n",
    "    \n",
    "    wd:Q3024240 wdt:P1963 ?o .\n",
    "    ?o ?p ?s .\n",
    "\n",
    "    # Labels\n",
    "    #?p <http://schema.org/name> ?pname .\n",
    "    ?o <http://schema.org/name> ?oname .\n",
    "\n",
    "    FILTER(REGEX(STR(?oname), \"[Ii]nception\")) \n",
    "    \n",
    "    #FILTER(REGEX(STR(?oname), \"[Tt]ime\")) \n",
    "} \n",
    "LIMIT 20\n",
    "\"\"\"\n",
    "\n",
    "print(\"Results\")\n",
    "run_query(queryString)"
   ]
  },
  {
   "cell_type": "code",
   "execution_count": 43,
   "id": "a1293bd6-67cd-49d8-9813-1330f220752f",
   "metadata": {},
   "outputs": [
    {
     "name": "stdout",
     "output_type": "stream",
     "text": [
      "Results\n",
      "[('o', 'http://www.wikidata.org/prop/direct/P1963'), ('oname', 'properties for this type')]\n"
     ]
    },
    {
     "data": {
      "text/plain": [
       "1"
      ]
     },
     "execution_count": 43,
     "metadata": {},
     "output_type": "execute_result"
    }
   ],
   "source": [
    "# historical country wd:Q3024240 ?p ?o . \n",
    "# 'inception' P571\n",
    "queryString = \"\"\"\n",
    "SELECT *\n",
    "WHERE { \n",
    "\n",
    "    #wd:Q207991 wdt:P1963 ?o .\n",
    "    \n",
    "    wd:Q3024240 ?o wd:P571 .\n",
    "\n",
    "    # Labels\n",
    "    #?p <http://schema.org/name> ?pname .\n",
    "    ?o <http://schema.org/name> ?oname .\n",
    "\n",
    "    #FILTER(REGEX(STR(?oname), \"[Ii]nception\")) \n",
    "    \n",
    "    #FILTER(REGEX(STR(?oname), \"[Tt]ime\")) \n",
    "} \n",
    "LIMIT 50\n",
    "\"\"\"\n",
    "\n",
    "print(\"Results\")\n",
    "run_query(queryString)"
   ]
  },
  {
   "cell_type": "code",
   "execution_count": 44,
   "id": "e687747d-2c10-4ddc-980a-f860aac0a7aa",
   "metadata": {},
   "outputs": [
    {
     "name": "stdout",
     "output_type": "stream",
     "text": [
      "Results\n",
      "[('monarchyname', 'Eastern Hungarian Kingdom'), ('countryname', 'Principality of Transylvania')]\n",
      "[('monarchyname', 'East Francia'), ('countryname', 'Holy Roman Empire')]\n",
      "[('monarchyname', 'Province of North Carolina'), ('countryname', 'United States of America')]\n",
      "[('monarchyname', 'Song dynasty'), ('countryname', 'Yuan Empire')]\n",
      "[('monarchyname', 'United Principalities'), ('countryname', 'Kingdom of Romania')]\n",
      "[('monarchyname', 'United Principalities'), ('countryname', 'Kingdom of Romania')]\n",
      "[('monarchyname', 'Travancore'), ('countryname', 'India')]\n",
      "[('monarchyname', 'Travancore'), ('countryname', 'India')]\n",
      "[('monarchyname', 'Mataram Sultanate'), ('countryname', 'Indonesia')]\n",
      "[('monarchyname', 'Mataram Sultanate'), ('countryname', 'Indonesia')]\n",
      "[('monarchyname', 'Mataram Sultanate'), ('countryname', 'Indonesia')]\n",
      "[('monarchyname', 'Mataram Sultanate'), ('countryname', 'Indonesia')]\n",
      "[('monarchyname', 'Kingdom of Cochin'), ('countryname', 'India')]\n",
      "[('monarchyname', 'Kingdom of Cochin'), ('countryname', 'India')]\n",
      "[('monarchyname', 'Second Empire of Haiti'), ('countryname', 'Haiti')]\n",
      "[('monarchyname', 'Kingdom of Württemberg'), ('countryname', 'Weimar Republic')]\n",
      "[('monarchyname', 'Kingdom of Württemberg'), ('countryname', 'Weimar Republic')]\n",
      "[('monarchyname', 'Kingdom of Württemberg'), ('countryname', 'Weimar Republic')]\n",
      "[('monarchyname', 'Kingdom of Württemberg'), ('countryname', 'Nazi Germany')]\n",
      "[('monarchyname', 'Kingdom of Württemberg'), ('countryname', 'Nazi Germany')]\n",
      "[('monarchyname', 'Kingdom of Württemberg'), ('countryname', 'Nazi Germany')]\n",
      "[('monarchyname', 'Pahlavi Dynasty'), ('countryname', 'Iran')]\n",
      "[('monarchyname', 'Province of South Carolina'), ('countryname', 'United States of America')]\n",
      "[('monarchyname', 'Kingdom of Jerusalem'), ('countryname', 'Egypt')]\n",
      "[('monarchyname', 'Kingdom of Jerusalem'), ('countryname', 'Egypt')]\n",
      "[('monarchyname', 'Kingdom of Finland'), ('countryname', 'Finland')]\n",
      "[('monarchyname', 'Kingdom of Finland'), ('countryname', 'Finland')]\n",
      "[('monarchyname', 'Hohenzollern-Sigmaringen'), ('countryname', 'Prussia')]\n",
      "[('monarchyname', 'Hohenzollern-Sigmaringen'), ('countryname', 'Prussia')]\n",
      "[('monarchyname', 'Hohenzollern-Sigmaringen'), ('countryname', 'Prussia')]\n",
      "[('monarchyname', 'Hohenzollern-Sigmaringen'), ('countryname', 'Prussia')]\n",
      "[('monarchyname', 'Duchy of Württemberg'), ('countryname', 'German Empire')]\n",
      "[('monarchyname', 'Kingdom of Serbia'), ('countryname', 'Kingdom of Serbs, Croats and Slovenes')]\n",
      "[('monarchyname', 'July Monarchy'), ('countryname', 'France')]\n",
      "[('monarchyname', 'Kingdom of Granada'), ('countryname', 'Spain')]\n",
      "[('monarchyname', 'Kingdom of Granada'), ('countryname', 'Spanish Empire')]\n",
      "[('monarchyname', 'Kingdom of Granada'), ('countryname', 'Crown of Castile')]\n",
      "[('monarchyname', 'Kingdom of Hungary'), ('countryname', 'First Hungarian Republic')]\n",
      "[('monarchyname', 'Kingdom of Hungary'), ('countryname', 'First Hungarian Republic')]\n",
      "[('monarchyname', 'Kingdom of Serbs, Croats and Slovenes'), ('countryname', 'Kingdom of Yugoslavia')]\n"
     ]
    },
    {
     "data": {
      "text/plain": [
       "40"
      ]
     },
     "execution_count": 44,
     "metadata": {},
     "output_type": "execute_result"
    }
   ],
   "source": [
    "# COUNTRY \n",
    "#[('p', 'http://www.wikidata.org/entity/Q189326'), ('o', 'http://www.wikidata.org/prop/direct/P1366'), ('oname', 'replaced by')]\n",
    "queryString = \"\"\"\n",
    "SELECT ?monarchyname ?countryname\n",
    "WHERE { \n",
    "\n",
    "    ?monarchy (wdt:P31|wdt:P122)/wdt:P279* wd:Q7269  . \n",
    "    ?monarchy wdt:P1365 ?replaces .\n",
    "    ?monarchy wdt:P1366 ?replacedby .\n",
    "    ?replacedby wdt:P17 ?country .\n",
    "    \n",
    "    # Labels\n",
    "    ?monarchy <http://schema.org/name> ?monarchyname .\n",
    "    #?replaces <http://schema.org/name> ?replacesname .\n",
    "    #?replacedby <http://schema.org/name> ?replacedbyname .\n",
    "        # Labels\n",
    "    #?p <http://schema.org/name> ?pname .\n",
    "    #?o <http://schema.org/name> ?oname .\n",
    "    ?country <http://schema.org/name> ?countryname .\n",
    "    #FILTER(REGEX(STR(?pname), \"^[Cc]ountry\"))\n",
    "} \n",
    "LIMIT 40\n",
    "\"\"\"\n",
    "\n",
    "print(\"Results\")\n",
    "run_query(queryString)"
   ]
  },
  {
   "cell_type": "code",
   "execution_count": 45,
   "id": "5afc4bfc-c63a-4e9c-a893-92723764cfbd",
   "metadata": {},
   "outputs": [
    {
     "name": "stdout",
     "output_type": "stream",
     "text": [
      "Results\n",
      "[('monarchyname', 'Kingdom of Nepal'), ('countryname', 'Nepal'), ('year', '2008')]\n",
      "[('monarchyname', 'Dominion of New Zealand'), ('countryname', 'New Zealand'), ('year', '1986')]\n",
      "[('monarchyname', 'Southern Rhodesia'), ('countryname', 'Zimbabwe'), ('year', '1980')]\n",
      "[('monarchyname', 'Kingdom of Zimbabwe'), ('countryname', 'Zimbabwe'), ('year', '1980')]\n",
      "[('monarchyname', 'Pahlavi Dynasty'), ('countryname', 'Iran'), ('year', '1979')]\n",
      "[('monarchyname', 'British Solomon Islands'), ('countryname', 'Solomon Islands'), ('year', '1978')]\n",
      "[('monarchyname', 'Kingdom of Libya'), ('countryname', 'Libya'), ('year', '1977')]\n",
      "[('monarchyname', 'Đại Việt'), ('countryname', 'Vietnam'), ('year', '1976')]\n",
      "[('monarchyname', 'Dominion of Ceylon'), ('countryname', 'Sri Lanka'), ('year', '1972')]\n",
      "[('monarchyname', 'Kingdom of Libya'), ('countryname', 'Libya'), ('year', '1969')]\n",
      "[('monarchyname', 'State of Malta'), ('countryname', 'Malta'), ('year', '1964')]\n",
      "[('monarchyname', 'July Monarchy'), ('countryname', 'France'), ('year', '1958')]\n",
      "[('monarchyname', 'Kingdom of France'), ('countryname', 'France'), ('year', '1958')]\n",
      "[('monarchyname', 'Prince-Bishopric of Liège'), ('countryname', 'France'), ('year', '1958')]\n",
      "[('monarchyname', 'Second French Empire'), ('countryname', 'France'), ('year', '1958')]\n",
      "[('monarchyname', 'Toucouleur Empire'), ('countryname', 'France'), ('year', '1958')]\n",
      "[('monarchyname', 'Bourbon Restoration'), ('countryname', 'France'), ('year', '1958')]\n",
      "[('monarchyname', 'Wassoulou Empire'), ('countryname', 'France'), ('year', '1958')]\n",
      "[('monarchyname', 'Kingdom of Libya'), ('countryname', 'Libya'), ('year', '1951')]\n",
      "[('monarchyname', 'Travancore'), ('countryname', 'India'), ('year', '1947')]\n",
      "[('monarchyname', 'Kingdom of Cochin'), ('countryname', 'India'), ('year', '1947')]\n",
      "[('monarchyname', 'Tripura'), ('countryname', 'India'), ('year', '1947')]\n",
      "[('monarchyname', 'Kamakura shogunate'), ('countryname', 'Japan'), ('year', '1947')]\n",
      "[('monarchyname', 'British India'), ('countryname', 'India'), ('year', '1947')]\n",
      "[('monarchyname', 'British India'), ('countryname', 'Pakistan'), ('year', '1947')]\n",
      "[('monarchyname', 'Dominion of India'), ('countryname', 'India'), ('year', '1947')]\n",
      "[('monarchyname', 'Satavahana dynasty'), ('countryname', 'India'), ('year', '1947')]\n",
      "[('monarchyname', 'Empire of Japan'), ('countryname', 'Japan'), ('year', '1947')]\n",
      "[('monarchyname', 'Ryukyu Kingdom'), ('countryname', 'Japan'), ('year', '1947')]\n",
      "[('monarchyname', 'Gupta Empire'), ('countryname', 'India'), ('year', '1947')]\n",
      "[('monarchyname', 'Thanjavur Maratha kingdom'), ('countryname', 'India'), ('year', '1947')]\n",
      "[('monarchyname', 'Kenmu Restoration'), ('countryname', 'Japan'), ('year', '1947')]\n",
      "[('monarchyname', 'Ashikaga shogunate'), ('countryname', 'Japan'), ('year', '1947')]\n",
      "[('monarchyname', 'Kingdom of Mysore'), ('countryname', 'Dominion of India'), ('year', '1947')]\n",
      "[('monarchyname', 'Kingdom of Mysore'), ('countryname', 'India'), ('year', '1947')]\n",
      "[('monarchyname', 'Cutch State'), ('countryname', 'India'), ('year', '1947')]\n",
      "[('monarchyname', 'Gurjara-Pratihara'), ('countryname', 'India'), ('year', '1947')]\n",
      "[('monarchyname', 'Jind State'), ('countryname', 'India'), ('year', '1947')]\n",
      "[('monarchyname', 'Dominion of Pakistan'), ('countryname', 'Pakistan'), ('year', '1947')]\n",
      "[('monarchyname', 'Junagadh State'), ('countryname', 'India'), ('year', '1947')]\n"
     ]
    },
    {
     "data": {
      "text/plain": [
       "40"
      ]
     },
     "execution_count": 45,
     "metadata": {},
     "output_type": "execute_result"
    }
   ],
   "source": [
    "#[('o', 'http://www.wikidata.org/entity/P571'), ('p', 'http://www.wikidata.org/prop/direct/P1282'), ('s', 'Key:start_date'), ('oname', 'inception')]\n",
    "# COUNTRY \n",
    "#[('p', 'http://www.wikidata.org/entity/Q189326'), ('o', 'http://www.wikidata.org/prop/direct/P1366'), ('oname', 'replaced by')]\n",
    "queryString = \"\"\"\n",
    "SELECT DISTINCT ?monarchyname ?countryname ?year\n",
    "WHERE { \n",
    "\n",
    "    ?monarchy (wdt:P31|wdt:P122)/wdt:P279* wd:Q7269  . \n",
    "    ?monarchy wdt:P1365 ?replaces .\n",
    "    ?monarchy wdt:P1366 ?replacedby .\n",
    "    ?replacedby wdt:P17 ?country .\n",
    "    ?country wdt:P571 ?date .\n",
    "    # Labels\n",
    "    ?monarchy <http://schema.org/name> ?monarchyname .\n",
    "    #?replaces <http://schema.org/name> ?replacesname .\n",
    "    #?replacedby <http://schema.org/name> ?replacedbyname .\n",
    "        # Labels\n",
    "    #?p <http://schema.org/name> ?pname .\n",
    "    #?o <http://schema.org/name> ?oname .\n",
    "    ?country <http://schema.org/name> ?countryname .\n",
    "    BIND(year(?date) AS ?year)\n",
    "    #FILTER(REGEX(STR(?pname), \"^[Cc]ountry\"))\n",
    "} \n",
    "ORDER BY DESC(?year)\n",
    "LIMIT 40\n",
    "\"\"\"\n",
    "\n",
    "print(\"Results\")\n",
    "run_query(queryString)"
   ]
  },
  {
   "cell_type": "markdown",
   "id": "e5dad1cf-9d09-4e25-8076-d9f9ec10f156",
   "metadata": {},
   "source": [
    "## Show the last monarchies in the world."
   ]
  },
  {
   "cell_type": "code",
   "execution_count": 46,
   "id": "69a89f9b-7d6e-405d-a45a-bd527be012ae",
   "metadata": {},
   "outputs": [
    {
     "name": "stdout",
     "output_type": "stream",
     "text": [
      "Results\n",
      "[('inception', '2008'), ('monarchyname', 'Kingdom of Nepal'), ('countryname', 'Nepal')]\n",
      "[('inception', '1986'), ('monarchyname', 'Dominion of New Zealand'), ('countryname', 'New Zealand')]\n",
      "[('inception', '1980'), ('monarchyname', 'Southern Rhodesia'), ('countryname', 'Zimbabwe')]\n",
      "[('inception', '1980'), ('monarchyname', 'Kingdom of Zimbabwe'), ('countryname', 'Zimbabwe')]\n",
      "[('inception', '1979'), ('monarchyname', 'Pahlavi Dynasty'), ('countryname', 'Iran')]\n",
      "[('inception', '1978'), ('monarchyname', 'British Solomon Islands'), ('countryname', 'Solomon Islands')]\n",
      "[('inception', '1977'), ('monarchyname', 'Kingdom of Libya'), ('countryname', 'Libya')]\n",
      "[('inception', '1976'), ('monarchyname', 'Đại Việt'), ('countryname', 'Vietnam')]\n",
      "[('inception', '1972'), ('monarchyname', 'Dominion of Ceylon'), ('countryname', 'Sri Lanka')]\n",
      "[('inception', '1969'), ('monarchyname', 'Kingdom of Libya'), ('countryname', 'Libya')]\n",
      "[('inception', '1964'), ('monarchyname', 'State of Malta'), ('countryname', 'Malta')]\n",
      "[('inception', '1958'), ('monarchyname', 'July Monarchy'), ('countryname', 'France')]\n",
      "[('inception', '1958'), ('monarchyname', 'Kingdom of France'), ('countryname', 'France')]\n",
      "[('inception', '1958'), ('monarchyname', 'Prince-Bishopric of Liège'), ('countryname', 'France')]\n",
      "[('inception', '1958'), ('monarchyname', 'Second French Empire'), ('countryname', 'France')]\n",
      "[('inception', '1958'), ('monarchyname', 'Toucouleur Empire'), ('countryname', 'France')]\n",
      "[('inception', '1958'), ('monarchyname', 'Bourbon Restoration'), ('countryname', 'France')]\n",
      "[('inception', '1958'), ('monarchyname', 'Wassoulou Empire'), ('countryname', 'France')]\n",
      "[('inception', '1951'), ('monarchyname', 'Kingdom of Libya'), ('countryname', 'Libya')]\n",
      "[('inception', '1947'), ('monarchyname', 'Travancore'), ('countryname', 'India')]\n",
      "[('inception', '1947'), ('monarchyname', 'Kingdom of Cochin'), ('countryname', 'India')]\n",
      "[('inception', '1947'), ('monarchyname', 'Tripura'), ('countryname', 'India')]\n",
      "[('inception', '1947'), ('monarchyname', 'Kamakura shogunate'), ('countryname', 'Japan')]\n",
      "[('inception', '1947'), ('monarchyname', 'British India'), ('countryname', 'India')]\n",
      "[('inception', '1947'), ('monarchyname', 'British India'), ('countryname', 'Pakistan')]\n",
      "[('inception', '1947'), ('monarchyname', 'Dominion of India'), ('countryname', 'India')]\n",
      "[('inception', '1947'), ('monarchyname', 'Satavahana dynasty'), ('countryname', 'India')]\n",
      "[('inception', '1947'), ('monarchyname', 'Empire of Japan'), ('countryname', 'Japan')]\n",
      "[('inception', '1947'), ('monarchyname', 'Ryukyu Kingdom'), ('countryname', 'Japan')]\n",
      "[('inception', '1947'), ('monarchyname', 'Gupta Empire'), ('countryname', 'India')]\n",
      "[('inception', '1947'), ('monarchyname', 'Thanjavur Maratha kingdom'), ('countryname', 'India')]\n",
      "[('inception', '1947'), ('monarchyname', 'Kenmu Restoration'), ('countryname', 'Japan')]\n",
      "[('inception', '1947'), ('monarchyname', 'Ashikaga shogunate'), ('countryname', 'Japan')]\n",
      "[('inception', '1947'), ('monarchyname', 'Kingdom of Mysore'), ('countryname', 'Dominion of India')]\n",
      "[('inception', '1947'), ('monarchyname', 'Kingdom of Mysore'), ('countryname', 'India')]\n",
      "[('inception', '1947'), ('monarchyname', 'Cutch State'), ('countryname', 'India')]\n",
      "[('inception', '1947'), ('monarchyname', 'Gurjara-Pratihara'), ('countryname', 'India')]\n",
      "[('inception', '1947'), ('monarchyname', 'Jind State'), ('countryname', 'India')]\n",
      "[('inception', '1947'), ('monarchyname', 'Dominion of Pakistan'), ('countryname', 'Pakistan')]\n",
      "[('inception', '1947'), ('monarchyname', 'Junagadh State'), ('countryname', 'India')]\n"
     ]
    },
    {
     "data": {
      "text/plain": [
       "40"
      ]
     },
     "execution_count": 46,
     "metadata": {},
     "output_type": "execute_result"
    }
   ],
   "source": [
    "#[('o', 'http://www.wikidata.org/entity/P571'), ('p', 'http://www.wikidata.org/prop/direct/P1282'), ('s', 'Key:start_date'), ('oname', 'inception')]\n",
    "# COUNTRY \n",
    "#[('p', 'http://www.wikidata.org/entity/Q189326'), ('o', 'http://www.wikidata.org/prop/direct/P1366'), ('oname', 'replaced by')]\n",
    "queryString = \"\"\"\n",
    "SELECT DISTINCT ?inception ?monarchyname ?countryname \n",
    "WHERE { \n",
    "\n",
    "    ?monarchy (wdt:P31|wdt:P122)/wdt:P279* wd:Q7269  . \n",
    "    ?monarchy wdt:P1365 ?replaces .\n",
    "    ?monarchy wdt:P1366 ?replacedby .\n",
    "    ?replacedby wdt:P17 ?country .\n",
    "    ?country wdt:P571 ?date .\n",
    "    # Labels\n",
    "    ?monarchy <http://schema.org/name> ?monarchyname .\n",
    "    #?replaces <http://schema.org/name> ?replacesname .\n",
    "    #?replacedby <http://schema.org/name> ?replacedbyname .\n",
    "        # Labels\n",
    "    #?p <http://schema.org/name> ?pname .\n",
    "    #?o <http://schema.org/name> ?oname .\n",
    "    ?country <http://schema.org/name> ?countryname .\n",
    "    BIND(year(?date) AS ?inception)\n",
    "\n",
    "} \n",
    "ORDER BY DESC(?inception)\n",
    "LIMIT 40\n",
    "\"\"\"\n",
    "\n",
    "print(\"Results\")\n",
    "run_query(queryString)"
   ]
  },
  {
   "cell_type": "code",
   "execution_count": 47,
   "id": "8da9c2a3-1777-45dd-9f54-dce9579cdf2d",
   "metadata": {},
   "outputs": [
    {
     "name": "stdout",
     "output_type": "stream",
     "text": [
      "Results\n",
      "[('inception', '2008'), ('monarchyname', 'Kingdom of Nepal'), ('replacedbyname', 'Nepal'), ('countryname', 'Nepal')]\n",
      "[('inception', '1986'), ('monarchyname', 'Dominion of New Zealand'), ('replacedbyname', 'New Zealand'), ('countryname', 'New Zealand')]\n",
      "[('inception', '1980'), ('monarchyname', 'Southern Rhodesia'), ('replacedbyname', 'Zimbabwe'), ('countryname', 'Zimbabwe')]\n",
      "[('inception', '1980'), ('monarchyname', 'Kingdom of Zimbabwe'), ('replacedbyname', 'Kingdom of Butua'), ('countryname', 'Zimbabwe')]\n",
      "[('inception', '1979'), ('monarchyname', 'Pahlavi Dynasty'), ('replacedbyname', 'Iran'), ('countryname', 'Iran')]\n",
      "[('inception', '1978'), ('monarchyname', 'British Solomon Islands'), ('replacedbyname', 'Solomon Islands'), ('countryname', 'Solomon Islands')]\n",
      "[('inception', '1977'), ('monarchyname', 'Kingdom of Libya'), ('replacedbyname', 'Libya'), ('countryname', 'Libya')]\n",
      "[('inception', '1976'), ('monarchyname', 'Đại Việt'), ('replacedbyname', 'Vietnam'), ('countryname', 'Vietnam')]\n",
      "[('inception', '1972'), ('monarchyname', 'Dominion of Ceylon'), ('replacedbyname', 'Sri Lanka'), ('countryname', 'Sri Lanka')]\n",
      "[('inception', '1969'), ('monarchyname', 'Kingdom of Libya'), ('replacedbyname', 'Libya'), ('countryname', 'Libya')]\n",
      "[('inception', '1964'), ('monarchyname', 'State of Malta'), ('replacedbyname', 'Malta'), ('countryname', 'Malta')]\n",
      "[('inception', '1958'), ('monarchyname', 'July Monarchy'), ('replacedbyname', 'French Second Republic'), ('countryname', 'France')]\n",
      "[('inception', '1958'), ('monarchyname', 'Kingdom of France'), ('replacedbyname', 'French First Republic'), ('countryname', 'France')]\n",
      "[('inception', '1958'), ('monarchyname', 'Prince-Bishopric of Liège'), ('replacedbyname', 'French First Republic'), ('countryname', 'France')]\n",
      "[('inception', '1958'), ('monarchyname', 'Kingdom of France'), ('replacedbyname', 'Kingdom of France'), ('countryname', 'France')]\n",
      "[('inception', '1958'), ('monarchyname', 'Second French Empire'), ('replacedbyname', 'French Third Republic'), ('countryname', 'France')]\n",
      "[('inception', '1958'), ('monarchyname', 'Toucouleur Empire'), ('replacedbyname', 'French West Africa'), ('countryname', 'France')]\n",
      "[('inception', '1958'), ('monarchyname', 'Bourbon Restoration'), ('replacedbyname', 'July Monarchy'), ('countryname', 'France')]\n",
      "[('inception', '1958'), ('monarchyname', 'Wassoulou Empire'), ('replacedbyname', 'French West Africa'), ('countryname', 'France')]\n",
      "[('inception', '1951'), ('monarchyname', 'Kingdom of Libya'), ('replacedbyname', 'Libya'), ('countryname', 'Libya')]\n",
      "[('inception', '1947'), ('monarchyname', 'Travancore'), ('replacedbyname', 'India'), ('countryname', 'India')]\n",
      "[('inception', '1947'), ('monarchyname', 'Travancore'), ('replacedbyname', 'Travancore-Cochin'), ('countryname', 'India')]\n",
      "[('inception', '1947'), ('monarchyname', 'Kingdom of Cochin'), ('replacedbyname', 'India'), ('countryname', 'India')]\n",
      "[('inception', '1947'), ('monarchyname', 'Kingdom of Cochin'), ('replacedbyname', 'Travancore-Cochin'), ('countryname', 'India')]\n",
      "[('inception', '1947'), ('monarchyname', 'Tripura'), ('replacedbyname', 'India'), ('countryname', 'India')]\n",
      "[('inception', '1947'), ('monarchyname', 'Kamakura shogunate'), ('replacedbyname', 'Kenmu Restoration'), ('countryname', 'Japan')]\n",
      "[('inception', '1947'), ('monarchyname', 'British India'), ('replacedbyname', 'India'), ('countryname', 'India')]\n",
      "[('inception', '1947'), ('monarchyname', 'British India'), ('replacedbyname', 'Pakistan'), ('countryname', 'Pakistan')]\n",
      "[('inception', '1947'), ('monarchyname', 'Dominion of India'), ('replacedbyname', 'India'), ('countryname', 'India')]\n",
      "[('inception', '1947'), ('monarchyname', 'Satavahana dynasty'), ('replacedbyname', 'Vakataka empire'), ('countryname', 'India')]\n",
      "[('inception', '1947'), ('monarchyname', 'Empire of Japan'), ('replacedbyname', 'Japan'), ('countryname', 'Japan')]\n",
      "[('inception', '1947'), ('monarchyname', 'Ryukyu Kingdom'), ('replacedbyname', 'Ryūkyū Domain'), ('countryname', 'Japan')]\n",
      "[('inception', '1947'), ('monarchyname', 'Gupta Empire'), ('replacedbyname', 'Rashtrakuta Dynasty'), ('countryname', 'India')]\n",
      "[('inception', '1947'), ('monarchyname', 'Thanjavur Maratha kingdom'), ('replacedbyname', 'India'), ('countryname', 'India')]\n",
      "[('inception', '1947'), ('monarchyname', 'Kenmu Restoration'), ('replacedbyname', 'Ashikaga shogunate'), ('countryname', 'Japan')]\n",
      "[('inception', '1947'), ('monarchyname', 'Ashikaga shogunate'), ('replacedbyname', 'Oda regime'), ('countryname', 'Japan')]\n",
      "[('inception', '1947'), ('monarchyname', 'Kingdom of Mysore'), ('replacedbyname', 'India'), ('countryname', 'India')]\n",
      "[('inception', '1947'), ('monarchyname', 'Kingdom of Mysore'), ('replacedbyname', 'Mysore State'), ('countryname', 'Dominion of India')]\n",
      "[('inception', '1947'), ('monarchyname', 'Kingdom of Mysore'), ('replacedbyname', 'Mysore State'), ('countryname', 'India')]\n",
      "[('inception', '1947'), ('monarchyname', 'Cutch State'), ('replacedbyname', 'India'), ('countryname', 'India')]\n"
     ]
    },
    {
     "data": {
      "text/plain": [
       "40"
      ]
     },
     "execution_count": 47,
     "metadata": {},
     "output_type": "execute_result"
    }
   ],
   "source": [
    "#[('o', 'http://www.wikidata.org/entity/P571'), ('p', 'http://www.wikidata.org/prop/direct/P1282'), ('s', 'Key:start_date'), ('oname', 'inception')]\n",
    "# COUNTRY \n",
    "#[('p', 'http://www.wikidata.org/entity/Q189326'), ('o', 'http://www.wikidata.org/prop/direct/P1366'), ('oname', 'replaced by')]\n",
    "queryString = \"\"\"\n",
    "SELECT DISTINCT ?inception ?monarchyname ?replacedbyname ?countryname \n",
    "WHERE { \n",
    "\n",
    "    ?monarchy (wdt:P31|wdt:P122)/wdt:P279* wd:Q7269  . \n",
    "    ?monarchy wdt:P1365 ?replaces .\n",
    "    ?monarchy wdt:P1366 ?replacedby .\n",
    "    ?replacedby wdt:P17 ?country .\n",
    "    ?country wdt:P571 ?date .\n",
    "    # Labels\n",
    "    ?monarchy <http://schema.org/name> ?monarchyname .\n",
    "    #?replaces <http://schema.org/name> ?replacesname .\n",
    "    ?replacedby <http://schema.org/name> ?replacedbyname .\n",
    "        # Labels\n",
    "    #?p <http://schema.org/name> ?pname .\n",
    "    #?o <http://schema.org/name> ?oname .\n",
    "    ?country <http://schema.org/name> ?countryname .\n",
    "    BIND(year(?date) AS ?inception)\n",
    "\n",
    "} \n",
    "ORDER BY DESC(?inception)\n",
    "LIMIT 40\n",
    "\"\"\"\n",
    "\n",
    "print(\"Results\")\n",
    "run_query(queryString)"
   ]
  },
  {
   "cell_type": "markdown",
   "id": "5b213eb0-55ff-4a88-b156-6d00c6b559f1",
   "metadata": {},
   "source": [
    "## Count the number of monarchies every country had and show which country had more monarchies in history. "
   ]
  },
  {
   "cell_type": "code",
   "execution_count": 48,
   "id": "8910f1a0-becb-4c35-b50a-feaf093a59e5",
   "metadata": {},
   "outputs": [
    {
     "name": "stdout",
     "output_type": "stream",
     "text": [
      "Results\n",
      "[('countryname', 'India'), ('countmonarchies', '20')]\n",
      "[('countryname', 'Spain'), ('countmonarchies', '9')]\n",
      "[('countryname', 'France'), ('countmonarchies', '8')]\n",
      "[('countryname', 'German Empire'), ('countmonarchies', '5')]\n",
      "[('countryname', 'Ottoman Empire'), ('countmonarchies', '5')]\n",
      "[('countryname', 'Kingdom of Italy'), ('countmonarchies', '5')]\n",
      "[('countryname', 'Japan'), ('countmonarchies', '5')]\n",
      "[('countryname', 'Weimar Republic'), ('countmonarchies', '4')]\n",
      "[('countryname', 'Kingdom of Prussia'), ('countmonarchies', '4')]\n",
      "[('countryname', 'United States of America'), ('countmonarchies', '4')]\n"
     ]
    },
    {
     "data": {
      "text/plain": [
       "10"
      ]
     },
     "execution_count": 48,
     "metadata": {},
     "output_type": "execute_result"
    }
   ],
   "source": [
    "#[('o', 'http://www.wikidata.org/entity/P571'), ('p', 'http://www.wikidata.org/prop/direct/P1282'), ('s', 'Key:start_date'), ('oname', 'inception')]\n",
    "# COUNTRY \n",
    "#[('p', 'http://www.wikidata.org/entity/Q189326'), ('o', 'http://www.wikidata.org/prop/direct/P1366'), ('oname', 'replaced by')]\n",
    "queryString = \"\"\"\n",
    "SELECT ?countryname (COUNT(DISTINCT ?monarchy) AS ?countmonarchies)\n",
    "WHERE { \n",
    "\n",
    "    ?monarchy (wdt:P31|wdt:P122)/wdt:P279* wd:Q7269  . \n",
    "    ?monarchy wdt:P1365 ?replaces .\n",
    "    ?monarchy wdt:P1366 ?replacedby .\n",
    "    ?replacedby wdt:P17 ?country .\n",
    "    ?country wdt:P571 ?date .\n",
    "    # Labels\n",
    "    ?monarchy <http://schema.org/name> ?monarchyname .\n",
    "    #?replaces <http://schema.org/name> ?replacesname .\n",
    "    ?replacedby <http://schema.org/name> ?replacedbyname .\n",
    "        # Labels\n",
    "    #?p <http://schema.org/name> ?pname .\n",
    "    #?o <http://schema.org/name> ?oname .\n",
    "    ?country <http://schema.org/name> ?countryname .\n",
    "    BIND(year(?date) AS ?inception)\n",
    "\n",
    "} \n",
    "ORDER BY DESC(?countmonarchies)\n",
    "LIMIT 10\n",
    "\"\"\"\n",
    "\n",
    "print(\"Results\")\n",
    "run_query(queryString)"
   ]
  },
  {
   "cell_type": "code",
   "execution_count": 49,
   "id": "12d57c48-f387-4c75-9bb6-c3d186742b12",
   "metadata": {},
   "outputs": [
    {
     "name": "stdout",
     "output_type": "stream",
     "text": [
      "Results\n",
      "[('countryname', 'India'), ('countmonarchies', '49')]\n",
      "[('countryname', 'Spain'), ('countmonarchies', '13')]\n",
      "[('countryname', 'France'), ('countmonarchies', '11')]\n",
      "[('countryname', 'German Empire'), ('countmonarchies', '9')]\n",
      "[('countryname', 'Weimar Republic'), ('countmonarchies', '8')]\n",
      "[('countryname', 'Ottoman Empire'), ('countmonarchies', '7')]\n",
      "[('countryname', 'Nazi Germany'), ('countmonarchies', '7')]\n",
      "[('countryname', 'South Africa'), ('countmonarchies', '6')]\n",
      "[('countryname', 'Kingdom of Prussia'), ('countmonarchies', '5')]\n",
      "[('countryname', 'Kingdom of Italy'), ('countmonarchies', '5')]\n"
     ]
    },
    {
     "data": {
      "text/plain": [
       "10"
      ]
     },
     "execution_count": 49,
     "metadata": {},
     "output_type": "execute_result"
    }
   ],
   "source": [
    "#[('o', 'http://www.wikidata.org/entity/P571'), ('p', 'http://www.wikidata.org/prop/direct/P1282'), ('s', 'Key:start_date'), ('oname', 'inception')]\n",
    "# COUNTRY \n",
    "#[('p', 'http://www.wikidata.org/entity/Q189326'), ('o', 'http://www.wikidata.org/prop/direct/P1366'), ('oname', 'replaced by')]\n",
    "queryString = \"\"\"\n",
    "SELECT ?countryname (COUNT(DISTINCT ?monarchy) AS ?countmonarchies)\n",
    "WHERE { \n",
    "\n",
    "    ?monarchy (wdt:P31|wdt:P122)/wdt:P279* wd:Q7269  . \n",
    "    ?monarchy wdt:P1366 ?replacedby .\n",
    "    ?replacedby wdt:P17 ?country .\n",
    "    ?country wdt:P571 ?date .\n",
    "    # Labels\n",
    "    ?monarchy <http://schema.org/name> ?monarchyname .\n",
    "    ?replacedby <http://schema.org/name> ?replacedbyname .\n",
    "    ?country <http://schema.org/name> ?countryname .\n",
    "\n",
    "\n",
    "} \n",
    "ORDER BY DESC(?countmonarchies)\n",
    "LIMIT 10\n",
    "\"\"\"\n",
    "\n",
    "print(\"Results\")\n",
    "run_query(queryString)"
   ]
  },
  {
   "cell_type": "code",
   "execution_count": 50,
   "id": "559dc150-2dfe-4fdb-a46e-1572bc7dbc34",
   "metadata": {},
   "outputs": [
    {
     "name": "stdout",
     "output_type": "stream",
     "text": [
      "Results\n",
      "[('countryname', 'India'), ('countmonarchies', '49')]\n",
      "[('countryname', 'Spain'), ('countmonarchies', '14')]\n",
      "[('countryname', 'France'), ('countmonarchies', '11')]\n",
      "[('countryname', 'German Empire'), ('countmonarchies', '9')]\n",
      "[('countryname', 'Weimar Republic'), ('countmonarchies', '8')]\n",
      "[('countryname', 'Ottoman Empire'), ('countmonarchies', '7')]\n",
      "[('countryname', 'Nazi Germany'), ('countmonarchies', '7')]\n",
      "[('countryname', 'South Africa'), ('countmonarchies', '6')]\n",
      "[('countryname', 'Kingdom of Prussia'), ('countmonarchies', '5')]\n",
      "[('countryname', 'Kingdom of Italy'), ('countmonarchies', '5')]\n"
     ]
    },
    {
     "data": {
      "text/plain": [
       "10"
      ]
     },
     "execution_count": 50,
     "metadata": {},
     "output_type": "execute_result"
    }
   ],
   "source": [
    "#[('o', 'http://www.wikidata.org/entity/P571'), ('p', 'http://www.wikidata.org/prop/direct/P1282'), ('s', 'Key:start_date'), ('oname', 'inception')]\n",
    "# COUNTRY \n",
    "#[('p', 'http://www.wikidata.org/entity/Q189326'), ('o', 'http://www.wikidata.org/prop/direct/P1366'), ('oname', 'replaced by')]\n",
    "queryString = \"\"\"\n",
    "SELECT ?countryname (COUNT(DISTINCT ?monarchy) AS ?countmonarchies)\n",
    "WHERE { \n",
    "\n",
    "    ?monarchy (wdt:P31|wdt:P122)/wdt:P279* wd:Q7269  . \n",
    "    ?monarchy wdt:P1366 ?replacedby .\n",
    "    ?replacedby wdt:P17 ?country .\n",
    "    ?country wdt:P571 ?date .\n",
    "    # Labels\n",
    "    ?monarchy <http://schema.org/name> ?monarchyname .\n",
    "    #?replacedby <http://schema.org/name> ?replacedbyname .\n",
    "    ?country <http://schema.org/name> ?countryname .\n",
    "\n",
    "\n",
    "} \n",
    "ORDER BY DESC(?countmonarchies)\n",
    "LIMIT 10\n",
    "\"\"\"\n",
    "\n",
    "print(\"Results\")\n",
    "run_query(queryString)"
   ]
  },
  {
   "cell_type": "markdown",
   "id": "c065cd10-9587-4dfe-bf7e-0acfc58fee0b",
   "metadata": {},
   "source": [
    "## Identify the BGP for obtaining statistical information of monarchies, e.g., population or inception date"
   ]
  },
  {
   "cell_type": "code",
   "execution_count": 51,
   "id": "614b6bd0-caf6-460f-85e5-93f7f26622fa",
   "metadata": {},
   "outputs": [
    {
     "name": "stdout",
     "output_type": "stream",
     "text": [
      "Results\n",
      "[('inception', '2008'), ('monarchyname', 'Kingdom of Nepal'), ('replacedbyname', 'Nepal'), ('countryname', 'Nepal')]\n",
      "[('inception', '1986'), ('monarchyname', 'Dominion of New Zealand'), ('replacedbyname', 'New Zealand'), ('countryname', 'New Zealand')]\n",
      "[('inception', '1980'), ('monarchyname', 'Southern Rhodesia'), ('replacedbyname', 'Zimbabwe'), ('countryname', 'Zimbabwe')]\n",
      "[('inception', '1980'), ('monarchyname', 'Kingdom of Zimbabwe'), ('replacedbyname', 'Kingdom of Butua'), ('countryname', 'Zimbabwe')]\n",
      "[('inception', '1979'), ('monarchyname', 'Pahlavi Dynasty'), ('replacedbyname', 'Iran'), ('countryname', 'Iran')]\n",
      "[('inception', '1978'), ('monarchyname', 'British Solomon Islands'), ('replacedbyname', 'Solomon Islands'), ('countryname', 'Solomon Islands')]\n",
      "[('inception', '1977'), ('monarchyname', 'Kingdom of Libya'), ('replacedbyname', 'Libya'), ('countryname', 'Libya')]\n",
      "[('inception', '1976'), ('monarchyname', 'Đại Việt'), ('replacedbyname', 'Vietnam'), ('countryname', 'Vietnam')]\n",
      "[('inception', '1972'), ('monarchyname', 'Dominion of Ceylon'), ('replacedbyname', 'Sri Lanka'), ('countryname', 'Sri Lanka')]\n",
      "[('inception', '1969'), ('monarchyname', 'Kingdom of Libya'), ('replacedbyname', 'Libya'), ('countryname', 'Libya')]\n"
     ]
    },
    {
     "data": {
      "text/plain": [
       "10"
      ]
     },
     "execution_count": 51,
     "metadata": {},
     "output_type": "execute_result"
    }
   ],
   "source": [
    "# COUNTRY \n",
    "\n",
    "queryString = \"\"\"\n",
    "SELECT DISTINCT ?inception ?monarchyname ?replacedbyname ?countryname \n",
    "WHERE { \n",
    "\n",
    "    ?monarchy (wdt:P31|wdt:P122)/wdt:P279* wd:Q7269  . \n",
    "    ?monarchy wdt:P1365 ?replaces .\n",
    "    ?monarchy wdt:P1366 ?replacedby .\n",
    "    ?replacedby wdt:P17 ?country .\n",
    "    ?country wdt:P571 ?date .\n",
    "    # Labels\n",
    "    ?monarchy <http://schema.org/name> ?monarchyname .\n",
    "    #?replaces <http://schema.org/name> ?replacesname .\n",
    "    ?replacedby <http://schema.org/name> ?replacedbyname .\n",
    "        # Labels\n",
    "    #?p <http://schema.org/name> ?pname .\n",
    "    #?o <http://schema.org/name> ?oname .\n",
    "    ?country <http://schema.org/name> ?countryname .\n",
    "    BIND(year(?date) AS ?inception)\n",
    "\n",
    "} \n",
    "ORDER BY DESC(?inception)\n",
    "LIMIT 10\n",
    "\"\"\"\n",
    "\n",
    "print(\"Results\")\n",
    "run_query(queryString)"
   ]
  },
  {
   "cell_type": "code",
   "execution_count": 52,
   "id": "d9bb2b54-2773-4c5d-a190-44b510a11794",
   "metadata": {},
   "outputs": [
    {
     "name": "stdout",
     "output_type": "stream",
     "text": [
      "Results\n",
      "[('p', 'http://www.wikidata.org/prop/direct/P112'), ('o', 'http://www.wikidata.org/entity/Q182921'), ('pname', 'founded by')]\n",
      "[('p', 'http://www.wikidata.org/prop/direct/P122'), ('o', 'http://www.wikidata.org/entity/Q128135'), ('pname', 'basic form of government')]\n",
      "[('p', 'http://www.wikidata.org/prop/direct/P122'), ('o', 'http://www.wikidata.org/entity/Q7269'), ('pname', 'basic form of government')]\n",
      "[('p', 'http://www.wikidata.org/prop/direct/P1296'), ('o', '0048220'), ('pname', 'Gran Enciclopèdia Catalana ID')]\n",
      "[('p', 'http://www.wikidata.org/prop/direct/P1365'), ('o', 'http://www.wikidata.org/entity/Q189326'), ('pname', 'replaces')]\n",
      "[('p', 'http://www.wikidata.org/prop/direct/P1366'), ('o', 'http://www.wikidata.org/entity/Q794'), ('pname', 'replaced by')]\n",
      "[('p', 'http://www.wikidata.org/prop/direct/P1417'), ('o', 'topic/Pahlavi-dynasty'), ('pname', 'Encyclopædia Britannica Online ID')]\n",
      "[('p', 'http://www.wikidata.org/prop/direct/P1549'), ('o', 'Iranian'), ('pname', 'demonym')]\n",
      "[('p', 'http://www.wikidata.org/prop/direct/P214'), ('o', '240150323726809970010'), ('pname', 'VIAF ID')]\n",
      "[('p', 'http://www.wikidata.org/prop/direct/P242'), ('o', 'http://commons.wikimedia.org/wiki/Special:FilePath/Iran%20%28orthographic%20projection%29.svg'), ('pname', 'locator map image')]\n"
     ]
    },
    {
     "data": {
      "text/plain": [
       "10"
      ]
     },
     "execution_count": 52,
     "metadata": {},
     "output_type": "execute_result"
    }
   ],
   "source": [
    "# [('monarchyname', 'Pahlavi Dynasty'), ('monarchy', 'http://www.wikidata.org/entity/Q207991'), \n",
    "#('countryname', 'Iran'), ('country', 'http://www.wikidata.org/entity/Q794')]\n",
    "queryString = \"\"\"\n",
    "SELECT *\n",
    "WHERE { \n",
    "\n",
    "    wd:Q207991 ?p ?o .\n",
    "    # Labels\n",
    "    ?p <http://schema.org/name> ?pname .\n",
    "    #?o <http://schema.org/name> ?oname .\n",
    "    #FILTER regex(?pname, \"ww\", \"i\") \n",
    "} \n",
    "LIMIT 10\n",
    "\"\"\"\n",
    "\n",
    "print(\"Results\")\n",
    "run_query(queryString)"
   ]
  },
  {
   "cell_type": "code",
   "execution_count": 53,
   "id": "fb092f13-34f9-4133-9398-8ee578bc3948",
   "metadata": {},
   "outputs": [
    {
     "name": "stdout",
     "output_type": "stream",
     "text": [
      "Results\n",
      "[('callret-0', '31')]\n"
     ]
    },
    {
     "data": {
      "text/plain": [
       "1"
      ]
     },
     "execution_count": 53,
     "metadata": {},
     "output_type": "execute_result"
    }
   ],
   "source": [
    "# [('monarchyname', 'Pahlavi Dynasty'), ('monarchy', 'http://www.wikidata.org/entity/Q207991'), \n",
    "#('countryname', 'Iran'), ('country', 'http://www.wikidata.org/entity/Q794')]\n",
    "queryString = \"\"\"\n",
    "SELECT COUNT(DISTINCT ?p)\n",
    "WHERE { \n",
    "\n",
    "    wd:Q207991 ?p ?o .\n",
    "    # Labels\n",
    "    #?p <http://schema.org/name> ?pname .\n",
    "    #?o <http://schema.org/name> ?oname .\n",
    "    #FILTER regex(?pname, \"ww\", \"i\") \n",
    "} \n",
    "LIMIT 10\n",
    "\"\"\"\n",
    "\n",
    "print(\"Results\")\n",
    "run_query(queryString)"
   ]
  },
  {
   "cell_type": "code",
   "execution_count": 54,
   "id": "a0c1c8a5-f322-4ca1-ad36-cd257319bebf",
   "metadata": {},
   "outputs": [
    {
     "name": "stdout",
     "output_type": "stream",
     "text": [
      "Results\n",
      "[('p', 'http://www.wikidata.org/prop/direct/P112'), ('pname', 'founded by'), ('o', 'http://www.wikidata.org/entity/Q182921')]\n",
      "[('p', 'http://www.wikidata.org/prop/direct/P122'), ('pname', 'basic form of government'), ('o', 'http://www.wikidata.org/entity/Q128135')]\n",
      "[('p', 'http://www.wikidata.org/prop/direct/P122'), ('pname', 'basic form of government'), ('o', 'http://www.wikidata.org/entity/Q7269')]\n",
      "[('p', 'http://www.wikidata.org/prop/direct/P1296'), ('pname', 'Gran Enciclopèdia Catalana ID'), ('o', '0048220')]\n",
      "[('p', 'http://www.wikidata.org/prop/direct/P1365'), ('pname', 'replaces'), ('o', 'http://www.wikidata.org/entity/Q189326')]\n",
      "[('p', 'http://www.wikidata.org/prop/direct/P1366'), ('pname', 'replaced by'), ('o', 'http://www.wikidata.org/entity/Q794')]\n",
      "[('p', 'http://www.wikidata.org/prop/direct/P1417'), ('pname', 'Encyclopædia Britannica Online ID'), ('o', 'topic/Pahlavi-dynasty')]\n",
      "[('p', 'http://www.wikidata.org/prop/direct/P1549'), ('pname', 'demonym'), ('o', 'Iranian')]\n",
      "[('p', 'http://www.wikidata.org/prop/direct/P214'), ('pname', 'VIAF ID'), ('o', '240150323726809970010')]\n",
      "[('p', 'http://www.wikidata.org/prop/direct/P242'), ('pname', 'locator map image'), ('o', 'http://commons.wikimedia.org/wiki/Special:FilePath/Iran%20%28orthographic%20projection%29.svg')]\n",
      "[('p', 'http://www.wikidata.org/prop/direct/P244'), ('pname', 'Library of Congress authority ID'), ('o', 'sh85067905')]\n",
      "[('p', 'http://www.wikidata.org/prop/direct/P30'), ('pname', 'continent'), ('o', 'http://www.wikidata.org/entity/Q48')]\n",
      "[('p', 'http://www.wikidata.org/prop/direct/P31'), ('pname', 'instance of'), ('o', 'http://www.wikidata.org/entity/Q6256')]\n",
      "[('p', 'http://www.wikidata.org/prop/direct/P31'), ('pname', 'instance of'), ('o', 'http://www.wikidata.org/entity/Q164950')]\n",
      "[('p', 'http://www.wikidata.org/prop/direct/P31'), ('pname', 'instance of'), ('o', 'http://www.wikidata.org/entity/Q3024240')]\n",
      "[('p', 'http://www.wikidata.org/prop/direct/P3222'), ('pname', 'NE.se ID'), ('o', 'pahlavi-(dynastin)')]\n",
      "[('p', 'http://www.wikidata.org/prop/direct/P36'), ('pname', 'capital'), ('o', 'http://www.wikidata.org/entity/Q3616')]\n",
      "[('p', 'http://www.wikidata.org/prop/direct/P37'), ('pname', 'official language'), ('o', 'http://www.wikidata.org/entity/Q9168')]\n",
      "[('p', 'http://www.wikidata.org/prop/direct/P373'), ('pname', 'Commons category'), ('o', 'Pahlavi dynasty')]\n",
      "[('p', 'http://www.wikidata.org/prop/direct/P38'), ('pname', 'currency'), ('o', 'http://www.wikidata.org/entity/Q188608')]\n",
      "[('p', 'http://www.wikidata.org/prop/direct/P41'), ('pname', 'flag image'), ('o', 'http://commons.wikimedia.org/wiki/Special:FilePath/State%20flag%20of%20Iran%20%281964%E2%80%931980%29.svg')]\n",
      "[('p', 'http://www.wikidata.org/prop/direct/P4342'), ('pname', 'Store norske leksikon ID'), ('o', 'Pahlavi')]\n",
      "[('p', 'http://www.wikidata.org/prop/direct/P571'), ('pname', 'inception'), ('o', '1925-12-12T00:00:00Z')]\n",
      "[('p', 'http://www.wikidata.org/prop/direct/P576'), ('pname', 'dissolved, abolished or demolished date'), ('o', '1979-04-01T00:00:00Z')]\n",
      "[('p', 'http://www.wikidata.org/prop/direct/P646'), ('pname', 'Freebase ID'), ('o', '/m/01xv6t')]\n",
      "[('p', 'http://www.wikidata.org/prop/direct/P646'), ('pname', 'Freebase ID'), ('o', '/m/0gvt8ky')]\n",
      "[('p', 'http://www.wikidata.org/prop/direct/P85'), ('pname', 'anthem'), ('o', 'http://www.wikidata.org/entity/Q1334863')]\n",
      "[('p', 'http://www.wikidata.org/prop/direct/P8885'), ('pname', 'Namuwiki ID'), ('o', '팔라비 왕조')]\n",
      "[('p', 'http://www.wikidata.org/prop/direct/P910'), ('pname', \"topic's main category\"), ('o', 'http://www.wikidata.org/entity/Q7148545')]\n",
      "[('p', 'http://www.wikidata.org/prop/direct/P94'), ('pname', 'coat of arms image'), ('o', 'http://commons.wikimedia.org/wiki/Special:FilePath/Imperial%20Coat%20of%20Arms%20of%20Iran.svg')]\n"
     ]
    },
    {
     "data": {
      "text/plain": [
       "30"
      ]
     },
     "execution_count": 54,
     "metadata": {},
     "output_type": "execute_result"
    }
   ],
   "source": [
    "# [('monarchyname', 'Pahlavi Dynasty'), ('monarchy', 'http://www.wikidata.org/entity/Q207991'), \n",
    "#('countryname', 'Iran'), ('country', 'http://www.wikidata.org/entity/Q794')]\n",
    "queryString = \"\"\"\n",
    "SELECT DISTINCT ?p ?pname ?o\n",
    "WHERE { \n",
    "\n",
    "    wd:Q207991 ?p ?o .\n",
    "    # Labels\n",
    "    ?p <http://schema.org/name> ?pname .\n",
    "    #?o <http://schema.org/name> ?oname .\n",
    "    #FILTER regex(?pname, \"ww\", \"i\") \n",
    "} \n",
    "LIMIT 31\n",
    "\"\"\"\n",
    "\n",
    "print(\"Results\")\n",
    "run_query(queryString)"
   ]
  },
  {
   "cell_type": "code",
   "execution_count": 55,
   "id": "6e1f1348-5b04-4e43-a52c-30489e445ce8",
   "metadata": {},
   "outputs": [
    {
     "name": "stdout",
     "output_type": "stream",
     "text": [
      "Results\n",
      "[('p', 'http://www.wikidata.org/prop/direct/P1365'), ('pname', 'replaces'), ('oname', 'Qajar dynasty')]\n",
      "[('p', 'http://www.wikidata.org/prop/direct/P112'), ('pname', 'founded by'), ('oname', 'Reza Shah')]\n",
      "[('p', 'http://www.wikidata.org/prop/direct/P31'), ('pname', 'instance of'), ('oname', 'dynasty')]\n",
      "[('p', 'http://www.wikidata.org/prop/direct/P31'), ('pname', 'instance of'), ('oname', 'historical country')]\n",
      "[('p', 'http://www.wikidata.org/prop/direct/P36'), ('pname', 'capital'), ('oname', 'Tehran')]\n",
      "[('p', 'http://www.wikidata.org/prop/direct/P30'), ('pname', 'continent'), ('oname', 'Asia')]\n",
      "[('p', 'http://www.wikidata.org/prop/direct/P31'), ('pname', 'instance of'), ('oname', 'country')]\n",
      "[('p', 'http://www.wikidata.org/prop/direct/P122'), ('pname', 'basic form of government'), ('oname', 'monarchy')]\n",
      "[('p', 'http://www.wikidata.org/prop/direct/P1366'), ('pname', 'replaced by'), ('oname', 'Iran')]\n",
      "[('p', 'http://www.wikidata.org/prop/direct/P37'), ('pname', 'official language'), ('oname', 'Persian')]\n",
      "[('p', 'http://www.wikidata.org/prop/direct/P122'), ('pname', 'basic form of government'), ('oname', 'totalitarianism')]\n",
      "[('p', 'http://www.wikidata.org/prop/direct/P85'), ('pname', 'anthem'), ('oname', 'Imperial Anthem of Iran')]\n",
      "[('p', 'http://www.wikidata.org/prop/direct/P38'), ('pname', 'currency'), ('oname', 'Iranian rial')]\n",
      "[('p', 'http://www.wikidata.org/prop/direct/P910'), ('pname', \"topic's main category\"), ('oname', 'Category:Pahlavi dynasty')]\n"
     ]
    },
    {
     "data": {
      "text/plain": [
       "14"
      ]
     },
     "execution_count": 55,
     "metadata": {},
     "output_type": "execute_result"
    }
   ],
   "source": [
    "# [('monarchyname', 'Pahlavi Dynasty'), ('monarchy', 'http://www.wikidata.org/entity/Q207991'), \n",
    "#('countryname', 'Iran'), ('country', 'http://www.wikidata.org/entity/Q794')]\n",
    "queryString = \"\"\"\n",
    "SELECT DISTINCT ?p ?pname ?oname\n",
    "WHERE { \n",
    "\n",
    "    wd:Q207991 ?p ?o .\n",
    "    # Labels\n",
    "    ?p <http://schema.org/name> ?pname .\n",
    "    ?o <http://schema.org/name> ?oname .\n",
    "    #FILTER regex(?pname, \"ww\", \"i\") \n",
    "} \n",
    "LIMIT 31\n",
    "\"\"\"\n",
    "\n",
    "print(\"Results\")\n",
    "run_query(queryString)"
   ]
  },
  {
   "cell_type": "code",
   "execution_count": 56,
   "id": "0d5bbd78-d6d9-4718-bdaa-d8df2159f359",
   "metadata": {},
   "outputs": [
    {
     "name": "stdout",
     "output_type": "stream",
     "text": [
      "Results\n",
      "[('monarchy', 'http://www.wikidata.org/entity/Q139315'), ('continent', 'http://www.wikidata.org/entity/Q15'), ('monarchyname', 'Dʿmt'), ('continentname', 'Africa')]\n",
      "[('monarchy', 'http://www.wikidata.org/entity/Q688859'), ('continent', 'http://www.wikidata.org/entity/Q46'), ('monarchyname', 'Duchy of Bouillon'), ('continentname', 'Europe')]\n",
      "[('monarchy', 'http://www.wikidata.org/entity/Q2308237'), ('continent', 'http://www.wikidata.org/entity/Q48'), ('monarchyname', 'Ahom Kingdom'), ('continentname', 'Asia')]\n",
      "[('monarchy', 'http://www.wikidata.org/entity/Q6207845'), ('continent', 'http://www.wikidata.org/entity/Q48'), ('monarchyname', 'Jodhpur State'), ('continentname', 'Asia')]\n",
      "[('monarchy', 'http://www.wikidata.org/entity/Q1740533'), ('continent', 'http://www.wikidata.org/entity/Q5401'), ('monarchyname', 'Baku Khanate'), ('continentname', 'Eurasia')]\n",
      "[('monarchy', 'http://www.wikidata.org/entity/Q625380'), ('continent', 'http://www.wikidata.org/entity/Q46'), ('monarchyname', 'Eastern Hungarian Kingdom'), ('continentname', 'Europe')]\n",
      "[('monarchy', 'http://www.wikidata.org/entity/Q153080'), ('continent', 'http://www.wikidata.org/entity/Q46'), ('monarchyname', 'East Francia'), ('continentname', 'Europe')]\n",
      "[('monarchy', 'http://www.wikidata.org/entity/Q156418'), ('continent', 'http://www.wikidata.org/entity/Q538'), ('monarchyname', 'Kingdom of Hawaiʻi'), ('continentname', 'Insular Oceania')]\n",
      "[('monarchy', 'http://www.wikidata.org/entity/Q2719360'), ('continent', 'http://www.wikidata.org/entity/Q46'), ('monarchyname', 'Duchy of Luxembourg'), ('continentname', 'Europe')]\n",
      "[('monarchy', 'http://www.wikidata.org/entity/Q693980'), ('continent', 'http://www.wikidata.org/entity/Q46'), ('monarchyname', 'Duchy of Swabia'), ('continentname', 'Europe')]\n"
     ]
    },
    {
     "data": {
      "text/plain": [
       "10"
      ]
     },
     "execution_count": 56,
     "metadata": {},
     "output_type": "execute_result"
    }
   ],
   "source": [
    "# [('monarchyname', 'Pahlavi Dynasty'), ('monarchy', 'http://www.wikidata.org/entity/Q207991'), \n",
    "#('countryname', 'Iran'), ('country', 'http://www.wikidata.org/entity/Q794')]\n",
    "# [('p', 'http://www.wikidata.org/prop/direct/P30'), ('pname', 'continent')]\n",
    "# [('p', 'http://www.wikidata.org/prop/direct/P571'), ('pname', 'inception')]\n",
    "# [('p', 'http://www.wikidata.org/prop/direct/P36'), ('pname', 'capital')]\n",
    "# [('p', 'http://www.wikidata.org/prop/direct/P38'), ('pname', 'currency')]\n",
    "# [('p', 'http://www.wikidata.org/prop/direct/P31'), ('pname', 'instance of'), ('o', 'http://www.wikidata.org/entity/Q6256')]\n",
    "## DATE \n",
    "# [('p', 'http://www.wikidata.org/prop/direct/P31'), ('pname', 'instance of'), ('oname', 'historical country')] then below\n",
    "# [('p', 'http://www.wikidata.org/prop/direct/P8952'), ('o', 'http://www.wikidata.org/entity/P580'),\n",
    "#('pname', 'inappropriate property for this type'), ('oname', 'start time')]\n",
    "#[('p', 'http://www.wikidata.org/prop/direct/P8952'), ('o', 'http://www.wikidata.org/entity/P582'), \n",
    "#('pname', 'inappropriate property for this type'), ('oname', 'end time')]\n",
    "#[('p', 'http://www.wikidata.org/prop/direct/P1082'), ('pname', 'population'), ('o', '2437574')]\n",
    "\n",
    "queryString = \"\"\"\n",
    "SELECT DISTINCT *\n",
    "WHERE { \n",
    "    ?monarchy (wdt:P31|wdt:P122)/wdt:P279* wd:Q7269 . \n",
    "    ?monarchy wdt:P30 ?continent .\n",
    "    \n",
    "    # Labels\n",
    "\n",
    "    ?monarchy <http://schema.org/name> ?monarchyname .\n",
    "    ?continent <http://schema.org/name> ?continentname .\n",
    "\n",
    "    \n",
    "} \n",
    "LIMIT 10\n",
    "\n",
    "\"\"\"\n",
    "\n",
    "print(\"Results\")\n",
    "run_query(queryString)"
   ]
  },
  {
   "cell_type": "code",
   "execution_count": 57,
   "id": "b9b7f57f-a324-4ae8-acd4-3503883af6fb",
   "metadata": {},
   "outputs": [
    {
     "name": "stdout",
     "output_type": "stream",
     "text": [
      "Results\n",
      "[('monarchy', 'http://www.wikidata.org/entity/Q156418'), ('continent', 'http://www.wikidata.org/entity/Q538'), ('inception', '1795-01-01T00:00:00Z'), ('capital', 'http://www.wikidata.org/entity/Q216258'), ('currency', 'http://www.wikidata.org/entity/Q4917'), ('population', '1217000'), ('monarchyname', 'Kingdom of Hawaiʻi'), ('continentname', 'Insular Oceania'), ('capitalname', 'Hilo'), ('currencyname', 'United States dollar')]\n",
      "[('monarchy', 'http://www.wikidata.org/entity/Q156418'), ('continent', 'http://www.wikidata.org/entity/Q538'), ('inception', '1795-01-01T00:00:00Z'), ('capital', 'http://www.wikidata.org/entity/Q216258'), ('currency', 'http://www.wikidata.org/entity/Q2328868'), ('population', '1217000'), ('monarchyname', 'Kingdom of Hawaiʻi'), ('continentname', 'Insular Oceania'), ('capitalname', 'Hilo'), ('currencyname', 'Hawaiian dollar')]\n",
      "[('monarchy', 'http://www.wikidata.org/entity/Q156418'), ('continent', 'http://www.wikidata.org/entity/Q538'), ('inception', '1795-01-01T00:00:00Z'), ('capital', 'http://www.wikidata.org/entity/Q18094'), ('currency', 'http://www.wikidata.org/entity/Q4917'), ('population', '1217000'), ('monarchyname', 'Kingdom of Hawaiʻi'), ('continentname', 'Insular Oceania'), ('capitalname', 'Honolulu'), ('currencyname', 'United States dollar')]\n",
      "[('monarchy', 'http://www.wikidata.org/entity/Q156418'), ('continent', 'http://www.wikidata.org/entity/Q538'), ('inception', '1795-01-01T00:00:00Z'), ('capital', 'http://www.wikidata.org/entity/Q18094'), ('currency', 'http://www.wikidata.org/entity/Q2328868'), ('population', '1217000'), ('monarchyname', 'Kingdom of Hawaiʻi'), ('continentname', 'Insular Oceania'), ('capitalname', 'Honolulu'), ('currencyname', 'Hawaiian dollar')]\n",
      "[('monarchy', 'http://www.wikidata.org/entity/Q156418'), ('continent', 'http://www.wikidata.org/entity/Q538'), ('inception', '1795-01-01T00:00:00Z'), ('capital', 'http://www.wikidata.org/entity/Q1012971'), ('currency', 'http://www.wikidata.org/entity/Q4917'), ('population', '1217000'), ('monarchyname', 'Kingdom of Hawaiʻi'), ('continentname', 'Insular Oceania'), ('capitalname', 'Lahaina'), ('currencyname', 'United States dollar')]\n",
      "[('monarchy', 'http://www.wikidata.org/entity/Q156418'), ('continent', 'http://www.wikidata.org/entity/Q538'), ('inception', '1795-01-01T00:00:00Z'), ('capital', 'http://www.wikidata.org/entity/Q1012971'), ('currency', 'http://www.wikidata.org/entity/Q2328868'), ('population', '1217000'), ('monarchyname', 'Kingdom of Hawaiʻi'), ('continentname', 'Insular Oceania'), ('capitalname', 'Lahaina'), ('currencyname', 'Hawaiian dollar')]\n",
      "[('monarchy', 'http://www.wikidata.org/entity/Q156418'), ('continent', 'http://www.wikidata.org/entity/Q538'), ('inception', '1795-01-01T00:00:00Z'), ('capital', 'http://www.wikidata.org/entity/Q254861'), ('currency', 'http://www.wikidata.org/entity/Q4917'), ('population', '1217000'), ('monarchyname', 'Kingdom of Hawaiʻi'), ('continentname', 'Insular Oceania'), ('capitalname', 'Waikiki'), ('currencyname', 'United States dollar')]\n",
      "[('monarchy', 'http://www.wikidata.org/entity/Q156418'), ('continent', 'http://www.wikidata.org/entity/Q538'), ('inception', '1795-01-01T00:00:00Z'), ('capital', 'http://www.wikidata.org/entity/Q254861'), ('currency', 'http://www.wikidata.org/entity/Q2328868'), ('population', '1217000'), ('monarchyname', 'Kingdom of Hawaiʻi'), ('continentname', 'Insular Oceania'), ('capitalname', 'Waikiki'), ('currencyname', 'Hawaiian dollar')]\n",
      "[('monarchy', 'http://www.wikidata.org/entity/Q156418'), ('continent', 'http://www.wikidata.org/entity/Q538'), ('inception', '1795-01-01T00:00:00Z'), ('capital', 'http://www.wikidata.org/entity/Q627970'), ('currency', 'http://www.wikidata.org/entity/Q4917'), ('population', '1217000'), ('monarchyname', 'Kingdom of Hawaiʻi'), ('continentname', 'Insular Oceania'), ('capitalname', 'Kailua'), ('currencyname', 'United States dollar')]\n",
      "[('monarchy', 'http://www.wikidata.org/entity/Q156418'), ('continent', 'http://www.wikidata.org/entity/Q538'), ('inception', '1795-01-01T00:00:00Z'), ('capital', 'http://www.wikidata.org/entity/Q627970'), ('currency', 'http://www.wikidata.org/entity/Q2328868'), ('population', '1217000'), ('monarchyname', 'Kingdom of Hawaiʻi'), ('continentname', 'Insular Oceania'), ('capitalname', 'Kailua'), ('currencyname', 'Hawaiian dollar')]\n"
     ]
    },
    {
     "data": {
      "text/plain": [
       "10"
      ]
     },
     "execution_count": 57,
     "metadata": {},
     "output_type": "execute_result"
    }
   ],
   "source": [
    "# [('monarchyname', 'Pahlavi Dynasty'), ('monarchy', 'http://www.wikidata.org/entity/Q207991'), \n",
    "#('countryname', 'Iran'), ('country', 'http://www.wikidata.org/entity/Q794')]\n",
    "\n",
    "# [('p', 'http://www.wikidata.org/prop/direct/P31'), ('pname', 'instance of'), ('o', 'http://www.wikidata.org/entity/Q6256')]\n",
    "## DATE \n",
    "# [('p', 'http://www.wikidata.org/prop/direct/P31'), ('pname', 'instance of'), ('oname', 'historical country')] then below\n",
    "# [('p', 'http://www.wikidata.org/prop/direct/P8952'), ('o', 'http://www.wikidata.org/entity/P580'),\n",
    "#('pname', 'inappropriate property for this type'), ('oname', 'start time')]\n",
    "#[('p', 'http://www.wikidata.org/prop/direct/P8952'), ('o', 'http://www.wikidata.org/entity/P582'), \n",
    "#('pname', 'inappropriate property for this type'), ('oname', 'end time')]\n",
    "\n",
    "\n",
    "queryString = \"\"\"\n",
    "SELECT DISTINCT *\n",
    "WHERE { \n",
    "    ?monarchy (wdt:P31|wdt:P122)/wdt:P279* wd:Q7269 . \n",
    "    ?monarchy wdt:P30 ?continent ;\n",
    "               wdt:P571 ?inception ;\n",
    "               wdt:P36 ?capital ;\n",
    "               wdt:P38 ?currency ;\n",
    "               wdt:P1082 ?population .\n",
    "               \n",
    "               \n",
    "    \n",
    "    # Labels\n",
    "\n",
    "    ?monarchy <http://schema.org/name> ?monarchyname .\n",
    "    ?continent <http://schema.org/name> ?continentname .\n",
    "    ?capital <http://schema.org/name> ?capitalname .\n",
    "    ?currency <http://schema.org/name> ?currencyname .\n",
    "\n",
    "\n",
    "    \n",
    "} \n",
    "LIMIT 10\n",
    "\"\"\"\n",
    "\n",
    "print(\"Results\")\n",
    "run_query(queryString)"
   ]
  },
  {
   "cell_type": "code",
   "execution_count": 58,
   "id": "dc9faa29-75b5-4acb-989c-09eb9ce51a09",
   "metadata": {},
   "outputs": [
    {
     "name": "stdout",
     "output_type": "stream",
     "text": [
      "Results\n",
      "[('monarchy', 'http://www.wikidata.org/entity/Q156418'), ('continent', 'http://www.wikidata.org/entity/Q538'), ('inception', '1795-01-01T00:00:00Z'), ('capital', 'http://www.wikidata.org/entity/Q216258'), ('currency', 'http://www.wikidata.org/entity/Q4917'), ('population', '1217000'), ('historicalcountry', 'http://www.wikidata.org/entity/Q3024240'), ('monarchyname', 'Kingdom of Hawaiʻi'), ('continentname', 'Insular Oceania'), ('capitalname', 'Hilo'), ('currencyname', 'United States dollar')]\n"
     ]
    },
    {
     "data": {
      "text/plain": [
       "1"
      ]
     },
     "execution_count": 58,
     "metadata": {},
     "output_type": "execute_result"
    }
   ],
   "source": [
    "# [('monarchyname', 'Pahlavi Dynasty'), ('monarchy', 'http://www.wikidata.org/entity/Q207991'), \n",
    "#('countryname', 'Iran'), ('country', 'http://www.wikidata.org/entity/Q794')]\n",
    "\n",
    "# [('p', 'http://www.wikidata.org/prop/direct/P31'), ('pname', 'instance of'), ('o', 'http://www.wikidata.org/entity/Q6256')]\n",
    "## DATE \n",
    "# [('p', 'http://www.wikidata.org/prop/direct/P31'), ('pname', 'instance of'), ('oname', 'historical country')] then below\n",
    "# [('p', 'http://www.wikidata.org/prop/direct/P8952'), ('o', 'http://www.wikidata.org/entity/P580'),\n",
    "#('pname', 'inappropriate property for this type'), ('oname', 'start time')]\n",
    "#[('p', 'http://www.wikidata.org/prop/direct/P8952'), ('o', 'http://www.wikidata.org/entity/P582'), \n",
    "#('pname', 'inappropriate property for this type'), ('oname', 'end time')]\n",
    "\n",
    "\n",
    "queryString = \"\"\"\n",
    "SELECT DISTINCT *\n",
    "WHERE { \n",
    "    ?monarchy (wdt:P31|wdt:P122)/wdt:P279* wd:Q7269 . \n",
    "    ?monarchy wdt:P30 ?continent ;\n",
    "               wdt:P571 ?inception ;\n",
    "               wdt:P36 ?capital ;\n",
    "               wdt:P38 ?currency ;\n",
    "               wdt:P1082 ?population .\n",
    "    ?monarchy wdt:P31 ?historicalcountry .\n",
    "\n",
    "\n",
    "               \n",
    "               \n",
    "    \n",
    "    # Labels\n",
    "\n",
    "    ?monarchy <http://schema.org/name> ?monarchyname .\n",
    "    ?continent <http://schema.org/name> ?continentname .\n",
    "    ?capital <http://schema.org/name> ?capitalname .\n",
    "    ?currency <http://schema.org/name> ?currencyname .\n",
    "\n",
    "\n",
    "\n",
    "    \n",
    "} \n",
    "LIMIT 1\n",
    "\"\"\"\n",
    "\n",
    "print(\"Results\")\n",
    "run_query(queryString)"
   ]
  },
  {
   "cell_type": "code",
   "execution_count": 59,
   "id": "0990b581-5593-4ee6-9b7c-347cd45232e2",
   "metadata": {},
   "outputs": [
    {
     "name": "stdout",
     "output_type": "stream",
     "text": [
      "Results\n",
      "[('monarchyname', 'Kingdom of Dalmatia'), ('population', '645666'), ('inception', '1815-06-22T00:00:00Z'), ('currencyname', 'Austro-Hungarian gulden'), ('capitalname', 'Zadar'), ('capital', 'http://www.wikidata.org/entity/Q3370')]\n"
     ]
    },
    {
     "data": {
      "text/plain": [
       "1"
      ]
     },
     "execution_count": 59,
     "metadata": {},
     "output_type": "execute_result"
    }
   ],
   "source": [
    "queryString = \"\"\"\n",
    "SELECT DISTINCT ?monarchyname ?population ?inception ?currencyname ?capitalname ?capital\n",
    "WHERE { \n",
    "    ?monarchy (wdt:P31|wdt:P122)/wdt:P279* wd:Q7269 . \n",
    "    ?monarchy wdt:P30 ?continent ;\n",
    "               wdt:P571 ?inception ;\n",
    "               wdt:P36 ?capital ;\n",
    "               wdt:P38 ?currency ;\n",
    "               wdt:P1082 ?population .\n",
    "   # ?monarchy wdt:P1366 ?replacedby .\n",
    "   # ?replacedby wdt:P17 ?country .\n",
    "    ?monarchy wdt:P31 ?historicalcountry .\n",
    "    ?historicalcountry wdt:P17 ?country .\n",
    "\n",
    "               \n",
    "               \n",
    "    \n",
    "    # Labels\n",
    "\n",
    "    ?monarchy <http://schema.org/name> ?monarchyname .\n",
    "    ?continent <http://schema.org/name> ?continentname .\n",
    "    ?capital <http://schema.org/name> ?capitalname .\n",
    "    ?currency <http://schema.org/name> ?currencyname .\n",
    "    #?country <http://schema.org/name> ?countryname .\n",
    "\n",
    "\n",
    "    \n",
    "} \n",
    "LIMIT 1\n",
    "\"\"\"\n",
    "\n",
    "print(\"Results\")\n",
    "run_query(queryString)"
   ]
  },
  {
   "cell_type": "code",
   "execution_count": 60,
   "id": "ef2f620b-c9d3-4ae1-94f6-30e8542f21fc",
   "metadata": {},
   "outputs": [
    {
     "name": "stdout",
     "output_type": "stream",
     "text": [
      "Results\n",
      "[('o', 'http://www.wikidata.org/entity/Q224'), ('oname', 'Croatia')]\n"
     ]
    },
    {
     "data": {
      "text/plain": [
       "1"
      ]
     },
     "execution_count": 60,
     "metadata": {},
     "output_type": "execute_result"
    }
   ],
   "source": [
    "# where is the country that every capital is located?\n",
    "queryString = \"\"\"\n",
    "SELECT *\n",
    "WHERE { \n",
    "\n",
    "    wd:Q3370 wdt:P17 ?o .\n",
    "    # Labels\n",
    "    #?p <http://schema.org/name> ?pname .\n",
    "    ?o <http://schema.org/name> ?oname .\n",
    "    #FILTER regex(?pname, \"ww\", \"i\") \n",
    "} \n",
    "LIMIT 20\n",
    "\"\"\"\n",
    "\n",
    "print(\"Results\")\n",
    "run_query(queryString)"
   ]
  },
  {
   "cell_type": "markdown",
   "id": "958376db-8e22-444f-a60b-8573eecda86a",
   "metadata": {
    "tags": []
   },
   "source": [
    "## Identify the BGP for obtaining statistical information of monarchies, e.g., poluation or inception date"
   ]
  },
  {
   "cell_type": "code",
   "execution_count": 61,
   "id": "3b529449-6dd2-49db-aa0a-cf326a3dc2f6",
   "metadata": {},
   "outputs": [
    {
     "name": "stdout",
     "output_type": "stream",
     "text": [
      "Results\n",
      "[('monarchyname', 'Byzantine Empire'), ('population', '17000000'), ('inception', '0395-01-18T00:00:00Z'), ('currencyname', 'Byzantine coinage'), ('capitalname', 'Syracuse'), ('capitallocationname', 'Italy')]\n",
      "[('monarchyname', 'Byzantine Empire'), ('population', '17000000'), ('inception', '0395-01-18T00:00:00Z'), ('currencyname', 'ducat'), ('capitalname', 'Syracuse'), ('capitallocationname', 'Italy')]\n",
      "[('monarchyname', 'Byzantine Empire'), ('population', '17000000'), ('inception', '0395-01-18T00:00:00Z'), ('currencyname', 'solidus'), ('capitalname', 'Syracuse'), ('capitallocationname', 'Italy')]\n",
      "[('monarchyname', 'Byzantine Empire'), ('population', '17000000'), ('inception', '0395-01-18T00:00:00Z'), ('currencyname', 'Byzantine coinage'), ('capitalname', 'Constantinople'), ('capitallocationname', 'Roman Empire')]\n",
      "[('monarchyname', 'Byzantine Empire'), ('population', '17000000'), ('inception', '0395-01-18T00:00:00Z'), ('currencyname', 'Byzantine coinage'), ('capitalname', 'Constantinople'), ('capitallocationname', 'Byzantine Empire')]\n",
      "[('monarchyname', 'Byzantine Empire'), ('population', '17000000'), ('inception', '0395-01-18T00:00:00Z'), ('currencyname', 'Byzantine coinage'), ('capitalname', 'Constantinople'), ('capitallocationname', 'Ottoman Empire')]\n",
      "[('monarchyname', 'Byzantine Empire'), ('population', '17000000'), ('inception', '0395-01-18T00:00:00Z'), ('currencyname', 'Byzantine coinage'), ('capitalname', 'Constantinople'), ('capitallocationname', 'Latin Empire')]\n",
      "[('monarchyname', 'Byzantine Empire'), ('population', '17000000'), ('inception', '0395-01-18T00:00:00Z'), ('currencyname', 'ducat'), ('capitalname', 'Constantinople'), ('capitallocationname', 'Roman Empire')]\n",
      "[('monarchyname', 'Byzantine Empire'), ('population', '17000000'), ('inception', '0395-01-18T00:00:00Z'), ('currencyname', 'ducat'), ('capitalname', 'Constantinople'), ('capitallocationname', 'Byzantine Empire')]\n",
      "[('monarchyname', 'Byzantine Empire'), ('population', '17000000'), ('inception', '0395-01-18T00:00:00Z'), ('currencyname', 'ducat'), ('capitalname', 'Constantinople'), ('capitallocationname', 'Ottoman Empire')]\n"
     ]
    },
    {
     "data": {
      "text/plain": [
       "10"
      ]
     },
     "execution_count": 61,
     "metadata": {},
     "output_type": "execute_result"
    }
   ],
   "source": [
    "queryString = \"\"\"\n",
    "SELECT ?monarchyname ?population ?inception ?currencyname ?capitalname ?capitallocationname\n",
    "WHERE { \n",
    "    ?monarchy (wdt:P31|wdt:P122)/wdt:P279* wd:Q7269 . \n",
    "    ?monarchy wdt:P30 ?continent ;\n",
    "               wdt:P571 ?inception ;\n",
    "               wdt:P36 ?capital ;\n",
    "               wdt:P38 ?currency ;\n",
    "               wdt:P1082 ?population .\n",
    "    ?capital wdt:P17 ?capitallocation .\n",
    "  \n",
    "    # Labels\n",
    "\n",
    "    ?monarchy <http://schema.org/name> ?monarchyname .\n",
    "    ?continent <http://schema.org/name> ?continentname .\n",
    "    ?capital <http://schema.org/name> ?capitalname .\n",
    "    ?currency <http://schema.org/name> ?currencyname .\n",
    "    ?capitallocation <http://schema.org/name> ?capitallocationname .\n",
    "\n",
    "} \n",
    "ORDER BY ASC(?inception)\n",
    "LIMIT 10\n",
    "\"\"\"\n",
    "\n",
    "print(\"Results\")\n",
    "run_query(queryString)"
   ]
  },
  {
   "cell_type": "markdown",
   "id": "09e11f50-2a7d-4b50-a512-535f3b6de620",
   "metadata": {},
   "source": [
    "## How many monarchies have used dollar and euro as a currency. "
   ]
  },
  {
   "cell_type": "code",
   "execution_count": 62,
   "id": "7287f1b2-a13a-43e0-b14f-eb43fc8f54d5",
   "metadata": {},
   "outputs": [
    {
     "name": "stdout",
     "output_type": "stream",
     "text": [
      "Results\n",
      "[('countcurrency', '27')]\n"
     ]
    },
    {
     "data": {
      "text/plain": [
       "1"
      ]
     },
     "execution_count": 62,
     "metadata": {},
     "output_type": "execute_result"
    }
   ],
   "source": [
    "queryString = \"\"\"\n",
    "SELECT (COUNT(DISTINCT ?monarchyname) AS ?countcurrency)\n",
    "WHERE { \n",
    "    ?monarchy (wdt:P31|wdt:P122)/wdt:P279* wd:Q7269 . \n",
    "    ?monarchy wdt:P30 ?continent ;\n",
    "               wdt:P571 ?inception ;\n",
    "               wdt:P36 ?capital ;\n",
    "               wdt:P38 ?currency ;\n",
    "               wdt:P1082 ?population .\n",
    "    ?capital wdt:P17 ?capitallocation .\n",
    "  \n",
    "    # Labels\n",
    "\n",
    "    ?monarchy <http://schema.org/name> ?monarchyname .\n",
    "#    ?continent <http://schema.org/name> ?continentname .\n",
    "#    ?capital <http://schema.org/name> ?capitalname .\n",
    "    ?currency <http://schema.org/name> ?currencyname .\n",
    "#    ?capitallocation <http://schema.org/name> ?capitallocationname .\n",
    "    FILTER(REGEX(STR(?currencyname), \"[Dd][ollar]\")) \n",
    "\n",
    "\n",
    "} \n",
    "\n",
    "LIMIT 10\n",
    "\"\"\"\n",
    "\n",
    "print(\"Results\")\n",
    "run_query(queryString)"
   ]
  },
  {
   "cell_type": "code",
   "execution_count": 63,
   "id": "5da5b270-f44f-4d18-ae8e-1c2a4f3d1a5f",
   "metadata": {},
   "outputs": [
    {
     "name": "stdout",
     "output_type": "stream",
     "text": [
      "Results\n",
      "[('monarchyname', 'Kingdom of Hawaiʻi'), ('currencyname', 'United States dollar')]\n",
      "[('monarchyname', 'Kingdom of Hawaiʻi'), ('currencyname', 'United States dollar')]\n",
      "[('monarchyname', 'Kingdom of Hawaiʻi'), ('currencyname', 'Hawaiian dollar')]\n",
      "[('monarchyname', 'Kingdom of Hawaiʻi'), ('currencyname', 'Hawaiian dollar')]\n",
      "[('monarchyname', 'Kingdom of Hawaiʻi'), ('currencyname', 'United States dollar')]\n",
      "[('monarchyname', 'Kingdom of Hawaiʻi'), ('currencyname', 'United States dollar')]\n",
      "[('monarchyname', 'Kingdom of Hawaiʻi'), ('currencyname', 'Hawaiian dollar')]\n",
      "[('monarchyname', 'Kingdom of Hawaiʻi'), ('currencyname', 'Hawaiian dollar')]\n",
      "[('monarchyname', 'Kingdom of Hawaiʻi'), ('currencyname', 'United States dollar')]\n",
      "[('monarchyname', 'Kingdom of Hawaiʻi'), ('currencyname', 'United States dollar')]\n"
     ]
    },
    {
     "data": {
      "text/plain": [
       "10"
      ]
     },
     "execution_count": 63,
     "metadata": {},
     "output_type": "execute_result"
    }
   ],
   "source": [
    "queryString = \"\"\"\n",
    "SELECT ?monarchyname ?currencyname \n",
    "WHERE { \n",
    "    ?monarchy (wdt:P31|wdt:P122)/wdt:P279* wd:Q7269 . \n",
    "    ?monarchy wdt:P30 ?continent ;\n",
    "               wdt:P571 ?inception ;\n",
    "               wdt:P36 ?capital ;\n",
    "               wdt:P38 ?currency ;\n",
    "               wdt:P1082 ?population .\n",
    "    ?capital wdt:P17 ?capitallocation .\n",
    "  \n",
    "    # Labels\n",
    "\n",
    "    ?monarchy <http://schema.org/name> ?monarchyname .\n",
    "#    ?continent <http://schema.org/name> ?continentname .\n",
    "#    ?capital <http://schema.org/name> ?capitalname .\n",
    "    ?currency <http://schema.org/name> ?currencyname .\n",
    "#    ?capitallocation <http://schema.org/name> ?capitallocationname .\n",
    "    FILTER(REGEX(STR(?currencyname), \"[Dd][ollar]\")) \n",
    "\n",
    "\n",
    "} \n",
    "\n",
    "LIMIT 10\n",
    "\"\"\"\n",
    "\n",
    "print(\"Results\")\n",
    "run_query(queryString)"
   ]
  },
  {
   "cell_type": "code",
   "execution_count": 64,
   "id": "e8c702d8-a4d2-4291-962f-67bab52c5891",
   "metadata": {},
   "outputs": [
    {
     "name": "stdout",
     "output_type": "stream",
     "text": [
      "Results\n",
      "[('countcurrency', '47')]\n"
     ]
    },
    {
     "data": {
      "text/plain": [
       "1"
      ]
     },
     "execution_count": 64,
     "metadata": {},
     "output_type": "execute_result"
    }
   ],
   "source": [
    "queryString = \"\"\"\n",
    "SELECT (COUNT(?monarchyname) AS ?countcurrency)\n",
    "WHERE { \n",
    "    ?monarchy (wdt:P31|wdt:P122)/wdt:P279* wd:Q7269 . \n",
    "    ?monarchy wdt:P38 ?currency .\n",
    "  \n",
    "    # Labels\n",
    "\n",
    "    ?monarchy <http://schema.org/name> ?monarchyname .\n",
    "    ?currency <http://schema.org/name> ?currencyname .\n",
    "    FILTER regex(?currencyname, \"dollar\", \"i\") \n",
    "\n",
    "\n",
    "} \n",
    "\n",
    "LIMIT 10\n",
    "\"\"\"\n",
    "\n",
    "print(\"Results\")\n",
    "run_query(queryString)"
   ]
  },
  {
   "cell_type": "code",
   "execution_count": 65,
   "id": "7663b7ea-5760-49ea-9ec5-cfe7f58385da",
   "metadata": {},
   "outputs": [
    {
     "name": "stdout",
     "output_type": "stream",
     "text": [
      "Results\n",
      "[('monarchyname', 'Kingdom of Hawaiʻi'), ('currencyname', 'United States dollar')]\n",
      "[('monarchyname', 'Kingdom of Hawaiʻi'), ('currencyname', 'Hawaiian dollar')]\n",
      "[('monarchyname', 'Islands of Refreshment'), ('currencyname', 'spanish dollar')]\n",
      "[('monarchyname', 'Malayan Union'), ('currencyname', 'Malayan dollar')]\n",
      "[('monarchyname', 'Rhodesia'), ('currencyname', 'Rhodesian dollar')]\n",
      "[('monarchyname', 'Canada'), ('currencyname', 'Canadian dollar')]\n",
      "[('monarchyname', 'Belize'), ('currencyname', 'Belize dollar')]\n",
      "[('monarchyname', 'Dominion of Newfoundland'), ('currencyname', 'Newfoundland dollar')]\n",
      "[('monarchyname', 'Australia'), ('currencyname', 'Australian dollar')]\n",
      "[('monarchyname', 'New Zealand'), ('currencyname', 'New Zealand dollar')]\n",
      "[('monarchyname', 'Saint Vincent and the Grenadines'), ('currencyname', 'Eastern Caribbean dollar')]\n",
      "[('monarchyname', 'Saint Lucia'), ('currencyname', 'Eastern Caribbean dollar')]\n",
      "[('monarchyname', 'Saint Kitts and Nevis'), ('currencyname', 'Eastern Caribbean dollar')]\n",
      "[('monarchyname', 'The Bahamas'), ('currencyname', 'Bahamian dollar')]\n",
      "[('monarchyname', 'Spanish Empire'), ('currencyname', 'spanish dollar')]\n",
      "[('monarchyname', 'Brunei'), ('currencyname', 'Brunei dollar')]\n",
      "[('monarchyname', 'Saskatchewan'), ('currencyname', 'Canadian dollar')]\n",
      "[('monarchyname', 'Dominion of Fiji'), ('currencyname', 'Fijian dollar')]\n",
      "[('monarchyname', 'Captaincy General of the Philippines'), ('currencyname', 'spanish dollar')]\n",
      "[('monarchyname', 'Malaya'), ('currencyname', 'Malaya and British Borneo dollar')]\n",
      "[('monarchyname', 'Raj of Sarawak'), ('currencyname', 'Sarawak dollar')]\n",
      "[('monarchyname', 'Saint Christopher-Nevis-Anguilla'), ('currencyname', 'Eastern Caribbean dollar')]\n",
      "[('monarchyname', 'British Solomon Islands'), ('currencyname', 'Solomon Islands dollar')]\n",
      "[('monarchyname', 'British Solomon Islands'), ('currencyname', 'Australian dollar')]\n",
      "[('monarchyname', 'West Indies Federation'), ('currencyname', 'British West Indies dollar')]\n",
      "[('monarchyname', 'Commonwealth realm of Guyana'), ('currencyname', 'Guyanese dollar')]\n",
      "[('monarchyname', 'Bogd Khanate'), ('currencyname', 'Mongolian dollar')]\n",
      "[('monarchyname', 'Barbados'), ('currencyname', 'Barbadian dollar')]\n",
      "[('monarchyname', 'Tuvalu'), ('currencyname', 'Tuvaluan dollar')]\n",
      "[('monarchyname', 'Tuvalu'), ('currencyname', 'Australian dollar')]\n",
      "[('monarchyname', 'Solomon Islands'), ('currencyname', 'Solomon Islands dollar')]\n",
      "[('monarchyname', 'Jamaica'), ('currencyname', 'Jamaican dollar')]\n",
      "[('monarchyname', 'Grenada'), ('currencyname', 'Eastern Caribbean dollar')]\n",
      "[('monarchyname', 'Antigua and Barbuda'), ('currencyname', 'Eastern Caribbean dollar')]\n"
     ]
    },
    {
     "data": {
      "text/plain": [
       "34"
      ]
     },
     "execution_count": 65,
     "metadata": {},
     "output_type": "execute_result"
    }
   ],
   "source": [
    "queryString = \"\"\"\n",
    "SELECT DISTINCT ?monarchyname ?currencyname\n",
    "WHERE { \n",
    "    ?monarchy (wdt:P31|wdt:P122)/wdt:P279* wd:Q7269 . \n",
    "    ?monarchy wdt:P38 ?currency .\n",
    "  \n",
    "    # Labels\n",
    "\n",
    "    ?monarchy <http://schema.org/name> ?monarchyname .\n",
    "    ?currency <http://schema.org/name> ?currencyname .\n",
    "    FILTER regex(?currencyname, \"dollar\", \"i\") \n",
    "\n",
    "\n",
    "} \n",
    "\n",
    "LIMIT 40\n",
    "\"\"\"\n",
    "\n",
    "print(\"Results\")\n",
    "run_query(queryString)"
   ]
  },
  {
   "cell_type": "code",
   "execution_count": 66,
   "id": "d2848991-1d9c-45f4-ab67-24ba292cea9c",
   "metadata": {},
   "outputs": [
    {
     "name": "stdout",
     "output_type": "stream",
     "text": [
      "Results\n",
      "[('monarchyname', 'Kingdom of the Netherlands'), ('currencyname', 'euro'), ('inception', '1815-03-16T00:00:00Z'), ('capitalname', 'Amsterdam'), ('capitallocationname', 'Netherlands')]\n",
      "[('monarchyname', 'Spain'), ('currencyname', 'euro'), ('inception', '1479-01-01T00:00:00Z'), ('capitalname', 'Madrid'), ('capitallocationname', 'Spain')]\n",
      "[('monarchyname', 'Netherlands'), ('currencyname', 'euro'), ('inception', '1954-12-15T00:00:00Z'), ('capitalname', 'Amsterdam'), ('capitallocationname', 'Kingdom of the Netherlands')]\n",
      "[('monarchyname', 'Monaco'), ('currencyname', 'euro'), ('inception', '1297-01-15T00:00:00Z'), ('capitalname', 'Monaco City'), ('capitallocationname', 'Monaco')]\n",
      "[('monarchyname', 'Belgium'), ('currencyname', 'euro'), ('inception', '1830-10-04T00:00:00Z'), ('capitalname', 'City of Brussels'), ('capitallocationname', 'Belgium')]\n",
      "[('monarchyname', 'Kingdom of the Netherlands'), ('currencyname', 'euro'), ('inception', '1815-03-16T00:00:00Z'), ('capitalname', 'Amsterdam'), ('capitallocationname', 'Kingdom of the Netherlands')]\n",
      "[('monarchyname', 'Andorra'), ('currencyname', 'euro'), ('inception', '1278-01-01T00:00:00Z'), ('capitalname', 'Andorra la Vella'), ('capitallocationname', 'Andorra')]\n",
      "[('monarchyname', 'Luxembourg'), ('currencyname', 'euro'), ('inception', '1815-01-01T00:00:00Z'), ('capitalname', 'Luxembourg'), ('capitallocationname', 'Luxembourg')]\n",
      "[('monarchyname', 'Netherlands'), ('currencyname', 'euro'), ('inception', '1954-12-15T00:00:00Z'), ('capitalname', 'Amsterdam'), ('capitallocationname', 'Netherlands')]\n"
     ]
    },
    {
     "data": {
      "text/plain": [
       "9"
      ]
     },
     "execution_count": 66,
     "metadata": {},
     "output_type": "execute_result"
    }
   ],
   "source": [
    "queryString = \"\"\"\n",
    "SELECT DISTINCT ?monarchyname ?currencyname ?inception ?capitalname ?capitallocationname\n",
    "WHERE { \n",
    "    ?monarchy (wdt:P31|wdt:P122)/wdt:P279* wd:Q7269 . \n",
    "    ?monarchy wdt:P38 ?currency ;\n",
    "               wdt:P571 ?inception ;\n",
    "               wdt:P36 ?capital ;\n",
    "               wdt:P1082 ?population .\n",
    "    ?capital wdt:P17 ?capitallocation .\n",
    "  \n",
    "    # Labels\n",
    "    ?monarchy <http://schema.org/name> ?monarchyname .\n",
    "    ?continent <http://schema.org/name> ?continentname .\n",
    "    ?capital <http://schema.org/name> ?capitalname .\n",
    "    ?currency <http://schema.org/name> ?currencyname .\n",
    "    ?capitallocation <http://schema.org/name> ?capitallocationname .\n",
    "\n",
    "    FILTER regex(?currencyname, \"euro\", \"i\") \n",
    "\n",
    "\n",
    "} \n",
    "\n",
    "LIMIT 40\n",
    "\"\"\"\n",
    "\n",
    "print(\"Results\")\n",
    "run_query(queryString)"
   ]
  },
  {
   "cell_type": "code",
   "execution_count": 67,
   "id": "83559693-37ce-41cd-84f1-92f94978610c",
   "metadata": {},
   "outputs": [
    {
     "name": "stdout",
     "output_type": "stream",
     "text": [
      "Results\n",
      "[('monarchyname', 'Andorra'), ('monarchy', 'http://www.wikidata.org/entity/Q228'), ('currencyname', 'euro')]\n",
      "[('monarchyname', 'Monaco'), ('monarchy', 'http://www.wikidata.org/entity/Q235'), ('currencyname', 'euro')]\n",
      "[('monarchyname', 'Vatican City'), ('monarchy', 'http://www.wikidata.org/entity/Q237'), ('currencyname', 'euro')]\n",
      "[('monarchyname', 'Spain'), ('monarchy', 'http://www.wikidata.org/entity/Q29'), ('currencyname', 'euro')]\n",
      "[('monarchyname', 'Kingdom of the Netherlands'), ('monarchy', 'http://www.wikidata.org/entity/Q29999'), ('currencyname', 'euro')]\n",
      "[('monarchyname', 'Belgium'), ('monarchy', 'http://www.wikidata.org/entity/Q31'), ('currencyname', 'euro')]\n",
      "[('monarchyname', 'Luxembourg'), ('monarchy', 'http://www.wikidata.org/entity/Q32'), ('currencyname', 'euro')]\n",
      "[('monarchyname', 'Netherlands'), ('monarchy', 'http://www.wikidata.org/entity/Q55'), ('currencyname', 'euro')]\n",
      "[('monarchyname', 'Gay and Lesbian Kingdom of the Coral Sea Islands'), ('monarchy', 'http://www.wikidata.org/entity/Q1423680'), ('currencyname', 'euro')]\n"
     ]
    },
    {
     "data": {
      "text/plain": [
       "9"
      ]
     },
     "execution_count": 67,
     "metadata": {},
     "output_type": "execute_result"
    }
   ],
   "source": [
    "queryString = \"\"\"\n",
    "SELECT DISTINCT ?monarchyname ?monarchy ?currencyname\n",
    "WHERE { \n",
    "    ?monarchy (wdt:P31|wdt:P122)/wdt:P279* wd:Q7269 . \n",
    "    ?monarchy wdt:P38 ?currency .\n",
    "  \n",
    "    # Labels\n",
    "\n",
    "    ?monarchy <http://schema.org/name> ?monarchyname .\n",
    "    ?currency <http://schema.org/name> ?currencyname .\n",
    "    FILTER regex(?currencyname, \"euro\", \"i\") \n",
    "\n",
    "\n",
    "} \n",
    "\n",
    "LIMIT 40\n",
    "\"\"\"\n",
    "\n",
    "print(\"Results\")\n",
    "run_query(queryString)"
   ]
  },
  {
   "cell_type": "code",
   "execution_count": 68,
   "id": "c214e042-a380-4e62-9bda-92f508b84c62",
   "metadata": {},
   "outputs": [
    {
     "name": "stdout",
     "output_type": "stream",
     "text": [
      "Results\n",
      "[('p', 'http://www.wikidata.org/prop/direct/P1740'), ('o', 'http://www.wikidata.org/entity/Q19363033'), ('pname', 'category for films shot at this location')]\n",
      "[('p', 'http://www.wikidata.org/prop/direct/P1943'), ('o', 'http://commons.wikimedia.org/wiki/Special:FilePath/Andorra%20location%20map.svg'), ('pname', 'location map')]\n",
      "[('p', 'http://www.wikidata.org/prop/direct/P1944'), ('o', 'http://commons.wikimedia.org/wiki/Special:FilePath/Andorra%20relief%20location%20map.jpg'), ('pname', 'relief location map')]\n",
      "[('p', 'http://www.wikidata.org/prop/direct/P242'), ('o', 'http://commons.wikimedia.org/wiki/Special:FilePath/Andorra%20on%20the%20globe%20%28Europe%20centered%29.svg'), ('pname', 'locator map image')]\n",
      "[('p', 'http://www.wikidata.org/prop/direct/P242'), ('o', 'http://commons.wikimedia.org/wiki/Special:FilePath/Location%20Andorra%20Europe.png'), ('pname', 'locator map image')]\n",
      "[('p', 'http://www.wikidata.org/prop/direct/P242'), ('o', 'http://commons.wikimedia.org/wiki/Special:FilePath/LocationAndorra.svg'), ('pname', 'locator map image')]\n",
      "[('p', 'http://www.wikidata.org/prop/direct/P421'), ('o', 'http://www.wikidata.org/entity/Q25989'), ('pname', 'located in time zone')]\n",
      "[('p', 'http://www.wikidata.org/prop/direct/P421'), ('o', 'http://www.wikidata.org/entity/Q6655'), ('pname', 'located in time zone')]\n",
      "[('p', 'http://www.wikidata.org/prop/direct/P421'), ('o', 'http://www.wikidata.org/entity/Q6723'), ('pname', 'located in time zone')]\n",
      "[('p', 'http://www.wikidata.org/prop/direct/P421'), ('o', 'http://www.wikidata.org/entity/Q28148764'), ('pname', 'located in time zone')]\n",
      "[('p', 'http://www.wikidata.org/prop/direct/P4801'), ('o', 'countries/an'), ('pname', 'LoC and MARC vocabularies ID')]\n",
      "[('p', 'http://www.wikidata.org/prop/direct/P5573'), ('o', '2290'), ('pname', 'archINFORM location ID')]\n",
      "[('p', 'http://www.wikidata.org/prop/direct/P706'), ('o', 'http://www.wikidata.org/entity/Q12431'), ('pname', 'located in/on physical feature')]\n",
      "[('p', 'http://www.wikidata.org/prop/direct/P706'), ('o', 'http://www.wikidata.org/entity/Q12837'), ('pname', 'located in/on physical feature')]\n"
     ]
    },
    {
     "data": {
      "text/plain": [
       "14"
      ]
     },
     "execution_count": 68,
     "metadata": {},
     "output_type": "execute_result"
    }
   ],
   "source": [
    "queryString = \"\"\"\n",
    "SELECT *\n",
    "WHERE { \n",
    "\n",
    "    wd:Q228 ?p ?o .\n",
    "    # Labels\n",
    "    ?p <http://schema.org/name> ?pname .\n",
    "    #?o <http://schema.org/name> ?oname .\n",
    "    FILTER regex(?pname, \"loc\", \"i\") \n",
    "} \n",
    "LIMIT 20\n",
    "\"\"\"\n",
    "\n",
    "print(\"Results\")\n",
    "run_query(queryString)"
   ]
  },
  {
   "cell_type": "markdown",
   "id": "c0f7b432-db0f-4487-81da-e2ff79f88d6e",
   "metadata": {},
   "source": [
    "## Which is or was  the country with the highest population?"
   ]
  },
  {
   "cell_type": "code",
   "execution_count": 69,
   "id": "64df34c1-fde8-4de0-ba21-c30a01cf3e24",
   "metadata": {},
   "outputs": [
    {
     "name": "stdout",
     "output_type": "stream",
     "text": [
      "Results\n",
      "[('maxpopulation', '680000000')]\n"
     ]
    },
    {
     "data": {
      "text/plain": [
       "1"
      ]
     },
     "execution_count": 69,
     "metadata": {},
     "output_type": "execute_result"
    }
   ],
   "source": [
    "queryString = \"\"\"\n",
    "SELECT (MAX(?population) AS ?maxpopulation)\n",
    "WHERE { \n",
    "    ?monarchy (wdt:P31|wdt:P122)/wdt:P279* wd:Q7269 . \n",
    "    ?monarchy wdt:P30 ?continent ;\n",
    "               wdt:P571 ?inception ;\n",
    "               wdt:P36 ?capital ;\n",
    "               wdt:P38 ?currency ;\n",
    "               wdt:P1082 ?population .\n",
    "    ?capital wdt:P17 ?capitallocation .\n",
    "  \n",
    "    # Labels\n",
    "\n",
    "    ?monarchy <http://schema.org/name> ?monarchyname .\n",
    "    ?continent <http://schema.org/name> ?continentname .\n",
    "    ?capital <http://schema.org/name> ?capitalname .\n",
    "    ?currency <http://schema.org/name> ?currencyname .\n",
    "    ?capitallocation <http://schema.org/name> ?capitallocationname .\n",
    "\n",
    "} \n",
    "\n",
    "\"\"\"\n",
    "\n",
    "print(\"Results\")\n",
    "run_query(queryString)"
   ]
  },
  {
   "cell_type": "code",
   "execution_count": 70,
   "id": "1573ab91-8d4b-4937-8bae-4ab1125d6e18",
   "metadata": {},
   "outputs": [
    {
     "name": "stdout",
     "output_type": "stream",
     "text": [
      "Results\n",
      "[('monarchyname', 'British Empire'), ('population', '680000000'), ('capitallocation', 'http://www.wikidata.org/entity/Q145')]\n"
     ]
    },
    {
     "data": {
      "text/plain": [
       "1"
      ]
     },
     "execution_count": 70,
     "metadata": {},
     "output_type": "execute_result"
    }
   ],
   "source": [
    "queryString = \"\"\"\n",
    "SELECT ?monarchyname ?population ?capitallocation\n",
    "WHERE { \n",
    "    ?monarchy (wdt:P31|wdt:P122)/wdt:P279* wd:Q7269 . \n",
    "    ?monarchy wdt:P30 ?continent ;\n",
    "               wdt:P571 ?inception ;\n",
    "               wdt:P36 ?capital ;\n",
    "               wdt:P38 ?currency ;\n",
    "               wdt:P1082 ?population .\n",
    "    ?capital wdt:P17 ?capitallocation .\n",
    "  \n",
    "    # Labels\n",
    "\n",
    "    ?monarchy <http://schema.org/name> ?monarchyname .\n",
    "    ?continent <http://schema.org/name> ?continentname .\n",
    "    ?capital <http://schema.org/name> ?capitalname .\n",
    "    ?currency <http://schema.org/name> ?currencyname .\n",
    "    ?capitallocation <http://schema.org/name> ?capitallocationname .\n",
    "\n",
    "} \n",
    "ORDER BY DESC (?population)\n",
    "LIMIT 1\n",
    "\"\"\"\n",
    "\n",
    "print(\"Results\")\n",
    "run_query(queryString)"
   ]
  },
  {
   "cell_type": "markdown",
   "id": "78046b10-baa0-4f21-9338-105cd1c1a59b",
   "metadata": {},
   "source": [
    "## How many countries are or have been monarchies across continents?"
   ]
  },
  {
   "cell_type": "code",
   "execution_count": 71,
   "id": "b9db2a27-710d-43ce-90d2-95c03257d159",
   "metadata": {},
   "outputs": [
    {
     "name": "stdout",
     "output_type": "stream",
     "text": [
      "Results\n",
      "[('continentname', 'Europe'), ('monarchycount', '478')]\n",
      "[('continentname', 'Asia'), ('monarchycount', '207')]\n",
      "[('continentname', 'Africa'), ('monarchycount', '72')]\n",
      "[('continentname', 'North America'), ('monarchycount', '41')]\n",
      "[('continentname', 'Insular Oceania'), ('monarchycount', '20')]\n",
      "[('continentname', 'Eurasia'), ('monarchycount', '16')]\n",
      "[('continentname', 'Hyboria'), ('monarchycount', '13')]\n",
      "[('continentname', 'South America'), ('monarchycount', '8')]\n",
      "[('continentname', 'The Continent'), ('monarchycount', '7')]\n",
      "[('continentname', 'Americas'), ('monarchycount', '7')]\n",
      "[('continentname', 'Thuria'), ('monarchycount', '6')]\n",
      "[('continentname', 'Central America'), ('monarchycount', '2')]\n",
      "[('continentname', 'Australia'), ('monarchycount', '2')]\n",
      "[('continentname', 'Northern America and Mexico'), ('monarchycount', '1')]\n",
      "[('continentname', 'Antarctica'), ('monarchycount', '1')]\n",
      "[('continentname', 'Caribbean'), ('monarchycount', '1')]\n"
     ]
    },
    {
     "data": {
      "text/plain": [
       "16"
      ]
     },
     "execution_count": 71,
     "metadata": {},
     "output_type": "execute_result"
    }
   ],
   "source": [
    "queryString = \"\"\"\n",
    "SELECT ?continentname (COUNT(?monarchy) AS ?monarchycount)\n",
    "WHERE { \n",
    "    ?monarchy (wdt:P31|wdt:P122)/wdt:P279* wd:Q7269 . \n",
    "    ?monarchy wdt:P30 ?continent .\n",
    "\n",
    "    # Labels\n",
    "\n",
    "    ?monarchy <http://schema.org/name> ?monarchyname .\n",
    "    ?continent <http://schema.org/name> ?continentname .\n",
    "\n",
    "\n",
    "} \n",
    "GROUP BY ?continentname\n",
    "ORDER BY DESC (?monarchycount)\n",
    "\"\"\"\n",
    "\n",
    "print(\"Results\")\n",
    "run_query(queryString)"
   ]
  },
  {
   "cell_type": "markdown",
   "id": "48960cf3-5605-4f75-a340-07ee6c930ac7",
   "metadata": {},
   "source": [
    "## Analyze the number of countries that were monarchies"
   ]
  },
  {
   "cell_type": "markdown",
   "id": "5e57ddfe-aa7c-470d-b018-7a433e8325bf",
   "metadata": {},
   "source": [
    "### How many sub-types of monarchy exist?  "
   ]
  },
  {
   "cell_type": "code",
   "execution_count": 72,
   "id": "851793c4-d1f6-43f4-8756-4731ee4d3ce8",
   "metadata": {},
   "outputs": [
    {
     "name": "stdout",
     "output_type": "stream",
     "text": [
      "Results\n",
      "[('countsubtype', '24')]\n"
     ]
    },
    {
     "data": {
      "text/plain": [
       "1"
      ]
     },
     "execution_count": 72,
     "metadata": {},
     "output_type": "execute_result"
    }
   ],
   "source": [
    "# the number of sub types.\n",
    "queryString = \"\"\"\n",
    "SELECT COUNT(DISTINCT ?subtypes) AS ?countsubtype\n",
    "WHERE { \n",
    "    ?monarchy (wdt:P31|wdt:P122)/wdt:P279* wd:Q7269 . \n",
    "    ?monarchy wdt:P279 ?subtypes .\n",
    "\n",
    "} \n",
    "\n",
    "LIMIT 10\n",
    "\"\"\"\n",
    "\n",
    "print(\"Results\")\n",
    "run_query(queryString)"
   ]
  },
  {
   "cell_type": "code",
   "execution_count": 73,
   "id": "98beb3fe-4aa8-4c98-af87-f519364565c7",
   "metadata": {},
   "outputs": [
    {
     "name": "stdout",
     "output_type": "stream",
     "text": [
      "Results\n",
      "[('subtypes', 'http://www.wikidata.org/entity/Q3772929'), ('subtypesname', 'Dewan')]\n",
      "[('subtypes', 'http://www.wikidata.org/entity/Q188800'), ('subtypesname', 'personal union')]\n",
      "[('subtypes', 'http://www.wikidata.org/entity/Q521263'), ('subtypesname', 'history of Tibet')]\n",
      "[('subtypes', 'http://www.wikidata.org/entity/Q830852'), ('subtypesname', 'history of ancient Rome')]\n",
      "[('subtypes', 'http://www.wikidata.org/entity/Q463573'), ('subtypesname', 'suzerainty')]\n",
      "[('subtypes', 'http://www.wikidata.org/entity/Q166886'), ('subtypesname', 'duke')]\n",
      "[('subtypes', 'http://www.wikidata.org/entity/Q3024240'), ('subtypesname', 'historical country')]\n",
      "[('subtypes', 'http://www.wikidata.org/entity/Q3024240'), ('subtypesname', 'historical country')]\n",
      "[('subtypes', 'http://www.wikidata.org/entity/Q43702'), ('subtypesname', 'federation')]\n",
      "[('subtypes', 'http://www.wikidata.org/entity/Q48349'), ('subtypesname', 'empire')]\n"
     ]
    },
    {
     "data": {
      "text/plain": [
       "10"
      ]
     },
     "execution_count": 73,
     "metadata": {},
     "output_type": "execute_result"
    }
   ],
   "source": [
    "queryString = \"\"\"\n",
    "SELECT ?subtypes ?subtypesname\n",
    "WHERE { \n",
    "    ?monarchy (wdt:P31|wdt:P122)/wdt:P279* wd:Q7269 . \n",
    "    ?monarchy wdt:P279 ?subtypes .\n",
    "\n",
    "    # Labels\n",
    "\n",
    "    ?subtypes <http://schema.org/name> ?subtypesname .\n",
    "\n",
    "} \n",
    "\n",
    "LIMIT 10\n",
    "\"\"\"\n",
    "\n",
    "print(\"Results\")\n",
    "run_query(queryString)"
   ]
  },
  {
   "cell_type": "code",
   "execution_count": 74,
   "id": "8e2130de-1525-451d-9fc9-088837ba6f4e",
   "metadata": {},
   "outputs": [
    {
     "name": "stdout",
     "output_type": "stream",
     "text": [
      "Results\n",
      "[('subtypes', 'http://www.wikidata.org/entity/Q27925057'), ('subtypesname', 'Electoral Principate')]\n",
      "[('subtypes', 'http://www.wikidata.org/entity/Q188800'), ('subtypesname', 'personal union')]\n",
      "[('subtypes', 'http://www.wikidata.org/entity/Q3403564'), ('subtypesname', 'ecclesiastical principality')]\n",
      "[('subtypes', 'http://www.wikidata.org/entity/Q48349'), ('subtypesname', 'empire')]\n",
      "[('subtypes', 'http://www.wikidata.org/entity/Q417175'), ('subtypesname', 'kingdom')]\n",
      "[('subtypes', 'http://www.wikidata.org/entity/Q2494447'), ('subtypesname', 'part principality')]\n",
      "[('subtypes', 'http://www.wikidata.org/entity/Q6025390'), ('subtypesname', 'Labour movement in Spain')]\n",
      "[('subtypes', 'http://www.wikidata.org/entity/Q389688'), ('subtypesname', 'Achaemenid Empire')]\n",
      "[('subtypes', 'http://www.wikidata.org/entity/Q12759805'), ('subtypesname', 'sultanate')]\n",
      "[('subtypes', 'http://www.wikidata.org/entity/Q165116'), ('subtypesname', 'grand duchy')]\n"
     ]
    },
    {
     "data": {
      "text/plain": [
       "10"
      ]
     },
     "execution_count": 74,
     "metadata": {},
     "output_type": "execute_result"
    }
   ],
   "source": [
    "queryString = \"\"\"\n",
    "SELECT ?subtypes ?subtypesname\n",
    "WHERE { \n",
    "    ?monarchy (wdt:P31|wdt:P122)/wdt:P279* wd:Q7269 . \n",
    "    ?subtypes  wdt:P279 ?monarchy .\n",
    "\n",
    "    # Labels\n",
    "\n",
    "    ?subtypes <http://schema.org/name> ?subtypesname .\n",
    "\n",
    "} \n",
    "ORDER BY ASC(?inception)\n",
    "LIMIT 10\n",
    "\"\"\"\n",
    "\n",
    "print(\"Results\")\n",
    "run_query(queryString)"
   ]
  },
  {
   "cell_type": "markdown",
   "id": "c45e94a8-96af-45cf-a21c-47ac768cc7cb",
   "metadata": {},
   "source": [
    "### How many instances of exist of each one?"
   ]
  },
  {
   "cell_type": "code",
   "execution_count": 75,
   "id": "5ee283cd-3bb7-4567-8ac9-915910c877a0",
   "metadata": {},
   "outputs": [
    {
     "name": "stdout",
     "output_type": "stream",
     "text": [
      "Results\n",
      "[('countinstance', '14')]\n"
     ]
    },
    {
     "data": {
      "text/plain": [
       "1"
      ]
     },
     "execution_count": 75,
     "metadata": {},
     "output_type": "execute_result"
    }
   ],
   "source": [
    "# the number of instance.\n",
    "queryString = \"\"\"\n",
    "SELECT COUNT(DISTINCT ?instance) AS ?countinstance\n",
    "WHERE { \n",
    "    ?monarchy (wdt:P31|wdt:P122)/wdt:P279* wd:Q7269 . \n",
    "    ?monarchy wdt:P279 ?subtypes .\n",
    "    ?subtypes wdt:P31 ?instance .\n",
    "    \n",
    "} \n",
    "\n",
    "\"\"\"\n",
    "\n",
    "print(\"Results\")\n",
    "run_query(queryString)"
   ]
  },
  {
   "cell_type": "code",
   "execution_count": 76,
   "id": "04dbaeaa-5470-4747-8ddc-7f5fc2721ac5",
   "metadata": {},
   "outputs": [
    {
     "name": "stdout",
     "output_type": "stream",
     "text": [
      "Results\n",
      "[('countinstance', '26')]\n"
     ]
    },
    {
     "data": {
      "text/plain": [
       "1"
      ]
     },
     "execution_count": 76,
     "metadata": {},
     "output_type": "execute_result"
    }
   ],
   "source": [
    "# the number of instance.\n",
    "queryString = \"\"\"\n",
    "SELECT COUNT(?instance) AS ?countinstance\n",
    "WHERE { \n",
    "    ?monarchy (wdt:P31|wdt:P122)/wdt:P279* wd:Q7269 . \n",
    "    ?monarchy wdt:P279 ?subtypes .\n",
    "    ?subtypes wdt:P31 ?instance .\n",
    "\n",
    "} \n",
    "\n",
    "\"\"\"\n",
    "\n",
    "print(\"Results\")\n",
    "run_query(queryString)"
   ]
  },
  {
   "cell_type": "code",
   "execution_count": 77,
   "id": "d1992614-269a-4173-83bc-9c9aad4c0bdb",
   "metadata": {},
   "outputs": [
    {
     "name": "stdout",
     "output_type": "stream",
     "text": [
      "Results\n",
      "[('monarchy', 'http://www.wikidata.org/entity/Q1250464'), ('subtypes', 'http://www.wikidata.org/entity/Q183366'), ('instance', 'http://www.wikidata.org/entity/Q15617994'), ('monarchyname', 'realm'), ('subtypesname', 'territory'), ('instancename', 'designation for an administrative territorial entity')]\n",
      "[('monarchy', 'http://www.wikidata.org/entity/Q1250464'), ('subtypes', 'http://www.wikidata.org/entity/Q7275'), ('instance', 'http://www.wikidata.org/entity/Q106589826'), ('monarchyname', 'realm'), ('subtypesname', 'state'), ('instancename', 'Finnish National Land Survey place type')]\n",
      "[('monarchy', 'http://www.wikidata.org/entity/Q126416'), ('subtypes', 'http://www.wikidata.org/entity/Q521263'), ('instance', 'http://www.wikidata.org/entity/Q17544377'), ('monarchyname', 'Phagmodrupa Dynasty'), ('subtypesname', 'history of Tibet'), ('instancename', 'history of a country or state')]\n",
      "[('monarchy', 'http://www.wikidata.org/entity/Q725045'), ('subtypes', 'http://www.wikidata.org/entity/Q166886'), ('instance', 'http://www.wikidata.org/entity/Q355567'), ('monarchyname', 'Duke of Fernandina'), ('subtypesname', 'duke'), ('instancename', 'noble title')]\n",
      "[('monarchy', 'http://www.wikidata.org/entity/Q204920'), ('subtypes', 'http://www.wikidata.org/entity/Q43702'), ('instance', 'http://www.wikidata.org/entity/Q1307214'), ('monarchyname', 'Crown of Aragon'), ('subtypesname', 'federation'), ('instancename', 'form of government')]\n",
      "[('monarchy', 'http://www.wikidata.org/entity/Q208500'), ('subtypes', 'http://www.wikidata.org/entity/Q7269'), ('instance', 'http://www.wikidata.org/entity/Q1307214'), ('monarchyname', 'principality'), ('subtypesname', 'monarchy'), ('instancename', 'form of government')]\n",
      "[('monarchy', 'http://www.wikidata.org/entity/Q208500'), ('subtypes', 'http://www.wikidata.org/entity/Q7275'), ('instance', 'http://www.wikidata.org/entity/Q106589826'), ('monarchyname', 'principality'), ('subtypesname', 'state'), ('instancename', 'Finnish National Land Survey place type')]\n",
      "[('monarchy', 'http://www.wikidata.org/entity/Q389688'), ('subtypes', 'http://www.wikidata.org/entity/Q83311'), ('instance', 'http://www.wikidata.org/entity/Q2221906'), ('monarchyname', 'Achaemenid Empire'), ('subtypesname', 'Persian Empire'), ('instancename', 'geographic location')]\n",
      "[('monarchy', 'http://www.wikidata.org/entity/Q389688'), ('subtypes', 'http://www.wikidata.org/entity/Q83311'), ('instance', 'http://www.wikidata.org/entity/Q11514315'), ('monarchyname', 'Achaemenid Empire'), ('subtypesname', 'Persian Empire'), ('instancename', 'historical period')]\n",
      "[('monarchy', 'http://www.wikidata.org/entity/Q389688'), ('subtypes', 'http://www.wikidata.org/entity/Q83311'), ('instance', 'http://www.wikidata.org/entity/Q7269'), ('monarchyname', 'Achaemenid Empire'), ('subtypesname', 'Persian Empire'), ('instancename', 'monarchy')]\n",
      "[('monarchy', 'http://www.wikidata.org/entity/Q165116'), ('subtypes', 'http://www.wikidata.org/entity/Q208500'), ('instance', 'http://www.wikidata.org/entity/Q15617994'), ('monarchyname', 'grand duchy'), ('subtypesname', 'principality'), ('instancename', 'designation for an administrative territorial entity')]\n",
      "[('monarchy', 'http://www.wikidata.org/entity/Q165116'), ('subtypes', 'http://www.wikidata.org/entity/Q208500'), ('instance', 'http://www.wikidata.org/entity/Q1307214'), ('monarchyname', 'grand duchy'), ('subtypesname', 'principality'), ('instancename', 'form of government')]\n",
      "[('monarchy', 'http://www.wikidata.org/entity/Q201038'), ('subtypes', 'http://www.wikidata.org/entity/Q830852'), ('instance', 'http://www.wikidata.org/entity/Q17544377'), ('monarchyname', 'Roman Kingdom'), ('subtypesname', 'history of ancient Rome'), ('instancename', 'history of a country or state')]\n",
      "[('monarchy', 'http://www.wikidata.org/entity/Q71747'), ('subtypes', 'http://www.wikidata.org/entity/Q154547'), ('instance', 'http://www.wikidata.org/entity/Q15617994'), ('monarchyname', 'Duchy of Brittany'), ('subtypesname', 'duchy'), ('instancename', 'designation for an administrative territorial entity')]\n",
      "[('monarchy', 'http://www.wikidata.org/entity/Q71747'), ('subtypes', 'http://www.wikidata.org/entity/Q154547'), ('instance', 'http://www.wikidata.org/entity/Q15617994'), ('monarchyname', 'Duchy of Brittany'), ('subtypesname', 'duchy'), ('instancename', 'designation for an administrative territorial entity')]\n",
      "[('monarchy', 'http://www.wikidata.org/entity/Q605292'), ('subtypes', 'http://www.wikidata.org/entity/Q95984719'), ('instance', 'http://www.wikidata.org/entity/Q5774825'), ('monarchyname', 'Kindah Kingdom'), ('subtypesname', 'History of the Arabian Kingdom by period\\u200e'), ('instancename', 'history by period')]\n",
      "[('monarchy', 'http://www.wikidata.org/entity/Q2011891'), ('subtypes', 'http://www.wikidata.org/entity/Q17068524'), ('instance', 'http://www.wikidata.org/entity/Q17524420'), ('monarchyname', 'Modern Saudi State'), ('subtypesname', 'Modern history of Saudi Arabia'), ('instancename', 'aspect of history')]\n",
      "[('monarchy', 'http://www.wikidata.org/entity/Q22693483'), ('subtypes', 'http://www.wikidata.org/entity/Q7275'), ('instance', 'http://www.wikidata.org/entity/Q106589826'), ('monarchyname', 'Pflegamt'), ('subtypesname', 'state'), ('instancename', 'Finnish National Land Survey place type')]\n",
      "[('monarchy', 'http://www.wikidata.org/entity/Q22693483'), ('subtypes', 'http://www.wikidata.org/entity/Q187587'), ('instance', 'http://www.wikidata.org/entity/Q1307214'), ('monarchyname', 'Pflegamt'), ('subtypesname', 'empire'), ('instancename', 'form of government')]\n",
      "[('monarchy', 'http://www.wikidata.org/entity/Q22693483'), ('subtypes', 'http://www.wikidata.org/entity/Q187587'), ('instance', 'http://www.wikidata.org/entity/Q183039'), ('monarchyname', 'Pflegamt'), ('subtypesname', 'empire'), ('instancename', 'form of state')]\n",
      "[('monarchy', 'http://www.wikidata.org/entity/Q23039102'), ('subtypes', 'http://www.wikidata.org/entity/Q463573'), ('instance', 'http://www.wikidata.org/entity/Q183039'), ('monarchyname', 'First Toungoo Empire'), ('subtypesname', 'suzerainty'), ('instancename', 'form of state')]\n",
      "[('monarchy', 'http://www.wikidata.org/entity/Q89101318'), ('subtypes', 'http://www.wikidata.org/entity/Q927915'), ('instance', 'http://www.wikidata.org/entity/Q187588'), ('monarchyname', 'Pre-modern Hungary'), ('subtypesname', 'nobility of Hungary'), ('instancename', 'social class')]\n",
      "[('monarchy', 'http://www.wikidata.org/entity/Q3323826'), ('subtypes', 'http://www.wikidata.org/entity/Q2671787'), ('instance', 'http://www.wikidata.org/entity/Q13406463'), ('monarchyname', 'Duchess of Palma de Mallorca'), ('subtypesname', 'substantive title'), ('instancename', 'Wikimedia list article')]\n",
      "[('monarchy', 'http://www.wikidata.org/entity/Q106881694'), ('subtypes', 'http://www.wikidata.org/entity/Q106570346'), ('instance', 'http://www.wikidata.org/entity/Q17524420'), ('monarchyname', 'Burmese kingdoms'), ('subtypesname', 'history of monarchy'), ('instancename', 'aspect of history')]\n",
      "[('monarchy', 'http://www.wikidata.org/entity/Q3323826'), ('subtypes', 'http://www.wikidata.org/entity/Q2671787'), ('instance', 'http://www.wikidata.org/entity/Q13406463'), ('monarchyname', 'Duchess of Palma de Mallorca'), ('subtypesname', 'substantive title'), ('instancename', 'Wikimedia list article')]\n"
     ]
    },
    {
     "data": {
      "text/plain": [
       "25"
      ]
     },
     "execution_count": 77,
     "metadata": {},
     "output_type": "execute_result"
    }
   ],
   "source": [
    "# the number of instance.\n",
    "queryString = \"\"\"\n",
    "SELECT *\n",
    "WHERE { \n",
    "    ?monarchy (wdt:P31|wdt:P122)/wdt:P279* wd:Q7269 . \n",
    "    ?monarchy wdt:P279 ?subtypes .\n",
    "    ?subtypes wdt:P31 ?instance .\n",
    "        # Labels\n",
    "\n",
    "    ?monarchy <http://schema.org/name> ?monarchyname .\n",
    "    ?subtypes <http://schema.org/name> ?subtypesname .\n",
    "    ?instance <http://schema.org/name> ?instancename .\n",
    "} \n",
    "LIMIT 30\n",
    "\"\"\"\n",
    "\n",
    "print(\"Results\")\n",
    "run_query(queryString)"
   ]
  },
  {
   "cell_type": "code",
   "execution_count": 78,
   "id": "c3834572-4d13-4fc3-9697-78101c9e9f04",
   "metadata": {},
   "outputs": [
    {
     "name": "stdout",
     "output_type": "stream",
     "text": [
      "Results\n",
      "[('monarchyname', 'First Toungoo Empire'), ('subtypesname', 'suzerainty'), ('instancenames', 'form of state')]\n",
      "[('monarchyname', 'Pre-modern Hungary'), ('subtypesname', 'nobility of Hungary'), ('instancenames', 'social class')]\n",
      "[('monarchyname', 'Modern Saudi State'), ('subtypesname', 'Modern history of Saudi Arabia'), ('instancenames', 'aspect of history')]\n",
      "[('monarchyname', 'Burmese kingdoms'), ('subtypesname', 'history of monarchy'), ('instancenames', 'aspect of history')]\n",
      "[('monarchyname', 'Duchy of Brittany'), ('subtypesname', 'duchy'), ('instancenames', 'designation for an administrative territorial entity')]\n",
      "[('monarchyname', 'principality'), ('subtypesname', 'monarchy'), ('instancenames', 'form of government')]\n",
      "[('monarchyname', 'Kindah Kingdom'), ('subtypesname', 'History of the Arabian Kingdom by period\\u200e'), ('instancenames', 'history by period')]\n",
      "[('monarchyname', 'grand duchy'), ('subtypesname', 'principality'), ('instancenames', 'designation for an administrative territorial entity, form of government')]\n",
      "[('monarchyname', 'Achaemenid Empire'), ('subtypesname', 'Persian Empire'), ('instancenames', 'geographic location, historical period, monarchy')]\n",
      "[('monarchyname', 'realm'), ('subtypesname', 'state'), ('instancenames', 'Finnish National Land Survey place type')]\n",
      "[('monarchyname', 'Pflegamt'), ('subtypesname', 'state'), ('instancenames', 'Finnish National Land Survey place type')]\n",
      "[('monarchyname', 'Pflegamt'), ('subtypesname', 'empire'), ('instancenames', 'form of government, form of state')]\n",
      "[('monarchyname', 'Roman Kingdom'), ('subtypesname', 'history of ancient Rome'), ('instancenames', 'history of a country or state')]\n",
      "[('monarchyname', 'Duchess of Palma de Mallorca'), ('subtypesname', 'substantive title'), ('instancenames', 'Wikimedia list article')]\n",
      "[('monarchyname', 'realm'), ('subtypesname', 'territory'), ('instancenames', 'designation for an administrative territorial entity')]\n",
      "[('monarchyname', 'Duke of Fernandina'), ('subtypesname', 'duke'), ('instancenames', 'noble title')]\n",
      "[('monarchyname', 'Phagmodrupa Dynasty'), ('subtypesname', 'history of Tibet'), ('instancenames', 'history of a country or state')]\n",
      "[('monarchyname', 'principality'), ('subtypesname', 'state'), ('instancenames', 'Finnish National Land Survey place type')]\n",
      "[('monarchyname', 'Crown of Aragon'), ('subtypesname', 'federation'), ('instancenames', 'form of government')]\n"
     ]
    },
    {
     "data": {
      "text/plain": [
       "19"
      ]
     },
     "execution_count": 78,
     "metadata": {},
     "output_type": "execute_result"
    }
   ],
   "source": [
    "# show the instance name.\n",
    "queryString = \"\"\"\n",
    "SELECT ?monarchyname ?subtypesname \n",
    "(GROUP_CONCAT(DISTINCT ?instancename; SEPARATOR=\", \") AS ?instancenames) \n",
    "WHERE { \n",
    "    ?monarchy (wdt:P31|wdt:P122)/wdt:P279* wd:Q7269 . \n",
    "    ?monarchy wdt:P279 ?subtypes .\n",
    "    ?subtypes wdt:P31 ?instance .\n",
    "        # Labels\n",
    "\n",
    "    ?monarchy <http://schema.org/name> ?monarchyname .\n",
    "    ?subtypes <http://schema.org/name> ?subtypesname .\n",
    "    ?instance <http://schema.org/name> ?instancename .\n",
    "} \n",
    "\n",
    "LIMIT 30\n",
    "\"\"\"\n",
    "\n",
    "print(\"Results\")\n",
    "run_query(queryString)"
   ]
  },
  {
   "cell_type": "code",
   "execution_count": 79,
   "id": "cadac6e0-4560-4f1e-9f93-6558f3f38f82",
   "metadata": {},
   "outputs": [
    {
     "name": "stdout",
     "output_type": "stream",
     "text": [
      "Results\n",
      "[('monarchyname', 'grand duchy'), ('monarchy', 'http://www.wikidata.org/entity/Q165116'), ('subtypesname', 'principality'), ('instancename', 'designation for an administrative territorial entity')]\n",
      "[('monarchyname', 'Phagmodrupa Dynasty'), ('monarchy', 'http://www.wikidata.org/entity/Q126416'), ('subtypesname', 'history of Tibet'), ('instancename', 'history of a country or state')]\n",
      "[('monarchyname', 'Pflegamt'), ('monarchy', 'http://www.wikidata.org/entity/Q22693483'), ('subtypesname', 'state'), ('instancename', 'Finnish National Land Survey place type')]\n",
      "[('monarchyname', 'Pre-modern Hungary'), ('monarchy', 'http://www.wikidata.org/entity/Q89101318'), ('subtypesname', 'nobility of Hungary'), ('instancename', 'social class')]\n",
      "[('monarchyname', 'Duchess of Palma de Mallorca'), ('monarchy', 'http://www.wikidata.org/entity/Q3323826'), ('subtypesname', 'substantive title'), ('instancename', 'Wikimedia list article')]\n",
      "[('monarchyname', 'principality'), ('monarchy', 'http://www.wikidata.org/entity/Q208500'), ('subtypesname', 'state'), ('instancename', 'Finnish National Land Survey place type')]\n",
      "[('monarchyname', 'principality'), ('monarchy', 'http://www.wikidata.org/entity/Q208500'), ('subtypesname', 'monarchy'), ('instancename', 'form of government')]\n",
      "[('monarchyname', 'Duchy of Brittany'), ('monarchy', 'http://www.wikidata.org/entity/Q71747'), ('subtypesname', 'duchy'), ('instancename', 'designation for an administrative territorial entity')]\n",
      "[('monarchyname', 'realm'), ('monarchy', 'http://www.wikidata.org/entity/Q1250464'), ('subtypesname', 'territory'), ('instancename', 'designation for an administrative territorial entity')]\n",
      "[('monarchyname', 'Achaemenid Empire'), ('monarchy', 'http://www.wikidata.org/entity/Q389688'), ('subtypesname', 'Persian Empire'), ('instancename', 'historical period')]\n",
      "[('monarchyname', 'Burmese kingdoms'), ('monarchy', 'http://www.wikidata.org/entity/Q106881694'), ('subtypesname', 'history of monarchy'), ('instancename', 'aspect of history')]\n",
      "[('monarchyname', 'Achaemenid Empire'), ('monarchy', 'http://www.wikidata.org/entity/Q389688'), ('subtypesname', 'Persian Empire'), ('instancename', 'monarchy')]\n",
      "[('monarchyname', 'Modern Saudi State'), ('monarchy', 'http://www.wikidata.org/entity/Q2011891'), ('subtypesname', 'Modern history of Saudi Arabia'), ('instancename', 'aspect of history')]\n",
      "[('monarchyname', 'Achaemenid Empire'), ('monarchy', 'http://www.wikidata.org/entity/Q389688'), ('subtypesname', 'Persian Empire'), ('instancename', 'geographic location')]\n",
      "[('monarchyname', 'Pflegamt'), ('monarchy', 'http://www.wikidata.org/entity/Q22693483'), ('subtypesname', 'empire'), ('instancename', 'form of government')]\n",
      "[('monarchyname', 'Duke of Fernandina'), ('monarchy', 'http://www.wikidata.org/entity/Q725045'), ('subtypesname', 'duke'), ('instancename', 'noble title')]\n",
      "[('monarchyname', 'grand duchy'), ('monarchy', 'http://www.wikidata.org/entity/Q165116'), ('subtypesname', 'principality'), ('instancename', 'form of government')]\n",
      "[('monarchyname', 'Crown of Aragon'), ('monarchy', 'http://www.wikidata.org/entity/Q204920'), ('subtypesname', 'federation'), ('instancename', 'form of government')]\n",
      "[('monarchyname', 'Kindah Kingdom'), ('monarchy', 'http://www.wikidata.org/entity/Q605292'), ('subtypesname', 'History of the Arabian Kingdom by period\\u200e'), ('instancename', 'history by period')]\n",
      "[('monarchyname', 'realm'), ('monarchy', 'http://www.wikidata.org/entity/Q1250464'), ('subtypesname', 'state'), ('instancename', 'Finnish National Land Survey place type')]\n"
     ]
    },
    {
     "data": {
      "text/plain": [
       "20"
      ]
     },
     "execution_count": 79,
     "metadata": {},
     "output_type": "execute_result"
    }
   ],
   "source": [
    "# \n",
    "queryString = \"\"\"\n",
    "SELECT ?monarchyname ?monarchy ?subtypesname ?instancename\n",
    "WHERE { \n",
    "    ?monarchy (wdt:P31|wdt:P122)/wdt:P279* wd:Q7269 . \n",
    "    ?monarchy wdt:P279 ?subtypes .\n",
    "    ?subtypes wdt:P31 ?instance .\n",
    "        # Labels\n",
    "\n",
    "    ?monarchy <http://schema.org/name> ?monarchyname .\n",
    "    ?subtypes <http://schema.org/name> ?subtypesname .\n",
    "    ?instance <http://schema.org/name> ?instancename .\n",
    "} \n",
    "GROUP BY ?subtypesname\n",
    "LIMIT 20\n",
    "\"\"\"\n",
    "\n",
    "print(\"Results\")\n",
    "run_query(queryString)"
   ]
  },
  {
   "cell_type": "code",
   "execution_count": 80,
   "id": "3d57b999-b1d3-413e-8d67-4dd9b86d125b",
   "metadata": {},
   "outputs": [
    {
     "name": "stdout",
     "output_type": "stream",
     "text": [
      "Results\n",
      "[('subtypes', 'http://www.wikidata.org/entity/Q83311'), ('instance', 'http://www.wikidata.org/entity/Q11514315'), ('subtypesname', 'Persian Empire'), ('instancename', 'historical period')]\n",
      "[('subtypes', 'http://www.wikidata.org/entity/Q83311'), ('instance', 'http://www.wikidata.org/entity/Q2221906'), ('subtypesname', 'Persian Empire'), ('instancename', 'geographic location')]\n",
      "[('subtypes', 'http://www.wikidata.org/entity/Q83311'), ('instance', 'http://www.wikidata.org/entity/Q7269'), ('subtypesname', 'Persian Empire'), ('instancename', 'monarchy')]\n"
     ]
    },
    {
     "data": {
      "text/plain": [
       "3"
      ]
     },
     "execution_count": 80,
     "metadata": {},
     "output_type": "execute_result"
    }
   ],
   "source": [
    "queryString = \"\"\"\n",
    "SELECT *\n",
    "WHERE { \n",
    "    #?monarchy (wdt:P31|wdt:P122)/wdt:P279* wd:Q7269 . \n",
    "    wd:Q389688 wdt:P279 ?subtypes .\n",
    "    ?subtypes wdt:P31 ?instance .\n",
    "        # Labels\n",
    "\n",
    "    #?monarchy <http://schema.org/name> ?monarchyname .\n",
    "    ?subtypes <http://schema.org/name> ?subtypesname .\n",
    "    ?instance <http://schema.org/name> ?instancename .\n",
    "} \n",
    "\n",
    "LIMIT 20\n",
    "\"\"\"\n",
    "\n",
    "print(\"Results\")\n",
    "run_query(queryString)"
   ]
  },
  {
   "cell_type": "code",
   "execution_count": 81,
   "id": "f9f8c80d-734d-49d8-ae75-7817de0fb018",
   "metadata": {},
   "outputs": [
    {
     "name": "stdout",
     "output_type": "stream",
     "text": [
      "Results\n",
      "[('instance', 'http://www.wikidata.org/entity/Q11514315'), ('instancename', 'historical period')]\n",
      "[('instance', 'http://www.wikidata.org/entity/Q1307214'), ('instancename', 'form of government')]\n",
      "[('instance', 'http://www.wikidata.org/entity/Q1307214'), ('instancename', 'form of government')]\n",
      "[('instance', 'http://www.wikidata.org/entity/Q1307214'), ('instancename', 'form of government')]\n",
      "[('instance', 'http://www.wikidata.org/entity/Q1307214'), ('instancename', 'form of government')]\n",
      "[('instance', 'http://www.wikidata.org/entity/Q13406463'), ('instancename', 'Wikimedia list article')]\n",
      "[('instance', 'http://www.wikidata.org/entity/Q17524420'), ('instancename', 'aspect of history')]\n",
      "[('instance', 'http://www.wikidata.org/entity/Q17524420'), ('instancename', 'aspect of history')]\n",
      "[('instance', 'http://www.wikidata.org/entity/Q183039'), ('instancename', 'form of state')]\n",
      "[('instance', 'http://www.wikidata.org/entity/Q183039'), ('instancename', 'form of state')]\n",
      "[('instance', 'http://www.wikidata.org/entity/Q2221906'), ('instancename', 'geographic location')]\n",
      "[('instance', 'http://www.wikidata.org/entity/Q4164871'), ('instancename', 'position')]\n",
      "[('instance', 'http://www.wikidata.org/entity/Q7269'), ('instancename', 'monarchy')]\n",
      "[('instance', 'http://www.wikidata.org/entity/Q15617994'), ('instancename', 'designation for an administrative territorial entity')]\n",
      "[('instance', 'http://www.wikidata.org/entity/Q15617994'), ('instancename', 'designation for an administrative territorial entity')]\n",
      "[('instance', 'http://www.wikidata.org/entity/Q15617994'), ('instancename', 'designation for an administrative territorial entity')]\n",
      "[('instance', 'http://www.wikidata.org/entity/Q15617994'), ('instancename', 'designation for an administrative territorial entity')]\n",
      "[('instance', 'http://www.wikidata.org/entity/Q17544377'), ('instancename', 'history of a country or state')]\n",
      "[('instance', 'http://www.wikidata.org/entity/Q17544377'), ('instancename', 'history of a country or state')]\n",
      "[('instance', 'http://www.wikidata.org/entity/Q187588'), ('instancename', 'social class')]\n",
      "[('instance', 'http://www.wikidata.org/entity/Q355567'), ('instancename', 'noble title')]\n",
      "[('instance', 'http://www.wikidata.org/entity/Q106589826'), ('instancename', 'Finnish National Land Survey place type')]\n",
      "[('instance', 'http://www.wikidata.org/entity/Q106589826'), ('instancename', 'Finnish National Land Survey place type')]\n",
      "[('instance', 'http://www.wikidata.org/entity/Q106589826'), ('instancename', 'Finnish National Land Survey place type')]\n",
      "[('instance', 'http://www.wikidata.org/entity/Q5774825'), ('instancename', 'history by period')]\n",
      "[('instance', 'http://www.wikidata.org/entity/Q13406463'), ('instancename', 'Wikimedia list article')]\n"
     ]
    },
    {
     "data": {
      "text/plain": [
       "26"
      ]
     },
     "execution_count": 81,
     "metadata": {},
     "output_type": "execute_result"
    }
   ],
   "source": [
    "queryString = \"\"\"\n",
    "SELECT ?instance ?instancename\n",
    "WHERE { \n",
    "    ?monarchy (wdt:P31|wdt:P122)/wdt:P279* wd:Q7269 . \n",
    "    ?monarchy wdt:P279 ?subtypes .\n",
    "    ?subtypes wdt:P31 ?instance .\n",
    "        # Labels\n",
    "\n",
    "    ?instance <http://schema.org/name> ?instancename .\n",
    "} \n",
    "LIMIT 30\n",
    "\"\"\"\n",
    "\n",
    "print(\"Results\")\n",
    "run_query(queryString)"
   ]
  },
  {
   "cell_type": "code",
   "execution_count": 82,
   "id": "0c9c7028-eb9c-4d9f-b5da-d0ed61c3185c",
   "metadata": {},
   "outputs": [
    {
     "name": "stdout",
     "output_type": "stream",
     "text": [
      "Results\n",
      "[('instance', 'http://www.wikidata.org/entity/Q11514315'), ('instancename', 'historical period')]\n",
      "[('instance', 'http://www.wikidata.org/entity/Q1307214'), ('instancename', 'form of government')]\n",
      "[('instance', 'http://www.wikidata.org/entity/Q13406463'), ('instancename', 'Wikimedia list article')]\n",
      "[('instance', 'http://www.wikidata.org/entity/Q17524420'), ('instancename', 'aspect of history')]\n",
      "[('instance', 'http://www.wikidata.org/entity/Q183039'), ('instancename', 'form of state')]\n",
      "[('instance', 'http://www.wikidata.org/entity/Q2221906'), ('instancename', 'geographic location')]\n",
      "[('instance', 'http://www.wikidata.org/entity/Q4164871'), ('instancename', 'position')]\n",
      "[('instance', 'http://www.wikidata.org/entity/Q7269'), ('instancename', 'monarchy')]\n",
      "[('instance', 'http://www.wikidata.org/entity/Q15617994'), ('instancename', 'designation for an administrative territorial entity')]\n",
      "[('instance', 'http://www.wikidata.org/entity/Q17544377'), ('instancename', 'history of a country or state')]\n",
      "[('instance', 'http://www.wikidata.org/entity/Q187588'), ('instancename', 'social class')]\n",
      "[('instance', 'http://www.wikidata.org/entity/Q355567'), ('instancename', 'noble title')]\n",
      "[('instance', 'http://www.wikidata.org/entity/Q106589826'), ('instancename', 'Finnish National Land Survey place type')]\n",
      "[('instance', 'http://www.wikidata.org/entity/Q5774825'), ('instancename', 'history by period')]\n"
     ]
    },
    {
     "data": {
      "text/plain": [
       "14"
      ]
     },
     "execution_count": 82,
     "metadata": {},
     "output_type": "execute_result"
    }
   ],
   "source": [
    "queryString = \"\"\"\n",
    "SELECT DISTINCT ?instance ?instancename\n",
    "WHERE { \n",
    "    ?monarchy (wdt:P31|wdt:P122)/wdt:P279* wd:Q7269 . \n",
    "    ?monarchy wdt:P279 ?subtypes .\n",
    "    ?subtypes wdt:P31 ?instance .\n",
    "        # Labels\n",
    "\n",
    "    ?instance <http://schema.org/name> ?instancename .\n",
    "} \n",
    "LIMIT 30\n",
    "\"\"\"\n",
    "\n",
    "print(\"Results\")\n",
    "run_query(queryString)"
   ]
  },
  {
   "cell_type": "markdown",
   "id": "db8946e7-aa89-4dfc-9bda-2425a7be84d8",
   "metadata": {},
   "source": [
    "### Are there cities that have been capital of multiple kingdoms?"
   ]
  },
  {
   "cell_type": "code",
   "execution_count": 83,
   "id": "381c913a-215e-43b8-bb47-070948180231",
   "metadata": {},
   "outputs": [
    {
     "name": "stdout",
     "output_type": "stream",
     "text": [
      "Results\n",
      "[('capitalname', 'Gotha')]\n",
      "[('capitalname', 'Honolulu')]\n",
      "[('capitalname', 'Kailua')]\n",
      "[('capitalname', 'Kavarna')]\n",
      "[('capitalname', 'Kartasura')]\n",
      "[('capitalname', 'Stuttgart')]\n",
      "[('capitalname', 'Kuala Lumpur')]\n",
      "[('capitalname', 'Carthage')]\n",
      "[('capitalname', 'Tirana')]\n",
      "[('capitalname', 'Lobamba')]\n"
     ]
    },
    {
     "data": {
      "text/plain": [
       "10"
      ]
     },
     "execution_count": 83,
     "metadata": {},
     "output_type": "execute_result"
    }
   ],
   "source": [
    "queryString = \"\"\"\n",
    "SELECT ?capitalname \n",
    "WHERE { \n",
    "    ?monarchy (wdt:P31|wdt:P122)/wdt:P279* wd:Q7269 . \n",
    "    ?monarchy wdt:P36 ?capital .\n",
    "    #?capital wdt:P17 ?capitallocation .\n",
    "  \n",
    "    # Labels\n",
    "\n",
    "    ?monarchy <http://schema.org/name> ?monarchyname .\n",
    "    ?capital <http://schema.org/name> ?capitalname .\n",
    "    #?capitallocation <http://schema.org/name> ?capitallocationname .\n",
    "\n",
    "} \n",
    "GROUP BY ?capitalname \n",
    "HAVING (COUNT(?monarchyname) > 1)\n",
    "LIMIT 10\n",
    "\"\"\"\n",
    "\n",
    "print(\"Results\")\n",
    "run_query(queryString)"
   ]
  },
  {
   "cell_type": "code",
   "execution_count": 84,
   "id": "bd4ca80f-10b5-4a17-9ad3-2b586c0b71b5",
   "metadata": {},
   "outputs": [
    {
     "name": "stdout",
     "output_type": "stream",
     "text": [
      "Results\n",
      "[('capitalname', 'London'), ('countMonarchies', '8')]\n",
      "[('capitalname', 'Madrid'), ('countMonarchies', '7')]\n",
      "[('capitalname', 'Rio de Janeiro'), ('countMonarchies', '7')]\n",
      "[('capitalname', 'Vienna'), ('countMonarchies', '6')]\n",
      "[('capitalname', 'Cairo'), ('countMonarchies', '6')]\n",
      "[('capitalname', 'Paris'), ('countMonarchies', '5')]\n",
      "[('capitalname', 'Belgrade'), ('countMonarchies', '5')]\n",
      "[('capitalname', 'Riyadh'), ('countMonarchies', '5')]\n",
      "[('capitalname', 'Berlin'), ('countMonarchies', '5')]\n",
      "[('capitalname', 'Bago'), ('countMonarchies', '4')]\n"
     ]
    },
    {
     "data": {
      "text/plain": [
       "10"
      ]
     },
     "execution_count": 84,
     "metadata": {},
     "output_type": "execute_result"
    }
   ],
   "source": [
    "queryString = \"\"\"\n",
    "SELECT ?capitalname (COUNT(DISTINCT ?monarchyname) AS ?countMonarchies) \n",
    "WHERE { \n",
    "    ?monarchy (wdt:P31|wdt:P122)/wdt:P279* wd:Q7269 . \n",
    "    ?monarchy wdt:P36 ?capital .\n",
    "    #?capital wdt:P17 ?capitallocation .\n",
    "  \n",
    "    # Labels\n",
    "\n",
    "    ?monarchy <http://schema.org/name> ?monarchyname .\n",
    "    ?capital <http://schema.org/name> ?capitalname .\n",
    "    #?capitallocation <http://schema.org/name> ?capitallocationname .\n",
    "\n",
    "} \n",
    "#GROUP BY ?capitalname\n",
    "#HAVING (?countMonarchies > 1)\n",
    "ORDER BY DESC(?countMonarchies)\n",
    "LIMIT 10\n",
    "\"\"\"\n",
    "\n",
    "print(\"Results\")\n",
    "run_query(queryString)"
   ]
  },
  {
   "cell_type": "markdown",
   "id": "eca63e66-085d-4dc7-b303-481f01716b2e",
   "metadata": {},
   "source": [
    "### Which are the top-3 monarchies with the earliest inception and still existing?"
   ]
  },
  {
   "cell_type": "code",
   "execution_count": 85,
   "id": "fb9df752-801d-45e8-94ae-f8e3521f54dd",
   "metadata": {},
   "outputs": [
    {
     "name": "stdout",
     "output_type": "stream",
     "text": [
      "Results\n",
      "[('inception', '-1045'), ('monarchyname', 'Chu'), ('monarchy', 'http://www.wikidata.org/entity/Q504759'), ('replacedbyname', 'Qin'), ('countryname', 'Zhou dynasty')]\n",
      "[('inception', '-1045'), ('monarchyname', 'Yue'), ('monarchy', 'http://www.wikidata.org/entity/Q1137403'), ('replacedbyname', 'Qin'), ('countryname', 'Zhou dynasty')]\n",
      "[('inception', '-1045'), ('monarchyname', 'Eastern Zhou'), ('monarchy', 'http://www.wikidata.org/entity/Q307066'), ('replacedbyname', 'Qin'), ('countryname', 'Zhou dynasty')]\n"
     ]
    },
    {
     "data": {
      "text/plain": [
       "3"
      ]
     },
     "execution_count": 85,
     "metadata": {},
     "output_type": "execute_result"
    }
   ],
   "source": [
    "queryString = \"\"\"\n",
    "SELECT DISTINCT ?inception ?monarchyname ?monarchy ?replacedbyname ?countryname \n",
    "WHERE { \n",
    "\n",
    "    ?monarchy (wdt:P31|wdt:P122)/wdt:P279* wd:Q7269  . \n",
    "    ?monarchy wdt:P1365 ?replaces .\n",
    "    ?monarchy wdt:P1366 ?replacedby .\n",
    "    ?replacedby wdt:P17 ?country .\n",
    "    ?country wdt:P571 ?date .\n",
    "    # Labels\n",
    "    ?monarchy <http://schema.org/name> ?monarchyname .\n",
    "    #?replaces <http://schema.org/name> ?replacesname .\n",
    "    ?replacedby <http://schema.org/name> ?replacedbyname .\n",
    "        # Labels\n",
    "    #?p <http://schema.org/name> ?pname .\n",
    "    #?o <http://schema.org/name> ?oname .\n",
    "    ?country <http://schema.org/name> ?countryname .\n",
    "    BIND(year(?date) AS ?inception)\n",
    "\n",
    "} \n",
    "ORDER BY ASC(?inception)\n",
    "LIMIT 3\n",
    "\"\"\"\n",
    "\n",
    "print(\"Results\")\n",
    "run_query(queryString)"
   ]
  },
  {
   "cell_type": "code",
   "execution_count": 86,
   "id": "6f47b184-1272-4b15-b269-8101dc8153d3",
   "metadata": {},
   "outputs": [
    {
     "name": "stdout",
     "output_type": "stream",
     "text": [
      "Results\n",
      "[('p', 'http://www.wikidata.org/prop/direct/P122'), ('o', 'http://www.wikidata.org/entity/Q7269'), ('pname', 'basic form of government')]\n",
      "[('p', 'http://www.wikidata.org/prop/direct/P1365'), ('o', 'http://www.wikidata.org/entity/Q912068'), ('pname', 'replaces')]\n",
      "[('p', 'http://www.wikidata.org/prop/direct/P1365'), ('o', 'http://www.wikidata.org/entity/Q1437302'), ('pname', 'replaces')]\n",
      "[('p', 'http://www.wikidata.org/prop/direct/P1366'), ('o', 'http://www.wikidata.org/entity/Q34756'), ('pname', 'replaced by')]\n",
      "[('p', 'http://www.wikidata.org/prop/direct/P140'), ('o', 'http://www.wikidata.org/entity/Q1074275'), ('pname', 'religion')]\n",
      "[('p', 'http://www.wikidata.org/prop/direct/P1417'), ('o', 'place/Yue-ancient-state-China'), ('pname', 'Encyclopædia Britannica Online ID')]\n",
      "[('p', 'http://www.wikidata.org/prop/direct/P31'), ('o', 'http://www.wikidata.org/entity/Q836688'), ('pname', 'instance of')]\n",
      "[('p', 'http://www.wikidata.org/prop/direct/P31'), ('o', 'http://www.wikidata.org/entity/Q3024240'), ('pname', 'instance of')]\n",
      "[('p', 'http://www.wikidata.org/prop/direct/P36'), ('o', 'http://www.wikidata.org/entity/Q42666'), ('pname', 'capital')]\n",
      "[('p', 'http://www.wikidata.org/prop/direct/P373'), ('o', 'Yue (state)'), ('pname', 'Commons category')]\n",
      "[('p', 'http://www.wikidata.org/prop/direct/P38'), ('o', 'http://www.wikidata.org/entity/Q4752816'), ('pname', 'currency')]\n",
      "[('p', 'http://www.wikidata.org/prop/direct/P571'), ('o', '-1100-01-01T00:00:00Z'), ('pname', 'inception')]\n",
      "[('p', 'http://www.wikidata.org/prop/direct/P576'), ('o', '-221-01-01T00:00:00Z'), ('pname', 'dissolved, abolished or demolished date')]\n",
      "[('p', 'http://www.wikidata.org/prop/direct/P646'), ('o', '/m/047fxf'), ('pname', 'Freebase ID')]\n",
      "[('p', 'http://www.wikidata.org/prop/direct/P910'), ('o', 'http://www.wikidata.org/entity/Q21592051'), ('pname', \"topic's main category\")]\n"
     ]
    },
    {
     "data": {
      "text/plain": [
       "15"
      ]
     },
     "execution_count": 86,
     "metadata": {},
     "output_type": "execute_result"
    }
   ],
   "source": [
    "queryString = \"\"\"\n",
    "SELECT *\n",
    "WHERE { \n",
    "\n",
    "    wd:Q1137403 ?p ?o .\n",
    "    # Labels\n",
    "    ?p <http://schema.org/name> ?pname .\n",
    "    #?o <http://schema.org/name> ?oname .\n",
    "    #FILTER regex(?pname, \"ww\", \"i\") \n",
    "} \n",
    "LIMIT 20\n",
    "\"\"\"\n",
    "\n",
    "print(\"Results\")\n",
    "run_query(queryString)"
   ]
  },
  {
   "cell_type": "code",
   "execution_count": 87,
   "id": "17091ad9-1458-48bf-a248-7cbbfb6bce45",
   "metadata": {},
   "outputs": [
    {
     "name": "stdout",
     "output_type": "stream",
     "text": [
      "Results\n",
      "[('inception', '-1100-01-01T00:00:00Z'), ('demolished_date', '-221-01-01T00:00:00Z')]\n"
     ]
    },
    {
     "data": {
      "text/plain": [
       "1"
      ]
     },
     "execution_count": 87,
     "metadata": {},
     "output_type": "execute_result"
    }
   ],
   "source": [
    "#[('p', 'http://www.wikidata.org/prop/direct/P571'), ('o', '-1100-01-01T00:00:00Z'), ('pname', 'inception')]\n",
    "#[('p', 'http://www.wikidata.org/prop/direct/P576'), ('o', '-221-01-01T00:00:00Z'), ('pname', 'dissolved, abolished or demolished date')]\n",
    "queryString = \"\"\"\n",
    "SELECT *\n",
    "WHERE { \n",
    "\n",
    "    wd:Q1137403 wdt:P571 ?inception .\n",
    "    wd:Q1137403 wdt:P576 ?demolished_date .\n",
    "    # Labels\n",
    "    #?p <http://schema.org/name> ?pname .\n",
    "    #?o <http://schema.org/name> ?oname .\n",
    "    #FILTER regex(?pname, \"ww\", \"i\") \n",
    "} \n",
    "LIMIT 20\n",
    "\"\"\"\n",
    "\n",
    "print(\"Results\")\n",
    "run_query(queryString)"
   ]
  },
  {
   "cell_type": "code",
   "execution_count": 88,
   "id": "22336c94-13e6-43ba-80bd-f38fcb199297",
   "metadata": {},
   "outputs": [
    {
     "name": "stdout",
     "output_type": "stream",
     "text": [
      "Results\n",
      "[('monarchyname', 'Dʿmt'), ('demolished_date', '-399-01-01T00:00:00Z'), ('inception', '-979-01-01T00:00:00Z')]\n",
      "[('monarchyname', 'Dʿmt'), ('demolished_date', '-399-01-01T00:00:00Z'), ('inception', '-979-01-01T00:00:00Z')]\n",
      "[('monarchyname', 'Ahom Kingdom'), ('demolished_date', '1826-01-01T00:00:00Z'), ('inception', '1228-01-01T00:00:00Z')]\n"
     ]
    },
    {
     "data": {
      "text/plain": [
       "3"
      ]
     },
     "execution_count": 88,
     "metadata": {},
     "output_type": "execute_result"
    }
   ],
   "source": [
    "queryString = \"\"\"\n",
    "SELECT ?monarchyname ?demolished_date ?inception\n",
    "WHERE { \n",
    "\n",
    "    ?monarchy (wdt:P31|wdt:P122)/wdt:P279* wd:Q7269  . \n",
    "    #?monarchy wdt:P1365 ?replaces .\n",
    "    #?monarchy wdt:P1366 ?replacedby .\n",
    "    ?monarchy wdt:P571 ?inception .\n",
    "    ?monarchy wdt:P576 ?demolished_date .\n",
    "    # Labels\n",
    "    ?monarchy <http://schema.org/name> ?monarchyname .\n",
    "    #FILTER NOT EXISTS { ?monarchy wdt:P576 ?demolished_date }\n",
    "\n",
    "} \n",
    "\n",
    "LIMIT 3\n",
    "\"\"\"\n",
    "\n",
    "print(\"Results\")\n",
    "run_query(queryString)"
   ]
  },
  {
   "cell_type": "code",
   "execution_count": 89,
   "id": "3de52af9-dc0f-41e3-ba4d-e62f27cc2dc4",
   "metadata": {},
   "outputs": [
    {
     "name": "stdout",
     "output_type": "stream",
     "text": [
      "Results\n",
      "[('monarchyname', 'Western Han'), ('demolished_date', '0009-01-01T00:00:00Z'), ('inception', '-201-01-01T00:00:00Z')]\n",
      "[('monarchyname', 'Kingdom of Cappadocia'), ('demolished_date', '0017-01-01T00:00:00Z'), ('inception', '-320-01-01T00:00:00Z')]\n",
      "[('monarchyname', 'Kingdom of Cappadocia'), ('demolished_date', '0017-01-01T00:00:00Z'), ('inception', '-320-01-01T00:00:00Z')]\n"
     ]
    },
    {
     "data": {
      "text/plain": [
       "3"
      ]
     },
     "execution_count": 89,
     "metadata": {},
     "output_type": "execute_result"
    }
   ],
   "source": [
    "queryString = \"\"\"\n",
    "SELECT ?monarchyname ?demolished_date ?inception\n",
    "WHERE { \n",
    "\n",
    "    ?monarchy (wdt:P31|wdt:P122)/wdt:P279* wd:Q7269  . \n",
    "    ?monarchy wdt:P571 ?inception .\n",
    "    ?monarchy wdt:P576 ?demolished_date .\n",
    "    # Labels\n",
    "    ?monarchy <http://schema.org/name> ?monarchyname .\n",
    "\n",
    "\n",
    "} \n",
    "ORDER BY ASC(?demolished_date)\n",
    "LIMIT 3\n",
    "\"\"\"\n",
    "\n",
    "print(\"Results\")\n",
    "run_query(queryString)"
   ]
  },
  {
   "cell_type": "code",
   "execution_count": 90,
   "id": "116fd1ad-a1ac-43ac-b65f-0bacdf4d303e",
   "metadata": {},
   "outputs": [
    {
     "name": "stdout",
     "output_type": "stream",
     "text": [
      "Results\n",
      "[('monarchyname', 'Galactic Empire'), ('monarchy', 'http://www.wikidata.org/entity/Q2349630'), ('inception', '11584-01-01T00:00:00Z')]\n",
      "[('monarchyname', 'Roman Catholic Diocese of Metz'), ('monarchy', 'http://www.wikidata.org/entity/Q787336'), ('inception', '0201-01-01T00:00:00Z')]\n",
      "[('monarchyname', 'Western Roman Empire (395-476 AD)'), ('monarchy', 'http://www.wikidata.org/entity/Q42834'), ('inception', '0395-01-18T00:00:00Z')]\n"
     ]
    },
    {
     "data": {
      "text/plain": [
       "3"
      ]
     },
     "execution_count": 90,
     "metadata": {},
     "output_type": "execute_result"
    }
   ],
   "source": [
    "queryString = \"\"\"\n",
    "SELECT ?monarchyname ?monarchy ?inception\n",
    "WHERE { \n",
    "\n",
    "    ?monarchy (wdt:P31|wdt:P122)/wdt:P279* wd:Q7269  . \n",
    "    ?monarchy wdt:P571 ?inception .\n",
    "    # Labels\n",
    "    ?monarchy <http://schema.org/name> ?monarchyname .\n",
    "    FILTER NOT EXISTS { ?monarchy wdt:P576 ?demolished_date }\n",
    "} \n",
    "ORDER BY (?inception)\n",
    "LIMIT 3\n",
    "\"\"\"\n",
    "\n",
    "print(\"Results\")\n",
    "run_query(queryString)"
   ]
  },
  {
   "cell_type": "code",
   "execution_count": 91,
   "id": "cdb4a44e-f544-45b4-aeeb-1c73189cec47",
   "metadata": {},
   "outputs": [
    {
     "name": "stdout",
     "output_type": "stream",
     "text": [
      "Results\n",
      "[('monarchyname', 'Kushan Empire'), ('yearstr', '375')]\n",
      "[('monarchyname', 'Kingdom of Funan'), ('yearstr', '550')]\n",
      "[('monarchyname', 'Chen princedom'), ('yearstr', '197')]\n"
     ]
    },
    {
     "data": {
      "text/plain": [
       "3"
      ]
     },
     "execution_count": 91,
     "metadata": {},
     "output_type": "execute_result"
    }
   ],
   "source": [
    "queryString = \"\"\"\n",
    "SELECT ?monarchyname ?yearstr \n",
    "WHERE { \n",
    "\n",
    "    ?monarchy (wdt:P31|wdt:P122)/wdt:P279* wd:Q7269  . \n",
    "    #?monarchy wdt:P1365 ?replaces .\n",
    "    #?monarchy wdt:P1366 ?replacedby .\n",
    "    ?monarchy wdt:P571 ?inception .\n",
    "    ?monarchy wdt:P576 ?demolished_date .\n",
    "    # Labels\n",
    "    ?monarchy <http://schema.org/name> ?monarchyname .\n",
    "    \n",
    "    BIND( year(?demolished_date) as ?year ).\n",
    "    BIND( str(?year) AS ?yearstr ).\n",
    "    \n",
    "} \n",
    "\n",
    "ORDER BY (?inception)\n",
    "LIMIT 3\n",
    "\"\"\"\n",
    "\n",
    "print(\"Results\")\n",
    "run_query(queryString)"
   ]
  },
  {
   "cell_type": "code",
   "execution_count": 92,
   "id": "fd7916a6-334c-493a-8bdc-d6b69cf1bf2e",
   "metadata": {},
   "outputs": [
    {
     "name": "stdout",
     "output_type": "stream",
     "text": [
      "Results\n",
      "[('monarchyname', 'Galactic Empire')]\n",
      "[('monarchyname', 'Galactic Empire')]\n",
      "[('monarchyname', 'Galactic Empire')]\n",
      "[('monarchyname', 'Galactic Empire')]\n",
      "[('monarchyname', 'Galactic Empire')]\n",
      "[('monarchyname', 'Galactic Empire')]\n",
      "[('monarchyname', 'Galactic Empire')]\n",
      "[('monarchyname', 'Galactic Empire')]\n",
      "[('monarchyname', 'Galactic Empire')]\n",
      "[('monarchyname', 'Galactic Empire')]\n",
      "[('monarchyname', 'Galactic Empire')]\n",
      "[('monarchyname', 'Galactic Empire')]\n",
      "[('monarchyname', 'Kingdom of Araba')]\n",
      "[('monarchyname', 'Kingdom of Araba')]\n",
      "[('monarchyname', 'Kingdom of Araba')]\n"
     ]
    },
    {
     "data": {
      "text/plain": [
       "15"
      ]
     },
     "execution_count": 92,
     "metadata": {},
     "output_type": "execute_result"
    }
   ],
   "source": [
    "queryString = \"\"\"\n",
    "SELECT ?monarchyname\n",
    "WHERE { \n",
    "\n",
    "    ?monarchy (wdt:P31|wdt:P122)/wdt:P279* wd:Q7269  . \n",
    "    #?monarchy wdt:P1365 ?replaces .\n",
    "    #?monarchy wdt:P1366 ?replacedby .\n",
    "    ?monarchy wdt:P571 ?inception .\n",
    "    ?monarchy ?p ?demolished_date .\n",
    "    # Labels\n",
    "    ?monarchy <http://schema.org/name> ?monarchyname .\n",
    "    ?p <http://schema.org/name> ?pname .\n",
    "    FILTER(!REGEX(STR(?pname), \"demolished\"))\n",
    "} \n",
    "ORDER BY (?inception)\n",
    "LIMIT 15\n",
    "\"\"\"\n",
    "\n",
    "print(\"Results\")\n",
    "run_query(queryString)"
   ]
  },
  {
   "cell_type": "code",
   "execution_count": 93,
   "id": "e5eda4f5-df5b-4b10-a898-eddd24289681",
   "metadata": {},
   "outputs": [
    {
     "name": "stdout",
     "output_type": "stream",
     "text": [
      "Results\n",
      "[('monarchyname', 'Kushan Empire'), ('inception', '0030-01-01T00:00:00Z')]\n",
      "[('monarchyname', 'Kingdom of Funan'), ('inception', '0068-01-01T00:00:00Z')]\n",
      "[('monarchyname', 'Chen princedom'), ('inception', '0088-01-01T00:00:00Z')]\n",
      "[('monarchyname', 'Bharshiva Dynasty'), ('inception', '0170-01-01T00:00:00Z')]\n",
      "[('monarchyname', 'Champa'), ('inception', '0192-01-01T00:00:00Z')]\n",
      "[('monarchyname', 'Kingdom of Araba'), ('inception', '0200-01-01T00:00:00Z')]\n",
      "[('monarchyname', 'Shule Kingdom'), ('inception', '0200-01-01T00:00:00Z')]\n",
      "[('monarchyname', 'Early history of Kedah'), ('inception', '0200-01-01T00:00:00Z')]\n",
      "[('monarchyname', 'Langkasuka'), ('inception', '0200-01-01T00:00:00Z')]\n",
      "[('monarchyname', 'Ghassanids'), ('inception', '0220-01-01T00:00:00Z')]\n",
      "[('monarchyname', 'Shu Han'), ('inception', '0221-01-01T00:00:00Z')]\n",
      "[('monarchyname', 'Sasanian Empire'), ('inception', '0226-01-01T00:00:00Z')]\n",
      "[('monarchyname', 'Afrighids'), ('inception', '0305-01-01T00:00:00Z')]\n",
      "[('monarchyname', 'Gupta Empire'), ('inception', '0320-01-01T00:00:00Z')]\n",
      "[('monarchyname', 'Rouran Khaganate'), ('inception', '0330-01-01T00:00:00Z')]\n"
     ]
    },
    {
     "data": {
      "text/plain": [
       "15"
      ]
     },
     "execution_count": 93,
     "metadata": {},
     "output_type": "execute_result"
    }
   ],
   "source": [
    "queryString = \"\"\"\n",
    "SELECT DISTINCT ?monarchyname ?inception\n",
    "WHERE { \n",
    "\n",
    "    ?monarchy (wdt:P31|wdt:P122)/wdt:P279* wd:Q7269  . \n",
    "    #?monarchy wdt:P1365 ?replaces .\n",
    "    #?monarchy wdt:P1366 ?replacedby .\n",
    "    ?monarchy wdt:P571 ?inception .\n",
    "    ?monarchy ?p ?demolished_date .\n",
    "    # Labels\n",
    "    ?monarchy <http://schema.org/name> ?monarchyname .\n",
    "    ?p <http://schema.org/name> ?pname .\n",
    "    FILTER CONTAINS(?pname, \"demolished\") .\n",
    "} \n",
    "ORDER BY (?inception)\n",
    "LIMIT 15\n",
    "\"\"\"\n",
    "\n",
    "print(\"Results\")\n",
    "run_query(queryString)"
   ]
  },
  {
   "cell_type": "code",
   "execution_count": 94,
   "id": "9b384a95-58a1-4edd-aa57-753583403eec",
   "metadata": {},
   "outputs": [
    {
     "name": "stdout",
     "output_type": "stream",
     "text": [
      "Results\n",
      "[('monarchyname', 'Galactic Empire'), ('inception', '11584-01-01T00:00:00Z')]\n",
      "[('monarchyname', 'Roman Catholic Diocese of Metz'), ('inception', '0201-01-01T00:00:00Z')]\n",
      "[('monarchyname', 'Western Roman Empire (395-476 AD)'), ('inception', '0395-01-18T00:00:00Z')]\n",
      "[('monarchyname', 'duchy of Asti'), ('inception', '0569-01-01T00:00:00Z')]\n",
      "[('monarchyname', 'Roman Catholic Diocese of Bolzano-Brixen'), ('inception', '0600-01-01T00:00:00Z')]\n",
      "[('monarchyname', 'Sweden'), ('inception', '0700-01-01T00:00:00Z')]\n",
      "[('monarchyname', 'Danish Realm'), ('inception', '0800-01-01T00:00:00Z')]\n",
      "[('monarchyname', 'Denmark'), ('inception', '0800-01-01T00:00:00Z')]\n",
      "[('monarchyname', 'Gansu Uyghur Kingdom'), ('inception', '0848-01-01T00:00:00Z')]\n",
      "[('monarchyname', 'Norway'), ('inception', '0900-01-01T00:00:00Z')]\n",
      "[('monarchyname', 'The Moravian Principality'), ('inception', '0900-01-01T00:00:00Z')]\n",
      "[('monarchyname', 'Principality of Goroden'), ('inception', '1116-01-01T00:00:00Z')]\n",
      "[('monarchyname', 'County of Tyrol'), ('inception', '1140-01-01T00:00:00Z')]\n",
      "[('monarchyname', 'Duchy of Merania'), ('inception', '1153-01-01T00:00:00Z')]\n",
      "[('monarchyname', 'Chanka people'), ('inception', '1200-01-01T00:00:00Z')]\n"
     ]
    },
    {
     "data": {
      "text/plain": [
       "15"
      ]
     },
     "execution_count": 94,
     "metadata": {},
     "output_type": "execute_result"
    }
   ],
   "source": [
    "queryString = \"\"\"\n",
    "SELECT DISTINCT ?monarchyname ?inception\n",
    "WHERE { \n",
    "\n",
    "    ?monarchy (wdt:P31|wdt:P122)/wdt:P279* wd:Q7269  . \n",
    "    #?monarchy wdt:P1365 ?replaces .\n",
    "    #?monarchy wdt:P1366 ?replacedby .\n",
    "    ?monarchy wdt:P571 ?inception .\n",
    "    #?monarchy ?p ?demolished_date .\n",
    "    # Labels\n",
    "    ?monarchy <http://schema.org/name> ?monarchyname .\n",
    "    #?p <http://schema.org/name> ?pname .\n",
    "    #FILTER CONTAINS(?pname, \"demolished\") .\n",
    "    FILTER NOT EXISTS {?monarchy wdt:P576 ?demolished_date}\n",
    "} \n",
    "ORDER BY (?inception)\n",
    "LIMIT 15\n",
    "\"\"\"\n",
    "\n",
    "print(\"Results\")\n",
    "run_query(queryString)"
   ]
  },
  {
   "cell_type": "code",
   "execution_count": 95,
   "id": "7d977354-0a2d-415e-92d4-0685d5c5a200",
   "metadata": {},
   "outputs": [
    {
     "name": "stdout",
     "output_type": "stream",
     "text": [
      "Results\n",
      "[('monarchyname', 'Galactic Empire'), ('monarchy', 'http://www.wikidata.org/entity/Q2349630'), ('inception', '11584-01-01T00:00:00Z')]\n",
      "[('monarchyname', 'Roman Catholic Diocese of Metz'), ('monarchy', 'http://www.wikidata.org/entity/Q787336'), ('inception', '0201-01-01T00:00:00Z')]\n",
      "[('monarchyname', 'Western Roman Empire (395-476 AD)'), ('monarchy', 'http://www.wikidata.org/entity/Q42834'), ('inception', '0395-01-18T00:00:00Z')]\n",
      "[('monarchyname', 'duchy of Asti'), ('monarchy', 'http://www.wikidata.org/entity/Q384237'), ('inception', '0569-01-01T00:00:00Z')]\n",
      "[('monarchyname', 'Roman Catholic Diocese of Bolzano-Brixen'), ('monarchy', 'http://www.wikidata.org/entity/Q1249360'), ('inception', '0600-01-01T00:00:00Z')]\n",
      "[('monarchyname', 'Sweden'), ('monarchy', 'http://www.wikidata.org/entity/Q34'), ('inception', '0700-01-01T00:00:00Z')]\n",
      "[('monarchyname', 'Danish Realm'), ('monarchy', 'http://www.wikidata.org/entity/Q756617'), ('inception', '0800-01-01T00:00:00Z')]\n",
      "[('monarchyname', 'Denmark'), ('monarchy', 'http://www.wikidata.org/entity/Q35'), ('inception', '0800-01-01T00:00:00Z')]\n",
      "[('monarchyname', 'Gansu Uyghur Kingdom'), ('monarchy', 'http://www.wikidata.org/entity/Q1000124'), ('inception', '0848-01-01T00:00:00Z')]\n",
      "[('monarchyname', 'Norway'), ('monarchy', 'http://www.wikidata.org/entity/Q20'), ('inception', '0900-01-01T00:00:00Z')]\n",
      "[('monarchyname', 'The Moravian Principality'), ('monarchy', 'http://www.wikidata.org/entity/Q12771954'), ('inception', '0900-01-01T00:00:00Z')]\n",
      "[('monarchyname', 'Principality of Goroden'), ('monarchy', 'http://www.wikidata.org/entity/Q2502354'), ('inception', '1116-01-01T00:00:00Z')]\n",
      "[('monarchyname', 'County of Tyrol'), ('monarchy', 'http://www.wikidata.org/entity/Q16543832'), ('inception', '1140-01-01T00:00:00Z')]\n",
      "[('monarchyname', 'Duchy of Merania'), ('monarchy', 'http://www.wikidata.org/entity/Q567609'), ('inception', '1153-01-01T00:00:00Z')]\n",
      "[('monarchyname', 'Chanka people'), ('monarchy', 'http://www.wikidata.org/entity/Q1062232'), ('inception', '1200-01-01T00:00:00Z')]\n"
     ]
    },
    {
     "data": {
      "text/plain": [
       "15"
      ]
     },
     "execution_count": 95,
     "metadata": {},
     "output_type": "execute_result"
    }
   ],
   "source": [
    "queryString = \"\"\"\n",
    "SELECT DISTINCT ?monarchyname ?monarchy ?inception\n",
    "WHERE { \n",
    "\n",
    "    ?monarchy (wdt:P31|wdt:P122)/wdt:P279* wd:Q7269  . \n",
    "    #?monarchy wdt:P1365 ?replaces .\n",
    "    #?monarchy wdt:P1366 ?replacedby .\n",
    "    ?monarchy wdt:P571 ?inception .\n",
    "    #?monarchy ?p ?demolished_date .\n",
    "    # Labels\n",
    "    ?monarchy <http://schema.org/name> ?monarchyname .\n",
    "    #?p <http://schema.org/name> ?pname .\n",
    "    #FILTER CONTAINS(?pname, \"demolished\") .\n",
    "    FILTER NOT EXISTS {?monarchy wdt:P576 ?demolished_date}\n",
    "} \n",
    "ORDER BY (?inception)\n",
    "LIMIT 15\n",
    "\"\"\"\n",
    "\n",
    "print(\"Results\")\n",
    "run_query(queryString)"
   ]
  },
  {
   "cell_type": "code",
   "execution_count": 96,
   "id": "4e97f969-3d17-44a1-8184-6ef57803a244",
   "metadata": {},
   "outputs": [
    {
     "name": "stdout",
     "output_type": "stream",
     "text": [
      "Results\n",
      "[('callret-0', '15')]\n"
     ]
    },
    {
     "data": {
      "text/plain": [
       "1"
      ]
     },
     "execution_count": 96,
     "metadata": {},
     "output_type": "execute_result"
    }
   ],
   "source": [
    "# Q2349630 'Galactic Empire'\n",
    "queryString = \"\"\"\n",
    "SELECT COUNT(DISTINCT ?p)\n",
    "WHERE { \n",
    "\n",
    "    wd:Q2349630 ?p ?o .\n",
    "    # Labels\n",
    "    #?p <http://schema.org/name> ?pname .\n",
    "    #?o <http://schema.org/name> ?oname .\n",
    "\n",
    "\n",
    "\n",
    "    #FILTER regex(?pname, \"episode\", \"i\") \n",
    "} \n",
    "LIMIT 20\n",
    "\"\"\"\n",
    "\n",
    "print(\"Results\")\n",
    "run_query(queryString)"
   ]
  },
  {
   "cell_type": "code",
   "execution_count": 97,
   "id": "f9ba9def-ed5f-4da6-bb4d-1ccf8549be2a",
   "metadata": {},
   "outputs": [
    {
     "name": "stdout",
     "output_type": "stream",
     "text": [
      "Results\n",
      "[('p', 'http://www.wikidata.org/prop/direct/P1889'), ('o', 'http://www.wikidata.org/entity/Q52347'), ('oname', 'Galactic Empire')]\n",
      "[('p', 'http://www.wikidata.org/prop/direct/P122'), ('o', 'http://www.wikidata.org/entity/Q7269'), ('oname', 'monarchy')]\n",
      "[('p', 'http://www.wikidata.org/prop/direct/P1080'), ('o', 'http://www.wikidata.org/entity/Q3551232'), ('oname', 'Foundation Universe')]\n",
      "[('p', 'http://www.wikidata.org/prop/direct/P170'), ('o', 'http://www.wikidata.org/entity/Q34981'), ('oname', 'Isaac Asimov')]\n",
      "[('p', 'http://www.wikidata.org/prop/direct/P35'), ('o', 'http://www.wikidata.org/entity/Q1084312'), ('oname', 'Cleon I')]\n",
      "[('p', 'http://www.wikidata.org/prop/direct/P35'), ('o', 'http://www.wikidata.org/entity/Q47465486'), ('oname', 'Stanel VI')]\n",
      "[('p', 'http://www.wikidata.org/prop/direct/P36'), ('o', 'http://www.wikidata.org/entity/Q52208'), ('oname', 'Trantor')]\n",
      "[('p', 'http://www.wikidata.org/prop/direct/P527'), ('o', 'http://www.wikidata.org/entity/Q52208'), ('oname', 'Trantor')]\n",
      "[('p', 'http://www.wikidata.org/prop/direct/P527'), ('o', 'http://www.wikidata.org/entity/Q1093762'), ('oname', 'Terminus')]\n",
      "[('p', 'http://www.wikidata.org/prop/direct/P527'), ('o', 'http://www.wikidata.org/entity/Q6146620'), ('oname', 'Earth')]\n",
      "[('p', 'http://www.wikidata.org/prop/direct/P31'), ('o', 'http://www.wikidata.org/entity/Q653007'), ('oname', 'galactic empire')]\n",
      "[('p', 'http://www.wikidata.org/prop/direct/P31'), ('o', 'http://www.wikidata.org/entity/Q19595246'), ('oname', 'fictional empire')]\n",
      "[('p', 'http://www.wikidata.org/prop/direct/P527'), ('o', 'http://www.wikidata.org/entity/Q1049672'), ('oname', 'Aurora')]\n",
      "[('p', 'http://www.wikidata.org/prop/direct/P527'), ('o', 'http://www.wikidata.org/entity/Q1054531'), ('oname', 'Gaia')]\n",
      "[('p', 'http://www.wikidata.org/prop/direct/P527'), ('o', 'http://www.wikidata.org/entity/Q1083967'), ('oname', 'Anacreon')]\n",
      "[('p', 'http://www.wikidata.org/prop/direct/P527'), ('o', 'http://www.wikidata.org/entity/Q15063479'), ('oname', 'Helicon')]\n",
      "[('p', 'http://www.wikidata.org/prop/direct/P36'), ('o', 'http://www.wikidata.org/entity/Q15141230'), ('oname', 'Neotrantor')]\n",
      "[('p', 'http://www.wikidata.org/prop/direct/P527'), ('o', 'http://www.wikidata.org/entity/Q16145738'), ('oname', 'Alpha')]\n",
      "[('p', 'http://www.wikidata.org/prop/direct/P35'), ('o', 'http://www.wikidata.org/entity/Q25410659'), ('oname', 'Agis XIV')]\n",
      "[('p', 'http://www.wikidata.org/prop/direct/P527'), ('o', 'http://www.wikidata.org/entity/Q2841031'), ('oname', 'Sayshell')]\n"
     ]
    },
    {
     "data": {
      "text/plain": [
       "20"
      ]
     },
     "execution_count": 97,
     "metadata": {},
     "output_type": "execute_result"
    }
   ],
   "source": [
    "# Q2349630 'Galactic Empire'\n",
    "queryString = \"\"\"\n",
    "SELECT DISTINCT ?p ?o ?oname\n",
    "WHERE { \n",
    "\n",
    "    wd:Q2349630 ?p ?o .\n",
    "    # Labels\n",
    "    ?p <http://schema.org/name> ?pname .\n",
    "    ?o <http://schema.org/name> ?oname .\n",
    "\n",
    "\n",
    "\n",
    "    #FILTER regex(?pname, \"episode\", \"i\") \n",
    "} \n",
    "LIMIT 20\n",
    "\"\"\"\n",
    "\n",
    "print(\"Results\")\n",
    "run_query(queryString)"
   ]
  },
  {
   "cell_type": "code",
   "execution_count": 98,
   "id": "4f89b4ae-a944-442d-a211-470289e39564",
   "metadata": {},
   "outputs": [
    {
     "name": "stdout",
     "output_type": "stream",
     "text": [
      "Results\n",
      "[('monarchy', 'http://www.wikidata.org/entity/Q1249360'), ('inception', '0600-01-01T00:00:00Z'), ('monarchyname', 'Roman Catholic Diocese of Bolzano-Brixen')]\n",
      "[('monarchy', 'http://www.wikidata.org/entity/Q16543832'), ('inception', '1140-01-01T00:00:00Z'), ('monarchyname', 'County of Tyrol')]\n",
      "[('monarchy', 'http://www.wikidata.org/entity/Q1853386'), ('inception', '1757-01-01T00:00:00Z'), ('monarchyname', 'Mangkunegaran')]\n",
      "[('monarchy', 'http://www.wikidata.org/entity/Q1853386'), ('inception', '1757-01-01T00:00:00Z'), ('monarchyname', 'Mangkunegaran')]\n",
      "[('monarchy', 'http://www.wikidata.org/entity/Q223'), ('inception', '1979-01-01T00:00:00Z'), ('monarchyname', 'Greenland')]\n",
      "[('monarchy', 'http://www.wikidata.org/entity/Q756617'), ('inception', '0800-01-01T00:00:00Z'), ('monarchyname', 'Danish Realm')]\n",
      "[('monarchy', 'http://www.wikidata.org/entity/Q756617'), ('inception', '0800-01-01T00:00:00Z'), ('monarchyname', 'Danish Realm')]\n",
      "[('monarchy', 'http://www.wikidata.org/entity/Q756617'), ('inception', '0800-01-01T00:00:00Z'), ('monarchyname', 'Danish Realm')]\n",
      "[('monarchy', 'http://www.wikidata.org/entity/Q756617'), ('inception', '0800-01-01T00:00:00Z'), ('monarchyname', 'Danish Realm')]\n",
      "[('monarchy', 'http://www.wikidata.org/entity/Q384237'), ('inception', '0569-01-01T00:00:00Z'), ('monarchyname', 'duchy of Asti')]\n",
      "[('monarchy', 'http://www.wikidata.org/entity/Q889833'), ('inception', '1700-01-01T00:00:00Z'), ('monarchyname', 'Monarchy of Spain')]\n",
      "[('monarchy', 'http://www.wikidata.org/entity/Q889833'), ('inception', '1700-01-01T00:00:00Z'), ('monarchyname', 'Monarchy of Spain')]\n",
      "[('monarchy', 'http://www.wikidata.org/entity/Q58481205'), ('inception', '1351-01-01T00:00:00Z'), ('monarchyname', 'Duchy of Gerona')]\n",
      "[('monarchy', 'http://www.wikidata.org/entity/Q1013'), ('inception', '1966-01-01T00:00:00Z'), ('monarchyname', 'Lesotho')]\n",
      "[('monarchy', 'http://www.wikidata.org/entity/Q1013'), ('inception', '1966-01-01T00:00:00Z'), ('monarchyname', 'Lesotho')]\n",
      "[('monarchy', 'http://www.wikidata.org/entity/Q1028'), ('inception', '-399-01-01T00:00:00Z'), ('monarchyname', 'Morocco')]\n",
      "[('monarchy', 'http://www.wikidata.org/entity/Q1028'), ('inception', '-399-01-01T00:00:00Z'), ('monarchyname', 'Morocco')]\n",
      "[('monarchy', 'http://www.wikidata.org/entity/Q1050'), ('inception', '1968-09-06T00:00:00Z'), ('monarchyname', 'Eswatini')]\n",
      "[('monarchy', 'http://www.wikidata.org/entity/Q1050'), ('inception', '1968-09-06T00:00:00Z'), ('monarchyname', 'Eswatini')]\n",
      "[('monarchy', 'http://www.wikidata.org/entity/Q145'), ('inception', '1927-04-12T00:00:00Z'), ('monarchyname', 'United Kingdom')]\n"
     ]
    },
    {
     "data": {
      "text/plain": [
       "20"
      ]
     },
     "execution_count": 98,
     "metadata": {},
     "output_type": "execute_result"
    }
   ],
   "source": [
    "#[('p', 'http://www.wikidata.org/prop/direct/P31'),\n",
    "# [('o', 'http://www.wikidata.org/entity/Q19595246'), ('oname', 'fictional empire')]\n",
    "queryString = \"\"\"\n",
    "SELECT *\n",
    "WHERE { \n",
    "\n",
    "    ?monarchy (wdt:P31|wdt:P122)/wdt:P279* wd:Q7269  . \n",
    "    ?monarchy wdt:P571 ?inception .\n",
    "\n",
    "    # Labels\n",
    "    ?monarchy <http://schema.org/name> ?monarchyname .\n",
    "    FILTER NOT EXISTS {?monarchy wdt:P576 ?demolished_date}\n",
    "    FILTER NOT EXISTS {?monarchy wdt:P31 wd:Q19595246} \n",
    "} \n",
    "LIMIT 20\n",
    "\"\"\"\n",
    "\n",
    "print(\"Results\")\n",
    "run_query(queryString)"
   ]
  },
  {
   "cell_type": "markdown",
   "id": "63554811-9786-425a-9efc-d56807f30379",
   "metadata": {},
   "source": [
    "### Which are the top-3 monarchies with the earliest inception and still existing?"
   ]
  },
  {
   "cell_type": "code",
   "execution_count": 99,
   "id": "2fdc46c6-9fa6-4b1e-9d3c-702c1140bf83",
   "metadata": {},
   "outputs": [
    {
     "name": "stdout",
     "output_type": "stream",
     "text": [
      "Results\n",
      "[('monarchy', 'http://www.wikidata.org/entity/Q787336'), ('inception', '0201-01-01T00:00:00Z'), ('monarchyname', 'Roman Catholic Diocese of Metz')]\n",
      "[('monarchy', 'http://www.wikidata.org/entity/Q42834'), ('inception', '0395-01-18T00:00:00Z'), ('monarchyname', 'Western Roman Empire (395-476 AD)')]\n",
      "[('monarchy', 'http://www.wikidata.org/entity/Q384237'), ('inception', '0569-01-01T00:00:00Z'), ('monarchyname', 'duchy of Asti')]\n"
     ]
    },
    {
     "data": {
      "text/plain": [
       "3"
      ]
     },
     "execution_count": 99,
     "metadata": {},
     "output_type": "execute_result"
    }
   ],
   "source": [
    "# Which are the top-3 monarchies with the earliest inception and still existing?\n",
    "queryString = \"\"\"\n",
    "SELECT *\n",
    "WHERE { \n",
    "\n",
    "    ?monarchy (wdt:P31|wdt:P122)/wdt:P279* wd:Q7269  . \n",
    "    ?monarchy wdt:P571 ?inception .\n",
    "\n",
    "    # Labels\n",
    "    ?monarchy <http://schema.org/name> ?monarchyname .\n",
    "    FILTER NOT EXISTS {?monarchy wdt:P576 ?demolished_date} \n",
    "    FILTER NOT EXISTS {?monarchy wdt:P31 wd:Q19595246} \n",
    "} \n",
    "ORDER BY (?inception)\n",
    "LIMIT 3\n",
    "\"\"\"\n",
    "\n",
    "print(\"Results\")\n",
    "run_query(queryString)"
   ]
  },
  {
   "cell_type": "code",
   "execution_count": 100,
   "id": "648e2b7b-30cf-42bd-aa56-75be50469c57",
   "metadata": {},
   "outputs": [
    {
     "name": "stdout",
     "output_type": "stream",
     "text": [
      "Results\n",
      "[('monarchyname', 'Galactic Empire'), ('inception', '11584-01-01T00:00:00Z')]\n",
      "[('monarchyname', 'Kushan Empire'), ('inception', '0030-01-01T00:00:00Z')]\n",
      "[('monarchyname', 'Kingdom of Funan'), ('inception', '0068-01-01T00:00:00Z')]\n",
      "[('monarchyname', 'Chen princedom'), ('inception', '0088-01-01T00:00:00Z')]\n",
      "[('monarchyname', 'Bharshiva Dynasty'), ('inception', '0170-01-01T00:00:00Z')]\n",
      "[('monarchyname', 'Champa'), ('inception', '0192-01-01T00:00:00Z')]\n",
      "[('monarchyname', 'Kingdom of Araba'), ('inception', '0200-01-01T00:00:00Z')]\n",
      "[('monarchyname', 'Shule Kingdom'), ('inception', '0200-01-01T00:00:00Z')]\n",
      "[('monarchyname', 'Early history of Kedah'), ('inception', '0200-01-01T00:00:00Z')]\n",
      "[('monarchyname', 'Langkasuka'), ('inception', '0200-01-01T00:00:00Z')]\n",
      "[('monarchyname', 'Roman Catholic Diocese of Metz'), ('inception', '0201-01-01T00:00:00Z')]\n",
      "[('monarchyname', 'Ghassanids'), ('inception', '0220-01-01T00:00:00Z')]\n",
      "[('monarchyname', 'Shu Han'), ('inception', '0221-01-01T00:00:00Z')]\n",
      "[('monarchyname', 'Sasanian Empire'), ('inception', '0226-01-01T00:00:00Z')]\n",
      "[('monarchyname', 'Afrighids'), ('inception', '0305-01-01T00:00:00Z')]\n",
      "[('monarchyname', 'Gupta Empire'), ('inception', '0320-01-01T00:00:00Z')]\n",
      "[('monarchyname', 'Rouran Khaganate'), ('inception', '0330-01-01T00:00:00Z')]\n",
      "[('monarchyname', 'Airgíalla'), ('inception', '0331-01-01T00:00:00Z')]\n",
      "[('monarchyname', 'Kamarupa'), ('inception', '0350-01-01T00:00:00Z')]\n",
      "[('monarchyname', 'Byzantine Empire'), ('inception', '0395-01-18T00:00:00Z')]\n"
     ]
    },
    {
     "data": {
      "text/plain": [
       "20"
      ]
     },
     "execution_count": 100,
     "metadata": {},
     "output_type": "execute_result"
    }
   ],
   "source": [
    "# Which are the top-3 monarchies with the earliest inception and still existing?\n",
    "# [('p', 'http://www.wikidata.org/prop/direct/P576'), ('o', '-221-01-01T00:00:00Z'), ('pname', 'dissolved, abolished or demolished date')]\n",
    "queryString = \"\"\"\n",
    "SELECT DISTINCT ?monarchyname ?inception\n",
    "WHERE { \n",
    "\n",
    "    ?monarchy (wdt:P31|wdt:P122)/wdt:P279* wd:Q7269  . \n",
    "    ?monarchy wdt:P571 ?inception .\n",
    "    ?monarchy ?p ?date .\n",
    "    # Labels\n",
    "    ?monarchy <http://schema.org/name> ?monarchyname .\n",
    "    ?p <http://schema.org/name> ?pname .\n",
    "    FILTER(!(regex(str(?p), \"http://www.wikidata.org/prop/direct/P576\" ) ))\n",
    "} \n",
    "ORDER BY ?inception\n",
    "LIMIT 20\n",
    "\"\"\"\n",
    "\n",
    "print(\"Results\")\n",
    "run_query(queryString)"
   ]
  }
 ],
 "metadata": {
  "kernelspec": {
   "display_name": "Python 3 (ipykernel)",
   "language": "python",
   "name": "python3"
  },
  "language_info": {
   "codemirror_mode": {
    "name": "ipython",
    "version": 3
   },
   "file_extension": ".py",
   "mimetype": "text/x-python",
   "name": "python",
   "nbconvert_exporter": "python",
   "pygments_lexer": "ipython3",
   "version": "3.7.10"
  }
 },
 "nbformat": 4,
 "nbformat_minor": 5
}
