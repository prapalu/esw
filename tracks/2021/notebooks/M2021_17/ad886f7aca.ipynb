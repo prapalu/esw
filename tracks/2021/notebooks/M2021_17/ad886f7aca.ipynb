{
 "cells": [
  {
   "cell_type": "markdown",
   "id": "7034c3bf-6eb0-4418-8687-7b9d2a501103",
   "metadata": {},
   "source": [
    "# General instructions\n",
    "\n",
    "The goal of the project is to materialize a set of **exploratory workloads** over a real-world, large-scale,  open-domain KG: [WikiData](https://www.wikidata.org/wiki/Wikidata:Main_Page)\n",
    "\n",
    "An exploratory workload  is composed by a set of queries, where each query is related to the information obtained previously.\n",
    "\n",
    "An exploratory workload starts with a usually vague, open ended question, and does not assume the person issuing the workload has a clear understanding of the data contained in the target database or its structure.\n",
    "\n",
    "Remeber that:\n",
    "\n",
    "1. All the queries must run in the python notebook\n",
    "2. You can use classes and properties only if you find them via a SPARQL query that must be present in the notebook\n",
    "3. You do not delete useless queries. Keep everything that is synthatically valid \n",
    "\n",
    "```\n",
    "?p <http://schema.org/name> ?name .\n",
    "```\n",
    "    \n",
    "is the BGP returning a human-readable name of a property or a class in Wikidata.\n",
    "    \n",
    "    "
   ]
  },
  {
   "cell_type": "code",
   "execution_count": 1,
   "id": "3605c9d5-5371-49a5-be8d-d66e8f417139",
   "metadata": {},
   "outputs": [],
   "source": [
    "## SETUP used later\n",
    "\n",
    "from SPARQLWrapper import SPARQLWrapper, JSON\n",
    "\n",
    "\n",
    "prefixString = \"\"\"\n",
    "##-ad886f7aca-##\n",
    "PREFIX wd: <http://www.wikidata.org/entity/> \n",
    "PREFIX wdt: <http://www.wikidata.org/prop/direct/> \n",
    "PREFIX sc: <http://schema.org/>\n",
    "\"\"\"\n",
    "\n",
    "# select and construct queries\n",
    "def run_query(queryString):\n",
    "    to_run = prefixString + \"\\n\" + queryString\n",
    "\n",
    "    sparql = SPARQLWrapper(\"http://a256-gc1-02.srv.aau.dk:5820/sparql\")\n",
    "    sparql.setTimeout(300)\n",
    "    sparql.setReturnFormat(JSON)\n",
    "    sparql.setQuery(to_run)\n",
    "\n",
    "    try :\n",
    "       results = sparql.query()\n",
    "       json_results = results.convert()\n",
    "       if len(json_results['results']['bindings'])==0:\n",
    "          print(\"Empty\")\n",
    "          return 0\n",
    "    \n",
    "       for bindings in json_results['results']['bindings']:\n",
    "          print( [ (var, value['value'])  for var, value in bindings.items() ] )\n",
    "\n",
    "       return len(json_results['results']['bindings'])\n",
    "\n",
    "    except Exception as e :\n",
    "        print(\"The operation failed\", e)\n",
    "    \n",
    "# ASk queries\n",
    "def run_ask_query(queryString):\n",
    "    to_run = prefixString + \"\\n\" + queryString\n",
    "\n",
    "    sparql = SPARQLWrapper(\"http://a256-gc1-02.srv.aau.dk:5820/sparql\")\n",
    "    sparql.setTimeout(300)\n",
    "    sparql.setReturnFormat(JSON)\n",
    "    sparql.setQuery(to_run)\n",
    "\n",
    "    try :\n",
    "        return sparql.query().convert()\n",
    "\n",
    "    except Exception as e :\n",
    "        print(\"The operation failed\", e)\n"
   ]
  },
  {
   "cell_type": "markdown",
   "id": "d477a59c-a68c-4c8f-9f97-8ca5294d7d27",
   "metadata": {},
   "source": [
    "# GEO Workflow Series (\"American Architects\") \n",
    "\n",
    "Consider the following exploratory information need:\n",
    "\n",
    "> You want to study the most prolific american architects"
   ]
  },
  {
   "cell_type": "markdown",
   "id": "4a45c0ba-f79e-441d-bec5-84401b09db70",
   "metadata": {},
   "source": [
    "## Useful URIs for the current workflow\n",
    "\n",
    "\n",
    "The following are given:\n",
    "\n",
    "| IRI           | Description   | Role      |\n",
    "| -----------   | -----------   |-----------|\n",
    "| `wdt:P1647`   | subproperty   | predicate |\n",
    "| `wdt:P31`     | instance of   | predicate |\n",
    "| `wdt:P279`    | subclass      | predicate |\n",
    "| `wdt:P106`    | occupation    | predicate |\n",
    "| `wdt:P17`     | country       | predicate |\n",
    "| `wdt:P27`     | citizenship   | predicate |\n",
    "| `wd:Q5604`    | Frank Lloyd Wright     | node      |\n",
    "| `wd:Q30`      | U.S.A.        | node |\n",
    "| `wd:Q42973`   | architect     | node |\n",
    "| `wd:Q2081276` | Pettit Memorial Chapel        | node |\n",
    "| `wd:Q2977`    | Cathedral     | node |\n",
    "\n",
    "\n",
    "\n",
    "Also consider\n",
    "\n",
    "```\n",
    "?p wdt:P27 wd:Q30  . \n",
    "?p wdt:P106 wd:Q42973  . \n",
    "```\n",
    "\n",
    "is the BGP to retrieve all **american architects**"
   ]
  },
  {
   "cell_type": "markdown",
   "id": "7af439fb-96e4-4dbb-a381-f19afab79f86",
   "metadata": {
    "tags": []
   },
   "source": [
    "## Workload Goals\n",
    "\n",
    "1. Identify the BGP to obtain the notable works of an architect and their location\n",
    "\n",
    "2. Identify the BGP that connect a building with its architect, type, and architectural style\n",
    "\n",
    "3. Which architect is the most prolific in the U.S. and outside?\n",
    "\n",
    "4. Analyze the location of the buildings designed by the american architects\n",
    " \n",
    "   4.1 Which styles exists in the U.S.? Which type of building?\n",
    "   \n",
    "   4.2 In which U.S. states there are more notable buildings?\n",
    "   \n",
    "   4.3 Which U.S. state contains the largest number of building designed by U.S. architects\n"
   ]
  },
  {
   "cell_type": "code",
   "execution_count": 2,
   "id": "24a853ab-830c-422c-afd3-e9e015b8b8ed",
   "metadata": {},
   "outputs": [],
   "source": [
    "# start your workflow here"
   ]
  },
  {
   "cell_type": "code",
   "execution_count": 3,
   "id": "ade01416-92e7-4ad7-b9a9-b8fb330750dc",
   "metadata": {},
   "outputs": [
    {
     "name": "stdout",
     "output_type": "stream",
     "text": [
      "Results\n",
      "[('callret-0', '3354')]\n"
     ]
    },
    {
     "data": {
      "text/plain": [
       "1"
      ]
     },
     "execution_count": 3,
     "metadata": {},
     "output_type": "execute_result"
    }
   ],
   "source": [
    "queryString = \"\"\"\n",
    "SELECT COUNT(*)\n",
    "WHERE { \n",
    "    ?p wdt:P27 wd:Q30  . \n",
    "    ?p wdt:P106 wd:Q42973  . \n",
    "} \n",
    "\"\"\"\n",
    "print(\"Results\")\n",
    "run_query(queryString)"
   ]
  },
  {
   "cell_type": "markdown",
   "id": "26d777fc-37d0-47ba-8b5f-e28c74c670bb",
   "metadata": {},
   "source": [
    "#### Identify the BGP to obtain the notable works of an architect and their location"
   ]
  },
  {
   "cell_type": "code",
   "execution_count": 4,
   "id": "6bf983c9-9285-40ce-92cf-aa57e1922ee6",
   "metadata": {},
   "outputs": [
    {
     "name": "stdout",
     "output_type": "stream",
     "text": [
      "Results\n",
      "[('p', 'http://www.wikidata.org/entity/Q13647155'), ('name', 'Marshall Strabala')]\n",
      "[('p', 'http://www.wikidata.org/entity/Q15463168'), ('name', 'John Mead Howells')]\n",
      "[('p', 'http://www.wikidata.org/entity/Q16007786'), ('name', 'Roscoe DeWitt')]\n",
      "[('p', 'http://www.wikidata.org/entity/Q16008039'), ('name', 'Herbert B. Hunter')]\n",
      "[('p', 'http://www.wikidata.org/entity/Q16008282'), ('name', 'Mott B. Schmidt')]\n",
      "[('p', 'http://www.wikidata.org/entity/Q16010946'), ('name', 'Henry Powell Hopkins')]\n",
      "[('p', 'http://www.wikidata.org/entity/Q16012978'), ('name', 'Edward Giddings')]\n",
      "[('p', 'http://www.wikidata.org/entity/Q16013299'), ('name', 'Max M. Sandfield')]\n",
      "[('p', 'http://www.wikidata.org/entity/Q16017336'), ('name', 'Richard Lewis Blinder')]\n",
      "[('p', 'http://www.wikidata.org/entity/Q16023299'), ('name', 'Ambrose J. Russell')]\n"
     ]
    },
    {
     "data": {
      "text/plain": [
       "10"
      ]
     },
     "execution_count": 4,
     "metadata": {},
     "output_type": "execute_result"
    }
   ],
   "source": [
    "# american architects human readable:\n",
    "queryString = \"\"\"\n",
    "SELECT *\n",
    "WHERE { \n",
    "    ?p wdt:P27 wd:Q30  . \n",
    "    ?p wdt:P106 wd:Q42973  . \n",
    "    ?p <http://schema.org/name> ?name .\n",
    "} \n",
    "LIMIT 10\n",
    "\"\"\"\n",
    "print(\"Results\")\n",
    "run_query(queryString)"
   ]
  },
  {
   "cell_type": "code",
   "execution_count": 5,
   "id": "b6384f15-f127-4acf-9b69-48ea58bf3441",
   "metadata": {},
   "outputs": [
    {
     "name": "stdout",
     "output_type": "stream",
     "text": [
      "Results\n",
      "[('americanar', 'http://www.wikidata.org/entity/Q13647155'), ('p', 'http://www.w3.org/1999/02/22-rdf-syntax-ns#type'), ('o', 'http://wikiba.se/ontology#Item')]\n",
      "[('americanar', 'http://www.wikidata.org/entity/Q15463168'), ('p', 'http://www.w3.org/1999/02/22-rdf-syntax-ns#type'), ('o', 'http://wikiba.se/ontology#Item')]\n",
      "[('americanar', 'http://www.wikidata.org/entity/Q16007786'), ('p', 'http://www.w3.org/1999/02/22-rdf-syntax-ns#type'), ('o', 'http://wikiba.se/ontology#Item')]\n",
      "[('americanar', 'http://www.wikidata.org/entity/Q16008039'), ('p', 'http://www.w3.org/1999/02/22-rdf-syntax-ns#type'), ('o', 'http://wikiba.se/ontology#Item')]\n",
      "[('americanar', 'http://www.wikidata.org/entity/Q16008282'), ('p', 'http://www.w3.org/1999/02/22-rdf-syntax-ns#type'), ('o', 'http://wikiba.se/ontology#Item')]\n",
      "[('americanar', 'http://www.wikidata.org/entity/Q16010946'), ('p', 'http://www.w3.org/1999/02/22-rdf-syntax-ns#type'), ('o', 'http://wikiba.se/ontology#Item')]\n",
      "[('americanar', 'http://www.wikidata.org/entity/Q16012978'), ('p', 'http://www.w3.org/1999/02/22-rdf-syntax-ns#type'), ('o', 'http://wikiba.se/ontology#Item')]\n",
      "[('americanar', 'http://www.wikidata.org/entity/Q16013299'), ('p', 'http://www.w3.org/1999/02/22-rdf-syntax-ns#type'), ('o', 'http://wikiba.se/ontology#Item')]\n",
      "[('americanar', 'http://www.wikidata.org/entity/Q16017336'), ('p', 'http://www.w3.org/1999/02/22-rdf-syntax-ns#type'), ('o', 'http://wikiba.se/ontology#Item')]\n",
      "[('americanar', 'http://www.wikidata.org/entity/Q16023299'), ('p', 'http://www.w3.org/1999/02/22-rdf-syntax-ns#type'), ('o', 'http://wikiba.se/ontology#Item')]\n",
      "[('americanar', 'http://www.wikidata.org/entity/Q16027130'), ('p', 'http://www.w3.org/1999/02/22-rdf-syntax-ns#type'), ('o', 'http://wikiba.se/ontology#Item')]\n",
      "[('americanar', 'http://www.wikidata.org/entity/Q16030028'), ('p', 'http://www.w3.org/1999/02/22-rdf-syntax-ns#type'), ('o', 'http://wikiba.se/ontology#Item')]\n",
      "[('americanar', 'http://www.wikidata.org/entity/Q16030690'), ('p', 'http://www.w3.org/1999/02/22-rdf-syntax-ns#type'), ('o', 'http://wikiba.se/ontology#Item')]\n",
      "[('americanar', 'http://www.wikidata.org/entity/Q16037737'), ('p', 'http://www.w3.org/1999/02/22-rdf-syntax-ns#type'), ('o', 'http://wikiba.se/ontology#Item')]\n",
      "[('americanar', 'http://www.wikidata.org/entity/Q16043514'), ('p', 'http://www.w3.org/1999/02/22-rdf-syntax-ns#type'), ('o', 'http://wikiba.se/ontology#Item')]\n",
      "[('americanar', 'http://www.wikidata.org/entity/Q16059447'), ('p', 'http://www.w3.org/1999/02/22-rdf-syntax-ns#type'), ('o', 'http://wikiba.se/ontology#Item')]\n",
      "[('americanar', 'http://www.wikidata.org/entity/Q16062214'), ('p', 'http://www.w3.org/1999/02/22-rdf-syntax-ns#type'), ('o', 'http://wikiba.se/ontology#Item')]\n",
      "[('americanar', 'http://www.wikidata.org/entity/Q16197123'), ('p', 'http://www.w3.org/1999/02/22-rdf-syntax-ns#type'), ('o', 'http://wikiba.se/ontology#Item')]\n",
      "[('americanar', 'http://www.wikidata.org/entity/Q16204687'), ('p', 'http://www.w3.org/1999/02/22-rdf-syntax-ns#type'), ('o', 'http://wikiba.se/ontology#Item')]\n",
      "[('americanar', 'http://www.wikidata.org/entity/Q3017360'), ('p', 'http://www.w3.org/1999/02/22-rdf-syntax-ns#type'), ('o', 'http://wikiba.se/ontology#Item')]\n",
      "[('americanar', 'http://www.wikidata.org/entity/Q17016745'), ('p', 'http://www.w3.org/1999/02/22-rdf-syntax-ns#type'), ('o', 'http://wikiba.se/ontology#Item')]\n",
      "[('americanar', 'http://www.wikidata.org/entity/Q17029669'), ('p', 'http://www.w3.org/1999/02/22-rdf-syntax-ns#type'), ('o', 'http://wikiba.se/ontology#Item')]\n",
      "[('americanar', 'http://www.wikidata.org/entity/Q17058193'), ('p', 'http://www.w3.org/1999/02/22-rdf-syntax-ns#type'), ('o', 'http://wikiba.se/ontology#Item')]\n",
      "[('americanar', 'http://www.wikidata.org/entity/Q5006523'), ('p', 'http://www.w3.org/1999/02/22-rdf-syntax-ns#type'), ('o', 'http://wikiba.se/ontology#Item')]\n",
      "[('americanar', 'http://www.wikidata.org/entity/Q5077062'), ('p', 'http://www.w3.org/1999/02/22-rdf-syntax-ns#type'), ('o', 'http://wikiba.se/ontology#Item')]\n",
      "[('americanar', 'http://www.wikidata.org/entity/Q17183520'), ('p', 'http://www.w3.org/1999/02/22-rdf-syntax-ns#type'), ('o', 'http://wikiba.se/ontology#Item')]\n",
      "[('americanar', 'http://www.wikidata.org/entity/Q17305901'), ('p', 'http://www.w3.org/1999/02/22-rdf-syntax-ns#type'), ('o', 'http://wikiba.se/ontology#Item')]\n",
      "[('americanar', 'http://www.wikidata.org/entity/Q5540911'), ('p', 'http://www.w3.org/1999/02/22-rdf-syntax-ns#type'), ('o', 'http://wikiba.se/ontology#Item')]\n",
      "[('americanar', 'http://www.wikidata.org/entity/Q17626642'), ('p', 'http://www.w3.org/1999/02/22-rdf-syntax-ns#type'), ('o', 'http://wikiba.se/ontology#Item')]\n",
      "[('americanar', 'http://www.wikidata.org/entity/Q15437942'), ('p', 'http://www.w3.org/1999/02/22-rdf-syntax-ns#type'), ('o', 'http://wikiba.se/ontology#Item')]\n",
      "[('americanar', 'http://www.wikidata.org/entity/Q56420678'), ('p', 'http://www.w3.org/1999/02/22-rdf-syntax-ns#type'), ('o', 'http://wikiba.se/ontology#Item')]\n",
      "[('americanar', 'http://www.wikidata.org/entity/Q20988921'), ('p', 'http://www.w3.org/1999/02/22-rdf-syntax-ns#type'), ('o', 'http://wikiba.se/ontology#Item')]\n",
      "[('americanar', 'http://www.wikidata.org/entity/Q21664106'), ('p', 'http://www.w3.org/1999/02/22-rdf-syntax-ns#type'), ('o', 'http://wikiba.se/ontology#Item')]\n",
      "[('americanar', 'http://www.wikidata.org/entity/Q21665067'), ('p', 'http://www.w3.org/1999/02/22-rdf-syntax-ns#type'), ('o', 'http://wikiba.se/ontology#Item')]\n",
      "[('americanar', 'http://www.wikidata.org/entity/Q21780508'), ('p', 'http://www.w3.org/1999/02/22-rdf-syntax-ns#type'), ('o', 'http://wikiba.se/ontology#Item')]\n",
      "[('americanar', 'http://www.wikidata.org/entity/Q22073076'), ('p', 'http://www.w3.org/1999/02/22-rdf-syntax-ns#type'), ('o', 'http://wikiba.se/ontology#Item')]\n",
      "[('americanar', 'http://www.wikidata.org/entity/Q7494440'), ('p', 'http://www.w3.org/1999/02/22-rdf-syntax-ns#type'), ('o', 'http://wikiba.se/ontology#Item')]\n",
      "[('americanar', 'http://www.wikidata.org/entity/Q22958108'), ('p', 'http://www.w3.org/1999/02/22-rdf-syntax-ns#type'), ('o', 'http://wikiba.se/ontology#Item')]\n",
      "[('americanar', 'http://www.wikidata.org/entity/Q513374'), ('p', 'http://www.w3.org/1999/02/22-rdf-syntax-ns#type'), ('o', 'http://wikiba.se/ontology#Item')]\n",
      "[('americanar', 'http://www.wikidata.org/entity/Q15997885'), ('p', 'http://www.w3.org/1999/02/22-rdf-syntax-ns#type'), ('o', 'http://wikiba.se/ontology#Item')]\n",
      "[('americanar', 'http://www.wikidata.org/entity/Q30125162'), ('p', 'http://www.w3.org/1999/02/22-rdf-syntax-ns#type'), ('o', 'http://wikiba.se/ontology#Item')]\n",
      "[('americanar', 'http://www.wikidata.org/entity/Q29093464'), ('p', 'http://www.w3.org/1999/02/22-rdf-syntax-ns#type'), ('o', 'http://wikiba.se/ontology#Item')]\n",
      "[('americanar', 'http://www.wikidata.org/entity/Q456131'), ('p', 'http://www.w3.org/1999/02/22-rdf-syntax-ns#type'), ('o', 'http://wikiba.se/ontology#Item')]\n",
      "[('americanar', 'http://www.wikidata.org/entity/Q531806'), ('p', 'http://www.w3.org/1999/02/22-rdf-syntax-ns#type'), ('o', 'http://wikiba.se/ontology#Item')]\n",
      "[('americanar', 'http://www.wikidata.org/entity/Q535985'), ('p', 'http://www.w3.org/1999/02/22-rdf-syntax-ns#type'), ('o', 'http://wikiba.se/ontology#Item')]\n",
      "[('americanar', 'http://www.wikidata.org/entity/Q541127'), ('p', 'http://www.w3.org/1999/02/22-rdf-syntax-ns#type'), ('o', 'http://wikiba.se/ontology#Item')]\n",
      "[('americanar', 'http://www.wikidata.org/entity/Q113672'), ('p', 'http://www.w3.org/1999/02/22-rdf-syntax-ns#type'), ('o', 'http://wikiba.se/ontology#Item')]\n",
      "[('americanar', 'http://www.wikidata.org/entity/Q4280514'), ('p', 'http://www.w3.org/1999/02/22-rdf-syntax-ns#type'), ('o', 'http://wikiba.se/ontology#Item')]\n",
      "[('americanar', 'http://www.wikidata.org/entity/Q6136679'), ('p', 'http://www.w3.org/1999/02/22-rdf-syntax-ns#type'), ('o', 'http://wikiba.se/ontology#Item')]\n",
      "[('americanar', 'http://www.wikidata.org/entity/Q19662899'), ('p', 'http://www.w3.org/1999/02/22-rdf-syntax-ns#type'), ('o', 'http://wikiba.se/ontology#Item')]\n"
     ]
    },
    {
     "data": {
      "text/plain": [
       "50"
      ]
     },
     "execution_count": 5,
     "metadata": {},
     "output_type": "execute_result"
    }
   ],
   "source": [
    "# returning all the american architectures:\n",
    "queryString = \"\"\"\n",
    "SELECT ?americanar ?americanarLabel ?p ?pLabel ?o ?oLabel\n",
    "WHERE { \n",
    "    ?americanar wdt:P27 wd:Q30  . \n",
    "    ?americanar wdt:P106 wd:Q42973 ;\n",
    "          ?p ?o .       \n",
    "} \n",
    "LIMIT 50\n",
    "\n",
    "\"\"\"\n",
    "print(\"Results\")\n",
    "run_query(queryString)"
   ]
  },
  {
   "cell_type": "code",
   "execution_count": 6,
   "id": "71566a6e-e13a-44ed-a718-965d8de0f106",
   "metadata": {},
   "outputs": [
    {
     "name": "stdout",
     "output_type": "stream",
     "text": [
      "Results\n",
      "[('americanar', 'http://www.wikidata.org/entity/Q13647155'), ('americanarLabel', 'Marshall Strabala')]\n",
      "[('americanar', 'http://www.wikidata.org/entity/Q15463168'), ('americanarLabel', 'John Mead Howells')]\n",
      "[('americanar', 'http://www.wikidata.org/entity/Q16007786'), ('americanarLabel', 'Roscoe DeWitt')]\n",
      "[('americanar', 'http://www.wikidata.org/entity/Q16008039'), ('americanarLabel', 'Herbert B. Hunter')]\n",
      "[('americanar', 'http://www.wikidata.org/entity/Q16008282'), ('americanarLabel', 'Mott B. Schmidt')]\n",
      "[('americanar', 'http://www.wikidata.org/entity/Q16010946'), ('americanarLabel', 'Henry Powell Hopkins')]\n",
      "[('americanar', 'http://www.wikidata.org/entity/Q16012978'), ('americanarLabel', 'Edward Giddings')]\n",
      "[('americanar', 'http://www.wikidata.org/entity/Q16013299'), ('americanarLabel', 'Max M. Sandfield')]\n",
      "[('americanar', 'http://www.wikidata.org/entity/Q16017336'), ('americanarLabel', 'Richard Lewis Blinder')]\n",
      "[('americanar', 'http://www.wikidata.org/entity/Q16023299'), ('americanarLabel', 'Ambrose J. Russell')]\n",
      "[('americanar', 'http://www.wikidata.org/entity/Q16027130'), ('americanarLabel', 'Henry Augustus Siebrecht')]\n",
      "[('americanar', 'http://www.wikidata.org/entity/Q16030028'), ('americanarLabel', 'Abraham Wesley Eager')]\n",
      "[('americanar', 'http://www.wikidata.org/entity/Q16030690'), ('americanarLabel', 'Carl Ruehrmund')]\n",
      "[('americanar', 'http://www.wikidata.org/entity/Q16037737'), ('americanarLabel', 'Westray Ladd')]\n",
      "[('americanar', 'http://www.wikidata.org/entity/Q16043514'), ('americanarLabel', 'John A. Fox')]\n",
      "[('americanar', 'http://www.wikidata.org/entity/Q16059447'), ('americanarLabel', 'Walter T. Downing')]\n",
      "[('americanar', 'http://www.wikidata.org/entity/Q16062214'), ('americanarLabel', 'Henry Monheim')]\n",
      "[('americanar', 'http://www.wikidata.org/entity/Q16197123'), ('americanarLabel', 'Robert Mihaly')]\n",
      "[('americanar', 'http://www.wikidata.org/entity/Q16204687'), ('americanarLabel', 'Jefferson Coburn')]\n",
      "[('americanar', 'http://www.wikidata.org/entity/Q3017360'), ('americanarLabel', 'David Adler')]\n",
      "[('americanar', 'http://www.wikidata.org/entity/Q17016745'), ('americanarLabel', 'Lester Avery')]\n",
      "[('americanar', 'http://www.wikidata.org/entity/Q17029669'), ('americanarLabel', 'Jack West')]\n",
      "[('americanar', 'http://www.wikidata.org/entity/Q17058193'), ('americanarLabel', 'Gin D. Wong')]\n",
      "[('americanar', 'http://www.wikidata.org/entity/Q5006523'), ('americanarLabel', 'C. Howard Crane')]\n",
      "[('americanar', 'http://www.wikidata.org/entity/Q5077062'), ('americanarLabel', 'Charles E. Choate')]\n",
      "[('americanar', 'http://www.wikidata.org/entity/Q17183520'), ('americanarLabel', 'William H. McElfatrick')]\n",
      "[('americanar', 'http://www.wikidata.org/entity/Q17305901'), ('americanarLabel', 'Eric Ho')]\n",
      "[('americanar', 'http://www.wikidata.org/entity/Q5540911'), ('americanarLabel', 'George I. Barnett')]\n",
      "[('americanar', 'http://www.wikidata.org/entity/Q17626642'), ('americanarLabel', 'Francis Willford Fitzpatrick')]\n",
      "[('americanar', 'http://www.wikidata.org/entity/Q15437942'), ('americanarLabel', 'Henry Franklin Kilburn')]\n",
      "[('americanar', 'http://www.wikidata.org/entity/Q56420678'), ('americanarLabel', 'Matthew Del Gaudio')]\n",
      "[('americanar', 'http://www.wikidata.org/entity/Q20988921'), ('americanarLabel', 'Gertrude Sawyer')]\n",
      "[('americanar', 'http://www.wikidata.org/entity/Q21664106'), ('americanarLabel', 'Frank Lyman Austin')]\n",
      "[('americanar', 'http://www.wikidata.org/entity/Q21665067'), ('americanarLabel', 'Margaret Van Pelt Vilas')]\n",
      "[('americanar', 'http://www.wikidata.org/entity/Q21780508'), ('americanarLabel', 'Benjamin H. Marshall')]\n",
      "[('americanar', 'http://www.wikidata.org/entity/Q22073076'), ('americanarLabel', 'Christine Salmon')]\n",
      "[('americanar', 'http://www.wikidata.org/entity/Q7494440'), ('americanarLabel', 'Sheperd S. Woodcock')]\n",
      "[('americanar', 'http://www.wikidata.org/entity/Q22958108'), ('americanarLabel', 'Rebecca L. Binder')]\n",
      "[('americanar', 'http://www.wikidata.org/entity/Q513374'), ('americanarLabel', 'Greg Lynn')]\n",
      "[('americanar', 'http://www.wikidata.org/entity/Q15997885'), ('americanarLabel', 'Frederick L. Ackerman')]\n",
      "[('americanar', 'http://www.wikidata.org/entity/Q30125162'), ('americanarLabel', 'DeNorval Unthank Jr.')]\n",
      "[('americanar', 'http://www.wikidata.org/entity/Q29093464'), ('americanarLabel', 'Ivey P. Crutchfield')]\n",
      "[('americanar', 'http://www.wikidata.org/entity/Q456131'), ('americanarLabel', 'Gilmore David Clarke')]\n",
      "[('americanar', 'http://www.wikidata.org/entity/Q531806'), ('americanarLabel', 'Joseph Pijoan')]\n",
      "[('americanar', 'http://www.wikidata.org/entity/Q535985'), ('americanarLabel', 'Theodate Pope Riddle')]\n",
      "[('americanar', 'http://www.wikidata.org/entity/Q541127'), ('americanarLabel', 'John Meehan')]\n",
      "[('americanar', 'http://www.wikidata.org/entity/Q113672'), ('americanarLabel', 'Lilia Skala')]\n",
      "[('americanar', 'http://www.wikidata.org/entity/Q4280514'), ('americanarLabel', 'George R. Mann')]\n",
      "[('americanar', 'http://www.wikidata.org/entity/Q6136679'), ('americanarLabel', 'James J. Gaffney')]\n",
      "[('americanar', 'http://www.wikidata.org/entity/Q19662899'), ('americanarLabel', 'Joseph Younger')]\n"
     ]
    },
    {
     "data": {
      "text/plain": [
       "50"
      ]
     },
     "execution_count": 6,
     "metadata": {},
     "output_type": "execute_result"
    }
   ],
   "source": [
    "# the architects names searching\n",
    "queryString = \"\"\"\n",
    "SELECT DISTINCT ?americanar ?americanarLabel \n",
    "WHERE { \n",
    "    ?americanar wdt:P27 wd:Q30  . \n",
    "    ?americanar wdt:P106 wd:Q42973 .\n",
    "    ?americanar <http://schema.org/name> ?americanarLabel . \n",
    "} \n",
    "LIMIT 50\n",
    "\"\"\"\n",
    "print(\"Results\")\n",
    "run_query(queryString)"
   ]
  },
  {
   "cell_type": "code",
   "execution_count": 7,
   "id": "a00384d6-f5c5-4b8d-bd0c-f01a75ddb224",
   "metadata": {},
   "outputs": [
    {
     "name": "stdout",
     "output_type": "stream",
     "text": [
      "Results\n",
      "[('p', 'http://www.wikidata.org/entity/Q55276305'), ('pname', 'Category:Pettit Memorial Chapel'), ('o', 'http://www.wikidata.org/prop/direct/P301'), ('oname', \"category's main topic\")]\n",
      "[('p', 'http://www.wikidata.org/entity/Q5604'), ('pname', 'Frank Lloyd Wright'), ('o', 'http://www.wikidata.org/prop/direct/P800'), ('oname', 'notable work')]\n"
     ]
    },
    {
     "data": {
      "text/plain": [
       "2"
      ]
     },
     "execution_count": 7,
     "metadata": {},
     "output_type": "execute_result"
    }
   ],
   "source": [
    "# 1. returning their works (building names)\n",
    "# 2. find their arts (buildings)\n",
    "# 0.  'petit memorial chapel'\n",
    "# search for the location\n",
    "queryString = \"\"\"\n",
    "SELECT ?p ?pname ?o ?oname WHERE{\n",
    "  ?p ?o wd:Q2081276 .\n",
    "  ## labels\n",
    "  ?p <http://schema.org/name> ?pname .\n",
    "  ?o <http://schema.org/name> ?oname .\n",
    "}\n",
    "\"\"\"\n",
    "print(\"Results\")\n",
    "run_query(queryString)"
   ]
  },
  {
   "cell_type": "code",
   "execution_count": 8,
   "id": "9cfc6a4b-9f4c-4efe-acf7-d80fb621070f",
   "metadata": {},
   "outputs": [
    {
     "name": "stdout",
     "output_type": "stream",
     "text": [
      "Results\n",
      "[('p', 'http://www.wikidata.org/prop/direct/P149'), ('pLabel', 'architectural style'), ('o', 'http://www.wikidata.org/entity/Q245188'), ('oLabel', 'modern architecture')]\n",
      "[('p', 'http://www.wikidata.org/prop/direct/P17'), ('pLabel', 'country'), ('o', 'http://www.wikidata.org/entity/Q30'), ('oLabel', 'United States of America')]\n",
      "[('p', 'http://www.wikidata.org/prop/direct/P1435'), ('pLabel', 'heritage designation'), ('o', 'http://www.wikidata.org/entity/Q19558910'), ('oLabel', 'National Register of Historic Places listed place')]\n",
      "[('p', 'http://www.wikidata.org/prop/direct/P84'), ('pLabel', 'architect'), ('o', 'http://www.wikidata.org/entity/Q5604'), ('oLabel', 'Frank Lloyd Wright')]\n",
      "[('p', 'http://www.wikidata.org/prop/direct/P131'), ('pLabel', 'located in the administrative territorial entity'), ('o', 'http://www.wikidata.org/entity/Q185609'), ('oLabel', 'Belvidere')]\n",
      "[('p', 'http://www.wikidata.org/prop/direct/P910'), ('pLabel', \"topic's main category\"), ('o', 'http://www.wikidata.org/entity/Q55276305'), ('oLabel', 'Category:Pettit Memorial Chapel')]\n",
      "[('p', 'http://www.wikidata.org/prop/direct/P31'), ('pLabel', 'instance of'), ('o', 'http://www.wikidata.org/entity/Q108325'), ('oLabel', 'chapel')]\n"
     ]
    },
    {
     "data": {
      "text/plain": [
       "7"
      ]
     },
     "execution_count": 8,
     "metadata": {},
     "output_type": "execute_result"
    }
   ],
   "source": [
    "# search for objects related to this node\n",
    "queryString = \"\"\"\n",
    "SELECT ?p ?pLabel ?o ?oLabel WHERE{\n",
    "  wd:Q2081276 ?p ?o .\n",
    "  \n",
    "    ## labels\n",
    "  ?p <http://schema.org/name> ?pLabel .\n",
    "  ?o <http://schema.org/name> ?oLabel .\n",
    "  \n",
    "}\n",
    "\"\"\"\n",
    "print(\"Results\")\n",
    "run_query(queryString)"
   ]
  },
  {
   "cell_type": "code",
   "execution_count": 9,
   "id": "a05b9ce9-f60b-4607-b6da-7a90a1b2a7f4",
   "metadata": {},
   "outputs": [
    {
     "name": "stdout",
     "output_type": "stream",
     "text": [
      "Results\n",
      "[('p', 'http://www.wikidata.org/prop/direct/P149'), ('o', 'http://www.wikidata.org/entity/Q245188'), ('oLabel', 'modern architecture')]\n",
      "[('p', 'http://www.wikidata.org/prop/direct/P17'), ('o', 'http://www.wikidata.org/entity/Q30'), ('oLabel', 'United States of America')]\n",
      "[('p', 'http://www.wikidata.org/prop/direct/P1435'), ('o', 'http://www.wikidata.org/entity/Q19558910'), ('oLabel', 'National Register of Historic Places listed place')]\n",
      "[('p', 'http://www.wikidata.org/prop/direct/P84'), ('o', 'http://www.wikidata.org/entity/Q5604'), ('oLabel', 'Frank Lloyd Wright')]\n",
      "[('p', 'http://www.wikidata.org/prop/direct/P131'), ('o', 'http://www.wikidata.org/entity/Q185609'), ('oLabel', 'Belvidere')]\n",
      "[('p', 'http://www.wikidata.org/prop/direct/P910'), ('o', 'http://www.wikidata.org/entity/Q55276305'), ('oLabel', 'Category:Pettit Memorial Chapel')]\n",
      "[('p', 'http://www.wikidata.org/prop/direct/P31'), ('o', 'http://www.wikidata.org/entity/Q108325'), ('oLabel', 'chapel')]\n"
     ]
    },
    {
     "data": {
      "text/plain": [
       "7"
      ]
     },
     "execution_count": 9,
     "metadata": {},
     "output_type": "execute_result"
    }
   ],
   "source": [
    "\n",
    "queryString = \"\"\"\n",
    "SELECT ?p ?pLabel ?o ?oLabel WHERE{\n",
    "  wd:Q2081276 ?p ?o .\n",
    "  ## labels\n",
    "     ?o <http://schema.org/name> ?oLabel .\n",
    "}\n",
    "\"\"\"\n",
    "print(\"Results\")\n",
    "run_query(queryString)"
   ]
  },
  {
   "cell_type": "code",
   "execution_count": 10,
   "id": "60f79e51-091f-46b5-b996-7db3baa14f3a",
   "metadata": {},
   "outputs": [
    {
     "name": "stdout",
     "output_type": "stream",
     "text": [
      "Results\n",
      "[('p', 'http://www.wikidata.org/prop/direct/P149'), ('pLabel', 'architectural style'), ('o', 'http://www.wikidata.org/entity/Q245188'), ('oLabel', 'modern architecture')]\n",
      "[('p', 'http://www.wikidata.org/prop/direct/P17'), ('pLabel', 'country'), ('o', 'http://www.wikidata.org/entity/Q30'), ('oLabel', 'United States of America')]\n",
      "[('p', 'http://www.wikidata.org/prop/direct/P1435'), ('pLabel', 'heritage designation'), ('o', 'http://www.wikidata.org/entity/Q19558910'), ('oLabel', 'National Register of Historic Places listed place')]\n",
      "[('p', 'http://www.wikidata.org/prop/direct/P84'), ('pLabel', 'architect'), ('o', 'http://www.wikidata.org/entity/Q5604'), ('oLabel', 'Frank Lloyd Wright')]\n",
      "[('p', 'http://www.wikidata.org/prop/direct/P131'), ('pLabel', 'located in the administrative territorial entity'), ('o', 'http://www.wikidata.org/entity/Q185609'), ('oLabel', 'Belvidere')]\n",
      "[('p', 'http://www.wikidata.org/prop/direct/P910'), ('pLabel', \"topic's main category\"), ('o', 'http://www.wikidata.org/entity/Q55276305'), ('oLabel', 'Category:Pettit Memorial Chapel')]\n",
      "[('p', 'http://www.wikidata.org/prop/direct/P31'), ('pLabel', 'instance of'), ('o', 'http://www.wikidata.org/entity/Q108325'), ('oLabel', 'chapel')]\n"
     ]
    },
    {
     "data": {
      "text/plain": [
       "7"
      ]
     },
     "execution_count": 10,
     "metadata": {},
     "output_type": "execute_result"
    }
   ],
   "source": [
    "# search for the location and geonames\n",
    "\n",
    "queryString = \"\"\"\n",
    "SELECT ?p ?pLabel ?o ?oLabel WHERE{\n",
    "  wd:Q2081276 ?p ?o .\n",
    "    ## labels\n",
    "     ?p <http://schema.org/name> ?pLabel .\n",
    "     ?o <http://schema.org/name> ?oLabel .\n",
    "\n",
    "}\n",
    "\"\"\"\n",
    "print(\"Results\")\n",
    "run_query(queryString)"
   ]
  },
  {
   "cell_type": "code",
   "execution_count": 11,
   "id": "7426ca29-4549-476b-a52a-152425f4a999",
   "metadata": {},
   "outputs": [
    {
     "name": "stdout",
     "output_type": "stream",
     "text": [
      "Results\n",
      "[('p', 'http://www.wikidata.org/prop/direct/P149'), ('pLabel', 'architectural style'), ('o', 'http://www.wikidata.org/entity/Q245188'), ('oLabel', 'modern architecture')]\n",
      "[('p', 'http://www.wikidata.org/prop/direct/P17'), ('pLabel', 'country'), ('o', 'http://www.wikidata.org/entity/Q30'), ('oLabel', 'United States of America')]\n",
      "[('p', 'http://www.wikidata.org/prop/direct/P1435'), ('pLabel', 'heritage designation'), ('o', 'http://www.wikidata.org/entity/Q19558910'), ('oLabel', 'National Register of Historic Places listed place')]\n",
      "[('p', 'http://www.wikidata.org/prop/direct/P84'), ('pLabel', 'architect'), ('o', 'http://www.wikidata.org/entity/Q5604'), ('oLabel', 'Frank Lloyd Wright')]\n",
      "[('p', 'http://www.wikidata.org/prop/direct/P131'), ('pLabel', 'located in the administrative territorial entity'), ('o', 'http://www.wikidata.org/entity/Q185609'), ('oLabel', 'Belvidere')]\n",
      "[('p', 'http://www.wikidata.org/prop/direct/P910'), ('pLabel', \"topic's main category\"), ('o', 'http://www.wikidata.org/entity/Q55276305'), ('oLabel', 'Category:Pettit Memorial Chapel')]\n",
      "[('p', 'http://www.wikidata.org/prop/direct/P31'), ('pLabel', 'instance of'), ('o', 'http://www.wikidata.org/entity/Q108325'), ('oLabel', 'chapel')]\n"
     ]
    },
    {
     "data": {
      "text/plain": [
       "7"
      ]
     },
     "execution_count": 11,
     "metadata": {},
     "output_type": "execute_result"
    }
   ],
   "source": [
    "# wd:Q19558910\n",
    "# wdt:P131 \n",
    "#  wd:Q185609\tBelvidere is an instance of wdt:P131 \n",
    "# arts\n",
    "# (architect) wdt:P84\thttp://www.wikidata.org/prop/direct/P84\t wd:Q5604\tFrank Lloyd Wright (instance of that properties)\n",
    "# chapel is connected to the artist\n",
    "\n",
    "queryString = \"\"\"\n",
    "SELECT ?p ?pLabel ?o ?oLabel WHERE{\n",
    "  wd:Q2081276 ?p ?o .\n",
    "    ## labels\n",
    "     ?p <http://schema.org/name> ?pLabel .\n",
    "     ?o <http://schema.org/name> ?oLabel .\n",
    "}\n",
    "\"\"\"\n",
    "print(\"Results\")\n",
    "run_query(queryString)\n",
    "\n",
    "# wdt:P84\thttp://www.wikidata.org/prop/direct/P84\t wd:Q5604\tFrank Lloyd Wright\n",
    "# architect(wdt:P84) is wd:Q5604 "
   ]
  },
  {
   "cell_type": "code",
   "execution_count": 12,
   "id": "5189a153-0815-4f78-8828-b4377be3b5e9",
   "metadata": {},
   "outputs": [
    {
     "name": "stdout",
     "output_type": "stream",
     "text": [
      "Results\n",
      "[('work', 'http://www.wikidata.org/entity/Q929965'), ('workLabel', 'Robie House')]\n",
      "[('work', 'http://www.wikidata.org/entity/Q2081276'), ('workLabel', 'Pettit Memorial Chapel')]\n",
      "[('work', 'http://www.wikidata.org/entity/Q965011'), ('workLabel', 'Millard House')]\n",
      "[('work', 'http://www.wikidata.org/entity/Q201469'), ('workLabel', 'Solomon R. Guggenheim Museum')]\n",
      "[('work', 'http://www.wikidata.org/entity/Q2424445'), ('workLabel', 'Thomas H. Gale House')]\n",
      "[('work', 'http://www.wikidata.org/entity/Q4956682'), ('workLabel', 'Brandes House')]\n",
      "[('work', 'http://www.wikidata.org/entity/Q5468984'), ('workLabel', 'Forest House')]\n",
      "[('work', 'http://www.wikidata.org/entity/Q6531634'), ('workLabel', 'Robert M. Lamp House')]\n",
      "[('work', 'http://www.wikidata.org/entity/Q7010799'), ('workLabel', 'New Orleans Union Station')]\n",
      "[('work', 'http://www.wikidata.org/entity/Q64683561'), ('workLabel', 'Sherman M. Booth House')]\n",
      "[('work', 'http://www.wikidata.org/entity/Q7296752'), ('workLabel', 'Ravine Bluffs Development')]\n",
      "[('work', 'http://www.wikidata.org/entity/Q7987311'), ('workLabel', 'Westcott House')]\n",
      "[('work', 'http://www.wikidata.org/entity/Q16965968'), ('workLabel', 'Sharp Family Tourism and Education Center')]\n",
      "[('work', 'http://www.wikidata.org/entity/Q1292092'), ('workLabel', 'Edward E. Boynton House')]\n",
      "[('work', 'http://www.wikidata.org/entity/Q4731481'), ('workLabel', 'Allen-Lambe House')]\n",
      "[('work', 'http://www.wikidata.org/entity/Q5230416'), ('workLabel', 'David & Gladys Wright House')]\n",
      "[('work', 'http://www.wikidata.org/entity/Q6106161'), ('workLabel', 'J. J. Walser, Jr. Residence')]\n",
      "[('work', 'http://www.wikidata.org/entity/Q6758636'), ('workLabel', 'Marden House')]\n",
      "[('work', 'http://www.wikidata.org/entity/Q7229144'), ('workLabel', 'Pope-Leighey House')]\n",
      "[('work', 'http://www.wikidata.org/entity/Q7345116'), ('workLabel', 'Robert H. Sunday House')]\n",
      "[('work', 'http://www.wikidata.org/entity/Q7627007'), ('workLabel', 'Stuart Richardson House')]\n",
      "[('work', 'http://www.wikidata.org/entity/Q8000256'), ('workLabel', 'Wilbur Wynant House')]\n",
      "[('work', 'http://www.wikidata.org/entity/Q12068110'), ('workLabel', 'Samara')]\n",
      "[('work', 'http://www.wikidata.org/entity/Q12071866'), ('workLabel', 'V. C. Morris Gift Shop')]\n",
      "[('work', 'http://www.wikidata.org/entity/Q1702484'), ('workLabel', 'Johnson Wax Headquarters')]\n",
      "[('work', 'http://www.wikidata.org/entity/Q3441853'), ('workLabel', 'Rookery Building')]\n",
      "[('work', 'http://www.wikidata.org/entity/Q5191207'), ('workLabel', 'Crystal Heights')]\n",
      "[('work', 'http://www.wikidata.org/entity/Q5585309'), ('workLabel', 'Gordon House')]\n",
      "[('work', 'http://www.wikidata.org/entity/Q5598297'), ('workLabel', 'Graycliff')]\n",
      "[('work', 'http://www.wikidata.org/entity/Q5428276'), ('workLabel', 'Fabyan Villa')]\n",
      "[('work', 'http://www.wikidata.org/entity/Q5548912'), ('workLabel', 'Gerald B. and Beverley Tonkens House')]\n",
      "[('work', 'http://www.wikidata.org/entity/Q107477674'), ('workLabel', 'R. W. Lindholm House')]\n",
      "[('work', 'http://www.wikidata.org/entity/Q107477735'), ('workLabel', 'Donald C. Duncan House')]\n",
      "[('work', 'http://www.wikidata.org/entity/Q7226527'), ('workLabel', 'Polymath Park')]\n",
      "[('work', 'http://www.wikidata.org/entity/Q5079966'), ('workLabel', 'Charles L. Manson House')]\n",
      "[('work', 'http://www.wikidata.org/entity/Q4834015'), ('workLabel', 'B. Harley Bradley House')]\n",
      "[('work', 'http://www.wikidata.org/entity/Q6780897'), ('workLabel', 'Mary W. Adams House')]\n",
      "[('work', 'http://www.wikidata.org/entity/Q15845166'), ('workLabel', 'Rollin Furbeck House')]\n",
      "[('work', 'http://www.wikidata.org/entity/Q14692813'), ('workLabel', 'Malcolm Willey House')]\n",
      "[('work', 'http://www.wikidata.org/entity/Q1239192'), ('workLabel', 'Laura Gale House')]\n",
      "[('work', 'http://www.wikidata.org/entity/Q6131262'), ('workLabel', 'James Charnley House')]\n",
      "[('work', 'http://www.wikidata.org/entity/Q7137810'), ('workLabel', 'Park Inn Hotel')]\n",
      "[('work', 'http://www.wikidata.org/entity/Q1453596'), ('workLabel', 'Walter Gale House')]\n",
      "[('work', 'http://www.wikidata.org/entity/Q3569046'), ('workLabel', 'William and Jessie M. Adams House')]\n",
      "[('work', 'http://www.wikidata.org/entity/Q5345280'), ('workLabel', 'Edward Serlin House')]\n",
      "[('work', 'http://www.wikidata.org/entity/Q5487422'), ('workLabel', 'Frank J. Baker House')]\n",
      "[('work', 'http://www.wikidata.org/entity/Q5487813'), ('workLabel', 'Frank L. Smith Bank')]\n",
      "[('work', 'http://www.wikidata.org/entity/Q6826432'), ('workLabel', 'Meyer May House')]\n",
      "[('work', 'http://www.wikidata.org/entity/Q7105870'), ('workLabel', 'Oscar B. Balch House')]\n",
      "[('work', 'http://www.wikidata.org/entity/Q7272440'), ('workLabel', 'Quintin Blair House')]\n"
     ]
    },
    {
     "data": {
      "text/plain": [
       "50"
      ]
     },
     "execution_count": 12,
     "metadata": {},
     "output_type": "execute_result"
    }
   ],
   "source": [
    "## this shows the works of Frank Lloyd Wright artist\n",
    "queryString = \"\"\"\n",
    "\n",
    "SELECT DISTINCT ?work ?workLabel \n",
    "WHERE { \n",
    "    ?work wdt:P84 wd:Q5604 .\n",
    "    ## labels\n",
    "     ?work <http://schema.org/name> ?workLabel  .\n",
    "} \n",
    "LIMIT 50\n",
    "\"\"\"\n",
    "\n",
    "print(\"Results\")\n",
    "run_query(queryString)"
   ]
  },
  {
   "cell_type": "code",
   "execution_count": 13,
   "id": "b5b53eb0-adae-4e8c-9e75-c2b006ae0820",
   "metadata": {},
   "outputs": [
    {
     "name": "stdout",
     "output_type": "stream",
     "text": [
      "Results\n",
      "[('p', 'http://www.wikidata.org/prop/direct/P7958'), ('pname', 'Chicago Landmarks ID')]\n",
      "[('p', 'http://www.wikidata.org/prop/direct/P131'), ('pname', 'located in the administrative territorial entity')]\n",
      "[('p', 'http://www.wikidata.org/prop/direct/P1417'), ('pname', 'Encyclopædia Britannica Online ID')]\n",
      "[('p', 'http://www.wikidata.org/prop/direct/P1435'), ('pname', 'heritage designation')]\n",
      "[('p', 'http://www.wikidata.org/prop/direct/P149'), ('pname', 'architectural style')]\n",
      "[('p', 'http://www.wikidata.org/prop/direct/P17'), ('pname', 'country')]\n",
      "[('p', 'http://www.wikidata.org/prop/direct/P18'), ('pname', 'image')]\n",
      "[('p', 'http://www.wikidata.org/prop/direct/P2046'), ('pname', 'area')]\n",
      "[('p', 'http://www.wikidata.org/prop/direct/P214'), ('pname', 'VIAF ID')]\n",
      "[('p', 'http://www.wikidata.org/prop/direct/P276'), ('pname', 'location')]\n",
      "[('p', 'http://www.wikidata.org/prop/direct/P31'), ('pname', 'instance of')]\n",
      "[('p', 'http://www.wikidata.org/prop/direct/P3219'), ('pname', 'Encyclopædia Universalis ID')]\n",
      "[('p', 'http://www.wikidata.org/prop/direct/P361'), ('pname', 'part of')]\n",
      "[('p', 'http://www.wikidata.org/prop/direct/P373'), ('pname', 'Commons category')]\n",
      "[('p', 'http://www.wikidata.org/prop/direct/P463'), ('pname', 'member of')]\n",
      "[('p', 'http://www.wikidata.org/prop/direct/P5383'), ('pname', 'archINFORM project ID')]\n",
      "[('p', 'http://www.wikidata.org/prop/direct/P646'), ('pname', 'Freebase ID')]\n",
      "[('p', 'http://www.wikidata.org/prop/direct/P757'), ('pname', 'World Heritage Site ID')]\n",
      "[('p', 'http://www.wikidata.org/prop/direct/P7859'), ('pname', 'WorldCat Identities ID')]\n",
      "[('p', 'http://www.wikidata.org/prop/direct/P84'), ('pname', 'architect')]\n",
      "[('p', 'http://www.wikidata.org/prop/direct/P649'), ('pname', 'NRHP reference number')]\n",
      "[('p', 'http://www.wikidata.org/prop/direct/P6375'), ('pname', 'street address')]\n"
     ]
    },
    {
     "data": {
      "text/plain": [
       "22"
      ]
     },
     "execution_count": 13,
     "metadata": {},
     "output_type": "execute_result"
    }
   ],
   "source": [
    "## time. \n",
    "# wd:Q929965\n",
    "queryString = \"\"\"\n",
    "SELECT DISTINCT ?p ?pname\n",
    "#COUNT (DISTINCT ?p)\n",
    "WHERE { \n",
    "\n",
    "    wd:Q929965 ?p ?o .\n",
    "    # Labels\n",
    "    ?p <http://schema.org/name> ?pname .\n",
    "} \n",
    "LIMIT 25\n",
    "\"\"\"\n",
    "\n",
    "print(\"Results\")\n",
    "run_query(queryString)"
   ]
  },
  {
   "cell_type": "markdown",
   "id": "615e1621-bd2a-46e3-8593-ab7a88949082",
   "metadata": {},
   "source": [
    "## Illustrate the names of the artists and their works"
   ]
  },
  {
   "cell_type": "code",
   "execution_count": 14,
   "id": "bab9d812-bddc-48f2-8768-1e7a8e92df5c",
   "metadata": {},
   "outputs": [
    {
     "name": "stdout",
     "output_type": "stream",
     "text": [
      "Results\n",
      "[('americanarLabel', 'Nathan Clifford Ricker'), ('workLabels', 'Altgeld Hall')]\n",
      "[('americanarLabel', 'Donn Barber'), ('workLabels', 'Hartford Times Building, Terminal Station, Travelers Tower')]\n",
      "[('americanarLabel', 'Francis Costigan'), ('workLabels', 'Charles L. Shrewsbury House, Lanier Mansion, Le Méridien Indianapolis Hotel')]\n",
      "[('americanarLabel', 'Albert C. Martin Jr.'), ('workLabels', '1900 Avenue of the Stars')]\n",
      "[('americanarLabel', 'Frank E. Edbrooke'), ('workLabels', 'Central Presbyterian Church, Joslin Dry Goods Company Building, Masonic Temple Building, Steamboat Springs Depot, Temple Emanuel, The Brown Palace Hotel and Spa, Autograph Collection')]\n",
      "[('americanarLabel', 'Félix Candela'), ('workLabels', \"L'Oceanogràfic, Palacio de los Deportes, church of Nuestra Señora de Guadalupe\")]\n",
      "[('americanarLabel', 'James R. Edmunds, Jr.'), ('workLabels', 'Eastern High School, Maryland Stadium')]\n",
      "[('americanarLabel', 'Gottlieb Schumacher'), ('workLabels', 'Carmel Winery')]\n",
      "[('americanarLabel', 'Ernest Coxhead'), ('workLabels', 'Episcopal Church of the Ascension')]\n",
      "[('americanarLabel', 'John G. Haskell'), ('workLabels', 'Bailey Hall, Douglas County Courthouse, McPherson County Courthouse, Plymouth Congregational Church, Topeka State Hospital')]\n",
      "[('americanarLabel', 'Frank Mills Andrews'), ('workLabels', 'Battle Creek Sanitarium, Conover Building, George Washington Hotel, Kentucky State Capitol, Seelbach Hotel')]\n",
      "[('americanarLabel', 'David Childs'), ('workLabels', '383 Madison Avenue, 7 World Trade Center, 700 Eleventh Street, Four Seasons Hotel, Washington, D.C., One World Trade Center, Park Hyatt Washington, The Westin Georgetown, Washington, D.C., Time Warner Center')]\n",
      "[('americanarLabel', 'George W. Conable'), ('workLabels', 'Trinity Evangelical Lutheran Church of Manhattan')]\n",
      "[('americanarLabel', 'John Eberson'), ('workLabels', 'AFI Silver Theatre, Akron Civic Theatre, Aragon Ballroom, Artcraft Theatre, Avalon Regal Theater, Capitol Theatre, Central National Bank, Indiana Theatre, Majestic Theatre, Niels Esperson Building\\u200e, Norwalk Theatre, Olympia Theater, Orpheum Theatre, Palace Theater, Palace Theatre, Paradise Theater, Richmond CenterStage, Shines Auburn Theater, State Theatre, Tampa Theatre, The Louisville Palace, Wabash Theater, Woodlawn Theatre')]\n",
      "[('americanarLabel', 'George Cary'), ('workLabels', 'Buffalo History Museum')]\n",
      "[('americanarLabel', 'Philip Hooker'), ('workLabels', 'First Church in Albany, Hamilton College Chapel, Hyde Hall, Old Albany Academy Building, Roscoe Conkling House')]\n",
      "[('americanarLabel', 'John Fraser'), ('workLabels', 'Brodhead-Bell-Morton Mansion, James G. Blaine Mansion')]\n",
      "[('americanarLabel', 'David Whilldin'), ('workLabels', 'Bama Theatre, Legion Field')]\n",
      "[('americanarLabel', 'William F. Baker'), ('workLabels', 'Burj Khalifa')]\n",
      "[('americanarLabel', 'Edward Bennett Dougherty'), ('workLabels', 'Belle Meade Apartments, Central Baptist Church, First Baptist Church, War Memorial Auditorium')]\n",
      "[('americanarLabel', 'James C. Ewing, Sr.'), ('workLabels', 'Rapid City Masonic Temple')]\n",
      "[('americanarLabel', 'Clarence W. Wigington'), ('workLabels', 'Harriet Island Pavilion, Highland Park Tower, Holman Field Administration Building, Roy Wilkins Auditorium')]\n",
      "[('americanarLabel', 'Robert D. Farquhar'), ('workLabels', 'California Club, Owlwood Estate')]\n",
      "[('americanarLabel', 'Eugene R. Liebert'), ('workLabels', 'Baumbach Building')]\n",
      "[('americanarLabel', 'Frederick Ernst Ruffini'), ('workLabels', 'Old Blanco County Courthouse')]\n",
      "[('americanarLabel', 'Araldo Cossutta'), ('workLabels', 'Third Church of Christ, Scientist, Tour Part-Dieu, University Apartments')]\n",
      "[('americanarLabel', 'Dabney Cosby'), ('workLabels', 'Grace Church, Venable Hall')]\n",
      "[('americanarLabel', 'Ralph Adams Cram'), ('workLabels', \"All Saints Cathedral, Halifax, All Saints Church, All Saints Episcopal Church, Annunciation Greek Orthodox Cathedral of New England, Boston University Marsh Chapel, Brown Memorial Presbyterian Church, Cathedral Church of St. Paul, Cathedral of Hope, Chapel of St. Anne, Christ Church United Methodist, Christ Church, Hyde Park, Conventual Church of St. Mary and St. John, Deborah Cook Sayles Public Library, Emmanuel Church, First Presbyterian Church, First Unitarian Society in Newton, Fourth Presbyterian Church of Chicago, Gibson Memorial Chapel and Martha Bagby Battle House at Blue Ridge School, Grace Church, Hayes Gymnasium, Holy Cross Monastery (West Park, New York), James L. Autry House, Knowles Memorial Chapel, Park Avenue Christian Church, Princeton University Art Museum, Princeton University Chapel, Sacred Heart Cathedral, Saint Andrew's Memorial Episcopal Church, Saint Thomas Church, Second Church in Boston, Second Presbyterian Church, St. Andrews Episcopal Church, St. Luke's Methodist Church, St. Mark's Pro-Cathedral, St. Paul's Parish Church, The Birches, Trinity Episcopal Church\")]\n",
      "[('americanarLabel', 'Arthur Nash'), ('workLabels', 'Carolina Inn')]\n",
      "[('americanarLabel', 'Fridolin Heer'), ('workLabels', 'Andrew-Ryan House, Basilica of St. Francis Xavier, Dyersville, Corpus Christi Catholic Church, Dubuque County Courthouse, Jacob Regez, Sr. House, Security Building, St. Lawrence Catholic Church, Town Clock')]\n",
      "[('americanarLabel', 'Thomas J. Tolan'), ('workLabels', 'Davis County Courthouse, Van Wert County Courthouse')]\n",
      "[('americanarLabel', 'Vlastimil Koubek'), ('workLabels', \"L'Enfant Plaza Hotel, Rosewood Washington, D.C., The Fairmont Washington, D.C., Transamerica Tower, Willoughby Condominium\")]\n",
      "[('americanarLabel', 'Robert Moses'), ('workLabels', 'Downing Stadium, Nikon at Jones Beach Theater')]\n",
      "[('americanarLabel', 'Willard Thomas Sears'), ('workLabels', 'Edward H. Haskell Home for Nurses, Isabella Stewart Gardner Museum')]\n",
      "[('americanarLabel', 'Alexander C. Currier'), ('workLabels', 'Hubbard Free Library')]\n",
      "[('americanarLabel', 'George A. Berlinghof'), ('workLabels', 'Chadron Public Library, Colfax County Courthouse, Crawford County Courthouse, Deutsche Evangelisch Lutherische Zion Kirche, Dr. A.O. Thomas House, Franklin County Courthouse, Harry T. Jones House, Howard County Courthouse, Kearney County Courthouse, Lincoln County Courthouse, Nemaha County Courthouse, Seward County Courthouse')]\n",
      "[('americanarLabel', 'Edward Larrabee Barnes'), ('workLabels', '125 West 55th Street, 599 Lexington Avenue, AXA Equitable Center, Bass Library, Cathedral of the Immaculate Conception, Crown Center, Hammer Museum, Haystack Mountain School of Crafts, IUPUI University Library, Sheraton Kansas City Hotel at Crown Center, Smart Museum of Art')]\n",
      "[('americanarLabel', 'A.T. Simmons'), ('workLabels', 'Iowa Yearly Meeting House-College Avenue Friends Church, Yates Center Carnegie Library')]\n",
      "[('americanarLabel', 'Cincinnatus Shryock'), ('workLabels', 'First Presbyterian Church, Odd Fellows Temple')]\n",
      "[('americanarLabel', 'Walter W. Ahlschlager'), ('workLabels', 'Carew Tower, City Place Tower, Davis Theater, Hilton Cincinnati Netherland Plaza, InterContinental Chicago Magnificent Mile, Jackson Towers, Kelvyn Fieldhouse, Mercantile Continental Building, Mercantile National Bank Building, Peabody Hotel, Roxy Theatre, Sovereign Hotel')]\n",
      "[('americanarLabel', 'John Calvin Stevens'), ('workLabels', 'C.A. Brown Cottage, Cary Library, City Theater, Gov. John F. Hill Mansion, Hyde Mansion, John Calvin Stevens House, Lancaster Block, Nathan Clifford School, S. D. Warren Paper Mill, Sturtevant Hall, Tappan-Viles House, Union Church of Vinalhaven')]\n",
      "[('americanarLabel', 'Andrew J. Bryan'), ('workLabels', 'Pointe Coupee Parish Courthouse')]\n",
      "[('americanarLabel', 'Harry W. Wachter'), ('workLabels', 'First Presbyterian Church')]\n",
      "[('americanarLabel', 'Robert E. Langdon, Jr.'), ('workLabels', '9454 Wilshire Boulevard')]\n",
      "[('americanarLabel', 'Francis Palmer Smith'), ('workLabels', '11 East Forsyth, American National Bank Building, Crescent Farm, Episcopal Cathedral of Saint Philip, Rhodes-Haverty Building, William-Oliver Building')]\n",
      "[('americanarLabel', 'Leopold Eidlitz'), ('workLabels', 'Bulkeley School, Christ Church Cathedral, Iranistan, Tweed Courthouse, West-Park Presbyterian Church')]\n",
      "[('americanarLabel', 'Richard C. Watkins'), ('workLabels', 'Knight Block, Knight-Allen House, Manti Carnegie Library, Noyes Building, Paris Public School, Provo Third Ward Chapel and Amusement Hall, Richfield Carnegie Library, Spring City School, Thomas N. Taylor House')]\n",
      "[('americanarLabel', 'Matthew Del Gaudio'), ('workLabels', 'Our Lady of Pompeii Church')]\n",
      "[('americanarLabel', 'Thomas Houghton'), ('workLabels', 'Holy Rosary Church, Our Lady of Victory Church')]\n",
      "[('americanarLabel', 'James F. Denson'), ('workLabels', 'Park Crest, Park Gables, Park Manor')]\n"
     ]
    },
    {
     "data": {
      "text/plain": [
       "50"
      ]
     },
     "execution_count": 14,
     "metadata": {},
     "output_type": "execute_result"
    }
   ],
   "source": [
    "## list all of the arts and the buildings\n",
    "## this shows the works of all american artists with their names \n",
    "\n",
    "\n",
    "queryString = \"\"\"\n",
    "\n",
    "SELECT ?americanarLabel (GROUP_CONCAT(DISTINCT ?workLabel; SEPARATOR=\", \") AS ?workLabels)\n",
    "WHERE { \n",
    "    ?americanar wdt:P27 wd:Q30  . \n",
    "    ?americanar wdt:P106 wd:Q42973 .\n",
    "    ?work wdt:P84 ?americanar .\n",
    "        ## labels\n",
    "     ?americanar <http://schema.org/name> ?americanarLabel .\n",
    "     ?work <http://schema.org/name> ?workLabel .\n",
    "} \n",
    "LIMIT 50\n",
    "\n",
    "\"\"\"\n",
    "\n",
    "print(\"Results\")\n",
    "run_query(queryString)"
   ]
  },
  {
   "cell_type": "code",
   "execution_count": 15,
   "id": "e3647770-f500-4c56-8cf8-a50a14758e65",
   "metadata": {},
   "outputs": [
    {
     "name": "stdout",
     "output_type": "stream",
     "text": [
      "Results\n",
      "[('americanar', 'http://www.wikidata.org/entity/Q3017360'), ('americanarLabel', 'David Adler'), ('work', 'http://www.wikidata.org/entity/Q16198500'), ('workLabel', 'Mrs. Isaac D. Adler House')]\n",
      "[('americanar', 'http://www.wikidata.org/entity/Q5006523'), ('americanarLabel', 'C. Howard Crane'), ('work', 'http://www.wikidata.org/entity/Q17040485'), ('workLabel', 'World Theater')]\n",
      "[('americanar', 'http://www.wikidata.org/entity/Q5077062'), ('americanarLabel', 'Charles E. Choate'), ('work', 'http://www.wikidata.org/entity/Q17059514'), ('workLabel', 'Tennille Banking Company Building')]\n",
      "[('americanar', 'http://www.wikidata.org/entity/Q5540911'), ('americanarLabel', 'George I. Barnett'), ('work', 'http://www.wikidata.org/entity/Q17299881'), ('workLabel', 'Samuel Moody Grubbs House')]\n",
      "[('americanar', 'http://www.wikidata.org/entity/Q15437942'), ('americanarLabel', 'Henry Franklin Kilburn'), ('work', 'http://www.wikidata.org/entity/Q18151982'), ('workLabel', 'Pabst Hotel')]\n",
      "[('americanar', 'http://www.wikidata.org/entity/Q56420678'), ('americanarLabel', 'Matthew Del Gaudio'), ('work', 'http://www.wikidata.org/entity/Q18155537'), ('workLabel', 'Our Lady of Pompeii Church')]\n",
      "[('americanar', 'http://www.wikidata.org/entity/Q7494440'), ('americanarLabel', 'Sheperd S. Woodcock'), ('work', 'http://www.wikidata.org/entity/Q22073803'), ('workLabel', 'First Baptist Church of Scituate')]\n",
      "[('americanar', 'http://www.wikidata.org/entity/Q29093464'), ('americanarLabel', 'Ivey P. Crutchfield'), ('work', 'http://www.wikidata.org/entity/Q29093460'), ('workLabel', 'Peterson-Wilbanks House')]\n",
      "[('americanar', 'http://www.wikidata.org/entity/Q5006523'), ('americanarLabel', 'C. Howard Crane'), ('work', 'http://www.wikidata.org/entity/Q1130746'), ('workLabel', 'Earls Court Exhibition Centre')]\n",
      "[('americanar', 'http://www.wikidata.org/entity/Q13647155'), ('americanarLabel', 'Marshall Strabala'), ('work', 'http://www.wikidata.org/entity/Q12495'), ('workLabel', 'Burj Khalifa')]\n",
      "[('americanar', 'http://www.wikidata.org/entity/Q5006523'), ('americanarLabel', 'C. Howard Crane'), ('work', 'http://www.wikidata.org/entity/Q12053066'), ('workLabel', 'August Wilson Theatre')]\n",
      "[('americanar', 'http://www.wikidata.org/entity/Q5006523'), ('americanarLabel', 'C. Howard Crane'), ('work', 'http://www.wikidata.org/entity/Q23693569'), ('workLabel', 'Metropolitan Theatre')]\n",
      "[('americanar', 'http://www.wikidata.org/entity/Q535985'), ('americanarLabel', 'Theodate Pope Riddle'), ('work', 'http://www.wikidata.org/entity/Q904191'), ('workLabel', 'Theodore Roosevelt Birthplace National Historic Site')]\n",
      "[('americanar', 'http://www.wikidata.org/entity/Q15997885'), ('americanarLabel', 'Frederick L. Ackerman'), ('work', 'http://www.wikidata.org/entity/Q24204528'), ('workLabel', 'Roulette Intermedium')]\n",
      "[('americanar', 'http://www.wikidata.org/entity/Q535985'), ('americanarLabel', 'Theodate Pope Riddle'), ('work', 'http://www.wikidata.org/entity/Q1618645'), ('workLabel', 'Hill-Stead Museum')]\n",
      "[('americanar', 'http://www.wikidata.org/entity/Q15463168'), ('americanarLabel', 'John Mead Howells'), ('work', 'http://www.wikidata.org/entity/Q2070225'), ('workLabel', 'Daily News Building')]\n",
      "[('americanar', 'http://www.wikidata.org/entity/Q16008282'), ('americanarLabel', 'Mott B. Schmidt'), ('work', 'http://www.wikidata.org/entity/Q45144010'), ('workLabel', '1088 Park Avenue')]\n",
      "[('americanar', 'http://www.wikidata.org/entity/Q16008282'), ('americanarLabel', 'Mott B. Schmidt'), ('work', 'http://www.wikidata.org/entity/Q59195973'), ('workLabel', 'Emily Trevor House')]\n",
      "[('americanar', 'http://www.wikidata.org/entity/Q16017336'), ('americanarLabel', 'Richard Lewis Blinder'), ('work', 'http://www.wikidata.org/entity/Q5477291'), ('workLabel', 'Lyric Theatre')]\n",
      "[('americanar', 'http://www.wikidata.org/entity/Q456131'), ('americanarLabel', 'Gilmore David Clarke'), ('work', 'http://www.wikidata.org/entity/Q717956'), ('workLabel', 'Unisphere')]\n",
      "[('americanar', 'http://www.wikidata.org/entity/Q16059447'), ('americanarLabel', 'Walter T. Downing'), ('work', 'http://www.wikidata.org/entity/Q7397104'), ('workLabel', 'Basilica of the Sacred Heart of Jesus')]\n",
      "[('americanar', 'http://www.wikidata.org/entity/Q16007786'), ('americanarLabel', 'Roscoe DeWitt'), ('work', 'http://www.wikidata.org/entity/Q7114921'), ('workLabel', 'Ownby Stadium')]\n",
      "[('americanar', 'http://www.wikidata.org/entity/Q17183520'), ('americanarLabel', 'William H. McElfatrick'), ('work', 'http://www.wikidata.org/entity/Q6825168'), ('workLabel', 'The Met')]\n",
      "[('americanar', 'http://www.wikidata.org/entity/Q5540911'), ('americanarLabel', 'George I. Barnett'), ('work', 'http://www.wikidata.org/entity/Q55451739'), ('workLabel', 'Lindell Hotel')]\n",
      "[('americanar', 'http://www.wikidata.org/entity/Q16204687'), ('americanarLabel', 'Jefferson Coburn'), ('work', 'http://www.wikidata.org/entity/Q5453256'), ('workLabel', 'First McGillicuddy Block')]\n",
      "[('americanar', 'http://www.wikidata.org/entity/Q15463168'), ('americanarLabel', 'John Mead Howells'), ('work', 'http://www.wikidata.org/entity/Q2143136'), ('workLabel', 'Tribune Tower')]\n",
      "[('americanar', 'http://www.wikidata.org/entity/Q5006523'), ('americanarLabel', 'C. Howard Crane'), ('work', 'http://www.wikidata.org/entity/Q1954899'), ('workLabel', 'Music Box Theatre')]\n",
      "[('americanar', 'http://www.wikidata.org/entity/Q5540911'), ('americanarLabel', 'George I. Barnett'), ('work', 'http://www.wikidata.org/entity/Q96406476'), ('workLabel', 'Statue of Christopher Columbus')]\n",
      "[('americanar', 'http://www.wikidata.org/entity/Q5006523'), ('americanarLabel', 'C. Howard Crane'), ('work', 'http://www.wikidata.org/entity/Q6737711'), ('workLabel', 'Majestic Theatre')]\n",
      "[('americanar', 'http://www.wikidata.org/entity/Q5006523'), ('americanarLabel', 'C. Howard Crane'), ('work', 'http://www.wikidata.org/entity/Q7739326'), ('workLabel', 'Helen Lab Theatre')]\n",
      "[('americanar', 'http://www.wikidata.org/entity/Q5006523'), ('americanarLabel', 'C. Howard Crane'), ('work', 'http://www.wikidata.org/entity/Q7969769'), ('workLabel', 'Warner Theatre')]\n",
      "[('americanar', 'http://www.wikidata.org/entity/Q5006523'), ('americanarLabel', 'C. Howard Crane'), ('work', 'http://www.wikidata.org/entity/Q1201545'), ('workLabel', 'Detroit Olympia')]\n",
      "[('americanar', 'http://www.wikidata.org/entity/Q5540911'), ('americanarLabel', 'George I. Barnett'), ('work', 'http://www.wikidata.org/entity/Q6879568'), ('workLabel', \"Missouri Governor's Mansion\")]\n",
      "[('americanar', 'http://www.wikidata.org/entity/Q5006523'), ('americanarLabel', 'C. Howard Crane'), ('work', 'http://www.wikidata.org/entity/Q4731901'), ('workLabel', 'Allen Theatre')]\n",
      "[('americanar', 'http://www.wikidata.org/entity/Q16059447'), ('americanarLabel', 'Walter T. Downing'), ('work', 'http://www.wikidata.org/entity/Q4816180'), ('workLabel', 'Wimbish House')]\n",
      "[('americanar', 'http://www.wikidata.org/entity/Q16062214'), ('americanarLabel', 'Henry Monheim'), ('work', 'http://www.wikidata.org/entity/Q14711513'), ('workLabel', 'Emanuel Kahn House')]\n",
      "[('americanar', 'http://www.wikidata.org/entity/Q5006523'), ('americanarLabel', 'C. Howard Crane'), ('work', 'http://www.wikidata.org/entity/Q5370488'), ('workLabel', 'Emerald Theatre')]\n",
      "[('americanar', 'http://www.wikidata.org/entity/Q7494440'), ('americanarLabel', 'Sheperd S. Woodcock'), ('work', 'http://www.wikidata.org/entity/Q5591397'), ('workLabel', 'Grace United Methodist Church')]\n",
      "[('americanar', 'http://www.wikidata.org/entity/Q29093464'), ('americanarLabel', 'Ivey P. Crutchfield'), ('work', 'http://www.wikidata.org/entity/Q29093503'), ('workLabel', 'Leader–Rosansky House')]\n",
      "[('americanar', 'http://www.wikidata.org/entity/Q5077062'), ('americanarLabel', 'Charles E. Choate'), ('work', 'http://www.wikidata.org/entity/Q65079332'), ('workLabel', 'Charles Madden House')]\n",
      "[('americanar', 'http://www.wikidata.org/entity/Q5540911'), ('americanarLabel', 'George I. Barnett'), ('work', 'http://www.wikidata.org/entity/Q5594280'), ('workLabel', 'Grand Avenue Water Tower')]\n",
      "[('americanar', 'http://www.wikidata.org/entity/Q16030028'), ('americanarLabel', 'Abraham Wesley Eager'), ('work', 'http://www.wikidata.org/entity/Q14681552'), ('workLabel', 'Auditorium (Torrance High School)')]\n",
      "[('americanar', 'http://www.wikidata.org/entity/Q5006523'), ('americanarLabel', 'C. Howard Crane'), ('work', 'http://www.wikidata.org/entity/Q14716101'), ('workLabel', 'Film Exchange Building')]\n",
      "[('americanar', 'http://www.wikidata.org/entity/Q5006523'), ('americanarLabel', 'C. Howard Crane'), ('work', 'http://www.wikidata.org/entity/Q7100235'), ('workLabel', 'Orchestra Hall')]\n",
      "[('americanar', 'http://www.wikidata.org/entity/Q5006523'), ('americanarLabel', 'C. Howard Crane'), ('work', 'http://www.wikidata.org/entity/Q6471362'), ('workLabel', 'Lafayette Building')]\n",
      "[('americanar', 'http://www.wikidata.org/entity/Q16059447'), ('americanarLabel', 'Walter T. Downing'), ('work', 'http://www.wikidata.org/entity/Q7407718'), ('workLabel', 'Sam Jones Memorial United Methodist Church')]\n",
      "[('americanar', 'http://www.wikidata.org/entity/Q5006523'), ('americanarLabel', 'C. Howard Crane'), ('work', 'http://www.wikidata.org/entity/Q6506496'), ('workLabel', 'LeVeque Tower')]\n",
      "[('americanar', 'http://www.wikidata.org/entity/Q16023299'), ('americanarLabel', 'Ambrose J. Russell'), ('work', 'http://www.wikidata.org/entity/Q6783772'), ('workLabel', 'Landmark Convention Center')]\n",
      "[('americanar', 'http://www.wikidata.org/entity/Q29093464'), ('americanarLabel', 'Ivey P. Crutchfield'), ('work', 'http://www.wikidata.org/entity/Q28810928'), ('workLabel', 'Robert and Missouri Garbutt House')]\n",
      "[('americanar', 'http://www.wikidata.org/entity/Q5540911'), ('americanarLabel', 'George I. Barnett'), ('work', 'http://www.wikidata.org/entity/Q55449556'), ('workLabel', 'Oakland House')]\n"
     ]
    },
    {
     "data": {
      "text/plain": [
       "50"
      ]
     },
     "execution_count": 15,
     "metadata": {},
     "output_type": "execute_result"
    }
   ],
   "source": [
    "## list all of the arts and the buildings\n",
    "## this shows the works of all american artists with their names \n",
    "\n",
    "\n",
    "queryString = \"\"\"\n",
    "\n",
    "SELECT ?americanar ?americanarLabel ?work ?workLabel \n",
    "WHERE { \n",
    "    ?americanar wdt:P27 wd:Q30  . \n",
    "    ?americanar wdt:P106 wd:Q42973 .\n",
    "    ?work wdt:P84 ?americanar .\n",
    "        ## labels\n",
    "     ?americanar <http://schema.org/name> ?americanarLabel .\n",
    "     ?work <http://schema.org/name> ?workLabel .\n",
    "} \n",
    "LIMIT 50\n",
    "\n",
    "\"\"\"\n",
    "\n",
    "print(\"Results\")\n",
    "run_query(queryString)"
   ]
  },
  {
   "cell_type": "markdown",
   "id": "f6bf97c1-d77d-4fc4-87d4-c12759db98a2",
   "metadata": {},
   "source": [
    "## Demonstrate the location of their works"
   ]
  },
  {
   "cell_type": "code",
   "execution_count": 16,
   "id": "ad98924c-6dc8-4178-bdfb-f898639f8f3c",
   "metadata": {},
   "outputs": [
    {
     "name": "stdout",
     "output_type": "stream",
     "text": [
      "Results\n",
      "[('p', 'http://www.wikidata.org/prop/direct/P149'), ('pLabel', 'architectural style'), ('o', 'http://www.wikidata.org/entity/Q245188'), ('oLabel', 'modern architecture')]\n",
      "[('p', 'http://www.wikidata.org/prop/direct/P17'), ('pLabel', 'country'), ('o', 'http://www.wikidata.org/entity/Q30'), ('oLabel', 'United States of America')]\n",
      "[('p', 'http://www.wikidata.org/prop/direct/P1435'), ('pLabel', 'heritage designation'), ('o', 'http://www.wikidata.org/entity/Q19558910'), ('oLabel', 'National Register of Historic Places listed place')]\n",
      "[('p', 'http://www.wikidata.org/prop/direct/P84'), ('pLabel', 'architect'), ('o', 'http://www.wikidata.org/entity/Q5604'), ('oLabel', 'Frank Lloyd Wright')]\n",
      "[('p', 'http://www.wikidata.org/prop/direct/P131'), ('pLabel', 'located in the administrative territorial entity'), ('o', 'http://www.wikidata.org/entity/Q185609'), ('oLabel', 'Belvidere')]\n",
      "[('p', 'http://www.wikidata.org/prop/direct/P910'), ('pLabel', \"topic's main category\"), ('o', 'http://www.wikidata.org/entity/Q55276305'), ('oLabel', 'Category:Pettit Memorial Chapel')]\n",
      "[('p', 'http://www.wikidata.org/prop/direct/P31'), ('pLabel', 'instance of'), ('o', 'http://www.wikidata.org/entity/Q108325'), ('oLabel', 'chapel')]\n"
     ]
    },
    {
     "data": {
      "text/plain": [
       "7"
      ]
     },
     "execution_count": 16,
     "metadata": {},
     "output_type": "execute_result"
    }
   ],
   "source": [
    "# a country \n",
    "# because it might be a case that the artist is american, but the building he/she made is in another country\n",
    "queryString = \"\"\"\n",
    "\n",
    "\n",
    "\n",
    "SELECT ?p ?pLabel ?o ?oLabel WHERE{\n",
    "  wd:Q2081276 ?p ?o .\n",
    "      ## labels\n",
    "     ?p <http://schema.org/name> ?pLabel .\n",
    "     ?o <http://schema.org/name> ?oLabel .\n",
    "}\n",
    "\n",
    "\n",
    "\"\"\"\n",
    "\n",
    "print(\"Results\")\n",
    "run_query(queryString)"
   ]
  },
  {
   "cell_type": "code",
   "execution_count": 17,
   "id": "83045d6e-46ed-44a9-8491-740f0b7f2b9d",
   "metadata": {},
   "outputs": [
    {
     "name": "stdout",
     "output_type": "stream",
     "text": [
      "Results\n",
      "[('work', 'http://www.wikidata.org/entity/Q929965'), ('workLabel', 'Robie House'), ('o', 'http://www.wikidata.org/entity/Q185609'), ('oLabel', 'Belvidere')]\n",
      "[('work', 'http://www.wikidata.org/entity/Q2081276'), ('workLabel', 'Pettit Memorial Chapel'), ('o', 'http://www.wikidata.org/entity/Q185609'), ('oLabel', 'Belvidere')]\n",
      "[('work', 'http://www.wikidata.org/entity/Q965011'), ('workLabel', 'Millard House'), ('o', 'http://www.wikidata.org/entity/Q185609'), ('oLabel', 'Belvidere')]\n",
      "[('work', 'http://www.wikidata.org/entity/Q201469'), ('workLabel', 'Solomon R. Guggenheim Museum'), ('o', 'http://www.wikidata.org/entity/Q185609'), ('oLabel', 'Belvidere')]\n",
      "[('work', 'http://www.wikidata.org/entity/Q2424445'), ('workLabel', 'Thomas H. Gale House'), ('o', 'http://www.wikidata.org/entity/Q185609'), ('oLabel', 'Belvidere')]\n",
      "[('work', 'http://www.wikidata.org/entity/Q4956682'), ('workLabel', 'Brandes House'), ('o', 'http://www.wikidata.org/entity/Q185609'), ('oLabel', 'Belvidere')]\n",
      "[('work', 'http://www.wikidata.org/entity/Q5468984'), ('workLabel', 'Forest House'), ('o', 'http://www.wikidata.org/entity/Q185609'), ('oLabel', 'Belvidere')]\n",
      "[('work', 'http://www.wikidata.org/entity/Q6531634'), ('workLabel', 'Robert M. Lamp House'), ('o', 'http://www.wikidata.org/entity/Q185609'), ('oLabel', 'Belvidere')]\n",
      "[('work', 'http://www.wikidata.org/entity/Q7010799'), ('workLabel', 'New Orleans Union Station'), ('o', 'http://www.wikidata.org/entity/Q185609'), ('oLabel', 'Belvidere')]\n",
      "[('work', 'http://www.wikidata.org/entity/Q64683561'), ('workLabel', 'Sherman M. Booth House'), ('o', 'http://www.wikidata.org/entity/Q185609'), ('oLabel', 'Belvidere')]\n",
      "[('work', 'http://www.wikidata.org/entity/Q7296752'), ('workLabel', 'Ravine Bluffs Development'), ('o', 'http://www.wikidata.org/entity/Q185609'), ('oLabel', 'Belvidere')]\n",
      "[('work', 'http://www.wikidata.org/entity/Q7987311'), ('workLabel', 'Westcott House'), ('o', 'http://www.wikidata.org/entity/Q185609'), ('oLabel', 'Belvidere')]\n",
      "[('work', 'http://www.wikidata.org/entity/Q16965968'), ('workLabel', 'Sharp Family Tourism and Education Center'), ('o', 'http://www.wikidata.org/entity/Q185609'), ('oLabel', 'Belvidere')]\n",
      "[('work', 'http://www.wikidata.org/entity/Q1292092'), ('workLabel', 'Edward E. Boynton House'), ('o', 'http://www.wikidata.org/entity/Q185609'), ('oLabel', 'Belvidere')]\n",
      "[('work', 'http://www.wikidata.org/entity/Q4731481'), ('workLabel', 'Allen-Lambe House'), ('o', 'http://www.wikidata.org/entity/Q185609'), ('oLabel', 'Belvidere')]\n",
      "[('work', 'http://www.wikidata.org/entity/Q5230416'), ('workLabel', 'David & Gladys Wright House'), ('o', 'http://www.wikidata.org/entity/Q185609'), ('oLabel', 'Belvidere')]\n",
      "[('work', 'http://www.wikidata.org/entity/Q6106161'), ('workLabel', 'J. J. Walser, Jr. Residence'), ('o', 'http://www.wikidata.org/entity/Q185609'), ('oLabel', 'Belvidere')]\n",
      "[('work', 'http://www.wikidata.org/entity/Q6758636'), ('workLabel', 'Marden House'), ('o', 'http://www.wikidata.org/entity/Q185609'), ('oLabel', 'Belvidere')]\n",
      "[('work', 'http://www.wikidata.org/entity/Q7229144'), ('workLabel', 'Pope-Leighey House'), ('o', 'http://www.wikidata.org/entity/Q185609'), ('oLabel', 'Belvidere')]\n",
      "[('work', 'http://www.wikidata.org/entity/Q7345116'), ('workLabel', 'Robert H. Sunday House'), ('o', 'http://www.wikidata.org/entity/Q185609'), ('oLabel', 'Belvidere')]\n",
      "[('work', 'http://www.wikidata.org/entity/Q7627007'), ('workLabel', 'Stuart Richardson House'), ('o', 'http://www.wikidata.org/entity/Q185609'), ('oLabel', 'Belvidere')]\n",
      "[('work', 'http://www.wikidata.org/entity/Q8000256'), ('workLabel', 'Wilbur Wynant House'), ('o', 'http://www.wikidata.org/entity/Q185609'), ('oLabel', 'Belvidere')]\n",
      "[('work', 'http://www.wikidata.org/entity/Q12068110'), ('workLabel', 'Samara'), ('o', 'http://www.wikidata.org/entity/Q185609'), ('oLabel', 'Belvidere')]\n",
      "[('work', 'http://www.wikidata.org/entity/Q12071866'), ('workLabel', 'V. C. Morris Gift Shop'), ('o', 'http://www.wikidata.org/entity/Q185609'), ('oLabel', 'Belvidere')]\n",
      "[('work', 'http://www.wikidata.org/entity/Q1702484'), ('workLabel', 'Johnson Wax Headquarters'), ('o', 'http://www.wikidata.org/entity/Q185609'), ('oLabel', 'Belvidere')]\n",
      "[('work', 'http://www.wikidata.org/entity/Q3441853'), ('workLabel', 'Rookery Building'), ('o', 'http://www.wikidata.org/entity/Q185609'), ('oLabel', 'Belvidere')]\n",
      "[('work', 'http://www.wikidata.org/entity/Q5191207'), ('workLabel', 'Crystal Heights'), ('o', 'http://www.wikidata.org/entity/Q185609'), ('oLabel', 'Belvidere')]\n",
      "[('work', 'http://www.wikidata.org/entity/Q5585309'), ('workLabel', 'Gordon House'), ('o', 'http://www.wikidata.org/entity/Q185609'), ('oLabel', 'Belvidere')]\n",
      "[('work', 'http://www.wikidata.org/entity/Q5598297'), ('workLabel', 'Graycliff'), ('o', 'http://www.wikidata.org/entity/Q185609'), ('oLabel', 'Belvidere')]\n",
      "[('work', 'http://www.wikidata.org/entity/Q5428276'), ('workLabel', 'Fabyan Villa'), ('o', 'http://www.wikidata.org/entity/Q185609'), ('oLabel', 'Belvidere')]\n",
      "[('work', 'http://www.wikidata.org/entity/Q5548912'), ('workLabel', 'Gerald B. and Beverley Tonkens House'), ('o', 'http://www.wikidata.org/entity/Q185609'), ('oLabel', 'Belvidere')]\n",
      "[('work', 'http://www.wikidata.org/entity/Q107477674'), ('workLabel', 'R. W. Lindholm House'), ('o', 'http://www.wikidata.org/entity/Q185609'), ('oLabel', 'Belvidere')]\n",
      "[('work', 'http://www.wikidata.org/entity/Q107477735'), ('workLabel', 'Donald C. Duncan House'), ('o', 'http://www.wikidata.org/entity/Q185609'), ('oLabel', 'Belvidere')]\n",
      "[('work', 'http://www.wikidata.org/entity/Q7226527'), ('workLabel', 'Polymath Park'), ('o', 'http://www.wikidata.org/entity/Q185609'), ('oLabel', 'Belvidere')]\n",
      "[('work', 'http://www.wikidata.org/entity/Q5079966'), ('workLabel', 'Charles L. Manson House'), ('o', 'http://www.wikidata.org/entity/Q185609'), ('oLabel', 'Belvidere')]\n",
      "[('work', 'http://www.wikidata.org/entity/Q4834015'), ('workLabel', 'B. Harley Bradley House'), ('o', 'http://www.wikidata.org/entity/Q185609'), ('oLabel', 'Belvidere')]\n",
      "[('work', 'http://www.wikidata.org/entity/Q6780897'), ('workLabel', 'Mary W. Adams House'), ('o', 'http://www.wikidata.org/entity/Q185609'), ('oLabel', 'Belvidere')]\n",
      "[('work', 'http://www.wikidata.org/entity/Q15845166'), ('workLabel', 'Rollin Furbeck House'), ('o', 'http://www.wikidata.org/entity/Q185609'), ('oLabel', 'Belvidere')]\n",
      "[('work', 'http://www.wikidata.org/entity/Q14692813'), ('workLabel', 'Malcolm Willey House'), ('o', 'http://www.wikidata.org/entity/Q185609'), ('oLabel', 'Belvidere')]\n",
      "[('work', 'http://www.wikidata.org/entity/Q1239192'), ('workLabel', 'Laura Gale House'), ('o', 'http://www.wikidata.org/entity/Q185609'), ('oLabel', 'Belvidere')]\n",
      "[('work', 'http://www.wikidata.org/entity/Q6131262'), ('workLabel', 'James Charnley House'), ('o', 'http://www.wikidata.org/entity/Q185609'), ('oLabel', 'Belvidere')]\n",
      "[('work', 'http://www.wikidata.org/entity/Q7137810'), ('workLabel', 'Park Inn Hotel'), ('o', 'http://www.wikidata.org/entity/Q185609'), ('oLabel', 'Belvidere')]\n",
      "[('work', 'http://www.wikidata.org/entity/Q1453596'), ('workLabel', 'Walter Gale House'), ('o', 'http://www.wikidata.org/entity/Q185609'), ('oLabel', 'Belvidere')]\n",
      "[('work', 'http://www.wikidata.org/entity/Q3569046'), ('workLabel', 'William and Jessie M. Adams House'), ('o', 'http://www.wikidata.org/entity/Q185609'), ('oLabel', 'Belvidere')]\n",
      "[('work', 'http://www.wikidata.org/entity/Q5345280'), ('workLabel', 'Edward Serlin House'), ('o', 'http://www.wikidata.org/entity/Q185609'), ('oLabel', 'Belvidere')]\n",
      "[('work', 'http://www.wikidata.org/entity/Q5487422'), ('workLabel', 'Frank J. Baker House'), ('o', 'http://www.wikidata.org/entity/Q185609'), ('oLabel', 'Belvidere')]\n",
      "[('work', 'http://www.wikidata.org/entity/Q5487813'), ('workLabel', 'Frank L. Smith Bank'), ('o', 'http://www.wikidata.org/entity/Q185609'), ('oLabel', 'Belvidere')]\n",
      "[('work', 'http://www.wikidata.org/entity/Q6826432'), ('workLabel', 'Meyer May House'), ('o', 'http://www.wikidata.org/entity/Q185609'), ('oLabel', 'Belvidere')]\n",
      "[('work', 'http://www.wikidata.org/entity/Q7105870'), ('workLabel', 'Oscar B. Balch House'), ('o', 'http://www.wikidata.org/entity/Q185609'), ('oLabel', 'Belvidere')]\n",
      "[('work', 'http://www.wikidata.org/entity/Q7272440'), ('workLabel', 'Quintin Blair House'), ('o', 'http://www.wikidata.org/entity/Q185609'), ('oLabel', 'Belvidere')]\n"
     ]
    },
    {
     "data": {
      "text/plain": [
       "50"
      ]
     },
     "execution_count": 17,
     "metadata": {},
     "output_type": "execute_result"
    }
   ],
   "source": [
    "# from above results, these two related to location are shown\n",
    "# its city\n",
    "# wdt:P131\thttp://www.wikidata.org/prop/direct/P131\t wd:Q185609\tBelvidere\n",
    "\n",
    "# find the locations of the works by Frank Lloyd Wright \n",
    "\n",
    "queryString = \"\"\"\n",
    "    SELECT ?work ?workLabel ?o ?oLabel  WHERE{\n",
    "    \n",
    "    ## this shows the works of Frank Lloyd Wright artist\n",
    "\n",
    "      ?work wdt:P84 wd:Q5604 .\n",
    "      wd:Q2081276 ?p ?o .\n",
    "      wd:Q2081276 wdt:P131 ?o .\n",
    "      \n",
    "     ## labels\n",
    "     ?work <http://schema.org/name> ?workLabel .\n",
    "     ?o <http://schema.org/name> ?oLabel .\n",
    "    }\n",
    "    LIMIT 50\n",
    "\n",
    "\"\"\"\n",
    "\n",
    "print(\"Results\")\n",
    "run_query(queryString)\n",
    "\n",
    "#### NO USEFUL RESULT #####"
   ]
  },
  {
   "cell_type": "code",
   "execution_count": 18,
   "id": "c777ad85-b059-4796-87a0-86805b7559fa",
   "metadata": {},
   "outputs": [
    {
     "name": "stdout",
     "output_type": "stream",
     "text": [
      "Results\n",
      "[('work', 'http://www.wikidata.org/entity/Q5088241'), ('workLabel', 'Chauncey L. Williams Residence'), ('city', 'http://www.wikidata.org/entity/Q2299339'), ('cityLabel', 'River Forest')]\n",
      "[('work', 'http://www.wikidata.org/entity/Q6077750'), ('workLabel', 'Isabel Roberts House'), ('city', 'http://www.wikidata.org/entity/Q2299339'), ('cityLabel', 'River Forest')]\n",
      "[('work', 'http://www.wikidata.org/entity/Q7641695'), ('workLabel', 'Suntop Homes'), ('city', 'http://www.wikidata.org/entity/Q1132213'), ('cityLabel', 'Ardmore')]\n",
      "[('work', 'http://www.wikidata.org/entity/Q7456571'), ('workLabel', 'Seth Peterson Cottage'), ('city', 'http://www.wikidata.org/entity/Q1570118'), ('cityLabel', 'Reedsburg')]\n",
      "[('work', 'http://www.wikidata.org/entity/Q7291537'), ('workLabel', 'Randall Fawcett House'), ('city', 'http://www.wikidata.org/entity/Q590932'), ('cityLabel', 'Los Baños')]\n",
      "[('work', 'http://www.wikidata.org/entity/Q8072136'), ('workLabel', 'Zimmerman House'), ('city', 'http://www.wikidata.org/entity/Q48370'), ('cityLabel', 'Manchester')]\n",
      "[('work', 'http://www.wikidata.org/entity/Q5577195'), ('workLabel', 'Goetsch-Winckler House'), ('city', 'http://www.wikidata.org/entity/Q1870758'), ('cityLabel', 'Okemos')]\n",
      "[('work', 'http://www.wikidata.org/entity/Q104028065'), ('workLabel', 'Erling Brauner House'), ('city', 'http://www.wikidata.org/entity/Q1870758'), ('cityLabel', 'Okemos')]\n",
      "[('work', 'http://www.wikidata.org/entity/Q5295119'), ('workLabel', 'Donald Schaberg House'), ('city', 'http://www.wikidata.org/entity/Q1870758'), ('cityLabel', 'Okemos')]\n",
      "[('work', 'http://www.wikidata.org/entity/Q104027749'), ('workLabel', 'James Edwards House'), ('city', 'http://www.wikidata.org/entity/Q1870758'), ('cityLabel', 'Okemos')]\n",
      "[('work', 'http://www.wikidata.org/entity/Q7272440'), ('workLabel', 'Quintin Blair House'), ('city', 'http://www.wikidata.org/entity/Q916603'), ('cityLabel', 'Cody')]\n",
      "[('work', 'http://www.wikidata.org/entity/Q4754274'), ('workLabel', 'Anderton Court Shops'), ('city', 'http://www.wikidata.org/entity/Q127856'), ('cityLabel', 'Beverly Hills')]\n",
      "[('work', 'http://www.wikidata.org/entity/Q14686106'), ('workLabel', 'Lewis House (Tallahassee, Florida)'), ('city', 'http://www.wikidata.org/entity/Q37043'), ('cityLabel', 'Tallahassee')]\n",
      "[('work', 'http://www.wikidata.org/entity/Q7988899'), ('workLabel', 'Westhope'), ('city', 'http://www.wikidata.org/entity/Q44989'), ('cityLabel', 'Tulsa')]\n",
      "[('work', 'http://www.wikidata.org/entity/Q4756241'), ('workLabel', 'Andrew B. Cooke House'), ('city', 'http://www.wikidata.org/entity/Q49259'), ('cityLabel', 'Virginia Beach')]\n",
      "[('work', 'http://www.wikidata.org/entity/Q106030942'), ('workLabel', 'Mrs. Clinton Walker House'), ('city', 'http://www.wikidata.org/entity/Q625458'), ('cityLabel', 'Carmel-by-the-Sea')]\n",
      "[('work', 'http://www.wikidata.org/entity/Q6826432'), ('workLabel', 'Meyer May House'), ('city', 'http://www.wikidata.org/entity/Q184587'), ('cityLabel', 'Grand Rapids')]\n",
      "[('work', 'http://www.wikidata.org/entity/Q1150950'), ('workLabel', 'Marin County Civic Center'), ('city', 'http://www.wikidata.org/entity/Q631915'), ('cityLabel', 'San Rafael')]\n",
      "[('work', 'http://www.wikidata.org/entity/Q5311982'), ('workLabel', 'Dudley Spencer House'), ('city', 'http://www.wikidata.org/entity/Q174224'), ('cityLabel', 'Wilmington')]\n",
      "[('work', 'http://www.wikidata.org/entity/Q64683561'), ('workLabel', 'Sherman M. Booth House'), ('city', 'http://www.wikidata.org/entity/Q2482588'), ('cityLabel', 'Glencoe')]\n",
      "[('work', 'http://www.wikidata.org/entity/Q7296752'), ('workLabel', 'Ravine Bluffs Development'), ('city', 'http://www.wikidata.org/entity/Q2482588'), ('cityLabel', 'Glencoe')]\n",
      "[('work', 'http://www.wikidata.org/entity/Q8003956'), ('workLabel', 'William A. Glasner House'), ('city', 'http://www.wikidata.org/entity/Q2482588'), ('cityLabel', 'Glencoe')]\n",
      "[('work', 'http://www.wikidata.org/entity/Q64683491'), ('workLabel', 'Booth Cottage'), ('city', 'http://www.wikidata.org/entity/Q2482588'), ('cityLabel', 'Glencoe')]\n",
      "[('work', 'http://www.wikidata.org/entity/Q7368526'), ('workLabel', 'Rosenbaum House'), ('city', 'http://www.wikidata.org/entity/Q79743'), ('cityLabel', 'Florence')]\n",
      "[('work', 'http://www.wikidata.org/entity/Q6794866'), ('workLabel', 'Max Hoffman House'), ('city', 'http://www.wikidata.org/entity/Q1379757'), ('cityLabel', 'Rye')]\n",
      "[('work', 'http://www.wikidata.org/entity/Q14950531'), ('workLabel', 'Kenneth and Phyllis Laurent House'), ('city', 'http://www.wikidata.org/entity/Q233892'), ('cityLabel', 'Rockford')]\n",
      "[('work', 'http://www.wikidata.org/entity/Q12073518'), ('workLabel', 'Jesse R. Zeigler House'), ('city', 'http://www.wikidata.org/entity/Q28603'), ('cityLabel', 'Frankfort')]\n",
      "[('work', 'http://www.wikidata.org/entity/Q1702484'), ('workLabel', 'Johnson Wax Headquarters'), ('city', 'http://www.wikidata.org/entity/Q40340'), ('cityLabel', 'Racine')]\n",
      "[('work', 'http://www.wikidata.org/entity/Q7792932'), ('workLabel', 'Thomas P. Hardy House'), ('city', 'http://www.wikidata.org/entity/Q40340'), ('cityLabel', 'Racine')]\n",
      "[('work', 'http://www.wikidata.org/entity/Q5585309'), ('workLabel', 'Gordon House'), ('city', 'http://www.wikidata.org/entity/Q947353'), ('cityLabel', 'Silverton')]\n",
      "[('work', 'http://www.wikidata.org/entity/Q5293037'), ('workLabel', 'Don M Stromquist House'), ('city', 'http://www.wikidata.org/entity/Q483219'), ('cityLabel', 'Bountiful')]\n",
      "[('work', 'http://www.wikidata.org/entity/Q6444319'), ('workLabel', 'Kundert Medical Clinic'), ('city', 'http://www.wikidata.org/entity/Q49012'), ('cityLabel', 'San Luis Obispo')]\n",
      "[('work', 'http://www.wikidata.org/entity/Q12059131'), ('workLabel', 'Mrs. A. W. Gridley House'), ('city', 'http://www.wikidata.org/entity/Q576876'), ('cityLabel', 'Batavia')]\n",
      "[('work', 'http://www.wikidata.org/entity/Q201469'), ('workLabel', 'Solomon R. Guggenheim Museum'), ('city', 'http://www.wikidata.org/entity/Q11299'), ('cityLabel', 'Manhattan')]\n",
      "[('work', 'http://www.wikidata.org/entity/Q5876587'), ('workLabel', 'Hoffman Auto Showroom'), ('city', 'http://www.wikidata.org/entity/Q11299'), ('cityLabel', 'Manhattan')]\n",
      "[('work', 'http://www.wikidata.org/entity/Q6814137'), ('workLabel', 'Melvyn Maxwell and Sara Stein Smith House'), ('city', 'http://www.wikidata.org/entity/Q1166'), ('cityLabel', 'Michigan')]\n",
      "[('work', 'http://www.wikidata.org/entity/Q7712276'), ('workLabel', 'The Acres'), ('city', 'http://www.wikidata.org/entity/Q1166'), ('cityLabel', 'Michigan')]\n",
      "[('work', 'http://www.wikidata.org/entity/Q5606675'), ('workLabel', 'Gregor S. and Elizabeth B. Affleck House'), ('city', 'http://www.wikidata.org/entity/Q1166'), ('cityLabel', 'Michigan')]\n",
      "[('work', 'http://www.wikidata.org/entity/Q5042982'), ('workLabel', 'Carlton D. Wall House'), ('city', 'http://www.wikidata.org/entity/Q1166'), ('cityLabel', 'Michigan')]\n",
      "[('work', 'http://www.wikidata.org/entity/Q4834015'), ('workLabel', 'B. Harley Bradley House'), ('city', 'http://www.wikidata.org/entity/Q1204'), ('cityLabel', 'Illinois')]\n",
      "[('work', 'http://www.wikidata.org/entity/Q6780897'), ('workLabel', 'Mary W. Adams House'), ('city', 'http://www.wikidata.org/entity/Q1204'), ('cityLabel', 'Illinois')]\n",
      "[('work', 'http://www.wikidata.org/entity/Q6662581'), ('workLabel', 'Lloyd Lewis House'), ('city', 'http://www.wikidata.org/entity/Q1204'), ('cityLabel', 'Illinois')]\n",
      "[('work', 'http://www.wikidata.org/entity/Q7963044'), ('workLabel', 'Waller Apartments'), ('city', 'http://www.wikidata.org/entity/Q1204'), ('cityLabel', 'Illinois')]\n",
      "[('work', 'http://www.wikidata.org/entity/Q7984492'), ('workLabel', 'West Bluff Historic District'), ('city', 'http://www.wikidata.org/entity/Q1204'), ('cityLabel', 'Illinois')]\n",
      "[('work', 'http://www.wikidata.org/entity/Q5769029'), ('workLabel', 'Hiram Baldwin House'), ('city', 'http://www.wikidata.org/entity/Q1204'), ('cityLabel', 'Illinois')]\n",
      "[('work', 'http://www.wikidata.org/entity/Q14687793'), ('workLabel', 'Lincoln Colored Home'), ('city', 'http://www.wikidata.org/entity/Q1204'), ('cityLabel', 'Illinois')]\n",
      "[('work', 'http://www.wikidata.org/entity/Q2395397'), ('workLabel', 'Winslow House'), ('city', 'http://www.wikidata.org/entity/Q1204'), ('cityLabel', 'Illinois')]\n",
      "[('work', 'http://www.wikidata.org/entity/Q7361404'), ('workLabel', 'Roloson Houses'), ('city', 'http://www.wikidata.org/entity/Q1204'), ('cityLabel', 'Illinois')]\n",
      "[('work', 'http://www.wikidata.org/entity/Q5321481'), ('workLabel', 'E-Z Polish Factory'), ('city', 'http://www.wikidata.org/entity/Q1204'), ('cityLabel', 'Illinois')]\n",
      "[('work', 'http://www.wikidata.org/entity/Q14716091'), ('workLabel', 'Dorothy H. Turkel House'), ('city', 'http://www.wikidata.org/entity/Q12439'), ('cityLabel', 'Detroit')]\n"
     ]
    },
    {
     "data": {
      "text/plain": [
       "50"
      ]
     },
     "execution_count": 18,
     "metadata": {},
     "output_type": "execute_result"
    }
   ],
   "source": [
    "\n",
    "## this shows the works of Frank Lloyd Wright artist with their locations (just the city of their location)\n",
    "\n",
    "\n",
    "queryString = \"\"\"\n",
    "\n",
    "    SELECT DISTINCT ?work ?workLabel ?city ?cityLabel\n",
    "    WHERE { \n",
    "        ?work wdt:P84 wd:Q5604 .\n",
    "         ?work wdt:P131 ?city .\n",
    "         \n",
    "     ## labels\n",
    "     ?work <http://schema.org/name> ?workLabel .\n",
    "     ?city <http://schema.org/name> ?cityLabel .\n",
    "    } \n",
    "    LIMIT 50\n",
    "\n",
    "\"\"\"\n",
    "\n",
    "print(\"Results\")\n",
    "run_query(queryString)"
   ]
  },
  {
   "cell_type": "code",
   "execution_count": 19,
   "id": "3774280a-05bf-474f-b723-6b08ec70cee1",
   "metadata": {},
   "outputs": [
    {
     "name": "stdout",
     "output_type": "stream",
     "text": [
      "Results\n",
      "[('work', 'http://www.wikidata.org/entity/Q5088241'), ('workLabel', 'Chauncey L. Williams Residence'), ('city', 'http://www.wikidata.org/entity/Q2299339'), ('cityLabel', 'River Forest')]\n",
      "[('work', 'http://www.wikidata.org/entity/Q6077750'), ('workLabel', 'Isabel Roberts House'), ('city', 'http://www.wikidata.org/entity/Q2299339'), ('cityLabel', 'River Forest')]\n",
      "[('work', 'http://www.wikidata.org/entity/Q7641695'), ('workLabel', 'Suntop Homes'), ('city', 'http://www.wikidata.org/entity/Q1132213'), ('cityLabel', 'Ardmore')]\n",
      "[('work', 'http://www.wikidata.org/entity/Q7456571'), ('workLabel', 'Seth Peterson Cottage'), ('city', 'http://www.wikidata.org/entity/Q1570118'), ('cityLabel', 'Reedsburg')]\n",
      "[('work', 'http://www.wikidata.org/entity/Q7291537'), ('workLabel', 'Randall Fawcett House'), ('city', 'http://www.wikidata.org/entity/Q590932'), ('cityLabel', 'Los Baños')]\n",
      "[('work', 'http://www.wikidata.org/entity/Q8072136'), ('workLabel', 'Zimmerman House'), ('city', 'http://www.wikidata.org/entity/Q48370'), ('cityLabel', 'Manchester')]\n",
      "[('work', 'http://www.wikidata.org/entity/Q5577195'), ('workLabel', 'Goetsch-Winckler House'), ('city', 'http://www.wikidata.org/entity/Q1870758'), ('cityLabel', 'Okemos')]\n",
      "[('work', 'http://www.wikidata.org/entity/Q104028065'), ('workLabel', 'Erling Brauner House'), ('city', 'http://www.wikidata.org/entity/Q1870758'), ('cityLabel', 'Okemos')]\n",
      "[('work', 'http://www.wikidata.org/entity/Q5295119'), ('workLabel', 'Donald Schaberg House'), ('city', 'http://www.wikidata.org/entity/Q1870758'), ('cityLabel', 'Okemos')]\n",
      "[('work', 'http://www.wikidata.org/entity/Q104027749'), ('workLabel', 'James Edwards House'), ('city', 'http://www.wikidata.org/entity/Q1870758'), ('cityLabel', 'Okemos')]\n",
      "[('work', 'http://www.wikidata.org/entity/Q7272440'), ('workLabel', 'Quintin Blair House'), ('city', 'http://www.wikidata.org/entity/Q916603'), ('cityLabel', 'Cody')]\n",
      "[('work', 'http://www.wikidata.org/entity/Q4754274'), ('workLabel', 'Anderton Court Shops'), ('city', 'http://www.wikidata.org/entity/Q127856'), ('cityLabel', 'Beverly Hills')]\n",
      "[('work', 'http://www.wikidata.org/entity/Q14686106'), ('workLabel', 'Lewis House (Tallahassee, Florida)'), ('city', 'http://www.wikidata.org/entity/Q37043'), ('cityLabel', 'Tallahassee')]\n",
      "[('work', 'http://www.wikidata.org/entity/Q7988899'), ('workLabel', 'Westhope'), ('city', 'http://www.wikidata.org/entity/Q44989'), ('cityLabel', 'Tulsa')]\n",
      "[('work', 'http://www.wikidata.org/entity/Q4756241'), ('workLabel', 'Andrew B. Cooke House'), ('city', 'http://www.wikidata.org/entity/Q49259'), ('cityLabel', 'Virginia Beach')]\n",
      "[('work', 'http://www.wikidata.org/entity/Q106030942'), ('workLabel', 'Mrs. Clinton Walker House'), ('city', 'http://www.wikidata.org/entity/Q625458'), ('cityLabel', 'Carmel-by-the-Sea')]\n",
      "[('work', 'http://www.wikidata.org/entity/Q6826432'), ('workLabel', 'Meyer May House'), ('city', 'http://www.wikidata.org/entity/Q184587'), ('cityLabel', 'Grand Rapids')]\n",
      "[('work', 'http://www.wikidata.org/entity/Q1150950'), ('workLabel', 'Marin County Civic Center'), ('city', 'http://www.wikidata.org/entity/Q631915'), ('cityLabel', 'San Rafael')]\n",
      "[('work', 'http://www.wikidata.org/entity/Q5311982'), ('workLabel', 'Dudley Spencer House'), ('city', 'http://www.wikidata.org/entity/Q174224'), ('cityLabel', 'Wilmington')]\n",
      "[('work', 'http://www.wikidata.org/entity/Q64683561'), ('workLabel', 'Sherman M. Booth House'), ('city', 'http://www.wikidata.org/entity/Q2482588'), ('cityLabel', 'Glencoe')]\n"
     ]
    },
    {
     "data": {
      "text/plain": [
       "20"
      ]
     },
     "execution_count": 19,
     "metadata": {},
     "output_type": "execute_result"
    }
   ],
   "source": [
    "\n",
    "## this shows the works of Frank Lloyd Wright artist with their locations(just the city of their location)\n",
    "queryString = \"\"\"\n",
    "\n",
    "    SELECT ?work ?workLabel ?city ?cityLabel\n",
    "    WHERE { \n",
    "        ?work wdt:P84 wd:Q5604 .\n",
    "         ?work wdt:P131 ?city .\n",
    "             ## labels\n",
    "     ?work <http://schema.org/name> ?workLabel .\n",
    "     ?city <http://schema.org/name> ?cityLabel .\n",
    "    } \n",
    "    LIMIT 20\n",
    "\n",
    "\"\"\"\n",
    "\n",
    "print(\"Results\")\n",
    "run_query(queryString)"
   ]
  },
  {
   "cell_type": "markdown",
   "id": "3577cb37-f824-426a-a4c7-a3ef5dd329a8",
   "metadata": {},
   "source": [
    "# Identify the BGP to obtain the notable works of an architect and their location."
   ]
  },
  {
   "cell_type": "code",
   "execution_count": 20,
   "id": "d899e715-a50c-4bd8-8788-f34a204cef55",
   "metadata": {},
   "outputs": [
    {
     "name": "stdout",
     "output_type": "stream",
     "text": [
      "Results\n",
      "[('americanar', 'http://www.wikidata.org/entity/Q29093464'), ('americanarLabel', 'Ivey P. Crutchfield'), ('work', 'http://www.wikidata.org/entity/Q29093460'), ('workLabel', 'Peterson-Wilbanks House'), ('cityLabel', 'Vidalia')]\n",
      "[('americanar', 'http://www.wikidata.org/entity/Q29093464'), ('americanarLabel', 'Ivey P. Crutchfield'), ('work', 'http://www.wikidata.org/entity/Q29093503'), ('workLabel', 'Leader–Rosansky House'), ('cityLabel', 'Vidalia')]\n",
      "[('americanar', 'http://www.wikidata.org/entity/Q29093464'), ('americanarLabel', 'Ivey P. Crutchfield'), ('work', 'http://www.wikidata.org/entity/Q28811758'), ('workLabel', 'Crawford W. Brazell House'), ('cityLabel', 'Vidalia')]\n",
      "[('americanar', 'http://www.wikidata.org/entity/Q5077062'), ('americanarLabel', 'Charles E. Choate'), ('work', 'http://www.wikidata.org/entity/Q16995712'), ('workLabel', 'Holt Brothers Banking Company Building'), ('cityLabel', 'Sandersville')]\n",
      "[('americanar', 'http://www.wikidata.org/entity/Q17626642'), ('americanarLabel', 'Francis Willford Fitzpatrick'), ('work', 'http://www.wikidata.org/entity/Q85771859'), ('workLabel', 'Johnston Memorial Building'), ('cityLabel', 'Wallace')]\n",
      "[('americanar', 'http://www.wikidata.org/entity/Q5006523'), ('americanarLabel', 'C. Howard Crane'), ('work', 'http://www.wikidata.org/entity/Q17040485'), ('workLabel', 'World Theater'), ('cityLabel', 'Omaha')]\n",
      "[('americanar', 'http://www.wikidata.org/entity/Q16030028'), ('americanarLabel', 'Abraham Wesley Eager'), ('work', 'http://www.wikidata.org/entity/Q14681552'), ('workLabel', 'Auditorium (Torrance High School)'), ('cityLabel', 'Torrance')]\n",
      "[('americanar', 'http://www.wikidata.org/entity/Q5077062'), ('americanarLabel', 'Charles E. Choate'), ('work', 'http://www.wikidata.org/entity/Q65070513'), ('workLabel', 'James Kelley House'), ('cityLabel', 'Washington County')]\n",
      "[('americanar', 'http://www.wikidata.org/entity/Q16023299'), ('americanarLabel', 'Ambrose J. Russell'), ('work', 'http://www.wikidata.org/entity/Q6783772'), ('workLabel', 'Landmark Convention Center'), ('cityLabel', 'Tacoma')]\n",
      "[('americanar', 'http://www.wikidata.org/entity/Q535985'), ('americanarLabel', 'Theodate Pope Riddle'), ('work', 'http://www.wikidata.org/entity/Q1618645'), ('workLabel', 'Hill-Stead Museum'), ('cityLabel', 'Farmington')]\n",
      "[('americanar', 'http://www.wikidata.org/entity/Q5006523'), ('americanarLabel', 'C. Howard Crane'), ('work', 'http://www.wikidata.org/entity/Q5370488'), ('workLabel', 'Emerald Theatre'), ('cityLabel', 'Mount Clemens')]\n",
      "[('americanar', 'http://www.wikidata.org/entity/Q7494440'), ('americanarLabel', 'Sheperd S. Woodcock'), ('work', 'http://www.wikidata.org/entity/Q22073803'), ('workLabel', 'First Baptist Church of Scituate'), ('cityLabel', 'Scituate')]\n",
      "[('americanar', 'http://www.wikidata.org/entity/Q16043514'), ('americanarLabel', 'John A. Fox'), ('work', 'http://www.wikidata.org/entity/Q14715553'), ('workLabel', 'Home for Aged Couples'), ('cityLabel', 'Boston')]\n",
      "[('americanar', 'http://www.wikidata.org/entity/Q56420678'), ('americanarLabel', 'Matthew Del Gaudio'), ('work', 'http://www.wikidata.org/entity/Q18155537'), ('workLabel', 'Our Lady of Pompeii Church'), ('cityLabel', 'Manhattan')]\n",
      "[('americanar', 'http://www.wikidata.org/entity/Q5006523'), ('americanarLabel', 'C. Howard Crane'), ('work', 'http://www.wikidata.org/entity/Q12053066'), ('workLabel', 'August Wilson Theatre'), ('cityLabel', 'Manhattan')]\n",
      "[('americanar', 'http://www.wikidata.org/entity/Q535985'), ('americanarLabel', 'Theodate Pope Riddle'), ('work', 'http://www.wikidata.org/entity/Q904191'), ('workLabel', 'Theodore Roosevelt Birthplace National Historic Site'), ('cityLabel', 'Manhattan')]\n",
      "[('americanar', 'http://www.wikidata.org/entity/Q15463168'), ('americanarLabel', 'John Mead Howells'), ('work', 'http://www.wikidata.org/entity/Q2070225'), ('workLabel', 'Daily News Building'), ('cityLabel', 'Manhattan')]\n",
      "[('americanar', 'http://www.wikidata.org/entity/Q16008282'), ('americanarLabel', 'Mott B. Schmidt'), ('work', 'http://www.wikidata.org/entity/Q45144010'), ('workLabel', '1088 Park Avenue'), ('cityLabel', 'Manhattan')]\n",
      "[('americanar', 'http://www.wikidata.org/entity/Q16008282'), ('americanarLabel', 'Mott B. Schmidt'), ('work', 'http://www.wikidata.org/entity/Q59195973'), ('workLabel', 'Emily Trevor House'), ('cityLabel', 'Manhattan')]\n",
      "[('americanar', 'http://www.wikidata.org/entity/Q16017336'), ('americanarLabel', 'Richard Lewis Blinder'), ('work', 'http://www.wikidata.org/entity/Q5477291'), ('workLabel', 'Lyric Theatre'), ('cityLabel', 'Manhattan')]\n",
      "[('americanar', 'http://www.wikidata.org/entity/Q5006523'), ('americanarLabel', 'C. Howard Crane'), ('work', 'http://www.wikidata.org/entity/Q1954899'), ('workLabel', 'Music Box Theatre'), ('cityLabel', 'Manhattan')]\n",
      "[('americanar', 'http://www.wikidata.org/entity/Q17183520'), ('americanarLabel', 'William H. McElfatrick'), ('work', 'http://www.wikidata.org/entity/Q17150055'), ('workLabel', 'Columbia Theatre'), ('cityLabel', 'Manhattan')]\n",
      "[('americanar', 'http://www.wikidata.org/entity/Q15997885'), ('americanarLabel', 'Frederick L. Ackerman'), ('work', 'http://www.wikidata.org/entity/Q5453085'), ('workLabel', 'First Houses'), ('cityLabel', 'Manhattan')]\n",
      "[('americanar', 'http://www.wikidata.org/entity/Q16008282'), ('americanarLabel', 'Mott B. Schmidt'), ('work', 'http://www.wikidata.org/entity/Q28226170'), ('workLabel', '655 Park Avenue'), ('cityLabel', 'Manhattan')]\n",
      "[('americanar', 'http://www.wikidata.org/entity/Q15463168'), ('americanarLabel', 'John Mead Howells'), ('work', 'http://www.wikidata.org/entity/Q4879827'), ('workLabel', 'Beekman Tower'), ('cityLabel', 'Manhattan')]\n",
      "[('americanar', 'http://www.wikidata.org/entity/Q5006523'), ('americanarLabel', 'C. Howard Crane'), ('work', 'http://www.wikidata.org/entity/Q14716101'), ('workLabel', 'Film Exchange Building'), ('cityLabel', 'Michigan')]\n",
      "[('americanar', 'http://www.wikidata.org/entity/Q5006523'), ('americanarLabel', 'C. Howard Crane'), ('work', 'http://www.wikidata.org/entity/Q6471362'), ('workLabel', 'Lafayette Building'), ('cityLabel', 'Michigan')]\n",
      "[('americanar', 'http://www.wikidata.org/entity/Q5006523'), ('americanarLabel', 'C. Howard Crane'), ('work', 'http://www.wikidata.org/entity/Q6737711'), ('workLabel', 'Majestic Theatre'), ('cityLabel', 'Detroit')]\n",
      "[('americanar', 'http://www.wikidata.org/entity/Q5006523'), ('americanarLabel', 'C. Howard Crane'), ('work', 'http://www.wikidata.org/entity/Q1201545'), ('workLabel', 'Detroit Olympia'), ('cityLabel', 'Detroit')]\n",
      "[('americanar', 'http://www.wikidata.org/entity/Q5006523'), ('americanarLabel', 'C. Howard Crane'), ('work', 'http://www.wikidata.org/entity/Q7100235'), ('workLabel', 'Orchestra Hall'), ('cityLabel', 'Detroit')]\n",
      "[('americanar', 'http://www.wikidata.org/entity/Q5006523'), ('americanarLabel', 'C. Howard Crane'), ('work', 'http://www.wikidata.org/entity/Q7733852'), ('workLabel', 'The Fillmore Detroit'), ('cityLabel', 'Detroit')]\n",
      "[('americanar', 'http://www.wikidata.org/entity/Q5006523'), ('americanarLabel', 'C. Howard Crane'), ('work', 'http://www.wikidata.org/entity/Q7887482'), ('workLabel', 'United Artists Theatre Building'), ('cityLabel', 'Detroit')]\n",
      "[('americanar', 'http://www.wikidata.org/entity/Q5006523'), ('americanarLabel', 'C. Howard Crane'), ('work', 'http://www.wikidata.org/entity/Q3080199'), ('workLabel', 'Fox Theatre'), ('cityLabel', 'Detroit')]\n",
      "[('americanar', 'http://www.wikidata.org/entity/Q5006523'), ('americanarLabel', 'C. Howard Crane'), ('work', 'http://www.wikidata.org/entity/Q7559813'), ('workLabel', 'Somerset Apartments'), ('cityLabel', 'Detroit')]\n",
      "[('americanar', 'http://www.wikidata.org/entity/Q15463168'), ('americanarLabel', 'John Mead Howells'), ('work', 'http://www.wikidata.org/entity/Q2143136'), ('workLabel', 'Tribune Tower'), ('cityLabel', 'Chicago')]\n",
      "[('americanar', 'http://www.wikidata.org/entity/Q21780508'), ('americanarLabel', 'Benjamin H. Marshall'), ('work', 'http://www.wikidata.org/entity/Q3047559'), ('workLabel', 'Edgewater Beach Hotel'), ('cityLabel', 'Chicago')]\n",
      "[('americanar', 'http://www.wikidata.org/entity/Q5006523'), ('americanarLabel', 'C. Howard Crane'), ('work', 'http://www.wikidata.org/entity/Q16999687'), ('workLabel', 'Warner Theatre'), ('cityLabel', 'Pittsburgh')]\n",
      "[('americanar', 'http://www.wikidata.org/entity/Q5540911'), ('americanarLabel', 'George I. Barnett'), ('work', 'http://www.wikidata.org/entity/Q6879568'), ('workLabel', \"Missouri Governor's Mansion\"), ('cityLabel', 'Missouri')]\n",
      "[('americanar', 'http://www.wikidata.org/entity/Q16007786'), ('americanarLabel', 'Roscoe DeWitt'), ('work', 'http://www.wikidata.org/entity/Q7114921'), ('workLabel', 'Ownby Stadium'), ('cityLabel', 'Dallas')]\n",
      "[('americanar', 'http://www.wikidata.org/entity/Q5006523'), ('americanarLabel', 'C. Howard Crane'), ('work', 'http://www.wikidata.org/entity/Q6506496'), ('workLabel', 'LeVeque Tower'), ('cityLabel', 'Columbus')]\n"
     ]
    },
    {
     "data": {
      "text/plain": [
       "40"
      ]
     },
     "execution_count": 20,
     "metadata": {},
     "output_type": "execute_result"
    }
   ],
   "source": [
    "## final \n",
    "# [('p', 'http://www.wikidata.org/prop/direct/P7958'), ('pname', 'Chicago Landmarks ID')]\n",
    "# [('p', 'http://www.wikidata.org/prop/direct/P131'), ('pname', 'located in the administrative territorial entity')]\n",
    "# [('p', 'http://www.wikidata.org/prop/direct/P149'), ('pname', 'architectural style')]\n",
    "# [('p', 'http://www.wikidata.org/prop/direct/P17'), ('pname', 'country')]\n",
    "# [('p', 'http://www.wikidata.org/prop/direct/P2046'), ('pname', 'area')]\n",
    "# [('p', 'http://www.wikidata.org/prop/direct/P276'), ('pname', 'location')]\n",
    "# [('p', 'http://www.wikidata.org/prop/direct/P361'), ('pname', 'part of')]\n",
    "# [('p', 'http://www.wikidata.org/prop/direct/P84'), ('pname', 'architect')]\n",
    "# [('p', 'http://www.wikidata.org/prop/direct/P6375'), ('pname', 'street address')]\n",
    "\n",
    "queryString = \"\"\"\n",
    "\n",
    "    SELECT ?americanar ?americanarLabel ?work ?workLabel ?cityLabel\n",
    "    WHERE { \n",
    "        ?americanar wdt:P27 wd:Q30  . \n",
    "        ?americanar wdt:P106 wd:Q42973 .\n",
    "        ?work wdt:P84 ?americanar ;\n",
    "              wdt:P131 ?city .\n",
    "            ## labels\n",
    "     ?americanar <http://schema.org/name> ?americanarLabel .\n",
    "     ?work <http://schema.org/name> ?workLabel .\n",
    "     ?city <http://schema.org/name> ?cityLabel .\n",
    "    } \n",
    "    LIMIT 40\n",
    "    \n",
    "\"\"\"\n",
    "\n",
    "print(\"Results\")\n",
    "run_query(queryString)"
   ]
  },
  {
   "cell_type": "code",
   "execution_count": 21,
   "id": "e5127a21-fae5-41ce-b670-859a948dc411",
   "metadata": {},
   "outputs": [
    {
     "name": "stdout",
     "output_type": "stream",
     "text": [
      "Results\n",
      "[('americanarLabel', 'Ivey P. Crutchfield'), ('workLabel', 'Peterson-Wilbanks House'), ('cityLabel', 'Vidalia')]\n",
      "[('americanarLabel', 'Ivey P. Crutchfield'), ('workLabel', 'Leader–Rosansky House'), ('cityLabel', 'Vidalia')]\n",
      "[('americanarLabel', 'Ivey P. Crutchfield'), ('workLabel', 'Crawford W. Brazell House'), ('cityLabel', 'Vidalia')]\n",
      "[('americanarLabel', 'Charles E. Choate'), ('workLabel', 'Holt Brothers Banking Company Building'), ('cityLabel', 'Sandersville')]\n",
      "[('americanarLabel', 'Francis Willford Fitzpatrick'), ('workLabel', 'Johnston Memorial Building'), ('cityLabel', 'Wallace')]\n",
      "[('americanarLabel', 'C. Howard Crane'), ('workLabel', 'World Theater'), ('cityLabel', 'Omaha')]\n",
      "[('americanarLabel', 'Abraham Wesley Eager'), ('workLabel', 'Auditorium (Torrance High School)'), ('cityLabel', 'Torrance')]\n",
      "[('americanarLabel', 'Charles E. Choate'), ('workLabel', 'James Kelley House'), ('cityLabel', 'Washington County')]\n",
      "[('americanarLabel', 'Ambrose J. Russell'), ('workLabel', 'Landmark Convention Center'), ('cityLabel', 'Tacoma')]\n",
      "[('americanarLabel', 'Theodate Pope Riddle'), ('workLabel', 'Hill-Stead Museum'), ('cityLabel', 'Farmington')]\n",
      "[('americanarLabel', 'C. Howard Crane'), ('workLabel', 'Emerald Theatre'), ('cityLabel', 'Mount Clemens')]\n",
      "[('americanarLabel', 'Sheperd S. Woodcock'), ('workLabel', 'First Baptist Church of Scituate'), ('cityLabel', 'Scituate')]\n",
      "[('americanarLabel', 'John A. Fox'), ('workLabel', 'Home for Aged Couples'), ('cityLabel', 'Boston')]\n",
      "[('americanarLabel', 'Matthew Del Gaudio'), ('workLabel', 'Our Lady of Pompeii Church'), ('cityLabel', 'Manhattan')]\n",
      "[('americanarLabel', 'C. Howard Crane'), ('workLabel', 'August Wilson Theatre'), ('cityLabel', 'Manhattan')]\n",
      "[('americanarLabel', 'Theodate Pope Riddle'), ('workLabel', 'Theodore Roosevelt Birthplace National Historic Site'), ('cityLabel', 'Manhattan')]\n",
      "[('americanarLabel', 'John Mead Howells'), ('workLabel', 'Daily News Building'), ('cityLabel', 'Manhattan')]\n",
      "[('americanarLabel', 'Mott B. Schmidt'), ('workLabel', '1088 Park Avenue'), ('cityLabel', 'Manhattan')]\n",
      "[('americanarLabel', 'Mott B. Schmidt'), ('workLabel', 'Emily Trevor House'), ('cityLabel', 'Manhattan')]\n",
      "[('americanarLabel', 'Richard Lewis Blinder'), ('workLabel', 'Lyric Theatre'), ('cityLabel', 'Manhattan')]\n",
      "[('americanarLabel', 'C. Howard Crane'), ('workLabel', 'Music Box Theatre'), ('cityLabel', 'Manhattan')]\n",
      "[('americanarLabel', 'William H. McElfatrick'), ('workLabel', 'Columbia Theatre'), ('cityLabel', 'Manhattan')]\n",
      "[('americanarLabel', 'Frederick L. Ackerman'), ('workLabel', 'First Houses'), ('cityLabel', 'Manhattan')]\n",
      "[('americanarLabel', 'Mott B. Schmidt'), ('workLabel', '655 Park Avenue'), ('cityLabel', 'Manhattan')]\n",
      "[('americanarLabel', 'John Mead Howells'), ('workLabel', 'Beekman Tower'), ('cityLabel', 'Manhattan')]\n",
      "[('americanarLabel', 'C. Howard Crane'), ('workLabel', 'Film Exchange Building'), ('cityLabel', 'Michigan')]\n",
      "[('americanarLabel', 'C. Howard Crane'), ('workLabel', 'Lafayette Building'), ('cityLabel', 'Michigan')]\n",
      "[('americanarLabel', 'C. Howard Crane'), ('workLabel', 'Majestic Theatre'), ('cityLabel', 'Detroit')]\n",
      "[('americanarLabel', 'C. Howard Crane'), ('workLabel', 'Detroit Olympia'), ('cityLabel', 'Detroit')]\n",
      "[('americanarLabel', 'C. Howard Crane'), ('workLabel', 'Orchestra Hall'), ('cityLabel', 'Detroit')]\n",
      "[('americanarLabel', 'C. Howard Crane'), ('workLabel', 'The Fillmore Detroit'), ('cityLabel', 'Detroit')]\n",
      "[('americanarLabel', 'C. Howard Crane'), ('workLabel', 'United Artists Theatre Building'), ('cityLabel', 'Detroit')]\n",
      "[('americanarLabel', 'C. Howard Crane'), ('workLabel', 'Fox Theatre'), ('cityLabel', 'Detroit')]\n",
      "[('americanarLabel', 'C. Howard Crane'), ('workLabel', 'Somerset Apartments'), ('cityLabel', 'Detroit')]\n",
      "[('americanarLabel', 'John Mead Howells'), ('workLabel', 'Tribune Tower'), ('cityLabel', 'Chicago')]\n",
      "[('americanarLabel', 'Benjamin H. Marshall'), ('workLabel', 'Edgewater Beach Hotel'), ('cityLabel', 'Chicago')]\n",
      "[('americanarLabel', 'C. Howard Crane'), ('workLabel', 'Warner Theatre'), ('cityLabel', 'Pittsburgh')]\n",
      "[('americanarLabel', 'George I. Barnett'), ('workLabel', \"Missouri Governor's Mansion\"), ('cityLabel', 'Missouri')]\n",
      "[('americanarLabel', 'Roscoe DeWitt'), ('workLabel', 'Ownby Stadium'), ('cityLabel', 'Dallas')]\n",
      "[('americanarLabel', 'C. Howard Crane'), ('workLabel', 'LeVeque Tower'), ('cityLabel', 'Columbus')]\n"
     ]
    },
    {
     "data": {
      "text/plain": [
       "40"
      ]
     },
     "execution_count": 21,
     "metadata": {},
     "output_type": "execute_result"
    }
   ],
   "source": [
    "## just # LABELS \n",
    "\n",
    "queryString = \"\"\"\n",
    "\n",
    "    SELECT ?americanarLabel ?workLabel ?cityLabel\n",
    "    WHERE { \n",
    "        ?americanar wdt:P27 wd:Q30  . \n",
    "        ?americanar wdt:P106 wd:Q42973 .\n",
    "        ?work wdt:P84 ?americanar ;\n",
    "              wdt:P131 ?city .\n",
    "            ## labels\n",
    "     ?americanar <http://schema.org/name> ?americanarLabel .\n",
    "     ?work <http://schema.org/name> ?workLabel .\n",
    "     ?city <http://schema.org/name> ?cityLabel .\n",
    "\n",
    "    } \n",
    "    LIMIT 40\n",
    "    \n",
    "\"\"\"\n",
    "\n",
    "print(\"Results\")\n",
    "run_query(queryString)\n"
   ]
  },
  {
   "cell_type": "code",
   "execution_count": 22,
   "id": "abcd4690-514a-4158-893c-09aed04c92ff",
   "metadata": {},
   "outputs": [
    {
     "name": "stdout",
     "output_type": "stream",
     "text": [
      "Results\n",
      "[('americanarLabel', 'Irving Gill'), ('workLabels', 'Miltimore House, Oceanside City Hall and Fire Station')]\n",
      "[('americanarLabel', 'Charles Follen McKim'), ('workLabels', 'Boston Public Library, McKim Building, Schomburg Center for Research in Black Culture, Schomburg Center for Research in Black Culture (original building), The Morgan Library & Museum')]\n",
      "[('americanarLabel', 'Appleton P. Clark, Jr.'), ('workLabels', 'U.S. Civil Service Commission Building')]\n",
      "[('americanarLabel', 'J. W. Golucke'), ('workLabels', 'Johnson County Courthouse, Old Union County Courthouse')]\n",
      "[('americanarLabel', 'Anthony J. Lumsden'), ('workLabels', 'Little Tokyo Branch Library')]\n",
      "[('americanarLabel', 'Frank Weary'), ('workLabels', 'The Gothic Building')]\n",
      "[('americanarLabel', 'Mifflin E. Bell'), ('workLabels', 'Monroe County Courthouse')]\n",
      "[('americanarLabel', 'Henry L. Newhouse'), ('workLabels', 'Hotel Trenier')]\n",
      "[('americanarLabel', 'James Renwick Jr.'), ('workLabels', 'Oak Hill Cemetery, Oak Hill Cemetery Chapel, Smithsonian Institution Building')]\n",
      "[('americanarLabel', 'John Mauran'), ('workLabels', 'Racine Heritage Museum')]\n"
     ]
    },
    {
     "data": {
      "text/plain": [
       "10"
      ]
     },
     "execution_count": 22,
     "metadata": {},
     "output_type": "execute_result"
    }
   ],
   "source": [
    "## final \n",
    "# [('p', 'http://www.wikidata.org/prop/direct/P7958'), ('pname', 'Chicago Landmarks ID')]\n",
    "# [('p', 'http://www.wikidata.org/prop/direct/P131'), ('pname', 'located in the administrative territorial entity')]\n",
    "# [('p', 'http://www.wikidata.org/prop/direct/P149'), ('pname', 'architectural style')]\n",
    "# [('p', 'http://www.wikidata.org/prop/direct/P17'), ('pname', 'country')]\n",
    "# [('p', 'http://www.wikidata.org/prop/direct/P2046'), ('pname', 'area')]\n",
    "# [('p', 'http://www.wikidata.org/prop/direct/P276'), ('pname', 'location')]\n",
    "# [('p', 'http://www.wikidata.org/prop/direct/P361'), ('pname', 'part of')]\n",
    "# [('p', 'http://www.wikidata.org/prop/direct/P84'), ('pname', 'architect')]\n",
    "# [('p', 'http://www.wikidata.org/prop/direct/P6375'), ('pname', 'street address')]\n",
    "\n",
    "queryString = \"\"\"\n",
    "SELECT ?americanarLabel (GROUP_CONCAT(DISTINCT ?workLabel; SEPARATOR=\", \") AS ?workLabels)\n",
    "\n",
    "    WHERE { \n",
    "        ?americanar wdt:P27 wd:Q30  . \n",
    "        ?americanar wdt:P106 wd:Q42973 .\n",
    "        ?work wdt:P84 ?americanar ;\n",
    "              wdt:P131 ?city ;\n",
    "              wdt:P17 ?country ;\n",
    "              wdt:P6375 ?street_address .\n",
    "              \n",
    "            ## labels\n",
    "     ?americanar <http://schema.org/name> ?americanarLabel .\n",
    "     ?work <http://schema.org/name> ?workLabel .\n",
    "     ?city <http://schema.org/name> ?cityLabel .\n",
    "     ?country <http://schema.org/name> ?countryname .\n",
    "\n",
    "    } \n",
    "    LIMIT 10\n",
    "    \n",
    "\"\"\"\n",
    "\n",
    "print(\"Results\")\n",
    "run_query(queryString)"
   ]
  },
  {
   "cell_type": "markdown",
   "id": "06541c29-c2eb-4e59-95d3-06476c887614",
   "metadata": {},
   "source": [
    "## Identify the BGP that connect a building with its architect, type, and architectural style"
   ]
  },
  {
   "cell_type": "code",
   "execution_count": 23,
   "id": "ea3822e6-1ddf-484e-b718-3e26c31155c4",
   "metadata": {},
   "outputs": [
    {
     "name": "stdout",
     "output_type": "stream",
     "text": [
      "Results\n",
      "[('americanar', 'http://www.wikidata.org/entity/Q3017360'), ('americanarLabel', 'David Adler'), ('work', 'http://www.wikidata.org/entity/Q16198500'), ('workLabel', 'Mrs. Isaac D. Adler House')]\n",
      "[('americanar', 'http://www.wikidata.org/entity/Q5006523'), ('americanarLabel', 'C. Howard Crane'), ('work', 'http://www.wikidata.org/entity/Q17040485'), ('workLabel', 'World Theater')]\n",
      "[('americanar', 'http://www.wikidata.org/entity/Q5077062'), ('americanarLabel', 'Charles E. Choate'), ('work', 'http://www.wikidata.org/entity/Q17059514'), ('workLabel', 'Tennille Banking Company Building')]\n",
      "[('americanar', 'http://www.wikidata.org/entity/Q5540911'), ('americanarLabel', 'George I. Barnett'), ('work', 'http://www.wikidata.org/entity/Q17299881'), ('workLabel', 'Samuel Moody Grubbs House')]\n",
      "[('americanar', 'http://www.wikidata.org/entity/Q15437942'), ('americanarLabel', 'Henry Franklin Kilburn'), ('work', 'http://www.wikidata.org/entity/Q18151982'), ('workLabel', 'Pabst Hotel')]\n",
      "[('americanar', 'http://www.wikidata.org/entity/Q56420678'), ('americanarLabel', 'Matthew Del Gaudio'), ('work', 'http://www.wikidata.org/entity/Q18155537'), ('workLabel', 'Our Lady of Pompeii Church')]\n",
      "[('americanar', 'http://www.wikidata.org/entity/Q7494440'), ('americanarLabel', 'Sheperd S. Woodcock'), ('work', 'http://www.wikidata.org/entity/Q22073803'), ('workLabel', 'First Baptist Church of Scituate')]\n",
      "[('americanar', 'http://www.wikidata.org/entity/Q29093464'), ('americanarLabel', 'Ivey P. Crutchfield'), ('work', 'http://www.wikidata.org/entity/Q29093460'), ('workLabel', 'Peterson-Wilbanks House')]\n",
      "[('americanar', 'http://www.wikidata.org/entity/Q5006523'), ('americanarLabel', 'C. Howard Crane'), ('work', 'http://www.wikidata.org/entity/Q1130746'), ('workLabel', 'Earls Court Exhibition Centre')]\n",
      "[('americanar', 'http://www.wikidata.org/entity/Q13647155'), ('americanarLabel', 'Marshall Strabala'), ('work', 'http://www.wikidata.org/entity/Q12495'), ('workLabel', 'Burj Khalifa')]\n",
      "[('americanar', 'http://www.wikidata.org/entity/Q5006523'), ('americanarLabel', 'C. Howard Crane'), ('work', 'http://www.wikidata.org/entity/Q12053066'), ('workLabel', 'August Wilson Theatre')]\n",
      "[('americanar', 'http://www.wikidata.org/entity/Q5006523'), ('americanarLabel', 'C. Howard Crane'), ('work', 'http://www.wikidata.org/entity/Q23693569'), ('workLabel', 'Metropolitan Theatre')]\n",
      "[('americanar', 'http://www.wikidata.org/entity/Q535985'), ('americanarLabel', 'Theodate Pope Riddle'), ('work', 'http://www.wikidata.org/entity/Q904191'), ('workLabel', 'Theodore Roosevelt Birthplace National Historic Site')]\n",
      "[('americanar', 'http://www.wikidata.org/entity/Q15997885'), ('americanarLabel', 'Frederick L. Ackerman'), ('work', 'http://www.wikidata.org/entity/Q24204528'), ('workLabel', 'Roulette Intermedium')]\n",
      "[('americanar', 'http://www.wikidata.org/entity/Q535985'), ('americanarLabel', 'Theodate Pope Riddle'), ('work', 'http://www.wikidata.org/entity/Q1618645'), ('workLabel', 'Hill-Stead Museum')]\n",
      "[('americanar', 'http://www.wikidata.org/entity/Q15463168'), ('americanarLabel', 'John Mead Howells'), ('work', 'http://www.wikidata.org/entity/Q2070225'), ('workLabel', 'Daily News Building')]\n",
      "[('americanar', 'http://www.wikidata.org/entity/Q16008282'), ('americanarLabel', 'Mott B. Schmidt'), ('work', 'http://www.wikidata.org/entity/Q45144010'), ('workLabel', '1088 Park Avenue')]\n",
      "[('americanar', 'http://www.wikidata.org/entity/Q16008282'), ('americanarLabel', 'Mott B. Schmidt'), ('work', 'http://www.wikidata.org/entity/Q59195973'), ('workLabel', 'Emily Trevor House')]\n",
      "[('americanar', 'http://www.wikidata.org/entity/Q16017336'), ('americanarLabel', 'Richard Lewis Blinder'), ('work', 'http://www.wikidata.org/entity/Q5477291'), ('workLabel', 'Lyric Theatre')]\n",
      "[('americanar', 'http://www.wikidata.org/entity/Q456131'), ('americanarLabel', 'Gilmore David Clarke'), ('work', 'http://www.wikidata.org/entity/Q717956'), ('workLabel', 'Unisphere')]\n",
      "[('americanar', 'http://www.wikidata.org/entity/Q16059447'), ('americanarLabel', 'Walter T. Downing'), ('work', 'http://www.wikidata.org/entity/Q7397104'), ('workLabel', 'Basilica of the Sacred Heart of Jesus')]\n",
      "[('americanar', 'http://www.wikidata.org/entity/Q16007786'), ('americanarLabel', 'Roscoe DeWitt'), ('work', 'http://www.wikidata.org/entity/Q7114921'), ('workLabel', 'Ownby Stadium')]\n",
      "[('americanar', 'http://www.wikidata.org/entity/Q17183520'), ('americanarLabel', 'William H. McElfatrick'), ('work', 'http://www.wikidata.org/entity/Q6825168'), ('workLabel', 'The Met')]\n",
      "[('americanar', 'http://www.wikidata.org/entity/Q5540911'), ('americanarLabel', 'George I. Barnett'), ('work', 'http://www.wikidata.org/entity/Q55451739'), ('workLabel', 'Lindell Hotel')]\n",
      "[('americanar', 'http://www.wikidata.org/entity/Q16204687'), ('americanarLabel', 'Jefferson Coburn'), ('work', 'http://www.wikidata.org/entity/Q5453256'), ('workLabel', 'First McGillicuddy Block')]\n",
      "[('americanar', 'http://www.wikidata.org/entity/Q15463168'), ('americanarLabel', 'John Mead Howells'), ('work', 'http://www.wikidata.org/entity/Q2143136'), ('workLabel', 'Tribune Tower')]\n",
      "[('americanar', 'http://www.wikidata.org/entity/Q5006523'), ('americanarLabel', 'C. Howard Crane'), ('work', 'http://www.wikidata.org/entity/Q1954899'), ('workLabel', 'Music Box Theatre')]\n",
      "[('americanar', 'http://www.wikidata.org/entity/Q5540911'), ('americanarLabel', 'George I. Barnett'), ('work', 'http://www.wikidata.org/entity/Q96406476'), ('workLabel', 'Statue of Christopher Columbus')]\n",
      "[('americanar', 'http://www.wikidata.org/entity/Q5006523'), ('americanarLabel', 'C. Howard Crane'), ('work', 'http://www.wikidata.org/entity/Q6737711'), ('workLabel', 'Majestic Theatre')]\n",
      "[('americanar', 'http://www.wikidata.org/entity/Q5006523'), ('americanarLabel', 'C. Howard Crane'), ('work', 'http://www.wikidata.org/entity/Q7739326'), ('workLabel', 'Helen Lab Theatre')]\n",
      "[('americanar', 'http://www.wikidata.org/entity/Q5006523'), ('americanarLabel', 'C. Howard Crane'), ('work', 'http://www.wikidata.org/entity/Q7969769'), ('workLabel', 'Warner Theatre')]\n",
      "[('americanar', 'http://www.wikidata.org/entity/Q5006523'), ('americanarLabel', 'C. Howard Crane'), ('work', 'http://www.wikidata.org/entity/Q1201545'), ('workLabel', 'Detroit Olympia')]\n",
      "[('americanar', 'http://www.wikidata.org/entity/Q5540911'), ('americanarLabel', 'George I. Barnett'), ('work', 'http://www.wikidata.org/entity/Q6879568'), ('workLabel', \"Missouri Governor's Mansion\")]\n",
      "[('americanar', 'http://www.wikidata.org/entity/Q5006523'), ('americanarLabel', 'C. Howard Crane'), ('work', 'http://www.wikidata.org/entity/Q4731901'), ('workLabel', 'Allen Theatre')]\n",
      "[('americanar', 'http://www.wikidata.org/entity/Q16059447'), ('americanarLabel', 'Walter T. Downing'), ('work', 'http://www.wikidata.org/entity/Q4816180'), ('workLabel', 'Wimbish House')]\n",
      "[('americanar', 'http://www.wikidata.org/entity/Q16062214'), ('americanarLabel', 'Henry Monheim'), ('work', 'http://www.wikidata.org/entity/Q14711513'), ('workLabel', 'Emanuel Kahn House')]\n",
      "[('americanar', 'http://www.wikidata.org/entity/Q5006523'), ('americanarLabel', 'C. Howard Crane'), ('work', 'http://www.wikidata.org/entity/Q5370488'), ('workLabel', 'Emerald Theatre')]\n",
      "[('americanar', 'http://www.wikidata.org/entity/Q7494440'), ('americanarLabel', 'Sheperd S. Woodcock'), ('work', 'http://www.wikidata.org/entity/Q5591397'), ('workLabel', 'Grace United Methodist Church')]\n",
      "[('americanar', 'http://www.wikidata.org/entity/Q29093464'), ('americanarLabel', 'Ivey P. Crutchfield'), ('work', 'http://www.wikidata.org/entity/Q29093503'), ('workLabel', 'Leader–Rosansky House')]\n",
      "[('americanar', 'http://www.wikidata.org/entity/Q5077062'), ('americanarLabel', 'Charles E. Choate'), ('work', 'http://www.wikidata.org/entity/Q65079332'), ('workLabel', 'Charles Madden House')]\n",
      "[('americanar', 'http://www.wikidata.org/entity/Q5540911'), ('americanarLabel', 'George I. Barnett'), ('work', 'http://www.wikidata.org/entity/Q5594280'), ('workLabel', 'Grand Avenue Water Tower')]\n",
      "[('americanar', 'http://www.wikidata.org/entity/Q16030028'), ('americanarLabel', 'Abraham Wesley Eager'), ('work', 'http://www.wikidata.org/entity/Q14681552'), ('workLabel', 'Auditorium (Torrance High School)')]\n",
      "[('americanar', 'http://www.wikidata.org/entity/Q5006523'), ('americanarLabel', 'C. Howard Crane'), ('work', 'http://www.wikidata.org/entity/Q14716101'), ('workLabel', 'Film Exchange Building')]\n",
      "[('americanar', 'http://www.wikidata.org/entity/Q5006523'), ('americanarLabel', 'C. Howard Crane'), ('work', 'http://www.wikidata.org/entity/Q7100235'), ('workLabel', 'Orchestra Hall')]\n",
      "[('americanar', 'http://www.wikidata.org/entity/Q5006523'), ('americanarLabel', 'C. Howard Crane'), ('work', 'http://www.wikidata.org/entity/Q6471362'), ('workLabel', 'Lafayette Building')]\n",
      "[('americanar', 'http://www.wikidata.org/entity/Q16059447'), ('americanarLabel', 'Walter T. Downing'), ('work', 'http://www.wikidata.org/entity/Q7407718'), ('workLabel', 'Sam Jones Memorial United Methodist Church')]\n",
      "[('americanar', 'http://www.wikidata.org/entity/Q5006523'), ('americanarLabel', 'C. Howard Crane'), ('work', 'http://www.wikidata.org/entity/Q6506496'), ('workLabel', 'LeVeque Tower')]\n",
      "[('americanar', 'http://www.wikidata.org/entity/Q16023299'), ('americanarLabel', 'Ambrose J. Russell'), ('work', 'http://www.wikidata.org/entity/Q6783772'), ('workLabel', 'Landmark Convention Center')]\n",
      "[('americanar', 'http://www.wikidata.org/entity/Q29093464'), ('americanarLabel', 'Ivey P. Crutchfield'), ('work', 'http://www.wikidata.org/entity/Q28810928'), ('workLabel', 'Robert and Missouri Garbutt House')]\n",
      "[('americanar', 'http://www.wikidata.org/entity/Q5540911'), ('americanarLabel', 'George I. Barnett'), ('work', 'http://www.wikidata.org/entity/Q55449556'), ('workLabel', 'Oakland House')]\n"
     ]
    },
    {
     "data": {
      "text/plain": [
       "50"
      ]
     },
     "execution_count": 23,
     "metadata": {},
     "output_type": "execute_result"
    }
   ],
   "source": [
    "\n",
    "queryString = \"\"\"\n",
    "\n",
    "    SELECT ?americanar ?americanarLabel ?work ?workLabel \n",
    "    WHERE { \n",
    "        ?work wdt:P84 ?americanar .\n",
    "        ?americanar wdt:P27 wd:Q30  . \n",
    "        ?americanar wdt:P106 wd:Q42973 .\n",
    "        \n",
    "            ## labels\n",
    "     ?americanar <http://schema.org/name> ?americanarLabel .\n",
    "     ?work <http://schema.org/name> ?workLabel  .\n",
    "    } \n",
    "    LIMIT 50\n",
    "    \n",
    "\"\"\"\n",
    "\n",
    "print(\"Results\")\n",
    "run_query(queryString)"
   ]
  },
  {
   "cell_type": "code",
   "execution_count": 24,
   "id": "69e866f6-e79a-46b9-851c-853add630c68",
   "metadata": {},
   "outputs": [
    {
     "name": "stdout",
     "output_type": "stream",
     "text": [
      "Results\n",
      "[('p', 'http://www.wikidata.org/prop/direct/P149'), ('pLabel', 'architectural style'), ('o', 'http://www.wikidata.org/entity/Q245188'), ('oLabel', 'modern architecture')]\n",
      "[('p', 'http://www.wikidata.org/prop/direct/P17'), ('pLabel', 'country'), ('o', 'http://www.wikidata.org/entity/Q30'), ('oLabel', 'United States of America')]\n",
      "[('p', 'http://www.wikidata.org/prop/direct/P1435'), ('pLabel', 'heritage designation'), ('o', 'http://www.wikidata.org/entity/Q19558910'), ('oLabel', 'National Register of Historic Places listed place')]\n",
      "[('p', 'http://www.wikidata.org/prop/direct/P84'), ('pLabel', 'architect'), ('o', 'http://www.wikidata.org/entity/Q5604'), ('oLabel', 'Frank Lloyd Wright')]\n",
      "[('p', 'http://www.wikidata.org/prop/direct/P131'), ('pLabel', 'located in the administrative territorial entity'), ('o', 'http://www.wikidata.org/entity/Q185609'), ('oLabel', 'Belvidere')]\n",
      "[('p', 'http://www.wikidata.org/prop/direct/P910'), ('pLabel', \"topic's main category\"), ('o', 'http://www.wikidata.org/entity/Q55276305'), ('oLabel', 'Category:Pettit Memorial Chapel')]\n",
      "[('p', 'http://www.wikidata.org/prop/direct/P31'), ('pLabel', 'instance of'), ('o', 'http://www.wikidata.org/entity/Q108325'), ('oLabel', 'chapel')]\n"
     ]
    },
    {
     "data": {
      "text/plain": [
       "7"
      ]
     },
     "execution_count": 24,
     "metadata": {},
     "output_type": "execute_result"
    }
   ],
   "source": [
    "# chapel \n",
    "queryString = \"\"\"\n",
    "\n",
    "    SELECT ?p ?pLabel ?o ?oLabel WHERE{\n",
    "      wd:Q2081276 ?p ?o .\n",
    "      \n",
    "          ## labels\n",
    "     ?p <http://schema.org/name> ?pLabel .\n",
    "     ?o <http://schema.org/name> ?oLabel .\n",
    "\n",
    "    }\n",
    "    LIMIT 50\n",
    "\"\"\"\n",
    "\n",
    "print(\"Results\")\n",
    "run_query(queryString)"
   ]
  },
  {
   "cell_type": "code",
   "execution_count": 25,
   "id": "9205132a-f428-415f-9ac1-404aa308ead7",
   "metadata": {},
   "outputs": [
    {
     "name": "stdout",
     "output_type": "stream",
     "text": [
      "Results\n",
      "[('type', 'http://www.wikidata.org/entity/Q108325'), ('typeLabel', 'chapel'), ('architectural_style', 'http://www.wikidata.org/entity/Q245188'), ('architectural_styleLabel', 'modern architecture')]\n"
     ]
    },
    {
     "data": {
      "text/plain": [
       "1"
      ]
     },
     "execution_count": 25,
     "metadata": {},
     "output_type": "execute_result"
    }
   ],
   "source": [
    "# Identify the BGP that connect Pettit Memorial Chapel with its type, and architectural style\n",
    "# TYPE\n",
    "# wdt:P31\thttp://www.wikidata.org/prop/direct/P31\t wd:Q108325\tchapel\n",
    "# architectural style\n",
    "# wdt:P149\thttp://www.wikidata.org/prop/direct/P149\t wd:Q245188\tmodern architecture\n",
    "\n",
    "queryString = \"\"\"\n",
    "\n",
    "    SELECT DISTINCT ?type ?typeLabel ?architectural_style ?architectural_styleLabel WHERE{\n",
    "      wd:Q2081276 ?p ?o ;\n",
    "                  wdt:P31 ?type ;\n",
    "                  wdt:P149 ?architectural_style .    \n",
    "      \n",
    "          ## labels\n",
    "     ?type <http://schema.org/name> ?typeLabel .\n",
    "     ?architectural_style <http://schema.org/name> ?architectural_styleLabel .\n",
    "      \n",
    "\n",
    "    }\n",
    "    LIMIT 50\n",
    "\"\"\"\n",
    "\n",
    "print(\"Results\")\n",
    "run_query(queryString)"
   ]
  },
  {
   "cell_type": "code",
   "execution_count": 26,
   "id": "fea3bfc8-9f40-4e2c-adac-23b91d96e4d6",
   "metadata": {},
   "outputs": [
    {
     "name": "stdout",
     "output_type": "stream",
     "text": [
      "Results\n",
      "[('typebuilding', 'http://www.wikidata.org/entity/Q108325'), ('typebuildingLabel', 'chapel'), ('architectural_style', 'http://www.wikidata.org/entity/Q245188'), ('architectural_styleLabel', 'modern architecture')]\n"
     ]
    },
    {
     "data": {
      "text/plain": [
       "1"
      ]
     },
     "execution_count": 26,
     "metadata": {},
     "output_type": "execute_result"
    }
   ],
   "source": [
    "# Identify the BGP that connect Pettit Memorial Chapel with its architect, type, and architectural style\n",
    "# first find the TYPE\n",
    "# wdt:P31\thttp://www.wikidata.org/prop/direct/P31\t wd:Q108325\tchapel\n",
    "# architectural style\n",
    "# wdt:P149\thttp://www.wikidata.org/prop/direct/P149\t wd:Q245188\tmodern architecture\n",
    "\n",
    "\n",
    "queryString = \"\"\"\n",
    "\n",
    "    SELECT DISTINCT ?typebuilding ?typebuildingLabel ?architectural_style ?architectural_styleLabel WHERE{\n",
    "      wd:Q2081276 ?p ?o ;\n",
    "                  wdt:P31 ?typebuilding ;\n",
    "                  wdt:P149 ?architectural_style .    \n",
    "    \n",
    "    ## labels\n",
    "     ?typebuilding <http://schema.org/name> ?typebuildingLabel .\n",
    "     ?architectural_style <http://schema.org/name> ?architectural_styleLabel .\n",
    "\n",
    "    }\n",
    "     LIMIT 100\n",
    "\"\"\"\n",
    "\n",
    "print(\"Results\")\n",
    "run_query(queryString)"
   ]
  },
  {
   "cell_type": "code",
   "execution_count": 27,
   "id": "e57b0a8b-93b6-445a-9a77-06a31ac4f5d7",
   "metadata": {},
   "outputs": [
    {
     "name": "stdout",
     "output_type": "stream",
     "text": [
      "Results\n",
      "[('p', 'http://www.wikidata.org/prop/direct/P800'), ('pLabel', 'notable work')]\n"
     ]
    },
    {
     "data": {
      "text/plain": [
       "1"
      ]
     },
     "execution_count": 27,
     "metadata": {},
     "output_type": "execute_result"
    }
   ],
   "source": [
    "# the works of the artist وits works and buildings\n",
    "\n",
    "queryString = \"\"\"\n",
    "\n",
    "\n",
    "    SELECT ?p ?pLabel WHERE{\n",
    "      wd:Q5604 ?p wd:Q2081276 .\n",
    "    ## labels\n",
    "     ?p <http://schema.org/name> ?pLabel .\n",
    "    } \n",
    "    LIMIT 10\n",
    "\n",
    "\n",
    "\"\"\"\n",
    "\n",
    "print(\"Results\")\n",
    "run_query(queryString)"
   ]
  },
  {
   "cell_type": "code",
   "execution_count": 28,
   "id": "11786893-e118-4a44-b6b1-cb02074ceefb",
   "metadata": {},
   "outputs": [
    {
     "name": "stdout",
     "output_type": "stream",
     "text": [
      "Results\n",
      "[('p', 'http://www.wikidata.org/prop/direct/P800'), ('pLabel', 'notable work'), ('has', 'http://www.wikidata.org/prop/direct/P17'), ('hasLabel', 'country'), ('work', 'http://www.wikidata.org/entity/Q30'), ('workLabel', 'United States of America')]\n",
      "[('p', 'http://www.wikidata.org/prop/direct/P800'), ('pLabel', 'notable work'), ('has', 'http://www.wikidata.org/prop/direct/P1435'), ('hasLabel', 'heritage designation'), ('work', 'http://www.wikidata.org/entity/Q19558910'), ('workLabel', 'National Register of Historic Places listed place')]\n",
      "[('p', 'http://www.wikidata.org/prop/direct/P800'), ('pLabel', 'notable work'), ('has', 'http://www.wikidata.org/prop/direct/P84'), ('hasLabel', 'architect'), ('work', 'http://www.wikidata.org/entity/Q5604'), ('workLabel', 'Frank Lloyd Wright')]\n",
      "[('p', 'http://www.wikidata.org/prop/direct/P800'), ('pLabel', 'notable work'), ('has', 'http://www.wikidata.org/prop/direct/P131'), ('hasLabel', 'located in the administrative territorial entity'), ('work', 'http://www.wikidata.org/entity/Q185609'), ('workLabel', 'Belvidere')]\n",
      "[('p', 'http://www.wikidata.org/prop/direct/P800'), ('pLabel', 'notable work'), ('has', 'http://www.wikidata.org/prop/direct/P31'), ('hasLabel', 'instance of'), ('work', 'http://www.wikidata.org/entity/Q108325'), ('workLabel', 'chapel')]\n",
      "[('p', 'http://www.wikidata.org/prop/direct/P800'), ('pLabel', 'notable work'), ('has', 'http://www.wikidata.org/prop/direct/P910'), ('hasLabel', \"topic's main category\"), ('work', 'http://www.wikidata.org/entity/Q55276305'), ('workLabel', 'Category:Pettit Memorial Chapel')]\n",
      "[('p', 'http://www.wikidata.org/prop/direct/P800'), ('pLabel', 'notable work'), ('has', 'http://www.wikidata.org/prop/direct/P149'), ('hasLabel', 'architectural style'), ('work', 'http://www.wikidata.org/entity/Q245188'), ('workLabel', 'modern architecture')]\n"
     ]
    },
    {
     "data": {
      "text/plain": [
       "7"
      ]
     },
     "execution_count": 28,
     "metadata": {},
     "output_type": "execute_result"
    }
   ],
   "source": [
    "\n",
    "queryString = \"\"\"\n",
    "\n",
    "    SELECT ?p ?pLabel ?has ?hasLabel ?work ?workLabel WHERE{\n",
    "      wd:Q5604 ?p wd:Q2081276 .\n",
    "      wd:Q2081276 ?has ?work .\n",
    "      \n",
    "          ## labels\n",
    "     ?p <http://schema.org/name> ?pLabel .\n",
    "     ?has <http://schema.org/name> ?hasLabel .\n",
    "     ?work <http://schema.org/name> ?workLabel\n",
    "\n",
    "    }\n",
    "    LIMIT 50\n",
    "\"\"\"\n",
    "\n",
    "print(\"Results\")\n",
    "run_query(queryString)"
   ]
  },
  {
   "cell_type": "code",
   "execution_count": 29,
   "id": "e36bba73-aa58-4478-88e5-820c76783847",
   "metadata": {},
   "outputs": [
    {
     "name": "stdout",
     "output_type": "stream",
     "text": [
      "Results\n",
      "[('work', 'http://www.wikidata.org/entity/Q2081276'), ('workLabel', 'Pettit Memorial Chapel')]\n",
      "[('work', 'http://www.wikidata.org/entity/Q4167836'), ('workLabel', 'Wikimedia category')]\n",
      "[('work', 'http://www.wikidata.org/entity/Q55267305'), ('workLabel', 'Commons categories: recently created wikidata items 2')]\n"
     ]
    },
    {
     "data": {
      "text/plain": [
       "3"
      ]
     },
     "execution_count": 29,
     "metadata": {},
     "output_type": "execute_result"
    }
   ],
   "source": [
    "# the name of one of the artist's works is demonstrated\n",
    "queryString = \"\"\"\n",
    "\n",
    "    SELECT DISTINCT ?work ?workLabel \n",
    "    WHERE{\n",
    "      wd:Q5604 ?p wd:Q2081276 .\n",
    "      wd:Q55276305 ?has ?work .\n",
    "                  \n",
    "                  \n",
    "    ## labels\n",
    "\n",
    "     ?has <http://schema.org/name> ?hasLabel .    \n",
    "     ?work <http://schema.org/name> ?workLabel .    \n",
    "           \n",
    "    }\n",
    "    LIMIT 10\n",
    "\n",
    "\"\"\"\n",
    "\n",
    "print(\"Results\")\n",
    "run_query(queryString)"
   ]
  },
  {
   "cell_type": "code",
   "execution_count": 30,
   "id": "54a876fd-c7fc-498d-945b-22d5ae10e9de",
   "metadata": {},
   "outputs": [
    {
     "name": "stdout",
     "output_type": "stream",
     "text": [
      "Results\n",
      "Empty\n"
     ]
    },
    {
     "data": {
      "text/plain": [
       "0"
      ]
     },
     "execution_count": 30,
     "metadata": {},
     "output_type": "execute_result"
    }
   ],
   "source": [
    "\n",
    "# here let's check the works of this artist to see how to grab its works and buildings\n",
    "\n",
    "queryString = \"\"\"\n",
    "\n",
    "    SELECT DISTINCT ?name ?nameLabel WHERE{\n",
    "      wd:Q5604 ?p wd:Q2081276 .\n",
    "      wd:Q2081276 ?has ?work .\n",
    "      ?work rdfs:label ?name .\n",
    "    ## labels\n",
    "         ?name <http://schema.org/name> ?nameLabel .\n",
    "         \n",
    "\n",
    "    }\n",
    "    LIMIT 50\n",
    "\"\"\"\n",
    "\n",
    "print(\"Results\")\n",
    "run_query(queryString)"
   ]
  },
  {
   "cell_type": "code",
   "execution_count": 31,
   "id": "1ea691c0-8300-4534-b37e-7ea7b796bdee",
   "metadata": {},
   "outputs": [
    {
     "name": "stdout",
     "output_type": "stream",
     "text": [
      "Results\n",
      "[('americanarLabel', 'Nathan Clifford Ricker'), ('workLabels', 'Altgeld Hall')]\n",
      "[('americanarLabel', 'Donn Barber'), ('workLabels', 'Hartford Times Building, Terminal Station, Travelers Tower')]\n",
      "[('americanarLabel', 'Francis Costigan'), ('workLabels', 'Charles L. Shrewsbury House, Lanier Mansion, Le Méridien Indianapolis Hotel')]\n",
      "[('americanarLabel', 'Albert C. Martin Jr.'), ('workLabels', '1900 Avenue of the Stars')]\n",
      "[('americanarLabel', 'Frank E. Edbrooke'), ('workLabels', 'Central Presbyterian Church, Joslin Dry Goods Company Building, Masonic Temple Building, Steamboat Springs Depot, Temple Emanuel, The Brown Palace Hotel and Spa, Autograph Collection')]\n",
      "[('americanarLabel', 'Félix Candela'), ('workLabels', \"L'Oceanogràfic, Palacio de los Deportes, church of Nuestra Señora de Guadalupe\")]\n",
      "[('americanarLabel', 'James R. Edmunds, Jr.'), ('workLabels', 'Eastern High School, Maryland Stadium')]\n",
      "[('americanarLabel', 'Gottlieb Schumacher'), ('workLabels', 'Carmel Winery')]\n",
      "[('americanarLabel', 'Ernest Coxhead'), ('workLabels', 'Episcopal Church of the Ascension')]\n",
      "[('americanarLabel', 'John G. Haskell'), ('workLabels', 'Bailey Hall, Douglas County Courthouse, McPherson County Courthouse, Plymouth Congregational Church, Topeka State Hospital')]\n",
      "[('americanarLabel', 'Frank Mills Andrews'), ('workLabels', 'Battle Creek Sanitarium, Conover Building, George Washington Hotel, Kentucky State Capitol, Seelbach Hotel')]\n",
      "[('americanarLabel', 'David Childs'), ('workLabels', '383 Madison Avenue, 7 World Trade Center, 700 Eleventh Street, Four Seasons Hotel, Washington, D.C., One World Trade Center, Park Hyatt Washington, The Westin Georgetown, Washington, D.C., Time Warner Center')]\n",
      "[('americanarLabel', 'George W. Conable'), ('workLabels', 'Trinity Evangelical Lutheran Church of Manhattan')]\n",
      "[('americanarLabel', 'John Eberson'), ('workLabels', 'AFI Silver Theatre, Akron Civic Theatre, Aragon Ballroom, Artcraft Theatre, Avalon Regal Theater, Capitol Theatre, Central National Bank, Indiana Theatre, Majestic Theatre, Niels Esperson Building\\u200e, Norwalk Theatre, Olympia Theater, Orpheum Theatre, Palace Theater, Palace Theatre, Paradise Theater, Richmond CenterStage, Shines Auburn Theater, State Theatre, Tampa Theatre, The Louisville Palace, Wabash Theater, Woodlawn Theatre')]\n",
      "[('americanarLabel', 'George Cary'), ('workLabels', 'Buffalo History Museum')]\n",
      "[('americanarLabel', 'Philip Hooker'), ('workLabels', 'First Church in Albany, Hamilton College Chapel, Hyde Hall, Old Albany Academy Building, Roscoe Conkling House')]\n",
      "[('americanarLabel', 'John Fraser'), ('workLabels', 'Brodhead-Bell-Morton Mansion, James G. Blaine Mansion')]\n",
      "[('americanarLabel', 'David Whilldin'), ('workLabels', 'Bama Theatre, Legion Field')]\n",
      "[('americanarLabel', 'William F. Baker'), ('workLabels', 'Burj Khalifa')]\n",
      "[('americanarLabel', 'Edward Bennett Dougherty'), ('workLabels', 'Belle Meade Apartments, Central Baptist Church, First Baptist Church, War Memorial Auditorium')]\n",
      "[('americanarLabel', 'James C. Ewing, Sr.'), ('workLabels', 'Rapid City Masonic Temple')]\n",
      "[('americanarLabel', 'Clarence W. Wigington'), ('workLabels', 'Harriet Island Pavilion, Highland Park Tower, Holman Field Administration Building, Roy Wilkins Auditorium')]\n",
      "[('americanarLabel', 'Robert D. Farquhar'), ('workLabels', 'California Club, Owlwood Estate')]\n",
      "[('americanarLabel', 'Eugene R. Liebert'), ('workLabels', 'Baumbach Building')]\n",
      "[('americanarLabel', 'Frederick Ernst Ruffini'), ('workLabels', 'Old Blanco County Courthouse')]\n",
      "[('americanarLabel', 'Araldo Cossutta'), ('workLabels', 'Third Church of Christ, Scientist, Tour Part-Dieu, University Apartments')]\n",
      "[('americanarLabel', 'Dabney Cosby'), ('workLabels', 'Grace Church, Venable Hall')]\n",
      "[('americanarLabel', 'Ralph Adams Cram'), ('workLabels', \"All Saints Cathedral, Halifax, All Saints Church, All Saints Episcopal Church, Annunciation Greek Orthodox Cathedral of New England, Boston University Marsh Chapel, Brown Memorial Presbyterian Church, Cathedral Church of St. Paul, Cathedral of Hope, Chapel of St. Anne, Christ Church United Methodist, Christ Church, Hyde Park, Conventual Church of St. Mary and St. John, Deborah Cook Sayles Public Library, Emmanuel Church, First Presbyterian Church, First Unitarian Society in Newton, Fourth Presbyterian Church of Chicago, Gibson Memorial Chapel and Martha Bagby Battle House at Blue Ridge School, Grace Church, Hayes Gymnasium, Holy Cross Monastery (West Park, New York), James L. Autry House, Knowles Memorial Chapel, Park Avenue Christian Church, Princeton University Art Museum, Princeton University Chapel, Sacred Heart Cathedral, Saint Andrew's Memorial Episcopal Church, Saint Thomas Church, Second Church in Boston, Second Presbyterian Church, St. Andrews Episcopal Church, St. Luke's Methodist Church, St. Mark's Pro-Cathedral, St. Paul's Parish Church, The Birches, Trinity Episcopal Church\")]\n",
      "[('americanarLabel', 'Arthur Nash'), ('workLabels', 'Carolina Inn')]\n",
      "[('americanarLabel', 'Fridolin Heer'), ('workLabels', 'Andrew-Ryan House, Basilica of St. Francis Xavier, Dyersville, Corpus Christi Catholic Church, Dubuque County Courthouse, Jacob Regez, Sr. House, Security Building, St. Lawrence Catholic Church, Town Clock')]\n",
      "[('americanarLabel', 'Thomas J. Tolan'), ('workLabels', 'Davis County Courthouse, Van Wert County Courthouse')]\n",
      "[('americanarLabel', 'Vlastimil Koubek'), ('workLabels', \"L'Enfant Plaza Hotel, Rosewood Washington, D.C., The Fairmont Washington, D.C., Transamerica Tower, Willoughby Condominium\")]\n",
      "[('americanarLabel', 'Robert Moses'), ('workLabels', 'Downing Stadium, Nikon at Jones Beach Theater')]\n",
      "[('americanarLabel', 'Willard Thomas Sears'), ('workLabels', 'Edward H. Haskell Home for Nurses, Isabella Stewart Gardner Museum')]\n",
      "[('americanarLabel', 'Alexander C. Currier'), ('workLabels', 'Hubbard Free Library')]\n",
      "[('americanarLabel', 'George A. Berlinghof'), ('workLabels', 'Chadron Public Library, Colfax County Courthouse, Crawford County Courthouse, Deutsche Evangelisch Lutherische Zion Kirche, Dr. A.O. Thomas House, Franklin County Courthouse, Harry T. Jones House, Howard County Courthouse, Kearney County Courthouse, Lincoln County Courthouse, Nemaha County Courthouse, Seward County Courthouse')]\n",
      "[('americanarLabel', 'Edward Larrabee Barnes'), ('workLabels', '125 West 55th Street, 599 Lexington Avenue, AXA Equitable Center, Bass Library, Cathedral of the Immaculate Conception, Crown Center, Hammer Museum, Haystack Mountain School of Crafts, IUPUI University Library, Sheraton Kansas City Hotel at Crown Center, Smart Museum of Art')]\n",
      "[('americanarLabel', 'A.T. Simmons'), ('workLabels', 'Iowa Yearly Meeting House-College Avenue Friends Church, Yates Center Carnegie Library')]\n",
      "[('americanarLabel', 'Cincinnatus Shryock'), ('workLabels', 'First Presbyterian Church, Odd Fellows Temple')]\n",
      "[('americanarLabel', 'Walter W. Ahlschlager'), ('workLabels', 'Carew Tower, City Place Tower, Davis Theater, Hilton Cincinnati Netherland Plaza, InterContinental Chicago Magnificent Mile, Jackson Towers, Kelvyn Fieldhouse, Mercantile Continental Building, Mercantile National Bank Building, Peabody Hotel, Roxy Theatre, Sovereign Hotel')]\n",
      "[('americanarLabel', 'John Calvin Stevens'), ('workLabels', 'C.A. Brown Cottage, Cary Library, City Theater, Gov. John F. Hill Mansion, Hyde Mansion, John Calvin Stevens House, Lancaster Block, Nathan Clifford School, S. D. Warren Paper Mill, Sturtevant Hall, Tappan-Viles House, Union Church of Vinalhaven')]\n",
      "[('americanarLabel', 'Andrew J. Bryan'), ('workLabels', 'Pointe Coupee Parish Courthouse')]\n",
      "[('americanarLabel', 'Harry W. Wachter'), ('workLabels', 'First Presbyterian Church')]\n",
      "[('americanarLabel', 'Robert E. Langdon, Jr.'), ('workLabels', '9454 Wilshire Boulevard')]\n",
      "[('americanarLabel', 'Francis Palmer Smith'), ('workLabels', '11 East Forsyth, American National Bank Building, Crescent Farm, Episcopal Cathedral of Saint Philip, Rhodes-Haverty Building, William-Oliver Building')]\n",
      "[('americanarLabel', 'Leopold Eidlitz'), ('workLabels', 'Bulkeley School, Christ Church Cathedral, Iranistan, Tweed Courthouse, West-Park Presbyterian Church')]\n",
      "[('americanarLabel', 'Richard C. Watkins'), ('workLabels', 'Knight Block, Knight-Allen House, Manti Carnegie Library, Noyes Building, Paris Public School, Provo Third Ward Chapel and Amusement Hall, Richfield Carnegie Library, Spring City School, Thomas N. Taylor House')]\n",
      "[('americanarLabel', 'Matthew Del Gaudio'), ('workLabels', 'Our Lady of Pompeii Church')]\n",
      "[('americanarLabel', 'Thomas Houghton'), ('workLabels', 'Holy Rosary Church, Our Lady of Victory Church')]\n",
      "[('americanarLabel', 'James F. Denson'), ('workLabels', 'Park Crest, Park Gables, Park Manor')]\n",
      "[('americanarLabel', 'Levi Weeks'), ('workLabels', 'Auburn, The Briars')]\n",
      "[('americanarLabel', 'Henry Hobson Richardson'), ('workLabels', \"Albany City Hall, Allegheny County Courthouse, Ames Free Library, Ames Gate Lodge, Ames Monument, Austin Hall, Billings Library, Castle Hill Light, Cheney Building, Dr. Henry Jacob Bigelow House, Emmanuel Episcopal Church, F.L. Ames Gardener's Cottage, First Baptist Church, Framingham station, Grace Episcopal Church, H. H. Richardson Complex, Hampden County Courthouse, Hayden Building, Isaac H. Lionberger House, John J. Glessner House, Little Silver, Lululaund, Mary Fiske Stoughton House, New London Union Station, Newton Railroad Stations Historic District, North Congregational Church, North Easton station, Oakes Ames Memorial Hall, Old Allegheny County Jail, Robert Treat Paine Estate, Thomas Crane Public Library, Trinity Church, Union Station, Warder Mansion, Wellesley Farms station, William Watts Sherman House\")]\n",
      "[('americanarLabel', 'Antonin Raymond'), ('workLabels', \"Catholic Shibata Church, Ehrismann Residence, Gunma Music Center, Italian Embassy Villa Memorial Park, Kyobunkwan, Musée Peynet, St. Joseph the Worker Chapel, Victorias, St. Paul's Catholic Church (Karuizawa)\")]\n",
      "[('americanarLabel', 'James Hoban'), ('workLabels', \"Charleston County Courthouse, His Lordship's Kindness, United States Capitol, White House\")]\n",
      "[('americanarLabel', 'Morris H. Whitehouse'), ('workLabels', 'Balfour–Guthrie Building, Columbia Gorge Hotel, Congregation Beth Israel, Deschutes Public Library Administration Building, Elliott R. Corbett House, Gus J. Solomon United States Courthouse, H. L. and Gretchen Hoyt Corbett House, Lincoln Hall, Providence Park')]\n",
      "[('americanarLabel', 'A.J. Gibson'), ('workLabels', 'Bass Mansion, Ravalli County Courthouse, Riverside')]\n",
      "[('americanarLabel', 'H. Craig Severance'), ('workLabels', '40 Wall Street, 400 Madison Avenue, Montague-Court Building, Nelson Tower, The Michelangelo')]\n",
      "[('americanarLabel', 'Adrian C. Finlayson'), ('workLabels', 'Rafael María de Labra Graded School')]\n",
      "[('americanarLabel', 'John Jager'), ('workLabels', 'Church of St. Bernard, Church of St. Stephen-Catholic')]\n",
      "[('americanarLabel', 'John C. Portman Jr.'), ('workLabels', '151 Incheon Tower, Atlanta Marriott Marquis, Beijing Yintai Centre, Bund Center, Capital Square, Embarcadero West, Four Embarcadero Center, Hilton San Diego Bayfront, Hyatt Regency Atlanta, Hyatt Regency San Francisco, JW Marriott San Francisco Union Square, Le Méridien San Francisco, Mandarin Oriental, Marquis Theatre, Menara Multi Purpose, New York Marriott Marquis, One Embarcadero Center, Park Hyatt Hyderabad, Parkroyal Collection Marina Bay, Singapore, Renaissance Center, Schaumburg Hotel & Convention Center, Shanghai Centre, SunTrust Plaza, The Pan Pacific Singapore, Three Embarcadero Center, Tomorrow Square, Two Embarcadero Center, Westin Bonaventure Hotel, Westin Peachtree Plaza Hotel, Zhejiang Fortune Financial Center')]\n",
      "[('americanarLabel', 'Frederic Charles Hirons'), ('workLabels', 'Davidson County Courthouse, Worcester Memorial Auditorium')]\n",
      "[('americanarLabel', 'Charles R. Weatherhogg'), ('workLabels', 'North Side High School')]\n",
      "[('americanarLabel', 'William H. Corlett'), ('workLabels', 'Alexandria Hotel and Annex, Napa County Courthouse Plaza, St. Helena Public Library, U.S. Post Office')]\n",
      "[('americanarLabel', 'Edward Pearce Casey'), ('workLabels', 'Memorial Continental Hall')]\n",
      "[('americanarLabel', 'A. Ten Eyck Brown'), ('workLabels', 'Albany Municipal Auditorium, Cherokee County Courthouse, Fulton County Courthouse, Martin Luther King, Jr. Federal Building, Miami-Dade County Courthouse')]\n",
      "[('americanarLabel', 'James Gamble Rogers'), ('workLabels', 'Abbott Hall, Butler Library Building, Cahn Auditorium, Deering Library, Evans Scholars House, Harkness Tower, Levy Mayer Hall, Lutkin Memorial Hall, Ossining High School, Peter G. Thomson House, Rogers House Residence Hall, Ryan Field, Scott Hall, Sterling Memorial Library, Ward Building, Wieboldt Hall')]\n",
      "[('americanarLabel', 'Richard Sundeleaf'), ('workLabels', \"E. J. O'Donnell House, Jantzen Knitting Mills Company Building, Oregon Portland Cement Building, Paul F. Murphy House, Wilson–Chambers Mortuary\")]\n",
      "[('americanarLabel', 'Francis Willford Fitzpatrick'), ('workLabels', 'Johnston Memorial Building')]\n",
      "[('americanarLabel', 'Louis G. Destremps'), ('workLabels', \"Bark Street School, Jesus Marie Convent, St. Joseph's Orphanage\")]\n",
      "[('americanarLabel', 'A. C. Schweinfurth'), ('workLabels', 'Hacienda del Pozo de Verona, Swedenborgian Church')]\n",
      "[('americanarLabel', 'R. H. Robertson'), ('workLabels', \"5 West 54th Street, Church of St. Paul and St. Andrew, Jan Hus Presbyterian Church, Lincoln Building, Park Row Building, Society for the Lying-In Hospital, St. John the Martyr's Church, United Charities Building\")]\n",
      "[('americanarLabel', 'Mason Remey'), ('workLabels', \"Sydney Bahá'í Temple\")]\n",
      "[('americanarLabel', 'Gilbert A. Schellenger'), ('workLabels', '14 Maiden Lane')]\n",
      "[('americanarLabel', 'Percival Lloyd'), ('workLabels', 'Dwight-Hooker Avenue Historic District, Lady Washington Hose Company building, Luckey, Platt & Company Department Store, Mader House, Niagara Engine House')]\n",
      "[('americanarLabel', 'Albert W. Fuller'), ('workLabels', \"Belhurst Castle, Charlotte Williams Memorial Hospital, First Congregational Church of Albany, Forest Presbyterian Church, Gould Mansion Complex, Plattsburgh station, Port Henry station, Silliman Memorial Presbyterian Church, Young Men's Christian Association Building\")]\n",
      "[('americanarLabel', 'George B. Post'), ('workLabels', 'Boston Park Plaza Hotel & Towers, Bronx Borough Hall, Brooklyn Historical Society Building, Center for Brooklyn History, Cleveland Trust Company Building, Detroit Statler Hotel, Erie County Savings Bank, Governor Clinton Hotel, Hearst Tower, New York Stock Exchange Building, New York Times Building, New York World Building, Prudential Headquarters, St. Paul Building, The Roosevelt Hotel, Western Union Telegraph Building, Wisconsin State Capitol')]\n",
      "[('americanarLabel', 'Herbert Maier'), ('workLabels', 'Fishing Bridge Museum, Glacier Point Trailside Museum, Madison Museum, Norris Geyser Basin Museum, Norris, Madison, and Fishing Bridge Museums, Osage Hills State Park Picnic Pavilion, Yavapai Museum of Geology')]\n",
      "[('americanarLabel', 'Edward Lippincott Tilton'), ('workLabels', \"46 West 55th Street, Bond Hall, Sioux City Free Public Library, St. Luke's Lutheran Church\")]\n",
      "[('americanarLabel', 'Frederick Clarke Withers'), ('workLabels', \"Chapel of the Good Shepherd, Eustatia, Hasbrouck House, Hudson River State Hospital, Jefferson Market Library, Maple Lawn, Reformed Church of Beacon, St. Luke's Episcopal Church, United Methodist Church of the Highlands, United States Daughters of 1812, National Headquarters\")]\n",
      "[('americanarLabel', 'S. Charles Lee'), ('workLabels', 'Fox Theater, Fox Theatre, Fremont Theater, Hollywood & Western Building, Huntridge Theatre, Ken Cinema, Los Angeles Theatre, Saban Theatre, Tower Theatre')]\n",
      "[('americanarLabel', 'Edward Joseph Schulte'), ('workLabels', 'Cathedral of Christ the King, Cathedral of Saint Joseph the Workman, Sacred Heart Cathedral')]\n",
      "[('americanarLabel', 'Horatio Nelson White'), ('workLabels', 'First Congregational Church, Grace Episcopal Church, Gridley Building')]\n",
      "[('americanarLabel', 'Kendrick Bangs Kellogg'), ('workLabels', 'Uchimura Kanzo Memorial Stone Church')]\n",
      "[('americanarLabel', 'John Marshall'), ('workLabels', 'Newport Apartments, Roxy Theatre')]\n",
      "[('americanarLabel', 'Bradford Gilbert'), ('workLabels', '222 Bowery, Central Station, Château Laurier, Flatiron Building, Flint and Pere Marquette Railroad East Saginaw Depot, Laconia Passenger Station, North Abington station, Plainfield, Senate of Canada Building, White House')]\n",
      "[('americanarLabel', 'Alice Constance Austin'), ('workLabels', 'Llano Del Rio')]\n",
      "[('americanarLabel', 'George Hancock'), ('workLabels', \"Basilica of St. James, Christ Episcopal Church and Rectory, Episcopal Church of the Advent and Guild Hall, German Evangelical St. Johns Church (Hebron, North Dakota), Grace Episcopal Church, Hotel Kaddatz, Knerr Block, Floyd Block, McHench Building and Webster and Coe Building, McLean County Courthouse, Old Stone Church, Powers Hotel, Seiler Building, St. Michael's Church, St. Michael's Hospital and Nurses' Residence, St. Stephen's Episcopal Church\")]\n",
      "[('americanarLabel', 'Henry Klumb'), ('workLabels', 'Casa Klumb, Museo de Historia, Antropología y Arte, Rafael A. Mangual Coliseum')]\n",
      "[('americanarLabel', 'Jacob Graves'), ('workLabels', 'Colburn School, Old Courthouse')]\n",
      "[('americanarLabel', 'William H. Hume'), ('workLabels', 'Hotel New Netherland')]\n",
      "[('americanarLabel', 'Howard Dwight Smith'), ('workLabels', 'Cooper Stadium, Indianola Junior High School, Masonic Temple, Ohio Stadium, Open Air School')]\n",
      "[('americanarLabel', 'Joseph Bell DeRemer'), ('workLabels', \"B'nai Israel Synagogue and Montefiore Cemetery, Dickinson (Carnegie Area) Public Library, Franklin School, Golden Block, Joseph Bell DeRemer House, Masonic Temple, Oxford House, St. Catherine's Church, St. Paul's Episcopal Church, United Lutheran Church\")]\n",
      "[('americanarLabel', 'Károly Gonda'), ('workLabels', 'Bank of Communications Building, Capitol Theatre, Cathay Theatre')]\n",
      "[('americanarLabel', 'Brentwood S. Tolan'), ('workLabels', 'Allen County Courthouse')]\n",
      "[('americanarLabel', 'Bertrand Goldberg'), ('workLabels', \"Marina City, Prentice Women's Hospital Building, Providence Hospital, River City\")]\n",
      "[('americanarLabel', 'John Vredenburgh Van Pelt'), ('workLabels', \"Church of St. John Nepomucene, Our Lady of Mercy's Church, Our Lady of Victory Church, St. Ambrose's Church, United States Post Office\")]\n",
      "[('americanarLabel', 'William Wesley Peters'), ('workLabels', 'Pearl Palace')]\n",
      "[('americanarLabel', 'Verners Vitands'), ('workLabels', 'Akuraters house, Unity House')]\n",
      "[('americanarLabel', 'A. Warren Gould'), ('workLabels', 'Arctic Building, King County Courthouse')]\n",
      "[('americanarLabel', 'Kenneth MacKenzie Murchison'), ('workLabels', 'Beaux-Arts Apartments, Hoboken Terminal, Murchison Building, Prime F. Osborn III Convention Center, Radisson Lackawanna Station Hotel')]\n"
     ]
    },
    {
     "data": {
      "text/plain": [
       "100"
      ]
     },
     "execution_count": 31,
     "metadata": {},
     "output_type": "execute_result"
    }
   ],
   "source": [
    "# showing the name of the architecture's building\n",
    "\n",
    "queryString = \"\"\"\n",
    "\n",
    "    SELECT DISTINCT ?americanarLabel (GROUP_CONCAT(DISTINCT ?workLabel; SEPARATOR=\", \") AS ?workLabels)\n",
    "     WHERE{\n",
    "      ?americanar wdt:P27 wd:Q30  . \n",
    "      ?americanar wdt:P106 wd:Q42973 .\n",
    "      ?work wdt:P84 ?americanar .\n",
    "      \n",
    "    ## labels\n",
    "         ?americanar <http://schema.org/name> ?americanarLabel .\n",
    "         ?work <http://schema.org/name> ?workLabel .\n",
    "\n",
    "    }\n",
    "    LIMIT 100\n",
    "\"\"\"\n",
    "\n",
    "print(\"Results\")\n",
    "run_query(queryString)"
   ]
  },
  {
   "cell_type": "code",
   "execution_count": 32,
   "id": "58d066ae-fdd6-4ec7-9c97-dbb29c58f4f9",
   "metadata": {},
   "outputs": [
    {
     "name": "stdout",
     "output_type": "stream",
     "text": [
      "Results\n",
      "[('americanar', 'http://www.wikidata.org/entity/Q13647155'), ('americanarLabel', 'Marshall Strabala'), ('workLabel', 'Burj Khalifa'), ('typebuilding', 'http://www.wikidata.org/entity/Q18756633'), ('typebuildingLabel', 'garden shed'), ('architectural_style', 'http://www.wikidata.org/entity/Q2479493'), ('architectural_styleLabel', 'eclectic architecture')]\n",
      "[('americanar', 'http://www.wikidata.org/entity/Q13647155'), ('americanarLabel', 'Marshall Strabala'), ('workLabel', 'Burj Khalifa'), ('typebuilding', 'http://www.wikidata.org/entity/Q18814970'), ('typebuildingLabel', 'retail building with apartments'), ('architectural_style', 'http://www.wikidata.org/entity/Q478742'), ('architectural_styleLabel', 'Amsterdam School')]\n",
      "[('americanar', 'http://www.wikidata.org/entity/Q13647155'), ('americanarLabel', 'Marshall Strabala'), ('workLabel', 'Burj Khalifa'), ('typebuilding', 'http://www.wikidata.org/entity/Q21092604'), ('typebuildingLabel', 'manor house'), ('architectural_style', 'http://www.wikidata.org/entity/Q930314'), ('architectural_styleLabel', 'vernacular architecture')]\n",
      "[('americanar', 'http://www.wikidata.org/entity/Q13647155'), ('americanarLabel', 'Marshall Strabala'), ('workLabel', 'Burj Khalifa'), ('typebuilding', 'http://www.wikidata.org/entity/Q6979635'), ('typebuildingLabel', 'national parish'), ('architectural_style', 'http://www.wikidata.org/entity/Q744373'), ('architectural_styleLabel', 'Romanesque Revival architecture')]\n",
      "[('americanar', 'http://www.wikidata.org/entity/Q13647155'), ('americanarLabel', 'Marshall Strabala'), ('workLabel', 'Burj Khalifa'), ('typebuilding', 'http://www.wikidata.org/entity/Q522124'), ('typebuildingLabel', 'konak'), ('architectural_style', 'http://www.wikidata.org/entity/Q527449'), ('architectural_styleLabel', 'Ottoman architecture')]\n",
      "[('americanar', 'http://www.wikidata.org/entity/Q13647155'), ('americanarLabel', 'Marshall Strabala'), ('workLabel', 'Burj Khalifa'), ('typebuilding', 'http://www.wikidata.org/entity/Q303808'), ('typebuildingLabel', 'Holy Sepulchre chapels'), ('architectural_style', 'http://www.wikidata.org/entity/Q37853'), ('architectural_styleLabel', 'Baroque')]\n",
      "[('americanar', 'http://www.wikidata.org/entity/Q13647155'), ('americanarLabel', 'Marshall Strabala'), ('workLabel', 'Burj Khalifa'), ('typebuilding', 'http://www.wikidata.org/entity/Q98116669'), ('typebuildingLabel', 'religious complex'), ('architectural_style', 'http://www.wikidata.org/entity/Q1513688'), ('architectural_styleLabel', 'Greek Revival architecture')]\n",
      "[('americanar', 'http://www.wikidata.org/entity/Q13647155'), ('americanarLabel', 'Marshall Strabala'), ('workLabel', 'Burj Khalifa'), ('typebuilding', 'http://www.wikidata.org/entity/Q1129743'), ('typebuildingLabel', 'filial church'), ('architectural_style', 'http://www.wikidata.org/entity/Q245188'), ('architectural_styleLabel', 'modern architecture')]\n",
      "[('americanar', 'http://www.wikidata.org/entity/Q13647155'), ('americanarLabel', 'Marshall Strabala'), ('workLabel', 'Burj Khalifa'), ('typebuilding', 'http://www.wikidata.org/entity/Q1129743'), ('typebuildingLabel', 'filial church'), ('architectural_style', 'http://www.wikidata.org/entity/Q46261'), ('architectural_styleLabel', 'Romanesque architecture')]\n",
      "[('americanar', 'http://www.wikidata.org/entity/Q13647155'), ('americanarLabel', 'Marshall Strabala'), ('workLabel', 'Burj Khalifa'), ('typebuilding', 'http://www.wikidata.org/entity/Q274153'), ('typebuildingLabel', 'water tower'), ('architectural_style', 'http://www.wikidata.org/entity/Q12720942'), ('architectural_styleLabel', 'Art Deco architecture')]\n",
      "[('americanar', 'http://www.wikidata.org/entity/Q13647155'), ('americanarLabel', 'Marshall Strabala'), ('workLabel', 'Burj Khalifa'), ('typebuilding', 'http://www.wikidata.org/entity/Q1865249'), ('typebuildingLabel', 'literary museum'), ('architectural_style', 'http://www.wikidata.org/entity/Q1148060'), ('architectural_styleLabel', 'expressionist architecture')]\n",
      "[('americanar', 'http://www.wikidata.org/entity/Q13647155'), ('americanarLabel', 'Marshall Strabala'), ('workLabel', 'Burj Khalifa'), ('typebuilding', 'http://www.wikidata.org/entity/Q35112127'), ('typebuildingLabel', 'historic building'), ('architectural_style', 'http://www.wikidata.org/entity/Q46261'), ('architectural_styleLabel', 'Romanesque architecture')]\n",
      "[('americanar', 'http://www.wikidata.org/entity/Q13647155'), ('americanarLabel', 'Marshall Strabala'), ('workLabel', 'Burj Khalifa'), ('typebuilding', 'http://www.wikidata.org/entity/Q35112127'), ('typebuildingLabel', 'historic building'), ('architectural_style', 'http://www.wikidata.org/entity/Q930314'), ('architectural_styleLabel', 'vernacular architecture')]\n",
      "[('americanar', 'http://www.wikidata.org/entity/Q13647155'), ('americanarLabel', 'Marshall Strabala'), ('workLabel', 'Burj Khalifa'), ('typebuilding', 'http://www.wikidata.org/entity/Q35112127'), ('typebuildingLabel', 'historic building'), ('architectural_style', 'http://www.wikidata.org/entity/Q4692'), ('architectural_styleLabel', 'Renaissance')]\n",
      "[('americanar', 'http://www.wikidata.org/entity/Q13647155'), ('americanarLabel', 'Marshall Strabala'), ('workLabel', 'Burj Khalifa'), ('typebuilding', 'http://www.wikidata.org/entity/Q856584'), ('typebuildingLabel', 'library building'), ('architectural_style', 'http://www.wikidata.org/entity/Q245188'), ('architectural_styleLabel', 'modern architecture')]\n",
      "[('americanar', 'http://www.wikidata.org/entity/Q13647155'), ('americanarLabel', 'Marshall Strabala'), ('workLabel', 'Burj Khalifa'), ('typebuilding', 'http://www.wikidata.org/entity/Q856584'), ('typebuildingLabel', 'library building'), ('architectural_style', 'http://www.wikidata.org/entity/Q1148060'), ('architectural_styleLabel', 'expressionist architecture')]\n",
      "[('americanar', 'http://www.wikidata.org/entity/Q13647155'), ('americanarLabel', 'Marshall Strabala'), ('workLabel', 'Burj Khalifa'), ('typebuilding', 'http://www.wikidata.org/entity/Q856584'), ('typebuildingLabel', 'library building'), ('architectural_style', 'http://www.wikidata.org/entity/Q1125300'), ('architectural_styleLabel', 'Georgian architecture')]\n",
      "[('americanar', 'http://www.wikidata.org/entity/Q13647155'), ('americanarLabel', 'Marshall Strabala'), ('workLabel', 'Burj Khalifa'), ('typebuilding', 'http://www.wikidata.org/entity/Q856584'), ('typebuildingLabel', 'library building'), ('architectural_style', 'http://www.wikidata.org/entity/Q1513688'), ('architectural_styleLabel', 'Greek Revival architecture')]\n",
      "[('americanar', 'http://www.wikidata.org/entity/Q13647155'), ('americanarLabel', 'Marshall Strabala'), ('workLabel', 'Burj Khalifa'), ('typebuilding', 'http://www.wikidata.org/entity/Q856584'), ('typebuildingLabel', 'library building'), ('architectural_style', 'http://www.wikidata.org/entity/Q3501297'), ('architectural_styleLabel', 'Richardsonian Romanesque')]\n",
      "[('americanar', 'http://www.wikidata.org/entity/Q13647155'), ('americanarLabel', 'Marshall Strabala'), ('workLabel', 'Burj Khalifa'), ('typebuilding', 'http://www.wikidata.org/entity/Q12781'), ('typebuildingLabel', \"Giardino all'italiana\"), ('architectural_style', 'http://www.wikidata.org/entity/Q6092863'), ('architectural_styleLabel', 'Italian Neoclassical architecture')]\n",
      "[('americanar', 'http://www.wikidata.org/entity/Q13647155'), ('americanarLabel', 'Marshall Strabala'), ('workLabel', 'Burj Khalifa'), ('typebuilding', 'http://www.wikidata.org/entity/Q96354572'), ('typebuildingLabel', 'destroyed convent'), ('architectural_style', 'http://www.wikidata.org/entity/Q840829'), ('architectural_styleLabel', 'baroque architecture')]\n",
      "[('americanar', 'http://www.wikidata.org/entity/Q13647155'), ('americanarLabel', 'Marshall Strabala'), ('workLabel', 'Burj Khalifa'), ('typebuilding', 'http://www.wikidata.org/entity/Q1307276'), ('typebuildingLabel', 'single-family detached home'), ('architectural_style', 'http://www.wikidata.org/entity/Q502163'), ('architectural_styleLabel', 'Renaissance Revival architecture')]\n",
      "[('americanar', 'http://www.wikidata.org/entity/Q13647155'), ('americanarLabel', 'Marshall Strabala'), ('workLabel', 'Burj Khalifa'), ('typebuilding', 'http://www.wikidata.org/entity/Q1307276'), ('typebuildingLabel', 'single-family detached home'), ('architectural_style', 'http://www.wikidata.org/entity/Q54111'), ('architectural_styleLabel', 'Neoclassical architecture')]\n",
      "[('americanar', 'http://www.wikidata.org/entity/Q13647155'), ('americanarLabel', 'Marshall Strabala'), ('workLabel', 'Burj Khalifa'), ('typebuilding', 'http://www.wikidata.org/entity/Q1307276'), ('typebuildingLabel', 'single-family detached home'), ('architectural_style', 'http://www.wikidata.org/entity/Q615196'), ('architectural_styleLabel', 'Italianate architecture')]\n",
      "[('americanar', 'http://www.wikidata.org/entity/Q13647155'), ('americanarLabel', 'Marshall Strabala'), ('workLabel', 'Burj Khalifa'), ('typebuilding', 'http://www.wikidata.org/entity/Q1307276'), ('typebuildingLabel', 'single-family detached home'), ('architectural_style', 'http://www.wikidata.org/entity/Q5148367'), ('architectural_styleLabel', 'Colonial Revival architecture')]\n",
      "[('americanar', 'http://www.wikidata.org/entity/Q13647155'), ('americanarLabel', 'Marshall Strabala'), ('workLabel', 'Burj Khalifa'), ('typebuilding', 'http://www.wikidata.org/entity/Q1307276'), ('typebuildingLabel', 'single-family detached home'), ('architectural_style', 'http://www.wikidata.org/entity/Q930314'), ('architectural_styleLabel', 'vernacular architecture')]\n",
      "[('americanar', 'http://www.wikidata.org/entity/Q13647155'), ('americanarLabel', 'Marshall Strabala'), ('workLabel', 'Burj Khalifa'), ('typebuilding', 'http://www.wikidata.org/entity/Q1307276'), ('typebuildingLabel', 'single-family detached home'), ('architectural_style', 'http://www.wikidata.org/entity/Q173782'), ('architectural_styleLabel', 'Art Deco')]\n",
      "[('americanar', 'http://www.wikidata.org/entity/Q13647155'), ('americanarLabel', 'Marshall Strabala'), ('workLabel', 'Burj Khalifa'), ('typebuilding', 'http://www.wikidata.org/entity/Q1343246'), ('typebuildingLabel', 'English country house'), ('architectural_style', 'http://www.wikidata.org/entity/Q615196'), ('architectural_styleLabel', 'Italianate architecture')]\n",
      "[('americanar', 'http://www.wikidata.org/entity/Q13647155'), ('americanarLabel', 'Marshall Strabala'), ('workLabel', 'Burj Khalifa'), ('typebuilding', 'http://www.wikidata.org/entity/Q1343246'), ('typebuildingLabel', 'English country house'), ('architectural_style', 'http://www.wikidata.org/entity/Q186363'), ('architectural_styleLabel', 'Gothic Revival')]\n",
      "[('americanar', 'http://www.wikidata.org/entity/Q13647155'), ('americanarLabel', 'Marshall Strabala'), ('workLabel', 'Burj Khalifa'), ('typebuilding', 'http://www.wikidata.org/entity/Q1343246'), ('typebuildingLabel', 'English country house'), ('architectural_style', 'http://www.wikidata.org/entity/Q1513688'), ('architectural_styleLabel', 'Greek Revival architecture')]\n",
      "[('americanar', 'http://www.wikidata.org/entity/Q13647155'), ('americanarLabel', 'Marshall Strabala'), ('workLabel', 'Burj Khalifa'), ('typebuilding', 'http://www.wikidata.org/entity/Q1343246'), ('typebuildingLabel', 'English country house'), ('architectural_style', 'http://www.wikidata.org/entity/Q51879601'), ('architectural_styleLabel', 'historicist architecture')]\n",
      "[('americanar', 'http://www.wikidata.org/entity/Q13647155'), ('americanarLabel', 'Marshall Strabala'), ('workLabel', 'Burj Khalifa'), ('typebuilding', 'http://www.wikidata.org/entity/Q1438040'), ('typebuildingLabel', 'research library'), ('architectural_style', 'http://www.wikidata.org/entity/Q2011484'), ('architectural_styleLabel', 'Hellenistic architecture')]\n",
      "[('americanar', 'http://www.wikidata.org/entity/Q13647155'), ('americanarLabel', 'Marshall Strabala'), ('workLabel', 'Burj Khalifa'), ('typebuilding', 'http://www.wikidata.org/entity/Q1475403'), ('typebuildingLabel', 'kunsthalle'), ('architectural_style', 'http://www.wikidata.org/entity/Q878985'), ('architectural_styleLabel', 'modernism')]\n",
      "[('americanar', 'http://www.wikidata.org/entity/Q13647155'), ('americanarLabel', 'Marshall Strabala'), ('workLabel', 'Burj Khalifa'), ('typebuilding', 'http://www.wikidata.org/entity/Q165044'), ('typebuildingLabel', 'greenhouse'), ('architectural_style', 'http://www.wikidata.org/entity/Q845318'), ('architectural_styleLabel', 'high-tech architecture')]\n",
      "[('americanar', 'http://www.wikidata.org/entity/Q13647155'), ('americanarLabel', 'Marshall Strabala'), ('workLabel', 'Burj Khalifa'), ('typebuilding', 'http://www.wikidata.org/entity/Q133215'), ('typebuildingLabel', 'casino'), ('architectural_style', 'http://www.wikidata.org/entity/Q911397'), ('architectural_styleLabel', 'Baroque Revival architecture')]\n",
      "[('americanar', 'http://www.wikidata.org/entity/Q13647155'), ('americanarLabel', 'Marshall Strabala'), ('workLabel', 'Burj Khalifa'), ('typebuilding', 'http://www.wikidata.org/entity/Q1630622'), ('typebuildingLabel', 'drinking fountain'), ('architectural_style', 'http://www.wikidata.org/entity/Q186363'), ('architectural_styleLabel', 'Gothic Revival')]\n",
      "[('americanar', 'http://www.wikidata.org/entity/Q13647155'), ('americanarLabel', 'Marshall Strabala'), ('workLabel', 'Burj Khalifa'), ('typebuilding', 'http://www.wikidata.org/entity/Q17051413'), ('typebuildingLabel', 'Main Hall'), ('architectural_style', 'http://www.wikidata.org/entity/Q3566879'), ('architectural_styleLabel', 'Wayō')]\n",
      "[('americanar', 'http://www.wikidata.org/entity/Q13647155'), ('americanarLabel', 'Marshall Strabala'), ('workLabel', 'Burj Khalifa'), ('typebuilding', 'http://www.wikidata.org/entity/Q19979289'), ('typebuildingLabel', 'birth house'), ('architectural_style', 'http://www.wikidata.org/entity/Q154432'), ('architectural_styleLabel', 'Biedermeier')]\n",
      "[('americanar', 'http://www.wikidata.org/entity/Q13647155'), ('americanarLabel', 'Marshall Strabala'), ('workLabel', 'Burj Khalifa'), ('typebuilding', 'http://www.wikidata.org/entity/Q3284499'), ('typebuildingLabel', 'capitol building'), ('architectural_style', 'http://www.wikidata.org/entity/Q54111'), ('architectural_styleLabel', 'Neoclassical architecture')]\n",
      "[('americanar', 'http://www.wikidata.org/entity/Q13647155'), ('americanarLabel', 'Marshall Strabala'), ('workLabel', 'Burj Khalifa'), ('typebuilding', 'http://www.wikidata.org/entity/Q656720'), ('typebuildingLabel', 'workshop'), ('architectural_style', 'http://www.wikidata.org/entity/Q502163'), ('architectural_styleLabel', 'Renaissance Revival architecture')]\n"
     ]
    },
    {
     "data": {
      "text/plain": [
       "40"
      ]
     },
     "execution_count": 32,
     "metadata": {},
     "output_type": "execute_result"
    }
   ],
   "source": [
    "\n",
    "\n",
    "queryString = \"\"\"\n",
    "\n",
    "    SELECT DISTINCT ?americanar ?americanarLabel ?workLabel ?typebuilding ?typebuildingLabel ?architectural_style ?architectural_styleLabel WHERE{\n",
    "      ?americanar wdt:P27 wd:Q30  . \n",
    "      ?americanar wdt:P106 wd:Q42973 .\n",
    "      ?work wdt:P84 ?americanar .\n",
    "                  \n",
    "      # here we have to add something for gaining the arts \n",
    "      ?art wdt:P31 ?typebuilding ;\n",
    "                  wdt:P149 ?architectural_style .    \n",
    "                  \n",
    "    ## labels\n",
    "         ?americanar <http://schema.org/name> ?americanarLabel .\n",
    "         ?work  <http://schema.org/name> ?workLabel .\n",
    "         ?typebuilding  <http://schema.org/name> ?typebuildingLabel . \n",
    "         ?architectural_style <http://schema.org/name> ?architectural_styleLabel .\n",
    "\n",
    "    }\n",
    "    LIMIT 40\n",
    "    \n",
    "\"\"\"\n",
    "\n",
    "print(\"Results\")\n",
    "run_query(queryString)\n",
    "\n",
    "\n"
   ]
  },
  {
   "cell_type": "code",
   "execution_count": 33,
   "id": "29975e8a-b992-4e26-9555-c43b77d82a0b",
   "metadata": {},
   "outputs": [
    {
     "name": "stdout",
     "output_type": "stream",
     "text": [
      "Results\n",
      "[('americanarLabel', 'Marshall Strabala'), ('workLabel', 'Burj Khalifa'), ('typebuildingLabel', 'garden shed'), ('architectural_styleLabel', 'eclectic architecture')]\n",
      "[('americanarLabel', 'Marshall Strabala'), ('workLabel', 'Burj Khalifa'), ('typebuildingLabel', 'retail building with apartments'), ('architectural_styleLabel', 'Amsterdam School')]\n",
      "[('americanarLabel', 'Marshall Strabala'), ('workLabel', 'Burj Khalifa'), ('typebuildingLabel', 'manor house'), ('architectural_styleLabel', 'vernacular architecture')]\n",
      "[('americanarLabel', 'Marshall Strabala'), ('workLabel', 'Burj Khalifa'), ('typebuildingLabel', 'national parish'), ('architectural_styleLabel', 'Romanesque Revival architecture')]\n",
      "[('americanarLabel', 'Marshall Strabala'), ('workLabel', 'Burj Khalifa'), ('typebuildingLabel', 'konak'), ('architectural_styleLabel', 'Ottoman architecture')]\n",
      "[('americanarLabel', 'Marshall Strabala'), ('workLabel', 'Burj Khalifa'), ('typebuildingLabel', 'Holy Sepulchre chapels'), ('architectural_styleLabel', 'Baroque')]\n",
      "[('americanarLabel', 'Marshall Strabala'), ('workLabel', 'Burj Khalifa'), ('typebuildingLabel', 'religious complex'), ('architectural_styleLabel', 'Greek Revival architecture')]\n",
      "[('americanarLabel', 'Marshall Strabala'), ('workLabel', 'Burj Khalifa'), ('typebuildingLabel', 'filial church'), ('architectural_styleLabel', 'modern architecture')]\n",
      "[('americanarLabel', 'Marshall Strabala'), ('workLabel', 'Burj Khalifa'), ('typebuildingLabel', 'filial church'), ('architectural_styleLabel', 'Romanesque architecture')]\n",
      "[('americanarLabel', 'Marshall Strabala'), ('workLabel', 'Burj Khalifa'), ('typebuildingLabel', 'water tower'), ('architectural_styleLabel', 'Art Deco architecture')]\n",
      "[('americanarLabel', 'Marshall Strabala'), ('workLabel', 'Burj Khalifa'), ('typebuildingLabel', 'literary museum'), ('architectural_styleLabel', 'expressionist architecture')]\n",
      "[('americanarLabel', 'Marshall Strabala'), ('workLabel', 'Burj Khalifa'), ('typebuildingLabel', 'historic building'), ('architectural_styleLabel', 'Romanesque architecture')]\n",
      "[('americanarLabel', 'Marshall Strabala'), ('workLabel', 'Burj Khalifa'), ('typebuildingLabel', 'historic building'), ('architectural_styleLabel', 'vernacular architecture')]\n",
      "[('americanarLabel', 'Marshall Strabala'), ('workLabel', 'Burj Khalifa'), ('typebuildingLabel', 'historic building'), ('architectural_styleLabel', 'Renaissance')]\n",
      "[('americanarLabel', 'Marshall Strabala'), ('workLabel', 'Burj Khalifa'), ('typebuildingLabel', 'library building'), ('architectural_styleLabel', 'modern architecture')]\n",
      "[('americanarLabel', 'Marshall Strabala'), ('workLabel', 'Burj Khalifa'), ('typebuildingLabel', 'library building'), ('architectural_styleLabel', 'expressionist architecture')]\n",
      "[('americanarLabel', 'Marshall Strabala'), ('workLabel', 'Burj Khalifa'), ('typebuildingLabel', 'library building'), ('architectural_styleLabel', 'Georgian architecture')]\n",
      "[('americanarLabel', 'Marshall Strabala'), ('workLabel', 'Burj Khalifa'), ('typebuildingLabel', 'library building'), ('architectural_styleLabel', 'Greek Revival architecture')]\n",
      "[('americanarLabel', 'Marshall Strabala'), ('workLabel', 'Burj Khalifa'), ('typebuildingLabel', 'library building'), ('architectural_styleLabel', 'Richardsonian Romanesque')]\n",
      "[('americanarLabel', 'Marshall Strabala'), ('workLabel', 'Burj Khalifa'), ('typebuildingLabel', \"Giardino all'italiana\"), ('architectural_styleLabel', 'Italian Neoclassical architecture')]\n",
      "[('americanarLabel', 'Marshall Strabala'), ('workLabel', 'Burj Khalifa'), ('typebuildingLabel', 'destroyed convent'), ('architectural_styleLabel', 'baroque architecture')]\n",
      "[('americanarLabel', 'Marshall Strabala'), ('workLabel', 'Burj Khalifa'), ('typebuildingLabel', 'single-family detached home'), ('architectural_styleLabel', 'Renaissance Revival architecture')]\n",
      "[('americanarLabel', 'Marshall Strabala'), ('workLabel', 'Burj Khalifa'), ('typebuildingLabel', 'single-family detached home'), ('architectural_styleLabel', 'Neoclassical architecture')]\n",
      "[('americanarLabel', 'Marshall Strabala'), ('workLabel', 'Burj Khalifa'), ('typebuildingLabel', 'single-family detached home'), ('architectural_styleLabel', 'Italianate architecture')]\n",
      "[('americanarLabel', 'Marshall Strabala'), ('workLabel', 'Burj Khalifa'), ('typebuildingLabel', 'single-family detached home'), ('architectural_styleLabel', 'Colonial Revival architecture')]\n",
      "[('americanarLabel', 'Marshall Strabala'), ('workLabel', 'Burj Khalifa'), ('typebuildingLabel', 'single-family detached home'), ('architectural_styleLabel', 'vernacular architecture')]\n",
      "[('americanarLabel', 'Marshall Strabala'), ('workLabel', 'Burj Khalifa'), ('typebuildingLabel', 'single-family detached home'), ('architectural_styleLabel', 'Art Deco')]\n",
      "[('americanarLabel', 'Marshall Strabala'), ('workLabel', 'Burj Khalifa'), ('typebuildingLabel', 'English country house'), ('architectural_styleLabel', 'Italianate architecture')]\n",
      "[('americanarLabel', 'Marshall Strabala'), ('workLabel', 'Burj Khalifa'), ('typebuildingLabel', 'English country house'), ('architectural_styleLabel', 'Gothic Revival')]\n",
      "[('americanarLabel', 'Marshall Strabala'), ('workLabel', 'Burj Khalifa'), ('typebuildingLabel', 'English country house'), ('architectural_styleLabel', 'Greek Revival architecture')]\n",
      "[('americanarLabel', 'Marshall Strabala'), ('workLabel', 'Burj Khalifa'), ('typebuildingLabel', 'English country house'), ('architectural_styleLabel', 'historicist architecture')]\n",
      "[('americanarLabel', 'Marshall Strabala'), ('workLabel', 'Burj Khalifa'), ('typebuildingLabel', 'research library'), ('architectural_styleLabel', 'Hellenistic architecture')]\n",
      "[('americanarLabel', 'Marshall Strabala'), ('workLabel', 'Burj Khalifa'), ('typebuildingLabel', 'kunsthalle'), ('architectural_styleLabel', 'modernism')]\n",
      "[('americanarLabel', 'Marshall Strabala'), ('workLabel', 'Burj Khalifa'), ('typebuildingLabel', 'greenhouse'), ('architectural_styleLabel', 'high-tech architecture')]\n",
      "[('americanarLabel', 'Marshall Strabala'), ('workLabel', 'Burj Khalifa'), ('typebuildingLabel', 'casino'), ('architectural_styleLabel', 'Baroque Revival architecture')]\n",
      "[('americanarLabel', 'Marshall Strabala'), ('workLabel', 'Burj Khalifa'), ('typebuildingLabel', 'drinking fountain'), ('architectural_styleLabel', 'Gothic Revival')]\n",
      "[('americanarLabel', 'Marshall Strabala'), ('workLabel', 'Burj Khalifa'), ('typebuildingLabel', 'Main Hall'), ('architectural_styleLabel', 'Wayō')]\n",
      "[('americanarLabel', 'Marshall Strabala'), ('workLabel', 'Burj Khalifa'), ('typebuildingLabel', 'birth house'), ('architectural_styleLabel', 'Biedermeier')]\n",
      "[('americanarLabel', 'Marshall Strabala'), ('workLabel', 'Burj Khalifa'), ('typebuildingLabel', 'capitol building'), ('architectural_styleLabel', 'Neoclassical architecture')]\n",
      "[('americanarLabel', 'Marshall Strabala'), ('workLabel', 'Burj Khalifa'), ('typebuildingLabel', 'workshop'), ('architectural_styleLabel', 'Renaissance Revival architecture')]\n"
     ]
    },
    {
     "data": {
      "text/plain": [
       "40"
      ]
     },
     "execution_count": 33,
     "metadata": {},
     "output_type": "execute_result"
    }
   ],
   "source": [
    "\n",
    "queryString = \"\"\"\n",
    "\n",
    "    SELECT DISTINCT ?americanarLabel ?workLabel ?typebuildingLabel ?architectural_styleLabel WHERE{\n",
    "      ?americanar wdt:P27 wd:Q30  . \n",
    "      ?americanar wdt:P106 wd:Q42973 .\n",
    "      ?work wdt:P84 ?americanar .\n",
    "                  \n",
    "      # here we have to add something for gaining the arts \n",
    "      ?art wdt:P31 ?typebuilding ;\n",
    "                  wdt:P149 ?architectural_style .    \n",
    "                  \n",
    "    ## labels\n",
    "         ?americanar <http://schema.org/name> ?americanarLabel .\n",
    "         ?work  <http://schema.org/name> ?workLabel .\n",
    "         ?typebuilding  <http://schema.org/name> ?typebuildingLabel . \n",
    "         ?architectural_style <http://schema.org/name> ?architectural_styleLabel\n",
    "    }\n",
    "    LIMIT 40\n",
    "    \n",
    "\"\"\"\n",
    "\n",
    "print(\"Results\")\n",
    "run_query(queryString)"
   ]
  },
  {
   "cell_type": "code",
   "execution_count": 34,
   "id": "9c14c32e-21b9-4c73-8652-1ed4abd5f82b",
   "metadata": {},
   "outputs": [
    {
     "name": "stdout",
     "output_type": "stream",
     "text": [
      "Results\n",
      "[('fallingwater', 'http://www.wikidata.org/prop/direct/P31'), ('fallingwaterLabel', 'instance of'), ('o', 'http://www.wikidata.org/entity/Q1307276'), ('oLabel', 'single-family detached home')]\n",
      "[('fallingwater', 'http://www.wikidata.org/prop/direct/P149'), ('fallingwaterLabel', 'architectural style'), ('o', 'http://www.wikidata.org/entity/Q245188'), ('oLabel', 'modern architecture')]\n",
      "[('fallingwater', 'http://www.wikidata.org/prop/direct/P463'), ('fallingwaterLabel', 'member of'), ('o', 'http://www.wikidata.org/entity/Q55065239'), ('oLabel', 'Iconic Houses Network')]\n",
      "[('fallingwater', 'http://www.wikidata.org/prop/direct/P1435'), ('fallingwaterLabel', 'heritage designation'), ('o', 'http://www.wikidata.org/entity/Q1459900'), ('oLabel', 'Tentative World Heritage Site')]\n",
      "[('fallingwater', 'http://www.wikidata.org/prop/direct/P17'), ('fallingwaterLabel', 'country'), ('o', 'http://www.wikidata.org/entity/Q30'), ('oLabel', 'United States of America')]\n",
      "[('fallingwater', 'http://www.wikidata.org/prop/direct/P1435'), ('fallingwaterLabel', 'heritage designation'), ('o', 'http://www.wikidata.org/entity/Q43113623'), ('oLabel', 'part of UNESCO World Heritage Site')]\n",
      "[('fallingwater', 'http://www.wikidata.org/prop/direct/P1435'), ('fallingwaterLabel', 'heritage designation'), ('o', 'http://www.wikidata.org/entity/Q19558910'), ('oLabel', 'National Register of Historic Places listed place')]\n",
      "[('fallingwater', 'http://www.wikidata.org/prop/direct/P84'), ('fallingwaterLabel', 'architect'), ('o', 'http://www.wikidata.org/entity/Q5604'), ('oLabel', 'Frank Lloyd Wright')]\n",
      "[('fallingwater', 'http://www.wikidata.org/prop/direct/P361'), ('fallingwaterLabel', 'part of'), ('o', 'http://www.wikidata.org/entity/Q65051038'), ('oLabel', 'The 20th-Century Architecture of Frank Lloyd Wright')]\n",
      "[('fallingwater', 'http://www.wikidata.org/prop/direct/P138'), ('fallingwaterLabel', 'named after'), ('o', 'http://www.wikidata.org/entity/Q34038'), ('oLabel', 'waterfall')]\n",
      "[('fallingwater', 'http://www.wikidata.org/prop/direct/P1435'), ('fallingwaterLabel', 'heritage designation'), ('o', 'http://www.wikidata.org/entity/Q624232'), ('oLabel', 'National Historic Landmark')]\n",
      "[('fallingwater', 'http://www.wikidata.org/prop/direct/P7561'), ('fallingwaterLabel', 'category for the interior of the item'), ('o', 'http://www.wikidata.org/entity/Q75116151'), ('oLabel', 'Category:Interior of Fallingwater')]\n",
      "[('fallingwater', 'http://www.wikidata.org/prop/direct/P131'), ('fallingwaterLabel', 'located in the administrative territorial entity'), ('o', 'http://www.wikidata.org/entity/Q1896250'), ('oLabel', 'Stewart Township')]\n",
      "[('fallingwater', 'http://www.wikidata.org/prop/direct/P8596'), ('fallingwaterLabel', 'category for the exterior of the item'), ('o', 'http://www.wikidata.org/entity/Q104548239'), ('oLabel', 'Category:Exterior of Fallingwater')]\n"
     ]
    },
    {
     "data": {
      "text/plain": [
       "14"
      ]
     },
     "execution_count": 34,
     "metadata": {},
     "output_type": "execute_result"
    }
   ],
   "source": [
    "# architectural style\n",
    "queryString = \"\"\"\n",
    "    SELECT ?fallingwater ?fallingwaterLabel ?o ?oLabel\n",
    "    WHERE { \n",
    "        wd:Q463179 ?fallingwater ?o .\n",
    "        \n",
    "    ## labels\n",
    "         ?fallingwater <http://schema.org/name> ?fallingwaterLabel .\n",
    "         ?o <http://schema.org/name> ?oLabel .\n",
    "    } \n",
    "    LIMIT 100\n",
    "\n",
    "\n",
    "\"\"\"\n",
    "\n",
    "print(\"Results\")\n",
    "run_query(queryString)\n"
   ]
  },
  {
   "cell_type": "code",
   "execution_count": 35,
   "id": "22df74f0-bf44-4ef8-8e2c-7824097cd97a",
   "metadata": {},
   "outputs": [
    {
     "name": "stdout",
     "output_type": "stream",
     "text": [
      "Results\n",
      "[('fallingwater', 'http://www.wikidata.org/prop/direct/P131'), ('fallingwaterLabel', 'located in the administrative territorial entity'), ('o', 'http://www.wikidata.org/entity/Q1896250'), ('oLabel', 'Stewart Township'), ('style', 'http://www.wikidata.org/entity/Q245188'), ('styleLabel', 'modern architecture')]\n",
      "[('fallingwater', 'http://www.wikidata.org/prop/direct/P138'), ('fallingwaterLabel', 'named after'), ('o', 'http://www.wikidata.org/entity/Q34038'), ('oLabel', 'waterfall'), ('style', 'http://www.wikidata.org/entity/Q245188'), ('styleLabel', 'modern architecture')]\n",
      "[('fallingwater', 'http://www.wikidata.org/prop/direct/P1435'), ('fallingwaterLabel', 'heritage designation'), ('o', 'http://www.wikidata.org/entity/Q43113623'), ('oLabel', 'part of UNESCO World Heritage Site'), ('style', 'http://www.wikidata.org/entity/Q245188'), ('styleLabel', 'modern architecture')]\n",
      "[('fallingwater', 'http://www.wikidata.org/prop/direct/P1435'), ('fallingwaterLabel', 'heritage designation'), ('o', 'http://www.wikidata.org/entity/Q624232'), ('oLabel', 'National Historic Landmark'), ('style', 'http://www.wikidata.org/entity/Q245188'), ('styleLabel', 'modern architecture')]\n",
      "[('fallingwater', 'http://www.wikidata.org/prop/direct/P1435'), ('fallingwaterLabel', 'heritage designation'), ('o', 'http://www.wikidata.org/entity/Q1459900'), ('oLabel', 'Tentative World Heritage Site'), ('style', 'http://www.wikidata.org/entity/Q245188'), ('styleLabel', 'modern architecture')]\n",
      "[('fallingwater', 'http://www.wikidata.org/prop/direct/P1435'), ('fallingwaterLabel', 'heritage designation'), ('o', 'http://www.wikidata.org/entity/Q19558910'), ('oLabel', 'National Register of Historic Places listed place'), ('style', 'http://www.wikidata.org/entity/Q245188'), ('styleLabel', 'modern architecture')]\n",
      "[('fallingwater', 'http://www.wikidata.org/prop/direct/P149'), ('fallingwaterLabel', 'architectural style'), ('o', 'http://www.wikidata.org/entity/Q245188'), ('oLabel', 'modern architecture'), ('style', 'http://www.wikidata.org/entity/Q245188'), ('styleLabel', 'modern architecture')]\n",
      "[('fallingwater', 'http://www.wikidata.org/prop/direct/P17'), ('fallingwaterLabel', 'country'), ('o', 'http://www.wikidata.org/entity/Q30'), ('oLabel', 'United States of America'), ('style', 'http://www.wikidata.org/entity/Q245188'), ('styleLabel', 'modern architecture')]\n",
      "[('fallingwater', 'http://www.wikidata.org/prop/direct/P31'), ('fallingwaterLabel', 'instance of'), ('o', 'http://www.wikidata.org/entity/Q1307276'), ('oLabel', 'single-family detached home'), ('style', 'http://www.wikidata.org/entity/Q245188'), ('styleLabel', 'modern architecture')]\n",
      "[('fallingwater', 'http://www.wikidata.org/prop/direct/P361'), ('fallingwaterLabel', 'part of'), ('o', 'http://www.wikidata.org/entity/Q65051038'), ('oLabel', 'The 20th-Century Architecture of Frank Lloyd Wright'), ('style', 'http://www.wikidata.org/entity/Q245188'), ('styleLabel', 'modern architecture')]\n",
      "[('fallingwater', 'http://www.wikidata.org/prop/direct/P463'), ('fallingwaterLabel', 'member of'), ('o', 'http://www.wikidata.org/entity/Q55065239'), ('oLabel', 'Iconic Houses Network'), ('style', 'http://www.wikidata.org/entity/Q245188'), ('styleLabel', 'modern architecture')]\n",
      "[('fallingwater', 'http://www.wikidata.org/prop/direct/P7561'), ('fallingwaterLabel', 'category for the interior of the item'), ('o', 'http://www.wikidata.org/entity/Q75116151'), ('oLabel', 'Category:Interior of Fallingwater'), ('style', 'http://www.wikidata.org/entity/Q245188'), ('styleLabel', 'modern architecture')]\n",
      "[('fallingwater', 'http://www.wikidata.org/prop/direct/P84'), ('fallingwaterLabel', 'architect'), ('o', 'http://www.wikidata.org/entity/Q5604'), ('oLabel', 'Frank Lloyd Wright'), ('style', 'http://www.wikidata.org/entity/Q245188'), ('styleLabel', 'modern architecture')]\n",
      "[('fallingwater', 'http://www.wikidata.org/prop/direct/P8596'), ('fallingwaterLabel', 'category for the exterior of the item'), ('o', 'http://www.wikidata.org/entity/Q104548239'), ('oLabel', 'Category:Exterior of Fallingwater'), ('style', 'http://www.wikidata.org/entity/Q245188'), ('styleLabel', 'modern architecture')]\n"
     ]
    },
    {
     "data": {
      "text/plain": [
       "14"
      ]
     },
     "execution_count": 35,
     "metadata": {},
     "output_type": "execute_result"
    }
   ],
   "source": [
    "# architectural style\n",
    "\n",
    "queryString = \"\"\"\n",
    "\n",
    "    SELECT ?fallingwater ?fallingwaterLabel ?o ?oLabel ?style ?styleLabel\n",
    "    WHERE { \n",
    "        wd:Q463179 ?fallingwater ?o .\n",
    "        wd:Q463179 wdt:P149 ?style .\n",
    "        \n",
    "     ## labels\n",
    "     ?fallingwater <http://schema.org/name> ?fallingwaterLabel .\n",
    "     ?o <http://schema.org/name> ?oLabel .\n",
    "     ?style <http://schema.org/name> ?styleLabel   \n",
    "    } \n",
    "    LIMIT 100\n",
    "\"\"\"\n",
    "\n",
    "print(\"Results\")\n",
    "run_query(queryString)"
   ]
  },
  {
   "cell_type": "code",
   "execution_count": 36,
   "id": "8464bb2e-eaa8-4bdf-a9ff-262eaa34794a",
   "metadata": {},
   "outputs": [
    {
     "name": "stdout",
     "output_type": "stream",
     "text": [
      "Results\n",
      "[('style', 'http://www.wikidata.org/entity/Q245188'), ('styleLabel', 'modern architecture')]\n"
     ]
    },
    {
     "data": {
      "text/plain": [
       "1"
      ]
     },
     "execution_count": 36,
     "metadata": {},
     "output_type": "execute_result"
    }
   ],
   "source": [
    "# architectural style\n",
    "\n",
    "queryString = \"\"\"\n",
    "\n",
    "    SELECT DISTINCT ?style ?styleLabel\n",
    "    WHERE { \n",
    "        wd:Q463179 ?fallingwater ?o .\n",
    "        wd:Q463179 wdt:P149 ?style .\n",
    "        \n",
    "        ## labels\n",
    "        ?fallingwater <http://schema.org/name> ?fallingwaterLabel .\n",
    "        ?o <http://schema.org/name> ?oLabel .\n",
    "        ?style <http://schema.org/name> ?styleLabel   \n",
    "\n",
    "    } \n",
    "    LIMIT 200\n",
    "\"\"\"\n",
    "\n",
    "print(\"Results\")\n",
    "run_query(queryString)\n"
   ]
  },
  {
   "cell_type": "code",
   "execution_count": 37,
   "id": "58a48fa1-21bc-40fd-ae9c-467881dbef0d",
   "metadata": {},
   "outputs": [
    {
     "name": "stdout",
     "output_type": "stream",
     "text": [
      "Results\n",
      "[('s', 'http://www.wikidata.org/prop/direct/P84'), ('o', 'http://www.wikidata.org/entity/Q5604'), ('oLabel', 'Frank Lloyd Wright')]\n",
      "[('s', 'http://www.wikidata.org/prop/direct/P84'), ('o', 'http://www.wikidata.org/entity/Q5604'), ('oLabel', 'Frank Lloyd Wright')]\n",
      "[('s', 'http://www.wikidata.org/prop/direct/P84'), ('o', 'http://www.wikidata.org/entity/Q5604'), ('oLabel', 'Frank Lloyd Wright')]\n",
      "[('s', 'http://www.wikidata.org/prop/direct/P84'), ('o', 'http://www.wikidata.org/entity/Q5604'), ('oLabel', 'Frank Lloyd Wright')]\n",
      "[('s', 'http://www.wikidata.org/prop/direct/P84'), ('o', 'http://www.wikidata.org/entity/Q5604'), ('oLabel', 'Frank Lloyd Wright')]\n",
      "[('s', 'http://www.wikidata.org/prop/direct/P84'), ('o', 'http://www.wikidata.org/entity/Q5604'), ('oLabel', 'Frank Lloyd Wright')]\n",
      "[('s', 'http://www.wikidata.org/prop/direct/P84'), ('o', 'http://www.wikidata.org/entity/Q5604'), ('oLabel', 'Frank Lloyd Wright')]\n",
      "[('s', 'http://www.wikidata.org/prop/direct/P84'), ('o', 'http://www.wikidata.org/entity/Q5604'), ('oLabel', 'Frank Lloyd Wright')]\n",
      "[('s', 'http://www.wikidata.org/prop/direct/P84'), ('o', 'http://www.wikidata.org/entity/Q5604'), ('oLabel', 'Frank Lloyd Wright')]\n",
      "[('s', 'http://www.wikidata.org/prop/direct/P84'), ('o', 'http://www.wikidata.org/entity/Q5604'), ('oLabel', 'Frank Lloyd Wright')]\n",
      "[('s', 'http://www.wikidata.org/prop/direct/P84'), ('o', 'http://www.wikidata.org/entity/Q5604'), ('oLabel', 'Frank Lloyd Wright')]\n",
      "[('s', 'http://www.wikidata.org/prop/direct/P84'), ('o', 'http://www.wikidata.org/entity/Q5604'), ('oLabel', 'Frank Lloyd Wright')]\n",
      "[('s', 'http://www.wikidata.org/prop/direct/P84'), ('o', 'http://www.wikidata.org/entity/Q5604'), ('oLabel', 'Frank Lloyd Wright')]\n",
      "[('s', 'http://www.wikidata.org/prop/direct/P84'), ('o', 'http://www.wikidata.org/entity/Q5604'), ('oLabel', 'Frank Lloyd Wright')]\n",
      "[('s', 'http://www.wikidata.org/prop/direct/P84'), ('o', 'http://www.wikidata.org/entity/Q5604'), ('oLabel', 'Frank Lloyd Wright')]\n",
      "[('s', 'http://www.wikidata.org/prop/direct/P84'), ('o', 'http://www.wikidata.org/entity/Q5604'), ('oLabel', 'Frank Lloyd Wright')]\n",
      "[('s', 'http://www.wikidata.org/prop/direct/P84'), ('o', 'http://www.wikidata.org/entity/Q5604'), ('oLabel', 'Frank Lloyd Wright')]\n",
      "[('s', 'http://www.wikidata.org/prop/direct/P84'), ('o', 'http://www.wikidata.org/entity/Q5604'), ('oLabel', 'Frank Lloyd Wright')]\n",
      "[('s', 'http://www.wikidata.org/prop/direct/P84'), ('o', 'http://www.wikidata.org/entity/Q5604'), ('oLabel', 'Frank Lloyd Wright')]\n",
      "[('s', 'http://www.wikidata.org/prop/direct/P84'), ('o', 'http://www.wikidata.org/entity/Q5604'), ('oLabel', 'Frank Lloyd Wright')]\n",
      "[('s', 'http://www.wikidata.org/prop/direct/P84'), ('o', 'http://www.wikidata.org/entity/Q5604'), ('oLabel', 'Frank Lloyd Wright')]\n",
      "[('s', 'http://www.wikidata.org/prop/direct/P84'), ('o', 'http://www.wikidata.org/entity/Q5604'), ('oLabel', 'Frank Lloyd Wright')]\n",
      "[('s', 'http://www.wikidata.org/prop/direct/P84'), ('o', 'http://www.wikidata.org/entity/Q5604'), ('oLabel', 'Frank Lloyd Wright')]\n",
      "[('s', 'http://www.wikidata.org/prop/direct/P84'), ('o', 'http://www.wikidata.org/entity/Q5604'), ('oLabel', 'Frank Lloyd Wright')]\n",
      "[('s', 'http://www.wikidata.org/prop/direct/P84'), ('o', 'http://www.wikidata.org/entity/Q5604'), ('oLabel', 'Frank Lloyd Wright')]\n"
     ]
    },
    {
     "data": {
      "text/plain": [
       "25"
      ]
     },
     "execution_count": 37,
     "metadata": {},
     "output_type": "execute_result"
    }
   ],
   "source": [
    "# type of the architecture \n",
    "#### finding the type\n",
    "\n",
    "queryString = \"\"\"\n",
    "\n",
    "    SELECT ?s ?sLabel ?o ?oLabel\n",
    "    WHERE { \n",
    "        wd:Q463179 ?s ?o .\n",
    "         ## labels\n",
    "         ?p <http://schema.org/name> ?pLabel .\n",
    "         ?o <http://schema.org/name> ?oLabel .\n",
    "\n",
    "    } \n",
    "    LIMIT 25\n",
    "    \n",
    "\n",
    "\"\"\"\n",
    "\n",
    "print(\"Results\")\n",
    "run_query(queryString)\n",
    "# wdt:P31\thttp://www.wikidata.org/prop/direct/P31\t wd:Q1307276\tsingle-family detached home"
   ]
  },
  {
   "cell_type": "code",
   "execution_count": 38,
   "id": "b1c8b3e4-9063-4edf-b8de-f6d9442a6c05",
   "metadata": {},
   "outputs": [
    {
     "name": "stdout",
     "output_type": "stream",
     "text": [
      "Results\n",
      "[('nameofbuilding', 'http://www.wikidata.org/entity/P348'), ('nameofbuildingLabel', 'software version identifier'), ('typebuilding', 'http://www.wikidata.org/entity/Q1307276'), ('typebuildingLabel', 'single-family detached home')]\n",
      "[('nameofbuilding', 'http://www.wikidata.org/entity/P4669'), ('nameofbuildingLabel', 'tabular software version'), ('typebuilding', 'http://www.wikidata.org/entity/Q1307276'), ('typebuildingLabel', 'single-family detached home')]\n",
      "[('nameofbuilding', 'http://www.wikidata.org/entity/P747'), ('nameofbuildingLabel', 'has edition or translation'), ('typebuilding', 'http://www.wikidata.org/entity/Q1307276'), ('typebuildingLabel', 'single-family detached home')]\n",
      "[('nameofbuilding', 'http://www.wikidata.org/entity/Q1002728'), ('nameofbuildingLabel', 'Fonsi Nieto'), ('typebuilding', 'http://www.wikidata.org/entity/Q1307276'), ('typebuildingLabel', 'single-family detached home')]\n",
      "[('nameofbuilding', 'http://www.wikidata.org/entity/Q100326534'), ('nameofbuildingLabel', \"Al Stewart's albums in chronological order\"), ('typebuilding', 'http://www.wikidata.org/entity/Q1307276'), ('typebuildingLabel', 'single-family detached home')]\n",
      "[('nameofbuilding', 'http://www.wikidata.org/entity/Q100327667'), ('nameofbuildingLabel', 'Category:Adelina Lopes Vieira'), ('typebuilding', 'http://www.wikidata.org/entity/Q1307276'), ('typebuildingLabel', 'single-family detached home')]\n",
      "[('nameofbuilding', 'http://www.wikidata.org/entity/Q100343342'), ('nameofbuildingLabel', 'Lubomír Stoklásek'), ('typebuilding', 'http://www.wikidata.org/entity/Q1307276'), ('typebuildingLabel', 'single-family detached home')]\n",
      "[('nameofbuilding', 'http://www.wikidata.org/entity/Q1007576'), ('nameofbuildingLabel', 'Ciudad Vieja'), ('typebuilding', 'http://www.wikidata.org/entity/Q1307276'), ('typebuildingLabel', 'single-family detached home')]\n",
      "[('nameofbuilding', 'http://www.wikidata.org/entity/Q100879156'), ('nameofbuildingLabel', 'Echániz'), ('typebuilding', 'http://www.wikidata.org/entity/Q1307276'), ('typebuildingLabel', 'single-family detached home')]\n",
      "[('nameofbuilding', 'http://www.wikidata.org/entity/Q10100'), ('nameofbuildingLabel', 'Natuna'), ('typebuilding', 'http://www.wikidata.org/entity/Q1307276'), ('typebuildingLabel', 'single-family detached home')]\n"
     ]
    },
    {
     "data": {
      "text/plain": [
       "10"
      ]
     },
     "execution_count": 38,
     "metadata": {},
     "output_type": "execute_result"
    }
   ],
   "source": [
    "#### finding the type and name of the building\n",
    "\n",
    "queryString = \"\"\"\n",
    "\n",
    "    SELECT DISTINCT ?nameofbuilding ?nameofbuildingLabel ?typebuilding ?typebuildingLabel\n",
    "    WHERE { \n",
    "        \n",
    "        wd:Q463179 ?s ?o .\n",
    "        wd:Q463179 wdt:P31 ?typebuilding .\n",
    "        \n",
    "            ## labels\n",
    "     ?nameofbuilding <http://schema.org/name> ?nameofbuildingLabel .\n",
    "     ?typebuilding <http://schema.org/name> ?typebuildingLabel .\n",
    "\n",
    "    } \n",
    "    LIMIT 10\n",
    "    \n",
    "\"\"\"\n",
    "\n",
    "print(\"Results\")\n",
    "run_query(queryString)\n",
    "\n",
    "\n"
   ]
  },
  {
   "cell_type": "code",
   "execution_count": 39,
   "id": "738d8995-febf-4b7a-b2c3-b2d03c34c240",
   "metadata": {},
   "outputs": [
    {
     "name": "stdout",
     "output_type": "stream",
     "text": [
      "Results\n",
      "[('typebuildingLabel', 'single-family detached home'), ('style', 'http://www.wikidata.org/entity/Q245188'), ('styleLabel', 'modern architecture')]\n"
     ]
    },
    {
     "data": {
      "text/plain": [
       "1"
      ]
     },
     "execution_count": 39,
     "metadata": {},
     "output_type": "execute_result"
    }
   ],
   "source": [
    "#### finding the type # architectural style\n",
    "queryString = \"\"\"\n",
    "\n",
    "    SELECT DISTINCT ?typebuildingLabel ?style ?styleLabel\n",
    "    WHERE { \n",
    "        wd:Q463179 wdt:P149 ?style .\n",
    "        wd:Q463179 ?s ?o .\n",
    "        wd:Q463179 wdt:P31 ?typebuilding .\n",
    "\n",
    "        ## labels\n",
    "     \n",
    "        ?typebuilding <http://schema.org/name> ?typebuildingLabel .\n",
    "        ?style <http://schema.org/name> ?styleLabel .\n",
    "\n",
    "    } \n",
    "    LIMIT 10\n",
    "\n",
    "\"\"\"\n",
    "\n",
    "print(\"Results\")\n",
    "run_query(queryString)"
   ]
  },
  {
   "cell_type": "code",
   "execution_count": 40,
   "id": "f98d5944-fe4d-498e-903f-f73ac58eb0af",
   "metadata": {},
   "outputs": [
    {
     "name": "stdout",
     "output_type": "stream",
     "text": [
      "Results\n",
      "[('americanarLabel', 'David Adler'), ('workLabel', 'Mrs. Isaac D. Adler House'), ('typebuildingLabel', 'single-family detached home')]\n",
      "[('americanarLabel', 'C. Howard Crane'), ('workLabel', 'World Theater'), ('typebuildingLabel', 'theatre')]\n",
      "[('americanarLabel', 'C. Howard Crane'), ('workLabel', 'World Theater'), ('typebuildingLabel', 'movie theater')]\n",
      "[('americanarLabel', 'C. Howard Crane'), ('workLabel', 'World Theater'), ('typebuildingLabel', 'destroyed building or structure')]\n",
      "[('americanarLabel', 'Charles E. Choate'), ('workLabel', 'Tennille Banking Company Building'), ('typebuildingLabel', 'commercial building')]\n",
      "[('americanarLabel', 'George I. Barnett'), ('workLabel', 'Samuel Moody Grubbs House'), ('typebuildingLabel', 'single-family detached home')]\n",
      "[('americanarLabel', 'Henry Franklin Kilburn'), ('workLabel', 'Pabst Hotel'), ('typebuildingLabel', 'hotel')]\n",
      "[('americanarLabel', 'Matthew Del Gaudio'), ('workLabel', 'Our Lady of Pompeii Church'), ('typebuildingLabel', 'national parish')]\n",
      "[('americanarLabel', 'Matthew Del Gaudio'), ('workLabel', 'Our Lady of Pompeii Church'), ('typebuildingLabel', 'shrine')]\n",
      "[('americanarLabel', 'Matthew Del Gaudio'), ('workLabel', 'Our Lady of Pompeii Church'), ('typebuildingLabel', 'parish church')]\n",
      "[('americanarLabel', 'Matthew Del Gaudio'), ('workLabel', 'Our Lady of Pompeii Church'), ('typebuildingLabel', 'Catholic church building')]\n",
      "[('americanarLabel', 'Sheperd S. Woodcock'), ('workLabel', 'First Baptist Church of Scituate'), ('typebuildingLabel', 'church building')]\n",
      "[('americanarLabel', 'Ivey P. Crutchfield'), ('workLabel', 'Peterson-Wilbanks House'), ('typebuildingLabel', 'single-family detached home')]\n",
      "[('americanarLabel', 'C. Howard Crane'), ('workLabel', 'Earls Court Exhibition Centre'), ('typebuildingLabel', 'sports venue')]\n",
      "[('americanarLabel', 'C. Howard Crane'), ('workLabel', 'Earls Court Exhibition Centre'), ('typebuildingLabel', 'music venue')]\n",
      "[('americanarLabel', 'C. Howard Crane'), ('workLabel', 'Earls Court Exhibition Centre'), ('typebuildingLabel', 'convention center')]\n",
      "[('americanarLabel', 'Marshall Strabala'), ('workLabel', 'Burj Khalifa'), ('typebuildingLabel', 'tourist attraction')]\n",
      "[('americanarLabel', 'Marshall Strabala'), ('workLabel', 'Burj Khalifa'), ('typebuildingLabel', 'skyscraper')]\n",
      "[('americanarLabel', 'Marshall Strabala'), ('workLabel', 'Burj Khalifa'), ('typebuildingLabel', 'landmark')]\n",
      "[('americanarLabel', 'C. Howard Crane'), ('workLabel', 'August Wilson Theatre'), ('typebuildingLabel', 'theatre')]\n",
      "[('americanarLabel', 'C. Howard Crane'), ('workLabel', 'Metropolitan Theatre'), ('typebuildingLabel', 'movie theater')]\n",
      "[('americanarLabel', 'C. Howard Crane'), ('workLabel', 'Metropolitan Theatre'), ('typebuildingLabel', 'movie palace')]\n",
      "[('americanarLabel', 'Theodate Pope Riddle'), ('workLabel', 'Theodore Roosevelt Birthplace National Historic Site'), ('typebuildingLabel', 'historic building')]\n",
      "[('americanarLabel', 'Theodate Pope Riddle'), ('workLabel', 'Theodore Roosevelt Birthplace National Historic Site'), ('typebuildingLabel', 'National Historic Site')]\n",
      "[('americanarLabel', 'Frederick L. Ackerman'), ('workLabel', 'Roulette Intermedium'), ('typebuildingLabel', 'theatre')]\n",
      "[('americanarLabel', 'Frederick L. Ackerman'), ('workLabel', 'Roulette Intermedium'), ('typebuildingLabel', 'not-for-profit arts organization')]\n",
      "[('americanarLabel', 'Theodate Pope Riddle'), ('workLabel', 'Hill-Stead Museum'), ('typebuildingLabel', 'house')]\n",
      "[('americanarLabel', 'Theodate Pope Riddle'), ('workLabel', 'Hill-Stead Museum'), ('typebuildingLabel', 'art museum')]\n",
      "[('americanarLabel', 'John Mead Howells'), ('workLabel', 'Daily News Building'), ('typebuildingLabel', 'skyscraper')]\n",
      "[('americanarLabel', 'Mott B. Schmidt'), ('workLabel', '1088 Park Avenue'), ('typebuildingLabel', 'apartment building')]\n",
      "[('americanarLabel', 'Mott B. Schmidt'), ('workLabel', 'Emily Trevor House'), ('typebuildingLabel', 'townhouse')]\n",
      "[('americanarLabel', 'Richard Lewis Blinder'), ('workLabel', 'Lyric Theatre'), ('typebuildingLabel', 'theatre')]\n",
      "[('americanarLabel', 'Gilmore David Clarke'), ('workLabel', 'Unisphere'), ('typebuildingLabel', 'sculpture')]\n",
      "[('americanarLabel', 'Gilmore David Clarke'), ('workLabel', 'Unisphere'), ('typebuildingLabel', 'fountain')]\n",
      "[('americanarLabel', 'Gilmore David Clarke'), ('workLabel', 'Unisphere'), ('typebuildingLabel', 'globe')]\n",
      "[('americanarLabel', 'Walter T. Downing'), ('workLabel', 'Basilica of the Sacred Heart of Jesus'), ('typebuildingLabel', 'church building')]\n",
      "[('americanarLabel', 'Walter T. Downing'), ('workLabel', 'Basilica of the Sacred Heart of Jesus'), ('typebuildingLabel', 'minor basilica')]\n",
      "[('americanarLabel', 'Roscoe DeWitt'), ('workLabel', 'Ownby Stadium'), ('typebuildingLabel', 'stadium')]\n",
      "[('americanarLabel', 'William H. McElfatrick'), ('workLabel', 'The Met'), ('typebuildingLabel', 'concert hall')]\n",
      "[('americanarLabel', 'William H. McElfatrick'), ('workLabel', 'The Met'), ('typebuildingLabel', 'movie theater')]\n",
      "[('americanarLabel', 'William H. McElfatrick'), ('workLabel', 'The Met'), ('typebuildingLabel', 'opera house')]\n",
      "[('americanarLabel', 'George I. Barnett'), ('workLabel', 'Lindell Hotel'), ('typebuildingLabel', 'hotel')]\n",
      "[('americanarLabel', 'Jefferson Coburn'), ('workLabel', 'First McGillicuddy Block'), ('typebuildingLabel', 'commercial building')]\n",
      "[('americanarLabel', 'John Mead Howells'), ('workLabel', 'Tribune Tower'), ('typebuildingLabel', 'skyscraper')]\n",
      "[('americanarLabel', 'C. Howard Crane'), ('workLabel', 'Music Box Theatre'), ('typebuildingLabel', 'theatre')]\n",
      "[('americanarLabel', 'George I. Barnett'), ('workLabel', 'Statue of Christopher Columbus'), ('typebuildingLabel', 'statue')]\n",
      "[('americanarLabel', 'C. Howard Crane'), ('workLabel', 'Majestic Theatre'), ('typebuildingLabel', 'theatre')]\n",
      "[('americanarLabel', 'C. Howard Crane'), ('workLabel', 'Majestic Theatre'), ('typebuildingLabel', 'music venue')]\n",
      "[('americanarLabel', 'C. Howard Crane'), ('workLabel', 'Majestic Theatre'), ('typebuildingLabel', 'movie theater')]\n",
      "[('americanarLabel', 'C. Howard Crane'), ('workLabel', 'Helen Lab Theatre'), ('typebuildingLabel', 'theatre')]\n",
      "[('americanarLabel', 'C. Howard Crane'), ('workLabel', 'Helen Lab Theatre'), ('typebuildingLabel', 'movie theater')]\n",
      "[('americanarLabel', 'C. Howard Crane'), ('workLabel', 'Warner Theatre'), ('typebuildingLabel', 'theatre')]\n",
      "[('americanarLabel', 'C. Howard Crane'), ('workLabel', 'Warner Theatre'), ('typebuildingLabel', 'movie theater')]\n",
      "[('americanarLabel', 'C. Howard Crane'), ('workLabel', 'Detroit Olympia'), ('typebuildingLabel', 'arena')]\n",
      "[('americanarLabel', 'George I. Barnett'), ('workLabel', \"Missouri Governor's Mansion\"), ('typebuildingLabel', 'building')]\n",
      "[('americanarLabel', 'C. Howard Crane'), ('workLabel', 'Allen Theatre'), ('typebuildingLabel', 'theatre')]\n",
      "[('americanarLabel', 'C. Howard Crane'), ('workLabel', 'Allen Theatre'), ('typebuildingLabel', 'movie theater')]\n",
      "[('americanarLabel', 'Walter T. Downing'), ('workLabel', 'Wimbish House'), ('typebuildingLabel', 'clubhouse')]\n",
      "[('americanarLabel', 'Henry Monheim'), ('workLabel', 'Emanuel Kahn House'), ('typebuildingLabel', 'single-family detached home')]\n",
      "[('americanarLabel', 'C. Howard Crane'), ('workLabel', 'Emerald Theatre'), ('typebuildingLabel', 'theatre')]\n",
      "[('americanarLabel', 'C. Howard Crane'), ('workLabel', 'Emerald Theatre'), ('typebuildingLabel', 'performing arts center')]\n",
      "[('americanarLabel', 'C. Howard Crane'), ('workLabel', 'Emerald Theatre'), ('typebuildingLabel', 'movie theater')]\n",
      "[('americanarLabel', 'Sheperd S. Woodcock'), ('workLabel', 'Grace United Methodist Church'), ('typebuildingLabel', 'Protestant church building')]\n",
      "[('americanarLabel', 'Ivey P. Crutchfield'), ('workLabel', 'Leader–Rosansky House'), ('typebuildingLabel', 'single-family detached home')]\n",
      "[('americanarLabel', 'Charles E. Choate'), ('workLabel', 'Charles Madden House'), ('typebuildingLabel', 'single-family detached home')]\n",
      "[('americanarLabel', 'George I. Barnett'), ('workLabel', 'Grand Avenue Water Tower'), ('typebuildingLabel', 'water tower')]\n",
      "[('americanarLabel', 'Abraham Wesley Eager'), ('workLabel', 'Auditorium (Torrance High School)'), ('typebuildingLabel', 'event venue')]\n",
      "[('americanarLabel', 'C. Howard Crane'), ('workLabel', 'Film Exchange Building'), ('typebuildingLabel', 'architectural structure')]\n",
      "[('americanarLabel', 'C. Howard Crane'), ('workLabel', 'Orchestra Hall'), ('typebuildingLabel', 'concert hall')]\n",
      "[('americanarLabel', 'C. Howard Crane'), ('workLabel', 'Orchestra Hall'), ('typebuildingLabel', 'movie theater')]\n",
      "[('americanarLabel', 'C. Howard Crane'), ('workLabel', 'Lafayette Building'), ('typebuildingLabel', 'architectural structure')]\n",
      "[('americanarLabel', 'Walter T. Downing'), ('workLabel', 'Sam Jones Memorial United Methodist Church'), ('typebuildingLabel', 'Protestant church building')]\n",
      "[('americanarLabel', 'C. Howard Crane'), ('workLabel', 'LeVeque Tower'), ('typebuildingLabel', 'office building')]\n",
      "[('americanarLabel', 'Ambrose J. Russell'), ('workLabel', 'Landmark Convention Center'), ('typebuildingLabel', 'movie theater')]\n",
      "[('americanarLabel', 'Ambrose J. Russell'), ('workLabel', 'Landmark Convention Center'), ('typebuildingLabel', 'convention center')]\n",
      "[('americanarLabel', 'Ambrose J. Russell'), ('workLabel', 'Landmark Convention Center'), ('typebuildingLabel', 'masonic temple')]\n",
      "[('americanarLabel', 'Ivey P. Crutchfield'), ('workLabel', 'Robert and Missouri Garbutt House'), ('typebuildingLabel', 'single-family detached home')]\n",
      "[('americanarLabel', 'George I. Barnett'), ('workLabel', 'Oakland House'), ('typebuildingLabel', 'single-family detached home')]\n",
      "[('americanarLabel', 'George I. Barnett'), ('workLabel', 'Oakland House'), ('typebuildingLabel', 'museum')]\n",
      "[('americanarLabel', 'George I. Barnett'), ('workLabel', 'Tower Grove House'), ('typebuildingLabel', 'building')]\n",
      "[('americanarLabel', 'David Adler'), ('workLabel', 'Lester Armour House'), ('typebuildingLabel', 'mansion')]\n",
      "[('americanarLabel', 'Mott B. Schmidt'), ('workLabel', 'Elizabeth Arden Building'), ('typebuildingLabel', 'building')]\n",
      "[('americanarLabel', 'William H. McElfatrick'), ('workLabel', 'Columbia Theatre'), ('typebuildingLabel', 'theatre')]\n",
      "[('americanarLabel', 'William H. McElfatrick'), ('workLabel', 'Columbia Theatre'), ('typebuildingLabel', 'movie theater')]\n",
      "[('americanarLabel', 'Charles E. Choate'), ('workLabel', 'Tennille Baptist Church'), ('typebuildingLabel', 'Protestant church building')]\n",
      "[('americanarLabel', 'Frederick L. Ackerman'), ('workLabel', 'First Houses'), ('typebuildingLabel', 'revenue house')]\n",
      "[('americanarLabel', 'Frederick L. Ackerman'), ('workLabel', 'Elizabeth C. Quinlan House'), ('typebuildingLabel', 'building')]\n",
      "[('americanarLabel', 'Benjamin H. Marshall'), ('workLabel', 'Edgewater Beach Hotel'), ('typebuildingLabel', 'hotel')]\n",
      "[('americanarLabel', 'Benjamin H. Marshall'), ('workLabel', 'Edgewater Beach Hotel'), ('typebuildingLabel', 'apartment building')]\n",
      "[('americanarLabel', 'David Adler'), ('workLabel', 'Dewey House'), ('typebuildingLabel', 'single-family detached home')]\n",
      "[('americanarLabel', 'C. Howard Crane'), ('workLabel', 'Warner Theatre'), ('typebuildingLabel', 'shopping center')]\n",
      "[('americanarLabel', 'C. Howard Crane'), ('workLabel', 'Warner Theatre'), ('typebuildingLabel', 'theatre')]\n",
      "[('americanarLabel', 'C. Howard Crane'), ('workLabel', 'Warner Theatre'), ('typebuildingLabel', 'concert hall')]\n",
      "[('americanarLabel', 'C. Howard Crane'), ('workLabel', 'Warner Theatre'), ('typebuildingLabel', 'movie theater')]\n",
      "[('americanarLabel', 'Mott B. Schmidt'), ('workLabel', '655 Park Avenue'), ('typebuildingLabel', 'apartment building')]\n",
      "[('americanarLabel', 'George I. Barnett'), ('workLabel', 'St. Mary of Victories Church'), ('typebuildingLabel', 'church building')]\n",
      "[('americanarLabel', 'Sheperd S. Woodcock'), ('workLabel', 'Jefferson School'), ('typebuildingLabel', 'school')]\n",
      "[('americanarLabel', 'Sheperd S. Woodcock'), ('workLabel', 'Jefferson School'), ('typebuildingLabel', 'school building')]\n",
      "[('americanarLabel', 'C. Howard Crane'), ('workLabel', 'The Fillmore Detroit'), ('typebuildingLabel', 'theatre')]\n",
      "[('americanarLabel', 'C. Howard Crane'), ('workLabel', 'The Fillmore Detroit'), ('typebuildingLabel', 'movie theater')]\n"
     ]
    },
    {
     "data": {
      "text/plain": [
       "100"
      ]
     },
     "execution_count": 40,
     "metadata": {},
     "output_type": "execute_result"
    }
   ],
   "source": [
    "\n",
    "#fianl\n",
    "#?work ?s ?o .\n",
    "\n",
    "queryString = \"\"\"\n",
    "    SELECT ?americanarLabel ?workLabel ?typebuildingLabel\n",
    "    WHERE { \n",
    "        ?americanar wdt:P27 wd:Q30  . \n",
    "        ?americanar wdt:P106 wd:Q42973 .\n",
    "        ?work wdt:P84 ?americanar .\n",
    "        ?work wdt:P31 ?typebuilding .\n",
    "       # ?work wdt:P149 ?style .\n",
    "        \n",
    "        \n",
    "        ## labels\n",
    "        ?americanar <http://schema.org/name> ?americanarLabel .\n",
    "        ?work <http://schema.org/name> ?workLabel .\n",
    "        ?typebuilding <http://schema.org/name> ?typebuildingLabel .\n",
    "\n",
    "    } \n",
    "    LIMIT 100\n",
    "\n",
    "\n",
    "\"\"\"\n",
    "\n",
    "print(\"Results\")\n",
    "run_query(queryString)"
   ]
  },
  {
   "cell_type": "code",
   "execution_count": 41,
   "id": "4aebb1c6-a1c7-4ab1-a49a-0338d383e54f",
   "metadata": {},
   "outputs": [
    {
     "name": "stdout",
     "output_type": "stream",
     "text": [
      "Results\n",
      "[('americanarchitectLabel', 'David Adler'), ('nameofbuilding', 'Mrs. Isaac D. Adler House'), ('typebuildingLabel', 'single-family detached home'), ('styleLabel', 'Colonial Revival architecture')]\n",
      "[('americanarchitectLabel', 'Matthew Del Gaudio'), ('nameofbuilding', 'Our Lady of Pompeii Church'), ('typebuildingLabel', 'national parish'), ('styleLabel', 'Romanesque Revival architecture')]\n",
      "[('americanarchitectLabel', 'Matthew Del Gaudio'), ('nameofbuilding', 'Our Lady of Pompeii Church'), ('typebuildingLabel', 'shrine'), ('styleLabel', 'Romanesque Revival architecture')]\n",
      "[('americanarchitectLabel', 'Matthew Del Gaudio'), ('nameofbuilding', 'Our Lady of Pompeii Church'), ('typebuildingLabel', 'parish church'), ('styleLabel', 'Romanesque Revival architecture')]\n",
      "[('americanarchitectLabel', 'Matthew Del Gaudio'), ('nameofbuilding', 'Our Lady of Pompeii Church'), ('typebuildingLabel', 'Catholic church building'), ('styleLabel', 'Romanesque Revival architecture')]\n",
      "[('americanarchitectLabel', 'Sheperd S. Woodcock'), ('nameofbuilding', 'First Baptist Church of Scituate'), ('typebuildingLabel', 'church building'), ('styleLabel', 'eclectic architecture')]\n",
      "[('americanarchitectLabel', 'Ivey P. Crutchfield'), ('nameofbuilding', 'Peterson-Wilbanks House'), ('typebuildingLabel', 'single-family detached home'), ('styleLabel', 'Neoclassical architecture')]\n",
      "[('americanarchitectLabel', 'C. Howard Crane'), ('nameofbuilding', 'Earls Court Exhibition Centre'), ('typebuildingLabel', 'sports venue'), ('styleLabel', 'Art Deco')]\n",
      "[('americanarchitectLabel', 'C. Howard Crane'), ('nameofbuilding', 'Earls Court Exhibition Centre'), ('typebuildingLabel', 'music venue'), ('styleLabel', 'Art Deco')]\n",
      "[('americanarchitectLabel', 'C. Howard Crane'), ('nameofbuilding', 'Earls Court Exhibition Centre'), ('typebuildingLabel', 'convention center'), ('styleLabel', 'Art Deco')]\n",
      "[('americanarchitectLabel', 'Marshall Strabala'), ('nameofbuilding', 'Burj Khalifa'), ('typebuildingLabel', 'tourist attraction'), ('styleLabel', 'neo-futurism')]\n",
      "[('americanarchitectLabel', 'Marshall Strabala'), ('nameofbuilding', 'Burj Khalifa'), ('typebuildingLabel', 'tourist attraction'), ('styleLabel', 'high-tech architecture')]\n",
      "[('americanarchitectLabel', 'Marshall Strabala'), ('nameofbuilding', 'Burj Khalifa'), ('typebuildingLabel', 'skyscraper'), ('styleLabel', 'neo-futurism')]\n",
      "[('americanarchitectLabel', 'Marshall Strabala'), ('nameofbuilding', 'Burj Khalifa'), ('typebuildingLabel', 'skyscraper'), ('styleLabel', 'high-tech architecture')]\n",
      "[('americanarchitectLabel', 'Marshall Strabala'), ('nameofbuilding', 'Burj Khalifa'), ('typebuildingLabel', 'landmark'), ('styleLabel', 'neo-futurism')]\n",
      "[('americanarchitectLabel', 'Marshall Strabala'), ('nameofbuilding', 'Burj Khalifa'), ('typebuildingLabel', 'landmark'), ('styleLabel', 'high-tech architecture')]\n",
      "[('americanarchitectLabel', 'John Mead Howells'), ('nameofbuilding', 'Daily News Building'), ('typebuildingLabel', 'skyscraper'), ('styleLabel', 'Art Deco')]\n",
      "[('americanarchitectLabel', 'Walter T. Downing'), ('nameofbuilding', 'Basilica of the Sacred Heart of Jesus'), ('typebuildingLabel', 'church building'), ('styleLabel', 'Romanesque architecture')]\n",
      "[('americanarchitectLabel', 'Walter T. Downing'), ('nameofbuilding', 'Basilica of the Sacred Heart of Jesus'), ('typebuildingLabel', 'minor basilica'), ('styleLabel', 'Romanesque architecture')]\n",
      "[('americanarchitectLabel', 'Roscoe DeWitt'), ('nameofbuilding', 'Ownby Stadium'), ('typebuildingLabel', 'stadium'), ('styleLabel', 'Colonial Revival architecture')]\n",
      "[('americanarchitectLabel', 'John Mead Howells'), ('nameofbuilding', 'Tribune Tower'), ('typebuildingLabel', 'skyscraper'), ('styleLabel', 'Gothic Revival')]\n",
      "[('americanarchitectLabel', 'C. Howard Crane'), ('nameofbuilding', 'Majestic Theatre'), ('typebuildingLabel', 'theatre'), ('styleLabel', 'Art Deco')]\n",
      "[('americanarchitectLabel', 'C. Howard Crane'), ('nameofbuilding', 'Majestic Theatre'), ('typebuildingLabel', 'music venue'), ('styleLabel', 'Art Deco')]\n",
      "[('americanarchitectLabel', 'C. Howard Crane'), ('nameofbuilding', 'Majestic Theatre'), ('typebuildingLabel', 'movie theater'), ('styleLabel', 'Art Deco')]\n",
      "[('americanarchitectLabel', 'Henry Monheim'), ('nameofbuilding', 'Emanuel Kahn House'), ('typebuildingLabel', 'single-family detached home'), ('styleLabel', 'Queen Anne style architecture')]\n",
      "[('americanarchitectLabel', 'Ivey P. Crutchfield'), ('nameofbuilding', 'Leader–Rosansky House'), ('typebuildingLabel', 'single-family detached home'), ('styleLabel', 'Queen Anne style architecture')]\n",
      "[('americanarchitectLabel', 'Charles E. Choate'), ('nameofbuilding', 'Charles Madden House'), ('typebuildingLabel', 'single-family detached home'), ('styleLabel', 'Queen Anne style architecture')]\n",
      "[('americanarchitectLabel', 'Abraham Wesley Eager'), ('nameofbuilding', 'Auditorium (Torrance High School)'), ('typebuildingLabel', 'event venue'), ('styleLabel', 'PWA Moderne')]\n",
      "[('americanarchitectLabel', 'C. Howard Crane'), ('nameofbuilding', 'Film Exchange Building'), ('typebuildingLabel', 'architectural structure'), ('styleLabel', 'Art Deco')]\n",
      "[('americanarchitectLabel', 'C. Howard Crane'), ('nameofbuilding', 'Orchestra Hall'), ('typebuildingLabel', 'concert hall'), ('styleLabel', 'Beaux-Arts')]\n",
      "[('americanarchitectLabel', 'C. Howard Crane'), ('nameofbuilding', 'Orchestra Hall'), ('typebuildingLabel', 'movie theater'), ('styleLabel', 'Beaux-Arts')]\n",
      "[('americanarchitectLabel', 'Walter T. Downing'), ('nameofbuilding', 'Sam Jones Memorial United Methodist Church'), ('typebuildingLabel', 'Protestant church building'), ('styleLabel', 'Neoclassical architecture')]\n",
      "[('americanarchitectLabel', 'C. Howard Crane'), ('nameofbuilding', 'LeVeque Tower'), ('typebuildingLabel', 'office building'), ('styleLabel', 'Streamline Moderne')]\n",
      "[('americanarchitectLabel', 'Ambrose J. Russell'), ('nameofbuilding', 'Landmark Convention Center'), ('typebuildingLabel', 'movie theater'), ('styleLabel', 'Art Deco')]\n",
      "[('americanarchitectLabel', 'Ambrose J. Russell'), ('nameofbuilding', 'Landmark Convention Center'), ('typebuildingLabel', 'convention center'), ('styleLabel', 'Art Deco')]\n",
      "[('americanarchitectLabel', 'Ambrose J. Russell'), ('nameofbuilding', 'Landmark Convention Center'), ('typebuildingLabel', 'masonic temple'), ('styleLabel', 'Art Deco')]\n",
      "[('americanarchitectLabel', 'Ivey P. Crutchfield'), ('nameofbuilding', 'Robert and Missouri Garbutt House'), ('typebuildingLabel', 'single-family detached home'), ('styleLabel', 'Neoclassical architecture')]\n",
      "[('americanarchitectLabel', 'Mott B. Schmidt'), ('nameofbuilding', 'Elizabeth Arden Building'), ('typebuildingLabel', 'building'), ('styleLabel', 'Georgian architecture')]\n",
      "[('americanarchitectLabel', 'Mott B. Schmidt'), ('nameofbuilding', 'Elizabeth Arden Building'), ('typebuildingLabel', 'building'), ('styleLabel', 'Georgian Revival architecture')]\n",
      "[('americanarchitectLabel', 'David Adler'), ('nameofbuilding', 'Dewey House'), ('typebuildingLabel', 'single-family detached home'), ('styleLabel', 'Georgian architecture')]\n",
      "[('americanarchitectLabel', 'Mott B. Schmidt'), ('nameofbuilding', '655 Park Avenue'), ('typebuildingLabel', 'apartment building'), ('styleLabel', 'Georgian architecture')]\n",
      "[('americanarchitectLabel', 'Sheperd S. Woodcock'), ('nameofbuilding', 'Jefferson School'), ('typebuildingLabel', 'school'), ('styleLabel', 'Queen Anne style architecture')]\n",
      "[('americanarchitectLabel', 'Sheperd S. Woodcock'), ('nameofbuilding', 'Jefferson School'), ('typebuildingLabel', 'school building'), ('styleLabel', 'Queen Anne style architecture')]\n",
      "[('americanarchitectLabel', 'C. Howard Crane'), ('nameofbuilding', 'Fox Theatre'), ('typebuildingLabel', 'theatre'), ('styleLabel', 'Art Deco')]\n",
      "[('americanarchitectLabel', 'C. Howard Crane'), ('nameofbuilding', 'Fox Theatre'), ('typebuildingLabel', 'movie theater'), ('styleLabel', 'Art Deco')]\n",
      "[('americanarchitectLabel', 'Jack West'), ('nameofbuilding', 'Nokomis Beach Pavilion'), ('typebuildingLabel', 'pavilion'), ('styleLabel', 'mid-century modern')]\n",
      "[('americanarchitectLabel', 'Charles E. Choate'), ('nameofbuilding', 'Holt Brothers Banking Company Building'), ('typebuildingLabel', 'bank building'), ('styleLabel', 'Italianate architecture')]\n",
      "[('americanarchitectLabel', 'Charles E. Choate'), ('nameofbuilding', 'Holt Brothers Banking Company Building'), ('typebuildingLabel', 'bank building'), ('styleLabel', 'Renaissance architecture')]\n",
      "[('americanarchitectLabel', 'Charles E. Choate'), ('nameofbuilding', 'First Methodist Episcopal Church'), ('typebuildingLabel', 'church building'), ('styleLabel', 'Romanesque Revival architecture')]\n",
      "[('americanarchitectLabel', 'C. Howard Crane'), ('nameofbuilding', 'Somerset Apartments'), ('typebuildingLabel', 'multiple dwellings'), ('styleLabel', 'Georgian architecture')]\n"
     ]
    },
    {
     "data": {
      "text/plain": [
       "50"
      ]
     },
     "execution_count": 41,
     "metadata": {},
     "output_type": "execute_result"
    }
   ],
   "source": [
    "# the names of the building\n",
    "queryString = \"\"\"\n",
    "    SELECT DISTINCT ?americanarchitectLabel ?nameofbuilding ?typebuildingLabel ?styleLabel\n",
    "    WHERE { \n",
    "        ?work wdt:P84 ?americanarchitect .\n",
    "        ?americanarchitect wdt:P27 wd:Q30  . \n",
    "        ?americanarchitect wdt:P106 wd:Q42973 .\n",
    "        ?work wdt:P31 ?typebuilding .\n",
    "        ?work wdt:P149 ?style .\n",
    "        \n",
    "        \n",
    "        \n",
    "        ## labels\n",
    "        ?work <http://schema.org/name> ?nameofbuilding .\n",
    "        ?americanarchitect <http://schema.org/name> ?americanarchitectLabel .\n",
    "        ?typebuilding <http://schema.org/name> ?typebuildingLabel .\n",
    "        ?style <http://schema.org/name> ?styleLabel .\n",
    "\n",
    "    } \n",
    "    LIMIT 50\n",
    "    \n",
    "\"\"\"\n",
    "\n",
    "print(\"Results\")\n",
    "run_query(queryString)"
   ]
  },
  {
   "cell_type": "markdown",
   "id": "86ac7eca-032a-4fb6-a64f-98c30e4028f6",
   "metadata": {},
   "source": [
    "# Identify the BGP that connect a building with its architect, type, and architectural style"
   ]
  },
  {
   "cell_type": "code",
   "execution_count": 42,
   "id": "2e6d9086-1268-43f4-8147-1313512b6ba1",
   "metadata": {},
   "outputs": [
    {
     "name": "stdout",
     "output_type": "stream",
     "text": [
      "Results\n",
      "[('nameofbuilding', 'Mrs. Isaac D. Adler House'), ('americanarchitectLabel', 'David Adler'), ('typebuildingLabel', 'single-family detached home'), ('styleLabel', 'Colonial Revival architecture')]\n",
      "[('nameofbuilding', 'Our Lady of Pompeii Church'), ('americanarchitectLabel', 'Matthew Del Gaudio'), ('typebuildingLabel', 'national parish'), ('styleLabel', 'Romanesque Revival architecture')]\n",
      "[('nameofbuilding', 'Our Lady of Pompeii Church'), ('americanarchitectLabel', 'Matthew Del Gaudio'), ('typebuildingLabel', 'shrine'), ('styleLabel', 'Romanesque Revival architecture')]\n",
      "[('nameofbuilding', 'Our Lady of Pompeii Church'), ('americanarchitectLabel', 'Matthew Del Gaudio'), ('typebuildingLabel', 'parish church'), ('styleLabel', 'Romanesque Revival architecture')]\n",
      "[('nameofbuilding', 'Our Lady of Pompeii Church'), ('americanarchitectLabel', 'Matthew Del Gaudio'), ('typebuildingLabel', 'Catholic church building'), ('styleLabel', 'Romanesque Revival architecture')]\n",
      "[('nameofbuilding', 'First Baptist Church of Scituate'), ('americanarchitectLabel', 'Sheperd S. Woodcock'), ('typebuildingLabel', 'church building'), ('styleLabel', 'eclectic architecture')]\n",
      "[('nameofbuilding', 'Peterson-Wilbanks House'), ('americanarchitectLabel', 'Ivey P. Crutchfield'), ('typebuildingLabel', 'single-family detached home'), ('styleLabel', 'Neoclassical architecture')]\n",
      "[('nameofbuilding', 'Earls Court Exhibition Centre'), ('americanarchitectLabel', 'C. Howard Crane'), ('typebuildingLabel', 'sports venue'), ('styleLabel', 'Art Deco')]\n",
      "[('nameofbuilding', 'Earls Court Exhibition Centre'), ('americanarchitectLabel', 'C. Howard Crane'), ('typebuildingLabel', 'music venue'), ('styleLabel', 'Art Deco')]\n",
      "[('nameofbuilding', 'Earls Court Exhibition Centre'), ('americanarchitectLabel', 'C. Howard Crane'), ('typebuildingLabel', 'convention center'), ('styleLabel', 'Art Deco')]\n",
      "[('nameofbuilding', 'Burj Khalifa'), ('americanarchitectLabel', 'Marshall Strabala'), ('typebuildingLabel', 'tourist attraction'), ('styleLabel', 'neo-futurism')]\n",
      "[('nameofbuilding', 'Burj Khalifa'), ('americanarchitectLabel', 'Marshall Strabala'), ('typebuildingLabel', 'tourist attraction'), ('styleLabel', 'high-tech architecture')]\n",
      "[('nameofbuilding', 'Burj Khalifa'), ('americanarchitectLabel', 'Marshall Strabala'), ('typebuildingLabel', 'skyscraper'), ('styleLabel', 'neo-futurism')]\n",
      "[('nameofbuilding', 'Burj Khalifa'), ('americanarchitectLabel', 'Marshall Strabala'), ('typebuildingLabel', 'skyscraper'), ('styleLabel', 'high-tech architecture')]\n",
      "[('nameofbuilding', 'Burj Khalifa'), ('americanarchitectLabel', 'Marshall Strabala'), ('typebuildingLabel', 'landmark'), ('styleLabel', 'neo-futurism')]\n",
      "[('nameofbuilding', 'Burj Khalifa'), ('americanarchitectLabel', 'Marshall Strabala'), ('typebuildingLabel', 'landmark'), ('styleLabel', 'high-tech architecture')]\n",
      "[('nameofbuilding', 'Daily News Building'), ('americanarchitectLabel', 'John Mead Howells'), ('typebuildingLabel', 'skyscraper'), ('styleLabel', 'Art Deco')]\n",
      "[('nameofbuilding', 'Basilica of the Sacred Heart of Jesus'), ('americanarchitectLabel', 'Walter T. Downing'), ('typebuildingLabel', 'church building'), ('styleLabel', 'Romanesque architecture')]\n",
      "[('nameofbuilding', 'Basilica of the Sacred Heart of Jesus'), ('americanarchitectLabel', 'Walter T. Downing'), ('typebuildingLabel', 'minor basilica'), ('styleLabel', 'Romanesque architecture')]\n",
      "[('nameofbuilding', 'Ownby Stadium'), ('americanarchitectLabel', 'Roscoe DeWitt'), ('typebuildingLabel', 'stadium'), ('styleLabel', 'Colonial Revival architecture')]\n",
      "[('nameofbuilding', 'Tribune Tower'), ('americanarchitectLabel', 'John Mead Howells'), ('typebuildingLabel', 'skyscraper'), ('styleLabel', 'Gothic Revival')]\n",
      "[('nameofbuilding', 'Majestic Theatre'), ('americanarchitectLabel', 'C. Howard Crane'), ('typebuildingLabel', 'theatre'), ('styleLabel', 'Art Deco')]\n",
      "[('nameofbuilding', 'Majestic Theatre'), ('americanarchitectLabel', 'C. Howard Crane'), ('typebuildingLabel', 'music venue'), ('styleLabel', 'Art Deco')]\n",
      "[('nameofbuilding', 'Majestic Theatre'), ('americanarchitectLabel', 'C. Howard Crane'), ('typebuildingLabel', 'movie theater'), ('styleLabel', 'Art Deco')]\n",
      "[('nameofbuilding', 'Emanuel Kahn House'), ('americanarchitectLabel', 'Henry Monheim'), ('typebuildingLabel', 'single-family detached home'), ('styleLabel', 'Queen Anne style architecture')]\n",
      "[('nameofbuilding', 'Leader–Rosansky House'), ('americanarchitectLabel', 'Ivey P. Crutchfield'), ('typebuildingLabel', 'single-family detached home'), ('styleLabel', 'Queen Anne style architecture')]\n",
      "[('nameofbuilding', 'Charles Madden House'), ('americanarchitectLabel', 'Charles E. Choate'), ('typebuildingLabel', 'single-family detached home'), ('styleLabel', 'Queen Anne style architecture')]\n",
      "[('nameofbuilding', 'Auditorium (Torrance High School)'), ('americanarchitectLabel', 'Abraham Wesley Eager'), ('typebuildingLabel', 'event venue'), ('styleLabel', 'PWA Moderne')]\n",
      "[('nameofbuilding', 'Film Exchange Building'), ('americanarchitectLabel', 'C. Howard Crane'), ('typebuildingLabel', 'architectural structure'), ('styleLabel', 'Art Deco')]\n",
      "[('nameofbuilding', 'Orchestra Hall'), ('americanarchitectLabel', 'C. Howard Crane'), ('typebuildingLabel', 'concert hall'), ('styleLabel', 'Beaux-Arts')]\n",
      "[('nameofbuilding', 'Orchestra Hall'), ('americanarchitectLabel', 'C. Howard Crane'), ('typebuildingLabel', 'movie theater'), ('styleLabel', 'Beaux-Arts')]\n",
      "[('nameofbuilding', 'Sam Jones Memorial United Methodist Church'), ('americanarchitectLabel', 'Walter T. Downing'), ('typebuildingLabel', 'Protestant church building'), ('styleLabel', 'Neoclassical architecture')]\n",
      "[('nameofbuilding', 'LeVeque Tower'), ('americanarchitectLabel', 'C. Howard Crane'), ('typebuildingLabel', 'office building'), ('styleLabel', 'Streamline Moderne')]\n",
      "[('nameofbuilding', 'Landmark Convention Center'), ('americanarchitectLabel', 'Ambrose J. Russell'), ('typebuildingLabel', 'movie theater'), ('styleLabel', 'Art Deco')]\n",
      "[('nameofbuilding', 'Landmark Convention Center'), ('americanarchitectLabel', 'Ambrose J. Russell'), ('typebuildingLabel', 'convention center'), ('styleLabel', 'Art Deco')]\n",
      "[('nameofbuilding', 'Landmark Convention Center'), ('americanarchitectLabel', 'Ambrose J. Russell'), ('typebuildingLabel', 'masonic temple'), ('styleLabel', 'Art Deco')]\n",
      "[('nameofbuilding', 'Robert and Missouri Garbutt House'), ('americanarchitectLabel', 'Ivey P. Crutchfield'), ('typebuildingLabel', 'single-family detached home'), ('styleLabel', 'Neoclassical architecture')]\n",
      "[('nameofbuilding', 'Elizabeth Arden Building'), ('americanarchitectLabel', 'Mott B. Schmidt'), ('typebuildingLabel', 'building'), ('styleLabel', 'Georgian architecture')]\n",
      "[('nameofbuilding', 'Elizabeth Arden Building'), ('americanarchitectLabel', 'Mott B. Schmidt'), ('typebuildingLabel', 'building'), ('styleLabel', 'Georgian Revival architecture')]\n",
      "[('nameofbuilding', 'Dewey House'), ('americanarchitectLabel', 'David Adler'), ('typebuildingLabel', 'single-family detached home'), ('styleLabel', 'Georgian architecture')]\n",
      "[('nameofbuilding', '655 Park Avenue'), ('americanarchitectLabel', 'Mott B. Schmidt'), ('typebuildingLabel', 'apartment building'), ('styleLabel', 'Georgian architecture')]\n",
      "[('nameofbuilding', 'Jefferson School'), ('americanarchitectLabel', 'Sheperd S. Woodcock'), ('typebuildingLabel', 'school'), ('styleLabel', 'Queen Anne style architecture')]\n",
      "[('nameofbuilding', 'Jefferson School'), ('americanarchitectLabel', 'Sheperd S. Woodcock'), ('typebuildingLabel', 'school building'), ('styleLabel', 'Queen Anne style architecture')]\n",
      "[('nameofbuilding', 'Fox Theatre'), ('americanarchitectLabel', 'C. Howard Crane'), ('typebuildingLabel', 'theatre'), ('styleLabel', 'Art Deco')]\n",
      "[('nameofbuilding', 'Fox Theatre'), ('americanarchitectLabel', 'C. Howard Crane'), ('typebuildingLabel', 'movie theater'), ('styleLabel', 'Art Deco')]\n",
      "[('nameofbuilding', 'Nokomis Beach Pavilion'), ('americanarchitectLabel', 'Jack West'), ('typebuildingLabel', 'pavilion'), ('styleLabel', 'mid-century modern')]\n",
      "[('nameofbuilding', 'Holt Brothers Banking Company Building'), ('americanarchitectLabel', 'Charles E. Choate'), ('typebuildingLabel', 'bank building'), ('styleLabel', 'Italianate architecture')]\n",
      "[('nameofbuilding', 'Holt Brothers Banking Company Building'), ('americanarchitectLabel', 'Charles E. Choate'), ('typebuildingLabel', 'bank building'), ('styleLabel', 'Renaissance architecture')]\n",
      "[('nameofbuilding', 'First Methodist Episcopal Church'), ('americanarchitectLabel', 'Charles E. Choate'), ('typebuildingLabel', 'church building'), ('styleLabel', 'Romanesque Revival architecture')]\n",
      "[('nameofbuilding', 'Somerset Apartments'), ('americanarchitectLabel', 'C. Howard Crane'), ('typebuildingLabel', 'multiple dwellings'), ('styleLabel', 'Georgian architecture')]\n",
      "[('nameofbuilding', 'Johnston Memorial Building'), ('americanarchitectLabel', 'Francis Willford Fitzpatrick'), ('typebuildingLabel', 'building'), ('styleLabel', 'Prairie School architecture')]\n",
      "[('nameofbuilding', 'Johnston Memorial Building'), ('americanarchitectLabel', 'Francis Willford Fitzpatrick'), ('typebuildingLabel', 'building'), ('styleLabel', 'American Craftsman')]\n",
      "[('nameofbuilding', 'Crawford W. Brazell House'), ('americanarchitectLabel', 'Ivey P. Crutchfield'), ('typebuildingLabel', 'single-family detached home'), ('styleLabel', 'Neoclassical architecture')]\n",
      "[('nameofbuilding', 'Young–Quinlan Building'), ('americanarchitectLabel', 'Frederick L. Ackerman'), ('typebuildingLabel', 'architectural structure'), ('styleLabel', 'Renaissance Revival architecture')]\n",
      "[('nameofbuilding', 'Beekman Tower'), ('americanarchitectLabel', 'John Mead Howells'), ('typebuildingLabel', 'hotel'), ('styleLabel', 'Art Deco')]\n",
      "[('nameofbuilding', 'Mrs. C. Morse Ely House'), ('americanarchitectLabel', 'David Adler'), ('typebuildingLabel', 'single-family detached home'), ('styleLabel', 'Renaissance Revival architecture')]\n",
      "[('nameofbuilding', 'James Kelley House'), ('americanarchitectLabel', 'Charles E. Choate'), ('typebuildingLabel', 'single-family detached home'), ('styleLabel', 'American Craftsman')]\n",
      "[('nameofbuilding', 'Waverly Hills Sanatorium'), ('americanarchitectLabel', 'James J. Gaffney'), ('typebuildingLabel', 'hospital'), ('styleLabel', 'Tudor architecture')]\n",
      "[('nameofbuilding', 'Waverly Hills Sanatorium'), ('americanarchitectLabel', 'James J. Gaffney'), ('typebuildingLabel', 'former hospital'), ('styleLabel', 'Tudor architecture')]\n",
      "[('nameofbuilding', 'Arkansas State Capitol'), ('americanarchitectLabel', 'George R. Mann'), ('typebuildingLabel', 'capitol building'), ('styleLabel', 'Neoclassical architecture')]\n",
      "[('nameofbuilding', 'Arkansas State Capitol'), ('americanarchitectLabel', 'George R. Mann'), ('typebuildingLabel', 'tourist attraction'), ('styleLabel', 'Neoclassical architecture')]\n",
      "[('nameofbuilding', 'Kennedy-Warren Apartment Building'), ('americanarchitectLabel', 'Joseph Younger'), ('typebuildingLabel', 'low-rise building'), ('styleLabel', 'Art Deco')]\n",
      "[('nameofbuilding', 'Kennedy-Warren Apartment Building'), ('americanarchitectLabel', 'Joseph Younger'), ('typebuildingLabel', 'apartment building'), ('styleLabel', 'Art Deco')]\n",
      "[('nameofbuilding', 'Audubon Terrace'), ('americanarchitectLabel', 'Charles Pratt Huntington'), ('typebuildingLabel', 'building complex'), ('styleLabel', 'Beaux-Arts')]\n",
      "[('nameofbuilding', 'Chapel by the Lake'), ('americanarchitectLabel', 'Linn A. Forrest'), ('typebuildingLabel', 'church building'), ('styleLabel', 'rustic architecture')]\n",
      "[('nameofbuilding', 'Chapel in the Hills'), ('americanarchitectLabel', 'Harold Spitznagel'), ('typebuildingLabel', 'chapel'), ('styleLabel', 'stave church')]\n",
      "[('nameofbuilding', 'Chapel in the Hills'), ('americanarchitectLabel', 'Harold Spitznagel'), ('typebuildingLabel', 'stave church'), ('styleLabel', 'stave church')]\n",
      "[('nameofbuilding', 'Charles Evans Hughes House'), ('americanarchitectLabel', 'George Oakley Totten, Jr.'), ('typebuildingLabel', 'single-family detached home'), ('styleLabel', 'Mediterranean Revival architecture')]\n",
      "[('nameofbuilding', 'Charles Lang Freer House'), ('americanarchitectLabel', 'Wilson Eyre'), ('typebuildingLabel', 'single-family detached home'), ('styleLabel', 'Shingle style architecture')]\n",
      "[('nameofbuilding', 'Cheyenne County Courthouse'), ('americanarchitectLabel', 'John J. Huddart'), ('typebuildingLabel', 'county courthouse'), ('styleLabel', 'Georgian architecture')]\n",
      "[('nameofbuilding', 'Church of Our Saviour'), ('americanarchitectLabel', 'James B. Cook'), ('typebuildingLabel', 'church building'), ('styleLabel', 'Carpenter Gothic')]\n",
      "[('nameofbuilding', 'Church of Saint Stephen'), ('americanarchitectLabel', 'Frederick Corser'), ('typebuildingLabel', 'church building'), ('styleLabel', 'Romanesque architecture')]\n",
      "[('nameofbuilding', 'Church of St. Bernard'), ('americanarchitectLabel', 'John Jager'), ('typebuildingLabel', 'church building'), ('styleLabel', 'Prairie School architecture')]\n",
      "[('nameofbuilding', 'Church of St. Bernard'), ('americanarchitectLabel', 'John Jager'), ('typebuildingLabel', 'church building'), ('styleLabel', 'Art Nouveau')]\n",
      "[('nameofbuilding', 'Church of St. Thomas the Apostle'), ('americanarchitectLabel', 'James J. Egan'), ('typebuildingLabel', 'church building'), ('styleLabel', 'Gothic Revival')]\n",
      "[('nameofbuilding', 'Church of the Holy Comforter'), ('americanarchitectLabel', 'Richard Upjohn'), ('typebuildingLabel', 'church building'), ('styleLabel', 'Gothic Revival')]\n",
      "[('nameofbuilding', 'Heinz Memorial Chapel'), ('americanarchitectLabel', 'Charles Klauder'), ('typebuildingLabel', 'church building'), ('styleLabel', 'Gothic Revival')]\n",
      "[('nameofbuilding', 'Cathedral of Learning'), ('americanarchitectLabel', 'Charles Klauder'), ('typebuildingLabel', 'skyscraper'), ('styleLabel', 'Gothic Revival')]\n",
      "[('nameofbuilding', 'Cathedral of Learning'), ('americanarchitectLabel', 'Charles Klauder'), ('typebuildingLabel', 'skyscraper'), ('styleLabel', 'Art Deco')]\n",
      "[('nameofbuilding', \"St. John's Church\"), ('americanarchitectLabel', \"Jeremiah O'Rourke\"), ('typebuildingLabel', 'church building'), ('styleLabel', 'Gothic Revival')]\n",
      "[('nameofbuilding', 'White House'), ('americanarchitectLabel', 'James Hoban'), ('typebuildingLabel', 'official residence'), ('styleLabel', 'Neoclassical architecture')]\n",
      "[('nameofbuilding', 'White House'), ('americanarchitectLabel', 'James Hoban'), ('typebuildingLabel', 'civic building'), ('styleLabel', 'Neoclassical architecture')]\n",
      "[('nameofbuilding', 'White House'), ('americanarchitectLabel', 'James Hoban'), ('typebuildingLabel', 'mansion'), ('styleLabel', 'Neoclassical architecture')]\n",
      "[('nameofbuilding', 'White House'), ('americanarchitectLabel', 'James Hoban'), ('typebuildingLabel', 'tourist attraction'), ('styleLabel', 'Neoclassical architecture')]\n",
      "[('nameofbuilding', 'United States Capitol'), ('americanarchitectLabel', 'James Hoban'), ('typebuildingLabel', 'capitol building'), ('styleLabel', 'Neoclassical architecture')]\n",
      "[('nameofbuilding', 'Trinity Church'), ('americanarchitectLabel', 'Richard Upjohn'), ('typebuildingLabel', 'church building'), ('styleLabel', 'Gothic Revival')]\n",
      "[('nameofbuilding', 'Stoughton station'), ('americanarchitectLabel', 'Charles Brigham'), ('typebuildingLabel', 'railway station'), ('styleLabel', 'Romanesque Revival architecture')]\n",
      "[('nameofbuilding', 'Washington National Cathedral'), ('americanarchitectLabel', 'Philip H. Frohman'), ('typebuildingLabel', 'anglican or episcopal cathedral'), ('styleLabel', 'Gothic Revival')]\n",
      "[('nameofbuilding', \"St. Philip's Church in the Highlands\"), ('americanarchitectLabel', 'Richard Upjohn'), ('typebuildingLabel', 'church building'), ('styleLabel', 'Gothic Revival')]\n",
      "[('nameofbuilding', \"St. Mary's Episcopal Church, Burlington\"), ('americanarchitectLabel', 'Richard Upjohn'), ('typebuildingLabel', 'church building'), ('styleLabel', 'Gothic Revival')]\n",
      "[('nameofbuilding', \"St. Mary's Episcopal Church, Burlington\"), ('americanarchitectLabel', 'Richard Upjohn'), ('typebuildingLabel', 'cemetery'), ('styleLabel', 'Gothic Revival')]\n",
      "[('nameofbuilding', 'Loews Philadelphia Hotel'), ('americanarchitectLabel', 'William Lescaze'), ('typebuildingLabel', 'high-rise building'), ('styleLabel', 'International Style')]\n",
      "[('nameofbuilding', 'Loews Philadelphia Hotel'), ('americanarchitectLabel', 'William Lescaze'), ('typebuildingLabel', 'skyscraper'), ('styleLabel', 'International Style')]\n",
      "[('nameofbuilding', 'Trinity Chapel Complex'), ('americanarchitectLabel', 'Richard Upjohn'), ('typebuildingLabel', 'Eastern Orthodox cathedral'), ('styleLabel', 'Gothic Revival')]\n",
      "[('nameofbuilding', 'Christ Church Cathedral'), ('americanarchitectLabel', 'Ithiel Town'), ('typebuildingLabel', 'anglican or episcopal cathedral'), ('styleLabel', 'Gothic Revival')]\n",
      "[('nameofbuilding', 'First United Methodist Church'), ('americanarchitectLabel', 'Charles Crapsey'), ('typebuildingLabel', 'Protestant church building'), ('styleLabel', 'Gothic Revival')]\n",
      "[('nameofbuilding', 'Ogle County Courthouse'), ('americanarchitectLabel', 'George O. Garnsey'), ('typebuildingLabel', 'county courthouse'), ('styleLabel', 'Romanesque Revival architecture')]\n",
      "[('nameofbuilding', 'Old Main'), ('americanarchitectLabel', 'Charles Klauder'), ('typebuildingLabel', 'school'), ('styleLabel', 'Federal architecture')]\n",
      "[('nameofbuilding', 'Old Main'), ('americanarchitectLabel', 'Charles Klauder'), ('typebuildingLabel', 'building'), ('styleLabel', 'Federal architecture')]\n",
      "[('nameofbuilding', 'The Grove (Cold Spring, New York)'), ('americanarchitectLabel', 'Richard Upjohn'), ('typebuildingLabel', 'historic house'), ('styleLabel', 'Renaissance Revival architecture')]\n"
     ]
    },
    {
     "data": {
      "text/plain": [
       "100"
      ]
     },
     "execution_count": 42,
     "metadata": {},
     "output_type": "execute_result"
    }
   ],
   "source": [
    "# this is the final BGP that list all of the information needed.\n",
    "queryString = \"\"\"\n",
    "\n",
    "    SELECT DISTINCT ?nameofbuilding ?americanarchitectLabel ?typebuildingLabel ?styleLabel\n",
    "    WHERE { \n",
    "        ?work wdt:P84 ?americanarchitect .\n",
    "        ?americanarchitect wdt:P27 wd:Q30  . \n",
    "        ?americanarchitect wdt:P106 wd:Q42973 .\n",
    "        ?work wdt:P31 ?typebuilding .\n",
    "        ?work wdt:P149 ?style .\n",
    "       # ?work rdfs:label ?nameofbuilding .\n",
    "        \n",
    "        ## labels\n",
    "        ?work <http://schema.org/name> ?nameofbuilding .\n",
    "        ?americanarchitect <http://schema.org/name> ?americanarchitectLabel .\n",
    "        ?typebuilding <http://schema.org/name> ?typebuildingLabel .\n",
    "        ?style <http://schema.org/name> ?styleLabel .\n",
    "    } \n",
    "    LIMIT 100\n",
    "\n",
    "\"\"\"\n",
    "\n",
    "print(\"Results\")\n",
    "run_query(queryString)\n"
   ]
  },
  {
   "cell_type": "markdown",
   "id": "25e0a194-bdd3-45c3-aa8d-7cc501f660aa",
   "metadata": {},
   "source": [
    "# Third"
   ]
  },
  {
   "cell_type": "markdown",
   "id": "3173b98a-17b8-42e4-828e-1203758553e5",
   "metadata": {},
   "source": [
    "##### Which architect is the most prolific in the U.S. and outside?"
   ]
  },
  {
   "cell_type": "code",
   "execution_count": 43,
   "id": "6991eed4-5248-428c-b73a-f0aa686a0abe",
   "metadata": {},
   "outputs": [
    {
     "name": "stdout",
     "output_type": "stream",
     "text": [
      "Results\n",
      "[('americanar', 'http://www.wikidata.org/entity/Q16023299'), ('americanarLabel', 'Ambrose J. Russell'), ('notablework', 'http://www.wikidata.org/entity/Q7971885'), ('notableworkLabel', \"Washington Governor's Mansion\")]\n",
      "[('americanar', 'http://www.wikidata.org/entity/Q5006523'), ('americanarLabel', 'C. Howard Crane'), ('notablework', 'http://www.wikidata.org/entity/Q1130746'), ('notableworkLabel', 'Earls Court Exhibition Centre')]\n",
      "[('americanar', 'http://www.wikidata.org/entity/Q3017360'), ('americanarLabel', 'David Adler'), ('notablework', 'http://www.wikidata.org/entity/Q5050132'), ('notableworkLabel', 'Castle Hill')]\n",
      "[('americanar', 'http://www.wikidata.org/entity/Q5006523'), ('americanarLabel', 'C. Howard Crane'), ('notablework', 'http://www.wikidata.org/entity/Q1201545'), ('notableworkLabel', 'Detroit Olympia')]\n",
      "[('americanar', 'http://www.wikidata.org/entity/Q20988921'), ('americanarLabel', 'Gertrude Sawyer'), ('notablework', 'http://www.wikidata.org/entity/Q5177248'), ('notableworkLabel', 'Country Club Plaza')]\n",
      "[('americanar', 'http://www.wikidata.org/entity/Q4280514'), ('americanarLabel', 'George R. Mann'), ('notablework', 'http://www.wikidata.org/entity/Q673076'), ('notableworkLabel', 'Arkansas State Capitol')]\n",
      "[('americanar', 'http://www.wikidata.org/entity/Q30125162'), ('americanarLabel', 'DeNorval Unthank Jr.'), ('notablework', 'http://www.wikidata.org/entity/Q28451565'), ('notableworkLabel', 'U.S. Bank Building')]\n",
      "[('americanar', 'http://www.wikidata.org/entity/Q30125162'), ('americanarLabel', 'DeNorval Unthank Jr.'), ('notablework', 'http://www.wikidata.org/entity/Q98077900'), ('notableworkLabel', 'Lane County Courthouse')]\n",
      "[('americanar', 'http://www.wikidata.org/entity/Q19662899'), ('americanarLabel', 'Joseph Younger'), ('notablework', 'http://www.wikidata.org/entity/Q1738794'), ('notableworkLabel', 'Kennedy-Warren Apartment Building')]\n",
      "[('americanar', 'http://www.wikidata.org/entity/Q5079833'), ('americanarLabel', 'Charles Klauder'), ('notablework', 'http://www.wikidata.org/entity/Q15272115'), ('notableworkLabel', 'Rec Hall')]\n",
      "[('americanar', 'http://www.wikidata.org/entity/Q5081742'), ('americanarLabel', 'Charles Pratt Huntington'), ('notablework', 'http://www.wikidata.org/entity/Q4820259'), ('notableworkLabel', 'Audubon Terrace')]\n",
      "[('americanar', 'http://www.wikidata.org/entity/Q1452828'), ('americanarLabel', 'Frederick Corser'), ('notablework', 'http://www.wikidata.org/entity/Q5117063'), ('notableworkLabel', 'Church of Saint Stephen')]\n",
      "[('americanar', 'http://www.wikidata.org/entity/Q2066635'), ('americanarLabel', 'Richard Upjohn'), ('notablework', 'http://www.wikidata.org/entity/Q5117895'), ('notableworkLabel', 'Church of the Holy Cross')]\n",
      "[('americanar', 'http://www.wikidata.org/entity/Q5346422'), ('americanarLabel', 'Edwin Forrest Durang'), ('notablework', 'http://www.wikidata.org/entity/Q5117958'), ('notableworkLabel', 'Church of the Immaculate Conception')]\n",
      "[('americanar', 'http://www.wikidata.org/entity/Q8017967'), ('americanarLabel', 'William S. Kaufman'), ('notablework', 'http://www.wikidata.org/entity/Q5120205'), ('notableworkLabel', 'Cincinnati, Richmond, & Muncie Depot')]\n",
      "[('americanar', 'http://www.wikidata.org/entity/Q5079833'), ('americanarLabel', 'Charles Klauder'), ('notablework', 'http://www.wikidata.org/entity/Q5700795'), ('notableworkLabel', 'Heinz Memorial Chapel')]\n",
      "[('americanar', 'http://www.wikidata.org/entity/Q5079833'), ('americanarLabel', 'Charles Klauder'), ('notablework', 'http://www.wikidata.org/entity/Q7127443'), ('notableworkLabel', 'Palestra')]\n",
      "[('americanar', 'http://www.wikidata.org/entity/Q5079833'), ('americanarLabel', 'Charles Klauder'), ('notablework', 'http://www.wikidata.org/entity/Q797017'), ('notableworkLabel', 'Cathedral of Learning')]\n",
      "[('americanar', 'http://www.wikidata.org/entity/Q470765'), ('americanarLabel', 'James Hoban'), ('notablework', 'http://www.wikidata.org/entity/Q35525'), ('notableworkLabel', 'White House')]\n",
      "[('americanar', 'http://www.wikidata.org/entity/Q2066635'), ('americanarLabel', 'Richard Upjohn'), ('notablework', 'http://www.wikidata.org/entity/Q866896'), ('notableworkLabel', 'Trinity Church')]\n",
      "[('americanar', 'http://www.wikidata.org/entity/Q8017967'), ('americanarLabel', 'William S. Kaufman'), ('notablework', 'http://www.wikidata.org/entity/Q7976139'), ('notableworkLabel', 'Wayne County Courthouse')]\n",
      "[('americanar', 'http://www.wikidata.org/entity/Q6180936'), ('americanarLabel', \"Jeremiah O'Rourke\"), ('notablework', 'http://www.wikidata.org/entity/Q8342804'), ('notableworkLabel', 'Cathedral Basilica of the Sacred Heart')]\n",
      "[('americanar', 'http://www.wikidata.org/entity/Q6180936'), ('americanarLabel', \"Jeremiah O'Rourke\"), ('notablework', 'http://www.wikidata.org/entity/Q7084763'), ('notableworkLabel', 'Old Post Office')]\n",
      "[('americanar', 'http://www.wikidata.org/entity/Q8023052'), ('americanarLabel', 'Wilson Eyre'), ('notablework', 'http://www.wikidata.org/entity/Q7587649'), ('notableworkLabel', \"St. Columba's Chapel\")]\n",
      "[('americanar', 'http://www.wikidata.org/entity/Q369263'), ('americanarLabel', 'John Trumbull'), ('notablework', 'http://www.wikidata.org/entity/Q7729430'), ('notableworkLabel', \"The Death of General Warren at the Battle of Bunker's Hill, June 17, 1775\")]\n",
      "[('americanar', 'http://www.wikidata.org/entity/Q6180936'), ('americanarLabel', \"Jeremiah O'Rourke\"), ('notablework', 'http://www.wikidata.org/entity/Q1141542'), ('notableworkLabel', 'Old Post Office')]\n",
      "[('americanar', 'http://www.wikidata.org/entity/Q6180936'), ('americanarLabel', \"Jeremiah O'Rourke\"), ('notablework', 'http://www.wikidata.org/entity/Q19866795'), ('notableworkLabel', 'Columbus Hall')]\n",
      "[('americanar', 'http://www.wikidata.org/entity/Q6180936'), ('americanarLabel', \"Jeremiah O'Rourke\"), ('notablework', 'http://www.wikidata.org/entity/Q5052443'), ('notableworkLabel', 'Cathedral of the Immaculate Conception')]\n",
      "[('americanar', 'http://www.wikidata.org/entity/Q6180936'), ('americanarLabel', \"Jeremiah O'Rourke\"), ('notablework', 'http://www.wikidata.org/entity/Q7401811'), ('notableworkLabel', \"Saint Mary's Catholic Church Complex\")]\n",
      "[('americanar', 'http://www.wikidata.org/entity/Q6180936'), ('americanarLabel', \"Jeremiah O'Rourke\"), ('notablework', 'http://www.wikidata.org/entity/Q7591285'), ('notableworkLabel', 'St. Paul the Apostle Church')]\n",
      "[('americanar', 'http://www.wikidata.org/entity/Q369263'), ('americanarLabel', 'John Trumbull'), ('notablework', 'http://www.wikidata.org/entity/Q49281539'), ('notableworkLabel', 'The Death of General Montgomery in the Attack on Quebec,  December 31,\\xa01775')]\n",
      "[('americanar', 'http://www.wikidata.org/entity/Q369263'), ('americanarLabel', 'John Trumbull'), ('notablework', 'http://www.wikidata.org/entity/Q3173195'), ('notableworkLabel', 'Declaration of Independence')]\n",
      "[('americanar', 'http://www.wikidata.org/entity/Q369263'), ('americanarLabel', 'John Trumbull'), ('notablework', 'http://www.wikidata.org/entity/Q7646706'), ('notableworkLabel', 'Surrender of General Burgoyne')]\n",
      "[('americanar', 'http://www.wikidata.org/entity/Q369263'), ('americanarLabel', 'John Trumbull'), ('notablework', 'http://www.wikidata.org/entity/Q3212180'), ('notableworkLabel', 'Surrender of Lord Cornwallis')]\n",
      "[('americanar', 'http://www.wikidata.org/entity/Q369263'), ('americanarLabel', 'John Trumbull'), ('notablework', 'http://www.wikidata.org/entity/Q28092758'), ('notableworkLabel', 'The Capture of the Hessians at Trenton, December 26, 1776')]\n",
      "[('americanar', 'http://www.wikidata.org/entity/Q369263'), ('americanarLabel', 'John Trumbull'), ('notablework', 'http://www.wikidata.org/entity/Q29052300'), ('notableworkLabel', \"Washington at Verplanck's Point\")]\n",
      "[('americanar', 'http://www.wikidata.org/entity/Q369263'), ('americanarLabel', 'John Trumbull'), ('notablework', 'http://www.wikidata.org/entity/Q21886069'), ('notableworkLabel', 'The Death of General Mercer at the Battle of Princeton, January 3, 1777')]\n",
      "[('americanar', 'http://www.wikidata.org/entity/Q369263'), ('americanarLabel', 'John Trumbull'), ('notablework', 'http://www.wikidata.org/entity/Q28100789'), ('notableworkLabel', 'General George Washington at Trenton')]\n",
      "[('americanar', 'http://www.wikidata.org/entity/Q369263'), ('americanarLabel', 'John Trumbull'), ('notablework', 'http://www.wikidata.org/entity/Q43753419'), ('notableworkLabel', 'General George Washington Resigning His Commission')]\n",
      "[('americanar', 'http://www.wikidata.org/entity/Q95330'), ('americanarLabel', 'James Ingo Freed'), ('notablework', 'http://www.wikidata.org/entity/Q564793'), ('notableworkLabel', 'Jacob K. Javits Convention Center')]\n",
      "[('americanar', 'http://www.wikidata.org/entity/Q174402'), ('americanarLabel', 'Louise Blanchard Bethune'), ('notablework', 'http://www.wikidata.org/entity/Q14706204'), ('notableworkLabel', 'Buffalo Meter Company Building')]\n",
      "[('americanar', 'http://www.wikidata.org/entity/Q174402'), ('americanarLabel', 'Louise Blanchard Bethune'), ('notablework', 'http://www.wikidata.org/entity/Q5911675'), ('notableworkLabel', 'Hotel Lafayette')]\n",
      "[('americanar', 'http://www.wikidata.org/entity/Q159612'), ('americanarLabel', 'Richard Meier'), ('notablework', 'http://www.wikidata.org/entity/Q7474100'), ('notableworkLabel', 'city hall of The Hague')]\n",
      "[('americanar', 'http://www.wikidata.org/entity/Q59510574'), ('americanarLabel', 'William J Conklin'), ('notablework', 'http://www.wikidata.org/entity/Q1375280'), ('notableworkLabel', 'Reston')]\n",
      "[('americanar', 'http://www.wikidata.org/entity/Q2851305'), ('americanarLabel', 'Anne Tyng'), ('notablework', 'http://www.wikidata.org/entity/Q1568434'), ('notableworkLabel', 'Yale University Art Gallery')]\n",
      "[('americanar', 'http://www.wikidata.org/entity/Q159612'), ('americanarLabel', 'Richard Meier'), ('notablework', 'http://www.wikidata.org/entity/Q29247'), ('notableworkLabel', 'Getty Center')]\n",
      "[('americanar', 'http://www.wikidata.org/entity/Q2851305'), ('americanarLabel', 'Anne Tyng'), ('notablework', 'http://www.wikidata.org/entity/Q1351061'), ('notableworkLabel', 'Salk Institute for Biological Studies')]\n",
      "[('americanar', 'http://www.wikidata.org/entity/Q59510574'), ('americanarLabel', 'William J Conklin'), ('notablework', 'http://www.wikidata.org/entity/Q167697'), ('notableworkLabel', 'United States Navy Memorial')]\n",
      "[('americanar', 'http://www.wikidata.org/entity/Q940298'), ('americanarLabel', 'Richard Morris Hunt'), ('notablework', 'http://www.wikidata.org/entity/Q585521'), ('notableworkLabel', 'Biltmore Estate')]\n",
      "[('americanar', 'http://www.wikidata.org/entity/Q2851305'), ('americanarLabel', 'Anne Tyng'), ('notablework', 'http://www.wikidata.org/entity/Q7838548'), ('notableworkLabel', 'Trenton Bath House')]\n",
      "[('americanar', 'http://www.wikidata.org/entity/Q261174'), ('americanarLabel', 'Joseph Strauss'), ('notablework', 'http://www.wikidata.org/entity/Q1822180'), ('notableworkLabel', 'Lewis and Clark Bridge')]\n",
      "[('americanar', 'http://www.wikidata.org/entity/Q261174'), ('americanarLabel', 'Joseph Strauss'), ('notablework', 'http://www.wikidata.org/entity/Q44440'), ('notableworkLabel', 'Golden Gate Bridge')]\n",
      "[('americanar', 'http://www.wikidata.org/entity/Q261174'), ('americanarLabel', 'Joseph Strauss'), ('notablework', 'http://www.wikidata.org/entity/Q5092482'), ('notableworkLabel', 'Cherry Street Strauss Trunnion Bascule Bridge')]\n",
      "[('americanar', 'http://www.wikidata.org/entity/Q314636'), ('americanarLabel', 'Michael Graves'), ('notablework', 'http://www.wikidata.org/entity/Q2279511'), ('notableworkLabel', \"Disney's Hotel New York\")]\n",
      "[('americanar', 'http://www.wikidata.org/entity/Q314636'), ('americanarLabel', 'Michael Graves'), ('notablework', 'http://www.wikidata.org/entity/Q3516698'), ('notableworkLabel', 'Team Disney')]\n",
      "[('americanar', 'http://www.wikidata.org/entity/Q314636'), ('americanarLabel', 'Michael Graves'), ('notablework', 'http://www.wikidata.org/entity/Q3565653'), ('notableworkLabel', 'Walt Disney World Swan')]\n",
      "[('americanar', 'http://www.wikidata.org/entity/Q360394'), ('americanarLabel', 'Antoine Predock'), ('notablework', 'http://www.wikidata.org/entity/Q1194586'), ('notableworkLabel', 'Petco Park')]\n",
      "[('americanar', 'http://www.wikidata.org/entity/Q432856'), ('americanarLabel', 'Saul Steinberg'), ('notablework', 'http://www.wikidata.org/entity/Q7928780'), ('notableworkLabel', 'View of the World from 9th Avenue')]\n",
      "[('americanar', 'http://www.wikidata.org/entity/Q21177550'), ('americanarLabel', 'Elinor Mead Howells'), ('notablework', 'http://www.wikidata.org/entity/Q8007718'), ('notableworkLabel', 'William Dean Howells House')]\n",
      "[('americanar', 'http://www.wikidata.org/entity/Q745903'), ('americanarLabel', 'Raymond Hood'), ('notablework', 'http://www.wikidata.org/entity/Q2143136'), ('notableworkLabel', 'Tribune Tower')]\n",
      "[('americanar', 'http://www.wikidata.org/entity/Q3154610'), ('americanarLabel', 'Irving Gill'), ('notablework', 'http://www.wikidata.org/entity/Q4745595'), ('notableworkLabel', 'Americanization School')]\n",
      "[('americanar', 'http://www.wikidata.org/entity/Q316639'), ('americanarLabel', 'Daniel Burnham'), ('notablework', 'http://www.wikidata.org/entity/Q3570'), ('notableworkLabel', 'Washington Union Station')]\n",
      "[('americanar', 'http://www.wikidata.org/entity/Q316639'), ('americanarLabel', 'Daniel Burnham'), ('notablework', 'http://www.wikidata.org/entity/Q220728'), ('notableworkLabel', 'Flatiron Building')]\n",
      "[('americanar', 'http://www.wikidata.org/entity/Q316639'), ('americanarLabel', 'Daniel Burnham'), ('notablework', 'http://www.wikidata.org/entity/Q786387'), ('notableworkLabel', 'Reliance Building')]\n",
      "[('americanar', 'http://www.wikidata.org/entity/Q316639'), ('americanarLabel', 'Daniel Burnham'), ('notablework', 'http://www.wikidata.org/entity/Q5448382'), ('notableworkLabel', \"Filene's Department Store\")]\n",
      "[('americanar', 'http://www.wikidata.org/entity/Q7146917'), ('americanarLabel', 'Patrick Charles Keely'), ('notablework', 'http://www.wikidata.org/entity/Q7590972'), ('notableworkLabel', \"Saint Patrick's Roman Catholic Church\")]\n",
      "[('americanar', 'http://www.wikidata.org/entity/Q57588'), ('americanarLabel', 'Marcel Breuer'), ('notablework', 'http://www.wikidata.org/entity/Q105724647'), ('notableworkLabel', '945 Madison Avenue')]\n",
      "[('americanar', 'http://www.wikidata.org/entity/Q57588'), ('americanarLabel', 'Marcel Breuer'), ('notablework', 'http://www.wikidata.org/entity/Q2820565'), ('notableworkLabel', \"Saint John's Abbey\")]\n",
      "[('americanar', 'http://www.wikidata.org/entity/Q57588'), ('americanarLabel', 'Marcel Breuer'), ('notablework', 'http://www.wikidata.org/entity/Q17369491'), ('notableworkLabel', 'Office buildings in Amstelveen')]\n",
      "[('americanar', 'http://www.wikidata.org/entity/Q7146917'), ('americanarLabel', 'Patrick Charles Keely'), ('notablework', 'http://www.wikidata.org/entity/Q7590651'), ('notableworkLabel', \"St. Michael's Cathedral\")]\n",
      "[('americanar', 'http://www.wikidata.org/entity/Q316639'), ('americanarLabel', 'Daniel Burnham'), ('notablework', 'http://www.wikidata.org/entity/Q5365313'), ('notableworkLabel', 'Ellicott Square Building')]\n",
      "[('americanar', 'http://www.wikidata.org/entity/Q7146917'), ('americanarLabel', 'Patrick Charles Keely'), ('notablework', 'http://www.wikidata.org/entity/Q2942887'), ('notableworkLabel', 'Cathedral of the Holy Cross')]\n",
      "[('americanar', 'http://www.wikidata.org/entity/Q7146917'), ('americanarLabel', 'Patrick Charles Keely'), ('notablework', 'http://www.wikidata.org/entity/Q7591706'), ('notableworkLabel', 'St. Stanislaus Kostka Church')]\n",
      "[('americanar', 'http://www.wikidata.org/entity/Q5531480'), ('americanarLabel', 'Gene Stratton-Porter'), ('notablework', 'http://www.wikidata.org/entity/Q4657049'), ('notableworkLabel', 'A Girl of the Limberlost')]\n",
      "[('americanar', 'http://www.wikidata.org/entity/Q5238900'), ('americanarLabel', 'David Randall Hertz'), ('notablework', 'http://www.wikidata.org/entity/Q4643333'), ('notableworkLabel', '747 Wing House')]\n",
      "[('americanar', 'http://www.wikidata.org/entity/Q457718'), ('americanarLabel', 'Denise Scott Brown'), ('notablework', 'http://www.wikidata.org/entity/Q3816734'), ('notableworkLabel', 'Allen Memorial Art Museum')]\n",
      "[('americanar', 'http://www.wikidata.org/entity/Q4831480'), ('americanarLabel', 'Aymar Embury II'), ('notablework', 'http://www.wikidata.org/entity/Q5276932'), ('notableworkLabel', 'Dillon Gymnasium')]\n",
      "[('americanar', 'http://www.wikidata.org/entity/Q167073'), ('americanarLabel', 'Eero Saarinen'), ('notablework', 'http://www.wikidata.org/entity/Q2640560'), ('notableworkLabel', 'CBS Building')]\n",
      "[('americanar', 'http://www.wikidata.org/entity/Q3048508'), ('americanarLabel', 'Edward Durell Stone'), ('notablework', 'http://www.wikidata.org/entity/Q6815420'), ('notableworkLabel', 'Memorial Gymnasium')]\n",
      "[('americanar', 'http://www.wikidata.org/entity/Q7959007'), ('americanarLabel', 'Waddy Butler Wood'), ('notablework', 'http://www.wikidata.org/entity/Q5328005'), ('notableworkLabel', 'East Capitol Street Car Barn')]\n",
      "[('americanar', 'http://www.wikidata.org/entity/Q167073'), ('americanarLabel', 'Eero Saarinen'), ('notablework', 'http://www.wikidata.org/entity/Q2027162'), ('notableworkLabel', 'Gateway Arch')]\n",
      "[('americanar', 'http://www.wikidata.org/entity/Q6234722'), ('americanarLabel', 'John Galen Howard'), ('notablework', 'http://www.wikidata.org/entity/Q1026837'), ('notableworkLabel', 'California Memorial Stadium')]\n",
      "[('americanar', 'http://www.wikidata.org/entity/Q21136416'), ('americanarLabel', 'Georgina Pope Yeatman'), ('notablework', 'http://www.wikidata.org/entity/Q7182808'), ('notableworkLabel', 'Philadelphia School of Occupational Therapy')]\n",
      "[('americanar', 'http://www.wikidata.org/entity/Q1225543'), ('americanarLabel', 'Elizabeth Diller'), ('notablework', 'http://www.wikidata.org/entity/Q843869'), ('notableworkLabel', 'High Line')]\n",
      "[('americanar', 'http://www.wikidata.org/entity/Q5531480'), ('americanarLabel', 'Gene Stratton-Porter'), ('notablework', 'http://www.wikidata.org/entity/Q5494338'), ('notableworkLabel', 'Freckles')]\n",
      "[('americanar', 'http://www.wikidata.org/entity/Q167073'), ('americanarLabel', 'Eero Saarinen'), ('notablework', 'http://www.wikidata.org/entity/Q13638055'), ('notableworkLabel', 'Ingalls Rink')]\n",
      "[('americanar', 'http://www.wikidata.org/entity/Q20675759'), ('americanarLabel', 'Harold E. Wagoner'), ('notablework', 'http://www.wikidata.org/entity/Q7889201'), ('notableworkLabel', 'United States Air Force Academy Cadet Chapel')]\n",
      "[('americanar', 'http://www.wikidata.org/entity/Q1857855'), ('americanarLabel', 'Morris Lapidus'), ('notablework', 'http://www.wikidata.org/entity/Q1435790'), ('notableworkLabel', 'Fontainebleau Miami Beach')]\n",
      "[('americanar', 'http://www.wikidata.org/entity/Q7079909'), ('americanarLabel', 'Ogden Codman, Jr.'), ('notablework', 'http://www.wikidata.org/entity/Q1495042'), ('notableworkLabel', 'Villa Leopolda')]\n",
      "[('americanar', 'http://www.wikidata.org/entity/Q1225543'), ('americanarLabel', 'Elizabeth Diller'), ('notablework', 'http://www.wikidata.org/entity/Q15264301'), ('notableworkLabel', '15 Hudson Yards')]\n",
      "[('americanar', 'http://www.wikidata.org/entity/Q7926369'), ('americanarLabel', 'Victor Steinbrueck'), ('notablework', 'http://www.wikidata.org/entity/Q5317'), ('notableworkLabel', 'Space Needle')]\n",
      "[('americanar', 'http://www.wikidata.org/entity/Q347215'), ('americanarLabel', 'Minoru Yamasaki'), ('notablework', 'http://www.wikidata.org/entity/Q11235'), ('notableworkLabel', 'World Trade Center')]\n",
      "[('americanar', 'http://www.wikidata.org/entity/Q764692'), ('americanarLabel', 'John C. Portman Jr.'), ('notablework', 'http://www.wikidata.org/entity/Q1541365'), ('notableworkLabel', 'Renaissance Center')]\n",
      "[('americanar', 'http://www.wikidata.org/entity/Q764692'), ('americanarLabel', 'John C. Portman Jr.'), ('notablework', 'http://www.wikidata.org/entity/Q5952861'), ('notableworkLabel', 'Hyatt Regency Atlanta')]\n",
      "[('americanar', 'http://www.wikidata.org/entity/Q433471'), ('americanarLabel', 'Vito Acconci'), ('notablework', 'http://www.wikidata.org/entity/Q7962578'), ('notableworkLabel', 'Walkways Through the Wall')]\n",
      "[('americanar', 'http://www.wikidata.org/entity/Q347215'), ('americanarLabel', 'Minoru Yamasaki'), ('notablework', 'http://www.wikidata.org/entity/Q3500463'), ('notableworkLabel', 'BOK Tower')]\n",
      "[('americanar', 'http://www.wikidata.org/entity/Q347215'), ('americanarLabel', 'Minoru Yamasaki'), ('notablework', 'http://www.wikidata.org/entity/Q6801459'), ('notableworkLabel', 'McGregor Memorial Conference Center')]\n",
      "[('americanar', 'http://www.wikidata.org/entity/Q698436'), ('americanarLabel', 'Dan Graham'), ('notablework', 'http://www.wikidata.org/entity/Q17518433'), ('notableworkLabel', 'Nouveau Labyrinthe pour Nantes')]\n",
      "[('americanar', 'http://www.wikidata.org/entity/Q698436'), ('americanarLabel', 'Dan Graham'), ('notablework', 'http://www.wikidata.org/entity/Q3088245'), ('notableworkLabel', 'From Boullée to Eternity')]\n",
      "[('americanar', 'http://www.wikidata.org/entity/Q698436'), ('americanarLabel', 'Dan Graham'), ('notablework', 'http://www.wikidata.org/entity/Q18562368'), ('notableworkLabel', 'Untitled')]\n"
     ]
    },
    {
     "data": {
      "text/plain": [
       "100"
      ]
     },
     "execution_count": 43,
     "metadata": {},
     "output_type": "execute_result"
    }
   ],
   "source": [
    "# 1. find the names of the building\n",
    "# 2. the names of the architect + their works\n",
    "\n",
    "queryString = \"\"\"\n",
    "\n",
    "    SELECT DISTINCT ?americanar ?americanarLabel ?notablework ?notableworkLabel\n",
    "    WHERE { \n",
    "        ?americanar wdt:P27 wd:Q30  . \n",
    "        ?americanar wdt:P106 wd:Q42973 .\n",
    "        ?americanar wdt:P800 ?notablework .\n",
    "        # ?work wdt:P84 ?americanarchitect .\n",
    "        \n",
    "        ## labels\n",
    "        ?americanar <http://schema.org/name> ?americanarLabel .\n",
    "        ?notablework <http://schema.org/name> ?notableworkLabel .\n",
    "\n",
    "    #  SERVICE wikibase:label { bd:serviceParam wikibase:language \"en\". }\n",
    "    } \n",
    "    LIMIT 100\n",
    "    \n",
    "\n",
    "\"\"\"\n",
    "\n",
    "print(\"Results\")\n",
    "run_query(queryString)\n",
    "\n"
   ]
  },
  {
   "cell_type": "code",
   "execution_count": 44,
   "id": "5bd556eb-20ea-4218-ad03-ac76d263337c",
   "metadata": {},
   "outputs": [
    {
     "name": "stdout",
     "output_type": "stream",
     "text": [
      "Results\n",
      "[('countwork', '244')]\n"
     ]
    },
    {
     "data": {
      "text/plain": [
       "1"
      ]
     },
     "execution_count": 44,
     "metadata": {},
     "output_type": "execute_result"
    }
   ],
   "source": [
    "## count the works of each artists\n",
    "# but first count the number of works by one of the artists\n",
    "\n",
    "# the number of works by 'Frank Lloyd wright'\n",
    "\n",
    "queryString = \"\"\"\n",
    "\n",
    "    SELECT (COUNT (DISTINCT ?work) AS ?countwork) WHERE{\n",
    "      ?work wdt:P84 wd:Q5604 .\n",
    "      \n",
    "       ## labels\n",
    "        #?p <http://schema.org/name> ?pLabel .\n",
    "        #?o <http://schema.org/name> ?oLabel .\n",
    "\n",
    "    }\n",
    "\n",
    "\"\"\"\n",
    "\n",
    "print(\"Results\")\n",
    "run_query(queryString)\n",
    "\n"
   ]
  },
  {
   "cell_type": "code",
   "execution_count": 45,
   "id": "7b5bbf7b-6484-42cc-ad75-39c3bc2366bb",
   "metadata": {},
   "outputs": [
    {
     "name": "stdout",
     "output_type": "stream",
     "text": [
      "Results\n",
      "[('americanarchitectLabel', 'David Adler'), ('workLabel', 'Mrs. Isaac D. Adler House')]\n",
      "[('americanarchitectLabel', 'C. Howard Crane'), ('workLabel', 'World Theater')]\n",
      "[('americanarchitectLabel', 'Charles E. Choate'), ('workLabel', 'Tennille Banking Company Building')]\n",
      "[('americanarchitectLabel', 'George I. Barnett'), ('workLabel', 'Samuel Moody Grubbs House')]\n",
      "[('americanarchitectLabel', 'Henry Franklin Kilburn'), ('workLabel', 'Pabst Hotel')]\n",
      "[('americanarchitectLabel', 'Matthew Del Gaudio'), ('workLabel', 'Our Lady of Pompeii Church')]\n",
      "[('americanarchitectLabel', 'Sheperd S. Woodcock'), ('workLabel', 'First Baptist Church of Scituate')]\n",
      "[('americanarchitectLabel', 'Ivey P. Crutchfield'), ('workLabel', 'Peterson-Wilbanks House')]\n",
      "[('americanarchitectLabel', 'C. Howard Crane'), ('workLabel', 'Earls Court Exhibition Centre')]\n",
      "[('americanarchitectLabel', 'Marshall Strabala'), ('workLabel', 'Burj Khalifa')]\n",
      "[('americanarchitectLabel', 'C. Howard Crane'), ('workLabel', 'August Wilson Theatre')]\n",
      "[('americanarchitectLabel', 'C. Howard Crane'), ('workLabel', 'Metropolitan Theatre')]\n",
      "[('americanarchitectLabel', 'Theodate Pope Riddle'), ('workLabel', 'Theodore Roosevelt Birthplace National Historic Site')]\n",
      "[('americanarchitectLabel', 'Frederick L. Ackerman'), ('workLabel', 'Roulette Intermedium')]\n",
      "[('americanarchitectLabel', 'Theodate Pope Riddle'), ('workLabel', 'Hill-Stead Museum')]\n",
      "[('americanarchitectLabel', 'John Mead Howells'), ('workLabel', 'Daily News Building')]\n",
      "[('americanarchitectLabel', 'Mott B. Schmidt'), ('workLabel', '1088 Park Avenue')]\n",
      "[('americanarchitectLabel', 'Mott B. Schmidt'), ('workLabel', 'Emily Trevor House')]\n",
      "[('americanarchitectLabel', 'Richard Lewis Blinder'), ('workLabel', 'Lyric Theatre')]\n",
      "[('americanarchitectLabel', 'Gilmore David Clarke'), ('workLabel', 'Unisphere')]\n",
      "[('americanarchitectLabel', 'Walter T. Downing'), ('workLabel', 'Basilica of the Sacred Heart of Jesus')]\n",
      "[('americanarchitectLabel', 'Roscoe DeWitt'), ('workLabel', 'Ownby Stadium')]\n",
      "[('americanarchitectLabel', 'William H. McElfatrick'), ('workLabel', 'The Met')]\n",
      "[('americanarchitectLabel', 'George I. Barnett'), ('workLabel', 'Lindell Hotel')]\n",
      "[('americanarchitectLabel', 'Jefferson Coburn'), ('workLabel', 'First McGillicuddy Block')]\n",
      "[('americanarchitectLabel', 'John Mead Howells'), ('workLabel', 'Tribune Tower')]\n",
      "[('americanarchitectLabel', 'C. Howard Crane'), ('workLabel', 'Music Box Theatre')]\n",
      "[('americanarchitectLabel', 'George I. Barnett'), ('workLabel', 'Statue of Christopher Columbus')]\n",
      "[('americanarchitectLabel', 'C. Howard Crane'), ('workLabel', 'Majestic Theatre')]\n",
      "[('americanarchitectLabel', 'C. Howard Crane'), ('workLabel', 'Helen Lab Theatre')]\n",
      "[('americanarchitectLabel', 'C. Howard Crane'), ('workLabel', 'Warner Theatre')]\n",
      "[('americanarchitectLabel', 'C. Howard Crane'), ('workLabel', 'Detroit Olympia')]\n",
      "[('americanarchitectLabel', 'George I. Barnett'), ('workLabel', \"Missouri Governor's Mansion\")]\n",
      "[('americanarchitectLabel', 'C. Howard Crane'), ('workLabel', 'Allen Theatre')]\n",
      "[('americanarchitectLabel', 'Walter T. Downing'), ('workLabel', 'Wimbish House')]\n",
      "[('americanarchitectLabel', 'Henry Monheim'), ('workLabel', 'Emanuel Kahn House')]\n",
      "[('americanarchitectLabel', 'C. Howard Crane'), ('workLabel', 'Emerald Theatre')]\n",
      "[('americanarchitectLabel', 'Sheperd S. Woodcock'), ('workLabel', 'Grace United Methodist Church')]\n",
      "[('americanarchitectLabel', 'Ivey P. Crutchfield'), ('workLabel', 'Leader–Rosansky House')]\n",
      "[('americanarchitectLabel', 'Charles E. Choate'), ('workLabel', 'Charles Madden House')]\n",
      "[('americanarchitectLabel', 'George I. Barnett'), ('workLabel', 'Grand Avenue Water Tower')]\n",
      "[('americanarchitectLabel', 'Abraham Wesley Eager'), ('workLabel', 'Auditorium (Torrance High School)')]\n",
      "[('americanarchitectLabel', 'C. Howard Crane'), ('workLabel', 'Film Exchange Building')]\n",
      "[('americanarchitectLabel', 'C. Howard Crane'), ('workLabel', 'Orchestra Hall')]\n",
      "[('americanarchitectLabel', 'C. Howard Crane'), ('workLabel', 'Lafayette Building')]\n",
      "[('americanarchitectLabel', 'Walter T. Downing'), ('workLabel', 'Sam Jones Memorial United Methodist Church')]\n",
      "[('americanarchitectLabel', 'C. Howard Crane'), ('workLabel', 'LeVeque Tower')]\n",
      "[('americanarchitectLabel', 'Ambrose J. Russell'), ('workLabel', 'Landmark Convention Center')]\n",
      "[('americanarchitectLabel', 'Ivey P. Crutchfield'), ('workLabel', 'Robert and Missouri Garbutt House')]\n",
      "[('americanarchitectLabel', 'George I. Barnett'), ('workLabel', 'Oakland House')]\n",
      "[('americanarchitectLabel', 'George I. Barnett'), ('workLabel', 'Tower Grove House')]\n",
      "[('americanarchitectLabel', 'David Adler'), ('workLabel', 'Lester Armour House')]\n",
      "[('americanarchitectLabel', 'Mott B. Schmidt'), ('workLabel', 'Elizabeth Arden Building')]\n",
      "[('americanarchitectLabel', 'William H. McElfatrick'), ('workLabel', 'Columbia Theatre')]\n",
      "[('americanarchitectLabel', 'Charles E. Choate'), ('workLabel', 'Tennille Baptist Church')]\n",
      "[('americanarchitectLabel', 'Frederick L. Ackerman'), ('workLabel', 'First Houses')]\n",
      "[('americanarchitectLabel', 'Frederick L. Ackerman'), ('workLabel', 'Elizabeth C. Quinlan House')]\n",
      "[('americanarchitectLabel', 'Benjamin H. Marshall'), ('workLabel', 'Edgewater Beach Hotel')]\n",
      "[('americanarchitectLabel', 'David Adler'), ('workLabel', 'Dewey House')]\n",
      "[('americanarchitectLabel', 'Mott B. Schmidt'), ('workLabel', '655 Park Avenue')]\n",
      "[('americanarchitectLabel', 'George I. Barnett'), ('workLabel', 'St. Mary of Victories Church')]\n",
      "[('americanarchitectLabel', 'Sheperd S. Woodcock'), ('workLabel', 'Jefferson School')]\n",
      "[('americanarchitectLabel', 'C. Howard Crane'), ('workLabel', 'The Fillmore Detroit')]\n",
      "[('americanarchitectLabel', 'George I. Barnett'), ('workLabel', \"Barnum's St. Louis Hotel\")]\n",
      "[('americanarchitectLabel', 'C. Howard Crane'), ('workLabel', 'United Artists Theatre Building')]\n",
      "[('americanarchitectLabel', 'C. Howard Crane'), ('workLabel', 'Fox Theatre')]\n",
      "[('americanarchitectLabel', 'Jack West'), ('workLabel', 'Nokomis Beach Pavilion')]\n",
      "[('americanarchitectLabel', 'Charles E. Choate'), ('workLabel', 'Holt Brothers Banking Company Building')]\n",
      "[('americanarchitectLabel', 'Charles E. Choate'), ('workLabel', 'First Methodist Episcopal Church')]\n",
      "[('americanarchitectLabel', 'C. Howard Crane'), ('workLabel', 'Somerset Apartments')]\n",
      "[('americanarchitectLabel', 'Francis Willford Fitzpatrick'), ('workLabel', 'Johnston Memorial Building')]\n",
      "[('americanarchitectLabel', 'Ivey P. Crutchfield'), ('workLabel', 'Crawford W. Brazell House')]\n",
      "[('americanarchitectLabel', 'Frederick L. Ackerman'), ('workLabel', 'Young–Quinlan Building')]\n",
      "[('americanarchitectLabel', 'John A. Fox'), ('workLabel', 'Home for Aged Couples')]\n",
      "[('americanarchitectLabel', 'John Mead Howells'), ('workLabel', 'Beekman Tower')]\n",
      "[('americanarchitectLabel', 'David Adler'), ('workLabel', 'Mrs. C. Morse Ely House')]\n",
      "[('americanarchitectLabel', 'George I. Barnett'), ('workLabel', 'Southern Hotel')]\n",
      "[('americanarchitectLabel', 'Charles E. Choate'), ('workLabel', 'James Kelley House')]\n",
      "[('americanarchitectLabel', 'James J. Gaffney'), ('workLabel', 'Waverly Hills Sanatorium')]\n",
      "[('americanarchitectLabel', 'George R. Mann'), ('workLabel', 'Arkansas State Capitol')]\n",
      "[('americanarchitectLabel', 'Joseph Younger'), ('workLabel', 'Kennedy-Warren Apartment Building')]\n",
      "[('americanarchitectLabel', 'Charles Klauder'), ('workLabel', 'Rec Hall')]\n",
      "[('americanarchitectLabel', 'Charles Pratt Huntington'), ('workLabel', 'Audubon Terrace')]\n",
      "[('americanarchitectLabel', 'Linn A. Forrest'), ('workLabel', 'Chapel by the Lake')]\n",
      "[('americanarchitectLabel', 'Harold Spitznagel'), ('workLabel', 'Chapel in the Hills')]\n",
      "[('americanarchitectLabel', 'William M. Whidden'), ('workLabel', 'Charles Crook House')]\n",
      "[('americanarchitectLabel', 'George Oakley Totten, Jr.'), ('workLabel', 'Charles Evans Hughes House')]\n",
      "[('americanarchitectLabel', 'Wilson Eyre'), ('workLabel', 'Charles Lang Freer House')]\n",
      "[('americanarchitectLabel', 'George O. Garnsey'), ('workLabel', 'Charles O. Boynton House')]\n",
      "[('americanarchitectLabel', 'James Hoban'), ('workLabel', 'Charleston County Courthouse')]\n",
      "[('americanarchitectLabel', 'William Lescaze'), ('workLabel', 'Chatham Center')]\n",
      "[('americanarchitectLabel', 'John J. Huddart'), ('workLabel', 'Cheyenne County Courthouse')]\n",
      "[('americanarchitectLabel', 'James B. Cook'), ('workLabel', 'Church of Our Saviour')]\n",
      "[('americanarchitectLabel', 'Frederick Corser'), ('workLabel', 'Church of Saint Stephen')]\n",
      "[('americanarchitectLabel', 'John Jager'), ('workLabel', 'Church of St. Bernard')]\n",
      "[('americanarchitectLabel', 'Philip H. Frohman'), ('workLabel', \"Church of St. Paul's, K Street\")]\n",
      "[('americanarchitectLabel', 'James J. Egan'), ('workLabel', 'Church of St. Thomas the Apostle')]\n",
      "[('americanarchitectLabel', 'Robert J. Reiley'), ('workLabel', 'Church of the Blessed Sacrament')]\n",
      "[('americanarchitectLabel', 'Marion Sims Wyeth'), ('workLabel', 'Church of the Epiphany')]\n",
      "[('americanarchitectLabel', 'Richard Upjohn'), ('workLabel', 'Church of the Holy Comforter')]\n"
     ]
    },
    {
     "data": {
      "text/plain": [
       "100"
      ]
     },
     "execution_count": 45,
     "metadata": {},
     "output_type": "execute_result"
    }
   ],
   "source": [
    "\n",
    "### and join them with this one:\n",
    "\n",
    "\n",
    "queryString = \"\"\"\n",
    "\n",
    "    SELECT DISTINCT ?americanarchitectLabel ?workLabel\n",
    "    WHERE { \n",
    "        ?work wdt:P84 ?americanarchitect .\n",
    "        ?americanarchitect wdt:P27 wd:Q30  . \n",
    "        ?americanarchitect wdt:P106 wd:Q42973 .\n",
    "        \n",
    "        \n",
    "        ## labels\n",
    "        ?americanarchitect <http://schema.org/name> ?americanarchitectLabel .\n",
    "        ?work <http://schema.org/name> ?workLabel .\n",
    "        \n",
    "        \n",
    "      # SERVICE wikibase:label { bd:serviceParam wikibase:language \"en\". }\n",
    "    } \n",
    "    LIMIT 100\n",
    "\n",
    "\"\"\"\n",
    "\n",
    "print(\"Results\")\n",
    "run_query(queryString)\n",
    "\n",
    "\n",
    "\n",
    "\n",
    "\n",
    "\n"
   ]
  },
  {
   "cell_type": "markdown",
   "id": "114877b6-b566-4edb-8a14-3fe8e67aa8a6",
   "metadata": {},
   "source": [
    "# Which architect is the most prolific in the U.S. and outside?"
   ]
  },
  {
   "cell_type": "code",
   "execution_count": 46,
   "id": "bbae3fe0-e06e-4eb2-a3f7-ab98b5eb78c4",
   "metadata": {},
   "outputs": [
    {
     "name": "stdout",
     "output_type": "stream",
     "text": [
      "Results\n",
      "[('americanarchitectLabel', 'Frank Lloyd Wright'), ('countwork', '244')]\n"
     ]
    },
    {
     "data": {
      "text/plain": [
       "1"
      ]
     },
     "execution_count": 46,
     "metadata": {},
     "output_type": "execute_result"
    }
   ],
   "source": [
    "# final BGP\n",
    "\n",
    "\n",
    "queryString = \"\"\"\n",
    "    SELECT ?americanarchitectLabel ?countwork WHERE {\n",
    "      {\n",
    "\n",
    "              SELECT ?americanarchitect (COUNT (DISTINCT ?work) AS ?countwork) WHERE\n",
    "              {\n",
    "              ?work wdt:P84 ?americanarchitect .\n",
    "              ?americanarchitect wdt:P27 wd:Q30  . \n",
    "              ?americanarchitect wdt:P106 wd:Q42973 .\n",
    "              # BIND (wdt:P84 AS ?prop) .\n",
    "            \n",
    "               }\n",
    "        GROUP BY ?americanarchitect\n",
    "      }  .\n",
    "  ?americanarchitect <http://schema.org/name> ?americanarchitectLabel .\n",
    "    }\n",
    "   \n",
    "    ORDER BY DESC(?countwork) ?americanarchitectLabel\n",
    "    LIMIT 1\n",
    "    #LIMIT 100\n",
    "\n",
    "\"\"\"\n",
    "\n",
    "print(\"Results\")\n",
    "run_query(queryString)"
   ]
  },
  {
   "cell_type": "code",
   "execution_count": 47,
   "id": "183b92b9-1f73-46eb-bcf0-95f479840cec",
   "metadata": {},
   "outputs": [
    {
     "name": "stdout",
     "output_type": "stream",
     "text": [
      "Results\n",
      "[('americanarchitectLabel', 'A. Lawrence Kocher'), ('countwork', '1')]\n",
      "[('americanarchitectLabel', 'A. T. Mann'), ('countwork', '1')]\n",
      "[('americanarchitectLabel', 'A. Wynn Howell'), ('countwork', '1')]\n",
      "[('americanarchitectLabel', 'A.E. Hanson'), ('countwork', '1')]\n",
      "[('americanarchitectLabel', 'A.G. Bauer'), ('countwork', '1')]\n",
      "[('americanarchitectLabel', 'Aaron Green'), ('countwork', '1')]\n",
      "[('americanarchitectLabel', 'Abraham H. Albertson'), ('countwork', '1')]\n",
      "[('americanarchitectLabel', 'Abraham Rogatnick'), ('countwork', '1')]\n",
      "[('americanarchitectLabel', 'Abraham William Hajjar'), ('countwork', '1')]\n",
      "[('americanarchitectLabel', 'Ada Bell Maescher'), ('countwork', '1')]\n"
     ]
    },
    {
     "data": {
      "text/plain": [
       "10"
      ]
     },
     "execution_count": 47,
     "metadata": {},
     "output_type": "execute_result"
    }
   ],
   "source": [
    "# and the artists who have the fewest works are:\n",
    "\n",
    "\n",
    "queryString = \"\"\"\n",
    "\n",
    "    SELECT ?americanarchitectLabel ?countwork WHERE {\n",
    "      {\n",
    "\n",
    "              SELECT ?americanarchitect (COUNT (DISTINCT ?work) AS ?countwork) WHERE\n",
    "              {\n",
    "              ?work ?prop ?americanarchitect .\n",
    "              ?americanarchitect wdt:P27 wd:Q30  . \n",
    "              ?americanarchitect wdt:P106 wd:Q42973 .\n",
    "               BIND (wdt:P84 AS ?prop) .\n",
    "               }\n",
    "        GROUP BY ?americanarchitect\n",
    "      } . \n",
    "      ?americanarchitect <http://schema.org/name> ?americanarchitectLabel .\n",
    "     # SERVICE wikibase:label {bd:serviceParam wikibase:language \"en\" .}\n",
    "    }\n",
    "    # HAVING (?count > 1)        ### use this to show only repeated values\n",
    "    ORDER BY ASC(?countwork) ?americanarchitectLabel\n",
    "    LIMIT 10\n",
    "\n",
    "\n",
    "\"\"\"\n",
    "\n",
    "print(\"Results\")\n",
    "run_query(queryString)\n",
    "\n",
    "\n",
    "\n",
    "\n",
    "\n"
   ]
  },
  {
   "cell_type": "markdown",
   "id": "ab4a06ed-4aed-4fae-a303-021eef066f07",
   "metadata": {},
   "source": [
    "## How many countries are or have been monarchies across continents?"
   ]
  },
  {
   "cell_type": "code",
   "execution_count": 48,
   "id": "ceb77503-86e3-423f-9a85-61d7683d3188",
   "metadata": {},
   "outputs": [
    {
     "name": "stdout",
     "output_type": "stream",
     "text": [
      "Results\n",
      "[('americanar', 'http://www.wikidata.org/entity/Q29093464'), ('americanarLabel', 'Ivey P. Crutchfield'), ('work', 'http://www.wikidata.org/entity/Q29093460'), ('workLabel', 'Peterson-Wilbanks House'), ('city', 'http://www.wikidata.org/entity/Q2695904'), ('cityLabel', 'Vidalia')]\n",
      "[('americanar', 'http://www.wikidata.org/entity/Q29093464'), ('americanarLabel', 'Ivey P. Crutchfield'), ('work', 'http://www.wikidata.org/entity/Q29093503'), ('workLabel', 'Leader–Rosansky House'), ('city', 'http://www.wikidata.org/entity/Q2695904'), ('cityLabel', 'Vidalia')]\n",
      "[('americanar', 'http://www.wikidata.org/entity/Q29093464'), ('americanarLabel', 'Ivey P. Crutchfield'), ('work', 'http://www.wikidata.org/entity/Q28811758'), ('workLabel', 'Crawford W. Brazell House'), ('city', 'http://www.wikidata.org/entity/Q2695904'), ('cityLabel', 'Vidalia')]\n",
      "[('americanar', 'http://www.wikidata.org/entity/Q5077062'), ('americanarLabel', 'Charles E. Choate'), ('work', 'http://www.wikidata.org/entity/Q16995712'), ('workLabel', 'Holt Brothers Banking Company Building'), ('city', 'http://www.wikidata.org/entity/Q2558498'), ('cityLabel', 'Sandersville')]\n",
      "[('americanar', 'http://www.wikidata.org/entity/Q17626642'), ('americanarLabel', 'Francis Willford Fitzpatrick'), ('work', 'http://www.wikidata.org/entity/Q85771859'), ('workLabel', 'Johnston Memorial Building'), ('city', 'http://www.wikidata.org/entity/Q2260783'), ('cityLabel', 'Wallace')]\n",
      "[('americanar', 'http://www.wikidata.org/entity/Q5006523'), ('americanarLabel', 'C. Howard Crane'), ('work', 'http://www.wikidata.org/entity/Q17040485'), ('workLabel', 'World Theater'), ('city', 'http://www.wikidata.org/entity/Q43199'), ('cityLabel', 'Omaha')]\n",
      "[('americanar', 'http://www.wikidata.org/entity/Q16030028'), ('americanarLabel', 'Abraham Wesley Eager'), ('work', 'http://www.wikidata.org/entity/Q14681552'), ('workLabel', 'Auditorium (Torrance High School)'), ('city', 'http://www.wikidata.org/entity/Q489197'), ('cityLabel', 'Torrance')]\n",
      "[('americanar', 'http://www.wikidata.org/entity/Q5077062'), ('americanarLabel', 'Charles E. Choate'), ('work', 'http://www.wikidata.org/entity/Q65070513'), ('workLabel', 'James Kelley House'), ('city', 'http://www.wikidata.org/entity/Q498286'), ('cityLabel', 'Washington County')]\n",
      "[('americanar', 'http://www.wikidata.org/entity/Q16023299'), ('americanarLabel', 'Ambrose J. Russell'), ('work', 'http://www.wikidata.org/entity/Q6783772'), ('workLabel', 'Landmark Convention Center'), ('city', 'http://www.wikidata.org/entity/Q199797'), ('cityLabel', 'Tacoma')]\n",
      "[('americanar', 'http://www.wikidata.org/entity/Q535985'), ('americanarLabel', 'Theodate Pope Riddle'), ('work', 'http://www.wikidata.org/entity/Q1618645'), ('workLabel', 'Hill-Stead Museum'), ('city', 'http://www.wikidata.org/entity/Q743287'), ('cityLabel', 'Farmington')]\n",
      "[('americanar', 'http://www.wikidata.org/entity/Q5006523'), ('americanarLabel', 'C. Howard Crane'), ('work', 'http://www.wikidata.org/entity/Q5370488'), ('workLabel', 'Emerald Theatre'), ('city', 'http://www.wikidata.org/entity/Q1431633'), ('cityLabel', 'Mount Clemens')]\n",
      "[('americanar', 'http://www.wikidata.org/entity/Q7494440'), ('americanarLabel', 'Sheperd S. Woodcock'), ('work', 'http://www.wikidata.org/entity/Q22073803'), ('workLabel', 'First Baptist Church of Scituate'), ('city', 'http://www.wikidata.org/entity/Q2415936'), ('cityLabel', 'Scituate')]\n",
      "[('americanar', 'http://www.wikidata.org/entity/Q16043514'), ('americanarLabel', 'John A. Fox'), ('work', 'http://www.wikidata.org/entity/Q14715553'), ('workLabel', 'Home for Aged Couples'), ('city', 'http://www.wikidata.org/entity/Q100'), ('cityLabel', 'Boston')]\n",
      "[('americanar', 'http://www.wikidata.org/entity/Q56420678'), ('americanarLabel', 'Matthew Del Gaudio'), ('work', 'http://www.wikidata.org/entity/Q18155537'), ('workLabel', 'Our Lady of Pompeii Church'), ('city', 'http://www.wikidata.org/entity/Q11299'), ('cityLabel', 'Manhattan')]\n",
      "[('americanar', 'http://www.wikidata.org/entity/Q5006523'), ('americanarLabel', 'C. Howard Crane'), ('work', 'http://www.wikidata.org/entity/Q12053066'), ('workLabel', 'August Wilson Theatre'), ('city', 'http://www.wikidata.org/entity/Q11299'), ('cityLabel', 'Manhattan')]\n",
      "[('americanar', 'http://www.wikidata.org/entity/Q535985'), ('americanarLabel', 'Theodate Pope Riddle'), ('work', 'http://www.wikidata.org/entity/Q904191'), ('workLabel', 'Theodore Roosevelt Birthplace National Historic Site'), ('city', 'http://www.wikidata.org/entity/Q11299'), ('cityLabel', 'Manhattan')]\n",
      "[('americanar', 'http://www.wikidata.org/entity/Q15463168'), ('americanarLabel', 'John Mead Howells'), ('work', 'http://www.wikidata.org/entity/Q2070225'), ('workLabel', 'Daily News Building'), ('city', 'http://www.wikidata.org/entity/Q11299'), ('cityLabel', 'Manhattan')]\n",
      "[('americanar', 'http://www.wikidata.org/entity/Q16008282'), ('americanarLabel', 'Mott B. Schmidt'), ('work', 'http://www.wikidata.org/entity/Q45144010'), ('workLabel', '1088 Park Avenue'), ('city', 'http://www.wikidata.org/entity/Q11299'), ('cityLabel', 'Manhattan')]\n",
      "[('americanar', 'http://www.wikidata.org/entity/Q16008282'), ('americanarLabel', 'Mott B. Schmidt'), ('work', 'http://www.wikidata.org/entity/Q59195973'), ('workLabel', 'Emily Trevor House'), ('city', 'http://www.wikidata.org/entity/Q11299'), ('cityLabel', 'Manhattan')]\n",
      "[('americanar', 'http://www.wikidata.org/entity/Q16017336'), ('americanarLabel', 'Richard Lewis Blinder'), ('work', 'http://www.wikidata.org/entity/Q5477291'), ('workLabel', 'Lyric Theatre'), ('city', 'http://www.wikidata.org/entity/Q11299'), ('cityLabel', 'Manhattan')]\n",
      "[('americanar', 'http://www.wikidata.org/entity/Q5006523'), ('americanarLabel', 'C. Howard Crane'), ('work', 'http://www.wikidata.org/entity/Q1954899'), ('workLabel', 'Music Box Theatre'), ('city', 'http://www.wikidata.org/entity/Q11299'), ('cityLabel', 'Manhattan')]\n",
      "[('americanar', 'http://www.wikidata.org/entity/Q17183520'), ('americanarLabel', 'William H. McElfatrick'), ('work', 'http://www.wikidata.org/entity/Q17150055'), ('workLabel', 'Columbia Theatre'), ('city', 'http://www.wikidata.org/entity/Q11299'), ('cityLabel', 'Manhattan')]\n",
      "[('americanar', 'http://www.wikidata.org/entity/Q15997885'), ('americanarLabel', 'Frederick L. Ackerman'), ('work', 'http://www.wikidata.org/entity/Q5453085'), ('workLabel', 'First Houses'), ('city', 'http://www.wikidata.org/entity/Q11299'), ('cityLabel', 'Manhattan')]\n",
      "[('americanar', 'http://www.wikidata.org/entity/Q16008282'), ('americanarLabel', 'Mott B. Schmidt'), ('work', 'http://www.wikidata.org/entity/Q28226170'), ('workLabel', '655 Park Avenue'), ('city', 'http://www.wikidata.org/entity/Q11299'), ('cityLabel', 'Manhattan')]\n",
      "[('americanar', 'http://www.wikidata.org/entity/Q15463168'), ('americanarLabel', 'John Mead Howells'), ('work', 'http://www.wikidata.org/entity/Q4879827'), ('workLabel', 'Beekman Tower'), ('city', 'http://www.wikidata.org/entity/Q11299'), ('cityLabel', 'Manhattan')]\n",
      "[('americanar', 'http://www.wikidata.org/entity/Q5006523'), ('americanarLabel', 'C. Howard Crane'), ('work', 'http://www.wikidata.org/entity/Q14716101'), ('workLabel', 'Film Exchange Building'), ('city', 'http://www.wikidata.org/entity/Q1166'), ('cityLabel', 'Michigan')]\n",
      "[('americanar', 'http://www.wikidata.org/entity/Q5006523'), ('americanarLabel', 'C. Howard Crane'), ('work', 'http://www.wikidata.org/entity/Q6471362'), ('workLabel', 'Lafayette Building'), ('city', 'http://www.wikidata.org/entity/Q1166'), ('cityLabel', 'Michigan')]\n",
      "[('americanar', 'http://www.wikidata.org/entity/Q5006523'), ('americanarLabel', 'C. Howard Crane'), ('work', 'http://www.wikidata.org/entity/Q6737711'), ('workLabel', 'Majestic Theatre'), ('city', 'http://www.wikidata.org/entity/Q12439'), ('cityLabel', 'Detroit')]\n",
      "[('americanar', 'http://www.wikidata.org/entity/Q5006523'), ('americanarLabel', 'C. Howard Crane'), ('work', 'http://www.wikidata.org/entity/Q1201545'), ('workLabel', 'Detroit Olympia'), ('city', 'http://www.wikidata.org/entity/Q12439'), ('cityLabel', 'Detroit')]\n",
      "[('americanar', 'http://www.wikidata.org/entity/Q5006523'), ('americanarLabel', 'C. Howard Crane'), ('work', 'http://www.wikidata.org/entity/Q7100235'), ('workLabel', 'Orchestra Hall'), ('city', 'http://www.wikidata.org/entity/Q12439'), ('cityLabel', 'Detroit')]\n",
      "[('americanar', 'http://www.wikidata.org/entity/Q5006523'), ('americanarLabel', 'C. Howard Crane'), ('work', 'http://www.wikidata.org/entity/Q7733852'), ('workLabel', 'The Fillmore Detroit'), ('city', 'http://www.wikidata.org/entity/Q12439'), ('cityLabel', 'Detroit')]\n",
      "[('americanar', 'http://www.wikidata.org/entity/Q5006523'), ('americanarLabel', 'C. Howard Crane'), ('work', 'http://www.wikidata.org/entity/Q7887482'), ('workLabel', 'United Artists Theatre Building'), ('city', 'http://www.wikidata.org/entity/Q12439'), ('cityLabel', 'Detroit')]\n",
      "[('americanar', 'http://www.wikidata.org/entity/Q5006523'), ('americanarLabel', 'C. Howard Crane'), ('work', 'http://www.wikidata.org/entity/Q3080199'), ('workLabel', 'Fox Theatre'), ('city', 'http://www.wikidata.org/entity/Q12439'), ('cityLabel', 'Detroit')]\n",
      "[('americanar', 'http://www.wikidata.org/entity/Q5006523'), ('americanarLabel', 'C. Howard Crane'), ('work', 'http://www.wikidata.org/entity/Q7559813'), ('workLabel', 'Somerset Apartments'), ('city', 'http://www.wikidata.org/entity/Q12439'), ('cityLabel', 'Detroit')]\n",
      "[('americanar', 'http://www.wikidata.org/entity/Q15463168'), ('americanarLabel', 'John Mead Howells'), ('work', 'http://www.wikidata.org/entity/Q2143136'), ('workLabel', 'Tribune Tower'), ('city', 'http://www.wikidata.org/entity/Q1297'), ('cityLabel', 'Chicago')]\n",
      "[('americanar', 'http://www.wikidata.org/entity/Q21780508'), ('americanarLabel', 'Benjamin H. Marshall'), ('work', 'http://www.wikidata.org/entity/Q3047559'), ('workLabel', 'Edgewater Beach Hotel'), ('city', 'http://www.wikidata.org/entity/Q1297'), ('cityLabel', 'Chicago')]\n",
      "[('americanar', 'http://www.wikidata.org/entity/Q5006523'), ('americanarLabel', 'C. Howard Crane'), ('work', 'http://www.wikidata.org/entity/Q16999687'), ('workLabel', 'Warner Theatre'), ('city', 'http://www.wikidata.org/entity/Q1342'), ('cityLabel', 'Pittsburgh')]\n",
      "[('americanar', 'http://www.wikidata.org/entity/Q5540911'), ('americanarLabel', 'George I. Barnett'), ('work', 'http://www.wikidata.org/entity/Q6879568'), ('workLabel', \"Missouri Governor's Mansion\"), ('city', 'http://www.wikidata.org/entity/Q1581'), ('cityLabel', 'Missouri')]\n",
      "[('americanar', 'http://www.wikidata.org/entity/Q16007786'), ('americanarLabel', 'Roscoe DeWitt'), ('work', 'http://www.wikidata.org/entity/Q7114921'), ('workLabel', 'Ownby Stadium'), ('city', 'http://www.wikidata.org/entity/Q16557'), ('cityLabel', 'Dallas')]\n",
      "[('americanar', 'http://www.wikidata.org/entity/Q5006523'), ('americanarLabel', 'C. Howard Crane'), ('work', 'http://www.wikidata.org/entity/Q6506496'), ('workLabel', 'LeVeque Tower'), ('city', 'http://www.wikidata.org/entity/Q16567'), ('cityLabel', 'Columbus')]\n",
      "[('americanar', 'http://www.wikidata.org/entity/Q15997885'), ('americanarLabel', 'Frederick L. Ackerman'), ('work', 'http://www.wikidata.org/entity/Q20709831'), ('workLabel', 'Elizabeth C. Quinlan House'), ('city', 'http://www.wikidata.org/entity/Q36091'), ('cityLabel', 'Minneapolis')]\n",
      "[('americanar', 'http://www.wikidata.org/entity/Q15997885'), ('americanarLabel', 'Frederick L. Ackerman'), ('work', 'http://www.wikidata.org/entity/Q8058686'), ('workLabel', 'Young–Quinlan Building'), ('city', 'http://www.wikidata.org/entity/Q36091'), ('cityLabel', 'Minneapolis')]\n",
      "[('americanar', 'http://www.wikidata.org/entity/Q5540911'), ('americanarLabel', 'George I. Barnett'), ('work', 'http://www.wikidata.org/entity/Q55451739'), ('workLabel', 'Lindell Hotel'), ('city', 'http://www.wikidata.org/entity/Q38022'), ('cityLabel', 'St. Louis')]\n",
      "[('americanar', 'http://www.wikidata.org/entity/Q5540911'), ('americanarLabel', 'George I. Barnett'), ('work', 'http://www.wikidata.org/entity/Q96406476'), ('workLabel', 'Statue of Christopher Columbus'), ('city', 'http://www.wikidata.org/entity/Q38022'), ('cityLabel', 'St. Louis')]\n",
      "[('americanar', 'http://www.wikidata.org/entity/Q5540911'), ('americanarLabel', 'George I. Barnett'), ('work', 'http://www.wikidata.org/entity/Q5594280'), ('workLabel', 'Grand Avenue Water Tower'), ('city', 'http://www.wikidata.org/entity/Q38022'), ('cityLabel', 'St. Louis')]\n",
      "[('americanar', 'http://www.wikidata.org/entity/Q5540911'), ('americanarLabel', 'George I. Barnett'), ('work', 'http://www.wikidata.org/entity/Q55451214'), ('workLabel', 'Tower Grove House'), ('city', 'http://www.wikidata.org/entity/Q38022'), ('cityLabel', 'St. Louis')]\n",
      "[('americanar', 'http://www.wikidata.org/entity/Q5540911'), ('americanarLabel', 'George I. Barnett'), ('work', 'http://www.wikidata.org/entity/Q7590533'), ('workLabel', 'St. Mary of Victories Church'), ('city', 'http://www.wikidata.org/entity/Q38022'), ('cityLabel', 'St. Louis')]\n",
      "[('americanar', 'http://www.wikidata.org/entity/Q5540911'), ('americanarLabel', 'George I. Barnett'), ('work', 'http://www.wikidata.org/entity/Q55075441'), ('workLabel', \"Barnum's St. Louis Hotel\"), ('city', 'http://www.wikidata.org/entity/Q38022'), ('cityLabel', 'St. Louis')]\n",
      "[('americanar', 'http://www.wikidata.org/entity/Q5540911'), ('americanarLabel', 'George I. Barnett'), ('work', 'http://www.wikidata.org/entity/Q55451404'), ('workLabel', 'Southern Hotel'), ('city', 'http://www.wikidata.org/entity/Q38022'), ('cityLabel', 'St. Louis')]\n",
      "[('americanar', 'http://www.wikidata.org/entity/Q15437942'), ('americanarLabel', 'Henry Franklin Kilburn'), ('work', 'http://www.wikidata.org/entity/Q18151982'), ('workLabel', 'Pabst Hotel'), ('city', 'http://www.wikidata.org/entity/Q60'), ('cityLabel', 'New York City')]\n"
     ]
    },
    {
     "data": {
      "text/plain": [
       "50"
      ]
     },
     "execution_count": 48,
     "metadata": {},
     "output_type": "execute_result"
    }
   ],
   "source": [
    "\n",
    "# FOURTH :\n",
    "# Analyze the location of the buildings designed by the american architects\n",
    "## Which styles exists in the U.S.? Which type of building?\n",
    "## In which U.S. states there are more notable buildings?\n",
    "## Which U.S. state contains the largest number of building designed by U.S. architects\n",
    "\n",
    "# FOURTH: ONE\n",
    "\n",
    "queryString = \"\"\"\n",
    "    SELECT DISTINCT ?americanar ?americanarLabel ?work ?workLabel ?city ?cityLabel\n",
    "    WHERE { \n",
    "        ?americanar wdt:P27 wd:Q30  . \n",
    "        ?americanar wdt:P106 wd:Q42973 .\n",
    "        ?work wdt:P84 ?americanar .\n",
    "        ?work wdt:P131 ?city .\n",
    "              \n",
    "              \n",
    "        ## labels    \n",
    "        ?americanar <http://schema.org/name> ?americanarLabel .\n",
    "        ?work <http://schema.org/name> ?workLabel .              \n",
    "        ?city <http://schema.org/name> ?cityLabel .            \n",
    "     #   SERVICE wikibase:label { bd:serviceParam wikibase:language \"en\". }\n",
    "    }\n",
    "    LIMIT 50\n",
    "\"\"\"\n",
    "\n",
    "print(\"Results\")\n",
    "run_query(queryString)\n",
    "\n",
    "\n",
    "\n",
    "\n",
    "\n",
    "\n"
   ]
  },
  {
   "cell_type": "code",
   "execution_count": 49,
   "id": "08f513b8-1bb7-47cb-9c0f-4d17afad6415",
   "metadata": {},
   "outputs": [
    {
     "name": "stdout",
     "output_type": "stream",
     "text": [
      "Results\n",
      "[('americanarLabel', 'Ivey P. Crutchfield'), ('workLabel', 'Peterson-Wilbanks House'), ('cityLabel', 'Vidalia')]\n",
      "[('americanarLabel', 'Ivey P. Crutchfield'), ('workLabel', 'Leader–Rosansky House'), ('cityLabel', 'Vidalia')]\n",
      "[('americanarLabel', 'Ivey P. Crutchfield'), ('workLabel', 'Crawford W. Brazell House'), ('cityLabel', 'Vidalia')]\n",
      "[('americanarLabel', 'Charles E. Choate'), ('workLabel', 'Holt Brothers Banking Company Building'), ('cityLabel', 'Sandersville')]\n",
      "[('americanarLabel', 'Francis Willford Fitzpatrick'), ('workLabel', 'Johnston Memorial Building'), ('cityLabel', 'Wallace')]\n",
      "[('americanarLabel', 'C. Howard Crane'), ('workLabel', 'World Theater'), ('cityLabel', 'Omaha')]\n",
      "[('americanarLabel', 'Abraham Wesley Eager'), ('workLabel', 'Auditorium (Torrance High School)'), ('cityLabel', 'Torrance')]\n",
      "[('americanarLabel', 'Charles E. Choate'), ('workLabel', 'James Kelley House'), ('cityLabel', 'Washington County')]\n",
      "[('americanarLabel', 'Ambrose J. Russell'), ('workLabel', 'Landmark Convention Center'), ('cityLabel', 'Tacoma')]\n",
      "[('americanarLabel', 'Theodate Pope Riddle'), ('workLabel', 'Hill-Stead Museum'), ('cityLabel', 'Farmington')]\n",
      "[('americanarLabel', 'C. Howard Crane'), ('workLabel', 'Emerald Theatre'), ('cityLabel', 'Mount Clemens')]\n",
      "[('americanarLabel', 'Sheperd S. Woodcock'), ('workLabel', 'First Baptist Church of Scituate'), ('cityLabel', 'Scituate')]\n",
      "[('americanarLabel', 'John A. Fox'), ('workLabel', 'Home for Aged Couples'), ('cityLabel', 'Boston')]\n",
      "[('americanarLabel', 'Matthew Del Gaudio'), ('workLabel', 'Our Lady of Pompeii Church'), ('cityLabel', 'Manhattan')]\n",
      "[('americanarLabel', 'C. Howard Crane'), ('workLabel', 'August Wilson Theatre'), ('cityLabel', 'Manhattan')]\n",
      "[('americanarLabel', 'Theodate Pope Riddle'), ('workLabel', 'Theodore Roosevelt Birthplace National Historic Site'), ('cityLabel', 'Manhattan')]\n",
      "[('americanarLabel', 'John Mead Howells'), ('workLabel', 'Daily News Building'), ('cityLabel', 'Manhattan')]\n",
      "[('americanarLabel', 'Mott B. Schmidt'), ('workLabel', '1088 Park Avenue'), ('cityLabel', 'Manhattan')]\n",
      "[('americanarLabel', 'Mott B. Schmidt'), ('workLabel', 'Emily Trevor House'), ('cityLabel', 'Manhattan')]\n",
      "[('americanarLabel', 'Richard Lewis Blinder'), ('workLabel', 'Lyric Theatre'), ('cityLabel', 'Manhattan')]\n",
      "[('americanarLabel', 'C. Howard Crane'), ('workLabel', 'Music Box Theatre'), ('cityLabel', 'Manhattan')]\n",
      "[('americanarLabel', 'William H. McElfatrick'), ('workLabel', 'Columbia Theatre'), ('cityLabel', 'Manhattan')]\n",
      "[('americanarLabel', 'Frederick L. Ackerman'), ('workLabel', 'First Houses'), ('cityLabel', 'Manhattan')]\n",
      "[('americanarLabel', 'Mott B. Schmidt'), ('workLabel', '655 Park Avenue'), ('cityLabel', 'Manhattan')]\n",
      "[('americanarLabel', 'John Mead Howells'), ('workLabel', 'Beekman Tower'), ('cityLabel', 'Manhattan')]\n",
      "[('americanarLabel', 'C. Howard Crane'), ('workLabel', 'Film Exchange Building'), ('cityLabel', 'Michigan')]\n",
      "[('americanarLabel', 'C. Howard Crane'), ('workLabel', 'Lafayette Building'), ('cityLabel', 'Michigan')]\n",
      "[('americanarLabel', 'C. Howard Crane'), ('workLabel', 'Majestic Theatre'), ('cityLabel', 'Detroit')]\n",
      "[('americanarLabel', 'C. Howard Crane'), ('workLabel', 'Detroit Olympia'), ('cityLabel', 'Detroit')]\n",
      "[('americanarLabel', 'C. Howard Crane'), ('workLabel', 'Orchestra Hall'), ('cityLabel', 'Detroit')]\n",
      "[('americanarLabel', 'C. Howard Crane'), ('workLabel', 'The Fillmore Detroit'), ('cityLabel', 'Detroit')]\n",
      "[('americanarLabel', 'C. Howard Crane'), ('workLabel', 'United Artists Theatre Building'), ('cityLabel', 'Detroit')]\n",
      "[('americanarLabel', 'C. Howard Crane'), ('workLabel', 'Fox Theatre'), ('cityLabel', 'Detroit')]\n",
      "[('americanarLabel', 'C. Howard Crane'), ('workLabel', 'Somerset Apartments'), ('cityLabel', 'Detroit')]\n",
      "[('americanarLabel', 'John Mead Howells'), ('workLabel', 'Tribune Tower'), ('cityLabel', 'Chicago')]\n",
      "[('americanarLabel', 'Benjamin H. Marshall'), ('workLabel', 'Edgewater Beach Hotel'), ('cityLabel', 'Chicago')]\n",
      "[('americanarLabel', 'C. Howard Crane'), ('workLabel', 'Warner Theatre'), ('cityLabel', 'Pittsburgh')]\n",
      "[('americanarLabel', 'George I. Barnett'), ('workLabel', \"Missouri Governor's Mansion\"), ('cityLabel', 'Missouri')]\n",
      "[('americanarLabel', 'Roscoe DeWitt'), ('workLabel', 'Ownby Stadium'), ('cityLabel', 'Dallas')]\n",
      "[('americanarLabel', 'C. Howard Crane'), ('workLabel', 'LeVeque Tower'), ('cityLabel', 'Columbus')]\n",
      "[('americanarLabel', 'Frederick L. Ackerman'), ('workLabel', 'Elizabeth C. Quinlan House'), ('cityLabel', 'Minneapolis')]\n",
      "[('americanarLabel', 'Frederick L. Ackerman'), ('workLabel', 'Young–Quinlan Building'), ('cityLabel', 'Minneapolis')]\n",
      "[('americanarLabel', 'George I. Barnett'), ('workLabel', 'Lindell Hotel'), ('cityLabel', 'St. Louis')]\n",
      "[('americanarLabel', 'George I. Barnett'), ('workLabel', 'Statue of Christopher Columbus'), ('cityLabel', 'St. Louis')]\n",
      "[('americanarLabel', 'George I. Barnett'), ('workLabel', 'Grand Avenue Water Tower'), ('cityLabel', 'St. Louis')]\n",
      "[('americanarLabel', 'George I. Barnett'), ('workLabel', 'Tower Grove House'), ('cityLabel', 'St. Louis')]\n",
      "[('americanarLabel', 'George I. Barnett'), ('workLabel', 'St. Mary of Victories Church'), ('cityLabel', 'St. Louis')]\n",
      "[('americanarLabel', 'George I. Barnett'), ('workLabel', \"Barnum's St. Louis Hotel\"), ('cityLabel', 'St. Louis')]\n",
      "[('americanarLabel', 'George I. Barnett'), ('workLabel', 'Southern Hotel'), ('cityLabel', 'St. Louis')]\n",
      "[('americanarLabel', 'Henry Franklin Kilburn'), ('workLabel', 'Pabst Hotel'), ('cityLabel', 'New York City')]\n"
     ]
    },
    {
     "data": {
      "text/plain": [
       "50"
      ]
     },
     "execution_count": 49,
     "metadata": {},
     "output_type": "execute_result"
    }
   ],
   "source": [
    "# FOURTH: ONE\n",
    "\n",
    "# the BGP from the first BGP :\n",
    "\n",
    "\n",
    "queryString = \"\"\"\n",
    "    SELECT DISTINCT ?americanarLabel ?workLabel ?cityLabel\n",
    "    WHERE { \n",
    "        ?americanar wdt:P27 wd:Q30  . \n",
    "        ?americanar wdt:P106 wd:Q42973 .\n",
    "        ?work wdt:P84 ?americanar .\n",
    "        ?work wdt:P131 ?city .\n",
    "              \n",
    "              \n",
    "        ## labels    \n",
    "        ?americanar <http://schema.org/name> ?americanarLabel .\n",
    "        ?work <http://schema.org/name> ?workLabel .              \n",
    "        ?city <http://schema.org/name> ?cityLabel .            \n",
    "     #   SERVICE wikibase:label { bd:serviceParam wikibase:language \"en\". }\n",
    "    }\n",
    "    LIMIT 50\n",
    "\"\"\"\n",
    "\n",
    "print(\"Results\")\n",
    "run_query(queryString)\n",
    "\n",
    "\n",
    "\n",
    "\n"
   ]
  },
  {
   "cell_type": "code",
   "execution_count": 50,
   "id": "5e5150fb-cc60-4fc7-8717-600b4aba8241",
   "metadata": {},
   "outputs": [
    {
     "name": "stdout",
     "output_type": "stream",
     "text": [
      "Results\n",
      "[('americanar', 'http://www.wikidata.org/entity/Q5006523'), ('americanarLabel', 'C. Howard Crane'), ('work', 'http://www.wikidata.org/entity/Q1130746'), ('workLabel', 'Earls Court Exhibition Centre'), ('country', 'http://www.wikidata.org/entity/Q145'), ('countryLabel', 'United Kingdom')]\n",
      "[('americanar', 'http://www.wikidata.org/entity/Q5006523'), ('americanarLabel', 'C. Howard Crane'), ('work', 'http://www.wikidata.org/entity/Q23693569'), ('workLabel', 'Metropolitan Theatre'), ('country', 'http://www.wikidata.org/entity/Q16'), ('countryLabel', 'Canada')]\n",
      "[('americanar', 'http://www.wikidata.org/entity/Q3017360'), ('americanarLabel', 'David Adler'), ('work', 'http://www.wikidata.org/entity/Q16198500'), ('workLabel', 'Mrs. Isaac D. Adler House'), ('country', 'http://www.wikidata.org/entity/Q30'), ('countryLabel', 'United States of America')]\n",
      "[('americanar', 'http://www.wikidata.org/entity/Q5006523'), ('americanarLabel', 'C. Howard Crane'), ('work', 'http://www.wikidata.org/entity/Q17040485'), ('workLabel', 'World Theater'), ('country', 'http://www.wikidata.org/entity/Q30'), ('countryLabel', 'United States of America')]\n",
      "[('americanar', 'http://www.wikidata.org/entity/Q5077062'), ('americanarLabel', 'Charles E. Choate'), ('work', 'http://www.wikidata.org/entity/Q17059514'), ('workLabel', 'Tennille Banking Company Building'), ('country', 'http://www.wikidata.org/entity/Q30'), ('countryLabel', 'United States of America')]\n",
      "[('americanar', 'http://www.wikidata.org/entity/Q5540911'), ('americanarLabel', 'George I. Barnett'), ('work', 'http://www.wikidata.org/entity/Q17299881'), ('workLabel', 'Samuel Moody Grubbs House'), ('country', 'http://www.wikidata.org/entity/Q30'), ('countryLabel', 'United States of America')]\n",
      "[('americanar', 'http://www.wikidata.org/entity/Q15437942'), ('americanarLabel', 'Henry Franklin Kilburn'), ('work', 'http://www.wikidata.org/entity/Q18151982'), ('workLabel', 'Pabst Hotel'), ('country', 'http://www.wikidata.org/entity/Q30'), ('countryLabel', 'United States of America')]\n",
      "[('americanar', 'http://www.wikidata.org/entity/Q56420678'), ('americanarLabel', 'Matthew Del Gaudio'), ('work', 'http://www.wikidata.org/entity/Q18155537'), ('workLabel', 'Our Lady of Pompeii Church'), ('country', 'http://www.wikidata.org/entity/Q30'), ('countryLabel', 'United States of America')]\n",
      "[('americanar', 'http://www.wikidata.org/entity/Q7494440'), ('americanarLabel', 'Sheperd S. Woodcock'), ('work', 'http://www.wikidata.org/entity/Q22073803'), ('workLabel', 'First Baptist Church of Scituate'), ('country', 'http://www.wikidata.org/entity/Q30'), ('countryLabel', 'United States of America')]\n",
      "[('americanar', 'http://www.wikidata.org/entity/Q29093464'), ('americanarLabel', 'Ivey P. Crutchfield'), ('work', 'http://www.wikidata.org/entity/Q29093460'), ('workLabel', 'Peterson-Wilbanks House'), ('country', 'http://www.wikidata.org/entity/Q30'), ('countryLabel', 'United States of America')]\n",
      "[('americanar', 'http://www.wikidata.org/entity/Q5006523'), ('americanarLabel', 'C. Howard Crane'), ('work', 'http://www.wikidata.org/entity/Q12053066'), ('workLabel', 'August Wilson Theatre'), ('country', 'http://www.wikidata.org/entity/Q30'), ('countryLabel', 'United States of America')]\n",
      "[('americanar', 'http://www.wikidata.org/entity/Q535985'), ('americanarLabel', 'Theodate Pope Riddle'), ('work', 'http://www.wikidata.org/entity/Q904191'), ('workLabel', 'Theodore Roosevelt Birthplace National Historic Site'), ('country', 'http://www.wikidata.org/entity/Q30'), ('countryLabel', 'United States of America')]\n",
      "[('americanar', 'http://www.wikidata.org/entity/Q15997885'), ('americanarLabel', 'Frederick L. Ackerman'), ('work', 'http://www.wikidata.org/entity/Q24204528'), ('workLabel', 'Roulette Intermedium'), ('country', 'http://www.wikidata.org/entity/Q30'), ('countryLabel', 'United States of America')]\n",
      "[('americanar', 'http://www.wikidata.org/entity/Q535985'), ('americanarLabel', 'Theodate Pope Riddle'), ('work', 'http://www.wikidata.org/entity/Q1618645'), ('workLabel', 'Hill-Stead Museum'), ('country', 'http://www.wikidata.org/entity/Q30'), ('countryLabel', 'United States of America')]\n",
      "[('americanar', 'http://www.wikidata.org/entity/Q15463168'), ('americanarLabel', 'John Mead Howells'), ('work', 'http://www.wikidata.org/entity/Q2070225'), ('workLabel', 'Daily News Building'), ('country', 'http://www.wikidata.org/entity/Q30'), ('countryLabel', 'United States of America')]\n",
      "[('americanar', 'http://www.wikidata.org/entity/Q16008282'), ('americanarLabel', 'Mott B. Schmidt'), ('work', 'http://www.wikidata.org/entity/Q45144010'), ('workLabel', '1088 Park Avenue'), ('country', 'http://www.wikidata.org/entity/Q30'), ('countryLabel', 'United States of America')]\n",
      "[('americanar', 'http://www.wikidata.org/entity/Q16008282'), ('americanarLabel', 'Mott B. Schmidt'), ('work', 'http://www.wikidata.org/entity/Q59195973'), ('workLabel', 'Emily Trevor House'), ('country', 'http://www.wikidata.org/entity/Q30'), ('countryLabel', 'United States of America')]\n",
      "[('americanar', 'http://www.wikidata.org/entity/Q16017336'), ('americanarLabel', 'Richard Lewis Blinder'), ('work', 'http://www.wikidata.org/entity/Q5477291'), ('workLabel', 'Lyric Theatre'), ('country', 'http://www.wikidata.org/entity/Q30'), ('countryLabel', 'United States of America')]\n",
      "[('americanar', 'http://www.wikidata.org/entity/Q456131'), ('americanarLabel', 'Gilmore David Clarke'), ('work', 'http://www.wikidata.org/entity/Q717956'), ('workLabel', 'Unisphere'), ('country', 'http://www.wikidata.org/entity/Q30'), ('countryLabel', 'United States of America')]\n",
      "[('americanar', 'http://www.wikidata.org/entity/Q16059447'), ('americanarLabel', 'Walter T. Downing'), ('work', 'http://www.wikidata.org/entity/Q7397104'), ('workLabel', 'Basilica of the Sacred Heart of Jesus'), ('country', 'http://www.wikidata.org/entity/Q30'), ('countryLabel', 'United States of America')]\n",
      "[('americanar', 'http://www.wikidata.org/entity/Q16007786'), ('americanarLabel', 'Roscoe DeWitt'), ('work', 'http://www.wikidata.org/entity/Q7114921'), ('workLabel', 'Ownby Stadium'), ('country', 'http://www.wikidata.org/entity/Q30'), ('countryLabel', 'United States of America')]\n",
      "[('americanar', 'http://www.wikidata.org/entity/Q17183520'), ('americanarLabel', 'William H. McElfatrick'), ('work', 'http://www.wikidata.org/entity/Q6825168'), ('workLabel', 'The Met'), ('country', 'http://www.wikidata.org/entity/Q30'), ('countryLabel', 'United States of America')]\n",
      "[('americanar', 'http://www.wikidata.org/entity/Q5540911'), ('americanarLabel', 'George I. Barnett'), ('work', 'http://www.wikidata.org/entity/Q55451739'), ('workLabel', 'Lindell Hotel'), ('country', 'http://www.wikidata.org/entity/Q30'), ('countryLabel', 'United States of America')]\n",
      "[('americanar', 'http://www.wikidata.org/entity/Q16204687'), ('americanarLabel', 'Jefferson Coburn'), ('work', 'http://www.wikidata.org/entity/Q5453256'), ('workLabel', 'First McGillicuddy Block'), ('country', 'http://www.wikidata.org/entity/Q30'), ('countryLabel', 'United States of America')]\n",
      "[('americanar', 'http://www.wikidata.org/entity/Q15463168'), ('americanarLabel', 'John Mead Howells'), ('work', 'http://www.wikidata.org/entity/Q2143136'), ('workLabel', 'Tribune Tower'), ('country', 'http://www.wikidata.org/entity/Q30'), ('countryLabel', 'United States of America')]\n"
     ]
    },
    {
     "data": {
      "text/plain": [
       "25"
      ]
     },
     "execution_count": 50,
     "metadata": {},
     "output_type": "execute_result"
    }
   ],
   "source": [
    "## the country predicate\n",
    "queryString = \"\"\"\n",
    "    SELECT DISTINCT ?americanar ?americanarLabel ?work ?workLabel ?country ?countryLabel\n",
    "    WHERE { \n",
    "        ?americanar wdt:P27 wd:Q30  . \n",
    "        ?americanar wdt:P106 wd:Q42973 .\n",
    "        ?work wdt:P84 ?americanar .\n",
    "        ?work wdt:P17 ?country .\n",
    "\n",
    "        ## labels\n",
    "        ?americanar <http://schema.org/name> ?americanarLabel .\n",
    "        ?work <http://schema.org/name> ?workLabel .              \n",
    "        #?city <http://schema.org/name> ?cityLabel .  \n",
    "        ?country <http://schema.org/name> ?countryLabel .  \n",
    "    } \n",
    "    LIMIT 25\n",
    "\"\"\"\n",
    "\n",
    "print(\"Results\")\n",
    "run_query(queryString)"
   ]
  },
  {
   "cell_type": "code",
   "execution_count": 51,
   "id": "e0bc2f8a-5250-4309-bfc6-104588a10a66",
   "metadata": {},
   "outputs": [
    {
     "name": "stdout",
     "output_type": "stream",
     "text": [
      "Results\n",
      "[('americanar', 'http://www.wikidata.org/entity/Q3017360'), ('americanarLabel', 'David Adler'), ('work', 'http://www.wikidata.org/entity/Q16198500'), ('workLabel', 'Mrs. Isaac D. Adler House'), ('country', 'http://www.wikidata.org/entity/P348'), ('countryLabel', 'software version identifier')]\n",
      "[('americanar', 'http://www.wikidata.org/entity/Q3017360'), ('americanarLabel', 'David Adler'), ('work', 'http://www.wikidata.org/entity/Q16198500'), ('workLabel', 'Mrs. Isaac D. Adler House'), ('country', 'http://www.wikidata.org/entity/P4669'), ('countryLabel', 'tabular software version')]\n",
      "[('americanar', 'http://www.wikidata.org/entity/Q3017360'), ('americanarLabel', 'David Adler'), ('work', 'http://www.wikidata.org/entity/Q16198500'), ('workLabel', 'Mrs. Isaac D. Adler House'), ('country', 'http://www.wikidata.org/entity/P747'), ('countryLabel', 'has edition or translation')]\n",
      "[('americanar', 'http://www.wikidata.org/entity/Q3017360'), ('americanarLabel', 'David Adler'), ('work', 'http://www.wikidata.org/entity/Q16198500'), ('workLabel', 'Mrs. Isaac D. Adler House'), ('country', 'http://www.wikidata.org/entity/Q1002728'), ('countryLabel', 'Fonsi Nieto')]\n",
      "[('americanar', 'http://www.wikidata.org/entity/Q3017360'), ('americanarLabel', 'David Adler'), ('work', 'http://www.wikidata.org/entity/Q16198500'), ('workLabel', 'Mrs. Isaac D. Adler House'), ('country', 'http://www.wikidata.org/entity/Q100326534'), ('countryLabel', \"Al Stewart's albums in chronological order\")]\n",
      "[('americanar', 'http://www.wikidata.org/entity/Q3017360'), ('americanarLabel', 'David Adler'), ('work', 'http://www.wikidata.org/entity/Q16198500'), ('workLabel', 'Mrs. Isaac D. Adler House'), ('country', 'http://www.wikidata.org/entity/Q100327667'), ('countryLabel', 'Category:Adelina Lopes Vieira')]\n",
      "[('americanar', 'http://www.wikidata.org/entity/Q3017360'), ('americanarLabel', 'David Adler'), ('work', 'http://www.wikidata.org/entity/Q16198500'), ('workLabel', 'Mrs. Isaac D. Adler House'), ('country', 'http://www.wikidata.org/entity/Q100343342'), ('countryLabel', 'Lubomír Stoklásek')]\n",
      "[('americanar', 'http://www.wikidata.org/entity/Q3017360'), ('americanarLabel', 'David Adler'), ('work', 'http://www.wikidata.org/entity/Q16198500'), ('workLabel', 'Mrs. Isaac D. Adler House'), ('country', 'http://www.wikidata.org/entity/Q1007576'), ('countryLabel', 'Ciudad Vieja')]\n",
      "[('americanar', 'http://www.wikidata.org/entity/Q3017360'), ('americanarLabel', 'David Adler'), ('work', 'http://www.wikidata.org/entity/Q16198500'), ('workLabel', 'Mrs. Isaac D. Adler House'), ('country', 'http://www.wikidata.org/entity/Q100879156'), ('countryLabel', 'Echániz')]\n",
      "[('americanar', 'http://www.wikidata.org/entity/Q3017360'), ('americanarLabel', 'David Adler'), ('work', 'http://www.wikidata.org/entity/Q16198500'), ('workLabel', 'Mrs. Isaac D. Adler House'), ('country', 'http://www.wikidata.org/entity/Q10100'), ('countryLabel', 'Natuna')]\n",
      "[('americanar', 'http://www.wikidata.org/entity/Q3017360'), ('americanarLabel', 'David Adler'), ('work', 'http://www.wikidata.org/entity/Q16198500'), ('workLabel', 'Mrs. Isaac D. Adler House'), ('country', 'http://www.wikidata.org/entity/Q101032298'), ('countryLabel', \"Acid Mothers Temple's albums in chronological order\")]\n",
      "[('americanar', 'http://www.wikidata.org/entity/Q3017360'), ('americanarLabel', 'David Adler'), ('work', 'http://www.wikidata.org/entity/Q16198500'), ('workLabel', 'Mrs. Isaac D. Adler House'), ('country', 'http://www.wikidata.org/entity/Q101042154'), ('countryLabel', 'Relaño')]\n",
      "[('americanar', 'http://www.wikidata.org/entity/Q3017360'), ('americanarLabel', 'David Adler'), ('work', 'http://www.wikidata.org/entity/Q16198500'), ('workLabel', 'Mrs. Isaac D. Adler House'), ('country', 'http://www.wikidata.org/entity/Q10121707'), ('countryLabel', '2002 in transport')]\n",
      "[('americanar', 'http://www.wikidata.org/entity/Q3017360'), ('americanarLabel', 'David Adler'), ('work', 'http://www.wikidata.org/entity/Q16198500'), ('workLabel', 'Mrs. Isaac D. Adler House'), ('country', 'http://www.wikidata.org/entity/Q10130131'), ('countryLabel', '2006 in transport')]\n",
      "[('americanar', 'http://www.wikidata.org/entity/Q3017360'), ('americanarLabel', 'David Adler'), ('work', 'http://www.wikidata.org/entity/Q16198500'), ('workLabel', 'Mrs. Isaac D. Adler House'), ('country', 'http://www.wikidata.org/entity/Q10145708'), ('countryLabel', 'Category:1920 elections in Oceania')]\n",
      "[('americanar', 'http://www.wikidata.org/entity/Q3017360'), ('americanarLabel', 'David Adler'), ('work', 'http://www.wikidata.org/entity/Q16198500'), ('workLabel', 'Mrs. Isaac D. Adler House'), ('country', 'http://www.wikidata.org/entity/Q10147007'), ('countryLabel', 'Category:2002 elections in South America')]\n",
      "[('americanar', 'http://www.wikidata.org/entity/Q3017360'), ('americanarLabel', 'David Adler'), ('work', 'http://www.wikidata.org/entity/Q16198500'), ('workLabel', 'Mrs. Isaac D. Adler House'), ('country', 'http://www.wikidata.org/entity/Q10176484'), ('countryLabel', 'Category:Teluk Sebong')]\n",
      "[('americanar', 'http://www.wikidata.org/entity/Q3017360'), ('americanarLabel', 'David Adler'), ('work', 'http://www.wikidata.org/entity/Q16198500'), ('workLabel', 'Mrs. Isaac D. Adler House'), ('country', 'http://www.wikidata.org/entity/Q1018547'), ('countryLabel', 'Võnnu Rural Municipality')]\n",
      "[('americanar', 'http://www.wikidata.org/entity/Q3017360'), ('americanarLabel', 'David Adler'), ('work', 'http://www.wikidata.org/entity/Q16198500'), ('workLabel', 'Mrs. Isaac D. Adler House'), ('country', 'http://www.wikidata.org/entity/Q102115260'), ('countryLabel', 'Kojiro Kobayashi')]\n",
      "[('americanar', 'http://www.wikidata.org/entity/Q3017360'), ('americanarLabel', 'David Adler'), ('work', 'http://www.wikidata.org/entity/Q16198500'), ('workLabel', 'Mrs. Isaac D. Adler House'), ('country', 'http://www.wikidata.org/entity/Q102118153'), ('countryLabel', 'Miguel E. M. Herrera')]\n",
      "[('americanar', 'http://www.wikidata.org/entity/Q3017360'), ('americanarLabel', 'David Adler'), ('work', 'http://www.wikidata.org/entity/Q16198500'), ('workLabel', 'Mrs. Isaac D. Adler House'), ('country', 'http://www.wikidata.org/entity/Q10237146'), ('countryLabel', 'Category:Akita Shoten magazines')]\n",
      "[('americanar', 'http://www.wikidata.org/entity/Q3017360'), ('americanarLabel', 'David Adler'), ('work', 'http://www.wikidata.org/entity/Q16198500'), ('workLabel', 'Mrs. Isaac D. Adler House'), ('country', 'http://www.wikidata.org/entity/Q1024094'), ('countryLabel', \"2010 CONCACAF Women's Gold Cup\")]\n",
      "[('americanar', 'http://www.wikidata.org/entity/Q3017360'), ('americanarLabel', 'David Adler'), ('work', 'http://www.wikidata.org/entity/Q16198500'), ('workLabel', 'Mrs. Isaac D. Adler House'), ('country', 'http://www.wikidata.org/entity/Q10271305'), ('countryLabel', '2014 FIFA World Cup venues')]\n",
      "[('americanar', 'http://www.wikidata.org/entity/Q3017360'), ('americanarLabel', 'David Adler'), ('work', 'http://www.wikidata.org/entity/Q16198500'), ('workLabel', 'Mrs. Isaac D. Adler House'), ('country', 'http://www.wikidata.org/entity/Q102730099'), ('countryLabel', 'ambassador of Guatemala to France')]\n",
      "[('americanar', 'http://www.wikidata.org/entity/Q3017360'), ('americanarLabel', 'David Adler'), ('work', 'http://www.wikidata.org/entity/Q16198500'), ('workLabel', 'Mrs. Isaac D. Adler House'), ('country', 'http://www.wikidata.org/entity/Q10275776'), ('countryLabel', 'Estação Ferroviária de Mafra')]\n",
      "[('americanar', 'http://www.wikidata.org/entity/Q3017360'), ('americanarLabel', 'David Adler'), ('work', 'http://www.wikidata.org/entity/Q16198500'), ('workLabel', 'Mrs. Isaac D. Adler House'), ('country', 'http://www.wikidata.org/entity/Q10279508'), ('countryLabel', 'Faculdade de Letras da Universidade de Coimbra')]\n",
      "[('americanar', 'http://www.wikidata.org/entity/Q3017360'), ('americanarLabel', 'David Adler'), ('work', 'http://www.wikidata.org/entity/Q16198500'), ('workLabel', 'Mrs. Isaac D. Adler House'), ('country', 'http://www.wikidata.org/entity/Q10279509'), ('countryLabel', 'Faculty of Arts and Humanities of the University of Porto')]\n",
      "[('americanar', 'http://www.wikidata.org/entity/Q3017360'), ('americanarLabel', 'David Adler'), ('work', 'http://www.wikidata.org/entity/Q16198500'), ('workLabel', 'Mrs. Isaac D. Adler House'), ('country', 'http://www.wikidata.org/entity/Q1028297'), ('countryLabel', 'Aji')]\n",
      "[('americanar', 'http://www.wikidata.org/entity/Q3017360'), ('americanarLabel', 'David Adler'), ('work', 'http://www.wikidata.org/entity/Q16198500'), ('workLabel', 'Mrs. Isaac D. Adler House'), ('country', 'http://www.wikidata.org/entity/Q10388300'), ('countryLabel', 'Urucu')]\n",
      "[('americanar', 'http://www.wikidata.org/entity/Q3017360'), ('americanarLabel', 'David Adler'), ('work', 'http://www.wikidata.org/entity/Q16198500'), ('workLabel', 'Mrs. Isaac D. Adler House'), ('country', 'http://www.wikidata.org/entity/Q10436048'), ('countryLabel', 'jikimiyake')]\n",
      "[('americanar', 'http://www.wikidata.org/entity/Q3017360'), ('americanarLabel', 'David Adler'), ('work', 'http://www.wikidata.org/entity/Q16198500'), ('workLabel', 'Mrs. Isaac D. Adler House'), ('country', 'http://www.wikidata.org/entity/Q104528620'), ('countryLabel', 'war horse')]\n",
      "[('americanar', 'http://www.wikidata.org/entity/Q3017360'), ('americanarLabel', 'David Adler'), ('work', 'http://www.wikidata.org/entity/Q16198500'), ('workLabel', 'Mrs. Isaac D. Adler House'), ('country', 'http://www.wikidata.org/entity/Q1046546'), ('countryLabel', '2010 Pacific hurricane season')]\n",
      "[('americanar', 'http://www.wikidata.org/entity/Q3017360'), ('americanarLabel', 'David Adler'), ('work', 'http://www.wikidata.org/entity/Q16198500'), ('workLabel', 'Mrs. Isaac D. Adler House'), ('country', 'http://www.wikidata.org/entity/Q10480703'), ('countryLabel', '1972 in economics')]\n",
      "[('americanar', 'http://www.wikidata.org/entity/Q3017360'), ('americanarLabel', 'David Adler'), ('work', 'http://www.wikidata.org/entity/Q16198500'), ('workLabel', 'Mrs. Isaac D. Adler House'), ('country', 'http://www.wikidata.org/entity/Q1053559'), ('countryLabel', '2020 Winter Youth Olympics')]\n",
      "[('americanar', 'http://www.wikidata.org/entity/Q3017360'), ('americanarLabel', 'David Adler'), ('work', 'http://www.wikidata.org/entity/Q16198500'), ('workLabel', 'Mrs. Isaac D. Adler House'), ('country', 'http://www.wikidata.org/entity/Q1055353'), ('countryLabel', 'Hitachi Province')]\n",
      "[('americanar', 'http://www.wikidata.org/entity/Q3017360'), ('americanarLabel', 'David Adler'), ('work', 'http://www.wikidata.org/entity/Q16198500'), ('workLabel', 'Mrs. Isaac D. Adler House'), ('country', 'http://www.wikidata.org/entity/Q10561524'), ('countryLabel', 'Lightiella')]\n",
      "[('americanar', 'http://www.wikidata.org/entity/Q3017360'), ('americanarLabel', 'David Adler'), ('work', 'http://www.wikidata.org/entity/Q16198500'), ('workLabel', 'Mrs. Isaac D. Adler House'), ('country', 'http://www.wikidata.org/entity/Q105701834'), ('countryLabel', 'compilation album released this year')]\n",
      "[('americanar', 'http://www.wikidata.org/entity/Q3017360'), ('americanarLabel', 'David Adler'), ('work', 'http://www.wikidata.org/entity/Q16198500'), ('workLabel', 'Mrs. Isaac D. Adler House'), ('country', 'http://www.wikidata.org/entity/Q1057504'), ('countryLabel', 'region of Ethiopia')]\n",
      "[('americanar', 'http://www.wikidata.org/entity/Q3017360'), ('americanarLabel', 'David Adler'), ('work', 'http://www.wikidata.org/entity/Q16198500'), ('workLabel', 'Mrs. Isaac D. Adler House'), ('country', 'http://www.wikidata.org/entity/Q105753880'), ('countryLabel', 'Mateo Egea')]\n",
      "[('americanar', 'http://www.wikidata.org/entity/Q3017360'), ('americanarLabel', 'David Adler'), ('work', 'http://www.wikidata.org/entity/Q16198500'), ('workLabel', 'Mrs. Isaac D. Adler House'), ('country', 'http://www.wikidata.org/entity/Q10583001'), ('countryLabel', '1942 in meteorology')]\n",
      "[('americanar', 'http://www.wikidata.org/entity/Q3017360'), ('americanarLabel', 'David Adler'), ('work', 'http://www.wikidata.org/entity/Q16198500'), ('workLabel', 'Mrs. Isaac D. Adler House'), ('country', 'http://www.wikidata.org/entity/Q10583019'), ('countryLabel', '1958 in meteorology')]\n",
      "[('americanar', 'http://www.wikidata.org/entity/Q3017360'), ('americanarLabel', 'David Adler'), ('work', 'http://www.wikidata.org/entity/Q16198500'), ('workLabel', 'Mrs. Isaac D. Adler House'), ('country', 'http://www.wikidata.org/entity/Q10583024'), ('countryLabel', '1964 in meteorology')]\n",
      "[('americanar', 'http://www.wikidata.org/entity/Q3017360'), ('americanarLabel', 'David Adler'), ('work', 'http://www.wikidata.org/entity/Q16198500'), ('workLabel', 'Mrs. Isaac D. Adler House'), ('country', 'http://www.wikidata.org/entity/Q10583031'), ('countryLabel', '1971 in meteorology')]\n",
      "[('americanar', 'http://www.wikidata.org/entity/Q3017360'), ('americanarLabel', 'David Adler'), ('work', 'http://www.wikidata.org/entity/Q16198500'), ('workLabel', 'Mrs. Isaac D. Adler House'), ('country', 'http://www.wikidata.org/entity/Q10583049'), ('countryLabel', '1989 in meteorology')]\n",
      "[('americanar', 'http://www.wikidata.org/entity/Q3017360'), ('americanarLabel', 'David Adler'), ('work', 'http://www.wikidata.org/entity/Q16198500'), ('workLabel', 'Mrs. Isaac D. Adler House'), ('country', 'http://www.wikidata.org/entity/Q10583060'), ('countryLabel', '2000 in meteorology')]\n",
      "[('americanar', 'http://www.wikidata.org/entity/Q3017360'), ('americanarLabel', 'David Adler'), ('work', 'http://www.wikidata.org/entity/Q16198500'), ('workLabel', 'Mrs. Isaac D. Adler House'), ('country', 'http://www.wikidata.org/entity/Q10583063'), ('countryLabel', '2003 in meteorology')]\n",
      "[('americanar', 'http://www.wikidata.org/entity/Q3017360'), ('americanarLabel', 'David Adler'), ('work', 'http://www.wikidata.org/entity/Q16198500'), ('workLabel', 'Mrs. Isaac D. Adler House'), ('country', 'http://www.wikidata.org/entity/Q1058869'), ('countryLabel', 'Nemėžis')]\n",
      "[('americanar', 'http://www.wikidata.org/entity/Q3017360'), ('americanarLabel', 'David Adler'), ('work', 'http://www.wikidata.org/entity/Q16198500'), ('workLabel', 'Mrs. Isaac D. Adler House'), ('country', 'http://www.wikidata.org/entity/Q1058937'), ('countryLabel', '530 BC')]\n",
      "[('americanar', 'http://www.wikidata.org/entity/Q3017360'), ('americanarLabel', 'David Adler'), ('work', 'http://www.wikidata.org/entity/Q16198500'), ('workLabel', 'Mrs. Isaac D. Adler House'), ('country', 'http://www.wikidata.org/entity/Q106093218'), ('countryLabel', 'ambassador of China to Peru')]\n",
      "[('americanar', 'http://www.wikidata.org/entity/Q3017360'), ('americanarLabel', 'David Adler'), ('work', 'http://www.wikidata.org/entity/Q16198500'), ('workLabel', 'Mrs. Isaac D. Adler House'), ('country', 'http://www.wikidata.org/entity/Q10634104'), ('countryLabel', 'Pleomothra')]\n",
      "[('americanar', 'http://www.wikidata.org/entity/Q3017360'), ('americanarLabel', 'David Adler'), ('work', 'http://www.wikidata.org/entity/Q16198500'), ('workLabel', 'Mrs. Isaac D. Adler House'), ('country', 'http://www.wikidata.org/entity/Q10636222'), ('countryLabel', '1967 in politics')]\n",
      "[('americanar', 'http://www.wikidata.org/entity/Q3017360'), ('americanarLabel', 'David Adler'), ('work', 'http://www.wikidata.org/entity/Q16198500'), ('workLabel', 'Mrs. Isaac D. Adler House'), ('country', 'http://www.wikidata.org/entity/Q1064712'), ('countryLabel', '1970 FIFA World Cup qualification')]\n",
      "[('americanar', 'http://www.wikidata.org/entity/Q3017360'), ('americanarLabel', 'David Adler'), ('work', 'http://www.wikidata.org/entity/Q16198500'), ('workLabel', 'Mrs. Isaac D. Adler House'), ('country', 'http://www.wikidata.org/entity/Q106574800'), ('countryLabel', 'List of ambassadors of Gabon to the United States')]\n",
      "[('americanar', 'http://www.wikidata.org/entity/Q3017360'), ('americanarLabel', 'David Adler'), ('work', 'http://www.wikidata.org/entity/Q16198500'), ('workLabel', 'Mrs. Isaac D. Adler House'), ('country', 'http://www.wikidata.org/entity/Q1066033'), ('countryLabel', 'Vietnamese name')]\n",
      "[('americanar', 'http://www.wikidata.org/entity/Q3017360'), ('americanarLabel', 'David Adler'), ('work', 'http://www.wikidata.org/entity/Q16198500'), ('workLabel', 'Mrs. Isaac D. Adler House'), ('country', 'http://www.wikidata.org/entity/Q106696027'), ('countryLabel', '2003 in the Democratic Republic of the Congo')]\n",
      "[('americanar', 'http://www.wikidata.org/entity/Q3017360'), ('americanarLabel', 'David Adler'), ('work', 'http://www.wikidata.org/entity/Q16198500'), ('workLabel', 'Mrs. Isaac D. Adler House'), ('country', 'http://www.wikidata.org/entity/Q106696048'), ('countryLabel', '2000 in the Democratic Republic of the Congo')]\n",
      "[('americanar', 'http://www.wikidata.org/entity/Q3017360'), ('americanarLabel', 'David Adler'), ('work', 'http://www.wikidata.org/entity/Q16198500'), ('workLabel', 'Mrs. Isaac D. Adler House'), ('country', 'http://www.wikidata.org/entity/Q106764375'), ('countryLabel', 'List of ANZ Championship players')]\n",
      "[('americanar', 'http://www.wikidata.org/entity/Q3017360'), ('americanarLabel', 'David Adler'), ('work', 'http://www.wikidata.org/entity/Q16198500'), ('workLabel', 'Mrs. Isaac D. Adler House'), ('country', 'http://www.wikidata.org/entity/Q106823762'), ('countryLabel', 'veterinary scientist')]\n",
      "[('americanar', 'http://www.wikidata.org/entity/Q3017360'), ('americanarLabel', 'David Adler'), ('work', 'http://www.wikidata.org/entity/Q16198500'), ('workLabel', 'Mrs. Isaac D. Adler House'), ('country', 'http://www.wikidata.org/entity/Q10683250'), ('countryLabel', 'Suctobelbella')]\n",
      "[('americanar', 'http://www.wikidata.org/entity/Q3017360'), ('americanarLabel', 'David Adler'), ('work', 'http://www.wikidata.org/entity/Q16198500'), ('workLabel', 'Mrs. Isaac D. Adler House'), ('country', 'http://www.wikidata.org/entity/Q106884579'), ('countryLabel', 'Versailles EPs discography')]\n",
      "[('americanar', 'http://www.wikidata.org/entity/Q3017360'), ('americanarLabel', 'David Adler'), ('work', 'http://www.wikidata.org/entity/Q16198500'), ('workLabel', 'Mrs. Isaac D. Adler House'), ('country', 'http://www.wikidata.org/entity/Q107407449'), ('countryLabel', '2014 in Namibia')]\n",
      "[('americanar', 'http://www.wikidata.org/entity/Q3017360'), ('americanarLabel', 'David Adler'), ('work', 'http://www.wikidata.org/entity/Q16198500'), ('workLabel', 'Mrs. Isaac D. Adler House'), ('country', 'http://www.wikidata.org/entity/Q1074111'), ('countryLabel', '1975 in sports')]\n",
      "[('americanar', 'http://www.wikidata.org/entity/Q3017360'), ('americanarLabel', 'David Adler'), ('work', 'http://www.wikidata.org/entity/Q16198500'), ('workLabel', 'Mrs. Isaac D. Adler House'), ('country', 'http://www.wikidata.org/entity/Q107441260'), ('countryLabel', \"Aaliyah's albums in chronological order\")]\n",
      "[('americanar', 'http://www.wikidata.org/entity/Q3017360'), ('americanarLabel', 'David Adler'), ('work', 'http://www.wikidata.org/entity/Q16198500'), ('workLabel', 'Mrs. Isaac D. Adler House'), ('country', 'http://www.wikidata.org/entity/Q107520918'), ('countryLabel', 'Jerónimo Latorre')]\n",
      "[('americanar', 'http://www.wikidata.org/entity/Q3017360'), ('americanarLabel', 'David Adler'), ('work', 'http://www.wikidata.org/entity/Q16198500'), ('workLabel', 'Mrs. Isaac D. Adler House'), ('country', 'http://www.wikidata.org/entity/Q107587774'), ('countryLabel', '2000 in Uganda')]\n",
      "[('americanar', 'http://www.wikidata.org/entity/Q3017360'), ('americanarLabel', 'David Adler'), ('work', 'http://www.wikidata.org/entity/Q16198500'), ('workLabel', 'Mrs. Isaac D. Adler House'), ('country', 'http://www.wikidata.org/entity/Q107690225'), ('countryLabel', 'Paratge natural municipal')]\n",
      "[('americanar', 'http://www.wikidata.org/entity/Q3017360'), ('americanarLabel', 'David Adler'), ('work', 'http://www.wikidata.org/entity/Q16198500'), ('workLabel', 'Mrs. Isaac D. Adler House'), ('country', 'http://www.wikidata.org/entity/Q1078462'), ('countryLabel', '1972 in sports')]\n",
      "[('americanar', 'http://www.wikidata.org/entity/Q3017360'), ('americanarLabel', 'David Adler'), ('work', 'http://www.wikidata.org/entity/Q16198500'), ('workLabel', 'Mrs. Isaac D. Adler House'), ('country', 'http://www.wikidata.org/entity/Q107875682'), ('countryLabel', 'Alma Scots baseball')]\n",
      "[('americanar', 'http://www.wikidata.org/entity/Q3017360'), ('americanarLabel', 'David Adler'), ('work', 'http://www.wikidata.org/entity/Q16198500'), ('workLabel', 'Mrs. Isaac D. Adler House'), ('country', 'http://www.wikidata.org/entity/Q107877610'), ('countryLabel', 'Alfred Saxons football')]\n",
      "[('americanar', 'http://www.wikidata.org/entity/Q3017360'), ('americanarLabel', 'David Adler'), ('work', 'http://www.wikidata.org/entity/Q16198500'), ('workLabel', 'Mrs. Isaac D. Adler House'), ('country', 'http://www.wikidata.org/entity/Q1078784'), ('countryLabel', '1987 in sports')]\n",
      "[('americanar', 'http://www.wikidata.org/entity/Q3017360'), ('americanarLabel', 'David Adler'), ('work', 'http://www.wikidata.org/entity/Q16198500'), ('workLabel', 'Mrs. Isaac D. Adler House'), ('country', 'http://www.wikidata.org/entity/Q1079203'), ('countryLabel', '1928 in sports')]\n",
      "[('americanar', 'http://www.wikidata.org/entity/Q3017360'), ('americanarLabel', 'David Adler'), ('work', 'http://www.wikidata.org/entity/Q16198500'), ('workLabel', 'Mrs. Isaac D. Adler House'), ('country', 'http://www.wikidata.org/entity/Q1081152'), ('countryLabel', '2010 World Touring Car Championship season')]\n",
      "[('americanar', 'http://www.wikidata.org/entity/Q3017360'), ('americanarLabel', 'David Adler'), ('work', 'http://www.wikidata.org/entity/Q16198500'), ('workLabel', 'Mrs. Isaac D. Adler House'), ('country', 'http://www.wikidata.org/entity/Q1082132'), ('countryLabel', '2004 UEFA European Under-17 Football Championship')]\n",
      "[('americanar', 'http://www.wikidata.org/entity/Q3017360'), ('americanarLabel', 'David Adler'), ('work', 'http://www.wikidata.org/entity/Q16198500'), ('workLabel', 'Mrs. Isaac D. Adler House'), ('country', 'http://www.wikidata.org/entity/Q10832870'), ('countryLabel', '2012 in Vietnam')]\n",
      "[('americanar', 'http://www.wikidata.org/entity/Q3017360'), ('americanarLabel', 'David Adler'), ('work', 'http://www.wikidata.org/entity/Q16198500'), ('workLabel', 'Mrs. Isaac D. Adler House'), ('country', 'http://www.wikidata.org/entity/Q10843970'), ('countryLabel', '1984 in Taiwan')]\n",
      "[('americanar', 'http://www.wikidata.org/entity/Q3017360'), ('americanarLabel', 'David Adler'), ('work', 'http://www.wikidata.org/entity/Q16198500'), ('workLabel', 'Mrs. Isaac D. Adler House'), ('country', 'http://www.wikidata.org/entity/Q10847276'), ('countryLabel', 'Green Garden Pop')]\n",
      "[('americanar', 'http://www.wikidata.org/entity/Q3017360'), ('americanarLabel', 'David Adler'), ('work', 'http://www.wikidata.org/entity/Q16198500'), ('workLabel', 'Mrs. Isaac D. Adler House'), ('country', 'http://www.wikidata.org/entity/Q10868675'), ('countryLabel', 'Kakyuusei 2')]\n",
      "[('americanar', 'http://www.wikidata.org/entity/Q3017360'), ('americanarLabel', 'David Adler'), ('work', 'http://www.wikidata.org/entity/Q16198500'), ('workLabel', 'Mrs. Isaac D. Adler House'), ('country', 'http://www.wikidata.org/entity/Q10874329'), ('countryLabel', 'List of ambassador of China to Peru')]\n",
      "[('americanar', 'http://www.wikidata.org/entity/Q3017360'), ('americanarLabel', 'David Adler'), ('work', 'http://www.wikidata.org/entity/Q16198500'), ('workLabel', 'Mrs. Isaac D. Adler House'), ('country', 'http://www.wikidata.org/entity/Q1091318'), ('countryLabel', '1994 in sports')]\n",
      "[('americanar', 'http://www.wikidata.org/entity/Q3017360'), ('americanarLabel', 'David Adler'), ('work', 'http://www.wikidata.org/entity/Q16198500'), ('workLabel', 'Mrs. Isaac D. Adler House'), ('country', 'http://www.wikidata.org/entity/Q109144'), ('countryLabel', 'tidal locking')]\n",
      "[('americanar', 'http://www.wikidata.org/entity/Q3017360'), ('americanarLabel', 'David Adler'), ('work', 'http://www.wikidata.org/entity/Q16198500'), ('workLabel', 'Mrs. Isaac D. Adler House'), ('country', 'http://www.wikidata.org/entity/Q1091623'), ('countryLabel', '1998 in sports')]\n",
      "[('americanar', 'http://www.wikidata.org/entity/Q3017360'), ('americanarLabel', 'David Adler'), ('work', 'http://www.wikidata.org/entity/Q16198500'), ('workLabel', 'Mrs. Isaac D. Adler House'), ('country', 'http://www.wikidata.org/entity/Q109576'), ('countryLabel', 'Aegadian Islands')]\n",
      "[('americanar', 'http://www.wikidata.org/entity/Q3017360'), ('americanarLabel', 'David Adler'), ('work', 'http://www.wikidata.org/entity/Q16198500'), ('workLabel', 'Mrs. Isaac D. Adler House'), ('country', 'http://www.wikidata.org/entity/Q10999435'), ('countryLabel', 'Vice President of the Maldives')]\n",
      "[('americanar', 'http://www.wikidata.org/entity/Q3017360'), ('americanarLabel', 'David Adler'), ('work', 'http://www.wikidata.org/entity/Q16198500'), ('workLabel', 'Mrs. Isaac D. Adler House'), ('country', 'http://www.wikidata.org/entity/Q11074221'), ('countryLabel', 'Prince Qing')]\n",
      "[('americanar', 'http://www.wikidata.org/entity/Q3017360'), ('americanarLabel', 'David Adler'), ('work', 'http://www.wikidata.org/entity/Q16198500'), ('workLabel', 'Mrs. Isaac D. Adler House'), ('country', 'http://www.wikidata.org/entity/Q1114794'), ('countryLabel', \"Grey's Anatomy, season 1\")]\n",
      "[('americanar', 'http://www.wikidata.org/entity/Q3017360'), ('americanarLabel', 'David Adler'), ('work', 'http://www.wikidata.org/entity/Q16198500'), ('workLabel', 'Mrs. Isaac D. Adler House'), ('country', 'http://www.wikidata.org/entity/Q11167612'), ('countryLabel', 'Category:2009 in Australian sport')]\n",
      "[('americanar', 'http://www.wikidata.org/entity/Q3017360'), ('americanarLabel', 'David Adler'), ('work', 'http://www.wikidata.org/entity/Q16198500'), ('workLabel', 'Mrs. Isaac D. Adler House'), ('country', 'http://www.wikidata.org/entity/Q11186091'), ('countryLabel', '1990 in volleyball')]\n",
      "[('americanar', 'http://www.wikidata.org/entity/Q3017360'), ('americanarLabel', 'David Adler'), ('work', 'http://www.wikidata.org/entity/Q16198500'), ('workLabel', 'Mrs. Isaac D. Adler House'), ('country', 'http://www.wikidata.org/entity/Q11186218'), ('countryLabel', '1998 in education')]\n",
      "[('americanar', 'http://www.wikidata.org/entity/Q3017360'), ('americanarLabel', 'David Adler'), ('work', 'http://www.wikidata.org/entity/Q16198500'), ('workLabel', 'Mrs. Isaac D. Adler House'), ('country', 'http://www.wikidata.org/entity/Q11187133'), ('countryLabel', '2016 in transport')]\n",
      "[('americanar', 'http://www.wikidata.org/entity/Q3017360'), ('americanarLabel', 'David Adler'), ('work', 'http://www.wikidata.org/entity/Q16198500'), ('workLabel', 'Mrs. Isaac D. Adler House'), ('country', 'http://www.wikidata.org/entity/Q1122543'), ('countryLabel', '1995 UCI Track Cycling World Championships')]\n",
      "[('americanar', 'http://www.wikidata.org/entity/Q3017360'), ('americanarLabel', 'David Adler'), ('work', 'http://www.wikidata.org/entity/Q16198500'), ('workLabel', 'Mrs. Isaac D. Adler House'), ('country', 'http://www.wikidata.org/entity/Q11235194'), ('countryLabel', 'Tokyo Solamachi')]\n",
      "[('americanar', 'http://www.wikidata.org/entity/Q3017360'), ('americanarLabel', 'David Adler'), ('work', 'http://www.wikidata.org/entity/Q16198500'), ('workLabel', 'Mrs. Isaac D. Adler House'), ('country', 'http://www.wikidata.org/entity/Q11250'), ('countryLabel', 'Kubuntu')]\n",
      "[('americanar', 'http://www.wikidata.org/entity/Q3017360'), ('americanarLabel', 'David Adler'), ('work', 'http://www.wikidata.org/entity/Q16198500'), ('workLabel', 'Mrs. Isaac D. Adler House'), ('country', 'http://www.wikidata.org/entity/Q1128095'), ('countryLabel', 'The Village Gate')]\n",
      "[('americanar', 'http://www.wikidata.org/entity/Q3017360'), ('americanarLabel', 'David Adler'), ('work', 'http://www.wikidata.org/entity/Q16198500'), ('workLabel', 'Mrs. Isaac D. Adler House'), ('country', 'http://www.wikidata.org/entity/Q11292651'), ('countryLabel', 'Orix Real Estate')]\n",
      "[('americanar', 'http://www.wikidata.org/entity/Q3017360'), ('americanarLabel', 'David Adler'), ('work', 'http://www.wikidata.org/entity/Q16198500'), ('workLabel', 'Mrs. Isaac D. Adler House'), ('country', 'http://www.wikidata.org/entity/Q1129391'), ('countryLabel', \"All People's Party\")]\n",
      "[('americanar', 'http://www.wikidata.org/entity/Q3017360'), ('americanarLabel', 'David Adler'), ('work', 'http://www.wikidata.org/entity/Q16198500'), ('workLabel', 'Mrs. Isaac D. Adler House'), ('country', 'http://www.wikidata.org/entity/Q113120'), ('countryLabel', 'Sliven Province')]\n",
      "[('americanar', 'http://www.wikidata.org/entity/Q3017360'), ('americanarLabel', 'David Adler'), ('work', 'http://www.wikidata.org/entity/Q16198500'), ('workLabel', 'Mrs. Isaac D. Adler House'), ('country', 'http://www.wikidata.org/entity/Q11336831'), ('countryLabel', 'list of Vegalta Sendai players')]\n",
      "[('americanar', 'http://www.wikidata.org/entity/Q3017360'), ('americanarLabel', 'David Adler'), ('work', 'http://www.wikidata.org/entity/Q16198500'), ('workLabel', 'Mrs. Isaac D. Adler House'), ('country', 'http://www.wikidata.org/entity/Q11360774'), ('countryLabel', 'Shimo-Umi Station')]\n",
      "[('americanar', 'http://www.wikidata.org/entity/Q3017360'), ('americanarLabel', 'David Adler'), ('work', 'http://www.wikidata.org/entity/Q16198500'), ('workLabel', 'Mrs. Isaac D. Adler House'), ('country', 'http://www.wikidata.org/entity/Q1137516'), ('countryLabel', '2009–2010 Coupe de France')]\n",
      "[('americanar', 'http://www.wikidata.org/entity/Q3017360'), ('americanarLabel', 'David Adler'), ('work', 'http://www.wikidata.org/entity/Q16198500'), ('workLabel', 'Mrs. Isaac D. Adler House'), ('country', 'http://www.wikidata.org/entity/Q11387370'), ('countryLabel', 'Bingo-nada')]\n"
     ]
    },
    {
     "data": {
      "text/plain": [
       "100"
      ]
     },
     "execution_count": 51,
     "metadata": {},
     "output_type": "execute_result"
    }
   ],
   "source": [
    "# adding USA as country\n",
    "queryString = \"\"\"\n",
    "    SELECT DISTINCT ?americanar ?americanarLabel ?work ?workLabel ?country ?countryLabel\n",
    "    WHERE { \n",
    "        ?americanar wdt:P27 wd:Q30  . \n",
    "        ?americanar wdt:P106 wd:Q42973 .\n",
    "        ?work wdt:P84 ?americanar ;\n",
    "              wdt:P17 wd:Q30 .\n",
    "             # BIND (wd:Q30 AS ?country) .\n",
    "              \n",
    "              \n",
    "        ## labels\n",
    "        ?americanar <http://schema.org/name> ?americanarLabel .\n",
    "        ?work <http://schema.org/name> ?workLabel .              \n",
    "        #?city <http://schema.org/name> ?cityLabel .  \n",
    "        ?country <http://schema.org/name> ?countryLabel .  \n",
    "    } \n",
    "    LIMIT 100\n",
    "\n",
    "\"\"\"\n",
    "\n",
    "print(\"Results\")\n",
    "run_query(queryString)\n"
   ]
  },
  {
   "cell_type": "code",
   "execution_count": 52,
   "id": "4643e2f4-85e5-4420-8b5f-57aa6cbb8e30",
   "metadata": {},
   "outputs": [
    {
     "name": "stdout",
     "output_type": "stream",
     "text": [
      "Results\n",
      "[('americanarLabel', 'David Adler'), ('workLabel', 'Mrs. Isaac D. Adler House'), ('countryLabel', 'software version identifier'), ('styleLabel', 'Colonial Revival architecture'), ('typebuildingLabel', 'single-family detached home')]\n",
      "[('americanarLabel', 'David Adler'), ('workLabel', 'Mrs. Isaac D. Adler House'), ('countryLabel', 'tabular software version'), ('styleLabel', 'Colonial Revival architecture'), ('typebuildingLabel', 'single-family detached home')]\n",
      "[('americanarLabel', 'David Adler'), ('workLabel', 'Mrs. Isaac D. Adler House'), ('countryLabel', 'has edition or translation'), ('styleLabel', 'Colonial Revival architecture'), ('typebuildingLabel', 'single-family detached home')]\n",
      "[('americanarLabel', 'David Adler'), ('workLabel', 'Mrs. Isaac D. Adler House'), ('countryLabel', 'Fonsi Nieto'), ('styleLabel', 'Colonial Revival architecture'), ('typebuildingLabel', 'single-family detached home')]\n",
      "[('americanarLabel', 'David Adler'), ('workLabel', 'Mrs. Isaac D. Adler House'), ('countryLabel', \"Al Stewart's albums in chronological order\"), ('styleLabel', 'Colonial Revival architecture'), ('typebuildingLabel', 'single-family detached home')]\n",
      "[('americanarLabel', 'David Adler'), ('workLabel', 'Mrs. Isaac D. Adler House'), ('countryLabel', 'Category:Adelina Lopes Vieira'), ('styleLabel', 'Colonial Revival architecture'), ('typebuildingLabel', 'single-family detached home')]\n",
      "[('americanarLabel', 'David Adler'), ('workLabel', 'Mrs. Isaac D. Adler House'), ('countryLabel', 'Lubomír Stoklásek'), ('styleLabel', 'Colonial Revival architecture'), ('typebuildingLabel', 'single-family detached home')]\n",
      "[('americanarLabel', 'David Adler'), ('workLabel', 'Mrs. Isaac D. Adler House'), ('countryLabel', 'Ciudad Vieja'), ('styleLabel', 'Colonial Revival architecture'), ('typebuildingLabel', 'single-family detached home')]\n",
      "[('americanarLabel', 'David Adler'), ('workLabel', 'Mrs. Isaac D. Adler House'), ('countryLabel', 'Echániz'), ('styleLabel', 'Colonial Revival architecture'), ('typebuildingLabel', 'single-family detached home')]\n",
      "[('americanarLabel', 'David Adler'), ('workLabel', 'Mrs. Isaac D. Adler House'), ('countryLabel', 'Natuna'), ('styleLabel', 'Colonial Revival architecture'), ('typebuildingLabel', 'single-family detached home')]\n",
      "[('americanarLabel', 'David Adler'), ('workLabel', 'Mrs. Isaac D. Adler House'), ('countryLabel', \"Acid Mothers Temple's albums in chronological order\"), ('styleLabel', 'Colonial Revival architecture'), ('typebuildingLabel', 'single-family detached home')]\n",
      "[('americanarLabel', 'David Adler'), ('workLabel', 'Mrs. Isaac D. Adler House'), ('countryLabel', 'Relaño'), ('styleLabel', 'Colonial Revival architecture'), ('typebuildingLabel', 'single-family detached home')]\n",
      "[('americanarLabel', 'David Adler'), ('workLabel', 'Mrs. Isaac D. Adler House'), ('countryLabel', '2002 in transport'), ('styleLabel', 'Colonial Revival architecture'), ('typebuildingLabel', 'single-family detached home')]\n",
      "[('americanarLabel', 'David Adler'), ('workLabel', 'Mrs. Isaac D. Adler House'), ('countryLabel', '2006 in transport'), ('styleLabel', 'Colonial Revival architecture'), ('typebuildingLabel', 'single-family detached home')]\n",
      "[('americanarLabel', 'David Adler'), ('workLabel', 'Mrs. Isaac D. Adler House'), ('countryLabel', 'Category:1920 elections in Oceania'), ('styleLabel', 'Colonial Revival architecture'), ('typebuildingLabel', 'single-family detached home')]\n",
      "[('americanarLabel', 'David Adler'), ('workLabel', 'Mrs. Isaac D. Adler House'), ('countryLabel', 'Category:2002 elections in South America'), ('styleLabel', 'Colonial Revival architecture'), ('typebuildingLabel', 'single-family detached home')]\n",
      "[('americanarLabel', 'David Adler'), ('workLabel', 'Mrs. Isaac D. Adler House'), ('countryLabel', 'Category:Teluk Sebong'), ('styleLabel', 'Colonial Revival architecture'), ('typebuildingLabel', 'single-family detached home')]\n",
      "[('americanarLabel', 'David Adler'), ('workLabel', 'Mrs. Isaac D. Adler House'), ('countryLabel', 'Võnnu Rural Municipality'), ('styleLabel', 'Colonial Revival architecture'), ('typebuildingLabel', 'single-family detached home')]\n",
      "[('americanarLabel', 'David Adler'), ('workLabel', 'Mrs. Isaac D. Adler House'), ('countryLabel', 'Kojiro Kobayashi'), ('styleLabel', 'Colonial Revival architecture'), ('typebuildingLabel', 'single-family detached home')]\n",
      "[('americanarLabel', 'David Adler'), ('workLabel', 'Mrs. Isaac D. Adler House'), ('countryLabel', 'Miguel E. M. Herrera'), ('styleLabel', 'Colonial Revival architecture'), ('typebuildingLabel', 'single-family detached home')]\n",
      "[('americanarLabel', 'David Adler'), ('workLabel', 'Mrs. Isaac D. Adler House'), ('countryLabel', 'Category:Akita Shoten magazines'), ('styleLabel', 'Colonial Revival architecture'), ('typebuildingLabel', 'single-family detached home')]\n",
      "[('americanarLabel', 'David Adler'), ('workLabel', 'Mrs. Isaac D. Adler House'), ('countryLabel', \"2010 CONCACAF Women's Gold Cup\"), ('styleLabel', 'Colonial Revival architecture'), ('typebuildingLabel', 'single-family detached home')]\n",
      "[('americanarLabel', 'David Adler'), ('workLabel', 'Mrs. Isaac D. Adler House'), ('countryLabel', '2014 FIFA World Cup venues'), ('styleLabel', 'Colonial Revival architecture'), ('typebuildingLabel', 'single-family detached home')]\n",
      "[('americanarLabel', 'David Adler'), ('workLabel', 'Mrs. Isaac D. Adler House'), ('countryLabel', 'ambassador of Guatemala to France'), ('styleLabel', 'Colonial Revival architecture'), ('typebuildingLabel', 'single-family detached home')]\n",
      "[('americanarLabel', 'David Adler'), ('workLabel', 'Mrs. Isaac D. Adler House'), ('countryLabel', 'Estação Ferroviária de Mafra'), ('styleLabel', 'Colonial Revival architecture'), ('typebuildingLabel', 'single-family detached home')]\n",
      "[('americanarLabel', 'David Adler'), ('workLabel', 'Mrs. Isaac D. Adler House'), ('countryLabel', 'Faculdade de Letras da Universidade de Coimbra'), ('styleLabel', 'Colonial Revival architecture'), ('typebuildingLabel', 'single-family detached home')]\n",
      "[('americanarLabel', 'David Adler'), ('workLabel', 'Mrs. Isaac D. Adler House'), ('countryLabel', 'Faculty of Arts and Humanities of the University of Porto'), ('styleLabel', 'Colonial Revival architecture'), ('typebuildingLabel', 'single-family detached home')]\n",
      "[('americanarLabel', 'David Adler'), ('workLabel', 'Mrs. Isaac D. Adler House'), ('countryLabel', 'Aji'), ('styleLabel', 'Colonial Revival architecture'), ('typebuildingLabel', 'single-family detached home')]\n",
      "[('americanarLabel', 'David Adler'), ('workLabel', 'Mrs. Isaac D. Adler House'), ('countryLabel', 'Urucu'), ('styleLabel', 'Colonial Revival architecture'), ('typebuildingLabel', 'single-family detached home')]\n",
      "[('americanarLabel', 'David Adler'), ('workLabel', 'Mrs. Isaac D. Adler House'), ('countryLabel', 'jikimiyake'), ('styleLabel', 'Colonial Revival architecture'), ('typebuildingLabel', 'single-family detached home')]\n",
      "[('americanarLabel', 'David Adler'), ('workLabel', 'Mrs. Isaac D. Adler House'), ('countryLabel', 'war horse'), ('styleLabel', 'Colonial Revival architecture'), ('typebuildingLabel', 'single-family detached home')]\n",
      "[('americanarLabel', 'David Adler'), ('workLabel', 'Mrs. Isaac D. Adler House'), ('countryLabel', '2010 Pacific hurricane season'), ('styleLabel', 'Colonial Revival architecture'), ('typebuildingLabel', 'single-family detached home')]\n",
      "[('americanarLabel', 'David Adler'), ('workLabel', 'Mrs. Isaac D. Adler House'), ('countryLabel', '1972 in economics'), ('styleLabel', 'Colonial Revival architecture'), ('typebuildingLabel', 'single-family detached home')]\n",
      "[('americanarLabel', 'David Adler'), ('workLabel', 'Mrs. Isaac D. Adler House'), ('countryLabel', '2020 Winter Youth Olympics'), ('styleLabel', 'Colonial Revival architecture'), ('typebuildingLabel', 'single-family detached home')]\n",
      "[('americanarLabel', 'David Adler'), ('workLabel', 'Mrs. Isaac D. Adler House'), ('countryLabel', 'Hitachi Province'), ('styleLabel', 'Colonial Revival architecture'), ('typebuildingLabel', 'single-family detached home')]\n",
      "[('americanarLabel', 'David Adler'), ('workLabel', 'Mrs. Isaac D. Adler House'), ('countryLabel', 'Lightiella'), ('styleLabel', 'Colonial Revival architecture'), ('typebuildingLabel', 'single-family detached home')]\n",
      "[('americanarLabel', 'David Adler'), ('workLabel', 'Mrs. Isaac D. Adler House'), ('countryLabel', 'compilation album released this year'), ('styleLabel', 'Colonial Revival architecture'), ('typebuildingLabel', 'single-family detached home')]\n",
      "[('americanarLabel', 'David Adler'), ('workLabel', 'Mrs. Isaac D. Adler House'), ('countryLabel', 'region of Ethiopia'), ('styleLabel', 'Colonial Revival architecture'), ('typebuildingLabel', 'single-family detached home')]\n",
      "[('americanarLabel', 'David Adler'), ('workLabel', 'Mrs. Isaac D. Adler House'), ('countryLabel', 'Mateo Egea'), ('styleLabel', 'Colonial Revival architecture'), ('typebuildingLabel', 'single-family detached home')]\n",
      "[('americanarLabel', 'David Adler'), ('workLabel', 'Mrs. Isaac D. Adler House'), ('countryLabel', '1942 in meteorology'), ('styleLabel', 'Colonial Revival architecture'), ('typebuildingLabel', 'single-family detached home')]\n",
      "[('americanarLabel', 'David Adler'), ('workLabel', 'Mrs. Isaac D. Adler House'), ('countryLabel', '1958 in meteorology'), ('styleLabel', 'Colonial Revival architecture'), ('typebuildingLabel', 'single-family detached home')]\n",
      "[('americanarLabel', 'David Adler'), ('workLabel', 'Mrs. Isaac D. Adler House'), ('countryLabel', '1964 in meteorology'), ('styleLabel', 'Colonial Revival architecture'), ('typebuildingLabel', 'single-family detached home')]\n",
      "[('americanarLabel', 'David Adler'), ('workLabel', 'Mrs. Isaac D. Adler House'), ('countryLabel', '1971 in meteorology'), ('styleLabel', 'Colonial Revival architecture'), ('typebuildingLabel', 'single-family detached home')]\n",
      "[('americanarLabel', 'David Adler'), ('workLabel', 'Mrs. Isaac D. Adler House'), ('countryLabel', '1989 in meteorology'), ('styleLabel', 'Colonial Revival architecture'), ('typebuildingLabel', 'single-family detached home')]\n",
      "[('americanarLabel', 'David Adler'), ('workLabel', 'Mrs. Isaac D. Adler House'), ('countryLabel', '2000 in meteorology'), ('styleLabel', 'Colonial Revival architecture'), ('typebuildingLabel', 'single-family detached home')]\n",
      "[('americanarLabel', 'David Adler'), ('workLabel', 'Mrs. Isaac D. Adler House'), ('countryLabel', '2003 in meteorology'), ('styleLabel', 'Colonial Revival architecture'), ('typebuildingLabel', 'single-family detached home')]\n",
      "[('americanarLabel', 'David Adler'), ('workLabel', 'Mrs. Isaac D. Adler House'), ('countryLabel', 'Nemėžis'), ('styleLabel', 'Colonial Revival architecture'), ('typebuildingLabel', 'single-family detached home')]\n",
      "[('americanarLabel', 'David Adler'), ('workLabel', 'Mrs. Isaac D. Adler House'), ('countryLabel', '530 BC'), ('styleLabel', 'Colonial Revival architecture'), ('typebuildingLabel', 'single-family detached home')]\n",
      "[('americanarLabel', 'David Adler'), ('workLabel', 'Mrs. Isaac D. Adler House'), ('countryLabel', 'ambassador of China to Peru'), ('styleLabel', 'Colonial Revival architecture'), ('typebuildingLabel', 'single-family detached home')]\n",
      "[('americanarLabel', 'David Adler'), ('workLabel', 'Mrs. Isaac D. Adler House'), ('countryLabel', 'Pleomothra'), ('styleLabel', 'Colonial Revival architecture'), ('typebuildingLabel', 'single-family detached home')]\n"
     ]
    },
    {
     "data": {
      "text/plain": [
       "50"
      ]
     },
     "execution_count": 52,
     "metadata": {},
     "output_type": "execute_result"
    }
   ],
   "source": [
    "#Which styles exists in the U.S.? Which type of building?\n",
    "\n",
    "queryString = \"\"\"\n",
    "    SELECT DISTINCT ?americanarLabel ?workLabel ?countryLabel ?styleLabel ?typebuildingLabel\n",
    "    WHERE { \n",
    "        ?americanar wdt:P27 wd:Q30  . \n",
    "        ?americanar wdt:P106 wd:Q42973 .\n",
    "        ?work wdt:P84 ?americanar ;\n",
    "              wdt:P17 wd:Q30 .\n",
    "        ?work wdt:P31 ?typebuilding .\n",
    "        ?work wdt:P149 ?style .\n",
    "        #BIND (wd:Q30 AS ?country) .\n",
    "              \n",
    "              \n",
    "        ## labels\n",
    "         ?americanar <http://schema.org/name> ?americanarLabel .\n",
    "         ?work <http://schema.org/name> ?workLabel .              \n",
    "         ?country <http://schema.org/name> ?countryLabel .\n",
    "         ?style <http://schema.org/name> ?styleLabel .  \n",
    "         ?typebuilding <http://schema.org/name> ?typebuildingLabel         \n",
    "\n",
    "    } \n",
    "    LIMIT 50\n",
    "\n",
    "\"\"\"\n",
    "\n",
    "print(\"Results\")\n",
    "run_query(queryString)\n"
   ]
  },
  {
   "cell_type": "markdown",
   "id": "4692fc2e-f609-40fb-bce0-f87c2b0da4fc",
   "metadata": {},
   "source": [
    "# Which styles exists in the U.S.? Which type of building?"
   ]
  },
  {
   "cell_type": "code",
   "execution_count": 53,
   "id": "ec3c0d94-3197-4a40-bc72-00c2e0ab0e83",
   "metadata": {},
   "outputs": [
    {
     "name": "stdout",
     "output_type": "stream",
     "text": [
      "Results\n",
      "[('styleLabel', 'Tudor architecture'), ('typebuildingLabel', 'hospital')]\n",
      "[('styleLabel', 'Tudor architecture'), ('typebuildingLabel', 'former hospital')]\n",
      "[('styleLabel', 'Art Deco architecture'), ('typebuildingLabel', 'skyscraper')]\n",
      "[('styleLabel', 'Neoclassical architecture'), ('typebuildingLabel', 'single-family detached home')]\n",
      "[('styleLabel', 'Neoclassical architecture'), ('typebuildingLabel', 'capitol building')]\n"
     ]
    },
    {
     "data": {
      "text/plain": [
       "5"
      ]
     },
     "execution_count": 53,
     "metadata": {},
     "output_type": "execute_result"
    }
   ],
   "source": [
    "queryString = \"\"\"\n",
    "SELECT DISTINCT ?styleLabel ?typebuildingLabel\n",
    "WHERE { \n",
    "        ?americanar wdt:P27 wd:Q30  . \n",
    "        ?americanar wdt:P106 wd:Q42973 .\n",
    "        ?work wdt:P84 ?americanar ;\n",
    "              wdt:P17 wd:Q30 .\n",
    "        ?work wdt:P31 ?typebuilding .\n",
    "        ?work wdt:P149 ?style .\n",
    "\n",
    "              \n",
    "        ## labels\n",
    "\n",
    "         ?style <http://schema.org/name> ?styleLabel .  \n",
    "         ?typebuilding <http://schema.org/name> ?typebuildingLabel .      \n",
    "} \n",
    "LIMIT 5\n",
    "\"\"\"\n",
    "\n",
    "print(\"Results\")\n",
    "run_query(queryString)\n"
   ]
  },
  {
   "cell_type": "code",
   "execution_count": 54,
   "id": "ea5ac2bd-11a9-4e9b-9864-39b0d8b072b5",
   "metadata": {},
   "outputs": [
    {
     "name": "stdout",
     "output_type": "stream",
     "text": [
      "Results\n",
      "[('styleLabel', 'Colonial Revival architecture'), ('typebuildingLabel', 'single-family detached home')]\n",
      "[('styleLabel', 'Romanesque Revival architecture'), ('typebuildingLabel', 'national parish')]\n",
      "[('styleLabel', 'Romanesque Revival architecture'), ('typebuildingLabel', 'shrine')]\n",
      "[('styleLabel', 'Romanesque Revival architecture'), ('typebuildingLabel', 'parish church')]\n",
      "[('styleLabel', 'Romanesque Revival architecture'), ('typebuildingLabel', 'Catholic church building')]\n"
     ]
    },
    {
     "data": {
      "text/plain": [
       "5"
      ]
     },
     "execution_count": 54,
     "metadata": {},
     "output_type": "execute_result"
    }
   ],
   "source": [
    "### NOTE: THIS is the style and type by all architects who made a work in USA.\n",
    "#  (ALL ARCHITECTS)\n",
    "queryString = \"\"\"\n",
    "    SELECT DISTINCT ?styleLabel ?typebuildingLabel\n",
    "    WHERE { \n",
    "        ?americanar wdt:P106 wd:Q42973 .\n",
    "        ?work wdt:P84 ?americanar ;\n",
    "              wdt:P17 wd:Q30 .\n",
    "        ?work wdt:P31 ?typebuilding .\n",
    "        ?work wdt:P149 ?style .\n",
    "\n",
    "              \n",
    "        ## labels\n",
    "         ?americanar <http://schema.org/name> ?americanarLabel .\n",
    "         ?work <http://schema.org/name> ?workLabel .              \n",
    "         ?country <http://schema.org/name> ?countryLabel .\n",
    "         ?style <http://schema.org/name> ?styleLabel .  \n",
    "         ?typebuilding <http://schema.org/name> ?typebuildingLabel .    \n",
    "\n",
    "    } \n",
    "    LIMIT 5\n",
    "\n",
    "\"\"\"\n",
    "\n",
    "print(\"Results\")\n",
    "run_query(queryString)\n"
   ]
  },
  {
   "cell_type": "code",
   "execution_count": 55,
   "id": "05910972-aa5c-40f5-b320-b10e07681624",
   "metadata": {},
   "outputs": [
    {
     "name": "stdout",
     "output_type": "stream",
     "text": [
      "Results\n",
      "[('city', 'http://www.wikidata.org/entity/Q65'), ('cityLabel', 'Los Angeles'), ('partof', 'http://www.wikidata.org/entity/Q3491216'), ('p', 'http://www.w3.org/1999/02/22-rdf-syntax-ns#type'), ('o', 'http://wikiba.se/ontology#Item')]\n",
      "[('city', 'http://www.wikidata.org/entity/Q65'), ('cityLabel', 'Los Angeles'), ('partof', 'http://www.wikidata.org/entity/Q3491216'), ('p', 'http://www.wikidata.org/prop/direct/P31'), ('o', 'http://www.wikidata.org/entity/Q65')]\n",
      "[('city', 'http://www.wikidata.org/entity/Q65'), ('cityLabel', 'Los Angeles'), ('partof', 'http://www.wikidata.org/entity/Q3491216'), ('p', 'http://www.wikidata.org/prop/direct/P360'), ('o', 'http://www.wikidata.org/entity/Q37073')]\n",
      "[('city', 'http://www.wikidata.org/entity/Q65'), ('cityLabel', 'Los Angeles'), ('partof', 'http://www.wikidata.org/entity/Q3491216'), ('p', 'http://schema.org/name'), ('o', 'list of Lab Rats episodes')]\n",
      "[('city', 'http://www.wikidata.org/entity/Q16552'), ('cityLabel', 'San Diego'), ('partof', 'http://www.wikidata.org/entity/Q135622'), ('p', 'http://www.w3.org/1999/02/22-rdf-syntax-ns#type'), ('o', 'http://wikiba.se/ontology#Item')]\n",
      "[('city', 'http://www.wikidata.org/entity/Q60'), ('cityLabel', 'New York City'), ('partof', 'http://www.wikidata.org/entity/Q105437826'), ('p', 'http://www.w3.org/1999/02/22-rdf-syntax-ns#type'), ('o', 'http://wikiba.se/ontology#Item')]\n",
      "[('city', 'http://www.wikidata.org/entity/Q16552'), ('cityLabel', 'San Diego'), ('partof', 'http://www.wikidata.org/entity/Q135622'), ('p', 'http://www.wikidata.org/prop/direct-normalized/P227'), ('o', 'https://d-nb.info/gnd/1128250675')]\n",
      "[('city', 'http://www.wikidata.org/entity/Q16552'), ('cityLabel', 'San Diego'), ('partof', 'http://www.wikidata.org/entity/Q135622'), ('p', 'http://www.wikidata.org/prop/direct-normalized/P2581'), ('o', 'http://babelnet.org/rdf/s02590096n')]\n",
      "[('city', 'http://www.wikidata.org/entity/Q16552'), ('cityLabel', 'San Diego'), ('partof', 'http://www.wikidata.org/entity/Q135622'), ('p', 'http://www.wikidata.org/prop/direct-normalized/P646'), ('o', 'http://g.co/kg/m/025sndk')]\n",
      "[('city', 'http://www.wikidata.org/entity/Q16552'), ('cityLabel', 'San Diego'), ('partof', 'http://www.wikidata.org/entity/Q135622'), ('p', 'http://www.wikidata.org/prop/direct/P10'), ('o', 'http://commons.wikimedia.org/wiki/Special:FilePath/Manypedia%20-%20Comparing%20Language%20Points%20of%20View%20of%20Wikipedia%20Communities%20%28screencast%29.webm')]\n",
      "[('city', 'http://www.wikidata.org/entity/Q16552'), ('cityLabel', 'San Diego'), ('partof', 'http://www.wikidata.org/entity/Q135622'), ('p', 'http://www.wikidata.org/prop/direct/P112'), ('o', 'http://www.wikidata.org/entity/Q95')]\n",
      "[('city', 'http://www.wikidata.org/entity/Q16552'), ('cityLabel', 'San Diego'), ('partof', 'http://www.wikidata.org/entity/Q135622'), ('p', 'http://www.wikidata.org/prop/direct/P127'), ('o', 'http://www.wikidata.org/entity/Q95')]\n",
      "[('city', 'http://www.wikidata.org/entity/Q16552'), ('cityLabel', 'San Diego'), ('partof', 'http://www.wikidata.org/entity/Q135622'), ('p', 'http://www.wikidata.org/prop/direct/P1482'), ('o', 'https://stackoverflow.com/tags/google-translate')]\n",
      "[('city', 'http://www.wikidata.org/entity/Q16552'), ('cityLabel', 'San Diego'), ('partof', 'http://www.wikidata.org/entity/Q135622'), ('p', 'http://www.wikidata.org/prop/direct/P154'), ('o', 'http://commons.wikimedia.org/wiki/Special:FilePath/Google%20Translate%20logo.svg')]\n",
      "[('city', 'http://www.wikidata.org/entity/Q16552'), ('cityLabel', 'San Diego'), ('partof', 'http://www.wikidata.org/entity/Q135622'), ('p', 'http://www.wikidata.org/prop/direct/P1581'), ('o', 'https://blog.google/products/translate')]\n",
      "[('city', 'http://www.wikidata.org/entity/Q16552'), ('cityLabel', 'San Diego'), ('partof', 'http://www.wikidata.org/entity/Q135622'), ('p', 'http://www.wikidata.org/prop/direct/P170'), ('o', 'http://www.wikidata.org/entity/Q95')]\n",
      "[('city', 'http://www.wikidata.org/entity/Q16552'), ('cityLabel', 'San Diego'), ('partof', 'http://www.wikidata.org/entity/Q135622'), ('p', 'http://www.wikidata.org/prop/direct/P178'), ('o', 'http://www.wikidata.org/entity/Q95')]\n",
      "[('city', 'http://www.wikidata.org/entity/Q16552'), ('cityLabel', 'San Diego'), ('partof', 'http://www.wikidata.org/entity/Q135622'), ('p', 'http://www.wikidata.org/prop/direct/P18'), ('o', 'http://commons.wikimedia.org/wiki/Special:FilePath/Screenshot%20of%20Google%20Translate.png')]\n",
      "[('city', 'http://www.wikidata.org/entity/Q16552'), ('cityLabel', 'San Diego'), ('partof', 'http://www.wikidata.org/entity/Q135622'), ('p', 'http://www.wikidata.org/prop/direct/P227'), ('o', '1128250675')]\n",
      "[('city', 'http://www.wikidata.org/entity/Q16552'), ('cityLabel', 'San Diego'), ('partof', 'http://www.wikidata.org/entity/Q135622'), ('p', 'http://www.wikidata.org/prop/direct/P2581'), ('o', '02590096n')]\n",
      "[('city', 'http://www.wikidata.org/entity/Q16552'), ('cityLabel', 'San Diego'), ('partof', 'http://www.wikidata.org/entity/Q135622'), ('p', 'http://www.wikidata.org/prop/direct/P2847'), ('o', '+GoogleTranslate')]\n",
      "[('city', 'http://www.wikidata.org/entity/Q16552'), ('cityLabel', 'San Diego'), ('partof', 'http://www.wikidata.org/entity/Q135622'), ('p', 'http://www.wikidata.org/prop/direct/P31'), ('o', 'http://www.wikidata.org/entity/Q16552')]\n",
      "[('city', 'http://www.wikidata.org/entity/Q16552'), ('cityLabel', 'San Diego'), ('partof', 'http://www.wikidata.org/entity/Q135622'), ('p', 'http://www.wikidata.org/prop/direct/P31'), ('o', 'http://www.wikidata.org/entity/Q25053937')]\n",
      "[('city', 'http://www.wikidata.org/entity/Q60'), ('cityLabel', 'New York City'), ('partof', 'http://www.wikidata.org/entity/Q105437826'), ('p', 'http://www.wikidata.org/prop/direct/P31'), ('o', 'http://www.wikidata.org/entity/Q4167836')]\n",
      "[('city', 'http://www.wikidata.org/entity/Q60'), ('cityLabel', 'New York City'), ('partof', 'http://www.wikidata.org/entity/Q105437826'), ('p', 'http://www.wikidata.org/prop/direct/P31'), ('o', 'http://www.wikidata.org/entity/Q60')]\n",
      "[('city', 'http://www.wikidata.org/entity/Q60'), ('cityLabel', 'New York City'), ('partof', 'http://www.wikidata.org/entity/Q105437826'), ('p', 'http://www.wikidata.org/prop/direct/P31'), ('o', 'http://www.wikidata.org/entity/Q180388')]\n",
      "[('city', 'http://www.wikidata.org/entity/Q16552'), ('cityLabel', 'San Diego'), ('partof', 'http://www.wikidata.org/entity/Q135622'), ('p', 'http://www.wikidata.org/prop/direct/P3417'), ('o', 'Google-Translate')]\n",
      "[('city', 'http://www.wikidata.org/entity/Q16552'), ('cityLabel', 'San Diego'), ('partof', 'http://www.wikidata.org/entity/Q135622'), ('p', 'http://www.wikidata.org/prop/direct/P3553'), ('o', '19576815')]\n",
      "[('city', 'http://www.wikidata.org/entity/Q16552'), ('cityLabel', 'San Diego'), ('partof', 'http://www.wikidata.org/entity/Q135622'), ('p', 'http://www.wikidata.org/prop/direct/P373'), ('o', 'Google Translate')]\n",
      "[('city', 'http://www.wikidata.org/entity/Q16552'), ('cityLabel', 'San Diego'), ('partof', 'http://www.wikidata.org/entity/Q135622'), ('p', 'http://www.wikidata.org/prop/direct/P4204'), ('o', 'Google-Translate')]\n",
      "[('city', 'http://www.wikidata.org/entity/Q16552'), ('cityLabel', 'San Diego'), ('partof', 'http://www.wikidata.org/entity/Q135622'), ('p', 'http://www.wikidata.org/prop/direct/P4290'), ('o', 'http://www.wikidata.org/entity/Q41697540')]\n",
      "[('city', 'http://www.wikidata.org/entity/Q16552'), ('cityLabel', 'San Diego'), ('partof', 'http://www.wikidata.org/entity/Q135622'), ('p', 'http://www.wikidata.org/prop/direct/P4354'), ('o', 'https://translate.google.com/?source=osdd#auto|auto|$1')]\n",
      "[('city', 'http://www.wikidata.org/entity/Q16552'), ('cityLabel', 'San Diego'), ('partof', 'http://www.wikidata.org/entity/Q135622'), ('p', 'http://www.wikidata.org/prop/direct/P50'), ('o', 'http://www.wikidata.org/entity/Q95')]\n",
      "[('city', 'http://www.wikidata.org/entity/Q16552'), ('cityLabel', 'San Diego'), ('partof', 'http://www.wikidata.org/entity/Q135622'), ('p', 'http://www.wikidata.org/prop/direct/P577'), ('o', '2006-04-01T00:00:00Z')]\n",
      "[('city', 'http://www.wikidata.org/entity/Q16552'), ('cityLabel', 'San Diego'), ('partof', 'http://www.wikidata.org/entity/Q135622'), ('p', 'http://www.wikidata.org/prop/direct/P646'), ('o', '/m/025sndk')]\n",
      "[('city', 'http://www.wikidata.org/entity/Q16552'), ('cityLabel', 'San Diego'), ('partof', 'http://www.wikidata.org/entity/Q135622'), ('p', 'http://www.wikidata.org/prop/direct/P6900'), ('o', 'google翻訳')]\n",
      "[('city', 'http://www.wikidata.org/entity/Q16552'), ('cityLabel', 'San Diego'), ('partof', 'http://www.wikidata.org/entity/Q135622'), ('p', 'http://www.wikidata.org/prop/direct/P856'), ('o', 'https://translate.google.ca')]\n",
      "[('city', 'http://www.wikidata.org/entity/Q16552'), ('cityLabel', 'San Diego'), ('partof', 'http://www.wikidata.org/entity/Q135622'), ('p', 'http://www.wikidata.org/prop/direct/P856'), ('o', 'https://translate.google.co.uk')]\n",
      "[('city', 'http://www.wikidata.org/entity/Q16552'), ('cityLabel', 'San Diego'), ('partof', 'http://www.wikidata.org/entity/Q135622'), ('p', 'http://www.wikidata.org/prop/direct/P856'), ('o', 'https://translate.google.com')]\n",
      "[('city', 'http://www.wikidata.org/entity/Q16552'), ('cityLabel', 'San Diego'), ('partof', 'http://www.wikidata.org/entity/Q135622'), ('p', 'http://www.wikidata.org/prop/direct/P9100'), ('o', 'google-translate')]\n",
      "[('city', 'http://www.wikidata.org/entity/Q16552'), ('cityLabel', 'San Diego'), ('partof', 'http://www.wikidata.org/entity/Q135622'), ('p', 'http://www.wikidata.org/prop/direct/P9618'), ('o', 'google-translate')]\n",
      "[('city', 'http://www.wikidata.org/entity/Q16552'), ('cityLabel', 'San Diego'), ('partof', 'http://www.wikidata.org/entity/Q135622'), ('p', 'http://schema.org/name'), ('o', 'Google Translate')]\n",
      "[('city', 'http://www.wikidata.org/entity/Q60'), ('cityLabel', 'New York City'), ('partof', 'http://www.wikidata.org/entity/Q105437826'), ('p', 'http://schema.org/name'), ('o', 'Category:Waste management infrastructure of New York City')]\n",
      "[('city', 'http://www.wikidata.org/entity/Q1456'), ('cityLabel', 'South Carolina'), ('partof', 'http://www.wikidata.org/entity/Q56614310'), ('p', 'http://www.w3.org/1999/02/22-rdf-syntax-ns#type'), ('o', 'http://wikiba.se/ontology#Item')]\n",
      "[('city', 'http://www.wikidata.org/entity/Q812'), ('cityLabel', 'Florida'), ('partof', 'http://www.wikidata.org/entity/Q107740085'), ('p', 'http://www.w3.org/1999/02/22-rdf-syntax-ns#type'), ('o', 'http://wikiba.se/ontology#Item')]\n",
      "[('city', 'http://www.wikidata.org/entity/Q1456'), ('cityLabel', 'South Carolina'), ('partof', 'http://www.wikidata.org/entity/Q56614310'), ('p', 'http://www.wikidata.org/prop/direct/P103'), ('o', 'http://www.wikidata.org/entity/Q7976')]\n",
      "[('city', 'http://www.wikidata.org/entity/Q1456'), ('cityLabel', 'South Carolina'), ('partof', 'http://www.wikidata.org/entity/Q56614310'), ('p', 'http://www.wikidata.org/prop/direct/P106'), ('o', 'http://www.wikidata.org/entity/Q36180')]\n",
      "[('city', 'http://www.wikidata.org/entity/Q1456'), ('cityLabel', 'South Carolina'), ('partof', 'http://www.wikidata.org/entity/Q56614310'), ('p', 'http://www.wikidata.org/prop/direct/P106'), ('o', 'http://www.wikidata.org/entity/Q40348')]\n",
      "[('city', 'http://www.wikidata.org/entity/Q1456'), ('cityLabel', 'South Carolina'), ('partof', 'http://www.wikidata.org/entity/Q56614310'), ('p', 'http://www.wikidata.org/prop/direct/P106'), ('o', 'http://www.wikidata.org/entity/Q6585303')]\n",
      "[('city', 'http://www.wikidata.org/entity/Q1456'), ('cityLabel', 'South Carolina'), ('partof', 'http://www.wikidata.org/entity/Q56614310'), ('p', 'http://www.wikidata.org/prop/direct/P1412'), ('o', 'http://www.wikidata.org/entity/Q1321')]\n"
     ]
    },
    {
     "data": {
      "text/plain": [
       "50"
      ]
     },
     "execution_count": 55,
     "metadata": {},
     "output_type": "execute_result"
    }
   ],
   "source": [
    "# cities\n",
    "queryString = \"\"\"\n",
    "    SELECT DISTINCT ?city ?cityLabel ?partof ?partofLabel ?p ?pLabel ?o ?oLabel\n",
    "    WHERE { \n",
    "        ?americanar wdt:P106 wd:Q42973 .\n",
    "        ?work wdt:P84 ?americanar .\n",
    "        ?work wdt:P31 ?typebuilding .\n",
    "        ?work wdt:P149 ?style .\n",
    "        ?work wdt:P131 ?city ;\n",
    "              wdt:P17 wd:Q30 .\n",
    "        ?partof wdt:P31 ?city .\n",
    "        ?partof ?p ?o .\n",
    "\n",
    "        #BIND (wd:Q30 AS ?country) .\n",
    "      \n",
    "        ## labels        \n",
    "         #?typebuilding <http://schema.org/name> ?typebuildingLabel   \n",
    "         ?city <http://schema.org/name> ?cityLabel   \n",
    "         #?partof <http://schema.org/name> ?partofLabel\n",
    "         #?p <http://schema.org/name> ?pLabel\n",
    "         #?o <http://schema.org/name> ?oLabel\n",
    "     \n",
    "     #   SERVICE wikibase:label { bd:serviceParam wikibase:language \"en\". }\n",
    "    } \n",
    "    LIMIT 50\n",
    "\n",
    "\"\"\"\n",
    "\n",
    "print(\"Results\")\n",
    "run_query(queryString)\n",
    "\n",
    "\n"
   ]
  },
  {
   "cell_type": "code",
   "execution_count": 56,
   "id": "12b76225-784a-41d0-93e3-4ce85981527d",
   "metadata": {},
   "outputs": [
    {
     "name": "stdout",
     "output_type": "stream",
     "text": [
      "Results\n",
      "[('p', 'http://www.wikidata.org/prop/direct/P149'), ('pLabel', 'architectural style'), ('o', 'http://www.wikidata.org/entity/Q245188'), ('oLabel', 'modern architecture')]\n",
      "[('p', 'http://www.wikidata.org/prop/direct/P17'), ('pLabel', 'country'), ('o', 'http://www.wikidata.org/entity/Q30'), ('oLabel', 'United States of America')]\n",
      "[('p', 'http://www.wikidata.org/prop/direct/P1435'), ('pLabel', 'heritage designation'), ('o', 'http://www.wikidata.org/entity/Q19558910'), ('oLabel', 'National Register of Historic Places listed place')]\n",
      "[('p', 'http://www.wikidata.org/prop/direct/P84'), ('pLabel', 'architect'), ('o', 'http://www.wikidata.org/entity/Q5604'), ('oLabel', 'Frank Lloyd Wright')]\n",
      "[('p', 'http://www.wikidata.org/prop/direct/P131'), ('pLabel', 'located in the administrative territorial entity'), ('o', 'http://www.wikidata.org/entity/Q185609'), ('oLabel', 'Belvidere')]\n",
      "[('p', 'http://www.wikidata.org/prop/direct/P910'), ('pLabel', \"topic's main category\"), ('o', 'http://www.wikidata.org/entity/Q55276305'), ('oLabel', 'Category:Pettit Memorial Chapel')]\n",
      "[('p', 'http://www.wikidata.org/prop/direct/P31'), ('pLabel', 'instance of'), ('o', 'http://www.wikidata.org/entity/Q108325'), ('oLabel', 'chapel')]\n"
     ]
    },
    {
     "data": {
      "text/plain": [
       "7"
      ]
     },
     "execution_count": 56,
     "metadata": {},
     "output_type": "execute_result"
    }
   ],
   "source": [
    "### cities\n",
    "## find the city of Pettit Memorial Chapel. \n",
    "\n",
    "queryString = \"\"\"\n",
    "\n",
    "    SELECT ?p ?pLabel ?o ?oLabel\n",
    "    WHERE { \n",
    "        wd:Q2081276 ?p ?o .\n",
    "        \n",
    "        \n",
    "        ## labels\n",
    "         ?p <http://schema.org/name> ?pLabel .\n",
    "         ?o <http://schema.org/name> ?oLabel .\n",
    "    }\n",
    "    LIMIT 100\n",
    "\"\"\"\n",
    "\n",
    "print(\"Results\")\n",
    "run_query(queryString)\n",
    "\n",
    "\n"
   ]
  },
  {
   "cell_type": "code",
   "execution_count": 57,
   "id": "bb748c3b-03de-4e36-976f-7e1e81e05d27",
   "metadata": {},
   "outputs": [
    {
     "name": "stdout",
     "output_type": "stream",
     "text": [
      "Results\n",
      "[('o', 'http://www.wikidata.org/entity/Q185609'), ('oLabel', 'Belvidere')]\n",
      "[('o', 'http://www.wikidata.org/entity/Q185609'), ('oLabel', 'Belvidere')]\n",
      "[('o', 'http://www.wikidata.org/entity/Q185609'), ('oLabel', 'Belvidere')]\n",
      "[('o', 'http://www.wikidata.org/entity/Q185609'), ('oLabel', 'Belvidere')]\n",
      "[('o', 'http://www.wikidata.org/entity/Q185609'), ('oLabel', 'Belvidere')]\n"
     ]
    },
    {
     "data": {
      "text/plain": [
       "5"
      ]
     },
     "execution_count": 57,
     "metadata": {},
     "output_type": "execute_result"
    }
   ],
   "source": [
    "## find the city of Pettit Memorial Chapel. \n",
    "# wdt:P131\thttp://www.wikidata.org/prop/direct/P131\t wd:Q185609\tBelvidere from previous one\n",
    "# wdt:P131 is for its city, \n",
    "queryString = \"\"\"\n",
    "\n",
    "    SELECT ?o ?oLabel\n",
    "    WHERE { \n",
    "        wd:Q2081276 wdt:P131 ?o .\n",
    "\n",
    "        ## labels\n",
    "         ?p <http://schema.org/name> ?pLabel .\n",
    "         ?o <http://schema.org/name> ?oLabel .\n",
    "    }\n",
    "    LIMIT 5\n",
    "\n",
    "\"\"\"\n",
    "\n",
    "print(\"Results\")\n",
    "run_query(queryString)\n",
    "\n",
    "\n"
   ]
  },
  {
   "cell_type": "markdown",
   "id": "aa557df7-5a33-4e42-a864-54f2e4e274dc",
   "metadata": {},
   "source": [
    "### In which U.S. states there are more notable buildings?"
   ]
  },
  {
   "cell_type": "code",
   "execution_count": 58,
   "id": "002c1004-765a-4cb7-8065-ff1b7bf8162b",
   "metadata": {},
   "outputs": [
    {
     "name": "stdout",
     "output_type": "stream",
     "text": [
      "Results\n",
      "[('city', 'http://www.wikidata.org/entity/Q1757'), ('cityLabel', 'Helsinki'), ('countwork', '1070')]\n",
      "[('city', 'http://www.wikidata.org/entity/Q2807'), ('cityLabel', 'Madrid'), ('countwork', '786')]\n",
      "[('city', 'http://www.wikidata.org/entity/Q11299'), ('cityLabel', 'Manhattan'), ('countwork', '643')]\n",
      "[('city', 'http://www.wikidata.org/entity/Q9899'), ('cityLabel', 'Amsterdam'), ('countwork', '495')]\n",
      "[('city', 'http://www.wikidata.org/entity/Q1741'), ('cityLabel', 'Vienna'), ('countwork', '459')]\n",
      "[('city', 'http://www.wikidata.org/entity/Q506250'), ('cityLabel', 'Stockholm Municipality'), ('countwork', '413')]\n",
      "[('city', 'http://www.wikidata.org/entity/Q1492'), ('cityLabel', 'Barcelona'), ('countwork', '403')]\n",
      "[('city', 'http://www.wikidata.org/entity/Q490'), ('cityLabel', 'Milan'), ('countwork', '398')]\n",
      "[('city', 'http://www.wikidata.org/entity/Q973974'), ('cityLabel', 'Prague 1'), ('countwork', '388')]\n",
      "[('city', 'http://www.wikidata.org/entity/Q649'), ('cityLabel', 'Moscow'), ('countwork', '367')]\n"
     ]
    },
    {
     "data": {
      "text/plain": [
       "10"
      ]
     },
     "execution_count": 58,
     "metadata": {},
     "output_type": "execute_result"
    }
   ],
   "source": [
    "# all architects (NOT JUST AMERICAN Architects)\n",
    "# all countries\n",
    "queryString = \"\"\"\n",
    "    SELECT ?city ?cityLabel ?countwork WHERE {\n",
    "      {\n",
    "\n",
    "              SELECT ?city (COUNT (DISTINCT ?work) AS ?countwork) WHERE\n",
    "              {\n",
    "              ?work wdt:P84 ?architect .\n",
    "              ?work wdt:P131 ?city .\n",
    "              ?work wdt:P17 ?country .\n",
    "              ?architect wdt:P106 wd:Q42973 .\n",
    "              # BIND (wd:Q30 AS ?country) .\n",
    "               }\n",
    "        GROUP BY ?city\n",
    "      } . \n",
    "    ## labels\n",
    "     ?city <http://schema.org/name> ?cityLabel .\n",
    "    }\n",
    "\n",
    "\n",
    "    ORDER BY DESC(?countwork) ?cityLabel \n",
    "    LIMIT 10\n",
    "\n",
    "\n",
    "\"\"\"\n",
    "\n",
    "print(\"Results\")\n",
    "run_query(queryString)\n"
   ]
  },
  {
   "cell_type": "code",
   "execution_count": 59,
   "id": "3c0a72a0-4c8f-4d97-8983-b321b0688b07",
   "metadata": {},
   "outputs": [
    {
     "name": "stdout",
     "output_type": "stream",
     "text": [
      "Results\n",
      "[('city', 'http://www.wikidata.org/entity/Q11299'), ('cityLabel', 'Manhattan'), ('countwork', '643')]\n",
      "[('city', 'http://www.wikidata.org/entity/Q61'), ('cityLabel', 'Washington, D.C.'), ('countwork', '225')]\n",
      "[('city', 'http://www.wikidata.org/entity/Q1384'), ('cityLabel', 'New York'), ('countwork', '192')]\n",
      "[('city', 'http://www.wikidata.org/entity/Q771'), ('cityLabel', 'Massachusetts'), ('countwork', '173')]\n",
      "[('city', 'http://www.wikidata.org/entity/Q1297'), ('cityLabel', 'Chicago'), ('countwork', '170')]\n",
      "[('city', 'http://www.wikidata.org/entity/Q99'), ('cityLabel', 'California'), ('countwork', '137')]\n",
      "[('city', 'http://www.wikidata.org/entity/Q1546'), ('cityLabel', 'Iowa'), ('countwork', '128')]\n",
      "[('city', 'http://www.wikidata.org/entity/Q1397'), ('cityLabel', 'Ohio'), ('countwork', '125')]\n",
      "[('city', 'http://www.wikidata.org/entity/Q1439'), ('cityLabel', 'Texas'), ('countwork', '121')]\n",
      "[('city', 'http://www.wikidata.org/entity/Q6106'), ('cityLabel', 'Portland'), ('countwork', '118')]\n"
     ]
    },
    {
     "data": {
      "text/plain": [
       "10"
      ]
     },
     "execution_count": 59,
     "metadata": {},
     "output_type": "execute_result"
    }
   ],
   "source": [
    "#  just buildings in USA by all architects (NOT JUST AMERICAN Architects)\n",
    "queryString = \"\"\"\n",
    "\n",
    "\n",
    "    SELECT ?city ?cityLabel ?countwork WHERE {\n",
    "      {\n",
    "\n",
    "              SELECT ?city (COUNT (DISTINCT ?work) AS ?countwork) WHERE\n",
    "              {\n",
    "              ?work wdt:P84 ?architect .\n",
    "              ?work wdt:P131 ?city .\n",
    "              ?work wdt:P17 wd:Q30 .\n",
    "              ?architect wdt:P106 wd:Q42973 .\n",
    "              \n",
    "               }\n",
    "        GROUP BY ?city\n",
    "      } . \n",
    "        ## labels\n",
    "     ?city <http://schema.org/name> ?cityLabel .\n",
    "    }\n",
    "\n",
    "\n",
    "    ORDER BY DESC(?countwork) ?cityLabel \n",
    "    LIMIT 10\n",
    "\n",
    "\n",
    "\"\"\"\n",
    "\n",
    "print(\"Results\")\n",
    "run_query(queryString)\n"
   ]
  },
  {
   "cell_type": "markdown",
   "id": "d1e0a34d-292d-4e12-b521-57ecdec50632",
   "metadata": {},
   "source": [
    "## Which U.S. state contains the largest number of building designed by U.S. architects"
   ]
  },
  {
   "cell_type": "code",
   "execution_count": 60,
   "id": "f0849815-4e48-404e-afef-3849b0c9bcd2",
   "metadata": {},
   "outputs": [
    {
     "name": "stdout",
     "output_type": "stream",
     "text": [
      "Results\n",
      "[('cityLabel', 'Manhattan'), ('countwork', '599')]\n",
      "[('cityLabel', 'Washington, D.C.'), ('countwork', '202')]\n",
      "[('cityLabel', 'New York'), ('countwork', '189')]\n",
      "[('cityLabel', 'Massachusetts'), ('countwork', '159')]\n",
      "[('cityLabel', 'Chicago'), ('countwork', '158')]\n",
      "[('cityLabel', 'Iowa'), ('countwork', '127')]\n",
      "[('cityLabel', 'California'), ('countwork', '119')]\n",
      "[('cityLabel', 'Texas'), ('countwork', '119')]\n",
      "[('cityLabel', 'Ohio'), ('countwork', '115')]\n",
      "[('cityLabel', 'Pennsylvania'), ('countwork', '112')]\n",
      "[('cityLabel', 'Portland'), ('countwork', '109')]\n",
      "[('cityLabel', 'Florida'), ('countwork', '84')]\n",
      "[('cityLabel', 'Connecticut'), ('countwork', '78')]\n",
      "[('cityLabel', 'Illinois'), ('countwork', '78')]\n",
      "[('cityLabel', 'Los Angeles'), ('countwork', '70')]\n",
      "[('cityLabel', 'Oregon'), ('countwork', '66')]\n",
      "[('cityLabel', 'Detroit'), ('countwork', '65')]\n",
      "[('cityLabel', 'San Francisco'), ('countwork', '63')]\n",
      "[('cityLabel', 'Philadelphia'), ('countwork', '58')]\n",
      "[('cityLabel', 'Maine'), ('countwork', '53')]\n"
     ]
    },
    {
     "data": {
      "text/plain": [
       "20"
      ]
     },
     "execution_count": 60,
     "metadata": {},
     "output_type": "execute_result"
    }
   ],
   "source": [
    "\n",
    "queryString = \"\"\"\n",
    "    SELECT ?cityLabel ?countwork WHERE {\n",
    "      {\n",
    "\n",
    "              SELECT ?city (COUNT (DISTINCT ?work) AS ?countwork) WHERE\n",
    "              {\n",
    "              ?work wdt:P84 ?americanarchitect .\n",
    "              ?work wdt:P131 ?city .\n",
    "              ?work wdt:P17 wd:Q30 .\n",
    "              ?americanarchitect wdt:P27 wd:Q30  . \n",
    "              ?americanarchitect wdt:P106 wd:Q42973 .\n",
    "               # BIND (wd:Q30 AS ?country) .\n",
    "               }\n",
    "\n",
    "        GROUP BY ?city\n",
    "      } . \n",
    "    ## labels                           \n",
    "      ?city <http://schema.org/name> ?cityLabel .\n",
    "    }\n",
    "    ORDER BY DESC(?countwork) ?cityLabel \n",
    "    LIMIT 20\n",
    "\n",
    "\"\"\"\n",
    "\n",
    "print(\"Results\")\n",
    "run_query(queryString)\n",
    "\n",
    "\n"
   ]
  },
  {
   "cell_type": "code",
   "execution_count": null,
   "id": "22ce97ff-fdf2-4b43-b7c6-c08303eabc9b",
   "metadata": {},
   "outputs": [],
   "source": []
  }
 ],
 "metadata": {
  "kernelspec": {
   "display_name": "Python 3 (ipykernel)",
   "language": "python",
   "name": "python3"
  },
  "language_info": {
   "codemirror_mode": {
    "name": "ipython",
    "version": 3
   },
   "file_extension": ".py",
   "mimetype": "text/x-python",
   "name": "python",
   "nbconvert_exporter": "python",
   "pygments_lexer": "ipython3",
   "version": "3.7.10"
  }
 },
 "nbformat": 4,
 "nbformat_minor": 5
}
