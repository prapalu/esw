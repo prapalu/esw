{
 "cells": [
  {
   "cell_type": "markdown",
   "id": "7034c3bf-6eb0-4418-8687-7b9d2a501103",
   "metadata": {},
   "source": [
    "# General instructions\n",
    "\n",
    "The goal of the project is to materialize a set of **exploratory workloads** over a real-world, large-scale,  open-domain KG: [WikiData](https://www.wikidata.org/wiki/Wikidata:Main_Page)\n",
    "\n",
    "An exploratory workload  is composed by a set of queries, where each query is related to the information obtained previously.\n",
    "\n",
    "An exploratory workload starts with a usually vague, open ended question, and does not assume the person issuing the workload has a clear understanding of the data contained in the target database or its structure.\n",
    "\n",
    "Remeber that:\n",
    "\n",
    "1. All the queries must run in the python notebook\n",
    "2. You can use classes and properties only if you find them via a SPARQL query that must be present in the notebook\n",
    "3. You do not delete useless queries. Keep everything that is synthatically valid \n",
    "\n",
    "```\n",
    "?p <http://schema.org/name> ?name .\n",
    "```\n",
    "    \n",
    "is the BGP returning a human-readable name of a property or a class in Wikidata.\n",
    "    \n",
    "    "
   ]
  },
  {
   "cell_type": "code",
   "execution_count": 1,
   "id": "3605c9d5-5371-49a5-be8d-d66e8f417139",
   "metadata": {},
   "outputs": [],
   "source": [
    "## SETUP used later\n",
    "\n",
    "from SPARQLWrapper import SPARQLWrapper, JSON\n",
    "\n",
    "\n",
    "prefixString = \"\"\"\n",
    "##-43886f389f-##\n",
    "PREFIX wd: <http://www.wikidata.org/entity/> \n",
    "PREFIX wdt: <http://www.wikidata.org/prop/direct/> \n",
    "PREFIX sc: <http://schema.org/>\n",
    "\"\"\"\n",
    "\n",
    "# select and construct queries\n",
    "def run_query(queryString):\n",
    "    to_run = prefixString + \"\\n\" + queryString\n",
    "\n",
    "    sparql = SPARQLWrapper(\"http://a256-gc1-02.srv.aau.dk:5820/sparql\")\n",
    "    sparql.setTimeout(300)\n",
    "    sparql.setReturnFormat(JSON)\n",
    "    sparql.setQuery(to_run)\n",
    "\n",
    "    try :\n",
    "       results = sparql.query()\n",
    "       json_results = results.convert()\n",
    "       if len(json_results['results']['bindings'])==0:\n",
    "          print(\"Empty\")\n",
    "          return 0\n",
    "    \n",
    "       for bindings in json_results['results']['bindings']:\n",
    "          print( [ (var, value['value'])  for var, value in bindings.items() ] )\n",
    "\n",
    "       return len(json_results['results']['bindings'])\n",
    "\n",
    "    except Exception as e :\n",
    "        print(\"The operation failed\", e)\n",
    "    \n",
    "# ASk queries\n",
    "def run_ask_query(queryString):\n",
    "    to_run = prefixString + \"\\n\" + queryString\n",
    "\n",
    "    sparql = SPARQLWrapper(\"http://a256-gc1-02.srv.aau.dk:5820/sparql\")\n",
    "    sparql.setTimeout(300)\n",
    "    sparql.setReturnFormat(JSON)\n",
    "    sparql.setQuery(to_run)\n",
    "\n",
    "    try :\n",
    "        return sparql.query().convert()\n",
    "\n",
    "    except Exception as e :\n",
    "        print(\"The operation failed\", e)\n"
   ]
  },
  {
   "cell_type": "markdown",
   "id": "d477a59c-a68c-4c8f-9f97-8ca5294d7d27",
   "metadata": {},
   "source": [
    "# Sport Workflow Series (\"FIFA World Cup events explorative search\") \n",
    "\n",
    "Consider the following exploratory information need:\n",
    "\n",
    "> Explore the participants and winners of different editions of the FIFA World Cup"
   ]
  },
  {
   "cell_type": "markdown",
   "id": "4a45c0ba-f79e-441d-bec5-84401b09db70",
   "metadata": {},
   "source": [
    "## Useful URIs for the current workflow\n",
    "\n",
    "\n",
    "The following are given:\n",
    "\n",
    "| IRI           | Description    | Role      |\n",
    "| -----------   | -----------    |-----------|\n",
    "| `wdt:P1647`   | subproperty    | predicate |\n",
    "| `wdt:P31`     | instance of    | predicate |\n",
    "| `wdt:P106`    | profession     | predicate | \n",
    "| `wdt:P279`    | subclass       | predicate |\n",
    "| `wdt:P27`     | nationality    | predicate |\n",
    "| `wdt:P1532`   | country of sport    | predicate |\n",
    "| `wd:Q29`      | Spain           | node |\n",
    "| `wd:Q42267`   | Spain national football team | node |\n",
    "| `wd:Q19317`   | FIFA World Cup  | node |\n",
    "| `wd:Q176883`  | 2010 FIFA World cup  | node |\n",
    "| `wd:Q208401`  | 2010 FIFA World Cup Final | node      |\n",
    "| `wd:Q6979593`  |national football team | node      |\n",
    "\n",
    "\n",
    "Also consider\n",
    "\n",
    "```\n",
    "?a wdt:P31 wd:Q6979593\n",
    "```\n",
    "\n",
    "is the BGP to retrieve all the  **national footbal teams**\n"
   ]
  },
  {
   "cell_type": "markdown",
   "id": "7af439fb-96e4-4dbb-a381-f19afab79f86",
   "metadata": {
    "tags": []
   },
   "source": [
    "## Workload Goals\n",
    "\n",
    "1. Identify the BGP for connecting national football teams with the participations in the finals or in the world cups\n",
    "\n",
    "2. Identify the BGP that connects a country with a national footbal team or as a location to a world cup\n",
    "\n",
    "3. In which countries took place a FIFA world cup or world cup final? With how many participants?\n",
    "\n",
    "4. Compare number of participants and winners of different world cups\n",
    " \n",
    "   4.1 How many times each country participated in a world cup?\n",
    "   \n",
    "   4.2 Which country participated in the most finals? Which country won the most finals?\n",
    "   \n",
    "   4.3 Who participated in the most world cups among Italy, France, Spain, and Germany?\n"
   ]
  },
  {
   "cell_type": "code",
   "execution_count": 2,
   "id": "24a853ab-830c-422c-afd3-e9e015b8b8ed",
   "metadata": {},
   "outputs": [],
   "source": [
    "# start your workflow here"
   ]
  },
  {
   "cell_type": "code",
   "execution_count": 3,
   "id": "ade01416-92e7-4ad7-b9a9-b8fb330750dc",
   "metadata": {},
   "outputs": [
    {
     "name": "stdout",
     "output_type": "stream",
     "text": [
      "Results\n",
      "[('callret-0', '1220')]\n"
     ]
    },
    {
     "data": {
      "text/plain": [
       "1"
      ]
     },
     "execution_count": 3,
     "metadata": {},
     "output_type": "execute_result"
    }
   ],
   "source": [
    "queryString = \"\"\"\n",
    "SELECT COUNT(*)\n",
    "WHERE { \n",
    "\n",
    "?a wdt:P31 wd:Q6979593 .\n",
    "\n",
    "} \n",
    "\"\"\"\n",
    "\n",
    "print(\"Results\")\n",
    "run_query(queryString)"
   ]
  },
  {
   "cell_type": "code",
   "execution_count": 4,
   "id": "a30986b2-1eaf-4186-9ce1-a9081a363f3a",
   "metadata": {},
   "outputs": [
    {
     "name": "stdout",
     "output_type": "stream",
     "text": [
      "Results\n",
      "[('p', 'http://www.w3.org/1999/02/22-rdf-syntax-ns#type'), ('o', 'http://wikiba.se/ontology#Item')]\n",
      "[('p', 'http://www.wikidata.org/prop/direct/P7441'), ('o', 'wm')]\n",
      "[('p', 'http://www.wikidata.org/prop/direct-normalized/P1015'), ('o', 'https://livedata.bibsys.no/authority/14068828')]\n",
      "[('p', 'http://www.wikidata.org/prop/direct-normalized/P214'), ('o', 'http://viaf.org/viaf/133874960')]\n",
      "[('p', 'http://www.wikidata.org/prop/direct-normalized/P227'), ('o', 'https://d-nb.info/gnd/1047989-2')]\n",
      "[('p', 'http://www.wikidata.org/prop/direct-normalized/P244'), ('o', 'https://id.loc.gov/authorities/names/n98090291')]\n",
      "[('p', 'http://www.wikidata.org/prop/direct-normalized/P646'), ('o', 'http://g.co/kg/m/030q7')]\n",
      "[('p', 'http://www.wikidata.org/prop/direct-normalized/P8408'), ('o', 'http://kbpedia.org/kko/rc/WorldCupCompetition')]\n",
      "[('p', 'http://www.wikidata.org/prop/direct/P1015'), ('o', '14068828')]\n",
      "[('p', 'http://www.wikidata.org/prop/direct/P1151'), ('o', 'http://www.wikidata.org/entity/Q28736876')]\n",
      "[('p', 'http://www.wikidata.org/prop/direct/P1296'), ('o', '0522715')]\n",
      "[('p', 'http://www.wikidata.org/prop/direct/P1417'), ('o', 'sports/World-Cup-football')]\n",
      "[('p', 'http://www.wikidata.org/prop/direct/P1424'), ('o', 'http://www.wikidata.org/entity/Q5636960')]\n",
      "[('p', 'http://www.wikidata.org/prop/direct/P1705'), ('o', 'FIFA World Cup')]\n",
      "[('p', 'http://www.wikidata.org/prop/direct/P18'), ('o', 'http://commons.wikimedia.org/wiki/Special:FilePath/Tour%20da%20Ta%C3%A7a%20da%20Copa%20do%20Mundo%20%2814231974005%29.jpg')]\n",
      "[('p', 'http://www.wikidata.org/prop/direct/P2002'), ('o', 'FIFAWorldCup')]\n",
      "[('p', 'http://www.wikidata.org/prop/direct/P2002'), ('o', 'fifaworldcup_de')]\n",
      "[('p', 'http://www.wikidata.org/prop/direct/P2002'), ('o', 'fifaworldcup_es')]\n",
      "[('p', 'http://www.wikidata.org/prop/direct/P2003'), ('o', 'fifaworldcup')]\n",
      "[('p', 'http://www.wikidata.org/prop/direct/P2013'), ('o', 'fifaworldcup')]\n",
      "[('p', 'http://www.wikidata.org/prop/direct/P2094'), ('o', 'http://www.wikidata.org/entity/Q31930761')]\n",
      "[('p', 'http://www.wikidata.org/prop/direct/P214'), ('o', '133874960')]\n",
      "[('p', 'http://www.wikidata.org/prop/direct/P2184'), ('o', 'http://www.wikidata.org/entity/Q1196082')]\n",
      "[('p', 'http://www.wikidata.org/prop/direct/P2257'), ('o', '4')]\n",
      "[('p', 'http://www.wikidata.org/prop/direct/P227'), ('o', '1047989-2')]\n",
      "[('p', 'http://www.wikidata.org/prop/direct/P2397'), ('o', 'UCIV9ckiaEULtN8FU4kOPlFw')]\n",
      "[('p', 'http://www.wikidata.org/prop/direct/P244'), ('o', 'n98090291')]\n",
      "[('p', 'http://www.wikidata.org/prop/direct/P2922'), ('o', 'http://www.wikidata.org/entity/Q120')]\n",
      "[('p', 'http://www.wikidata.org/prop/direct/P31'), ('o', 'http://www.wikidata.org/entity/Q1478437')]\n",
      "[('p', 'http://www.wikidata.org/prop/direct/P31'), ('o', 'http://www.wikidata.org/entity/Q1344963')]\n",
      "[('p', 'http://www.wikidata.org/prop/direct/P31'), ('o', 'http://www.wikidata.org/entity/Q34542827')]\n",
      "[('p', 'http://www.wikidata.org/prop/direct/P3219'), ('o', 'coupe-du-monde-football')]\n",
      "[('p', 'http://www.wikidata.org/prop/direct/P3219'), ('o', 'football-coupe-du-monde-reperes-chronologiques')]\n",
      "[('p', 'http://www.wikidata.org/prop/direct/P3221'), ('o', 'subject/world-cup-soccer')]\n",
      "[('p', 'http://www.wikidata.org/prop/direct/P3417'), ('o', 'FIFA-World-Cup')]\n",
      "[('p', 'http://www.wikidata.org/prop/direct/P373'), ('o', 'FIFA World Cup')]\n",
      "[('p', 'http://www.wikidata.org/prop/direct/P3984'), ('o', 'worldcup')]\n",
      "[('p', 'http://www.wikidata.org/prop/direct/P4527'), ('o', '13845')]\n",
      "[('p', 'http://www.wikidata.org/prop/direct/P527'), ('o', 'http://www.wikidata.org/entity/Q101751')]\n",
      "[('p', 'http://www.wikidata.org/prop/direct/P527'), ('o', 'http://www.wikidata.org/entity/Q131591')]\n",
      "[('p', 'http://www.wikidata.org/prop/direct/P527'), ('o', 'http://www.wikidata.org/entity/Q132664')]\n",
      "[('p', 'http://www.wikidata.org/prop/direct/P527'), ('o', 'http://www.wikidata.org/entity/Q48432')]\n",
      "[('p', 'http://www.wikidata.org/prop/direct/P527'), ('o', 'http://www.wikidata.org/entity/Q170645')]\n",
      "[('p', 'http://www.wikidata.org/prop/direct/P527'), ('o', 'http://www.wikidata.org/entity/Q176883')]\n",
      "[('p', 'http://www.wikidata.org/prop/direct/P527'), ('o', 'http://www.wikidata.org/entity/Q37285')]\n",
      "[('p', 'http://www.wikidata.org/prop/direct/P527'), ('o', 'http://www.wikidata.org/entity/Q46934')]\n",
      "[('p', 'http://www.wikidata.org/prop/direct/P527'), ('o', 'http://www.wikidata.org/entity/Q46938')]\n",
      "[('p', 'http://www.wikidata.org/prop/direct/P527'), ('o', 'http://www.wikidata.org/entity/Q46943')]\n",
      "[('p', 'http://www.wikidata.org/prop/direct/P527'), ('o', 'http://www.wikidata.org/entity/Q47735')]\n",
      "[('p', 'http://www.wikidata.org/prop/direct/P527'), ('o', 'http://www.wikidata.org/entity/Q79859')]\n",
      "[('p', 'http://www.wikidata.org/prop/direct/P527'), ('o', 'http://www.wikidata.org/entity/Q101730')]\n",
      "[('p', 'http://www.wikidata.org/prop/direct/P527'), ('o', 'http://www.wikidata.org/entity/Q131075')]\n",
      "[('p', 'http://www.wikidata.org/prop/direct/P527'), ('o', 'http://www.wikidata.org/entity/Q132515')]\n",
      "[('p', 'http://www.wikidata.org/prop/direct/P527'), ('o', 'http://www.wikidata.org/entity/Q132529')]\n",
      "[('p', 'http://www.wikidata.org/prop/direct/P527'), ('o', 'http://www.wikidata.org/entity/Q134202')]\n",
      "[('p', 'http://www.wikidata.org/prop/direct/P527'), ('o', 'http://www.wikidata.org/entity/Q166121')]\n",
      "[('p', 'http://www.wikidata.org/prop/direct/P527'), ('o', 'http://www.wikidata.org/entity/Q132533')]\n",
      "[('p', 'http://www.wikidata.org/prop/direct/P527'), ('o', 'http://www.wikidata.org/entity/Q1477177')]\n",
      "[('p', 'http://www.wikidata.org/prop/direct/P527'), ('o', 'http://www.wikidata.org/entity/Q160813')]\n",
      "[('p', 'http://www.wikidata.org/prop/direct/P527'), ('o', 'http://www.wikidata.org/entity/Q284163')]\n",
      "[('p', 'http://www.wikidata.org/prop/direct/P527'), ('o', 'http://www.wikidata.org/entity/Q5020214')]\n",
      "[('p', 'http://www.wikidata.org/prop/direct/P527'), ('o', 'http://www.wikidata.org/entity/Q14935989')]\n",
      "[('p', 'http://www.wikidata.org/prop/direct/P527'), ('o', 'http://www.wikidata.org/entity/Q203851')]\n",
      "[('p', 'http://www.wikidata.org/prop/direct/P527'), ('o', 'http://www.wikidata.org/entity/Q65273310')]\n",
      "[('p', 'http://www.wikidata.org/prop/direct/P527'), ('o', 'http://www.wikidata.org/entity/Q43215379')]\n",
      "[('p', 'http://www.wikidata.org/prop/direct/P571'), ('o', '1930-01-01T00:00:00Z')]\n",
      "[('p', 'http://www.wikidata.org/prop/direct/P6262'), ('o', 'football:FIFA_World_Cup')]\n",
      "[('p', 'http://www.wikidata.org/prop/direct/P641'), ('o', 'http://www.wikidata.org/entity/Q2736')]\n",
      "[('p', 'http://www.wikidata.org/prop/direct/P646'), ('o', '/m/030q7')]\n",
      "[('p', 'http://www.wikidata.org/prop/direct/P6573'), ('o', 'Fußball-Weltmeisterschaft')]\n",
      "[('p', 'http://www.wikidata.org/prop/direct/P664'), ('o', 'http://www.wikidata.org/entity/Q253414')]\n",
      "[('p', 'http://www.wikidata.org/prop/direct/P691'), ('o', 'ph122907')]\n",
      "[('p', 'http://www.wikidata.org/prop/direct/P7859'), ('o', 'lccn-n98090291')]\n",
      "[('p', 'http://www.wikidata.org/prop/direct/P8408'), ('o', 'WorldCupCompetition')]\n",
      "[('p', 'http://www.wikidata.org/prop/direct/P856'), ('o', 'https://www.fifa.com/worldcup/')]\n",
      "[('p', 'http://www.wikidata.org/prop/direct/P8687'), ('o', '19600')]\n",
      "[('p', 'http://www.wikidata.org/prop/direct/P910'), ('o', 'http://www.wikidata.org/entity/Q8437937')]\n",
      "[('p', 'http://www.wikidata.org/prop/direct/P9322'), ('o', '0217566-mistrovstvi-sveta-ve-fotbale')]\n",
      "[('p', 'http://www.wikidata.org/prop/direct/P949'), ('o', '000565518')]\n",
      "[('p', 'http://schema.org/name'), ('o', 'FIFA World Cup')]\n",
      "[('p', 'http://www.wikidata.org/prop/direct/P2517'), ('o', 'http://www.wikidata.org/entity/Q7120395')]\n",
      "[('p', 'http://www.wikidata.org/prop/direct/P3579'), ('o', 'FIFAWorldCup')]\n",
      "[('p', 'http://www.wikidata.org/prop/direct/P8735'), ('o', '4')]\n",
      "[('p', 'http://www.wikidata.org/prop/direct/P8115'), ('o', 'http://www.wikidata.org/entity/Q6979593')]\n"
     ]
    },
    {
     "data": {
      "text/plain": [
       "84"
      ]
     },
     "execution_count": 4,
     "metadata": {},
     "output_type": "execute_result"
    }
   ],
   "source": [
    "queryString=\"\"\"\n",
    "SELECT * {\n",
    "  wd:Q19317 ?p ?o .\n",
    "}\n",
    "\n",
    "\"\"\"\n",
    "print(\"Results\")\n",
    "run_query(queryString)"
   ]
  },
  {
   "cell_type": "markdown",
   "id": "82e19eeb-58d9-476f-a9f9-5252705846d0",
   "metadata": {},
   "source": [
    "# Workload Goals\n",
    "#### 1. Identify the BGP for connecting national football teams with the participations in the finals or in the world cups"
   ]
  },
  {
   "cell_type": "code",
   "execution_count": 5,
   "id": "edf42154-4029-47e9-89db-d35853447b7a",
   "metadata": {},
   "outputs": [
    {
     "name": "stdout",
     "output_type": "stream",
     "text": [
      "Results\n",
      "[('p', 'http://www.wikidata.org/entity/Q5627659'), ('pname', 'Template:Infobox national football team'), ('o', 'http://www.wikidata.org/prop/direct/P1423'), ('oname', 'template has topic')]\n",
      "[('p', 'http://www.wikidata.org/entity/Q23905105'), ('pname', \"women's national association football team\"), ('o', 'http://www.wikidata.org/prop/direct/P1889'), ('oname', 'different from')]\n",
      "[('p', 'http://www.wikidata.org/entity/Q106588536'), ('pname', \"women's national American football team\"), ('o', 'http://www.wikidata.org/prop/direct/P1889'), ('oname', 'different from')]\n",
      "[('p', 'http://www.wikidata.org/entity/Q3589950'), ('pname', 'Ivory Coast Olympic football team'), ('o', 'http://www.wikidata.org/prop/direct/P279'), ('oname', 'subclass of')]\n",
      "[('p', 'http://www.wikidata.org/entity/Q651714'), ('pname', 'Bulgaria national under-21 football team'), ('o', 'http://www.wikidata.org/prop/direct/P279'), ('oname', 'subclass of')]\n",
      "[('p', 'http://www.wikidata.org/entity/Q3873500'), ('pname', 'Norway national under-16 association football team'), ('o', 'http://www.wikidata.org/prop/direct/P279'), ('oname', 'subclass of')]\n",
      "[('p', 'http://www.wikidata.org/entity/Q45043950'), ('pname', 'military national association football team'), ('o', 'http://www.wikidata.org/prop/direct/P279'), ('oname', 'subclass of')]\n",
      "[('p', 'http://www.wikidata.org/entity/Q47460286'), ('pname', 'national beach soccer team'), ('o', 'http://www.wikidata.org/prop/direct/P279'), ('oname', 'subclass of')]\n",
      "[('p', 'http://www.wikidata.org/entity/Q16581702'), ('pname', 'Colombia Olympic football team'), ('o', 'http://www.wikidata.org/prop/direct/P279'), ('oname', 'subclass of')]\n",
      "[('p', 'http://www.wikidata.org/entity/Q1202759'), ('pname', 'Germany national under-16 football team'), ('o', 'http://www.wikidata.org/prop/direct/P279'), ('oname', 'subclass of')]\n",
      "[('p', 'http://www.wikidata.org/entity/Q676899'), ('pname', 'Italy national association football team'), ('o', 'http://www.wikidata.org/prop/direct/P279'), ('oname', 'subclass of')]\n",
      "[('p', 'http://www.wikidata.org/entity/Q163534'), ('pname', 'Austria national association football team'), ('o', 'http://www.wikidata.org/prop/direct/P279'), ('oname', 'subclass of')]\n",
      "[('p', 'http://www.wikidata.org/entity/Q2446294'), ('pname', 'Norway national under-21 association football team'), ('o', 'http://www.wikidata.org/prop/direct/P279'), ('oname', 'subclass of')]\n",
      "[('p', 'http://www.wikidata.org/entity/Q268208'), ('pname', 'Australia national association football team'), ('o', 'http://www.wikidata.org/prop/direct/P279'), ('oname', 'subclass of')]\n",
      "[('p', 'http://www.wikidata.org/entity/Q3590274'), ('pname', 'Norway national under-17 association football team'), ('o', 'http://www.wikidata.org/prop/direct/P279'), ('oname', 'subclass of')]\n",
      "[('p', 'http://www.wikidata.org/entity/Q3873545'), ('pname', 'Norway national under-20 association football team'), ('o', 'http://www.wikidata.org/prop/direct/P279'), ('oname', 'subclass of')]\n",
      "[('p', 'http://www.wikidata.org/entity/Q134916'), ('pname', 'Uruguay national football team'), ('o', 'http://www.wikidata.org/prop/direct/P279'), ('oname', 'subclass of')]\n",
      "[('p', 'http://www.wikidata.org/entity/Q181190'), ('pname', 'Bosnia and Herzegovina national football team'), ('o', 'http://www.wikidata.org/prop/direct/P279'), ('oname', 'subclass of')]\n",
      "[('p', 'http://www.wikidata.org/entity/Q170327'), ('pname', 'South Africa national football team'), ('o', 'http://www.wikidata.org/prop/direct/P279'), ('oname', 'subclass of')]\n",
      "[('p', 'http://www.wikidata.org/entity/Q186243'), ('pname', 'Iraq national football team'), ('o', 'http://www.wikidata.org/prop/direct/P279'), ('oname', 'subclass of')]\n"
     ]
    },
    {
     "data": {
      "text/plain": [
       "20"
      ]
     },
     "execution_count": 5,
     "metadata": {},
     "output_type": "execute_result"
    }
   ],
   "source": [
    "# | `wd:Q6979593`  |national football team | node      |\n",
    "queryString = \"\"\"\n",
    "SELECT ?p ?pname ?o ?oname\n",
    "WHERE { \n",
    "\n",
    "   ?p ?o wd:Q6979593 .\n",
    "    # Labels\n",
    "    ?p <http://schema.org/name> ?pname .\n",
    "    ?o <http://schema.org/name> ?oname .\n",
    "\n",
    "} \n",
    "LIMIT 20\n",
    "\"\"\"\n",
    "print(\"Results\")\n",
    "run_query(queryString)"
   ]
  },
  {
   "cell_type": "code",
   "execution_count": 6,
   "id": "e8e221dc-ea3c-4db1-ab50-9acededc569a",
   "metadata": {},
   "outputs": [
    {
     "name": "stdout",
     "output_type": "stream",
     "text": [
      "Results\n",
      "[('team', 'http://www.wikidata.org/entity/Q134916'), ('teamname', 'Uruguay national football team')]\n",
      "[('team', 'http://www.wikidata.org/entity/Q181190'), ('teamname', 'Bosnia and Herzegovina national football team')]\n",
      "[('team', 'http://www.wikidata.org/entity/Q170327'), ('teamname', 'South Africa national football team')]\n",
      "[('team', 'http://www.wikidata.org/entity/Q186243'), ('teamname', 'Iraq national football team')]\n",
      "[('team', 'http://www.wikidata.org/entity/Q191406'), ('teamname', 'Israel national football team')]\n",
      "[('team', 'http://www.wikidata.org/entity/Q14132'), ('teamname', 'North Korea national football team')]\n",
      "[('team', 'http://www.wikidata.org/entity/Q175145'), ('teamname', 'Ivory Coast national football team')]\n",
      "[('team', 'http://www.wikidata.org/entity/Q180187'), ('teamname', 'Honduras national football team')]\n",
      "[('team', 'http://www.wikidata.org/entity/Q130582'), ('teamname', 'China national football team')]\n",
      "[('team', 'http://www.wikidata.org/entity/Q194387'), ('teamname', 'Costa Rica national football team')]\n",
      "[('team', 'http://www.wikidata.org/entity/Q3589644'), ('teamname', \"Algeria A' national football team\")]\n",
      "[('team', 'http://www.wikidata.org/entity/Q4127957'), ('teamname', 'Northern Ireland B national football team')]\n",
      "[('team', 'http://www.wikidata.org/entity/Q172221'), ('teamname', 'Slovenia national football team')]\n",
      "[('team', 'http://www.wikidata.org/entity/Q6066735'), ('teamname', 'Iran B national football team')]\n",
      "[('team', 'http://www.wikidata.org/entity/Q236006'), ('teamname', 'Haiti national football team')]\n",
      "[('team', 'http://www.wikidata.org/entity/Q775805'), ('teamname', \"Italy women's national football team\")]\n",
      "[('team', 'http://www.wikidata.org/entity/Q23830553'), ('teamname', 'Spain B national football team')]\n",
      "[('team', 'http://www.wikidata.org/entity/Q212166'), ('teamname', 'Peru national football team')]\n",
      "[('team', 'http://www.wikidata.org/entity/Q55773793'), ('teamname', 'United Arab Republic national football team')]\n",
      "[('team', 'http://www.wikidata.org/entity/Q206828'), ('teamname', 'Kuwait national football team')]\n"
     ]
    },
    {
     "data": {
      "text/plain": [
       "20"
      ]
     },
     "execution_count": 6,
     "metadata": {},
     "output_type": "execute_result"
    }
   ],
   "source": [
    "# | `wd:Q6979593`  |national football team | node      |\n",
    "queryString = \"\"\"\n",
    "SELECT DISTINCT ?team ?teamname \n",
    "WHERE { \n",
    "\n",
    "   ?team wdt:P279 wd:Q6979593 .\n",
    "    # Labels\n",
    "    ?team <http://schema.org/name> ?teamname .\n",
    "\n",
    "    FILTER regex(?teamname, \"national football team\", \"i\") \n",
    "} \n",
    "LIMIT 20\n",
    "\"\"\"\n",
    "print(\"Results\")\n",
    "run_query(queryString)"
   ]
  },
  {
   "cell_type": "code",
   "execution_count": 7,
   "id": "de70f419-4ade-43f8-afdb-17fda82f99df",
   "metadata": {},
   "outputs": [
    {
     "name": "stdout",
     "output_type": "stream",
     "text": [
      "Results\n",
      "[('countteam', '53')]\n"
     ]
    },
    {
     "data": {
      "text/plain": [
       "1"
      ]
     },
     "execution_count": 7,
     "metadata": {},
     "output_type": "execute_result"
    }
   ],
   "source": [
    "# count the number of national teams\n",
    "# | `wd:Q6979593`  |national football team | node      |\n",
    "queryString = \"\"\"\n",
    "SELECT (COUNT (DISTINCT ?team) AS ?countteam)\n",
    "WHERE { \n",
    "\n",
    "   ?team wdt:P279 wd:Q6979593 .\n",
    "    # Labels\n",
    "    ?team <http://schema.org/name> ?teamname .\n",
    "\n",
    "    FILTER regex(?teamname, \"national football team\", \"i\") \n",
    "} \n",
    "LIMIT 20\n",
    "\"\"\"\n",
    "print(\"Results\")\n",
    "run_query(queryString)"
   ]
  },
  {
   "cell_type": "code",
   "execution_count": 8,
   "id": "045c72d9-d7d2-44de-b760-145ec36abe6f",
   "metadata": {},
   "outputs": [
    {
     "name": "stdout",
     "output_type": "stream",
     "text": [
      "Results\n",
      "[('p', 'http://www.wikidata.org/prop/direct/P910'), ('pname', \"topic's main category\"), ('o', 'http://www.wikidata.org/entity/Q7139622'), ('oname', 'Category:National association football teams')]\n",
      "[('p', 'http://www.wikidata.org/prop/direct/P279'), ('pname', 'subclass of'), ('o', 'http://www.wikidata.org/entity/Q15944511'), ('oname', 'association football team')]\n",
      "[('p', 'http://www.wikidata.org/prop/direct/P641'), ('pname', 'sport'), ('o', 'http://www.wikidata.org/entity/Q2736'), ('oname', 'association football')]\n",
      "[('p', 'http://www.wikidata.org/prop/direct/P527'), ('pname', 'has part'), ('o', 'http://www.wikidata.org/entity/Q937857'), ('oname', 'association football player')]\n",
      "[('p', 'http://www.wikidata.org/prop/direct/P279'), ('pname', 'subclass of'), ('o', 'http://www.wikidata.org/entity/Q1194951'), ('oname', 'national sports team')]\n",
      "[('p', 'http://www.wikidata.org/prop/direct/P1889'), ('pname', 'different from'), ('o', 'http://www.wikidata.org/entity/Q23905105'), ('oname', \"women's national association football team\")]\n",
      "[('p', 'http://www.wikidata.org/prop/direct/P1424'), ('pname', \"topic's main template\"), ('o', 'http://www.wikidata.org/entity/Q5627659'), ('oname', 'Template:Infobox national football team')]\n",
      "[('p', 'http://www.wikidata.org/prop/direct/P527'), ('pname', 'has part'), ('o', 'http://www.wikidata.org/entity/Q1478408'), ('oname', 'association football national coach')]\n",
      "[('p', 'http://www.wikidata.org/prop/direct/P1963'), ('pname', 'properties for this type'), ('o', 'http://www.wikidata.org/entity/P3441'), ('oname', 'FIFA country code')]\n"
     ]
    },
    {
     "data": {
      "text/plain": [
       "9"
      ]
     },
     "execution_count": 8,
     "metadata": {},
     "output_type": "execute_result"
    }
   ],
   "source": [
    "# | `wd:Q6979593`  |national football team | node      |\n",
    "queryString = \"\"\"\n",
    "SELECT ?p ?pname ?o ?oname\n",
    "WHERE { \n",
    "\n",
    "   wd:Q6979593 ?p ?o .\n",
    "    # Labels\n",
    "    ?p <http://schema.org/name> ?pname .\n",
    "    ?o <http://schema.org/name> ?oname .\n",
    "\n",
    "} \n",
    "LIMIT 20\n",
    "\"\"\"\n",
    "print(\"Results\")\n",
    "run_query(queryString)"
   ]
  },
  {
   "cell_type": "code",
   "execution_count": 9,
   "id": "3cd2d238-94cd-4412-80d7-e72901096874",
   "metadata": {},
   "outputs": [
    {
     "name": "stdout",
     "output_type": "stream",
     "text": [
      "Results\n",
      "[('p', 'http://www.wikidata.org/prop/direct/P527'), ('pname', 'has part'), ('o', 'http://www.wikidata.org/entity/Q101751'), ('oname', '1994 FIFA World Cup')]\n",
      "[('p', 'http://www.wikidata.org/prop/direct/P527'), ('pname', 'has part'), ('o', 'http://www.wikidata.org/entity/Q131591'), ('oname', '1938 FIFA World Cup')]\n",
      "[('p', 'http://www.wikidata.org/prop/direct/P527'), ('pname', 'has part'), ('o', 'http://www.wikidata.org/entity/Q132664'), ('oname', '1970 FIFA World Cup')]\n",
      "[('p', 'http://www.wikidata.org/prop/direct/P664'), ('pname', 'organizer'), ('o', 'http://www.wikidata.org/entity/Q253414'), ('oname', 'FIFA')]\n",
      "[('p', 'http://www.wikidata.org/prop/direct/P527'), ('pname', 'has part'), ('o', 'http://www.wikidata.org/entity/Q48432'), ('oname', '1930 FIFA World Cup')]\n",
      "[('p', 'http://www.wikidata.org/prop/direct/P910'), ('pname', \"topic's main category\"), ('o', 'http://www.wikidata.org/entity/Q8437937'), ('oname', 'Category:FIFA World Cup')]\n",
      "[('p', 'http://www.wikidata.org/prop/direct/P2922'), ('pname', 'month of the year'), ('o', 'http://www.wikidata.org/entity/Q120'), ('oname', 'June')]\n",
      "[('p', 'http://www.wikidata.org/prop/direct/P527'), ('pname', 'has part'), ('o', 'http://www.wikidata.org/entity/Q170645'), ('oname', '2018 FIFA World Cup')]\n",
      "[('p', 'http://www.wikidata.org/prop/direct/P527'), ('pname', 'has part'), ('o', 'http://www.wikidata.org/entity/Q176883'), ('oname', '2010 FIFA World Cup')]\n",
      "[('p', 'http://www.wikidata.org/prop/direct/P641'), ('pname', 'sport'), ('o', 'http://www.wikidata.org/entity/Q2736'), ('oname', 'association football')]\n",
      "[('p', 'http://www.wikidata.org/prop/direct/P527'), ('pname', 'has part'), ('o', 'http://www.wikidata.org/entity/Q37285'), ('oname', '2006 FIFA World Cup')]\n",
      "[('p', 'http://www.wikidata.org/prop/direct/P527'), ('pname', 'has part'), ('o', 'http://www.wikidata.org/entity/Q46934'), ('oname', '1982 FIFA World Cup')]\n",
      "[('p', 'http://www.wikidata.org/prop/direct/P527'), ('pname', 'has part'), ('o', 'http://www.wikidata.org/entity/Q46938'), ('oname', '1986 FIFA World Cup')]\n",
      "[('p', 'http://www.wikidata.org/prop/direct/P527'), ('pname', 'has part'), ('o', 'http://www.wikidata.org/entity/Q46943'), ('oname', '1978 FIFA World Cup')]\n",
      "[('p', 'http://www.wikidata.org/prop/direct/P527'), ('pname', 'has part'), ('o', 'http://www.wikidata.org/entity/Q47735'), ('oname', '2002 FIFA World Cup')]\n",
      "[('p', 'http://www.wikidata.org/prop/direct/P527'), ('pname', 'has part'), ('o', 'http://www.wikidata.org/entity/Q79859'), ('oname', '2014 FIFA World Cup')]\n",
      "[('p', 'http://www.wikidata.org/prop/direct/P31'), ('pname', 'instance of'), ('o', 'http://www.wikidata.org/entity/Q1478437'), ('oname', 'association football competition')]\n",
      "[('p', 'http://www.wikidata.org/prop/direct/P2094'), ('pname', 'competition class'), ('o', 'http://www.wikidata.org/entity/Q31930761'), ('oname', \"men's association football\")]\n",
      "[('p', 'http://www.wikidata.org/prop/direct/P8115'), ('pname', 'eligible recipient'), ('o', 'http://www.wikidata.org/entity/Q6979593'), ('oname', 'national association football team')]\n",
      "[('p', 'http://www.wikidata.org/prop/direct/P527'), ('pname', 'has part'), ('o', 'http://www.wikidata.org/entity/Q101730'), ('oname', '1998 FIFA World Cup')]\n",
      "[('p', 'http://www.wikidata.org/prop/direct/P527'), ('pname', 'has part'), ('o', 'http://www.wikidata.org/entity/Q131075'), ('oname', '1954 FIFA World Cup')]\n",
      "[('p', 'http://www.wikidata.org/prop/direct/P527'), ('pname', 'has part'), ('o', 'http://www.wikidata.org/entity/Q132515'), ('oname', '1950 FIFA World Cup')]\n",
      "[('p', 'http://www.wikidata.org/prop/direct/P527'), ('pname', 'has part'), ('o', 'http://www.wikidata.org/entity/Q132529'), ('oname', '1990 FIFA World Cup')]\n",
      "[('p', 'http://www.wikidata.org/prop/direct/P527'), ('pname', 'has part'), ('o', 'http://www.wikidata.org/entity/Q134202'), ('oname', '1966 FIFA World Cup')]\n",
      "[('p', 'http://www.wikidata.org/prop/direct/P527'), ('pname', 'has part'), ('o', 'http://www.wikidata.org/entity/Q166121'), ('oname', '1974 FIFA World Cup')]\n",
      "[('p', 'http://www.wikidata.org/prop/direct/P527'), ('pname', 'has part'), ('o', 'http://www.wikidata.org/entity/Q132533'), ('oname', '1958 FIFA World Cup')]\n",
      "[('p', 'http://www.wikidata.org/prop/direct/P527'), ('pname', 'has part'), ('o', 'http://www.wikidata.org/entity/Q1477177'), ('oname', '1934 FIFA World Cup')]\n",
      "[('p', 'http://www.wikidata.org/prop/direct/P527'), ('pname', 'has part'), ('o', 'http://www.wikidata.org/entity/Q160813'), ('oname', '1962 FIFA World Cup')]\n",
      "[('p', 'http://www.wikidata.org/prop/direct/P31'), ('pname', 'instance of'), ('o', 'http://www.wikidata.org/entity/Q1344963'), ('oname', 'world championship')]\n",
      "[('p', 'http://www.wikidata.org/prop/direct/P527'), ('pname', 'has part'), ('o', 'http://www.wikidata.org/entity/Q284163'), ('oname', '2022 FIFA World Cup')]\n",
      "[('p', 'http://www.wikidata.org/prop/direct/P527'), ('pname', 'has part'), ('o', 'http://www.wikidata.org/entity/Q5020214'), ('oname', '2026 FIFA World Cup')]\n",
      "[('p', 'http://www.wikidata.org/prop/direct/P527'), ('pname', 'has part'), ('o', 'http://www.wikidata.org/entity/Q14935989'), ('oname', '2030 FIFA World Cup')]\n",
      "[('p', 'http://www.wikidata.org/prop/direct/P2517'), ('pname', 'category for recipients of this award'), ('o', 'http://www.wikidata.org/entity/Q7120395'), ('oname', 'Category:FIFA World Cup-winning players')]\n",
      "[('p', 'http://www.wikidata.org/prop/direct/P31'), ('pname', 'instance of'), ('o', 'http://www.wikidata.org/entity/Q34542827'), ('oname', 'international association football national teams competition')]\n",
      "[('p', 'http://www.wikidata.org/prop/direct/P1424'), ('pname', \"topic's main template\"), ('o', 'http://www.wikidata.org/entity/Q5636960'), ('oname', 'Template:FIFA World Cup')]\n",
      "[('p', 'http://www.wikidata.org/prop/direct/P2184'), ('pname', 'history of topic'), ('o', 'http://www.wikidata.org/entity/Q1196082'), ('oname', 'history of the FIFA World Cup')]\n",
      "[('p', 'http://www.wikidata.org/prop/direct/P527'), ('pname', 'has part'), ('o', 'http://www.wikidata.org/entity/Q203851'), ('oname', '1942 FIFA World Cup')]\n",
      "[('p', 'http://www.wikidata.org/prop/direct/P1151'), ('pname', \"topic's main Wikimedia portal\"), ('o', 'http://www.wikidata.org/entity/Q28736876'), ('oname', 'Portal:FIFA World Cup')]\n",
      "[('p', 'http://www.wikidata.org/prop/direct/P527'), ('pname', 'has part'), ('o', 'http://www.wikidata.org/entity/Q65273310'), ('oname', '1946 FIFA World Cup')]\n",
      "[('p', 'http://www.wikidata.org/prop/direct/P527'), ('pname', 'has part'), ('o', 'http://www.wikidata.org/entity/Q43215379'), ('oname', '2034 FIFA World Cup')]\n"
     ]
    },
    {
     "data": {
      "text/plain": [
       "40"
      ]
     },
     "execution_count": 9,
     "metadata": {},
     "output_type": "execute_result"
    }
   ],
   "source": [
    "# `wd:Q19317`   | FIFA World Cup  | node |\n",
    "\n",
    "queryString = \"\"\"\n",
    "SELECT ?p ?pname ?o ?oname\n",
    "WHERE { \n",
    "\n",
    "    wd:Q19317 ?p ?o .\n",
    "    # Labels\n",
    "    ?p <http://schema.org/name> ?pname .\n",
    "    ?o <http://schema.org/name> ?oname .\n",
    "\n",
    "\n",
    "\n",
    "    #FILTER regex(?pname, \"episode\", \"i\") \n",
    "} \n",
    "LIMIT 40\n",
    "\"\"\"\n",
    "\n",
    "print(\"Results\")\n",
    "run_query(queryString)\n",
    "\n"
   ]
  },
  {
   "cell_type": "code",
   "execution_count": 10,
   "id": "67375ad5-4d3c-4f43-8716-2ac1e8eebc8b",
   "metadata": {},
   "outputs": [
    {
     "name": "stdout",
     "output_type": "stream",
     "text": [
      "Results\n",
      "[('p', 'http://www.wikidata.org/prop/direct/P31'), ('pname', 'instance of'), ('o', 'http://www.wikidata.org/entity/Q34542827'), ('oname', 'international association football national teams competition')]\n",
      "[('p', 'http://www.wikidata.org/prop/direct/P8115'), ('pname', 'eligible recipient'), ('o', 'http://www.wikidata.org/entity/Q6979593'), ('oname', 'national association football team')]\n"
     ]
    },
    {
     "data": {
      "text/plain": [
       "2"
      ]
     },
     "execution_count": 10,
     "metadata": {},
     "output_type": "execute_result"
    }
   ],
   "source": [
    "# `wd:Q19317`   | FIFA World Cup  | node |\n",
    "\n",
    "queryString = \"\"\"\n",
    "SELECT ?p ?pname ?o ?oname\n",
    "WHERE { \n",
    "\n",
    "    wd:Q19317 ?p ?o .\n",
    "    # Labels\n",
    "    ?p <http://schema.org/name> ?pname .\n",
    "    ?o <http://schema.org/name> ?oname .\n",
    "\n",
    "\n",
    "\n",
    "    FILTER regex(?oname, \"team\", \"i\") \n",
    "} \n",
    "LIMIT 40\n",
    "\"\"\"\n",
    "\n",
    "print(\"Results\")\n",
    "run_query(queryString)\n",
    "\n"
   ]
  },
  {
   "cell_type": "markdown",
   "id": "9066deed-86aa-4b63-8142-b623dab27273",
   "metadata": {},
   "source": [
    "### A list of all world cups"
   ]
  },
  {
   "cell_type": "code",
   "execution_count": 11,
   "id": "d8026d76-fb7d-49e5-9967-7d73ae1a2b5a",
   "metadata": {},
   "outputs": [
    {
     "name": "stdout",
     "output_type": "stream",
     "text": [
      "Results\n",
      "[('p', 'http://www.wikidata.org/prop/direct/P527'), ('pname', 'has part'), ('o', 'http://www.wikidata.org/entity/Q101751'), ('oname', '1994 FIFA World Cup')]\n",
      "[('p', 'http://www.wikidata.org/prop/direct/P527'), ('pname', 'has part'), ('o', 'http://www.wikidata.org/entity/Q131591'), ('oname', '1938 FIFA World Cup')]\n",
      "[('p', 'http://www.wikidata.org/prop/direct/P527'), ('pname', 'has part'), ('o', 'http://www.wikidata.org/entity/Q132664'), ('oname', '1970 FIFA World Cup')]\n",
      "[('p', 'http://www.wikidata.org/prop/direct/P527'), ('pname', 'has part'), ('o', 'http://www.wikidata.org/entity/Q48432'), ('oname', '1930 FIFA World Cup')]\n",
      "[('p', 'http://www.wikidata.org/prop/direct/P527'), ('pname', 'has part'), ('o', 'http://www.wikidata.org/entity/Q170645'), ('oname', '2018 FIFA World Cup')]\n",
      "[('p', 'http://www.wikidata.org/prop/direct/P527'), ('pname', 'has part'), ('o', 'http://www.wikidata.org/entity/Q176883'), ('oname', '2010 FIFA World Cup')]\n",
      "[('p', 'http://www.wikidata.org/prop/direct/P527'), ('pname', 'has part'), ('o', 'http://www.wikidata.org/entity/Q37285'), ('oname', '2006 FIFA World Cup')]\n",
      "[('p', 'http://www.wikidata.org/prop/direct/P527'), ('pname', 'has part'), ('o', 'http://www.wikidata.org/entity/Q46934'), ('oname', '1982 FIFA World Cup')]\n",
      "[('p', 'http://www.wikidata.org/prop/direct/P527'), ('pname', 'has part'), ('o', 'http://www.wikidata.org/entity/Q46938'), ('oname', '1986 FIFA World Cup')]\n",
      "[('p', 'http://www.wikidata.org/prop/direct/P527'), ('pname', 'has part'), ('o', 'http://www.wikidata.org/entity/Q46943'), ('oname', '1978 FIFA World Cup')]\n",
      "[('p', 'http://www.wikidata.org/prop/direct/P527'), ('pname', 'has part'), ('o', 'http://www.wikidata.org/entity/Q47735'), ('oname', '2002 FIFA World Cup')]\n",
      "[('p', 'http://www.wikidata.org/prop/direct/P527'), ('pname', 'has part'), ('o', 'http://www.wikidata.org/entity/Q79859'), ('oname', '2014 FIFA World Cup')]\n",
      "[('p', 'http://www.wikidata.org/prop/direct/P527'), ('pname', 'has part'), ('o', 'http://www.wikidata.org/entity/Q101730'), ('oname', '1998 FIFA World Cup')]\n",
      "[('p', 'http://www.wikidata.org/prop/direct/P527'), ('pname', 'has part'), ('o', 'http://www.wikidata.org/entity/Q131075'), ('oname', '1954 FIFA World Cup')]\n",
      "[('p', 'http://www.wikidata.org/prop/direct/P527'), ('pname', 'has part'), ('o', 'http://www.wikidata.org/entity/Q132515'), ('oname', '1950 FIFA World Cup')]\n",
      "[('p', 'http://www.wikidata.org/prop/direct/P527'), ('pname', 'has part'), ('o', 'http://www.wikidata.org/entity/Q132529'), ('oname', '1990 FIFA World Cup')]\n",
      "[('p', 'http://www.wikidata.org/prop/direct/P527'), ('pname', 'has part'), ('o', 'http://www.wikidata.org/entity/Q134202'), ('oname', '1966 FIFA World Cup')]\n",
      "[('p', 'http://www.wikidata.org/prop/direct/P527'), ('pname', 'has part'), ('o', 'http://www.wikidata.org/entity/Q166121'), ('oname', '1974 FIFA World Cup')]\n",
      "[('p', 'http://www.wikidata.org/prop/direct/P527'), ('pname', 'has part'), ('o', 'http://www.wikidata.org/entity/Q132533'), ('oname', '1958 FIFA World Cup')]\n",
      "[('p', 'http://www.wikidata.org/prop/direct/P527'), ('pname', 'has part'), ('o', 'http://www.wikidata.org/entity/Q1477177'), ('oname', '1934 FIFA World Cup')]\n"
     ]
    },
    {
     "data": {
      "text/plain": [
       "20"
      ]
     },
     "execution_count": 11,
     "metadata": {},
     "output_type": "execute_result"
    }
   ],
   "source": [
    "# list of world cups\n",
    "queryString = \"\"\"\n",
    "SELECT ?p ?pname ?o ?oname\n",
    "WHERE { \n",
    "\n",
    "    wd:Q19317 ?p ?o .\n",
    "    # Labels\n",
    "    ?p <http://schema.org/name> ?pname .\n",
    "    ?o <http://schema.org/name> ?oname .\n",
    "    FILTER regex(?pname, \"has part\", \"i\") \n",
    "} \n",
    "LIMIT 20\n",
    "\"\"\"\n",
    "\n",
    "print(\"Results\")\n",
    "run_query(queryString)\n",
    "\n"
   ]
  },
  {
   "cell_type": "code",
   "execution_count": 12,
   "id": "45ff05f9-5af6-434d-9667-86674f1b6a85",
   "metadata": {},
   "outputs": [
    {
     "name": "stdout",
     "output_type": "stream",
     "text": [
      "Results\n",
      "[('start', '2034-06-01T00:00:00Z'), ('end', '2034-09-01T00:00:00Z')]\n"
     ]
    },
    {
     "data": {
      "text/plain": [
       "1"
      ]
     },
     "execution_count": 12,
     "metadata": {},
     "output_type": "execute_result"
    }
   ],
   "source": [
    "# start time and end time of world cup 2034\n",
    "\n",
    "# [('p', 'http://www.wikidata.org/prop/direct/P527'), ('pname', 'has part'),\n",
    "#('o', 'http://www.wikidata.org/entity/Q43215379'), ('oname', '2034 FIFA World Cup')]\n",
    "queryString = \"\"\"\n",
    "SELECT ?start ?end \n",
    "WHERE { \n",
    "\n",
    "    wd:Q43215379 wdt:P580 ?start .\n",
    "    wd:Q43215379 wdt:P582 ?end .\n",
    "    # Labels\n",
    "   # ?p <http://schema.org/name> ?pname .\n",
    "    #FILTER regex(?pname, \"has part\", \"i\") \n",
    "} \n",
    "LIMIT 40\n",
    "\"\"\"\n",
    "\n",
    "print(\"Results\")\n",
    "run_query(queryString)"
   ]
  },
  {
   "cell_type": "code",
   "execution_count": 13,
   "id": "4f2ed141-90dd-47db-a61d-1c233fae717b",
   "metadata": {},
   "outputs": [
    {
     "name": "stdout",
     "output_type": "stream",
     "text": [
      "Results\n",
      "[('p', 'http://www.wikidata.org/entity/Q49929125'), ('pname', 'Category:2034 FIFA World Cup'), ('o', 'http://www.wikidata.org/prop/direct/P301'), ('oname', \"category's main topic\")]\n",
      "[('p', 'http://www.wikidata.org/entity/Q19317'), ('pname', 'FIFA World Cup'), ('o', 'http://www.wikidata.org/prop/direct/P527'), ('oname', 'has part')]\n"
     ]
    },
    {
     "data": {
      "text/plain": [
       "2"
      ]
     },
     "execution_count": 13,
     "metadata": {},
     "output_type": "execute_result"
    }
   ],
   "source": [
    "# [('p', 'http://www.wikidata.org/prop/direct/P527'), ('pname', 'has part'),\n",
    "#('o', 'http://www.wikidata.org/entity/Q43215379'), ('oname', '2034 FIFA World Cup')]\n",
    "queryString = \"\"\"\n",
    "SELECT ?p ?pname ?o ?oname\n",
    "WHERE { \n",
    "\n",
    "    ?p ?o wd:Q43215379 .\n",
    "    # Labels\n",
    "    ?p <http://schema.org/name> ?pname .\n",
    "    ?o <http://schema.org/name> ?oname .\n",
    "    #FILTER regex(?pname, \"has part\", \"i\") \n",
    "} \n",
    "LIMIT 40\n",
    "\"\"\"\n",
    "\n",
    "print(\"Results\")\n",
    "run_query(queryString)"
   ]
  },
  {
   "cell_type": "markdown",
   "id": "80fcc4d5-c335-4864-8f50-de59354562b7",
   "metadata": {},
   "source": [
    "### Show all of the world cups."
   ]
  },
  {
   "cell_type": "code",
   "execution_count": 14,
   "id": "a25b8473-6cc2-4f74-b5de-a0a0687b8226",
   "metadata": {},
   "outputs": [
    {
     "name": "stdout",
     "output_type": "stream",
     "text": [
      "Results\n",
      "[('worldcupname', '1930 FIFA World Cup'), ('start', '1930-07-13T00:00:00Z'), ('end', '1930-07-30T00:00:00Z')]\n",
      "[('worldcupname', '1934 FIFA World Cup'), ('start', '1934-05-27T00:00:00Z'), ('end', '1934-06-10T00:00:00Z')]\n",
      "[('worldcupname', '1938 FIFA World Cup'), ('start', '1938-06-04T00:00:00Z'), ('end', '1938-06-19T00:00:00Z')]\n",
      "[('worldcupname', '1950 FIFA World Cup'), ('start', '1950-06-24T00:00:00Z'), ('end', '1950-07-16T00:00:00Z')]\n",
      "[('worldcupname', '1954 FIFA World Cup'), ('start', '1954-06-16T00:00:00Z'), ('end', '1954-07-04T00:00:00Z')]\n",
      "[('worldcupname', '1958 FIFA World Cup'), ('start', '1958-06-06T00:00:00Z'), ('end', '1958-06-29T00:00:00Z')]\n",
      "[('worldcupname', '1962 FIFA World Cup'), ('start', '1962-05-30T00:00:00Z'), ('end', '1962-06-17T00:00:00Z')]\n",
      "[('worldcupname', '1966 FIFA World Cup'), ('start', '1966-07-11T00:00:00Z'), ('end', '1966-07-30T00:00:00Z')]\n",
      "[('worldcupname', '1970 FIFA World Cup'), ('start', '1970-05-31T00:00:00Z'), ('end', '1970-06-21T00:00:00Z')]\n",
      "[('worldcupname', '1974 FIFA World Cup'), ('start', '1974-06-13T00:00:00Z'), ('end', '1974-07-07T00:00:00Z')]\n",
      "[('worldcupname', '1978 FIFA World Cup'), ('start', '1978-06-01T00:00:00Z'), ('end', '1978-06-25T00:00:00Z')]\n",
      "[('worldcupname', '1982 FIFA World Cup'), ('start', '1982-06-13T00:00:00Z'), ('end', '1982-07-11T00:00:00Z')]\n",
      "[('worldcupname', '1986 FIFA World Cup'), ('start', '1986-05-31T00:00:00Z'), ('end', '1986-06-29T00:00:00Z')]\n",
      "[('worldcupname', '1990 FIFA World Cup'), ('start', '1990-06-08T00:00:00Z'), ('end', '1990-07-08T00:00:00Z')]\n",
      "[('worldcupname', '1994 FIFA World Cup'), ('start', '1994-06-17T00:00:00Z'), ('end', '1994-07-17T00:00:00Z')]\n",
      "[('worldcupname', '1998 FIFA World Cup'), ('start', '1998-06-10T00:00:00Z'), ('end', '1998-07-12T00:00:00Z')]\n",
      "[('worldcupname', '2002 FIFA World Cup'), ('start', '2002-05-30T00:00:00Z'), ('end', '2002-06-29T00:00:00Z')]\n",
      "[('worldcupname', '2006 FIFA World Cup'), ('start', '2006-06-09T00:00:00Z'), ('end', '2006-07-09T00:00:00Z')]\n",
      "[('worldcupname', '2010 FIFA World Cup'), ('start', '2010-06-11T00:00:00Z'), ('end', '2010-07-11T00:00:00Z')]\n",
      "[('worldcupname', '2014 FIFA World Cup'), ('start', '2014-06-12T00:00:00Z'), ('end', '2014-07-13T00:00:00Z')]\n",
      "[('worldcupname', '2018 FIFA World Cup'), ('start', '2018-06-14T00:00:00Z'), ('end', '2018-07-15T00:00:00Z')]\n",
      "[('worldcupname', '2022 FIFA World Cup'), ('start', '2022-11-21T00:00:00Z'), ('end', '2022-12-17T00:00:00Z')]\n",
      "[('worldcupname', '2026 FIFA World Cup'), ('start', '2026-01-01T00:00:00Z'), ('end', '2026-01-01T00:00:00Z')]\n",
      "[('worldcupname', '2030 FIFA World Cup'), ('start', '2030-06-28T00:00:00Z'), ('end', '2030-07-28T00:00:00Z')]\n",
      "[('worldcupname', '2034 FIFA World Cup'), ('start', '2034-06-01T00:00:00Z'), ('end', '2034-09-01T00:00:00Z')]\n"
     ]
    },
    {
     "data": {
      "text/plain": [
       "25"
      ]
     },
     "execution_count": 14,
     "metadata": {},
     "output_type": "execute_result"
    }
   ],
   "source": [
    "queryString = \"\"\"\n",
    "SELECT ?worldcupname ?start ?end\n",
    "WHERE { \n",
    "    wd:Q19317 wdt:P527 ?worldcup .\n",
    "    ?worldcup wdt:P580 ?start .\n",
    "    ?worldcup wdt:P582 ?end .\n",
    "    # Labels\n",
    "    ?worldcup <http://schema.org/name> ?worldcupname \n",
    "} \n",
    "ORDER BY ?start\n",
    "LIMIT 40\n",
    "\"\"\"\n",
    "\n",
    "print(\"Results\")\n",
    "run_query(queryString)"
   ]
  },
  {
   "cell_type": "markdown",
   "id": "c26dfb44-bf6a-40dc-a0f6-97ffdde1d64f",
   "metadata": {},
   "source": [
    "### The number of world cups until now. "
   ]
  },
  {
   "cell_type": "code",
   "execution_count": 15,
   "id": "98aede43-c76d-4650-be75-761611ebc772",
   "metadata": {},
   "outputs": [
    {
     "name": "stdout",
     "output_type": "stream",
     "text": [
      "Results\n",
      "[('worldcupname', '1930 FIFA World Cup'), ('start', '1930-07-13T00:00:00Z'), ('end', '1930-07-30T00:00:00Z')]\n",
      "[('worldcupname', '1934 FIFA World Cup'), ('start', '1934-05-27T00:00:00Z'), ('end', '1934-06-10T00:00:00Z')]\n",
      "[('worldcupname', '1938 FIFA World Cup'), ('start', '1938-06-04T00:00:00Z'), ('end', '1938-06-19T00:00:00Z')]\n",
      "[('worldcupname', '1950 FIFA World Cup'), ('start', '1950-06-24T00:00:00Z'), ('end', '1950-07-16T00:00:00Z')]\n",
      "[('worldcupname', '1954 FIFA World Cup'), ('start', '1954-06-16T00:00:00Z'), ('end', '1954-07-04T00:00:00Z')]\n",
      "[('worldcupname', '1958 FIFA World Cup'), ('start', '1958-06-06T00:00:00Z'), ('end', '1958-06-29T00:00:00Z')]\n",
      "[('worldcupname', '1962 FIFA World Cup'), ('start', '1962-05-30T00:00:00Z'), ('end', '1962-06-17T00:00:00Z')]\n",
      "[('worldcupname', '1966 FIFA World Cup'), ('start', '1966-07-11T00:00:00Z'), ('end', '1966-07-30T00:00:00Z')]\n",
      "[('worldcupname', '1970 FIFA World Cup'), ('start', '1970-05-31T00:00:00Z'), ('end', '1970-06-21T00:00:00Z')]\n",
      "[('worldcupname', '1974 FIFA World Cup'), ('start', '1974-06-13T00:00:00Z'), ('end', '1974-07-07T00:00:00Z')]\n",
      "[('worldcupname', '1978 FIFA World Cup'), ('start', '1978-06-01T00:00:00Z'), ('end', '1978-06-25T00:00:00Z')]\n",
      "[('worldcupname', '1982 FIFA World Cup'), ('start', '1982-06-13T00:00:00Z'), ('end', '1982-07-11T00:00:00Z')]\n",
      "[('worldcupname', '1986 FIFA World Cup'), ('start', '1986-05-31T00:00:00Z'), ('end', '1986-06-29T00:00:00Z')]\n",
      "[('worldcupname', '1990 FIFA World Cup'), ('start', '1990-06-08T00:00:00Z'), ('end', '1990-07-08T00:00:00Z')]\n",
      "[('worldcupname', '1994 FIFA World Cup'), ('start', '1994-06-17T00:00:00Z'), ('end', '1994-07-17T00:00:00Z')]\n",
      "[('worldcupname', '1998 FIFA World Cup'), ('start', '1998-06-10T00:00:00Z'), ('end', '1998-07-12T00:00:00Z')]\n",
      "[('worldcupname', '2002 FIFA World Cup'), ('start', '2002-05-30T00:00:00Z'), ('end', '2002-06-29T00:00:00Z')]\n",
      "[('worldcupname', '2006 FIFA World Cup'), ('start', '2006-06-09T00:00:00Z'), ('end', '2006-07-09T00:00:00Z')]\n",
      "[('worldcupname', '2010 FIFA World Cup'), ('start', '2010-06-11T00:00:00Z'), ('end', '2010-07-11T00:00:00Z')]\n",
      "[('worldcupname', '2014 FIFA World Cup'), ('start', '2014-06-12T00:00:00Z'), ('end', '2014-07-13T00:00:00Z')]\n",
      "[('worldcupname', '2018 FIFA World Cup'), ('start', '2018-06-14T00:00:00Z'), ('end', '2018-07-15T00:00:00Z')]\n"
     ]
    },
    {
     "data": {
      "text/plain": [
       "21"
      ]
     },
     "execution_count": 15,
     "metadata": {},
     "output_type": "execute_result"
    }
   ],
   "source": [
    "# The list of world cups until now. \n",
    "queryString = \"\"\"\n",
    "SELECT ?worldcupname ?start ?end\n",
    "WHERE { \n",
    "    wd:Q19317 wdt:P527 ?worldcup .\n",
    "    ?worldcup wdt:P580 ?start .\n",
    "    ?worldcup wdt:P582 ?end .\n",
    "    # Labels\n",
    "    ?worldcup <http://schema.org/name> ?worldcupname \n",
    "    FILTER(?end < \"2022-02-15\"^^xsd:dateTime).\n",
    "} \n",
    "ORDER BY ?start\n",
    "LIMIT 40\n",
    "\"\"\"\n",
    "\n",
    "print(\"Results\")\n",
    "run_query(queryString)"
   ]
  },
  {
   "cell_type": "code",
   "execution_count": 16,
   "id": "683a247c-642e-42dc-9d76-1bd96ade1a66",
   "metadata": {},
   "outputs": [
    {
     "name": "stdout",
     "output_type": "stream",
     "text": [
      "Results\n",
      "[('countworldcup', '21')]\n"
     ]
    },
    {
     "data": {
      "text/plain": [
       "1"
      ]
     },
     "execution_count": 16,
     "metadata": {},
     "output_type": "execute_result"
    }
   ],
   "source": [
    "# The number of world cups until now. \n",
    "queryString = \"\"\"\n",
    "SELECT (COUNT (DISTINCT ?worldcup) AS ?countworldcup)\n",
    "WHERE { \n",
    "    wd:Q19317 wdt:P527 ?worldcup .\n",
    "    ?worldcup wdt:P580 ?start .\n",
    "    ?worldcup wdt:P582 ?end .\n",
    "    # Labels\n",
    "    ?worldcup <http://schema.org/name> ?worldcupname \n",
    "    FILTER(?end < \"2022-02-15\"^^xsd:dateTime).\n",
    "} \n",
    "LIMIT 40\n",
    "\"\"\"\n",
    "\n",
    "print(\"Results\")\n",
    "run_query(queryString)"
   ]
  },
  {
   "cell_type": "code",
   "execution_count": 17,
   "id": "36753b49-fd20-4e97-89f9-d4a0cacf9ba7",
   "metadata": {},
   "outputs": [
    {
     "name": "stdout",
     "output_type": "stream",
     "text": [
      "Results\n",
      "[('p', 'http://www.wikidata.org/prop/direct/P1132'), ('o', '32'), ('pname', 'number of participants')]\n",
      "[('p', 'http://www.wikidata.org/prop/direct/P1346'), ('o', 'http://www.wikidata.org/entity/Q43310'), ('pname', 'winner')]\n",
      "[('p', 'http://www.wikidata.org/prop/direct/P1350'), ('o', '64'), ('pname', 'number of matches played/races/starts')]\n",
      "[('p', 'http://www.wikidata.org/prop/direct/P1424'), ('o', 'http://www.wikidata.org/entity/Q6660743'), ('pname', \"topic's main template\")]\n",
      "[('p', 'http://www.wikidata.org/prop/direct/P17'), ('o', 'http://www.wikidata.org/entity/Q155'), ('pname', 'country')]\n",
      "[('p', 'http://www.wikidata.org/prop/direct/P2013'), ('o', '2014fifaworldcupbrazil'), ('pname', 'Facebook ID')]\n",
      "[('p', 'http://www.wikidata.org/prop/direct/P2094'), ('o', 'http://www.wikidata.org/entity/Q31930761'), ('pname', 'competition class')]\n",
      "[('p', 'http://www.wikidata.org/prop/direct/P214'), ('o', '298900323'), ('pname', 'VIAF ID')]\n",
      "[('p', 'http://www.wikidata.org/prop/direct/P227'), ('o', '1032589817'), ('pname', 'GND ID')]\n",
      "[('p', 'http://www.wikidata.org/prop/direct/P244'), ('o', 'no2014050792'), ('pname', 'Library of Congress authority ID')]\n",
      "[('p', 'http://www.wikidata.org/prop/direct/P2581'), ('o', '03504390n'), ('pname', 'BabelNet ID')]\n",
      "[('p', 'http://www.wikidata.org/prop/direct/P276'), ('o', 'http://www.wikidata.org/entity/Q910370'), ('pname', 'location')]\n",
      "[('p', 'http://www.wikidata.org/prop/direct/P276'), ('o', 'http://www.wikidata.org/entity/Q606803'), ('pname', 'location')]\n",
      "[('p', 'http://www.wikidata.org/prop/direct/P276'), ('o', 'http://www.wikidata.org/entity/Q155174'), ('pname', 'location')]\n",
      "[('p', 'http://www.wikidata.org/prop/direct/P276'), ('o', 'http://www.wikidata.org/entity/Q641448'), ('pname', 'location')]\n",
      "[('p', 'http://www.wikidata.org/prop/direct/P276'), ('o', 'http://www.wikidata.org/entity/Q336088'), ('pname', 'location')]\n",
      "[('p', 'http://www.wikidata.org/prop/direct/P276'), ('o', 'http://www.wikidata.org/entity/Q1362211'), ('pname', 'location')]\n",
      "[('p', 'http://www.wikidata.org/prop/direct/P276'), ('o', 'http://www.wikidata.org/entity/Q6499360'), ('pname', 'location')]\n",
      "[('p', 'http://www.wikidata.org/prop/direct/P276'), ('o', 'http://www.wikidata.org/entity/Q958185'), ('pname', 'location')]\n",
      "[('p', 'http://www.wikidata.org/prop/direct/P276'), ('o', 'http://www.wikidata.org/entity/Q1362236'), ('pname', 'location')]\n",
      "[('p', 'http://www.wikidata.org/prop/direct/P276'), ('o', 'http://www.wikidata.org/entity/Q1343986'), ('pname', 'location')]\n",
      "[('p', 'http://www.wikidata.org/prop/direct/P276'), ('o', 'http://www.wikidata.org/entity/Q641527'), ('pname', 'location')]\n",
      "[('p', 'http://www.wikidata.org/prop/direct/P276'), ('o', 'http://www.wikidata.org/entity/Q1050224'), ('pname', 'location')]\n",
      "[('p', 'http://www.wikidata.org/prop/direct/P31'), ('o', 'http://www.wikidata.org/entity/Q27020041'), ('pname', 'instance of')]\n",
      "[('p', 'http://www.wikidata.org/prop/direct/P3414'), ('o', '1-2656273'), ('pname', 'Yle Areena item ID')]\n",
      "[('p', 'http://www.wikidata.org/prop/direct/P3417'), ('o', '2014-FIFA-World-Cup'), ('pname', 'Quora topic ID')]\n",
      "[('p', 'http://www.wikidata.org/prop/direct/P3450'), ('o', 'http://www.wikidata.org/entity/Q19317'), ('pname', 'sports season of league or competition')]\n",
      "[('p', 'http://www.wikidata.org/prop/direct/P3509'), ('o', 'fotbolls-vm-2014'), ('pname', 'Dagens Nyheter topic ID')]\n",
      "[('p', 'http://www.wikidata.org/prop/direct/P373'), ('o', '2014 FIFA World Cup'), ('pname', 'Commons category')]\n",
      "[('p', 'http://www.wikidata.org/prop/direct/P393'), ('o', '20'), ('pname', 'edition number')]\n",
      "[('p', 'http://www.wikidata.org/prop/direct/P3967'), ('o', 'http://www.wikidata.org/entity/Q15926885'), ('pname', 'final event')]\n",
      "[('p', 'http://www.wikidata.org/prop/direct/P4431'), ('o', 'world-cup-2014-47'), ('pname', 'Google Doodle')]\n",
      "[('p', 'http://www.wikidata.org/prop/direct/P454'), ('o', '10065323'), ('pname', 'Structurae structure ID')]\n",
      "[('p', 'http://www.wikidata.org/prop/direct/P527'), ('o', 'http://www.wikidata.org/entity/Q15267652'), ('pname', 'has part')]\n",
      "[('p', 'http://www.wikidata.org/prop/direct/P527'), ('o', 'http://www.wikidata.org/entity/Q317077'), ('pname', 'has part')]\n",
      "[('p', 'http://www.wikidata.org/prop/direct/P527'), ('o', 'http://www.wikidata.org/entity/Q17172428'), ('pname', 'has part')]\n",
      "[('p', 'http://www.wikidata.org/prop/direct/P580'), ('o', '2014-06-12T00:00:00Z'), ('pname', 'start time')]\n",
      "[('p', 'http://www.wikidata.org/prop/direct/P582'), ('o', '2014-07-13T00:00:00Z'), ('pname', 'end time')]\n",
      "[('p', 'http://www.wikidata.org/prop/direct/P585'), ('o', '2014-01-01T00:00:00Z'), ('pname', 'point in time')]\n",
      "[('p', 'http://www.wikidata.org/prop/direct/P6262'), ('o', 'football:2014_FIFA_World_Cup'), ('pname', 'Fandom article ID')]\n",
      "[('p', 'http://www.wikidata.org/prop/direct/P641'), ('o', 'http://www.wikidata.org/entity/Q2736'), ('pname', 'sport')]\n",
      "[('p', 'http://www.wikidata.org/prop/direct/P646'), ('o', '/m/030791'), ('pname', 'Freebase ID')]\n",
      "[('p', 'http://www.wikidata.org/prop/direct/P664'), ('o', 'http://www.wikidata.org/entity/Q253414'), ('pname', 'organizer')]\n",
      "[('p', 'http://www.wikidata.org/prop/direct/P691'), ('o', 'kn20140716003'), ('pname', 'NKCR AUT ID')]\n",
      "[('p', 'http://www.wikidata.org/prop/direct/P7818'), ('o', 'Coupe_du_monde_de_football_de_2014'), ('pname', 'French Vikidia ID')]\n",
      "[('p', 'http://www.wikidata.org/prop/direct/P7829'), ('o', '2014_FIFA_World_Cup'), ('pname', 'English Vikidia ID')]\n",
      "[('p', 'http://www.wikidata.org/prop/direct/P822'), ('o', 'http://www.wikidata.org/entity/Q605159'), ('pname', 'mascot')]\n",
      "[('p', 'http://www.wikidata.org/prop/direct/P856'), ('o', 'http://www.fifa.com/worldcup/archive/brazil2014/index.html'), ('pname', 'official website')]\n",
      "[('p', 'http://www.wikidata.org/prop/direct/P859'), ('o', 'http://www.wikidata.org/entity/Q3895'), ('pname', 'sponsor')]\n",
      "[('p', 'http://www.wikidata.org/prop/direct/P910'), ('o', 'http://www.wikidata.org/entity/Q8204091'), ('pname', \"topic's main category\")]\n",
      "[('p', 'http://www.wikidata.org/prop/direct/P9100'), ('o', 'brazil2014'), ('pname', 'GitHub topic')]\n",
      "[('p', 'http://www.wikidata.org/prop/direct/P948'), ('o', 'http://commons.wikimedia.org/wiki/Special:FilePath/Banner%20soccer.jpg'), ('pname', 'page banner')]\n",
      "[('p', 'http://www.wikidata.org/prop/direct/P1110'), ('o', '3429873'), ('pname', 'attendance')]\n",
      "[('p', 'http://www.wikidata.org/prop/direct/P1351'), ('o', '171'), ('pname', 'number of points/goals/set scored')]\n",
      "[('p', 'http://www.wikidata.org/prop/direct/P1923'), ('o', 'http://www.wikidata.org/entity/Q676899'), ('pname', 'participating team')]\n",
      "[('p', 'http://www.wikidata.org/prop/direct/P1923'), ('o', 'http://www.wikidata.org/entity/Q212564'), ('pname', 'participating team')]\n",
      "[('p', 'http://www.wikidata.org/prop/direct/P1923'), ('o', 'http://www.wikidata.org/entity/Q268208'), ('pname', 'participating team')]\n",
      "[('p', 'http://www.wikidata.org/prop/direct/P1923'), ('o', 'http://www.wikidata.org/entity/Q134916'), ('pname', 'participating team')]\n",
      "[('p', 'http://www.wikidata.org/prop/direct/P1923'), ('o', 'http://www.wikidata.org/entity/Q181190'), ('pname', 'participating team')]\n",
      "[('p', 'http://www.wikidata.org/prop/direct/P1923'), ('o', 'http://www.wikidata.org/entity/Q175145'), ('pname', 'participating team')]\n"
     ]
    },
    {
     "data": {
      "text/plain": [
       "60"
      ]
     },
     "execution_count": 17,
     "metadata": {},
     "output_type": "execute_result"
    }
   ],
   "source": [
    "#[('p', 'http://www.wikidata.org/prop/direct/P527'), ('pname', 'has part'),\n",
    "#('o', 'http://www.wikidata.org/entity/Q79859'), ('oname', '2014 FIFA World Cup')]\n",
    "queryString = \"\"\"\n",
    "SELECT *\n",
    "WHERE { \n",
    "\n",
    "    wd:Q79859 ?p ?o .\n",
    "    # Labels\n",
    "    ?p <http://schema.org/name> ?pname .\n",
    "    #?o <http://schema.org/name> ?oname .\n",
    "    #FILTER regex(?pname, \"episode\", \"i\") \n",
    "} \n",
    "LIMIT 60\n",
    "\"\"\"\n",
    "\n",
    "print(\"Results\")\n",
    "run_query(queryString)"
   ]
  },
  {
   "cell_type": "code",
   "execution_count": 18,
   "id": "174fe403-431b-409c-908a-644c926dda91",
   "metadata": {},
   "outputs": [
    {
     "name": "stdout",
     "output_type": "stream",
     "text": [
      "Results\n",
      "[('p', 'http://www.wikidata.org/prop/direct/P1350'), ('o', '64'), ('pname', 'number of matches played/races/starts')]\n"
     ]
    },
    {
     "data": {
      "text/plain": [
       "1"
      ]
     },
     "execution_count": 18,
     "metadata": {},
     "output_type": "execute_result"
    }
   ],
   "source": [
    "#[('p', 'http://www.wikidata.org/prop/direct/P527'), ('pname', 'has part'),\n",
    "#('o', 'http://www.wikidata.org/entity/Q79859'), ('oname', '2014 FIFA World Cup')]\n",
    "queryString = \"\"\"\n",
    "SELECT *\n",
    "WHERE { \n",
    "\n",
    "    wd:Q79859 ?p ?o .\n",
    "    \n",
    "    # Labels\n",
    "    ?p <http://schema.org/name> ?pname .\n",
    "    #?o <http://schema.org/name> ?oname .\n",
    "    FILTER regex(?pname, \"match\", \"i\")  .\n",
    "   # FILTER regex(?pname, \"participating\", \"i\") .\n",
    "   # FILTER regex(?pname, \"participants\", \"i\") .\n",
    "   # FILTER regex(?pname, \"winner\", \"i\") .\n",
    "   # FILTER regex(?pname, \"goal\", \"i\") .\n",
    "} \n",
    "LIMIT 60\n",
    "\"\"\"\n",
    "\n",
    "print(\"Results\")\n",
    "run_query(queryString)\n",
    "\n",
    "## winner P1346\n",
    "## participating team P1923\n",
    "## number of goals P1351\n",
    "## ('o', '32'), ('pname', 'number of participants')]"
   ]
  },
  {
   "cell_type": "code",
   "execution_count": 19,
   "id": "847a03d8-5039-4f6d-a87a-e06c44bd9369",
   "metadata": {},
   "outputs": [
    {
     "name": "stdout",
     "output_type": "stream",
     "text": [
      "Results\n",
      "[('p', 'http://www.wikidata.org/prop/direct/P1923'), ('o', 'http://www.wikidata.org/entity/Q676899'), ('pname', 'participating team')]\n",
      "[('p', 'http://www.wikidata.org/prop/direct/P1923'), ('o', 'http://www.wikidata.org/entity/Q212564'), ('pname', 'participating team')]\n",
      "[('p', 'http://www.wikidata.org/prop/direct/P1923'), ('o', 'http://www.wikidata.org/entity/Q268208'), ('pname', 'participating team')]\n",
      "[('p', 'http://www.wikidata.org/prop/direct/P1923'), ('o', 'http://www.wikidata.org/entity/Q134916'), ('pname', 'participating team')]\n",
      "[('p', 'http://www.wikidata.org/prop/direct/P1923'), ('o', 'http://www.wikidata.org/entity/Q181190'), ('pname', 'participating team')]\n",
      "[('p', 'http://www.wikidata.org/prop/direct/P1923'), ('o', 'http://www.wikidata.org/entity/Q175145'), ('pname', 'participating team')]\n",
      "[('p', 'http://www.wikidata.org/prop/direct/P1923'), ('o', 'http://www.wikidata.org/entity/Q180187'), ('pname', 'participating team')]\n",
      "[('p', 'http://www.wikidata.org/prop/direct/P1923'), ('o', 'http://www.wikidata.org/entity/Q194387'), ('pname', 'participating team')]\n",
      "[('p', 'http://www.wikidata.org/prop/direct/P1923'), ('o', 'http://www.wikidata.org/entity/Q47050'), ('pname', 'participating team')]\n",
      "[('p', 'http://www.wikidata.org/prop/direct/P1923'), ('o', 'http://www.wikidata.org/entity/Q47762'), ('pname', 'participating team')]\n"
     ]
    },
    {
     "data": {
      "text/plain": [
       "10"
      ]
     },
     "execution_count": 19,
     "metadata": {},
     "output_type": "execute_result"
    }
   ],
   "source": [
    "#[('p', 'http://www.wikidata.org/prop/direct/P527'), ('pname', 'has part'),\n",
    "#('o', 'http://www.wikidata.org/entity/Q79859'), ('oname', '2014 FIFA World Cup')]\n",
    "queryString = \"\"\"\n",
    "SELECT *\n",
    "WHERE { \n",
    "\n",
    "    wd:Q79859 ?p ?o .\n",
    "   # wd:Q79859 wdt:P1350 ?matches .\n",
    "    # Labels\n",
    "    ?p <http://schema.org/name> ?pname .\n",
    "    #?o <http://schema.org/name> ?oname .\n",
    "    FILTER regex(?pname, \"participating\", \"i\") .\n",
    "   # FILTER regex(?pname, \"participants\", \"i\") .\n",
    "   # FILTER regex(?pname, \"winner\", \"i\") .\n",
    "   # FILTER regex(?pname, \"goal\", \"i\") .\n",
    "   # FILTER regex(?pname, \"final\", \"i\") .\n",
    "} \n",
    "LIMIT 10\n",
    "\"\"\"\n",
    "\n",
    "print(\"Results\")\n",
    "run_query(queryString)\n",
    "\n",
    "## winner P1346\n",
    "## participating team P1923\n",
    "## number of goals P1351\n",
    "## P1132 ('o', '32'), ('pname', 'number of participants')]\n",
    "# P3967 final event"
   ]
  },
  {
   "cell_type": "code",
   "execution_count": 20,
   "id": "d803edcb-7cce-4404-9a28-27971821bc63",
   "metadata": {},
   "outputs": [
    {
     "name": "stdout",
     "output_type": "stream",
     "text": [
      "Results\n",
      "[('finalteams', 'http://www.wikidata.org/entity/Q79800')]\n",
      "[('finalteams', 'http://www.wikidata.org/entity/Q43310')]\n"
     ]
    },
    {
     "data": {
      "text/plain": [
       "2"
      ]
     },
     "execution_count": 20,
     "metadata": {},
     "output_type": "execute_result"
    }
   ],
   "source": [
    "#[('p', 'http://www.wikidata.org/prop/direct/P527'), ('pname', 'has part'),\n",
    "#('o', 'http://www.wikidata.org/entity/Q79859'), ('oname', '2014 FIFA World Cup')]\n",
    "queryString = \"\"\"\n",
    "SELECT ?finalteams\n",
    "WHERE { \n",
    "     wd:Q79859 wdt:P3967 ?final .\n",
    "     ?final wdt:P1923 ?finalteams .\n",
    "    # Labels\n",
    "   # ?p <http://schema.org/name> ?pname .\n",
    "    #?o <http://schema.org/name> ?oname .\n",
    "    # ?final <http://schema.org/name> ?finalname .\n",
    "\n",
    "} \n",
    "LIMIT 30\n",
    "\"\"\"\n",
    "\n",
    "print(\"Results\")\n",
    "run_query(queryString)\n",
    "\n",
    "## winner P1346\n",
    "## participating team P1923\n",
    "## number of goals P1351\n",
    "## P1132 ('o', '32'), ('pname', 'number of participants')]\n",
    "# P3967 final event"
   ]
  },
  {
   "cell_type": "code",
   "execution_count": 21,
   "id": "b74be649-01f4-4e83-8a0a-fa01bf0909a2",
   "metadata": {},
   "outputs": [
    {
     "name": "stdout",
     "output_type": "stream",
     "text": [
      "Results\n",
      "[('final', 'http://www.wikidata.org/entity/Q15926885'), ('p', 'http://www.w3.org/1999/02/22-rdf-syntax-ns#type'), ('o', 'http://wikiba.se/ontology#Item')]\n",
      "[('final', 'http://www.wikidata.org/entity/Q15926885'), ('p', 'http://www.wikidata.org/prop/direct/P7494'), ('o', '1220140')]\n",
      "[('final', 'http://www.wikidata.org/entity/Q15926885'), ('p', 'http://www.wikidata.org/prop/direct/P1363'), ('o', 'http://www.wikidata.org/entity/Q104454')]\n",
      "[('final', 'http://www.wikidata.org/entity/Q15926885'), ('p', 'http://www.wikidata.org/prop/direct/P1652'), ('o', 'http://www.wikidata.org/entity/Q315234')]\n",
      "[('final', 'http://www.wikidata.org/entity/Q15926885'), ('p', 'http://www.wikidata.org/prop/direct/P7492'), ('o', '1635')]\n",
      "[('final', 'http://www.wikidata.org/entity/Q15926885'), ('p', 'http://www.wikidata.org/prop/direct-normalized/P646'), ('o', 'http://g.co/kg/m/0_r_3tc')]\n",
      "[('final', 'http://www.wikidata.org/entity/Q15926885'), ('p', 'http://www.wikidata.org/prop/direct/P1346'), ('o', 'http://www.wikidata.org/entity/Q43310')]\n",
      "[('final', 'http://www.wikidata.org/entity/Q15926885'), ('p', 'http://www.wikidata.org/prop/direct/P155'), ('o', 'http://www.wikidata.org/entity/Q208401')]\n",
      "[('final', 'http://www.wikidata.org/entity/Q15926885'), ('p', 'http://www.wikidata.org/prop/direct/P156'), ('o', 'http://www.wikidata.org/entity/Q31043671')]\n",
      "[('final', 'http://www.wikidata.org/entity/Q15926885'), ('p', 'http://www.wikidata.org/prop/direct/P17'), ('o', 'http://www.wikidata.org/entity/Q155')]\n",
      "[('final', 'http://www.wikidata.org/entity/Q15926885'), ('p', 'http://www.wikidata.org/prop/direct/P18'), ('o', 'http://commons.wikimedia.org/wiki/Special:FilePath/Germany%20and%20Argentina%20face%20off%20in%20the%20final%20of%20the%20World%20Cup%202014%20-2014-07-13%20%2845%29.jpg')]\n",
      "[('final', 'http://www.wikidata.org/entity/Q15926885'), ('p', 'http://www.wikidata.org/prop/direct/P276'), ('o', 'http://www.wikidata.org/entity/Q155174')]\n",
      "[('final', 'http://www.wikidata.org/entity/Q15926885'), ('p', 'http://www.wikidata.org/prop/direct/P31'), ('o', 'http://www.wikidata.org/entity/Q12708896')]\n",
      "[('final', 'http://www.wikidata.org/entity/Q15926885'), ('p', 'http://www.wikidata.org/prop/direct/P361'), ('o', 'http://www.wikidata.org/entity/Q79859')]\n",
      "[('final', 'http://www.wikidata.org/entity/Q15926885'), ('p', 'http://www.wikidata.org/prop/direct/P373'), ('o', 'Final of the 2014 FIFA World Cup')]\n",
      "[('final', 'http://www.wikidata.org/entity/Q15926885'), ('p', 'http://www.wikidata.org/prop/direct/P585'), ('o', '2014-07-13T00:00:00Z')]\n",
      "[('final', 'http://www.wikidata.org/entity/Q15926885'), ('p', 'http://www.wikidata.org/prop/direct/P641'), ('o', 'http://www.wikidata.org/entity/Q2736')]\n",
      "[('final', 'http://www.wikidata.org/entity/Q15926885'), ('p', 'http://www.wikidata.org/prop/direct/P646'), ('o', '/m/0_r_3tc')]\n",
      "[('final', 'http://www.wikidata.org/entity/Q15926885'), ('p', 'http://www.wikidata.org/prop/direct/P664'), ('o', 'http://www.wikidata.org/entity/Q253414')]\n",
      "[('final', 'http://www.wikidata.org/entity/Q15926885'), ('p', 'http://www.wikidata.org/prop/direct/P793'), ('o', 'http://www.wikidata.org/entity/Q1048067')]\n",
      "[('final', 'http://www.wikidata.org/entity/Q15926885'), ('p', 'http://schema.org/name'), ('o', '2014 FIFA World Cup Final')]\n",
      "[('final', 'http://www.wikidata.org/entity/Q15926885'), ('p', 'http://www.wikidata.org/prop/direct/P1110'), ('o', '74738')]\n",
      "[('final', 'http://www.wikidata.org/entity/Q15926885'), ('p', 'http://www.wikidata.org/prop/direct/P1923'), ('o', 'http://www.wikidata.org/entity/Q79800')]\n",
      "[('final', 'http://www.wikidata.org/entity/Q15926885'), ('p', 'http://www.wikidata.org/prop/direct/P1923'), ('o', 'http://www.wikidata.org/entity/Q43310')]\n"
     ]
    },
    {
     "data": {
      "text/plain": [
       "24"
      ]
     },
     "execution_count": 21,
     "metadata": {},
     "output_type": "execute_result"
    }
   ],
   "source": [
    "# goals and the name of the player who scored in final games. \n",
    "queryString = \"\"\"\n",
    "SELECT *\n",
    "WHERE { \n",
    "     wd:Q79859 wdt:P3967 ?final .\n",
    "     #?final wdt:P1923 ?finalteams .\n",
    "     # ?final wdt:P1363 ?scoredby .\n",
    "     ?final ?p ?o .\n",
    "    # Labels\n",
    "   #?p <http://schema.org/name> ?pname .\n",
    "    #?o <http://schema.org/name> ?oname .\n",
    "    # ?final <http://schema.org/name> ?finalname .\n",
    "\n",
    "} \n",
    "LIMIT 30\n",
    "\"\"\"\n",
    "\n",
    "print(\"Results\")\n",
    "run_query(queryString)\n",
    "\n",
    "## winner P1346\n",
    "## participating team P1923\n",
    "## number of goals P1351\n",
    "## P1132 ('o', '32'), ('pname', 'number of participants')]\n",
    "# P3967 final event\n",
    "## goal scored by: Q104454"
   ]
  },
  {
   "cell_type": "code",
   "execution_count": 22,
   "id": "0d9bff57-4c18-4965-84bd-ba52562b1c8a",
   "metadata": {},
   "outputs": [
    {
     "name": "stdout",
     "output_type": "stream",
     "text": [
      "Results\n",
      "[('scoredby', 'http://www.wikidata.org/entity/Q104454')]\n"
     ]
    },
    {
     "data": {
      "text/plain": [
       "1"
      ]
     },
     "execution_count": 22,
     "metadata": {},
     "output_type": "execute_result"
    }
   ],
   "source": [
    "# goals and the name of the player who scored in final games. \n",
    "queryString = \"\"\"\n",
    "SELECT ?finalteams ?scoredby\n",
    "WHERE { \n",
    "     wd:Q79859 wdt:P3967 ?final .\n",
    "     #?final wdt:P1923 ?finalteams .\n",
    "     ?final wdt:P1363 ?scoredby .\n",
    "     #?final ?p ?o .\n",
    "    # Labels\n",
    "   #?p <http://schema.org/name> ?pname .\n",
    "    #?o <http://schema.org/name> ?oname .\n",
    "    # ?final <http://schema.org/name> ?finalname .\n",
    "\n",
    "} \n",
    "LIMIT 30\n",
    "\"\"\"\n",
    "\n",
    "print(\"Results\")\n",
    "run_query(queryString)\n",
    "\n",
    "## winner P1346\n",
    "## participating team P1923\n",
    "## number of goals P1351\n",
    "## P1132 ('o', '32'), ('pname', 'number of participants')]\n",
    "# P3967 final event\n",
    "## goal scored by: Q104454"
   ]
  },
  {
   "cell_type": "code",
   "execution_count": 23,
   "id": "df9ec435-305a-4d45-949a-fba41a20d32c",
   "metadata": {},
   "outputs": [
    {
     "name": "stdout",
     "output_type": "stream",
     "text": [
      "Results\n",
      "[('final', 'http://www.wikidata.org/entity/Q15926885'), ('scoredby', 'http://www.wikidata.org/entity/Q104454'), ('p', 'http://www.wikidata.org/prop/direct/P106'), ('o', 'http://www.wikidata.org/entity/Q937857'), ('pname', 'occupation'), ('oname', 'association football player')]\n",
      "[('final', 'http://www.wikidata.org/entity/Q15926885'), ('scoredby', 'http://www.wikidata.org/entity/Q104454'), ('p', 'http://www.wikidata.org/prop/direct/P118'), ('o', 'http://www.wikidata.org/entity/Q82595'), ('pname', 'league'), ('oname', 'Bundesliga')]\n",
      "[('final', 'http://www.wikidata.org/entity/Q15926885'), ('scoredby', 'http://www.wikidata.org/entity/Q104454'), ('p', 'http://www.wikidata.org/prop/direct/P1344'), ('o', 'http://www.wikidata.org/entity/Q22669'), ('pname', 'participant in'), ('oname', 'UEFA Euro 2012')]\n",
      "[('final', 'http://www.wikidata.org/entity/Q15926885'), ('scoredby', 'http://www.wikidata.org/entity/Q104454'), ('p', 'http://www.wikidata.org/prop/direct/P1344'), ('o', 'http://www.wikidata.org/entity/Q189571'), ('pname', 'participant in'), ('oname', 'UEFA Euro 2016')]\n",
      "[('final', 'http://www.wikidata.org/entity/Q15926885'), ('scoredby', 'http://www.wikidata.org/entity/Q104454'), ('p', 'http://www.wikidata.org/prop/direct/P1344'), ('o', 'http://www.wikidata.org/entity/Q79859'), ('pname', 'participant in'), ('oname', '2014 FIFA World Cup')]\n",
      "[('final', 'http://www.wikidata.org/entity/Q15926885'), ('scoredby', 'http://www.wikidata.org/entity/Q104454'), ('p', 'http://www.wikidata.org/prop/direct/P140'), ('o', 'http://www.wikidata.org/entity/Q5043'), ('pname', 'religion'), ('oname', 'Christianity')]\n",
      "[('final', 'http://www.wikidata.org/entity/Q15926885'), ('scoredby', 'http://www.wikidata.org/entity/Q104454'), ('p', 'http://www.wikidata.org/prop/direct/P1412'), ('o', 'http://www.wikidata.org/entity/Q188'), ('pname', 'languages spoken, written or signed'), ('oname', 'German')]\n",
      "[('final', 'http://www.wikidata.org/entity/Q15926885'), ('scoredby', 'http://www.wikidata.org/entity/Q104454'), ('p', 'http://www.wikidata.org/prop/direct/P1532'), ('o', 'http://www.wikidata.org/entity/Q183'), ('pname', 'country for sport'), ('oname', 'Germany')]\n",
      "[('final', 'http://www.wikidata.org/entity/Q15926885'), ('scoredby', 'http://www.wikidata.org/entity/Q104454'), ('p', 'http://www.wikidata.org/prop/direct/P166'), ('o', 'http://www.wikidata.org/entity/Q1588911'), ('pname', 'award received'), ('oname', 'Golden Boy')]\n",
      "[('final', 'http://www.wikidata.org/entity/Q15926885'), ('scoredby', 'http://www.wikidata.org/entity/Q104454'), ('p', 'http://www.wikidata.org/prop/direct/P166'), ('o', 'http://www.wikidata.org/entity/Q318770'), ('pname', 'award received'), ('oname', 'Order of Merit of North Rhine-Westphalia')]\n"
     ]
    },
    {
     "data": {
      "text/plain": [
       "10"
      ]
     },
     "execution_count": 23,
     "metadata": {},
     "output_type": "execute_result"
    }
   ],
   "source": [
    "# goals and the name of the player who scored in final games. \n",
    "queryString = \"\"\"\n",
    "SELECT *\n",
    "WHERE { \n",
    "     wd:Q79859 wdt:P3967 ?final .\n",
    "     #?final wdt:P1923 ?finalteams .\n",
    "     ?final wdt:P1363 ?scoredby .\n",
    "     ?scoredby ?p ?o .\n",
    "    # Labels\n",
    "     ?p <http://schema.org/name> ?pname .\n",
    "     ?o <http://schema.org/name> ?oname .\n",
    "    # ?final <http://schema.org/name> ?finalname .\n",
    "\n",
    "} \n",
    "LIMIT 10\n",
    "\"\"\"\n",
    "\n",
    "print(\"Results\")\n",
    "run_query(queryString)\n",
    "\n",
    "## winner P1346\n",
    "## participating team P1923\n",
    "## number of goals P1351\n",
    "## P1132 ('o', '32'), ('pname', 'number of participants')]\n",
    "# P3967 final event\n",
    "## goal scored by: Q104454"
   ]
  },
  {
   "cell_type": "code",
   "execution_count": 24,
   "id": "1820b699-7013-4693-a1c0-80ececaed84b",
   "metadata": {},
   "outputs": [
    {
     "name": "stdout",
     "output_type": "stream",
     "text": [
      "Results\n",
      "[('teams', 'http://www.wikidata.org/entity/Q676899'), ('teamsname', 'Italy national association football team')]\n",
      "[('teams', 'http://www.wikidata.org/entity/Q212564'), ('teamsname', 'Colombia national football team')]\n",
      "[('teams', 'http://www.wikidata.org/entity/Q268208'), ('teamsname', 'Australia national association football team')]\n",
      "[('teams', 'http://www.wikidata.org/entity/Q134916'), ('teamsname', 'Uruguay national football team')]\n",
      "[('teams', 'http://www.wikidata.org/entity/Q181190'), ('teamsname', 'Bosnia and Herzegovina national football team')]\n",
      "[('teams', 'http://www.wikidata.org/entity/Q175145'), ('teamsname', 'Ivory Coast national football team')]\n",
      "[('teams', 'http://www.wikidata.org/entity/Q180187'), ('teamsname', 'Honduras national football team')]\n",
      "[('teams', 'http://www.wikidata.org/entity/Q194387'), ('teamsname', 'Costa Rica national football team')]\n",
      "[('teams', 'http://www.wikidata.org/entity/Q47050'), ('teamsname', 'Netherlands national association football team')]\n",
      "[('teams', 'http://www.wikidata.org/entity/Q47762'), ('teamsname', 'England national association football team')]\n",
      "[('teams', 'http://www.wikidata.org/entity/Q47774'), ('teamsname', 'France national association football team')]\n",
      "[('teams', 'http://www.wikidata.org/entity/Q42267'), ('teamsname', 'Spain national association football team')]\n",
      "[('teams', 'http://www.wikidata.org/entity/Q79800'), ('teamsname', 'Argentina national football team')]\n",
      "[('teams', 'http://www.wikidata.org/entity/Q83459'), ('teamsname', 'Brazil national football team')]\n",
      "[('teams', 'http://www.wikidata.org/entity/Q166776'), ('teamsname', 'Belgium national football team')]\n",
      "[('teams', 'http://www.wikidata.org/entity/Q181903'), ('teamsname', 'Algeria national football team')]\n",
      "[('teams', 'http://www.wikidata.org/entity/Q181930'), ('teamsname', 'Nigeria national football team')]\n",
      "[('teams', 'http://www.wikidata.org/entity/Q267245'), ('teamsname', 'Portugal national association football team')]\n",
      "[('teams', 'http://www.wikidata.org/entity/Q43310'), ('teamsname', 'Germany national association football team')]\n",
      "[('teams', 'http://www.wikidata.org/entity/Q134479'), ('teamsname', 'Croatia national association football team')]\n",
      "[('teams', 'http://www.wikidata.org/entity/Q164089'), ('teamsname', 'Mexico national football team')]\n",
      "[('teams', 'http://www.wikidata.org/entity/Q134925'), ('teamsname', 'Greece national association football team')]\n",
      "[('teams', 'http://www.wikidata.org/entity/Q164134'), ('teamsname', \"United States men's national soccer team\")]\n",
      "[('teams', 'http://www.wikidata.org/entity/Q165141'), ('teamsname', 'Swiss national football team')]\n",
      "[('teams', 'http://www.wikidata.org/entity/Q175309'), ('teamsname', 'Cameroon national football team')]\n",
      "[('teams', 'http://www.wikidata.org/entity/Q543842'), ('teamsname', 'South Korea national football team')]\n",
      "[('teams', 'http://www.wikidata.org/entity/Q726080'), ('teamsname', 'Russia national association football team')]\n",
      "[('teams', 'http://www.wikidata.org/entity/Q170566'), ('teamsname', 'Japan national football team')]\n",
      "[('teams', 'http://www.wikidata.org/entity/Q172014'), ('teamsname', 'Ghana national football team')]\n",
      "[('teams', 'http://www.wikidata.org/entity/Q172025'), ('teamsname', 'Chile national football team')]\n",
      "[('teams', 'http://www.wikidata.org/entity/Q184602'), ('teamsname', 'Iran national football team')]\n",
      "[('teams', 'http://www.wikidata.org/entity/Q987584'), ('teamsname', 'Ecuador national football team')]\n"
     ]
    },
    {
     "data": {
      "text/plain": [
       "32"
      ]
     },
     "execution_count": 24,
     "metadata": {},
     "output_type": "execute_result"
    }
   ],
   "source": [
    "# the list of all teams in world cup 2014 brazil \n",
    "queryString = \"\"\"\n",
    "SELECT DISTINCT ?teams ?teamsname\n",
    "WHERE { \n",
    "\n",
    "    # wd:Q79859 ?p ?o .\n",
    "    # wd:Q79859 wdt:P1350 ?matches .\n",
    "    wd:Q79859 wdt:P1923 ?teams . \n",
    "    # Labels\n",
    "    #?p <http://schema.org/name> ?pname .\n",
    "    ?teams <http://schema.org/name> ?teamsname .\n",
    "    #?o <http://schema.org/name> ?oname .\n",
    "   \n",
    "   # FILTER regex(?pname, \"participants\", \"i\") .\n",
    "   # FILTER regex(?pname, \"winner\", \"i\") .\n",
    "   # FILTER regex(?pname, \"goal\", \"i\") .\n",
    "   # FILTER regex(?pname, \"final\", \"i\") .\n",
    "} \n",
    "LIMIT 60\n",
    "\"\"\"\n",
    "\n",
    "print(\"Results\")\n",
    "run_query(queryString)"
   ]
  },
  {
   "cell_type": "code",
   "execution_count": 25,
   "id": "d02a5041-84de-43d5-b07a-f361821d6dad",
   "metadata": {},
   "outputs": [
    {
     "name": "stdout",
     "output_type": "stream",
     "text": [
      "Results\n",
      "[('matches', '64'), ('winner', 'http://www.wikidata.org/entity/Q43310'), ('numgoal', '171'), ('numparticipants', '32'), ('winnername', 'Germany national association football team')]\n"
     ]
    },
    {
     "data": {
      "text/plain": [
       "1"
      ]
     },
     "execution_count": 25,
     "metadata": {},
     "output_type": "execute_result"
    }
   ],
   "source": [
    "# number of participants of world cup 2014, its winner, the number of matches, goals and the name of all teams\n",
    "queryString = \"\"\"\n",
    "SELECT *\n",
    "WHERE { \n",
    "    wd:Q79859 wdt:P1350 ?matches .\n",
    "    #wd:Q79859 wdt:P1923 ?teams . \n",
    "    wd:Q79859 wdt:P1346 ?winner . \n",
    "    wd:Q79859 wdt:P1351 ?numgoal . \n",
    "    wd:Q79859 wdt:P1132 ?numparticipants .\n",
    "    # Labels\n",
    "    #?teams <http://schema.org/name> ?teamsname .\n",
    "    ?winner <http://schema.org/name> ?winnername .\n",
    "} \n",
    "LIMIT 5\n",
    "\"\"\"\n",
    "\n",
    "print(\"Results\")\n",
    "run_query(queryString)\n"
   ]
  },
  {
   "cell_type": "markdown",
   "id": "dc863d10-4f8c-49ac-8136-a52aef1fa1e5",
   "metadata": {},
   "source": [
    "## List of finals"
   ]
  },
  {
   "cell_type": "code",
   "execution_count": 26,
   "id": "a8aac78c-e57a-4342-a915-8367ff671178",
   "metadata": {},
   "outputs": [
    {
     "name": "stdout",
     "output_type": "stream",
     "text": [
      "Results\n",
      "[('worldcupname', '1930 FIFA World Cup'), ('start', '1930-07-13T00:00:00Z'), ('end', '1930-07-30T00:00:00Z')]\n",
      "[('worldcupname', '1930 FIFA World Cup'), ('start', '1930-07-13T00:00:00Z'), ('end', '1930-07-30T00:00:00Z')]\n",
      "[('worldcupname', '1934 FIFA World Cup'), ('start', '1934-05-27T00:00:00Z'), ('end', '1934-06-10T00:00:00Z')]\n",
      "[('worldcupname', '1934 FIFA World Cup'), ('start', '1934-05-27T00:00:00Z'), ('end', '1934-06-10T00:00:00Z')]\n",
      "[('worldcupname', '1938 FIFA World Cup'), ('start', '1938-06-04T00:00:00Z'), ('end', '1938-06-19T00:00:00Z')]\n",
      "[('worldcupname', '1938 FIFA World Cup'), ('start', '1938-06-04T00:00:00Z'), ('end', '1938-06-19T00:00:00Z')]\n",
      "[('worldcupname', '1950 FIFA World Cup'), ('start', '1950-06-24T00:00:00Z'), ('end', '1950-07-16T00:00:00Z')]\n",
      "[('worldcupname', '1950 FIFA World Cup'), ('start', '1950-06-24T00:00:00Z'), ('end', '1950-07-16T00:00:00Z')]\n",
      "[('worldcupname', '1954 FIFA World Cup'), ('start', '1954-06-16T00:00:00Z'), ('end', '1954-07-04T00:00:00Z')]\n",
      "[('worldcupname', '1954 FIFA World Cup'), ('start', '1954-06-16T00:00:00Z'), ('end', '1954-07-04T00:00:00Z')]\n",
      "[('worldcupname', '1958 FIFA World Cup'), ('start', '1958-06-06T00:00:00Z'), ('end', '1958-06-29T00:00:00Z')]\n",
      "[('worldcupname', '1958 FIFA World Cup'), ('start', '1958-06-06T00:00:00Z'), ('end', '1958-06-29T00:00:00Z')]\n",
      "[('worldcupname', '1962 FIFA World Cup'), ('start', '1962-05-30T00:00:00Z'), ('end', '1962-06-17T00:00:00Z')]\n",
      "[('worldcupname', '1962 FIFA World Cup'), ('start', '1962-05-30T00:00:00Z'), ('end', '1962-06-17T00:00:00Z')]\n",
      "[('worldcupname', '1966 FIFA World Cup'), ('start', '1966-07-11T00:00:00Z'), ('end', '1966-07-30T00:00:00Z')]\n",
      "[('worldcupname', '1966 FIFA World Cup'), ('start', '1966-07-11T00:00:00Z'), ('end', '1966-07-30T00:00:00Z')]\n",
      "[('worldcupname', '1970 FIFA World Cup'), ('start', '1970-05-31T00:00:00Z'), ('end', '1970-06-21T00:00:00Z')]\n",
      "[('worldcupname', '1970 FIFA World Cup'), ('start', '1970-05-31T00:00:00Z'), ('end', '1970-06-21T00:00:00Z')]\n",
      "[('worldcupname', '1974 FIFA World Cup'), ('start', '1974-06-13T00:00:00Z'), ('end', '1974-07-07T00:00:00Z')]\n",
      "[('worldcupname', '1974 FIFA World Cup'), ('start', '1974-06-13T00:00:00Z'), ('end', '1974-07-07T00:00:00Z')]\n",
      "[('worldcupname', '1978 FIFA World Cup'), ('start', '1978-06-01T00:00:00Z'), ('end', '1978-06-25T00:00:00Z')]\n",
      "[('worldcupname', '1978 FIFA World Cup'), ('start', '1978-06-01T00:00:00Z'), ('end', '1978-06-25T00:00:00Z')]\n",
      "[('worldcupname', '1982 FIFA World Cup'), ('start', '1982-06-13T00:00:00Z'), ('end', '1982-07-11T00:00:00Z')]\n",
      "[('worldcupname', '1982 FIFA World Cup'), ('start', '1982-06-13T00:00:00Z'), ('end', '1982-07-11T00:00:00Z')]\n",
      "[('worldcupname', '1986 FIFA World Cup'), ('start', '1986-05-31T00:00:00Z'), ('end', '1986-06-29T00:00:00Z')]\n",
      "[('worldcupname', '1986 FIFA World Cup'), ('start', '1986-05-31T00:00:00Z'), ('end', '1986-06-29T00:00:00Z')]\n",
      "[('worldcupname', '1990 FIFA World Cup'), ('start', '1990-06-08T00:00:00Z'), ('end', '1990-07-08T00:00:00Z')]\n",
      "[('worldcupname', '1990 FIFA World Cup'), ('start', '1990-06-08T00:00:00Z'), ('end', '1990-07-08T00:00:00Z')]\n",
      "[('worldcupname', '1994 FIFA World Cup'), ('start', '1994-06-17T00:00:00Z'), ('end', '1994-07-17T00:00:00Z')]\n",
      "[('worldcupname', '1994 FIFA World Cup'), ('start', '1994-06-17T00:00:00Z'), ('end', '1994-07-17T00:00:00Z')]\n",
      "[('worldcupname', '1998 FIFA World Cup'), ('start', '1998-06-10T00:00:00Z'), ('end', '1998-07-12T00:00:00Z')]\n",
      "[('worldcupname', '1998 FIFA World Cup'), ('start', '1998-06-10T00:00:00Z'), ('end', '1998-07-12T00:00:00Z')]\n",
      "[('worldcupname', '2002 FIFA World Cup'), ('start', '2002-05-30T00:00:00Z'), ('end', '2002-06-29T00:00:00Z')]\n",
      "[('worldcupname', '2002 FIFA World Cup'), ('start', '2002-05-30T00:00:00Z'), ('end', '2002-06-29T00:00:00Z')]\n",
      "[('worldcupname', '2006 FIFA World Cup'), ('start', '2006-06-09T00:00:00Z'), ('end', '2006-07-09T00:00:00Z')]\n",
      "[('worldcupname', '2006 FIFA World Cup'), ('start', '2006-06-09T00:00:00Z'), ('end', '2006-07-09T00:00:00Z')]\n",
      "[('worldcupname', '2010 FIFA World Cup'), ('start', '2010-06-11T00:00:00Z'), ('end', '2010-07-11T00:00:00Z')]\n",
      "[('worldcupname', '2010 FIFA World Cup'), ('start', '2010-06-11T00:00:00Z'), ('end', '2010-07-11T00:00:00Z')]\n",
      "[('worldcupname', '2014 FIFA World Cup'), ('start', '2014-06-12T00:00:00Z'), ('end', '2014-07-13T00:00:00Z')]\n",
      "[('worldcupname', '2014 FIFA World Cup'), ('start', '2014-06-12T00:00:00Z'), ('end', '2014-07-13T00:00:00Z')]\n"
     ]
    },
    {
     "data": {
      "text/plain": [
       "40"
      ]
     },
     "execution_count": 26,
     "metadata": {},
     "output_type": "execute_result"
    }
   ],
   "source": [
    "# The list of world cups until now. \n",
    "queryString = \"\"\"\n",
    "SELECT ?worldcupname ?start ?end\n",
    "WHERE { \n",
    "    wd:Q79859 wdt:P3967 ?final .\n",
    "    ?final wdt:P1923 ?finalteams .\n",
    "    ?final wdt:P1363 ?scoredby .\n",
    "    wd:Q19317 wdt:P527 ?worldcup .\n",
    "    ?worldcup wdt:P580 ?start .\n",
    "    ?worldcup wdt:P582 ?end .\n",
    "    # Labels\n",
    "    ?worldcup <http://schema.org/name> ?worldcupname \n",
    "    FILTER(?end < \"2022-02-15\"^^xsd:dateTime).\n",
    "} \n",
    "ORDER BY ?start\n",
    "LIMIT 40\n",
    "\"\"\"\n",
    "\n",
    "print(\"Results\")\n",
    "run_query(queryString)"
   ]
  },
  {
   "cell_type": "markdown",
   "id": "e61dd2cd-2215-4031-ba1d-6b412009e60b",
   "metadata": {},
   "source": [
    "## Participates in finals "
   ]
  },
  {
   "cell_type": "code",
   "execution_count": 27,
   "id": "313c25bc-96e8-4cd3-9a29-dc2b8239de89",
   "metadata": {},
   "outputs": [
    {
     "name": "stdout",
     "output_type": "stream",
     "text": [
      "Results\n",
      "[('worldcupname', '1930 FIFA World Cup'), ('finalteams', 'Uruguay national football team; Argentina national football team')]\n",
      "[('worldcupname', '1934 FIFA World Cup'), ('finalteams', 'Italy national association football team; Czechoslovakia national association football team')]\n",
      "[('worldcupname', '1938 FIFA World Cup'), ('finalteams', 'Hungary national association football team')]\n",
      "[('worldcupname', '1950 FIFA World Cup'), ('finalteams', 'Brazil national football team; Uruguay national football team')]\n",
      "[('worldcupname', '1954 FIFA World Cup'), ('finalteams', 'Hungary national association football team; Germany national association football team')]\n",
      "[('worldcupname', '1958 FIFA World Cup'), ('finalteams', 'Brazil national football team; Sweden national association football team')]\n",
      "[('worldcupname', '1962 FIFA World Cup'), ('finalteams', 'Czechoslovakia national association football team')]\n",
      "[('worldcupname', '1966 FIFA World Cup'), ('finalteams', 'West Germany at the 1966 FIFA World Cup; England at the 1966 FIFA World Cup')]\n",
      "[('worldcupname', '1970 FIFA World Cup'), ('finalteams', 'Italy national association football team; Brazil national football team')]\n",
      "[('worldcupname', '1974 FIFA World Cup'), ('finalteams', 'Germany national association football team')]\n",
      "[('worldcupname', '1978 FIFA World Cup'), ('finalteams', 'Netherlands national association football team')]\n",
      "[('worldcupname', '1982 FIFA World Cup'), ('finalteams', 'Germany national association football team')]\n",
      "[('worldcupname', '1986 FIFA World Cup'), ('finalteams', 'Germany national association football team')]\n",
      "[('worldcupname', '1990 FIFA World Cup'), ('finalteams', 'Argentina national football team')]\n",
      "[('worldcupname', '1994 FIFA World Cup'), ('finalteams', 'Italy national association football team')]\n",
      "[('worldcupname', '1998 FIFA World Cup'), ('finalteams', 'Brazil national football team; France national association football team')]\n",
      "[('worldcupname', '2002 FIFA World Cup'), ('finalteams', 'Brazil national football team; Germany national association football team')]\n",
      "[('worldcupname', '2006 FIFA World Cup'), ('finalteams', 'France national association football team; Italy national association football team')]\n",
      "[('worldcupname', '2010 FIFA World Cup'), ('finalteams', 'Spain national association football team; Netherlands national association football team')]\n",
      "[('worldcupname', '2014 FIFA World Cup'), ('finalteams', 'Germany national association football team; Argentina national football team')]\n",
      "[('worldcupname', '2018 FIFA World Cup'), ('finalteams', 'Croatia at the 2018 FIFA World Cup; France at the 2018 FIFA World Cup\\u200e')]\n"
     ]
    },
    {
     "data": {
      "text/plain": [
       "21"
      ]
     },
     "execution_count": 27,
     "metadata": {},
     "output_type": "execute_result"
    }
   ],
   "source": [
    "# The list of world cups until now. + the final teams\n",
    "queryString = \"\"\"\n",
    "SELECT DISTINCT ?worldcupname (GROUP_CONCAT(?finalteamsname ;separator = \"; \") as ?finalteams)\n",
    "WHERE { \n",
    "    ?worldcup wdt:P3967 ?final .\n",
    "    ?final wdt:P1923 ?finalteams .\n",
    "    #?final wdt:P1363 ?scoredby .\n",
    "    wd:Q19317 wdt:P527 ?worldcup .\n",
    "    ?worldcup wdt:P580 ?start ;\n",
    "              wdt:P582 ?end .\n",
    "    # Labels\n",
    "    ?worldcup <http://schema.org/name> ?worldcupname .\n",
    "    ?final <http://schema.org/name> ?finalname .\n",
    "    ?finalteams <http://schema.org/name> ?finalteamsname .\n",
    "    #?scoredby <http://schema.org/name> ?scoredbyname .\n",
    "    FILTER(?end < \"2022-02-15\"^^xsd:dateTime).\n",
    "} \n",
    "ORDER BY ?start\n",
    "LIMIT 30\n",
    "\"\"\"\n",
    "\n",
    "print(\"Results\")\n",
    "run_query(queryString)"
   ]
  },
  {
   "cell_type": "code",
   "execution_count": 28,
   "id": "4ef81d09-f661-445f-80fc-16f22a31cb1b",
   "metadata": {},
   "outputs": [
    {
     "name": "stdout",
     "output_type": "stream",
     "text": [
      "Results\n",
      "[('countfinal', '1')]\n"
     ]
    },
    {
     "data": {
      "text/plain": [
       "1"
      ]
     },
     "execution_count": 28,
     "metadata": {},
     "output_type": "execute_result"
    }
   ],
   "source": [
    "# # Number of times that spain was in finals. \n",
    "queryString = \"\"\"\n",
    "SELECT COUNT (?final) AS ?countfinal\n",
    "WHERE { \n",
    "    ?worldcup wdt:P3967 ?final .\n",
    "    ?final wdt:P1923 ?finalteams .\n",
    "    #?final wdt:P1363 ?scoredby .\n",
    "    wd:Q19317 wdt:P527 ?worldcup .\n",
    "    #?worldcup wdt:P580 ?start .\n",
    "    #?worldcup wdt:P582 ?end .\n",
    "    # Labels\n",
    "    ?worldcup <http://schema.org/name> ?worldcupname .\n",
    "    #?final <http://schema.org/name> ?finalname .\n",
    "    ?finalteams <http://schema.org/name> ?finalteamsname .\n",
    "    #?scoredby <http://schema.org/name> ?scoredbyname .\n",
    "    # FILTER(?end < \"2022-02-15\"^^xsd:dateTime) .\n",
    "    FILTER regex(?finalteamsname, \"spain\", \"i\") .\n",
    "} \n",
    "\n",
    "\"\"\"\n",
    "\n",
    "print(\"Results\")\n",
    "run_query(queryString)"
   ]
  },
  {
   "cell_type": "code",
   "execution_count": 29,
   "id": "05b4e75c-52c0-4f15-8e8e-2cd5280d1f2f",
   "metadata": {},
   "outputs": [
    {
     "name": "stdout",
     "output_type": "stream",
     "text": [
      "Results\n",
      "[('final', 'http://www.wikidata.org/entity/Q208401'), ('finalname', '2010 FIFA World Cup Final'), ('finalteamsname', 'Spain national association football team')]\n"
     ]
    },
    {
     "data": {
      "text/plain": [
       "1"
      ]
     },
     "execution_count": 29,
     "metadata": {},
     "output_type": "execute_result"
    }
   ],
   "source": [
    "# # Number of times that spain was in finals. \n",
    "queryString = \"\"\"\n",
    "SELECT ?final ?finalname ?finalteamsname\n",
    "WHERE { \n",
    "    ?worldcup wdt:P3967 ?final .\n",
    "    ?final wdt:P1923 ?finalteams .\n",
    "    #?final wdt:P1363 ?scoredby .\n",
    "    wd:Q19317 wdt:P527 ?worldcup .\n",
    "    ?worldcup wdt:P580 ?start .\n",
    "    ?worldcup wdt:P582 ?end .\n",
    "    # Labels\n",
    "    ?worldcup <http://schema.org/name> ?worldcupname .\n",
    "    ?final <http://schema.org/name> ?finalname .\n",
    "    ?finalteams <http://schema.org/name> ?finalteamsname .\n",
    "    #?scoredby <http://schema.org/name> ?scoredbyname .\n",
    "    # FILTER(?end < \"2022-02-15\"^^xsd:dateTime) .\n",
    "    FILTER regex(?finalteamsname, \"spain\", \"i\") .\n",
    "} \n",
    "\n",
    "\"\"\"\n",
    "\n",
    "print(\"Results\")\n",
    "run_query(queryString)"
   ]
  },
  {
   "cell_type": "markdown",
   "id": "2f886114-4c8f-4358-a8d2-d6e758224a5f",
   "metadata": {},
   "source": [
    "## Identify the BGP for connecting national football teams with the participations in the finals or in the world cups"
   ]
  },
  {
   "cell_type": "code",
   "execution_count": 30,
   "id": "9b2fd096-df94-44ec-9480-1150e52879eb",
   "metadata": {},
   "outputs": [
    {
     "name": "stdout",
     "output_type": "stream",
     "text": [
      "Results\n",
      "[('worldcupname', '2018 FIFA World Cup'), ('finalteamsname', 'Australia at the 2018 FIFA World Cup')]\n",
      "[('worldcupname', '2018 FIFA World Cup'), ('finalteamsname', 'Egypt at the 2018 FIFA World Cup\\u200e')]\n",
      "[('worldcupname', '2018 FIFA World Cup'), ('finalteamsname', 'Argentina at the 2018 FIFA World Cup')]\n",
      "[('worldcupname', '2018 FIFA World Cup'), ('finalteamsname', 'Peru at the 2018 FIFA World Cup')]\n",
      "[('worldcupname', '2018 FIFA World Cup'), ('finalteamsname', 'Morocco at the 2018 FIFA World Cup\\u200e')]\n"
     ]
    },
    {
     "data": {
      "text/plain": [
       "5"
      ]
     },
     "execution_count": 30,
     "metadata": {},
     "output_type": "execute_result"
    }
   ],
   "source": [
    "queryString = \"\"\"\n",
    "SELECT ?worldcupname ?finalteamsname \n",
    "WHERE { \n",
    "    wd:Q19317 wdt:P527 ?worldcup .\n",
    "    ?worldcup wdt:P580 ?start ;\n",
    "                 wdt:P582 ?end ;\n",
    "                 wdt:P1350 ?matches ;\n",
    "                 wdt:P1923 ?finalteams ; \n",
    "                 wdt:P1346 ?winner ; \n",
    "                 wdt:P1351 ?numgoal ; \n",
    "                 wdt:P1132 ?numparticipants .\n",
    "    # Labels\n",
    "    ?worldcup <http://schema.org/name> ?worldcupname .\n",
    "    ?finalteams <http://schema.org/name> ?finalteamsname .\n",
    "    ?winner <http://schema.org/name> ?winnername .\n",
    "} \n",
    "GROUP BY ?worldcupname\n",
    "ORDER BY DESC(?start)\n",
    "LIMIT 5\n",
    "\"\"\"\n",
    "\n",
    "print(\"Results\")\n",
    "run_query(queryString)"
   ]
  },
  {
   "cell_type": "markdown",
   "id": "55be82ce-3568-4e55-81cf-7a40b09beebe",
   "metadata": {},
   "source": [
    "## The number of participants of every world cup, its winner, the number of matches, goals."
   ]
  },
  {
   "cell_type": "code",
   "execution_count": 31,
   "id": "f3f0bff5-b491-45ce-9ddb-2292ac2ca421",
   "metadata": {},
   "outputs": [
    {
     "name": "stdout",
     "output_type": "stream",
     "text": [
      "Results\n",
      "[('worldcupname', '1930 FIFA World Cup'), ('numparticipants', '13'), ('matches', '18'), ('winnername', 'Uruguay national football team'), ('numgoal', '70')]\n",
      "[('worldcupname', '1934 FIFA World Cup'), ('numparticipants', '16'), ('matches', '17'), ('winnername', 'Italy national association football team'), ('numgoal', '70')]\n",
      "[('worldcupname', '1938 FIFA World Cup'), ('numparticipants', '15'), ('matches', '18'), ('winnername', 'Italy national association football team'), ('numgoal', '84')]\n",
      "[('worldcupname', '1950 FIFA World Cup'), ('numparticipants', '13'), ('matches', '22'), ('winnername', 'Uruguay national football team'), ('numgoal', '88')]\n",
      "[('worldcupname', '1954 FIFA World Cup'), ('numparticipants', '16'), ('matches', '26'), ('winnername', 'Germany national association football team'), ('numgoal', '140')]\n",
      "[('worldcupname', '1958 FIFA World Cup'), ('numparticipants', '16'), ('matches', '35'), ('winnername', 'Brazil national football team'), ('numgoal', '126')]\n",
      "[('worldcupname', '1962 FIFA World Cup'), ('numparticipants', '16'), ('matches', '32'), ('winnername', 'Brazil national football team'), ('numgoal', '89')]\n",
      "[('worldcupname', '1966 FIFA World Cup'), ('numparticipants', '16'), ('matches', '32'), ('winnername', 'England national association football team'), ('numgoal', '89')]\n",
      "[('worldcupname', '1970 FIFA World Cup'), ('numparticipants', '16'), ('matches', '32'), ('winnername', 'Brazil national football team'), ('numgoal', '95')]\n",
      "[('worldcupname', '1974 FIFA World Cup'), ('numparticipants', '16'), ('matches', '38'), ('winnername', 'Germany national association football team'), ('numgoal', '97')]\n",
      "[('worldcupname', '1978 FIFA World Cup'), ('numparticipants', '16'), ('matches', '38'), ('winnername', 'Argentina national football team'), ('numgoal', '102')]\n",
      "[('worldcupname', '1982 FIFA World Cup'), ('numparticipants', '24'), ('matches', '52'), ('winnername', 'Italy national association football team'), ('numgoal', '146')]\n",
      "[('worldcupname', '1986 FIFA World Cup'), ('numparticipants', '24'), ('matches', '52'), ('winnername', 'Argentina national football team'), ('numgoal', '132')]\n",
      "[('worldcupname', '1990 FIFA World Cup'), ('numparticipants', '24'), ('matches', '52'), ('winnername', 'Germany national association football team'), ('numgoal', '115')]\n",
      "[('worldcupname', '1994 FIFA World Cup'), ('numparticipants', '24'), ('matches', '52'), ('winnername', 'Brazil national football team'), ('numgoal', '141')]\n",
      "[('worldcupname', '1998 FIFA World Cup'), ('numparticipants', '32'), ('matches', '64'), ('winnername', 'France national association football team'), ('numgoal', '171')]\n",
      "[('worldcupname', '2002 FIFA World Cup'), ('numparticipants', '33'), ('matches', '64'), ('winnername', 'Brazil national football team'), ('numgoal', '161')]\n",
      "[('worldcupname', '2006 FIFA World Cup'), ('numparticipants', '32'), ('matches', '64'), ('winnername', 'Italy national association football team'), ('numgoal', '147')]\n",
      "[('worldcupname', '2010 FIFA World Cup'), ('numparticipants', '32'), ('matches', '64'), ('winnername', 'Spain national association football team'), ('numgoal', '145')]\n",
      "[('worldcupname', '2014 FIFA World Cup'), ('numparticipants', '32'), ('matches', '64'), ('winnername', 'Germany national association football team'), ('numgoal', '171')]\n"
     ]
    },
    {
     "data": {
      "text/plain": [
       "20"
      ]
     },
     "execution_count": 31,
     "metadata": {},
     "output_type": "execute_result"
    }
   ],
   "source": [
    "queryString = \"\"\"\n",
    "SELECT ?worldcupname ?numparticipants ?matches ?winnername ?numgoal\n",
    "WHERE { \n",
    "    wd:Q19317 wdt:P527 ?worldcup .\n",
    "    ?worldcup wdt:P580 ?start ;\n",
    "         wdt:P582 ?end ;\n",
    "         wdt:P1350 ?matches ;\n",
    "         wdt:P1923 ?teams ; \n",
    "         wdt:P1346 ?winner ; \n",
    "         wdt:P1351 ?numgoal ; \n",
    "         wdt:P1132 ?numparticipants .\n",
    "    # Labels\n",
    "    ?worldcup <http://schema.org/name> ?worldcupname .\n",
    "    ?teams <http://schema.org/name> ?teamsname .\n",
    "    ?winner <http://schema.org/name> ?winnername .\n",
    "} \n",
    "GROUP BY ?worldcupname\n",
    "ORDER BY ASC(?start)\n",
    "LIMIT 20\n",
    "\"\"\"\n",
    "\n",
    "print(\"Results\")\n",
    "run_query(queryString)"
   ]
  },
  {
   "cell_type": "markdown",
   "id": "37d6954b-75cb-45b3-ab90-cc6e17d3c30f",
   "metadata": {},
   "source": [
    "## Maximum number of goals that a world cup has in history of world cups."
   ]
  },
  {
   "cell_type": "code",
   "execution_count": 32,
   "id": "12bc803d-1db5-4a96-82b7-e469e178997b",
   "metadata": {},
   "outputs": [
    {
     "name": "stdout",
     "output_type": "stream",
     "text": [
      "Results\n",
      "[('maxNumgoal', '171')]\n"
     ]
    },
    {
     "data": {
      "text/plain": [
       "1"
      ]
     },
     "execution_count": 32,
     "metadata": {},
     "output_type": "execute_result"
    }
   ],
   "source": [
    "queryString = \"\"\"\n",
    "SELECT (MAX(DISTINCT ?numgoal) AS ?maxNumgoal)\n",
    "WHERE { \n",
    "    wd:Q19317 wdt:P527 ?worldcup .\n",
    "    ?worldcup wdt:P580 ?start ;\n",
    "                 wdt:P582 ?end ;\n",
    "                 wdt:P1350 ?matches ;\n",
    "                 wdt:P1923 ?teams ; \n",
    "                 wdt:P1346 ?winner ; \n",
    "                 wdt:P1351 ?numgoal ; \n",
    "                 wdt:P1132 ?numparticipants .\n",
    "    # Labels\n",
    "    ?worldcup <http://schema.org/name> ?worldcupname .\n",
    "    ?teams <http://schema.org/name> ?teamsname .\n",
    "    ?winner <http://schema.org/name> ?winnername .\n",
    "} \n",
    "\n",
    "\"\"\"\n",
    "\n",
    "print(\"Results\")\n",
    "run_query(queryString)"
   ]
  },
  {
   "cell_type": "code",
   "execution_count": 33,
   "id": "9640effc-d25a-4c89-aeac-2d096d37d00d",
   "metadata": {},
   "outputs": [
    {
     "name": "stdout",
     "output_type": "stream",
     "text": [
      "Results\n",
      "[('worldcupname', '1998 FIFA World Cup'), ('maxNumgoal', '171')]\n",
      "[('worldcupname', '2014 FIFA World Cup'), ('maxNumgoal', '171')]\n",
      "[('worldcupname', '2018 FIFA World Cup'), ('maxNumgoal', '169')]\n",
      "[('worldcupname', '2002 FIFA World Cup'), ('maxNumgoal', '161')]\n",
      "[('worldcupname', '2006 FIFA World Cup'), ('maxNumgoal', '147')]\n",
      "[('worldcupname', '1982 FIFA World Cup'), ('maxNumgoal', '146')]\n",
      "[('worldcupname', '2010 FIFA World Cup'), ('maxNumgoal', '145')]\n",
      "[('worldcupname', '1994 FIFA World Cup'), ('maxNumgoal', '141')]\n",
      "[('worldcupname', '1954 FIFA World Cup'), ('maxNumgoal', '140')]\n",
      "[('worldcupname', '1986 FIFA World Cup'), ('maxNumgoal', '132')]\n",
      "[('worldcupname', '1958 FIFA World Cup'), ('maxNumgoal', '126')]\n",
      "[('worldcupname', '1990 FIFA World Cup'), ('maxNumgoal', '115')]\n",
      "[('worldcupname', '1978 FIFA World Cup'), ('maxNumgoal', '102')]\n",
      "[('worldcupname', '1974 FIFA World Cup'), ('maxNumgoal', '97')]\n",
      "[('worldcupname', '1970 FIFA World Cup'), ('maxNumgoal', '95')]\n",
      "[('worldcupname', '1962 FIFA World Cup'), ('maxNumgoal', '89')]\n",
      "[('worldcupname', '1966 FIFA World Cup'), ('maxNumgoal', '89')]\n",
      "[('worldcupname', '1950 FIFA World Cup'), ('maxNumgoal', '88')]\n",
      "[('worldcupname', '1938 FIFA World Cup'), ('maxNumgoal', '84')]\n",
      "[('worldcupname', '1934 FIFA World Cup'), ('maxNumgoal', '70')]\n",
      "[('worldcupname', '1930 FIFA World Cup'), ('maxNumgoal', '70')]\n"
     ]
    },
    {
     "data": {
      "text/plain": [
       "21"
      ]
     },
     "execution_count": 33,
     "metadata": {},
     "output_type": "execute_result"
    }
   ],
   "source": [
    "queryString = \"\"\"\n",
    "SELECT ?worldcupname (Max(?numgoal) AS ?maxNumgoal)\n",
    "WHERE { \n",
    "    wd:Q19317 wdt:P527 ?worldcup .\n",
    "     ?worldcup wdt:P580 ?start ;\n",
    "             wdt:P582 ?end ;\n",
    "             wdt:P1350 ?matches ;\n",
    "             wdt:P1923 ?teams ; \n",
    "             wdt:P1346 ?winner ; \n",
    "             wdt:P1351 ?numgoal ;\n",
    "             wdt:P1132 ?numparticipants .\n",
    "    # Labels\n",
    "    ?worldcup <http://schema.org/name> ?worldcupname .\n",
    "    ?teams <http://schema.org/name> ?teamsname .\n",
    "    ?winner <http://schema.org/name> ?winnername .\n",
    "} \n",
    "ORDER BY DESC (?maxNumgoal)\n",
    "LIMIT 30\n",
    "\"\"\"\n",
    "\n",
    "print(\"Results\")\n",
    "run_query(queryString)"
   ]
  },
  {
   "cell_type": "markdown",
   "id": "4e2e8e1c-f6c6-4704-88ba-12ceae7d8853",
   "metadata": {},
   "source": [
    "## Identify the BGP that connects a country with a national football team or as a location to a world cup"
   ]
  },
  {
   "cell_type": "code",
   "execution_count": 34,
   "id": "3d60fb78-d46f-4b83-b81a-8481dc957151",
   "metadata": {},
   "outputs": [
    {
     "name": "stdout",
     "output_type": "stream",
     "text": [
      "Results\n",
      "[('p', 'http://www.wikidata.org/prop/direct/P1532'), ('pname', 'country for sport')]\n",
      "[('p', 'http://www.wikidata.org/prop/direct/P17'), ('pname', 'country')]\n"
     ]
    },
    {
     "data": {
      "text/plain": [
       "2"
      ]
     },
     "execution_count": 34,
     "metadata": {},
     "output_type": "execute_result"
    }
   ],
   "source": [
    "# | `wd:Q42267`   | Spain national football team | node |\n",
    "# | `wd:Q29`      | Spain           | node |\n",
    "queryString = \"\"\"\n",
    "SELECT *\n",
    "WHERE { \n",
    "\n",
    "    wd:Q42267 ?p wd:Q29 .\n",
    "    # Labels\n",
    "    ?p <http://schema.org/name> ?pname .\n",
    "    #?o <http://schema.org/name> ?oname .\n",
    "    #FILTER regex(?pname,\"\", \"i\") \n",
    "} \n",
    "LIMIT 50\n",
    "\"\"\"\n",
    "\n",
    "print(\"Results\")\n",
    "run_query(queryString)\n",
    "\n",
    "# country P17\n",
    "# country P1532"
   ]
  },
  {
   "cell_type": "markdown",
   "id": "ac12c5f7-91fb-4ceb-bacd-7fbc17323b40",
   "metadata": {},
   "source": [
    "## Identify the BGP that connects a country with a national footbal team."
   ]
  },
  {
   "cell_type": "code",
   "execution_count": 35,
   "id": "a57634d6-4331-4bb7-adb3-eae319aff611",
   "metadata": {},
   "outputs": [
    {
     "name": "stdout",
     "output_type": "stream",
     "text": [
      "Results\n",
      "[('teamsname', 'Algeria national football team'), ('countryname', 'Algeria')]\n",
      "[('teamsname', 'Angola national football team'), ('countryname', 'Angola')]\n",
      "[('teamsname', 'Argentina national football team'), ('countryname', 'Argentina')]\n",
      "[('teamsname', 'Argentina at the 2018 FIFA World Cup'), ('countryname', 'Argentina')]\n",
      "[('teamsname', 'Australia national association football team'), ('countryname', 'Australia')]\n",
      "[('teamsname', 'Australia at the 2018 FIFA World Cup'), ('countryname', 'Australia')]\n",
      "[('teamsname', 'Austria national association football team'), ('countryname', 'Austria')]\n",
      "[('teamsname', 'Belgium national football team'), ('countryname', 'Belgium')]\n",
      "[('teamsname', 'Bolivia national football team'), ('countryname', 'Bolivia')]\n",
      "[('teamsname', 'Bosnia and Herzegovina national football team'), ('countryname', 'Bosnia and Herzegovina')]\n",
      "[('teamsname', 'Brazil national football team'), ('countryname', 'Brazil')]\n",
      "[('teamsname', 'Brazil at the 2018 FIFA World Cup\\u200e'), ('countryname', 'Brazil')]\n",
      "[('teamsname', 'Bulgaria national football team'), ('countryname', 'Bulgaria')]\n",
      "[('teamsname', 'Cameroon national football team'), ('countryname', 'Cameroon')]\n",
      "[('teamsname', \"Canada men's national soccer team\"), ('countryname', 'Canada')]\n",
      "[('teamsname', 'Chile national football team'), ('countryname', 'Chile')]\n",
      "[('teamsname', 'Colombia national football team'), ('countryname', 'Colombia')]\n",
      "[('teamsname', 'Colombia at the 2018 FIFA World Cup'), ('countryname', 'Colombia')]\n",
      "[('teamsname', 'Costa Rica national football team'), ('countryname', 'Costa Rica')]\n",
      "[('teamsname', 'Costa Rica at the 2018 FIFA World Cup'), ('countryname', 'Costa Rica')]\n"
     ]
    },
    {
     "data": {
      "text/plain": [
       "20"
      ]
     },
     "execution_count": 35,
     "metadata": {},
     "output_type": "execute_result"
    }
   ],
   "source": [
    "# | `wd:Q42267`   | Spain national football team | node |\n",
    "# | `wd:Q29`      | Spain           | node |\n",
    "queryString = \"\"\"\n",
    "SELECT DISTINCT ?teamsname ?countryname\n",
    "WHERE { \n",
    "    wd:Q19317 wdt:P527 ?worldcup .\n",
    "    ?worldcup wdt:P1923 ?teams .\n",
    "    ?teams wdt:P17 ?country .\n",
    "    # Labels\n",
    "    ?teams <http://schema.org/name> ?teamsname .\n",
    "    ?country <http://schema.org/name> ?countryname .\n",
    "    #FILTER regex(?pname,\"\", \"i\") \n",
    "} \n",
    "ORDER BY ?countryname\n",
    "LIMIT 20\n",
    "\n",
    "\"\"\"\n",
    "\n",
    "print(\"Results\")\n",
    "run_query(queryString)\n"
   ]
  },
  {
   "cell_type": "markdown",
   "id": "9dca9a6d-3793-414b-826c-3cf1f697230d",
   "metadata": {},
   "source": [
    "## Identify the BGP that connects a country to a location of a world cup."
   ]
  },
  {
   "cell_type": "code",
   "execution_count": 36,
   "id": "8b3ece32-aeb0-466d-a4b5-63548c414673",
   "metadata": {},
   "outputs": [
    {
     "name": "stdout",
     "output_type": "stream",
     "text": [
      "Results\n",
      "[('p', 'http://www.wikidata.org/prop/direct/P276'), ('o', 'http://www.wikidata.org/entity/Q163521'), ('pname', 'location'), ('oname', 'FNB Stadium')]\n",
      "[('p', 'http://www.wikidata.org/prop/direct/P276'), ('o', 'http://www.wikidata.org/entity/Q173559'), ('pname', 'location'), ('oname', 'Cape Town Stadium')]\n",
      "[('p', 'http://www.wikidata.org/prop/direct/P276'), ('o', 'http://www.wikidata.org/entity/Q187087'), ('pname', 'location'), ('oname', 'Mbombela Stadium')]\n",
      "[('p', 'http://www.wikidata.org/prop/direct/P276'), ('o', 'http://www.wikidata.org/entity/Q181439'), ('pname', 'location'), ('oname', 'Free State Stadium')]\n",
      "[('p', 'http://www.wikidata.org/prop/direct/P276'), ('o', 'http://www.wikidata.org/entity/Q258'), ('pname', 'location'), ('oname', 'South Africa')]\n",
      "[('p', 'http://www.wikidata.org/prop/direct/P276'), ('o', 'http://www.wikidata.org/entity/Q182081'), ('pname', 'location'), ('oname', 'Ellis Park Stadium')]\n",
      "[('p', 'http://www.wikidata.org/prop/direct/P276'), ('o', 'http://www.wikidata.org/entity/Q181398'), ('pname', 'location'), ('oname', 'Loftus Versfeld Stadium')]\n",
      "[('p', 'http://www.wikidata.org/prop/direct/P276'), ('o', 'http://www.wikidata.org/entity/Q175289'), ('pname', 'location'), ('oname', 'Moses Mabhida Stadium')]\n",
      "[('p', 'http://www.wikidata.org/prop/direct/P276'), ('o', 'http://www.wikidata.org/entity/Q189337'), ('pname', 'location'), ('oname', 'Royal Bafokeng Stadium')]\n",
      "[('p', 'http://www.wikidata.org/prop/direct/P276'), ('o', 'http://www.wikidata.org/entity/Q181445'), ('pname', 'location'), ('oname', 'Nelson Mandela Bay Stadium')]\n",
      "[('p', 'http://www.wikidata.org/prop/direct/P276'), ('o', 'http://www.wikidata.org/entity/Q187042'), ('pname', 'location'), ('oname', 'Peter Mokaba Stadium')]\n"
     ]
    },
    {
     "data": {
      "text/plain": [
       "11"
      ]
     },
     "execution_count": 36,
     "metadata": {},
     "output_type": "execute_result"
    }
   ],
   "source": [
    "# | `wd:Q176883`  | 2010 FIFA World cup  | node |\n",
    "queryString = \"\"\"\n",
    "SELECT *\n",
    "WHERE { \n",
    "\n",
    "    wd:Q176883 ?p ?o .\n",
    "               \n",
    "    # Labels\n",
    "    ?p <http://schema.org/name> ?pname .\n",
    "    ?o <http://schema.org/name> ?oname .\n",
    "    FILTER regex(?pname, \"location\", \"i\") \n",
    "} \n",
    "LIMIT 30\n",
    "\"\"\"\n",
    "\n",
    "print(\"Results\")\n",
    "run_query(queryString)\n",
    "# wdt:P276 stadium"
   ]
  },
  {
   "cell_type": "code",
   "execution_count": 37,
   "id": "558ea32c-51ab-42c3-831a-c9e0da051ea6",
   "metadata": {},
   "outputs": [
    {
     "name": "stdout",
     "output_type": "stream",
     "text": [
      "Results\n",
      "[('country', 'http://www.wikidata.org/entity/Q258'), ('countryname', 'South Africa')]\n"
     ]
    },
    {
     "data": {
      "text/plain": [
       "1"
      ]
     },
     "execution_count": 37,
     "metadata": {},
     "output_type": "execute_result"
    }
   ],
   "source": [
    "# | `wd:Q176883`  | 2010 FIFA World cup  | node |\n",
    "queryString = \"\"\"\n",
    "SELECT DISTINCT ?country ?countryname\n",
    "WHERE { \n",
    "\n",
    "    wd:Q176883 ?p ?o ;\n",
    "                wdt:P17 ?country .\n",
    "    # Labels\n",
    "    #?p <http://schema.org/name> ?pname .\n",
    "    #?o <http://schema.org/name> ?oname .\n",
    "    ?country <http://schema.org/name> ?countryname .\n",
    "    #FILTER regex(?pname, \"location\", \"i\") \n",
    "} \n",
    "LIMIT 30\n",
    "\"\"\"\n",
    "\n",
    "print(\"Results\")\n",
    "run_query(queryString)\n"
   ]
  },
  {
   "cell_type": "markdown",
   "id": "3c3eef1b-e7a8-4d91-a67c-7518ea495554",
   "metadata": {},
   "source": [
    "## The location of world cups. "
   ]
  },
  {
   "cell_type": "code",
   "execution_count": 38,
   "id": "f8421117-ec27-4d13-9e38-a238fe6463a3",
   "metadata": {},
   "outputs": [
    {
     "name": "stdout",
     "output_type": "stream",
     "text": [
      "Results\n",
      "[('worldcupname', '1930 FIFA World Cup'), ('countryname', 'Uruguay')]\n",
      "[('worldcupname', '1934 FIFA World Cup'), ('countryname', 'Italy')]\n",
      "[('worldcupname', '1938 FIFA World Cup'), ('countryname', 'France')]\n",
      "[('worldcupname', '1950 FIFA World Cup'), ('countryname', 'Brazil')]\n",
      "[('worldcupname', '1954 FIFA World Cup'), ('countryname', 'Switzerland')]\n",
      "[('worldcupname', '1958 FIFA World Cup'), ('countryname', 'Sweden')]\n",
      "[('worldcupname', '1962 FIFA World Cup'), ('countryname', 'Chile')]\n",
      "[('worldcupname', '1966 FIFA World Cup'), ('countryname', 'United Kingdom')]\n",
      "[('worldcupname', '1970 FIFA World Cup'), ('countryname', 'Mexico')]\n",
      "[('worldcupname', '1974 FIFA World Cup'), ('countryname', 'Germany')]\n",
      "[('worldcupname', '1978 FIFA World Cup'), ('countryname', 'Argentina')]\n",
      "[('worldcupname', '1982 FIFA World Cup'), ('countryname', 'Mexico')]\n",
      "[('worldcupname', '1986 FIFA World Cup'), ('countryname', 'Mexico')]\n",
      "[('worldcupname', '1990 FIFA World Cup'), ('countryname', 'Italy')]\n",
      "[('worldcupname', '1994 FIFA World Cup'), ('countryname', 'United States of America')]\n",
      "[('worldcupname', '1998 FIFA World Cup'), ('countryname', 'France')]\n",
      "[('worldcupname', '2002 FIFA World Cup'), ('countryname', 'South Korea')]\n",
      "[('worldcupname', '2002 FIFA World Cup'), ('countryname', 'Japan')]\n",
      "[('worldcupname', '2006 FIFA World Cup'), ('countryname', 'Germany')]\n",
      "[('worldcupname', '2010 FIFA World Cup'), ('countryname', 'South Africa')]\n",
      "[('worldcupname', '2014 FIFA World Cup'), ('countryname', 'Brazil')]\n",
      "[('worldcupname', '2018 FIFA World Cup'), ('countryname', 'Russia')]\n",
      "[('worldcupname', '2022 FIFA World Cup'), ('countryname', 'Qatar')]\n",
      "[('worldcupname', '2026 FIFA World Cup'), ('countryname', 'Canada')]\n",
      "[('worldcupname', '2026 FIFA World Cup'), ('countryname', 'United States of America')]\n",
      "[('worldcupname', '2026 FIFA World Cup'), ('countryname', 'Mexico')]\n"
     ]
    },
    {
     "data": {
      "text/plain": [
       "26"
      ]
     },
     "execution_count": 38,
     "metadata": {},
     "output_type": "execute_result"
    }
   ],
   "source": [
    "queryString = \"\"\"\n",
    "SELECT DISTINCT ?worldcupname ?countryname\n",
    "WHERE { \n",
    "    wd:Q19317 wdt:P527 ?worldcup .\n",
    "    ?worldcup wdt:P17 ?country ;\n",
    "              wdt:P580 ?start ;\n",
    "              wdt:P582 ?end .\n",
    "    # Labels\n",
    "    #?p <http://schema.org/name> ?pname .\n",
    "    #?o <http://schema.org/name> ?oname .\n",
    "    ?country <http://schema.org/name> ?countryname .\n",
    "    ?worldcup <http://schema.org/name> ?worldcupname .\n",
    "    #FILTER regex(?pname, \"location\", \"i\") \n",
    "} \n",
    "ORDER BY ?start\n",
    "LIMIT 30\n",
    "\"\"\"\n",
    "\n",
    "print(\"Results\")\n",
    "run_query(queryString)\n"
   ]
  },
  {
   "cell_type": "markdown",
   "id": "2e427b06-2ade-4e6a-b4d2-d64b7029fc83",
   "metadata": {},
   "source": [
    "## Show the stadium that finals have been hold in every world cup. "
   ]
  },
  {
   "cell_type": "code",
   "execution_count": 39,
   "id": "07891d32-0ce7-4ba7-99f9-30f16a55dc0b",
   "metadata": {},
   "outputs": [
    {
     "name": "stdout",
     "output_type": "stream",
     "text": [
      "Results\n",
      "[('worldcupname', '1930 FIFA World Cup'), ('countryname', 'Uruguay'), ('stadiumname', 'Estadio Centenario'), ('stadiumcountryname', 'Uruguay')]\n",
      "[('worldcupname', '1930 FIFA World Cup'), ('countryname', 'Uruguay'), ('stadiumname', 'Estadio Gran Parque Central'), ('stadiumcountryname', 'Uruguay')]\n",
      "[('worldcupname', '1930 FIFA World Cup'), ('countryname', 'Uruguay'), ('stadiumname', 'Estadio Pocitos'), ('stadiumcountryname', 'Uruguay')]\n",
      "[('worldcupname', '1934 FIFA World Cup'), ('countryname', 'Italy'), ('stadiumname', 'Stadio Giuseppe Meazza'), ('stadiumcountryname', 'Italy')]\n",
      "[('worldcupname', '1934 FIFA World Cup'), ('countryname', 'Italy'), ('stadiumname', 'Stadio Olimpico Grande Torino'), ('stadiumcountryname', 'Italy')]\n",
      "[('worldcupname', '1934 FIFA World Cup'), ('countryname', 'Italy'), ('stadiumname', 'Stadio Artemio Franchi (Florence)'), ('stadiumcountryname', 'Italy')]\n",
      "[('worldcupname', '1934 FIFA World Cup'), ('countryname', 'Italy'), ('stadiumname', \"Stadio Renato Dall'Ara\"), ('stadiumcountryname', 'Italy')]\n",
      "[('worldcupname', '1934 FIFA World Cup'), ('countryname', 'Italy'), ('stadiumname', 'Stadio Luigi Ferraris'), ('stadiumcountryname', 'Italy')]\n",
      "[('worldcupname', '1934 FIFA World Cup'), ('countryname', 'Italy'), ('stadiumname', 'Stadio Giuseppe Grezar'), ('stadiumcountryname', 'Italy')]\n",
      "[('worldcupname', '1934 FIFA World Cup'), ('countryname', 'Italy'), ('stadiumname', 'Stadio Nazionale PNF'), ('stadiumcountryname', 'Italy')]\n"
     ]
    },
    {
     "data": {
      "text/plain": [
       "10"
      ]
     },
     "execution_count": 39,
     "metadata": {},
     "output_type": "execute_result"
    }
   ],
   "source": [
    "queryString = \"\"\"\n",
    "SELECT DISTINCT ?worldcupname ?countryname ?stadiumname ?stadiumcountryname \n",
    "WHERE { \n",
    "    wd:Q19317 wdt:P527 ?worldcup .\n",
    "    ?worldcup wdt:P3967 ?final .\n",
    "    ?final wdt:P1923 ?finalteams .\n",
    "    ?worldcup wdt:P17 ?country ;\n",
    "              wdt:P580 ?start ;\n",
    "              wdt:P582 ?end ;\n",
    "              wdt:P276 ?stadium .\n",
    "    ?stadium wdt:P17 ?stadiumcountry .\n",
    "    # Labels\n",
    "    #?p <http://schema.org/name> ?pname .\n",
    "    #?o <http://schema.org/name> ?oname .\n",
    "    ?country <http://schema.org/name> ?countryname .\n",
    "    ?worldcup <http://schema.org/name> ?worldcupname .\n",
    "    ?stadium <http://schema.org/name> ?stadiumname .\n",
    "    ?finalteams <http://schema.org/name> ?finalteamsname .\n",
    "    ?stadiumcountry <http://schema.org/name> ?stadiumcountryname .\n",
    "    #FILTER regex(?pname, \"location\", \"i\") \n",
    "} \n",
    "ORDER BY ?start\n",
    "LIMIT 10\n",
    "\"\"\"\n",
    "\n",
    "print(\"Results\")\n",
    "run_query(queryString)\n",
    "\n",
    "# wdt:P276 stadium"
   ]
  },
  {
   "cell_type": "code",
   "execution_count": 40,
   "id": "be4d6702-e02e-41ba-8717-1f572f20f50c",
   "metadata": {},
   "outputs": [
    {
     "name": "stdout",
     "output_type": "stream",
     "text": [
      "Results\n",
      "[('worldcupname', '1930 FIFA World Cup'), ('countryname', 'Uruguay'), ('stadium', 'Estadio Centenario;Estadio Gran Parque Central;Estadio Pocitos;Estadio Centenario;Estadio Gran Parque Central;Estadio Pocitos')]\n",
      "[('worldcupname', '1934 FIFA World Cup'), ('countryname', 'Italy'), ('stadium', \"Stadio Giuseppe Meazza;Stadio Olimpico Grande Torino;Stadio Artemio Franchi (Florence);Stadio Renato Dall'Ara;Stadio Luigi Ferraris;Stadio Giuseppe Grezar;Stadio Nazionale PNF;Stadio Giorgio Ascarelli;Stadio Giuseppe Meazza;Stadio Olimpico Grande Torino;Stadio Artemio Franchi (Florence);Stadio Renato Dall'Ara;Stadio Luigi Ferraris;Stadio Giuseppe Grezar;Stadio Nazionale PNF;Stadio Giorgio Ascarelli\")]\n",
      "[('worldcupname', '1938 FIFA World Cup'), ('countryname', 'France'), ('stadium', 'Stade du Fort Carré;Stadium Municipal;Stade Chaban-Delmas;Stade Jules Deschaseaux;Stade Auguste Delaune;Parc des Princes;Stade Olympique Yves-du-Manoir;Stade Vélodrome;Stade de la Meinau;Stade Victor Boucquey')]\n",
      "[('worldcupname', '1950 FIFA World Cup'), ('countryname', 'Brazil'), ('stadium', 'Maracanã Stadium;Estádio do Pacaembu;Estádio dos Eucaliptos;Estádio Ilha do Retiro;Estádio Vila Capanema;Estádio Independência;Maracanã Stadium;Estádio do Pacaembu;Estádio dos Eucaliptos;Estádio Ilha do Retiro;Estádio Vila Capanema;Estádio Independência')]\n",
      "[('worldcupname', '1954 FIFA World Cup'), ('countryname', 'Switzerland'), ('stadium', 'St. Jakob-Park;Charmilles Stadium;Stade Olympique de la Pontaise;Cornaredo Stadium;Wankdorf Stadium;Hardturm;St. Jakob-Park;Charmilles Stadium;Stade Olympique de la Pontaise;Cornaredo Stadium;Wankdorf Stadium;Hardturm')]\n",
      "[('worldcupname', '1958 FIFA World Cup'), ('countryname', 'Sweden'), ('stadium', 'Örjans Vall;Olympia;Arosvallen;Råsunda Stadium;Jernvallen;Malmö stadion;Ullevi;Ryavallen;Tunavallen;Rimnersvallen;Behrn Arena;Idrottsparken;Örjans Vall;Olympia;Arosvallen;Råsunda Stadium;Jernvallen;Malmö stadion;Ullevi;Ryavallen;Tunavallen;Rimnersvallen;Behrn Arena;Idrottsparken')]\n",
      "[('worldcupname', '1962 FIFA World Cup'), ('countryname', 'Chile'), ('stadium', 'Estadio Sausalito;Estadio Nacional Julio Martínez Prádanos;Estadio El Teniente;Estadio Carlos Dittborn')]\n",
      "[('worldcupname', '1966 FIFA World Cup'), ('countryname', 'United Kingdom'), ('stadium', 'Villa Park;Hillsborough Stadium;Ayresome Park;White City Stadium;Old Trafford;Wembley Stadium;Goodison Park;Roker Park;Villa Park;Hillsborough Stadium;Ayresome Park;White City Stadium;Old Trafford;Wembley Stadium;Goodison Park;Roker Park')]\n",
      "[('worldcupname', '1970 FIFA World Cup'), ('countryname', 'Mexico'), ('stadium', 'Cuauhtémoc Stadium;Estadio Azteca;Jalisco Stadium;Nemesio Díez Stadium;León Stadium;Cuauhtémoc Stadium;Estadio Azteca;Jalisco Stadium;Nemesio Díez Stadium;León Stadium')]\n",
      "[('worldcupname', '1974 FIFA World Cup'), ('countryname', 'Germany'), ('stadium', 'West Germany')]\n",
      "[('worldcupname', '1978 FIFA World Cup'), ('countryname', 'Argentina'), ('stadium', 'Estadio Mario Alberto Kempes;Estadio Monumental Antonio Vespucio Liberti;Estadio Malvinas Argentinas;José Amalfitani Stadium;Estadio José María Minella;Estadio Gigante de Arroyito')]\n",
      "[('worldcupname', '1982 FIFA World Cup'), ('countryname', 'Mexico'), ('stadium', 'Vicente Calderón Stadium;La Rosaleda Stadium;Estadi de Sarrià;Estadio Municipal de Abanca Riazor;Camp Nou;La Romareda;Mestalla Stadium;Santiago Bernabéu Stadium;El Molinón-Enrique Castro Quini;Abanca Balaídos Stadium;Estadio Benito Villamarín;Estadio Ramón Sánchez Pigone;Estadio Nuevo José Zorrilla;Estadio Carlos Tartiere;San Mamés Stadium;Estadio José Rico Pérez;Estadio Manuel Martínez Valero')]\n",
      "[('worldcupname', '1986 FIFA World Cup'), ('countryname', 'Mexico'), ('stadium', 'Cuauhtémoc Stadium;Estadio Azteca;Jalisco Stadium;Universitary Olympic Stadium;Estadio Universitario;Nemesio Díez Stadium;Corregidora Stadium;Estadio Neza 86;León Stadium;Estadio Sergio León Chávez;Tecnológico Stadium;Estadio Tres de Marzo')]\n",
      "[('worldcupname', '1990 FIFA World Cup'), ('countryname', 'Italy'), ('stadium', \"Stadio Giuseppe Meazza;Stadio Diego Armando Maradona;Stadio Artemio Franchi (Florence);Stadio Renzo Barbera;Stadio Renato Dall'Ara;Stadio Olimpico;Stadio Friuli;Stadio Luigi Ferraris;Stadio Marcantonio Bentegodi;Stadio delle Alpi;Stadio Sant'Elia;Stadio San Nicola\")]\n",
      "[('worldcupname', '1994 FIFA World Cup'), ('countryname', 'United States of America'), ('stadium', 'Soldier Field;Cotton Bowl;Robert F. Kennedy Memorial Stadium;Camping World Stadium;Pontiac Silverdome;Foxboro Stadium;Giants Stadium;Rose Bowl;Stanford Stadium')]\n",
      "[('worldcupname', '1998 FIFA World Cup'), ('countryname', 'France'), ('stadium', 'Stade de Gerland;Stadium Municipal;Stade de France;Stade Chaban-Delmas;Stade Bollaert-Delelis;Parc des Princes;Stade Vélodrome;Stade de la Mosson;Stade de la Beaujoire;Stade Geoffroy-Guichard;Stade de Gerland;Stadium Municipal;Stade de France;Stade Chaban-Delmas;Stade Bollaert-Delelis;Parc des Princes;Stade Vélodrome;Stade de la Mosson;Stade de la Beaujoire;Stade Geoffroy-Guichard')]\n",
      "[('worldcupname', '2002 FIFA World Cup'), ('countryname', 'Japan'), ('stadium', 'Maracanã District;Saitama Stadium 2002;Kashima Soccer Stadium;International Stadium Yokohama;Sapporo Dome;Ōita Stadium;Yanmar Stadium Nagai;Wing Stadium Kobe;Tohoku Electric Power Big Swan Stadium;Q&A Stadium Miyagi;Busan Asiad Main Stadium;Gwangju World Cup Stadium;Seoul World Cup Stadium;Suwon World Cup Stadium;Jeonju World Cup Stadium;Daegu Stadium;Ulsan Munsu Football Stadium;Jeju World Cup Stadium;Incheon Munhak Sports Complex;Daejeon World Cup Stadium;Maracanã District;Saitama Stadium 2002;Kashima Soccer Stadium;International Stadium Yokohama;Sapporo Dome;Ōita Stadium;Yanmar Stadium Nagai;Wing Stadium Kobe;Tohoku Electric Power Big Swan Stadium;Q&A Stadium Miyagi;Busan Asiad Main Stadium;Gwangju World Cup Stadium;Seoul World Cup Stadium;Suwon World Cup Stadium;Jeonju World Cup Stadium;Daegu Stadium;Ulsan Munsu Football Stadium;Jeju World Cup Stadium;Incheon Munhak Sports Complex;Daejeon World Cup Stadium')]\n",
      "[('worldcupname', '2002 FIFA World Cup'), ('countryname', 'South Korea'), ('stadium', 'Maracanã District;Saitama Stadium 2002;Kashima Soccer Stadium;International Stadium Yokohama;Sapporo Dome;Ōita Stadium;Yanmar Stadium Nagai;Wing Stadium Kobe;Tohoku Electric Power Big Swan Stadium;Q&A Stadium Miyagi;Busan Asiad Main Stadium;Gwangju World Cup Stadium;Seoul World Cup Stadium;Suwon World Cup Stadium;Jeonju World Cup Stadium;Daegu Stadium;Ulsan Munsu Football Stadium;Jeju World Cup Stadium;Incheon Munhak Sports Complex;Daejeon World Cup Stadium;Maracanã District;Saitama Stadium 2002;Kashima Soccer Stadium;International Stadium Yokohama;Sapporo Dome;Ōita Stadium;Yanmar Stadium Nagai;Wing Stadium Kobe;Tohoku Electric Power Big Swan Stadium;Q&A Stadium Miyagi;Busan Asiad Main Stadium;Gwangju World Cup Stadium;Seoul World Cup Stadium;Suwon World Cup Stadium;Jeonju World Cup Stadium;Daegu Stadium;Ulsan Munsu Football Stadium;Jeju World Cup Stadium;Incheon Munhak Sports Complex;Daejeon World Cup Stadium')]\n",
      "[('worldcupname', '2006 FIFA World Cup'), ('countryname', 'Germany'), ('stadium', 'Olympiastadion Berlin;Max-Morlock-Stadion;Allianz Arena;Mercedes-Benz Arena;Waldstadion;Volksparkstadion;Veltins Arena;RheinEnergie Stadion;Westfalenstadion;Fritz-Walter-Stadion;Niedersachsenstadion;Leipzig Arena;Olympiastadion Berlin;Max-Morlock-Stadion;Allianz Arena;Mercedes-Benz Arena;Waldstadion;Volksparkstadion;Veltins Arena;RheinEnergie Stadion;Westfalenstadion;Fritz-Walter-Stadion;Niedersachsenstadion;Leipzig Arena')]\n",
      "[('worldcupname', '2010 FIFA World Cup'), ('countryname', 'South Africa'), ('stadium', 'FNB Stadium;Cape Town Stadium;Mbombela Stadium;Free State Stadium;South Africa;Ellis Park Stadium;Loftus Versfeld Stadium;Moses Mabhida Stadium;Royal Bafokeng Stadium;Nelson Mandela Bay Stadium;Peter Mokaba Stadium;FNB Stadium;Cape Town Stadium;Mbombela Stadium;Free State Stadium;South Africa;Ellis Park Stadium;Loftus Versfeld Stadium;Moses Mabhida Stadium;Royal Bafokeng Stadium;Nelson Mandela Bay Stadium;Peter Mokaba Stadium')]\n"
     ]
    },
    {
     "data": {
      "text/plain": [
       "20"
      ]
     },
     "execution_count": 40,
     "metadata": {},
     "output_type": "execute_result"
    }
   ],
   "source": [
    "queryString = \"\"\"\n",
    "SELECT ?worldcupname ?countryname (GROUP_CONCAT(?stadiumname; separator=\";\") as ?stadium) \n",
    "WHERE { \n",
    "    wd:Q19317 wdt:P527 ?worldcup .\n",
    "    ?worldcup wdt:P3967 ?final .\n",
    "    ?final wdt:P1923 ?finalteams .\n",
    "    ?worldcup wdt:P17 ?country ;\n",
    "              wdt:P580 ?start ;\n",
    "              wdt:P582 ?end ;\n",
    "              wdt:P276 ?stadium .\n",
    "    ?stadium wdt:P17 ?stadiumcountry .\n",
    "    # Labels\n",
    "    #?p <http://schema.org/name> ?pname .\n",
    "    #?o <http://schema.org/name> ?oname .\n",
    "    ?country <http://schema.org/name> ?countryname .\n",
    "    ?worldcup <http://schema.org/name> ?worldcupname .\n",
    "    ?stadium <http://schema.org/name> ?stadiumname .\n",
    "    ?finalteams <http://schema.org/name> ?finalteamsname .\n",
    "    ?stadiumcountry <http://schema.org/name> ?stadiumcountryname .\n",
    "    #FILTER regex(?pname, \"location\", \"i\") \n",
    "} \n",
    "ORDER BY ?start\n",
    "LIMIT 20\n",
    "\"\"\"\n",
    "\n",
    "print(\"Results\")\n",
    "run_query(queryString)\n",
    "\n",
    "# wdt:P276 stadium"
   ]
  },
  {
   "cell_type": "markdown",
   "id": "6c60e2b7-c7d9-4c45-985f-f9702435eedb",
   "metadata": {},
   "source": [
    "## Count the number of stadiums every world cup had."
   ]
  },
  {
   "cell_type": "code",
   "execution_count": 41,
   "id": "df179388-fcfa-423a-8dab-4f75adaa3284",
   "metadata": {},
   "outputs": [
    {
     "name": "stdout",
     "output_type": "stream",
     "text": [
      "Results\n",
      "[('worldcupname', '2002 FIFA World Cup'), ('countStadium', '80')]\n",
      "[('worldcupname', '2018 FIFA World Cup'), ('countStadium', '24')]\n",
      "[('worldcupname', '2006 FIFA World Cup'), ('countStadium', '24')]\n",
      "[('worldcupname', '1958 FIFA World Cup'), ('countStadium', '24')]\n",
      "[('worldcupname', '2014 FIFA World Cup'), ('countStadium', '24')]\n",
      "[('worldcupname', '2010 FIFA World Cup'), ('countStadium', '22')]\n",
      "[('worldcupname', '1998 FIFA World Cup'), ('countStadium', '20')]\n",
      "[('worldcupname', '1982 FIFA World Cup'), ('countStadium', '17')]\n",
      "[('worldcupname', '1934 FIFA World Cup'), ('countStadium', '16')]\n",
      "[('worldcupname', '1966 FIFA World Cup'), ('countStadium', '16')]\n",
      "[('worldcupname', '1950 FIFA World Cup'), ('countStadium', '12')]\n",
      "[('worldcupname', '1954 FIFA World Cup'), ('countStadium', '12')]\n",
      "[('worldcupname', '1990 FIFA World Cup'), ('countStadium', '12')]\n",
      "[('worldcupname', '1986 FIFA World Cup'), ('countStadium', '12')]\n",
      "[('worldcupname', '1938 FIFA World Cup'), ('countStadium', '10')]\n",
      "[('worldcupname', '1970 FIFA World Cup'), ('countStadium', '10')]\n",
      "[('worldcupname', '1994 FIFA World Cup'), ('countStadium', '9')]\n",
      "[('worldcupname', '1930 FIFA World Cup'), ('countStadium', '6')]\n",
      "[('worldcupname', '1978 FIFA World Cup'), ('countStadium', '6')]\n",
      "[('worldcupname', '1962 FIFA World Cup'), ('countStadium', '4')]\n",
      "[('worldcupname', '1974 FIFA World Cup'), ('countStadium', '1')]\n"
     ]
    },
    {
     "data": {
      "text/plain": [
       "21"
      ]
     },
     "execution_count": 41,
     "metadata": {},
     "output_type": "execute_result"
    }
   ],
   "source": [
    "queryString = \"\"\"\n",
    "SELECT ?worldcupname (COUNT (?stadium) AS ?countStadium)\n",
    "WHERE { \n",
    "    wd:Q19317 wdt:P527 ?worldcup .\n",
    "    ?worldcup wdt:P3967 ?final .\n",
    "    ?final wdt:P1923 ?finalteams .\n",
    "    ?worldcup wdt:P17 ?country ;\n",
    "              wdt:P580 ?start ;\n",
    "              wdt:P582 ?end ;\n",
    "              wdt:P276 ?stadium .\n",
    "    ?stadium wdt:P17 ?stadiumcountry .\n",
    "    # Labels\n",
    "    #?p <http://schema.org/name> ?pname .\n",
    "    #?o <http://schema.org/name> ?oname .\n",
    "    ?country <http://schema.org/name> ?countryname .\n",
    "    ?worldcup <http://schema.org/name> ?worldcupname .\n",
    "    ?stadium <http://schema.org/name> ?stadiumname .\n",
    "    ?finalteams <http://schema.org/name> ?finalteamsname .\n",
    "    ?stadiumcountry <http://schema.org/name> ?stadiumcountryname .\n",
    "    #FILTER regex(?pname, \"location\", \"i\") \n",
    "} \n",
    "ORDER BY DESC (?countStadium)\n",
    "LIMIT 30\n",
    "\"\"\"\n",
    "\n",
    "print(\"Results\")\n",
    "run_query(queryString)"
   ]
  },
  {
   "cell_type": "markdown",
   "id": "6622b2c4-0a1b-492c-9681-a659ee28f0a4",
   "metadata": {},
   "source": [
    "## In which countries took place a FIFA world cup or world cup final? With how many participants?"
   ]
  },
  {
   "cell_type": "code",
   "execution_count": 42,
   "id": "a79029ed-50d1-4c70-9cac-50b18d2862fa",
   "metadata": {},
   "outputs": [
    {
     "name": "stdout",
     "output_type": "stream",
     "text": [
      "Results\n",
      "[('worldcupname', '1930 FIFA World Cup'), ('numparticipants', '13'), ('finalname', '1930 FIFA World Cup Final'), ('finalcountryname', 'Uruguay')]\n",
      "[('worldcupname', '1934 FIFA World Cup'), ('numparticipants', '16'), ('finalname', '1934 FIFA World Cup Final'), ('finalcountryname', 'Italy')]\n",
      "[('worldcupname', '1938 FIFA World Cup'), ('numparticipants', '15'), ('finalname', '1938 FIFA World Cup Final'), ('finalcountryname', 'France')]\n",
      "[('worldcupname', '1950 FIFA World Cup'), ('numparticipants', '13'), ('finalname', 'Uruguay v Brazil 1950'), ('finalcountryname', 'Brazil')]\n",
      "[('worldcupname', '1954 FIFA World Cup'), ('numparticipants', '16'), ('finalname', '1954 FIFA World Cup Final'), ('finalcountryname', 'Switzerland')]\n",
      "[('worldcupname', '1958 FIFA World Cup'), ('numparticipants', '16'), ('finalname', '1958 FIFA World Cup Final'), ('finalcountryname', 'Brazil')]\n",
      "[('worldcupname', '1962 FIFA World Cup'), ('numparticipants', '16'), ('finalname', '1962 FIFA World Cup Final'), ('finalcountryname', 'Brazil')]\n",
      "[('worldcupname', '1966 FIFA World Cup'), ('numparticipants', '16'), ('finalname', '1966 FIFA World Cup Final'), ('finalcountryname', 'United Kingdom')]\n",
      "[('worldcupname', '1970 FIFA World Cup'), ('numparticipants', '16'), ('finalname', '1970 FIFA World Cup Final'), ('finalcountryname', 'Mexico')]\n",
      "[('worldcupname', '1974 FIFA World Cup'), ('numparticipants', '16'), ('finalname', '1974 FIFA World Cup Final'), ('finalcountryname', 'Germany')]\n",
      "[('worldcupname', '1978 FIFA World Cup'), ('numparticipants', '16'), ('finalname', '1978 FIFA World Cup Final'), ('finalcountryname', 'Argentina')]\n",
      "[('worldcupname', '1982 FIFA World Cup'), ('numparticipants', '24'), ('finalname', '1982 FIFA World Cup Final'), ('finalcountryname', 'Spain')]\n",
      "[('worldcupname', '1986 FIFA World Cup'), ('numparticipants', '24'), ('finalname', '1986 FIFA World Cup Final'), ('finalcountryname', 'Argentina')]\n",
      "[('worldcupname', '1990 FIFA World Cup'), ('numparticipants', '24'), ('finalname', '1990 FIFA World Cup Final'), ('finalcountryname', 'Germany')]\n",
      "[('worldcupname', '1990 FIFA World Cup'), ('numparticipants', '24'), ('finalname', '1990 FIFA World Cup Final'), ('finalcountryname', 'Italy')]\n",
      "[('worldcupname', '1990 FIFA World Cup'), ('numparticipants', '24'), ('finalname', '1990 FIFA World Cup Final'), ('finalcountryname', 'Argentina')]\n",
      "[('worldcupname', '1994 FIFA World Cup'), ('numparticipants', '24'), ('finalname', '1994 FIFA World Cup Final'), ('finalcountryname', 'Brazil')]\n",
      "[('worldcupname', '1998 FIFA World Cup'), ('numparticipants', '32'), ('finalname', '1998 FIFA World Cup Final'), ('finalcountryname', 'France')]\n",
      "[('worldcupname', '2002 FIFA World Cup'), ('numparticipants', '33'), ('finalname', '2002 FIFA World Cup Final'), ('finalcountryname', 'Japan')]\n",
      "[('worldcupname', '2006 FIFA World Cup'), ('numparticipants', '32'), ('finalname', '2006 FIFA World Cup Final'), ('finalcountryname', 'Germany')]\n"
     ]
    },
    {
     "data": {
      "text/plain": [
       "20"
      ]
     },
     "execution_count": 42,
     "metadata": {},
     "output_type": "execute_result"
    }
   ],
   "source": [
    "queryString = \"\"\"\n",
    "SELECT DISTINCT ?worldcupname ?numparticipants ?finalname ?finalcountryname \n",
    "WHERE { \n",
    "    wd:Q19317 wdt:P527 ?worldcup .\n",
    "    ?worldcup wdt:P3967 ?final .\n",
    "    ?final wdt:P1923 ?finalteams ;\n",
    "            wdt:P17 ?finalcountry .\n",
    "    ?worldcup wdt:P17 ?country ;\n",
    "              wdt:P580 ?start ;\n",
    "              wdt:P582 ?end ;\n",
    "              wdt:P276 ?stadium ;\n",
    "              wdt:P1132 ?numparticipants .\n",
    "    ?stadium wdt:P17 ?stadiumcountry .\n",
    "    # Labels\n",
    "    #?p <http://schema.org/name> ?pname .\n",
    "    #?o <http://schema.org/name> ?oname .\n",
    "    ?country <http://schema.org/name> ?countryname .\n",
    "    ?worldcup <http://schema.org/name> ?worldcupname .\n",
    "    ?stadium <http://schema.org/name> ?stadiumname .\n",
    "    ?finalteams <http://schema.org/name> ?finalteamsname .\n",
    "    ?stadiumcountry <http://schema.org/name> ?stadiumcountryname .\n",
    "    ?final <http://schema.org/name> ?finalname .\n",
    "    ?finalcountry <http://schema.org/name> ?finalcountryname .\n",
    "    #FILTER regex(?pname, \"location\", \"i\") \n",
    "} \n",
    "ORDER BY ?start\n",
    "LIMIT 20\n",
    "\"\"\"\n",
    "\n",
    "print(\"Results\")\n",
    "run_query(queryString)"
   ]
  },
  {
   "cell_type": "markdown",
   "id": "b45d81f4-30dd-443b-98a2-5a7f147d95a3",
   "metadata": {},
   "source": [
    "## Compare number of participants and winners of different world cups."
   ]
  },
  {
   "cell_type": "code",
   "execution_count": 43,
   "id": "794fc65c-9b64-4f9a-9375-bda689d076f2",
   "metadata": {},
   "outputs": [
    {
     "name": "stdout",
     "output_type": "stream",
     "text": [
      "Results\n",
      "[('worldcupname', '1950 FIFA World Cup'), ('numparticipants', '13'), ('winnername', 'Uruguay national football team')]\n",
      "[('worldcupname', '1930 FIFA World Cup'), ('numparticipants', '13'), ('winnername', 'Uruguay national football team')]\n",
      "[('worldcupname', '1938 FIFA World Cup'), ('numparticipants', '15'), ('winnername', 'Italy national association football team')]\n",
      "[('worldcupname', '1966 FIFA World Cup'), ('numparticipants', '16'), ('winnername', 'England national association football team')]\n",
      "[('worldcupname', '1934 FIFA World Cup'), ('numparticipants', '16'), ('winnername', 'Italy national association football team')]\n",
      "[('worldcupname', '1958 FIFA World Cup'), ('numparticipants', '16'), ('winnername', 'Brazil national football team')]\n",
      "[('worldcupname', '1954 FIFA World Cup'), ('numparticipants', '16'), ('winnername', 'Germany national association football team')]\n",
      "[('worldcupname', '1970 FIFA World Cup'), ('numparticipants', '16'), ('winnername', 'Brazil national football team')]\n",
      "[('worldcupname', '1974 FIFA World Cup'), ('numparticipants', '16'), ('winnername', 'Germany national association football team')]\n",
      "[('worldcupname', '1962 FIFA World Cup'), ('numparticipants', '16'), ('winnername', 'Brazil national football team')]\n",
      "[('worldcupname', '1978 FIFA World Cup'), ('numparticipants', '16'), ('winnername', 'Argentina national football team')]\n",
      "[('worldcupname', '1994 FIFA World Cup'), ('numparticipants', '24'), ('winnername', 'Brazil national football team')]\n",
      "[('worldcupname', '1990 FIFA World Cup'), ('numparticipants', '24'), ('winnername', 'Germany national association football team')]\n",
      "[('worldcupname', '1982 FIFA World Cup'), ('numparticipants', '24'), ('winnername', 'Italy national association football team')]\n",
      "[('worldcupname', '1986 FIFA World Cup'), ('numparticipants', '24'), ('winnername', 'Argentina national football team')]\n",
      "[('worldcupname', '2006 FIFA World Cup'), ('numparticipants', '32'), ('winnername', 'Italy national association football team')]\n",
      "[('worldcupname', '2010 FIFA World Cup'), ('numparticipants', '32'), ('winnername', 'Spain national association football team')]\n",
      "[('worldcupname', '2014 FIFA World Cup'), ('numparticipants', '32'), ('winnername', 'Germany national association football team')]\n",
      "[('worldcupname', '2018 FIFA World Cup'), ('numparticipants', '32'), ('winnername', 'France national association football team')]\n",
      "[('worldcupname', '1998 FIFA World Cup'), ('numparticipants', '32'), ('winnername', 'France national association football team')]\n"
     ]
    },
    {
     "data": {
      "text/plain": [
       "20"
      ]
     },
     "execution_count": 43,
     "metadata": {},
     "output_type": "execute_result"
    }
   ],
   "source": [
    "queryString = \"\"\"\n",
    "SELECT ?worldcupname ?numparticipants ?winnername\n",
    "WHERE { \n",
    "    wd:Q19317 wdt:P527 ?worldcup .\n",
    "    ?worldcup wdt:P580 ?start ;\n",
    "         wdt:P582 ?end ;\n",
    "         wdt:P1350 ?matches ;\n",
    "         wdt:P1923 ?teams ; \n",
    "         wdt:P1346 ?winner ; \n",
    "         wdt:P1351 ?numgoal ; \n",
    "         wdt:P1132 ?numparticipants .\n",
    "    # Labels\n",
    "    ?worldcup <http://schema.org/name> ?worldcupname .\n",
    "    ?teams <http://schema.org/name> ?teamsname .\n",
    "    ?winner <http://schema.org/name> ?winnername .\n",
    "} \n",
    "GROUP BY ?worldcupname\n",
    "ORDER BY ASC(?numparticipants)\n",
    "LIMIT 20\n",
    "\"\"\"\n",
    "\n",
    "print(\"Results\")\n",
    "run_query(queryString)"
   ]
  },
  {
   "cell_type": "code",
   "execution_count": 44,
   "id": "0899b780-ccca-4342-8fdc-084249af6669",
   "metadata": {},
   "outputs": [
    {
     "name": "stdout",
     "output_type": "stream",
     "text": [
      "Results\n",
      "[('worldcupname', '1930 FIFA World Cup'), ('winnername', 'Uruguay national football team'), ('winnercountryname', 'Uruguay')]\n",
      "[('worldcupname', '1934 FIFA World Cup'), ('winnername', 'Italy national association football team'), ('winnercountryname', 'Italy')]\n",
      "[('worldcupname', '1938 FIFA World Cup'), ('winnername', 'Italy national association football team'), ('winnercountryname', 'Italy')]\n",
      "[('worldcupname', '1950 FIFA World Cup'), ('winnername', 'Uruguay national football team'), ('winnercountryname', 'Uruguay')]\n",
      "[('worldcupname', '1954 FIFA World Cup'), ('winnername', 'Germany national association football team'), ('winnercountryname', 'Germany')]\n",
      "[('worldcupname', '1958 FIFA World Cup'), ('winnername', 'Brazil national football team'), ('winnercountryname', 'Brazil')]\n",
      "[('worldcupname', '1962 FIFA World Cup'), ('winnername', 'Brazil national football team'), ('winnercountryname', 'Brazil')]\n",
      "[('worldcupname', '1966 FIFA World Cup'), ('winnername', 'England national association football team'), ('winnercountryname', 'United Kingdom')]\n",
      "[('worldcupname', '1970 FIFA World Cup'), ('winnername', 'Brazil national football team'), ('winnercountryname', 'Brazil')]\n",
      "[('worldcupname', '1974 FIFA World Cup'), ('winnername', 'Germany national association football team'), ('winnercountryname', 'Germany')]\n",
      "[('worldcupname', '1978 FIFA World Cup'), ('winnername', 'Argentina national football team'), ('winnercountryname', 'Argentina')]\n",
      "[('worldcupname', '1982 FIFA World Cup'), ('winnername', 'Italy national association football team'), ('winnercountryname', 'Italy')]\n",
      "[('worldcupname', '1986 FIFA World Cup'), ('winnername', 'Argentina national football team'), ('winnercountryname', 'Argentina')]\n",
      "[('worldcupname', '1990 FIFA World Cup'), ('winnername', 'Germany national association football team'), ('winnercountryname', 'Germany')]\n",
      "[('worldcupname', '1994 FIFA World Cup'), ('winnername', 'Brazil national football team'), ('winnercountryname', 'Brazil')]\n",
      "[('worldcupname', '1998 FIFA World Cup'), ('winnername', 'France national association football team'), ('winnercountryname', 'France')]\n",
      "[('worldcupname', '2002 FIFA World Cup'), ('winnername', 'Brazil national football team'), ('winnercountryname', 'Brazil')]\n",
      "[('worldcupname', '2006 FIFA World Cup'), ('winnername', 'Italy national association football team'), ('winnercountryname', 'Italy')]\n",
      "[('worldcupname', '2010 FIFA World Cup'), ('winnername', 'Spain national association football team'), ('winnercountryname', 'Spain')]\n",
      "[('worldcupname', '2014 FIFA World Cup'), ('winnername', 'Germany national association football team'), ('winnercountryname', 'Germany')]\n"
     ]
    },
    {
     "data": {
      "text/plain": [
       "20"
      ]
     },
     "execution_count": 44,
     "metadata": {},
     "output_type": "execute_result"
    }
   ],
   "source": [
    "queryString = \"\"\"\n",
    "SELECT DISTINCT ?worldcupname ?winnername ?winnercountryname\n",
    "WHERE { \n",
    "    wd:Q19317 wdt:P527 ?worldcup .\n",
    "    ?worldcup wdt:P1346 ?winner ;\n",
    "            wdt:P580 ?start ;\n",
    "            wdt:P582 ?end .\n",
    "    ?winner wdt:P17 ?winnercountry .       \n",
    "    # Labels\n",
    "    #?p <http://schema.org/name> ?pname .\n",
    "    #?o <http://schema.org/name> ?oname .\n",
    "    ?worldcup <http://schema.org/name> ?worldcupname .\n",
    "    ?winner <http://schema.org/name> ?winnername .\n",
    "    ?winnercountry <http://schema.org/name> ?winnercountryname .\n",
    "    \n",
    "} \n",
    "ORDER BY ?start\n",
    "LIMIT 20\n",
    "\"\"\"\n",
    "\n",
    "print(\"Results\")\n",
    "run_query(queryString)"
   ]
  },
  {
   "cell_type": "markdown",
   "id": "bf345f53-333c-4864-88b0-7e61d44f7dc1",
   "metadata": {},
   "source": [
    "### How many times each country participated in a world cup?"
   ]
  },
  {
   "cell_type": "code",
   "execution_count": 45,
   "id": "08683b87-ee78-47af-bc19-37431bd59a48",
   "metadata": {},
   "outputs": [
    {
     "name": "stdout",
     "output_type": "stream",
     "text": [
      "Results\n",
      "[('team', 'http://www.wikidata.org/entity/Q134916'), ('teamname', 'Uruguay national football team')]\n",
      "[('team', 'http://www.wikidata.org/entity/Q181190'), ('teamname', 'Bosnia and Herzegovina national football team')]\n",
      "[('team', 'http://www.wikidata.org/entity/Q170327'), ('teamname', 'South Africa national football team')]\n",
      "[('team', 'http://www.wikidata.org/entity/Q186243'), ('teamname', 'Iraq national football team')]\n",
      "[('team', 'http://www.wikidata.org/entity/Q191406'), ('teamname', 'Israel national football team')]\n",
      "[('team', 'http://www.wikidata.org/entity/Q14132'), ('teamname', 'North Korea national football team')]\n",
      "[('team', 'http://www.wikidata.org/entity/Q175145'), ('teamname', 'Ivory Coast national football team')]\n",
      "[('team', 'http://www.wikidata.org/entity/Q180187'), ('teamname', 'Honduras national football team')]\n",
      "[('team', 'http://www.wikidata.org/entity/Q130582'), ('teamname', 'China national football team')]\n",
      "[('team', 'http://www.wikidata.org/entity/Q194387'), ('teamname', 'Costa Rica national football team')]\n",
      "[('team', 'http://www.wikidata.org/entity/Q3589644'), ('teamname', \"Algeria A' national football team\")]\n",
      "[('team', 'http://www.wikidata.org/entity/Q4127957'), ('teamname', 'Northern Ireland B national football team')]\n",
      "[('team', 'http://www.wikidata.org/entity/Q172221'), ('teamname', 'Slovenia national football team')]\n",
      "[('team', 'http://www.wikidata.org/entity/Q6066735'), ('teamname', 'Iran B national football team')]\n",
      "[('team', 'http://www.wikidata.org/entity/Q236006'), ('teamname', 'Haiti national football team')]\n",
      "[('team', 'http://www.wikidata.org/entity/Q775805'), ('teamname', \"Italy women's national football team\")]\n",
      "[('team', 'http://www.wikidata.org/entity/Q23830553'), ('teamname', 'Spain B national football team')]\n",
      "[('team', 'http://www.wikidata.org/entity/Q212166'), ('teamname', 'Peru national football team')]\n",
      "[('team', 'http://www.wikidata.org/entity/Q55773793'), ('teamname', 'United Arab Republic national football team')]\n",
      "[('team', 'http://www.wikidata.org/entity/Q206828'), ('teamname', 'Kuwait national football team')]\n"
     ]
    },
    {
     "data": {
      "text/plain": [
       "20"
      ]
     },
     "execution_count": 45,
     "metadata": {},
     "output_type": "execute_result"
    }
   ],
   "source": [
    "queryString = \"\"\"\n",
    "SELECT DISTINCT ?team ?teamname \n",
    "WHERE { \n",
    "\n",
    "   ?team wdt:P279 wd:Q6979593 .\n",
    "    # Labels\n",
    "    ?team <http://schema.org/name> ?teamname .\n",
    "\n",
    "    FILTER regex(?teamname, \"national football team\", \"i\") \n",
    "} \n",
    "LIMIT 20\n",
    "\"\"\"\n",
    "print(\"Results\")\n",
    "run_query(queryString)"
   ]
  },
  {
   "cell_type": "code",
   "execution_count": 46,
   "id": "18b6609d-2605-4b46-91a9-bd403301bf10",
   "metadata": {},
   "outputs": [
    {
     "name": "stdout",
     "output_type": "stream",
     "text": [
      "Results\n",
      "[('teamsname', 'Brazil national football team'), ('countworldcup', '20')]\n",
      "[('teamsname', 'Italy national association football team'), ('countworldcup', '18')]\n",
      "[('teamsname', 'Germany national association football team'), ('countworldcup', '18')]\n",
      "[('teamsname', 'Argentina national football team'), ('countworldcup', '16')]\n",
      "[('teamsname', 'Mexico national football team'), ('countworldcup', '15')]\n",
      "[('teamsname', 'France national association football team'), ('countworldcup', '14')]\n",
      "[('teamsname', 'Spain national association football team'), ('countworldcup', '14')]\n",
      "[('teamsname', 'England national association football team'), ('countworldcup', '14')]\n",
      "[('teamsname', 'Belgium national football team'), ('countworldcup', '12')]\n",
      "[('teamsname', 'Uruguay national football team'), ('countworldcup', '12')]\n",
      "[('teamsname', 'Sweden national association football team'), ('countworldcup', '11')]\n",
      "[('teamsname', \"United States men's national soccer team\"), ('countworldcup', '10')]\n",
      "[('teamsname', 'Swiss national football team'), ('countworldcup', '10')]\n",
      "[('teamsname', 'Netherlands national association football team'), ('countworldcup', '10')]\n",
      "[('teamsname', 'South Korea national football team'), ('countworldcup', '9')]\n",
      "[('teamsname', 'Chile national football team'), ('countworldcup', '9')]\n",
      "[('teamsname', 'Hungary national association football team'), ('countworldcup', '9')]\n",
      "[('teamsname', 'Paraguay national football team'), ('countworldcup', '8')]\n",
      "[('teamsname', 'Yugoslavia national association football team'), ('countworldcup', '8')]\n",
      "[('teamsname', 'Scotland national football team'), ('countworldcup', '8')]\n",
      "[('teamsname', 'Czechoslovakia national association football team'), ('countworldcup', '8')]\n",
      "[('teamsname', 'Soviet Union national association football team'), ('countworldcup', '7')]\n",
      "[('teamsname', 'Bulgaria national football team'), ('countworldcup', '7')]\n",
      "[('teamsname', 'Cameroon national football team'), ('countworldcup', '7')]\n",
      "[('teamsname', 'Poland national association football team'), ('countworldcup', '7')]\n",
      "[('teamsname', 'Austria national association football team'), ('countworldcup', '7')]\n",
      "[('teamsname', 'Romania national association football team'), ('countworldcup', '7')]\n",
      "[('teamsname', 'Portugal national association football team'), ('countworldcup', '6')]\n",
      "[('teamsname', 'Japan national football team'), ('countworldcup', '5')]\n",
      "[('teamsname', 'Colombia national football team'), ('countworldcup', '5')]\n",
      "[('teamsname', 'Nigeria national football team'), ('countworldcup', '5')]\n",
      "[('teamsname', 'Iran national football team'), ('countworldcup', '4')]\n",
      "[('teamsname', 'Saudi Arabia national football team'), ('countworldcup', '4')]\n",
      "[('teamsname', 'Australia national association football team'), ('countworldcup', '4')]\n",
      "[('teamsname', 'Morocco national football team'), ('countworldcup', '4')]\n",
      "[('teamsname', 'Peru national football team'), ('countworldcup', '4')]\n",
      "[('teamsname', 'Croatia national association football team'), ('countworldcup', '4')]\n",
      "[('teamsname', 'Denmark national association football team'), ('countworldcup', '4')]\n",
      "[('teamsname', 'Algeria national football team'), ('countworldcup', '4')]\n",
      "[('teamsname', 'Tunisia national football team'), ('countworldcup', '4')]\n"
     ]
    },
    {
     "data": {
      "text/plain": [
       "40"
      ]
     },
     "execution_count": 46,
     "metadata": {},
     "output_type": "execute_result"
    }
   ],
   "source": [
    "\n",
    "queryString = \"\"\"\n",
    "SELECT ?teamsname (COUNT(DISTINCT ?worldcup) AS ?countworldcup)\n",
    "WHERE { \n",
    "    wd:Q19317 wdt:P527 ?worldcup .\n",
    "    ?worldcup wdt:P1923 ?teams .\n",
    "    ?teams wdt:P17 ?teamscountry .\n",
    "    # Labels\n",
    "    #?worldcup <http://schema.org/name> ?worldcupname \n",
    "    ?teams <http://schema.org/name> ?teamsname .\n",
    "} \n",
    "ORDER BY DESC (?countworldcup)\n",
    "LIMIT 40\n",
    "\"\"\"\n",
    "\n",
    "print(\"Results\")\n",
    "run_query(queryString)"
   ]
  },
  {
   "cell_type": "markdown",
   "id": "a05350e7-43ff-4721-9942-bcc32e02f733",
   "metadata": {},
   "source": [
    "### Which country participated in the most finals? Which country won the most finals?\n",
    "#### Who participated in the most world cups among Italy, France, Spain, and Germany?"
   ]
  },
  {
   "cell_type": "code",
   "execution_count": 47,
   "id": "447ca4cb-2c32-4ceb-b85b-de9be6a98452",
   "metadata": {},
   "outputs": [
    {
     "name": "stdout",
     "output_type": "stream",
     "text": [
      "Results\n",
      "[('finalteamscountryname', 'Germany'), ('countfinal', '6')]\n",
      "[('finalteamscountryname', 'Brazil'), ('countfinal', '5')]\n",
      "[('finalteamscountryname', 'Italy'), ('countfinal', '4')]\n",
      "[('finalteamscountryname', 'Argentina'), ('countfinal', '3')]\n",
      "[('finalteamscountryname', 'Uruguay'), ('countfinal', '2')]\n",
      "[('finalteamscountryname', 'Netherlands'), ('countfinal', '2')]\n",
      "[('finalteamscountryname', 'France'), ('countfinal', '2')]\n",
      "[('finalteamscountryname', 'Hungary'), ('countfinal', '2')]\n",
      "[('finalteamscountryname', 'Czechoslovakia'), ('countfinal', '2')]\n",
      "[('finalteamscountryname', 'United Kingdom'), ('countfinal', '2')]\n",
      "[('finalteamscountryname', 'Spain'), ('countfinal', '1')]\n",
      "[('finalteamscountryname', 'Sweden'), ('countfinal', '1')]\n"
     ]
    },
    {
     "data": {
      "text/plain": [
       "12"
      ]
     },
     "execution_count": 47,
     "metadata": {},
     "output_type": "execute_result"
    }
   ],
   "source": [
    "queryString = \"\"\"\n",
    "SELECT ?finalteamscountryname (COUNT (?final) AS ?countfinal)\n",
    "WHERE { \n",
    "    wd:Q19317 wdt:P527 ?worldcup .\n",
    "    ?worldcup wdt:P3967 ?final .\n",
    "    ?final wdt:P1923 ?finalteams .\n",
    "    ?finalteams wdt:P17 ?finalteamscountry .\n",
    "    # Labels\n",
    "\n",
    "    ?worldcup <http://schema.org/name> ?worldcupname .\n",
    "    ?finalteams <http://schema.org/name> ?finalteamsname .\n",
    "    ?final <http://schema.org/name> ?finalname .\n",
    "    ?finalteamscountry <http://schema.org/name> ?finalteamscountryname .\n",
    "    #FILTER regex(?pname, \"location\", \"i\") \n",
    "} \n",
    "ORDER BY DESC (?countfinal)\n",
    "LIMIT 20\n",
    "\"\"\"\n",
    "\n",
    "print(\"Results\")\n",
    "run_query(queryString)"
   ]
  },
  {
   "cell_type": "markdown",
   "id": "4964dd2c-6b30-4c6c-a9b9-52b11a48f8eb",
   "metadata": {},
   "source": [
    "## How many world cups we had generally?"
   ]
  },
  {
   "cell_type": "code",
   "execution_count": 48,
   "id": "e99a0f15-a3d5-443a-8e58-95f6f286dcea",
   "metadata": {},
   "outputs": [
    {
     "name": "stdout",
     "output_type": "stream",
     "text": [
      "Results\n",
      "[('countworldcup', '21')]\n"
     ]
    },
    {
     "data": {
      "text/plain": [
       "1"
      ]
     },
     "execution_count": 48,
     "metadata": {},
     "output_type": "execute_result"
    }
   ],
   "source": [
    "## how many world cups we have generally?\n",
    "queryString = \"\"\"\n",
    "SELECT COUNT (?worldcup) AS ?countworldcup\n",
    "WHERE { \n",
    "    wd:Q19317 wdt:P527 ?worldcup .\n",
    "    ?worldcup wdt:P580 ?start ;\n",
    "              wdt:P582 ?end .\n",
    "    # Labels\n",
    "    ?worldcup <http://schema.org/name> ?worldcupname .\n",
    "    FILTER(?end < \"2022-02-15\"^^xsd:dateTime) .\n",
    "} \n",
    "\n",
    "LIMIT 20\n",
    "\"\"\"\n",
    "\n",
    "print(\"Results\")\n",
    "run_query(queryString)"
   ]
  },
  {
   "cell_type": "code",
   "execution_count": 49,
   "id": "570f5fd6-b277-46b9-9bcf-7d861243e0af",
   "metadata": {},
   "outputs": [
    {
     "name": "stdout",
     "output_type": "stream",
     "text": [
      "Results\n",
      "[('countfinal', '21')]\n"
     ]
    },
    {
     "data": {
      "text/plain": [
       "1"
      ]
     },
     "execution_count": 49,
     "metadata": {},
     "output_type": "execute_result"
    }
   ],
   "source": [
    "## how many finals we had during the history of world cup?(becuase some of the world cups were cancel because of world war.)\n",
    "queryString = \"\"\"\n",
    "SELECT COUNT (?final) AS ?countfinal\n",
    "WHERE { \n",
    "    wd:Q19317 wdt:P527 ?worldcup .\n",
    "    ?worldcup wdt:P3967 ?final .\n",
    "\n",
    "} \n",
    "\n",
    "LIMIT 20\n",
    "\"\"\"\n",
    "\n",
    "print(\"Results\")\n",
    "run_query(queryString)"
   ]
  },
  {
   "cell_type": "code",
   "execution_count": 50,
   "id": "9b883d92-04d8-4712-84b1-ccff084e556e",
   "metadata": {},
   "outputs": [
    {
     "name": "stdout",
     "output_type": "stream",
     "text": [
      "Results\n",
      "[('worldcupname', '1930 FIFA World Cup'), ('finalname', '1930 FIFA World Cup Final')]\n",
      "[('worldcupname', '1934 FIFA World Cup'), ('finalname', '1934 FIFA World Cup Final')]\n",
      "[('worldcupname', '1938 FIFA World Cup'), ('finalname', '1938 FIFA World Cup Final')]\n",
      "[('worldcupname', '1950 FIFA World Cup'), ('finalname', 'Uruguay v Brazil 1950')]\n",
      "[('worldcupname', '1954 FIFA World Cup'), ('finalname', '1954 FIFA World Cup Final')]\n",
      "[('worldcupname', '1958 FIFA World Cup'), ('finalname', '1958 FIFA World Cup Final')]\n",
      "[('worldcupname', '1962 FIFA World Cup'), ('finalname', '1962 FIFA World Cup Final')]\n",
      "[('worldcupname', '1966 FIFA World Cup'), ('finalname', '1966 FIFA World Cup Final')]\n",
      "[('worldcupname', '1970 FIFA World Cup'), ('finalname', '1970 FIFA World Cup Final')]\n",
      "[('worldcupname', '1974 FIFA World Cup'), ('finalname', '1974 FIFA World Cup Final')]\n",
      "[('worldcupname', '1978 FIFA World Cup'), ('finalname', '1978 FIFA World Cup Final')]\n",
      "[('worldcupname', '1982 FIFA World Cup'), ('finalname', '1982 FIFA World Cup Final')]\n",
      "[('worldcupname', '1986 FIFA World Cup'), ('finalname', '1986 FIFA World Cup Final')]\n",
      "[('worldcupname', '1990 FIFA World Cup'), ('finalname', '1990 FIFA World Cup Final')]\n",
      "[('worldcupname', '1994 FIFA World Cup'), ('finalname', '1994 FIFA World Cup Final')]\n",
      "[('worldcupname', '1998 FIFA World Cup'), ('finalname', '1998 FIFA World Cup Final')]\n",
      "[('worldcupname', '2002 FIFA World Cup'), ('finalname', '2002 FIFA World Cup Final')]\n",
      "[('worldcupname', '2006 FIFA World Cup'), ('finalname', '2006 FIFA World Cup Final')]\n",
      "[('worldcupname', '2010 FIFA World Cup'), ('finalname', '2010 FIFA World Cup Final')]\n",
      "[('worldcupname', '2014 FIFA World Cup'), ('finalname', '2014 FIFA World Cup Final')]\n",
      "[('worldcupname', '2018 FIFA World Cup'), ('finalname', '2018 FIFA World Cup Final')]\n"
     ]
    },
    {
     "data": {
      "text/plain": [
       "21"
      ]
     },
     "execution_count": 50,
     "metadata": {},
     "output_type": "execute_result"
    }
   ],
   "source": [
    "## how many finals we had during the history of world cup?\n",
    "queryString = \"\"\"\n",
    "SELECT ?worldcupname ?finalname\n",
    "WHERE { \n",
    "    wd:Q19317 wdt:P527 ?worldcup .\n",
    "    ?worldcup wdt:P3967 ?final ;\n",
    "            wdt:P580 ?start ;\n",
    "            wdt:P582 ?end .\n",
    "    \n",
    "        # Labels\n",
    "    ?worldcup <http://schema.org/name> ?worldcupname .\n",
    "    ?final <http://schema.org/name> ?finalname .\n",
    "} \n",
    "ORDER BY (?start)\n",
    "LIMIT 25\n",
    "\"\"\"\n",
    "\n",
    "print(\"Results\")\n",
    "run_query(queryString)"
   ]
  },
  {
   "cell_type": "code",
   "execution_count": 51,
   "id": "62b0e7c8-2092-482d-9562-e9fb7c8eb5a6",
   "metadata": {},
   "outputs": [
    {
     "name": "stdout",
     "output_type": "stream",
     "text": [
      "Results\n",
      "[('worldcupname', '1934 FIFA World Cup'), ('matches', '17'), ('worldcup', 'http://www.wikidata.org/entity/Q1477177')]\n",
      "[('worldcupname', '1938 FIFA World Cup'), ('matches', '18'), ('worldcup', 'http://www.wikidata.org/entity/Q131591')]\n",
      "[('worldcupname', '1930 FIFA World Cup'), ('matches', '18'), ('worldcup', 'http://www.wikidata.org/entity/Q48432')]\n",
      "[('worldcupname', '1950 FIFA World Cup'), ('matches', '22'), ('worldcup', 'http://www.wikidata.org/entity/Q132515')]\n",
      "[('worldcupname', '1954 FIFA World Cup'), ('matches', '26'), ('worldcup', 'http://www.wikidata.org/entity/Q131075')]\n",
      "[('worldcupname', '1970 FIFA World Cup'), ('matches', '32'), ('worldcup', 'http://www.wikidata.org/entity/Q132664')]\n",
      "[('worldcupname', '1966 FIFA World Cup'), ('matches', '32'), ('worldcup', 'http://www.wikidata.org/entity/Q134202')]\n",
      "[('worldcupname', '1962 FIFA World Cup'), ('matches', '32'), ('worldcup', 'http://www.wikidata.org/entity/Q160813')]\n",
      "[('worldcupname', '1958 FIFA World Cup'), ('matches', '35'), ('worldcup', 'http://www.wikidata.org/entity/Q132533')]\n",
      "[('worldcupname', '1974 FIFA World Cup'), ('matches', '38'), ('worldcup', 'http://www.wikidata.org/entity/Q166121')]\n",
      "[('worldcupname', '1978 FIFA World Cup'), ('matches', '38'), ('worldcup', 'http://www.wikidata.org/entity/Q46943')]\n",
      "[('worldcupname', '1986 FIFA World Cup'), ('matches', '52'), ('worldcup', 'http://www.wikidata.org/entity/Q46938')]\n",
      "[('worldcupname', '1994 FIFA World Cup'), ('matches', '52'), ('worldcup', 'http://www.wikidata.org/entity/Q101751')]\n",
      "[('worldcupname', '1982 FIFA World Cup'), ('matches', '52'), ('worldcup', 'http://www.wikidata.org/entity/Q46934')]\n",
      "[('worldcupname', '1990 FIFA World Cup'), ('matches', '52'), ('worldcup', 'http://www.wikidata.org/entity/Q132529')]\n",
      "[('worldcupname', '2010 FIFA World Cup'), ('matches', '64'), ('worldcup', 'http://www.wikidata.org/entity/Q176883')]\n",
      "[('worldcupname', '2006 FIFA World Cup'), ('matches', '64'), ('worldcup', 'http://www.wikidata.org/entity/Q37285')]\n",
      "[('worldcupname', '2014 FIFA World Cup'), ('matches', '64'), ('worldcup', 'http://www.wikidata.org/entity/Q79859')]\n",
      "[('worldcupname', '2018 FIFA World Cup'), ('matches', '64'), ('worldcup', 'http://www.wikidata.org/entity/Q170645')]\n",
      "[('worldcupname', '2002 FIFA World Cup'), ('matches', '64'), ('worldcup', 'http://www.wikidata.org/entity/Q47735')]\n",
      "[('worldcupname', '1998 FIFA World Cup'), ('matches', '64'), ('worldcup', 'http://www.wikidata.org/entity/Q101730')]\n"
     ]
    },
    {
     "data": {
      "text/plain": [
       "21"
      ]
     },
     "execution_count": 51,
     "metadata": {},
     "output_type": "execute_result"
    }
   ],
   "source": [
    "# which world cup had zero matches and it was cancelled? \n",
    "queryString = \"\"\"\n",
    "SELECT ?worldcupname ?matches ?worldcup\n",
    "WHERE { \n",
    "    wd:Q19317 wdt:P527 ?worldcup .\n",
    "    ?worldcup wdt:P580 ?start ;\n",
    "         wdt:P582 ?end ;\n",
    "         wdt:P1350 ?matches ;\n",
    "         wdt:P1923 ?teams ; \n",
    "         wdt:P1346 ?winner ; \n",
    "         wdt:P1351 ?numgoal ; \n",
    "         wdt:P1132 ?numparticipants .\n",
    "    # Labels\n",
    "    ?worldcup <http://schema.org/name> ?worldcupname .\n",
    "    ?teams <http://schema.org/name> ?teamsname .\n",
    "    ?winner <http://schema.org/name> ?winnername .\n",
    "} \n",
    "GROUP BY ?worldcupname\n",
    "ORDER BY ASC(?matches)\n",
    "LIMIT 30\n",
    "\"\"\"\n",
    "\n",
    "print(\"Results\")\n",
    "run_query(queryString)"
   ]
  },
  {
   "cell_type": "markdown",
   "id": "cb04cb8a-031e-439f-82f6-f84f29473f33",
   "metadata": {},
   "source": [
    "### Which world cup was cancelled? "
   ]
  },
  {
   "cell_type": "code",
   "execution_count": 52,
   "id": "04720dea-2ac4-44ca-86af-1099ac5fbfa6",
   "metadata": {},
   "outputs": [
    {
     "name": "stdout",
     "output_type": "stream",
     "text": [
      "Results\n",
      "[('worldcup', 'http://www.wikidata.org/entity/Q203851'), ('p', 'http://www.wikidata.org/prop/direct/P31'), ('o', 'http://www.wikidata.org/entity/Q107745632'), ('worldcupname', '1942 FIFA World Cup'), ('oname', 'cancelled event due World War II')]\n",
      "[('worldcup', 'http://www.wikidata.org/entity/Q65273310'), ('p', 'http://www.wikidata.org/prop/direct/P31'), ('o', 'http://www.wikidata.org/entity/Q107745632'), ('worldcupname', '1946 FIFA World Cup'), ('oname', 'cancelled event due World War II')]\n"
     ]
    },
    {
     "data": {
      "text/plain": [
       "2"
      ]
     },
     "execution_count": 52,
     "metadata": {},
     "output_type": "execute_result"
    }
   ],
   "source": [
    "# which world cup was cancelled? \n",
    "queryString = \"\"\"\n",
    "SELECT *\n",
    "WHERE { \n",
    "    wd:Q19317 wdt:P527 ?worldcup .\n",
    "    ?worldcup ?p ?o .\n",
    "    # Labels\n",
    "    ?worldcup <http://schema.org/name> ?worldcupname .\n",
    "    ?o <http://schema.org/name> ?oname .\n",
    "    FILTER regex(?oname, \"canc\", \"i\") .\n",
    "\n",
    "} \n",
    "LIMIT 40\n",
    "\"\"\"\n",
    "\n",
    "print(\"Results\")\n",
    "run_query(queryString)"
   ]
  },
  {
   "cell_type": "markdown",
   "id": "25a27830-f3a3-45b1-b3fc-96d3848a62f2",
   "metadata": {},
   "source": [
    "## What was the duration of both world wars?\n"
   ]
  },
  {
   "cell_type": "code",
   "execution_count": 53,
   "id": "d97ef457-551a-4603-9f59-9912e7917a96",
   "metadata": {},
   "outputs": [
    {
     "name": "stdout",
     "output_type": "stream",
     "text": [
      "Results\n",
      "[('p', 'http://www.wikidata.org/prop/direct/P664'), ('o', 'http://www.wikidata.org/entity/Q253414'), ('pname', 'organizer'), ('oname', 'FIFA')]\n",
      "[('p', 'http://www.wikidata.org/prop/direct/P31'), ('o', 'http://www.wikidata.org/entity/Q107745632'), ('pname', 'instance of'), ('oname', 'cancelled event due World War II')]\n",
      "[('p', 'http://www.wikidata.org/prop/direct/P31'), ('o', 'http://www.wikidata.org/entity/Q27020041'), ('pname', 'instance of'), ('oname', 'sports season')]\n",
      "[('p', 'http://www.wikidata.org/prop/direct/P641'), ('o', 'http://www.wikidata.org/entity/Q2736'), ('pname', 'sport'), ('oname', 'association football')]\n",
      "[('p', 'http://www.wikidata.org/prop/direct/P2094'), ('o', 'http://www.wikidata.org/entity/Q31930761'), ('pname', 'competition class'), ('oname', \"men's association football\")]\n",
      "[('p', 'http://www.wikidata.org/prop/direct/P3450'), ('o', 'http://www.wikidata.org/entity/Q19317'), ('pname', 'sports season of league or competition'), ('oname', 'FIFA World Cup')]\n"
     ]
    },
    {
     "data": {
      "text/plain": [
       "6"
      ]
     },
     "execution_count": 53,
     "metadata": {},
     "output_type": "execute_result"
    }
   ],
   "source": [
    "queryString = \"\"\"\n",
    "SELECT *\n",
    "WHERE { \n",
    "\n",
    "    wd:Q203851 ?p ?o .\n",
    "    # Labels\n",
    "    ?p <http://schema.org/name> ?pname .\n",
    "    ?o <http://schema.org/name> ?oname .\n",
    "    #FILTER regex(?pname, \"ww\", \"i\") \n",
    "} \n",
    "LIMIT 20\n",
    "\"\"\"\n",
    "\n",
    "print(\"Results\")\n",
    "run_query(queryString)"
   ]
  },
  {
   "cell_type": "code",
   "execution_count": 54,
   "id": "17a3d2d6-11fd-494e-ba66-ac63dff30c98",
   "metadata": {},
   "outputs": [
    {
     "name": "stdout",
     "output_type": "stream",
     "text": [
      "Results\n",
      "[('p', 'http://www.wikidata.org/entity/Q25536122'), ('o', 'http://www.w3.org/2002/07/owl#sameAs')]\n",
      "[('p', 'http://www.wikidata.org/entity/Q19317'), ('o', 'http://www.wikidata.org/prop/direct/P527')]\n",
      "[('p', 'https://www.wikidata.org/wiki/Special:EntityData/Q203851'), ('o', 'http://schema.org/about')]\n"
     ]
    },
    {
     "data": {
      "text/plain": [
       "3"
      ]
     },
     "execution_count": 54,
     "metadata": {},
     "output_type": "execute_result"
    }
   ],
   "source": [
    "queryString = \"\"\"\n",
    "SELECT *\n",
    "WHERE { \n",
    "\n",
    "    ?p ?o wd:Q203851 .\n",
    "    # Labels\n",
    "    #?p <http://schema.org/name> ?pname .\n",
    "    #?o <http://schema.org/name> ?oname .\n",
    "    #FILTER regex(?pname, \"ww\", \"i\") \n",
    "} \n",
    "LIMIT 20\n",
    "\"\"\"\n",
    "\n",
    "print(\"Results\")\n",
    "run_query(queryString)"
   ]
  },
  {
   "cell_type": "code",
   "execution_count": 55,
   "id": "2e7f88ec-66d3-4693-bf9b-a7d892e58868",
   "metadata": {},
   "outputs": [
    {
     "name": "stdout",
     "output_type": "stream",
     "text": [
      "Results\n",
      "[('p', 'http://www.w3.org/1999/02/22-rdf-syntax-ns#type'), ('o', 'http://wikiba.se/ontology#Item')]\n",
      "[('p', 'http://www.wikidata.org/prop/direct/P1269'), ('o', 'http://www.wikidata.org/entity/Q362')]\n",
      "[('p', 'http://www.wikidata.org/prop/direct/P279'), ('o', 'http://www.wikidata.org/entity/Q107028274')]\n",
      "[('p', 'http://www.wikidata.org/prop/direct/P31'), ('o', 'http://www.wikidata.org/entity/Q107028274')]\n",
      "[('p', 'http://www.wikidata.org/prop/direct/P828'), ('o', 'http://www.wikidata.org/entity/Q362')]\n",
      "[('p', 'http://schema.org/name'), ('o', 'cancelled event due World War II')]\n"
     ]
    },
    {
     "data": {
      "text/plain": [
       "6"
      ]
     },
     "execution_count": 55,
     "metadata": {},
     "output_type": "execute_result"
    }
   ],
   "source": [
    "# http://www.wikidata.org/entity/Q107745632 cancelled event due World War II\n",
    "# [('p', 'http://www.wikidata.org/prop/direct/P31'), \n",
    "# ('o', 'http://www.wikidata.org/entity/Q107745632'), ('pname', 'instance of'), ('oname', 'cancelled event due World War II')]\n",
    "queryString = \"\"\"\n",
    "SELECT *\n",
    "WHERE { \n",
    "\n",
    "    wd:Q107745632 ?p ?o .\n",
    "    # Labels\n",
    "    #?p <http://schema.org/name> ?pname .\n",
    "    #?o <http://schema.org/name> ?oname .\n",
    "    #FILTER regex(?pname, \"ww\", \"i\") \n",
    "} \n",
    "LIMIT 20\n",
    "\"\"\"\n",
    "\n",
    "print(\"Results\")\n",
    "run_query(queryString)"
   ]
  },
  {
   "cell_type": "code",
   "execution_count": 56,
   "id": "f0480539-aae4-49a8-890b-e0464378950c",
   "metadata": {},
   "outputs": [
    {
     "name": "stdout",
     "output_type": "stream",
     "text": [
      "Results\n",
      "[('p', 'http://www.wikidata.org/prop/direct/P1269'), ('o', 'http://www.wikidata.org/entity/Q362'), ('pname', 'facet of'), ('oname', 'World War II')]\n",
      "[('p', 'http://www.wikidata.org/prop/direct/P828'), ('o', 'http://www.wikidata.org/entity/Q362'), ('pname', 'has cause'), ('oname', 'World War II')]\n",
      "[('p', 'http://www.wikidata.org/prop/direct/P279'), ('o', 'http://www.wikidata.org/entity/Q107028274'), ('pname', 'subclass of'), ('oname', 'cancelled event edition')]\n",
      "[('p', 'http://www.wikidata.org/prop/direct/P31'), ('o', 'http://www.wikidata.org/entity/Q107028274'), ('pname', 'instance of'), ('oname', 'cancelled event edition')]\n"
     ]
    },
    {
     "data": {
      "text/plain": [
       "4"
      ]
     },
     "execution_count": 56,
     "metadata": {},
     "output_type": "execute_result"
    }
   ],
   "source": [
    "\n",
    "# http://www.wikidata.org/entity/Q107745632 cancelled event due World War II\n",
    "queryString = \"\"\"\n",
    "SELECT *\n",
    "WHERE { \n",
    "\n",
    "    wd:Q107745632 ?p ?o .\n",
    "    # Labels\n",
    "    ?p <http://schema.org/name> ?pname .\n",
    "    ?o <http://schema.org/name> ?oname .\n",
    "    #FILTER regex(?pname, \"ww\", \"i\") \n",
    "} \n",
    "LIMIT 20\n",
    "\"\"\"\n",
    "\n",
    "print(\"Results\")\n",
    "run_query(queryString)"
   ]
  },
  {
   "cell_type": "code",
   "execution_count": 57,
   "id": "6d38b73b-943a-4efb-bba6-1167ec932e90",
   "metadata": {},
   "outputs": [
    {
     "name": "stdout",
     "output_type": "stream",
     "text": [
      "Results\n",
      "[('p', 'http://www.wikidata.org/prop/direct/P1120'), ('o', '73000000'), ('pname', 'number of deaths')]\n",
      "[('p', 'http://www.wikidata.org/prop/direct/P1150'), ('o', 'NQ 2545 - NQ 2795'), ('pname', 'Regensburg Classification')]\n",
      "[('p', 'http://www.wikidata.org/prop/direct/P1151'), ('o', 'http://www.wikidata.org/entity/Q3247957'), ('pname', \"topic's main Wikimedia portal\")]\n",
      "[('p', 'http://www.wikidata.org/prop/direct/P1225'), ('o', '10644634'), ('pname', 'U.S. National Archives Identifier')]\n",
      "[('p', 'http://www.wikidata.org/prop/direct/P1296'), ('o', '0031535'), ('pname', 'Gran Enciclopèdia Catalana ID')]\n",
      "[('p', 'http://www.wikidata.org/prop/direct/P1343'), ('o', 'http://www.wikidata.org/entity/Q106727050'), ('pname', 'described by source')]\n",
      "[('p', 'http://www.wikidata.org/prop/direct/P1417'), ('o', 'event/World-War-II'), ('pname', 'Encyclopædia Britannica Online ID')]\n",
      "[('p', 'http://www.wikidata.org/prop/direct/P1424'), ('o', 'http://www.wikidata.org/entity/Q5928186'), ('pname', \"topic's main template\")]\n",
      "[('p', 'http://www.wikidata.org/prop/direct/P1482'), ('o', 'https://history.stackexchange.com/tags/world-war-two'), ('pname', 'Stack Exchange tag')]\n",
      "[('p', 'http://www.wikidata.org/prop/direct/P1542'), ('o', 'http://www.wikidata.org/entity/Q152142'), ('pname', 'has effect')]\n",
      "[('p', 'http://www.wikidata.org/prop/direct/P1542'), ('o', 'http://www.wikidata.org/entity/Q23020032'), ('pname', 'has effect')]\n",
      "[('p', 'http://www.wikidata.org/prop/direct/P1542'), ('o', 'http://www.wikidata.org/entity/Q2763'), ('pname', 'has effect')]\n",
      "[('p', 'http://www.wikidata.org/prop/direct/P1542'), ('o', 'http://www.wikidata.org/entity/Q488'), ('pname', 'has effect')]\n",
      "[('p', 'http://www.wikidata.org/prop/direct/P155'), ('o', 'http://www.wikidata.org/entity/Q154611'), ('pname', 'follows')]\n",
      "[('p', 'http://www.wikidata.org/prop/direct/P155'), ('o', 'http://www.wikidata.org/entity/Q361'), ('pname', 'follows')]\n",
      "[('p', 'http://www.wikidata.org/prop/direct/P156'), ('o', 'http://www.wikidata.org/entity/Q101137389'), ('pname', 'followed by')]\n",
      "[('p', 'http://www.wikidata.org/prop/direct/P156'), ('o', 'http://www.wikidata.org/entity/Q3538497'), ('pname', 'followed by')]\n",
      "[('p', 'http://www.wikidata.org/prop/direct/P1792'), ('o', 'http://www.wikidata.org/entity/Q6620691'), ('pname', 'category of associated people')]\n",
      "[('p', 'http://www.wikidata.org/prop/direct/P18'), ('o', 'http://commons.wikimedia.org/wiki/Special:FilePath/WW2%20collage.jpg'), ('pname', 'image')]\n",
      "[('p', 'http://www.wikidata.org/prop/direct/P1807'), ('o', '6627'), ('pname', 'Great Aragonese Encyclopedia ID')]\n",
      "[('p', 'http://www.wikidata.org/prop/direct/P2184'), ('o', 'http://www.wikidata.org/entity/Q16973783'), ('pname', 'history of topic')]\n",
      "[('p', 'http://www.wikidata.org/prop/direct/P2184'), ('o', 'http://www.wikidata.org/entity/Q327039'), ('pname', 'history of topic')]\n",
      "[('p', 'http://www.wikidata.org/prop/direct/P227'), ('o', '4079167-1'), ('pname', 'GND ID')]\n",
      "[('p', 'http://www.wikidata.org/prop/direct/P2347'), ('o', '8900'), ('pname', 'YSO ID')]\n",
      "[('p', 'http://www.wikidata.org/prop/direct/P244'), ('o', 'sh85148273'), ('pname', 'Library of Congress authority ID')]\n",
      "[('p', 'http://www.wikidata.org/prop/direct/P2581'), ('o', '00070139n'), ('pname', 'BabelNet ID')]\n",
      "[('p', 'http://www.wikidata.org/prop/direct/P268'), ('o', '11996115g'), ('pname', 'Bibliothèque nationale de France ID')]\n",
      "[('p', 'http://www.wikidata.org/prop/direct/P2716'), ('o', 'http://commons.wikimedia.org/wiki/Special:FilePath/WW2Montage.PNG'), ('pname', 'collage image')]\n",
      "[('p', 'http://www.wikidata.org/prop/direct/P276'), ('o', 'http://www.wikidata.org/entity/Q11708'), ('pname', 'location')]\n",
      "[('p', 'http://www.wikidata.org/prop/direct/P276'), ('o', 'http://www.wikidata.org/entity/Q15'), ('pname', 'location')]\n",
      "[('p', 'http://www.wikidata.org/prop/direct/P276'), ('o', 'http://www.wikidata.org/entity/Q159'), ('pname', 'location')]\n",
      "[('p', 'http://www.wikidata.org/prop/direct/P276'), ('o', 'http://www.wikidata.org/entity/Q21195'), ('pname', 'location')]\n",
      "[('p', 'http://www.wikidata.org/prop/direct/P276'), ('o', 'http://www.wikidata.org/entity/Q46'), ('pname', 'location')]\n",
      "[('p', 'http://www.wikidata.org/prop/direct/P276'), ('o', 'http://www.wikidata.org/entity/Q48'), ('pname', 'location')]\n",
      "[('p', 'http://www.wikidata.org/prop/direct/P276'), ('o', 'http://www.wikidata.org/entity/Q4918'), ('pname', 'location')]\n",
      "[('p', 'http://www.wikidata.org/prop/direct/P276'), ('o', 'http://www.wikidata.org/entity/Q7204'), ('pname', 'location')]\n",
      "[('p', 'http://www.wikidata.org/prop/direct/P276'), ('o', 'http://www.wikidata.org/entity/Q97'), ('pname', 'location')]\n",
      "[('p', 'http://www.wikidata.org/prop/direct/P276'), ('o', 'http://www.wikidata.org/entity/Q98'), ('pname', 'location')]\n",
      "[('p', 'http://www.wikidata.org/prop/direct/P2924'), ('o', '2335018'), ('pname', 'Great Russian Encyclopedia Online ID')]\n",
      "[('p', 'http://www.wikidata.org/prop/direct/P2959'), ('o', 'http://www.wikidata.org/entity/Q21777981'), ('pname', 'permanent duplicated item')]\n"
     ]
    },
    {
     "data": {
      "text/plain": [
       "40"
      ]
     },
     "execution_count": 57,
     "metadata": {},
     "output_type": "execute_result"
    }
   ],
   "source": [
    "# [('p', 'http://www.wikidata.org/prop/direct/P828'),\n",
    "#('o', 'http://www.wikidata.org/entity/Q362'), ('pname', 'has cause'), ('oname', 'World War II')]\n",
    "queryString = \"\"\"\n",
    "SELECT *\n",
    "WHERE { \n",
    "\n",
    "    wd:Q362 ?p ?o .\n",
    "    # Labels\n",
    "    ?p <http://schema.org/name> ?pname .\n",
    "    #?o <http://schema.org/name> ?oname .\n",
    "    #FILTER regex(?pname, \"ww\", \"i\") \n",
    "} \n",
    "LIMIT 40\n",
    "\"\"\"\n",
    "\n",
    "print(\"Results\")\n",
    "run_query(queryString)"
   ]
  },
  {
   "cell_type": "code",
   "execution_count": 58,
   "id": "059b922a-83d6-4af6-af4e-190a545e1156",
   "metadata": {},
   "outputs": [
    {
     "name": "stdout",
     "output_type": "stream",
     "text": [
      "Results\n",
      "[('p', 'http://www.wikidata.org/prop/direct/P3221'), ('o', 'subject/world-war-ii-193945'), ('pname', 'New York Times topic ID')]\n",
      "[('p', 'http://www.wikidata.org/prop/direct/P580'), ('o', '1939-09-01T00:00:00Z'), ('pname', 'start time')]\n",
      "[('p', 'http://www.wikidata.org/prop/direct/P582'), ('o', '1945-09-02T00:00:00Z'), ('pname', 'end time')]\n"
     ]
    },
    {
     "data": {
      "text/plain": [
       "3"
      ]
     },
     "execution_count": 58,
     "metadata": {},
     "output_type": "execute_result"
    }
   ],
   "source": [
    "# [('p', 'http://www.wikidata.org/prop/direct/P828'),\n",
    "#('o', 'http://www.wikidata.org/entity/Q362'), ('pname', 'has cause'), ('oname', 'World War II')]\n",
    "queryString = \"\"\"\n",
    "SELECT *\n",
    "WHERE { \n",
    "\n",
    "    wd:Q362 ?p ?o .\n",
    "    # Labels\n",
    "    ?p <http://schema.org/name> ?pname .\n",
    "    #?o <http://schema.org/name> ?oname .\n",
    "    #FILTER regex(?pname, \"time\", \"i\") \n",
    "    FILTER(REGEX(STR(?pname), \"[Tt]ime\"))\n",
    "} \n",
    "LIMIT 40\n",
    "\"\"\"\n",
    "\n",
    "print(\"Results\")\n",
    "run_query(queryString)"
   ]
  },
  {
   "cell_type": "markdown",
   "id": "30188971-84a2-4b11-81a2-028a30e791e7",
   "metadata": {},
   "source": [
    "### World wars duration"
   ]
  },
  {
   "cell_type": "code",
   "execution_count": 59,
   "id": "ae477d52-1906-4a9f-b9a0-f3c8e25aa34f",
   "metadata": {},
   "outputs": [
    {
     "name": "stdout",
     "output_type": "stream",
     "text": [
      "Results\n",
      "[('starttime', '1939-09-01T00:00:00Z'), ('endtime', '1945-09-02T00:00:00Z')]\n"
     ]
    },
    {
     "data": {
      "text/plain": [
       "1"
      ]
     },
     "execution_count": 59,
     "metadata": {},
     "output_type": "execute_result"
    }
   ],
   "source": [
    "# ('oname', 'World War II')]\n",
    "queryString = \"\"\"\n",
    "SELECT *\n",
    "WHERE { \n",
    "\n",
    "    wd:Q362 wdt:P580 ?starttime ;\n",
    "            wdt:P582 ?endtime.\n",
    "            \n",
    "} \n",
    "LIMIT 40\n",
    "\"\"\"\n",
    "\n",
    "print(\"Results\")\n",
    "run_query(queryString)"
   ]
  },
  {
   "cell_type": "markdown",
   "id": "1feaaafe-5c34-4861-bcc9-3298842554f9",
   "metadata": {},
   "source": [
    "#### Who were the best players of every world cup? and where are they from?"
   ]
  },
  {
   "cell_type": "code",
   "execution_count": 60,
   "id": "13b408a0-ea5b-4ad6-989a-6106e6374c4d",
   "metadata": {},
   "outputs": [
    {
     "name": "stdout",
     "output_type": "stream",
     "text": [
      "Results\n",
      "[('p', 'http://www.wikidata.org/prop/direct/P3279'), ('o', 'http://www.wikidata.org/entity/Q83006'), ('pname', 'statistical leader'), ('oname', 'David Villa')]\n"
     ]
    },
    {
     "data": {
      "text/plain": [
       "1"
      ]
     },
     "execution_count": 60,
     "metadata": {},
     "output_type": "execute_result"
    }
   ],
   "source": [
    "queryString = \"\"\"\n",
    "SELECT *\n",
    "WHERE { \n",
    "    #wd:Q19317 wdt:P527 ?worldcup .\n",
    "    #?worldcup ?p ?o .\n",
    "    wd:Q176883 ?p ?o .\n",
    "    # Labels\n",
    "    #?worldcup <http://schema.org/name> ?worldcupname .\n",
    "    ?p <http://schema.org/name> ?pname .\n",
    "    ?o <http://schema.org/name> ?oname .\n",
    "    FILTER regex(?oname, \"david\", \"i\") .\n",
    "\n",
    "} \n",
    "LIMIT 40\n",
    "\"\"\"\n",
    "\n",
    "print(\"Results\")\n",
    "run_query(queryString)"
   ]
  },
  {
   "cell_type": "code",
   "execution_count": 61,
   "id": "3a3a33f5-e696-4e08-bf8a-dd62245ec67a",
   "metadata": {},
   "outputs": [
    {
     "name": "stdout",
     "output_type": "stream",
     "text": [
      "Results\n",
      "[('o', 'http://www.wikidata.org/entity/Q83006'), ('oname', 'David Villa')]\n"
     ]
    },
    {
     "data": {
      "text/plain": [
       "1"
      ]
     },
     "execution_count": 61,
     "metadata": {},
     "output_type": "execute_result"
    }
   ],
   "source": [
    "queryString = \"\"\"\n",
    "SELECT *\n",
    "WHERE { \n",
    "    #wd:Q19317 wdt:P527 ?worldcup .\n",
    "    #?worldcup ?p ?o .\n",
    "    wd:Q176883 wdt:P3279 ?o .\n",
    "    # Labels\n",
    "    #?worldcup <http://schema.org/name> ?worldcupname .\n",
    "    ?o <http://schema.org/name> ?oname .\n",
    "    #?p <http://schema.org/name> ?pname .\n",
    "    FILTER regex(?oname, \"david\", \"i\") .\n",
    "\n",
    "} \n",
    "LIMIT 40\n",
    "\"\"\"\n",
    "\n",
    "print(\"Results\")\n",
    "run_query(queryString)"
   ]
  },
  {
   "cell_type": "code",
   "execution_count": 62,
   "id": "63e5da31-b296-4d73-bcd5-f86c5effb893",
   "metadata": {},
   "outputs": [
    {
     "name": "stdout",
     "output_type": "stream",
     "text": [
      "Results\n",
      "[('p', 'http://www.wikidata.org/prop/direct/P106'), ('o', 'http://www.wikidata.org/entity/Q937857'), ('pname', 'occupation')]\n",
      "[('p', 'http://www.wikidata.org/prop/direct/P118'), ('o', 'http://www.wikidata.org/entity/Q18543'), ('pname', 'league')]\n",
      "[('p', 'http://www.wikidata.org/prop/direct/P118'), ('o', 'http://www.wikidata.org/entity/Q324867'), ('pname', 'league')]\n",
      "[('p', 'http://www.wikidata.org/prop/direct/P118'), ('o', 'http://www.wikidata.org/entity/Q575453'), ('pname', 'league')]\n",
      "[('p', 'http://www.wikidata.org/prop/direct/P1207'), ('o', 'n2015066305'), ('pname', 'NUKAT ID')]\n",
      "[('p', 'http://www.wikidata.org/prop/direct/P1285'), ('o', '01000007332'), ('pname', 'Munzinger Sport number')]\n",
      "[('p', 'http://www.wikidata.org/prop/direct/P1296'), ('o', '0520723'), ('pname', 'Gran Enciclopèdia Catalana ID')]\n",
      "[('p', 'http://www.wikidata.org/prop/direct/P1344'), ('o', 'http://www.wikidata.org/entity/Q176883'), ('pname', 'participant in')]\n",
      "[('p', 'http://www.wikidata.org/prop/direct/P1344'), ('o', 'http://www.wikidata.org/entity/Q241864'), ('pname', 'participant in')]\n",
      "[('p', 'http://www.wikidata.org/prop/direct/P1344'), ('o', 'http://www.wikidata.org/entity/Q37285'), ('pname', 'participant in')]\n",
      "[('p', 'http://www.wikidata.org/prop/direct/P1344'), ('o', 'http://www.wikidata.org/entity/Q79859'), ('pname', 'participant in')]\n",
      "[('p', 'http://www.wikidata.org/prop/direct/P1344'), ('o', 'http://www.wikidata.org/entity/Q183674'), ('pname', 'participant in')]\n",
      "[('p', 'http://www.wikidata.org/prop/direct/P1350'), ('o', '1'), ('pname', 'number of matches played/races/starts')]\n",
      "[('p', 'http://www.wikidata.org/prop/direct/P1412'), ('o', 'http://www.wikidata.org/entity/Q1321'), ('pname', 'languages spoken, written or signed')]\n",
      "[('p', 'http://www.wikidata.org/prop/direct/P1412'), ('o', 'http://www.wikidata.org/entity/Q29507'), ('pname', 'languages spoken, written or signed')]\n",
      "[('p', 'http://www.wikidata.org/prop/direct/P1469'), ('o', '229884'), ('pname', 'FIFA player ID')]\n",
      "[('p', 'http://www.wikidata.org/prop/direct/P1532'), ('o', 'http://www.wikidata.org/entity/Q29'), ('pname', 'country for sport')]\n",
      "[('p', 'http://www.wikidata.org/prop/direct/P166'), ('o', 'http://www.wikidata.org/entity/Q30860334'), ('pname', 'award received')]\n",
      "[('p', 'http://www.wikidata.org/prop/direct/P1695'), ('o', 'A32308528'), ('pname', 'NLP ID (unique)')]\n",
      "[('p', 'http://www.wikidata.org/prop/direct/P1741'), ('o', '223638'), ('pname', 'GTAA ID')]\n",
      "[('p', 'http://www.wikidata.org/prop/direct/P18'), ('o', 'http://commons.wikimedia.org/wiki/Special:FilePath/Spain-Tahiti%2C%20Confederations%20Cup%202013%20%2802%29%20%28Villa%20crop%29.jpg'), ('pname', 'image')]\n",
      "[('p', 'http://www.wikidata.org/prop/direct/P19'), ('o', 'http://www.wikidata.org/entity/Q3321981'), ('pname', 'place of birth')]\n",
      "[('p', 'http://www.wikidata.org/prop/direct/P1950'), ('o', 'http://www.wikidata.org/entity/Q1158617'), ('pname', 'second family name in Spanish name')]\n",
      "[('p', 'http://www.wikidata.org/prop/direct/P2002'), ('o', 'Guaje7Villa'), ('pname', 'Twitter username')]\n",
      "[('p', 'http://www.wikidata.org/prop/direct/P2003'), ('o', 'davidvilla'), ('pname', 'Instagram username')]\n",
      "[('p', 'http://www.wikidata.org/prop/direct/P2013'), ('o', 'DavidVillaJugador'), ('pname', 'Facebook ID')]\n",
      "[('p', 'http://www.wikidata.org/prop/direct/P2020'), ('o', 'david-villa'), ('pname', 'WorldFootball.net player ID')]\n",
      "[('p', 'http://www.wikidata.org/prop/direct/P2031'), ('o', '2000-01-01T00:00:00Z'), ('pname', 'work period (start)')]\n",
      "[('p', 'http://www.wikidata.org/prop/direct/P2048'), ('o', '175'), ('pname', 'height')]\n",
      "[('p', 'http://www.wikidata.org/prop/direct/P2067'), ('o', '69'), ('pname', 'mass')]\n",
      "[('p', 'http://www.wikidata.org/prop/direct/P21'), ('o', 'http://www.wikidata.org/entity/Q6581097'), ('pname', 'sex or gender')]\n",
      "[('p', 'http://www.wikidata.org/prop/direct/P213'), ('o', '0000 0001 1399 9843'), ('pname', 'ISNI')]\n",
      "[('p', 'http://www.wikidata.org/prop/direct/P214'), ('o', '315938734'), ('pname', 'VIAF ID')]\n",
      "[('p', 'http://www.wikidata.org/prop/direct/P2193'), ('o', '36276'), ('pname', 'Soccerbase player ID')]\n",
      "[('p', 'http://www.wikidata.org/prop/direct/P2276'), ('o', '66414'), ('pname', 'UEFA player ID')]\n",
      "[('p', 'http://www.wikidata.org/prop/direct/P2369'), ('o', 'david-villa-sanchez/338'), ('pname', 'Soccerway player ID')]\n",
      "[('p', 'http://www.wikidata.org/prop/direct/P2397'), ('o', 'UCdjxqCtC1qIF8sa1KiwRvMg'), ('pname', 'YouTube channel ID')]\n",
      "[('p', 'http://www.wikidata.org/prop/direct/P2398'), ('o', 'david-villa'), ('pname', 'MLS player ID')]\n",
      "[('p', 'http://www.wikidata.org/prop/direct/P2446'), ('o', '7980'), ('pname', 'Transfermarkt player ID')]\n",
      "[('p', 'http://www.wikidata.org/prop/direct/P2574'), ('o', '9992'), ('pname', 'National-Football-Teams.com player ID')]\n",
      "[('p', 'http://www.wikidata.org/prop/direct/P268'), ('o', '16715955c'), ('pname', 'Bibliothèque nationale de France ID')]\n",
      "[('p', 'http://www.wikidata.org/prop/direct/P27'), ('o', 'http://www.wikidata.org/entity/Q29'), ('pname', 'country of citizenship')]\n",
      "[('p', 'http://www.wikidata.org/prop/direct/P3043'), ('o', '338'), ('pname', 'Scoresway soccer person ID')]\n",
      "[('p', 'http://www.wikidata.org/prop/direct/P3047'), ('o', '1169'), ('pname', 'PlaymakerStats.com player ID')]\n",
      "[('p', 'http://www.wikidata.org/prop/direct/P31'), ('o', 'http://www.wikidata.org/entity/Q5'), ('pname', 'instance of')]\n",
      "[('p', 'http://www.wikidata.org/prop/direct/P3417'), ('o', 'David-Villa-2'), ('pname', 'Quora topic ID')]\n",
      "[('p', 'http://www.wikidata.org/prop/direct/P3427'), ('o', 'villa/6685'), ('pname', 'AS.com athlete ID')]\n",
      "[('p', 'http://www.wikidata.org/prop/direct/P345'), ('o', 'nm2300567'), ('pname', 'IMDb ID')]\n",
      "[('p', 'http://www.wikidata.org/prop/direct/P3537'), ('o', '1752'), ('pname', 'FootballDatabase.eu player ID')]\n",
      "[('p', 'http://www.wikidata.org/prop/direct/P3538'), ('o', 'david-villa'), ('pname', 'Fussballdaten.de player ID')]\n",
      "[('p', 'http://www.wikidata.org/prop/direct/P3655'), ('o', '554'), ('pname', 'BDFutbol player ID')]\n",
      "[('p', 'http://www.wikidata.org/prop/direct/P3665'), ('o', '19406'), ('pname', \"L'Équipe football player ID\")]\n",
      "[('p', 'http://www.wikidata.org/prop/direct/P3681'), ('o', '28600'), ('pname', 'ESPNFC.com player ID')]\n",
      "[('p', 'http://www.wikidata.org/prop/direct/P3726'), ('o', '25635'), ('pname', 'EU-Football.info player ID')]\n",
      "[('p', 'http://www.wikidata.org/prop/direct/P373'), ('o', 'David Villa'), ('pname', 'Commons category')]\n",
      "[('p', 'http://www.wikidata.org/prop/direct/P413'), ('o', 'http://www.wikidata.org/entity/Q280658'), ('pname', 'position played on team / speciality')]\n",
      "[('p', 'http://www.wikidata.org/prop/direct/P434'), ('o', 'cc1d40a3-0984-4ad7-8d20-cf05119b1e68'), ('pname', 'MusicBrainz artist ID')]\n",
      "[('p', 'http://www.wikidata.org/prop/direct/P4342'), ('o', 'David_Villa'), ('pname', 'Store norske leksikon ID')]\n",
      "[('p', 'http://www.wikidata.org/prop/direct/P54'), ('o', 'http://www.wikidata.org/entity/Q13361030'), ('pname', 'member of sports team')]\n",
      "[('p', 'http://www.wikidata.org/prop/direct/P54'), ('o', 'http://www.wikidata.org/entity/Q2982210'), ('pname', 'member of sports team')]\n"
     ]
    },
    {
     "data": {
      "text/plain": [
       "60"
      ]
     },
     "execution_count": 62,
     "metadata": {},
     "output_type": "execute_result"
    }
   ],
   "source": [
    "# Q83006\n",
    "queryString = \"\"\"\n",
    "SELECT *\n",
    "WHERE { \n",
    "    #wd:Q19317 wdt:P527 ?worldcup .\n",
    "    #?worldcup ?p ?o .\n",
    "    #wd:Q176883 wdt:P3279 ?ss .\n",
    "    wd:Q83006 ?p ?o .\n",
    "    # Labels\n",
    "    #?worldcup <http://schema.org/name> ?worldcupname .\n",
    "    #?o <http://schema.org/name> ?oname .\n",
    "    ?p <http://schema.org/name> ?pname .\n",
    "\n",
    "} \n",
    "LIMIT 60\n",
    "\"\"\"\n",
    "\n",
    "print(\"Results\")\n",
    "run_query(queryString)"
   ]
  },
  {
   "cell_type": "code",
   "execution_count": 63,
   "id": "78de584d-ba4b-49a0-a17a-d8193dfc8a08",
   "metadata": {},
   "outputs": [
    {
     "name": "stdout",
     "output_type": "stream",
     "text": [
      "Results\n",
      "[('p', 'http://www.wikidata.org/prop/direct/P106'), ('o', 'http://www.wikidata.org/entity/Q937857'), ('pname', 'occupation')]\n",
      "[('p', 'http://www.wikidata.org/prop/direct/P118'), ('o', 'http://www.wikidata.org/entity/Q18543'), ('pname', 'league')]\n",
      "[('p', 'http://www.wikidata.org/prop/direct/P118'), ('o', 'http://www.wikidata.org/entity/Q324867'), ('pname', 'league')]\n",
      "[('p', 'http://www.wikidata.org/prop/direct/P118'), ('o', 'http://www.wikidata.org/entity/Q575453'), ('pname', 'league')]\n",
      "[('p', 'http://www.wikidata.org/prop/direct/P1207'), ('o', 'n2015066305'), ('pname', 'NUKAT ID')]\n",
      "[('p', 'http://www.wikidata.org/prop/direct/P1285'), ('o', '01000007332'), ('pname', 'Munzinger Sport number')]\n",
      "[('p', 'http://www.wikidata.org/prop/direct/P1296'), ('o', '0520723'), ('pname', 'Gran Enciclopèdia Catalana ID')]\n",
      "[('p', 'http://www.wikidata.org/prop/direct/P1344'), ('o', 'http://www.wikidata.org/entity/Q176883'), ('pname', 'participant in')]\n",
      "[('p', 'http://www.wikidata.org/prop/direct/P1344'), ('o', 'http://www.wikidata.org/entity/Q241864'), ('pname', 'participant in')]\n",
      "[('p', 'http://www.wikidata.org/prop/direct/P1344'), ('o', 'http://www.wikidata.org/entity/Q37285'), ('pname', 'participant in')]\n"
     ]
    },
    {
     "data": {
      "text/plain": [
       "10"
      ]
     },
     "execution_count": 63,
     "metadata": {},
     "output_type": "execute_result"
    }
   ],
   "source": [
    "# Q83006\n",
    "queryString = \"\"\"\n",
    "SELECT *\n",
    "WHERE { \n",
    "    #wd:Q19317 wdt:P527 ?worldcup .\n",
    "    #?worldcup ?p ?o .\n",
    "    # wd:Q176883 wdt:P3279 ?o .\n",
    "    wd:Q83006 ?p ?o .\n",
    "    # Labels\n",
    "    #?worldcup <http://schema.org/name> ?worldcupname .\n",
    "    #?o <http://schema.org/name> ?oname .\n",
    "    ?p <http://schema.org/name> ?pname .\n",
    "\n",
    "} \n",
    "LIMIT 10\n",
    "\"\"\"\n",
    "\n",
    "print(\"Results\")\n",
    "run_query(queryString)"
   ]
  },
  {
   "cell_type": "code",
   "execution_count": 64,
   "id": "5a1ac6c9-32d9-4dbd-98af-448acf6455df",
   "metadata": {},
   "outputs": [
    {
     "name": "stdout",
     "output_type": "stream",
     "text": [
      "Results\n",
      "[('p', 'http://www.wikidata.org/prop/direct/P2002'), ('o', 'Guaje7Villa'), ('pname', 'Twitter username')]\n"
     ]
    },
    {
     "data": {
      "text/plain": [
       "1"
      ]
     },
     "execution_count": 64,
     "metadata": {},
     "output_type": "execute_result"
    }
   ],
   "source": [
    "# Q83006\n",
    "queryString = \"\"\"\n",
    "SELECT *\n",
    "WHERE { \n",
    "    #wd:Q19317 wdt:P527 ?worldcup .\n",
    "    #?worldcup ?p ?o .\n",
    "    # wd:Q176883 wdt:P3279 ?o .\n",
    "    wd:Q83006 ?p ?o .\n",
    "    # Labels\n",
    "    #?worldcup <http://schema.org/name> ?worldcupname .\n",
    "    #?o <http://schema.org/name> ?oname .\n",
    "    ?p <http://schema.org/name> ?pname .\n",
    "    FILTER regex(?pname, \"twitter\", \"i\") .\n",
    "} \n",
    "LIMIT 60\n",
    "\"\"\"\n",
    "\n",
    "print(\"Results\")\n",
    "run_query(queryString)"
   ]
  },
  {
   "cell_type": "code",
   "execution_count": 65,
   "id": "da205c57-4414-4817-93b4-c7e99b373fb9",
   "metadata": {},
   "outputs": [
    {
     "name": "stdout",
     "output_type": "stream",
     "text": [
      "Results\n",
      "[('p', 'http://www.wikidata.org/prop/direct/P8687'), ('o', '9040925'), ('pname', 'social media followers')]\n"
     ]
    },
    {
     "data": {
      "text/plain": [
       "1"
      ]
     },
     "execution_count": 65,
     "metadata": {},
     "output_type": "execute_result"
    }
   ],
   "source": [
    "# Q83006\n",
    "queryString = \"\"\"\n",
    "SELECT *\n",
    "WHERE { \n",
    "    #wd:Q19317 wdt:P527 ?worldcup .\n",
    "    #?worldcup ?p ?o .\n",
    "    # wd:Q176883 wdt:P3279 ?o .\n",
    "    wd:Q83006 ?p ?o .\n",
    "    # Labels\n",
    "    #?worldcup <http://schema.org/name> ?worldcupname .\n",
    "    #?o <http://schema.org/name> ?oname .\n",
    "    ?p <http://schema.org/name> ?pname .\n",
    "    FILTER regex(?pname, \"follow\", \"i\") .\n",
    "} \n",
    "LIMIT 60\n",
    "\"\"\"\n",
    "\n",
    "print(\"Results\")\n",
    "run_query(queryString)"
   ]
  },
  {
   "cell_type": "code",
   "execution_count": 66,
   "id": "9a388df4-3c2b-4dc3-a37b-c2bb000d0a23",
   "metadata": {},
   "outputs": [
    {
     "name": "stdout",
     "output_type": "stream",
     "text": [
      "Results\n",
      "[('o', '9040925')]\n"
     ]
    },
    {
     "data": {
      "text/plain": [
       "1"
      ]
     },
     "execution_count": 66,
     "metadata": {},
     "output_type": "execute_result"
    }
   ],
   "source": [
    "# Q83006 david villa social media followers\n",
    "queryString = \"\"\"\n",
    "SELECT *\n",
    "WHERE { \n",
    "    #wd:Q19317 wdt:P527 ?worldcup .\n",
    "    #?worldcup ?p ?o .\n",
    "    # wd:Q176883 wdt:P3279 ?o .\n",
    "    wd:Q83006 wdt:P8687 ?o .\n",
    "    # Labels\n",
    "    #?worldcup <http://schema.org/name> ?worldcupname .\n",
    "    #?o <http://schema.org/name> ?oname .\n",
    "    #?p <http://schema.org/name> ?pname .\n",
    "    #FILTER regex(?pname, \"follow\", \"i\") .\n",
    "} \n",
    "LIMIT 60\n",
    "\"\"\"\n",
    "\n",
    "print(\"Results\")\n",
    "run_query(queryString)"
   ]
  },
  {
   "cell_type": "markdown",
   "id": "9eb8d9ea-fb4b-4a00-8db7-86011e56f8e9",
   "metadata": {},
   "source": [
    "## Show the name of best players in every world cup."
   ]
  },
  {
   "cell_type": "code",
   "execution_count": 67,
   "id": "7d467c36-b0ae-4154-a9af-c6a0c76033d3",
   "metadata": {},
   "outputs": [
    {
     "name": "stdout",
     "output_type": "stream",
     "text": [
      "Results\n",
      "[('worldcup', 'http://www.wikidata.org/entity/Q20738612'), ('players', 'http://www.wikidata.org/entity/Q542025'), ('p', 'http://www.wikidata.org/prop/direct/P3660'), ('o', '8171'), ('playersname', 'Aleksandr Kozlov'), ('pname', 'FootballFacts.ru player ID')]\n",
      "[('worldcup', 'http://www.wikidata.org/entity/Q16636277'), ('players', 'http://www.wikidata.org/entity/Q726199'), ('p', 'http://www.wikidata.org/prop/direct/P3645'), ('o', '1031'), ('playersname', 'Dan Carter'), ('pname', 'All Blacks player ID')]\n",
      "[('worldcup', 'http://www.wikidata.org/entity/Q18124957'), ('players', 'http://www.wikidata.org/entity/Q554866'), ('p', 'http://www.wikidata.org/prop/direct/P4050'), ('o', '4/de-colo-30234'), ('playersname', 'Nando de Colo'), ('pname', 'French Olympic Committee athlete ID')]\n",
      "[('worldcup', 'http://www.wikidata.org/entity/Q20738612'), ('players', 'http://www.wikidata.org/entity/Q542025'), ('p', 'http://www.wikidata.org/prop/direct/P4421'), ('o', 'Futbol/Aleksandr-Sergeevich-Kozlov-Futbol-19031993'), ('playersname', 'Aleksandr Kozlov'), ('pname', 'Sportbox.ru ID')]\n",
      "[('worldcup', 'http://www.wikidata.org/entity/Q18124957'), ('players', 'http://www.wikidata.org/entity/Q554866'), ('p', 'http://www.wikidata.org/prop/direct/P5969'), ('o', '15864'), ('playersname', 'Nando de Colo'), ('pname', 'RBF player ID')]\n",
      "[('worldcup', 'http://www.wikidata.org/entity/Q15856047'), ('players', 'http://www.wikidata.org/entity/Q4027073'), ('p', 'http://www.wikidata.org/prop/direct/P6732'), ('o', '1689538'), ('playersname', 'Darnell Hinson'), ('pname', 'VTB United League player ID')]\n",
      "[('worldcup', 'http://www.wikidata.org/entity/Q2055071'), ('players', 'http://www.wikidata.org/entity/Q16228471'), ('p', 'http://www.wikidata.org/prop/direct/P6732'), ('o', '1753112'), ('playersname', 'Anthony Miles'), ('pname', 'VTB United League player ID')]\n",
      "[('worldcup', 'http://www.wikidata.org/entity/Q18124957'), ('players', 'http://www.wikidata.org/entity/Q554866'), ('p', 'http://www.wikidata.org/prop/direct/P6732'), ('o', '1823903'), ('playersname', 'Nando de Colo'), ('pname', 'VTB United League player ID')]\n",
      "[('worldcup', 'http://www.wikidata.org/entity/Q1088676'), ('players', 'http://www.wikidata.org/entity/Q444318'), ('p', 'http://www.wikidata.org/prop/direct/P2449'), ('o', '25358'), ('playersname', 'Okan Buruk'), ('pname', 'Turkish Football Federation coach  ID')]\n",
      "[('worldcup', 'http://www.wikidata.org/entity/Q2479190'), ('players', 'http://www.wikidata.org/entity/Q455122'), ('p', 'http://www.wikidata.org/prop/direct/P4262'), ('o', '10630'), ('playersname', 'Linda Sällström'), ('pname', 'Footoféminin.fr player ID')]\n",
      "[('worldcup', 'http://www.wikidata.org/entity/Q497052'), ('players', 'http://www.wikidata.org/entity/Q162043'), ('p', 'http://www.wikidata.org/prop/direct/P1005'), ('o', '58951'), ('playersname', 'Eusébio'), ('pname', 'Portuguese National Library ID')]\n",
      "[('worldcup', 'http://www.wikidata.org/entity/Q134202'), ('players', 'http://www.wikidata.org/entity/Q162043'), ('p', 'http://www.wikidata.org/prop/direct/P1005'), ('o', '58951'), ('playersname', 'Eusébio'), ('pname', 'Portuguese National Library ID')]\n",
      "[('worldcup', 'http://www.wikidata.org/entity/Q426678'), ('players', 'http://www.wikidata.org/entity/Q162043'), ('p', 'http://www.wikidata.org/prop/direct/P1005'), ('o', '58951'), ('playersname', 'Eusébio'), ('pname', 'Portuguese National Library ID')]\n",
      "[('worldcup', 'http://www.wikidata.org/entity/Q497052'), ('players', 'http://www.wikidata.org/entity/Q162043'), ('p', 'http://www.wikidata.org/prop/direct/P1006'), ('o', '072696877'), ('playersname', 'Eusébio'), ('pname', 'Nationale Thesaurus voor Auteurs ID')]\n",
      "[('worldcup', 'http://www.wikidata.org/entity/Q134202'), ('players', 'http://www.wikidata.org/entity/Q162043'), ('p', 'http://www.wikidata.org/prop/direct/P1006'), ('o', '072696877'), ('playersname', 'Eusébio'), ('pname', 'Nationale Thesaurus voor Auteurs ID')]\n",
      "[('worldcup', 'http://www.wikidata.org/entity/Q426678'), ('players', 'http://www.wikidata.org/entity/Q162043'), ('p', 'http://www.wikidata.org/prop/direct/P1006'), ('o', '072696877'), ('playersname', 'Eusébio'), ('pname', 'Nationale Thesaurus voor Auteurs ID')]\n",
      "[('worldcup', 'http://www.wikidata.org/entity/Q166551'), ('players', 'http://www.wikidata.org/entity/Q178649'), ('p', 'http://www.wikidata.org/prop/direct/P1006'), ('o', '075111047'), ('playersname', 'Romário'), ('pname', 'Nationale Thesaurus voor Auteurs ID')]\n",
      "[('worldcup', 'http://www.wikidata.org/entity/Q494633'), ('players', 'http://www.wikidata.org/entity/Q178649'), ('p', 'http://www.wikidata.org/prop/direct/P1006'), ('o', '075111047'), ('playersname', 'Romário'), ('pname', 'Nationale Thesaurus voor Auteurs ID')]\n",
      "[('worldcup', 'http://www.wikidata.org/entity/Q594303'), ('players', 'http://www.wikidata.org/entity/Q178649'), ('p', 'http://www.wikidata.org/prop/direct/P1006'), ('o', '075111047'), ('playersname', 'Romário'), ('pname', 'Nationale Thesaurus voor Auteurs ID')]\n",
      "[('worldcup', 'http://www.wikidata.org/entity/Q500565'), ('players', 'http://www.wikidata.org/entity/Q178649'), ('p', 'http://www.wikidata.org/prop/direct/P1006'), ('o', '075111047'), ('playersname', 'Romário'), ('pname', 'Nationale Thesaurus voor Auteurs ID')]\n"
     ]
    },
    {
     "data": {
      "text/plain": [
       "20"
      ]
     },
     "execution_count": 67,
     "metadata": {},
     "output_type": "execute_result"
    }
   ],
   "source": [
    "queryString = \"\"\"\n",
    "SELECT *\n",
    "WHERE { \n",
    "    #wd:Q19317 wdt:P527 ?worldcup .\n",
    "    #?worldcup ?p ?o .\n",
    "    ?worldcup wdt:P3279 ?players .\n",
    "    ?players ?p ?o .\n",
    "    # Labels\n",
    "    #?worldcup <http://schema.org/name> ?worldcupname .\n",
    "    ?players <http://schema.org/name> ?playersname .\n",
    "    ?p <http://schema.org/name> ?pname .\n",
    "    #FILTER regex(?oname, \"david\", \"i\") .\n",
    "\n",
    "} \n",
    "LIMIT 20\n",
    "\"\"\"\n",
    "\n",
    "print(\"Results\")\n",
    "run_query(queryString)"
   ]
  },
  {
   "cell_type": "code",
   "execution_count": 68,
   "id": "f00801e8-234d-4dc6-af72-8f6b4a9f27b0",
   "metadata": {},
   "outputs": [
    {
     "name": "stdout",
     "output_type": "stream",
     "text": [
      "Results\n",
      "[('worldcup', 'http://www.wikidata.org/entity/Q4629330'), ('players', 'http://www.wikidata.org/entity/Q16227014'), ('o', '61162')]\n",
      "[('worldcup', 'http://www.wikidata.org/entity/Q18165874'), ('players', 'http://www.wikidata.org/entity/Q16228417'), ('o', '27323')]\n",
      "[('worldcup', 'http://www.wikidata.org/entity/Q16192062'), ('players', 'http://www.wikidata.org/entity/Q16233299'), ('o', '34188')]\n",
      "[('worldcup', 'http://www.wikidata.org/entity/Q647475'), ('players', 'http://www.wikidata.org/entity/Q45901'), ('o', '2314069')]\n",
      "[('worldcup', 'http://www.wikidata.org/entity/Q2479190'), ('players', 'http://www.wikidata.org/entity/Q455122'), ('o', '1856')]\n",
      "[('worldcup', 'http://www.wikidata.org/entity/Q4594671'), ('players', 'http://www.wikidata.org/entity/Q458576'), ('o', '28895')]\n",
      "[('worldcup', 'http://www.wikidata.org/entity/Q166551'), ('players', 'http://www.wikidata.org/entity/Q178649'), ('o', '2538832')]\n",
      "[('worldcup', 'http://www.wikidata.org/entity/Q494633'), ('players', 'http://www.wikidata.org/entity/Q178649'), ('o', '2538832')]\n",
      "[('worldcup', 'http://www.wikidata.org/entity/Q594303'), ('players', 'http://www.wikidata.org/entity/Q178649'), ('o', '2538832')]\n",
      "[('worldcup', 'http://www.wikidata.org/entity/Q500565'), ('players', 'http://www.wikidata.org/entity/Q178649'), ('o', '2538832')]\n",
      "[('worldcup', 'http://www.wikidata.org/entity/Q275673'), ('players', 'http://www.wikidata.org/entity/Q178649'), ('o', '2538832')]\n",
      "[('worldcup', 'http://www.wikidata.org/entity/Q18124957'), ('players', 'http://www.wikidata.org/entity/Q554866'), ('o', '128274')]\n",
      "[('worldcup', 'http://www.wikidata.org/entity/Q2097340'), ('players', 'http://www.wikidata.org/entity/Q10524'), ('o', '140499')]\n",
      "[('worldcup', 'http://www.wikidata.org/entity/Q597316'), ('players', 'http://www.wikidata.org/entity/Q128829'), ('o', '3795768')]\n",
      "[('worldcup', 'http://www.wikidata.org/entity/Q861018'), ('players', 'http://www.wikidata.org/entity/Q318920'), ('o', '419073')]\n",
      "[('worldcup', 'http://www.wikidata.org/entity/Q20830247'), ('players', 'http://www.wikidata.org/entity/Q616572'), ('o', '11919')]\n",
      "[('worldcup', 'http://www.wikidata.org/entity/Q17985199'), ('players', 'http://www.wikidata.org/entity/Q5262323'), ('o', '6623')]\n",
      "[('worldcup', 'http://www.wikidata.org/entity/Q10845460'), ('players', 'http://www.wikidata.org/entity/Q18205475'), ('o', '11204')]\n",
      "[('worldcup', 'http://www.wikidata.org/entity/Q1479434'), ('players', 'http://www.wikidata.org/entity/Q459315'), ('o', '45497')]\n",
      "[('worldcup', 'http://www.wikidata.org/entity/Q2411719'), ('players', 'http://www.wikidata.org/entity/Q459315'), ('o', '45497')]\n",
      "[('worldcup', 'http://www.wikidata.org/entity/Q63865'), ('players', 'http://www.wikidata.org/entity/Q20110'), ('o', '392182')]\n",
      "[('worldcup', 'http://www.wikidata.org/entity/Q18479845'), ('players', 'http://www.wikidata.org/entity/Q59490'), ('o', '704996')]\n",
      "[('worldcup', 'http://www.wikidata.org/entity/Q4602756'), ('players', 'http://www.wikidata.org/entity/Q60118'), ('o', '707825')]\n",
      "[('worldcup', 'http://www.wikidata.org/entity/Q13539280'), ('players', 'http://www.wikidata.org/entity/Q142794'), ('o', '2750000')]\n",
      "[('worldcup', 'http://www.wikidata.org/entity/Q18740961'), ('players', 'http://www.wikidata.org/entity/Q142794'), ('o', '2750000')]\n",
      "[('worldcup', 'http://www.wikidata.org/entity/Q11306107'), ('players', 'http://www.wikidata.org/entity/Q142794'), ('o', '2750000')]\n",
      "[('worldcup', 'http://www.wikidata.org/entity/Q1130337'), ('players', 'http://www.wikidata.org/entity/Q142794'), ('o', '2750000')]\n",
      "[('worldcup', 'http://www.wikidata.org/entity/Q1364318'), ('players', 'http://www.wikidata.org/entity/Q142794'), ('o', '2750000')]\n",
      "[('worldcup', 'http://www.wikidata.org/entity/Q113619'), ('players', 'http://www.wikidata.org/entity/Q129041'), ('o', '9190274')]\n",
      "[('worldcup', 'http://www.wikidata.org/entity/Q21797464'), ('players', 'http://www.wikidata.org/entity/Q165125'), ('o', '8931482')]\n",
      "[('worldcup', 'http://www.wikidata.org/entity/Q629649'), ('players', 'http://www.wikidata.org/entity/Q165125'), ('o', '8931482')]\n",
      "[('worldcup', 'http://www.wikidata.org/entity/Q165753'), ('players', 'http://www.wikidata.org/entity/Q2754626'), ('o', '70139')]\n",
      "[('worldcup', 'http://www.wikidata.org/entity/Q1382943'), ('players', 'http://www.wikidata.org/entity/Q2754626'), ('o', '70139')]\n",
      "[('worldcup', 'http://www.wikidata.org/entity/Q3088181'), ('players', 'http://www.wikidata.org/entity/Q2754626'), ('o', '70139')]\n",
      "[('worldcup', 'http://www.wikidata.org/entity/Q206626'), ('players', 'http://www.wikidata.org/entity/Q109397'), ('o', '793849')]\n",
      "[('worldcup', 'http://www.wikidata.org/entity/Q2294127'), ('players', 'http://www.wikidata.org/entity/Q179051'), ('o', '2198026')]\n",
      "[('worldcup', 'http://www.wikidata.org/entity/Q929005'), ('players', 'http://www.wikidata.org/entity/Q179051'), ('o', '2198026')]\n",
      "[('worldcup', 'http://www.wikidata.org/entity/Q838687'), ('players', 'http://www.wikidata.org/entity/Q206548'), ('o', '1147556')]\n",
      "[('worldcup', 'http://www.wikidata.org/entity/Q391488'), ('players', 'http://www.wikidata.org/entity/Q208104'), ('o', '11770211')]\n",
      "[('worldcup', 'http://www.wikidata.org/entity/Q19349155'), ('players', 'http://www.wikidata.org/entity/Q210477'), ('o', '58560')]\n"
     ]
    },
    {
     "data": {
      "text/plain": [
       "40"
      ]
     },
     "execution_count": 68,
     "metadata": {},
     "output_type": "execute_result"
    }
   ],
   "source": [
    "queryString = \"\"\"\n",
    "SELECT *\n",
    "WHERE { \n",
    "    #wd:Q19317 wdt:P527 ?worldcup .\n",
    "    #?worldcup ?p ?o .\n",
    "    ?worldcup wdt:P3279 ?players .\n",
    "    ?players wdt:P8687 ?o .\n",
    "    # Labels\n",
    "    #?worldcup <http://schema.org/name> ?worldcupname .\n",
    "    #?players <http://schema.org/name> ?playersname .\n",
    "    #?p <http://schema.org/name> ?pname .\n",
    "    #FILTER regex(?oname, \"david\", \"i\") .\n",
    "\n",
    "} \n",
    "LIMIT 40\n",
    "\"\"\"\n",
    "\n",
    "print(\"Results\")\n",
    "run_query(queryString)"
   ]
  },
  {
   "cell_type": "markdown",
   "id": "232003d2-c5b7-4e09-a677-9e00cad79914",
   "metadata": {},
   "source": [
    "### The number of social media followers of players with the most goals in world cup 2010"
   ]
  },
  {
   "cell_type": "code",
   "execution_count": 69,
   "id": "2abbff63-95d9-45dc-b413-53d4b8ec85c1",
   "metadata": {},
   "outputs": [
    {
     "name": "stdout",
     "output_type": "stream",
     "text": [
      "Results\n",
      "[('playersname', 'David Villa'), ('socialmediafollowers', '9040925')]\n",
      "[('playersname', 'Diego Forlán'), ('socialmediafollowers', '5159742')]\n",
      "[('playersname', 'Wesley Sneijder'), ('socialmediafollowers', '3992445')]\n",
      "[('playersname', 'Thomas Müller'), ('socialmediafollowers', '4365133')]\n"
     ]
    },
    {
     "data": {
      "text/plain": [
       "4"
      ]
     },
     "execution_count": 69,
     "metadata": {},
     "output_type": "execute_result"
    }
   ],
   "source": [
    "# The number of social media followers of players with more goals in world cup 2010\n",
    "\n",
    "queryString = \"\"\"\n",
    "SELECT ?playersname ?socialmediafollowers\n",
    "WHERE { \n",
    "    #wd:Q19317 wdt:P527 ?worldcup .\n",
    "    #?worldcup ?p ?o .\n",
    "    wd:Q176883 wdt:P3279 ?players .\n",
    "    ?players wdt:P8687 ?socialmediafollowers .\n",
    "    # Labels\n",
    "    #?worldcup <http://schema.org/name> ?worldcupname .\n",
    "    ?players <http://schema.org/name> ?playersname .\n",
    "    #?p <http://schema.org/name> ?pname .\n",
    "    #FILTER regex(?oname, \"david\", \"i\") .\n",
    "\n",
    "} \n",
    "LIMIT 40\n",
    "\"\"\"\n",
    "\n",
    "print(\"Results\")\n",
    "run_query(queryString)"
   ]
  },
  {
   "cell_type": "markdown",
   "id": "20b07af0-5248-4653-b49e-1766cb9111d6",
   "metadata": {},
   "source": [
    "### The name of players with the most goals in every world cup."
   ]
  },
  {
   "cell_type": "code",
   "execution_count": 70,
   "id": "f5969c4b-0915-44c3-8161-1ae52ddd878e",
   "metadata": {},
   "outputs": [
    {
     "name": "stdout",
     "output_type": "stream",
     "text": [
      "Results\n",
      "[('worldcupname', '2018 FIFA World Cup'), ('playersname', 'Harry Kane')]\n",
      "[('worldcupname', '2014 FIFA World Cup'), ('playersname', 'Thomas Müller')]\n",
      "[('worldcupname', '2010 FIFA World Cup'), ('playersname', 'David Villa')]\n",
      "[('worldcupname', '2010 FIFA World Cup'), ('playersname', 'Diego Forlán')]\n",
      "[('worldcupname', '2010 FIFA World Cup'), ('playersname', 'Wesley Sneijder')]\n",
      "[('worldcupname', '2010 FIFA World Cup'), ('playersname', 'Thomas Müller')]\n",
      "[('worldcupname', '2006 FIFA World Cup'), ('playersname', 'Miroslav Klose')]\n",
      "[('worldcupname', '2002 FIFA World Cup'), ('playersname', 'José Luis Chilavert')]\n",
      "[('worldcupname', '1998 FIFA World Cup'), ('playersname', 'Davor Šuker')]\n",
      "[('worldcupname', '1994 FIFA World Cup'), ('playersname', 'Hristo Stoichkov')]\n",
      "[('worldcupname', '1994 FIFA World Cup'), ('playersname', 'Oleg Salenko')]\n",
      "[('worldcupname', '1990 FIFA World Cup'), ('playersname', 'Salvatore Schillaci')]\n",
      "[('worldcupname', '1986 FIFA World Cup'), ('playersname', 'Gary Lineker')]\n",
      "[('worldcupname', '1982 FIFA World Cup'), ('playersname', 'Paolo Rossi')]\n",
      "[('worldcupname', '1978 FIFA World Cup'), ('playersname', 'Mario Kempes')]\n",
      "[('worldcupname', '1974 FIFA World Cup'), ('playersname', 'Grzegorz Lato')]\n",
      "[('worldcupname', '1970 FIFA World Cup'), ('playersname', 'Gerd Müller')]\n",
      "[('worldcupname', '1966 FIFA World Cup'), ('playersname', 'Eusébio')]\n",
      "[('worldcupname', '1962 FIFA World Cup'), ('playersname', 'Valentin Ivanov')]\n",
      "[('worldcupname', '1962 FIFA World Cup'), ('playersname', 'Garrincha')]\n",
      "[('worldcupname', '1962 FIFA World Cup'), ('playersname', 'Vavá')]\n",
      "[('worldcupname', '1962 FIFA World Cup'), ('playersname', 'Dražan Jerković')]\n",
      "[('worldcupname', '1962 FIFA World Cup'), ('playersname', 'Leonel Sánchez')]\n",
      "[('worldcupname', '1962 FIFA World Cup'), ('playersname', 'Flórián Albert')]\n",
      "[('worldcupname', '1958 FIFA World Cup'), ('playersname', 'Just Fontaine')]\n",
      "[('worldcupname', '1954 FIFA World Cup'), ('playersname', 'Sándor Kocsis')]\n",
      "[('worldcupname', '1950 FIFA World Cup'), ('playersname', 'Ademir de Menezes')]\n",
      "[('worldcupname', '1938 FIFA World Cup'), ('playersname', 'Leônidas')]\n",
      "[('worldcupname', '1934 FIFA World Cup'), ('playersname', 'Oldřich Nejedlý')]\n",
      "[('worldcupname', '1930 FIFA World Cup'), ('playersname', 'Guillermo Stábile')]\n"
     ]
    },
    {
     "data": {
      "text/plain": [
       "30"
      ]
     },
     "execution_count": 70,
     "metadata": {},
     "output_type": "execute_result"
    }
   ],
   "source": [
    "# The name of players with the most goals in every world cup.\n",
    "\n",
    "queryString = \"\"\"\n",
    "SELECT ?worldcupname ?playersname \n",
    "WHERE { \n",
    "    wd:Q19317 wdt:P527 ?worldcup .\n",
    "    #?worldcup ?p ?o .\n",
    "    ?worldcup wdt:P3279 ?players .\n",
    "    # Labels\n",
    "    ?worldcup <http://schema.org/name> ?worldcupname .\n",
    "    ?players <http://schema.org/name> ?playersname .\n",
    "    #?p <http://schema.org/name> ?pname .\n",
    "\n",
    "} \n",
    "ORDER BY DESC (?worldcupname)\n",
    "LIMIT 40\n",
    "\"\"\"\n",
    "\n",
    "print(\"Results\")\n",
    "run_query(queryString)"
   ]
  },
  {
   "cell_type": "code",
   "execution_count": 71,
   "id": "08186b1c-25ae-4c43-a826-cbdb6f7524a2",
   "metadata": {},
   "outputs": [
    {
     "name": "stdout",
     "output_type": "stream",
     "text": [
      "Results\n",
      "[('worldcupname', '2018 FIFA World Cup'), ('nationalityname', 'United Kingdom')]\n",
      "[('worldcupname', '2014 FIFA World Cup'), ('nationalityname', 'Germany')]\n",
      "[('worldcupname', '2010 FIFA World Cup'), ('nationalityname', 'Germany')]\n",
      "[('worldcupname', '2010 FIFA World Cup'), ('nationalityname', 'Spain')]\n",
      "[('worldcupname', '2010 FIFA World Cup'), ('nationalityname', 'Spain')]\n",
      "[('worldcupname', '2010 FIFA World Cup'), ('nationalityname', 'Kingdom of the Netherlands')]\n",
      "[('worldcupname', '2010 FIFA World Cup'), ('nationalityname', 'Uruguay')]\n",
      "[('worldcupname', '2006 FIFA World Cup'), ('nationalityname', 'Germany')]\n",
      "[('worldcupname', '2002 FIFA World Cup'), ('nationalityname', 'Paraguay')]\n",
      "[('worldcupname', '1998 FIFA World Cup'), ('nationalityname', 'Croatia')]\n",
      "[('worldcupname', '1998 FIFA World Cup'), ('nationalityname', 'Socialist Federal Republic of Yugoslavia')]\n",
      "[('worldcupname', '1994 FIFA World Cup'), ('nationalityname', 'Soviet Union')]\n",
      "[('worldcupname', '1994 FIFA World Cup'), ('nationalityname', 'Bulgaria')]\n",
      "[('worldcupname', '1990 FIFA World Cup'), ('nationalityname', 'Italy')]\n",
      "[('worldcupname', '1986 FIFA World Cup'), ('nationalityname', 'United Kingdom')]\n",
      "[('worldcupname', '1982 FIFA World Cup'), ('nationalityname', 'Italy')]\n",
      "[('worldcupname', '1978 FIFA World Cup'), ('nationalityname', 'Argentina')]\n",
      "[('worldcupname', '1974 FIFA World Cup'), ('nationalityname', 'Poland')]\n",
      "[('worldcupname', '1970 FIFA World Cup'), ('nationalityname', 'Germany')]\n",
      "[('worldcupname', '1966 FIFA World Cup'), ('nationalityname', 'Portugal')]\n",
      "[('worldcupname', '1962 FIFA World Cup'), ('nationalityname', 'Soviet Union')]\n",
      "[('worldcupname', '1962 FIFA World Cup'), ('nationalityname', 'Brazil')]\n",
      "[('worldcupname', '1962 FIFA World Cup'), ('nationalityname', 'Russia')]\n",
      "[('worldcupname', '1962 FIFA World Cup'), ('nationalityname', 'Croatia')]\n",
      "[('worldcupname', '1962 FIFA World Cup'), ('nationalityname', 'Hungary')]\n",
      "[('worldcupname', '1962 FIFA World Cup'), ('nationalityname', 'Chile')]\n",
      "[('worldcupname', '1962 FIFA World Cup'), ('nationalityname', 'Colombia')]\n",
      "[('worldcupname', '1958 FIFA World Cup'), ('nationalityname', 'France')]\n",
      "[('worldcupname', '1954 FIFA World Cup'), ('nationalityname', 'Hungary')]\n",
      "[('worldcupname', '1950 FIFA World Cup'), ('nationalityname', 'Brazil')]\n",
      "[('worldcupname', '1938 FIFA World Cup'), ('nationalityname', 'Brazil')]\n",
      "[('worldcupname', '1934 FIFA World Cup'), ('nationalityname', 'Austria-Hungary')]\n",
      "[('worldcupname', '1934 FIFA World Cup'), ('nationalityname', 'Czechoslovakia')]\n",
      "[('worldcupname', '1930 FIFA World Cup'), ('nationalityname', 'Argentina')]\n"
     ]
    },
    {
     "data": {
      "text/plain": [
       "34"
      ]
     },
     "execution_count": 71,
     "metadata": {},
     "output_type": "execute_result"
    }
   ],
   "source": [
    "# The name of players with the most goals in every world cup.\n",
    "\n",
    "queryString = \"\"\"\n",
    "SELECT ?worldcupname ?playersname ?nationalityname\n",
    "WHERE { \n",
    "    wd:Q19317 wdt:P527 ?worldcup .\n",
    "    # ?worldcup ?p ?o .\n",
    "    ?worldcup wdt:P3279 ?players .\n",
    "    ?players wdt:P27 ?nationality .\n",
    "    # Labels\n",
    "    ?worldcup <http://schema.org/name> ?worldcupname .\n",
    "    #?players <http://schema.org/name> ?playersname .\n",
    "    #?p <http://schema.org/name> ?pname .\n",
    "    ?nationality <http://schema.org/name> ?nationalityname .\n",
    "} \n",
    "ORDER BY DESC (?worldcupname)\n",
    "LIMIT 40\n",
    "\"\"\"\n",
    "\n",
    "print(\"Results\")\n",
    "run_query(queryString)"
   ]
  },
  {
   "cell_type": "code",
   "execution_count": 72,
   "id": "6a2763be-7664-431c-a945-a03645242679",
   "metadata": {},
   "outputs": [
    {
     "name": "stdout",
     "output_type": "stream",
     "text": [
      "Results\n",
      "Empty\n"
     ]
    },
    {
     "data": {
      "text/plain": [
       "0"
      ]
     },
     "execution_count": 72,
     "metadata": {},
     "output_type": "execute_result"
    }
   ],
   "source": [
    "# The name of players with the most goals in every world cup with the name of their country. \n",
    "\n",
    "queryString = \"\"\"\n",
    "SELECT ?worldcupname ?playersname ?countryname\n",
    "WHERE { \n",
    "    wd:Q19317 wdt:P527 ?worldcup .\n",
    "    # ?worldcup ?p ?o .\n",
    "    ?worldcup wdt:P3279 ?players .\n",
    "    ?worldcup wdt:P1923 ?teams .\n",
    "    #?teams wdt:P17 ?country .\n",
    "    ?players wdt:P17 ?country .\n",
    "    # Labels\n",
    "    ?worldcup <http://schema.org/name> ?worldcupname .\n",
    "    ?players <http://schema.org/name> ?playersname .\n",
    "    ?country <http://schema.org/name> ?countryname .\n",
    "\n",
    "} \n",
    "ORDER BY DESC (?worldcupname)\n",
    "LIMIT 40\n",
    "\"\"\"\n",
    "\n",
    "print(\"Results\")\n",
    "run_query(queryString)"
   ]
  },
  {
   "cell_type": "code",
   "execution_count": 73,
   "id": "a1015179-b79b-46d2-9165-1cbd23a0338d",
   "metadata": {},
   "outputs": [
    {
     "name": "stdout",
     "output_type": "stream",
     "text": [
      "Results\n",
      "[('worldcupname', '1938 FIFA World Cup'), ('teams', 'http://www.wikidata.org/entity/Q166196')]\n",
      "[('worldcupname', '2006 FIFA World Cup'), ('teams', 'http://www.wikidata.org/entity/Q166196')]\n",
      "[('worldcupname', '1982 FIFA World Cup'), ('teams', 'http://www.wikidata.org/entity/Q166196')]\n",
      "[('worldcupname', '1986 FIFA World Cup'), ('teams', 'http://www.wikidata.org/entity/Q166196')]\n",
      "[('worldcupname', '1978 FIFA World Cup'), ('teams', 'http://www.wikidata.org/entity/Q166196')]\n",
      "[('worldcupname', '2002 FIFA World Cup'), ('teams', 'http://www.wikidata.org/entity/Q166196')]\n",
      "[('worldcupname', '1974 FIFA World Cup'), ('teams', 'http://www.wikidata.org/entity/Q166196')]\n",
      "[('worldcupname', '1994 FIFA World Cup'), ('teams', 'http://www.wikidata.org/entity/Q168397')]\n",
      "[('worldcupname', '1938 FIFA World Cup'), ('teams', 'http://www.wikidata.org/entity/Q168397')]\n",
      "[('worldcupname', '1970 FIFA World Cup'), ('teams', 'http://www.wikidata.org/entity/Q168397')]\n"
     ]
    },
    {
     "data": {
      "text/plain": [
       "10"
      ]
     },
     "execution_count": 73,
     "metadata": {},
     "output_type": "execute_result"
    }
   ],
   "source": [
    "# The name of players with the most goals in every world cup with the name of their country. \n",
    "\n",
    "queryString = \"\"\"\n",
    "SELECT ?worldcupname ?teams\n",
    "WHERE { \n",
    "    wd:Q19317 wdt:P527 ?worldcup .\n",
    "    ?worldcup wdt:P1923 ?teams .\n",
    "    # Labels\n",
    "    ?worldcup <http://schema.org/name> ?worldcupname .\n",
    "    ?teams <http://schema.org/name> ?teamsname .\n",
    "\n",
    "} \n",
    "LIMIT 10\n",
    "\"\"\"\n",
    "\n",
    "print(\"Results\")\n",
    "run_query(queryString)"
   ]
  },
  {
   "cell_type": "code",
   "execution_count": 74,
   "id": "12a96498-2e31-414f-96f4-51ec34b716ff",
   "metadata": {},
   "outputs": [
    {
     "name": "stdout",
     "output_type": "stream",
     "text": [
      "Results\n",
      "[('worldcupname', '2018 FIFA World Cup'), ('playersname', 'Harry Kane'), ('countryname', 'England')]\n",
      "[('worldcupname', '2014 FIFA World Cup'), ('playersname', 'Thomas Müller'), ('countryname', 'Germany')]\n",
      "[('worldcupname', '2010 FIFA World Cup'), ('playersname', 'David Villa'), ('countryname', 'Spain')]\n",
      "[('worldcupname', '2010 FIFA World Cup'), ('playersname', 'Diego Forlán'), ('countryname', 'Uruguay')]\n",
      "[('worldcupname', '2010 FIFA World Cup'), ('playersname', 'Wesley Sneijder'), ('countryname', 'Netherlands')]\n",
      "[('worldcupname', '2010 FIFA World Cup'), ('playersname', 'Thomas Müller'), ('countryname', 'Germany')]\n",
      "[('worldcupname', '2006 FIFA World Cup'), ('playersname', 'Miroslav Klose'), ('countryname', 'Germany')]\n",
      "[('worldcupname', '2002 FIFA World Cup'), ('playersname', 'José Luis Chilavert'), ('countryname', 'Paraguay')]\n",
      "[('worldcupname', '1998 FIFA World Cup'), ('playersname', 'Davor Šuker'), ('countryname', 'Croatia')]\n",
      "[('worldcupname', '1998 FIFA World Cup'), ('playersname', 'Davor Šuker'), ('countryname', 'Socialist Federal Republic of Yugoslavia')]\n",
      "[('worldcupname', '1994 FIFA World Cup'), ('playersname', 'Hristo Stoichkov'), ('countryname', 'Bulgaria')]\n",
      "[('worldcupname', '1994 FIFA World Cup'), ('playersname', 'Oleg Salenko'), ('countryname', 'Russia')]\n",
      "[('worldcupname', '1994 FIFA World Cup'), ('playersname', 'Oleg Salenko'), ('countryname', 'Soviet Union')]\n",
      "[('worldcupname', '1994 FIFA World Cup'), ('playersname', 'Oleg Salenko'), ('countryname', 'Ukraine')]\n",
      "[('worldcupname', '1990 FIFA World Cup'), ('playersname', 'Salvatore Schillaci'), ('countryname', 'Italy')]\n",
      "[('worldcupname', '1986 FIFA World Cup'), ('playersname', 'Gary Lineker'), ('countryname', 'England')]\n",
      "[('worldcupname', '1978 FIFA World Cup'), ('playersname', 'Mario Kempes'), ('countryname', 'Argentina')]\n",
      "[('worldcupname', '1970 FIFA World Cup'), ('playersname', 'Gerd Müller'), ('countryname', 'Germany')]\n",
      "[('worldcupname', '1962 FIFA World Cup'), ('playersname', 'Garrincha'), ('countryname', 'Brazil')]\n",
      "[('worldcupname', '1962 FIFA World Cup'), ('playersname', 'Vavá'), ('countryname', 'Brazil')]\n",
      "[('worldcupname', '1962 FIFA World Cup'), ('playersname', 'Flórián Albert'), ('countryname', 'Hungary')]\n",
      "[('worldcupname', '1958 FIFA World Cup'), ('playersname', 'Just Fontaine'), ('countryname', 'France')]\n",
      "[('worldcupname', '1950 FIFA World Cup'), ('playersname', 'Ademir de Menezes'), ('countryname', 'Brazil')]\n",
      "[('worldcupname', '1938 FIFA World Cup'), ('playersname', 'Leônidas'), ('countryname', 'Brazil')]\n",
      "[('worldcupname', '1930 FIFA World Cup'), ('playersname', 'Guillermo Stábile'), ('countryname', 'Argentina')]\n"
     ]
    },
    {
     "data": {
      "text/plain": [
       "25"
      ]
     },
     "execution_count": 74,
     "metadata": {},
     "output_type": "execute_result"
    }
   ],
   "source": [
    "# The name of players with the most goals in every world cup with the name of their country. \n",
    "\n",
    "queryString = \"\"\"\n",
    "SELECT ?worldcupname ?playersname ?countryname\n",
    "WHERE { \n",
    "    wd:Q19317 wdt:P527 ?worldcup .\n",
    "    ?worldcup wdt:P3279 ?players .\n",
    "    ?players wdt:P1532 ?country .\n",
    "    # Labels\n",
    "    ?worldcup <http://schema.org/name> ?worldcupname .\n",
    "    ?players <http://schema.org/name> ?playersname .\n",
    "    ?country <http://schema.org/name> ?countryname .\n",
    "\n",
    "} \n",
    "ORDER BY DESC (?worldcupname)\n",
    "LIMIT 40\n",
    "\"\"\"\n",
    "\n",
    "print(\"Results\")\n",
    "run_query(queryString)"
   ]
  },
  {
   "cell_type": "markdown",
   "id": "0b426c57-8fa7-4606-949e-75096afa4f0c",
   "metadata": {},
   "source": [
    "### The name of players with the most goals in every world cup with the name of their country. "
   ]
  },
  {
   "cell_type": "code",
   "execution_count": 75,
   "id": "b348343e-c337-48ae-9924-1f7e59a37ebf",
   "metadata": {},
   "outputs": [
    {
     "name": "stdout",
     "output_type": "stream",
     "text": [
      "Results\n",
      "[('worldcupname', '2018 FIFA World Cup'), ('players', 'Harry Kane'), ('country', 'England')]\n",
      "[('worldcupname', '2014 FIFA World Cup'), ('players', 'Thomas Müller'), ('country', 'Germany')]\n",
      "[('worldcupname', '2010 FIFA World Cup'), ('players', 'David Villa;Diego Forlán;Thomas Müller;Wesley Sneijder'), ('country', 'Spain;Uruguay;Netherlands;Germany')]\n",
      "[('worldcupname', '2006 FIFA World Cup'), ('players', 'Miroslav Klose'), ('country', 'Germany')]\n",
      "[('worldcupname', '2002 FIFA World Cup'), ('players', 'José Luis Chilavert'), ('country', 'Paraguay')]\n",
      "[('worldcupname', '1998 FIFA World Cup'), ('players', 'Davor Šuker'), ('country', 'Croatia;Socialist Federal Republic of Yugoslavia')]\n",
      "[('worldcupname', '1994 FIFA World Cup'), ('players', 'Hristo Stoichkov;Oleg Salenko'), ('country', 'Bulgaria;Russia;Soviet Union;Ukraine')]\n",
      "[('worldcupname', '1990 FIFA World Cup'), ('players', 'Salvatore Schillaci'), ('country', 'Italy')]\n",
      "[('worldcupname', '1986 FIFA World Cup'), ('players', 'Gary Lineker'), ('country', 'England')]\n",
      "[('worldcupname', '1978 FIFA World Cup'), ('players', 'Mario Kempes'), ('country', 'Argentina')]\n",
      "[('worldcupname', '1970 FIFA World Cup'), ('players', 'Gerd Müller'), ('country', 'Germany')]\n",
      "[('worldcupname', '1962 FIFA World Cup'), ('players', 'Flórián Albert;Garrincha;Vavá'), ('country', 'Brazil;Brazil;Hungary')]\n",
      "[('worldcupname', '1958 FIFA World Cup'), ('players', 'Just Fontaine'), ('country', 'France')]\n",
      "[('worldcupname', '1950 FIFA World Cup'), ('players', 'Ademir de Menezes'), ('country', 'Brazil')]\n",
      "[('worldcupname', '1938 FIFA World Cup'), ('players', 'Leônidas'), ('country', 'Brazil')]\n",
      "[('worldcupname', '1930 FIFA World Cup'), ('players', 'Guillermo Stábile'), ('country', 'Argentina')]\n"
     ]
    },
    {
     "data": {
      "text/plain": [
       "16"
      ]
     },
     "execution_count": 75,
     "metadata": {},
     "output_type": "execute_result"
    }
   ],
   "source": [
    "# The name of players with the most goals in every world cup with the name of their country. \n",
    "\n",
    "queryString = \"\"\"\n",
    "SELECT ?worldcupname (GROUP_CONCAT(DISTINCT ?playersname; separator=\";\") as ?players)\n",
    "(GROUP_CONCAT(?countryname ; separator=\";\") as ?country ) \n",
    "WHERE { \n",
    "    wd:Q19317 wdt:P527 ?worldcup .\n",
    "    ?worldcup wdt:P3279 ?players .\n",
    "    ?players wdt:P1532 ?country .\n",
    "    # Labels\n",
    "    ?worldcup <http://schema.org/name> ?worldcupname .\n",
    "    ?players <http://schema.org/name> ?playersname .\n",
    "    ?country <http://schema.org/name> ?countryname .\n",
    "\n",
    "} \n",
    "ORDER BY DESC (?worldcupname)\n",
    "LIMIT 40\n",
    "\"\"\"\n",
    "\n",
    "print(\"Results\")\n",
    "run_query(queryString)"
   ]
  },
  {
   "cell_type": "code",
   "execution_count": null,
   "id": "68b6a491-7082-4a61-bf32-e0acda6f5bc8",
   "metadata": {},
   "outputs": [],
   "source": []
  }
 ],
 "metadata": {
  "kernelspec": {
   "display_name": "Python 3 (ipykernel)",
   "language": "python",
   "name": "python3"
  },
  "language_info": {
   "codemirror_mode": {
    "name": "ipython",
    "version": 3
   },
   "file_extension": ".py",
   "mimetype": "text/x-python",
   "name": "python",
   "nbconvert_exporter": "python",
   "pygments_lexer": "ipython3",
   "version": "3.7.10"
  }
 },
 "nbformat": 4,
 "nbformat_minor": 5
}
