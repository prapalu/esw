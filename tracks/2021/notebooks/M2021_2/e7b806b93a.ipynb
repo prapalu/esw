{
    "cells": [
        {
            "cell_type": "markdown",
            "id": "7034c3bf-6eb0-4418-8687-7b9d2a501103",
            "metadata": {},
            "source": [
                "# General instructions\n",
                "\n",
                "The goal of the project is to materialize a set of **exploratory workloads** over a real-world, large-scale,  open-domain KG: [WikiData](https://www.wikidata.org/wiki/Wikidata:Main_Page)\n",
                "\n",
                "An exploratory workload  is composed by a set of queries, where each query is related to the information obtained previously.\n",
                "\n",
                "An exploratory workload starts with a usually vague, open ended question, and does not assume the person issuing the workload has a clear understanding of the data contained in the target database or its structure.\n",
                "\n",
                "Remeber that:\n",
                "\n",
                "1. All the queries must run in the python notebook\n",
                "2. You can use classes and properties only if you find them via a SPARQL query that must be present in the notebook\n",
                "3. You do not delete useless queries. Keep everything that is synthatically valid \n",
                "\n",
                "```\n",
                "?p <http://schema.org/name> ?name .\n",
                "```\n",
                "    \n",
                "is the BGP returning a human-readable name of a property or a class in Wikidata.\n",
                "    \n",
                "    "
            ]
        },
        {
            "cell_type": "code",
            "execution_count": 1,
            "id": "3605c9d5-5371-49a5-be8d-d66e8f417139",
            "metadata": {},
            "outputs": [],
            "source": [
                "## SETUP used later\n",
                "\n",
                "from SPARQLWrapper import SPARQLWrapper, JSON\n",
                "\n",
                "\n",
                "prefixString = \"\"\"\n",
                "##-e7b806b93a-##\n",
                "PREFIX wd: <http://www.wikidata.org/entity/> \n",
                "PREFIX wdt: <http://www.wikidata.org/prop/direct/> \n",
                "PREFIX sc: <http://schema.org/>\n",
                "\"\"\"\n",
                "\n",
                "# select and construct queries\n",
                "def run_query(queryString):\n",
                "    to_run = prefixString + \"\\n\" + queryString\n",
                "\n",
                "    sparql = SPARQLWrapper(\"http://a256-gc1-02.srv.aau.dk:5820/sparql\")\n",
                "    #sparql = SPARQLWrapper(\"http://a256-gc1-03.srv.aau.dk:5820/sparql\")\n",
                "    sparql.setTimeout(300)\n",
                "    sparql.setReturnFormat(JSON)\n",
                "    sparql.setQuery(to_run)\n",
                "\n",
                "    try :\n",
                "       results = sparql.query()\n",
                "       json_results = results.convert()\n",
                "       if len(json_results['results']['bindings'])==0:\n",
                "          print(\"Empty\")\n",
                "          return 0\n",
                "    \n",
                "       for bindings in json_results['results']['bindings']:\n",
                "          print( [ (var, value['value'])  for var, value in bindings.items() ] )\n",
                "\n",
                "       return len(json_results['results']['bindings'])\n",
                "\n",
                "    except Exception as e :\n",
                "        print(\"The operation failed\", e)\n",
                "    \n",
                "# ASk queries\n",
                "def run_ask_query(queryString):\n",
                "    to_run = prefixString + \"\\n\" + queryString\n",
                "\n",
                "    sparql = SPARQLWrapper(\"http://a256-gc1-02.srv.aau.dk:5820/sparql\")\n",
                "    #sparql = SPARQLWrapper(\"http://a256-gc1-03.srv.aau.dk:5820/sparql\")\n",
                "    sparql.setTimeout(300)\n",
                "    sparql.setReturnFormat(JSON)\n",
                "    sparql.setQuery(to_run)\n",
                "\n",
                "    try :\n",
                "        return sparql.query().convert()\n",
                "\n",
                "    except Exception as e :\n",
                "        print(\"The operation failed\", e)\n"
            ]
        },
        {
            "cell_type": "markdown",
            "id": "d477a59c-a68c-4c8f-9f97-8ca5294d7d27",
            "metadata": {},
            "source": [
                "# GEO Workflow Series (\"archaeological sites\") \n",
                "\n",
                "Consider the following exploratory information need:\n",
                "\n",
                "> Search for archaeological site in the world, across countries, continents, and in reference to their culture"
            ]
        },
        {
            "cell_type": "markdown",
            "id": "4a45c0ba-f79e-441d-bec5-84401b09db70",
            "metadata": {},
            "source": [
                "## Useful URIs for the current workflow\n",
                "\n",
                "\n",
                "The following are given:\n",
                "\n",
                "| IRI           | Description   | Role      |\n",
                "| -----------   | -----------   |-----------|\n",
                "| `wdt:P1647`   | subproperty   | predicate |\n",
                "| `wdt:P31`     | instance of   | predicate |\n",
                "| `wdt:P279`    | subclass      | predicate |\n",
                "| `wdt:P17`     | country       | predicate |\n",
                "| `wd:Q38`      | Italy  | node      |\n",
                "| `wd:Q641556`  | Verona Arena  | node      |\n",
                "| `wd:Q1747689` | Ancient Rome  | node |\n",
                "| `wd:Q46`      | Europe        | node |\n",
                "| `wd:Q173527`  | Knossos       | node |\n",
                "| `wd:Q839954`  | archaeological site | node |\n",
                "\n",
                "\n",
                "Also consider\n",
                "\n",
                "```\n",
                "?p wdt:P17 wd:Q38  . \n",
                "?p wdt:P31 wd:Q839954  . \n",
                "```\n",
                "\n",
                "is the BGP to retrieve all **archaeological sites in italy**"
            ]
        },
        {
            "cell_type": "markdown",
            "id": "7af439fb-96e4-4dbb-a381-f19afab79f86",
            "metadata": {
                "tags": []
            },
            "source": [
                "## Workload Goals\n",
                "\n",
                "1. Identify the BGP that connect an archaeological site to the country, the continent, and the culture \n",
                "\n",
                "2. Identify the BGP to retrieve other types of an archaeological site, e.g., human settlement or theatre\n",
                "\n",
                "3. Is there any relevant numerical attribute that describes these sites, e.g., number visitors?\n",
                "\n",
                "4. Analyze the number of archaeological sites per type and country\n",
                " \n",
                "   4.1 Which country has more archaeological sites? Which country has the most  human settlements?\n",
                "   \n",
                "   4.2 Which countries have Ancient Rome sites, which other \"archaeological cultures\" are described?\n",
                "   \n",
                "   4.3 Which country has the most diverse set of civilizations or cultures across its sites?\n",
                "   \n",
                "   4.4 If you are interested in visiting some sites, which country would you pick? Based on what criteria?\n"
            ]
        },
        {
            "cell_type": "code",
            "execution_count": 3,
            "id": "ade01416-92e7-4ad7-b9a9-b8fb330750dc",
            "metadata": {},
            "outputs": [
                {
                    "name": "stdout",
                    "output_type": "stream",
                    "text": [
                        "[('property', 'http://www.wikidata.org/prop/direct/P2596'), ('name', 'culture')]\n",
                        "[('property', 'http://www.wikidata.org/prop/direct/P3569'), ('name', 'Cultureel Woordenboek ID')]\n",
                        "[('property', 'http://www.wikidata.org/prop/direct/P30'), ('name', 'continent')]\n",
                        "[('property', 'http://www.wikidata.org/prop/direct/P8698'), ('name', \"Turkey's Culture Portal ID\")]\n",
                        "[('property', 'http://www.wikidata.org/prop/direct/P4702'), ('name', 'Google Arts & Culture partner ID')]\n",
                        "[('property', 'http://www.wikidata.org/prop/direct/P9013'), ('name', 'Encyclopedia of Saami Culture ID')]\n"
                    ]
                },
                {
                    "data": {
                        "text/plain": [
                            "6"
                        ]
                    },
                    "execution_count": 3,
                    "metadata": {},
                    "output_type": "execute_result"
                }
            ],
            "source": [
                "#let's find properties relative to continent, culture for an archeological site\n",
                "q = f\"\"\"\n",
                "select distinct ?property ?name where{{\n",
                "?site wdt:P31 wd:Q839954 .\n",
                "?site ?property ?object .\n",
                "?property <http://schema.org/name> ?name .\n",
                "filter regex(?name, '.*(culture|continent).*', 'i')\n",
                "}}\n",
                "limit 20\n",
                "\"\"\"\n",
                "run_query(q)"
            ]
        },
        {
            "cell_type": "code",
            "execution_count": 4,
            "id": "0cb6fbb7-0949-4dee-8d5e-1f6bf8f44216",
            "metadata": {},
            "outputs": [
                {
                    "name": "stdout",
                    "output_type": "stream",
                    "text": [
                        "[('site', 'http://www.wikidata.org/entity/Q1046434'), ('name', 'Casa Romuli')]\n",
                        "[('site', 'http://www.wikidata.org/entity/Q17624209'), ('name', 'Catacomba di Santa Savinilla')]\n",
                        "[('site', 'http://www.wikidata.org/entity/Q17631557'), ('name', 'Gymnasium')]\n",
                        "[('site', 'http://www.wikidata.org/entity/Q17637300'), ('name', 'Nuraghe Sirai')]\n",
                        "[('site', 'http://www.wikidata.org/entity/Q17651475'), ('name', 'Porta Venere')]\n",
                        "[('site', 'http://www.wikidata.org/entity/Q17652208'), ('name', 'Excavation at Largo Perosi - Via Giulia (Rome)')]\n",
                        "[('site', 'http://www.wikidata.org/entity/Q21208533'), ('name', 'Temple of Fortuna Respiciens')]\n",
                        "[('site', 'http://www.wikidata.org/entity/Q908472'), ('name', 'Domus Augustana')]\n",
                        "[('site', 'http://www.wikidata.org/entity/Q1665908'), ('name', 'Interamna Lirenas')]\n",
                        "[('site', 'http://www.wikidata.org/entity/Q22907580'), ('name', 'Palace of Domitian')]\n"
                    ]
                },
                {
                    "data": {
                        "text/plain": [
                            "10"
                        ]
                    },
                    "execution_count": 4,
                    "metadata": {},
                    "output_type": "execute_result"
                }
            ],
            "source": [
                "culture = 'wdt:P2596'\n",
                "continent = 'wdt:P30'\n",
                "\n",
                "#Point 1. Identify the BGP that connets an arch site to the country, the continent, the culture\n",
                "\n",
                "#first of all let's find an archeological site\n",
                "q = f\"\"\"\n",
                "select ?site ?name where{{\n",
                "?site wdt:P31 wd:Q839954 .\n",
                "?site <http://schema.org/name> ?name .\n",
                "?site wdt:P17 wd:Q38 .\n",
                "}}\n",
                "limit 10\n",
                "\"\"\"\n",
                "run_query(q)"
            ]
        },
        {
            "cell_type": "code",
            "execution_count": 5,
            "id": "9dfa0ad1-c21a-4072-ace9-f4235f1b853b",
            "metadata": {},
            "outputs": [
                {
                    "name": "stdout",
                    "output_type": "stream",
                    "text": [
                        "Empty\n"
                    ]
                },
                {
                    "data": {
                        "text/plain": [
                            "0"
                        ]
                    },
                    "execution_count": 5,
                    "metadata": {},
                    "output_type": "execute_result"
                }
            ],
            "source": [
                "Gymnasium = 'wd:Q17631557'\n",
                "\n",
                "#let's answer to point 1\n",
                "q = f\"\"\"\n",
                "select ?siteName ?countryName ?continent ?continentName where{{\n",
                "wd:Q17631557 wdt:P17 ?country ;\n",
                "    wdt:P30 ?continent ;\n",
                "    <http://schema.org/name> ?siteName .\n",
                "    \n",
                "?continent <http://schema.org/name> ?continentName .\n",
                "?country <http://schema.org/name> ?countryName .\n",
                "}}\n",
                "\"\"\"\n",
                "run_query(q)"
            ]
        },
        {
            "cell_type": "code",
            "execution_count": 6,
            "id": "1a62f154-b770-4883-a7ed-105d7dd503d8",
            "metadata": {},
            "outputs": [
                {
                    "name": "stdout",
                    "output_type": "stream",
                    "text": [
                        "[('p', 'http://www.wikidata.org/prop/direct/P131'), ('name', 'located in the administrative territorial entity')]\n",
                        "[('p', 'http://www.wikidata.org/prop/direct/P17'), ('name', 'country')]\n",
                        "[('p', 'http://www.wikidata.org/prop/direct/P18'), ('name', 'image')]\n",
                        "[('p', 'http://www.wikidata.org/prop/direct/P2596'), ('name', 'culture')]\n",
                        "[('p', 'http://www.wikidata.org/prop/direct/P2671'), ('name', 'Google Knowledge Graph ID')]\n",
                        "[('p', 'http://www.wikidata.org/prop/direct/P31'), ('name', 'instance of')]\n",
                        "[('p', 'http://www.wikidata.org/prop/direct/P373'), ('name', 'Commons category')]\n"
                    ]
                },
                {
                    "data": {
                        "text/plain": [
                            "7"
                        ]
                    },
                    "execution_count": 6,
                    "metadata": {},
                    "output_type": "execute_result"
                }
            ],
            "source": [
                "#what property is Gymnasium missing?\n",
                "\n",
                "q = f\"\"\"\n",
                "select ?p ?name where{{\n",
                "wd:Q17631557 ?p ?o .\n",
                "?p <http://schema.org/name> ?name\n",
                "}}\n",
                "\"\"\"\n",
                "run_query(q)"
            ]
        },
        {
            "cell_type": "code",
            "execution_count": 7,
            "id": "8ddf1661-9068-447f-9303-f164f2ee8a18",
            "metadata": {},
            "outputs": [
                {
                    "name": "stdout",
                    "output_type": "stream",
                    "text": [
                        "[('continent', 'http://www.wikidata.org/entity/Q46'), ('name', 'Europe')]\n"
                    ]
                },
                {
                    "data": {
                        "text/plain": [
                            "1"
                        ]
                    },
                    "execution_count": 7,
                    "metadata": {},
                    "output_type": "execute_result"
                }
            ],
            "source": [
                "#is a country connected to its continent via the \"continent\" property?\n",
                "q = f\"\"\"\n",
                "select ?continent ?name where{{\n",
                "wd:Q38 wdt:P30 ?continent .\n",
                "?continent <http://schema.org/name> ?name\n",
                "}}\n",
                "\"\"\"\n",
                "run_query(q)"
            ]
        },
        {
            "cell_type": "code",
            "execution_count": 8,
            "id": "c9e37b4a-f61a-4735-af4d-dc54cce68a80",
            "metadata": {},
            "outputs": [
                {
                    "name": "stdout",
                    "output_type": "stream",
                    "text": [
                        "[('siteName', 'Gymnasium'), ('countryName', 'Italy'), ('continent', 'http://www.wikidata.org/entity/Q46'), ('continentName', 'Europe'), ('culture', 'http://www.wikidata.org/entity/Q2277'), ('cultureName', 'Roman Empire')]\n"
                    ]
                },
                {
                    "data": {
                        "text/plain": [
                            "1"
                        ]
                    },
                    "execution_count": 8,
                    "metadata": {},
                    "output_type": "execute_result"
                }
            ],
            "source": [
                "#let's modify the query and let's answer point 1\n",
                "#let's answer to point 1\n",
                "q = f\"\"\"\n",
                "select ?siteName ?countryName ?continent ?continentName ?culture ?cultureName where{{\n",
                "wd:Q17631557 wdt:P17 ?country ;\n",
                "    <http://schema.org/name> ?siteName ;\n",
                "    wdt:P2596 ?culture .\n",
                "    \n",
                "?country <http://schema.org/name> ?countryName ;\n",
                "    wdt:P30 ?continent .\n",
                "    \n",
                "?continent <http://schema.org/name> ?continentName .\n",
                "?culture <http://schema.org/name> ?cultureName\n",
                "}}\n",
                "\"\"\"\n",
                "run_query(q)"
            ]
        },
        {
            "cell_type": "code",
            "execution_count": 9,
            "id": "67f332d1-578c-44e8-afb7-1e047ecaf87b",
            "metadata": {},
            "outputs": [
                {
                    "name": "stdout",
                    "output_type": "stream",
                    "text": [
                        "[('cultureName', 'Ancient Rome'), ('n', '378')]\n",
                        "[('cultureName', 'nuragic civilization'), ('n', '74')]\n",
                        "[('cultureName', 'Etruscans'), ('n', '70')]\n",
                        "[('cultureName', 'Ancient Greece'), ('n', '23')]\n",
                        "[('cultureName', 'Samnites'), ('n', '15')]\n",
                        "[('cultureName', 'Sicels'), ('n', '9')]\n",
                        "[('cultureName', 'Roman Empire'), ('n', '7')]\n",
                        "[('cultureName', 'Latins'), ('n', '6')]\n",
                        "[('cultureName', 'Sicani'), ('n', '5')]\n",
                        "[('cultureName', 'Greeks'), ('n', '4')]\n"
                    ]
                },
                {
                    "data": {
                        "text/plain": [
                            "10"
                        ]
                    },
                    "execution_count": 9,
                    "metadata": {},
                    "output_type": "execute_result"
                }
            ],
            "source": [
                "#what are the top 10 cultures for archeological sites in italy?\n",
                "q = f\"\"\"\n",
                "select ?cultureName (count(*) as ?n) where{{\n",
                "?site wdt:P31 wd:Q839954 ;\n",
                "    wdt:P2596 ?culture ;\n",
                "    wdt:P17 wd:Q38 .\n",
                "?culture <http://schema.org/name> ?cultureName\n",
                "}}\n",
                "group by ?cultureName\n",
                "order by desc(?n)\n",
                "limit 10\n",
                "\"\"\"\n",
                "run_query(q)"
            ]
        },
        {
            "cell_type": "code",
            "execution_count": 10,
            "id": "15440f26-cee5-47a1-a547-6749bb3b22f9",
            "metadata": {},
            "outputs": [
                {
                    "name": "stdout",
                    "output_type": "stream",
                    "text": [
                        "[('class', 'http://www.wikidata.org/entity/Q1291195'), ('className', 'find spot')]\n",
                        "[('class', 'http://www.wikidata.org/entity/Q15642541'), ('className', 'human-geographic territorial entity')]\n"
                    ]
                },
                {
                    "data": {
                        "text/plain": [
                            "2"
                        ]
                    },
                    "execution_count": 10,
                    "metadata": {},
                    "output_type": "execute_result"
                }
            ],
            "source": [
                "#is Archeological Site a sublclass of something?\n",
                "q = f\"\"\"\n",
                "select distinct ?class ?className where{{\n",
                "wd:Q839954 wdt:P279 ?class .\n",
                "?class <http://schema.org/name> ?className .\n",
                "}}\n",
                "\"\"\"\n",
                "run_query(q)"
            ]
        },
        {
            "cell_type": "code",
            "execution_count": 11,
            "id": "dec1082a-2d92-4871-a421-81bdff7ee28d",
            "metadata": {},
            "outputs": [
                {
                    "name": "stdout",
                    "output_type": "stream",
                    "text": [
                        "[('class', 'http://www.wikidata.org/entity/Q1496967'), ('className', 'territorial entity')]\n",
                        "[('class', 'http://www.wikidata.org/entity/Q16686448'), ('className', 'artificial entity')]\n"
                    ]
                },
                {
                    "data": {
                        "text/plain": [
                            "2"
                        ]
                    },
                    "execution_count": 11,
                    "metadata": {},
                    "output_type": "execute_result"
                }
            ],
            "source": [
                "#let's keep going\n",
                "\n",
                "tmp = 'wd:Q15642541'\n",
                "q = f\"\"\"\n",
                "select distinct ?class ?className where{{\n",
                "wd:Q15642541 wdt:P279 ?class .\n",
                "?class <http://schema.org/name> ?className .\n",
                "}}\n",
                "\"\"\"\n",
                "run_query(q)"
            ]
        },
        {
            "cell_type": "code",
            "execution_count": 12,
            "id": "5840068f-0482-4307-9a47-ffbd65e4bb98",
            "metadata": {},
            "outputs": [
                {
                    "name": "stdout",
                    "output_type": "stream",
                    "text": [
                        "[('class', 'http://www.wikidata.org/entity/Q618123'), ('className', 'geographical feature')]\n"
                    ]
                },
                {
                    "data": {
                        "text/plain": [
                            "1"
                        ]
                    },
                    "execution_count": 12,
                    "metadata": {},
                    "output_type": "execute_result"
                }
            ],
            "source": [
                "tmp1 = 'wd:Q1496967'\n",
                "q = f\"\"\"\n",
                "select distinct ?class ?className where{{\n",
                "wd:Q1496967 wdt:P279 ?class .\n",
                "?class <http://schema.org/name> ?className .\n",
                "}}\n",
                "\"\"\"\n",
                "run_query(q)"
            ]
        },
        {
            "cell_type": "code",
            "execution_count": 13,
            "id": "07bf2a00-29f2-4f85-a26a-01ccca5b8abb",
            "metadata": {},
            "outputs": [
                {
                    "name": "stdout",
                    "output_type": "stream",
                    "text": [
                        "[('class', 'http://www.wikidata.org/entity/Q2221906'), ('className', 'geographic location')]\n",
                        "[('class', 'http://www.wikidata.org/entity/Q27096213'), ('className', 'geographic entity')]\n"
                    ]
                },
                {
                    "data": {
                        "text/plain": [
                            "2"
                        ]
                    },
                    "execution_count": 13,
                    "metadata": {},
                    "output_type": "execute_result"
                }
            ],
            "source": [
                "tmp = 'wd:Q618123'\n",
                "q = f\"\"\"\n",
                "select distinct ?class ?className where{{\n",
                "wd:Q618123 wdt:P279 ?class .\n",
                "?class <http://schema.org/name> ?className .\n",
                "}}\n",
                "\"\"\"\n",
                "run_query(q)"
            ]
        },
        {
            "cell_type": "code",
            "execution_count": 14,
            "id": "6d8335a2-e5f2-4d38-b7a6-40da66d39c93",
            "metadata": {},
            "outputs": [
                {
                    "name": "stdout",
                    "output_type": "stream",
                    "text": [
                        "[('class', 'http://www.wikidata.org/entity/Q14752696'), ('name', 'ancient Roman structure')]\n",
                        "[('class', 'http://www.wikidata.org/entity/Q7362268'), ('name', 'Roman amphitheatre')]\n",
                        "[('class', 'http://www.wikidata.org/entity/Q24354'), ('name', 'theatre')]\n",
                        "[('class', 'http://www.wikidata.org/entity/Q570116'), ('name', 'tourist attraction')]\n",
                        "[('class', 'http://www.wikidata.org/entity/Q839954'), ('name', 'archaeological site')]\n",
                        "[('class', 'http://www.wikidata.org/entity/Q153562'), ('name', 'opera house')]\n"
                    ]
                },
                {
                    "data": {
                        "text/plain": [
                            "6"
                        ]
                    },
                    "execution_count": 14,
                    "metadata": {},
                    "output_type": "execute_result"
                }
            ],
            "source": [
                "#we're getting more and more general but i'm afraid of the amount of results i'd get if i tried to find all the subclasses of\n",
                "#geographic location or geographic entity.\n",
                "\n",
                "#we have already available a theatre and a city, let's check their classes\n",
                "\n",
                "q = f\"\"\"\n",
                "select ?class ?name where{{\n",
                "wd:Q641556 wdt:P31 ?class .\n",
                "?class <http://schema.org/name> ?name\n",
                "}}\n",
                "\"\"\"\n",
                "run_query(q)"
            ]
        },
        {
            "cell_type": "code",
            "execution_count": 15,
            "id": "2e7beade-22dd-4f8f-8369-5245a88a24af",
            "metadata": {},
            "outputs": [
                {
                    "name": "stdout",
                    "output_type": "stream",
                    "text": [
                        "[('class', 'http://www.wikidata.org/entity/Q811979'), ('className', 'architectural structure')]\n",
                        "[('class', 'http://www.wikidata.org/entity/Q21752084'), ('className', 'Roman archaeological site')]\n",
                        "[('class', 'http://www.wikidata.org/entity/Q41176'), ('className', 'building')]\n"
                    ]
                },
                {
                    "data": {
                        "text/plain": [
                            "3"
                        ]
                    },
                    "execution_count": 15,
                    "metadata": {},
                    "output_type": "execute_result"
                }
            ],
            "source": [
                "Theatre = 'wd:Q24354'\n",
                "Attraction = 'wd:Q570116'\n",
                "OperaHouse = 'wd:Q153562'\n",
                "#let's see the class of \"ancient roman structure\"\n",
                "tmp = 'wd:Q14752696'\n",
                "q = f\"\"\"\n",
                "select distinct ?class ?className where{{\n",
                "wd:Q14752696 wdt:P279 ?class .\n",
                "?class <http://schema.org/name> ?className .\n",
                "}}\n",
                "\"\"\"\n",
                "run_query(q)"
            ]
        },
        {
            "cell_type": "code",
            "execution_count": 16,
            "id": "caad1133-3cf1-47cb-8ee5-76cb983f418e",
            "metadata": {},
            "outputs": [
                {
                    "name": "stdout",
                    "output_type": "stream",
                    "text": [
                        "[('culture', 'http://www.wikidata.org/entity/Q1747689'), ('name', 'Ancient Rome')]\n"
                    ]
                },
                {
                    "data": {
                        "text/plain": [
                            "1"
                        ]
                    },
                    "execution_count": 16,
                    "metadata": {},
                    "output_type": "execute_result"
                }
            ],
            "source": [
                "#Roman archeological structure is most likely subclass of archeological structure, for now let's check something else\n",
                "\n",
                "#does Verona Arena have a culture associated?\n",
                "q = f\"\"\"\n",
                "select ?culture ?name where{{\n",
                "wd:Q641556 wdt:P2596 ?culture .\n",
                "?culture <http://schema.org/name> ?name\n",
                "}}\n",
                "\"\"\"\n",
                "run_query(q)"
            ]
        },
        {
            "cell_type": "code",
            "execution_count": 17,
            "id": "9ed3c09a-f2d1-45e8-8829-ab7a5238fcab",
            "metadata": {},
            "outputs": [
                {
                    "name": "stdout",
                    "output_type": "stream",
                    "text": [
                        "[('class', 'http://www.wikidata.org/entity/Q3024240'), ('name', 'historical country')]\n"
                    ]
                },
                {
                    "data": {
                        "text/plain": [
                            "1"
                        ]
                    },
                    "execution_count": 17,
                    "metadata": {},
                    "output_type": "execute_result"
                }
            ],
            "source": [
                "#let's try and find the class related to culture\n",
                "tmp = 'wd:Q1747689'\n",
                "q = f\"\"\"\n",
                "select ?class ?name where{{\n",
                "    wd:Q1747689 wdt:P31 ?class .\n",
                "    ?class <http://schema.org/name> ?name\n",
                "}}\n",
                "\"\"\"\n",
                "run_query(q)"
            ]
        },
        {
            "cell_type": "code",
            "execution_count": 18,
            "id": "16c59f32-9816-41f1-af30-7c82009aa011",
            "metadata": {},
            "outputs": [
                {
                    "name": "stdout",
                    "output_type": "stream",
                    "text": [
                        "[('class', 'http://www.wikidata.org/entity/Q1243603'), ('name', '14 regions of Augustan Rome')]\n",
                        "[('class', 'http://www.wikidata.org/entity/Q1489259'), ('name', 'superpower')]\n",
                        "[('class', 'http://www.wikidata.org/entity/Q731966'), ('name', 'nymphaeum')]\n",
                        "[('class', 'http://www.wikidata.org/entity/Q19757'), ('name', 'Roman theatre')]\n",
                        "[('class', 'http://www.wikidata.org/entity/Q1063239'), ('name', 'polity')]\n",
                        "[('class', 'http://www.wikidata.org/entity/Q3822604'), ('name', 'roman mausoleum')]\n",
                        "[('class', 'http://www.wikidata.org/entity/Q11801536'), ('name', 'winged altarpiece')]\n",
                        "[('class', 'http://www.wikidata.org/entity/Q30504603'), ('name', 'Maya site in Mexico')]\n",
                        "[('class', 'http://www.wikidata.org/entity/Q586552'), ('name', 'Viking ring fortress')]\n",
                        "[('class', 'http://www.wikidata.org/entity/Q6581615'), ('name', 'thermae')]\n",
                        "[('class', 'http://www.wikidata.org/entity/Q29702995'), ('name', 'chalkotheke')]\n",
                        "[('class', 'http://www.wikidata.org/entity/Q656720'), ('name', 'workshop')]\n",
                        "[('class', 'http://www.wikidata.org/entity/Q660398'), ('name', 'cryptoporticus')]\n",
                        "[('class', 'http://www.wikidata.org/entity/Q1193753'), ('name', 'stone row')]\n",
                        "[('class', 'http://www.wikidata.org/entity/Q15649510'), ('name', 'satrapy of the Sasanian Empire')]\n",
                        "[('class', 'http://www.wikidata.org/entity/Q20010053'), ('name', 'Etruscan grave')]\n",
                        "[('class', 'http://www.wikidata.org/entity/Q2529225'), ('name', 'nummus')]\n",
                        "[('class', 'http://www.wikidata.org/entity/Q1114461'), ('name', 'comics character')]\n",
                        "[('class', 'http://www.wikidata.org/entity/Q146924'), ('name', 'Roman limes')]\n",
                        "[('class', 'http://www.wikidata.org/entity/Q16335296'), ('name', 'historical profession')]\n",
                        "[('class', 'http://www.wikidata.org/entity/Q173387'), ('name', 'grave')]\n",
                        "[('class', 'http://www.wikidata.org/entity/Q1784293'), ('name', 'cordon')]\n",
                        "[('class', 'http://www.wikidata.org/entity/Q2590445'), ('name', 'fictional ethnic group')]\n",
                        "[('class', 'http://www.wikidata.org/entity/Q27921916'), ('name', 'anthropomorphic character')]\n",
                        "[('class', 'http://www.wikidata.org/entity/Q283202'), ('name', 'harbor')]\n",
                        "[('class', 'http://www.wikidata.org/entity/Q2977'), ('name', 'cathedral')]\n",
                        "[('class', 'http://www.wikidata.org/entity/Q3947'), ('name', 'house')]\n",
                        "[('class', 'http://www.wikidata.org/entity/Q44613'), ('name', 'monastery')]\n",
                        "[('class', 'http://www.wikidata.org/entity/Q45621'), ('name', 'ceramic')]\n",
                        "[('class', 'http://www.wikidata.org/entity/Q473972'), ('name', 'protected area')]\n",
                        "[('class', 'http://www.wikidata.org/entity/Q517596'), ('name', 'mechanism')]\n",
                        "[('class', 'http://www.wikidata.org/entity/Q56557504'), ('name', 'city of Iran')]\n",
                        "[('class', 'http://www.wikidata.org/entity/Q1083662'), ('name', 'Tetradrachm')]\n",
                        "[('class', 'http://www.wikidata.org/entity/Q1250464'), ('name', 'realm')]\n",
                        "[('class', 'http://www.wikidata.org/entity/Q1497375'), ('name', 'architectural ensemble')]\n",
                        "[('class', 'http://www.wikidata.org/entity/Q1778821'), ('name', 'cuisine')]\n",
                        "[('class', 'http://www.wikidata.org/entity/Q192601'), ('name', 'oppidum')]\n",
                        "[('class', 'http://www.wikidata.org/entity/Q1968435'), ('name', 'national cuisine')]\n",
                        "[('class', 'http://www.wikidata.org/entity/Q19844914'), ('name', 'university building')]\n",
                        "[('class', 'http://www.wikidata.org/entity/Q201714'), ('name', 'tunic')]\n",
                        "[('class', 'http://www.wikidata.org/entity/Q699405'), ('name', 'residence')]\n",
                        "[('class', 'http://www.wikidata.org/entity/Q816829'), ('name', 'periodization')]\n",
                        "[('class', 'http://www.wikidata.org/entity/Q94951'), ('name', 'regional cuisine')]\n",
                        "[('class', 'http://www.wikidata.org/entity/Q1323642'), ('name', 'transcontinental country')]\n",
                        "[('class', 'http://www.wikidata.org/entity/Q1470705'), ('name', 'fertility deity')]\n",
                        "[('class', 'http://www.wikidata.org/entity/Q16513881'), ('name', 'Norse deity')]\n",
                        "[('class', 'http://www.wikidata.org/entity/Q1792379'), ('name', 'art genre')]\n",
                        "[('class', 'http://www.wikidata.org/entity/Q194235'), ('name', 'lunisolar calendar')]\n",
                        "[('class', 'http://www.wikidata.org/entity/Q19953632'), ('name', 'former administrative territorial entity')]\n",
                        "[('class', 'http://www.wikidata.org/entity/Q20937557'), ('name', 'series')]\n",
                        "[('class', 'http://www.wikidata.org/entity/Q2887138'), ('name', 'civil basilica')]\n",
                        "[('class', 'http://www.wikidata.org/entity/Q41863069'), ('name', 'war deity')]\n",
                        "[('class', 'http://www.wikidata.org/entity/Q43483'), ('name', 'well')]\n",
                        "[('class', 'http://www.wikidata.org/entity/Q4363262'), ('name', 'smooth-sided pyramid')]\n",
                        "[('class', 'http://www.wikidata.org/entity/Q44782'), ('name', 'port')]\n",
                        "[('class', 'http://www.wikidata.org/entity/Q48634'), ('name', 'sarcophagus')]\n",
                        "[('class', 'http://www.wikidata.org/entity/Q756102'), ('name', 'open-air museum')]\n",
                        "[('class', 'http://www.wikidata.org/entity/Q106834231'), ('name', 'music by period of time')]\n",
                        "[('class', 'http://www.wikidata.org/entity/Q11269813'), ('name', 'cave with prehistoric art')]\n",
                        "[('class', 'http://www.wikidata.org/entity/Q14752696'), ('name', 'ancient Roman structure')]\n",
                        "[('class', 'http://www.wikidata.org/entity/Q1792644'), ('name', 'art style')]\n",
                        "[('class', 'http://www.wikidata.org/entity/Q207174'), ('name', 'personification')]\n",
                        "[('class', 'http://www.wikidata.org/entity/Q25810847'), ('name', 'folkloristic character')]\n",
                        "[('class', 'http://www.wikidata.org/entity/Q276548'), ('name', 'Secretos')]\n",
                        "[('class', 'http://www.wikidata.org/entity/Q28171280'), ('name', 'ancient civilization')]\n",
                        "[('class', 'http://www.wikidata.org/entity/Q41207'), ('name', 'coin')]\n",
                        "[('class', 'http://www.wikidata.org/entity/Q511056'), ('name', 'solar deity')]\n",
                        "[('class', 'http://www.wikidata.org/entity/Q6058157'), ('name', 'god')]\n",
                        "[('class', 'http://www.wikidata.org/entity/Q862597'), ('name', 'musical form')]\n",
                        "[('class', 'http://www.wikidata.org/entity/Q88205'), ('name', 'castrum')]\n",
                        "[('class', 'http://www.wikidata.org/entity/Q99541706'), ('name', 'historical unrecognized state')]\n",
                        "[('class', 'http://www.wikidata.org/entity/Q1093580'), ('name', 'Han surname')]\n",
                        "[('class', 'http://www.wikidata.org/entity/Q1747829'), ('name', 'notname')]\n",
                        "[('class', 'http://www.wikidata.org/entity/Q2197893'), ('name', 'chine')]\n",
                        "[('class', 'http://www.wikidata.org/entity/Q2561694'), ('name', 'city-kingdom of Cyprus')]\n",
                        "[('class', 'http://www.wikidata.org/entity/Q25906214'), ('name', 'liquid measure')]\n",
                        "[('class', 'http://www.wikidata.org/entity/Q29553'), ('name', 'sanctuary')]\n",
                        "[('class', 'http://www.wikidata.org/entity/Q842697'), ('name', 'thunder god')]\n",
                        "[('class', 'http://www.wikidata.org/entity/Q15835'), ('name', 'Japanese garden')]\n",
                        "[('class', 'http://www.wikidata.org/entity/Q17485079'), ('name', 'church ruin')]\n",
                        "[('class', 'http://www.wikidata.org/entity/Q200141'), ('name', 'necropolis')]\n",
                        "[('class', 'http://www.wikidata.org/entity/Q32815'), ('name', 'mosque')]\n",
                        "[('class', 'http://www.wikidata.org/entity/Q782970'), ('name', 'Domus')]\n",
                        "[('class', 'http://www.wikidata.org/entity/Q217123'), ('name', 'oracle')]\n",
                        "[('class', 'http://www.wikidata.org/entity/Q3363945'), ('name', 'archaeological park')]\n",
                        "[('class', 'http://www.wikidata.org/entity/Q465960'), ('name', 'Jesuit missions among the Guaran\u00ed')]\n",
                        "[('class', 'http://www.wikidata.org/entity/Q744099'), ('name', 'hillfort')]\n",
                        "[('class', 'http://www.wikidata.org/entity/Q867143'), ('name', 'Roman temple')]\n",
                        "[('class', 'http://www.wikidata.org/entity/Q986008'), ('name', 'payment system')]\n",
                        "[('class', 'http://www.wikidata.org/entity/Q1080794'), ('name', 'state school')]\n",
                        "[('class', 'http://www.wikidata.org/entity/Q131668'), ('name', 'acropolis')]\n",
                        "[('class', 'http://www.wikidata.org/entity/Q189970'), ('name', 'social status')]\n",
                        "[('class', 'http://www.wikidata.org/entity/Q4390114'), ('name', 'bronze object')]\n",
                        "[('class', 'http://www.wikidata.org/entity/Q11183017'), ('name', 'open-air theatre')]\n",
                        "[('class', 'http://www.wikidata.org/entity/Q182037'), ('name', 'naiad')]\n",
                        "[('class', 'http://www.wikidata.org/entity/Q200538'), ('name', 'party')]\n",
                        "[('class', 'http://www.wikidata.org/entity/Q470775'), ('name', 'a posteriori language')]\n",
                        "[('class', 'http://www.wikidata.org/entity/Q7362268'), ('name', 'Roman amphitheatre')]\n",
                        "[('class', 'http://www.wikidata.org/entity/Q1640824'), ('name', 'inscription')]\n",
                        "[('class', 'http://www.wikidata.org/entity/Q180927'), ('name', 'mastaba')]\n"
                    ]
                },
                {
                    "data": {
                        "text/plain": [
                            "100"
                        ]
                    },
                    "execution_count": 18,
                    "metadata": {},
                    "output_type": "execute_result"
                }
            ],
            "source": [
                "#let's find the class of all entities that refer to a certain culture\n",
                "q = f\"\"\"\n",
                "select distinct ?class ?name where{{\n",
                "?entity wdt:P2596 ?culture .\n",
                "?entity wdt:P31 ?class .\n",
                "?class <http://schema.org/name> ?name .\n",
                "}}\n",
                "limit 100\n",
                "\"\"\"\n",
                "run_query(q)"
            ]
        },
        {
            "cell_type": "code",
            "execution_count": 19,
            "id": "4019861d-7aa4-45c4-ab13-f2032b50d402",
            "metadata": {},
            "outputs": [
                {
                    "name": "stdout",
                    "output_type": "stream",
                    "text": [
                        "[('class', 'http://www.wikidata.org/entity/Q14947481'), ('name', 'wierde')]\n",
                        "[('class', 'http://www.wikidata.org/entity/Q505963'), ('name', 'artificial dwelling hill')]\n",
                        "[('class', 'http://www.wikidata.org/entity/Q14601169'), ('name', 'human fortified settlement')]\n",
                        "[('class', 'http://www.wikidata.org/entity/Q325017'), ('name', 'causewayed enclosure')]\n",
                        "[('class', 'http://www.wikidata.org/entity/Q5069563'), ('name', 'chambered long barrow')]\n",
                        "[('class', 'http://www.wikidata.org/entity/Q30504603'), ('name', 'Maya site in Mexico')]\n",
                        "[('class', 'http://www.wikidata.org/entity/Q6581615'), ('name', 'thermae')]\n",
                        "[('class', 'http://www.wikidata.org/entity/Q95463156'), ('name', 'Ancient Roman dam')]\n",
                        "[('class', 'http://www.wikidata.org/entity/Q1128906'), ('name', 'medina quarter')]\n",
                        "[('class', 'http://www.wikidata.org/entity/Q19979289'), ('name', 'birth house')]\n",
                        "[('class', 'http://www.wikidata.org/entity/Q29702995'), ('name', 'chalkotheke')]\n",
                        "[('class', 'http://www.wikidata.org/entity/Q1193753'), ('name', 'stone row')]\n",
                        "[('class', 'http://www.wikidata.org/entity/Q2006795'), ('name', 'abschnittsmotte')]\n",
                        "[('class', 'http://www.wikidata.org/entity/Q28936794'), ('name', 'provincial park in Saskatchewan')]\n",
                        "[('class', 'http://www.wikidata.org/entity/Q37988355'), ('name', 'Tennessee state park')]\n",
                        "[('class', 'http://www.wikidata.org/entity/Q31028314'), ('name', 'partial contour fort')]\n",
                        "[('class', 'http://www.wikidata.org/entity/Q146924'), ('name', 'Roman limes')]\n",
                        "[('class', 'http://www.wikidata.org/entity/Q173387'), ('name', 'grave')]\n",
                        "[('class', 'http://www.wikidata.org/entity/Q1785071'), ('name', 'fort')]\n",
                        "[('class', 'http://www.wikidata.org/entity/Q2065736'), ('name', 'cultural property')]\n",
                        "[('class', 'http://www.wikidata.org/entity/Q2977'), ('name', 'cathedral')]\n",
                        "[('class', 'http://www.wikidata.org/entity/Q372363'), ('name', 'geotope')]\n",
                        "[('class', 'http://www.wikidata.org/entity/Q3947'), ('name', 'house')]\n",
                        "[('class', 'http://www.wikidata.org/entity/Q44613'), ('name', 'monastery')]\n",
                        "[('class', 'http://www.wikidata.org/entity/Q473972'), ('name', 'protected area')]\n",
                        "[('class', 'http://www.wikidata.org/entity/Q1497375'), ('name', 'architectural ensemble')]\n",
                        "[('class', 'http://www.wikidata.org/entity/Q22022298'), ('name', 'rock relief')]\n",
                        "[('class', 'http://www.wikidata.org/entity/Q152081'), ('name', 'concentration camp')]\n",
                        "[('class', 'http://www.wikidata.org/entity/Q15243209'), ('name', 'historic district')]\n",
                        "[('class', 'http://www.wikidata.org/entity/Q164240'), ('name', 'megalith')]\n",
                        "[('class', 'http://www.wikidata.org/entity/Q17376095'), ('name', 'cadastral municipality of Austria')]\n",
                        "[('class', 'http://www.wikidata.org/entity/Q2887138'), ('name', 'civil basilica')]\n",
                        "[('class', 'http://www.wikidata.org/entity/Q2989470'), ('name', 'commune of Mauritania')]\n",
                        "[('class', 'http://www.wikidata.org/entity/Q4363262'), ('name', 'smooth-sided pyramid')]\n",
                        "[('class', 'http://www.wikidata.org/entity/Q11269813'), ('name', 'cave with prehistoric art')]\n",
                        "[('class', 'http://www.wikidata.org/entity/Q14752696'), ('name', 'ancient Roman structure')]\n",
                        "[('class', 'http://www.wikidata.org/entity/Q15893266'), ('name', 'former entity')]\n",
                        "[('class', 'http://www.wikidata.org/entity/Q1930585'), ('name', 'victory column')]\n",
                        "[('class', 'http://www.wikidata.org/entity/Q2087181'), ('name', 'historic house museum')]\n",
                        "[('class', 'http://www.wikidata.org/entity/Q2232001'), ('name', 'show cave')]\n",
                        "[('class', 'http://www.wikidata.org/entity/Q2434238'), ('name', 'heritage')]\n",
                        "[('class', 'http://www.wikidata.org/entity/Q88205'), ('name', 'castrum')]\n",
                        "[('class', 'http://www.wikidata.org/entity/Q14524493'), ('name', 'terrain')]\n",
                        "[('class', 'http://www.wikidata.org/entity/Q2197893'), ('name', 'chine')]\n",
                        "[('class', 'http://www.wikidata.org/entity/Q2561694'), ('name', 'city-kingdom of Cyprus')]\n",
                        "[('class', 'http://www.wikidata.org/entity/Q29553'), ('name', 'sanctuary')]\n",
                        "[('class', 'http://www.wikidata.org/entity/Q3395377'), ('name', 'ancient monument')]\n",
                        "[('class', 'http://www.wikidata.org/entity/Q628505'), ('name', 'labor camp')]\n",
                        "[('class', 'http://www.wikidata.org/entity/Q1051606'), ('name', 'Daibutsu')]\n",
                        "[('class', 'http://www.wikidata.org/entity/Q17485079'), ('name', 'church ruin')]\n"
                    ]
                },
                {
                    "data": {
                        "text/plain": [
                            "50"
                        ]
                    },
                    "execution_count": 19,
                    "metadata": {},
                    "output_type": "execute_result"
                }
            ],
            "source": [
                "#what if we look for all the classes of entities that are also archeological sites?\n",
                "q = f\"\"\"\n",
                "select distinct ?class ?name where{{\n",
                "?entity wdt:P31 wd:Q839954 .\n",
                "?entity wdt:P31 ?class .\n",
                "?class <http://schema.org/name> ?name .\n",
                "}}\n",
                "limit 50\n",
                "\"\"\"\n",
                "run_query(q)"
            ]
        },
        {
            "cell_type": "code",
            "execution_count": 20,
            "id": "9469f4ee-1214-47ae-b933-f300f076ea7e",
            "metadata": {},
            "outputs": [
                {
                    "name": "stdout",
                    "output_type": "stream",
                    "text": [
                        "[('class', 'http://www.wikidata.org/entity/Q19757'), ('name', 'Roman theatre')]\n",
                        "[('class', 'http://www.wikidata.org/entity/Q2593777'), ('name', 'grave field')]\n",
                        "[('class', 'http://www.wikidata.org/entity/Q13724255'), ('name', 'rock-cut architecture')]\n",
                        "[('class', 'http://www.wikidata.org/entity/Q27916659'), ('name', 'historical location')]\n",
                        "[('class', 'http://www.wikidata.org/entity/Q1785071'), ('name', 'fort')]\n",
                        "[('class', 'http://www.wikidata.org/entity/Q4363262'), ('name', 'smooth-sided pyramid')]\n",
                        "[('class', 'http://www.wikidata.org/entity/Q14752696'), ('name', 'ancient Roman structure')]\n",
                        "[('class', 'http://www.wikidata.org/entity/Q2434238'), ('name', 'heritage')]\n",
                        "[('class', 'http://www.wikidata.org/entity/Q88205'), ('name', 'castrum')]\n",
                        "[('class', 'http://www.wikidata.org/entity/Q1051606'), ('name', 'Daibutsu')]\n",
                        "[('class', 'http://www.wikidata.org/entity/Q200141'), ('name', 'necropolis')]\n",
                        "[('class', 'http://www.wikidata.org/entity/Q3397526'), ('name', 'stone bridge')]\n",
                        "[('class', 'http://www.wikidata.org/entity/Q1708422'), ('name', 'settlement site')]\n",
                        "[('class', 'http://www.wikidata.org/entity/Q470888'), ('name', 'Cast')]\n",
                        "[('class', 'http://www.wikidata.org/entity/Q7362268'), ('name', 'Roman amphitheatre')]\n",
                        "[('class', 'http://www.wikidata.org/entity/Q842402'), ('name', 'Hindu temple')]\n",
                        "[('class', 'http://www.wikidata.org/entity/Q1223230'), ('name', 'Roman bridge')]\n",
                        "[('class', 'http://www.wikidata.org/entity/Q12280'), ('name', 'bridge')]\n",
                        "[('class', 'http://www.wikidata.org/entity/Q15661340'), ('name', 'ancient city')]\n",
                        "[('class', 'http://www.wikidata.org/entity/Q16560'), ('name', 'palace')]\n",
                        "[('class', 'http://www.wikidata.org/entity/Q174782'), ('name', 'square')]\n",
                        "[('class', 'http://www.wikidata.org/entity/Q1959314'), ('name', 'protected area of Russia')]\n",
                        "[('class', 'http://www.wikidata.org/entity/Q20202352'), ('name', 'locality of Mexico')]\n",
                        "[('class', 'http://www.wikidata.org/entity/Q23413'), ('name', 'castle')]\n",
                        "[('class', 'http://www.wikidata.org/entity/Q24354'), ('name', 'theatre')]\n",
                        "[('class', 'http://www.wikidata.org/entity/Q483110'), ('name', 'stadium')]\n",
                        "[('class', 'http://www.wikidata.org/entity/Q486972'), ('name', 'human settlement')]\n",
                        "[('class', 'http://www.wikidata.org/entity/Q4989906'), ('name', 'monument')]\n",
                        "[('class', 'http://www.wikidata.org/entity/Q5119'), ('name', 'capital')]\n",
                        "[('class', 'http://www.wikidata.org/entity/Q515'), ('name', 'city')]\n",
                        "[('class', 'http://www.wikidata.org/entity/Q570116'), ('name', 'tourist attraction')]\n",
                        "[('class', 'http://www.wikidata.org/entity/Q684740'), ('name', 'real property')]\n",
                        "[('class', 'http://www.wikidata.org/entity/Q839954'), ('name', 'archaeological site')]\n",
                        "[('class', 'http://www.wikidata.org/entity/Q148837'), ('name', 'polis')]\n",
                        "[('class', 'http://www.wikidata.org/entity/Q168210'), ('name', 'Internet forum')]\n",
                        "[('class', 'http://www.wikidata.org/entity/Q2319498'), ('name', 'landmark')]\n",
                        "[('class', 'http://www.wikidata.org/entity/Q33506'), ('name', 'museum')]\n",
                        "[('class', 'http://www.wikidata.org/entity/Q5084'), ('name', 'hamlet')]\n",
                        "[('class', 'http://www.wikidata.org/entity/Q57821'), ('name', 'fortification')]\n",
                        "[('class', 'http://www.wikidata.org/entity/Q7075'), ('name', 'library')]\n",
                        "[('class', 'http://www.wikidata.org/entity/Q18247357'), ('name', 'group of structures or buildings')]\n",
                        "[('class', 'http://www.wikidata.org/entity/Q96211395'), ('name', 'heritage site in Sweden')]\n",
                        "[('class', 'http://www.wikidata.org/entity/Q1935728'), ('name', 'stone circle')]\n",
                        "[('class', 'http://www.wikidata.org/entity/Q935773'), ('name', 'cromlech')]\n",
                        "[('class', 'http://www.wikidata.org/entity/Q109607'), ('name', 'ruins')]\n",
                        "[('class', 'http://www.wikidata.org/entity/Q1211146'), ('name', 'rock art')]\n",
                        "[('class', 'http://www.wikidata.org/entity/Q1370598'), ('name', 'place of worship')]\n",
                        "[('class', 'http://www.wikidata.org/entity/Q153562'), ('name', 'opera house')]\n",
                        "[('class', 'http://www.wikidata.org/entity/Q19860854'), ('name', 'destroyed building or structure')]\n",
                        "[('class', 'http://www.wikidata.org/entity/Q2736554'), ('name', 'Candi of Indonesia')]\n"
                    ]
                },
                {
                    "data": {
                        "text/plain": [
                            "50"
                        ]
                    },
                    "execution_count": 20,
                    "metadata": {},
                    "output_type": "execute_result"
                }
            ],
            "source": [
                "#what if we look for all the classes of entities that are also archeological sites and tourist attractions?\n",
                "q = f\"\"\"\n",
                "select distinct ?class ?name where{{\n",
                "?entity wdt:P31 wd:Q839954 .\n",
                "?entity wdt:P31 wd:Q570116 .\n",
                "?entity wdt:P31 ?class .\n",
                "?class <http://schema.org/name> ?name .\n",
                "}}\n",
                "limit 50\n",
                "\"\"\"\n",
                "run_query(q)"
            ]
        },
        {
            "cell_type": "code",
            "execution_count": 21,
            "id": "47b5cfd3-d4eb-4fd1-afba-9a962738ce4e",
            "metadata": {},
            "outputs": [
                {
                    "name": "stdout",
                    "output_type": "stream",
                    "text": [
                        "[('class', 'http://www.wikidata.org/entity/Q1243603'), ('name', '14 regions of Augustan Rome')]\n",
                        "[('class', 'http://www.wikidata.org/entity/Q731966'), ('name', 'nymphaeum')]\n",
                        "[('class', 'http://www.wikidata.org/entity/Q19757'), ('name', 'Roman theatre')]\n",
                        "[('class', 'http://www.wikidata.org/entity/Q3822604'), ('name', 'roman mausoleum')]\n",
                        "[('class', 'http://www.wikidata.org/entity/Q30504603'), ('name', 'Maya site in Mexico')]\n",
                        "[('class', 'http://www.wikidata.org/entity/Q6581615'), ('name', 'thermae')]\n",
                        "[('class', 'http://www.wikidata.org/entity/Q29702995'), ('name', 'chalkotheke')]\n",
                        "[('class', 'http://www.wikidata.org/entity/Q660398'), ('name', 'cryptoporticus')]\n",
                        "[('class', 'http://www.wikidata.org/entity/Q1193753'), ('name', 'stone row')]\n",
                        "[('class', 'http://www.wikidata.org/entity/Q20010053'), ('name', 'Etruscan grave')]\n",
                        "[('class', 'http://www.wikidata.org/entity/Q1510380'), ('name', 'grove')]\n",
                        "[('class', 'http://www.wikidata.org/entity/Q173387'), ('name', 'grave')]\n",
                        "[('class', 'http://www.wikidata.org/entity/Q207524'), ('name', 'islet')]\n",
                        "[('class', 'http://www.wikidata.org/entity/Q2989398'), ('name', 'commune of Algeria')]\n",
                        "[('class', 'http://www.wikidata.org/entity/Q3947'), ('name', 'house')]\n",
                        "[('class', 'http://www.wikidata.org/entity/Q473972'), ('name', 'protected area')]\n",
                        "[('class', 'http://www.wikidata.org/entity/Q56557504'), ('name', 'city of Iran')]\n",
                        "[('class', 'http://www.wikidata.org/entity/Q57346'), ('name', 'defensive wall')]\n",
                        "[('class', 'http://www.wikidata.org/entity/Q192601'), ('name', 'oppidum')]\n",
                        "[('class', 'http://www.wikidata.org/entity/Q697295'), ('name', 'shrine')]\n",
                        "[('class', 'http://www.wikidata.org/entity/Q162602'), ('name', 'river island')]\n",
                        "[('class', 'http://www.wikidata.org/entity/Q19953632'), ('name', 'former administrative territorial entity')]\n",
                        "[('class', 'http://www.wikidata.org/entity/Q2887138'), ('name', 'civil basilica')]\n",
                        "[('class', 'http://www.wikidata.org/entity/Q43483'), ('name', 'well')]\n",
                        "[('class', 'http://www.wikidata.org/entity/Q4363262'), ('name', 'smooth-sided pyramid')]\n",
                        "[('class', 'http://www.wikidata.org/entity/Q44782'), ('name', 'port')]\n",
                        "[('class', 'http://www.wikidata.org/entity/Q11269813'), ('name', 'cave with prehistoric art')]\n",
                        "[('class', 'http://www.wikidata.org/entity/Q14752696'), ('name', 'ancient Roman structure')]\n",
                        "[('class', 'http://www.wikidata.org/entity/Q15836337'), ('name', 'National Historical Park')]\n",
                        "[('class', 'http://www.wikidata.org/entity/Q1930585'), ('name', 'victory column')]\n",
                        "[('class', 'http://www.wikidata.org/entity/Q2434238'), ('name', 'heritage')]\n",
                        "[('class', 'http://www.wikidata.org/entity/Q28171280'), ('name', 'ancient civilization')]\n",
                        "[('class', 'http://www.wikidata.org/entity/Q6023295'), ('name', 'funerary structure')]\n",
                        "[('class', 'http://www.wikidata.org/entity/Q88205'), ('name', 'castrum')]\n",
                        "[('class', 'http://www.wikidata.org/entity/Q1025961'), ('name', 'capital of Japan')]\n",
                        "[('class', 'http://www.wikidata.org/entity/Q2197893'), ('name', 'chine')]\n",
                        "[('class', 'http://www.wikidata.org/entity/Q29553'), ('name', 'sanctuary')]\n",
                        "[('class', 'http://www.wikidata.org/entity/Q200141'), ('name', 'necropolis')]\n",
                        "[('class', 'http://www.wikidata.org/entity/Q782970'), ('name', 'Domus')]\n",
                        "[('class', 'http://www.wikidata.org/entity/Q217123'), ('name', 'oracle')]\n",
                        "[('class', 'http://www.wikidata.org/entity/Q3363945'), ('name', 'archaeological park')]\n",
                        "[('class', 'http://www.wikidata.org/entity/Q465960'), ('name', 'Jesuit missions among the Guaran\u00ed')]\n",
                        "[('class', 'http://www.wikidata.org/entity/Q867143'), ('name', 'Roman temple')]\n",
                        "[('class', 'http://www.wikidata.org/entity/Q131668'), ('name', 'acropolis')]\n",
                        "[('class', 'http://www.wikidata.org/entity/Q1779653'), ('name', 'colossal statue')]\n",
                        "[('class', 'http://www.wikidata.org/entity/Q7362268'), ('name', 'Roman amphitheatre')]\n",
                        "[('class', 'http://www.wikidata.org/entity/Q13218676'), ('name', 'Roman aqueduct')]\n",
                        "[('class', 'http://www.wikidata.org/entity/Q5228121'), ('name', 'dava')]\n",
                        "[('class', 'http://www.wikidata.org/entity/Q827617'), ('name', 'insula')]\n",
                        "[('class', 'http://www.wikidata.org/entity/Q12161100'), ('name', 'cortijo')]\n"
                    ]
                },
                {
                    "data": {
                        "text/plain": [
                            "50"
                        ]
                    },
                    "execution_count": 21,
                    "metadata": {},
                    "output_type": "execute_result"
                }
            ],
            "source": [
                "#let's try with archeological site and culture, see if the classes that we find are relevant for point 2\n",
                "q = f\"\"\"\n",
                "select distinct ?class ?name where{{\n",
                "?entity wdt:P31 wd:Q839954 .\n",
                "?entity wdt:P2596 ?culture .\n",
                "?entity wdt:P31 ?class .\n",
                "?class <http://schema.org/name> ?name .\n",
                "}}\n",
                "limit 50\n",
                "\"\"\"\n",
                "run_query(q)"
            ]
        },
        {
            "cell_type": "code",
            "execution_count": 22,
            "id": "62d2cc3f-3323-4e8b-817e-e201bb7c393b",
            "metadata": {},
            "outputs": [
                {
                    "name": "stdout",
                    "output_type": "stream",
                    "text": [
                        "[('super', 'http://www.wikidata.org/entity/Q14601169'), ('name', 'human fortified settlement')]\n",
                        "[('super', 'http://www.wikidata.org/entity/Q867393'), ('name', 'amenity')]\n",
                        "[('super', 'http://www.wikidata.org/entity/Q66661745'), ('name', 'group of artificial physical objects')]\n",
                        "[('super', 'http://www.wikidata.org/entity/Q1307276'), ('name', 'single-family detached home')]\n",
                        "[('super', 'http://www.wikidata.org/entity/Q185600'), ('name', 'portico')]\n",
                        "[('super', 'http://www.wikidata.org/entity/Q7302601'), ('name', 'recognition')]\n",
                        "[('super', 'http://www.wikidata.org/entity/Q173387'), ('name', 'grave')]\n",
                        "[('super', 'http://www.wikidata.org/entity/Q1785071'), ('name', 'fort')]\n",
                        "[('super', 'http://www.wikidata.org/entity/Q2065736'), ('name', 'cultural property')]\n",
                        "[('super', 'http://www.wikidata.org/entity/Q4421'), ('name', 'forest')]\n",
                        "[('super', 'http://www.wikidata.org/entity/Q1497375'), ('name', 'architectural ensemble')]\n",
                        "[('super', 'http://www.wikidata.org/entity/Q3476533'), ('name', 'monumental sculpture')]\n",
                        "[('super', 'http://www.wikidata.org/entity/Q697295'), ('name', 'shrine')]\n",
                        "[('super', 'http://www.wikidata.org/entity/Q699405'), ('name', 'residence')]\n",
                        "[('super', 'http://www.wikidata.org/entity/Q164240'), ('name', 'megalith')]\n",
                        "[('super', 'http://www.wikidata.org/entity/Q1030034'), ('name', 'GLAM')]\n",
                        "[('super', 'http://www.wikidata.org/entity/Q10855061'), ('name', 'archaeological find')]\n",
                        "[('super', 'http://www.wikidata.org/entity/Q12131650'), ('name', 'location of burial')]\n",
                        "[('super', 'http://www.wikidata.org/entity/Q124714'), ('name', 'spring')]\n",
                        "[('super', 'http://www.wikidata.org/entity/Q14752696'), ('name', 'ancient Roman structure')]\n",
                        "[('super', 'http://www.wikidata.org/entity/Q202199'), ('name', 'inland island')]\n",
                        "[('super', 'http://www.wikidata.org/entity/Q2434238'), ('name', 'heritage')]\n",
                        "[('super', 'http://www.wikidata.org/entity/Q27554677'), ('name', 'former capital')]\n",
                        "[('super', 'http://www.wikidata.org/entity/Q3152824'), ('name', 'cultural institution')]\n",
                        "[('super', 'http://www.wikidata.org/entity/Q5003624'), ('name', 'memorial')]\n",
                        "[('super', 'http://www.wikidata.org/entity/Q6023295'), ('name', 'funerary structure')]\n",
                        "[('super', 'http://www.wikidata.org/entity/Q35145263'), ('name', 'natural geographic object')]\n",
                        "[('super', 'http://www.wikidata.org/entity/Q88291'), ('name', 'citadel')]\n",
                        "[('super', 'http://www.wikidata.org/entity/Q1076486'), ('name', 'sports venue')]\n",
                        "[('super', 'http://www.wikidata.org/entity/Q14757767'), ('name', 'fourth-level administrative country subdivision')]\n",
                        "[('super', 'http://www.wikidata.org/entity/Q30304302'), ('name', 'National Park System unit')]\n",
                        "[('super', 'http://www.wikidata.org/entity/Q13226383'), ('name', 'facility')]\n",
                        "[('super', 'http://www.wikidata.org/entity/Q11183017'), ('name', 'open-air theatre')]\n",
                        "[('super', 'http://www.wikidata.org/entity/Q1791627'), ('name', 'cultural artifact')]\n",
                        "[('super', 'http://www.wikidata.org/entity/Q2551525'), ('name', 'water reservoir')]\n",
                        "[('super', 'http://www.wikidata.org/entity/Q294440'), ('name', 'public space')]\n",
                        "[('super', 'http://www.wikidata.org/entity/Q975783'), ('name', 'estate in land')]\n",
                        "[('super', 'http://www.wikidata.org/entity/Q10882966'), ('name', 'exchange building')]\n",
                        "[('super', 'http://www.wikidata.org/entity/Q52551684'), ('name', 'historical geographic location')]\n",
                        "[('super', 'http://www.wikidata.org/entity/Q1048835'), ('name', 'political territorial entity')]\n",
                        "[('super', 'http://www.wikidata.org/entity/Q1058733'), ('name', 'support')]\n",
                        "[('super', 'http://www.wikidata.org/entity/Q15661340'), ('name', 'ancient city')]\n",
                        "[('super', 'http://www.wikidata.org/entity/Q16334298'), ('name', 'group of living things')]\n",
                        "[('super', 'http://www.wikidata.org/entity/Q205895'), ('name', 'landmass')]\n",
                        "[('super', 'http://www.wikidata.org/entity/Q2221906'), ('name', 'geographic location')]\n",
                        "[('super', 'http://www.wikidata.org/entity/Q23442'), ('name', 'island')]\n",
                        "[('super', 'http://www.wikidata.org/entity/Q24354'), ('name', 'theatre')]\n",
                        "[('super', 'http://www.wikidata.org/entity/Q2668072'), ('name', 'collection')]\n",
                        "[('super', 'http://www.wikidata.org/entity/Q3257686'), ('name', 'locality')]\n",
                        "[('super', 'http://www.wikidata.org/entity/Q44539'), ('name', 'temple')]\n"
                    ]
                },
                {
                    "data": {
                        "text/plain": [
                            "50"
                        ]
                    },
                    "execution_count": 22,
                    "metadata": {},
                    "output_type": "execute_result"
                }
            ],
            "source": [
                "#let's see instead the superclasses of the classes that we are retrieving\n",
                "q = f\"\"\"\n",
                "select distinct ?super ?name where{{\n",
                "?entity wdt:P31 wd:Q839954 .\n",
                "?entity wdt:P2596 ?culture .\n",
                "?entity wdt:P31 ?class .\n",
                "?class wdt:P279 ?super .\n",
                "?super <http://schema.org/name> ?name\n",
                "}}\n",
                "limit 50\n",
                "\"\"\"\n",
                "run_query(q)"
            ]
        },
        {
            "cell_type": "code",
            "execution_count": 23,
            "id": "8ffd3590-c6f8-417b-8104-a890bbce6c6a",
            "metadata": {},
            "outputs": [
                {
                    "name": "stdout",
                    "output_type": "stream",
                    "text": [
                        "[('super', 'http://www.wikidata.org/entity/Q3476533'), ('name', 'monumental sculpture')]\n",
                        "[('super', 'http://www.wikidata.org/entity/Q1030034'), ('name', 'GLAM')]\n",
                        "[('super', 'http://www.wikidata.org/entity/Q14752696'), ('name', 'ancient Roman structure')]\n",
                        "[('super', 'http://www.wikidata.org/entity/Q2434238'), ('name', 'heritage')]\n",
                        "[('super', 'http://www.wikidata.org/entity/Q3152824'), ('name', 'cultural institution')]\n",
                        "[('super', 'http://www.wikidata.org/entity/Q5003624'), ('name', 'memorial')]\n",
                        "[('super', 'http://www.wikidata.org/entity/Q6023295'), ('name', 'funerary structure')]\n",
                        "[('super', 'http://www.wikidata.org/entity/Q1076486'), ('name', 'sports venue')]\n",
                        "[('super', 'http://www.wikidata.org/entity/Q13226383'), ('name', 'facility')]\n",
                        "[('super', 'http://www.wikidata.org/entity/Q1779653'), ('name', 'colossal statue')]\n",
                        "[('super', 'http://www.wikidata.org/entity/Q294440'), ('name', 'public space')]\n",
                        "[('super', 'http://www.wikidata.org/entity/Q975783'), ('name', 'estate in land')]\n",
                        "[('super', 'http://www.wikidata.org/entity/Q1048835'), ('name', 'political territorial entity')]\n",
                        "[('super', 'http://www.wikidata.org/entity/Q15661340'), ('name', 'ancient city')]\n",
                        "[('super', 'http://www.wikidata.org/entity/Q174782'), ('name', 'square')]\n",
                        "[('super', 'http://www.wikidata.org/entity/Q24354'), ('name', 'theatre')]\n",
                        "[('super', 'http://www.wikidata.org/entity/Q2668072'), ('name', 'collection')]\n",
                        "[('super', 'http://www.wikidata.org/entity/Q3257686'), ('name', 'locality')]\n",
                        "[('super', 'http://www.wikidata.org/entity/Q391414'), ('name', 'architectural element')]\n",
                        "[('super', 'http://www.wikidata.org/entity/Q486972'), ('name', 'human settlement')]\n",
                        "[('super', 'http://www.wikidata.org/entity/Q4989906'), ('name', 'monument')]\n",
                        "[('super', 'http://www.wikidata.org/entity/Q702492'), ('name', 'urban area')]\n",
                        "[('super', 'http://www.wikidata.org/entity/Q7930989'), ('name', 'city/town')]\n",
                        "[('super', 'http://www.wikidata.org/entity/Q811979'), ('name', 'architectural structure')]\n",
                        "[('super', 'http://www.wikidata.org/entity/Q82794'), ('name', 'geographic region')]\n",
                        "[('super', 'http://www.wikidata.org/entity/Q8719053'), ('name', 'music venue')]\n",
                        "[('super', 'http://www.wikidata.org/entity/Q179700'), ('name', 'statue')]\n",
                        "[('super', 'http://www.wikidata.org/entity/Q21752084'), ('name', 'Roman archaeological site')]\n",
                        "[('super', 'http://www.wikidata.org/entity/Q15042037'), ('name', 'statistical territorial entity')]\n",
                        "[('super', 'http://www.wikidata.org/entity/Q177634'), ('name', 'community')]\n",
                        "[('super', 'http://www.wikidata.org/entity/Q41176'), ('name', 'building')]\n",
                        "[('super', 'http://www.wikidata.org/entity/Q1291195'), ('name', 'find spot')]\n",
                        "[('super', 'http://www.wikidata.org/entity/Q2974842'), ('name', 'lost city')]\n",
                        "[('super', 'http://www.wikidata.org/entity/Q2015628'), ('name', 'open space')]\n",
                        "[('super', 'http://www.wikidata.org/entity/Q641226'), ('name', 'arena')]\n",
                        "[('super', 'http://www.wikidata.org/entity/Q83620'), ('name', 'thoroughfare')]\n",
                        "[('super', 'http://www.wikidata.org/entity/Q618123'), ('name', 'geographical feature')]\n",
                        "[('super', 'http://www.wikidata.org/entity/Q133442'), ('name', 'city-state')]\n",
                        "[('super', 'http://www.wikidata.org/entity/Q15642541'), ('name', 'human-geographic territorial entity')]\n",
                        "[('super', 'http://www.wikidata.org/entity/Q1385033'), ('name', 'exterior')]\n",
                        "[('super', 'http://www.wikidata.org/entity/Q2547819'), ('name', 'wall')]\n",
                        "[('super', 'http://www.wikidata.org/entity/Q17350442'), ('name', 'venue')]\n",
                        "[('super', 'http://www.wikidata.org/entity/Q57660343'), ('name', 'performing arts building')]\n",
                        "[('super', 'http://www.wikidata.org/entity/Q54831'), ('name', 'amphitheatre')]\n",
                        "[('super', 'http://www.wikidata.org/entity/Q27096235'), ('name', 'artificial geographic entity')]\n",
                        "[('super', 'http://www.wikidata.org/entity/Q2097994'), ('name', 'municipal corporation')]\n",
                        "[('super', 'http://www.wikidata.org/entity/Q112865'), ('name', 'administrative territorial entity of Mexico')]\n",
                        "[('super', 'http://www.wikidata.org/entity/Q960648'), ('name', 'point of interest')]\n",
                        "[('super', 'http://www.wikidata.org/entity/Q21029893'), ('name', 'religious object')]\n",
                        "[('super', 'http://www.wikidata.org/entity/Q12280'), ('name', 'bridge')]\n"
                    ]
                },
                {
                    "data": {
                        "text/plain": [
                            "50"
                        ]
                    },
                    "execution_count": 23,
                    "metadata": {},
                    "output_type": "execute_result"
                }
            ],
            "source": [
                "#so to answer point 2 i would do a query of this type\n",
                "q = f\"\"\"\n",
                "select distinct ?super ?name where{{\n",
                "?entity wdt:P31 wd:Q839954 .\n",
                "#only want tourist attractions\n",
                "?entity wdt:P31 wd:Q570116 .\n",
                "?entity wdt:P2596 ?culture .\n",
                "?entity wdt:P31 ?class .\n",
                "?class wdt:P279 ?super .\n",
                "?super <http://schema.org/name> ?name\n",
                "}}\n",
                "limit 50\n",
                "\"\"\"\n",
                "run_query(q)"
            ]
        },
        {
            "cell_type": "code",
            "execution_count": 24,
            "id": "107d4bda-5764-469e-b4e3-dc351ac66d81",
            "metadata": {},
            "outputs": [
                {
                    "name": "stdout",
                    "output_type": "stream",
                    "text": [
                        "[('super', 'http://www.wikidata.org/entity/Q15642541'), ('name', 'human-geographic territorial entity'), ('n', '18')]\n",
                        "[('super', 'http://www.wikidata.org/entity/Q1291195'), ('name', 'find spot'), ('n', '16')]\n",
                        "[('super', 'http://www.wikidata.org/entity/Q960648'), ('name', 'point of interest'), ('n', '16')]\n",
                        "[('super', 'http://www.wikidata.org/entity/Q811979'), ('name', 'architectural structure'), ('n', '6')]\n",
                        "[('super', 'http://www.wikidata.org/entity/Q2974842'), ('name', 'lost city'), ('n', '4')]\n",
                        "[('super', 'http://www.wikidata.org/entity/Q41176'), ('name', 'building'), ('n', '3')]\n",
                        "[('super', 'http://www.wikidata.org/entity/Q12280'), ('name', 'bridge'), ('n', '3')]\n",
                        "[('super', 'http://www.wikidata.org/entity/Q14752696'), ('name', 'ancient Roman structure'), ('n', '3')]\n",
                        "[('super', 'http://www.wikidata.org/entity/Q57660343'), ('name', 'performing arts building'), ('n', '2')]\n",
                        "[('super', 'http://www.wikidata.org/entity/Q83620'), ('name', 'thoroughfare'), ('n', '2')]\n",
                        "[('super', 'http://www.wikidata.org/entity/Q2434238'), ('name', 'heritage'), ('n', '2')]\n",
                        "[('super', 'http://www.wikidata.org/entity/Q13226383'), ('name', 'facility'), ('n', '2')]\n",
                        "[('super', 'http://www.wikidata.org/entity/Q54831'), ('name', 'amphitheatre'), ('n', '2')]\n",
                        "[('super', 'http://www.wikidata.org/entity/Q3152824'), ('name', 'cultural institution'), ('n', '1')]\n",
                        "[('super', 'http://www.wikidata.org/entity/Q5003624'), ('name', 'memorial'), ('n', '1')]\n",
                        "[('super', 'http://www.wikidata.org/entity/Q294440'), ('name', 'public space'), ('n', '1')]\n",
                        "[('super', 'http://www.wikidata.org/entity/Q24354'), ('name', 'theatre'), ('n', '1')]\n",
                        "[('super', 'http://www.wikidata.org/entity/Q8719053'), ('name', 'music venue'), ('n', '1')]\n",
                        "[('super', 'http://www.wikidata.org/entity/Q2015628'), ('name', 'open space'), ('n', '1')]\n",
                        "[('super', 'http://www.wikidata.org/entity/Q641226'), ('name', 'arena'), ('n', '1')]\n",
                        "[('super', 'http://www.wikidata.org/entity/Q3476533'), ('name', 'monumental sculpture'), ('n', '1')]\n",
                        "[('super', 'http://www.wikidata.org/entity/Q3257686'), ('name', 'locality'), ('n', '1')]\n",
                        "[('super', 'http://www.wikidata.org/entity/Q82794'), ('name', 'geographic region'), ('n', '1')]\n",
                        "[('super', 'http://www.wikidata.org/entity/Q27096235'), ('name', 'artificial geographic entity'), ('n', '1')]\n",
                        "[('super', 'http://www.wikidata.org/entity/Q112865'), ('name', 'administrative territorial entity of Mexico'), ('n', '1')]\n",
                        "[('super', 'http://www.wikidata.org/entity/Q702492'), ('name', 'urban area'), ('n', '1')]\n",
                        "[('super', 'http://www.wikidata.org/entity/Q105889895'), ('name', 'religious site'), ('n', '1')]\n",
                        "[('super', 'http://www.wikidata.org/entity/Q1779653'), ('name', 'colossal statue'), ('n', '1')]\n",
                        "[('super', 'http://www.wikidata.org/entity/Q975783'), ('name', 'estate in land'), ('n', '1')]\n",
                        "[('super', 'http://www.wikidata.org/entity/Q618123'), ('name', 'geographical feature'), ('n', '1')]\n",
                        "[('super', 'http://www.wikidata.org/entity/Q2547819'), ('name', 'wall'), ('n', '1')]\n",
                        "[('super', 'http://www.wikidata.org/entity/Q863404'), ('name', 'subterranea'), ('n', '1')]\n",
                        "[('super', 'http://www.wikidata.org/entity/Q6023295'), ('name', 'funerary structure'), ('n', '1')]\n",
                        "[('super', 'http://www.wikidata.org/entity/Q4989906'), ('name', 'monument'), ('n', '1')]\n",
                        "[('super', 'http://www.wikidata.org/entity/Q177634'), ('name', 'community'), ('n', '1')]\n",
                        "[('super', 'http://www.wikidata.org/entity/Q2097994'), ('name', 'municipal corporation'), ('n', '1')]\n",
                        "[('super', 'http://www.wikidata.org/entity/Q486972'), ('name', 'human settlement'), ('n', '1')]\n",
                        "[('super', 'http://www.wikidata.org/entity/Q21752084'), ('name', 'Roman archaeological site'), ('n', '1')]\n",
                        "[('super', 'http://www.wikidata.org/entity/Q21029893'), ('name', 'religious object'), ('n', '1')]\n",
                        "[('super', 'http://www.wikidata.org/entity/Q57821'), ('name', 'fortification'), ('n', '1')]\n",
                        "[('super', 'http://www.wikidata.org/entity/Q1030034'), ('name', 'GLAM'), ('n', '1')]\n",
                        "[('super', 'http://www.wikidata.org/entity/Q7930989'), ('name', 'city/town'), ('n', '1')]\n",
                        "[('super', 'http://www.wikidata.org/entity/Q133442'), ('name', 'city-state'), ('n', '1')]\n",
                        "[('super', 'http://www.wikidata.org/entity/Q1385033'), ('name', 'exterior'), ('n', '1')]\n",
                        "[('super', 'http://www.wikidata.org/entity/Q17350442'), ('name', 'venue'), ('n', '1')]\n",
                        "[('super', 'http://www.wikidata.org/entity/Q24398318'), ('name', 'religious building'), ('n', '1')]\n",
                        "[('super', 'http://www.wikidata.org/entity/Q15661340'), ('name', 'ancient city'), ('n', '1')]\n",
                        "[('super', 'http://www.wikidata.org/entity/Q174782'), ('name', 'square'), ('n', '1')]\n",
                        "[('super', 'http://www.wikidata.org/entity/Q15042037'), ('name', 'statistical territorial entity'), ('n', '1')]\n",
                        "[('super', 'http://www.wikidata.org/entity/Q1211146'), ('name', 'rock art'), ('n', '1')]\n"
                    ]
                },
                {
                    "data": {
                        "text/plain": [
                            "50"
                        ]
                    },
                    "execution_count": 24,
                    "metadata": {},
                    "output_type": "execute_result"
                }
            ],
            "source": [
                "#let's see the top 50 most common types\n",
                "\n",
                "#get all of the types\n",
                "q1 = f\"\"\"\n",
                "select ?super where{{\n",
                "?entity wdt:P31 wd:Q839954 .\n",
                "#only want tourist attractions\n",
                "?entity wdt:P31 wd:Q570116 .\n",
                "?entity wdt:P2596 ?culture .\n",
                "?entity wdt:P31 ?class .\n",
                "?class wdt:P279 ?super .\n",
                "}}\n",
                "\"\"\"\n",
                "\n",
                "q = f\"\"\"\n",
                "select ?super ?name (count(*) as ?n) where{{\n",
                "?super <http://schema.org/name> ?name .\n",
                "\n",
                "    {{\n",
                "        select ?super where{{\n",
                "            ?entity wdt:P31 wd:Q839954 .\n",
                "            #only want tourist attractions\n",
                "            ?entity wdt:P31 wd:Q570116 .\n",
                "            ?entity wdt:P2596 ?culture .\n",
                "            ?entity wdt:P31 ?class .\n",
                "            ?class wdt:P279 ?super .\n",
                "        }}\n",
                "    }}\n",
                "\n",
                "}}\n",
                "group by ?super ?name\n",
                "order by desc(?n)\n",
                "limit 50\n",
                "\"\"\"\n",
                "\n",
                "run_query(q)"
            ]
        },
        {
            "cell_type": "code",
            "execution_count": 25,
            "id": "9c143cd2-01f2-4de5-8687-c7d545e92997",
            "metadata": {},
            "outputs": [
                {
                    "name": "stdout",
                    "output_type": "stream",
                    "text": [
                        "[('super', 'http://www.wikidata.org/entity/Q15642541'), ('name', 'human-geographic territorial entity'), ('n', '47137')]\n",
                        "[('super', 'http://www.wikidata.org/entity/Q1291195'), ('name', 'find spot'), ('n', '46886')]\n",
                        "[('super', 'http://www.wikidata.org/entity/Q839954'), ('name', 'archaeological site'), ('n', '4631')]\n",
                        "[('super', 'http://www.wikidata.org/entity/Q8513'), ('name', 'database'), ('n', '2005')]\n",
                        "[('super', 'http://www.wikidata.org/entity/Q811979'), ('name', 'architectural structure'), ('n', '1379')]\n",
                        "[('super', 'http://www.wikidata.org/entity/Q57821'), ('name', 'fortification'), ('n', '1305')]\n",
                        "[('super', 'http://www.wikidata.org/entity/Q177634'), ('name', 'community'), ('n', '1120')]\n",
                        "[('super', 'http://www.wikidata.org/entity/Q27096235'), ('name', 'artificial geographic entity'), ('n', '918')]\n",
                        "[('super', 'http://www.wikidata.org/entity/Q41176'), ('name', 'building'), ('n', '896')]\n",
                        "[('super', 'http://www.wikidata.org/entity/Q82794'), ('name', 'geographic region'), ('n', '882')]\n",
                        "[('super', 'http://www.wikidata.org/entity/Q6023295'), ('name', 'funerary structure'), ('n', '697')]\n",
                        "[('super', 'http://www.wikidata.org/entity/Q358'), ('name', 'heritage site'), ('n', '608')]\n",
                        "[('super', 'http://www.wikidata.org/entity/Q21752084'), ('name', 'Roman archaeological site'), ('n', '543')]\n",
                        "[('super', 'http://www.wikidata.org/entity/Q486972'), ('name', 'human settlement'), ('n', '515')]\n",
                        "[('super', 'http://www.wikidata.org/entity/Q24398318'), ('name', 'religious building'), ('n', '511')]\n",
                        "[('super', 'http://www.wikidata.org/entity/Q271669'), ('name', 'landform'), ('n', '507')]\n",
                        "[('super', 'http://www.wikidata.org/entity/Q1370598'), ('name', 'place of worship'), ('n', '501')]\n",
                        "[('super', 'http://www.wikidata.org/entity/Q20529645'), ('name', 'burial mound'), ('n', '428')]\n",
                        "[('super', 'http://www.wikidata.org/entity/Q1496967'), ('name', 'territorial entity'), ('n', '407')]\n",
                        "[('super', 'http://www.wikidata.org/entity/Q2974842'), ('name', 'lost city'), ('n', '398')]\n",
                        "[('super', 'http://www.wikidata.org/entity/Q863404'), ('name', 'subterranea'), ('n', '391')]\n",
                        "[('super', 'http://www.wikidata.org/entity/Q23413'), ('name', 'castle'), ('n', '381')]\n",
                        "[('super', 'http://www.wikidata.org/entity/Q109607'), ('name', 'ruins'), ('n', '381')]\n",
                        "[('super', 'http://www.wikidata.org/entity/Q14752696'), ('name', 'ancient Roman structure'), ('n', '355')]\n",
                        "[('super', 'http://www.wikidata.org/entity/Q838948'), ('name', 'work of art'), ('n', '316')]\n",
                        "[('super', 'http://www.wikidata.org/entity/Q15661340'), ('name', 'ancient city'), ('n', '316')]\n",
                        "[('super', 'http://www.wikidata.org/entity/Q210272'), ('name', 'cultural heritage'), ('n', '291')]\n",
                        "[('super', 'http://www.wikidata.org/entity/Q39614'), ('name', 'cemetery'), ('n', '280')]\n",
                        "[('super', 'http://www.wikidata.org/entity/Q2221906'), ('name', 'geographic location'), ('n', '280')]\n",
                        "[('super', 'http://www.wikidata.org/entity/Q2202509'), ('name', 'Roman city'), ('n', '275')]\n",
                        "[('super', 'http://www.wikidata.org/entity/Q10354598'), ('name', 'rural settlement'), ('n', '274')]\n",
                        "[('super', 'http://www.wikidata.org/entity/Q3257686'), ('name', 'locality'), ('n', '266')]\n",
                        "[('super', 'http://www.wikidata.org/entity/Q13226383'), ('name', 'facility'), ('n', '265')]\n",
                        "[('super', 'http://www.wikidata.org/entity/Q175185'), ('name', 'rural area'), ('n', '257')]\n",
                        "[('super', 'http://www.wikidata.org/entity/Q103910453'), ('name', 'village or neigbourhood'), ('n', '257')]\n",
                        "[('super', 'http://www.wikidata.org/entity/Q7302601'), ('name', 'recognition'), ('n', '246')]\n",
                        "[('super', 'http://www.wikidata.org/entity/Q12433046'), ('name', 'Roman fortification'), ('n', '244')]\n",
                        "[('super', 'http://www.wikidata.org/entity/Q133442'), ('name', 'city-state'), ('n', '244')]\n",
                        "[('super', 'http://www.wikidata.org/entity/Q5003624'), ('name', 'memorial'), ('n', '237')]\n",
                        "[('super', 'http://www.wikidata.org/entity/Q3950'), ('name', 'villa'), ('n', '234')]\n",
                        "[('super', 'http://www.wikidata.org/entity/Q2434238'), ('name', 'heritage'), ('n', '216')]\n",
                        "[('super', 'http://www.wikidata.org/entity/Q164240'), ('name', 'megalith'), ('n', '201')]\n",
                        "[('super', 'http://www.wikidata.org/entity/Q1198413'), ('name', 'military camp'), ('n', '184')]\n",
                        "[('super', 'http://www.wikidata.org/entity/Q618123'), ('name', 'geographical feature'), ('n', '183')]\n",
                        "[('super', 'http://www.wikidata.org/entity/Q333109'), ('name', '\u00dcberrest'), ('n', '177')]\n",
                        "[('super', 'http://www.wikidata.org/entity/Q7930989'), ('name', 'city/town'), ('n', '177')]\n",
                        "[('super', 'http://www.wikidata.org/entity/Q702492'), ('name', 'urban area'), ('n', '175')]\n",
                        "[('super', 'http://www.wikidata.org/entity/Q13955118'), ('name', 'earthwork'), ('n', '173')]\n",
                        "[('super', 'http://www.wikidata.org/entity/Q3395377'), ('name', 'ancient monument'), ('n', '173')]\n",
                        "[('super', 'http://www.wikidata.org/entity/Q1584134'), ('name', 'mound'), ('n', '167')]\n"
                    ]
                },
                {
                    "data": {
                        "text/plain": [
                            "50"
                        ]
                    },
                    "execution_count": 25,
                    "metadata": {},
                    "output_type": "execute_result"
                }
            ],
            "source": [
                "#that last query looks wrong\n",
                "\n",
                "#let's see the top 50 most common types\n",
                "\n",
                "#removing some constraints \n",
                "\n",
                "#get all of the types\n",
                "q = f\"\"\"\n",
                "select ?super ?name (count(?super) as ?n) where{{\n",
                "?entity wdt:P31 wd:Q839954 .\n",
                "?entity wdt:P31 ?class .\n",
                "?class wdt:P279 ?super .\n",
                "?super <http://schema.org/name> ?name .\n",
                "}}\n",
                "group by ?super ?name\n",
                "order by desc(?n)\n",
                "limit 50\n",
                "\"\"\"\n",
                "\n",
                "run_query(q)"
            ]
        },
        {
            "cell_type": "code",
            "execution_count": 26,
            "id": "50b18201-6625-4c00-bd82-aafdcbf31962",
            "metadata": {},
            "outputs": [
                {
                    "name": "stdout",
                    "output_type": "stream",
                    "text": [
                        "[('class', 'http://www.wikidata.org/entity/Q839954'), ('name', 'archaeological site'), ('n', '46862')]\n",
                        "[('class', 'http://www.wikidata.org/entity/Q102202066'), ('name', 'Samian Ware Discovery Site'), ('n', '3879')]\n",
                        "[('class', 'http://www.wikidata.org/entity/Q105440620'), ('name', 'BADACOR'), ('n', '2005')]\n",
                        "[('class', 'http://www.wikidata.org/entity/Q23413'), ('name', 'castle'), ('n', '903')]\n",
                        "[('class', 'http://www.wikidata.org/entity/Q486972'), ('name', 'human settlement'), ('n', '857')]\n",
                        "[('class', 'http://www.wikidata.org/entity/Q14752696'), ('name', 'ancient Roman structure'), ('n', '490')]\n",
                        "[('class', 'http://www.wikidata.org/entity/Q34023'), ('name', 'tumulus'), ('n', '421')]\n",
                        "[('class', 'http://www.wikidata.org/entity/Q1081138'), ('name', 'historic site'), ('n', '404')]\n",
                        "[('class', 'http://www.wikidata.org/entity/Q15661340'), ('name', 'ancient city'), ('n', '396')]\n",
                        "[('class', 'http://www.wikidata.org/entity/Q35509'), ('name', 'cave'), ('n', '315')]\n",
                        "[('class', 'http://www.wikidata.org/entity/Q532'), ('name', 'village'), ('n', '257')]\n",
                        "[('class', 'http://www.wikidata.org/entity/Q4989906'), ('name', 'monument'), ('n', '246')]\n",
                        "[('class', 'http://www.wikidata.org/entity/Q148837'), ('name', 'polis'), ('n', '242')]\n",
                        "[('class', 'http://www.wikidata.org/entity/Q17715832'), ('name', 'castle ruin'), ('n', '236')]\n",
                        "[('class', 'http://www.wikidata.org/entity/Q918230'), ('name', 'Roman villa'), ('n', '234')]\n",
                        "[('class', 'http://www.wikidata.org/entity/Q210272'), ('name', 'cultural heritage'), ('n', '208')]\n",
                        "[('class', 'http://www.wikidata.org/entity/Q16970'), ('name', 'church building'), ('n', '194')]\n",
                        "[('class', 'http://www.wikidata.org/entity/Q88205'), ('name', 'castrum'), ('n', '184')]\n",
                        "[('class', 'http://www.wikidata.org/entity/Q200141'), ('name', 'necropolis'), ('n', '183')]\n",
                        "[('class', 'http://www.wikidata.org/entity/Q109607'), ('name', 'ruins'), ('n', '177')]\n",
                        "[('class', 'http://www.wikidata.org/entity/Q744099'), ('name', 'hillfort'), ('n', '173')]\n",
                        "[('class', 'http://www.wikidata.org/entity/Q15243209'), ('name', 'historic district'), ('n', '163')]\n",
                        "[('class', 'http://www.wikidata.org/entity/Q755017'), ('name', 'tell'), ('n', '162')]\n",
                        "[('class', 'http://www.wikidata.org/entity/Q751876'), ('name', 'ch\u00e2teau'), ('n', '151')]\n",
                        "[('class', 'http://www.wikidata.org/entity/Q515'), ('name', 'city'), ('n', '150')]\n",
                        "[('class', 'http://www.wikidata.org/entity/Q1015644'), ('name', 'Burgstall'), ('n', '141')]\n",
                        "[('class', 'http://www.wikidata.org/entity/Q173387'), ('name', 'grave'), ('n', '136')]\n",
                        "[('class', 'http://www.wikidata.org/entity/Q11269813'), ('name', 'cave with prehistoric art'), ('n', '119')]\n",
                        "[('class', 'http://www.wikidata.org/entity/Q57821'), ('name', 'fortification'), ('n', '113')]\n",
                        "[('class', 'http://www.wikidata.org/entity/Q44539'), ('name', 'temple'), ('n', '109')]\n",
                        "[('class', 'http://www.wikidata.org/entity/Q380342'), ('name', 'manufactory'), ('n', '103')]\n",
                        "[('class', 'http://www.wikidata.org/entity/Q102202026'), ('name', 'Samian Ware Productioncentre'), ('n', '103')]\n",
                        "[('class', 'http://www.wikidata.org/entity/Q8502'), ('name', 'mountain'), ('n', '102')]\n",
                        "[('class', 'http://www.wikidata.org/entity/Q688292'), ('name', 'nuraghe'), ('n', '97')]\n",
                        "[('class', 'http://www.wikidata.org/entity/Q101659'), ('name', 'dolmen'), ('n', '95')]\n",
                        "[('class', 'http://www.wikidata.org/entity/Q81266580'), ('name', 'Listed building in Israel'), ('n', '93')]\n",
                        "[('class', 'http://www.wikidata.org/entity/Q33506'), ('name', 'museum'), ('n', '92')]\n",
                        "[('class', 'http://www.wikidata.org/entity/Q81274644'), ('name', 'Listed Building in Acre'), ('n', '89')]\n",
                        "[('class', 'http://www.wikidata.org/entity/Q44613'), ('name', 'monastery'), ('n', '85')]\n",
                        "[('class', 'http://www.wikidata.org/entity/Q39614'), ('name', 'cemetery'), ('n', '84')]\n",
                        "[('class', 'http://www.wikidata.org/entity/Q1584134'), ('name', 'mound'), ('n', '84')]\n",
                        "[('class', 'http://www.wikidata.org/entity/Q381885'), ('name', 'tomb'), ('n', '81')]\n",
                        "[('class', 'http://www.wikidata.org/entity/Q684740'), ('name', 'real property'), ('n', '73')]\n",
                        "[('class', 'http://www.wikidata.org/entity/Q699405'), ('name', 'residence'), ('n', '72')]\n",
                        "[('class', 'http://www.wikidata.org/entity/Q6581615'), ('name', 'thermae'), ('n', '70')]\n",
                        "[('class', 'http://www.wikidata.org/entity/Q570116'), ('name', 'tourist attraction'), ('n', '69')]\n",
                        "[('class', 'http://www.wikidata.org/entity/Q57346'), ('name', 'defensive wall'), ('n', '68')]\n",
                        "[('class', 'http://www.wikidata.org/entity/Q852190'), ('name', 'shipwreck'), ('n', '68')]\n",
                        "[('class', 'http://www.wikidata.org/entity/Q42195'), ('name', 'petroglyph'), ('n', '65')]\n",
                        "[('class', 'http://www.wikidata.org/entity/Q54050'), ('name', 'hill'), ('n', '64')]\n"
                    ]
                },
                {
                    "data": {
                        "text/plain": [
                            "50"
                        ]
                    },
                    "execution_count": 26,
                    "metadata": {},
                    "output_type": "execute_result"
                }
            ],
            "source": [
                "#let's try in another way, without superclasses\n",
                "q = f\"\"\"\n",
                "select ?class ?name (count(?class) as ?n) where{{\n",
                "?entity wdt:P31 wd:Q839954 .\n",
                "?entity wdt:P31 ?class .\n",
                "?class <http://schema.org/name> ?name .\n",
                "}}\n",
                "group by ?class ?name\n",
                "order by desc(?n)\n",
                "limit 50\n",
                "\"\"\"\n",
                "\n",
                "run_query(q)"
            ]
        },
        {
            "cell_type": "code",
            "execution_count": 27,
            "id": "b9dbde3b-5eac-4906-8719-1782696be6a3",
            "metadata": {},
            "outputs": [
                {
                    "name": "stdout",
                    "output_type": "stream",
                    "text": [
                        "[('property', 'http://www.wikidata.org/prop/direct/P1082'), ('name', 'population')]\n",
                        "[('property', 'http://www.wikidata.org/prop/direct/P2043'), ('name', 'length')]\n",
                        "[('property', 'http://www.wikidata.org/prop/direct/P2044'), ('name', 'elevation above sea level')]\n",
                        "[('property', 'http://www.wikidata.org/prop/direct/P2046'), ('name', 'area')]\n",
                        "[('property', 'http://www.wikidata.org/prop/direct/P2048'), ('name', 'height')]\n",
                        "[('property', 'http://www.wikidata.org/prop/direct/P2049'), ('name', 'width')]\n",
                        "[('property', 'http://www.wikidata.org/prop/direct/P2109'), ('name', 'installed capacity')]\n",
                        "[('property', 'http://www.wikidata.org/prop/direct/P4511'), ('name', 'vertical depth')]\n",
                        "[('property', 'http://www.wikidata.org/prop/direct/P8687'), ('name', 'social media followers')]\n",
                        "[('property', 'http://www.wikidata.org/prop/direct/P1174'), ('name', 'visitors per year')]\n",
                        "[('property', 'http://www.wikidata.org/prop/direct/P2130'), ('name', 'cost')]\n",
                        "[('property', 'http://www.wikidata.org/prop/direct/P1538'), ('name', 'number of households')]\n",
                        "[('property', 'http://www.wikidata.org/prop/direct/P2234'), ('name', 'volume as quantity')]\n",
                        "[('property', 'http://www.wikidata.org/prop/direct/P2660'), ('name', 'topographic prominence')]\n",
                        "[('property', 'http://www.wikidata.org/prop/direct/P2659'), ('name', 'topographic isolation')]\n",
                        "[('property', 'http://www.wikidata.org/prop/direct/P2324'), ('name', 'quantity buried')]\n",
                        "[('property', 'http://www.wikidata.org/prop/direct/P1083'), ('name', 'maximum capacity')]\n",
                        "[('property', 'http://www.wikidata.org/prop/direct/P1539'), ('name', 'female population')]\n",
                        "[('property', 'http://www.wikidata.org/prop/direct/P1540'), ('name', 'male population')]\n",
                        "[('property', 'http://www.wikidata.org/prop/direct/P2610'), ('name', 'thickness')]\n",
                        "[('property', 'http://www.wikidata.org/prop/direct/P2555'), ('name', 'fee')]\n",
                        "[('property', 'http://www.wikidata.org/prop/direct/P2261'), ('name', 'beam')]\n",
                        "[('property', 'http://www.wikidata.org/prop/direct/P2262'), ('name', 'draft')]\n",
                        "[('property', 'http://www.wikidata.org/prop/direct/P1101'), ('name', 'floors above ground')]\n",
                        "[('property', 'http://www.wikidata.org/prop/direct/P1314'), ('name', 'number of spans')]\n",
                        "[('property', 'http://www.wikidata.org/prop/direct/P2787'), ('name', 'longest span')]\n",
                        "[('property', 'http://www.wikidata.org/prop/direct/P6801'), ('name', 'number of hospital beds')]\n",
                        "[('property', 'http://www.wikidata.org/prop/direct/P2386'), ('name', 'diameter')]\n",
                        "[('property', 'http://www.wikidata.org/prop/direct/P6498'), ('name', 'illiterate population')]\n",
                        "[('property', 'http://www.wikidata.org/prop/direct/P6499'), ('name', 'literate population')]\n",
                        "[('property', 'http://www.wikidata.org/prop/direct/P2927'), ('name', 'water as percent of area')]\n",
                        "[('property', 'http://www.wikidata.org/prop/direct/P2923'), ('name', 'focal height')]\n",
                        "[('property', 'http://www.wikidata.org/prop/direct/P2929'), ('name', 'lighthouse range')]\n",
                        "[('property', 'http://www.wikidata.org/prop/direct/P2547'), ('name', 'perimeter')]\n",
                        "[('property', 'http://www.wikidata.org/prop/direct/P4080'), ('name', 'number of houses')]\n",
                        "[('property', 'http://www.wikidata.org/prop/direct/P2067'), ('name', 'mass')]\n",
                        "[('property', 'http://www.wikidata.org/prop/direct/P2053'), ('name', 'watershed area')]\n",
                        "[('property', 'http://www.wikidata.org/prop/direct/P1139'), ('name', 'floors below ground')]\n",
                        "[('property', 'http://www.wikidata.org/prop/direct/P1093'), ('name', 'gross tonnage')]\n",
                        "[('property', 'http://www.wikidata.org/prop/direct/P1120'), ('name', 'number of deaths')]\n",
                        "[('property', 'http://www.wikidata.org/prop/direct/P2052'), ('name', 'speed')]\n"
                    ]
                },
                {
                    "data": {
                        "text/plain": [
                            "41"
                        ]
                    },
                    "execution_count": 27,
                    "metadata": {},
                    "output_type": "execute_result"
                }
            ],
            "source": [
                "#Point 3. let's retrieve numerical properties for archeological sites\n",
                "q = f\"\"\"\n",
                "select distinct ?property ?name where{{\n",
                "?site wdt:P31 wd:Q839954 .\n",
                "?site ?property ?o .\n",
                "?property <http://schema.org/name> ?name .\n",
                "filter(isNumeric(?o))\n",
                "}}\n",
                "limit 100\n",
                "\"\"\"\n",
                "run_query(q)"
            ]
        },
        {
            "cell_type": "code",
            "execution_count": 28,
            "id": "8d7df331-f14b-42d3-8f63-bf6fd68f7c2a",
            "metadata": {},
            "outputs": [
                {
                    "name": "stdout",
                    "output_type": "stream",
                    "text": [
                        "[('site', 'http://www.wikidata.org/entity/Q10285'), ('name', 'Colosseum'), ('visitors', '7400000')]\n",
                        "[('site', 'http://www.wikidata.org/entity/Q1190282'), ('name', 'Independence National Historical Park'), ('visitors', '3572770')]\n",
                        "[('site', 'http://www.wikidata.org/entity/Q62378'), ('name', 'Tower of London'), ('visitors', '2741126')]\n",
                        "[('site', 'http://www.wikidata.org/entity/Q173527'), ('name', 'Knossos'), ('visitors', '855663')]\n",
                        "[('site', 'http://www.wikidata.org/entity/Q173527'), ('name', 'Knossos'), ('visitors', '634710')]\n",
                        "[('site', 'http://www.wikidata.org/entity/Q173527'), ('name', 'Knossos'), ('visitors', '611455')]\n",
                        "[('site', 'http://www.wikidata.org/entity/Q237128'), ('name', 'Mesa Verde National Park'), ('visitors', '557248')]\n",
                        "[('site', 'http://www.wikidata.org/entity/Q132564'), ('name', 'Mycenae'), ('visitors', '495993')]\n",
                        "[('site', 'http://www.wikidata.org/entity/Q421068'), ('name', 'Acropolis of Lindos'), ('visitors', '489137')]\n",
                        "[('site', 'http://www.wikidata.org/entity/Q233576'), ('name', 'Epidaurus'), ('visitors', '469060')]\n"
                    ]
                },
                {
                    "data": {
                        "text/plain": [
                            "10"
                        ]
                    },
                    "execution_count": 28,
                    "metadata": {},
                    "output_type": "execute_result"
                }
            ],
            "source": [
                "visitors = 'wdt:P1174'\n",
                "elevation = 'wdt:P2044'\n",
                "population = 'wdt:P1082'\n",
                "fee = 'wdt:P2555'\n",
                "cost = 'wdt:P2130'\n",
                "\n",
                "#let's rank the top 10 most visited sites in italy\n",
                "q = f\"\"\"\n",
                "select ?site ?name ?visitors where{{\n",
                "?site wdt:P31 wd:Q839954 ;\n",
                "    <http://schema.org/name> ?name ;\n",
                "    wdt:P1174 ?visitors .\n",
                "}}\n",
                "order by desc(?visitors)\n",
                "limit 10\n",
                "\"\"\"\n",
                "run_query(q)"
            ]
        },
        {
            "cell_type": "code",
            "execution_count": 29,
            "id": "7d8de90b-631e-4b27-8282-83d25e6bd2a2",
            "metadata": {},
            "outputs": [
                {
                    "name": "stdout",
                    "output_type": "stream",
                    "text": [
                        "[('site', 'http://www.wikidata.org/entity/Q10285'), ('name', 'Colosseum'), ('visitors', '7400000')]\n"
                    ]
                },
                {
                    "data": {
                        "text/plain": [
                            "1"
                        ]
                    },
                    "execution_count": 29,
                    "metadata": {},
                    "output_type": "execute_result"
                }
            ],
            "source": [
                "#i accidentally forgot to add italy, but colosseum is still the most visited each year\n",
                "q = f\"\"\"\n",
                "select ?site ?name ?visitors where{{\n",
                "?site wdt:P31 wd:Q839954 ;\n",
                "    <http://schema.org/name> ?name ;\n",
                "    wdt:P1174 ?visitors ;\n",
                "    wdt:P17 wd:Q38 .\n",
                "}}\n",
                "order by desc(?visitors)\n",
                "limit 10\n",
                "\"\"\"\n",
                "run_query(q)"
            ]
        },
        {
            "cell_type": "code",
            "execution_count": 30,
            "id": "b51c5639-4795-4d10-a976-771a0ab01b1c",
            "metadata": {},
            "outputs": [
                {
                    "name": "stdout",
                    "output_type": "stream",
                    "text": [
                        "[('continentName', 'Europe'), ('name', 'Colosseum'), ('visitors', '7400000')]\n",
                        "[('continentName', 'North America'), ('name', 'Independence National Historical Park'), ('visitors', '3572770')]\n",
                        "[('continentName', 'Insular Oceania'), ('name', 'Independence National Historical Park'), ('visitors', '3572770')]\n"
                    ]
                },
                {
                    "data": {
                        "text/plain": [
                            "3"
                        ]
                    },
                    "execution_count": 30,
                    "metadata": {},
                    "output_type": "execute_result"
                }
            ],
            "source": [
                "#we still only get the colosseum...\n",
                "\n",
                "#let's see the most visited site for each continent\n",
                "q1 = f\"\"\"\n",
                "select distinct ?continent (max(?visitors) as ?max) where{{\n",
                "?site wdt:P31 wd:Q839954 ;\n",
                "    wdt:P17 ?country ;\n",
                "    <http://schema.org/name> ?name ;\n",
                "    wdt:P1174 ?visitors .\n",
                "    \n",
                "?country wdt:P30 ?continent .\n",
                "}}\n",
                "group by ?continent\n",
                "\"\"\"\n",
                "\n",
                "q = f\"\"\"\n",
                "select distinct ?continentName ?name ?visitors where{{\n",
                "?site wdt:P31 wd:Q839954 ;\n",
                "    <http://schema.org/name> ?name ;\n",
                "    wdt:P1174 ?visitors ;\n",
                "    wdt:P17 ?country .\n",
                "\n",
                "?country wdt:P30 ?continent .\n",
                "?continent <http://schema.org/name> ?continentName\n",
                "filter (?visitors = ?max) .\n",
                "    \n",
                "    {{\n",
                "        select distinct ?continent (max(?visitors) as ?max) where{{\n",
                "        ?site wdt:P31 wd:Q839954 ;\n",
                "            wdt:P17 ?country ;\n",
                "            <http://schema.org/name> ?name ;\n",
                "            wdt:P1174 ?visitors .\n",
                "\n",
                "        ?country wdt:P30 ?continent .\n",
                "        }}\n",
                "        group by ?continent\n",
                "    }}\n",
                "    \n",
                "}}\n",
                "\"\"\"\n",
                "run_query(q)"
            ]
        },
        {
            "cell_type": "code",
            "execution_count": 31,
            "id": "40de45e4-be32-4c40-aac9-30e124417dc8",
            "metadata": {},
            "outputs": [
                {
                    "name": "stdout",
                    "output_type": "stream",
                    "text": [
                        "[('continent', 'http://www.wikidata.org/entity/Q538'), ('max', '3572770')]\n",
                        "[('continent', 'http://www.wikidata.org/entity/Q49'), ('max', '3572770')]\n",
                        "[('continent', 'http://www.wikidata.org/entity/Q46'), ('max', '7400000')]\n"
                    ]
                },
                {
                    "data": {
                        "text/plain": [
                            "3"
                        ]
                    },
                    "execution_count": 31,
                    "metadata": {},
                    "output_type": "execute_result"
                }
            ],
            "source": [
                "#this is suspicious, let's see just the max\n",
                "q1 = f\"\"\"\n",
                "select distinct ?continent (max(?visitors) as ?max) where{{\n",
                "?site wdt:P31 wd:Q839954 ;\n",
                "    wdt:P17 ?country ;\n",
                "    <http://schema.org/name> ?name ;\n",
                "    wdt:P1174 ?visitors .\n",
                "    \n",
                "?country wdt:P30 ?continent .\n",
                "}}\n",
                "group by ?continent\n",
                "\"\"\"\n",
                "run_query(q1)"
            ]
        },
        {
            "cell_type": "code",
            "execution_count": 33,
            "id": "66b3440e-6360-43bf-8a73-7e62f32226ca",
            "metadata": {},
            "outputs": [
                {
                    "name": "stdout",
                    "output_type": "stream",
                    "text": [
                        "[('siteName', 'Far View Sites Complex'), ('elevation', '7690')]\n",
                        "[('siteName', 'Far View House'), ('elevation', '7680')]\n",
                        "[('siteName', 'Obsidian Cliff'), ('elevation', '7401')]\n",
                        "[('siteName', 'Tusayan Ruins'), ('elevation', '7201')]\n",
                        "[('siteName', 'Badger House Community'), ('elevation', '7126')]\n",
                        "[('siteName', 'Bandelier National Monument'), ('elevation', '7123')]\n",
                        "[('siteName', 'Cedar Tree Tower'), ('elevation', '7113')]\n",
                        "[('siteName', 'Sun Point Pueblo'), ('elevation', '6788')]\n",
                        "[('siteName', 'Lowry Pueblo'), ('elevation', '6726')]\n",
                        "[('siteName', 'Casa Rinconada'), ('elevation', '6148')]\n"
                    ]
                },
                {
                    "data": {
                        "text/plain": [
                            "10"
                        ]
                    },
                    "execution_count": 33,
                    "metadata": {},
                    "output_type": "execute_result"
                }
            ],
            "source": [
                "#let's rank archeological sites by elevation\n",
                "q = f\"\"\"\n",
                "select ?siteName ?elevation where{{\n",
                "?site wdt:P31 wd:Q839954 ;\n",
                "    <http://schema.org/name> ?siteName ;\n",
                "    wdt:P2044 ?elevation .\n",
                "    \n",
                "}}\n",
                "order by desc(?elevation)\n",
                "limit 10\n",
                "\"\"\"\n",
                "run_query(q)"
            ]
        },
        {
            "cell_type": "code",
            "execution_count": 34,
            "id": "dd48447f-7c63-45a1-9601-54c3bba98354",
            "metadata": {},
            "outputs": [
                {
                    "name": "stdout",
                    "output_type": "stream",
                    "text": [
                        "[('cultureName', 'Ancient Rome'), ('total', '7400000')]\n",
                        "[('cultureName', 'Ancient Greece'), ('total', '2499715')]\n",
                        "[('cultureName', 'Minoan civilization'), ('total', '2408619')]\n",
                        "[('cultureName', 'Mycenaean Greece'), ('total', '1649962')]\n",
                        "[('cultureName', 'Byzantine Empire'), ('total', '385781')]\n",
                        "[('cultureName', 'Ta\u00edno people'), ('total', '80000')]\n"
                    ]
                },
                {
                    "data": {
                        "text/plain": [
                            "6"
                        ]
                    },
                    "execution_count": 34,
                    "metadata": {},
                    "output_type": "execute_result"
                }
            ],
            "source": [
                "#let's rank cultures by the number of visitors the respective sites get each year\n",
                "\n",
                "q = f\"\"\"\n",
                "select ?cultureName (sum(?visitors) as ?total) where{{\n",
                "?site wdt:P31 wd:Q839954 ;\n",
                "    wdt:P1174 ?visitors ;\n",
                "    wdt:P2596 ?culture .\n",
                "?culture <http://schema.org/name> ?cultureName .\n",
                "}}\n",
                "group by ?cultureName\n",
                "order by desc(?total)\n",
                "limit 10\n",
                "\"\"\"\n",
                "run_query(q)"
            ]
        },
        {
            "cell_type": "code",
            "execution_count": 35,
            "id": "6d83a63f-a9b4-4707-9564-383ce027d55b",
            "metadata": {},
            "outputs": [
                {
                    "name": "stdout",
                    "output_type": "stream",
                    "text": [
                        "[('countryName', 'United Kingdom'), ('n', '7026')]\n",
                        "[('countryName', 'Spain'), ('n', '6168')]\n",
                        "[('countryName', 'North Macedonia'), ('n', '4329')]\n",
                        "[('countryName', 'Germany'), ('n', '2825')]\n",
                        "[('countryName', 'Moldova'), ('n', '2674')]\n",
                        "[('countryName', 'United States of America'), ('n', '2159')]\n",
                        "[('countryName', 'Argentina'), ('n', '2073')]\n",
                        "[('countryName', 'Italy'), ('n', '1869')]\n",
                        "[('countryName', 'Switzerland'), ('n', '984')]\n",
                        "[('countryName', 'Netherlands'), ('n', '980')]\n",
                        "[('countryName', 'France'), ('n', '790')]\n",
                        "[('countryName', 'Greece'), ('n', '771')]\n",
                        "[('countryName', 'Slovenia'), ('n', '767')]\n",
                        "[('countryName', 'Turkey'), ('n', '633')]\n",
                        "[('countryName', 'Russia'), ('n', '558')]\n",
                        "[('countryName', 'Japan'), ('n', '455')]\n",
                        "[('countryName', 'Peru'), ('n', '453')]\n",
                        "[('countryName', 'Egypt'), ('n', '410')]\n",
                        "[('countryName', 'Kosovo'), ('n', '382')]\n",
                        "[('countryName', \"People's Republic of China\"), ('n', '379')]\n"
                    ]
                },
                {
                    "data": {
                        "text/plain": [
                            "20"
                        ]
                    },
                    "execution_count": 35,
                    "metadata": {},
                    "output_type": "execute_result"
                }
            ],
            "source": [
                "#Point 4.1 which country has more archaeological sites? which country has the most human settlements?\n",
                "q = f\"\"\"\n",
                "select ?countryName (count(?site) as ?n) where{{\n",
                "?site wdt:P31 wd:Q839954 ;\n",
                "    wdt:P17 ?country .\n",
                "?country <http://schema.org/name> ?countryName .\n",
                "}}\n",
                "group by ?countryName\n",
                "order by desc(?n)\n",
                "limit 20\n",
                "\"\"\"\n",
                "run_query(q)"
            ]
        },
        {
            "cell_type": "code",
            "execution_count": 36,
            "id": "e2b313d4-9923-4ab0-9f33-3b56c8287189",
            "metadata": {},
            "outputs": [
                {
                    "name": "stdout",
                    "output_type": "stream",
                    "text": [
                        "[('countryName', 'Spain'), ('n', '263')]\n",
                        "[('countryName', 'Turkey'), ('n', '104')]\n",
                        "[('countryName', 'Libya'), ('n', '71')]\n",
                        "[('countryName', 'Lebanon'), ('n', '50')]\n",
                        "[('countryName', 'Egypt'), ('n', '49')]\n",
                        "[('countryName', 'Greece'), ('n', '32')]\n",
                        "[('countryName', 'Iraq'), ('n', '28')]\n",
                        "[('countryName', 'Italy'), ('n', '23')]\n",
                        "[('countryName', 'United States of America'), ('n', '18')]\n",
                        "[('countryName', 'Russia'), ('n', '18')]\n",
                        "[('countryName', 'United Kingdom'), ('n', '13')]\n",
                        "[('countryName', 'Israel'), ('n', '13')]\n",
                        "[('countryName', 'Mexico'), ('n', '11')]\n",
                        "[('countryName', 'Guatemala'), ('n', '10')]\n",
                        "[('countryName', 'Germany'), ('n', '10')]\n",
                        "[('countryName', 'Peru'), ('n', '9')]\n",
                        "[('countryName', 'India'), ('n', '8')]\n",
                        "[('countryName', 'Morocco'), ('n', '6')]\n",
                        "[('countryName', 'Belize'), ('n', '6')]\n",
                        "[('countryName', 'Switzerland'), ('n', '6')]\n"
                    ]
                },
                {
                    "data": {
                        "text/plain": [
                            "20"
                        ]
                    },
                    "execution_count": 36,
                    "metadata": {},
                    "output_type": "execute_result"
                }
            ],
            "source": [
                "#the united kingdom has more archaeological sites\n",
                "\n",
                "HumanSettlement = 'wd:Q486972'\n",
                "\n",
                "q = f\"\"\"\n",
                "select ?countryName (count(?site) as ?n) where{{\n",
                "?site wdt:P31 wd:Q839954 ;\n",
                "    wdt:P31 wd:Q486972 ;\n",
                "    wdt:P17 ?country .\n",
                "    \n",
                "?country <http://schema.org/name> ?countryName\n",
                "}}\n",
                "group by ?countryName\n",
                "order by desc(?n)\n",
                "limit 20\n",
                "\"\"\"\n",
                "run_query(q)"
            ]
        },
        {
            "cell_type": "code",
            "execution_count": 37,
            "id": "5ac300aa-f069-45da-9804-112781e90b8d",
            "metadata": {},
            "outputs": [
                {
                    "name": "stdout",
                    "output_type": "stream",
                    "text": [
                        "[('class', 'http://www.wikidata.org/entity/Q3024240'), ('name', 'historical country')]\n"
                    ]
                },
                {
                    "data": {
                        "text/plain": [
                            "1"
                        ]
                    },
                    "execution_count": 37,
                    "metadata": {},
                    "output_type": "execute_result"
                }
            ],
            "source": [
                "#spain has the most human settlements\n",
                "\n",
                "#4.2 Which countries have Ancient Rome sites? Which other archaeological cultures are described?\n",
                "\n",
                "#We have the node Ancient Rome, let's see its classes\n",
                "q = f\"\"\"\n",
                "select ?class ?name where{{\n",
                "wd:Q1747689 wdt:P31 ?class .\n",
                "?class <http://schema.org/name> ?name\n",
                "}}\n",
                "\"\"\"\n",
                "run_query(q)"
            ]
        },
        {
            "cell_type": "code",
            "execution_count": 38,
            "id": "d551eb65-7341-4178-a7bb-a6fc719aa4ed",
            "metadata": {},
            "outputs": [
                {
                    "name": "stdout",
                    "output_type": "stream",
                    "text": [
                        "[('country', 'http://www.wikidata.org/entity/Q185103'), ('name', 'Roman Britain')]\n",
                        "[('country', 'http://www.wikidata.org/entity/Q1016'), ('name', 'Libya')]\n",
                        "[('country', 'http://www.wikidata.org/entity/Q1028'), ('name', 'Morocco')]\n",
                        "[('country', 'http://www.wikidata.org/entity/Q142'), ('name', 'France')]\n",
                        "[('country', 'http://www.wikidata.org/entity/Q145'), ('name', 'United Kingdom')]\n",
                        "[('country', 'http://www.wikidata.org/entity/Q1747689'), ('name', 'Ancient Rome')]\n",
                        "[('country', 'http://www.wikidata.org/entity/Q183'), ('name', 'Germany')]\n",
                        "[('country', 'http://www.wikidata.org/entity/Q218'), ('name', 'Romania')]\n",
                        "[('country', 'http://www.wikidata.org/entity/Q219'), ('name', 'Bulgaria')]\n",
                        "[('country', 'http://www.wikidata.org/entity/Q222'), ('name', 'Albania')]\n",
                        "[('country', 'http://www.wikidata.org/entity/Q224'), ('name', 'Croatia')]\n",
                        "[('country', 'http://www.wikidata.org/entity/Q230'), ('name', 'Georgia')]\n",
                        "[('country', 'http://www.wikidata.org/entity/Q233'), ('name', 'Malta')]\n",
                        "[('country', 'http://www.wikidata.org/entity/Q262'), ('name', 'Algeria')]\n",
                        "[('country', 'http://www.wikidata.org/entity/Q29'), ('name', 'Spain')]\n",
                        "[('country', 'http://www.wikidata.org/entity/Q31'), ('name', 'Belgium')]\n",
                        "[('country', 'http://www.wikidata.org/entity/Q32'), ('name', 'Luxembourg')]\n",
                        "[('country', 'http://www.wikidata.org/entity/Q38'), ('name', 'Italy')]\n",
                        "[('country', 'http://www.wikidata.org/entity/Q39'), ('name', 'Switzerland')]\n",
                        "[('country', 'http://www.wikidata.org/entity/Q40'), ('name', 'Austria')]\n",
                        "[('country', 'http://www.wikidata.org/entity/Q403'), ('name', 'Serbia')]\n",
                        "[('country', 'http://www.wikidata.org/entity/Q41'), ('name', 'Greece')]\n",
                        "[('country', 'http://www.wikidata.org/entity/Q43'), ('name', 'Turkey')]\n",
                        "[('country', 'http://www.wikidata.org/entity/Q55'), ('name', 'Netherlands')]\n",
                        "[('country', 'http://www.wikidata.org/entity/Q79'), ('name', 'Egypt')]\n",
                        "[('country', 'http://www.wikidata.org/entity/Q801'), ('name', 'Israel')]\n",
                        "[('country', 'http://www.wikidata.org/entity/Q810'), ('name', 'Jordan')]\n",
                        "[('country', 'http://www.wikidata.org/entity/Q858'), ('name', 'Syria')]\n"
                    ]
                },
                {
                    "data": {
                        "text/plain": [
                            "28"
                        ]
                    },
                    "execution_count": 38,
                    "metadata": {},
                    "output_type": "execute_result"
                }
            ],
            "source": [
                "#for now let's answer the first part\n",
                "q = f\"\"\"\n",
                "select distinct ?country ?name where{{\n",
                "?site wdt:P31 wd:Q839954 ;\n",
                "    wdt:P2596 wd:Q1747689 ;\n",
                "    wdt:P17 ?country .\n",
                "    \n",
                "?country <http://schema.org/name> ?name\n",
                "}}\n",
                "\"\"\"\n",
                "run_query(q)"
            ]
        },
        {
            "cell_type": "code",
            "execution_count": 39,
            "id": "70a60bd2-5a05-4971-b091-5ee2f8a4a824",
            "metadata": {},
            "outputs": [
                {
                    "name": "stdout",
                    "output_type": "stream",
                    "text": [
                        "Empty\n"
                    ]
                },
                {
                    "data": {
                        "text/plain": [
                            "0"
                        ]
                    },
                    "execution_count": 39,
                    "metadata": {},
                    "output_type": "execute_result"
                }
            ],
            "source": [
                "#there's a few countries that look like dissolved, let's see if we have a dissolution time as a property\n",
                "tmp = 'wd:Q185103'\n",
                "q = f\"\"\"\n",
                "select distinct ?property ?name where{{\n",
                "wd:Q185103 ?property ?p .\n",
                "?property <http://schema.org/name> ?name .\n",
                "filter (isNumeric(?p))\n",
                "}}\n",
                "\"\"\"\n",
                "run_query(q)"
            ]
        },
        {
            "cell_type": "code",
            "execution_count": 40,
            "id": "adbca899-7a49-40a5-ab41-89c3285d79db",
            "metadata": {},
            "outputs": [
                {
                    "name": "stdout",
                    "output_type": "stream",
                    "text": [
                        "[('property', 'http://www.wikidata.org/prop/direct/P9505'), ('name', 'Gardens of the Roman Empire ID')]\n",
                        "[('property', 'http://www.wikidata.org/prop/direct/P131'), ('name', 'located in the administrative territorial entity')]\n",
                        "[('property', 'http://www.wikidata.org/prop/direct/P1365'), ('name', 'replaces')]\n",
                        "[('property', 'http://www.wikidata.org/prop/direct/P1366'), ('name', 'replaced by')]\n",
                        "[('property', 'http://www.wikidata.org/prop/direct/P1464'), ('name', 'category for people born here')]\n",
                        "[('property', 'http://www.wikidata.org/prop/direct/P156'), ('name', 'followed by')]\n",
                        "[('property', 'http://www.wikidata.org/prop/direct/P1566'), ('name', 'GeoNames ID')]\n",
                        "[('property', 'http://www.wikidata.org/prop/direct/P1584'), ('name', 'Pleiades ID')]\n",
                        "[('property', 'http://www.wikidata.org/prop/direct/P17'), ('name', 'country')]\n",
                        "[('property', 'http://www.wikidata.org/prop/direct/P1792'), ('name', 'category of associated people')]\n",
                        "[('property', 'http://www.wikidata.org/prop/direct/P18'), ('name', 'image')]\n",
                        "[('property', 'http://www.wikidata.org/prop/direct/P1889'), ('name', 'different from')]\n",
                        "[('property', 'http://www.wikidata.org/prop/direct/P1958'), ('name', 'Trismegistos Geo ID')]\n",
                        "[('property', 'http://www.wikidata.org/prop/direct/P213'), ('name', 'ISNI')]\n",
                        "[('property', 'http://www.wikidata.org/prop/direct/P214'), ('name', 'VIAF ID')]\n",
                        "[('property', 'http://www.wikidata.org/prop/direct/P227'), ('name', 'GND ID')]\n",
                        "[('property', 'http://www.wikidata.org/prop/direct/P2347'), ('name', 'YSO ID')]\n",
                        "[('property', 'http://www.wikidata.org/prop/direct/P2348'), ('name', 'time period')]\n",
                        "[('property', 'http://www.wikidata.org/prop/direct/P242'), ('name', 'locator map image')]\n",
                        "[('property', 'http://www.wikidata.org/prop/direct/P244'), ('name', 'Library of Congress authority ID')]\n",
                        "[('property', 'http://www.wikidata.org/prop/direct/P31'), ('name', 'instance of')]\n",
                        "[('property', 'http://www.wikidata.org/prop/direct/P36'), ('name', 'capital')]\n",
                        "[('property', 'http://www.wikidata.org/prop/direct/P361'), ('name', 'part of')]\n",
                        "[('property', 'http://www.wikidata.org/prop/direct/P373'), ('name', 'Commons category')]\n",
                        "[('property', 'http://www.wikidata.org/prop/direct/P527'), ('name', 'has part')]\n",
                        "[('property', 'http://www.wikidata.org/prop/direct/P571'), ('name', 'inception')]\n",
                        "[('property', 'http://www.wikidata.org/prop/direct/P576'), ('name', 'dissolved, abolished or demolished date')]\n",
                        "[('property', 'http://www.wikidata.org/prop/direct/P646'), ('name', 'Freebase ID')]\n",
                        "[('property', 'http://www.wikidata.org/prop/direct/P6706'), ('name', 'De Agostini ID')]\n",
                        "[('property', 'http://www.wikidata.org/prop/direct/P691'), ('name', 'NKCR AUT ID')]\n",
                        "[('property', 'http://www.wikidata.org/prop/direct/P7818'), ('name', 'French Vikidia ID')]\n",
                        "[('property', 'http://www.wikidata.org/prop/direct/P7859'), ('name', 'WorldCat Identities ID')]\n",
                        "[('property', 'http://www.wikidata.org/prop/direct/P7867'), ('name', 'category for maps')]\n",
                        "[('property', 'http://www.wikidata.org/prop/direct/P8068'), ('name', 'ToposText place ID')]\n",
                        "[('property', 'http://www.wikidata.org/prop/direct/P8406'), ('name', 'Grove Art Online ID')]\n",
                        "[('property', 'http://www.wikidata.org/prop/direct/P9000'), ('name', 'World History Encyclopedia ID')]\n",
                        "[('property', 'http://www.wikidata.org/prop/direct/P910'), ('name', \"topic's main category\")]\n",
                        "[('property', 'http://www.wikidata.org/prop/direct/P9106'), ('name', 'Oxford Classical Dictionary ID')]\n"
                    ]
                },
                {
                    "data": {
                        "text/plain": [
                            "38"
                        ]
                    },
                    "execution_count": 40,
                    "metadata": {},
                    "output_type": "execute_result"
                }
            ],
            "source": [
                "tmp = 'wd:Q185103'\n",
                "q = f\"\"\"\n",
                "select distinct ?property ?name where{{\n",
                "wd:Q185103 ?property ?p .\n",
                "?property <http://schema.org/name> ?name .\n",
                "}}\n",
                "\"\"\"\n",
                "run_query(q)"
            ]
        },
        {
            "cell_type": "code",
            "execution_count": 41,
            "id": "bab582d7-a6be-4643-860b-5d250fb04a14",
            "metadata": {},
            "outputs": [
                {
                    "name": "stdout",
                    "output_type": "stream",
                    "text": [
                        "[('country', 'http://www.wikidata.org/entity/Q1016'), ('name', 'Libya')]\n",
                        "[('country', 'http://www.wikidata.org/entity/Q1028'), ('name', 'Morocco')]\n",
                        "[('country', 'http://www.wikidata.org/entity/Q142'), ('name', 'France')]\n",
                        "[('country', 'http://www.wikidata.org/entity/Q145'), ('name', 'United Kingdom')]\n",
                        "[('country', 'http://www.wikidata.org/entity/Q183'), ('name', 'Germany')]\n",
                        "[('country', 'http://www.wikidata.org/entity/Q218'), ('name', 'Romania')]\n",
                        "[('country', 'http://www.wikidata.org/entity/Q219'), ('name', 'Bulgaria')]\n",
                        "[('country', 'http://www.wikidata.org/entity/Q222'), ('name', 'Albania')]\n",
                        "[('country', 'http://www.wikidata.org/entity/Q224'), ('name', 'Croatia')]\n",
                        "[('country', 'http://www.wikidata.org/entity/Q230'), ('name', 'Georgia')]\n",
                        "[('country', 'http://www.wikidata.org/entity/Q233'), ('name', 'Malta')]\n",
                        "[('country', 'http://www.wikidata.org/entity/Q262'), ('name', 'Algeria')]\n",
                        "[('country', 'http://www.wikidata.org/entity/Q29'), ('name', 'Spain')]\n",
                        "[('country', 'http://www.wikidata.org/entity/Q31'), ('name', 'Belgium')]\n",
                        "[('country', 'http://www.wikidata.org/entity/Q32'), ('name', 'Luxembourg')]\n",
                        "[('country', 'http://www.wikidata.org/entity/Q38'), ('name', 'Italy')]\n",
                        "[('country', 'http://www.wikidata.org/entity/Q39'), ('name', 'Switzerland')]\n",
                        "[('country', 'http://www.wikidata.org/entity/Q40'), ('name', 'Austria')]\n",
                        "[('country', 'http://www.wikidata.org/entity/Q403'), ('name', 'Serbia')]\n",
                        "[('country', 'http://www.wikidata.org/entity/Q41'), ('name', 'Greece')]\n",
                        "[('country', 'http://www.wikidata.org/entity/Q43'), ('name', 'Turkey')]\n",
                        "[('country', 'http://www.wikidata.org/entity/Q55'), ('name', 'Netherlands')]\n",
                        "[('country', 'http://www.wikidata.org/entity/Q79'), ('name', 'Egypt')]\n",
                        "[('country', 'http://www.wikidata.org/entity/Q801'), ('name', 'Israel')]\n",
                        "[('country', 'http://www.wikidata.org/entity/Q810'), ('name', 'Jordan')]\n",
                        "[('country', 'http://www.wikidata.org/entity/Q858'), ('name', 'Syria')]\n"
                    ]
                },
                {
                    "data": {
                        "text/plain": [
                            "26"
                        ]
                    },
                    "execution_count": 41,
                    "metadata": {},
                    "output_type": "execute_result"
                }
            ],
            "source": [
                "dissolution = 'wdt:P576'\n",
                "#let's repeat the query\n",
                "q = f\"\"\"\n",
                "select distinct ?country ?name where{{\n",
                "?site wdt:P31 wd:Q839954 ;\n",
                "    wdt:P2596 wd:Q1747689 ;\n",
                "    wdt:P17 ?country .\n",
                "    \n",
                "\n",
                "filter not exists{{\n",
                "        ?country wdt:P576 ?o\n",
                "    }}\n",
                "    \n",
                "?country <http://schema.org/name> ?name .\n",
                "\n",
                "}}\n",
                "\"\"\"\n",
                "run_query(q)"
            ]
        },
        {
            "cell_type": "code",
            "execution_count": 42,
            "id": "b634ae25-2efa-4c80-b29c-92cf194496e5",
            "metadata": {},
            "outputs": [
                {
                    "name": "stdout",
                    "output_type": "stream",
                    "text": [
                        "[('culture', 'http://www.wikidata.org/entity/Q500272'), ('name', 'Samnites')]\n",
                        "[('culture', 'http://www.wikidata.org/entity/Q220379'), ('name', 'Adriatic Veneti')]\n",
                        "[('culture', 'http://www.wikidata.org/entity/Q17161'), ('name', 'Etruscans')]\n",
                        "[('culture', 'http://www.wikidata.org/entity/Q777462'), ('name', 'Aurunci')]\n",
                        "[('culture', 'http://www.wikidata.org/entity/Q11772'), ('name', 'Ancient Greece')]\n",
                        "[('culture', 'http://www.wikidata.org/entity/Q1200427'), ('name', 'culture of ancient Rome')]\n",
                        "[('culture', 'http://www.wikidata.org/entity/Q1747689'), ('name', 'Ancient Rome')]\n",
                        "[('culture', 'http://www.wikidata.org/entity/Q2277'), ('name', 'Roman Empire')]\n",
                        "[('culture', 'http://www.wikidata.org/entity/Q4948'), ('name', 'Republic of Venice')]\n",
                        "[('culture', 'http://www.wikidata.org/entity/Q40203'), ('name', 'paleolithic')]\n",
                        "[('culture', 'http://www.wikidata.org/entity/Q841576'), ('name', 'Iapyges')]\n",
                        "[('culture', 'http://www.wikidata.org/entity/Q14618893'), ('name', 'history of the Roman Empire from 27 BCE to 395 AD')]\n",
                        "[('culture', 'http://www.wikidata.org/entity/Q487908'), ('name', 'Osci')]\n",
                        "[('culture', 'http://www.wikidata.org/entity/Q11761'), ('name', 'Bronze Age')]\n",
                        "[('culture', 'http://www.wikidata.org/entity/Q3699313'), ('name', 'Castelluccio Culture')]\n",
                        "[('culture', 'http://www.wikidata.org/entity/Q202335'), ('name', 'Latins')]\n",
                        "[('culture', 'http://www.wikidata.org/entity/Q3617880'), ('name', 'Italic peoples')]\n",
                        "[('culture', 'http://www.wikidata.org/entity/Q1421436'), ('name', 'nuragic civilization')]\n",
                        "[('culture', 'http://www.wikidata.org/entity/Q952123'), ('name', 'Sicani')]\n",
                        "[('culture', 'http://www.wikidata.org/entity/Q1473758'), ('name', 'Ozieri culture')]\n",
                        "[('culture', 'http://www.wikidata.org/entity/Q959419'), ('name', 'Sicels')]\n",
                        "[('culture', 'http://www.wikidata.org/entity/Q931423'), ('name', 'Elymians')]\n",
                        "[('culture', 'http://www.wikidata.org/entity/Q3723502'), ('name', 'Hellenes')]\n",
                        "[('culture', 'http://www.wikidata.org/entity/Q2257531'), ('name', 'Siceliotes')]\n",
                        "[('culture', 'http://www.wikidata.org/entity/Q663655'), ('name', 'Volsci')]\n",
                        "[('culture', 'http://www.wikidata.org/entity/Q1165749'), ('name', 'Marrucini')]\n",
                        "[('culture', 'http://www.wikidata.org/entity/Q1265446'), ('name', 'Marsi')]\n",
                        "[('culture', 'http://www.wikidata.org/entity/Q2479252'), ('name', 'Frentani')]\n",
                        "[('culture', 'http://www.wikidata.org/entity/Q941821'), ('name', 'Paeligni')]\n",
                        "[('culture', 'http://www.wikidata.org/entity/Q994847'), ('name', 'Bruttii')]\n",
                        "[('culture', 'http://www.wikidata.org/entity/Q83418'), ('name', 'Normans')]\n",
                        "[('culture', 'http://www.wikidata.org/entity/Q539051'), ('name', 'Greeks')]\n",
                        "[('culture', 'http://www.wikidata.org/entity/Q746287'), ('name', 'Oldowan')]\n",
                        "[('culture', 'http://www.wikidata.org/entity/Q2301209'), ('name', 'prehistoric Italy')]\n",
                        "[('culture', 'http://www.wikidata.org/entity/Q4383747'), ('name', 'Punics')]\n",
                        "[('culture', 'http://www.wikidata.org/entity/Q207023'), ('name', 'Ligures')]\n",
                        "[('culture', 'http://www.wikidata.org/entity/Q33849736'), ('name', 'Culture of Pantalica')]\n",
                        "[('culture', 'http://www.wikidata.org/entity/Q925746'), ('name', 'Caraceni')]\n",
                        "[('culture', 'http://www.wikidata.org/entity/Q1585136'), ('name', 'Monte Claro culture')]\n",
                        "[('culture', 'http://www.wikidata.org/entity/Q2511062'), ('name', 'Square Mouthed Vases culture')]\n",
                        "[('culture', 'http://www.wikidata.org/entity/Q737684'), ('name', 'Messapii')]\n",
                        "[('culture', 'http://www.wikidata.org/entity/Q35966'), ('name', 'Ancient Celts')]\n",
                        "[('culture', 'http://www.wikidata.org/entity/Q17167'), ('name', 'Roman Republic')]\n",
                        "[('culture', 'http://www.wikidata.org/entity/Q271834'), ('name', 'Archaic Greece')]\n",
                        "[('culture', 'http://www.wikidata.org/entity/Q3589150'), ('name', 'Epigravettian')]\n",
                        "[('culture', 'http://www.wikidata.org/entity/Q1048468'), ('name', 'Phoenicians')]\n",
                        "[('culture', 'http://www.wikidata.org/entity/Q2341546'), ('name', 'Vestini')]\n",
                        "[('culture', 'http://www.wikidata.org/entity/Q643335'), ('name', 'Abealzu-Filigosa culture')]\n",
                        "[('culture', 'http://www.wikidata.org/entity/Q1410539'), ('name', 'Terramare cultura')]\n",
                        "[('culture', 'http://www.wikidata.org/entity/Q20971658'), ('name', 'pre-roman')]\n",
                        "[('culture', 'http://www.wikidata.org/entity/Q587309'), ('name', 'Villanovan culture')]\n",
                        "[('culture', 'http://www.wikidata.org/entity/Q3007186'), ('name', 'Arzachena culture')]\n",
                        "[('culture', 'http://www.wikidata.org/entity/Q1172997'), ('name', 'Daunians')]\n",
                        "[('culture', 'http://www.wikidata.org/entity/Q1264391'), ('name', 'Lucanians')]\n",
                        "[('culture', 'http://www.wikidata.org/entity/Q2429397'), ('name', 'Ancient Carthage')]\n",
                        "[('culture', 'http://www.wikidata.org/entity/Q42211'), ('name', 'Vandals')]\n",
                        "[('culture', 'http://www.wikidata.org/entity/Q8432'), ('name', 'civilization')]\n",
                        "[('culture', 'http://www.wikidata.org/entity/Q16545225'), ('name', 'Stentinello culture')]\n",
                        "[('culture', 'http://www.wikidata.org/entity/Q747396'), ('name', 'Bonnanaro culture')]\n",
                        "[('culture', 'http://www.wikidata.org/entity/Q130900'), ('name', 'Lombards')]\n",
                        "[('culture', 'http://www.wikidata.org/entity/Q1469205'), ('name', 'Fritzens-Sanzeno culture')]\n"
                    ]
                },
                {
                    "data": {
                        "text/plain": [
                            "61"
                        ]
                    },
                    "execution_count": 42,
                    "metadata": {},
                    "output_type": "execute_result"
                }
            ],
            "source": [
                "#4.2 which other archaeological cultures are described?\n",
                "\n",
                "#let's list all archaeological cultures in italy\n",
                "q = f\"\"\"\n",
                "select distinct ?culture ?name where{{\n",
                "?site wdt:P31 wd:Q839954 ;\n",
                "    wdt:P2596 ?culture ;\n",
                "    wdt:P17 wd:Q38 .\n",
                "    \n",
                "?culture <http://schema.org/name> ?name .\n",
                "}}\n",
                "\"\"\"\n",
                "run_query(q)"
            ]
        },
        {
            "cell_type": "code",
            "execution_count": 43,
            "id": "eeb55608-2a5b-42b5-b4dd-546d62bd1232",
            "metadata": {},
            "outputs": [
                {
                    "name": "stdout",
                    "output_type": "stream",
                    "text": [
                        "[('culture', 'http://www.wikidata.org/entity/Q220276'), ('name', 'Third Dynasty of Egypt')]\n",
                        "[('culture', 'http://www.wikidata.org/entity/Q634708'), ('name', 'culture of ancient Egypt')]\n",
                        "[('culture', 'http://www.wikidata.org/entity/Q11768'), ('name', 'Ancient Egypt')]\n",
                        "[('culture', 'http://www.wikidata.org/entity/Q1747689'), ('name', 'Ancient Rome')]\n",
                        "[('culture', 'http://www.wikidata.org/entity/Q428995'), ('name', 'Hellenistic period')]\n",
                        "[('culture', 'http://www.wikidata.org/entity/Q191324'), ('name', 'Middle Kingdom of Egypt')]\n",
                        "[('culture', 'http://www.wikidata.org/entity/Q1546344'), ('name', 'History of Ptolemaic Egypt')]\n",
                        "[('culture', 'http://www.wikidata.org/entity/Q3185305'), ('name', 'Kingdom of Israel')]\n",
                        "[('culture', 'http://www.wikidata.org/entity/Q177819'), ('name', 'Old Kingdom of Egypt')]\n"
                    ]
                },
                {
                    "data": {
                        "text/plain": [
                            "9"
                        ]
                    },
                    "execution_count": 43,
                    "metadata": {},
                    "output_type": "execute_result"
                }
            ],
            "source": [
                "#let's do that for Egypt\n",
                "Egypt = 'wd:Q79'\n",
                "\n",
                "q = f\"\"\"\n",
                "select distinct ?culture ?name where{{\n",
                "?site wdt:P31 wd:Q839954 ;\n",
                "    wdt:P2596 ?culture ;\n",
                "    wdt:P17 wd:Q79 .\n",
                "    \n",
                "?culture <http://schema.org/name> ?name .\n",
                "}}\n",
                "\"\"\"\n",
                "run_query(q)"
            ]
        },
        {
            "cell_type": "code",
            "execution_count": 44,
            "id": "d0012be3-1429-4dbe-9b0a-f6b4c52cd01a",
            "metadata": {},
            "outputs": [
                {
                    "name": "stdout",
                    "output_type": "stream",
                    "text": [
                        "[('country', 'http://www.wikidata.org/entity/Q185103'), ('countryName', 'Roman Britain')]\n",
                        "[('country', 'http://www.wikidata.org/entity/Q1016'), ('countryName', 'Libya')]\n",
                        "[('country', 'http://www.wikidata.org/entity/Q1028'), ('countryName', 'Morocco')]\n",
                        "[('country', 'http://www.wikidata.org/entity/Q142'), ('countryName', 'France')]\n",
                        "[('country', 'http://www.wikidata.org/entity/Q145'), ('countryName', 'United Kingdom')]\n",
                        "[('country', 'http://www.wikidata.org/entity/Q1747689'), ('countryName', 'Ancient Rome')]\n",
                        "[('country', 'http://www.wikidata.org/entity/Q183'), ('countryName', 'Germany')]\n",
                        "[('country', 'http://www.wikidata.org/entity/Q218'), ('countryName', 'Romania')]\n",
                        "[('country', 'http://www.wikidata.org/entity/Q219'), ('countryName', 'Bulgaria')]\n",
                        "[('country', 'http://www.wikidata.org/entity/Q222'), ('countryName', 'Albania')]\n",
                        "[('country', 'http://www.wikidata.org/entity/Q224'), ('countryName', 'Croatia')]\n",
                        "[('country', 'http://www.wikidata.org/entity/Q230'), ('countryName', 'Georgia')]\n",
                        "[('country', 'http://www.wikidata.org/entity/Q233'), ('countryName', 'Malta')]\n",
                        "[('country', 'http://www.wikidata.org/entity/Q262'), ('countryName', 'Algeria')]\n",
                        "[('country', 'http://www.wikidata.org/entity/Q29'), ('countryName', 'Spain')]\n",
                        "[('country', 'http://www.wikidata.org/entity/Q31'), ('countryName', 'Belgium')]\n",
                        "[('country', 'http://www.wikidata.org/entity/Q32'), ('countryName', 'Luxembourg')]\n",
                        "[('country', 'http://www.wikidata.org/entity/Q38'), ('countryName', 'Italy')]\n",
                        "[('country', 'http://www.wikidata.org/entity/Q39'), ('countryName', 'Switzerland')]\n",
                        "[('country', 'http://www.wikidata.org/entity/Q40'), ('countryName', 'Austria')]\n",
                        "[('country', 'http://www.wikidata.org/entity/Q403'), ('countryName', 'Serbia')]\n",
                        "[('country', 'http://www.wikidata.org/entity/Q41'), ('countryName', 'Greece')]\n",
                        "[('country', 'http://www.wikidata.org/entity/Q43'), ('countryName', 'Turkey')]\n",
                        "[('country', 'http://www.wikidata.org/entity/Q55'), ('countryName', 'Netherlands')]\n",
                        "[('country', 'http://www.wikidata.org/entity/Q79'), ('countryName', 'Egypt')]\n",
                        "[('country', 'http://www.wikidata.org/entity/Q801'), ('countryName', 'Israel')]\n",
                        "[('country', 'http://www.wikidata.org/entity/Q810'), ('countryName', 'Jordan')]\n",
                        "[('country', 'http://www.wikidata.org/entity/Q858'), ('countryName', 'Syria')]\n"
                    ]
                },
                {
                    "data": {
                        "text/plain": [
                            "28"
                        ]
                    },
                    "execution_count": 44,
                    "metadata": {},
                    "output_type": "execute_result"
                }
            ],
            "source": [
                "#in which countries are Ancient Rome sites predominant?\n",
                "\n",
                "\n",
                "q1 = f\"\"\"\n",
                "select ?country ?culture (count(?culture) as ?n) where{{\n",
                "?site wdt:P31 wd:Q839954 ;\n",
                "    wdt:P17 ?country ;\n",
                "    wdt:P2596 ?culture .\n",
                "}}\n",
                "group by ?country ?culture\n",
                "\"\"\"\n",
                "\n",
                "q2 = f\"\"\"\n",
                "select ?country ?culture (max(?n) as ?max) where{{\n",
                "    \n",
                "    {{\n",
                "        select ?country ?culture (count(?culture) as ?n) where{{\n",
                "        ?site wdt:P31 wd:Q839954 ;\n",
                "            wdt:P17 ?country ;\n",
                "            wdt:P2596 ?culture .\n",
                "        }}\n",
                "        group by ?country ?culture\n",
                "    }}\n",
                "}}\n",
                "group by ?country ?culture\n",
                "\"\"\"\n",
                "\n",
                "q = f\"\"\"\n",
                "select ?country ?countryName where{{\n",
                "?country <http://schema.org/name> ?countryName .\n",
                "    {{\n",
                "        select ?country ?culture (max(?n) as ?max) where{{\n",
                "    \n",
                "        {{\n",
                "            select ?country ?culture (count(?culture) as ?n) where{{\n",
                "                ?site wdt:P31 wd:Q839954 ;\n",
                "                    wdt:P17 ?country ;\n",
                "                    wdt:P2596 ?culture .\n",
                "                }}\n",
                "                group by ?country ?culture\n",
                "            }}\n",
                "        }}\n",
                "        group by ?country ?culture\n",
                "    }}\n",
                "filter(?culture = wd:Q1747689)\n",
                "\n",
                "}}\n",
                "\"\"\"\n",
                "run_query(q)"
            ]
        },
        {
            "cell_type": "code",
            "execution_count": 45,
            "id": "5ed50cff-2585-4b29-80c2-be51a7410186",
            "metadata": {},
            "outputs": [
                {
                    "name": "stdout",
                    "output_type": "stream",
                    "text": [
                        "[('culture', 'http://www.wikidata.org/entity/Q1747689'), ('name', 'Ancient Rome'), ('n', '11')]\n",
                        "[('culture', 'http://www.wikidata.org/entity/Q208247'), ('name', 'La T\u00e8ne culture'), ('n', '9')]\n",
                        "[('culture', 'http://www.wikidata.org/entity/Q202165'), ('name', 'Hallstatt culture'), ('n', '8')]\n",
                        "[('culture', 'http://www.wikidata.org/entity/Q35966'), ('name', 'Ancient Celts'), ('n', '3')]\n",
                        "[('culture', 'http://www.wikidata.org/entity/Q12567'), ('name', 'Vikings'), ('n', '3')]\n",
                        "[('culture', 'http://www.wikidata.org/entity/Q22633'), ('name', 'Germanic peoples'), ('n', '2')]\n",
                        "[('culture', 'http://www.wikidata.org/entity/Q14618893'), ('name', 'history of the Roman Empire from 27 BCE to 395 AD'), ('n', '1')]\n",
                        "[('culture', 'http://www.wikidata.org/entity/Q223998'), ('name', 'Urnfield culture'), ('n', '1')]\n",
                        "[('culture', 'http://www.wikidata.org/entity/Q12554'), ('name', 'Middle Ages'), ('n', '1')]\n",
                        "[('culture', 'http://www.wikidata.org/entity/Q806348'), ('name', 'Linear Pottery culture'), ('n', '1')]\n",
                        "[('culture', 'http://www.wikidata.org/entity/Q2277'), ('name', 'Roman Empire'), ('n', '1')]\n",
                        "[('culture', 'http://www.wikidata.org/entity/Q1886212'), ('name', 'R\u00f6ssen culture'), ('n', '1')]\n",
                        "[('culture', 'http://www.wikidata.org/entity/Q11764'), ('name', 'Iron Age'), ('n', '1')]\n",
                        "[('culture', 'http://www.wikidata.org/entity/Q1758757'), ('name', 'Late Bronze Age'), ('n', '1')]\n"
                    ]
                },
                {
                    "data": {
                        "text/plain": [
                            "14"
                        ]
                    },
                    "execution_count": 45,
                    "metadata": {},
                    "output_type": "execute_result"
                }
            ],
            "source": [
                "#should have also added filtered out dissolved countries but there's not too many\n",
                "\n",
                "\n",
                "#let's do a random check of this query with Germany\n",
                "\n",
                "Germany = 'wd:Q183'\n",
                "q = f\"\"\"\n",
                "select ?culture ?name (count(*) as ?n) where{{\n",
                "?site wdt:P31 wd:Q839954 ;\n",
                "    wdt:P17 wd:Q183 ;\n",
                "    wdt:P2596 ?culture .\n",
                "    \n",
                "?culture <http://schema.org/name> ?name .\n",
                "}}\n",
                "group by ?culture ?name\n",
                "order by desc(?n)\n",
                "\"\"\"\n",
                "run_query(q)"
            ]
        },
        {
            "cell_type": "code",
            "execution_count": 46,
            "id": "1e072f98-d97f-4af5-a9e4-0dc481b5789d",
            "metadata": {},
            "outputs": [
                {
                    "name": "stdout",
                    "output_type": "stream",
                    "text": [
                        "[('countryName', 'Italy'), ('n', '61')]\n"
                    ]
                },
                {
                    "data": {
                        "text/plain": [
                            "1"
                        ]
                    },
                    "execution_count": 46,
                    "metadata": {},
                    "output_type": "execute_result"
                }
            ],
            "source": [
                "#4.3 Which country has the most diverse set of civilizations or cultures across its sites?\n",
                "q1 = f\"\"\"\n",
                "select distinct ?country ?culture where{{\n",
                "?site wdt:P31 wd:Q839954 ;\n",
                "    wdt:P17 ?country ;\n",
                "    wdt:P2596 ?culture .\n",
                "    \n",
                "}}\n",
                "\n",
                "\"\"\"\n",
                "\n",
                "q = f\"\"\"\n",
                "select ?countryName (count(?culture) as ?n) where{{\n",
                "\n",
                "?country <http://schema.org/name> ?countryName\n",
                "\n",
                "        {{\n",
                "            select distinct ?country ?culture where{{\n",
                "            ?site wdt:P31 wd:Q839954 ;\n",
                "                wdt:P17 ?country ;\n",
                "                wdt:P2596 ?culture .\n",
                "\n",
                "            }}\n",
                "        }}\n",
                "\n",
                "}}\n",
                "order by desc(?n)\n",
                "limit(1)\n",
                "\"\"\"\n",
                "run_query(q)"
            ]
        },
        {
            "cell_type": "code",
            "execution_count": 47,
            "id": "d1a9224a-3089-425a-a08d-00cfdbf5c0fb",
            "metadata": {
                "tags": []
            },
            "outputs": [
                {
                    "name": "stdout",
                    "output_type": "stream",
                    "text": [
                        "[('countryName', 'Italy'), ('n', '61')]\n",
                        "[('countryName', 'United States of America'), ('n', '46')]\n",
                        "[('countryName', 'Spain'), ('n', '16')]\n",
                        "[('countryName', 'Israel'), ('n', '16')]\n",
                        "[('countryName', 'Iraq'), ('n', '15')]\n",
                        "[('countryName', 'Turkey'), ('n', '15')]\n",
                        "[('countryName', 'Syria'), ('n', '15')]\n",
                        "[('countryName', 'Greece'), ('n', '14')]\n",
                        "[('countryName', 'Germany'), ('n', '14')]\n",
                        "[('countryName', 'Peru'), ('n', '13')]\n"
                    ]
                },
                {
                    "data": {
                        "text/plain": [
                            "10"
                        ]
                    },
                    "execution_count": 47,
                    "metadata": {},
                    "output_type": "execute_result"
                }
            ],
            "source": [
                "#let's do top 10\n",
                "q1 = f\"\"\"\n",
                "select distinct ?country ?culture where{{\n",
                "?site wdt:P31 wd:Q839954 ;\n",
                "    wdt:P17 ?country ;\n",
                "    wdt:P2596 ?culture .\n",
                "    \n",
                "}}\n",
                "\n",
                "\"\"\"\n",
                "\n",
                "q = f\"\"\"\n",
                "select ?countryName (count(?culture) as ?n) where{{\n",
                "\n",
                "?country <http://schema.org/name> ?countryName\n",
                "\n",
                "        {{\n",
                "            select distinct ?country ?culture where{{\n",
                "?site wdt:P31 wd:Q839954 ;\n",
                "    wdt:P17 ?country ;\n",
                "    wdt:P2596 ?culture .\n",
                "    \n",
                "}}\n",
                "        }}\n",
                "\n",
                "}}\n",
                "order by desc(?n)\n",
                "limit(10)\n",
                "\"\"\"\n",
                "run_query(q)"
            ]
        },
        {
            "cell_type": "code",
            "execution_count": 49,
            "id": "5ce2909f-90f9-4305-9054-77dc3724ffda",
            "metadata": {},
            "outputs": [
                {
                    "name": "stdout",
                    "output_type": "stream",
                    "text": [
                        "Empty\n"
                    ]
                },
                {
                    "data": {
                        "text/plain": [
                            "0"
                        ]
                    },
                    "execution_count": 49,
                    "metadata": {},
                    "output_type": "execute_result"
                }
            ],
            "source": [
                "#4.4 Let's explore archaeological sites that are also tourist attractions\n",
                "#first of all let's figure out what the 2 properties 'fee' and 'cost' that we found earlier mean\n",
                "\n",
                "q = f\"\"\"\n",
                "select ?siteName ?fee where{{\n",
                "?site wdt:P31 wd:Q839954 ;\n",
                "    wdt:P31 wd:Q570116 ;\n",
                "    wdt:P17 wd:Q38 ;\n",
                "    wdt:P2555 ?fee ;\n",
                "    <http://schema.org/name> ?siteName .\n",
                "}}\n",
                "order by desc(?fee)\n",
                "limit 20\n",
                "\"\"\"\n",
                "run_query(q)"
            ]
        },
        {
            "cell_type": "code",
            "execution_count": 51,
            "id": "409a708b-88a0-41df-9f00-285e3739e97f",
            "metadata": {},
            "outputs": [
                {
                    "name": "stdout",
                    "output_type": "stream",
                    "text": [
                        "Empty\n"
                    ]
                },
                {
                    "data": {
                        "text/plain": [
                            "0"
                        ]
                    },
                    "execution_count": 51,
                    "metadata": {},
                    "output_type": "execute_result"
                }
            ],
            "source": [
                "#let's try with cost\n",
                "q = f\"\"\"\n",
                "select ?siteName ?cost where{{\n",
                "?site wdt:P31 wd:Q839954 ;\n",
                "    wdt:P31 wd:Q570116 ;\n",
                "    wdt:P17 wd:Q38 ;\n",
                "    wdt:P2130 ?cost ;\n",
                "    <http://schema.org/name> ?siteName .\n",
                "}}\n",
                "order by desc(?fee)\n",
                "limit 20\n",
                "\"\"\"\n",
                "run_query(q)"
            ]
        },
        {
            "cell_type": "code",
            "execution_count": 52,
            "id": "4b367922-47d9-431d-b275-8c26c2c411ab",
            "metadata": {},
            "outputs": [
                {
                    "name": "stdout",
                    "output_type": "stream",
                    "text": [
                        "Empty\n"
                    ]
                },
                {
                    "data": {
                        "text/plain": [
                            "0"
                        ]
                    },
                    "execution_count": 52,
                    "metadata": {},
                    "output_type": "execute_result"
                }
            ],
            "source": [
                "#let's retry without the Attraction class\n",
                "q = f\"\"\"\n",
                "select ?siteName ?fee where{{\n",
                "?site wdt:P31 wd:Q839954 ;\n",
                "    wdt:P17 wd:Q38 ;\n",
                "    wdt:P2555 ?fee ;\n",
                "    <http://schema.org/name> ?siteName .\n",
                "}}\n",
                "order by desc(?fee)\n",
                "limit 20\n",
                "\"\"\"\n",
                "run_query(q)"
            ]
        },
        {
            "cell_type": "code",
            "execution_count": 54,
            "id": "908f1292-f8a4-47b0-a457-c7734a8cd564",
            "metadata": {},
            "outputs": [
                {
                    "name": "stdout",
                    "output_type": "stream",
                    "text": [
                        "Empty\n"
                    ]
                },
                {
                    "data": {
                        "text/plain": [
                            "0"
                        ]
                    },
                    "execution_count": 54,
                    "metadata": {},
                    "output_type": "execute_result"
                }
            ],
            "source": [
                "q = f\"\"\"\n",
                "select ?siteName ?cost where{{\n",
                "?site wdt:P31 wd:Q839954 ;\n",
                "    wdt:P17 wd:Q38 ;\n",
                "    wdt:P2130 ?cost ;\n",
                "    <http://schema.org/name> ?siteName .\n",
                "}}\n",
                "order by desc(?cost)\n",
                "limit 20\n",
                "\"\"\"\n",
                "run_query(q)"
            ]
        },
        {
            "cell_type": "code",
            "execution_count": 55,
            "id": "5c83a7c3-1a01-488a-825e-5c68b933d7a2",
            "metadata": {},
            "outputs": [
                {
                    "name": "stdout",
                    "output_type": "stream",
                    "text": [
                        "[('siteName', 'Borobudur'), ('fee', '350000')]\n",
                        "[('siteName', 'Borobudur'), ('fee', '30000')]\n"
                    ]
                },
                {
                    "data": {
                        "text/plain": [
                            "2"
                        ]
                    },
                    "execution_count": 55,
                    "metadata": {},
                    "output_type": "execute_result"
                }
            ],
            "source": [
                "#let's try and ignore the country\n",
                "q = f\"\"\"\n",
                "select ?siteName ?fee where{{\n",
                "?site wdt:P31 wd:Q839954 ;\n",
                "    wdt:P2555 ?fee ;\n",
                "    <http://schema.org/name> ?siteName .\n",
                "}}\n",
                "order by desc(?fee)\n",
                "limit 20\n",
                "\"\"\"\n",
                "run_query(q)"
            ]
        },
        {
            "cell_type": "code",
            "execution_count": 56,
            "id": "653aa41e-b341-4566-b000-3d3cc4e74b5d",
            "metadata": {},
            "outputs": [
                {
                    "name": "stdout",
                    "output_type": "stream",
                    "text": [
                        "[('siteName', 'Franklin Court'), ('cost', '4750000')]\n",
                        "[('siteName', 'Orford Castle'), ('cost', '1413')]\n"
                    ]
                },
                {
                    "data": {
                        "text/plain": [
                            "2"
                        ]
                    },
                    "execution_count": 56,
                    "metadata": {},
                    "output_type": "execute_result"
                }
            ],
            "source": [
                "q = f\"\"\"\n",
                "select ?siteName ?cost where{{\n",
                "?site wdt:P31 wd:Q839954 ;\n",
                "    wdt:P2130 ?cost ;\n",
                "    <http://schema.org/name> ?siteName .\n",
                "}}\n",
                "order by desc(?cost)\n",
                "limit 20\n",
                "\"\"\"\n",
                "run_query(q)"
            ]
        },
        {
            "cell_type": "code",
            "execution_count": 57,
            "id": "9bebc8a6-278c-48c5-b7cc-621188fc67cd",
            "metadata": {},
            "outputs": [
                {
                    "name": "stdout",
                    "output_type": "stream",
                    "text": [
                        "[('siteName', 'Tower of London'), ('n', '61777')]\n",
                        "[('siteName', 'Edinburgh Castle'), ('n', '37034')]\n",
                        "[('siteName', 'Stonehenge'), ('n', '32651')]\n",
                        "[('siteName', 'Independence National Historical Park'), ('n', '8870')]\n",
                        "[('siteName', 'Dover Castle'), ('n', '7859')]\n",
                        "[('siteName', 'Must Farm Bronze Age settlement'), ('n', '6790')]\n",
                        "[('siteName', 'Hoghton Tower'), ('n', '6406')]\n",
                        "[('siteName', 'Ocmulgee Mounds National Historical Park'), ('n', '5596')]\n",
                        "[('siteName', 'Hopewell Culture National Historical Park'), ('n', '5389')]\n",
                        "[('siteName', 'The Castle, Newcastle'), ('n', '3910')]\n",
                        "[('siteName', 'Pembroke Castle'), ('n', '1389')]\n"
                    ]
                },
                {
                    "data": {
                        "text/plain": [
                            "11"
                        ]
                    },
                    "execution_count": 57,
                    "metadata": {},
                    "output_type": "execute_result"
                }
            ],
            "source": [
                "#my hope was that one between cost or fee would indicate the price of entry into a site, unfortunately there's too few\n",
                "#sites with those properties so we can't use them to decide the country with the most affordable sites to visit\n",
                "\n",
                "followers = 'wdt:P8687'\n",
                "maxCap = 'wdt:P1083'\n",
                "\n",
                "#let's see if archeological sites have social media followers\n",
                "\n",
                "q = f\"\"\"\n",
                "select ?siteName ?n where{{\n",
                "?site wdt:P31 wd:Q839954 ;\n",
                "    <http://schema.org/name> ?siteName ;\n",
                "    wdt:P8687 ?n\n",
                "}}\n",
                "order by desc(?n)\n",
                "limit 50\n",
                "\"\"\"\n",
                "run_query(q)"
            ]
        },
        {
            "cell_type": "code",
            "execution_count": 59,
            "id": "5830bb64-4762-4f7d-b741-95702c3c2807",
            "metadata": {},
            "outputs": [
                {
                    "name": "stdout",
                    "output_type": "stream",
                    "text": [
                        "[('name', 'Colosseum'), ('cap', '65000')]\n",
                        "[('name', 'Odeon of Herodes Atticus'), ('cap', '5000')]\n",
                        "[('name', 'SS Portland'), ('cap', '800')]\n"
                    ]
                },
                {
                    "data": {
                        "text/plain": [
                            "3"
                        ]
                    },
                    "execution_count": 59,
                    "metadata": {},
                    "output_type": "execute_result"
                }
            ],
            "source": [
                "#archeological sites with many social media followers are also probably well organized for tourists, so that list would be useful\n",
                "\n",
                "#during this period of time, it's important to follow safety regulations, so the higher the capacity of a site, the better\n",
                "q = f\"\"\"\n",
                "select ?name ?cap where{{\n",
                "?site wdt:P31 wd:Q839954 ;\n",
                "    <http://schema.org/name> ?name ;\n",
                "    wdt:P1083 ?cap .\n",
                "}}\n",
                "order by desc(?cap)\n",
                "limit 50\n",
                "\"\"\"\n",
                "run_query(q)"
            ]
        },
        {
            "cell_type": "code",
            "execution_count": 60,
            "id": "66c8cc1c-daa5-4326-93d1-d78b85eeb8c5",
            "metadata": {},
            "outputs": [
                {
                    "name": "stdout",
                    "output_type": "stream",
                    "text": [
                        "[('name', 'Colosseum'), ('visitors', '7400000')]\n",
                        "[('name', 'Independence National Historical Park'), ('visitors', '3572770')]\n",
                        "[('name', 'Tower of London'), ('visitors', '2741126')]\n",
                        "[('name', 'Knossos'), ('visitors', '855663')]\n",
                        "[('name', 'Knossos'), ('visitors', '634710')]\n",
                        "[('name', 'Knossos'), ('visitors', '611455')]\n",
                        "[('name', 'Mesa Verde National Park'), ('visitors', '557248')]\n",
                        "[('name', 'Mycenae'), ('visitors', '495993')]\n",
                        "[('name', 'Acropolis of Lindos'), ('visitors', '489137')]\n",
                        "[('name', 'Epidaurus'), ('visitors', '469060')]\n",
                        "[('name', 'Acropolis of Lindos'), ('visitors', '441012')]\n",
                        "[('name', 'Acropolis of Lindos'), ('visitors', '421070')]\n",
                        "[('name', 'Mycenae'), ('visitors', '412397')]\n",
                        "[('name', 'Delphi'), ('visitors', '405947')]\n",
                        "[('name', 'Mycenae'), ('visitors', '398718')]\n",
                        "[('name', 'Epidaurus'), ('visitors', '375437')]\n",
                        "[('name', 'Delphi'), ('visitors', '345804')]\n",
                        "[('name', 'Mycenae'), ('visitors', '342854')]\n",
                        "[('name', 'Temple of Poseidon at cape Sounion'), ('visitors', '306665')]\n",
                        "[('name', 'Delphi'), ('visitors', '290705')]\n",
                        "[('name', 'Temple of Poseidon at cape Sounion'), ('visitors', '259709')]\n",
                        "[('name', 'Temple of Poseidon at cape Sounion'), ('visitors', '222800')]\n",
                        "[('name', 'Aigai'), ('visitors', '222503')]\n",
                        "[('name', 'Wupatki National Monument'), ('visitors', '216165')]\n",
                        "[('name', 'Aigai'), ('visitors', '203632')]\n",
                        "[('name', 'Ancient Corinth'), ('visitors', '196944')]\n",
                        "[('name', 'Ancient Corinth'), ('visitors', '191836')]\n",
                        "[('name', 'Corfe Castle'), ('visitors', '190000')]\n",
                        "[('name', 'Aigai'), ('visitors', '186627')]\n",
                        "[('name', 'Ancient Corinth'), ('visitors', '153307')]\n",
                        "[('name', 'Mystras'), ('visitors', '145939')]\n",
                        "[('name', 'Phaistos'), ('visitors', '134538')]\n",
                        "[('name', 'Mystras'), ('visitors', '125549')]\n",
                        "[('name', 'Mystras'), ('visitors', '114293')]\n",
                        "[('name', 'Phaistos'), ('visitors', '95182')]\n",
                        "[('name', 'Tibes Indigenous Ceremonial Center'), ('visitors', '80000')]\n",
                        "[('name', 'Phaistos'), ('visitors', '77071')]\n",
                        "[('name', 'Pal\u00e9osite de Saint-C\u00e9saire'), ('visitors', '68000')]\n",
                        "[('name', 'Orford Castle'), ('visitors', '38818')]\n",
                        "[('name', 'Orford Castle'), ('visitors', '37890')]\n",
                        "[('name', 'Orford Castle'), ('visitors', '37049')]\n",
                        "[('name', 'Orford Castle'), ('visitors', '35620')]\n",
                        "[('name', 'Orford Castle'), ('visitors', '35552')]\n",
                        "[('name', 'Orford Castle'), ('visitors', '34866')]\n",
                        "[('name', 'Orford Castle'), ('visitors', '33803')]\n",
                        "[('name', 'Orford Castle'), ('visitors', '32890')]\n",
                        "[('name', 'Orford Castle'), ('visitors', '31276')]\n",
                        "[('name', 'Orford Castle'), ('visitors', '31047')]\n",
                        "[('name', 'Orford Castle'), ('visitors', '29974')]\n",
                        "[('name', 'Orford Castle'), ('visitors', '29745')]\n"
                    ]
                },
                {
                    "data": {
                        "text/plain": [
                            "50"
                        ]
                    },
                    "execution_count": 60,
                    "metadata": {},
                    "output_type": "execute_result"
                }
            ],
            "source": [
                "#if we had information about capacity for more sites, we could combine it with the number of visitors each year\n",
                "#and pick archaeological sites that each year don't see too many visitors\n",
                "q = f\"\"\"\n",
                "select ?name ?visitors where{{\n",
                "?site wdt:P31 wd:Q839954 ;\n",
                "    <http://schema.org/name> ?name ;\n",
                "    wdt:P1174 ?visitors .\n",
                "}}\n",
                "order by desc(?visitors)\n",
                "limit 50\n",
                "\"\"\"\n",
                "run_query(q)"
            ]
        },
        {
            "cell_type": "code",
            "execution_count": 61,
            "id": "37f767b7-fe78-4d2a-beec-6caf123eaa92",
            "metadata": {},
            "outputs": [
                {
                    "name": "stdout",
                    "output_type": "stream",
                    "text": [
                        "[('name', 'Colosseum'), ('max', '7400000')]\n",
                        "[('name', 'Independence National Historical Park'), ('max', '3572770')]\n",
                        "[('name', 'Tower of London'), ('max', '2741126')]\n",
                        "[('name', 'Knossos'), ('max', '855663')]\n",
                        "[('name', 'Mesa Verde National Park'), ('max', '557248')]\n",
                        "[('name', 'Mycenae'), ('max', '495993')]\n",
                        "[('name', 'Acropolis of Lindos'), ('max', '489137')]\n",
                        "[('name', 'Epidaurus'), ('max', '469060')]\n",
                        "[('name', 'Delphi'), ('max', '405947')]\n",
                        "[('name', 'Temple of Poseidon at cape Sounion'), ('max', '306665')]\n",
                        "[('name', 'Aigai'), ('max', '222503')]\n",
                        "[('name', 'Wupatki National Monument'), ('max', '216165')]\n",
                        "[('name', 'Ancient Corinth'), ('max', '196944')]\n",
                        "[('name', 'Corfe Castle'), ('max', '190000')]\n",
                        "[('name', 'Mystras'), ('max', '145939')]\n",
                        "[('name', 'Phaistos'), ('max', '134538')]\n",
                        "[('name', 'Tibes Indigenous Ceremonial Center'), ('max', '80000')]\n",
                        "[('name', 'Pal\u00e9osite de Saint-C\u00e9saire'), ('max', '68000')]\n",
                        "[('name', 'Orford Castle'), ('max', '38818')]\n",
                        "[('name', 'Amphoralis'), ('max', '13080')]\n",
                        "[('name', 'Crypt of Saint Martial'), ('max', '3900')]\n",
                        "[('name', 'mus\u00e9e gallo-romain de Claracq'), ('max', '2883')]\n"
                    ]
                },
                {
                    "data": {
                        "text/plain": [
                            "22"
                        ]
                    },
                    "execution_count": 61,
                    "metadata": {},
                    "output_type": "execute_result"
                }
            ],
            "source": [
                "#let's only pick 1 entry for visitors for each site\n",
                "q = f\"\"\"\n",
                "select ?name (max(?visitors) as ?max) where{{\n",
                "?site wdt:P31 wd:Q839954 ;\n",
                "    <http://schema.org/name> ?name ;\n",
                "    wdt:P1174 ?visitors .\n",
                "}}\n",
                "group by ?name\n",
                "order by desc(?max)\n",
                "limit 50\n",
                "\"\"\"\n",
                "run_query(q)"
            ]
        },
        {
            "cell_type": "code",
            "execution_count": 70,
            "id": "098f51f1-c415-4843-983b-cb2b72444e5c",
            "metadata": {},
            "outputs": [
                {
                    "name": "stdout",
                    "output_type": "stream",
                    "text": [
                        "[('countryName', 'Italy'), ('cultureName', 'Ancient Rome'), ('max', '378')]\n",
                        "[('countryName', 'Egypt'), ('cultureName', 'Ancient Egypt'), ('max', '125')]\n",
                        "[('countryName', 'Greece'), ('cultureName', 'Ancient Greece'), ('max', '94')]\n",
                        "[('countryName', 'Italy'), ('cultureName', 'nuragic civilization'), ('max', '74')]\n",
                        "[('countryName', 'Italy'), ('cultureName', 'Etruscans'), ('max', '70')]\n",
                        "[('countryName', 'Mexico'), ('cultureName', 'Maya civilization'), ('max', '43')]\n",
                        "[('countryName', 'United States of America'), ('cultureName', 'Ancient Pueblo Peoples'), ('max', '38')]\n",
                        "[('countryName', 'Greece'), ('cultureName', 'Minoan civilization'), ('max', '27')]\n",
                        "[('countryName', 'Italy'), ('cultureName', 'Samnites'), ('max', '15')]\n",
                        "[('countryName', 'Greece'), ('cultureName', 'Mycenaean Greece'), ('max', '14')]\n",
                        "[('countryName', 'Iraq'), ('cultureName', 'Sumer'), ('max', '12')]\n",
                        "[('countryName', 'Spain'), ('cultureName', 'history of the Roman Empire from 27 BCE to 395 AD'), ('max', '12')]\n",
                        "[('countryName', 'Mexico'), ('cultureName', 'Zapotec civilization'), ('max', '11')]\n",
                        "[('countryName', 'Cambodia'), ('cultureName', 'Khmer Empire'), ('max', '10')]\n",
                        "[('countryName', 'Germany'), ('cultureName', 'La T\u00e8ne culture'), ('max', '9')]\n",
                        "[('countryName', 'Italy'), ('cultureName', 'Sicels'), ('max', '9')]\n",
                        "[('countryName', 'Germany'), ('cultureName', 'Hallstatt culture'), ('max', '8')]\n",
                        "[('countryName', 'Peru'), ('cultureName', 'Inca civilization'), ('max', '8')]\n",
                        "[('countryName', 'United States of America'), ('cultureName', 'indigenous peoples of the United States'), ('max', '8')]\n",
                        "[('countryName', 'Peru'), ('cultureName', 'Inca Empire'), ('max', '7')]\n",
                        "[('countryName', 'Italy'), ('cultureName', 'Roman Empire'), ('max', '7')]\n",
                        "[('countryName', 'Turkey'), ('cultureName', 'Hittites'), ('max', '6')]\n",
                        "[('countryName', 'Italy'), ('cultureName', 'Latins'), ('max', '6')]\n",
                        "[('countryName', 'United States of America'), ('cultureName', 'Ohio Hopewell culture'), ('max', '6')]\n",
                        "[('countryName', 'Peru'), ('cultureName', 'Recuay culture'), ('max', '5')]\n",
                        "[('countryName', 'Italy'), ('cultureName', 'Sicani'), ('max', '5')]\n",
                        "[('countryName', 'Iraq'), ('cultureName', 'Assyrian Empire'), ('max', '4')]\n",
                        "[('countryName', 'Morocco'), ('cultureName', 'Berbers'), ('max', '4')]\n",
                        "[('countryName', 'Turkey'), ('cultureName', 'Byzantine Empire'), ('max', '4')]\n",
                        "[('countryName', 'Portugal'), ('cultureName', 'Chalcolithic'), ('max', '4')]\n",
                        "[('countryName', 'Peru'), ('cultureName', 'Chav\u00edn culture'), ('max', '4')]\n",
                        "[('countryName', 'Peru'), ('cultureName', 'Chim\u00fa culture'), ('max', '4')]\n",
                        "[('countryName', 'Greece'), ('cultureName', 'Cycladic civilization'), ('max', '4')]\n",
                        "[('countryName', 'Parthian Empire'), ('cultureName', 'Greater Iran'), ('max', '4')]\n",
                        "[('countryName', 'Italy'), ('cultureName', 'Greeks'), ('max', '4')]\n",
                        "[('countryName', 'Argentina'), ('cultureName', 'Guaran\u00ed people'), ('max', '4')]\n",
                        "[('countryName', 'Italy'), ('cultureName', 'Iapyges'), ('max', '4')]\n",
                        "[('countryName', 'United States of America'), ('cultureName', 'Mississippian culture'), ('max', '4')]\n",
                        "[('countryName', 'Peru'), ('cultureName', 'Moche culture'), ('max', '4')]\n",
                        "[('countryName', 'Israel'), ('cultureName', 'Nabataeans'), ('max', '4')]\n",
                        "[('countryName', 'Italy'), ('cultureName', 'Osci'), ('max', '4')]\n",
                        "[('countryName', 'Iraq'), ('cultureName', 'Sumerians'), ('max', '4')]\n",
                        "[('countryName', 'Peru'), ('cultureName', 'Wari'), ('max', '4')]\n",
                        "[('countryName', 'United States of America'), ('cultureName', 'Woodland period'), ('max', '4')]\n",
                        "[('countryName', 'United States of America'), ('cultureName', 'indigenous peoples of North America'), ('max', '4')]\n",
                        "[('countryName', 'Italy'), ('cultureName', 'Adriatic Veneti'), ('max', '3')]\n",
                        "[('countryName', 'France'), ('cultureName', 'Ancient Celts'), ('max', '3')]\n",
                        "[('countryName', 'Germany'), ('cultureName', 'Ancient Celts'), ('max', '3')]\n",
                        "[('countryName', 'Mexico'), ('cultureName', 'Aztec'), ('max', '3')]\n",
                        "[('countryName', 'Israel'), ('cultureName', 'Bronze Age'), ('max', '3')]\n"
                    ]
                },
                {
                    "data": {
                        "text/plain": [
                            "50"
                        ]
                    },
                    "execution_count": 70,
                    "metadata": {},
                    "output_type": "execute_result"
                }
            ],
            "source": [
                "#let's find the \"best\" country for each culture, meaning the country with most sites for each culture\n",
                "\n",
                "#count number of sites for each culture in each country\n",
                "q1 = f\"\"\"\n",
                "select ?country ?culture (count(?site) as ?n) where{{\n",
                "?site wdt:P31 wd:Q839954 ;\n",
                "    wdt:P17 ?country ;\n",
                "    wdt:P2596 ?culture .\n",
                "}}\n",
                "group by ?country ?culture\n",
                "\"\"\"\n",
                "\n",
                "q2 = f\"\"\"\n",
                "select ?country2 ?culture2 (count(?site) as ?n2) where{{\n",
                "?site wdt:P31 wd:Q839954 ;\n",
                "    wdt:P17 ?country2 ;\n",
                "    wdt:P2596 ?culture2 .\n",
                "}}\n",
                "group by ?country2 ?culture2\n",
                "\"\"\"\n",
                "\n",
                "#select max number of sites in a certain country for a culture\n",
                "q3 = f\"\"\"\n",
                "select ?culture2 (max(?n2) as ?max) where{{\n",
                "    \n",
                "    {{\n",
                "        select ?country2 ?culture2 (count(?site) as ?n2) where{{\n",
                "?site wdt:P31 wd:Q839954 ;\n",
                "    wdt:P17 ?country2 ;\n",
                "    wdt:P2596 ?culture2 .\n",
                "}}\n",
                "group by ?country2 ?culture2\n",
                "    }}\n",
                "    \n",
                "}}\n",
                "group by ?culture2\n",
                "\"\"\"\n",
                "\n",
                "#put it all together\n",
                "q = f\"\"\"\n",
                "select ?countryName ?cultureName ?max where{{\n",
                "\n",
                "?country <http://schema.org/name> ?countryName .\n",
                "?culture <http://schema.org/name> ?cultureName .\n",
                "\n",
                "    {{\n",
                "        select ?country ?culture (count(?site) as ?n) where{{\n",
                "?site wdt:P31 wd:Q839954 ;\n",
                "    wdt:P17 ?country ;\n",
                "    wdt:P2596 ?culture .\n",
                "}}\n",
                "group by ?country ?culture\n",
                "    }}\n",
                "    \n",
                "    {{\n",
                "        select ?culture2 (max(?n2) as ?max) where{{\n",
                "    \n",
                "    {{\n",
                "        select ?country2 ?culture2 (count(?site) as ?n2) where{{\n",
                "?site wdt:P31 wd:Q839954 ;\n",
                "    wdt:P17 ?country2 ;\n",
                "    wdt:P2596 ?culture2 .\n",
                "}}\n",
                "group by ?country2 ?culture2\n",
                "    }}\n",
                "    \n",
                "}}\n",
                "group by ?culture2\n",
                "    }}\n",
                "\n",
                "filter(?culture = ?culture2 && ?n = ?max)\n",
                "\n",
                "}}\n",
                "order by desc(?max) asc(?cultureName)\n",
                "limit 50\n",
                "\"\"\"\n",
                "run_query(q)"
            ]
        }
    ],
    "metadata": {
        "kernelspec": {
            "display_name": "Python 3",
            "language": "python",
            "name": "python3"
        },
        "language_info": {
            "codemirror_mode": {
                "name": "ipython",
                "version": 3
            },
            "file_extension": ".py",
            "mimetype": "text/x-python",
            "name": "python",
            "nbconvert_exporter": "python",
            "pygments_lexer": "ipython3",
            "version": "3.7.10"
        }
    },
    "nbformat": 4,
    "nbformat_minor": 5
}