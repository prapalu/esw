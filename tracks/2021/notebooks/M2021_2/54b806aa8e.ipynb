{
    "cells": [
        {
            "cell_type": "markdown",
            "id": "7034c3bf-6eb0-4418-8687-7b9d2a501103",
            "metadata": {},
            "source": [
                "# General instructions\n",
                "\n",
                "The goal of the project is to materialize a set of **exploratory workloads** over a real-world, large-scale,  open-domain KG: [WikiData](https://www.wikidata.org/wiki/Wikidata:Main_Page)\n",
                "\n",
                "An exploratory workload  is composed by a set of queries, where each query is related to the information obtained previously.\n",
                "\n",
                "An exploratory workload starts with a usually vague, open ended question, and does not assume the person issuing the workload has a clear understanding of the data contained in the target database or its structure.\n",
                "\n",
                "Remeber that:\n",
                "\n",
                "1. All the queries must run in the python notebook\n",
                "2. You can use classes and properties only if you find them via a SPARQL query that must be present in the notebook\n",
                "3. You do not delete useless queries. Keep everything that is synthatically valid \n",
                "\n",
                "```\n",
                "?p <http://schema.org/name> ?name .\n",
                "```\n",
                "    \n",
                "is the BGP returning a human-readable name of a property or a class in Wikidata.\n",
                "    \n",
                "    "
            ]
        },
        {
            "cell_type": "code",
            "execution_count": 1,
            "id": "3605c9d5-5371-49a5-be8d-d66e8f417139",
            "metadata": {},
            "outputs": [],
            "source": [
                "## SETUP used later\n",
                "\n",
                "from SPARQLWrapper import SPARQLWrapper, JSON\n",
                "\n",
                "\n",
                "prefixString = \"\"\"\n",
                "##-54b806aa8e-##\n",
                "PREFIX wd: <http://www.wikidata.org/entity/> \n",
                "PREFIX wdt: <http://www.wikidata.org/prop/direct/> \n",
                "PREFIX sc: <http://schema.org/>\n",
                "\"\"\"\n",
                "\n",
                "# select and construct queries\n",
                "def run_query(queryString):\n",
                "    to_run = prefixString + \"\\n\" + queryString\n",
                "\n",
                "    sparql = SPARQLWrapper(\"http://a256-gc1-02.srv.aau.dk:5820/sparql\")\n",
                "    sparql.setTimeout(300)\n",
                "    sparql.setReturnFormat(JSON)\n",
                "    sparql.setQuery(to_run)\n",
                "\n",
                "    try :\n",
                "       results = sparql.query()\n",
                "       json_results = results.convert()\n",
                "       if len(json_results['results']['bindings'])==0:\n",
                "          print(\"Empty\")\n",
                "          return 0\n",
                "    \n",
                "       for bindings in json_results['results']['bindings']:\n",
                "          print( [ (var, value['value'])  for var, value in bindings.items() ] )\n",
                "\n",
                "       return len(json_results['results']['bindings'])\n",
                "\n",
                "    except Exception as e :\n",
                "        print(\"The operation failed\", e)\n",
                "    \n",
                "# ASk queries\n",
                "def run_ask_query(queryString):\n",
                "    to_run = prefixString + \"\\n\" + queryString\n",
                "\n",
                "    sparql = SPARQLWrapper(\"http://a256-gc1-02.srv.aau.dk:5820/sparql\")\n",
                "    #sparql = SPARQLWrapper(\"http://a256-gc1-03.srv.aau.dk:5820/sparql\")\n",
                "    sparql.setTimeout(300)\n",
                "    sparql.setReturnFormat(JSON)\n",
                "    sparql.setQuery(to_run)\n",
                "\n",
                "    try :\n",
                "        return sparql.query().convert()\n",
                "\n",
                "    except Exception as e :\n",
                "        print(\"The operation failed\", e)\n"
            ]
        },
        {
            "cell_type": "markdown",
            "id": "d477a59c-a68c-4c8f-9f97-8ca5294d7d27",
            "metadata": {},
            "source": [
                "# Politics Workflow Series (\"Presidents of countries\") \n",
                "\n",
                "Consider the following exploratory information need:\n",
                "\n",
                "> You investigating presidents of the republic, or similar roles, across international states around the world"
            ]
        },
        {
            "cell_type": "markdown",
            "id": "4a45c0ba-f79e-441d-bec5-84401b09db70",
            "metadata": {},
            "source": [
                "## Useful URIs for the current workflow\n",
                "\n",
                "\n",
                "The following are given:\n",
                "\n",
                "| IRI           | Description   | Role      |\n",
                "| -----------   | -----------   |-----------|\n",
                "| `wdt:P1647`   | subproperty   | predicate |\n",
                "| `wdt:P31`     | instance of   | predicate |\n",
                "| `wdt:P279`    | subclass      | predicate |\n",
                "| `wdt:P17`     | country       | predicate |\n",
                "| `wdt:P27`     | citizenship   | predicate |\n",
                "| `wdt:P39`     | position held   | predicate |\n",
                "| `wd:Q248577`  | President of the republic | node      |\n",
                "| `wd:Q11696`   | President of U.S.A.      | node      |\n",
                "| `wd:Q332711`  | President of Italy        | node |\n",
                "| `wd:Q38`      | Italy          | node |\n",
                "| `wd:Q30`      | U.S.A.        | node |\n",
                "\n",
                "\n",
                "\n",
                "Also consider\n",
                "\n",
                "```\n",
                "?p wdt:P39/wdt:P279* wd:Q248577  .  \n",
                "```\n",
                "\n",
                "is the BGP to retrieve all **presidents of the world countries through history**"
            ]
        },
        {
            "cell_type": "markdown",
            "id": "7af439fb-96e4-4dbb-a381-f19afab79f86",
            "metadata": {
                "tags": []
            },
            "source": [
                "## Workload Goals\n",
                "\n",
                "1. Identify the BGP for obtaining important attributes for people, e.g., date of birth/death, gender, profession \n",
                "\n",
                "2. Identify the BGP to retrieve countries with  had at least once had a president\n",
                "\n",
                "3. When was the first president of each country born? How many presidents each country had?\n",
                "\n",
                "4. Is there a country that had at some point a woman as a president?\n",
                "\n",
                "5. Analyze the number of presidents per country through time\n",
                " \n",
                "   5.1 What are the top-5 countries for number of presidents? Which countries had the least?\n",
                "   \n",
                "   5.2 For how many presidents we know a date of death in each country?\n",
                "   \n",
                "   5.3 Which are the professions of different presidents? How many presidents had a specific profession?\n"
            ]
        },
        {
            "cell_type": "code",
            "execution_count": 3,
            "id": "2a6af9f2-6746-4c58-896e-c7add0b4859b",
            "metadata": {},
            "outputs": [
                {
                    "name": "stdout",
                    "output_type": "stream",
                    "text": [
                        "[('name', 'President of the United States')]\n"
                    ]
                },
                {
                    "data": {
                        "text/plain": [
                            "1"
                        ]
                    },
                    "execution_count": 3,
                    "metadata": {},
                    "output_type": "execute_result"
                }
            ],
            "source": [
                "q = f\"\"\"\n",
                "select distinct ?name where{{\n",
                "wd:Q11696 <http://schema.org/name> ?name\n",
                "}}\n",
                "\"\"\"\n",
                "run_query(q)"
            ]
        },
        {
            "cell_type": "code",
            "execution_count": 4,
            "id": "ade01416-92e7-4ad7-b9a9-b8fb330750dc",
            "metadata": {},
            "outputs": [
                {
                    "name": "stdout",
                    "output_type": "stream",
                    "text": [
                        "[('class', 'http://www.wikidata.org/entity/Q1114461'), ('name', 'comics character')]\n",
                        "[('class', 'http://www.wikidata.org/entity/Q1307329'), ('name', 'extraterrestrials in fiction')]\n",
                        "[('class', 'http://www.wikidata.org/entity/Q18327510'), ('name', 'fictional robot')]\n",
                        "[('class', 'http://www.wikidata.org/entity/Q95074'), ('name', 'fictional character')]\n",
                        "[('class', 'http://www.wikidata.org/entity/Q15632617'), ('name', 'fictional human')]\n",
                        "[('class', 'http://www.wikidata.org/entity/Q15711870'), ('name', 'animated character')]\n",
                        "[('class', 'http://www.wikidata.org/entity/Q15773317'), ('name', 'television character')]\n",
                        "[('class', 'http://www.wikidata.org/entity/Q15773347'), ('name', 'film character')]\n",
                        "[('class', 'http://www.wikidata.org/entity/Q3658341'), ('name', 'literary character')]\n",
                        "[('class', 'http://www.wikidata.org/entity/Q5'), ('name', 'human')]\n",
                        "[('class', 'http://www.wikidata.org/entity/Q3716522'), ('name', 'Durlan')]\n"
                    ]
                },
                {
                    "data": {
                        "text/plain": [
                            "11"
                        ]
                    },
                    "execution_count": 4,
                    "metadata": {},
                    "output_type": "execute_result"
                }
            ],
            "source": [
                "#first of all, i want to find the identifier for the class \"Person\" or \"Human\" or the equivalent\n",
                "#I'm going to try to find a president of the USA, then try and see which class(es) he belongs to\n",
                "\n",
                "q = f\"\"\"\n",
                "select distinct ?class ?name where{{\n",
                "?person wdt:P39 wd:Q11696 ;\n",
                "    wdt:P31 ?class .\n",
                "    \n",
                "?class <http://schema.org/name> ?name\n",
                "}}\n",
                "limit 100\n",
                "\"\"\"\n",
                "run_query(q)"
            ]
        },
        {
            "cell_type": "code",
            "execution_count": 6,
            "id": "a91d0379-24a1-4e98-a457-c905ffcfc402",
            "metadata": {},
            "outputs": [
                {
                    "name": "stdout",
                    "output_type": "stream",
                    "text": [
                        "[('p', 'http://www.wikidata.org/prop/direct/P9271'), ('name', 'Kickstarter username')]\n",
                        "[('p', 'http://www.wikidata.org/prop/direct/P2380'), ('name', 'French Sculpture Census artist ID')]\n",
                        "[('p', 'http://www.wikidata.org/prop/direct/P3928'), ('name', 'MotoGP racer ID')]\n",
                        "[('p', 'http://www.wikidata.org/prop/direct/P4421'), ('name', 'Sportbox.ru ID')]\n",
                        "[('p', 'http://www.wikidata.org/prop/direct/P4015'), ('name', 'Vimeo identifier')]\n",
                        "[('p', 'http://www.wikidata.org/prop/direct/P2985'), ('name', 'DBSE ID')]\n",
                        "[('p', 'http://www.wikidata.org/prop/direct/P9053'), ('name', 'Projecto Vercial author ID')]\n",
                        "[('p', 'http://www.wikidata.org/prop/direct/P1005'), ('name', 'Portuguese National Library ID')]\n",
                        "[('p', 'http://www.wikidata.org/prop/direct/P1006'), ('name', 'Nationale Thesaurus voor Auteurs ID')]\n",
                        "[('p', 'http://www.wikidata.org/prop/direct/P101'), ('name', 'field of work')]\n",
                        "[('p', 'http://www.wikidata.org/prop/direct/P1015'), ('name', 'NORAF ID')]\n",
                        "[('p', 'http://www.wikidata.org/prop/direct/P1017'), ('name', 'Vatican Library ID (former scheme)')]\n",
                        "[('p', 'http://www.wikidata.org/prop/direct/P102'), ('name', 'member of political party')]\n",
                        "[('p', 'http://www.wikidata.org/prop/direct/P103'), ('name', 'native language')]\n",
                        "[('p', 'http://www.wikidata.org/prop/direct/P1038'), ('name', 'relative')]\n",
                        "[('p', 'http://www.wikidata.org/prop/direct/P106'), ('name', 'occupation')]\n",
                        "[('p', 'http://www.wikidata.org/prop/direct/P1066'), ('name', 'student of')]\n",
                        "[('p', 'http://www.wikidata.org/prop/direct/P108'), ('name', 'employer')]\n",
                        "[('p', 'http://www.wikidata.org/prop/direct/P109'), ('name', 'signature')]\n",
                        "[('p', 'http://www.wikidata.org/prop/direct/P118'), ('name', 'league')]\n",
                        "[('p', 'http://www.wikidata.org/prop/direct/P119'), ('name', 'place of burial')]\n",
                        "[('p', 'http://www.wikidata.org/prop/direct/P1196'), ('name', 'manner of death')]\n",
                        "[('p', 'http://www.wikidata.org/prop/direct/P1207'), ('name', 'NUKAT ID')]\n",
                        "[('p', 'http://www.wikidata.org/prop/direct/P1220'), ('name', 'Internet Broadway Database person ID')]\n",
                        "[('p', 'http://www.wikidata.org/prop/direct/P1225'), ('name', 'U.S. National Archives Identifier')]\n",
                        "[('p', 'http://www.wikidata.org/prop/direct/P1248'), ('name', 'KulturNav-ID')]\n",
                        "[('p', 'http://www.wikidata.org/prop/direct/P1258'), ('name', 'Rotten Tomatoes ID')]\n",
                        "[('p', 'http://www.wikidata.org/prop/direct/P1263'), ('name', 'NNDB people ID')]\n",
                        "[('p', 'http://www.wikidata.org/prop/direct/P1266'), ('name', 'AlloCin\u00e9 person ID')]\n",
                        "[('p', 'http://www.wikidata.org/prop/direct/P1273'), ('name', 'CANTIC ID')]\n",
                        "[('p', 'http://www.wikidata.org/prop/direct/P1280'), ('name', 'CONOR.SI ID')]\n",
                        "[('p', 'http://www.wikidata.org/prop/direct/P1284'), ('name', 'Munzinger person ID')]\n",
                        "[('p', 'http://www.wikidata.org/prop/direct/P1296'), ('name', 'Gran Enciclop\u00e8dia Catalana ID')]\n",
                        "[('p', 'http://www.wikidata.org/prop/direct/P1303'), ('name', 'instrument')]\n",
                        "[('p', 'http://www.wikidata.org/prop/direct/P1309'), ('name', 'EGAXA ID')]\n",
                        "[('p', 'http://www.wikidata.org/prop/direct/P1315'), ('name', 'NLA Trove ID')]\n",
                        "[('p', 'http://www.wikidata.org/prop/direct/P1340'), ('name', 'eye color')]\n",
                        "[('p', 'http://www.wikidata.org/prop/direct/P1343'), ('name', 'described by source')]\n",
                        "[('p', 'http://www.wikidata.org/prop/direct/P1344'), ('name', 'participant in')]\n",
                        "[('p', 'http://www.wikidata.org/prop/direct/P135'), ('name', 'movement')]\n",
                        "[('p', 'http://www.wikidata.org/prop/direct/P136'), ('name', 'genre')]\n",
                        "[('p', 'http://www.wikidata.org/prop/direct/P1367'), ('name', 'Art UK artist ID')]\n",
                        "[('p', 'http://www.wikidata.org/prop/direct/P1368'), ('name', 'LNB ID')]\n",
                        "[('p', 'http://www.wikidata.org/prop/direct/P140'), ('name', 'religion')]\n",
                        "[('p', 'http://www.wikidata.org/prop/direct/P1412'), ('name', 'languages spoken, written or signed')]\n",
                        "[('p', 'http://www.wikidata.org/prop/direct/P1415'), ('name', 'Oxford Dictionary of National Biography ID')]\n",
                        "[('p', 'http://www.wikidata.org/prop/direct/P1417'), ('name', 'Encyclop\u00e6dia Britannica Online ID')]\n",
                        "[('p', 'http://www.wikidata.org/prop/direct/P1422'), ('name', 'Sandrart.net person ID')]\n",
                        "[('p', 'http://www.wikidata.org/prop/direct/P1442'), ('name', 'image of grave')]\n",
                        "[('p', 'http://www.wikidata.org/prop/direct/P1472'), ('name', 'Commons Creator page')]\n",
                        "[('p', 'http://www.wikidata.org/prop/direct/P1477'), ('name', 'birth name')]\n",
                        "[('p', 'http://www.wikidata.org/prop/direct/P1532'), ('name', 'country for sport')]\n",
                        "[('p', 'http://www.wikidata.org/prop/direct/P1553'), ('name', 'Yandex Music artist ID')]\n",
                        "[('p', 'http://www.wikidata.org/prop/direct/P1559'), ('name', 'name in native language')]\n",
                        "[('p', 'http://www.wikidata.org/prop/direct/P1580'), ('name', 'University of Barcelona authority ID')]\n",
                        "[('p', 'http://www.wikidata.org/prop/direct/P1607'), ('name', 'Dialnet author ID')]\n",
                        "[('p', 'http://www.wikidata.org/prop/direct/P1636'), ('name', 'date of baptism in early childhood')]\n",
                        "[('p', 'http://www.wikidata.org/prop/direct/P166'), ('name', 'award received')]\n",
                        "[('p', 'http://www.wikidata.org/prop/direct/P1695'), ('name', 'NLP ID (unique)')]\n",
                        "[('p', 'http://www.wikidata.org/prop/direct/P1711'), ('name', 'British Museum person or institution ID')]\n",
                        "[('p', 'http://www.wikidata.org/prop/direct/P1712'), ('name', 'Metacritic ID')]\n",
                        "[('p', 'http://www.wikidata.org/prop/direct/P172'), ('name', 'ethnic group')]\n",
                        "[('p', 'http://www.wikidata.org/prop/direct/P1728'), ('name', 'AllMusic artist ID')]\n",
                        "[('p', 'http://www.wikidata.org/prop/direct/P18'), ('name', 'image')]\n",
                        "[('p', 'http://www.wikidata.org/prop/direct/P1807'), ('name', 'Great Aragonese Encyclopedia ID')]\n",
                        "[('p', 'http://www.wikidata.org/prop/direct/P1814'), ('name', 'name in kana')]\n",
                        "[('p', 'http://www.wikidata.org/prop/direct/P1816'), ('name', 'National Portrait Gallery (London) person ID')]\n",
                        "[('p', 'http://www.wikidata.org/prop/direct/P1819'), ('name', 'genealogics.org person ID')]\n",
                        "[('p', 'http://www.wikidata.org/prop/direct/P1830'), ('name', 'owner of')]\n",
                        "[('p', 'http://www.wikidata.org/prop/direct/P185'), ('name', 'doctoral student')]\n",
                        "[('p', 'http://www.wikidata.org/prop/direct/P1871'), ('name', 'CERL Thesaurus ID')]\n",
                        "[('p', 'http://www.wikidata.org/prop/direct/P1882'), ('name', 'Web Gallery of Art ID')]\n",
                        "[('p', 'http://www.wikidata.org/prop/direct/P1884'), ('name', 'hair color')]\n",
                        "[('p', 'http://www.wikidata.org/prop/direct/P1889'), ('name', 'different from')]\n",
                        "[('p', 'http://www.wikidata.org/prop/direct/P1899'), ('name', 'LibriVox author ID')]\n",
                        "[('p', 'http://www.wikidata.org/prop/direct/P19'), ('name', 'place of birth')]\n",
                        "[('p', 'http://www.wikidata.org/prop/direct/P1902'), ('name', 'Spotify artist ID')]\n",
                        "[('p', 'http://www.wikidata.org/prop/direct/P1950'), ('name', 'second family name in Spanish name')]\n",
                        "[('p', 'http://www.wikidata.org/prop/direct/P1953'), ('name', 'Discogs artist ID')]\n",
                        "[('p', 'http://www.wikidata.org/prop/direct/P1971'), ('name', 'number of children')]\n",
                        "[('p', 'http://www.wikidata.org/prop/direct/P1977'), ('name', 'Les Archives du Spectacle Person ID')]\n",
                        "[('p', 'http://www.wikidata.org/prop/direct/P1988'), ('name', 'Le Delarge ID')]\n",
                        "[('p', 'http://www.wikidata.org/prop/direct/P20'), ('name', 'place of death')]\n",
                        "[('p', 'http://www.wikidata.org/prop/direct/P2000'), ('name', 'CPDL ID')]\n",
                        "[('p', 'http://www.wikidata.org/prop/direct/P2002'), ('name', 'Twitter username')]\n",
                        "[('p', 'http://www.wikidata.org/prop/direct/P2003'), ('name', 'Instagram username')]\n",
                        "[('p', 'http://www.wikidata.org/prop/direct/P2013'), ('name', 'Facebook ID')]\n",
                        "[('p', 'http://www.wikidata.org/prop/direct/P2019'), ('name', 'AllMovie person ID')]\n",
                        "[('p', 'http://www.wikidata.org/prop/direct/P2020'), ('name', 'WorldFootball.net player ID')]\n",
                        "[('p', 'http://www.wikidata.org/prop/direct/P2031'), ('name', 'work period (start)')]\n",
                        "[('p', 'http://www.wikidata.org/prop/direct/P2032'), ('name', 'work period (end)')]\n",
                        "[('p', 'http://www.wikidata.org/prop/direct/P2041'), ('name', 'National Gallery of Victoria artist ID')]\n",
                        "[('p', 'http://www.wikidata.org/prop/direct/P2042'), ('name', 'Artsy artist ID')]\n",
                        "[('p', 'http://www.wikidata.org/prop/direct/P2048'), ('name', 'height')]\n",
                        "[('p', 'http://www.wikidata.org/prop/direct/P2067'), ('name', 'mass')]\n",
                        "[('p', 'http://www.wikidata.org/prop/direct/P21'), ('name', 'sex or gender')]\n",
                        "[('p', 'http://www.wikidata.org/prop/direct/P213'), ('name', 'ISNI')]\n",
                        "[('p', 'http://www.wikidata.org/prop/direct/P214'), ('name', 'VIAF ID')]\n",
                        "[('p', 'http://www.wikidata.org/prop/direct/P2163'), ('name', 'FAST ID')]\n",
                        "[('p', 'http://www.wikidata.org/prop/direct/P2168'), ('name', 'Swedish Film Database person ID')]\n"
                    ]
                },
                {
                    "data": {
                        "text/plain": [
                            "100"
                        ]
                    },
                    "execution_count": 6,
                    "metadata": {},
                    "output_type": "execute_result"
                }
            ],
            "source": [
                "#let's retrieve properties for humans\n",
                "q = f\"\"\"\n",
                "select distinct ?p ?name where{{\n",
                "?sub wdt:P31 wd:Q5 ;\n",
                "    ?p ?object .\n",
                "    \n",
                "?p <http://schema.org/name> ?name\n",
                "}}\n",
                "limit 100\n",
                "\"\"\"\n",
                "\n",
                "run_query(q)"
            ]
        },
        {
            "cell_type": "code",
            "execution_count": 8,
            "id": "79554ef5-5b5a-4522-bfe1-8025205df735",
            "metadata": {},
            "outputs": [
                {
                    "name": "stdout",
                    "output_type": "stream",
                    "text": [
                        "[('p', 'http://www.wikidata.org/prop/direct/P1196'), ('name', 'manner of death')]\n",
                        "[('p', 'http://www.wikidata.org/prop/direct/P1477'), ('name', 'birth name')]\n",
                        "[('p', 'http://www.wikidata.org/prop/direct/P19'), ('name', 'place of birth')]\n",
                        "[('p', 'http://www.wikidata.org/prop/direct/P1971'), ('name', 'number of children')]\n",
                        "[('p', 'http://www.wikidata.org/prop/direct/P20'), ('name', 'place of death')]\n",
                        "[('p', 'http://www.wikidata.org/prop/direct/P2048'), ('name', 'height')]\n",
                        "[('p', 'http://www.wikidata.org/prop/direct/P21'), ('name', 'sex or gender')]\n",
                        "[('p', 'http://www.wikidata.org/prop/direct/P40'), ('name', 'child')]\n",
                        "[('p', 'http://www.wikidata.org/prop/direct/P509'), ('name', 'cause of death')]\n",
                        "[('p', 'http://www.wikidata.org/prop/direct/P569'), ('name', 'date of birth')]\n",
                        "[('p', 'http://www.wikidata.org/prop/direct/P570'), ('name', 'date of death')]\n"
                    ]
                },
                {
                    "data": {
                        "text/plain": [
                            "11"
                        ]
                    },
                    "execution_count": 8,
                    "metadata": {},
                    "output_type": "execute_result"
                }
            ],
            "source": [
                "#let's restrict the search of properties only to presidendts of the united states\n",
                "q = f\"\"\"\n",
                "select distinct ?p ?name where{{\n",
                "?person wdt:P39 wd:Q11696 ;\n",
                "    wdt:P31 wd:Q5;\n",
                "    ?p ?object .\n",
                "    \n",
                "?p <http://schema.org/name> ?name .\n",
                "\n",
                "filter regex(?name, '.*(death|birth|profession|gender|height|weight|child).*', 'i')\n",
                "}}\n",
                "limit 100\n",
                "\"\"\"\n",
                "run_query(q)"
            ]
        },
        {
            "cell_type": "code",
            "execution_count": 10,
            "id": "071d30ea-a342-4d6f-a4a4-5c3e0cee944b",
            "metadata": {},
            "outputs": [
                {
                    "name": "stdout",
                    "output_type": "stream",
                    "text": [
                        "[('super', 'http://www.wikidata.org/entity/Q2285706'), ('name', 'head of government')]\n",
                        "[('super', 'http://www.wikidata.org/entity/Q248577'), ('name', 'President of the Republic')]\n",
                        "[('super', 'http://www.wikidata.org/entity/Q48352'), ('name', 'head of state')]\n"
                    ]
                },
                {
                    "data": {
                        "text/plain": [
                            "3"
                        ]
                    },
                    "execution_count": 10,
                    "metadata": {},
                    "output_type": "execute_result"
                }
            ],
            "source": [
                "#let's see if the various types of presidents have a superclass \"President\"\n",
                "q = f\"\"\"\n",
                "select distinct ?super ?name where{{\n",
                "wd:Q11696 wdt:P279 ?super .\n",
                "?super <http://schema.org/name> ?name\n",
                "}}\n",
                "\"\"\"\n",
                "run_query(q)"
            ]
        },
        {
            "cell_type": "code",
            "execution_count": 11,
            "id": "9efd6e42-e614-45bb-8d5e-48663c66c10c",
            "metadata": {},
            "outputs": [
                {
                    "name": "stdout",
                    "output_type": "stream",
                    "text": [
                        "[('super', 'http://www.wikidata.org/entity/Q30461'), ('name', 'president')]\n",
                        "[('super', 'http://www.wikidata.org/entity/Q48352'), ('name', 'head of state')]\n"
                    ]
                },
                {
                    "data": {
                        "text/plain": [
                            "2"
                        ]
                    },
                    "execution_count": 11,
                    "metadata": {},
                    "output_type": "execute_result"
                }
            ],
            "source": [
                "#let's see if \"President of the Republic\" has a superclass as well\n",
                "q = f\"\"\"\n",
                "select distinct ?super ?name where{{\n",
                "wd:Q248577 wdt:P279 ?super .\n",
                "?super <http://schema.org/name> ?name\n",
                "}}\n",
                "\"\"\"\n",
                "run_query(q)"
            ]
        },
        {
            "cell_type": "code",
            "execution_count": 13,
            "id": "6be2923e-46de-4fa0-b201-559a5469922e",
            "metadata": {},
            "outputs": [
                {
                    "name": "stdout",
                    "output_type": "stream",
                    "text": [
                        "[('country', 'http://www.wikidata.org/entity/Q30'), ('name', 'United States of America')]\n"
                    ]
                },
                {
                    "data": {
                        "text/plain": [
                            "1"
                        ]
                    },
                    "execution_count": 13,
                    "metadata": {},
                    "output_type": "execute_result"
                }
            ],
            "source": [
                "#2. Identify the BGP to retrieve countries with  had at least once had a president\n",
                "\n",
                "#let's find out if \"President of the usa\" has the usa as a country connected via the \"country\" property\n",
                "#also let's do it for Italy\n",
                "\n",
                "q = f\"\"\"\n",
                "select distinct ?country ?name where{{\n",
                "wd:Q11696 wdt:P17 ?country .\n",
                "?country <http://schema.org/name> ?name\n",
                "}}\n",
                "\"\"\"\n",
                "run_query(q)"
            ]
        },
        {
            "cell_type": "code",
            "execution_count": 14,
            "id": "0f9847b2-e071-4115-9b9a-527345466292",
            "metadata": {},
            "outputs": [
                {
                    "name": "stdout",
                    "output_type": "stream",
                    "text": [
                        "[('country', 'http://www.wikidata.org/entity/Q38'), ('name', 'Italy')]\n"
                    ]
                },
                {
                    "data": {
                        "text/plain": [
                            "1"
                        ]
                    },
                    "execution_count": 14,
                    "metadata": {},
                    "output_type": "execute_result"
                }
            ],
            "source": [
                "q = f\"\"\"\n",
                "select distinct ?country ?name where{{\n",
                "wd:Q332711 wdt:P17 ?country .\n",
                "?country <http://schema.org/name> ?name\n",
                "}}\n",
                "\"\"\"\n",
                "run_query(q)"
            ]
        },
        {
            "cell_type": "code",
            "execution_count": 15,
            "id": "da6a1e6b-ad01-42a1-aa94-1b929524bad3",
            "metadata": {},
            "outputs": [
                {
                    "name": "stdout",
                    "output_type": "stream",
                    "text": [
                        "Empty\n"
                    ]
                },
                {
                    "data": {
                        "text/plain": [
                            "0"
                        ]
                    },
                    "execution_count": 15,
                    "metadata": {},
                    "output_type": "execute_result"
                }
            ],
            "source": [
                "#finally let's see if the superclass \"President\" has countries connected to it\n",
                "q = f\"\"\"\n",
                "select distinct ?country ?name where{{\n",
                "wd:Q30461 wdt:P17 ?country .\n",
                "?country <http://schema.org/name> ?name\n",
                "}}\n",
                "\"\"\"\n",
                "run_query(q)"
            ]
        },
        {
            "cell_type": "code",
            "execution_count": 16,
            "id": "e3375cef-b4f9-4620-8823-fc9bef32dcb3",
            "metadata": {},
            "outputs": [
                {
                    "name": "stdout",
                    "output_type": "stream",
                    "text": [
                        "Empty\n"
                    ]
                },
                {
                    "data": {
                        "text/plain": [
                            "0"
                        ]
                    },
                    "execution_count": 16,
                    "metadata": {},
                    "output_type": "execute_result"
                }
            ],
            "source": [
                "#let's see if President of the Republic has countries connected to it\n",
                "q = f\"\"\"\n",
                "select distinct ?country ?name where{{\n",
                "wd:Q248577 wdt:P17 ?country .\n",
                "?country <http://schema.org/name> ?name\n",
                "}}\n",
                "\"\"\"\n",
                "run_query(q)"
            ]
        },
        {
            "cell_type": "code",
            "execution_count": 17,
            "id": "e5fff7f1-3dad-4a52-9630-ef83d6741ae9",
            "metadata": {},
            "outputs": [
                {
                    "name": "stdout",
                    "output_type": "stream",
                    "text": [
                        "[('country', 'http://www.wikidata.org/entity/Q889'), ('name', 'Afghanistan')]\n",
                        "[('country', 'http://www.wikidata.org/entity/Q222'), ('name', 'Albania')]\n",
                        "[('country', 'http://www.wikidata.org/entity/Q262'), ('name', 'Algeria')]\n",
                        "[('country', 'http://www.wikidata.org/entity/Q916'), ('name', 'Angola')]\n",
                        "[('country', 'http://www.wikidata.org/entity/Q414'), ('name', 'Argentina')]\n",
                        "[('country', 'http://www.wikidata.org/entity/Q399'), ('name', 'Armenia')]\n",
                        "[('country', 'http://www.wikidata.org/entity/Q40'), ('name', 'Austria')]\n",
                        "[('country', 'http://www.wikidata.org/entity/Q227'), ('name', 'Azerbaijan')]\n",
                        "[('country', 'http://www.wikidata.org/entity/Q902'), ('name', 'Bangladesh')]\n",
                        "[('country', 'http://www.wikidata.org/entity/Q184'), ('name', 'Belarus')]\n",
                        "[('country', 'http://www.wikidata.org/entity/Q962'), ('name', 'Benin')]\n",
                        "[('country', 'http://www.wikidata.org/entity/Q750'), ('name', 'Bolivia')]\n",
                        "[('country', 'http://www.wikidata.org/entity/Q225'), ('name', 'Bosnia and Herzegovina')]\n",
                        "[('country', 'http://www.wikidata.org/entity/Q963'), ('name', 'Botswana')]\n",
                        "[('country', 'http://www.wikidata.org/entity/Q155'), ('name', 'Brazil')]\n",
                        "[('country', 'http://www.wikidata.org/entity/Q965'), ('name', 'Burkina Faso')]\n",
                        "[('country', 'http://www.wikidata.org/entity/Q967'), ('name', 'Burundi')]\n",
                        "[('country', 'http://www.wikidata.org/entity/Q1009'), ('name', 'Cameroon')]\n",
                        "[('country', 'http://www.wikidata.org/entity/Q16'), ('name', 'Canada')]\n",
                        "[('country', 'http://www.wikidata.org/entity/Q1011'), ('name', 'Cape Verde')]\n",
                        "[('country', 'http://www.wikidata.org/entity/Q929'), ('name', 'Central African Republic')]\n",
                        "[('country', 'http://www.wikidata.org/entity/Q657'), ('name', 'Chad')]\n",
                        "[('country', 'http://www.wikidata.org/entity/Q210036'), ('name', 'Chechen Republic of Ichkeria')]\n",
                        "[('country', 'http://www.wikidata.org/entity/Q298'), ('name', 'Chile')]\n",
                        "[('country', 'http://www.wikidata.org/entity/Q739'), ('name', 'Colombia')]\n",
                        "[('country', 'http://www.wikidata.org/entity/Q970'), ('name', 'Comoros')]\n",
                        "[('country', 'http://www.wikidata.org/entity/Q81931'), ('name', 'Confederate States of America')]\n",
                        "[('country', 'http://www.wikidata.org/entity/Q800'), ('name', 'Costa Rica')]\n",
                        "[('country', 'http://www.wikidata.org/entity/Q224'), ('name', 'Croatia')]\n",
                        "[('country', 'http://www.wikidata.org/entity/Q241'), ('name', 'Cuba')]\n",
                        "[('country', 'http://www.wikidata.org/entity/Q229'), ('name', 'Cyprus')]\n",
                        "[('country', 'http://www.wikidata.org/entity/Q213'), ('name', 'Czech Republic')]\n",
                        "[('country', 'http://www.wikidata.org/entity/Q33946'), ('name', 'Czechoslovakia')]\n",
                        "[('country', 'http://www.wikidata.org/entity/Q974'), ('name', 'Democratic Republic of the Congo')]\n",
                        "[('country', 'http://www.wikidata.org/entity/Q977'), ('name', 'Djibouti')]\n",
                        "[('country', 'http://www.wikidata.org/entity/Q784'), ('name', 'Dominica')]\n",
                        "[('country', 'http://www.wikidata.org/entity/Q786'), ('name', 'Dominican Republic')]\n",
                        "[('country', 'http://www.wikidata.org/entity/Q574'), ('name', 'East Timor')]\n",
                        "[('country', 'http://www.wikidata.org/entity/Q79'), ('name', 'Egypt')]\n",
                        "[('country', 'http://www.wikidata.org/entity/Q792'), ('name', 'El Salvador')]\n",
                        "[('country', 'http://www.wikidata.org/entity/Q983'), ('name', 'Equatorial Guinea')]\n",
                        "[('country', 'http://www.wikidata.org/entity/Q986'), ('name', 'Eritrea')]\n",
                        "[('country', 'http://www.wikidata.org/entity/Q191'), ('name', 'Estonia')]\n",
                        "[('country', 'http://www.wikidata.org/entity/Q115'), ('name', 'Ethiopia')]\n",
                        "[('country', 'http://www.wikidata.org/entity/Q190025'), ('name', 'Federal Republic of Central America')]\n",
                        "[('country', 'http://www.wikidata.org/entity/Q702'), ('name', 'Federated States of Micronesia')]\n",
                        "[('country', 'http://www.wikidata.org/entity/Q712'), ('name', 'Fiji')]\n",
                        "[('country', 'http://www.wikidata.org/entity/Q33'), ('name', 'Finland')]\n",
                        "[('country', 'http://www.wikidata.org/entity/Q142'), ('name', 'France')]\n",
                        "[('country', 'http://www.wikidata.org/entity/Q1131500'), ('name', 'Free State of Icaria')]\n"
                    ]
                },
                {
                    "data": {
                        "text/plain": [
                            "50"
                        ]
                    },
                    "execution_count": 17,
                    "metadata": {},
                    "output_type": "execute_result"
                }
            ],
            "source": [
                "#it makes sense that only the more specific subclasses \"President of the USA\" and \"President of Italy\" have a country\n",
                "#let's query now all countries that had at least one president\n",
                "#to do so we find Humans that held some position, using the * operator until we reach the superclass \"President\"\n",
                "\n",
                "q = f\"\"\"\n",
                "select distinct ?country ?name where{{\n",
                "?person wdt:P31 wd:Q5 ;\n",
                "    wdt:P39 ?position .\n",
                "\n",
                "#assumption: President is only superclass and no person actually held/holds the charge\n",
                "#of just \"President\", therefore using + should be correct\n",
                "?position wdt:P279+ wd:Q30461 ;\n",
                "    wdt:P17 ?country .\n",
                "\n",
                "?country <http://schema.org/name> ?name\n",
                "}}\n",
                "order by asc(?name)\n",
                "limit 50\n",
                "\"\"\"\n",
                "run_query(q)"
            ]
        },
        {
            "cell_type": "code",
            "execution_count": 18,
            "id": "abb7b4cb-fe57-41f6-b1f0-4ac1a36636ea",
            "metadata": {},
            "outputs": [
                {
                    "name": "stdout",
                    "output_type": "stream",
                    "text": [
                        "[('country', 'http://www.wikidata.org/entity/Q889'), ('name', 'Afghanistan'), ('positionName', 'President of Afghanistan')]\n",
                        "[('country', 'http://www.wikidata.org/entity/Q889'), ('name', 'Afghanistan'), ('positionName', 'Chairman of the Revolutionary Council of Afghanistan')]\n",
                        "[('country', 'http://www.wikidata.org/entity/Q222'), ('name', 'Albania'), ('positionName', 'President of Albania')]\n",
                        "[('country', 'http://www.wikidata.org/entity/Q262'), ('name', 'Algeria'), ('positionName', 'President of Algeria')]\n",
                        "[('country', 'http://www.wikidata.org/entity/Q916'), ('name', 'Angola'), ('positionName', 'President of Angola')]\n",
                        "[('country', 'http://www.wikidata.org/entity/Q414'), ('name', 'Argentina'), ('positionName', 'President of Argentina')]\n",
                        "[('country', 'http://www.wikidata.org/entity/Q399'), ('name', 'Armenia'), ('positionName', 'President of Armenia')]\n",
                        "[('country', 'http://www.wikidata.org/entity/Q40'), ('name', 'Austria'), ('positionName', 'President of Austria')]\n",
                        "[('country', 'http://www.wikidata.org/entity/Q227'), ('name', 'Azerbaijan'), ('positionName', 'President of Azerbaijan')]\n",
                        "[('country', 'http://www.wikidata.org/entity/Q902'), ('name', 'Bangladesh'), ('positionName', 'President of Bangladesh')]\n",
                        "[('country', 'http://www.wikidata.org/entity/Q184'), ('name', 'Belarus'), ('positionName', 'President of Belarus')]\n",
                        "[('country', 'http://www.wikidata.org/entity/Q962'), ('name', 'Benin'), ('positionName', 'President of Republic of Benin')]\n",
                        "[('country', 'http://www.wikidata.org/entity/Q750'), ('name', 'Bolivia'), ('positionName', 'President of Bolivia')]\n",
                        "[('country', 'http://www.wikidata.org/entity/Q225'), ('name', 'Bosnia and Herzegovina'), ('positionName', 'President of Republika Srpska')]\n",
                        "[('country', 'http://www.wikidata.org/entity/Q963'), ('name', 'Botswana'), ('positionName', 'President of Botswana')]\n",
                        "[('country', 'http://www.wikidata.org/entity/Q155'), ('name', 'Brazil'), ('positionName', 'President of Brazil')]\n",
                        "[('country', 'http://www.wikidata.org/entity/Q965'), ('name', 'Burkina Faso'), ('positionName', 'President of Burkina Faso')]\n",
                        "[('country', 'http://www.wikidata.org/entity/Q967'), ('name', 'Burundi'), ('positionName', 'President of Burundi')]\n",
                        "[('country', 'http://www.wikidata.org/entity/Q1009'), ('name', 'Cameroon'), ('positionName', 'President of Cameroon')]\n",
                        "[('country', 'http://www.wikidata.org/entity/Q1011'), ('name', 'Cape Verde'), ('positionName', 'President of Cape Verde')]\n",
                        "[('country', 'http://www.wikidata.org/entity/Q929'), ('name', 'Central African Republic'), ('positionName', 'President of the Central African Republic')]\n",
                        "[('country', 'http://www.wikidata.org/entity/Q657'), ('name', 'Chad'), ('positionName', 'President of Chad')]\n",
                        "[('country', 'http://www.wikidata.org/entity/Q210036'), ('name', 'Chechen Republic of Ichkeria'), ('positionName', 'President of Ichkeria')]\n",
                        "[('country', 'http://www.wikidata.org/entity/Q298'), ('name', 'Chile'), ('positionName', 'President of Chile')]\n",
                        "[('country', 'http://www.wikidata.org/entity/Q739'), ('name', 'Colombia'), ('positionName', 'President of Colombia')]\n",
                        "[('country', 'http://www.wikidata.org/entity/Q970'), ('name', 'Comoros'), ('positionName', 'President of Comoros')]\n",
                        "[('country', 'http://www.wikidata.org/entity/Q81931'), ('name', 'Confederate States of America'), ('positionName', 'President of the Confederate States')]\n",
                        "[('country', 'http://www.wikidata.org/entity/Q800'), ('name', 'Costa Rica'), ('positionName', 'President of Costa Rica')]\n",
                        "[('country', 'http://www.wikidata.org/entity/Q224'), ('name', 'Croatia'), ('positionName', 'president of Croatia')]\n",
                        "[('country', 'http://www.wikidata.org/entity/Q241'), ('name', 'Cuba'), ('positionName', 'President of Cuba')]\n",
                        "[('country', 'http://www.wikidata.org/entity/Q229'), ('name', 'Cyprus'), ('positionName', 'President of Cyprus')]\n",
                        "[('country', 'http://www.wikidata.org/entity/Q229'), ('name', 'Cyprus'), ('positionName', 'President of Cyprus Sport Organisation')]\n",
                        "[('country', 'http://www.wikidata.org/entity/Q213'), ('name', 'Czech Republic'), ('positionName', 'President of the Czech Republic')]\n",
                        "[('country', 'http://www.wikidata.org/entity/Q33946'), ('name', 'Czechoslovakia'), ('positionName', 'President of Czechoslovakia')]\n",
                        "[('country', 'http://www.wikidata.org/entity/Q974'), ('name', 'Democratic Republic of the Congo'), ('positionName', 'President of the Democratic Republic of the Congo')]\n",
                        "[('country', 'http://www.wikidata.org/entity/Q977'), ('name', 'Djibouti'), ('positionName', 'President of Djibouti')]\n",
                        "[('country', 'http://www.wikidata.org/entity/Q784'), ('name', 'Dominica'), ('positionName', 'president of Dominica')]\n",
                        "[('country', 'http://www.wikidata.org/entity/Q786'), ('name', 'Dominican Republic'), ('positionName', 'President of the Dominican Republic')]\n",
                        "[('country', 'http://www.wikidata.org/entity/Q574'), ('name', 'East Timor'), ('positionName', 'President of East Timor')]\n",
                        "[('country', 'http://www.wikidata.org/entity/Q79'), ('name', 'Egypt'), ('positionName', 'President of Egypt')]\n",
                        "[('country', 'http://www.wikidata.org/entity/Q792'), ('name', 'El Salvador'), ('positionName', 'President of El Salvador')]\n",
                        "[('country', 'http://www.wikidata.org/entity/Q983'), ('name', 'Equatorial Guinea'), ('positionName', 'President of Equatorial Guinea')]\n",
                        "[('country', 'http://www.wikidata.org/entity/Q986'), ('name', 'Eritrea'), ('positionName', 'President of Eritrea')]\n",
                        "[('country', 'http://www.wikidata.org/entity/Q191'), ('name', 'Estonia'), ('positionName', 'President of Estonia')]\n",
                        "[('country', 'http://www.wikidata.org/entity/Q115'), ('name', 'Ethiopia'), ('positionName', 'President of Ethiopia')]\n",
                        "[('country', 'http://www.wikidata.org/entity/Q190025'), ('name', 'Federal Republic of Central America'), ('positionName', 'Jefe Supremo del Estado de El Salvador')]\n",
                        "[('country', 'http://www.wikidata.org/entity/Q190025'), ('name', 'Federal Republic of Central America'), ('positionName', 'President of the Federal Republic of Central America')]\n",
                        "[('country', 'http://www.wikidata.org/entity/Q702'), ('name', 'Federated States of Micronesia'), ('positionName', 'President of the Federated States of Micronesia')]\n",
                        "[('country', 'http://www.wikidata.org/entity/Q712'), ('name', 'Fiji'), ('positionName', 'President of Fiji')]\n",
                        "[('country', 'http://www.wikidata.org/entity/Q33'), ('name', 'Finland'), ('positionName', 'President of Finland')]\n"
                    ]
                },
                {
                    "data": {
                        "text/plain": [
                            "50"
                        ]
                    },
                    "execution_count": 18,
                    "metadata": {},
                    "output_type": "execute_result"
                }
            ],
            "source": [
                "#let's also return the name of the president in each country\n",
                "q = f\"\"\"\n",
                "select distinct ?country ?name ?positionName where{{\n",
                "?person wdt:P31 wd:Q5 ;\n",
                "    wdt:P39 ?position .\n",
                "\n",
                "#assumption: no person helds directly the \"President\" charge\n",
                "#therefore using the + s\n",
                "?position wdt:P279+ wd:Q30461 ;\n",
                "    <http://schema.org/name> ?positionName ;\n",
                "    wdt:P17 ?country .\n",
                "\n",
                "?country <http://schema.org/name> ?name\n",
                "}}\n",
                "order by asc(?name)\n",
                "limit 50\n",
                "\"\"\"\n",
                "run_query(q)"
            ]
        },
        {
            "cell_type": "code",
            "execution_count": 20,
            "id": "2adc5ffe-3cdf-4ec9-8d55-38e328dbebd6",
            "metadata": {},
            "outputs": [
                {
                    "name": "stdout",
                    "output_type": "stream",
                    "text": [
                        "[('country', 'http://www.wikidata.org/entity/Q1643555'), ('name', 'British Honduras')]\n",
                        "[('country', 'http://www.wikidata.org/entity/Q797214'), ('name', 'French Togoland')]\n",
                        "[('country', 'http://www.wikidata.org/entity/Q139315'), ('name', 'D\u02bfmt')]\n",
                        "[('country', 'http://www.wikidata.org/entity/Q491559'), ('name', 'First Republic of South Korea')]\n",
                        "[('country', 'http://www.wikidata.org/entity/Q10975458'), ('name', 'Maramure\u0219')]\n",
                        "[('country', 'http://www.wikidata.org/entity/Q1649306'), ('name', 'Nyasaland')]\n",
                        "[('country', 'http://www.wikidata.org/entity/Q7435677'), ('name', 'Scotland in the Late Middle Ages')]\n",
                        "[('country', 'http://www.wikidata.org/entity/Q488521'), ('name', 'Fourth Republic of South Korea')]\n",
                        "[('country', 'http://www.wikidata.org/entity/Q10889269'), ('name', 'Aolai')]\n",
                        "[('country', 'http://www.wikidata.org/entity/Q2308237'), ('name', 'Ahom Kingdom')]\n",
                        "[('country', 'http://www.wikidata.org/entity/Q756854'), ('name', 'Kosala')]\n",
                        "[('country', 'http://www.wikidata.org/entity/Q3825239'), ('name', 'Cortes of Castile')]\n",
                        "[('country', 'http://www.wikidata.org/entity/Q3919363'), ('name', 'Principality of Lahojsk')]\n",
                        "[('country', 'http://www.wikidata.org/entity/Q6124144'), ('name', 'Jaipur State')]\n",
                        "[('country', 'http://www.wikidata.org/entity/Q1740533'), ('name', 'Baku Khanate')]\n",
                        "[('country', 'http://www.wikidata.org/entity/Q24777666'), ('name', 'DNA polymerase III, delta subunit')]\n",
                        "[('country', 'http://www.wikidata.org/entity/Q19722199'), ('name', 'Wheathill')]\n",
                        "[('country', 'http://www.wikidata.org/entity/Q3045696'), ('name', 'Eyalet of Algiers')]\n",
                        "[('country', 'http://www.wikidata.org/entity/Q3088906'), ('name', 'France\u2013United Kingdom border')]\n",
                        "[('country', 'http://www.wikidata.org/entity/Q777981'), ('name', 'Duchy of the Archipelago')]\n"
                    ]
                },
                {
                    "data": {
                        "text/plain": [
                            "20"
                        ]
                    },
                    "execution_count": 20,
                    "metadata": {},
                    "output_type": "execute_result"
                }
            ],
            "source": [
                "#let's try and find countries that never had a president, if any\n",
                "q = f\"\"\"\n",
                "select distinct ?country ?name where{{\n",
                "?person wdt:P31 wd:Q5 ;\n",
                "    wdt:P39 ?position .\n",
                "    \n",
                "filter not exists{{\n",
                "        ?position wdt:P279+ wd:Q30461 .\n",
                "    }}\n",
                "    \n",
                "?potision wdt:P17 ?country .\n",
                "?country <http://schema.org/name> ?name .\n",
                "}}\n",
                "limit 20\n",
                "\"\"\"\n",
                "run_query(q)"
            ]
        },
        {
            "cell_type": "code",
            "execution_count": 21,
            "id": "fb8c9393-0907-40ea-a93f-1186b02b7a21",
            "metadata": {},
            "outputs": [
                {
                    "name": "stdout",
                    "output_type": "stream",
                    "text": [
                        "[('country', 'http://www.wikidata.org/entity/Q180573'), ('name', 'South Vietnam'), ('positionName', 'South Vietnam Air Force')]\n",
                        "[('country', 'http://www.wikidata.org/entity/Q2981019'), ('name', 'Ostikanate of Arminiya'), ('positionName', 'Arshamuni')]\n",
                        "[('country', 'http://www.wikidata.org/entity/Q10889269'), ('name', 'Aolai'), ('positionName', 'Aolai')]\n",
                        "[('country', 'http://www.wikidata.org/entity/Q10889269'), ('name', 'Aolai'), ('positionName', 'Mount Huaguo')]\n",
                        "[('country', 'http://www.wikidata.org/entity/Q6124144'), ('name', 'Jaipur State'), ('positionName', 'Jodhpur State')]\n",
                        "[('country', 'http://www.wikidata.org/entity/Q7646305'), ('name', 'Surinam'), ('positionName', 'Plaisance')]\n",
                        "[('country', 'http://www.wikidata.org/entity/Q449639'), ('name', 'Alodia'), ('positionName', 'Soba')]\n",
                        "[('country', 'http://www.wikidata.org/entity/Q156418'), ('name', 'Kingdom of Hawai\u02bbi'), ('positionName', 'Kingdom of Hawai\u02bbi')]\n",
                        "[('country', 'http://www.wikidata.org/entity/Q180573'), ('name', 'South Vietnam'), ('positionName', 'South Vietnam')]\n",
                        "[('country', 'http://www.wikidata.org/entity/Q235030'), ('name', 'Principality of Antioch'), ('positionName', 'Principality of Antioch')]\n",
                        "[('country', 'http://www.wikidata.org/entity/Q2981019'), ('name', 'Ostikanate of Arminiya'), ('positionName', 'Kamsarakan')]\n",
                        "[('country', 'http://www.wikidata.org/entity/Q156418'), ('name', 'Kingdom of Hawai\u02bbi'), ('positionName', 'House of Kamehameha')]\n",
                        "[('country', 'http://www.wikidata.org/entity/Q153080'), ('name', 'East Francia'), ('positionName', 'Duchy of Swabia')]\n",
                        "[('country', 'http://www.wikidata.org/entity/Q180573'), ('name', 'South Vietnam'), ('positionName', 'Army of the Republic of Vietnam')]\n",
                        "[('country', 'http://www.wikidata.org/entity/Q202311'), ('name', 'Egypt'), ('positionName', 'Library of Alexandria')]\n",
                        "[('country', 'http://www.wikidata.org/entity/Q501303'), ('name', 'Free City of Krak\u00f3w'), ('positionName', 'Krak\u00f3w z\u0142oty')]\n",
                        "[('country', 'http://www.wikidata.org/entity/Q917553'), ('name', 'Patiala State'), ('positionName', 'Maharaja of Patiala')]\n",
                        "[('country', 'http://www.wikidata.org/entity/Q212056'), ('name', \"Mongolian People's Republic\"), ('positionName', \"Mongolian People's Republic\")]\n",
                        "[('country', 'http://www.wikidata.org/entity/Q548114'), ('name', 'Free State of Fiume'), ('positionName', 'Fiume krone')]\n",
                        "[('country', 'http://www.wikidata.org/entity/Q208169'), ('name', 'Republic of Ragusa'), ('positionName', 'Republic of Ragusa')]\n"
                    ]
                },
                {
                    "data": {
                        "text/plain": [
                            "20"
                        ]
                    },
                    "execution_count": 21,
                    "metadata": {},
                    "output_type": "execute_result"
                }
            ],
            "source": [
                "#let's also display the name of the held position\n",
                "q = f\"\"\"\n",
                "select distinct ?country ?name ?positionName where{{\n",
                "?person wdt:P31 wd:Q5 ;\n",
                "    wdt:P39 ?position .\n",
                "    \n",
                "filter not exists{{\n",
                "        ?position wdt:P279+ wd:Q30461 .\n",
                "    }}\n",
                "    \n",
                "?potision wdt:P17 ?country ;\n",
                "    <http://schema.org/name> ?positionName .\n",
                "?country <http://schema.org/name> ?name .\n",
                "}}\n",
                "limit 20\n",
                "\"\"\"\n",
                "run_query(q)"
            ]
        },
        {
            "cell_type": "code",
            "execution_count": 23,
            "id": "b6c8a983-6bbb-4949-bd92-e4495ee04109",
            "metadata": {},
            "outputs": [
                {
                    "name": "stdout",
                    "output_type": "stream",
                    "text": [
                        "[('super', 'http://www.wikidata.org/entity/Q48352'), ('name', 'head of state')]\n",
                        "[('super', 'http://www.wikidata.org/entity/Q82955'), ('name', 'politician')]\n",
                        "[('super', 'http://www.wikidata.org/entity/Q294414'), ('name', 'public office')]\n"
                    ]
                },
                {
                    "data": {
                        "text/plain": [
                            "3"
                        ]
                    },
                    "execution_count": 23,
                    "metadata": {},
                    "output_type": "execute_result"
                }
            ],
            "source": [
                "#first of all let's see if \"President\" is subclass of something\n",
                "q = f\"\"\"\n",
                "select distinct ?super ?name where{{\n",
                "wd:Q30461 wdt:P279 ?super .\n",
                "?super <http://schema.org/name> ?name\n",
                "}}\n",
                "\"\"\"\n",
                "run_query(q)"
            ]
        },
        {
            "cell_type": "code",
            "execution_count": 24,
            "id": "b88c379d-7bea-46a7-8ccf-132624242a84",
            "metadata": {},
            "outputs": [
                {
                    "name": "stdout",
                    "output_type": "stream",
                    "text": [
                        "[('class', 'http://www.wikidata.org/entity/Q16138154'), ('name', 'ceremonial head of state')]\n",
                        "[('class', 'http://www.wikidata.org/entity/Q22076010'), ('name', 'duke of Mayenne')]\n",
                        "[('class', 'http://www.wikidata.org/entity/Q2922479'), ('name', 'Duke of Schomberg')]\n",
                        "[('class', 'http://www.wikidata.org/entity/Q3268015'), ('name', 'Duke of Montmorency')]\n",
                        "[('class', 'http://www.wikidata.org/entity/Q781203'), ('name', 'Duke of Berwick')]\n",
                        "[('class', 'http://www.wikidata.org/entity/Q61905410'), ('name', 'President of Puntland')]\n",
                        "[('class', 'http://www.wikidata.org/entity/Q729924'), ('name', 'Prince regent')]\n",
                        "[('class', 'http://www.wikidata.org/entity/Q21916441'), ('name', 'duke of Guise')]\n",
                        "[('class', 'http://www.wikidata.org/entity/Q22077580'), ('name', 'duke of Joyeuse')]\n",
                        "[('class', 'http://www.wikidata.org/entity/Q22939043'), ('name', 'king of Warnes')]\n",
                        "[('class', 'http://www.wikidata.org/entity/Q95147725'), ('name', 'Irish king')]\n",
                        "[('class', 'http://www.wikidata.org/entity/Q14946265'), ('name', 'President of Bulgaria')]\n",
                        "[('class', 'http://www.wikidata.org/entity/Q27213339'), ('name', 'King of Essex')]\n",
                        "[('class', 'http://www.wikidata.org/entity/Q3930923'), ('name', 'King of Sicily')]\n",
                        "[('class', 'http://www.wikidata.org/entity/Q14368159'), ('name', 'king of Armenia')]\n",
                        "[('class', 'http://www.wikidata.org/entity/Q1570744'), ('name', 'Duke of Calabria')]\n",
                        "[('class', 'http://www.wikidata.org/entity/Q21095876'), ('name', 'Duke of Anjou')]\n",
                        "[('class', 'http://www.wikidata.org/entity/Q2407022'), ('name', 'President of Artsakh')]\n",
                        "[('class', 'http://www.wikidata.org/entity/Q3773745'), ('name', 'Governor of Vermont')]\n",
                        "[('class', 'http://www.wikidata.org/entity/Q41542585'), ('name', 'King of Lesotho')]\n"
                    ]
                },
                {
                    "data": {
                        "text/plain": [
                            "20"
                        ]
                    },
                    "execution_count": 24,
                    "metadata": {},
                    "output_type": "execute_result"
                }
            ],
            "source": [
                "#now let's look at nodes that are subclass of \"head of state\"\n",
                "headOfState = \"wd:Q48352\"\n",
                "q = f\"\"\"\n",
                "select distinct ?class ?name where{{\n",
                "?class wdt:P279+ wd:Q48352 .\n",
                "?class <http://schema.org/name> ?name\n",
                "}}\n",
                "limit 20\n",
                "\"\"\"\n",
                "run_query(q)"
            ]
        },
        {
            "cell_type": "code",
            "execution_count": 25,
            "id": "1076ac5a-e068-40b2-be9a-c58bca61648f",
            "metadata": {},
            "outputs": [
                {
                    "name": "stdout",
                    "output_type": "stream",
                    "text": [
                        "[('class', 'http://www.wikidata.org/entity/Q22939043'), ('name', 'king of Warnes')]\n",
                        "[('class', 'http://www.wikidata.org/entity/Q95147725'), ('name', 'Irish king')]\n",
                        "[('class', 'http://www.wikidata.org/entity/Q27213339'), ('name', 'King of Essex')]\n",
                        "[('class', 'http://www.wikidata.org/entity/Q3930923'), ('name', 'King of Sicily')]\n",
                        "[('class', 'http://www.wikidata.org/entity/Q14368159'), ('name', 'king of Armenia')]\n",
                        "[('class', 'http://www.wikidata.org/entity/Q41542585'), ('name', 'King of Lesotho')]\n",
                        "[('class', 'http://www.wikidata.org/entity/Q60296919'), ('name', 'king of Luang Prabang')]\n",
                        "[('class', 'http://www.wikidata.org/entity/Q58008017'), ('name', 'king of Galicia')]\n",
                        "[('class', 'http://www.wikidata.org/entity/Q65028901'), ('name', 'king of the Suebi')]\n",
                        "[('class', 'http://www.wikidata.org/entity/Q28166264'), ('name', 'King of Manipur')]\n",
                        "[('class', 'http://www.wikidata.org/entity/Q15725932'), ('name', 'king of Imereti')]\n",
                        "[('class', 'http://www.wikidata.org/entity/Q183318'), ('name', 'dictator')]\n",
                        "[('class', 'http://www.wikidata.org/entity/Q18810063'), ('name', 'King of Scotland')]\n",
                        "[('class', 'http://www.wikidata.org/entity/Q3273712'), ('name', 'king of Poland')]\n",
                        "[('class', 'http://www.wikidata.org/entity/Q850168'), ('name', 'King of Saudi Arabia')]\n",
                        "[('class', 'http://www.wikidata.org/entity/Q87071077'), ('name', 'King of Greece')]\n",
                        "[('class', 'http://www.wikidata.org/entity/Q16852400'), ('name', 'King of Hanover')]\n",
                        "[('class', 'http://www.wikidata.org/entity/Q938153'), ('name', 'King of Kings')]\n",
                        "[('class', 'http://www.wikidata.org/entity/Q18384454'), ('name', 'King of France')]\n",
                        "[('class', 'http://www.wikidata.org/entity/Q42298242'), ('name', 'King of Cambodia')]\n"
                    ]
                },
                {
                    "data": {
                        "text/plain": [
                            "20"
                        ]
                    },
                    "execution_count": 25,
                    "metadata": {},
                    "output_type": "execute_result"
                }
            ],
            "source": [
                "#let's look for kings, dictators...\n",
                "q = f\"\"\"\n",
                "select distinct ?class ?name where{{\n",
                "?class wdt:P279+ wd:Q48352 .\n",
                "?class <http://schema.org/name> ?name .\n",
                "filter regex(?name, '.*(king|dictator).*', 'i')\n",
                "}}\n",
                "limit 20\n",
                "\"\"\"\n",
                "run_query(q)"
            ]
        },
        {
            "cell_type": "code",
            "execution_count": 33,
            "id": "9a56241e-b0dd-452e-bac4-cf63b9683e72",
            "metadata": {},
            "outputs": [
                {
                    "name": "stdout",
                    "output_type": "stream",
                    "text": [
                        "[('personName', 'Hu Jintao'), ('name', \"People's Republic of China\"), ('positionName', 'General Secretary of the Chinese Communist Party')]\n",
                        "[('personName', 'Xi Jinping'), ('name', \"People's Republic of China\"), ('positionName', 'General Secretary of the Chinese Communist Party')]\n",
                        "[('personName', 'Juan Lindo y Zelaya'), ('name', 'Federal Republic of Central America'), ('positionName', 'Jefe Supremo del Estado de El Salvador')]\n",
                        "[('personName', 'Deng Xiaoping'), ('name', \"People's Republic of China\"), ('positionName', \"paramount leader of the People's Republic of China\")]\n",
                        "[('personName', 'Hu Yaobang'), ('name', \"People's Republic of China\"), ('positionName', 'General Secretary of the Chinese Communist Party')]\n",
                        "[('personName', 'Zhao Ziyang'), ('name', \"People's Republic of China\"), ('positionName', 'General Secretary of the Chinese Communist Party')]\n",
                        "[('personName', 'Juan Nepomuceno Barrundia Cepeda'), ('name', 'Federal Republic of Central America'), ('positionName', 'Jefe Supremo del Estado de Guatemala')]\n",
                        "[('personName', 'Jos\u00e9 Francisco Barrundia'), ('name', 'Federal Republic of Central America'), ('positionName', 'Jefe Supremo del Estado de Guatemala')]\n",
                        "[('personName', 'Francisco culo'), ('name', 'Federal Republic of Central America'), ('positionName', 'Jefe Supremo del Estado de El Salvador')]\n",
                        "[('personName', 'Mariano de Aycinena y Pi\u00f1ol'), ('name', 'Federal Republic of Central America'), ('positionName', 'Jefe Supremo del Estado de Guatemala')]\n",
                        "[('personName', 'Jiang Zemin'), ('name', \"People's Republic of China\"), ('positionName', 'General Secretary of the Chinese Communist Party')]\n",
                        "[('personName', 'Carlos Salazar Castro'), ('name', 'Federal Republic of Central America'), ('positionName', 'Jefe Supremo del Estado de El Salvador')]\n",
                        "[('personName', 'Carlos Salazar Castro'), ('name', 'Federal Republic of Central America'), ('positionName', 'Jefe Supremo del Estado de Guatemala')]\n",
                        "[('personName', 'Jos\u00e9 Gregorio Salazar'), ('name', 'Federal Republic of Central America'), ('positionName', 'Jefe Supremo del Estado de El Salvador')]\n",
                        "[('personName', 'Joaqu\u00edn de San Mart\u00edn y Ulloa'), ('name', 'Federal Republic of Central America'), ('positionName', 'Jefe Supremo del Estado de El Salvador')]\n",
                        "[('personName', 'Chen Duxiu'), ('name', \"People's Republic of China\"), ('positionName', 'General Secretary of the Chinese Communist Party')]\n",
                        "[('personName', 'Norberto Ram\u00edrez'), ('name', 'Federal Republic of Central America'), ('positionName', 'Jefe Supremo del Estado de El Salvador')]\n",
                        "[('personName', 'Qu Qiubai'), ('name', \"People's Republic of China\"), ('positionName', 'General Secretary of the Chinese Communist Party')]\n",
                        "[('personName', 'Jos\u00e9 Mar\u00eda Silva'), ('name', 'Federal Republic of Central America'), ('positionName', 'Jefe Supremo del Estado de El Salvador')]\n",
                        "[('personName', 'Mariano G\u00e1lvez'), ('name', 'Federal Republic of Central America'), ('positionName', 'Jefe Supremo del Estado de Guatemala')]\n"
                    ]
                },
                {
                    "data": {
                        "text/plain": [
                            "20"
                        ]
                    },
                    "execution_count": 33,
                    "metadata": {},
                    "output_type": "execute_result"
                }
            ],
            "source": [
                "Dictator = 'wd:Q183318'\n",
                "#let's see countries with a dictator\n",
                "q = f\"\"\"\n",
                "select distinct ?personName ?name ?positionName where{{\n",
                "?person wdt:P31 wd:Q5 .\n",
                "?person wdt:P39 ?position .\n",
                "?position wdt:P279+ wd:Q183318 .\n",
                "?person <http://schema.org/name> ?personName .\n",
                "?position wdt:P17 ?country .\n",
                "?position <http://schema.org/name> ?positionName .\n",
                "    \n",
                "?country <http://schema.org/name> ?name .\n",
                "}}\n",
                "limit 20\n",
                "\"\"\"\n",
                "run_query(q)"
            ]
        },
        {
            "cell_type": "code",
            "execution_count": 34,
            "id": "d1ac737c-0015-4001-80ee-c7283843ae99",
            "metadata": {},
            "outputs": [
                {
                    "name": "stdout",
                    "output_type": "stream",
                    "text": [
                        "[('country', 'http://www.wikidata.org/entity/Q2670751'), ('name', 'Margraviate of Moravia'), ('positionName', 'Member of the Moravian Diet')]\n",
                        "[('country', 'http://www.wikidata.org/entity/Q139319'), ('name', 'Russian Republic'), ('positionName', '\u041erdinary professor')]\n",
                        "[('country', 'http://www.wikidata.org/entity/Q174306'), ('name', 'Republic of Genova'), ('positionName', 'doge of Genoa')]\n",
                        "[('country', 'http://www.wikidata.org/entity/Q1014'), ('name', 'Liberia'), ('positionName', 'Member of the House of Representatives of Liberia')]\n",
                        "[('country', 'http://www.wikidata.org/entity/Q1033'), ('name', 'Nigeria'), ('positionName', 'Chief Justice of Nigeria')]\n",
                        "[('country', 'http://www.wikidata.org/entity/Q12060881'), ('name', 'Imperial China'), ('positionName', 'Emperor of China')]\n",
                        "[('country', 'http://www.wikidata.org/entity/Q13426199'), ('name', 'Republic of China 1912\u20131949'), ('positionName', 'member of the Constituent National Assembly')]\n",
                        "[('country', 'http://www.wikidata.org/entity/Q13426199'), ('name', 'Republic of China 1912\u20131949'), ('positionName', 'member of the National Political Council')]\n",
                        "[('country', 'http://www.wikidata.org/entity/Q142'), ('name', 'France'), ('positionName', 'ambassador of Honduras to France')]\n",
                        "[('country', 'http://www.wikidata.org/entity/Q142'), ('name', 'France'), ('positionName', 'Mayor of Ivry-sur-Seine')]\n",
                        "[('country', 'http://www.wikidata.org/entity/Q142'), ('name', 'France'), ('positionName', 'Mayor of Ch\u00e2tellerault')]\n",
                        "[('country', 'http://www.wikidata.org/entity/Q142'), ('name', 'France'), ('positionName', 'Mayor of Arcachon')]\n",
                        "[('country', 'http://www.wikidata.org/entity/Q142'), ('name', 'France'), ('positionName', 'Mayor of Saint-Avold')]\n",
                        "[('country', 'http://www.wikidata.org/entity/Q142'), ('name', 'France'), ('positionName', 'Mayor of Douai')]\n",
                        "[('country', 'http://www.wikidata.org/entity/Q142'), ('name', 'France'), ('positionName', 'Mayor of Castres')]\n",
                        "[('country', 'http://www.wikidata.org/entity/Q142'), ('name', 'France'), ('positionName', 'Mayor of Melun')]\n",
                        "[('country', 'http://www.wikidata.org/entity/Q142'), ('name', 'France'), ('positionName', 'mayor of Auch')]\n",
                        "[('country', 'http://www.wikidata.org/entity/Q142'), ('name', 'France'), ('positionName', 'Mayor of Cr\u00e9gy-l\u00e8s-Meaux')]\n",
                        "[('country', 'http://www.wikidata.org/entity/Q142'), ('name', 'France'), ('positionName', 'Mayor of Nogaro')]\n",
                        "[('country', 'http://www.wikidata.org/entity/Q142'), ('name', 'France'), ('positionName', 'Mayor of Les Ulis')]\n"
                    ]
                },
                {
                    "data": {
                        "text/plain": [
                            "20"
                        ]
                    },
                    "execution_count": 34,
                    "metadata": {},
                    "output_type": "execute_result"
                }
            ],
            "source": [
                "#in cell 21 i made a spelling mistake.... \"potision\" instead of \"position\"\n",
                "#let's correct the query\n",
                "\n",
                "q = f\"\"\"\n",
                "select distinct ?country ?name ?positionName where{{\n",
                "?person wdt:P31 wd:Q5 ;\n",
                "    wdt:P39 ?position .\n",
                "    \n",
                "filter not exists{{\n",
                "        ?position wdt:P279+ wd:Q30461 .\n",
                "    }}\n",
                "    \n",
                "?position wdt:P17 ?country ;\n",
                "    <http://schema.org/name> ?positionName .\n",
                "?country <http://schema.org/name> ?name .\n",
                "}}\n",
                "limit 20\n",
                "\"\"\"\n",
                "run_query(q)"
            ]
        },
        {
            "cell_type": "code",
            "execution_count": 35,
            "id": "3637fe92-e9dc-4e6b-9aab-71df35e4336b",
            "metadata": {},
            "outputs": [
                {
                    "name": "stdout",
                    "output_type": "stream",
                    "text": [
                        "[('country', 'http://www.wikidata.org/entity/Q777981'), ('name', 'Duchy of the Archipelago'), ('positionName', 'Duke of Naxos')]\n",
                        "[('country', 'http://www.wikidata.org/entity/Q208169'), ('name', 'Republic of Ragusa'), ('positionName', 'Rector')]\n",
                        "[('country', 'http://www.wikidata.org/entity/Q46652'), ('name', 'Malacca sultanate'), ('positionName', 'Sultan of Malacca')]\n",
                        "[('country', 'http://www.wikidata.org/entity/Q1013'), ('name', 'Lesotho'), ('positionName', 'King of Lesotho')]\n",
                        "[('country', 'http://www.wikidata.org/entity/Q12548'), ('name', 'Holy Roman Empire'), ('positionName', 'F\u00fcrst')]\n",
                        "[('country', 'http://www.wikidata.org/entity/Q129286'), ('name', 'British India'), ('positionName', 'Emperor of India')]\n",
                        "[('country', 'http://www.wikidata.org/entity/Q145'), ('name', 'United Kingdom'), ('positionName', 'King of Scotland')]\n",
                        "[('country', 'http://www.wikidata.org/entity/Q145'), ('name', 'United Kingdom'), ('positionName', 'Duke of Beaufort')]\n",
                        "[('country', 'http://www.wikidata.org/entity/Q17'), ('name', 'Japan'), ('positionName', 'Empress of Japan')]\n",
                        "[('country', 'http://www.wikidata.org/entity/Q188586'), ('name', 'Kingdom of Sicily'), ('positionName', 'King of Sicily')]\n",
                        "[('country', 'http://www.wikidata.org/entity/Q20'), ('name', 'Norway'), ('positionName', 'monarch of Norway')]\n",
                        "[('country', 'http://www.wikidata.org/entity/Q238'), ('name', 'San Marino'), ('positionName', 'Captain Regent of San Marino')]\n",
                        "[('country', 'http://www.wikidata.org/entity/Q252'), ('name', 'Indonesia'), ('positionName', 'Sultan of Yogyakarta')]\n",
                        "[('country', 'http://www.wikidata.org/entity/Q30'), ('name', 'United States of America'), ('positionName', 'Governor of Vermont')]\n",
                        "[('country', 'http://www.wikidata.org/entity/Q30'), ('name', 'United States of America'), ('positionName', 'Governor of Louisiana')]\n",
                        "[('country', 'http://www.wikidata.org/entity/Q30'), ('name', 'United States of America'), ('positionName', 'Governor of Utah')]\n",
                        "[('country', 'http://www.wikidata.org/entity/Q30'), ('name', 'United States of America'), ('positionName', 'Governor of Minnesota')]\n",
                        "[('country', 'http://www.wikidata.org/entity/Q30'), ('name', 'United States of America'), ('positionName', 'Governor of North Dakota')]\n",
                        "[('country', 'http://www.wikidata.org/entity/Q303421'), ('name', 'Kingdom of Galicia'), ('positionName', 'king of Galicia')]\n",
                        "[('country', 'http://www.wikidata.org/entity/Q34'), ('name', 'Sweden'), ('positionName', 'monarch of Sweden')]\n"
                    ]
                },
                {
                    "data": {
                        "text/plain": [
                            "20"
                        ]
                    },
                    "execution_count": 35,
                    "metadata": {},
                    "output_type": "execute_result"
                }
            ],
            "source": [
                "#now the results make more sense. however filtering out non presidential positions still gives us a lot of noise\n",
                "#we find mayors, members of various assemblies etc...\n",
                "\n",
                "#earlier we found a class called \"Head of State\"\n",
                "#let's use that too\n",
                "\n",
                "HeadOfState = 'wd:Q48352'\n",
                "\n",
                "q = f\"\"\"\n",
                "select distinct ?country ?name ?positionName where{{\n",
                "?person wdt:P31 wd:Q5 ;\n",
                "    wdt:P39 ?position .\n",
                "    \n",
                "?position wdt:P279+ wd:Q48352 .\n",
                "    \n",
                "filter not exists{{\n",
                "        ?position wdt:P279+ wd:Q30461 .\n",
                "    }}\n",
                "    \n",
                "?position wdt:P17 ?country ;\n",
                "    <http://schema.org/name> ?positionName .\n",
                "?country <http://schema.org/name> ?name .\n",
                "}}\n",
                "limit 20\n",
                "\"\"\"\n",
                "run_query(q)"
            ]
        },
        {
            "cell_type": "code",
            "execution_count": 37,
            "id": "f58f7cc0-be92-44df-b102-ed3287e3709b",
            "metadata": {},
            "outputs": [
                {
                    "name": "stdout",
                    "output_type": "stream",
                    "text": [
                        "Empty\n"
                    ]
                },
                {
                    "data": {
                        "text/plain": [
                            "0"
                        ]
                    },
                    "execution_count": 37,
                    "metadata": {},
                    "output_type": "execute_result"
                }
            ],
            "source": [
                "#much better. now for the sake of completeness, let's use the previous query and let's look if\n",
                "#\"General Secretary of the Chinese Communist Party\" is returned as well\n",
                "\n",
                "q = f\"\"\"\n",
                "select distinct ?country ?name ?positionName where{{\n",
                "?person wdt:P31 wd:Q5 ;\n",
                "    wdt:P39 ?position .\n",
                "    \n",
                "?position wdt:P279+ wd:Q48352 .\n",
                "    \n",
                "filter not exists{{\n",
                "        ?position wdt:P279+ wd:Q30461 .\n",
                "    }}\n",
                "    \n",
                "?position wdt:P17 ?country ;\n",
                "    <http://schema.org/name> ?positionName .\n",
                "    \n",
                "?country <http://schema.org/name> ?name .\n",
                "\n",
                "filter (?positionName = 'General Secretary of the Chinese Communist Party') .\n",
                "}}\n",
                "limit 20\n",
                "\"\"\"\n",
                "run_query(q)"
            ]
        },
        {
            "cell_type": "code",
            "execution_count": 39,
            "id": "cfae1cf5-3e20-469c-80b1-88a4d51bb6f3",
            "metadata": {},
            "outputs": [
                {
                    "name": "stdout",
                    "output_type": "stream",
                    "text": [
                        "Empty\n"
                    ]
                },
                {
                    "data": {
                        "text/plain": [
                            "0"
                        ]
                    },
                    "execution_count": 39,
                    "metadata": {},
                    "output_type": "execute_result"
                }
            ],
            "source": [
                "#let's remove \"Head of State\"\n",
                "q = f\"\"\"\n",
                "select distinct ?country ?name ?positionName where{{\n",
                "?person wdt:P31 wd:Q5 ;\n",
                "    wdt:P39 ?position .\n",
                "        \n",
                "filter not exists{{\n",
                "        ?position wdt:P279+ wd:Q30461 .\n",
                "    }}\n",
                "    \n",
                "?position wdt:P17 ?country ;\n",
                "    <http://schema.org/name> ?positionName .\n",
                "    \n",
                "?country <http://schema.org/name> ?name .\n",
                "\n",
                "filter (?positionName = 'General Secretary of the Chinese Communist Party') .\n",
                "}}\n",
                "limit 20\n",
                "\"\"\"\n",
                "run_query(q)"
            ]
        },
        {
            "cell_type": "code",
            "execution_count": 47,
            "id": "e7b1bd27-8148-471d-a5c1-3a27887e7784",
            "metadata": {},
            "outputs": [
                {
                    "name": "stdout",
                    "output_type": "stream",
                    "text": [
                        "[('country', 'http://www.wikidata.org/entity/Q148'), ('name', \"People's Republic of China\"), ('positionName', 'General Secretary of the Chinese Communist Party')]\n"
                    ]
                },
                {
                    "data": {
                        "text/plain": [
                            "1"
                        ]
                    },
                    "execution_count": 47,
                    "metadata": {},
                    "output_type": "execute_result"
                }
            ],
            "source": [
                "#maybe it's better to remove the filter against \"President\"\n",
                "\n",
                "q = f\"\"\"\n",
                "select distinct ?country ?name ?positionName where{{\n",
                "?person wdt:P31 wd:Q5 ;\n",
                "    wdt:P39 ?position .\n",
                "    \n",
                "?position wdt:P279+ wd:Q48352 .\n",
                "    \n",
                "?position wdt:P17 ?country ;\n",
                "    <http://schema.org/name> ?positionName .\n",
                "    \n",
                "?country <http://schema.org/name> ?name .\n",
                "\n",
                "filter regex (?positionName, '.*chinese communist party.*', 'i') .\n",
                "}}\n",
                "limit 20\n",
                "\"\"\"\n",
                "run_query(q)"
            ]
        },
        {
            "cell_type": "code",
            "execution_count": 48,
            "id": "17b5e643-7e6c-499e-b5d8-cedf31478c7f",
            "metadata": {},
            "outputs": [
                {
                    "name": "stdout",
                    "output_type": "stream",
                    "text": [
                        "[('country', 'http://www.wikidata.org/entity/Q148'), ('name', \"People's Republic of China\"), ('positionName', 'General Secretary of the Chinese Communist Party')]\n"
                    ]
                },
                {
                    "data": {
                        "text/plain": [
                            "1"
                        ]
                    },
                    "execution_count": 48,
                    "metadata": {},
                    "output_type": "execute_result"
                }
            ],
            "source": [
                "#turns out that using regex returns the expected result\n",
                "#going back to the original query\n",
                "q = f\"\"\"\n",
                "select distinct ?country ?name ?positionName where{{\n",
                "?person wdt:P31 wd:Q5 ;\n",
                "    wdt:P39 ?position .\n",
                "    \n",
                "?position wdt:P279+ wd:Q48352 .\n",
                "    \n",
                "filter not exists{{\n",
                "        ?position wdt:P279+ wd:Q30461 .\n",
                "    }}\n",
                "    \n",
                "?position wdt:P17 ?country ;\n",
                "    <http://schema.org/name> ?positionName .\n",
                "    \n",
                "?country <http://schema.org/name> ?name .\n",
                "\n",
                "filter regex (?positionName, '.*chinese communist party.*', 'i') .\n",
                "}}\n",
                "limit 20\n",
                "\"\"\"\n",
                "run_query(q)"
            ]
        },
        {
            "cell_type": "code",
            "execution_count": 51,
            "id": "b10bbb67-fea1-4acb-8ae1-b2639d25508d",
            "metadata": {},
            "outputs": [
                {
                    "name": "stdout",
                    "output_type": "stream",
                    "text": [
                        "[('countryName', 'Afghanistan'), ('dob', '1909-07-18T00:00:00Z')]\n",
                        "[('countryName', 'Albania'), ('dob', '1844-10-16T00:00:00Z')]\n",
                        "[('countryName', 'Algeria'), ('dob', '1899-08-24T00:00:00Z')]\n",
                        "[('countryName', 'Angola'), ('dob', '1922-09-17T00:00:00Z')]\n",
                        "[('countryName', 'Argentina'), ('dob', '1757-06-18T00:00:00Z')]\n",
                        "[('countryName', 'Armenia'), ('dob', '1945-01-09T00:00:00Z')]\n",
                        "[('countryName', 'Austria'), ('dob', '1858-08-15T00:00:00Z')]\n",
                        "[('countryName', 'Azerbaijan'), ('dob', '1888-07-26T00:00:00Z')]\n",
                        "[('countryName', 'Bangladesh'), ('dob', '1906-01-01T00:00:00Z')]\n",
                        "[('countryName', 'Belarus'), ('dob', '1954-08-30T00:00:00Z')]\n",
                        "[('countryName', 'Benin'), ('dob', '1913-01-01T00:00:00Z')]\n",
                        "[('countryName', 'Bolivia'), ('dob', '1751-07-26T00:00:00Z')]\n",
                        "[('countryName', 'Bosnia and Herzegovina'), ('dob', '1930-07-07T00:00:00Z')]\n",
                        "[('countryName', 'Botswana'), ('dob', '1921-07-01T00:00:00Z')]\n",
                        "[('countryName', 'Brazil'), ('dob', '1827-08-05T00:00:00Z')]\n",
                        "[('countryName', 'Burkina Faso'), ('dob', '1916-01-31T00:00:00Z')]\n",
                        "[('countryName', 'Burundi'), ('dob', '1940-08-26T00:00:00Z')]\n",
                        "[('countryName', 'Cameroon'), ('dob', '1924-08-24T00:00:00Z')]\n",
                        "[('countryName', 'Canada'), ('dob', '1951-08-16T00:00:00Z')]\n",
                        "[('countryName', 'Cape Verde'), ('dob', '1923-11-17T00:00:00Z')]\n",
                        "[('countryName', 'Central African Republic'), ('dob', '1921-02-22T00:00:00Z')]\n",
                        "[('countryName', 'Chad'), ('dob', '1918-06-15T00:00:00Z')]\n",
                        "[('countryName', 'Chechen Republic of Ichkeria'), ('dob', '1944-02-15T00:00:00Z')]\n",
                        "[('countryName', 'Chile'), ('dob', '1775-09-09T00:00:00Z')]\n",
                        "[('countryName', 'Colombia'), ('dob', '1763-03-11T00:00:00Z')]\n",
                        "[('countryName', 'Comoros'), ('dob', '1917-07-02T00:00:00Z')]\n",
                        "[('countryName', 'Confederate States of America'), ('dob', '1808-06-03T00:00:00Z')]\n",
                        "[('countryName', 'Costa Rica'), ('dob', '1784-06-12T00:00:00Z')]\n",
                        "[('countryName', 'Croatia'), ('dob', '1876-05-30T00:00:00Z')]\n",
                        "[('countryName', 'Cuba'), ('dob', '1819-04-18T00:00:00Z')]\n",
                        "[('countryName', 'Cyprus'), ('dob', '1913-08-13T00:00:00Z')]\n",
                        "[('countryName', 'Czech Republic'), ('dob', '1936-10-05T00:00:00Z')]\n",
                        "[('countryName', 'Czechoslovakia'), ('dob', '1850-03-07T00:00:00Z')]\n",
                        "[('countryName', 'Democratic Republic of the Congo'), ('dob', '1910-01-01T00:00:00Z')]\n",
                        "[('countryName', 'Djibouti'), ('dob', '1916-10-15T00:00:00Z')]\n",
                        "[('countryName', 'Dominica'), ('dob', '1904-12-23T00:00:00Z')]\n",
                        "[('countryName', 'Dominican Republic'), ('dob', '1772-03-14T00:00:00Z')]\n",
                        "[('countryName', 'East Timor'), ('dob', '1937-12-03T00:00:00Z')]\n",
                        "[('countryName', 'Egypt'), ('dob', '1901-02-20T00:00:00Z')]\n",
                        "[('countryName', 'El Salvador'), ('dob', '1801-02-15T00:00:00Z')]\n",
                        "[('countryName', 'Equatorial Guinea'), ('dob', '1924-01-01T00:00:00Z')]\n",
                        "[('countryName', 'Eritrea'), ('dob', '1946-02-02T00:00:00Z')]\n",
                        "[('countryName', 'Estonia'), ('dob', '1874-02-23T00:00:00Z')]\n",
                        "[('countryName', 'Ethiopia'), ('dob', '1921-10-01T00:00:00Z')]\n",
                        "[('countryName', 'Federal Republic of Central America'), ('dob', '1754-10-20T00:00:00Z')]\n",
                        "[('countryName', 'Federated States of Micronesia'), ('dob', '1931-11-23T00:00:00Z')]\n",
                        "[('countryName', 'Fiji'), ('dob', '1941-07-05T00:00:00Z')]\n",
                        "[('countryName', 'Finland'), ('dob', '1861-12-15T00:00:00Z')]\n",
                        "[('countryName', 'France'), ('dob', '1797-04-06T00:00:00Z')]\n",
                        "[('countryName', 'Free State of Icaria'), ('dob', '1880-01-01T00:00:00Z')]\n"
                    ]
                },
                {
                    "data": {
                        "text/plain": [
                            "50"
                        ]
                    },
                    "execution_count": 51,
                    "metadata": {},
                    "output_type": "execute_result"
                }
            ],
            "source": [
                "#date of birth of first president in each country\n",
                "\n",
                "#this is the 5th notebook i complete so i already know that retrieving the position via the\n",
                "#\"position held\" property we have available is probably not going to give me information about the order in which\n",
                "#each president was elected\n",
                "#knowing this we simply get the first president to be born in each country\n",
                "q = f\"\"\"\n",
                "select ?countryName (min(?dateOfBirth) as ?dob) where{{\n",
                "?president wdt:P31 wd:Q5 ;\n",
                "    <http://schema.org/name> ?presidentName ;\n",
                "    wdt:P569 ?dateOfBirth ;\n",
                "    wdt:P39 ?position .\n",
                "    \n",
                "?position wdt:P279+ wd:Q30461 .\n",
                "?position wdt:P17 ?country .\n",
                "?country <http://schema.org/name> ?countryName\n",
                "}}\n",
                "order by asc(?countryName)\n",
                "limit 50\n",
                "\"\"\"\n",
                "run_query(q)"
            ]
        },
        {
            "cell_type": "code",
            "execution_count": 53,
            "id": "7a6e37d4-c01a-4524-8485-76326967b96c",
            "metadata": {},
            "outputs": [
                {
                    "name": "stdout",
                    "output_type": "stream",
                    "text": [
                        "[('countryName', 'Afghanistan'), ('name', 'Mohammed Daoud Khan'), ('dateOfBirth', '1909-07-18T00:00:00Z')]\n",
                        "[('countryName', 'Albania'), ('name', 'Ismail Qemali'), ('dateOfBirth', '1844-10-16T00:00:00Z')]\n",
                        "[('countryName', 'Algeria'), ('name', 'Ferhat Abbas'), ('dateOfBirth', '1899-08-24T00:00:00Z')]\n",
                        "[('countryName', 'Angola'), ('name', 'Agostinho Neto'), ('dateOfBirth', '1922-09-17T00:00:00Z')]\n",
                        "[('countryName', 'Argentina'), ('name', 'Gervasio Antonio de Posadas'), ('dateOfBirth', '1757-06-18T00:00:00Z')]\n",
                        "[('countryName', 'Armenia'), ('name', 'Levon Ter-Petrosyan'), ('dateOfBirth', '1945-01-09T00:00:00Z')]\n",
                        "[('countryName', 'Austria'), ('name', 'Michael Hainisch'), ('dateOfBirth', '1858-08-15T00:00:00Z')]\n",
                        "[('countryName', 'Azerbaijan'), ('name', 'Gazanfar Musabekov'), ('dateOfBirth', '1888-07-26T00:00:00Z')]\n",
                        "[('countryName', 'Bangladesh'), ('name', 'Abdus Sattar'), ('dateOfBirth', '1906-01-01T00:00:00Z')]\n",
                        "[('countryName', 'Belarus'), ('name', 'Alexander Lukashenko'), ('dateOfBirth', '1954-08-30T00:00:00Z')]\n",
                        "[('countryName', 'Benin'), ('name', 'Tahirou Congacou'), ('dateOfBirth', '1913-01-01T00:00:00Z')]\n",
                        "[('countryName', 'Bolivia'), ('name', 'Jos\u00e9 Ram\u00f3n de Loayza Pacheco'), ('dateOfBirth', '1751-07-26T00:00:00Z')]\n",
                        "[('countryName', 'Bosnia and Herzegovina'), ('name', 'Biljana Plav\u0161i\u0107'), ('dateOfBirth', '1930-07-07T00:00:00Z')]\n",
                        "[('countryName', 'Botswana'), ('name', 'Seretse Khama'), ('dateOfBirth', '1921-07-01T00:00:00Z')]\n",
                        "[('countryName', 'Brazil'), ('name', 'Deodoro da Fonseca'), ('dateOfBirth', '1827-08-05T00:00:00Z')]\n",
                        "[('countryName', 'Burkina Faso'), ('name', 'Sangoul\u00e9 Lamizana'), ('dateOfBirth', '1916-01-31T00:00:00Z')]\n",
                        "[('countryName', 'Burundi'), ('name', 'Michel Micombero'), ('dateOfBirth', '1940-08-26T00:00:00Z')]\n",
                        "[('countryName', 'Cameroon'), ('name', 'Ahmadou Ahidjo'), ('dateOfBirth', '1924-08-24T00:00:00Z')]\n",
                        "[('countryName', 'Canada'), ('name', 'Irene Mathyssen'), ('dateOfBirth', '1951-08-16T00:00:00Z')]\n",
                        "[('countryName', 'Cape Verde'), ('name', 'Aristides Maria Pereira'), ('dateOfBirth', '1923-11-17T00:00:00Z')]\n",
                        "[('countryName', 'Central African Republic'), ('name', 'Jean-Bedel Bokassa'), ('dateOfBirth', '1921-02-22T00:00:00Z')]\n",
                        "[('countryName', 'Chad'), ('name', 'Fran\u00e7ois Tombalbaye'), ('dateOfBirth', '1918-06-15T00:00:00Z')]\n",
                        "[('countryName', 'Chechen Republic of Ichkeria'), ('name', 'Dzhokhar Dudayev'), ('dateOfBirth', '1944-02-15T00:00:00Z')]\n",
                        "[('countryName', 'Chile'), ('name', 'Francisco Ram\u00f3n Vicu\u00f1a'), ('dateOfBirth', '1775-09-09T00:00:00Z')]\n",
                        "[('countryName', 'Colombia'), ('name', 'Jos\u00e9 Miguel Pey de Andrade'), ('dateOfBirth', '1763-03-11T00:00:00Z')]\n",
                        "[('countryName', 'Comoros'), ('name', 'Mohamed Ahmed'), ('dateOfBirth', '1917-07-02T00:00:00Z')]\n",
                        "[('countryName', 'Confederate States of America'), ('name', 'Jefferson Davis'), ('dateOfBirth', '1808-06-03T00:00:00Z')]\n",
                        "[('countryName', 'Costa Rica'), ('name', 'Juan Mora Fern\u00e1ndez'), ('dateOfBirth', '1784-06-12T00:00:00Z')]\n",
                        "[('countryName', 'Croatia'), ('name', 'Vladimir Nazor'), ('dateOfBirth', '1876-05-30T00:00:00Z')]\n",
                        "[('countryName', 'Cuba'), ('name', 'Carlos Manuel de C\u00e9spedes'), ('dateOfBirth', '1819-04-18T00:00:00Z')]\n",
                        "[('countryName', 'Cyprus'), ('name', 'Makarios III'), ('dateOfBirth', '1913-08-13T00:00:00Z')]\n",
                        "[('countryName', 'Czech Republic'), ('name', 'V\u00e1clav Havel'), ('dateOfBirth', '1936-10-05T00:00:00Z')]\n",
                        "[('countryName', 'Czechoslovakia'), ('name', 'Tom\u00e1\u0161 Garrigue Masaryk'), ('dateOfBirth', '1850-03-07T00:00:00Z')]\n",
                        "[('countryName', 'Democratic Republic of the Congo'), ('name', 'Joseph Kasa-Vubu'), ('dateOfBirth', '1910-01-01T00:00:00Z')]\n",
                        "[('countryName', 'Djibouti'), ('name', 'Hassan Gouled Aptidon'), ('dateOfBirth', '1916-10-15T00:00:00Z')]\n",
                        "[('countryName', 'Dominica'), ('name', 'Aurelius Marie'), ('dateOfBirth', '1904-12-23T00:00:00Z')]\n",
                        "[('countryName', 'Dominican Republic'), ('name', 'Jos\u00e9 N\u00fa\u00f1ez de C\u00e1ceres'), ('dateOfBirth', '1772-03-14T00:00:00Z')]\n",
                        "[('countryName', 'East Timor'), ('name', 'Francisco Xavier do Amaral'), ('dateOfBirth', '1937-12-03T00:00:00Z')]\n",
                        "[('countryName', 'Egypt'), ('name', 'Mohamed Naguib'), ('dateOfBirth', '1901-02-20T00:00:00Z')]\n",
                        "[('countryName', 'El Salvador'), ('name', 'Joaqu\u00edn Eufrasio Guzm\u00e1n'), ('dateOfBirth', '1801-02-15T00:00:00Z')]\n",
                        "[('countryName', 'Equatorial Guinea'), ('name', 'Francisco Mac\u00edas Nguema'), ('dateOfBirth', '1924-01-01T00:00:00Z')]\n",
                        "[('countryName', 'Eritrea'), ('name', 'Isaias Afwerki'), ('dateOfBirth', '1946-02-02T00:00:00Z')]\n",
                        "[('countryName', 'Estonia'), ('name', 'Konstantin P\u00e4ts'), ('dateOfBirth', '1874-02-23T00:00:00Z')]\n",
                        "[('countryName', 'Ethiopia'), ('name', 'Tafari Benti'), ('dateOfBirth', '1921-10-01T00:00:00Z')]\n",
                        "[('countryName', 'Federal Republic of Central America'), ('name', 'Gabino Ga\u00ednza'), ('dateOfBirth', '1754-10-20T00:00:00Z')]\n",
                        "[('countryName', 'Federated States of Micronesia'), ('name', 'Tosiwo Nakayama'), ('dateOfBirth', '1931-11-23T00:00:00Z')]\n",
                        "[('countryName', 'Fiji'), ('name', 'Epeli Nailatikau'), ('dateOfBirth', '1941-07-05T00:00:00Z')]\n",
                        "[('countryName', 'Finland'), ('name', 'Pehr Evind Svinhufvud'), ('dateOfBirth', '1861-12-15T00:00:00Z')]\n",
                        "[('countryName', 'France'), ('name', 'Claude Alphonse Delangle'), ('dateOfBirth', '1797-04-06T00:00:00Z')]\n",
                        "[('countryName', 'Free State of Icaria'), ('name', 'Ioannis Malahias'), ('dateOfBirth', '1880-01-01T00:00:00Z')]\n"
                    ]
                },
                {
                    "data": {
                        "text/plain": [
                            "50"
                        ]
                    },
                    "execution_count": 53,
                    "metadata": {},
                    "output_type": "execute_result"
                }
            ],
            "source": [
                "#that query returns the country and the minimum date of birth for a president\n",
                "#let's return also the president\n",
                "\n",
                "subQ = f\"\"\"\n",
                "select ?country (min(?dateOfBirth) as ?minDob) where{{\n",
                "?president wdt:P31 wd:Q5 ;\n",
                "    wdt:P569 ?dateOfBirth ;\n",
                "    wdt:P39 ?position .\n",
                "    \n",
                "?position wdt:P279+ wd:Q30461 .\n",
                "?position wdt:P17 ?country .\n",
                "}}\n",
                "\"\"\"\n",
                "\n",
                "q = f\"\"\"\n",
                "select distinct ?countryName ?name ?dateOfBirth where{{\n",
                "?president wdt:P31 wd:Q5 ;\n",
                "    wdt:P569 ?dateOfBirth ;\n",
                "    <http://schema.org/name> ?name ;\n",
                "    wdt:P39 ?position .\n",
                "    \n",
                "?position wdt:P279+ wd:Q30461 .\n",
                "?position wdt:P17 ?c .\n",
                "\n",
                "    {{\n",
                "        select ?country (min(?dateOfBirth) as ?minDob) where{{\n\n?president wdt:P31 wd:Q5 ;\n\n    wdt:P569 ?dateOfBirth ;\n\n    wdt:P39 ?position .\n\n    \n\n?position wdt:P279+ wd:Q30461 .\n\n?position wdt:P17 ?country .\n\n}}\n\n\n\n",
                "    }}\n",
                "    \n",
                "?c <http://schema.org/name> ?countryName\n",
                "    \n",
                "filter(?dateOfBirth = ?minDob && ?c = ?country)\n",
                "\n",
                "}}\n",
                "order by asc(?countryName)\n",
                "limit 50\n",
                "\"\"\"\n",
                "\n",
                "run_query(q)"
            ]
        },
        {
            "cell_type": "code",
            "execution_count": 54,
            "id": "af128cb8-eaeb-471a-9326-48ad99a675b0",
            "metadata": {},
            "outputs": [
                {
                    "name": "stdout",
                    "output_type": "stream",
                    "text": [
                        "[('countryName', 'Italy'), ('name', 'Niccol\u00f2 Nobili'), ('dateOfBirth', '1830-12-15T00:00:00Z')]\n",
                        "[('countryName', 'Kingdom of Italy'), ('name', 'Niccol\u00f2 Nobili'), ('dateOfBirth', '1830-12-15T00:00:00Z')]\n"
                    ]
                },
                {
                    "data": {
                        "text/plain": [
                            "2"
                        ]
                    },
                    "execution_count": 54,
                    "metadata": {},
                    "output_type": "execute_result"
                }
            ],
            "source": [
                "#let's look for italy\n",
                "subQ = f\"\"\"\n",
                "select ?country (min(?dateOfBirth) as ?minDob) where{{\n",
                "?president wdt:P31 wd:Q5 ;\n",
                "    wdt:P569 ?dateOfBirth ;\n",
                "    wdt:P39 ?position .\n",
                "    \n",
                "?position wdt:P279+ wd:Q30461 .\n",
                "?position wdt:P17 ?country .\n",
                "}}\n",
                "\"\"\"\n",
                "\n",
                "q = f\"\"\"\n",
                "select distinct ?countryName ?name ?dateOfBirth where{{\n",
                "?president wdt:P31 wd:Q5 ;\n",
                "    wdt:P569 ?dateOfBirth ;\n",
                "    <http://schema.org/name> ?name ;\n",
                "    wdt:P39 ?position .\n",
                "    \n",
                "?position wdt:P279+ wd:Q30461 .\n",
                "?position wdt:P17 ?c .\n",
                "\n",
                "    {{\n",
                "        select ?country (min(?dateOfBirth) as ?minDob) where{{\n\n?president wdt:P31 wd:Q5 ;\n\n    wdt:P569 ?dateOfBirth ;\n\n    wdt:P39 ?position .\n\n    \n\n?position wdt:P279+ wd:Q30461 .\n\n?position wdt:P17 ?country .\n\n}}\n\n\n\n",
                "    }}\n",
                "    \n",
                "?c <http://schema.org/name> ?countryName\n",
                "    \n",
                "filter(?dateOfBirth = ?minDob && ?c = ?country).\n",
                "filter regex(?countryName, 'Italy')\n",
                "\n",
                "}}\n",
                "order by asc(?countryName)\n",
                "limit 50\n",
                "\"\"\"\n",
                "\n",
                "run_query(q)"
            ]
        },
        {
            "cell_type": "code",
            "execution_count": 56,
            "id": "6bd129ec-25b9-43f9-b735-bba8106d1545",
            "metadata": {},
            "outputs": [
                {
                    "name": "stdout",
                    "output_type": "stream",
                    "text": [
                        "Empty\n"
                    ]
                },
                {
                    "data": {
                        "text/plain": [
                            "0"
                        ]
                    },
                    "execution_count": 56,
                    "metadata": {},
                    "output_type": "execute_result"
                }
            ],
            "source": [
                "#can't find much for this person on google. Let's try with \"Presidente della Repubblica Italiana\"\n",
                "subQ = f\"\"\"\n",
                "select ?country (min(?dateOfBirth) as ?minDob) where{{\n",
                "?president wdt:P31 wd:Q5 ;\n",
                "    wdt:P569 ?dateOfBirth ;\n",
                "    wdt:P39 ?position .\n",
                "    \n",
                "?position wdt:P17 ?country ;\n",
                "    wdt:P31 wd:Q332711\n",
                "}}\n",
                "\"\"\"\n",
                "\n",
                "q = f\"\"\"\n",
                "select distinct ?countryName ?name ?dateOfBirth where{{\n",
                "?president wdt:P31 wd:Q5 ;\n",
                "    wdt:P569 ?dateOfBirth ;\n",
                "    <http://schema.org/name> ?name ;\n",
                "    wdt:P39 ?position .\n",
                "    \n",
                "?position wdt:P17 ?c ;\n",
                "    wdt:P31 wd:Q332711\n",
                "\n",
                "    {{\n",
                "        select ?country (min(?dateOfBirth) as ?minDob) where{{\n\n?president wdt:P31 wd:Q5 ;\n\n    wdt:P569 ?dateOfBirth ;\n\n    wdt:P39 ?position .\n\n    \n\n?position wdt:P17 ?country ;\n\n    wdt:P31 wd:Q332711\n\n}}\n\n\n\n",
                "    }}\n",
                "    \n",
                "?c <http://schema.org/name> ?countryName\n",
                "    \n",
                "filter(?dateOfBirth = ?minDob && ?c = ?country).\n",
                "filter regex(?countryName, 'Italy')\n",
                "\n",
                "}}\n",
                "order by asc(?countryName)\n",
                "limit 50\n",
                "\"\"\"\n",
                "\n",
                "run_query(q)"
            ]
        },
        {
            "cell_type": "code",
            "execution_count": 60,
            "id": "7f2ab3cb-844f-4019-a6f7-3729074a17cf",
            "metadata": {},
            "outputs": [
                {
                    "name": "stdout",
                    "output_type": "stream",
                    "text": [
                        "[('personName', 'Luigi Einaudi'), ('dateOfBirth', '1874-03-24T00:00:00Z')]\n",
                        "[('personName', 'Enrico de Nicola'), ('dateOfBirth', '1877-11-09T00:00:00Z')]\n",
                        "[('personName', 'Giovanni Gronchi'), ('dateOfBirth', '1887-09-10T00:00:00Z')]\n",
                        "[('personName', 'Antonio Segni'), ('dateOfBirth', '1891-02-02T00:00:00Z')]\n",
                        "[('personName', 'Sandro Pertini'), ('dateOfBirth', '1896-09-25T00:00:00Z')]\n",
                        "[('personName', 'Giuseppe Saragat'), ('dateOfBirth', '1898-09-19T00:00:00Z')]\n",
                        "[('personName', 'Giovanni Leone'), ('dateOfBirth', '1908-11-03T00:00:00Z')]\n",
                        "[('personName', 'Oscar Luigi Scalfaro'), ('dateOfBirth', '1918-09-09T00:00:00Z')]\n",
                        "[('personName', 'Carlo Azeglio Ciampi'), ('dateOfBirth', '1920-12-09T00:00:00Z')]\n",
                        "[('personName', 'Giorgio Napolitano'), ('dateOfBirth', '1925-06-29T00:00:00Z')]\n",
                        "[('personName', 'Francesco Cossiga'), ('dateOfBirth', '1928-07-26T00:00:00Z')]\n",
                        "[('personName', 'Sergio Mattarella'), ('dateOfBirth', '1941-07-23T00:00:00Z')]\n"
                    ]
                },
                {
                    "data": {
                        "text/plain": [
                            "12"
                        ]
                    },
                    "execution_count": 60,
                    "metadata": {},
                    "output_type": "execute_result"
                }
            ],
            "source": [
                "#let's use a simpler query\n",
                "q = f\"\"\"\n",
                "select distinct ?personName ?dateOfBirth where{{\n",
                "?president wdt:P31 wd:Q5 ;\n",
                "    wdt:P569 ?dateOfBirth ;\n",
                "    <http://schema.org/name> ?personName ;\n",
                "    wdt:P39 wd:Q332711 .\n",
                "\n",
                "}}\n",
                "order by asc(?dateOfBirth)\n",
                "limit 50\n",
                "\"\"\"\n",
                "run_query(q)"
            ]
        },
        {
            "cell_type": "code",
            "execution_count": 61,
            "id": "84853c07-69af-4a0c-83ac-004f4f16eb56",
            "metadata": {},
            "outputs": [
                {
                    "name": "stdout",
                    "output_type": "stream",
                    "text": [
                        "[('countryName', 'Italy'), ('name', 'Luigi Einaudi'), ('dateOfBirth', '1874-03-24T00:00:00Z')]\n"
                    ]
                },
                {
                    "data": {
                        "text/plain": [
                            "1"
                        ]
                    },
                    "execution_count": 61,
                    "metadata": {},
                    "output_type": "execute_result"
                }
            ],
            "source": [
                "#Query in cell 56 was wrong, let's correct it\n",
                "subQ = f\"\"\"\n",
                "select ?country (min(?dateOfBirth) as ?minDob) where{{\n",
                "?president wdt:P31 wd:Q5 ;\n",
                "    wdt:P569 ?dateOfBirth ;\n",
                "    wdt:P39 ?position .\n",
                "    \n",
                "?position wdt:P17 ?country ;\n",
                "    wdt:P279 wd:Q248577\n",
                "}}\n",
                "\"\"\"\n",
                "\n",
                "q = f\"\"\"\n",
                "select distinct ?countryName ?name ?dateOfBirth where{{\n",
                "?president wdt:P31 wd:Q5 ;\n",
                "    wdt:P569 ?dateOfBirth ;\n",
                "    <http://schema.org/name> ?name ;\n",
                "    wdt:P39 ?position .\n",
                "    \n",
                "?position wdt:P17 ?c ;\n",
                "    wdt:P279 wd:Q248577\n",
                "\n",
                "    {{\n",
                "        select ?country (min(?dateOfBirth) as ?minDob) where{{\n\n?president wdt:P31 wd:Q5 ;\n\n    wdt:P569 ?dateOfBirth ;\n\n    wdt:P39 ?position .\n\n    \n\n?position wdt:P17 ?country ;\n\n    wdt:P279 wd:Q248577\n\n}}\n\n\n\n",
                "    }}\n",
                "    \n",
                "?c <http://schema.org/name> ?countryName\n",
                "    \n",
                "filter(?dateOfBirth = ?minDob && ?c = ?country).\n",
                "filter regex(?countryName, 'Italy')\n",
                "\n",
                "}}\n",
                "order by asc(?countryName)\n",
                "limit 50\n",
                "\"\"\"\n",
                "\n",
                "run_query(q)"
            ]
        },
        {
            "cell_type": "code",
            "execution_count": 62,
            "id": "def8f3c9-8d35-440b-b156-7610855e54d1",
            "metadata": {},
            "outputs": [
                {
                    "name": "stdout",
                    "output_type": "stream",
                    "text": [
                        "[('p', 'http://www.wikidata.org/prop/direct/P6766'), ('name', \"Who's on First ID\")]\n"
                    ]
                },
                {
                    "data": {
                        "text/plain": [
                            "1"
                        ]
                    },
                    "execution_count": 62,
                    "metadata": {},
                    "output_type": "execute_result"
                }
            ],
            "source": [
                "#and of course the second president was born before the first..\n",
                "#maybe a country has a property to the first president?\n",
                "\n",
                "q = f\"\"\"\n",
                "select ?p ?name where{{\n",
                "wd:Q38 ?p ?obj .\n",
                "?p <http://schema.org/name> ?name .\n",
                "filter regex(?name, '.*first.*', 'i') .\n",
                "}}\n",
                "\"\"\"\n",
                "run_query(q)"
            ]
        },
        {
            "cell_type": "code",
            "execution_count": 66,
            "id": "50607390-a907-411e-b70d-6c9996b4ff17",
            "metadata": {},
            "outputs": [
                {
                    "name": "stdout",
                    "output_type": "stream",
                    "text": [
                        "[('personName', 'Giorgio Napolitano'), ('dateOfBirth', '1925-06-29T00:00:00Z')]\n",
                        "[('personName', 'Carlo Azeglio Ciampi'), ('dateOfBirth', '1920-12-09T00:00:00Z')]\n",
                        "[('personName', 'Oscar Luigi Scalfaro'), ('dateOfBirth', '1918-09-09T00:00:00Z')]\n",
                        "[('personName', 'Giovanni Gronchi'), ('dateOfBirth', '1887-09-10T00:00:00Z')]\n",
                        "[('personName', 'Francesco Cossiga'), ('dateOfBirth', '1928-07-26T00:00:00Z')]\n",
                        "[('personName', 'Giuseppe Saragat'), ('dateOfBirth', '1898-09-19T00:00:00Z')]\n",
                        "[('personName', 'Enrico de Nicola'), ('dateOfBirth', '1877-11-09T00:00:00Z')]\n",
                        "[('personName', 'Sandro Pertini'), ('dateOfBirth', '1896-09-25T00:00:00Z')]\n",
                        "[('personName', 'Sergio Mattarella'), ('dateOfBirth', '1941-07-23T00:00:00Z')]\n",
                        "[('personName', 'Luigi Einaudi'), ('dateOfBirth', '1874-03-24T00:00:00Z')]\n",
                        "[('personName', 'Giovanni Leone'), ('dateOfBirth', '1908-11-03T00:00:00Z')]\n",
                        "[('personName', 'Antonio Segni'), ('dateOfBirth', '1891-02-02T00:00:00Z')]\n"
                    ]
                },
                {
                    "data": {
                        "text/plain": [
                            "12"
                        ]
                    },
                    "execution_count": 66,
                    "metadata": {},
                    "output_type": "execute_result"
                }
            ],
            "source": [
                "#maybe not ordering the results will give us the original order\n",
                "q = f\"\"\"\n",
                "select ?personName ?dateOfBirth where{{\n",
                "?person wdt:P31 wd:Q5 ;\n",
                "    wdt:P39 wd:Q332711 ;\n",
                "    wdt:P569 ?dateOfBirth ;\n",
                "    <http://schema.org/name> ?personName\n",
                "}}\n",
                "\"\"\"\n",
                "run_query(q)"
            ]
        },
        {
            "cell_type": "code",
            "execution_count": 69,
            "id": "3b807c50-123a-48f9-944b-9f18127ce78b",
            "metadata": {},
            "outputs": [
                {
                    "name": "stdout",
                    "output_type": "stream",
                    "text": [
                        "[('president', 'http://www.wikidata.org/entity/Q561303'), ('name', 'Nicolas Grunitzky')]\n",
                        "[('president', 'http://www.wikidata.org/entity/Q99522144'), ('name', 'Bah Ndaw')]\n"
                    ]
                },
                {
                    "data": {
                        "text/plain": [
                            "2"
                        ]
                    },
                    "execution_count": 69,
                    "metadata": {},
                    "output_type": "execute_result"
                }
            ],
            "source": [
                "#is \"President of Republic\" superclass actually directly used as \"Position held\" object?\n",
                "q = f\"\"\"\n",
                "select distinct ?president ?name where{{\n",
                "?president wdt:P31 wd:Q5 ;\n",
                "    <http://schema.org/name> ?name ;\n",
                "    wdt:P39 wd:Q248577 .\n",
                "\n",
                "}}\n",
                "limit 50\n",
                "\"\"\"\n",
                "run_query(q)"
            ]
        },
        {
            "cell_type": "code",
            "execution_count": 71,
            "id": "3f01a8f6-95bb-41c6-81ca-209781bffea9",
            "metadata": {},
            "outputs": [
                {
                    "name": "stdout",
                    "output_type": "stream",
                    "text": [
                        "[('name', 'Bah Ndaw'), ('position', 'http://www.wikidata.org/entity/Q1162163'), ('positionName', 'director')]\n",
                        "[('name', 'Bah Ndaw'), ('position', 'http://www.wikidata.org/entity/Q248577'), ('positionName', 'President of the Republic')]\n",
                        "[('name', 'Bah Ndaw'), ('position', 'http://www.wikidata.org/entity/Q2518691'), ('positionName', 'defence minister')]\n",
                        "[('name', 'Bah Ndaw'), ('position', 'http://www.wikidata.org/entity/Q369894'), ('positionName', 'aide-de-camp')]\n",
                        "[('name', 'Nicolas Grunitzky'), ('position', 'http://www.wikidata.org/entity/Q248577'), ('positionName', 'President of the Republic')]\n",
                        "[('name', 'Nicolas Grunitzky'), ('position', 'http://www.wikidata.org/entity/Q28015471'), ('positionName', 'President of Togo')]\n",
                        "[('name', 'Nicolas Grunitzky'), ('position', 'http://www.wikidata.org/entity/Q3044918'), ('positionName', 'member of the French National Assembly')]\n",
                        "[('name', 'Nicolas Grunitzky'), ('position', 'http://www.wikidata.org/entity/Q30100661'), ('positionName', 'Prime Minister of Togo')]\n"
                    ]
                },
                {
                    "data": {
                        "text/plain": [
                            "8"
                        ]
                    },
                    "execution_count": 71,
                    "metadata": {},
                    "output_type": "execute_result"
                }
            ],
            "source": [
                "#do those 2 have other objects regarding the position held?\n",
                "q = f\"\"\"\n",
                "select distinct ?name ?position ?positionName where{{\n",
                "?president wdt:P31 wd:Q5 ;\n",
                "    <http://schema.org/name> ?name ;\n",
                "    wdt:P39 ?position.\n",
                "    \n",
                "?position <http://schema.org/name> ?positionName .\n",
                "\n",
                "filter(?president = wd:Q561303 || ?president = wd:Q99522144).\n",
                "}}\n",
                "order by ?name\n",
                "\"\"\"\n",
                "run_query(q)"
            ]
        },
        {
            "cell_type": "code",
            "execution_count": 72,
            "id": "3ab9f220-7114-4c69-8385-af01830051bc",
            "metadata": {},
            "outputs": [
                {
                    "name": "stdout",
                    "output_type": "stream",
                    "text": [
                        "[('country', 'http://www.wikidata.org/entity/Q783'), ('countryName', 'Honduras'), ('nPres', '83')]\n",
                        "[('country', 'http://www.wikidata.org/entity/Q30'), ('countryName', 'United States of America'), ('nPres', '78')]\n",
                        "[('country', 'http://www.wikidata.org/entity/Q739'), ('countryName', 'Colombia'), ('nPres', '60')]\n",
                        "[('country', 'http://www.wikidata.org/entity/Q96'), ('countryName', 'Mexico'), ('nPres', '59')]\n",
                        "[('country', 'http://www.wikidata.org/entity/Q414'), ('countryName', 'Argentina'), ('nPres', '59')]\n",
                        "[('country', 'http://www.wikidata.org/entity/Q717'), ('countryName', 'Venezuela'), ('nPres', '58')]\n",
                        "[('country', 'http://www.wikidata.org/entity/Q733'), ('countryName', 'Paraguay'), ('nPres', '57')]\n",
                        "[('country', 'http://www.wikidata.org/entity/Q790'), ('countryName', 'Haiti'), ('nPres', '55')]\n",
                        "[('country', 'http://www.wikidata.org/entity/Q419'), ('countryName', 'Peru'), ('nPres', '53')]\n",
                        "[('country', 'http://www.wikidata.org/entity/Q774'), ('countryName', 'Guatemala'), ('nPres', '53')]\n",
                        "[('country', 'http://www.wikidata.org/entity/Q155'), ('countryName', 'Brazil'), ('nPres', '42')]\n",
                        "[('country', 'http://www.wikidata.org/entity/Q800'), ('countryName', 'Costa Rica'), ('nPres', '40')]\n",
                        "[('country', 'http://www.wikidata.org/entity/Q298'), ('countryName', 'Chile'), ('nPres', '37')]\n",
                        "[('country', 'http://www.wikidata.org/entity/Q241'), ('countryName', 'Cuba'), ('nPres', '30')]\n",
                        "[('country', 'http://www.wikidata.org/entity/Q190025'), ('countryName', 'Federal Republic of Central America'), ('nPres', '29')]\n",
                        "[('country', 'http://www.wikidata.org/entity/Q792'), ('countryName', 'El Salvador'), ('nPres', '28')]\n",
                        "[('country', 'http://www.wikidata.org/entity/Q858'), ('countryName', 'Syria'), ('nPres', '25')]\n",
                        "[('country', 'http://www.wikidata.org/entity/Q822'), ('countryName', 'Lebanon'), ('nPres', '22')]\n",
                        "[('country', 'http://www.wikidata.org/entity/Q865'), ('countryName', 'Taiwan'), ('nPres', '21')]\n",
                        "[('country', 'http://www.wikidata.org/entity/Q45'), ('countryName', 'Portugal'), ('nPres', '19')]\n",
                        "[('country', 'http://www.wikidata.org/entity/Q36'), ('countryName', 'Poland'), ('nPres', '19')]\n",
                        "[('country', 'http://www.wikidata.org/entity/Q403'), ('countryName', 'Serbia'), ('nPres', '18')]\n",
                        "[('country', 'http://www.wikidata.org/entity/Q970'), ('countryName', 'Comoros'), ('nPres', '17')]\n",
                        "[('country', 'http://www.wikidata.org/entity/Q225'), ('countryName', 'Bosnia and Herzegovina'), ('nPres', '17')]\n",
                        "[('country', 'http://www.wikidata.org/entity/Q668'), ('countryName', 'India'), ('nPres', '16')]\n",
                        "[('country', 'http://www.wikidata.org/entity/Q928'), ('countryName', 'Philippines'), ('nPres', '16')]\n",
                        "[('country', 'http://www.wikidata.org/entity/Q843'), ('countryName', 'Pakistan'), ('nPres', '15')]\n",
                        "[('country', 'http://www.wikidata.org/entity/Q686'), ('countryName', 'Vanuatu'), ('nPres', '15')]\n",
                        "[('country', 'http://www.wikidata.org/entity/Q1045'), ('countryName', 'Somalia'), ('nPres', '15')]\n",
                        "[('country', 'http://www.wikidata.org/entity/Q711'), ('countryName', 'Mongolia'), ('nPres', '14')]\n",
                        "[('country', 'http://www.wikidata.org/entity/Q41'), ('countryName', 'Greece'), ('nPres', '14')]\n",
                        "[('country', 'http://www.wikidata.org/entity/Q117'), ('countryName', 'Ghana'), ('nPres', '14')]\n",
                        "[('country', 'http://www.wikidata.org/entity/Q1027'), ('countryName', 'Mauritius'), ('nPres', '13')]\n",
                        "[('country', 'http://www.wikidata.org/entity/Q1033'), ('countryName', 'Nigeria'), ('nPres', '13')]\n",
                        "[('country', 'http://www.wikidata.org/entity/Q1036'), ('countryName', 'Uganda'), ('nPres', '12')]\n",
                        "[('country', 'http://www.wikidata.org/entity/Q884'), ('countryName', 'South Korea'), ('nPres', '12')]\n",
                        "[('country', 'http://www.wikidata.org/entity/Q40'), ('countryName', 'Austria'), ('nPres', '12')]\n",
                        "[('country', 'http://www.wikidata.org/entity/Q881'), ('countryName', 'Vietnam'), ('nPres', '12')]\n",
                        "[('country', 'http://www.wikidata.org/entity/Q967'), ('countryName', 'Burundi'), ('nPres', '12')]\n",
                        "[('country', 'http://www.wikidata.org/entity/Q38'), ('countryName', 'Italy'), ('nPres', '12')]\n",
                        "[('country', 'http://www.wikidata.org/entity/Q183'), ('countryName', 'Germany'), ('nPres', '12')]\n",
                        "[('country', 'http://www.wikidata.org/entity/Q224'), ('countryName', 'Croatia'), ('nPres', '12')]\n",
                        "[('country', 'http://www.wikidata.org/entity/Q709'), ('countryName', 'Marshall Islands'), ('nPres', '11')]\n",
                        "[('country', 'http://www.wikidata.org/entity/Q1019'), ('countryName', 'Madagascar'), ('nPres', '11')]\n",
                        "[('country', 'http://www.wikidata.org/entity/Q37'), ('countryName', 'Lithuania'), ('nPres', '11')]\n",
                        "[('country', 'http://www.wikidata.org/entity/Q222'), ('countryName', 'Albania'), ('nPres', '11')]\n",
                        "[('country', 'http://www.wikidata.org/entity/Q211'), ('countryName', 'Latvia'), ('nPres', '10')]\n",
                        "[('country', 'http://www.wikidata.org/entity/Q796'), ('countryName', 'Iraq'), ('nPres', '10')]\n",
                        "[('country', 'http://www.wikidata.org/entity/Q215'), ('countryName', 'Slovenia'), ('nPres', '10')]\n",
                        "[('country', 'http://www.wikidata.org/entity/Q28'), ('countryName', 'Hungary'), ('nPres', '10')]\n"
                    ]
                },
                {
                    "data": {
                        "text/plain": [
                            "50"
                        ]
                    },
                    "execution_count": 72,
                    "metadata": {},
                    "output_type": "execute_result"
                }
            ],
            "source": [
                "#there is 1 person that has position held \"President of the Republic\" without having some other more specific presidency\n",
                "#therefore i shouldn't use the query ?position wdt:P279+ wd:Q248577 since it would ignore that one person\n",
                "#however i still need to bind the variable ?position to retrieve the country relative to that specific presidency\n",
                "#an alternative would be to retrieve the country of the person and not of the presidency, but it may return wrong results\n",
                "#it's better to count one person less than to have more imprecise results\n",
                "\n",
                "#3.2 How many presidents did each country have?\n",
                "q = f\"\"\"\n",
                "select ?country ?countryName (count(?president) as ?nPres) where{{\n",
                "?president wdt:P31 wd:Q5 ;\n",
                "    wdt:P39 ?position .\n",
                "    \n",
                "?position wdt:P279+ wd:Q248577 ;\n",
                "    wdt:P17 ?country .\n",
                "    \n",
                "?country <http://schema.org/name> ?countryName .\n",
                "\n",
                "}}\n",
                "order by desc (?nPres)\n",
                "limit 50\n",
                "\"\"\"\n",
                "run_query(q)"
            ]
        },
        {
            "cell_type": "code",
            "execution_count": 73,
            "id": "4be13cc7-723c-425c-b7c4-91286dd413a2",
            "metadata": {},
            "outputs": [
                {
                    "name": "stdout",
                    "output_type": "stream",
                    "text": [
                        "[('country', 'http://www.wikidata.org/entity/Q783'), ('countryName', 'Honduras'), ('nPres', '83')]\n",
                        "[('country', 'http://www.wikidata.org/entity/Q739'), ('countryName', 'Colombia'), ('nPres', '60')]\n",
                        "[('country', 'http://www.wikidata.org/entity/Q414'), ('countryName', 'Argentina'), ('nPres', '59')]\n",
                        "[('country', 'http://www.wikidata.org/entity/Q96'), ('countryName', 'Mexico'), ('nPres', '59')]\n",
                        "[('country', 'http://www.wikidata.org/entity/Q717'), ('countryName', 'Venezuela'), ('nPres', '58')]\n",
                        "[('country', 'http://www.wikidata.org/entity/Q733'), ('countryName', 'Paraguay'), ('nPres', '57')]\n",
                        "[('country', 'http://www.wikidata.org/entity/Q790'), ('countryName', 'Haiti'), ('nPres', '55')]\n",
                        "[('country', 'http://www.wikidata.org/entity/Q774'), ('countryName', 'Guatemala'), ('nPres', '53')]\n",
                        "[('country', 'http://www.wikidata.org/entity/Q419'), ('countryName', 'Peru'), ('nPres', '53')]\n",
                        "[('country', 'http://www.wikidata.org/entity/Q30'), ('countryName', 'United States of America'), ('nPres', '45')]\n",
                        "[('country', 'http://www.wikidata.org/entity/Q155'), ('countryName', 'Brazil'), ('nPres', '42')]\n",
                        "[('country', 'http://www.wikidata.org/entity/Q800'), ('countryName', 'Costa Rica'), ('nPres', '40')]\n",
                        "[('country', 'http://www.wikidata.org/entity/Q298'), ('countryName', 'Chile'), ('nPres', '37')]\n",
                        "[('country', 'http://www.wikidata.org/entity/Q241'), ('countryName', 'Cuba'), ('nPres', '30')]\n",
                        "[('country', 'http://www.wikidata.org/entity/Q792'), ('countryName', 'El Salvador'), ('nPres', '28')]\n",
                        "[('country', 'http://www.wikidata.org/entity/Q858'), ('countryName', 'Syria'), ('nPres', '25')]\n",
                        "[('country', 'http://www.wikidata.org/entity/Q190025'), ('countryName', 'Federal Republic of Central America'), ('nPres', '25')]\n",
                        "[('country', 'http://www.wikidata.org/entity/Q822'), ('countryName', 'Lebanon'), ('nPres', '22')]\n",
                        "[('country', 'http://www.wikidata.org/entity/Q865'), ('countryName', 'Taiwan'), ('nPres', '21')]\n",
                        "[('country', 'http://www.wikidata.org/entity/Q36'), ('countryName', 'Poland'), ('nPres', '19')]\n",
                        "[('country', 'http://www.wikidata.org/entity/Q45'), ('countryName', 'Portugal'), ('nPres', '19')]\n",
                        "[('country', 'http://www.wikidata.org/entity/Q403'), ('countryName', 'Serbia'), ('nPres', '18')]\n",
                        "[('country', 'http://www.wikidata.org/entity/Q970'), ('countryName', 'Comoros'), ('nPres', '17')]\n",
                        "[('country', 'http://www.wikidata.org/entity/Q225'), ('countryName', 'Bosnia and Herzegovina'), ('nPres', '17')]\n",
                        "[('country', 'http://www.wikidata.org/entity/Q668'), ('countryName', 'India'), ('nPres', '16')]\n",
                        "[('country', 'http://www.wikidata.org/entity/Q928'), ('countryName', 'Philippines'), ('nPres', '16')]\n",
                        "[('country', 'http://www.wikidata.org/entity/Q686'), ('countryName', 'Vanuatu'), ('nPres', '15')]\n",
                        "[('country', 'http://www.wikidata.org/entity/Q843'), ('countryName', 'Pakistan'), ('nPres', '15')]\n",
                        "[('country', 'http://www.wikidata.org/entity/Q1045'), ('countryName', 'Somalia'), ('nPres', '15')]\n",
                        "[('country', 'http://www.wikidata.org/entity/Q117'), ('countryName', 'Ghana'), ('nPres', '14')]\n",
                        "[('country', 'http://www.wikidata.org/entity/Q41'), ('countryName', 'Greece'), ('nPres', '14')]\n",
                        "[('country', 'http://www.wikidata.org/entity/Q711'), ('countryName', 'Mongolia'), ('nPres', '14')]\n",
                        "[('country', 'http://www.wikidata.org/entity/Q1033'), ('countryName', 'Nigeria'), ('nPres', '13')]\n",
                        "[('country', 'http://www.wikidata.org/entity/Q1027'), ('countryName', 'Mauritius'), ('nPres', '13')]\n",
                        "[('country', 'http://www.wikidata.org/entity/Q38'), ('countryName', 'Italy'), ('nPres', '12')]\n",
                        "[('country', 'http://www.wikidata.org/entity/Q1036'), ('countryName', 'Uganda'), ('nPres', '12')]\n",
                        "[('country', 'http://www.wikidata.org/entity/Q884'), ('countryName', 'South Korea'), ('nPres', '12')]\n",
                        "[('country', 'http://www.wikidata.org/entity/Q183'), ('countryName', 'Germany'), ('nPres', '12')]\n",
                        "[('country', 'http://www.wikidata.org/entity/Q224'), ('countryName', 'Croatia'), ('nPres', '12')]\n",
                        "[('country', 'http://www.wikidata.org/entity/Q967'), ('countryName', 'Burundi'), ('nPres', '12')]\n",
                        "[('country', 'http://www.wikidata.org/entity/Q881'), ('countryName', 'Vietnam'), ('nPres', '12')]\n",
                        "[('country', 'http://www.wikidata.org/entity/Q40'), ('countryName', 'Austria'), ('nPres', '12')]\n",
                        "[('country', 'http://www.wikidata.org/entity/Q1019'), ('countryName', 'Madagascar'), ('nPres', '11')]\n",
                        "[('country', 'http://www.wikidata.org/entity/Q709'), ('countryName', 'Marshall Islands'), ('nPres', '11')]\n",
                        "[('country', 'http://www.wikidata.org/entity/Q37'), ('countryName', 'Lithuania'), ('nPres', '11')]\n",
                        "[('country', 'http://www.wikidata.org/entity/Q222'), ('countryName', 'Albania'), ('nPres', '11')]\n",
                        "[('country', 'http://www.wikidata.org/entity/Q796'), ('countryName', 'Iraq'), ('nPres', '10')]\n",
                        "[('country', 'http://www.wikidata.org/entity/Q965'), ('countryName', 'Burkina Faso'), ('nPres', '10')]\n",
                        "[('country', 'http://www.wikidata.org/entity/Q28'), ('countryName', 'Hungary'), ('nPres', '10')]\n",
                        "[('country', 'http://www.wikidata.org/entity/Q334'), ('countryName', 'Singapore'), ('nPres', '10')]\n"
                    ]
                },
                {
                    "data": {
                        "text/plain": [
                            "50"
                        ]
                    },
                    "execution_count": 73,
                    "metadata": {},
                    "output_type": "execute_result"
                }
            ],
            "source": [
                "#there is something wrong. usa has 46 presidents...\n",
                "#is it counting re-elections?\n",
                "q = f\"\"\"\n",
                "select ?country ?countryName (count(distinct ?president) as ?nPres) where{{\n",
                "?president wdt:P31 wd:Q5 ;\n",
                "    wdt:P39 ?position .\n",
                "    \n",
                "?position wdt:P279+ wd:Q248577 ;\n",
                "    wdt:P17 ?country .\n",
                "    \n",
                "?country <http://schema.org/name> ?countryName .\n",
                "\n",
                "}}\n",
                "order by desc (?nPres)\n",
                "limit 50\n",
                "\"\"\"\n",
                "run_query(q)"
            ]
        },
        {
            "cell_type": "code",
            "execution_count": 74,
            "id": "807febf7-9039-4f60-b23f-769d1f9066ce",
            "metadata": {},
            "outputs": [
                {
                    "name": "stdout",
                    "output_type": "stream",
                    "text": [
                        "[('presName', 'Joe Biden')]\n"
                    ]
                },
                {
                    "data": {
                        "text/plain": [
                            "1"
                        ]
                    },
                    "execution_count": 74,
                    "metadata": {},
                    "output_type": "execute_result"
                }
            ],
            "source": [
                "#now usa has 45, the internet says 46. almost perfect. Is joe biden not in this dataset yet?\n",
                "USA = 'wd:Q30'\n",
                "q = f\"\"\"\n",
                "select ?presName where{{\n",
                "?president wdt:P31 wd:Q5 ;\n",
                "    wdt:P39 ?position ;\n",
                "    <http://schema.org/name> ?presName .\n",
                "    \n",
                "?position wdt:P279+ wd:Q248577 ;\n",
                "    wdt:P17 wd:Q30 .\n",
                "    \n",
                "filter regex(?presName, '.*biden.*', 'i').\n",
                "\n",
                "}}\n",
                "order by desc (?nPres)\n",
                "limit 50\n",
                "\"\"\"\n",
                "run_query(q)"
            ]
        },
        {
            "cell_type": "code",
            "execution_count": 76,
            "id": "91b525f9-6114-45e4-8459-6bb330cf60d8",
            "metadata": {},
            "outputs": [
                {
                    "name": "stdout",
                    "output_type": "stream",
                    "text": [
                        "[('presName', 'Abraham Lincoln')]\n",
                        "[('presName', 'Andrew Jackson')]\n",
                        "[('presName', 'Andrew Johnson')]\n",
                        "[('presName', 'Barack Obama')]\n",
                        "[('presName', 'Benjamin Harrison')]\n",
                        "[('presName', 'Bill Clinton')]\n",
                        "[('presName', 'Calvin Coolidge')]\n",
                        "[('presName', 'Chester A. Arthur')]\n",
                        "[('presName', 'Donald Trump')]\n",
                        "[('presName', 'Dwight D. Eisenhower')]\n",
                        "[('presName', 'Franklin Delano Roosevelt')]\n",
                        "[('presName', 'Franklin Pierce')]\n",
                        "[('presName', 'George H. W. Bush')]\n",
                        "[('presName', 'George W. Bush')]\n",
                        "[('presName', 'George Washington')]\n",
                        "[('presName', 'Gerald Ford')]\n",
                        "[('presName', 'Grover Cleveland')]\n",
                        "[('presName', 'Harry S Truman')]\n",
                        "[('presName', 'Herbert Hoover')]\n",
                        "[('presName', 'James A. Garfield')]\n",
                        "[('presName', 'James Buchanan')]\n",
                        "[('presName', 'James K. Polk')]\n",
                        "[('presName', 'James Madison')]\n",
                        "[('presName', 'James Monroe')]\n",
                        "[('presName', 'Jimmy Carter')]\n",
                        "[('presName', 'Joe Biden')]\n",
                        "[('presName', 'John Adams')]\n",
                        "[('presName', 'John F. Kennedy')]\n",
                        "[('presName', 'John Quincy Adams')]\n",
                        "[('presName', 'John Tyler')]\n",
                        "[('presName', 'Lyndon B. Johnson')]\n",
                        "[('presName', 'Martin Van Buren')]\n",
                        "[('presName', 'Millard Fillmore')]\n",
                        "[('presName', 'Richard Nixon')]\n",
                        "[('presName', 'Ronald Reagan')]\n",
                        "[('presName', 'Rutherford B. Hayes')]\n",
                        "[('presName', 'Theodore Roosevelt')]\n",
                        "[('presName', 'Thomas Jefferson')]\n",
                        "[('presName', 'Ulysses S Grant')]\n",
                        "[('presName', 'Warren G. Harding')]\n",
                        "[('presName', 'William Henry Harrison')]\n",
                        "[('presName', 'William Howard Taft')]\n",
                        "[('presName', 'William McKinley')]\n",
                        "[('presName', 'Woodrow Wilson')]\n",
                        "[('presName', 'Zachary Taylor')]\n"
                    ]
                },
                {
                    "data": {
                        "text/plain": [
                            "45"
                        ]
                    },
                    "execution_count": 76,
                    "metadata": {},
                    "output_type": "execute_result"
                }
            ],
            "source": [
                "#let's list them all and check manually\n",
                "q = f\"\"\"\n",
                "select distinct ?presName where{{\n",
                "?president wdt:P31 wd:Q5 ;\n",
                "    wdt:P39 ?position ;\n",
                "    <http://schema.org/name> ?presName .\n",
                "    \n",
                "?position wdt:P279+ wd:Q248577 ;\n",
                "    wdt:P17 wd:Q30 .\n",
                "    \n",
                "}}\n",
                "order by ?presName\n",
                "limit 50\n",
                "\"\"\"\n",
                "run_query(q)"
            ]
        },
        {
            "cell_type": "code",
            "execution_count": 78,
            "id": "adb76ce6-118b-4ab7-bb41-afefcf8a7b13",
            "metadata": {},
            "outputs": [
                {
                    "name": "stdout",
                    "output_type": "stream",
                    "text": [
                        "[('genderName', 'female')]\n",
                        "[('genderName', 'male')]\n"
                    ]
                },
                {
                    "data": {
                        "text/plain": [
                            "2"
                        ]
                    },
                    "execution_count": 78,
                    "metadata": {},
                    "output_type": "execute_result"
                }
            ],
            "source": [
                "#4 is there a country with a woman president at some point in history?\n",
                "\n",
                "#let's do it in a roundabout way\n",
                "#list all genders of every president of the republic\n",
                "\n",
                "q = f\"\"\"\n",
                "select distinct ?genderName where{{\n",
                "?person wdt:P31 wd:Q5 ;\n",
                "    wdt:P39/wdt:P279* wd:Q248577 .\n",
                "    \n",
                "?person wdt:P21 ?gender .\n",
                "?gender <http://schema.org/name> ?genderName .\n",
                "}}\n",
                "\"\"\"\n",
                "run_query(q)"
            ]
        },
        {
            "cell_type": "code",
            "execution_count": 81,
            "id": "2d3a873c-5e88-49e8-a5ac-f0028914c1cd",
            "metadata": {},
            "outputs": [
                {
                    "name": "stdout",
                    "output_type": "stream",
                    "text": [
                        "[('countryName', 'Argentina')]\n",
                        "[('countryName', 'Bosnia and Herzegovina')]\n",
                        "[('countryName', 'Brazil')]\n",
                        "[('countryName', 'Burundi')]\n",
                        "[('countryName', 'Central African Republic')]\n",
                        "[('countryName', 'Costa Rica')]\n",
                        "[('countryName', 'Croatia')]\n",
                        "[('countryName', 'Estonia')]\n",
                        "[('countryName', 'Ethiopia')]\n",
                        "[('countryName', 'Georgia')]\n",
                        "[('countryName', 'Greece')]\n",
                        "[('countryName', 'Guyana')]\n",
                        "[('countryName', 'Haiti')]\n",
                        "[('countryName', 'Iceland')]\n",
                        "[('countryName', 'India')]\n",
                        "[('countryName', 'Indonesia')]\n",
                        "[('countryName', 'Kosovo')]\n",
                        "[('countryName', 'Kyrgyzstan')]\n",
                        "[('countryName', 'Latvia')]\n",
                        "[('countryName', 'Lithuania')]\n",
                        "[('countryName', 'Marshall Islands')]\n",
                        "[('countryName', 'Mauritius')]\n",
                        "[('countryName', 'Moldova')]\n",
                        "[('countryName', 'Mongolia')]\n",
                        "[('countryName', 'Nepal')]\n",
                        "[('countryName', 'Philippines')]\n",
                        "[('countryName', 'Poland')]\n",
                        "[('countryName', 'Serbia')]\n",
                        "[('countryName', 'Singapore')]\n",
                        "[('countryName', 'South Africa')]\n",
                        "[('countryName', 'South Korea')]\n",
                        "[('countryName', 'Sri Lanka')]\n",
                        "[('countryName', 'Taiwan')]\n",
                        "[('countryName', 'Tanzania')]\n",
                        "[('countryName', 'Trinidad and Tobago')]\n",
                        "[('countryName', 'Vietnam')]\n"
                    ]
                },
                {
                    "data": {
                        "text/plain": [
                            "36"
                        ]
                    },
                    "execution_count": 81,
                    "metadata": {},
                    "output_type": "execute_result"
                }
            ],
            "source": [
                "#let's now list those countries\n",
                "q = f\"\"\"\n",
                "select distinct ?countryName where{{\n",
                "?person wdt:P31 wd:Q5 ;\n",
                "    wdt:P21 ?gender ;\n",
                "    wdt:P39 ?position .\n",
                "    \n",
                "?position wdt:P279+ wd:Q248577 ;\n",
                "    wdt:P17 ?country .\n",
                "    \n",
                "?country <http://schema.org/name> ?countryName .\n",
                "\n",
                "?gender <http://schema.org/name> ?genderName .\n",
                "filter regex(?genderName, 'female') .\n",
                "}}\n",
                "order by asc(?countryName)\n",
                "limit 50\n",
                "\"\"\"\n",
                "run_query(q)"
            ]
        },
        {
            "cell_type": "code",
            "execution_count": 82,
            "id": "844f3e30-c490-4313-81e5-7450af7d89ef",
            "metadata": {},
            "outputs": [
                {
                    "name": "stdout",
                    "output_type": "stream",
                    "text": [
                        "[('countryName', 'Argentina'), ('name', 'Cristina Fern\u00e1ndez de Kirchner')]\n",
                        "[('countryName', 'Argentina'), ('name', 'Isabel Mart\u00ednez de Per\u00f3n')]\n",
                        "[('countryName', 'Bosnia and Herzegovina'), ('name', 'Biljana Plav\u0161i\u0107')]\n",
                        "[('countryName', 'Bosnia and Herzegovina'), ('name', '\u017deljka Cvijanovi\u0107')]\n",
                        "[('countryName', 'Bosnia and Herzegovina'), ('name', 'Srebrenka Goli\u0107')]\n",
                        "[('countryName', 'Brazil'), ('name', 'Dilma Rousseff')]\n",
                        "[('countryName', 'Burundi'), ('name', 'Sylvie Kinigi')]\n",
                        "[('countryName', 'Central African Republic'), ('name', 'Catherine Samba-Panza')]\n",
                        "[('countryName', 'Costa Rica'), ('name', 'Laura Chinchilla')]\n",
                        "[('countryName', 'Croatia'), ('name', 'Ema Derossi-Bjelajac')]\n",
                        "[('countryName', 'Croatia'), ('name', 'Kolinda Grabar-Kitarovi\u0107')]\n",
                        "[('countryName', 'Estonia'), ('name', 'Kersti Kaljulaid')]\n",
                        "[('countryName', 'Ethiopia'), ('name', 'Sahle-Work Zewde')]\n",
                        "[('countryName', 'Georgia'), ('name', 'Salome Zurabishvili')]\n",
                        "[('countryName', 'Georgia'), ('name', 'Nino Burjanadze')]\n",
                        "[('countryName', 'Greece'), ('name', 'Katerina Sakellaropoulou')]\n",
                        "[('countryName', 'Guyana'), ('name', 'Janet Jagan')]\n",
                        "[('countryName', 'Haiti'), ('name', 'Ertha Pascal-Trouillot')]\n",
                        "[('countryName', 'Iceland'), ('name', 'Vigd\u00eds Finnbogad\u00f3ttir')]\n",
                        "[('countryName', 'India'), ('name', 'Pratibha Patil')]\n",
                        "[('countryName', 'Indonesia'), ('name', 'Megawati Sukarnoputri')]\n",
                        "[('countryName', 'Kosovo'), ('name', 'Vjosa Osmani')]\n",
                        "[('countryName', 'Kosovo'), ('name', 'Atifete Jahjaga')]\n",
                        "[('countryName', 'Kyrgyzstan'), ('name', 'Roza Otunbayeva')]\n",
                        "[('countryName', 'Latvia'), ('name', 'Vaira V\u012b\u0137e-Freiberga')]\n",
                        "[('countryName', 'Lithuania'), ('name', 'Dalia Grybauskait\u0117')]\n",
                        "[('countryName', 'Marshall Islands'), ('name', 'Hilda C. Heine')]\n",
                        "[('countryName', 'Mauritius'), ('name', 'Ameenah Gurib-Fakim')]\n",
                        "[('countryName', 'Mauritius'), ('name', 'Monique Ohsan Bellepeau')]\n",
                        "[('countryName', 'Moldova'), ('name', 'Maia Sandu')]\n",
                        "[('countryName', 'Mongolia'), ('name', 'S\u00fckhbaataryn Yanjmaa')]\n",
                        "[('countryName', 'Nepal'), ('name', 'Bidya Devi Bhandari')]\n",
                        "[('countryName', 'Philippines'), ('name', 'Corazon Aquino')]\n",
                        "[('countryName', 'Philippines'), ('name', 'Gloria Macapagal-Arroyo')]\n",
                        "[('countryName', 'Poland'), ('name', 'Bona Sforza')]\n",
                        "[('countryName', 'Serbia'), ('name', 'Slavica \u0110uki\u0107 Dejanovi\u0107')]\n",
                        "[('countryName', 'Serbia'), ('name', 'Nata\u0161a Mi\u0107i\u0107')]\n",
                        "[('countryName', 'Singapore'), ('name', 'Halimah Yacob')]\n",
                        "[('countryName', 'South Africa'), ('name', 'Ivy Matsepe-Casaburri')]\n",
                        "[('countryName', 'South Korea'), ('name', 'Park Geun-hye')]\n",
                        "[('countryName', 'Sri Lanka'), ('name', 'Chandrika Kumaratunga')]\n",
                        "[('countryName', 'Taiwan'), ('name', 'Tsai Ing-wen')]\n",
                        "[('countryName', 'Tanzania'), ('name', 'Samia Suluhu')]\n",
                        "[('countryName', 'Trinidad and Tobago'), ('name', 'Paula-Mae Weekes')]\n",
                        "[('countryName', 'Vietnam'), ('name', '\u0110\u1eb7ng Th\u1ecb Ng\u1ecdc Th\u1ecbnh')]\n"
                    ]
                },
                {
                    "data": {
                        "text/plain": [
                            "45"
                        ]
                    },
                    "execution_count": 82,
                    "metadata": {},
                    "output_type": "execute_result"
                }
            ],
            "source": [
                "#let's see the name of those people\n",
                "q = f\"\"\"\n",
                "select distinct ?countryName ?name where{{\n",
                "?person wdt:P31 wd:Q5 ;\n",
                "    wdt:P21 ?gender ;\n",
                "    <http://schema.org/name> ?name ;\n",
                "    wdt:P39 ?position .\n",
                "    \n",
                "?position wdt:P279+ wd:Q248577 ;\n",
                "    wdt:P17 ?country .\n",
                "    \n",
                "?country <http://schema.org/name> ?countryName .\n",
                "\n",
                "?gender <http://schema.org/name> ?genderName .\n",
                "filter regex(?genderName, 'female') .\n",
                "}}\n",
                "order by asc(?countryName)\n",
                "limit 50\n",
                "\"\"\"\n",
                "run_query(q)"
            ]
        },
        {
            "cell_type": "code",
            "execution_count": 83,
            "id": "2da7f46b-af22-4bcf-8ecd-77a94f693afc",
            "metadata": {},
            "outputs": [
                {
                    "name": "stdout",
                    "output_type": "stream",
                    "text": [
                        "[('country', 'http://www.wikidata.org/entity/Q783'), ('countryName', 'Honduras'), ('nPres', '83')]\n",
                        "[('country', 'http://www.wikidata.org/entity/Q739'), ('countryName', 'Colombia'), ('nPres', '60')]\n",
                        "[('country', 'http://www.wikidata.org/entity/Q414'), ('countryName', 'Argentina'), ('nPres', '59')]\n",
                        "[('country', 'http://www.wikidata.org/entity/Q96'), ('countryName', 'Mexico'), ('nPres', '59')]\n",
                        "[('country', 'http://www.wikidata.org/entity/Q717'), ('countryName', 'Venezuela'), ('nPres', '58')]\n"
                    ]
                },
                {
                    "data": {
                        "text/plain": [
                            "5"
                        ]
                    },
                    "execution_count": 83,
                    "metadata": {},
                    "output_type": "execute_result"
                }
            ],
            "source": [
                "#point 5.1 was answered in a previous query\n",
                "#let's re-write that\n",
                "q = f\"\"\"\n",
                "select ?country ?countryName (count(distinct ?president) as ?nPres) where{{\n",
                "?president wdt:P31 wd:Q5 ;\n",
                "    wdt:P39 ?position .\n",
                "    \n",
                "?position wdt:P279+ wd:Q248577 ;\n",
                "    wdt:P17 ?country .\n",
                "    \n",
                "?country <http://schema.org/name> ?countryName .\n",
                "\n",
                "}}\n",
                "order by desc (?nPres)\n",
                "limit 5\n",
                "\"\"\"\n",
                "run_query(q)"
            ]
        },
        {
            "cell_type": "code",
            "execution_count": 84,
            "id": "3fd4b313-dd17-473b-88df-b13d1c2717ec",
            "metadata": {},
            "outputs": [
                {
                    "name": "stdout",
                    "output_type": "stream",
                    "text": [
                        "[('country', 'http://www.wikidata.org/entity/Q783'), ('countryName', 'Honduras'), ('howmany', '73')]\n",
                        "[('country', 'http://www.wikidata.org/entity/Q414'), ('countryName', 'Argentina'), ('howmany', '60')]\n",
                        "[('country', 'http://www.wikidata.org/entity/Q717'), ('countryName', 'Venezuela'), ('howmany', '58')]\n",
                        "[('country', 'http://www.wikidata.org/entity/Q739'), ('countryName', 'Colombia'), ('howmany', '58')]\n",
                        "[('country', 'http://www.wikidata.org/entity/Q96'), ('countryName', 'Mexico'), ('howmany', '52')]\n",
                        "[('country', 'http://www.wikidata.org/entity/Q733'), ('countryName', 'Paraguay'), ('howmany', '51')]\n",
                        "[('country', 'http://www.wikidata.org/entity/Q790'), ('countryName', 'Haiti'), ('howmany', '50')]\n",
                        "[('country', 'http://www.wikidata.org/entity/Q774'), ('countryName', 'Guatemala'), ('howmany', '45')]\n",
                        "[('country', 'http://www.wikidata.org/entity/Q419'), ('countryName', 'Peru'), ('howmany', '44')]\n",
                        "[('country', 'http://www.wikidata.org/entity/Q30'), ('countryName', 'United States of America'), ('howmany', '39')]\n",
                        "[('country', 'http://www.wikidata.org/entity/Q155'), ('countryName', 'Brazil'), ('howmany', '38')]\n",
                        "[('country', 'http://www.wikidata.org/entity/Q298'), ('countryName', 'Chile'), ('howmany', '34')]\n",
                        "[('country', 'http://www.wikidata.org/entity/Q800'), ('countryName', 'Costa Rica'), ('howmany', '33')]\n",
                        "[('country', 'http://www.wikidata.org/entity/Q241'), ('countryName', 'Cuba'), ('howmany', '28')]\n",
                        "[('country', 'http://www.wikidata.org/entity/Q858'), ('countryName', 'Syria'), ('howmany', '24')]\n",
                        "[('country', 'http://www.wikidata.org/entity/Q190025'), ('countryName', 'Federal Republic of Central America'), ('howmany', '22')]\n",
                        "[('country', 'http://www.wikidata.org/entity/Q792'), ('countryName', 'El Salvador'), ('howmany', '21')]\n",
                        "[('country', 'http://www.wikidata.org/entity/Q865'), ('countryName', 'Taiwan'), ('howmany', '19')]\n",
                        "[('country', 'http://www.wikidata.org/entity/Q45'), ('countryName', 'Portugal'), ('howmany', '16')]\n",
                        "[('country', 'http://www.wikidata.org/entity/Q822'), ('countryName', 'Lebanon'), ('howmany', '16')]\n",
                        "[('country', 'http://www.wikidata.org/entity/Q36'), ('countryName', 'Poland'), ('howmany', '15')]\n",
                        "[('country', 'http://www.wikidata.org/entity/Q668'), ('countryName', 'India'), ('howmany', '14')]\n",
                        "[('country', 'http://www.wikidata.org/entity/Q928'), ('countryName', 'Philippines'), ('howmany', '12')]\n",
                        "[('country', 'http://www.wikidata.org/entity/Q41'), ('countryName', 'Greece'), ('howmany', '11')]\n",
                        "[('country', 'http://www.wikidata.org/entity/Q117'), ('countryName', 'Ghana'), ('howmany', '11')]\n",
                        "[('country', 'http://www.wikidata.org/entity/Q38'), ('countryName', 'Italy'), ('howmany', '10')]\n",
                        "[('country', 'http://www.wikidata.org/entity/Q40'), ('countryName', 'Austria'), ('howmany', '10')]\n",
                        "[('country', 'http://www.wikidata.org/entity/Q1036'), ('countryName', 'Uganda'), ('howmany', '10')]\n",
                        "[('country', 'http://www.wikidata.org/entity/Q843'), ('countryName', 'Pakistan'), ('howmany', '9')]\n",
                        "[('country', 'http://www.wikidata.org/entity/Q970'), ('countryName', 'Comoros'), ('howmany', '9')]\n",
                        "[('country', 'http://www.wikidata.org/entity/Q183'), ('countryName', 'Germany'), ('howmany', '8')]\n",
                        "[('country', 'http://www.wikidata.org/entity/Q403'), ('countryName', 'Serbia'), ('howmany', '8')]\n",
                        "[('country', 'http://www.wikidata.org/entity/Q711'), ('countryName', 'Mongolia'), ('howmany', '8')]\n",
                        "[('country', 'http://www.wikidata.org/entity/Q784'), ('countryName', 'Dominica'), ('howmany', '8')]\n",
                        "[('country', 'http://www.wikidata.org/entity/Q215'), ('countryName', 'Slovenia'), ('howmany', '7')]\n",
                        "[('country', 'http://www.wikidata.org/entity/Q796'), ('countryName', 'Iraq'), ('howmany', '7')]\n",
                        "[('country', 'http://www.wikidata.org/entity/Q1045'), ('countryName', 'Somalia'), ('howmany', '7')]\n",
                        "[('country', 'http://www.wikidata.org/entity/Q884'), ('countryName', 'South Korea'), ('howmany', '7')]\n",
                        "[('country', 'http://www.wikidata.org/entity/Q28'), ('countryName', 'Hungary'), ('howmany', '6')]\n",
                        "[('country', 'http://www.wikidata.org/entity/Q967'), ('countryName', 'Burundi'), ('howmany', '6')]\n",
                        "[('country', 'http://www.wikidata.org/entity/Q1019'), ('countryName', 'Madagascar'), ('howmany', '6')]\n",
                        "[('country', 'http://www.wikidata.org/entity/Q37'), ('countryName', 'Lithuania'), ('howmany', '6')]\n",
                        "[('country', 'http://www.wikidata.org/entity/Q252'), ('countryName', 'Indonesia'), ('howmany', '6')]\n",
                        "[('country', 'http://www.wikidata.org/entity/Q148'), ('countryName', \"People's Republic of China\"), ('howmany', '6')]\n",
                        "[('country', 'http://www.wikidata.org/entity/Q334'), ('countryName', 'Singapore'), ('howmany', '6')]\n",
                        "[('country', 'http://www.wikidata.org/entity/Q686'), ('countryName', 'Vanuatu'), ('howmany', '6')]\n",
                        "[('country', 'http://www.wikidata.org/entity/Q224'), ('countryName', 'Croatia'), ('howmany', '6')]\n",
                        "[('country', 'http://www.wikidata.org/entity/Q709'), ('countryName', 'Marshall Islands'), ('howmany', '6')]\n",
                        "[('country', 'http://www.wikidata.org/entity/Q881'), ('countryName', 'Vietnam'), ('howmany', '6')]\n",
                        "[('country', 'http://www.wikidata.org/entity/Q1033'), ('countryName', 'Nigeria'), ('howmany', '6')]\n"
                    ]
                },
                {
                    "data": {
                        "text/plain": [
                            "50"
                        ]
                    },
                    "execution_count": 84,
                    "metadata": {},
                    "output_type": "execute_result"
                }
            ],
            "source": [
                "#to answer point 5.2: for how many presidents do we know the date of death in each country?\n",
                "#we need to use a subquery to select each president only once\n",
                "\n",
                "subQ = f\"\"\"\n",
                "select distinct ?country ?president ?dateOfDeath where{{\n",
                "?president wdt:P31 wd:Q5 ;\n",
                "    wdt:P570 ?dateOfDeath ;\n",
                "    wdt:P39 ?position .\n",
                "    \n",
                "?position wdt:P279+ wd:Q248577 ;\n",
                "    wdt:P17 ?country .\n",
                "}}\n",
                "\"\"\"\n",
                "\n",
                "q = f\"\"\"\n",
                "select ?country ?countryName (count(?dateOfDeath) as ?howmany) where{{\n",
                "?country <http://schema.org/name> ?countryName .\n",
                "    {{\n",
                "        select distinct ?country ?president ?dateOfDeath where{{\n\n?president wdt:P31 wd:Q5 ;\n\n    wdt:P570 ?dateOfDeath ;\n\n    wdt:P39 ?position .\n\n    \n\n?position wdt:P279+ wd:Q248577 ;\n\n    wdt:P17 ?country .\n\n}}\n\n\n\n",
                "    }}\n",
                "}}\n",
                "group by ?country ?countryName\n",
                "order by desc(?howmany)\n",
                "limit 50\n",
                "\"\"\"\n",
                "run_query(q)"
            ]
        },
        {
            "cell_type": "code",
            "execution_count": 85,
            "id": "8977ac76-4032-4e54-9799-adb882e4c110",
            "metadata": {},
            "outputs": [
                {
                    "name": "stdout",
                    "output_type": "stream",
                    "text": [
                        "[('property', 'http://www.wikidata.org/prop/direct/P9871'), ('name', 'INAPP author ID')]\n",
                        "[('property', 'http://www.wikidata.org/prop/direct/P9791'), ('name', 'ASE person ID')]\n",
                        "[('property', 'http://www.wikidata.org/prop/direct/P5664'), ('name', 'Savoirs ENS ID')]\n",
                        "[('property', 'http://www.wikidata.org/prop/direct/P8648'), ('name', 'Ministry of the Interior of Italy ID')]\n",
                        "[('property', 'http://www.wikidata.org/prop/direct/P1005'), ('name', 'Portuguese National Library ID')]\n",
                        "[('property', 'http://www.wikidata.org/prop/direct/P1006'), ('name', 'Nationale Thesaurus voor Auteurs ID')]\n",
                        "[('property', 'http://www.wikidata.org/prop/direct/P1015'), ('name', 'NORAF ID')]\n",
                        "[('property', 'http://www.wikidata.org/prop/direct/P1017'), ('name', 'Vatican Library ID (former scheme)')]\n",
                        "[('property', 'http://www.wikidata.org/prop/direct/P102'), ('name', 'member of political party')]\n",
                        "[('property', 'http://www.wikidata.org/prop/direct/P103'), ('name', 'native language')]\n",
                        "[('property', 'http://www.wikidata.org/prop/direct/P1035'), ('name', 'honorific suffix')]\n",
                        "[('property', 'http://www.wikidata.org/prop/direct/P1038'), ('name', 'relative')]\n",
                        "[('property', 'http://www.wikidata.org/prop/direct/P1050'), ('name', 'medical condition')]\n",
                        "[('property', 'http://www.wikidata.org/prop/direct/P106'), ('name', 'occupation')]\n",
                        "[('property', 'http://www.wikidata.org/prop/direct/P108'), ('name', 'employer')]\n",
                        "[('property', 'http://www.wikidata.org/prop/direct/P109'), ('name', 'signature')]\n",
                        "[('property', 'http://www.wikidata.org/prop/direct/P1186'), ('name', 'MEP directory ID')]\n",
                        "[('property', 'http://www.wikidata.org/prop/direct/P119'), ('name', 'place of burial')]\n",
                        "[('property', 'http://www.wikidata.org/prop/direct/P1196'), ('name', 'manner of death')]\n",
                        "[('property', 'http://www.wikidata.org/prop/direct/P1207'), ('name', 'NUKAT ID')]\n",
                        "[('property', 'http://www.wikidata.org/prop/direct/P1225'), ('name', 'U.S. National Archives Identifier')]\n",
                        "[('property', 'http://www.wikidata.org/prop/direct/P1229'), ('name', 'Openpolis ID')]\n",
                        "[('property', 'http://www.wikidata.org/prop/direct/P1263'), ('name', 'NNDB people ID')]\n",
                        "[('property', 'http://www.wikidata.org/prop/direct/P1273'), ('name', 'CANTIC ID')]\n",
                        "[('property', 'http://www.wikidata.org/prop/direct/P1280'), ('name', 'CONOR.SI ID')]\n",
                        "[('property', 'http://www.wikidata.org/prop/direct/P1284'), ('name', 'Munzinger person ID')]\n",
                        "[('property', 'http://www.wikidata.org/prop/direct/P1290'), ('name', 'godparent')]\n",
                        "[('property', 'http://www.wikidata.org/prop/direct/P1296'), ('name', 'Gran Enciclop\u00e8dia Catalana ID')]\n",
                        "[('property', 'http://www.wikidata.org/prop/direct/P1315'), ('name', 'NLA Trove ID')]\n",
                        "[('property', 'http://www.wikidata.org/prop/direct/P1340'), ('name', 'eye color')]\n",
                        "[('property', 'http://www.wikidata.org/prop/direct/P1341'), ('name', 'Italian Chamber of Deputies dati ID')]\n",
                        "[('property', 'http://www.wikidata.org/prop/direct/P1343'), ('name', 'described by source')]\n",
                        "[('property', 'http://www.wikidata.org/prop/direct/P1375'), ('name', 'NSK ID')]\n",
                        "[('property', 'http://www.wikidata.org/prop/direct/P140'), ('name', 'religion')]\n",
                        "[('property', 'http://www.wikidata.org/prop/direct/P1412'), ('name', 'languages spoken, written or signed')]\n",
                        "[('property', 'http://www.wikidata.org/prop/direct/P1417'), ('name', 'Encyclop\u00e6dia Britannica Online ID')]\n",
                        "[('property', 'http://www.wikidata.org/prop/direct/P1472'), ('name', 'Commons Creator page')]\n",
                        "[('property', 'http://www.wikidata.org/prop/direct/P1580'), ('name', 'University of Barcelona authority ID')]\n",
                        "[('property', 'http://www.wikidata.org/prop/direct/P1607'), ('name', 'Dialnet author ID')]\n",
                        "[('property', 'http://www.wikidata.org/prop/direct/P166'), ('name', 'award received')]\n",
                        "[('property', 'http://www.wikidata.org/prop/direct/P1695'), ('name', 'NLP ID (unique)')]\n",
                        "[('property', 'http://www.wikidata.org/prop/direct/P1711'), ('name', 'British Museum person or institution ID')]\n",
                        "[('property', 'http://www.wikidata.org/prop/direct/P172'), ('name', 'ethnic group')]\n",
                        "[('property', 'http://www.wikidata.org/prop/direct/P1741'), ('name', 'GTAA ID')]\n",
                        "[('property', 'http://www.wikidata.org/prop/direct/P18'), ('name', 'image')]\n",
                        "[('property', 'http://www.wikidata.org/prop/direct/P1801'), ('name', 'commemorative plaque image')]\n",
                        "[('property', 'http://www.wikidata.org/prop/direct/P1890'), ('name', 'CCAB ID')]\n",
                        "[('property', 'http://www.wikidata.org/prop/direct/P19'), ('name', 'place of birth')]\n",
                        "[('property', 'http://www.wikidata.org/prop/direct/P1953'), ('name', 'Discogs artist ID')]\n",
                        "[('property', 'http://www.wikidata.org/prop/direct/P1986'), ('name', 'Biographical Dictionary of Italian People ID')]\n",
                        "[('property', 'http://www.wikidata.org/prop/direct/P20'), ('name', 'place of death')]\n",
                        "[('property', 'http://www.wikidata.org/prop/direct/P2013'), ('name', 'Facebook ID')]\n",
                        "[('property', 'http://www.wikidata.org/prop/direct/P21'), ('name', 'sex or gender')]\n",
                        "[('property', 'http://www.wikidata.org/prop/direct/P213'), ('name', 'ISNI')]\n",
                        "[('property', 'http://www.wikidata.org/prop/direct/P214'), ('name', 'VIAF ID')]\n",
                        "[('property', 'http://www.wikidata.org/prop/direct/P2163'), ('name', 'FAST ID')]\n",
                        "[('property', 'http://www.wikidata.org/prop/direct/P22'), ('name', 'father')]\n",
                        "[('property', 'http://www.wikidata.org/prop/direct/P227'), ('name', 'GND ID')]\n",
                        "[('property', 'http://www.wikidata.org/prop/direct/P2354'), ('name', 'has list')]\n",
                        "[('property', 'http://www.wikidata.org/prop/direct/P2372'), ('name', 'ODIS ID')]\n",
                        "[('property', 'http://www.wikidata.org/prop/direct/P241'), ('name', 'military branch')]\n",
                        "[('property', 'http://www.wikidata.org/prop/direct/P2435'), ('name', 'PORT person ID')]\n",
                        "[('property', 'http://www.wikidata.org/prop/direct/P244'), ('name', 'Library of Congress authority ID')]\n",
                        "[('property', 'http://www.wikidata.org/prop/direct/P25'), ('name', 'mother')]\n",
                        "[('property', 'http://www.wikidata.org/prop/direct/P2549'), ('name', 'Italian Senate of the Republic ID')]\n",
                        "[('property', 'http://www.wikidata.org/prop/direct/P26'), ('name', 'spouse')]\n",
                        "[('property', 'http://www.wikidata.org/prop/direct/P2600'), ('name', 'Geni.com profile ID')]\n",
                        "[('property', 'http://www.wikidata.org/prop/direct/P2604'), ('name', 'Kinopoisk person ID')]\n",
                        "[('property', 'http://www.wikidata.org/prop/direct/P2605'), ('name', '\u010cSFD person ID')]\n",
                        "[('property', 'http://www.wikidata.org/prop/direct/P2650'), ('name', 'interested in')]\n",
                        "[('property', 'http://www.wikidata.org/prop/direct/P268'), ('name', 'Biblioth\u00e8que nationale de France ID')]\n",
                        "[('property', 'http://www.wikidata.org/prop/direct/P269'), ('name', 'IdRef ID')]\n",
                        "[('property', 'http://www.wikidata.org/prop/direct/P27'), ('name', 'country of citizenship')]\n",
                        "[('property', 'http://www.wikidata.org/prop/direct/P271'), ('name', 'CiNii author ID (books)')]\n",
                        "[('property', 'http://www.wikidata.org/prop/direct/P2732'), ('name', 'Pers\u00e9e author ID')]\n",
                        "[('property', 'http://www.wikidata.org/prop/direct/P2734'), ('name', 'Unz Review author ID')]\n",
                        "[('property', 'http://www.wikidata.org/prop/direct/P2889'), ('name', 'FamilySearch person ID')]\n",
                        "[('property', 'http://www.wikidata.org/prop/direct/P2924'), ('name', 'Great Russian Encyclopedia Online ID')]\n",
                        "[('property', 'http://www.wikidata.org/prop/direct/P2949'), ('name', 'WikiTree person ID')]\n",
                        "[('property', 'http://www.wikidata.org/prop/direct/P3065'), ('name', 'RERO ID')]\n",
                        "[('property', 'http://www.wikidata.org/prop/direct/P31'), ('name', 'instance of')]\n",
                        "[('property', 'http://www.wikidata.org/prop/direct/P3219'), ('name', 'Encyclop\u00e6dia Universalis ID')]\n",
                        "[('property', 'http://www.wikidata.org/prop/direct/P3222'), ('name', 'NE.se ID')]\n",
                        "[('property', 'http://www.wikidata.org/prop/direct/P3280'), ('name', 'BAnQ author ID')]\n",
                        "[('property', 'http://www.wikidata.org/prop/direct/P3348'), ('name', 'National Library of Greece ID')]\n",
                        "[('property', 'http://www.wikidata.org/prop/direct/P3365'), ('name', 'Treccani ID')]\n",
                        "[('property', 'http://www.wikidata.org/prop/direct/P3373'), ('name', 'sibling')]\n",
                        "[('property', 'http://www.wikidata.org/prop/direct/P3430'), ('name', 'SNAC ARK ID')]\n",
                        "[('property', 'http://www.wikidata.org/prop/direct/P345'), ('name', 'IMDb ID')]\n",
                        "[('property', 'http://www.wikidata.org/prop/direct/P3479'), ('name', 'Omni topic ID')]\n",
                        "[('property', 'http://www.wikidata.org/prop/direct/P349'), ('name', 'National Diet Library ID')]\n",
                        "[('property', 'http://www.wikidata.org/prop/direct/P3602'), ('name', 'candidacy in election')]\n",
                        "[('property', 'http://www.wikidata.org/prop/direct/P3630'), ('name', 'Babelio author ID')]\n",
                        "[('property', 'http://www.wikidata.org/prop/direct/P373'), ('name', 'Commons category')]\n",
                        "[('property', 'http://www.wikidata.org/prop/direct/P3762'), ('name', 'openMLOL author ID')]\n",
                        "[('property', 'http://www.wikidata.org/prop/direct/P3794'), ('name', 'Dictionary of Sydney ID')]\n",
                        "[('property', 'http://www.wikidata.org/prop/direct/P39'), ('name', 'position held')]\n",
                        "[('property', 'http://www.wikidata.org/prop/direct/P3935'), ('name', 'Chamber of Deputies of Italy storia ID')]\n",
                        "[('property', 'http://www.wikidata.org/prop/direct/P396'), ('name', 'SBN author ID')]\n",
                        "[('property', 'http://www.wikidata.org/prop/direct/P3987'), ('name', 'SHARE Catalogue author ID')]\n",
                        "[('property', 'http://www.wikidata.org/prop/direct/P40'), ('name', 'child')]\n",
                        "[('property', 'http://www.wikidata.org/prop/direct/P409'), ('name', 'Libraries Australia ID')]\n",
                        "[('property', 'http://www.wikidata.org/prop/direct/P410'), ('name', 'military rank')]\n",
                        "[('property', 'http://www.wikidata.org/prop/direct/P4223'), ('name', \"Treccani's Enciclopedia Italiana ID\")]\n",
                        "[('property', 'http://www.wikidata.org/prop/direct/P4293'), ('name', 'PM20 folder ID')]\n",
                        "[('property', 'http://www.wikidata.org/prop/direct/P4342'), ('name', 'Store norske leksikon ID')]\n",
                        "[('property', 'http://www.wikidata.org/prop/direct/P443'), ('name', 'pronunciation audio')]\n",
                        "[('property', 'http://www.wikidata.org/prop/direct/P4521'), ('name', 'Radio Radicale person ID')]\n",
                        "[('property', 'http://www.wikidata.org/prop/direct/P4527'), ('name', 'UK Parliament thesaurus ID')]\n",
                        "[('property', 'http://www.wikidata.org/prop/direct/P4553'), ('name', 'RA Collections ID')]\n",
                        "[('property', 'http://www.wikidata.org/prop/direct/P4619'), ('name', 'National Library of Brazil ID')]\n",
                        "[('property', 'http://www.wikidata.org/prop/direct/P463'), ('name', 'member of')]\n",
                        "[('property', 'http://www.wikidata.org/prop/direct/P4638'), ('name', 'The Peerage person ID')]\n",
                        "[('property', 'http://www.wikidata.org/prop/direct/P4666'), ('name', 'CineMagia person ID')]\n",
                        "[('property', 'http://www.wikidata.org/prop/direct/P4985'), ('name', 'TMDb person ID')]\n",
                        "[('property', 'http://www.wikidata.org/prop/direct/P5019'), ('name', 'Brockhaus Enzyklop\u00e4die online ID')]\n",
                        "[('property', 'http://www.wikidata.org/prop/direct/P509'), ('name', 'cause of death')]\n",
                        "[('property', 'http://www.wikidata.org/prop/direct/P512'), ('name', 'academic degree')]\n",
                        "[('property', 'http://www.wikidata.org/prop/direct/P5143'), ('name', 'amateur radio callsign')]\n",
                        "[('property', 'http://www.wikidata.org/prop/direct/P5306'), ('name', 'LONSEA ID')]\n",
                        "[('property', 'http://www.wikidata.org/prop/direct/P535'), ('name', 'Find A Grave memorial ID')]\n",
                        "[('property', 'http://www.wikidata.org/prop/direct/P551'), ('name', 'residence')]\n",
                        "[('property', 'http://www.wikidata.org/prop/direct/P569'), ('name', 'date of birth')]\n",
                        "[('property', 'http://www.wikidata.org/prop/direct/P570'), ('name', 'date of death')]\n",
                        "[('property', 'http://www.wikidata.org/prop/direct/P5731'), ('name', 'Angelicum ID')]\n",
                        "[('property', 'http://www.wikidata.org/prop/direct/P5739'), ('name', 'Pontificia Universit\u00e0 della Santa Croce ID')]\n",
                        "[('property', 'http://www.wikidata.org/prop/direct/P607'), ('name', 'conflict')]\n",
                        "[('property', 'http://www.wikidata.org/prop/direct/P6404'), ('name', \"Treccani's Dizionario di Storia ID\")]\n",
                        "[('property', 'http://www.wikidata.org/prop/direct/P6414'), ('name', 'DIZIE ID')]\n",
                        "[('property', 'http://www.wikidata.org/prop/direct/P646'), ('name', 'Freebase ID')]\n",
                        "[('property', 'http://www.wikidata.org/prop/direct/P648'), ('name', 'Open Library ID')]\n",
                        "[('property', 'http://www.wikidata.org/prop/direct/P6706'), ('name', 'De Agostini ID')]\n",
                        "[('property', 'http://www.wikidata.org/prop/direct/P69'), ('name', 'educated at')]\n",
                        "[('property', 'http://www.wikidata.org/prop/direct/P691'), ('name', 'NKCR AUT ID')]\n",
                        "[('property', 'http://www.wikidata.org/prop/direct/P7293'), ('name', 'PLWABN ID')]\n",
                        "[('property', 'http://www.wikidata.org/prop/direct/P734'), ('name', 'family name')]\n",
                        "[('property', 'http://www.wikidata.org/prop/direct/P735'), ('name', 'given name')]\n",
                        "[('property', 'http://www.wikidata.org/prop/direct/P7369'), ('name', 'National Library of Chile ID')]\n",
                        "[('property', 'http://www.wikidata.org/prop/direct/P7666'), ('name', 'Visuotin\u0117 lietuvi\u0173 enciklopedija ID')]\n",
                        "[('property', 'http://www.wikidata.org/prop/direct/P7699'), ('name', 'National Library of Lithuania ID')]\n",
                        "[('property', 'http://www.wikidata.org/prop/direct/P7796'), ('name', 'BeWeb person ID')]\n",
                        "[('property', 'http://www.wikidata.org/prop/direct/P7859'), ('name', 'WorldCat Identities ID')]\n",
                        "[('property', 'http://www.wikidata.org/prop/direct/P7865'), ('name', 'CoBiS author ID')]\n",
                        "[('property', 'http://www.wikidata.org/prop/direct/P7902'), ('name', 'Deutsche Biographie (GND) ID')]\n",
                        "[('property', 'http://www.wikidata.org/prop/direct/P7929'), ('name', 'Roglo person ID')]\n",
                        "[('property', 'http://www.wikidata.org/prop/direct/P7982'), ('name', 'Hrvatska enciklopedija ID')]\n",
                        "[('property', 'http://www.wikidata.org/prop/direct/P803'), ('name', 'professorship')]\n",
                        "[('property', 'http://www.wikidata.org/prop/direct/P8034'), ('name', 'Vatican Library VcBA ID')]\n",
                        "[('property', 'http://www.wikidata.org/prop/direct/P8081'), ('name', 'WBIS ID')]\n",
                        "[('property', 'http://www.wikidata.org/prop/direct/P8179'), ('name', 'Canadiana NCF ID')]\n",
                        "[('property', 'http://www.wikidata.org/prop/direct/P8189'), ('name', 'National Library of Israel J9U ID')]\n",
                        "[('property', 'http://www.wikidata.org/prop/direct/P8286'), ('name', 'Olympedia people ID')]\n",
                        "[('property', 'http://www.wikidata.org/prop/direct/P8349'), ('name', 'Proleksis enciklopedija ID')]\n",
                        "[('property', 'http://www.wikidata.org/prop/direct/P8496'), ('name', 'Archive Site Trinity College Cambridge ID')]\n",
                        "[('property', 'http://www.wikidata.org/prop/direct/P856'), ('name', 'official website')]\n",
                        "[('property', 'http://www.wikidata.org/prop/direct/P8669'), ('name', 'Encyclopaedia Beliana ID')]\n",
                        "[('property', 'http://www.wikidata.org/prop/direct/P8750'), ('name', 'Unione Romana Biblioteche Scientifiche ID')]\n",
                        "[('property', 'http://www.wikidata.org/prop/direct/P8793'), ('name', 'Quirinale ID')]\n",
                        "[('property', 'http://www.wikidata.org/prop/direct/P8848'), ('name', 'CONOR.AL ID')]\n",
                        "[('property', 'http://www.wikidata.org/prop/direct/P8851'), ('name', 'CONOR.SR ID')]\n",
                        "[('property', 'http://www.wikidata.org/prop/direct/P8854'), ('name', 'Salzburgwiki ID')]\n",
                        "[('property', 'http://www.wikidata.org/prop/direct/P8947'), ('name', 'Museo Galileo authority ID')]\n",
                        "[('property', 'http://www.wikidata.org/prop/direct/P898'), ('name', 'IPA transcription')]\n",
                        "[('property', 'http://www.wikidata.org/prop/direct/P902'), ('name', 'HDS ID')]\n",
                        "[('property', 'http://www.wikidata.org/prop/direct/P9085'), ('name', 'Aracne author ID')]\n",
                        "[('property', 'http://www.wikidata.org/prop/direct/P910'), ('name', \"topic's main category\")]\n",
                        "[('property', 'http://www.wikidata.org/prop/direct/P9164'), ('name', 'Svenska Institutet i Rom ID')]\n",
                        "[('property', 'http://www.wikidata.org/prop/direct/P9178'), ('name', 'Biblioteca Franco Serantini ID')]\n",
                        "[('property', 'http://www.wikidata.org/prop/direct/P9179'), ('name', 'Biblioteca Iglesia Nacional Espa\u00f1ola en Roma ID')]\n",
                        "[('property', 'http://www.wikidata.org/prop/direct/P9231'), ('name', 'Archivo Linz de la Transici\u00f3n Espa\u00f1ola ID')]\n",
                        "[('property', 'http://www.wikidata.org/prop/direct/P9267'), ('name', 'ANPI person numeric ID')]\n",
                        "[('property', 'http://www.wikidata.org/prop/direct/P9282'), ('name', 'Catalogue of the Capitular Library of Verona author ID')]\n",
                        "[('property', 'http://www.wikidata.org/prop/direct/P935'), ('name', 'Commons gallery')]\n",
                        "[('property', 'http://www.wikidata.org/prop/direct/P937'), ('name', 'work location')]\n",
                        "[('property', 'http://www.wikidata.org/prop/direct/P94'), ('name', 'coat of arms image')]\n",
                        "[('property', 'http://www.wikidata.org/prop/direct/P949'), ('name', 'National Library of Israel ID')]\n",
                        "[('property', 'http://www.wikidata.org/prop/direct/P950'), ('name', 'Biblioteca Nacional de Espa\u00f1a ID')]\n",
                        "[('property', 'http://www.wikidata.org/prop/direct/P9522'), ('name', 'Biblioteca di Santa Sabina ID')]\n",
                        "[('property', 'http://www.wikidata.org/prop/direct/P9536'), ('name', 'SAIA authority ID')]\n",
                        "[('property', 'http://www.wikidata.org/prop/direct/P7101'), ('name', 'privacy policy URL')]\n",
                        "[('property', 'http://www.wikidata.org/prop/direct/P6715'), ('name', 'SIUSA archive producer person ID')]\n",
                        "[('property', 'http://www.wikidata.org/prop/direct/P8153'), ('name', 'Accademia delle Scienze di Torino ID')]\n",
                        "[('property', 'http://www.wikidata.org/prop/direct/P4585'), ('name', 'Accademia della Crusca ID')]\n",
                        "[('property', 'http://www.wikidata.org/prop/direct/P8219'), ('name', 'ASUT ID')]\n",
                        "[('property', 'http://www.wikidata.org/prop/direct/P3954'), ('name', 'Italian Senate ID')]\n",
                        "[('property', 'http://www.wikidata.org/prop/direct/P9646'), ('name', 'senato.archivioluce.it person ID')]\n"
                    ]
                },
                {
                    "data": {
                        "text/plain": [
                            "186"
                        ]
                    },
                    "execution_count": 85,
                    "metadata": {},
                    "output_type": "execute_result"
                }
            ],
            "source": [
                "#we still don't have the property related to a profession\n",
                "#let's try and find it using italian presidents\n",
                "\n",
                "q = f\"\"\"\n",
                "select distinct ?property ?name where{{\n",
                "?president wdt:P31 wd:Q5 ;\n",
                "    wdt:P39 wd:Q332711 ;\n",
                "    ?property ?o .\n",
                "\n",
                "?property <http://schema.org/name> ?name\n",
                "}}\n",
                "\"\"\"\n",
                "run_query(q)"
            ]
        },
        {
            "cell_type": "code",
            "execution_count": 86,
            "id": "8be79946-7603-4cbc-a83d-5805e666425c",
            "metadata": {},
            "outputs": [
                {
                    "name": "stdout",
                    "output_type": "stream",
                    "text": [
                        "[('name', 'Giorgio Napolitano'), ('profession', 'http://www.wikidata.org/entity/Q82955'), ('professionName', 'politician')]\n",
                        "[('name', 'Carlo Azeglio Ciampi'), ('profession', 'http://www.wikidata.org/entity/Q82955'), ('professionName', 'politician')]\n",
                        "[('name', 'Carlo Azeglio Ciampi'), ('profession', 'http://www.wikidata.org/entity/Q188094'), ('professionName', 'economist')]\n",
                        "[('name', 'Carlo Azeglio Ciampi'), ('profession', 'http://www.wikidata.org/entity/Q806798'), ('professionName', 'banker')]\n",
                        "[('name', 'Oscar Luigi Scalfaro'), ('profession', 'http://www.wikidata.org/entity/Q82955'), ('professionName', 'politician')]\n",
                        "[('name', 'Oscar Luigi Scalfaro'), ('profession', 'http://www.wikidata.org/entity/Q40348'), ('professionName', 'lawyer')]\n",
                        "[('name', 'Giovanni Gronchi'), ('profession', 'http://www.wikidata.org/entity/Q82955'), ('professionName', 'politician')]\n",
                        "[('name', 'Francesco Cossiga'), ('profession', 'http://www.wikidata.org/entity/Q82955'), ('professionName', 'politician')]\n",
                        "[('name', 'Giuseppe Saragat'), ('profession', 'http://www.wikidata.org/entity/Q82955'), ('professionName', 'politician')]\n",
                        "[('name', 'Giuseppe Saragat'), ('profession', 'http://www.wikidata.org/entity/Q193391'), ('professionName', 'diplomat')]\n",
                        "[('name', 'Enrico de Nicola'), ('profession', 'http://www.wikidata.org/entity/Q82955'), ('professionName', 'politician')]\n",
                        "[('name', 'Enrico de Nicola'), ('profession', 'http://www.wikidata.org/entity/Q40348'), ('professionName', 'lawyer')]\n",
                        "[('name', 'Enrico de Nicola'), ('profession', 'http://www.wikidata.org/entity/Q16533'), ('professionName', 'judge')]\n",
                        "[('name', 'Enrico de Nicola'), ('profession', 'http://www.wikidata.org/entity/Q1930187'), ('professionName', 'journalist')]\n",
                        "[('name', 'Sandro Pertini'), ('profession', 'http://www.wikidata.org/entity/Q1930187'), ('professionName', 'journalist')]\n",
                        "[('name', 'Sandro Pertini'), ('profession', 'http://www.wikidata.org/entity/Q82955'), ('professionName', 'politician')]\n",
                        "[('name', 'Sergio Mattarella'), ('profession', 'http://www.wikidata.org/entity/Q16533'), ('professionName', 'judge')]\n",
                        "[('name', 'Sergio Mattarella'), ('profession', 'http://www.wikidata.org/entity/Q82955'), ('professionName', 'politician')]\n",
                        "[('name', 'Sergio Mattarella'), ('profession', 'http://www.wikidata.org/entity/Q40348'), ('professionName', 'lawyer')]\n",
                        "[('name', 'Sergio Mattarella'), ('profession', 'http://www.wikidata.org/entity/Q1622272'), ('professionName', 'university teacher')]\n",
                        "[('name', 'Luigi Einaudi'), ('profession', 'http://www.wikidata.org/entity/Q40348'), ('professionName', 'lawyer')]\n",
                        "[('name', 'Luigi Einaudi'), ('profession', 'http://www.wikidata.org/entity/Q1930187'), ('professionName', 'journalist')]\n",
                        "[('name', 'Luigi Einaudi'), ('profession', 'http://www.wikidata.org/entity/Q121594'), ('professionName', 'professor')]\n",
                        "[('name', 'Luigi Einaudi'), ('profession', 'http://www.wikidata.org/entity/Q806798'), ('professionName', 'banker')]\n",
                        "[('name', 'Luigi Einaudi'), ('profession', 'http://www.wikidata.org/entity/Q82955'), ('professionName', 'politician')]\n",
                        "[('name', 'Luigi Einaudi'), ('profession', 'http://www.wikidata.org/entity/Q188094'), ('professionName', 'economist')]\n",
                        "[('name', 'Giovanni Leone'), ('profession', 'http://www.wikidata.org/entity/Q82955'), ('professionName', 'politician')]\n",
                        "[('name', 'Giovanni Leone'), ('profession', 'http://www.wikidata.org/entity/Q40348'), ('professionName', 'lawyer')]\n",
                        "[('name', 'Antonio Segni'), ('profession', 'http://www.wikidata.org/entity/Q82955'), ('professionName', 'politician')]\n",
                        "[('name', 'Antonio Segni'), ('profession', 'http://www.wikidata.org/entity/Q193391'), ('professionName', 'diplomat')]\n"
                    ]
                },
                {
                    "data": {
                        "text/plain": [
                            "30"
                        ]
                    },
                    "execution_count": 86,
                    "metadata": {},
                    "output_type": "execute_result"
                }
            ],
            "source": [
                "occupation = 'wdt:P106'\n",
                "\n",
                "#let's see all professions of italian presidents\n",
                "q = f\"\"\"\n",
                "select distinct ?name ?profession ?professionName where{{\n",
                "?president wdt:P31 wd:Q5 ;\n",
                "    <http://schema.org/name> ?name ;\n",
                "    wdt:P39 wd:Q332711 ;\n",
                "    wdt:P106 ?profession .\n",
                "\n",
                "?profession <http://schema.org/name> ?professionName \n",
                "}}\n",
                "\"\"\"\n",
                "run_query(q)"
            ]
        },
        {
            "cell_type": "code",
            "execution_count": 87,
            "id": "eae03b36-b370-4e24-ade5-d0c10339feb1",
            "metadata": {},
            "outputs": [
                {
                    "name": "stdout",
                    "output_type": "stream",
                    "text": [
                        "[('name', 'Francisco Sagasti'), ('profession', 'http://www.wikidata.org/entity/Q2267418'), ('professionName', 'industrial engineer')]\n",
                        "[('name', 'Yahya Jammeh'), ('profession', 'http://www.wikidata.org/entity/Q26267537'), ('professionName', 'serial rapist')]\n",
                        "[('name', 'Bashar al-Assad'), ('profession', 'http://www.wikidata.org/entity/Q12013238'), ('professionName', 'ophthalmologist')]\n",
                        "[('name', 'Kwame Nkrumah'), ('profession', 'http://www.wikidata.org/entity/Q1569495'), ('professionName', 'lecturer')]\n",
                        "[('name', 'Yoweri Museveni'), ('profession', 'http://www.wikidata.org/entity/Q183318'), ('professionName', 'dictator')]\n",
                        "[('name', 'Georgios Papadopoulos'), ('profession', 'http://www.wikidata.org/entity/Q183318'), ('professionName', 'dictator')]\n",
                        "[('name', 'Bamir Topi'), ('profession', 'http://www.wikidata.org/entity/Q202883'), ('professionName', 'veterinarian')]\n",
                        "[('name', 'S. R. Nathan'), ('profession', 'http://www.wikidata.org/entity/Q212238'), ('professionName', 'civil servant')]\n",
                        "[('name', 'Yen Chia-kan'), ('profession', 'http://www.wikidata.org/entity/Q212238'), ('professionName', 'civil servant')]\n",
                        "[('name', 'John Mahama'), ('profession', 'http://www.wikidata.org/entity/Q212238'), ('professionName', 'civil servant')]\n",
                        "[('name', 'Nasuhi al-Bukhari'), ('profession', 'http://www.wikidata.org/entity/Q212238'), ('professionName', 'civil servant')]\n",
                        "[('name', 'Jean-Bedel Bokassa'), ('profession', 'http://www.wikidata.org/entity/Q2159907'), ('professionName', 'criminal')]\n",
                        "[('name', 'Sali Berisha'), ('profession', 'http://www.wikidata.org/entity/Q3264451'), ('professionName', 'cardiologist')]\n",
                        "[('name', 'Danilo T\u00fcrk'), ('profession', 'http://www.wikidata.org/entity/Q47227062'), ('professionName', 'agitator')]\n",
                        "[('name', 'Mariano Paredes'), ('profession', 'http://www.wikidata.org/entity/Q83307'), ('professionName', 'minister')]\n",
                        "[('name', 'Pascual Ortiz Rubio'), ('profession', 'http://www.wikidata.org/entity/Q83307'), ('professionName', 'minister')]\n",
                        "[('name', 'Ant\u00f3nio Jos\u00e9 de Almeida'), ('profession', 'http://www.wikidata.org/entity/Q83307'), ('professionName', 'minister')]\n",
                        "[('name', 'Manuel G\u00f3mez Pedraza'), ('profession', 'http://www.wikidata.org/entity/Q83307'), ('professionName', 'minister')]\n",
                        "[('name', 'Slavica \u0110uki\u0107 Dejanovi\u0107'), ('profession', 'http://www.wikidata.org/entity/Q83307'), ('professionName', 'minister')]\n",
                        "[('name', 'Manuel de Oliveira Gomes da Costa'), ('profession', 'http://www.wikidata.org/entity/Q83307'), ('professionName', 'minister')]\n",
                        "[('name', 'Jos\u00e9 Tom\u00e1s Ovalle'), ('profession', 'http://www.wikidata.org/entity/Q83307'), ('professionName', 'minister')]\n",
                        "[('name', 'Jos\u00e9 Mar\u00eda Iglesias'), ('profession', 'http://www.wikidata.org/entity/Q83307'), ('professionName', 'minister')]\n",
                        "[('name', 'Traian B\u0103sescu'), ('profession', 'http://www.wikidata.org/entity/Q849424'), ('professionName', 'ship captain')]\n",
                        "[('name', 'Johannes Rau'), ('profession', 'http://www.wikidata.org/entity/Q998550'), ('professionName', 'bookseller')]\n",
                        "[('name', 'Junius Richard Jayewardene'), ('profession', 'http://www.wikidata.org/entity/Q12299841'), ('professionName', 'cricketer')]\n",
                        "[('name', 'Stjepan Mesi\u0107'), ('profession', 'http://www.wikidata.org/entity/Q168559'), ('professionName', 'political commissar')]\n",
                        "[('name', 'Janez Drnov\u0161ek'), ('profession', 'http://www.wikidata.org/entity/Q168559'), ('professionName', 'political commissar')]\n",
                        "[('name', 'Milan Ku\u010dan'), ('profession', 'http://www.wikidata.org/entity/Q168559'), ('professionName', 'political commissar')]\n",
                        "[('name', 'Petar Gra\u010danin'), ('profession', 'http://www.wikidata.org/entity/Q168559'), ('professionName', 'political commissar')]\n",
                        "[('name', 'Viktor Avbelj'), ('profession', 'http://www.wikidata.org/entity/Q168559'), ('professionName', 'political commissar')]\n",
                        "[('name', 'Jovan Veselinov'), ('profession', 'http://www.wikidata.org/entity/Q168559'), ('professionName', 'political commissar')]\n",
                        "[('name', 'Du\u0161an \u010ckrebi\u0107'), ('profession', 'http://www.wikidata.org/entity/Q168559'), ('professionName', 'political commissar')]\n",
                        "[('name', 'Ema Derossi-Bjelajac'), ('profession', 'http://www.wikidata.org/entity/Q168559'), ('professionName', 'political commissar')]\n",
                        "[('name', 'Karolos Papoulias'), ('profession', 'http://www.wikidata.org/entity/Q2135469'), ('professionName', 'legal counsel')]\n",
                        "[('name', 'Fatmir Sejdiu'), ('profession', 'http://www.wikidata.org/entity/Q2135538'), ('professionName', 'legal historian')]\n",
                        "[('name', 'Andrew Johnson'), ('profession', 'http://www.wikidata.org/entity/Q242468'), ('professionName', 'tailor')]\n",
                        "[('name', 'Coronado Ch\u00e1vez'), ('profession', 'http://www.wikidata.org/entity/Q154549'), ('professionName', 'carpenter')]\n",
                        "[('name', 'Franz Jonas'), ('profession', 'http://www.wikidata.org/entity/Q4108101'), ('professionName', 'typesetter')]\n",
                        "[('name', 'Jefferson Davis'), ('profession', 'http://www.wikidata.org/entity/Q15958642'), ('professionName', 'political writer')]\n",
                        "[('name', 'Zolt\u00e1n Tildy'), ('profession', 'http://www.wikidata.org/entity/Q56033776'), ('professionName', 'reformed pastor')]\n",
                        "[('name', 'Donald Trump'), ('profession', 'http://www.wikidata.org/entity/Q911554'), ('professionName', 'business magnate')]\n",
                        "[('name', 'Nicol\u00e1s Maduro'), ('profession', 'http://www.wikidata.org/entity/Q829020'), ('professionName', 'bus driver')]\n",
                        "[('name', 'Fran\u00e7ois Pierre-Alype'), ('profession', 'http://www.wikidata.org/entity/Q17765219'), ('professionName', 'colonial administrator')]\n",
                        "[('name', 'Zhang Zuolin'), ('profession', 'http://www.wikidata.org/entity/Q220098'), ('professionName', 'warlord')]\n",
                        "[('name', 'Cao Kun'), ('profession', 'http://www.wikidata.org/entity/Q220098'), ('professionName', 'warlord')]\n",
                        "[('name', 'Jefferson Davis'), ('profession', 'http://www.wikidata.org/entity/Q10076267'), ('professionName', 'slaveholder')]\n",
                        "[('name', 'Andrew Johnson'), ('profession', 'http://www.wikidata.org/entity/Q10076267'), ('professionName', 'slaveholder')]\n",
                        "[('name', 'James K. Polk'), ('profession', 'http://www.wikidata.org/entity/Q10076267'), ('professionName', 'slaveholder')]\n",
                        "[('name', 'Jimmy Morales'), ('profession', 'http://www.wikidata.org/entity/Q10798782'), ('professionName', 'television actor')]\n",
                        "[('name', 'Lech Kaczy\u0144ski'), ('profession', 'http://www.wikidata.org/entity/Q10800557'), ('professionName', 'film actor')]\n"
                    ]
                },
                {
                    "data": {
                        "text/plain": [
                            "50"
                        ]
                    },
                    "execution_count": 87,
                    "metadata": {},
                    "output_type": "execute_result"
                }
            ],
            "source": [
                "#5.3 Which are the professions of different presidents? How many presidents had a specific profession?\n",
                "#the first part of 5.3 can be answered with the previous query with some minor modifications\n",
                "q = f\"\"\"\n",
                "select distinct ?name ?profession ?professionName where{{\n",
                "?president wdt:P31 wd:Q5 ;\n",
                "    <http://schema.org/name> ?name ;\n",
                "    wdt:P39/wdt:P279* wd:Q248577 ;\n",
                "    wdt:P106 ?profession .\n",
                "\n",
                "?profession <http://schema.org/name> ?professionName \n",
                "}}\n",
                "limit 50\n",
                "\"\"\"\n",
                "run_query(q)"
            ]
        },
        {
            "cell_type": "code",
            "execution_count": 88,
            "id": "f92667e3-1cbf-4c2c-b8af-1556d649f560",
            "metadata": {},
            "outputs": [
                {
                    "name": "stdout",
                    "output_type": "stream",
                    "text": [
                        "[('profession', 'http://www.wikidata.org/entity/Q82955'), ('professionName', 'politician'), ('howmany', '1583')]\n",
                        "[('profession', 'http://www.wikidata.org/entity/Q40348'), ('professionName', 'lawyer'), ('howmany', '360')]\n",
                        "[('profession', 'http://www.wikidata.org/entity/Q193391'), ('professionName', 'diplomat'), ('howmany', '212')]\n",
                        "[('profession', 'http://www.wikidata.org/entity/Q47064'), ('professionName', 'military personnel'), ('howmany', '200')]\n",
                        "[('profession', 'http://www.wikidata.org/entity/Q372436'), ('professionName', 'statesperson'), ('howmany', '91')]\n",
                        "[('profession', 'http://www.wikidata.org/entity/Q1930187'), ('professionName', 'journalist'), ('howmany', '83')]\n",
                        "[('profession', 'http://www.wikidata.org/entity/Q36180'), ('professionName', 'writer'), ('howmany', '80')]\n",
                        "[('profession', 'http://www.wikidata.org/entity/Q188094'), ('professionName', 'economist'), ('howmany', '75')]\n",
                        "[('profession', 'http://www.wikidata.org/entity/Q1622272'), ('professionName', 'university teacher'), ('howmany', '71')]\n",
                        "[('profession', 'http://www.wikidata.org/entity/Q16533'), ('professionName', 'judge'), ('howmany', '67')]\n",
                        "[('profession', 'http://www.wikidata.org/entity/Q189290'), ('professionName', 'military officer'), ('howmany', '65')]\n",
                        "[('profession', 'http://www.wikidata.org/entity/Q4991371'), ('professionName', 'soldier'), ('howmany', '35')]\n",
                        "[('profession', 'http://www.wikidata.org/entity/Q43845'), ('professionName', 'businessperson'), ('howmany', '33')]\n",
                        "[('profession', 'http://www.wikidata.org/entity/Q81096'), ('professionName', 'engineer'), ('howmany', '33')]\n",
                        "[('profession', 'http://www.wikidata.org/entity/Q185351'), ('professionName', 'jurist'), ('howmany', '29')]\n",
                        "[('profession', 'http://www.wikidata.org/entity/Q168559'), ('professionName', 'political commissar'), ('howmany', '22')]\n",
                        "[('profession', 'http://www.wikidata.org/entity/Q201788'), ('professionName', 'historian'), ('howmany', '20')]\n",
                        "[('profession', 'http://www.wikidata.org/entity/Q131524'), ('professionName', 'entrepreneur'), ('howmany', '20')]\n",
                        "[('profession', 'http://www.wikidata.org/entity/Q83307'), ('professionName', 'minister'), ('howmany', '19')]\n",
                        "[('profession', 'http://www.wikidata.org/entity/Q806798'), ('professionName', 'banker'), ('howmany', '19')]\n",
                        "[('profession', 'http://www.wikidata.org/entity/Q39631'), ('professionName', 'physician'), ('howmany', '18')]\n",
                        "[('profession', 'http://www.wikidata.org/entity/Q49757'), ('professionName', 'poet'), ('howmany', '16')]\n",
                        "[('profession', 'http://www.wikidata.org/entity/Q333634'), ('professionName', 'translator'), ('howmany', '13')]\n",
                        "[('profession', 'http://www.wikidata.org/entity/Q15627169'), ('professionName', 'trade unionist'), ('howmany', '11')]\n",
                        "[('profession', 'http://www.wikidata.org/entity/Q13582652'), ('professionName', 'civil engineer'), ('howmany', '11')]\n",
                        "[('profession', 'http://www.wikidata.org/entity/Q4964182'), ('professionName', 'philosopher'), ('howmany', '10')]\n",
                        "[('profession', 'http://www.wikidata.org/entity/Q131512'), ('professionName', 'farmer'), ('howmany', '9')]\n",
                        "[('profession', 'http://www.wikidata.org/entity/Q37226'), ('professionName', 'teacher'), ('howmany', '9')]\n",
                        "[('profession', 'http://www.wikidata.org/entity/Q170790'), ('professionName', 'mathematician'), ('howmany', '9')]\n",
                        "[('profession', 'http://www.wikidata.org/entity/Q212238'), ('professionName', 'civil servant'), ('howmany', '9')]\n",
                        "[('profession', 'http://www.wikidata.org/entity/Q18814623'), ('professionName', 'autobiographer'), ('howmany', '9')]\n",
                        "[('profession', 'http://www.wikidata.org/entity/Q26481809'), ('professionName', 'sports executive'), ('howmany', '7')]\n",
                        "[('profession', 'http://www.wikidata.org/entity/Q593644'), ('professionName', 'chemist'), ('howmany', '6')]\n",
                        "[('profession', 'http://www.wikidata.org/entity/Q212948'), ('professionName', 'partisan'), ('howmany', '6')]\n",
                        "[('profession', 'http://www.wikidata.org/entity/Q250867'), ('professionName', 'Catholic priest'), ('howmany', '5')]\n",
                        "[('profession', 'http://www.wikidata.org/entity/Q774306'), ('professionName', 'surgeon'), ('howmany', '5')]\n",
                        "[('profession', 'http://www.wikidata.org/entity/Q182436'), ('professionName', 'librarian'), ('howmany', '5')]\n",
                        "[('profession', 'http://www.wikidata.org/entity/Q15980158'), ('professionName', 'non-fiction writer'), ('howmany', '5')]\n",
                        "[('profession', 'http://www.wikidata.org/entity/Q4263842'), ('professionName', 'literary critic'), ('howmany', '5')]\n",
                        "[('profession', 'http://www.wikidata.org/entity/Q3242115'), ('professionName', 'revolutionary'), ('howmany', '4')]\n",
                        "[('profession', 'http://www.wikidata.org/entity/Q42973'), ('professionName', 'architect'), ('howmany', '4')]\n",
                        "[('profession', 'http://www.wikidata.org/entity/Q169470'), ('professionName', 'physicist'), ('howmany', '4')]\n",
                        "[('profession', 'http://www.wikidata.org/entity/Q1231865'), ('professionName', 'pedagogue'), ('howmany', '4')]\n",
                        "[('profession', 'http://www.wikidata.org/entity/Q215536'), ('professionName', 'merchant'), ('howmany', '4')]\n",
                        "[('profession', 'http://www.wikidata.org/entity/Q10076267'), ('professionName', 'slaveholder'), ('howmany', '4')]\n",
                        "[('profession', 'http://www.wikidata.org/entity/Q1402561'), ('professionName', 'military leader'), ('howmany', '4')]\n",
                        "[('profession', 'http://www.wikidata.org/entity/Q4594605'), ('professionName', 'magistrate'), ('howmany', '4')]\n",
                        "[('profession', 'http://www.wikidata.org/entity/Q2306091'), ('professionName', 'sociologist'), ('howmany', '4')]\n",
                        "[('profession', 'http://www.wikidata.org/entity/Q121594'), ('professionName', 'professor'), ('howmany', '3')]\n",
                        "[('profession', 'http://www.wikidata.org/entity/Q33999'), ('professionName', 'actor'), ('howmany', '3')]\n"
                    ]
                },
                {
                    "data": {
                        "text/plain": [
                            "50"
                        ]
                    },
                    "execution_count": 88,
                    "metadata": {},
                    "output_type": "execute_result"
                }
            ],
            "source": [
                "#How many presidents had a specific profession?\n",
                "q = f\"\"\"\n",
                "select ?profession ?professionName (count(?president) as ?howmany) where{{\n",
                "?president wdt:P31 wd:Q5 ;\n",
                "    wdt:P39/wdt:P279* wd:Q248577 ;\n",
                "    wdt:P106 ?profession .\n",
                "\n",
                "?profession <http://schema.org/name> ?professionName \n",
                "}}\n",
                "group by ?profession ?professionName\n",
                "order by desc(?howmany)\n",
                "limit 50\n",
                "\"\"\"\n",
                "run_query(q)"
            ]
        }
    ],
    "metadata": {
        "kernelspec": {
            "display_name": "Python 3",
            "language": "python",
            "name": "python3"
        },
        "language_info": {
            "codemirror_mode": {
                "name": "ipython",
                "version": 3
            },
            "file_extension": ".py",
            "mimetype": "text/x-python",
            "name": "python",
            "nbconvert_exporter": "python",
            "pygments_lexer": "ipython3",
            "version": "3.7.10"
        }
    },
    "nbformat": 4,
    "nbformat_minor": 5
}