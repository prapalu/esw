{
 "cells": [
  {
   "cell_type": "markdown",
   "id": "7034c3bf-6eb0-4418-8687-7b9d2a501103",
   "metadata": {},
   "source": [
    "# General instructions\n",
    "\n",
    "The goal of the project is to materialize a set of **exploratory workloads** over a real-world, large-scale,  open-domain KG: [WikiData](https://www.wikidata.org/wiki/Wikidata:Main_Page)\n",
    "\n",
    "An exploratory workload  is composed by a set of queries, where each query is related to the information obtained previously.\n",
    "\n",
    "An exploratory workload starts with a usually vague, open ended question, and does not assume the person issuing the workload has a clear understanding of the data contained in the target database or its structure.\n",
    "\n",
    "Remeber that:\n",
    "\n",
    "1. All the queries must run in the python notebook\n",
    "2. You can use classes and properties only if you find them via a SPARQL query that must be present in the notebook\n",
    "3. You do not delete useless queries. Keep everything that is synthatically valid \n",
    "\n",
    "```\n",
    "?p <http://schema.org/name> ?name .\n",
    "```\n",
    "    \n",
    "    is the BGP returning a human-readable name of a property or a class in Wikidata."
   ]
  },
  {
   "cell_type": "code",
   "execution_count": 1,
   "id": "3605c9d5-5371-49a5-be8d-d66e8f417139",
   "metadata": {},
   "outputs": [],
   "source": [
    "## SETUP used later\n",
    "\n",
    "from SPARQLWrapper import SPARQLWrapper, JSON\n",
    "\n",
    "\n",
    "prefixString = \"\"\"\n",
    "##-638f3972bf-##\n",
    "PREFIX wd: <http://www.wikidata.org/entity/> \n",
    "PREFIX wdt: <http://www.wikidata.org/prop/direct/> \n",
    "PREFIX sc: <http://schema.org/>\n",
    "\"\"\"\n",
    "\n",
    "# select and construct queries\n",
    "def run_query(queryString):\n",
    "    to_run = prefixString + \"\\n\" + queryString\n",
    "\n",
    "    sparql = SPARQLWrapper(\"http://a256-gc1-02.srv.aau.dk:5820/sparql\")\n",
    "    sparql.setTimeout(300)\n",
    "    sparql.setReturnFormat(JSON)\n",
    "    sparql.setQuery(to_run)\n",
    "\n",
    "    try :\n",
    "       results = sparql.query()\n",
    "       json_results = results.convert()\n",
    "       if len(json_results['results']['bindings'])==0:\n",
    "          print(\"Empty\")\n",
    "          return 0\n",
    "    \n",
    "       for bindings in json_results['results']['bindings']:\n",
    "          print( [ (var, value['value'])  for var, value in bindings.items() ] )\n",
    "\n",
    "       return len(json_results['results']['bindings'])\n",
    "\n",
    "    except Exception as e :\n",
    "        print(\"The operation failed\", e)\n",
    "    \n",
    "# ASk queries\n",
    "def run_ask_query(queryString):\n",
    "    to_run = prefixString + \"\\n\" + queryString\n",
    "\n",
    "    sparql = SPARQLWrapper(\"http://a256-gc1-02.srv.aau.dk:5820/sparql\")\n",
    "    sparql.setTimeout(300)\n",
    "    sparql.setReturnFormat(JSON)\n",
    "    sparql.setQuery(to_run)\n",
    "\n",
    "    try :\n",
    "        return sparql.query().convert()\n",
    "\n",
    "    except Exception as e :\n",
    "        print(\"The operation failed\", e)"
   ]
  },
  {
   "cell_type": "markdown",
   "id": "d477a59c-a68c-4c8f-9f97-8ca5294d7d27",
   "metadata": {},
   "source": [
    "# Movie Workflow Series (\"Directors explorative search\") \n",
    "\n",
    "Consider the following exploratory information need:\n",
    "\n",
    "> investigate the results concerning the common aspects between movies directed by Woody Allen or Quentin Tarantino. We want to know the people that worked for both directors with some numerical analyses, what are the differences in terms of budget for their movies, who won more Academy Awards. "
   ]
  },
  {
   "cell_type": "markdown",
   "id": "4a45c0ba-f79e-441d-bec5-84401b09db70",
   "metadata": {},
   "source": [
    "## Useful URIs for the current workflow\n",
    "The following are given:\n",
    "\n",
    "| IRI           | Description   | Role      |\n",
    "| -----------   | -----------   |-----------|\n",
    "| `wdt:P1647`   | subproperty   | predicate |\n",
    "| `wdt:P31`     | instance of   | predicate |\n",
    "| `wdt:P106`    | profession    | predicate | \n",
    "| `wdt:P279`    | subclass      | predicate |\n",
    "| `wdt:P27`     | nationality   | predicate |\n",
    "| `wdt:P106`     | profession   | predicate |\n",
    "| `wdt:P3342`     | Significant person       | predicate |\n",
    "| `wd:Q5`| Human       | node |\n",
    "| `wd:Q2526255`| Director       | node |\n",
    "| `wd:Q25089`| Woody Allen       | node |\n",
    "| `wd:Q3772`    | Quentin Tarantino      | node |\n"
   ]
  },
  {
   "cell_type": "markdown",
   "id": "7af439fb-96e4-4dbb-a381-f19afab79f86",
   "metadata": {
    "tags": []
   },
   "source": [
    "\n",
    "\n",
    "\n",
    "Also consider\n",
    "\n",
    "```\n",
    "wd:Q25089 ?p ?obj .\n",
    "```\n",
    "\n",
    "is the BGP to retrieve all **properties of Woody Allen**\n",
    "\n",
    "\n",
    "The workload should:\n",
    "\n",
    "\n",
    "1. Identify the BGP for films\n",
    "\n",
    "2. Identify the BGP for directors\n",
    "\n",
    "3. Identify the BGP for workers in a films\n",
    "\n",
    "4. Compare the workers amongst the films directed by the two directors\n",
    "\n",
    "5. Return some numerical comparison between the two directors (e.g., how many workers in Tarantino's movies who also worked in Allen's films?, what is the film with the highest number of shared actors? Who is the most used actor by both the directors? etc. )\n",
    "\n",
    "6. Is the maximum budget for a Tarantino's movie higher of the max budget of an Allen's movie?\n",
    "\n",
    "7. Who has films with more nominations for Academy Awards and who won more Academy Awards (with his films not only personal awards).\n",
    "\n",
    "    7.1 Find the BGP for Academy Awards \n",
    "\n",
    "    7.2 Find the related subproperties\n",
    "\n",
    "    7.3 Find how they are related to the directors\n",
    "    \n",
    "    7.4 Are there alternative queries to get the same result?\n",
    "\n"
   ]
  },
  {
   "cell_type": "markdown",
   "id": "b2dd216e-3386-46c9-8275-1073afd671d1",
   "metadata": {
    "jp-MarkdownHeadingCollapsed": true,
    "tags": []
   },
   "source": [
    "## Task 1. Identify the BGP for films"
   ]
  },
  {
   "cell_type": "markdown",
   "id": "b02fa402-a5a4-4370-af7d-ce10699461f1",
   "metadata": {},
   "source": [
    "List all the properties of Woody Allen"
   ]
  },
  {
   "cell_type": "code",
   "execution_count": 2,
   "id": "24a853ab-830c-422c-afd3-e9e015b8b8ed",
   "metadata": {
    "collapsed": true,
    "jupyter": {
     "outputs_hidden": true
    },
    "tags": []
   },
   "outputs": [
    {
     "name": "stdout",
     "output_type": "stream",
     "text": [
      "Results\n",
      "[('p', 'http://www.wikidata.org/prop/direct/P138'), ('pName', 'named after'), ('o', 'http://www.wikidata.org/entity/Q349357'), ('oName', 'Woody Herman')]\n",
      "[('p', 'http://www.wikidata.org/prop/direct/P26'), ('pName', 'spouse'), ('o', 'http://www.wikidata.org/entity/Q1140914'), ('oName', 'Soon-Yi Previn')]\n",
      "[('p', 'http://www.wikidata.org/prop/direct/P40'), ('pName', 'child'), ('o', 'http://www.wikidata.org/entity/Q22673707'), ('oName', 'Bechet Dumaine Allen')]\n",
      "[('p', 'http://www.wikidata.org/prop/direct/P40'), ('pName', 'child'), ('o', 'http://www.wikidata.org/entity/Q22673708'), ('oName', 'Manzie Tio Allen')]\n",
      "[('p', 'http://www.wikidata.org/prop/direct/P19'), ('pName', 'place of birth'), ('o', 'http://www.wikidata.org/entity/Q18426'), ('oName', 'The Bronx')]\n",
      "[('p', 'http://www.wikidata.org/prop/direct/P451'), ('pName', 'unmarried partner'), ('o', 'http://www.wikidata.org/entity/Q102642'), ('oName', 'Diane Keaton')]\n",
      "[('p', 'http://www.wikidata.org/prop/direct/P166'), ('pName', 'award received'), ('o', 'http://www.wikidata.org/entity/Q3404523'), ('oName', 'David di Donatello for Best Foreign Actor')]\n",
      "[('p', 'http://www.wikidata.org/prop/direct/P108'), ('pName', 'employer'), ('o', 'http://www.wikidata.org/entity/Q599316'), ('oName', 'New School')]\n",
      "[('p', 'http://www.wikidata.org/prop/direct/P735'), ('pName', 'given name'), ('o', 'http://www.wikidata.org/entity/Q19961034'), ('oName', 'Woody')]\n",
      "[('p', 'http://www.wikidata.org/prop/direct/P800'), ('pName', 'notable work'), ('o', 'http://www.wikidata.org/entity/Q206124'), ('oName', 'Midnight in Paris')]\n",
      "[('p', 'http://www.wikidata.org/prop/direct/P3373'), ('pName', 'sibling'), ('o', 'http://www.wikidata.org/entity/Q3831197'), ('oName', 'Letty Aronson')]\n",
      "[('p', 'http://www.wikidata.org/prop/direct/P166'), ('pName', 'award received'), ('o', 'http://www.wikidata.org/entity/Q31579'), ('oName', 'David di Donatello')]\n",
      "[('p', 'http://www.wikidata.org/prop/direct/P166'), ('pName', 'award received'), ('o', 'http://www.wikidata.org/entity/Q3241784'), ('oName', 'Golden Lion for Lifetime Achievements')]\n",
      "[('p', 'http://www.wikidata.org/prop/direct/P166'), ('pName', 'award received'), ('o', 'http://www.wikidata.org/entity/Q50616934'), ('oName', 'honorary doctorate of Pompeu Fabra University')]\n",
      "[('p', 'http://www.wikidata.org/prop/direct/P166'), ('pName', 'award received'), ('o', 'http://www.wikidata.org/entity/Q3404587'), ('oName', 'FIPRESCI Prize of the Festival de Cannes')]\n",
      "[('p', 'http://www.wikidata.org/prop/direct/P1283'), ('pName', 'filmography'), ('o', 'http://www.wikidata.org/entity/Q2455835'), ('oName', 'Woody Allen filmography')]\n",
      "[('p', 'http://www.wikidata.org/prop/direct/P800'), ('pName', 'notable work'), ('o', 'http://www.wikidata.org/entity/Q971865'), ('oName', \"What's Up, Tiger Lily?\")]\n",
      "[('p', 'http://www.wikidata.org/prop/direct/P166'), ('pName', 'award received'), ('o', 'http://www.wikidata.org/entity/Q3822438'), ('oName', 'Butaca Awards')]\n",
      "[('p', 'http://www.wikidata.org/prop/direct/P1411'), ('pName', 'nominated for'), ('o', 'http://www.wikidata.org/entity/Q103360'), ('oName', 'Academy Award for Best Director')]\n",
      "[('p', 'http://www.wikidata.org/prop/direct/P166'), ('pName', 'award received'), ('o', 'http://www.wikidata.org/entity/Q103360'), ('oName', 'Academy Award for Best Director')]\n",
      "[('p', 'http://www.wikidata.org/prop/direct/P106'), ('pName', 'occupation'), ('o', 'http://www.wikidata.org/entity/Q10800557'), ('oName', 'film actor')]\n",
      "[('p', 'http://www.wikidata.org/prop/direct/P166'), ('pName', 'award received'), ('o', 'http://www.wikidata.org/entity/Q13452531'), ('oName', 'Commandeur des Arts et des Lettres\\u200e')]\n",
      "[('p', 'http://www.wikidata.org/prop/direct/P166'), ('pName', 'award received'), ('o', 'http://www.wikidata.org/entity/Q139184'), ('oName', 'BAFTA Award for Best Film')]\n",
      "[('p', 'http://www.wikidata.org/prop/direct/P106'), ('pName', 'occupation'), ('o', 'http://www.wikidata.org/entity/Q15981151'), ('oName', 'jazz musician')]\n",
      "[('p', 'http://www.wikidata.org/prop/direct/P166'), ('pName', 'award received'), ('o', 'http://www.wikidata.org/entity/Q174389'), ('oName', 'César Award')]\n",
      "[('p', 'http://www.wikidata.org/prop/direct/P103'), ('pName', 'native language'), ('o', 'http://www.wikidata.org/entity/Q1860'), ('oName', 'English')]\n",
      "[('p', 'http://www.wikidata.org/prop/direct/P1412'), ('pName', 'languages spoken, written or signed'), ('o', 'http://www.wikidata.org/entity/Q1860'), ('oName', 'English')]\n",
      "[('p', 'http://www.wikidata.org/prop/direct/P106'), ('pName', 'occupation'), ('o', 'http://www.wikidata.org/entity/Q18844224'), ('oName', 'science fiction writer')]\n",
      "[('p', 'http://www.wikidata.org/prop/direct/P6379'), ('pName', 'has works in the collection'), ('o', 'http://www.wikidata.org/entity/Q188740'), ('oName', 'Museum of Modern Art')]\n",
      "[('p', 'http://www.wikidata.org/prop/direct/P106'), ('pName', 'occupation'), ('o', 'http://www.wikidata.org/entity/Q1930187'), ('oName', 'journalist')]\n",
      "[('p', 'http://www.wikidata.org/prop/direct/P106'), ('pName', 'occupation'), ('o', 'http://www.wikidata.org/entity/Q214917'), ('oName', 'playwright')]\n",
      "[('p', 'http://www.wikidata.org/prop/direct/P106'), ('pName', 'occupation'), ('o', 'http://www.wikidata.org/entity/Q245068'), ('oName', 'comedian')]\n",
      "[('p', 'http://www.wikidata.org/prop/direct/P106'), ('pName', 'occupation'), ('o', 'http://www.wikidata.org/entity/Q2526255'), ('oName', 'film director')]\n",
      "[('p', 'http://www.wikidata.org/prop/direct/P734'), ('pName', 'family name'), ('o', 'http://www.wikidata.org/entity/Q2648323'), ('oName', 'Allen')]\n",
      "[('p', 'http://www.wikidata.org/prop/direct/P106'), ('pName', 'occupation'), ('o', 'http://www.wikidata.org/entity/Q28389'), ('oName', 'screenwriter')]\n",
      "[('p', 'http://www.wikidata.org/prop/direct/P8929'), ('pName', 'religion or world view'), ('o', 'http://www.wikidata.org/entity/Q288928'), ('oName', 'agnosticism')]\n",
      "[('p', 'http://www.wikidata.org/prop/direct/P27'), ('pName', 'country of citizenship'), ('o', 'http://www.wikidata.org/entity/Q30'), ('oName', 'United States of America')]\n",
      "[('p', 'http://www.wikidata.org/prop/direct/P106'), ('pName', 'occupation'), ('o', 'http://www.wikidata.org/entity/Q3282637'), ('oName', 'film producer')]\n",
      "[('p', 'http://www.wikidata.org/prop/direct/P106'), ('pName', 'occupation'), ('o', 'http://www.wikidata.org/entity/Q36180'), ('oName', 'writer')]\n",
      "[('p', 'http://www.wikidata.org/prop/direct/P106'), ('pName', 'occupation'), ('o', 'http://www.wikidata.org/entity/Q36834'), ('oName', 'composer')]\n",
      "[('p', 'http://www.wikidata.org/prop/direct/P1411'), ('pName', 'nominated for'), ('o', 'http://www.wikidata.org/entity/Q41417'), ('oName', 'Academy Award for Best Writing, Original Screenplay')]\n",
      "[('p', 'http://www.wikidata.org/prop/direct/P166'), ('pName', 'award received'), ('o', 'http://www.wikidata.org/entity/Q41417'), ('oName', 'Academy Award for Best Writing, Original Screenplay')]\n",
      "[('p', 'http://www.wikidata.org/prop/direct/P463'), ('pName', 'member of'), ('o', 'http://www.wikidata.org/entity/Q463303'), ('oName', 'American Academy of Arts and Sciences')]\n",
      "[('p', 'http://www.wikidata.org/prop/direct/P106'), ('pName', 'occupation'), ('o', 'http://www.wikidata.org/entity/Q482980'), ('oName', 'author')]\n",
      "[('p', 'http://www.wikidata.org/prop/direct/P31'), ('pName', 'instance of'), ('o', 'http://www.wikidata.org/entity/Q5'), ('oName', 'human')]\n",
      "[('p', 'http://www.wikidata.org/prop/direct/P166'), ('pName', 'award received'), ('o', 'http://www.wikidata.org/entity/Q52382875'), ('oName', 'AAAS Fellow')]\n",
      "[('p', 'http://www.wikidata.org/prop/direct/P1343'), ('pName', 'described by source'), ('o', 'http://www.wikidata.org/entity/Q58488719'), ('oName', 'Billy Ireland Cartoon Library & Museum biographical files')]\n",
      "[('p', 'http://www.wikidata.org/prop/direct/P106'), ('pName', 'occupation'), ('o', 'http://www.wikidata.org/entity/Q639669'), ('oName', 'musician')]\n",
      "[('p', 'http://www.wikidata.org/prop/direct/P21'), ('pName', 'sex or gender'), ('o', 'http://www.wikidata.org/entity/Q6581097'), ('oName', 'male')]\n",
      "[('p', 'http://www.wikidata.org/prop/direct/P1343'), ('pName', 'described by source'), ('o', 'http://www.wikidata.org/entity/Q67311526'), ('oName', 'Obalky knih.cz')]\n",
      "[('p', 'http://www.wikidata.org/prop/direct/P166'), ('pName', 'award received'), ('o', 'http://www.wikidata.org/entity/Q708135'), ('oName', 'Silver Bear')]\n",
      "[('p', 'http://www.wikidata.org/prop/direct/P7763'), ('pName', 'copyright status as a creator'), ('o', 'http://www.wikidata.org/entity/Q73555012'), ('oName', 'works protected by copyrights')]\n",
      "[('p', 'http://www.wikidata.org/prop/direct/P166'), ('pName', 'award received'), ('o', 'http://www.wikidata.org/entity/Q787148'), ('oName', 'Academy Fellowship Award')]\n",
      "[('p', 'http://www.wikidata.org/prop/direct/P1303'), ('pName', 'instrument'), ('o', 'http://www.wikidata.org/entity/Q8343'), ('oName', 'clarinet')]\n",
      "[('p', 'http://www.wikidata.org/prop/direct/P166'), ('pName', 'award received'), ('o', 'http://www.wikidata.org/entity/Q908858'), ('oName', 'Donostia Award')]\n",
      "[('p', 'http://www.wikidata.org/prop/direct/P1411'), ('pName', 'nominated for'), ('o', 'http://www.wikidata.org/entity/Q103916'), ('oName', 'Academy Award for Best Actor')]\n",
      "[('p', 'http://www.wikidata.org/prop/direct/P1411'), ('pName', 'nominated for'), ('o', 'http://www.wikidata.org/entity/Q1377772'), ('oName', 'European Film Award for Best Non-European Film')]\n",
      "[('p', 'http://www.wikidata.org/prop/direct/P166'), ('pName', 'award received'), ('o', 'http://www.wikidata.org/entity/Q1415017'), ('oName', 'Writers Guild of America Award')]\n",
      "[('p', 'http://www.wikidata.org/prop/direct/P166'), ('pName', 'award received'), ('o', 'http://www.wikidata.org/entity/Q1789102'), ('oName', 'National Board of Review Award for Best Film')]\n",
      "[('p', 'http://www.wikidata.org/prop/direct/P264'), ('pName', 'record label'), ('o', 'http://www.wikidata.org/entity/Q193023'), ('oName', 'Capitol Records')]\n",
      "[('p', 'http://www.wikidata.org/prop/direct/P166'), ('pName', 'award received'), ('o', 'http://www.wikidata.org/entity/Q768476'), ('oName', 'David di Donatello for Best Film')]\n",
      "[('p', 'http://www.wikidata.org/prop/direct/P106'), ('pName', 'occupation'), ('o', 'http://www.wikidata.org/entity/Q948329'), ('oName', 'character actor')]\n",
      "[('p', 'http://www.wikidata.org/prop/direct/P166'), ('pName', 'award received'), ('o', 'http://www.wikidata.org/entity/Q2372386'), ('oName', 'Sant Jordi Prize')]\n",
      "[('p', 'http://www.wikidata.org/prop/direct/P166'), ('pName', 'award received'), ('o', 'http://www.wikidata.org/entity/Q1111310'), ('oName', 'Directors Guild of America Award')]\n",
      "[('p', 'http://www.wikidata.org/prop/direct/P166'), ('pName', 'award received'), ('o', 'http://www.wikidata.org/entity/Q1170507'), ('oName', 'Independent Spirit Award for Best Screenplay')]\n",
      "[('p', 'http://www.wikidata.org/prop/direct/P106'), ('pName', 'occupation'), ('o', 'http://www.wikidata.org/entity/Q118865'), ('oName', 'clarinetist')]\n",
      "[('p', 'http://www.wikidata.org/prop/direct/P166'), ('pName', 'award received'), ('o', 'http://www.wikidata.org/entity/Q3319305'), ('oName', 'Princess of Asturias Award for the Arts')]\n",
      "[('p', 'http://www.wikidata.org/prop/direct/P166'), ('pName', 'award received'), ('o', 'http://www.wikidata.org/entity/Q787131'), ('oName', 'BAFTA Award for Best Direction')]\n",
      "[('p', 'http://www.wikidata.org/prop/direct/P69'), ('pName', 'educated at'), ('o', 'http://www.wikidata.org/entity/Q797078'), ('oName', 'New York University Tisch School of the Arts')]\n",
      "[('p', 'http://www.wikidata.org/prop/direct/P172'), ('pName', 'ethnic group'), ('o', 'http://www.wikidata.org/entity/Q678551'), ('oName', 'American Jews')]\n",
      "[('p', 'http://www.wikidata.org/prop/direct/P166'), ('pName', 'award received'), ('o', 'http://www.wikidata.org/entity/Q41375'), ('oName', 'BAFTA Award for Best Original Screenplay')]\n",
      "[('p', 'http://www.wikidata.org/prop/direct/P166'), ('pName', 'award received'), ('o', 'http://www.wikidata.org/entity/Q849124'), ('oName', 'Golden Globe Award for Best Screenplay')]\n",
      "[('p', 'http://www.wikidata.org/prop/direct/P166'), ('pName', 'award received'), ('o', 'http://www.wikidata.org/entity/Q19339'), ('oName', 'O. Henry Award')]\n",
      "[('p', 'http://www.wikidata.org/prop/direct/P451'), ('pName', 'unmarried partner'), ('o', 'http://www.wikidata.org/entity/Q202725'), ('oName', 'Mia Farrow')]\n",
      "[('p', 'http://www.wikidata.org/prop/direct/P800'), ('pName', 'notable work'), ('o', 'http://www.wikidata.org/entity/Q1004531'), ('oName', 'Bullets Over Broadway')]\n",
      "[('p', 'http://www.wikidata.org/prop/direct/P800'), ('pName', 'notable work'), ('o', 'http://www.wikidata.org/entity/Q1354109'), ('oName', 'Mighty Aphrodite')]\n",
      "[('p', 'http://www.wikidata.org/prop/direct/P69'), ('pName', 'educated at'), ('o', 'http://www.wikidata.org/entity/Q10749664'), ('oName', 'Midwood High School')]\n",
      "[('p', 'http://www.wikidata.org/prop/direct/P800'), ('pName', 'notable work'), ('o', 'http://www.wikidata.org/entity/Q729026'), ('oName', 'Broadway Danny Rose')]\n",
      "[('p', 'http://www.wikidata.org/prop/direct/P800'), ('pName', 'notable work'), ('o', 'http://www.wikidata.org/entity/Q733677'), ('oName', 'Match Point')]\n",
      "[('p', 'http://www.wikidata.org/prop/direct/P800'), ('pName', 'notable work'), ('o', 'http://www.wikidata.org/entity/Q740143'), ('oName', 'Husbands and Wives')]\n",
      "[('p', 'http://www.wikidata.org/prop/direct/P166'), ('pName', 'award received'), ('o', 'http://www.wikidata.org/entity/Q670282'), ('oName', 'Golden Globe Award for Best Motion Picture – Musical or Comedy')]\n",
      "[('p', 'http://www.wikidata.org/prop/direct/P800'), ('pName', 'notable work'), ('o', 'http://www.wikidata.org/entity/Q806092'), ('oName', 'Bananas')]\n",
      "[('p', 'http://www.wikidata.org/prop/direct/P166'), ('pName', 'award received'), ('o', 'http://www.wikidata.org/entity/Q889842'), ('oName', 'Bodil Awards')]\n",
      "[('p', 'http://www.wikidata.org/prop/direct/P800'), ('pName', 'notable work'), ('o', 'http://www.wikidata.org/entity/Q1321004'), ('oName', 'You Will Meet a Tall Dark Stranger')]\n",
      "[('p', 'http://www.wikidata.org/prop/direct/P800'), ('pName', 'notable work'), ('o', 'http://www.wikidata.org/entity/Q14511869'), ('oName', 'Magic in the Moonlight')]\n",
      "[('p', 'http://www.wikidata.org/prop/direct/P800'), ('pName', 'notable work'), ('o', 'http://www.wikidata.org/entity/Q614009'), ('oName', 'Anything Else')]\n",
      "[('p', 'http://www.wikidata.org/prop/direct/P800'), ('pName', 'notable work'), ('o', 'http://www.wikidata.org/entity/Q187423'), ('oName', 'Zelig')]\n",
      "[('p', 'http://www.wikidata.org/prop/direct/P800'), ('pName', 'notable work'), ('o', 'http://www.wikidata.org/entity/Q27703144'), ('oName', 'Wonder Wheel')]\n",
      "[('p', 'http://www.wikidata.org/prop/direct/P800'), ('pName', 'notable work'), ('o', 'http://www.wikidata.org/entity/Q786585'), ('oName', 'Sweet and Lowdown')]\n",
      "[('p', 'http://www.wikidata.org/prop/direct/P22'), ('pName', 'father'), ('o', 'http://www.wikidata.org/entity/Q108223439'), ('oName', 'Martin Königsberg')]\n",
      "[('p', 'http://www.wikidata.org/prop/direct/P25'), ('pName', 'mother'), ('o', 'http://www.wikidata.org/entity/Q108223445'), ('oName', 'Nettie Königsberg')]\n",
      "[('p', 'http://www.wikidata.org/prop/direct/P800'), ('pName', 'notable work'), ('o', 'http://www.wikidata.org/entity/Q1052826'), ('oName', 'Celebrity')]\n",
      "[('p', 'http://www.wikidata.org/prop/direct/P166'), ('pName', 'award received'), ('o', 'http://www.wikidata.org/entity/Q2418096'), ('oName', 'Goya Award for Best European Film')]\n",
      "[('p', 'http://www.wikidata.org/prop/direct/P800'), ('pName', 'notable work'), ('o', 'http://www.wikidata.org/entity/Q1218888'), ('oName', 'Love and Death')]\n",
      "[('p', 'http://www.wikidata.org/prop/direct/P800'), ('pName', 'notable work'), ('o', 'http://www.wikidata.org/entity/Q181555'), ('oName', 'Crimes and Misdemeanors')]\n",
      "[('p', 'http://www.wikidata.org/prop/direct/P40'), ('pName', 'child'), ('o', 'http://www.wikidata.org/entity/Q100135417'), ('oName', 'Dylan Farrow')]\n",
      "[('p', 'http://www.wikidata.org/prop/direct/P40'), ('pName', 'child'), ('o', 'http://www.wikidata.org/entity/Q16217493'), ('oName', 'Moses Farrow')]\n",
      "[('p', 'http://www.wikidata.org/prop/direct/P40'), ('pName', 'child'), ('o', 'http://www.wikidata.org/entity/Q7365461'), ('oName', 'Ronan Farrow')]\n",
      "[('p', 'http://www.wikidata.org/prop/direct/P800'), ('pName', 'notable work'), ('o', 'http://www.wikidata.org/entity/Q682002'), ('oName', 'scoop')]\n",
      "[('p', 'http://www.wikidata.org/prop/direct/P800'), ('pName', 'notable work'), ('o', 'http://www.wikidata.org/entity/Q653518'), ('oName', 'Stardust Memories')]\n",
      "[('p', 'http://www.wikidata.org/prop/direct/P800'), ('pName', 'notable work'), ('o', 'http://www.wikidata.org/entity/Q977372'), ('oName', 'New York Stories')]\n",
      "[('p', 'http://www.wikidata.org/prop/direct/P800'), ('pName', 'notable work'), ('o', 'http://www.wikidata.org/entity/Q750003'), ('oName', 'Sleeper')]\n",
      "[('p', 'http://www.wikidata.org/prop/direct/P800'), ('pName', 'notable work'), ('o', 'http://www.wikidata.org/entity/Q610163'), ('oName', 'Small Time Crooks')]\n",
      "[('p', 'http://www.wikidata.org/prop/direct/P800'), ('pName', 'notable work'), ('o', 'http://www.wikidata.org/entity/Q910523'), ('oName', 'Shadows and Fog')]\n",
      "[('p', 'http://www.wikidata.org/prop/direct/P800'), ('pName', 'notable work'), ('o', 'http://www.wikidata.org/entity/Q1133277'), ('oName', 'Manhattan Murder Mystery')]\n",
      "[('p', 'http://www.wikidata.org/prop/direct/P800'), ('pName', 'notable work'), ('o', 'http://www.wikidata.org/entity/Q1146315'), ('oName', 'Take the Money and Run')]\n",
      "[('p', 'http://www.wikidata.org/prop/direct/P800'), ('pName', 'notable work'), ('o', 'http://www.wikidata.org/entity/Q1354121'), ('oName', 'Melinda and Melinda')]\n",
      "[('p', 'http://www.wikidata.org/prop/direct/P800'), ('pName', 'notable work'), ('o', 'http://www.wikidata.org/entity/Q2907178'), ('oName', 'Blue Jasmine')]\n",
      "[('p', 'http://www.wikidata.org/prop/direct/P800'), ('pName', 'notable work'), ('o', 'http://www.wikidata.org/entity/Q18844733'), ('oName', 'Crisis in Six Scenes')]\n",
      "[('p', 'http://www.wikidata.org/prop/direct/P800'), ('pName', 'notable work'), ('o', 'http://www.wikidata.org/entity/Q731310'), ('oName', 'Manhattan')]\n",
      "[('p', 'http://www.wikidata.org/prop/direct/P800'), ('pName', 'notable work'), ('o', 'http://www.wikidata.org/entity/Q833530'), ('oName', \"Cassandra's Dream\")]\n",
      "[('p', 'http://www.wikidata.org/prop/direct/P800'), ('pName', 'notable work'), ('o', 'http://www.wikidata.org/entity/Q499697'), ('oName', 'Everything You Always Wanted to Know About Sex*')]\n",
      "[('p', 'http://www.wikidata.org/prop/direct/P800'), ('pName', 'notable work'), ('o', 'http://www.wikidata.org/entity/Q912729'), ('oName', 'The Purple Rose of Cairo')]\n",
      "[('p', 'http://www.wikidata.org/prop/direct/P800'), ('pName', 'notable work'), ('o', 'http://www.wikidata.org/entity/Q1770003'), ('oName', 'September')]\n",
      "[('p', 'http://www.wikidata.org/prop/direct/P7084'), ('pName', 'related category'), ('o', 'http://www.wikidata.org/entity/Q7778126'), ('oName', 'Category:Films directed by Woody Allen')]\n",
      "[('p', 'http://www.wikidata.org/prop/direct/P1455'), ('pName', 'list of works'), ('o', 'http://www.wikidata.org/entity/Q16971520'), ('oName', 'Woody Allen bibliography')]\n",
      "[('p', 'http://www.wikidata.org/prop/direct/P8625'), ('pName', 'bibliography'), ('o', 'http://www.wikidata.org/entity/Q16971520'), ('oName', 'Woody Allen bibliography')]\n",
      "[('p', 'http://www.wikidata.org/prop/direct/P800'), ('pName', 'notable work'), ('o', 'http://www.wikidata.org/entity/Q692208'), ('oName', 'Whatever Works')]\n",
      "[('p', 'http://www.wikidata.org/prop/direct/P800'), ('pName', 'notable work'), ('o', 'http://www.wikidata.org/entity/Q17417520'), ('oName', 'Irrational Man')]\n",
      "[('p', 'http://www.wikidata.org/prop/direct/P800'), ('pName', 'notable work'), ('o', 'http://www.wikidata.org/entity/Q29658'), ('oName', 'To Rome with Love')]\n",
      "[('p', 'http://www.wikidata.org/prop/direct/P800'), ('pName', 'notable work'), ('o', 'http://www.wikidata.org/entity/Q20950014'), ('oName', 'Café Society')]\n",
      "[('p', 'http://www.wikidata.org/prop/direct/P800'), ('pName', 'notable work'), ('o', 'http://www.wikidata.org/entity/Q1306629'), ('oName', \"A Midsummer Night's Sex Comedy\")]\n",
      "[('p', 'http://www.wikidata.org/prop/direct/P800'), ('pName', 'notable work'), ('o', 'http://www.wikidata.org/entity/Q541185'), ('oName', 'Another Woman')]\n",
      "[('p', 'http://www.wikidata.org/prop/direct/P910'), ('pName', \"topic's main category\"), ('o', 'http://www.wikidata.org/entity/Q7370834'), ('oName', 'Category:Woody Allen')]\n",
      "[('p', 'http://www.wikidata.org/prop/direct/P800'), ('pName', 'notable work'), ('o', 'http://www.wikidata.org/entity/Q685109'), ('oName', 'Radio Days')]\n",
      "[('p', 'http://www.wikidata.org/prop/direct/P800'), ('pName', 'notable work'), ('o', 'http://www.wikidata.org/entity/Q42307699'), ('oName', 'A Rainy Day in New York')]\n",
      "[('p', 'http://www.wikidata.org/prop/direct/P800'), ('pName', 'notable work'), ('o', 'http://www.wikidata.org/entity/Q1334572'), ('oName', 'Everyone Says I Love You')]\n",
      "[('p', 'http://www.wikidata.org/prop/direct/P800'), ('pName', 'notable work'), ('o', 'http://www.wikidata.org/entity/Q212123'), ('oName', 'Vicky Cristina Barcelona')]\n",
      "[('p', 'http://www.wikidata.org/prop/direct/P800'), ('pName', 'notable work'), ('o', 'http://www.wikidata.org/entity/Q233464'), ('oName', 'Annie Hall')]\n",
      "[('p', 'http://www.wikidata.org/prop/direct/P800'), ('pName', 'notable work'), ('o', 'http://www.wikidata.org/entity/Q335508'), ('oName', 'The Curse of the Jade Scorpion')]\n",
      "[('p', 'http://www.wikidata.org/prop/direct/P800'), ('pName', 'notable work'), ('o', 'http://www.wikidata.org/entity/Q551762'), ('oName', 'Deconstructing Harry')]\n",
      "[('p', 'http://www.wikidata.org/prop/direct/P800'), ('pName', 'notable work'), ('o', 'http://www.wikidata.org/entity/Q582021'), ('oName', 'Hollywood Ending')]\n",
      "[('p', 'http://www.wikidata.org/prop/direct/P800'), ('pName', 'notable work'), ('o', 'http://www.wikidata.org/entity/Q845057'), ('oName', 'Hannah and Her Sisters')]\n",
      "[('p', 'http://www.wikidata.org/prop/direct/P800'), ('pName', 'notable work'), ('o', 'http://www.wikidata.org/entity/Q961403'), ('oName', 'Interiors')]\n",
      "[('p', 'http://www.wikidata.org/prop/direct/P1003'), ('pName', 'National Library of Romania ID'), ('o', '000004180')]\n",
      "[('p', 'http://www.wikidata.org/prop/direct/P1005'), ('pName', 'Portuguese National Library ID'), ('o', '821')]\n",
      "[('p', 'http://www.wikidata.org/prop/direct/P1006'), ('pName', 'Nationale Thesaurus voor Auteurs ID'), ('o', '06917654X')]\n",
      "[('p', 'http://www.wikidata.org/prop/direct/P1015'), ('pName', 'NORAF ID'), ('o', '90085344')]\n",
      "[('p', 'http://www.wikidata.org/prop/direct/P109'), ('pName', 'signature'), ('o', 'http://commons.wikimedia.org/wiki/Special:FilePath/Woody%20Allen%20signature.svg')]\n",
      "[('p', 'http://www.wikidata.org/prop/direct/P1150'), ('pName', 'Regensburg Classification'), ('o', 'HU 3027')]\n",
      "[('p', 'http://www.wikidata.org/prop/direct/P1207'), ('pName', 'NUKAT ID'), ('o', 'n93127346')]\n",
      "[('p', 'http://www.wikidata.org/prop/direct/P1220'), ('pName', 'Internet Broadway Database person ID'), ('o', '9226')]\n",
      "[('p', 'http://www.wikidata.org/prop/direct/P1233'), ('pName', 'Internet Speculative Fiction Database author ID'), ('o', '9650')]\n",
      "[('p', 'http://www.wikidata.org/prop/direct/P1263'), ('pName', 'NNDB people ID'), ('o', '501/000022435')]\n",
      "[('p', 'http://www.wikidata.org/prop/direct/P1266'), ('pName', 'AlloCiné person ID'), ('o', '357')]\n",
      "[('p', 'http://www.wikidata.org/prop/direct/P1273'), ('pName', 'CANTIC ID'), ('o', 'a10038486')]\n",
      "[('p', 'http://www.wikidata.org/prop/direct/P1280'), ('pName', 'CONOR.SI ID'), ('o', '8504163')]\n",
      "[('p', 'http://www.wikidata.org/prop/direct/P1284'), ('pName', 'Munzinger person ID'), ('o', '00000014021')]\n",
      "[('p', 'http://www.wikidata.org/prop/direct/P1296'), ('pName', 'Gran Enciclopèdia Catalana ID'), ('o', '0002714')]\n",
      "[('p', 'http://www.wikidata.org/prop/direct/P1309'), ('pName', 'EGAXA ID'), ('o', 'vtls002611536')]\n",
      "[('p', 'http://www.wikidata.org/prop/direct/P1315'), ('pName', 'NLA Trove ID'), ('o', '906367')]\n",
      "[('p', 'http://www.wikidata.org/prop/direct/P1317'), ('pName', 'floruit'), ('o', '2020-01-01T00:00:00Z')]\n",
      "[('p', 'http://www.wikidata.org/prop/direct/P1368'), ('pName', 'LNB ID'), ('o', '000024233')]\n",
      "[('p', 'http://www.wikidata.org/prop/direct/P1375'), ('pName', 'NSK ID'), ('o', '000056010')]\n",
      "[('p', 'http://www.wikidata.org/prop/direct/P1417'), ('pName', 'Encyclopædia Britannica Online ID'), ('o', 'biography/Woody-Allen')]\n",
      "[('p', 'http://www.wikidata.org/prop/direct/P1477'), ('pName', 'birth name'), ('o', 'Allan Stewart Konigsberg')]\n",
      "[('p', 'http://www.wikidata.org/prop/direct/P1559'), ('pName', 'name in native language'), ('o', 'Woody Allen')]\n",
      "[('p', 'http://www.wikidata.org/prop/direct/P1580'), ('pName', 'University of Barcelona authority ID'), ('o', 'a1282847')]\n",
      "[('p', 'http://www.wikidata.org/prop/direct/P1607'), ('pName', 'Dialnet author ID'), ('o', '814159')]\n",
      "[('p', 'http://www.wikidata.org/prop/direct/P166'), ('pName', 'award received'), ('o', 'http://www.wikidata.org/entity/Q20970213')]\n",
      "[('p', 'http://www.wikidata.org/prop/direct/P166'), ('pName', 'award received'), ('o', 'http://www.wikidata.org/entity/Q6351683')]\n",
      "[('p', 'http://www.wikidata.org/prop/direct/P166'), ('pName', 'award received'), ('o', 'http://www.wikidata.org/entity/Q6351674')]\n",
      "[('p', 'http://www.wikidata.org/prop/direct/P1695'), ('pName', 'NLP ID (unique)'), ('o', 'A11854273')]\n",
      "[('p', 'http://www.wikidata.org/prop/direct/P1728'), ('pName', 'AllMusic artist ID'), ('o', 'mn0000678950')]\n",
      "[('p', 'http://www.wikidata.org/prop/direct/P1741'), ('pName', 'GTAA ID'), ('o', '76199')]\n",
      "[('p', 'http://www.wikidata.org/prop/direct/P18'), ('pName', 'image'), ('o', 'http://commons.wikimedia.org/wiki/Special:FilePath/Woody%20Allen%20Cannes%202011.jpg')]\n",
      "[('p', 'http://www.wikidata.org/prop/direct/P1816'), ('pName', 'National Portrait Gallery (London) person ID'), ('o', 'mp64909')]\n",
      "[('p', 'http://www.wikidata.org/prop/direct/P1819'), ('pName', 'genealogics.org person ID'), ('o', 'I00444594')]\n",
      "[('p', 'http://www.wikidata.org/prop/direct/P1953'), ('pName', 'Discogs artist ID'), ('o', '694549')]\n",
      "[('p', 'http://www.wikidata.org/prop/direct/P1969'), ('pName', 'MovieMeter director ID (former scheme)'), ('o', '13607')]\n",
      "[('p', 'http://www.wikidata.org/prop/direct/P1977'), ('pName', 'Les Archives du Spectacle Person ID'), ('o', '40527')]\n",
      "[('p', 'http://www.wikidata.org/prop/direct/P2019'), ('pName', 'AllMovie person ID'), ('o', 'p79388')]\n",
      "[('p', 'http://www.wikidata.org/prop/direct/P2031'), ('pName', 'work period (start)'), ('o', '1950-01-01T00:00:00Z')]\n",
      "[('p', 'http://www.wikidata.org/prop/direct/P213'), ('pName', 'ISNI'), ('o', '0000 0001 2134 7589')]\n",
      "[('p', 'http://www.wikidata.org/prop/direct/P214'), ('pName', 'VIAF ID'), ('o', '59077912')]\n",
      "[('p', 'http://www.wikidata.org/prop/direct/P2163'), ('pName', 'FAST ID'), ('o', '1897483')]\n",
      "[('p', 'http://www.wikidata.org/prop/direct/P2168'), ('pName', 'Swedish Film Database person ID'), ('o', '72675')]\n",
      "[('p', 'http://www.wikidata.org/prop/direct/P2174'), ('pName', 'Museum of Modern Art artist ID'), ('o', '32175')]\n",
      "[('p', 'http://www.wikidata.org/prop/direct/P2188'), ('pName', 'BiblioNet author ID'), ('o', '29913')]\n",
      "[('p', 'http://www.wikidata.org/prop/direct/P2190'), ('pName', 'C-SPAN person ID'), ('o', 'woodyallen')]\n",
      "[('p', 'http://www.wikidata.org/prop/direct/P2191'), ('pName', 'Vegetti Catalog of Fantastic Literature NILF ID'), ('o', '10079')]\n",
      "[('p', 'http://www.wikidata.org/prop/direct/P227'), ('pName', 'GND ID'), ('o', '118502077')]\n",
      "[('p', 'http://www.wikidata.org/prop/direct/P2387'), ('pName', 'Elonet person ID'), ('o', '100324')]\n",
      "[('p', 'http://www.wikidata.org/prop/direct/P2435'), ('pName', 'PORT person ID'), ('o', '1667')]\n",
      "[('p', 'http://www.wikidata.org/prop/direct/P244'), ('pName', 'Library of Congress authority ID'), ('o', 'n79090269')]\n",
      "[('p', 'http://www.wikidata.org/prop/direct/P245'), ('pName', 'Union List of Artist Names ID'), ('o', '500273600')]\n",
      "[('p', 'http://www.wikidata.org/prop/direct/P2469'), ('pName', 'Theatricalia person ID'), ('o', '2303')]\n",
      "[('p', 'http://www.wikidata.org/prop/direct/P2519'), ('pName', 'Scope.dk person ID'), ('o', '610')]\n",
      "[('p', 'http://www.wikidata.org/prop/direct/P2600'), ('pName', 'Geni.com profile ID'), ('o', '6000000006823605220')]\n",
      "[('p', 'http://www.wikidata.org/prop/direct/P2604'), ('pName', 'Kinopoisk person ID'), ('o', '5890')]\n",
      "[('p', 'http://www.wikidata.org/prop/direct/P2605'), ('pName', 'ČSFD person ID'), ('o', '346')]\n",
      "[('p', 'http://www.wikidata.org/prop/direct/P2626'), ('pName', 'Danish National Filmography person ID'), ('o', '6776')]\n",
      "[('p', 'http://www.wikidata.org/prop/direct/P2638'), ('pName', 'TV.com ID'), ('o', 'people/woody-allen')]\n",
      "[('p', 'http://www.wikidata.org/prop/direct/P268'), ('pName', 'Bibliothèque nationale de France ID'), ('o', '11888505c')]\n",
      "[('p', 'http://www.wikidata.org/prop/direct/P2688'), ('pName', 'Box Office Mojo person ID'), ('o', 'woodallen')]\n",
      "[('p', 'http://www.wikidata.org/prop/direct/P269'), ('pName', 'IdRef ID'), ('o', '027272699')]\n",
      "[('p', 'http://www.wikidata.org/prop/direct/P271'), ('pName', 'CiNii author ID (books)'), ('o', 'DA01341288')]\n",
      "[('p', 'http://www.wikidata.org/prop/direct/P2734'), ('pName', 'Unz Review author ID'), ('o', 'AllenWoody')]\n",
      "[('p', 'http://www.wikidata.org/prop/direct/P2924'), ('pName', 'Great Russian Encyclopedia Online ID'), ('o', '3261226')]\n",
      "[('p', 'http://www.wikidata.org/prop/direct/P2963'), ('pName', 'Goodreads author ID'), ('o', '10356')]\n",
      "[('p', 'http://www.wikidata.org/prop/direct/P3056'), ('pName', 'TCM Movie Database person ID'), ('o', '2615')]\n",
      "[('p', 'http://www.wikidata.org/prop/direct/P3065'), ('pName', 'RERO ID'), ('o', '02-A002919919')]\n",
      "[('p', 'http://www.wikidata.org/prop/direct/P3106'), ('pName', 'Guardian topic ID'), ('o', 'film/woodyallen')]\n",
      "[('p', 'http://www.wikidata.org/prop/direct/P3136'), ('pName', 'elCinema person ID'), ('o', '1148580')]\n",
      "[('p', 'http://www.wikidata.org/prop/direct/P3142'), ('pName', 'EDb person ID'), ('o', 'n0002881')]\n",
      "[('p', 'http://www.wikidata.org/prop/direct/P3219'), ('pName', 'Encyclopædia Universalis ID'), ('o', 'woody-allen')]\n",
      "[('p', 'http://www.wikidata.org/prop/direct/P3222'), ('pName', 'NE.se ID'), ('o', 'woody-allen')]\n",
      "[('p', 'http://www.wikidata.org/prop/direct/P3280'), ('pName', 'BAnQ author ID'), ('o', '0000356006')]\n",
      "[('p', 'http://www.wikidata.org/prop/direct/P3305'), ('pName', 'KINENOTE person ID'), ('o', '4624')]\n",
      "[('p', 'http://www.wikidata.org/prop/direct/P3348'), ('pName', 'National Library of Greece ID'), ('o', '68065')]\n",
      "[('p', 'http://www.wikidata.org/prop/direct/P3417'), ('pName', 'Quora topic ID'), ('o', 'Woody-Allen-Playwriter')]\n",
      "[('p', 'http://www.wikidata.org/prop/direct/P3417'), ('pName', 'Quora topic ID'), ('o', 'Woody-Allen-actor-director')]\n",
      "[('p', 'http://www.wikidata.org/prop/direct/P3430'), ('pName', 'SNAC ARK ID'), ('o', 'w6ps26gg')]\n",
      "[('p', 'http://www.wikidata.org/prop/direct/P345'), ('pName', 'IMDb ID'), ('o', 'nm0000095')]\n",
      "[('p', 'http://www.wikidata.org/prop/direct/P3478'), ('pName', 'Songkick artist ID'), ('o', '366139')]\n",
      "[('p', 'http://www.wikidata.org/prop/direct/P3479'), ('pName', 'Omni topic ID'), ('o', 'e783d9b068fb98ff68b525b7f41199205f51a071')]\n",
      "[('p', 'http://www.wikidata.org/prop/direct/P349'), ('pName', 'National Diet Library ID'), ('o', '00431312')]\n",
      "[('p', 'http://www.wikidata.org/prop/direct/P3553'), ('pName', 'Zhihu topic ID'), ('o', '19634130')]\n",
      "[('p', 'http://www.wikidata.org/prop/direct/P3569'), ('pName', 'Cultureel Woordenboek ID'), ('o', 'film/woody-allen')]\n",
      "[('p', 'http://www.wikidata.org/prop/direct/P3630'), ('pName', 'Babelio author ID'), ('o', '2640')]\n",
      "[('p', 'http://www.wikidata.org/prop/direct/P373'), ('pName', 'Commons category'), ('o', 'Woody Allen')]\n",
      "[('p', 'http://www.wikidata.org/prop/direct/P3762'), ('pName', 'openMLOL author ID'), ('o', '124168')]\n",
      "[('p', 'http://www.wikidata.org/prop/direct/P3782'), ('pName', 'Artnet artist ID'), ('o', 'woody-allen')]\n",
      "[('p', 'http://www.wikidata.org/prop/direct/P3788'), ('pName', 'BNMM authority ID'), ('o', '000027166')]\n",
      "[('p', 'http://www.wikidata.org/prop/direct/P3846'), ('pName', 'DBC author ID'), ('o', '87097969361900')]\n",
      "[('p', 'http://www.wikidata.org/prop/direct/P396'), ('pName', 'SBN author ID'), ('o', 'IT\\\\ICCU\\\\CFIV\\\\000724')]\n",
      "[('p', 'http://www.wikidata.org/prop/direct/P3987'), ('pName', 'SHARE Catalogue author ID'), ('o', '456917')]\n",
      "[('p', 'http://www.wikidata.org/prop/direct/P409'), ('pName', 'Libraries Australia ID'), ('o', '35308903')]\n",
      "[('p', 'http://www.wikidata.org/prop/direct/P4104'), ('pName', 'Carnegie Hall agent ID'), ('o', '49174')]\n",
      "[('p', 'http://www.wikidata.org/prop/direct/P4208'), ('pName', 'Billboard artist ID'), ('o', 'woody-allen')]\n",
      "[('p', 'http://www.wikidata.org/prop/direct/P4293'), ('pName', 'PM20 folder ID'), ('o', 'pe/000378')]\n",
      "[('p', 'http://www.wikidata.org/prop/direct/P434'), ('pName', 'MusicBrainz artist ID'), ('o', 'f7476fda-687e-4d11-a02e-cfb88558867d')]\n",
      "[('p', 'http://www.wikidata.org/prop/direct/P4342'), ('pName', 'Store norske leksikon ID'), ('o', 'Woody_Allen')]\n",
      "[('p', 'http://www.wikidata.org/prop/direct/P4456'), ('pName', 'Internet Off-Broadway Database creditable entity ID'), ('o', '6537')]\n",
      "[('p', 'http://www.wikidata.org/prop/direct/P4619'), ('pName', 'National Library of Brazil ID'), ('o', '000568283')]\n",
      "[('p', 'http://www.wikidata.org/prop/direct/P4638'), ('pName', 'The Peerage person ID'), ('o', 'p25315.htm#i253147')]\n",
      "[('p', 'http://www.wikidata.org/prop/direct/P4657'), ('pName', 'The Numbers person ID'), ('o', '4010401')]\n",
      "[('p', 'http://www.wikidata.org/prop/direct/P4985'), ('pName', 'TMDb person ID'), ('o', '1243')]\n",
      "[('p', 'http://www.wikidata.org/prop/direct/P5019'), ('pName', 'Brockhaus Enzyklopädie online ID'), ('o', 'allen-woody')]\n",
      "[('p', 'http://www.wikidata.org/prop/direct/P5033'), ('pName', 'Filmweb.pl person ID'), ('o', '1')]\n",
      "[('p', 'http://www.wikidata.org/prop/direct/P5034'), ('pName', 'National Library of Korea ID'), ('o', 'KAC199632561')]\n",
      "[('p', 'http://www.wikidata.org/prop/direct/P5063'), ('pName', 'Interlingual Index ID'), ('o', 'i94283')]\n",
      "[('p', 'http://www.wikidata.org/prop/direct/P5068'), ('pName', 'Flanders Arts Institute person ID'), ('o', '1878513')]\n",
      "[('p', 'http://www.wikidata.org/prop/direct/P5121'), ('pName', 'All About Jazz musician ID'), ('o', '16524')]\n",
      "[('p', 'http://www.wikidata.org/prop/direct/P5284'), ('pName', 'Douban movie celebrity ID'), ('o', '1054430')]\n",
      "[('p', 'http://www.wikidata.org/prop/direct/P5312'), ('pName', 'Kino-teatr.ua person ID'), ('o', '232')]\n",
      "[('p', 'http://www.wikidata.org/prop/direct/P5361'), ('pName', 'BNB person ID'), ('o', 'AllenWoody1935-')]\n",
      "[('p', 'http://www.wikidata.org/prop/direct/P5414'), ('pName', 'The Paris Review interviewee ID'), ('o', '1550')]\n",
      "[('p', 'http://www.wikidata.org/prop/direct/P5419'), ('pName', 'NYRB contributor ID'), ('o', 'woody-allen')]\n",
      "[('p', 'http://www.wikidata.org/prop/direct/P5421'), ('pName', 'Trading Card Database person ID'), ('o', '88319')]\n",
      "[('p', 'http://www.wikidata.org/prop/direct/P5491'), ('pName', \"BD Gest' author ID\"), ('o', '14509')]\n",
      "[('p', 'http://www.wikidata.org/prop/direct/P5534'), ('pName', 'Open Media Database person ID'), ('o', '1243')]\n",
      "[('p', 'http://www.wikidata.org/prop/direct/P5587'), ('pName', 'Libris-URI'), ('o', '86lnpgfs38q0gs4')]\n",
      "[('p', 'http://www.wikidata.org/prop/direct/P5617'), ('pName', 'Evene ID'), ('o', 'woody-allen-75')]\n",
      "[('p', 'http://www.wikidata.org/prop/direct/P569'), ('pName', 'date of birth'), ('o', '1935-12-01T00:00:00Z')]\n",
      "[('p', 'http://www.wikidata.org/prop/direct/P5739'), ('pName', 'Pontificia Università della Santa Croce ID'), ('o', '1506')]\n",
      "[('p', 'http://www.wikidata.org/prop/direct/P5882'), ('pName', 'Muziekweb performer ID'), ('o', 'M00000095203')]\n",
      "[('p', 'http://www.wikidata.org/prop/direct/P5905'), ('pName', 'Comic Vine ID'), ('o', '4005-66810')]\n",
      "[('p', 'http://www.wikidata.org/prop/direct/P5905'), ('pName', 'Comic Vine ID'), ('o', '4040-114447')]\n",
      "[('p', 'http://www.wikidata.org/prop/direct/P6058'), ('pName', 'Larousse ID'), ('o', 'personnage/wd/104892')]\n",
      "[('p', 'http://www.wikidata.org/prop/direct/P6150'), ('pName', 'Academy Awards Database nominee ID'), ('o', '3610')]\n",
      "[('p', 'http://www.wikidata.org/prop/direct/P6181'), ('pName', 'Disney A to Z ID'), ('o', 'allen-woody')]\n",
      "[('p', 'http://www.wikidata.org/prop/direct/P6262'), ('pName', 'Fandom article ID'), ('o', 'disney:Woody_Allen')]\n",
      "[('p', 'http://www.wikidata.org/prop/direct/P6394'), ('pName', 'ELNET ID'), ('o', 'a1118324x')]\n",
      "[('p', 'http://www.wikidata.org/prop/direct/P646'), ('pName', 'Freebase ID'), ('o', '/m/081lh')]\n",
      "[('p', 'http://www.wikidata.org/prop/direct/P648'), ('pName', 'Open Library ID'), ('o', 'OL583968A')]\n",
      "[('p', 'http://www.wikidata.org/prop/direct/P6656'), ('pName', 'BHCL ID (former scheme)'), ('o', '76252')]\n",
      "[('p', 'http://www.wikidata.org/prop/direct/P6706'), ('pName', 'De Agostini ID'), ('o', 'Allen,+Woody')]\n",
      "[('p', 'http://www.wikidata.org/prop/direct/P6844'), ('pName', 'abART person ID'), ('o', '29368')]\n",
      "[('p', 'http://www.wikidata.org/prop/direct/P6870'), ('pName', 'Latvian National Encyclopedia Online ID'), ('o', '60517')]\n",
      "[('p', 'http://www.wikidata.org/prop/direct/P691'), ('pName', 'NKCR AUT ID'), ('o', 'jn19981000084')]\n",
      "[('p', 'http://www.wikidata.org/prop/direct/P7029'), ('pName', 'National Library of Russia ID'), ('o', '7715539')]\n",
      "[('p', 'http://www.wikidata.org/prop/direct/P7214'), ('pName', 'Allcinema person ID'), ('o', '2978')]\n",
      "[('p', 'http://www.wikidata.org/prop/direct/P7293'), ('pName', 'PLWABN ID'), ('o', '9810671732905606')]\n",
      "[('p', 'http://www.wikidata.org/prop/direct/P7369'), ('pName', 'National Library of Chile ID'), ('o', '000244652')]\n",
      "[('p', 'http://www.wikidata.org/prop/direct/P7400'), ('pName', 'LibraryThing author ID'), ('o', 'allenwoody')]\n",
      "[('p', 'http://www.wikidata.org/prop/direct/P7699'), ('pName', 'National Library of Lithuania ID'), ('o', 'LNB:V*293653;=BO')]\n",
      "[('p', 'http://www.wikidata.org/prop/direct/P7700'), ('pName', 'Slovak National Library ID (VIAF)'), ('o', 'vtls011691200')]\n",
      "[('p', 'http://www.wikidata.org/prop/direct/P7803'), ('pName', 'Decine21 person ID'), ('o', '8386')]\n",
      "[('p', 'http://www.wikidata.org/prop/direct/P7818'), ('pName', 'French Vikidia ID'), ('o', 'Woody_Allen')]\n",
      "[('p', 'http://www.wikidata.org/prop/direct/P7859'), ('pName', 'WorldCat Identities ID'), ('o', 'lccn-n79090269')]\n",
      "[('p', 'http://www.wikidata.org/prop/direct/P7865'), ('pName', 'CoBiS author ID'), ('o', '95a5yja38danygu695b5yc1g60vk4d0')]\n",
      "[('p', 'http://www.wikidata.org/prop/direct/P7902'), ('pName', 'Deutsche Biographie (GND) ID'), ('o', '118502077')]\n",
      "[('p', 'http://www.wikidata.org/prop/direct/P7929'), ('pName', 'Roglo person ID'), ('o', 'p=allen+stewart;n=konigsberg')]\n",
      "[('p', 'http://www.wikidata.org/prop/direct/P8094'), ('pName', 'GeneaStar person ID'), ('o', 'allenw')]\n",
      "[('p', 'http://www.wikidata.org/prop/direct/P8179'), ('pName', 'Canadiana NCF ID'), ('o', 'ncf10388597')]\n",
      "[('p', 'http://www.wikidata.org/prop/direct/P8189'), ('pName', 'National Library of Israel J9U ID'), ('o', '987007257668105171')]\n",
      "[('p', 'http://www.wikidata.org/prop/direct/P8349'), ('pName', 'Proleksis enciklopedija ID'), ('o', '8057')]\n",
      "[('p', 'http://www.wikidata.org/prop/direct/P8385'), ('pName', 'IDU person ID'), ('o', '856')]\n",
      "[('p', 'http://www.wikidata.org/prop/direct/P856'), ('pName', 'official website'), ('o', 'https://www.woodyallen.com/')]\n",
      "[('p', 'http://www.wikidata.org/prop/direct/P866'), ('pName', 'Perlentaucher ID'), ('o', 'woody-allen')]\n",
      "[('p', 'http://www.wikidata.org/prop/direct/P8796'), ('pName', 'FilmPolski press collection ID'), ('o', '29')]\n",
      "[('p', 'http://www.wikidata.org/prop/direct/P8814'), ('pName', 'WordNet 3.1 Synset ID'), ('o', '10834557-n')]\n",
      "[('p', 'http://www.wikidata.org/prop/direct/P8971'), ('pName', 'Cinémathèque québécoise person ID'), ('o', '19445')]\n",
      "[('p', 'http://www.wikidata.org/prop/direct/P8974'), ('pName', 'SAPA ID'), ('o', 'a/9bbb4628-d558-4437-8049-a2592f7dabfd')]\n",
      "[('p', 'http://www.wikidata.org/prop/direct/P8980'), ('pName', 'KANTO ID'), ('o', '000210730')]\n",
      "[('p', 'http://www.wikidata.org/prop/direct/P9037'), ('pName', 'BHCL UUID'), ('o', 'f8e1257a-2f33-4eb0-844f-fe171f2f1634')]\n",
      "[('p', 'http://www.wikidata.org/prop/direct/P906'), ('pName', 'SELIBR ID'), ('o', '207594')]\n",
      "[('p', 'http://www.wikidata.org/prop/direct/P9141'), ('pName', 'Portal da Literatura ID'), ('o', '599')]\n",
      "[('p', 'http://www.wikidata.org/prop/direct/P935'), ('pName', 'Commons gallery'), ('o', 'Woody Allen')]\n",
      "[('p', 'http://www.wikidata.org/prop/direct/P949'), ('pName', 'National Library of Israel ID'), ('o', '000008793')]\n",
      "[('p', 'http://www.wikidata.org/prop/direct/P950'), ('pName', 'Biblioteca Nacional de España ID'), ('o', 'XX1154054')]\n",
      "[('p', 'http://www.wikidata.org/prop/direct/P9743'), ('pName', 'Podchaser creator ID'), ('o', '107aIW1Qlk')]\n",
      "[('p', 'http://www.wikidata.org/prop/direct/P9807'), ('pName', 'SNK ID'), ('o', '172827')]\n",
      "[('p', 'http://www.wikidata.org/prop/direct/P3144'), ('pName', 'elFilm person ID'), ('o', '3232487')]\n",
      "[('p', 'http://www.wikidata.org/prop/direct/P4283'), ('pName', 'LUMIERE director ID'), ('o', '46')]\n"
     ]
    },
    {
     "data": {
      "text/plain": [
       "306"
      ]
     },
     "execution_count": 2,
     "metadata": {},
     "output_type": "execute_result"
    }
   ],
   "source": [
    "queryString = \"\"\"\n",
    "select distinct ?p ?pName ?o ?oName where {\n",
    "    wd:Q25089 ?p ?o.\n",
    "    \n",
    "    ?p <http://schema.org/name> ?pName .\n",
    "    optional { ?o <http://schema.org/name> ?oName . }\n",
    "} \n",
    "\"\"\"\n",
    "\n",
    "print(\"Results\")\n",
    "run_query(queryString)"
   ]
  },
  {
   "cell_type": "markdown",
   "id": "51e590b0-0ff6-4024-8abf-f5aaafd02351",
   "metadata": {},
   "source": [
    "Starting from Woody Allen, find some property that contains \"film\""
   ]
  },
  {
   "cell_type": "code",
   "execution_count": 3,
   "id": "ade01416-92e7-4ad7-b9a9-b8fb330750dc",
   "metadata": {},
   "outputs": [
    {
     "name": "stdout",
     "output_type": "stream",
     "text": [
      "Results\n",
      "[('p', 'http://www.wikidata.org/prop/direct/P1283'), ('pName', 'filmography')]\n"
     ]
    },
    {
     "data": {
      "text/plain": [
       "1"
      ]
     },
     "execution_count": 3,
     "metadata": {},
     "output_type": "execute_result"
    }
   ],
   "source": [
    "queryString = \"\"\"\n",
    "select distinct ?p ?pName where { \n",
    "    wd:Q25089 ?p ?o .\n",
    "    ?p <http://schema.org/name> ?pName .\n",
    "    \n",
    "    filter(regex(?pName, \"film\"))\n",
    "} \n",
    "\"\"\"\n",
    "\n",
    "print(\"Results\")\n",
    "run_query(queryString)"
   ]
  },
  {
   "cell_type": "markdown",
   "id": "c0b17a27-b4cf-40f7-852b-fe9580cb036d",
   "metadata": {},
   "source": [
    "I found out that the property **P1283** refers to the filmography of a director. This means that from Woody Allen we can retrieve his filmography."
   ]
  },
  {
   "cell_type": "code",
   "execution_count": 4,
   "id": "b5ca03fd-0813-4759-8b9e-d1ff7ced6f88",
   "metadata": {},
   "outputs": [
    {
     "name": "stdout",
     "output_type": "stream",
     "text": [
      "Results\n",
      "[('filmography', 'http://www.wikidata.org/entity/Q2455835'), ('fName', 'Woody Allen filmography')]\n"
     ]
    },
    {
     "data": {
      "text/plain": [
       "1"
      ]
     },
     "execution_count": 4,
     "metadata": {},
     "output_type": "execute_result"
    }
   ],
   "source": [
    "queryString = \"\"\"\n",
    "select ?filmography ?fName where { \n",
    "    wd:Q25089 wdt:P1283 ?filmography .\n",
    "    \n",
    "    ?filmography <http://schema.org/name> ?fName .\n",
    "} \n",
    "\"\"\"\n",
    "\n",
    "print(\"Results\")\n",
    "run_query(queryString)"
   ]
  },
  {
   "cell_type": "markdown",
   "id": "2cb3bf2f-90c8-45b3-942a-8e9cede92fe5",
   "metadata": {},
   "source": [
    "From the filmography of Woody Allen, search for entities that contains \"film\"."
   ]
  },
  {
   "cell_type": "code",
   "execution_count": 5,
   "id": "e1939773-9dd3-47db-a068-bb1a1bd9bf13",
   "metadata": {},
   "outputs": [
    {
     "name": "stdout",
     "output_type": "stream",
     "text": [
      "Results\n",
      "[('p', 'http://www.wikidata.org/prop/direct/P31'), ('pName', 'instance of'), ('o', 'http://www.wikidata.org/entity/Q1371849'), ('oName', 'filmography')]\n",
      "[('p', 'http://www.wikidata.org/prop/direct/P360'), ('pName', 'is a list of'), ('o', 'http://www.wikidata.org/entity/Q11424'), ('oName', 'film')]\n"
     ]
    },
    {
     "data": {
      "text/plain": [
       "2"
      ]
     },
     "execution_count": 5,
     "metadata": {},
     "output_type": "execute_result"
    }
   ],
   "source": [
    "queryString = \"\"\"\n",
    "select ?p ?pName ?o ?oName where { \n",
    "    wd:Q2455835 ?p ?o .\n",
    "    ?p <http://schema.org/name> ?pName .\n",
    "    ?o <http://schema.org/name> ?oName .\n",
    "    \n",
    "    filter(regex(?oName, \"film\"))\n",
    "} \n",
    "\"\"\"\n",
    "\n",
    "print(\"Results\")\n",
    "run_query(queryString)"
   ]
  },
  {
   "cell_type": "markdown",
   "id": "454175a0-948d-48a7-aa11-7338ef1624cc",
   "metadata": {},
   "source": [
    "And finally, we retrieve that \"filmography\" has a property named \"is a list of\" that points to the entity \"film\". I can use this entity to look for films."
   ]
  },
  {
   "cell_type": "markdown",
   "id": "fb0479d4-50d1-4563-b37a-e1faeec6cdc4",
   "metadata": {},
   "source": [
    "So **Q11424** is the entity of film. And the GPB to retrieve all films is:\n",
    "```\n",
    "?film wdt:P31 wd:Q11424\n",
    "```"
   ]
  },
  {
   "cell_type": "code",
   "execution_count": 6,
   "id": "eeef35ae-9d6c-49d9-a723-0be54fd4c31f",
   "metadata": {
    "tags": []
   },
   "outputs": [
    {
     "name": "stdout",
     "output_type": "stream",
     "text": [
      "Results\n",
      "[('film', 'http://www.wikidata.org/entity/Q8178307'), ('filmName', '15 Park Avenue')]\n",
      "[('film', 'http://www.wikidata.org/entity/Q8197668'), ('filmName', 'Idiot Love')]\n",
      "[('film', 'http://www.wikidata.org/entity/Q319263'), ('filmName', 'Doctor in the House')]\n",
      "[('film', 'http://www.wikidata.org/entity/Q8452990'), ('filmName', \"Sunday League - Pepik Hnatek's Final Match\")]\n",
      "[('film', 'http://www.wikidata.org/entity/Q284184'), ('filmName', 'Ra.One')]\n",
      "[('film', 'http://www.wikidata.org/entity/Q13637926'), ('filmName', 'Indra')]\n",
      "[('film', 'http://www.wikidata.org/entity/Q13638153'), ('filmName', 'Inner Senses')]\n",
      "[('film', 'http://www.wikidata.org/entity/Q13645807'), ('filmName', 'Madhumasam')]\n",
      "[('film', 'http://www.wikidata.org/entity/Q13647258'), ('filmName', 'Marupakkam')]\n",
      "[('film', 'http://www.wikidata.org/entity/Q13677566'), ('filmName', 'Timberjack')]\n"
     ]
    },
    {
     "data": {
      "text/plain": [
       "10"
      ]
     },
     "execution_count": 6,
     "metadata": {},
     "output_type": "execute_result"
    }
   ],
   "source": [
    "queryString = \"\"\"\n",
    "select distinct ?film ?filmName where { \n",
    "    ?film wdt:P31 wd:Q11424 .\n",
    "    \n",
    "    ?film <http://schema.org/name> ?filmName .\n",
    "} limit 10\n",
    "\"\"\"\n",
    "\n",
    "print(\"Results\")\n",
    "run_query(queryString)"
   ]
  },
  {
   "cell_type": "markdown",
   "id": "68d29038-918b-43d5-a9ec-e038c775d735",
   "metadata": {
    "jp-MarkdownHeadingCollapsed": true,
    "tags": []
   },
   "source": [
    "## Task 2. Identify the BGP for directors"
   ]
  },
  {
   "cell_type": "markdown",
   "id": "07ec2aab-37e8-47f9-a184-f917d4becb05",
   "metadata": {},
   "source": [
    "To find the property \"director\", I can look for properties connected to any film which contains \"direct\"."
   ]
  },
  {
   "cell_type": "code",
   "execution_count": 7,
   "id": "62685abe-974e-499a-bc32-7148eb0b842a",
   "metadata": {},
   "outputs": [
    {
     "name": "stdout",
     "output_type": "stream",
     "text": [
      "Results\n",
      "[('p', 'http://www.wikidata.org/prop/direct/P344'), ('pName', 'director of photography')]\n",
      "[('p', 'http://www.wikidata.org/prop/direct/P57'), ('pName', 'director')]\n",
      "[('p', 'http://www.wikidata.org/prop/direct/P3174'), ('pName', 'art director')]\n",
      "[('p', 'http://www.wikidata.org/prop/direct/P5126'), ('pName', 'assistant director')]\n",
      "[('p', 'http://www.wikidata.org/prop/direct/P1037'), ('pName', 'director / manager')]\n"
     ]
    },
    {
     "data": {
      "text/plain": [
       "5"
      ]
     },
     "execution_count": 7,
     "metadata": {},
     "output_type": "execute_result"
    }
   ],
   "source": [
    "queryString = \"\"\"\n",
    "select distinct ?p ?pName where { \n",
    "    ?film wdt:P31 wd:Q11424 ;\n",
    "          ?p ?obj .\n",
    "    \n",
    "    ?p <http://schema.org/name> ?pName .\n",
    "    \n",
    "    filter(regex(?pName, \"direct\"))\n",
    "} \n",
    "\"\"\"\n",
    "\n",
    "print(\"Results\")\n",
    "run_query(queryString)"
   ]
  },
  {
   "cell_type": "markdown",
   "id": "8b6c8ec0-0950-4217-bbd4-db509ddf704c",
   "metadata": {},
   "source": [
    "And so we can find that **P57** is the property for \"director\". To find all the directors of films we can use the following BGP.\n",
    "\n",
    "```\n",
    "?film wdt:P31 wd:Q11424 ;\n",
    "      wdt:P57 ?director .\n",
    "```"
   ]
  },
  {
   "cell_type": "code",
   "execution_count": 8,
   "id": "8a5a023e-dc9a-41b1-8507-75c2aabb6a03",
   "metadata": {
    "tags": []
   },
   "outputs": [
    {
     "name": "stdout",
     "output_type": "stream",
     "text": [
      "Results\n",
      "[('director', 'http://www.wikidata.org/entity/Q1202851'), ('directorName', 'Kihachi Okamoto')]\n",
      "[('director', 'http://www.wikidata.org/entity/Q1357018'), ('directorName', 'Raoul Peck')]\n",
      "[('director', 'http://www.wikidata.org/entity/Q15042966'), ('directorName', 'Jan Prušinovský')]\n",
      "[('director', 'http://www.wikidata.org/entity/Q3053027'), ('directorName', 'Emmett J. Flynn')]\n",
      "[('director', 'http://www.wikidata.org/entity/Q505780'), ('directorName', 'Andrew L. Stone')]\n",
      "[('director', 'http://www.wikidata.org/entity/Q550854'), ('directorName', 'Jorge Brum do Canto')]\n",
      "[('director', 'http://www.wikidata.org/entity/Q5642632'), ('directorName', 'Takeshi Furusawa')]\n",
      "[('director', 'http://www.wikidata.org/entity/Q7820336'), ('directorName', 'Tomoyuki Furumaya')]\n",
      "[('director', 'http://www.wikidata.org/entity/Q1698561'), ('directorName', 'Johannes Wahlström')]\n",
      "[('director', 'http://www.wikidata.org/entity/Q3120961'), ('directorName', 'Gurmeet Singh')]\n"
     ]
    },
    {
     "data": {
      "text/plain": [
       "10"
      ]
     },
     "execution_count": 8,
     "metadata": {},
     "output_type": "execute_result"
    }
   ],
   "source": [
    "queryString = \"\"\"\n",
    "select distinct ?director ?directorName where { \n",
    "    ?film wdt:P31 wd:Q11424 ;\n",
    "          wdt:P57 ?director .\n",
    "    \n",
    "    ?director <http://schema.org/name> ?directorName .\n",
    "} limit 10\n",
    "\"\"\"\n",
    "\n",
    "print(\"Results\")\n",
    "run_query(queryString)"
   ]
  },
  {
   "cell_type": "markdown",
   "id": "5545fafc-110f-41b7-800e-b098693f9df1",
   "metadata": {
    "tags": []
   },
   "source": [
    "## Task 3. Identify the BGP for workers in a films"
   ]
  },
  {
   "cell_type": "markdown",
   "id": "72713045-bc22-48a2-97e3-947c51b970dc",
   "metadata": {},
   "source": [
    "From the films I can see the properties which connect films to humans."
   ]
  },
  {
   "cell_type": "code",
   "execution_count": 9,
   "id": "e39cdab8-2123-4117-8d0c-9d84a1b9418d",
   "metadata": {
    "tags": []
   },
   "outputs": [
    {
     "name": "stdout",
     "output_type": "stream",
     "text": [
      "Results\n",
      "[('p', 'http://www.wikidata.org/prop/direct/P1809'), ('pName', 'choreographer')]\n",
      "[('p', 'http://www.wikidata.org/prop/direct/P1040'), ('pName', 'film editor')]\n",
      "[('p', 'http://www.wikidata.org/prop/direct/P161'), ('pName', 'cast member')]\n",
      "[('p', 'http://www.wikidata.org/prop/direct/P162'), ('pName', 'producer')]\n",
      "[('p', 'http://www.wikidata.org/prop/direct/P175'), ('pName', 'performer')]\n",
      "[('p', 'http://www.wikidata.org/prop/direct/P2515'), ('pName', 'costume designer')]\n",
      "[('p', 'http://www.wikidata.org/prop/direct/P344'), ('pName', 'director of photography')]\n",
      "[('p', 'http://www.wikidata.org/prop/direct/P57'), ('pName', 'director')]\n",
      "[('p', 'http://www.wikidata.org/prop/direct/P58'), ('pName', 'screenwriter')]\n",
      "[('p', 'http://www.wikidata.org/prop/direct/P676'), ('pName', 'lyrics by')]\n",
      "[('p', 'http://www.wikidata.org/prop/direct/P86'), ('pName', 'composer')]\n",
      "[('p', 'http://www.wikidata.org/prop/direct/P2554'), ('pName', 'production designer')]\n",
      "[('p', 'http://www.wikidata.org/prop/direct/P1431'), ('pName', 'executive producer')]\n",
      "[('p', 'http://www.wikidata.org/prop/direct/P1877'), ('pName', 'after a work by')]\n",
      "[('p', 'http://www.wikidata.org/prop/direct/P3174'), ('pName', 'art director')]\n",
      "[('p', 'http://www.wikidata.org/prop/direct/P750'), ('pName', 'distributed by')]\n",
      "[('p', 'http://www.wikidata.org/prop/direct/P3931'), ('pName', 'copyright holder')]\n",
      "[('p', 'http://www.wikidata.org/prop/direct/P5028'), ('pName', 'sound designer')]\n",
      "[('p', 'http://www.wikidata.org/prop/direct/P5126'), ('pName', 'assistant director')]\n",
      "[('p', 'http://www.wikidata.org/prop/direct/P2438'), ('pName', 'narrator')]\n",
      "[('p', 'http://www.wikidata.org/prop/direct/P4608'), ('pName', 'scenographer')]\n",
      "[('p', 'http://www.wikidata.org/prop/direct/P272'), ('pName', 'production company')]\n",
      "[('p', 'http://www.wikidata.org/prop/direct/P50'), ('pName', 'author')]\n",
      "[('p', 'http://www.wikidata.org/prop/direct/P674'), ('pName', 'characters')]\n",
      "[('p', 'http://www.wikidata.org/prop/direct/P3092'), ('pName', 'film crew member')]\n",
      "[('p', 'http://www.wikidata.org/prop/direct/P921'), ('pName', 'main subject')]\n",
      "[('p', 'http://www.wikidata.org/prop/direct/P725'), ('pName', 'voice actor')]\n",
      "[('p', 'http://www.wikidata.org/prop/direct/P4805'), ('pName', 'make-up artist')]\n",
      "[('p', 'http://www.wikidata.org/prop/direct/P170'), ('pName', 'creator')]\n",
      "[('p', 'http://www.wikidata.org/prop/direct/P825'), ('pName', 'dedicated to')]\n",
      "[('p', 'http://www.wikidata.org/prop/direct/P1889'), ('pName', 'different from')]\n",
      "[('p', 'http://www.wikidata.org/prop/direct/P138'), ('pName', 'named after')]\n",
      "[('p', 'http://www.wikidata.org/prop/direct/P180'), ('pName', 'depicts')]\n",
      "[('p', 'http://www.wikidata.org/prop/direct/P941'), ('pName', 'inspired by')]\n",
      "[('p', 'http://www.wikidata.org/prop/direct/P767'), ('pName', 'contributor to the creative work or subject')]\n",
      "[('p', 'http://www.wikidata.org/prop/direct/P98'), ('pName', 'editor')]\n",
      "[('p', 'http://www.wikidata.org/prop/direct/P371'), ('pName', 'presenter')]\n",
      "[('p', 'http://www.wikidata.org/prop/direct/P8670'), ('pName', 'character designer')]\n",
      "[('p', 'http://www.wikidata.org/prop/direct/P2849'), ('pName', 'produced by')]\n",
      "[('p', 'http://www.wikidata.org/prop/direct/P6942'), ('pName', 'animator')]\n",
      "[('p', 'http://www.wikidata.org/prop/direct/P3275'), ('pName', 'storyboard artist')]\n",
      "[('p', 'http://www.wikidata.org/prop/direct/P710'), ('pName', 'participant')]\n",
      "[('p', 'http://www.wikidata.org/prop/direct/P3342'), ('pName', 'significant person')]\n",
      "[('p', 'http://www.wikidata.org/prop/direct/P1269'), ('pName', 'facet of')]\n",
      "[('p', 'http://www.wikidata.org/prop/direct/P137'), ('pName', 'operator')]\n",
      "[('p', 'http://www.wikidata.org/prop/direct/P127'), ('pName', 'owned by')]\n",
      "[('p', 'http://www.wikidata.org/prop/direct/P737'), ('pName', 'influenced by')]\n",
      "[('p', 'http://www.wikidata.org/prop/direct/P88'), ('pName', 'commissioned by')]\n",
      "[('p', 'http://www.wikidata.org/prop/direct/P736'), ('pName', 'cover art by')]\n",
      "[('p', 'http://www.wikidata.org/prop/direct/P1029'), ('pName', 'crew member(s)')]\n",
      "[('p', 'http://www.wikidata.org/prop/direct/P287'), ('pName', 'designed by')]\n",
      "[('p', 'http://www.wikidata.org/prop/direct/P110'), ('pName', 'illustrator')]\n",
      "[('p', 'http://www.wikidata.org/prop/direct/P3300'), ('pName', 'musical conductor')]\n",
      "[('p', 'http://www.wikidata.org/prop/direct/P655'), ('pName', 'translator')]\n",
      "[('p', 'http://www.wikidata.org/prop/direct/P87'), ('pName', 'librettist')]\n",
      "[('p', 'http://www.wikidata.org/prop/direct/P942'), ('pName', 'theme music')]\n",
      "[('p', 'http://www.wikidata.org/prop/direct/P5202'), ('pName', 'adapted by')]\n",
      "[('p', 'http://www.wikidata.org/prop/direct/P3816'), ('pName', 'film script')]\n",
      "[('p', 'http://www.wikidata.org/prop/direct/P5051'), ('pName', 'towards')]\n",
      "[('p', 'http://www.wikidata.org/prop/direct/P123'), ('pName', 'publisher')]\n",
      "[('p', 'http://www.wikidata.org/prop/direct/P859'), ('pName', 'sponsor')]\n",
      "[('p', 'http://www.wikidata.org/prop/direct/P6086'), ('pName', 'dramaturge')]\n",
      "[('p', 'http://www.wikidata.org/prop/direct/P155'), ('pName', 'follows')]\n",
      "[('p', 'http://www.wikidata.org/prop/direct/P136'), ('pName', 'genre')]\n",
      "[('p', 'http://www.wikidata.org/prop/direct/P144'), ('pName', 'based on')]\n",
      "[('p', 'http://www.wikidata.org/prop/direct/P5026'), ('pName', 'lighting designer')]\n",
      "[('p', 'http://www.wikidata.org/prop/direct/P2408'), ('pName', 'set in period')]\n",
      "[('p', 'http://www.wikidata.org/prop/direct/P4646'), ('pName', 'representation of')]\n",
      "[('p', 'http://www.wikidata.org/prop/direct/P805'), ('pName', 'statement is subject of')]\n",
      "[('p', 'http://www.wikidata.org/prop/direct/P1037'), ('pName', 'director / manager')]\n",
      "[('p', 'http://www.wikidata.org/prop/direct/P1542'), ('pName', 'has effect')]\n",
      "[('p', 'http://www.wikidata.org/prop/direct/P2354'), ('pName', 'has list')]\n",
      "[('p', 'http://www.wikidata.org/prop/direct/P176'), ('pName', 'manufacturer')]\n",
      "[('p', 'http://www.wikidata.org/prop/direct/P156'), ('pName', 'followed by')]\n",
      "[('p', 'http://www.wikidata.org/prop/direct/P1652'), ('pName', 'referee')]\n",
      "[('p', 'http://www.wikidata.org/prop/direct/P1346'), ('pName', 'winner')]\n",
      "[('p', 'http://www.wikidata.org/prop/direct/P453'), ('pName', 'character role')]\n",
      "[('p', 'http://www.wikidata.org/prop/direct/P658'), ('pName', 'tracklist')]\n",
      "[('p', 'http://www.wikidata.org/prop/direct/P406'), ('pName', 'soundtrack release')]\n"
     ]
    },
    {
     "data": {
      "text/plain": [
       "79"
      ]
     },
     "execution_count": 9,
     "metadata": {},
     "output_type": "execute_result"
    }
   ],
   "source": [
    "queryString = \"\"\"\n",
    "select distinct ?p ?pName where {\n",
    "    ?film wdt:P31 wd:Q11424 ;\n",
    "          ?p ?worker .\n",
    "    ?worker wdt:P31 wd:Q5 .\n",
    "    \n",
    "    ?p <http://schema.org/name> ?pName .\n",
    "} \n",
    "\"\"\"\n",
    "\n",
    "print(\"Results\")\n",
    "run_query(queryString)"
   ]
  },
  {
   "cell_type": "markdown",
   "id": "9eb224d2-aaa0-400d-938a-93b224a2321f",
   "metadata": {},
   "source": [
    "Let's take \"director\" (**P57**) and \"cast member\" (**P161**) properties."
   ]
  },
  {
   "cell_type": "code",
   "execution_count": 10,
   "id": "02b64081-4f5f-4712-a3f0-8c6369ae5f08",
   "metadata": {
    "collapsed": true,
    "jupyter": {
     "outputs_hidden": true
    },
    "tags": []
   },
   "outputs": [
    {
     "name": "stdout",
     "output_type": "stream",
     "text": [
      "Results\n",
      "[('work', 'http://www.wikidata.org/entity/P161'), ('p', 'http://www.wikidata.org/prop/direct/P1629'), ('pName', 'Wikidata item of this property'), ('o', 'http://www.wikidata.org/entity/Q337084'), ('oName', 'drag queen')]\n",
      "[('work', 'http://www.wikidata.org/entity/P161'), ('p', 'http://www.wikidata.org/prop/direct/P1629'), ('pName', 'Wikidata item of this property'), ('o', 'http://www.wikidata.org/entity/Q622807'), ('oName', 'seiyū')]\n",
      "[('work', 'http://www.wikidata.org/entity/P161'), ('p', 'http://www.wikidata.org/prop/direct/P1629'), ('pName', 'Wikidata item of this property'), ('o', 'http://www.wikidata.org/entity/Q713200'), ('oName', 'performing artist')]\n",
      "[('work', 'http://www.wikidata.org/entity/P161'), ('p', 'http://www.wikidata.org/prop/direct/P1629'), ('pName', 'Wikidata item of this property'), ('o', 'http://www.wikidata.org/entity/Q27658988'), ('oName', 'reality television participant')]\n",
      "[('work', 'http://www.wikidata.org/entity/P161'), ('p', 'http://www.wikidata.org/prop/direct/P1629'), ('pName', 'Wikidata item of this property'), ('o', 'http://www.wikidata.org/entity/Q52688389'), ('oName', 'animal actor')]\n",
      "[('work', 'http://www.wikidata.org/entity/P161'), ('p', 'http://www.wikidata.org/prop/direct/P1629'), ('pName', 'Wikidata item of this property'), ('o', 'http://www.wikidata.org/entity/Q10798782'), ('oName', 'television actor')]\n",
      "[('work', 'http://www.wikidata.org/entity/P161'), ('p', 'http://www.wikidata.org/prop/direct/P1629'), ('pName', 'Wikidata item of this property'), ('o', 'http://www.wikidata.org/entity/Q10800557'), ('oName', 'film actor')]\n",
      "[('work', 'http://www.wikidata.org/entity/P161'), ('p', 'http://www.wikidata.org/prop/direct/P1629'), ('pName', 'Wikidata item of this property'), ('o', 'http://www.wikidata.org/entity/Q177220'), ('oName', 'singer')]\n",
      "[('work', 'http://www.wikidata.org/entity/P161'), ('p', 'http://www.wikidata.org/prop/direct/P1629'), ('pName', 'Wikidata item of this property'), ('o', 'http://www.wikidata.org/entity/Q2259451'), ('oName', 'stage actor')]\n",
      "[('work', 'http://www.wikidata.org/entity/P161'), ('p', 'http://www.wikidata.org/prop/direct/P1629'), ('pName', 'Wikidata item of this property'), ('o', 'http://www.wikidata.org/entity/Q33999'), ('oName', 'actor')]\n",
      "[('work', 'http://www.wikidata.org/entity/P161'), ('p', 'http://www.wikidata.org/prop/direct/P1629'), ('pName', 'Wikidata item of this property'), ('o', 'http://www.wikidata.org/entity/Q4610556'), ('oName', 'model')]\n",
      "[('work', 'http://www.wikidata.org/entity/P161'), ('p', 'http://www.wikidata.org/prop/direct/P1629'), ('pName', 'Wikidata item of this property'), ('o', 'http://www.wikidata.org/entity/Q2865819'), ('oName', 'opera singer')]\n",
      "[('work', 'http://www.wikidata.org/entity/P161'), ('p', 'http://www.wikidata.org/prop/direct/P1629'), ('pName', 'Wikidata item of this property'), ('o', 'http://www.wikidata.org/entity/Q488111'), ('oName', 'pornographic actor')]\n",
      "[('work', 'http://www.wikidata.org/entity/P161'), ('p', 'http://www.wikidata.org/prop/direct/P1647'), ('pName', 'subproperty of'), ('o', 'http://www.wikidata.org/entity/P3342'), ('oName', 'significant person')]\n",
      "[('work', 'http://www.wikidata.org/entity/P161'), ('p', 'http://www.wikidata.org/prop/direct/P1659'), ('pName', 'see also'), ('o', 'http://www.wikidata.org/entity/P5030'), ('oName', 'talk show guest')]\n",
      "[('work', 'http://www.wikidata.org/entity/P161'), ('p', 'http://www.wikidata.org/prop/direct/P1629'), ('pName', 'Wikidata item of this property'), ('o', 'http://www.wikidata.org/entity/Q805221'), ('oName', 'ballet dancer')]\n",
      "[('work', 'http://www.wikidata.org/entity/P161'), ('p', 'http://www.wikidata.org/prop/direct/P1629'), ('pName', 'Wikidata item of this property'), ('o', 'http://www.wikidata.org/entity/Q1954956'), ('oName', 'musical theatre actor')]\n",
      "[('work', 'http://www.wikidata.org/entity/P161'), ('p', 'http://www.wikidata.org/prop/direct/P1629'), ('pName', 'Wikidata item of this property'), ('o', 'http://www.wikidata.org/entity/Q21169216'), ('oName', 'actress')]\n",
      "[('work', 'http://www.wikidata.org/entity/P161'), ('p', 'http://www.wikidata.org/prop/direct/P1659'), ('pName', 'see also'), ('o', 'http://www.wikidata.org/entity/P175'), ('oName', 'performer')]\n",
      "[('work', 'http://www.wikidata.org/entity/P161'), ('p', 'http://www.wikidata.org/prop/direct/P1647'), ('pName', 'subproperty of'), ('o', 'http://www.wikidata.org/entity/P175'), ('oName', 'performer')]\n",
      "[('work', 'http://www.wikidata.org/entity/P161'), ('p', 'http://www.wikidata.org/prop/direct/P31'), ('pName', 'instance of'), ('o', 'http://www.wikidata.org/entity/Q18618644'), ('oName', 'Wikidata property for items about works')]\n",
      "[('work', 'http://www.wikidata.org/entity/P161'), ('p', 'http://www.wikidata.org/prop/direct/P2302'), ('pName', 'property constraint'), ('o', 'http://www.wikidata.org/entity/Q21502838'), ('oName', 'conflicts-with constraint')]\n",
      "[('work', 'http://www.wikidata.org/entity/P161'), ('p', 'http://www.wikidata.org/prop/direct/P2302'), ('pName', 'property constraint'), ('o', 'http://www.wikidata.org/entity/Q21503250'), ('oName', 'type constraint')]\n",
      "[('work', 'http://www.wikidata.org/entity/P161'), ('p', 'http://www.wikidata.org/prop/direct/P2302'), ('pName', 'property constraint'), ('o', 'http://www.wikidata.org/entity/Q21510851'), ('oName', 'allowed qualifiers constraint')]\n",
      "[('work', 'http://www.wikidata.org/entity/P161'), ('p', 'http://www.wikidata.org/prop/direct/P2302'), ('pName', 'property constraint'), ('o', 'http://www.wikidata.org/entity/Q21510864'), ('oName', 'value-requires-statement constraint')]\n",
      "[('work', 'http://www.wikidata.org/entity/P161'), ('p', 'http://www.wikidata.org/prop/direct/P2302'), ('pName', 'property constraint'), ('o', 'http://www.wikidata.org/entity/Q21510865'), ('oName', 'value-type constraint')]\n",
      "[('work', 'http://www.wikidata.org/entity/P161'), ('p', 'http://www.wikidata.org/prop/direct/P2302'), ('pName', 'property constraint'), ('o', 'http://www.wikidata.org/entity/Q52004125'), ('oName', 'allowed entity types constraint')]\n",
      "[('work', 'http://www.wikidata.org/entity/P161'), ('p', 'http://www.wikidata.org/prop/direct/P2302'), ('pName', 'property constraint'), ('o', 'http://www.wikidata.org/entity/Q53869507'), ('oName', 'property scope constraint')]\n",
      "[('work', 'http://www.wikidata.org/entity/P161'), ('p', 'http://www.wikidata.org/prop/direct/P1855'), ('pName', 'Wikidata property example'), ('o', 'http://www.wikidata.org/entity/Q44578'), ('oName', 'Titanic')]\n",
      "[('work', 'http://www.wikidata.org/entity/P161'), ('p', 'http://www.wikidata.org/prop/direct/P1659'), ('pName', 'see also'), ('o', 'http://www.wikidata.org/entity/P453'), ('oName', 'character role')]\n",
      "[('work', 'http://www.wikidata.org/entity/P161'), ('p', 'http://www.wikidata.org/prop/direct/P8379'), ('pName', 'qualifier for this property'), ('o', 'http://www.wikidata.org/entity/P453'), ('oName', 'character role')]\n",
      "[('work', 'http://www.wikidata.org/entity/P161'), ('p', 'http://www.wikidata.org/prop/direct/P1629'), ('pName', 'Wikidata item of this property'), ('o', 'http://www.wikidata.org/entity/Q64012031'), ('oName', 'radio actor')]\n",
      "[('work', 'http://www.wikidata.org/entity/P161'), ('p', 'http://www.wikidata.org/prop/direct/P2354'), ('pName', 'has list'), ('o', 'http://www.wikidata.org/entity/Q26129120'), ('oName', 'list of most active film actors')]\n",
      "[('work', 'http://www.wikidata.org/entity/P161'), ('p', 'http://www.wikidata.org/prop/direct/P1629'), ('pName', 'Wikidata item of this property'), ('o', 'http://www.wikidata.org/entity/Q3297652'), ('oName', 'cast member')]\n",
      "[('work', 'http://www.wikidata.org/entity/P161'), ('p', 'http://www.wikidata.org/prop/direct/P1855'), ('pName', 'Wikidata property example'), ('o', 'http://www.wikidata.org/entity/Q213411'), ('oName', 'Cast Away')]\n",
      "[('work', 'http://www.wikidata.org/entity/P161'), ('p', 'http://www.wikidata.org/prop/direct/P1659'), ('pName', 'see also'), ('o', 'http://www.wikidata.org/entity/P725'), ('oName', 'voice actor')]\n",
      "[('work', 'http://www.wikidata.org/entity/P161'), ('p', 'http://www.wikidata.org/prop/direct/P2875'), ('pName', 'property usage tracking category'), ('o', 'http://www.wikidata.org/entity/Q29168737'), ('oName', 'Category:Pages using Wikidata property P161')]\n",
      "[('work', 'http://www.wikidata.org/entity/P161'), ('p', 'http://www.wikidata.org/prop/direct/P1629'), ('pName', 'Wikidata item of this property'), ('o', 'http://www.wikidata.org/entity/Q66318312'), ('oName', 'cast member of')]\n",
      "[('work', 'http://www.wikidata.org/entity/P161'), ('p', 'http://www.wikidata.org/prop/direct/P7087'), ('pName', 'inverse label item'), ('o', 'http://www.wikidata.org/entity/Q66318312'), ('oName', 'cast member of')]\n",
      "[('work', 'http://www.wikidata.org/entity/P161'), ('p', 'http://www.wikidata.org/prop/direct/P1855'), ('pName', 'Wikidata property example'), ('o', 'http://www.wikidata.org/entity/Q7719277'), ('oName', 'The Book of Mormon: Original Broadway Cast Recording')]\n",
      "[('work', 'http://www.wikidata.org/entity/P161'), ('p', 'http://www.wikidata.org/prop/direct/P1628'), ('pName', 'equivalent property'), ('o', 'https://schema.org/actor')]\n",
      "[('work', 'http://www.wikidata.org/entity/P161'), ('p', 'http://www.wikidata.org/prop/direct/P1628'), ('pName', 'equivalent property'), ('o', 'http://dbpedia.org/ontology/Actor')]\n",
      "[('work', 'http://www.wikidata.org/entity/P161'), ('p', 'http://www.wikidata.org/prop/direct/P3254'), ('pName', 'property proposal discussion'), ('o', 'https://www.wikidata.org/wiki/Wikidata:Property_proposal/Archive/2#P161')]\n",
      "[('work', 'http://www.wikidata.org/entity/P57'), ('p', 'http://www.wikidata.org/prop/direct/P1659'), ('pName', 'see also'), ('o', 'http://www.wikidata.org/entity/P50'), ('oName', 'author')]\n",
      "[('work', 'http://www.wikidata.org/entity/P57'), ('p', 'http://www.wikidata.org/prop/direct/P1647'), ('pName', 'subproperty of'), ('o', 'http://www.wikidata.org/entity/P50'), ('oName', 'author')]\n",
      "[('work', 'http://www.wikidata.org/entity/P57'), ('p', 'http://www.wikidata.org/prop/direct/P1629'), ('pName', 'Wikidata item of this property'), ('o', 'http://www.wikidata.org/entity/Q3455803'), ('oName', 'director')]\n",
      "[('work', 'http://www.wikidata.org/entity/P57'), ('p', 'http://www.wikidata.org/prop/direct/P1855'), ('pName', 'Wikidata property example'), ('o', 'http://www.wikidata.org/entity/Q907226'), ('oName', 'Metal Gear Solid 2: Sons of Liberty')]\n",
      "[('work', 'http://www.wikidata.org/entity/P57'), ('p', 'http://www.wikidata.org/prop/direct/P1647'), ('pName', 'subproperty of'), ('o', 'http://www.wikidata.org/entity/P3342'), ('oName', 'significant person')]\n",
      "[('work', 'http://www.wikidata.org/entity/P57'), ('p', 'http://www.wikidata.org/prop/direct/P1659'), ('pName', 'see also'), ('o', 'http://www.wikidata.org/entity/P170'), ('oName', 'creator')]\n",
      "[('work', 'http://www.wikidata.org/entity/P57'), ('p', 'http://www.wikidata.org/prop/direct/P31'), ('pName', 'instance of'), ('o', 'http://www.wikidata.org/entity/Q18618644'), ('oName', 'Wikidata property for items about works')]\n",
      "[('work', 'http://www.wikidata.org/entity/P57'), ('p', 'http://www.wikidata.org/prop/direct/P2302'), ('pName', 'property constraint'), ('o', 'http://www.wikidata.org/entity/Q21502838'), ('oName', 'conflicts-with constraint')]\n",
      "[('work', 'http://www.wikidata.org/entity/P57'), ('p', 'http://www.wikidata.org/prop/direct/P2302'), ('pName', 'property constraint'), ('o', 'http://www.wikidata.org/entity/Q21503250'), ('oName', 'type constraint')]\n",
      "[('work', 'http://www.wikidata.org/entity/P57'), ('p', 'http://www.wikidata.org/prop/direct/P2302'), ('pName', 'property constraint'), ('o', 'http://www.wikidata.org/entity/Q21510851'), ('oName', 'allowed qualifiers constraint')]\n",
      "[('work', 'http://www.wikidata.org/entity/P57'), ('p', 'http://www.wikidata.org/prop/direct/P2302'), ('pName', 'property constraint'), ('o', 'http://www.wikidata.org/entity/Q21510864'), ('oName', 'value-requires-statement constraint')]\n",
      "[('work', 'http://www.wikidata.org/entity/P57'), ('p', 'http://www.wikidata.org/prop/direct/P2302'), ('pName', 'property constraint'), ('o', 'http://www.wikidata.org/entity/Q21510865'), ('oName', 'value-type constraint')]\n",
      "[('work', 'http://www.wikidata.org/entity/P57'), ('p', 'http://www.wikidata.org/prop/direct/P1855'), ('pName', 'Wikidata property example'), ('o', 'http://www.wikidata.org/entity/Q44578'), ('oName', 'Titanic')]\n",
      "[('work', 'http://www.wikidata.org/entity/P57'), ('p', 'http://www.wikidata.org/prop/direct/P1855'), ('pName', 'Wikidata property example'), ('o', 'http://www.wikidata.org/entity/Q2731169'), ('oName', 'Regret!')]\n",
      "[('work', 'http://www.wikidata.org/entity/P57'), ('p', 'http://www.wikidata.org/prop/direct/P1855'), ('pName', 'Wikidata property example'), ('o', 'http://www.wikidata.org/entity/Q1156892'), ('oName', 'The Eel')]\n",
      "[('work', 'http://www.wikidata.org/entity/P57'), ('p', 'http://www.wikidata.org/prop/direct/P1855'), ('pName', 'Wikidata property example'), ('o', 'http://www.wikidata.org/entity/Q20631366'), ('oName', 'Junior Musical - Kadanza')]\n",
      "[('work', 'http://www.wikidata.org/entity/P57'), ('p', 'http://www.wikidata.org/prop/direct/P2875'), ('pName', 'property usage tracking category'), ('o', 'http://www.wikidata.org/entity/Q27478235'), ('oName', 'Category:Pages using Wikidata property P57')]\n",
      "[('work', 'http://www.wikidata.org/entity/P57'), ('p', 'http://www.wikidata.org/prop/direct/P7087'), ('pName', 'inverse label item'), ('o', 'http://www.wikidata.org/entity/Q65971570'), ('oName', 'director of')]\n",
      "[('work', 'http://www.wikidata.org/entity/P57'), ('p', 'http://www.wikidata.org/prop/direct/P1628'), ('pName', 'equivalent property'), ('o', 'https://schema.org/director')]\n",
      "[('work', 'http://www.wikidata.org/entity/P57'), ('p', 'http://www.wikidata.org/prop/direct/P1628'), ('pName', 'equivalent property'), ('o', 'http://d-nb.info/standards/elementset/gnd#director')]\n",
      "[('work', 'http://www.wikidata.org/entity/P57'), ('p', 'http://www.wikidata.org/prop/direct/P3734'), ('pName', 'category for value same as Wikidata'), ('o', 'http://www.wikidata.org/entity/Q42533247')]\n"
     ]
    },
    {
     "data": {
      "text/plain": [
       "64"
      ]
     },
     "execution_count": 10,
     "metadata": {},
     "output_type": "execute_result"
    }
   ],
   "source": [
    "queryString = \"\"\"\n",
    "select distinct ?work ?p ?pName ?o ?oName where {\n",
    "    values ?work {wd:P57 wd:P161}\n",
    "    \n",
    "    ?work ?p ?o .\n",
    "    \n",
    "    ?p <http://schema.org/name> ?pName .\n",
    "    optional { ?o <http://schema.org/name> ?oName . }\n",
    "} order by ?work\n",
    "\"\"\"\n",
    "\n",
    "print(\"Results\")\n",
    "run_query(queryString)"
   ]
  },
  {
   "cell_type": "markdown",
   "id": "9e3432a3-4216-47fa-884d-78b660e3edf0",
   "metadata": {},
   "source": [
    "I can see that the entities releated to the property \"director\" and \"cast member\" are \"director\" (**Q3455803**) and \"film actor\" (**Q10800557**) (and many other, but take them as example). I see the properties of those entities."
   ]
  },
  {
   "cell_type": "code",
   "execution_count": 11,
   "id": "85814fdc-d797-4dbb-b7be-049f5e8cc975",
   "metadata": {
    "tags": []
   },
   "outputs": [
    {
     "name": "stdout",
     "output_type": "stream",
     "text": [
      "Results\n",
      "[('work', 'http://www.wikidata.org/entity/Q10800557'), ('p', 'http://www.wikidata.org/prop/direct/P31'), ('pName', 'instance of'), ('o', 'http://www.wikidata.org/entity/Q4220920'), ('oName', 'filmmaking occupation')]\n",
      "[('work', 'http://www.wikidata.org/entity/Q10800557'), ('p', 'http://www.wikidata.org/prop/direct/P910'), ('pName', \"topic's main category\"), ('o', 'http://www.wikidata.org/entity/Q5479723'), ('oName', 'Category:Film actors')]\n",
      "[('work', 'http://www.wikidata.org/entity/Q10800557'), ('p', 'http://www.wikidata.org/prop/direct/P1889'), ('pName', 'different from'), ('o', 'http://www.wikidata.org/entity/Q10798782'), ('oName', 'television actor')]\n",
      "[('work', 'http://www.wikidata.org/entity/Q10800557'), ('p', 'http://www.wikidata.org/prop/direct/P279'), ('pName', 'subclass of'), ('o', 'http://www.wikidata.org/entity/Q33999'), ('oName', 'actor')]\n",
      "[('work', 'http://www.wikidata.org/entity/Q10800557'), ('p', 'http://www.wikidata.org/prop/direct/P1687'), ('pName', 'Wikidata property'), ('o', 'http://www.wikidata.org/entity/P161'), ('oName', 'cast member')]\n",
      "[('work', 'http://www.wikidata.org/entity/Q10800557'), ('p', 'http://www.wikidata.org/prop/direct/P1256'), ('pName', 'Iconclass notation'), ('o', '48C8711')]\n",
      "[('work', 'http://www.wikidata.org/entity/Q10800557'), ('p', 'http://www.wikidata.org/prop/direct/P1256'), ('pName', 'Iconclass notation'), ('o', '48C8712')]\n",
      "[('work', 'http://www.wikidata.org/entity/Q10800557'), ('p', 'http://www.wikidata.org/prop/direct/P227'), ('pName', 'GND ID'), ('o', '4017140-1')]\n",
      "[('work', 'http://www.wikidata.org/entity/Q10800557'), ('p', 'http://www.wikidata.org/prop/direct/P244'), ('pName', 'Library of Congress authority ID'), ('o', 'sh85088027')]\n",
      "[('work', 'http://www.wikidata.org/entity/Q10800557'), ('p', 'http://www.wikidata.org/prop/direct/P2671'), ('pName', 'Google Knowledge Graph ID'), ('o', '/g/120ykz7p')]\n",
      "[('work', 'http://www.wikidata.org/entity/Q10800557'), ('p', 'http://www.wikidata.org/prop/direct/P268'), ('pName', 'Bibliothèque nationale de France ID'), ('o', '11930821n')]\n",
      "[('work', 'http://www.wikidata.org/entity/Q10800557'), ('p', 'http://www.wikidata.org/prop/direct/P373'), ('pName', 'Commons category'), ('o', 'Film actors')]\n",
      "[('work', 'http://www.wikidata.org/entity/Q10800557'), ('p', 'http://www.wikidata.org/prop/direct/P508'), ('pName', 'BNCF Thesaurus ID'), ('o', '2163')]\n",
      "[('work', 'http://www.wikidata.org/entity/Q10800557'), ('p', 'http://www.wikidata.org/prop/direct/P8814'), ('pName', 'WordNet 3.1 Synset ID'), ('o', '10583526-n')]\n",
      "[('work', 'http://www.wikidata.org/entity/Q10800557'), ('p', 'http://www.wikidata.org/prop/direct/P952'), ('pName', 'ISCO-88 occupation code'), ('o', '2455')]\n",
      "[('work', 'http://www.wikidata.org/entity/Q10800557'), ('p', 'http://www.wikidata.org/prop/direct/P2521'), ('pName', 'female form of label'), ('o', 'film actress')]\n",
      "[('work', 'http://www.wikidata.org/entity/Q3455803'), ('p', 'http://www.wikidata.org/prop/direct/P910'), ('pName', \"topic's main category\"), ('o', 'http://www.wikidata.org/entity/Q5870903'), ('oName', 'Category:Directors')]\n",
      "[('work', 'http://www.wikidata.org/entity/Q3455803'), ('p', 'http://www.wikidata.org/prop/direct/P31'), ('pName', 'instance of'), ('o', 'http://www.wikidata.org/entity/Q28640'), ('oName', 'profession')]\n",
      "[('work', 'http://www.wikidata.org/entity/Q3455803'), ('p', 'http://www.wikidata.org/prop/direct/P279'), ('pName', 'subclass of'), ('o', 'http://www.wikidata.org/entity/Q483501'), ('oName', 'artist')]\n",
      "[('work', 'http://www.wikidata.org/entity/Q3455803'), ('p', 'http://www.wikidata.org/prop/direct/P101'), ('pName', 'field of work'), ('o', 'http://www.wikidata.org/entity/Q2137554'), ('oName', 'direction')]\n",
      "[('work', 'http://www.wikidata.org/entity/Q3455803'), ('p', 'http://www.wikidata.org/prop/direct/P425'), ('pName', 'field of this occupation'), ('o', 'http://www.wikidata.org/entity/Q2137554'), ('oName', 'direction')]\n",
      "[('work', 'http://www.wikidata.org/entity/Q3455803'), ('p', 'http://www.wikidata.org/prop/direct/P279'), ('pName', 'subclass of'), ('o', 'http://www.wikidata.org/entity/Q2462658'), ('oName', 'manager')]\n",
      "[('work', 'http://www.wikidata.org/entity/Q3455803'), ('p', 'http://www.wikidata.org/prop/direct/P279'), ('pName', 'subclass of'), ('o', 'http://www.wikidata.org/entity/Q2500638'), ('oName', 'creator')]\n",
      "[('work', 'http://www.wikidata.org/entity/Q3455803'), ('p', 'http://www.wikidata.org/prop/direct/P101'), ('pName', 'field of work'), ('o', 'http://www.wikidata.org/entity/Q2607241'), ('oName', 'mise en scène')]\n",
      "[('work', 'http://www.wikidata.org/entity/Q3455803'), ('p', 'http://www.wikidata.org/prop/direct/P6186'), ('pName', 'category for eponymous categories'), ('o', 'http://www.wikidata.org/entity/Q8104450'), ('oName', 'Category:Wikipedia categories named after filmmakers')]\n",
      "[('work', 'http://www.wikidata.org/entity/Q3455803'), ('p', 'http://www.wikidata.org/prop/direct/P1687'), ('pName', 'Wikidata property'), ('o', 'http://www.wikidata.org/entity/P57'), ('oName', 'director')]\n",
      "[('work', 'http://www.wikidata.org/entity/Q3455803'), ('p', 'http://www.wikidata.org/prop/direct/P1424'), ('pName', \"topic's main template\"), ('o', 'http://www.wikidata.org/entity/Q10809861'), ('oName', 'Template:Infobox film director')]\n",
      "[('work', 'http://www.wikidata.org/entity/Q3455803'), ('p', 'http://www.wikidata.org/prop/direct/P918'), ('pName', 'NOC Occupation Code'), ('o', '5131')]\n",
      "[('work', 'http://www.wikidata.org/entity/Q3455803'), ('p', 'http://www.wikidata.org/prop/direct/P1245'), ('pName', 'OmegaWiki Defined Meaning'), ('o', '770665')]\n",
      "[('work', 'http://www.wikidata.org/entity/Q3455803'), ('p', 'http://www.wikidata.org/prop/direct/P227'), ('pName', 'GND ID'), ('o', '4049050-6')]\n",
      "[('work', 'http://www.wikidata.org/entity/Q3455803'), ('p', 'http://www.wikidata.org/prop/direct/P227'), ('pName', 'GND ID'), ('o', '4281949-0')]\n",
      "[('work', 'http://www.wikidata.org/entity/Q3455803'), ('p', 'http://www.wikidata.org/prop/direct/P2671'), ('pName', 'Google Knowledge Graph ID'), ('o', '/g/122pqxph')]\n",
      "[('work', 'http://www.wikidata.org/entity/Q3455803'), ('p', 'http://www.wikidata.org/prop/direct/P2888'), ('pName', 'exact match'), ('o', 'https://schema.org/director')]\n",
      "[('work', 'http://www.wikidata.org/entity/Q3455803'), ('p', 'http://www.wikidata.org/prop/direct/P3553'), ('pName', 'Zhihu topic ID'), ('o', '19558591')]\n",
      "[('work', 'http://www.wikidata.org/entity/Q3455803'), ('p', 'http://www.wikidata.org/prop/direct/P373'), ('pName', 'Commons category'), ('o', 'Directors')]\n",
      "[('work', 'http://www.wikidata.org/entity/Q3455803'), ('p', 'http://www.wikidata.org/prop/direct/P4801'), ('pName', 'LoC and MARC vocabularies ID'), ('o', 'relators/drt')]\n",
      "[('work', 'http://www.wikidata.org/entity/Q3455803'), ('p', 'http://www.wikidata.org/prop/direct/P6573'), ('pName', 'Klexikon article ID'), ('o', 'Regisseur')]\n",
      "[('work', 'http://www.wikidata.org/entity/Q3455803'), ('p', 'http://www.wikidata.org/prop/direct/P8814'), ('pName', 'WordNet 3.1 Synset ID'), ('o', '10035230-n')]\n",
      "[('work', 'http://www.wikidata.org/entity/Q3455803'), ('p', 'http://www.wikidata.org/prop/direct/P973'), ('pName', 'described at URL'), ('o', 'https://noc.esdc.gc.ca/LaStructure/ProfilCnp?objectid=%2fnwr43Y0lXntf9ET%2fm5WdOifSbz5fu4%2fLVUOXW1chO9pEGybab0UeR%2baSVk1%2fqATtwL2gXAPXaSuKDb2tC4adCCaFIQrnEeFVBBYEtm%2bz2o%3d&GoCTemplateCulture=fr-CA')]\n",
      "[('work', 'http://www.wikidata.org/entity/Q3455803'), ('p', 'http://www.wikidata.org/prop/direct/P973'), ('pName', 'described at URL'), ('o', 'https://noc.esdc.gc.ca/Structure/NocProfile?objectid=%2fnwr43Y0lXntf9ET%2fm5WdOifSbz5fu4%2fLVUOXW1chO9pEGybab0UeR%2baSVk1%2fqATtwL2gXAPXaSuKDb2tC4adCCaFIQrnEeFVBBYEtm%2bz2o%3d&GoCTemplateCulture=en-CA')]\n",
      "[('work', 'http://www.wikidata.org/entity/Q3455803'), ('p', 'http://www.wikidata.org/prop/direct/P1043'), ('pName', 'IDEO Job ID'), ('o', '100303')]\n",
      "[('work', 'http://www.wikidata.org/entity/Q3455803'), ('p', 'http://www.wikidata.org/prop/direct/P5188'), ('pName', 'Sandbox-Lexeme'), ('o', 'http://www.wikidata.org/entity/L3991')]\n"
     ]
    },
    {
     "data": {
      "text/plain": [
       "42"
      ]
     },
     "execution_count": 11,
     "metadata": {},
     "output_type": "execute_result"
    }
   ],
   "source": [
    "queryString = \"\"\"\n",
    "select distinct ?work ?p ?pName ?o ?oName where {\n",
    "    values ?work {wd:Q10800557 wd:Q3455803}\n",
    "    \n",
    "    ?work ?p ?o .\n",
    "    \n",
    "    ?p <http://schema.org/name> ?pName .\n",
    "    optional { ?o <http://schema.org/name> ?oName . }\n",
    "} order by ?work\n",
    "\"\"\"\n",
    "\n",
    "print(\"Results\")\n",
    "run_query(queryString)"
   ]
  },
  {
   "cell_type": "markdown",
   "id": "6982cc08-d3fb-4ee2-9817-4a0d3575b4dc",
   "metadata": {},
   "source": [
    "I see the properties of the instances of the two workers, filmmaking occupation (**Q4220920**) and profession (**Q28640**)."
   ]
  },
  {
   "cell_type": "code",
   "execution_count": 12,
   "id": "28a9a105-7dfc-4425-855d-c71a7d88615c",
   "metadata": {
    "collapsed": true,
    "jupyter": {
     "outputs_hidden": true
    },
    "tags": []
   },
   "outputs": [
    {
     "name": "stdout",
     "output_type": "stream",
     "text": [
      "Results\n",
      "[('work', 'http://www.wikidata.org/entity/Q28640'), ('p', 'http://www.wikidata.org/prop/direct/P279'), ('pName', 'subclass of'), ('o', 'http://www.wikidata.org/entity/Q192581'), ('oName', 'job')]\n",
      "[('work', 'http://www.wikidata.org/entity/Q28640'), ('p', 'http://www.wikidata.org/prop/direct/P1889'), ('pName', 'different from'), ('o', 'http://www.wikidata.org/entity/Q828803'), ('oName', 'job title')]\n",
      "[('work', 'http://www.wikidata.org/entity/Q28640'), ('p', 'http://www.wikidata.org/prop/direct/P1343'), ('pName', 'described by source'), ('o', 'http://www.wikidata.org/entity/Q101314624'), ('oName', 'Lean Logic: A Dictionary for the Future and How to Survive It')]\n",
      "[('work', 'http://www.wikidata.org/entity/Q28640'), ('p', 'http://www.wikidata.org/prop/direct/P1889'), ('pName', 'different from'), ('o', 'http://www.wikidata.org/entity/Q12737077'), ('oName', 'occupation')]\n",
      "[('work', 'http://www.wikidata.org/entity/Q28640'), ('p', 'http://www.wikidata.org/prop/direct/P279'), ('pName', 'subclass of'), ('o', 'http://www.wikidata.org/entity/Q12737077'), ('oName', 'occupation')]\n",
      "[('work', 'http://www.wikidata.org/entity/Q28640'), ('p', 'http://www.wikidata.org/prop/direct/P1343'), ('pName', 'described by source'), ('o', 'http://www.wikidata.org/entity/Q19180675'), ('oName', 'Small Brockhaus and Efron Encyclopedic Dictionary')]\n",
      "[('work', 'http://www.wikidata.org/entity/Q28640'), ('p', 'http://www.wikidata.org/prop/direct/P1889'), ('pName', 'different from'), ('o', 'http://www.wikidata.org/entity/Q4164871'), ('oName', 'position')]\n",
      "[('work', 'http://www.wikidata.org/entity/Q28640'), ('p', 'http://www.wikidata.org/prop/direct/P1343'), ('pName', 'described by source'), ('o', 'http://www.wikidata.org/entity/Q4173137'), ('oName', 'Jewish Encyclopedia of Brockhaus and Efron')]\n",
      "[('work', 'http://www.wikidata.org/entity/Q28640'), ('p', 'http://www.wikidata.org/prop/direct/P279'), ('pName', 'subclass of'), ('o', 'http://www.wikidata.org/entity/Q1047113'), ('oName', 'specialty')]\n",
      "[('work', 'http://www.wikidata.org/entity/Q28640'), ('p', 'http://www.wikidata.org/prop/direct/P31'), ('pName', 'instance of'), ('o', 'http://www.wikidata.org/entity/Q24017414'), ('oName', 'second-order class')]\n",
      "[('work', 'http://www.wikidata.org/entity/Q28640'), ('p', 'http://www.wikidata.org/prop/direct/P31'), ('pName', 'instance of'), ('o', 'http://www.wikidata.org/entity/Q19361238'), ('oName', 'Wikidata metaclass')]\n",
      "[('work', 'http://www.wikidata.org/entity/Q28640'), ('p', 'http://www.wikidata.org/prop/direct/P3095'), ('pName', 'practiced by'), ('o', 'http://www.wikidata.org/entity/Q702269'), ('oName', 'professional')]\n",
      "[('work', 'http://www.wikidata.org/entity/Q28640'), ('p', 'http://www.wikidata.org/prop/direct/P1687'), ('pName', 'Wikidata property'), ('o', 'http://www.wikidata.org/entity/P106'), ('oName', 'occupation')]\n",
      "[('work', 'http://www.wikidata.org/entity/Q28640'), ('p', 'http://www.wikidata.org/prop/direct/P910'), ('pName', \"topic's main category\"), ('o', 'http://www.wikidata.org/entity/Q9672372'), ('oName', 'Category:Professions')]\n",
      "[('work', 'http://www.wikidata.org/entity/Q28640'), ('p', 'http://www.wikidata.org/prop/direct/P1424'), ('pName', \"topic's main template\"), ('o', 'http://www.wikidata.org/entity/Q6471307'), ('oName', 'Template:Infobox occupation')]\n",
      "[('work', 'http://www.wikidata.org/entity/Q4220920'), ('p', 'http://www.wikidata.org/prop/direct/P1687'), ('pName', 'Wikidata property'), ('o', 'http://www.wikidata.org/entity/P3092'), ('oName', 'film crew member')]\n",
      "[('work', 'http://www.wikidata.org/entity/Q4220920'), ('p', 'http://www.wikidata.org/prop/direct/P3095'), ('pName', 'practiced by'), ('o', 'http://www.wikidata.org/entity/Q1414443'), ('oName', 'filmmaker')]\n",
      "[('work', 'http://www.wikidata.org/entity/Q4220920'), ('p', 'http://www.wikidata.org/prop/direct/P279'), ('pName', 'subclass of'), ('o', 'http://www.wikidata.org/entity/Q28640'), ('oName', 'profession')]\n",
      "[('work', 'http://www.wikidata.org/entity/Q4220920'), ('p', 'http://www.wikidata.org/prop/direct/P31'), ('pName', 'instance of'), ('o', 'http://www.wikidata.org/entity/Q19361238'), ('oName', 'Wikidata metaclass')]\n",
      "[('work', 'http://www.wikidata.org/entity/Q4220920'), ('p', 'http://www.wikidata.org/prop/direct/P1424'), ('pName', \"topic's main template\"), ('o', 'http://www.wikidata.org/entity/Q5871779'), ('oName', 'Template:Infobox filmmaker')]\n",
      "[('work', 'http://www.wikidata.org/entity/Q4220920'), ('p', 'http://www.wikidata.org/prop/direct/P3095'), ('pName', 'practiced by'), ('o', 'http://www.wikidata.org/entity/Q3406858'), ('oName', 'film professional')]\n",
      "[('work', 'http://www.wikidata.org/entity/Q4220920'), ('p', 'http://www.wikidata.org/prop/direct/P910'), ('pName', \"topic's main category\"), ('o', 'http://www.wikidata.org/entity/Q9727432'), ('oName', 'Category:Filmmaking occupations')]\n"
     ]
    },
    {
     "data": {
      "text/plain": [
       "22"
      ]
     },
     "execution_count": 12,
     "metadata": {},
     "output_type": "execute_result"
    }
   ],
   "source": [
    "queryString = \"\"\"\n",
    "select distinct ?work ?p ?pName ?o ?oName where {\n",
    "    values ?work {wd:Q4220920 wd:Q28640}\n",
    "    \n",
    "    ?work ?p ?o .\n",
    "    \n",
    "    ?p <http://schema.org/name> ?pName .\n",
    "    ?o <http://schema.org/name> ?oName .\n",
    "} order by ?work\n",
    "\"\"\"\n",
    "\n",
    "print(\"Results\")\n",
    "run_query(queryString)"
   ]
  },
  {
   "cell_type": "markdown",
   "id": "0367b77f-ec9f-43e5-af6e-ba2c885beab2",
   "metadata": {},
   "source": [
    "The subclasses job (**Q192581**), occupation (**Q12737077**), specialty (**Q1047113**), profession (**Q28640**, as seen before) have properties:"
   ]
  },
  {
   "cell_type": "code",
   "execution_count": 13,
   "id": "f386e1a1-6295-49c4-ab1c-a07f75c5b891",
   "metadata": {
    "collapsed": true,
    "jupyter": {
     "outputs_hidden": true
    },
    "tags": []
   },
   "outputs": [
    {
     "name": "stdout",
     "output_type": "stream",
     "text": [
      "Results\n",
      "[('work', 'http://www.wikidata.org/entity/Q1047113'), ('p', 'http://www.wikidata.org/prop/direct/P1382'), ('pName', 'partially coincident with'), ('o', 'http://www.wikidata.org/entity/Q644238'), ('oName', 'expertise')]\n",
      "[('work', 'http://www.wikidata.org/entity/Q1047113'), ('p', 'http://www.wikidata.org/prop/direct/P279'), ('pName', 'subclass of'), ('o', 'http://www.wikidata.org/entity/Q9081'), ('oName', 'knowledge')]\n",
      "[('work', 'http://www.wikidata.org/entity/Q1047113'), ('p', 'http://www.wikidata.org/prop/direct/P460'), ('pName', 'said to be the same as'), ('o', 'http://www.wikidata.org/entity/Q11862829'), ('oName', 'academic discipline')]\n",
      "[('work', 'http://www.wikidata.org/entity/Q1047113'), ('p', 'http://www.wikidata.org/prop/direct/P460'), ('pName', 'said to be the same as'), ('o', 'http://www.wikidata.org/entity/Q2465832'), ('oName', 'branch of science')]\n",
      "[('work', 'http://www.wikidata.org/entity/Q1047113'), ('p', 'http://www.wikidata.org/prop/direct/P31'), ('pName', 'instance of'), ('o', 'http://www.wikidata.org/entity/Q5962346'), ('oName', 'classification system')]\n",
      "[('work', 'http://www.wikidata.org/entity/Q1047113'), ('p', 'http://www.wikidata.org/prop/direct/P1269'), ('pName', 'facet of'), ('o', 'http://www.wikidata.org/entity/Q8434'), ('oName', 'education')]\n",
      "[('work', 'http://www.wikidata.org/entity/Q1047113'), ('p', 'http://www.wikidata.org/prop/direct/P460'), ('pName', 'said to be the same as'), ('o', 'http://www.wikidata.org/entity/Q2267705'), ('oName', 'field of study')]\n",
      "[('work', 'http://www.wikidata.org/entity/Q1047113'), ('p', 'http://www.wikidata.org/prop/direct/P31'), ('pName', 'instance of'), ('o', 'http://www.wikidata.org/entity/Q24017414'), ('oName', 'second-order class')]\n",
      "[('work', 'http://www.wikidata.org/entity/Q1047113'), ('p', 'http://www.wikidata.org/prop/direct/P1382'), ('pName', 'partially coincident with'), ('o', 'http://www.wikidata.org/entity/Q64506407'), ('oName', 'skilled trade')]\n",
      "[('work', 'http://www.wikidata.org/entity/Q1047113'), ('p', 'http://www.wikidata.org/prop/direct/P910'), ('pName', \"topic's main category\"), ('o', 'http://www.wikidata.org/entity/Q18329108'), ('oName', 'Category:Speciality')]\n",
      "[('work', 'http://www.wikidata.org/entity/Q1047113'), ('p', 'http://www.wikidata.org/prop/direct/P460'), ('pName', 'said to be the same as'), ('o', 'http://www.wikidata.org/entity/Q5289798'), ('oName', 'domain')]\n",
      "[('work', 'http://www.wikidata.org/entity/Q12737077'), ('p', 'http://www.wikidata.org/prop/direct/P910'), ('pName', \"topic's main category\"), ('o', 'http://www.wikidata.org/entity/Q4048530'), ('oName', 'Category:Occupations')]\n",
      "[('work', 'http://www.wikidata.org/entity/Q12737077'), ('p', 'http://www.wikidata.org/prop/direct/P31'), ('pName', 'instance of'), ('o', 'http://www.wikidata.org/entity/Q151885'), ('oName', 'concept')]\n",
      "[('work', 'http://www.wikidata.org/entity/Q12737077'), ('p', 'http://www.wikidata.org/prop/direct/P1889'), ('pName', 'different from'), ('o', 'http://www.wikidata.org/entity/Q28640'), ('oName', 'profession')]\n",
      "[('work', 'http://www.wikidata.org/entity/Q12737077'), ('p', 'http://www.wikidata.org/prop/direct/P1889'), ('pName', 'different from'), ('o', 'http://www.wikidata.org/entity/Q4164871'), ('oName', 'position')]\n",
      "[('work', 'http://www.wikidata.org/entity/Q12737077'), ('p', 'http://www.wikidata.org/prop/direct/P31'), ('pName', 'instance of'), ('o', 'http://www.wikidata.org/entity/Q24017414'), ('oName', 'second-order class')]\n",
      "[('work', 'http://www.wikidata.org/entity/Q12737077'), ('p', 'http://www.wikidata.org/prop/direct/P279'), ('pName', 'subclass of'), ('o', 'http://www.wikidata.org/entity/Q1807498'), ('oName', 'social position')]\n",
      "[('work', 'http://www.wikidata.org/entity/Q12737077'), ('p', 'http://www.wikidata.org/prop/direct/P1687'), ('pName', 'Wikidata property'), ('o', 'http://www.wikidata.org/entity/P106'), ('oName', 'occupation')]\n",
      "[('work', 'http://www.wikidata.org/entity/Q12737077'), ('p', 'http://www.wikidata.org/prop/direct/P1963'), ('pName', 'properties for this type'), ('o', 'http://www.wikidata.org/entity/P3095'), ('oName', 'practiced by')]\n",
      "[('work', 'http://www.wikidata.org/entity/Q12737077'), ('p', 'http://www.wikidata.org/prop/direct/P1687'), ('pName', 'Wikidata property'), ('o', 'http://www.wikidata.org/entity/P425'), ('oName', 'field of this occupation')]\n",
      "[('work', 'http://www.wikidata.org/entity/Q12737077'), ('p', 'http://www.wikidata.org/prop/direct/P1963'), ('pName', 'properties for this type'), ('o', 'http://www.wikidata.org/entity/P425'), ('oName', 'field of this occupation')]\n",
      "[('work', 'http://www.wikidata.org/entity/Q192581'), ('p', 'http://www.wikidata.org/prop/direct/P1889'), ('pName', 'different from'), ('o', 'http://www.wikidata.org/entity/Q656365'), ('oName', 'employment')]\n",
      "[('work', 'http://www.wikidata.org/entity/Q192581'), ('p', 'http://www.wikidata.org/prop/direct/P31'), ('pName', 'instance of'), ('o', 'http://www.wikidata.org/entity/Q189970'), ('oName', 'social status')]\n",
      "[('work', 'http://www.wikidata.org/entity/Q192581'), ('p', 'http://www.wikidata.org/prop/direct/P1542'), ('pName', 'has effect'), ('o', 'http://www.wikidata.org/entity/Q815298'), ('oName', 'occupational stress')]\n",
      "[('work', 'http://www.wikidata.org/entity/Q192581'), ('p', 'http://www.wikidata.org/prop/direct/P1687'), ('pName', 'Wikidata property'), ('o', 'http://www.wikidata.org/entity/P39'), ('oName', 'position held')]\n",
      "[('work', 'http://www.wikidata.org/entity/Q192581'), ('p', 'http://www.wikidata.org/prop/direct/P279'), ('pName', 'subclass of'), ('o', 'http://www.wikidata.org/entity/Q16532276'), ('oName', 'work')]\n",
      "[('work', 'http://www.wikidata.org/entity/Q192581'), ('p', 'http://www.wikidata.org/prop/direct/P460'), ('pName', 'said to be the same as'), ('o', 'http://www.wikidata.org/entity/Q16532276'), ('oName', 'work')]\n",
      "[('work', 'http://www.wikidata.org/entity/Q192581'), ('p', 'http://www.wikidata.org/prop/direct/P1889'), ('pName', 'different from'), ('o', 'http://www.wikidata.org/entity/Q4102597'), ('oName', 'job vacancy')]\n",
      "[('work', 'http://www.wikidata.org/entity/Q192581'), ('p', 'http://www.wikidata.org/prop/direct/P1424'), ('pName', \"topic's main template\"), ('o', 'http://www.wikidata.org/entity/Q22759821'), ('oName', 'Template:Aspects of occupations')]\n",
      "[('work', 'http://www.wikidata.org/entity/Q192581'), ('p', 'http://www.wikidata.org/prop/direct/P1424'), ('pName', \"topic's main template\"), ('o', 'http://www.wikidata.org/entity/Q18935398'), ('oName', 'Template:Aspects of jobs')]\n",
      "[('work', 'http://www.wikidata.org/entity/Q28640'), ('p', 'http://www.wikidata.org/prop/direct/P279'), ('pName', 'subclass of'), ('o', 'http://www.wikidata.org/entity/Q192581'), ('oName', 'job')]\n",
      "[('work', 'http://www.wikidata.org/entity/Q28640'), ('p', 'http://www.wikidata.org/prop/direct/P1889'), ('pName', 'different from'), ('o', 'http://www.wikidata.org/entity/Q828803'), ('oName', 'job title')]\n",
      "[('work', 'http://www.wikidata.org/entity/Q28640'), ('p', 'http://www.wikidata.org/prop/direct/P1343'), ('pName', 'described by source'), ('o', 'http://www.wikidata.org/entity/Q101314624'), ('oName', 'Lean Logic: A Dictionary for the Future and How to Survive It')]\n",
      "[('work', 'http://www.wikidata.org/entity/Q28640'), ('p', 'http://www.wikidata.org/prop/direct/P1889'), ('pName', 'different from'), ('o', 'http://www.wikidata.org/entity/Q12737077'), ('oName', 'occupation')]\n",
      "[('work', 'http://www.wikidata.org/entity/Q28640'), ('p', 'http://www.wikidata.org/prop/direct/P279'), ('pName', 'subclass of'), ('o', 'http://www.wikidata.org/entity/Q12737077'), ('oName', 'occupation')]\n",
      "[('work', 'http://www.wikidata.org/entity/Q28640'), ('p', 'http://www.wikidata.org/prop/direct/P1343'), ('pName', 'described by source'), ('o', 'http://www.wikidata.org/entity/Q19180675'), ('oName', 'Small Brockhaus and Efron Encyclopedic Dictionary')]\n",
      "[('work', 'http://www.wikidata.org/entity/Q28640'), ('p', 'http://www.wikidata.org/prop/direct/P1889'), ('pName', 'different from'), ('o', 'http://www.wikidata.org/entity/Q4164871'), ('oName', 'position')]\n",
      "[('work', 'http://www.wikidata.org/entity/Q28640'), ('p', 'http://www.wikidata.org/prop/direct/P1343'), ('pName', 'described by source'), ('o', 'http://www.wikidata.org/entity/Q4173137'), ('oName', 'Jewish Encyclopedia of Brockhaus and Efron')]\n",
      "[('work', 'http://www.wikidata.org/entity/Q28640'), ('p', 'http://www.wikidata.org/prop/direct/P279'), ('pName', 'subclass of'), ('o', 'http://www.wikidata.org/entity/Q1047113'), ('oName', 'specialty')]\n",
      "[('work', 'http://www.wikidata.org/entity/Q28640'), ('p', 'http://www.wikidata.org/prop/direct/P31'), ('pName', 'instance of'), ('o', 'http://www.wikidata.org/entity/Q24017414'), ('oName', 'second-order class')]\n",
      "[('work', 'http://www.wikidata.org/entity/Q28640'), ('p', 'http://www.wikidata.org/prop/direct/P31'), ('pName', 'instance of'), ('o', 'http://www.wikidata.org/entity/Q19361238'), ('oName', 'Wikidata metaclass')]\n",
      "[('work', 'http://www.wikidata.org/entity/Q28640'), ('p', 'http://www.wikidata.org/prop/direct/P3095'), ('pName', 'practiced by'), ('o', 'http://www.wikidata.org/entity/Q702269'), ('oName', 'professional')]\n",
      "[('work', 'http://www.wikidata.org/entity/Q28640'), ('p', 'http://www.wikidata.org/prop/direct/P1687'), ('pName', 'Wikidata property'), ('o', 'http://www.wikidata.org/entity/P106'), ('oName', 'occupation')]\n",
      "[('work', 'http://www.wikidata.org/entity/Q28640'), ('p', 'http://www.wikidata.org/prop/direct/P910'), ('pName', \"topic's main category\"), ('o', 'http://www.wikidata.org/entity/Q9672372'), ('oName', 'Category:Professions')]\n",
      "[('work', 'http://www.wikidata.org/entity/Q28640'), ('p', 'http://www.wikidata.org/prop/direct/P1424'), ('pName', \"topic's main template\"), ('o', 'http://www.wikidata.org/entity/Q6471307'), ('oName', 'Template:Infobox occupation')]\n"
     ]
    },
    {
     "data": {
      "text/plain": [
       "45"
      ]
     },
     "execution_count": 13,
     "metadata": {},
     "output_type": "execute_result"
    }
   ],
   "source": [
    "queryString = \"\"\"\n",
    "select distinct ?work ?p ?pName ?o ?oName where {\n",
    "    values ?work {wd:Q192581 wd:Q12737077 wd:Q1047113 wd:Q28640}\n",
    "    \n",
    "    ?work ?p ?o .\n",
    "    \n",
    "    ?p <http://schema.org/name> ?pName .\n",
    "    ?o <http://schema.org/name> ?oName .\n",
    "} order by ?work\n",
    "\"\"\"\n",
    "\n",
    "print(\"Results\")\n",
    "run_query(queryString)"
   ]
  },
  {
   "cell_type": "markdown",
   "id": "d15a5a36-4b48-43e4-b74f-99eb556f8e31",
   "metadata": {},
   "source": [
    "And finally I find out that there can be a path from an occupation to \"profession\", identified by **Q28640**.\n",
    "In particular I see that director is an instance of profession. Film actor is an instance of filmmaking occupation which is a sublass of profession.\n",
    "The path is ```occupation->instance of->subclass of*->profession```.\n",
    "I need also to exlude some properties, such as \"characters\" (**P674**), that are fictional person but not workers.\n",
    "The properties that I'll remove are P674, P453, P2354, P859, P136, P825, P155.\n",
    "\n",
    "Analyzing the properties for example for the property \"director\", I can see that it is an instance of \"Wikidata property for items about works\" (**Q18618644**). This should be helpful to retrieve the workers in a better way. Unfurtunatly, I cannot use a BGP of the type:\n",
    "\n",
    "```\n",
    "?film wdt:P31 wd:Q11424 ;\n",
    "      ?p ?worker .\n",
    "?worker wdt:P31 wd:Q5 .\n",
    "?p wdt:P31 wd:Q18618644 .\n",
    "```\n",
    "\n",
    "And so, I must use the following BGP for workers in a film:\n",
    "\n",
    "```\n",
    "?film wdt:P31 wd:Q11424 ;\n",
    "      ?p ?worker .\n",
    "?worker wdt:P31 wd:Q5 ;\n",
    "    wdt:P106/wdt:P31/wdt:P279* wd:Q28640 .\n",
    "\n",
    "filter(?p not in (wdt:P674, wdt:P453, wdt:P2354, wdt:P859, wdt:P136, wdt:P825, wdt:P155)) .\n",
    "```\n",
    "\n",
    "The following query shows 10 workers in the films of Quentin Tarantino."
   ]
  },
  {
   "cell_type": "code",
   "execution_count": 14,
   "id": "35703b5f-1bb4-45f4-b180-bfbe9f349d70",
   "metadata": {
    "tags": []
   },
   "outputs": [
    {
     "name": "stdout",
     "output_type": "stream",
     "text": [
      "Results\n",
      "[('worker', 'http://www.wikidata.org/entity/Q172678'), ('pName', 'narrator'), ('workerName', 'Samuel L. Jackson')]\n",
      "[('worker', 'http://www.wikidata.org/entity/Q47284'), ('pName', 'film editor'), ('workerName', 'Robert Rodriguez')]\n",
      "[('worker', 'http://www.wikidata.org/entity/Q57147'), ('pName', 'cast member'), ('workerName', 'Michael Fassbender')]\n",
      "[('worker', 'http://www.wikidata.org/entity/Q351732'), ('pName', 'cast member'), ('workerName', 'Sonny Chiba')]\n",
      "[('worker', 'http://www.wikidata.org/entity/Q234094'), ('pName', 'cast member'), ('workerName', 'Chiaki Kuriyama')]\n",
      "[('worker', 'http://www.wikidata.org/entity/Q1985488'), ('pName', 'cast member'), ('workerName', 'Nick Offerman')]\n",
      "[('worker', 'http://www.wikidata.org/entity/Q104061'), ('pName', 'cast member'), ('workerName', 'Steve Buscemi')]\n",
      "[('worker', 'http://www.wikidata.org/entity/Q5896455'), ('pName', 'cast member'), ('workerName', 'Slim Khezri')]\n",
      "[('worker', 'http://www.wikidata.org/entity/Q188375'), ('pName', 'cast member'), ('workerName', 'Lucy Liu')]\n",
      "[('worker', 'http://www.wikidata.org/entity/Q463734'), ('pName', 'cast member'), ('workerName', 'Robert Carradine')]\n"
     ]
    },
    {
     "data": {
      "text/plain": [
       "10"
      ]
     },
     "execution_count": 14,
     "metadata": {},
     "output_type": "execute_result"
    }
   ],
   "source": [
    "queryString = \"\"\"\n",
    "select distinct ?worker ?pName ?workerName where {\n",
    "    ?film wdt:P31 wd:Q11424 ;\n",
    "          wdt:P57 wd:Q3772;\n",
    "          ?p ?worker .\n",
    "    ?worker wdt:P31 wd:Q5 ;\n",
    "            wdt:P106/wdt:P31/wdt:P279* wd:Q28640 .\n",
    "    \n",
    "    ?p <http://schema.org/name> ?pName .\n",
    "    ?worker <http://schema.org/name> ?workerName .\n",
    "    \n",
    "    filter(?p not in (wdt:P674, wdt:P453, wdt:P2354, wdt:P859, wdt:P136, wdt:P825, wdt:P155)) .\n",
    "} limit 10\n",
    "\"\"\"\n",
    "\n",
    "print(\"Results\")\n",
    "run_query(queryString)"
   ]
  },
  {
   "cell_type": "markdown",
   "id": "71be98e2-c86e-4bcf-8921-3c0604ca3b94",
   "metadata": {},
   "source": [
    "We can compare also the queries of workers in the two directors films with and without the property path to profession, to see if something changes."
   ]
  },
  {
   "cell_type": "code",
   "execution_count": 15,
   "id": "ad8590d7-0a8e-4370-9b0f-3906776f1c23",
   "metadata": {},
   "outputs": [
    {
     "name": "stdout",
     "output_type": "stream",
     "text": [
      "Results\n",
      "[('callret-0', '1213')]\n"
     ]
    },
    {
     "data": {
      "text/plain": [
       "1"
      ]
     },
     "execution_count": 15,
     "metadata": {},
     "output_type": "execute_result"
    }
   ],
   "source": [
    "queryString = \"\"\"\n",
    "select count(distinct ?worker) where {\n",
    "    values ?director {wd:Q25089 wd:Q3772}\n",
    "\n",
    "    ?film wdt:P31 wd:Q11424 ;\n",
    "          wdt:P57 ?director ;\n",
    "          ?p ?worker .\n",
    "    ?worker wdt:P31 wd:Q5 .\n",
    "}\n",
    "\"\"\"\n",
    "\n",
    "print(\"Results\")\n",
    "run_query(queryString)"
   ]
  },
  {
   "cell_type": "code",
   "execution_count": 16,
   "id": "ad76bba3-ff97-4fd1-b427-2a375b87d5f5",
   "metadata": {},
   "outputs": [
    {
     "name": "stdout",
     "output_type": "stream",
     "text": [
      "Results\n",
      "[('callret-0', '1187')]\n"
     ]
    },
    {
     "data": {
      "text/plain": [
       "1"
      ]
     },
     "execution_count": 16,
     "metadata": {},
     "output_type": "execute_result"
    }
   ],
   "source": [
    "queryString = \"\"\"\n",
    "select count(distinct ?worker) where {\n",
    "    values ?director {wd:Q25089 wd:Q3772}\n",
    "\n",
    "    ?film wdt:P31 wd:Q11424 ;\n",
    "          wdt:P57 ?director ;\n",
    "          ?p ?worker .\n",
    "    ?worker wdt:P31 wd:Q5 .\n",
    "    \n",
    "    filter(?p not in (wdt:P674, wdt:P453, wdt:P2354, wdt:P859, wdt:P136, wdt:P825, wdt:P155)) .\n",
    "}\n",
    "\"\"\"\n",
    "\n",
    "print(\"Results\")\n",
    "run_query(queryString)"
   ]
  },
  {
   "cell_type": "code",
   "execution_count": 17,
   "id": "8648ab99-150f-4ae2-9684-d208290ce93d",
   "metadata": {},
   "outputs": [
    {
     "name": "stdout",
     "output_type": "stream",
     "text": [
      "Results\n",
      "[('callret-0', '1184')]\n"
     ]
    },
    {
     "data": {
      "text/plain": [
       "1"
      ]
     },
     "execution_count": 17,
     "metadata": {},
     "output_type": "execute_result"
    }
   ],
   "source": [
    "queryString = \"\"\"\n",
    "select count(distinct ?worker) where {\n",
    "    values ?director {wd:Q25089 wd:Q3772}\n",
    "    \n",
    "    ?film wdt:P31 wd:Q11424 ;\n",
    "          wdt:P57 ?director ;\n",
    "          ?p ?worker .\n",
    "    ?worker wdt:P31 wd:Q5 ;\n",
    "        wdt:P106/wdt:P31/wdt:P279* wd:Q28640 .\n",
    "    \n",
    "    filter(?p not in (wdt:P674, wdt:P453, wdt:P2354, wdt:P859, wdt:P136, wdt:P825, wdt:P155)) .\n",
    "}\n",
    "\"\"\"\n",
    "\n",
    "print(\"Results\")\n",
    "run_query(queryString)"
   ]
  },
  {
   "cell_type": "markdown",
   "id": "71031720-be0c-419d-8702-6bb7ae986ae0",
   "metadata": {},
   "source": [
    "So I can discover that almost nothing changes between the BGP with the \"profession\" path and the one without it, and I can exclude the path from the BGP, that has also an huge impact from the point of view of the performance.\n",
    "\n",
    "The final BGP for workers is:\n",
    "```\n",
    "?film wdt:P31 wd:Q11424 ;\n",
    "      ?p ?worker .\n",
    "?worker wdt:P31 wd:Q5 .\n",
    "\n",
    "filter(?p not in (wdt:P674, wdt:P453, wdt:P2354, wdt:P859, wdt:P136, wdt:P825, wdt:P155)) .\n",
    "```"
   ]
  },
  {
   "cell_type": "markdown",
   "id": "c0012538-bd6b-4f92-96e2-8334d63e81fc",
   "metadata": {},
   "source": [
    "## Task 4. Compare the workers amongst the films directed by the two directors"
   ]
  },
  {
   "cell_type": "markdown",
   "id": "05a708e5-df19-472b-af64-b80ca009b82c",
   "metadata": {},
   "source": [
    "List films directed by Quentin Tarantino and Woody Allen"
   ]
  },
  {
   "cell_type": "code",
   "execution_count": 18,
   "id": "214c7d39-76b9-48c1-b02b-49d4f5c0d432",
   "metadata": {
    "tags": []
   },
   "outputs": [
    {
     "name": "stdout",
     "output_type": "stream",
     "text": [
      "Results\n",
      "[('film', 'http://www.wikidata.org/entity/Q3986392'), ('filmName', 'The Concert for New York City'), ('director', 'http://www.wikidata.org/entity/Q25089'), ('directorName', 'Woody Allen')]\n",
      "[('film', 'http://www.wikidata.org/entity/Q206124'), ('filmName', 'Midnight in Paris'), ('director', 'http://www.wikidata.org/entity/Q25089'), ('directorName', 'Woody Allen')]\n",
      "[('film', 'http://www.wikidata.org/entity/Q682262'), ('filmName', 'Alice'), ('director', 'http://www.wikidata.org/entity/Q25089'), ('directorName', 'Woody Allen')]\n",
      "[('film', 'http://www.wikidata.org/entity/Q971865'), ('filmName', \"What's Up, Tiger Lily?\"), ('director', 'http://www.wikidata.org/entity/Q25089'), ('directorName', 'Woody Allen')]\n",
      "[('film', 'http://www.wikidata.org/entity/Q1004531'), ('filmName', 'Bullets Over Broadway'), ('director', 'http://www.wikidata.org/entity/Q25089'), ('directorName', 'Woody Allen')]\n",
      "[('film', 'http://www.wikidata.org/entity/Q1354109'), ('filmName', 'Mighty Aphrodite'), ('director', 'http://www.wikidata.org/entity/Q25089'), ('directorName', 'Woody Allen')]\n",
      "[('film', 'http://www.wikidata.org/entity/Q729026'), ('filmName', 'Broadway Danny Rose'), ('director', 'http://www.wikidata.org/entity/Q25089'), ('directorName', 'Woody Allen')]\n",
      "[('film', 'http://www.wikidata.org/entity/Q733677'), ('filmName', 'Match Point'), ('director', 'http://www.wikidata.org/entity/Q25089'), ('directorName', 'Woody Allen')]\n",
      "[('film', 'http://www.wikidata.org/entity/Q740143'), ('filmName', 'Husbands and Wives'), ('director', 'http://www.wikidata.org/entity/Q25089'), ('directorName', 'Woody Allen')]\n",
      "[('film', 'http://www.wikidata.org/entity/Q806092'), ('filmName', 'Bananas'), ('director', 'http://www.wikidata.org/entity/Q25089'), ('directorName', 'Woody Allen')]\n",
      "[('film', 'http://www.wikidata.org/entity/Q1321004'), ('filmName', 'You Will Meet a Tall Dark Stranger'), ('director', 'http://www.wikidata.org/entity/Q25089'), ('directorName', 'Woody Allen')]\n",
      "[('film', 'http://www.wikidata.org/entity/Q14511869'), ('filmName', 'Magic in the Moonlight'), ('director', 'http://www.wikidata.org/entity/Q25089'), ('directorName', 'Woody Allen')]\n",
      "[('film', 'http://www.wikidata.org/entity/Q614009'), ('filmName', 'Anything Else'), ('director', 'http://www.wikidata.org/entity/Q25089'), ('directorName', 'Woody Allen')]\n",
      "[('film', 'http://www.wikidata.org/entity/Q187423'), ('filmName', 'Zelig'), ('director', 'http://www.wikidata.org/entity/Q25089'), ('directorName', 'Woody Allen')]\n",
      "[('film', 'http://www.wikidata.org/entity/Q27703144'), ('filmName', 'Wonder Wheel'), ('director', 'http://www.wikidata.org/entity/Q25089'), ('directorName', 'Woody Allen')]\n",
      "[('film', 'http://www.wikidata.org/entity/Q786585'), ('filmName', 'Sweet and Lowdown'), ('director', 'http://www.wikidata.org/entity/Q25089'), ('directorName', 'Woody Allen')]\n",
      "[('film', 'http://www.wikidata.org/entity/Q1052826'), ('filmName', 'Celebrity'), ('director', 'http://www.wikidata.org/entity/Q25089'), ('directorName', 'Woody Allen')]\n",
      "[('film', 'http://www.wikidata.org/entity/Q1218888'), ('filmName', 'Love and Death'), ('director', 'http://www.wikidata.org/entity/Q25089'), ('directorName', 'Woody Allen')]\n",
      "[('film', 'http://www.wikidata.org/entity/Q181555'), ('filmName', 'Crimes and Misdemeanors'), ('director', 'http://www.wikidata.org/entity/Q25089'), ('directorName', 'Woody Allen')]\n",
      "[('film', 'http://www.wikidata.org/entity/Q682002'), ('filmName', 'scoop'), ('director', 'http://www.wikidata.org/entity/Q25089'), ('directorName', 'Woody Allen')]\n",
      "[('film', 'http://www.wikidata.org/entity/Q653518'), ('filmName', 'Stardust Memories'), ('director', 'http://www.wikidata.org/entity/Q25089'), ('directorName', 'Woody Allen')]\n",
      "[('film', 'http://www.wikidata.org/entity/Q977372'), ('filmName', 'New York Stories'), ('director', 'http://www.wikidata.org/entity/Q25089'), ('directorName', 'Woody Allen')]\n",
      "[('film', 'http://www.wikidata.org/entity/Q65552643'), ('filmName', \"Rifkin's Festival\"), ('director', 'http://www.wikidata.org/entity/Q25089'), ('directorName', 'Woody Allen')]\n",
      "[('film', 'http://www.wikidata.org/entity/Q750003'), ('filmName', 'Sleeper'), ('director', 'http://www.wikidata.org/entity/Q25089'), ('directorName', 'Woody Allen')]\n",
      "[('film', 'http://www.wikidata.org/entity/Q610163'), ('filmName', 'Small Time Crooks'), ('director', 'http://www.wikidata.org/entity/Q25089'), ('directorName', 'Woody Allen')]\n",
      "[('film', 'http://www.wikidata.org/entity/Q910523'), ('filmName', 'Shadows and Fog'), ('director', 'http://www.wikidata.org/entity/Q25089'), ('directorName', 'Woody Allen')]\n",
      "[('film', 'http://www.wikidata.org/entity/Q1133277'), ('filmName', 'Manhattan Murder Mystery'), ('director', 'http://www.wikidata.org/entity/Q25089'), ('directorName', 'Woody Allen')]\n",
      "[('film', 'http://www.wikidata.org/entity/Q1146315'), ('filmName', 'Take the Money and Run'), ('director', 'http://www.wikidata.org/entity/Q25089'), ('directorName', 'Woody Allen')]\n",
      "[('film', 'http://www.wikidata.org/entity/Q1354121'), ('filmName', 'Melinda and Melinda'), ('director', 'http://www.wikidata.org/entity/Q25089'), ('directorName', 'Woody Allen')]\n",
      "[('film', 'http://www.wikidata.org/entity/Q2907178'), ('filmName', 'Blue Jasmine'), ('director', 'http://www.wikidata.org/entity/Q25089'), ('directorName', 'Woody Allen')]\n",
      "[('film', 'http://www.wikidata.org/entity/Q731310'), ('filmName', 'Manhattan'), ('director', 'http://www.wikidata.org/entity/Q25089'), ('directorName', 'Woody Allen')]\n",
      "[('film', 'http://www.wikidata.org/entity/Q833530'), ('filmName', \"Cassandra's Dream\"), ('director', 'http://www.wikidata.org/entity/Q25089'), ('directorName', 'Woody Allen')]\n",
      "[('film', 'http://www.wikidata.org/entity/Q499697'), ('filmName', 'Everything You Always Wanted to Know About Sex*'), ('director', 'http://www.wikidata.org/entity/Q25089'), ('directorName', 'Woody Allen')]\n",
      "[('film', 'http://www.wikidata.org/entity/Q912729'), ('filmName', 'The Purple Rose of Cairo'), ('director', 'http://www.wikidata.org/entity/Q25089'), ('directorName', 'Woody Allen')]\n",
      "[('film', 'http://www.wikidata.org/entity/Q1770003'), ('filmName', 'September'), ('director', 'http://www.wikidata.org/entity/Q25089'), ('directorName', 'Woody Allen')]\n",
      "[('film', 'http://www.wikidata.org/entity/Q692208'), ('filmName', 'Whatever Works'), ('director', 'http://www.wikidata.org/entity/Q25089'), ('directorName', 'Woody Allen')]\n",
      "[('film', 'http://www.wikidata.org/entity/Q17417520'), ('filmName', 'Irrational Man'), ('director', 'http://www.wikidata.org/entity/Q25089'), ('directorName', 'Woody Allen')]\n",
      "[('film', 'http://www.wikidata.org/entity/Q29658'), ('filmName', 'To Rome with Love'), ('director', 'http://www.wikidata.org/entity/Q25089'), ('directorName', 'Woody Allen')]\n",
      "[('film', 'http://www.wikidata.org/entity/Q20950014'), ('filmName', 'Café Society'), ('director', 'http://www.wikidata.org/entity/Q25089'), ('directorName', 'Woody Allen')]\n",
      "[('film', 'http://www.wikidata.org/entity/Q1306629'), ('filmName', \"A Midsummer Night's Sex Comedy\"), ('director', 'http://www.wikidata.org/entity/Q25089'), ('directorName', 'Woody Allen')]\n",
      "[('film', 'http://www.wikidata.org/entity/Q541185'), ('filmName', 'Another Woman'), ('director', 'http://www.wikidata.org/entity/Q25089'), ('directorName', 'Woody Allen')]\n",
      "[('film', 'http://www.wikidata.org/entity/Q685109'), ('filmName', 'Radio Days'), ('director', 'http://www.wikidata.org/entity/Q25089'), ('directorName', 'Woody Allen')]\n",
      "[('film', 'http://www.wikidata.org/entity/Q42307699'), ('filmName', 'A Rainy Day in New York'), ('director', 'http://www.wikidata.org/entity/Q25089'), ('directorName', 'Woody Allen')]\n",
      "[('film', 'http://www.wikidata.org/entity/Q1334572'), ('filmName', 'Everyone Says I Love You'), ('director', 'http://www.wikidata.org/entity/Q25089'), ('directorName', 'Woody Allen')]\n",
      "[('film', 'http://www.wikidata.org/entity/Q212123'), ('filmName', 'Vicky Cristina Barcelona'), ('director', 'http://www.wikidata.org/entity/Q25089'), ('directorName', 'Woody Allen')]\n",
      "[('film', 'http://www.wikidata.org/entity/Q233464'), ('filmName', 'Annie Hall'), ('director', 'http://www.wikidata.org/entity/Q25089'), ('directorName', 'Woody Allen')]\n",
      "[('film', 'http://www.wikidata.org/entity/Q335508'), ('filmName', 'The Curse of the Jade Scorpion'), ('director', 'http://www.wikidata.org/entity/Q25089'), ('directorName', 'Woody Allen')]\n",
      "[('film', 'http://www.wikidata.org/entity/Q551762'), ('filmName', 'Deconstructing Harry'), ('director', 'http://www.wikidata.org/entity/Q25089'), ('directorName', 'Woody Allen')]\n",
      "[('film', 'http://www.wikidata.org/entity/Q582021'), ('filmName', 'Hollywood Ending'), ('director', 'http://www.wikidata.org/entity/Q25089'), ('directorName', 'Woody Allen')]\n",
      "[('film', 'http://www.wikidata.org/entity/Q845057'), ('filmName', 'Hannah and Her Sisters'), ('director', 'http://www.wikidata.org/entity/Q25089'), ('directorName', 'Woody Allen')]\n",
      "[('film', 'http://www.wikidata.org/entity/Q961403'), ('filmName', 'Interiors'), ('director', 'http://www.wikidata.org/entity/Q25089'), ('directorName', 'Woody Allen')]\n",
      "[('film', 'http://www.wikidata.org/entity/Q18225084'), ('filmName', 'The Hateful Eight'), ('director', 'http://www.wikidata.org/entity/Q3772'), ('directorName', 'Quentin Tarantino')]\n",
      "[('film', 'http://www.wikidata.org/entity/Q104123'), ('filmName', 'Pulp Fiction'), ('director', 'http://www.wikidata.org/entity/Q3772'), ('directorName', 'Quentin Tarantino')]\n",
      "[('film', 'http://www.wikidata.org/entity/Q1137310'), ('filmName', 'Death Proof'), ('director', 'http://www.wikidata.org/entity/Q3772'), ('directorName', 'Quentin Tarantino')]\n",
      "[('film', 'http://www.wikidata.org/entity/Q192115'), ('filmName', 'Sin City'), ('director', 'http://www.wikidata.org/entity/Q3772'), ('directorName', 'Quentin Tarantino')]\n",
      "[('film', 'http://www.wikidata.org/entity/Q165325'), ('filmName', 'Kill Bill Volume 1'), ('director', 'http://www.wikidata.org/entity/Q3772'), ('directorName', 'Quentin Tarantino')]\n",
      "[('film', 'http://www.wikidata.org/entity/Q431252'), ('filmName', 'Jackie Brown'), ('director', 'http://www.wikidata.org/entity/Q3772'), ('directorName', 'Quentin Tarantino')]\n",
      "[('film', 'http://www.wikidata.org/entity/Q153723'), ('filmName', 'Inglourious Basterds'), ('director', 'http://www.wikidata.org/entity/Q3772'), ('directorName', 'Quentin Tarantino')]\n",
      "[('film', 'http://www.wikidata.org/entity/Q72962'), ('filmName', 'Reservoir Dogs'), ('director', 'http://www.wikidata.org/entity/Q3772'), ('directorName', 'Quentin Tarantino')]\n",
      "[('film', 'http://www.wikidata.org/entity/Q928019'), ('filmName', 'Kill Bill Volume 2'), ('director', 'http://www.wikidata.org/entity/Q3772'), ('directorName', 'Quentin Tarantino')]\n",
      "[('film', 'http://www.wikidata.org/entity/Q571032'), ('filmName', 'Django Unchained'), ('director', 'http://www.wikidata.org/entity/Q3772'), ('directorName', 'Quentin Tarantino')]\n",
      "[('film', 'http://www.wikidata.org/entity/Q47300912'), ('filmName', 'Once Upon a Time in Hollywood'), ('director', 'http://www.wikidata.org/entity/Q3772'), ('directorName', 'Quentin Tarantino')]\n",
      "[('film', 'http://www.wikidata.org/entity/Q18126825'), ('filmName', 'Kill Bill: The Whole Bloody Affair'), ('director', 'http://www.wikidata.org/entity/Q3772'), ('directorName', 'Quentin Tarantino')]\n"
     ]
    },
    {
     "data": {
      "text/plain": [
       "63"
      ]
     },
     "execution_count": 18,
     "metadata": {},
     "output_type": "execute_result"
    }
   ],
   "source": [
    "queryString = \"\"\"\n",
    "select distinct ?film ?filmName ?director ?directorName where {\n",
    "    values ?director {wd:Q25089 wd:Q3772}\n",
    "    \n",
    "    ?film wdt:P31 wd:Q11424 ;\n",
    "          wdt:P57 ?director .\n",
    "    \n",
    "    ?director <http://schema.org/name> ?directorName .\n",
    "    ?film <http://schema.org/name> ?filmName .\n",
    "} order by ?director\n",
    "\"\"\"\n",
    "\n",
    "print(\"Results\")\n",
    "run_query(queryString)"
   ]
  },
  {
   "cell_type": "markdown",
   "id": "516c679e-5d9f-4168-add2-fd27a926d39c",
   "metadata": {},
   "source": [
    "List the workers for \"Django Unchained\" (only to check if there are some known workers like Ennio Morricone or DiCaprio)"
   ]
  },
  {
   "cell_type": "code",
   "execution_count": 19,
   "id": "720eb291-7c80-40b3-979f-4e7a0a6db5bc",
   "metadata": {
    "tags": []
   },
   "outputs": [
    {
     "name": "stdout",
     "output_type": "stream",
     "text": [
      "Results\n",
      "[('worker', 'http://www.wikidata.org/entity/Q231128'), ('workerName', 'Amber Tamblyn')]\n",
      "[('worker', 'http://www.wikidata.org/entity/Q4817144'), ('workerName', 'Ato Essandoh')]\n",
      "[('worker', 'http://www.wikidata.org/entity/Q888311'), ('workerName', 'Bob Weinstein')]\n",
      "[('worker', 'http://www.wikidata.org/entity/Q357001'), ('workerName', 'Bruce Dern')]\n",
      "[('worker', 'http://www.wikidata.org/entity/Q76819'), ('workerName', 'Christoph Waltz')]\n",
      "[('worker', 'http://www.wikidata.org/entity/Q2912708'), ('workerName', 'Cooper Huckabee')]\n",
      "[('worker', 'http://www.wikidata.org/entity/Q23010323'), ('workerName', 'Dana Gourrier')]\n",
      "[('worker', 'http://www.wikidata.org/entity/Q18049086'), ('workerName', 'Danièle Watts')]\n",
      "[('worker', 'http://www.wikidata.org/entity/Q5240051'), ('workerName', 'David Steen')]\n",
      "[('worker', 'http://www.wikidata.org/entity/Q1278871'), ('workerName', 'Dennis Christopher')]\n",
      "[('worker', 'http://www.wikidata.org/entity/Q309788'), ('workerName', 'Don Johnson')]\n",
      "[('worker', 'http://www.wikidata.org/entity/Q555890'), ('workerName', 'Don Stroud')]\n",
      "[('worker', 'http://www.wikidata.org/entity/Q23848'), ('workerName', 'Ennio Morricone')]\n",
      "[('worker', 'http://www.wikidata.org/entity/Q1334819'), ('workerName', 'Evan Parke')]\n",
      "[('worker', 'http://www.wikidata.org/entity/Q311716'), ('workerName', 'Franco Nero')]\n",
      "[('worker', 'http://www.wikidata.org/entity/Q3086942'), ('workerName', 'Fred Raskin')]\n",
      "[('worker', 'http://www.wikidata.org/entity/Q551239'), ('workerName', 'Gary Grubbs')]\n",
      "[('worker', 'http://www.wikidata.org/entity/Q531599'), ('workerName', 'Harvey Weinstein')]\n",
      "[('worker', 'http://www.wikidata.org/entity/Q17385901'), ('workerName', 'J. D. Evermore')]\n",
      "[('worker', 'http://www.wikidata.org/entity/Q16196012'), ('workerName', 'Jake Garber')]\n",
      "[('worker', 'http://www.wikidata.org/entity/Q11221289'), ('workerName', 'Jamal Duff')]\n",
      "[('worker', 'http://www.wikidata.org/entity/Q967797'), ('workerName', 'James Parks')]\n",
      "[('worker', 'http://www.wikidata.org/entity/Q441913'), ('workerName', 'James Remar')]\n",
      "[('worker', 'http://www.wikidata.org/entity/Q978857'), ('workerName', 'James Russo')]\n",
      "[('worker', 'http://www.wikidata.org/entity/Q19359565'), ('workerName', 'James W. Skotchdopole')]\n",
      "[('worker', 'http://www.wikidata.org/entity/Q171905'), ('workerName', 'Jamie Foxx')]\n",
      "[('worker', 'http://www.wikidata.org/entity/Q6161055'), ('workerName', 'Jarrod Bunch')]\n",
      "[('worker', 'http://www.wikidata.org/entity/Q592869'), ('workerName', 'John Jarratt')]\n",
      "[('worker', 'http://www.wikidata.org/entity/Q3182044'), ('workerName', 'John McConnell')]\n",
      "[('worker', 'http://www.wikidata.org/entity/Q6267426'), ('workerName', 'Johnny Otto')]\n",
      "[('worker', 'http://www.wikidata.org/entity/Q313388'), ('workerName', 'Jonah Hill')]\n",
      "[('worker', 'http://www.wikidata.org/entity/Q232104'), ('workerName', 'Kerry Washington')]\n",
      "[('worker', 'http://www.wikidata.org/entity/Q1964369'), ('workerName', 'Laura Cayouette')]\n",
      "[('worker', 'http://www.wikidata.org/entity/Q1364128'), ('workerName', 'Lee Horsley')]\n",
      "[('worker', 'http://www.wikidata.org/entity/Q38111'), ('workerName', 'Leonardo DiCaprio')]\n",
      "[('worker', 'http://www.wikidata.org/entity/Q471068'), ('workerName', 'Lewis Smith')]\n",
      "[('worker', 'http://www.wikidata.org/entity/Q529635'), ('workerName', 'Louise Stratten')]\n",
      "[('worker', 'http://www.wikidata.org/entity/Q722038'), ('workerName', 'M.C. Gainey')]\n",
      "[('worker', 'http://www.wikidata.org/entity/Q6770108'), ('workerName', 'Mark Ulano')]\n",
      "[('worker', 'http://www.wikidata.org/entity/Q2262850'), ('workerName', 'Michael Bacall')]\n",
      "[('worker', 'http://www.wikidata.org/entity/Q604762'), ('workerName', 'Michael Bowen')]\n",
      "[('worker', 'http://www.wikidata.org/entity/Q525318'), ('workerName', 'Michael Parks')]\n",
      "[('worker', 'http://www.wikidata.org/entity/Q13409484'), ('workerName', 'Michael Shamberg')]\n",
      "[('worker', 'http://www.wikidata.org/entity/Q438860'), ('workerName', 'Misty Upham')]\n",
      "[('worker', 'http://www.wikidata.org/entity/Q1139190'), ('workerName', 'Ned Bellamy')]\n",
      "[('worker', 'http://www.wikidata.org/entity/Q3875987'), ('workerName', 'Nichole Galicia')]\n",
      "[('worker', 'http://www.wikidata.org/entity/Q6557253'), ('workerName', 'Pilar Savone')]\n",
      "[('worker', 'http://www.wikidata.org/entity/Q3772'), ('workerName', 'Quentin Tarantino')]\n",
      "[('worker', 'http://www.wikidata.org/entity/Q3110579'), ('workerName', 'Reginald Hudlin')]\n",
      "[('worker', 'http://www.wikidata.org/entity/Q463285'), ('workerName', 'Rex Linn')]\n",
      "[('worker', 'http://www.wikidata.org/entity/Q463734'), ('workerName', 'Robert Carradine')]\n",
      "[('worker', 'http://www.wikidata.org/entity/Q364017'), ('workerName', 'Robert Richardson')]\n",
      "[('worker', 'http://www.wikidata.org/entity/Q719263'), ('workerName', 'Russ Tamblyn')]\n",
      "[('worker', 'http://www.wikidata.org/entity/Q19629645'), ('workerName', 'Sammi Rotibi')]\n",
      "[('worker', 'http://www.wikidata.org/entity/Q172678'), ('workerName', 'Samuel L. Jackson')]\n",
      "[('worker', 'http://www.wikidata.org/entity/Q7490178'), ('workerName', 'Sharon Pierre-Louis')]\n",
      "[('worker', 'http://www.wikidata.org/entity/Q2325642'), ('workerName', 'Stacey Sher')]\n",
      "[('worker', 'http://www.wikidata.org/entity/Q1357081'), ('workerName', 'Ted Neeley')]\n",
      "[('worker', 'http://www.wikidata.org/entity/Q152309'), ('workerName', 'Tom Savini')]\n",
      "[('worker', 'http://www.wikidata.org/entity/Q2004171'), ('workerName', 'Tom Wopat')]\n",
      "[('worker', 'http://www.wikidata.org/entity/Q516690'), ('workerName', 'Walton Goggins')]\n",
      "[('worker', 'http://www.wikidata.org/entity/Q227123'), ('workerName', 'Zoë Bell')]\n"
     ]
    },
    {
     "data": {
      "text/plain": [
       "62"
      ]
     },
     "execution_count": 19,
     "metadata": {},
     "output_type": "execute_result"
    }
   ],
   "source": [
    "queryString = \"\"\"\n",
    "select distinct ?worker ?workerName where {\n",
    "    wd:Q571032 ?p ?worker .\n",
    "    ?worker wdt:P31 wd:Q5 .\n",
    "    \n",
    "    ?p <http://schema.org/name> ?pName .\n",
    "    ?worker <http://schema.org/name> ?workerName .\n",
    "    \n",
    "    filter(?p not in (wdt:P674, wdt:P453, wdt:P2354, wdt:P859, wdt:P136, wdt:P825, wdt:P155)) .\n",
    "} order by ?workerName\n",
    "\"\"\"\n",
    "\n",
    "print(\"Results\")\n",
    "run_query(queryString)"
   ]
  },
  {
   "cell_type": "markdown",
   "id": "215e5144-cab1-498a-981c-7a720bafcb1a",
   "metadata": {},
   "source": [
    "## Task 5. Return some numerical comparison between the two directors"
   ]
  },
  {
   "cell_type": "markdown",
   "id": "c5e4e4ff-958e-4dd2-b9b9-17483b2bb083",
   "metadata": {},
   "source": [
    "### How many people worked for Tarantino and Allen's films?"
   ]
  },
  {
   "cell_type": "markdown",
   "id": "8730951b-8cfd-4625-aed9-3d59f6d70a9e",
   "metadata": {},
   "source": [
    "Count all the workers for each director's films"
   ]
  },
  {
   "cell_type": "code",
   "execution_count": 20,
   "id": "d9bfb23d-f11c-4491-8b24-527060b98f2b",
   "metadata": {},
   "outputs": [
    {
     "name": "stdout",
     "output_type": "stream",
     "text": [
      "Results\n",
      "[('director', 'http://www.wikidata.org/entity/Q25089'), ('numWorkers', '916')]\n",
      "[('director', 'http://www.wikidata.org/entity/Q3772'), ('numWorkers', '285')]\n"
     ]
    },
    {
     "data": {
      "text/plain": [
       "2"
      ]
     },
     "execution_count": 20,
     "metadata": {},
     "output_type": "execute_result"
    }
   ],
   "source": [
    "queryString = \"\"\"\n",
    "select ?director (count(distinct ?worker) as ?numWorkers) where {\n",
    "    values ?director {wd:Q25089 wd:Q3772}\n",
    "\n",
    "    ?film wdt:P31 wd:Q11424 ;\n",
    "          wdt:P57 ?director ;\n",
    "          ?p ?worker .\n",
    "    ?worker wdt:P31 wd:Q5 .\n",
    "    \n",
    "    filter(?p not in (wdt:P674, wdt:P453, wdt:P2354, wdt:P859, wdt:P136, wdt:P825, wdt:P155)) .\n",
    "} group by ?director\n",
    "\"\"\"\n",
    "\n",
    "print(\"Results\")\n",
    "run_query(queryString)"
   ]
  },
  {
   "cell_type": "markdown",
   "id": "9f61ce5b-2c84-4275-aff8-2ba52573bf08",
   "metadata": {},
   "source": [
    "We can also see that Woody Allen has more films than Quentin Tarantino, so it can be helpfull to see the average number of workers for their films."
   ]
  },
  {
   "cell_type": "code",
   "execution_count": 21,
   "id": "ebbdabc7-17df-4dcc-b9c6-10958e08888e",
   "metadata": {},
   "outputs": [
    {
     "name": "stdout",
     "output_type": "stream",
     "text": [
      "Results\n",
      "[('director', 'http://www.wikidata.org/entity/Q25089'), ('avgWorkers', '26.764705882352941')]\n",
      "[('director', 'http://www.wikidata.org/entity/Q3772'), ('avgWorkers', '33.916666666666667')]\n"
     ]
    },
    {
     "data": {
      "text/plain": [
       "2"
      ]
     },
     "execution_count": 21,
     "metadata": {},
     "output_type": "execute_result"
    }
   ],
   "source": [
    "queryString = \"\"\"\n",
    "select ?director (avg(?numWorkers) as ?avgWorkers) where {\n",
    "    {\n",
    "        select ?director ?film (count(distinct ?worker) as ?numWorkers) where {\n",
    "            values ?director {wd:Q25089 wd:Q3772}\n",
    "\n",
    "            ?film wdt:P31 wd:Q11424 ;\n",
    "                  wdt:P57 ?director ;\n",
    "                  ?p ?worker .\n",
    "            ?worker wdt:P31 wd:Q5 .\n",
    "            \n",
    "            filter(?p not in (wdt:P674, wdt:P453, wdt:P2354, wdt:P859, wdt:P136, wdt:P825, wdt:P155)) .\n",
    "        } group by ?director ?film\n",
    "    }\n",
    "    \n",
    "} group by ?director\n",
    "\"\"\"\n",
    "\n",
    "print(\"Results\")\n",
    "run_query(queryString)"
   ]
  },
  {
   "cell_type": "markdown",
   "id": "590f106e-9c11-4c38-809e-852958a8fc89",
   "metadata": {},
   "source": [
    "### How many workers in Tarantino's movies who also worked in Allen's films"
   ]
  },
  {
   "cell_type": "markdown",
   "id": "f4989ec6-3b67-4d3a-8a6e-19eaeebaa1d6",
   "metadata": {},
   "source": [
    "First let's take a look to which people worked for both directors."
   ]
  },
  {
   "cell_type": "code",
   "execution_count": 22,
   "id": "ac929844-be88-4430-b862-f0a51a7f2d2b",
   "metadata": {},
   "outputs": [
    {
     "name": "stdout",
     "output_type": "stream",
     "text": [
      "Results\n",
      "[('worker', 'http://www.wikidata.org/entity/Q346285'), ('workerName', 'David Arnold')]\n",
      "[('worker', 'http://www.wikidata.org/entity/Q185051'), ('workerName', 'Christopher Walken')]\n",
      "[('worker', 'http://www.wikidata.org/entity/Q26806'), ('workerName', 'Danny DeVito')]\n",
      "[('worker', 'http://www.wikidata.org/entity/Q125017'), ('workerName', 'Uma Thurman')]\n",
      "[('worker', 'http://www.wikidata.org/entity/Q202148'), ('workerName', 'Burt Reynolds')]\n",
      "[('worker', 'http://www.wikidata.org/entity/Q231096'), ('workerName', 'Léa Seydoux')]\n",
      "[('worker', 'http://www.wikidata.org/entity/Q185724'), ('workerName', 'Mike Myers')]\n",
      "[('worker', 'http://www.wikidata.org/entity/Q104061'), ('workerName', 'Steve Buscemi')]\n",
      "[('worker', 'http://www.wikidata.org/entity/Q207596'), ('workerName', 'Daryl Hannah')]\n",
      "[('worker', 'http://www.wikidata.org/entity/Q38111'), ('workerName', 'Leonardo DiCaprio')]\n",
      "[('worker', 'http://www.wikidata.org/entity/Q76819'), ('workerName', 'Christoph Waltz')]\n",
      "[('worker', 'http://www.wikidata.org/entity/Q203804'), ('workerName', 'Tim Roth')]\n",
      "[('worker', 'http://www.wikidata.org/entity/Q109232'), ('workerName', 'Rosanna Arquette')]\n",
      "[('worker', 'http://www.wikidata.org/entity/Q36949'), ('workerName', 'Robert De Niro')]\n"
     ]
    },
    {
     "data": {
      "text/plain": [
       "14"
      ]
     },
     "execution_count": 22,
     "metadata": {},
     "output_type": "execute_result"
    }
   ],
   "source": [
    "queryString = \"\"\"\n",
    "select ?worker ?workerName where {\n",
    "    values ?director {wd:Q25089 wd:Q3772}\n",
    "\n",
    "    ?film wdt:P31 wd:Q11424 ;\n",
    "          wdt:P57 ?director ;\n",
    "          ?p ?worker .\n",
    "    ?worker wdt:P31 wd:Q5 .\n",
    "    \n",
    "    ?worker <http://schema.org/name> ?workerName .\n",
    "    \n",
    "    filter(?p not in (wdt:P674, wdt:P453, wdt:P2354, wdt:P859, wdt:P136, wdt:P825, wdt:P155)) .\n",
    "} group by ?worker ?workerName\n",
    "having (count(distinct ?director) > 1)\n",
    "\"\"\"\n",
    "\n",
    "print(\"Results\")\n",
    "run_query(queryString)"
   ]
  },
  {
   "cell_type": "markdown",
   "id": "63a4a1b0-c776-419b-ae57-71fa44144b19",
   "metadata": {},
   "source": [
    "**14 people worker for both directors.**"
   ]
  },
  {
   "cell_type": "markdown",
   "id": "07770688-b8f0-487a-8be3-b04a86b8313c",
   "metadata": {},
   "source": [
    "### Who is the most used actor by both the directors?"
   ]
  },
  {
   "cell_type": "markdown",
   "id": "b9cf931c-6710-419d-aa1c-a0e52ff34e50",
   "metadata": {},
   "source": [
    "The BGP for actors in a film is (using cast member property):\n",
    "    \n",
    "```\n",
    "?film wdt:P31 wd:Q11424 ;\n",
    "      wdt:P161 ?actor .\n",
    "```"
   ]
  },
  {
   "cell_type": "markdown",
   "id": "6f270864-f22a-47e7-bf17-ee389a50d6ad",
   "metadata": {},
   "source": [
    "The most used actor by **Woody Allen** is:"
   ]
  },
  {
   "cell_type": "code",
   "execution_count": 23,
   "id": "1a620a15-d0bf-49cd-8378-fe60de382daa",
   "metadata": {},
   "outputs": [
    {
     "name": "stdout",
     "output_type": "stream",
     "text": [
      "Results\n",
      "[('actor', 'http://www.wikidata.org/entity/Q25089'), ('actorName', 'Woody Allen'), ('numFilms', '30')]\n"
     ]
    },
    {
     "data": {
      "text/plain": [
       "1"
      ]
     },
     "execution_count": 23,
     "metadata": {},
     "output_type": "execute_result"
    }
   ],
   "source": [
    "queryString = \"\"\"     \n",
    "select ?actor ?actorName (count(distinct ?film) as ?numFilms) where {\n",
    "    ?film wdt:P31 wd:Q11424 ;\n",
    "          wdt:P57 wd:Q25089 ;\n",
    "          wdt:P161 ?actor .\n",
    "        \n",
    "    ?actor <http://schema.org/name> ?actorName .\n",
    "} group by ?actor ?actorName\n",
    "order by desc(?numFilms)\n",
    "limit 1\n",
    "\"\"\"\n",
    "\n",
    "print(\"Results\")\n",
    "run_query(queryString)"
   ]
  },
  {
   "cell_type": "markdown",
   "id": "9af47848-59db-4be6-811a-481946da3863",
   "metadata": {},
   "source": [
    "I see that the director is part of the cast, so it must be excluded."
   ]
  },
  {
   "cell_type": "code",
   "execution_count": 24,
   "id": "2bd2a991-ae65-4986-bad4-cfd25c845911",
   "metadata": {},
   "outputs": [
    {
     "name": "stdout",
     "output_type": "stream",
     "text": [
      "Results\n",
      "[('actor', 'http://www.wikidata.org/entity/Q202725'), ('actorName', 'Mia Farrow'), ('numFilms', '13')]\n"
     ]
    },
    {
     "data": {
      "text/plain": [
       "1"
      ]
     },
     "execution_count": 24,
     "metadata": {},
     "output_type": "execute_result"
    }
   ],
   "source": [
    "queryString = \"\"\"\n",
    "select ?actor ?actorName (count(distinct ?film) as ?numFilms) where {\n",
    "    ?film wdt:P31 wd:Q11424 ;\n",
    "          wdt:P57 wd:Q25089 ;\n",
    "          wdt:P161 ?actor .\n",
    "        \n",
    "    ?actor <http://schema.org/name> ?actorName .\n",
    "    \n",
    "    filter (?actor != wd:Q25089) .\n",
    "} group by ?actor ?actorName\n",
    "order by desc(?numFilms)\n",
    "limit 1\n",
    "\"\"\"\n",
    "\n",
    "print(\"Results\")\n",
    "run_query(queryString)"
   ]
  },
  {
   "cell_type": "markdown",
   "id": "74d8d336-78b2-461e-9e71-60012770269e",
   "metadata": {},
   "source": [
    "And for **Quentin Tarantino**:"
   ]
  },
  {
   "cell_type": "code",
   "execution_count": 25,
   "id": "d242bb47-94b5-438d-a540-e9f5f88545cf",
   "metadata": {
    "tags": []
   },
   "outputs": [
    {
     "name": "stdout",
     "output_type": "stream",
     "text": [
      "Results\n",
      "[('actor', 'http://www.wikidata.org/entity/Q220584'), ('actorName', 'Michael Madsen'), ('numFilms', '7')]\n"
     ]
    },
    {
     "data": {
      "text/plain": [
       "1"
      ]
     },
     "execution_count": 25,
     "metadata": {},
     "output_type": "execute_result"
    }
   ],
   "source": [
    "queryString = \"\"\"\n",
    "select ?actor ?actorName (count(distinct ?film) as ?numFilms) where {\n",
    "    ?film wdt:P31 wd:Q11424 ;\n",
    "          wdt:P57 wd:Q3772 ;\n",
    "          wdt:P161 ?actor .\n",
    "        \n",
    "    ?actor <http://schema.org/name> ?actorName .\n",
    "    \n",
    "    filter (?actor != wd:Q3772) .\n",
    "} group by ?actor ?actorName\n",
    "order by desc(?numFilms)\n",
    "limit 1\n",
    "\"\"\"\n",
    "\n",
    "print(\"Results\")\n",
    "run_query(queryString)"
   ]
  },
  {
   "cell_type": "markdown",
   "id": "96d27cec-3281-4baa-a146-d9dc834730f3",
   "metadata": {},
   "source": [
    "And the most used actor in general is:"
   ]
  },
  {
   "cell_type": "code",
   "execution_count": 26,
   "id": "a35b61e2-690e-42e2-8372-39c3d13e22fa",
   "metadata": {},
   "outputs": [
    {
     "name": "stdout",
     "output_type": "stream",
     "text": [
      "Results\n",
      "[('actor', 'http://www.wikidata.org/entity/Q202725'), ('actorName', 'Mia Farrow'), ('numFilms', '13')]\n"
     ]
    },
    {
     "data": {
      "text/plain": [
       "1"
      ]
     },
     "execution_count": 26,
     "metadata": {},
     "output_type": "execute_result"
    }
   ],
   "source": [
    "queryString = \"\"\"\n",
    "select ?actor ?actorName (count(distinct ?film) as ?numFilms) where {\n",
    "    values ?director {wd:Q25089 wd:Q3772}\n",
    "    \n",
    "    ?film wdt:P31 wd:Q11424 ;\n",
    "          wdt:P57 ?director ;\n",
    "          wdt:P161 ?actor .\n",
    "        \n",
    "    ?actor <http://schema.org/name> ?actorName .\n",
    "    \n",
    "    filter (?actor != ?director) .\n",
    "} group by ?actor ?actorName\n",
    "order by desc(?numFilms)\n",
    "limit 1\n",
    "\"\"\"\n",
    "\n",
    "print(\"Results\")\n",
    "run_query(queryString)"
   ]
  },
  {
   "cell_type": "markdown",
   "id": "5a1f8d5b-d6e9-4db9-aca6-9094a878af3d",
   "metadata": {},
   "source": [
    "### What is the film with the highest number of shared actors"
   ]
  },
  {
   "cell_type": "code",
   "execution_count": 27,
   "id": "9f3992fb-85b2-4889-8570-c29fcb248659",
   "metadata": {},
   "outputs": [
    {
     "name": "stdout",
     "output_type": "stream",
     "text": [
      "Results\n",
      "[('film', 'http://www.wikidata.org/entity/Q104123'), ('filmName', 'Pulp Fiction'), ('numSharedActors', '5'), ('sharedActorsName', 'Christopher Walken, Rosanna Arquette, Steve Buscemi, Tim Roth, Uma Thurman')]\n"
     ]
    },
    {
     "data": {
      "text/plain": [
       "1"
      ]
     },
     "execution_count": 27,
     "metadata": {},
     "output_type": "execute_result"
    }
   ],
   "source": [
    "queryString = \"\"\"\n",
    "select ?film ?filmName (count(distinct ?sharedActor) as ?numSharedActors) (group_concat(distinct ?actorName; separator=\", \") as ?sharedActorsName) where {\n",
    "    values ?director {wd:Q25089 wd:Q3772}\n",
    "    \n",
    "    {\n",
    "        select distinct ?sharedActor where {\n",
    "            values ?director {wd:Q25089 wd:Q3772}\n",
    "\n",
    "            ?film wdt:P31 wd:Q11424 ;\n",
    "                  wdt:P57 ?director ;\n",
    "                  wdt:P161 ?sharedActor .\n",
    "        } group by ?sharedActor\n",
    "        having (count(distinct ?director) > 1)\n",
    "    } .\n",
    "    \n",
    "    ?film wdt:P31 wd:Q11424 ;\n",
    "      wdt:P57 ?director ;\n",
    "      wdt:P161 ?sharedActor .\n",
    "    \n",
    "    ?sharedActor <http://schema.org/name> ?actorName .\n",
    "    ?film <http://schema.org/name> ?filmName .\n",
    "} group by ?film ?filmName\n",
    "order by desc(?numSharedActors)\n",
    "limit 1\n",
    "\"\"\"\n",
    "\n",
    "print(\"Results\")\n",
    "run_query(queryString)"
   ]
  },
  {
   "cell_type": "markdown",
   "id": "c7b30ee5-589d-47f3-baa9-b7f0aa22a081",
   "metadata": {},
   "source": [
    "### What is the average age of the workers for the two directors?"
   ]
  },
  {
   "cell_type": "markdown",
   "id": "cba25a1f-64e4-4aba-be98-b4437d64adc4",
   "metadata": {},
   "source": [
    "**P569** is the property for date of birth (found in properties of Woody Allen in the first query)"
   ]
  },
  {
   "cell_type": "code",
   "execution_count": 28,
   "id": "c4e69ea3-59b2-49cd-b4f9-1c53c2462e0f",
   "metadata": {},
   "outputs": [
    {
     "name": "stdout",
     "output_type": "stream",
     "text": [
      "Results\n",
      "[('directorName', 'Quentin Tarantino'), ('avgAge', '59.589569160997732')]\n",
      "[('directorName', 'Woody Allen'), ('avgAge', '76.134196185286104')]\n"
     ]
    },
    {
     "data": {
      "text/plain": [
       "2"
      ]
     },
     "execution_count": 28,
     "metadata": {},
     "output_type": "execute_result"
    }
   ],
   "source": [
    "queryString = \"\"\"\n",
    "select ?directorName (avg(?workerAge) as ?avgAge) where {\n",
    "    values ?director {wd:Q25089 wd:Q3772}\n",
    "\n",
    "    ?film wdt:P31 wd:Q11424 ;\n",
    "          wdt:P57 ?director ;\n",
    "          ?p ?worker .\n",
    "    ?worker wdt:P31 wd:Q5 ;\n",
    "            wdt:P569 ?birthDate .\n",
    "    \n",
    "    bind(year(now()) - year(?birthDate) as ?workerAge) .\n",
    "    \n",
    "    ?director <http://schema.org/name> ?directorName .\n",
    "    \n",
    "    filter(?p not in (wdt:P674, wdt:P453, wdt:P2354, wdt:P859, wdt:P136, wdt:P825, wdt:P155)) .\n",
    "} group by ?directorName\n",
    "\"\"\"\n",
    "\n",
    "print(\"Results\")\n",
    "run_query(queryString)"
   ]
  },
  {
   "cell_type": "markdown",
   "id": "2767279a-fe21-4aa6-a116-68c3899b392b",
   "metadata": {},
   "source": [
    "### Which are the younger workers? (first five)"
   ]
  },
  {
   "cell_type": "code",
   "execution_count": 29,
   "id": "433ac2d3-2585-47db-816c-0ca914329940",
   "metadata": {},
   "outputs": [
    {
     "name": "stdout",
     "output_type": "stream",
     "text": [
      "Results\n",
      "[('directorName', 'Quentin Tarantino'), ('worker', 'http://www.wikidata.org/entity/Q62023911'), ('workerName', 'Julia Butters'), ('workerAge', '13')]\n",
      "[('directorName', 'Woody Allen'), ('worker', 'http://www.wikidata.org/entity/Q7610664'), ('workerName', 'Stephen Tenenbaum'), ('workerAge', '22')]\n",
      "[('directorName', 'Quentin Tarantino'), ('worker', 'http://www.wikidata.org/entity/Q23010323'), ('workerName', 'Dana Gourrier'), ('workerAge', '22')]\n",
      "[('directorName', 'Quentin Tarantino'), ('worker', 'http://www.wikidata.org/entity/Q3059246'), ('workerName', 'Ethan Maniquis'), ('workerAge', '22')]\n",
      "[('directorName', 'Woody Allen'), ('worker', 'http://www.wikidata.org/entity/Q2078767'), ('workerName', 'Gary Weis'), ('workerAge', '22')]\n"
     ]
    },
    {
     "data": {
      "text/plain": [
       "5"
      ]
     },
     "execution_count": 29,
     "metadata": {},
     "output_type": "execute_result"
    }
   ],
   "source": [
    "queryString = \"\"\"\n",
    "select distinct ?directorName ?worker ?workerName ?workerAge where {\n",
    "    values ?director {wd:Q25089 wd:Q3772}\n",
    "\n",
    "    ?film wdt:P31 wd:Q11424 ;\n",
    "          wdt:P57 ?director ;\n",
    "          ?p ?worker .\n",
    "    ?worker wdt:P31 wd:Q5 ;\n",
    "            wdt:P569 ?birthDate .\n",
    "    \n",
    "    bind(year(now()) - year(?birthDate) as ?workerAge) .\n",
    "    \n",
    "    ?director <http://schema.org/name> ?directorName .\n",
    "    ?worker <http://schema.org/name> ?workerName .\n",
    "    \n",
    "    filter(?p not in (wdt:P674, wdt:P453, wdt:P2354, wdt:P859, wdt:P136, wdt:P825, wdt:P155)) .\n",
    "} order by asc(?workerAge)\n",
    "limit 5\n",
    "\"\"\"\n",
    "\n",
    "print(\"Results\")\n",
    "run_query(queryString)"
   ]
  },
  {
   "cell_type": "markdown",
   "id": "15bf3e5b-04c9-4b85-923b-de6f05b4a463",
   "metadata": {},
   "source": [
    "### Which are the oldest workers? (first five)"
   ]
  },
  {
   "cell_type": "code",
   "execution_count": 30,
   "id": "431f27a9-d5f6-458a-ac99-c3ef13c00eed",
   "metadata": {},
   "outputs": [
    {
     "name": "stdout",
     "output_type": "stream",
     "text": [
      "Results\n",
      "[('directorName', 'Woody Allen'), ('worker', 'http://www.wikidata.org/entity/Q1339'), ('workerName', 'Johann Sebastian Bach'), ('workerAge', '337')]\n",
      "[('directorName', 'Woody Allen'), ('worker', 'http://www.wikidata.org/entity/Q7312'), ('workerName', 'Franz Schubert'), ('workerAge', '225')]\n",
      "[('directorName', 'Woody Allen'), ('worker', 'http://www.wikidata.org/entity/Q46096'), ('workerName', 'Felix Mendelssohn'), ('workerAge', '213')]\n",
      "[('directorName', 'Woody Allen'), ('worker', 'http://www.wikidata.org/entity/Q991'), ('workerName', 'Fyodor Dostoyevsky'), ('workerAge', '201')]\n",
      "[('directorName', 'Woody Allen'), ('worker', 'http://www.wikidata.org/entity/Q2846583'), ('workerName', 'Sir Andrew Clark, 1st Baronet'), ('workerAge', '196')]\n"
     ]
    },
    {
     "data": {
      "text/plain": [
       "5"
      ]
     },
     "execution_count": 30,
     "metadata": {},
     "output_type": "execute_result"
    }
   ],
   "source": [
    "queryString = \"\"\"\n",
    "select distinct ?directorName ?worker ?workerName ?workerAge where {\n",
    "    values ?director {wd:Q25089 wd:Q3772}\n",
    "\n",
    "    ?film wdt:P31 wd:Q11424 ;\n",
    "          wdt:P57 ?director ;\n",
    "          ?p ?worker .\n",
    "    ?worker wdt:P31 wd:Q5 ;\n",
    "            wdt:P569 ?birthDate .\n",
    "    \n",
    "    bind(year(now()) - year(?birthDate) as ?workerAge) .\n",
    "    \n",
    "    ?director <http://schema.org/name> ?directorName .\n",
    "    ?worker <http://schema.org/name> ?workerName .\n",
    "    \n",
    "    filter(?p not in (wdt:P674, wdt:P453, wdt:P2354, wdt:P859, wdt:P136, wdt:P825, wdt:P155)) .\n",
    "} order by desc(?workerAge)\n",
    "limit 5\n",
    "\"\"\"\n",
    "\n",
    "print(\"Results\")\n",
    "run_query(queryString)"
   ]
  },
  {
   "cell_type": "markdown",
   "id": "43409efa-4d55-4c2e-b0b6-e3b7541c6b93",
   "metadata": {},
   "source": [
    "What is the role of Johann Sebastian Bach and in which films?"
   ]
  },
  {
   "cell_type": "code",
   "execution_count": 31,
   "id": "6db66f61-6b3b-476c-bf85-d432bebf076e",
   "metadata": {},
   "outputs": [
    {
     "name": "stdout",
     "output_type": "stream",
     "text": [
      "Results\n",
      "[('film', 'http://www.wikidata.org/entity/Q1354121'), ('filmName', 'Melinda and Melinda'), ('directorName', 'Woody Allen'), ('pName', 'composer')]\n",
      "[('film', 'http://www.wikidata.org/entity/Q845057'), ('filmName', 'Hannah and Her Sisters'), ('directorName', 'Woody Allen'), ('pName', 'composer')]\n"
     ]
    },
    {
     "data": {
      "text/plain": [
       "2"
      ]
     },
     "execution_count": 31,
     "metadata": {},
     "output_type": "execute_result"
    }
   ],
   "source": [
    "queryString = \"\"\"\n",
    "select distinct ?film ?filmName ?directorName ?pName ?workerName where {\n",
    "    values ?director {wd:Q25089 wd:Q3772}\n",
    "\n",
    "    ?film wdt:P31 wd:Q11424 ;\n",
    "          wdt:P57 ?director ;\n",
    "          ?p wd:Q1339 .\n",
    "        \n",
    "    ?director <http://schema.org/name> ?directorName .\n",
    "    ?film <http://schema.org/name> ?filmName .\n",
    "    ?p <http://schema.org/name> ?pName .\n",
    "}\n",
    "\"\"\"\n",
    "\n",
    "print(\"Results\")\n",
    "run_query(queryString)"
   ]
  },
  {
   "cell_type": "markdown",
   "id": "d74fc33a-7e7a-42be-8dcf-fdc2166054bf",
   "metadata": {
    "tags": []
   },
   "source": [
    "### Which workers are death?"
   ]
  },
  {
   "cell_type": "markdown",
   "id": "c270e44f-1e88-45b5-be33-00d335eaa32e",
   "metadata": {},
   "source": [
    "First, I need to get the property for death date. I can retrieve it from Bach properties."
   ]
  },
  {
   "cell_type": "code",
   "execution_count": 32,
   "id": "57725fe6-4171-4277-aabd-110248ff8a41",
   "metadata": {},
   "outputs": [
    {
     "name": "stdout",
     "output_type": "stream",
     "text": [
      "Results\n",
      "[('p', 'http://www.wikidata.org/prop/direct/P1196'), ('pName', 'manner of death')]\n",
      "[('p', 'http://www.wikidata.org/prop/direct/P20'), ('pName', 'place of death')]\n",
      "[('p', 'http://www.wikidata.org/prop/direct/P509'), ('pName', 'cause of death')]\n",
      "[('p', 'http://www.wikidata.org/prop/direct/P570'), ('pName', 'date of death')]\n"
     ]
    },
    {
     "data": {
      "text/plain": [
       "4"
      ]
     },
     "execution_count": 32,
     "metadata": {},
     "output_type": "execute_result"
    }
   ],
   "source": [
    "queryString = \"\"\"\n",
    "select distinct ?p ?pName where { \n",
    "    wd:Q1339 ?p ?o .\n",
    "    ?p <http://schema.org/name> ?pName .\n",
    "    \n",
    "    filter(regex(?pName, \"death\"))\n",
    "} \n",
    "\"\"\"\n",
    "\n",
    "print(\"Results\")\n",
    "run_query(queryString)"
   ]
  },
  {
   "cell_type": "code",
   "execution_count": 33,
   "id": "cfdbf28c-715a-4e0a-81c1-3342681b1fad",
   "metadata": {
    "collapsed": true,
    "jupyter": {
     "outputs_hidden": true
    },
    "tags": []
   },
   "outputs": [
    {
     "name": "stdout",
     "output_type": "stream",
     "text": [
      "Results\n",
      "[('worker', 'http://www.wikidata.org/entity/Q351732'), ('workerName', 'Sonny Chiba'), ('deathDate', '2021-08-19T00:00:00Z'), ('mannerOfDeath', 'natural causes')]\n",
      "[('worker', 'http://www.wikidata.org/entity/Q230188'), ('workerName', 'Olympia Dukakis'), ('deathDate', '2021-05-01T00:00:00Z')]\n",
      "[('worker', 'http://www.wikidata.org/entity/Q945188'), ('workerName', 'Monte Hellman'), ('deathDate', '2021-04-20T00:00:00Z'), ('mannerOfDeath', 'accident')]\n",
      "[('worker', 'http://www.wikidata.org/entity/Q230131'), ('workerName', 'Cloris Leachman'), ('deathDate', '2021-01-27T00:00:00Z'), ('mannerOfDeath', 'natural causes')]\n",
      "[('worker', 'http://www.wikidata.org/entity/Q2543651'), ('workerName', 'Walter Bernstein'), ('deathDate', '2021-01-23T00:00:00Z'), ('mannerOfDeath', 'natural causes')]\n",
      "[('worker', 'http://www.wikidata.org/entity/Q1366768'), ('workerName', 'Tom Lister, Jr.'), ('deathDate', '2020-12-10T00:00:00Z'), ('mannerOfDeath', 'natural causes')]\n",
      "[('worker', 'http://www.wikidata.org/entity/Q23848'), ('workerName', 'Ennio Morricone'), ('deathDate', '2020-07-06T00:00:00Z'), ('mannerOfDeath', 'natural causes')]\n",
      "[('worker', 'http://www.wikidata.org/entity/Q295207'), ('workerName', 'Joel Schumacher'), ('deathDate', '2020-06-22T00:00:00Z'), ('mannerOfDeath', 'natural causes')]\n",
      "[('worker', 'http://www.wikidata.org/entity/Q223091'), ('workerName', 'Ian Holm'), ('deathDate', '2020-06-19T00:00:00Z'), ('mannerOfDeath', 'natural causes')]\n",
      "[('worker', 'http://www.wikidata.org/entity/Q4977733'), ('workerName', 'Bruce Jay Friedman'), ('deathDate', '2020-06-03T00:00:00Z')]\n",
      "[('worker', 'http://www.wikidata.org/entity/Q932204'), ('workerName', 'Allen Garfield'), ('deathDate', '2020-04-07T00:00:00Z'), ('mannerOfDeath', 'natural causes')]\n",
      "[('worker', 'http://www.wikidata.org/entity/Q3189161'), ('workerName', 'Julie Bennett'), ('deathDate', '2020-03-31T00:00:00Z'), ('mannerOfDeath', 'natural causes')]\n",
      "[('worker', 'http://www.wikidata.org/entity/Q203215'), ('workerName', 'Max von Sydow'), ('deathDate', '2020-03-08T00:00:00Z')]\n",
      "[('worker', 'http://www.wikidata.org/entity/Q338355'), ('workerName', 'James Otis'), ('deathDate', '2020-03-03T00:00:00Z')]\n",
      "[('worker', 'http://www.wikidata.org/entity/Q7026715'), ('workerName', 'Nick Apollo Forte'), ('deathDate', '2020-02-26T00:00:00Z')]\n",
      "[('worker', 'http://www.wikidata.org/entity/Q1995506'), ('workerName', 'Zoe Caldwell'), ('deathDate', '2020-02-16T00:00:00Z'), ('mannerOfDeath', 'natural causes')]\n",
      "[('worker', 'http://www.wikidata.org/entity/Q291552'), ('workerName', 'Lynn Cohen'), ('deathDate', '2020-02-14T00:00:00Z')]\n",
      "[('worker', 'http://www.wikidata.org/entity/Q1869210'), ('workerName', 'Robert Harper'), ('deathDate', '2020-01-23T00:00:00Z'), ('mannerOfDeath', 'natural causes')]\n",
      "[('worker', 'http://www.wikidata.org/entity/Q299314'), ('workerName', 'Danny Aiello'), ('deathDate', '2019-12-12T00:00:00Z')]\n",
      "[('worker', 'http://www.wikidata.org/entity/Q367155'), ('workerName', 'Robert Forster'), ('deathDate', '2019-10-11T00:00:00Z')]\n",
      "[('worker', 'http://www.wikidata.org/entity/Q1331953'), ('workerName', 'Sid Haig'), ('deathDate', '2019-09-21T00:00:00Z')]\n",
      "[('worker', 'http://www.wikidata.org/entity/Q6149495'), ('workerName', 'Jan Merlin'), ('deathDate', '2019-09-20T00:00:00Z')]\n",
      "[('worker', 'http://www.wikidata.org/entity/Q213574'), ('workerName', 'Rutger Hauer'), ('deathDate', '2019-07-19T00:00:00Z')]\n",
      "[('worker', 'http://www.wikidata.org/entity/Q1368224'), ('workerName', 'Joseph Pilato'), ('deathDate', '2019-03-24T00:00:00Z')]\n",
      "[('worker', 'http://www.wikidata.org/entity/Q318165'), ('workerName', 'Luke Perry'), ('deathDate', '2019-03-04T00:00:00Z')]\n",
      "[('worker', 'http://www.wikidata.org/entity/Q1209753'), ('workerName', 'Dick Miller'), ('deathDate', '2019-01-30T00:00:00Z'), ('mannerOfDeath', 'natural causes')]\n",
      "[('worker', 'http://www.wikidata.org/entity/Q1292127'), ('workerName', 'Philip Bosco'), ('deathDate', '2018-12-03T00:00:00Z'), ('mannerOfDeath', 'natural causes')]\n",
      "[('worker', 'http://www.wikidata.org/entity/Q2582350'), ('workerName', 'Will Jordan'), ('deathDate', '2018-09-06T00:00:00Z')]\n",
      "[('worker', 'http://www.wikidata.org/entity/Q202148'), ('workerName', 'Burt Reynolds'), ('deathDate', '2018-09-06T00:00:00Z'), ('mannerOfDeath', 'natural causes')]\n",
      "[('worker', 'http://www.wikidata.org/entity/Q266335'), ('workerName', 'Charlotte Rae'), ('deathDate', '2018-08-05T00:00:00Z'), ('mannerOfDeath', 'natural causes')]\n",
      "[('worker', 'http://www.wikidata.org/entity/Q202449'), ('workerName', 'David Ogden Stiers'), ('deathDate', '2018-03-03T00:00:00Z'), ('mannerOfDeath', 'natural causes')]\n",
      "[('worker', 'http://www.wikidata.org/entity/Q3751773'), ('workerName', 'Frank Buxton'), ('deathDate', '2018-01-02T00:00:00Z'), ('mannerOfDeath', 'natural causes')]\n",
      "[('worker', 'http://www.wikidata.org/entity/Q485883'), ('workerName', 'Mundell Lowe'), ('deathDate', '2017-12-02T00:00:00Z')]\n",
      "[('worker', 'http://www.wikidata.org/entity/Q294641'), ('workerName', 'Martin Landau'), ('deathDate', '2017-07-15T00:00:00Z')]\n",
      "[('worker', 'http://www.wikidata.org/entity/Q449602'), ('workerName', 'Glenne Headly'), ('deathDate', '2017-06-08T00:00:00Z'), ('mannerOfDeath', 'natural causes')]\n",
      "[('worker', 'http://www.wikidata.org/entity/Q503027'), ('workerName', 'Powers Boothe'), ('deathDate', '2017-05-14T00:00:00Z'), ('mannerOfDeath', 'natural causes')]\n",
      "[('worker', 'http://www.wikidata.org/entity/Q525318'), ('workerName', 'Michael Parks'), ('deathDate', '2017-05-09T00:00:00Z')]\n",
      "[('worker', 'http://www.wikidata.org/entity/Q15040582'), ('workerName', 'Frank Pellegrino'), ('deathDate', '2017-01-31T00:00:00Z'), ('mannerOfDeath', 'natural causes')]\n",
      "[('worker', 'http://www.wikidata.org/entity/Q1371409'), ('workerName', 'Nat Hentoff'), ('deathDate', '2017-01-07T00:00:00Z')]\n",
      "[('worker', 'http://www.wikidata.org/entity/Q15040582'), ('workerName', 'Frank Pellegrino'), ('deathDate', '2017-01-01T00:00:00Z'), ('mannerOfDeath', 'natural causes')]\n",
      "[('worker', 'http://www.wikidata.org/entity/Q108941'), ('workerName', 'Carrie Fisher'), ('deathDate', '2016-12-27T00:00:00Z'), ('mannerOfDeath', 'natural causes')]\n",
      "[('worker', 'http://www.wikidata.org/entity/Q254431'), ('workerName', 'Alexis Arquette'), ('deathDate', '2016-09-11T00:00:00Z'), ('mannerOfDeath', 'natural causes')]\n",
      "[('worker', 'http://www.wikidata.org/entity/Q191966'), ('workerName', 'Gene Wilder'), ('deathDate', '2016-08-29T00:00:00Z'), ('mannerOfDeath', 'natural causes')]\n",
      "[('worker', 'http://www.wikidata.org/entity/Q1866328'), ('workerName', 'David Spielberg'), ('deathDate', '2016-06-01T00:00:00Z')]\n",
      "[('worker', 'http://www.wikidata.org/entity/Q24050432'), ('workerName', 'Sylvia Kauders'), ('deathDate', '2016-05-05T00:00:00Z')]\n",
      "[('worker', 'http://www.wikidata.org/entity/Q353155'), ('workerName', 'David Margulies'), ('deathDate', '2016-01-11T00:00:00Z'), ('mannerOfDeath', 'natural causes')]\n",
      "[('worker', 'http://www.wikidata.org/entity/Q5383'), ('workerName', 'David Bowie'), ('deathDate', '2016-01-10T00:00:00Z'), ('mannerOfDeath', 'natural causes')]\n",
      "[('worker', 'http://www.wikidata.org/entity/Q963628'), ('workerName', 'Vilmos Zsigmond'), ('deathDate', '2016-01-01T00:00:00Z')]\n",
      "[('worker', 'http://www.wikidata.org/entity/Q3573474'), ('workerName', 'Yves Barsacq'), ('deathDate', '2015-10-04T00:00:00Z')]\n",
      "[('worker', 'http://www.wikidata.org/entity/Q3157307'), ('workerName', 'Jack Rollins'), ('deathDate', '2015-06-18T00:00:00Z')]\n",
      "[('worker', 'http://www.wikidata.org/entity/Q166422'), ('workerName', 'Richard Johnson'), ('deathDate', '2015-06-06T00:00:00Z')]\n",
      "[('worker', 'http://www.wikidata.org/entity/Q166422'), ('workerName', 'Richard Johnson'), ('deathDate', '2015-06-05T00:00:00Z')]\n",
      "[('worker', 'http://www.wikidata.org/entity/Q1699559'), ('workerName', 'John Carter'), ('deathDate', '2015-05-23T00:00:00Z')]\n",
      "[('worker', 'http://www.wikidata.org/entity/Q213844'), ('workerName', 'Judith Malina'), ('deathDate', '2015-04-10T00:00:00Z'), ('mannerOfDeath', 'natural causes')]\n",
      "[('worker', 'http://www.wikidata.org/entity/Q1388109'), ('workerName', 'Gene Saks'), ('deathDate', '2015-03-28T00:00:00Z'), ('mannerOfDeath', 'natural causes')]\n",
      "[('worker', 'http://www.wikidata.org/entity/Q8005304'), ('workerName', 'William Beckley'), ('deathDate', '2015-03-11T00:00:00Z')]\n",
      "[('worker', 'http://www.wikidata.org/entity/Q1163293'), ('workerName', 'Daniel von Bargen'), ('deathDate', '2015-03-01T00:00:00Z')]\n",
      "[('worker', 'http://www.wikidata.org/entity/Q573600'), ('workerName', 'Anthony Mason'), ('deathDate', '2015-02-28T00:00:00Z'), ('mannerOfDeath', 'natural causes')]\n",
      "[('worker', 'http://www.wikidata.org/entity/Q308459'), ('workerName', 'Rod Taylor'), ('deathDate', '2015-01-07T00:00:00Z'), ('mannerOfDeath', 'natural causes')]\n",
      "[('worker', 'http://www.wikidata.org/entity/Q536437'), ('workerName', 'Edward Herrmann'), ('deathDate', '2014-12-31T00:00:00Z'), ('mannerOfDeath', 'natural causes')]\n",
      "[('worker', 'http://www.wikidata.org/entity/Q431564'), ('workerName', 'Marian Seldes'), ('deathDate', '2014-10-06T00:00:00Z'), ('mannerOfDeath', 'natural causes')]\n",
      "[('worker', 'http://www.wikidata.org/entity/Q438860'), ('workerName', 'Misty Upham'), ('deathDate', '2014-10-05T00:00:00Z')]\n",
      "[('worker', 'http://www.wikidata.org/entity/Q945691'), ('workerName', 'Geoffrey Holder'), ('deathDate', '2014-10-05T00:00:00Z'), ('mannerOfDeath', 'natural causes')]\n",
      "[('worker', 'http://www.wikidata.org/entity/Q5292891'), ('workerName', 'Don Keefer'), ('deathDate', '2014-09-07T00:00:00Z')]\n",
      "[('worker', 'http://www.wikidata.org/entity/Q83338'), ('workerName', 'Robin Williams'), ('deathDate', '2014-08-11T00:00:00Z'), ('mannerOfDeath', 'suicide')]\n",
      "[('worker', 'http://www.wikidata.org/entity/Q242735'), ('workerName', 'Elaine Stritch'), ('deathDate', '2014-07-17T00:00:00Z')]\n",
      "[('worker', 'http://www.wikidata.org/entity/Q2025392'), ('workerName', 'Rosemary Murphy'), ('deathDate', '2014-07-05T00:00:00Z'), ('mannerOfDeath', 'natural causes')]\n",
      "[('worker', 'http://www.wikidata.org/entity/Q388286'), ('workerName', 'Bobby Womack'), ('deathDate', '2014-06-27T00:00:00Z')]\n",
      "[('worker', 'http://www.wikidata.org/entity/Q17146184'), ('workerName', 'Anna Berger'), ('deathDate', '2014-05-26T00:00:00Z')]\n",
      "[('worker', 'http://www.wikidata.org/entity/Q560108'), ('workerName', 'Gordon Willis'), ('deathDate', '2014-05-18T00:00:00Z'), ('mannerOfDeath', 'natural causes')]\n",
      "[('worker', 'http://www.wikidata.org/entity/Q7324329'), ('workerName', 'Richard Brick'), ('deathDate', '2014-04-02T00:00:00Z')]\n",
      "[('worker', 'http://www.wikidata.org/entity/Q3185566'), ('workerName', 'Joseph Rigano'), ('deathDate', '2014-03-27T00:00:00Z')]\n",
      "[('worker', 'http://www.wikidata.org/entity/Q726140'), ('workerName', 'James Rebhorn'), ('deathDate', '2014-03-21T00:00:00Z'), ('mannerOfDeath', 'natural causes')]\n",
      "[('worker', 'http://www.wikidata.org/entity/Q15272774'), ('workerName', 'Christopher Evan Welch'), ('deathDate', '2013-12-02T00:00:00Z'), ('mannerOfDeath', 'natural causes')]\n",
      "[('worker', 'http://www.wikidata.org/entity/Q463944'), ('workerName', 'Giuliano Gemma'), ('deathDate', '2013-10-01T00:00:00Z'), ('mannerOfDeath', 'accident')]\n",
      "[('worker', 'http://www.wikidata.org/entity/Q633755'), ('workerName', 'Jay Robinson'), ('deathDate', '2013-09-27T00:00:00Z')]\n",
      "[('worker', 'http://www.wikidata.org/entity/Q336519'), ('workerName', 'Elmore Leonard'), ('deathDate', '2013-08-20T00:00:00Z'), ('mannerOfDeath', 'natural causes')]\n",
      "[('worker', 'http://www.wikidata.org/entity/Q14369226'), ('workerName', 'Donald Symington'), ('deathDate', '2013-07-24T00:00:00Z'), ('mannerOfDeath', 'natural causes')]\n",
      "[('worker', 'http://www.wikidata.org/entity/Q3129613'), ('workerName', 'Helen Hanft'), ('deathDate', '2013-05-29T00:00:00Z')]\n",
      "[('worker', 'http://www.wikidata.org/entity/Q12270304'), ('workerName', 'Mickey Rose'), ('deathDate', '2013-04-07T00:00:00Z'), ('mannerOfDeath', 'natural causes')]\n",
      "[('worker', 'http://www.wikidata.org/entity/Q2741618'), ('workerName', \"Milo O'Shea\"), ('deathDate', '2013-04-02T00:00:00Z')]\n",
      "[('worker', 'http://www.wikidata.org/entity/Q467122'), ('workerName', 'Ed Koch'), ('deathDate', '2013-02-01T00:00:00Z'), ('mannerOfDeath', 'natural causes')]\n",
      "[('worker', 'http://www.wikidata.org/entity/Q1383608'), ('workerName', 'Axel Anderson'), ('deathDate', '2012-12-16T00:00:00Z'), ('mannerOfDeath', 'natural causes')]\n",
      "[('worker', 'http://www.wikidata.org/entity/Q1333793'), ('workerName', 'Haris Savides'), ('deathDate', '2012-10-09T00:00:00Z'), ('mannerOfDeath', 'natural causes')]\n",
      "[('worker', 'http://www.wikidata.org/entity/Q483148'), ('workerName', 'Michael Clarke Duncan'), ('deathDate', '2012-09-03T00:00:00Z'), ('mannerOfDeath', 'natural causes')]\n",
      "[('worker', 'http://www.wikidata.org/entity/Q337206'), ('workerName', 'Marvin Hamlisch'), ('deathDate', '2012-08-07T00:00:00Z')]\n",
      "[('worker', 'http://www.wikidata.org/entity/Q3187993'), ('workerName', 'Judith Crist'), ('deathDate', '2012-08-07T00:00:00Z')]\n",
      "[('worker', 'http://www.wikidata.org/entity/Q337206'), ('workerName', 'Marvin Hamlisch'), ('deathDate', '2012-08-06T00:00:00Z')]\n",
      "[('worker', 'http://www.wikidata.org/entity/Q979428'), ('workerName', 'Norman Alden'), ('deathDate', '2012-07-27T00:00:00Z')]\n",
      "[('worker', 'http://www.wikidata.org/entity/Q214677'), ('workerName', 'Nora Ephron'), ('deathDate', '2012-06-26T00:00:00Z'), ('mannerOfDeath', 'natural causes')]\n",
      "[('worker', 'http://www.wikidata.org/entity/Q1171196'), ('workerName', 'Leonardo Cimino'), ('deathDate', '2012-03-03T00:00:00Z')]\n",
      "[('worker', 'http://www.wikidata.org/entity/Q1159067'), ('workerName', 'Dan Frazer'), ('deathDate', '2011-12-16T00:00:00Z')]\n",
      "[('worker', 'http://www.wikidata.org/entity/Q599439'), ('workerName', 'John Wood'), ('deathDate', '2011-08-06T00:00:00Z')]\n",
      "[('worker', 'http://www.wikidata.org/entity/Q439778'), ('workerName', 'Margaret Tyzack'), ('deathDate', '2011-06-25T00:00:00Z')]\n",
      "[('worker', 'http://www.wikidata.org/entity/Q1356690'), ('workerName', 'Kenneth Mars'), ('deathDate', '2011-02-12T00:00:00Z'), ('mannerOfDeath', 'natural causes')]\n",
      "[('worker', 'http://www.wikidata.org/entity/Q126455'), ('workerName', 'Peter Hobbs'), ('deathDate', '2011-01-02T00:00:00Z')]\n",
      "[('worker', 'http://www.wikidata.org/entity/Q273379'), ('workerName', 'Sally Menke'), ('deathDate', '2010-09-27T00:00:00Z')]\n",
      "[('worker', 'http://www.wikidata.org/entity/Q954950'), ('workerName', 'Harold Gould'), ('deathDate', '2010-09-11T00:00:00Z'), ('mannerOfDeath', 'natural causes')]\n",
      "[('worker', 'http://www.wikidata.org/entity/Q3760593'), ('workerName', 'George Martin'), ('deathDate', '2010-06-01T00:00:00Z')]\n",
      "[('worker', 'http://www.wikidata.org/entity/Q1282686'), ('workerName', 'Eddie Barth'), ('deathDate', '2010-05-28T00:00:00Z')]\n",
      "[('worker', 'http://www.wikidata.org/entity/Q156552'), ('workerName', 'Lynn Redgrave'), ('deathDate', '2010-05-02T00:00:00Z'), ('mannerOfDeath', 'natural causes')]\n",
      "[('worker', 'http://www.wikidata.org/entity/Q7358717'), ('workerName', 'Roger Newman'), ('deathDate', '2010-03-04T00:00:00Z'), ('mannerOfDeath', 'natural causes')]\n",
      "[('worker', 'http://www.wikidata.org/entity/Q168847'), ('workerName', 'Brittany Murphy'), ('deathDate', '2009-12-20T00:00:00Z'), ('mannerOfDeath', 'natural causes')]\n",
      "[('worker', 'http://www.wikidata.org/entity/Q1871315'), ('workerName', 'Lou Jacobi'), ('deathDate', '2009-10-23T00:00:00Z')]\n",
      "[('worker', 'http://www.wikidata.org/entity/Q187038'), ('workerName', 'David Carradine'), ('deathDate', '2009-06-03T00:00:00Z'), ('mannerOfDeath', 'unfortunate accident')]\n",
      "[('worker', 'http://www.wikidata.org/entity/Q1147798'), ('workerName', 'John Costelloe'), ('deathDate', '2008-12-18T00:00:00Z'), ('mannerOfDeath', 'suicide')]\n",
      "[('worker', 'http://www.wikidata.org/entity/Q3646829'), ('workerName', 'Paul Greco'), ('deathDate', '2008-12-17T00:00:00Z'), ('mannerOfDeath', 'natural causes')]\n",
      "[('worker', 'http://www.wikidata.org/entity/Q1147798'), ('workerName', 'John Costelloe'), ('deathDate', '2008-12-16T00:00:00Z'), ('mannerOfDeath', 'suicide')]\n",
      "[('worker', 'http://www.wikidata.org/entity/Q436638'), ('workerName', 'Van Johnson'), ('deathDate', '2008-12-12T00:00:00Z')]\n",
      "[('worker', 'http://www.wikidata.org/entity/Q338726'), ('workerName', 'Michael Higgins'), ('deathDate', '2008-11-05T00:00:00Z')]\n",
      "[('worker', 'http://www.wikidata.org/entity/Q463224'), ('workerName', 'Neal Hefti'), ('deathDate', '2008-10-11T00:00:00Z'), ('mannerOfDeath', 'natural causes')]\n",
      "[('worker', 'http://www.wikidata.org/entity/Q376736'), ('workerName', 'Kim Chan'), ('deathDate', '2008-10-05T00:00:00Z')]\n",
      "[('worker', 'http://www.wikidata.org/entity/Q36697141'), ('workerName', 'Clément Thierry'), ('deathDate', '2008-08-14T00:00:00Z')]\n",
      "[('worker', 'http://www.wikidata.org/entity/Q1383628'), ('workerName', 'George Furth'), ('deathDate', '2008-08-11T00:00:00Z')]\n",
      "[('worker', 'http://www.wikidata.org/entity/Q376138'), ('workerName', 'Charles H. Joffe'), ('deathDate', '2008-07-09T00:00:00Z')]\n",
      "[('worker', 'http://www.wikidata.org/entity/Q51522'), ('workerName', 'Sydney Pollack'), ('deathDate', '2008-05-26T00:00:00Z'), ('mannerOfDeath', 'natural causes')]\n",
      "[('worker', 'http://www.wikidata.org/entity/Q7002076'), ('workerName', 'Bill Moor'), ('deathDate', '2007-11-27T00:00:00Z')]\n",
      "[('worker', 'http://www.wikidata.org/entity/Q27351'), ('workerName', 'Senkichi Taniguchi'), ('deathDate', '2007-10-29T00:00:00Z'), ('mannerOfDeath', 'natural causes')]\n",
      "[('worker', 'http://www.wikidata.org/entity/Q1699103'), ('workerName', 'Lonny Chapman'), ('deathDate', '2007-10-12T00:00:00Z'), ('mannerOfDeath', 'natural causes')]\n",
      "[('worker', 'http://www.wikidata.org/entity/Q249925'), ('workerName', 'George Grizzard'), ('deathDate', '2007-10-02T00:00:00Z'), ('mannerOfDeath', 'natural causes')]\n",
      "[('worker', 'http://www.wikidata.org/entity/Q1681848'), ('workerName', 'Willy Holt'), ('deathDate', '2007-06-22T00:00:00Z')]\n",
      "[('worker', 'http://www.wikidata.org/entity/Q2830925'), ('workerName', 'Albert Augier'), ('deathDate', '2007-02-02T00:00:00Z')]\n",
      "[('worker', 'http://www.wikidata.org/entity/Q3856171'), ('workerName', 'Michael Gilden'), ('deathDate', '2006-12-05T00:00:00Z'), ('mannerOfDeath', 'suicide')]\n",
      "[('worker', 'http://www.wikidata.org/entity/Q312290'), ('workerName', 'Sven Nykvist'), ('deathDate', '2006-09-20T00:00:00Z')]\n",
      "[('worker', 'http://www.wikidata.org/entity/Q2708142'), ('workerName', 'Tony Jay'), ('deathDate', '2006-08-13T00:00:00Z')]\n",
      "[('worker', 'http://www.wikidata.org/entity/Q373968'), ('workerName', 'Jack Warden'), ('deathDate', '2006-07-19T00:00:00Z'), ('mannerOfDeath', 'natural causes')]\n",
      "[('worker', 'http://www.wikidata.org/entity/Q230841'), ('workerName', 'Maureen Stapleton'), ('deathDate', '2006-03-13T00:00:00Z')]\n",
      "[('worker', 'http://www.wikidata.org/entity/Q43707937'), ('workerName', 'George Hively'), ('deathDate', '2006-02-07T00:00:00Z')]\n",
      "[('worker', 'http://www.wikidata.org/entity/Q297744'), ('workerName', 'Chris Penn'), ('deathDate', '2006-01-24T00:00:00Z')]\n",
      "[('worker', 'http://www.wikidata.org/entity/Q1387836'), ('workerName', 'Patrick Cranshaw'), ('deathDate', '2005-12-28T00:00:00Z'), ('mannerOfDeath', 'natural causes')]\n",
      "[('worker', 'http://www.wikidata.org/entity/Q250539'), ('workerName', 'Edward Bunker'), ('deathDate', '2005-07-19T00:00:00Z')]\n",
      "[('worker', 'http://www.wikidata.org/entity/Q3158888'), ('workerName', 'Jacques Ferrière'), ('deathDate', '2005-04-09T00:00:00Z')]\n",
      "[('worker', 'http://www.wikidata.org/entity/Q83059'), ('workerName', 'Saul Bellow'), ('deathDate', '2005-04-05T00:00:00Z')]\n",
      "[('worker', 'http://www.wikidata.org/entity/Q152824'), ('workerName', 'Susan Sontag'), ('deathDate', '2004-12-28T00:00:00Z'), ('mannerOfDeath', 'natural causes')]\n",
      "[('worker', 'http://www.wikidata.org/entity/Q421707'), ('workerName', 'Jerry Orbach'), ('deathDate', '2004-12-28T00:00:00Z'), ('mannerOfDeath', 'natural causes')]\n",
      "[('worker', 'http://www.wikidata.org/entity/Q2848982'), ('workerName', 'Andrée Tainsy'), ('deathDate', '2004-12-19T00:00:00Z')]\n",
      "[('worker', 'http://www.wikidata.org/entity/Q6116958'), ('workerName', 'Jackson Beck'), ('deathDate', '2004-07-28T00:00:00Z'), ('mannerOfDeath', 'natural causes')]\n",
      "[('worker', 'http://www.wikidata.org/entity/Q1006997'), ('workerName', 'Carlo Di Palma'), ('deathDate', '2004-07-09T00:00:00Z')]\n",
      "[('worker', 'http://www.wikidata.org/entity/Q286717'), ('workerName', 'Tony Randall'), ('deathDate', '2004-05-17T00:00:00Z'), ('mannerOfDeath', 'natural causes')]\n",
      "[('worker', 'http://www.wikidata.org/entity/Q11356032'), ('workerName', 'Tatsuya Mihashi'), ('deathDate', '2004-05-15T00:00:00Z')]\n",
      "[('worker', 'http://www.wikidata.org/entity/Q973065'), ('workerName', 'Victor Argo'), ('deathDate', '2004-04-07T00:00:00Z'), ('mannerOfDeath', 'natural causes')]\n",
      "[('worker', 'http://www.wikidata.org/entity/Q12875593'), ('workerName', 'Despo Diamantidou'), ('deathDate', '2004-02-24T00:00:00Z')]\n",
      "[('worker', 'http://www.wikidata.org/entity/Q12875593'), ('workerName', 'Despo Diamantidou'), ('deathDate', '2004-02-18T00:00:00Z')]\n",
      "[('worker', 'http://www.wikidata.org/entity/Q706246'), ('workerName', 'Joe Viterelli'), ('deathDate', '2004-01-29T00:00:00Z')]\n",
      "[('worker', 'http://www.wikidata.org/entity/Q706246'), ('workerName', 'Joe Viterelli'), ('deathDate', '2004-01-28T00:00:00Z')]\n",
      "[('worker', 'http://www.wikidata.org/entity/Q7509236'), ('workerName', 'Sidney Miller'), ('deathDate', '2004-01-10T00:00:00Z'), ('mannerOfDeath', 'natural causes')]\n",
      "[('worker', 'http://www.wikidata.org/entity/Q2830608'), ('workerName', 'Alan Tilvern'), ('deathDate', '2003-12-17T00:00:00Z')]\n",
      "[('worker', 'http://www.wikidata.org/entity/Q5952187'), ('workerName', 'Hy Anzell'), ('deathDate', '2003-08-23T00:00:00Z')]\n",
      "[('worker', 'http://www.wikidata.org/entity/Q3421144'), ('workerName', 'Raymond Serra'), ('deathDate', '2003-06-20T00:00:00Z')]\n",
      "[('worker', 'http://www.wikidata.org/entity/Q329716'), ('workerName', 'Michael Jeter'), ('deathDate', '2003-03-30T00:00:00Z')]\n",
      "[('worker', 'http://www.wikidata.org/entity/Q3547009'), ('workerName', 'Titos Vandis'), ('deathDate', '2003-02-23T00:00:00Z')]\n",
      "[('worker', 'http://www.wikidata.org/entity/Q970227'), ('workerName', 'Mel Bourne'), ('deathDate', '2003-01-14T00:00:00Z')]\n",
      "[('worker', 'http://www.wikidata.org/entity/Q6831891'), ('workerName', 'Michael Kirby'), ('deathDate', '2002-05-25T00:00:00Z')]\n",
      "[('worker', 'http://www.wikidata.org/entity/Q558933'), ('workerName', 'Milton Berle'), ('deathDate', '2002-03-27T00:00:00Z'), ('mannerOfDeath', 'natural causes')]\n",
      "[('worker', 'http://www.wikidata.org/entity/Q212532'), ('workerName', 'Lawrence Tierney'), ('deathDate', '2002-02-26T00:00:00Z'), ('mannerOfDeath', 'natural causes')]\n",
      "[('worker', 'http://www.wikidata.org/entity/Q3445751'), ('workerName', 'Roy Brocksmith'), ('deathDate', '2001-12-16T00:00:00Z'), ('mannerOfDeath', 'natural causes')]\n",
      "[('worker', 'http://www.wikidata.org/entity/Q112973'), ('workerName', 'Sandy Baron'), ('deathDate', '2001-01-21T00:00:00Z')]\n",
      "[('worker', 'http://www.wikidata.org/entity/Q508843'), ('workerName', 'Gwen Verdon'), ('deathDate', '2000-10-18T00:00:00Z'), ('mannerOfDeath', 'natural causes')]\n",
      "[('worker', 'http://www.wikidata.org/entity/Q3130893'), ('workerName', 'Henri Coutet'), ('deathDate', '1999-03-26T00:00:00Z')]\n",
      "[('worker', 'http://www.wikidata.org/entity/Q297142'), ('workerName', 'Joe DiMaggio'), ('deathDate', '1999-03-08T00:00:00Z'), ('mannerOfDeath', 'lung cancer')]\n",
      "[('worker', 'http://www.wikidata.org/entity/Q3047178'), ('workerName', 'Ed Herlihy'), ('deathDate', '1999-01-30T00:00:00Z')]\n",
      "[('worker', 'http://www.wikidata.org/entity/Q706165'), ('workerName', 'E. G. Marshall'), ('deathDate', '1998-08-24T00:00:00Z'), ('mannerOfDeath', 'natural causes')]\n",
      "[('worker', 'http://www.wikidata.org/entity/Q230084'), ('workerName', \"Maureen O'Sullivan\"), ('deathDate', '1998-06-23T00:00:00Z'), ('mannerOfDeath', 'natural causes')]\n",
      "[('worker', 'http://www.wikidata.org/entity/Q464724'), ('workerName', 'Bella Abzug'), ('deathDate', '1998-03-31T00:00:00Z')]\n",
      "[('worker', 'http://www.wikidata.org/entity/Q502128'), ('workerName', 'J. T. Walsh'), ('deathDate', '1998-02-27T00:00:00Z'), ('mannerOfDeath', 'natural causes')]\n",
      "[('worker', 'http://www.wikidata.org/entity/Q1563838'), ('workerName', 'Emil Sitka'), ('deathDate', '1998-01-16T00:00:00Z'), ('mannerOfDeath', 'natural causes')]\n",
      "[('worker', 'http://www.wikidata.org/entity/Q434502'), ('workerName', 'Mae Questel'), ('deathDate', '1998-01-04T00:00:00Z'), ('mannerOfDeath', 'natural causes')]\n",
      "[('worker', 'http://www.wikidata.org/entity/Q378035'), ('workerName', 'Olga Georges-Picot'), ('deathDate', '1997-06-19T00:00:00Z'), ('mannerOfDeath', 'suicide')]\n",
      "[('worker', 'http://www.wikidata.org/entity/Q940971'), ('workerName', 'Mark Lenard'), ('deathDate', '1996-11-22T00:00:00Z'), ('mannerOfDeath', 'natural causes')]\n",
      "[('worker', 'http://www.wikidata.org/entity/Q116145'), ('workerName', 'Howard Vernon'), ('deathDate', '1996-07-25T00:00:00Z')]\n",
      "[('worker', 'http://www.wikidata.org/entity/Q3023084'), ('workerName', 'Denise Péron'), ('deathDate', '1996-07-19T00:00:00Z')]\n",
      "[('worker', 'http://www.wikidata.org/entity/Q7129208'), ('workerName', 'Pamela Mason'), ('deathDate', '1996-06-29T00:00:00Z')]\n",
      "[('worker', 'http://www.wikidata.org/entity/Q22918911'), ('workerName', 'Ronald Maccone'), ('deathDate', '1996-06-21T00:00:00Z')]\n",
      "[('worker', 'http://www.wikidata.org/entity/Q7288037'), ('workerName', 'Ralph Rosenblum'), ('deathDate', '1995-09-06T00:00:00Z')]\n",
      "[('worker', 'http://www.wikidata.org/entity/Q2895667'), ('workerName', 'Benay Venuta'), ('deathDate', '1995-09-01T00:00:00Z'), ('mannerOfDeath', 'natural causes')]\n",
      "[('worker', 'http://www.wikidata.org/entity/Q3018951'), ('workerName', 'David Warrilow'), ('deathDate', '1995-08-17T00:00:00Z')]\n",
      "[('worker', 'http://www.wikidata.org/entity/Q1472983'), ('workerName', 'Howard Cosell'), ('deathDate', '1995-04-23T00:00:00Z')]\n",
      "[('worker', 'http://www.wikidata.org/entity/Q314914'), ('workerName', 'Donald Pleasence'), ('deathDate', '1995-02-02T00:00:00Z')]\n",
      "[('worker', 'http://www.wikidata.org/entity/Q1928799'), ('workerName', \"Michael O'Donoghue\"), ('deathDate', '1994-11-08T00:00:00Z')]\n",
      "[('worker', 'http://www.wikidata.org/entity/Q3177697'), ('workerName', 'Jessie Keosian'), ('deathDate', '1994-10-26T00:00:00Z')]\n",
      "[('worker', 'http://www.wikidata.org/entity/Q7940612'), ('workerName', 'Jára Kohout'), ('deathDate', '1994-10-23T00:00:00Z')]\n",
      "[('worker', 'http://www.wikidata.org/entity/Q543762'), ('workerName', \"Patrick O'Neal\"), ('deathDate', '1994-09-09T00:00:00Z')]\n",
      "[('worker', 'http://www.wikidata.org/entity/Q3182067'), ('workerName', 'John McLiam'), ('deathDate', '1994-04-16T00:00:00Z'), ('mannerOfDeath', 'natural causes')]\n",
      "[('worker', 'http://www.wikidata.org/entity/Q2063603'), ('workerName', 'Paula Trueman'), ('deathDate', '1994-03-23T00:00:00Z')]\n",
      "[('worker', 'http://www.wikidata.org/entity/Q2063603'), ('workerName', 'Paula Trueman'), ('deathDate', '1994-03-03T00:00:00Z')]\n",
      "[('worker', 'http://www.wikidata.org/entity/Q435669'), ('workerName', 'Janet Margolin'), ('deathDate', '1993-12-17T00:00:00Z'), ('mannerOfDeath', 'natural causes')]\n",
      "[('worker', 'http://www.wikidata.org/entity/Q3573514'), ('workerName', 'Yves Brainville'), ('deathDate', '1993-11-16T00:00:00Z')]\n",
      "[('worker', 'http://www.wikidata.org/entity/Q492169'), ('workerName', 'Richard Jordan'), ('deathDate', '1993-08-30T00:00:00Z'), ('mannerOfDeath', 'natural causes')]\n",
      "[('worker', 'http://www.wikidata.org/entity/Q222833'), ('workerName', 'Fred Gwynne'), ('deathDate', '1993-07-02T00:00:00Z'), ('mannerOfDeath', 'natural causes')]\n",
      "[('worker', 'http://www.wikidata.org/entity/Q728615'), ('workerName', 'Irving Howe'), ('deathDate', '1993-05-05T00:00:00Z')]\n",
      "[('worker', 'http://www.wikidata.org/entity/Q313047'), ('workerName', 'Denholm Elliott'), ('deathDate', '1992-10-06T00:00:00Z'), ('mannerOfDeath', 'natural causes')]\n",
      "[('worker', 'http://www.wikidata.org/entity/Q15451528'), ('workerName', 'Lester Shorr'), ('deathDate', '1992-07-28T00:00:00Z')]\n",
      "[('worker', 'http://www.wikidata.org/entity/Q155423'), ('workerName', 'Néstor Almendros'), ('deathDate', '1992-03-04T00:00:00Z'), ('mannerOfDeath', 'natural causes')]\n",
      "[('worker', 'http://www.wikidata.org/entity/Q239691'), ('workerName', 'Sandy Dennis'), ('deathDate', '1992-03-02T00:00:00Z'), ('mannerOfDeath', 'natural causes')]\n",
      "[('worker', 'http://www.wikidata.org/entity/Q3157830'), ('workerName', 'Jacquelyn Hyde'), ('deathDate', '1992-02-23T00:00:00Z')]\n",
      "[('worker', 'http://www.wikidata.org/entity/Q4865863'), ('workerName', 'Baruch Lumet'), ('deathDate', '1992-02-08T00:00:00Z')]\n",
      "[('worker', 'http://www.wikidata.org/entity/Q312098'), ('workerName', 'José Ferrer'), ('deathDate', '1992-01-26T00:00:00Z'), ('mannerOfDeath', 'natural causes')]\n",
      "[('worker', 'http://www.wikidata.org/entity/Q282693'), ('workerName', 'Tutte Lemkow'), ('deathDate', '1991-11-10T00:00:00Z')]\n",
      "[('worker', 'http://www.wikidata.org/entity/Q253916'), ('workerName', 'Colleen Dewhurst'), ('deathDate', '1991-08-22T00:00:00Z'), ('mannerOfDeath', 'natural causes')]\n",
      "[('worker', 'http://www.wikidata.org/entity/Q6381680'), ('workerName', 'Kazuo Yamada'), ('deathDate', '1991-08-13T00:00:00Z')]\n",
      "[('worker', 'http://www.wikidata.org/entity/Q3850129'), ('workerName', 'Martin Rosenblatt'), ('deathDate', '1991-06-21T00:00:00Z')]\n",
      "[('worker', 'http://www.wikidata.org/entity/Q16571179'), ('workerName', 'Leib Lensky'), ('deathDate', '1991-05-02T00:00:00Z')]\n",
      "[('worker', 'http://www.wikidata.org/entity/Q658614'), ('workerName', 'Carmine Coppola'), ('deathDate', '1991-04-26T00:00:00Z')]\n",
      "[('worker', 'http://www.wikidata.org/entity/Q5042394'), ('workerName', 'Carlos Montalbán'), ('deathDate', '1991-03-28T00:00:00Z')]\n",
      "[('worker', 'http://www.wikidata.org/entity/Q1399654'), ('workerName', 'Red Grange'), ('deathDate', '1991-01-28T00:00:00Z'), ('mannerOfDeath', 'natural causes')]\n",
      "[('worker', 'http://www.wikidata.org/entity/Q609316'), ('workerName', 'Keye Luke'), ('deathDate', '1991-01-12T00:00:00Z'), ('mannerOfDeath', 'natural causes')]\n",
      "[('worker', 'http://www.wikidata.org/entity/Q822235'), ('workerName', 'Bernard Addison'), ('deathDate', '1990-12-18T00:00:00Z')]\n",
      "[('worker', 'http://www.wikidata.org/entity/Q297816'), ('workerName', 'Sammy Davis Jr.'), ('deathDate', '1990-05-16T00:00:00Z'), ('mannerOfDeath', 'natural causes')]\n",
      "[('worker', 'http://www.wikidata.org/entity/Q3426166'), ('workerName', 'René Enríquez'), ('deathDate', '1990-03-23T00:00:00Z'), ('mannerOfDeath', 'natural causes')]\n",
      "[('worker', 'http://www.wikidata.org/entity/Q84386'), ('workerName', 'Bruno Bettelheim'), ('deathDate', '1990-03-13T00:00:00Z'), ('mannerOfDeath', 'suicide')]\n",
      "[('worker', 'http://www.wikidata.org/entity/Q55234'), ('workerName', 'Michael Powell'), ('deathDate', '1990-02-19T00:00:00Z'), ('mannerOfDeath', 'natural causes')]\n",
      "[('worker', 'http://www.wikidata.org/entity/Q347711'), ('workerName', 'Anthony Quayle'), ('deathDate', '1989-10-20T00:00:00Z'), ('mannerOfDeath', 'natural causes')]\n",
      "[('worker', 'http://www.wikidata.org/entity/Q266789'), ('workerName', 'Rebecca Schaeffer'), ('deathDate', '1989-07-18T00:00:00Z'), ('mannerOfDeath', 'homicide')]\n",
      "[('worker', 'http://www.wikidata.org/entity/Q312878'), ('workerName', 'John Carradine'), ('deathDate', '1988-11-27T00:00:00Z'), ('mannerOfDeath', 'natural causes')]\n",
      "[('worker', 'http://www.wikidata.org/entity/Q315734'), ('workerName', 'John Houseman'), ('deathDate', '1988-10-31T00:00:00Z'), ('mannerOfDeath', 'natural causes')]\n",
      "[('worker', 'http://www.wikidata.org/entity/Q3144873'), ('workerName', 'Hélène Vallier'), ('deathDate', '1988-08-01T00:00:00Z'), ('mannerOfDeath', 'natural causes')]\n",
      "[('worker', 'http://www.wikidata.org/entity/Q5360298'), ('workerName', 'Eli Mintz'), ('deathDate', '1988-06-08T00:00:00Z')]\n",
      "[('worker', 'http://www.wikidata.org/entity/Q3123799'), ('workerName', 'Gérard Buhr'), ('deathDate', '1988-01-08T00:00:00Z')]\n",
      "[('worker', 'http://www.wikidata.org/entity/Q16237120'), ('workerName', 'Marcel Hillaire'), ('deathDate', '1988-01-01T00:00:00Z')]\n",
      "[('worker', 'http://www.wikidata.org/entity/Q3072202'), ('workerName', 'Filomena Spagnuolo'), ('deathDate', '1987-12-30T00:00:00Z')]\n",
      "[('worker', 'http://www.wikidata.org/entity/Q75866'), ('workerName', 'Rudolf Hess'), ('deathDate', '1987-08-17T00:00:00Z'), ('mannerOfDeath', 'suicide')]\n",
      "[('worker', 'http://www.wikidata.org/entity/Q3072202'), ('workerName', 'Filomena Spagnuolo'), ('deathDate', '1987-07-30T00:00:00Z')]\n",
      "[('worker', 'http://www.wikidata.org/entity/Q228650'), ('workerName', 'Geraldine Page'), ('deathDate', '1987-06-13T00:00:00Z'), ('mannerOfDeath', 'natural causes')]\n",
      "[('worker', 'http://www.wikidata.org/entity/Q15051786'), ('workerName', 'Bartlett Robinson'), ('deathDate', '1986-03-26T00:00:00Z')]\n",
      "[('worker', 'http://www.wikidata.org/entity/Q3130905'), ('workerName', 'Henri Czarniak'), ('deathDate', '1986-03-02T00:00:00Z')]\n",
      "[('worker', 'http://www.wikidata.org/entity/Q280666'), ('workerName', 'Lloyd Nolan'), ('deathDate', '1985-09-27T00:00:00Z'), ('mannerOfDeath', 'natural causes')]\n",
      "[('worker', 'http://www.wikidata.org/entity/Q4025032'), ('workerName', 'Zvee Scooler'), ('deathDate', '1985-03-25T00:00:00Z')]\n",
      "[('worker', 'http://www.wikidata.org/entity/Q60835052'), ('workerName', 'Jacques Maury'), ('deathDate', '1985-03-20T00:00:00Z')]\n",
      "[('worker', 'http://www.wikidata.org/entity/Q134180'), ('workerName', 'Truman Capote'), ('deathDate', '1984-08-25T00:00:00Z'), ('mannerOfDeath', 'natural causes')]\n",
      "[('worker', 'http://www.wikidata.org/entity/Q3157124'), ('workerName', 'Jack Barry'), ('deathDate', '1984-05-04T00:00:00Z'), ('mannerOfDeath', 'natural causes')]\n",
      "[('worker', 'http://www.wikidata.org/entity/Q3157124'), ('workerName', 'Jack Barry'), ('deathDate', '1984-05-02T00:00:00Z'), ('mannerOfDeath', 'natural causes')]\n",
      "[('worker', 'http://www.wikidata.org/entity/Q346309'), ('workerName', 'Ada Smith'), ('deathDate', '1984-02-01T00:00:00Z')]\n",
      "[('worker', 'http://www.wikidata.org/entity/Q129876'), ('workerName', 'Edmond Ardisson'), ('deathDate', '1983-11-30T00:00:00Z')]\n",
      "[('worker', 'http://www.wikidata.org/entity/Q124057'), ('workerName', 'Dolores del Río'), ('deathDate', '1983-04-11T00:00:00Z'), ('mannerOfDeath', 'natural causes')]\n",
      "[('worker', 'http://www.wikidata.org/entity/Q3265100'), ('workerName', 'Luce Fabiole'), ('deathDate', '1982-05-05T00:00:00Z')]\n",
      "[('worker', 'http://www.wikidata.org/entity/Q1521771'), ('workerName', 'Ghislain Cloquet'), ('deathDate', '1981-11-02T00:00:00Z')]\n",
      "[('worker', 'http://www.wikidata.org/entity/Q687997'), ('workerName', 'Dale Hennesy'), ('deathDate', '1981-07-20T00:00:00Z')]\n",
      "[('worker', 'http://www.wikidata.org/entity/Q193871'), ('workerName', 'Marshall McLuhan'), ('deathDate', '1980-12-31T00:00:00Z')]\n",
      "[('worker', 'http://www.wikidata.org/entity/Q607089'), ('workerName', 'Roy Engel'), ('deathDate', '1980-12-29T00:00:00Z'), ('mannerOfDeath', 'natural causes')]\n",
      "[('worker', 'http://www.wikidata.org/entity/Q607089'), ('workerName', 'Roy Engel'), ('deathDate', '1980-09-29T00:00:00Z'), ('mannerOfDeath', 'natural causes')]\n",
      "[('worker', 'http://www.wikidata.org/entity/Q3930385'), ('workerName', 'Rashel Novikoff'), ('deathDate', '1980-03-28T00:00:00Z')]\n",
      "[('worker', 'http://www.wikidata.org/entity/Q452624'), ('workerName', 'Laurie Bird'), ('deathDate', '1979-06-15T00:00:00Z'), ('mannerOfDeath', 'suicide')]\n",
      "[('worker', 'http://www.wikidata.org/entity/Q3102157'), ('workerName', 'Georges Adet'), ('deathDate', '1979-03-11T00:00:00Z')]\n",
      "[('worker', 'http://www.wikidata.org/entity/Q882'), ('workerName', 'Charlie Chaplin'), ('deathDate', '1977-12-25T00:00:00Z'), ('mannerOfDeath', 'natural causes')]\n",
      "[('worker', 'http://www.wikidata.org/entity/Q7599424'), ('workerName', 'Stanley Adams'), ('deathDate', '1977-04-27T00:00:00Z'), ('mannerOfDeath', 'suicide')]\n",
      "[('worker', 'http://www.wikidata.org/entity/Q151972'), ('workerName', 'Josephine Baker'), ('deathDate', '1975-04-12T00:00:00Z'), ('mannerOfDeath', 'natural causes')]\n",
      "[('worker', 'http://www.wikidata.org/entity/Q1618'), ('workerName', 'Charles Lindbergh'), ('deathDate', '1974-08-26T00:00:00Z'), ('mannerOfDeath', 'natural causes')]\n",
      "[('worker', 'http://www.wikidata.org/entity/Q7964730'), ('workerName', 'Walter E. Rollins'), ('deathDate', '1973-01-01T00:00:00Z')]\n",
      "[('worker', 'http://www.wikidata.org/entity/Q339669'), ('workerName', 'Claire Windsor'), ('deathDate', '1972-10-24T00:00:00Z'), ('mannerOfDeath', 'natural causes')]\n",
      "[('worker', 'http://www.wikidata.org/entity/Q339669'), ('workerName', 'Claire Windsor'), ('deathDate', '1972-10-23T00:00:00Z'), ('mannerOfDeath', 'natural causes')]\n",
      "[('worker', 'http://www.wikidata.org/entity/Q1043679'), ('workerName', 'Carmen Lombardo'), ('deathDate', '1971-04-17T00:00:00Z'), ('mannerOfDeath', 'natural causes')]\n",
      "[('worker', 'http://www.wikidata.org/entity/Q6137080'), ('workerName', 'James Anderson'), ('deathDate', '1969-09-14T00:00:00Z'), ('mannerOfDeath', 'natural causes')]\n",
      "[('worker', 'http://www.wikidata.org/entity/Q966018'), ('workerName', 'Frank Loesser'), ('deathDate', '1969-07-28T00:00:00Z'), ('mannerOfDeath', 'natural causes')]\n",
      "[('worker', 'http://www.wikidata.org/entity/Q966018'), ('workerName', 'Frank Loesser'), ('deathDate', '1969-07-26T00:00:00Z'), ('mannerOfDeath', 'natural causes')]\n",
      "[('worker', 'http://www.wikidata.org/entity/Q57175'), ('workerName', 'Sepp Dietrich'), ('deathDate', '1966-04-22T00:00:00Z'), ('mannerOfDeath', 'natural causes')]\n",
      "[('worker', 'http://www.wikidata.org/entity/Q57175'), ('workerName', 'Sepp Dietrich'), ('deathDate', '1966-04-21T00:00:00Z'), ('mannerOfDeath', 'natural causes')]\n",
      "[('worker', 'http://www.wikidata.org/entity/Q215120'), ('workerName', 'Cole Porter'), ('deathDate', '1964-10-15T00:00:00Z'), ('mannerOfDeath', 'natural causes')]\n",
      "[('worker', 'http://www.wikidata.org/entity/Q358379'), ('workerName', 'Adolphe Menjou'), ('deathDate', '1963-10-29T00:00:00Z'), ('mannerOfDeath', 'natural causes')]\n",
      "[('worker', 'http://www.wikidata.org/entity/Q242416'), ('workerName', 'Marion Davies'), ('deathDate', '1961-09-22T00:00:00Z'), ('mannerOfDeath', 'natural causes')]\n",
      "[('worker', 'http://www.wikidata.org/entity/Q2392687'), ('workerName', \"Mike O'Dowd\"), ('deathDate', '1957-07-28T00:00:00Z')]\n",
      "[('worker', 'http://www.wikidata.org/entity/Q60131'), ('workerName', 'Max Amann'), ('deathDate', '1957-03-31T00:00:00Z')]\n",
      "[('worker', 'http://www.wikidata.org/entity/Q60131'), ('workerName', 'Max Amann'), ('deathDate', '1957-03-30T00:00:00Z')]\n",
      "[('worker', 'http://www.wikidata.org/entity/Q49481'), ('workerName', 'Sergei Prokofiev'), ('deathDate', '1953-03-05T00:00:00Z')]\n",
      "[('worker', 'http://www.wikidata.org/entity/Q294931'), ('workerName', 'William Randolph Hearst'), ('deathDate', '1951-08-14T00:00:00Z'), ('mannerOfDeath', 'natural causes')]\n",
      "[('worker', 'http://www.wikidata.org/entity/Q153358'), ('workerName', 'Fanny Brice'), ('deathDate', '1951-05-29T00:00:00Z'), ('mannerOfDeath', 'natural causes')]\n",
      "[('worker', 'http://www.wikidata.org/entity/Q55004'), ('workerName', 'Kurt Weill'), ('deathDate', '1950-04-03T00:00:00Z'), ('mannerOfDeath', 'natural causes')]\n",
      "[('worker', 'http://www.wikidata.org/entity/Q213812'), ('workerName', 'Babe Ruth'), ('deathDate', '1948-08-16T00:00:00Z'), ('mannerOfDeath', 'natural causes')]\n",
      "[('worker', 'http://www.wikidata.org/entity/Q80048'), ('workerName', 'Al Capone'), ('deathDate', '1947-01-25T00:00:00Z'), ('mannerOfDeath', 'natural causes')]\n",
      "[('worker', 'http://www.wikidata.org/entity/Q47906'), ('workerName', 'Hermann Göring'), ('deathDate', '1946-10-15T00:00:00Z'), ('mannerOfDeath', 'suicide')]\n",
      "[('worker', 'http://www.wikidata.org/entity/Q42511'), ('workerName', 'H. G. Wells'), ('deathDate', '1946-08-13T00:00:00Z'), ('mannerOfDeath', 'natural causes')]\n",
      "[('worker', 'http://www.wikidata.org/entity/Q41749'), ('workerName', 'Joseph Goebbels'), ('deathDate', '1945-05-01T00:00:00Z'), ('mannerOfDeath', 'suicide')]\n",
      "[('worker', 'http://www.wikidata.org/entity/Q352'), ('workerName', 'Adolf Hitler'), ('deathDate', '1945-04-30T00:00:00Z'), ('mannerOfDeath', 'suicide')]\n",
      "[('worker', 'http://www.wikidata.org/entity/Q207739'), ('workerName', 'Carole Lombard'), ('deathDate', '1942-01-16T00:00:00Z'), ('mannerOfDeath', 'accident')]\n",
      "[('worker', 'http://www.wikidata.org/entity/Q93354'), ('workerName', 'F. Scott Fitzgerald'), ('deathDate', '1940-12-21T00:00:00Z'), ('mannerOfDeath', 'natural causes')]\n",
      "[('worker', 'http://www.wikidata.org/entity/Q345468'), ('workerName', 'Tom Mix'), ('deathDate', '1940-10-12T00:00:00Z'), ('mannerOfDeath', 'accident')]\n",
      "[('worker', 'http://www.wikidata.org/entity/Q123829'), ('workerName', 'George Gershwin'), ('deathDate', '1937-07-11T00:00:00Z'), ('mannerOfDeath', 'natural causes')]\n",
      "[('worker', 'http://www.wikidata.org/entity/Q253282'), ('workerName', 'Marie Dressler'), ('deathDate', '1934-07-28T00:00:00Z'), ('mannerOfDeath', 'natural causes')]\n",
      "[('worker', 'http://www.wikidata.org/entity/Q36023'), ('workerName', 'Calvin Coolidge'), ('deathDate', '1933-01-05T00:00:00Z'), ('mannerOfDeath', 'natural causes')]\n",
      "[('worker', 'http://www.wikidata.org/entity/Q7304'), ('workerName', 'Gustav Mahler'), ('deathDate', '1911-05-18T00:00:00Z'), ('mannerOfDeath', 'natural causes')]\n",
      "[('worker', 'http://www.wikidata.org/entity/Q80621'), ('workerName', 'Edvard Grieg'), ('deathDate', '1907-09-04T00:00:00Z'), ('mannerOfDeath', 'natural causes')]\n",
      "[('worker', 'http://www.wikidata.org/entity/Q2846583'), ('workerName', 'Sir Andrew Clark, 1st Baronet'), ('deathDate', '1893-11-06T00:00:00Z')]\n",
      "[('worker', 'http://www.wikidata.org/entity/Q991'), ('workerName', 'Fyodor Dostoyevsky'), ('deathDate', '1881-02-09T00:00:00Z')]\n",
      "[('worker', 'http://www.wikidata.org/entity/Q56158'), ('workerName', 'Georges Bizet'), ('deathDate', '1875-06-03T00:00:00Z'), ('mannerOfDeath', 'natural causes')]\n",
      "[('worker', 'http://www.wikidata.org/entity/Q46096'), ('workerName', 'Felix Mendelssohn'), ('deathDate', '1847-11-04T00:00:00Z'), ('mannerOfDeath', 'natural causes')]\n",
      "[('worker', 'http://www.wikidata.org/entity/Q7312'), ('workerName', 'Franz Schubert'), ('deathDate', '1828-11-19T00:00:00Z'), ('mannerOfDeath', 'natural causes')]\n",
      "[('worker', 'http://www.wikidata.org/entity/Q1339'), ('workerName', 'Johann Sebastian Bach'), ('deathDate', '1750-07-28T00:00:00Z'), ('mannerOfDeath', 'natural causes')]\n"
     ]
    },
    {
     "data": {
      "text/plain": [
       "286"
      ]
     },
     "execution_count": 33,
     "metadata": {},
     "output_type": "execute_result"
    }
   ],
   "source": [
    "queryString = \"\"\"\n",
    "select distinct ?worker ?workerName ?deathDate ?mannerOfDeath where {\n",
    "    values ?director {wd:Q25089 wd:Q3772}\n",
    "\n",
    "    ?film wdt:P31 wd:Q11424 ;\n",
    "          wdt:P57 ?director ;\n",
    "          ?p ?worker .\n",
    "    ?worker wdt:P31 wd:Q5 ;\n",
    "            wdt:P570 ?deathDate .\n",
    "    \n",
    "    optional {\n",
    "        ?worker wdt:P1196 ?mannerOfDeathE .\n",
    "        ?mannerOfDeathE <http://schema.org/name> ?mannerOfDeath .\n",
    "    }\n",
    "        \n",
    "    ?director <http://schema.org/name> ?directorName .\n",
    "    ?worker <http://schema.org/name> ?workerName .\n",
    "    \n",
    "    filter(?p not in (wdt:P674, wdt:P453, wdt:P2354, wdt:P859, wdt:P136, wdt:P825, wdt:P155)) .\n",
    "} order by desc(?deathDate)\n",
    "\"\"\"\n",
    "\n",
    "print(\"Results\")\n",
    "run_query(queryString)"
   ]
  },
  {
   "cell_type": "markdown",
   "id": "060ee785-b7ca-4d6e-a811-442dd3014cde",
   "metadata": {},
   "source": [
    "### What is the film with most death actors?"
   ]
  },
  {
   "cell_type": "code",
   "execution_count": 34,
   "id": "f6eb6d1a-5f7b-4562-91b1-6dead5c1bb71",
   "metadata": {},
   "outputs": [
    {
     "name": "stdout",
     "output_type": "stream",
     "text": [
      "Results\n",
      "[('filmName', 'Zelig'), ('directorName', 'Woody Allen'), ('numDeads', '33')]\n"
     ]
    },
    {
     "data": {
      "text/plain": [
       "1"
      ]
     },
     "execution_count": 34,
     "metadata": {},
     "output_type": "execute_result"
    }
   ],
   "source": [
    "queryString = \"\"\"\n",
    "select distinct ?filmName ?directorName (count(distinct ?actor) as ?numDeads) where {\n",
    "    values ?director {wd:Q25089 wd:Q3772}\n",
    "\n",
    "    ?film wdt:P31 wd:Q11424 ;\n",
    "          wdt:P57 ?director ;\n",
    "          wdt:P161 ?actor .\n",
    "    ?actor wdt:P31 wd:Q5 ;\n",
    "           wdt:P570 ?deathDate .\n",
    "        \n",
    "    ?director <http://schema.org/name> ?directorName .\n",
    "    ?film <http://schema.org/name> ?filmName .\n",
    "} group by ?filmName ?directorName\n",
    "order by desc(?numDeads)\n",
    "limit 1\n",
    "\"\"\"\n",
    "\n",
    "print(\"Results\")\n",
    "run_query(queryString)"
   ]
  },
  {
   "cell_type": "markdown",
   "id": "11bf095e-8c21-4480-a7b8-735ba025ceba",
   "metadata": {},
   "source": [
    "### What is the average age of the alive workers for the two directors?"
   ]
  },
  {
   "cell_type": "code",
   "execution_count": 35,
   "id": "7d264885-f82e-4f7b-ab4c-3d2b802613fe",
   "metadata": {},
   "outputs": [
    {
     "name": "stdout",
     "output_type": "stream",
     "text": [
      "Results\n",
      "[('directorName', 'Quentin Tarantino'), ('avgAge', '57.396464646464646')]\n",
      "[('directorName', 'Woody Allen'), ('avgAge', '67.927484333034915')]\n"
     ]
    },
    {
     "data": {
      "text/plain": [
       "2"
      ]
     },
     "execution_count": 35,
     "metadata": {},
     "output_type": "execute_result"
    }
   ],
   "source": [
    "queryString = \"\"\"\n",
    "select ?directorName (avg(?workerAge) as ?avgAge) where {\n",
    "    values ?director {wd:Q25089 wd:Q3772}\n",
    "\n",
    "    ?film wdt:P31 wd:Q11424 ;\n",
    "          wdt:P57 ?director ;\n",
    "          ?p ?worker .\n",
    "    ?worker wdt:P31 wd:Q5 ;\n",
    "            wdt:P569 ?birthDate .\n",
    "    \n",
    "    bind(year(now()) - year(?birthDate) as ?workerAge) .\n",
    "    \n",
    "    ?director <http://schema.org/name> ?directorName .\n",
    "    \n",
    "    filter not exists { ?worker wdt:P570 ?deathDate } .\n",
    "    filter(?p not in (wdt:P674, wdt:P453, wdt:P2354, wdt:P859, wdt:P136, wdt:P825, wdt:P155)) .\n",
    "} group by ?directorName\n",
    "\"\"\"\n",
    "\n",
    "print(\"Results\")\n",
    "run_query(queryString)"
   ]
  },
  {
   "cell_type": "markdown",
   "id": "7f0d0eaa-8092-4ce7-a3f9-2cb08f24adc0",
   "metadata": {},
   "source": [
    "### Which are the oldest alive workers? (first five)"
   ]
  },
  {
   "cell_type": "code",
   "execution_count": 36,
   "id": "12b9aee7-0356-46d8-806f-c793e2c0257d",
   "metadata": {},
   "outputs": [
    {
     "name": "stdout",
     "output_type": "stream",
     "text": [
      "Results\n",
      "[('directorName', 'Woody Allen'), ('worker', 'http://www.wikidata.org/entity/Q5998104'), ('workerName', 'Maricel Álvarez'), ('workerAge', '121')]\n",
      "[('directorName', 'Woody Allen'), ('worker', 'http://www.wikidata.org/entity/Q22563868'), ('workerName', 'Sam Gray'), ('workerAge', '99')]\n",
      "[('directorName', 'Woody Allen'), ('worker', 'http://www.wikidata.org/entity/Q5498657'), ('workerName', 'Frederick Rolf'), ('workerAge', '96')]\n",
      "[('directorName', 'Woody Allen'), ('worker', 'http://www.wikidata.org/entity/Q1209703'), ('workerName', 'Dick Hyman'), ('workerAge', '95')]\n",
      "[('directorName', 'Quentin Tarantino'), ('worker', 'http://www.wikidata.org/entity/Q943390'), ('workerName', 'Clu Gulager'), ('workerAge', '94')]\n"
     ]
    },
    {
     "data": {
      "text/plain": [
       "5"
      ]
     },
     "execution_count": 36,
     "metadata": {},
     "output_type": "execute_result"
    }
   ],
   "source": [
    "queryString = \"\"\"\n",
    "select distinct ?directorName ?worker ?workerName ?workerAge where {\n",
    "    values ?director {wd:Q25089 wd:Q3772}\n",
    "\n",
    "    ?film wdt:P31 wd:Q11424 ;\n",
    "          wdt:P57 ?director ;\n",
    "          ?p ?worker .\n",
    "    ?worker wdt:P31 wd:Q5 ;\n",
    "            wdt:P569 ?birthDate .\n",
    "    \n",
    "    bind(year(now()) - year(?birthDate) as ?workerAge) .\n",
    "    \n",
    "    ?director <http://schema.org/name> ?directorName .\n",
    "    ?worker <http://schema.org/name> ?workerName .\n",
    "    \n",
    "    filter not exists { ?worker wdt:P570 ?deathDate } .\n",
    "    filter(?p not in (wdt:P674, wdt:P453, wdt:P2354, wdt:P859, wdt:P136, wdt:P825, wdt:P155)) .\n",
    "} order by desc(?workerAge)\n",
    "limit 5\n",
    "\"\"\"\n",
    "\n",
    "print(\"Results\")\n",
    "run_query(queryString)"
   ]
  },
  {
   "cell_type": "markdown",
   "id": "993430c3-5fdd-499c-808c-bcf3daa9a15f",
   "metadata": {},
   "source": [
    "### Country of birth of the actors"
   ]
  },
  {
   "cell_type": "markdown",
   "id": "ed0bd5db-1616-476c-ba4d-bc96000c18db",
   "metadata": {},
   "source": [
    "**P19** is the property for birth place. Let's see the birth places for some actors."
   ]
  },
  {
   "cell_type": "code",
   "execution_count": 37,
   "id": "e2d2ccb3-81a0-4c3f-9d2a-b4325ef3ee87",
   "metadata": {},
   "outputs": [
    {
     "name": "stdout",
     "output_type": "stream",
     "text": [
      "Results\n",
      "[('actor', 'http://www.wikidata.org/entity/Q2915471'), ('actorName', 'Deborah Rush'), ('birthPlace', 'http://www.wikidata.org/entity/Q3017853'), ('birthPlaceName', 'Chatham Borough')]\n",
      "[('actor', 'http://www.wikidata.org/entity/Q3547009'), ('actorName', 'Titos Vandis'), ('birthPlace', 'http://www.wikidata.org/entity/Q17780761'), ('birthPlaceName', 'Neo Faliro')]\n",
      "[('actor', 'http://www.wikidata.org/entity/Q185724'), ('actorName', 'Mike Myers'), ('birthPlace', 'http://www.wikidata.org/entity/Q1025401'), ('birthPlaceName', 'Scarborough')]\n",
      "[('actor', 'http://www.wikidata.org/entity/Q21500776'), ('actorName', 'John Sehil'), ('birthPlace', 'http://www.wikidata.org/entity/Q132790'), ('birthPlaceName', 'Biarritz')]\n",
      "[('actor', 'http://www.wikidata.org/entity/Q1985488'), ('actorName', 'Nick Offerman'), ('birthPlace', 'http://www.wikidata.org/entity/Q40345'), ('birthPlaceName', 'Joliet')]\n"
     ]
    },
    {
     "data": {
      "text/plain": [
       "5"
      ]
     },
     "execution_count": 37,
     "metadata": {},
     "output_type": "execute_result"
    }
   ],
   "source": [
    "queryString = \"\"\"\n",
    "select distinct ?actor ?actorName ?birthPlace ?birthPlaceName where {\n",
    "    values ?director {wd:Q25089 wd:Q3772}\n",
    "\n",
    "    ?film wdt:P31 wd:Q11424 ;\n",
    "          wdt:P57 ?director ;\n",
    "          wdt:P161 ?actor .\n",
    "    ?actor wdt:P31 wd:Q5 ;\n",
    "           wdt:P19 ?birthPlace .\n",
    "        \n",
    "    ?birthPlace <http://schema.org/name> ?birthPlaceName .\n",
    "    ?actor <http://schema.org/name> ?actorName .\n",
    "} limit 5\n",
    "\"\"\"\n",
    "\n",
    "print(\"Results\")\n",
    "run_query(queryString)"
   ]
  },
  {
   "cell_type": "markdown",
   "id": "edc44aff-bf4c-4db5-ad9d-825563ae21e0",
   "metadata": {},
   "source": [
    "Let's see the properties for Scarborough to find the property for country."
   ]
  },
  {
   "cell_type": "code",
   "execution_count": 38,
   "id": "83a5fd4e-8f69-45ea-8586-79e5ecb7cabc",
   "metadata": {},
   "outputs": [
    {
     "name": "stdout",
     "output_type": "stream",
     "text": [
      "Results\n",
      "[('p', 'http://www.wikidata.org/prop/direct/P31'), ('pName', 'instance of'), ('o', 'http://www.wikidata.org/entity/Q4286337'), ('oName', 'city district')]\n",
      "[('p', 'http://www.wikidata.org/prop/direct/P17'), ('pName', 'country'), ('o', 'http://www.wikidata.org/entity/Q16'), ('oName', 'Canada')]\n",
      "[('p', 'http://www.wikidata.org/prop/direct/P131'), ('pName', 'located in the administrative territorial entity'), ('o', 'http://www.wikidata.org/entity/Q172'), ('oName', 'Toronto')]\n",
      "[('p', 'http://www.wikidata.org/prop/direct/P361'), ('pName', 'part of'), ('o', 'http://www.wikidata.org/entity/Q172'), ('oName', 'Toronto')]\n",
      "[('p', 'http://www.wikidata.org/prop/direct/P421'), ('pName', 'located in time zone'), ('o', 'http://www.wikidata.org/entity/Q941023'), ('oName', 'Eastern Time Zone')]\n",
      "[('p', 'http://www.wikidata.org/prop/direct/P131'), ('pName', 'located in the administrative territorial entity'), ('o', 'http://www.wikidata.org/entity/Q1904'), ('oName', 'Ontario')]\n",
      "[('p', 'http://www.wikidata.org/prop/direct/P190'), ('pName', 'twinned administrative body'), ('o', 'http://www.wikidata.org/entity/Q42651'), ('oName', 'Wuxi')]\n",
      "[('p', 'http://www.wikidata.org/prop/direct/P190'), ('pName', 'twinned administrative body'), ('o', 'http://www.wikidata.org/entity/Q209779'), ('oName', 'Sagamihara')]\n",
      "[('p', 'http://www.wikidata.org/prop/direct/P910'), ('pName', \"topic's main category\"), ('o', 'http://www.wikidata.org/entity/Q8706837'), ('oName', 'Category:Scarborough, Toronto')]\n",
      "[('p', 'http://www.wikidata.org/prop/direct/P1792'), ('pName', 'category of associated people'), ('o', 'http://www.wikidata.org/entity/Q8072982'), ('oName', 'Category:People from Scarborough, Toronto')]\n",
      "[('p', 'http://www.wikidata.org/prop/direct/P163'), ('pName', 'flag'), ('o', 'http://www.wikidata.org/entity/Q5456821'), ('oName', 'flag of Scarborough, Ontario')]\n",
      "[('p', 'http://www.wikidata.org/prop/direct/P7867'), ('pName', 'category for maps'), ('o', 'http://www.wikidata.org/entity/Q84119255'), ('oName', 'Category:Maps of Scarborough, Ontario')]\n",
      "[('p', 'http://www.wikidata.org/prop/direct/P1082'), ('pName', 'population'), ('o', '632098')]\n",
      "[('p', 'http://www.wikidata.org/prop/direct/P1417'), ('pName', 'Encyclopædia Britannica Online ID'), ('o', 'place/Scarborough-Ontario')]\n",
      "[('p', 'http://www.wikidata.org/prop/direct/P1464'), ('pName', 'category for people born here'), ('o', 'http://www.wikidata.org/entity/Q18665384')]\n",
      "[('p', 'http://www.wikidata.org/prop/direct/P1566'), ('pName', 'GeoNames ID'), ('o', '6948711')]\n",
      "[('p', 'http://www.wikidata.org/prop/direct/P18'), ('pName', 'image'), ('o', 'http://commons.wikimedia.org/wiki/Special:FilePath/Scarborough%20City%20Centre.JPG')]\n",
      "[('p', 'http://www.wikidata.org/prop/direct/P2046'), ('pName', 'area'), ('o', '187.7')]\n",
      "[('p', 'http://www.wikidata.org/prop/direct/P214'), ('pName', 'VIAF ID'), ('o', '146598398')]\n",
      "[('p', 'http://www.wikidata.org/prop/direct/P242'), ('pName', 'locator map image'), ('o', 'http://commons.wikimedia.org/wiki/Special:FilePath/Scarborough%20locator.png')]\n",
      "[('p', 'http://www.wikidata.org/prop/direct/P3417'), ('pName', 'Quora topic ID'), ('o', 'Scarborough-ON-1')]\n",
      "[('p', 'http://www.wikidata.org/prop/direct/P373'), ('pName', 'Commons category'), ('o', 'Scarborough, Ontario')]\n",
      "[('p', 'http://www.wikidata.org/prop/direct/P3984'), ('pName', 'subreddit'), ('o', 'Scarborough')]\n",
      "[('p', 'http://www.wikidata.org/prop/direct/P402'), ('pName', 'OpenStreetMap relation ID'), ('o', '2520672')]\n",
      "[('p', 'http://www.wikidata.org/prop/direct/P41'), ('pName', 'flag image'), ('o', 'http://commons.wikimedia.org/wiki/Special:FilePath/Flag%20of%20Scarborough%2C%20Ontario.svg')]\n",
      "[('p', 'http://www.wikidata.org/prop/direct/P5573'), ('pName', 'archINFORM location ID'), ('o', '1214')]\n",
      "[('p', 'http://www.wikidata.org/prop/direct/P571'), ('pName', 'inception'), ('o', '1850-01-01T00:00:00Z')]\n",
      "[('p', 'http://www.wikidata.org/prop/direct/P646'), ('pName', 'Freebase ID'), ('o', '/m/01t3h6')]\n",
      "[('p', 'http://www.wikidata.org/prop/direct/P691'), ('pName', 'NKCR AUT ID'), ('o', 'ge1089696')]\n",
      "[('p', 'http://www.wikidata.org/prop/direct/P7859'), ('pName', 'WorldCat Identities ID'), ('o', 'lccn-n82024444')]\n",
      "[('p', 'http://www.wikidata.org/prop/direct/P948'), ('pName', 'page banner'), ('o', 'http://commons.wikimedia.org/wiki/Special:FilePath/Toronto%20Zoo%20Wikivoyage%20banner.jpg')]\n",
      "[('p', 'http://www.wikidata.org/prop/direct/P982'), ('pName', 'MusicBrainz area ID'), ('o', '7c68161e-e9fc-4766-b636-7da86aafc5ce')]\n"
     ]
    },
    {
     "data": {
      "text/plain": [
       "32"
      ]
     },
     "execution_count": 38,
     "metadata": {},
     "output_type": "execute_result"
    }
   ],
   "source": [
    "queryString = \"\"\"\n",
    "select distinct ?p ?pName ?o ?oName where {\n",
    "    wd:Q1025401 ?p ?o .\n",
    "        \n",
    "    ?p <http://schema.org/name> ?pName .\n",
    "    optional { ?o <http://schema.org/name> ?oName . }\n",
    "}\n",
    "\"\"\"\n",
    "\n",
    "print(\"Results\")\n",
    "run_query(queryString)"
   ]
  },
  {
   "cell_type": "markdown",
   "id": "20a2d303-1570-4f31-a265-c11f5ace29cb",
   "metadata": {},
   "source": [
    "**P17** is the property of country. The BGP for country of birth is:\n",
    "\n",
    "```\n",
    "?human P19/P17 ?birthCountry \n",
    "```"
   ]
  },
  {
   "cell_type": "code",
   "execution_count": 39,
   "id": "2ef93df2-4051-4dca-bb93-45f2ced3131e",
   "metadata": {},
   "outputs": [
    {
     "name": "stdout",
     "output_type": "stream",
     "text": [
      "Results\n",
      "[('actor', 'http://www.wikidata.org/entity/Q448005'), ('actorName', 'David Ortiz'), ('birthPlace', 'http://www.wikidata.org/entity/Q786'), ('birthPlaceName', 'Dominican Republic')]\n",
      "[('actor', 'http://www.wikidata.org/entity/Q3292235'), ('actorName', 'Marie-Sohna Condé'), ('birthPlace', 'http://www.wikidata.org/entity/Q1008'), ('birthPlaceName', 'Ivory Coast')]\n",
      "[('actor', 'http://www.wikidata.org/entity/Q318991'), ('actorName', 'Gad Elmaleh'), ('birthPlace', 'http://www.wikidata.org/entity/Q1028'), ('birthPlaceName', 'Morocco')]\n",
      "[('actor', 'http://www.wikidata.org/entity/Q19629645'), ('actorName', 'Sammi Rotibi'), ('birthPlace', 'http://www.wikidata.org/entity/Q1033'), ('birthPlaceName', 'Nigeria')]\n",
      "[('actor', 'http://www.wikidata.org/entity/Q1986254'), ('actorName', 'Sonia Rolland'), ('birthPlace', 'http://www.wikidata.org/entity/Q1037'), ('birthPlaceName', 'Rwanda')]\n"
     ]
    },
    {
     "data": {
      "text/plain": [
       "5"
      ]
     },
     "execution_count": 39,
     "metadata": {},
     "output_type": "execute_result"
    }
   ],
   "source": [
    "queryString = \"\"\"\n",
    "select distinct ?actor ?actorName ?birthPlace ?birthPlaceName where {\n",
    "    values ?director {wd:Q25089 wd:Q3772}\n",
    "\n",
    "    ?film wdt:P31 wd:Q11424 ;\n",
    "          wdt:P57 ?director ;\n",
    "          wdt:P161 ?actor .\n",
    "    ?actor wdt:P31 wd:Q5 ;\n",
    "           wdt:P19/wdt:P17 ?birthPlace .\n",
    "        \n",
    "    ?birthPlace <http://schema.org/name> ?birthPlaceName .\n",
    "    ?actor <http://schema.org/name> ?actorName .\n",
    "} limit 5\n",
    "\"\"\"\n",
    "\n",
    "print(\"Results\")\n",
    "run_query(queryString)"
   ]
  },
  {
   "cell_type": "code",
   "execution_count": 40,
   "id": "b54cfcff-d175-4fb2-a2c3-ff2376773f62",
   "metadata": {},
   "outputs": [
    {
     "name": "stdout",
     "output_type": "stream",
     "text": [
      "Results\n",
      "[('directorName', 'Quentin Tarantino'), ('birthPlace', 'http://www.wikidata.org/entity/Q30'), ('birthPlaceName', 'United States of America'), ('numActors', '175')]\n",
      "[('directorName', 'Quentin Tarantino'), ('birthPlace', 'http://www.wikidata.org/entity/Q183'), ('birthPlaceName', 'Germany'), ('numActors', '25')]\n",
      "[('directorName', 'Quentin Tarantino'), ('birthPlace', 'http://www.wikidata.org/entity/Q145'), ('birthPlaceName', 'United Kingdom'), ('numActors', '7')]\n",
      "[('directorName', 'Quentin Tarantino'), ('birthPlace', 'http://www.wikidata.org/entity/Q17'), ('birthPlaceName', 'Japan'), ('numActors', '7')]\n",
      "[('directorName', 'Quentin Tarantino'), ('birthPlace', 'http://www.wikidata.org/entity/Q142'), ('birthPlaceName', 'France'), ('numActors', '5')]\n",
      "[('directorName', 'Quentin Tarantino'), ('birthPlace', 'http://www.wikidata.org/entity/Q408'), ('birthPlaceName', 'Australia'), ('numActors', '4')]\n",
      "[('directorName', 'Quentin Tarantino'), ('birthPlace', 'http://www.wikidata.org/entity/Q38'), ('birthPlaceName', 'Italy'), ('numActors', '3')]\n",
      "[('directorName', 'Quentin Tarantino'), ('birthPlace', 'http://www.wikidata.org/entity/Q39'), ('birthPlaceName', 'Switzerland'), ('numActors', '2')]\n",
      "[('directorName', 'Quentin Tarantino'), ('birthPlace', 'http://www.wikidata.org/entity/Q16'), ('birthPlaceName', 'Canada'), ('numActors', '2')]\n",
      "[('directorName', 'Quentin Tarantino'), ('birthPlace', 'http://www.wikidata.org/entity/Q804'), ('birthPlaceName', 'Panama'), ('numActors', '1')]\n",
      "[('directorName', 'Quentin Tarantino'), ('birthPlace', 'http://www.wikidata.org/entity/Q766'), ('birthPlaceName', 'Jamaica'), ('numActors', '1')]\n",
      "[('directorName', 'Quentin Tarantino'), ('birthPlace', 'http://www.wikidata.org/entity/Q801'), ('birthPlaceName', 'Israel'), ('numActors', '1')]\n",
      "[('directorName', 'Quentin Tarantino'), ('birthPlace', 'http://www.wikidata.org/entity/Q965'), ('birthPlaceName', 'Burkina Faso'), ('numActors', '1')]\n",
      "[('directorName', 'Quentin Tarantino'), ('birthPlace', 'http://www.wikidata.org/entity/Q16957'), ('birthPlaceName', 'German Democratic Republic'), ('numActors', '1')]\n",
      "[('directorName', 'Quentin Tarantino'), ('birthPlace', 'http://www.wikidata.org/entity/Q36'), ('birthPlaceName', 'Poland'), ('numActors', '1')]\n",
      "[('directorName', 'Quentin Tarantino'), ('birthPlace', 'http://www.wikidata.org/entity/Q45'), ('birthPlaceName', 'Portugal'), ('numActors', '1')]\n",
      "[('directorName', 'Quentin Tarantino'), ('birthPlace', 'http://www.wikidata.org/entity/Q155'), ('birthPlaceName', 'Brazil'), ('numActors', '1')]\n",
      "[('directorName', 'Quentin Tarantino'), ('birthPlace', 'http://www.wikidata.org/entity/Q664'), ('birthPlaceName', 'New Zealand'), ('numActors', '1')]\n",
      "[('directorName', 'Quentin Tarantino'), ('birthPlace', 'http://www.wikidata.org/entity/Q298'), ('birthPlaceName', 'Chile'), ('numActors', '1')]\n",
      "[('directorName', 'Quentin Tarantino'), ('birthPlace', 'http://www.wikidata.org/entity/Q55'), ('birthPlaceName', 'Netherlands'), ('numActors', '1')]\n",
      "[('directorName', 'Quentin Tarantino'), ('birthPlace', 'http://www.wikidata.org/entity/Q1033'), ('birthPlaceName', 'Nigeria'), ('numActors', '1')]\n",
      "[('directorName', 'Quentin Tarantino'), ('birthPlace', 'http://www.wikidata.org/entity/Q29'), ('birthPlaceName', 'Spain'), ('numActors', '1')]\n",
      "[('directorName', 'Quentin Tarantino'), ('birthPlace', 'http://www.wikidata.org/entity/Q34'), ('birthPlaceName', 'Sweden'), ('numActors', '1')]\n",
      "[('directorName', 'Quentin Tarantino'), ('birthPlace', 'http://www.wikidata.org/entity/Q148'), ('birthPlaceName', \"People's Republic of China\"), ('numActors', '1')]\n",
      "[('directorName', 'Quentin Tarantino'), ('birthPlace', 'http://www.wikidata.org/entity/Q27'), ('birthPlaceName', 'Ireland'), ('numActors', '1')]\n",
      "[('directorName', 'Quentin Tarantino'), ('birthPlace', 'http://www.wikidata.org/entity/Q96'), ('birthPlaceName', 'Mexico'), ('numActors', '1')]\n",
      "[('directorName', 'Quentin Tarantino'), ('birthPlace', 'http://www.wikidata.org/entity/Q40'), ('birthPlaceName', 'Austria'), ('numActors', '1')]\n",
      "[('directorName', 'Woody Allen'), ('birthPlace', 'http://www.wikidata.org/entity/Q30'), ('birthPlaceName', 'United States of America'), ('numActors', '507')]\n",
      "[('directorName', 'Woody Allen'), ('birthPlace', 'http://www.wikidata.org/entity/Q145'), ('birthPlaceName', 'United Kingdom'), ('numActors', '123')]\n",
      "[('directorName', 'Woody Allen'), ('birthPlace', 'http://www.wikidata.org/entity/Q38'), ('birthPlaceName', 'Italy'), ('numActors', '40')]\n",
      "[('directorName', 'Woody Allen'), ('birthPlace', 'http://www.wikidata.org/entity/Q142'), ('birthPlaceName', 'France'), ('numActors', '32')]\n",
      "[('directorName', 'Woody Allen'), ('birthPlace', 'http://www.wikidata.org/entity/Q16'), ('birthPlaceName', 'Canada'), ('numActors', '27')]\n",
      "[('directorName', 'Woody Allen'), ('birthPlace', 'http://www.wikidata.org/entity/Q183'), ('birthPlaceName', 'Germany'), ('numActors', '17')]\n",
      "[('directorName', 'Woody Allen'), ('birthPlace', 'http://www.wikidata.org/entity/Q29'), ('birthPlaceName', 'Spain'), ('numActors', '9')]\n",
      "[('directorName', 'Woody Allen'), ('birthPlace', 'http://www.wikidata.org/entity/Q408'), ('birthPlaceName', 'Australia'), ('numActors', '9')]\n",
      "[('directorName', 'Woody Allen'), ('birthPlace', 'http://www.wikidata.org/entity/Q96'), ('birthPlaceName', 'Mexico'), ('numActors', '5')]\n",
      "[('directorName', 'Woody Allen'), ('birthPlace', 'http://www.wikidata.org/entity/Q27'), ('birthPlaceName', 'Ireland'), ('numActors', '4')]\n",
      "[('directorName', 'Woody Allen'), ('birthPlace', 'http://www.wikidata.org/entity/Q148'), ('birthPlaceName', \"People's Republic of China\"), ('numActors', '4')]\n",
      "[('directorName', 'Woody Allen'), ('birthPlace', 'http://www.wikidata.org/entity/Q36'), ('birthPlaceName', 'Poland'), ('numActors', '4')]\n",
      "[('directorName', 'Woody Allen'), ('birthPlace', 'http://www.wikidata.org/entity/Q31'), ('birthPlaceName', 'Belgium'), ('numActors', '4')]\n",
      "[('directorName', 'Woody Allen'), ('birthPlace', 'http://www.wikidata.org/entity/Q668'), ('birthPlaceName', 'India'), ('numActors', '3')]\n",
      "[('directorName', 'Woody Allen'), ('birthPlace', 'http://www.wikidata.org/entity/Q17'), ('birthPlaceName', 'Japan'), ('numActors', '3')]\n",
      "[('directorName', 'Woody Allen'), ('birthPlace', 'http://www.wikidata.org/entity/Q40'), ('birthPlaceName', 'Austria'), ('numActors', '3')]\n",
      "[('directorName', 'Woody Allen'), ('birthPlace', 'http://www.wikidata.org/entity/Q218'), ('birthPlaceName', 'Romania'), ('numActors', '2')]\n",
      "[('directorName', 'Woody Allen'), ('birthPlace', 'http://www.wikidata.org/entity/Q754'), ('birthPlaceName', 'Trinidad and Tobago'), ('numActors', '2')]\n",
      "[('directorName', 'Woody Allen'), ('birthPlace', 'http://www.wikidata.org/entity/Q55'), ('birthPlaceName', 'Netherlands'), ('numActors', '2')]\n",
      "[('directorName', 'Woody Allen'), ('birthPlace', 'http://www.wikidata.org/entity/Q39'), ('birthPlaceName', 'Switzerland'), ('numActors', '2')]\n",
      "[('directorName', 'Woody Allen'), ('birthPlace', 'http://www.wikidata.org/entity/Q34'), ('birthPlaceName', 'Sweden'), ('numActors', '2')]\n",
      "[('directorName', 'Woody Allen'), ('birthPlace', 'http://www.wikidata.org/entity/Q41'), ('birthPlaceName', 'Greece'), ('numActors', '2')]\n",
      "[('directorName', 'Woody Allen'), ('birthPlace', 'http://www.wikidata.org/entity/Q28'), ('birthPlaceName', 'Hungary'), ('numActors', '2')]\n",
      "[('directorName', 'Woody Allen'), ('birthPlace', 'http://www.wikidata.org/entity/Q414'), ('birthPlaceName', 'Argentina'), ('numActors', '2')]\n",
      "[('directorName', 'Woody Allen'), ('birthPlace', 'http://www.wikidata.org/entity/Q117'), ('birthPlaceName', 'Ghana'), ('numActors', '1')]\n",
      "[('directorName', 'Woody Allen'), ('birthPlace', 'http://www.wikidata.org/entity/Q786'), ('birthPlaceName', 'Dominican Republic'), ('numActors', '1')]\n",
      "[('directorName', 'Woody Allen'), ('birthPlace', 'http://www.wikidata.org/entity/Q801'), ('birthPlaceName', 'Israel'), ('numActors', '1')]\n",
      "[('directorName', 'Woody Allen'), ('birthPlace', 'http://www.wikidata.org/entity/Q664'), ('birthPlaceName', 'New Zealand'), ('numActors', '1')]\n",
      "[('directorName', 'Woody Allen'), ('birthPlace', 'http://www.wikidata.org/entity/Q213'), ('birthPlaceName', 'Czech Republic'), ('numActors', '1')]\n",
      "[('directorName', 'Woody Allen'), ('birthPlace', 'http://www.wikidata.org/entity/Q9676'), ('birthPlaceName', 'Isle of Man'), ('numActors', '1')]\n",
      "[('directorName', 'Woody Allen'), ('birthPlace', 'http://www.wikidata.org/entity/Q811'), ('birthPlaceName', 'Nicaragua'), ('numActors', '1')]\n",
      "[('directorName', 'Woody Allen'), ('birthPlace', 'http://www.wikidata.org/entity/Q212'), ('birthPlaceName', 'Ukraine'), ('numActors', '1')]\n",
      "[('directorName', 'Woody Allen'), ('birthPlace', 'http://www.wikidata.org/entity/Q159'), ('birthPlaceName', 'Russia'), ('numActors', '1')]\n",
      "[('directorName', 'Woody Allen'), ('birthPlace', 'http://www.wikidata.org/entity/Q1008'), ('birthPlaceName', 'Ivory Coast'), ('numActors', '1')]\n",
      "[('directorName', 'Woody Allen'), ('birthPlace', 'http://www.wikidata.org/entity/Q1037'), ('birthPlaceName', 'Rwanda'), ('numActors', '1')]\n",
      "[('directorName', 'Woody Allen'), ('birthPlace', 'http://www.wikidata.org/entity/Q1183'), ('birthPlaceName', 'Puerto Rico'), ('numActors', '1')]\n",
      "[('directorName', 'Woody Allen'), ('birthPlace', 'http://www.wikidata.org/entity/Q1028'), ('birthPlaceName', 'Morocco'), ('numActors', '1')]\n",
      "[('directorName', 'Woody Allen'), ('birthPlace', 'http://www.wikidata.org/entity/Q79'), ('birthPlaceName', 'Egypt'), ('numActors', '1')]\n",
      "[('directorName', 'Woody Allen'), ('birthPlace', 'http://www.wikidata.org/entity/Q258'), ('birthPlaceName', 'South Africa'), ('numActors', '1')]\n",
      "[('directorName', 'Woody Allen'), ('birthPlace', 'http://www.wikidata.org/entity/Q785'), ('birthPlaceName', 'Jersey'), ('numActors', '1')]\n",
      "[('directorName', 'Woody Allen'), ('birthPlace', 'http://www.wikidata.org/entity/Q20'), ('birthPlaceName', 'Norway'), ('numActors', '1')]\n"
     ]
    },
    {
     "data": {
      "text/plain": [
       "68"
      ]
     },
     "execution_count": 40,
     "metadata": {},
     "output_type": "execute_result"
    }
   ],
   "source": [
    "queryString = \"\"\"\n",
    "select distinct ?directorName ?birthPlace ?birthPlaceName (count(distinct ?actor) as ?numActors) where {\n",
    "    values ?director {wd:Q25089 wd:Q3772}\n",
    "\n",
    "    ?film wdt:P31 wd:Q11424 ;\n",
    "          wdt:P57 ?director ;\n",
    "          wdt:P161 ?actor .\n",
    "    ?actor wdt:P31 wd:Q5 ;\n",
    "           wdt:P19/wdt:P17 ?birthPlace .\n",
    "        \n",
    "    ?birthPlace <http://schema.org/name> ?birthPlaceName .\n",
    "    ?actor <http://schema.org/name> ?actorName .\n",
    "    ?director <http://schema.org/name> ?directorName .\n",
    "} group by ?directorName ?birthPlace ?birthPlaceName\n",
    "order by asc(?directorName) desc(?numActors)\n",
    "\"\"\"\n",
    "\n",
    "print(\"Results\")\n",
    "run_query(queryString)"
   ]
  },
  {
   "cell_type": "markdown",
   "id": "7158d3b5-1998-4fee-b9e7-24a2831aeae0",
   "metadata": {},
   "source": [
    "## Task 6. Is the maximum budget for a Tarantino's movie higher of the max budget of an Allen's movie?"
   ]
  },
  {
   "cell_type": "markdown",
   "id": "2ae8c607-aa30-4a15-a7bd-7aff8e359d97",
   "metadata": {},
   "source": [
    "Get the properties for films which contains \"cost\" or \"budget\"."
   ]
  },
  {
   "cell_type": "code",
   "execution_count": 41,
   "id": "8ef217ae-f754-43d7-beb2-e72ae8e015a7",
   "metadata": {},
   "outputs": [
    {
     "name": "stdout",
     "output_type": "stream",
     "text": [
      "Results\n",
      "[('p', 'http://www.wikidata.org/prop/direct/P2130'), ('pName', 'cost')]\n",
      "[('p', 'http://www.wikidata.org/prop/direct/P2515'), ('pName', 'costume designer')]\n",
      "[('p', 'http://www.wikidata.org/prop/direct/P2769'), ('pName', 'budget')]\n"
     ]
    },
    {
     "data": {
      "text/plain": [
       "3"
      ]
     },
     "execution_count": 41,
     "metadata": {},
     "output_type": "execute_result"
    }
   ],
   "source": [
    "queryString = \"\"\"\n",
    "select distinct ?p ?pName where { \n",
    "    ?film wdt:P31 wd:Q11424 ;\n",
    "          ?p ?o .\n",
    "    \n",
    "    ?p <http://schema.org/name> ?pName .\n",
    "    filter regex(?pName, \"cost|budget\", \"i\") .\n",
    "}\n",
    "\"\"\"\n",
    "\n",
    "print(\"Results\")\n",
    "run_query(queryString)"
   ]
  },
  {
   "cell_type": "markdown",
   "id": "aa816a8e-a882-4701-a658-e0d41bbdd774",
   "metadata": {},
   "source": [
    "The property cost is **P2130**. The property budget is **P2769**."
   ]
  },
  {
   "cell_type": "code",
   "execution_count": 42,
   "id": "2f254d22-4cc6-4ea5-b767-64cfee72db5c",
   "metadata": {},
   "outputs": [
    {
     "name": "stdout",
     "output_type": "stream",
     "text": [
      "Results\n",
      "[('filmName', 'The Hateful Eight'), ('cost', '44000000'), ('directorName', 'Quentin Tarantino')]\n",
      "[('filmName', 'Pulp Fiction'), ('cost', '8000000'), ('directorName', 'Quentin Tarantino')]\n",
      "[('filmName', 'Midnight in Paris'), ('cost', '17000000'), ('directorName', 'Woody Allen')]\n",
      "[('filmName', 'Match Point'), ('cost', '15000000'), ('directorName', 'Woody Allen')]\n",
      "[('filmName', 'Bananas'), ('cost', '2000000'), ('directorName', 'Woody Allen')]\n",
      "[('filmName', 'You Will Meet a Tall Dark Stranger'), ('cost', '22000000'), ('directorName', 'Woody Allen')]\n",
      "[('filmName', 'Sin City'), ('cost', '40000000'), ('directorName', 'Quentin Tarantino')]\n",
      "[('filmName', 'Kill Bill Volume 1'), ('cost', '30000000'), ('directorName', 'Quentin Tarantino')]\n",
      "[('filmName', 'Anything Else'), ('cost', '18000000'), ('directorName', 'Woody Allen')]\n",
      "[('filmName', 'Jackie Brown'), ('cost', '12000000'), ('directorName', 'Quentin Tarantino')]\n",
      "[('filmName', 'Inglourious Basterds'), ('cost', '70000000'), ('directorName', 'Quentin Tarantino')]\n",
      "[('filmName', 'scoop'), ('cost', '4000000'), ('directorName', 'Woody Allen')]\n",
      "[('filmName', 'Kill Bill Volume 2'), ('cost', '30000000'), ('directorName', 'Quentin Tarantino')]\n",
      "[('filmName', 'Manhattan Murder Mystery'), ('cost', '13500000'), ('directorName', 'Woody Allen')]\n",
      "[('filmName', 'Django Unchained'), ('cost', '100000000'), ('directorName', 'Quentin Tarantino')]\n",
      "[('filmName', 'Blue Jasmine'), ('cost', '18000000'), ('directorName', 'Woody Allen')]\n",
      "[('filmName', \"Cassandra's Dream\"), ('cost', '13000000'), ('directorName', 'Woody Allen')]\n",
      "[('filmName', 'Whatever Works'), ('cost', '15000000'), ('directorName', 'Woody Allen')]\n",
      "[('filmName', 'To Rome with Love'), ('cost', '17000000'), ('directorName', 'Woody Allen')]\n",
      "[('filmName', 'Vicky Cristina Barcelona'), ('cost', '15500000'), ('directorName', 'Woody Allen')]\n",
      "[('filmName', 'Annie Hall'), ('cost', '4000000'), ('directorName', 'Woody Allen')]\n",
      "[('filmName', 'Wonder Wheel'), ('budget', '25000000'), ('directorName', 'Woody Allen')]\n",
      "[('filmName', 'The Concert for New York City'), ('directorName', 'Woody Allen')]\n",
      "[('filmName', 'Alice'), ('directorName', 'Woody Allen')]\n",
      "[('filmName', \"What's Up, Tiger Lily?\"), ('directorName', 'Woody Allen')]\n",
      "[('filmName', 'Death Proof'), ('directorName', 'Quentin Tarantino')]\n",
      "[('filmName', 'Bullets Over Broadway'), ('directorName', 'Woody Allen')]\n",
      "[('filmName', 'Mighty Aphrodite'), ('directorName', 'Woody Allen')]\n",
      "[('filmName', 'Broadway Danny Rose'), ('directorName', 'Woody Allen')]\n",
      "[('filmName', 'Husbands and Wives'), ('directorName', 'Woody Allen')]\n",
      "[('filmName', 'Magic in the Moonlight'), ('directorName', 'Woody Allen')]\n",
      "[('filmName', 'Zelig'), ('directorName', 'Woody Allen')]\n",
      "[('filmName', 'Sweet and Lowdown'), ('directorName', 'Woody Allen')]\n",
      "[('filmName', 'Celebrity'), ('directorName', 'Woody Allen')]\n",
      "[('filmName', 'Love and Death'), ('directorName', 'Woody Allen')]\n",
      "[('filmName', 'Crimes and Misdemeanors'), ('directorName', 'Woody Allen')]\n",
      "[('filmName', 'Reservoir Dogs'), ('directorName', 'Quentin Tarantino')]\n",
      "[('filmName', 'Stardust Memories'), ('directorName', 'Woody Allen')]\n",
      "[('filmName', 'New York Stories'), ('directorName', 'Woody Allen')]\n",
      "[('filmName', \"Rifkin's Festival\"), ('directorName', 'Woody Allen')]\n",
      "[('filmName', 'Sleeper'), ('directorName', 'Woody Allen')]\n",
      "[('filmName', 'Small Time Crooks'), ('directorName', 'Woody Allen')]\n",
      "[('filmName', 'Shadows and Fog'), ('directorName', 'Woody Allen')]\n",
      "[('filmName', 'Take the Money and Run'), ('directorName', 'Woody Allen')]\n",
      "[('filmName', 'Melinda and Melinda'), ('directorName', 'Woody Allen')]\n",
      "[('filmName', 'Once Upon a Time in Hollywood'), ('directorName', 'Quentin Tarantino')]\n",
      "[('filmName', 'Manhattan'), ('directorName', 'Woody Allen')]\n",
      "[('filmName', 'Everything You Always Wanted to Know About Sex*'), ('directorName', 'Woody Allen')]\n",
      "[('filmName', 'The Purple Rose of Cairo'), ('directorName', 'Woody Allen')]\n",
      "[('filmName', 'September'), ('directorName', 'Woody Allen')]\n",
      "[('filmName', 'Irrational Man'), ('directorName', 'Woody Allen')]\n",
      "[('filmName', 'Café Society'), ('directorName', 'Woody Allen')]\n",
      "[('filmName', \"A Midsummer Night's Sex Comedy\"), ('directorName', 'Woody Allen')]\n",
      "[('filmName', 'Another Woman'), ('directorName', 'Woody Allen')]\n",
      "[('filmName', 'Radio Days'), ('directorName', 'Woody Allen')]\n",
      "[('filmName', 'A Rainy Day in New York'), ('directorName', 'Woody Allen')]\n",
      "[('filmName', 'Everyone Says I Love You'), ('directorName', 'Woody Allen')]\n",
      "[('filmName', 'The Curse of the Jade Scorpion'), ('directorName', 'Woody Allen')]\n",
      "[('filmName', 'Deconstructing Harry'), ('directorName', 'Woody Allen')]\n",
      "[('filmName', 'Hollywood Ending'), ('directorName', 'Woody Allen')]\n",
      "[('filmName', 'Hannah and Her Sisters'), ('directorName', 'Woody Allen')]\n",
      "[('filmName', 'Interiors'), ('directorName', 'Woody Allen')]\n",
      "[('filmName', 'Kill Bill: The Whole Bloody Affair'), ('directorName', 'Quentin Tarantino')]\n"
     ]
    },
    {
     "data": {
      "text/plain": [
       "63"
      ]
     },
     "execution_count": 42,
     "metadata": {},
     "output_type": "execute_result"
    }
   ],
   "source": [
    "queryString = \"\"\"\n",
    "select ?filmName ?cost ?budget ?directorName where {\n",
    "    values ?director {wd:Q25089 wd:Q3772}\n",
    "\n",
    "    ?film wdt:P31 wd:Q11424 ;\n",
    "          wdt:P57 ?director .\n",
    "    optional { ?film wdt:P2130 ?cost } .\n",
    "    optional { ?film wdt:P2769 ?budget } .\n",
    "    \n",
    "    ?film <http://schema.org/name> ?filmName .\n",
    "    ?director <http://schema.org/name> ?directorName .\n",
    "}\n",
    "\"\"\"\n",
    "\n",
    "print(\"Results\")\n",
    "run_query(queryString)"
   ]
  },
  {
   "cell_type": "markdown",
   "id": "1a0af30c-60e6-43a2-95a5-21f7e13ce8d9",
   "metadata": {},
   "source": [
    "As we can see, Wonder Wheel by Woody Allen is the only film with the property budget. For this reason, it's impossible comparing the budgets for the two directors's films. So the next query will consider the cost of a film as its maximum budget, so using the property cost instead of budget. However, as showed in the previous query, only some films have the property cost, so the result of the ask query may be incorrect."
   ]
  },
  {
   "cell_type": "code",
   "execution_count": 43,
   "id": "29b1ab4a-433d-43a0-8432-7ddf3f339d0b",
   "metadata": {},
   "outputs": [
    {
     "name": "stdout",
     "output_type": "stream",
     "text": [
      "Results\n"
     ]
    },
    {
     "data": {
      "text/plain": [
       "{'head': {'link': []}, 'boolean': True}"
      ]
     },
     "execution_count": 43,
     "metadata": {},
     "output_type": "execute_result"
    }
   ],
   "source": [
    "queryString = \"\"\"\n",
    "ask where {\n",
    "    {\n",
    "        select (max(?costQuentin) as ?maxCostQuentin) where {\n",
    "            ?film wdt:P31 wd:Q11424 ;\n",
    "                  wdt:P57 wd:Q3772 ;\n",
    "                  wdt:P2130 ?costQuentin .\n",
    "        }\n",
    "    } .\n",
    "    {\n",
    "        select (max(?costWoody) as ?maxCostWoody) where {\n",
    "            ?film wdt:P31 wd:Q11424 ;\n",
    "              wdt:P57 wd:Q25089 ;\n",
    "              wdt:P2130 ?costWoody .\n",
    "        }\n",
    "    } .\n",
    "    filter (?maxCostQuentin > ?maxCostWoody)\n",
    "}\n",
    "\"\"\"\n",
    "\n",
    "print(\"Results\")\n",
    "run_ask_query(queryString)"
   ]
  },
  {
   "cell_type": "markdown",
   "id": "0dc7d9dc-9841-4cd1-ba1c-f0c7e5c60970",
   "metadata": {},
   "source": [
    "## Task 7. Who has films with more nominations for Academy Awards and who won more Academy Awards (with his films not only personal awards)."
   ]
  },
  {
   "cell_type": "markdown",
   "id": "1ecf834d-8885-4245-9834-55d775e8b2ca",
   "metadata": {},
   "source": [
    "First of all, looking at the properties for Woody Allen, I can see that **P1411** is the property for nomination to an award and **P166** is the property for a received award. **Q103360** is the Academy Award for Best Director. Let's see the properties of this entity."
   ]
  },
  {
   "cell_type": "code",
   "execution_count": 44,
   "id": "a78febab-2e28-4431-934e-bcbb9f557990",
   "metadata": {},
   "outputs": [
    {
     "name": "stdout",
     "output_type": "stream",
     "text": [
      "Results\n",
      "[('p', 'http://www.wikidata.org/prop/direct/P31'), ('pName', 'instance of'), ('o', 'http://www.wikidata.org/entity/Q96474679'), ('oName', 'award for best direction')]\n",
      "[('p', 'http://www.wikidata.org/prop/direct/P1346'), ('pName', 'winner'), ('o', 'http://www.wikidata.org/entity/Q160726'), ('oName', 'Ang Lee')]\n",
      "[('p', 'http://www.wikidata.org/prop/direct/P1346'), ('pName', 'winner'), ('o', 'http://www.wikidata.org/entity/Q55215'), ('oName', 'Alejandro González Iñárritu')]\n",
      "[('p', 'http://www.wikidata.org/prop/direct/P361'), ('pName', 'part of'), ('o', 'http://www.wikidata.org/entity/Q19020'), ('oName', 'Academy Awards')]\n",
      "[('p', 'http://www.wikidata.org/prop/direct/P31'), ('pName', 'instance of'), ('o', 'http://www.wikidata.org/entity/Q19020'), ('oName', 'Academy Awards')]\n",
      "[('p', 'http://www.wikidata.org/prop/direct/P17'), ('pName', 'country'), ('o', 'http://www.wikidata.org/entity/Q30'), ('oName', 'United States of America')]\n",
      "[('p', 'http://www.wikidata.org/prop/direct/P1346'), ('pName', 'winner'), ('o', 'http://www.wikidata.org/entity/Q28028'), ('oName', 'Alfonso Cuarón')]\n",
      "[('p', 'http://www.wikidata.org/prop/direct/P1027'), ('pName', 'conferred by'), ('o', 'http://www.wikidata.org/entity/Q212329'), ('oName', 'Academy of Motion Picture Arts and Sciences')]\n",
      "[('p', 'http://www.wikidata.org/prop/direct/P2517'), ('pName', 'category for recipients of this award'), ('o', 'http://www.wikidata.org/entity/Q7146100'), ('oName', 'Category:Best Directing Academy Award winners')]\n",
      "[('p', 'http://www.wikidata.org/prop/direct/P910'), ('pName', \"topic's main category\"), ('o', 'http://www.wikidata.org/entity/Q7146100'), ('oName', 'Category:Best Directing Academy Award winners')]\n",
      "[('p', 'http://www.wikidata.org/prop/direct/P1424'), ('pName', \"topic's main template\"), ('o', 'http://www.wikidata.org/entity/Q6667698'), ('oName', 'Template:Academy Award for Best Director')]\n",
      "[('p', 'http://www.wikidata.org/prop/direct/P1346'), ('pName', 'winner'), ('o', 'http://www.wikidata.org/entity/Q495980'), ('oName', 'Bong Joon-ho')]\n",
      "[('p', 'http://www.wikidata.org/prop/direct/P1417'), ('pName', 'Encyclopædia Britannica Online ID'), ('o', 'topic/Best-Director')]\n",
      "[('p', 'http://www.wikidata.org/prop/direct/P154'), ('pName', 'logo image'), ('o', 'http://commons.wikimedia.org/wiki/Special:FilePath/Oscar-free-version.svg')]\n",
      "[('p', 'http://www.wikidata.org/prop/direct/P1705'), ('pName', 'native label'), ('o', 'Academy Award for Best Director')]\n",
      "[('p', 'http://www.wikidata.org/prop/direct/P2257'), ('pName', 'event interval'), ('o', '1')]\n",
      "[('p', 'http://www.wikidata.org/prop/direct/P373'), ('pName', 'Commons category'), ('o', 'Winners of Academy Award for Best Director')]\n",
      "[('p', 'http://www.wikidata.org/prop/direct/P571'), ('pName', 'inception'), ('o', '1929-01-01T00:00:00Z')]\n",
      "[('p', 'http://www.wikidata.org/prop/direct/P646'), ('pName', 'Freebase ID'), ('o', '/m/0gs9p')]\n",
      "[('p', 'http://www.wikidata.org/prop/direct/P856'), ('pName', 'official website'), ('o', 'https://oscar.go.com/nominees/directing')]\n"
     ]
    },
    {
     "data": {
      "text/plain": [
       "20"
      ]
     },
     "execution_count": 44,
     "metadata": {},
     "output_type": "execute_result"
    }
   ],
   "source": [
    "queryString = \"\"\"\n",
    "select distinct ?p ?pName ?o ?oName where { \n",
    "    wd:Q103360 ?p ?o .\n",
    "    \n",
    "    ?p <http://schema.org/name> ?pName .\n",
    "    optional { ?o <http://schema.org/name> ?oName . }\n",
    "}\n",
    "\"\"\"\n",
    "\n",
    "print(\"Results\")\n",
    "run_query(queryString)"
   ]
  },
  {
   "cell_type": "markdown",
   "id": "d9cc10c3-d0ea-4615-a7b2-2cf8b05718ae",
   "metadata": {},
   "source": [
    "So, **Q19020** is the entity for Academy Awards. The BGP for Academy Awards is\n",
    "\n",
    "```\n",
    "?award wdt:P31? wd:Q19020 .\n",
    "```"
   ]
  },
  {
   "cell_type": "markdown",
   "id": "ef834d9f-ea72-4b39-80bb-530e86d45269",
   "metadata": {},
   "source": [
    "Let's see also the properties for all Academic Awards"
   ]
  },
  {
   "cell_type": "code",
   "execution_count": 45,
   "id": "00bdaec1-5eca-4941-b63c-92d8acafe393",
   "metadata": {},
   "outputs": [
    {
     "name": "stdout",
     "output_type": "stream",
     "text": [
      "Results\n",
      "[('p', 'http://www.wikidata.org/prop/direct/P1407'), ('pName', 'MusicBrainz series ID')]\n",
      "[('p', 'http://www.wikidata.org/prop/direct/P101'), ('pName', 'field of work')]\n",
      "[('p', 'http://www.wikidata.org/prop/direct/P1225'), ('pName', 'U.S. National Archives Identifier')]\n",
      "[('p', 'http://www.wikidata.org/prop/direct/P1296'), ('pName', 'Gran Enciclopèdia Catalana ID')]\n",
      "[('p', 'http://www.wikidata.org/prop/direct/P1343'), ('pName', 'described by source')]\n",
      "[('p', 'http://www.wikidata.org/prop/direct/P1346'), ('pName', 'winner')]\n",
      "[('p', 'http://www.wikidata.org/prop/direct/P138'), ('pName', 'named after')]\n",
      "[('p', 'http://www.wikidata.org/prop/direct/P1417'), ('pName', 'Encyclopædia Britannica Online ID')]\n",
      "[('p', 'http://www.wikidata.org/prop/direct/P1424'), ('pName', \"topic's main template\")]\n",
      "[('p', 'http://www.wikidata.org/prop/direct/P154'), ('pName', 'logo image')]\n",
      "[('p', 'http://www.wikidata.org/prop/direct/P166'), ('pName', 'award received')]\n",
      "[('p', 'http://www.wikidata.org/prop/direct/P17'), ('pName', 'country')]\n",
      "[('p', 'http://www.wikidata.org/prop/direct/P1705'), ('pName', 'native label')]\n",
      "[('p', 'http://www.wikidata.org/prop/direct/P18'), ('pName', 'image')]\n",
      "[('p', 'http://www.wikidata.org/prop/direct/P1889'), ('pName', 'different from')]\n",
      "[('p', 'http://www.wikidata.org/prop/direct/P2002'), ('pName', 'Twitter username')]\n",
      "[('p', 'http://www.wikidata.org/prop/direct/P2003'), ('pName', 'Instagram username')]\n",
      "[('p', 'http://www.wikidata.org/prop/direct/P2013'), ('pName', 'Facebook ID')]\n",
      "[('p', 'http://www.wikidata.org/prop/direct/P2163'), ('pName', 'FAST ID')]\n",
      "[('p', 'http://www.wikidata.org/prop/direct/P2257'), ('pName', 'event interval')]\n",
      "[('p', 'http://www.wikidata.org/prop/direct/P227'), ('pName', 'GND ID')]\n",
      "[('p', 'http://www.wikidata.org/prop/direct/P2397'), ('pName', 'YouTube channel ID')]\n",
      "[('p', 'http://www.wikidata.org/prop/direct/P244'), ('pName', 'Library of Congress authority ID')]\n",
      "[('p', 'http://www.wikidata.org/prop/direct/P2581'), ('pName', 'BabelNet ID')]\n",
      "[('p', 'http://www.wikidata.org/prop/direct/P2671'), ('pName', 'Google Knowledge Graph ID')]\n",
      "[('p', 'http://www.wikidata.org/prop/direct/P268'), ('pName', 'Bibliothèque nationale de France ID')]\n",
      "[('p', 'http://www.wikidata.org/prop/direct/P269'), ('pName', 'IdRef ID')]\n",
      "[('p', 'http://www.wikidata.org/prop/direct/P279'), ('pName', 'subclass of')]\n",
      "[('p', 'http://www.wikidata.org/prop/direct/P2888'), ('pName', 'exact match')]\n",
      "[('p', 'http://www.wikidata.org/prop/direct/P2924'), ('pName', 'Great Russian Encyclopedia Online ID')]\n",
      "[('p', 'http://www.wikidata.org/prop/direct/P31'), ('pName', 'instance of')]\n",
      "[('p', 'http://www.wikidata.org/prop/direct/P3221'), ('pName', 'New York Times topic ID')]\n",
      "[('p', 'http://www.wikidata.org/prop/direct/P3222'), ('pName', 'NE.se ID')]\n",
      "[('p', 'http://www.wikidata.org/prop/direct/P3417'), ('pName', 'Quora topic ID')]\n",
      "[('p', 'http://www.wikidata.org/prop/direct/P345'), ('pName', 'IMDb ID')]\n",
      "[('p', 'http://www.wikidata.org/prop/direct/P3479'), ('pName', 'Omni topic ID')]\n",
      "[('p', 'http://www.wikidata.org/prop/direct/P349'), ('pName', 'National Diet Library ID')]\n",
      "[('p', 'http://www.wikidata.org/prop/direct/P3509'), ('pName', 'Dagens Nyheter topic ID')]\n",
      "[('p', 'http://www.wikidata.org/prop/direct/P3553'), ('pName', 'Zhihu topic ID')]\n",
      "[('p', 'http://www.wikidata.org/prop/direct/P3569'), ('pName', 'Cultureel Woordenboek ID')]\n",
      "[('p', 'http://www.wikidata.org/prop/direct/P361'), ('pName', 'part of')]\n",
      "[('p', 'http://www.wikidata.org/prop/direct/P373'), ('pName', 'Commons category')]\n",
      "[('p', 'http://www.wikidata.org/prop/direct/P3847'), ('pName', 'Open Library subject ID')]\n",
      "[('p', 'http://www.wikidata.org/prop/direct/P4013'), ('pName', 'Giphy username')]\n",
      "[('p', 'http://www.wikidata.org/prop/direct/P4073'), ('pName', 'Fandom wiki ID')]\n",
      "[('p', 'http://www.wikidata.org/prop/direct/P4342'), ('pName', 'Store norske leksikon ID')]\n",
      "[('p', 'http://www.wikidata.org/prop/direct/P4622'), ('pName', 'trophy awarded')]\n",
      "[('p', 'http://www.wikidata.org/prop/direct/P5008'), ('pName', 'on focus list of Wikimedia project')]\n",
      "[('p', 'http://www.wikidata.org/prop/direct/P5019'), ('pName', 'Brockhaus Enzyklopädie online ID')]\n",
      "[('p', 'http://www.wikidata.org/prop/direct/P527'), ('pName', 'has part')]\n",
      "[('p', 'http://www.wikidata.org/prop/direct/P5337'), ('pName', 'Google News topics ID')]\n",
      "[('p', 'http://www.wikidata.org/prop/direct/P571'), ('pName', 'inception')]\n",
      "[('p', 'http://www.wikidata.org/prop/direct/P576'), ('pName', 'dissolved, abolished or demolished date')]\n",
      "[('p', 'http://www.wikidata.org/prop/direct/P580'), ('pName', 'start time')]\n",
      "[('p', 'http://www.wikidata.org/prop/direct/P582'), ('pName', 'end time')]\n",
      "[('p', 'http://www.wikidata.org/prop/direct/P5905'), ('pName', 'Comic Vine ID')]\n",
      "[('p', 'http://www.wikidata.org/prop/direct/P6058'), ('pName', 'Larousse ID')]\n",
      "[('p', 'http://www.wikidata.org/prop/direct/P6081'), ('pName', 'RIA Novosti reference')]\n",
      "[('p', 'http://www.wikidata.org/prop/direct/P6181'), ('pName', 'Disney A to Z ID')]\n",
      "[('p', 'http://www.wikidata.org/prop/direct/P6200'), ('pName', 'BBC News topic ID')]\n",
      "[('p', 'http://www.wikidata.org/prop/direct/P6262'), ('pName', 'Fandom article ID')]\n",
      "[('p', 'http://www.wikidata.org/prop/direct/P646'), ('pName', 'Freebase ID')]\n",
      "[('p', 'http://www.wikidata.org/prop/direct/P691'), ('pName', 'NKCR AUT ID')]\n",
      "[('p', 'http://www.wikidata.org/prop/direct/P7084'), ('pName', 'related category')]\n",
      "[('p', 'http://www.wikidata.org/prop/direct/P7502'), ('pName', 'Golden ID')]\n",
      "[('p', 'http://www.wikidata.org/prop/direct/P7775'), ('pName', 'RationalWiki ID')]\n",
      "[('p', 'http://www.wikidata.org/prop/direct/P7982'), ('pName', 'Hrvatska enciklopedija ID')]\n",
      "[('p', 'http://www.wikidata.org/prop/direct/P8349'), ('pName', 'Proleksis enciklopedija ID')]\n",
      "[('p', 'http://www.wikidata.org/prop/direct/P8408'), ('pName', 'KBpedia ID')]\n",
      "[('p', 'http://www.wikidata.org/prop/direct/P856'), ('pName', 'official website')]\n",
      "[('p', 'http://www.wikidata.org/prop/direct/P8687'), ('pName', 'social media followers')]\n",
      "[('p', 'http://www.wikidata.org/prop/direct/P8814'), ('pName', 'WordNet 3.1 Synset ID')]\n",
      "[('p', 'http://www.wikidata.org/prop/direct/P910'), ('pName', \"topic's main category\")]\n",
      "[('p', 'http://www.wikidata.org/prop/direct/P9100'), ('pName', 'GitHub topic')]\n",
      "[('p', 'http://www.wikidata.org/prop/direct/P9318'), ('pName', 'Ávvir topic ID')]\n",
      "[('p', 'http://www.wikidata.org/prop/direct/P935'), ('pName', 'Commons gallery')]\n",
      "[('p', 'http://www.wikidata.org/prop/direct/P9629'), ('pName', 'Armeniapedia ID')]\n",
      "[('p', 'http://www.wikidata.org/prop/direct/P1027'), ('pName', 'conferred by')]\n",
      "[('p', 'http://www.wikidata.org/prop/direct/P2517'), ('pName', 'category for recipients of this award')]\n",
      "[('p', 'http://www.wikidata.org/prop/direct/P9084'), ('pName', 'ABC News topic ID')]\n",
      "[('p', 'http://www.wikidata.org/prop/direct/P8295'), ('pName', 'AustLit ID')]\n",
      "[('p', 'http://www.wikidata.org/prop/direct/P8115'), ('pName', 'eligible recipient')]\n"
     ]
    },
    {
     "data": {
      "text/plain": [
       "82"
      ]
     },
     "execution_count": 45,
     "metadata": {},
     "output_type": "execute_result"
    }
   ],
   "source": [
    "queryString = \"\"\"\n",
    "select distinct ?p ?pName where {\n",
    "    ?award wdt:P31? wd:Q19020 ;\n",
    "           ?p ?o.\n",
    "    \n",
    "    ?p <http://schema.org/name> ?pName .\n",
    "}\n",
    "\"\"\"\n",
    "\n",
    "print(\"Results\")\n",
    "run_query(queryString)"
   ]
  },
  {
   "cell_type": "markdown",
   "id": "3c588203-2b38-404f-b7de-de36bd1a6feb",
   "metadata": {},
   "source": [
    "Academy Awards Allen winned or has been nominated to."
   ]
  },
  {
   "cell_type": "code",
   "execution_count": 46,
   "id": "a5e1b35b-8701-4faf-92ba-f90ea96797af",
   "metadata": {},
   "outputs": [
    {
     "name": "stdout",
     "output_type": "stream",
     "text": [
      "Results\n",
      "[('award', 'http://www.wikidata.org/entity/Q103360'), ('pName', 'nominated for'), ('awardName', 'Academy Award for Best Director')]\n",
      "[('award', 'http://www.wikidata.org/entity/Q103360'), ('pName', 'award received'), ('awardName', 'Academy Award for Best Director')]\n",
      "[('award', 'http://www.wikidata.org/entity/Q41417'), ('pName', 'nominated for'), ('awardName', 'Academy Award for Best Writing, Original Screenplay')]\n",
      "[('award', 'http://www.wikidata.org/entity/Q41417'), ('pName', 'award received'), ('awardName', 'Academy Award for Best Writing, Original Screenplay')]\n",
      "[('award', 'http://www.wikidata.org/entity/Q103916'), ('pName', 'nominated for'), ('awardName', 'Academy Award for Best Actor')]\n"
     ]
    },
    {
     "data": {
      "text/plain": [
       "5"
      ]
     },
     "execution_count": 46,
     "metadata": {},
     "output_type": "execute_result"
    }
   ],
   "source": [
    "queryString = \"\"\"\n",
    "select distinct ?award ?pName ?awardName where {\n",
    "    wd:Q25089 ?p ?award .\n",
    "    ?award wdt:P31? wd:Q19020 .\n",
    "    \n",
    "    ?award <http://schema.org/name> ?awardName .\n",
    "    ?p <http://schema.org/name> ?pName .\n",
    "} order by ?winnedAward\n",
    "\"\"\"\n",
    "\n",
    "print(\"Results\")\n",
    "run_query(queryString)"
   ]
  },
  {
   "cell_type": "markdown",
   "id": "1a9c7f7e-8eb9-49fe-9f19-a0aa3320bca6",
   "metadata": {},
   "source": [
    "The nominations for each director, both personal and for films directed are:"
   ]
  },
  {
   "cell_type": "code",
   "execution_count": 47,
   "id": "36795aaa-8d86-4a64-ac4c-11f40ab11b1a",
   "metadata": {},
   "outputs": [
    {
     "name": "stdout",
     "output_type": "stream",
     "text": [
      "Results\n",
      "[('director', 'http://www.wikidata.org/entity/Q3772'), ('directorName', 'Quentin Tarantino'), ('numAwards', '26')]\n",
      "[('director', 'http://www.wikidata.org/entity/Q25089'), ('directorName', 'Woody Allen'), ('numAwards', '55')]\n"
     ]
    },
    {
     "data": {
      "text/plain": [
       "2"
      ]
     },
     "execution_count": 47,
     "metadata": {},
     "output_type": "execute_result"
    }
   ],
   "source": [
    "queryString = \"\"\"\n",
    "# Don't use distinct because multiple awards with same code would be considered as one\n",
    "\n",
    "select ?director ?directorName (count(?nominationAward) as ?numAwards) where {\n",
    "    {\n",
    "        select  ?nominationAward ?director where {\n",
    "            values ?director {wd:Q25089 wd:Q3772}\n",
    "\n",
    "            ?film wdt:P31 wd:Q11424 ;\n",
    "                  wdt:P57 ?director ;\n",
    "                  wdt:P1411 ?nominationAward .\n",
    "            ?nominationAward wdt:P31? wd:Q19020 .\n",
    "        }\n",
    "    }\n",
    "    union\n",
    "    {\n",
    "        select ?nominationAward ?director where {\n",
    "            values ?director {wd:Q25089 wd:Q3772}\n",
    "\n",
    "            ?director wdt:P1411 ?nominationAward .\n",
    "            ?nominationAward wdt:P31? wd:Q19020 .\n",
    "        }\n",
    "    }\n",
    "    \n",
    "    ?director <http://schema.org/name> ?directorName .\n",
    "} group by ?director ?directorName\n",
    "\"\"\"\n",
    "\n",
    "print(\"Results\")\n",
    "run_query(queryString)"
   ]
  },
  {
   "cell_type": "markdown",
   "id": "7f0204e3-da0b-485b-90c1-3f246f225faf",
   "metadata": {},
   "source": [
    "And of course Woody Allen has directed much more films than Tarantino. We can also consider the average number of nominations for the films of the two directors."
   ]
  },
  {
   "cell_type": "code",
   "execution_count": 48,
   "id": "d675bac7-e5c0-4bac-97e8-af6015ddd060",
   "metadata": {},
   "outputs": [
    {
     "name": "stdout",
     "output_type": "stream",
     "text": [
      "Results\n",
      "[('director', 'http://www.wikidata.org/entity/Q25089'), ('directorName', 'Woody Allen'), ('avgAwards', '2.736842105263158')]\n",
      "[('director', 'http://www.wikidata.org/entity/Q3772'), ('directorName', 'Quentin Tarantino'), ('avgAwards', '4.8')]\n"
     ]
    },
    {
     "data": {
      "text/plain": [
       "2"
      ]
     },
     "execution_count": 48,
     "metadata": {},
     "output_type": "execute_result"
    }
   ],
   "source": [
    "queryString = \"\"\"\n",
    "select ?director ?directorName (avg(?numNominations) as ?avgAwards) where {\n",
    "    {\n",
    "        select ?film ?director (count(?nominationAward) as ?numNominations) where {\n",
    "            values ?director {wd:Q25089 wd:Q3772}\n",
    "\n",
    "            ?film wdt:P31 wd:Q11424 ;\n",
    "                  wdt:P57 ?director ;\n",
    "                  wdt:P1411 ?nominationAward .\n",
    "            ?nominationAward wdt:P31? wd:Q19020 .\n",
    "        } group by ?film ?director\n",
    "    } .\n",
    "    \n",
    "    ?director <http://schema.org/name> ?directorName .\n",
    "} group by ?director ?directorName\n",
    "\"\"\"\n",
    "\n",
    "print(\"Results\")\n",
    "run_query(queryString)"
   ]
  },
  {
   "cell_type": "markdown",
   "id": "813ec3ab-345c-4cdc-bbf8-5b5892acc0c4",
   "metadata": {},
   "source": [
    "The film with more Academic Awards nominations is:"
   ]
  },
  {
   "cell_type": "code",
   "execution_count": 49,
   "id": "632decf4-e04a-4d40-883a-45d03494041b",
   "metadata": {},
   "outputs": [
    {
     "name": "stdout",
     "output_type": "stream",
     "text": [
      "Results\n",
      "[('film', 'http://www.wikidata.org/entity/Q153723'), ('filmName', 'Inglourious Basterds'), ('directorName', 'Quentin Tarantino'), ('numAwards', '8')]\n"
     ]
    },
    {
     "data": {
      "text/plain": [
       "1"
      ]
     },
     "execution_count": 49,
     "metadata": {},
     "output_type": "execute_result"
    }
   ],
   "source": [
    "queryString = \"\"\"\n",
    "select ?film ?filmName ?directorName (count(?nominationAward) as ?numAwards) where {\n",
    "    values ?director {wd:Q25089 wd:Q3772}\n",
    "\n",
    "    ?film wdt:P31 wd:Q11424 ;\n",
    "          wdt:P57 ?director ;\n",
    "          wdt:P1411 ?nominationAward .\n",
    "    ?nominationAward wdt:P31? wd:Q19020 .\n",
    "    \n",
    "    ?director <http://schema.org/name> ?directorName .\n",
    "    ?film <http://schema.org/name> ?filmName .\n",
    "} order by desc(?numAwards)\n",
    "limit 1\n",
    "\"\"\"\n",
    "\n",
    "print(\"Results\")\n",
    "run_query(queryString)"
   ]
  },
  {
   "cell_type": "markdown",
   "id": "bd41fd39-8cfb-4ef6-832d-ce47390eb425",
   "metadata": {},
   "source": [
    "For what concerns winners"
   ]
  },
  {
   "cell_type": "code",
   "execution_count": 50,
   "id": "9a159af4-8f63-44f5-8aa0-7816bab866c3",
   "metadata": {},
   "outputs": [
    {
     "name": "stdout",
     "output_type": "stream",
     "text": [
      "Results\n",
      "[('director', 'http://www.wikidata.org/entity/Q3772'), ('directorName', 'Quentin Tarantino'), ('numAwards', '8')]\n",
      "[('director', 'http://www.wikidata.org/entity/Q25089'), ('directorName', 'Woody Allen'), ('numAwards', '14')]\n"
     ]
    },
    {
     "data": {
      "text/plain": [
       "2"
      ]
     },
     "execution_count": 50,
     "metadata": {},
     "output_type": "execute_result"
    }
   ],
   "source": [
    "queryString = \"\"\"\n",
    "# Don't use distinct because multiple awards with same code would be considered as one\n",
    "\n",
    "select ?director ?directorName (count(?winAward) as ?numAwards) where {\n",
    "    {\n",
    "        select  ?winAward ?director where {\n",
    "            values ?director {wd:Q25089 wd:Q3772}\n",
    "\n",
    "            ?film wdt:P31 wd:Q11424 ;\n",
    "                  wdt:P57 ?director ;\n",
    "                  wdt:P166 ?winAward .\n",
    "            ?winAward wdt:P31? wd:Q19020 .\n",
    "        }\n",
    "    }\n",
    "    union\n",
    "    {\n",
    "        select ?winAward ?director where {\n",
    "            values ?director {wd:Q25089 wd:Q3772}\n",
    "\n",
    "            ?director wdt:P166 ?winAward .\n",
    "            ?winAward wdt:P31? wd:Q19020 .\n",
    "        }\n",
    "    }\n",
    "    \n",
    "    ?director <http://schema.org/name> ?directorName .\n",
    "} group by ?director ?directorName\n",
    "\"\"\"\n",
    "\n",
    "print(\"Results\")\n",
    "run_query(queryString)"
   ]
  },
  {
   "cell_type": "code",
   "execution_count": 51,
   "id": "c910c038-8326-4fc4-8b23-ac15c1447583",
   "metadata": {},
   "outputs": [
    {
     "name": "stdout",
     "output_type": "stream",
     "text": [
      "Results\n",
      "[('director', 'http://www.wikidata.org/entity/Q25089'), ('directorName', 'Woody Allen'), ('avgAwards', '1.714285714285714')]\n",
      "[('director', 'http://www.wikidata.org/entity/Q3772'), ('directorName', 'Quentin Tarantino'), ('avgAwards', '1.4')]\n"
     ]
    },
    {
     "data": {
      "text/plain": [
       "2"
      ]
     },
     "execution_count": 51,
     "metadata": {},
     "output_type": "execute_result"
    }
   ],
   "source": [
    "queryString = \"\"\"\n",
    "select ?director ?directorName (avg(?numWins) as ?avgAwards) where {\n",
    "    {\n",
    "        select ?film ?director (count(?winAward) as ?numWins) where {\n",
    "            values ?director {wd:Q25089 wd:Q3772}\n",
    "\n",
    "            ?film wdt:P31 wd:Q11424 ;\n",
    "                  wdt:P57 ?director ;\n",
    "                  wdt:P166 ?winAward .\n",
    "            ?winAward wdt:P31? wd:Q19020 .\n",
    "        } group by ?film ?director\n",
    "    } .\n",
    "    \n",
    "    ?director <http://schema.org/name> ?directorName .\n",
    "} group by ?director ?directorName\n",
    "\"\"\"\n",
    "\n",
    "print(\"Results\")\n",
    "run_query(queryString)"
   ]
  },
  {
   "cell_type": "code",
   "execution_count": 52,
   "id": "231b7316-998d-4d3d-8790-1b8d013e2880",
   "metadata": {},
   "outputs": [
    {
     "name": "stdout",
     "output_type": "stream",
     "text": [
      "Results\n",
      "[('film', 'http://www.wikidata.org/entity/Q233464'), ('filmName', 'Annie Hall'), ('directorName', 'Woody Allen'), ('numAwards', '4')]\n"
     ]
    },
    {
     "data": {
      "text/plain": [
       "1"
      ]
     },
     "execution_count": 52,
     "metadata": {},
     "output_type": "execute_result"
    }
   ],
   "source": [
    "queryString = \"\"\"\n",
    "select ?film ?filmName ?directorName (count(?winAward) as ?numAwards) where {\n",
    "    values ?director {wd:Q25089 wd:Q3772}\n",
    "\n",
    "    ?film wdt:P31 wd:Q11424 ;\n",
    "          wdt:P57 ?director ;\n",
    "          wdt:P166 ?winAward .\n",
    "    ?winAward wdt:P31? wd:Q19020 .\n",
    "    \n",
    "    ?director <http://schema.org/name> ?directorName .\n",
    "    ?film <http://schema.org/name> ?filmName .\n",
    "} order by desc(?numAwards)\n",
    "limit 1\n",
    "\"\"\"\n",
    "\n",
    "print(\"Results\")\n",
    "run_query(queryString)"
   ]
  },
  {
   "cell_type": "markdown",
   "id": "94dc2103-ea2b-4b4c-81b0-363a96daf5f8",
   "metadata": {},
   "source": [
    "#### Recap\n",
    "\n",
    "Woody Allen has more nominations and winned more Academic Awards than Tarantino. The film with most nominations is \"Inglourious Basterds\" by Quentin Tarantino. However, Tarantino has an average number of nominations for his films than the Allen's films.\n",
    "\n",
    "For what concerns received awards, also in this case Allen received more Academic Awards than Tarantino, both in absolute value and in average. The film with most number of awards receiver is \"Annie Hall\" by Woody Allen."
   ]
  },
  {
   "cell_type": "code",
   "execution_count": null,
   "id": "e95c8e35-3453-4e03-9495-e25933f5b303",
   "metadata": {},
   "outputs": [],
   "source": []
  }
 ],
 "metadata": {
  "kernelspec": {
   "display_name": "Python 3",
   "language": "python",
   "name": "python3"
  },
  "language_info": {
   "codemirror_mode": {
    "name": "ipython",
    "version": 3
   },
   "file_extension": ".py",
   "mimetype": "text/x-python",
   "name": "python",
   "nbconvert_exporter": "python",
   "pygments_lexer": "ipython3",
   "version": "3.7.10"
  }
 },
 "nbformat": 4,
 "nbformat_minor": 5
}
