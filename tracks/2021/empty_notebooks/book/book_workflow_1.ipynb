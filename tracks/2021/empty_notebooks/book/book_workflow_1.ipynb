{
 "cells": [
  {
   "cell_type": "markdown",
   "id": "7034c3bf-6eb0-4418-8687-7b9d2a501103",
   "metadata": {},
   "source": [
    "# General instructions\n",
    "\n",
    "The goal of the project is to materialize a set of **exploratory workloads** over a real-world, large-scale,  open-domain KG: [WikiData](https://www.wikidata.org/wiki/Wikidata:Main_Page)\n",
    "\n",
    "An exploratory workload  is composed by a set of queries, where each query is related to the information obtained previously.\n",
    "\n",
    "An exploratory workload starts with a usually vague, open ended question, and does not assume the person issuing the workload has a clear understanding of the data contained in the target database or its structure.\n",
    "\n",
    "Remeber that:\n",
    "\n",
    "1. All the queries must run in the python notebook\n",
    "2. You can use classes and properties only if you find them via a SPARQL query that must be present in the notebook\n",
    "3. You do not delete useless queries. Keep everything that is synthatically valid \n",
    "\n",
    "```\n",
    "?p <http://schema.org/name> ?name .\n",
    "```\n",
    "    \n",
    "    is the BGP returning a human-readable name of a property or a class in Wikidata.\n",
    "    \n",
    "    "
   ]
  },
  {
   "cell_type": "code",
   "execution_count": 1,
   "id": "3605c9d5-5371-49a5-be8d-d66e8f417139",
   "metadata": {},
   "outputs": [],
   "source": [
    "## SETUP used later\n",
    "\n",
    "from SPARQLWrapper import SPARQLWrapper, JSON\n",
    "\n",
    "\n",
    "prefixString = \"\"\"\n",
    "##-NOTEBOOK_CODE_HERE-##\n",
    "PREFIX wd: <http://www.wikidata.org/entity/> \n",
    "PREFIX wdt: <http://www.wikidata.org/prop/direct/> \n",
    "PREFIX sc: <http://schema.org/>\n",
    "\"\"\"\n",
    "\n",
    "# select and construct queries\n",
    "def run_query(queryString):\n",
    "    to_run = prefixString + \"\\n\" + queryString\n",
    "\n",
    "    sparql = SPARQLWrapper(\"http://a256-gc1-03.srv.aau.dk:5820/sparql\")\n",
    "    sparql.setTimeout(300)\n",
    "    sparql.setReturnFormat(JSON)\n",
    "    sparql.setQuery(to_run)\n",
    "\n",
    "    try :\n",
    "       results = sparql.query()\n",
    "       json_results = results.convert()\n",
    "       if len(json_results['results']['bindings'])==0:\n",
    "          print(\"Empty\")\n",
    "          return 0\n",
    "    \n",
    "       for bindings in json_results['results']['bindings']:\n",
    "          print( [ (var, value['value'])  for var, value in bindings.items() ] )\n",
    "\n",
    "       return len(json_results['results']['bindings'])\n",
    "\n",
    "    except Exception as e :\n",
    "        print(\"The operation failed\", e)\n",
    "    \n",
    "# ASk queries\n",
    "def run_ask_query(queryString):\n",
    "    to_run = prefixString + \"\\n\" + queryString\n",
    "\n",
    "    sparql = SPARQLWrapper(\"http://a256-gc1-03.srv.aau.dk:5820/sparql\")\n",
    "    sparql.setTimeout(300)\n",
    "    sparql.setReturnFormat(JSON)\n",
    "    sparql.setQuery(to_run)\n",
    "\n",
    "    try :\n",
    "        return sparql.query().convert()\n",
    "\n",
    "    except Exception as e :\n",
    "        print(\"The operation failed\", e)"
   ]
  },
  {
   "cell_type": "markdown",
   "id": "d477a59c-a68c-4c8f-9f97-8ca5294d7d27",
   "metadata": {},
   "source": [
    "# Book Workflow Series (\"Nobel laureates explorative search\") \n",
    "\n",
    "\n",
    "Consider the following exploratory scenario:\n",
    "\n",
    ">  Investigate the authors who won the Nobel award for literature and get information about the nationality of the winners and analyse their literary production\n",
    "\n",
    "\n",
    "\n",
    "## Useful URIs for the current workflow\n",
    "The following are given:\n",
    "\n",
    "| IRI           | Description   | Role      |\n",
    "| -----------   | -----------   |-----------|\n",
    "| `wdt:P1647`   | subproperty   | predicate |\n",
    "| `wdt:P31`     | instance of   | predicate |\n",
    "| `wdt:P106`    | profession    | predicate | \n",
    "| `wdt:P279`    | subclass      | predicate |\n",
    "| `wdt:P17`     | country       | predicate |\n",
    "| `wdt:P27`     | citizenship   | predicate |\n",
    "| `wd:Q37922`   | Nobel Prize in Literature     | node |\n",
    "| `wd:Q36180`   | writer        | node |\n",
    "| `wd:Q38`      | Italy         | node |\n",
    "| `wd:Q3624078` | Sovereign state  | node |\n",
    "| `wd:Q213678`  | Vatican Library  | node |\n",
    "\n",
    "\n",
    "Also consider\n",
    "\n",
    "```\n",
    "?p wdt:P27 wd:Q38  . \n",
    "?p wdt:P106/wdt:P279* wd:Q36180  . \n",
    "```\n",
    "\n",
    "is the BGP to retrieve all **italian authors**\n",
    "\n",
    "The workload should\n",
    "\n",
    "\n",
    "1. Identify the BGP for obtaining the nobel laureates and the nominees with their relevant attributes\n",
    "\n",
    "2. Get the number of Italian, French and Iranian winners and check which nation won more awards in the last twenty years.\n",
    "\n",
    "3. Determine how many Literature nobel laureates have the following contries: Italy, Germany, France, Romania, Denmark, Iran, and China\n",
    "\n",
    "4. How many Literature Nobel award winners have a PhD (aka Doctorate of Philosophy) (you may check if they have a doctoral advisor)?\n",
    "\n",
    "5. Are there books from Litarature Nobel Award winners which are not present in the Vatican Library? (if so, who is the author with more books not in the Vatical Library)?"
   ]
  },
  {
   "cell_type": "code",
   "execution_count": 1,
   "id": "24a853ab-830c-422c-afd3-e9e015b8b8ed",
   "metadata": {},
   "outputs": [],
   "source": [
    "# start your workflow here"
   ]
  },
  {
   "cell_type": "code",
   "execution_count": 4,
   "id": "ade01416-92e7-4ad7-b9a9-b8fb330750dc",
   "metadata": {},
   "outputs": [
    {
     "name": "stdout",
     "output_type": "stream",
     "text": [
      "Results\n",
      "[('callret-0', '46967')]\n"
     ]
    },
    {
     "data": {
      "text/plain": [
       "1"
      ]
     },
     "execution_count": 4,
     "metadata": {},
     "output_type": "execute_result"
    }
   ],
   "source": [
    "queryString = \"\"\"\n",
    "SELECT COUNT( ?p)\n",
    "WHERE { \n",
    "?p wdt:P27 wd:Q38  . \n",
    "?p wdt:P106/wdt:P279* wd:Q36180  . \n",
    "\n",
    "} \n",
    "\"\"\"\n",
    "\n",
    "print(\"Results\")\n",
    "run_query(queryString)"
   ]
  }
 ],
 "metadata": {
  "kernelspec": {
   "display_name": "Python 3",
   "language": "python",
   "name": "python3"
  },
  "language_info": {
   "codemirror_mode": {
    "name": "ipython",
    "version": 3
   },
   "file_extension": ".py",
   "mimetype": "text/x-python",
   "name": "python",
   "nbconvert_exporter": "python",
   "pygments_lexer": "ipython3",
   "version": "3.7.10"
  }
 },
 "nbformat": 4,
 "nbformat_minor": 5
}
