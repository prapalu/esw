{
 "cells": [
  {
   "cell_type": "markdown",
   "id": "9a7b83a6",
   "metadata": {},
   "source": [
    "# General instructions\n",
    "\n",
    "The goal of the project is to materialize a set of **exploratory workloads** over a real-world, large-scale,  open-domain KG: [WikiData](https://www.wikidata.org/wiki/Wikidata:Main_Page)\n",
    "\n",
    "An exploratory workload  is composed by a set of queries, where each query is related to the information obtained previously.\n",
    "\n",
    "An exploratory workload starts with a usually vague, open ended question, and does not assume the person issuing the workload has a clear understanding of the data contained in the target database or its structure.\n",
    "\n",
    "Remeber that:\n",
    "\n",
    "1. All the queries must run in the python notebook\n",
    "2. You can use classes and properties only if you find them via a SPARQL query that must be present in the notebook\n",
    "3. You do not delete useless queries. Keep everything that is synthatically valid \n",
    "\n",
    "```\n",
    "?p <http://schema.org/name> ?name .\n",
    "```\n",
    "    \n",
    "    is the BGP returning a human-readable name of a property or a class in Wikidata."
   ]
  },
  {
   "cell_type": "code",
   "execution_count": 1,
   "id": "1362ecf8",
   "metadata": {},
   "outputs": [],
   "source": [
    "## SETUP used later\n",
    "\n",
    "from SPARQLWrapper import SPARQLWrapper, JSON\n",
    "\n",
    "\n",
    "prefixString = \"\"\"\n",
    "##-dbe797b263-##\n",
    "PREFIX wd: <http://www.wikidata.org/entity/> \n",
    "PREFIX wdt: <http://www.wikidata.org/prop/direct/> \n",
    "PREFIX sc: <http://schema.org/>\n",
    "\"\"\"\n",
    "\n",
    "# select and construct queries\n",
    "def run_query(queryString,verbose = True):\n",
    "    to_run = prefixString + \"\\n\" + queryString\n",
    "\n",
    "    sparql = SPARQLWrapper(\"http://a256-gc1-03.srv.aau.dk:5820/sparql\")\n",
    "    sparql.setTimeout(300)\n",
    "    sparql.setReturnFormat(JSON)\n",
    "    sparql.setQuery(to_run)\n",
    "\n",
    "    try :\n",
    "        results = sparql.query()\n",
    "        json_results = results.convert()\n",
    "        if len(json_results['results']['bindings'])==0:\n",
    "            print(\"Empty\")\n",
    "            return []\n",
    "        array = []\n",
    "        for bindings in json_results['results']['bindings']:\n",
    "            app =  [ (var, value['value'])  for var, value in bindings.items() ] \n",
    "            if verbose:\n",
    "                print( app)\n",
    "            array.append(app)\n",
    "        if verbose:\n",
    "            print(len(array))\n",
    "        return array\n",
    "\n",
    "    except Exception as e :\n",
    "        print(\"The operation failed\", e)\n",
    "    \n",
    "# ASk queries\n",
    "def run_ask_query(queryString):\n",
    "    to_run = prefixString + \"\\n\" + queryString\n",
    "\n",
    "    sparql = SPARQLWrapper(\"http://a256-gc1-03.srv.aau.dk:5820/sparql\")\n",
    "    sparql.setTimeout(300)\n",
    "    sparql.setReturnFormat(JSON)\n",
    "    sparql.setQuery(to_run)\n",
    "\n",
    "    try :\n",
    "        return sparql.query().convert()\n",
    "\n",
    "    except Exception as e :\n",
    "        print(\"The operation failed\", e)"
   ]
  },
  {
   "cell_type": "markdown",
   "id": "281bcf6a",
   "metadata": {},
   "source": [
    "# History Workflow Series (\"Cultural Movements explorative search\") \n",
    "\n",
    "Consider the following exploratory information need:\n",
    "\n",
    "> investigate the cultural movements, in particular the Renaissance, Baroque and Romanticsm. We'd like to get an overview of the main artists belonging to these movements, musicians, poets, sculptors and painters."
   ]
  },
  {
   "cell_type": "markdown",
   "id": "70e42598",
   "metadata": {},
   "source": [
    "## Useful URIs for the current workflow\n",
    "The following are given:\n",
    "\n",
    "| IRI           | Description   | Role      |\n",
    "| -----------   | -----------   |-----------|\n",
    "| `wdt:P1647`   | subproperty   | predicate |\n",
    "| `wdt:P31`     | instance of   | predicate |\n",
    "| `wdt:P106`    | occupation    | predicate | \n",
    "| `wdt:P279`    | subclass      | predicate |\n",
    "| `wdt:P27`     | nationality   | predicate |\n",
    "| `wdt:P3342`     | Significant person       | predicate |\n",
    "| `wd:Q5`| Human       | node |\n",
    "| `wd:Q37562`| Donatello    | node |\n",
    "| `wd:Q19675`| Louvre Museum | node |\n"
   ]
  },
  {
   "cell_type": "markdown",
   "id": "7caa4859",
   "metadata": {},
   "source": [
    "\n",
    "\n",
    "\n",
    "Also consider\n",
    "\n",
    "```\n",
    "wd:Q37562 ?p ?obj .\n",
    "```\n",
    "\n",
    "is the BGP to retrieve all **properties of Donatello**\n",
    "\n",
    "Please consider that when you return a resource, you should return the IRI and the label of the resource. In particular, when the task require you to identify a BGP the result set must always be a list of couples IRI - label.\n",
    "\n",
    "The workload should:\n",
    "\n",
    "\n",
    "1. Identify the BGP for Cultural Movement\n",
    "\n",
    "2. Identify the BGP for Renassaince, Baroque and Romanticism\n",
    "\n",
    "3. Identify the BGP for composer, painter, sculptor and poet\n",
    "\n",
    "4. Consider Renaissance, Baroque and Romanticism. Find how many composers, painters, sculptors and poets belong to those cultural movements (the results set must be a list of triples movement, job, #people)\n",
    "\n",
    "5. Find how many sculptures were made in Italy during Renaissance, Baroque, and Romanticism movements. Please consider all the sculptures and all the sculpture subtypes. (the result set must be a list of triples movement IRI, label and #sculptures).\n",
    "\n",
    "6. For each European country find how many poets belong to Romanticism (the result set must be a list of triples country IRI, label and #poets).\n",
    "\n",
    "7. Find the number of sculptures in the Louvre Museum belonging to Renaissance, Baroque, or Romanticism (return a number for each movement) (the result set must be a list of triples movement IRI, label and #sculptures)."
   ]
  },
  {
   "cell_type": "markdown",
   "id": "5c15c99a",
   "metadata": {},
   "source": [
    "## Task 1\n",
    "Identify the BGP for Cultural Movement"
   ]
  },
  {
   "cell_type": "code",
   "execution_count": 2,
   "id": "e6f228b6",
   "metadata": {},
   "outputs": [
    {
     "name": "stdout",
     "output_type": "stream",
     "text": [
      "Results\n",
      "[('p', 'http://www.wikidata.org/prop/direct/P802'), ('obj', 'http://www.wikidata.org/entity/Q395755'), ('pName', 'student'), ('objName', 'Agostino di Duccio')]\n",
      "[('p', 'http://www.wikidata.org/prop/direct/P6379'), ('obj', 'http://www.wikidata.org/entity/Q388448'), ('pName', 'has works in the collection'), ('objName', 'Bargello')]\n",
      "[('p', 'http://www.wikidata.org/prop/direct/P119'), ('obj', 'http://www.wikidata.org/entity/Q573881'), ('pName', 'place of burial'), ('objName', 'Basilica of San Lorenzo')]\n",
      "[('p', 'http://www.wikidata.org/prop/direct/P6379'), ('obj', 'http://www.wikidata.org/entity/Q573881'), ('pName', 'has works in the collection'), ('objName', 'Basilica of San Lorenzo')]\n",
      "[('p', 'http://www.wikidata.org/prop/direct/P6379'), ('obj', 'http://www.wikidata.org/entity/Q51177'), ('pName', 'has works in the collection'), ('objName', 'Basilica of Santa Croce')]\n",
      "[('p', 'http://www.wikidata.org/prop/direct/P9493'), ('obj', 'http://www.wikidata.org/entity/Q59452059'), ('pName', 'artist files at'), ('objName', 'Berenson Library')]\n",
      "[('p', 'http://www.wikidata.org/prop/direct/P802'), ('obj', 'http://www.wikidata.org/entity/Q828363'), ('pName', 'student'), ('objName', 'Bertoldo di Giovanni')]\n",
      "[('p', 'http://www.wikidata.org/prop/direct/P1066'), ('obj', 'http://www.wikidata.org/entity/Q856749'), ('pName', 'student of'), ('objName', 'Bicci di Lorenzo')]\n",
      "[('p', 'http://www.wikidata.org/prop/direct/P6379'), ('obj', 'http://www.wikidata.org/entity/Q157825'), ('pName', 'has works in the collection'), ('objName', 'Bode Museum')]\n",
      "[('p', 'http://www.wikidata.org/prop/direct/P1343'), ('obj', 'http://www.wikidata.org/entity/Q99357626'), ('pName', 'described by source'), ('objName', 'Book Donatello by Arsène Alexandre')]\n",
      "[('p', 'http://www.wikidata.org/prop/direct/P1343'), ('obj', 'http://www.wikidata.org/entity/Q602358'), ('pName', 'described by source'), ('objName', 'Brockhaus and Efron Encyclopedic Dictionary')]\n",
      "[('p', 'http://www.wikidata.org/prop/direct/P910'), ('obj', 'http://www.wikidata.org/entity/Q9141126'), ('pName', \"topic's main category\"), ('objName', 'Category:Donatello')]\n",
      "[('p', 'http://www.wikidata.org/prop/direct/P800'), ('obj', 'http://www.wikidata.org/entity/Q3698261'), ('pName', 'notable work'), ('objName', 'Crucifix in Santa Croce')]\n",
      "[('p', 'http://www.wikidata.org/prop/direct/P800'), ('obj', 'http://www.wikidata.org/entity/Q735085'), ('pName', 'notable work'), ('objName', 'David')]\n",
      "[('p', 'http://www.wikidata.org/prop/direct/P735'), ('obj', 'http://www.wikidata.org/entity/Q19967495'), ('pName', 'given name'), ('objName', 'Donatello')]\n",
      "[('p', 'http://www.wikidata.org/prop/direct/P1343'), ('obj', 'http://www.wikidata.org/entity/Q66087835'), ('pName', 'described by source'), ('objName', 'Donatello')]\n",
      "[('p', 'http://www.wikidata.org/prop/direct/P1343'), ('obj', 'http://www.wikidata.org/entity/Q79320565'), ('pName', 'described by source'), ('objName', 'Donatello')]\n",
      "[('p', 'http://www.wikidata.org/prop/direct/P735'), ('obj', 'http://www.wikidata.org/entity/Q628471'), ('pName', 'given name'), ('objName', 'Donato')]\n",
      "[('p', 'http://www.wikidata.org/prop/direct/P135'), ('obj', 'http://www.wikidata.org/entity/Q1472236'), ('pName', 'movement'), ('objName', 'Early Renaissance')]\n",
      "[('p', 'http://www.wikidata.org/prop/direct/P937'), ('obj', 'http://www.wikidata.org/entity/Q13362'), ('pName', 'work location'), ('objName', 'Ferrara')]\n",
      "20\n"
     ]
    }
   ],
   "source": [
    "# query example\n",
    "queryString = \"\"\"\n",
    "SELECT DISTINCT ?p ?obj ?pName ?objName\n",
    "WHERE {\n",
    "   \n",
    "   wd:Q37562 ?p ?obj .\n",
    "   \n",
    "   ?p sc:name ?pName .\n",
    "   ?obj sc:name ?objName .\n",
    "#   FILTER REGEX(?objName, \".*[Cc]utltural.*[Mm]ovement.*\") .\n",
    "}\n",
    "order by ?objName\n",
    "LIMIT 20\n",
    "\"\"\"\n",
    "\n",
    "print(\"Results\")\n",
    "x=run_query(queryString)"
   ]
  },
  {
   "cell_type": "code",
   "execution_count": 3,
   "id": "7069328f-8ac1-44e1-9709-f2dfb8265a2f",
   "metadata": {},
   "outputs": [
    {
     "name": "stdout",
     "output_type": "stream",
     "text": [
      "Results\n",
      "[('p', 'http://www.wikidata.org/prop/direct/P156'), ('obj', 'http://www.wikidata.org/entity/Q1474884'), ('pName', 'followed by'), ('objName', 'High Renaissance')]\n",
      "[('p', 'http://www.wikidata.org/prop/direct/P155'), ('obj', 'http://www.wikidata.org/entity/Q979160'), ('pName', 'follows'), ('objName', 'Proto-Renaissance')]\n",
      "[('p', 'http://www.wikidata.org/prop/direct/P361'), ('obj', 'http://www.wikidata.org/entity/Q4692'), ('pName', 'part of'), ('objName', 'Renaissance')]\n",
      "[('p', 'http://www.wikidata.org/prop/direct/P31'), ('obj', 'http://www.wikidata.org/entity/Q968159'), ('pName', 'instance of'), ('objName', 'art movement')]\n",
      "[('p', 'http://www.wikidata.org/prop/direct/P31'), ('obj', 'http://www.wikidata.org/entity/Q11514315'), ('pName', 'instance of'), ('objName', 'historical period')]\n",
      "5\n"
     ]
    }
   ],
   "source": [
    "# checking if Early Rennosanse has a property that tells us its  a cultural moevement\n",
    "\n",
    "# Q1472236 = Early Renaissance\n",
    "queryString = \"\"\"\n",
    "SELECT DISTINCT ?p ?obj ?pName ?objName\n",
    "WHERE {\n",
    "   \n",
    "   wd:Q1472236 ?p ?obj .\n",
    "   \n",
    "   ?p sc:name ?pName .\n",
    "   ?obj sc:name ?objName .\n",
    "#   FILTER REGEX(?objName, \".*[Cc]utltural.*[Mm]ovement.*\") .\n",
    "}\n",
    "order by ?objName\n",
    "LIMIT 20\n",
    "\"\"\"\n",
    "\n",
    "print(\"Results\")\n",
    "x=run_query(queryString)"
   ]
  },
  {
   "cell_type": "code",
   "execution_count": 4,
   "id": "14dcb373-c713-4be1-ac7b-247c1a61bad1",
   "metadata": {},
   "outputs": [
    {
     "name": "stdout",
     "output_type": "stream",
     "text": [
      "Results\n",
      "[('p', 'http://www.wikidata.org/prop/direct/P910'), ('obj', 'http://www.wikidata.org/entity/Q7458526'), ('pName', \"topic's main category\"), ('objName', 'Category:Art movements')]\n",
      "[('p', 'http://www.wikidata.org/prop/direct/P1424'), ('obj', 'http://www.wikidata.org/entity/Q14412130'), ('pName', \"topic's main template\"), ('objName', 'Template:Infobox art movement')]\n",
      "[('p', 'http://www.wikidata.org/prop/direct/P279'), ('obj', 'http://www.wikidata.org/entity/Q735'), ('pName', 'subclass of'), ('objName', 'art')]\n",
      "[('p', 'http://www.wikidata.org/prop/direct/P1889'), ('obj', 'http://www.wikidata.org/entity/Q4502119'), ('pName', 'different from'), ('objName', 'art group')]\n",
      "[('p', 'http://www.wikidata.org/prop/direct/P279'), ('obj', 'http://www.wikidata.org/entity/Q2198855'), ('pName', 'subclass of'), ('objName', 'cultural movement')]\n",
      "[('p', 'http://www.wikidata.org/prop/direct/P2354'), ('obj', 'http://www.wikidata.org/entity/Q1293970'), ('pName', 'has list'), ('objName', 'list of art movements')]\n",
      "6\n"
     ]
    }
   ],
   "source": [
    "# checking if art movement is related to cultural moevement in some way\n",
    "\n",
    "# Q968159 = art movement\n",
    "\n",
    "queryString = \"\"\"\n",
    "SELECT DISTINCT ?p ?obj ?pName ?objName\n",
    "WHERE {\n",
    "   \n",
    "   wd:Q968159 ?p ?obj .\n",
    "   \n",
    "   ?p sc:name ?pName .\n",
    "   ?obj sc:name ?objName .\n",
    "#   FILTER REGEX(?objName, \".*[Cc]utltural.*[Mm]ovement.*\") .\n",
    "}\n",
    "order by ?objName\n",
    "LIMIT 20\n",
    "\"\"\"\n",
    "\n",
    "print(\"Results\")\n",
    "x=run_query(queryString)"
   ]
  },
  {
   "cell_type": "code",
   "execution_count": 5,
   "id": "b07d5428-2b5b-427a-8119-28f5efae5827",
   "metadata": {},
   "outputs": [
    {
     "name": "stdout",
     "output_type": "stream",
     "text": [
      "Results\n",
      "[('p', 'http://www.wikidata.org/prop/direct/P1687'), ('obj', 'http://www.wikidata.org/entity/P135'), ('pName', 'Wikidata property')]\n",
      "[('p', 'http://www.wikidata.org/prop/direct/P2581'), ('obj', '00024366n'), ('pName', 'BabelNet ID')]\n",
      "[('p', 'http://www.wikidata.org/prop/direct/P279'), ('obj', 'http://www.wikidata.org/entity/Q3533467'), ('pName', 'subclass of')]\n",
      "[('p', 'http://www.wikidata.org/prop/direct/P279'), ('obj', 'http://www.wikidata.org/entity/Q49773'), ('pName', 'subclass of')]\n",
      "[('p', 'http://www.wikidata.org/prop/direct/P373'), ('obj', 'Cultural history'), ('pName', 'Commons category')]\n",
      "[('p', 'http://www.wikidata.org/prop/direct/P5437'), ('obj', '7374'), ('pName', 'EuroVoc ID')]\n",
      "[('p', 'http://www.wikidata.org/prop/direct/P646'), ('obj', '/m/01s66'), ('pName', 'Freebase ID')]\n",
      "[('p', 'http://www.wikidata.org/prop/direct/P910'), ('obj', 'http://www.wikidata.org/entity/Q6638204'), ('pName', \"topic's main category\")]\n",
      "8\n"
     ]
    }
   ],
   "source": [
    "# art movement is a subclass of cultural movement\n",
    "\n",
    "# Q2198855 = cultural movement\n",
    "\n",
    "queryString = \"\"\"\n",
    "SELECT DISTINCT ?p ?obj ?pName ?objName\n",
    "WHERE {\n",
    "   \n",
    "   wd:Q2198855 ?p ?obj .\n",
    "   \n",
    "   ?p sc:name ?pName .\n",
    "}\n",
    "order by ?name\n",
    "LIMIT 20\n",
    "\"\"\"\n",
    "\n",
    "print(\"Results\")\n",
    "x=run_query(queryString)"
   ]
  },
  {
   "cell_type": "markdown",
   "id": "55e4d1e2",
   "metadata": {},
   "source": [
    "Final query for this task"
   ]
  },
  {
   "cell_type": "code",
   "execution_count": 6,
   "id": "26409a84",
   "metadata": {},
   "outputs": [],
   "source": [
    "# write your final query"
   ]
  },
  {
   "cell_type": "code",
   "execution_count": 7,
   "id": "79e262b6-b45a-4f06-b992-6f46d462dd62",
   "metadata": {},
   "outputs": [
    {
     "name": "stdout",
     "output_type": "stream",
     "text": [
      "Results\n",
      "[('p', 'http://www.wikidata.org/prop/direct/P1687'), ('obj', 'http://www.wikidata.org/entity/P135'), ('pName', 'Wikidata property')]\n",
      "[('p', 'http://www.wikidata.org/prop/direct/P2581'), ('obj', '00024366n'), ('pName', 'BabelNet ID')]\n",
      "[('p', 'http://www.wikidata.org/prop/direct/P279'), ('obj', 'http://www.wikidata.org/entity/Q3533467'), ('pName', 'subclass of')]\n",
      "[('p', 'http://www.wikidata.org/prop/direct/P279'), ('obj', 'http://www.wikidata.org/entity/Q49773'), ('pName', 'subclass of')]\n",
      "[('p', 'http://www.wikidata.org/prop/direct/P373'), ('obj', 'Cultural history'), ('pName', 'Commons category')]\n",
      "[('p', 'http://www.wikidata.org/prop/direct/P5437'), ('obj', '7374'), ('pName', 'EuroVoc ID')]\n",
      "[('p', 'http://www.wikidata.org/prop/direct/P646'), ('obj', '/m/01s66'), ('pName', 'Freebase ID')]\n",
      "[('p', 'http://www.wikidata.org/prop/direct/P910'), ('obj', 'http://www.wikidata.org/entity/Q6638204'), ('pName', \"topic's main category\")]\n",
      "8\n"
     ]
    }
   ],
   "source": [
    "# art movement is a subclass of cultural movement\n",
    "\n",
    "# Q2198855 = cultural movement\n",
    "\n",
    "queryString = \"\"\"\n",
    "SELECT DISTINCT ?p ?obj ?pName ?objName\n",
    "WHERE {\n",
    "   \n",
    "   wd:Q2198855 ?p ?obj .\n",
    "   \n",
    "   ?p sc:name ?pName .\n",
    "}\n",
    "order by ?name\n",
    "LIMIT 20\n",
    "\"\"\"\n",
    "\n",
    "print(\"Results\")\n",
    "x=run_query(queryString)"
   ]
  },
  {
   "cell_type": "markdown",
   "id": "2e00e15a",
   "metadata": {},
   "source": [
    "## Task 2\n",
    "Identify the BGP for Renassaince, Baroque and Romanticism"
   ]
  },
  {
   "cell_type": "code",
   "execution_count": 8,
   "id": "578fc84a",
   "metadata": {},
   "outputs": [],
   "source": [
    "# write your queries"
   ]
  },
  {
   "cell_type": "code",
   "execution_count": 9,
   "id": "09d6b86c-6e61-437d-b2fc-c5a27293cb46",
   "metadata": {},
   "outputs": [
    {
     "name": "stdout",
     "output_type": "stream",
     "text": [
      "Results\n",
      "[('movement', 'http://www.wikidata.org/entity/Q37853'), ('name', 'Baroque')]\n",
      "[('movement', 'http://www.wikidata.org/entity/Q911397'), ('name', 'Baroque Revival architecture')]\n",
      "[('movement', 'http://www.wikidata.org/entity/Q3624106'), ('name', 'Baroque art')]\n",
      "[('movement', 'http://www.wikidata.org/entity/Q1431376'), ('name', 'Baroque literature')]\n",
      "[('movement', 'http://www.wikidata.org/entity/Q808561'), ('name', 'Baroque painting')]\n",
      "[('movement', 'http://www.wikidata.org/entity/Q6076358'), ('name', 'Baroque painting of Spain')]\n",
      "[('movement', 'http://www.wikidata.org/entity/Q2763408'), ('name', 'Baroque sculpture')]\n",
      "[('movement', 'http://www.wikidata.org/entity/Q4692'), ('name', 'Renaissance')]\n",
      "[('movement', 'http://www.wikidata.org/entity/Q502163'), ('name', 'Renaissance Revival architecture')]\n",
      "[('movement', 'http://www.wikidata.org/entity/Q236122'), ('name', 'Renaissance architecture')]\n",
      "[('movement', 'http://www.wikidata.org/entity/Q1133779'), ('name', 'Renaissance art')]\n",
      "[('movement', 'http://www.wikidata.org/entity/Q7312468'), ('name', 'Renaissance in Scotland')]\n",
      "[('movement', 'http://www.wikidata.org/entity/Q201405'), ('name', 'Renaissance music')]\n",
      "[('movement', 'http://www.wikidata.org/entity/Q15885248'), ('name', 'Renaissance painting')]\n",
      "[('movement', 'http://www.wikidata.org/entity/Q917440'), ('name', 'Renaissance philosophy')]\n",
      "[('movement', 'http://www.wikidata.org/entity/Q936588'), ('name', 'Renaissance sculpture')]\n",
      "[('movement', 'http://www.wikidata.org/entity/Q37068'), ('name', 'Romanticism')]\n",
      "[('movement', 'http://www.wikidata.org/entity/Q3940744'), ('name', 'Romanticismo')]\n",
      "[('movement', 'http://www.wikidata.org/entity/Q840829'), ('name', 'baroque architecture')]\n",
      "[('movement', 'http://www.wikidata.org/entity/Q8361'), ('name', 'baroque music')]\n",
      "20\n"
     ]
    }
   ],
   "source": [
    "# using propert movement to filter for Renassaince, Baroque and Romanticism\n",
    "\n",
    "# p135 = movement\n",
    "\n",
    "queryString = \"\"\"\n",
    "SELECT distinct ?movement ?name\n",
    "WHERE {\n",
    "   \n",
    "   ?sub wdt:P135 ?movement .\n",
    "   ?movement sc:name ?name .\n",
    "   \n",
    "   {\n",
    "       Filter Regex(?name, \"^[Rr]omanticism.*\") .\n",
    "   }\n",
    "   UNION\n",
    "   {\n",
    "       Filter Regex(?name, \"^[Bb]aroque.*\") .\n",
    "   }\n",
    "   UNION\n",
    "   {\n",
    "       Filter Regex(?name, \"^[Rr]enaissance.*\") .\n",
    "   }\n",
    "   \n",
    "}\n",
    "order by ?name\n",
    "LIMIT 20\n",
    "\"\"\"\n",
    "\n",
    "print(\"Results\")\n",
    "x=run_query(queryString)"
   ]
  },
  {
   "cell_type": "code",
   "execution_count": 10,
   "id": "af188c3a-7946-4870-9b64-8e48e10ebca2",
   "metadata": {},
   "outputs": [
    {
     "name": "stdout",
     "output_type": "stream",
     "text": [
      "Results\n",
      "[('p', 'http://www.wikidata.org/prop/direct/P1014'), ('name', 'Art & Architecture Thesaurus ID')]\n",
      "[('p', 'http://www.wikidata.org/prop/direct/P7033'), ('name', 'Australian Educational Vocabulary ID')]\n",
      "[('p', 'http://www.wikidata.org/prop/direct/P508'), ('name', 'BNCF Thesaurus ID')]\n",
      "[('p', 'http://www.wikidata.org/prop/direct/P2581'), ('name', 'BabelNet ID')]\n",
      "[('p', 'http://www.wikidata.org/prop/direct/P7832'), ('name', 'Basque Vikidia ID')]\n",
      "[('p', 'http://www.wikidata.org/prop/direct/P950'), ('name', 'Biblioteca Nacional de España ID')]\n",
      "[('p', 'http://www.wikidata.org/prop/direct/P268'), ('name', 'Bibliothèque nationale de France ID')]\n",
      "[('p', 'http://www.wikidata.org/prop/direct/P5019'), ('name', 'Brockhaus Enzyklopädie online ID')]\n",
      "[('p', 'http://www.wikidata.org/prop/direct/P3241'), ('name', 'Catholic Encyclopedia ID')]\n",
      "[('p', 'http://www.wikidata.org/prop/direct/P373'), ('name', 'Commons category')]\n",
      "[('p', 'http://www.wikidata.org/prop/direct/P935'), ('name', 'Commons gallery')]\n",
      "[('p', 'http://www.wikidata.org/prop/direct/P3569'), ('name', 'Cultureel Woordenboek ID')]\n",
      "[('p', 'http://www.wikidata.org/prop/direct/P1036'), ('name', 'Dewey Decimal Classification')]\n",
      "[('p', 'http://www.wikidata.org/prop/direct/P8135'), ('name', 'Encyclopedia of České Budějovice ID')]\n",
      "[('p', 'http://www.wikidata.org/prop/direct/P1417'), ('name', 'Encyclopædia Britannica Online ID')]\n",
      "[('p', 'http://www.wikidata.org/prop/direct/P3219'), ('name', 'Encyclopædia Universalis ID')]\n",
      "[('p', 'http://www.wikidata.org/prop/direct/P7829'), ('name', 'English Vikidia ID')]\n",
      "[('p', 'http://www.wikidata.org/prop/direct/P4305'), ('name', 'FOIH styles and cultures ID')]\n",
      "[('p', 'http://www.wikidata.org/prop/direct/P8168'), ('name', 'FactGrid item ID')]\n",
      "[('p', 'http://www.wikidata.org/prop/direct/P646'), ('name', 'Freebase ID')]\n",
      "20\n"
     ]
    }
   ],
   "source": [
    "# we know that:\n",
    "# Q4692 = Renaissance\n",
    "# Q37853 = Baroque\n",
    "# Q37068 = Romanticism\n",
    "\n",
    "\n",
    "queryString = \"\"\"\n",
    "SELECT distinct ?p ?name\n",
    "WHERE {\n",
    "   \n",
    "   {\n",
    "       wd:Q4692 ?p ?obj .\n",
    "   }\n",
    "   UNION\n",
    "   {\n",
    "       wd:Q37853 ?p ?obj .\n",
    "   }\n",
    "   UNION\n",
    "   {\n",
    "       wd:Q37068 ?p ?obj .\n",
    "   }\n",
    "   ?p sc:name ?name\n",
    "   \n",
    "}\n",
    "order by ?name\n",
    "LIMIT 20\n",
    "\"\"\"\n",
    "\n",
    "print(\"Results\")\n",
    "x=run_query(queryString)"
   ]
  },
  {
   "cell_type": "markdown",
   "id": "d6f3f0e8",
   "metadata": {},
   "source": [
    "Final query for this task"
   ]
  },
  {
   "cell_type": "code",
   "execution_count": 11,
   "id": "631cf662",
   "metadata": {},
   "outputs": [],
   "source": [
    "# write your final query"
   ]
  },
  {
   "cell_type": "code",
   "execution_count": 12,
   "id": "e9157d44-d168-4285-b731-28abca0d223e",
   "metadata": {},
   "outputs": [
    {
     "name": "stdout",
     "output_type": "stream",
     "text": [
      "Results\n",
      "[('p', 'http://www.wikidata.org/prop/direct/P1014'), ('name', 'Art & Architecture Thesaurus ID')]\n",
      "[('p', 'http://www.wikidata.org/prop/direct/P7033'), ('name', 'Australian Educational Vocabulary ID')]\n",
      "[('p', 'http://www.wikidata.org/prop/direct/P508'), ('name', 'BNCF Thesaurus ID')]\n",
      "[('p', 'http://www.wikidata.org/prop/direct/P2581'), ('name', 'BabelNet ID')]\n",
      "[('p', 'http://www.wikidata.org/prop/direct/P7832'), ('name', 'Basque Vikidia ID')]\n",
      "[('p', 'http://www.wikidata.org/prop/direct/P950'), ('name', 'Biblioteca Nacional de España ID')]\n",
      "[('p', 'http://www.wikidata.org/prop/direct/P268'), ('name', 'Bibliothèque nationale de France ID')]\n",
      "[('p', 'http://www.wikidata.org/prop/direct/P5019'), ('name', 'Brockhaus Enzyklopädie online ID')]\n",
      "[('p', 'http://www.wikidata.org/prop/direct/P3241'), ('name', 'Catholic Encyclopedia ID')]\n",
      "[('p', 'http://www.wikidata.org/prop/direct/P373'), ('name', 'Commons category')]\n",
      "[('p', 'http://www.wikidata.org/prop/direct/P935'), ('name', 'Commons gallery')]\n",
      "[('p', 'http://www.wikidata.org/prop/direct/P3569'), ('name', 'Cultureel Woordenboek ID')]\n",
      "[('p', 'http://www.wikidata.org/prop/direct/P1036'), ('name', 'Dewey Decimal Classification')]\n",
      "[('p', 'http://www.wikidata.org/prop/direct/P8135'), ('name', 'Encyclopedia of České Budějovice ID')]\n",
      "[('p', 'http://www.wikidata.org/prop/direct/P1417'), ('name', 'Encyclopædia Britannica Online ID')]\n",
      "[('p', 'http://www.wikidata.org/prop/direct/P3219'), ('name', 'Encyclopædia Universalis ID')]\n",
      "[('p', 'http://www.wikidata.org/prop/direct/P7829'), ('name', 'English Vikidia ID')]\n",
      "[('p', 'http://www.wikidata.org/prop/direct/P4305'), ('name', 'FOIH styles and cultures ID')]\n",
      "[('p', 'http://www.wikidata.org/prop/direct/P8168'), ('name', 'FactGrid item ID')]\n",
      "[('p', 'http://www.wikidata.org/prop/direct/P646'), ('name', 'Freebase ID')]\n",
      "20\n"
     ]
    }
   ],
   "source": [
    "# we know that:\n",
    "# Q4692 = Renaissance\n",
    "# Q37853 = Baroque\n",
    "# Q37068 = Romanticism\n",
    "\n",
    "\n",
    "queryString = \"\"\"\n",
    "SELECT distinct ?p ?name\n",
    "WHERE {\n",
    "   \n",
    "   {\n",
    "       wd:Q4692 ?p ?obj .\n",
    "   }\n",
    "   UNION\n",
    "   {\n",
    "       wd:Q37853 ?p ?obj .\n",
    "   }\n",
    "   UNION\n",
    "   {\n",
    "       wd:Q37068 ?p ?obj .\n",
    "   }\n",
    "   ?p sc:name ?name\n",
    "   \n",
    "}\n",
    "order by ?name\n",
    "LIMIT 20\n",
    "\"\"\"\n",
    "\n",
    "print(\"Results\")\n",
    "x=run_query(queryString)"
   ]
  },
  {
   "cell_type": "markdown",
   "id": "604ad963",
   "metadata": {},
   "source": [
    "## Task 3\n",
    "Identify the BGP for composer, painter, sculptor and poet"
   ]
  },
  {
   "cell_type": "code",
   "execution_count": 13,
   "id": "80a6e8f5",
   "metadata": {},
   "outputs": [],
   "source": [
    "# write your queries"
   ]
  },
  {
   "cell_type": "code",
   "execution_count": 14,
   "id": "b0f4aaa3-944a-4e08-8641-9dd56fdf7fce",
   "metadata": {},
   "outputs": [
    {
     "name": "stdout",
     "output_type": "stream",
     "text": [
      "Results\n",
      "[('occupation', 'http://www.wikidata.org/entity/Q36834'), ('name', 'composer')]\n",
      "[('occupation', 'http://www.wikidata.org/entity/Q1028181'), ('name', 'painter')]\n",
      "[('occupation', 'http://www.wikidata.org/entity/Q288728'), ('name', 'painter and varnisher')]\n",
      "[('occupation', 'http://www.wikidata.org/entity/Q1281618'), ('name', 'sculptor')]\n",
      "[('occupation', 'http://www.wikidata.org/entity/Q1209498'), ('name', 'poet lawyer')]\n",
      "[('occupation', 'http://www.wikidata.org/entity/Q482'), ('name', 'poetry')]\n",
      "[('occupation', 'http://www.wikidata.org/entity/Q49757'), ('name', 'poet')]\n",
      "[('occupation', 'http://www.wikidata.org/entity/Q1237928'), ('name', 'poet laureate')]\n",
      "[('occupation', 'http://www.wikidata.org/entity/Q7207537'), ('name', 'poetry reading')]\n",
      "[('occupation', 'http://www.wikidata.org/entity/Q104824215'), ('name', 'poetry teacher')]\n",
      "[('occupation', 'http://www.wikidata.org/entity/Q12901590'), ('name', 'poetaster')]\n",
      "11\n"
     ]
    }
   ],
   "source": [
    "# use property occupation to filter for composer, painter, sculptor and poet\n",
    "\n",
    "# wdt:P106 = occupation\n",
    "\n",
    "queryString = \"\"\"\n",
    "SELECT distinct ?occupation ?name\n",
    "WHERE {\n",
    "   \n",
    "   ?someperson wdt:P106 ?occupation .\n",
    "   ?occupation sc:name ?name .\n",
    "   \n",
    "   {\n",
    "       Filter Regex(?name, \"^composer\") .\n",
    "   }\n",
    "   UNION\n",
    "   {\n",
    "       Filter Regex(?name, \"^painter\") .\n",
    "   }\n",
    "   UNION\n",
    "   {\n",
    "       Filter Regex(?name, \"^sculptor\") .\n",
    "   }\n",
    "   UNION\n",
    "   {\n",
    "       Filter Regex(?name, \"^poet\") .\n",
    "   }\n",
    "   \n",
    "}\n",
    "#order by ?name\n",
    "LIMIT 20\n",
    "\"\"\"\n",
    "\n",
    "print(\"Results\")\n",
    "x=run_query(queryString)"
   ]
  },
  {
   "cell_type": "code",
   "execution_count": 15,
   "id": "65a545f9-9302-4158-8154-5e8e210c794c",
   "metadata": {},
   "outputs": [
    {
     "name": "stdout",
     "output_type": "stream",
     "text": [
      "Results\n",
      "[('p', 'http://www.wikidata.org/prop/direct/P8785'), ('name', 'AniDB tag ID')]\n",
      "[('p', 'http://www.wikidata.org/prop/direct/P1014'), ('name', 'Art & Architecture Thesaurus ID')]\n",
      "[('p', 'http://www.wikidata.org/prop/direct/P7033'), ('name', 'Australian Educational Vocabulary ID')]\n",
      "[('p', 'http://www.wikidata.org/prop/direct/P508'), ('name', 'BNCF Thesaurus ID')]\n",
      "[('p', 'http://www.wikidata.org/prop/direct/P2581'), ('name', 'BabelNet ID')]\n",
      "[('p', 'http://www.wikidata.org/prop/direct/P950'), ('name', 'Biblioteca Nacional de España ID')]\n",
      "[('p', 'http://www.wikidata.org/prop/direct/P268'), ('name', 'Bibliothèque nationale de France ID')]\n",
      "[('p', 'http://www.wikidata.org/prop/direct/P373'), ('name', 'Commons category')]\n",
      "[('p', 'http://www.wikidata.org/prop/direct/P6262'), ('name', 'Fandom article ID')]\n",
      "[('p', 'http://www.wikidata.org/prop/direct/P646'), ('name', 'Freebase ID')]\n",
      "[('p', 'http://www.wikidata.org/prop/direct/P7818'), ('name', 'French Vikidia ID')]\n",
      "[('p', 'http://www.wikidata.org/prop/direct/P227'), ('name', 'GND ID')]\n",
      "[('p', 'http://www.wikidata.org/prop/direct/P1296'), ('name', 'Gran Enciclopèdia Catalana ID')]\n",
      "[('p', 'http://www.wikidata.org/prop/direct/P952'), ('name', 'ISCO-88 occupation code')]\n",
      "[('p', 'http://www.wikidata.org/prop/direct/P1256'), ('name', 'Iconclass notation')]\n",
      "[('p', 'http://www.wikidata.org/prop/direct/P8408'), ('name', 'KBpedia ID')]\n",
      "[('p', 'http://www.wikidata.org/prop/direct/P6573'), ('name', 'Klexikon article ID')]\n",
      "[('p', 'http://www.wikidata.org/prop/direct/P4946'), ('name', 'Library of Congress Demographic Group Terms ID')]\n",
      "[('p', 'http://www.wikidata.org/prop/direct/P244'), ('name', 'Library of Congress authority ID')]\n",
      "[('p', 'http://www.wikidata.org/prop/direct/P4801'), ('name', 'LoC and MARC vocabularies ID')]\n",
      "20\n"
     ]
    }
   ],
   "source": [
    "#we know that:\n",
    "# Q36834 = composer\n",
    "# Q1028181 = painter\n",
    "# Q1281618 = sculptor\n",
    "# Q49757 = poet\n",
    "\n",
    "queryString = \"\"\"\n",
    "SELECT distinct ?p ?name\n",
    "WHERE {\n",
    "   \n",
    "   {\n",
    "       wd:Q36834 ?p ?obj .\n",
    "   }\n",
    "   UNION\n",
    "   {\n",
    "       wd:Q1028181 ?p ?obj .\n",
    "   }\n",
    "   UNION\n",
    "   {\n",
    "       wd:Q1281618 ?p ?obj .\n",
    "   }\n",
    "   UNION\n",
    "   {\n",
    "       wd:Q49757 ?p ?obj .\n",
    "   }\n",
    "   \n",
    "   ?p sc:name ?name\n",
    "   \n",
    "}\n",
    "order by ?name\n",
    "LIMIT 20\n",
    "\"\"\"\n",
    "\n",
    "print(\"Results\")\n",
    "x=run_query(queryString)"
   ]
  },
  {
   "cell_type": "markdown",
   "id": "e0583cc6",
   "metadata": {},
   "source": [
    "Final query for this task"
   ]
  },
  {
   "cell_type": "code",
   "execution_count": 16,
   "id": "4b6c4ba2",
   "metadata": {},
   "outputs": [],
   "source": [
    "# write your final query"
   ]
  },
  {
   "cell_type": "code",
   "execution_count": 17,
   "id": "04eadea9-2e02-41e4-b26b-8927fca6f0c9",
   "metadata": {},
   "outputs": [
    {
     "name": "stdout",
     "output_type": "stream",
     "text": [
      "Results\n",
      "[('p', 'http://www.wikidata.org/prop/direct/P8785'), ('name', 'AniDB tag ID')]\n",
      "[('p', 'http://www.wikidata.org/prop/direct/P1014'), ('name', 'Art & Architecture Thesaurus ID')]\n",
      "[('p', 'http://www.wikidata.org/prop/direct/P7033'), ('name', 'Australian Educational Vocabulary ID')]\n",
      "[('p', 'http://www.wikidata.org/prop/direct/P508'), ('name', 'BNCF Thesaurus ID')]\n",
      "[('p', 'http://www.wikidata.org/prop/direct/P2581'), ('name', 'BabelNet ID')]\n",
      "[('p', 'http://www.wikidata.org/prop/direct/P950'), ('name', 'Biblioteca Nacional de España ID')]\n",
      "[('p', 'http://www.wikidata.org/prop/direct/P268'), ('name', 'Bibliothèque nationale de France ID')]\n",
      "[('p', 'http://www.wikidata.org/prop/direct/P373'), ('name', 'Commons category')]\n",
      "[('p', 'http://www.wikidata.org/prop/direct/P6262'), ('name', 'Fandom article ID')]\n",
      "[('p', 'http://www.wikidata.org/prop/direct/P646'), ('name', 'Freebase ID')]\n",
      "[('p', 'http://www.wikidata.org/prop/direct/P7818'), ('name', 'French Vikidia ID')]\n",
      "[('p', 'http://www.wikidata.org/prop/direct/P227'), ('name', 'GND ID')]\n",
      "[('p', 'http://www.wikidata.org/prop/direct/P1296'), ('name', 'Gran Enciclopèdia Catalana ID')]\n",
      "[('p', 'http://www.wikidata.org/prop/direct/P952'), ('name', 'ISCO-88 occupation code')]\n",
      "[('p', 'http://www.wikidata.org/prop/direct/P1256'), ('name', 'Iconclass notation')]\n",
      "[('p', 'http://www.wikidata.org/prop/direct/P8408'), ('name', 'KBpedia ID')]\n",
      "[('p', 'http://www.wikidata.org/prop/direct/P6573'), ('name', 'Klexikon article ID')]\n",
      "[('p', 'http://www.wikidata.org/prop/direct/P4946'), ('name', 'Library of Congress Demographic Group Terms ID')]\n",
      "[('p', 'http://www.wikidata.org/prop/direct/P244'), ('name', 'Library of Congress authority ID')]\n",
      "[('p', 'http://www.wikidata.org/prop/direct/P4801'), ('name', 'LoC and MARC vocabularies ID')]\n",
      "20\n"
     ]
    }
   ],
   "source": [
    "#we know that:\n",
    "# Q36834 = composer\n",
    "# Q1028181 = painter\n",
    "# Q1281618 = sculptor\n",
    "# Q49757 = poet\n",
    "\n",
    "queryString = \"\"\"\n",
    "SELECT distinct ?p ?name\n",
    "WHERE {\n",
    "   \n",
    "   {\n",
    "       wd:Q36834 ?p ?obj .\n",
    "   }\n",
    "   UNION\n",
    "   {\n",
    "       wd:Q1028181 ?p ?obj .\n",
    "   }\n",
    "   UNION\n",
    "   {\n",
    "       wd:Q1281618 ?p ?obj .\n",
    "   }\n",
    "   UNION\n",
    "   {\n",
    "       wd:Q49757 ?p ?obj .\n",
    "   }\n",
    "   \n",
    "   ?p sc:name ?name\n",
    "   \n",
    "}\n",
    "order by ?name\n",
    "LIMIT 20\n",
    "\"\"\"\n",
    "\n",
    "print(\"Results\")\n",
    "x=run_query(queryString)"
   ]
  },
  {
   "cell_type": "markdown",
   "id": "efc8babc",
   "metadata": {},
   "source": [
    "## Task 4\n",
    "Consider Renaissance, Baroque and Romanticism. Find how many composers, painters, sculptors and poets belong to those cultural movements (the results set must be a list of triples movement, job, #people)"
   ]
  },
  {
   "cell_type": "code",
   "execution_count": 18,
   "id": "586b94b0",
   "metadata": {},
   "outputs": [],
   "source": [
    "# write your queries"
   ]
  },
  {
   "cell_type": "code",
   "execution_count": 19,
   "id": "a086581e-a246-4ad4-b46d-886d6e5123ff",
   "metadata": {},
   "outputs": [
    {
     "name": "stdout",
     "output_type": "stream",
     "text": [
      "Results\n",
      "[('movementName', 'Baroque'), ('occupationName', 'sculptor'), ('numberOfPeople', '328')]\n",
      "[('movementName', 'Baroque'), ('occupationName', 'poet'), ('numberOfPeople', '39')]\n",
      "[('movementName', 'Baroque'), ('occupationName', 'painter'), ('numberOfPeople', '378')]\n",
      "[('movementName', 'Baroque'), ('occupationName', 'composer'), ('numberOfPeople', '6')]\n",
      "[('movementName', 'Renaissance'), ('occupationName', 'sculptor'), ('numberOfPeople', '18')]\n",
      "[('movementName', 'Renaissance'), ('occupationName', 'poet'), ('numberOfPeople', '15')]\n",
      "[('movementName', 'Renaissance'), ('occupationName', 'composer'), ('numberOfPeople', '8')]\n",
      "[('movementName', 'Renaissance'), ('occupationName', 'painter'), ('numberOfPeople', '56')]\n",
      "[('movementName', 'Romanticism'), ('occupationName', 'composer'), ('numberOfPeople', '13')]\n",
      "[('movementName', 'Romanticism'), ('occupationName', 'painter'), ('numberOfPeople', '152')]\n",
      "[('movementName', 'Romanticism'), ('occupationName', 'sculptor'), ('numberOfPeople', '14')]\n",
      "[('movementName', 'Romanticism'), ('occupationName', 'poet'), ('numberOfPeople', '151')]\n",
      "12\n"
     ]
    }
   ],
   "source": [
    "# using propert movemnt to filter and group by on Renaissance, Baroque and Romanticism\n",
    "\n",
    "# p135 = movement\n",
    "# Q4692 = Renaissance\n",
    "# Q37853 = Baroque\n",
    "# Q37068 = Romanticism\n",
    "\n",
    "# use property occupation to filter for composer, painter, sculptor and poet\n",
    "\n",
    "# wdt:P106 = occupation\n",
    "# Q36834 = composer\n",
    "# Q1028181 = painter\n",
    "# Q1281618 = sculptor\n",
    "# Q49757 = poet\n",
    "\n",
    "queryString = \"\"\"\n",
    "SELECT distinct ?movementName ?occupationName (count(?someperson) as ?numberOfPeople)\n",
    "WHERE {\n",
    "   \n",
    "   ?someperson wdt:P106 ?occupation .\n",
    "   Filter (?occupation = wd:Q36834 || ?occupation = wd:Q1028181 || ?occupation = wd:Q1281618 || ?occupation = wd:Q49757) .\n",
    "   ?occupation sc:name ?occupationName .\n",
    "   \n",
    "   ?someperson wdt:P135 ?movement .\n",
    "   Filter (?movement = wd:Q4692 || ?movement = wd:Q37853 || ?movement = wd:Q37068) .\n",
    "   ?movement sc:name ?movementName .\n",
    "   \n",
    "}\n",
    "group by ?movementName ?occupationName\n",
    "order by ?movementName \n",
    "LIMIT 20\n",
    "\"\"\"\n",
    "\n",
    "print(\"Results\")\n",
    "x=run_query(queryString)"
   ]
  },
  {
   "cell_type": "markdown",
   "id": "e8805880",
   "metadata": {},
   "source": [
    "Final query for this task"
   ]
  },
  {
   "cell_type": "code",
   "execution_count": 20,
   "id": "be69cc03",
   "metadata": {},
   "outputs": [],
   "source": [
    "# write your final query"
   ]
  },
  {
   "cell_type": "code",
   "execution_count": 21,
   "id": "0fce1aee-b481-40f3-856e-7e1b537ba5a4",
   "metadata": {},
   "outputs": [
    {
     "name": "stdout",
     "output_type": "stream",
     "text": [
      "Results\n",
      "[('movementName', 'Baroque'), ('occupationName', 'sculptor'), ('numberOfPeople', '328')]\n",
      "[('movementName', 'Baroque'), ('occupationName', 'poet'), ('numberOfPeople', '39')]\n",
      "[('movementName', 'Baroque'), ('occupationName', 'painter'), ('numberOfPeople', '378')]\n",
      "[('movementName', 'Baroque'), ('occupationName', 'composer'), ('numberOfPeople', '6')]\n",
      "[('movementName', 'Renaissance'), ('occupationName', 'sculptor'), ('numberOfPeople', '18')]\n",
      "[('movementName', 'Renaissance'), ('occupationName', 'poet'), ('numberOfPeople', '15')]\n",
      "[('movementName', 'Renaissance'), ('occupationName', 'composer'), ('numberOfPeople', '8')]\n",
      "[('movementName', 'Renaissance'), ('occupationName', 'painter'), ('numberOfPeople', '56')]\n",
      "[('movementName', 'Romanticism'), ('occupationName', 'composer'), ('numberOfPeople', '13')]\n",
      "[('movementName', 'Romanticism'), ('occupationName', 'painter'), ('numberOfPeople', '152')]\n",
      "[('movementName', 'Romanticism'), ('occupationName', 'sculptor'), ('numberOfPeople', '14')]\n",
      "[('movementName', 'Romanticism'), ('occupationName', 'poet'), ('numberOfPeople', '151')]\n",
      "12\n"
     ]
    }
   ],
   "source": [
    "# using propert movemnt to filter and group by on Renaissance, Baroque and Romanticism\n",
    "\n",
    "# p135 = movement\n",
    "# Q4692 = Renaissance\n",
    "# Q37853 = Baroque\n",
    "# Q37068 = Romanticism\n",
    "\n",
    "# use property occupation to filter for composer, painter, sculptor and poet\n",
    "\n",
    "# wdt:P106 = occupation\n",
    "# Q36834 = composer\n",
    "# Q1028181 = painter\n",
    "# Q1281618 = sculptor\n",
    "# Q49757 = poet\n",
    "\n",
    "queryString = \"\"\"\n",
    "SELECT distinct ?movementName ?occupationName (count(?someperson) as ?numberOfPeople)\n",
    "WHERE {\n",
    "   \n",
    "   ?someperson wdt:P106 ?occupation .\n",
    "   Filter (?occupation = wd:Q36834 || ?occupation = wd:Q1028181 || ?occupation = wd:Q1281618 || ?occupation = wd:Q49757) .\n",
    "   ?occupation sc:name ?occupationName .\n",
    "   \n",
    "   ?someperson wdt:P135 ?movement .\n",
    "   Filter (?movement = wd:Q4692 || ?movement = wd:Q37853 || ?movement = wd:Q37068) .\n",
    "   ?movement sc:name ?movementName .\n",
    "   \n",
    "}\n",
    "group by ?movementName ?occupationName\n",
    "order by ?movementName \n",
    "LIMIT 20\n",
    "\"\"\"\n",
    "\n",
    "print(\"Results\")\n",
    "x=run_query(queryString)"
   ]
  },
  {
   "cell_type": "markdown",
   "id": "d915f42f",
   "metadata": {},
   "source": [
    "## Task 5\n",
    "Find how many sculptures were made in Italy during Renaissance, Baroque, and Romanticism movements. Please consider all the sculptures and all the sculpture subtypes. (the result set must be a list of triples movement IRI, label and #sculptures)."
   ]
  },
  {
   "cell_type": "code",
   "execution_count": 22,
   "id": "8f590522",
   "metadata": {},
   "outputs": [],
   "source": [
    "# write your queries"
   ]
  },
  {
   "cell_type": "code",
   "execution_count": 23,
   "id": "61a92499-9b00-4e66-aa19-4f402ff4c6ff",
   "metadata": {},
   "outputs": [
    {
     "name": "stdout",
     "output_type": "stream",
     "text": [
      "Results\n",
      "[('sculpture', 'http://www.wikidata.org/entity/Q28929702'), ('name', 'sculpture restorer')]\n",
      "[('sculpture', 'http://www.wikidata.org/entity/Q860861'), ('name', 'sculpture')]\n",
      "[('sculpture', 'http://www.wikidata.org/entity/Q860828'), ('name', 'sculpture foundry')]\n",
      "3\n"
     ]
    }
   ],
   "source": [
    "# looking for something that is an instance of a sculpture\n",
    "\n",
    "# wdt:P31 = instance of\n",
    "\n",
    "queryString = \"\"\"\n",
    "SELECT distinct ?sculpture ?name\n",
    "WHERE {\n",
    "   \n",
    "   ?something wdt:P106 ?sculpture .\n",
    "   ?sculpture sc:name ?name .\n",
    "   \n",
    "   {\n",
    "       Filter Regex(?name, \"^sculpture\") .\n",
    "   }\n",
    "   \n",
    "}\n",
    "#order by ?name\n",
    "LIMIT 20\n",
    "\"\"\"\n",
    "\n",
    "print(\"Results\")\n",
    "x=run_query(queryString)"
   ]
  },
  {
   "cell_type": "code",
   "execution_count": 80,
   "id": "a5ba811c-329a-46da-b669-1b908a6cd1f2",
   "metadata": {},
   "outputs": [
    {
     "name": "stdout",
     "output_type": "stream",
     "text": [
      "Results\n",
      "[('p', 'http://www.wikidata.org/prop/direct/P495'), ('obj', 'http://www.wikidata.org/entity/Q38'), ('pName', 'country of origin'), ('objName', 'Italy')]\n",
      "[('p', 'http://www.wikidata.org/prop/direct/P17'), ('obj', 'http://www.wikidata.org/entity/Q38'), ('pName', 'country'), ('objName', 'Italy')]\n",
      "2\n"
     ]
    }
   ],
   "source": [
    "# checking if Renaissance is related to italy is some way\n",
    "\n",
    "\n",
    "# p135 = movement\n",
    "# Q4692 = Renaissance\n",
    "# Q37853 = Baroque\n",
    "# Q37068 = Romanticism\n",
    "\n",
    "queryString = \"\"\"\n",
    "SELECT distinct ?randomSubjectName ?randomPredicate ?p ?obj ?randomPredicateName ?pName ?objName\n",
    "WHERE {\n",
    "   \n",
    "   ?randomSculpture wdt:P31 wd:Q860861 .\n",
    "   ?randomSculpture ?p ?obj .\n",
    "   \n",
    "   ?p sc:name ?pName .\n",
    "   ?obj sc:name ?objName .\n",
    "   \n",
    "   FILTER Regex (?pName, \".*[Cc]ountry.*\") .\n",
    "   FILTER Regex (?objName, \".*[Ii]taly.*\") .\n",
    "   \n",
    "}\n",
    "#order by ?objName\n",
    "LIMIT 20\n",
    "\"\"\"\n",
    "\n",
    "print(\"Results\")\n",
    "x=run_query(queryString)"
   ]
  },
  {
   "cell_type": "code",
   "execution_count": 142,
   "id": "386a4514-499c-4972-be3b-b49a88a7767b",
   "metadata": {},
   "outputs": [
    {
     "name": "stdout",
     "output_type": "stream",
     "text": [
      "Results\n",
      "[('movement', 'http://www.wikidata.org/entity/Q4692'), ('movementName', 'Renaissance'), ('numberOfSculptures', '3900')]\n",
      "[('movement', 'http://www.wikidata.org/entity/Q37853'), ('movementName', 'Baroque'), ('numberOfSculptures', '32412')]\n",
      "[('movement', 'http://www.wikidata.org/entity/Q37068'), ('movementName', 'Romanticism'), ('numberOfSculptures', '60000')]\n",
      "3\n"
     ]
    }
   ],
   "source": [
    "# we know that\n",
    "\n",
    "# Q860861 = sculpture\n",
    "# wdt:P31 = instance of\n",
    "# wdt:P279 = subbtype\n",
    "\n",
    "# P135 = movement\n",
    "# Q4692 = Renaissance\n",
    "# Q37853 = Baroque\n",
    "# Q37068 = Romanticism\n",
    "\n",
    "# P495 = country of origin\n",
    "# Q38 = Italy\n",
    "\n",
    "queryString = \"\"\"\n",
    "SELECT distinct ?movement ?movementName (Count(?randomSculpture) as ?numberOfSculptures)\n",
    "WHERE {\n",
    "\n",
    "   {\n",
    "       ?randomSculpture wdt:P31 wd:Q860861 .\n",
    "   }\n",
    "   UNION\n",
    "   {\n",
    "       ?randomSculpture wdt:P31 ?scultureType .\n",
    "       ?sculptureType wdt:P279 wd:Q860861\n",
    "   }\n",
    "   ?randomSculpture wdt:P495 wd:Q38 .\n",
    "   \n",
    "   ?randomSculpture wdt:P135 ?movement .\n",
    "   {\n",
    "       ?randomSculpture wdt:P135 ?subMovement .\n",
    "   }\n",
    "   UNION\n",
    "   {\n",
    "       ?sobMovement wdt:P279 ?movement .\n",
    "   }\n",
    "   FILTER (?movement = wd:Q4692 || ?movement = wd:Q37853 || ?movement = wd:Q37068)\n",
    "   ?movement sc:name ?movementName\n",
    "   \n",
    "}\n",
    "group by ?movement ?movementName\n",
    "#order by ?objName\n",
    "LIMIT 20\n",
    "\"\"\"\n",
    "\n",
    "print(\"Results\")\n",
    "x=run_query(queryString)"
   ]
  },
  {
   "cell_type": "markdown",
   "id": "dcc29a4f",
   "metadata": {},
   "source": [
    "Final query for this task"
   ]
  },
  {
   "cell_type": "code",
   "execution_count": 25,
   "id": "9e01cb84",
   "metadata": {},
   "outputs": [],
   "source": [
    "# write your final query"
   ]
  },
  {
   "cell_type": "code",
   "execution_count": 153,
   "id": "c86a15e8-b3c1-4424-bb5c-bbed49ddb059",
   "metadata": {},
   "outputs": [
    {
     "name": "stdout",
     "output_type": "stream",
     "text": [
      "Results\n",
      "[('movement', 'http://www.wikidata.org/entity/Q4692'), ('movementName', 'Renaissance'), ('numberOfSculptures', '9150')]\n",
      "[('movement', 'http://www.wikidata.org/entity/Q37853'), ('movementName', 'Baroque'), ('numberOfSculptures', '2701')]\n",
      "[('movement', 'http://www.wikidata.org/entity/Q37068'), ('movementName', 'Romanticism'), ('numberOfSculptures', '3000')]\n",
      "3\n"
     ]
    }
   ],
   "source": [
    "# we know that\n",
    "\n",
    "# Q860861 = sculpture\n",
    "# wdt:P31 = instance of\n",
    "# wdt:P279 = subbtype\n",
    "\n",
    "# P135 = movement\n",
    "# Q4692 = Renaissance\n",
    "# Q37853 = Baroque\n",
    "# Q37068 = Romanticism\n",
    "\n",
    "# P495 = country of origin\n",
    "# Q38 = Italy\n",
    "\n",
    "queryString = \"\"\"\n",
    "SELECT distinct ?movement ?movementName (Count(?randomSculpture) as ?numberOfSculptures)\n",
    "WHERE {\n",
    "\n",
    "   {\n",
    "       ?randomSculpture wdt:P31 wd:Q860861 .\n",
    "   }\n",
    "   UNION\n",
    "   {\n",
    "       ?randomSculpture wdt:P31 ?scultureType .\n",
    "       ?sculptureType wdt:P279 wd:Q860861\n",
    "   }\n",
    "   ?randomSculpture wdt:P495 wd:Q38 .\n",
    "   \n",
    "   \n",
    "   {\n",
    "       ?randomSculpture wdt:P135 ?movement .\n",
    "   }\n",
    "   UNION\n",
    "   {\n",
    "       ?randomSculpture wdt:P135 ?subMovement .\n",
    "       ?subMovement wdt:P279 ?movement .\n",
    "   }\n",
    "   FILTER (?movement = wd:Q4692 || ?movement = wd:Q37853 || ?movement = wd:Q37068)\n",
    "   \n",
    "   ?movement sc:name ?movementName\n",
    "   \n",
    "}\n",
    "group by ?movement ?movementName\n",
    "#order by ?objName\n",
    "LIMIT 20\n",
    "\"\"\"\n",
    "\n",
    "print(\"Results\")\n",
    "x=run_query(queryString)"
   ]
  },
  {
   "cell_type": "markdown",
   "id": "e3eb2734",
   "metadata": {},
   "source": [
    "## Task 6\n",
    "For each European country find how many poets belong to Romanticism (the result set must be a list of triples country IRI, label and #poets)."
   ]
  },
  {
   "cell_type": "code",
   "execution_count": 26,
   "id": "562b3420",
   "metadata": {},
   "outputs": [],
   "source": [
    "# write your queries"
   ]
  },
  {
   "cell_type": "code",
   "execution_count": 91,
   "id": "fc9fc041-27f0-4fae-b15c-20baa63c5345",
   "metadata": {},
   "outputs": [
    {
     "name": "stdout",
     "output_type": "stream",
     "text": [
      "Results\n",
      "[('p', 'http://www.wikidata.org/prop/direct/P463'), ('obj', 'http://www.wikidata.org/entity/Q8908'), ('pName', 'member of'), ('objName', 'Council of Europe')]\n",
      "[('p', 'http://www.wikidata.org/prop/direct/P30'), ('obj', 'http://www.wikidata.org/entity/Q46'), ('pName', 'continent'), ('objName', 'Europe')]\n",
      "[('p', 'http://www.wikidata.org/prop/direct/P361'), ('obj', 'http://www.wikidata.org/entity/Q46'), ('pName', 'part of'), ('objName', 'Europe')]\n",
      "[('p', 'http://www.wikidata.org/prop/direct/P421'), ('obj', 'http://www.wikidata.org/entity/Q5412122'), ('pName', 'located in time zone'), ('objName', 'Europe/Rome')]\n",
      "[('p', 'http://www.wikidata.org/prop/direct/P463'), ('obj', 'http://www.wikidata.org/entity/Q141720'), ('pName', 'member of'), ('objName', 'European Air Transport Command')]\n",
      "[('p', 'http://www.wikidata.org/prop/direct/P463'), ('obj', 'http://www.wikidata.org/entity/Q488981'), ('pName', 'member of'), ('objName', 'European Bank for Reconstruction and Development')]\n",
      "[('p', 'http://www.wikidata.org/prop/direct/P463'), ('obj', 'http://www.wikidata.org/entity/Q161549'), ('pName', 'member of'), ('objName', 'European Coal and Steel Community')]\n",
      "[('p', 'http://www.wikidata.org/prop/direct/P463'), ('obj', 'http://www.wikidata.org/entity/Q52847'), ('pName', 'member of'), ('objName', 'European Economic Community')]\n",
      "[('p', 'http://www.wikidata.org/prop/direct/P463'), ('obj', 'http://www.wikidata.org/entity/Q1377612'), ('pName', 'member of'), ('objName', 'European Payments Union')]\n",
      "[('p', 'http://www.wikidata.org/prop/direct/P463'), ('obj', 'http://www.wikidata.org/entity/Q151991'), ('pName', 'member of'), ('objName', 'European Southern Observatory')]\n",
      "[('p', 'http://www.wikidata.org/prop/direct/P463'), ('obj', 'http://www.wikidata.org/entity/Q42262'), ('pName', 'member of'), ('objName', 'European Space Agency')]\n",
      "[('p', 'http://www.wikidata.org/prop/direct/P463'), ('obj', 'http://www.wikidata.org/entity/Q458'), ('pName', 'member of'), ('objName', 'European Union')]\n",
      "[('p', 'http://www.wikidata.org/prop/direct/P2853'), ('obj', 'http://www.wikidata.org/entity/Q1378312'), ('pName', 'electrical plug type'), ('objName', 'Europlug')]\n",
      "[('p', 'http://www.wikidata.org/prop/direct/P463'), ('obj', 'http://www.wikidata.org/entity/Q3866537'), ('pName', 'member of'), ('objName', 'Movement Coordination Centre Europe')]\n",
      "[('p', 'http://www.wikidata.org/prop/direct/P463'), ('obj', 'http://www.wikidata.org/entity/Q81299'), ('pName', 'member of'), ('objName', 'Organization for Security and Co-operation in Europe')]\n",
      "[('p', 'http://www.wikidata.org/prop/direct/P706'), ('obj', 'http://www.wikidata.org/entity/Q27449'), ('pName', 'located in/on physical feature'), ('objName', 'Southern Europe')]\n",
      "[('p', 'http://www.wikidata.org/prop/direct/P463'), ('obj', 'http://www.wikidata.org/entity/Q189946'), ('pName', 'member of'), ('objName', 'Western European Union')]\n",
      "17\n"
     ]
    }
   ],
   "source": [
    "# checking if any propert of italy tells us its in europe\n",
    "\n",
    "# Q38 = Italy\n",
    "\n",
    "queryString = \"\"\"\n",
    "SELECT DISTINCT ?p ?obj ?pName ?objName\n",
    "WHERE {\n",
    "   \n",
    "   wd:Q38 ?p ?obj .\n",
    "   \n",
    "   ?p sc:name ?pName .\n",
    "   ?obj sc:name ?objName .\n",
    "   FILTER REGEX(?objName, \".*[Ee]urop.*\") .\n",
    "}\n",
    "order by ?objName\n",
    "LIMIT 20\n",
    "\"\"\"\n",
    "\n",
    "print(\"Results\")\n",
    "x=run_query(queryString)"
   ]
  },
  {
   "cell_type": "code",
   "execution_count": 94,
   "id": "f32fbb81-3289-4c1b-8aaa-5f096fca5de3",
   "metadata": {},
   "outputs": [
    {
     "name": "stdout",
     "output_type": "stream",
     "text": [
      "Results\n",
      "[('p', 'http://www.wikidata.org/prop/direct/P19'), ('obj', 'http://www.wikidata.org/entity/Q390241'), ('pName', 'place of birth'), ('objName', 'Bono, Italy')]\n",
      "[('p', 'http://www.wikidata.org/prop/direct/P166'), ('obj', 'http://www.wikidata.org/entity/Q1497512'), ('pName', 'award received'), ('objName', 'Commemorative Medal of the Unity of Italy')]\n",
      "[('p', 'http://www.wikidata.org/prop/direct/P102'), ('obj', 'http://www.wikidata.org/entity/Q1280685'), ('pName', 'member of political party'), ('objName', 'Communist Party of Italy')]\n",
      "[('p', 'http://www.wikidata.org/prop/direct/P551'), ('obj', 'http://www.wikidata.org/entity/Q3155864'), ('pName', 'residence'), ('objName', 'Geographical region of Italy')]\n",
      "[('p', 'http://www.wikidata.org/prop/direct/P27'), ('obj', 'http://www.wikidata.org/entity/Q38'), ('pName', 'country of citizenship'), ('objName', 'Italy')]\n",
      "[('p', 'http://www.wikidata.org/prop/direct/P937'), ('obj', 'http://www.wikidata.org/entity/Q38'), ('pName', 'work location'), ('objName', 'Italy')]\n",
      "[('p', 'http://www.wikidata.org/prop/direct/P19'), ('obj', 'http://www.wikidata.org/entity/Q38'), ('pName', 'place of birth'), ('objName', 'Italy')]\n",
      "[('p', 'http://www.wikidata.org/prop/direct/P551'), ('obj', 'http://www.wikidata.org/entity/Q38'), ('pName', 'residence'), ('objName', 'Italy')]\n",
      "[('p', 'http://www.wikidata.org/prop/direct/P119'), ('obj', 'http://www.wikidata.org/entity/Q38'), ('pName', 'place of burial'), ('objName', 'Italy')]\n",
      "[('p', 'http://www.wikidata.org/prop/direct/P2925'), ('obj', 'http://www.wikidata.org/entity/Q38'), ('pName', 'domain of saint or deity'), ('objName', 'Italy')]\n",
      "[('p', 'http://www.wikidata.org/prop/direct/P20'), ('obj', 'http://www.wikidata.org/entity/Q38'), ('pName', 'place of death'), ('objName', 'Italy')]\n",
      "[('p', 'http://www.wikidata.org/prop/direct/P495'), ('obj', 'http://www.wikidata.org/entity/Q38'), ('pName', 'country of origin'), ('objName', 'Italy')]\n",
      "[('p', 'http://www.wikidata.org/prop/direct/P27'), ('obj', 'http://www.wikidata.org/entity/Q172579'), ('pName', 'country of citizenship'), ('objName', 'Kingdom of Italy')]\n",
      "[('p', 'http://www.wikidata.org/prop/direct/P551'), ('obj', 'http://www.wikidata.org/entity/Q172579'), ('pName', 'residence'), ('objName', 'Kingdom of Italy')]\n",
      "[('p', 'http://www.wikidata.org/prop/direct/P166'), ('obj', 'http://www.wikidata.org/entity/Q14865244'), ('pName', 'award received'), ('objName', 'Knight grand cross of the order of the crown of Italy')]\n",
      "[('p', 'http://www.wikidata.org/prop/direct/P166'), ('obj', 'http://www.wikidata.org/entity/Q14865239'), ('pName', 'award received'), ('objName', 'Knight of the Order of the Crown of Italy\\u200e')]\n",
      "[('p', 'http://www.wikidata.org/prop/direct/P20'), ('obj', 'http://www.wikidata.org/entity/Q3839038'), ('pName', 'place of death'), ('objName', 'Lucugnano (Italy)')]\n",
      "[('p', 'http://www.wikidata.org/prop/direct/P166'), ('obj', 'http://www.wikidata.org/entity/Q14761898'), ('pName', 'award received'), ('objName', 'Military Order of Italy')]\n",
      "[('p', 'http://www.wikidata.org/prop/direct/P166'), ('obj', 'http://www.wikidata.org/entity/Q1276941'), ('pName', 'award received'), ('objName', 'Order of the Crown of Italy')]\n",
      "[('p', 'http://www.wikidata.org/prop/direct/P108'), ('obj', 'http://www.wikidata.org/entity/Q1177350'), ('pName', 'employer'), ('objName', 'R. Accademia scientifico-letteraria (Milan, Italy)')]\n",
      "20\n"
     ]
    }
   ],
   "source": [
    "# does a randomPoet have a propert to show country\n",
    "\n",
    "# wdt:P106 = occupation\n",
    "# Q49757 = poet\n",
    "\n",
    "queryString = \"\"\"\n",
    "SELECT DISTINCT ?p ?obj ?pName ?objName\n",
    "WHERE {\n",
    "\n",
    "   ?randomPoet wdt:P106 wd:Q49757 .\n",
    "   ?randomPoet ?p ?obj .\n",
    "   \n",
    "   ?p sc:name ?pName .\n",
    "   ?obj sc:name ?objName .\n",
    "   FILTER REGEX(?objName, \".*[Ii]taly.*\") .\n",
    "}\n",
    "order by ?objName\n",
    "LIMIT 20\n",
    "\"\"\"\n",
    "\n",
    "print(\"Results\")\n",
    "x=run_query(queryString)"
   ]
  },
  {
   "cell_type": "code",
   "execution_count": 112,
   "id": "fcbf8271-4199-45a6-9b57-de1b6806ed67",
   "metadata": {},
   "outputs": [
    {
     "name": "stdout",
     "output_type": "stream",
     "text": [
      "Results\n",
      "[('country', 'http://www.wikidata.org/entity/Q29'), ('countryName', 'Spain'), ('numberOfPoets', '47')]\n",
      "[('country', 'http://www.wikidata.org/entity/Q142'), ('countryName', 'France'), ('numberOfPoets', '16')]\n",
      "[('country', 'http://www.wikidata.org/entity/Q161885'), ('countryName', 'Great Britain'), ('numberOfPoets', '8')]\n",
      "[('country', 'http://www.wikidata.org/entity/Q183'), ('countryName', 'Germany'), ('numberOfPoets', '7')]\n",
      "[('country', 'http://www.wikidata.org/entity/Q174193'), ('countryName', 'United Kingdom of Great Britain and Ireland'), ('numberOfPoets', '7')]\n",
      "[('country', 'http://www.wikidata.org/entity/Q131964'), ('countryName', 'Austrian Empire'), ('numberOfPoets', '6')]\n",
      "[('country', 'http://www.wikidata.org/entity/Q45'), ('countryName', 'Portugal'), ('numberOfPoets', '4')]\n",
      "[('country', 'http://www.wikidata.org/entity/Q35'), ('countryName', 'Denmark'), ('numberOfPoets', '4')]\n",
      "[('country', 'http://www.wikidata.org/entity/Q145'), ('countryName', 'United Kingdom'), ('numberOfPoets', '4')]\n",
      "[('country', 'http://www.wikidata.org/entity/Q15180'), ('countryName', 'Soviet Union'), ('numberOfPoets', '4')]\n",
      "[('country', 'http://www.wikidata.org/entity/Q218'), ('countryName', 'Romania'), ('numberOfPoets', '3')]\n",
      "[('country', 'http://www.wikidata.org/entity/Q31'), ('countryName', 'Belgium'), ('numberOfPoets', '3')]\n",
      "[('country', 'http://www.wikidata.org/entity/Q28513'), ('countryName', 'Austria-Hungary'), ('numberOfPoets', '3')]\n",
      "[('country', 'http://www.wikidata.org/entity/Q156199'), ('countryName', 'Electorate of Saxony'), ('numberOfPoets', '1')]\n",
      "[('country', 'http://www.wikidata.org/entity/Q28'), ('countryName', 'Hungary'), ('numberOfPoets', '1')]\n",
      "[('country', 'http://www.wikidata.org/entity/Q958291'), ('countryName', 'United Principalities'), ('numberOfPoets', '1')]\n",
      "[('country', 'http://www.wikidata.org/entity/Q12560'), ('countryName', 'Ottoman Empire'), ('numberOfPoets', '1')]\n",
      "[('country', 'http://www.wikidata.org/entity/Q403'), ('countryName', 'Serbia'), ('numberOfPoets', '1')]\n",
      "[('country', 'http://www.wikidata.org/entity/Q221457'), ('countryName', 'Congress Poland'), ('numberOfPoets', '1')]\n",
      "[('country', 'http://www.wikidata.org/entity/Q699923'), ('countryName', 'Illyrian Provinces'), ('numberOfPoets', '1')]\n",
      "20\n"
     ]
    }
   ],
   "source": [
    "# use property occupation to filter poet\n",
    "# wdt:P106 = occupation\n",
    "# Q49757 = poet\n",
    "\n",
    "# using propert movement to filter  Romanticism\n",
    "# P135 = movement\n",
    "# Q37068 = Romanticism\n",
    "\n",
    "# use property country of origin of poets to group by countries\n",
    "# P27 = country of citizenship\n",
    "\n",
    "# use porperty continent of country to filter countries in europe\n",
    "# P30 = continent\n",
    "# Q46 = Europe\n",
    "\n",
    "queryString = \"\"\"\n",
    "SELECT distinct ?country ?countryName (count(?somePoet) as ?numberOfPoets)\n",
    "WHERE {\n",
    "   \n",
    "   ?somePoet wdt:P106 wd:Q49757 .\n",
    "   ?somePoet wdt:P135 wd:Q37068 .\n",
    "   \n",
    "   ?somePoet wdt:P27 ?country .\n",
    "   ?country wdt:P30 wd:Q46 .\n",
    "   \n",
    "   ?country sc:name ?countryName .\n",
    "}\n",
    "group by ?country ?countryName\n",
    "order by desc(?numberOfPoets )\n",
    "LIMIT 20\n",
    "\"\"\"\n",
    "\n",
    "print(\"Results\")\n",
    "x=run_query(queryString)"
   ]
  },
  {
   "cell_type": "markdown",
   "id": "ded5358f",
   "metadata": {},
   "source": [
    "Final query for this task"
   ]
  },
  {
   "cell_type": "code",
   "execution_count": 27,
   "id": "2bc8a4a0",
   "metadata": {},
   "outputs": [],
   "source": [
    "# write your final query"
   ]
  },
  {
   "cell_type": "code",
   "execution_count": 113,
   "id": "dca2d0e6-c6ee-4edb-8c12-73453fc0c029",
   "metadata": {},
   "outputs": [
    {
     "name": "stdout",
     "output_type": "stream",
     "text": [
      "Results\n",
      "[('country', 'http://www.wikidata.org/entity/Q29'), ('countryName', 'Spain'), ('numberOfPoets', '47')]\n",
      "[('country', 'http://www.wikidata.org/entity/Q142'), ('countryName', 'France'), ('numberOfPoets', '16')]\n",
      "[('country', 'http://www.wikidata.org/entity/Q161885'), ('countryName', 'Great Britain'), ('numberOfPoets', '8')]\n",
      "[('country', 'http://www.wikidata.org/entity/Q183'), ('countryName', 'Germany'), ('numberOfPoets', '7')]\n",
      "[('country', 'http://www.wikidata.org/entity/Q174193'), ('countryName', 'United Kingdom of Great Britain and Ireland'), ('numberOfPoets', '7')]\n",
      "[('country', 'http://www.wikidata.org/entity/Q131964'), ('countryName', 'Austrian Empire'), ('numberOfPoets', '6')]\n",
      "[('country', 'http://www.wikidata.org/entity/Q45'), ('countryName', 'Portugal'), ('numberOfPoets', '4')]\n",
      "[('country', 'http://www.wikidata.org/entity/Q35'), ('countryName', 'Denmark'), ('numberOfPoets', '4')]\n",
      "[('country', 'http://www.wikidata.org/entity/Q145'), ('countryName', 'United Kingdom'), ('numberOfPoets', '4')]\n",
      "[('country', 'http://www.wikidata.org/entity/Q15180'), ('countryName', 'Soviet Union'), ('numberOfPoets', '4')]\n",
      "[('country', 'http://www.wikidata.org/entity/Q218'), ('countryName', 'Romania'), ('numberOfPoets', '3')]\n",
      "[('country', 'http://www.wikidata.org/entity/Q31'), ('countryName', 'Belgium'), ('numberOfPoets', '3')]\n",
      "[('country', 'http://www.wikidata.org/entity/Q28513'), ('countryName', 'Austria-Hungary'), ('numberOfPoets', '3')]\n",
      "[('country', 'http://www.wikidata.org/entity/Q156199'), ('countryName', 'Electorate of Saxony'), ('numberOfPoets', '1')]\n",
      "[('country', 'http://www.wikidata.org/entity/Q28'), ('countryName', 'Hungary'), ('numberOfPoets', '1')]\n",
      "[('country', 'http://www.wikidata.org/entity/Q958291'), ('countryName', 'United Principalities'), ('numberOfPoets', '1')]\n",
      "[('country', 'http://www.wikidata.org/entity/Q12560'), ('countryName', 'Ottoman Empire'), ('numberOfPoets', '1')]\n",
      "[('country', 'http://www.wikidata.org/entity/Q403'), ('countryName', 'Serbia'), ('numberOfPoets', '1')]\n",
      "[('country', 'http://www.wikidata.org/entity/Q221457'), ('countryName', 'Congress Poland'), ('numberOfPoets', '1')]\n",
      "[('country', 'http://www.wikidata.org/entity/Q699923'), ('countryName', 'Illyrian Provinces'), ('numberOfPoets', '1')]\n",
      "20\n"
     ]
    }
   ],
   "source": [
    "# use property occupation to filter poet\n",
    "# wdt:P106 = occupation\n",
    "# Q49757 = poet\n",
    "\n",
    "# using propert movement to filter  Romanticism\n",
    "# P135 = movement\n",
    "# Q37068 = Romanticism\n",
    "\n",
    "# use property country of origin of poets to group by countries\n",
    "# P27 = country of citizenship\n",
    "\n",
    "# use porperty continent of country to filter countries in europe\n",
    "# P30 = continent\n",
    "# Q46 = Europe\n",
    "\n",
    "queryString = \"\"\"\n",
    "SELECT distinct ?country ?countryName (count(?somePoet) as ?numberOfPoets)\n",
    "WHERE {\n",
    "   \n",
    "   ?somePoet wdt:P106 wd:Q49757 .\n",
    "   ?somePoet wdt:P135 wd:Q37068 .\n",
    "   \n",
    "   ?somePoet wdt:P27 ?country .\n",
    "   ?country wdt:P30 wd:Q46 .\n",
    "   \n",
    "   ?country sc:name ?countryName .\n",
    "}\n",
    "group by ?country ?countryName\n",
    "order by desc(?numberOfPoets )\n",
    "LIMIT 20\n",
    "\"\"\"\n",
    "\n",
    "print(\"Results\")\n",
    "x=run_query(queryString)"
   ]
  },
  {
   "cell_type": "markdown",
   "id": "85bf045b",
   "metadata": {},
   "source": [
    "## Task 7\n",
    "Find the number of sculptures in the Louvre Museum belonging to Renaissance, Baroque, or Romanticism (return a number for each movement) (the result set must be a list of triples movement IRI, label and #sculptures)."
   ]
  },
  {
   "cell_type": "code",
   "execution_count": 28,
   "id": "82a5c5f4",
   "metadata": {},
   "outputs": [],
   "source": [
    "# write your queries"
   ]
  },
  {
   "cell_type": "code",
   "execution_count": 115,
   "id": "3bbad8f0-4653-40bb-b3cc-db74e8c80f1f",
   "metadata": {},
   "outputs": [
    {
     "name": "stdout",
     "output_type": "stream",
     "text": [
      "Results\n",
      "[('p', 'http://www.wikidata.org/prop/direct/P195'), ('pName', 'collection')]\n",
      "[('p', 'http://www.wikidata.org/prop/direct/P276'), ('pName', 'location')]\n",
      "[('p', 'http://www.wikidata.org/prop/direct/P608'), ('pName', 'exhibition history')]\n",
      "3\n"
     ]
    }
   ],
   "source": [
    "# checking how a random sculpture is related to louvre meuseum\n",
    "\n",
    "# Q860861 = sculpture\n",
    "# wdt:P31 = instance of\n",
    "# wd:Q19675 = Louvre Meuseum\n",
    "\n",
    "queryString = \"\"\"\n",
    "SELECT DISTINCT ?p ?obj ?pName ?objName\n",
    "WHERE {\n",
    "\n",
    "   ?randomSculpture wdt:P31 wd:Q860861 .\n",
    "   ?randomSculpture ?p wd:Q19675 .\n",
    "   \n",
    "   ?p sc:name ?pName .\n",
    "   \n",
    "}\n",
    "order by ?objName\n",
    "LIMIT 20\n",
    "\"\"\"\n",
    "\n",
    "print(\"Results\")\n",
    "x=run_query(queryString)"
   ]
  },
  {
   "cell_type": "code",
   "execution_count": 158,
   "id": "b30f58bc-c8d9-4839-b761-246c309a69e6",
   "metadata": {},
   "outputs": [
    {
     "name": "stdout",
     "output_type": "stream",
     "text": [
      "Results\n",
      "[('movement', 'http://www.wikidata.org/entity/Q4692'), ('movementName', 'Renaissance'), ('numberOfSculptures', '300')]\n",
      "1\n"
     ]
    }
   ],
   "source": [
    "# use location propert of sculture to filter louvre meuseum\n",
    "# use movement propert of sculpture to filter and group by Renaissance, Baroque, or Romanticism\n",
    "\n",
    "# checking how a random sculpture is related to louvre meuseum\n",
    "\n",
    "# Q860861 = sculpture\n",
    "# wdt:P31 = instance of\n",
    "# wdt:P279 = subclass\n",
    "\n",
    "# P276 = location\n",
    "# wd:Q19675 = Louvre Meuseum\n",
    "\n",
    "# P135 = movement\n",
    "# Q4692 = Renaissance\n",
    "# Q37853 = Baroque\n",
    "# Q37068 = Romanticism\n",
    "\n",
    "\n",
    "queryString = \"\"\"\n",
    "SELECT distinct ?movement ?movementName (Count(?randomSculpture) as ?numberOfSculptures)\n",
    "WHERE {\n",
    "   \n",
    "   {\n",
    "       ?randomSculpture wdt:P31 wd:Q860861 .\n",
    "   }\n",
    "   UNION\n",
    "   {\n",
    "       ?randomSculpture wdt:P31 ?scultureType .\n",
    "       ?sculptureType wdt:P279 wd:Q860861\n",
    "   }\n",
    "   \n",
    "   # sculpture is located in Louvre Meuseum\n",
    "   ?randomSculpture wdt:P276 wd:Q19675 .\n",
    "   \n",
    "   # sculpture belongs to Renaissance, Baroque, or Romanticism or their subclasses\n",
    "   {\n",
    "       ?randomSculpture wdt:P135 ?movement .\n",
    "   }\n",
    "   UNION\n",
    "   {\n",
    "       ?randomSculpture wdt:P135 ?subMovement .\n",
    "       ?subMovement wdt:P279 ?movement .\n",
    "   }\n",
    "   FILTER (?movement = wd:Q4692 || ?movement = wd:Q37853 || ?movement = wd:Q37068).\n",
    "   \n",
    "   ?movement sc:name ?movementName .\n",
    "   \n",
    "}\n",
    "group by ?movement ?movementName\n",
    "#order by ?objName\n",
    "LIMIT 20\n",
    "\"\"\"\n",
    "\n",
    "print(\"Results\")\n",
    "x=run_query(queryString)"
   ]
  },
  {
   "cell_type": "markdown",
   "id": "9597b30c",
   "metadata": {},
   "source": [
    "Final query for this task"
   ]
  },
  {
   "cell_type": "code",
   "execution_count": 29,
   "id": "60917f47",
   "metadata": {},
   "outputs": [],
   "source": [
    "# write your final query"
   ]
  },
  {
   "cell_type": "code",
   "execution_count": 159,
   "id": "1e12ebf6-2675-4600-9c42-2df05f90f1f8",
   "metadata": {},
   "outputs": [
    {
     "name": "stdout",
     "output_type": "stream",
     "text": [
      "Results\n",
      "[('movement', 'http://www.wikidata.org/entity/Q4692'), ('movementName', 'Renaissance'), ('numberOfSculptures', '300')]\n",
      "1\n"
     ]
    }
   ],
   "source": [
    "# use location propert of sculture to filter louvre meuseum\n",
    "# use movement propert of sculpture to filter and group by Renaissance, Baroque, or Romanticism\n",
    "\n",
    "# checking how a random sculpture is related to louvre meuseum\n",
    "\n",
    "# Q860861 = sculpture\n",
    "# wdt:P31 = instance of\n",
    "# wdt:P279 = subclass\n",
    "\n",
    "# P276 = location\n",
    "# wd:Q19675 = Louvre Meuseum\n",
    "\n",
    "# P135 = movement\n",
    "# Q4692 = Renaissance\n",
    "# Q37853 = Baroque\n",
    "# Q37068 = Romanticism\n",
    "\n",
    "\n",
    "queryString = \"\"\"\n",
    "SELECT distinct ?movement ?movementName (Count(?randomSculpture) as ?numberOfSculptures)\n",
    "WHERE {\n",
    "   \n",
    "   {\n",
    "       ?randomSculpture wdt:P31 wd:Q860861 .\n",
    "   }\n",
    "   UNION\n",
    "   {\n",
    "       ?randomSculpture wdt:P31 ?scultureType .\n",
    "       ?sculptureType wdt:P279 wd:Q860861\n",
    "   }\n",
    "   \n",
    "   # sculpture is located in Louvre Meuseum\n",
    "   ?randomSculpture wdt:P276 wd:Q19675 .\n",
    "   \n",
    "   # sculpture belongs to Renaissance, Baroque, or Romanticism or their subclasses\n",
    "   {\n",
    "       ?randomSculpture wdt:P135 ?movement .\n",
    "   }\n",
    "   UNION\n",
    "   {\n",
    "       ?randomSculpture wdt:P135 ?subMovement .\n",
    "       ?subMovement wdt:P279 ?movement .\n",
    "   }\n",
    "   FILTER (?movement = wd:Q4692 || ?movement = wd:Q37853 || ?movement = wd:Q37068).\n",
    "   \n",
    "   ?movement sc:name ?movementName .\n",
    "   \n",
    "}\n",
    "group by ?movement ?movementName\n",
    "#order by ?objName\n",
    "LIMIT 20\n",
    "\"\"\"\n",
    "\n",
    "print(\"Results\")\n",
    "x=run_query(queryString)"
   ]
  }
 ],
 "metadata": {
  "kernelspec": {
   "display_name": "Python 3",
   "language": "python",
   "name": "python3"
  },
  "language_info": {
   "codemirror_mode": {
    "name": "ipython",
    "version": 3
   },
   "file_extension": ".py",
   "mimetype": "text/x-python",
   "name": "python",
   "nbconvert_exporter": "python",
   "pygments_lexer": "ipython3",
   "version": "3.7.10"
  }
 },
 "nbformat": 4,
 "nbformat_minor": 5
}
