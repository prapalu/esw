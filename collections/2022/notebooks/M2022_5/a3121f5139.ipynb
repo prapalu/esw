{
 "cells": [
  {
   "cell_type": "markdown",
   "id": "adc578a8",
   "metadata": {},
   "source": [
    "# General instructions\n",
    "\n",
    "The goal of the project is to materialize a set of **exploratory workloads** over a real-world, large-scale,  open-domain KG: [WikiData](https://www.wikidata.org/wiki/Wikidata:Main_Page)\n",
    "\n",
    "An exploratory workload  is composed by a set of queries, where each query is related to the information obtained previously.\n",
    "\n",
    "An exploratory workload starts with a usually vague, open ended question, and does not assume the person issuing the workload has a clear understanding of the data contained in the target database or its structure.\n",
    "\n",
    "Remeber that:\n",
    "\n",
    "1. All the queries must run in the python notebook\n",
    "2. You can use classes and properties only if you find them via a SPARQL query that must be present in the notebook\n",
    "3. You do not delete useless queries. Keep everything that is synthatically valid \n",
    "\n",
    "```\n",
    "?p <http://schema.org/name> ?name .\n",
    "```\n",
    "    \n",
    "    is the BGP returning a human-readable name of a property or a class in Wikidata."
   ]
  },
  {
   "cell_type": "code",
   "execution_count": 7,
   "id": "ad52d9be",
   "metadata": {},
   "outputs": [],
   "source": [
    "## SETUP used later\n",
    "\n",
    "from SPARQLWrapper import SPARQLWrapper, JSON\n",
    "\n",
    "\n",
    "prefixString = \"\"\"\n",
    "##-a3121f5139-##\n",
    "PREFIX wd: <http://www.wikidata.org/entity/> \n",
    "PREFIX wdt: <http://www.wikidata.org/prop/direct/> \n",
    "PREFIX sc: <http://schema.org/>\n",
    "\"\"\"\n",
    "\n",
    "# select and construct queries\n",
    "def run_query(queryString,verbose = True):\n",
    "    to_run = prefixString + \"\\n\" + queryString\n",
    "\n",
    "    sparql = SPARQLWrapper(\"http://a256-gc1-03.srv.aau.dk:5820/sparql\")\n",
    "    sparql.setTimeout(300)\n",
    "    sparql.setReturnFormat(JSON)\n",
    "    sparql.setQuery(to_run)\n",
    "\n",
    "    try :\n",
    "        results = sparql.query()\n",
    "        json_results = results.convert()\n",
    "        if len(json_results['results']['bindings'])==0:\n",
    "            print(\"Empty\")\n",
    "            return []\n",
    "        array = []\n",
    "        for bindings in json_results['results']['bindings']:\n",
    "            app =  [ (var, value['value'])  for var, value in bindings.items() ] \n",
    "            if verbose:\n",
    "                print( app)\n",
    "            array.append(app)\n",
    "        if verbose:\n",
    "            print(len(array))\n",
    "        return array\n",
    "\n",
    "    except Exception as e :\n",
    "        print(\"The operation failed\", e)\n",
    "    \n",
    "# ASk queries\n",
    "def run_ask_query(queryString):\n",
    "    to_run = prefixString + \"\\n\" + queryString\n",
    "\n",
    "    sparql = SPARQLWrapper(\"http://a256-gc1-03.srv.aau.dk:5820/sparql\")\n",
    "    sparql.setTimeout(300)\n",
    "    sparql.setReturnFormat(JSON)\n",
    "    sparql.setQuery(to_run)\n",
    "\n",
    "    try :\n",
    "        return sparql.query().convert()\n",
    "\n",
    "    except Exception as e :\n",
    "        print(\"The operation failed\", e)"
   ]
  },
  {
   "cell_type": "markdown",
   "id": "c182a96c",
   "metadata": {},
   "source": [
    "# Sport Workflow Series (Basketball and NBA seasons explorative search\") \n",
    "\n",
    "Consider the following exploratory information need:\n",
    "\n",
    ">  investigate the world of basketball. Compare french teams and US teams, country of citizenship of NBA players, and teams which won NBA seasons."
   ]
  },
  {
   "cell_type": "markdown",
   "id": "05d90b5f",
   "metadata": {},
   "source": [
    "## Useful URIs for the current workflow\n",
    "The following are given:\n",
    "\n",
    "| IRI           | Description   | Role      |\n",
    "| -----------   | -----------   |-----------|\n",
    "| `wdt:P1647`   | subproperty   | predicate |\n",
    "| `wdt:P31`     | instance of   | predicate |\n",
    "| `wdt:P106`    | profession    | predicate | \n",
    "| `wdt:P279`    | subclass      | predicate |\n",
    "| `wdt:P27`     | nationality   | predicate |\n",
    "| `wd:Q5`| Human       | node |\n",
    "| `wd:Q41421`| Michael Jordan     | node |\n",
    "| `wd:Q25369`| Kobe Bryant     | node |\n"
   ]
  },
  {
   "cell_type": "markdown",
   "id": "d4541872",
   "metadata": {},
   "source": [
    "\n",
    "\n",
    "\n",
    "Also consider\n",
    "\n",
    "```\n",
    "wd:Q41421 ?p ?obj .\n",
    "```\n",
    "\n",
    "is the BGP to retrieve all **properties of Michael Jordan**\n",
    "\n",
    "Please consider that when you return a resource, you should return the IRI and the label of the resource. In particular, when the task require you to identify a BGP the result set must always be a list of couples IRI - label.\n",
    "\n",
    "\n",
    "\n",
    "The workload should:\n",
    "\n",
    "\n",
    "1. Identify the BGP for basketball player.\n",
    "\n",
    "2. Identify the BGP for basketball.\n",
    "\n",
    "3. Identify the BGP for basketball team.\n",
    "\n",
    "4. Return all french basketball teams born before 1930 (the result set must be a list of triples basketball team IRI, label and year of inception).\n",
    "\n",
    "5. Return all the NBA season (the result set must be a list of couples NBA season IRI, label)\n",
    "\n",
    "6. Consider only the basketball teams which Michael Jordan and Kobe Bryant played. Return the number of NBA seasons won by these teams (the result set must be a list of triples basketball team IRI, label and #victories. Return a number for each basketball team even if they never won a season).\n",
    "\n",
    "7. Consider only NBA (National Basketball Association) basketball teams and all basketball players who played in one of these teams at least once. Also consider the country of citizenship of the players with the related continent. Return for each continent the number of players who played in an NBA basketball teams. (the result set must be triples of continent IRI, label and #players)\n",
    "\n",
    "8. Identify the BGP for the NBA Defensive Player of the Year Award (see https://en.wikipedia.org/wiki/NBA_Defensive_Player_of_the_Year_Award)\n",
    "\n",
    "9. Consider the players who won the NBA Defensive Player of the Year Award. Return for these players the number of NBA Defensive Player of the Year Award won in their career (the result set must be triples of player IRI, label and #victories)\n"
   ]
  },
  {
   "cell_type": "markdown",
   "id": "15cbe13a",
   "metadata": {},
   "source": [
    "## Task 1\n",
    "Identify the BGP for basketball player."
   ]
  },
  {
   "cell_type": "code",
   "execution_count": 4,
   "id": "4f61b672",
   "metadata": {},
   "outputs": [
    {
     "name": "stdout",
     "output_type": "stream",
     "text": [
      "Results\n",
      "[('p', 'http://www.wikidata.org/prop/direct/P1006'), ('name', 'Nationale Thesaurus voor Auteurs ID')]\n",
      "[('p', 'http://www.wikidata.org/prop/direct/P1015'), ('name', 'NORAF ID')]\n",
      "[('p', 'http://www.wikidata.org/prop/direct/P1048'), ('name', 'NCL ID')]\n",
      "[('p', 'http://www.wikidata.org/prop/direct/P106'), ('name', 'occupation')]\n",
      "[('p', 'http://www.wikidata.org/prop/direct/P118'), ('name', 'league')]\n",
      "[('p', 'http://www.wikidata.org/prop/direct/P1207'), ('name', 'NUKAT ID')]\n",
      "[('p', 'http://www.wikidata.org/prop/direct/P1258'), ('name', 'Rotten Tomatoes ID')]\n",
      "[('p', 'http://www.wikidata.org/prop/direct/P1263'), ('name', 'NNDB people ID')]\n",
      "[('p', 'http://www.wikidata.org/prop/direct/P1266'), ('name', 'AlloCiné person ID')]\n",
      "[('p', 'http://www.wikidata.org/prop/direct/P1280'), ('name', 'CONOR.SI ID')]\n",
      "[('p', 'http://www.wikidata.org/prop/direct/P1285'), ('name', 'Munzinger Sport number')]\n",
      "[('p', 'http://www.wikidata.org/prop/direct/P1296'), ('name', 'Gran Enciclopèdia Catalana ID')]\n",
      "[('p', 'http://www.wikidata.org/prop/direct/P1315'), ('name', 'NLA Trove ID')]\n",
      "[('p', 'http://www.wikidata.org/prop/direct/P1343'), ('name', 'described by source')]\n",
      "[('p', 'http://www.wikidata.org/prop/direct/P1344'), ('name', 'participant in')]\n",
      "[('p', 'http://www.wikidata.org/prop/direct/P1368'), ('name', 'LNB ID')]\n",
      "[('p', 'http://www.wikidata.org/prop/direct/P1375'), ('name', 'NSK ID')]\n",
      "[('p', 'http://www.wikidata.org/prop/direct/P1411'), ('name', 'nominated for')]\n",
      "[('p', 'http://www.wikidata.org/prop/direct/P1412'), ('name', 'languages spoken, written or signed')]\n",
      "[('p', 'http://www.wikidata.org/prop/direct/P1417'), ('name', 'Encyclopædia Britannica Online ID')]\n",
      "[('p', 'http://www.wikidata.org/prop/direct/P1447'), ('name', 'Sports-Reference.com Olympic athlete ID')]\n",
      "[('p', 'http://www.wikidata.org/prop/direct/P1449'), ('name', 'nickname')]\n",
      "[('p', 'http://www.wikidata.org/prop/direct/P1477'), ('name', 'birth name')]\n",
      "[('p', 'http://www.wikidata.org/prop/direct/P1532'), ('name', 'country for sport')]\n",
      "[('p', 'http://www.wikidata.org/prop/direct/P1559'), ('name', 'name in native language')]\n",
      "[('p', 'http://www.wikidata.org/prop/direct/P1618'), ('name', 'sport number')]\n",
      "[('p', 'http://www.wikidata.org/prop/direct/P166'), ('name', 'award received')]\n",
      "[('p', 'http://www.wikidata.org/prop/direct/P1670'), ('name', 'Canadiana Authorities ID (former scheme)')]\n",
      "[('p', 'http://www.wikidata.org/prop/direct/P1695'), ('name', 'NLP ID (unique)')]\n",
      "[('p', 'http://www.wikidata.org/prop/direct/P1712'), ('name', 'Metacritic ID')]\n",
      "[('p', 'http://www.wikidata.org/prop/direct/P172'), ('name', 'ethnic group')]\n",
      "[('p', 'http://www.wikidata.org/prop/direct/P1741'), ('name', 'GTAA ID')]\n",
      "[('p', 'http://www.wikidata.org/prop/direct/P18'), ('name', 'image')]\n",
      "[('p', 'http://www.wikidata.org/prop/direct/P1830'), ('name', 'owner of')]\n",
      "[('p', 'http://www.wikidata.org/prop/direct/P1889'), ('name', 'different from')]\n",
      "[('p', 'http://www.wikidata.org/prop/direct/P1890'), ('name', 'CCAB ID')]\n",
      "[('p', 'http://www.wikidata.org/prop/direct/P19'), ('name', 'place of birth')]\n",
      "[('p', 'http://www.wikidata.org/prop/direct/P1953'), ('name', 'Discogs artist ID')]\n",
      "[('p', 'http://www.wikidata.org/prop/direct/P2013'), ('name', 'Facebook ID')]\n",
      "[('p', 'http://www.wikidata.org/prop/direct/P2019'), ('name', 'AllMovie person ID')]\n",
      "[('p', 'http://www.wikidata.org/prop/direct/P2031'), ('name', 'work period (start)')]\n",
      "[('p', 'http://www.wikidata.org/prop/direct/P2032'), ('name', 'work period (end)')]\n",
      "[('p', 'http://www.wikidata.org/prop/direct/P2048'), ('name', 'height')]\n",
      "[('p', 'http://www.wikidata.org/prop/direct/P2067'), ('name', 'mass')]\n",
      "[('p', 'http://www.wikidata.org/prop/direct/P21'), ('name', 'sex or gender')]\n",
      "[('p', 'http://www.wikidata.org/prop/direct/P213'), ('name', 'ISNI')]\n",
      "[('p', 'http://www.wikidata.org/prop/direct/P214'), ('name', 'VIAF ID')]\n",
      "[('p', 'http://www.wikidata.org/prop/direct/P2163'), ('name', 'FAST ID')]\n",
      "[('p', 'http://www.wikidata.org/prop/direct/P22'), ('name', 'father')]\n",
      "[('p', 'http://www.wikidata.org/prop/direct/P227'), ('name', 'GND ID')]\n",
      "50\n"
     ]
    }
   ],
   "source": [
    "# query example\n",
    "queryString = \"\"\"\n",
    "SELECT DISTINCT ?p ?name\n",
    "WHERE {\n",
    "   # bind something\n",
    "   wd:Q41421 ?p ?obj .\n",
    "   # get the label\n",
    "   ?p sc:name ?name.\n",
    "}\n",
    "LIMIT 50\n",
    "\"\"\"\n",
    "\n",
    "print(\"Results\")\n",
    "x=run_query(queryString)"
   ]
  },
  {
   "cell_type": "markdown",
   "id": "ac428ae2",
   "metadata": {},
   "source": [
    "Final query for this task"
   ]
  },
  {
   "cell_type": "code",
   "execution_count": 128,
   "id": "0fbac355",
   "metadata": {},
   "outputs": [
    {
     "name": "stdout",
     "output_type": "stream",
     "text": [
      "Results\n",
      "[('p', 'http://www.wikidata.org/prop/direct/P1014'), ('property', 'Art & Architecture Thesaurus ID')]\n",
      "[('p', 'http://www.wikidata.org/prop/direct/P1036'), ('property', 'Dewey Decimal Classification')]\n",
      "[('p', 'http://www.wikidata.org/prop/direct/P1296'), ('property', 'Gran Enciclopèdia Catalana ID')]\n",
      "[('p', 'http://www.wikidata.org/prop/direct/P1424'), ('property', \"topic's main template\")]\n",
      "[('p', 'http://www.wikidata.org/prop/direct/P1709'), ('property', 'equivalent class')]\n",
      "[('p', 'http://www.wikidata.org/prop/direct/P1963'), ('property', 'properties for this type')]\n",
      "[('p', 'http://www.wikidata.org/prop/direct/P227'), ('property', 'GND ID')]\n",
      "[('p', 'http://www.wikidata.org/prop/direct/P2347'), ('property', 'YSO ID')]\n",
      "[('p', 'http://www.wikidata.org/prop/direct/P244'), ('property', 'Library of Congress authority ID')]\n",
      "[('p', 'http://www.wikidata.org/prop/direct/P268'), ('property', 'Bibliothèque nationale de France ID')]\n",
      "[('p', 'http://www.wikidata.org/prop/direct/P279'), ('property', 'subclass of')]\n",
      "[('p', 'http://www.wikidata.org/prop/direct/P2888'), ('property', 'exact match')]\n",
      "[('p', 'http://www.wikidata.org/prop/direct/P31'), ('property', 'instance of')]\n",
      "[('p', 'http://www.wikidata.org/prop/direct/P361'), ('property', 'part of')]\n",
      "[('p', 'http://www.wikidata.org/prop/direct/P373'), ('property', 'Commons category')]\n",
      "[('p', 'http://www.wikidata.org/prop/direct/P425'), ('property', 'field of this occupation')]\n",
      "[('p', 'http://www.wikidata.org/prop/direct/P4839'), ('property', 'Wolfram Language entity code')]\n",
      "[('p', 'http://www.wikidata.org/prop/direct/P4946'), ('property', 'Library of Congress Demographic Group Terms ID')]\n",
      "[('p', 'http://www.wikidata.org/prop/direct/P641'), ('property', 'sport')]\n",
      "[('p', 'http://www.wikidata.org/prop/direct/P646'), ('property', 'Freebase ID')]\n",
      "[('p', 'http://www.wikidata.org/prop/direct/P8408'), ('property', 'KBpedia ID')]\n",
      "[('p', 'http://www.wikidata.org/prop/direct/P8814'), ('property', 'WordNet 3.1 Synset ID')]\n",
      "[('p', 'http://www.wikidata.org/prop/direct/P910'), ('property', \"topic's main category\")]\n",
      "23\n"
     ]
    }
   ],
   "source": [
    "\n",
    "queryString = \"\"\"\n",
    "SELECT DISTINCT ?p ?property\n",
    "WHERE {\n",
    "   \n",
    "   \n",
    "   #BGP for basketball players\n",
    "   wd:Q3665646 ?p ?obj.\n",
    "   ?p sc:name ?property.\n",
    "   \n",
    "      \n",
    "}\n",
    "LIMIT 50\n",
    "\"\"\"\n",
    "\n",
    "print(\"Results\")\n",
    "x=run_query(queryString)"
   ]
  },
  {
   "cell_type": "markdown",
   "id": "928be612",
   "metadata": {},
   "source": [
    "## Task 2\n",
    "Identify the BGP for basketball."
   ]
  },
  {
   "cell_type": "code",
   "execution_count": 119,
   "id": "e464d913",
   "metadata": {},
   "outputs": [
    {
     "name": "stdout",
     "output_type": "stream",
     "text": [
      "Results\n",
      "[('obj', 'http://www.wikidata.org/entity/Q5369'), ('name', 'baseball')]\n",
      "[('obj', 'http://www.wikidata.org/entity/Q5372'), ('name', 'basketball')]\n",
      "2\n"
     ]
    }
   ],
   "source": [
    "\n",
    "queryString = \"\"\"\n",
    "SELECT DISTINCT ?obj ?name\n",
    "WHERE {\n",
    "   \n",
    "   wd:Q41421 wdt:P641 ?obj .\n",
    "   ?obj sc:name ?name.\n",
    "      \n",
    "}\n",
    "LIMIT 50\n",
    "\"\"\"\n",
    "\n",
    "print(\"Results\")\n",
    "x=run_query(queryString)"
   ]
  },
  {
   "cell_type": "markdown",
   "id": "64c35bc1",
   "metadata": {},
   "source": [
    "Final query for this task"
   ]
  },
  {
   "cell_type": "code",
   "execution_count": 122,
   "id": "1816f57f",
   "metadata": {},
   "outputs": [
    {
     "name": "stdout",
     "output_type": "stream",
     "text": [
      "Results\n",
      "[('p', 'http://www.wikidata.org/prop/direct/P1014'), ('properties', 'Art & Architecture Thesaurus ID')]\n",
      "[('p', 'http://www.wikidata.org/prop/direct/P1036'), ('properties', 'Dewey Decimal Classification')]\n",
      "[('p', 'http://www.wikidata.org/prop/direct/P1051'), ('properties', 'PSH ID')]\n",
      "[('p', 'http://www.wikidata.org/prop/direct/P1151'), ('properties', \"topic's main Wikimedia portal\")]\n",
      "[('p', 'http://www.wikidata.org/prop/direct/P1225'), ('properties', 'U.S. National Archives Identifier')]\n",
      "[('p', 'http://www.wikidata.org/prop/direct/P1245'), ('properties', 'OmegaWiki Defined Meaning')]\n",
      "[('p', 'http://www.wikidata.org/prop/direct/P1282'), ('properties', 'OpenStreetMap tag or key')]\n",
      "[('p', 'http://www.wikidata.org/prop/direct/P1296'), ('properties', 'Gran Enciclopèdia Catalana ID')]\n",
      "[('p', 'http://www.wikidata.org/prop/direct/P1417'), ('properties', 'Encyclopædia Britannica Online ID')]\n",
      "[('p', 'http://www.wikidata.org/prop/direct/P18'), ('properties', 'image')]\n",
      "[('p', 'http://www.wikidata.org/prop/direct/P1807'), ('properties', 'Great Aragonese Encyclopedia ID')]\n",
      "[('p', 'http://www.wikidata.org/prop/direct/P1813'), ('properties', 'short name')]\n",
      "[('p', 'http://www.wikidata.org/prop/direct/P1873'), ('properties', 'maximum number of players')]\n",
      "[('p', 'http://www.wikidata.org/prop/direct/P1889'), ('properties', 'different from')]\n",
      "[('p', 'http://www.wikidata.org/prop/direct/P2047'), ('properties', 'duration')]\n",
      "[('p', 'http://www.wikidata.org/prop/direct/P2094'), ('properties', 'competition class')]\n",
      "[('p', 'http://www.wikidata.org/prop/direct/P2167'), ('properties', 'UNSPSC Code')]\n",
      "[('p', 'http://www.wikidata.org/prop/direct/P227'), ('properties', 'GND ID')]\n",
      "[('p', 'http://www.wikidata.org/prop/direct/P2283'), ('properties', 'uses')]\n",
      "[('p', 'http://www.wikidata.org/prop/direct/P244'), ('properties', 'Library of Congress authority ID')]\n",
      "[('p', 'http://www.wikidata.org/prop/direct/P2581'), ('properties', 'BabelNet ID')]\n",
      "[('p', 'http://www.wikidata.org/prop/direct/P268'), ('properties', 'Bibliothèque nationale de France ID')]\n",
      "[('p', 'http://www.wikidata.org/prop/direct/P279'), ('properties', 'subclass of')]\n",
      "[('p', 'http://www.wikidata.org/prop/direct/P2888'), ('properties', 'exact match')]\n",
      "[('p', 'http://www.wikidata.org/prop/direct/P2910'), ('properties', 'icon')]\n",
      "[('p', 'http://www.wikidata.org/prop/direct/P2924'), ('properties', 'Great Russian Encyclopedia Online ID')]\n",
      "[('p', 'http://www.wikidata.org/prop/direct/P3095'), ('properties', 'practiced by')]\n",
      "[('p', 'http://www.wikidata.org/prop/direct/P31'), ('properties', 'instance of')]\n",
      "[('p', 'http://www.wikidata.org/prop/direct/P3219'), ('properties', 'Encyclopædia Universalis ID')]\n",
      "[('p', 'http://www.wikidata.org/prop/direct/P3221'), ('properties', 'New York Times topic ID')]\n",
      "[('p', 'http://www.wikidata.org/prop/direct/P3365'), ('properties', 'Treccani ID')]\n",
      "[('p', 'http://www.wikidata.org/prop/direct/P3417'), ('properties', 'Quora topic ID')]\n",
      "[('p', 'http://www.wikidata.org/prop/direct/P349'), ('properties', 'National Diet Library ID')]\n",
      "[('p', 'http://www.wikidata.org/prop/direct/P3553'), ('properties', 'Zhihu topic ID')]\n",
      "[('p', 'http://www.wikidata.org/prop/direct/P373'), ('properties', 'Commons category')]\n",
      "[('p', 'http://www.wikidata.org/prop/direct/P3827'), ('properties', 'JSTOR topic ID')]\n",
      "[('p', 'http://www.wikidata.org/prop/direct/P3911'), ('properties', 'STW Thesaurus for Economics ID')]\n",
      "[('p', 'http://www.wikidata.org/prop/direct/P3984'), ('properties', 'subreddit')]\n",
      "[('p', 'http://www.wikidata.org/prop/direct/P4073'), ('properties', 'Fandom wiki ID')]\n",
      "[('p', 'http://www.wikidata.org/prop/direct/P4223'), ('properties', \"Treccani's Enciclopedia Italiana ID\")]\n",
      "[('p', 'http://www.wikidata.org/prop/direct/P4235'), ('properties', 'PatientsLikeMe treatment ID')]\n",
      "[('p', 'http://www.wikidata.org/prop/direct/P443'), ('properties', 'pronunciation audio')]\n",
      "[('p', 'http://www.wikidata.org/prop/direct/P4527'), ('properties', 'UK Parliament thesaurus ID')]\n",
      "[('p', 'http://www.wikidata.org/prop/direct/P4613'), ('properties', 'Encyclopedia of Modern Ukraine ID')]\n",
      "[('p', 'http://www.wikidata.org/prop/direct/P4854'), ('properties', 'Uppslagsverket Finland ID')]\n",
      "[('p', 'http://www.wikidata.org/prop/direct/P486'), ('properties', 'MeSH descriptor ID')]\n",
      "[('p', 'http://www.wikidata.org/prop/direct/P487'), ('properties', 'Unicode character')]\n",
      "[('p', 'http://www.wikidata.org/prop/direct/P495'), ('properties', 'country of origin')]\n",
      "[('p', 'http://www.wikidata.org/prop/direct/P5008'), ('properties', 'on focus list of Wikimedia project')]\n",
      "[('p', 'http://www.wikidata.org/prop/direct/P5019'), ('properties', 'Brockhaus Enzyklopädie online ID')]\n",
      "50\n"
     ]
    }
   ],
   "source": [
    "\n",
    "queryString = \"\"\"\n",
    "SELECT DISTINCT ?p ?properties\n",
    "WHERE {\n",
    "   \n",
    "   #BGP of basketball\n",
    "   wd:Q5372 ?p ?obj.\n",
    "   ?p sc:name ?properties.\n",
    "      \n",
    "}\n",
    "LIMIT 50\n",
    "\"\"\"\n",
    "\n",
    "print(\"Results\")\n",
    "x=run_query(queryString)"
   ]
  },
  {
   "cell_type": "markdown",
   "id": "6d5a85d8",
   "metadata": {},
   "source": [
    "## Task 3\n",
    "Identify the BGP for basketball team."
   ]
  },
  {
   "cell_type": "code",
   "execution_count": 33,
   "id": "770fbb3a",
   "metadata": {},
   "outputs": [
    {
     "name": "stdout",
     "output_type": "stream",
     "text": [
      "Results\n",
      "[('p', 'http://www.wikidata.org/prop/direct/P279'), ('name', 'competitive player')]\n",
      "[('p', 'http://www.wikidata.org/prop/direct/P1963'), ('name', 'Indiana Basketball Hall of Fame ID')]\n",
      "[('p', 'http://www.wikidata.org/prop/direct/P31'), ('name', 'profession')]\n",
      "[('p', 'http://www.wikidata.org/prop/direct/P425'), ('name', 'basketball')]\n",
      "[('p', 'http://www.wikidata.org/prop/direct/P641'), ('name', 'basketball')]\n",
      "[('p', 'http://www.wikidata.org/prop/direct/P1963'), ('name', 'Basketball Reference NBA player ID')]\n",
      "[('p', 'http://www.wikidata.org/prop/direct/P1963'), ('name', 'NBA.com player ID')]\n",
      "[('p', 'http://www.wikidata.org/prop/direct/P1963'), ('name', 'Sports-Reference.com college basketball player ID')]\n",
      "[('p', 'http://www.wikidata.org/prop/direct/P1963'), ('name', 'Basketball Reference WNBA player ID')]\n",
      "[('p', 'http://www.wikidata.org/prop/direct/P1963'), ('name', 'Basketball-Reference.com NBA G League player ID')]\n",
      "[('p', 'http://www.wikidata.org/prop/direct/P361'), ('name', 'basketball team')]\n",
      "[('p', 'http://www.wikidata.org/prop/direct/P279'), ('name', 'athlete')]\n",
      "[('p', 'http://www.wikidata.org/prop/direct/P1963'), ('name', 'RealGM basketball player ID')]\n",
      "[('p', 'http://www.wikidata.org/prop/direct/P425'), ('name', 'college basketball')]\n",
      "[('p', 'http://www.wikidata.org/prop/direct/P1963'), ('name', 'ESPN.com NBA player ID')]\n",
      "[('p', 'http://www.wikidata.org/prop/direct/P1963'), ('name', 'Scoresway basketball person ID')]\n",
      "[('p', 'http://www.wikidata.org/prop/direct/P1963'), ('name', 'Greek Basket League ID')]\n",
      "[('p', 'http://www.wikidata.org/prop/direct/P1963'), ('name', 'Baloncesto Superior Nacional ID')]\n",
      "[('p', 'http://www.wikidata.org/prop/direct/P1963'), ('name', 'Basketball-Reference.com NBL player ID')]\n",
      "[('p', 'http://www.wikidata.org/prop/direct/P1963'), ('name', 'LKL player ID')]\n",
      "[('p', 'http://www.wikidata.org/prop/direct/P1963'), ('name', 'ACB.com player ID')]\n",
      "[('p', 'http://www.wikidata.org/prop/direct/P1963'), ('name', 'FIBA player ID')]\n",
      "[('p', 'http://www.wikidata.org/prop/direct/P1424'), ('name', 'Template:Infobox basketball biography')]\n",
      "[('p', 'http://www.wikidata.org/prop/direct/P1963'), ('name', 'Proballers ID')]\n",
      "[('p', 'http://www.wikidata.org/prop/direct/P1963'), ('name', 'Basketball Bundesliga ID')]\n",
      "[('p', 'http://www.wikidata.org/prop/direct/P1963'), ('name', 'Safsal player ID')]\n",
      "[('p', 'http://www.wikidata.org/prop/direct/P1963'), ('name', 'National Collegiate Basketball Hall of Fame ID')]\n",
      "[('p', 'http://www.wikidata.org/prop/direct/P1963'), ('name', \"Women's Japan Basketball League ID\")]\n",
      "[('p', 'http://www.wikidata.org/prop/direct/P1963'), ('name', \"Women's Basketball Hall of Fame ID\")]\n",
      "[('p', 'http://www.wikidata.org/prop/direct/P1963'), ('name', 'Polish Basketball League ID')]\n",
      "[('p', 'http://www.wikidata.org/prop/direct/P1963'), ('name', 'LNB Pro A player ID')]\n",
      "[('p', 'http://www.wikidata.org/prop/direct/P1963'), ('name', 'Japan Professional Basketball League ID')]\n",
      "[('p', 'http://www.wikidata.org/prop/direct/P1963'), ('name', 'LFB player ID')]\n",
      "[('p', 'http://www.wikidata.org/prop/direct/P1963'), ('name', 'Basketball-Reference.com international player ID')]\n",
      "[('p', 'http://www.wikidata.org/prop/direct/P910'), ('name', 'Category:Basketball players')]\n",
      "[('p', 'http://www.wikidata.org/prop/direct/P1963'), ('name', 'WNBA player ID')]\n",
      "[('p', 'http://www.wikidata.org/prop/direct/P1963'), ('name', 'Eurobasket.com player ID')]\n",
      "[('p', 'http://www.wikidata.org/prop/direct/P1963'), ('name', 'DraftExpress ID')]\n",
      "[('p', 'http://www.wikidata.org/prop/direct/P1963'), ('name', 'euroleague.net ID')]\n",
      "[('p', 'http://www.wikidata.org/prop/direct/P1963'), ('name', 'Naismith Memorial Basketball Hall of Fame ID')]\n",
      "[('p', 'http://www.wikidata.org/prop/direct/P1963'), ('name', 'LegaBasket.it player ID')]\n",
      "[('p', 'http://www.wikidata.org/prop/direct/P1963'), ('name', 'RBF player ID')]\n",
      "[('p', 'http://www.wikidata.org/prop/direct/P1963'), ('name', 'Turkish Basketball Super League ID')]\n",
      "[('p', 'http://www.wikidata.org/prop/direct/P1424'), ('name', 'Template:Infobox basketball biography 2')]\n",
      "44\n"
     ]
    }
   ],
   "source": [
    "\n",
    "queryString = \"\"\"\n",
    "SELECT DISTINCT ?p ?name\n",
    "WHERE {\n",
    "   wd:Q3665646 ?p ?o.\n",
    "   ?o sc:name ?name.\n",
    "   #?o sc:name ?name 2.\n",
    "}\n",
    "LIMIT 100\n",
    "\"\"\"\n",
    "\n",
    "print(\"Results\")\n",
    "x=run_query(queryString)"
   ]
  },
  {
   "cell_type": "markdown",
   "id": "849887d0",
   "metadata": {},
   "source": [
    "Final query for this task"
   ]
  },
  {
   "cell_type": "code",
   "execution_count": 129,
   "id": "01dcd762",
   "metadata": {},
   "outputs": [
    {
     "name": "stdout",
     "output_type": "stream",
     "text": [
      "Results\n",
      "[('p', 'http://www.wikidata.org/prop/direct/P1424'), ('properties', \"topic's main template\")]\n",
      "[('p', 'http://www.wikidata.org/prop/direct/P279'), ('properties', 'subclass of')]\n",
      "[('p', 'http://www.wikidata.org/prop/direct/P3417'), ('properties', 'Quora topic ID')]\n",
      "[('p', 'http://www.wikidata.org/prop/direct/P373'), ('properties', 'Commons category')]\n",
      "[('p', 'http://www.wikidata.org/prop/direct/P527'), ('properties', 'has part')]\n",
      "[('p', 'http://www.wikidata.org/prop/direct/P641'), ('properties', 'sport')]\n",
      "[('p', 'http://www.wikidata.org/prop/direct/P8408'), ('properties', 'KBpedia ID')]\n",
      "[('p', 'http://www.wikidata.org/prop/direct/P910'), ('properties', \"topic's main category\")]\n",
      "8\n"
     ]
    }
   ],
   "source": [
    "queryString = \"\"\"\n",
    "SELECT DISTINCT ?p ?properties\n",
    "WHERE {\n",
    "   \n",
    "   #BGP for basketball team\n",
    "   wd:Q13393265 ?p ?obj.\n",
    "   ?p sc:name ?properties.\n",
    "   \n",
    "}\n",
    "LIMIT 100\n",
    "\"\"\"\n",
    "\n",
    "print(\"Results\")\n",
    "x=run_query(queryString)"
   ]
  },
  {
   "cell_type": "markdown",
   "id": "e7712870",
   "metadata": {},
   "source": [
    "## Task 4\n",
    "Return all french basketball teams born before 1930 (the result set must be a list of triples basketball team IRI, label and year of inception)."
   ]
  },
  {
   "cell_type": "code",
   "execution_count": 113,
   "id": "033c0d47",
   "metadata": {},
   "outputs": [
    {
     "name": "stdout",
     "output_type": "stream",
     "text": [
      "Results\n",
      "[('s', 'http://www.wikidata.org/entity/Q1419876'), ('name', 'Limoges CSP'), ('year', '1929'), ('country', 'France')]\n",
      "[('s', 'http://www.wikidata.org/entity/Q303321'), ('name', 'Berck BC'), ('year', '1929'), ('country', 'France')]\n",
      "[('s', 'http://www.wikidata.org/entity/Q2737338'), ('name', 'SIG Basket'), ('year', '1928'), ('country', 'France')]\n",
      "[('s', 'http://www.wikidata.org/entity/Q3547512'), ('name', 'US Métro'), ('year', '1928'), ('country', 'France')]\n",
      "[('s', 'http://www.wikidata.org/entity/Q2931972'), ('name', 'Basket CRO Lyon'), ('year', '1927'), ('country', 'France')]\n",
      "[('s', 'http://www.wikidata.org/entity/Q1630671'), ('name', 'Nanterre 92'), ('year', '1927'), ('country', 'France')]\n",
      "[('s', 'http://www.wikidata.org/entity/Q2868120'), ('name', 'Union Tours Basket Métropole'), ('year', '1925'), ('country', 'France')]\n",
      "[('s', 'http://www.wikidata.org/entity/Q404421'), ('name', 'STB Le Havre'), ('year', '1924'), ('country', 'France')]\n",
      "[('s', 'http://www.wikidata.org/entity/Q2868091'), ('name', 'AS Monaco Basket'), ('year', '1924'), ('country', 'France')]\n",
      "[('s', 'http://www.wikidata.org/entity/Q3351710'), ('name', 'Olympique Lille Basket'), ('year', '1924'), ('country', 'France')]\n",
      "[('s', 'http://www.wikidata.org/entity/Q3550518'), ('name', 'Union Sportive Valenciennes Olympic'), ('year', '1923'), ('country', 'France')]\n",
      "[('s', 'http://www.wikidata.org/entity/Q2887216'), ('name', 'BC Orchies'), ('year', '1922'), ('country', 'France')]\n",
      "[('s', 'http://www.wikidata.org/entity/Q638938'), ('name', 'Paris Basket Racing'), ('year', '1922'), ('country', 'France')]\n",
      "[('s', 'http://www.wikidata.org/entity/Q3592481'), ('name', 'Étoile de Charleville-Mézières'), ('year', '1921'), ('country', 'France')]\n",
      "[('s', 'http://www.wikidata.org/entity/Q1415460'), ('name', 'Clermont UC'), ('year', '1921'), ('country', 'France')]\n",
      "[('s', 'http://www.wikidata.org/entity/Q2930983'), ('name', 'CAUFA Reims'), ('year', '1919'), ('country', 'France')]\n",
      "[('s', 'http://www.wikidata.org/entity/Q3459221'), ('name', 'Stade Auto Lyon'), ('year', '1916'), ('country', 'France')]\n",
      "[('s', 'http://www.wikidata.org/entity/Q3076509'), ('name', 'FC Grenoble'), ('year', '1911'), ('country', 'France')]\n",
      "[('s', 'http://www.wikidata.org/entity/Q1630650'), ('name', 'JL Bourg-en-Bresse'), ('year', '1910'), ('country', 'France')]\n",
      "[('s', 'http://www.wikidata.org/entity/Q783067'), ('name', 'Alsace de Bagnolet'), ('year', '1908'), ('country', 'France')]\n",
      "[('s', 'http://www.wikidata.org/entity/Q2955800'), ('name', 'Championnet Sports'), ('year', '1907'), ('country', 'France')]\n",
      "[('s', 'http://www.wikidata.org/entity/Q2892731'), ('name', 'Paris Université Club'), ('year', '1906'), ('country', 'France')]\n",
      "[('s', 'http://www.wikidata.org/entity/Q1630255'), ('name', 'SPO Rouen Basket'), ('year', '1892'), ('country', 'France')]\n",
      "[('s', 'http://www.wikidata.org/entity/Q3134233'), ('name', 'Hermine de Nantes Atlantique'), ('year', '1891'), ('country', 'France')]\n",
      "[('s', 'http://www.wikidata.org/entity/Q3496108'), ('name', 'Stade Français'), ('year', '1883'), ('country', 'France')]\n",
      "[('s', 'http://www.wikidata.org/entity/Q1682230'), ('name', 'JDA Dijon Basket'), ('year', '1880'), ('country', 'France')]\n",
      "26\n"
     ]
    }
   ],
   "source": [
    "queryString = \"\"\"\n",
    "SELECT ?s ?name ?year ?country\n",
    "WHERE {\n",
    "\n",
    "    ?s wdt:P31 wd:Q13393265.\n",
    "    ?s sc:name ?name.\n",
    "    \n",
    "    ?s wdt:P17 ?co.\n",
    "    ?co sc:name ?country.\n",
    "    \n",
    "    ?s wdt:P571 ?date.\n",
    "    \n",
    "    BIND(strbefore(str(?date), \"-\") AS ?year).\n",
    "    \n",
    "    FILTER(str(?country) = \"France\" && str(?year) < \"1930\").\n",
    "    \n",
    "} ORDER BY DESC(?year)\n",
    "LIMIT 100\n",
    "\"\"\"\n",
    "\n",
    "print(\"Results\")\n",
    "x=run_query(queryString)"
   ]
  },
  {
   "cell_type": "markdown",
   "id": "7ffaa2d9",
   "metadata": {},
   "source": [
    "Final query for this task"
   ]
  },
  {
   "cell_type": "code",
   "execution_count": 112,
   "id": "a2bfc82d",
   "metadata": {},
   "outputs": [
    {
     "name": "stdout",
     "output_type": "stream",
     "text": [
      "Results\n",
      "[('s', 'http://www.wikidata.org/entity/Q1419876'), ('name', 'Limoges CSP'), ('year', '1929')]\n",
      "[('s', 'http://www.wikidata.org/entity/Q303321'), ('name', 'Berck BC'), ('year', '1929')]\n",
      "[('s', 'http://www.wikidata.org/entity/Q2737338'), ('name', 'SIG Basket'), ('year', '1928')]\n",
      "[('s', 'http://www.wikidata.org/entity/Q3547512'), ('name', 'US Métro'), ('year', '1928')]\n",
      "[('s', 'http://www.wikidata.org/entity/Q2931972'), ('name', 'Basket CRO Lyon'), ('year', '1927')]\n",
      "[('s', 'http://www.wikidata.org/entity/Q1630671'), ('name', 'Nanterre 92'), ('year', '1927')]\n",
      "[('s', 'http://www.wikidata.org/entity/Q2868120'), ('name', 'Union Tours Basket Métropole'), ('year', '1925')]\n",
      "[('s', 'http://www.wikidata.org/entity/Q404421'), ('name', 'STB Le Havre'), ('year', '1924')]\n",
      "[('s', 'http://www.wikidata.org/entity/Q2868091'), ('name', 'AS Monaco Basket'), ('year', '1924')]\n",
      "[('s', 'http://www.wikidata.org/entity/Q3351710'), ('name', 'Olympique Lille Basket'), ('year', '1924')]\n",
      "[('s', 'http://www.wikidata.org/entity/Q3550518'), ('name', 'Union Sportive Valenciennes Olympic'), ('year', '1923')]\n",
      "[('s', 'http://www.wikidata.org/entity/Q2887216'), ('name', 'BC Orchies'), ('year', '1922')]\n",
      "[('s', 'http://www.wikidata.org/entity/Q638938'), ('name', 'Paris Basket Racing'), ('year', '1922')]\n",
      "[('s', 'http://www.wikidata.org/entity/Q3592481'), ('name', 'Étoile de Charleville-Mézières'), ('year', '1921')]\n",
      "[('s', 'http://www.wikidata.org/entity/Q1415460'), ('name', 'Clermont UC'), ('year', '1921')]\n",
      "[('s', 'http://www.wikidata.org/entity/Q2930983'), ('name', 'CAUFA Reims'), ('year', '1919')]\n",
      "[('s', 'http://www.wikidata.org/entity/Q3459221'), ('name', 'Stade Auto Lyon'), ('year', '1916')]\n",
      "[('s', 'http://www.wikidata.org/entity/Q3076509'), ('name', 'FC Grenoble'), ('year', '1911')]\n",
      "[('s', 'http://www.wikidata.org/entity/Q1630650'), ('name', 'JL Bourg-en-Bresse'), ('year', '1910')]\n",
      "[('s', 'http://www.wikidata.org/entity/Q783067'), ('name', 'Alsace de Bagnolet'), ('year', '1908')]\n",
      "[('s', 'http://www.wikidata.org/entity/Q2955800'), ('name', 'Championnet Sports'), ('year', '1907')]\n",
      "[('s', 'http://www.wikidata.org/entity/Q2892731'), ('name', 'Paris Université Club'), ('year', '1906')]\n",
      "[('s', 'http://www.wikidata.org/entity/Q1630255'), ('name', 'SPO Rouen Basket'), ('year', '1892')]\n",
      "[('s', 'http://www.wikidata.org/entity/Q3134233'), ('name', 'Hermine de Nantes Atlantique'), ('year', '1891')]\n",
      "[('s', 'http://www.wikidata.org/entity/Q3496108'), ('name', 'Stade Français'), ('year', '1883')]\n",
      "[('s', 'http://www.wikidata.org/entity/Q1682230'), ('name', 'JDA Dijon Basket'), ('year', '1880')]\n",
      "26\n"
     ]
    }
   ],
   "source": [
    "queryString = \"\"\"\n",
    "SELECT ?s ?name ?year\n",
    "WHERE {\n",
    "\n",
    "    # Get the label of all basketball teams\n",
    "    ?s wdt:P31 wd:Q13393265.\n",
    "    ?s sc:name ?name.\n",
    "    \n",
    "    # Get the country of all basketball teams\n",
    "    ?s wdt:P17 ?co.\n",
    "    ?co sc:name ?country.\n",
    "    \n",
    "    # Get the year of born of all basketball teams\n",
    "    ?s wdt:P571 ?date.\n",
    "    \n",
    "    BIND(strbefore(str(?date), \"-\") AS ?year).\n",
    "    \n",
    "    # Filter the country and year\n",
    "    FILTER(str(?country) = \"France\" && str(?year) < \"1930\").\n",
    "    \n",
    "} ORDER BY DESC(?year)\n",
    "LIMIT 100\n",
    "\"\"\"\n",
    "\n",
    "print(\"Results\")\n",
    "x=run_query(queryString)"
   ]
  },
  {
   "cell_type": "markdown",
   "id": "bdb280fb",
   "metadata": {},
   "source": [
    "## Task 5\n",
    "Return all the NBA season (the result set must be a list of couples NBA season IRI, label)"
   ]
  },
  {
   "cell_type": "code",
   "execution_count": 126,
   "id": "0ee5aa56",
   "metadata": {},
   "outputs": [
    {
     "name": "stdout",
     "output_type": "stream",
     "text": [
      "Results\n",
      "[('s', 'http://www.wikidata.org/entity/Q600389'), ('name', '1990–91 NBA season')]\n",
      "[('s', 'http://www.wikidata.org/entity/Q2264531'), ('name', '1967–68 NBA season')]\n",
      "[('s', 'http://www.wikidata.org/entity/Q241834'), ('name', '1989–90 NBA season')]\n",
      "[('s', 'http://www.wikidata.org/entity/Q602553'), ('name', '1969–70 NBA season')]\n",
      "[('s', 'http://www.wikidata.org/entity/Q2294127'), ('name', '1971–72 NBA season')]\n",
      "[('s', 'http://www.wikidata.org/entity/Q113619'), ('name', '2012–13 NBA season')]\n",
      "[('s', 'http://www.wikidata.org/entity/Q16191100'), ('name', '2014-15 NBA season')]\n",
      "[('s', 'http://www.wikidata.org/entity/Q19862716'), ('name', '2015–16 NBA season')]\n",
      "[('s', 'http://www.wikidata.org/entity/Q631240'), ('name', '1979–80 NBA season')]\n",
      "[('s', 'http://www.wikidata.org/entity/Q1142320'), ('name', '2005–06 NBA season')]\n",
      "[('s', 'http://www.wikidata.org/entity/Q281094'), ('name', '1949–50 NBA season')]\n",
      "[('s', 'http://www.wikidata.org/entity/Q52702755'), ('name', '2018–19 NBA season')]\n",
      "[('s', 'http://www.wikidata.org/entity/Q1121549'), ('name', '2007–08 NBA season')]\n",
      "[('s', 'http://www.wikidata.org/entity/Q1432855'), ('name', '2003 WNBA season')]\n",
      "[('s', 'http://www.wikidata.org/entity/Q1517510'), ('name', '2004 WNBA season')]\n",
      "[('s', 'http://www.wikidata.org/entity/Q2264502'), ('name', '1961–62 NBA season')]\n",
      "[('s', 'http://www.wikidata.org/entity/Q2069853'), ('name', '1983–84 NBA season')]\n",
      "[('s', 'http://www.wikidata.org/entity/Q2264540'), ('name', '1975–76 NBA season')]\n",
      "[('s', 'http://www.wikidata.org/entity/Q548783'), ('name', '1977–78 NBA season')]\n",
      "[('s', 'http://www.wikidata.org/entity/Q29098111'), ('name', '2017–18 NBA season')]\n",
      "20\n"
     ]
    }
   ],
   "source": [
    "queryString = \"\"\"\n",
    "SELECT ?s ?name\n",
    "WHERE {\n",
    "    \n",
    "    ?s wdt:P31 wd:Q27020041.\n",
    "    ?s sc:name ?name.\n",
    "    \n",
    "    FILTER REGEX((?name), \"NBA season\").\n",
    "   \n",
    "} \n",
    "LIMIT 20\n",
    "\"\"\"\n",
    "\n",
    "print(\"Results\")\n",
    "x=run_query(queryString)"
   ]
  },
  {
   "cell_type": "markdown",
   "id": "434e9c62",
   "metadata": {},
   "source": [
    "Final query for this task"
   ]
  },
  {
   "cell_type": "code",
   "execution_count": 83,
   "id": "bd41d447",
   "metadata": {},
   "outputs": [
    {
     "name": "stdout",
     "output_type": "stream",
     "text": [
      "Results\n",
      "[('s', 'http://www.wikidata.org/entity/Q281094'), ('name', '1949–50 NBA season')]\n",
      "[('s', 'http://www.wikidata.org/entity/Q1999363'), ('name', '1950–51 NBA season')]\n",
      "[('s', 'http://www.wikidata.org/entity/Q2001832'), ('name', '1951–52 NBA season')]\n",
      "[('s', 'http://www.wikidata.org/entity/Q1999389'), ('name', '1952–53 NBA season')]\n",
      "[('s', 'http://www.wikidata.org/entity/Q1999399'), ('name', '1953–54 NBA season')]\n",
      "[('s', 'http://www.wikidata.org/entity/Q2264571'), ('name', '1954–55 NBA season')]\n",
      "[('s', 'http://www.wikidata.org/entity/Q2264563'), ('name', '1955–56 NBA season')]\n",
      "[('s', 'http://www.wikidata.org/entity/Q2264490'), ('name', '1956–57 NBA season')]\n",
      "[('s', 'http://www.wikidata.org/entity/Q2264605'), ('name', '1957–58 NBA season')]\n",
      "[('s', 'http://www.wikidata.org/entity/Q2264639'), ('name', '1958–59 NBA season')]\n",
      "[('s', 'http://www.wikidata.org/entity/Q2069909'), ('name', '1959–60 NBA season')]\n",
      "[('s', 'http://www.wikidata.org/entity/Q2264512'), ('name', '1960–61 NBA season')]\n",
      "[('s', 'http://www.wikidata.org/entity/Q2264502'), ('name', '1961–62 NBA season')]\n",
      "[('s', 'http://www.wikidata.org/entity/Q2264617'), ('name', '1962–63 NBA season')]\n",
      "[('s', 'http://www.wikidata.org/entity/Q2264522'), ('name', '1963–64 NBA season')]\n",
      "[('s', 'http://www.wikidata.org/entity/Q2264628'), ('name', '1964–65 NBA season')]\n",
      "[('s', 'http://www.wikidata.org/entity/Q1464834'), ('name', '1965–66 NBA season')]\n",
      "[('s', 'http://www.wikidata.org/entity/Q2294141'), ('name', '1966–67 NBA season')]\n",
      "[('s', 'http://www.wikidata.org/entity/Q2264531'), ('name', '1967–68 NBA season')]\n",
      "[('s', 'http://www.wikidata.org/entity/Q2264593'), ('name', '1968–69 NBA season')]\n",
      "20\n"
     ]
    }
   ],
   "source": [
    "queryString = \"\"\"\n",
    "SELECT ?s ?name\n",
    "WHERE {\n",
    "    \n",
    "    # Get the label of all sports seasons\n",
    "    ?s wdt:P31 wd:Q27020041.\n",
    "    ?s sc:name ?name.\n",
    "    \n",
    "    # Filter NBA seasons\n",
    "    FILTER REGEX((?name), \"NBA season\").\n",
    "   \n",
    "} ORDER BY ?name\n",
    "LIMIT 20\n",
    "\"\"\"\n",
    "\n",
    "print(\"Results\")\n",
    "x=run_query(queryString)"
   ]
  },
  {
   "cell_type": "markdown",
   "id": "440b4faa",
   "metadata": {},
   "source": [
    "## Task 6\n",
    "Consider only the basketball teams which Michael Jordan and Kobe Bryant played. Return the number of NBA seasons won by these teams (the result set must be a list of triples basketball team IRI, label and #victories. Return a number for each basketball team even if they never won a season)."
   ]
  },
  {
   "cell_type": "code",
   "execution_count": 48,
   "id": "3f1ecc06",
   "metadata": {},
   "outputs": [
    {
     "name": "stdout",
     "output_type": "stream",
     "text": [
      "Results\n",
      "[('o', 'http://www.wikidata.org/entity/Q128109'), ('name', 'Chicago Bulls'), ('o1', 'http://www.wikidata.org/entity/Q121783'), ('name1', 'Los Angeles Lakers')]\n",
      "[('o', 'http://www.wikidata.org/entity/Q169165'), ('name', 'Washington Wizards'), ('o1', 'http://www.wikidata.org/entity/Q121783'), ('name1', 'Los Angeles Lakers')]\n",
      "[('o', 'http://www.wikidata.org/entity/Q2747877'), ('name', 'Birmingham Barons'), ('o1', 'http://www.wikidata.org/entity/Q121783'), ('name1', 'Los Angeles Lakers')]\n",
      "[('o', 'http://www.wikidata.org/entity/Q3476102'), ('name', 'Scottsdale Scorpions'), ('o1', 'http://www.wikidata.org/entity/Q121783'), ('name1', 'Los Angeles Lakers')]\n",
      "[('o', 'http://www.wikidata.org/entity/Q4412061'), ('name', \"North Carolina Tar Heels men's basketball\"), ('o1', 'http://www.wikidata.org/entity/Q121783'), ('name1', 'Los Angeles Lakers')]\n",
      "5\n"
     ]
    }
   ],
   "source": [
    "queryString = \"\"\"\n",
    "SELECT ?o ?name ?o1 ?name1\n",
    "WHERE {\n",
    "    \n",
    "    wd:Q41421 wdt:P54 ?o.\n",
    "    ?o sc:name ?name.\n",
    "    \n",
    "    wd:Q25369 wdt:P54 ?o1.\n",
    "    ?o1 sc:name ?name1.\n",
    "   \n",
    "} \n",
    "LIMIT 50\n",
    "\"\"\"\n",
    "\n",
    "print(\"Results\")\n",
    "x=run_query(queryString)"
   ]
  },
  {
   "cell_type": "markdown",
   "id": "0a1b7381",
   "metadata": {},
   "source": [
    "Final query for this task"
   ]
  },
  {
   "cell_type": "code",
   "execution_count": 131,
   "id": "d4bb8a0e",
   "metadata": {},
   "outputs": [
    {
     "name": "stdout",
     "output_type": "stream",
     "text": [
      "Results\n",
      "[('o', 'http://www.wikidata.org/entity/Q128109'), ('name', 'Chicago Bulls'), ('o1', 'http://www.wikidata.org/entity/Q121783'), ('name1', 'Los Angeles Lakers')]\n",
      "[('o', 'http://www.wikidata.org/entity/Q169165'), ('name', 'Washington Wizards'), ('o1', 'http://www.wikidata.org/entity/Q121783'), ('name1', 'Los Angeles Lakers')]\n",
      "[('o', 'http://www.wikidata.org/entity/Q2747877'), ('name', 'Birmingham Barons'), ('o1', 'http://www.wikidata.org/entity/Q121783'), ('name1', 'Los Angeles Lakers')]\n",
      "[('o', 'http://www.wikidata.org/entity/Q3476102'), ('name', 'Scottsdale Scorpions'), ('o1', 'http://www.wikidata.org/entity/Q121783'), ('name1', 'Los Angeles Lakers')]\n",
      "[('o', 'http://www.wikidata.org/entity/Q4412061'), ('name', \"North Carolina Tar Heels men's basketball\"), ('o1', 'http://www.wikidata.org/entity/Q121783'), ('name1', 'Los Angeles Lakers')]\n",
      "5\n"
     ]
    }
   ],
   "source": [
    "queryString = \"\"\"\n",
    "SELECT ?o ?name ?o1 ?name1\n",
    "WHERE {\n",
    "    \n",
    "    # Get all the teams Michael Jordan played\n",
    "    wd:Q41421 wdt:P54 ?o.\n",
    "    ?o sc:name ?name.\n",
    "    \n",
    "    # Get all the teams Kobe Bryant played\n",
    "    wd:Q25369 wdt:P54 ?o1.\n",
    "    ?o1 sc:name ?name1.\n",
    "   \n",
    "} \n",
    "LIMIT 50\n",
    "\"\"\"\n",
    "\n",
    "print(\"Results\")\n",
    "x=run_query(queryString)"
   ]
  },
  {
   "cell_type": "markdown",
   "id": "1dbca5fa",
   "metadata": {},
   "source": [
    "## Task 7\n",
    "Consider only NBA (National Basketball Association) basketball teams and all basketball players who played in one of these teams at least once. Also consider the country of citizenship of the players with the related continent. Return for each continent the number of players who played in an NBA basketball teams. (the result set must be triples of continent IRI, label and #players)"
   ]
  },
  {
   "cell_type": "code",
   "execution_count": 59,
   "id": "7d6545f6",
   "metadata": {},
   "outputs": [
    {
     "name": "stdout",
     "output_type": "stream",
     "text": [
      "Results\n",
      "[('cont', 'http://www.wikidata.org/entity/Q18'), ('continent', 'South America'), ('Numplayer', '80')]\n",
      "[('cont', 'http://www.wikidata.org/entity/Q538'), ('continent', 'Insular Oceania'), ('Numplayer', '9361')]\n",
      "[('cont', 'http://www.wikidata.org/entity/Q49'), ('continent', 'North America'), ('Numplayer', '9530')]\n",
      "[('cont', 'http://www.wikidata.org/entity/Q46'), ('continent', 'Europe'), ('Numplayer', '792')]\n",
      "[('cont', 'http://www.wikidata.org/entity/Q5401'), ('continent', 'Eurasia'), ('Numplayer', '45')]\n",
      "[('cont', 'http://www.wikidata.org/entity/Q48'), ('continent', 'Asia'), ('Numplayer', '178')]\n",
      "[('cont', 'http://www.wikidata.org/entity/Q15'), ('continent', 'Africa'), ('Numplayer', '131')]\n",
      "7\n"
     ]
    }
   ],
   "source": [
    "queryString = \"\"\"\n",
    "SELECT ?cont ?continent (count(?s) AS ?Numplayer)\n",
    "WHERE {\n",
    "    \n",
    "    ?s wdt:P106 wd:Q3665646.\n",
    "    ?s sc:name ?name.\n",
    "    \n",
    "    ?s wdt:P54 ?teams.\n",
    "    ?teams sc:name ?team.\n",
    "    \n",
    "    ?nbateam wdt:P118 wd:Q155223.\n",
    "    ?nbateam sc:name ?nba.\n",
    "    \n",
    "    ?s wdt:P27 ?co.\n",
    "    ?co sc:name ?country.\n",
    "    \n",
    "    ?co wdt:P30 ?cont.\n",
    "    ?cont sc:name ?continent.\n",
    "    \n",
    "    FILTER(?team = ?nba).\n",
    "   \n",
    "} GROUP BY ?cont ?continent\n",
    "LIMIT 50\n",
    "\"\"\"\n",
    "\n",
    "print(\"Results\")\n",
    "x=run_query(queryString)"
   ]
  },
  {
   "cell_type": "markdown",
   "id": "00889aae",
   "metadata": {},
   "source": [
    "Final query for this task"
   ]
  },
  {
   "cell_type": "code",
   "execution_count": 84,
   "id": "6852d98e",
   "metadata": {},
   "outputs": [
    {
     "name": "stdout",
     "output_type": "stream",
     "text": [
      "Results\n",
      "[('cont', 'http://www.wikidata.org/entity/Q18'), ('continent', 'South America'), ('Numplayer', '80')]\n",
      "[('cont', 'http://www.wikidata.org/entity/Q538'), ('continent', 'Insular Oceania'), ('Numplayer', '9361')]\n",
      "[('cont', 'http://www.wikidata.org/entity/Q49'), ('continent', 'North America'), ('Numplayer', '9530')]\n",
      "[('cont', 'http://www.wikidata.org/entity/Q46'), ('continent', 'Europe'), ('Numplayer', '792')]\n",
      "[('cont', 'http://www.wikidata.org/entity/Q5401'), ('continent', 'Eurasia'), ('Numplayer', '45')]\n",
      "[('cont', 'http://www.wikidata.org/entity/Q48'), ('continent', 'Asia'), ('Numplayer', '178')]\n",
      "[('cont', 'http://www.wikidata.org/entity/Q15'), ('continent', 'Africa'), ('Numplayer', '131')]\n",
      "7\n"
     ]
    }
   ],
   "source": [
    "queryString = \"\"\"\n",
    "SELECT ?cont ?continent (count(?s) AS ?Numplayer)\n",
    "WHERE {\n",
    "    \n",
    "    # Get the list of all basketball players\n",
    "    ?s wdt:P106 wd:Q3665646.\n",
    "    ?s sc:name ?name.\n",
    "    \n",
    "    # Get the sports teams for each player\n",
    "    ?s wdt:P54 ?teams.\n",
    "    ?teams sc:name ?team.\n",
    "    \n",
    "    # Get the NBA teams names\n",
    "    ?nbateam wdt:P118 wd:Q155223.\n",
    "    ?nbateam sc:name ?nba.\n",
    "    \n",
    "    # Get the citizenship of each player\n",
    "    ?s wdt:P27 ?co.\n",
    "    ?co sc:name ?country.\n",
    "    \n",
    "    # Get the continent of each country\n",
    "    ?co wdt:P30 ?cont.\n",
    "    ?cont sc:name ?continent.\n",
    "    \n",
    "    # filter all the nba teams out of all the sports teams\n",
    "    FILTER(?team = ?nba).\n",
    "   \n",
    "} GROUP BY ?cont ?continent\n",
    "LIMIT 50\n",
    "\"\"\"\n",
    "\n",
    "print(\"Results\")\n",
    "x=run_query(queryString)"
   ]
  },
  {
   "cell_type": "markdown",
   "id": "cc42e632",
   "metadata": {},
   "source": [
    "## Task 8\n",
    "Identify the BGP for the NBA Defensive Player of the Year Award (see https://en.wikipedia.org/wiki/NBA_Defensive_Player_of_the_Year_Award)"
   ]
  },
  {
   "cell_type": "code",
   "execution_count": 88,
   "id": "57a8231a",
   "metadata": {},
   "outputs": [
    {
     "name": "stdout",
     "output_type": "stream",
     "text": [
      "Results\n",
      "[('o', 'http://www.wikidata.org/entity/Q1061233'), ('name', \"L'Équipe Champion of Champions\")]\n",
      "[('o', 'http://www.wikidata.org/entity/Q131524'), ('name', 'entrepreneur')]\n",
      "[('o', 'http://www.wikidata.org/entity/Q15304953'), ('name', 'WikiProject African diaspora')]\n",
      "[('o', 'http://www.wikidata.org/entity/Q17144'), ('name', 'Presidential Medal of Freedom')]\n",
      "[('o', 'http://www.wikidata.org/entity/Q1860'), ('name', 'English')]\n",
      "[('o', 'http://www.wikidata.org/entity/Q18814623'), ('name', 'autobiographer')]\n",
      "[('o', 'http://www.wikidata.org/entity/Q30'), ('name', 'United States of America')]\n",
      "[('o', 'http://www.wikidata.org/entity/Q30'), ('name', 'United States of America')]\n",
      "[('o', 'http://www.wikidata.org/entity/Q3039938'), ('name', 'right-handedness')]\n",
      "[('o', 'http://www.wikidata.org/entity/Q33999'), ('name', 'actor')]\n",
      "[('o', 'http://www.wikidata.org/entity/Q3665646'), ('name', 'basketball player')]\n",
      "[('o', 'http://www.wikidata.org/entity/Q49085'), ('name', 'African Americans')]\n",
      "[('o', 'http://www.wikidata.org/entity/Q4927524'), ('name', 'Michael')]\n",
      "[('o', 'http://www.wikidata.org/entity/Q5'), ('name', 'human')]\n",
      "[('o', 'http://www.wikidata.org/entity/Q5369'), ('name', 'baseball')]\n",
      "[('o', 'http://www.wikidata.org/entity/Q5372'), ('name', 'basketball')]\n",
      "[('o', 'http://www.wikidata.org/entity/Q6581097'), ('name', 'male')]\n",
      "[('o', 'http://www.wikidata.org/entity/Q67311526'), ('name', 'Obalky knih.cz')]\n",
      "[('o', 'http://www.wikidata.org/entity/Q8488'), ('name', '1992 Summer Olympics')]\n",
      "[('o', 'http://www.wikidata.org/entity/Q918534'), ('name', 'Laureus World Sports Award for Comeback of the Year')]\n",
      "[('o', 'http://www.wikidata.org/entity/Q94861615'), ('name', \"NCAA Division I men's basketball\")]\n",
      "[('o', 'http://www.wikidata.org/entity/Q10871364'), ('name', 'baseball player')]\n",
      "[('o', 'http://www.wikidata.org/entity/Q18419'), ('name', 'Brooklyn')]\n",
      "[('o', 'http://www.wikidata.org/entity/Q18419'), ('name', 'Brooklyn')]\n",
      "[('o', 'http://www.wikidata.org/entity/Q155223'), ('name', 'National Basketball Association')]\n",
      "[('o', 'http://www.wikidata.org/entity/Q17221'), ('name', 'spokesperson')]\n",
      "[('o', 'http://www.wikidata.org/entity/Q192334'), ('name', 'University of North Carolina at Chapel Hill')]\n",
      "[('o', 'http://www.wikidata.org/entity/Q273199'), ('name', 'shooting guard')]\n",
      "[('o', 'http://www.wikidata.org/entity/Q308879'), ('name', 'small forward')]\n",
      "[('o', 'http://www.wikidata.org/entity/Q743122'), ('name', 'Associated Press Athlete of the Year')]\n",
      "[('o', 'http://www.wikidata.org/entity/Q107325744'), ('name', 'Jasmine M. Jordan')]\n",
      "[('o', 'http://www.wikidata.org/entity/Q1119624'), ('name', 'Stan Albeck')]\n",
      "[('o', 'http://www.wikidata.org/entity/Q11310897'), ('name', 'Jordan Rules')]\n",
      "[('o', 'http://www.wikidata.org/entity/Q1142885'), ('name', 'outfielder')]\n",
      "[('o', 'http://www.wikidata.org/entity/Q128109'), ('name', 'Chicago Bulls')]\n",
      "[('o', 'http://www.wikidata.org/entity/Q128109'), ('name', 'Chicago Bulls')]\n",
      "[('o', 'http://www.wikidata.org/entity/Q13028078'), ('name', 'Jeffrey')]\n",
      "[('o', 'http://www.wikidata.org/entity/Q134183'), ('name', 'Magic Johnson')]\n",
      "[('o', 'http://www.wikidata.org/entity/Q137003'), ('name', '50 Greatest Players in NBA History')]\n",
      "[('o', 'http://www.wikidata.org/entity/Q1418009'), ('name', 'NBA All-Rookie Team')]\n",
      "[('o', 'http://www.wikidata.org/entity/Q1465181'), ('name', 'NBA All-Defensive Team')]\n",
      "[('o', 'http://www.wikidata.org/entity/Q163480'), ('name', 'Charlotte Hornets')]\n",
      "[('o', 'http://www.wikidata.org/entity/Q1641970'), ('name', 'John R. Wooden Award')]\n",
      "[('o', 'http://www.wikidata.org/entity/Q1653207'), ('name', 'Sports Illustrated Sportsperson of the Year')]\n",
      "[('o', 'http://www.wikidata.org/entity/Q169165'), ('name', 'Washington Wizards')]\n",
      "[('o', 'http://www.wikidata.org/entity/Q1703599'), ('name', 'Jordan')]\n",
      "[('o', 'http://www.wikidata.org/entity/Q1985121'), ('name', '1992 Tournament of the Americas')]\n",
      "[('o', 'http://www.wikidata.org/entity/Q202584'), ('name', 'Dean Smith')]\n",
      "[('o', 'http://www.wikidata.org/entity/Q209921'), ('name', 'Julius Erving')]\n",
      "[('o', 'http://www.wikidata.org/entity/Q2136108'), ('name', 'Michael Jeffrey')]\n",
      "50\n"
     ]
    }
   ],
   "source": [
    "queryString = \"\"\"\n",
    "SELECT ?o ?name\n",
    "WHERE {\n",
    "    \n",
    "    wd:Q41421 ?p ?o.\n",
    "    ?o sc:name ?name.\n",
    "    \n",
    "    #FILTER REGEX(?name, \"Defensive\").\n",
    "   \n",
    "} \n",
    "LIMIT 50\n",
    "\"\"\"\n",
    "\n",
    "print(\"Results\")\n",
    "x=run_query(queryString)"
   ]
  },
  {
   "cell_type": "markdown",
   "id": "9545a49e",
   "metadata": {},
   "source": [
    "Final query for this task"
   ]
  },
  {
   "cell_type": "code",
   "execution_count": null,
   "id": "c5b0f6ae",
   "metadata": {},
   "outputs": [
    {
     "name": "stdout",
     "output_type": "stream",
     "text": [
      "Results\n",
      "[('p', 'http://www.wikidata.org/prop/direct/P1346'), ('property', 'winner')]\n",
      "[('p', 'http://www.wikidata.org/prop/direct/P1346'), ('property', 'winner')]\n",
      "[('p', 'http://www.wikidata.org/prop/direct/P1346'), ('property', 'winner')]\n",
      "[('p', 'http://www.wikidata.org/prop/direct/P1346'), ('property', 'winner')]\n",
      "[('p', 'http://www.wikidata.org/prop/direct/P1346'), ('property', 'winner')]\n",
      "[('p', 'http://www.wikidata.org/prop/direct/P1346'), ('property', 'winner')]\n",
      "[('p', 'http://www.wikidata.org/prop/direct/P1346'), ('property', 'winner')]\n",
      "[('p', 'http://www.wikidata.org/prop/direct/P1346'), ('property', 'winner')]\n",
      "[('p', 'http://www.wikidata.org/prop/direct/P1346'), ('property', 'winner')]\n",
      "[('p', 'http://www.wikidata.org/prop/direct/P1346'), ('property', 'winner')]\n",
      "[('p', 'http://www.wikidata.org/prop/direct/P1346'), ('property', 'winner')]\n",
      "[('p', 'http://www.wikidata.org/prop/direct/P1346'), ('property', 'winner')]\n",
      "[('p', 'http://www.wikidata.org/prop/direct/P1346'), ('property', 'winner')]\n",
      "[('p', 'http://www.wikidata.org/prop/direct/P1346'), ('property', 'winner')]\n",
      "[('p', 'http://www.wikidata.org/prop/direct/P1346'), ('property', 'winner')]\n",
      "[('p', 'http://www.wikidata.org/prop/direct/P1346'), ('property', 'winner')]\n",
      "[('p', 'http://www.wikidata.org/prop/direct/P1346'), ('property', 'winner')]\n",
      "[('p', 'http://www.wikidata.org/prop/direct/P1346'), ('property', 'winner')]\n",
      "[('p', 'http://www.wikidata.org/prop/direct/P1346'), ('property', 'winner')]\n",
      "[('p', 'http://www.wikidata.org/prop/direct/P1346'), ('property', 'winner')]\n",
      "[('p', 'http://www.wikidata.org/prop/direct/P31'), ('property', 'instance of')]\n",
      "[('p', 'http://www.wikidata.org/prop/direct/P31'), ('property', 'instance of')]\n",
      "[('p', 'http://www.wikidata.org/prop/direct/P31'), ('property', 'instance of')]\n",
      "[('p', 'http://www.wikidata.org/prop/direct/P571'), ('property', 'inception')]\n",
      "[('p', 'http://www.wikidata.org/prop/direct/P641'), ('property', 'sport')]\n",
      "[('p', 'http://www.wikidata.org/prop/direct/P646'), ('property', 'Freebase ID')]\n",
      "26\n"
     ]
    }
   ],
   "source": [
    "queryString = \"\"\"\n",
    "SELECT ?p ?property\n",
    "WHERE {\n",
    "    \n",
    "    \n",
    "    #BGP for the NBA Defensive Player of the Year Award\n",
    "    wd:Q845884 ?p ?obj.\n",
    "    ?p sc:name ?property.\n",
    "   \n",
    "} \n",
    "LIMIT 100\n",
    "\"\"\"\n",
    "\n",
    "print(\"Results\")\n",
    "x=run_query(queryString)"
   ]
  },
  {
   "cell_type": "markdown",
   "id": "678cba6b",
   "metadata": {},
   "source": [
    "## Task 9\n",
    "Consider the players who won the NBA Defensive Player of the Year Award. Return for these players the number of NBA Defensive Player of the Year Award won in their career (the result set must be triples of player IRI, label and #victories)"
   ]
  },
  {
   "cell_type": "code",
   "execution_count": 89,
   "id": "f368676b",
   "metadata": {},
   "outputs": [
    {
     "name": "stdout",
     "output_type": "stream",
     "text": [
      "Results\n",
      "[('p', 'http://www.wikidata.org/prop/direct/P1346'), ('name', 'winner')]\n",
      "[('p', 'http://www.wikidata.org/prop/direct/P1346'), ('name', 'winner')]\n",
      "[('p', 'http://www.wikidata.org/prop/direct/P1346'), ('name', 'winner')]\n",
      "[('p', 'http://www.wikidata.org/prop/direct/P1346'), ('name', 'winner')]\n",
      "[('p', 'http://www.wikidata.org/prop/direct/P1346'), ('name', 'winner')]\n",
      "[('p', 'http://www.wikidata.org/prop/direct/P1346'), ('name', 'winner')]\n",
      "[('p', 'http://www.wikidata.org/prop/direct/P1346'), ('name', 'winner')]\n",
      "[('p', 'http://www.wikidata.org/prop/direct/P1346'), ('name', 'winner')]\n",
      "[('p', 'http://www.wikidata.org/prop/direct/P1346'), ('name', 'winner')]\n",
      "[('p', 'http://www.wikidata.org/prop/direct/P1346'), ('name', 'winner')]\n",
      "[('p', 'http://www.wikidata.org/prop/direct/P1346'), ('name', 'winner')]\n",
      "[('p', 'http://www.wikidata.org/prop/direct/P1346'), ('name', 'winner')]\n",
      "[('p', 'http://www.wikidata.org/prop/direct/P1346'), ('name', 'winner')]\n",
      "[('p', 'http://www.wikidata.org/prop/direct/P1346'), ('name', 'winner')]\n",
      "[('p', 'http://www.wikidata.org/prop/direct/P1346'), ('name', 'winner')]\n",
      "[('p', 'http://www.wikidata.org/prop/direct/P1346'), ('name', 'winner')]\n",
      "[('p', 'http://www.wikidata.org/prop/direct/P1346'), ('name', 'winner')]\n",
      "[('p', 'http://www.wikidata.org/prop/direct/P1346'), ('name', 'winner')]\n",
      "[('p', 'http://www.wikidata.org/prop/direct/P1346'), ('name', 'winner')]\n",
      "[('p', 'http://www.wikidata.org/prop/direct/P1346'), ('name', 'winner')]\n",
      "[('p', 'http://www.wikidata.org/prop/direct/P31'), ('name', 'instance of')]\n",
      "[('p', 'http://www.wikidata.org/prop/direct/P31'), ('name', 'instance of')]\n",
      "[('p', 'http://www.wikidata.org/prop/direct/P31'), ('name', 'instance of')]\n",
      "[('p', 'http://www.wikidata.org/prop/direct/P571'), ('name', 'inception')]\n",
      "[('p', 'http://www.wikidata.org/prop/direct/P641'), ('name', 'sport')]\n",
      "[('p', 'http://www.wikidata.org/prop/direct/P646'), ('name', 'Freebase ID')]\n",
      "26\n"
     ]
    }
   ],
   "source": [
    "queryString = \"\"\"\n",
    "SELECT ?p ?name\n",
    "WHERE {\n",
    "    \n",
    "    wd:Q845884 ?p ?o.\n",
    "    ?p sc:name ?name.\n",
    "    \n",
    " \n",
    "} \n",
    "LIMIT 100\n",
    "\"\"\"\n",
    "\n",
    "print(\"Results\")\n",
    "x=run_query(queryString)"
   ]
  },
  {
   "cell_type": "markdown",
   "id": "e611b77c",
   "metadata": {},
   "source": [
    "Final query for this task"
   ]
  },
  {
   "cell_type": "code",
   "execution_count": 133,
   "id": "ec4ade0b",
   "metadata": {},
   "outputs": [
    {
     "name": "stdout",
     "output_type": "stream",
     "text": [
      "Results\n",
      "[('o', 'http://www.wikidata.org/entity/Q41421'), ('name', 'Michael Jordan'), ('victories', '1')]\n",
      "[('o', 'http://www.wikidata.org/entity/Q357757'), ('name', 'Mark Eaton'), ('victories', '1')]\n",
      "[('o', 'http://www.wikidata.org/entity/Q361134'), ('name', 'Marcus Camby'), ('victories', '1')]\n",
      "[('o', 'http://www.wikidata.org/entity/Q201608'), ('name', 'Dennis Rodman'), ('victories', '1')]\n",
      "[('o', 'http://www.wikidata.org/entity/Q310968'), ('name', 'Alonzo Mourning'), ('victories', '1')]\n",
      "[('o', 'http://www.wikidata.org/entity/Q275889'), ('name', 'Marc Gasol'), ('victories', '1')]\n",
      "[('o', 'http://www.wikidata.org/entity/Q295322'), ('name', 'Metta Sandiford-Artest'), ('victories', '1')]\n",
      "[('o', 'http://www.wikidata.org/entity/Q311735'), ('name', 'Joakim Noah'), ('victories', '1')]\n",
      "[('o', 'http://www.wikidata.org/entity/Q211876'), ('name', 'David Robinson'), ('victories', '1')]\n",
      "[('o', 'http://www.wikidata.org/entity/Q926248'), ('name', 'Kawhi Leonard'), ('victories', '1')]\n",
      "[('o', 'http://www.wikidata.org/entity/Q25278'), ('name', 'Dwight Howard'), ('victories', '1')]\n",
      "[('o', 'http://www.wikidata.org/entity/Q309872'), ('name', 'Gary Payton'), ('victories', '1')]\n",
      "[('o', 'http://www.wikidata.org/entity/Q297146'), ('name', 'Tyson Chandler'), ('victories', '1')]\n",
      "[('o', 'http://www.wikidata.org/entity/Q177928'), ('name', 'Sidney Moncrief'), ('victories', '1')]\n",
      "[('o', 'http://www.wikidata.org/entity/Q273256'), ('name', 'Hakeem Olajuwon'), ('victories', '1')]\n",
      "[('o', 'http://www.wikidata.org/entity/Q295364'), ('name', 'Ben Wallace'), ('victories', '1')]\n",
      "[('o', 'http://www.wikidata.org/entity/Q971538'), ('name', 'Michael Cooper'), ('victories', '1')]\n",
      "[('o', 'http://www.wikidata.org/entity/Q189240'), ('name', 'Kevin Garnett'), ('victories', '1')]\n",
      "[('o', 'http://www.wikidata.org/entity/Q449245'), ('name', 'Alvin Robertson'), ('victories', '1')]\n",
      "[('o', 'http://www.wikidata.org/entity/Q313481'), ('name', 'Dikembe Mutombo'), ('victories', '1')]\n",
      "20\n"
     ]
    }
   ],
   "source": [
    "queryString = \"\"\"\n",
    "SELECT ?o ?name (count(?name) AS ?victories)\n",
    "WHERE {\n",
    "    \n",
    "    # Get the winners of NBA Defensive Player of the Year Award and count\n",
    "    wd:Q845884 wdt:P1346 ?o.\n",
    "    ?o sc:name ?name.\n",
    "\n",
    "    \n",
    "} GROUP BY ?o ?name\n",
    "LIMIT 100\n",
    "\"\"\"\n",
    "\n",
    "print(\"Results\")\n",
    "x=run_query(queryString)"
   ]
  },
  {
   "cell_type": "code",
   "execution_count": null,
   "id": "e9efc21f-0627-472b-836c-f95cc2957f71",
   "metadata": {},
   "outputs": [],
   "source": []
  }
 ],
 "metadata": {
  "kernelspec": {
   "display_name": "Python 3 (ipykernel)",
   "language": "python",
   "name": "python3"
  },
  "language_info": {
   "codemirror_mode": {
    "name": "ipython",
    "version": 3
   },
   "file_extension": ".py",
   "mimetype": "text/x-python",
   "name": "python",
   "nbconvert_exporter": "python",
   "pygments_lexer": "ipython3",
   "version": "3.9.16"
  }
 },
 "nbformat": 4,
 "nbformat_minor": 5
}
