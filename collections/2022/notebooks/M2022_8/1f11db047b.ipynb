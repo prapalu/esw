{
 "cells": [
  {
   "cell_type": "markdown",
   "id": "077dd77c",
   "metadata": {},
   "source": [
    "\n",
    "\n",
    "# General instructions\n",
    "\n",
    "The goal of the project is to materialize a set of **exploratory workloads** over a real-world, large-scale,  open-domain KG: [WikiData](https://www.wikidata.org/wiki/Wikidata:Main_Page)\n",
    "\n",
    "An exploratory workload  is composed by a set of queries, where each query is related to the information obtained previously.\n",
    "\n",
    "An exploratory workload starts with a usually vague, open ended question, and does not assume the person issuing the workload has a clear understanding of the data contained in the target database or its structure.\n",
    "\n",
    "Remeber that:\n",
    "\n",
    "1. All the queries must run in the python notebook\n",
    "2. You can use classes and properties only if you find them via a SPARQL query that must be present in the notebook\n",
    "3. You do not delete useless queries. Keep everything that is synthatically valid \n",
    "\n",
    "```\n",
    "?p <http://schema.org/name> ?name .\n",
    "```\n",
    "    \n",
    "    is the BGP returning a human-readable name of a property or a class in Wikidata."
   ]
  },
  {
   "cell_type": "code",
   "execution_count": 231,
   "id": "94b15955",
   "metadata": {},
   "outputs": [],
   "source": [
    "## SETUP used later\n",
    "\n",
    "from SPARQLWrapper import SPARQLWrapper, JSON\n",
    "\n",
    "\n",
    "prefixString = \"\"\"\n",
    "##-1f11db047b-##\n",
    "PREFIX wd: <http://www.wikidata.org/entity/> \n",
    "PREFIX wdt: <http://www.wikidata.org/prop/direct/> \n",
    "PREFIX sc: <http://schema.org/>\n",
    "\"\"\"\n",
    "\n",
    "# select and construct queries\n",
    "def run_query(queryString,verbose = True):\n",
    "    to_run = prefixString + \"\\n\" + queryString\n",
    "\n",
    "    sparql = SPARQLWrapper(\"http://a256-gc1-03.srv.aau.dk:5820/sparql\")\n",
    "    sparql.setTimeout(300)\n",
    "    sparql.setReturnFormat(JSON)\n",
    "    sparql.setQuery(to_run)\n",
    "\n",
    "    try :\n",
    "        results = sparql.query()\n",
    "        json_results = results.convert()\n",
    "        if len(json_results['results']['bindings'])==0:\n",
    "            print(\"Empty\")\n",
    "            return []\n",
    "        array = []\n",
    "        for bindings in json_results['results']['bindings']:\n",
    "            app =  [ (var, value['value'])  for var, value in bindings.items() ] \n",
    "            if verbose:\n",
    "                print( app)\n",
    "            array.append(app)\n",
    "        if verbose:\n",
    "            print(len(array))\n",
    "        return array\n",
    "\n",
    "    except Exception as e :\n",
    "        print(\"The operation failed\", e)\n",
    "    \n",
    "# ASk queries\n",
    "def run_ask_query(queryString):\n",
    "    to_run = prefixString + \"\\n\" + queryString\n",
    "\n",
    "    sparql = SPARQLWrapper(\"http://a256-gc1-03.srv.aau.dk:5820/sparql\")\n",
    "    sparql.setTimeout(300)\n",
    "    sparql.setReturnFormat(JSON)\n",
    "    sparql.setQuery(to_run)\n",
    "\n",
    "    try :\n",
    "        return sparql.query().convert()\n",
    "\n",
    "    except Exception as e :\n",
    "        print(\"The operation failed\", e)"
   ]
  },
  {
   "cell_type": "markdown",
   "id": "3ac557cd",
   "metadata": {},
   "source": [
    "# Sport Workflow Series (\"Association Football Club explorative search\") \n",
    "\n",
    "Consider the following exploratory information need:\n",
    "\n",
    "> investigate the association football clubs and find the main BGPs related to this sport. Compare clubs in countries and championships won. Explore also the participation of the countries in the FIFA World Cup.\n",
    "\n",
    "**Important consideration: in wikidata, we are talking of ASSOCIATION FOOTBALL**"
   ]
  },
  {
   "cell_type": "markdown",
   "id": "e1315ed7",
   "metadata": {},
   "source": [
    "wdt:P279## Useful URIs for the current workflow\n",
    "The following are given:\n",
    "\n",
    "| IRI           | Description   | Role      |\n",
    "| -----------   | -----------   |-----------|\n",
    "| `wdt:P1647`   | subproperty   | predicate |\n",
    "| `wdt:P31`     | instance of   | predicate |\n",
    "| `wdt:P106`    | profession    | predicate | \n",
    "| `wdt:P279`    | subclass      | predicate |\n",
    "| `wdt:P27`     | nationality   | predicate |\n",
    "| `wd:Q5`| Human       | node |\n",
    "| `wd:Q11571`| Cristiano Ronaldo       | node |\n"
   ]
  },
  {
   "cell_type": "markdown",
   "id": "04b1d7a4",
   "metadata": {},
   "source": [
    "\n",
    "\n",
    "\n",
    "Also consider\n",
    "\n",
    "```\n",
    "wd:Q11571 ?p ?obj .\n",
    "```\n",
    "\n",
    "is the BGP to retrieve all **properties of Cristiano Ronaldo**\n",
    "\n",
    "Please consider that when you return a resource, you should return the IRI and the label of the resource. In particular, when the task require you to identify a BGP the result set must always be a list of couples IRI - label.\n",
    "\n",
    "\n",
    "\n",
    "The workload should:\n",
    "\n",
    "\n",
    "1. Identify the BGP for association football club\n",
    "\n",
    "2. Identify the BGP for association football league\n",
    "\n",
    "3. Return for each north american country the number of association football clubs\n",
    "\n",
    "4. Identify the BGP for the UEFA Champions League.\n",
    "\n",
    "5. Consider the countries which have at least two different clubs of their nationality who won the UEFA Champions League. Return the list of these countries with the number of different clubs who won the UEFA Champions League (the result set must be triples of country IRI, label and #clubs).\n",
    "\n",
    "6. Return for each european country the top level league (the result set must be a list of country IRI and label, and league IRI and label).\n",
    "\n",
    "7. Identify the BGP of the FIFA World Cup\n",
    "\n",
    "8. Consider countries who participated at the FIFA World Cup more than 10 times. Return these countries with the number of apparitions (the result set must be triples of country IRI, label and #apparitions).\n",
    "\n",
    "9. Consider the countries that won the FIFA World Cup at least twice. Find the association football clubs of those countries won the UEFA Champions League (the result set must be couples of clubs IRI and label).\n"
   ]
  },
  {
   "cell_type": "markdown",
   "id": "8cbc291e",
   "metadata": {},
   "source": [
    "## Task 1\n",
    "Identify the BGP for association football club"
   ]
  },
  {
   "cell_type": "code",
   "execution_count": 232,
   "id": "250402eb",
   "metadata": {},
   "outputs": [
    {
     "name": "stdout",
     "output_type": "stream",
     "text": [
      "Results\n",
      "[('p', 'http://www.wikidata.org/prop/direct/P1005'), ('name', 'Portuguese National Library ID')]\n",
      "[('p', 'http://www.wikidata.org/prop/direct/P1006'), ('name', 'Nationale Thesaurus voor Auteurs ID')]\n",
      "[('p', 'http://www.wikidata.org/prop/direct/P1015'), ('name', 'NORAF ID')]\n",
      "[('p', 'http://www.wikidata.org/prop/direct/P103'), ('name', 'native language')]\n",
      "[('p', 'http://www.wikidata.org/prop/direct/P1038'), ('name', 'relative')]\n",
      "[('p', 'http://www.wikidata.org/prop/direct/P1050'), ('name', 'medical condition')]\n",
      "[('p', 'http://www.wikidata.org/prop/direct/P106'), ('name', 'occupation')]\n",
      "[('p', 'http://www.wikidata.org/prop/direct/P109'), ('name', 'signature')]\n",
      "[('p', 'http://www.wikidata.org/prop/direct/P118'), ('name', 'league')]\n",
      "[('p', 'http://www.wikidata.org/prop/direct/P1263'), ('name', 'NNDB people ID')]\n",
      "[('p', 'http://www.wikidata.org/prop/direct/P1266'), ('name', 'AlloCiné person ID')]\n",
      "[('p', 'http://www.wikidata.org/prop/direct/P1273'), ('name', 'CANTIC ID')]\n",
      "[('p', 'http://www.wikidata.org/prop/direct/P1280'), ('name', 'CONOR.SI ID')]\n",
      "[('p', 'http://www.wikidata.org/prop/direct/P1284'), ('name', 'Munzinger person ID')]\n",
      "[('p', 'http://www.wikidata.org/prop/direct/P1285'), ('name', 'Munzinger Sport number')]\n",
      "[('p', 'http://www.wikidata.org/prop/direct/P1296'), ('name', 'Gran Enciclopèdia Catalana ID')]\n",
      "[('p', 'http://www.wikidata.org/prop/direct/P1343'), ('name', 'described by source')]\n",
      "[('p', 'http://www.wikidata.org/prop/direct/P1344'), ('name', 'participant in')]\n",
      "[('p', 'http://www.wikidata.org/prop/direct/P1350'), ('name', 'number of matches played/races/starts')]\n",
      "[('p', 'http://www.wikidata.org/prop/direct/P1399'), ('name', 'convicted of')]\n",
      "[('p', 'http://www.wikidata.org/prop/direct/P1411'), ('name', 'nominated for')]\n",
      "[('p', 'http://www.wikidata.org/prop/direct/P1412'), ('name', 'languages spoken, written or signed')]\n",
      "[('p', 'http://www.wikidata.org/prop/direct/P1417'), ('name', 'Encyclopædia Britannica Online ID')]\n",
      "[('p', 'http://www.wikidata.org/prop/direct/P1447'), ('name', 'Sports-Reference.com Olympic athlete ID')]\n",
      "[('p', 'http://www.wikidata.org/prop/direct/P1469'), ('name', 'FIFA player ID')]\n",
      "[('p', 'http://www.wikidata.org/prop/direct/P1532'), ('name', 'country for sport')]\n",
      "[('p', 'http://www.wikidata.org/prop/direct/P1618'), ('name', 'sport number')]\n",
      "[('p', 'http://www.wikidata.org/prop/direct/P166'), ('name', 'award received')]\n",
      "[('p', 'http://www.wikidata.org/prop/direct/P1695'), ('name', 'NLP ID (unique)')]\n",
      "[('p', 'http://www.wikidata.org/prop/direct/P1741'), ('name', 'GTAA ID')]\n",
      "[('p', 'http://www.wikidata.org/prop/direct/P18'), ('name', 'image')]\n",
      "[('p', 'http://www.wikidata.org/prop/direct/P1889'), ('name', 'different from')]\n",
      "[('p', 'http://www.wikidata.org/prop/direct/P19'), ('name', 'place of birth')]\n",
      "[('p', 'http://www.wikidata.org/prop/direct/P1971'), ('name', 'number of children')]\n",
      "[('p', 'http://www.wikidata.org/prop/direct/P2002'), ('name', 'Twitter username')]\n",
      "[('p', 'http://www.wikidata.org/prop/direct/P2003'), ('name', 'Instagram username')]\n",
      "[('p', 'http://www.wikidata.org/prop/direct/P2013'), ('name', 'Facebook ID')]\n",
      "[('p', 'http://www.wikidata.org/prop/direct/P2020'), ('name', 'WorldFootball.net player ID')]\n",
      "[('p', 'http://www.wikidata.org/prop/direct/P2031'), ('name', 'work period (start)')]\n",
      "[('p', 'http://www.wikidata.org/prop/direct/P2048'), ('name', 'height')]\n",
      "[('p', 'http://www.wikidata.org/prop/direct/P2067'), ('name', 'mass')]\n",
      "[('p', 'http://www.wikidata.org/prop/direct/P21'), ('name', 'sex or gender')]\n",
      "[('p', 'http://www.wikidata.org/prop/direct/P213'), ('name', 'ISNI')]\n",
      "[('p', 'http://www.wikidata.org/prop/direct/P214'), ('name', 'VIAF ID')]\n",
      "[('p', 'http://www.wikidata.org/prop/direct/P2163'), ('name', 'FAST ID')]\n",
      "[('p', 'http://www.wikidata.org/prop/direct/P2193'), ('name', 'Soccerbase player ID')]\n",
      "[('p', 'http://www.wikidata.org/prop/direct/P22'), ('name', 'father')]\n",
      "[('p', 'http://www.wikidata.org/prop/direct/P227'), ('name', 'GND ID')]\n",
      "[('p', 'http://www.wikidata.org/prop/direct/P2276'), ('name', 'UEFA player ID')]\n",
      "[('p', 'http://www.wikidata.org/prop/direct/P2369'), ('name', 'Soccerway player ID')]\n",
      "50\n"
     ]
    }
   ],
   "source": [
    "# query example\n",
    "queryString = \"\"\"\n",
    "SELECT DISTINCT ?p ?name\n",
    "WHERE {\n",
    "   # bind something\n",
    "   wd:Q11571 ?p ?obj .\n",
    "   # get the label\n",
    "   ?p sc:name ?name.\n",
    "}\n",
    "LIMIT 50\n",
    "\"\"\"\n",
    "\n",
    "print(\"Results\")\n",
    "x=run_query(queryString)"
   ]
  },
  {
   "cell_type": "code",
   "execution_count": 233,
   "id": "60fa0e6b-fa5b-457a-8b35-f2c1c7538d3f",
   "metadata": {},
   "outputs": [
    {
     "name": "stdout",
     "output_type": "stream",
     "text": [
      "Results\n",
      "[('p', 'http://www.wikidata.org/prop/direct/P166'), ('name', 'FWA Footballer of the Year')]\n",
      "[('p', 'http://www.wikidata.org/prop/direct/P166'), ('name', \"PFA Fans' Player of the Year\")]\n",
      "[('p', 'http://www.wikidata.org/prop/direct/P118'), ('name', 'Liga Portugal')]\n",
      "[('p', 'http://www.wikidata.org/prop/direct/P735'), ('name', 'Cristiano')]\n",
      "[('p', 'http://www.wikidata.org/prop/direct/P166'), ('name', 'Commander of the Order of Merit of Portugal')]\n",
      "[('p', 'http://www.wikidata.org/prop/direct/P54'), ('name', 'Portugal Olympic football team')]\n",
      "[('p', 'http://www.wikidata.org/prop/direct/P1344'), ('name', 'UEFA Euro 2020')]\n",
      "[('p', 'http://www.wikidata.org/prop/direct/P734'), ('name', 'dos Santos')]\n",
      "[('p', 'http://www.wikidata.org/prop/direct/P166'), ('name', 'UEFA Team of the Year')]\n",
      "[('p', 'http://www.wikidata.org/prop/direct/P1411'), ('name', 'FIFA World Player of the Year')]\n",
      "[('p', 'http://www.wikidata.org/prop/direct/P166'), ('name', 'FIFA World Player of the Year')]\n",
      "[('p', 'http://www.wikidata.org/prop/direct/P166'), ('name', \"UEFA Men's Player of the Year Award\")]\n",
      "[('p', 'http://www.wikidata.org/prop/direct/P1344'), ('name', 'UEFA Euro 2004')]\n",
      "[('p', 'http://www.wikidata.org/prop/direct/P1412'), ('name', 'Spanish')]\n",
      "[('p', 'http://www.wikidata.org/prop/direct/P54'), ('name', 'Juventus F.C.')]\n",
      "[('p', 'http://www.wikidata.org/prop/direct/P1399'), ('name', 'tax noncompliance')]\n",
      "[('p', 'http://www.wikidata.org/prop/direct/P118'), ('name', 'Serie A')]\n",
      "[('p', 'http://www.wikidata.org/prop/direct/P166'), ('name', \"Ballon d'Or\")]\n",
      "[('p', 'http://www.wikidata.org/prop/direct/P1344'), ('name', '2018 FIFA World Cup')]\n",
      "[('p', 'http://www.wikidata.org/prop/direct/P1343'), ('name', 'Lentapedia')]\n",
      "20\n"
     ]
    }
   ],
   "source": [
    "# Print the Object using node Cristiano Ronaldo Q11571\n",
    "queryString = \"\"\"\n",
    "SELECT DISTINCT ?p ?name\n",
    "WHERE {\n",
    "   \n",
    "   wd:Q11571 ?p ?object .\n",
    "   ?object sc:name ?name\n",
    "}\n",
    "LIMIT 20\n",
    "\"\"\"\n",
    "\n",
    "print(\"Results\")\n",
    "x=run_query(queryString)"
   ]
  },
  {
   "cell_type": "code",
   "execution_count": 234,
   "id": "0b3c821d-e451-4c74-b7c7-40ba2046b62c",
   "metadata": {},
   "outputs": [
    {
     "name": "stdout",
     "output_type": "stream",
     "text": [
      "Results\n",
      "[('object', 'http://www.wikidata.org/entity/Q1750244'), ('name', 'FWA Footballer of the Year')]\n",
      "[('object', 'http://www.wikidata.org/entity/Q10726649'), ('name', \"PFA Fans' Player of the Year\")]\n",
      "[('object', 'http://www.wikidata.org/entity/Q182994'), ('name', 'Liga Portugal')]\n",
      "[('object', 'http://www.wikidata.org/entity/Q12899500'), ('name', 'Cristiano')]\n",
      "[('object', 'http://www.wikidata.org/entity/Q20888805'), ('name', 'Commander of the Order of Merit of Portugal')]\n",
      "[('object', 'http://www.wikidata.org/entity/Q3590758'), ('name', 'Portugal Olympic football team')]\n",
      "[('object', 'http://www.wikidata.org/entity/Q373501'), ('name', 'UEFA Euro 2020')]\n",
      "[('object', 'http://www.wikidata.org/entity/Q20819738'), ('name', 'dos Santos')]\n",
      "[('object', 'http://www.wikidata.org/entity/Q1146578'), ('name', 'UEFA Team of the Year')]\n",
      "[('object', 'http://www.wikidata.org/entity/Q182529'), ('name', 'FIFA World Player of the Year')]\n",
      "[('object', 'http://www.wikidata.org/entity/Q260117'), ('name', \"UEFA Men's Player of the Year Award\")]\n",
      "[('object', 'http://www.wikidata.org/entity/Q102920'), ('name', 'UEFA Euro 2004')]\n",
      "[('object', 'http://www.wikidata.org/entity/Q1321'), ('name', 'Spanish')]\n",
      "[('object', 'http://www.wikidata.org/entity/Q1422'), ('name', 'Juventus F.C.')]\n",
      "[('object', 'http://www.wikidata.org/entity/Q15279749'), ('name', 'tax noncompliance')]\n",
      "[('object', 'http://www.wikidata.org/entity/Q15804'), ('name', 'Serie A')]\n",
      "[('object', 'http://www.wikidata.org/entity/Q166177'), ('name', \"Ballon d'Or\")]\n",
      "[('object', 'http://www.wikidata.org/entity/Q170645'), ('name', '2018 FIFA World Cup')]\n",
      "[('object', 'http://www.wikidata.org/entity/Q17290934'), ('name', 'Lentapedia')]\n",
      "[('object', 'http://www.wikidata.org/entity/Q17329836'), ('name', 'Larousse Encyclopedia online')]\n",
      "[('object', 'http://www.wikidata.org/entity/Q176883'), ('name', '2010 FIFA World Cup')]\n",
      "[('object', 'http://www.wikidata.org/entity/Q1808301'), ('name', 'Laureus World Sports Award for Sportsman of the Year')]\n",
      "[('object', 'http://www.wikidata.org/entity/Q18125'), ('name', 'Manchester')]\n",
      "[('object', 'http://www.wikidata.org/entity/Q1860'), ('name', 'English')]\n",
      "[('object', 'http://www.wikidata.org/entity/Q18656'), ('name', 'Manchester United F.C.')]\n",
      "[('object', 'http://www.wikidata.org/entity/Q189571'), ('name', 'UEFA Euro 2016')]\n",
      "[('object', 'http://www.wikidata.org/entity/Q22669'), ('name', 'UEFA Euro 2012')]\n",
      "[('object', 'http://www.wikidata.org/entity/Q241864'), ('name', 'UEFA Euro 2008')]\n",
      "[('object', 'http://www.wikidata.org/entity/Q25444'), ('name', 'Funchal')]\n",
      "[('object', 'http://www.wikidata.org/entity/Q2736'), ('name', 'association football')]\n",
      "[('object', 'http://www.wikidata.org/entity/Q280658'), ('name', 'forward')]\n",
      "[('object', 'http://www.wikidata.org/entity/Q2807'), ('name', 'Madrid')]\n",
      "[('object', 'http://www.wikidata.org/entity/Q324867'), ('name', 'La Liga')]\n",
      "[('object', 'http://www.wikidata.org/entity/Q37285'), ('name', '2006 FIFA World Cup')]\n",
      "[('object', 'http://www.wikidata.org/entity/Q4091875'), ('name', 'Great Encyclopedia of Cyril and Methodius')]\n",
      "[('object', 'http://www.wikidata.org/entity/Q45'), ('name', 'Portugal')]\n",
      "[('object', 'http://www.wikidata.org/entity/Q495'), ('name', 'Turin')]\n",
      "[('object', 'http://www.wikidata.org/entity/Q5'), ('name', 'human')]\n",
      "[('object', 'http://www.wikidata.org/entity/Q5146'), ('name', 'Portuguese')]\n",
      "[('object', 'http://www.wikidata.org/entity/Q597'), ('name', 'Lisbon')]\n",
      "[('object', 'http://www.wikidata.org/entity/Q6373'), ('name', 'British Museum')]\n",
      "[('object', 'http://www.wikidata.org/entity/Q6581097'), ('name', 'male')]\n",
      "[('object', 'http://www.wikidata.org/entity/Q73555012'), ('name', 'works protected by copyrights')]\n",
      "[('object', 'http://www.wikidata.org/entity/Q79859'), ('name', '2014 FIFA World Cup')]\n",
      "[('object', 'http://www.wikidata.org/entity/Q8025128'), ('name', 'winger')]\n",
      "[('object', 'http://www.wikidata.org/entity/Q84263196'), ('name', 'COVID-19')]\n",
      "[('object', 'http://www.wikidata.org/entity/Q8558'), ('name', '2004 Summer Olympics')]\n",
      "[('object', 'http://www.wikidata.org/entity/Q937857'), ('name', 'association football player')]\n",
      "[('object', 'http://www.wikidata.org/entity/Q9448'), ('name', 'Premier League')]\n",
      "[('object', 'http://www.wikidata.org/entity/Q8682'), ('name', 'Real Madrid CF')]\n",
      "[('object', 'http://www.wikidata.org/entity/Q19819804'), ('name', 'Ronaldo')]\n",
      "[('object', 'http://www.wikidata.org/entity/Q1630430'), ('name', 'Portugal national under-21 football team')]\n",
      "[('object', 'http://www.wikidata.org/entity/Q20860117'), ('name', 'Officer of the Order of Prince Henry')]\n",
      "[('object', 'http://www.wikidata.org/entity/Q267245'), ('name', 'Portugal national association football team')]\n",
      "[('object', 'http://www.wikidata.org/entity/Q75729'), ('name', 'Sporting CP')]\n",
      "[('object', 'http://www.wikidata.org/entity/Q20859673'), ('name', 'Grand Officer of the Order of Prince Henry')]\n",
      "[('object', 'http://www.wikidata.org/entity/Q1772776'), ('name', 'Portugal national under-20 football team')]\n",
      "[('object', 'http://www.wikidata.org/entity/Q483915'), ('name', 'Nike')]\n",
      "[('object', 'http://www.wikidata.org/entity/Q615'), ('name', 'Lionel Messi')]\n",
      "[('object', 'http://www.wikidata.org/entity/Q3590754'), ('name', 'Portugal national under-17 football team')]\n",
      "[('object', 'http://www.wikidata.org/entity/Q2165781'), ('name', 'Kátia Aveiro')]\n",
      "[('object', 'http://www.wikidata.org/entity/Q56166223'), ('name', 'José Dinis Aveiro')]\n",
      "[('object', 'http://www.wikidata.org/entity/Q56166583'), ('name', 'Maria Dolores dos Santos Viveiros da Aveiro')]\n",
      "[('object', 'http://www.wikidata.org/entity/Q56166621'), ('name', 'Elma dos Santos Aveiro')]\n",
      "[('object', 'http://www.wikidata.org/entity/Q56166624'), ('name', 'Hugo Aveiro')]\n",
      "[('object', 'http://www.wikidata.org/entity/Q2986505'), ('name', 'Sir Matt Busby Player of the Year')]\n",
      "[('object', 'http://www.wikidata.org/entity/Q2291862'), ('name', \"FIFA Ballon d'Or\")]\n",
      "[('object', 'http://www.wikidata.org/entity/Q729513'), ('name', 'Pichichi Trophy')]\n",
      "[('object', 'http://www.wikidata.org/entity/Q233454'), ('name', 'European Golden Shoe')]\n",
      "[('object', 'http://www.wikidata.org/entity/Q2044044'), ('name', 'PFA Team of the Year')]\n",
      "[('object', 'http://www.wikidata.org/entity/Q616031'), ('name', 'FIFA Puskás Award')]\n",
      "[('object', 'http://www.wikidata.org/entity/Q56166653'), ('name', 'José Nunes de Viveiros')]\n",
      "[('object', 'http://www.wikidata.org/entity/Q56166655'), ('name', 'Matilde dos Santos da Viveiros')]\n",
      "[('object', 'http://www.wikidata.org/entity/Q56166678'), ('name', 'Filomena da Aveiro')]\n",
      "[('object', 'http://www.wikidata.org/entity/Q56166683'), ('name', 'Humberto Cirilo Aveiro')]\n",
      "[('object', 'http://www.wikidata.org/entity/Q4896696'), ('name', 'Best International Athlete ESPY Award')]\n",
      "[('object', 'http://www.wikidata.org/entity/Q33729164'), ('name', 'Georgina Rodríguez')]\n",
      "[('object', 'http://www.wikidata.org/entity/Q88245029'), ('name', 'right-footedness')]\n",
      "[('object', 'http://www.wikidata.org/entity/Q621867'), ('name', \"PFA Players' Player of the Year\")]\n",
      "[('object', 'http://www.wikidata.org/entity/Q554495'), ('name', 'Bravo Award')]\n",
      "[('object', 'http://www.wikidata.org/entity/Q529207'), ('name', 'Ronaldo')]\n",
      "[('object', 'http://www.wikidata.org/entity/Q1049896'), ('name', \"Onze d'Or\")]\n",
      "[('object', 'http://www.wikidata.org/entity/Q1188692'), ('name', 'Premier League Player of the Season')]\n",
      "[('object', 'http://www.wikidata.org/entity/Q794775'), ('name', 'Premier League Golden Boot')]\n",
      "[('object', 'http://www.wikidata.org/entity/Q890790'), ('name', 'Premier League Player of the Month')]\n",
      "[('object', 'http://www.wikidata.org/entity/Q2009646'), ('name', 'PFA Young Player of the Year')]\n",
      "[('object', 'http://www.wikidata.org/entity/Q1808491'), ('name', 'Trofeo Alfredo Di Stéfano')]\n",
      "[('object', 'http://www.wikidata.org/entity/Q66504206'), ('name', 'Medal of Merit of the Order of the Immaculate Conception of Vila Viçosa')]\n",
      "[('object', 'http://www.wikidata.org/entity/Q37487459'), ('name', 'Aveiro')]\n",
      "[('object', 'http://www.wikidata.org/entity/Q15474655'), ('name', 'La Liga Player of the Month')]\n",
      "[('object', 'http://www.wikidata.org/entity/Q34037960'), ('name', 'Category:Cristiano Ronaldo')]\n",
      "[('object', 'http://www.wikidata.org/entity/Q21079208'), ('name', 'Portugal national under-15 football team')]\n",
      "[('object', 'http://www.wikidata.org/entity/Q1187699'), ('name', 'UEFA Club Footballer of the Year')]\n",
      "93\n"
     ]
    }
   ],
   "source": [
    "\n",
    "queryString = \"\"\"\n",
    "SELECT DISTINCT ?object ?name \n",
    "WHERE {\n",
    "\n",
    "   wd:Q11571 ?p ?object .\n",
    "   \n",
    "   ?object sc:name ?name.\n",
    "}\n",
    "LIMIT 100\n",
    "\"\"\"\n",
    "\n",
    "print(\"Results\")\n",
    "x=run_query(queryString)"
   ]
  },
  {
   "cell_type": "code",
   "execution_count": 160,
   "id": "16bc1c8e-23b7-4207-9d2e-3fef0b6735c9",
   "metadata": {},
   "outputs": [
    {
     "name": "stdout",
     "output_type": "stream",
     "text": [
      "Results\n",
      "[('p', 'http://www.wikidata.org/prop/direct/P3441'), ('name', 'FIFA country code')]\n",
      "[('p', 'http://www.wikidata.org/prop/direct/P127'), ('name', 'owned by')]\n",
      "[('p', 'http://www.wikidata.org/prop/direct/P1344'), ('name', 'participant in')]\n",
      "[('p', 'http://www.wikidata.org/prop/direct/P1352'), ('name', 'ranking')]\n",
      "[('p', 'http://www.wikidata.org/prop/direct/P1532'), ('name', 'country for sport')]\n",
      "[('p', 'http://www.wikidata.org/prop/direct/P17'), ('name', 'country')]\n",
      "[('p', 'http://www.wikidata.org/prop/direct/P18'), ('name', 'image')]\n",
      "[('p', 'http://www.wikidata.org/prop/direct/P2002'), ('name', 'Twitter username')]\n",
      "[('p', 'http://www.wikidata.org/prop/direct/P2003'), ('name', 'Instagram username')]\n",
      "[('p', 'http://www.wikidata.org/prop/direct/P2013'), ('name', 'Facebook ID')]\n",
      "[('p', 'http://www.wikidata.org/prop/direct/P2094'), ('name', 'competition class')]\n",
      "[('p', 'http://www.wikidata.org/prop/direct/P2184'), ('name', 'history of topic')]\n",
      "[('p', 'http://www.wikidata.org/prop/direct/P2397'), ('name', 'YouTube channel ID')]\n",
      "[('p', 'http://www.wikidata.org/prop/direct/P2522'), ('name', 'victory')]\n",
      "[('p', 'http://www.wikidata.org/prop/direct/P279'), ('name', 'subclass of')]\n",
      "[('p', 'http://www.wikidata.org/prop/direct/P286'), ('name', 'head coach')]\n",
      "[('p', 'http://www.wikidata.org/prop/direct/P31'), ('name', 'instance of')]\n",
      "[('p', 'http://www.wikidata.org/prop/direct/P3417'), ('name', 'Quora topic ID')]\n",
      "[('p', 'http://www.wikidata.org/prop/direct/P373'), ('name', 'Commons category')]\n",
      "[('p', 'http://www.wikidata.org/prop/direct/P41'), ('name', 'flag image')]\n",
      "[('p', 'http://www.wikidata.org/prop/direct/P5995'), ('name', 'kit supplier')]\n",
      "[('p', 'http://www.wikidata.org/prop/direct/P6262'), ('name', 'Fandom article ID')]\n",
      "[('p', 'http://www.wikidata.org/prop/direct/P641'), ('name', 'sport')]\n",
      "[('p', 'http://www.wikidata.org/prop/direct/P646'), ('name', 'Freebase ID')]\n",
      "[('p', 'http://www.wikidata.org/prop/direct/P7223'), ('name', 'Transfermarkt team ID')]\n",
      "[('p', 'http://www.wikidata.org/prop/direct/P7361'), ('name', 'UEFA team ID')]\n",
      "[('p', 'http://www.wikidata.org/prop/direct/P7818'), ('name', 'French Vikidia ID')]\n",
      "[('p', 'http://www.wikidata.org/prop/direct/P856'), ('name', 'official website')]\n",
      "[('p', 'http://www.wikidata.org/prop/direct/P8672'), ('name', 'Twitter topic ID')]\n",
      "[('p', 'http://www.wikidata.org/prop/direct/P8687'), ('name', 'social media followers')]\n",
      "30\n"
     ]
    }
   ],
   "source": [
    "\n",
    "queryString = \"\"\"\n",
    "SELECT DISTINCT ?p ?name \n",
    "WHERE {\n",
    "\n",
    "   wd:Q267245 ?p ?object .\n",
    "   \n",
    "   ?p sc:name ?name.\n",
    "}\n",
    "LIMIT 30\n",
    "\"\"\"\n",
    "\n",
    "print(\"Results\")\n",
    "x=run_query(queryString)"
   ]
  },
  {
   "cell_type": "markdown",
   "id": "e0320864",
   "metadata": {},
   "source": [
    "Final query for this task"
   ]
  },
  {
   "cell_type": "code",
   "execution_count": 235,
   "id": "2a9ad080-6267-40bf-b692-839029c7e10d",
   "metadata": {},
   "outputs": [
    {
     "name": "stdout",
     "output_type": "stream",
     "text": [
      "Results\n",
      "[('object', 'http://www.wikidata.org/entity/Q6979593'), ('name', 'national association football team')]\n",
      "1\n"
     ]
    }
   ],
   "source": [
    "\n",
    "queryString = \"\"\"\n",
    "SELECT DISTINCT ?object ?name \n",
    "WHERE {\n",
    "\n",
    "   wd:Q267245 wdt:P279 ?object .\n",
    "   \n",
    "   ?object sc:name ?name.\n",
    "}\n",
    "LIMIT 30\n",
    "\"\"\"\n",
    "\n",
    "print(\"Results\")\n",
    "x=run_query(queryString)"
   ]
  },
  {
   "cell_type": "code",
   "execution_count": 236,
   "id": "58c2c4d0-7085-4b4b-8821-20c1899e5c39",
   "metadata": {},
   "outputs": [
    {
     "name": "stdout",
     "output_type": "stream",
     "text": [
      "Results\n",
      "[('object', 'http://www.wikidata.org/entity/Q6979593'), ('name', 'national association football team')]\n",
      "1\n"
     ]
    }
   ],
   "source": [
    "\n",
    "queryString = \"\"\"\n",
    "SELECT DISTINCT ?object ?name \n",
    "WHERE {\n",
    "\n",
    "   wd:Q267245 wdt:P31 ?object .\n",
    "   \n",
    "   ?object sc:name ?name.\n",
    "}\n",
    "LIMIT 30\n",
    "\"\"\"\n",
    "\n",
    "print(\"Results\")\n",
    "x=run_query(queryString)"
   ]
  },
  {
   "cell_type": "code",
   "execution_count": 237,
   "id": "cb8a46df-ad89-459a-9762-bdb9a252e09b",
   "metadata": {},
   "outputs": [
    {
     "name": "stdout",
     "output_type": "stream",
     "text": [
      "Results\n",
      "[('object', 'http://www.wikidata.org/entity/Q15944511'), ('name', 'association football team')]\n",
      "[('object', 'http://www.wikidata.org/entity/Q1194951'), ('name', 'national sports team')]\n",
      "2\n"
     ]
    }
   ],
   "source": [
    "\n",
    "queryString = \"\"\"\n",
    "SELECT DISTINCT ?object ?name \n",
    "WHERE {\n",
    "\n",
    "   wd:Q6979593 wdt:P279 ?object .\n",
    "   \n",
    "   ?object sc:name ?name.\n",
    "}\n",
    "LIMIT 30\n",
    "\"\"\"\n",
    "\n",
    "print(\"Results\")\n",
    "x=run_query(queryString)"
   ]
  },
  {
   "cell_type": "code",
   "execution_count": 238,
   "id": "c390ebb4-2ad4-4790-abde-ce97b4aa34cc",
   "metadata": {},
   "outputs": [
    {
     "name": "stdout",
     "output_type": "stream",
     "text": [
      "Results\n",
      "[('object', 'http://www.wikidata.org/entity/Q28083137'), ('name', 'football team')]\n",
      "1\n"
     ]
    }
   ],
   "source": [
    "\n",
    "queryString = \"\"\"\n",
    "SELECT DISTINCT ?object ?name \n",
    "WHERE {\n",
    "\n",
    "   wd:Q15944511 wdt:P279 ?object .\n",
    "   \n",
    "   ?object sc:name ?name.\n",
    "}\n",
    "LIMIT 30\n",
    "\"\"\"\n",
    "\n",
    "print(\"Results\")\n",
    "x=run_query(queryString)"
   ]
  },
  {
   "cell_type": "code",
   "execution_count": 239,
   "id": "0e094ac3-51ab-439e-8689-4c1e15a4d474",
   "metadata": {},
   "outputs": [
    {
     "name": "stdout",
     "output_type": "stream",
     "text": [
      "Results\n",
      "Empty\n"
     ]
    }
   ],
   "source": [
    "\n",
    "queryString = \"\"\"\n",
    "SELECT DISTINCT ?object ?name \n",
    "WHERE {\n",
    "\n",
    "   wd:Q15656 wdt:P279 ?object .\n",
    "   \n",
    "   ?object sc:name ?name.\n",
    "}\n",
    "LIMIT 30\n",
    "\"\"\"\n",
    "\n",
    "print(\"Results\")\n",
    "x=run_query(queryString)"
   ]
  },
  {
   "cell_type": "code",
   "execution_count": 243,
   "id": "653f2b73-5d93-478c-9d22-f0558955d7f2",
   "metadata": {},
   "outputs": [
    {
     "name": "stdout",
     "output_type": "stream",
     "text": [
      "Results\n",
      "[('p', 'http://www.wikidata.org/prop/direct/P112'), ('name', 'founded by')]\n",
      "[('p', 'http://www.wikidata.org/prop/direct/P115'), ('name', 'home venue')]\n",
      "[('p', 'http://www.wikidata.org/prop/direct/P118'), ('name', 'league')]\n",
      "[('p', 'http://www.wikidata.org/prop/direct/P127'), ('name', 'owned by')]\n",
      "[('p', 'http://www.wikidata.org/prop/direct/P1278'), ('name', 'Legal Entity Identifier')]\n",
      "[('p', 'http://www.wikidata.org/prop/direct/P1320'), ('name', 'OpenCorporates ID')]\n",
      "[('p', 'http://www.wikidata.org/prop/direct/P1343'), ('name', 'described by source')]\n",
      "[('p', 'http://www.wikidata.org/prop/direct/P1344'), ('name', 'participant in')]\n",
      "[('p', 'http://www.wikidata.org/prop/direct/P1417'), ('name', 'Encyclopædia Britannica Online ID')]\n",
      "[('p', 'http://www.wikidata.org/prop/direct/P1424'), ('name', \"topic's main template\")]\n",
      "[('p', 'http://www.wikidata.org/prop/direct/P1430'), ('name', 'OpenPlaques subject ID')]\n",
      "[('p', 'http://www.wikidata.org/prop/direct/P1448'), ('name', 'official name')]\n",
      "[('p', 'http://www.wikidata.org/prop/direct/P1449'), ('name', 'nickname')]\n",
      "[('p', 'http://www.wikidata.org/prop/direct/P154'), ('name', 'logo image')]\n",
      "[('p', 'http://www.wikidata.org/prop/direct/P159'), ('name', 'headquarters location')]\n",
      "[('p', 'http://www.wikidata.org/prop/direct/P1617'), ('name', 'BBC Things ID')]\n",
      "[('p', 'http://www.wikidata.org/prop/direct/P166'), ('name', 'award received')]\n",
      "[('p', 'http://www.wikidata.org/prop/direct/P17'), ('name', 'country')]\n",
      "[('p', 'http://www.wikidata.org/prop/direct/P1711'), ('name', 'British Museum person or institution ID')]\n",
      "[('p', 'http://www.wikidata.org/prop/direct/P18'), ('name', 'image')]\n",
      "[('p', 'http://www.wikidata.org/prop/direct/P1830'), ('name', 'owner of')]\n",
      "[('p', 'http://www.wikidata.org/prop/direct/P1889'), ('name', 'different from')]\n",
      "[('p', 'http://www.wikidata.org/prop/direct/P2002'), ('name', 'Twitter username')]\n",
      "[('p', 'http://www.wikidata.org/prop/direct/P2003'), ('name', 'Instagram username')]\n",
      "[('p', 'http://www.wikidata.org/prop/direct/P2013'), ('name', 'Facebook ID')]\n",
      "[('p', 'http://www.wikidata.org/prop/direct/P2088'), ('name', 'Crunchbase organization ID')]\n",
      "[('p', 'http://www.wikidata.org/prop/direct/P213'), ('name', 'ISNI')]\n",
      "[('p', 'http://www.wikidata.org/prop/direct/P214'), ('name', 'VIAF ID')]\n",
      "[('p', 'http://www.wikidata.org/prop/direct/P2184'), ('name', 'history of topic')]\n",
      "[('p', 'http://www.wikidata.org/prop/direct/P227'), ('name', 'GND ID')]\n",
      "[('p', 'http://www.wikidata.org/prop/direct/P2397'), ('name', 'YouTube channel ID')]\n",
      "[('p', 'http://www.wikidata.org/prop/direct/P244'), ('name', 'Library of Congress authority ID')]\n",
      "[('p', 'http://www.wikidata.org/prop/direct/P2522'), ('name', 'victory')]\n",
      "[('p', 'http://www.wikidata.org/prop/direct/P2581'), ('name', 'BabelNet ID')]\n",
      "[('p', 'http://www.wikidata.org/prop/direct/P268'), ('name', 'Bibliothèque nationale de France ID')]\n",
      "[('p', 'http://www.wikidata.org/prop/direct/P269'), ('name', 'IdRef ID')]\n",
      "[('p', 'http://www.wikidata.org/prop/direct/P2847'), ('name', 'Google+ ID')]\n",
      "[('p', 'http://www.wikidata.org/prop/direct/P286'), ('name', 'head coach')]\n",
      "[('p', 'http://www.wikidata.org/prop/direct/P2924'), ('name', 'Great Russian Encyclopedia Online ID')]\n",
      "[('p', 'http://www.wikidata.org/prop/direct/P2959'), ('name', 'permanent duplicated item')]\n",
      "[('p', 'http://www.wikidata.org/prop/direct/P31'), ('name', 'instance of')]\n",
      "[('p', 'http://www.wikidata.org/prop/direct/P3106'), ('name', 'Guardian topic ID')]\n",
      "[('p', 'http://www.wikidata.org/prop/direct/P3347'), ('name', 'PermID')]\n",
      "[('p', 'http://www.wikidata.org/prop/direct/P3417'), ('name', 'Quora topic ID')]\n",
      "[('p', 'http://www.wikidata.org/prop/direct/P3479'), ('name', 'Omni topic ID')]\n",
      "[('p', 'http://www.wikidata.org/prop/direct/P349'), ('name', 'National Diet Library ID')]\n",
      "[('p', 'http://www.wikidata.org/prop/direct/P3553'), ('name', 'Zhihu topic ID')]\n",
      "[('p', 'http://www.wikidata.org/prop/direct/P373'), ('name', 'Commons category')]\n",
      "[('p', 'http://www.wikidata.org/prop/direct/P3984'), ('name', 'subreddit')]\n",
      "[('p', 'http://www.wikidata.org/prop/direct/P4264'), ('name', 'LinkedIn company ID')]\n",
      "[('p', 'http://www.wikidata.org/prop/direct/P4342'), ('name', 'Store norske leksikon ID')]\n",
      "[('p', 'http://www.wikidata.org/prop/direct/P4527'), ('name', 'UK Parliament thesaurus ID')]\n",
      "[('p', 'http://www.wikidata.org/prop/direct/P488'), ('name', 'chairperson')]\n",
      "[('p', 'http://www.wikidata.org/prop/direct/P5247'), ('name', 'Giant Bomb ID')]\n",
      "[('p', 'http://www.wikidata.org/prop/direct/P571'), ('name', 'inception')]\n",
      "[('p', 'http://www.wikidata.org/prop/direct/P6112'), ('name', 'category for members of a team')]\n",
      "[('p', 'http://www.wikidata.org/prop/direct/P6131'), ('name', 'Soccerway team ID')]\n",
      "[('p', 'http://www.wikidata.org/prop/direct/P6364'), ('name', 'official color(s)')]\n",
      "[('p', 'http://www.wikidata.org/prop/direct/P641'), ('name', 'sport')]\n",
      "[('p', 'http://www.wikidata.org/prop/direct/P646'), ('name', 'Freebase ID')]\n",
      "[('p', 'http://www.wikidata.org/prop/direct/P6706'), ('name', 'De Agostini ID')]\n",
      "[('p', 'http://www.wikidata.org/prop/direct/P691'), ('name', 'NKCR AUT ID')]\n",
      "[('p', 'http://www.wikidata.org/prop/direct/P7085'), ('name', 'TikTok username')]\n",
      "[('p', 'http://www.wikidata.org/prop/direct/P7223'), ('name', 'Transfermarkt team ID')]\n",
      "[('p', 'http://www.wikidata.org/prop/direct/P7280'), ('name', 'PlaymakerStats.com team ID')]\n",
      "[('p', 'http://www.wikidata.org/prop/direct/P7287'), ('name', 'WorldFootball.net team ID')]\n",
      "[('p', 'http://www.wikidata.org/prop/direct/P7454'), ('name', 'Soccerbase team ID')]\n",
      "[('p', 'http://www.wikidata.org/prop/direct/P749'), ('name', 'parent organization')]\n",
      "[('p', 'http://www.wikidata.org/prop/direct/P7818'), ('name', 'French Vikidia ID')]\n",
      "[('p', 'http://www.wikidata.org/prop/direct/P7854'), ('name', 'EU-Football.info club ID')]\n",
      "[('p', 'http://www.wikidata.org/prop/direct/P7859'), ('name', 'WorldCat Identities ID')]\n",
      "[('p', 'http://www.wikidata.org/prop/direct/P856'), ('name', 'official website')]\n",
      "[('p', 'http://www.wikidata.org/prop/direct/P859'), ('name', 'sponsor')]\n",
      "[('p', 'http://www.wikidata.org/prop/direct/P8642'), ('name', 'FBref.com squad ID')]\n",
      "[('p', 'http://www.wikidata.org/prop/direct/P8672'), ('name', 'Twitter topic ID')]\n",
      "[('p', 'http://www.wikidata.org/prop/direct/P8687'), ('name', 'social media followers')]\n",
      "[('p', 'http://www.wikidata.org/prop/direct/P906'), ('name', 'SELIBR ID')]\n",
      "[('p', 'http://www.wikidata.org/prop/direct/P910'), ('name', \"topic's main category\")]\n",
      "[('p', 'http://www.wikidata.org/prop/direct/P989'), ('name', 'spoken text audio')]\n",
      "[('p', 'http://www.wikidata.org/prop/direct/P6160'), ('name', 'BoardGameGeek game publisher ID')]\n",
      "[('p', 'http://www.wikidata.org/prop/direct/P942'), ('name', 'theme music')]\n",
      "[('p', 'http://www.wikidata.org/prop/direct/P2622'), ('name', 'Companies House company ID')]\n",
      "[('p', 'http://www.wikidata.org/prop/direct/P7351'), ('name', 'FootballDatabase.eu team ID')]\n",
      "83\n"
     ]
    }
   ],
   "source": [
    "#Try Looking at MANCHESTER UNITED Q18656 Properties\n",
    "# [('object', 'http://www.wikidata.org/entity/Q18656'), ('name', 'Manchester United F.C.')]\n",
    "\n",
    "\n",
    "\n",
    "\n",
    "queryString = \"\"\"\n",
    "SELECT DISTINCT ?p ?name \n",
    "WHERE {\n",
    "\n",
    "   wd:Q18656 ?p ?object .\n",
    "   \n",
    "   ?p sc:name ?name.\n",
    "}\n",
    "LIMIT 100\n",
    "\"\"\"\n",
    "\n",
    "print(\"Results\")\n",
    "x=run_query(queryString)"
   ]
  },
  {
   "cell_type": "code",
   "execution_count": 249,
   "id": "b0d0706f-c4b3-4316-a994-88b01d17ef02",
   "metadata": {},
   "outputs": [
    {
     "name": "stdout",
     "output_type": "stream",
     "text": [
      "Results\n",
      "[('sName', 'sports in Sweden'), ('objectName', 'cycling')]\n",
      "[('sName', '2015 Canary Wharf Squash Classic'), ('objectName', 'squash')]\n",
      "[('sName', 'Canary Wharf Squash Classic'), ('objectName', 'squash')]\n",
      "[('sName', '2013 Canary Wharf Squash Classic'), ('objectName', 'squash')]\n",
      "[('sName', '2014 FIM Motocross World Championship season'), ('objectName', 'motocross')]\n",
      "[('sName', 'beach soccer in Estonia'), ('objectName', 'beach soccer')]\n",
      "[('sName', 'Rita Keitmann'), ('objectName', 'triathlon')]\n",
      "[('sName', 'Till Schramm'), ('objectName', 'triathlon')]\n",
      "[('sName', 'Trevor Wurtele'), ('objectName', 'triathlon')]\n",
      "[('sName', 'Pien Keulstra'), ('objectName', 'triathlon')]\n",
      "[('sName', 'Mai Shiina'), ('objectName', 'karate')]\n",
      "[('sName', 'Keisuke Nemoto'), ('objectName', 'karate')]\n",
      "[('sName', 'Katsutoshi Shiina'), ('objectName', 'karate')]\n",
      "[('sName', \"karate at the 2006 Asian Games – men's kumite +80 kg\"), ('objectName', 'karate')]\n",
      "[('sName', \"karate at the 2006 Asian Games – men's kumite 75 kg\"), ('objectName', 'karate')]\n",
      "[('sName', \"karate at the 2006 Asian Games – men's kumite 65 kg\"), ('objectName', 'karate')]\n",
      "[('sName', \"karate at the 2006 Asian Games – men's kumite 60 kg\"), ('objectName', 'karate')]\n",
      "[('sName', 'Masaaki Ueki'), ('objectName', 'karate')]\n",
      "[('sName', \"karate at the 2010 Asian Games – men's kumite 60 kg\"), ('objectName', 'karate')]\n",
      "[('sName', \"karate at the 2002 Asian Games – men's kumite 65 kg\"), ('objectName', 'karate')]\n",
      "[('sName', \"karate at the 2010 Asian Games – men's kumite 67 kg\"), ('objectName', 'karate')]\n",
      "[('sName', \"karate at the 2002 Asian Games – men's kumite 75 kg\"), ('objectName', 'karate')]\n",
      "[('sName', \"karate at the 2010 Asian Games – men's kumite 75 kg\"), ('objectName', 'karate')]\n",
      "[('sName', \"karate at the 2002 Asian Games – men's kumite +75 kg\"), ('objectName', 'karate')]\n",
      "[('sName', \"karate at the 2010 Asian Games – men's kumite +84 kg\"), ('objectName', 'karate')]\n",
      "[('sName', \"karate at the 2002 Asian Games – men's kumite 60 kg\"), ('objectName', 'karate')]\n",
      "[('sName', 'Jasem Vishgahi'), ('objectName', 'karate')]\n",
      "[('sName', 'Reinhard Amann'), ('objectName', 'skiing')]\n",
      "[('sName', '2011 in darts'), ('objectName', 'darts')]\n",
      "[('sName', 'Sharon Prins'), ('objectName', 'darts')]\n",
      "[('sName', '2020 Winter Youth Olympics'), ('objectName', 'biathlon')]\n",
      "[('sName', 'Teija Nieminen'), ('objectName', 'biathlon')]\n",
      "[('sName', 'Roman Zvonkov'), ('objectName', 'biathlon')]\n",
      "[('sName', 'Sandra Flunger'), ('objectName', 'biathlon')]\n",
      "[('sName', 'Vitaliy Mohilenko'), ('objectName', 'biathlon')]\n",
      "[('sName', 'Oksana Skyshkova'), ('objectName', 'biathlon')]\n",
      "[('sName', '2020 Winter Youth Olympics'), ('objectName', 'bobsleigh')]\n",
      "[('sName', 'list of Olympic medalists in bobsleigh'), ('objectName', 'bobsleigh')]\n",
      "[('sName', 'Marvin Dixon'), ('objectName', 'bobsleigh')]\n",
      "[('sName', 'Izet Haračić'), ('objectName', 'bobsleigh')]\n",
      "[('sName', 'Ariela Pinto'), ('objectName', 'canoeing and kayaking')]\n",
      "[('sName', 'Paul Mason'), ('objectName', 'canoeing and kayaking')]\n",
      "[('sName', 'Bill Mason'), ('objectName', 'canoeing and kayaking')]\n",
      "[('sName', 'Claudia Leenders'), ('objectName', 'canoeing and kayaking')]\n",
      "[('sName', '2020 Winter Youth Olympics'), ('objectName', 'luge')]\n",
      "[('sName', 'Summer Britcher'), ('objectName', 'luge')]\n",
      "[('sName', 'Hidenari Kanayama'), ('objectName', 'luge')]\n",
      "[('sName', 'Fonsi Nieto'), ('objectName', 'motorcycle sport')]\n",
      "[('sName', '2005 Superbike World Championship'), ('objectName', 'motorcycle sport')]\n",
      "[('sName', 'Tom Dunker'), ('objectName', 'motorcycle sport')]\n",
      "[('sName', 'Dual-sport motorcycle'), ('objectName', 'motorcycle sport')]\n",
      "[('sName', '2009 UCI Cyclo-cross World Championships'), ('objectName', 'cyclo-cross')]\n",
      "[('sName', 'Sharon Wood'), ('objectName', 'mountaineering')]\n",
      "[('sName', 'Rudolf Widerhofer'), ('objectName', 'mountaineering')]\n",
      "[('sName', '2020 Winter Youth Olympics'), ('objectName', 'ski mountaineering')]\n",
      "[('sName', '2004 FIFA Futsal World Championship'), ('objectName', 'futsal')]\n",
      "[('sName', '2008 FIFA Futsal World Cup'), ('objectName', 'futsal')]\n",
      "[('sName', \"Malaysia women's national futsal team\"), ('objectName', 'futsal')]\n",
      "[('sName', '2020 Winter Youth Olympics'), ('objectName', 'freestyle skiing')]\n",
      "[('sName', 'Marika Pertakhiya'), ('objectName', 'freestyle skiing')]\n",
      "[('sName', 'Ning Qin'), ('objectName', 'freestyle skiing')]\n",
      "[('sName', 'Nicole Parks'), ('objectName', 'freestyle skiing')]\n",
      "[('sName', 'Nina Ragettli'), ('objectName', 'freestyle skiing')]\n",
      "[('sName', 'Park Hee-jin'), ('objectName', 'freestyle skiing')]\n",
      "[('sName', 'Chiho Takao'), ('objectName', 'freestyle skiing')]\n",
      "[('sName', '2015 Cricket World Cup'), ('objectName', 'cricket')]\n",
      "[('sName', \"William Clarke's All-England Eleven\"), ('objectName', 'cricket')]\n",
      "[('sName', '2006–07 Australian cricket season'), ('objectName', 'cricket')]\n",
      "[('sName', 'cricket in Hong Kong'), ('objectName', 'cricket')]\n",
      "[('sName', 'cricket in Oman'), ('objectName', 'cricket')]\n",
      "[('sName', 'cricket in Bahamas'), ('objectName', 'cricket')]\n",
      "[('sName', \"England women's national cricket team\"), ('objectName', 'cricket')]\n",
      "[('sName', 'cricket in Suriname'), ('objectName', 'cricket')]\n",
      "[('sName', \"women's national cricket team\"), ('objectName', 'cricket')]\n",
      "[('sName', 'J. Arunkumar'), ('objectName', 'cricket')]\n",
      "[('sName', 'Jim Slight'), ('objectName', 'cricket')]\n",
      "[('sName', 'Mahbubul Alam'), ('objectName', 'cricket')]\n",
      "[('sName', 'John Nyren'), ('objectName', 'cricket')]\n",
      "[('sName', 'Champa Chakma'), ('objectName', 'cricket')]\n",
      "[('sName', 'Chamely Khatun'), ('objectName', 'cricket')]\n",
      "[('sName', 'Rumana Ahmed'), ('objectName', 'cricket')]\n",
      "[('sName', 'Khadija Tul Kubra'), ('objectName', 'cricket')]\n",
      "[('sName', 'Ranji Trophy'), ('objectName', 'cricket')]\n",
      "[('sName', 'Sunil Joshi'), ('objectName', 'cricket')]\n",
      "[('sName', 'Suryakumar Yadav'), ('objectName', 'cricket')]\n",
      "[('sName', 'floorball in Australia'), ('objectName', 'floorball')]\n",
      "[('sName', \"Singapore women's national floorball team\"), ('objectName', 'floorball')]\n",
      "[('sName', \"Great Britain women's national floorball team\"), ('objectName', 'floorball')]\n",
      "[('sName', \"Austria women's national floorball team\"), ('objectName', 'floorball')]\n",
      "[('sName', '2020 Winter Youth Olympics'), ('objectName', 'short track speed skating')]\n",
      "[('sName', \"short track speed skating at the 2014 Winter Olympics – men's 1500 metres\"), ('objectName', 'short track speed skating')]\n",
      "[('sName', 'Tito Traversa'), ('objectName', 'rock climbing')]\n",
      "[('sName', '14th LG Cup'), ('objectName', 'Go')]\n",
      "[('sName', 'Mlily Cup'), ('objectName', 'Go')]\n",
      "[('sName', '2nd Mlily Cup'), ('objectName', 'Go')]\n",
      "[('sName', 'cue sports video game'), ('objectName', 'cue sports')]\n",
      "[('sName', 'cue sports at the World Games'), ('objectName', 'cue sports')]\n",
      "[('sName', 'list of players to appear in the World Snooker Championship'), ('objectName', 'cue sports')]\n",
      "[('sName', 'Uwe Sander'), ('objectName', 'cue sports')]\n",
      "[('sName', 'Mentawai Islands Regency'), ('objectName', 'surfing')]\n",
      "100\n"
     ]
    }
   ],
   "source": [
    "# Try Looking at all object of association football P641\n",
    "# [('p', 'http://www.wikidata.org/prop/direct/P641'), ('name', 'sport')]\n",
    "\n",
    "\n",
    "\n",
    "queryString = \"\"\"\n",
    "SELECT DISTINCT ?sName ?objectName\n",
    "WHERE {\n",
    "\n",
    "   ?s wdt:P641 ?object .\n",
    "   ?s sc:name ?sName.\n",
    "   \n",
    "   ?object sc:name ?objectName.\n",
    "}\n",
    "LIMIT 100\n",
    "\"\"\"\n",
    "\n",
    "print(\"Results\")\n",
    "x=run_query(queryString)"
   ]
  },
  {
   "cell_type": "code",
   "execution_count": 250,
   "id": "f67cb234-1d8c-4008-bf71-113ba2e2ea1e",
   "metadata": {},
   "outputs": [
    {
     "name": "stdout",
     "output_type": "stream",
     "text": [
      "Results\n",
      "[('objectName', 'association football')]\n",
      "1\n"
     ]
    }
   ],
   "source": [
    "#Try Looking at all objects of association football P641 that are related to CR7\n",
    "\n",
    "queryString = \"\"\"\n",
    "SELECT DISTINCT ?sName ?objectName \n",
    "WHERE {\n",
    "\n",
    "   wd:Q11571 wdt:P641 ?object .\n",
    "   \n",
    "   ?object sc:name ?objectName.\n",
    "}\n",
    "LIMIT 30\n",
    "\"\"\"\n",
    "\n",
    "print(\"Results\")\n",
    "x=run_query(queryString)"
   ]
  },
  {
   "cell_type": "code",
   "execution_count": 251,
   "id": "bf1ac5e8-bedd-4b20-9fa5-2a65cad97755",
   "metadata": {},
   "outputs": [
    {
     "name": "stdout",
     "output_type": "stream",
     "text": [
      "Results\n",
      "[('objectName', 'FIFA')]\n",
      "[('objectName', 'association football goal')]\n",
      "[('objectName', 'Category:Association football')]\n",
      "[('objectName', 'football')]\n",
      "[('objectName', 'United Kingdom of Great Britain and Ireland')]\n",
      "[('objectName', 'Small Brockhaus and Efron Encyclopedic Dictionary')]\n",
      "[('objectName', 'Olympic sport')]\n",
      "[('objectName', 'team sport')]\n",
      "[('objectName', 'Armenian Soviet Encyclopedia')]\n",
      "[('objectName', 'type of sport')]\n",
      "[('objectName', 'Great Encyclopedia of Cyril and Methodius')]\n",
      "[('objectName', 'Wikipedia:Vital articles')]\n",
      "[('objectName', 'Brockhaus and Efron Encyclopedic Dictionary')]\n",
      "[('objectName', 'association football player')]\n",
      "[('objectName', 'soccer ball')]\n",
      "[('objectName', 'association football pitch')]\n",
      "[('objectName', 'football boots')]\n",
      "[('objectName', 'history of association football')]\n",
      "[('objectName', 'kit')]\n",
      "[('objectName', 'WikiProject Football')]\n",
      "[('objectName', 'spectator sport')]\n",
      "[('objectName', 'Portal:Association football')]\n",
      "22\n"
     ]
    }
   ],
   "source": [
    "#Looking at association football Q2736\n",
    "\n",
    "queryString = \"\"\"\n",
    "SELECT DISTINCT ?sName ?objectName \n",
    "WHERE {\n",
    "\n",
    "   wd:Q2736 ?p ?object .\n",
    "   \n",
    "   ?object sc:name ?objectName.\n",
    "}\n",
    "LIMIT 30\n",
    "\"\"\"\n",
    "\n",
    "print(\"Results\")\n",
    "x=run_query(queryString)"
   ]
  },
  {
   "cell_type": "code",
   "execution_count": 252,
   "id": "1581cecc-5b03-430c-af0b-272596dcdf10",
   "metadata": {},
   "outputs": [
    {
     "name": "stdout",
     "output_type": "stream",
     "text": [
      "Results\n",
      "[('object', 'http://www.wikidata.org/entity/Q253414'), ('objectName', 'FIFA')]\n",
      "[('object', 'http://www.wikidata.org/entity/Q571251'), ('objectName', 'association football goal')]\n",
      "[('object', 'http://www.wikidata.org/entity/Q5611338'), ('objectName', 'Category:Association football')]\n",
      "[('object', 'http://www.wikidata.org/entity/Q1081491'), ('objectName', 'football')]\n",
      "[('object', 'http://www.wikidata.org/entity/Q174193'), ('objectName', 'United Kingdom of Great Britain and Ireland')]\n",
      "[('object', 'http://www.wikidata.org/entity/Q19180675'), ('objectName', 'Small Brockhaus and Efron Encyclopedic Dictionary')]\n",
      "[('object', 'http://www.wikidata.org/entity/Q212434'), ('objectName', 'Olympic sport')]\n",
      "[('object', 'http://www.wikidata.org/entity/Q216048'), ('objectName', 'team sport')]\n",
      "[('object', 'http://www.wikidata.org/entity/Q2657718'), ('objectName', 'Armenian Soviet Encyclopedia')]\n",
      "[('object', 'http://www.wikidata.org/entity/Q31629'), ('objectName', 'type of sport')]\n",
      "[('object', 'http://www.wikidata.org/entity/Q4091875'), ('objectName', 'Great Encyclopedia of Cyril and Methodius')]\n",
      "[('object', 'http://www.wikidata.org/entity/Q5460604'), ('objectName', 'Wikipedia:Vital articles')]\n",
      "[('object', 'http://www.wikidata.org/entity/Q602358'), ('objectName', 'Brockhaus and Efron Encyclopedic Dictionary')]\n",
      "[('object', 'http://www.wikidata.org/entity/Q937857'), ('objectName', 'association football player')]\n",
      "[('object', 'http://www.wikidata.org/entity/Q296260'), ('objectName', 'football')]\n",
      "[('object', 'http://www.wikidata.org/entity/Q12252328'), ('objectName', 'soccer ball')]\n",
      "[('object', 'http://www.wikidata.org/entity/Q8524'), ('objectName', 'association football pitch')]\n",
      "[('object', 'http://www.wikidata.org/entity/Q512804'), ('objectName', 'football boots')]\n",
      "[('object', 'http://www.wikidata.org/entity/Q83479'), ('objectName', 'history of association football')]\n",
      "[('object', 'http://www.wikidata.org/entity/Q1381731'), ('objectName', 'kit')]\n",
      "[('object', 'http://www.wikidata.org/entity/Q202865'), ('objectName', 'WikiProject Football')]\n",
      "[('object', 'http://www.wikidata.org/entity/Q4356073'), ('objectName', 'spectator sport')]\n",
      "[('object', 'http://www.wikidata.org/entity/Q6556892'), ('objectName', 'Portal:Association football')]\n",
      "23\n"
     ]
    }
   ],
   "source": [
    "#Looking at association football Q2736\n",
    "\n",
    "queryString = \"\"\"\n",
    "SELECT DISTINCT ?object ?objectName \n",
    "WHERE {\n",
    "\n",
    "   wd:Q2736 ?p ?object .\n",
    "   \n",
    "   ?object sc:name ?objectName.\n",
    "}\n",
    "LIMIT 30\n",
    "\"\"\"\n",
    "\n",
    "print(\"Results\")\n",
    "x=run_query(queryString)"
   ]
  },
  {
   "cell_type": "code",
   "execution_count": 253,
   "id": "649e0874-588f-4318-85bb-8c72cbc7d518",
   "metadata": {},
   "outputs": [
    {
     "name": "stdout",
     "output_type": "stream",
     "text": [
      "Results\n",
      "[('p', 'http://www.wikidata.org/prop/direct/P3719'), ('pName', 'regulated by')]\n",
      "[('p', 'http://www.wikidata.org/prop/direct/P10'), ('pName', 'video')]\n",
      "[('p', 'http://www.wikidata.org/prop/direct/P1014'), ('pName', 'Art & Architecture Thesaurus ID')]\n",
      "[('p', 'http://www.wikidata.org/prop/direct/P1036'), ('pName', 'Dewey Decimal Classification')]\n",
      "[('p', 'http://www.wikidata.org/prop/direct/P1051'), ('pName', 'PSH ID')]\n",
      "[('p', 'http://www.wikidata.org/prop/direct/P1151'), ('pName', \"topic's main Wikimedia portal\")]\n",
      "[('p', 'http://www.wikidata.org/prop/direct/P1190'), ('pName', 'Universal Decimal Classification')]\n",
      "[('p', 'http://www.wikidata.org/prop/direct/P1225'), ('pName', 'U.S. National Archives Identifier')]\n",
      "[('p', 'http://www.wikidata.org/prop/direct/P1245'), ('pName', 'OmegaWiki Defined Meaning')]\n",
      "[('p', 'http://www.wikidata.org/prop/direct/P1282'), ('pName', 'OpenStreetMap tag or key')]\n",
      "[('p', 'http://www.wikidata.org/prop/direct/P1296'), ('pName', 'Gran Enciclopèdia Catalana ID')]\n",
      "[('p', 'http://www.wikidata.org/prop/direct/P1343'), ('pName', 'described by source')]\n",
      "[('p', 'http://www.wikidata.org/prop/direct/P1417'), ('pName', 'Encyclopædia Britannica Online ID')]\n",
      "[('p', 'http://www.wikidata.org/prop/direct/P18'), ('pName', 'image')]\n",
      "[('p', 'http://www.wikidata.org/prop/direct/P1807'), ('pName', 'Great Aragonese Encyclopedia ID')]\n",
      "[('p', 'http://www.wikidata.org/prop/direct/P1813'), ('pName', 'short name')]\n",
      "[('p', 'http://www.wikidata.org/prop/direct/P1873'), ('pName', 'maximum number of players')]\n",
      "[('p', 'http://www.wikidata.org/prop/direct/P1889'), ('pName', 'different from')]\n",
      "[('p', 'http://www.wikidata.org/prop/direct/P2163'), ('pName', 'FAST ID')]\n",
      "[('p', 'http://www.wikidata.org/prop/direct/P2184'), ('pName', 'history of topic')]\n",
      "[('p', 'http://www.wikidata.org/prop/direct/P227'), ('pName', 'GND ID')]\n",
      "[('p', 'http://www.wikidata.org/prop/direct/P2283'), ('pName', 'uses')]\n",
      "[('p', 'http://www.wikidata.org/prop/direct/P2347'), ('pName', 'YSO ID')]\n",
      "[('p', 'http://www.wikidata.org/prop/direct/P244'), ('pName', 'Library of Congress authority ID')]\n",
      "[('p', 'http://www.wikidata.org/prop/direct/P2581'), ('pName', 'BabelNet ID')]\n",
      "[('p', 'http://www.wikidata.org/prop/direct/P268'), ('pName', 'Bibliothèque nationale de France ID')]\n",
      "[('p', 'http://www.wikidata.org/prop/direct/P279'), ('pName', 'subclass of')]\n",
      "[('p', 'http://www.wikidata.org/prop/direct/P2910'), ('pName', 'icon')]\n",
      "[('p', 'http://www.wikidata.org/prop/direct/P2924'), ('pName', 'Great Russian Encyclopedia Online ID')]\n",
      "[('p', 'http://www.wikidata.org/prop/direct/P2959'), ('pName', 'permanent duplicated item')]\n",
      "30\n"
     ]
    }
   ],
   "source": [
    "#Try to look at all the properties related to association football player\n",
    "\n",
    "\n",
    "queryString = \"\"\"\n",
    "SELECT DISTINCT ?p ?pName \n",
    "WHERE {\n",
    "\n",
    "   wd:Q2736 ?p ?object .\n",
    "   \n",
    "   ?p sc:name ?pName.\n",
    "}\n",
    "LIMIT 30\n",
    "\"\"\"\n",
    "\n",
    "print(\"Results\")\n",
    "x=run_query(queryString)"
   ]
  },
  {
   "cell_type": "code",
   "execution_count": 254,
   "id": "d1ebe8f3-a5ce-453c-bff9-ada2e855303a",
   "metadata": {},
   "outputs": [
    {
     "name": "stdout",
     "output_type": "stream",
     "text": [
      "Results\n",
      "[('object', 'http://www.wikidata.org/entity/P2369'), ('objectName', 'Soccerway player ID')]\n",
      "[('object', 'http://www.wikidata.org/entity/P3908'), ('objectName', 'Reprezentacija player ID')]\n",
      "[('object', 'http://www.wikidata.org/entity/Q18536342'), ('objectName', 'competitive player')]\n",
      "[('object', 'http://www.wikidata.org/entity/P2446'), ('objectName', 'Transfermarkt player ID')]\n",
      "[('object', 'http://www.wikidata.org/entity/Q7217464'), ('objectName', 'Category:Association football players')]\n",
      "[('object', 'http://www.wikidata.org/entity/P2823'), ('objectName', 'Royal Belgian Football Association player ID')]\n",
      "[('object', 'http://www.wikidata.org/entity/Q15944511'), ('objectName', 'association football team')]\n",
      "[('object', 'http://www.wikidata.org/entity/Q2736'), ('objectName', 'association football')]\n",
      "[('object', 'http://www.wikidata.org/entity/Q28640'), ('objectName', 'profession')]\n",
      "[('object', 'http://www.wikidata.org/entity/Q476028'), ('objectName', 'association football club')]\n",
      "[('object', 'http://www.wikidata.org/entity/Q31930761'), ('objectName', \"men's association football\")]\n",
      "[('object', 'http://www.wikidata.org/entity/Q17019799'), ('objectName', 'Template:SD Eibar squad')]\n",
      "[('object', 'http://www.wikidata.org/entity/Q2066131'), ('objectName', 'athlete')]\n",
      "[('object', 'http://www.wikidata.org/entity/Q606060'), ('objectName', \"women's association football\")]\n",
      "[('object', 'http://www.wikidata.org/entity/P1469'), ('objectName', 'FIFA player ID')]\n",
      "[('object', 'http://www.wikidata.org/entity/P4019'), ('objectName', 'USL Championship player ID')]\n",
      "[('object', 'http://www.wikidata.org/entity/P2574'), ('objectName', 'National-Football-Teams.com player ID')]\n",
      "[('object', 'http://www.wikidata.org/entity/Q6690764'), ('objectName', 'Template:Atlético Madrid squad')]\n",
      "[('object', 'http://www.wikidata.org/entity/Q1381731'), ('objectName', 'kit')]\n",
      "[('object', 'http://www.wikidata.org/entity/P3677'), ('objectName', 'Wereld van Oranje player ID')]\n",
      "[('object', 'http://www.wikidata.org/entity/P3049'), ('objectName', 'Scottish Football Association player ID')]\n",
      "[('object', 'http://www.wikidata.org/entity/Q13413241'), ('objectName', 'Template:Levante UD squad')]\n",
      "[('object', 'http://www.wikidata.org/entity/P3577'), ('objectName', 'Croatian Football Federation player ID')]\n",
      "[('object', 'http://www.wikidata.org/entity/P3681'), ('objectName', 'ESPNFC.com player ID')]\n",
      "[('object', 'http://www.wikidata.org/entity/P3660'), ('objectName', 'FootballFacts.ru player ID')]\n",
      "[('object', 'http://www.wikidata.org/entity/P6198'), ('objectName', 'Liga MX Femenil player ID')]\n",
      "[('object', 'http://www.wikidata.org/entity/P3043'), ('objectName', 'Scoresway soccer person ID')]\n",
      "[('object', 'http://www.wikidata.org/entity/P3537'), ('objectName', 'FootballDatabase.eu player ID')]\n",
      "[('object', 'http://www.wikidata.org/entity/P3726'), ('objectName', 'EU-Football.info player ID')]\n",
      "[('object', 'http://www.wikidata.org/entity/P2020'), ('objectName', 'WorldFootball.net player ID')]\n",
      "30\n"
     ]
    }
   ],
   "source": [
    "#Try to look at the object related to association football player Q937856\n",
    "# [('object', 'http://www.wikidata.org/entity/Q937857'), ('objectName', 'association football player')]\n",
    "\n",
    "\n",
    "\n",
    "queryString = \"\"\"\n",
    "SELECT DISTINCT ?object ?objectName \n",
    "WHERE {\n",
    "\n",
    "   wd:Q937857 ?p ?object .\n",
    "   \n",
    "   ?object sc:name ?objectName.\n",
    "}\n",
    "LIMIT 30\n",
    "\"\"\"\n",
    "\n",
    "print(\"Results\")\n",
    "x=run_query(queryString)"
   ]
  },
  {
   "cell_type": "code",
   "execution_count": 255,
   "id": "a7dea898-c308-419d-9b1e-cabb0a9f8f35",
   "metadata": {},
   "outputs": [
    {
     "name": "stdout",
     "output_type": "stream",
     "text": [
      "Results\n",
      "[('p', 'http://www.wikidata.org/prop/direct/P1424'), ('name', \"topic's main template\")]\n",
      "[('p', 'http://www.wikidata.org/prop/direct/P1709'), ('name', 'equivalent class')]\n",
      "[('p', 'http://www.wikidata.org/prop/direct/P18'), ('name', 'image')]\n",
      "[('p', 'http://www.wikidata.org/prop/direct/P1889'), ('name', 'different from')]\n",
      "[('p', 'http://www.wikidata.org/prop/direct/P1963'), ('name', 'properties for this type')]\n",
      "[('p', 'http://www.wikidata.org/prop/direct/P227'), ('name', 'GND ID')]\n",
      "[('p', 'http://www.wikidata.org/prop/direct/P2354'), ('name', 'has list')]\n",
      "[('p', 'http://www.wikidata.org/prop/direct/P244'), ('name', 'Library of Congress authority ID')]\n",
      "[('p', 'http://www.wikidata.org/prop/direct/P2671'), ('name', 'Google Knowledge Graph ID')]\n",
      "[('p', 'http://www.wikidata.org/prop/direct/P268'), ('name', 'Bibliothèque nationale de France ID')]\n",
      "[('p', 'http://www.wikidata.org/prop/direct/P279'), ('name', 'subclass of')]\n",
      "[('p', 'http://www.wikidata.org/prop/direct/P3417'), ('name', 'Quora topic ID')]\n",
      "[('p', 'http://www.wikidata.org/prop/direct/P3553'), ('name', 'Zhihu topic ID')]\n",
      "[('p', 'http://www.wikidata.org/prop/direct/P373'), ('name', 'Commons category')]\n",
      "[('p', 'http://www.wikidata.org/prop/direct/P508'), ('name', 'BNCF Thesaurus ID')]\n",
      "[('p', 'http://www.wikidata.org/prop/direct/P527'), ('name', 'has part')]\n",
      "[('p', 'http://www.wikidata.org/prop/direct/P5869'), ('name', 'model item')]\n",
      "[('p', 'http://www.wikidata.org/prop/direct/P641'), ('name', 'sport')]\n",
      "[('p', 'http://www.wikidata.org/prop/direct/P646'), ('name', 'Freebase ID')]\n",
      "[('p', 'http://www.wikidata.org/prop/direct/P6573'), ('name', 'Klexikon article ID')]\n",
      "[('p', 'http://www.wikidata.org/prop/direct/P8408'), ('name', 'KBpedia ID')]\n",
      "[('p', 'http://www.wikidata.org/prop/direct/P910'), ('name', \"topic's main category\")]\n",
      "22\n"
     ]
    }
   ],
   "source": [
    "# I have searched the association football club for Q476028\n",
    "\n",
    "\n",
    "queryString = \"\"\"\n",
    "SELECT DISTINCT ?p ?name \n",
    "WHERE {\n",
    "\n",
    "   wd:Q476028 ?p ?object .\n",
    "   \n",
    "   ?p sc:name ?name.\n",
    "}\n",
    "LIMIT 30\n",
    "\"\"\"\n",
    "\n",
    "print(\"Results\")\n",
    "x=run_query(queryString)"
   ]
  },
  {
   "cell_type": "code",
   "execution_count": 256,
   "id": "bb105a6d",
   "metadata": {},
   "outputs": [
    {
     "name": "stdout",
     "output_type": "stream",
     "text": [
      "Results\n",
      "[('object', 'http://www.wikidata.org/entity/Q476028'), ('objectName', 'association football club')]\n",
      "1\n"
     ]
    }
   ],
   "source": [
    "# write your final query\n",
    "# [('object', 'http://www.wikidata.org/entity/Q937857'), ('objectName', 'association football player')]\n",
    "\n",
    "\n",
    "queryString = \"\"\"\n",
    "SELECT DISTINCT ?object ?objectName \n",
    "WHERE {\n",
    "\n",
    "   wd:Q937857 ?p ?object .\n",
    "   \n",
    "   ?object sc:name ?objectName\n",
    "   FILTER REGEX(?objectName, \"association football club\")\n",
    "}\n",
    "LIMIT 45\n",
    "\"\"\"\n",
    "\n",
    "print(\"Results\")\n",
    "x=run_query(queryString)"
   ]
  },
  {
   "cell_type": "code",
   "execution_count": 259,
   "id": "a765f16e-c4ff-40ce-97c2-57c851b34f58",
   "metadata": {},
   "outputs": [
    {
     "name": "stdout",
     "output_type": "stream",
     "text": [
      "Results\n",
      "[('object', 'http://www.wikidata.org/prop/direct/P1424'), ('name', \"topic's main template\")]\n",
      "[('object', 'http://www.wikidata.org/prop/direct/P1709'), ('name', 'equivalent class')]\n",
      "[('object', 'http://www.wikidata.org/prop/direct/P18'), ('name', 'image')]\n",
      "[('object', 'http://www.wikidata.org/prop/direct/P1889'), ('name', 'different from')]\n",
      "[('object', 'http://www.wikidata.org/prop/direct/P1963'), ('name', 'properties for this type')]\n",
      "[('object', 'http://www.wikidata.org/prop/direct/P227'), ('name', 'GND ID')]\n",
      "[('object', 'http://www.wikidata.org/prop/direct/P2354'), ('name', 'has list')]\n",
      "[('object', 'http://www.wikidata.org/prop/direct/P244'), ('name', 'Library of Congress authority ID')]\n",
      "[('object', 'http://www.wikidata.org/prop/direct/P2671'), ('name', 'Google Knowledge Graph ID')]\n",
      "[('object', 'http://www.wikidata.org/prop/direct/P268'), ('name', 'Bibliothèque nationale de France ID')]\n",
      "[('object', 'http://www.wikidata.org/prop/direct/P279'), ('name', 'subclass of')]\n",
      "[('object', 'http://www.wikidata.org/prop/direct/P3417'), ('name', 'Quora topic ID')]\n",
      "[('object', 'http://www.wikidata.org/prop/direct/P3553'), ('name', 'Zhihu topic ID')]\n",
      "[('object', 'http://www.wikidata.org/prop/direct/P373'), ('name', 'Commons category')]\n",
      "[('object', 'http://www.wikidata.org/prop/direct/P508'), ('name', 'BNCF Thesaurus ID')]\n",
      "[('object', 'http://www.wikidata.org/prop/direct/P527'), ('name', 'has part')]\n",
      "[('object', 'http://www.wikidata.org/prop/direct/P5869'), ('name', 'model item')]\n",
      "[('object', 'http://www.wikidata.org/prop/direct/P641'), ('name', 'sport')]\n",
      "[('object', 'http://www.wikidata.org/prop/direct/P646'), ('name', 'Freebase ID')]\n",
      "[('object', 'http://www.wikidata.org/prop/direct/P6573'), ('name', 'Klexikon article ID')]\n",
      "[('object', 'http://www.wikidata.org/prop/direct/P8408'), ('name', 'KBpedia ID')]\n",
      "[('object', 'http://www.wikidata.org/prop/direct/P910'), ('name', \"topic's main category\")]\n",
      "22\n"
     ]
    }
   ],
   "source": [
    "# write your final query\n",
    "# [('object', 'http://www.wikidata.org/entity/Q476028'), ('objectName', 'association football club')]\n",
    "\n",
    "\n",
    "queryString = \"\"\"\n",
    "SELECT DISTINCT ?object ?name\n",
    "WHERE {\n",
    "   # bind something\n",
    "   wd:Q476028 ?object ?o.\n",
    "   # get the label\n",
    "   ?object sc:name ?name.\n",
    "    \n",
    "}\n",
    "LIMIT 500\n",
    "\"\"\"\n",
    "\n",
    "print(\"Results\")\n",
    "x=run_query(queryString)"
   ]
  },
  {
   "cell_type": "markdown",
   "id": "603a2444",
   "metadata": {},
   "source": [
    "## Task 2\n",
    "Identify the BGP for association football league"
   ]
  },
  {
   "cell_type": "code",
   "execution_count": 64,
   "id": "b721312f",
   "metadata": {},
   "outputs": [
    {
     "name": "stdout",
     "output_type": "stream",
     "text": [
      "Results\n",
      "[('p', 'http://www.wikidata.org/prop/direct/P1132'), ('name', 'number of participants')]\n",
      "[('p', 'http://www.wikidata.org/prop/direct/P1346'), ('name', 'winner')]\n",
      "[('p', 'http://www.wikidata.org/prop/direct/P1350'), ('name', 'number of matches played/races/starts')]\n",
      "[('p', 'http://www.wikidata.org/prop/direct/P1424'), ('name', \"topic's main template\")]\n",
      "[('p', 'http://www.wikidata.org/prop/direct/P154'), ('name', 'logo image')]\n",
      "[('p', 'http://www.wikidata.org/prop/direct/P155'), ('name', 'follows')]\n",
      "[('p', 'http://www.wikidata.org/prop/direct/P17'), ('name', 'country')]\n",
      "[('p', 'http://www.wikidata.org/prop/direct/P1889'), ('name', 'different from')]\n",
      "[('p', 'http://www.wikidata.org/prop/direct/P2002'), ('name', 'Twitter username')]\n",
      "[('p', 'http://www.wikidata.org/prop/direct/P2003'), ('name', 'Instagram username')]\n",
      "[('p', 'http://www.wikidata.org/prop/direct/P2013'), ('name', 'Facebook ID')]\n",
      "[('p', 'http://www.wikidata.org/prop/direct/P2094'), ('name', 'competition class')]\n",
      "[('p', 'http://www.wikidata.org/prop/direct/P2257'), ('name', 'event interval')]\n",
      "[('p', 'http://www.wikidata.org/prop/direct/P2397'), ('name', 'YouTube channel ID')]\n",
      "[('p', 'http://www.wikidata.org/prop/direct/P2500'), ('name', 'league level below')]\n",
      "[('p', 'http://www.wikidata.org/prop/direct/P2581'), ('name', 'BabelNet ID')]\n",
      "[('p', 'http://www.wikidata.org/prop/direct/P279'), ('name', 'subclass of')]\n",
      "[('p', 'http://www.wikidata.org/prop/direct/P2847'), ('name', 'Google+ ID')]\n",
      "[('p', 'http://www.wikidata.org/prop/direct/P2924'), ('name', 'Great Russian Encyclopedia Online ID')]\n",
      "[('p', 'http://www.wikidata.org/prop/direct/P31'), ('name', 'instance of')]\n",
      "[('p', 'http://www.wikidata.org/prop/direct/P3414'), ('name', 'Yle Areena item ID')]\n",
      "[('p', 'http://www.wikidata.org/prop/direct/P3417'), ('name', 'Quora topic ID')]\n",
      "[('p', 'http://www.wikidata.org/prop/direct/P3418'), ('name', 'Google Play Store app ID')]\n",
      "[('p', 'http://www.wikidata.org/prop/direct/P3479'), ('name', 'Omni topic ID')]\n",
      "[('p', 'http://www.wikidata.org/prop/direct/P3553'), ('name', 'Zhihu topic ID')]\n",
      "[('p', 'http://www.wikidata.org/prop/direct/P373'), ('name', 'Commons category')]\n",
      "[('p', 'http://www.wikidata.org/prop/direct/P3861'), ('name', 'App Store app ID')]\n",
      "[('p', 'http://www.wikidata.org/prop/direct/P3984'), ('name', 'subreddit')]\n",
      "[('p', 'http://www.wikidata.org/prop/direct/P4013'), ('name', 'Giphy username')]\n",
      "[('p', 'http://www.wikidata.org/prop/direct/P4342'), ('name', 'Store norske leksikon ID')]\n",
      "30\n"
     ]
    }
   ],
   "source": [
    "# write your queries\n",
    "\n",
    "queryString = \"\"\"\n",
    "SELECT DISTINCT ?p ?name \n",
    "WHERE {\n",
    "\n",
    "   wd:Q15804 ?p ?object .\n",
    "   \n",
    "   ?p sc:name ?name\n",
    "}\n",
    "LIMIT 30\n",
    "\"\"\"\n",
    "\n",
    "print(\"Results\")\n",
    "x=run_query(queryString)"
   ]
  },
  {
   "cell_type": "code",
   "execution_count": 65,
   "id": "99768e3e-f1ac-43a7-84d1-a4dffbb9b50e",
   "metadata": {},
   "outputs": [
    {
     "name": "stdout",
     "output_type": "stream",
     "text": [
      "Results\n",
      "[('p', 'http://www.wikidata.org/prop/direct/P2500'), ('name', 'Serie A')]\n",
      "[('p', 'http://www.wikidata.org/prop/direct/P910'), ('name', 'Category:Serie A')]\n",
      "[('p', 'http://www.wikidata.org/prop/direct/P4794'), ('name', 'August')]\n",
      "[('p', 'http://www.wikidata.org/prop/direct/P641'), ('name', 'association football')]\n",
      "[('p', 'http://www.wikidata.org/prop/direct/P17'), ('name', 'Italy')]\n",
      "[('p', 'http://www.wikidata.org/prop/direct/P1346'), ('name', 'FC Internazionale Milano')]\n",
      "[('p', 'http://www.wikidata.org/prop/direct/P279'), ('name', 'association football competition')]\n",
      "[('p', 'http://www.wikidata.org/prop/direct/P31'), ('name', 'association football league')]\n",
      "[('p', 'http://www.wikidata.org/prop/direct/P2094'), ('name', \"men's association football\")]\n",
      "[('p', 'http://www.wikidata.org/prop/direct/P279'), ('name', 'national championship')]\n",
      "[('p', 'http://www.wikidata.org/prop/direct/P6587'), ('name', 'Italian association football league system')]\n",
      "[('p', 'http://www.wikidata.org/prop/direct/P664'), ('name', 'Lega Serie A')]\n",
      "[('p', 'http://www.wikidata.org/prop/direct/P1889'), ('name', 'Serie A')]\n",
      "[('p', 'http://www.wikidata.org/prop/direct/P155'), ('name', 'list of Italian football champions')]\n",
      "[('p', 'http://www.wikidata.org/prop/direct/P1424'), ('name', 'Template:Serie A seasons')]\n",
      "15\n"
     ]
    }
   ],
   "source": [
    "queryString = \"\"\"\n",
    "SELECT DISTINCT ?p ?name \n",
    "WHERE {\n",
    "\n",
    "   wd:Q15804 ?p ?object .\n",
    "   \n",
    "   ?object sc:name ?name\n",
    "}\n",
    "LIMIT 100\n",
    "\"\"\"\n",
    "\n",
    "print(\"Results\")\n",
    "x=run_query(queryString)"
   ]
  },
  {
   "cell_type": "markdown",
   "id": "526ca0cf",
   "metadata": {},
   "source": [
    "Final query for this task"
   ]
  },
  {
   "cell_type": "code",
   "execution_count": 49,
   "id": "f73678e2",
   "metadata": {},
   "outputs": [
    {
     "name": "stdout",
     "output_type": "stream",
     "text": [
      "Results\n",
      "[('object', 'http://www.wikidata.org/entity/Q15991303'), ('name', 'association football league')]\n",
      "[('object', 'http://www.wikidata.org/entity/Q953425'), ('name', 'Italian association football league system')]\n",
      "2\n"
     ]
    }
   ],
   "source": [
    "# write your final query\n",
    "queryString = \"\"\"\n",
    "SELECT DISTINCT ?object ?name \n",
    "WHERE {\n",
    "\n",
    "   wd:Q15804 ?p ?object .\n",
    "   \n",
    "   ?object sc:name ?name.\n",
    "   FILTER REGEX(?name, \"association football league\")\n",
    "}\n",
    "LIMIT 45\n",
    "\"\"\"\n",
    "\n",
    "print(\"Results\")\n",
    "x=run_query(queryString)"
   ]
  },
  {
   "cell_type": "markdown",
   "id": "8ee7a7f7",
   "metadata": {
    "tags": []
   },
   "source": [
    "## Task 3\n",
    "Return for each north american country the number of association football clubs"
   ]
  },
  {
   "cell_type": "code",
   "execution_count": 72,
   "id": "bbb8abc4-8bad-49b6-8e8d-790fd43bc412",
   "metadata": {},
   "outputs": [
    {
     "name": "stdout",
     "output_type": "stream",
     "text": [
      "Results\n",
      "[('s', 'http://www.wikidata.org/entity/Q5611964'), ('sName', 'Template:Infobox football club'), ('p', 'http://www.wikidata.org/prop/direct/P1423'), ('pName', 'template has topic')]\n",
      "[('s', 'http://www.wikidata.org/entity/Q51481377'), ('sName', \"women's association football club\"), ('p', 'http://www.wikidata.org/prop/direct/P1889'), ('pName', 'different from')]\n",
      "[('s', 'http://www.wikidata.org/entity/Q15944511'), ('sName', 'association football team'), ('p', 'http://www.wikidata.org/prop/direct/P1889'), ('pName', 'different from')]\n",
      "[('s', 'http://www.wikidata.org/entity/Q28083137'), ('sName', 'football team'), ('p', 'http://www.wikidata.org/prop/direct/P1889'), ('pName', 'different from')]\n",
      "[('s', 'http://www.wikidata.org/entity/Q103231176'), ('sName', \"men's association football club\"), ('p', 'http://www.wikidata.org/prop/direct/P1889'), ('pName', 'different from')]\n",
      "[('s', 'http://www.wikidata.org/entity/Q51481377'), ('sName', \"women's association football club\"), ('p', 'http://www.wikidata.org/prop/direct/P279'), ('pName', 'subclass of')]\n",
      "[('s', 'http://www.wikidata.org/entity/Q14752149'), ('sName', 'amateur football club'), ('p', 'http://www.wikidata.org/prop/direct/P279'), ('pName', 'subclass of')]\n",
      "[('s', 'http://www.wikidata.org/entity/Q94579592'), ('sName', 'defunct association football clubs'), ('p', 'http://www.wikidata.org/prop/direct/P279'), ('pName', 'subclass of')]\n",
      "[('s', 'http://www.wikidata.org/entity/Q103231176'), ('sName', \"men's association football club\"), ('p', 'http://www.wikidata.org/prop/direct/P279'), ('pName', 'subclass of')]\n",
      "[('s', 'http://www.wikidata.org/entity/Q7315281'), ('sName', 'Reserve teams in Norwegian football'), ('p', 'http://www.wikidata.org/prop/direct/P279'), ('pName', 'subclass of')]\n",
      "[('s', 'http://www.wikidata.org/entity/Q1856249'), ('sName', 'football club in the Dutch East Indies'), ('p', 'http://www.wikidata.org/prop/direct/P279'), ('pName', 'subclass of')]\n",
      "[('s', 'http://www.wikidata.org/entity/Q5614332'), ('sName', 'Category:Association football clubs'), ('p', 'http://www.wikidata.org/prop/direct/P301'), ('pName', \"category's main topic\")]\n",
      "[('s', 'http://www.wikidata.org/entity/Q4647107'), ('sName', 'A.D. Dili Leste'), ('p', 'http://www.wikidata.org/prop/direct/P31'), ('pName', 'instance of')]\n",
      "[('s', 'http://www.wikidata.org/entity/Q8186475'), ('sName', 'Tahuichi Academy'), ('p', 'http://www.wikidata.org/prop/direct/P31'), ('pName', 'instance of')]\n",
      "[('s', 'http://www.wikidata.org/entity/Q8208548'), ('sName', 'Atlético Trujillo'), ('p', 'http://www.wikidata.org/prop/direct/P31'), ('pName', 'instance of')]\n",
      "[('s', 'http://www.wikidata.org/entity/Q2631783'), ('sName', 'Cizrespor'), ('p', 'http://www.wikidata.org/prop/direct/P31'), ('pName', 'instance of')]\n",
      "[('s', 'http://www.wikidata.org/entity/Q3448775'), ('sName', 'FK Sloboda Mrkonjić Grad'), ('p', 'http://www.wikidata.org/prop/direct/P31'), ('pName', 'instance of')]\n",
      "[('s', 'http://www.wikidata.org/entity/Q5100109'), ('sName', 'Chinandega FC'), ('p', 'http://www.wikidata.org/prop/direct/P31'), ('pName', 'instance of')]\n",
      "[('s', 'http://www.wikidata.org/entity/Q5379014'), ('sName', 'Enkaspor'), ('p', 'http://www.wikidata.org/prop/direct/P31'), ('pName', 'instance of')]\n",
      "[('s', 'http://www.wikidata.org/entity/Q7280157'), ('sName', \"Radford Highlanders men's soccer\"), ('p', 'http://www.wikidata.org/prop/direct/P31'), ('pName', 'instance of')]\n",
      "[('s', 'http://www.wikidata.org/entity/Q7300846'), ('sName', 'Real Arroyo Seco'), ('p', 'http://www.wikidata.org/prop/direct/P31'), ('pName', 'instance of')]\n",
      "[('s', 'http://www.wikidata.org/entity/Q14252413'), ('sName', 'Rapid JC'), ('p', 'http://www.wikidata.org/prop/direct/P31'), ('pName', 'instance of')]\n",
      "[('s', 'http://www.wikidata.org/entity/Q14919844'), ('sName', \"Fortuna '54\"), ('p', 'http://www.wikidata.org/prop/direct/P31'), ('pName', 'instance of')]\n",
      "[('s', 'http://www.wikidata.org/entity/Q3375656'), ('sName', 'Persekabpas Pasuruan'), ('p', 'http://www.wikidata.org/prop/direct/P31'), ('pName', 'instance of')]\n",
      "[('s', 'http://www.wikidata.org/entity/Q6414993'), ('sName', 'Southwick F.C.'), ('p', 'http://www.wikidata.org/prop/direct/P31'), ('pName', 'instance of')]\n",
      "[('s', 'http://www.wikidata.org/entity/Q15726292'), ('sName', 'JS Talangaï'), ('p', 'http://www.wikidata.org/prop/direct/P31'), ('pName', 'instance of')]\n",
      "[('s', 'http://www.wikidata.org/entity/Q16842749'), ('sName', 'Klippans FF'), ('p', 'http://www.wikidata.org/prop/direct/P31'), ('pName', 'instance of')]\n",
      "[('s', 'http://www.wikidata.org/entity/Q3626845'), ('sName', 'A.S.D. Anziolavinio'), ('p', 'http://www.wikidata.org/prop/direct/P31'), ('pName', 'instance of')]\n",
      "[('s', 'http://www.wikidata.org/entity/Q3860587'), ('sName', 'Moncalieri Calcio'), ('p', 'http://www.wikidata.org/prop/direct/P31'), ('pName', 'instance of')]\n",
      "[('s', 'http://www.wikidata.org/entity/Q4890097'), ('sName', 'CD Utiel'), ('p', 'http://www.wikidata.org/prop/direct/P31'), ('pName', 'instance of')]\n",
      "30\n"
     ]
    }
   ],
   "source": [
    "queryString = \"\"\"\n",
    "SELECT DISTINCT ?s ?sName ?p ?pName \n",
    "WHERE {\n",
    "\n",
    "   ?s ?p wd:Q476028.\n",
    "   \n",
    "   ?s sc:name ?sName.\n",
    "   ?p sc:name ?pName\n",
    "   \n",
    "   \n",
    "}\n",
    "LIMIT 30\n",
    "\"\"\"\n",
    "\n",
    "print(\"Results\")\n",
    "x=run_query(queryString)"
   ]
  },
  {
   "cell_type": "code",
   "execution_count": 75,
   "id": "99c8be3c-f9cc-47e6-9abb-e6f776dbc760",
   "metadata": {},
   "outputs": [
    {
     "name": "stdout",
     "output_type": "stream",
     "text": [
      "Results\n",
      "[('obj', 'http://www.wikidata.org/entity/Q51481377'), ('name', \"women's association football club\")]\n",
      "[('obj', 'http://www.wikidata.org/entity/Q15944511'), ('name', 'association football team')]\n",
      "[('obj', 'http://www.wikidata.org/entity/Q2736'), ('name', 'association football')]\n",
      "[('obj', 'http://www.wikidata.org/entity/Q628099'), ('name', 'association football manager')]\n",
      "[('obj', 'http://www.wikidata.org/entity/Q937857'), ('name', 'association football player')]\n",
      "[('obj', 'http://www.wikidata.org/entity/Q714581'), ('name', 'Nea Salamis Famagusta FC')]\n",
      "[('obj', 'http://www.wikidata.org/entity/Q167270'), ('name', 'trademark')]\n",
      "[('obj', 'http://www.wikidata.org/entity/Q17270000'), ('name', 'football club')]\n",
      "[('obj', 'http://www.wikidata.org/entity/Q28083137'), ('name', 'football team')]\n",
      "[('obj', 'http://www.wikidata.org/entity/P5424'), ('name', 'Lega Serie A team ID')]\n",
      "[('obj', 'http://www.wikidata.org/entity/Q5614332'), ('name', 'Category:Association football clubs')]\n",
      "[('obj', 'http://www.wikidata.org/entity/Q103231176'), ('name', \"men's association football club\")]\n",
      "[('obj', 'http://www.wikidata.org/entity/P1241'), ('name', 'Swiss Football Association club number')]\n",
      "[('obj', 'http://www.wikidata.org/entity/P4639'), ('name', 'Estonian Football Association team ID')]\n",
      "[('obj', 'http://www.wikidata.org/entity/Q951054'), ('name', 'list of association football clubs')]\n",
      "[('obj', 'http://www.wikidata.org/entity/Q5611964'), ('name', 'Template:Infobox football club')]\n",
      "16\n"
     ]
    }
   ],
   "source": [
    "queryString = \"\"\"\n",
    "SELECT DISTINCT ?obj ?name\n",
    "WHERE {\n",
    "\n",
    "   wd:Q476028 ?p ?obj.\n",
    "   \n",
    "    ?obj sc:name ?name.\n",
    "   \n",
    "   \n",
    "}\n",
    "LIMIT 30\n",
    "\"\"\"\n",
    "\n",
    "print(\"Results\")\n",
    "x=run_query(queryString)"
   ]
  },
  {
   "cell_type": "code",
   "execution_count": 82,
   "id": "1d74d03d-919c-49e5-90ae-6fac7f7dce00",
   "metadata": {},
   "outputs": [
    {
     "name": "stdout",
     "output_type": "stream",
     "text": [
      "Results\n",
      "[('p', 'http://www.wikidata.org/prop/direct/P1424'), ('name', \"topic's main template\")]\n",
      "[('p', 'http://www.wikidata.org/prop/direct/P1709'), ('name', 'equivalent class')]\n",
      "[('p', 'http://www.wikidata.org/prop/direct/P18'), ('name', 'image')]\n",
      "[('p', 'http://www.wikidata.org/prop/direct/P1889'), ('name', 'different from')]\n",
      "[('p', 'http://www.wikidata.org/prop/direct/P1963'), ('name', 'properties for this type')]\n",
      "[('p', 'http://www.wikidata.org/prop/direct/P227'), ('name', 'GND ID')]\n",
      "[('p', 'http://www.wikidata.org/prop/direct/P2354'), ('name', 'has list')]\n",
      "[('p', 'http://www.wikidata.org/prop/direct/P244'), ('name', 'Library of Congress authority ID')]\n",
      "[('p', 'http://www.wikidata.org/prop/direct/P2671'), ('name', 'Google Knowledge Graph ID')]\n",
      "[('p', 'http://www.wikidata.org/prop/direct/P268'), ('name', 'Bibliothèque nationale de France ID')]\n",
      "[('p', 'http://www.wikidata.org/prop/direct/P279'), ('name', 'subclass of')]\n",
      "[('p', 'http://www.wikidata.org/prop/direct/P3417'), ('name', 'Quora topic ID')]\n",
      "[('p', 'http://www.wikidata.org/prop/direct/P3553'), ('name', 'Zhihu topic ID')]\n",
      "[('p', 'http://www.wikidata.org/prop/direct/P373'), ('name', 'Commons category')]\n",
      "[('p', 'http://www.wikidata.org/prop/direct/P508'), ('name', 'BNCF Thesaurus ID')]\n",
      "[('p', 'http://www.wikidata.org/prop/direct/P527'), ('name', 'has part')]\n",
      "[('p', 'http://www.wikidata.org/prop/direct/P5869'), ('name', 'model item')]\n",
      "[('p', 'http://www.wikidata.org/prop/direct/P641'), ('name', 'sport')]\n",
      "[('p', 'http://www.wikidata.org/prop/direct/P646'), ('name', 'Freebase ID')]\n",
      "[('p', 'http://www.wikidata.org/prop/direct/P6573'), ('name', 'Klexikon article ID')]\n",
      "[('p', 'http://www.wikidata.org/prop/direct/P8408'), ('name', 'KBpedia ID')]\n",
      "[('p', 'http://www.wikidata.org/prop/direct/P910'), ('name', \"topic's main category\")]\n",
      "22\n"
     ]
    }
   ],
   "source": [
    "queryString = \"\"\"\n",
    "SELECT DISTINCT ?p ?name\n",
    "WHERE {\n",
    "\n",
    "   wd:Q476028 ?p ?obj.\n",
    "   \n",
    "    ?p sc:name ?name.\n",
    "   \n",
    "   \n",
    "}\n",
    "LIMIT 50\n",
    "\"\"\"\n",
    "\n",
    "print(\"Results\")\n",
    "x=run_query(queryString)"
   ]
  },
  {
   "cell_type": "code",
   "execution_count": 83,
   "id": "95a6f513-51bd-4a85-ae6b-573c2d0717aa",
   "metadata": {},
   "outputs": [
    {
     "name": "stdout",
     "output_type": "stream",
     "text": [
      "Results\n",
      "[('p', 'http://www.wikidata.org/prop/direct/P112'), ('name', 'founded by')]\n",
      "[('p', 'http://www.wikidata.org/prop/direct/P115'), ('name', 'home venue')]\n",
      "[('p', 'http://www.wikidata.org/prop/direct/P118'), ('name', 'league')]\n",
      "[('p', 'http://www.wikidata.org/prop/direct/P127'), ('name', 'owned by')]\n",
      "[('p', 'http://www.wikidata.org/prop/direct/P138'), ('name', 'named after')]\n",
      "[('p', 'http://www.wikidata.org/prop/direct/P1417'), ('name', 'Encyclopædia Britannica Online ID')]\n",
      "[('p', 'http://www.wikidata.org/prop/direct/P1454'), ('name', 'legal form')]\n",
      "[('p', 'http://www.wikidata.org/prop/direct/P154'), ('name', 'logo image')]\n",
      "[('p', 'http://www.wikidata.org/prop/direct/P159'), ('name', 'headquarters location')]\n",
      "[('p', 'http://www.wikidata.org/prop/direct/P166'), ('name', 'award received')]\n",
      "[('p', 'http://www.wikidata.org/prop/direct/P17'), ('name', 'country')]\n",
      "[('p', 'http://www.wikidata.org/prop/direct/P18'), ('name', 'image')]\n",
      "[('p', 'http://www.wikidata.org/prop/direct/P1830'), ('name', 'owner of')]\n",
      "[('p', 'http://www.wikidata.org/prop/direct/P2002'), ('name', 'Twitter username')]\n",
      "[('p', 'http://www.wikidata.org/prop/direct/P2003'), ('name', 'Instagram username')]\n",
      "[('p', 'http://www.wikidata.org/prop/direct/P2013'), ('name', 'Facebook ID')]\n",
      "[('p', 'http://www.wikidata.org/prop/direct/P213'), ('name', 'ISNI')]\n",
      "[('p', 'http://www.wikidata.org/prop/direct/P214'), ('name', 'VIAF ID')]\n",
      "[('p', 'http://www.wikidata.org/prop/direct/P2184'), ('name', 'history of topic')]\n",
      "[('p', 'http://www.wikidata.org/prop/direct/P227'), ('name', 'GND ID')]\n",
      "[('p', 'http://www.wikidata.org/prop/direct/P2397'), ('name', 'YouTube channel ID')]\n",
      "[('p', 'http://www.wikidata.org/prop/direct/P244'), ('name', 'Library of Congress authority ID')]\n",
      "[('p', 'http://www.wikidata.org/prop/direct/P2522'), ('name', 'victory')]\n",
      "[('p', 'http://www.wikidata.org/prop/direct/P2581'), ('name', 'BabelNet ID')]\n",
      "[('p', 'http://www.wikidata.org/prop/direct/P2847'), ('name', 'Google+ ID')]\n",
      "[('p', 'http://www.wikidata.org/prop/direct/P286'), ('name', 'head coach')]\n",
      "[('p', 'http://www.wikidata.org/prop/direct/P2924'), ('name', 'Great Russian Encyclopedia Online ID')]\n",
      "[('p', 'http://www.wikidata.org/prop/direct/P31'), ('name', 'instance of')]\n",
      "[('p', 'http://www.wikidata.org/prop/direct/P3347'), ('name', 'PermID')]\n",
      "[('p', 'http://www.wikidata.org/prop/direct/P3417'), ('name', 'Quora topic ID')]\n",
      "[('p', 'http://www.wikidata.org/prop/direct/P3418'), ('name', 'Google Play Store app ID')]\n",
      "[('p', 'http://www.wikidata.org/prop/direct/P3500'), ('name', 'Ringgold ID')]\n",
      "[('p', 'http://www.wikidata.org/prop/direct/P3509'), ('name', 'Dagens Nyheter topic ID')]\n",
      "[('p', 'http://www.wikidata.org/prop/direct/P355'), ('name', 'subsidiary')]\n",
      "[('p', 'http://www.wikidata.org/prop/direct/P3553'), ('name', 'Zhihu topic ID')]\n",
      "[('p', 'http://www.wikidata.org/prop/direct/P373'), ('name', 'Commons category')]\n",
      "[('p', 'http://www.wikidata.org/prop/direct/P3861'), ('name', 'App Store app ID')]\n",
      "[('p', 'http://www.wikidata.org/prop/direct/P3984'), ('name', 'subreddit')]\n",
      "[('p', 'http://www.wikidata.org/prop/direct/P4013'), ('name', 'Giphy username')]\n",
      "[('p', 'http://www.wikidata.org/prop/direct/P414'), ('name', 'stock exchange')]\n",
      "[('p', 'http://www.wikidata.org/prop/direct/P4342'), ('name', 'Store norske leksikon ID')]\n",
      "[('p', 'http://www.wikidata.org/prop/direct/P488'), ('name', 'chairperson')]\n",
      "[('p', 'http://www.wikidata.org/prop/direct/P5247'), ('name', 'Giant Bomb ID')]\n",
      "[('p', 'http://www.wikidata.org/prop/direct/P5424'), ('name', 'Lega Serie A team ID')]\n",
      "[('p', 'http://www.wikidata.org/prop/direct/P571'), ('name', 'inception')]\n",
      "[('p', 'http://www.wikidata.org/prop/direct/P5995'), ('name', 'kit supplier')]\n",
      "[('p', 'http://www.wikidata.org/prop/direct/P6112'), ('name', 'category for members of a team')]\n",
      "[('p', 'http://www.wikidata.org/prop/direct/P6131'), ('name', 'Soccerway team ID')]\n",
      "[('p', 'http://www.wikidata.org/prop/direct/P6364'), ('name', 'official color(s)')]\n",
      "[('p', 'http://www.wikidata.org/prop/direct/P641'), ('name', 'sport')]\n",
      "50\n"
     ]
    }
   ],
   "source": [
    "queryString = \"\"\"\n",
    "SELECT DISTINCT ?p ?name\n",
    "WHERE {\n",
    "\n",
    "   wd:Q1422 ?p ?obj.\n",
    "   \n",
    "    ?p sc:name ?name.\n",
    "   \n",
    "   \n",
    "}\n",
    "LIMIT 50\n",
    "\"\"\"\n",
    "\n",
    "print(\"Results\")\n",
    "x=run_query(queryString)"
   ]
  },
  {
   "cell_type": "code",
   "execution_count": 85,
   "id": "9a2ca7c6-ce7e-4658-a4cc-d3763934522d",
   "metadata": {},
   "outputs": [
    {
     "name": "stdout",
     "output_type": "stream",
     "text": [
      "Results\n",
      "[('object', 'http://www.wikidata.org/entity/Q38'), ('name', 'Italy')]\n",
      "1\n"
     ]
    }
   ],
   "source": [
    "queryString = \"\"\"\n",
    "SELECT DISTINCT ?object ?name\n",
    "WHERE {\n",
    "\n",
    "   wd:Q1422 wdt:P17 ?object.\n",
    "   \n",
    "    ?object sc:name ?name.\n",
    "   \n",
    "   \n",
    "}\n",
    "LIMIT 50\n",
    "\"\"\"\n",
    "\n",
    "print(\"Results\")\n",
    "x=run_query(queryString)"
   ]
  },
  {
   "cell_type": "code",
   "execution_count": 86,
   "id": "ed7a361b-3968-430a-a798-4b40ed0c2838",
   "metadata": {},
   "outputs": [
    {
     "name": "stdout",
     "output_type": "stream",
     "text": [
      "Results\n",
      "[('p', 'http://www.wikidata.org/prop/direct/P1005'), ('name', 'Portuguese National Library ID')]\n",
      "[('p', 'http://www.wikidata.org/prop/direct/P1036'), ('name', 'Dewey Decimal Classification')]\n",
      "[('p', 'http://www.wikidata.org/prop/direct/P1081'), ('name', 'Human Development Index')]\n",
      "[('p', 'http://www.wikidata.org/prop/direct/P1082'), ('name', 'population')]\n",
      "[('p', 'http://www.wikidata.org/prop/direct/P1120'), ('name', 'number of deaths')]\n",
      "[('p', 'http://www.wikidata.org/prop/direct/P1151'), ('name', \"topic's main Wikimedia portal\")]\n",
      "[('p', 'http://www.wikidata.org/prop/direct/P1198'), ('name', 'unemployment rate')]\n",
      "[('p', 'http://www.wikidata.org/prop/direct/P122'), ('name', 'basic form of government')]\n",
      "[('p', 'http://www.wikidata.org/prop/direct/P1225'), ('name', 'U.S. National Archives Identifier')]\n",
      "[('p', 'http://www.wikidata.org/prop/direct/P1245'), ('name', 'OmegaWiki Defined Meaning')]\n",
      "[('p', 'http://www.wikidata.org/prop/direct/P1296'), ('name', 'Gran Enciclopèdia Catalana ID')]\n",
      "[('p', 'http://www.wikidata.org/prop/direct/P1313'), ('name', 'office held by head of government')]\n",
      "[('p', 'http://www.wikidata.org/prop/direct/P1343'), ('name', 'described by source')]\n",
      "[('p', 'http://www.wikidata.org/prop/direct/P1365'), ('name', 'replaces')]\n",
      "[('p', 'http://www.wikidata.org/prop/direct/P1417'), ('name', 'Encyclopædia Britannica Online ID')]\n",
      "[('p', 'http://www.wikidata.org/prop/direct/P1419'), ('name', 'shape')]\n",
      "[('p', 'http://www.wikidata.org/prop/direct/P1438'), ('name', 'Jewish Encyclopedia ID (Russian)')]\n",
      "[('p', 'http://www.wikidata.org/prop/direct/P1451'), ('name', 'motto text')]\n",
      "[('p', 'http://www.wikidata.org/prop/direct/P1464'), ('name', 'category for people born here')]\n",
      "[('p', 'http://www.wikidata.org/prop/direct/P1465'), ('name', 'category for people who died here')]\n",
      "[('p', 'http://www.wikidata.org/prop/direct/P150'), ('name', 'contains administrative territorial entity')]\n",
      "[('p', 'http://www.wikidata.org/prop/direct/P1549'), ('name', 'demonym')]\n",
      "[('p', 'http://www.wikidata.org/prop/direct/P155'), ('name', 'follows')]\n",
      "[('p', 'http://www.wikidata.org/prop/direct/P1552'), ('name', 'has quality')]\n",
      "[('p', 'http://www.wikidata.org/prop/direct/P1566'), ('name', 'GeoNames ID')]\n",
      "[('p', 'http://www.wikidata.org/prop/direct/P1589'), ('name', 'lowest point')]\n",
      "[('p', 'http://www.wikidata.org/prop/direct/P1617'), ('name', 'BBC Things ID')]\n",
      "[('p', 'http://www.wikidata.org/prop/direct/P1622'), ('name', 'driving side')]\n",
      "[('p', 'http://www.wikidata.org/prop/direct/P163'), ('name', 'flag')]\n",
      "[('p', 'http://www.wikidata.org/prop/direct/P1667'), ('name', 'Getty Thesaurus of Geographic Names ID')]\n",
      "[('p', 'http://www.wikidata.org/prop/direct/P17'), ('name', 'country')]\n",
      "[('p', 'http://www.wikidata.org/prop/direct/P1740'), ('name', 'category for films shot at this location')]\n",
      "[('p', 'http://www.wikidata.org/prop/direct/P1791'), ('name', 'category of people buried here')]\n",
      "[('p', 'http://www.wikidata.org/prop/direct/P1792'), ('name', 'category of associated people')]\n",
      "[('p', 'http://www.wikidata.org/prop/direct/P1842'), ('name', 'Global Anabaptist Mennonite Encyclopedia Online ID')]\n",
      "[('p', 'http://www.wikidata.org/prop/direct/P1906'), ('name', 'office held by head of state')]\n",
      "[('p', 'http://www.wikidata.org/prop/direct/P194'), ('name', 'legislative body')]\n",
      "[('p', 'http://www.wikidata.org/prop/direct/P2004'), ('name', 'NALT ID')]\n",
      "[('p', 'http://www.wikidata.org/prop/direct/P2046'), ('name', 'area')]\n",
      "[('p', 'http://www.wikidata.org/prop/direct/P206'), ('name', 'located in or next to body of water')]\n",
      "[('p', 'http://www.wikidata.org/prop/direct/P208'), ('name', 'executive body')]\n",
      "[('p', 'http://www.wikidata.org/prop/direct/P209'), ('name', 'highest judicial authority')]\n",
      "[('p', 'http://www.wikidata.org/prop/direct/P213'), ('name', 'ISNI')]\n",
      "[('p', 'http://www.wikidata.org/prop/direct/P214'), ('name', 'VIAF ID')]\n",
      "[('p', 'http://www.wikidata.org/prop/direct/P2163'), ('name', 'FAST ID')]\n",
      "[('p', 'http://www.wikidata.org/prop/direct/P2184'), ('name', 'history of topic')]\n",
      "[('p', 'http://www.wikidata.org/prop/direct/P2250'), ('name', 'life expectancy')]\n",
      "[('p', 'http://www.wikidata.org/prop/direct/P2258'), ('name', 'mobile country code')]\n",
      "[('p', 'http://www.wikidata.org/prop/direct/P227'), ('name', 'GND ID')]\n",
      "[('p', 'http://www.wikidata.org/prop/direct/P2347'), ('name', 'YSO ID')]\n",
      "50\n"
     ]
    }
   ],
   "source": [
    "queryString = \"\"\"\n",
    "SELECT DISTINCT ?p ?name\n",
    "WHERE {\n",
    "\n",
    "   wd:Q38 ?p ?object.\n",
    "   \n",
    "    ?p sc:name ?name.\n",
    "   \n",
    "   \n",
    "}\n",
    "LIMIT 50\n",
    "\"\"\"\n",
    "\n",
    "print(\"Results\")\n",
    "x=run_query(queryString)"
   ]
  },
  {
   "cell_type": "code",
   "execution_count": 88,
   "id": "19703624-83e2-4e7a-9ef6-d508ccdbeead",
   "metadata": {},
   "outputs": [
    {
     "name": "stdout",
     "output_type": "stream",
     "text": [
      "Results\n",
      "[('object', 'http://www.wikidata.org/entity/Q46'), ('name', 'Europe')]\n",
      "1\n"
     ]
    }
   ],
   "source": [
    "queryString = \"\"\"\n",
    "SELECT DISTINCT ?object ?name\n",
    "WHERE {\n",
    "\n",
    "   wd:Q38 wdt:P30 ?object.\n",
    "   \n",
    "    ?object sc:name ?name.\n",
    "   \n",
    "   \n",
    "}\n",
    "LIMIT 50\n",
    "\"\"\"\n",
    "\n",
    "print(\"Results\")\n",
    "x=run_query(queryString)"
   ]
  },
  {
   "cell_type": "code",
   "execution_count": 90,
   "id": "59f9869b-aa10-4e01-87bb-3600c35a8895",
   "metadata": {},
   "outputs": [
    {
     "name": "stdout",
     "output_type": "stream",
     "text": [
      "Results\n",
      "[('object', 'http://www.wikidata.org/entity/Q60140'), ('name', 'Indian subcontinent')]\n",
      "[('object', 'http://www.wikidata.org/entity/Q55643'), ('name', 'Oceania')]\n",
      "[('object', 'http://www.wikidata.org/entity/Q19464773'), ('name', 'Northern America and Mexico')]\n",
      "[('object', 'http://www.wikidata.org/entity/Q1239'), ('name', 'Indian Ocean')]\n",
      "[('object', 'http://www.wikidata.org/entity/Q15'), ('name', 'Africa')]\n",
      "[('object', 'http://www.wikidata.org/entity/Q18'), ('name', 'South America')]\n",
      "[('object', 'http://www.wikidata.org/entity/Q4412'), ('name', 'West Africa')]\n",
      "[('object', 'http://www.wikidata.org/entity/Q46'), ('name', 'Europe')]\n",
      "[('object', 'http://www.wikidata.org/entity/Q48'), ('name', 'Asia')]\n",
      "[('object', 'http://www.wikidata.org/entity/Q49'), ('name', 'North America')]\n",
      "[('object', 'http://www.wikidata.org/entity/Q51'), ('name', 'Antarctica')]\n",
      "[('object', 'http://www.wikidata.org/entity/Q538'), ('name', 'Insular Oceania')]\n",
      "[('object', 'http://www.wikidata.org/entity/Q5401'), ('name', 'Eurasia')]\n",
      "[('object', 'http://www.wikidata.org/entity/Q620634'), ('name', 'Bir Tawil')]\n",
      "[('object', 'http://www.wikidata.org/entity/Q664609'), ('name', 'Caribbean')]\n",
      "[('object', 'http://www.wikidata.org/entity/Q97'), ('name', 'Atlantic Ocean')]\n",
      "[('object', 'http://www.wikidata.org/entity/Q98'), ('name', 'Pacific Ocean')]\n",
      "[('object', 'http://www.wikidata.org/entity/Q828'), ('name', 'Americas')]\n",
      "[('object', 'http://www.wikidata.org/entity/Q27611'), ('name', 'Central America')]\n",
      "[('object', 'http://www.wikidata.org/entity/Q3960'), ('name', 'Australia')]\n",
      "[('object', 'http://www.wikidata.org/entity/Q243333'), ('name', 'Hyperborea')]\n",
      "[('object', 'http://www.wikidata.org/entity/Q107665732'), ('name', 'Hyboria')]\n",
      "[('object', 'http://www.wikidata.org/entity/Q2622787'), ('name', 'Faerûn')]\n",
      "[('object', 'http://www.wikidata.org/entity/Q3143'), ('name', 'Europa')]\n",
      "[('object', 'http://www.wikidata.org/entity/Q726891'), ('name', 'Asia')]\n",
      "[('object', 'http://www.wikidata.org/entity/Q29876'), ('name', 'Middle America')]\n",
      "[('object', 'http://www.wikidata.org/entity/Q3623561'), ('name', 'Westeros')]\n",
      "[('object', 'http://www.wikidata.org/entity/Q10944852'), ('name', 'Essos')]\n",
      "[('object', 'http://www.wikidata.org/entity/Q107616725'), ('name', 'Alfrey')]\n",
      "[('object', 'http://www.wikidata.org/entity/Q108151247'), ('name', 'Thuria')]\n",
      "[('object', 'http://www.wikidata.org/entity/Q230634'), ('name', 'Asia')]\n",
      "[('object', 'http://www.wikidata.org/entity/Q108572150'), ('name', 'The Continent')]\n",
      "[('object', 'http://www.wikidata.org/entity/Q3192885'), ('name', 'Kara-Tur')]\n",
      "33\n"
     ]
    }
   ],
   "source": [
    "queryString = \"\"\"\n",
    "SELECT DISTINCT ?object ?name\n",
    "WHERE {\n",
    "\n",
    "   ?s wdt:P30 ?object.\n",
    "   \n",
    "    ?object sc:name ?name.\n",
    "   \n",
    "   \n",
    "}\n",
    "LIMIT 50\n",
    "\"\"\"\n",
    "\n",
    "print(\"Results\")\n",
    "x=run_query(queryString)"
   ]
  },
  {
   "cell_type": "code",
   "execution_count": 98,
   "id": "0443f2cb-3458-49d3-ab49-07df93bd56d9",
   "metadata": {},
   "outputs": [
    {
     "name": "stdout",
     "output_type": "stream",
     "text": [
      "Results\n",
      "[('club', 'http://www.wikidata.org/entity/Q7280157'), ('name', \"Radford Highlanders men's soccer\")]\n",
      "[('club', 'http://www.wikidata.org/entity/Q15876988'), ('name', 'Grenades FC')]\n",
      "[('club', 'http://www.wikidata.org/entity/Q3930989'), ('name', 'Real Colorado Foxes')]\n",
      "[('club', 'http://www.wikidata.org/entity/Q4816106'), ('name', 'Atlanta Magic')]\n",
      "[('club', 'http://www.wikidata.org/entity/Q4852791'), ('name', 'Baltimore Bohemians')]\n",
      "[('club', 'http://www.wikidata.org/entity/Q5020506'), ('name', 'California Gold')]\n",
      "[('club', 'http://www.wikidata.org/entity/Q5087877'), ('name', 'Chattanooga Express')]\n",
      "[('club', 'http://www.wikidata.org/entity/Q5095562'), ('name', 'Chicago Croatian')]\n",
      "[('club', 'http://www.wikidata.org/entity/Q5266043'), ('name', 'Waza Flo')]\n",
      "[('club', 'http://www.wikidata.org/entity/Q6116983'), ('name', 'Jackson Chargers')]\n",
      "[('club', 'http://www.wikidata.org/entity/Q7013918'), ('name', 'New York Red Bulls U-23')]\n",
      "[('club', 'http://www.wikidata.org/entity/Q7389397'), ('name', 'SC United Bantams')]\n",
      "[('club', 'http://www.wikidata.org/entity/Q7396981'), ('name', 'Sacramento Geckos')]\n",
      "[('club', 'http://www.wikidata.org/entity/Q7405894'), ('name', 'Salt Lake Sting')]\n",
      "[('club', 'http://www.wikidata.org/entity/Q7851144'), ('name', 'Tucson Amigos')]\n",
      "[('club', 'http://www.wikidata.org/entity/Q8003317'), ('name', 'Willamette Valley Firebirds')]\n",
      "[('club', 'http://www.wikidata.org/entity/Q5547696'), ('name', 'Georgia Revolution')]\n",
      "[('club', 'http://www.wikidata.org/entity/Q17492528'), ('name', 'Rovers FC')]\n",
      "[('club', 'http://www.wikidata.org/entity/Q2436577'), ('name', 'BK Marienlyst')]\n",
      "[('club', 'http://www.wikidata.org/entity/Q4816990'), ('name', 'Atlético Olanchano')]\n",
      "[('club', 'http://www.wikidata.org/entity/Q18157565'), ('name', 'MP United F.C.')]\n",
      "[('club', 'http://www.wikidata.org/entity/Q2180767'), ('name', 'Arnett Gardens F.C.')]\n",
      "[('club', 'http://www.wikidata.org/entity/Q22023193'), ('name', 'Memphis City FC')]\n",
      "[('club', 'http://www.wikidata.org/entity/Q20646903'), ('name', 'Atlantico FC')]\n",
      "[('club', 'http://www.wikidata.org/entity/Q30115775'), ('name', 'Platinum FC')]\n",
      "[('club', 'http://www.wikidata.org/entity/Q30115779'), ('name', 'Paire FC')]\n",
      "[('club', 'http://www.wikidata.org/entity/Q30115923'), ('name', 'United Old Road Jets FC')]\n",
      "[('club', 'http://www.wikidata.org/entity/Q30115941'), ('name', 'C.F. Pachuca')]\n",
      "[('club', 'http://www.wikidata.org/entity/Q30115946'), ('name', 'Club Universidad Nacional')]\n",
      "[('club', 'http://www.wikidata.org/entity/Q30115997'), ('name', 'Port City FC')]\n",
      "[('club', 'http://www.wikidata.org/entity/Q30914175'), ('name', 'Evergreen FC')]\n",
      "[('club', 'http://www.wikidata.org/entity/Q1066683'), ('name', 'Charleston Battery')]\n",
      "[('club', 'http://www.wikidata.org/entity/Q1095113'), ('name', 'San Jose Earthquakes')]\n",
      "[('club', 'http://www.wikidata.org/entity/Q1410905'), ('name', 'Cleveland Internationals')]\n",
      "[('club', 'http://www.wikidata.org/entity/Q15303416'), ('name', 'Houston Dash')]\n",
      "[('club', 'http://www.wikidata.org/entity/Q19828435'), ('name', 'Minnesota United FC')]\n",
      "[('club', 'http://www.wikidata.org/entity/Q2280846'), ('name', 'North Carolina Fusion U23')]\n",
      "[('club', 'http://www.wikidata.org/entity/Q58236450'), ('name', 'Memphis 901 FC')]\n",
      "[('club', 'http://www.wikidata.org/entity/Q924353'), ('name', 'Næstved BK')]\n",
      "[('club', 'http://www.wikidata.org/entity/Q4816974'), ('name', 'Atlético Español')]\n",
      "[('club', 'http://www.wikidata.org/entity/Q20051399'), ('name', 'FC Juárez')]\n",
      "[('club', 'http://www.wikidata.org/entity/Q1132352'), ('name', 'Jacksonville Tea Men')]\n",
      "[('club', 'http://www.wikidata.org/entity/Q13408349'), ('name', 'Atlético de San Luis')]\n",
      "[('club', 'http://www.wikidata.org/entity/Q2295404'), ('name', 'Brujas F.C.')]\n",
      "[('club', 'http://www.wikidata.org/entity/Q2918194'), ('name', 'Halcones de Querétaro')]\n",
      "[('club', 'http://www.wikidata.org/entity/Q3551325'), ('name', 'Universidad de San Carlos')]\n",
      "[('club', 'http://www.wikidata.org/entity/Q391353'), ('name', 'Real Salt Lake')]\n",
      "[('club', 'http://www.wikidata.org/entity/Q4886172'), ('name', 'Ben Millers')]\n",
      "[('club', 'http://www.wikidata.org/entity/Q587541'), ('name', 'Miami Freedom')]\n",
      "[('club', 'http://www.wikidata.org/entity/Q739468'), ('name', 'Chicago Fire U-23')]\n",
      "50\n"
     ]
    }
   ],
   "source": [
    "queryString = \"\"\"\n",
    "SELECT DISTINCT ?club ?name\n",
    "WHERE {\n",
    "\n",
    "   ?club wdt:P31 wd:Q476028.\n",
    "   ?club wdt:P17 ?country.\n",
    "   ?country wdt:P30 wd:Q49.\n",
    "   \n",
    "    ?club sc:name ?name.\n",
    "   \n",
    "   \n",
    "}\n",
    "LIMIT 50\n",
    "\"\"\"\n",
    "\n",
    "print(\"Results\")\n",
    "x=run_query(queryString)"
   ]
  },
  {
   "cell_type": "markdown",
   "id": "250e8ca2",
   "metadata": {},
   "source": [
    "Final query for this task"
   ]
  },
  {
   "cell_type": "code",
   "execution_count": null,
   "id": "0abe4347",
   "metadata": {},
   "outputs": [],
   "source": [
    "# write your final query\n"
   ]
  },
  {
   "cell_type": "markdown",
   "id": "4382cfd3",
   "metadata": {},
   "source": [
    "## Task 4\n",
    "Identify the BGP for the UEFA Champions League."
   ]
  },
  {
   "cell_type": "code",
   "execution_count": 99,
   "id": "408b93e4",
   "metadata": {},
   "outputs": [
    {
     "name": "stdout",
     "output_type": "stream",
     "text": [
      "Results\n",
      "[('p', 'http://www.wikidata.org/prop/direct/P1424'), ('name', \"topic's main template\")]\n",
      "[('p', 'http://www.wikidata.org/prop/direct/P1709'), ('name', 'equivalent class')]\n",
      "[('p', 'http://www.wikidata.org/prop/direct/P1889'), ('name', 'different from')]\n",
      "[('p', 'http://www.wikidata.org/prop/direct/P1963'), ('name', 'properties for this type')]\n",
      "[('p', 'http://www.wikidata.org/prop/direct/P2671'), ('name', 'Google Knowledge Graph ID')]\n",
      "[('p', 'http://www.wikidata.org/prop/direct/P279'), ('name', 'subclass of')]\n",
      "[('p', 'http://www.wikidata.org/prop/direct/P641'), ('name', 'sport')]\n",
      "[('p', 'http://www.wikidata.org/prop/direct/P8408'), ('name', 'KBpedia ID')]\n",
      "[('p', 'http://www.wikidata.org/prop/direct/P910'), ('name', \"topic's main category\")]\n",
      "9\n"
     ]
    }
   ],
   "source": [
    "# write your queries\n",
    "#From Previous Result we now look at the properties of Association Football league Q15991303\n",
    "\n",
    "queryString = \"\"\"\n",
    "SELECT DISTINCT ?p ?name\n",
    "WHERE {\n",
    "\n",
    "   wd:Q15991303 ?p ?object.\n",
    "   ?p sc:name ?name\n",
    "   \n",
    "   \n",
    "}\n",
    "LIMIT 30\n",
    "\"\"\"\n",
    "\n",
    "print(\"Results\")\n",
    "x=run_query(queryString)\n"
   ]
  },
  {
   "cell_type": "code",
   "execution_count": 101,
   "id": "2893902d-68ec-456c-8a0c-80bf913fdbbe",
   "metadata": {},
   "outputs": [
    {
     "name": "stdout",
     "output_type": "stream",
     "text": [
      "Results\n",
      "[('p', 'http://www.wikidata.org/prop/direct/P1963'), ('name', 'league level above')]\n",
      "[('p', 'http://www.wikidata.org/prop/direct/P1963'), ('name', 'league level below')]\n",
      "[('p', 'http://www.wikidata.org/prop/direct/P1963'), ('name', 'sports league level')]\n",
      "[('p', 'http://www.wikidata.org/prop/direct/P1889'), ('name', 'association football team season')]\n",
      "[('p', 'http://www.wikidata.org/prop/direct/P1963'), ('name', 'country')]\n",
      "[('p', 'http://www.wikidata.org/prop/direct/P641'), ('name', 'association football')]\n",
      "[('p', 'http://www.wikidata.org/prop/direct/P279'), ('name', 'association football competition')]\n",
      "[('p', 'http://www.wikidata.org/prop/direct/P1963'), ('name', 'sport')]\n",
      "[('p', 'http://www.wikidata.org/prop/direct/P279'), ('name', 'sports league')]\n",
      "[('p', 'http://www.wikidata.org/prop/direct/P1963'), ('name', 'organizer')]\n",
      "[('p', 'http://www.wikidata.org/prop/direct/P1963'), ('name', 'number of participants')]\n",
      "[('p', 'http://www.wikidata.org/prop/direct/P910'), ('name', 'Category:Association football leagues')]\n",
      "[('p', 'http://www.wikidata.org/prop/direct/P1963'), ('name', 'season starts')]\n",
      "[('p', 'http://www.wikidata.org/prop/direct/P1963'), ('name', 'season ends')]\n",
      "[('p', 'http://www.wikidata.org/prop/direct/P1424'), ('name', 'Template:Infobox football league')]\n",
      "[('p', 'http://www.wikidata.org/prop/direct/P1963'), ('name', 'league points system')]\n",
      "[('p', 'http://www.wikidata.org/prop/direct/P1963'), ('name', 'rules for classification')]\n",
      "17\n"
     ]
    }
   ],
   "source": [
    "#we now look at the objects related to Association football league\n",
    "\n",
    "queryString = \"\"\"\n",
    "SELECT DISTINCT ?p ?name\n",
    "WHERE {\n",
    "\n",
    "   wd:Q15991303 ?p ?object.\n",
    "   ?object sc:name ?name\n",
    "   \n",
    "   \n",
    "}\n",
    "LIMIT 30\n",
    "\"\"\"\n",
    "\n",
    "print(\"Results\")\n",
    "x=run_query(queryString)\n"
   ]
  },
  {
   "cell_type": "code",
   "execution_count": 109,
   "id": "359ac770-e8fb-4578-b313-bd5a25be30ad",
   "metadata": {},
   "outputs": [
    {
     "name": "stdout",
     "output_type": "stream",
     "text": [
      "Results\n",
      "[('s', 'http://www.wikidata.org/entity/Q17632439'), ('name', 'VFF Champions League')]\n",
      "1\n"
     ]
    }
   ],
   "source": [
    "#Filter the data for Champions League\n",
    "\n",
    "queryString = \"\"\"\n",
    "SELECT DISTINCT ?s ?name\n",
    "WHERE {\n",
    "\n",
    "   ?s ?p wd:Q15991303.\n",
    "   ?s sc:name ?name.\n",
    "   FILTER REGEX (?name, \".*Champions League\")\n",
    "   \n",
    "   \n",
    "}\n",
    "LIMIT 30\n",
    "\"\"\"\n",
    "\n",
    "print(\"Results\")\n",
    "x=run_query(queryString)\n"
   ]
  },
  {
   "cell_type": "code",
   "execution_count": 110,
   "id": "24e8a4fb-2394-458c-ad15-c8c7e4dd79d8",
   "metadata": {},
   "outputs": [
    {
     "name": "stdout",
     "output_type": "stream",
     "text": [
      "Results\n",
      "[('p', 'http://www.wikidata.org/prop/direct/P1423'), ('name', 'template has topic')]\n",
      "[('p', 'http://www.wikidata.org/prop/direct/P138'), ('name', 'named after')]\n",
      "[('p', 'http://www.wikidata.org/prop/direct/P1889'), ('name', 'different from')]\n",
      "[('p', 'http://www.wikidata.org/prop/direct/P279'), ('name', 'subclass of')]\n",
      "[('p', 'http://www.wikidata.org/prop/direct/P301'), ('name', \"category's main topic\")]\n",
      "[('p', 'http://www.wikidata.org/prop/direct/P31'), ('name', 'instance of')]\n",
      "[('p', 'http://www.wikidata.org/prop/direct/P3450'), ('name', 'sports season of league or competition')]\n",
      "[('p', 'http://www.wikidata.org/prop/direct/P641'), ('name', 'sport')]\n",
      "[('p', 'http://www.wikidata.org/prop/direct/P971'), ('name', 'category combines topics')]\n",
      "9\n"
     ]
    }
   ],
   "source": [
    "#Filter the data for Champions League\n",
    "\n",
    "queryString = \"\"\"\n",
    "SELECT DISTINCT ?p ?name\n",
    "WHERE {\n",
    "\n",
    "   ?s ?p wd:Q15991303.\n",
    "   ?p sc:name ?name.\n",
    "   \n",
    "   \n",
    "   \n",
    "}\n",
    "LIMIT 30\n",
    "\"\"\"\n",
    "\n",
    "print(\"Results\")\n",
    "x=run_query(queryString)\n"
   ]
  },
  {
   "cell_type": "markdown",
   "id": "d300c3b5",
   "metadata": {},
   "source": [
    "Final query for this task"
   ]
  },
  {
   "cell_type": "code",
   "execution_count": 112,
   "id": "88ea9211-42b6-4e9c-9b55-3759a66abb69",
   "metadata": {},
   "outputs": [
    {
     "name": "stdout",
     "output_type": "stream",
     "text": [
      "Results\n",
      "[('object', 'http://www.wikidata.org/entity/Q29762'), ('name', 'fencing at the Summer Olympics')]\n",
      "[('object', 'http://www.wikidata.org/entity/Q3066961'), ('name', 'Galician trainera league')]\n",
      "[('object', 'http://www.wikidata.org/entity/Q610674'), ('name', 'soccer in the United States')]\n",
      "[('object', 'http://www.wikidata.org/entity/Q7854'), ('name', 'Argentine Grand Prix')]\n",
      "[('object', 'http://www.wikidata.org/entity/Q1070262'), ('name', 'European Touring Car Cup')]\n",
      "[('object', 'http://www.wikidata.org/entity/Q1774675'), ('name', 'División de Honor de Waterpolo')]\n",
      "[('object', 'http://www.wikidata.org/entity/Q2023337'), ('name', 'División de Honor Juvenil de Fútbol')]\n",
      "[('object', 'http://www.wikidata.org/entity/Q204348'), ('name', 'Continental Basketball Association')]\n",
      "[('object', 'http://www.wikidata.org/entity/Q2744659'), ('name', 'Copa de la Reina de Baloncesto')]\n",
      "[('object', 'http://www.wikidata.org/entity/Q303871'), ('name', 'European Rally Championship')]\n",
      "[('object', 'http://www.wikidata.org/entity/Q368165'), ('name', 'División de Honor de Waterpolo')]\n",
      "[('object', 'http://www.wikidata.org/entity/Q4509073'), ('name', 'Danish Figure Skating Championships')]\n",
      "[('object', 'http://www.wikidata.org/entity/Q5171994'), ('name', 'Cornwall League 1')]\n",
      "[('object', 'http://www.wikidata.org/entity/Q647842'), ('name', 'Formula Palmer Audi')]\n",
      "[('object', 'http://www.wikidata.org/entity/Q652498'), ('name', \"EHF Women's Champions League\")]\n",
      "[('object', 'http://www.wikidata.org/entity/Q810327'), ('name', 'FIBA Oceania Championship')]\n",
      "[('object', 'http://www.wikidata.org/entity/Q983041'), ('name', 'Soccer Northeast Cup Brazil')]\n",
      "[('object', 'http://www.wikidata.org/entity/Q1057000'), ('name', 'Micronesian Games')]\n",
      "[('object', 'http://www.wikidata.org/entity/Q15141004'), ('name', 'Nationalliga A')]\n",
      "[('object', 'http://www.wikidata.org/entity/Q167071'), ('name', 'Pekan Olahraga Nasional')]\n",
      "[('object', 'http://www.wikidata.org/entity/Q2282377'), ('name', 'Nordic Football Championship')]\n",
      "[('object', 'http://www.wikidata.org/entity/Q2334043'), ('name', 'Norwegian Figure Skating Championships')]\n",
      "[('object', 'http://www.wikidata.org/entity/Q2613104'), ('name', 'North American Figure Skating Championships')]\n",
      "[('object', 'http://www.wikidata.org/entity/Q782015'), ('name', 'Rally Australia')]\n",
      "[('object', 'http://www.wikidata.org/entity/Q805497'), ('name', 'Baloncesto Superior Nacional')]\n",
      "[('object', 'http://www.wikidata.org/entity/Q4288190'), ('name', 'MŽRKL')]\n",
      "[('object', 'http://www.wikidata.org/entity/Q15729796'), ('name', 'State Bank of India ATP Challenger Tour')]\n",
      "[('object', 'http://www.wikidata.org/entity/Q3051958'), ('name', 'Ranji Trophy')]\n",
      "[('object', 'http://www.wikidata.org/entity/Q15847833'), ('name', 'Snowboard World Junior Championships')]\n",
      "[('object', 'http://www.wikidata.org/entity/Q1944274'), ('name', 'NBB Cup')]\n",
      "30\n"
     ]
    }
   ],
   "source": [
    "#Filter the data for Champions League\n",
    "\n",
    "queryString = \"\"\"\n",
    "SELECT DISTINCT ?object ?name\n",
    "WHERE {\n",
    "\n",
    "   ?s wdt:P3450 ?object.\n",
    "   ?object sc:name ?name.\n",
    "}\n",
    "LIMIT 30\n",
    "\"\"\"\n",
    "\n",
    "print(\"Results\")\n",
    "x=run_query(queryString)\n"
   ]
  },
  {
   "cell_type": "code",
   "execution_count": 133,
   "id": "5d66359a-6eea-4487-81f4-7e960500a787",
   "metadata": {},
   "outputs": [
    {
     "name": "stdout",
     "output_type": "stream",
     "text": [
      "Results\n",
      "[('object', 'http://www.wikidata.org/entity/Q652498'), ('name', \"EHF Women's Champions League\")]\n",
      "[('object', 'http://www.wikidata.org/entity/Q648474'), ('name', 'OFC Champions League')]\n",
      "[('object', 'http://www.wikidata.org/entity/Q300098'), ('name', 'CEV Champions League')]\n",
      "[('object', 'http://www.wikidata.org/entity/Q13416183'), ('name', '2015–16 UEFA Champions League')]\n",
      "[('object', 'http://www.wikidata.org/entity/Q219261'), ('name', 'CAF Champions League')]\n",
      "[('object', 'http://www.wikidata.org/entity/Q3240479'), ('name', 'African Handball Champions League')]\n",
      "[('object', 'http://www.wikidata.org/entity/Q18740961'), ('name', '2016–17 UEFA Champions League')]\n",
      "[('object', 'http://www.wikidata.org/entity/Q20972117'), ('name', '2017–18 UEFA Champions League')]\n",
      "[('object', 'http://www.wikidata.org/entity/Q941782'), ('name', 'LEN Champions League')]\n",
      "[('object', 'http://www.wikidata.org/entity/Q22340390'), ('name', 'Basketball Champions League')]\n",
      "[('object', 'http://www.wikidata.org/entity/Q18756'), ('name', 'UEFA Champions League')]\n",
      "[('object', 'http://www.wikidata.org/entity/Q193041'), ('name', 'AFC Champions League')]\n",
      "[('object', 'http://www.wikidata.org/entity/Q330395'), ('name', 'EHF Champions League')]\n",
      "[('object', 'http://www.wikidata.org/entity/Q1484921'), ('name', 'GCC Champions League')]\n",
      "[('object', 'http://www.wikidata.org/entity/Q83335'), ('name', 'CONCACAF Champions League')]\n",
      "[('object', 'http://www.wikidata.org/entity/Q2366460'), ('name', \"CEV Women's Champions League\")]\n",
      "[('object', 'http://www.wikidata.org/entity/Q748389'), ('name', \"UEFA Women's Champions League\")]\n",
      "[('object', 'http://www.wikidata.org/entity/Q16655877'), ('name', 'IFAF Europe Champions League')]\n",
      "[('object', 'http://www.wikidata.org/entity/Q23637002'), ('name', 'Champions League of Darts')]\n",
      "[('object', 'http://www.wikidata.org/entity/Q648257'), ('name', 'UEFA Futsal Champions League')]\n",
      "[('object', 'http://www.wikidata.org/entity/Q5099570'), ('name', 'Chinese Football Association Member Association Champions League')]\n",
      "[('object', 'http://www.wikidata.org/entity/Q64813818'), ('name', '2019–20 EHF Champions League')]\n",
      "[('object', 'http://www.wikidata.org/entity/Q55210709'), ('name', '2018–19 EHF Champions League')]\n",
      "[('object', 'http://www.wikidata.org/entity/Q1061280'), ('name', 'Champions League Twenty20')]\n",
      "[('object', 'http://www.wikidata.org/entity/Q17632439'), ('name', 'VFF Champions League')]\n",
      "[('object', 'http://www.wikidata.org/entity/Q28446987'), ('name', 'Basketball Champions League Final Four')]\n",
      "26\n"
     ]
    }
   ],
   "source": [
    "#Filter the data for Champions League\n",
    "\n",
    "queryString = \"\"\"\n",
    "SELECT DISTINCT ?object ?name\n",
    "WHERE {\n",
    "\n",
    "   ?s wdt:P3450 ?object.\n",
    "   ?object sc:name ?name.\n",
    "   FILTER REGEX(?name, \".*Champions League.*\")\n",
    "}\n",
    "LIMIT 100\n",
    "\"\"\"\n",
    "\n",
    "print(\"Results\")\n",
    "x=run_query(queryString)\n"
   ]
  },
  {
   "cell_type": "code",
   "execution_count": 121,
   "id": "20e96664",
   "metadata": {},
   "outputs": [
    {
     "name": "stdout",
     "output_type": "stream",
     "text": [
      "Results\n",
      "[('object', 'http://www.wikidata.org/entity/Q13416183'), ('name', '2015–16 UEFA Champions League')]\n",
      "[('object', 'http://www.wikidata.org/entity/Q18740961'), ('name', '2016–17 UEFA Champions League')]\n",
      "[('object', 'http://www.wikidata.org/entity/Q20972117'), ('name', '2017–18 UEFA Champions League')]\n",
      "[('object', 'http://www.wikidata.org/entity/Q18756'), ('name', 'UEFA Champions League')]\n",
      "4\n"
     ]
    }
   ],
   "source": [
    "# write your final query\n",
    "\n",
    "#Filter the data for UEFA Champions League\n",
    "\n",
    "queryString = \"\"\"\n",
    "SELECT DISTINCT ?object ?name\n",
    "WHERE {\n",
    "\n",
    "   ?s wdt:P3450 ?object.\n",
    "   ?object sc:name ?name.\n",
    "   FILTER REGEX(?name, \"UEFA Champions League\")\n",
    "}\n",
    "LIMIT 30\n",
    "\"\"\"\n",
    "\n",
    "print(\"Results\")\n",
    "x=run_query(queryString)"
   ]
  },
  {
   "cell_type": "markdown",
   "id": "f5fa8a05",
   "metadata": {},
   "source": [
    "## Task 5\n",
    "Consider the countries which have at least two different clubs of their nationality who won the UEFA Champions League. Return the list of these countries with the number of different clubs who won the UEFA Champions League (the result set must be triples of country IRI, label and #clubs)."
   ]
  },
  {
   "cell_type": "code",
   "execution_count": 125,
   "id": "c12f862e",
   "metadata": {},
   "outputs": [
    {
     "name": "stdout",
     "output_type": "stream",
     "text": [
      "Results\n",
      "[('p', 'http://www.wikidata.org/prop/direct/P1132'), ('name', 'number of participants')]\n",
      "[('p', 'http://www.wikidata.org/prop/direct/P1296'), ('name', 'Gran Enciclopèdia Catalana ID')]\n",
      "[('p', 'http://www.wikidata.org/prop/direct/P1343'), ('name', 'described by source')]\n",
      "[('p', 'http://www.wikidata.org/prop/direct/P1346'), ('name', 'winner')]\n",
      "[('p', 'http://www.wikidata.org/prop/direct/P1424'), ('name', \"topic's main template\")]\n",
      "[('p', 'http://www.wikidata.org/prop/direct/P154'), ('name', 'logo image')]\n",
      "[('p', 'http://www.wikidata.org/prop/direct/P18'), ('name', 'image')]\n",
      "[('p', 'http://www.wikidata.org/prop/direct/P2002'), ('name', 'Twitter username')]\n",
      "[('p', 'http://www.wikidata.org/prop/direct/P2003'), ('name', 'Instagram username')]\n",
      "[('p', 'http://www.wikidata.org/prop/direct/P2013'), ('name', 'Facebook ID')]\n",
      "[('p', 'http://www.wikidata.org/prop/direct/P214'), ('name', 'VIAF ID')]\n",
      "[('p', 'http://www.wikidata.org/prop/direct/P2257'), ('name', 'event interval')]\n",
      "[('p', 'http://www.wikidata.org/prop/direct/P227'), ('name', 'GND ID')]\n",
      "[('p', 'http://www.wikidata.org/prop/direct/P279'), ('name', 'subclass of')]\n",
      "[('p', 'http://www.wikidata.org/prop/direct/P2922'), ('name', 'month of the year')]\n",
      "[('p', 'http://www.wikidata.org/prop/direct/P2924'), ('name', 'Great Russian Encyclopedia Online ID')]\n",
      "[('p', 'http://www.wikidata.org/prop/direct/P31'), ('name', 'instance of')]\n",
      "[('p', 'http://www.wikidata.org/prop/direct/P3414'), ('name', 'Yle Areena item ID')]\n",
      "[('p', 'http://www.wikidata.org/prop/direct/P3417'), ('name', 'Quora topic ID')]\n",
      "[('p', 'http://www.wikidata.org/prop/direct/P3553'), ('name', 'Zhihu topic ID')]\n",
      "[('p', 'http://www.wikidata.org/prop/direct/P373'), ('name', 'Commons category')]\n",
      "[('p', 'http://www.wikidata.org/prop/direct/P4013'), ('name', 'Giphy username')]\n",
      "[('p', 'http://www.wikidata.org/prop/direct/P5019'), ('name', 'Brockhaus Enzyklopädie online ID')]\n",
      "[('p', 'http://www.wikidata.org/prop/direct/P571'), ('name', 'inception')]\n",
      "[('p', 'http://www.wikidata.org/prop/direct/P6262'), ('name', 'Fandom article ID')]\n",
      "[('p', 'http://www.wikidata.org/prop/direct/P641'), ('name', 'sport')]\n",
      "[('p', 'http://www.wikidata.org/prop/direct/P646'), ('name', 'Freebase ID')]\n",
      "[('p', 'http://www.wikidata.org/prop/direct/P664'), ('name', 'organizer')]\n",
      "[('p', 'http://www.wikidata.org/prop/direct/P6706'), ('name', 'De Agostini ID')]\n",
      "[('p', 'http://www.wikidata.org/prop/direct/P691'), ('name', 'NKCR AUT ID')]\n",
      "30\n"
     ]
    }
   ],
   "source": [
    "# write your queries\n",
    "# From Previous Result We have UEFA Champions League with Property Q18756\n",
    "# Check all Champions League winners\n",
    "\n",
    "\n",
    "queryString = \"\"\"\n",
    "SELECT DISTINCT ?p ?name\n",
    "WHERE {\n",
    "\n",
    "   wd:Q18756 ?p ?object.\n",
    "   ?p sc:name ?name.\n",
    "   \n",
    "}\n",
    "LIMIT 30\n",
    "\"\"\"\n",
    "\n",
    "print(\"Results\")\n",
    "x=run_query(queryString)"
   ]
  },
  {
   "cell_type": "code",
   "execution_count": 128,
   "id": "a62cb332-f4cf-4549-907c-0d5ae4276947",
   "metadata": {},
   "outputs": [
    {
     "name": "stdout",
     "output_type": "stream",
     "text": [
      "Results\n",
      "[('name', 'FC Internazionale Milano')]\n",
      "1\n"
     ]
    }
   ],
   "source": [
    "# write your queries\n",
    "# From Previous Result We have UEFA Champions League with Property Q18756\n",
    "# Check all Champions League winners\n",
    "\n",
    "\n",
    "queryString = \"\"\"\n",
    "SELECT DISTINCT ?p ?name\n",
    "WHERE {\n",
    "\n",
    "   wd:Q18756 wdt:P1346 ?object.\n",
    "   ?object sc:name ?name.\n",
    "   \n",
    "}\n",
    "LIMIT 30\n",
    "\"\"\"\n",
    "\n",
    "print(\"Results\")\n",
    "x=run_query(queryString)"
   ]
  },
  {
   "cell_type": "code",
   "execution_count": 136,
   "id": "48e46b1f-5054-46d2-9a87-9e6f0ab02c70",
   "metadata": {},
   "outputs": [
    {
     "name": "stdout",
     "output_type": "stream",
     "text": [
      "Results\n",
      "[('p', 'http://www.wikidata.org/prop/direct/P1132'), ('name', 'number of participants')]\n",
      "[('p', 'http://www.wikidata.org/prop/direct/P1346'), ('name', 'winner')]\n",
      "[('p', 'http://www.wikidata.org/prop/direct/P1350'), ('name', 'number of matches played/races/starts')]\n",
      "[('p', 'http://www.wikidata.org/prop/direct/P2348'), ('name', 'time period')]\n",
      "[('p', 'http://www.wikidata.org/prop/direct/P2581'), ('name', 'BabelNet ID')]\n",
      "[('p', 'http://www.wikidata.org/prop/direct/P31'), ('name', 'instance of')]\n",
      "[('p', 'http://www.wikidata.org/prop/direct/P3417'), ('name', 'Quora topic ID')]\n",
      "[('p', 'http://www.wikidata.org/prop/direct/P3450'), ('name', 'sports season of league or competition')]\n",
      "[('p', 'http://www.wikidata.org/prop/direct/P373'), ('name', 'Commons category')]\n",
      "[('p', 'http://www.wikidata.org/prop/direct/P393'), ('name', 'edition number')]\n",
      "[('p', 'http://www.wikidata.org/prop/direct/P580'), ('name', 'start time')]\n",
      "[('p', 'http://www.wikidata.org/prop/direct/P582'), ('name', 'end time')]\n",
      "[('p', 'http://www.wikidata.org/prop/direct/P585'), ('name', 'point in time')]\n",
      "[('p', 'http://www.wikidata.org/prop/direct/P641'), ('name', 'sport')]\n",
      "[('p', 'http://www.wikidata.org/prop/direct/P646'), ('name', 'Freebase ID')]\n",
      "[('p', 'http://www.wikidata.org/prop/direct/P664'), ('name', 'organizer')]\n",
      "[('p', 'http://www.wikidata.org/prop/direct/P910'), ('name', \"topic's main category\")]\n",
      "[('p', 'http://www.wikidata.org/prop/direct/P1351'), ('name', 'number of points/goals/set scored')]\n",
      "[('p', 'http://www.wikidata.org/prop/direct/P1923'), ('name', 'participating team')]\n",
      "[('p', 'http://www.wikidata.org/prop/direct/P3279'), ('name', 'statistical leader')]\n",
      "20\n"
     ]
    }
   ],
   "source": [
    "# write your queries\n",
    "# [('object', 'http://www.wikidata.org/entity/Q13416183'), ('name', '2015–16 UEFA Champions League')]\n",
    "\n",
    "\n",
    "queryString = \"\"\"\n",
    "SELECT DISTINCT ?p ?name\n",
    "WHERE {\n",
    "\n",
    "   wd:Q13416183 ?p ?object.\n",
    "   ?p sc:name ?name.\n",
    "   \n",
    "}\n",
    "LIMIT 30\n",
    "\"\"\"\n",
    "\n",
    "print(\"Results\")\n",
    "x=run_query(queryString)"
   ]
  },
  {
   "cell_type": "code",
   "execution_count": 260,
   "id": "03041d09-d77b-4222-bc20-3ce332b4c2c5",
   "metadata": {},
   "outputs": [
    {
     "name": "stdout",
     "output_type": "stream",
     "text": [
      "Results\n",
      "[('object', 'http://www.wikidata.org/entity/Q8682'), ('name', 'Real Madrid CF')]\n",
      "1\n"
     ]
    }
   ],
   "source": [
    "# write your queries\n",
    "# Check the winner properites of League\n",
    "# [('object', 'http://www.wikidata.org/entity/Q13416183'), ('name', '2015–16 UEFA Champions League')]\n",
    "# [('p', 'http://www.wikidata.org/prop/direct/P1346'), ('name', 'winner')]\n",
    "\n",
    "\n",
    "queryString = \"\"\"\n",
    "SELECT DISTINCT  ?object ?name\n",
    "WHERE {\n",
    "\n",
    "   wd:Q13416183 wdt:P1346 ?object.\n",
    "   ?object sc:name ?name.\n",
    "   \n",
    "}\n",
    "LIMIT 30\n",
    "\"\"\"\n",
    "\n",
    "print(\"Results\")\n",
    "x=run_query(queryString)"
   ]
  },
  {
   "cell_type": "code",
   "execution_count": 150,
   "id": "a0e1a71c-ee7b-4f23-9266-f94d989b73d4",
   "metadata": {},
   "outputs": [
    {
     "name": "stdout",
     "output_type": "stream",
     "text": [
      "Results\n",
      "[('object', 'http://www.wikidata.org/entity/Q27020041'), ('name', 'sports season')]\n",
      "1\n"
     ]
    }
   ],
   "source": [
    "# write your queries\n",
    "#CHECK The Instances of 2015-2018 Champions League\n",
    "# # [('object', 'http://www.wikidata.org/entity/Q13416183'), ('name', '2015–16 UEFA Champions League')]\n",
    "# [('p', 'http://www.wikidata.org/prop/direct/P31'), ('name', 'instance of')]\n",
    "\n",
    "\n",
    "queryString = \"\"\"\n",
    "SELECT DISTINCT ?object ?name \n",
    "WHERE {\n",
    "\n",
    "   wd:Q13416183 wdt:P31 ?object.\n",
    "   ?object sc:name ?name.\n",
    "   \n",
    "}\n",
    "LIMIT 30\n",
    "\"\"\"\n",
    "\n",
    "print(\"Results\")\n",
    "x=run_query(queryString)"
   ]
  },
  {
   "cell_type": "code",
   "execution_count": 151,
   "id": "3bd4d23a-35d3-46e1-a331-2c9791d80116",
   "metadata": {},
   "outputs": [
    {
     "name": "stdout",
     "output_type": "stream",
     "text": [
      "Results\n",
      "[('object', 'http://www.wikidata.org/entity/Q18756'), ('name', 'UEFA Champions League')]\n",
      "1\n"
     ]
    }
   ],
   "source": [
    "# write your queries\n",
    "#CHECK The Instances of 2015-2018 Champions League\n",
    "queryString = \"\"\"\n",
    "SELECT DISTINCT ?object ?name \n",
    "WHERE {\n",
    "\n",
    "   wd:Q13416183 wdt:P3450 ?object.\n",
    "   ?object sc:name ?name.\n",
    "   \n",
    "}\n",
    "LIMIT 30\n",
    "\"\"\"\n",
    "\n",
    "print(\"Results\")\n",
    "x=run_query(queryString)"
   ]
  },
  {
   "cell_type": "markdown",
   "id": "12b03a19",
   "metadata": {},
   "source": [
    "Final query for this task"
   ]
  },
  {
   "cell_type": "code",
   "execution_count": null,
   "id": "ff563618",
   "metadata": {},
   "outputs": [],
   "source": [
    "# write your final query\n"
   ]
  },
  {
   "cell_type": "markdown",
   "id": "daf063b7",
   "metadata": {},
   "source": [
    "## Task 6\n",
    "Return for each european country the top level league (the result set must be a list of country IRI and label, and league IRI and label)."
   ]
  },
  {
   "cell_type": "code",
   "execution_count": 261,
   "id": "d50fc55a",
   "metadata": {},
   "outputs": [
    {
     "name": "stdout",
     "output_type": "stream",
     "text": [
      "Results\n",
      "[('p', 'http://www.wikidata.org/prop/direct/P2500'), ('pname', 'league level below'), ('object', 'http://www.wikidata.org/entity/Q194052'), ('objectname', 'Serie A')]\n",
      "[('p', 'http://www.wikidata.org/prop/direct/P910'), ('pname', \"topic's main category\"), ('object', 'http://www.wikidata.org/entity/Q6807104'), ('objectname', 'Category:Serie A')]\n",
      "[('p', 'http://www.wikidata.org/prop/direct/P4794'), ('pname', 'season starts'), ('object', 'http://www.wikidata.org/entity/Q122'), ('objectname', 'August')]\n",
      "[('p', 'http://www.wikidata.org/prop/direct/P641'), ('pname', 'sport'), ('object', 'http://www.wikidata.org/entity/Q2736'), ('objectname', 'association football')]\n",
      "[('p', 'http://www.wikidata.org/prop/direct/P17'), ('pname', 'country'), ('object', 'http://www.wikidata.org/entity/Q38'), ('objectname', 'Italy')]\n",
      "[('p', 'http://www.wikidata.org/prop/direct/P1346'), ('pname', 'winner'), ('object', 'http://www.wikidata.org/entity/Q631'), ('objectname', 'FC Internazionale Milano')]\n",
      "[('p', 'http://www.wikidata.org/prop/direct/P279'), ('pname', 'subclass of'), ('object', 'http://www.wikidata.org/entity/Q1478437'), ('objectname', 'association football competition')]\n",
      "[('p', 'http://www.wikidata.org/prop/direct/P31'), ('pname', 'instance of'), ('object', 'http://www.wikidata.org/entity/Q15991303'), ('objectname', 'association football league')]\n",
      "[('p', 'http://www.wikidata.org/prop/direct/P2094'), ('pname', 'competition class'), ('object', 'http://www.wikidata.org/entity/Q31930761'), ('objectname', \"men's association football\")]\n",
      "[('p', 'http://www.wikidata.org/prop/direct/P279'), ('pname', 'subclass of'), ('object', 'http://www.wikidata.org/entity/Q3270632'), ('objectname', 'national championship')]\n",
      "[('p', 'http://www.wikidata.org/prop/direct/P6587'), ('pname', 'league system'), ('object', 'http://www.wikidata.org/entity/Q953425'), ('objectname', 'Italian association football league system')]\n",
      "[('p', 'http://www.wikidata.org/prop/direct/P664'), ('pname', 'organizer'), ('object', 'http://www.wikidata.org/entity/Q2427920'), ('objectname', 'Lega Serie A')]\n",
      "[('p', 'http://www.wikidata.org/prop/direct/P1889'), ('pname', 'different from'), ('object', 'http://www.wikidata.org/entity/Q1283544'), ('objectname', 'Serie A')]\n",
      "[('p', 'http://www.wikidata.org/prop/direct/P155'), ('pname', 'follows'), ('object', 'http://www.wikidata.org/entity/Q1379178'), ('objectname', 'list of Italian football champions')]\n",
      "[('p', 'http://www.wikidata.org/prop/direct/P1424'), ('pname', \"topic's main template\"), ('object', 'http://www.wikidata.org/entity/Q10956030'), ('objectname', 'Template:Serie A seasons')]\n",
      "15\n"
     ]
    }
   ],
   "source": [
    "# [('object', 'http://www.wikidata.org/entity/Q15804'), ('name', 'Serie A')]\n",
    "\n",
    "\n",
    "# write your queries\n",
    "#CHECK The properties and objects of serie A at Q15804\n",
    "queryString = \"\"\"\n",
    "SELECT DISTINCT ?p ?pname ?object ?objectname\n",
    "WHERE {\n",
    "\n",
    "   wd:Q15804 ?p ?object.\n",
    "   ?p sc:name ?pname.\n",
    "   ?object sc:name ?objectname\n",
    "   \n",
    "}\n",
    "LIMIT 30\n",
    "\"\"\"\n",
    "\n",
    "print(\"Results\")\n",
    "x=run_query(queryString)"
   ]
  },
  {
   "cell_type": "code",
   "execution_count": 185,
   "id": "46eb8d7d-371e-4892-ae39-ee13c4ee252f",
   "metadata": {},
   "outputs": [
    {
     "name": "stdout",
     "output_type": "stream",
     "text": [
      "Results\n",
      "[('s', 'http://www.wikidata.org/entity/Q45901'), ('sname', 'Thierry Henry'), ('p', 'http://www.wikidata.org/prop/direct/P118'), ('pname', 'league')]\n",
      "[('s', 'http://www.wikidata.org/entity/Q223724'), ('sname', '2009–10 Serie A'), ('p', 'http://www.wikidata.org/prop/direct/P3450'), ('pname', 'sports season of league or competition')]\n",
      "[('s', 'http://www.wikidata.org/entity/Q240669'), ('sname', '2011–12 Serie A'), ('p', 'http://www.wikidata.org/prop/direct/P3450'), ('pname', 'sports season of league or competition')]\n",
      "[('s', 'http://www.wikidata.org/entity/Q276204'), ('sname', '2010–11 Serie A'), ('p', 'http://www.wikidata.org/prop/direct/P3450'), ('pname', 'sports season of league or competition')]\n",
      "[('s', 'http://www.wikidata.org/entity/Q381013'), ('sname', '2007–08 Serie A'), ('p', 'http://www.wikidata.org/prop/direct/P3450'), ('pname', 'sports season of league or competition')]\n",
      "[('s', 'http://www.wikidata.org/entity/Q643978'), ('sname', '2005–06 Serie A'), ('p', 'http://www.wikidata.org/prop/direct/P3450'), ('pname', 'sports season of league or competition')]\n",
      "[('s', 'http://www.wikidata.org/entity/Q728459'), ('sname', '2006–07 Serie A'), ('p', 'http://www.wikidata.org/prop/direct/P3450'), ('pname', 'sports season of league or competition')]\n",
      "[('s', 'http://www.wikidata.org/entity/Q548311'), ('sname', '1939–40 Serie A'), ('p', 'http://www.wikidata.org/prop/direct/P3450'), ('pname', 'sports season of league or competition')]\n",
      "[('s', 'http://www.wikidata.org/entity/Q543205'), ('sname', '2000–01 Serie A'), ('p', 'http://www.wikidata.org/prop/direct/P3450'), ('pname', 'sports season of league or competition')]\n",
      "[('s', 'http://www.wikidata.org/entity/Q755113'), ('sname', '1999–2000 Serie A'), ('p', 'http://www.wikidata.org/prop/direct/P3450'), ('pname', 'sports season of league or competition')]\n",
      "[('s', 'http://www.wikidata.org/entity/Q252190'), ('sname', 'Xherdan Shaqiri'), ('p', 'http://www.wikidata.org/prop/direct/P118'), ('pname', 'league')]\n",
      "[('s', 'http://www.wikidata.org/entity/Q2074'), ('sname', 'Genoa CFC'), ('p', 'http://www.wikidata.org/prop/direct/P118'), ('pname', 'league')]\n",
      "[('s', 'http://www.wikidata.org/entity/Q6703'), ('sname', 'Empoli F.C.'), ('p', 'http://www.wikidata.org/prop/direct/P118'), ('pname', 'league')]\n",
      "[('s', 'http://www.wikidata.org/entity/Q102027'), ('sname', 'Fabio Cannavaro'), ('p', 'http://www.wikidata.org/prop/direct/P1344'), ('pname', 'participant in')]\n",
      "[('s', 'http://www.wikidata.org/entity/Q1893'), ('sname', 'Bologna F.C. 1909'), ('p', 'http://www.wikidata.org/prop/direct/P118'), ('pname', 'league')]\n",
      "[('s', 'http://www.wikidata.org/entity/Q1900'), ('sname', 'Cagliari Calcio'), ('p', 'http://www.wikidata.org/prop/direct/P118'), ('pname', 'league')]\n",
      "[('s', 'http://www.wikidata.org/entity/Q2641'), ('sname', 'S.S.C. Napoli'), ('p', 'http://www.wikidata.org/prop/direct/P118'), ('pname', 'league')]\n",
      "[('s', 'http://www.wikidata.org/entity/Q2693'), ('sname', 'Parma Calcio 1913'), ('p', 'http://www.wikidata.org/prop/direct/P118'), ('pname', 'league')]\n",
      "[('s', 'http://www.wikidata.org/entity/Q2710'), ('sname', 'Delfino Pescara 1936'), ('p', 'http://www.wikidata.org/prop/direct/P118'), ('pname', 'league')]\n",
      "[('s', 'http://www.wikidata.org/entity/Q2768'), ('sname', 'Torino F.C.'), ('p', 'http://www.wikidata.org/prop/direct/P118'), ('pname', 'league')]\n",
      "[('s', 'http://www.wikidata.org/entity/Q8639'), ('sname', 'Hellas Verona F.C.'), ('p', 'http://www.wikidata.org/prop/direct/P118'), ('pname', 'league')]\n",
      "[('s', 'http://www.wikidata.org/entity/Q213427'), ('sname', 'Aaron Ramsey'), ('p', 'http://www.wikidata.org/prop/direct/P118'), ('pname', 'league')]\n",
      "[('s', 'http://www.wikidata.org/entity/Q425774'), ('sname', '1946–47 Serie A'), ('p', 'http://www.wikidata.org/prop/direct/P3450'), ('pname', 'sports season of league or competition')]\n",
      "[('s', 'http://www.wikidata.org/entity/Q665690'), ('sname', 'Fortitudo-Pro Roma S.G.S.'), ('p', 'http://www.wikidata.org/prop/direct/P118'), ('pname', 'league')]\n",
      "[('s', 'http://www.wikidata.org/entity/Q474577'), ('sname', '2008–09 Serie A'), ('p', 'http://www.wikidata.org/prop/direct/P3450'), ('pname', 'sports season of league or competition')]\n",
      "[('s', 'http://www.wikidata.org/entity/Q187171'), ('sname', 'Mario Mandžukić'), ('p', 'http://www.wikidata.org/prop/direct/P118'), ('pname', 'league')]\n",
      "[('s', 'http://www.wikidata.org/entity/Q1972227'), ('sname', 'R.S. Ginnastica Torino'), ('p', 'http://www.wikidata.org/prop/direct/P118'), ('pname', 'league')]\n",
      "[('s', 'http://www.wikidata.org/entity/Q534448'), ('sname', 'F.B.C. Torinese'), ('p', 'http://www.wikidata.org/prop/direct/P118'), ('pname', 'league')]\n",
      "[('s', 'http://www.wikidata.org/entity/Q581439'), ('sname', '1898 Italian Football Championship'), ('p', 'http://www.wikidata.org/prop/direct/P3450'), ('pname', 'sports season of league or competition')]\n",
      "[('s', 'http://www.wikidata.org/entity/Q194052'), ('sname', 'Serie A'), ('p', 'http://www.wikidata.org/prop/direct/P2499'), ('pname', 'league level above')]\n",
      "30\n"
     ]
    }
   ],
   "source": [
    "\n",
    "# [('object', 'http://www.wikidata.org/entity/Q15804'), ('name', 'Serie A')]\n",
    "\n",
    "# write your queries\n",
    "#CHECK The properties and objects of serie A at Q15804\n",
    "queryString = \"\"\"\n",
    "SELECT DISTINCT ?s ?sname ?p ?pname\n",
    "WHERE {\n",
    "\n",
    "   ?s ?p wd:Q15804.\n",
    "   ?p sc:name ?pname.\n",
    "   ?s sc:name ?sname\n",
    "   \n",
    "}\n",
    "LIMIT 30\n",
    "\"\"\"\n",
    "\n",
    "print(\"Results\")\n",
    "x=run_query(queryString)"
   ]
  },
  {
   "cell_type": "code",
   "execution_count": 186,
   "id": "5ed8b39d-c491-470c-bbeb-b9101a62a6d6",
   "metadata": {},
   "outputs": [
    {
     "name": "stdout",
     "output_type": "stream",
     "text": [
      "Results\n",
      "[('s', 'http://www.wikidata.org/entity/Q6807104'), ('sname', 'Category:Serie A'), ('p', 'http://www.wikidata.org/prop/direct/P301'), ('pname', \"category's main topic\")]\n",
      "[('s', 'http://www.wikidata.org/entity/Q7195347'), ('sname', 'Category:Serie A seasons'), ('p', 'http://www.wikidata.org/prop/direct/P971'), ('pname', 'category combines topics')]\n",
      "[('s', 'http://www.wikidata.org/entity/Q10956030'), ('sname', 'Template:Serie A seasons'), ('p', 'http://www.wikidata.org/prop/direct/P1423'), ('pname', 'template has topic')]\n",
      "[('s', 'http://www.wikidata.org/entity/Q7119823'), ('sname', 'Category:Serie A players'), ('p', 'http://www.wikidata.org/prop/direct/P971'), ('pname', 'category combines topics')]\n",
      "4\n"
     ]
    }
   ],
   "source": [
    "\n",
    "\n",
    "# write your queries\n",
    "#CHECK The properties and objects of serie A at Q15804\n",
    "queryString = \"\"\"\n",
    "SELECT DISTINCT ?s ?sname ?p ?pname\n",
    "WHERE {\n",
    "\n",
    "   ?s ?p wd:Q15804.\n",
    "   ?p sc:name ?pname.\n",
    "   ?s sc:name ?sname\n",
    "   FILTER REGEX(?pname, 'top')\n",
    "   \n",
    "}\n",
    "LIMIT 30\n",
    "\"\"\"\n",
    "\n",
    "print(\"Results\")\n",
    "x=run_query(queryString)"
   ]
  },
  {
   "cell_type": "code",
   "execution_count": 187,
   "id": "58a68003-4f2d-45e2-a92e-f14bf247359c",
   "metadata": {},
   "outputs": [
    {
     "name": "stdout",
     "output_type": "stream",
     "text": [
      "Results\n",
      "[('p', 'http://www.wikidata.org/prop/direct/P910'), ('pname', \"topic's main category\"), ('object', 'http://www.wikidata.org/entity/Q6807104'), ('objectName', 'Category:Serie A')]\n",
      "[('p', 'http://www.wikidata.org/prop/direct/P1424'), ('pname', \"topic's main template\"), ('object', 'http://www.wikidata.org/entity/Q10956030'), ('objectName', 'Template:Serie A seasons')]\n",
      "2\n"
     ]
    }
   ],
   "source": [
    "\n",
    "\n",
    "# write your queries\n",
    "#CHECK The properties and objects of serie A at Q15804\n",
    "queryString = \"\"\"\n",
    "SELECT DISTINCT ?p ?pname ?object ?objectName\n",
    "WHERE {\n",
    "\n",
    "   wd:Q15804 ?p ?object.\n",
    "   ?p sc:name ?pname.\n",
    "   ?object sc:name ?objectName\n",
    "   FILTER REGEX (?pname, 'top')\n",
    "   \n",
    "}\n",
    "LIMIT 30\n",
    "\"\"\"\n",
    "\n",
    "print(\"Results\")\n",
    "x=run_query(queryString)"
   ]
  },
  {
   "cell_type": "code",
   "execution_count": 191,
   "id": "85615e79-98c9-4246-8e39-8d85e0555d0f",
   "metadata": {},
   "outputs": [
    {
     "name": "stdout",
     "output_type": "stream",
     "text": [
      "Results\n",
      "[('p', 'http://www.wikidata.org/prop/direct/P1269'), ('pname', 'facet of'), ('object', 'http://www.wikidata.org/entity/Q2736'), ('objectName', 'association football')]\n",
      "[('p', 'http://www.wikidata.org/prop/direct/P641'), ('pname', 'sport'), ('object', 'http://www.wikidata.org/entity/Q2736'), ('objectName', 'association football')]\n",
      "[('p', 'http://www.wikidata.org/prop/direct/P17'), ('pname', 'country'), ('object', 'http://www.wikidata.org/entity/Q38'), ('objectName', 'Italy')]\n",
      "[('p', 'http://www.wikidata.org/prop/direct/P31'), ('pname', 'instance of'), ('object', 'http://www.wikidata.org/entity/Q1756477'), ('objectName', 'league system')]\n",
      "[('p', 'http://www.wikidata.org/prop/direct/P31'), ('pname', 'instance of'), ('object', 'http://www.wikidata.org/entity/Q29791211'), ('objectName', 'sport in a geographic region')]\n",
      "[('p', 'http://www.wikidata.org/prop/direct/P910'), ('pname', \"topic's main category\"), ('object', 'http://www.wikidata.org/entity/Q8557731'), ('objectName', 'Category:Italian Football Championship')]\n",
      "6\n"
     ]
    }
   ],
   "source": [
    "\n",
    "\n",
    "# write your queries\n",
    "#Get some insights from Italian association Football league at Q953425\n",
    "queryString = \"\"\"\n",
    "SELECT DISTINCT ?p ?pname ?object ?objectName\n",
    "WHERE {\n",
    "\n",
    "   wd:Q953425 ?p ?object.\n",
    "   ?p sc:name ?pname.\n",
    "   ?object sc:name ?objectName\n",
    "   \n",
    "}\n",
    "LIMIT 30\n",
    "\"\"\"\n",
    "\n",
    "print(\"Results\")\n",
    "x=run_query(queryString)"
   ]
  },
  {
   "cell_type": "code",
   "execution_count": 198,
   "id": "94ad0498-2bcd-45e3-af68-f021c751dca1",
   "metadata": {},
   "outputs": [
    {
     "name": "stdout",
     "output_type": "stream",
     "text": [
      "Results\n",
      "[('s', 'http://www.wikidata.org/entity/Q645148'), ('sName', 'Eccellenza'), ('p', 'http://www.wikidata.org/prop/direct/P6587'), ('pName', 'league system')]\n",
      "[('s', 'http://www.wikidata.org/entity/Q194052'), ('sName', 'Serie A'), ('p', 'http://www.wikidata.org/prop/direct/P6587'), ('pName', 'league system')]\n",
      "[('s', 'http://www.wikidata.org/entity/Q15804'), ('sName', 'Serie A'), ('p', 'http://www.wikidata.org/prop/direct/P6587'), ('pName', 'league system')]\n",
      "[('s', 'http://www.wikidata.org/entity/Q607965'), ('sName', 'Serie C'), ('p', 'http://www.wikidata.org/prop/direct/P6587'), ('pName', 'league system')]\n",
      "[('s', 'http://www.wikidata.org/entity/Q677397'), ('sName', 'Lega Pro Prima Divisione'), ('p', 'http://www.wikidata.org/prop/direct/P6587'), ('pName', 'league system')]\n",
      "[('s', 'http://www.wikidata.org/entity/Q1141778'), ('sName', 'Serie D'), ('p', 'http://www.wikidata.org/prop/direct/P6587'), ('pName', 'league system')]\n",
      "[('s', 'http://www.wikidata.org/entity/Q8557731'), ('sName', 'Category:Italian Football Championship'), ('p', 'http://www.wikidata.org/prop/direct/P301'), ('pName', \"category's main topic\")]\n",
      "[('s', 'http://www.wikidata.org/entity/Q3717991'), ('sName', 'Eccellenza Campania'), ('p', 'http://www.wikidata.org/prop/direct/P6587'), ('pName', 'league system')]\n",
      "[('s', 'http://www.wikidata.org/entity/Q3718091'), ('sName', 'Eccellenza Liguria'), ('p', 'http://www.wikidata.org/prop/direct/P6587'), ('pName', 'league system')]\n",
      "[('s', 'http://www.wikidata.org/entity/Q3718140'), ('sName', 'Eccellenza Marche'), ('p', 'http://www.wikidata.org/prop/direct/P6587'), ('pName', 'league system')]\n",
      "10\n"
     ]
    }
   ],
   "source": [
    "\n",
    "\n",
    "# write your queries\n",
    "#Get some insights from Italian association Football league at Q3270632\n",
    "queryString = \"\"\"\n",
    "SELECT DISTINCT ?s ?sName ?p ?pName\n",
    "WHERE {\n",
    "\n",
    "   ?s ?p wd:Q953425.\n",
    "   ?p sc:name ?pName.\n",
    "   ?s sc:name ?sName\n",
    "   \n",
    "}\n",
    "LIMIT 30\n",
    "\"\"\"\n",
    "\n",
    "print(\"Results\")\n",
    "x=run_query(queryString)"
   ]
  },
  {
   "cell_type": "code",
   "execution_count": 201,
   "id": "11a829a1-55a9-499b-b54c-1e00c4450aeb",
   "metadata": {},
   "outputs": [
    {
     "name": "stdout",
     "output_type": "stream",
     "text": [
      "Results\n",
      "[('p', 'http://www.wikidata.org/prop/direct/P279'), ('pName', 'subclass of'), ('object', 'http://www.wikidata.org/entity/Q1079023'), ('objectName', 'championship')]\n",
      "[('p', 'http://www.wikidata.org/prop/direct/P910'), ('pName', \"topic's main category\"), ('object', 'http://www.wikidata.org/entity/Q7481805'), ('objectName', 'Category:National championships')]\n",
      "[('p', 'http://www.wikidata.org/prop/direct/P1424'), ('pName', \"topic's main template\"), ('object', 'http://www.wikidata.org/entity/Q14358455'), ('objectName', 'Template:Infobox national championship')]\n",
      "3\n"
     ]
    }
   ],
   "source": [
    "\n",
    "\n",
    "# write your queries\n",
    "# Look at the National Championship Q3270632\n",
    "# [('p', 'http://www.wikidata.org/prop/direct/P279'), ('pname', 'subclass of'), ('object', 'http://www.wikidata.org/entity/Q3270632'), ('objectname', 'national championship')]\n",
    "queryString = \"\"\"\n",
    "SELECT DISTINCT ?p ?pName ?object ?objectName\n",
    "WHERE {\n",
    "\n",
    "   wd:Q3270632 ?p ?object.\n",
    "   ?p sc:name ?pName.\n",
    "   ?object sc:name ?objectName\n",
    "   \n",
    "}\n",
    "LIMIT 30\n",
    "\"\"\"\n",
    "\n",
    "print(\"Results\")\n",
    "x=run_query(queryString)"
   ]
  },
  {
   "cell_type": "code",
   "execution_count": 203,
   "id": "fedb3e1b-01f3-451f-b040-8b87e610ff11",
   "metadata": {},
   "outputs": [
    {
     "name": "stdout",
     "output_type": "stream",
     "text": [
      "Results\n",
      "[('p', 'http://www.wikidata.org/prop/direct/P1963'), ('pName', 'properties for this type'), ('object', 'http://www.wikidata.org/entity/P2499'), ('objectName', 'league level above')]\n",
      "[('p', 'http://www.wikidata.org/prop/direct/P1963'), ('pName', 'properties for this type'), ('object', 'http://www.wikidata.org/entity/P2500'), ('objectName', 'league level below')]\n",
      "[('p', 'http://www.wikidata.org/prop/direct/P1963'), ('pName', 'properties for this type'), ('object', 'http://www.wikidata.org/entity/P3983'), ('objectName', 'sports league level')]\n",
      "[('p', 'http://www.wikidata.org/prop/direct/P1889'), ('pName', 'different from'), ('object', 'http://www.wikidata.org/entity/Q26887310'), ('objectName', 'association football team season')]\n",
      "[('p', 'http://www.wikidata.org/prop/direct/P1963'), ('pName', 'properties for this type'), ('object', 'http://www.wikidata.org/entity/P17'), ('objectName', 'country')]\n",
      "[('p', 'http://www.wikidata.org/prop/direct/P641'), ('pName', 'sport'), ('object', 'http://www.wikidata.org/entity/Q2736'), ('objectName', 'association football')]\n",
      "[('p', 'http://www.wikidata.org/prop/direct/P279'), ('pName', 'subclass of'), ('object', 'http://www.wikidata.org/entity/Q1478437'), ('objectName', 'association football competition')]\n",
      "[('p', 'http://www.wikidata.org/prop/direct/P1963'), ('pName', 'properties for this type'), ('object', 'http://www.wikidata.org/entity/P641'), ('objectName', 'sport')]\n",
      "[('p', 'http://www.wikidata.org/prop/direct/P279'), ('pName', 'subclass of'), ('object', 'http://www.wikidata.org/entity/Q623109'), ('objectName', 'sports league')]\n",
      "[('p', 'http://www.wikidata.org/prop/direct/P1963'), ('pName', 'properties for this type'), ('object', 'http://www.wikidata.org/entity/P664'), ('objectName', 'organizer')]\n",
      "[('p', 'http://www.wikidata.org/prop/direct/P1963'), ('pName', 'properties for this type'), ('object', 'http://www.wikidata.org/entity/P1132'), ('objectName', 'number of participants')]\n",
      "[('p', 'http://www.wikidata.org/prop/direct/P910'), ('pName', \"topic's main category\"), ('object', 'http://www.wikidata.org/entity/Q6383739'), ('objectName', 'Category:Association football leagues')]\n",
      "[('p', 'http://www.wikidata.org/prop/direct/P1963'), ('pName', 'properties for this type'), ('object', 'http://www.wikidata.org/entity/P4794'), ('objectName', 'season starts')]\n",
      "[('p', 'http://www.wikidata.org/prop/direct/P1963'), ('pName', 'properties for this type'), ('object', 'http://www.wikidata.org/entity/P6118'), ('objectName', 'season ends')]\n",
      "[('p', 'http://www.wikidata.org/prop/direct/P1424'), ('pName', \"topic's main template\"), ('object', 'http://www.wikidata.org/entity/Q8085406'), ('objectName', 'Template:Infobox football league')]\n",
      "[('p', 'http://www.wikidata.org/prop/direct/P1963'), ('pName', 'properties for this type'), ('object', 'http://www.wikidata.org/entity/P3195'), ('objectName', 'league points system')]\n",
      "[('p', 'http://www.wikidata.org/prop/direct/P1963'), ('pName', 'properties for this type'), ('object', 'http://www.wikidata.org/entity/P3822'), ('objectName', 'rules for classification')]\n",
      "17\n"
     ]
    }
   ],
   "source": [
    "\n",
    "\n",
    "# write your queries\n",
    "# try to EXPLORE ASSOCIATION FOOTBALL LEAGUE Q15991303\n",
    "queryString = \"\"\"\n",
    "SELECT DISTINCT ?p ?pName ?object ?objectName\n",
    "WHERE {\n",
    "\n",
    "   wd:Q15991303 ?p ?object.\n",
    "   ?p sc:name ?pName.\n",
    "   ?object sc:name ?objectName\n",
    "   \n",
    "}\n",
    "LIMIT 30\n",
    "\"\"\"\n",
    "\n",
    "print(\"Results\")\n",
    "x=run_query(queryString)"
   ]
  },
  {
   "cell_type": "code",
   "execution_count": 205,
   "id": "b89ef242-e46d-4e3a-aa64-ddc948cd4c9b",
   "metadata": {},
   "outputs": [
    {
     "name": "stdout",
     "output_type": "stream",
     "text": [
      "Results\n",
      "[('s', 'http://www.wikidata.org/entity/Q623109'), ('sName', 'sports league'), ('p', 'http://www.wikidata.org/prop/direct/P1687'), ('pName', 'Wikidata property')]\n",
      "[('s', 'http://www.wikidata.org/entity/Q15991303'), ('sName', 'association football league'), ('p', 'http://www.wikidata.org/prop/direct/P1963'), ('pName', 'properties for this type')]\n",
      "[('s', 'http://www.wikidata.org/entity/Q106314805'), ('sName', 'volleyball league'), ('p', 'http://www.wikidata.org/prop/direct/P1963'), ('pName', 'properties for this type')]\n",
      "[('s', 'http://www.wikidata.org/entity/Q75179210'), ('sName', 'handball league'), ('p', 'http://www.wikidata.org/prop/direct/P1963'), ('pName', 'properties for this type')]\n",
      "[('s', 'http://www.wikidata.org/entity/P2500'), ('sName', 'league level below'), ('p', 'http://www.wikidata.org/prop/direct/P1659'), ('pName', 'see also')]\n",
      "[('s', 'http://www.wikidata.org/entity/P2499'), ('sName', 'league level above'), ('p', 'http://www.wikidata.org/prop/direct/P1659'), ('pName', 'see also')]\n",
      "[('s', 'http://www.wikidata.org/entity/Q42963528'), ('sName', 'Category:Pages using Wikidata property P3983'), ('p', 'http://www.wikidata.org/prop/direct/P1659'), ('pName', 'see also')]\n",
      "[('s', 'http://www.wikidata.org/entity/P6587'), ('sName', 'league system'), ('p', 'http://www.wikidata.org/prop/direct/P1659'), ('pName', 'see also')]\n",
      "8\n"
     ]
    }
   ],
   "source": [
    "# LOOK AT SPORT LEAGUE LEVEL P3983\n",
    "queryString = \"\"\"\n",
    "SELECT DISTINCT ?s ?sName ?p ?pName\n",
    "WHERE {\n",
    "\n",
    "   ?s ?p wd:P3983.\n",
    "   ?s sc:name ?sName.\n",
    "   ?p sc:name ?pName\n",
    "   \n",
    "}\n",
    "LIMIT 30\n",
    "\"\"\"\n",
    "\n",
    "print(\"Results\")\n",
    "x=run_query(queryString)"
   ]
  },
  {
   "cell_type": "code",
   "execution_count": 206,
   "id": "2af71b3b-f22f-4b4c-81d0-f1603a1e97fd",
   "metadata": {},
   "outputs": [
    {
     "name": "stdout",
     "output_type": "stream",
     "text": [
      "Results\n",
      "[('p', 'http://www.wikidata.org/prop/direct/P31'), ('pName', 'instance of'), ('object', 'http://www.wikidata.org/entity/Q28106586'), ('objectName', 'Wikidata property related to sport events')]\n",
      "[('p', 'http://www.wikidata.org/prop/direct/P1659'), ('pName', 'see also'), ('object', 'http://www.wikidata.org/entity/P2500'), ('objectName', 'league level below')]\n",
      "[('p', 'http://www.wikidata.org/prop/direct/P1659'), ('pName', 'see also'), ('object', 'http://www.wikidata.org/entity/P2499'), ('objectName', 'league level above')]\n",
      "[('p', 'http://www.wikidata.org/prop/direct/P1659'), ('pName', 'see also'), ('object', 'http://www.wikidata.org/entity/P6587'), ('objectName', 'league system')]\n",
      "[('p', 'http://www.wikidata.org/prop/direct/P1629'), ('pName', 'Wikidata item of this property'), ('object', 'http://www.wikidata.org/entity/Q623109'), ('objectName', 'sports league')]\n",
      "[('p', 'http://www.wikidata.org/prop/direct/P1855'), ('pName', 'Wikidata property example'), ('object', 'http://www.wikidata.org/entity/Q9448'), ('objectName', 'Premier League')]\n",
      "[('p', 'http://www.wikidata.org/prop/direct/P1855'), ('pName', 'Wikidata property example'), ('object', 'http://www.wikidata.org/entity/Q2186582'), ('objectName', 'Cypriot Second Division')]\n",
      "[('p', 'http://www.wikidata.org/prop/direct/P2302'), ('pName', 'property constraint'), ('object', 'http://www.wikidata.org/entity/Q21510860'), ('objectName', 'range constraint')]\n",
      "[('p', 'http://www.wikidata.org/prop/direct/P2302'), ('pName', 'property constraint'), ('object', 'http://www.wikidata.org/entity/Q51723761'), ('objectName', 'no-bounds constraint')]\n",
      "[('p', 'http://www.wikidata.org/prop/direct/P2302'), ('pName', 'property constraint'), ('object', 'http://www.wikidata.org/entity/Q21503247'), ('objectName', 'item-requires-statement constraint')]\n",
      "[('p', 'http://www.wikidata.org/prop/direct/P2302'), ('pName', 'property constraint'), ('object', 'http://www.wikidata.org/entity/Q52848401'), ('objectName', 'integer constraint')]\n",
      "[('p', 'http://www.wikidata.org/prop/direct/P2302'), ('pName', 'property constraint'), ('object', 'http://www.wikidata.org/entity/Q21503250'), ('objectName', 'type constraint')]\n",
      "[('p', 'http://www.wikidata.org/prop/direct/P2875'), ('pName', 'property usage tracking category'), ('object', 'http://www.wikidata.org/entity/Q42963528'), ('objectName', 'Category:Pages using Wikidata property P3983')]\n",
      "13\n"
     ]
    }
   ],
   "source": [
    "# LOOK AT SPORT LEAGUE LEVEL P3983\n",
    "queryString = \"\"\"\n",
    "SELECT DISTINCT ?p ?pName ?object ?objectName\n",
    "WHERE {\n",
    "\n",
    "   wd:P3983 ?p ?object .\n",
    "   ?object sc:name ?objectName.\n",
    "   ?p sc:name ?pName\n",
    "   \n",
    "}\n",
    "LIMIT 30\n",
    "\"\"\"\n",
    "\n",
    "print(\"Results\")\n",
    "x=run_query(queryString)"
   ]
  },
  {
   "cell_type": "code",
   "execution_count": 207,
   "id": "93300588-9dae-4dd3-9993-1ee4f0830b60",
   "metadata": {},
   "outputs": [
    {
     "name": "stdout",
     "output_type": "stream",
     "text": [
      "Results\n",
      "[('p', 'http://www.wikidata.org/prop/direct/P31'), ('pName', 'instance of'), ('object', 'http://www.wikidata.org/entity/Q28106586'), ('objectName', 'Wikidata property related to sport events')]\n",
      "[('p', 'http://www.wikidata.org/prop/direct/P1659'), ('pName', 'see also'), ('object', 'http://www.wikidata.org/entity/P2500'), ('objectName', 'league level below')]\n",
      "[('p', 'http://www.wikidata.org/prop/direct/P1659'), ('pName', 'see also'), ('object', 'http://www.wikidata.org/entity/P2499'), ('objectName', 'league level above')]\n",
      "[('p', 'http://www.wikidata.org/prop/direct/P1659'), ('pName', 'see also'), ('object', 'http://www.wikidata.org/entity/P6587'), ('objectName', 'league system')]\n",
      "[('p', 'http://www.wikidata.org/prop/direct/P1629'), ('pName', 'Wikidata item of this property'), ('object', 'http://www.wikidata.org/entity/Q623109'), ('objectName', 'sports league')]\n",
      "[('p', 'http://www.wikidata.org/prop/direct/P1855'), ('pName', 'Wikidata property example'), ('object', 'http://www.wikidata.org/entity/Q9448'), ('objectName', 'Premier League')]\n",
      "[('p', 'http://www.wikidata.org/prop/direct/P1855'), ('pName', 'Wikidata property example'), ('object', 'http://www.wikidata.org/entity/Q2186582'), ('objectName', 'Cypriot Second Division')]\n",
      "[('p', 'http://www.wikidata.org/prop/direct/P2302'), ('pName', 'property constraint'), ('object', 'http://www.wikidata.org/entity/Q21510860'), ('objectName', 'range constraint')]\n",
      "[('p', 'http://www.wikidata.org/prop/direct/P2302'), ('pName', 'property constraint'), ('object', 'http://www.wikidata.org/entity/Q51723761'), ('objectName', 'no-bounds constraint')]\n",
      "[('p', 'http://www.wikidata.org/prop/direct/P2302'), ('pName', 'property constraint'), ('object', 'http://www.wikidata.org/entity/Q21503247'), ('objectName', 'item-requires-statement constraint')]\n",
      "[('p', 'http://www.wikidata.org/prop/direct/P2302'), ('pName', 'property constraint'), ('object', 'http://www.wikidata.org/entity/Q52848401'), ('objectName', 'integer constraint')]\n",
      "[('p', 'http://www.wikidata.org/prop/direct/P2302'), ('pName', 'property constraint'), ('object', 'http://www.wikidata.org/entity/Q21503250'), ('objectName', 'type constraint')]\n",
      "[('p', 'http://www.wikidata.org/prop/direct/P2875'), ('pName', 'property usage tracking category'), ('object', 'http://www.wikidata.org/entity/Q42963528'), ('objectName', 'Category:Pages using Wikidata property P3983')]\n",
      "13\n"
     ]
    }
   ],
   "source": [
    "# LOOK AT SPORT LEAGUE LEVEL P3983\n",
    "queryString = \"\"\"\n",
    "SELECT DISTINCT ?p ?pName ?object ?objectName\n",
    "WHERE {\n",
    "\n",
    "   wd:P3983 ?p ?object .\n",
    "   ?object sc:name ?objectName.\n",
    "   ?p sc:name ?pName\n",
    "   \n",
    "}\n",
    "LIMIT 30\n",
    "\"\"\"\n",
    "\n",
    "print(\"Results\")\n",
    "x=run_query(queryString)"
   ]
  },
  {
   "cell_type": "code",
   "execution_count": 262,
   "id": "616d38c9-be4c-4a19-8d8d-95f8b428134c",
   "metadata": {
    "tags": []
   },
   "outputs": [
    {
     "name": "stdout",
     "output_type": "stream",
     "text": [
      "Results\n",
      "[('p', 'http://www.wikidata.org/prop/direct/P279'), ('pName', 'subclass of'), ('object', 'http://www.wikidata.org/entity/Q16510064'), ('objectName', 'sporting event')]\n",
      "[('p', 'http://www.wikidata.org/prop/direct/P279'), ('pName', 'subclass of'), ('object', 'http://www.wikidata.org/entity/Q1079023'), ('objectName', 'championship')]\n",
      "[('p', 'http://www.wikidata.org/prop/direct/P641'), ('pName', 'sport'), ('object', 'http://www.wikidata.org/entity/Q2736'), ('objectName', 'association football')]\n",
      "[('p', 'http://www.wikidata.org/prop/direct/P279'), ('pName', 'subclass of'), ('object', 'http://www.wikidata.org/entity/Q500834'), ('objectName', 'tournament')]\n",
      "[('p', 'http://www.wikidata.org/prop/direct/P910'), ('pName', \"topic's main category\"), ('object', 'http://www.wikidata.org/entity/Q7015591'), ('objectName', 'Category:Association football competitions')]\n",
      "[('p', 'http://www.wikidata.org/prop/direct/P1424'), ('pName', \"topic's main template\"), ('object', 'http://www.wikidata.org/entity/Q6284252'), ('objectName', 'Template:Infobox football tournament')]\n",
      "[('p', 'http://www.wikidata.org/prop/direct/P1963'), ('pName', 'properties for this type'), ('object', 'http://www.wikidata.org/entity/P5162'), ('objectName', 'OnsOranje tournament ID')]\n",
      "7\n"
     ]
    }
   ],
   "source": [
    "\n",
    "\n",
    "# write your queries\n",
    "# EXPLORE ASSOCIATION FOOTBALL COMPETITION Q1478437\n",
    "# [('p', 'http://www.wikidata.org/prop/direct/P279'), ('pName', 'subclass of'), ('object', 'http://www.wikidata.org/entity/Q1478437'), ('objectName', 'association football competition')]\n",
    "queryString = \"\"\"\n",
    "SELECT DISTINCT ?p ?pName ?object ?objectName\n",
    "WHERE {\n",
    "\n",
    "   wd:Q1478437 ?p ?object.\n",
    "   ?p sc:name ?pName.\n",
    "   ?object sc:name ?objectName\n",
    "   \n",
    "}\n",
    "LIMIT 30\n",
    "\"\"\"\n",
    "\n",
    "print(\"Results\")\n",
    "x=run_query(queryString)"
   ]
  },
  {
   "cell_type": "code",
   "execution_count": 263,
   "id": "a9e306b2-ddde-4032-8721-6527f22de0fb",
   "metadata": {},
   "outputs": [
    {
     "name": "stdout",
     "output_type": "stream",
     "text": [
      "Results\n",
      "[('p', 'http://www.wikidata.org/prop/direct/P279'), ('pName', 'subclass of'), ('object', 'http://www.wikidata.org/entity/Q1079023'), ('objectName', 'championship')]\n",
      "[('p', 'http://www.wikidata.org/prop/direct/P910'), ('pName', \"topic's main category\"), ('object', 'http://www.wikidata.org/entity/Q7481805'), ('objectName', 'Category:National championships')]\n",
      "[('p', 'http://www.wikidata.org/prop/direct/P1424'), ('pName', \"topic's main template\"), ('object', 'http://www.wikidata.org/entity/Q14358455'), ('objectName', 'Template:Infobox national championship')]\n",
      "3\n"
     ]
    }
   ],
   "source": [
    "\n",
    "\n",
    "# write your queries\n",
    "# Explore national Championship Q3270632\n",
    "# [('p', 'http://www.wikidata.org/prop/direct/P279'), ('pname', 'subclass of'), ('object', 'http://www.wikidata.org/entity/Q3270632'), ('objectname', 'national championship')]\n",
    "queryString = \"\"\"\n",
    "SELECT DISTINCT ?p ?pName ?object ?objectName\n",
    "WHERE {\n",
    "\n",
    "   wd:Q3270632 ?p ?object.\n",
    "   ?p sc:name ?pName.\n",
    "   ?object sc:name ?objectName\n",
    "   \n",
    "}\n",
    "LIMIT 30\n",
    "\"\"\"\n",
    "\n",
    "print(\"Results\")\n",
    "x=run_query(queryString)"
   ]
  },
  {
   "cell_type": "code",
   "execution_count": null,
   "id": "84ca0241",
   "metadata": {},
   "outputs": [],
   "source": [
    "# write your final query"
   ]
  },
  {
   "cell_type": "markdown",
   "id": "d08f151d",
   "metadata": {},
   "source": [
    "## Task 7\n",
    "Identify the BGP of the FIFA World Cup"
   ]
  },
  {
   "cell_type": "code",
   "execution_count": 212,
   "id": "1a936ab9",
   "metadata": {},
   "outputs": [
    {
     "name": "stdout",
     "output_type": "stream",
     "text": [
      "Results\n",
      "[('p', 'http://www.wikidata.org/prop/direct/P3967'), ('pName', 'final event'), ('object', 'http://www.wikidata.org/entity/Q31043671'), ('objectName', '2018 FIFA World Cup Final')]\n",
      "[('p', 'http://www.wikidata.org/prop/direct/P664'), ('pName', 'organizer'), ('object', 'http://www.wikidata.org/entity/Q253414'), ('objectName', 'FIFA')]\n",
      "[('p', 'http://www.wikidata.org/prop/direct/P276'), ('pName', 'location'), ('object', 'http://www.wikidata.org/entity/Q202163'), ('objectName', 'Luzhniki Stadium')]\n",
      "[('p', 'http://www.wikidata.org/prop/direct/P17'), ('pName', 'country'), ('object', 'http://www.wikidata.org/entity/Q159'), ('objectName', 'Russia')]\n",
      "[('p', 'http://www.wikidata.org/prop/direct/P31'), ('pName', 'instance of'), ('object', 'http://www.wikidata.org/entity/Q27020041'), ('objectName', 'sports season')]\n",
      "[('p', 'http://www.wikidata.org/prop/direct/P641'), ('pName', 'sport'), ('object', 'http://www.wikidata.org/entity/Q2736'), ('objectName', 'association football')]\n",
      "[('p', 'http://www.wikidata.org/prop/direct/P1346'), ('pName', 'winner'), ('object', 'http://www.wikidata.org/entity/Q47774'), ('objectName', 'France national association football team')]\n",
      "[('p', 'http://www.wikidata.org/prop/direct/P2094'), ('pName', 'competition class'), ('object', 'http://www.wikidata.org/entity/Q31930761'), ('objectName', \"men's association football\")]\n",
      "[('p', 'http://www.wikidata.org/prop/direct/P3279'), ('pName', 'statistical leader'), ('object', 'http://www.wikidata.org/entity/Q969725'), ('objectName', 'Harry Kane')]\n",
      "[('p', 'http://www.wikidata.org/prop/direct/P276'), ('pName', 'location'), ('object', 'http://www.wikidata.org/entity/Q1190634'), ('objectName', 'Otkrytie Bank Arena')]\n",
      "[('p', 'http://www.wikidata.org/prop/direct/P3450'), ('pName', 'sports season of league or competition'), ('object', 'http://www.wikidata.org/entity/Q19317'), ('objectName', 'FIFA World Cup')]\n",
      "[('p', 'http://www.wikidata.org/prop/direct/P1424'), ('pName', \"topic's main template\"), ('object', 'http://www.wikidata.org/entity/Q19593927'), ('objectName', 'Template:2018 FIFA World Cup')]\n",
      "[('p', 'http://www.wikidata.org/prop/direct/P1923'), ('pName', 'participating team'), ('object', 'http://www.wikidata.org/entity/Q45101586'), ('objectName', 'Australia at the 2018 FIFA World Cup')]\n",
      "[('p', 'http://www.wikidata.org/prop/direct/P1923'), ('pName', 'participating team'), ('object', 'http://www.wikidata.org/entity/Q43196508'), ('objectName', 'Uruguay at the 2018 FIFA World Cup\\u200e')]\n",
      "[('p', 'http://www.wikidata.org/prop/direct/P1923'), ('pName', 'participating team'), ('object', 'http://www.wikidata.org/entity/Q43196538'), ('objectName', 'Brazil at the 2018 FIFA World Cup\\u200e')]\n",
      "[('p', 'http://www.wikidata.org/prop/direct/P276'), ('pName', 'location'), ('object', 'http://www.wikidata.org/entity/Q1149601'), ('objectName', 'Fisht Olympic Stadium')]\n",
      "[('p', 'http://www.wikidata.org/prop/direct/P527'), ('pName', 'has part'), ('object', 'http://www.wikidata.org/entity/Q31189412'), ('objectName', '2018 FIFA World Cup Group D')]\n",
      "[('p', 'http://www.wikidata.org/prop/direct/P1923'), ('pName', 'participating team'), ('object', 'http://www.wikidata.org/entity/Q43122212'), ('objectName', 'Iceland at the 2018 FIFA World Cup')]\n",
      "[('p', 'http://www.wikidata.org/prop/direct/P276'), ('pName', 'location'), ('object', 'http://www.wikidata.org/entity/Q4439101'), ('objectName', 'Rostov Arena')]\n",
      "[('p', 'http://www.wikidata.org/prop/direct/P1923'), ('pName', 'participating team'), ('object', 'http://www.wikidata.org/entity/Q45905387'), ('objectName', 'Croatia at the 2018 FIFA World Cup')]\n",
      "[('p', 'http://www.wikidata.org/prop/direct/P1923'), ('pName', 'participating team'), ('object', 'http://www.wikidata.org/entity/Q43197686'), ('objectName', 'Panama at the 2018 FIFA World Cup')]\n",
      "[('p', 'http://www.wikidata.org/prop/direct/P1923'), ('pName', 'participating team'), ('object', 'http://www.wikidata.org/entity/Q43249937'), ('objectName', 'France at the 2018 FIFA World Cup\\u200e')]\n",
      "[('p', 'http://www.wikidata.org/prop/direct/P1923'), ('pName', 'participating team'), ('object', 'http://www.wikidata.org/entity/Q44959733'), ('objectName', 'Egypt at the 2018 FIFA World Cup\\u200e')]\n",
      "[('p', 'http://www.wikidata.org/prop/direct/P527'), ('pName', 'has part'), ('object', 'http://www.wikidata.org/entity/Q31189411'), ('objectName', '2018 FIFA World Cup Group C')]\n",
      "[('p', 'http://www.wikidata.org/prop/direct/P276'), ('pName', 'location'), ('object', 'http://www.wikidata.org/entity/Q33993'), ('objectName', 'Kazan Arena')]\n",
      "[('p', 'http://www.wikidata.org/prop/direct/P1923'), ('pName', 'participating team'), ('object', 'http://www.wikidata.org/entity/Q43122091'), ('objectName', 'Germany at the 2018 FIFA World Cup')]\n",
      "[('p', 'http://www.wikidata.org/prop/direct/P527'), ('pName', 'has part'), ('object', 'http://www.wikidata.org/entity/Q43214797'), ('objectName', '2018 FIFA World Cup Group F')]\n",
      "[('p', 'http://www.wikidata.org/prop/direct/P1923'), ('pName', 'participating team'), ('object', 'http://www.wikidata.org/entity/Q45186603'), ('objectName', 'Denmark at the 2018 FIFA World Cup')]\n",
      "[('p', 'http://www.wikidata.org/prop/direct/P527'), ('pName', 'has part'), ('object', 'http://www.wikidata.org/entity/Q43214603'), ('objectName', '2018 FIFA World Cup knockout stage')]\n",
      "[('p', 'http://www.wikidata.org/prop/direct/P527'), ('pName', 'has part'), ('object', 'http://www.wikidata.org/entity/Q31189406'), ('objectName', '2018 FIFA World Cup Group B')]\n",
      "30\n"
     ]
    }
   ],
   "source": [
    "# write your queries\n",
    "# Try to look all the properties of FIFIA World Cup Q170645\n",
    "queryString = \"\"\"\n",
    "SELECT DISTINCT ?p ?pName ?object ?objectName\n",
    "WHERE {\n",
    "\n",
    "   wd:Q170645 ?p ?object .\n",
    "   ?p sc:name ?pName.\n",
    "   ?object sc:name ?objectName\n",
    "   \n",
    "}\n",
    "LIMIT 30\n",
    "\"\"\"\n",
    "\n",
    "print(\"Results\")\n",
    "x=run_query(queryString)"
   ]
  },
  {
   "cell_type": "markdown",
   "id": "694a1f93",
   "metadata": {},
   "source": [
    "Final query for this task"
   ]
  },
  {
   "cell_type": "code",
   "execution_count": 213,
   "id": "6208b846",
   "metadata": {},
   "outputs": [
    {
     "name": "stdout",
     "output_type": "stream",
     "text": [
      "Results\n",
      "[('object', 'http://www.wikidata.org/entity/Q19317'), ('objectName', 'FIFA World Cup')]\n",
      "1\n"
     ]
    }
   ],
   "source": [
    "# write your final query\n",
    "# write your queries\n",
    "# Try to LOOK at P3450 properties of sport seasion of league of FIFIA World Cup Q170645\n",
    "queryString = \"\"\"\n",
    "SELECT DISTINCT ?p ?pName ?object ?objectName\n",
    "WHERE {\n",
    "\n",
    "   wd:Q170645 wdt:P3450 ?object .\n",
    "   ?object sc:name ?objectName\n",
    "   \n",
    "}\n",
    "LIMIT 30\n",
    "\"\"\"\n",
    "\n",
    "print(\"Results\")\n",
    "x=run_query(queryString)"
   ]
  },
  {
   "cell_type": "code",
   "execution_count": 264,
   "id": "894f91a2-d15e-441a-b207-028c9ba74f43",
   "metadata": {},
   "outputs": [
    {
     "name": "stdout",
     "output_type": "stream",
     "text": [
      "Results\n",
      "[('object', 'http://www.wikidata.org/prop/direct/P7441'), ('name', 'WorldFootball.net competition ID')]\n",
      "[('object', 'http://www.wikidata.org/prop/direct/P1015'), ('name', 'NORAF ID')]\n",
      "[('object', 'http://www.wikidata.org/prop/direct/P1151'), ('name', \"topic's main Wikimedia portal\")]\n",
      "[('object', 'http://www.wikidata.org/prop/direct/P1296'), ('name', 'Gran Enciclopèdia Catalana ID')]\n",
      "[('object', 'http://www.wikidata.org/prop/direct/P1417'), ('name', 'Encyclopædia Britannica Online ID')]\n",
      "[('object', 'http://www.wikidata.org/prop/direct/P1424'), ('name', \"topic's main template\")]\n",
      "[('object', 'http://www.wikidata.org/prop/direct/P1705'), ('name', 'native label')]\n",
      "[('object', 'http://www.wikidata.org/prop/direct/P18'), ('name', 'image')]\n",
      "[('object', 'http://www.wikidata.org/prop/direct/P2002'), ('name', 'Twitter username')]\n",
      "[('object', 'http://www.wikidata.org/prop/direct/P2003'), ('name', 'Instagram username')]\n",
      "[('object', 'http://www.wikidata.org/prop/direct/P2013'), ('name', 'Facebook ID')]\n",
      "[('object', 'http://www.wikidata.org/prop/direct/P2094'), ('name', 'competition class')]\n",
      "[('object', 'http://www.wikidata.org/prop/direct/P214'), ('name', 'VIAF ID')]\n",
      "[('object', 'http://www.wikidata.org/prop/direct/P2184'), ('name', 'history of topic')]\n",
      "[('object', 'http://www.wikidata.org/prop/direct/P2257'), ('name', 'event interval')]\n",
      "[('object', 'http://www.wikidata.org/prop/direct/P227'), ('name', 'GND ID')]\n",
      "[('object', 'http://www.wikidata.org/prop/direct/P2397'), ('name', 'YouTube channel ID')]\n",
      "[('object', 'http://www.wikidata.org/prop/direct/P244'), ('name', 'Library of Congress authority ID')]\n",
      "[('object', 'http://www.wikidata.org/prop/direct/P2922'), ('name', 'month of the year')]\n",
      "[('object', 'http://www.wikidata.org/prop/direct/P31'), ('name', 'instance of')]\n",
      "[('object', 'http://www.wikidata.org/prop/direct/P3219'), ('name', 'Encyclopædia Universalis ID')]\n",
      "[('object', 'http://www.wikidata.org/prop/direct/P3221'), ('name', 'New York Times topic ID')]\n",
      "[('object', 'http://www.wikidata.org/prop/direct/P3417'), ('name', 'Quora topic ID')]\n",
      "[('object', 'http://www.wikidata.org/prop/direct/P373'), ('name', 'Commons category')]\n",
      "[('object', 'http://www.wikidata.org/prop/direct/P3984'), ('name', 'subreddit')]\n",
      "[('object', 'http://www.wikidata.org/prop/direct/P4527'), ('name', 'UK Parliament thesaurus ID')]\n",
      "[('object', 'http://www.wikidata.org/prop/direct/P527'), ('name', 'has part')]\n",
      "[('object', 'http://www.wikidata.org/prop/direct/P571'), ('name', 'inception')]\n",
      "[('object', 'http://www.wikidata.org/prop/direct/P6262'), ('name', 'Fandom article ID')]\n",
      "[('object', 'http://www.wikidata.org/prop/direct/P641'), ('name', 'sport')]\n",
      "[('object', 'http://www.wikidata.org/prop/direct/P646'), ('name', 'Freebase ID')]\n",
      "[('object', 'http://www.wikidata.org/prop/direct/P6573'), ('name', 'Klexikon article ID')]\n",
      "[('object', 'http://www.wikidata.org/prop/direct/P664'), ('name', 'organizer')]\n",
      "[('object', 'http://www.wikidata.org/prop/direct/P691'), ('name', 'NKCR AUT ID')]\n",
      "[('object', 'http://www.wikidata.org/prop/direct/P7859'), ('name', 'WorldCat Identities ID')]\n",
      "[('object', 'http://www.wikidata.org/prop/direct/P8408'), ('name', 'KBpedia ID')]\n",
      "[('object', 'http://www.wikidata.org/prop/direct/P856'), ('name', 'official website')]\n",
      "[('object', 'http://www.wikidata.org/prop/direct/P8687'), ('name', 'social media followers')]\n",
      "[('object', 'http://www.wikidata.org/prop/direct/P910'), ('name', \"topic's main category\")]\n",
      "[('object', 'http://www.wikidata.org/prop/direct/P9322'), ('name', 'SVKKL authority ID')]\n",
      "[('object', 'http://www.wikidata.org/prop/direct/P949'), ('name', 'National Library of Israel ID')]\n",
      "[('object', 'http://www.wikidata.org/prop/direct/P2517'), ('name', 'category for recipients of this award')]\n",
      "[('object', 'http://www.wikidata.org/prop/direct/P3579'), ('name', 'Sina Weibo user ID')]\n",
      "[('object', 'http://www.wikidata.org/prop/direct/P8735'), ('name', 'Opta football competition ID')]\n",
      "[('object', 'http://www.wikidata.org/prop/direct/P8115'), ('name', 'eligible recipient')]\n",
      "45\n"
     ]
    }
   ],
   "source": [
    "# write your final query\n",
    "# write your queries\n",
    "# Retrived BGP data for FIFA WORLD CUP USING Q19317\n",
    "# [('object', 'http://www.wikidata.org/entity/Q19317'), ('objectName', 'FIFA World Cup')]\n",
    "\n",
    "\n",
    "queryString = \"\"\"\n",
    "SELECT DISTINCT ?object ?name\n",
    "WHERE {\n",
    "   # bind something\n",
    "   wd:Q19317 ?object ?o.\n",
    "   # get the label\n",
    "   ?object sc:name ?name.\n",
    "   \n",
    "}\n",
    "LIMIT 50\n",
    "\"\"\"\n",
    "\n",
    "print(\"Results\")\n",
    "x=run_query(queryString)"
   ]
  },
  {
   "cell_type": "markdown",
   "id": "c0aeb15c",
   "metadata": {},
   "source": [
    "## Task 8\n",
    "Consider countries who participated at the FIFA World Cup more than 10 times. Return these countries with the number of apparitions (the result set must be triples of country IRI, label and #apparitions)."
   ]
  },
  {
   "cell_type": "code",
   "execution_count": null,
   "id": "cd749da5",
   "metadata": {},
   "outputs": [],
   "source": [
    "# write your queries"
   ]
  },
  {
   "cell_type": "markdown",
   "id": "36139a8c",
   "metadata": {},
   "source": [
    "Final query for this task"
   ]
  },
  {
   "cell_type": "code",
   "execution_count": null,
   "id": "ea46423d",
   "metadata": {},
   "outputs": [],
   "source": [
    "# write your final query"
   ]
  },
  {
   "cell_type": "markdown",
   "id": "5e935c4e",
   "metadata": {
    "tags": []
   },
   "source": [
    "## Task 9\n",
    "Consider the countries that won the FIFA World Cup at least twice. Find the association football clubs of those countries won the UEFA Champions League (the result set must be couples of clubs IRI and label)."
   ]
  },
  {
   "cell_type": "code",
   "execution_count": null,
   "id": "0acb7f56",
   "metadata": {},
   "outputs": [],
   "source": [
    "# write your queries"
   ]
  },
  {
   "cell_type": "markdown",
   "id": "d8be1962",
   "metadata": {},
   "source": [
    "Final query for this task"
   ]
  },
  {
   "cell_type": "code",
   "execution_count": null,
   "id": "9910c69a",
   "metadata": {},
   "outputs": [],
   "source": [
    "# write your final query"
   ]
  }
 ],
 "metadata": {
  "kernelspec": {
   "display_name": "Python 3",
   "language": "python",
   "name": "python3"
  },
  "language_info": {
   "codemirror_mode": {
    "name": "ipython",
    "version": 3
   },
   "file_extension": ".py",
   "mimetype": "text/x-python",
   "name": "python",
   "nbconvert_exporter": "python",
   "pygments_lexer": "ipython3",
   "version": "3.7.10"
  },
  "toc-autonumbering": false,
  "toc-showcode": false
 },
 "nbformat": 4,
 "nbformat_minor": 5
}
