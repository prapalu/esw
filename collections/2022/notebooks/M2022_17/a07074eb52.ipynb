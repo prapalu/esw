{
 "cells": [
  {
   "cell_type": "markdown",
   "id": "b3f08428",
   "metadata": {},
   "source": [
    "# General instructions\n",
    "\n",
    "The goal of the project is to materialize a set of **exploratory workloads** over a real-world, large-scale,  open-domain KG: [WikiData](https://www.wikidata.org/wiki/Wikidata:Main_Page)\n",
    "\n",
    "An exploratory workload  is composed by a set of queries, where each query is related to the information obtained previously.\n",
    "\n",
    "An exploratory workload starts with a usually vague, open ended question, and does not assume the person issuing the workload has a clear understanding of the data contained in the target database or its structure.\n",
    "\n",
    "Remeber that:\n",
    "\n",
    "1. All the queries must run in the python notebook\n",
    "2. You can use classes and properties only if you find them via a SPARQL query that must be present in the notebook\n",
    "3. You do not delete useless queries. Keep everything that is synthatically valid \n",
    "\n",
    "```\n",
    "?p <http://schema.org/name> ?name .\n",
    "```\n",
    "    \n",
    "    is the BGP returning a human-readable name of a property or a class in Wikidata."
   ]
  },
  {
   "cell_type": "code",
   "execution_count": 1,
   "id": "508cdb39",
   "metadata": {},
   "outputs": [],
   "source": [
    "## SETUP used later\n",
    "\n",
    "from SPARQLWrapper import SPARQLWrapper, JSON\n",
    "\n",
    "\n",
    "prefixString = \"\"\"\n",
    "##-a07074eb52-##\n",
    "PREFIX wd: <http://www.wikidata.org/entity/> \n",
    "PREFIX wdt: <http://www.wikidata.org/prop/direct/> \n",
    "PREFIX sc: <http://schema.org/>\n",
    "\"\"\"\n",
    "\n",
    "# select and construct queries\n",
    "def run_query(queryString,verbose = True):\n",
    "    to_run = prefixString + \"\\n\" + queryString\n",
    "\n",
    "    sparql = SPARQLWrapper(\"http://a256-gc1-03.srv.aau.dk:5820/sparql\")\n",
    "    sparql.setTimeout(300)\n",
    "    sparql.setReturnFormat(JSON)\n",
    "    sparql.setQuery(to_run)\n",
    "\n",
    "    try :\n",
    "        results = sparql.query()\n",
    "        json_results = results.convert()\n",
    "        if len(json_results['results']['bindings'])==0:\n",
    "            print(\"Empty\")\n",
    "            return []\n",
    "        array = []\n",
    "        for bindings in json_results['results']['bindings']:\n",
    "            app =  [ (var, value['value'])  for var, value in bindings.items() ] \n",
    "            if verbose:\n",
    "                print( app)\n",
    "            array.append(app)\n",
    "        if verbose:\n",
    "            print(len(array))\n",
    "        return array\n",
    "\n",
    "    except Exception as e :\n",
    "        print(\"The operation failed\", e)\n",
    "    \n",
    "# ASk queries\n",
    "def run_ask_query(queryString):\n",
    "    to_run = prefixString + \"\\n\" + queryString\n",
    "\n",
    "    sparql = SPARQLWrapper(\"http://a256-gc1-03.srv.aau.dk:5820/sparql\")\n",
    "    sparql.setTimeout(300)\n",
    "    sparql.setReturnFormat(JSON)\n",
    "    sparql.setQuery(to_run)\n",
    "\n",
    "    try :\n",
    "        return sparql.query().convert()\n",
    "\n",
    "    except Exception as e :\n",
    "        print(\"The operation failed\", e)"
   ]
  },
  {
   "cell_type": "markdown",
   "id": "a16bd645",
   "metadata": {},
   "source": [
    "# History Workflow Series (\"Ancient Civilization explorative search\") \n",
    "\n",
    "Consider the following exploratory information need:\n",
    "\n",
    "> Investigate the Ancient Egypt and the related archeological explorations and findings."
   ]
  },
  {
   "cell_type": "markdown",
   "id": "4b24d723",
   "metadata": {},
   "source": [
    "## Useful URIs for the current workflow\n",
    "The following are given:\n",
    "\n",
    "| IRI           | Description   | Role      |\n",
    "| -----------   | -----------   |-----------|\n",
    "| `wdt:P1647`   | subproperty   | predicate |\n",
    "| `wdt:P31`     | instance of   | predicate |\n",
    "| `wdt:P106`    | occupation    | predicate | \n",
    "| `wdt:P279`    | subclass      | predicate |\n",
    "| `wdt:P27`     | nationality   | predicate |\n",
    "| `wd:Q5`| Human       | node |\n",
    "| `wd:Q13444093`| Meidum Pyramid    | node |\n",
    "| `wd:Q41127`| Poseidon   | node |\n"
   ]
  },
  {
   "cell_type": "markdown",
   "id": "c95f6807",
   "metadata": {},
   "source": [
    "\n",
    "\n",
    "\n",
    "Also consider\n",
    "\n",
    "```\n",
    "wd:Q13444093 ?p ?obj .\n",
    "```\n",
    "\n",
    "is the BGP to retrieve all **properties of Meidum Pyramid**\n",
    "\n",
    "Please consider that when you return a resource, you should return the IRI and the label of the resource. In particular, when the task require you to identify a BGP the result set must always be a list of couples IRI - label.\n",
    "\n",
    "\n",
    "\n",
    "The workload should:\n",
    "\n",
    "\n",
    "1. Identify the BGP for Ancient Egypt\n",
    "\n",
    "2. Find the Ancient Egypt pharaohs born between 1500 BCE and 1000 BCE who had more than 8 child (the result set must be a list of triples pharaoh IRI,label and #children).\n",
    "\n",
    "3. Find all the ancient civilizations. Return the IRI and name of the civilization and also their duration (in number of years) if it is available.\n",
    "\n",
    "4. Identify the BGP for archeologist.\n",
    "\n",
    "5. For each ancient civilization find the number of archeologists who worked on it (return also the civilizations with no archeologists) (the result set must be triples of civilization IRI, label and #archeologist).\n",
    "\n",
    "6. Find the BGP for deity.\n",
    "\n",
    "7. List all the twelve olympian greek deities (the result set must a list of 12 elements of couples of deity IRI and label).\n",
    "\n",
    "8. Compare ancient Greece with ancient Egypt and find how many deities each one has.\n"
   ]
  },
  {
   "cell_type": "markdown",
   "id": "69cf80db",
   "metadata": {},
   "source": [
    "## Task 1\n",
    "Identify the BGP for Ancient Egypt"
   ]
  },
  {
   "cell_type": "code",
   "execution_count": 7,
   "id": "7e0ec60f",
   "metadata": {},
   "outputs": [
    {
     "name": "stdout",
     "output_type": "stream",
     "text": [
      "Results\n",
      "[('p', 'http://www.wikidata.org/prop/direct/P131'), ('name', 'located in the administrative territorial entity')]\n",
      "[('p', 'http://www.wikidata.org/prop/direct/P138'), ('name', 'named after')]\n",
      "[('p', 'http://www.wikidata.org/prop/direct/P1481'), ('name', 'vici.org ID')]\n",
      "[('p', 'http://www.wikidata.org/prop/direct/P1566'), ('name', 'GeoNames ID')]\n",
      "[('p', 'http://www.wikidata.org/prop/direct/P17'), ('name', 'country')]\n",
      "[('p', 'http://www.wikidata.org/prop/direct/P18'), ('name', 'image')]\n",
      "[('p', 'http://www.wikidata.org/prop/direct/P186'), ('name', 'made from material')]\n",
      "[('p', 'http://www.wikidata.org/prop/direct/P2044'), ('name', 'elevation above sea level')]\n",
      "[('p', 'http://www.wikidata.org/prop/direct/P2048'), ('name', 'height')]\n",
      "[('p', 'http://www.wikidata.org/prop/direct/P214'), ('name', 'VIAF ID')]\n",
      "[('p', 'http://www.wikidata.org/prop/direct/P227'), ('name', 'GND ID')]\n",
      "[('p', 'http://www.wikidata.org/prop/direct/P2326'), ('name', 'GNS Unique Feature ID')]\n",
      "[('p', 'http://www.wikidata.org/prop/direct/P2671'), ('name', 'Google Knowledge Graph ID')]\n",
      "[('p', 'http://www.wikidata.org/prop/direct/P276'), ('name', 'location')]\n",
      "[('p', 'http://www.wikidata.org/prop/direct/P2924'), ('name', 'Great Russian Encyclopedia Online ID')]\n",
      "[('p', 'http://www.wikidata.org/prop/direct/P31'), ('name', 'instance of')]\n",
      "[('p', 'http://www.wikidata.org/prop/direct/P366'), ('name', 'use')]\n",
      "[('p', 'http://www.wikidata.org/prop/direct/P373'), ('name', 'Commons category')]\n",
      "[('p', 'http://www.wikidata.org/prop/direct/P5008'), ('name', 'on focus list of Wikimedia project')]\n",
      "[('p', 'http://www.wikidata.org/prop/direct/P571'), ('name', 'inception')]\n",
      "[('p', 'http://www.wikidata.org/prop/direct/P7561'), ('name', 'category for the interior of the item')]\n",
      "[('p', 'http://www.wikidata.org/prop/direct/P88'), ('name', 'commissioned by')]\n",
      "22\n"
     ]
    }
   ],
   "source": [
    "# query example\n",
    "queryString = \"\"\"\n",
    "SELECT DISTINCT ?p ?name\n",
    "WHERE {\n",
    "   # bind something\n",
    "   wd:Q13444093 ?p ?obj .\n",
    "   # get the label\n",
    "   ?p sc:name ?name.\n",
    "}\n",
    "LIMIT 30\n",
    "\"\"\"\n",
    "\n",
    "print(\"Results\")\n",
    "x=run_query(queryString)"
   ]
  },
  {
   "cell_type": "code",
   "execution_count": 8,
   "id": "5b4a9686-48af-41fc-acad-6b292e7f134b",
   "metadata": {},
   "outputs": [
    {
     "name": "stdout",
     "output_type": "stream",
     "text": [
      "Results\n",
      "[('o', 'http://www.wikidata.org/entity/Q189371'), ('name', 'Sneferu')]\n",
      "[('o', 'http://www.wikidata.org/entity/Q220240'), ('name', 'Huni')]\n",
      "2\n"
     ]
    }
   ],
   "source": [
    "# Meidum Pyramid commissioner\n",
    "queryString = \"\"\"\n",
    "SELECT DISTINCT ?o ?name\n",
    "WHERE {\n",
    "   # bind something\n",
    "   wd:Q13444093 wdt:P88 ?o .\n",
    "   # get the label\n",
    "   ?o sc:name ?name.\n",
    "}\n",
    "LIMIT 20\n",
    "\"\"\"\n",
    "\n",
    "print(\"Results\")\n",
    "x=run_query(queryString)"
   ]
  },
  {
   "cell_type": "code",
   "execution_count": 9,
   "id": "65d9d175-5808-4672-b44e-723190c48f96",
   "metadata": {},
   "outputs": [
    {
     "name": "stdout",
     "output_type": "stream",
     "text": [
      "Results\n",
      "[('p', 'http://www.wikidata.org/prop/direct/P40'), ('p_name', 'child'), ('o', 'http://www.wikidata.org/entity/Q122426'), ('name', 'Henutsen')]\n",
      "[('p', 'http://www.wikidata.org/prop/direct/P40'), ('p_name', 'child'), ('o', 'http://www.wikidata.org/entity/Q161904'), ('name', 'Khufu')]\n",
      "[('p', 'http://www.wikidata.org/prop/direct/P2348'), ('p_name', 'time period'), ('o', 'http://www.wikidata.org/entity/Q177819'), ('name', 'Old Kingdom of Egypt')]\n",
      "[('p', 'http://www.wikidata.org/prop/direct/P53'), ('p_name', 'family'), ('o', 'http://www.wikidata.org/entity/Q211001'), ('name', 'Fourth Dynasty of Egypt')]\n",
      "[('p', 'http://www.wikidata.org/prop/direct/P26'), ('p_name', 'spouse'), ('o', 'http://www.wikidata.org/entity/Q256515'), ('name', 'Hetepheres I')]\n",
      "[('p', 'http://www.wikidata.org/prop/direct/P3373'), ('p_name', 'sibling'), ('o', 'http://www.wikidata.org/entity/Q256515'), ('name', 'Hetepheres I')]\n",
      "[('p', 'http://www.wikidata.org/prop/direct/P40'), ('p_name', 'child'), ('o', 'http://www.wikidata.org/entity/Q387014'), ('name', 'Ankhhaf')]\n",
      "[('p', 'http://www.wikidata.org/prop/direct/P40'), ('p_name', 'child'), ('o', 'http://www.wikidata.org/entity/Q453219'), ('name', 'Nefertkau I')]\n",
      "[('p', 'http://www.wikidata.org/prop/direct/P40'), ('p_name', 'child'), ('o', 'http://www.wikidata.org/entity/Q464954'), ('name', 'Meritites I')]\n",
      "[('p', 'http://www.wikidata.org/prop/direct/P40'), ('p_name', 'child'), ('o', 'http://www.wikidata.org/entity/Q471584'), ('name', 'Nefermaat')]\n",
      "[('p', 'http://www.wikidata.org/prop/direct/P40'), ('p_name', 'child'), ('o', 'http://www.wikidata.org/entity/Q7244639'), ('name', 'Princess Hetepheres')]\n",
      "[('p', 'http://www.wikidata.org/prop/direct/P40'), ('p_name', 'child'), ('o', 'http://www.wikidata.org/entity/Q746710'), ('name', 'Prince Rahotep')]\n",
      "[('p', 'http://www.wikidata.org/prop/direct/P40'), ('p_name', 'child'), ('o', 'http://www.wikidata.org/entity/Q760610'), ('name', 'Ranefer')]\n",
      "[('p', 'http://www.wikidata.org/prop/direct/P40'), ('p_name', 'child'), ('o', 'http://www.wikidata.org/entity/Q760621'), ('name', 'Kanefer')]\n",
      "[('p', 'http://www.wikidata.org/prop/direct/P22'), ('p_name', 'father'), ('o', 'http://www.wikidata.org/entity/Q220240'), ('name', 'Huni')]\n",
      "[('p', 'http://www.wikidata.org/prop/direct/P25'), ('p_name', 'mother'), ('o', 'http://www.wikidata.org/entity/Q271665'), ('name', 'Meresankh I')]\n",
      "[('p', 'http://www.wikidata.org/prop/direct/P3373'), ('p_name', 'sibling'), ('o', 'http://www.wikidata.org/entity/Q271665'), ('name', 'Meresankh I')]\n",
      "[('p', 'http://www.wikidata.org/prop/direct/P27'), ('p_name', 'country of citizenship'), ('o', 'http://www.wikidata.org/entity/Q11768'), ('name', 'Ancient Egypt')]\n",
      "[('p', 'http://www.wikidata.org/prop/direct/P2348'), ('p_name', 'time period'), ('o', 'http://www.wikidata.org/entity/Q11768'), ('name', 'Ancient Egypt')]\n",
      "[('p', 'http://www.wikidata.org/prop/direct/P97'), ('p_name', 'noble title'), ('o', 'http://www.wikidata.org/entity/Q37110'), ('name', 'pharaoh')]\n",
      "[('p', 'http://www.wikidata.org/prop/direct/P39'), ('p_name', 'position held'), ('o', 'http://www.wikidata.org/entity/Q37110'), ('name', 'pharaoh')]\n",
      "[('p', 'http://www.wikidata.org/prop/direct/P106'), ('p_name', 'occupation'), ('o', 'http://www.wikidata.org/entity/Q372436'), ('name', 'statesperson')]\n",
      "[('p', 'http://www.wikidata.org/prop/direct/P1343'), ('p_name', 'described by source'), ('o', 'http://www.wikidata.org/entity/Q46002746'), ('name', 'Dictionary of African Biography')]\n",
      "[('p', 'http://www.wikidata.org/prop/direct/P31'), ('p_name', 'instance of'), ('o', 'http://www.wikidata.org/entity/Q5'), ('name', 'human')]\n",
      "[('p', 'http://www.wikidata.org/prop/direct/P1343'), ('p_name', 'described by source'), ('o', 'http://www.wikidata.org/entity/Q602358'), ('name', 'Brockhaus and Efron Encyclopedic Dictionary')]\n",
      "[('p', 'http://www.wikidata.org/prop/direct/P21'), ('p_name', 'sex or gender'), ('o', 'http://www.wikidata.org/entity/Q6581097'), ('name', 'male')]\n",
      "[('p', 'http://www.wikidata.org/prop/direct/P19'), ('p_name', 'place of birth'), ('o', 'http://www.wikidata.org/entity/Q79'), ('name', 'Egypt')]\n",
      "[('p', 'http://www.wikidata.org/prop/direct/P20'), ('p_name', 'place of death'), ('o', 'http://www.wikidata.org/entity/Q79'), ('name', 'Egypt')]\n",
      "[('p', 'http://www.wikidata.org/prop/direct/P40'), ('p_name', 'child'), ('o', 'http://www.wikidata.org/entity/Q6987026'), ('name', 'Nefertnesu')]\n",
      "[('p', 'http://www.wikidata.org/prop/direct/P119'), ('p_name', 'place of burial'), ('o', 'http://www.wikidata.org/entity/Q135332'), ('name', 'Red Pyramid')]\n",
      "[('p', 'http://www.wikidata.org/prop/direct/P40'), ('p_name', 'child'), ('o', 'http://www.wikidata.org/entity/Q13638694'), ('name', 'Iynefer I')]\n",
      "[('p', 'http://www.wikidata.org/prop/direct/P910'), ('p_name', \"topic's main category\"), ('o', 'http://www.wikidata.org/entity/Q18698807'), ('name', 'Category:Sneferu')]\n",
      "[('p', 'http://www.wikidata.org/prop/direct/P40'), ('p_name', 'child'), ('o', 'http://www.wikidata.org/entity/Q760604'), ('name', 'Netjeraperef')]\n",
      "33\n"
     ]
    }
   ],
   "source": [
    "# Sneferu details\n",
    "queryString = \"\"\"\n",
    "SELECT DISTINCT ?p ?p_name ?o ?name\n",
    "WHERE {\n",
    "   # bind something\n",
    "   wd:Q189371 ?p ?o .\n",
    "   # get the label\n",
    "   ?p sc:name ?p_name.\n",
    "   ?o sc:name ?name.\n",
    "}\n",
    "LIMIT 40\n",
    "\"\"\"\n",
    "\n",
    "print(\"Results\")\n",
    "x=run_query(queryString)"
   ]
  },
  {
   "cell_type": "markdown",
   "id": "696662b2",
   "metadata": {},
   "source": [
    "Final query for this task"
   ]
  },
  {
   "cell_type": "code",
   "execution_count": 10,
   "id": "c184418d",
   "metadata": {},
   "outputs": [
    {
     "name": "stdout",
     "output_type": "stream",
     "text": [
      "Results\n",
      "[('o', 'http://www.wikidata.org/entity/Q11768'), ('name', 'Ancient Egypt')]\n",
      "1\n"
     ]
    }
   ],
   "source": [
    "# write your final query\n",
    "\n",
    "queryString = \"\"\"\n",
    "SELECT DISTINCT ?o ?name\n",
    "WHERE {\n",
    "   # bind something\n",
    "   wd:Q189371 wdt:P27 ?o .\n",
    "   # get the label\n",
    "   ?o sc:name ?name.\n",
    "}\n",
    "LIMIT 20\n",
    "\"\"\"\n",
    "\n",
    "print(\"Results\")\n",
    "x=run_query(queryString)"
   ]
  },
  {
   "cell_type": "markdown",
   "id": "ebfc4c02",
   "metadata": {},
   "source": [
    "## Task 2\n",
    "Find the Ancient Egypt pharaohs born between 1500 BCE and 1000 BCE who had more than 8 child (the result set must be a list of triples pharaoh IRI,label and #children)."
   ]
  },
  {
   "cell_type": "code",
   "execution_count": 11,
   "id": "038b4819-bee2-4eba-b12f-a45350746bd5",
   "metadata": {},
   "outputs": [
    {
     "name": "stdout",
     "output_type": "stream",
     "text": [
      "Results\n",
      "[('pha', 'http://www.wikidata.org/entity/Q199861'), ('p_name', 'Khafra'), ('c_num', '9')]\n",
      "[('pha', 'http://www.wikidata.org/entity/Q7222'), ('p_name', 'Ahmose I'), ('c_num', '9')]\n",
      "[('pha', 'http://www.wikidata.org/entity/Q189371'), ('p_name', 'Sneferu'), ('c_num', '13')]\n",
      "[('pha', 'http://www.wikidata.org/entity/Q161904'), ('p_name', 'Khufu'), ('c_num', '14')]\n",
      "[('pha', 'http://www.wikidata.org/entity/Q168261'), ('p_name', 'Ptolemy I Soter'), ('c_num', '9')]\n",
      "[('pha', 'http://www.wikidata.org/entity/Q44387'), ('p_name', 'Darius I of Persia'), ('c_num', '9')]\n",
      "[('pha', 'http://www.wikidata.org/entity/Q1528'), ('p_name', 'Ramesses III'), ('c_num', '10')]\n",
      "[('pha', 'http://www.wikidata.org/entity/Q1523'), ('p_name', 'Ramesses II'), ('c_num', '18')]\n",
      "[('pha', 'http://www.wikidata.org/entity/Q31526'), ('p_name', 'Seqenenre Tao'), ('c_num', '9')]\n",
      "[('pha', 'http://www.wikidata.org/entity/Q42606'), ('p_name', 'Amenhotep III'), ('c_num', '10')]\n",
      "[('pha', 'http://www.wikidata.org/entity/Q81794'), ('p_name', 'Akhenaten'), ('c_num', '9')]\n",
      "11\n"
     ]
    }
   ],
   "source": [
    "# Pharaos with more than 8 child\n",
    "queryString = \"\"\"\n",
    "SELECT DISTINCT ?pha ?p_name (count(?c) as ?c_num)\n",
    "WHERE {\n",
    "   # bind something\n",
    "   ?pha wdt:P97 wd:Q37110 .\n",
    "   ?pha wdt:P40 ?c .\n",
    "   # get the label\n",
    "   ?pha sc:name ?p_name.\n",
    "}\n",
    "GROUP BY ?pha ?p_name\n",
    "HAVING(count(?c)>8)\n",
    "LIMIT 20\n",
    "\"\"\"\n",
    "\n",
    "print(\"Results\")\n",
    "x=run_query(queryString)"
   ]
  },
  {
   "cell_type": "code",
   "execution_count": 12,
   "id": "97639a57-a3b1-4279-8f7d-f7cd81c5b1f1",
   "metadata": {},
   "outputs": [
    {
     "name": "stdout",
     "output_type": "stream",
     "text": [
      "Results\n",
      "[('pha', 'http://www.wikidata.org/entity/Q106771'), ('p_name', 'Hor-Aha'), ('c', 'http://www.wikidata.org/entity/Q152375'), ('c_name', 'Djer')]\n",
      "[('pha', 'http://www.wikidata.org/entity/Q111079'), ('p_name', 'Anedjib'), ('c', 'http://www.wikidata.org/entity/Q151805'), ('c_name', 'Semerkhet')]\n",
      "[('pha', 'http://www.wikidata.org/entity/Q125102'), ('p_name', 'Necho II'), ('c', 'http://www.wikidata.org/entity/Q373521'), ('c_name', 'Psamtik II')]\n",
      "[('pha', 'http://www.wikidata.org/entity/Q129165'), ('p_name', 'Xerxes I'), ('c', 'http://www.wikidata.org/entity/Q15804594'), ('c_name', 'Darius')]\n",
      "[('pha', 'http://www.wikidata.org/entity/Q129165'), ('p_name', 'Xerxes I'), ('c', 'http://www.wikidata.org/entity/Q189689'), ('c_name', 'Artaxerxes I of Persia')]\n",
      "[('pha', 'http://www.wikidata.org/entity/Q129165'), ('p_name', 'Xerxes I'), ('c', 'http://www.wikidata.org/entity/Q2917844'), ('c_name', 'Rodoguna')]\n",
      "[('pha', 'http://www.wikidata.org/entity/Q129165'), ('p_name', 'Xerxes I'), ('c', 'http://www.wikidata.org/entity/Q3012214'), ('c_name', 'Histaspes')]\n",
      "[('pha', 'http://www.wikidata.org/entity/Q129165'), ('p_name', 'Xerxes I'), ('c', 'http://www.wikidata.org/entity/Q3306534'), ('c_name', 'Amytis')]\n",
      "[('pha', 'http://www.wikidata.org/entity/Q129165'), ('p_name', 'Xerxes I'), ('c', 'http://www.wikidata.org/entity/Q4896825'), ('c_name', 'Artabanus')]\n",
      "[('pha', 'http://www.wikidata.org/entity/Q146029'), ('p_name', 'Ay'), ('c', 'http://www.wikidata.org/entity/Q40930'), ('c_name', 'Nefertiti')]\n",
      "[('pha', 'http://www.wikidata.org/entity/Q146029'), ('p_name', 'Ay'), ('c', 'http://www.wikidata.org/entity/Q273979'), ('c_name', 'Mutnedjmet')]\n",
      "[('pha', 'http://www.wikidata.org/entity/Q151805'), ('p_name', 'Semerkhet'), ('c', 'http://www.wikidata.org/entity/Q151819'), ('c_name', \"Qa'a\")]\n",
      "[('pha', 'http://www.wikidata.org/entity/Q151817'), ('p_name', 'Hotepsekhemwy'), ('c', 'http://www.wikidata.org/entity/Q152751'), ('c_name', 'Nebra')]\n",
      "[('pha', 'http://www.wikidata.org/entity/Q151822'), ('p_name', 'Den'), ('c', 'http://www.wikidata.org/entity/Q111079'), ('c_name', 'Anedjib')]\n",
      "[('pha', 'http://www.wikidata.org/entity/Q151828'), ('p_name', 'Djet'), ('c', 'http://www.wikidata.org/entity/Q151822'), ('c_name', 'Den')]\n",
      "[('pha', 'http://www.wikidata.org/entity/Q1523'), ('p_name', 'Ramesses II'), ('c', 'http://www.wikidata.org/entity/Q1035391'), ('c_name', 'Henuttawy')]\n",
      "[('pha', 'http://www.wikidata.org/entity/Q1523'), ('p_name', 'Ramesses II'), ('c', 'http://www.wikidata.org/entity/Q1245795'), ('c_name', 'Ramesses-Meryamun-Nebweben')]\n",
      "[('pha', 'http://www.wikidata.org/entity/Q1523'), ('p_name', 'Ramesses II'), ('c', 'http://www.wikidata.org/entity/Q1315994'), ('c_name', 'Takhat')]\n",
      "[('pha', 'http://www.wikidata.org/entity/Q1523'), ('p_name', 'Ramesses II'), ('c', 'http://www.wikidata.org/entity/Q158043'), ('c_name', 'Merneptah')]\n",
      "[('pha', 'http://www.wikidata.org/entity/Q1523'), ('p_name', 'Ramesses II'), ('c', 'http://www.wikidata.org/entity/Q260813'), ('c_name', 'Meritamen')]\n",
      "20\n"
     ]
    }
   ],
   "source": [
    "# Check query\n",
    "queryString = \"\"\"\n",
    "SELECT DISTINCT ?pha ?p_name ?c ?c_name\n",
    "WHERE {\n",
    "   # bind something\n",
    "   ?pha wdt:P97 wd:Q37110 .\n",
    "   ?pha wdt:P40 ?c .\n",
    "   # get the label\n",
    "   ?pha sc:name ?p_name.\n",
    "   ?c sc:name ?c_name.\n",
    "}\n",
    "Order BY ?pha ?p_name\n",
    "LIMIT 20\n",
    "\"\"\"\n",
    "\n",
    "print(\"Results\")\n",
    "x=run_query(queryString)"
   ]
  },
  {
   "cell_type": "code",
   "execution_count": 13,
   "id": "4a30a189-55a0-422f-95ee-efb2809b8ba2",
   "metadata": {},
   "outputs": [
    {
     "name": "stdout",
     "output_type": "stream",
     "text": [
      "Results\n",
      "[('c', 'http://www.wikidata.org/entity/Q200986'), ('c_name', 'Menkaure')]\n",
      "[('c', 'http://www.wikidata.org/entity/Q456700'), ('c_name', 'Khamerernebty II')]\n",
      "[('c', 'http://www.wikidata.org/entity/Q1250015'), ('c_name', 'Duaenre')]\n",
      "[('c', 'http://www.wikidata.org/entity/Q6095558'), ('c_name', 'Iunre')]\n",
      "[('c', 'http://www.wikidata.org/entity/Q769482'), ('c_name', 'Nebemakhet')]\n",
      "[('c', 'http://www.wikidata.org/entity/Q84959355'), ('c_name', 'Shepsetkau')]\n",
      "[('c', 'http://www.wikidata.org/entity/Q364562'), ('c_name', 'Iunmin I')]\n",
      "[('c', 'http://www.wikidata.org/entity/Q204235'), ('c_name', 'Nikaure')]\n",
      "[('c', 'http://www.wikidata.org/entity/Q3577093'), ('c_name', 'Ankhmare')]\n",
      "9\n"
     ]
    }
   ],
   "source": [
    "# Check query\n",
    "queryString = \"\"\"\n",
    "SELECT DISTINCT ?c ?c_name\n",
    "WHERE {\n",
    "   # bind something\n",
    "   wd:Q199861 wdt:P40 ?c .\n",
    "   # get the label\n",
    "   ?c sc:name ?c_name.\n",
    "}\n",
    "LIMIT 20\n",
    "\"\"\"\n",
    "\n",
    "print(\"Results\")\n",
    "x=run_query(queryString)"
   ]
  },
  {
   "cell_type": "code",
   "execution_count": 14,
   "id": "eb60eae0-1744-493e-8c14-56bfe51ece7c",
   "metadata": {},
   "outputs": [
    {
     "name": "stdout",
     "output_type": "stream",
     "text": [
      "Results\n",
      "[('p', 'http://www.wikidata.org/prop/direct/P156'), ('name', 'followed by'), ('o', 'http://www.wikidata.org/entity/Q232211'), ('o_name', 'First Intermediate Period of Egypt')]\n",
      "[('p', 'http://www.wikidata.org/prop/direct/P36'), ('name', 'capital'), ('o', 'http://www.wikidata.org/entity/Q5715'), ('o_name', 'Memphis')]\n",
      "[('p', 'http://www.wikidata.org/prop/direct/P361'), ('name', 'part of'), ('o', 'http://www.wikidata.org/entity/Q766876'), ('o_name', 'history of ancient Egypt')]\n",
      "[('p', 'http://www.wikidata.org/prop/direct/P31'), ('name', 'instance of'), ('o', 'http://www.wikidata.org/entity/Q11514315'), ('o_name', 'historical period')]\n",
      "[('p', 'http://www.wikidata.org/prop/direct/P31'), ('name', 'instance of'), ('o', 'http://www.wikidata.org/entity/Q3024240'), ('o_name', 'historical country')]\n",
      "[('p', 'http://www.wikidata.org/prop/direct/P17'), ('name', 'country'), ('o', 'http://www.wikidata.org/entity/Q79'), ('o_name', 'Egypt')]\n",
      "[('p', 'http://www.wikidata.org/prop/direct/P31'), ('name', 'instance of'), ('o', 'http://www.wikidata.org/entity/Q6428674'), ('o_name', 'era')]\n",
      "[('p', 'http://www.wikidata.org/prop/direct/P140'), ('name', 'religion'), ('o', 'http://www.wikidata.org/entity/Q447131'), ('o_name', 'religion of ancient Egypt')]\n",
      "[('p', 'http://www.wikidata.org/prop/direct/P37'), ('name', 'official language'), ('o', 'http://www.wikidata.org/entity/Q50868'), ('o_name', 'Egyptian')]\n",
      "[('p', 'http://www.wikidata.org/prop/direct/P155'), ('name', 'follows'), ('o', 'http://www.wikidata.org/entity/Q187979'), ('o_name', 'Early Dynastic Period of Egypt')]\n",
      "[('p', 'http://www.wikidata.org/prop/direct/P910'), ('name', \"topic's main category\"), ('o', 'http://www.wikidata.org/entity/Q8877872'), ('o_name', 'Category:Old Kingdom of Egypt')]\n",
      "11\n"
     ]
    }
   ],
   "source": [
    "# \"Old Kingdom of Egypt\" detais\n",
    "queryString = \"\"\"\n",
    "SELECT DISTINCT ?p ?name ?o ?o_name\n",
    "WHERE {\n",
    "   # bind something\n",
    "   wd:Q177819 ?p ?o .\n",
    "   # get the label\n",
    "   ?p sc:name ?name.\n",
    "   ?o sc:name ?o_name.\n",
    "}\n",
    "LIMIT 30\n",
    "\"\"\"\n",
    "\n",
    "print(\"Results\")\n",
    "x=run_query(queryString)"
   ]
  },
  {
   "cell_type": "code",
   "execution_count": 15,
   "id": "74bf819e-4fb2-460b-b980-dea35d20a189",
   "metadata": {},
   "outputs": [
    {
     "name": "stdout",
     "output_type": "stream",
     "text": [
      "Results\n",
      "Empty\n"
     ]
    }
   ],
   "source": [
    "# \"Human\" detais\n",
    "queryString = \"\"\"\n",
    "SELECT DISTINCT ?p ?name ?o ?o_name\n",
    "WHERE {\n",
    "   # bind something\n",
    "   wd:Q5 ?p ?o .\n",
    "   # get the label\n",
    "   ?p sc:name ?name.\n",
    "   ?o sc:name ?o_name.\n",
    "   FILTER regex(?name, \"birth\", \"i\")\n",
    "}\n",
    "LIMIT 30\n",
    "\"\"\"\n",
    "\n",
    "print(\"Results\")\n",
    "x=run_query(queryString)"
   ]
  },
  {
   "cell_type": "code",
   "execution_count": 16,
   "id": "1ae91077-4802-4948-8bad-73d089ffac42",
   "metadata": {},
   "outputs": [
    {
     "name": "stdout",
     "output_type": "stream",
     "text": [
      "Results\n",
      "[('p', 'http://www.wikidata.org/prop/direct/P460'), ('name', 'said to be the same as'), ('o', 'http://www.wikidata.org/entity/Q816829'), ('o_name', 'periodization')]\n",
      "[('p', 'http://www.wikidata.org/prop/direct/P1963'), ('name', 'properties for this type'), ('o', 'http://www.wikidata.org/entity/P580'), ('o_name', 'start time')]\n",
      "[('p', 'http://www.wikidata.org/prop/direct/P1963'), ('name', 'properties for this type'), ('o', 'http://www.wikidata.org/entity/P582'), ('o_name', 'end time')]\n",
      "[('p', 'http://www.wikidata.org/prop/direct/P8952'), ('name', 'inappropriate property for this type'), ('o', 'http://www.wikidata.org/entity/P576'), ('o_name', 'dissolved, abolished or demolished date')]\n",
      "[('p', 'http://www.wikidata.org/prop/direct/P8952'), ('name', 'inappropriate property for this type'), ('o', 'http://www.wikidata.org/entity/P571'), ('o_name', 'inception')]\n",
      "[('p', 'http://www.wikidata.org/prop/direct/P279'), ('name', 'subclass of'), ('o', 'http://www.wikidata.org/entity/Q6428674'), ('o_name', 'era')]\n",
      "[('p', 'http://www.wikidata.org/prop/direct/P279'), ('name', 'subclass of'), ('o', 'http://www.wikidata.org/entity/Q186081'), ('o_name', 'time interval')]\n",
      "[('p', 'http://www.wikidata.org/prop/direct/P1963'), ('name', 'properties for this type'), ('o', 'http://www.wikidata.org/entity/P155'), ('o_name', 'follows')]\n",
      "[('p', 'http://www.wikidata.org/prop/direct/P1963'), ('name', 'properties for this type'), ('o', 'http://www.wikidata.org/entity/P156'), ('o_name', 'followed by')]\n",
      "[('p', 'http://www.wikidata.org/prop/direct/P8952'), ('name', 'inappropriate property for this type'), ('o', 'http://www.wikidata.org/entity/P1365'), ('o_name', 'replaces')]\n",
      "[('p', 'http://www.wikidata.org/prop/direct/P8952'), ('name', 'inappropriate property for this type'), ('o', 'http://www.wikidata.org/entity/P1366'), ('o_name', 'replaced by')]\n",
      "[('p', 'http://www.wikidata.org/prop/direct/P1687'), ('name', 'Wikidata property'), ('o', 'http://www.wikidata.org/entity/P2348'), ('o_name', 'time period')]\n",
      "[('p', 'http://www.wikidata.org/prop/direct/P1687'), ('name', 'Wikidata property'), ('o', 'http://www.wikidata.org/entity/P2408'), ('o_name', 'set in period')]\n",
      "[('p', 'http://www.wikidata.org/prop/direct/P2354'), ('name', 'has list'), ('o', 'http://www.wikidata.org/entity/Q17004260'), ('o_name', 'list of time periods')]\n",
      "14\n"
     ]
    }
   ],
   "source": [
    "# \"Historical period\" detais\n",
    "queryString = \"\"\"\n",
    "SELECT DISTINCT ?p ?name ?o ?o_name\n",
    "WHERE {\n",
    "   # bind something\n",
    "   wd:Q11514315 ?p ?o .\n",
    "   # get the label\n",
    "   ?p sc:name ?name.\n",
    "   ?o sc:name ?o_name.\n",
    "}\n",
    "LIMIT 30\n",
    "\"\"\"\n",
    "\n",
    "print(\"Results\")\n",
    "x=run_query(queryString)"
   ]
  },
  {
   "cell_type": "code",
   "execution_count": 17,
   "id": "6fce9065-1308-431a-957c-16cbeec6b0be",
   "metadata": {},
   "outputs": [
    {
     "name": "stdout",
     "output_type": "stream",
     "text": [
      "Results\n",
      "[('p', 'http://www.wikidata.org/prop/direct/P1963'), ('name', 'properties for this type'), ('o', 'http://www.wikidata.org/entity/P19'), ('o_name', 'place of birth')]\n",
      "[('p', 'http://www.wikidata.org/prop/direct/P1963'), ('name', 'properties for this type'), ('o', 'http://www.wikidata.org/entity/P1477'), ('o_name', 'birth name')]\n",
      "[('p', 'http://www.wikidata.org/prop/direct/P1963'), ('name', 'properties for this type'), ('o', 'http://www.wikidata.org/entity/P569'), ('o_name', 'date of birth')]\n",
      "3\n"
     ]
    }
   ],
   "source": [
    "# \"Human\" detais\n",
    "queryString = \"\"\"\n",
    "SELECT DISTINCT ?p ?name ?o ?o_name\n",
    "WHERE {\n",
    "   # bind something\n",
    "   wd:Q5 ?p ?o .\n",
    "   # get the label\n",
    "   ?p sc:name ?name.\n",
    "   ?o sc:name ?o_name.\n",
    "   FILTER regex(?o_name, \"birth\", \"i\")\n",
    "   \n",
    "}\n",
    "LIMIT 100\n",
    "\"\"\"\n",
    "\n",
    "print(\"Results\")\n",
    "x=run_query(queryString)"
   ]
  },
  {
   "cell_type": "code",
   "execution_count": 18,
   "id": "3b195264-0544-4dac-9e3c-fd1c00b63393",
   "metadata": {},
   "outputs": [
    {
     "name": "stdout",
     "output_type": "stream",
     "text": [
      "Results\n",
      "Empty\n"
     ]
    }
   ],
   "source": [
    "# Sneferu date of birth\n",
    "queryString = \"\"\"\n",
    "SELECT DISTINCT ?o ?name\n",
    "WHERE {\n",
    "   # bind something\n",
    "   wd:Q189371 wdt:P569 ?o .\n",
    "   # get the label\n",
    "   ?o sc:name ?name.\n",
    "}\n",
    "LIMIT 40\n",
    "\"\"\"\n",
    "\n",
    "print(\"Results\")\n",
    "x=run_query(queryString)"
   ]
  },
  {
   "cell_type": "code",
   "execution_count": 19,
   "id": "8c4f3a1c-5828-4e98-8a6a-c50c6d464a33",
   "metadata": {},
   "outputs": [
    {
     "name": "stdout",
     "output_type": "stream",
     "text": [
      "Results\n",
      "[('p', 'http://www.wikidata.org/prop/direct/P1963'), ('name', 'properties for this type'), ('o', 'http://www.wikidata.org/entity/P1317'), ('o_name', 'floruit')]\n",
      "[('p', 'http://www.wikidata.org/prop/direct/P1963'), ('name', 'properties for this type'), ('o', 'http://www.wikidata.org/entity/P1477'), ('o_name', 'birth name')]\n",
      "[('p', 'http://www.wikidata.org/prop/direct/P1963'), ('name', 'properties for this type'), ('o', 'http://www.wikidata.org/entity/P1559'), ('o_name', 'name in native language')]\n",
      "[('p', 'http://www.wikidata.org/prop/direct/P1963'), ('name', 'properties for this type'), ('o', 'http://www.wikidata.org/entity/P509'), ('o_name', 'cause of death')]\n",
      "[('p', 'http://www.wikidata.org/prop/direct/P1963'), ('name', 'properties for this type'), ('o', 'http://www.wikidata.org/entity/P3373'), ('o_name', 'sibling')]\n",
      "[('p', 'http://www.wikidata.org/prop/direct/P1552'), ('name', 'has quality'), ('o', 'http://www.wikidata.org/entity/Q785260'), ('o_name', 'phase of human life')]\n",
      "[('p', 'http://www.wikidata.org/prop/direct/P1889'), ('name', 'different from'), ('o', 'http://www.wikidata.org/entity/Q95074'), ('o_name', 'fictional character')]\n",
      "[('p', 'http://www.wikidata.org/prop/direct/P2579'), ('name', 'studied by'), ('o', 'http://www.wikidata.org/entity/Q23404'), ('o_name', 'anthropology')]\n",
      "[('p', 'http://www.wikidata.org/prop/direct/P1552'), ('name', 'has quality'), ('o', 'http://www.wikidata.org/entity/Q3769299'), ('o_name', 'human behavior')]\n",
      "[('p', 'http://www.wikidata.org/prop/direct/P361'), ('name', 'part of'), ('o', 'http://www.wikidata.org/entity/Q8425'), ('o_name', 'society')]\n",
      "[('p', 'http://www.wikidata.org/prop/direct/P1963'), ('name', 'properties for this type'), ('o', 'http://www.wikidata.org/entity/P119'), ('o_name', 'place of burial')]\n",
      "[('p', 'http://www.wikidata.org/prop/direct/P1889'), ('name', 'different from'), ('o', 'http://www.wikidata.org/entity/Q215627'), ('o_name', 'person')]\n",
      "[('p', 'http://www.wikidata.org/prop/direct/P2670'), ('name', 'has parts of the class'), ('o', 'http://www.wikidata.org/entity/Q215627'), ('o_name', 'person')]\n",
      "[('p', 'http://www.wikidata.org/prop/direct/P279'), ('name', 'subclass of'), ('o', 'http://www.wikidata.org/entity/Q215627'), ('o_name', 'person')]\n",
      "[('p', 'http://www.wikidata.org/prop/direct/P1552'), ('name', 'has quality'), ('o', 'http://www.wikidata.org/entity/Q1071027'), ('o_name', 'personal name')]\n",
      "[('p', 'http://www.wikidata.org/prop/direct/P5869'), ('name', 'model item'), ('o', 'http://www.wikidata.org/entity/Q762'), ('o_name', 'Leonardo da Vinci')]\n",
      "[('p', 'http://www.wikidata.org/prop/direct/P1552'), ('name', 'has quality'), ('o', 'http://www.wikidata.org/entity/Q3307505'), ('o_name', 'sociality')]\n",
      "[('p', 'http://www.wikidata.org/prop/direct/P5869'), ('name', 'model item'), ('o', 'http://www.wikidata.org/entity/Q1043'), ('o_name', 'Carl Linnaeus')]\n",
      "[('p', 'http://www.wikidata.org/prop/direct/P1963'), ('name', 'properties for this type'), ('o', 'http://www.wikidata.org/entity/P937'), ('o_name', 'work location')]\n",
      "[('p', 'http://www.wikidata.org/prop/direct/P1552'), ('name', 'has quality'), ('o', 'http://www.wikidata.org/entity/Q641118'), ('o_name', 'personality')]\n",
      "[('p', 'http://www.wikidata.org/prop/direct/P1963'), ('name', 'properties for this type'), ('o', 'http://www.wikidata.org/entity/P101'), ('o_name', 'field of work')]\n",
      "[('p', 'http://www.wikidata.org/prop/direct/P1963'), ('name', 'properties for this type'), ('o', 'http://www.wikidata.org/entity/P140'), ('o_name', 'religion')]\n",
      "[('p', 'http://www.wikidata.org/prop/direct/P1963'), ('name', 'properties for this type'), ('o', 'http://www.wikidata.org/entity/P18'), ('o_name', 'image')]\n",
      "[('p', 'http://www.wikidata.org/prop/direct/P1963'), ('name', 'properties for this type'), ('o', 'http://www.wikidata.org/entity/P25'), ('o_name', 'mother')]\n",
      "[('p', 'http://www.wikidata.org/prop/direct/P1963'), ('name', 'properties for this type'), ('o', 'http://www.wikidata.org/entity/P26'), ('o_name', 'spouse')]\n",
      "[('p', 'http://www.wikidata.org/prop/direct/P1343'), ('name', 'described by source'), ('o', 'http://www.wikidata.org/entity/Q19180675'), ('o_name', 'Small Brockhaus and Efron Encyclopedic Dictionary')]\n",
      "[('p', 'http://www.wikidata.org/prop/direct/P129'), ('name', 'physically interacts with'), ('o', 'http://www.wikidata.org/entity/Q2'), ('o_name', 'Earth')]\n",
      "[('p', 'http://www.wikidata.org/prop/direct/P1552'), ('name', 'has quality'), ('o', 'http://www.wikidata.org/entity/Q223642'), ('o_name', 'interpersonal relationship')]\n",
      "[('p', 'http://www.wikidata.org/prop/direct/P527'), ('name', 'has part'), ('o', 'http://www.wikidata.org/entity/Q23852'), ('o_name', 'human body')]\n",
      "[('p', 'http://www.wikidata.org/prop/direct/P1343'), ('name', 'described by source'), ('o', 'http://www.wikidata.org/entity/Q302556'), ('o_name', 'Catholic Encyclopedia')]\n",
      "[('p', 'http://www.wikidata.org/prop/direct/P2283'), ('name', 'uses'), ('o', 'http://www.wikidata.org/entity/Q39546'), ('o_name', 'tool')]\n",
      "[('p', 'http://www.wikidata.org/prop/direct/P1343'), ('name', 'described by source'), ('o', 'http://www.wikidata.org/entity/Q4086271'), ('o_name', 'Bible Encyclopedia of Archimandrite Nicephorus')]\n",
      "[('p', 'http://www.wikidata.org/prop/direct/P1343'), ('name', 'described by source'), ('o', 'http://www.wikidata.org/entity/Q4173137'), ('o_name', 'Jewish Encyclopedia of Brockhaus and Efron')]\n",
      "[('p', 'http://www.wikidata.org/prop/direct/P5869'), ('name', 'model item'), ('o', 'http://www.wikidata.org/entity/Q42'), ('o_name', 'Douglas Adams')]\n",
      "[('p', 'http://www.wikidata.org/prop/direct/P1343'), ('name', 'described by source'), ('o', 'http://www.wikidata.org/entity/Q4532138'), ('o_name', 'Granat Encyclopedic Dictionary')]\n",
      "[('p', 'http://www.wikidata.org/prop/direct/P5008'), ('name', 'on focus list of Wikimedia project'), ('o', 'http://www.wikidata.org/entity/Q5460604'), ('o_name', 'Wikipedia:Vital articles')]\n",
      "[('p', 'http://www.wikidata.org/prop/direct/P31'), ('name', 'instance of'), ('o', 'http://www.wikidata.org/entity/Q55983715'), ('o_name', 'organisms known by a particular common name')]\n",
      "[('p', 'http://www.wikidata.org/prop/direct/P1343'), ('name', 'described by source'), ('o', 'http://www.wikidata.org/entity/Q602358'), ('o_name', 'Brockhaus and Efron Encyclopedic Dictionary')]\n",
      "[('p', 'http://www.wikidata.org/prop/direct/P5869'), ('name', 'model item'), ('o', 'http://www.wikidata.org/entity/Q7186'), ('o_name', 'Marie Curie')]\n",
      "[('p', 'http://www.wikidata.org/prop/direct/P2579'), ('name', 'studied by'), ('o', 'http://www.wikidata.org/entity/Q720858'), ('o_name', 'human ecology')]\n",
      "[('p', 'http://www.wikidata.org/prop/direct/P1963'), ('name', 'properties for this type'), ('o', 'http://www.wikidata.org/entity/P2048'), ('o_name', 'height')]\n",
      "[('p', 'http://www.wikidata.org/prop/direct/P460'), ('name', 'said to be the same as'), ('o', 'http://www.wikidata.org/entity/Q15978631'), ('o_name', 'Homo sapiens')]\n",
      "[('p', 'http://www.wikidata.org/prop/direct/P1889'), ('name', 'different from'), ('o', 'http://www.wikidata.org/entity/Q2472587'), ('o_name', 'people')]\n",
      "[('p', 'http://www.wikidata.org/prop/direct/P1963'), ('name', 'properties for this type'), ('o', 'http://www.wikidata.org/entity/P39'), ('o_name', 'position held')]\n",
      "[('p', 'http://www.wikidata.org/prop/direct/P1963'), ('name', 'properties for this type'), ('o', 'http://www.wikidata.org/entity/P172'), ('o_name', 'ethnic group')]\n",
      "[('p', 'http://www.wikidata.org/prop/direct/P910'), ('name', \"topic's main category\"), ('o', 'http://www.wikidata.org/entity/Q4047087'), ('o_name', 'Category:People')]\n",
      "[('p', 'http://www.wikidata.org/prop/direct/P279'), ('name', 'subclass of'), ('o', 'http://www.wikidata.org/entity/Q154954'), ('o_name', 'natural person')]\n",
      "[('p', 'http://www.wikidata.org/prop/direct/P1963'), ('name', 'properties for this type'), ('o', 'http://www.wikidata.org/entity/P3342'), ('o_name', 'significant person')]\n",
      "[('p', 'http://www.wikidata.org/prop/direct/P361'), ('name', 'part of'), ('o', 'http://www.wikidata.org/entity/Q42762'), ('o_name', 'biosphere')]\n",
      "[('p', 'http://www.wikidata.org/prop/direct/P5869'), ('name', 'model item'), ('o', 'http://www.wikidata.org/entity/Q43527'), ('o_name', 'Sitting Bull')]\n",
      "[('p', 'http://www.wikidata.org/prop/direct/P129'), ('name', 'physically interacts with'), ('o', 'http://www.wikidata.org/entity/Q43619'), ('o_name', 'natural environment')]\n",
      "[('p', 'http://www.wikidata.org/prop/direct/P2283'), ('name', 'uses'), ('o', 'http://www.wikidata.org/entity/Q8205328'), ('o_name', 'artificial physical object')]\n",
      "[('p', 'http://www.wikidata.org/prop/direct/P1963'), ('name', 'properties for this type'), ('o', 'http://www.wikidata.org/entity/P1813'), ('o_name', 'short name')]\n",
      "[('p', 'http://www.wikidata.org/prop/direct/P1963'), ('name', 'properties for this type'), ('o', 'http://www.wikidata.org/entity/P2067'), ('o_name', 'mass')]\n",
      "[('p', 'http://www.wikidata.org/prop/direct/P1552'), ('name', 'has quality'), ('o', 'http://www.wikidata.org/entity/Q48277'), ('o_name', 'gender')]\n",
      "[('p', 'http://www.wikidata.org/prop/direct/P1963'), ('name', 'properties for this type'), ('o', 'http://www.wikidata.org/entity/P21'), ('o_name', 'sex or gender')]\n",
      "[('p', 'http://www.wikidata.org/prop/direct/P129'), ('name', 'physically interacts with'), ('o', 'http://www.wikidata.org/entity/Q8195619'), ('o_name', 'human food')]\n",
      "[('p', 'http://www.wikidata.org/prop/direct/P425'), ('name', 'field of this occupation'), ('o', 'http://www.wikidata.org/entity/Q61788060'), ('o_name', 'human activity')]\n",
      "[('p', 'http://www.wikidata.org/prop/direct/P1963'), ('name', 'properties for this type'), ('o', 'http://www.wikidata.org/entity/P1412'), ('o_name', 'languages spoken, written or signed')]\n",
      "[('p', 'http://www.wikidata.org/prop/direct/P1552'), ('name', 'has quality'), ('o', 'http://www.wikidata.org/entity/Q1314553'), ('o_name', 'self-awareness')]\n",
      "[('p', 'http://www.wikidata.org/prop/direct/P1424'), ('name', \"topic's main template\"), ('o', 'http://www.wikidata.org/entity/Q6249834'), ('o_name', 'Template:Infobox person')]\n",
      "[('p', 'http://www.wikidata.org/prop/direct/P1963'), ('name', 'properties for this type'), ('o', 'http://www.wikidata.org/entity/P551'), ('o_name', 'residence')]\n",
      "[('p', 'http://www.wikidata.org/prop/direct/P1963'), ('name', 'properties for this type'), ('o', 'http://www.wikidata.org/entity/P737'), ('o_name', 'influenced by')]\n",
      "[('p', 'http://www.wikidata.org/prop/direct/P5869'), ('name', 'model item'), ('o', 'http://www.wikidata.org/entity/Q7226'), ('o_name', 'Joan of Arc')]\n",
      "[('p', 'http://www.wikidata.org/prop/direct/P1963'), ('name', 'properties for this type'), ('o', 'http://www.wikidata.org/entity/P19'), ('o_name', 'place of birth')]\n",
      "[('p', 'http://www.wikidata.org/prop/direct/P1963'), ('name', 'properties for this type'), ('o', 'http://www.wikidata.org/entity/P569'), ('o_name', 'date of birth')]\n",
      "[('p', 'http://www.wikidata.org/prop/direct/P1963'), ('name', 'properties for this type'), ('o', 'http://www.wikidata.org/entity/P570'), ('o_name', 'date of death')]\n",
      "[('p', 'http://www.wikidata.org/prop/direct/P5869'), ('name', 'model item'), ('o', 'http://www.wikidata.org/entity/Q635'), ('o_name', 'Cleopatra')]\n",
      "[('p', 'http://www.wikidata.org/prop/direct/P1963'), ('name', 'properties for this type'), ('o', 'http://www.wikidata.org/entity/P20'), ('o_name', 'place of death')]\n",
      "[('p', 'http://www.wikidata.org/prop/direct/P1963'), ('name', 'properties for this type'), ('o', 'http://www.wikidata.org/entity/P22'), ('o_name', 'father')]\n",
      "[('p', 'http://www.wikidata.org/prop/direct/P1963'), ('name', 'properties for this type'), ('o', 'http://www.wikidata.org/entity/P40'), ('o_name', 'child')]\n",
      "[('p', 'http://www.wikidata.org/prop/direct/P1963'), ('name', 'properties for this type'), ('o', 'http://www.wikidata.org/entity/P463'), ('o_name', 'member of')]\n",
      "[('p', 'http://www.wikidata.org/prop/direct/P1963'), ('name', 'properties for this type'), ('o', 'http://www.wikidata.org/entity/P102'), ('o_name', 'member of political party')]\n",
      "[('p', 'http://www.wikidata.org/prop/direct/P1963'), ('name', 'properties for this type'), ('o', 'http://www.wikidata.org/entity/P108'), ('o_name', 'employer')]\n",
      "[('p', 'http://www.wikidata.org/prop/direct/P1963'), ('name', 'properties for this type'), ('o', 'http://www.wikidata.org/entity/P4602'), ('o_name', 'date of burial or cremation')]\n",
      "[('p', 'http://www.wikidata.org/prop/direct/P1542'), ('name', 'has effect'), ('o', 'http://www.wikidata.org/entity/Q16686448'), ('o_name', 'artificial entity')]\n",
      "[('p', 'http://www.wikidata.org/prop/direct/P4733'), ('name', 'produced sound'), ('o', 'http://www.wikidata.org/entity/Q7390'), ('o_name', 'voice')]\n",
      "[('p', 'http://www.wikidata.org/prop/direct/P1963'), ('name', 'properties for this type'), ('o', 'http://www.wikidata.org/entity/P1050'), ('o_name', 'medical condition')]\n",
      "[('p', 'http://www.wikidata.org/prop/direct/P5869'), ('name', 'model item'), ('o', 'http://www.wikidata.org/entity/Q37151'), ('o_name', 'Sun Tzu')]\n",
      "[('p', 'http://www.wikidata.org/prop/direct/P1963'), ('name', 'properties for this type'), ('o', 'http://www.wikidata.org/entity/P106'), ('o_name', 'occupation')]\n",
      "[('p', 'http://www.wikidata.org/prop/direct/P1963'), ('name', 'properties for this type'), ('o', 'http://www.wikidata.org/entity/P1449'), ('o_name', 'nickname')]\n",
      "[('p', 'http://www.wikidata.org/prop/direct/P1963'), ('name', 'properties for this type'), ('o', 'http://www.wikidata.org/entity/P734'), ('o_name', 'family name')]\n",
      "[('p', 'http://www.wikidata.org/prop/direct/P1963'), ('name', 'properties for this type'), ('o', 'http://www.wikidata.org/entity/P735'), ('o_name', 'given name')]\n",
      "[('p', 'http://www.wikidata.org/prop/direct/P1963'), ('name', 'properties for this type'), ('o', 'http://www.wikidata.org/entity/P742'), ('o_name', 'pseudonym')]\n",
      "[('p', 'http://www.wikidata.org/prop/direct/P910'), ('name', \"topic's main category\"), ('o', 'http://www.wikidata.org/entity/Q6697530'), ('o_name', 'Category:Humans')]\n",
      "[('p', 'http://www.wikidata.org/prop/direct/P1424'), ('name', \"topic's main template\"), ('o', 'http://www.wikidata.org/entity/Q20829728'), ('o_name', 'Template:Infobox Biography2')]\n",
      "[('p', 'http://www.wikidata.org/prop/direct/P361'), ('name', 'part of'), ('o', 'http://www.wikidata.org/entity/Q1156970'), ('o_name', 'humanity')]\n",
      "[('p', 'http://www.wikidata.org/prop/direct/P1963'), ('name', 'properties for this type'), ('o', 'http://www.wikidata.org/entity/P27'), ('o_name', 'country of citizenship')]\n",
      "[('p', 'http://www.wikidata.org/prop/direct/P1963'), ('name', 'properties for this type'), ('o', 'http://www.wikidata.org/entity/P103'), ('o_name', 'native language')]\n",
      "[('p', 'http://www.wikidata.org/prop/direct/P1963'), ('name', 'properties for this type'), ('o', 'http://www.wikidata.org/entity/P1196'), ('o_name', 'manner of death')]\n",
      "[('p', 'http://www.wikidata.org/prop/direct/P1963'), ('name', 'properties for this type'), ('o', 'http://www.wikidata.org/entity/P1576'), ('o_name', 'lifestyle')]\n",
      "[('p', 'http://www.wikidata.org/prop/direct/P1963'), ('name', 'properties for this type'), ('o', 'http://www.wikidata.org/entity/P1636'), ('o_name', 'date of baptism in early childhood')]\n",
      "[('p', 'http://www.wikidata.org/prop/direct/P1963'), ('name', 'properties for this type'), ('o', 'http://www.wikidata.org/entity/P451'), ('o_name', 'unmarried partner')]\n",
      "[('p', 'http://www.wikidata.org/prop/direct/P1963'), ('name', 'properties for this type'), ('o', 'http://www.wikidata.org/entity/P8258'), ('o_name', 'field of training')]\n",
      "[('p', 'http://www.wikidata.org/prop/direct/P279'), ('name', 'subclass of'), ('o', 'http://www.wikidata.org/entity/Q164509'), ('o_name', 'omnivore')]\n",
      "[('p', 'http://www.wikidata.org/prop/direct/P1424'), ('name', \"topic's main template\"), ('o', 'http://www.wikidata.org/entity/Q17534637'), ('o_name', 'Template:Infobox person/Wikidata')]\n",
      "[('p', 'http://www.wikidata.org/prop/direct/P1552'), ('name', 'has quality'), ('o', 'http://www.wikidata.org/entity/Q18387795'), ('o_name', 'perspective-taking')]\n",
      "[('p', 'http://www.wikidata.org/prop/direct/P1552'), ('name', 'has quality'), ('o', 'http://www.wikidata.org/entity/Q238372'), ('o_name', 'Self-consciousness')]\n",
      "[('p', 'http://www.wikidata.org/prop/direct/P1552'), ('name', 'has quality'), ('o', 'http://www.wikidata.org/entity/Q3577052'), ('o_name', \"person's age\")]\n",
      "[('p', 'http://www.wikidata.org/prop/direct/P1056'), ('name', 'product or material produced'), ('o', 'http://www.wikidata.org/entity/Q3619132'), ('o_name', 'artefact')]\n",
      "100\n"
     ]
    }
   ],
   "source": [
    "# \"Human\" detais\n",
    "queryString = \"\"\"\n",
    "SELECT DISTINCT ?p ?name ?o ?o_name\n",
    "WHERE {\n",
    "   # bind something\n",
    "   wd:Q5 ?p ?o .\n",
    "   # get the label\n",
    "   ?p sc:name ?name.\n",
    "   ?o sc:name ?o_name.\n",
    "   \n",
    "}\n",
    "LIMIT 200\n",
    "\"\"\"\n",
    "\n",
    "print(\"Results\")\n",
    "x=run_query(queryString)"
   ]
  },
  {
   "cell_type": "code",
   "execution_count": 20,
   "id": "bf64ddd9-17ec-4732-ab3b-e155899d65fd",
   "metadata": {},
   "outputs": [
    {
     "name": "stdout",
     "output_type": "stream",
     "text": [
      "Results\n",
      "[('d', '-2700-01-01T00:00:00Z')]\n",
      "1\n"
     ]
    }
   ],
   "source": [
    "# Sneferu date of birth\n",
    "queryString = \"\"\"\n",
    "SELECT DISTINCT ?d\n",
    "WHERE {\n",
    "   # bind something\n",
    "   wd:Q189371 wdt:P569 ?d .\n",
    "   # get the label\n",
    "}\n",
    "LIMIT 40\n",
    "\"\"\"\n",
    "\n",
    "print(\"Results\")\n",
    "x=run_query(queryString)"
   ]
  },
  {
   "cell_type": "code",
   "execution_count": 21,
   "id": "a35e697b-3b94-477b-9c28-ec648db03e40",
   "metadata": {},
   "outputs": [
    {
     "name": "stdout",
     "output_type": "stream",
     "text": [
      "Results\n",
      "[('pha', 'http://www.wikidata.org/entity/Q1528'), ('p_name', 'Ramesses III'), ('c_num', '10')]\n",
      "[('pha', 'http://www.wikidata.org/entity/Q1523'), ('p_name', 'Ramesses II'), ('c_num', '18')]\n",
      "[('pha', 'http://www.wikidata.org/entity/Q42606'), ('p_name', 'Amenhotep III'), ('c_num', '10')]\n",
      "[('pha', 'http://www.wikidata.org/entity/Q81794'), ('p_name', 'Akhenaten'), ('c_num', '9')]\n",
      "4\n"
     ]
    }
   ],
   "source": [
    "# Pharaos with more than 8 child born in the required frame\n",
    "queryString = \"\"\"\n",
    "SELECT DISTINCT ?pha ?p_name (count(?c) as ?c_num)\n",
    "WHERE {\n",
    "   # bind something\n",
    "   ?pha wdt:P97 wd:Q37110 ;\n",
    "        wdt:P40 ?c ;\n",
    "        wdt:P569 ?d ;\n",
    "   # get the label\n",
    "       sc:name ?p_name.\n",
    "    \n",
    "    FILTER (?d >= xsd:date(\"-1500-01-01\") && ?d < xsd:date(\"-999-01-01\")) .\n",
    "}\n",
    "GROUP BY ?pha ?p_name\n",
    "HAVING(count(?c)>8)\n",
    "LIMIT 20\n",
    "\"\"\"\n",
    "\n",
    "print(\"Results\")\n",
    "x=run_query(queryString)"
   ]
  },
  {
   "cell_type": "markdown",
   "id": "a5c1f968",
   "metadata": {},
   "source": [
    "Final query for this task"
   ]
  },
  {
   "cell_type": "code",
   "execution_count": 22,
   "id": "960c935b",
   "metadata": {},
   "outputs": [
    {
     "name": "stdout",
     "output_type": "stream",
     "text": [
      "Results\n",
      "[('pha', 'http://www.wikidata.org/entity/Q1528'), ('p_name', 'Ramesses III'), ('c_num', '10')]\n",
      "[('pha', 'http://www.wikidata.org/entity/Q1523'), ('p_name', 'Ramesses II'), ('c_num', '18')]\n",
      "[('pha', 'http://www.wikidata.org/entity/Q42606'), ('p_name', 'Amenhotep III'), ('c_num', '10')]\n",
      "[('pha', 'http://www.wikidata.org/entity/Q81794'), ('p_name', 'Akhenaten'), ('c_num', '9')]\n",
      "4\n"
     ]
    }
   ],
   "source": [
    "# write your final query\n",
    "\n",
    "queryString = \"\"\"\n",
    "SELECT DISTINCT ?pha ?p_name (count(?c) as ?c_num)\n",
    "WHERE {\n",
    "   # bind something\n",
    "   ?pha wdt:P97 wd:Q37110 ;\n",
    "        wdt:P40 ?c ;\n",
    "        wdt:P569 ?d ;\n",
    "   # get the label\n",
    "       sc:name ?p_name.\n",
    "    \n",
    "    FILTER (?d >= xsd:date(\"-1500-01-01\") && ?d < xsd:date(\"-999-01-01\")) .\n",
    "}\n",
    "GROUP BY ?pha ?p_name\n",
    "HAVING(count(?c)>8)\n",
    "LIMIT 20\n",
    "\"\"\"\n",
    "\n",
    "print(\"Results\")\n",
    "x=run_query(queryString)"
   ]
  },
  {
   "cell_type": "markdown",
   "id": "6111434c",
   "metadata": {},
   "source": [
    "## Task 3\n",
    "Find all the ancient civilizations. Return the IRI and name of the civilization and also their duration (in number of years) if it is available."
   ]
  },
  {
   "cell_type": "code",
   "execution_count": 23,
   "id": "cb9bb6d9",
   "metadata": {},
   "outputs": [
    {
     "name": "stdout",
     "output_type": "stream",
     "text": [
      "Results\n",
      "[('p', 'http://www.wikidata.org/prop/direct/P31'), ('p_name', 'instance of'), ('o', 'http://www.wikidata.org/entity/Q28171280'), ('o_name', 'ancient civilization')]\n",
      "[('p', 'http://www.wikidata.org/prop/direct/P2184'), ('p_name', 'history of topic'), ('o', 'http://www.wikidata.org/entity/Q766876'), ('o_name', 'history of ancient Egypt')]\n",
      "[('p', 'http://www.wikidata.org/prop/direct/P155'), ('p_name', 'follows'), ('o', 'http://www.wikidata.org/entity/Q714601'), ('o_name', 'Predynastic Period of Egypt')]\n",
      "[('p', 'http://www.wikidata.org/prop/direct/P1343'), ('p_name', 'described by source'), ('o', 'http://www.wikidata.org/entity/Q1138524'), ('o_name', 'Paulys Realenzyklopädie der klassischen Altertumswissenschaft')]\n",
      "[('p', 'http://www.wikidata.org/prop/direct/P30'), ('p_name', 'continent'), ('o', 'http://www.wikidata.org/entity/Q15'), ('o_name', 'Africa')]\n",
      "[('p', 'http://www.wikidata.org/prop/direct/P1343'), ('p_name', 'described by source'), ('o', 'http://www.wikidata.org/entity/Q17378135'), ('o_name', 'Great Soviet Encyclopedia (1969–1978)')]\n",
      "[('p', 'http://www.wikidata.org/prop/direct/P6885'), ('p_name', 'historical region'), ('o', 'http://www.wikidata.org/entity/Q269678'), ('o_name', 'ancient Near East')]\n",
      "[('p', 'http://www.wikidata.org/prop/direct/P31'), ('p_name', 'instance of'), ('o', 'http://www.wikidata.org/entity/Q3024240'), ('o_name', 'historical country')]\n",
      "[('p', 'http://www.wikidata.org/prop/direct/P31'), ('p_name', 'instance of'), ('o', 'http://www.wikidata.org/entity/Q3502482'), ('o_name', 'cultural region')]\n",
      "[('p', 'http://www.wikidata.org/prop/direct/P1343'), ('p_name', 'described by source'), ('o', 'http://www.wikidata.org/entity/Q4173137'), ('o_name', 'Jewish Encyclopedia of Brockhaus and Efron')]\n",
      "[('p', 'http://www.wikidata.org/prop/direct/P5008'), ('p_name', 'on focus list of Wikimedia project'), ('o', 'http://www.wikidata.org/entity/Q5460604'), ('o_name', 'Wikipedia:Vital articles')]\n",
      "[('p', 'http://www.wikidata.org/prop/direct/P31'), ('p_name', 'instance of'), ('o', 'http://www.wikidata.org/entity/Q1620908'), ('o_name', 'historical region')]\n",
      "[('p', 'http://www.wikidata.org/prop/direct/P155'), ('p_name', 'follows'), ('o', 'http://www.wikidata.org/entity/Q208520'), ('o_name', 'Prehistoric Egypt')]\n",
      "[('p', 'http://www.wikidata.org/prop/direct/P2579'), ('p_name', 'studied by'), ('o', 'http://www.wikidata.org/entity/Q4752891'), ('o_name', 'ancient Near Eastern studies')]\n",
      "[('p', 'http://www.wikidata.org/prop/direct/P2633'), ('p_name', 'geography of topic'), ('o', 'http://www.wikidata.org/entity/Q2487803'), ('o_name', 'geography of Ancient Egypt')]\n",
      "[('p', 'http://www.wikidata.org/prop/direct/P8744'), ('p_name', 'economy of topic'), ('o', 'http://www.wikidata.org/entity/Q24734962'), ('o_name', 'economy of Ancient Egypt')]\n",
      "[('p', 'http://www.wikidata.org/prop/direct/P910'), ('p_name', \"topic's main category\"), ('o', 'http://www.wikidata.org/entity/Q7213740'), ('o_name', 'Category:Ancient Egypt')]\n",
      "[('p', 'http://www.wikidata.org/prop/direct/P5125'), ('p_name', 'Wikimedia outline'), ('o', 'http://www.wikidata.org/entity/Q7112549'), ('o_name', 'outline of ancient Egypt')]\n",
      "[('p', 'http://www.wikidata.org/prop/direct/P7867'), ('p_name', 'category for maps'), ('o', 'http://www.wikidata.org/entity/Q84019702'), ('o_name', 'Category:Maps of Ancient Egypt')]\n",
      "[('p', 'http://www.wikidata.org/prop/direct/P6885'), ('p_name', 'historical region'), ('o', 'http://www.wikidata.org/entity/Q11041351'), ('o_name', 'Nile Valley Civilizations')]\n",
      "20\n"
     ]
    }
   ],
   "source": [
    "# \"Ancient Egypt\" details.\n",
    "\n",
    "queryString = \"\"\"\n",
    "SELECT DISTINCT ?p ?p_name ?o ?o_name\n",
    "WHERE {\n",
    "   # bind something\n",
    "   wd:Q11768 ?p ?o . \n",
    "   # get the label\n",
    "   ?p sc:name ?p_name.\n",
    "   ?o sc:name ?o_name.\n",
    "}\n",
    "LIMIT 20\n",
    "\"\"\"\n",
    "\n",
    "print(\"Results\")\n",
    "x=run_query(queryString)"
   ]
  },
  {
   "cell_type": "code",
   "execution_count": 24,
   "id": "d5dce41f-4f6b-4395-892b-5508a938720c",
   "metadata": {},
   "outputs": [
    {
     "name": "stdout",
     "output_type": "stream",
     "text": [
      "Results\n",
      "[('p', 'http://www.wikidata.org/prop/direct/P279'), ('p_name', 'subclass of'), ('o', 'http://www.wikidata.org/entity/Q8432'), ('o_name', 'civilization')]\n",
      "1\n"
     ]
    }
   ],
   "source": [
    "# \"ancient civilization\" details.\n",
    "\n",
    "queryString = \"\"\"\n",
    "SELECT DISTINCT ?p ?p_name ?o ?o_name\n",
    "WHERE {\n",
    "   # bind something\n",
    "   wd:Q28171280 ?p ?o . \n",
    "   # get the label\n",
    "   ?p sc:name ?p_name.\n",
    "   ?o sc:name ?o_name.\n",
    "}\n",
    "LIMIT 20\n",
    "\"\"\"\n",
    "\n",
    "print(\"Results\")\n",
    "x=run_query(queryString)"
   ]
  },
  {
   "cell_type": "code",
   "execution_count": 25,
   "id": "f51a8405-816f-4d1e-84c6-4b7c4e7e12c4",
   "metadata": {},
   "outputs": [
    {
     "name": "stdout",
     "output_type": "stream",
     "text": [
      "Results\n",
      "[('p', 'http://www.wikidata.org/prop/direct/P279'), ('p_name', 'subclass of'), ('o', 'http://www.wikidata.org/entity/Q8425'), ('o_name', 'society')]\n",
      "[('p', 'http://www.wikidata.org/prop/direct/P1343'), ('p_name', 'described by source'), ('o', 'http://www.wikidata.org/entity/Q2041543'), ('o_name', 'Ottův slovník naučný')]\n",
      "[('p', 'http://www.wikidata.org/prop/direct/P5008'), ('p_name', 'on focus list of Wikimedia project'), ('o', 'http://www.wikidata.org/entity/Q5460604'), ('o_name', 'Wikipedia:Vital articles')]\n",
      "[('p', 'http://www.wikidata.org/prop/direct/P1889'), ('p_name', 'different from'), ('o', 'http://www.wikidata.org/entity/Q1868663'), ('o_name', 'Civilization')]\n",
      "[('p', 'http://www.wikidata.org/prop/direct/P1269'), ('p_name', 'facet of'), ('o', 'http://www.wikidata.org/entity/Q1156970'), ('o_name', 'humanity')]\n",
      "[('p', 'http://www.wikidata.org/prop/direct/P461'), ('p_name', 'opposite of'), ('o', 'http://www.wikidata.org/entity/Q83781188'), ('o_name', 'primitive culture')]\n",
      "[('p', 'http://www.wikidata.org/prop/direct/P910'), ('p_name', \"topic's main category\"), ('o', 'http://www.wikidata.org/entity/Q6576454'), ('o_name', 'Category:Civilizations')]\n",
      "[('p', 'http://www.wikidata.org/prop/direct/P460'), ('p_name', 'said to be the same as'), ('o', 'http://www.wikidata.org/entity/Q8036557'), ('o_name', 'world community')]\n",
      "8\n"
     ]
    }
   ],
   "source": [
    "# \"civilization\" details.\n",
    "\n",
    "queryString = \"\"\"\n",
    "SELECT DISTINCT ?p ?p_name ?o ?o_name\n",
    "WHERE {\n",
    "   # bind somethingc\n",
    "   wd:Q8432 ?p ?o . \n",
    "   # get the label\n",
    "   ?p sc:name ?p_name.\n",
    "   ?o sc:name ?o_name.\n",
    "}\n",
    "LIMIT 20\n",
    "\"\"\"\n",
    "\n",
    "print(\"Results\")\n",
    "x=run_query(queryString)"
   ]
  },
  {
   "cell_type": "code",
   "execution_count": 26,
   "id": "7709722c-1c7e-4476-a2e9-fccd95f7ad09",
   "metadata": {},
   "outputs": [
    {
     "name": "stdout",
     "output_type": "stream",
     "text": [
      "Results\n",
      "[('p', 'http://www.wikidata.org/prop/direct/P1552'), ('p_name', 'has quality'), ('o', 'http://www.wikidata.org/entity/Q211606'), ('o_name', 'social structure')]\n",
      "[('p', 'http://www.wikidata.org/prop/direct/P1552'), ('p_name', 'has quality'), ('o', 'http://www.wikidata.org/entity/Q3307505'), ('o_name', 'sociality')]\n",
      "[('p', 'http://www.wikidata.org/prop/direct/P1552'), ('p_name', 'has quality'), ('o', 'http://www.wikidata.org/entity/Q345367'), ('o_name', 'social')]\n",
      "[('p', 'http://www.wikidata.org/prop/direct/P1552'), ('p_name', 'has quality'), ('o', 'http://www.wikidata.org/entity/Q1510761'), ('o_name', 'social change')]\n",
      "[('p', 'http://www.wikidata.org/prop/direct/P31'), ('p_name', 'instance of'), ('o', 'http://www.wikidata.org/entity/Q151885'), ('o_name', 'concept')]\n",
      "[('p', 'http://www.wikidata.org/prop/direct/P1343'), ('p_name', 'described by source'), ('o', 'http://www.wikidata.org/entity/Q19190511'), ('o_name', 'New Encyclopedic Dictionary')]\n",
      "[('p', 'http://www.wikidata.org/prop/direct/P1343'), ('p_name', 'described by source'), ('o', 'http://www.wikidata.org/entity/Q2657718'), ('o_name', 'Armenian Soviet Encyclopedia')]\n",
      "[('p', 'http://www.wikidata.org/prop/direct/P2579'), ('p_name', 'studied by'), ('o', 'http://www.wikidata.org/entity/Q34749'), ('o_name', 'social science')]\n",
      "[('p', 'http://www.wikidata.org/prop/direct/P2670'), ('p_name', 'has parts of the class'), ('o', 'http://www.wikidata.org/entity/Q5'), ('o_name', 'human')]\n",
      "[('p', 'http://www.wikidata.org/prop/direct/P5008'), ('p_name', 'on focus list of Wikimedia project'), ('o', 'http://www.wikidata.org/entity/Q5460604'), ('o_name', 'Wikipedia:Vital articles')]\n",
      "[('p', 'http://www.wikidata.org/prop/direct/P2670'), ('p_name', 'has parts of the class'), ('o', 'http://www.wikidata.org/entity/Q16334295'), ('o_name', 'group of humans')]\n",
      "[('p', 'http://www.wikidata.org/prop/direct/P1552'), ('p_name', 'has quality'), ('o', 'http://www.wikidata.org/entity/Q188619'), ('o_name', 'hierarchy')]\n",
      "[('p', 'http://www.wikidata.org/prop/direct/P279'), ('p_name', 'subclass of'), ('o', 'http://www.wikidata.org/entity/Q874405'), ('o_name', 'social group')]\n",
      "[('p', 'http://www.wikidata.org/prop/direct/P2579'), ('p_name', 'studied by'), ('o', 'http://www.wikidata.org/entity/Q21201'), ('o_name', 'sociology')]\n",
      "[('p', 'http://www.wikidata.org/prop/direct/P1552'), ('p_name', 'has quality'), ('o', 'http://www.wikidata.org/entity/Q205665'), ('o_name', 'social norm')]\n",
      "[('p', 'http://www.wikidata.org/prop/direct/P1889'), ('p_name', 'different from'), ('o', 'http://www.wikidata.org/entity/Q1457756'), ('o_name', 'Category:Society')]\n",
      "[('p', 'http://www.wikidata.org/prop/direct/P910'), ('p_name', \"topic's main category\"), ('o', 'http://www.wikidata.org/entity/Q1457756'), ('o_name', 'Category:Society')]\n",
      "[('p', 'http://www.wikidata.org/prop/direct/P1552'), ('p_name', 'has quality'), ('o', 'http://www.wikidata.org/entity/Q769620'), ('o_name', 'social action')]\n",
      "[('p', 'http://www.wikidata.org/prop/direct/P3342'), ('p_name', 'significant person'), ('o', 'http://www.wikidata.org/entity/Q57238'), ('o_name', 'Niklas Luhmann')]\n",
      "[('p', 'http://www.wikidata.org/prop/direct/P361'), ('p_name', 'part of'), ('o', 'http://www.wikidata.org/entity/Q1156970'), ('o_name', 'humanity')]\n",
      "20\n"
     ]
    }
   ],
   "source": [
    "# \"society\" details.\n",
    "\n",
    "queryString = \"\"\"\n",
    "SELECT DISTINCT ?p ?p_name ?o ?o_name\n",
    "WHERE {\n",
    "   # bind something\n",
    "   wd:Q8425 ?p ?o . \n",
    "   # get the label\n",
    "   ?p sc:name ?p_name.\n",
    "   ?o sc:name ?o_name.\n",
    "}\n",
    "LIMIT 20\n",
    "\"\"\"\n",
    "\n",
    "print(\"Results\")\n",
    "x=run_query(queryString)"
   ]
  },
  {
   "cell_type": "code",
   "execution_count": 40,
   "id": "74db54ad-5da3-4710-b063-614daa064405",
   "metadata": {},
   "outputs": [
    {
     "name": "stdout",
     "output_type": "stream",
     "text": [
      "Results\n",
      "[('s', 'http://www.wikidata.org/entity/Q35355'), ('name', 'Sumer')]\n",
      "[('s', 'http://www.wikidata.org/entity/Q25558247'), ('name', 'Chinese civilization')]\n",
      "[('s', 'http://www.wikidata.org/entity/Q38060'), ('name', 'Gaul')]\n",
      "[('s', 'http://www.wikidata.org/entity/Q134178'), ('name', 'Minoan civilization')]\n",
      "[('s', 'http://www.wikidata.org/entity/Q173082'), ('name', 'Dacia')]\n",
      "[('s', 'http://www.wikidata.org/entity/Q2429397'), ('name', 'Ancient Carthage')]\n",
      "[('s', 'http://www.wikidata.org/entity/Q3327860'), ('name', 'Celtic kingdom of Ireland')]\n",
      "[('s', 'http://www.wikidata.org/entity/Q193748'), ('name', 'history of ancient Israel and Judah')]\n",
      "[('s', 'http://www.wikidata.org/entity/Q11768'), ('name', 'Ancient Egypt')]\n",
      "[('s', 'http://www.wikidata.org/entity/Q11772'), ('name', 'Ancient Greece')]\n",
      "[('s', 'http://www.wikidata.org/entity/Q41741'), ('name', 'Thrace')]\n",
      "[('s', 'http://www.wikidata.org/entity/Q128904'), ('name', 'Elam')]\n",
      "[('s', 'http://www.wikidata.org/entity/Q185068'), ('name', 'Urartu')]\n",
      "[('s', 'http://www.wikidata.org/entity/Q32047'), ('name', 'Illyria')]\n",
      "[('s', 'http://www.wikidata.org/entity/Q28567'), ('name', 'Maya civilization')]\n",
      "[('s', 'http://www.wikidata.org/entity/Q11767'), ('name', 'Mesopotamia')]\n",
      "[('s', 'http://www.wikidata.org/entity/Q8735'), ('name', 'Medes')]\n",
      "[('s', 'http://www.wikidata.org/entity/Q1364601'), ('name', 'Gallo-Roman culture')]\n",
      "[('s', 'http://www.wikidata.org/entity/Q42534'), ('name', 'Indus Valley Civilization')]\n",
      "[('s', 'http://www.wikidata.org/entity/Q28405'), ('name', 'Gojoseon')]\n",
      "[('s', 'http://www.wikidata.org/entity/Q244762'), ('name', 'Mari')]\n",
      "[('s', 'http://www.wikidata.org/entity/Q768212'), ('name', 'Turco-Mongol')]\n",
      "[('s', 'http://www.wikidata.org/entity/Q1551054'), ('name', 'Israelite period')]\n",
      "[('s', 'http://www.wikidata.org/entity/Q4752820'), ('name', 'Ancient Crete')]\n",
      "[('s', 'http://www.wikidata.org/entity/Q99304188'), ('name', 'Thracian')]\n",
      "25\n"
     ]
    }
   ],
   "source": [
    "# ancient civilizations.\n",
    "\n",
    "queryString = \"\"\"\n",
    "SELECT DISTINCT ?s ?name\n",
    "WHERE {\n",
    "   # bind something\n",
    "   ?s wdt:P31 wd:Q28171280 . \n",
    "   # get the label\n",
    "   ?s sc:name ?name.\n",
    "}\n",
    "LIMIT 25\n",
    "\"\"\"\n",
    "\n",
    "print(\"Results\")\n",
    "x=run_query(queryString)"
   ]
  },
  {
   "cell_type": "code",
   "execution_count": 29,
   "id": "5426af7b-988f-4d74-8ff1-a523147ed468",
   "metadata": {},
   "outputs": [
    {
     "name": "stdout",
     "output_type": "stream",
     "text": [
      "Results\n",
      "[('p', 'http://www.wikidata.org/prop/direct/P8744'), ('p_name', 'economy of topic'), ('o', 'http://www.wikidata.org/entity/Q2736823'), ('o_name', 'economy of ancient Greece')]\n",
      "[('p', 'http://www.wikidata.org/prop/direct/P2579'), ('p_name', 'studied by'), ('o', 'http://www.wikidata.org/entity/Q841090'), ('o_name', 'classics')]\n",
      "[('p', 'http://www.wikidata.org/prop/direct/P31'), ('p_name', 'instance of'), ('o', 'http://www.wikidata.org/entity/Q28171280'), ('o_name', 'ancient civilization')]\n",
      "[('p', 'http://www.wikidata.org/prop/direct/P2184'), ('p_name', 'history of topic'), ('o', 'http://www.wikidata.org/entity/Q7798'), ('o_name', 'history of ancient Greece')]\n",
      "[('p', 'http://www.wikidata.org/prop/direct/P910'), ('p_name', \"topic's main category\"), ('o', 'http://www.wikidata.org/entity/Q7215882'), ('o_name', 'Category:Ancient Greece')]\n",
      "[('p', 'http://www.wikidata.org/prop/direct/P31'), ('p_name', 'instance of'), ('o', 'http://www.wikidata.org/entity/Q11042'), ('o_name', 'culture')]\n",
      "[('p', 'http://www.wikidata.org/prop/direct/P31'), ('p_name', 'instance of'), ('o', 'http://www.wikidata.org/entity/Q1292119'), ('o_name', 'style')]\n",
      "[('p', 'http://www.wikidata.org/prop/direct/P1343'), ('p_name', 'described by source'), ('o', 'http://www.wikidata.org/entity/Q3181656'), ('o_name', 'The Nuttall Encyclopædia')]\n",
      "[('p', 'http://www.wikidata.org/prop/direct/P31'), ('p_name', 'instance of'), ('o', 'http://www.wikidata.org/entity/Q3502482'), ('o_name', 'cultural region')]\n",
      "[('p', 'http://www.wikidata.org/prop/direct/P2341'), ('p_name', 'indigenous to'), ('o', 'http://www.wikidata.org/entity/Q41'), ('o_name', 'Greece')]\n",
      "[('p', 'http://www.wikidata.org/prop/direct/P30'), ('p_name', 'continent'), ('o', 'http://www.wikidata.org/entity/Q46'), ('o_name', 'Europe')]\n",
      "[('p', 'http://www.wikidata.org/prop/direct/P30'), ('p_name', 'continent'), ('o', 'http://www.wikidata.org/entity/Q48'), ('o_name', 'Asia')]\n",
      "[('p', 'http://www.wikidata.org/prop/direct/P5008'), ('p_name', 'on focus list of Wikimedia project'), ('o', 'http://www.wikidata.org/entity/Q5460604'), ('o_name', 'Wikipedia:Vital articles')]\n",
      "[('p', 'http://www.wikidata.org/prop/direct/P47'), ('p_name', 'shares border with'), ('o', 'http://www.wikidata.org/entity/Q83311'), ('o_name', 'Persian Empire')]\n",
      "[('p', 'http://www.wikidata.org/prop/direct/P31'), ('p_name', 'instance of'), ('o', 'http://www.wikidata.org/entity/Q1620908'), ('o_name', 'historical region')]\n",
      "[('p', 'http://www.wikidata.org/prop/direct/P47'), ('p_name', 'shares border with'), ('o', 'http://www.wikidata.org/entity/Q32047'), ('o_name', 'Illyria')]\n",
      "[('p', 'http://www.wikidata.org/prop/direct/P47'), ('p_name', 'shares border with'), ('o', 'http://www.wikidata.org/entity/Q83958'), ('o_name', 'Macedonia')]\n",
      "[('p', 'http://www.wikidata.org/prop/direct/P2579'), ('p_name', 'studied by'), ('o', 'http://www.wikidata.org/entity/Q435608'), ('o_name', 'ancient history')]\n",
      "[('p', 'http://www.wikidata.org/prop/direct/P361'), ('p_name', 'part of'), ('o', 'http://www.wikidata.org/entity/Q7794'), ('o_name', 'history of Greece')]\n",
      "[('p', 'http://www.wikidata.org/prop/direct/P2579'), ('p_name', 'studied by'), ('o', 'http://www.wikidata.org/entity/Q16267481'), ('o_name', 'Greek studies')]\n",
      "[('p', 'http://www.wikidata.org/prop/direct/P1424'), ('p_name', \"topic's main template\"), ('o', 'http://www.wikidata.org/entity/Q6054993'), ('o_name', 'Template:Ancient Greece topics')]\n",
      "[('p', 'http://www.wikidata.org/prop/direct/P1151'), ('p_name', \"topic's main Wikimedia portal\"), ('o', 'http://www.wikidata.org/entity/Q10566332'), ('o_name', 'Portal:Ancient Greece')]\n",
      "[('p', 'http://www.wikidata.org/prop/direct/P1792'), ('p_name', 'category of associated people'), ('o', 'http://www.wikidata.org/entity/Q6692116'), ('o_name', 'Category:Ancient Greeks')]\n",
      "[('p', 'http://www.wikidata.org/prop/direct/P5125'), ('p_name', 'Wikimedia outline'), ('o', 'http://www.wikidata.org/entity/Q7112550'), ('o_name', 'outline of ancient Greece')]\n",
      "24\n"
     ]
    }
   ],
   "source": [
    "# \"Ancient Greece\" details.\n",
    "\n",
    "queryString = \"\"\"\n",
    "SELECT DISTINCT ?p ?p_name ?o ?o_name\n",
    "WHERE {\n",
    "   # bind something\n",
    "   wd:Q11772 ?p ?o . \n",
    "   # get the label\n",
    "   ?p sc:name ?p_name.\n",
    "   ?o sc:name ?o_name.\n",
    "}\n",
    "LIMIT 40\n",
    "\"\"\"\n",
    "\n",
    "print(\"Results\")\n",
    "x=run_query(queryString)"
   ]
  },
  {
   "cell_type": "code",
   "execution_count": 36,
   "id": "39e1a11e-ef4a-4a68-98cd-802ddced4984",
   "metadata": {},
   "outputs": [
    {
     "name": "stdout",
     "output_type": "stream",
     "text": [
      "Results\n",
      "Empty\n"
     ]
    }
   ],
   "source": [
    "# ancient civilizations duration?\n",
    "\n",
    "queryString = \"\"\"\n",
    "SELECT DISTINCT ?p ?name ?s ?o\n",
    "WHERE {\n",
    "   # bind something\n",
    "   ?s wdt:P31 wd:Q28171280 ;\n",
    "       ?p ?o .\n",
    "   # get the label\n",
    "   ?p sc:name ?name.\n",
    "   FILTER regex(?name, \"duration\", \"i\")\n",
    "}\n",
    "LIMIT 20\n",
    "\"\"\"\n",
    "\n",
    "print(\"Results\")\n",
    "x=run_query(queryString)"
   ]
  },
  {
   "cell_type": "code",
   "execution_count": 37,
   "id": "c78a0434-65c9-44aa-a285-5a3bdb81d787",
   "metadata": {},
   "outputs": [
    {
     "name": "stdout",
     "output_type": "stream",
     "text": [
      "Results\n",
      "Empty\n"
     ]
    }
   ],
   "source": [
    "# ancient civilizations duration?\n",
    "\n",
    "queryString = \"\"\"\n",
    "SELECT DISTINCT ?p ?name ?s ?o\n",
    "WHERE {\n",
    "   # bind something\n",
    "   ?s wdt:P31 wd:Q28171280 ;\n",
    "       ?p ?o .\n",
    "   # get the label\n",
    "   ?p sc:name ?name.\n",
    "   FILTER regex(?name, \"beginning\", \"i\")\n",
    "}\n",
    "LIMIT 20\n",
    "\"\"\"\n",
    "\n",
    "print(\"Results\")\n",
    "x=run_query(queryString)"
   ]
  },
  {
   "cell_type": "code",
   "execution_count": 38,
   "id": "1cb611a9-b0dd-4c77-ab5a-9e234a80fb4f",
   "metadata": {},
   "outputs": [
    {
     "name": "stdout",
     "output_type": "stream",
     "text": [
      "Results\n",
      "[('p', 'http://www.wikidata.org/prop/direct/P582'), ('name', 'end time'), ('s', 'http://www.wikidata.org/entity/Q134178'), ('o', '-1099-01-01T00:00:00Z')]\n",
      "[('p', 'http://www.wikidata.org/prop/direct/P582'), ('name', 'end time'), ('s', 'http://www.wikidata.org/entity/Q3327860'), ('o', '1542-01-01T00:00:00Z')]\n",
      "[('p', 'http://www.wikidata.org/prop/direct/P582'), ('name', 'end time'), ('s', 'http://www.wikidata.org/entity/Q11768'), ('o', '0395-01-01T00:00:00Z')]\n",
      "[('p', 'http://www.wikidata.org/prop/direct/P582'), ('name', 'end time'), ('s', 'http://www.wikidata.org/entity/Q11772'), ('o', '0600-01-01T00:00:00Z')]\n",
      "[('p', 'http://www.wikidata.org/prop/direct/P582'), ('name', 'end time'), ('s', 'http://www.wikidata.org/entity/Q42534'), ('o', '-1799-01-01T00:00:00Z')]\n",
      "[('p', 'http://www.wikidata.org/prop/direct/P582'), ('name', 'end time'), ('s', 'http://www.wikidata.org/entity/Q1551054'), ('o', '-585-01-01T00:00:00Z')]\n",
      "6\n"
     ]
    }
   ],
   "source": [
    "# ancient civilizations duration?\n",
    "\n",
    "queryString = \"\"\"\n",
    "SELECT DISTINCT ?p ?name ?s ?o\n",
    "WHERE {\n",
    "   # bind something\n",
    "   ?s wdt:P31 wd:Q28171280 ;\n",
    "       ?p ?o .\n",
    "   # get the label\n",
    "   ?p sc:name ?name.\n",
    "   FILTER regex(?name, \"end\", \"i\")\n",
    "}\n",
    "LIMIT 20\n",
    "\"\"\"\n",
    "\n",
    "print(\"Results\")\n",
    "x=run_query(queryString)"
   ]
  },
  {
   "cell_type": "code",
   "execution_count": 39,
   "id": "08c47a2b-b0d0-443d-a61f-5b93dc8e8407",
   "metadata": {},
   "outputs": [
    {
     "name": "stdout",
     "output_type": "stream",
     "text": [
      "Results\n",
      "[('p', 'http://www.wikidata.org/prop/direct/P580'), ('name', 'start time'), ('s', 'http://www.wikidata.org/entity/Q134178'), ('s_name', 'Minoan civilization'), ('o', '-3299-01-01T00:00:00Z')]\n",
      "[('p', 'http://www.wikidata.org/prop/direct/P580'), ('name', 'start time'), ('s', 'http://www.wikidata.org/entity/Q134178'), ('s_name', 'Minoan civilization'), ('o', '-2000-01-01T00:00:00Z')]\n",
      "[('p', 'http://www.wikidata.org/prop/direct/P580'), ('name', 'start time'), ('s', 'http://www.wikidata.org/entity/Q11768'), ('s_name', 'Ancient Egypt'), ('o', '-4000-01-01T00:00:00Z')]\n",
      "[('p', 'http://www.wikidata.org/prop/direct/P580'), ('name', 'start time'), ('s', 'http://www.wikidata.org/entity/Q11772'), ('s_name', 'Ancient Greece'), ('o', '-1200-01-01T00:00:00Z')]\n",
      "[('p', 'http://www.wikidata.org/prop/direct/P580'), ('name', 'start time'), ('s', 'http://www.wikidata.org/entity/Q42534'), ('s_name', 'Indus Valley Civilization'), ('o', '-2999-01-01T00:00:00Z')]\n",
      "[('p', 'http://www.wikidata.org/prop/direct/P580'), ('name', 'start time'), ('s', 'http://www.wikidata.org/entity/Q1551054'), ('s_name', 'Israelite period'), ('o', '-1199-01-01T00:00:00Z')]\n",
      "6\n"
     ]
    }
   ],
   "source": [
    "# ancient civilizations duration?\n",
    "\n",
    "queryString = \"\"\"\n",
    "SELECT DISTINCT ?p ?name ?s ?s_name ?o\n",
    "WHERE {\n",
    "   # bind something\n",
    "   ?s wdt:P31 wd:Q28171280 ;\n",
    "       ?p ?o .\n",
    "   # get the label\n",
    "   ?p sc:name ?name.\n",
    "   ?s sc:name ?s_name.\n",
    "   FILTER regex(?name, \"start\", \"i\")\n",
    "}\n",
    "LIMIT 20\n",
    "\"\"\"\n",
    "\n",
    "print(\"Results\")\n",
    "x=run_query(queryString)"
   ]
  },
  {
   "cell_type": "code",
   "execution_count": 41,
   "id": "9a66a668-438a-4c9c-94de-f1ae60a19d0b",
   "metadata": {},
   "outputs": [
    {
     "name": "stdout",
     "output_type": "stream",
     "text": [
      "Results\n",
      "[('s', 'http://www.wikidata.org/entity/Q134178'), ('s_name', 'Minoan civilization'), ('st', '-3299-01-01T00:00:00Z'), ('et', '-1099-01-01T00:00:00Z')]\n",
      "[('s', 'http://www.wikidata.org/entity/Q134178'), ('s_name', 'Minoan civilization'), ('st', '-2000-01-01T00:00:00Z'), ('et', '-1099-01-01T00:00:00Z')]\n",
      "[('s', 'http://www.wikidata.org/entity/Q11768'), ('s_name', 'Ancient Egypt'), ('st', '-4000-01-01T00:00:00Z'), ('et', '0395-01-01T00:00:00Z')]\n",
      "[('s', 'http://www.wikidata.org/entity/Q11772'), ('s_name', 'Ancient Greece'), ('st', '-1200-01-01T00:00:00Z'), ('et', '0600-01-01T00:00:00Z')]\n",
      "[('s', 'http://www.wikidata.org/entity/Q42534'), ('s_name', 'Indus Valley Civilization'), ('st', '-2999-01-01T00:00:00Z'), ('et', '-1799-01-01T00:00:00Z')]\n",
      "[('s', 'http://www.wikidata.org/entity/Q1551054'), ('s_name', 'Israelite period'), ('st', '-1199-01-01T00:00:00Z'), ('et', '-585-01-01T00:00:00Z')]\n",
      "[('s', 'http://www.wikidata.org/entity/Q3327860'), ('s_name', 'Celtic kingdom of Ireland'), ('et', '1542-01-01T00:00:00Z')]\n",
      "[('s', 'http://www.wikidata.org/entity/Q35355'), ('s_name', 'Sumer')]\n",
      "[('s', 'http://www.wikidata.org/entity/Q25558247'), ('s_name', 'Chinese civilization')]\n",
      "[('s', 'http://www.wikidata.org/entity/Q38060'), ('s_name', 'Gaul')]\n",
      "[('s', 'http://www.wikidata.org/entity/Q173082'), ('s_name', 'Dacia')]\n",
      "[('s', 'http://www.wikidata.org/entity/Q2429397'), ('s_name', 'Ancient Carthage')]\n",
      "[('s', 'http://www.wikidata.org/entity/Q193748'), ('s_name', 'history of ancient Israel and Judah')]\n",
      "[('s', 'http://www.wikidata.org/entity/Q41741'), ('s_name', 'Thrace')]\n",
      "[('s', 'http://www.wikidata.org/entity/Q128904'), ('s_name', 'Elam')]\n",
      "[('s', 'http://www.wikidata.org/entity/Q185068'), ('s_name', 'Urartu')]\n",
      "[('s', 'http://www.wikidata.org/entity/Q32047'), ('s_name', 'Illyria')]\n",
      "[('s', 'http://www.wikidata.org/entity/Q28567'), ('s_name', 'Maya civilization')]\n",
      "[('s', 'http://www.wikidata.org/entity/Q11767'), ('s_name', 'Mesopotamia')]\n",
      "[('s', 'http://www.wikidata.org/entity/Q8735'), ('s_name', 'Medes')]\n",
      "20\n"
     ]
    }
   ],
   "source": [
    "# ancient civilizations start time and end time\n",
    "\n",
    "queryString = \"\"\"\n",
    "SELECT DISTINCT ?s ?s_name ?st ?et\n",
    "WHERE {\n",
    "   # bind something\n",
    "   ?s wdt:P31 wd:Q28171280 .\n",
    "   OPTIONAL {\n",
    "       ?s wdt:P580 ?st\n",
    "   } .\n",
    "   OPTIONAL {\n",
    "       ?s wdt:P582 ?et\n",
    "   } .\n",
    "   # get the label\n",
    "   ?s sc:name ?s_name.\n",
    "}\n",
    "LIMIT 20\n",
    "\"\"\"\n",
    "\n",
    "print(\"Results\")\n",
    "x=run_query(queryString)"
   ]
  },
  {
   "cell_type": "code",
   "execution_count": 48,
   "id": "84a27752-4010-46e0-be53-6b3e5ef832de",
   "metadata": {},
   "outputs": [
    {
     "name": "stdout",
     "output_type": "stream",
     "text": [
      "Results\n",
      "[('s', 'http://www.wikidata.org/entity/Q134178'), ('s_name', 'Minoan civilization'), ('t', '2200')]\n",
      "[('s', 'http://www.wikidata.org/entity/Q134178'), ('s_name', 'Minoan civilization'), ('t', '901')]\n",
      "[('s', 'http://www.wikidata.org/entity/Q11768'), ('s_name', 'Ancient Egypt'), ('t', '4395')]\n",
      "[('s', 'http://www.wikidata.org/entity/Q11772'), ('s_name', 'Ancient Greece'), ('t', '1800')]\n",
      "[('s', 'http://www.wikidata.org/entity/Q42534'), ('s_name', 'Indus Valley Civilization'), ('t', '1200')]\n",
      "[('s', 'http://www.wikidata.org/entity/Q1551054'), ('s_name', 'Israelite period'), ('t', '614')]\n",
      "[('s', 'http://www.wikidata.org/entity/Q3327860'), ('s_name', 'Celtic kingdom of Ireland'), ('t', '')]\n",
      "[('s', 'http://www.wikidata.org/entity/Q35355'), ('s_name', 'Sumer'), ('t', '')]\n",
      "[('s', 'http://www.wikidata.org/entity/Q25558247'), ('s_name', 'Chinese civilization'), ('t', '')]\n",
      "[('s', 'http://www.wikidata.org/entity/Q38060'), ('s_name', 'Gaul'), ('t', '')]\n",
      "[('s', 'http://www.wikidata.org/entity/Q173082'), ('s_name', 'Dacia'), ('t', '')]\n",
      "[('s', 'http://www.wikidata.org/entity/Q2429397'), ('s_name', 'Ancient Carthage'), ('t', '')]\n",
      "[('s', 'http://www.wikidata.org/entity/Q193748'), ('s_name', 'history of ancient Israel and Judah'), ('t', '')]\n",
      "[('s', 'http://www.wikidata.org/entity/Q41741'), ('s_name', 'Thrace'), ('t', '')]\n",
      "[('s', 'http://www.wikidata.org/entity/Q128904'), ('s_name', 'Elam'), ('t', '')]\n",
      "[('s', 'http://www.wikidata.org/entity/Q185068'), ('s_name', 'Urartu'), ('t', '')]\n",
      "[('s', 'http://www.wikidata.org/entity/Q32047'), ('s_name', 'Illyria'), ('t', '')]\n",
      "[('s', 'http://www.wikidata.org/entity/Q28567'), ('s_name', 'Maya civilization'), ('t', '')]\n",
      "[('s', 'http://www.wikidata.org/entity/Q11767'), ('s_name', 'Mesopotamia'), ('t', '')]\n",
      "[('s', 'http://www.wikidata.org/entity/Q8735'), ('s_name', 'Medes'), ('t', '')]\n",
      "20\n"
     ]
    }
   ],
   "source": [
    "# ancient civilizations duration\n",
    "\n",
    "queryString = \"\"\"\n",
    "SELECT DISTINCT ?s ?s_name ?t\n",
    "WHERE {\n",
    "   # bind something\n",
    "   ?s wdt:P31 wd:Q28171280 .\n",
    "   OPTIONAL {\n",
    "       ?s wdt:P580 ?st\n",
    "   } .\n",
    "   OPTIONAL {\n",
    "       ?s wdt:P582 ?et\n",
    "   } .\n",
    "   BIND( if(BOUND(?st) && BOUND(?et),(year(?et) - year(?st)),'') as ?t ) .\n",
    "   # get the label\n",
    "   ?s sc:name ?s_name.\n",
    "}\n",
    "LIMIT 20\n",
    "\"\"\"\n",
    "\n",
    "print(\"Results\")\n",
    "x=run_query(queryString)"
   ]
  },
  {
   "cell_type": "markdown",
   "id": "d81b5419",
   "metadata": {},
   "source": [
    "Final query for this task"
   ]
  },
  {
   "cell_type": "code",
   "execution_count": 49,
   "id": "0cea7d8c",
   "metadata": {},
   "outputs": [
    {
     "name": "stdout",
     "output_type": "stream",
     "text": [
      "Results\n",
      "[('s', 'http://www.wikidata.org/entity/Q134178'), ('s_name', 'Minoan civilization'), ('t', '2200')]\n",
      "[('s', 'http://www.wikidata.org/entity/Q134178'), ('s_name', 'Minoan civilization'), ('t', '901')]\n",
      "[('s', 'http://www.wikidata.org/entity/Q11768'), ('s_name', 'Ancient Egypt'), ('t', '4395')]\n",
      "[('s', 'http://www.wikidata.org/entity/Q11772'), ('s_name', 'Ancient Greece'), ('t', '1800')]\n",
      "[('s', 'http://www.wikidata.org/entity/Q42534'), ('s_name', 'Indus Valley Civilization'), ('t', '1200')]\n",
      "[('s', 'http://www.wikidata.org/entity/Q1551054'), ('s_name', 'Israelite period'), ('t', '614')]\n",
      "[('s', 'http://www.wikidata.org/entity/Q3327860'), ('s_name', 'Celtic kingdom of Ireland'), ('t', '')]\n",
      "[('s', 'http://www.wikidata.org/entity/Q35355'), ('s_name', 'Sumer'), ('t', '')]\n",
      "[('s', 'http://www.wikidata.org/entity/Q25558247'), ('s_name', 'Chinese civilization'), ('t', '')]\n",
      "[('s', 'http://www.wikidata.org/entity/Q38060'), ('s_name', 'Gaul'), ('t', '')]\n",
      "[('s', 'http://www.wikidata.org/entity/Q173082'), ('s_name', 'Dacia'), ('t', '')]\n",
      "[('s', 'http://www.wikidata.org/entity/Q2429397'), ('s_name', 'Ancient Carthage'), ('t', '')]\n",
      "[('s', 'http://www.wikidata.org/entity/Q193748'), ('s_name', 'history of ancient Israel and Judah'), ('t', '')]\n",
      "[('s', 'http://www.wikidata.org/entity/Q41741'), ('s_name', 'Thrace'), ('t', '')]\n",
      "[('s', 'http://www.wikidata.org/entity/Q128904'), ('s_name', 'Elam'), ('t', '')]\n",
      "[('s', 'http://www.wikidata.org/entity/Q185068'), ('s_name', 'Urartu'), ('t', '')]\n",
      "[('s', 'http://www.wikidata.org/entity/Q32047'), ('s_name', 'Illyria'), ('t', '')]\n",
      "[('s', 'http://www.wikidata.org/entity/Q28567'), ('s_name', 'Maya civilization'), ('t', '')]\n",
      "[('s', 'http://www.wikidata.org/entity/Q11767'), ('s_name', 'Mesopotamia'), ('t', '')]\n",
      "[('s', 'http://www.wikidata.org/entity/Q8735'), ('s_name', 'Medes'), ('t', '')]\n",
      "20\n"
     ]
    }
   ],
   "source": [
    "# write your final query\n",
    "# NOTE: The data seems incomplete and there are duplicates\n",
    "queryString = \"\"\"\n",
    "SELECT DISTINCT ?s ?s_name ?t\n",
    "WHERE {\n",
    "   # bind something\n",
    "   ?s wdt:P31 wd:Q28171280 .\n",
    "   OPTIONAL {\n",
    "       ?s wdt:P580 ?st\n",
    "   } .\n",
    "   OPTIONAL {\n",
    "       ?s wdt:P582 ?et\n",
    "   } .\n",
    "   BIND( if(BOUND(?st) && BOUND(?et),(year(?et) - year(?st)),'') as ?t ) .\n",
    "   # get the label\n",
    "   ?s sc:name ?s_name.\n",
    "}\n",
    "LIMIT 20\n",
    "\"\"\"\n",
    "\n",
    "print(\"Results\")\n",
    "x=run_query(queryString)"
   ]
  },
  {
   "cell_type": "markdown",
   "id": "a2745f78",
   "metadata": {
    "tags": []
   },
   "source": [
    "## Task 4\n",
    "Identify the BGP for archeologist."
   ]
  },
  {
   "cell_type": "code",
   "execution_count": 51,
   "id": "7f69314c",
   "metadata": {},
   "outputs": [
    {
     "name": "stdout",
     "output_type": "stream",
     "text": [
      "Results\n",
      "[('o', 'http://www.wikidata.org/entity/Q83414831'), ('o_name', 'bioarcheologist')]\n",
      "[('o', 'http://www.wikidata.org/entity/Q62061006'), ('o_name', 'maritime archeologist')]\n",
      "[('o', 'http://www.wikidata.org/entity/Q97011145'), ('o_name', 'archeological scientist')]\n",
      "3\n"
     ]
    }
   ],
   "source": [
    "# archeologist profession\n",
    "\n",
    "queryString = \"\"\"\n",
    "SELECT DISTINCT ?o ?o_name\n",
    "WHERE {\n",
    "   # bind something\n",
    "   ?s wdt:P106 ?o . \n",
    "   # get the label\n",
    "   ?o sc:name ?o_name.\n",
    "   FILTER regex(?o_name, \"archeo\", \"i\")\n",
    "}\n",
    "LIMIT 40\n",
    "\"\"\"\n",
    "\n",
    "print(\"Results\")\n",
    "x=run_query(queryString)"
   ]
  },
  {
   "cell_type": "code",
   "execution_count": 52,
   "id": "c933d1f2-04e7-4899-9391-76d6fd71a7d9",
   "metadata": {},
   "outputs": [
    {
     "name": "stdout",
     "output_type": "stream",
     "text": [
      "Results\n",
      "[('obj', 'http://www.wikidata.org/entity/Q1456099'), ('name', 'step pyramid')]\n",
      "1\n"
     ]
    }
   ],
   "source": [
    "\n",
    "queryString = \"\"\"\n",
    "SELECT DISTINCT ?obj ?name\n",
    "WHERE {\n",
    "   # bind something\n",
    "   wd:Q13444093 wdt:P31 ?obj .\n",
    "   # get the label\n",
    "   ?obj sc:name ?name.\n",
    "}\n",
    "LIMIT 30\n",
    "\"\"\"\n",
    "\n",
    "print(\"Results\")\n",
    "x=run_query(queryString)"
   ]
  },
  {
   "cell_type": "code",
   "execution_count": 53,
   "id": "6578dba9-2106-4c5f-b97c-1c65d5e86a53",
   "metadata": {},
   "outputs": [
    {
     "name": "stdout",
     "output_type": "stream",
     "text": [
      "Results\n",
      "[('obj', 'http://www.wikidata.org/entity/Q4363262'), ('name', 'smooth-sided pyramid'), ('p', 'http://www.wikidata.org/prop/direct/P461'), ('p_name', 'opposite of')]\n",
      "[('obj', 'http://www.wikidata.org/entity/Q12516'), ('name', 'pyramid'), ('p', 'http://www.wikidata.org/prop/direct/P279'), ('p_name', 'subclass of')]\n",
      "2\n"
     ]
    }
   ],
   "source": [
    "\n",
    "queryString = \"\"\"\n",
    "SELECT DISTINCT ?obj ?name ?p ?p_name\n",
    "WHERE {\n",
    "   # bind something\n",
    "   wd:Q1456099 ?p ?obj .\n",
    "   # get the label\n",
    "   ?p sc:name ?p_name.\n",
    "   ?obj sc:name ?name.\n",
    "}\n",
    "LIMIT 30\n",
    "\"\"\"\n",
    "\n",
    "print(\"Results\")\n",
    "x=run_query(queryString)"
   ]
  },
  {
   "cell_type": "code",
   "execution_count": 54,
   "id": "e8618418-8ce7-4203-ad94-1d21e3b1e25a",
   "metadata": {},
   "outputs": [
    {
     "name": "stdout",
     "output_type": "stream",
     "text": [
      "Results\n",
      "[('obj', 'http://www.wikidata.org/entity/Q106727050'), ('name', 'Metropolitan Museum of Art Tagging Vocabulary'), ('p', 'http://www.wikidata.org/prop/direct/P1343'), ('p_name', 'described by source')]\n",
      "[('obj', 'http://www.wikidata.org/entity/Q3181656'), ('name', 'The Nuttall Encyclopædia'), ('p', 'http://www.wikidata.org/prop/direct/P1343'), ('p_name', 'described by source')]\n",
      "[('obj', 'http://www.wikidata.org/entity/Q39297'), ('name', 'volume'), ('p', 'http://www.wikidata.org/prop/direct/P1552'), ('p_name', 'has quality')]\n",
      "[('obj', 'http://www.wikidata.org/entity/Q5460604'), ('name', 'Wikipedia:Vital articles'), ('p', 'http://www.wikidata.org/prop/direct/P5008'), ('p_name', 'on focus list of Wikimedia project')]\n",
      "[('obj', 'http://www.wikidata.org/entity/Q867541'), ('name', 'Encyclopædia Britannica 11th edition'), ('p', 'http://www.wikidata.org/prop/direct/P1343'), ('p_name', 'described by source')]\n",
      "[('obj', 'http://www.wikidata.org/entity/Q41176'), ('name', 'building'), ('p', 'http://www.wikidata.org/prop/direct/P279'), ('p_name', 'subclass of')]\n",
      "[('obj', 'http://www.wikidata.org/entity/Q11818429'), ('name', 'Piramida'), ('p', 'http://www.wikidata.org/prop/direct/P1889'), ('p_name', 'different from')]\n",
      "[('obj', 'http://www.wikidata.org/entity/Q7237020'), ('name', 'Category:Pyramids'), ('p', 'http://www.wikidata.org/prop/direct/P910'), ('p_name', \"topic's main category\")]\n",
      "[('obj', 'http://www.wikidata.org/entity/Q3358290'), ('name', 'pyramid'), ('p', 'http://www.wikidata.org/prop/direct/P1419'), ('p_name', 'shape')]\n",
      "[('obj', 'http://www.wikidata.org/entity/Q13361861'), ('name', 'Template:Infobox pyramid'), ('p', 'http://www.wikidata.org/prop/direct/P1424'), ('p_name', \"topic's main template\")]\n",
      "10\n"
     ]
    }
   ],
   "source": [
    "# pyramid details\n",
    "queryString = \"\"\"\n",
    "SELECT DISTINCT ?obj ?name ?p ?p_name\n",
    "WHERE {\n",
    "   # bind something\n",
    "   wd:Q12516 ?p ?obj .\n",
    "   # get the label\n",
    "   ?p sc:name ?p_name.\n",
    "   ?obj sc:name ?name.\n",
    "}\n",
    "LIMIT 30\n",
    "\"\"\"\n",
    "\n",
    "print(\"Results\")\n",
    "x=run_query(queryString)"
   ]
  },
  {
   "cell_type": "code",
   "execution_count": 55,
   "id": "9f456763-62ac-48d9-b3c1-2e68d79648a1",
   "metadata": {},
   "outputs": [
    {
     "name": "stdout",
     "output_type": "stream",
     "text": [
      "Results\n",
      "[('obj', 'http://www.wikidata.org/entity/Q15319501'), ('name', 'social scientist'), ('p', 'http://www.wikidata.org/prop/direct/P279'), ('p_name', 'subclass of')]\n",
      "[('obj', 'http://www.wikidata.org/entity/Q19829999'), ('name', 'cultural studies scholar'), ('p', 'http://www.wikidata.org/prop/direct/P279'), ('p_name', 'subclass of')]\n",
      "[('obj', 'http://www.wikidata.org/entity/Q12737077'), ('name', 'occupation'), ('p', 'http://www.wikidata.org/prop/direct/P31'), ('p_name', 'instance of')]\n",
      "[('obj', 'http://www.wikidata.org/entity/Q28640'), ('name', 'profession'), ('p', 'http://www.wikidata.org/prop/direct/P31'), ('p_name', 'instance of')]\n",
      "[('obj', 'http://www.wikidata.org/entity/Q637284'), ('name', 'archaeological science'), ('p', 'http://www.wikidata.org/prop/direct/P425'), ('p_name', 'field of this occupation')]\n",
      "5\n"
     ]
    }
   ],
   "source": [
    "# 'archeological scientist' details\n",
    "queryString = \"\"\"\n",
    "SELECT DISTINCT ?obj ?name ?p ?p_name\n",
    "WHERE {\n",
    "   # bind something\n",
    "   wd:Q97011145 ?p ?obj .\n",
    "   # get the label\n",
    "   ?p sc:name ?p_name.\n",
    "   ?obj sc:name ?name.\n",
    "}\n",
    "LIMIT 30\n",
    "\"\"\"\n",
    "\n",
    "print(\"Results\")\n",
    "x=run_query(queryString)"
   ]
  },
  {
   "cell_type": "code",
   "execution_count": 56,
   "id": "a0e5f67c-07ae-436d-aa19-cb77baaa103b",
   "metadata": {},
   "outputs": [
    {
     "name": "stdout",
     "output_type": "stream",
     "text": [
      "Results\n",
      "[('obj', 'http://www.wikidata.org/entity/Q4785472'), ('name', 'archaeological sub-discipline'), ('p', 'http://www.wikidata.org/prop/direct/P279'), ('p_name', 'subclass of')]\n",
      "[('obj', 'http://www.wikidata.org/entity/Q15957611'), ('name', 'Category:Archaeological science'), ('p', 'http://www.wikidata.org/prop/direct/P910'), ('p_name', \"topic's main category\")]\n",
      "[('obj', 'http://www.wikidata.org/entity/Q97011145'), ('name', 'archeological scientist'), ('p', 'http://www.wikidata.org/prop/direct/P3095'), ('p_name', 'practiced by')]\n",
      "3\n"
     ]
    }
   ],
   "source": [
    "# 'archeological science' details\n",
    "queryString = \"\"\"\n",
    "SELECT DISTINCT ?obj ?name ?p ?p_name\n",
    "WHERE {\n",
    "   # bind something\n",
    "   wd:Q637284 ?p ?obj .\n",
    "   # get the label\n",
    "   ?p sc:name ?p_name.\n",
    "   ?obj sc:name ?name.\n",
    "}\n",
    "LIMIT 30\n",
    "\"\"\"\n",
    "\n",
    "print(\"Results\")\n",
    "x=run_query(queryString)"
   ]
  },
  {
   "cell_type": "code",
   "execution_count": 57,
   "id": "0dab28a2-524b-4572-beb4-04ceb84a2b96",
   "metadata": {},
   "outputs": [
    {
     "name": "stdout",
     "output_type": "stream",
     "text": [
      "Results\n",
      "[('obj', 'http://www.wikidata.org/entity/Q11862829'), ('name', 'academic discipline'), ('p', 'http://www.wikidata.org/prop/direct/P279'), ('p_name', 'subclass of')]\n",
      "[('obj', 'http://www.wikidata.org/entity/Q5962346'), ('name', 'classification system'), ('p', 'http://www.wikidata.org/prop/direct/P31'), ('p_name', 'instance of')]\n",
      "[('obj', 'http://www.wikidata.org/entity/Q23498'), ('name', 'archaeology'), ('p', 'http://www.wikidata.org/prop/direct/P361'), ('p_name', 'part of')]\n",
      "[('obj', 'http://www.wikidata.org/entity/Q24017414'), ('name', 'second-order class'), ('p', 'http://www.wikidata.org/prop/direct/P31'), ('p_name', 'instance of')]\n",
      "[('obj', 'http://www.wikidata.org/entity/Q6436272'), ('name', 'Category:Archaeological sub-disciplines'), ('p', 'http://www.wikidata.org/prop/direct/P910'), ('p_name', \"topic's main category\")]\n",
      "[('obj', 'http://www.wikidata.org/entity/Q106225749'), ('name', 'archaeological sub-disciplines'), ('p', 'http://www.wikidata.org/prop/direct/P2354'), ('p_name', 'has list')]\n",
      "6\n"
     ]
    }
   ],
   "source": [
    "# 'archaeological sub-discipline' details\n",
    "queryString = \"\"\"\n",
    "SELECT DISTINCT ?obj ?name ?p ?p_name\n",
    "WHERE {\n",
    "   # bind something\n",
    "   wd:Q4785472 ?p ?obj .\n",
    "   # get the label\n",
    "   ?p sc:name ?p_name.\n",
    "   ?obj sc:name ?name.\n",
    "}\n",
    "LIMIT 30\n",
    "\"\"\"\n",
    "\n",
    "print(\"Results\")\n",
    "x=run_query(queryString)"
   ]
  },
  {
   "cell_type": "code",
   "execution_count": 58,
   "id": "65dc87fe-2ca4-4317-a161-245c2b3fb6ea",
   "metadata": {},
   "outputs": [
    {
     "name": "stdout",
     "output_type": "stream",
     "text": [
      "Results\n",
      "[('obj', 'http://www.wikidata.org/entity/Q1066186'), ('name', 'study of history'), ('p', 'http://www.wikidata.org/prop/direct/P279'), ('p_name', 'subclass of')]\n",
      "[('obj', 'http://www.wikidata.org/entity/Q11862829'), ('name', 'academic discipline'), ('p', 'http://www.wikidata.org/prop/direct/P31'), ('p_name', 'instance of')]\n",
      "[('obj', 'http://www.wikidata.org/entity/Q19180675'), ('name', 'Small Brockhaus and Efron Encyclopedic Dictionary'), ('p', 'http://www.wikidata.org/prop/direct/P1343'), ('p_name', 'described by source')]\n",
      "[('obj', 'http://www.wikidata.org/entity/Q19211082'), ('name', 'Orthodox Theological Encyclopedia'), ('p', 'http://www.wikidata.org/prop/direct/P1343'), ('p_name', 'described by source')]\n",
      "[('obj', 'http://www.wikidata.org/entity/Q2657718'), ('name', 'Armenian Soviet Encyclopedia'), ('p', 'http://www.wikidata.org/prop/direct/P1343'), ('p_name', 'described by source')]\n",
      "[('obj', 'http://www.wikidata.org/entity/Q3181656'), ('name', 'The Nuttall Encyclopædia'), ('p', 'http://www.wikidata.org/prop/direct/P1343'), ('p_name', 'described by source')]\n",
      "[('obj', 'http://www.wikidata.org/entity/Q34749'), ('name', 'social science'), ('p', 'http://www.wikidata.org/prop/direct/P279'), ('p_name', 'subclass of')]\n",
      "[('obj', 'http://www.wikidata.org/entity/Q4114391'), ('name', 'Sytin Military Encyclopedia'), ('p', 'http://www.wikidata.org/prop/direct/P1343'), ('p_name', 'described by source')]\n",
      "[('obj', 'http://www.wikidata.org/entity/Q4173137'), ('name', 'Jewish Encyclopedia of Brockhaus and Efron'), ('p', 'http://www.wikidata.org/prop/direct/P1343'), ('p_name', 'described by source')]\n",
      "[('obj', 'http://www.wikidata.org/entity/Q4671286'), ('name', 'academic major'), ('p', 'http://www.wikidata.org/prop/direct/P31'), ('p_name', 'instance of')]\n",
      "[('obj', 'http://www.wikidata.org/entity/Q602358'), ('name', 'Brockhaus and Efron Encyclopedic Dictionary'), ('p', 'http://www.wikidata.org/prop/direct/P1343'), ('p_name', 'described by source')]\n",
      "[('obj', 'http://www.wikidata.org/entity/Q819121'), ('name', 'osteology'), ('p', 'http://www.wikidata.org/prop/direct/P527'), ('p_name', 'has part')]\n",
      "[('obj', 'http://www.wikidata.org/entity/Q839954'), ('name', 'archaeological site'), ('p', 'http://www.wikidata.org/prop/direct/P2578'), ('p_name', 'studies')]\n",
      "[('obj', 'http://www.wikidata.org/entity/Q3621491'), ('name', 'archaeologist'), ('p', 'http://www.wikidata.org/prop/direct/P3095'), ('p_name', 'practiced by')]\n",
      "[('obj', 'http://www.wikidata.org/entity/Q145903'), ('name', 'egyptology'), ('p', 'http://www.wikidata.org/prop/direct/P527'), ('p_name', 'has part')]\n",
      "[('obj', 'http://www.wikidata.org/entity/Q29551022'), ('name', 'Dictionnaire du patrimoine rennais'), ('p', 'http://www.wikidata.org/prop/direct/P1343'), ('p_name', 'described by source')]\n",
      "[('obj', 'http://www.wikidata.org/entity/Q7215366'), ('name', 'Category:Archaeology'), ('p', 'http://www.wikidata.org/prop/direct/P910'), ('p_name', \"topic's main category\")]\n",
      "[('obj', 'http://www.wikidata.org/entity/Q21071559'), ('name', 'archology'), ('p', 'http://www.wikidata.org/prop/direct/P1889'), ('p_name', 'different from')]\n",
      "[('obj', 'http://www.wikidata.org/entity/Q637284'), ('name', 'archaeological science'), ('p', 'http://www.wikidata.org/prop/direct/P527'), ('p_name', 'has part')]\n",
      "[('obj', 'http://www.wikidata.org/entity/Q7076022'), ('name', 'Portal:Archaeology'), ('p', 'http://www.wikidata.org/prop/direct/P1151'), ('p_name', \"topic's main Wikimedia portal\")]\n",
      "[('obj', 'http://www.wikidata.org/entity/Q7112557'), ('name', 'outline of archaeology'), ('p', 'http://www.wikidata.org/prop/direct/P2354'), ('p_name', 'has list')]\n",
      "[('obj', 'http://www.wikidata.org/entity/Q7112557'), ('name', 'outline of archaeology'), ('p', 'http://www.wikidata.org/prop/direct/P5125'), ('p_name', 'Wikimedia outline')]\n",
      "22\n"
     ]
    }
   ],
   "source": [
    "# 'archaeology' details\n",
    "queryString = \"\"\"\n",
    "SELECT DISTINCT ?obj ?name ?p ?p_name\n",
    "WHERE {\n",
    "   # bind something\n",
    "   wd:Q23498 ?p ?obj .\n",
    "   # get the label\n",
    "   ?p sc:name ?p_name.\n",
    "   ?obj sc:name ?name.\n",
    "}\n",
    "LIMIT 30\n",
    "\"\"\"\n",
    "\n",
    "print(\"Results\")\n",
    "x=run_query(queryString)"
   ]
  },
  {
   "cell_type": "markdown",
   "id": "6bcee853",
   "metadata": {},
   "source": [
    "Final query for this task"
   ]
  },
  {
   "cell_type": "code",
   "execution_count": 59,
   "id": "1a3032fd",
   "metadata": {},
   "outputs": [
    {
     "name": "stdout",
     "output_type": "stream",
     "text": [
      "Results\n",
      "[('obj', 'http://www.wikidata.org/entity/Q3621491'), ('name', 'archaeologist')]\n",
      "1\n"
     ]
    }
   ],
   "source": [
    "# write your final query\n",
    "\n",
    "queryString = \"\"\"\n",
    "SELECT DISTINCT ?obj ?name\n",
    "WHERE {\n",
    "   # bind something\n",
    "   wd:Q23498 wdt:P3095 ?obj .\n",
    "   # get the label\n",
    "   ?obj sc:name ?name.\n",
    "}\n",
    "LIMIT 30\n",
    "\"\"\"\n",
    "\n",
    "print(\"Results\")\n",
    "x=run_query(queryString)"
   ]
  },
  {
   "cell_type": "markdown",
   "id": "99e3c51c",
   "metadata": {},
   "source": [
    "## Task 5\n",
    "For each ancient civilization find the number of archeologists who worked on it (return also the civilizations with no archeologists) (the result set must be triples of civilization IRI, label and #archeologist)."
   ]
  },
  {
   "cell_type": "code",
   "execution_count": 3,
   "id": "c096e9e3",
   "metadata": {},
   "outputs": [
    {
     "name": "stdout",
     "output_type": "stream",
     "text": [
      "Results\n",
      "[('s', 'http://www.wikidata.org/entity/Q364239'), ('name', 'William Camden'), ('p', 'http://www.wikidata.org/prop/direct/P101'), ('p_name', 'field of work')]\n",
      "[('s', 'http://www.wikidata.org/entity/Q9176125'), ('name', 'Bohdan Janusz'), ('p', 'http://www.wikidata.org/prop/direct/P101'), ('p_name', 'field of work')]\n",
      "[('s', 'http://www.wikidata.org/entity/Q102139'), ('name', 'Margrethe II of Denmark'), ('p', 'http://www.wikidata.org/prop/direct/P101'), ('p_name', 'field of work')]\n",
      "[('s', 'http://www.wikidata.org/entity/Q20609875'), ('name', 'Numan Negmatov'), ('p', 'http://www.wikidata.org/prop/direct/P101'), ('p_name', 'field of work')]\n",
      "[('s', 'http://www.wikidata.org/entity/Q1677608'), ('name', 'Jacob Pinkerfield'), ('p', 'http://www.wikidata.org/prop/direct/P101'), ('p_name', 'field of work')]\n",
      "[('s', 'http://www.wikidata.org/entity/Q1821977'), ('name', 'Lev Perovski'), ('p', 'http://www.wikidata.org/prop/direct/P101'), ('p_name', 'field of work')]\n",
      "[('s', 'http://www.wikidata.org/entity/Q11398984'), ('name', 'Kyūzō Katō'), ('p', 'http://www.wikidata.org/prop/direct/P101'), ('p_name', 'field of work')]\n",
      "[('s', 'http://www.wikidata.org/entity/Q64887'), ('name', 'Yohanan Aharoni'), ('p', 'http://www.wikidata.org/prop/direct/P101'), ('p_name', 'field of work')]\n",
      "[('s', 'http://www.wikidata.org/entity/Q9370833'), ('name', 'Wanda Sarnowska'), ('p', 'http://www.wikidata.org/prop/direct/P101'), ('p_name', 'field of work')]\n",
      "[('s', 'http://www.wikidata.org/entity/Q600982'), ('name', 'Antonio Bosio'), ('p', 'http://www.wikidata.org/prop/direct/P101'), ('p_name', 'field of work')]\n",
      "[('s', 'http://www.wikidata.org/entity/Q4283229'), ('name', 'Boris Marshak'), ('p', 'http://www.wikidata.org/prop/direct/P101'), ('p_name', 'field of work')]\n",
      "[('s', 'http://www.wikidata.org/entity/Q98687020'), ('name', 'Revil Mason'), ('p', 'http://www.wikidata.org/prop/direct/P101'), ('p_name', 'field of work')]\n",
      "[('s', 'http://www.wikidata.org/entity/Q60141801'), ('name', 'Karenleigh A Overmann'), ('p', 'http://www.wikidata.org/prop/direct/P101'), ('p_name', 'field of work')]\n",
      "[('s', 'http://www.wikidata.org/entity/Q7066173'), ('name', 'Jacob Kaplan'), ('p', 'http://www.wikidata.org/prop/direct/P101'), ('p_name', 'field of work')]\n",
      "[('s', 'http://www.wikidata.org/entity/Q27928554'), ('name', 'Jan Jaskanis'), ('p', 'http://www.wikidata.org/prop/direct/P101'), ('p_name', 'field of work')]\n",
      "[('s', 'http://www.wikidata.org/entity/Q6542416'), ('name', 'Włodzimierz Antoniewicz'), ('p', 'http://www.wikidata.org/prop/direct/P101'), ('p_name', 'field of work')]\n",
      "[('s', 'http://www.wikidata.org/entity/Q23071535'), ('name', 'Zoya Abramova'), ('p', 'http://www.wikidata.org/prop/direct/P101'), ('p_name', 'field of work')]\n",
      "[('s', 'http://www.wikidata.org/entity/Q8463726'), ('name', 'Chengzuo Shang'), ('p', 'http://www.wikidata.org/prop/direct/P106'), ('p_name', 'occupation')]\n",
      "[('s', 'http://www.wikidata.org/entity/Q13638340'), ('name', 'Dagmar Jelínková'), ('p', 'http://www.wikidata.org/prop/direct/P106'), ('p_name', 'occupation')]\n",
      "[('s', 'http://www.wikidata.org/entity/Q15466790'), ('name', 'Josef Poppelreuter'), ('p', 'http://www.wikidata.org/prop/direct/P106'), ('p_name', 'occupation')]\n",
      "[('s', 'http://www.wikidata.org/entity/Q15729291'), ('name', 'Marino Marini'), ('p', 'http://www.wikidata.org/prop/direct/P106'), ('p_name', 'occupation')]\n",
      "[('s', 'http://www.wikidata.org/entity/Q15730811'), ('name', 'Hartmut Schäfer'), ('p', 'http://www.wikidata.org/prop/direct/P106'), ('p_name', 'occupation')]\n",
      "[('s', 'http://www.wikidata.org/entity/Q15731701'), ('name', 'Pietro Tessieri'), ('p', 'http://www.wikidata.org/prop/direct/P106'), ('p_name', 'occupation')]\n",
      "[('s', 'http://www.wikidata.org/entity/Q15733244'), ('name', 'Daring Do'), ('p', 'http://www.wikidata.org/prop/direct/P106'), ('p_name', 'occupation')]\n",
      "[('s', 'http://www.wikidata.org/entity/Q3839667'), ('name', 'Luigi Gaetano Marini'), ('p', 'http://www.wikidata.org/prop/direct/P106'), ('p_name', 'occupation')]\n",
      "[('s', 'http://www.wikidata.org/entity/Q104327'), ('name', 'Otto Rossbach'), ('p', 'http://www.wikidata.org/prop/direct/P106'), ('p_name', 'occupation')]\n",
      "[('s', 'http://www.wikidata.org/entity/Q15906413'), ('name', 'Frank Henry Stubbings'), ('p', 'http://www.wikidata.org/prop/direct/P106'), ('p_name', 'occupation')]\n",
      "[('s', 'http://www.wikidata.org/entity/Q5717733'), ('name', 'Henry Balfour'), ('p', 'http://www.wikidata.org/prop/direct/P106'), ('p_name', 'occupation')]\n",
      "[('s', 'http://www.wikidata.org/entity/Q704501'), ('name', 'Sergey Uvarov'), ('p', 'http://www.wikidata.org/prop/direct/P106'), ('p_name', 'occupation')]\n",
      "[('s', 'http://www.wikidata.org/entity/Q72860'), ('name', 'Gustav Hirschfeld'), ('p', 'http://www.wikidata.org/prop/direct/P106'), ('p_name', 'occupation')]\n",
      "30\n"
     ]
    }
   ],
   "source": [
    "# Things related to archeologist\n",
    "\n",
    "queryString = \"\"\"\n",
    "SELECT DISTINCT ?s ?name ?p ?p_name\n",
    "WHERE {\n",
    "   # bind something\n",
    "   ?s ?p wd:Q3621491 .\n",
    "   # get the label\n",
    "   ?s sc:name ?name.\n",
    "   ?p sc:name ?p_name.\n",
    "}\n",
    "LIMIT 30\n",
    "\"\"\"\n",
    "\n",
    "print(\"Results\")\n",
    "x=run_query(queryString)"
   ]
  },
  {
   "cell_type": "code",
   "execution_count": 4,
   "id": "9df4a659-0816-4269-bd06-10da68850eed",
   "metadata": {},
   "outputs": [
    {
     "name": "stdout",
     "output_type": "stream",
     "text": [
      "Results\n",
      "[('p', 'http://www.wikidata.org/prop/direct/P101'), ('p_name', 'field of work')]\n",
      "[('p', 'http://www.wikidata.org/prop/direct/P106'), ('p_name', 'occupation')]\n",
      "[('p', 'http://www.wikidata.org/prop/direct/P279'), ('p_name', 'subclass of')]\n",
      "[('p', 'http://www.wikidata.org/prop/direct/P301'), ('p_name', \"category's main topic\")]\n",
      "[('p', 'http://www.wikidata.org/prop/direct/P3095'), ('p_name', 'practiced by')]\n",
      "[('p', 'http://www.wikidata.org/prop/direct/P31'), ('p_name', 'instance of')]\n",
      "[('p', 'http://www.wikidata.org/prop/direct/P360'), ('p_name', 'is a list of')]\n",
      "[('p', 'http://www.wikidata.org/prop/direct/P361'), ('p_name', 'part of')]\n",
      "[('p', 'http://www.wikidata.org/prop/direct/P39'), ('p_name', 'position held')]\n",
      "[('p', 'http://www.wikidata.org/prop/direct/P3989'), ('p_name', 'members have occupation')]\n",
      "[('p', 'http://www.wikidata.org/prop/direct/P971'), ('p_name', 'category combines topics')]\n",
      "[('p', 'http://www.wikidata.org/prop/direct/P2925'), ('p_name', 'domain of saint or deity')]\n",
      "12\n"
     ]
    }
   ],
   "source": [
    "# Predicates related to archeologist\n",
    "\n",
    "queryString = \"\"\"\n",
    "SELECT DISTINCT ?p ?p_name\n",
    "WHERE {\n",
    "   # bind something\n",
    "   ?s ?p wd:Q3621491 .\n",
    "   # get the label\n",
    "   ?s sc:name ?name.\n",
    "   ?p sc:name ?p_name.\n",
    "}\n",
    "LIMIT 30\n",
    "\"\"\"\n",
    "\n",
    "print(\"Results\")\n",
    "x=run_query(queryString)"
   ]
  },
  {
   "cell_type": "code",
   "execution_count": 5,
   "id": "91ea8eec-01ff-4e79-99b8-540c250a763f",
   "metadata": {},
   "outputs": [
    {
     "name": "stdout",
     "output_type": "stream",
     "text": [
      "Results\n",
      "[('s', 'http://www.wikidata.org/entity/Q1492089'), ('name', 'list of archaeologists')]\n",
      "1\n"
     ]
    }
   ],
   "source": [
    "# Subjects related to is a list of archeologist\n",
    "\n",
    "queryString = \"\"\"\n",
    "SELECT DISTINCT ?s ?name\n",
    "WHERE {\n",
    "   # bind something\n",
    "   ?s wdt:P360 wd:Q3621491 .\n",
    "   # get the label\n",
    "   ?s sc:name ?name.\n",
    "   ?p sc:name ?p_name.\n",
    "}\n",
    "LIMIT 30\n",
    "\"\"\"\n",
    "\n",
    "print(\"Results\")\n",
    "x=run_query(queryString)"
   ]
  },
  {
   "cell_type": "code",
   "execution_count": 6,
   "id": "28602314-c690-416e-9cbe-d8c60ad78192",
   "metadata": {},
   "outputs": [
    {
     "name": "stdout",
     "output_type": "stream",
     "text": [
      "Results\n",
      "[('s', 'http://www.wikidata.org/entity/Q3621491'), ('name', 'archaeologist'), ('p', 'http://www.wikidata.org/prop/direct/P2354'), ('p_name', 'has list')]\n",
      "1\n"
     ]
    }
   ],
   "source": [
    "# Things related to list of archeologist\n",
    "\n",
    "queryString = \"\"\"\n",
    "SELECT DISTINCT ?s ?name ?p ?p_name\n",
    "WHERE {\n",
    "   # bind something\n",
    "   ?s ?p wd:Q1492089 .\n",
    "   # get the label\n",
    "   ?s sc:name ?name.\n",
    "   ?p sc:name ?p_name.\n",
    "}\n",
    "LIMIT 30\n",
    "\"\"\"\n",
    "\n",
    "print(\"Results\")\n",
    "x=run_query(queryString)"
   ]
  },
  {
   "cell_type": "code",
   "execution_count": 3,
   "id": "95084c33-4c26-4f4d-9f47-2a0b1c994e3c",
   "metadata": {},
   "outputs": [
    {
     "name": "stdout",
     "output_type": "stream",
     "text": [
      "Results\n",
      "Empty\n"
     ]
    }
   ],
   "source": [
    "# field of work of an archeologist\n",
    "\n",
    "queryString = \"\"\"\n",
    "SELECT DISTINCT ?o ?name\n",
    "WHERE {\n",
    "   # bind something\n",
    "   wd:Q3839667 wdt:P101 ?o .\n",
    "   # get the label\n",
    "   ?o sc:name ?name.\n",
    "}\n",
    "LIMIT 30\n",
    "\"\"\"\n",
    "\n",
    "print(\"Results\")\n",
    "x=run_query(queryString)"
   ]
  },
  {
   "cell_type": "code",
   "execution_count": 5,
   "id": "be51341f-484e-41c0-9d29-32246e658574",
   "metadata": {},
   "outputs": [
    {
     "name": "stdout",
     "output_type": "stream",
     "text": [
      "Results\n",
      "Empty\n"
     ]
    }
   ],
   "source": [
    "# field of work of some archeologist WRONG\n",
    "\n",
    "queryString = \"\"\"\n",
    "SELECT DISTINCT ?o ?name\n",
    "WHERE {\n",
    "   # bind something\n",
    "   ?a wdt:P106 wd:Q3621491 .\n",
    "   wd:Q3839667 wdt:P101 ?o .\n",
    "   # get the label\n",
    "   ?o sc:name ?name.\n",
    "}\n",
    "LIMIT 30\n",
    "\"\"\"\n",
    "\n",
    "print(\"Results\")\n",
    "x=run_query(queryString)"
   ]
  },
  {
   "cell_type": "code",
   "execution_count": 6,
   "id": "7e5bf47c-0c5f-400c-938f-12f9f740338b",
   "metadata": {},
   "outputs": [
    {
     "name": "stdout",
     "output_type": "stream",
     "text": [
      "Results\n",
      "[('a', 'http://www.wikidata.org/entity/Q8463726'), ('name', 'Chengzuo Shang')]\n",
      "[('a', 'http://www.wikidata.org/entity/Q13638340'), ('name', 'Dagmar Jelínková')]\n",
      "[('a', 'http://www.wikidata.org/entity/Q15466790'), ('name', 'Josef Poppelreuter')]\n",
      "[('a', 'http://www.wikidata.org/entity/Q15729291'), ('name', 'Marino Marini')]\n",
      "[('a', 'http://www.wikidata.org/entity/Q15730811'), ('name', 'Hartmut Schäfer')]\n",
      "[('a', 'http://www.wikidata.org/entity/Q15731701'), ('name', 'Pietro Tessieri')]\n",
      "[('a', 'http://www.wikidata.org/entity/Q15733244'), ('name', 'Daring Do')]\n",
      "[('a', 'http://www.wikidata.org/entity/Q3839667'), ('name', 'Luigi Gaetano Marini')]\n",
      "[('a', 'http://www.wikidata.org/entity/Q104327'), ('name', 'Otto Rossbach')]\n",
      "[('a', 'http://www.wikidata.org/entity/Q15906413'), ('name', 'Frank Henry Stubbings')]\n",
      "[('a', 'http://www.wikidata.org/entity/Q5717733'), ('name', 'Henry Balfour')]\n",
      "[('a', 'http://www.wikidata.org/entity/Q704501'), ('name', 'Sergey Uvarov')]\n",
      "[('a', 'http://www.wikidata.org/entity/Q72860'), ('name', 'Gustav Hirschfeld')]\n",
      "[('a', 'http://www.wikidata.org/entity/Q16019517'), ('name', 'Peter Allan Hansen')]\n",
      "[('a', 'http://www.wikidata.org/entity/Q16024023'), ('name', 'Luc-Francis Genicot')]\n",
      "[('a', 'http://www.wikidata.org/entity/Q16038601'), ('name', 'Michel Reddé')]\n",
      "[('a', 'http://www.wikidata.org/entity/Q16038607'), ('name', 'René Rebuffat')]\n",
      "[('a', 'http://www.wikidata.org/entity/Q17044808'), ('name', 'Rafael Gomà i Fontanet')]\n",
      "[('a', 'http://www.wikidata.org/entity/Q17062533'), ('name', 'Terje Gansum')]\n",
      "[('a', 'http://www.wikidata.org/entity/Q17064527'), ('name', 'Håkon Glørstad')]\n",
      "[('a', 'http://www.wikidata.org/entity/Q356317'), ('name', 'John Aubrey')]\n",
      "[('a', 'http://www.wikidata.org/entity/Q7513234'), ('name', 'Sigurd Grieg')]\n",
      "[('a', 'http://www.wikidata.org/entity/Q17181063'), ('name', 'Richard Walter')]\n",
      "[('a', 'http://www.wikidata.org/entity/Q17194883'), ('name', 'Anne Lene Melheim')]\n",
      "[('a', 'http://www.wikidata.org/entity/Q17221123'), ('name', 'Michio Maezono')]\n",
      "[('a', 'http://www.wikidata.org/entity/Q12424072'), ('name', 'Ghulam Yazdani')]\n",
      "[('a', 'http://www.wikidata.org/entity/Q9093309'), ('name', 'Vicente Lampérez y Romea')]\n",
      "[('a', 'http://www.wikidata.org/entity/Q1389266'), ('name', 'Alexandros Rizos Rangavis')]\n",
      "[('a', 'http://www.wikidata.org/entity/Q17466738'), ('name', 'Evelyn Byrd Harrison')]\n",
      "[('a', 'http://www.wikidata.org/entity/Q17617360'), ('name', 'Sergey Kuzminykh')]\n",
      "30\n"
     ]
    }
   ],
   "source": [
    "# some archeologist\n",
    "\n",
    "queryString = \"\"\"\n",
    "SELECT DISTINCT ?a ?name\n",
    "WHERE {\n",
    "   # bind something\n",
    "   ?a wdt:P106 wd:Q3621491 .\n",
    "   # get the label\n",
    "   ?a sc:name ?name.\n",
    "}\n",
    "LIMIT 30\n",
    "\"\"\"\n",
    "\n",
    "print(\"Results\")\n",
    "x=run_query(queryString)"
   ]
  },
  {
   "cell_type": "code",
   "execution_count": 7,
   "id": "f9d6c3d9-60ad-4965-8976-618a45cae0ff",
   "metadata": {},
   "outputs": [
    {
     "name": "stdout",
     "output_type": "stream",
     "text": [
      "Results\n",
      "[('o', 'http://www.wikidata.org/entity/Q1265179'), ('name', 'maritime archaeology')]\n",
      "[('o', 'http://www.wikidata.org/entity/Q636481'), ('name', 'paleoethnobotany')]\n",
      "[('o', 'http://www.wikidata.org/entity/Q213649'), ('name', 'Viking Age')]\n",
      "[('o', 'http://www.wikidata.org/entity/Q219488'), ('name', 'primatology')]\n",
      "[('o', 'http://www.wikidata.org/entity/Q2532901'), ('name', 'environmental archaeology')]\n",
      "[('o', 'http://www.wikidata.org/entity/Q7573930'), ('name', 'megalithic art')]\n",
      "[('o', 'http://www.wikidata.org/entity/Q1069'), ('name', 'geology')]\n",
      "[('o', 'http://www.wikidata.org/entity/Q130436'), ('name', 'history of Japan')]\n",
      "[('o', 'http://www.wikidata.org/entity/Q1569495'), ('name', 'lecturer')]\n",
      "[('o', 'http://www.wikidata.org/entity/Q208217'), ('name', 'literary studies')]\n",
      "[('o', 'http://www.wikidata.org/entity/Q37260'), ('name', 'writing')]\n",
      "[('o', 'http://www.wikidata.org/entity/Q476294'), ('name', 'Oriental studies')]\n",
      "[('o', 'http://www.wikidata.org/entity/Q4932206'), ('name', 'jurisprudence')]\n",
      "[('o', 'http://www.wikidata.org/entity/Q495527'), ('name', 'classical philology')]\n",
      "[('o', 'http://www.wikidata.org/entity/Q52139'), ('name', 'climatology')]\n",
      "[('o', 'http://www.wikidata.org/entity/Q61509'), ('name', 'travel')]\n",
      "[('o', 'http://www.wikidata.org/entity/Q631286'), ('name', 'numismatics')]\n",
      "[('o', 'http://www.wikidata.org/entity/Q7205'), ('name', 'paleontology')]\n",
      "[('o', 'http://www.wikidata.org/entity/Q119190'), ('name', 'medieval studies')]\n",
      "[('o', 'http://www.wikidata.org/entity/Q132151'), ('name', 'ethnography')]\n",
      "[('o', 'http://www.wikidata.org/entity/Q1669589'), ('name', 'classical archaeology')]\n",
      "[('o', 'http://www.wikidata.org/entity/Q51614'), ('name', 'Anatolia')]\n",
      "[('o', 'http://www.wikidata.org/entity/Q841090'), ('name', 'classics')]\n",
      "[('o', 'http://www.wikidata.org/entity/Q123028'), ('name', 'pediatrics')]\n",
      "[('o', 'http://www.wikidata.org/entity/Q132116'), ('name', 'folkloristics')]\n",
      "[('o', 'http://www.wikidata.org/entity/Q23404'), ('name', 'anthropology')]\n",
      "[('o', 'http://www.wikidata.org/entity/Q28598'), ('name', 'cultural anthropology')]\n",
      "[('o', 'http://www.wikidata.org/entity/Q38060'), ('name', 'Gaul')]\n",
      "[('o', 'http://www.wikidata.org/entity/Q52106'), ('name', 'biogeography')]\n",
      "[('o', 'http://www.wikidata.org/entity/Q642379'), ('name', 'history of Islam')]\n",
      "30\n"
     ]
    }
   ],
   "source": [
    "# field of work of some archeologists\n",
    "\n",
    "queryString = \"\"\"\n",
    "SELECT DISTINCT ?o ?name\n",
    "WHERE {\n",
    "   # bind something\n",
    "   ?a wdt:P106 wd:Q3621491 .\n",
    "   ?a wdt:P101 ?o .\n",
    "   # get the label\n",
    "   ?o sc:name ?name.\n",
    "}\n",
    "LIMIT 30\n",
    "\"\"\"\n",
    "\n",
    "print(\"Results\")\n",
    "x=run_query(queryString)"
   ]
  },
  {
   "cell_type": "code",
   "execution_count": 9,
   "id": "14d6eb7b-0074-4a24-825c-7a647331a039",
   "metadata": {},
   "outputs": [
    {
     "name": "stdout",
     "output_type": "stream",
     "text": [
      "Results\n",
      "[('o', 'http://www.wikidata.org/entity/Q41493'), ('name', 'ancient history')]\n",
      "[('o', 'http://www.wikidata.org/entity/Q7798'), ('name', 'history of ancient Greece')]\n",
      "[('o', 'http://www.wikidata.org/entity/Q11772'), ('name', 'Ancient Greece')]\n",
      "[('o', 'http://www.wikidata.org/entity/Q1747689'), ('name', 'Ancient Rome')]\n",
      "[('o', 'http://www.wikidata.org/entity/Q269678'), ('name', 'ancient Near East')]\n",
      "[('o', 'http://www.wikidata.org/entity/Q4246634'), ('name', 'Ancient Greek culture')]\n",
      "[('o', 'http://www.wikidata.org/entity/Q2429397'), ('name', 'Ancient Carthage')]\n",
      "[('o', 'http://www.wikidata.org/entity/Q337547'), ('name', 'ancient Roman religion')]\n",
      "[('o', 'http://www.wikidata.org/entity/Q4752916'), ('name', 'Ancient Roman pottery')]\n",
      "[('o', 'http://www.wikidata.org/entity/Q35966'), ('name', 'Ancient Celts')]\n",
      "[('o', 'http://www.wikidata.org/entity/Q855270'), ('name', 'religion in ancient Greece')]\n",
      "[('o', 'http://www.wikidata.org/entity/Q738680'), ('name', 'pottery of ancient Greece')]\n",
      "[('o', 'http://www.wikidata.org/entity/Q435608'), ('name', 'ancient history')]\n",
      "[('o', 'http://www.wikidata.org/entity/Q1747618'), ('name', 'ancient Greek art')]\n",
      "[('o', 'http://www.wikidata.org/entity/Q193748'), ('name', 'history of ancient Israel and Judah')]\n",
      "[('o', 'http://www.wikidata.org/entity/Q16656368'), ('name', 'history of Ancient Rus')]\n",
      "[('o', 'http://www.wikidata.org/entity/Q5706708'), ('name', 'Ancient Roman art in Spain')]\n",
      "[('o', 'http://www.wikidata.org/entity/Q617793'), ('name', 'ancient Greek sculpture')]\n",
      "[('o', 'http://www.wikidata.org/entity/Q2277510'), ('name', 'ancient art')]\n",
      "[('o', 'http://www.wikidata.org/entity/Q107013169'), ('name', 'religion in ancient Rome')]\n",
      "20\n"
     ]
    }
   ],
   "source": [
    "# field of work of some archeologists\n",
    "\n",
    "queryString = \"\"\"\n",
    "SELECT DISTINCT ?o ?name\n",
    "WHERE {\n",
    "   # bind something\n",
    "   ?a wdt:P106 wd:Q3621491 .\n",
    "   ?a wdt:P101 ?o .\n",
    "   # get the label\n",
    "   ?o sc:name ?name.\n",
    "   FILTER regex(?name, \"ancient\", \"i\")\n",
    "}\n",
    "LIMIT 30\n",
    "\"\"\"\n",
    "\n",
    "print(\"Results\")\n",
    "x=run_query(queryString)"
   ]
  },
  {
   "cell_type": "code",
   "execution_count": 8,
   "id": "b94a5468-5bf1-4b92-9726-eeb5d3018c7f",
   "metadata": {},
   "outputs": [
    {
     "name": "stdout",
     "output_type": "stream",
     "text": [
      "Results\n",
      "Empty\n"
     ]
    }
   ],
   "source": [
    "# archeologists working on Ancient Egypt\n",
    "\n",
    "queryString = \"\"\"\n",
    "SELECT DISTINCT ?a ?name\n",
    "WHERE {\n",
    "   # bind something\n",
    "   ?a wdt:P106 wd:Q3621491 .\n",
    "   ?a wdt:P101 wd:Q11768 .\n",
    "   # get the label\n",
    "   ?a sc:name ?name.\n",
    "}\n",
    "LIMIT 30\n",
    "\"\"\"\n",
    "\n",
    "print(\"Results\")\n",
    "x=run_query(queryString)"
   ]
  },
  {
   "cell_type": "code",
   "execution_count": 10,
   "id": "c49efc63-1f06-47c1-aadd-4287ea47dc8e",
   "metadata": {},
   "outputs": [
    {
     "name": "stdout",
     "output_type": "stream",
     "text": [
      "Results\n",
      "[('ac', 'http://www.wikidata.org/entity/Q28567'), ('name', 'Maya civilization'), ('num_ar', '2')]\n",
      "[('ac', 'http://www.wikidata.org/entity/Q41741'), ('name', 'Thrace'), ('num_ar', '1')]\n",
      "[('ac', 'http://www.wikidata.org/entity/Q11767'), ('name', 'Mesopotamia'), ('num_ar', '1')]\n",
      "[('ac', 'http://www.wikidata.org/entity/Q2429397'), ('name', 'Ancient Carthage'), ('num_ar', '7')]\n",
      "[('ac', 'http://www.wikidata.org/entity/Q38060'), ('name', 'Gaul'), ('num_ar', '3')]\n",
      "[('ac', 'http://www.wikidata.org/entity/Q193748'), ('name', 'history of ancient Israel and Judah'), ('num_ar', '1')]\n",
      "[('ac', 'http://www.wikidata.org/entity/Q1551054'), ('name', 'Israelite period'), ('num_ar', '2')]\n",
      "[('ac', 'http://www.wikidata.org/entity/Q11772'), ('name', 'Ancient Greece'), ('num_ar', '7')]\n",
      "8\n"
     ]
    }
   ],
   "source": [
    "# ancient civilizations and archeologists\n",
    "queryString = \"\"\"\n",
    "SELECT DISTINCT ?ac ?name (count(distinct ?ar) as ?num_ar)\n",
    "WHERE {\n",
    "   # bind something\n",
    "   ?ac wdt:P31 wd:Q28171280 . \n",
    "   ?ar wdt:P101 ?ac ;\n",
    "       wdt:P106 wd:Q3621491 .\n",
    "   # get the label\n",
    "   ?ac sc:name ?name.\n",
    "}\n",
    "GROUP BY ?ac ?name\n",
    "LIMIT 25\n",
    "\"\"\"\n",
    "\n",
    "print(\"Results\")\n",
    "x=run_query(queryString)"
   ]
  },
  {
   "cell_type": "markdown",
   "id": "7e109e16",
   "metadata": {},
   "source": [
    "Final query for this task"
   ]
  },
  {
   "cell_type": "code",
   "execution_count": 11,
   "id": "7073174a",
   "metadata": {},
   "outputs": [
    {
     "name": "stdout",
     "output_type": "stream",
     "text": [
      "Results\n",
      "[('ac', 'http://www.wikidata.org/entity/Q2429397'), ('name', 'Ancient Carthage'), ('num_ar', '7')]\n",
      "[('ac', 'http://www.wikidata.org/entity/Q11772'), ('name', 'Ancient Greece'), ('num_ar', '7')]\n",
      "[('ac', 'http://www.wikidata.org/entity/Q38060'), ('name', 'Gaul'), ('num_ar', '3')]\n",
      "[('ac', 'http://www.wikidata.org/entity/Q28567'), ('name', 'Maya civilization'), ('num_ar', '2')]\n",
      "[('ac', 'http://www.wikidata.org/entity/Q1551054'), ('name', 'Israelite period'), ('num_ar', '2')]\n",
      "[('ac', 'http://www.wikidata.org/entity/Q41741'), ('name', 'Thrace'), ('num_ar', '1')]\n",
      "[('ac', 'http://www.wikidata.org/entity/Q11767'), ('name', 'Mesopotamia'), ('num_ar', '1')]\n",
      "[('ac', 'http://www.wikidata.org/entity/Q193748'), ('name', 'history of ancient Israel and Judah'), ('num_ar', '1')]\n",
      "[('ac', 'http://www.wikidata.org/entity/Q128904'), ('name', 'Elam'), ('num_ar', '0')]\n",
      "[('ac', 'http://www.wikidata.org/entity/Q32047'), ('name', 'Illyria'), ('num_ar', '0')]\n",
      "[('ac', 'http://www.wikidata.org/entity/Q28405'), ('name', 'Gojoseon'), ('num_ar', '0')]\n",
      "[('ac', 'http://www.wikidata.org/entity/Q3327860'), ('name', 'Celtic kingdom of Ireland'), ('num_ar', '0')]\n",
      "[('ac', 'http://www.wikidata.org/entity/Q134178'), ('name', 'Minoan civilization'), ('num_ar', '0')]\n",
      "[('ac', 'http://www.wikidata.org/entity/Q173082'), ('name', 'Dacia'), ('num_ar', '0')]\n",
      "[('ac', 'http://www.wikidata.org/entity/Q25558247'), ('name', 'Chinese civilization'), ('num_ar', '0')]\n",
      "[('ac', 'http://www.wikidata.org/entity/Q1364601'), ('name', 'Gallo-Roman culture'), ('num_ar', '0')]\n",
      "[('ac', 'http://www.wikidata.org/entity/Q35355'), ('name', 'Sumer'), ('num_ar', '0')]\n",
      "[('ac', 'http://www.wikidata.org/entity/Q4752820'), ('name', 'Ancient Crete'), ('num_ar', '0')]\n",
      "[('ac', 'http://www.wikidata.org/entity/Q8735'), ('name', 'Medes'), ('num_ar', '0')]\n",
      "[('ac', 'http://www.wikidata.org/entity/Q768212'), ('name', 'Turco-Mongol'), ('num_ar', '0')]\n",
      "[('ac', 'http://www.wikidata.org/entity/Q185068'), ('name', 'Urartu'), ('num_ar', '0')]\n",
      "[('ac', 'http://www.wikidata.org/entity/Q42534'), ('name', 'Indus Valley Civilization'), ('num_ar', '0')]\n",
      "[('ac', 'http://www.wikidata.org/entity/Q244762'), ('name', 'Mari'), ('num_ar', '0')]\n",
      "[('ac', 'http://www.wikidata.org/entity/Q11768'), ('name', 'Ancient Egypt'), ('num_ar', '0')]\n",
      "[('ac', 'http://www.wikidata.org/entity/Q99304188'), ('name', 'Thracian'), ('num_ar', '0')]\n",
      "25\n"
     ]
    }
   ],
   "source": [
    "# write your final query\n",
    "# NOTE: A lot of data seems missing\n",
    "queryString = \"\"\"\n",
    "SELECT DISTINCT ?ac ?name (count(distinct ?ar) as ?num_ar)\n",
    "WHERE {\n",
    "   # bind something\n",
    "   ?ac wdt:P31 wd:Q28171280 . \n",
    "   optional {\n",
    "       ?ar wdt:P101 ?ac ;\n",
    "           wdt:P106 wd:Q3621491 .\n",
    "   }\n",
    "   # get the label\n",
    "   ?ac sc:name ?name.\n",
    "}\n",
    "GROUP BY ?ac ?name\n",
    "ORDER BY desc(?num_ar)\n",
    "LIMIT 25\n",
    "\"\"\"\n",
    "\n",
    "print(\"Results\")\n",
    "x=run_query(queryString)"
   ]
  },
  {
   "cell_type": "markdown",
   "id": "d3bc21eb",
   "metadata": {},
   "source": [
    "## Task 6\n",
    "Find the BGP for deity."
   ]
  },
  {
   "cell_type": "code",
   "execution_count": 7,
   "id": "7ca4810d-793a-4344-902e-42846668dbe0",
   "metadata": {},
   "outputs": [
    {
     "name": "stdout",
     "output_type": "stream",
     "text": [
      "Results\n",
      "[('obj', 'http://www.wikidata.org/entity/Q272006'), ('name', 'Antaeus'), ('p', 'http://www.wikidata.org/prop/direct/P40'), ('p_name', 'child')]\n",
      "[('obj', 'http://www.wikidata.org/entity/Q1817912'), ('name', 'Hyrieus'), ('p', 'http://www.wikidata.org/prop/direct/P40'), ('p_name', 'child')]\n",
      "[('obj', 'http://www.wikidata.org/entity/Q763268'), ('name', 'Alcyone'), ('p', 'http://www.wikidata.org/prop/direct/P451'), ('p_name', 'unmarried partner')]\n",
      "[('obj', 'http://www.wikidata.org/entity/Q1469237'), ('name', 'Sciron'), ('p', 'http://www.wikidata.org/prop/direct/P40'), ('p_name', 'child')]\n",
      "[('obj', 'http://www.wikidata.org/entity/Q192082'), ('name', 'Charybdis'), ('p', 'http://www.wikidata.org/prop/direct/P40'), ('p_name', 'child')]\n",
      "[('obj', 'http://www.wikidata.org/entity/Q29654939'), ('name', 'Achaeus'), ('p', 'http://www.wikidata.org/prop/direct/P40'), ('p_name', 'child')]\n",
      "[('obj', 'http://www.wikidata.org/entity/Q19800714'), ('name', 'Periboea'), ('p', 'http://www.wikidata.org/prop/direct/P451'), ('p_name', 'unmarried partner')]\n",
      "[('obj', 'http://www.wikidata.org/entity/Q320660'), ('name', 'Chrysaor'), ('p', 'http://www.wikidata.org/prop/direct/P40'), ('p_name', 'child')]\n",
      "[('obj', 'http://www.wikidata.org/entity/Q44204'), ('name', 'Cronus'), ('p', 'http://www.wikidata.org/prop/direct/P22'), ('p_name', 'father')]\n",
      "[('obj', 'http://www.wikidata.org/entity/Q80493'), ('name', 'Nausithous'), ('p', 'http://www.wikidata.org/prop/direct/P40'), ('p_name', 'child')]\n",
      "[('obj', 'http://www.wikidata.org/entity/Q35160'), ('name', 'Odyssey'), ('p', 'http://www.wikidata.org/prop/direct/P1441'), ('p_name', 'present in work')]\n",
      "[('obj', 'http://www.wikidata.org/entity/Q38012'), ('name', 'Hera'), ('p', 'http://www.wikidata.org/prop/direct/P3373'), ('p_name', 'sibling')]\n",
      "[('obj', 'http://www.wikidata.org/entity/Q833826'), ('name', 'Nauplius'), ('p', 'http://www.wikidata.org/prop/direct/P40'), ('p_name', 'child')]\n",
      "[('obj', 'http://www.wikidata.org/entity/Q1620067'), ('name', 'Hippothoe'), ('p', 'http://www.wikidata.org/prop/direct/P451'), ('p_name', 'unmarried partner')]\n",
      "[('obj', 'http://www.wikidata.org/entity/Q362738'), ('name', 'Taphius'), ('p', 'http://www.wikidata.org/prop/direct/P40'), ('p_name', 'child')]\n",
      "[('obj', 'http://www.wikidata.org/entity/Q1126715'), ('name', 'Tyro'), ('p', 'http://www.wikidata.org/prop/direct/P26'), ('p_name', 'spouse')]\n",
      "[('obj', 'http://www.wikidata.org/entity/Q28126889'), ('name', 'Periphetes'), ('p', 'http://www.wikidata.org/prop/direct/P40'), ('p_name', 'child')]\n",
      "[('obj', 'http://www.wikidata.org/entity/Q2071595'), ('name', 'Pero'), ('p', 'http://www.wikidata.org/prop/direct/P451'), ('p_name', 'unmarried partner')]\n",
      "[('obj', 'http://www.wikidata.org/entity/Q2349443'), ('name', 'Salamis'), ('p', 'http://www.wikidata.org/prop/direct/P451'), ('p_name', 'unmarried partner')]\n",
      "[('obj', 'http://www.wikidata.org/entity/Q4843985'), ('name', 'Pirene'), ('p', 'http://www.wikidata.org/prop/direct/P451'), ('p_name', 'unmarried partner')]\n",
      "[('obj', 'http://www.wikidata.org/entity/Q57157139'), ('name', 'Celusa'), ('p', 'http://www.wikidata.org/prop/direct/P451'), ('p_name', 'unmarried partner')]\n",
      "[('obj', 'http://www.wikidata.org/entity/Q622781'), ('name', 'Asopus'), ('p', 'http://www.wikidata.org/prop/direct/P40'), ('p_name', 'child')]\n",
      "[('obj', 'http://www.wikidata.org/entity/Q644692'), ('name', 'Corcyra'), ('p', 'http://www.wikidata.org/prop/direct/P26'), ('p_name', 'spouse')]\n",
      "[('obj', 'http://www.wikidata.org/entity/Q7179974'), ('name', 'Phaeax'), ('p', 'http://www.wikidata.org/prop/direct/P40'), ('p_name', 'child')]\n",
      "[('obj', 'http://www.wikidata.org/entity/Q686174'), ('name', 'Celaeno'), ('p', 'http://www.wikidata.org/prop/direct/P451'), ('p_name', 'unmarried partner')]\n",
      "[('obj', 'http://www.wikidata.org/entity/Q3618450'), ('name', 'Anthas'), ('p', 'http://www.wikidata.org/prop/direct/P40'), ('p_name', 'child')]\n",
      "[('obj', 'http://www.wikidata.org/entity/Q1362409'), ('name', 'Canace'), ('p', 'http://www.wikidata.org/prop/direct/P451'), ('p_name', 'unmarried partner')]\n",
      "[('obj', 'http://www.wikidata.org/entity/Q905409'), ('name', 'Dictys'), ('p', 'http://www.wikidata.org/prop/direct/P40'), ('p_name', 'child')]\n",
      "[('obj', 'http://www.wikidata.org/entity/Q20644862'), ('name', 'trident of Poseidon'), ('p', 'http://www.wikidata.org/prop/direct/P2283'), ('p_name', 'uses')]\n",
      "[('obj', 'http://www.wikidata.org/entity/Q20644862'), ('name', 'trident of Poseidon'), ('p', 'http://www.wikidata.org/prop/direct/P4185'), ('p_name', 'iconographic symbol')]\n",
      "30\n"
     ]
    }
   ],
   "source": [
    "# 'Poseidon' details\n",
    "queryString = \"\"\"\n",
    "SELECT DISTINCT ?obj ?name ?p ?p_name\n",
    "WHERE {\n",
    "   # bind something\n",
    "   wd:Q41127 ?p ?obj .\n",
    "   # get the label\n",
    "   ?p sc:name ?p_name.\n",
    "   ?obj sc:name ?name.\n",
    "}\n",
    "LIMIT 30\n",
    "\"\"\"\n",
    "\n",
    "print(\"Results\")\n",
    "x=run_query(queryString)"
   ]
  },
  {
   "cell_type": "code",
   "execution_count": 8,
   "id": "82177b65-ac1b-4260-87aa-189e752366be",
   "metadata": {},
   "outputs": [
    {
     "name": "stdout",
     "output_type": "stream",
     "text": [
      "Results\n",
      "[('p', 'http://www.wikidata.org/prop/direct/P40'), ('p_name', 'child')]\n",
      "[('p', 'http://www.wikidata.org/prop/direct/P451'), ('p_name', 'unmarried partner')]\n",
      "[('p', 'http://www.wikidata.org/prop/direct/P22'), ('p_name', 'father')]\n",
      "[('p', 'http://www.wikidata.org/prop/direct/P1441'), ('p_name', 'present in work')]\n",
      "[('p', 'http://www.wikidata.org/prop/direct/P3373'), ('p_name', 'sibling')]\n",
      "[('p', 'http://www.wikidata.org/prop/direct/P26'), ('p_name', 'spouse')]\n",
      "[('p', 'http://www.wikidata.org/prop/direct/P2283'), ('p_name', 'uses')]\n",
      "[('p', 'http://www.wikidata.org/prop/direct/P4185'), ('p_name', 'iconographic symbol')]\n",
      "[('p', 'http://www.wikidata.org/prop/direct/P1343'), ('p_name', 'described by source')]\n",
      "[('p', 'http://www.wikidata.org/prop/direct/P2925'), ('p_name', 'domain of saint or deity')]\n",
      "[('p', 'http://www.wikidata.org/prop/direct/P31'), ('p_name', 'instance of')]\n",
      "[('p', 'http://www.wikidata.org/prop/direct/P460'), ('p_name', 'said to be the same as')]\n",
      "[('p', 'http://www.wikidata.org/prop/direct/P21'), ('p_name', 'sex or gender')]\n",
      "[('p', 'http://www.wikidata.org/prop/direct/P361'), ('p_name', 'part of')]\n",
      "[('p', 'http://www.wikidata.org/prop/direct/P25'), ('p_name', 'mother')]\n",
      "[('p', 'http://www.wikidata.org/prop/direct/P1049'), ('p_name', 'worshipped by')]\n",
      "[('p', 'http://www.wikidata.org/prop/direct/P8822'), ('p_name', 'epithet')]\n",
      "[('p', 'http://www.wikidata.org/prop/direct/P910'), ('p_name', \"topic's main category\")]\n",
      "[('p', 'http://www.wikidata.org/prop/direct/P1299'), ('p_name', 'depicted by')]\n",
      "[('p', 'http://www.wikidata.org/prop/direct/P1889'), ('p_name', 'different from')]\n",
      "20\n"
     ]
    }
   ],
   "source": [
    "# 'Poseidon' predicates\n",
    "queryString = \"\"\"\n",
    "SELECT DISTINCT ?p ?p_name\n",
    "WHERE {\n",
    "   # bind something\n",
    "   wd:Q41127 ?p ?obj .\n",
    "   # get the label\n",
    "   ?p sc:name ?p_name.\n",
    "   ?obj sc:name ?name.\n",
    "}\n",
    "LIMIT 30\n",
    "\"\"\"\n",
    "\n",
    "print(\"Results\")\n",
    "x=run_query(queryString)"
   ]
  },
  {
   "cell_type": "code",
   "execution_count": 9,
   "id": "7a8005a2-47aa-41aa-8ef2-e804076a821f",
   "metadata": {},
   "outputs": [
    {
     "name": "stdout",
     "output_type": "stream",
     "text": [
      "Results\n",
      "[('obj', 'http://www.wikidata.org/entity/Q1916821'), ('name', 'water deity')]\n",
      "[('obj', 'http://www.wikidata.org/entity/Q22989102'), ('name', 'Greek deity')]\n",
      "2\n"
     ]
    }
   ],
   "source": [
    "# 'Poseidon' is istance of\n",
    "queryString = \"\"\"\n",
    "SELECT DISTINCT ?obj ?name\n",
    "WHERE {\n",
    "   # bind something\n",
    "   wd:Q41127 wdt:P31 ?obj .\n",
    "   # get the label\n",
    "   ?obj sc:name ?name.\n",
    "}\n",
    "LIMIT 30\n",
    "\"\"\"\n",
    "\n",
    "print(\"Results\")\n",
    "x=run_query(queryString)"
   ]
  },
  {
   "cell_type": "code",
   "execution_count": 10,
   "id": "6093ca77-76b2-4fd6-ae28-80f928394c6a",
   "metadata": {},
   "outputs": [
    {
     "name": "stdout",
     "output_type": "stream",
     "text": [
      "Results\n",
      "[('obj', 'http://www.wikidata.org/entity/Q95074'), ('name', 'fictional character'), ('p', 'http://www.wikidata.org/prop/direct/P279'), ('p_name', 'subclass of')]\n",
      "[('obj', 'http://www.wikidata.org/entity/Q11772'), ('name', 'Ancient Greece'), ('p', 'http://www.wikidata.org/prop/direct/P2596'), ('p_name', 'culture')]\n",
      "[('obj', 'http://www.wikidata.org/entity/Q22988604'), ('name', 'mythological Greek character'), ('p', 'http://www.wikidata.org/prop/direct/P279'), ('p_name', 'subclass of')]\n",
      "[('obj', 'http://www.wikidata.org/entity/Q178885'), ('name', 'deity'), ('p', 'http://www.wikidata.org/prop/direct/P279'), ('p_name', 'subclass of')]\n",
      "[('obj', 'http://www.wikidata.org/entity/Q34726'), ('name', 'Greek mythology'), ('p', 'http://www.wikidata.org/prop/direct/P361'), ('p_name', 'part of')]\n",
      "[('obj', 'http://www.wikidata.org/entity/Q855270'), ('name', 'religion in ancient Greece'), ('p', 'http://www.wikidata.org/prop/direct/P361'), ('p_name', 'part of')]\n",
      "[('obj', 'http://www.wikidata.org/entity/Q5825693'), ('name', 'Category:Greek deities'), ('p', 'http://www.wikidata.org/prop/direct/P910'), ('p_name', \"topic's main category\")]\n",
      "7\n"
     ]
    }
   ],
   "source": [
    "# 'Greek deity' details\n",
    "queryString = \"\"\"\n",
    "SELECT DISTINCT ?obj ?name ?p ?p_name\n",
    "WHERE {\n",
    "   # bind something\n",
    "   wd:Q22989102 ?p ?obj .\n",
    "   # get the label\n",
    "   ?p sc:name ?p_name.\n",
    "   ?obj sc:name ?name.\n",
    "}\n",
    "LIMIT 30\n",
    "\"\"\"\n",
    "\n",
    "print(\"Results\")\n",
    "x=run_query(queryString)"
   ]
  },
  {
   "cell_type": "markdown",
   "id": "fcdc43b5",
   "metadata": {},
   "source": [
    "Final query for this task"
   ]
  },
  {
   "cell_type": "code",
   "execution_count": 11,
   "id": "e3ab4ee6",
   "metadata": {},
   "outputs": [
    {
     "name": "stdout",
     "output_type": "stream",
     "text": [
      "Results\n",
      "[('obj', 'http://www.wikidata.org/entity/Q95074'), ('name', 'fictional character')]\n",
      "[('obj', 'http://www.wikidata.org/entity/Q22988604'), ('name', 'mythological Greek character')]\n",
      "[('obj', 'http://www.wikidata.org/entity/Q178885'), ('name', 'deity')]\n",
      "3\n"
     ]
    }
   ],
   "source": [
    "# write your final query\n",
    "queryString = \"\"\"\n",
    "SELECT DISTINCT ?obj ?name\n",
    "WHERE {\n",
    "   # bind something\n",
    "   wd:Q22989102 wdt:P279 ?obj .\n",
    "   # get the label\n",
    "   ?obj sc:name ?name.\n",
    "}\n",
    "LIMIT 30\n",
    "\"\"\"\n",
    "\n",
    "print(\"Results\")\n",
    "x=run_query(queryString)"
   ]
  },
  {
   "cell_type": "markdown",
   "id": "1eb9546e",
   "metadata": {},
   "source": [
    "## Task 7\n",
    "List all the twelve olympian greek deities (the result set must a list of 12 elements of couples of deity IRI and label)."
   ]
  },
  {
   "cell_type": "code",
   "execution_count": 12,
   "id": "91f9c812-a1c6-4a9b-90e4-d81e0f74992e",
   "metadata": {},
   "outputs": [
    {
     "name": "stdout",
     "output_type": "stream",
     "text": [
      "Results\n",
      "[('obj', 'http://www.wikidata.org/entity/Q101609'), ('name', 'Twelve Olympians')]\n",
      "1\n"
     ]
    }
   ],
   "source": [
    "# 'Poseidon' is part of\n",
    "queryString = \"\"\"\n",
    "SELECT DISTINCT ?obj ?name\n",
    "WHERE {\n",
    "   # bind something\n",
    "   wd:Q41127 wdt:P361 ?obj .\n",
    "   # get the label\n",
    "   ?obj sc:name ?name.\n",
    "}\n",
    "LIMIT 30\n",
    "\"\"\"\n",
    "\n",
    "print(\"Results\")\n",
    "x=run_query(queryString)"
   ]
  },
  {
   "cell_type": "markdown",
   "id": "73e42abf",
   "metadata": {},
   "source": [
    "Final query for this task"
   ]
  },
  {
   "cell_type": "code",
   "execution_count": 13,
   "id": "01dc49e7",
   "metadata": {},
   "outputs": [
    {
     "name": "stdout",
     "output_type": "stream",
     "text": [
      "Results\n",
      "[('s', 'http://www.wikidata.org/entity/Q37340'), ('name', 'Apollo')]\n",
      "[('s', 'http://www.wikidata.org/entity/Q37122'), ('name', 'Athena')]\n",
      "[('s', 'http://www.wikidata.org/entity/Q38012'), ('name', 'Hera')]\n",
      "[('s', 'http://www.wikidata.org/entity/Q39503'), ('name', 'Artemis')]\n",
      "[('s', 'http://www.wikidata.org/entity/Q44384'), ('name', 'Hephaestus')]\n",
      "[('s', 'http://www.wikidata.org/entity/Q41484'), ('name', 'Hermes')]\n",
      "[('s', 'http://www.wikidata.org/entity/Q41127'), ('name', 'Poseidon')]\n",
      "[('s', 'http://www.wikidata.org/entity/Q41419'), ('name', 'Hestia')]\n",
      "[('s', 'http://www.wikidata.org/entity/Q34201'), ('name', 'Zeus')]\n",
      "[('s', 'http://www.wikidata.org/entity/Q35500'), ('name', 'Aphrodite')]\n",
      "[('s', 'http://www.wikidata.org/entity/Q40730'), ('name', 'Demeter')]\n",
      "[('s', 'http://www.wikidata.org/entity/Q40901'), ('name', 'Ares')]\n",
      "12\n"
     ]
    }
   ],
   "source": [
    "# write your final query\n",
    "queryString = \"\"\"\n",
    "SELECT DISTINCT ?s ?name\n",
    "WHERE {\n",
    "   # bind something\n",
    "   ?s wdt:P361 wd:Q101609 .\n",
    "   # get the label\n",
    "   ?s sc:name ?name.\n",
    "}\n",
    "LIMIT 30\n",
    "\"\"\"\n",
    "\n",
    "print(\"Results\")\n",
    "x=run_query(queryString)"
   ]
  },
  {
   "cell_type": "markdown",
   "id": "9787ad1f",
   "metadata": {},
   "source": [
    "## Task 8\n",
    "Compare ancient Greece with ancient Egypt and find how many deities each one has."
   ]
  },
  {
   "cell_type": "code",
   "execution_count": 2,
   "id": "cbf1b3f2-c367-431d-ad8d-5c12c7f27837",
   "metadata": {},
   "outputs": [
    {
     "name": "stdout",
     "output_type": "stream",
     "text": [
      "Results\n",
      "[('obj', 'http://www.wikidata.org/entity/Q5648972'), ('name', 'Category:Deities'), ('p', 'http://www.wikidata.org/prop/direct/P910'), ('p_name', \"topic's main category\")]\n",
      "[('obj', 'http://www.wikidata.org/entity/Q106727050'), ('name', 'Metropolitan Museum of Art Tagging Vocabulary'), ('p', 'http://www.wikidata.org/prop/direct/P1343'), ('p_name', 'described by source')]\n",
      "[('obj', 'http://www.wikidata.org/entity/Q190'), ('name', 'God'), ('p', 'http://www.wikidata.org/prop/direct/P460'), ('p_name', 'said to be the same as')]\n",
      "[('obj', 'http://www.wikidata.org/entity/Q105890973'), ('name', 'supernatural realm'), ('p', 'http://www.wikidata.org/prop/direct/P1269'), ('p_name', 'facet of')]\n",
      "[('obj', 'http://www.wikidata.org/entity/Q17624054'), ('name', 'fictional deity'), ('p', 'http://www.wikidata.org/prop/direct/P1889'), ('p_name', 'different from')]\n",
      "[('obj', 'http://www.wikidata.org/entity/Q4271324'), ('name', 'mythical character'), ('p', 'http://www.wikidata.org/prop/direct/P279'), ('p_name', 'subclass of')]\n",
      "[('obj', 'http://www.wikidata.org/entity/Q15619164'), ('name', 'abstract being'), ('p', 'http://www.wikidata.org/prop/direct/P279'), ('p_name', 'subclass of')]\n",
      "[('obj', 'http://www.wikidata.org/entity/Q28855038'), ('name', 'supernatural being'), ('p', 'http://www.wikidata.org/prop/direct/P279'), ('p_name', 'subclass of')]\n",
      "[('obj', 'http://www.wikidata.org/entity/P551'), ('name', 'residence'), ('p', 'http://www.wikidata.org/prop/direct/P1963'), ('p_name', 'properties for this type')]\n",
      "[('obj', 'http://www.wikidata.org/entity/P460'), ('name', 'said to be the same as'), ('p', 'http://www.wikidata.org/prop/direct/P1963'), ('p_name', 'properties for this type')]\n",
      "[('obj', 'http://www.wikidata.org/entity/Q1379405'), ('name', 'divinity'), ('p', 'http://www.wikidata.org/prop/direct/P1552'), ('p_name', 'has quality')]\n",
      "[('obj', 'http://www.wikidata.org/entity/Q10809670'), ('name', 'Template:Infobox deity'), ('p', 'http://www.wikidata.org/prop/direct/P1424'), ('p_name', \"topic's main template\")]\n",
      "[('obj', 'http://www.wikidata.org/entity/Q17398299'), ('name', '’ilāh'), ('p', 'http://www.wikidata.org/prop/direct/P460'), ('p_name', 'said to be the same as')]\n",
      "[('obj', 'http://www.wikidata.org/entity/P1049'), ('name', 'worshipped by'), ('p', 'http://www.wikidata.org/prop/direct/P1963'), ('p_name', 'properties for this type')]\n",
      "[('obj', 'http://www.wikidata.org/entity/P2925'), ('name', 'domain of saint or deity'), ('p', 'http://www.wikidata.org/prop/direct/P1687'), ('p_name', 'Wikidata property')]\n",
      "[('obj', 'http://www.wikidata.org/entity/P2925'), ('name', 'domain of saint or deity'), ('p', 'http://www.wikidata.org/prop/direct/P1963'), ('p_name', 'properties for this type')]\n",
      "[('obj', 'http://www.wikidata.org/entity/P4185'), ('name', 'iconographic symbol'), ('p', 'http://www.wikidata.org/prop/direct/P1963'), ('p_name', 'properties for this type')]\n",
      "[('obj', 'http://www.wikidata.org/entity/P4675'), ('name', 'appears in the form of'), ('p', 'http://www.wikidata.org/prop/direct/P1963'), ('p_name', 'properties for this type')]\n",
      "[('obj', 'http://www.wikidata.org/entity/Q13397408'), ('name', 'Božstvo'), ('p', 'http://www.wikidata.org/prop/direct/P1889'), ('p_name', 'different from')]\n",
      "[('obj', 'http://www.wikidata.org/entity/Q614503'), ('name', 'list of deities'), ('p', 'http://www.wikidata.org/prop/direct/P2354'), ('p_name', 'has list')]\n",
      "20\n"
     ]
    }
   ],
   "source": [
    "# 'deity' details\n",
    "queryString = \"\"\"\n",
    "SELECT DISTINCT ?obj ?name ?p ?p_name\n",
    "WHERE {\n",
    "   # bind something\n",
    "   wd:Q178885 ?p ?obj .\n",
    "   # get the label\n",
    "   ?p sc:name ?p_name.\n",
    "   ?obj sc:name ?name.\n",
    "}\n",
    "LIMIT 30\n",
    "\"\"\"\n",
    "\n",
    "print(\"Results\")\n",
    "x=run_query(queryString)"
   ]
  },
  {
   "cell_type": "code",
   "execution_count": 3,
   "id": "87caca27-9552-4fe8-b15b-653c9720427f",
   "metadata": {},
   "outputs": [
    {
     "name": "stdout",
     "output_type": "stream",
     "text": [
      "Results\n",
      "[('s', 'http://www.wikidata.org/entity/Q138840'), ('name', 'Common Germanic deities')]\n",
      "[('s', 'http://www.wikidata.org/entity/Q642405'), ('name', 'dying-and-rising deity')]\n",
      "[('s', 'http://www.wikidata.org/entity/Q1207451'), ('name', 'xian')]\n",
      "[('s', 'http://www.wikidata.org/entity/Q3032311'), ('name', 'Native American deity')]\n",
      "[('s', 'http://www.wikidata.org/entity/Q4089509'), ('name', 'Deva')]\n",
      "[('s', 'http://www.wikidata.org/entity/Q94194127'), ('name', 'deity of mordvin pantheon')]\n",
      "[('s', 'http://www.wikidata.org/entity/Q1470705'), ('name', 'fertility deity')]\n",
      "[('s', 'http://www.wikidata.org/entity/Q1569856'), ('name', 'lunar deity')]\n",
      "[('s', 'http://www.wikidata.org/entity/Q16513881'), ('name', 'Norse deity')]\n",
      "[('s', 'http://www.wikidata.org/entity/Q41863069'), ('name', 'war deity')]\n",
      "[('s', 'http://www.wikidata.org/entity/Q511056'), ('name', 'solar deity')]\n",
      "[('s', 'http://www.wikidata.org/entity/Q6058157'), ('name', 'god')]\n",
      "[('s', 'http://www.wikidata.org/entity/Q635155'), ('name', 'creator deity')]\n",
      "[('s', 'http://www.wikidata.org/entity/Q290460'), ('name', 'Orisha')]\n",
      "[('s', 'http://www.wikidata.org/entity/Q465434'), ('name', 'Celtic deity')]\n",
      "[('s', 'http://www.wikidata.org/entity/Q929799'), ('name', 'Sebitti')]\n",
      "[('s', 'http://www.wikidata.org/entity/Q3027597'), ('name', 'Taoist deity')]\n",
      "[('s', 'http://www.wikidata.org/entity/Q50078178'), ('name', 'Health deities')]\n",
      "[('s', 'http://www.wikidata.org/entity/Q42594143'), ('name', 'Mayan god')]\n",
      "[('s', 'http://www.wikidata.org/entity/Q1589492'), ('name', 'King of the Gods')]\n",
      "[('s', 'http://www.wikidata.org/entity/Q11688446'), ('name', 'Roman deity')]\n",
      "[('s', 'http://www.wikidata.org/entity/Q13405593'), ('name', 'nature deity')]\n",
      "[('s', 'http://www.wikidata.org/entity/Q190'), ('name', 'God')]\n",
      "[('s', 'http://www.wikidata.org/entity/Q979507'), ('name', 'Hindu deity')]\n",
      "[('s', 'http://www.wikidata.org/entity/Q42593818'), ('name', 'Etruscan deity')]\n",
      "[('s', 'http://www.wikidata.org/entity/Q61961377'), ('name', 'Mesopotamian deity')]\n",
      "[('s', 'http://www.wikidata.org/entity/Q8208709'), ('name', 'divine attribute')]\n",
      "[('s', 'http://www.wikidata.org/entity/Q1106393'), ('name', 'triple deity')]\n",
      "[('s', 'http://www.wikidata.org/entity/Q146083'), ('name', 'Ancient Egyptian deity')]\n",
      "[('s', 'http://www.wikidata.org/entity/Q205985'), ('name', 'goddess')]\n",
      "30\n"
     ]
    }
   ],
   "source": [
    "# Subclasses of 'deity'\n",
    "queryString = \"\"\"\n",
    "SELECT DISTINCT ?s ?name\n",
    "WHERE {\n",
    "   # bind something\n",
    "   ?s wdt:P279 wd:Q178885 .\n",
    "   # get the label\n",
    "   ?s sc:name ?name.\n",
    "}\n",
    "LIMIT 30\n",
    "\"\"\"\n",
    "\n",
    "print(\"Results\")\n",
    "x=run_query(queryString)"
   ]
  },
  {
   "cell_type": "code",
   "execution_count": 2,
   "id": "7d778f32-c97e-4828-8c05-9df2719d0ffc",
   "metadata": {},
   "outputs": [
    {
     "name": "stdout",
     "output_type": "stream",
     "text": [
      "Results\n",
      "[('s', 'http://www.wikidata.org/entity/Q6573004'), ('name', 'Heliopolitans'), ('p', 'http://www.wikidata.org/prop/direct/P144'), ('p_name', 'based on')]\n",
      "[('s', 'http://www.wikidata.org/entity/Q108092253'), ('name', 'Ancient Egyptian pantheon'), ('p', 'http://www.wikidata.org/prop/direct/P2670'), ('p_name', 'has parts of the class')]\n",
      "[('s', 'http://www.wikidata.org/entity/Q48803719'), ('name', 'Cavern deities of the underworld'), ('p', 'http://www.wikidata.org/prop/direct/P279'), ('p_name', 'subclass of')]\n",
      "[('s', 'http://www.wikidata.org/entity/Q48803736'), ('name', 'Gate deities of the underworld'), ('p', 'http://www.wikidata.org/prop/direct/P279'), ('p_name', 'subclass of')]\n",
      "[('s', 'http://www.wikidata.org/entity/Q9777847'), ('name', 'Category:Egyptian deities'), ('p', 'http://www.wikidata.org/prop/direct/P301'), ('p_name', \"category's main topic\")]\n",
      "[('s', 'http://www.wikidata.org/entity/Q7214264'), ('name', 'Category:Egyptian gods'), ('p', 'http://www.wikidata.org/prop/direct/P301'), ('p_name', \"category's main topic\")]\n",
      "[('s', 'http://www.wikidata.org/entity/Q145915'), ('name', 'Nekhbet'), ('p', 'http://www.wikidata.org/prop/direct/P31'), ('p_name', 'instance of')]\n",
      "[('s', 'http://www.wikidata.org/entity/Q58373'), ('name', 'Amun'), ('p', 'http://www.wikidata.org/prop/direct/P31'), ('p_name', 'instance of')]\n",
      "[('s', 'http://www.wikidata.org/entity/Q2620491'), ('name', 'Werethekau'), ('p', 'http://www.wikidata.org/prop/direct/P31'), ('p_name', 'instance of')]\n",
      "[('s', 'http://www.wikidata.org/entity/Q170569'), ('name', 'Atum'), ('p', 'http://www.wikidata.org/prop/direct/P31'), ('p_name', 'instance of')]\n",
      "[('s', 'http://www.wikidata.org/entity/Q211611'), ('name', 'Anuket'), ('p', 'http://www.wikidata.org/prop/direct/P31'), ('p_name', 'instance of')]\n",
      "[('s', 'http://www.wikidata.org/entity/Q146313'), ('name', 'Sobek'), ('p', 'http://www.wikidata.org/prop/direct/P31'), ('p_name', 'instance of')]\n",
      "[('s', 'http://www.wikidata.org/entity/Q1252904'), ('name', 'Ra'), ('p', 'http://www.wikidata.org/prop/direct/P31'), ('p_name', 'instance of')]\n",
      "[('s', 'http://www.wikidata.org/entity/Q130227'), ('name', 'Aten'), ('p', 'http://www.wikidata.org/prop/direct/P31'), ('p_name', 'instance of')]\n",
      "[('s', 'http://www.wikidata.org/entity/Q133343'), ('name', 'Hathor'), ('p', 'http://www.wikidata.org/prop/direct/P31'), ('p_name', 'instance of')]\n",
      "[('s', 'http://www.wikidata.org/entity/Q845614'), ('name', 'Maahes'), ('p', 'http://www.wikidata.org/prop/direct/P31'), ('p_name', 'instance of')]\n",
      "[('s', 'http://www.wikidata.org/entity/Q116273'), ('name', 'Tefnut'), ('p', 'http://www.wikidata.org/prop/direct/P31'), ('p_name', 'instance of')]\n",
      "[('s', 'http://www.wikidata.org/entity/Q1936121'), ('name', 'Min-Kamutef'), ('p', 'http://www.wikidata.org/prop/direct/P31'), ('p_name', 'instance of')]\n",
      "[('s', 'http://www.wikidata.org/entity/Q1627813'), ('name', 'Horus the Child'), ('p', 'http://www.wikidata.org/prop/direct/P31'), ('p_name', 'instance of')]\n",
      "[('s', 'http://www.wikidata.org/entity/Q790000'), ('name', 'Banebdjedet'), ('p', 'http://www.wikidata.org/prop/direct/P31'), ('p_name', 'instance of')]\n",
      "[('s', 'http://www.wikidata.org/entity/Q146321'), ('name', 'Ptah'), ('p', 'http://www.wikidata.org/prop/direct/P31'), ('p_name', 'instance of')]\n",
      "[('s', 'http://www.wikidata.org/entity/Q1126848'), ('name', 'Huh'), ('p', 'http://www.wikidata.org/prop/direct/P31'), ('p_name', 'instance of')]\n",
      "[('s', 'http://www.wikidata.org/entity/Q29409'), ('name', 'Mut'), ('p', 'http://www.wikidata.org/prop/direct/P31'), ('p_name', 'instance of')]\n",
      "[('s', 'http://www.wikidata.org/entity/Q590467'), ('name', 'Baʿal'), ('p', 'http://www.wikidata.org/prop/direct/P31'), ('p_name', 'instance of')]\n",
      "[('s', 'http://www.wikidata.org/entity/Q620863'), ('name', 'Khenti-Amentiu'), ('p', 'http://www.wikidata.org/prop/direct/P31'), ('p_name', 'instance of')]\n",
      "[('s', 'http://www.wikidata.org/entity/Q464227'), ('name', 'Nefertem'), ('p', 'http://www.wikidata.org/prop/direct/P31'), ('p_name', 'instance of')]\n",
      "[('s', 'http://www.wikidata.org/entity/Q1141220'), ('name', 'Hapi (Son of Horus)'), ('p', 'http://www.wikidata.org/prop/direct/P31'), ('p_name', 'instance of')]\n",
      "[('s', 'http://www.wikidata.org/entity/Q1353960'), ('name', 'Kebehet'), ('p', 'http://www.wikidata.org/prop/direct/P31'), ('p_name', 'instance of')]\n",
      "[('s', 'http://www.wikidata.org/entity/Q46491'), ('name', 'Osiris'), ('p', 'http://www.wikidata.org/prop/direct/P31'), ('p_name', 'instance of')]\n",
      "[('s', 'http://www.wikidata.org/entity/Q47534'), ('name', 'Anubis'), ('p', 'http://www.wikidata.org/prop/direct/P31'), ('p_name', 'instance of')]\n",
      "30\n"
     ]
    }
   ],
   "source": [
    "# Things related to 'Ancient Egyptian deity'\n",
    "queryString = \"\"\"\n",
    "SELECT DISTINCT ?s ?name ?p ?p_name\n",
    "WHERE {\n",
    "   # bind something\n",
    "   ?s ?p wd:Q146083 .\n",
    "   # get the label\n",
    "   ?s sc:name ?name.\n",
    "   ?p sc:name ?p_name.\n",
    "}\n",
    "LIMIT 30\n",
    "\"\"\"\n",
    "\n",
    "print(\"Results\")\n",
    "x=run_query(queryString)"
   ]
  },
  {
   "cell_type": "code",
   "execution_count": 12,
   "id": "1dae79eb-dc2c-441d-88de-722bb879a859",
   "metadata": {},
   "outputs": [
    {
     "name": "stdout",
     "output_type": "stream",
     "text": [
      "Results\n",
      "[('num', '281')]\n",
      "1\n"
     ]
    }
   ],
   "source": [
    "# num of istances of 'Ancient Egyptian deity'\n",
    "queryString = \"\"\"\n",
    "SELECT (count(DISTINCT ?s) as ?num)\n",
    "WHERE {\n",
    "   # bind something\n",
    "   ?s wdt:P31 wd:Q146083 .\n",
    "}\n",
    "LIMIT 30\n",
    "\"\"\"\n",
    "\n",
    "print(\"Results\")\n",
    "x=run_query(queryString)"
   ]
  },
  {
   "cell_type": "code",
   "execution_count": 13,
   "id": "d51fb5b9-ddad-4f54-9caf-bd19284d7a06",
   "metadata": {},
   "outputs": [
    {
     "name": "stdout",
     "output_type": "stream",
     "text": [
      "Results\n",
      "[('num', '252')]\n",
      "1\n"
     ]
    }
   ],
   "source": [
    "# num of istances of 'Greek deity'\n",
    "queryString = \"\"\"\n",
    "SELECT (count(DISTINCT ?s) as ?num)\n",
    "WHERE {\n",
    "   # bind something\n",
    "   ?s wdt:P31 wd:Q22989102 .\n",
    "}\n",
    "LIMIT 30\n",
    "\"\"\"\n",
    "\n",
    "print(\"Results\")\n",
    "x=run_query(queryString)"
   ]
  },
  {
   "cell_type": "code",
   "execution_count": 14,
   "id": "1d48690e-9f74-457f-b217-348552e4faa0",
   "metadata": {},
   "outputs": [
    {
     "name": "stdout",
     "output_type": "stream",
     "text": [
      "Results\n",
      "[('s', 'http://www.wikidata.org/entity/Q5081127'), ('name', 'Acmon')]\n",
      "[('s', 'http://www.wikidata.org/entity/Q366533'), ('name', 'Adranus')]\n",
      "[('s', 'http://www.wikidata.org/entity/Q3362052'), ('name', 'Pandora')]\n",
      "[('s', 'http://www.wikidata.org/entity/Q6612'), ('name', 'Charon')]\n",
      "[('s', 'http://www.wikidata.org/entity/Q2144233'), ('name', 'Pheme')]\n",
      "[('s', 'http://www.wikidata.org/entity/Q1120723'), ('name', 'Pheme')]\n",
      "[('s', 'http://www.wikidata.org/entity/Q1862189'), ('name', 'Paean')]\n",
      "[('s', 'http://www.wikidata.org/entity/Q1775444'), ('name', 'Phosphorus')]\n",
      "[('s', 'http://www.wikidata.org/entity/Q178417'), ('name', 'Eos')]\n",
      "[('s', 'http://www.wikidata.org/entity/Q59697'), ('name', 'Hesperus')]\n",
      "[('s', 'http://www.wikidata.org/entity/Q1084868'), ('name', 'Lyssa')]\n",
      "[('s', 'http://www.wikidata.org/entity/Q1294659'), ('name', 'Telesphorus')]\n",
      "[('s', 'http://www.wikidata.org/entity/Q18423351'), ('name', 'Basileia')]\n",
      "[('s', 'http://www.wikidata.org/entity/Q185670'), ('name', 'Echidna')]\n",
      "[('s', 'http://www.wikidata.org/entity/Q37340'), ('name', 'Apollo')]\n",
      "[('s', 'http://www.wikidata.org/entity/Q83223'), ('name', 'Asclepius')]\n",
      "[('s', 'http://www.wikidata.org/entity/Q850227'), ('name', 'Panacea')]\n",
      "[('s', 'http://www.wikidata.org/entity/Q1073827'), ('name', 'Pandia')]\n",
      "[('s', 'http://www.wikidata.org/entity/Q131585'), ('name', 'Selene')]\n",
      "[('s', 'http://www.wikidata.org/entity/Q134270'), ('name', 'Helios')]\n",
      "[('s', 'http://www.wikidata.org/entity/Q1977078'), ('name', 'Nemea')]\n",
      "[('s', 'http://www.wikidata.org/entity/Q37122'), ('name', 'Athena')]\n",
      "[('s', 'http://www.wikidata.org/entity/Q38012'), ('name', 'Hera')]\n",
      "[('s', 'http://www.wikidata.org/entity/Q39503'), ('name', 'Artemis')]\n",
      "[('s', 'http://www.wikidata.org/entity/Q44384'), ('name', 'Hephaestus')]\n",
      "[('s', 'http://www.wikidata.org/entity/Q10514702'), ('name', 'Limos')]\n",
      "[('s', 'http://www.wikidata.org/entity/Q140001'), ('name', 'Eris')]\n",
      "[('s', 'http://www.wikidata.org/entity/Q174190'), ('name', 'Ponos')]\n",
      "[('s', 'http://www.wikidata.org/entity/Q3320210'), ('name', 'Algos')]\n",
      "[('s', 'http://www.wikidata.org/entity/Q132582'), ('name', 'Pan')]\n",
      "30\n"
     ]
    }
   ],
   "source": [
    "# check num of istances of 'Greek deity'\n",
    "queryString = \"\"\"\n",
    "SELECT ?s ?name\n",
    "WHERE {\n",
    "   # bind something\n",
    "   ?s wdt:P31 wd:Q22989102 .\n",
    "   ?s sc:name ?name.\n",
    "}\n",
    "LIMIT 30\n",
    "\"\"\"\n",
    "\n",
    "print(\"Results\")\n",
    "x=run_query(queryString)"
   ]
  },
  {
   "cell_type": "markdown",
   "id": "ab6c0f99",
   "metadata": {},
   "source": [
    "Final query for this task"
   ]
  },
  {
   "cell_type": "code",
   "execution_count": 2,
   "id": "692d4b80",
   "metadata": {},
   "outputs": [
    {
     "name": "stdout",
     "output_type": "stream",
     "text": [
      "Results\n",
      "[('eg_num', '281'), ('gr_num', '252')]\n",
      "1\n"
     ]
    }
   ],
   "source": [
    "# write your final query\n",
    "# NOTE: The number of Egyptian deities is clearly wrong\n",
    "queryString = \"\"\"\n",
    "SELECT ?eg_num ?gr_num\n",
    "WHERE {\n",
    "   # bind something\n",
    "   {\n",
    "       SELECT (count(DISTINCT ?s) as ?eg_num)\n",
    "        WHERE {\n",
    "           # bind something\n",
    "           ?s wdt:P31 wd:Q146083 .\n",
    "        }\n",
    "    } .\n",
    "   {\n",
    "       SELECT (count(DISTINCT ?s) as ?gr_num)\n",
    "        WHERE {\n",
    "           # bind something\n",
    "           ?s wdt:P31 wd:Q22989102 .\n",
    "        }\n",
    "    }\n",
    "}\n",
    "LIMIT 30\n",
    "\"\"\"\n",
    "\n",
    "print(\"Results\")\n",
    "x=run_query(queryString)"
   ]
  }
 ],
 "metadata": {
  "kernelspec": {
   "display_name": "Python 3",
   "language": "python",
   "name": "python3"
  },
  "language_info": {
   "codemirror_mode": {
    "name": "ipython",
    "version": 3
   },
   "file_extension": ".py",
   "mimetype": "text/x-python",
   "name": "python",
   "nbconvert_exporter": "python",
   "pygments_lexer": "ipython3",
   "version": "3.7.10"
  }
 },
 "nbformat": 4,
 "nbformat_minor": 5
}
