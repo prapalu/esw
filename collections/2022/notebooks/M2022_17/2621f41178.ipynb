{
 "cells": [
  {
   "cell_type": "markdown",
   "id": "737dc37d",
   "metadata": {},
   "source": [
    "# General instructions\n",
    "\n",
    "The goal of the project is to materialize a set of **exploratory workloads** over a real-world, large-scale,  open-domain KG: [WikiData](https://www.wikidata.org/wiki/Wikidata:Main_Page)\n",
    "\n",
    "An exploratory workload  is composed by a set of queries, where each query is related to the information obtained previously.\n",
    "\n",
    "An exploratory workload starts with a usually vague, open ended question, and does not assume the person issuing the workload has a clear understanding of the data contained in the target database or its structure.\n",
    "\n",
    "Remeber that:\n",
    "\n",
    "1. All the queries must run in the python notebook\n",
    "2. You can use classes and properties only if you find them via a SPARQL query that must be present in the notebook\n",
    "3. You do not delete useless queries. Keep everything that is synthatically valid \n",
    "\n",
    "```\n",
    "?p <http://schema.org/name> ?name .\n",
    "```\n",
    "    \n",
    "    is the BGP returning a human-readable name of a property or a class in Wikidata.\n",
    "    \n",
    "    "
   ]
  },
  {
   "cell_type": "code",
   "execution_count": 1,
   "id": "47fc7def",
   "metadata": {},
   "outputs": [],
   "source": [
    "## SETUP used later\n",
    "\n",
    "from SPARQLWrapper import SPARQLWrapper, JSON\n",
    "\n",
    "\n",
    "prefixString = \"\"\"\n",
    "##-2621f41178-##\n",
    "PREFIX wd: <http://www.wikidata.org/entity/> \n",
    "PREFIX wdt: <http://www.wikidata.org/prop/direct/> \n",
    "PREFIX sc: <http://schema.org/>\n",
    "\"\"\"\n",
    "\n",
    "# select and construct queries\n",
    "def run_query(queryString,verbose = True):\n",
    "    to_run = prefixString + \"\\n\" + queryString\n",
    "\n",
    "    sparql = SPARQLWrapper(\"http://a256-gc1-03.srv.aau.dk:5820/sparql\")\n",
    "    sparql.setTimeout(300)\n",
    "    sparql.setReturnFormat(JSON)\n",
    "    sparql.setQuery(to_run)\n",
    "\n",
    "    try :\n",
    "        results = sparql.query()\n",
    "        json_results = results.convert()\n",
    "        if len(json_results['results']['bindings'])==0:\n",
    "            print(\"Empty\")\n",
    "            return []\n",
    "        array = []\n",
    "        for bindings in json_results['results']['bindings']:\n",
    "            app =  [ (var, value['value'])  for var, value in bindings.items() ] \n",
    "            if verbose:\n",
    "                print( app)\n",
    "            array.append(app)\n",
    "        if verbose:\n",
    "            print(len(array))\n",
    "        return array\n",
    "\n",
    "    except Exception as e :\n",
    "        print(\"The operation failed\", e)\n",
    "    \n",
    "# ASk queries\n",
    "def run_ask_query(queryString):\n",
    "    to_run = prefixString + \"\\n\" + queryString\n",
    "\n",
    "    sparql = SPARQLWrapper(\"http://a256-gc1-03.srv.aau.dk:5820/sparql\")\n",
    "    sparql.setTimeout(300)\n",
    "    sparql.setReturnFormat(JSON)\n",
    "    sparql.setQuery(to_run)\n",
    "\n",
    "    try :\n",
    "        return sparql.query().convert()\n",
    "\n",
    "    except Exception as e :\n",
    "        print(\"The operation failed\", e)"
   ]
  },
  {
   "cell_type": "markdown",
   "id": "5a9b4ef2",
   "metadata": {},
   "source": [
    "# Movie Workflow Series (\"Tv series HIMYM explorative search\") \n",
    "\n",
    "\n",
    "Consider the following exploratory scenario:\n",
    "\n",
    "\n",
    "> we are interested in the TV series \"How I met your mother\" and we want to investigate the main aspects related to the actors and directors involved in the production, know the numerber of seasons and check what are the episodes which got the higher success/impact.\n",
    "\n",
    "\n",
    "## Useful URIs for the current workflow\n",
    "The following are given:\n",
    "\n",
    "| IRI           | Description   | Role      |\n",
    "| -----------   | -----------   |-----------|\n",
    "| `wdt:P1647`   | subproperty   | predicate |\n",
    "| `wdt:P31`     | instance of   | predicate |\n",
    "| `wdt:P106`    | profession    | predicate | \n",
    "| `wdt:P279`    | subclass      | predicate |\n",
    "| `wdt:P4969`    | derivative work      | predicate |\n",
    "| `wd:Q147235` | How I met your mother        | node |\n",
    "| `wd:Q23831` | The Office (US)        | node |\n",
    "\n",
    "\n",
    "\n",
    "Also consider\n",
    "\n",
    "```\n",
    "wd:Q23831 ?p ?obj .\n",
    "```\n",
    "\n",
    "is the BGP to retrieve all **properties of The Office (US)**\n",
    "\n",
    "Please consider that when you return a resource, you should return the IRI and the label of the resource. In particular, when the task require you to identify a BGP the result set must always be a list of couples IRI - label.\n",
    "\n",
    "The workload should\n",
    "\n",
    "1. Identify the BGP for tv series\n",
    "\n",
    "2. Return the number of seasons and episodes per season of the tv series (the result set must be triples of season IRI, label and #episodes).\n",
    "\n",
    "3. Get the number of episodes in which the cast members played a role. Who are the most present actors? (the result set must be a list of triples actor/actress IRI, label and #episodes)\n",
    "\n",
    "4. Check who is the actor who acted in more films while working on \"How I met your mother\" (the result set must be a list of triples actor/actress IRI, label and #films).\n",
    "\n",
    "5. Compare HIMYM with the tv series \"The Office (US)\" in terms of number of seasons, episods and cast members (the result set must be two elements -one for each tv series- of tv series IRI, label, #seasons, #episodes and #cast members).\n",
    "\n",
    "6. Return how many of the actors who are members of the cast of the tv series have [Kavin Bacon number](https://en.wikipedia.org/wiki/Six_Degrees_of_Kevin_Bacon#:~:text=Kevin%20Bacon%20himself%20has%20a,Bacon%20number%20is%20N%2B1.) equal to 2 (the result set must be a list of couples actor/actress IRI and label).\n",
    "\n",
    "7. Consider the actors who are members of the cast of HIMYM. Amongst the tv series which these actors acted return only those which received more than 2 awards (the result set must be triples of tv series IRI, label, #awards won)."
   ]
  },
  {
   "cell_type": "markdown",
   "id": "6ffbc3d6",
   "metadata": {},
   "source": [
    "## Task 1\n",
    "Identify the BGP for tv series"
   ]
  },
  {
   "cell_type": "code",
   "execution_count": 6,
   "id": "c01a1cf8",
   "metadata": {},
   "outputs": [
    {
     "name": "stdout",
     "output_type": "stream",
     "text": [
      "Results\n",
      "[('p', 'http://www.wikidata.org/prop/direct/P1113'), ('name', 'number of episodes')]\n",
      "[('p', 'http://www.wikidata.org/prop/direct/P1258'), ('name', 'Rotten Tomatoes ID')]\n",
      "[('p', 'http://www.wikidata.org/prop/direct/P1267'), ('name', 'AlloCiné series ID')]\n",
      "[('p', 'http://www.wikidata.org/prop/direct/P136'), ('name', 'genre')]\n",
      "[('p', 'http://www.wikidata.org/prop/direct/P1417'), ('name', 'Encyclopædia Britannica Online ID')]\n",
      "[('p', 'http://www.wikidata.org/prop/direct/P144'), ('name', 'based on')]\n",
      "[('p', 'http://www.wikidata.org/prop/direct/P1476'), ('name', 'title')]\n",
      "[('p', 'http://www.wikidata.org/prop/direct/P154'), ('name', 'logo image')]\n",
      "[('p', 'http://www.wikidata.org/prop/direct/P1552'), ('name', 'has quality')]\n",
      "[('p', 'http://www.wikidata.org/prop/direct/P1562'), ('name', 'AllMovie title ID')]\n",
      "[('p', 'http://www.wikidata.org/prop/direct/P161'), ('name', 'cast member')]\n",
      "[('p', 'http://www.wikidata.org/prop/direct/P170'), ('name', 'creator')]\n",
      "[('p', 'http://www.wikidata.org/prop/direct/P1712'), ('name', 'Metacritic ID')]\n",
      "[('p', 'http://www.wikidata.org/prop/direct/P18'), ('name', 'image')]\n",
      "[('p', 'http://www.wikidata.org/prop/direct/P1811'), ('name', 'list of episodes')]\n",
      "[('p', 'http://www.wikidata.org/prop/direct/P1874'), ('name', 'Netflix ID')]\n",
      "[('p', 'http://www.wikidata.org/prop/direct/P1889'), ('name', 'different from')]\n",
      "[('p', 'http://www.wikidata.org/prop/direct/P2002'), ('name', 'Twitter username')]\n",
      "[('p', 'http://www.wikidata.org/prop/direct/P2061'), ('name', 'aspect ratio')]\n",
      "[('p', 'http://www.wikidata.org/prop/direct/P214'), ('name', 'VIAF ID')]\n",
      "[('p', 'http://www.wikidata.org/prop/direct/P2437'), ('name', 'number of seasons')]\n",
      "[('p', 'http://www.wikidata.org/prop/direct/P244'), ('name', 'Library of Congress authority ID')]\n",
      "[('p', 'http://www.wikidata.org/prop/direct/P2529'), ('name', 'ČSFD film ID')]\n",
      "[('p', 'http://www.wikidata.org/prop/direct/P2581'), ('name', 'BabelNet ID')]\n",
      "[('p', 'http://www.wikidata.org/prop/direct/P2603'), ('name', 'Kinopoisk film ID')]\n",
      "[('p', 'http://www.wikidata.org/prop/direct/P2638'), ('name', 'TV.com ID')]\n",
      "[('p', 'http://www.wikidata.org/prop/direct/P2670'), ('name', 'has parts of the class')]\n",
      "[('p', 'http://www.wikidata.org/prop/direct/P2703'), ('name', 'BFI National Archive work ID')]\n",
      "[('p', 'http://www.wikidata.org/prop/direct/P2704'), ('name', 'EIDR content ID')]\n",
      "[('p', 'http://www.wikidata.org/prop/direct/P272'), ('name', 'production company')]\n",
      "[('p', 'http://www.wikidata.org/prop/direct/P31'), ('name', 'instance of')]\n",
      "[('p', 'http://www.wikidata.org/prop/direct/P3121'), ('name', 'Epguides ID')]\n",
      "[('p', 'http://www.wikidata.org/prop/direct/P3138'), ('name', 'OFDb film ID')]\n",
      "[('p', 'http://www.wikidata.org/prop/direct/P3302'), ('name', 'Open Media Database film ID')]\n",
      "[('p', 'http://www.wikidata.org/prop/direct/P3417'), ('name', 'Quora topic ID')]\n",
      "[('p', 'http://www.wikidata.org/prop/direct/P345'), ('name', 'IMDb ID')]\n",
      "[('p', 'http://www.wikidata.org/prop/direct/P364'), ('name', 'original language of film or TV show')]\n",
      "[('p', 'http://www.wikidata.org/prop/direct/P373'), ('name', 'Commons category')]\n",
      "[('p', 'http://www.wikidata.org/prop/direct/P3804'), ('name', 'TV Guide show ID (former scheme)')]\n",
      "[('p', 'http://www.wikidata.org/prop/direct/P3984'), ('name', 'subreddit')]\n",
      "[('p', 'http://www.wikidata.org/prop/direct/P437'), ('name', 'distribution format')]\n",
      "[('p', 'http://www.wikidata.org/prop/direct/P4438'), ('name', 'BFI Films, TV and people ID')]\n",
      "[('p', 'http://www.wikidata.org/prop/direct/P449'), ('name', 'original broadcaster')]\n",
      "[('p', 'http://www.wikidata.org/prop/direct/P4665'), ('name', 'CineMagia title ID')]\n",
      "[('p', 'http://www.wikidata.org/prop/direct/P480'), ('name', 'FilmAffinity ID')]\n",
      "[('p', 'http://www.wikidata.org/prop/direct/P4835'), ('name', 'TheTVDB.com series ID')]\n",
      "[('p', 'http://www.wikidata.org/prop/direct/P495'), ('name', 'country of origin')]\n",
      "[('p', 'http://www.wikidata.org/prop/direct/P4983'), ('name', 'TMDb TV series ID')]\n",
      "[('p', 'http://www.wikidata.org/prop/direct/P5032'), ('name', 'Filmweb.pl film ID')]\n",
      "[('p', 'http://www.wikidata.org/prop/direct/P5099'), ('name', 'Il mondo dei doppiatori ID')]\n",
      "[('p', 'http://www.wikidata.org/prop/direct/P527'), ('name', 'has part')]\n",
      "[('p', 'http://www.wikidata.org/prop/direct/P5327'), ('name', 'fernsehserien.de ID')]\n",
      "[('p', 'http://www.wikidata.org/prop/direct/P57'), ('name', 'director')]\n",
      "[('p', 'http://www.wikidata.org/prop/direct/P580'), ('name', 'start time')]\n",
      "[('p', 'http://www.wikidata.org/prop/direct/P582'), ('name', 'end time')]\n",
      "[('p', 'http://www.wikidata.org/prop/direct/P5905'), ('name', 'Comic Vine ID')]\n",
      "[('p', 'http://www.wikidata.org/prop/direct/P5925'), ('name', 'Moviepilot.de series ID')]\n",
      "[('p', 'http://www.wikidata.org/prop/direct/P646'), ('name', 'Freebase ID')]\n",
      "[('p', 'http://www.wikidata.org/prop/direct/P674'), ('name', 'characters')]\n",
      "[('p', 'http://www.wikidata.org/prop/direct/P6839'), ('name', 'TV Tropes identifier')]\n",
      "60\n"
     ]
    }
   ],
   "source": [
    "# query example\n",
    "queryString = \"\"\"\n",
    "SELECT DISTINCT ?p ?name\n",
    "WHERE {\n",
    "   # bind something\n",
    "   wd:Q23831 ?p ?obj .\n",
    "   # get the label\n",
    "   ?p sc:name ?name.\n",
    "}\n",
    "LIMIT 60\n",
    "\"\"\"\n",
    "\n",
    "print(\"Results\")\n",
    "x=run_query(queryString)"
   ]
  },
  {
   "cell_type": "code",
   "execution_count": 2,
   "id": "2c7c7b53-2c3c-45af-b7b6-86f29c6adf9d",
   "metadata": {},
   "outputs": [
    {
     "name": "stdout",
     "output_type": "stream",
     "text": [
      "Results\n",
      "[('obj', 'http://www.wikidata.org/entity/Q5398426'), ('name', 'television series')]\n",
      "1\n"
     ]
    }
   ],
   "source": [
    "# 'The office' is istance of\n",
    "queryString = \"\"\"\n",
    "SELECT DISTINCT ?obj ?name\n",
    "WHERE {\n",
    "   # bind something\n",
    "   wd:Q23831 wdt:P31 ?obj .\n",
    "   # get the label\n",
    "   ?obj sc:name ?name.\n",
    "}\n",
    "LIMIT 20\n",
    "\"\"\"\n",
    "\n",
    "print(\"Results\")\n",
    "x=run_query(queryString)"
   ]
  },
  {
   "cell_type": "markdown",
   "id": "b9a29bf1",
   "metadata": {},
   "source": [
    "Final query for this task"
   ]
  },
  {
   "cell_type": "code",
   "execution_count": 3,
   "id": "1964619f",
   "metadata": {},
   "outputs": [
    {
     "name": "stdout",
     "output_type": "stream",
     "text": [
      "Results\n",
      "[('obj', 'http://www.wikidata.org/entity/Q5398426'), ('name', 'television series')]\n",
      "1\n"
     ]
    }
   ],
   "source": [
    "# write your final query\n",
    "\n",
    "queryString = \"\"\"\n",
    "SELECT DISTINCT ?obj ?name\n",
    "WHERE {\n",
    "   # bind something\n",
    "   wd:Q23831 wdt:P31 ?obj .\n",
    "   # get the label\n",
    "   ?obj sc:name ?name.\n",
    "}\n",
    "LIMIT 20\n",
    "\"\"\"\n",
    "\n",
    "print(\"Results\")\n",
    "x=run_query(queryString)"
   ]
  },
  {
   "cell_type": "markdown",
   "id": "de3aa316",
   "metadata": {},
   "source": [
    "## Task 2\n",
    "Return the number of seasons and episodes per season of the tv series (the result set must be triples of season IRI, label and #episodes)."
   ]
  },
  {
   "cell_type": "code",
   "execution_count": 4,
   "id": "5044edbd-dd16-424d-8632-75f850c42705",
   "metadata": {},
   "outputs": [
    {
     "name": "stdout",
     "output_type": "stream",
     "text": [
      "Results\n",
      "[('p', 'http://www.wikidata.org/prop/direct/P2437'), ('name', 'number of seasons')]\n",
      "1\n"
     ]
    }
   ],
   "source": [
    "# query example\n",
    "queryString = \"\"\"\n",
    "SELECT DISTINCT ?p ?name\n",
    "WHERE {\n",
    "   # bind something\n",
    "   wd:Q23831 ?p ?obj .\n",
    "   # get the label\n",
    "   ?p sc:name ?name.\n",
    "   \n",
    "   FILTER regex(?name, \"season\", \"i\")\n",
    "}\n",
    "LIMIT 40\n",
    "\"\"\"\n",
    "\n",
    "print(\"Results\")\n",
    "x=run_query(queryString)"
   ]
  },
  {
   "cell_type": "code",
   "execution_count": 5,
   "id": "02ef8153-f41a-4f4f-9626-1404b54365ba",
   "metadata": {},
   "outputs": [
    {
     "name": "stdout",
     "output_type": "stream",
     "text": [
      "Results\n",
      "[('p', 'http://www.wikidata.org/prop/direct/P1963'), ('name', 'properties for this type'), ('obj', 'http://www.wikidata.org/entity/P1113'), ('o_name', 'number of episodes')]\n",
      "[('p', 'http://www.wikidata.org/prop/direct/P279'), ('name', 'subclass of'), ('obj', 'http://www.wikidata.org/entity/Q15416'), ('o_name', 'television program')]\n",
      "[('p', 'http://www.wikidata.org/prop/direct/P1963'), ('name', 'properties for this type'), ('obj', 'http://www.wikidata.org/entity/P580'), ('o_name', 'start time')]\n",
      "[('p', 'http://www.wikidata.org/prop/direct/P1963'), ('name', 'properties for this type'), ('obj', 'http://www.wikidata.org/entity/P582'), ('o_name', 'end time')]\n",
      "[('p', 'http://www.wikidata.org/prop/direct/P1963'), ('name', 'properties for this type'), ('obj', 'http://www.wikidata.org/entity/P1476'), ('o_name', 'title')]\n",
      "[('p', 'http://www.wikidata.org/prop/direct/P5869'), ('name', 'model item'), ('obj', 'http://www.wikidata.org/entity/Q131758'), ('o_name', 'Desperate Housewives')]\n",
      "[('p', 'http://www.wikidata.org/prop/direct/P910'), ('name', \"topic's main category\"), ('obj', 'http://www.wikidata.org/entity/Q7217118'), ('o_name', 'Category:Television series')]\n",
      "[('p', 'http://www.wikidata.org/prop/direct/P1963'), ('name', 'properties for this type'), ('obj', 'http://www.wikidata.org/entity/P921'), ('o_name', 'main subject')]\n",
      "[('p', 'http://www.wikidata.org/prop/direct/P2670'), ('name', 'has parts of the class'), ('obj', 'http://www.wikidata.org/entity/Q21191270'), ('o_name', 'television series episode')]\n",
      "[('p', 'http://www.wikidata.org/prop/direct/P5869'), ('name', 'model item'), ('obj', 'http://www.wikidata.org/entity/Q990'), ('o_name', 'Czterej pancerni i pies')]\n",
      "[('p', 'http://www.wikidata.org/prop/direct/P1963'), ('name', 'properties for this type'), ('obj', 'http://www.wikidata.org/entity/P527'), ('o_name', 'has part')]\n",
      "[('p', 'http://www.wikidata.org/prop/direct/P2670'), ('name', 'has parts of the class'), ('obj', 'http://www.wikidata.org/entity/Q3464665'), ('o_name', 'television series season')]\n",
      "[('p', 'http://www.wikidata.org/prop/direct/P1963'), ('name', 'properties for this type'), ('obj', 'http://www.wikidata.org/entity/P495'), ('o_name', 'country of origin')]\n",
      "[('p', 'http://www.wikidata.org/prop/direct/P1889'), ('name', 'different from'), ('obj', 'http://www.wikidata.org/entity/Q1259759'), ('o_name', 'miniseries')]\n",
      "[('p', 'http://www.wikidata.org/prop/direct/P279'), ('name', 'subclass of'), ('obj', 'http://www.wikidata.org/entity/Q7725310'), ('o_name', 'series of creative works')]\n",
      "[('p', 'http://www.wikidata.org/prop/direct/P5869'), ('name', 'model item'), ('obj', 'http://www.wikidata.org/entity/Q2085'), ('o_name', 'Twin Peaks')]\n",
      "[('p', 'http://www.wikidata.org/prop/direct/P1889'), ('name', 'different from'), ('obj', 'http://www.wikidata.org/entity/Q7724161'), ('o_name', 'television serial')]\n",
      "[('p', 'http://www.wikidata.org/prop/direct/P1963'), ('name', 'properties for this type'), ('obj', 'http://www.wikidata.org/entity/P136'), ('o_name', 'genre')]\n",
      "[('p', 'http://www.wikidata.org/prop/direct/P1963'), ('name', 'properties for this type'), ('obj', 'http://www.wikidata.org/entity/P2437'), ('o_name', 'number of seasons')]\n",
      "[('p', 'http://www.wikidata.org/prop/direct/P1963'), ('name', 'properties for this type'), ('obj', 'http://www.wikidata.org/entity/P449'), ('o_name', 'original broadcaster')]\n",
      "[('p', 'http://www.wikidata.org/prop/direct/P1963'), ('name', 'properties for this type'), ('obj', 'http://www.wikidata.org/entity/P840'), ('o_name', 'narrative location')]\n",
      "[('p', 'http://www.wikidata.org/prop/direct/P1963'), ('name', 'properties for this type'), ('obj', 'http://www.wikidata.org/entity/P915'), ('o_name', 'filming location')]\n",
      "[('p', 'http://www.wikidata.org/prop/direct/P1963'), ('name', 'properties for this type'), ('obj', 'http://www.wikidata.org/entity/P161'), ('o_name', 'cast member')]\n",
      "[('p', 'http://www.wikidata.org/prop/direct/P1963'), ('name', 'properties for this type'), ('obj', 'http://www.wikidata.org/entity/P166'), ('o_name', 'award received')]\n",
      "[('p', 'http://www.wikidata.org/prop/direct/P5869'), ('name', 'model item'), ('obj', 'http://www.wikidata.org/entity/Q23572'), ('o_name', 'Game of Thrones')]\n",
      "[('p', 'http://www.wikidata.org/prop/direct/P1963'), ('name', 'properties for this type'), ('obj', 'http://www.wikidata.org/entity/P364'), ('o_name', 'original language of film or TV show')]\n",
      "[('p', 'http://www.wikidata.org/prop/direct/P1424'), ('name', \"topic's main template\"), ('obj', 'http://www.wikidata.org/entity/Q13412410'), ('o_name', 'Template:Infobox television series')]\n",
      "[('p', 'http://www.wikidata.org/prop/direct/P1424'), ('name', \"topic's main template\"), ('obj', 'http://www.wikidata.org/entity/Q79717194'), ('o_name', 'Template:Disney+ series')]\n",
      "[('p', 'http://www.wikidata.org/prop/direct/P1963'), ('name', 'properties for this type'), ('obj', 'http://www.wikidata.org/entity/P1811'), ('o_name', 'list of episodes')]\n",
      "[('p', 'http://www.wikidata.org/prop/direct/P6186'), ('name', 'category for eponymous categories'), ('obj', 'http://www.wikidata.org/entity/Q6930920'), ('o_name', 'Category:Wikipedia categories named after television series')]\n",
      "30\n"
     ]
    }
   ],
   "source": [
    "# 'television series' details\n",
    "queryString = \"\"\"\n",
    "SELECT DISTINCT ?p ?name ?obj ?o_name\n",
    "WHERE {\n",
    "   # bind something\n",
    "   wd:Q5398426 ?p ?obj .\n",
    "   # get the label\n",
    "   ?p sc:name ?name.\n",
    "   ?obj sc:name ?o_name.\n",
    "}\n",
    "LIMIT 40\n",
    "\"\"\"\n",
    "\n",
    "print(\"Results\")\n",
    "x=run_query(queryString)"
   ]
  },
  {
   "cell_type": "code",
   "execution_count": 7,
   "id": "28058472-1b69-4c29-8d35-3fe4c8c8b0db",
   "metadata": {},
   "outputs": [
    {
     "name": "stdout",
     "output_type": "stream",
     "text": [
      "Results\n",
      "[('p', 'http://www.wikidata.org/prop/direct/P527'), ('name', 'has part'), ('obj', 'http://www.wikidata.org/entity/Q3468906'), ('o_name', 'The Office, season 4')]\n",
      "[('p', 'http://www.wikidata.org/prop/direct/P527'), ('name', 'has part'), ('obj', 'http://www.wikidata.org/entity/Q3730261'), ('o_name', 'The Office, season 6')]\n",
      "[('p', 'http://www.wikidata.org/prop/direct/P527'), ('name', 'has part'), ('obj', 'http://www.wikidata.org/entity/Q3468601'), ('o_name', 'The Office, season 2')]\n",
      "[('p', 'http://www.wikidata.org/prop/direct/P527'), ('name', 'has part'), ('obj', 'http://www.wikidata.org/entity/Q3730253'), ('o_name', 'The Office, season 9')]\n",
      "[('p', 'http://www.wikidata.org/prop/direct/P527'), ('name', 'has part'), ('obj', 'http://www.wikidata.org/entity/Q3465812'), ('o_name', 'The Office, season 1')]\n",
      "[('p', 'http://www.wikidata.org/prop/direct/P527'), ('name', 'has part'), ('obj', 'http://www.wikidata.org/entity/Q3730255'), ('o_name', 'The Office, season 8')]\n",
      "[('p', 'http://www.wikidata.org/prop/direct/P527'), ('name', 'has part'), ('obj', 'http://www.wikidata.org/entity/Q3468797'), ('o_name', 'The Office, season 3')]\n",
      "[('p', 'http://www.wikidata.org/prop/direct/P527'), ('name', 'has part'), ('obj', 'http://www.wikidata.org/entity/Q3730263'), ('o_name', 'The Office, season 7')]\n",
      "[('p', 'http://www.wikidata.org/prop/direct/P527'), ('name', 'has part'), ('obj', 'http://www.wikidata.org/entity/Q3468990'), ('o_name', 'The Office, season 5')]\n",
      "9\n"
     ]
    }
   ],
   "source": [
    "# find season in the objects related to The Office\n",
    "queryString = \"\"\"\n",
    "SELECT DISTINCT ?p ?name ?obj ?o_name\n",
    "WHERE {\n",
    "   # bind something\n",
    "   wd:Q23831 ?p ?obj .\n",
    "   # get the label\n",
    "   ?p sc:name ?name.\n",
    "   ?obj sc:name ?o_name.\n",
    "   \n",
    "   FILTER regex(?o_name, \"season\", \"i\")\n",
    "}\n",
    "LIMIT 40\n",
    "\"\"\"\n",
    "\n",
    "print(\"Results\")\n",
    "x=run_query(queryString)"
   ]
  },
  {
   "cell_type": "code",
   "execution_count": 8,
   "id": "d763c7f2-c827-4491-8290-66a9ff31a8af",
   "metadata": {},
   "outputs": [
    {
     "name": "stdout",
     "output_type": "stream",
     "text": [
      "Results\n",
      "[('p', 'http://www.wikidata.org/prop/direct/P364'), ('name', 'original language of film or TV show'), ('obj', 'http://www.wikidata.org/entity/Q1860'), ('o_name', 'English')]\n",
      "[('p', 'http://www.wikidata.org/prop/direct/P495'), ('name', 'country of origin'), ('obj', 'http://www.wikidata.org/entity/Q30'), ('o_name', 'United States of America')]\n",
      "[('p', 'http://www.wikidata.org/prop/direct/P179'), ('name', 'part of the series'), ('obj', 'http://www.wikidata.org/entity/Q23831'), ('o_name', 'The Office')]\n",
      "[('p', 'http://www.wikidata.org/prop/direct/P31'), ('name', 'instance of'), ('obj', 'http://www.wikidata.org/entity/Q3464665'), ('o_name', 'television series season')]\n",
      "[('p', 'http://www.wikidata.org/prop/direct/P527'), ('name', 'has part'), ('obj', 'http://www.wikidata.org/entity/Q16744428'), ('o_name', 'Job Fair')]\n",
      "[('p', 'http://www.wikidata.org/prop/direct/P527'), ('name', 'has part'), ('obj', 'http://www.wikidata.org/entity/Q50379716'), ('o_name', 'Goodbye, Toby (part 1)')]\n",
      "[('p', 'http://www.wikidata.org/prop/direct/P527'), ('name', 'has part'), ('obj', 'http://www.wikidata.org/entity/Q50379718'), ('o_name', 'Goodbye, Toby (part 2)')]\n",
      "[('p', 'http://www.wikidata.org/prop/direct/P527'), ('name', 'has part'), ('obj', 'http://www.wikidata.org/entity/Q50379682'), ('o_name', 'Money (part 1)')]\n",
      "[('p', 'http://www.wikidata.org/prop/direct/P527'), ('name', 'has part'), ('obj', 'http://www.wikidata.org/entity/Q50379683'), ('o_name', 'Money (part 2)')]\n",
      "[('p', 'http://www.wikidata.org/prop/direct/P527'), ('name', 'has part'), ('obj', 'http://www.wikidata.org/entity/Q6663943'), ('o_name', 'Local Ad')]\n",
      "[('p', 'http://www.wikidata.org/prop/direct/P527'), ('name', 'has part'), ('obj', 'http://www.wikidata.org/entity/Q5274039'), ('o_name', 'Did I Stutter?')]\n",
      "[('p', 'http://www.wikidata.org/prop/direct/P527'), ('name', 'has part'), ('obj', 'http://www.wikidata.org/entity/Q7033383'), ('o_name', 'Night Out')]\n",
      "[('p', 'http://www.wikidata.org/prop/direct/P527'), ('name', 'has part'), ('obj', 'http://www.wikidata.org/entity/Q50379594'), ('o_name', 'Fun Run (part 1)')]\n",
      "[('p', 'http://www.wikidata.org/prop/direct/P527'), ('name', 'has part'), ('obj', 'http://www.wikidata.org/entity/Q50379664'), ('o_name', 'Launch Party (part 2)')]\n",
      "[('p', 'http://www.wikidata.org/prop/direct/P527'), ('name', 'has part'), ('obj', 'http://www.wikidata.org/entity/Q4956378'), ('o_name', 'Branch Wars')]\n",
      "[('p', 'http://www.wikidata.org/prop/direct/P527'), ('name', 'has part'), ('obj', 'http://www.wikidata.org/entity/Q50379663'), ('o_name', 'Launch Party (part 1)')]\n",
      "[('p', 'http://www.wikidata.org/prop/direct/P527'), ('name', 'has part'), ('obj', 'http://www.wikidata.org/entity/Q5068046'), ('o_name', 'Chair Model')]\n",
      "[('p', 'http://www.wikidata.org/prop/direct/P527'), ('name', 'has part'), ('obj', 'http://www.wikidata.org/entity/Q5278408'), ('o_name', 'Dinner Party')]\n",
      "[('p', 'http://www.wikidata.org/prop/direct/P527'), ('name', 'has part'), ('obj', 'http://www.wikidata.org/entity/Q50379592'), ('o_name', 'Fun Run (part 2)')]\n",
      "[('p', 'http://www.wikidata.org/prop/direct/P527'), ('name', 'has part'), ('obj', 'http://www.wikidata.org/entity/Q50379638'), ('o_name', 'Dunder Mifflin Infinity (part 1)')]\n",
      "[('p', 'http://www.wikidata.org/prop/direct/P527'), ('name', 'has part'), ('obj', 'http://www.wikidata.org/entity/Q50379636'), ('o_name', 'Dunder Mifflin Infinity (part 2)')]\n",
      "[('p', 'http://www.wikidata.org/prop/direct/P527'), ('name', 'has part'), ('obj', 'http://www.wikidata.org/entity/Q7647298'), ('o_name', 'Survivor Man')]\n",
      "[('p', 'http://www.wikidata.org/prop/direct/P527'), ('name', 'has part'), ('obj', 'http://www.wikidata.org/entity/Q7729754'), ('o_name', 'The Deposition')]\n",
      "23\n"
     ]
    }
   ],
   "source": [
    "# 'The Office, season 4' details\n",
    "queryString = \"\"\"\n",
    "SELECT DISTINCT ?p ?name ?obj ?o_name\n",
    "WHERE {\n",
    "   # bind something\n",
    "   wd:Q3468906 ?p ?obj .\n",
    "   # get the label\n",
    "   ?p sc:name ?name.\n",
    "   ?obj sc:name ?o_name.\n",
    "}\n",
    "LIMIT 40\n",
    "\"\"\"\n",
    "\n",
    "print(\"Results\")\n",
    "x=run_query(queryString)"
   ]
  },
  {
   "cell_type": "code",
   "execution_count": 4,
   "id": "1ca4614e-64a8-48f6-87fd-b46d16b83d39",
   "metadata": {},
   "outputs": [
    {
     "name": "stdout",
     "output_type": "stream",
     "text": [
      "Results\n",
      "[('p', 'http://www.wikidata.org/prop/direct/P1963'), ('name', 'properties for this type'), ('obj', 'http://www.wikidata.org/entity/P1113'), ('o_name', 'number of episodes')]\n",
      "[('p', 'http://www.wikidata.org/prop/direct/P279'), ('name', 'subclass of'), ('obj', 'http://www.wikidata.org/entity/Q70990126'), ('o_name', 'creative work season')]\n",
      "[('p', 'http://www.wikidata.org/prop/direct/P279'), ('name', 'subclass of'), ('obj', 'http://www.wikidata.org/entity/Q15416'), ('o_name', 'television program')]\n",
      "[('p', 'http://www.wikidata.org/prop/direct/P1963'), ('name', 'properties for this type'), ('obj', 'http://www.wikidata.org/entity/P580'), ('o_name', 'start time')]\n",
      "[('p', 'http://www.wikidata.org/prop/direct/P1963'), ('name', 'properties for this type'), ('obj', 'http://www.wikidata.org/entity/P582'), ('o_name', 'end time')]\n",
      "[('p', 'http://www.wikidata.org/prop/direct/P2670'), ('name', 'has parts of the class'), ('obj', 'http://www.wikidata.org/entity/Q21191270'), ('o_name', 'television series episode')]\n",
      "[('p', 'http://www.wikidata.org/prop/direct/P361'), ('name', 'part of'), ('obj', 'http://www.wikidata.org/entity/Q5398426'), ('o_name', 'television series')]\n",
      "[('p', 'http://www.wikidata.org/prop/direct/P1963'), ('name', 'properties for this type'), ('obj', 'http://www.wikidata.org/entity/P527'), ('o_name', 'has part')]\n",
      "[('p', 'http://www.wikidata.org/prop/direct/P279'), ('name', 'subclass of'), ('obj', 'http://www.wikidata.org/entity/Q12826913'), ('o_name', 'season')]\n",
      "[('p', 'http://www.wikidata.org/prop/direct/P279'), ('name', 'subclass of'), ('obj', 'http://www.wikidata.org/entity/Q7725310'), ('o_name', 'series of creative works')]\n",
      "[('p', 'http://www.wikidata.org/prop/direct/P1963'), ('name', 'properties for this type'), ('obj', 'http://www.wikidata.org/entity/P179'), ('o_name', 'part of the series')]\n",
      "[('p', 'http://www.wikidata.org/prop/direct/P6104'), ('name', 'maintained by WikiProject'), ('obj', 'http://www.wikidata.org/entity/Q8485793'), ('o_name', 'WikiProject Film')]\n",
      "[('p', 'http://www.wikidata.org/prop/direct/P1687'), ('name', 'Wikidata property'), ('obj', 'http://www.wikidata.org/entity/P2437'), ('o_name', 'number of seasons')]\n",
      "[('p', 'http://www.wikidata.org/prop/direct/P1687'), ('name', 'Wikidata property'), ('obj', 'http://www.wikidata.org/entity/P4908'), ('o_name', 'season')]\n",
      "[('p', 'http://www.wikidata.org/prop/direct/P1552'), ('name', 'has quality'), ('obj', 'http://www.wikidata.org/entity/Q41783959'), ('o_name', 'number of seasons produced')]\n",
      "[('p', 'http://www.wikidata.org/prop/direct/P1552'), ('name', 'has quality'), ('obj', 'http://www.wikidata.org/entity/Q41784016'), ('o_name', 'number of seasons planned')]\n",
      "[('p', 'http://www.wikidata.org/prop/direct/P5869'), ('name', 'model item'), ('obj', 'http://www.wikidata.org/entity/Q302358'), ('o_name', 'Game of Thrones, season 2')]\n",
      "[('p', 'http://www.wikidata.org/prop/direct/P910'), ('name', \"topic's main category\"), ('obj', 'http://www.wikidata.org/entity/Q8836200'), ('o_name', 'Category:Television seasons')]\n",
      "[('p', 'http://www.wikidata.org/prop/direct/P1424'), ('name', \"topic's main template\"), ('obj', 'http://www.wikidata.org/entity/Q5625698'), ('o_name', 'Template:Infobox television season')]\n",
      "[('p', 'http://www.wikidata.org/prop/direct/P1552'), ('name', 'has quality'), ('obj', 'http://www.wikidata.org/entity/Q41783986'), ('o_name', 'number of seasons aired')]\n",
      "[('p', 'http://www.wikidata.org/prop/direct/P2354'), ('name', 'has list'), ('obj', 'http://www.wikidata.org/entity/Q51710385'), ('o_name', 'list of television seasons')]\n",
      "21\n"
     ]
    }
   ],
   "source": [
    "# 'television series season' details\n",
    "queryString = \"\"\"\n",
    "SELECT DISTINCT ?p ?name ?obj ?o_name\n",
    "WHERE {\n",
    "   # bind something\n",
    "   wd:Q3464665 ?p ?obj .\n",
    "   # get the label\n",
    "   ?p sc:name ?name.\n",
    "   ?obj sc:name ?o_name.\n",
    "}\n",
    "LIMIT 40\n",
    "\"\"\"\n",
    "\n",
    "print(\"Results\")\n",
    "x=run_query(queryString)"
   ]
  },
  {
   "cell_type": "code",
   "execution_count": 6,
   "id": "c4725b41",
   "metadata": {},
   "outputs": [
    {
     "name": "stdout",
     "output_type": "stream",
     "text": [
      "Results\n",
      "[('s', 'http://www.wikidata.org/entity/Q3061434'), ('name', 'Law & Order: Special Victims Unit, season 4'), ('ne', '25')]\n",
      "[('s', 'http://www.wikidata.org/entity/Q15726792'), ('name', 'Face Off, season 6'), ('ne', '15')]\n",
      "[('s', 'http://www.wikidata.org/entity/Q15844444'), ('name', 'Schloss Einstein, season 2'), ('ne', '40')]\n",
      "[('s', 'http://www.wikidata.org/entity/Q463125'), ('name', 'ER, season 3'), ('ne', '22')]\n",
      "[('s', 'http://www.wikidata.org/entity/Q463131'), ('name', 'ER, season 6'), ('ne', '22')]\n",
      "[('s', 'http://www.wikidata.org/entity/Q463133'), ('name', 'ER, season 7'), ('ne', '22')]\n",
      "[('s', 'http://www.wikidata.org/entity/Q463138'), ('name', 'ER, season 5'), ('ne', '22')]\n",
      "[('s', 'http://www.wikidata.org/entity/Q463144'), ('name', 'ER, season 8'), ('ne', '22')]\n",
      "[('s', 'http://www.wikidata.org/entity/Q16023761'), ('name', 'Spiral, season 3'), ('ne', '12')]\n",
      "[('s', 'http://www.wikidata.org/entity/Q463092'), ('name', 'ER, season 10'), ('ne', '22')]\n",
      "[('s', 'http://www.wikidata.org/entity/Q17016813'), ('name', 'On the Buses, season 5'), ('ne', '15')]\n",
      "[('s', 'http://www.wikidata.org/entity/Q17019903'), ('name', 'Dança dos Famosos, season 6'), ('ne', '11')]\n",
      "[('s', 'http://www.wikidata.org/entity/Q17020023'), ('name', 'Dança dos Famosos, season 10'), ('ne', '14')]\n",
      "[('s', 'http://www.wikidata.org/entity/Q17029551'), ('name', 'The Time of Our Lives, season 1'), ('ne', '13')]\n",
      "[('s', 'http://www.wikidata.org/entity/Q17066261'), ('name', 'The Contender, season 1'), ('ne', '15')]\n",
      "[('s', 'http://www.wikidata.org/entity/Q17322290'), ('name', 'Hinter Gittern – Der Frauenknast, season 8'), ('ne', '24')]\n",
      "[('s', 'http://www.wikidata.org/entity/Q463109'), ('name', 'ER, season 13'), ('ne', '23')]\n",
      "[('s', 'http://www.wikidata.org/entity/Q17510707'), ('name', 'Boardwalk Empire, season 5'), ('ne', '8')]\n",
      "[('s', 'http://www.wikidata.org/entity/Q17582084'), ('name', 'Frankenstein, Jr.'), ('ne', '18')]\n",
      "[('s', 'http://www.wikidata.org/entity/Q17629841'), ('name', 'Mord mit Aussicht, season 1'), ('ne', '13')]\n",
      "20\n"
     ]
    }
   ],
   "source": [
    "# General tv series seasons and # of episodes\n",
    "\n",
    "queryString = \"\"\"\n",
    "SELECT DISTINCT ?s ?name ?ne\n",
    "WHERE {\n",
    "   # bind something\n",
    "   ?ts wdt:P31 wd:Q5398426 ;\n",
    "       wdt:P527 ?s .\n",
    "    ?s wdt:P1113 ?ne .\n",
    "       \n",
    "   # get the label\n",
    "   ?s sc:name ?name.\n",
    "}\n",
    "LIMIT 20\n",
    "\"\"\"\n",
    "\n",
    "print(\"Results\")\n",
    "x=run_query(queryString)"
   ]
  },
  {
   "cell_type": "markdown",
   "id": "bea67567-a5b2-4e07-a430-1b9be0038283",
   "metadata": {},
   "source": [
    "Final query for this task"
   ]
  },
  {
   "cell_type": "code",
   "execution_count": 3,
   "id": "d6c8f49c-9f45-4af1-a9ee-14ea8eb1943b",
   "metadata": {},
   "outputs": [
    {
     "name": "stdout",
     "output_type": "stream",
     "text": [
      "Results\n",
      "[('s', 'http://www.wikidata.org/entity/Q2715578'), ('name', 'How I Met Your Mother, season 1'), ('ne', '22')]\n",
      "[('s', 'http://www.wikidata.org/entity/Q3468515'), ('name', 'How I Met Your Mother, season 2'), ('ne', '22')]\n",
      "[('s', 'http://www.wikidata.org/entity/Q2555117'), ('name', 'How I Met Your Mother, season 3'), ('ne', '20')]\n",
      "[('s', 'http://www.wikidata.org/entity/Q2567330'), ('name', 'How I Met Your Mother, season 4'), ('ne', '24')]\n",
      "[('s', 'http://www.wikidata.org/entity/Q582332'), ('name', 'How I Met Your Mother, season 5'), ('ne', '24')]\n",
      "[('s', 'http://www.wikidata.org/entity/Q2438066'), ('name', 'How I Met Your Mother, season 6'), ('ne', '24')]\n",
      "[('s', 'http://www.wikidata.org/entity/Q2472427'), ('name', 'How I Met Your Mother, season 7'), ('ne', '24')]\n",
      "[('s', 'http://www.wikidata.org/entity/Q338715'), ('name', 'How I Met Your Mother, season 8'), ('ne', '24')]\n",
      "[('s', 'http://www.wikidata.org/entity/Q13567027'), ('name', 'How I Met Your Mother, season 9'), ('ne', '24')]\n",
      "9\n"
     ]
    }
   ],
   "source": [
    "# write your final query\n",
    "\n",
    "queryString = \"\"\"\n",
    "SELECT DISTINCT ?s ?name ?ne\n",
    "WHERE {\n",
    "   # bind something\n",
    "    wd:Q147235 wdt:P527 ?s .\n",
    "    ?s wdt:P1113 ?ne .\n",
    "       \n",
    "   # get the label\n",
    "   ?s sc:name ?name.\n",
    "}\n",
    "Order by ?name\n",
    "LIMIT 20\n",
    "\"\"\"\n",
    "\n",
    "print(\"Results\")\n",
    "x=run_query(queryString)"
   ]
  },
  {
   "cell_type": "markdown",
   "id": "23e68a2d",
   "metadata": {},
   "source": [
    "## Task 3\n",
    "Get the number of episodes in which the cast members played a role. Who are the most present actors? (the result set must be a list of triples actor/actress IRI, label and #episodes)"
   ]
  },
  {
   "cell_type": "code",
   "execution_count": 7,
   "id": "d53429a8-803e-4823-b171-7a29f4a014af",
   "metadata": {},
   "outputs": [
    {
     "name": "stdout",
     "output_type": "stream",
     "text": [
      "Results\n",
      "[('s', 'http://www.wikidata.org/entity/Q5398810'), ('name', 'Template:How I Met Your Mother'), ('p', 'http://www.wikidata.org/prop/direct/P1423'), ('p_name', 'template has topic')]\n",
      "[('s', 'http://www.wikidata.org/entity/Q2332356'), ('name', 'How I Wet Your Mother'), ('p', 'http://www.wikidata.org/prop/direct/P138'), ('p_name', 'named after')]\n",
      "[('s', 'http://www.wikidata.org/entity/Q20385035'), ('name', 'Ahla Ayam'), ('p', 'http://www.wikidata.org/prop/direct/P144'), ('p_name', 'based on')]\n",
      "[('s', 'http://www.wikidata.org/entity/Q4208862'), ('name', 'How I Met Your Mother'), ('p', 'http://www.wikidata.org/prop/direct/P144'), ('p_name', 'based on')]\n",
      "[('s', 'http://www.wikidata.org/entity/Q2347474'), ('name', 'Robin Scherbatsky'), ('p', 'http://www.wikidata.org/prop/direct/P1441'), ('p_name', 'present in work')]\n",
      "[('s', 'http://www.wikidata.org/entity/Q50383228'), ('name', 'Don Frank'), ('p', 'http://www.wikidata.org/prop/direct/P1441'), ('p_name', 'present in work')]\n",
      "[('s', 'http://www.wikidata.org/entity/Q50383236'), ('name', 'Kevin Venkataraghavan'), ('p', 'http://www.wikidata.org/prop/direct/P1441'), ('p_name', 'present in work')]\n",
      "[('s', 'http://www.wikidata.org/entity/Q50383247'), ('name', 'Nick Podarutti'), ('p', 'http://www.wikidata.org/prop/direct/P1441'), ('p_name', 'present in work')]\n",
      "[('s', 'http://www.wikidata.org/entity/Q50384074'), ('name', 'Metro News One'), ('p', 'http://www.wikidata.org/prop/direct/P1441'), ('p_name', 'present in work')]\n",
      "[('s', 'http://www.wikidata.org/entity/Q50384098'), ('name', 'World Wide News'), ('p', 'http://www.wikidata.org/prop/direct/P1441'), ('p_name', 'present in work')]\n",
      "[('s', 'http://www.wikidata.org/entity/Q50385677'), ('name', 'Genevieve Scherbatsky'), ('p', 'http://www.wikidata.org/prop/direct/P1441'), ('p_name', 'present in work')]\n",
      "[('s', 'http://www.wikidata.org/entity/Q50385690'), ('name', 'Katie Scherbatsky'), ('p', 'http://www.wikidata.org/prop/direct/P1441'), ('p_name', 'present in work')]\n",
      "[('s', 'http://www.wikidata.org/entity/Q50385704'), ('name', 'Max'), ('p', 'http://www.wikidata.org/prop/direct/P1441'), ('p_name', 'present in work')]\n",
      "[('s', 'http://www.wikidata.org/entity/Q50385707'), ('name', 'Scooby Scooberman'), ('p', 'http://www.wikidata.org/prop/direct/P1441'), ('p_name', 'present in work')]\n",
      "[('s', 'http://www.wikidata.org/entity/Q50386077'), ('name', 'Gael'), ('p', 'http://www.wikidata.org/prop/direct/P1441'), ('p_name', 'present in work')]\n",
      "[('s', 'http://www.wikidata.org/entity/Q775254'), ('name', 'Ted Mosby'), ('p', 'http://www.wikidata.org/prop/direct/P1441'), ('p_name', 'present in work')]\n",
      "[('s', 'http://www.wikidata.org/entity/Q838512'), ('name', 'Barney Stinson'), ('p', 'http://www.wikidata.org/prop/direct/P1441'), ('p_name', 'present in work')]\n",
      "[('s', 'http://www.wikidata.org/entity/Q50378104'), ('name', 'Doctor John Stangel'), ('p', 'http://www.wikidata.org/prop/direct/P1441'), ('p_name', 'present in work')]\n",
      "[('s', 'http://www.wikidata.org/entity/Q50383238'), ('name', 'Loretta Stinson'), ('p', 'http://www.wikidata.org/prop/direct/P1441'), ('p_name', 'present in work')]\n",
      "[('s', 'http://www.wikidata.org/entity/Q50383223'), ('name', 'Carl MacLaren'), ('p', 'http://www.wikidata.org/prop/direct/P1441'), ('p_name', 'present in work')]\n",
      "20\n"
     ]
    }
   ],
   "source": [
    "# Things related to \"HIMYM\"\n",
    "queryString = \"\"\"\n",
    "SELECT DISTINCT ?s ?name ?p ?p_name\n",
    "WHERE {\n",
    "   # bind something\n",
    "   ?s ?p wd:Q147235 .\n",
    "   # get the label\n",
    "   ?s sc:name ?name.\n",
    "   ?p sc:name ?p_name.\n",
    "}\n",
    "LIMIT 20\n",
    "\"\"\"\n",
    "\n",
    "print(\"Results\")\n",
    "x=run_query(queryString)"
   ]
  },
  {
   "cell_type": "code",
   "execution_count": 8,
   "id": "66e9cdd5-aad4-4bc2-afc5-c79f19f94c63",
   "metadata": {},
   "outputs": [
    {
     "name": "stdout",
     "output_type": "stream",
     "text": [
      "Results\n",
      "[('p', 'http://www.wikidata.org/prop/direct/P1423'), ('p_name', 'template has topic')]\n",
      "[('p', 'http://www.wikidata.org/prop/direct/P138'), ('p_name', 'named after')]\n",
      "[('p', 'http://www.wikidata.org/prop/direct/P144'), ('p_name', 'based on')]\n",
      "[('p', 'http://www.wikidata.org/prop/direct/P1441'), ('p_name', 'present in work')]\n",
      "[('p', 'http://www.wikidata.org/prop/direct/P179'), ('p_name', 'part of the series')]\n",
      "[('p', 'http://www.wikidata.org/prop/direct/P301'), ('p_name', \"category's main topic\")]\n",
      "[('p', 'http://www.wikidata.org/prop/direct/P800'), ('p_name', 'notable work')]\n",
      "[('p', 'http://www.wikidata.org/prop/direct/P971'), ('p_name', 'category combines topics')]\n",
      "8\n"
     ]
    }
   ],
   "source": [
    "# Predicates related to \"HIMYM\"\n",
    "queryString = \"\"\"\n",
    "SELECT DISTINCT ?p ?p_name\n",
    "WHERE {\n",
    "   # bind something\n",
    "   ?s ?p wd:Q147235 .\n",
    "   # get the label\n",
    "   ?s sc:name ?name.\n",
    "   ?p sc:name ?p_name.\n",
    "}\n",
    "LIMIT 20\n",
    "\"\"\"\n",
    "\n",
    "print(\"Results\")\n",
    "x=run_query(queryString)"
   ]
  },
  {
   "cell_type": "code",
   "execution_count": 10,
   "id": "d200570e-88be-4c7d-8182-07623db4f8a2",
   "metadata": {},
   "outputs": [
    {
     "name": "stdout",
     "output_type": "stream",
     "text": [
      "Results\n",
      "[('p', 'http://www.wikidata.org/prop/direct/P108'), ('p_name', 'employer'), ('s', 'http://www.wikidata.org/entity/Q50384006'), ('name', 'Goliath National Bank')]\n",
      "[('p', 'http://www.wikidata.org/prop/direct/P1412'), ('p_name', 'languages spoken, written or signed'), ('s', 'http://www.wikidata.org/entity/Q1860'), ('name', 'English')]\n",
      "[('p', 'http://www.wikidata.org/prop/direct/P1441'), ('p_name', 'present in work'), ('s', 'http://www.wikidata.org/entity/Q147235'), ('name', 'How I Met Your Mother')]\n",
      "[('p', 'http://www.wikidata.org/prop/direct/P170'), ('p_name', 'creator'), ('s', 'http://www.wikidata.org/entity/Q2656047'), ('name', 'Carter Bays')]\n",
      "[('p', 'http://www.wikidata.org/prop/direct/P170'), ('p_name', 'creator'), ('s', 'http://www.wikidata.org/entity/Q3002075'), ('name', 'Craig Thomas')]\n",
      "[('p', 'http://www.wikidata.org/prop/direct/P175'), ('p_name', 'performer'), ('s', 'http://www.wikidata.org/entity/Q485310'), ('name', 'Neil Patrick Harris')]\n",
      "[('p', 'http://www.wikidata.org/prop/direct/P21'), ('p_name', 'sex or gender'), ('s', 'http://www.wikidata.org/entity/Q6581097'), ('name', 'male')]\n",
      "[('p', 'http://www.wikidata.org/prop/direct/P22'), ('p_name', 'father'), ('s', 'http://www.wikidata.org/entity/Q50385684'), ('name', 'Jerome Whittaker')]\n",
      "[('p', 'http://www.wikidata.org/prop/direct/P25'), ('p_name', 'mother'), ('s', 'http://www.wikidata.org/entity/Q50383238'), ('name', 'Loretta Stinson')]\n",
      "[('p', 'http://www.wikidata.org/prop/direct/P26'), ('p_name', 'spouse'), ('s', 'http://www.wikidata.org/entity/Q2347474'), ('name', 'Robin Scherbatsky')]\n",
      "[('p', 'http://www.wikidata.org/prop/direct/P27'), ('p_name', 'country of citizenship'), ('s', 'http://www.wikidata.org/entity/Q30'), ('name', 'United States of America')]\n",
      "[('p', 'http://www.wikidata.org/prop/direct/P31'), ('p_name', 'instance of'), ('s', 'http://www.wikidata.org/entity/Q15773317'), ('name', 'television character')]\n",
      "[('p', 'http://www.wikidata.org/prop/direct/P31'), ('p_name', 'instance of'), ('s', 'http://www.wikidata.org/entity/Q15632617'), ('name', 'fictional human')]\n",
      "[('p', 'http://www.wikidata.org/prop/direct/P3373'), ('p_name', 'sibling'), ('s', 'http://www.wikidata.org/entity/Q50383232'), ('name', 'James Stinson')]\n",
      "[('p', 'http://www.wikidata.org/prop/direct/P3373'), ('p_name', 'sibling'), ('s', 'http://www.wikidata.org/entity/Q50385667'), ('name', 'Carly Whittaker')]\n",
      "[('p', 'http://www.wikidata.org/prop/direct/P451'), ('p_name', 'unmarried partner'), ('s', 'http://www.wikidata.org/entity/Q50383250'), ('name', 'Quinn Garvey')]\n",
      "[('p', 'http://www.wikidata.org/prop/direct/P451'), ('p_name', 'unmarried partner'), ('s', 'http://www.wikidata.org/entity/Q50383248'), ('name', 'Nora')]\n",
      "[('p', 'http://www.wikidata.org/prop/direct/P734'), ('p_name', 'family name'), ('s', 'http://www.wikidata.org/entity/Q15727832'), ('name', 'Stinson')]\n",
      "[('p', 'http://www.wikidata.org/prop/direct/P735'), ('p_name', 'given name'), ('s', 'http://www.wikidata.org/entity/Q808475'), ('name', 'Barney')]\n",
      "19\n"
     ]
    }
   ],
   "source": [
    "# \"Barney Stinson\" details\n",
    "queryString = \"\"\"\n",
    "SELECT DISTINCT ?p ?p_name ?s ?name\n",
    "WHERE {\n",
    "   # bind something\n",
    "   wd:Q838512 ?p ?s .\n",
    "   # get the label\n",
    "   ?s sc:name ?name.\n",
    "   ?p sc:name ?p_name.\n",
    "}\n",
    "LIMIT 20\n",
    "\"\"\"\n",
    "\n",
    "print(\"Results\")\n",
    "x=run_query(queryString)"
   ]
  },
  {
   "cell_type": "code",
   "execution_count": 11,
   "id": "cbcb99b9-27a5-47a6-890b-0ad371e0f361",
   "metadata": {},
   "outputs": [
    {
     "name": "stdout",
     "output_type": "stream",
     "text": [
      "Results\n",
      "[('p', 'http://www.wikidata.org/prop/direct/P3938'), ('p_name', 'named by'), ('s', 'http://www.wikidata.org/entity/Q15793988'), ('name', 'cheerleader effect')]\n",
      "[('p', 'http://www.wikidata.org/prop/direct/P26'), ('p_name', 'spouse'), ('s', 'http://www.wikidata.org/entity/Q2347474'), ('name', 'Robin Scherbatsky')]\n",
      "[('p', 'http://www.wikidata.org/prop/direct/P3373'), ('p_name', 'sibling'), ('s', 'http://www.wikidata.org/entity/Q50385667'), ('name', 'Carly Whittaker')]\n",
      "[('p', 'http://www.wikidata.org/prop/direct/P3373'), ('p_name', 'sibling'), ('s', 'http://www.wikidata.org/entity/Q50383232'), ('name', 'James Stinson')]\n",
      "[('p', 'http://www.wikidata.org/prop/direct/P40'), ('p_name', 'child'), ('s', 'http://www.wikidata.org/entity/Q50385684'), ('name', 'Jerome Whittaker')]\n",
      "[('p', 'http://www.wikidata.org/prop/direct/P40'), ('p_name', 'child'), ('s', 'http://www.wikidata.org/entity/Q50383238'), ('name', 'Loretta Stinson')]\n",
      "[('p', 'http://www.wikidata.org/prop/direct/P451'), ('p_name', 'unmarried partner'), ('s', 'http://www.wikidata.org/entity/Q50383248'), ('name', 'Nora')]\n",
      "[('p', 'http://www.wikidata.org/prop/direct/P451'), ('p_name', 'unmarried partner'), ('s', 'http://www.wikidata.org/entity/Q50383250'), ('name', 'Quinn Garvey')]\n",
      "[('p', 'http://www.wikidata.org/prop/direct/P460'), ('p_name', 'said to be the same as'), ('s', 'http://www.wikidata.org/entity/Q50378104'), ('name', 'Doctor John Stangel')]\n",
      "[('p', 'http://www.wikidata.org/prop/direct/P50'), ('p_name', 'author'), ('s', 'http://www.wikidata.org/entity/Q10695436'), ('name', 'Bro Code')]\n",
      "[('p', 'http://www.wikidata.org/prop/direct/P674'), ('p_name', 'characters'), ('s', 'http://www.wikidata.org/entity/Q147235'), ('name', 'How I Met Your Mother')]\n",
      "11\n"
     ]
    }
   ],
   "source": [
    "# Things related to \"Barney Stinson\"\n",
    "queryString = \"\"\"\n",
    "SELECT DISTINCT ?p ?p_name ?s ?name\n",
    "WHERE {\n",
    "   # bind something\n",
    "   ?s ?p wd:Q838512 .\n",
    "   # get the label\n",
    "   ?s sc:name ?name.\n",
    "   ?p sc:name ?p_name.\n",
    "}\n",
    "LIMIT 20\n",
    "\"\"\"\n",
    "\n",
    "print(\"Results\")\n",
    "x=run_query(queryString)"
   ]
  },
  {
   "cell_type": "code",
   "execution_count": 13,
   "id": "621c794f-12a6-4246-877a-b8f278586c5c",
   "metadata": {},
   "outputs": [
    {
     "name": "stdout",
     "output_type": "stream",
     "text": [
      "Results\n",
      "[('p', 'http://www.wikidata.org/prop/direct/P1424'), ('p_name', \"topic's main template\"), ('s', 'http://www.wikidata.org/entity/Q18606012'), ('name', 'Template:The Simpsons episodes')]\n",
      "[('p', 'http://www.wikidata.org/prop/direct/P1424'), ('p_name', \"topic's main template\"), ('s', 'http://www.wikidata.org/entity/Q7880352'), ('name', 'Template:Infobox television episode')]\n",
      "[('p', 'http://www.wikidata.org/prop/direct/P1552'), ('p_name', 'has quality'), ('s', 'http://www.wikidata.org/entity/Q39242358'), ('name', 'number of episodes produced')]\n",
      "[('p', 'http://www.wikidata.org/prop/direct/P1552'), ('p_name', 'has quality'), ('s', 'http://www.wikidata.org/entity/Q59180636'), ('name', 'episode title')]\n",
      "[('p', 'http://www.wikidata.org/prop/direct/P1552'), ('p_name', 'has quality'), ('s', 'http://www.wikidata.org/entity/Q39239591'), ('name', 'number of episodes at the end of the current season or of the last season aired')]\n",
      "[('p', 'http://www.wikidata.org/prop/direct/P1552'), ('p_name', 'has quality'), ('s', 'http://www.wikidata.org/entity/Q39242248'), ('name', 'number of episodes aired')]\n",
      "[('p', 'http://www.wikidata.org/prop/direct/P1889'), ('p_name', 'different from'), ('s', 'http://www.wikidata.org/entity/Q1983062'), ('name', 'episode')]\n",
      "[('p', 'http://www.wikidata.org/prop/direct/P1889'), ('p_name', 'different from'), ('s', 'http://www.wikidata.org/entity/Q50914552'), ('name', 'four-part episode')]\n",
      "[('p', 'http://www.wikidata.org/prop/direct/P1889'), ('p_name', 'different from'), ('s', 'http://www.wikidata.org/entity/Q106942341'), ('name', 'talk show episode')]\n",
      "[('p', 'http://www.wikidata.org/prop/direct/P1889'), ('p_name', 'different from'), ('s', 'http://www.wikidata.org/entity/Q1261214'), ('name', 'television special')]\n",
      "[('p', 'http://www.wikidata.org/prop/direct/P1889'), ('p_name', 'different from'), ('s', 'http://www.wikidata.org/entity/Q29555881'), ('name', 'segment of a television episode')]\n",
      "[('p', 'http://www.wikidata.org/prop/direct/P1889'), ('p_name', 'different from'), ('s', 'http://www.wikidata.org/entity/Q50062923'), ('name', 'three-part episode')]\n",
      "[('p', 'http://www.wikidata.org/prop/direct/P1889'), ('p_name', 'different from'), ('s', 'http://www.wikidata.org/entity/Q21664088'), ('name', 'two-part episode')]\n",
      "[('p', 'http://www.wikidata.org/prop/direct/P1889'), ('p_name', 'different from'), ('s', 'http://www.wikidata.org/entity/Q99079902'), ('name', 'five-part episode')]\n",
      "[('p', 'http://www.wikidata.org/prop/direct/P1889'), ('p_name', 'different from'), ('s', 'http://www.wikidata.org/entity/Q1464125'), ('name', 'webisode')]\n",
      "[('p', 'http://www.wikidata.org/prop/direct/P1963'), ('p_name', 'properties for this type'), ('s', 'http://www.wikidata.org/entity/P179'), ('name', 'part of the series')]\n",
      "[('p', 'http://www.wikidata.org/prop/direct/P1963'), ('p_name', 'properties for this type'), ('s', 'http://www.wikidata.org/entity/P4908'), ('name', 'season')]\n",
      "[('p', 'http://www.wikidata.org/prop/direct/P1963'), ('p_name', 'properties for this type'), ('s', 'http://www.wikidata.org/entity/P1476'), ('name', 'title')]\n",
      "[('p', 'http://www.wikidata.org/prop/direct/P1963'), ('p_name', 'properties for this type'), ('s', 'http://www.wikidata.org/entity/P161'), ('name', 'cast member')]\n",
      "[('p', 'http://www.wikidata.org/prop/direct/P1963'), ('p_name', 'properties for this type'), ('s', 'http://www.wikidata.org/entity/P58'), ('name', 'screenwriter')]\n",
      "20\n"
     ]
    }
   ],
   "source": [
    "# \"television series episode\" details\n",
    "queryString = \"\"\"\n",
    "SELECT DISTINCT ?p ?p_name ?s ?name\n",
    "WHERE {\n",
    "   # bind something\n",
    "   wd:Q21191270 ?p ?s .\n",
    "   # get the label\n",
    "   ?s sc:name ?name.\n",
    "   ?p sc:name ?p_name.\n",
    "}\n",
    "LIMIT 20\n",
    "\"\"\"\n",
    "\n",
    "print(\"Results\")\n",
    "x=run_query(queryString)"
   ]
  },
  {
   "cell_type": "code",
   "execution_count": 14,
   "id": "674ddb1e-4ebd-423d-9486-f16a138ffcbb",
   "metadata": {},
   "outputs": [
    {
     "name": "stdout",
     "output_type": "stream",
     "text": [
      "Results\n",
      "[('p', 'http://www.wikidata.org/prop/direct/P1424'), ('p_name', \"topic's main template\")]\n",
      "[('p', 'http://www.wikidata.org/prop/direct/P1552'), ('p_name', 'has quality')]\n",
      "[('p', 'http://www.wikidata.org/prop/direct/P1889'), ('p_name', 'different from')]\n",
      "[('p', 'http://www.wikidata.org/prop/direct/P1963'), ('p_name', 'properties for this type')]\n",
      "[('p', 'http://www.wikidata.org/prop/direct/P279'), ('p_name', 'subclass of')]\n",
      "[('p', 'http://www.wikidata.org/prop/direct/P361'), ('p_name', 'part of')]\n",
      "[('p', 'http://www.wikidata.org/prop/direct/P6104'), ('p_name', 'maintained by WikiProject')]\n",
      "[('p', 'http://www.wikidata.org/prop/direct/P910'), ('p_name', \"topic's main category\")]\n",
      "8\n"
     ]
    }
   ],
   "source": [
    "# \"television series episode\" predicates\n",
    "queryString = \"\"\"\n",
    "SELECT DISTINCT ?p ?p_name\n",
    "WHERE {\n",
    "   # bind something\n",
    "   wd:Q21191270 ?p ?s .\n",
    "   # get the label\n",
    "   ?s sc:name ?name.\n",
    "   ?p sc:name ?p_name.\n",
    "}\n",
    "LIMIT 20\n",
    "\"\"\"\n",
    "\n",
    "print(\"Results\")\n",
    "x=run_query(queryString)"
   ]
  },
  {
   "cell_type": "code",
   "execution_count": 2,
   "id": "087aca2b-5fa1-4f14-8051-70d284bc1664",
   "metadata": {},
   "outputs": [
    {
     "name": "stdout",
     "output_type": "stream",
     "text": [
      "Results\n",
      "[('s', 'http://www.wikidata.org/entity/Q2343478'), ('name', \"Move and You're Dead\")]\n",
      "[('s', 'http://www.wikidata.org/entity/Q8183269'), ('name', \"A Hard Day's Night\")]\n",
      "[('s', 'http://www.wikidata.org/entity/Q8194509'), ('name', 'Danger at Ocean Deep')]\n",
      "[('s', 'http://www.wikidata.org/entity/Q8773896'), ('name', 'Cry Wolf')]\n",
      "[('s', 'http://www.wikidata.org/entity/Q9086804'), ('name', 'The First Cut Is the Deepest')]\n",
      "[('s', 'http://www.wikidata.org/entity/Q13440704'), ('name', 'Bling')]\n",
      "[('s', 'http://www.wikidata.org/entity/Q13505848'), ('name', 'Cut')]\n",
      "[('s', 'http://www.wikidata.org/entity/Q13632733'), ('name', 'Fallacy')]\n",
      "[('s', 'http://www.wikidata.org/entity/Q13638543'), ('name', 'Futility')]\n",
      "[('s', 'http://www.wikidata.org/entity/Q13642560'), ('name', 'Girlfriends')]\n",
      "[('s', 'http://www.wikidata.org/entity/Q13646055'), ('name', 'Good Faith')]\n",
      "[('s', 'http://www.wikidata.org/entity/Q13647805'), ('name', 'Grief')]\n",
      "[('s', 'http://www.wikidata.org/entity/Q13648798'), ('name', 'Gunplay')]\n",
      "[('s', 'http://www.wikidata.org/entity/Q13724058'), ('name', 'Helpless')]\n",
      "[('s', 'http://www.wikidata.org/entity/Q13865328'), ('name', 'Murder Book')]\n",
      "[('s', 'http://www.wikidata.org/entity/Q14166784'), ('name', 'Pro Se')]\n",
      "[('s', 'http://www.wikidata.org/entity/Q14328814'), ('name', 'Self Defense')]\n",
      "[('s', 'http://www.wikidata.org/entity/Q14360677'), ('name', 'Slave')]\n",
      "[('s', 'http://www.wikidata.org/entity/Q14517968'), ('name', 'Wedded Bliss')]\n",
      "[('s', 'http://www.wikidata.org/entity/Q2796013'), ('name', 'Coming Down Hard')]\n",
      "20\n"
     ]
    }
   ],
   "source": [
    "# istances of \"television series episode\"\n",
    "queryString = \"\"\"\n",
    "SELECT DISTINCT ?s ?name\n",
    "WHERE {\n",
    "   # bind something\n",
    "   ?s wdt:P31 wd:Q21191270 .\n",
    "   # get the label\n",
    "   ?s sc:name ?name.\n",
    "}\n",
    "LIMIT 20\n",
    "\"\"\"\n",
    "\n",
    "print(\"Results\")\n",
    "x=run_query(queryString)"
   ]
  },
  {
   "cell_type": "code",
   "execution_count": 16,
   "id": "c61381a6-baad-4182-a570-75d6bf01da35",
   "metadata": {},
   "outputs": [
    {
     "name": "stdout",
     "output_type": "stream",
     "text": [
      "Results\n",
      "[('s', 'http://www.wikidata.org/entity/Q18606012'), ('name', 'Template:The Simpsons episodes'), ('p', 'http://www.wikidata.org/prop/direct/P1424'), ('p_name', \"topic's main template\")]\n",
      "[('s', 'http://www.wikidata.org/entity/Q7880352'), ('name', 'Template:Infobox television episode'), ('p', 'http://www.wikidata.org/prop/direct/P1424'), ('p_name', \"topic's main template\")]\n",
      "[('s', 'http://www.wikidata.org/entity/Q39242358'), ('name', 'number of episodes produced'), ('p', 'http://www.wikidata.org/prop/direct/P1552'), ('p_name', 'has quality')]\n",
      "[('s', 'http://www.wikidata.org/entity/Q59180636'), ('name', 'episode title'), ('p', 'http://www.wikidata.org/prop/direct/P1552'), ('p_name', 'has quality')]\n",
      "[('s', 'http://www.wikidata.org/entity/Q39239591'), ('name', 'number of episodes at the end of the current season or of the last season aired'), ('p', 'http://www.wikidata.org/prop/direct/P1552'), ('p_name', 'has quality')]\n",
      "[('s', 'http://www.wikidata.org/entity/Q39242248'), ('name', 'number of episodes aired'), ('p', 'http://www.wikidata.org/prop/direct/P1552'), ('p_name', 'has quality')]\n",
      "[('s', 'http://www.wikidata.org/entity/Q1464125'), ('name', 'webisode'), ('p', 'http://www.wikidata.org/prop/direct/P1889'), ('p_name', 'different from')]\n",
      "[('s', 'http://www.wikidata.org/entity/Q99079902'), ('name', 'five-part episode'), ('p', 'http://www.wikidata.org/prop/direct/P1889'), ('p_name', 'different from')]\n",
      "[('s', 'http://www.wikidata.org/entity/Q1983062'), ('name', 'episode'), ('p', 'http://www.wikidata.org/prop/direct/P1889'), ('p_name', 'different from')]\n",
      "[('s', 'http://www.wikidata.org/entity/Q50062923'), ('name', 'three-part episode'), ('p', 'http://www.wikidata.org/prop/direct/P1889'), ('p_name', 'different from')]\n",
      "[('s', 'http://www.wikidata.org/entity/Q1261214'), ('name', 'television special'), ('p', 'http://www.wikidata.org/prop/direct/P1889'), ('p_name', 'different from')]\n",
      "[('s', 'http://www.wikidata.org/entity/Q106942341'), ('name', 'talk show episode'), ('p', 'http://www.wikidata.org/prop/direct/P1889'), ('p_name', 'different from')]\n",
      "[('s', 'http://www.wikidata.org/entity/Q50914552'), ('name', 'four-part episode'), ('p', 'http://www.wikidata.org/prop/direct/P1889'), ('p_name', 'different from')]\n",
      "[('s', 'http://www.wikidata.org/entity/Q21664088'), ('name', 'two-part episode'), ('p', 'http://www.wikidata.org/prop/direct/P1889'), ('p_name', 'different from')]\n",
      "[('s', 'http://www.wikidata.org/entity/Q29555881'), ('name', 'segment of a television episode'), ('p', 'http://www.wikidata.org/prop/direct/P1889'), ('p_name', 'different from')]\n",
      "[('s', 'http://www.wikidata.org/entity/P161'), ('name', 'cast member'), ('p', 'http://www.wikidata.org/prop/direct/P1963'), ('p_name', 'properties for this type')]\n",
      "[('s', 'http://www.wikidata.org/entity/P2364'), ('name', 'production code'), ('p', 'http://www.wikidata.org/prop/direct/P1963'), ('p_name', 'properties for this type')]\n",
      "[('s', 'http://www.wikidata.org/entity/P577'), ('name', 'publication date'), ('p', 'http://www.wikidata.org/prop/direct/P1963'), ('p_name', 'properties for this type')]\n",
      "[('s', 'http://www.wikidata.org/entity/P57'), ('name', 'director'), ('p', 'http://www.wikidata.org/prop/direct/P1963'), ('p_name', 'properties for this type')]\n",
      "[('s', 'http://www.wikidata.org/entity/P179'), ('name', 'part of the series'), ('p', 'http://www.wikidata.org/prop/direct/P1963'), ('p_name', 'properties for this type')]\n",
      "[('s', 'http://www.wikidata.org/entity/P58'), ('name', 'screenwriter'), ('p', 'http://www.wikidata.org/prop/direct/P1963'), ('p_name', 'properties for this type')]\n",
      "[('s', 'http://www.wikidata.org/entity/P1476'), ('name', 'title'), ('p', 'http://www.wikidata.org/prop/direct/P1963'), ('p_name', 'properties for this type')]\n",
      "[('s', 'http://www.wikidata.org/entity/P31'), ('name', 'instance of'), ('p', 'http://www.wikidata.org/prop/direct/P1963'), ('p_name', 'properties for this type')]\n",
      "[('s', 'http://www.wikidata.org/entity/P4908'), ('name', 'season'), ('p', 'http://www.wikidata.org/prop/direct/P1963'), ('p_name', 'properties for this type')]\n",
      "[('s', 'http://www.wikidata.org/entity/Q2431196'), ('name', 'audiovisual work'), ('p', 'http://www.wikidata.org/prop/direct/P279'), ('p_name', 'subclass of')]\n",
      "[('s', 'http://www.wikidata.org/entity/Q1983062'), ('name', 'episode'), ('p', 'http://www.wikidata.org/prop/direct/P279'), ('p_name', 'subclass of')]\n",
      "[('s', 'http://www.wikidata.org/entity/Q15416'), ('name', 'television program'), ('p', 'http://www.wikidata.org/prop/direct/P279'), ('p_name', 'subclass of')]\n",
      "[('s', 'http://www.wikidata.org/entity/Q3464665'), ('name', 'television series season'), ('p', 'http://www.wikidata.org/prop/direct/P361'), ('p_name', 'part of')]\n",
      "[('s', 'http://www.wikidata.org/entity/Q5398426'), ('name', 'television series'), ('p', 'http://www.wikidata.org/prop/direct/P361'), ('p_name', 'part of')]\n",
      "[('s', 'http://www.wikidata.org/entity/Q8485793'), ('name', 'WikiProject Film'), ('p', 'http://www.wikidata.org/prop/direct/P6104'), ('p_name', 'maintained by WikiProject')]\n",
      "[('s', 'http://www.wikidata.org/entity/Q7453224'), ('name', 'Category:Television episodes'), ('p', 'http://www.wikidata.org/prop/direct/P910'), ('p_name', \"topic's main category\")]\n",
      "31\n"
     ]
    }
   ],
   "source": [
    "# \"Television series episode\" details\n",
    "queryString = \"\"\"\n",
    "SELECT DISTINCT ?s ?name ?p ?p_name\n",
    "WHERE {\n",
    "   # bind something\n",
    "   wd:Q21191270 ?p ?s .\n",
    "   # get the label\n",
    "   ?s sc:name ?name.\n",
    "   ?p sc:name ?p_name.\n",
    "}\n",
    "LIMIT 40\n",
    "\"\"\"\n",
    "\n",
    "print(\"Results\")\n",
    "x=run_query(queryString)"
   ]
  },
  {
   "cell_type": "code",
   "execution_count": 5,
   "id": "3b5b3ad5-f2a2-4df5-8668-e5d7531d2c53",
   "metadata": {},
   "outputs": [
    {
     "name": "stdout",
     "output_type": "stream",
     "text": [
      "Results\n",
      "[('s', 'http://www.wikidata.org/entity/Q33999'), ('name', 'actor'), ('p', 'http://www.wikidata.org/prop/direct/P106'), ('p_name', 'occupation')]\n",
      "[('s', 'http://www.wikidata.org/entity/Q10798782'), ('name', 'television actor'), ('p', 'http://www.wikidata.org/prop/direct/P106'), ('p_name', 'occupation')]\n",
      "[('s', 'http://www.wikidata.org/entity/Q10800557'), ('name', 'film actor'), ('p', 'http://www.wikidata.org/prop/direct/P106'), ('p_name', 'occupation')]\n",
      "[('s', 'http://www.wikidata.org/entity/Q49085'), ('name', 'African Americans'), ('p', 'http://www.wikidata.org/prop/direct/P172'), ('p_name', 'ethnic group')]\n",
      "[('s', 'http://www.wikidata.org/entity/Q185216'), ('name', 'Grapevine'), ('p', 'http://www.wikidata.org/prop/direct/P19'), ('p_name', 'place of birth')]\n",
      "[('s', 'http://www.wikidata.org/entity/Q6581072'), ('name', 'female'), ('p', 'http://www.wikidata.org/prop/direct/P21'), ('p_name', 'sex or gender')]\n",
      "[('s', 'http://www.wikidata.org/entity/Q30'), ('name', 'United States of America'), ('p', 'http://www.wikidata.org/prop/direct/P27'), ('p_name', 'country of citizenship')]\n",
      "[('s', 'http://www.wikidata.org/entity/Q5'), ('name', 'human'), ('p', 'http://www.wikidata.org/prop/direct/P31'), ('p_name', 'instance of')]\n",
      "[('s', 'http://www.wikidata.org/entity/Q60687720'), ('name', 'NL Gendergap maintenance'), ('p', 'http://www.wikidata.org/prop/direct/P5008'), ('p_name', 'on focus list of Wikimedia project')]\n",
      "[('s', 'http://www.wikidata.org/entity/Q1230739'), ('name', 'University of Texas at Arlington'), ('p', 'http://www.wikidata.org/prop/direct/P69'), ('p_name', 'educated at')]\n",
      "[('s', 'http://www.wikidata.org/entity/Q5147123'), ('name', 'Colleyville Heritage High School'), ('p', 'http://www.wikidata.org/prop/direct/P69'), ('p_name', 'educated at')]\n",
      "[('s', 'http://www.wikidata.org/entity/Q566893'), ('name', 'Annie'), ('p', 'http://www.wikidata.org/prop/direct/P735'), ('p_name', 'given name')]\n",
      "12\n"
     ]
    }
   ],
   "source": [
    "# \"Annie Ilonzeh\" details\n",
    "queryString = \"\"\"\n",
    "SELECT DISTINCT ?s ?name ?p ?p_name\n",
    "WHERE {\n",
    "   # bind something\n",
    "   wd:Q465556 ?p ?s .\n",
    "   # get the label\n",
    "   ?s sc:name ?name.\n",
    "   ?p sc:name ?p_name.\n",
    "}\n",
    "LIMIT 40\n",
    "\"\"\"\n",
    "\n",
    "print(\"Results\")\n",
    "x=run_query(queryString)"
   ]
  },
  {
   "cell_type": "code",
   "execution_count": 8,
   "id": "dbf44d9a-208b-4a66-9168-3cfc37a3320b",
   "metadata": {},
   "outputs": [
    {
     "name": "stdout",
     "output_type": "stream",
     "text": [
      "Results\n",
      "[('s', 'http://www.wikidata.org/entity/Q785891'), ('name', 'list of How I Met Your Mother episodes'), ('p', 'http://www.wikidata.org/prop/direct/P1811'), ('p_name', 'list of episodes')]\n",
      "[('s', 'http://www.wikidata.org/entity/Q21664088'), ('name', 'two-part episode'), ('p', 'http://www.wikidata.org/prop/direct/P2670'), ('p_name', 'has parts of the class')]\n",
      "2\n"
     ]
    }
   ],
   "source": [
    "# \"HIMYM\" details regarding episodes\n",
    "queryString = \"\"\"\n",
    "SELECT DISTINCT ?s ?name ?p ?p_name\n",
    "WHERE {\n",
    "   # bind something\n",
    "   wd:Q147235 ?p ?s .\n",
    "   # get the label\n",
    "   ?s sc:name ?name.\n",
    "   ?p sc:name ?p_name.\n",
    "      \n",
    "   FILTER regex(?name, \"epis\", \"i\")\n",
    "}\n",
    "LIMIT 40\n",
    "\"\"\"\n",
    "\n",
    "print(\"Results\")\n",
    "x=run_query(queryString)"
   ]
  },
  {
   "cell_type": "code",
   "execution_count": 9,
   "id": "5b030026-52ec-489a-8d62-a13727d1b46a",
   "metadata": {},
   "outputs": [
    {
     "name": "stdout",
     "output_type": "stream",
     "text": [
      "Results\n",
      "[('s', 'http://www.wikidata.org/entity/Q8526738'), ('name', 'Category:How I Met Your Mother episodes'), ('p', 'http://www.wikidata.org/prop/direct/P1754'), ('p_name', 'category related to list')]\n",
      "[('s', 'http://www.wikidata.org/entity/Q13406463'), ('name', 'Wikimedia list article'), ('p', 'http://www.wikidata.org/prop/direct/P31'), ('p_name', 'instance of')]\n",
      "[('s', 'http://www.wikidata.org/entity/Q21191270'), ('name', 'television series episode'), ('p', 'http://www.wikidata.org/prop/direct/P360'), ('p_name', 'is a list of')]\n",
      "3\n"
     ]
    }
   ],
   "source": [
    "# \"list of How I Met Your Mother episodes\" details\n",
    "queryString = \"\"\"\n",
    "SELECT DISTINCT ?s ?name ?p ?p_name\n",
    "WHERE {\n",
    "   # bind something\n",
    "   wd:Q785891 ?p ?s .\n",
    "   # get the label\n",
    "   ?s sc:name ?name.\n",
    "   ?p sc:name ?p_name.\n",
    "}\n",
    "LIMIT 40\n",
    "\"\"\"\n",
    "\n",
    "print(\"Results\")\n",
    "x=run_query(queryString)"
   ]
  },
  {
   "cell_type": "code",
   "execution_count": 10,
   "id": "d87d64b2-cb51-4dbb-a91a-e057c05c1174",
   "metadata": {},
   "outputs": [
    {
     "name": "stdout",
     "output_type": "stream",
     "text": [
      "Results\n",
      "[('p', 'http://www.wikidata.org/prop/direct/P1424'), ('p_name', \"topic's main template\")]\n",
      "[('p', 'http://www.wikidata.org/prop/direct/P1552'), ('p_name', 'has quality')]\n",
      "[('p', 'http://www.wikidata.org/prop/direct/P1709'), ('p_name', 'equivalent class')]\n",
      "[('p', 'http://www.wikidata.org/prop/direct/P1889'), ('p_name', 'different from')]\n",
      "[('p', 'http://www.wikidata.org/prop/direct/P1963'), ('p_name', 'properties for this type')]\n",
      "[('p', 'http://www.wikidata.org/prop/direct/P2581'), ('p_name', 'BabelNet ID')]\n",
      "[('p', 'http://www.wikidata.org/prop/direct/P279'), ('p_name', 'subclass of')]\n",
      "[('p', 'http://www.wikidata.org/prop/direct/P3417'), ('p_name', 'Quora topic ID')]\n",
      "[('p', 'http://www.wikidata.org/prop/direct/P361'), ('p_name', 'part of')]\n",
      "[('p', 'http://www.wikidata.org/prop/direct/P6104'), ('p_name', 'maintained by WikiProject')]\n",
      "[('p', 'http://www.wikidata.org/prop/direct/P646'), ('p_name', 'Freebase ID')]\n",
      "[('p', 'http://www.wikidata.org/prop/direct/P8408'), ('p_name', 'KBpedia ID')]\n",
      "[('p', 'http://www.wikidata.org/prop/direct/P910'), ('p_name', \"topic's main category\")]\n",
      "13\n"
     ]
    }
   ],
   "source": [
    "# \"Television series episode\" predicates\n",
    "queryString = \"\"\"\n",
    "SELECT DISTINCT ?p ?p_name\n",
    "WHERE {\n",
    "   # bind something\n",
    "   wd:Q21191270 ?p ?s .\n",
    "   # get the label\n",
    "   ?p sc:name ?p_name.\n",
    "}\n",
    "LIMIT 20\n",
    "\"\"\"\n",
    "\n",
    "print(\"Results\")\n",
    "x=run_query(queryString)"
   ]
  },
  {
   "cell_type": "code",
   "execution_count": 11,
   "id": "2ebd26ce-f061-46c2-be22-d2e388136e4c",
   "metadata": {},
   "outputs": [
    {
     "name": "stdout",
     "output_type": "stream",
     "text": [
      "Results\n",
      "[('s', 'http://www.wikidata.org/entity/Q5398426'), ('name', 'television series')]\n",
      "[('s', 'http://www.wikidata.org/entity/Q3464665'), ('name', 'television series season')]\n",
      "2\n"
     ]
    }
   ],
   "source": [
    "# \"Television series episode\" is part of\n",
    "queryString = \"\"\"\n",
    "SELECT DISTINCT ?s ?name\n",
    "WHERE {\n",
    "   # bind something\n",
    "   wd:Q21191270 wdt:P361 ?s .\n",
    "   # get the label\n",
    "   ?s sc:name ?name.\n",
    "}\n",
    "LIMIT 20\n",
    "\"\"\"\n",
    "\n",
    "print(\"Results\")\n",
    "x=run_query(queryString)"
   ]
  },
  {
   "cell_type": "code",
   "execution_count": 14,
   "id": "b8c7aaef-903d-41e6-8e89-5af517c138ad",
   "metadata": {},
   "outputs": [
    {
     "name": "stdout",
     "output_type": "stream",
     "text": [
      "Results\n",
      "[('obj', 'http://www.wikidata.org/entity/Q2438066'), ('o_name', 'How I Met Your Mother, season 6')]\n",
      "[('obj', 'http://www.wikidata.org/entity/Q2715578'), ('o_name', 'How I Met Your Mother, season 1')]\n",
      "[('obj', 'http://www.wikidata.org/entity/Q13567027'), ('o_name', 'How I Met Your Mother, season 9')]\n",
      "[('obj', 'http://www.wikidata.org/entity/Q2567330'), ('o_name', 'How I Met Your Mother, season 4')]\n",
      "[('obj', 'http://www.wikidata.org/entity/Q338715'), ('o_name', 'How I Met Your Mother, season 8')]\n",
      "[('obj', 'http://www.wikidata.org/entity/Q582332'), ('o_name', 'How I Met Your Mother, season 5')]\n",
      "[('obj', 'http://www.wikidata.org/entity/Q3468515'), ('o_name', 'How I Met Your Mother, season 2')]\n",
      "[('obj', 'http://www.wikidata.org/entity/Q2555117'), ('o_name', 'How I Met Your Mother, season 3')]\n",
      "[('obj', 'http://www.wikidata.org/entity/Q2472427'), ('o_name', 'How I Met Your Mother, season 7')]\n",
      "9\n"
     ]
    }
   ],
   "source": [
    "# 'HIMYM' parts\n",
    "queryString = \"\"\"\n",
    "SELECT DISTINCT ?obj ?o_name\n",
    "WHERE {\n",
    "   # bind something\n",
    "   wd:Q147235 wdt:P527 ?obj .\n",
    "   # get the label\n",
    "   ?obj sc:name ?o_name.\n",
    "}\n",
    "LIMIT 40\n",
    "\"\"\"\n",
    "\n",
    "print(\"Results\")\n",
    "x=run_query(queryString)"
   ]
  },
  {
   "cell_type": "code",
   "execution_count": 19,
   "id": "89715eeb-cc57-4137-a597-990e784b53e8",
   "metadata": {},
   "outputs": [
    {
     "name": "stdout",
     "output_type": "stream",
     "text": [
      "Results\n",
      "[('obj', 'http://www.wikidata.org/entity/Q11696021'), ('o_name', 'Nothing Good Happens After 2 A.M.')]\n",
      "[('obj', 'http://www.wikidata.org/entity/Q1327587'), ('o_name', 'Okay Awesome')]\n",
      "[('obj', 'http://www.wikidata.org/entity/Q3480575'), ('o_name', 'Return of the Shirt')]\n",
      "[('obj', 'http://www.wikidata.org/entity/Q467447'), ('o_name', 'Pilot')]\n",
      "[('obj', 'http://www.wikidata.org/entity/Q468587'), ('o_name', 'Purple Giraffe')]\n",
      "[('obj', 'http://www.wikidata.org/entity/Q471448'), ('o_name', 'Sweet Taste of Liberty')]\n",
      "[('obj', 'http://www.wikidata.org/entity/Q4809956'), ('o_name', 'Game Night')]\n",
      "[('obj', 'http://www.wikidata.org/entity/Q4817584'), ('o_name', 'Drumroll, Please')]\n",
      "[('obj', 'http://www.wikidata.org/entity/Q4818636'), ('o_name', 'Life Among the Gorillas')]\n",
      "[('obj', 'http://www.wikidata.org/entity/Q4818989'), ('o_name', 'Cupcake')]\n",
      "[('obj', 'http://www.wikidata.org/entity/Q4819005'), ('o_name', 'The Wedding')]\n",
      "[('obj', 'http://www.wikidata.org/entity/Q4884249'), ('o_name', 'Belly Full of Turkey')]\n",
      "[('obj', 'http://www.wikidata.org/entity/Q5151207'), ('o_name', 'Come On')]\n",
      "[('obj', 'http://www.wikidata.org/entity/Q6781049'), ('o_name', 'Mary the Paralegal')]\n",
      "[('obj', 'http://www.wikidata.org/entity/Q6857975'), ('o_name', 'Milk')]\n",
      "[('obj', 'http://www.wikidata.org/entity/Q7731151'), ('o_name', 'The Duel')]\n",
      "[('obj', 'http://www.wikidata.org/entity/Q7747382'), ('o_name', 'The Limo')]\n",
      "[('obj', 'http://www.wikidata.org/entity/Q7757165'), ('o_name', 'The Pineapple Incident')]\n",
      "[('obj', 'http://www.wikidata.org/entity/Q8072588'), ('o_name', 'Zip, Zip, Zip')]\n",
      "[('obj', 'http://www.wikidata.org/entity/Q8247171'), ('o_name', 'Best Prom Ever')]\n",
      "[('obj', 'http://www.wikidata.org/entity/Q9030442'), ('o_name', 'Matchmaker')]\n",
      "[('obj', 'http://www.wikidata.org/entity/Q9078314'), ('o_name', 'Slutty Pumpkin')]\n",
      "22\n"
     ]
    }
   ],
   "source": [
    "# 'How I Met Your Mother, season 1' parts\n",
    "queryString = \"\"\"\n",
    "SELECT DISTINCT ?obj ?o_name\n",
    "WHERE {\n",
    "   # bind something\n",
    "   wd:Q2715578 wdt:P527 ?obj .\n",
    "   # get the label\n",
    "   ?obj sc:name ?o_name.\n",
    "}\n",
    "LIMIT 40\n",
    "\"\"\"\n",
    "\n",
    "print(\"Results\")\n",
    "x=run_query(queryString)"
   ]
  },
  {
   "cell_type": "code",
   "execution_count": 18,
   "id": "0ef9c1ac-41a6-45c3-b422-fc6643414811",
   "metadata": {},
   "outputs": [
    {
     "name": "stdout",
     "output_type": "stream",
     "text": [
      "Results\n",
      "[('obj', 'http://www.wikidata.org/entity/Q200566'), ('o_name', 'Cobie Smulders')]\n",
      "[('obj', 'http://www.wikidata.org/entity/Q435839'), ('o_name', 'Ashley Williams')]\n",
      "[('obj', 'http://www.wikidata.org/entity/Q3045427'), ('o_name', 'George Cheung')]\n",
      "[('obj', 'http://www.wikidata.org/entity/Q450496'), ('o_name', 'Alyssa Shafer')]\n",
      "[('obj', 'http://www.wikidata.org/entity/Q485310'), ('o_name', 'Neil Patrick Harris')]\n",
      "[('obj', 'http://www.wikidata.org/entity/Q223455'), ('o_name', 'Josh Radnor')]\n",
      "[('obj', 'http://www.wikidata.org/entity/Q199927'), ('o_name', 'Alyson Hannigan')]\n",
      "[('obj', 'http://www.wikidata.org/entity/Q202304'), ('o_name', 'Jason Segel')]\n",
      "[('obj', 'http://www.wikidata.org/entity/Q333544'), ('o_name', 'Bob Saget')]\n",
      "[('obj', 'http://www.wikidata.org/entity/Q366322'), ('o_name', 'Alexis Denisof')]\n",
      "10\n"
     ]
    }
   ],
   "source": [
    "# 'Nothing Good Happens After 2 A.M.' cast\n",
    "queryString = \"\"\"\n",
    "SELECT DISTINCT ?obj ?o_name\n",
    "WHERE {\n",
    "   # bind something\n",
    "   wd:Q11696021 wdt:P161 ?obj .\n",
    "   # get the label\n",
    "   ?obj sc:name ?o_name.\n",
    "}\n",
    "LIMIT 15\n",
    "\"\"\"\n",
    "\n",
    "print(\"Results\")\n",
    "x=run_query(queryString)"
   ]
  },
  {
   "cell_type": "code",
   "execution_count": 23,
   "id": "c06ad78b-894f-4de4-b958-dad8d9cea795",
   "metadata": {},
   "outputs": [
    {
     "name": "stdout",
     "output_type": "stream",
     "text": [
      "Results\n",
      "[('ac', 'http://www.wikidata.org/entity/Q223455'), ('name', 'Josh Radnor'), ('cnt', '145')]\n",
      "[('ac', 'http://www.wikidata.org/entity/Q485310'), ('name', 'Neil Patrick Harris'), ('cnt', '145')]\n",
      "[('ac', 'http://www.wikidata.org/entity/Q200566'), ('name', 'Cobie Smulders'), ('cnt', '145')]\n",
      "[('ac', 'http://www.wikidata.org/entity/Q202304'), ('name', 'Jason Segel'), ('cnt', '145')]\n",
      "[('ac', 'http://www.wikidata.org/entity/Q199927'), ('name', 'Alyson Hannigan'), ('cnt', '143')]\n",
      "[('ac', 'http://www.wikidata.org/entity/Q333544'), ('name', 'Bob Saget'), ('cnt', '142')]\n",
      "[('ac', 'http://www.wikidata.org/entity/Q229914'), ('name', 'Lyndsy Fonseca'), ('cnt', '48')]\n",
      "[('ac', 'http://www.wikidata.org/entity/Q297128'), ('name', 'David Henrie'), ('cnt', '48')]\n",
      "[('ac', 'http://www.wikidata.org/entity/Q16149506'), ('name', 'Charlene Amoia'), ('cnt', '17')]\n",
      "[('ac', 'http://www.wikidata.org/entity/Q199929'), ('name', 'Jennifer Morrison'), ('cnt', '12')]\n",
      "[('ac', 'http://www.wikidata.org/entity/Q552889'), ('name', 'Marshall Manesh'), ('cnt', '11')]\n",
      "[('ac', 'http://www.wikidata.org/entity/Q229728'), ('name', 'Sarah Chalke'), ('cnt', '10')]\n",
      "[('ac', 'http://www.wikidata.org/entity/Q591238'), ('name', 'Bill Fagerbakke'), ('cnt', '9')]\n",
      "[('ac', 'http://www.wikidata.org/entity/Q1396070'), ('name', 'Suzie Plakson'), ('cnt', '9')]\n",
      "[('ac', 'http://www.wikidata.org/entity/Q435839'), ('name', 'Ashley Williams'), ('cnt', '9')]\n",
      "15\n"
     ]
    }
   ],
   "source": [
    "# Cast member and number of appearences\n",
    "queryString = \"\"\"\n",
    "SELECT DISTINCT ?ac ?name (count(?ep) as ?cnt)\n",
    "WHERE {\n",
    "   # bind something\n",
    "   wd:Q147235 wdt:P527 ?se .\n",
    "   ?se wdt:P527 ?ep .\n",
    "   ?ep wdt:P161 ?ac .\n",
    "   # get the label\n",
    "   ?ac sc:name ?name.\n",
    "}\n",
    "GROUP BY ?ac ?name\n",
    "ORDER BY desc(?cnt)\n",
    "LIMIT 15\n",
    "\"\"\"\n",
    "\n",
    "print(\"Results\")\n",
    "x=run_query(queryString)"
   ]
  },
  {
   "cell_type": "code",
   "execution_count": null,
   "id": "709bccb5-79cb-4666-bca9-9ca872d8af59",
   "metadata": {},
   "outputs": [
    {
     "name": "stdout",
     "output_type": "stream",
     "text": [
      "Results\n",
      "[('cnt', '208')]\n",
      "1\n"
     ]
    }
   ],
   "source": [
    "# Total number of episodes\n",
    "queryString = \"\"\"\n",
    "SELECT DISTINCT (count(?ep) as ?cnt)\n",
    "WHERE {\n",
    "   # bind something\n",
    "   wd:Q147235 wdt:P527 ?se .\n",
    "   ?se wdt:P527 ?ep .\n",
    "   # get the label\n",
    "}\n",
    "LIMIT 15\n",
    "\"\"\"\n",
    "\n",
    "print(\"Results\")\n",
    "x=run_query(queryString)"
   ]
  },
  {
   "cell_type": "code",
   "execution_count": 26,
   "id": "5e8dfe22-855e-424f-b821-ee4d56650d32",
   "metadata": {},
   "outputs": [
    {
     "name": "stdout",
     "output_type": "stream",
     "text": [
      "Results\n",
      "[('cnt', '146')]\n",
      "1\n"
     ]
    }
   ],
   "source": [
    "# Total number of episodes with at least 1 cast member\n",
    "queryString = \"\"\"\n",
    "SELECT DISTINCT (count(distinct ?ep) as ?cnt)\n",
    "WHERE {\n",
    "   # bind something\n",
    "   wd:Q147235 wdt:P527 ?se .\n",
    "   ?se wdt:P527 ?ep .\n",
    "   ?ep wdt:P161 ?ac .\n",
    "   # get the label\n",
    "}\n",
    "LIMIT 15\n",
    "\"\"\"\n",
    "\n",
    "print(\"Results\")\n",
    "x=run_query(queryString)"
   ]
  },
  {
   "cell_type": "markdown",
   "id": "f11203b6",
   "metadata": {},
   "source": [
    "Final query for this task"
   ]
  },
  {
   "cell_type": "code",
   "execution_count": 27,
   "id": "b3a5b6f6",
   "metadata": {},
   "outputs": [
    {
     "name": "stdout",
     "output_type": "stream",
     "text": [
      "Results\n",
      "[('ac', 'http://www.wikidata.org/entity/Q223455'), ('name', 'Josh Radnor'), ('cnt', '145')]\n",
      "[('ac', 'http://www.wikidata.org/entity/Q485310'), ('name', 'Neil Patrick Harris'), ('cnt', '145')]\n",
      "[('ac', 'http://www.wikidata.org/entity/Q200566'), ('name', 'Cobie Smulders'), ('cnt', '145')]\n",
      "[('ac', 'http://www.wikidata.org/entity/Q202304'), ('name', 'Jason Segel'), ('cnt', '145')]\n",
      "[('ac', 'http://www.wikidata.org/entity/Q199927'), ('name', 'Alyson Hannigan'), ('cnt', '143')]\n",
      "[('ac', 'http://www.wikidata.org/entity/Q333544'), ('name', 'Bob Saget'), ('cnt', '142')]\n",
      "[('ac', 'http://www.wikidata.org/entity/Q229914'), ('name', 'Lyndsy Fonseca'), ('cnt', '48')]\n",
      "[('ac', 'http://www.wikidata.org/entity/Q297128'), ('name', 'David Henrie'), ('cnt', '48')]\n",
      "[('ac', 'http://www.wikidata.org/entity/Q16149506'), ('name', 'Charlene Amoia'), ('cnt', '17')]\n",
      "[('ac', 'http://www.wikidata.org/entity/Q199929'), ('name', 'Jennifer Morrison'), ('cnt', '12')]\n",
      "[('ac', 'http://www.wikidata.org/entity/Q552889'), ('name', 'Marshall Manesh'), ('cnt', '11')]\n",
      "[('ac', 'http://www.wikidata.org/entity/Q229728'), ('name', 'Sarah Chalke'), ('cnt', '10')]\n",
      "[('ac', 'http://www.wikidata.org/entity/Q591238'), ('name', 'Bill Fagerbakke'), ('cnt', '9')]\n",
      "[('ac', 'http://www.wikidata.org/entity/Q1396070'), ('name', 'Suzie Plakson'), ('cnt', '9')]\n",
      "[('ac', 'http://www.wikidata.org/entity/Q435839'), ('name', 'Ashley Williams'), ('cnt', '9')]\n",
      "15\n"
     ]
    }
   ],
   "source": [
    "# write your final query\n",
    "# NOTE: The results does not match with the real-life data because on wikidata some episodes are missing the cast members\n",
    "queryString = \"\"\"\n",
    "SELECT DISTINCT ?ac ?name (count(?ep) as ?cnt)\n",
    "WHERE {\n",
    "   # bind something\n",
    "   wd:Q147235 wdt:P527 ?se .\n",
    "   ?se wdt:P527 ?ep .\n",
    "   ?ep wdt:P161 ?ac .\n",
    "   # get the label\n",
    "   ?ac sc:name ?name.\n",
    "}\n",
    "GROUP BY ?ac ?name\n",
    "ORDER BY desc(?cnt)\n",
    "LIMIT 15\n",
    "\"\"\"\n",
    "\n",
    "print(\"Results\")\n",
    "x=run_query(queryString)"
   ]
  },
  {
   "cell_type": "markdown",
   "id": "97a4eac6",
   "metadata": {},
   "source": [
    "## Task 4\n",
    "Check who is the actor who acted in more films while working on \"How I met your mother\" (the result set must be a list of triples actor/actress IRI, label and #films)."
   ]
  },
  {
   "cell_type": "code",
   "execution_count": 29,
   "id": "4396ce18",
   "metadata": {},
   "outputs": [
    {
     "name": "stdout",
     "output_type": "stream",
     "text": [
      "Results\n",
      "[('p', 'http://www.wikidata.org/prop/direct/P106'), ('name', 'occupation')]\n",
      "[('p', 'http://www.wikidata.org/prop/direct/P1303'), ('name', 'instrument')]\n",
      "[('p', 'http://www.wikidata.org/prop/direct/P166'), ('name', 'award received')]\n",
      "[('p', 'http://www.wikidata.org/prop/direct/P1412'), ('name', 'languages spoken, written or signed')]\n",
      "[('p', 'http://www.wikidata.org/prop/direct/P412'), ('name', 'voice type')]\n",
      "[('p', 'http://www.wikidata.org/prop/direct/P27'), ('name', 'country of citizenship')]\n",
      "[('p', 'http://www.wikidata.org/prop/direct/P31'), ('name', 'instance of')]\n",
      "[('p', 'http://www.wikidata.org/prop/direct/P735'), ('name', 'given name')]\n",
      "[('p', 'http://www.wikidata.org/prop/direct/P21'), ('name', 'sex or gender')]\n",
      "[('p', 'http://www.wikidata.org/prop/direct/P1343'), ('name', 'described by source')]\n",
      "[('p', 'http://www.wikidata.org/prop/direct/P551'), ('name', 'residence')]\n",
      "[('p', 'http://www.wikidata.org/prop/direct/P91'), ('name', 'sexual orientation')]\n",
      "[('p', 'http://www.wikidata.org/prop/direct/P734'), ('name', 'family name')]\n",
      "[('p', 'http://www.wikidata.org/prop/direct/P19'), ('name', 'place of birth')]\n",
      "[('p', 'http://www.wikidata.org/prop/direct/P26'), ('name', 'spouse')]\n",
      "[('p', 'http://www.wikidata.org/prop/direct/P451'), ('name', 'unmarried partner')]\n",
      "[('p', 'http://www.wikidata.org/prop/direct/P69'), ('name', 'educated at')]\n",
      "17\n"
     ]
    }
   ],
   "source": [
    "# Neil Patrick Harris predicates\n",
    "queryString = \"\"\"\n",
    "SELECT DISTINCT ?p ?name\n",
    "WHERE {\n",
    "   # bind something\n",
    "   wd:Q485310 ?p ?o .\n",
    "   # get the label\n",
    "   ?p sc:name ?name.\n",
    "   ?o sc:name ?o_name.\n",
    "}\n",
    "LIMIT 30\n",
    "\"\"\"\n",
    "\n",
    "print(\"Results\")\n",
    "x=run_query(queryString)"
   ]
  },
  {
   "cell_type": "code",
   "execution_count": 32,
   "id": "7b425e73-d60c-478b-a8ca-85385c3f84b3",
   "metadata": {},
   "outputs": [
    {
     "name": "stdout",
     "output_type": "stream",
     "text": [
      "Results\n",
      "[('ep', 'http://www.wikidata.org/entity/Q147235'), ('name', 'How I Met Your Mother')]\n",
      "[('ep', 'http://www.wikidata.org/entity/Q5264968'), ('name', 'Desperation Day')]\n",
      "[('ep', 'http://www.wikidata.org/entity/Q5521981'), ('name', 'Garbage Island')]\n",
      "[('ep', 'http://www.wikidata.org/entity/Q7080458'), ('name', 'Oh Honey')]\n",
      "[('ep', 'http://www.wikidata.org/entity/Q5888848'), ('name', 'Home Wreckers')]\n",
      "[('ep', 'http://www.wikidata.org/entity/Q7858076'), ('name', 'Twin Beds')]\n",
      "[('ep', 'http://www.wikidata.org/entity/Q8074081'), ('name', 'Zoo or False')]\n",
      "[('ep', 'http://www.wikidata.org/entity/Q1253366'), ('name', 'The Smurfs 2')]\n",
      "[('ep', 'http://www.wikidata.org/entity/Q842253'), ('name', \"Dr. Horrible's Sing-Along Blog\")]\n",
      "[('ep', 'http://www.wikidata.org/entity/Q2093198'), ('name', 'Undercover Brother')]\n",
      "[('ep', 'http://www.wikidata.org/entity/Q4786988'), ('name', 'Architect of Destruction')]\n",
      "[('ep', 'http://www.wikidata.org/entity/Q4838409'), ('name', 'Baby Talk')]\n",
      "[('ep', 'http://www.wikidata.org/entity/Q7632493'), ('name', 'Subway Wars')]\n",
      "[('ep', 'http://www.wikidata.org/entity/Q2779056'), ('name', 'Justice League: The New Frontier')]\n",
      "[('ep', 'http://www.wikidata.org/entity/Q11696021'), ('name', 'Nothing Good Happens After 2 A.M.')]\n",
      "[('ep', 'http://www.wikidata.org/entity/Q1327587'), ('name', 'Okay Awesome')]\n",
      "[('ep', 'http://www.wikidata.org/entity/Q3480575'), ('name', 'Return of the Shirt')]\n",
      "[('ep', 'http://www.wikidata.org/entity/Q467447'), ('name', 'Pilot')]\n",
      "[('ep', 'http://www.wikidata.org/entity/Q468587'), ('name', 'Purple Giraffe')]\n",
      "[('ep', 'http://www.wikidata.org/entity/Q471448'), ('name', 'Sweet Taste of Liberty')]\n",
      "[('ep', 'http://www.wikidata.org/entity/Q4809956'), ('name', 'Game Night')]\n",
      "[('ep', 'http://www.wikidata.org/entity/Q4817584'), ('name', 'Drumroll, Please')]\n",
      "[('ep', 'http://www.wikidata.org/entity/Q4818636'), ('name', 'Life Among the Gorillas')]\n",
      "[('ep', 'http://www.wikidata.org/entity/Q4818989'), ('name', 'Cupcake')]\n",
      "[('ep', 'http://www.wikidata.org/entity/Q4819005'), ('name', 'The Wedding')]\n",
      "[('ep', 'http://www.wikidata.org/entity/Q4884249'), ('name', 'Belly Full of Turkey')]\n",
      "[('ep', 'http://www.wikidata.org/entity/Q5151207'), ('name', 'Come On')]\n",
      "[('ep', 'http://www.wikidata.org/entity/Q6781049'), ('name', 'Mary the Paralegal')]\n",
      "[('ep', 'http://www.wikidata.org/entity/Q6857975'), ('name', 'Milk')]\n",
      "[('ep', 'http://www.wikidata.org/entity/Q7731151'), ('name', 'The Duel')]\n",
      "30\n"
     ]
    }
   ],
   "source": [
    "# things in which Neil Patrick Harris was a cast member\n",
    "queryString = \"\"\"\n",
    "SELECT DISTINCT ?ep ?name\n",
    "WHERE {\n",
    "   # bind something\n",
    "   ?ep wdt:P161 wd:Q485310 .\n",
    "   OPTIONAL {\n",
    "       ?ep wdt:P527 ?ss .\n",
    "   } .\n",
    "   OPTIONAL {\n",
    "       ?ss wdt:P527 ?se .\n",
    "   } .\n",
    "   # get the label\n",
    "   ?ep sc:name ?name .\n",
    "   filter(?se != wd:Q147235)\n",
    "}\n",
    "LIMIT 30\n",
    "\"\"\"\n",
    "\n",
    "print(\"Results\")\n",
    "x=run_query(queryString)"
   ]
  },
  {
   "cell_type": "code",
   "execution_count": 33,
   "id": "fedf4388-b86d-48bc-9aca-4999c4c08ba7",
   "metadata": {},
   "outputs": [
    {
     "name": "stdout",
     "output_type": "stream",
     "text": [
      "Results\n",
      "[('p', 'http://www.wikidata.org/prop/direct/P161'), ('name', 'cast member')]\n",
      "[('p', 'http://www.wikidata.org/prop/direct/P179'), ('name', 'part of the series')]\n",
      "[('p', 'http://www.wikidata.org/prop/direct/P57'), ('name', 'director')]\n",
      "[('p', 'http://www.wikidata.org/prop/direct/P156'), ('name', 'followed by')]\n",
      "[('p', 'http://www.wikidata.org/prop/direct/P155'), ('name', 'follows')]\n",
      "[('p', 'http://www.wikidata.org/prop/direct/P364'), ('name', 'original language of film or TV show')]\n",
      "[('p', 'http://www.wikidata.org/prop/direct/P31'), ('name', 'instance of')]\n",
      "[('p', 'http://www.wikidata.org/prop/direct/P58'), ('name', 'screenwriter')]\n",
      "[('p', 'http://www.wikidata.org/prop/direct/P4908'), ('name', 'season')]\n",
      "9\n"
     ]
    }
   ],
   "source": [
    "# Home Wreckers predicates\n",
    "queryString = \"\"\"\n",
    "SELECT DISTINCT ?p ?name\n",
    "WHERE {\n",
    "   # bind something\n",
    "   wd:Q5888848 ?p ?o .\n",
    "   # get the label\n",
    "   ?p sc:name ?name.\n",
    "   ?o sc:name ?o_name.\n",
    "}\n",
    "LIMIT 30\n",
    "\"\"\"\n",
    "\n",
    "print(\"Results\")\n",
    "x=run_query(queryString)"
   ]
  },
  {
   "cell_type": "code",
   "execution_count": 34,
   "id": "a49ad316-cce1-4b02-b943-3ac6bb701e0a",
   "metadata": {},
   "outputs": [
    {
     "name": "stdout",
     "output_type": "stream",
     "text": [
      "Results\n",
      "[('o', 'http://www.wikidata.org/entity/Q21191270'), ('o_name', 'television series episode')]\n",
      "1\n"
     ]
    }
   ],
   "source": [
    "# Home Wreckers is instance of\n",
    "queryString = \"\"\"\n",
    "SELECT DISTINCT ?o ?o_name\n",
    "WHERE {\n",
    "   # bind something\n",
    "   wd:Q5888848 wdt:P31 ?o .\n",
    "   # get the label\n",
    "   ?o sc:name ?o_name.\n",
    "}\n",
    "LIMIT 30\n",
    "\"\"\"\n",
    "\n",
    "print(\"Results\")\n",
    "x=run_query(queryString)"
   ]
  },
  {
   "cell_type": "code",
   "execution_count": 35,
   "id": "da65fce2-6c8d-43ba-83c5-c0ce137f457e",
   "metadata": {},
   "outputs": [
    {
     "name": "stdout",
     "output_type": "stream",
     "text": [
      "Results\n",
      "[('ep', 'http://www.wikidata.org/entity/Q147235'), ('name', 'How I Met Your Mother')]\n",
      "[('ep', 'http://www.wikidata.org/entity/Q1253366'), ('name', 'The Smurfs 2')]\n",
      "[('ep', 'http://www.wikidata.org/entity/Q842253'), ('name', \"Dr. Horrible's Sing-Along Blog\")]\n",
      "[('ep', 'http://www.wikidata.org/entity/Q2093198'), ('name', 'Undercover Brother')]\n",
      "[('ep', 'http://www.wikidata.org/entity/Q2779056'), ('name', 'Justice League: The New Frontier')]\n",
      "[('ep', 'http://www.wikidata.org/entity/Q25340369'), ('name', 'A Series of Unfortunate Events')]\n",
      "[('ep', 'http://www.wikidata.org/entity/Q607643'), ('name', 'Harold & Kumar Go to White Castle')]\n",
      "[('ep', 'http://www.wikidata.org/entity/Q4764898'), ('name', 'Animal Room')]\n",
      "[('ep', 'http://www.wikidata.org/entity/Q1165259'), ('name', 'Harold & Kumar Escape from Guantanamo Bay')]\n",
      "[('ep', 'http://www.wikidata.org/entity/Q5659857'), ('name', 'Harold & Kumar')]\n",
      "[('ep', 'http://www.wikidata.org/entity/Q16004491'), ('name', 'American Horror Story: Freak Show')]\n",
      "[('ep', 'http://www.wikidata.org/entity/Q1247216'), ('name', 'The Next Best Thing')]\n",
      "[('ep', 'http://www.wikidata.org/entity/Q478626'), ('name', 'Starship Troopers')]\n",
      "[('ep', 'http://www.wikidata.org/entity/Q959335'), ('name', 'Cats & Dogs: The Revenge of Kitty Galore')]\n",
      "[('ep', 'http://www.wikidata.org/entity/Q937913'), ('name', 'Doogie Howser, M.D.')]\n",
      "[('ep', 'http://www.wikidata.org/entity/Q813057'), ('name', 'Beastly')]\n",
      "[('ep', 'http://www.wikidata.org/entity/Q2384094'), ('name', 'Batman: Under the Red Hood')]\n",
      "[('ep', 'http://www.wikidata.org/entity/Q550558'), ('name', 'The Muppets')]\n",
      "[('ep', 'http://www.wikidata.org/entity/Q7764957'), ('name', 'The Smurfs')]\n",
      "[('ep', 'http://www.wikidata.org/entity/Q4022709'), ('name', 'Yes, Virginia')]\n",
      "[('ep', 'http://www.wikidata.org/entity/Q7716848'), ('name', 'The Best and the Brightest')]\n",
      "[('ep', 'http://www.wikidata.org/entity/Q7548538'), ('name', 'Snowbound: The Jim and Jennifer Stolpa Story')]\n",
      "[('ep', 'http://www.wikidata.org/entity/Q454398'), ('name', 'The Smurfs')]\n",
      "[('ep', 'http://www.wikidata.org/entity/Q14920425'), ('name', 'Gone Girl')]\n",
      "[('ep', 'http://www.wikidata.org/entity/Q104630896'), ('name', \"It's a Sin\")]\n",
      "[('ep', 'http://www.wikidata.org/entity/Q6944937'), ('name', 'My Antonia')]\n",
      "[('ep', 'http://www.wikidata.org/entity/Q7722777'), ('name', 'The Christmas Wish')]\n",
      "[('ep', 'http://www.wikidata.org/entity/Q43408'), ('name', 'A Very Harold & Kumar 3D Christmas')]\n",
      "[('ep', 'http://www.wikidata.org/entity/Q1514038'), ('name', 'The Proposition')]\n",
      "[('ep', 'http://www.wikidata.org/entity/Q3063140'), ('name', 'Stark Raving Mad')]\n",
      "30\n"
     ]
    }
   ],
   "source": [
    "# things in which Neil Patrick Harris was a cast member != tv series episode\n",
    "queryString = \"\"\"\n",
    "SELECT DISTINCT ?ep ?name\n",
    "WHERE {\n",
    "   # bind something\n",
    "   ?ep wdt:P161 wd:Q485310 ;\n",
    "       wdt:P31 ?o .\n",
    "   # get the label\n",
    "   ?ep sc:name ?name .\n",
    "   filter(?o != wd:Q21191270)\n",
    "}\n",
    "LIMIT 30\n",
    "\"\"\"\n",
    "\n",
    "print(\"Results\")\n",
    "x=run_query(queryString)"
   ]
  },
  {
   "cell_type": "code",
   "execution_count": 37,
   "id": "6cf56e5a-4e9a-4d06-b984-48e0710ef6ae",
   "metadata": {},
   "outputs": [
    {
     "name": "stdout",
     "output_type": "stream",
     "text": [
      "Results\n",
      "[('o', 'http://www.wikidata.org/entity/Q11424'), ('o_name', 'film')]\n",
      "1\n"
     ]
    }
   ],
   "source": [
    "# Gone Girl is instance of\n",
    "queryString = \"\"\"\n",
    "SELECT DISTINCT ?o ?o_name\n",
    "WHERE {\n",
    "   # bind something\n",
    "   wd:Q14920425 wdt:P31 ?o .\n",
    "   # get the label\n",
    "   ?o sc:name ?o_name.\n",
    "}\n",
    "LIMIT 30\n",
    "\"\"\"\n",
    "\n",
    "print(\"Results\")\n",
    "x=run_query(queryString)"
   ]
  },
  {
   "cell_type": "code",
   "execution_count": 39,
   "id": "72cefedc-1c1b-4dfe-89f2-1a8086d3e30e",
   "metadata": {},
   "outputs": [
    {
     "name": "stdout",
     "output_type": "stream",
     "text": [
      "Results\n",
      "[('ep', 'http://www.wikidata.org/entity/Q2093198'), ('name', 'Undercover Brother')]\n",
      "[('ep', 'http://www.wikidata.org/entity/Q2779056'), ('name', 'Justice League: The New Frontier')]\n",
      "[('ep', 'http://www.wikidata.org/entity/Q607643'), ('name', 'Harold & Kumar Go to White Castle')]\n",
      "[('ep', 'http://www.wikidata.org/entity/Q4764898'), ('name', 'Animal Room')]\n",
      "[('ep', 'http://www.wikidata.org/entity/Q1165259'), ('name', 'Harold & Kumar Escape from Guantanamo Bay')]\n",
      "[('ep', 'http://www.wikidata.org/entity/Q1247216'), ('name', 'The Next Best Thing')]\n",
      "[('ep', 'http://www.wikidata.org/entity/Q478626'), ('name', 'Starship Troopers')]\n",
      "[('ep', 'http://www.wikidata.org/entity/Q959335'), ('name', 'Cats & Dogs: The Revenge of Kitty Galore')]\n",
      "[('ep', 'http://www.wikidata.org/entity/Q813057'), ('name', 'Beastly')]\n",
      "[('ep', 'http://www.wikidata.org/entity/Q2384094'), ('name', 'Batman: Under the Red Hood')]\n",
      "[('ep', 'http://www.wikidata.org/entity/Q550558'), ('name', 'The Muppets')]\n",
      "[('ep', 'http://www.wikidata.org/entity/Q7716848'), ('name', 'The Best and the Brightest')]\n",
      "[('ep', 'http://www.wikidata.org/entity/Q14920425'), ('name', 'Gone Girl')]\n",
      "[('ep', 'http://www.wikidata.org/entity/Q43408'), ('name', 'A Very Harold & Kumar 3D Christmas')]\n",
      "[('ep', 'http://www.wikidata.org/entity/Q1514038'), ('name', 'The Proposition')]\n",
      "[('ep', 'http://www.wikidata.org/entity/Q303040'), ('name', 'American Reunion')]\n",
      "[('ep', 'http://www.wikidata.org/entity/Q8907426'), ('name', 'The Wedding Dress')]\n",
      "[('ep', 'http://www.wikidata.org/entity/Q4508577'), ('name', 'The Man in the Attic')]\n",
      "[('ep', 'http://www.wikidata.org/entity/Q478618'), ('name', \"Clara's Heart\")]\n",
      "[('ep', 'http://www.wikidata.org/entity/Q3410974'), ('name', 'Purple People Eater')]\n",
      "[('ep', 'http://www.wikidata.org/entity/Q22075017'), ('name', 'Downsizing')]\n",
      "[('ep', 'http://www.wikidata.org/entity/Q27032285'), ('name', 'The Out List')]\n",
      "[('ep', 'http://www.wikidata.org/entity/Q13582568'), ('name', 'A Million Ways to Die in the West')]\n",
      "[('ep', 'http://www.wikidata.org/entity/Q5390598'), ('name', 'Home Fires Burning')]\n",
      "24\n"
     ]
    }
   ],
   "source": [
    "# films in which Neil Patrick Harris was a cast member\n",
    "queryString = \"\"\"\n",
    "SELECT DISTINCT ?ep ?name\n",
    "WHERE {\n",
    "   # bind something\n",
    "   ?ep wdt:P161 wd:Q485310 ;\n",
    "       wdt:P31 ?o .\n",
    "   # get the label\n",
    "   ?ep sc:name ?name .\n",
    "   filter(?o = wd:Q11424)\n",
    "}\n",
    "LIMIT 30\n",
    "\"\"\"\n",
    "\n",
    "print(\"Results\")\n",
    "x=run_query(queryString)"
   ]
  },
  {
   "cell_type": "code",
   "execution_count": 4,
   "id": "267ac356-4498-485d-bae1-9c5e301540e8",
   "metadata": {},
   "outputs": [
    {
     "name": "stdout",
     "output_type": "stream",
     "text": [
      "Results\n",
      "[('st', '2005-09-19T00:00:00Z'), ('et', '2014-03-31T00:00:00Z')]\n",
      "1\n"
     ]
    }
   ],
   "source": [
    "# HIMYM start and end time\n",
    "queryString = \"\"\"\n",
    "SELECT DISTINCT ?st ?et\n",
    "WHERE {\n",
    "   # bind something\n",
    "   wd:Q147235 wdt:P580 ?st ;\n",
    "              wdt:P582 ?et .\n",
    "   # get the label\n",
    "}\n",
    "LIMIT 30\n",
    "\"\"\"\n",
    "\n",
    "print(\"Results\")\n",
    "x=run_query(queryString)"
   ]
  },
  {
   "cell_type": "code",
   "execution_count": 7,
   "id": "bcc811a0-a20b-422b-943f-c18c49229c62",
   "metadata": {},
   "outputs": [
    {
     "name": "stdout",
     "output_type": "stream",
     "text": [
      "Results\n",
      "[('ep', 'http://www.wikidata.org/entity/Q2779056'), ('name', 'Justice League: The New Frontier'), ('d', '2008-01-01T00:00:00Z'), ('st', '2005-09-19T00:00:00Z'), ('et', '2014-03-31T00:00:00Z')]\n",
      "[('ep', 'http://www.wikidata.org/entity/Q1165259'), ('name', 'Harold & Kumar Escape from Guantanamo Bay'), ('d', '2008-01-01T00:00:00Z'), ('st', '2005-09-19T00:00:00Z'), ('et', '2014-03-31T00:00:00Z')]\n",
      "[('ep', 'http://www.wikidata.org/entity/Q1165259'), ('name', 'Harold & Kumar Escape from Guantanamo Bay'), ('d', '2008-03-23T00:00:00Z'), ('st', '2005-09-19T00:00:00Z'), ('et', '2014-03-31T00:00:00Z')]\n",
      "[('ep', 'http://www.wikidata.org/entity/Q959335'), ('name', 'Cats & Dogs: The Revenge of Kitty Galore'), ('d', '2010-08-12T00:00:00Z'), ('st', '2005-09-19T00:00:00Z'), ('et', '2014-03-31T00:00:00Z')]\n",
      "[('ep', 'http://www.wikidata.org/entity/Q959335'), ('name', 'Cats & Dogs: The Revenge of Kitty Galore'), ('d', '2010-01-01T00:00:00Z'), ('st', '2005-09-19T00:00:00Z'), ('et', '2014-03-31T00:00:00Z')]\n",
      "[('ep', 'http://www.wikidata.org/entity/Q959335'), ('name', 'Cats & Dogs: The Revenge of Kitty Galore'), ('d', '2010-08-05T00:00:00Z'), ('st', '2005-09-19T00:00:00Z'), ('et', '2014-03-31T00:00:00Z')]\n",
      "[('ep', 'http://www.wikidata.org/entity/Q813057'), ('name', 'Beastly'), ('d', '2011-04-07T00:00:00Z'), ('st', '2005-09-19T00:00:00Z'), ('et', '2014-03-31T00:00:00Z')]\n",
      "[('ep', 'http://www.wikidata.org/entity/Q813057'), ('name', 'Beastly'), ('d', '2011-03-04T00:00:00Z'), ('st', '2005-09-19T00:00:00Z'), ('et', '2014-03-31T00:00:00Z')]\n",
      "[('ep', 'http://www.wikidata.org/entity/Q813057'), ('name', 'Beastly'), ('d', '2012-07-14T00:00:00Z'), ('st', '2005-09-19T00:00:00Z'), ('et', '2014-03-31T00:00:00Z')]\n",
      "[('ep', 'http://www.wikidata.org/entity/Q2384094'), ('name', 'Batman: Under the Red Hood'), ('d', '2010-07-27T00:00:00Z'), ('st', '2005-09-19T00:00:00Z'), ('et', '2014-03-31T00:00:00Z')]\n",
      "[('ep', 'http://www.wikidata.org/entity/Q2384094'), ('name', 'Batman: Under the Red Hood'), ('d', '2010-01-01T00:00:00Z'), ('st', '2005-09-19T00:00:00Z'), ('et', '2014-03-31T00:00:00Z')]\n",
      "[('ep', 'http://www.wikidata.org/entity/Q550558'), ('name', 'The Muppets'), ('d', '2012-01-19T00:00:00Z'), ('st', '2005-09-19T00:00:00Z'), ('et', '2014-03-31T00:00:00Z')]\n",
      "[('ep', 'http://www.wikidata.org/entity/Q550558'), ('name', 'The Muppets'), ('d', '2011-11-23T00:00:00Z'), ('st', '2005-09-19T00:00:00Z'), ('et', '2014-03-31T00:00:00Z')]\n",
      "[('ep', 'http://www.wikidata.org/entity/Q7716848'), ('name', 'The Best and the Brightest'), ('d', '2010-01-01T00:00:00Z'), ('st', '2005-09-19T00:00:00Z'), ('et', '2014-03-31T00:00:00Z')]\n",
      "[('ep', 'http://www.wikidata.org/entity/Q43408'), ('name', 'A Very Harold & Kumar 3D Christmas'), ('d', '2011-01-01T00:00:00Z'), ('st', '2005-09-19T00:00:00Z'), ('et', '2014-03-31T00:00:00Z')]\n",
      "[('ep', 'http://www.wikidata.org/entity/Q303040'), ('name', 'American Reunion'), ('d', '2012-04-05T00:00:00Z'), ('st', '2005-09-19T00:00:00Z'), ('et', '2014-03-31T00:00:00Z')]\n",
      "[('ep', 'http://www.wikidata.org/entity/Q303040'), ('name', 'American Reunion'), ('d', '2012-04-26T00:00:00Z'), ('st', '2005-09-19T00:00:00Z'), ('et', '2014-03-31T00:00:00Z')]\n",
      "[('ep', 'http://www.wikidata.org/entity/Q303040'), ('name', 'American Reunion'), ('d', '2012-04-04T00:00:00Z'), ('st', '2005-09-19T00:00:00Z'), ('et', '2014-03-31T00:00:00Z')]\n",
      "[('ep', 'http://www.wikidata.org/entity/Q303040'), ('name', 'American Reunion'), ('d', '2012-04-06T00:00:00Z'), ('st', '2005-09-19T00:00:00Z'), ('et', '2014-03-31T00:00:00Z')]\n",
      "[('ep', 'http://www.wikidata.org/entity/Q27032285'), ('name', 'The Out List'), ('d', '2013-01-01T00:00:00Z'), ('st', '2005-09-19T00:00:00Z'), ('et', '2014-03-31T00:00:00Z')]\n",
      "[('ep', 'http://www.wikidata.org/entity/Q13582568'), ('name', 'A Million Ways to Die in the West'), ('d', '2014-01-01T00:00:00Z'), ('st', '2005-09-19T00:00:00Z'), ('et', '2014-03-31T00:00:00Z')]\n",
      "21\n"
     ]
    }
   ],
   "source": [
    "# films in which Neil Patrick Harris was a cast member during HIMYM\n",
    "queryString = \"\"\"\n",
    "SELECT DISTINCT ?ep ?name ?d ?st ?et\n",
    "WHERE {\n",
    "   # bind something\n",
    "   ?ep wdt:P161 wd:Q485310 ;\n",
    "       wdt:P31 wd:Q11424 ;\n",
    "       wdt:P577 ?d .\n",
    "    wd:Q147235 wdt:P580 ?st ;\n",
    "               wdt:P582 ?et .\n",
    "   # get the label\n",
    "   ?ep sc:name ?name .\n",
    "   filter(?d >= ?st && ?d <= ?et)\n",
    "}\n",
    "LIMIT 30\n",
    "\"\"\"\n",
    "\n",
    "print(\"Results\")\n",
    "x=run_query(queryString)"
   ]
  },
  {
   "cell_type": "markdown",
   "id": "507c8c02",
   "metadata": {},
   "source": [
    "Final query for this task"
   ]
  },
  {
   "cell_type": "code",
   "execution_count": 9,
   "id": "fdacdf57",
   "metadata": {},
   "outputs": [
    {
     "name": "stdout",
     "output_type": "stream",
     "text": [
      "Results\n",
      "[('ac', 'http://www.wikidata.org/entity/Q192165'), ('name', 'Danny Glover'), ('num', '40')]\n",
      "[('ac', 'http://www.wikidata.org/entity/Q229669'), ('name', 'Malin Åkerman'), ('num', '21')]\n",
      "[('ac', 'http://www.wikidata.org/entity/Q236189'), ('name', 'Judy Greer'), ('num', '18')]\n",
      "[('ac', 'http://www.wikidata.org/entity/Q233433'), ('name', 'Rachelle Lefevre'), ('num', '17')]\n",
      "[('ac', 'http://www.wikidata.org/entity/Q1319744'), ('name', 'Will Forte'), ('num', '17')]\n",
      "[('ac', 'http://www.wikidata.org/entity/Q1189470'), ('name', 'Jimmi Simpson'), ('num', '16')]\n",
      "[('ac', 'http://www.wikidata.org/entity/Q566037'), ('name', 'Scoot McNairy'), ('num', '16')]\n",
      "[('ac', 'http://www.wikidata.org/entity/Q530646'), ('name', 'Ray Wise'), ('num', '16')]\n",
      "[('ac', 'http://www.wikidata.org/entity/Q23547'), ('name', 'Bryan Cranston'), ('num', '14')]\n",
      "[('ac', 'http://www.wikidata.org/entity/Q272927'), ('name', 'Kristen Schaal'), ('num', '14')]\n",
      "[('ac', 'http://www.wikidata.org/entity/Q312705'), ('name', 'John Cho'), ('num', '14')]\n",
      "[('ac', 'http://www.wikidata.org/entity/Q4993338'), ('name', 'Ezra Buzzington'), ('num', '13')]\n",
      "[('ac', 'http://www.wikidata.org/entity/Q131332'), ('name', 'Amanda Peet'), ('num', '13')]\n",
      "[('ac', 'http://www.wikidata.org/entity/Q469914'), ('name', 'Lindsay Sloane'), ('num', '12')]\n",
      "[('ac', 'http://www.wikidata.org/entity/Q202304'), ('name', 'Jason Segel'), ('num', '12')]\n",
      "[('ac', 'http://www.wikidata.org/entity/Q888178'), ('name', 'Bob Odenkirk'), ('num', '12')]\n",
      "[('ac', 'http://www.wikidata.org/entity/Q485310'), ('name', 'Neil Patrick Harris'), ('num', '11')]\n",
      "[('ac', 'http://www.wikidata.org/entity/Q158250'), ('name', 'Peter Bogdanovich'), ('num', '11')]\n",
      "[('ac', 'http://www.wikidata.org/entity/Q139611'), ('name', 'Zachary Gordon'), ('num', '11')]\n",
      "[('ac', 'http://www.wikidata.org/entity/Q220536'), ('name', 'Kal Penn'), ('num', '11')]\n",
      "[('ac', 'http://www.wikidata.org/entity/Q311271'), ('name', 'John Lithgow'), ('num', '11')]\n",
      "[('ac', 'http://www.wikidata.org/entity/Q199929'), ('name', 'Jennifer Morrison'), ('num', '11')]\n",
      "[('ac', 'http://www.wikidata.org/entity/Q362616'), ('name', 'Jon Bernthal'), ('num', '11')]\n",
      "[('ac', 'http://www.wikidata.org/entity/Q233882'), ('name', 'Frances Conroy'), ('num', '10')]\n",
      "[('ac', 'http://www.wikidata.org/entity/Q1139526'), ('name', 'Bryan Callen'), ('num', '10')]\n",
      "[('ac', 'http://www.wikidata.org/entity/Q320973'), ('name', 'Robert Wisdom'), ('num', '10')]\n",
      "[('ac', 'http://www.wikidata.org/entity/Q123849'), ('name', 'Jane Seymour'), ('num', '10')]\n",
      "[('ac', 'http://www.wikidata.org/entity/Q552889'), ('name', 'Marshall Manesh'), ('num', '9')]\n",
      "[('ac', 'http://www.wikidata.org/entity/Q488335'), ('name', 'Kevin Michael Richardson'), ('num', '9')]\n",
      "[('ac', 'http://www.wikidata.org/entity/Q269891'), ('name', 'Julianna Guill'), ('num', '9')]\n",
      "30\n"
     ]
    }
   ],
   "source": [
    "# write your final query\n",
    "\n",
    "queryString = \"\"\"\n",
    "SELECT DISTINCT ?ac ?name (count(distinct ?ep_2) as ?num)\n",
    "WHERE {\n",
    "   # bind something\n",
    "   wd:Q147235 wdt:P527 ?se .\n",
    "   ?se wdt:P527 ?ep .\n",
    "   ?ep wdt:P161 ?ac .\n",
    "   ?ep_2 wdt:P161 ?ac ;\n",
    "       wdt:P31 wd:Q11424 ;\n",
    "       wdt:P577 ?d .\n",
    "    wd:Q147235 wdt:P580 ?st ;\n",
    "               wdt:P582 ?et .\n",
    "   # get the label\n",
    "   ?ac sc:name ?name .\n",
    "   filter(?d >= ?st && ?d <= ?et)\n",
    "}\n",
    "ORDER BY desc(?num)\n",
    "LIMIT 30\n",
    "\"\"\"\n",
    "\n",
    "print(\"Results\")\n",
    "x=run_query(queryString)"
   ]
  },
  {
   "cell_type": "markdown",
   "id": "6f1857d2",
   "metadata": {},
   "source": [
    "## Task 5\n",
    "Compare HIMYM with the tv series \"The Office (US)\" in terms of number of seasons, episods and cast members (the result set must be two elements -one for each tv series- of tv series IRI, label, #seasons, #episodes and #cast members)."
   ]
  },
  {
   "cell_type": "code",
   "execution_count": 40,
   "id": "31f64308",
   "metadata": {},
   "outputs": [
    {
     "name": "stdout",
     "output_type": "stream",
     "text": [
      "Results\n",
      "[('se_cnt', '9'), ('cnt', '208')]\n",
      "1\n"
     ]
    }
   ],
   "source": [
    "# Total number of seasons and episodes of HIMYM\n",
    "queryString = \"\"\"\n",
    "SELECT DISTINCT (count(distinct ?se) as ?se_cnt) (count(?ep) as ?cnt)\n",
    "WHERE {\n",
    "   # bind something\n",
    "   wd:Q147235 wdt:P527 ?se .\n",
    "   ?se wdt:P527 ?ep .\n",
    "   # get the label\n",
    "}\n",
    "LIMIT 15\n",
    "\"\"\"\n",
    "\n",
    "print(\"Results\")\n",
    "x=run_query(queryString)"
   ]
  },
  {
   "cell_type": "code",
   "execution_count": 42,
   "id": "63feb292-ab2b-4873-9838-fc573b782907",
   "metadata": {},
   "outputs": [
    {
     "name": "stdout",
     "output_type": "stream",
     "text": [
      "Results\n",
      "[('ts', 'http://www.wikidata.org/entity/Q147235'), ('name', 'How I Met Your Mother'), ('se_cnt', '9'), ('ep_cnt', '146'), ('ac_cnt', '214')]\n",
      "[('ts', 'http://www.wikidata.org/entity/Q23831'), ('name', 'The Office'), ('se_cnt', '1'), ('ep_cnt', '1'), ('ac_cnt', '7')]\n",
      "2\n"
     ]
    }
   ],
   "source": [
    "# Total number of seasons, episodes and cast members of HIMYM and The Office\n",
    "queryString = \"\"\"\n",
    "SELECT DISTINCT ?ts ?name (count(distinct ?se) as ?se_cnt) (count(distinct ?ep) as ?ep_cnt) (count(distinct ?ac) as ?ac_cnt)\n",
    "WHERE {\n",
    "   # bind something\n",
    "   ?ts wdt:P527 ?se .\n",
    "   ?se wdt:P527 ?ep .\n",
    "   ?ep wdt:P161 ?ac .\n",
    "   # get the label\n",
    "   ?ts sc:name ?name.\n",
    "   \n",
    "   FILTER (?ts in (wd:Q147235, wd:Q23831))\n",
    "}\n",
    "GROUP BY ?ts ?name\n",
    "LIMIT 15\n",
    "\"\"\"\n",
    "\n",
    "print(\"Results\")\n",
    "x=run_query(queryString)"
   ]
  },
  {
   "cell_type": "code",
   "execution_count": 43,
   "id": "4a49ebc7-d2b5-4f87-86d7-5be9b68b7c22",
   "metadata": {},
   "outputs": [
    {
     "name": "stdout",
     "output_type": "stream",
     "text": [
      "Results\n",
      "[('se_cnt', '9'), ('cnt', '201')]\n",
      "1\n"
     ]
    }
   ],
   "source": [
    "# Total number of seasons and episodes of The Office\n",
    "queryString = \"\"\"\n",
    "SELECT DISTINCT (count(distinct ?se) as ?se_cnt) (count(?ep) as ?cnt)\n",
    "WHERE {\n",
    "   # bind something\n",
    "   wd:Q23831 wdt:P527 ?se .\n",
    "   ?se wdt:P527 ?ep .\n",
    "   # get the label\n",
    "}\n",
    "LIMIT 15\n",
    "\"\"\"\n",
    "\n",
    "print(\"Results\")\n",
    "x=run_query(queryString)"
   ]
  },
  {
   "cell_type": "code",
   "execution_count": 45,
   "id": "dfeaeed4-21da-489b-a1fa-2d4e1f32c5e9",
   "metadata": {},
   "outputs": [
    {
     "name": "stdout",
     "output_type": "stream",
     "text": [
      "Results\n",
      "[('ts', 'http://www.wikidata.org/entity/Q147235'), ('name', 'How I Met Your Mother'), ('se_cnt', '9'), ('ep_cnt', '208'), ('ac_cnt', '214')]\n",
      "[('ts', 'http://www.wikidata.org/entity/Q23831'), ('name', 'The Office'), ('se_cnt', '9'), ('ep_cnt', '201'), ('ac_cnt', '7')]\n",
      "2\n"
     ]
    }
   ],
   "source": [
    "# Total number of seasons, episodes and cast members of HIMYM and The Office\n",
    "queryString = \"\"\"\n",
    "SELECT DISTINCT ?ts ?name (count(distinct ?se) as ?se_cnt) (count(distinct ?ep) as ?ep_cnt) (count(distinct ?ac) as ?ac_cnt)\n",
    "WHERE {\n",
    "   # bind something\n",
    "   ?ts wdt:P527 ?se .\n",
    "   ?se wdt:P527 ?ep .\n",
    "   OPTIONAL {\n",
    "       ?ep wdt:P161 ?ac .\n",
    "   }\n",
    "   # get the label\n",
    "   ?ts sc:name ?name.\n",
    "   \n",
    "   FILTER (?ts=wd:Q147235 || ?ts=wd:Q23831)\n",
    "}\n",
    "GROUP BY ?ts ?name\n",
    "LIMIT 15\n",
    "\"\"\"\n",
    "\n",
    "print(\"Results\")\n",
    "x=run_query(queryString)"
   ]
  },
  {
   "cell_type": "markdown",
   "id": "f7fc27e0",
   "metadata": {},
   "source": [
    "Final query for this task"
   ]
  },
  {
   "cell_type": "code",
   "execution_count": 46,
   "id": "95154fa8",
   "metadata": {},
   "outputs": [
    {
     "name": "stdout",
     "output_type": "stream",
     "text": [
      "Results\n",
      "[('ts', 'http://www.wikidata.org/entity/Q147235'), ('name', 'How I Met Your Mother'), ('se_cnt', '9'), ('ep_cnt', '208'), ('ac_cnt', '214')]\n",
      "[('ts', 'http://www.wikidata.org/entity/Q23831'), ('name', 'The Office'), ('se_cnt', '9'), ('ep_cnt', '201'), ('ac_cnt', '7')]\n",
      "2\n"
     ]
    }
   ],
   "source": [
    "# write your final query\n",
    "# NOTE: The cast member count for \"The Office\" is clearly wrong because the property is missing on almost all episodes\n",
    "queryString = \"\"\"\n",
    "SELECT DISTINCT ?ts ?name (count(distinct ?se) as ?se_cnt) (count(distinct ?ep) as ?ep_cnt) (count(distinct ?ac) as ?ac_cnt)\n",
    "WHERE {\n",
    "   # bind something\n",
    "   ?ts wdt:P527 ?se .\n",
    "   ?se wdt:P527 ?ep .\n",
    "   OPTIONAL {\n",
    "       ?ep wdt:P161 ?ac .\n",
    "   }\n",
    "   # get the label\n",
    "   ?ts sc:name ?name.\n",
    "   \n",
    "   FILTER (?ts=wd:Q147235 || ?ts=wd:Q23831)\n",
    "}\n",
    "GROUP BY ?ts ?name\n",
    "LIMIT 15\n",
    "\"\"\"\n",
    "\n",
    "print(\"Results\")\n",
    "x=run_query(queryString)"
   ]
  },
  {
   "cell_type": "markdown",
   "id": "92e6b803",
   "metadata": {},
   "source": [
    "## Task 6\n",
    "Return how many of the actors who are members of the cast of the tv series have [Kavin Bacon number](https://en.wikipedia.org/wiki/Six_Degrees_of_Kevin_Bacon#:~:text=Kevin%20Bacon%20himself%20has%20a,Bacon%20number%20is%20N%2B1.) equal to 2 (the result set must be a list of couples actor/actress IRI and label)."
   ]
  },
  {
   "cell_type": "code",
   "execution_count": 11,
   "id": "48b58297-c6e2-47a6-a2f5-0bfb8dada635",
   "metadata": {},
   "outputs": [
    {
     "name": "stdout",
     "output_type": "stream",
     "text": [
      "Results\n",
      "[('s', 'http://www.wikidata.org/entity/Q3454165'), ('name', 'Kevin Bacon')]\n",
      "1\n"
     ]
    }
   ],
   "source": [
    "# Subjects with profession actor named Kevin Bacon\n",
    "queryString = \"\"\"\n",
    "SELECT DISTINCT ?s ?name\n",
    "WHERE {\n",
    "   # bind something\n",
    "   ?s wdt:P106 wd:Q33999 .\n",
    "   # get the label\n",
    "   ?s sc:name ?name.\n",
    "   FILTER regex(?name, \"Kevin Bacon\", \"i\")\n",
    "}\n",
    "LIMIT 40\n",
    "\"\"\"\n",
    "\n",
    "print(\"Results\")\n",
    "x=run_query(queryString)"
   ]
  },
  {
   "cell_type": "code",
   "execution_count": 40,
   "id": "5362614a-4b00-4228-a6b4-00a2c12f5d8b",
   "metadata": {},
   "outputs": [
    {
     "name": "stdout",
     "output_type": "stream",
     "text": [
      "Results\n",
      "[('cast_2', 'http://www.wikidata.org/entity/Q2685'), ('name', 'Arnold Schwarzenegger'), ('b', '2')]\n",
      "[('cast_2', 'http://www.wikidata.org/entity/Q2348194'), ('name', 'Arnold Stang'), ('b', '2')]\n",
      "2\n"
     ]
    }
   ],
   "source": [
    "# Actors with Kevin Bacon number = 2\n",
    "queryString = \"\"\"\n",
    "SELECT DISTINCT ?cast_2 ?name (min(?bn) as ?b)\n",
    "WHERE {\n",
    "   # bind something\n",
    "   ?kbf_0 wdt:P161 wd:Q3454165 ;\n",
    "        wdt:P161 ?cast_1 .\n",
    "   ?kbf_1 wdt:P161 ?cast_1 ;\n",
    "        wdt:P161 ?cast_2 .\n",
    "    BIND (\n",
    "      IF(?cast_2 = wd:Q3454165, 0,\n",
    "        IF(?cast_2 in (?cast_1), 1, 2)\n",
    "      ) AS ?bn \n",
    "    ) .\n",
    "   # get the label\n",
    "   ?cast_2 sc:name ?name.\n",
    "   FILTER regex(?name, \"Arnold S\", \"i\")\n",
    "   \n",
    "}\n",
    "GROUP BY ?cast_2 ?name\n",
    "HAVING (MIN(?bn) = 2)\n",
    "LIMIT 40\n",
    "\"\"\"\n",
    "\n",
    "print(\"Results\")\n",
    "x=run_query(queryString)"
   ]
  },
  {
   "cell_type": "code",
   "execution_count": 41,
   "id": "11ddfc92-7a81-4713-a308-0f95f1ea0b02",
   "metadata": {},
   "outputs": [
    {
     "name": "stdout",
     "output_type": "stream",
     "text": [
      "Results\n",
      "Empty\n"
     ]
    }
   ],
   "source": [
    "# WRONG QUERY\n",
    "queryString = \"\"\"\n",
    "SELECT DISTINCT ?cast_2 ?name ?bn\n",
    "WHERE {\n",
    "   # bind something\n",
    "   ?kbf_0 wdt:P161 wd:Q3454165 ;\n",
    "        wdt:P161 ?cast_1 .\n",
    "   ?kbf_1 wdt:P161 ?cast_1 ;\n",
    "        wdt:P161 ?cast_2 .\n",
    "    filter exists {?cast_2 a (?cast_1)\n",
    "    }\n",
    "   # get the label\n",
    "   ?cast_2 sc:name ?name.\n",
    "   FILTER regex(?name, \"Andie MacDowell\", \"i\")\n",
    "   \n",
    "}\n",
    "LIMIT 40\n",
    "\"\"\"\n",
    "\n",
    "print(\"Results\")\n",
    "x=run_query(queryString)"
   ]
  },
  {
   "cell_type": "markdown",
   "id": "0cf6e982",
   "metadata": {},
   "source": [
    "Final query for this task"
   ]
  },
  {
   "cell_type": "code",
   "execution_count": 42,
   "id": "5efe4a06",
   "metadata": {},
   "outputs": [
    {
     "name": "stdout",
     "output_type": "stream",
     "text": [
      "Results\n",
      "[('cast_2', 'http://www.wikidata.org/entity/Q1280116'), ('name', 'Rachael Crawford')]\n",
      "[('cast_2', 'http://www.wikidata.org/entity/Q5292601'), ('name', 'Don Fernando')]\n",
      "[('cast_2', 'http://www.wikidata.org/entity/Q24961979'), ('name', 'Miguel Ángel Porro')]\n",
      "[('cast_2', 'http://www.wikidata.org/entity/Q26830465'), ('name', 'David H. Holmes')]\n",
      "[('cast_2', 'http://www.wikidata.org/entity/Q15439890'), ('name', 'Jonathan Pienaar')]\n",
      "[('cast_2', 'http://www.wikidata.org/entity/Q18602205'), ('name', 'Slaven Španović')]\n",
      "[('cast_2', 'http://www.wikidata.org/entity/Q27898516'), ('name', 'Katie West')]\n",
      "[('cast_2', 'http://www.wikidata.org/entity/Q7295103'), ('name', 'Rasmus Hardiker')]\n",
      "[('cast_2', 'http://www.wikidata.org/entity/Q192955'), ('name', 'Steve Nash')]\n",
      "[('cast_2', 'http://www.wikidata.org/entity/Q3183213'), ('name', 'Jon Edward Martin')]\n",
      "[('cast_2', 'http://www.wikidata.org/entity/Q106072094'), ('name', 'Napoleon Highbrou')]\n",
      "[('cast_2', 'http://www.wikidata.org/entity/Q27733240'), ('name', 'Hayden Keeler-Stone')]\n",
      "[('cast_2', 'http://www.wikidata.org/entity/Q3634614'), ('name', 'Barbara Cupisti')]\n",
      "[('cast_2', 'http://www.wikidata.org/entity/Q15487568'), ('name', 'Josh Becker')]\n",
      "[('cast_2', 'http://www.wikidata.org/entity/Q21426938'), ('name', \"Patrick d'Assumçao\")]\n",
      "[('cast_2', 'http://www.wikidata.org/entity/Q946980'), ('name', 'Philip Rosenthal')]\n",
      "[('cast_2', 'http://www.wikidata.org/entity/Q6270552'), ('name', 'Jon Culshaw')]\n",
      "[('cast_2', 'http://www.wikidata.org/entity/Q958714'), ('name', 'Chishū Ryū')]\n",
      "[('cast_2', 'http://www.wikidata.org/entity/Q981424'), ('name', 'Scott Garrett')]\n",
      "[('cast_2', 'http://www.wikidata.org/entity/Q3014404'), ('name', 'Daniel Manche')]\n",
      "[('cast_2', 'http://www.wikidata.org/entity/Q42711268'), ('name', 'Gordon Greene')]\n",
      "[('cast_2', 'http://www.wikidata.org/entity/Q42711280'), ('name', 'Julie Holdsworth')]\n",
      "[('cast_2', 'http://www.wikidata.org/entity/Q2926095'), ('name', 'Bronwen Booth')]\n",
      "[('cast_2', 'http://www.wikidata.org/entity/Q2040288'), ('name', 'Otto Retzer')]\n",
      "[('cast_2', 'http://www.wikidata.org/entity/Q42600156'), ('name', 'Christian Fedele')]\n",
      "[('cast_2', 'http://www.wikidata.org/entity/Q314151'), ('name', 'Petr Shelokhonov')]\n",
      "[('cast_2', 'http://www.wikidata.org/entity/Q85340'), ('name', 'Werner Schreyer')]\n",
      "[('cast_2', 'http://www.wikidata.org/entity/Q26168'), ('name', 'Anton LaVey')]\n",
      "[('cast_2', 'http://www.wikidata.org/entity/Q9068560'), ('name', 'Rex Lease')]\n",
      "[('cast_2', 'http://www.wikidata.org/entity/Q22981518'), ('name', 'Empotoe Bosage')]\n",
      "[('cast_2', 'http://www.wikidata.org/entity/Q22981738'), ('name', 'Lahcen Ouezgane')]\n",
      "[('cast_2', 'http://www.wikidata.org/entity/Q42667429'), ('name', 'Celesta Davis')]\n",
      "[('cast_2', 'http://www.wikidata.org/entity/Q2850420'), ('name', 'Ann Savoy')]\n",
      "[('cast_2', 'http://www.wikidata.org/entity/Q443213'), ('name', 'Christina Robinson')]\n",
      "[('cast_2', 'http://www.wikidata.org/entity/Q662934'), ('name', 'Avi Lerner')]\n",
      "[('cast_2', 'http://www.wikidata.org/entity/Q19663917'), ('name', 'Shakey Graves')]\n",
      "[('cast_2', 'http://www.wikidata.org/entity/Q1109260'), ('name', 'Jennifer Flavin')]\n",
      "[('cast_2', 'http://www.wikidata.org/entity/Q6413901'), ('name', 'Kinka Usher')]\n",
      "[('cast_2', 'http://www.wikidata.org/entity/Q3350627'), ('name', 'Olive Blakeney')]\n",
      "[('cast_2', 'http://www.wikidata.org/entity/Q3940235'), ('name', 'Roland Harrah III')]\n",
      "40\n"
     ]
    }
   ],
   "source": [
    "# write your final query\n",
    "queryString = \"\"\"\n",
    "SELECT DISTINCT ?cast_2 ?name\n",
    "WHERE {\n",
    "   # bind something\n",
    "   ?kbf_0 wdt:P161 wd:Q3454165 ;\n",
    "        wdt:P161 ?cast_1 .\n",
    "   ?kbf_1 wdt:P161 ?cast_1 ;\n",
    "        wdt:P161 ?cast_2 .\n",
    "    BIND (\n",
    "      IF(?cast_2 = wd:Q3454165, 0,\n",
    "        IF(?cast_2 in (?cast_1), 1, 2)\n",
    "      ) AS ?bn \n",
    "    ) .\n",
    "   # get the label\n",
    "   ?cast_2 sc:name ?name.   \n",
    "}\n",
    "GROUP BY ?cast_2 ?name\n",
    "HAVING (MIN(?bn) = 2)\n",
    "LIMIT 40\n",
    "\"\"\"\n",
    "\n",
    "print(\"Results\")\n",
    "x=run_query(queryString)"
   ]
  },
  {
   "cell_type": "markdown",
   "id": "9fcb354c",
   "metadata": {},
   "source": [
    "## Task 7\n",
    "Consider the actors who are members of the cast of HIMYM. Amongst the tv series which these actors acted return only those which received more than 2 awards (the result set must be triples of tv series IRI, label, #awards won)."
   ]
  },
  {
   "cell_type": "code",
   "execution_count": 47,
   "id": "83b40dec-69c7-4959-83e0-3458fffb79a1",
   "metadata": {},
   "outputs": [
    {
     "name": "stdout",
     "output_type": "stream",
     "text": [
      "Results\n",
      "[('p', 'http://www.wikidata.org/prop/direct/P166'), ('name', 'award received')]\n",
      "1\n"
     ]
    }
   ],
   "source": [
    "# Predicates of HIMYM regarding award\n",
    "queryString = \"\"\"\n",
    "SELECT DISTINCT ?p ?name\n",
    "WHERE {\n",
    "   # bind something\n",
    "   wd:Q147235 ?p ?obj .\n",
    "   # get the label\n",
    "   ?p sc:name ?name.\n",
    "   \n",
    "   FILTER regex(?name, \"award\", \"i\")\n",
    "}\n",
    "LIMIT 40\n",
    "\"\"\"\n",
    "\n",
    "print(\"Results\")\n",
    "x=run_query(queryString)"
   ]
  },
  {
   "cell_type": "code",
   "execution_count": 8,
   "id": "0e2ccb9b-3562-4f80-bbed-46978ebfb251",
   "metadata": {},
   "outputs": [
    {
     "name": "stdout",
     "output_type": "stream",
     "text": [
      "Results\n",
      "[('o', 'http://www.wikidata.org/entity/Q2300462'), ('name', 'Streamy Awards')]\n",
      "[('o', 'http://www.wikidata.org/entity/Q3002950'), ('name', \"Critics' Choice Television Award for Best Supporting Actor in a Comedy Series\")]\n",
      "[('o', 'http://www.wikidata.org/entity/Q7243510'), ('name', 'Primetime Emmy Award for Outstanding Single-Camera Picture Editing for a Comedy Series')]\n",
      "[('o', 'http://www.wikidata.org/entity/Q23011211'), ('name', 'International TV Audience Award for Best Comedy TV Series')]\n",
      "[('o', 'http://www.wikidata.org/entity/Q7243501'), ('name', 'Primetime Emmy Award for Outstanding Cinematography for a Multi-Camera Series')]\n",
      "[('o', 'http://www.wikidata.org/entity/Q17985609'), ('name', 'Primetime Emmy Award for Outstanding Art Direction for a Contemporary Program')]\n",
      "[('o', 'http://www.wikidata.org/entity/Q30633707'), ('name', 'Primetime Emmy Award for Outstanding Multi-Camera Picture Editing for a Comedy Series')]\n",
      "7\n"
     ]
    }
   ],
   "source": [
    "# Awards reveived by HIMYM\n",
    "queryString = \"\"\"\n",
    "SELECT DISTINCT ?o ?name\n",
    "WHERE {\n",
    "   # bind something\n",
    "   wd:Q147235 wdt:P166 ?o .\n",
    "   # get the label\n",
    "   ?o sc:name ?name.\n",
    "}\n",
    "LIMIT 40\n",
    "\"\"\"\n",
    "\n",
    "print(\"Results\")\n",
    "x=run_query(queryString)"
   ]
  },
  {
   "cell_type": "code",
   "execution_count": 4,
   "id": "cf06ec18-8e51-46a8-90c0-fbc79745ad81",
   "metadata": {},
   "outputs": [
    {
     "name": "stdout",
     "output_type": "stream",
     "text": [
      "Results\n",
      "Empty\n"
     ]
    }
   ],
   "source": [
    "# Awards won by series in which actors of HIMYM acted\n",
    "queryString = \"\"\"\n",
    "SELECT DISTINCT ?ts ?name (count(?aw) as ?cnt_aw)\n",
    "WHERE {\n",
    "   wd:Q147235 wdt:P527 ?se .\n",
    "   ?se wdt:P527 ?ep .\n",
    "   ?ep wdt:P161 ?ac .\n",
    "   ?ac wdt:P161 ?ep_2 .\n",
    "   ?ep_2 wdt:P527 ?se_2 .\n",
    "   ?se_2 wdt:P527 ?ts .\n",
    "   ?ts wdt:P166 ?aw .\n",
    "   # get the label\n",
    "   ?ts sc:name ?name.\n",
    "}\n",
    "GROUP BY ?ts ?name\n",
    "ORDER BY desc(?cnt_aw)\n",
    "LIMIT 40\n",
    "\"\"\"\n",
    "\n",
    "print(\"Results\")\n",
    "x=run_query(queryString)"
   ]
  },
  {
   "cell_type": "code",
   "execution_count": 10,
   "id": "be91e37a-1a02-4e0f-8bbe-f981db33bc05",
   "metadata": {},
   "outputs": [
    {
     "name": "stdout",
     "output_type": "stream",
     "text": [
      "Results\n",
      "[('ts', 'http://www.wikidata.org/entity/Q3577037'), ('name', 'The West Wing'), ('cnt_aw', '22')]\n",
      "[('ts', 'http://www.wikidata.org/entity/Q1079'), ('name', 'Breaking Bad'), ('cnt_aw', '21')]\n",
      "[('ts', 'http://www.wikidata.org/entity/Q79784'), ('name', 'Friends'), ('cnt_aw', '10')]\n",
      "[('ts', 'http://www.wikidata.org/entity/Q8539'), ('name', 'The Big Bang Theory'), ('cnt_aw', '10')]\n",
      "[('ts', 'http://www.wikidata.org/entity/Q438406'), ('name', \"Grey's Anatomy\"), ('cnt_aw', '8')]\n",
      "[('ts', 'http://www.wikidata.org/entity/Q147235'), ('name', 'How I Met Your Mother'), ('cnt_aw', '7')]\n",
      "[('ts', 'http://www.wikidata.org/entity/Q558112'), ('name', 'Black Mirror'), ('cnt_aw', '6')]\n",
      "[('ts', 'http://www.wikidata.org/entity/Q2085'), ('name', 'Twin Peaks'), ('cnt_aw', '6')]\n",
      "[('ts', 'http://www.wikidata.org/entity/Q13979'), ('name', 'Saturday Night Live'), ('cnt_aw', '2')]\n",
      "[('ts', 'http://www.wikidata.org/entity/Q2744'), ('name', 'The X-Files'), ('cnt_aw', '1')]\n",
      "[('ts', 'http://www.wikidata.org/entity/Q321423'), ('name', 'Law & Order'), ('cnt_aw', '1')]\n",
      "[('ts', 'http://www.wikidata.org/entity/Q564345'), ('name', 'Person of Interest'), ('cnt_aw', '1')]\n",
      "[('ts', 'http://www.wikidata.org/entity/Q5930'), ('name', 'Family Guy'), ('cnt_aw', '1')]\n",
      "[('ts', 'http://www.wikidata.org/entity/Q183513'), ('name', 'Buffy the Vampire Slayer'), ('cnt_aw', '1')]\n",
      "[('ts', 'http://www.wikidata.org/entity/Q210146'), ('name', 'Babylon 5'), ('cnt_aw', '1')]\n",
      "15\n"
     ]
    }
   ],
   "source": [
    "# Awards won by series in which actors of HIMYM acted\n",
    "queryString = \"\"\"\n",
    "SELECT DISTINCT ?ts ?name (count(distinct ?aw) as ?cnt_aw)\n",
    "WHERE {\n",
    "   wd:Q147235 wdt:P527 ?se .\n",
    "   ?se wdt:P527 ?ep .\n",
    "   ?ep wdt:P161 ?ac .\n",
    "   ?ep_2 wdt:P161 ?ac .\n",
    "   ?se_2 wdt:P527 ?ep_2 .\n",
    "   ?ts wdt:P527 ?se_2 .\n",
    "   ?ts wdt:P166 ?aw .\n",
    "   # get the label\n",
    "   ?ts sc:name ?name.\n",
    "}\n",
    "GROUP BY ?ts ?name\n",
    "ORDER BY desc(?cnt_aw)\n",
    "LIMIT 40\n",
    "\"\"\"\n",
    "\n",
    "print(\"Results\")\n",
    "x=run_query(queryString)"
   ]
  },
  {
   "cell_type": "markdown",
   "id": "7bc34502",
   "metadata": {},
   "source": [
    "Final query for this task"
   ]
  },
  {
   "cell_type": "code",
   "execution_count": 5,
   "id": "2a723b37",
   "metadata": {},
   "outputs": [
    {
     "name": "stdout",
     "output_type": "stream",
     "text": [
      "Results\n",
      "[('ts', 'http://www.wikidata.org/entity/Q3577037'), ('name', 'The West Wing'), ('cnt_aw', '22')]\n",
      "[('ts', 'http://www.wikidata.org/entity/Q1079'), ('name', 'Breaking Bad'), ('cnt_aw', '21')]\n",
      "[('ts', 'http://www.wikidata.org/entity/Q79784'), ('name', 'Friends'), ('cnt_aw', '10')]\n",
      "[('ts', 'http://www.wikidata.org/entity/Q8539'), ('name', 'The Big Bang Theory'), ('cnt_aw', '10')]\n",
      "[('ts', 'http://www.wikidata.org/entity/Q438406'), ('name', \"Grey's Anatomy\"), ('cnt_aw', '8')]\n",
      "[('ts', 'http://www.wikidata.org/entity/Q147235'), ('name', 'How I Met Your Mother'), ('cnt_aw', '7')]\n",
      "[('ts', 'http://www.wikidata.org/entity/Q558112'), ('name', 'Black Mirror'), ('cnt_aw', '6')]\n",
      "[('ts', 'http://www.wikidata.org/entity/Q2085'), ('name', 'Twin Peaks'), ('cnt_aw', '6')]\n",
      "8\n"
     ]
    }
   ],
   "source": [
    "# write your final query\n",
    "\n",
    "queryString = \"\"\"\n",
    "SELECT DISTINCT ?ts ?name (count(distinct ?aw) as ?cnt_aw)\n",
    "WHERE {\n",
    "   wd:Q147235 wdt:P527 ?se .\n",
    "   ?se wdt:P527 ?ep .\n",
    "   ?ep wdt:P161 ?ac .\n",
    "   ?ep_2 wdt:P161 ?ac .\n",
    "   ?se_2 wdt:P527 ?ep_2 .\n",
    "   ?ts wdt:P527 ?se_2 .\n",
    "   ?ts wdt:P166 ?aw .\n",
    "   # get the label\n",
    "   ?ts sc:name ?name.\n",
    "}\n",
    "GROUP BY ?ts ?name\n",
    "HAVING (count(distinct ?aw) > 2)\n",
    "ORDER BY desc(?cnt_aw)\n",
    "LIMIT 40\n",
    "\"\"\"\n",
    "\n",
    "print(\"Results\")\n",
    "x=run_query(queryString)"
   ]
  },
  {
   "cell_type": "code",
   "execution_count": null,
   "id": "de41909f-7e13-4b89-971f-e032705e51e1",
   "metadata": {},
   "outputs": [],
   "source": []
  }
 ],
 "metadata": {
  "kernelspec": {
   "display_name": "Python 3 (ipykernel)",
   "language": "python",
   "name": "python3"
  },
  "language_info": {
   "codemirror_mode": {
    "name": "ipython",
    "version": 3
   },
   "file_extension": ".py",
   "mimetype": "text/x-python",
   "name": "python",
   "nbconvert_exporter": "python",
   "pygments_lexer": "ipython3",
   "version": "3.7.10"
  }
 },
 "nbformat": 4,
 "nbformat_minor": 5
}
