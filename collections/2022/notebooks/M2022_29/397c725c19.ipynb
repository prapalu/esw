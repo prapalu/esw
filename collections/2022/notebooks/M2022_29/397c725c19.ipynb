{
 "cells": [
  {
   "cell_type": "markdown",
   "id": "880ee970",
   "metadata": {},
   "source": [
    "# General instructions\n",
    "\n",
    "The goal of the project is to materialize a set of **exploratory workloads** over a real-world, large-scale,  open-domain KG: [WikiData](https://www.wikidata.org/wiki/Wikidata:Main_Page)\n",
    "\n",
    "An exploratory workload  is composed by a set of queries, where each query is related to the information obtained previously.\n",
    "\n",
    "An exploratory workload starts with a usually vague, open ended question, and does not assume the person issuing the workload has a clear understanding of the data contained in the target database or its structure.\n",
    "\n",
    "Remeber that:\n",
    "\n",
    "1. All the queries must run in the python notebook\n",
    "2. You can use classes and properties only if you find them via a SPARQL query that must be present in the notebook\n",
    "3. You do not delete useless queries. Keep everything that is synthatically valid \n",
    "\n",
    "```\n",
    "?p <http://schema.org/name> ?name .\n",
    "```\n",
    "    \n",
    "    is the BGP returning a human-readable name of a property or a class in Wikidata."
   ]
  },
  {
   "cell_type": "code",
   "execution_count": 1,
   "id": "985f74ef",
   "metadata": {},
   "outputs": [],
   "source": [
    "## SETUP used later\n",
    "\n",
    "from SPARQLWrapper import SPARQLWrapper, JSON\n",
    "\n",
    "\n",
    "prefixString = \"\"\"\n",
    "##-397c725c19-##\n",
    "PREFIX wd: <http://www.wikidata.org/entity/> \n",
    "PREFIX wdt: <http://www.wikidata.org/prop/direct/> \n",
    "PREFIX sc: <http://schema.org/>\n",
    "\"\"\"\n",
    "\n",
    "# select and construct queries\n",
    "def run_query(queryString,verbose = True):\n",
    "    to_run = prefixString + \"\\n\" + queryString\n",
    "\n",
    "    sparql = SPARQLWrapper(\"http://a256-gc1-03.srv.aau.dk:5820/sparql\")\n",
    "    sparql.setTimeout(300)\n",
    "    sparql.setReturnFormat(JSON)\n",
    "    sparql.setQuery(to_run)\n",
    "\n",
    "    try :\n",
    "        results = sparql.query()\n",
    "        json_results = results.convert()\n",
    "        if len(json_results['results']['bindings'])==0:\n",
    "            print(\"Empty\")\n",
    "            return []\n",
    "        array = []\n",
    "        for bindings in json_results['results']['bindings']:\n",
    "            app =  [ (var, value['value'])  for var, value in bindings.items() ] \n",
    "            if verbose:\n",
    "                print( app)\n",
    "            array.append(app)\n",
    "        if verbose:\n",
    "            print(len(array))\n",
    "        return array\n",
    "\n",
    "    except Exception as e :\n",
    "        print(\"The operation failed\", e)\n",
    "    \n",
    "# ASk queries\n",
    "def run_ask_query(queryString):\n",
    "    to_run = prefixString + \"\\n\" + queryString\n",
    "\n",
    "    sparql = SPARQLWrapper(\"http://a256-gc1-03.srv.aau.dk:5820/sparql\")\n",
    "    sparql.setTimeout(300)\n",
    "    sparql.setReturnFormat(JSON)\n",
    "    sparql.setQuery(to_run)\n",
    "\n",
    "    try :\n",
    "        return sparql.query().convert()\n",
    "\n",
    "    except Exception as e :\n",
    "        print(\"The operation failed\", e)"
   ]
  },
  {
   "cell_type": "markdown",
   "id": "034e557b",
   "metadata": {},
   "source": [
    "# Movie Workflow Series (\"Disney explorative search\") \n",
    "\n",
    "Consider the following exploratory information need:\n",
    "\n",
    "> investigate films produced by Disney and compare workers among films."
   ]
  },
  {
   "cell_type": "markdown",
   "id": "afc6ab25",
   "metadata": {},
   "source": [
    "## Useful URIs for the current workflow\n",
    "The following are given:\n",
    "\n",
    "| IRI           | Description   | Role      |\n",
    "| -----------   | -----------   |-----------|\n",
    "| `wdt:P1647`   | subproperty   | predicate |\n",
    "| `wdt:P31`     | instance of   | predicate |\n",
    "| `wdt:P106`    | profession    | predicate | \n",
    "| `wdt:P279`    | subclass      | predicate |\n",
    "| `wdt:P27`     | nationality   | predicate |\n",
    "| `wdt:P106`     | profession   | predicate |\n",
    "| `wdt:P3342`     | Significant person       | predicate |\n",
    "| `wd:Q5`| Human       | node |\n",
    "| `wd:Q36479`    | The Lion King      | node |\n"
   ]
  },
  {
   "cell_type": "markdown",
   "id": "2f1056f3",
   "metadata": {},
   "source": [
    "\n",
    "\n",
    "\n",
    "Also consider\n",
    "\n",
    "```\n",
    "wd:Q36479 ?p ?obj .\n",
    "```\n",
    "\n",
    "is the BGP to retrieve all **properties of The Lion King**\n",
    "\n",
    "Please consider that when you return a resource, you should return the IRI and the label of the resource. In particular, when the task require you to identify a BGP the result set must always be a list of couples IRI - label.\n",
    "\n",
    "The workload should:\n",
    "\n",
    "\n",
    "1. Identify the BGP for films\n",
    "\n",
    "2. Identify the BGP for Walt Disney Animation Studios\n",
    "\n",
    "3. Identify the BGP for Walt Disney (person)\n",
    "\n",
    "4. List all the films created by the Walt Disney Animation Studios while Walt Disney was alive (the result set must be a list of couples films IRI and label).\n",
    "\n",
    "5. Find the name of the voice actors who participated in more than 5 films by the Walt Disney Animation Studios (the result set must be a list of triples voice actors IRI, label and #films).\n",
    "\n",
    "6. Identify the BGP for the film \"The Little Mermaid\"\n",
    "\n",
    "7. Find who worked on both \"The Little Mermaid\" and \"The Lion King\" (the result set must be a list of couples worker IRI and label). \n",
    "\n",
    "8. Identify the BGP for Academy Awards\n",
    "\n",
    "9. For each films created by the Walt Disney Animation Studios return the number of nomination for an Academy Awards. Return only films with at least one nomination. (the result set must be triples of films IRI, label and #nomination)."
   ]
  },
  {
   "cell_type": "markdown",
   "id": "38093b60",
   "metadata": {},
   "source": [
    "## Task 1\n",
    "Identify the BGP for films"
   ]
  },
  {
   "cell_type": "code",
   "execution_count": 2,
   "id": "20ce376d-c9b9-4ff9-85d3-1ef45b6c5db8",
   "metadata": {
    "tags": []
   },
   "outputs": [
    {
     "name": "stdout",
     "output_type": "stream",
     "text": [
      "Results\n",
      "[('o', 'http://www.wikidata.org/entity/Q29168811'), ('oname', 'animated feature film')]\n",
      "1\n"
     ]
    }
   ],
   "source": [
    "# query example\n",
    "#i get instance of The Lion King\n",
    "queryString = \"\"\"\n",
    "SELECT DISTINCT  ?o ?oname\n",
    "WHERE {\n",
    "   # bind something\n",
    "    wd:Q36479 wdt:P31 ?o .\n",
    "   # get the label\n",
    "   ?o sc:name ?oname.\n",
    "}\n",
    "\n",
    "LIMIT 50\n",
    "\"\"\"\n",
    "\n",
    "print(\"Results\")\n",
    "x=run_query(queryString)"
   ]
  },
  {
   "cell_type": "code",
   "execution_count": 3,
   "id": "c3a595af-e7ca-4a49-ba33-861b39793b39",
   "metadata": {},
   "outputs": [
    {
     "name": "stdout",
     "output_type": "stream",
     "text": [
      "Results\n",
      "[('o', 'http://www.wikidata.org/entity/Q11424'), ('oname', 'film')]\n",
      "1\n"
     ]
    }
   ],
   "source": [
    "# query example\n",
    "# i want to find film\n",
    "queryString = \"\"\"\n",
    "SELECT DISTINCT ?o ?oname\n",
    "WHERE {\n",
    "   # bind something\n",
    "   wd:Q29168811 wdt:P279 ?s .\n",
    "   ?s wdt:P279 ?o.\n",
    "   # get the label\n",
    "   #?s sc:name ?sname.\n",
    "   ?o sc:name ?oname.\n",
    "   #FILTER REGEX(?sname,'films','i')\n",
    "}\n",
    "\n",
    "LIMIT 50\n",
    "\"\"\"\n",
    "\n",
    "print(\"Results\")\n",
    "x=run_query(queryString)"
   ]
  },
  {
   "cell_type": "markdown",
   "id": "3f906742",
   "metadata": {},
   "source": [
    "Final query for this task"
   ]
  },
  {
   "cell_type": "code",
   "execution_count": 4,
   "id": "f627f528-9615-4bce-8062-f745021da2ed",
   "metadata": {},
   "outputs": [
    {
     "name": "stdout",
     "output_type": "stream",
     "text": [
      "Results\n",
      "[('p', 'http://www.wikidata.org/prop/direct/P2579'), ('pname', 'studied by'), ('o', 'http://www.wikidata.org/entity/Q1660187'), ('oname', 'film studies')]\n",
      "[('p', 'http://www.wikidata.org/prop/direct/P1963'), ('pname', 'properties for this type'), ('o', 'http://www.wikidata.org/entity/P345'), ('oname', 'IMDb ID')]\n",
      "[('p', 'http://www.wikidata.org/prop/direct/P1963'), ('pname', 'properties for this type'), ('o', 'http://www.wikidata.org/entity/P1040'), ('oname', 'film editor')]\n",
      "[('p', 'http://www.wikidata.org/prop/direct/P1963'), ('pname', 'properties for this type'), ('o', 'http://www.wikidata.org/entity/P344'), ('oname', 'director of photography')]\n",
      "[('p', 'http://www.wikidata.org/prop/direct/P5869'), ('pname', 'model item'), ('o', 'http://www.wikidata.org/entity/Q17738'), ('oname', 'Star Wars: Episode IV – A New Hope')]\n",
      "[('p', 'http://www.wikidata.org/prop/direct/P910'), ('pname', \"topic's main category\"), ('o', 'http://www.wikidata.org/entity/Q55321'), ('oname', 'Category:Films')]\n",
      "[('p', 'http://www.wikidata.org/prop/direct/P279'), ('pname', 'subclass of'), ('o', 'http://www.wikidata.org/entity/Q20937557'), ('oname', 'series')]\n",
      "[('p', 'http://www.wikidata.org/prop/direct/P1963'), ('pname', 'properties for this type'), ('o', 'http://www.wikidata.org/entity/P1476'), ('oname', 'title')]\n",
      "[('p', 'http://www.wikidata.org/prop/direct/P1963'), ('pname', 'properties for this type'), ('o', 'http://www.wikidata.org/entity/P2047'), ('oname', 'duration')]\n",
      "[('p', 'http://www.wikidata.org/prop/direct/P1963'), ('pname', 'properties for this type'), ('o', 'http://www.wikidata.org/entity/P162'), ('oname', 'producer')]\n",
      "10\n"
     ]
    }
   ],
   "source": [
    "# query example\n",
    "#i find the film Q11424\n",
    "#i find bgp for film\n",
    "queryString = \"\"\"\n",
    "SELECT DISTINCT ?p ?pname ?o ?oname\n",
    "WHERE {\n",
    "   # bind something\n",
    "   wd:Q11424 ?p ?o.\n",
    "   # get the label\n",
    "   ?p sc:name ?pname.\n",
    "   ?o sc:name ?oname.\n",
    "}\n",
    "\n",
    "LIMIT 10\n",
    "\"\"\"\n",
    "\n",
    "print(\"Results\")\n",
    "x=run_query(queryString)"
   ]
  },
  {
   "cell_type": "markdown",
   "id": "fdc72dc2",
   "metadata": {},
   "source": [
    "## Task 2\n",
    "Identify the BGP for Walt Disney Animation Studios"
   ]
  },
  {
   "cell_type": "code",
   "execution_count": 5,
   "id": "38f567d2",
   "metadata": {},
   "outputs": [
    {
     "name": "stdout",
     "output_type": "stream",
     "text": [
      "Results\n",
      "[('p', 'http://www.wikidata.org/prop/direct/P179'), ('pname', 'part of the series'), ('o', 'http://www.wikidata.org/entity/Q56070713'), ('oname', 'Walt Disney Animation Studios film')]\n",
      "[('p', 'http://www.wikidata.org/prop/direct/P272'), ('pname', 'production company'), ('o', 'http://www.wikidata.org/entity/Q1047410'), ('oname', 'Walt Disney Animation Studios')]\n",
      "2\n"
     ]
    }
   ],
   "source": [
    "# write your queries\n",
    "# query example\n",
    "queryString = \"\"\"\n",
    "SELECT DISTINCT ?p ?pname ?o ?oname\n",
    "WHERE {\n",
    "   # bind something\n",
    "   wd:Q36479 ?p ?o.\n",
    "   # get the label\n",
    "   ?p sc:name ?pname.\n",
    "   ?o sc:name ?oname.\n",
    "   FILTER REGEX(?oname,'Walt Disney Animation Studios')\n",
    "}\n",
    "\n",
    "\"\"\"\n",
    "\n",
    "print(\"Results\")\n",
    "x=run_query(queryString)"
   ]
  },
  {
   "cell_type": "markdown",
   "id": "58cac02c",
   "metadata": {},
   "source": [
    "Final query for this task"
   ]
  },
  {
   "cell_type": "code",
   "execution_count": 14,
   "id": "9c29f4a6",
   "metadata": {},
   "outputs": [
    {
     "name": "stdout",
     "output_type": "stream",
     "text": [
      "Results\n",
      "[('p', 'http://www.wikidata.org/prop/direct/P166'), ('pname', 'award received'), ('o', 'http://www.wikidata.org/entity/Q8610'), ('oname', 'Academy Scientific and Technical Award')]\n",
      "[('p', 'http://www.wikidata.org/prop/direct/P127'), ('pname', 'owned by'), ('o', 'http://www.wikidata.org/entity/Q191224'), ('oname', 'Walt Disney Pictures')]\n",
      "[('p', 'http://www.wikidata.org/prop/direct/P127'), ('pname', 'owned by'), ('o', 'http://www.wikidata.org/entity/Q7414'), ('oname', 'The Walt Disney Company')]\n",
      "[('p', 'http://www.wikidata.org/prop/direct/P31'), ('pname', 'instance of'), ('o', 'http://www.wikidata.org/entity/Q1762059'), ('oname', 'film production company')]\n",
      "[('p', 'http://www.wikidata.org/prop/direct/P1037'), ('pname', 'director / manager'), ('o', 'http://www.wikidata.org/entity/Q5127380'), ('oname', 'Clark Spencer')]\n",
      "[('p', 'http://www.wikidata.org/prop/direct/P17'), ('pname', 'country'), ('o', 'http://www.wikidata.org/entity/Q30'), ('oname', 'United States of America')]\n",
      "[('p', 'http://www.wikidata.org/prop/direct/P6379'), ('pname', 'has works in the collection'), ('o', 'http://www.wikidata.org/entity/Q4819492'), ('oname', 'Auckland Art Gallery')]\n",
      "[('p', 'http://www.wikidata.org/prop/direct/P1454'), ('pname', 'legal form'), ('o', 'http://www.wikidata.org/entity/Q891723'), ('oname', 'public company')]\n",
      "[('p', 'http://www.wikidata.org/prop/direct/P1056'), ('pname', 'product or material produced'), ('o', 'http://www.wikidata.org/entity/Q202866'), ('oname', 'animated film')]\n",
      "[('p', 'http://www.wikidata.org/prop/direct/P452'), ('pname', 'industry'), ('o', 'http://www.wikidata.org/entity/Q1415395'), ('oname', 'film industry')]\n",
      "[('p', 'http://www.wikidata.org/prop/direct/P166'), ('pname', 'award received'), ('o', 'http://www.wikidata.org/entity/Q2620855'), ('oname', 'Satellite Award for Best Animated or Mixed Media Feature')]\n",
      "[('p', 'http://www.wikidata.org/prop/direct/P1411'), ('pname', 'nominated for'), ('o', 'http://www.wikidata.org/entity/Q2620855'), ('oname', 'Satellite Award for Best Animated or Mixed Media Feature')]\n",
      "[('p', 'http://www.wikidata.org/prop/direct/P31'), ('pname', 'instance of'), ('o', 'http://www.wikidata.org/entity/Q1107679'), ('oname', 'animation studio')]\n",
      "[('p', 'http://www.wikidata.org/prop/direct/P740'), ('pname', 'location of formation'), ('o', 'http://www.wikidata.org/entity/Q39561'), ('oname', 'Burbank')]\n",
      "[('p', 'http://www.wikidata.org/prop/direct/P159'), ('pname', 'headquarters location'), ('o', 'http://www.wikidata.org/entity/Q39561'), ('oname', 'Burbank')]\n",
      "[('p', 'http://www.wikidata.org/prop/direct/P112'), ('pname', 'founded by'), ('o', 'http://www.wikidata.org/entity/Q8704'), ('oname', 'Walt Disney')]\n",
      "[('p', 'http://www.wikidata.org/prop/direct/P749'), ('pname', 'parent organization'), ('o', 'http://www.wikidata.org/entity/Q2216535'), ('oname', 'Walt Disney Studios')]\n",
      "[('p', 'http://www.wikidata.org/prop/direct/P910'), ('pname', \"topic's main category\"), ('o', 'http://www.wikidata.org/entity/Q25088476'), ('oname', 'Category:Walt Disney Animation Studios')]\n",
      "[('p', 'http://www.wikidata.org/prop/direct/P112'), ('pname', 'founded by'), ('o', 'http://www.wikidata.org/entity/Q347432'), ('oname', 'Roy O. Disney')]\n",
      "19\n"
     ]
    }
   ],
   "source": [
    "# write your final query\n",
    "# the bgp of Walt Disney Animation Studios \n",
    "queryString = \"\"\"\n",
    "SELECT DISTINCT ?p ?pname ?o ?oname\n",
    "WHERE {\n",
    "   # bind something\n",
    "   wd:Q1047410 ?p ?o.\n",
    "   # get the label\n",
    "   ?p sc:name ?pname.\n",
    "   ?o sc:name ?oname.\n",
    "   \n",
    "}\n",
    "\n",
    "\"\"\"\n",
    "\n",
    "print(\"Results\")\n",
    "x=run_query(queryString)"
   ]
  },
  {
   "cell_type": "code",
   "execution_count": 7,
   "id": "21c55101-4dc0-4d7d-81e5-1efb8e5c4068",
   "metadata": {},
   "outputs": [
    {
     "name": "stdout",
     "output_type": "stream",
     "text": [
      "Results\n",
      "[('s', 'http://www.wikidata.org/entity/Q223163'), ('sname', \"The Emperor's New Groove\")]\n",
      "[('s', 'http://www.wikidata.org/entity/Q18647981'), ('sname', 'Moana')]\n",
      "[('s', 'http://www.wikidata.org/entity/Q179673'), ('sname', 'Beauty and the Beast')]\n",
      "[('s', 'http://www.wikidata.org/entity/Q15046569'), ('sname', 'Roger Rabbit short films')]\n",
      "[('s', 'http://www.wikidata.org/entity/Q3362144'), ('sname', 'Trail Mix-Up')]\n",
      "[('s', 'http://www.wikidata.org/entity/Q379873'), ('sname', 'Who Framed Roger Rabbit')]\n",
      "[('s', 'http://www.wikidata.org/entity/Q36479'), ('sname', 'The Lion King')]\n",
      "[('s', 'http://www.wikidata.org/entity/Q215617'), ('sname', 'Sleeping Beauty')]\n",
      "[('s', 'http://www.wikidata.org/entity/Q212792'), ('sname', 'Bolt')]\n",
      "[('s', 'http://www.wikidata.org/entity/Q944287'), ('sname', 'The Little Mermaid')]\n",
      "10\n"
     ]
    }
   ],
   "source": [
    "# write your final query\n",
    " \n",
    "queryString = \"\"\"\n",
    "SELECT DISTINCT ?s ?sname\n",
    "WHERE {\n",
    "   # bind something\n",
    "   ?s wdt:P272 wd:Q1047410.\n",
    "   # get the label\n",
    "   ?s sc:name ?sname.\n",
    "   \n",
    "}\n",
    "LIMIT 10\n",
    "\"\"\"\n",
    "\n",
    "print(\"Results\")\n",
    "x=run_query(queryString)"
   ]
  },
  {
   "cell_type": "markdown",
   "id": "9e4e3304",
   "metadata": {},
   "source": [
    "## Task 3\n",
    "Identify the BGP for Walt Disney (person)"
   ]
  },
  {
   "cell_type": "code",
   "execution_count": 8,
   "id": "d2d1fc5d",
   "metadata": {},
   "outputs": [
    {
     "name": "stdout",
     "output_type": "stream",
     "text": [
      "Results\n",
      "[('s', 'http://www.wikidata.org/entity/Q8704'), ('sname', 'Walt Disney')]\n",
      "1\n"
     ]
    }
   ],
   "source": [
    "# write your queries\n",
    "# I find the Walt Disney\n",
    "queryString = \"\"\"\n",
    "SELECT DISTINCT ?s ?sname\n",
    "WHERE {\n",
    "   # bind something\n",
    "   ?s wdt:P31 wd:Q5.\n",
    "     # ?p ?o.\n",
    "   # get the label\n",
    "   ?s sc:name ?sname.\n",
    "   FILTER REGEX(?sname,'Walt Disney')\n",
    "}\n",
    "LIMIT 20\n",
    "\"\"\"\n",
    "\n",
    "print(\"Results\")\n",
    "x=run_query(queryString)"
   ]
  },
  {
   "cell_type": "code",
   "execution_count": null,
   "id": "24d6ca5e-fdee-4d76-a013-77dbea0234f3",
   "metadata": {},
   "outputs": [],
   "source": [
    "# write your queries\n",
    "#  I find the bgp for Walt Disney\n",
    "queryString = \"\"\"\n",
    "SELECT DISTINCT ?p ?pname ?o ?oname\n",
    "WHERE {\n",
    "   # bind something\n",
    "   wd:Q8704 ?p ?o.\n",
    "   # get the label\n",
    "   ?p sc:name ?pname.\n",
    "   ?o sc:name ?oname.\n",
    "\n",
    "}\n",
    "LIMIT 10\n",
    "\"\"\"\n",
    "\n",
    "print(\"Results\")\n",
    "x=run_query(queryString)"
   ]
  },
  {
   "cell_type": "markdown",
   "id": "516f1255",
   "metadata": {},
   "source": [
    "Final query for this task"
   ]
  },
  {
   "cell_type": "code",
   "execution_count": 9,
   "id": "664bc969",
   "metadata": {},
   "outputs": [
    {
     "name": "stdout",
     "output_type": "stream",
     "text": [
      "Results\n",
      "[('o', 'http://www.wikidata.org/entity/Q3658608'), ('oname', 'caricaturist')]\n",
      "[('o', 'http://www.wikidata.org/entity/Q1028181'), ('oname', 'painter')]\n",
      "[('o', 'http://www.wikidata.org/entity/Q10800557'), ('oname', 'film actor')]\n",
      "[('o', 'http://www.wikidata.org/entity/Q13235160'), ('oname', 'manufacturer')]\n",
      "[('o', 'http://www.wikidata.org/entity/Q205375'), ('oname', 'inventor')]\n",
      "[('o', 'http://www.wikidata.org/entity/Q2405480'), ('oname', 'voice actor')]\n",
      "[('o', 'http://www.wikidata.org/entity/Q2526255'), ('oname', 'film director')]\n",
      "[('o', 'http://www.wikidata.org/entity/Q28389'), ('oname', 'screenwriter')]\n",
      "[('o', 'http://www.wikidata.org/entity/Q3282637'), ('oname', 'film producer')]\n",
      "[('o', 'http://www.wikidata.org/entity/Q33999'), ('oname', 'actor')]\n",
      "[('o', 'http://www.wikidata.org/entity/Q3455803'), ('oname', 'director')]\n",
      "[('o', 'http://www.wikidata.org/entity/Q36180'), ('oname', 'writer')]\n",
      "[('o', 'http://www.wikidata.org/entity/Q644687'), ('oname', 'illustrator')]\n",
      "[('o', 'http://www.wikidata.org/entity/Q947873'), ('oname', 'television presenter')]\n",
      "[('o', 'http://www.wikidata.org/entity/Q266569'), ('oname', 'animator')]\n",
      "15\n"
     ]
    }
   ],
   "source": [
    "# write your final query\n",
    "# we want to find the occupation of walt desiny\n",
    "queryString = \"\"\"\n",
    "SELECT DISTINCT ?o ?oname\n",
    "WHERE {\n",
    "   # bind something\n",
    "   wd:Q8704 wdt:P106 ?o.\n",
    "   # get the label\n",
    "   ?o sc:name ?oname.\n",
    "}\n",
    "LIMIT 30\n",
    "\"\"\"\n",
    "\n",
    "print(\"Results\")\n",
    "x=run_query(queryString)"
   ]
  },
  {
   "cell_type": "markdown",
   "id": "f57e9674",
   "metadata": {},
   "source": [
    "## Task 4\n",
    "List all the films created by the Walt Disney Animation Studios while Walt Disney was alive (the result set must be a list of couples films IRI and label)."
   ]
  },
  {
   "cell_type": "code",
   "execution_count": 15,
   "id": "7e8c1472",
   "metadata": {},
   "outputs": [
    {
     "name": "stdout",
     "output_type": "stream",
     "text": [
      "Results\n",
      "[('p', 'http://www.wikidata.org/prop/direct/P108'), ('pname', 'employer')]\n",
      "[('p', 'http://www.wikidata.org/prop/direct/P1346'), ('pname', 'winner')]\n",
      "[('p', 'http://www.wikidata.org/prop/direct/P1535'), ('pname', 'used by')]\n",
      "[('p', 'http://www.wikidata.org/prop/direct/P162'), ('pname', 'producer')]\n",
      "[('p', 'http://www.wikidata.org/prop/direct/P170'), ('pname', 'creator')]\n",
      "[('p', 'http://www.wikidata.org/prop/direct/P175'), ('pname', 'performer')]\n",
      "[('p', 'http://www.wikidata.org/prop/direct/P1830'), ('pname', 'owner of')]\n",
      "[('p', 'http://www.wikidata.org/prop/direct/P199'), ('pname', 'business division')]\n",
      "[('p', 'http://www.wikidata.org/prop/direct/P2650'), ('pname', 'interested in')]\n",
      "[('p', 'http://www.wikidata.org/prop/direct/P272'), ('pname', 'production company')]\n",
      "[('p', 'http://www.wikidata.org/prop/direct/P301'), ('pname', \"category's main topic\")]\n",
      "[('p', 'http://www.wikidata.org/prop/direct/P355'), ('pname', 'subsidiary')]\n",
      "[('p', 'http://www.wikidata.org/prop/direct/P749'), ('pname', 'parent organization')]\n",
      "[('p', 'http://www.wikidata.org/prop/direct/P750'), ('pname', 'distributed by')]\n",
      "[('p', 'http://www.wikidata.org/prop/direct/P921'), ('pname', 'main subject')]\n",
      "[('p', 'http://www.wikidata.org/prop/direct/P971'), ('pname', 'category combines topics')]\n",
      "16\n"
     ]
    }
   ],
   "source": [
    "#we want to find appropriate predication for Walt Disney Animation Studios which is production company P272\n",
    "queryString = \"\"\"\n",
    "SELECT DISTINCT  ?p ?pname \n",
    "WHERE {\n",
    "   # bind something\n",
    "    ?s ?p wd:Q1047410.\n",
    "   # get the label\n",
    "   ?p sc:name ?pname.\n",
    "}\n",
    "LIMIT 150\n",
    "\"\"\"\n",
    "\n",
    "print(\"Results\")\n",
    "x=run_query(queryString)"
   ]
  },
  {
   "cell_type": "code",
   "execution_count": 13,
   "id": "7461c00f-02e7-413e-b89c-f863e8a62428",
   "metadata": {},
   "outputs": [
    {
     "name": "stdout",
     "output_type": "stream",
     "text": [
      "Results\n",
      "[('p', 'http://www.wikidata.org/prop/direct/P577'), ('pname', 'publication date'), ('o', '1994-06-15T00:00:00Z')]\n",
      "1\n"
     ]
    }
   ],
   "source": [
    "# we want to know pulication date P577 of Lion King\n",
    "queryString = \"\"\"\n",
    "SELECT DISTINCT  ?p ?pname ?o \n",
    "WHERE {\n",
    "   # bind something\n",
    "    wd:Q36479 ?p ?o.\n",
    "   # get the label\n",
    "   ?p sc:name ?pname.\n",
    "   #?o sc:name ?oname.\n",
    "   filter regex(?pname,'publication','i')\n",
    "   \n",
    "}\n",
    "LIMIT 15\n",
    "\"\"\"\n",
    "\n",
    "print(\"Results\")\n",
    "x=run_query(queryString)"
   ]
  },
  {
   "cell_type": "code",
   "execution_count": 14,
   "id": "65cd1c13-a2c3-4439-b889-8bd9ad287b50",
   "metadata": {},
   "outputs": [
    {
     "name": "stdout",
     "output_type": "stream",
     "text": [
      "Results\n",
      "[('p', 'http://www.wikidata.org/prop/direct/P569'), ('pname', 'date of birth'), ('o', '1901-12-05T00:00:00Z')]\n",
      "[('p', 'http://www.wikidata.org/prop/direct/P570'), ('pname', 'date of death'), ('o', '1966-12-15T00:00:00Z')]\n",
      "2\n"
     ]
    }
   ],
   "source": [
    "#we have found thae bdate and death date of walt desiny\n",
    "queryString = \"\"\"\n",
    "SELECT DISTINCT ?p ?pname ?o\n",
    "WHERE {\n",
    "   # bind something\n",
    "   wd:Q8704 ?p ?o.\n",
    "   # get the label\n",
    "   ?p sc:name ?pname.\n",
    "   filter regex(?pname, 'date')\n",
    "}\n",
    "LIMIT 15\n",
    "\n",
    "\"\"\"\n",
    "\n",
    "print(\"Results\")\n",
    "x=run_query(queryString)"
   ]
  },
  {
   "cell_type": "code",
   "execution_count": 15,
   "id": "0402d76e-6e66-4c96-8be5-6bf075f2b3c8",
   "metadata": {},
   "outputs": [
    {
     "name": "stdout",
     "output_type": "stream",
     "text": [
      "Results\n",
      "[('s', 'http://www.wikidata.org/entity/Q215617'), ('sname', 'Sleeping Beauty')]\n",
      "[('s', 'http://www.wikidata.org/entity/Q3236849'), ('sname', \"Let's Stick Together\")]\n",
      "[('s', 'http://www.wikidata.org/entity/Q842306'), ('sname', 'Saludos Amigos')]\n",
      "[('s', 'http://www.wikidata.org/entity/Q2090328'), ('sname', 'Trick or Treat')]\n",
      "[('s', 'http://www.wikidata.org/entity/Q640679'), ('sname', 'Rugged Bear')]\n",
      "[('s', 'http://www.wikidata.org/entity/Q2399982'), ('sname', 'Tea for Two Hundred')]\n",
      "[('s', 'http://www.wikidata.org/entity/Q3028329'), ('sname', 'Two Weeks Vacation')]\n",
      "[('s', 'http://www.wikidata.org/entity/Q3520106'), ('sname', 'The Brave Engineer')]\n",
      "[('s', 'http://www.wikidata.org/entity/Q2700743'), ('sname', 'Clock Cleaners')]\n",
      "[('s', 'http://www.wikidata.org/entity/Q3521221'), ('sname', 'The Haunted House')]\n",
      "[('s', 'http://www.wikidata.org/entity/Q3036174'), ('sname', 'Grin and Bear It')]\n",
      "[('s', 'http://www.wikidata.org/entity/Q3228508'), ('sname', 'Hold That Pose')]\n",
      "[('s', 'http://www.wikidata.org/entity/Q3178943'), ('sname', \"Donald's Dilemma\")]\n",
      "[('s', 'http://www.wikidata.org/entity/Q3036139'), ('sname', 'Beezy Bear')]\n",
      "[('s', 'http://www.wikidata.org/entity/Q3392773'), ('sname', 'Playful Pluto')]\n",
      "15\n"
     ]
    }
   ],
   "source": [
    "\n",
    "queryString = \"\"\"\n",
    "SELECT DISTINCT ?s ?sname \n",
    "WHERE {\n",
    "   # bind something\n",
    "   ?s wdt:P272 wd:Q1047410;\n",
    "      wdt:P577  ?date.  \n",
    "   # get the label\n",
    "   ?s sc:name ?sname.\n",
    "   FILTER(YEAR(?date) <= 1966 && YEAR(?date) >=1901)\n",
    "}\n",
    "LIMIT 15\n",
    "\n",
    "\"\"\"\n",
    "\n",
    "print(\"Results\")\n",
    "x=run_query(queryString)"
   ]
  },
  {
   "cell_type": "markdown",
   "id": "5e6f68b5",
   "metadata": {},
   "source": [
    "Final query for this task"
   ]
  },
  {
   "cell_type": "markdown",
   "id": "7f6146b8",
   "metadata": {},
   "source": [
    "## Task 5\n",
    "Find the name of the voice actors who participated in more than 5 films by the Walt Disney Animation Studios (the result set must be a list of triples voice actors IRI, label and #films)."
   ]
  },
  {
   "cell_type": "code",
   "execution_count": 22,
   "id": "cfa5666e",
   "metadata": {},
   "outputs": [
    {
     "name": "stdout",
     "output_type": "stream",
     "text": [
      "Results\n",
      "[('o', 'http://www.wikidata.org/entity/Q2405480'), ('oname', 'voice actor')]\n",
      "1\n"
     ]
    }
   ],
   "source": [
    "# write your queries\n",
    "#we find the voice actors as a job by P106\n",
    "\n",
    "queryString = \"\"\"\n",
    "SELECT DISTINCT ?o ?oname\n",
    "WHERE {\n",
    "   # bind something\n",
    "   ?s wdt:P106 ?o;\n",
    "      wdt:P31 wd:Q5.\n",
    "   # get the label\n",
    "   ?o sc:name ?oname.\n",
    "   filter regex(?oname,'voice actor')\n",
    "}\n",
    "limit 20\n",
    "\"\"\"\n",
    "\n",
    "print(\"Results\")\n",
    "x=run_query(queryString)"
   ]
  },
  {
   "cell_type": "markdown",
   "id": "7d51ad24",
   "metadata": {},
   "source": [
    "Final query for this task"
   ]
  },
  {
   "cell_type": "code",
   "execution_count": 11,
   "id": "96fb97f2-5c3f-4ee3-bbc8-ed5b7a7fb7c5",
   "metadata": {},
   "outputs": [
    {
     "name": "stdout",
     "output_type": "stream",
     "text": [
      "Results\n",
      "[('name', 'http://www.wikidata.org/entity/Q7670520'), ('pname', 'TJ Ramini')]\n",
      "[('name', 'http://www.wikidata.org/entity/Q335080'), ('pname', 'Makoto Shinkai')]\n",
      "[('name', 'http://www.wikidata.org/entity/Q13651397'), ('pname', 'Chan Hao Wai')]\n",
      "[('name', 'http://www.wikidata.org/entity/Q15729747'), ('pname', 'Tim Moeseritz')]\n",
      "[('name', 'http://www.wikidata.org/entity/Q15730711'), ('pname', 'Andressa Andreatto')]\n",
      "[('name', 'http://www.wikidata.org/entity/Q16260148'), ('pname', 'Jane Liao')]\n",
      "[('name', 'http://www.wikidata.org/entity/Q1689002'), ('pname', 'Jill Schulz')]\n",
      "[('name', 'http://www.wikidata.org/entity/Q5072624'), ('pname', 'Chantal Strand')]\n",
      "[('name', 'http://www.wikidata.org/entity/Q63284181'), ('pname', 'James Wootton')]\n",
      "[('name', 'http://www.wikidata.org/entity/Q87192601'), ('pname', 'Rodrigo Andreatto')]\n",
      "[('name', 'http://www.wikidata.org/entity/Q99906'), ('pname', 'Anne Helm')]\n",
      "[('name', 'http://www.wikidata.org/entity/Q15875065'), ('pname', 'Eva Burmeister')]\n",
      "[('name', 'http://www.wikidata.org/entity/Q1682910'), ('pname', 'Jannik Schümann')]\n",
      "[('name', 'http://www.wikidata.org/entity/Q22094638'), ('pname', 'Rosa Maria Velasco')]\n",
      "[('name', 'http://www.wikidata.org/entity/Q2405939'), ('pname', 'Jurjen van Loon')]\n",
      "[('name', 'http://www.wikidata.org/entity/Q713058'), ('pname', 'Hsiao Huang-Chi')]\n",
      "[('name', 'http://www.wikidata.org/entity/Q718313'), ('pname', 'Kevin Tsai')]\n",
      "[('name', 'http://www.wikidata.org/entity/Q7252982'), ('pname', 'Jerry Goo')]\n",
      "[('name', 'http://www.wikidata.org/entity/Q9338423'), ('pname', 'Gordon Siu')]\n",
      "[('name', 'http://www.wikidata.org/entity/Q16018159'), ('pname', 'Alejandro Illescas')]\n",
      "20\n"
     ]
    }
   ],
   "source": [
    "# write your queries\n",
    "# we want to know the name of people who has voive actor job Q2405480\n",
    "\n",
    "queryString = \"\"\"\n",
    "SELECT DISTINCT ?name ?pname\n",
    "WHERE {\n",
    "   # bind something\n",
    "    ?name wdt:P106 wd:Q2405480.\n",
    "    # get the label\n",
    "   ?name sc:name ?pname.\n",
    "   \n",
    "}\n",
    "limit 20\n",
    "\"\"\"\n",
    "\n",
    "print(\"Results\")\n",
    "x=run_query(queryString)"
   ]
  },
  {
   "cell_type": "code",
   "execution_count": 29,
   "id": "f2640b54",
   "metadata": {},
   "outputs": [
    {
     "name": "stdout",
     "output_type": "stream",
     "text": [
      "Results\n",
      "[('p', 'http://www.wikidata.org/prop/direct/P800'), ('pname', 'notable work')]\n",
      "1\n"
     ]
    }
   ],
   "source": [
    "# write your queries\n",
    "\n",
    "\n",
    "queryString = \"\"\"\n",
    "SELECT DISTINCT ?p ?pname \n",
    "WHERE {\n",
    "   # bind something\n",
    "    ?name wdt:P106 wd:Q2405480;\n",
    "           ?p ?film.\n",
    "    ?film wdt:P272 wd:Q1047410.\n",
    "   # get the label\n",
    "   ?p sc:name ?pname.\n",
    "   ?film sc:name ?fname.\n",
    "     \n",
    "}\n",
    "limit 20\n",
    "\"\"\"\n",
    "\n",
    "print(\"Results\")\n",
    "x=run_query(queryString)"
   ]
  },
  {
   "cell_type": "code",
   "execution_count": 43,
   "id": "92ed91e5-6b93-4503-bb2d-6f58ba0e7a1c",
   "metadata": {},
   "outputs": [
    {
     "name": "stdout",
     "output_type": "stream",
     "text": [
      "Results\n",
      "[('name', 'http://www.wikidata.org/entity/Q1364909'), ('nname', 'Bill Farmer'), ('fname', 'A Goofy Movie'), ('number_of_film', '1')]\n",
      "[('name', 'http://www.wikidata.org/entity/Q223110'), ('nname', 'John C. Reilly'), ('fname', 'Wreck-It Ralph'), ('number_of_film', '1')]\n",
      "[('name', 'http://www.wikidata.org/entity/Q739105'), ('nname', 'Jason Marsden'), ('fname', 'A Goofy Movie'), ('number_of_film', '1')]\n",
      "[('name', 'http://www.wikidata.org/entity/Q349350'), ('nname', 'Alan Tudyk'), ('fname', 'Wreck-It Ralph'), ('number_of_film', '1')]\n",
      "[('name', 'http://www.wikidata.org/entity/Q203960'), ('nname', 'James Earl Jones'), ('fname', 'The Lion King'), ('number_of_film', '1')]\n",
      "[('name', 'http://www.wikidata.org/entity/Q451833'), ('nname', 'Ernie Sabella'), ('fname', 'The Lion King'), ('number_of_film', '1')]\n",
      "[('name', 'http://www.wikidata.org/entity/Q47541531'), ('nname', 'Any Gabrielly'), ('fname', 'Ralph Breaks the Internet'), ('number_of_film', '1')]\n",
      "[('name', 'http://www.wikidata.org/entity/Q349350'), ('nname', 'Alan Tudyk'), ('fname', 'Zootopia'), ('number_of_film', '1')]\n",
      "[('name', 'http://www.wikidata.org/entity/Q349350'), ('nname', 'Alan Tudyk'), ('fname', 'Frozen'), ('number_of_film', '1')]\n",
      "[('name', 'http://www.wikidata.org/entity/Q47541531'), ('nname', 'Any Gabrielly'), ('fname', 'Moana'), ('number_of_film', '1')]\n",
      "[('name', 'http://www.wikidata.org/entity/Q229013'), ('nname', 'Sarah Silverman'), ('fname', 'Wreck-It Ralph'), ('number_of_film', '1')]\n",
      "[('name', 'http://www.wikidata.org/entity/Q491264'), ('nname', 'Nathan Lane'), ('fname', 'The Lion King'), ('number_of_film', '1')]\n",
      "[('name', 'http://www.wikidata.org/entity/Q1190319'), ('nname', 'Josh Gad'), ('fname', 'Frozen'), ('number_of_film', '1')]\n",
      "[('name', 'http://www.wikidata.org/entity/Q222818'), ('nname', 'Eartha Kitt'), ('fname', \"The Emperor's New Groove\"), ('number_of_film', '1')]\n",
      "[('name', 'http://www.wikidata.org/entity/Q157400'), ('nname', 'Idina Menzel'), ('fname', 'Frozen'), ('number_of_film', '1')]\n",
      "[('name', 'http://www.wikidata.org/entity/Q2708142'), ('nname', 'Tony Jay'), ('fname', 'The Hunchback of Notre Dame'), ('number_of_film', '1')]\n",
      "[('name', 'http://www.wikidata.org/entity/Q20974031'), ('nname', 'Paul Briggs'), ('fname', 'Frozen'), ('number_of_film', '1')]\n",
      "[('name', 'http://www.wikidata.org/entity/Q20974031'), ('nname', 'Paul Briggs'), ('fname', 'Big Hero 6'), ('number_of_film', '1')]\n",
      "[('name', 'http://www.wikidata.org/entity/Q20974031'), ('nname', 'Paul Briggs'), ('fname', 'Zootopia'), ('number_of_film', '1')]\n",
      "[('name', 'http://www.wikidata.org/entity/Q139638'), ('nname', 'Zachary Levi'), ('fname', 'Tangled'), ('number_of_film', '1')]\n",
      "20\n"
     ]
    }
   ],
   "source": [
    "# write your queries\n",
    "#this failed\n",
    "\n",
    "queryString = \"\"\"\n",
    "SELECT DISTINCT ?name ?nname ?fname (count(?film)as ?number_of_film) \n",
    "WHERE {\n",
    "   # bind something\n",
    "    ?name wdt:P106 wd:Q2405480;\n",
    "           wdt:P800 ?film.\n",
    "    ?film wdt:P272 wd:Q1047410.\n",
    "   # get the label\n",
    "   ?name sc:name ?nname.\n",
    "   ?film sc:name ?fname.\n",
    "     \n",
    "}\n",
    "#group by ?name\n",
    "Order by asc (?number_of_film)\n",
    "limit 20\n",
    "\"\"\"\n",
    "\n",
    "print(\"Results\")\n",
    "x=run_query(queryString)"
   ]
  },
  {
   "cell_type": "code",
   "execution_count": 44,
   "id": "d9eb18d2-ba6d-429a-9456-dba483e1b12f",
   "metadata": {},
   "outputs": [
    {
     "name": "stdout",
     "output_type": "stream",
     "text": [
      "Results\n",
      "[('p', 'http://www.wikidata.org/prop/direct/P3092'), ('pname', 'film crew member')]\n",
      "[('p', 'http://www.wikidata.org/prop/direct/P162'), ('pname', 'producer')]\n",
      "[('p', 'http://www.wikidata.org/prop/direct/P161'), ('pname', 'cast member')]\n",
      "[('p', 'http://www.wikidata.org/prop/direct/P2438'), ('pname', 'narrator')]\n",
      "[('p', 'http://www.wikidata.org/prop/direct/P175'), ('pname', 'performer')]\n",
      "[('p', 'http://www.wikidata.org/prop/direct/P725'), ('pname', 'voice actor')]\n",
      "[('p', 'http://www.wikidata.org/prop/direct/P3275'), ('pname', 'storyboard artist')]\n",
      "[('p', 'http://www.wikidata.org/prop/direct/P57'), ('pname', 'director')]\n",
      "[('p', 'http://www.wikidata.org/prop/direct/P6942'), ('pname', 'animator')]\n",
      "[('p', 'http://www.wikidata.org/prop/direct/P58'), ('pname', 'screenwriter')]\n",
      "[('p', 'http://www.wikidata.org/prop/direct/P2554'), ('pname', 'production designer')]\n",
      "[('p', 'http://www.wikidata.org/prop/direct/P86'), ('pname', 'composer')]\n",
      "[('p', 'http://www.wikidata.org/prop/direct/P1040'), ('pname', 'film editor')]\n",
      "[('p', 'http://www.wikidata.org/prop/direct/P170'), ('pname', 'creator')]\n",
      "14\n"
     ]
    }
   ],
   "source": [
    "# write your queries\n",
    "\n",
    "\n",
    "queryString = \"\"\"\n",
    "SELECT DISTINCT ?p ?pname\n",
    "WHERE {\n",
    "   # bind something\n",
    "   ?film wdt:P272 wd:Q1047410;\n",
    "         ?p ?name.\n",
    "   ?name wdt:P106 wd:Q2405480.\n",
    "   # get the label\n",
    "   ?name sc:name ?nname.\n",
    "   ?p sc:name ?pname.\n",
    "   ?film sc:name ?fname.\n",
    "     \n",
    "}\n",
    "#group by ?name\n",
    "Order by asc (?number_of_film)\n",
    "limit 20\n",
    "\"\"\"\n",
    "\n",
    "print(\"Results\")\n",
    "x=run_query(queryString)"
   ]
  },
  {
   "cell_type": "code",
   "execution_count": 71,
   "id": "59ecb2e0-3f6b-4a52-a564-70031248672d",
   "metadata": {},
   "outputs": [
    {
     "name": "stdout",
     "output_type": "stream",
     "text": [
      "Results\n",
      "[('actor', 'http://www.wikidata.org/entity/Q157400'), ('actor_name', 'Idina Menzel'), ('number_of_film', '5')]\n",
      "[('actor', 'http://www.wikidata.org/entity/Q178882'), ('actor_name', 'Kristen Bell'), ('number_of_film', '6')]\n",
      "[('actor', 'http://www.wikidata.org/entity/Q310292'), ('actor_name', 'Jim Cummings'), ('number_of_film', '10')]\n",
      "[('actor', 'http://www.wikidata.org/entity/Q945591'), ('actor_name', 'Pinto Colvig'), ('number_of_film', '5')]\n",
      "[('actor', 'http://www.wikidata.org/entity/Q264418'), ('actor_name', 'Russi Taylor'), ('number_of_film', '6')]\n",
      "[('actor', 'http://www.wikidata.org/entity/Q349350'), ('actor_name', 'Alan Tudyk'), ('number_of_film', '7')]\n",
      "[('actor', 'http://www.wikidata.org/entity/Q296577'), ('actor_name', 'Frank Welker'), ('number_of_film', '7')]\n",
      "[('actor', 'http://www.wikidata.org/entity/Q847124'), ('actor_name', 'Maurice LaMarche'), ('number_of_film', '5')]\n",
      "[('actor', 'http://www.wikidata.org/entity/Q847133'), ('actor_name', 'Fred Tatasciore'), ('number_of_film', '5')]\n",
      "[('actor', 'http://www.wikidata.org/entity/Q439315'), ('actor_name', 'Jemaine Clement'), ('number_of_film', '2')]\n",
      "[('actor', 'http://www.wikidata.org/entity/Q1750744'), ('actor_name', 'Kyle Hebert'), ('number_of_film', '1')]\n",
      "[('actor', 'http://www.wikidata.org/entity/Q272919'), ('actor_name', 'Kari Wahlgren'), ('number_of_film', '2')]\n",
      "[('actor', 'http://www.wikidata.org/entity/Q311068'), ('actor_name', 'Wallace Shawn'), ('number_of_film', '2')]\n",
      "[('actor', 'http://www.wikidata.org/entity/Q2544573'), ('actor_name', 'Dallas McKennon'), ('number_of_film', '1')]\n",
      "[('actor', 'http://www.wikidata.org/entity/Q343564'), ('actor_name', 'Patrick Warburton'), ('number_of_film', '2')]\n",
      "[('actor', 'http://www.wikidata.org/entity/Q40220'), ('actor_name', 'Susie Essman'), ('number_of_film', '1')]\n",
      "[('actor', 'http://www.wikidata.org/entity/Q439358'), ('actor_name', 'Brian Stepanek'), ('number_of_film', '1')]\n",
      "[('actor', 'http://www.wikidata.org/entity/Q4337'), ('actor_name', 'Rodger Bumpass'), ('number_of_film', '1')]\n",
      "[('actor', 'http://www.wikidata.org/entity/Q1138602'), ('actor_name', 'Jodi Benson'), ('number_of_film', '1')]\n",
      "[('actor', 'http://www.wikidata.org/entity/Q1264306'), ('actor_name', 'Pat Carroll'), ('number_of_film', '2')]\n",
      "20\n"
     ]
    }
   ],
   "source": [
    "# write your queries\n",
    "\n",
    "\n",
    "queryString = \"\"\"\n",
    "SELECT DISTINCT ?actor ?actor_name (count(?actor)as ?number_of_film)\n",
    "WHERE{\n",
    "?film wdt:P725 ?actor.\n",
    "filter(?actor =?name)\n",
    "#filter(?number_of_film>4)\n",
    "?actor sc:name ?actor_name.\n",
    "    {SELECT DISTINCT ?film ?fname ?name ?nname\n",
    "    WHERE {\n",
    "       # bind something\n",
    "       ?film wdt:P272 wd:Q1047410;\n",
    "             wdt:P725 ?name.\n",
    "        ?name wdt:P106 wd:Q2405480.\n",
    "       # get the label\n",
    "       ?name sc:name ?nname.\n",
    "       ?film sc:name ?fname.\n",
    "           }}\n",
    "}\n",
    "#group by ?name\n",
    "Order by desc (?number_of_film>4)\n",
    "limit 20\n",
    "\"\"\"\n",
    "\n",
    "print(\"Results\")\n",
    "x=run_query(queryString)"
   ]
  },
  {
   "cell_type": "markdown",
   "id": "03ff9570",
   "metadata": {},
   "source": [
    "## Task 6\n",
    "Identify the BGP for the film \"The Little Mermaid\""
   ]
  },
  {
   "cell_type": "code",
   "execution_count": 12,
   "id": "ad2416bc",
   "metadata": {},
   "outputs": [
    {
     "name": "stdout",
     "output_type": "stream",
     "text": [
      "Results\n",
      "[('s', 'http://www.wikidata.org/entity/Q944287'), ('sname', 'The Little Mermaid')]\n",
      "1\n"
     ]
    }
   ],
   "source": [
    "# query example\n",
    "# we find the film which walt disny is production company and with filter regex we find The Little Mermaid\n",
    "queryString = \"\"\"\n",
    "SELECT DISTINCT ?s ?sname \n",
    "WHERE {\n",
    "   # bind something\n",
    "   ?s  wdt:P272 wd:Q1047410.\n",
    "    # get the label\n",
    "   ?s sc:name ?sname.\n",
    "   filter regex(?sname,\"The Little Mermaid\")\n",
    "}\n",
    "LIMIT 50\n",
    "\"\"\"\n",
    "\n",
    "print(\"Results\")\n",
    "x=run_query(queryString)"
   ]
  },
  {
   "cell_type": "code",
   "execution_count": 102,
   "id": "199960f7-b40f-4261-831d-a8a7efef2291",
   "metadata": {},
   "outputs": [
    {
     "name": "stdout",
     "output_type": "stream",
     "text": [
      "Results\n",
      "[('sname', 'The Little Mermaid'), ('p', 'http://www.wikidata.org/prop/direct/P136'), ('pname', 'genre'), ('o', 'http://www.wikidata.org/entity/Q22812458'), ('oname', 'comedic television series')]\n",
      "[('sname', 'The Little Mermaid'), ('p', 'http://www.wikidata.org/prop/direct/P144'), ('pname', 'based on'), ('o', 'http://www.wikidata.org/entity/Q190135'), ('oname', 'The Little Mermaid')]\n",
      "[('sname', 'The Little Mermaid'), ('p', 'http://www.wikidata.org/prop/direct/P155'), ('pname', 'follows'), ('o', 'http://www.wikidata.org/entity/Q190135'), ('oname', 'The Little Mermaid')]\n",
      "[('sname', 'The Little Mermaid'), ('p', 'http://www.wikidata.org/prop/direct/P161'), ('pname', 'cast member'), ('o', 'http://www.wikidata.org/entity/Q1138602'), ('oname', 'Jodi Benson')]\n",
      "[('sname', 'The Little Mermaid'), ('p', 'http://www.wikidata.org/prop/direct/P170'), ('pname', 'creator'), ('o', 'http://www.wikidata.org/entity/Q3565642'), ('oname', 'Walt Disney Television')]\n",
      "[('sname', 'The Little Mermaid'), ('p', 'http://www.wikidata.org/prop/direct/P1811'), ('pname', 'list of episodes'), ('o', 'http://www.wikidata.org/entity/Q6599789'), ('oname', 'list of The Little Mermaid episodes')]\n",
      "[('sname', 'The Little Mermaid'), ('p', 'http://www.wikidata.org/prop/direct/P272'), ('pname', 'production company'), ('o', 'http://www.wikidata.org/entity/Q1047410'), ('oname', 'Walt Disney Animation Studios')]\n",
      "[('sname', 'The Little Mermaid'), ('p', 'http://www.wikidata.org/prop/direct/P31'), ('pname', 'instance of'), ('o', 'http://www.wikidata.org/entity/Q5398426'), ('oname', 'television series')]\n",
      "[('sname', 'The Little Mermaid'), ('p', 'http://www.wikidata.org/prop/direct/P3301'), ('pname', 'broadcast by'), ('o', 'http://www.wikidata.org/entity/Q301129'), ('oname', 'GSV TV')]\n",
      "[('sname', 'The Little Mermaid'), ('p', 'http://www.wikidata.org/prop/direct/P364'), ('pname', 'original language of film or TV show'), ('o', 'http://www.wikidata.org/entity/Q1860'), ('oname', 'English')]\n",
      "10\n"
     ]
    }
   ],
   "source": [
    "# query example\n",
    "#bgp for The Little Mermaid\n",
    "queryString = \"\"\"\n",
    "SELECT DISTINCT ?sname ?p ?pname ?o ?oname\n",
    "WHERE {\n",
    "   # bind something\n",
    "   ?s  wdt:P272 wd:Q1047410;\n",
    "        ?p   ?o.\n",
    "   # get the label\n",
    "   ?s sc:name ?sname.\n",
    "   ?p sc:name ?pname.\n",
    "   ?o sc:name ?oname.\n",
    "   filter regex(?sname,\"The Little Mermaid\")\n",
    "}\n",
    "LIMIT 10\n",
    "\"\"\"\n",
    "\n",
    "print(\"Results\")\n",
    "x=run_query(queryString)"
   ]
  },
  {
   "cell_type": "markdown",
   "id": "b0a4aadd",
   "metadata": {},
   "source": [
    "Final query for this task"
   ]
  },
  {
   "cell_type": "markdown",
   "id": "f3e4eadb",
   "metadata": {},
   "source": [
    "## Task 7\n",
    "Find who worked on both \"The Little Mermaid\" and \"The Lion King\" (the result set must be a list of couples worker IRI and label)."
   ]
  },
  {
   "cell_type": "code",
   "execution_count": 105,
   "id": "36774913-5098-470d-93bd-8818f5a0a8ce",
   "metadata": {},
   "outputs": [
    {
     "name": "stdout",
     "output_type": "stream",
     "text": [
      "Results\n",
      "[('worker', 'http://www.wikidata.org/entity/Q310292'), ('worker_name', 'Jim Cummings')]\n",
      "1\n"
     ]
    }
   ],
   "source": [
    "# query example\n",
    "\n",
    "queryString = \"\"\"\n",
    "SELECT DISTINCT  ?worker ?worker_name \n",
    "WHERE{\n",
    "wd:Q944287 ?p ?worker.\n",
    "?worker wdt:P31 wd:Q5.\n",
    "filter(?worker=?worker_of_lionking)\n",
    "\n",
    "?worker sc:name ?worker_name.\n",
    "    {SELECT DISTINCT   ?worker_of_lionking \n",
    "    WHERE {\n",
    "       # bind something\n",
    "       wd:Q36479 ?p ?worker_of_lionking.\n",
    "       ?worker_of_lionking wdt:P31 wd:Q5.\n",
    "       # get the label\n",
    "       }\n",
    "    }\n",
    "#?film sc:name ?film_name.\n",
    "#filter regex(?film_name,\"Mermaid\")\n",
    "}\n",
    "group by (?film_name)\n",
    "LIMIT 10\n",
    "\"\"\"\n",
    "\n",
    "print(\"Results\")\n",
    "x=run_query(queryString)"
   ]
  },
  {
   "cell_type": "markdown",
   "id": "92b36ce5",
   "metadata": {},
   "source": [
    "Final query for this task"
   ]
  },
  {
   "cell_type": "markdown",
   "id": "92a9ae5e",
   "metadata": {},
   "source": [
    "## Task 8\n",
    "Identify the BGP for Academy Awards"
   ]
  },
  {
   "cell_type": "code",
   "execution_count": 39,
   "id": "b0ba5b1a",
   "metadata": {},
   "outputs": [
    {
     "name": "stdout",
     "output_type": "stream",
     "text": [
      "Results\n",
      "[('o', 'http://www.wikidata.org/entity/Q19020'), ('oname', 'Academy Awards')]\n",
      "[('o', 'http://www.wikidata.org/entity/Q2004417'), ('oname', 'Indian Television Academy Awards')]\n",
      "[('o', 'http://www.wikidata.org/entity/Q57246152'), ('oname', '93rd Academy Awards')]\n",
      "[('o', 'http://www.wikidata.org/entity/Q18385710'), ('oname', 'Zulu African Film Academy Awards')]\n",
      "4\n"
     ]
    }
   ],
   "source": [
    "# write your queries\n",
    "#as we have found nominated for is P1411 \n",
    "\n",
    "queryString = \"\"\"\n",
    "SELECT DISTINCT  ?o ?oname\n",
    "WHERE {\n",
    "   # bind something\n",
    "   ?s  wdt:P1411 ?o.\n",
    "   # get the label\n",
    "   ?o sc:name ?oname.\n",
    "   filter regex(?oname, 'Academy Awards')\n",
    "}\n",
    "\n",
    "\"\"\"\n",
    "\n",
    "print(\"Results\")\n",
    "x=run_query(queryString)"
   ]
  },
  {
   "cell_type": "markdown",
   "id": "8731f0eb",
   "metadata": {},
   "source": [
    "Final query for this task"
   ]
  },
  {
   "cell_type": "code",
   "execution_count": 107,
   "id": "2250960a",
   "metadata": {},
   "outputs": [
    {
     "name": "stdout",
     "output_type": "stream",
     "text": [
      "Results\n",
      "[('p', 'http://www.wikidata.org/prop/direct/P527'), ('pname', 'has part'), ('o', 'http://www.wikidata.org/entity/Q102427'), ('oname', 'Academy Award for Best Picture')]\n",
      "[('p', 'http://www.wikidata.org/prop/direct/P527'), ('pname', 'has part'), ('o', 'http://www.wikidata.org/entity/Q103360'), ('oname', 'Academy Award for Best Director')]\n",
      "[('p', 'http://www.wikidata.org/prop/direct/P527'), ('pname', 'has part'), ('o', 'http://www.wikidata.org/entity/Q103618'), ('oname', 'Academy Award for Best Actress')]\n",
      "[('p', 'http://www.wikidata.org/prop/direct/P527'), ('pname', 'has part'), ('o', 'http://www.wikidata.org/entity/Q106301'), ('oname', 'Academy Award for Best Supporting Actress')]\n",
      "[('p', 'http://www.wikidata.org/prop/direct/P527'), ('pname', 'has part'), ('o', 'http://www.wikidata.org/entity/Q107258'), ('oname', 'Academy Award for Best Writing, Adapted Screenplay')]\n",
      "[('p', 'http://www.wikidata.org/prop/direct/P527'), ('pname', 'has part'), ('o', 'http://www.wikidata.org/entity/Q112243'), ('oname', 'Academy Award for Best Original Song')]\n",
      "[('p', 'http://www.wikidata.org/prop/direct/P17'), ('pname', 'country'), ('o', 'http://www.wikidata.org/entity/Q30'), ('oname', 'United States of America')]\n",
      "[('p', 'http://www.wikidata.org/prop/direct/P527'), ('pname', 'has part'), ('o', 'http://www.wikidata.org/entity/Q41417'), ('oname', 'Academy Award for Best Writing, Original Screenplay')]\n",
      "[('p', 'http://www.wikidata.org/prop/direct/P527'), ('pname', 'has part'), ('o', 'http://www.wikidata.org/entity/Q103916'), ('oname', 'Academy Award for Best Actor')]\n",
      "[('p', 'http://www.wikidata.org/prop/direct/P527'), ('pname', 'has part'), ('o', 'http://www.wikidata.org/entity/Q105304'), ('oname', 'Academy Award for Best Foreign Language Film')]\n",
      "10\n"
     ]
    }
   ],
   "source": [
    "# write your final query\n",
    "#I find bgp for award\n",
    "\n",
    "queryString = \"\"\"\n",
    "SELECT DISTINCT ?p ?pname ?o ?oname\n",
    "WHERE {\n",
    "   # bind something\n",
    "   wd:Q19020 ?p ?o.\n",
    "   # get the label\n",
    "   ?p sc:name ?pname.\n",
    "   ?o sc:name ?oname.\n",
    "}\n",
    "LIMIT 10\n",
    "\"\"\"\n",
    "\n",
    "print(\"Results\")\n",
    "x=run_query(queryString)"
   ]
  },
  {
   "cell_type": "markdown",
   "id": "8be93495",
   "metadata": {},
   "source": [
    "## Task 9\n",
    "For each films created by the Walt Disney Animation Studios return the number of nomination for an Academy Awards. Return only films with at least one nomination. (the result set must be triples of films IRI, label and #nomination)."
   ]
  },
  {
   "cell_type": "code",
   "execution_count": 110,
   "id": "f8bc9145-66f4-4aac-ac69-505782eb4f9e",
   "metadata": {},
   "outputs": [
    {
     "name": "stdout",
     "output_type": "stream",
     "text": [
      "Results\n",
      "[('p', 'http://www.wikidata.org/prop/direct/P1411'), ('pname', 'nominated for'), ('oname', 'Academy Award for Best Original Score')]\n",
      "1\n"
     ]
    }
   ],
   "source": [
    "# query example\n",
    "#i find nominated for\n",
    "queryString = \"\"\"\n",
    "SELECT DISTINCT ?p ?pname ?oname\n",
    "WHERE {\n",
    "   # bind something\n",
    "   wd:Q36479 ?p ?o .\n",
    "   # get the label\n",
    "   ?p sc:name ?pname.\n",
    "   ?o sc:name ?oname.\n",
    "   filter regex(?pname, 'nominated')\n",
    "\n",
    "}\n",
    "LIMIT 50\n",
    "\"\"\"\n",
    "\n",
    "print(\"Results\")\n",
    "x=run_query(queryString)"
   ]
  },
  {
   "cell_type": "code",
   "execution_count": 16,
   "id": "cb3d1d12-d5dc-4d3e-a9c2-c63aecf617a3",
   "metadata": {},
   "outputs": [
    {
     "name": "stdout",
     "output_type": "stream",
     "text": [
      "Results\n",
      "[('film', 'http://www.wikidata.org/entity/Q379873'), ('film_name', 'Who Framed Roger Rabbit'), ('number_of_award', '6')]\n",
      "[('film', 'http://www.wikidata.org/entity/Q179673'), ('film_name', 'Beauty and the Beast'), ('number_of_award', '3')]\n",
      "[('film', 'http://www.wikidata.org/entity/Q842306'), ('film_name', 'Saludos Amigos'), ('number_of_award', '2')]\n",
      "[('film', 'http://www.wikidata.org/entity/Q13091172'), ('film_name', 'Big Hero 6'), ('number_of_award', '1')]\n",
      "[('film', 'http://www.wikidata.org/entity/Q36479'), ('film_name', 'The Lion King'), ('number_of_award', '1')]\n",
      "[('film', 'http://www.wikidata.org/entity/Q213787'), ('film_name', 'The Hunchback of Notre Dame'), ('number_of_award', '1')]\n",
      "[('film', 'http://www.wikidata.org/entity/Q12124484'), ('film_name', 'Get a Horse!'), ('number_of_award', '1')]\n",
      "[('film', 'http://www.wikidata.org/entity/Q1440760'), ('film_name', 'Runaway Brain'), ('number_of_award', '1')]\n",
      "[('film', 'http://www.wikidata.org/entity/Q3259450'), ('film_name', 'Lorenzo'), ('number_of_award', '1')]\n",
      "[('film', 'http://www.wikidata.org/entity/Q215617'), ('film_name', 'Sleeping Beauty'), ('number_of_award', '1')]\n",
      "10\n"
     ]
    }
   ],
   "source": [
    "# walt Q1047410\n",
    "#once I considered wdt:P527 but it was not approprate predicate so I used P31 \n",
    "queryString = \"\"\"\n",
    "SELECT DISTINCT ?film ?film_name  (count(?award)as ?number_of_award)\n",
    "WHERE {\n",
    "?film wdt:P1411 ?award.\n",
    "?award wdt:P31 wd:Q19020.\n",
    "#wd:Q19020 wdt:P527 ?award.\n",
    "filter(?film = ?waltdisney_films)\n",
    "?film sc:name ?film_name.\n",
    "?award sc:name ?aname.\n",
    "    {SELECT DISTINCT ?waltdisney_films ?wname\n",
    "    WHERE {\n",
    "    # bind something\n",
    "    ?waltdisney_films wdt:P272 wd:Q1047410.\n",
    "     # get the label\n",
    "    ?waltdisney_films sc:name ?wname.\n",
    "    }}\n",
    "    }\n",
    "#group by()\n",
    "Order by desc(?number_of_award)\n",
    "LIMIT 10\n",
    "\"\"\"\n",
    "\n",
    "print(\"Results\")\n",
    "x=run_query(queryString)"
   ]
  },
  {
   "cell_type": "markdown",
   "id": "b693b1d2",
   "metadata": {},
   "source": [
    "Final query for this task"
   ]
  },
  {
   "cell_type": "code",
   "execution_count": null,
   "id": "67282f61",
   "metadata": {},
   "outputs": [],
   "source": [
    "# write your final query"
   ]
  }
 ],
 "metadata": {
  "kernelspec": {
   "display_name": "Python 3",
   "language": "python",
   "name": "python3"
  },
  "language_info": {
   "codemirror_mode": {
    "name": "ipython",
    "version": 3
   },
   "file_extension": ".py",
   "mimetype": "text/x-python",
   "name": "python",
   "nbconvert_exporter": "python",
   "pygments_lexer": "ipython3",
   "version": "3.7.10"
  }
 },
 "nbformat": 4,
 "nbformat_minor": 5
}
