{
 "cells": [
  {
   "cell_type": "markdown",
   "id": "780a25e2",
   "metadata": {},
   "source": [
    "# General instructions\n",
    "\n",
    "The goal of the project is to materialize a set of **exploratory workloads** over a real-world, large-scale,  open-domain KG: [WikiData](https://www.wikidata.org/wiki/Wikidata:Main_Page)\n",
    "\n",
    "An exploratory workload  is composed by a set of queries, where each query is related to the information obtained previously.\n",
    "\n",
    "An exploratory workload starts with a usually vague, open ended question, and does not assume the person issuing the workload has a clear understanding of the data contained in the target database or its structure.\n",
    "\n",
    "Remeber that:\n",
    "\n",
    "1. All the queries must run in the python notebook\n",
    "2. You can use classes and properties only if you find them via a SPARQL query that must be present in the notebook\n",
    "3. You do not delete useless queries. Keep everything that is synthatically valid \n",
    "\n",
    "```\n",
    "?p <http://schema.org/name> ?name .\n",
    "```\n",
    "    \n",
    "    is the BGP returning a human-readable name of a property or a class in Wikidata."
   ]
  },
  {
   "cell_type": "code",
   "execution_count": 1,
   "id": "ff60cc39",
   "metadata": {},
   "outputs": [],
   "source": [
    "## SETUP used later\n",
    "\n",
    "from SPARQLWrapper import SPARQLWrapper, JSON\n",
    "\n",
    "\n",
    "prefixString = \"\"\"\n",
    "##-d68b77ae1d-##\n",
    "PREFIX wd: <http://www.wikidata.org/entity/> \n",
    "PREFIX wdt: <http://www.wikidata.org/prop/direct/> \n",
    "PREFIX sc: <http://schema.org/>\n",
    "\"\"\"\n",
    "\n",
    "# select and construct queries\n",
    "def run_query(queryString,verbose = True):\n",
    "    to_run = prefixString + \"\\n\" + queryString\n",
    "\n",
    "    sparql = SPARQLWrapper(\"http://a256-gc1-03.srv.aau.dk:5820/sparql\")\n",
    "    sparql.setTimeout(300)\n",
    "    sparql.setReturnFormat(JSON)\n",
    "    sparql.setQuery(to_run)\n",
    "\n",
    "    try :\n",
    "        results = sparql.query()\n",
    "        json_results = results.convert()\n",
    "        if len(json_results['results']['bindings'])==0:\n",
    "            print(\"Empty\")\n",
    "            return []\n",
    "        array = []\n",
    "        for bindings in json_results['results']['bindings']:\n",
    "            app =  [ (var, value['value'])  for var, value in bindings.items() ] \n",
    "            if verbose:\n",
    "                print( app)\n",
    "            array.append(app)\n",
    "        if verbose:\n",
    "            print(len(array))\n",
    "        return array\n",
    "\n",
    "    except Exception as e :\n",
    "        print(\"The operation failed\", e)\n",
    "    \n",
    "# ASk queries\n",
    "def run_ask_query(queryString):\n",
    "    to_run = prefixString + \"\\n\" + queryString\n",
    "\n",
    "    sparql = SPARQLWrapper(\"http://a256-gc1-03.srv.aau.dk:5820/sparql\")\n",
    "    sparql.setTimeout(300)\n",
    "    sparql.setReturnFormat(JSON)\n",
    "    sparql.setQuery(to_run)\n",
    "\n",
    "    try :\n",
    "        return sparql.query().convert()\n",
    "\n",
    "    except Exception as e :\n",
    "        print(\"The operation failed\", e)"
   ]
  },
  {
   "cell_type": "markdown",
   "id": "c9d4c9fe",
   "metadata": {},
   "source": [
    "# History Workflow Series (\"Euro explorative search\") \n",
    "\n",
    "Consider the following exploratory information need:\n",
    "\n",
    "> investigate the Euro currency, which are the countries that currently use the Euro and which were their currencies before the Euro. Take a look also to other currencies and find which are the most used."
   ]
  },
  {
   "cell_type": "markdown",
   "id": "afa46515",
   "metadata": {
    "tags": []
   },
   "source": [
    "## Useful URIs for the current workflow\n",
    "The following are given:\n",
    "\n",
    "| IRI           | Description   | Role      |\n",
    "| -----------   | -----------   |-----------|\n",
    "| `wdt:P1647`   | subproperty   | predicate |\n",
    "| `wdt:P31`     | instance of   | predicate |\n",
    "| `wdt:P106`    | occupation    | predicate | \n",
    "| `wdt:P279`    | subclass      | predicate |\n",
    "| `wdt:P27`     | nationality   | predicate |\n",
    "| `wd:Q5`| Human       | node |\n",
    "| `wd:Q38`| Italy   | node |\n"
   ]
  },
  {
   "cell_type": "markdown",
   "id": "9c1efaf6",
   "metadata": {},
   "source": [
    "\n",
    "\n",
    "\n",
    "Also consider\n",
    "\n",
    "```\n",
    "wd:Q38 ?p ?obj .\n",
    "```\n",
    "\n",
    "is the BGP to retrieve all **properties of Italy**\n",
    "\n",
    "Please consider that when you return a resource, you should return the IRI and the label of the resource. In particular, when the task require you to identify a BGP the result set must always be a list of couples IRI - label.\n",
    "\n",
    "\n",
    "\n",
    "The workload should:\n",
    "\n",
    "\n",
    "1. Identify the BGP for currency\n",
    "\n",
    "2. Return the countries which currently use Euro\n",
    "\n",
    "3. Return the countries belonging to the European Union, with a currency different from the Euro (return also their currency).\n",
    "\n",
    "4. For each country that now uses Euro return which was the currencies used before\n",
    "\n",
    "5. Return all types of dollar in the world (US Dollar, Australian Dollar, ecc...)\n",
    "\n",
    "6. Return the currencies used in at least 2 different countries (return also the number of countries using each currency).\n",
    "\n",
    "7. Consider the currencies obtained in task 6, for each currency return the number of people using that currency (hint: consider the maximum popolation available for each country)."
   ]
  },
  {
   "cell_type": "markdown",
   "id": "53038544",
   "metadata": {
    "tags": []
   },
   "source": [
    "## Task 1\n",
    "Identify the BGP for currency"
   ]
  },
  {
   "cell_type": "code",
   "execution_count": 3,
   "id": "8e01226b",
   "metadata": {
    "tags": []
   },
   "outputs": [
    {
     "name": "stdout",
     "output_type": "stream",
     "text": [
      "Results\n",
      "[('p', 'http://www.wikidata.org/prop/direct/P463'), ('name', 'member of'), ('value', 'European Bank for Reconstruction and Development')]\n",
      "[('p', 'http://www.wikidata.org/prop/direct/P2936'), ('name', 'language used'), ('value', 'Sicilian')]\n",
      "[('p', 'http://www.wikidata.org/prop/direct/P2184'), ('name', 'history of topic'), ('value', 'history of Italy')]\n",
      "[('p', 'http://www.wikidata.org/prop/direct/P163'), ('name', 'flag'), ('value', 'flag of Italy')]\n",
      "[('p', 'http://www.wikidata.org/prop/direct/P150'), ('name', 'contains administrative territorial entity'), ('value', 'Tuscany')]\n",
      "[('p', 'http://www.wikidata.org/prop/direct/P2936'), ('name', 'language used'), ('value', 'Neapolitan')]\n",
      "[('p', 'http://www.wikidata.org/prop/direct/P463'), ('name', 'member of'), ('value', 'Inter-American Development Bank')]\n",
      "[('p', 'http://www.wikidata.org/prop/direct/P150'), ('name', 'contains administrative territorial entity'), ('value', 'Trentino-South Tyrol')]\n",
      "[('p', 'http://www.wikidata.org/prop/direct/P2936'), ('name', 'language used'), ('value', 'Friulian')]\n",
      "[('p', 'http://www.wikidata.org/prop/direct/P463'), ('name', 'member of'), ('value', 'International Chamber of Commerce')]\n",
      "[('p', 'http://www.wikidata.org/prop/direct/P1792'), ('name', 'category of associated people'), ('value', 'Category:Italian people')]\n",
      "[('p', 'http://www.wikidata.org/prop/direct/P530'), ('name', 'diplomatic relation'), ('value', 'Libya')]\n",
      "[('p', 'http://www.wikidata.org/prop/direct/P463'), ('name', 'member of'), ('value', 'Multilateral Investment Guarantee Agency')]\n",
      "[('p', 'http://www.wikidata.org/prop/direct/P530'), ('name', 'diplomatic relation'), ('value', 'Somalia')]\n",
      "[('p', 'http://www.wikidata.org/prop/direct/P2852'), ('name', 'emergency telephone number'), ('value', '112')]\n",
      "[('p', 'http://www.wikidata.org/prop/direct/P463'), ('name', 'member of'), ('value', 'United Nations')]\n",
      "[('p', 'http://www.wikidata.org/prop/direct/P463'), ('name', 'member of'), ('value', 'Missile Technology Control Regime')]\n",
      "[('p', 'http://www.wikidata.org/prop/direct/P2853'), ('name', 'electrical plug type'), ('value', 'Schuko')]\n",
      "[('p', 'http://www.wikidata.org/prop/direct/P530'), ('name', 'diplomatic relation'), ('value', 'Kenya')]\n",
      "[('p', 'http://www.wikidata.org/prop/direct/P530'), ('name', 'diplomatic relation'), ('value', 'Ethiopia')]\n",
      "[('p', 'http://www.wikidata.org/prop/direct/P150'), ('name', 'contains administrative territorial entity'), ('value', 'Lombardy')]\n",
      "[('p', 'http://www.wikidata.org/prop/direct/P150'), ('name', 'contains administrative territorial entity'), ('value', 'Piedmont')]\n",
      "[('p', 'http://www.wikidata.org/prop/direct/P150'), ('name', 'contains administrative territorial entity'), ('value', 'Aosta Valley')]\n",
      "[('p', 'http://www.wikidata.org/prop/direct/P463'), ('name', 'member of'), ('value', 'Latin Union')]\n",
      "[('p', 'http://www.wikidata.org/prop/direct/P150'), ('name', 'contains administrative territorial entity'), ('value', 'Veneto')]\n",
      "[('p', 'http://www.wikidata.org/prop/direct/P530'), ('name', 'diplomatic relation'), ('value', 'Kosovo')]\n",
      "[('p', 'http://www.wikidata.org/prop/direct/P463'), ('name', 'member of'), ('value', 'International Civil Aviation Organization')]\n",
      "[('p', 'http://www.wikidata.org/prop/direct/P150'), ('name', 'contains administrative territorial entity'), ('value', 'Emilia-Romagna')]\n",
      "[('p', 'http://www.wikidata.org/prop/direct/P5658'), ('name', 'railway traffic side'), ('value', 'left')]\n",
      "[('p', 'http://www.wikidata.org/prop/direct/P463'), ('name', 'member of'), ('value', 'European Payments Union')]\n",
      "[('p', 'http://www.wikidata.org/prop/direct/P2853'), ('name', 'electrical plug type'), ('value', 'Europlug')]\n",
      "[('p', 'http://www.wikidata.org/prop/direct/P206'), ('name', 'located in or next to body of water'), ('value', 'Adriatic Sea')]\n",
      "[('p', 'http://www.wikidata.org/prop/direct/P463'), ('name', 'member of'), ('value', 'European Air Transport Command')]\n",
      "[('p', 'http://www.wikidata.org/prop/direct/P47'), ('name', 'shares border with'), ('value', 'France')]\n",
      "[('p', 'http://www.wikidata.org/prop/direct/P530'), ('name', 'diplomatic relation'), ('value', 'France')]\n",
      "[('p', 'http://www.wikidata.org/prop/direct/P530'), ('name', 'diplomatic relation'), ('value', 'United Kingdom')]\n",
      "[('p', 'http://www.wikidata.org/prop/direct/P150'), ('name', 'contains administrative territorial entity'), ('value', 'Basilicata')]\n",
      "[('p', 'http://www.wikidata.org/prop/direct/P1622'), ('name', 'driving side'), ('value', 'right')]\n",
      "[('p', 'http://www.wikidata.org/prop/direct/P530'), ('name', 'diplomatic relation'), ('value', \"People's Republic of China\")]\n",
      "[('p', 'http://www.wikidata.org/prop/direct/P463'), ('name', 'member of'), ('value', 'Nuclear Suppliers Group')]\n",
      "[('p', 'http://www.wikidata.org/prop/direct/P2936'), ('name', 'language used'), ('value', 'French')]\n",
      "[('p', 'http://www.wikidata.org/prop/direct/P463'), ('name', 'member of'), ('value', 'European Southern Observatory')]\n",
      "[('p', 'http://www.wikidata.org/prop/direct/P2853'), ('name', 'electrical plug type'), ('value', 'Type L')]\n",
      "[('p', 'http://www.wikidata.org/prop/direct/P530'), ('name', 'diplomatic relation'), ('value', 'Brazil')]\n",
      "[('p', 'http://www.wikidata.org/prop/direct/P530'), ('name', 'diplomatic relation'), ('value', 'Russia')]\n",
      "[('p', 'http://www.wikidata.org/prop/direct/P530'), ('name', 'diplomatic relation'), ('value', 'Holy See')]\n",
      "[('p', 'http://www.wikidata.org/prop/direct/P530'), ('name', 'diplomatic relation'), ('value', 'Canada')]\n",
      "[('p', 'http://www.wikidata.org/prop/direct/P463'), ('name', 'member of'), ('value', 'European Coal and Steel Community')]\n",
      "[('p', 'http://www.wikidata.org/prop/direct/P530'), ('name', 'diplomatic relation'), ('value', 'Japan')]\n",
      "[('p', 'http://www.wikidata.org/prop/direct/P463'), ('name', 'member of'), ('value', 'World Meteorological Organization')]\n",
      "50\n"
     ]
    }
   ],
   "source": [
    "# query example\n",
    "queryString = \"\"\"\n",
    "SELECT DISTINCT ?p ?name ?value\n",
    "WHERE {\n",
    "   # bind something\n",
    "   wd:Q38 ?p ?obj .\n",
    "   # get the label\n",
    "   ?p sc:name ?name .\n",
    "   ?obj sc:name ?value .\n",
    "}\n",
    "# add limit 200 to show currency\n",
    "LIMIT 50\n",
    "\"\"\"\n",
    "\n",
    "print(\"Results\")\n",
    "x=run_query(queryString)"
   ]
  },
  {
   "cell_type": "markdown",
   "id": "d6f83abd-5dc6-40a4-ae3e-d62cd622dd32",
   "metadata": {},
   "source": [
    "wdt:P38 is the currency IRI"
   ]
  },
  {
   "cell_type": "code",
   "execution_count": 4,
   "id": "26173b60-57dc-409e-b186-9639f519ad18",
   "metadata": {},
   "outputs": [
    {
     "name": "stdout",
     "output_type": "stream",
     "text": [
      "Results\n",
      "[('p', 'http://www.wikidata.org/entity/Q491559'), ('name', 'First Republic of South Korea')]\n",
      "[('p', 'http://www.wikidata.org/entity/Q5148320'), ('name', 'Colonial Fiji')]\n",
      "[('p', 'http://www.wikidata.org/entity/Q1649306'), ('name', 'Nyasaland')]\n",
      "[('p', 'http://www.wikidata.org/entity/Q488521'), ('name', 'Fourth Republic of South Korea')]\n",
      "[('p', 'http://www.wikidata.org/entity/Q699446'), ('name', 'Dutch Formosa')]\n",
      "[('p', 'http://www.wikidata.org/entity/Q17623840'), ('name', 'CdZ-Gebiet Elsaß')]\n",
      "[('p', 'http://www.wikidata.org/entity/Q783684'), ('name', 'Provisional Government of the French Republic')]\n",
      "[('p', 'http://www.wikidata.org/entity/Q20982493'), ('name', 'Central Regions State')]\n",
      "[('p', 'http://www.wikidata.org/entity/Q21816225'), ('name', 'Protectorate of Bahrain')]\n",
      "[('p', 'http://www.wikidata.org/entity/Q868942'), ('name', 'Republic of Kuwait')]\n",
      "[('p', 'http://www.wikidata.org/entity/Q2499687'), ('name', 'Yatton')]\n",
      "[('p', 'http://www.wikidata.org/entity/Q158236'), ('name', 'Bophuthatswana')]\n",
      "[('p', 'http://www.wikidata.org/entity/Q30890672'), ('name', 'Kingdom of Sicily')]\n",
      "[('p', 'http://www.wikidata.org/entity/Q153080'), ('name', 'East Francia')]\n",
      "[('p', 'http://www.wikidata.org/entity/Q156418'), ('name', 'Kingdom of Hawaiʻi')]\n",
      "[('p', 'http://www.wikidata.org/entity/Q180573'), ('name', 'South Vietnam')]\n",
      "[('p', 'http://www.wikidata.org/entity/Q80012'), ('name', 'Pine Bluff')]\n",
      "[('p', 'http://www.wikidata.org/entity/Q1183407'), ('name', 'Taifa of Algeciras')]\n",
      "[('p', 'http://www.wikidata.org/entity/Q16644'), ('name', 'Northern Mariana Islands')]\n",
      "[('p', 'http://www.wikidata.org/entity/Q2334526'), ('name', 'Province of North Carolina')]\n",
      "20\n"
     ]
    }
   ],
   "source": [
    "queryString = \"\"\" \n",
    "SELECT DISTINCT ?p ?name\n",
    "WHERE {\n",
    "   # bind something\n",
    "   ?p wdt:P38 ?obj .  \n",
    "   # get the label\n",
    "   ?p sc:name ?name .\n",
    "}\n",
    "LIMIT 20\n",
    "\"\"\"\n",
    "\n",
    "print(\"Results\")\n",
    "x=run_query(queryString)"
   ]
  },
  {
   "cell_type": "code",
   "execution_count": 5,
   "id": "7b9af9ec-70e5-4fbd-8bbb-28918db15780",
   "metadata": {},
   "outputs": [
    {
     "name": "stdout",
     "output_type": "stream",
     "text": [
      "Results\n",
      "[('p', 'http://www.wikidata.org/entity/Q3624078'), ('name', 'sovereign state')]\n",
      "[('p', 'http://www.wikidata.org/entity/Q6256'), ('name', 'country')]\n",
      "2\n"
     ]
    }
   ],
   "source": [
    "queryString = \"\"\" \n",
    "SELECT ?p ?name \n",
    "WHERE {\n",
    "   # bind something\n",
    "   wd:Q38 wdt:P31 ?p . #Italy is intance of\n",
    "   # get the label\n",
    "   ?p sc:name ?name .\n",
    "}\n",
    "# GROUP BY ?inst ?iname\n",
    "LIMIT 20\n",
    "\"\"\"\n",
    "\n",
    "print(\"Results\")\n",
    "x=run_query(queryString)"
   ]
  },
  {
   "cell_type": "code",
   "execution_count": 6,
   "id": "0ae1cd40-8396-4a15-a5c9-19c5c9e51466",
   "metadata": {},
   "outputs": [
    {
     "name": "stdout",
     "output_type": "stream",
     "text": [
      "Results\n",
      "Empty\n"
     ]
    }
   ],
   "source": [
    "queryString = \"\"\" \n",
    "SELECT ?p ?name\n",
    "WHERE {\n",
    "   # bind something\n",
    "   ?p wdt:P1647  ?obj .\n",
    "   ?obj ?p wdt:P38 .\n",
    "   # get the label\n",
    "   ?p sc:name ?name .\n",
    "}\n",
    "LIMIT 20\n",
    "\"\"\"\n",
    "print(\"Results\")\n",
    "x=run_query(queryString)"
   ]
  },
  {
   "cell_type": "code",
   "execution_count": 7,
   "id": "4bf5add3-ed9e-4b15-b430-3881a8d71849",
   "metadata": {},
   "outputs": [
    {
     "name": "stdout",
     "output_type": "stream",
     "text": [
      "Results\n",
      "Empty\n"
     ]
    }
   ],
   "source": [
    "queryString = \"\"\" \n",
    "SELECT ?p ?name\n",
    "WHERE {\n",
    "   # bind something\n",
    "   wdt:P38 wdt:P27 ?p .\n",
    "   # get the label\n",
    "   ?p sc:name ?name .\n",
    "}\n",
    "LIMIT 20\n",
    "\"\"\" \n",
    "print(\"Results\")\n",
    "x=run_query(queryString)     "
   ]
  },
  {
   "cell_type": "code",
   "execution_count": 8,
   "id": "fad0723b-ccb8-4ba5-881c-500b90488f3c",
   "metadata": {},
   "outputs": [
    {
     "name": "stdout",
     "output_type": "stream",
     "text": [
      "Results\n",
      "[('p', 'http://www.wikidata.org/entity/Q4916'), ('name', 'euro')]\n",
      "1\n"
     ]
    }
   ],
   "source": [
    "queryString = \"\"\" \n",
    "SELECT ?p ?name\n",
    "WHERE {\n",
    "   wd:Q38 wdt:P38 ?p .\n",
    "   # get the label\n",
    "   ?p sc:name ?name .\n",
    "}\n",
    "LIMIT 20\n",
    "\"\"\"\n",
    "print(\"Results\")\n",
    "x=run_query(queryString)"
   ]
  },
  {
   "cell_type": "code",
   "execution_count": 9,
   "id": "788df3be-590e-4b78-9f0e-a2d04325ff25",
   "metadata": {},
   "outputs": [
    {
     "name": "stdout",
     "output_type": "stream",
     "text": [
      "Results\n",
      "[('p', 'http://www.wikidata.org/entity/Q28795800'), ('name', 'decimal currency')]\n",
      "[('p', 'http://www.wikidata.org/entity/Q8142'), ('name', 'currency')]\n",
      "2\n"
     ]
    }
   ],
   "source": [
    "queryString = \"\"\" \n",
    "SELECT ?p ?name\n",
    "WHERE {\n",
    "   wd:Q4916 wdt:P31 ?p .\n",
    "   # get the label\n",
    "   ?p sc:name ?name .\n",
    "}\n",
    "LIMIT 20\n",
    "\"\"\"\n",
    "print(\"Results\")\n",
    "x=run_query(queryString)"
   ]
  },
  {
   "cell_type": "code",
   "execution_count": 4,
   "id": "bb9d63b6-688a-4734-8f02-fbb1f2681558",
   "metadata": {},
   "outputs": [
    {
     "name": "stdout",
     "output_type": "stream",
     "text": [
      "Results\n",
      "[('p', 'http://www.wikidata.org/prop/direct/P1051'), ('name', 'PSH ID')]\n",
      "[('p', 'http://www.wikidata.org/prop/direct/P1245'), ('name', 'OmegaWiki Defined Meaning')]\n",
      "[('p', 'http://www.wikidata.org/prop/direct/P1282'), ('name', 'OpenStreetMap tag or key')]\n",
      "[('p', 'http://www.wikidata.org/prop/direct/P1343'), ('name', 'described by source')]\n",
      "[('p', 'http://www.wikidata.org/prop/direct/P1417'), ('name', 'Encyclopædia Britannica Online ID')]\n",
      "[('p', 'http://www.wikidata.org/prop/direct/P1424'), ('name', \"topic's main template\")]\n",
      "[('p', 'http://www.wikidata.org/prop/direct/P1482'), ('name', 'Stack Exchange tag')]\n",
      "[('p', 'http://www.wikidata.org/prop/direct/P1687'), ('name', 'Wikidata property')]\n",
      "[('p', 'http://www.wikidata.org/prop/direct/P18'), ('name', 'image')]\n",
      "[('p', 'http://www.wikidata.org/prop/direct/P1889'), ('name', 'different from')]\n",
      "[('p', 'http://www.wikidata.org/prop/direct/P1963'), ('name', 'properties for this type')]\n",
      "[('p', 'http://www.wikidata.org/prop/direct/P2184'), ('name', 'history of topic')]\n",
      "[('p', 'http://www.wikidata.org/prop/direct/P227'), ('name', 'GND ID')]\n",
      "[('p', 'http://www.wikidata.org/prop/direct/P2347'), ('name', 'YSO ID')]\n",
      "[('p', 'http://www.wikidata.org/prop/direct/P2354'), ('name', 'has list')]\n",
      "[('p', 'http://www.wikidata.org/prop/direct/P244'), ('name', 'Library of Congress authority ID')]\n",
      "[('p', 'http://www.wikidata.org/prop/direct/P2581'), ('name', 'BabelNet ID')]\n",
      "[('p', 'http://www.wikidata.org/prop/direct/P279'), ('name', 'subclass of')]\n",
      "[('p', 'http://www.wikidata.org/prop/direct/P3106'), ('name', 'Guardian topic ID')]\n",
      "[('p', 'http://www.wikidata.org/prop/direct/P3417'), ('name', 'Quora topic ID')]\n",
      "20\n"
     ]
    }
   ],
   "source": [
    "# query example\n",
    "queryString = \"\"\"\n",
    "SELECT DISTINCT ?p ?name\n",
    "WHERE {\n",
    "   # bind something\n",
    "   wd:Q8142 ?p ?obj .\n",
    "   # get the label\n",
    "   ?p sc:name ?name .\n",
    "}\n",
    "\n",
    "LIMIT 20\n",
    "\"\"\"\n",
    "\n",
    "print(\"Results\")\n",
    "x=run_query(queryString)"
   ]
  },
  {
   "cell_type": "code",
   "execution_count": 11,
   "id": "894fe631-f90e-41db-8de6-611b5a8f92ea",
   "metadata": {},
   "outputs": [
    {
     "name": "stdout",
     "output_type": "stream",
     "text": [
      "Results\n",
      "Empty\n"
     ]
    }
   ],
   "source": [
    "# query example\n",
    "queryString = \"\"\"\n",
    "SELECT DISTINCT ?p ?name\n",
    "WHERE {\n",
    "   # bind something\n",
    "   wd:Q6256 wdt:P38 ?p .\n",
    "   # get the label\n",
    "   ?p sc:name ?name .\n",
    "}\n",
    "\n",
    "LIMIT 20\n",
    "\"\"\"\n",
    "\n",
    "print(\"Results\")\n",
    "x=run_query(queryString)"
   ]
  },
  {
   "cell_type": "code",
   "execution_count": 12,
   "id": "6a7f9ab3-df42-46aa-96df-db95a2c64659",
   "metadata": {},
   "outputs": [
    {
     "name": "stdout",
     "output_type": "stream",
     "text": [
      "Results\n",
      "[('p', 'http://www.wikidata.org/entity/Q142'), ('name', 'France')]\n",
      "[('p', 'http://www.wikidata.org/entity/Q211'), ('name', 'Latvia')]\n",
      "[('p', 'http://www.wikidata.org/entity/Q214'), ('name', 'Slovakia')]\n",
      "[('p', 'http://www.wikidata.org/entity/Q228'), ('name', 'Andorra')]\n",
      "[('p', 'http://www.wikidata.org/entity/Q229'), ('name', 'Cyprus')]\n",
      "[('p', 'http://www.wikidata.org/entity/Q233'), ('name', 'Malta')]\n",
      "[('p', 'http://www.wikidata.org/entity/Q236'), ('name', 'Montenegro')]\n",
      "[('p', 'http://www.wikidata.org/entity/Q27'), ('name', 'Ireland')]\n",
      "[('p', 'http://www.wikidata.org/entity/Q29999'), ('name', 'Kingdom of the Netherlands')]\n",
      "[('p', 'http://www.wikidata.org/entity/Q33'), ('name', 'Finland')]\n",
      "[('p', 'http://www.wikidata.org/entity/Q38'), ('name', 'Italy')]\n",
      "[('p', 'http://www.wikidata.org/entity/Q40'), ('name', 'Austria')]\n",
      "[('p', 'http://www.wikidata.org/entity/Q41'), ('name', 'Greece')]\n",
      "[('p', 'http://www.wikidata.org/entity/Q45'), ('name', 'Portugal')]\n",
      "[('p', 'http://www.wikidata.org/entity/Q55'), ('name', 'Netherlands')]\n",
      "15\n"
     ]
    }
   ],
   "source": [
    "queryString = \"\"\"\n",
    "SELECT DISTINCT ?p ?name \n",
    "WHERE \n",
    "{\n",
    "  ?p wdt:P31 wd:Q6256 .      # all countries   \n",
    "  ?p wdt:P38 wd:Q4916 .   # have currency euro   \n",
    "  ?p sc:name ?name .\n",
    "}\n",
    "LIMIT 200\n",
    "\"\"\"\n",
    "\n",
    "print(\"Results\")\n",
    "x=run_query(queryString)"
   ]
  },
  {
   "cell_type": "code",
   "execution_count": 13,
   "id": "c582d37f",
   "metadata": {},
   "outputs": [
    {
     "name": "stdout",
     "output_type": "stream",
     "text": [
      "Results\n",
      "[('p', 'http://www.wikidata.org/prop/direct/P1001'), ('name', 'applies to jurisdiction')]\n",
      "[('p', 'http://www.wikidata.org/prop/direct/P1245'), ('name', 'OmegaWiki Defined Meaning')]\n",
      "[('p', 'http://www.wikidata.org/prop/direct/P1282'), ('name', 'OpenStreetMap tag or key')]\n",
      "[('p', 'http://www.wikidata.org/prop/direct/P1365'), ('name', 'replaces')]\n",
      "[('p', 'http://www.wikidata.org/prop/direct/P1365'), ('name', 'replaces')]\n",
      "[('p', 'http://www.wikidata.org/prop/direct/P1365'), ('name', 'replaces')]\n",
      "[('p', 'http://www.wikidata.org/prop/direct/P1365'), ('name', 'replaces')]\n",
      "[('p', 'http://www.wikidata.org/prop/direct/P1365'), ('name', 'replaces')]\n",
      "[('p', 'http://www.wikidata.org/prop/direct/P1365'), ('name', 'replaces')]\n",
      "[('p', 'http://www.wikidata.org/prop/direct/P1365'), ('name', 'replaces')]\n",
      "[('p', 'http://www.wikidata.org/prop/direct/P1365'), ('name', 'replaces')]\n",
      "[('p', 'http://www.wikidata.org/prop/direct/P1365'), ('name', 'replaces')]\n",
      "[('p', 'http://www.wikidata.org/prop/direct/P1365'), ('name', 'replaces')]\n",
      "[('p', 'http://www.wikidata.org/prop/direct/P1365'), ('name', 'replaces')]\n",
      "[('p', 'http://www.wikidata.org/prop/direct/P1365'), ('name', 'replaces')]\n",
      "[('p', 'http://www.wikidata.org/prop/direct/P1365'), ('name', 'replaces')]\n",
      "[('p', 'http://www.wikidata.org/prop/direct/P1365'), ('name', 'replaces')]\n",
      "[('p', 'http://www.wikidata.org/prop/direct/P1365'), ('name', 'replaces')]\n",
      "[('p', 'http://www.wikidata.org/prop/direct/P1365'), ('name', 'replaces')]\n",
      "[('p', 'http://www.wikidata.org/prop/direct/P1365'), ('name', 'replaces')]\n",
      "20\n"
     ]
    }
   ],
   "source": [
    "queryString = \"\"\" \n",
    "SELECT ?p ?name\n",
    "WHERE {\n",
    "   wd:Q4916 ?p ?obj .\n",
    "   # get the label\n",
    "   ?p sc:name ?name .\n",
    "}\n",
    "LIMIT 20\n",
    "\"\"\"\n",
    "print(\"Results\")\n",
    "x=run_query(queryString)"
   ]
  },
  {
   "cell_type": "code",
   "execution_count": 4,
   "id": "d52e1e32-51bb-46b5-a5ba-e3e939be0b81",
   "metadata": {},
   "outputs": [
    {
     "name": "stdout",
     "output_type": "stream",
     "text": [
      "Results\n",
      "Empty\n"
     ]
    }
   ],
   "source": [
    "queryString = \"\"\" \n",
    "SELECT ?p ?name\n",
    "WHERE {\n",
    "   wd:Q8142 wdt:P31 ?p .\n",
    "   # get the label\n",
    "   ?p sc:name ?name .\n",
    "}\n",
    "LIMIT 20\n",
    "\"\"\"\n",
    "print(\"Results\")\n",
    "x=run_query(queryString)"
   ]
  },
  {
   "cell_type": "code",
   "execution_count": 5,
   "id": "31b2d1c6-a14e-4be8-9f7b-dd43edd16798",
   "metadata": {},
   "outputs": [
    {
     "name": "stdout",
     "output_type": "stream",
     "text": [
      "Results\n",
      "[('p', 'http://www.wikidata.org/entity/Q28795800'), ('name', 'decimal currency')]\n",
      "[('p', 'http://www.wikidata.org/entity/Q8142'), ('name', 'currency')]\n",
      "2\n"
     ]
    }
   ],
   "source": [
    "queryString = \"\"\" \n",
    "SELECT ?p ?name\n",
    "WHERE {\n",
    "   wd:Q4916 wdt:P31 ?p .\n",
    "   # get the label\n",
    "   ?p sc:name ?name .\n",
    "}\n",
    "LIMIT 20\n",
    "\"\"\"\n",
    "print(\"Results\")\n",
    "x=run_query(queryString)"
   ]
  },
  {
   "cell_type": "markdown",
   "id": "64db0ee9",
   "metadata": {},
   "source": [
    "Final query for this task"
   ]
  },
  {
   "cell_type": "code",
   "execution_count": 2,
   "id": "15d70712-91f4-4903-80b7-e8a2eb0106bd",
   "metadata": {},
   "outputs": [
    {
     "name": "stdout",
     "output_type": "stream",
     "text": [
      "Results\n",
      "[('p', 'http://www.wikidata.org/prop/direct/P1051'), ('name', 'PSH ID')]\n",
      "[('p', 'http://www.wikidata.org/prop/direct/P1245'), ('name', 'OmegaWiki Defined Meaning')]\n",
      "[('p', 'http://www.wikidata.org/prop/direct/P1282'), ('name', 'OpenStreetMap tag or key')]\n",
      "[('p', 'http://www.wikidata.org/prop/direct/P1343'), ('name', 'described by source')]\n",
      "[('p', 'http://www.wikidata.org/prop/direct/P1417'), ('name', 'Encyclopædia Britannica Online ID')]\n",
      "[('p', 'http://www.wikidata.org/prop/direct/P1424'), ('name', \"topic's main template\")]\n",
      "[('p', 'http://www.wikidata.org/prop/direct/P1482'), ('name', 'Stack Exchange tag')]\n",
      "[('p', 'http://www.wikidata.org/prop/direct/P1687'), ('name', 'Wikidata property')]\n",
      "[('p', 'http://www.wikidata.org/prop/direct/P18'), ('name', 'image')]\n",
      "[('p', 'http://www.wikidata.org/prop/direct/P1889'), ('name', 'different from')]\n",
      "[('p', 'http://www.wikidata.org/prop/direct/P1963'), ('name', 'properties for this type')]\n",
      "[('p', 'http://www.wikidata.org/prop/direct/P2184'), ('name', 'history of topic')]\n",
      "[('p', 'http://www.wikidata.org/prop/direct/P227'), ('name', 'GND ID')]\n",
      "[('p', 'http://www.wikidata.org/prop/direct/P2347'), ('name', 'YSO ID')]\n",
      "[('p', 'http://www.wikidata.org/prop/direct/P2354'), ('name', 'has list')]\n",
      "[('p', 'http://www.wikidata.org/prop/direct/P244'), ('name', 'Library of Congress authority ID')]\n",
      "[('p', 'http://www.wikidata.org/prop/direct/P2581'), ('name', 'BabelNet ID')]\n",
      "[('p', 'http://www.wikidata.org/prop/direct/P279'), ('name', 'subclass of')]\n",
      "[('p', 'http://www.wikidata.org/prop/direct/P3106'), ('name', 'Guardian topic ID')]\n",
      "[('p', 'http://www.wikidata.org/prop/direct/P3417'), ('name', 'Quora topic ID')]\n",
      "[('p', 'http://www.wikidata.org/prop/direct/P3479'), ('name', 'Omni topic ID')]\n",
      "[('p', 'http://www.wikidata.org/prop/direct/P3612'), ('name', 'Le Monde diplomatique subject ID')]\n",
      "[('p', 'http://www.wikidata.org/prop/direct/P373'), ('name', 'Commons category')]\n",
      "[('p', 'http://www.wikidata.org/prop/direct/P3827'), ('name', 'JSTOR topic ID')]\n",
      "[('p', 'http://www.wikidata.org/prop/direct/P3916'), ('name', 'UNESCO Thesaurus ID')]\n",
      "[('p', 'http://www.wikidata.org/prop/direct/P4254'), ('name', 'Bengali Banglapedia ID')]\n",
      "[('p', 'http://www.wikidata.org/prop/direct/P4342'), ('name', 'Store norske leksikon ID')]\n",
      "[('p', 'http://www.wikidata.org/prop/direct/P4527'), ('name', 'UK Parliament thesaurus ID')]\n",
      "[('p', 'http://www.wikidata.org/prop/direct/P4613'), ('name', 'Encyclopedia of Modern Ukraine ID')]\n",
      "[('p', 'http://www.wikidata.org/prop/direct/P5008'), ('name', 'on focus list of Wikimedia project')]\n",
      "[('p', 'http://www.wikidata.org/prop/direct/P508'), ('name', 'BNCF Thesaurus ID')]\n",
      "[('p', 'http://www.wikidata.org/prop/direct/P5198'), ('name', 'ASC Leiden Thesaurus ID')]\n",
      "[('p', 'http://www.wikidata.org/prop/direct/P5247'), ('name', 'Giant Bomb ID')]\n",
      "[('p', 'http://www.wikidata.org/prop/direct/P5250'), ('name', 'IAB code')]\n",
      "[('p', 'http://www.wikidata.org/prop/direct/P5357'), ('name', 'The Encyclopedia of Science Fiction ID')]\n",
      "[('p', 'http://www.wikidata.org/prop/direct/P5748'), ('name', 'Basisklassifikation')]\n",
      "[('p', 'http://www.wikidata.org/prop/direct/P5869'), ('name', 'model item')]\n",
      "[('p', 'http://www.wikidata.org/prop/direct/P6366'), ('name', 'Microsoft Academic ID')]\n",
      "[('p', 'http://www.wikidata.org/prop/direct/P646'), ('name', 'Freebase ID')]\n",
      "[('p', 'http://www.wikidata.org/prop/direct/P6573'), ('name', 'Klexikon article ID')]\n",
      "[('p', 'http://www.wikidata.org/prop/direct/P7844'), ('name', 'Joconde object type ID')]\n",
      "[('p', 'http://www.wikidata.org/prop/direct/P8248'), ('name', 'Colon Classification')]\n",
      "[('p', 'http://www.wikidata.org/prop/direct/P8408'), ('name', 'KBpedia ID')]\n",
      "[('p', 'http://www.wikidata.org/prop/direct/P910'), ('name', \"topic's main category\")]\n",
      "[('p', 'http://www.wikidata.org/prop/direct/P973'), ('name', 'described at URL')]\n",
      "[('p', 'http://www.wikidata.org/prop/direct/P9475'), ('name', 'Encyclopedia of Korean Culture ID')]\n",
      "46\n"
     ]
    }
   ],
   "source": [
    "# write your final query\n",
    "queryString = \"\"\"\n",
    "SELECT DISTINCT ?p ?name\n",
    "WHERE {\n",
    "   # bind something\n",
    "   wd:Q8142 ?p ?obj .\n",
    "   # get the label\n",
    "   ?p sc:name ?name .\n",
    "}\n",
    "# add limit 200 to show currency\n",
    "LIMIT 50\n",
    "\"\"\"\n",
    "\n",
    "print(\"Results\")\n",
    "x=run_query(queryString)"
   ]
  },
  {
   "cell_type": "markdown",
   "id": "1be2d1d0",
   "metadata": {},
   "source": [
    "## Task 2\n",
    "Return the countries which currently use Euro"
   ]
  },
  {
   "cell_type": "code",
   "execution_count": 9,
   "id": "a1ad8c27",
   "metadata": {},
   "outputs": [
    {
     "name": "stdout",
     "output_type": "stream",
     "text": [
      "Results\n",
      "[('s', 'http://www.wikidata.org/entity/Q142'), ('name', 'France')]\n",
      "[('s', 'http://www.wikidata.org/entity/Q211'), ('name', 'Latvia')]\n",
      "[('s', 'http://www.wikidata.org/entity/Q214'), ('name', 'Slovakia')]\n",
      "[('s', 'http://www.wikidata.org/entity/Q228'), ('name', 'Andorra')]\n",
      "[('s', 'http://www.wikidata.org/entity/Q229'), ('name', 'Cyprus')]\n",
      "[('s', 'http://www.wikidata.org/entity/Q233'), ('name', 'Malta')]\n",
      "[('s', 'http://www.wikidata.org/entity/Q236'), ('name', 'Montenegro')]\n",
      "[('s', 'http://www.wikidata.org/entity/Q27'), ('name', 'Ireland')]\n",
      "[('s', 'http://www.wikidata.org/entity/Q29999'), ('name', 'Kingdom of the Netherlands')]\n",
      "[('s', 'http://www.wikidata.org/entity/Q33'), ('name', 'Finland')]\n",
      "[('s', 'http://www.wikidata.org/entity/Q38'), ('name', 'Italy')]\n",
      "[('s', 'http://www.wikidata.org/entity/Q40'), ('name', 'Austria')]\n",
      "[('s', 'http://www.wikidata.org/entity/Q41'), ('name', 'Greece')]\n",
      "[('s', 'http://www.wikidata.org/entity/Q45'), ('name', 'Portugal')]\n",
      "[('s', 'http://www.wikidata.org/entity/Q55'), ('name', 'Netherlands')]\n",
      "15\n"
     ]
    }
   ],
   "source": [
    "queryString = \"\"\"\n",
    "SELECT DISTINCT ?s ?name \n",
    "WHERE \n",
    "{\n",
    "  ?s wdt:P31 wd:Q6256 .      # all countries   \n",
    "  ?s wdt:P38 wd:Q4916 .      # have currency euro \n",
    "  ?s sc:name ?name .\n",
    "}\n",
    "LIMIT 20\n",
    "\"\"\"\n",
    "\n",
    "print(\"Results\")\n",
    "x=run_query(queryString)"
   ]
  },
  {
   "cell_type": "markdown",
   "id": "98be9fdf",
   "metadata": {},
   "source": [
    "Final query for this task"
   ]
  },
  {
   "cell_type": "code",
   "execution_count": 10,
   "id": "9ad2a6ae",
   "metadata": {},
   "outputs": [
    {
     "name": "stdout",
     "output_type": "stream",
     "text": [
      "Results\n",
      "[('s', 'http://www.wikidata.org/entity/Q142'), ('name', 'France')]\n",
      "[('s', 'http://www.wikidata.org/entity/Q211'), ('name', 'Latvia')]\n",
      "[('s', 'http://www.wikidata.org/entity/Q214'), ('name', 'Slovakia')]\n",
      "[('s', 'http://www.wikidata.org/entity/Q228'), ('name', 'Andorra')]\n",
      "[('s', 'http://www.wikidata.org/entity/Q229'), ('name', 'Cyprus')]\n",
      "[('s', 'http://www.wikidata.org/entity/Q233'), ('name', 'Malta')]\n",
      "[('s', 'http://www.wikidata.org/entity/Q236'), ('name', 'Montenegro')]\n",
      "[('s', 'http://www.wikidata.org/entity/Q27'), ('name', 'Ireland')]\n",
      "[('s', 'http://www.wikidata.org/entity/Q29999'), ('name', 'Kingdom of the Netherlands')]\n",
      "[('s', 'http://www.wikidata.org/entity/Q33'), ('name', 'Finland')]\n",
      "[('s', 'http://www.wikidata.org/entity/Q38'), ('name', 'Italy')]\n",
      "[('s', 'http://www.wikidata.org/entity/Q40'), ('name', 'Austria')]\n",
      "[('s', 'http://www.wikidata.org/entity/Q41'), ('name', 'Greece')]\n",
      "[('s', 'http://www.wikidata.org/entity/Q45'), ('name', 'Portugal')]\n",
      "[('s', 'http://www.wikidata.org/entity/Q55'), ('name', 'Netherlands')]\n",
      "15\n"
     ]
    }
   ],
   "source": [
    "# write your final query\n",
    "queryString = \"\"\"\n",
    "SELECT DISTINCT ?s ?name \n",
    "WHERE \n",
    "{\n",
    "  ?s wdt:P31 wd:Q6256 .      # all countries   \n",
    "  ?s wdt:P38 wd:Q4916 .      # have currency euro \n",
    "  ?s sc:name ?name .\n",
    "}\n",
    "LIMIT 20\n",
    "\"\"\"\n",
    "\n",
    "print(\"Results\")\n",
    "x=run_query(queryString)"
   ]
  },
  {
   "cell_type": "markdown",
   "id": "c6a599d6",
   "metadata": {
    "tags": []
   },
   "source": [
    "## Task 3\n",
    "Return the countries belonging to the European Union, with a currency different from the Euro (return also their currency)."
   ]
  },
  {
   "cell_type": "code",
   "execution_count": 18,
   "id": "6faa4ebf",
   "metadata": {},
   "outputs": [
    {
     "name": "stdout",
     "output_type": "stream",
     "text": [
      "Results\n",
      "[('p', 'http://www.wikidata.org/entity/Q488981'), ('name', 'European Bank for Reconstruction and Development')]\n",
      "[('p', 'http://www.wikidata.org/entity/Q1153087'), ('name', 'Inter-American Development Bank')]\n",
      "[('p', 'http://www.wikidata.org/entity/Q848633'), ('name', 'International Chamber of Commerce')]\n",
      "[('p', 'http://www.wikidata.org/entity/Q1043527'), ('name', 'Multilateral Investment Guarantee Agency')]\n",
      "[('p', 'http://www.wikidata.org/entity/Q1065'), ('name', 'United Nations')]\n",
      "[('p', 'http://www.wikidata.org/entity/Q1072120'), ('name', 'Missile Technology Control Regime')]\n",
      "[('p', 'http://www.wikidata.org/entity/Q123209'), ('name', 'Latin Union')]\n",
      "[('p', 'http://www.wikidata.org/entity/Q125761'), ('name', 'International Civil Aviation Organization')]\n",
      "[('p', 'http://www.wikidata.org/entity/Q1377612'), ('name', 'European Payments Union')]\n",
      "[('p', 'http://www.wikidata.org/entity/Q141720'), ('name', 'European Air Transport Command')]\n",
      "[('p', 'http://www.wikidata.org/entity/Q1480793'), ('name', 'Nuclear Suppliers Group')]\n",
      "[('p', 'http://www.wikidata.org/entity/Q151991'), ('name', 'European Southern Observatory')]\n",
      "[('p', 'http://www.wikidata.org/entity/Q161549'), ('name', 'European Coal and Steel Community')]\n",
      "[('p', 'http://www.wikidata.org/entity/Q170424'), ('name', 'World Meteorological Organization')]\n",
      "[('p', 'http://www.wikidata.org/entity/Q17495'), ('name', 'Universal Postal Union')]\n",
      "[('p', 'http://www.wikidata.org/entity/Q177773'), ('name', 'World Intellectual Property Organization')]\n",
      "[('p', 'http://www.wikidata.org/entity/Q188822'), ('name', 'Asian Development Bank')]\n",
      "[('p', 'http://www.wikidata.org/entity/Q189946'), ('name', 'Western European Union')]\n",
      "[('p', 'http://www.wikidata.org/entity/Q191384'), ('name', 'International Bank for Reconstruction and Development')]\n",
      "[('p', 'http://www.wikidata.org/entity/Q192177'), ('name', 'Union for the Mediterranean')]\n",
      "[('p', 'http://www.wikidata.org/entity/Q1928989'), ('name', 'Treaty on Open Skies')]\n",
      "[('p', 'http://www.wikidata.org/entity/Q1969730'), ('name', 'Schengen Area')]\n",
      "[('p', 'http://www.wikidata.org/entity/Q19771'), ('name', 'G20')]\n",
      "[('p', 'http://www.wikidata.org/entity/Q201054'), ('name', 'International Maritime Organization')]\n",
      "[('p', 'http://www.wikidata.org/entity/Q233611'), ('name', 'International Hydrographic Organization')]\n",
      "[('p', 'http://www.wikidata.org/entity/Q340195'), ('name', 'African Development Bank')]\n",
      "[('p', 'http://www.wikidata.org/entity/Q37143'), ('name', 'G8')]\n",
      "[('p', 'http://www.wikidata.org/entity/Q376150'), ('name', 'International Telecommunication Union')]\n",
      "[('p', 'http://www.wikidata.org/entity/Q3772571'), ('name', 'Caribbean Development Bank')]\n",
      "[('p', 'http://www.wikidata.org/entity/Q386120'), ('name', 'United Nations Industrial Development Organization')]\n",
      "[('p', 'http://www.wikidata.org/entity/Q3866537'), ('name', 'Movement Coordination Centre Europe')]\n",
      "[('p', 'http://www.wikidata.org/entity/Q41550'), ('name', 'Organisation for Economic Cooperation and Development')]\n",
      "[('p', 'http://www.wikidata.org/entity/Q41984'), ('name', 'International Atomic Energy Agency')]\n",
      "[('p', 'http://www.wikidata.org/entity/Q42262'), ('name', 'European Space Agency')]\n",
      "[('p', 'http://www.wikidata.org/entity/Q42944'), ('name', 'CERN')]\n",
      "[('p', 'http://www.wikidata.org/entity/Q45177'), ('name', 'Visa Waiver Program')]\n",
      "[('p', 'http://www.wikidata.org/entity/Q458'), ('name', 'European Union')]\n",
      "[('p', 'http://www.wikidata.org/entity/Q47488'), ('name', 'International Criminal Court')]\n",
      "[('p', 'http://www.wikidata.org/entity/Q521227'), ('name', 'Organisation for Joint Armament Cooperation')]\n",
      "[('p', 'http://www.wikidata.org/entity/Q54129'), ('name', 'International Labour Organization')]\n",
      "40\n"
     ]
    }
   ],
   "source": [
    "# write your queries\n",
    "# Italy is member of\n",
    "queryString = \"\"\" \n",
    "SELECT ?p ?name\n",
    "WHERE {\n",
    "   wd:Q38 wdt:P463 ?p .\n",
    "   # get the label\n",
    "   ?p sc:name ?name .\n",
    "}\n",
    "LIMIT 40\n",
    "\"\"\"\n",
    "print(\"Results\")\n",
    "x=run_query(queryString)"
   ]
  },
  {
   "cell_type": "code",
   "execution_count": 19,
   "id": "cc034755-d949-4371-9091-1fc468bd65ff",
   "metadata": {},
   "outputs": [
    {
     "name": "stdout",
     "output_type": "stream",
     "text": [
      "Results\n",
      "[('p', 'http://www.wikidata.org/entity/Q36'), ('name', 'Poland'), ('currency', 'http://www.wikidata.org/entity/Q123213'), ('currencyLabel', 'złoty')]\n",
      "[('p', 'http://www.wikidata.org/entity/Q219'), ('name', 'Bulgaria'), ('currency', 'http://www.wikidata.org/entity/Q172540'), ('currencyLabel', 'Bulgarian lev')]\n",
      "[('p', 'http://www.wikidata.org/entity/Q28'), ('name', 'Hungary'), ('currency', 'http://www.wikidata.org/entity/Q47190'), ('currencyLabel', 'forint')]\n",
      "[('p', 'http://www.wikidata.org/entity/Q218'), ('name', 'Romania'), ('currency', 'http://www.wikidata.org/entity/Q131645'), ('currencyLabel', 'Romanian leu')]\n",
      "[('p', 'http://www.wikidata.org/entity/Q145'), ('name', 'United Kingdom'), ('currency', 'http://www.wikidata.org/entity/Q25224'), ('currencyLabel', 'pound sterling')]\n",
      "[('p', 'http://www.wikidata.org/entity/Q224'), ('name', 'Croatia'), ('currency', 'http://www.wikidata.org/entity/Q26360'), ('currencyLabel', 'Croatian kuna')]\n",
      "[('p', 'http://www.wikidata.org/entity/Q213'), ('name', 'Czech Republic'), ('currency', 'http://www.wikidata.org/entity/Q131016'), ('currencyLabel', 'Czech koruna')]\n",
      "[('p', 'http://www.wikidata.org/entity/Q35'), ('name', 'Denmark'), ('currency', 'http://www.wikidata.org/entity/Q25417'), ('currencyLabel', 'Danish krone')]\n",
      "[('p', 'http://www.wikidata.org/entity/Q34'), ('name', 'Sweden'), ('currency', 'http://www.wikidata.org/entity/Q122922'), ('currencyLabel', 'Swedish krona')]\n",
      "9\n"
     ]
    }
   ],
   "source": [
    "# write your queries\n",
    "#Countries in Europian Union that dont have euro as currency\n",
    "queryString = \"\"\" \n",
    "SELECT ?p ?name ?currency ?currencyLabel\n",
    "WHERE {\n",
    "  ?p wdt:P31 wd:Q6256 . # Must be of a country\n",
    "  ?p wdt:P463 wd:Q458 . # Must be member of European Union \n",
    "  FILTER not exists {\n",
    "    ?p wdt:P38 wd:Q4916 . # exclude countries that have euro as currency \n",
    "  }\n",
    "  ?p wdt:P38 ?currency .\n",
    "  ?p sc:name ?name .\n",
    "  ?currency sc:name ?currencyLabel .\n",
    "}\n",
    "LIMIT 40\n",
    "\"\"\"\n",
    "print(\"Results\")\n",
    "x=run_query(queryString)"
   ]
  },
  {
   "cell_type": "markdown",
   "id": "dc749bbb",
   "metadata": {},
   "source": [
    "Final query for this task"
   ]
  },
  {
   "cell_type": "code",
   "execution_count": 20,
   "id": "a046cadd",
   "metadata": {},
   "outputs": [
    {
     "name": "stdout",
     "output_type": "stream",
     "text": [
      "Results\n",
      "[('p', 'http://www.wikidata.org/entity/Q36'), ('name', 'Poland'), ('currencyLabel', 'złoty')]\n",
      "[('p', 'http://www.wikidata.org/entity/Q219'), ('name', 'Bulgaria'), ('currencyLabel', 'Bulgarian lev')]\n",
      "[('p', 'http://www.wikidata.org/entity/Q28'), ('name', 'Hungary'), ('currencyLabel', 'forint')]\n",
      "[('p', 'http://www.wikidata.org/entity/Q218'), ('name', 'Romania'), ('currencyLabel', 'Romanian leu')]\n",
      "[('p', 'http://www.wikidata.org/entity/Q145'), ('name', 'United Kingdom'), ('currencyLabel', 'pound sterling')]\n",
      "[('p', 'http://www.wikidata.org/entity/Q224'), ('name', 'Croatia'), ('currencyLabel', 'Croatian kuna')]\n",
      "[('p', 'http://www.wikidata.org/entity/Q213'), ('name', 'Czech Republic'), ('currencyLabel', 'Czech koruna')]\n",
      "[('p', 'http://www.wikidata.org/entity/Q35'), ('name', 'Denmark'), ('currencyLabel', 'Danish krone')]\n",
      "[('p', 'http://www.wikidata.org/entity/Q34'), ('name', 'Sweden'), ('currencyLabel', 'Swedish krona')]\n",
      "9\n"
     ]
    }
   ],
   "source": [
    "#Countries in Europian Union that dont have euro as currency\n",
    "queryString = \"\"\" \n",
    "SELECT ?p ?name ?currencyLabel\n",
    "WHERE {\n",
    "  ?p wdt:P31 wd:Q6256 . # Must be of a country\n",
    "  ?p wdt:P463 wd:Q458 . # Must be member of European Union \n",
    "  FILTER not exists {\n",
    "    ?p wdt:P38 wd:Q4916 . # exclude countries that have euro as currency \n",
    "  }\n",
    "  ?p wdt:P38 ?currency .\n",
    "  ?p sc:name ?name .\n",
    "  ?currency sc:name ?currencyLabel .\n",
    "}\n",
    "LIMIT 40\n",
    "\"\"\"\n",
    "print(\"Results\")\n",
    "x=run_query(queryString)"
   ]
  },
  {
   "cell_type": "markdown",
   "id": "825c7b9c",
   "metadata": {},
   "source": [
    "## Task 4\n",
    "For each country that now uses Euro return which was the currencies used before"
   ]
  },
  {
   "cell_type": "code",
   "execution_count": 4,
   "id": "548e1e78",
   "metadata": {},
   "outputs": [
    {
     "name": "stdout",
     "output_type": "stream",
     "text": [
      "Results\n",
      "[('currency', 'http://www.wikidata.org/entity/Q4916'), ('currencyLabel', 'euro')]\n",
      "1\n"
     ]
    }
   ],
   "source": [
    "# write your queries\n",
    "queryString = \"\"\" \n",
    "SELECT ?currency ?currencyLabel\n",
    "WHERE {\n",
    "  wd:Q142 wdt:P38 ?currency .\n",
    "  ?currency sc:name ?currencyLabel .\n",
    "}\n",
    "LIMIT 40\n",
    "\"\"\"\n",
    "print(\"Results\")\n",
    "x=run_query(queryString)"
   ]
  },
  {
   "cell_type": "markdown",
   "id": "1f741921",
   "metadata": {},
   "source": [
    "Final query for this task"
   ]
  },
  {
   "cell_type": "code",
   "execution_count": null,
   "id": "39eadbb3",
   "metadata": {},
   "outputs": [],
   "source": [
    "# write your final query"
   ]
  },
  {
   "cell_type": "markdown",
   "id": "93874707",
   "metadata": {},
   "source": [
    "## Task 5\n",
    "Return all types of dollar in the world (US Dollar, Australian Dollar, ecc...)"
   ]
  },
  {
   "cell_type": "code",
   "execution_count": 21,
   "id": "178810f1-a74d-408e-aa9d-418baa10125a",
   "metadata": {},
   "outputs": [
    {
     "name": "stdout",
     "output_type": "stream",
     "text": [
      "Results\n",
      "[('country', 'http://www.wikidata.org/entity/Q1011'), ('countryName', 'Cape Verde'), ('currency', 'http://www.wikidata.org/entity/Q4591'), ('currencyLabel', 'Cape Verdean escudo')]\n",
      "[('country', 'http://www.wikidata.org/entity/Q36'), ('countryName', 'Poland'), ('currency', 'http://www.wikidata.org/entity/Q123213'), ('currencyLabel', 'złoty')]\n",
      "[('country', 'http://www.wikidata.org/entity/Q79'), ('countryName', 'Egypt'), ('currency', 'http://www.wikidata.org/entity/Q199462'), ('currencyLabel', 'Egyptian pound')]\n",
      "[('country', 'http://www.wikidata.org/entity/Q833'), ('countryName', 'Malaysia'), ('currency', 'http://www.wikidata.org/entity/Q163712'), ('currencyLabel', 'Malaysian ringgit')]\n",
      "[('country', 'http://www.wikidata.org/entity/Q846'), ('countryName', 'Qatar'), ('currency', 'http://www.wikidata.org/entity/Q206386'), ('currencyLabel', 'Qatari riyal')]\n",
      "[('country', 'http://www.wikidata.org/entity/Q766'), ('countryName', 'Jamaica'), ('currency', 'http://www.wikidata.org/entity/Q209792'), ('currencyLabel', 'Jamaican dollar')]\n",
      "[('country', 'http://www.wikidata.org/entity/Q1006'), ('countryName', 'Guinea'), ('currency', 'http://www.wikidata.org/entity/Q213311'), ('currencyLabel', 'Guinean franc')]\n",
      "[('country', 'http://www.wikidata.org/entity/Q974'), ('countryName', 'Democratic Republic of the Congo'), ('currency', 'http://www.wikidata.org/entity/Q4734'), ('currencyLabel', 'Congolese franc')]\n",
      "[('country', 'http://www.wikidata.org/entity/Q717'), ('countryName', 'Venezuela'), ('currency', 'http://www.wikidata.org/entity/Q56349362'), ('currencyLabel', 'Sovereign Bolivar')]\n",
      "[('country', 'http://www.wikidata.org/entity/Q219'), ('countryName', 'Bulgaria'), ('currency', 'http://www.wikidata.org/entity/Q172540'), ('currencyLabel', 'Bulgarian lev')]\n",
      "[('country', 'http://www.wikidata.org/entity/Q889'), ('countryName', 'Afghanistan'), ('currency', 'http://www.wikidata.org/entity/Q199471'), ('currencyLabel', 'Afghan afghani')]\n",
      "[('country', 'http://www.wikidata.org/entity/Q28'), ('countryName', 'Hungary'), ('currency', 'http://www.wikidata.org/entity/Q47190'), ('currencyLabel', 'forint')]\n",
      "[('country', 'http://www.wikidata.org/entity/Q858'), ('countryName', 'Syria'), ('currency', 'http://www.wikidata.org/entity/Q240468'), ('currencyLabel', 'Syrian pound')]\n",
      "[('country', 'http://www.wikidata.org/entity/Q739'), ('countryName', 'Colombia'), ('currency', 'http://www.wikidata.org/entity/Q244819'), ('currencyLabel', 'Colombian peso')]\n",
      "[('country', 'http://www.wikidata.org/entity/Q836'), ('countryName', 'Myanmar'), ('currency', 'http://www.wikidata.org/entity/Q201875'), ('currencyLabel', 'kyat')]\n",
      "[('country', 'http://www.wikidata.org/entity/Q1009'), ('countryName', 'Cameroon'), ('currency', 'http://www.wikidata.org/entity/Q847739'), ('currencyLabel', 'Central African CFA franc')]\n",
      "[('country', 'http://www.wikidata.org/entity/Q657'), ('countryName', 'Chad'), ('currency', 'http://www.wikidata.org/entity/Q847739'), ('currencyLabel', 'Central African CFA franc')]\n",
      "[('country', 'http://www.wikidata.org/entity/Q929'), ('countryName', 'Central African Republic'), ('currency', 'http://www.wikidata.org/entity/Q847739'), ('currencyLabel', 'Central African CFA franc')]\n",
      "[('country', 'http://www.wikidata.org/entity/Q971'), ('countryName', 'Republic of the Congo'), ('currency', 'http://www.wikidata.org/entity/Q847739'), ('currencyLabel', 'Central African CFA franc')]\n",
      "[('country', 'http://www.wikidata.org/entity/Q232'), ('countryName', 'Kazakhstan'), ('currency', 'http://www.wikidata.org/entity/Q173751'), ('currencyLabel', 'Kazakhstani tenge')]\n",
      "[('country', 'http://www.wikidata.org/entity/Q77'), ('countryName', 'Uruguay'), ('currency', 'http://www.wikidata.org/entity/Q209272'), ('currencyLabel', 'Uruguayan peso')]\n",
      "[('country', 'http://www.wikidata.org/entity/Q16'), ('countryName', 'Canada'), ('currency', 'http://www.wikidata.org/entity/Q1104069'), ('currencyLabel', 'Canadian dollar')]\n",
      "[('country', 'http://www.wikidata.org/entity/Q801'), ('countryName', 'Israel'), ('currency', 'http://www.wikidata.org/entity/Q131309'), ('currencyLabel', 'new shekel')]\n",
      "[('country', 'http://www.wikidata.org/entity/Q155'), ('countryName', 'Brazil'), ('currency', 'http://www.wikidata.org/entity/Q173117'), ('currencyLabel', 'Brazilian real')]\n",
      "[('country', 'http://www.wikidata.org/entity/Q869'), ('countryName', 'Thailand'), ('currency', 'http://www.wikidata.org/entity/Q177882'), ('currencyLabel', 'baht')]\n",
      "[('country', 'http://www.wikidata.org/entity/Q863'), ('countryName', 'Tajikistan'), ('currency', 'http://www.wikidata.org/entity/Q199886'), ('currencyLabel', 'Tajikistani somoni')]\n",
      "[('country', 'http://www.wikidata.org/entity/Q298'), ('countryName', 'Chile'), ('currency', 'http://www.wikidata.org/entity/Q200050'), ('currencyLabel', 'Chilean peso')]\n",
      "[('country', 'http://www.wikidata.org/entity/Q819'), ('countryName', 'Laos'), ('currency', 'http://www.wikidata.org/entity/Q200055'), ('currencyLabel', 'Lao kip')]\n",
      "[('country', 'http://www.wikidata.org/entity/Q878'), ('countryName', 'United Arab Emirates'), ('currency', 'http://www.wikidata.org/entity/Q200294'), ('currencyLabel', 'United Arab Emirates dirham')]\n",
      "[('country', 'http://www.wikidata.org/entity/Q916'), ('countryName', 'Angola'), ('currency', 'http://www.wikidata.org/entity/Q200337'), ('currencyLabel', 'kwanza')]\n",
      "[('country', 'http://www.wikidata.org/entity/Q398'), ('countryName', 'Bahrain'), ('currency', 'http://www.wikidata.org/entity/Q201871'), ('currencyLabel', 'Bahraini dinar')]\n",
      "[('country', 'http://www.wikidata.org/entity/Q686'), ('countryName', 'Vanuatu'), ('currency', 'http://www.wikidata.org/entity/Q207523'), ('currencyLabel', 'Vanuatu vatus')]\n",
      "[('country', 'http://www.wikidata.org/entity/Q408'), ('countryName', 'Australia'), ('currency', 'http://www.wikidata.org/entity/Q259502'), ('currencyLabel', 'Australian dollar')]\n",
      "[('country', 'http://www.wikidata.org/entity/Q672'), ('countryName', 'Tuvalu'), ('currency', 'http://www.wikidata.org/entity/Q259502'), ('currencyLabel', 'Australian dollar')]\n",
      "[('country', 'http://www.wikidata.org/entity/Q697'), ('countryName', 'Nauru'), ('currency', 'http://www.wikidata.org/entity/Q259502'), ('currencyLabel', 'Australian dollar')]\n",
      "[('country', 'http://www.wikidata.org/entity/Q710'), ('countryName', 'Kiribati'), ('currency', 'http://www.wikidata.org/entity/Q259502'), ('currencyLabel', 'Australian dollar')]\n",
      "[('country', 'http://www.wikidata.org/entity/Q1049'), ('countryName', 'Sudan'), ('currency', 'http://www.wikidata.org/entity/Q271206'), ('currencyLabel', 'Sudanese pound')]\n",
      "[('country', 'http://www.wikidata.org/entity/Q148'), ('countryName', \"People's Republic of China\"), ('currency', 'http://www.wikidata.org/entity/Q39099'), ('currencyLabel', 'renminbi')]\n",
      "[('country', 'http://www.wikidata.org/entity/Q1044'), ('countryName', 'Sierra Leone'), ('currency', 'http://www.wikidata.org/entity/Q4587'), ('currencyLabel', 'Sierra Leonean leone')]\n",
      "[('country', 'http://www.wikidata.org/entity/Q685'), ('countryName', 'Solomon Islands'), ('currency', 'http://www.wikidata.org/entity/Q4597'), ('currencyLabel', 'Solomon Islands dollar')]\n",
      "40\n"
     ]
    }
   ],
   "source": [
    "#returning all currencies \n",
    "queryString = \"\"\" \n",
    "SELECT ?country ?countryName ?currency ?currencyLabel\n",
    "WHERE {\n",
    "    ?country wdt:P31 wd:Q6256 .\n",
    "    ?country wdt:P38 ?currency .\n",
    "    # get the label\n",
    "    ?country sc:name ?countryName .\n",
    "    ?currency sc:name ?currencyLabel .\n",
    "}\n",
    "LIMIT 40\n",
    "\"\"\"\n",
    "print(\"Results\")\n",
    "x=run_query(queryString)"
   ]
  },
  {
   "cell_type": "code",
   "execution_count": 22,
   "id": "c55d1d33",
   "metadata": {},
   "outputs": [
    {
     "name": "stdout",
     "output_type": "stream",
     "text": [
      "Results\n",
      "[('country', 'http://www.wikidata.org/entity/Q16644'), ('countryName', 'Northern Mariana Islands'), ('currency', 'http://www.wikidata.org/entity/Q4917'), ('currencyLabel', 'United States dollar')]\n",
      "[('country', 'http://www.wikidata.org/entity/Q1014'), ('countryName', 'Liberia'), ('currency', 'http://www.wikidata.org/entity/Q4917'), ('currencyLabel', 'United States dollar')]\n",
      "[('country', 'http://www.wikidata.org/entity/Q1014'), ('countryName', 'Liberia'), ('currency', 'http://www.wikidata.org/entity/Q242988'), ('currencyLabel', 'Liberian dollar')]\n",
      "[('country', 'http://www.wikidata.org/entity/Q1030'), ('countryName', 'Namibia'), ('currency', 'http://www.wikidata.org/entity/Q202462'), ('currencyLabel', 'Namibian dollar')]\n",
      "[('country', 'http://www.wikidata.org/entity/Q16'), ('countryName', 'Canada'), ('currency', 'http://www.wikidata.org/entity/Q1104069'), ('currencyLabel', 'Canadian dollar')]\n",
      "[('country', 'http://www.wikidata.org/entity/Q16641'), ('countryName', 'American Samoa'), ('currency', 'http://www.wikidata.org/entity/Q4917'), ('currencyLabel', 'United States dollar')]\n",
      "[('country', 'http://www.wikidata.org/entity/Q244'), ('countryName', 'Barbados'), ('currency', 'http://www.wikidata.org/entity/Q194351'), ('currencyLabel', 'Barbadian dollar')]\n",
      "[('country', 'http://www.wikidata.org/entity/Q26988'), ('countryName', 'Cook Islands'), ('currency', 'http://www.wikidata.org/entity/Q1472704'), ('currencyLabel', 'New Zealand dollar')]\n",
      "[('country', 'http://www.wikidata.org/entity/Q26988'), ('countryName', 'Cook Islands'), ('currency', 'http://www.wikidata.org/entity/Q507737'), ('currencyLabel', 'Cook Islands dollar')]\n",
      "[('country', 'http://www.wikidata.org/entity/Q30'), ('countryName', 'United States of America'), ('currency', 'http://www.wikidata.org/entity/Q4917'), ('currencyLabel', 'United States dollar')]\n",
      "[('country', 'http://www.wikidata.org/entity/Q334'), ('countryName', 'Singapore'), ('currency', 'http://www.wikidata.org/entity/Q190951'), ('currencyLabel', 'Singapore dollar')]\n",
      "[('country', 'http://www.wikidata.org/entity/Q34020'), ('countryName', 'Niue'), ('currency', 'http://www.wikidata.org/entity/Q1472704'), ('currencyLabel', 'New Zealand dollar')]\n",
      "[('country', 'http://www.wikidata.org/entity/Q34020'), ('countryName', 'Niue'), ('currency', 'http://www.wikidata.org/entity/Q4165057'), ('currencyLabel', 'Niue dollar')]\n",
      "[('country', 'http://www.wikidata.org/entity/Q408'), ('countryName', 'Australia'), ('currency', 'http://www.wikidata.org/entity/Q259502'), ('currencyLabel', 'Australian dollar')]\n",
      "[('country', 'http://www.wikidata.org/entity/Q574'), ('countryName', 'East Timor'), ('currency', 'http://www.wikidata.org/entity/Q4917'), ('currencyLabel', 'United States dollar')]\n",
      "[('country', 'http://www.wikidata.org/entity/Q664'), ('countryName', 'New Zealand'), ('currency', 'http://www.wikidata.org/entity/Q1472704'), ('currencyLabel', 'New Zealand dollar')]\n",
      "[('country', 'http://www.wikidata.org/entity/Q672'), ('countryName', 'Tuvalu'), ('currency', 'http://www.wikidata.org/entity/Q259502'), ('currencyLabel', 'Australian dollar')]\n",
      "[('country', 'http://www.wikidata.org/entity/Q672'), ('countryName', 'Tuvalu'), ('currency', 'http://www.wikidata.org/entity/Q4406'), ('currencyLabel', 'Tuvaluan dollar')]\n",
      "[('country', 'http://www.wikidata.org/entity/Q685'), ('countryName', 'Solomon Islands'), ('currency', 'http://www.wikidata.org/entity/Q4597'), ('currencyLabel', 'Solomon Islands dollar')]\n",
      "[('country', 'http://www.wikidata.org/entity/Q695'), ('countryName', 'Palau'), ('currency', 'http://www.wikidata.org/entity/Q4917'), ('currencyLabel', 'United States dollar')]\n",
      "[('country', 'http://www.wikidata.org/entity/Q697'), ('countryName', 'Nauru'), ('currency', 'http://www.wikidata.org/entity/Q259502'), ('currencyLabel', 'Australian dollar')]\n",
      "[('country', 'http://www.wikidata.org/entity/Q702'), ('countryName', 'Federated States of Micronesia'), ('currency', 'http://www.wikidata.org/entity/Q4917'), ('currencyLabel', 'United States dollar')]\n",
      "[('country', 'http://www.wikidata.org/entity/Q709'), ('countryName', 'Marshall Islands'), ('currency', 'http://www.wikidata.org/entity/Q4917'), ('currencyLabel', 'United States dollar')]\n",
      "[('country', 'http://www.wikidata.org/entity/Q710'), ('countryName', 'Kiribati'), ('currency', 'http://www.wikidata.org/entity/Q259502'), ('currencyLabel', 'Australian dollar')]\n",
      "[('country', 'http://www.wikidata.org/entity/Q710'), ('countryName', 'Kiribati'), ('currency', 'http://www.wikidata.org/entity/Q1049963'), ('currencyLabel', 'Kiribati dollar')]\n",
      "[('country', 'http://www.wikidata.org/entity/Q712'), ('countryName', 'Fiji'), ('currency', 'http://www.wikidata.org/entity/Q4592'), ('currencyLabel', 'Fijian dollar')]\n",
      "[('country', 'http://www.wikidata.org/entity/Q734'), ('countryName', 'Guyana'), ('currency', 'http://www.wikidata.org/entity/Q213005'), ('currencyLabel', 'Guyanese dollar')]\n",
      "[('country', 'http://www.wikidata.org/entity/Q736'), ('countryName', 'Ecuador'), ('currency', 'http://www.wikidata.org/entity/Q4917'), ('currencyLabel', 'United States dollar')]\n",
      "[('country', 'http://www.wikidata.org/entity/Q754'), ('countryName', 'Trinidad and Tobago'), ('currency', 'http://www.wikidata.org/entity/Q242890'), ('currencyLabel', 'Trinidad and Tobago dollar')]\n",
      "[('country', 'http://www.wikidata.org/entity/Q757'), ('countryName', 'Saint Vincent and the Grenadines'), ('currency', 'http://www.wikidata.org/entity/Q26365'), ('currencyLabel', 'Eastern Caribbean dollar')]\n",
      "[('country', 'http://www.wikidata.org/entity/Q760'), ('countryName', 'Saint Lucia'), ('currency', 'http://www.wikidata.org/entity/Q26365'), ('currencyLabel', 'Eastern Caribbean dollar')]\n",
      "[('country', 'http://www.wikidata.org/entity/Q763'), ('countryName', 'Saint Kitts and Nevis'), ('currency', 'http://www.wikidata.org/entity/Q26365'), ('currencyLabel', 'Eastern Caribbean dollar')]\n",
      "[('country', 'http://www.wikidata.org/entity/Q766'), ('countryName', 'Jamaica'), ('currency', 'http://www.wikidata.org/entity/Q209792'), ('currencyLabel', 'Jamaican dollar')]\n",
      "[('country', 'http://www.wikidata.org/entity/Q769'), ('countryName', 'Grenada'), ('currency', 'http://www.wikidata.org/entity/Q26365'), ('currencyLabel', 'Eastern Caribbean dollar')]\n",
      "[('country', 'http://www.wikidata.org/entity/Q778'), ('countryName', 'The Bahamas'), ('currency', 'http://www.wikidata.org/entity/Q194339'), ('currencyLabel', 'Bahamian dollar')]\n",
      "[('country', 'http://www.wikidata.org/entity/Q781'), ('countryName', 'Antigua and Barbuda'), ('currency', 'http://www.wikidata.org/entity/Q26365'), ('currencyLabel', 'Eastern Caribbean dollar')]\n",
      "[('country', 'http://www.wikidata.org/entity/Q784'), ('countryName', 'Dominica'), ('currency', 'http://www.wikidata.org/entity/Q26365'), ('currencyLabel', 'Eastern Caribbean dollar')]\n",
      "[('country', 'http://www.wikidata.org/entity/Q792'), ('countryName', 'El Salvador'), ('currency', 'http://www.wikidata.org/entity/Q4917'), ('currencyLabel', 'United States dollar')]\n",
      "[('country', 'http://www.wikidata.org/entity/Q865'), ('countryName', 'Taiwan'), ('currency', 'http://www.wikidata.org/entity/Q208526'), ('currencyLabel', 'New Taiwan dollar')]\n",
      "[('country', 'http://www.wikidata.org/entity/Q921'), ('countryName', 'Brunei'), ('currency', 'http://www.wikidata.org/entity/Q206319'), ('currencyLabel', 'Brunei dollar')]\n",
      "40\n"
     ]
    }
   ],
   "source": [
    "#returning all currencies that contain dollar in their name \n",
    "queryString = \"\"\" \n",
    "SELECT ?country ?countryName ?currency ?currencyLabel\n",
    "WHERE {\n",
    "    ?country wdt:P31 wd:Q6256 .\n",
    "    ?country wdt:P38 ?currency .\n",
    "    # get the label\n",
    "    ?country sc:name ?countryName .\n",
    "    ?currency sc:name ?currencyLabel .\n",
    "    FILTER (REGEX(STR(?currencyLabel), \".*dollar\")) .\n",
    "}\n",
    "\n",
    "LIMIT 40\n",
    "\"\"\"\n",
    "print(\"Results\")\n",
    "x=run_query(queryString)"
   ]
  },
  {
   "cell_type": "markdown",
   "id": "afa7ed53",
   "metadata": {},
   "source": [
    "Final query for this task"
   ]
  },
  {
   "cell_type": "code",
   "execution_count": 23,
   "id": "7fb6cc2e",
   "metadata": {},
   "outputs": [
    {
     "name": "stdout",
     "output_type": "stream",
     "text": [
      "Results\n",
      "[('currency', 'http://www.wikidata.org/entity/Q4917'), ('currencyLabel', 'United States dollar')]\n",
      "[('currency', 'http://www.wikidata.org/entity/Q242988'), ('currencyLabel', 'Liberian dollar')]\n",
      "[('currency', 'http://www.wikidata.org/entity/Q202462'), ('currencyLabel', 'Namibian dollar')]\n",
      "[('currency', 'http://www.wikidata.org/entity/Q1104069'), ('currencyLabel', 'Canadian dollar')]\n",
      "[('currency', 'http://www.wikidata.org/entity/Q194351'), ('currencyLabel', 'Barbadian dollar')]\n",
      "[('currency', 'http://www.wikidata.org/entity/Q1472704'), ('currencyLabel', 'New Zealand dollar')]\n",
      "[('currency', 'http://www.wikidata.org/entity/Q507737'), ('currencyLabel', 'Cook Islands dollar')]\n",
      "[('currency', 'http://www.wikidata.org/entity/Q190951'), ('currencyLabel', 'Singapore dollar')]\n",
      "[('currency', 'http://www.wikidata.org/entity/Q4165057'), ('currencyLabel', 'Niue dollar')]\n",
      "[('currency', 'http://www.wikidata.org/entity/Q259502'), ('currencyLabel', 'Australian dollar')]\n",
      "[('currency', 'http://www.wikidata.org/entity/Q4406'), ('currencyLabel', 'Tuvaluan dollar')]\n",
      "[('currency', 'http://www.wikidata.org/entity/Q4597'), ('currencyLabel', 'Solomon Islands dollar')]\n",
      "[('currency', 'http://www.wikidata.org/entity/Q1049963'), ('currencyLabel', 'Kiribati dollar')]\n",
      "[('currency', 'http://www.wikidata.org/entity/Q4592'), ('currencyLabel', 'Fijian dollar')]\n",
      "[('currency', 'http://www.wikidata.org/entity/Q213005'), ('currencyLabel', 'Guyanese dollar')]\n",
      "[('currency', 'http://www.wikidata.org/entity/Q242890'), ('currencyLabel', 'Trinidad and Tobago dollar')]\n",
      "[('currency', 'http://www.wikidata.org/entity/Q26365'), ('currencyLabel', 'Eastern Caribbean dollar')]\n",
      "[('currency', 'http://www.wikidata.org/entity/Q209792'), ('currencyLabel', 'Jamaican dollar')]\n",
      "[('currency', 'http://www.wikidata.org/entity/Q194339'), ('currencyLabel', 'Bahamian dollar')]\n",
      "[('currency', 'http://www.wikidata.org/entity/Q208526'), ('currencyLabel', 'New Taiwan dollar')]\n",
      "[('currency', 'http://www.wikidata.org/entity/Q206319'), ('currencyLabel', 'Brunei dollar')]\n",
      "21\n"
     ]
    }
   ],
   "source": [
    "queryString = \"\"\" \n",
    "SELECT DISTINCT ?currency ?currencyLabel\n",
    "WHERE {\n",
    "    ?country wdt:P31 wd:Q6256 .\n",
    "    ?country wdt:P38 ?currency .\n",
    "    # get the label\n",
    "    ?country sc:name ?countryName .\n",
    "    ?currency sc:name ?currencyLabel .\n",
    "    FILTER (REGEX(STR(?currencyLabel), \".*[Dd]ollar*.\")) .\n",
    "}\n",
    "LIMIT 40\n",
    "\"\"\"\n",
    "print(\"Results\")\n",
    "x=run_query(queryString)"
   ]
  },
  {
   "cell_type": "markdown",
   "id": "4c2f941b",
   "metadata": {
    "tags": []
   },
   "source": [
    "## Task 6\n",
    "Return the currencies used in at least 2 different countries (return also the number of countries using each currency)."
   ]
  },
  {
   "cell_type": "code",
   "execution_count": 24,
   "id": "69ea83bb-7e55-402e-bded-3ca5343311fb",
   "metadata": {},
   "outputs": [
    {
     "name": "stdout",
     "output_type": "stream",
     "text": [
      "Results\n",
      "[('currency', 'http://www.wikidata.org/entity/Q16068'), ('currencyLabel', 'Deutsche Mark'), ('countries', '9')]\n",
      "[('currency', 'http://www.wikidata.org/entity/Q3712659'), ('currencyLabel', 'Texas Dollar'), ('countries', '1')]\n",
      "[('currency', 'http://www.wikidata.org/entity/Q201875'), ('currencyLabel', 'kyat'), ('countries', '4')]\n",
      "[('currency', 'http://www.wikidata.org/entity/Q305981'), ('currencyLabel', 'Abbasi'), ('countries', '5')]\n",
      "[('currency', 'http://www.wikidata.org/entity/Q173117'), ('currencyLabel', 'Brazilian real'), ('countries', '5')]\n",
      "[('currency', 'http://www.wikidata.org/entity/Q200055'), ('currencyLabel', 'Lao kip'), ('countries', '2')]\n",
      "[('currency', 'http://www.wikidata.org/entity/Q8192962'), ('currencyLabel', 'Eiraku Tsūhō'), ('countries', '1')]\n",
      "[('currency', 'http://www.wikidata.org/entity/Q3931076'), ('currencyLabel', 'Central American Republic real'), ('countries', '1')]\n",
      "[('currency', 'http://www.wikidata.org/entity/Q193094'), ('currencyLabel', 'Iraqi dinar'), ('countries', '8')]\n",
      "[('currency', 'http://www.wikidata.org/entity/Q3833310'), ('currencyLabel', 'Tuscan pound'), ('countries', '2')]\n",
      "[('currency', 'http://www.wikidata.org/entity/Q476195'), ('currencyLabel', 'Gulf rupee'), ('countries', '3')]\n",
      "[('currency', 'http://www.wikidata.org/entity/Q572664'), ('currencyLabel', 'dirham'), ('countries', '11')]\n",
      "[('currency', 'http://www.wikidata.org/entity/Q204992'), ('currencyLabel', 'Italian lira'), ('countries', '8')]\n",
      "[('currency', 'http://www.wikidata.org/entity/Q43436'), ('currencyLabel', 'pearl'), ('countries', '1')]\n",
      "[('currency', 'http://www.wikidata.org/entity/Q2407759'), ('currencyLabel', 'Malaya and British Borneo dollar'), ('countries', '4')]\n",
      "[('currency', 'http://www.wikidata.org/entity/Q3883424'), ('currencyLabel', 'Ionian obol'), ('countries', '1')]\n",
      "[('currency', 'http://www.wikidata.org/entity/Q1173645'), ('currencyLabel', 'Neapolitan lira'), ('countries', '1')]\n",
      "[('currency', 'http://www.wikidata.org/entity/Q4193544'), ('currencyLabel', 'gold rouble'), ('countries', '2')]\n",
      "[('currency', 'http://www.wikidata.org/entity/Q4588'), ('currencyLabel', 'Samoan tālā'), ('countries', '1')]\n",
      "[('currency', 'http://www.wikidata.org/entity/Q17025285'), ('currencyLabel', 'Hubu Guanpiao'), ('countries', '1')]\n",
      "[('currency', 'http://www.wikidata.org/entity/Q275112'), ('currencyLabel', 'Belize dollar'), ('countries', '2')]\n",
      "[('currency', 'http://www.wikidata.org/entity/Q66372546'), ('currencyLabel', 'Umayyad dinar (currency unit)'), ('countries', '1')]\n",
      "[('currency', 'http://www.wikidata.org/entity/Q17193'), ('currencyLabel', 'Philippine peso'), ('countries', '3')]\n",
      "[('currency', 'http://www.wikidata.org/entity/Q130498'), ('currencyLabel', 'Armenian dram'), ('countries', '3')]\n",
      "[('currency', 'http://www.wikidata.org/entity/Q1367145'), ('currencyLabel', 'Chechen naxar'), ('countries', '1')]\n",
      "[('currency', 'http://www.wikidata.org/entity/Q207514'), ('currencyLabel', 'Paraguayan guaraní'), ('countries', '2')]\n",
      "[('currency', 'http://www.wikidata.org/entity/Q4533482'), ('currencyLabel', 'Mengjiang yuan'), ('countries', '2')]\n",
      "[('currency', 'http://www.wikidata.org/entity/Q1852872'), ('currencyLabel', 'New Hebrides franc'), ('countries', '1')]\n",
      "[('currency', 'http://www.wikidata.org/entity/Q7054691'), ('currencyLabel', 'North Carolina pound'), ('countries', '1')]\n",
      "[('currency', 'http://www.wikidata.org/entity/Q2741468'), ('currencyLabel', 'Korean yang'), ('countries', '1')]\n",
      "[('currency', 'http://www.wikidata.org/entity/Q122922'), ('currencyLabel', 'Swedish krona'), ('countries', '1')]\n",
      "[('currency', 'http://www.wikidata.org/entity/Q7014955'), ('currencyLabel', 'New York pound'), ('countries', '1')]\n",
      "[('currency', 'http://www.wikidata.org/entity/Q54857602'), ('currencyLabel', 'Komon'), ('countries', '1')]\n",
      "[('currency', 'http://www.wikidata.org/entity/Q27614'), ('currencyLabel', 'Manx pound'), ('countries', '1')]\n",
      "[('currency', 'http://www.wikidata.org/entity/Q1328829'), ('currencyLabel', 'Canadian pound'), ('countries', '2')]\n",
      "[('currency', 'http://www.wikidata.org/entity/Q10935619'), ('currencyLabel', 'Da Ming Baochao'), ('countries', '1')]\n",
      "[('currency', 'http://www.wikidata.org/entity/Q2399673'), ('currencyLabel', 'Iranian qiran'), ('countries', '1')]\n",
      "[('currency', 'http://www.wikidata.org/entity/Q1248202'), ('currencyLabel', 'Spanish maravedí'), ('countries', '2')]\n",
      "[('currency', 'http://www.wikidata.org/entity/Q190951'), ('currencyLabel', 'Singapore dollar'), ('countries', '2')]\n",
      "[('currency', 'http://www.wikidata.org/entity/Q241214'), ('currencyLabel', 'Macanese pataca'), ('countries', '1')]\n",
      "40\n"
     ]
    }
   ],
   "source": [
    "#counting how many countries use each currency \n",
    "queryString = \"\"\" \n",
    "SELECT ?currency ?currencyLabel (COUNT(?country) AS ?countries)\n",
    "WHERE {\n",
    "    # country wdt:P31 wd:Q6256 .\n",
    "    ?country wdt:P38 ?currency .\n",
    "    # get the label\n",
    "    # ?country sc:name ?countryName .\n",
    "    ?currency sc:name ?currencyLabel .\n",
    "    \n",
    "}\n",
    "\n",
    "GROUP BY ?currency ?currencyLabel\n",
    "LIMIT 40\n",
    "\"\"\"\n",
    "print(\"Results\")\n",
    "x=run_query(queryString)"
   ]
  },
  {
   "cell_type": "markdown",
   "id": "1687d6e8",
   "metadata": {},
   "source": [
    "Final query for this task"
   ]
  },
  {
   "cell_type": "code",
   "execution_count": 6,
   "id": "b2b109e7",
   "metadata": {},
   "outputs": [
    {
     "name": "stdout",
     "output_type": "stream",
     "text": [
      "Results\n",
      "[('currency', 'http://www.wikidata.org/entity/Q16068'), ('currencyLabel', 'Deutsche Mark'), ('countries', '9')]\n",
      "[('currency', 'http://www.wikidata.org/entity/Q201875'), ('currencyLabel', 'kyat'), ('countries', '4')]\n",
      "[('currency', 'http://www.wikidata.org/entity/Q305981'), ('currencyLabel', 'Abbasi'), ('countries', '5')]\n",
      "[('currency', 'http://www.wikidata.org/entity/Q173117'), ('currencyLabel', 'Brazilian real'), ('countries', '5')]\n",
      "[('currency', 'http://www.wikidata.org/entity/Q193094'), ('currencyLabel', 'Iraqi dinar'), ('countries', '8')]\n",
      "[('currency', 'http://www.wikidata.org/entity/Q476195'), ('currencyLabel', 'Gulf rupee'), ('countries', '3')]\n",
      "[('currency', 'http://www.wikidata.org/entity/Q572664'), ('currencyLabel', 'dirham'), ('countries', '11')]\n",
      "[('currency', 'http://www.wikidata.org/entity/Q204992'), ('currencyLabel', 'Italian lira'), ('countries', '8')]\n",
      "[('currency', 'http://www.wikidata.org/entity/Q2407759'), ('currencyLabel', 'Malaya and British Borneo dollar'), ('countries', '4')]\n",
      "[('currency', 'http://www.wikidata.org/entity/Q17193'), ('currencyLabel', 'Philippine peso'), ('countries', '3')]\n",
      "[('currency', 'http://www.wikidata.org/entity/Q130498'), ('currencyLabel', 'Armenian dram'), ('countries', '3')]\n",
      "[('currency', 'http://www.wikidata.org/entity/Q203354'), ('currencyLabel', 'Finnish markka'), ('countries', '3')]\n",
      "[('currency', 'http://www.wikidata.org/entity/Q206386'), ('currencyLabel', 'Qatari riyal'), ('countries', '3')]\n",
      "[('currency', 'http://www.wikidata.org/entity/Q199471'), ('currencyLabel', 'Afghan afghani'), ('countries', '9')]\n",
      "[('currency', 'http://www.wikidata.org/entity/Q200050'), ('currencyLabel', 'Chilean peso'), ('countries', '5')]\n",
      "[('currency', 'http://www.wikidata.org/entity/Q200294'), ('currencyLabel', 'United Arab Emirates dirham'), ('countries', '3')]\n",
      "[('currency', 'http://www.wikidata.org/entity/Q201871'), ('currencyLabel', 'Bahraini dinar'), ('countries', '4')]\n",
      "[('currency', 'http://www.wikidata.org/entity/Q259502'), ('currencyLabel', 'Australian dollar'), ('countries', '15')]\n",
      "[('currency', 'http://www.wikidata.org/entity/Q4916'), ('currencyLabel', 'euro'), ('countries', '93')]\n",
      "[('currency', 'http://www.wikidata.org/entity/Q202018'), ('currencyLabel', 'ducat'), ('countries', '4')]\n",
      "20\n"
     ]
    }
   ],
   "source": [
    "# write your final query\n",
    "queryString = \"\"\" \n",
    "SELECT ?currency ?currencyLabel (COUNT(?country) AS ?countries)\n",
    "WHERE {\n",
    "    # country wdt:P31 wd:Q6256 .\n",
    "    ?country wdt:P38 ?currency .\n",
    "    # get the label\n",
    "    # ?country sc:name ?countryName .\n",
    "    ?currency sc:name ?currencyLabel .\n",
    "    \n",
    "}\n",
    "\n",
    "GROUP BY ?currency ?currencyLabel\n",
    "HAVING (COUNT(?country) > 2)\n",
    "LIMIT 20\n",
    "\"\"\"\n",
    "print(\"Results\")\n",
    "x=run_query(queryString)"
   ]
  },
  {
   "cell_type": "markdown",
   "id": "12b47ed7",
   "metadata": {},
   "source": [
    "## Task 7\n",
    "Consider the currencies obtained in task 6, for each currency return the number of people using that currency (hint: consider the maximum popolation available for each country)."
   ]
  },
  {
   "cell_type": "code",
   "execution_count": 39,
   "id": "1ad5ec5d",
   "metadata": {},
   "outputs": [
    {
     "name": "stdout",
     "output_type": "stream",
     "text": [
      "Results\n",
      "[('p', 'http://www.wikidata.org/entity/P2046'), ('name', 'area')]\n",
      "[('p', 'http://www.wikidata.org/entity/P3067'), ('name', 'GS1 country code')]\n",
      "[('p', 'http://www.wikidata.org/entity/P78'), ('name', 'top-level Internet domain')]\n",
      "[('p', 'http://www.wikidata.org/entity/P935'), ('name', 'Commons gallery')]\n",
      "[('p', 'http://www.wikidata.org/entity/P30'), ('name', 'continent')]\n",
      "[('p', 'http://www.wikidata.org/entity/P2936'), ('name', 'language used')]\n",
      "[('p', 'http://www.wikidata.org/entity/P138'), ('name', 'named after')]\n",
      "[('p', 'http://www.wikidata.org/entity/P2852'), ('name', 'emergency telephone number')]\n",
      "[('p', 'http://www.wikidata.org/entity/P47'), ('name', 'shares border with')]\n",
      "[('p', 'http://www.wikidata.org/entity/P610'), ('name', 'highest point')]\n",
      "10\n"
     ]
    }
   ],
   "source": [
    "# write your queries\n",
    "queryString = \"\"\" \n",
    "SELECT ?p ?name\n",
    "WHERE {\n",
    "   wd:Q6256 wdt:P1963 ?p .\n",
    "   # get the label\n",
    "   ?p sc:name ?name .\n",
    "}\n",
    "LIMIT 10\n",
    "\"\"\"\n",
    "print(\"Results\")\n",
    "x=run_query(queryString)"
   ]
  },
  {
   "cell_type": "markdown",
   "id": "8c5f68e8-d850-4f42-bd88-3aab4def2061",
   "metadata": {},
   "source": [
    "P1082 is Population"
   ]
  },
  {
   "cell_type": "code",
   "execution_count": 27,
   "id": "baded45d-4709-45d9-8500-331a83ef6390",
   "metadata": {},
   "outputs": [
    {
     "name": "stdout",
     "output_type": "stream",
     "text": [
      "Results\n",
      "Empty\n"
     ]
    }
   ],
   "source": [
    "# write your queries\n",
    "queryString = \"\"\" \n",
    "SELECT ?country ?name ?population ?value\n",
    "WHERE {\n",
    "   ?country wdt:P31 wd:Q6256 .\n",
    "   wd:Q6256 wdt:P1082 ?population .\n",
    "   # get the label\n",
    "   ?population sc:name ?value .\n",
    "   ?country sc:name ?name .\n",
    "}\n",
    "LIMIT 40\n",
    "\"\"\"\n",
    "print(\"Results\")\n",
    "x=run_query(queryString)"
   ]
  },
  {
   "cell_type": "code",
   "execution_count": 28,
   "id": "2060fca6-954d-45fa-9588-94682f78d18d",
   "metadata": {},
   "outputs": [
    {
     "name": "stdout",
     "output_type": "stream",
     "text": [
      "Results\n",
      "Empty\n"
     ]
    }
   ],
   "source": [
    "#returning all populations \n",
    "queryString = \"\"\" \n",
    "SELECT ?country ?countryName ?population ?populationValue\n",
    "WHERE {\n",
    "    ?country wdt:P31 wd:Q6256 .\n",
    "    ?country wdt:P1082 ?population .\n",
    "    # get the label\n",
    "    ?country sc:name ?countryName .\n",
    "    ?population sc:name ?populationValue .\n",
    "}\n",
    "LIMIT 40\n",
    "\"\"\"\n",
    "print(\"Results\")\n",
    "x=run_query(queryString)"
   ]
  },
  {
   "cell_type": "code",
   "execution_count": 38,
   "id": "0ae73f14-96e0-4be9-b509-cdedd2148050",
   "metadata": {},
   "outputs": [
    {
     "name": "stdout",
     "output_type": "stream",
     "text": [
      "Results\n",
      "[('country', 'http://www.wikidata.org/entity/P348'), ('countryName', 'software version identifier'), ('population', '60317000')]\n",
      "[('country', 'http://www.wikidata.org/entity/P4669'), ('countryName', 'tabular software version'), ('population', '60317000')]\n",
      "[('country', 'http://www.wikidata.org/entity/P747'), ('countryName', 'has edition or translation'), ('population', '60317000')]\n",
      "[('country', 'http://www.wikidata.org/entity/Q1002728'), ('countryName', 'Fonsi Nieto'), ('population', '60317000')]\n",
      "[('country', 'http://www.wikidata.org/entity/Q100326534'), ('countryName', \"Al Stewart's albums in chronological order\"), ('population', '60317000')]\n",
      "[('country', 'http://www.wikidata.org/entity/Q100327667'), ('countryName', 'Category:Adelina Lopes Vieira'), ('population', '60317000')]\n",
      "[('country', 'http://www.wikidata.org/entity/Q100343342'), ('countryName', 'Lubomír Stoklásek'), ('population', '60317000')]\n",
      "[('country', 'http://www.wikidata.org/entity/Q1007576'), ('countryName', 'Ciudad Vieja'), ('population', '60317000')]\n",
      "[('country', 'http://www.wikidata.org/entity/Q100879156'), ('countryName', 'Echániz'), ('population', '60317000')]\n",
      "[('country', 'http://www.wikidata.org/entity/Q10100'), ('countryName', 'Natuna'), ('population', '60317000')]\n",
      "10\n"
     ]
    }
   ],
   "source": [
    "#returning all populations \n",
    "queryString = \"\"\" \n",
    "SELECT ?country ?countryName ?population \n",
    "WHERE {\n",
    "    wd:Q38 wdt:P1082 ?population .\n",
    "    # get the label\n",
    "    ?country sc:name ?countryName .\n",
    "}\n",
    "LIMIT 10\n",
    "\"\"\"\n",
    "print(\"Results\")\n",
    "x=run_query(queryString)"
   ]
  },
  {
   "cell_type": "code",
   "execution_count": 37,
   "id": "5f304208-69c0-4443-aa4b-89da67cd374e",
   "metadata": {},
   "outputs": [
    {
     "name": "stdout",
     "output_type": "stream",
     "text": [
      "Results\n",
      "[('country', 'http://www.wikidata.org/entity/Q10100'), ('countryName', 'Natuna'), ('population', '71448')]\n",
      "[('country', 'http://www.wikidata.org/entity/Q1018547'), ('countryName', 'Võnnu Rural Municipality'), ('population', '1153')]\n",
      "[('country', 'http://www.wikidata.org/entity/Q1058869'), ('countryName', 'Nemėžis'), ('population', '2498')]\n",
      "[('country', 'http://www.wikidata.org/entity/Q109576'), ('countryName', 'Aegadian Islands'), ('population', '4300')]\n",
      "[('country', 'http://www.wikidata.org/entity/Q113120'), ('countryName', 'Sliven Province'), ('population', '197473')]\n",
      "[('country', 'http://www.wikidata.org/entity/Q1207964'), ('countryName', 'Kita-ku'), ('population', '163338')]\n",
      "[('country', 'http://www.wikidata.org/entity/Q13010'), ('countryName', 'Arbúcies'), ('population', '6608')]\n",
      "[('country', 'http://www.wikidata.org/entity/Q1345562'), ('countryName', 'Toyoyama'), ('population', '15729')]\n",
      "[('country', 'http://www.wikidata.org/entity/Q1350904'), ('countryName', 'Itano'), ('population', '13087')]\n",
      "[('country', 'http://www.wikidata.org/entity/Q13933'), ('countryName', 'Ripollet'), ('population', '39179')]\n",
      "10\n"
     ]
    }
   ],
   "source": [
    "#returning all populations \n",
    "queryString = \"\"\" \n",
    "SELECT ?country ?countryName ?population \n",
    "WHERE {\n",
    "    ?country wdt:P1082 ?population .\n",
    "    # get the label\n",
    "    ?country sc:name ?countryName .\n",
    "}\n",
    "LIMIT 10\n",
    "\"\"\"\n",
    "print(\"Results\")\n",
    "x=run_query(queryString)"
   ]
  },
  {
   "cell_type": "code",
   "execution_count": 36,
   "id": "694d544f-0457-4a28-9620-0ddf8533f8fa",
   "metadata": {},
   "outputs": [
    {
     "name": "stdout",
     "output_type": "stream",
     "text": [
      "Results\n",
      "[('countryName', 'Kiribati'), ('currencyLabel', 'Kiribati dollar'), ('maxP', '119940')]\n",
      "[('countryName', 'North Korea'), ('currencyLabel', 'North Korean won'), ('maxP', '25490965')]\n",
      "[('countryName', 'Canada'), ('currencyLabel', 'Canadian dollar'), ('maxP', '37894799')]\n",
      "[('countryName', 'Sweden'), ('currencyLabel', 'Swedish krona'), ('maxP', '10409248')]\n",
      "[('countryName', 'Poland'), ('currencyLabel', 'złoty'), ('maxP', '38382576')]\n",
      "[('countryName', 'Albania'), ('currencyLabel', 'Albanian lek'), ('maxP', '3020209')]\n",
      "[('countryName', 'Republic of Artsakh'), ('currencyLabel', 'Armenian dram'), ('maxP', '146600')]\n",
      "[('countryName', 'Czech Republic'), ('currencyLabel', 'Czech koruna'), ('maxP', '10701777')]\n",
      "[('countryName', 'Israel'), ('currencyLabel', 'new shekel'), ('maxP', '9093000')]\n",
      "[('countryName', 'Romania'), ('currencyLabel', 'Romanian leu'), ('maxP', '19586539')]\n",
      "[('countryName', 'El Salvador'), ('currencyLabel', 'bitcoin'), ('maxP', '6420746')]\n",
      "[('countryName', 'Norway'), ('currencyLabel', 'Norwegian krone'), ('maxP', '5391369')]\n",
      "[('countryName', 'Niue'), ('currencyLabel', 'New Zealand dollar'), ('maxP', '1612')]\n",
      "[('countryName', 'Cook Islands'), ('currencyLabel', 'New Zealand dollar'), ('maxP', '17434')]\n",
      "[('countryName', 'New Zealand'), ('currencyLabel', 'New Zealand dollar'), ('maxP', '5112300')]\n",
      "[('countryName', 'Malaysia'), ('currencyLabel', 'Malaysian ringgit'), ('maxP', '31624264')]\n",
      "[('countryName', 'Eritrea'), ('currencyLabel', 'nakfa'), ('maxP', '3497000')]\n",
      "[('countryName', 'Philippines'), ('currencyLabel', 'Philippine peso'), ('maxP', '109035343')]\n",
      "[('countryName', 'Bulgaria'), ('currencyLabel', 'Bulgarian lev'), ('maxP', '7000039')]\n",
      "[('countryName', 'Turkey'), ('currencyLabel', 'Turkish lira'), ('maxP', '83614362')]\n",
      "20\n"
     ]
    }
   ],
   "source": [
    "queryString = \"\"\" \n",
    "SELECT ?countryName ?currencyLabel (MAX(?population) AS ?maxP)\n",
    "WHERE {\n",
    "    ?country wdt:P31 wd:Q6256 .\n",
    "    ?country wdt:P38 ?currency .\n",
    "    ?country wdt:P1082 ?population .\n",
    "    # get the label\n",
    "    ?country sc:name ?countryName .\n",
    "    ?currency sc:name ?currencyLabel .\n",
    "}\n",
    "ORDER BY ?currency\n",
    "LIMIT 20\n",
    "\"\"\"\n",
    "print(\"Results\")\n",
    "x=run_query(queryString)"
   ]
  },
  {
   "cell_type": "code",
   "execution_count": 31,
   "id": "dc5dc394-545a-4373-9d06-ee4e4f24970f",
   "metadata": {},
   "outputs": [
    {
     "name": "stdout",
     "output_type": "stream",
     "text": [
      "Results\n",
      "[('countryName', 'France'), ('population', '67063703')]\n",
      "[('countryName', 'Italy'), ('population', '60317000')]\n",
      "[('countryName', 'Netherlands'), ('population', '17282163')]\n",
      "[('countryName', 'Kingdom of the Netherlands'), ('population', '17100715')]\n",
      "[('countryName', 'Greece'), ('population', '10760421')]\n",
      "[('countryName', 'Portugal'), ('population', '10347892')]\n",
      "[('countryName', 'Austria'), ('population', '8809212')]\n",
      "[('countryName', 'Finland'), ('population', '5501043')]\n",
      "[('countryName', 'Slovakia'), ('population', '5397036')]\n",
      "[('countryName', 'Ireland'), ('population', '4761865')]\n",
      "[('countryName', 'Latvia'), ('population', '1909000')]\n",
      "[('countryName', 'Cyprus'), ('population', '1141166')]\n",
      "[('countryName', 'Montenegro'), ('population', '622359')]\n",
      "[('countryName', 'Malta'), ('population', '465292')]\n",
      "[('countryName', 'Andorra'), ('population', '78151')]\n",
      "15\n"
     ]
    }
   ],
   "source": [
    "#returning all populations \n",
    "queryString = \"\"\" \n",
    "SELECT DISTINCT ?countryName ?population\n",
    "WHERE {\n",
    "    ?country wdt:P31 wd:Q6256 .\n",
    "    ?country wdt:P38 wd:Q4916 .\n",
    "    ?country wdt:P38 ?currency .\n",
    "    ?country wdt:P1082 ?population .\n",
    "    # get the label\n",
    "    ?country sc:name ?countryName .\n",
    "}\n",
    "ORDER BY DESC(?population)\n",
    "LIMIT 40\n",
    "\"\"\"\n",
    "print(\"Results\")\n",
    "x=run_query(queryString)"
   ]
  },
  {
   "cell_type": "code",
   "execution_count": 2,
   "id": "387ffa24-9a5b-4f57-86b5-e899638c1427",
   "metadata": {},
   "outputs": [
    {
     "name": "stdout",
     "output_type": "stream",
     "text": [
      "Results\n",
      "[('currency', 'http://www.wikidata.org/entity/Q24302270'), ('currencyLabel', 'ZAAD'), ('maxP', '5780000')]\n",
      "[('currency', 'http://www.wikidata.org/entity/Q200192'), ('currencyLabel', 'Moroccan dirham'), ('maxP', '36029138')]\n",
      "[('currency', 'http://www.wikidata.org/entity/Q163712'), ('currencyLabel', 'Malaysian ringgit'), ('maxP', '31624264')]\n",
      "[('currency', 'http://www.wikidata.org/entity/Q242988'), ('currencyLabel', 'Liberian dollar'), ('maxP', '4731906')]\n",
      "[('currency', 'http://www.wikidata.org/entity/Q4594'), ('currencyLabel', 'Djiboutian franc'), ('maxP', '956985')]\n",
      "[('currency', 'http://www.wikidata.org/entity/Q487888'), ('currencyLabel', 'Uzbekistani som'), ('maxP', '33570609')]\n",
      "[('currency', 'http://www.wikidata.org/entity/Q4598'), ('currencyLabel', 'Ugandan shilling'), ('maxP', '42862958')]\n",
      "[('currency', 'http://www.wikidata.org/entity/Q208039'), ('currencyLabel', 'Lesotho loti'), ('maxP', '2233339')]\n",
      "[('currency', 'http://www.wikidata.org/entity/Q731350'), ('currencyLabel', 'convertible peso'), ('maxP', '11484636')]\n",
      "[('currency', 'http://www.wikidata.org/entity/Q94418'), ('currencyLabel', 'Nagorno-Karabakh dram'), ('maxP', '146600')]\n",
      "[('currency', 'http://www.wikidata.org/entity/Q206600'), ('currencyLabel', 'Maldivian rufiyaa'), ('maxP', '436330')]\n",
      "[('currency', 'http://www.wikidata.org/entity/Q486637'), ('currencyLabel', 'Turkmenistan manat'), ('maxP', '5850901')]\n",
      "[('currency', 'http://www.wikidata.org/entity/Q131016'), ('currencyLabel', 'Czech koruna'), ('maxP', '10701777')]\n",
      "[('currency', 'http://www.wikidata.org/entity/Q242915'), ('currencyLabel', 'Costa Rican colón'), ('maxP', '4905769')]\n",
      "[('currency', 'http://www.wikidata.org/entity/Q125999'), ('currencyLabel', 'Albanian lek'), ('maxP', '3020209')]\n",
      "[('currency', 'http://www.wikidata.org/entity/Q259502'), ('currencyLabel', 'Australian dollar'), ('maxP', '24511800')]\n",
      "[('currency', 'http://www.wikidata.org/entity/Q208526'), ('currencyLabel', 'New Taiwan dollar'), ('maxP', '23593794')]\n",
      "[('currency', 'http://www.wikidata.org/entity/Q212967'), ('currencyLabel', 'Mauritian rupee'), ('maxP', '1264613')]\n",
      "[('currency', 'http://www.wikidata.org/entity/Q21531507'), ('currencyLabel', 'Belarusian ruble'), ('maxP', '9349645')]\n",
      "[('currency', 'http://www.wikidata.org/entity/Q80524'), ('currencyLabel', 'Indian rupee'), ('maxP', '1326093247')]\n",
      "20\n"
     ]
    }
   ],
   "source": [
    "queryString = \"\"\" \n",
    "SELECT ?currency ?currencyLabel (MAX(?population) AS ?maxP)\n",
    "WHERE {\n",
    "    ?country wdt:P31 wd:Q6256 ;\n",
    "             wdt:P38 ?currency ;\n",
    "             wdt:P1082 ?population .\n",
    "    ?currency sc:name ?currencyLabel .\n",
    "}\n",
    "GROUP BY ?currency ?currencyLabel   \n",
    "LIMIT 20\n",
    "\"\"\"\n",
    "print(\"Results\")\n",
    "x=run_query(queryString)\n"
   ]
  },
  {
   "cell_type": "code",
   "execution_count": 35,
   "id": "391d875f-e573-468b-9aef-578995096cb7",
   "metadata": {},
   "outputs": [
    {
     "name": "stdout",
     "output_type": "stream",
     "text": [
      "Results\n",
      "[('countryName', 'United States of America'), ('population', '331449281')]\n",
      "[('countryName', 'Ecuador'), ('population', '16624858')]\n",
      "[('countryName', 'Zimbabwe'), ('population', '16529904')]\n",
      "[('countryName', 'El Salvador'), ('population', '6420746')]\n",
      "[('countryName', 'Liberia'), ('population', '4731906')]\n",
      "[('countryName', 'East Timor'), ('population', '1296311')]\n",
      "[('countryName', 'Federated States of Micronesia'), ('population', '105544')]\n",
      "[('countryName', 'American Samoa'), ('population', '55689')]\n",
      "[('countryName', 'Northern Mariana Islands'), ('population', '55144')]\n",
      "[('countryName', 'Marshall Islands'), ('population', '53127')]\n",
      "[('countryName', 'Palau'), ('population', '21729')]\n",
      "11\n"
     ]
    }
   ],
   "source": [
    "#returning all populations of countries that use US dollar to check the above query \n",
    "queryString = \"\"\" \n",
    "SELECT DISTINCT ?countryName ?population\n",
    "WHERE {\n",
    "    ?country wdt:P31 wd:Q6256 .\n",
    "    ?country wdt:P38 wd:Q4917 .\n",
    "    ?country wdt:P38 ?currency .\n",
    "    ?country wdt:P1082 ?population .\n",
    "    # get the label\n",
    "    ?country sc:name ?countryName .\n",
    "}\n",
    "ORDER BY DESC(?population)\n",
    "LIMIT 40\n",
    "\"\"\"\n",
    "print(\"Results\")\n",
    "x=run_query(queryString)"
   ]
  },
  {
   "cell_type": "markdown",
   "id": "5eea2700",
   "metadata": {},
   "source": [
    "Final query for this task"
   ]
  },
  {
   "cell_type": "code",
   "execution_count": 17,
   "id": "bb513c7c",
   "metadata": {},
   "outputs": [
    {
     "name": "stdout",
     "output_type": "stream",
     "text": [
      "Results\n",
      "[('currency', 'http://www.wikidata.org/entity/Q201799'), ('currencyLabel', 'ngultrum'), ('maxP', '807610')]\n",
      "[('currency', 'http://www.wikidata.org/entity/Q186794'), ('currencyLabel', 'Botswana pula'), ('maxP', '2291661')]\n",
      "[('currency', 'http://www.wikidata.org/entity/Q211694'), ('currencyLabel', 'Malawian kwacha'), ('maxP', '18622104')]\n",
      "[('currency', 'http://www.wikidata.org/entity/Q572213'), ('currencyLabel', 'East Timor centavo coins'), ('maxP', '1296311')]\n",
      "[('currency', 'http://www.wikidata.org/entity/Q199886'), ('currencyLabel', 'Tajikistani somoni'), ('maxP', '8921343')]\n",
      "[('currency', 'http://www.wikidata.org/entity/Q207514'), ('currencyLabel', 'Paraguayan guaraní'), ('maxP', '6811297')]\n",
      "[('currency', 'http://www.wikidata.org/entity/Q200753'), ('currencyLabel', 'Mozambican metical'), ('maxP', '29668834')]\n",
      "[('currency', 'http://www.wikidata.org/entity/Q21531507'), ('currencyLabel', 'Belarusian ruble'), ('maxP', '9349645')]\n",
      "[('currency', 'http://www.wikidata.org/entity/Q4588'), ('currencyLabel', 'Samoan tālā'), ('maxP', '196440')]\n",
      "[('currency', 'http://www.wikidata.org/entity/Q132643'), ('currencyLabel', 'Norwegian krone'), ('maxP', '5391369')]\n",
      "[('currency', 'http://www.wikidata.org/entity/Q183530'), ('currencyLabel', 'Ghana cedi'), ('maxP', '26908262')]\n",
      "[('currency', 'http://www.wikidata.org/entity/Q194339'), ('currencyLabel', 'Bahamian dollar'), ('maxP', '395361')]\n",
      "[('currency', 'http://www.wikidata.org/entity/Q125999'), ('currencyLabel', 'Albanian lek'), ('maxP', '3020209')]\n",
      "[('currency', 'http://www.wikidata.org/entity/Q26360'), ('currencyLabel', 'Croatian kuna'), ('maxP', '4105493')]\n",
      "[('currency', 'http://www.wikidata.org/entity/Q188289'), ('currencyLabel', 'Pakistani rupee'), ('maxP', '216565318')]\n",
      "[('currency', 'http://www.wikidata.org/entity/Q26365'), ('currencyLabel', 'Eastern Caribbean dollar'), ('maxP', '178844')]\n",
      "[('currency', 'http://www.wikidata.org/entity/Q4603'), ('currencyLabel', 'Somali shilling'), ('maxP', '11031386')]\n",
      "[('currency', 'http://www.wikidata.org/entity/Q206386'), ('currencyLabel', 'Qatari riyal'), ('maxP', '2639211')]\n",
      "[('currency', 'http://www.wikidata.org/entity/Q177882'), ('currencyLabel', 'baht'), ('maxP', '65931550')]\n",
      "[('currency', 'http://www.wikidata.org/entity/Q507737'), ('currencyLabel', 'Cook Islands dollar'), ('maxP', '17434')]\n",
      "20\n"
     ]
    }
   ],
   "source": [
    "# write your final query\n",
    "queryString = \"\"\" \n",
    "SELECT ?currency ?currencyLabel (MAX(?population) AS ?maxP)\n",
    "WHERE {\n",
    "    ?country wdt:P31 wd:Q6256 ;\n",
    "             wdt:P38 ?currency .\n",
    "    OPTIONAL {\n",
    "    ?country wdt:P1082 ?population .\n",
    "    }\n",
    "             \n",
    "    ?currency sc:name ?currencyLabel .\n",
    "}\n",
    "GROUP BY ?currency ?currencyLabel   \n",
    "LIMIT 20\n",
    "\"\"\"\n",
    "print(\"Results\")\n",
    "x=run_query(queryString)"
   ]
  }
 ],
 "metadata": {
  "kernelspec": {
   "display_name": "Python 3",
   "language": "python",
   "name": "python3"
  },
  "language_info": {
   "codemirror_mode": {
    "name": "ipython",
    "version": 3
   },
   "file_extension": ".py",
   "mimetype": "text/x-python",
   "name": "python",
   "nbconvert_exporter": "python",
   "pygments_lexer": "ipython3",
   "version": "3.7.10"
  }
 },
 "nbformat": 4,
 "nbformat_minor": 5
}
