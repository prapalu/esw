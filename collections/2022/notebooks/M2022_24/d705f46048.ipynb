{
 "cells": [
  {
   "cell_type": "markdown",
   "id": "a541e06b",
   "metadata": {},
   "source": [
    "# General instructions\n",
    "\n",
    "The goal of the project is to materialize a set of **exploratory workloads** over a real-world, large-scale,  open-domain KG: [WikiData](https://www.wikidata.org/wiki/Wikidata:Main_Page)\n",
    "\n",
    "An exploratory workload  is composed by a set of queries, where each query is related to the information obtained previously.\n",
    "\n",
    "An exploratory workload starts with a usually vague, open ended question, and does not assume the person issuing the workload has a clear understanding of the data contained in the target database or its structure.\n",
    "\n",
    "Remeber that:\n",
    "\n",
    "1. All the queries must run in the python notebook\n",
    "2. You can use classes and properties only if you find them via a SPARQL query that must be present in the notebook\n",
    "3. You do not delete useless queries. Keep everything that is synthatically valid \n",
    "\n",
    "```\n",
    "?p <http://schema.org/name> ?name .\n",
    "```\n",
    "    \n",
    "    is the BGP returning a human-readable name of a property or a class in Wikidata.\n",
    "    \n",
    "    "
   ]
  },
  {
   "cell_type": "code",
   "execution_count": 1,
   "id": "9909ff10",
   "metadata": {},
   "outputs": [],
   "source": [
    "## SETUP used later\n",
    "\n",
    "from SPARQLWrapper import SPARQLWrapper, JSON\n",
    "\n",
    "\n",
    "prefixString = \"\"\"\n",
    "##-d705f46048-##\n",
    "PREFIX wd: <http://www.wikidata.org/entity/> \n",
    "PREFIX wdt: <http://www.wikidata.org/prop/direct/> \n",
    "PREFIX sc: <http://schema.org/>\n",
    "\"\"\"\n",
    "\n",
    "# select and construct queries\n",
    "def run_query(queryString,verbose = True):\n",
    "    to_run = prefixString + \"\\n\" + queryString\n",
    "\n",
    "    sparql = SPARQLWrapper(\"http://a256-gc1-03.srv.aau.dk:5820/sparql\")\n",
    "    sparql.setTimeout(300)\n",
    "    sparql.setReturnFormat(JSON)\n",
    "    sparql.setQuery(to_run)\n",
    "\n",
    "    try :\n",
    "        results = sparql.query()\n",
    "        json_results = results.convert()\n",
    "        if len(json_results['results']['bindings'])==0:\n",
    "            print(\"Empty\")\n",
    "            return []\n",
    "        array = []\n",
    "        for bindings in json_results['results']['bindings']:\n",
    "            app =  [ (var, value['value'])  for var, value in bindings.items() ] \n",
    "            if verbose:\n",
    "                print( app)\n",
    "            array.append(app)\n",
    "        if verbose:\n",
    "            print(len(array))\n",
    "        return array\n",
    "\n",
    "    except Exception as e :\n",
    "        print(\"The operation failed\", e)\n",
    "    \n",
    "# ASk queries\n",
    "def run_ask_query(queryString):\n",
    "    to_run = prefixString + \"\\n\" + queryString\n",
    "\n",
    "    sparql = SPARQLWrapper(\"http://a256-gc1-03.srv.aau.dk:5820/sparql\")\n",
    "    sparql.setTimeout(300)\n",
    "    sparql.setReturnFormat(JSON)\n",
    "    sparql.setQuery(to_run)\n",
    "\n",
    "    try :\n",
    "        return sparql.query().convert()\n",
    "\n",
    "    except Exception as e :\n",
    "        print(\"The operation failed\", e)"
   ]
  },
  {
   "cell_type": "markdown",
   "id": "ff6d01c0",
   "metadata": {},
   "source": [
    "# Movie Workflow Series (\"Sherlock Holmes explorative search\") \n",
    "\n",
    "\n",
    "Consider the following exploratory scenario:\n",
    "\n",
    "\n",
    "> Investigate the canon of Sherlock Holmes (see https://en.wikipedia.org/wiki/Canon_of_Sherlock_Holmes) and which are the films and tv series related to the canon. We are also interested in the Emmy Awards and hiw many awards each film won. \n",
    "\n",
    "\n",
    "## Useful URIs for the current workflow\n",
    "The following are given:\n",
    "\n",
    "| IRI           | Description   | Role      |\n",
    "| -----------   | -----------   |-----------|\n",
    "| `wdt:P1647`   | subproperty   | predicate |\n",
    "| `wdt:P31`     | instance of   | predicate |\n",
    "| `wdt:P106`    | profession    | predicate | \n",
    "| `wdt:P279`    | subclass      | predicate |\n",
    "| `wd:Q35610` | Arthur Conan Doyle        | node |\n",
    "\n",
    "\n",
    "\n",
    "Also consider\n",
    "\n",
    "```\n",
    "wd:Q35610 ?p ?obj .\n",
    "```\n",
    "\n",
    "is the BGP to retrieve all **properties of Arthur Conan Doyle**\n",
    "\n",
    "Please consider that when you return a resource, you should return the IRI and the label of the resource. In particular, when the task require you to identify a BGP the result set must always be a list of couples IRI - label.\n",
    "\n",
    "The workload should:\n",
    "\n",
    "\n",
    "1. Identify the BGP for canon of Sherlock Holmes (see https://en.wikipedia.org/wiki/Canon_of_Sherlock_Holmes)\n",
    "\n",
    "2. Identify the BGP for film\n",
    "\n",
    "3. Identify the BGP for television series\n",
    "\n",
    "4. Return the year of publication (take the first one if there are more publication dates) for each film and television series related to the canon of Sherlock Holmes (the result set must be a list of triples film/tv series IRI, label and year).\n",
    "\n",
    "5. Find who acted in more than one film or tv series related to the canon of Sherlock Holmes (the result set must be a list of triples actor/actress IRI, label and #film).\n",
    "\n",
    "6. Identify the BGP for Primetime Emmy Award\n",
    "\n",
    "7. Return all the types of Primetime Emmy Award (the result set must be a list of couples award IRI and label).\n",
    "\n",
    "8. For each film and television series related to the canon of Sherlock Holmes, return the number of Primetime Emmy Awards they won (return also the objects who did not win an Award) (the result set must be a list of triples film/tv series IRI, label and #award)."
   ]
  },
  {
   "cell_type": "markdown",
   "id": "e94ddeff",
   "metadata": {},
   "source": [
    "## Task 1\n",
    "Identify the BGP for canon of Sherlock Holmes (see https://en.wikipedia.org/wiki/Canon_of_Sherlock_Holmes)"
   ]
  },
  {
   "cell_type": "code",
   "execution_count": 9,
   "id": "8f3090fd",
   "metadata": {},
   "outputs": [
    {
     "name": "stdout",
     "output_type": "stream",
     "text": [
      "Results\n",
      "[('p', 'http://www.wikidata.org/prop/direct/P4928'), ('name', 'Ricorso author ID')]\n",
      "[('p', 'http://www.wikidata.org/prop/direct/P5714'), ('name', 'Tor.com author ID')]\n",
      "[('p', 'http://www.wikidata.org/prop/direct/P9419'), ('name', 'personal library at')]\n",
      "[('p', 'http://www.wikidata.org/prop/direct/P5470'), ('name', 'Scottish Poetry Library poet ID')]\n",
      "[('p', 'http://www.wikidata.org/prop/direct/P1005'), ('name', 'Portuguese National Library ID')]\n",
      "[('p', 'http://www.wikidata.org/prop/direct/P1006'), ('name', 'Nationale Thesaurus voor Auteurs ID')]\n",
      "[('p', 'http://www.wikidata.org/prop/direct/P101'), ('name', 'field of work')]\n",
      "[('p', 'http://www.wikidata.org/prop/direct/P1015'), ('name', 'NORAF ID')]\n",
      "[('p', 'http://www.wikidata.org/prop/direct/P1017'), ('name', 'Vatican Library ID (former scheme)')]\n",
      "[('p', 'http://www.wikidata.org/prop/direct/P102'), ('name', 'member of political party')]\n",
      "[('p', 'http://www.wikidata.org/prop/direct/P103'), ('name', 'native language')]\n",
      "[('p', 'http://www.wikidata.org/prop/direct/P106'), ('name', 'occupation')]\n",
      "[('p', 'http://www.wikidata.org/prop/direct/P109'), ('name', 'signature')]\n",
      "[('p', 'http://www.wikidata.org/prop/direct/P119'), ('name', 'place of burial')]\n",
      "[('p', 'http://www.wikidata.org/prop/direct/P1196'), ('name', 'manner of death')]\n",
      "[('p', 'http://www.wikidata.org/prop/direct/P1207'), ('name', 'NUKAT ID')]\n",
      "[('p', 'http://www.wikidata.org/prop/direct/P1220'), ('name', 'Internet Broadway Database person ID')]\n",
      "[('p', 'http://www.wikidata.org/prop/direct/P1233'), ('name', 'Internet Speculative Fiction Database author ID')]\n",
      "[('p', 'http://www.wikidata.org/prop/direct/P1258'), ('name', 'Rotten Tomatoes ID')]\n",
      "[('p', 'http://www.wikidata.org/prop/direct/P1263'), ('name', 'NNDB people ID')]\n",
      "[('p', 'http://www.wikidata.org/prop/direct/P1266'), ('name', 'AlloCiné person ID')]\n",
      "[('p', 'http://www.wikidata.org/prop/direct/P1273'), ('name', 'CANTIC ID')]\n",
      "[('p', 'http://www.wikidata.org/prop/direct/P1280'), ('name', 'CONOR.SI ID')]\n",
      "[('p', 'http://www.wikidata.org/prop/direct/P1296'), ('name', 'Gran Enciclopèdia Catalana ID')]\n",
      "[('p', 'http://www.wikidata.org/prop/direct/P1309'), ('name', 'EGAXA ID')]\n",
      "[('p', 'http://www.wikidata.org/prop/direct/P1315'), ('name', 'NLA Trove ID')]\n",
      "[('p', 'http://www.wikidata.org/prop/direct/P1343'), ('name', 'described by source')]\n",
      "[('p', 'http://www.wikidata.org/prop/direct/P136'), ('name', 'genre')]\n",
      "[('p', 'http://www.wikidata.org/prop/direct/P1368'), ('name', 'LNB ID')]\n",
      "[('p', 'http://www.wikidata.org/prop/direct/P1375'), ('name', 'NSK ID')]\n",
      "30\n"
     ]
    }
   ],
   "source": [
    "# query example\n",
    "queryString = \"\"\"\n",
    "SELECT DISTINCT ?p ?name\n",
    "WHERE {\n",
    "   # bind something\n",
    "   wd:Q35610 ?p ?obj .\n",
    "   # get the label\n",
    "   ?p sc:name ?name.\n",
    "}\n",
    "LIMIT 30\n",
    "\"\"\"\n",
    "\n",
    "print(\"Results\")\n",
    "x=run_query(queryString)"
   ]
  },
  {
   "cell_type": "code",
   "execution_count": 16,
   "id": "e12e7026-e87c-486c-a697-24a5f1491c9f",
   "metadata": {},
   "outputs": [
    {
     "name": "stdout",
     "output_type": "stream",
     "text": [
      "Results\n",
      "[('p', 'http://www.wikidata.org/prop/direct/P22'), ('name', 'father'), ('obj', 'http://www.wikidata.org/entity/Q342969'), ('value', 'Charles Altamont Doyle')]\n",
      "[('p', 'http://www.wikidata.org/prop/direct/P140'), ('name', 'religion'), ('obj', 'http://www.wikidata.org/entity/Q1069127'), ('value', 'Lapsed Catholic')]\n",
      "[('p', 'http://www.wikidata.org/prop/direct/P172'), ('name', 'ethnic group'), ('obj', 'http://www.wikidata.org/entity/Q170826'), ('value', 'Irish people')]\n",
      "[('p', 'http://www.wikidata.org/prop/direct/P101'), ('name', 'field of work'), ('obj', 'http://www.wikidata.org/entity/Q208505'), ('value', 'crime novel')]\n",
      "[('p', 'http://www.wikidata.org/prop/direct/P1343'), ('name', 'described by source'), ('obj', 'http://www.wikidata.org/entity/Q16082057'), ('value', \"The New Student's Reference Work\")]\n",
      "[('p', 'http://www.wikidata.org/prop/direct/P136'), ('name', 'genre'), ('obj', 'http://www.wikidata.org/entity/Q20664817'), ('value', 'detective novel')]\n",
      "[('p', 'http://www.wikidata.org/prop/direct/P641'), ('name', 'sport'), ('obj', 'http://www.wikidata.org/entity/Q5375'), ('value', 'cricket')]\n",
      "[('p', 'http://www.wikidata.org/prop/direct/P69'), ('name', 'educated at'), ('obj', 'http://www.wikidata.org/entity/Q2274271'), ('value', 'Stonyhurst College')]\n",
      "[('p', 'http://www.wikidata.org/prop/direct/P800'), ('name', 'notable work'), ('obj', 'http://www.wikidata.org/entity/Q2316684'), ('value', 'canon of Sherlock Holmes')]\n",
      "[('p', 'http://www.wikidata.org/prop/direct/P166'), ('name', 'award received'), ('obj', 'http://www.wikidata.org/entity/Q1465984'), ('value', 'Order of Saint John')]\n",
      "[('p', 'http://www.wikidata.org/prop/direct/P102'), ('name', 'member of political party'), ('obj', 'http://www.wikidata.org/entity/Q1754707'), ('value', 'Liberal Unionist Party')]\n",
      "[('p', 'http://www.wikidata.org/prop/direct/P166'), ('name', 'award received'), ('obj', 'http://www.wikidata.org/entity/Q599024'), ('value', 'Order of the Medjidie')]\n",
      "[('p', 'http://www.wikidata.org/prop/direct/P734'), ('name', 'family name'), ('obj', 'http://www.wikidata.org/entity/Q11825166'), ('value', 'Doyle')]\n",
      "[('p', 'http://www.wikidata.org/prop/direct/P69'), ('name', 'educated at'), ('obj', 'http://www.wikidata.org/entity/Q874457'), ('value', 'Stella Matutina')]\n",
      "[('p', 'http://www.wikidata.org/prop/direct/P54'), ('name', 'member of sports team'), ('obj', 'http://www.wikidata.org/entity/Q5338280'), ('value', 'Edinburgh University RFC')]\n",
      "[('p', 'http://www.wikidata.org/prop/direct/P735'), ('name', 'given name'), ('obj', 'http://www.wikidata.org/entity/Q18175298'), ('value', 'Conan')]\n",
      "[('p', 'http://www.wikidata.org/prop/direct/P106'), ('name', 'occupation'), ('obj', 'http://www.wikidata.org/entity/Q11774202'), ('value', 'essayist')]\n",
      "[('p', 'http://www.wikidata.org/prop/direct/P166'), ('name', 'award received'), ('obj', 'http://www.wikidata.org/entity/Q1276941'), ('value', 'Order of the Crown of Italy')]\n",
      "[('p', 'http://www.wikidata.org/prop/direct/P27'), ('name', 'country of citizenship'), ('obj', 'http://www.wikidata.org/entity/Q145'), ('value', 'United Kingdom')]\n",
      "[('p', 'http://www.wikidata.org/prop/direct/P1343'), ('name', 'described by source'), ('obj', 'http://www.wikidata.org/entity/Q17329836'), ('value', 'Larousse Encyclopedia online')]\n",
      "20\n"
     ]
    }
   ],
   "source": [
    "# query example\n",
    "queryString = \"\"\"\n",
    "SELECT DISTINCT ?p ?name ?obj ?value\n",
    "WHERE {\n",
    "   # bind something\n",
    "   wd:Q35610 ?p ?obj .\n",
    "   # get the label\n",
    "   ?p sc:name ?name.\n",
    "   ?obj sc:name ?value.\n",
    "}\n",
    "LIMIT 20\n",
    "\"\"\"\n",
    "\n",
    "print(\"Results\")\n",
    "x=run_query(queryString)"
   ]
  },
  {
   "cell_type": "code",
   "execution_count": 5,
   "id": "eece8f7d-9e94-4241-8f79-e5e60e1abdf7",
   "metadata": {},
   "outputs": [
    {
     "name": "stdout",
     "output_type": "stream",
     "text": [
      "Results\n",
      "[('obj', 'http://www.wikidata.org/entity/Q4798323'), ('value', 'Arthur Conan Doyle bibliography')]\n",
      "1\n"
     ]
    }
   ],
   "source": [
    "# query example\n",
    "queryString = \"\"\"\n",
    "SELECT DISTINCT ?obj ?value\n",
    "WHERE {\n",
    "   # bind something\n",
    "   wd:Q35610 wdt:P1455 ?obj .\n",
    "   # get the label\n",
    "   ?obj sc:name ?value.\n",
    "}\n",
    "LIMIT 200\n",
    "\"\"\"\n",
    "\n",
    "print(\"Results\")\n",
    "x=run_query(queryString)"
   ]
  },
  {
   "cell_type": "code",
   "execution_count": 10,
   "id": "499c1b2f-d01c-4f8b-81f3-00dc6f3abcb5",
   "metadata": {},
   "outputs": [
    {
     "name": "stdout",
     "output_type": "stream",
     "text": [
      "Results\n",
      "[('p', 'http://www.wikidata.org/prop/direct/P31'), ('name', 'instance of'), ('obj', 'http://www.wikidata.org/entity/Q1631107'), ('value', 'bibliography')]\n",
      "[('p', 'http://www.wikidata.org/prop/direct/P50'), ('name', 'author'), ('obj', 'http://www.wikidata.org/entity/Q35610'), ('value', 'Arthur Conan Doyle')]\n",
      "[('p', 'http://www.wikidata.org/prop/direct/P1269'), ('name', 'facet of'), ('obj', 'http://www.wikidata.org/entity/Q35610'), ('value', 'Arthur Conan Doyle')]\n",
      "3\n"
     ]
    }
   ],
   "source": [
    "# query example\n",
    "queryString = \"\"\"\n",
    "SELECT DISTINCT ?p ?name ?obj ?value\n",
    "WHERE {\n",
    "   # bind something\n",
    "   wd:Q4798323 ?p ?obj .\n",
    "   # get the label\n",
    "   ?p sc:name ?name .\n",
    "   ?obj sc:name ?value .\n",
    "}\n",
    "LIMIT 200\n",
    "\"\"\"\n",
    "\n",
    "print(\"Results\")\n",
    "x=run_query(queryString)"
   ]
  },
  {
   "cell_type": "code",
   "execution_count": 12,
   "id": "f40601a5-2c73-4b42-9242-6c6eaefa0549",
   "metadata": {},
   "outputs": [
    {
     "name": "stdout",
     "output_type": "stream",
     "text": [
      "Results\n",
      "[('s', 'http://www.wikidata.org/entity/Q17630018'), ('value', 'Your Share of Fear')]\n",
      "[('s', 'http://www.wikidata.org/entity/Q22090538'), ('value', 'The Crime of the Congo')]\n",
      "[('s', 'http://www.wikidata.org/entity/Q2316684'), ('value', 'canon of Sherlock Holmes')]\n",
      "[('s', 'http://www.wikidata.org/entity/Q107410031'), ('value', 'The Adventure of the Dying Detective')]\n",
      "[('s', 'http://www.wikidata.org/entity/Q466166'), ('value', 'The Adventure of the Dying Detective')]\n",
      "[('s', 'http://www.wikidata.org/entity/Q733582'), ('value', 'His Last Bow')]\n",
      "[('s', 'http://www.wikidata.org/entity/Q1192517'), ('value', 'The Adventure of the Greek Interpreter')]\n",
      "[('s', 'http://www.wikidata.org/entity/Q3041819'), ('value', 'The Adventure of the Red Circle')]\n",
      "[('s', 'http://www.wikidata.org/entity/Q45192'), ('value', 'The Hound of the Baskervilles')]\n",
      "[('s', 'http://www.wikidata.org/entity/Q18546595'), ('value', 'Tales of Terror and Mystery')]\n",
      "[('s', 'http://www.wikidata.org/entity/Q18546597'), ('value', 'The Case of Lady Sannox')]\n",
      "[('s', 'http://www.wikidata.org/entity/Q52780831'), ('value', 'The Case of Lady Sannox')]\n",
      "[('s', 'http://www.wikidata.org/entity/Q106689677'), ('value', 'Silver Blaze')]\n",
      "[('s', 'http://www.wikidata.org/entity/Q1151761'), ('value', 'The Adventure of Silver Blaze')]\n",
      "[('s', 'http://www.wikidata.org/entity/Q1202029'), ('value', 'The Adventure of the Yellow Face')]\n",
      "[('s', 'http://www.wikidata.org/entity/Q860831'), ('value', 'The Memoirs of Sherlock Holmes')]\n",
      "[('s', 'http://www.wikidata.org/entity/Q106689781'), ('value', 'The Yellow Face')]\n",
      "[('s', 'http://www.wikidata.org/entity/Q461026'), ('value', 'The Adventure of the Red-Headed League')]\n",
      "[('s', 'http://www.wikidata.org/entity/Q4183370'), ('value', 'The Stark Munro Letters')]\n",
      "[('s', 'http://www.wikidata.org/entity/Q1193379'), ('value', 'The Five Orange Pips')]\n",
      "20\n"
     ]
    }
   ],
   "source": [
    "# query example\n",
    "queryString = \"\"\"\n",
    "SELECT ?s ?value\n",
    "WHERE {\n",
    "   # bind something\n",
    "   ?s wdt:P50 wd:Q35610 .\n",
    "   # get the label\n",
    "   ?s sc:name ?value.\n",
    "}\n",
    "LIMIT 20\n",
    "\"\"\"\n",
    "\n",
    "print(\"Results\")\n",
    "x=run_query(queryString)"
   ]
  },
  {
   "cell_type": "code",
   "execution_count": 15,
   "id": "5fd65ce2-8048-49fd-bec5-c289930bccae",
   "metadata": {},
   "outputs": [
    {
     "name": "stdout",
     "output_type": "stream",
     "text": [
      "Results\n",
      "[('obj', 'http://www.wikidata.org/entity/Q208505'), ('value', 'crime novel')]\n",
      "1\n"
     ]
    }
   ],
   "source": [
    "# query example\n",
    "queryString = \"\"\"\n",
    "SELECT ?obj ?value\n",
    "WHERE {\n",
    "   # bind something\n",
    "   wd:Q35610 wdt:P101 ?obj .\n",
    "   # get the label\n",
    "   ?obj sc:name ?value.\n",
    "}\n",
    "LIMIT 20\n",
    "\"\"\"\n",
    "\n",
    "print(\"Results\")\n",
    "x=run_query(queryString)"
   ]
  },
  {
   "cell_type": "markdown",
   "id": "944201e1",
   "metadata": {},
   "source": [
    "Final query for this task"
   ]
  },
  {
   "cell_type": "code",
   "execution_count": 14,
   "id": "a9e5c95b",
   "metadata": {},
   "outputs": [
    {
     "name": "stdout",
     "output_type": "stream",
     "text": [
      "Results\n",
      "[('p', 'http://www.wikidata.org/prop/direct/P136'), ('name', 'genre')]\n",
      "[('p', 'http://www.wikidata.org/prop/direct/P31'), ('name', 'instance of')]\n",
      "[('p', 'http://www.wikidata.org/prop/direct/P373'), ('name', 'Commons category')]\n",
      "[('p', 'http://www.wikidata.org/prop/direct/P4969'), ('name', 'derivative work')]\n",
      "[('p', 'http://www.wikidata.org/prop/direct/P50'), ('name', 'author')]\n",
      "[('p', 'http://www.wikidata.org/prop/direct/P527'), ('name', 'has part')]\n",
      "[('p', 'http://www.wikidata.org/prop/direct/P646'), ('name', 'Freebase ID')]\n",
      "[('p', 'http://www.wikidata.org/prop/direct/P674'), ('name', 'characters')]\n",
      "[('p', 'http://www.wikidata.org/prop/direct/P6839'), ('name', 'TV Tropes identifier')]\n",
      "[('p', 'http://www.wikidata.org/prop/direct/P8895'), ('name', 'All the Tropes identifier')]\n",
      "[('p', 'http://www.wikidata.org/prop/direct/P910'), ('name', \"topic's main category\")]\n",
      "11\n"
     ]
    }
   ],
   "source": [
    "# write your final query\n",
    "queryString = \"\"\"\n",
    "SELECT DISTINCT ?p ?name\n",
    "WHERE {\n",
    "   # bind something\n",
    "   wd:Q2316684 ?p ?obj .\n",
    "   # get the label\n",
    "   ?p sc:name ?name.\n",
    "}\n",
    "LIMIT 30\n",
    "\"\"\"\n",
    "\n",
    "print(\"Results\")\n",
    "x=run_query(queryString)"
   ]
  },
  {
   "cell_type": "markdown",
   "id": "4b387a2f",
   "metadata": {},
   "source": [
    "## Task 2\n",
    "Identify the BGP for film"
   ]
  },
  {
   "cell_type": "code",
   "execution_count": 31,
   "id": "51ed3619",
   "metadata": {},
   "outputs": [
    {
     "name": "stdout",
     "output_type": "stream",
     "text": [
      "Results\n",
      "[('p', 'http://www.wikidata.org/prop/direct/P4969'), ('name', 'derivative work'), ('obj', 'http://www.wikidata.org/entity/Q1764019'), ('value', 'Sherlock Holmes')]\n",
      "[('p', 'http://www.wikidata.org/prop/direct/P527'), ('name', 'has part'), ('obj', 'http://www.wikidata.org/entity/Q733582'), ('value', 'His Last Bow')]\n",
      "[('p', 'http://www.wikidata.org/prop/direct/P527'), ('name', 'has part'), ('obj', 'http://www.wikidata.org/entity/Q45192'), ('value', 'The Hound of the Baskervilles')]\n",
      "[('p', 'http://www.wikidata.org/prop/direct/P31'), ('name', 'instance of'), ('obj', 'http://www.wikidata.org/entity/Q277759'), ('value', 'book series')]\n",
      "[('p', 'http://www.wikidata.org/prop/direct/P527'), ('name', 'has part'), ('obj', 'http://www.wikidata.org/entity/Q860831'), ('value', 'The Memoirs of Sherlock Holmes')]\n",
      "[('p', 'http://www.wikidata.org/prop/direct/P31'), ('name', 'instance of'), ('obj', 'http://www.wikidata.org/entity/Q1631107'), ('value', 'bibliography')]\n",
      "[('p', 'http://www.wikidata.org/prop/direct/P136'), ('name', 'genre'), ('obj', 'http://www.wikidata.org/entity/Q6585139'), ('value', 'mystery fiction')]\n",
      "[('p', 'http://www.wikidata.org/prop/direct/P674'), ('name', 'characters'), ('obj', 'http://www.wikidata.org/entity/Q1067723'), ('value', 'Inspector Lestrade')]\n",
      "[('p', 'http://www.wikidata.org/prop/direct/P674'), ('name', 'characters'), ('obj', 'http://www.wikidata.org/entity/Q187349'), ('value', 'Dr. John Watson')]\n",
      "[('p', 'http://www.wikidata.org/prop/direct/P527'), ('name', 'has part'), ('obj', 'http://www.wikidata.org/entity/Q223131'), ('value', 'A Study in Scarlet')]\n",
      "[('p', 'http://www.wikidata.org/prop/direct/P50'), ('name', 'author'), ('obj', 'http://www.wikidata.org/entity/Q35610'), ('value', 'Arthur Conan Doyle')]\n",
      "[('p', 'http://www.wikidata.org/prop/direct/P674'), ('name', 'characters'), ('obj', 'http://www.wikidata.org/entity/Q4653'), ('value', 'Sherlock Holmes')]\n",
      "[('p', 'http://www.wikidata.org/prop/direct/P527'), ('name', 'has part'), ('obj', 'http://www.wikidata.org/entity/Q500688'), ('value', 'The Sign of the Four')]\n",
      "[('p', 'http://www.wikidata.org/prop/direct/P4969'), ('name', 'derivative work'), ('obj', 'http://www.wikidata.org/entity/Q192837'), ('value', 'Sherlock')]\n",
      "[('p', 'http://www.wikidata.org/prop/direct/P674'), ('name', 'characters'), ('obj', 'http://www.wikidata.org/entity/Q283111'), ('value', 'Professor Moriarty')]\n",
      "[('p', 'http://www.wikidata.org/prop/direct/P527'), ('name', 'has part'), ('obj', 'http://www.wikidata.org/entity/Q863438'), ('value', 'The Valley of Fear')]\n",
      "[('p', 'http://www.wikidata.org/prop/direct/P527'), ('name', 'has part'), ('obj', 'http://www.wikidata.org/entity/Q1129378'), ('value', 'The Case-Book of Sherlock Holmes')]\n",
      "[('p', 'http://www.wikidata.org/prop/direct/P31'), ('name', 'instance of'), ('obj', 'http://www.wikidata.org/entity/Q53815'), ('value', 'canon')]\n",
      "[('p', 'http://www.wikidata.org/prop/direct/P527'), ('name', 'has part'), ('obj', 'http://www.wikidata.org/entity/Q392147'), ('value', 'The Adventures of Sherlock Holmes')]\n",
      "[('p', 'http://www.wikidata.org/prop/direct/P674'), ('name', 'characters'), ('obj', 'http://www.wikidata.org/entity/Q2456753'), ('value', 'Mrs. Hudson')]\n",
      "[('p', 'http://www.wikidata.org/prop/direct/P4969'), ('name', 'derivative work'), ('obj', 'http://www.wikidata.org/entity/Q247643'), ('value', 'Elementary')]\n",
      "[('p', 'http://www.wikidata.org/prop/direct/P4969'), ('name', 'derivative work'), ('obj', 'http://www.wikidata.org/entity/Q4523158'), ('value', 'Sherlock Holmes')]\n",
      "[('p', 'http://www.wikidata.org/prop/direct/P4969'), ('name', 'derivative work'), ('obj', 'http://www.wikidata.org/entity/Q200396'), ('value', 'Sherlock Holmes')]\n",
      "[('p', 'http://www.wikidata.org/prop/direct/P4969'), ('name', 'derivative work'), ('obj', 'http://www.wikidata.org/entity/Q1210893'), ('value', 'The Adventures of Sherlock Holmes and Dr. Watson')]\n",
      "[('p', 'http://www.wikidata.org/prop/direct/P674'), ('name', 'characters'), ('obj', 'http://www.wikidata.org/entity/Q1616457'), ('value', 'Mycroft Holmes')]\n",
      "[('p', 'http://www.wikidata.org/prop/direct/P527'), ('name', 'has part'), ('obj', 'http://www.wikidata.org/entity/Q725752'), ('value', 'The Return of Sherlock Holmes')]\n",
      "[('p', 'http://www.wikidata.org/prop/direct/P4969'), ('name', 'derivative work'), ('obj', 'http://www.wikidata.org/entity/Q387306'), ('value', 'Sherlock Holmes')]\n",
      "[('p', 'http://www.wikidata.org/prop/direct/P4969'), ('name', 'derivative work'), ('obj', 'http://www.wikidata.org/entity/Q243643'), ('value', 'Sherlock Holmes: A Game of Shadows')]\n",
      "28\n"
     ]
    }
   ],
   "source": [
    "# write your queries\n",
    "queryString = \"\"\"\n",
    "SELECT DISTINCT ?p ?name ?obj ?value\n",
    "WHERE {\n",
    "   # bind something\n",
    "   wd:Q2316684 ?p ?obj .\n",
    "   # get the label\n",
    "   ?p sc:name ?name.\n",
    "   ?obj sc:name ?value\n",
    "}\n",
    "LIMIT 30\n",
    "\"\"\"\n",
    "\n",
    "print(\"Results\")\n",
    "x=run_query(queryString)"
   ]
  },
  {
   "cell_type": "code",
   "execution_count": 28,
   "id": "3a977f1d-50c0-4791-9516-ce4fccc110f6",
   "metadata": {},
   "outputs": [
    {
     "name": "stdout",
     "output_type": "stream",
     "text": [
      "Results\n",
      "[('s', 'http://www.wikidata.org/entity/Q8204826'), ('value', 'Harpist of Keros'), ('obj', 'http://www.wikidata.org/entity/Q2586345'), ('name', 'Cycladic art')]\n",
      "[('s', 'http://www.wikidata.org/entity/Q8195511'), ('value', 'Ayinde Barrister'), ('obj', 'http://www.wikidata.org/entity/Q3509353'), ('name', 'fuji music')]\n",
      "[('s', 'http://www.wikidata.org/entity/Q15730544'), ('value', 'Crying for No Reason'), ('obj', 'http://www.wikidata.org/entity/Q1987980'), ('name', 'breakstep')]\n",
      "[('s', 'http://www.wikidata.org/entity/Q15732538'), ('value', 'Chapliniana'), ('obj', 'http://www.wikidata.org/entity/Q4484381'), ('name', 'ballet film')]\n",
      "[('s', 'http://www.wikidata.org/entity/Q15731615'), ('value', 'Scribblenauts Unmasked: A DC Comics Adventure'), ('obj', 'http://www.wikidata.org/entity/Q5370763'), ('name', 'emergent gameplay')]\n",
      "[('s', 'http://www.wikidata.org/entity/Q104891471'), ('value', 'Ajin'), ('obj', 'http://www.wikidata.org/entity/Q61942616'), ('name', 'supernatural anime and manga')]\n",
      "[('s', 'http://www.wikidata.org/entity/Q15732099'), ('value', 'Ajin'), ('obj', 'http://www.wikidata.org/entity/Q61942616'), ('name', 'supernatural anime and manga')]\n",
      "[('s', 'http://www.wikidata.org/entity/Q15917743'), ('value', 'Rygar'), ('obj', 'http://www.wikidata.org/entity/Q4049849'), ('name', 'spacesynth')]\n",
      "[('s', 'http://www.wikidata.org/entity/Q16202878'), ('value', 'Amoeba Cleansing Syndrome'), ('obj', 'http://www.wikidata.org/entity/Q105334717'), ('name', 'progressive soul')]\n",
      "[('s', 'http://www.wikidata.org/entity/Q16218086'), ('value', 'Love Steaks'), ('obj', 'http://www.wikidata.org/entity/Q1108032'), ('name', 'Mumblecore')]\n",
      "[('s', 'http://www.wikidata.org/entity/Q16199874'), ('value', 'Nimrod Borenstein'), ('obj', 'http://www.wikidata.org/entity/Q4851628'), ('name', 'ballet')]\n",
      "[('s', 'http://www.wikidata.org/entity/Q1548199'), ('value', 'Shakey Jake Harris'), ('obj', 'http://www.wikidata.org/entity/Q1071873'), ('name', 'Chicago blues')]\n",
      "[('s', 'http://www.wikidata.org/entity/Q2609127'), ('value', 'Da Funk'), ('obj', 'http://www.wikidata.org/entity/Q341364'), ('name', 'acid house')]\n",
      "[('s', 'http://www.wikidata.org/entity/Q15738529'), ('value', 'Lee Kwang-ki'), ('obj', 'http://www.wikidata.org/entity/Q485915'), ('name', 'trot')]\n",
      "[('s', 'http://www.wikidata.org/entity/Q16171528'), ('value', 'Seo In-ah'), ('obj', 'http://www.wikidata.org/entity/Q485915'), ('name', 'trot')]\n",
      "[('s', 'http://www.wikidata.org/entity/Q16179697'), ('value', 'Kim Ji-ae'), ('obj', 'http://www.wikidata.org/entity/Q485915'), ('name', 'trot')]\n",
      "[('s', 'http://www.wikidata.org/entity/Q7116755'), ('value', 'Oöphoi'), ('obj', 'http://www.wikidata.org/entity/Q756956'), ('name', 'dark ambient')]\n",
      "[('s', 'http://www.wikidata.org/entity/Q672432'), ('value', 'Necrophagist'), ('obj', 'http://www.wikidata.org/entity/Q1076092'), ('name', 'technical death metal')]\n",
      "[('s', 'http://www.wikidata.org/entity/Q15842558'), ('value', 'Rivers of Nihil'), ('obj', 'http://www.wikidata.org/entity/Q1076092'), ('name', 'technical death metal')]\n",
      "[('s', 'http://www.wikidata.org/entity/Q8209260'), ('value', 'Aura Hiemis'), ('obj', 'http://www.wikidata.org/entity/Q2089511'), ('name', 'death-doom')]\n",
      "[('s', 'http://www.wikidata.org/entity/Q15488745'), ('value', 'Rich Homie Quan'), ('obj', 'http://www.wikidata.org/entity/Q2913982'), ('name', 'trap music')]\n",
      "[('s', 'http://www.wikidata.org/entity/Q15916876'), ('value', 'Flawless'), ('obj', 'http://www.wikidata.org/entity/Q2913982'), ('name', 'trap music')]\n",
      "[('s', 'http://www.wikidata.org/entity/Q18563552'), ('value', '7/11'), ('obj', 'http://www.wikidata.org/entity/Q2913982'), ('name', 'trap music')]\n",
      "[('s', 'http://www.wikidata.org/entity/Q16192690'), ('value', 'Gana El Maghnaoui'), ('obj', 'http://www.wikidata.org/entity/Q839029'), ('name', 'Raï')]\n",
      "[('s', 'http://www.wikidata.org/entity/Q16030653'), ('value', 'William McKenzie Morrison'), ('obj', 'http://www.wikidata.org/entity/Q612277'), ('name', 'theatrical photography')]\n",
      "[('s', 'http://www.wikidata.org/entity/Q8187529'), ('value', 'A Studio at Les Batignolles'), ('obj', 'http://www.wikidata.org/entity/Q1551015'), ('name', 'group portrait')]\n",
      "[('s', 'http://www.wikidata.org/entity/Q2337999'), ('value', 'Danny Brown'), ('obj', 'http://www.wikidata.org/entity/Q2517263'), ('name', 'Midwest hip hop')]\n",
      "[('s', 'http://www.wikidata.org/entity/Q16057852'), ('value', 'Aajcha Divas Majha'), ('obj', 'http://www.wikidata.org/entity/Q2973201'), ('name', 'political film')]\n",
      "[('s', 'http://www.wikidata.org/entity/Q16203370'), ('value', 'Hillary 1984'), ('obj', 'http://www.wikidata.org/entity/Q2973201'), ('name', 'political film')]\n",
      "[('s', 'http://www.wikidata.org/entity/Q672432'), ('value', 'Necrophagist'), ('obj', 'http://www.wikidata.org/entity/Q475221'), ('name', 'deathcore')]\n",
      "30\n"
     ]
    }
   ],
   "source": [
    "queryString = \"\"\"\n",
    "SELECT DISTINCT ?s ?value ?obj ?name\n",
    "WHERE {\n",
    "   # bind something\n",
    "   ?s wdt:P136 ?obj .\n",
    "   # get the label\n",
    "   ?s sc:name ?value .\n",
    "   ?obj sc:name ?name .\n",
    "}\n",
    "LIMIT 30\n",
    "\"\"\"\n",
    "\n",
    "print(\"Results\")\n",
    "x=run_query(queryString)"
   ]
  },
  {
   "cell_type": "code",
   "execution_count": 23,
   "id": "8c32cd16-58a3-48f3-ad0c-118a87c33d42",
   "metadata": {},
   "outputs": [
    {
     "name": "stdout",
     "output_type": "stream",
     "text": [
      "Results\n",
      "[('obj', 'http://www.wikidata.org/entity/Q11424'), ('name', 'film')]\n",
      "1\n"
     ]
    }
   ],
   "source": [
    "# Q4484381: ballet fim is sublass of\n",
    "queryString = \"\"\"\n",
    "SELECT DISTINCT ?obj ?name\n",
    "WHERE {\n",
    "   # bind something\n",
    "   wd:Q4484381 wdt:P279 ?obj .\n",
    "   # get the label\n",
    "   ?obj sc:name ?name .\n",
    "}\n",
    "LIMIT 30\n",
    "\"\"\"\n",
    "\n",
    "print(\"Results\")\n",
    "x=run_query(queryString)"
   ]
  },
  {
   "cell_type": "markdown",
   "id": "4a770e01",
   "metadata": {},
   "source": [
    "Final query for this task"
   ]
  },
  {
   "cell_type": "code",
   "execution_count": 24,
   "id": "5c77c8e8",
   "metadata": {},
   "outputs": [
    {
     "name": "stdout",
     "output_type": "stream",
     "text": [
      "Results\n",
      "[('p', 'http://www.wikidata.org/prop/direct/P1014'), ('name', 'Art & Architecture Thesaurus ID')]\n",
      "[('p', 'http://www.wikidata.org/prop/direct/P1036'), ('name', 'Dewey Decimal Classification')]\n",
      "[('p', 'http://www.wikidata.org/prop/direct/P1051'), ('name', 'PSH ID')]\n",
      "[('p', 'http://www.wikidata.org/prop/direct/P1151'), ('name', \"topic's main Wikimedia portal\")]\n",
      "[('p', 'http://www.wikidata.org/prop/direct/P1225'), ('name', 'U.S. National Archives Identifier')]\n",
      "[('p', 'http://www.wikidata.org/prop/direct/P1245'), ('name', 'OmegaWiki Defined Meaning')]\n",
      "[('p', 'http://www.wikidata.org/prop/direct/P1256'), ('name', 'Iconclass notation')]\n",
      "[('p', 'http://www.wikidata.org/prop/direct/P1343'), ('name', 'described by source')]\n",
      "[('p', 'http://www.wikidata.org/prop/direct/P1368'), ('name', 'LNB ID')]\n",
      "[('p', 'http://www.wikidata.org/prop/direct/P1417'), ('name', 'Encyclopædia Britannica Online ID')]\n",
      "[('p', 'http://www.wikidata.org/prop/direct/P1424'), ('name', \"topic's main template\")]\n",
      "[('p', 'http://www.wikidata.org/prop/direct/P1617'), ('name', 'BBC Things ID')]\n",
      "[('p', 'http://www.wikidata.org/prop/direct/P1709'), ('name', 'equivalent class')]\n",
      "[('p', 'http://www.wikidata.org/prop/direct/P18'), ('name', 'image')]\n",
      "[('p', 'http://www.wikidata.org/prop/direct/P1889'), ('name', 'different from')]\n",
      "[('p', 'http://www.wikidata.org/prop/direct/P1963'), ('name', 'properties for this type')]\n",
      "[('p', 'http://www.wikidata.org/prop/direct/P2167'), ('name', 'UNSPSC Code')]\n",
      "[('p', 'http://www.wikidata.org/prop/direct/P227'), ('name', 'GND ID')]\n",
      "[('p', 'http://www.wikidata.org/prop/direct/P2347'), ('name', 'YSO ID')]\n",
      "[('p', 'http://www.wikidata.org/prop/direct/P244'), ('name', 'Library of Congress authority ID')]\n",
      "[('p', 'http://www.wikidata.org/prop/direct/P2579'), ('name', 'studied by')]\n",
      "[('p', 'http://www.wikidata.org/prop/direct/P2581'), ('name', 'BabelNet ID')]\n",
      "[('p', 'http://www.wikidata.org/prop/direct/P2612'), ('name', 'TED topic ID')]\n",
      "[('p', 'http://www.wikidata.org/prop/direct/P268'), ('name', 'Bibliothèque nationale de France ID')]\n",
      "[('p', 'http://www.wikidata.org/prop/direct/P279'), ('name', 'subclass of')]\n",
      "[('p', 'http://www.wikidata.org/prop/direct/P2888'), ('name', 'exact match')]\n",
      "[('p', 'http://www.wikidata.org/prop/direct/P2959'), ('name', 'permanent duplicated item')]\n",
      "[('p', 'http://www.wikidata.org/prop/direct/P3106'), ('name', 'Guardian topic ID')]\n",
      "[('p', 'http://www.wikidata.org/prop/direct/P3221'), ('name', 'New York Times topic ID')]\n",
      "[('p', 'http://www.wikidata.org/prop/direct/P3417'), ('name', 'Quora topic ID')]\n",
      "30\n"
     ]
    }
   ],
   "source": [
    "# write your final query\n",
    "queryString = \"\"\"\n",
    "SELECT DISTINCT ?p ?name\n",
    "WHERE {\n",
    "   # bind something\n",
    "   wd:Q11424 ?p ?obj .\n",
    "   # get the label\n",
    "   ?p sc:name ?name.\n",
    "}\n",
    "LIMIT 30\n",
    "\"\"\"\n",
    "\n",
    "print(\"Results\")\n",
    "x=run_query(queryString)"
   ]
  },
  {
   "cell_type": "markdown",
   "id": "96e3954b",
   "metadata": {},
   "source": [
    "## Task 3\n",
    "Identify the BGP for television series"
   ]
  },
  {
   "cell_type": "code",
   "execution_count": 25,
   "id": "2104a7a3",
   "metadata": {},
   "outputs": [
    {
     "name": "stdout",
     "output_type": "stream",
     "text": [
      "Results\n",
      "[('s', 'http://www.wikidata.org/entity/Q5145881'), ('value', 'collage film')]\n",
      "[('s', 'http://www.wikidata.org/entity/Q63302132'), ('value', 'film scored by this composer')]\n",
      "[('s', 'http://www.wikidata.org/entity/Q4484381'), ('value', 'ballet film')]\n",
      "[('s', 'http://www.wikidata.org/entity/Q3072043'), ('value', 'dance film')]\n",
      "[('s', 'http://www.wikidata.org/entity/Q430525'), ('value', 'concert film')]\n",
      "[('s', 'http://www.wikidata.org/entity/Q89928742'), ('value', 'non-existent film')]\n",
      "[('s', 'http://www.wikidata.org/entity/Q663106'), ('value', 'buddy film')]\n",
      "[('s', 'http://www.wikidata.org/entity/Q73504838'), ('value', 'Teenage Mutant Ninja Turtles film')]\n",
      "[('s', 'http://www.wikidata.org/entity/Q18011171'), ('value', 'unfinished or abandoned film project')]\n",
      "[('s', 'http://www.wikidata.org/entity/Q2143665'), ('value', \"children's film\")]\n",
      "[('s', 'http://www.wikidata.org/entity/Q1935609'), ('value', 'propaganda film')]\n",
      "[('s', 'http://www.wikidata.org/entity/Q102706436'), ('value', 'magic realist film')]\n",
      "[('s', 'http://www.wikidata.org/entity/Q1067324'), ('value', 'exploitation film')]\n",
      "[('s', 'http://www.wikidata.org/entity/Q336144'), ('value', 'anthology film')]\n",
      "[('s', 'http://www.wikidata.org/entity/Q61283808'), ('value', 'Star Trek film')]\n",
      "[('s', 'http://www.wikidata.org/entity/Q1257444'), ('value', 'film adaptation')]\n",
      "[('s', 'http://www.wikidata.org/entity/Q7858343'), ('value', 'twin films')]\n",
      "[('s', 'http://www.wikidata.org/entity/Q1251417'), ('value', 'double feature')]\n",
      "[('s', 'http://www.wikidata.org/entity/Q17123180'), ('value', 'sequel film')]\n",
      "[('s', 'http://www.wikidata.org/entity/Q1054574'), ('value', 'romance film')]\n",
      "[('s', 'http://www.wikidata.org/entity/Q130232'), ('value', 'drama')]\n",
      "[('s', 'http://www.wikidata.org/entity/Q157443'), ('value', 'comedy film')]\n",
      "[('s', 'http://www.wikidata.org/entity/Q185529'), ('value', 'pornographic film')]\n",
      "[('s', 'http://www.wikidata.org/entity/Q188473'), ('value', 'action film')]\n",
      "[('s', 'http://www.wikidata.org/entity/Q200092'), ('value', 'horror film')]\n",
      "[('s', 'http://www.wikidata.org/entity/Q369747'), ('value', 'war film')]\n",
      "[('s', 'http://www.wikidata.org/entity/Q506240'), ('value', 'television film')]\n",
      "[('s', 'http://www.wikidata.org/entity/Q645928'), ('value', 'biographical film')]\n",
      "[('s', 'http://www.wikidata.org/entity/Q202866'), ('value', 'animated film')]\n",
      "[('s', 'http://www.wikidata.org/entity/Q219557'), ('value', 'cult film')]\n",
      "30\n"
     ]
    }
   ],
   "source": [
    "# write your queries\n",
    "queryString = \"\"\"\n",
    "SELECT DISTINCT ?s ?value\n",
    "WHERE {\n",
    "   # bind something\n",
    "   ?s wdt:P279 wd:Q11424 .\n",
    "   # get the label\n",
    "   ?s sc:name ?value .\n",
    "}\n",
    "LIMIT 30\n",
    "\"\"\"\n",
    "\n",
    "print(\"Results\")\n",
    "x=run_query(queryString)"
   ]
  },
  {
   "cell_type": "code",
   "execution_count": 35,
   "id": "c870474c-1b5a-41f4-990b-b97618bc2408",
   "metadata": {},
   "outputs": [
    {
     "name": "stdout",
     "output_type": "stream",
     "text": [
      "Results\n",
      "[('obj', 'http://www.wikidata.org/entity/Q2586345'), ('name', 'Cycladic art')]\n",
      "[('obj', 'http://www.wikidata.org/entity/Q3509353'), ('name', 'fuji music')]\n",
      "[('obj', 'http://www.wikidata.org/entity/Q1987980'), ('name', 'breakstep')]\n",
      "[('obj', 'http://www.wikidata.org/entity/Q4484381'), ('name', 'ballet film')]\n",
      "[('obj', 'http://www.wikidata.org/entity/Q5370763'), ('name', 'emergent gameplay')]\n",
      "[('obj', 'http://www.wikidata.org/entity/Q61942616'), ('name', 'supernatural anime and manga')]\n",
      "[('obj', 'http://www.wikidata.org/entity/Q4049849'), ('name', 'spacesynth')]\n",
      "[('obj', 'http://www.wikidata.org/entity/Q105334717'), ('name', 'progressive soul')]\n",
      "[('obj', 'http://www.wikidata.org/entity/Q1108032'), ('name', 'Mumblecore')]\n",
      "[('obj', 'http://www.wikidata.org/entity/Q4851628'), ('name', 'ballet')]\n",
      "[('obj', 'http://www.wikidata.org/entity/Q1071873'), ('name', 'Chicago blues')]\n",
      "[('obj', 'http://www.wikidata.org/entity/Q341364'), ('name', 'acid house')]\n",
      "[('obj', 'http://www.wikidata.org/entity/Q485915'), ('name', 'trot')]\n",
      "[('obj', 'http://www.wikidata.org/entity/Q756956'), ('name', 'dark ambient')]\n",
      "[('obj', 'http://www.wikidata.org/entity/Q1076092'), ('name', 'technical death metal')]\n",
      "[('obj', 'http://www.wikidata.org/entity/Q2089511'), ('name', 'death-doom')]\n",
      "[('obj', 'http://www.wikidata.org/entity/Q2913982'), ('name', 'trap music')]\n",
      "[('obj', 'http://www.wikidata.org/entity/Q839029'), ('name', 'Raï')]\n",
      "[('obj', 'http://www.wikidata.org/entity/Q612277'), ('name', 'theatrical photography')]\n",
      "[('obj', 'http://www.wikidata.org/entity/Q1551015'), ('name', 'group portrait')]\n",
      "20\n"
     ]
    }
   ],
   "source": [
    "queryString = \"\"\"\n",
    "SELECT DISTINCT ?obj ?name\n",
    "WHERE {\n",
    "   # bind something\n",
    "   ?s wdt:P136 ?obj .\n",
    "   # get the label\n",
    "   ?s sc:name ?value .\n",
    "   ?obj sc:name ?name .\n",
    "}\n",
    "LIMIT 20\n",
    "\"\"\"\n",
    "\n",
    "print(\"Results\")\n",
    "x=run_query(queryString)"
   ]
  },
  {
   "cell_type": "code",
   "execution_count": 34,
   "id": "cbf48eda-edc6-4bc9-8754-a18aa1454ea9",
   "metadata": {},
   "outputs": [
    {
     "name": "stdout",
     "output_type": "stream",
     "text": [
      "Results\n",
      "[('obj', 'http://www.wikidata.org/entity/Q15416'), ('name', 'television program')]\n",
      "[('obj', 'http://www.wikidata.org/entity/Q21010853'), ('name', 'drama')]\n",
      "[('obj', 'http://www.wikidata.org/entity/Q5398426'), ('name', 'television series')]\n",
      "3\n"
     ]
    }
   ],
   "source": [
    "# Q1366112 drama television series\n",
    "queryString = \"\"\"\n",
    "SELECT DISTINCT ?obj ?name\n",
    "WHERE {\n",
    "   # bind something\n",
    "   wd:Q1366112 wdt:P279 ?obj .\n",
    "   # get the label\n",
    "   ?obj sc:name ?name .\n",
    "}\n",
    "LIMIT 30\n",
    "\"\"\"\n",
    "\n",
    "print(\"Results\")\n",
    "x=run_query(queryString)"
   ]
  },
  {
   "cell_type": "markdown",
   "id": "f3a22838",
   "metadata": {},
   "source": [
    "Final query for this task"
   ]
  },
  {
   "cell_type": "code",
   "execution_count": 36,
   "id": "5bd0b119",
   "metadata": {},
   "outputs": [
    {
     "name": "stdout",
     "output_type": "stream",
     "text": [
      "Results\n",
      "[('p', 'http://www.wikidata.org/prop/direct/P9374'), ('name', 'ODLIS ID')]\n",
      "[('p', 'http://www.wikidata.org/prop/direct/P1296'), ('name', 'Gran Enciclopèdia Catalana ID')]\n",
      "[('p', 'http://www.wikidata.org/prop/direct/P1424'), ('name', \"topic's main template\")]\n",
      "[('p', 'http://www.wikidata.org/prop/direct/P1709'), ('name', 'equivalent class')]\n",
      "[('p', 'http://www.wikidata.org/prop/direct/P1889'), ('name', 'different from')]\n",
      "[('p', 'http://www.wikidata.org/prop/direct/P1963'), ('name', 'properties for this type')]\n",
      "[('p', 'http://www.wikidata.org/prop/direct/P227'), ('name', 'GND ID')]\n",
      "[('p', 'http://www.wikidata.org/prop/direct/P2670'), ('name', 'has parts of the class')]\n",
      "[('p', 'http://www.wikidata.org/prop/direct/P2671'), ('name', 'Google Knowledge Graph ID')]\n",
      "[('p', 'http://www.wikidata.org/prop/direct/P279'), ('name', 'subclass of')]\n",
      "[('p', 'http://www.wikidata.org/prop/direct/P3219'), ('name', 'Encyclopædia Universalis ID')]\n",
      "[('p', 'http://www.wikidata.org/prop/direct/P3417'), ('name', 'Quora topic ID')]\n",
      "[('p', 'http://www.wikidata.org/prop/direct/P3479'), ('name', 'Omni topic ID')]\n",
      "[('p', 'http://www.wikidata.org/prop/direct/P3569'), ('name', 'Cultureel Woordenboek ID')]\n",
      "[('p', 'http://www.wikidata.org/prop/direct/P373'), ('name', 'Commons category')]\n",
      "[('p', 'http://www.wikidata.org/prop/direct/P4953'), ('name', 'Library of Congress Genre/Form Terms ID')]\n",
      "[('p', 'http://www.wikidata.org/prop/direct/P5869'), ('name', 'model item')]\n",
      "[('p', 'http://www.wikidata.org/prop/direct/P6104'), ('name', 'maintained by WikiProject')]\n",
      "[('p', 'http://www.wikidata.org/prop/direct/P6186'), ('name', 'category for eponymous categories')]\n",
      "[('p', 'http://www.wikidata.org/prop/direct/P7818'), ('name', 'French Vikidia ID')]\n",
      "[('p', 'http://www.wikidata.org/prop/direct/P8408'), ('name', 'KBpedia ID')]\n",
      "[('p', 'http://www.wikidata.org/prop/direct/P8419'), ('name', 'Archive of Our Own tag')]\n",
      "[('p', 'http://www.wikidata.org/prop/direct/P910'), ('name', \"topic's main category\")]\n",
      "[('p', 'http://www.wikidata.org/prop/direct/P9318'), ('name', 'Ávvir topic ID')]\n",
      "[('p', 'http://www.wikidata.org/prop/direct/P8979'), ('name', 'DataTrek ID')]\n",
      "25\n"
     ]
    }
   ],
   "source": [
    "# write your final query\n",
    "queryString = \"\"\"\n",
    "SELECT DISTINCT ?p ?name\n",
    "WHERE {\n",
    "   # bind something\n",
    "   wd:Q5398426 ?p ?obj .\n",
    "   # get the label\n",
    "   ?p sc:name ?name.\n",
    "}\n",
    "LIMIT 30\n",
    "\"\"\"\n",
    "\n",
    "print(\"Results\")\n",
    "x=run_query(queryString)"
   ]
  },
  {
   "cell_type": "markdown",
   "id": "34400d99",
   "metadata": {},
   "source": [
    "## Task 4\n",
    "Return the year of publication (take the first one if there are more publication dates) for each film and television series related to the canon of Sherlock Holmes (the result set must be a list of triples film/tv series IRI, label and year)."
   ]
  },
  {
   "cell_type": "code",
   "execution_count": 8,
   "id": "0f62a277",
   "metadata": {},
   "outputs": [
    {
     "name": "stdout",
     "output_type": "stream",
     "text": [
      "Results\n",
      "[('s', 'http://www.wikidata.org/entity/Q1154217'), ('name', 'Ironfist Chinmi')]\n",
      "[('s', 'http://www.wikidata.org/entity/Q691528'), ('name', 'Wallace and Gromit')]\n",
      "[('s', 'http://www.wikidata.org/entity/Q8193809'), ('name', 'Shomuni')]\n",
      "[('s', 'http://www.wikidata.org/entity/Q33323'), ('name', 'Everybody Hates Chris')]\n",
      "[('s', 'http://www.wikidata.org/entity/Q500769'), ('name', 'Freaks and Geeks')]\n",
      "[('s', 'http://www.wikidata.org/entity/Q8350955'), ('name', 'Cordel Encantado')]\n",
      "[('s', 'http://www.wikidata.org/entity/Q1145054'), ('name', 'The NBC Mystery Movie')]\n",
      "[('s', 'http://www.wikidata.org/entity/Q344081'), ('name', 'Recess')]\n",
      "[('s', 'http://www.wikidata.org/entity/Q13647845'), ('name', 'Grijpstra & De Gier')]\n",
      "[('s', 'http://www.wikidata.org/entity/Q708661'), ('name', 'Lindenstraße')]\n",
      "[('s', 'http://www.wikidata.org/entity/Q15099450'), ('name', 'Prime Minister and I')]\n",
      "[('s', 'http://www.wikidata.org/entity/Q15476155'), ('name', 'The Full Sun')]\n",
      "[('s', 'http://www.wikidata.org/entity/Q15933273'), ('name', 'Big Man')]\n",
      "[('s', 'http://www.wikidata.org/entity/Q548335'), ('name', 'Angelina Ballerina')]\n",
      "[('s', 'http://www.wikidata.org/entity/Q15581035'), ('name', 'El cielo es para todos')]\n",
      "[('s', 'http://www.wikidata.org/entity/Q15594658'), ('name', 'Cutthroat Kitchen')]\n",
      "[('s', 'http://www.wikidata.org/entity/Q15731300'), ('name', 'Power Rangers Dino Charge')]\n",
      "[('s', 'http://www.wikidata.org/entity/Q15737024'), ('name', '37 Days')]\n",
      "[('s', 'http://www.wikidata.org/entity/Q15933384'), ('name', 'Special Affairs Team TEN')]\n",
      "[('s', 'http://www.wikidata.org/entity/Q27889400'), ('name', 'Power Rangers Ninja Steel')]\n",
      "[('s', 'http://www.wikidata.org/entity/Q15870780'), ('name', 'Gogona Gareubnidan')]\n",
      "[('s', 'http://www.wikidata.org/entity/Q15895100'), ('name', 'Beauty School Cop Outs')]\n",
      "[('s', 'http://www.wikidata.org/entity/Q15895399'), ('name', 'New Princess Pearl')]\n",
      "[('s', 'http://www.wikidata.org/entity/Q15898432'), ('name', 'Instinct')]\n",
      "[('s', 'http://www.wikidata.org/entity/Q15900536'), ('name', 'Red Sorghum')]\n",
      "[('s', 'http://www.wikidata.org/entity/Q15902071'), ('name', 'Garden Of Life')]\n",
      "[('s', 'http://www.wikidata.org/entity/Q15905365'), ('name', 'Shenzen')]\n",
      "[('s', 'http://www.wikidata.org/entity/Q15907212'), ('name', 'Kim & Co')]\n",
      "[('s', 'http://www.wikidata.org/entity/Q15915302'), ('name', 'The Silver Tycoon')]\n",
      "[('s', 'http://www.wikidata.org/entity/Q15917214'), ('name', 'Tom Jones: The Right Time')]\n",
      "30\n"
     ]
    }
   ],
   "source": [
    "# write your queries\n",
    "queryString = \"\"\"\n",
    "SELECT DISTINCT ?s ?name\n",
    "WHERE {\n",
    "   # bind something\n",
    "   ?s wdt:P31 wd:Q5398426 .\n",
    "   # get the label\n",
    "   ?s sc:name ?name.\n",
    "}\n",
    "LIMIT 30\n",
    "\"\"\"\n",
    "\n",
    "print(\"Results\")\n",
    "x=run_query(queryString)"
   ]
  },
  {
   "cell_type": "code",
   "execution_count": 10,
   "id": "8afcd370-54c0-4f16-b633-534c22d6e91a",
   "metadata": {},
   "outputs": [
    {
     "name": "stdout",
     "output_type": "stream",
     "text": [
      "Results\n",
      "[('s', 'http://www.wikidata.org/entity/Q3481944'), ('name', 'Sherlock Holmes')]\n",
      "[('s', 'http://www.wikidata.org/entity/Q7495083'), ('name', 'Sherlock Holmes')]\n",
      "[('s', 'http://www.wikidata.org/entity/Q4523158'), ('name', 'Sherlock Holmes')]\n",
      "[('s', 'http://www.wikidata.org/entity/Q387306'), ('name', 'Sherlock Holmes')]\n",
      "[('s', 'http://www.wikidata.org/entity/Q2292435'), ('name', 'Murder Rooms: Mysteries of the Real Sherlock Holmes')]\n",
      "[('s', 'http://www.wikidata.org/entity/Q70777100'), ('name', 'Sherlock Holmes in Russia')]\n",
      "[('s', 'http://www.wikidata.org/entity/Q2570112'), ('name', 'Sherlock Holmes')]\n",
      "[('s', 'http://www.wikidata.org/entity/Q3959407'), ('name', 'Sherlock Holmes and Doctor Watson')]\n",
      "[('s', 'http://www.wikidata.org/entity/Q2278328'), ('name', 'Sherlock Holmes')]\n",
      "[('s', 'http://www.wikidata.org/entity/Q1269700'), ('name', 'The Rivals of Sherlock Holmes')]\n",
      "[('s', 'http://www.wikidata.org/entity/Q20876053'), ('name', 'A Canine Sherlock Holmes')]\n",
      "[('s', 'http://www.wikidata.org/entity/Q48773664'), ('name', 'Sherlock Holmes and a Study in Scarlet')]\n",
      "[('s', 'http://www.wikidata.org/entity/Q636906'), ('name', 'Young Sherlock Holmes')]\n",
      "[('s', 'http://www.wikidata.org/entity/Q1210852'), ('name', 'The Adventures of Sherlock Holmes')]\n",
      "[('s', 'http://www.wikidata.org/entity/Q1210885'), ('name', 'The Adventures of Sherlock Holmes and Dr. Watson')]\n",
      "[('s', 'http://www.wikidata.org/entity/Q56543345'), ('name', 'Sherlock Holmes and the Valley of Fear')]\n",
      "[('s', 'http://www.wikidata.org/entity/Q7770293'), ('name', 'The Triumph of Sherlock Holmes')]\n",
      "[('s', 'http://www.wikidata.org/entity/Q255314'), ('name', 'Sherlock Holmes and the Secret Weapon')]\n",
      "[('s', 'http://www.wikidata.org/entity/Q200396'), ('name', 'Sherlock Holmes')]\n",
      "[('s', 'http://www.wikidata.org/entity/Q516310'), ('name', 'Sherlock Holmes and the House of Fear')]\n",
      "[('s', 'http://www.wikidata.org/entity/Q604180'), ('name', 'The Private Life of Sherlock Holmes')]\n",
      "[('s', 'http://www.wikidata.org/entity/Q1109146'), ('name', 'Sherlock Holmes')]\n",
      "[('s', 'http://www.wikidata.org/entity/Q442399'), ('name', 'Sherlock Holmes and the Deadly Necklace')]\n",
      "[('s', 'http://www.wikidata.org/entity/Q56323624'), ('name', 'The Dark Beginnings of Sherlock Holmes')]\n",
      "[('s', 'http://www.wikidata.org/entity/Q3481938'), ('name', 'Sherlock Holmes')]\n",
      "[('s', 'http://www.wikidata.org/entity/Q243643'), ('name', 'Sherlock Holmes: A Game of Shadows')]\n",
      "[('s', 'http://www.wikidata.org/entity/Q2053049'), ('name', 'Sherlock Holmes Faces Death')]\n",
      "[('s', 'http://www.wikidata.org/entity/Q636697'), ('name', 'Sherlock Holmes in Washington')]\n",
      "[('s', 'http://www.wikidata.org/entity/Q1216506'), ('name', 'Sherlock Holmes and the Voice of Terror')]\n",
      "[('s', 'http://www.wikidata.org/entity/Q15059945'), ('name', 'Sherlock Holmes')]\n",
      "[('s', 'http://www.wikidata.org/entity/Q469480'), ('name', 'The Man Who Was Sherlock Holmes')]\n",
      "[('s', 'http://www.wikidata.org/entity/Q664359'), ('name', 'The Return of Sherlock Holmes')]\n",
      "[('s', 'http://www.wikidata.org/entity/Q1813978'), ('name', \"The Adventure of Sherlock Holmes' Smarter Brother\")]\n",
      "[('s', 'http://www.wikidata.org/entity/Q2003242'), ('name', 'Sherlock Holmes')]\n",
      "[('s', 'http://www.wikidata.org/entity/Q21007878'), ('name', 'In the Manner of Sherlock Holmes')]\n",
      "[('s', 'http://www.wikidata.org/entity/Q16676652'), ('name', 'Sherlock Holmes in the Great Murder Mystery')]\n",
      "36\n"
     ]
    }
   ],
   "source": [
    "# write your queries\n",
    "queryString = \"\"\"\n",
    "SELECT DISTINCT ?s ?name\n",
    "WHERE {\n",
    "   {\n",
    "       ?s wdt:P31 wd:Q5398426 ;\n",
    "          sc:name ?name.\n",
    "   }\n",
    "   UNION \n",
    "   {\n",
    "       ?s wdt:P31 wd:Q11424 ;\n",
    "          sc:name ?name.\n",
    "   }\n",
    "   FILTER (REGEX(?name, \".*Sherlock Holmes.*\"))\n",
    "}\n",
    "LIMIT 50\n",
    "\"\"\"\n",
    "\n",
    "print(\"Results\")\n",
    "x=run_query(queryString)"
   ]
  },
  {
   "cell_type": "code",
   "execution_count": 33,
   "id": "73ba8461-86bd-437a-8d5d-07b3efb2a1a5",
   "metadata": {},
   "outputs": [
    {
     "name": "stdout",
     "output_type": "stream",
     "text": [
      "Results\n",
      "[('p', 'http://www.wikidata.org/prop/direct/P1113'), ('name', 'number of episodes')]\n",
      "[('p', 'http://www.wikidata.org/prop/direct/P136'), ('name', 'genre')]\n",
      "[('p', 'http://www.wikidata.org/prop/direct/P161'), ('name', 'cast member')]\n",
      "[('p', 'http://www.wikidata.org/prop/direct/P162'), ('name', 'producer')]\n",
      "[('p', 'http://www.wikidata.org/prop/direct/P2437'), ('name', 'number of seasons')]\n",
      "[('p', 'http://www.wikidata.org/prop/direct/P2603'), ('name', 'Kinopoisk film ID')]\n",
      "[('p', 'http://www.wikidata.org/prop/direct/P2638'), ('name', 'TV.com ID')]\n",
      "[('p', 'http://www.wikidata.org/prop/direct/P2671'), ('name', 'Google Knowledge Graph ID')]\n",
      "[('p', 'http://www.wikidata.org/prop/direct/P272'), ('name', 'production company')]\n",
      "[('p', 'http://www.wikidata.org/prop/direct/P31'), ('name', 'instance of')]\n",
      "[('p', 'http://www.wikidata.org/prop/direct/P3138'), ('name', 'OFDb film ID')]\n",
      "[('p', 'http://www.wikidata.org/prop/direct/P344'), ('name', 'director of photography')]\n",
      "[('p', 'http://www.wikidata.org/prop/direct/P345'), ('name', 'IMDb ID')]\n",
      "[('p', 'http://www.wikidata.org/prop/direct/P3495'), ('name', 'FilmPolski.pl ID')]\n",
      "[('p', 'http://www.wikidata.org/prop/direct/P407'), ('name', 'language of work or name')]\n",
      "[('p', 'http://www.wikidata.org/prop/direct/P4780'), ('name', 'MYmovies movie ID')]\n",
      "[('p', 'http://www.wikidata.org/prop/direct/P4835'), ('name', 'TheTVDB.com series ID')]\n",
      "[('p', 'http://www.wikidata.org/prop/direct/P495'), ('name', 'country of origin')]\n",
      "[('p', 'http://www.wikidata.org/prop/direct/P4983'), ('name', 'TMDb TV series ID')]\n",
      "[('p', 'http://www.wikidata.org/prop/direct/P5032'), ('name', 'Filmweb.pl film ID')]\n",
      "[('p', 'http://www.wikidata.org/prop/direct/P5099'), ('name', 'Il mondo dei doppiatori ID')]\n",
      "[('p', 'http://www.wikidata.org/prop/direct/P577'), ('name', 'publication date')]\n",
      "[('p', 'http://www.wikidata.org/prop/direct/P58'), ('name', 'screenwriter')]\n",
      "[('p', 'http://www.wikidata.org/prop/direct/P580'), ('name', 'start time')]\n",
      "[('p', 'http://www.wikidata.org/prop/direct/P582'), ('name', 'end time')]\n",
      "[('p', 'http://www.wikidata.org/prop/direct/P86'), ('name', 'composer')]\n",
      "[('p', 'http://www.wikidata.org/prop/direct/P915'), ('name', 'filming location')]\n",
      "[('p', 'http://www.wikidata.org/prop/direct/P4834'), ('name', 'Deutsche Synchronkartei series ID')]\n",
      "28\n"
     ]
    }
   ],
   "source": [
    "# write your final query\n",
    "queryString = \"\"\"\n",
    "SELECT DISTINCT ?p ?name \n",
    "WHERE {\n",
    "   # bind something\n",
    "   wd:Q3959407 ?p ?obj .\n",
    "   # get the label\n",
    "   ?p sc:name ?name .\n",
    "}\n",
    "LIMIT 30\n",
    "\"\"\"\n",
    "\n",
    "print(\"Results\")\n",
    "x=run_query(queryString)"
   ]
  },
  {
   "cell_type": "code",
   "execution_count": 38,
   "id": "9b65cdea-e0af-470c-9153-16acd6f9f1e1",
   "metadata": {},
   "outputs": [
    {
     "name": "stdout",
     "output_type": "stream",
     "text": [
      "Results\n",
      "[('p', 'http://www.wikidata.org/prop/direct/P1265'), ('name', 'AlloCiné film ID')]\n",
      "[('p', 'http://www.wikidata.org/prop/direct/P136'), ('name', 'genre')]\n",
      "[('p', 'http://www.wikidata.org/prop/direct/P161'), ('name', 'cast member')]\n",
      "[('p', 'http://www.wikidata.org/prop/direct/P1970'), ('name', 'MovieMeter film ID')]\n",
      "[('p', 'http://www.wikidata.org/prop/direct/P2529'), ('name', 'ČSFD film ID')]\n",
      "[('p', 'http://www.wikidata.org/prop/direct/P2603'), ('name', 'Kinopoisk film ID')]\n",
      "[('p', 'http://www.wikidata.org/prop/direct/P2671'), ('name', 'Google Knowledge Graph ID')]\n",
      "[('p', 'http://www.wikidata.org/prop/direct/P2755'), ('name', 'exploitation visa number')]\n",
      "[('p', 'http://www.wikidata.org/prop/direct/P2758'), ('name', 'CNC film rating (France)')]\n",
      "[('p', 'http://www.wikidata.org/prop/direct/P31'), ('name', 'instance of')]\n",
      "[('p', 'http://www.wikidata.org/prop/direct/P3143'), ('name', 'elFilm film ID')]\n",
      "[('p', 'http://www.wikidata.org/prop/direct/P3203'), ('name', 'Ciné-Ressources film ID')]\n",
      "[('p', 'http://www.wikidata.org/prop/direct/P345'), ('name', 'IMDb ID')]\n",
      "[('p', 'http://www.wikidata.org/prop/direct/P364'), ('name', 'original language of film or TV show')]\n",
      "[('p', 'http://www.wikidata.org/prop/direct/P3961'), ('name', 'Unifrance film ID')]\n",
      "[('p', 'http://www.wikidata.org/prop/direct/P4529'), ('name', 'Douban film ID')]\n",
      "[('p', 'http://www.wikidata.org/prop/direct/P462'), ('name', 'color')]\n",
      "[('p', 'http://www.wikidata.org/prop/direct/P4947'), ('name', 'TMDb movie ID')]\n",
      "[('p', 'http://www.wikidata.org/prop/direct/P495'), ('name', 'country of origin')]\n",
      "[('p', 'http://www.wikidata.org/prop/direct/P57'), ('name', 'director')]\n",
      "[('p', 'http://www.wikidata.org/prop/direct/P577'), ('name', 'publication date')]\n",
      "[('p', 'http://www.wikidata.org/prop/direct/P6127'), ('name', 'Letterboxd film ID')]\n",
      "[('p', 'http://www.wikidata.org/prop/direct/P915'), ('name', 'filming location')]\n",
      "23\n"
     ]
    }
   ],
   "source": [
    "# write your final query\n",
    "queryString = \"\"\"\n",
    "SELECT DISTINCT ?p ?name\n",
    "WHERE {\n",
    "   # bind something\n",
    "   wd:Q21007878 ?p ?obj .\n",
    "   # get the label\n",
    "   ?p sc:name ?name .\n",
    "}\n",
    "LIMIT 60\n",
    "\"\"\"\n",
    "\n",
    "print(\"Results\")\n",
    "x=run_query(queryString)"
   ]
  },
  {
   "cell_type": "code",
   "execution_count": 8,
   "id": "7ed70baf-00ec-45f9-853f-ca4af6c4320c",
   "metadata": {},
   "outputs": [
    {
     "name": "stdout",
     "output_type": "stream",
     "text": [
      "Results\n",
      "[('s', 'http://www.wikidata.org/entity/Q3481944'), ('name', 'Sherlock Holmes'), ('year', '1965-01-01T00:00:00Z')]\n",
      "[('s', 'http://www.wikidata.org/entity/Q7495083'), ('name', 'Sherlock Holmes'), ('year', '1951-10-20T00:00:00Z')]\n",
      "[('s', 'http://www.wikidata.org/entity/Q4523158'), ('name', 'Sherlock Holmes'), ('year', '2013-11-18T00:00:00Z')]\n",
      "[('s', 'http://www.wikidata.org/entity/Q387306'), ('name', 'Sherlock Holmes'), ('year', '1984-04-24T00:00:00Z')]\n",
      "[('s', 'http://www.wikidata.org/entity/Q2292435'), ('name', 'Murder Rooms: Mysteries of the Real Sherlock Holmes'), ('year', '2000-04-04T00:00:00Z')]\n",
      "[('s', 'http://www.wikidata.org/entity/Q70777100'), ('name', 'Sherlock Holmes in Russia'), ('year', '2020-01-01T00:00:00Z')]\n",
      "[('s', 'http://www.wikidata.org/entity/Q2570112'), ('name', 'Sherlock Holmes'), ('year', '1954-10-18T00:00:00Z')]\n",
      "[('s', 'http://www.wikidata.org/entity/Q3959407'), ('name', 'Sherlock Holmes and Doctor Watson'), ('year', '1979-01-01T00:00:00Z')]\n",
      "[('s', 'http://www.wikidata.org/entity/Q2278328'), ('name', 'Sherlock Holmes'), ('year', '1967-10-01T00:00:00Z')]\n",
      "[('s', 'http://www.wikidata.org/entity/Q1269700'), ('name', 'The Rivals of Sherlock Holmes'), ('year', '1971-09-20T00:00:00Z')]\n",
      "[('s', 'http://www.wikidata.org/entity/Q20876053'), ('name', 'A Canine Sherlock Holmes'), ('year', '1912-12-01T00:00:00Z')]\n",
      "[('s', 'http://www.wikidata.org/entity/Q48773664'), ('name', 'Sherlock Holmes and a Study in Scarlet'), ('year', '1983-01-01T00:00:00Z')]\n",
      "[('s', 'http://www.wikidata.org/entity/Q636906'), ('name', 'Young Sherlock Holmes'), ('year', '1985-01-01T00:00:00Z')]\n",
      "[('s', 'http://www.wikidata.org/entity/Q636906'), ('name', 'Young Sherlock Holmes'), ('year', '1986-05-15T00:00:00Z')]\n",
      "[('s', 'http://www.wikidata.org/entity/Q1210852'), ('name', 'The Adventures of Sherlock Holmes'), ('year', '1939-01-01T00:00:00Z')]\n",
      "[('s', 'http://www.wikidata.org/entity/Q1210885'), ('name', 'The Adventures of Sherlock Holmes and Dr. Watson'), ('year', '1980-01-01T00:00:00Z')]\n",
      "[('s', 'http://www.wikidata.org/entity/Q7770293'), ('name', 'The Triumph of Sherlock Holmes'), ('year', '1935-01-01T00:00:00Z')]\n",
      "[('s', 'http://www.wikidata.org/entity/Q56543345'), ('name', 'Sherlock Holmes and the Valley of Fear')]\n",
      "[('s', 'http://www.wikidata.org/entity/Q255314'), ('name', 'Sherlock Holmes and the Secret Weapon'), ('year', '1943-01-01T00:00:00Z')]\n",
      "[('s', 'http://www.wikidata.org/entity/Q200396'), ('name', 'Sherlock Holmes'), ('year', '2009-12-24T00:00:00Z')]\n",
      "[('s', 'http://www.wikidata.org/entity/Q200396'), ('name', 'Sherlock Holmes'), ('year', '2010-01-07T00:00:00Z')]\n",
      "[('s', 'http://www.wikidata.org/entity/Q200396'), ('name', 'Sherlock Holmes'), ('year', '2010-01-28T00:00:00Z')]\n",
      "[('s', 'http://www.wikidata.org/entity/Q200396'), ('name', 'Sherlock Holmes'), ('year', '2010-02-03T00:00:00Z')]\n",
      "[('s', 'http://www.wikidata.org/entity/Q516310'), ('name', 'Sherlock Holmes and the House of Fear'), ('year', '1945-01-01T00:00:00Z')]\n",
      "[('s', 'http://www.wikidata.org/entity/Q604180'), ('name', 'The Private Life of Sherlock Holmes'), ('year', '1970-10-29T00:00:00Z')]\n",
      "[('s', 'http://www.wikidata.org/entity/Q1109146'), ('name', 'Sherlock Holmes'), ('year', '2010-01-01T00:00:00Z')]\n",
      "[('s', 'http://www.wikidata.org/entity/Q1109146'), ('name', 'Sherlock Holmes'), ('year', '2010-05-20T00:00:00Z')]\n",
      "[('s', 'http://www.wikidata.org/entity/Q442399'), ('name', 'Sherlock Holmes and the Deadly Necklace'), ('year', '1962-01-01T00:00:00Z')]\n",
      "[('s', 'http://www.wikidata.org/entity/Q56323624'), ('name', 'The Dark Beginnings of Sherlock Holmes'), ('year', '2000-01-01T00:00:00Z')]\n",
      "[('s', 'http://www.wikidata.org/entity/Q3481938'), ('name', 'Sherlock Holmes'), ('year', '1932-01-01T00:00:00Z')]\n",
      "30\n"
     ]
    }
   ],
   "source": [
    "# write your queries\n",
    "queryString = \"\"\"\n",
    "SELECT DISTINCT ?s ?name ?year\n",
    "WHERE {\n",
    "   {\n",
    "       ?s wdt:P31 wd:Q5398426 ;\n",
    "          sc:name ?name.\n",
    "        OPTIONAL {?s wdt:P580 ?year.}\n",
    "   }\n",
    "   UNION \n",
    "   {\n",
    "       ?s wdt:P31 wd:Q11424 ;\n",
    "          sc:name ?name.\n",
    "        OPTIONAL {?s wdt:P577 ?year.}\n",
    "   }\n",
    "   FILTER (REGEX(?name, \".*Sherlock Holmes.*\"))\n",
    "}\n",
    "LIMIT 30\n",
    "\"\"\"\n",
    "\n",
    "print(\"Results\")\n",
    "x=run_query(queryString)"
   ]
  },
  {
   "cell_type": "markdown",
   "id": "65752d37",
   "metadata": {},
   "source": [
    "Final query for this task"
   ]
  },
  {
   "cell_type": "code",
   "execution_count": 39,
   "id": "050be6cc",
   "metadata": {},
   "outputs": [
    {
     "name": "stdout",
     "output_type": "stream",
     "text": [
      "Results\n",
      "[('s', 'http://www.wikidata.org/entity/Q3481944'), ('name', 'Sherlock Holmes'), ('year', '1965-01-01T00:00:00Z')]\n",
      "[('s', 'http://www.wikidata.org/entity/Q7495083'), ('name', 'Sherlock Holmes'), ('year', '1951-10-20T00:00:00Z')]\n",
      "[('s', 'http://www.wikidata.org/entity/Q4523158'), ('name', 'Sherlock Holmes'), ('year', '2013-11-18T00:00:00Z')]\n",
      "[('s', 'http://www.wikidata.org/entity/Q387306'), ('name', 'Sherlock Holmes'), ('year', '1984-04-24T00:00:00Z')]\n",
      "[('s', 'http://www.wikidata.org/entity/Q2292435'), ('name', 'Murder Rooms: Mysteries of the Real Sherlock Holmes'), ('year', '2000-04-04T00:00:00Z')]\n",
      "[('s', 'http://www.wikidata.org/entity/Q70777100'), ('name', 'Sherlock Holmes in Russia'), ('year', '2020-01-01T00:00:00Z')]\n",
      "[('s', 'http://www.wikidata.org/entity/Q2570112'), ('name', 'Sherlock Holmes'), ('year', '1954-10-18T00:00:00Z')]\n",
      "[('s', 'http://www.wikidata.org/entity/Q3959407'), ('name', 'Sherlock Holmes and Doctor Watson'), ('year', '1979-01-01T00:00:00Z')]\n",
      "[('s', 'http://www.wikidata.org/entity/Q2278328'), ('name', 'Sherlock Holmes'), ('year', '1967-10-01T00:00:00Z')]\n",
      "[('s', 'http://www.wikidata.org/entity/Q1269700'), ('name', 'The Rivals of Sherlock Holmes'), ('year', '1971-09-20T00:00:00Z')]\n",
      "[('s', 'http://www.wikidata.org/entity/Q20876053'), ('name', 'A Canine Sherlock Holmes'), ('year', '1912-12-01T00:00:00Z')]\n",
      "[('s', 'http://www.wikidata.org/entity/Q48773664'), ('name', 'Sherlock Holmes and a Study in Scarlet'), ('year', '1983-01-01T00:00:00Z')]\n",
      "[('s', 'http://www.wikidata.org/entity/Q636906'), ('name', 'Young Sherlock Holmes'), ('year', '1985-01-01T00:00:00Z')]\n",
      "[('s', 'http://www.wikidata.org/entity/Q636906'), ('name', 'Young Sherlock Holmes'), ('year', '1986-05-15T00:00:00Z')]\n",
      "[('s', 'http://www.wikidata.org/entity/Q1210852'), ('name', 'The Adventures of Sherlock Holmes'), ('year', '1939-01-01T00:00:00Z')]\n",
      "[('s', 'http://www.wikidata.org/entity/Q1210885'), ('name', 'The Adventures of Sherlock Holmes and Dr. Watson'), ('year', '1980-01-01T00:00:00Z')]\n",
      "[('s', 'http://www.wikidata.org/entity/Q7770293'), ('name', 'The Triumph of Sherlock Holmes'), ('year', '1935-01-01T00:00:00Z')]\n",
      "[('s', 'http://www.wikidata.org/entity/Q56543345'), ('name', 'Sherlock Holmes and the Valley of Fear')]\n",
      "[('s', 'http://www.wikidata.org/entity/Q255314'), ('name', 'Sherlock Holmes and the Secret Weapon'), ('year', '1943-01-01T00:00:00Z')]\n",
      "[('s', 'http://www.wikidata.org/entity/Q200396'), ('name', 'Sherlock Holmes'), ('year', '2009-12-24T00:00:00Z')]\n",
      "[('s', 'http://www.wikidata.org/entity/Q200396'), ('name', 'Sherlock Holmes'), ('year', '2010-01-07T00:00:00Z')]\n",
      "[('s', 'http://www.wikidata.org/entity/Q200396'), ('name', 'Sherlock Holmes'), ('year', '2010-01-28T00:00:00Z')]\n",
      "[('s', 'http://www.wikidata.org/entity/Q200396'), ('name', 'Sherlock Holmes'), ('year', '2010-02-03T00:00:00Z')]\n",
      "[('s', 'http://www.wikidata.org/entity/Q516310'), ('name', 'Sherlock Holmes and the House of Fear'), ('year', '1945-01-01T00:00:00Z')]\n",
      "[('s', 'http://www.wikidata.org/entity/Q604180'), ('name', 'The Private Life of Sherlock Holmes'), ('year', '1970-10-29T00:00:00Z')]\n",
      "[('s', 'http://www.wikidata.org/entity/Q1109146'), ('name', 'Sherlock Holmes'), ('year', '2010-01-01T00:00:00Z')]\n",
      "[('s', 'http://www.wikidata.org/entity/Q1109146'), ('name', 'Sherlock Holmes'), ('year', '2010-05-20T00:00:00Z')]\n",
      "[('s', 'http://www.wikidata.org/entity/Q442399'), ('name', 'Sherlock Holmes and the Deadly Necklace'), ('year', '1962-01-01T00:00:00Z')]\n",
      "[('s', 'http://www.wikidata.org/entity/Q56323624'), ('name', 'The Dark Beginnings of Sherlock Holmes'), ('year', '2000-01-01T00:00:00Z')]\n",
      "[('s', 'http://www.wikidata.org/entity/Q3481938'), ('name', 'Sherlock Holmes'), ('year', '1932-01-01T00:00:00Z')]\n",
      "30\n"
     ]
    }
   ],
   "source": [
    "# write your final query\n",
    "queryString = \"\"\"\n",
    "SELECT DISTINCT ?s ?name ?year\n",
    "WHERE {\n",
    "   {\n",
    "       ?s wdt:P31 wd:Q5398426 ;\n",
    "          sc:name ?name.\n",
    "        OPTIONAL {?s wdt:P580 ?year.}\n",
    "   }\n",
    "   UNION \n",
    "   {\n",
    "       ?s wdt:P31 wd:Q11424 ;\n",
    "          sc:name ?name.\n",
    "        OPTIONAL {?s wdt:P577 ?year.}\n",
    "   }\n",
    "   FILTER (REGEX(?name, \".*Sherlock Holmes.*\"))\n",
    "}\n",
    "LIMIT 30\n",
    "\"\"\"\n",
    "\n",
    "print(\"Results\")\n",
    "x=run_query(queryString)"
   ]
  },
  {
   "cell_type": "markdown",
   "id": "0a23009a",
   "metadata": {},
   "source": [
    "## Task 5\n",
    "Find who acted in more than one film or tv series related to the canon of Sherlock Holmes (the result set must be a list of triples actor/actress IRI, label and #film)."
   ]
  },
  {
   "cell_type": "code",
   "execution_count": 43,
   "id": "a79b46dc",
   "metadata": {},
   "outputs": [
    {
     "name": "stdout",
     "output_type": "stream",
     "text": [
      "Results\n",
      "[('actor', 'http://www.wikidata.org/entity/Q2057850'), ('name', 'Patrick Newell'), ('film', '1')]\n",
      "[('actor', 'http://www.wikidata.org/entity/Q309589'), ('name', 'Peter Cushing'), ('film', '1')]\n",
      "[('actor', 'http://www.wikidata.org/entity/Q2834347'), ('name', 'Oleksiy Gorbunov'), ('film', '1')]\n",
      "[('actor', 'http://www.wikidata.org/entity/Q1351583'), ('name', 'Eric Porter'), ('film', '1')]\n",
      "[('actor', 'http://www.wikidata.org/entity/Q5145239'), ('name', 'Colin Jeavons'), ('film', '1')]\n",
      "[('actor', 'http://www.wikidata.org/entity/Q500404'), ('name', 'Maksim Matveyev'), ('film', '1')]\n",
      "[('actor', 'http://www.wikidata.org/entity/Q517562'), ('name', 'Nigel Stock'), ('film', '1')]\n",
      "[('actor', 'http://www.wikidata.org/entity/Q3031517'), ('name', 'Rosalie Williams'), ('film', '1')]\n",
      "[('actor', 'http://www.wikidata.org/entity/Q4272897'), ('name', 'Andrey Lyovin'), ('film', '1')]\n",
      "[('actor', 'http://www.wikidata.org/entity/Q2375210'), ('name', 'Andrei Panin'), ('film', '1')]\n",
      "[('actor', 'http://www.wikidata.org/entity/Q297384'), ('name', 'Jeremy Brett'), ('film', '1')]\n",
      "[('actor', 'http://www.wikidata.org/entity/Q28665437'), ('name', 'Irina Starshenbaum'), ('film', '1')]\n",
      "[('actor', 'http://www.wikidata.org/entity/Q4089615'), ('name', 'Konstantin Bogomolov'), ('film', '1')]\n",
      "[('actor', 'http://www.wikidata.org/entity/Q4151002'), ('name', 'Lyanka Gryu'), ('film', '1')]\n",
      "[('actor', 'http://www.wikidata.org/entity/Q902584'), ('name', 'David Burke'), ('film', '1')]\n",
      "[('actor', 'http://www.wikidata.org/entity/Q16722891'), ('name', 'Konstantin Yushkevich'), ('film', '1')]\n",
      "[('actor', 'http://www.wikidata.org/entity/Q657541'), ('name', 'Edward Hardwicke'), ('film', '1')]\n",
      "[('actor', 'http://www.wikidata.org/entity/Q4172505'), ('name', 'Yevgeny Dyatlov'), ('film', '1')]\n",
      "[('actor', 'http://www.wikidata.org/entity/Q361461'), ('name', 'Douglas Wilmer'), ('film', '1')]\n",
      "[('actor', 'http://www.wikidata.org/entity/Q4484117'), ('name', 'Helga Filippova'), ('film', '1')]\n",
      "[('actor', 'http://www.wikidata.org/entity/Q5534970'), ('name', 'Geoffrey Whitehead'), ('film', '1')]\n",
      "[('actor', 'http://www.wikidata.org/entity/Q5294998'), ('name', 'Donald Pickering'), ('film', '1')]\n",
      "[('actor', 'http://www.wikidata.org/entity/Q435437'), ('name', 'Ingeborga Dapkūnaitė'), ('film', '1')]\n",
      "[('actor', 'http://www.wikidata.org/entity/Q544641'), ('name', 'Mikhail Boyarsky'), ('film', '1')]\n",
      "[('actor', 'http://www.wikidata.org/entity/Q3656891'), ('name', 'Pavel Maykov'), ('film', '1')]\n",
      "[('actor', 'http://www.wikidata.org/entity/Q4360503'), ('name', 'Igor Petrenko'), ('film', '1')]\n",
      "26\n"
     ]
    }
   ],
   "source": [
    "# write your queries\n",
    "queryString = \"\"\"\n",
    "SELECT DISTINCT ?actor ?name (COUNT(?films) AS ?film)\n",
    "WHERE {\n",
    "   {\n",
    "       ?films wdt:P31 wd:Q5398426 ;\n",
    "           wdt:P161 ?actor ;\n",
    "          sc:name ?title.\n",
    "   }\n",
    "   UNION \n",
    "   {\n",
    "       ?films wdt:P31 wd:Q11424 ;\n",
    "          sc:name ?title.\n",
    "   }\n",
    "   FILTER (REGEX(?title, \".*Sherlock Holmes.*\"))\n",
    "   ?actor sc:name ?name.\n",
    "}\n",
    "GROUP BY ?actor ?name \n",
    "LIMIT 30\n",
    "\"\"\"\n",
    "\n",
    "print(\"Results\")\n",
    "x=run_query(queryString)"
   ]
  },
  {
   "cell_type": "code",
   "execution_count": 59,
   "id": "b4d81f52-c65b-4928-b2f7-d8ea2f37446f",
   "metadata": {},
   "outputs": [
    {
     "name": "stdout",
     "output_type": "stream",
     "text": [
      "Results\n",
      "[('actor', 'http://www.wikidata.org/entity/Q336865'), ('name', 'Basil Rathbone'), ('film', '6')]\n",
      "[('actor', 'http://www.wikidata.org/entity/Q728050'), ('name', 'Nigel Bruce'), ('film', '6')]\n",
      "[('actor', 'http://www.wikidata.org/entity/Q467968'), ('name', 'Mary Gordon'), ('film', '5')]\n",
      "[('actor', 'http://www.wikidata.org/entity/Q1344901'), ('name', 'Holmes Herbert'), ('film', '4')]\n",
      "[('actor', 'http://www.wikidata.org/entity/Q3099595'), ('name', 'Gavin Muir'), ('film', '4')]\n",
      "[('actor', 'http://www.wikidata.org/entity/Q1369906'), ('name', 'Henry Daniell'), ('film', '3')]\n",
      "[('actor', 'http://www.wikidata.org/entity/Q3023171'), ('name', 'Dennis Hoey'), ('film', '3')]\n",
      "[('actor', 'http://www.wikidata.org/entity/Q1276956'), ('name', 'Harry Cording'), ('film', '3')]\n",
      "[('actor', 'http://www.wikidata.org/entity/Q236167'), ('name', 'Kelly Reilly'), ('film', '2')]\n",
      "[('actor', 'http://www.wikidata.org/entity/Q2057850'), ('name', 'Patrick Newell'), ('film', '2')]\n",
      "10\n"
     ]
    }
   ],
   "source": [
    "# write your queries\n",
    "queryString = \"\"\"\n",
    "SELECT DISTINCT ?actor ?name (COUNT(?films) AS ?film)\n",
    "WHERE {\n",
    "       {?films wdt:P31 wd:Q5398426.}\n",
    "       UNION\n",
    "       {?films wdt:P31 wd:Q11424}\n",
    "       FILTER (REGEX(?title, \".*Sherlock Holmes.*\"))\n",
    "       ?films wdt:P161 ?actor ;\n",
    "              sc:name ?title.\n",
    "   \n",
    "       ?actor sc:name ?name.\n",
    "}\n",
    "GROUP BY ?actor ?name \n",
    "ORDER BY DESC (COUNT(?films))\n",
    "LIMIT 10\n",
    "\"\"\"\n",
    "\n",
    "print(\"Results\")\n",
    "x=run_query(queryString)"
   ]
  },
  {
   "cell_type": "code",
   "execution_count": 49,
   "id": "0c6c512f-6a97-47de-bc6a-dcb1ec52efc6",
   "metadata": {},
   "outputs": [
    {
     "name": "stdout",
     "output_type": "stream",
     "text": [
      "Results\n",
      "[('film', 'http://www.wikidata.org/entity/Q200396'), ('name', 'Sherlock Holmes')]\n",
      "[('film', 'http://www.wikidata.org/entity/Q243643'), ('name', 'Sherlock Holmes: A Game of Shadows')]\n",
      "2\n"
     ]
    }
   ],
   "source": [
    "queryString = \"\"\"\n",
    "SELECT DISTINCT ?film ?name\n",
    "WHERE {\n",
    "   # bind something\n",
    "   ?film wdt:P161 wd:Q440926 .\n",
    "   # get the label\n",
    "   ?film sc:name ?name .\n",
    "   FILTER (REGEX(?name, \".*Sherlock Holmes.*\"))\n",
    "}\n",
    "LIMIT 60\n",
    "\"\"\"\n",
    "\n",
    "print(\"Results\")\n",
    "x=run_query(queryString)"
   ]
  },
  {
   "cell_type": "markdown",
   "id": "47efdf59",
   "metadata": {},
   "source": [
    "Final query for this task"
   ]
  },
  {
   "cell_type": "code",
   "execution_count": 52,
   "id": "57062d88",
   "metadata": {},
   "outputs": [
    {
     "name": "stdout",
     "output_type": "stream",
     "text": [
      "Results\n",
      "[('actor', 'http://www.wikidata.org/entity/Q236167'), ('name', 'Kelly Reilly'), ('film', '2')]\n",
      "[('actor', 'http://www.wikidata.org/entity/Q2057850'), ('name', 'Patrick Newell'), ('film', '2')]\n",
      "[('actor', 'http://www.wikidata.org/entity/Q440926'), ('name', 'Geraldine James'), ('film', '2')]\n",
      "[('actor', 'http://www.wikidata.org/entity/Q517562'), ('name', 'Nigel Stock'), ('film', '2')]\n",
      "[('actor', 'http://www.wikidata.org/entity/Q180338'), ('name', 'Christopher Lee'), ('film', '2')]\n",
      "[('actor', 'http://www.wikidata.org/entity/Q1369906'), ('name', 'Henry Daniell'), ('film', '3')]\n",
      "[('actor', 'http://www.wikidata.org/entity/Q190386'), ('name', 'Rachel McAdams'), ('film', '2')]\n",
      "[('actor', 'http://www.wikidata.org/entity/Q336865'), ('name', 'Basil Rathbone'), ('film', '6')]\n",
      "[('actor', 'http://www.wikidata.org/entity/Q3023171'), ('name', 'Dennis Hoey'), ('film', '3')]\n",
      "[('actor', 'http://www.wikidata.org/entity/Q7377388'), ('name', 'Rudolph Anders'), ('film', '2')]\n",
      "[('actor', 'http://www.wikidata.org/entity/Q45647'), ('name', 'Eddie Marsan'), ('film', '2')]\n",
      "[('actor', 'http://www.wikidata.org/entity/Q1508673'), ('name', 'George Zucco'), ('film', '2')]\n",
      "[('actor', 'http://www.wikidata.org/entity/Q1344901'), ('name', 'Holmes Herbert'), ('film', '4')]\n",
      "[('actor', 'http://www.wikidata.org/entity/Q1102002'), ('name', 'Clive Russell'), ('film', '2')]\n",
      "[('actor', 'http://www.wikidata.org/entity/Q2428927'), ('name', 'Thorley Walters'), ('film', '2')]\n",
      "[('actor', 'http://www.wikidata.org/entity/Q1803090'), ('name', 'Reginald Denny'), ('film', '2')]\n",
      "[('actor', 'http://www.wikidata.org/entity/Q1101883'), ('name', 'Clive Brook'), ('film', '2')]\n",
      "[('actor', 'http://www.wikidata.org/entity/Q361461'), ('name', 'Douglas Wilmer'), ('film', '2')]\n",
      "[('actor', 'http://www.wikidata.org/entity/Q728050'), ('name', 'Nigel Bruce'), ('film', '6')]\n",
      "[('actor', 'http://www.wikidata.org/entity/Q467968'), ('name', 'Mary Gordon'), ('film', '5')]\n",
      "[('actor', 'http://www.wikidata.org/entity/Q1276956'), ('name', 'Harry Cording'), ('film', '3')]\n",
      "[('actor', 'http://www.wikidata.org/entity/Q160432'), ('name', 'Jude Law'), ('film', '2')]\n",
      "[('actor', 'http://www.wikidata.org/entity/Q3099595'), ('name', 'Gavin Muir'), ('film', '4')]\n",
      "[('actor', 'http://www.wikidata.org/entity/Q165219'), ('name', 'Robert Downey Jr.'), ('film', '2')]\n",
      "24\n"
     ]
    }
   ],
   "source": [
    "# write your final query\n",
    "queryString = \"\"\"\n",
    "SELECT DISTINCT ?actor ?name (COUNT(?films) AS ?film)\n",
    "WHERE {\n",
    "       {?films wdt:P31 wd:Q5398426.}\n",
    "       UNION\n",
    "       {?films wdt:P31 wd:Q11424}\n",
    "       FILTER (REGEX(?title, \".*Sherlock Holmes.*\"))\n",
    "       ?films wdt:P161 ?actor ;\n",
    "              sc:name ?title.\n",
    "   \n",
    "       ?actor sc:name ?name.\n",
    "}\n",
    "GROUP BY ?actor ?name \n",
    "HAVING (COUNT(?films) > 1)\n",
    "LIMIT 30\n",
    "\"\"\"\n",
    "\n",
    "print(\"Results\")\n",
    "x=run_query(queryString)"
   ]
  },
  {
   "cell_type": "markdown",
   "id": "619dff7c",
   "metadata": {},
   "source": [
    "## Task 6\n",
    "Identify the BGP for Primetime Emmy Award"
   ]
  },
  {
   "cell_type": "code",
   "execution_count": 63,
   "id": "237f05c3",
   "metadata": {},
   "outputs": [
    {
     "name": "stdout",
     "output_type": "stream",
     "text": [
      "Results\n",
      "[('obj', 'http://www.wikidata.org/entity/Q768855'), ('name', 'orders, decorations, and medals of the United Kingdom')]\n",
      "1\n"
     ]
    }
   ],
   "source": [
    "# Q1465984 is subclass of\n",
    "queryString = \"\"\"\n",
    "SELECT DISTINCT ?obj ?name\n",
    "WHERE {\n",
    "   # bind something\n",
    "   wd:Q1465984 wdt:P279 ?obj .\n",
    "   # get the label\n",
    "   ?obj sc:name ?name.\n",
    "}\n",
    "LIMIT 30\n",
    "\"\"\"\n",
    "\n",
    "print(\"Results\")\n",
    "x=run_query(queryString)"
   ]
  },
  {
   "cell_type": "code",
   "execution_count": 70,
   "id": "3c784ab0-a073-4f8e-a120-3572fbee259e",
   "metadata": {},
   "outputs": [
    {
     "name": "stdout",
     "output_type": "stream",
     "text": [
      "Results\n",
      "[('obj', 'http://www.wikidata.org/entity/Q618779'), ('name', 'award')]\n",
      "[('obj', 'http://www.wikidata.org/entity/Q207333'), ('name', 'honor')]\n",
      "[('obj', 'http://www.wikidata.org/entity/Q193622'), ('name', 'order')]\n",
      "3\n"
     ]
    }
   ],
   "source": [
    "queryString = \"\"\"\n",
    "SELECT DISTINCT ?obj ?name\n",
    "WHERE {\n",
    "   # bind something\n",
    "   wd:Q768855 wdt:P279 ?obj .\n",
    "   # get the label\n",
    "   ?obj sc:name ?name.\n",
    "}\n",
    "LIMIT 3\n",
    "\"\"\"\n",
    "\n",
    "print(\"Results\")\n",
    "x=run_query(queryString)"
   ]
  },
  {
   "cell_type": "code",
   "execution_count": 73,
   "id": "fdd8481b-cf14-4ef8-951c-4c891be413a6",
   "metadata": {},
   "outputs": [
    {
     "name": "stdout",
     "output_type": "stream",
     "text": [
      "Results\n",
      "[('s', 'http://www.wikidata.org/entity/Q18149577'), ('name', \"Daytime Emmy Award for Outstanding Pre-School Children's Animated Program\")]\n",
      "[('s', 'http://www.wikidata.org/entity/Q18153303'), ('name', 'Primetime Emmy Award for Outstanding Unstructured Reality Program')]\n",
      "[('s', 'http://www.wikidata.org/entity/Q3002405'), ('name', 'Creative Arts Emmy Award')]\n",
      "3\n"
     ]
    }
   ],
   "source": [
    "queryString = \"\"\"\n",
    "SELECT DISTINCT ?s ?name\n",
    "WHERE {\n",
    "   # bind something\n",
    "   ?s wdt:P31 wd:Q618779 .\n",
    "   # get the label\n",
    "   ?s sc:name ?name.\n",
    "   FILTER(REGEX(?name, \".*Emmy Award.*\"))\n",
    "}\n",
    "LIMIT 3\n",
    "\"\"\"\n",
    "\n",
    "print(\"Results\")\n",
    "x=run_query(queryString)"
   ]
  },
  {
   "cell_type": "code",
   "execution_count": 74,
   "id": "8bb74d12-4f32-4f65-b881-63771e801fc0",
   "metadata": {},
   "outputs": [
    {
     "name": "stdout",
     "output_type": "stream",
     "text": [
      "Results\n",
      "[('obj', 'http://www.wikidata.org/entity/Q618779'), ('name', 'award')]\n",
      "[('obj', 'http://www.wikidata.org/entity/Q123737'), ('name', 'Emmy Award')]\n",
      "2\n"
     ]
    }
   ],
   "source": [
    "#Creative Arts Emmy Award is instance of\n",
    "queryString = \"\"\"\n",
    "SELECT DISTINCT ?obj ?name\n",
    "WHERE {\n",
    "   # bind something\n",
    "   wd:Q3002405 wdt:P31 ?obj .\n",
    "   # get the label\n",
    "   ?obj sc:name ?name.\n",
    "}\n",
    "LIMIT 3\n",
    "\"\"\"\n",
    "\n",
    "print(\"Results\")\n",
    "x=run_query(queryString)"
   ]
  },
  {
   "cell_type": "code",
   "execution_count": 77,
   "id": "8afa3480-c5fa-44b2-bca9-d31cf5eb5e6a",
   "metadata": {},
   "outputs": [
    {
     "name": "stdout",
     "output_type": "stream",
     "text": [
      "Results\n",
      "[('s', 'http://www.wikidata.org/entity/Q3002405'), ('name', 'Creative Arts Emmy Award')]\n",
      "[('s', 'http://www.wikidata.org/entity/Q11247971'), ('name', 'News & Documentary Emmy Award')]\n",
      "[('s', 'http://www.wikidata.org/entity/Q1044427'), ('name', 'Primetime Emmy Award')]\n",
      "3\n"
     ]
    }
   ],
   "source": [
    "queryString = \"\"\"\n",
    "SELECT DISTINCT ?s ?name\n",
    "WHERE {\n",
    "   # bind something\n",
    "   ?s wdt:P31 wd:Q123737 .\n",
    "   # get the label\n",
    "   ?s sc:name ?name.\n",
    "   FILTER(REGEX(?name, \".*Emmy Award.*\"))\n",
    "}\n",
    "LIMIT 3\n",
    "\"\"\"\n",
    "\n",
    "print(\"Results\")\n",
    "x=run_query(queryString)"
   ]
  },
  {
   "cell_type": "markdown",
   "id": "37e87f2a",
   "metadata": {},
   "source": [
    "Final query for this task"
   ]
  },
  {
   "cell_type": "code",
   "execution_count": 78,
   "id": "ece3cb21",
   "metadata": {},
   "outputs": [
    {
     "name": "stdout",
     "output_type": "stream",
     "text": [
      "Results\n",
      "[('p', 'http://www.wikidata.org/prop/direct/P17'), ('name', 'country')]\n",
      "[('p', 'http://www.wikidata.org/prop/direct/P1705'), ('name', 'native label')]\n",
      "[('p', 'http://www.wikidata.org/prop/direct/P31'), ('name', 'instance of')]\n",
      "[('p', 'http://www.wikidata.org/prop/direct/P373'), ('name', 'Commons category')]\n",
      "[('p', 'http://www.wikidata.org/prop/direct/P571'), ('name', 'inception')]\n",
      "[('p', 'http://www.wikidata.org/prop/direct/P580'), ('name', 'start time')]\n",
      "[('p', 'http://www.wikidata.org/prop/direct/P646'), ('name', 'Freebase ID')]\n",
      "[('p', 'http://www.wikidata.org/prop/direct/P856'), ('name', 'official website')]\n",
      "[('p', 'http://www.wikidata.org/prop/direct/P910'), ('name', \"topic's main category\")]\n",
      "[('p', 'http://www.wikidata.org/prop/direct/P1027'), ('name', 'conferred by')]\n",
      "[('p', 'http://www.wikidata.org/prop/direct/P2517'), ('name', 'category for recipients of this award')]\n",
      "11\n"
     ]
    }
   ],
   "source": [
    "# write your final query\n",
    "queryString = \"\"\"\n",
    "SELECT DISTINCT ?p ?name\n",
    "WHERE {\n",
    "   # bind something\n",
    "   wd:Q1044427 ?p ?obj .\n",
    "   # get the label\n",
    "   ?p sc:name ?name.\n",
    "}\n",
    "LIMIT 30\n",
    "\"\"\"\n",
    "\n",
    "print(\"Results\")\n",
    "x=run_query(queryString)"
   ]
  },
  {
   "cell_type": "markdown",
   "id": "ce5de05c",
   "metadata": {},
   "source": [
    "## Task 7\n",
    "Return all the types of Primetime Emmy Award (the result set must be a list of couples award IRI and label)."
   ]
  },
  {
   "cell_type": "code",
   "execution_count": 86,
   "id": "9be730d0",
   "metadata": {},
   "outputs": [
    {
     "name": "stdout",
     "output_type": "stream",
     "text": [
      "Results\n",
      "[('s', 'http://www.wikidata.org/entity/Q18153303'), ('name', 'Primetime Emmy Award for Outstanding Unstructured Reality Program')]\n",
      "[('s', 'http://www.wikidata.org/entity/Q28445729'), ('name', 'Primetime Emmy Award for Outstanding Actress in a Short Form Comedy or Drama Series')]\n",
      "[('s', 'http://www.wikidata.org/entity/Q989439'), ('name', 'Primetime Emmy Award for Outstanding Lead Actor in a Drama Series')]\n",
      "[('s', 'http://www.wikidata.org/entity/Q2604800'), ('name', 'Primetime Emmy Award for Outstanding Guest Actor in a Drama Series')]\n",
      "[('s', 'http://www.wikidata.org/entity/Q7243506'), ('name', 'Primetime Emmy Award for Outstanding Made for Television Movie')]\n",
      "[('s', 'http://www.wikidata.org/entity/Q1277961'), ('name', 'Primetime Emmy Award for Outstanding Directing for a Comedy Series')]\n",
      "[('s', 'http://www.wikidata.org/entity/Q3123491'), ('name', 'Primetime Emmy Award for Outstanding Writing for a Drama Series')]\n",
      "[('s', 'http://www.wikidata.org/entity/Q20714679'), ('name', 'Primetime Emmy Award for Outstanding Limited Miniseries')]\n",
      "[('s', 'http://www.wikidata.org/entity/Q17048589'), ('name', 'Primetime Emmy Award for Outstanding Narrator')]\n",
      "[('s', 'http://www.wikidata.org/entity/Q989447'), ('name', 'Primetime Emmy Award for Outstanding Lead Actress in a Miniseries or a Movie')]\n",
      "[('s', 'http://www.wikidata.org/entity/Q1285970'), ('name', 'Primetime Emmy Award for Outstanding Supporting Actor in a Comedy Series')]\n",
      "[('s', 'http://www.wikidata.org/entity/Q530923'), ('name', 'Primetime Emmy Award for Outstanding Guest Actor in a Comedy Series')]\n",
      "[('s', 'http://www.wikidata.org/entity/Q989442'), ('name', 'Primetime Emmy Award for Outstanding Lead Actor in a Comedy Series')]\n",
      "[('s', 'http://www.wikidata.org/entity/Q7243507'), ('name', 'Primetime Emmy Award for Outstanding Original Main Title Theme Music')]\n",
      "[('s', 'http://www.wikidata.org/entity/Q1285504'), ('name', 'Primetime Emmy Award for Outstanding Supporting Actress in a Drama Series')]\n",
      "[('s', 'http://www.wikidata.org/entity/Q2981152'), ('name', 'Primetime Emmy Award for Outstanding Guest Actress in a Comedy Series')]\n",
      "[('s', 'http://www.wikidata.org/entity/Q583972'), ('name', 'Primetime Emmy Award for Outstanding Directing for a Drama Series')]\n",
      "[('s', 'http://www.wikidata.org/entity/Q945887'), ('name', 'Primetime Emmy Award for Outstanding Supporting Actor in a Miniseries or a Movie')]\n",
      "[('s', 'http://www.wikidata.org/entity/Q989453'), ('name', 'Primetime Emmy Award for Outstanding Lead Actor in a Miniseries or a Movie')]\n",
      "[('s', 'http://www.wikidata.org/entity/Q1286639'), ('name', 'Primetime Emmy Award for Outstanding Supporting Actor in a Drama Series')]\n",
      "[('s', 'http://www.wikidata.org/entity/Q337926'), ('name', 'Primetime Emmy Award for Outstanding Animated Program')]\n",
      "[('s', 'http://www.wikidata.org/entity/Q17986500'), ('name', 'Primetime Emmy Award for Outstanding Cinematography for a Miniseries or Movie')]\n",
      "[('s', 'http://www.wikidata.org/entity/Q3045762'), ('name', 'Primetime Emmy Award for Outstanding Writing for a Comedy Series')]\n",
      "[('s', 'http://www.wikidata.org/entity/Q3062632'), ('name', 'Primetime Emmy Award for Outstanding Guest Actress in a Drama Series')]\n",
      "[('s', 'http://www.wikidata.org/entity/Q3403229'), ('name', 'Primetime Emmy Award for Outstanding Directing for a Limited Series, Movie, or Dramatic Special')]\n",
      "[('s', 'http://www.wikidata.org/entity/Q989445'), ('name', 'Primetime Emmy Award for Outstanding Lead Actress in a Drama Series')]\n",
      "[('s', 'http://www.wikidata.org/entity/Q989449'), ('name', 'Primetime Emmy Award for Outstanding Supporting Actress in a Miniseries or a Movie')]\n",
      "[('s', 'http://www.wikidata.org/entity/Q1287335'), ('name', 'Primetime Emmy Award for Outstanding Lead Actress in a Comedy Series')]\n",
      "[('s', 'http://www.wikidata.org/entity/Q3131545'), ('name', 'Primetime Emmy Award for Outstanding Voice-Over Performance')]\n",
      "[('s', 'http://www.wikidata.org/entity/Q7243513'), ('name', 'Primetime Emmy Award for Outstanding Special Visual Effects')]\n",
      "30\n"
     ]
    }
   ],
   "source": [
    "# write your queries\n",
    "queryString = \"\"\"\n",
    "SELECT DISTINCT ?s ?name\n",
    "WHERE {\n",
    "   # bind something\n",
    "   ?s wdt:P31 wd:Q1044427 .\n",
    "   # get the label\n",
    "   ?s sc:name ?name.\n",
    "}\n",
    "LIMIT 30\n",
    "\"\"\"\n",
    "\n",
    "print(\"Results\")\n",
    "x=run_query(queryString)"
   ]
  },
  {
   "cell_type": "code",
   "execution_count": 88,
   "id": "292c8fc9-9723-4c1b-a532-88018b988c83",
   "metadata": {},
   "outputs": [
    {
     "name": "stdout",
     "output_type": "stream",
     "text": [
      "Results\n",
      "Empty\n"
     ]
    }
   ],
   "source": [
    "# write your queries\n",
    "queryString = \"\"\"\n",
    "SELECT DISTINCT ?s ?name\n",
    "WHERE {\n",
    "   # bind something\n",
    "   ?s wdt:P279 wd:Q1044427 .\n",
    "   # get the label\n",
    "   ?s sc:name ?name.\n",
    "}\n",
    "LIMIT 30\n",
    "\"\"\"\n",
    "\n",
    "print(\"Results\")\n",
    "x=run_query(queryString)"
   ]
  },
  {
   "cell_type": "markdown",
   "id": "670429d3",
   "metadata": {},
   "source": [
    "Final query for this task"
   ]
  },
  {
   "cell_type": "code",
   "execution_count": 89,
   "id": "e6a83ffc",
   "metadata": {},
   "outputs": [
    {
     "name": "stdout",
     "output_type": "stream",
     "text": [
      "Results\n",
      "[('s', 'http://www.wikidata.org/entity/Q18153303'), ('name', 'Primetime Emmy Award for Outstanding Unstructured Reality Program')]\n",
      "[('s', 'http://www.wikidata.org/entity/Q28445729'), ('name', 'Primetime Emmy Award for Outstanding Actress in a Short Form Comedy or Drama Series')]\n",
      "[('s', 'http://www.wikidata.org/entity/Q989439'), ('name', 'Primetime Emmy Award for Outstanding Lead Actor in a Drama Series')]\n",
      "[('s', 'http://www.wikidata.org/entity/Q2604800'), ('name', 'Primetime Emmy Award for Outstanding Guest Actor in a Drama Series')]\n",
      "[('s', 'http://www.wikidata.org/entity/Q7243506'), ('name', 'Primetime Emmy Award for Outstanding Made for Television Movie')]\n",
      "[('s', 'http://www.wikidata.org/entity/Q1277961'), ('name', 'Primetime Emmy Award for Outstanding Directing for a Comedy Series')]\n",
      "[('s', 'http://www.wikidata.org/entity/Q3123491'), ('name', 'Primetime Emmy Award for Outstanding Writing for a Drama Series')]\n",
      "[('s', 'http://www.wikidata.org/entity/Q20714679'), ('name', 'Primetime Emmy Award for Outstanding Limited Miniseries')]\n",
      "[('s', 'http://www.wikidata.org/entity/Q17048589'), ('name', 'Primetime Emmy Award for Outstanding Narrator')]\n",
      "[('s', 'http://www.wikidata.org/entity/Q989447'), ('name', 'Primetime Emmy Award for Outstanding Lead Actress in a Miniseries or a Movie')]\n",
      "[('s', 'http://www.wikidata.org/entity/Q1285970'), ('name', 'Primetime Emmy Award for Outstanding Supporting Actor in a Comedy Series')]\n",
      "[('s', 'http://www.wikidata.org/entity/Q530923'), ('name', 'Primetime Emmy Award for Outstanding Guest Actor in a Comedy Series')]\n",
      "[('s', 'http://www.wikidata.org/entity/Q989442'), ('name', 'Primetime Emmy Award for Outstanding Lead Actor in a Comedy Series')]\n",
      "[('s', 'http://www.wikidata.org/entity/Q7243507'), ('name', 'Primetime Emmy Award for Outstanding Original Main Title Theme Music')]\n",
      "[('s', 'http://www.wikidata.org/entity/Q1285504'), ('name', 'Primetime Emmy Award for Outstanding Supporting Actress in a Drama Series')]\n",
      "[('s', 'http://www.wikidata.org/entity/Q2981152'), ('name', 'Primetime Emmy Award for Outstanding Guest Actress in a Comedy Series')]\n",
      "[('s', 'http://www.wikidata.org/entity/Q583972'), ('name', 'Primetime Emmy Award for Outstanding Directing for a Drama Series')]\n",
      "[('s', 'http://www.wikidata.org/entity/Q945887'), ('name', 'Primetime Emmy Award for Outstanding Supporting Actor in a Miniseries or a Movie')]\n",
      "[('s', 'http://www.wikidata.org/entity/Q989453'), ('name', 'Primetime Emmy Award for Outstanding Lead Actor in a Miniseries or a Movie')]\n",
      "[('s', 'http://www.wikidata.org/entity/Q1286639'), ('name', 'Primetime Emmy Award for Outstanding Supporting Actor in a Drama Series')]\n",
      "[('s', 'http://www.wikidata.org/entity/Q337926'), ('name', 'Primetime Emmy Award for Outstanding Animated Program')]\n",
      "[('s', 'http://www.wikidata.org/entity/Q17986500'), ('name', 'Primetime Emmy Award for Outstanding Cinematography for a Miniseries or Movie')]\n",
      "[('s', 'http://www.wikidata.org/entity/Q3045762'), ('name', 'Primetime Emmy Award for Outstanding Writing for a Comedy Series')]\n",
      "[('s', 'http://www.wikidata.org/entity/Q3062632'), ('name', 'Primetime Emmy Award for Outstanding Guest Actress in a Drama Series')]\n",
      "[('s', 'http://www.wikidata.org/entity/Q3403229'), ('name', 'Primetime Emmy Award for Outstanding Directing for a Limited Series, Movie, or Dramatic Special')]\n",
      "[('s', 'http://www.wikidata.org/entity/Q989445'), ('name', 'Primetime Emmy Award for Outstanding Lead Actress in a Drama Series')]\n",
      "[('s', 'http://www.wikidata.org/entity/Q989449'), ('name', 'Primetime Emmy Award for Outstanding Supporting Actress in a Miniseries or a Movie')]\n",
      "[('s', 'http://www.wikidata.org/entity/Q1287335'), ('name', 'Primetime Emmy Award for Outstanding Lead Actress in a Comedy Series')]\n",
      "[('s', 'http://www.wikidata.org/entity/Q3131545'), ('name', 'Primetime Emmy Award for Outstanding Voice-Over Performance')]\n",
      "[('s', 'http://www.wikidata.org/entity/Q7243513'), ('name', 'Primetime Emmy Award for Outstanding Special Visual Effects')]\n",
      "30\n"
     ]
    }
   ],
   "source": [
    "# write your final query\n",
    "queryString = \"\"\"\n",
    "SELECT DISTINCT ?s ?name\n",
    "WHERE {\n",
    "   # bind something\n",
    "   ?s wdt:P31 wd:Q1044427 .\n",
    "   # get the label\n",
    "   ?s sc:name ?name.\n",
    "}\n",
    "LIMIT 30\n",
    "\"\"\"\n",
    "\n",
    "print(\"Results\")\n",
    "x=run_query(queryString)"
   ]
  },
  {
   "cell_type": "markdown",
   "id": "8cba7677",
   "metadata": {},
   "source": [
    "## Task 8\n",
    "For each film and television series related to the canon of Sherlock Holmes, return the number of Primetime Emmy Awards they won (return also the objects who did not win an Award) (the result set must be a list of triples film/tv series IRI, label and #award)."
   ]
  },
  {
   "cell_type": "code",
   "execution_count": 90,
   "id": "4672fb45",
   "metadata": {},
   "outputs": [
    {
     "name": "stdout",
     "output_type": "stream",
     "text": [
      "Results\n",
      "Empty\n"
     ]
    }
   ],
   "source": [
    "# write your queries\n",
    "queryString = \"\"\"\n",
    "SELECT DISTINCT ?films ?title (COUNT(?award) AS ?award)\n",
    "WHERE {\n",
    "       {?films wdt:P31 wd:Q5398426.}\n",
    "       UNION\n",
    "       {?films wdt:P31 wd:Q11424}\n",
    "       FILTER (REGEX(?title, \".*Sherlock Holmes.*\"))\n",
    "       ?films wdt:P166 ?award ;\n",
    "              sc:name ?title.\n",
    "       ?award wdt:P31 wd:Q1044427 .\n",
    "              \n",
    "   \n",
    "}\n",
    "GROUP BY ?films ?title\n",
    "LIMIT 30\n",
    "\"\"\"\n",
    "\n",
    "print(\"Results\")\n",
    "x=run_query(queryString)"
   ]
  },
  {
   "cell_type": "code",
   "execution_count": 93,
   "id": "12da6e41-b92d-4509-926e-a29a3a528673",
   "metadata": {},
   "outputs": [
    {
     "name": "stdout",
     "output_type": "stream",
     "text": [
      "Results\n",
      "Empty\n"
     ]
    }
   ],
   "source": [
    "queryString = \"\"\"\n",
    "SELECT DISTINCT ?film ?name\n",
    "WHERE {\n",
    "   {\n",
    "       ?film wdt:P31 wd:Q5398426 ;\n",
    "          sc:name ?name.\n",
    "   }\n",
    "   UNION \n",
    "   {\n",
    "       ?film wdt:P31 wd:Q11424 ;\n",
    "          sc:name ?name.\n",
    "   }\n",
    "   FILTER (REGEX(?name, \".*Sherlock Holmes.*\"))\n",
    "   ?film wdt:P166 ?award ;\n",
    "              sc:name ?title .\n",
    "   ?award wdt:P31 wd:Q1044427 .\n",
    "   \n",
    "}\n",
    "LIMIT 50\n",
    "\"\"\"\n",
    "\n",
    "print(\"Results\")\n",
    "x=run_query(queryString)"
   ]
  },
  {
   "cell_type": "code",
   "execution_count": 106,
   "id": "1d3ccc7e-e033-40e9-b52f-58cde91563fb",
   "metadata": {},
   "outputs": [
    {
     "name": "stdout",
     "output_type": "stream",
     "text": [
      "Results\n",
      "[('p', 'http://www.wikidata.org/prop/direct/P1346'), ('value', 'winner'), ('obj', 'http://www.wikidata.org/entity/Q223033'), ('name', 'Sean Hayes')]\n",
      "[('p', 'http://www.wikidata.org/prop/direct/P1346'), ('value', 'winner'), ('obj', 'http://www.wikidata.org/entity/Q508043'), ('name', 'Eric Stonestreet')]\n",
      "[('p', 'http://www.wikidata.org/prop/direct/P1346'), ('value', 'winner'), ('obj', 'http://www.wikidata.org/entity/Q555236'), ('name', 'Don Knotts')]\n",
      "[('p', 'http://www.wikidata.org/prop/direct/P1346'), ('value', 'winner'), ('obj', 'http://www.wikidata.org/entity/Q465442'), ('name', 'Robert Guillaume')]\n",
      "[('p', 'http://www.wikidata.org/prop/direct/P1346'), ('value', 'winner'), ('obj', 'http://www.wikidata.org/entity/Q4538'), ('name', 'Jonathan Winters')]\n",
      "[('p', 'http://www.wikidata.org/prop/direct/P1346'), ('value', 'winner'), ('obj', 'http://www.wikidata.org/entity/Q77566'), ('name', 'Werner Klemperer')]\n",
      "[('p', 'http://www.wikidata.org/prop/direct/P1346'), ('value', 'winner'), ('obj', 'http://www.wikidata.org/entity/Q429821'), ('name', 'Albert Paulsen')]\n",
      "[('p', 'http://www.wikidata.org/prop/direct/P1346'), ('value', 'winner'), ('obj', 'http://www.wikidata.org/entity/Q314945'), ('name', 'Michael Richards')]\n",
      "[('p', 'http://www.wikidata.org/prop/direct/P1346'), ('value', 'winner'), ('obj', 'http://www.wikidata.org/entity/Q299309'), ('name', 'Peter MacNicol')]\n",
      "[('p', 'http://www.wikidata.org/prop/direct/P1346'), ('value', 'winner'), ('obj', 'http://www.wikidata.org/entity/Q109324'), ('name', 'Christopher Lloyd')]\n",
      "[('p', 'http://www.wikidata.org/prop/direct/P1346'), ('value', 'winner'), ('obj', 'http://www.wikidata.org/entity/Q182431'), ('name', 'Art Carney')]\n",
      "[('p', 'http://www.wikidata.org/prop/direct/P1346'), ('value', 'winner'), ('obj', 'http://www.wikidata.org/entity/Q355125'), ('name', 'Harry Morgan')]\n",
      "[('p', 'http://www.wikidata.org/prop/direct/P1346'), ('value', 'winner'), ('obj', 'http://www.wikidata.org/entity/Q471003'), ('name', 'John Larroquette')]\n",
      "[('p', 'http://www.wikidata.org/prop/direct/P1346'), ('value', 'winner'), ('obj', 'http://www.wikidata.org/entity/Q975161'), ('name', 'Alex Rocco')]\n",
      "[('p', 'http://www.wikidata.org/prop/direct/P1346'), ('value', 'winner'), ('obj', 'http://www.wikidata.org/entity/Q373976'), ('name', 'David Hyde Pierce')]\n",
      "[('p', 'http://www.wikidata.org/prop/direct/P1346'), ('value', 'winner'), ('obj', 'http://www.wikidata.org/entity/Q331720'), ('name', 'Brad Garrett')]\n",
      "[('p', 'http://www.wikidata.org/prop/direct/P1346'), ('value', 'winner'), ('obj', 'http://www.wikidata.org/entity/Q287793'), ('name', 'Carl Reiner')]\n",
      "[('p', 'http://www.wikidata.org/prop/direct/P1346'), ('value', 'winner'), ('obj', 'http://www.wikidata.org/entity/Q287607'), ('name', 'Rob Reiner')]\n",
      "[('p', 'http://www.wikidata.org/prop/direct/P1346'), ('value', 'winner'), ('obj', 'http://www.wikidata.org/entity/Q1268679'), ('name', 'Pat Harrington Jr.')]\n",
      "[('p', 'http://www.wikidata.org/prop/direct/P1346'), ('value', 'winner'), ('obj', 'http://www.wikidata.org/entity/Q248179'), ('name', 'Ty Burrell')]\n",
      "[('p', 'http://www.wikidata.org/prop/direct/P1346'), ('value', 'winner'), ('obj', 'http://www.wikidata.org/entity/Q1277943'), ('name', 'Ted Knight')]\n",
      "[('p', 'http://www.wikidata.org/prop/direct/P1346'), ('value', 'winner'), ('obj', 'http://www.wikidata.org/entity/Q601032'), ('name', 'Tony Hale')]\n",
      "[('p', 'http://www.wikidata.org/prop/direct/P1346'), ('value', 'winner'), ('obj', 'http://www.wikidata.org/entity/Q329716'), ('name', 'Michael Jeter')]\n",
      "[('p', 'http://www.wikidata.org/prop/direct/P1346'), ('value', 'winner'), ('obj', 'http://www.wikidata.org/entity/Q313522'), ('name', 'Rip Torn')]\n",
      "[('p', 'http://www.wikidata.org/prop/direct/P1346'), ('value', 'winner'), ('obj', 'http://www.wikidata.org/entity/Q593735'), ('name', 'Gary Burghoff')]\n",
      "[('p', 'http://www.wikidata.org/prop/direct/P1346'), ('value', 'winner'), ('obj', 'http://www.wikidata.org/entity/Q26806'), ('name', 'Danny DeVito')]\n",
      "[('p', 'http://www.wikidata.org/prop/direct/P1346'), ('value', 'winner'), ('obj', 'http://www.wikidata.org/entity/Q201279'), ('name', 'Woody Harrelson')]\n",
      "[('p', 'http://www.wikidata.org/prop/direct/P1346'), ('value', 'winner'), ('obj', 'http://www.wikidata.org/entity/Q315083'), ('name', 'Jeremy Piven')]\n",
      "[('p', 'http://www.wikidata.org/prop/direct/P1346'), ('value', 'winner'), ('obj', 'http://www.wikidata.org/entity/Q967969'), ('name', 'Tom Poston')]\n",
      "[('p', 'http://www.wikidata.org/prop/direct/P1346'), ('value', 'winner'), ('obj', 'http://www.wikidata.org/entity/Q154421'), ('name', 'Ed Asner')]\n",
      "30\n"
     ]
    }
   ],
   "source": [
    "#Q1285970\n",
    "queryString = \"\"\"\n",
    "SELECT DISTINCT ?p ?value ?obj ?name\n",
    "WHERE {\n",
    "   # bind something\n",
    "   wd:Q1285970 ?p ?obj.\n",
    "   # get the label\n",
    "   ?obj sc:name ?name.\n",
    "   ?p sc:name ?value.\n",
    "}\n",
    "LIMIT 30\n",
    "\"\"\"\n",
    "\n",
    "print(\"Results\")\n",
    "x=run_query(queryString)"
   ]
  },
  {
   "cell_type": "code",
   "execution_count": 23,
   "id": "acf64517-f12c-41ac-ac6b-3a6fa63cef75",
   "metadata": {
    "tags": []
   },
   "outputs": [
    {
     "name": "stdout",
     "output_type": "stream",
     "text": [
      "Results\n",
      "[('film', 'http://www.wikidata.org/entity/Q500769'), ('name', 'Freaks and Geeks'), ('award', 'http://www.wikidata.org/entity/Q7243495'), ('title', 'Primetime Emmy Award for Outstanding Casting for a Comedy Series')]\n",
      "[('film', 'http://www.wikidata.org/entity/Q1145054'), ('name', 'The NBC Mystery Movie'), ('award', 'http://www.wikidata.org/entity/Q3123491'), ('title', 'Primetime Emmy Award for Outstanding Writing for a Drama Series')]\n",
      "[('film', 'http://www.wikidata.org/entity/Q1145054'), ('name', 'The NBC Mystery Movie'), ('award', 'http://www.wikidata.org/entity/Q20714679'), ('title', 'Primetime Emmy Award for Outstanding Limited Miniseries')]\n",
      "[('film', 'http://www.wikidata.org/entity/Q1145054'), ('name', 'The NBC Mystery Movie'), ('award', 'http://www.wikidata.org/entity/Q989447'), ('title', 'Primetime Emmy Award for Outstanding Lead Actress in a Miniseries or a Movie')]\n",
      "[('film', 'http://www.wikidata.org/entity/Q1145054'), ('name', 'The NBC Mystery Movie'), ('award', 'http://www.wikidata.org/entity/Q989453'), ('title', 'Primetime Emmy Award for Outstanding Lead Actor in a Miniseries or a Movie')]\n",
      "5\n"
     ]
    }
   ],
   "source": [
    "queryString = \"\"\"\n",
    "SELECT DISTINCT ?film ?name ?award ?title\n",
    "WHERE {\n",
    "   {\n",
    "       ?film wdt:P31 wd:Q5398426 .\n",
    "   }\n",
    "   UNION \n",
    "   {\n",
    "       ?film wdt:P31 wd:Q11424 .\n",
    "          \n",
    "   }\n",
    "   ?film sc:name ?name ;\n",
    "         wdt:P166 ?award .\n",
    "   ?award  wdt:P31 wd:Q1044427 ;\n",
    "           sc:name ?title .\n",
    "   \n",
    "}\n",
    "LIMIT 5\n",
    "\"\"\"\n",
    "\n",
    "print(\"Results\")\n",
    "x=run_query(queryString)"
   ]
  },
  {
   "cell_type": "code",
   "execution_count": 21,
   "id": "54c67dcb-b0a2-43fc-85ee-72019dd8fcab",
   "metadata": {},
   "outputs": [
    {
     "name": "stdout",
     "output_type": "stream",
     "text": [
      "Results\n",
      "[('p', 'http://www.wikidata.org/prop/direct/P136'), ('name', 'genre'), ('obj', 'http://www.wikidata.org/entity/Q663106'), ('value', 'buddy film')]\n",
      "[('p', 'http://www.wikidata.org/prop/direct/P144'), ('name', 'based on'), ('obj', 'http://www.wikidata.org/entity/Q2316684'), ('value', 'canon of Sherlock Holmes')]\n",
      "[('p', 'http://www.wikidata.org/prop/direct/P161'), ('name', 'cast member'), ('obj', 'http://www.wikidata.org/entity/Q4360503'), ('value', 'Igor Petrenko')]\n",
      "[('p', 'http://www.wikidata.org/prop/direct/P449'), ('name', 'original broadcaster'), ('obj', 'http://www.wikidata.org/entity/Q211511'), ('value', 'Russia-1')]\n",
      "[('p', 'http://www.wikidata.org/prop/direct/P915'), ('name', 'filming location'), ('obj', 'http://www.wikidata.org/entity/Q159'), ('value', 'Russia')]\n",
      "[('p', 'http://www.wikidata.org/prop/direct/P495'), ('name', 'country of origin'), ('obj', 'http://www.wikidata.org/entity/Q159'), ('value', 'Russia')]\n",
      "[('p', 'http://www.wikidata.org/prop/direct/P31'), ('name', 'instance of'), ('obj', 'http://www.wikidata.org/entity/Q5398426'), ('value', 'television series')]\n",
      "[('p', 'http://www.wikidata.org/prop/direct/P364'), ('name', 'original language of film or TV show'), ('obj', 'http://www.wikidata.org/entity/Q7737'), ('value', 'Russian')]\n",
      "[('p', 'http://www.wikidata.org/prop/direct/P840'), ('name', 'narrative location'), ('obj', 'http://www.wikidata.org/entity/Q84'), ('value', 'London')]\n",
      "[('p', 'http://www.wikidata.org/prop/direct/P136'), ('name', 'genre'), ('obj', 'http://www.wikidata.org/entity/Q186424'), ('value', 'detective fiction')]\n",
      "[('p', 'http://www.wikidata.org/prop/direct/P161'), ('name', 'cast member'), ('obj', 'http://www.wikidata.org/entity/Q2375210'), ('value', 'Andrei Panin')]\n",
      "[('p', 'http://www.wikidata.org/prop/direct/P170'), ('name', 'creator'), ('obj', 'http://www.wikidata.org/entity/Q4504080'), ('value', 'Central Partnership')]\n",
      "[('p', 'http://www.wikidata.org/prop/direct/P750'), ('name', 'distributed by'), ('obj', 'http://www.wikidata.org/entity/Q4504080'), ('value', 'Central Partnership')]\n",
      "[('p', 'http://www.wikidata.org/prop/direct/P272'), ('name', 'production company'), ('obj', 'http://www.wikidata.org/entity/Q4504080'), ('value', 'Central Partnership')]\n",
      "[('p', 'http://www.wikidata.org/prop/direct/P161'), ('name', 'cast member'), ('obj', 'http://www.wikidata.org/entity/Q435437'), ('value', 'Ingeborga Dapkūnaitė')]\n",
      "[('p', 'http://www.wikidata.org/prop/direct/P161'), ('name', 'cast member'), ('obj', 'http://www.wikidata.org/entity/Q544641'), ('value', 'Mikhail Boyarsky')]\n",
      "[('p', 'http://www.wikidata.org/prop/direct/P58'), ('name', 'screenwriter'), ('obj', 'http://www.wikidata.org/entity/Q4244557'), ('value', 'Zoya Kudrya')]\n",
      "[('p', 'http://www.wikidata.org/prop/direct/P31'), ('name', 'instance of'), ('obj', 'http://www.wikidata.org/entity/Q1259759'), ('value', 'miniseries')]\n",
      "[('p', 'http://www.wikidata.org/prop/direct/P161'), ('name', 'cast member'), ('obj', 'http://www.wikidata.org/entity/Q2834347'), ('value', 'Oleksiy Gorbunov')]\n",
      "[('p', 'http://www.wikidata.org/prop/direct/P58'), ('name', 'screenwriter'), ('obj', 'http://www.wikidata.org/entity/Q4366591'), ('value', 'Oleg Pogodin')]\n",
      "[('p', 'http://www.wikidata.org/prop/direct/P161'), ('name', 'cast member'), ('obj', 'http://www.wikidata.org/entity/Q4151002'), ('value', 'Lyanka Gryu')]\n",
      "[('p', 'http://www.wikidata.org/prop/direct/P58'), ('name', 'screenwriter'), ('obj', 'http://www.wikidata.org/entity/Q4373130'), ('value', 'Leonid Porokhnya')]\n",
      "[('p', 'http://www.wikidata.org/prop/direct/P58'), ('name', 'screenwriter'), ('obj', 'http://www.wikidata.org/entity/Q4207063'), ('value', 'Andrey Kavun')]\n",
      "[('p', 'http://www.wikidata.org/prop/direct/P57'), ('name', 'director'), ('obj', 'http://www.wikidata.org/entity/Q4207063'), ('value', 'Andrey Kavun')]\n",
      "24\n"
     ]
    }
   ],
   "source": [
    "queryString = \"\"\"\n",
    "SELECT DISTINCT ?p ?name ?obj ?value\n",
    "WHERE {\n",
    "   # bind something\n",
    "   wd:Q4523158 ?p ?obj .\n",
    "   # get the label\n",
    "   ?p sc:name ?name .\n",
    "   ?obj sc:name ?value\n",
    "}\n",
    "LIMIT 30\n",
    "\"\"\"\n",
    "\n",
    "print(\"Results\")\n",
    "x=run_query(queryString)"
   ]
  },
  {
   "cell_type": "code",
   "execution_count": 24,
   "id": "6d952917-977e-4da8-bc3f-4b80be6072ae",
   "metadata": {},
   "outputs": [
    {
     "name": "stdout",
     "output_type": "stream",
     "text": [
      "Results\n",
      "[('film', 'http://www.wikidata.org/entity/Q192837'), ('name', 'Sherlock'), ('award', 'http://www.wikidata.org/entity/Q17986500'), ('title', 'Primetime Emmy Award for Outstanding Cinematography for a Miniseries or Movie')]\n",
      "[('film', 'http://www.wikidata.org/entity/Q192837'), ('name', 'Sherlock'), ('award', 'http://www.wikidata.org/entity/Q16254850'), ('title', 'Primetime Emmy Award for Outstanding Sound Editing for a Limited or Anthology Series, Movie or Special')]\n",
      "[('film', 'http://www.wikidata.org/entity/Q192837'), ('name', 'Sherlock'), ('award', 'http://www.wikidata.org/entity/Q945887'), ('title', 'Primetime Emmy Award for Outstanding Supporting Actor in a Miniseries or a Movie')]\n",
      "[('film', 'http://www.wikidata.org/entity/Q192837'), ('name', 'Sherlock'), ('award', 'http://www.wikidata.org/entity/Q3403230'), ('title', 'Primetime Emmy Award for Outstanding Writing for a Miniseries, Movie or a Dramatic Special')]\n",
      "[('film', 'http://www.wikidata.org/entity/Q192837'), ('name', 'Sherlock'), ('award', 'http://www.wikidata.org/entity/Q7243506'), ('title', 'Primetime Emmy Award for Outstanding Made for Television Movie')]\n",
      "[('film', 'http://www.wikidata.org/entity/Q192837'), ('name', 'Sherlock'), ('award', 'http://www.wikidata.org/entity/Q7243513'), ('title', 'Primetime Emmy Award for Outstanding Special Visual Effects')]\n",
      "[('film', 'http://www.wikidata.org/entity/Q192837'), ('name', 'Sherlock'), ('award', 'http://www.wikidata.org/entity/Q17009259'), ('title', 'Primetime Emmy Award for Outstanding Music Composition for a Miniseries, Movie, or a Special')]\n",
      "[('film', 'http://www.wikidata.org/entity/Q192837'), ('name', 'Sherlock'), ('award', 'http://www.wikidata.org/entity/Q989453'), ('title', 'Primetime Emmy Award for Outstanding Lead Actor in a Miniseries or a Movie')]\n",
      "8\n"
     ]
    }
   ],
   "source": [
    "queryString = \"\"\"\n",
    "SELECT DISTINCT ?film ?name ?award ?title\n",
    "WHERE {\n",
    "   {\n",
    "       ?film wdt:P31 wd:Q5398426 .\n",
    "   }\n",
    "   UNION \n",
    "   {\n",
    "       ?film wdt:P31 wd:Q11424 .\n",
    "          \n",
    "   }\n",
    "   ?film sc:name ?name ;\n",
    "         wdt:P144 wd:Q2316684 ;\n",
    "         wdt:P166 ?award .\n",
    "   ?award  wdt:P31 wd:Q1044427 ;\n",
    "           sc:name ?title .\n",
    "   \n",
    "}\n",
    "LIMIT 50\n",
    "\"\"\"\n",
    "\n",
    "print(\"Results\")\n",
    "x=run_query(queryString)"
   ]
  },
  {
   "cell_type": "code",
   "execution_count": 25,
   "id": "66ac971c-4f69-4ae5-9ad5-d8971640daee",
   "metadata": {},
   "outputs": [
    {
     "name": "stdout",
     "output_type": "stream",
     "text": [
      "Results\n",
      "[('film', 'http://www.wikidata.org/entity/Q192837'), ('name', 'Sherlock'), ('award', 'http://www.wikidata.org/entity/Q17986500'), ('title', 'Primetime Emmy Award for Outstanding Cinematography for a Miniseries or Movie')]\n",
      "[('film', 'http://www.wikidata.org/entity/Q192837'), ('name', 'Sherlock'), ('award', 'http://www.wikidata.org/entity/Q16254850'), ('title', 'Primetime Emmy Award for Outstanding Sound Editing for a Limited or Anthology Series, Movie or Special')]\n",
      "[('film', 'http://www.wikidata.org/entity/Q192837'), ('name', 'Sherlock'), ('award', 'http://www.wikidata.org/entity/Q945887'), ('title', 'Primetime Emmy Award for Outstanding Supporting Actor in a Miniseries or a Movie')]\n",
      "[('film', 'http://www.wikidata.org/entity/Q192837'), ('name', 'Sherlock'), ('award', 'http://www.wikidata.org/entity/Q3403230'), ('title', 'Primetime Emmy Award for Outstanding Writing for a Miniseries, Movie or a Dramatic Special')]\n",
      "[('film', 'http://www.wikidata.org/entity/Q192837'), ('name', 'Sherlock'), ('award', 'http://www.wikidata.org/entity/Q7243506'), ('title', 'Primetime Emmy Award for Outstanding Made for Television Movie')]\n",
      "[('film', 'http://www.wikidata.org/entity/Q192837'), ('name', 'Sherlock'), ('award', 'http://www.wikidata.org/entity/Q7243513'), ('title', 'Primetime Emmy Award for Outstanding Special Visual Effects')]\n",
      "[('film', 'http://www.wikidata.org/entity/Q192837'), ('name', 'Sherlock'), ('award', 'http://www.wikidata.org/entity/Q17009259'), ('title', 'Primetime Emmy Award for Outstanding Music Composition for a Miniseries, Movie, or a Special')]\n",
      "[('film', 'http://www.wikidata.org/entity/Q192837'), ('name', 'Sherlock'), ('award', 'http://www.wikidata.org/entity/Q989453'), ('title', 'Primetime Emmy Award for Outstanding Lead Actor in a Miniseries or a Movie')]\n",
      "8\n"
     ]
    }
   ],
   "source": [
    "queryString = \"\"\"\n",
    "SELECT DISTINCT ?film ?name ?award ?title\n",
    "WHERE {\n",
    "   {\n",
    "       ?film wdt:P31 wd:Q5398426 .\n",
    "   }\n",
    "   UNION \n",
    "   {\n",
    "       ?film wdt:P31 wd:Q11424 .\n",
    "          \n",
    "   }\n",
    "   ?film sc:name ?name ;\n",
    "         ?relation wd:Q2316684 ;\n",
    "         wdt:P166 ?award .\n",
    "   ?award  wdt:P31 wd:Q1044427 ;\n",
    "           sc:name ?title .\n",
    "   \n",
    "}\n",
    "LIMIT 50\n",
    "\"\"\"\n",
    "\n",
    "print(\"Results\")\n",
    "x=run_query(queryString)"
   ]
  },
  {
   "cell_type": "code",
   "execution_count": 28,
   "id": "58f95632-f146-4942-bdad-643be3831e79",
   "metadata": {},
   "outputs": [
    {
     "name": "stdout",
     "output_type": "stream",
     "text": [
      "Results\n",
      "[('name', 'Sherlock'), ('relation', 'http://www.wikidata.org/prop/direct/P144'), ('relationType', 'based on'), ('award', 'http://www.wikidata.org/entity/Q17986500'), ('title', 'Primetime Emmy Award for Outstanding Cinematography for a Miniseries or Movie')]\n",
      "[('name', 'Sherlock'), ('relation', 'http://www.wikidata.org/prop/direct/P144'), ('relationType', 'based on'), ('award', 'http://www.wikidata.org/entity/Q16254850'), ('title', 'Primetime Emmy Award for Outstanding Sound Editing for a Limited or Anthology Series, Movie or Special')]\n",
      "[('name', 'Sherlock'), ('relation', 'http://www.wikidata.org/prop/direct/P144'), ('relationType', 'based on'), ('award', 'http://www.wikidata.org/entity/Q945887'), ('title', 'Primetime Emmy Award for Outstanding Supporting Actor in a Miniseries or a Movie')]\n",
      "[('name', 'Sherlock'), ('relation', 'http://www.wikidata.org/prop/direct/P144'), ('relationType', 'based on'), ('award', 'http://www.wikidata.org/entity/Q3403230'), ('title', 'Primetime Emmy Award for Outstanding Writing for a Miniseries, Movie or a Dramatic Special')]\n",
      "[('name', 'Sherlock'), ('relation', 'http://www.wikidata.org/prop/direct/P144'), ('relationType', 'based on'), ('award', 'http://www.wikidata.org/entity/Q7243506'), ('title', 'Primetime Emmy Award for Outstanding Made for Television Movie')]\n",
      "[('name', 'Sherlock'), ('relation', 'http://www.wikidata.org/prop/direct/P144'), ('relationType', 'based on'), ('award', 'http://www.wikidata.org/entity/Q7243513'), ('title', 'Primetime Emmy Award for Outstanding Special Visual Effects')]\n",
      "[('name', 'Sherlock'), ('relation', 'http://www.wikidata.org/prop/direct/P144'), ('relationType', 'based on'), ('award', 'http://www.wikidata.org/entity/Q17009259'), ('title', 'Primetime Emmy Award for Outstanding Music Composition for a Miniseries, Movie, or a Special')]\n",
      "[('name', 'Sherlock'), ('relation', 'http://www.wikidata.org/prop/direct/P144'), ('relationType', 'based on'), ('award', 'http://www.wikidata.org/entity/Q989453'), ('title', 'Primetime Emmy Award for Outstanding Lead Actor in a Miniseries or a Movie')]\n",
      "8\n"
     ]
    }
   ],
   "source": [
    "queryString = \"\"\"\n",
    "SELECT DISTINCT  ?name ?relation ?relationType ?award ?title\n",
    "WHERE {\n",
    "   {\n",
    "       ?film wdt:P31 wd:Q5398426 .\n",
    "   }\n",
    "   UNION \n",
    "   {\n",
    "       ?film wdt:P31 wd:Q11424 .\n",
    "          \n",
    "   }\n",
    "   ?film sc:name ?name ;\n",
    "         ?relation wd:Q2316684 ;\n",
    "         wdt:P166 ?award .\n",
    "   ?award  wdt:P31 wd:Q1044427 ;\n",
    "           sc:name ?title .\n",
    "   ?relation sc:name ?relationType .\n",
    "   \n",
    "}\n",
    "LIMIT 50\n",
    "\"\"\"\n",
    "\n",
    "print(\"Results\")\n",
    "x=run_query(queryString)"
   ]
  },
  {
   "cell_type": "markdown",
   "id": "d42f40bd",
   "metadata": {},
   "source": [
    "Final query for this task"
   ]
  },
  {
   "cell_type": "code",
   "execution_count": 29,
   "id": "79a48bd1",
   "metadata": {},
   "outputs": [
    {
     "name": "stdout",
     "output_type": "stream",
     "text": [
      "Results\n",
      "[('film', 'http://www.wikidata.org/entity/Q192837'), ('name', 'Sherlock'), ('award', 'http://www.wikidata.org/entity/Q17986500'), ('title', 'Primetime Emmy Award for Outstanding Cinematography for a Miniseries or Movie')]\n",
      "[('film', 'http://www.wikidata.org/entity/Q192837'), ('name', 'Sherlock'), ('award', 'http://www.wikidata.org/entity/Q16254850'), ('title', 'Primetime Emmy Award for Outstanding Sound Editing for a Limited or Anthology Series, Movie or Special')]\n",
      "[('film', 'http://www.wikidata.org/entity/Q192837'), ('name', 'Sherlock'), ('award', 'http://www.wikidata.org/entity/Q945887'), ('title', 'Primetime Emmy Award for Outstanding Supporting Actor in a Miniseries or a Movie')]\n",
      "[('film', 'http://www.wikidata.org/entity/Q192837'), ('name', 'Sherlock'), ('award', 'http://www.wikidata.org/entity/Q3403230'), ('title', 'Primetime Emmy Award for Outstanding Writing for a Miniseries, Movie or a Dramatic Special')]\n",
      "[('film', 'http://www.wikidata.org/entity/Q192837'), ('name', 'Sherlock'), ('award', 'http://www.wikidata.org/entity/Q7243506'), ('title', 'Primetime Emmy Award for Outstanding Made for Television Movie')]\n",
      "[('film', 'http://www.wikidata.org/entity/Q192837'), ('name', 'Sherlock'), ('award', 'http://www.wikidata.org/entity/Q7243513'), ('title', 'Primetime Emmy Award for Outstanding Special Visual Effects')]\n",
      "[('film', 'http://www.wikidata.org/entity/Q192837'), ('name', 'Sherlock'), ('award', 'http://www.wikidata.org/entity/Q17009259'), ('title', 'Primetime Emmy Award for Outstanding Music Composition for a Miniseries, Movie, or a Special')]\n",
      "[('film', 'http://www.wikidata.org/entity/Q192837'), ('name', 'Sherlock'), ('award', 'http://www.wikidata.org/entity/Q989453'), ('title', 'Primetime Emmy Award for Outstanding Lead Actor in a Miniseries or a Movie')]\n",
      "8\n"
     ]
    }
   ],
   "source": [
    "# write your final query\n",
    "queryString = \"\"\"\n",
    "SELECT DISTINCT ?film ?name ?award ?title\n",
    "WHERE {\n",
    "   {\n",
    "       ?film wdt:P31 wd:Q5398426 .\n",
    "   }\n",
    "   UNION \n",
    "   {\n",
    "       ?film wdt:P31 wd:Q11424 .\n",
    "          \n",
    "   }\n",
    "   ?film sc:name ?name ;\n",
    "         ?relation wd:Q2316684 ;\n",
    "         wdt:P166 ?award .\n",
    "   ?award  wdt:P31 wd:Q1044427 ;\n",
    "           sc:name ?title .\n",
    "   ?relation sc:name ?relationType .\n",
    "   \n",
    "}\n",
    "LIMIT 50\n",
    "\"\"\"\n",
    "\n",
    "print(\"Results\")\n",
    "x=run_query(queryString)"
   ]
  }
 ],
 "metadata": {
  "kernelspec": {
   "display_name": "Python 3",
   "language": "python",
   "name": "python3"
  },
  "language_info": {
   "codemirror_mode": {
    "name": "ipython",
    "version": 3
   },
   "file_extension": ".py",
   "mimetype": "text/x-python",
   "name": "python",
   "nbconvert_exporter": "python",
   "pygments_lexer": "ipython3",
   "version": "3.7.10"
  }
 },
 "nbformat": 4,
 "nbformat_minor": 5
}
