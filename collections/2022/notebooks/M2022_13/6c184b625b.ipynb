{
 "cells": [
  {
   "cell_type": "markdown",
   "id": "39478f50",
   "metadata": {},
   "source": [
    "# General instructions\n",
    "\n",
    "The goal of the project is to materialize a set of **exploratory workloads** over a real-world, large-scale,  open-domain KG: [WikiData](https://www.wikidata.org/wiki/Wikidata:Main_Page)\n",
    "\n",
    "An exploratory workload  is composed by a set of queries, where each query is related to the information obtained previously.\n",
    "\n",
    "An exploratory workload starts with a usually vague, open ended question, and does not assume the person issuing the workload has a clear understanding of the data contained in the target database or its structure.\n",
    "\n",
    "Remeber that:\n",
    "\n",
    "1. All the queries must run in the python notebook\n",
    "2. You can use classes and properties only if you find them via a SPARQL query that must be present in the notebook\n",
    "3. You do not delete useless queries. Keep everything that is synthatically valid \n",
    "\n",
    "```\n",
    "?p <http://schema.org/name> ?name .\n",
    "```\n",
    "    \n",
    "    is the BGP returning a human-readable name of a property or a class in Wikidata.\n",
    "    \n",
    "    "
   ]
  },
  {
   "cell_type": "code",
   "execution_count": 2,
   "id": "5a2fa4d0",
   "metadata": {},
   "outputs": [],
   "source": [
    "## SETUP used later\n",
    "\n",
    "from SPARQLWrapper import SPARQLWrapper, JSON\n",
    "\n",
    "\n",
    "prefixString = \"\"\"\n",
    "##-6c184b625b-##\n",
    "PREFIX wd: <http://www.wikidata.org/entity/> \n",
    "PREFIX wdt: <http://www.wikidata.org/prop/direct/> \n",
    "PREFIX sc: <http://schema.org/>\n",
    "\"\"\"\n",
    "\n",
    "# select and construct queries\n",
    "def run_query(queryString,verbose = True):\n",
    "    to_run = prefixString + \"\\n\" + queryString\n",
    "\n",
    "    sparql = SPARQLWrapper(\"http://a256-gc1-03.srv.aau.dk:5820/sparql\")\n",
    "    sparql.setTimeout(300)\n",
    "    sparql.setReturnFormat(JSON)\n",
    "    sparql.setQuery(to_run)\n",
    "\n",
    "    try :\n",
    "        results = sparql.query()\n",
    "        json_results = results.convert()\n",
    "        if len(json_results['results']['bindings'])==0:\n",
    "            print(\"Empty\")\n",
    "            return []\n",
    "        array = []\n",
    "        for bindings in json_results['results']['bindings']:\n",
    "            app =  [ (var, value['value'])  for var, value in bindings.items() ] \n",
    "            if verbose:\n",
    "                print( app)\n",
    "            array.append(app)\n",
    "        if verbose:\n",
    "            print(len(array))\n",
    "        return array\n",
    "\n",
    "    except Exception as e :\n",
    "        print(\"The operation failed\", e)\n",
    "    \n",
    "# ASk queries\n",
    "def run_ask_query(queryString):\n",
    "    to_run = prefixString + \"\\n\" + queryString\n",
    "\n",
    "    sparql = SPARQLWrapper(\"http://a256-gc1-03.srv.aau.dk:5820/sparql\")\n",
    "    sparql.setTimeout(300)\n",
    "    sparql.setReturnFormat(JSON)\n",
    "    sparql.setQuery(to_run)\n",
    "\n",
    "    try :\n",
    "        return sparql.query().convert()\n",
    "\n",
    "    except Exception as e :\n",
    "        print(\"The operation failed\", e)"
   ]
  },
  {
   "cell_type": "markdown",
   "id": "d4aad88a",
   "metadata": {},
   "source": [
    "# Movie Workflow Series (\"Tv series Without a Trace explorative search\") \n",
    "\n",
    "\n",
    "Consider the following exploratory scenario:\n",
    "\n",
    "\n",
    "> we are interested in the TV series \"Without a Trace\" and we want to investigate the main aspects related to the actors and directors involved in the production, know the numerber of seasons and check what are the episodes which got the higher success/impact.\n",
    "\n",
    "\n",
    "## Useful URIs for the current workflow\n",
    "The following are given:\n",
    "\n",
    "| IRI           | Description   | Role      |\n",
    "| -----------   | -----------   |-----------|\n",
    "| `wdt:P1647`   | subproperty   | predicate |\n",
    "| `wdt:P31`     | instance of   | predicate |\n",
    "| `wdt:P106`    | profession    | predicate | \n",
    "| `wdt:P279`    | subclass      | predicate |\n",
    "| `wdt:P4969`    | derivative work      | predicate |\n",
    "| `wd:Q826477` | Without a Trace    | node |\n",
    "| `wd:Q733960` | Cold Case       | node |\n",
    "\n",
    "\n",
    "\n",
    "Also consider\n",
    "\n",
    "```\n",
    "wd:Q826477 ?p ?obj .\n",
    "```\n",
    "\n",
    "is the BGP to retrieve all **properties of Without a Trace**\n",
    "\n",
    "Please consider that when you return a resource, you should return the IRI and the label of the resource. In particular, when the task require you to identify a BGP the result set must always be a list of couples IRI - label.\n",
    "\n",
    "\n",
    "\n",
    "The workload should\n",
    "\n",
    "1. Identify the BGP for television series\n",
    "\n",
    "2. Return the number of seasons and episodes per season of the tv series (the result set must be triples of season IRI, label and #episodes).\n",
    "\n",
    "3. Get the number of episodes in which the cast members played a role. Who are the most present actors? (the result set must be a list of triples actor/actress IRI, label and #episodes)\n",
    "\n",
    "4. Check who is the actor who acted in more films while working on \"Without a Trace\" (the result set must be a list of triples actor/actress IRI, label and #films).\n",
    "\n",
    "5. Compare Without a Trace with the tv series \"Cold Case\" in terms of number of seasons, episods and cast members (the result set must be two elements -one for each tv series- of tv series IRI, label, #seasons, #episodes and #cast members).\n",
    "\n",
    "6. Return the actors who are members of the cast of Without a Trace have [Kavin Bacon number](https://en.wikipedia.org/wiki/Six_Degrees_of_Kevin_Bacon#:~:text=Kevin%20Bacon%20himself%20has%20a,Bacon%20number%20is%20N%2B1.) equal to 2 (the result set must be a list of couples actor/actress IRI and label).\n",
    "\n",
    "7. Consider the actors who are members of the cast of Cold Case. Amongst the tv series which these actors acted return only those which received more than 2 awards (the result set must be triples of tv series IRI, label, #awards won)."
   ]
  },
  {
   "cell_type": "markdown",
   "id": "00cc8093",
   "metadata": {},
   "source": [
    "## Task 1\n",
    "Identify the BGP for television series"
   ]
  },
  {
   "cell_type": "code",
   "execution_count": 2,
   "id": "79222dab",
   "metadata": {},
   "outputs": [
    {
     "name": "stdout",
     "output_type": "stream",
     "text": [
      "Results\n",
      "[('p', 'http://www.wikidata.org/prop/direct/P1113'), ('name', 'number of episodes')]\n",
      "[('p', 'http://www.wikidata.org/prop/direct/P1258'), ('name', 'Rotten Tomatoes ID')]\n",
      "[('p', 'http://www.wikidata.org/prop/direct/P1267'), ('name', 'AlloCiné series ID')]\n",
      "[('p', 'http://www.wikidata.org/prop/direct/P136'), ('name', 'genre')]\n",
      "[('p', 'http://www.wikidata.org/prop/direct/P1476'), ('name', 'title')]\n",
      "[('p', 'http://www.wikidata.org/prop/direct/P154'), ('name', 'logo image')]\n",
      "[('p', 'http://www.wikidata.org/prop/direct/P1562'), ('name', 'AllMovie title ID')]\n",
      "[('p', 'http://www.wikidata.org/prop/direct/P161'), ('name', 'cast member')]\n",
      "[('p', 'http://www.wikidata.org/prop/direct/P170'), ('name', 'creator')]\n",
      "[('p', 'http://www.wikidata.org/prop/direct/P1712'), ('name', 'Metacritic ID')]\n",
      "[('p', 'http://www.wikidata.org/prop/direct/P1811'), ('name', 'list of episodes')]\n",
      "[('p', 'http://www.wikidata.org/prop/direct/P2047'), ('name', 'duration')]\n",
      "[('p', 'http://www.wikidata.org/prop/direct/P2061'), ('name', 'aspect ratio')]\n",
      "[('p', 'http://www.wikidata.org/prop/direct/P2437'), ('name', 'number of seasons')]\n",
      "[('p', 'http://www.wikidata.org/prop/direct/P2529'), ('name', 'ČSFD film ID')]\n",
      "[('p', 'http://www.wikidata.org/prop/direct/P2581'), ('name', 'BabelNet ID')]\n",
      "[('p', 'http://www.wikidata.org/prop/direct/P2603'), ('name', 'Kinopoisk film ID')]\n",
      "[('p', 'http://www.wikidata.org/prop/direct/P2638'), ('name', 'TV.com ID')]\n",
      "[('p', 'http://www.wikidata.org/prop/direct/P2703'), ('name', 'BFI National Archive work ID')]\n",
      "[('p', 'http://www.wikidata.org/prop/direct/P2704'), ('name', 'EIDR content ID')]\n",
      "20\n"
     ]
    }
   ],
   "source": [
    "# query example\n",
    "queryString = \"\"\"\n",
    "SELECT DISTINCT ?p ?name\n",
    "WHERE {\n",
    "   # bind something\n",
    "   wd:Q826477 ?p ?obj .\n",
    "   # get the label\n",
    "   ?p sc:name ?name.\n",
    "}\n",
    "LIMIT 20\n",
    "\"\"\"\n",
    "\n",
    "print(\"Results\")\n",
    "x=run_query(queryString)"
   ]
  },
  {
   "cell_type": "markdown",
   "id": "a0712672",
   "metadata": {},
   "source": [
    "Final query for this task"
   ]
  },
  {
   "cell_type": "code",
   "execution_count": 7,
   "id": "da13386f",
   "metadata": {},
   "outputs": [
    {
     "name": "stdout",
     "output_type": "stream",
     "text": [
      "Results\n",
      "[('obj', 'http://www.wikidata.org/entity/Q5398426'), ('name', 'television series')]\n",
      "1\n"
     ]
    }
   ],
   "source": [
    "# write your final query\n",
    "queryString = \"\"\"\n",
    "SELECT DISTINCT ?obj ?name\n",
    "WHERE {\n",
    "   # bind something\n",
    "   wd:Q826477 wdt:P31 ?obj .\n",
    "   # get the label\n",
    "   ?obj sc:name ?name.\n",
    "}\n",
    "LIMIT 20\n",
    "\"\"\"\n",
    "\n",
    "print(\"Results\")\n",
    "x=run_query(queryString)"
   ]
  },
  {
   "cell_type": "markdown",
   "id": "3c811a6d",
   "metadata": {},
   "source": [
    "## Task 2\n",
    "Return the number of seasons and episodes per season of the tv series (the result set must be triples of season IRI, label and #episodes)."
   ]
  },
  {
   "cell_type": "code",
   "execution_count": 11,
   "id": "00737576",
   "metadata": {},
   "outputs": [
    {
     "name": "stdout",
     "output_type": "stream",
     "text": [
      "Results\n",
      "[('obj', 'http://www.wikidata.org/entity/Q282789'), ('name', 'list of Without a Trace episodes')]\n",
      "1\n"
     ]
    }
   ],
   "source": [
    "# write your queries\n",
    "#exploring the list of episodes object\n",
    "queryString = \"\"\"\n",
    "SELECT DISTINCT ?obj ?name\n",
    "WHERE {\n",
    "   # bind something\n",
    "   wd:Q826477 wdt:P1811 ?obj .\n",
    "   # get the label\n",
    "   ?obj sc:name ?name.\n",
    "}\n",
    "LIMIT 20\n",
    "\"\"\"\n",
    "\n",
    "print(\"Results\")\n",
    "x=run_query(queryString)"
   ]
  },
  {
   "cell_type": "code",
   "execution_count": 12,
   "id": "e560697e-5320-4a3d-9142-3c3079c034b5",
   "metadata": {},
   "outputs": [
    {
     "name": "stdout",
     "output_type": "stream",
     "text": [
      "Results\n",
      "[('p', 'http://www.wikidata.org/prop/direct/P360'), ('namep', 'is a list of'), ('obj', 'http://www.wikidata.org/entity/Q1983062'), ('name', 'episode')]\n",
      "[('p', 'http://www.wikidata.org/prop/direct/P31'), ('namep', 'instance of'), ('obj', 'http://www.wikidata.org/entity/Q13406463'), ('name', 'Wikimedia list article')]\n",
      "[('p', 'http://www.wikidata.org/prop/direct/P360'), ('namep', 'is a list of'), ('obj', 'http://www.wikidata.org/entity/Q21191270'), ('name', 'television series episode')]\n",
      "3\n"
     ]
    }
   ],
   "source": [
    "#not going anywhere but we've still retrieved the BGP of episode\n",
    "queryString = \"\"\"\n",
    "SELECT DISTINCT ?p ?namep ?obj ?name\n",
    "WHERE {\n",
    "   # bind something\n",
    "   wd:Q282789 ?p ?obj .\n",
    "   # get the label\n",
    "   ?p sc:name ?namep .\n",
    "   ?obj sc:name ?name.\n",
    "}\n",
    "LIMIT 20\n",
    "\"\"\"\n",
    "\n",
    "print(\"Results\")\n",
    "x=run_query(queryString)"
   ]
  },
  {
   "cell_type": "code",
   "execution_count": 21,
   "id": "6b35f862-d955-48f6-a673-f849f3eda7ea",
   "metadata": {},
   "outputs": [
    {
     "name": "stdout",
     "output_type": "stream",
     "text": [
      "Results\n",
      "[('obj', '7')]\n",
      "1\n"
     ]
    }
   ],
   "source": [
    "#looking at what the property \"number of seasons\" is doing. We would like to retrieve the object season. Maybe using the episode object from before\n",
    "queryString = \"\"\"\n",
    "SELECT DISTINCT ?obj \n",
    "WHERE {\n",
    "   # bind something\n",
    "   wd:Q826477 wdt:P2437 ?obj .\n",
    "   # get the label\n",
    "}\n",
    "LIMIT 20\n",
    "\"\"\"\n",
    "\n",
    "print(\"Results\")\n",
    "x=run_query(queryString)"
   ]
  },
  {
   "cell_type": "code",
   "execution_count": 7,
   "id": "7fddc340-72ec-4ef3-a49d-a13aa9320c18",
   "metadata": {},
   "outputs": [
    {
     "name": "stdout",
     "output_type": "stream",
     "text": [
      "Results\n",
      "[('p', 'http://www.wikidata.org/prop/direct/P1687'), ('namep', 'Wikidata property'), ('obj', 'http://www.wikidata.org/entity/P1113'), ('name', 'number of episodes')]\n",
      "[('p', 'http://www.wikidata.org/prop/direct/P361'), ('namep', 'part of'), ('obj', 'http://www.wikidata.org/entity/Q15709880'), ('name', 'serial')]\n",
      "[('p', 'http://www.wikidata.org/prop/direct/P361'), ('namep', 'part of'), ('obj', 'http://www.wikidata.org/entity/Q526877'), ('name', 'web series')]\n",
      "[('p', 'http://www.wikidata.org/prop/direct/P1889'), ('namep', 'different from'), ('obj', 'http://www.wikidata.org/entity/Q21191270'), ('name', 'television series episode')]\n",
      "[('p', 'http://www.wikidata.org/prop/direct/P1343'), ('namep', 'described by source'), ('obj', 'http://www.wikidata.org/entity/Q2657718'), ('name', 'Armenian Soviet Encyclopedia')]\n",
      "[('p', 'http://www.wikidata.org/prop/direct/P1343'), ('namep', 'described by source'), ('obj', 'http://www.wikidata.org/entity/Q63284758'), ('name', 'Desktop Encyclopedic Dictionary')]\n",
      "[('p', 'http://www.wikidata.org/prop/direct/P1889'), ('namep', 'different from'), ('obj', 'http://www.wikidata.org/entity/Q1980247'), ('name', 'chapter')]\n",
      "[('p', 'http://www.wikidata.org/prop/direct/P279'), ('namep', 'subclass of'), ('obj', 'http://www.wikidata.org/entity/Q2431196'), ('name', 'audiovisual work')]\n",
      "[('p', 'http://www.wikidata.org/prop/direct/P1963'), ('namep', 'properties for this type'), ('obj', 'http://www.wikidata.org/entity/P1545'), ('name', 'series ordinal')]\n",
      "[('p', 'http://www.wikidata.org/prop/direct/P1687'), ('namep', 'Wikidata property'), ('obj', 'http://www.wikidata.org/entity/P1811'), ('name', 'list of episodes')]\n",
      "[('p', 'http://www.wikidata.org/prop/direct/P1963'), ('namep', 'properties for this type'), ('obj', 'http://www.wikidata.org/entity/P1573'), ('name', 'BBC Genome ID')]\n",
      "11\n"
     ]
    }
   ],
   "source": [
    "#looking at the properties of episode\n",
    "queryString = \"\"\"\n",
    "SELECT DISTINCT ?p ?namep ?obj ?name\n",
    "WHERE {\n",
    "   # bind something\n",
    "   wd:Q1983062 ?p ?obj .\n",
    "   # get the label\n",
    "   ?p sc:name ?namep .\n",
    "   ?obj sc:name ?name.\n",
    "}\n",
    "LIMIT 20\n",
    "\"\"\"\n",
    "\n",
    "print(\"Results\")\n",
    "x=run_query(queryString)"
   ]
  },
  {
   "cell_type": "code",
   "execution_count": 25,
   "id": "bea51da0-2467-4c5e-8aa8-76b118f4d1c6",
   "metadata": {},
   "outputs": [
    {
     "name": "stdout",
     "output_type": "stream",
     "text": [
      "Results\n",
      "[('p', 'http://www.wikidata.org/prop/direct/P1889'), ('namep', 'different from')]\n",
      "[('p', 'http://www.wikidata.org/prop/direct/P2670'), ('namep', 'has parts of the class')]\n",
      "[('p', 'http://www.wikidata.org/prop/direct/P279'), ('namep', 'subclass of')]\n",
      "[('p', 'http://www.wikidata.org/prop/direct/P31'), ('namep', 'instance of')]\n",
      "[('p', 'http://www.wikidata.org/prop/direct/P360'), ('namep', 'is a list of')]\n",
      "[('p', 'http://www.wikidata.org/prop/direct/P361'), ('namep', 'part of')]\n",
      "[('p', 'http://www.wikidata.org/prop/direct/P527'), ('namep', 'has part')]\n",
      "[('p', 'http://www.wikidata.org/prop/direct/P921'), ('namep', 'main subject')]\n",
      "[('p', 'http://www.wikidata.org/prop/direct/P971'), ('namep', 'category combines topics')]\n",
      "[('p', 'http://www.wikidata.org/prop/direct/P1629'), ('namep', 'Wikidata item of this property')]\n",
      "10\n"
     ]
    }
   ],
   "source": [
    "#maybe trying the other way around\n",
    "queryString = \"\"\"\n",
    "SELECT DISTINCT ?p ?namep\n",
    "WHERE {\n",
    "   # bind something\n",
    "   ?s ?p wd:Q1983062 .\n",
    "   # get the label\n",
    "   ?p sc:name ?namep .\n",
    "}\n",
    "LIMIT 20\n",
    "\"\"\"\n",
    "\n",
    "print(\"Results\")\n",
    "x=run_query(queryString)"
   ]
  },
  {
   "cell_type": "code",
   "execution_count": 32,
   "id": "6d55c8e6-f80c-462c-a374-b73e346e11c8",
   "metadata": {},
   "outputs": [
    {
     "name": "stdout",
     "output_type": "stream",
     "text": [
      "Results\n",
      "[('s', 'http://www.wikidata.org/entity/Q15709880'), ('name', 'serial')]\n",
      "[('s', 'http://www.wikidata.org/entity/Q838795'), ('name', 'comic strip')]\n",
      "2\n"
     ]
    }
   ],
   "source": [
    "#trying to see which objects can contain episodes\n",
    "#not season apparently.\n",
    "queryString = \"\"\"\n",
    "SELECT DISTINCT ?s ?name\n",
    "WHERE {\n",
    "   # bind something\n",
    "   ?s wdt:P527 wd:Q1983062 ;\n",
    "       sc:name ?name .\n",
    "}\n",
    "LIMIT 20\n",
    "\"\"\"\n",
    "\n",
    "print(\"Results\")\n",
    "x=run_query(queryString)"
   ]
  },
  {
   "cell_type": "code",
   "execution_count": 5,
   "id": "3e28d572-9de7-4ab1-8a9b-c164176fd6db",
   "metadata": {},
   "outputs": [
    {
     "name": "stdout",
     "output_type": "stream",
     "text": [
      "Results\n",
      "[('p', 'http://www.wikidata.org/prop/direct/P1963'), ('namep', 'properties for this type'), ('obj', 'http://www.wikidata.org/entity/P1113'), ('name', 'number of episodes')]\n",
      "[('p', 'http://www.wikidata.org/prop/direct/P279'), ('namep', 'subclass of'), ('obj', 'http://www.wikidata.org/entity/Q15416'), ('name', 'television program')]\n",
      "[('p', 'http://www.wikidata.org/prop/direct/P1963'), ('namep', 'properties for this type'), ('obj', 'http://www.wikidata.org/entity/P580'), ('name', 'start time')]\n",
      "[('p', 'http://www.wikidata.org/prop/direct/P1963'), ('namep', 'properties for this type'), ('obj', 'http://www.wikidata.org/entity/P582'), ('name', 'end time')]\n",
      "[('p', 'http://www.wikidata.org/prop/direct/P1963'), ('namep', 'properties for this type'), ('obj', 'http://www.wikidata.org/entity/P1476'), ('name', 'title')]\n",
      "[('p', 'http://www.wikidata.org/prop/direct/P5869'), ('namep', 'model item'), ('obj', 'http://www.wikidata.org/entity/Q131758'), ('name', 'Desperate Housewives')]\n",
      "[('p', 'http://www.wikidata.org/prop/direct/P910'), ('namep', \"topic's main category\"), ('obj', 'http://www.wikidata.org/entity/Q7217118'), ('name', 'Category:Television series')]\n",
      "[('p', 'http://www.wikidata.org/prop/direct/P1963'), ('namep', 'properties for this type'), ('obj', 'http://www.wikidata.org/entity/P921'), ('name', 'main subject')]\n",
      "[('p', 'http://www.wikidata.org/prop/direct/P2670'), ('namep', 'has parts of the class'), ('obj', 'http://www.wikidata.org/entity/Q21191270'), ('name', 'television series episode')]\n",
      "[('p', 'http://www.wikidata.org/prop/direct/P5869'), ('namep', 'model item'), ('obj', 'http://www.wikidata.org/entity/Q990'), ('name', 'Czterej pancerni i pies')]\n",
      "[('p', 'http://www.wikidata.org/prop/direct/P1963'), ('namep', 'properties for this type'), ('obj', 'http://www.wikidata.org/entity/P527'), ('name', 'has part')]\n",
      "[('p', 'http://www.wikidata.org/prop/direct/P2670'), ('namep', 'has parts of the class'), ('obj', 'http://www.wikidata.org/entity/Q3464665'), ('name', 'television series season')]\n",
      "[('p', 'http://www.wikidata.org/prop/direct/P1963'), ('namep', 'properties for this type'), ('obj', 'http://www.wikidata.org/entity/P495'), ('name', 'country of origin')]\n",
      "[('p', 'http://www.wikidata.org/prop/direct/P1889'), ('namep', 'different from'), ('obj', 'http://www.wikidata.org/entity/Q1259759'), ('name', 'miniseries')]\n",
      "[('p', 'http://www.wikidata.org/prop/direct/P279'), ('namep', 'subclass of'), ('obj', 'http://www.wikidata.org/entity/Q7725310'), ('name', 'series of creative works')]\n",
      "[('p', 'http://www.wikidata.org/prop/direct/P5869'), ('namep', 'model item'), ('obj', 'http://www.wikidata.org/entity/Q2085'), ('name', 'Twin Peaks')]\n",
      "[('p', 'http://www.wikidata.org/prop/direct/P1889'), ('namep', 'different from'), ('obj', 'http://www.wikidata.org/entity/Q7724161'), ('name', 'television serial')]\n",
      "[('p', 'http://www.wikidata.org/prop/direct/P1963'), ('namep', 'properties for this type'), ('obj', 'http://www.wikidata.org/entity/P136'), ('name', 'genre')]\n",
      "[('p', 'http://www.wikidata.org/prop/direct/P1963'), ('namep', 'properties for this type'), ('obj', 'http://www.wikidata.org/entity/P2437'), ('name', 'number of seasons')]\n",
      "[('p', 'http://www.wikidata.org/prop/direct/P1963'), ('namep', 'properties for this type'), ('obj', 'http://www.wikidata.org/entity/P449'), ('name', 'original broadcaster')]\n",
      "[('p', 'http://www.wikidata.org/prop/direct/P1963'), ('namep', 'properties for this type'), ('obj', 'http://www.wikidata.org/entity/P840'), ('name', 'narrative location')]\n",
      "[('p', 'http://www.wikidata.org/prop/direct/P1963'), ('namep', 'properties for this type'), ('obj', 'http://www.wikidata.org/entity/P915'), ('name', 'filming location')]\n",
      "[('p', 'http://www.wikidata.org/prop/direct/P1963'), ('namep', 'properties for this type'), ('obj', 'http://www.wikidata.org/entity/P161'), ('name', 'cast member')]\n",
      "[('p', 'http://www.wikidata.org/prop/direct/P1963'), ('namep', 'properties for this type'), ('obj', 'http://www.wikidata.org/entity/P166'), ('name', 'award received')]\n",
      "[('p', 'http://www.wikidata.org/prop/direct/P5869'), ('namep', 'model item'), ('obj', 'http://www.wikidata.org/entity/Q23572'), ('name', 'Game of Thrones')]\n",
      "[('p', 'http://www.wikidata.org/prop/direct/P1963'), ('namep', 'properties for this type'), ('obj', 'http://www.wikidata.org/entity/P364'), ('name', 'original language of film or TV show')]\n",
      "[('p', 'http://www.wikidata.org/prop/direct/P1424'), ('namep', \"topic's main template\"), ('obj', 'http://www.wikidata.org/entity/Q13412410'), ('name', 'Template:Infobox television series')]\n",
      "[('p', 'http://www.wikidata.org/prop/direct/P1424'), ('namep', \"topic's main template\"), ('obj', 'http://www.wikidata.org/entity/Q79717194'), ('name', 'Template:Disney+ series')]\n",
      "[('p', 'http://www.wikidata.org/prop/direct/P1963'), ('namep', 'properties for this type'), ('obj', 'http://www.wikidata.org/entity/P1811'), ('name', 'list of episodes')]\n",
      "[('p', 'http://www.wikidata.org/prop/direct/P6186'), ('namep', 'category for eponymous categories'), ('obj', 'http://www.wikidata.org/entity/Q6930920'), ('name', 'Category:Wikipedia categories named after television series')]\n",
      "30\n"
     ]
    }
   ],
   "source": [
    "#wait, we've obtained the BGP of \"televisions series\" at the task before why haven't we used this?\n",
    "queryString = \"\"\"\n",
    "SELECT DISTINCT ?p ?namep ?obj ?name\n",
    "WHERE {\n",
    "   # bind something\n",
    "   wd:Q5398426 ?p ?obj .\n",
    "   # get the label\n",
    "   ?p sc:name ?namep .\n",
    "   ?obj sc:name ?name.\n",
    "}\n",
    "LIMIT 40\n",
    "\"\"\"\n",
    "\n",
    "print(\"Results\")\n",
    "x=run_query(queryString)"
   ]
  },
  {
   "cell_type": "code",
   "execution_count": 37,
   "id": "f30fd986-ae68-4579-9721-d6eee2febb39",
   "metadata": {},
   "outputs": [
    {
     "name": "stdout",
     "output_type": "stream",
     "text": [
      "Results\n",
      "[('p', 'http://www.wikidata.org/prop/direct/P1963'), ('namep', 'properties for this type'), ('obj', 'http://www.wikidata.org/entity/P1113'), ('name', 'number of episodes')]\n",
      "[('p', 'http://www.wikidata.org/prop/direct/P279'), ('namep', 'subclass of'), ('obj', 'http://www.wikidata.org/entity/Q70990126'), ('name', 'creative work season')]\n",
      "[('p', 'http://www.wikidata.org/prop/direct/P279'), ('namep', 'subclass of'), ('obj', 'http://www.wikidata.org/entity/Q15416'), ('name', 'television program')]\n",
      "[('p', 'http://www.wikidata.org/prop/direct/P1963'), ('namep', 'properties for this type'), ('obj', 'http://www.wikidata.org/entity/P580'), ('name', 'start time')]\n",
      "[('p', 'http://www.wikidata.org/prop/direct/P1963'), ('namep', 'properties for this type'), ('obj', 'http://www.wikidata.org/entity/P582'), ('name', 'end time')]\n",
      "[('p', 'http://www.wikidata.org/prop/direct/P2670'), ('namep', 'has parts of the class'), ('obj', 'http://www.wikidata.org/entity/Q21191270'), ('name', 'television series episode')]\n",
      "[('p', 'http://www.wikidata.org/prop/direct/P361'), ('namep', 'part of'), ('obj', 'http://www.wikidata.org/entity/Q5398426'), ('name', 'television series')]\n",
      "[('p', 'http://www.wikidata.org/prop/direct/P1963'), ('namep', 'properties for this type'), ('obj', 'http://www.wikidata.org/entity/P527'), ('name', 'has part')]\n",
      "[('p', 'http://www.wikidata.org/prop/direct/P279'), ('namep', 'subclass of'), ('obj', 'http://www.wikidata.org/entity/Q12826913'), ('name', 'season')]\n",
      "[('p', 'http://www.wikidata.org/prop/direct/P279'), ('namep', 'subclass of'), ('obj', 'http://www.wikidata.org/entity/Q7725310'), ('name', 'series of creative works')]\n",
      "[('p', 'http://www.wikidata.org/prop/direct/P1963'), ('namep', 'properties for this type'), ('obj', 'http://www.wikidata.org/entity/P179'), ('name', 'part of the series')]\n",
      "[('p', 'http://www.wikidata.org/prop/direct/P6104'), ('namep', 'maintained by WikiProject'), ('obj', 'http://www.wikidata.org/entity/Q8485793'), ('name', 'WikiProject Film')]\n",
      "[('p', 'http://www.wikidata.org/prop/direct/P1687'), ('namep', 'Wikidata property'), ('obj', 'http://www.wikidata.org/entity/P2437'), ('name', 'number of seasons')]\n",
      "[('p', 'http://www.wikidata.org/prop/direct/P1687'), ('namep', 'Wikidata property'), ('obj', 'http://www.wikidata.org/entity/P4908'), ('name', 'season')]\n",
      "[('p', 'http://www.wikidata.org/prop/direct/P1552'), ('namep', 'has quality'), ('obj', 'http://www.wikidata.org/entity/Q41783959'), ('name', 'number of seasons produced')]\n",
      "[('p', 'http://www.wikidata.org/prop/direct/P1552'), ('namep', 'has quality'), ('obj', 'http://www.wikidata.org/entity/Q41784016'), ('name', 'number of seasons planned')]\n",
      "[('p', 'http://www.wikidata.org/prop/direct/P5869'), ('namep', 'model item'), ('obj', 'http://www.wikidata.org/entity/Q302358'), ('name', 'Game of Thrones, season 2')]\n",
      "[('p', 'http://www.wikidata.org/prop/direct/P910'), ('namep', \"topic's main category\"), ('obj', 'http://www.wikidata.org/entity/Q8836200'), ('name', 'Category:Television seasons')]\n",
      "[('p', 'http://www.wikidata.org/prop/direct/P1424'), ('namep', \"topic's main template\"), ('obj', 'http://www.wikidata.org/entity/Q5625698'), ('name', 'Template:Infobox television season')]\n",
      "[('p', 'http://www.wikidata.org/prop/direct/P1552'), ('namep', 'has quality'), ('obj', 'http://www.wikidata.org/entity/Q41783986'), ('name', 'number of seasons aired')]\n",
      "20\n"
     ]
    }
   ],
   "source": [
    "#we obtained a lot of BGP that will surely be useful later and among them we retrieved television series season.\n",
    "queryString = \"\"\"\n",
    "SELECT DISTINCT ?p ?namep ?obj ?name\n",
    "WHERE {\n",
    "   # bind something\n",
    "   wd:Q3464665 ?p ?obj .\n",
    "   # get the label\n",
    "   ?p sc:name ?namep .\n",
    "   ?obj sc:name ?name.\n",
    "}\n",
    "LIMIT 20\n",
    "\"\"\"\n",
    "\n",
    "print(\"Results\")\n",
    "x=run_query(queryString)"
   ]
  },
  {
   "cell_type": "code",
   "execution_count": 17,
   "id": "8d0bee46-c1b7-4c67-9dfc-64db174b61da",
   "metadata": {},
   "outputs": [
    {
     "name": "stdout",
     "output_type": "stream",
     "text": [
      "Results\n",
      "[('p', 'http://www.wikidata.org/prop/direct/P136'), ('name', 'genre'), ('obj', 'http://www.wikidata.org/entity/Q98526239'), ('nameo', 'television series based on a novel')]\n",
      "[('p', 'http://www.wikidata.org/prop/direct/P449'), ('name', 'original broadcaster'), ('obj', 'http://www.wikidata.org/entity/Q23633'), ('nameo', 'HBO')]\n",
      "[('p', 'http://www.wikidata.org/prop/direct/P364'), ('name', 'original language of film or TV show'), ('obj', 'http://www.wikidata.org/entity/Q1860'), ('nameo', 'English')]\n",
      "[('p', 'http://www.wikidata.org/prop/direct/P495'), ('name', 'country of origin'), ('obj', 'http://www.wikidata.org/entity/Q30'), ('nameo', 'United States of America')]\n",
      "[('p', 'http://www.wikidata.org/prop/direct/P437'), ('name', 'distribution format'), ('obj', 'http://www.wikidata.org/entity/Q723685'), ('nameo', 'video on demand')]\n",
      "[('p', 'http://www.wikidata.org/prop/direct/P31'), ('name', 'instance of'), ('obj', 'http://www.wikidata.org/entity/Q3464665'), ('nameo', 'television series season')]\n",
      "[('p', 'http://www.wikidata.org/prop/direct/P437'), ('name', 'distribution format'), ('obj', 'http://www.wikidata.org/entity/Q54820071'), ('nameo', 'digital download')]\n",
      "[('p', 'http://www.wikidata.org/prop/direct/P144'), ('name', 'based on'), ('obj', 'http://www.wikidata.org/entity/Q300370'), ('nameo', 'A Clash of Kings')]\n",
      "[('p', 'http://www.wikidata.org/prop/direct/P179'), ('name', 'part of the series'), ('obj', 'http://www.wikidata.org/entity/Q23572'), ('nameo', 'Game of Thrones')]\n",
      "[('p', 'http://www.wikidata.org/prop/direct/P527'), ('name', 'has part'), ('obj', 'http://www.wikidata.org/entity/Q5978060'), ('nameo', 'What Is Dead May Never Die')]\n",
      "[('p', 'http://www.wikidata.org/prop/direct/P527'), ('name', 'has part'), ('obj', 'http://www.wikidata.org/entity/Q5522376'), ('nameo', 'Garden of Bones')]\n",
      "[('p', 'http://www.wikidata.org/prop/direct/P527'), ('name', 'has part'), ('obj', 'http://www.wikidata.org/entity/Q7909262'), ('nameo', 'Valar Morghulis')]\n",
      "[('p', 'http://www.wikidata.org/prop/direct/P527'), ('name', 'has part'), ('obj', 'http://www.wikidata.org/entity/Q3884627'), ('nameo', 'The Old Gods and the New')]\n",
      "[('p', 'http://www.wikidata.org/prop/direct/P527'), ('name', 'has part'), ('obj', 'http://www.wikidata.org/entity/Q4658078'), ('nameo', 'A Man Without Honor')]\n",
      "[('p', 'http://www.wikidata.org/prop/direct/P527'), ('name', 'has part'), ('obj', 'http://www.wikidata.org/entity/Q5824994'), ('nameo', 'The Ghost of Harrenhal')]\n",
      "[('p', 'http://www.wikidata.org/prop/direct/P406'), ('name', 'soundtrack release'), ('obj', 'http://www.wikidata.org/entity/Q28134250'), ('nameo', 'Game of Thrones: Season 2')]\n",
      "[('p', 'http://www.wikidata.org/prop/direct/P527'), ('name', 'has part'), ('obj', 'http://www.wikidata.org/entity/Q4923527'), ('nameo', 'Blackwater')]\n",
      "[('p', 'http://www.wikidata.org/prop/direct/P527'), ('name', 'has part'), ('obj', 'http://www.wikidata.org/entity/Q5971326'), ('nameo', 'The Night Lands')]\n",
      "[('p', 'http://www.wikidata.org/prop/direct/P527'), ('name', 'has part'), ('obj', 'http://www.wikidata.org/entity/Q7758277'), ('nameo', 'The Prince of Winterfell')]\n",
      "[('p', 'http://www.wikidata.org/prop/direct/P910'), ('name', \"topic's main category\"), ('obj', 'http://www.wikidata.org/entity/Q32150737'), ('nameo', 'Category:Game of Thrones (season 2) episodes')]\n",
      "[('p', 'http://www.wikidata.org/prop/direct/P527'), ('name', 'has part'), ('obj', 'http://www.wikidata.org/entity/Q7754352'), ('nameo', 'The North Remembers')]\n",
      "21\n"
     ]
    }
   ],
   "source": [
    "#maybe we can try to look at the properties of Game of Thrones, season 2 and see how it is linked to the serie.\n",
    "queryString = \"\"\"\n",
    "SELECT DISTINCT ?p ?name ?obj ?nameo\n",
    "WHERE {\n",
    "   # bind something\n",
    "   wd:Q302358 ?p ?obj .\n",
    "   \n",
    "   # get the label\n",
    "   ?p sc:name ?name .\n",
    "   ?obj sc:name ?nameo .\n",
    "}\n",
    "LIMIT 50\n",
    "\"\"\"\n",
    "\n",
    "print(\"Results\")\n",
    "x=run_query(queryString)"
   ]
  },
  {
   "cell_type": "code",
   "execution_count": 10,
   "id": "ef78b588-9f0e-49b7-bb9f-aa0f8a0c39da",
   "metadata": {},
   "outputs": [
    {
     "name": "stdout",
     "output_type": "stream",
     "text": [
      "Results\n",
      "[('season', 'http://www.wikidata.org/entity/Q1120248'), ('name', 'Without a Trace, season 1')]\n",
      "[('season', 'http://www.wikidata.org/entity/Q3729810'), ('name', 'Without a Trace, season 4')]\n",
      "[('season', 'http://www.wikidata.org/entity/Q3729811'), ('name', 'Without a Trace, season 5')]\n",
      "[('season', 'http://www.wikidata.org/entity/Q3729812'), ('name', 'Without a Trace, season 2')]\n",
      "[('season', 'http://www.wikidata.org/entity/Q3729815'), ('name', 'Without a Trace, season 6')]\n",
      "[('season', 'http://www.wikidata.org/entity/Q3729816'), ('name', 'Without a Trace, season 7')]\n",
      "[('season', 'http://www.wikidata.org/entity/Q3729817'), ('name', 'Without a Trace, season 3')]\n",
      "7\n"
     ]
    }
   ],
   "source": [
    "#we found the property \"part of the serie\"\n",
    "queryString = \"\"\"\n",
    "SELECT DISTINCT ?season ?name \n",
    "WHERE {\n",
    "   ?season wdt:P31 wd:Q3464665 ;\n",
    "       wdt:P179 wd:Q826477 ;\n",
    "       sc:name ?name .\n",
    "}\n",
    "LIMIT 50\n",
    "\"\"\"\n",
    "\n",
    "print(\"Results\")\n",
    "x=run_query(queryString)"
   ]
  },
  {
   "cell_type": "markdown",
   "id": "ff00133f",
   "metadata": {},
   "source": [
    "Final query for this task"
   ]
  },
  {
   "cell_type": "code",
   "execution_count": 11,
   "id": "405932f6",
   "metadata": {},
   "outputs": [
    {
     "name": "stdout",
     "output_type": "stream",
     "text": [
      "Results\n",
      "[('season', 'http://www.wikidata.org/entity/Q1120248'), ('name', 'Without a Trace, season 1'), ('episodes', '23')]\n",
      "[('season', 'http://www.wikidata.org/entity/Q3729810'), ('name', 'Without a Trace, season 4'), ('episodes', '24')]\n",
      "[('season', 'http://www.wikidata.org/entity/Q3729811'), ('name', 'Without a Trace, season 5'), ('episodes', '24')]\n",
      "[('season', 'http://www.wikidata.org/entity/Q3729812'), ('name', 'Without a Trace, season 2'), ('episodes', '24')]\n",
      "[('season', 'http://www.wikidata.org/entity/Q3729815'), ('name', 'Without a Trace, season 6'), ('episodes', '18')]\n",
      "[('season', 'http://www.wikidata.org/entity/Q3729816'), ('name', 'Without a Trace, season 7'), ('episodes', '24')]\n",
      "[('season', 'http://www.wikidata.org/entity/Q3729817'), ('name', 'Without a Trace, season 3'), ('episodes', '23')]\n",
      "7\n"
     ]
    }
   ],
   "source": [
    "# write your final query\n",
    "queryString = \"\"\"\n",
    "SELECT DISTINCT ?season ?name ?episodes\n",
    "WHERE {\n",
    "   ?season wdt:P31 wd:Q3464665 ;\n",
    "       wdt:P179 wd:Q826477 ;\n",
    "       wdt:P1113 ?episodes ;\n",
    "       sc:name ?name .\n",
    "}\n",
    "LIMIT 50\n",
    "\"\"\"\n",
    "\n",
    "print(\"Results\")\n",
    "x=run_query(queryString)"
   ]
  },
  {
   "cell_type": "markdown",
   "id": "7bd788cf",
   "metadata": {},
   "source": [
    "## Task 3\n",
    "Get the number of episodes in which the cast members played a role. Who are the most present actors? (the result set must be a list of triples actor/actress IRI, label and #episodes)"
   ]
  },
  {
   "cell_type": "code",
   "execution_count": 12,
   "id": "a045ac9e",
   "metadata": {},
   "outputs": [
    {
     "name": "stdout",
     "output_type": "stream",
     "text": [
      "Results\n",
      "[('member', 'http://www.wikidata.org/entity/Q308124'), ('name', 'Anthony LaPaglia')]\n",
      "[('member', 'http://www.wikidata.org/entity/Q235075'), ('name', 'Poppy Montgomery')]\n",
      "2\n"
     ]
    }
   ],
   "source": [
    "# write your queries\n",
    "#getting the cast members of the serie.\n",
    "#strange that there are only two maybe the data is not complete\n",
    "queryString = \"\"\"\n",
    "SELECT DISTINCT ?member ?name\n",
    "WHERE {\n",
    "   # bind something\n",
    "   wd:Q826477 wdt:P161 ?member.\n",
    "   # get the label\n",
    "   ?member sc:name ?name.\n",
    "}\n",
    "LIMIT 20\n",
    "\"\"\"\n",
    "\n",
    "print(\"Results\")\n",
    "x=run_query(queryString)"
   ]
  },
  {
   "cell_type": "code",
   "execution_count": 21,
   "id": "dff44756-ff3b-496d-bd69-b4315f000e5a",
   "metadata": {},
   "outputs": [
    {
     "name": "stdout",
     "output_type": "stream",
     "text": [
      "Results\n",
      "[('episode', 'http://www.wikidata.org/entity/Q52667904'), ('name', 'Maple Street')]\n",
      "[('episode', 'http://www.wikidata.org/entity/Q52667908'), ('name', 'Underground Railroad')]\n",
      "[('episode', 'http://www.wikidata.org/entity/Q52667910'), ('name', 'Hang On to Me')]\n",
      "[('episode', 'http://www.wikidata.org/entity/Q52667965'), ('name', 'Our Sons and Daughters')]\n",
      "[('episode', 'http://www.wikidata.org/entity/Q52667968'), ('name', 'A Tree Falls')]\n",
      "[('episode', 'http://www.wikidata.org/entity/Q52667970'), ('name', 'Trip Box')]\n",
      "[('episode', 'http://www.wikidata.org/entity/Q52667973'), ('name', 'Moving On')]\n",
      "[('episode', 'http://www.wikidata.org/entity/Q52667986'), ('name', 'Life Rules')]\n",
      "[('episode', 'http://www.wikidata.org/entity/Q52667989'), ('name', 'The Line')]\n",
      "[('episode', 'http://www.wikidata.org/entity/Q52667991'), ('name', 'Wannabe')]\n",
      "[('episode', 'http://www.wikidata.org/entity/Q52667993'), ('name', 'Risen')]\n",
      "[('episode', 'http://www.wikidata.org/entity/Q52667996'), ('name', 'Gung Ho')]\n",
      "[('episode', 'http://www.wikidata.org/entity/Q52667999'), ('name', 'Legacy')]\n",
      "[('episode', 'http://www.wikidata.org/entity/Q52668000'), ('name', 'Doppelganger')]\n",
      "[('episode', 'http://www.wikidata.org/entity/Q52668007'), ('name', 'Two Families')]\n",
      "[('episode', 'http://www.wikidata.org/entity/Q52668009'), ('name', 'The Season')]\n",
      "[('episode', 'http://www.wikidata.org/entity/Q52668012'), ('name', 'Lost and Found')]\n",
      "[('episode', 'http://www.wikidata.org/entity/Q52668014'), ('name', 'Bait')]\n",
      "[('episode', 'http://www.wikidata.org/entity/Q52668071'), ('name', 'Safe')]\n",
      "[('episode', 'http://www.wikidata.org/entity/Q52668074'), ('name', 'From the Ashes')]\n",
      "20\n"
     ]
    }
   ],
   "source": [
    "#now we're gonna try to retrieve the episodes of WaT\n",
    "queryString = \"\"\"\n",
    "SELECT DISTINCT  ?episode ?name\n",
    "WHERE {\n",
    "   ?episode wdt:P31 wd:Q21191270 ; \n",
    "            wdt:P179 wd:Q826477 ;\n",
    "            sc:name ?name .\n",
    "}\n",
    "LIMIT 20\n",
    "\"\"\"\n",
    "\n",
    "print(\"Results\")\n",
    "x=run_query(queryString)"
   ]
  },
  {
   "cell_type": "markdown",
   "id": "c46b2010",
   "metadata": {},
   "source": [
    "Final query for this task"
   ]
  },
  {
   "cell_type": "code",
   "execution_count": 26,
   "id": "8a50d4a2",
   "metadata": {},
   "outputs": [
    {
     "name": "stdout",
     "output_type": "stream",
     "text": [
      "Results\n",
      "[('cast', 'http://www.wikidata.org/entity/Q308124'), ('name', 'Anthony LaPaglia'), ('nbepisodes', '160')]\n",
      "[('cast', 'http://www.wikidata.org/entity/Q235075'), ('name', 'Poppy Montgomery'), ('nbepisodes', '160')]\n",
      "[('cast', 'http://www.wikidata.org/entity/Q503040'), ('name', 'Eric Close'), ('nbepisodes', '160')]\n",
      "[('cast', 'http://www.wikidata.org/entity/Q551608'), ('name', 'Enrique Murciano'), ('nbepisodes', '160')]\n",
      "[('cast', 'http://www.wikidata.org/entity/Q430872'), ('name', 'Marianne Jean-Baptiste'), ('nbepisodes', '160')]\n",
      "[('cast', 'http://www.wikidata.org/entity/Q459638'), ('name', 'Stacy Edwards'), ('nbepisodes', '1')]\n",
      "[('cast', 'http://www.wikidata.org/entity/Q706513'), ('name', 'Charles S. Dutton'), ('nbepisodes', '1')]\n",
      "[('cast', 'http://www.wikidata.org/entity/Q5363239'), ('name', 'Elizabeth Morehead'), ('nbepisodes', '1')]\n",
      "[('cast', 'http://www.wikidata.org/entity/Q64684485'), ('name', 'Caris Vujcec'), ('nbepisodes', '1')]\n",
      "[('cast', 'http://www.wikidata.org/entity/Q1721796'), ('name', 'Kaitlin Doubleday'), ('nbepisodes', '1')]\n",
      "[('cast', 'http://www.wikidata.org/entity/Q20651783'), ('name', 'Jenica Bergere'), ('nbepisodes', '1')]\n",
      "[('cast', 'http://www.wikidata.org/entity/Q297128'), ('name', 'David Henrie'), ('nbepisodes', '1')]\n",
      "[('cast', 'http://www.wikidata.org/entity/Q3260118'), ('name', 'Lou Cutell'), ('nbepisodes', '1')]\n",
      "[('cast', 'http://www.wikidata.org/entity/Q18618690'), ('name', 'John Livingston'), ('nbepisodes', '1')]\n",
      "[('cast', 'http://www.wikidata.org/entity/Q2927620'), ('name', 'Denise Dowse'), ('nbepisodes', '1')]\n",
      "[('cast', 'http://www.wikidata.org/entity/Q355163'), ('name', 'Bruce Davison'), ('nbepisodes', '1')]\n",
      "[('cast', 'http://www.wikidata.org/entity/Q1378361'), ('name', 'Kyle Secor'), ('nbepisodes', '1')]\n",
      "[('cast', 'http://www.wikidata.org/entity/Q2923471'), ('name', 'Bradford Tatum'), ('nbepisodes', '1')]\n",
      "[('cast', 'http://www.wikidata.org/entity/Q139341'), ('name', 'Zach Grenier'), ('nbepisodes', '1')]\n",
      "[('cast', 'http://www.wikidata.org/entity/Q3265830'), ('name', 'Lucille Soong'), ('nbepisodes', '1')]\n",
      "20\n"
     ]
    }
   ],
   "source": [
    "#okay now I have other actors, that's weird. And so there are 5 principal actors.\n",
    "# write your final query\n",
    "queryString = \"\"\"\n",
    "SELECT DISTINCT  ?cast ?name (COUNT(?episode) AS ?nbepisodes)\n",
    "WHERE {\n",
    "   ?episode wdt:P31 wd:Q21191270 ; \n",
    "            wdt:P179 wd:Q826477 ;\n",
    "            wdt:P161 ?cast.\n",
    "   ?cast sc:name ?name.\n",
    "} GROUP BY ?cast ?name\n",
    "ORDER BY DESC(?nbepisodes)\n",
    "LIMIT 20\n",
    "\"\"\"\n",
    "\n",
    "print(\"Results\")\n",
    "x=run_query(queryString)"
   ]
  },
  {
   "cell_type": "markdown",
   "id": "1767b54d",
   "metadata": {},
   "source": [
    "## Task 4\n",
    "Check who is the actor who acted in more films while working on \"Without a Trace\" (the result set must be a list of triples actor/actress IRI, label and #films)."
   ]
  },
  {
   "cell_type": "code",
   "execution_count": 17,
   "id": "c6cbc231",
   "metadata": {},
   "outputs": [
    {
     "name": "stdout",
     "output_type": "stream",
     "text": [
      "Results\n",
      "[('o', 'http://www.wikidata.org/entity/Q10798782'), ('nameo', 'television actor')]\n",
      "[('o', 'http://www.wikidata.org/entity/Q10800557'), ('nameo', 'film actor')]\n",
      "[('o', 'http://www.wikidata.org/entity/Q2259451'), ('nameo', 'stage actor')]\n",
      "[('o', 'http://www.wikidata.org/entity/Q3282637'), ('nameo', 'film producer')]\n",
      "[('o', 'http://www.wikidata.org/entity/Q33999'), ('nameo', 'actor')]\n",
      "[('o', 'http://www.wikidata.org/entity/Q937857'), ('nameo', 'association football player')]\n",
      "6\n"
     ]
    }
   ],
   "source": [
    "# write your queries\n",
    "#We have to get the BGP of actor first, taking the occupations of Anthony LaPaglia for instance\n",
    "queryString = \"\"\"\n",
    "SELECT DISTINCT  ?o ?nameo \n",
    "WHERE {\n",
    "   # bind something\n",
    "   wd:Q308124 wdt:P106 ?o.\n",
    "   ?o sc:name ?nameo.    \n",
    "}\n",
    "LIMIT 20\n",
    "\"\"\"\n",
    "\n",
    "print(\"Results\")\n",
    "x=run_query(queryString)"
   ]
  },
  {
   "cell_type": "code",
   "execution_count": 14,
   "id": "537466e5-ce78-4851-b788-50360f743fd0",
   "metadata": {},
   "outputs": [
    {
     "name": "stdout",
     "output_type": "stream",
     "text": [
      "Results\n",
      "[('p', 'http://www.wikidata.org/prop/direct/P31'), ('name', 'instance of'), ('o', 'http://www.wikidata.org/entity/Q4220920'), ('nameo', 'filmmaking occupation')]\n",
      "[('p', 'http://www.wikidata.org/prop/direct/P910'), ('name', \"topic's main category\"), ('o', 'http://www.wikidata.org/entity/Q5479723'), ('nameo', 'Category:Film actors')]\n",
      "[('p', 'http://www.wikidata.org/prop/direct/P1889'), ('name', 'different from'), ('o', 'http://www.wikidata.org/entity/Q10798782'), ('nameo', 'television actor')]\n",
      "[('p', 'http://www.wikidata.org/prop/direct/P279'), ('name', 'subclass of'), ('o', 'http://www.wikidata.org/entity/Q33999'), ('nameo', 'actor')]\n",
      "[('p', 'http://www.wikidata.org/prop/direct/P1687'), ('name', 'Wikidata property'), ('o', 'http://www.wikidata.org/entity/P161'), ('nameo', 'cast member')]\n",
      "5\n"
     ]
    }
   ],
   "source": [
    "#now we want to get the BGP of film\n",
    "#maybe looking at the properties/objects of these properties of film actor.\n",
    "#not working\n",
    "queryString = \"\"\"\n",
    "SELECT DISTINCT ?p ?name ?o ?nameo\n",
    "WHERE {\n",
    "   # bind something\n",
    "   wd:Q10800557 ?p ?o .\n",
    "   ?p sc:name ?name. \n",
    "   ?o sc:name ?nameo .\n",
    "   FILTER (!isLiteral(?o))\n",
    "}\n",
    "LIMIT 50\n",
    "\"\"\"\n",
    "\n",
    "print(\"Results\")\n",
    "x=run_query(queryString)"
   ]
  },
  {
   "cell_type": "code",
   "execution_count": 18,
   "id": "9fd5259e-ae55-4d79-9f28-6e9ddc496f80",
   "metadata": {},
   "outputs": [
    {
     "name": "stdout",
     "output_type": "stream",
     "text": [
      "Results\n",
      "[('s', 'http://www.wikidata.org/entity/Q255376'), ('name', 'The Client')]\n",
      "[('s', 'http://www.wikidata.org/entity/Q21511509'), ('name', 'Annabelle: Creation')]\n",
      "[('s', 'http://www.wikidata.org/entity/Q12126147'), ('name', 'Mental')]\n",
      "[('s', 'http://www.wikidata.org/entity/Q3805682'), ('name', 'Jack the Dog')]\n",
      "[('s', 'http://www.wikidata.org/entity/Q826477'), ('name', 'Without a Trace')]\n",
      "[('s', 'http://www.wikidata.org/entity/Q1352085'), ('name', 'Analyze That')]\n",
      "[('s', 'http://www.wikidata.org/entity/Q7728500'), ('name', 'The Custodian')]\n",
      "[('s', 'http://www.wikidata.org/entity/Q16954197'), ('name', 'The Code')]\n",
      "[('s', 'http://www.wikidata.org/entity/Q3549263'), ('name', 'Underground: The Julian Assange Story')]\n",
      "[('s', 'http://www.wikidata.org/entity/Q1570302'), ('name', 'Lansky')]\n",
      "[('s', 'http://www.wikidata.org/entity/Q1125349'), ('name', 'Autumn in New York')]\n",
      "[('s', 'http://www.wikidata.org/entity/Q52667904'), ('name', 'Maple Street')]\n",
      "[('s', 'http://www.wikidata.org/entity/Q52667908'), ('name', 'Underground Railroad')]\n",
      "[('s', 'http://www.wikidata.org/entity/Q52667910'), ('name', 'Hang On to Me')]\n",
      "[('s', 'http://www.wikidata.org/entity/Q52667965'), ('name', 'Our Sons and Daughters')]\n",
      "[('s', 'http://www.wikidata.org/entity/Q52667968'), ('name', 'A Tree Falls')]\n",
      "[('s', 'http://www.wikidata.org/entity/Q52667970'), ('name', 'Trip Box')]\n",
      "[('s', 'http://www.wikidata.org/entity/Q52667973'), ('name', 'Moving On')]\n",
      "[('s', 'http://www.wikidata.org/entity/Q52667986'), ('name', 'Life Rules')]\n",
      "[('s', 'http://www.wikidata.org/entity/Q52667989'), ('name', 'The Line')]\n",
      "20\n"
     ]
    }
   ],
   "source": [
    "#maybe just trying to find a film played by Anthony LaPaglia \n",
    "queryString = \"\"\"\n",
    "SELECT DISTINCT  ?s ?name\n",
    "WHERE {\n",
    "   # bind something\n",
    "   ?s wdt:P161 wd:Q308124;\n",
    "       sc:name ?name.    \n",
    "}\n",
    "LIMIT 20\n",
    "\"\"\"\n",
    "\n",
    "print(\"Results\")\n",
    "x=run_query(queryString)"
   ]
  },
  {
   "cell_type": "code",
   "execution_count": 30,
   "id": "164a50e5-cc3d-444f-933d-3fa5b15e559f",
   "metadata": {},
   "outputs": [
    {
     "name": "stdout",
     "output_type": "stream",
     "text": [
      "Results\n",
      "[('obj', 'http://www.wikidata.org/entity/Q11424'), ('name', 'film')]\n",
      "1\n"
     ]
    }
   ],
   "source": [
    "#the only one I know in there and which I'm sure is a film is Annabelle. Let's use that\n",
    "queryString = \"\"\"\n",
    "SELECT DISTINCT  ?obj ?name\n",
    "WHERE {\n",
    "   # bind something\n",
    "   wd:Q21511509 wdt:P31 ?obj.\n",
    "   ?obj sc:name ?name.    \n",
    "}\n",
    "LIMIT 20\n",
    "\"\"\"\n",
    "\n",
    "print(\"Results\")\n",
    "x=run_query(queryString)"
   ]
  },
  {
   "cell_type": "code",
   "execution_count": 29,
   "id": "51476286-c82c-444c-b470-9286795ca850",
   "metadata": {},
   "outputs": [
    {
     "name": "stdout",
     "output_type": "stream",
     "text": [
      "Results\n",
      "[('p', 'http://www.wikidata.org/prop/direct/P800'), ('name', 'notable work')]\n",
      "[('p', 'http://www.wikidata.org/prop/direct/P1441'), ('name', 'present in work')]\n",
      "[('p', 'http://www.wikidata.org/prop/direct/P1455'), ('name', 'list of works')]\n",
      "[('p', 'http://www.wikidata.org/prop/direct/P161'), ('name', 'cast member')]\n",
      "[('p', 'http://www.wikidata.org/prop/direct/P175'), ('name', 'performer')]\n",
      "[('p', 'http://www.wikidata.org/prop/direct/P101'), ('name', 'field of work')]\n",
      "[('p', 'http://www.wikidata.org/prop/direct/P1283'), ('name', 'filmography')]\n",
      "[('p', 'http://www.wikidata.org/prop/direct/P27'), ('name', 'country of citizenship')]\n",
      "[('p', 'http://www.wikidata.org/prop/direct/P725'), ('name', 'voice actor')]\n",
      "[('p', 'http://www.wikidata.org/prop/direct/P2318'), ('name', 'debut participant')]\n",
      "[('p', 'http://www.wikidata.org/prop/direct/P1344'), ('name', 'participant in')]\n",
      "[('p', 'http://www.wikidata.org/prop/direct/P608'), ('name', 'exhibition history')]\n",
      "[('p', 'http://www.wikidata.org/prop/direct/P106'), ('name', 'occupation')]\n",
      "[('p', 'http://www.wikidata.org/prop/direct/P2868'), ('name', 'subject has role')]\n",
      "[('p', 'http://www.wikidata.org/prop/direct/P1889'), ('name', 'different from')]\n",
      "[('p', 'http://www.wikidata.org/prop/direct/P767'), ('name', 'contributor to the creative work or subject')]\n",
      "[('p', 'http://www.wikidata.org/prop/direct/P361'), ('name', 'part of')]\n",
      "[('p', 'http://www.wikidata.org/prop/direct/P4584'), ('name', 'first appearance')]\n",
      "[('p', 'http://www.wikidata.org/prop/direct/P3919'), ('name', 'contributed to creative work')]\n",
      "[('p', 'http://www.wikidata.org/prop/direct/P140'), ('name', 'religion')]\n",
      "[('p', 'http://www.wikidata.org/prop/direct/P166'), ('name', 'award received')]\n",
      "[('p', 'http://www.wikidata.org/prop/direct/P19'), ('name', 'place of birth')]\n",
      "[('p', 'http://www.wikidata.org/prop/direct/P735'), ('name', 'given name')]\n",
      "[('p', 'http://www.wikidata.org/prop/direct/P2789'), ('name', 'connects with')]\n",
      "[('p', 'http://www.wikidata.org/prop/direct/P509'), ('name', 'cause of death')]\n",
      "[('p', 'http://www.wikidata.org/prop/direct/P58'), ('name', 'screenwriter')]\n",
      "[('p', 'http://www.wikidata.org/prop/direct/P1343'), ('name', 'described by source')]\n",
      "[('p', 'http://www.wikidata.org/prop/direct/P1299'), ('name', 'depicted by')]\n",
      "[('p', 'http://www.wikidata.org/prop/direct/P5126'), ('name', 'assistant director')]\n",
      "[('p', 'http://www.wikidata.org/prop/direct/P108'), ('name', 'employer')]\n",
      "[('p', 'http://www.wikidata.org/prop/direct/P463'), ('name', 'member of')]\n",
      "[('p', 'http://www.wikidata.org/prop/direct/P69'), ('name', 'educated at')]\n",
      "[('p', 'http://www.wikidata.org/prop/direct/P674'), ('name', 'characters')]\n",
      "[('p', 'http://www.wikidata.org/prop/direct/P264'), ('name', 'record label')]\n",
      "[('p', 'http://www.wikidata.org/prop/direct/P248'), ('name', 'stated in')]\n",
      "[('p', 'http://www.wikidata.org/prop/direct/P162'), ('name', 'producer')]\n",
      "[('p', 'http://www.wikidata.org/prop/direct/P734'), ('name', 'family name')]\n",
      "[('p', 'http://www.wikidata.org/prop/direct/P710'), ('name', 'participant')]\n",
      "[('p', 'http://www.wikidata.org/prop/direct/P1416'), ('name', 'affiliation')]\n",
      "[('p', 'http://www.wikidata.org/prop/direct/P805'), ('name', 'statement is subject of')]\n",
      "40\n"
     ]
    }
   ],
   "source": [
    "#retrieving the properties linking an actor with a film\n",
    "queryString = \"\"\"\n",
    "SELECT DISTINCT  ?p ?name\n",
    "WHERE {\n",
    "   # bind something\n",
    "   ?actor wdt:P106 wd:Q33999.\n",
    "   ?film wdt:P31 wd:Q11424.\n",
    "   ?actor ?p ?film.\n",
    "   ?p sc:name ?name. \n",
    "}\n",
    "LIMIT 40\n",
    "\"\"\"\n",
    "\n",
    "print(\"Results\")\n",
    "x=run_query(queryString)"
   ]
  },
  {
   "cell_type": "code",
   "execution_count": 33,
   "id": "cdad1583-cf1b-4065-bc19-1f0c40cebfa1",
   "metadata": {},
   "outputs": [
    {
     "name": "stdout",
     "output_type": "stream",
     "text": [
      "Results\n",
      "[('member', 'http://www.wikidata.org/entity/Q308124'), ('name', 'Anthony LaPaglia'), ('nbfilms', '47')]\n",
      "[('member', 'http://www.wikidata.org/entity/Q235075'), ('name', 'Poppy Montgomery'), ('nbfilms', '5')]\n",
      "2\n"
     ]
    }
   ],
   "source": [
    "#that was my final query(with LIMIT 1) but after seeing that just using the property cast member on the serie doesn't retrieve them all at all, I'm gonna adapt it\n",
    "queryString = \"\"\"\n",
    "SELECT DISTINCT ?member ?name (COUNT(?film) AS ?nbfilms)\n",
    "WHERE {\n",
    "   # bind something\n",
    "   wd:Q826477 wdt:P161 ?member.\n",
    "   ?film wdt:P31 wd:Q11424;\n",
    "        wdt:P161 ?member.\n",
    "   ?member sc:name ?name.\n",
    "} GROUP BY ?member ?name\n",
    "ORDER BY DESC(?nbfilms)\n",
    "LIMIT 5\n",
    "\"\"\"\n",
    "\n",
    "print(\"Results\")\n",
    "x=run_query(queryString)"
   ]
  },
  {
   "cell_type": "markdown",
   "id": "a5a742f5",
   "metadata": {},
   "source": [
    "Final query for this task"
   ]
  },
  {
   "cell_type": "code",
   "execution_count": 37,
   "id": "660fa2b4",
   "metadata": {},
   "outputs": [
    {
     "name": "stdout",
     "output_type": "stream",
     "text": [
      "Results\n",
      "[('cast', 'http://www.wikidata.org/entity/Q355163'), ('name', 'Bruce Davison'), ('nbfilms', '56')]\n",
      "1\n"
     ]
    }
   ],
   "source": [
    "# write your final query\n",
    "queryString = \"\"\"\n",
    "SELECT DISTINCT ?cast ?name (COUNT(?film) AS ?nbfilms)\n",
    "WHERE {\n",
    "    ?film wdt:P31 wd:Q11424;\n",
    "        wdt:P161 ?member.\n",
    "   ?member sc:name ?name.\n",
    "    {\n",
    "        SELECT DISTINCT ?cast WHERE{         #This subquery just to have the whole cast and not only two people\n",
    "            ?episode wdt:P31 wd:Q21191270 ; \n",
    "                wdt:P179 wd:Q826477 ;\n",
    "                wdt:P161 ?cast.\n",
    "        }\n",
    "    }\n",
    "    FILTER(?member = ?cast)\n",
    "} GROUP BY ?cast ?name\n",
    "ORDER BY DESC(?nbfilms)\n",
    "LIMIT 1\n",
    "\"\"\"\n",
    "\n",
    "print(\"Results\")\n",
    "x=run_query(queryString)"
   ]
  },
  {
   "cell_type": "markdown",
   "id": "eb1ca2a5",
   "metadata": {},
   "source": [
    "## Task 5\n",
    "Compare Without a Trace with the tv series \"Cold Case\" in terms of number of seasons, episods and cast members (the result set must be two elements -one for each tv series- of tv series IRI, label, #seasons, #episodes and #cast members)."
   ]
  },
  {
   "cell_type": "code",
   "execution_count": 47,
   "id": "1c6d461e",
   "metadata": {},
   "outputs": [
    {
     "name": "stdout",
     "output_type": "stream",
     "text": [
      "Results\n",
      "[('serie', 'http://www.wikidata.org/entity/Q733960'), ('name', 'Cold Case'), ('seasons', '7'), ('episodes', '156'), ('nbactors', '478')]\n",
      "[('serie', 'http://www.wikidata.org/entity/Q826477'), ('name', 'Without a Trace'), ('seasons', '7'), ('episodes', '160'), ('nbactors', '2')]\n",
      "2\n"
     ]
    }
   ],
   "source": [
    "# write your queries\n",
    "#that was my final query before doing the task 3.   \n",
    "queryString = \"\"\"\n",
    "SELECT DISTINCT ?serie ?name ?seasons ?episodes (COUNT(?cast) as ?nbactors)\n",
    "WHERE {\n",
    "   VALUES (?serie) {\n",
    "   (wd:Q826477)\n",
    "   (wd:Q733960)\n",
    "   }\n",
    "   ?serie wdt:P2437 ?seasons ;\n",
    "       wdt:P1113 ?episodes;\n",
    "       wdt:P161 ?cast ;\n",
    "       sc:name ?name.\n",
    "}\n",
    "LIMIT 20\n",
    "\"\"\"\n",
    "\n",
    "print(\"Results\")\n",
    "x=run_query(queryString)"
   ]
  },
  {
   "cell_type": "markdown",
   "id": "d550d3bc",
   "metadata": {},
   "source": [
    "Final query for this task"
   ]
  },
  {
   "cell_type": "code",
   "execution_count": 48,
   "id": "269a1279",
   "metadata": {},
   "outputs": [
    {
     "name": "stdout",
     "output_type": "stream",
     "text": [
      "Results\n",
      "[('serie2', 'http://www.wikidata.org/entity/Q733960'), ('name', 'Cold Case'), ('seasons', '7'), ('episodes', '156'), ('nbactors', '1296')]\n",
      "[('serie2', 'http://www.wikidata.org/entity/Q826477'), ('name', 'Without a Trace'), ('seasons', '7'), ('episodes', '160'), ('nbactors', '821')]\n",
      "2\n"
     ]
    }
   ],
   "source": [
    "# write your final query\n",
    "#But having only 2 cast members for WaT is still very weird, so I'm gonna retrieve all the people being cast members in an episode of the series instead.\n",
    "queryString = \"\"\"\n",
    "SELECT DISTINCT ?serie2 ?name ?seasons ?episodes ?nbactors\n",
    "WHERE {\n",
    "   \n",
    "   ?serie2 wdt:P2437 ?seasons ;\n",
    "       wdt:P1113 ?episodes;\n",
    "       sc:name ?name.\n",
    "   {\n",
    "        SELECT DISTINCT ?serie (COUNT(?cast) as ?nbactors) WHERE{         #This subquery just to have the whole cast and not only two people\n",
    "            ?episode wdt:P31 wd:Q21191270 ; \n",
    "                wdt:P179 ?serie ;\n",
    "                wdt:P161 ?cast.\n",
    "            ?cast wdt:P106 wd:Q33999.\n",
    "            FILTER (?serie IN (wd:Q826477, wd:Q733960))\n",
    "        }\n",
    "    }\n",
    "    FILTER(?serie2 = ?serie)\n",
    "}\n",
    "LIMIT 20\n",
    "\"\"\"\n",
    "\n",
    "print(\"Results\")\n",
    "x=run_query(queryString)"
   ]
  },
  {
   "cell_type": "markdown",
   "id": "ce3cb3b1",
   "metadata": {},
   "source": [
    "## Task 6\n",
    "Return the actors who are members of the cast of Without a Trace have [Kavin Bacon number](https://en.wikipedia.org/wiki/Six_Degrees_of_Kevin_Bacon#:~:text=Kevin%20Bacon%20himself%20has%20a,Bacon%20number%20is%20N%2B1.) equal to 2 (the result set must be a list of couples actor/actress IRI and label)."
   ]
  },
  {
   "cell_type": "code",
   "execution_count": 58,
   "id": "1c636fd8-4c31-421b-99c8-589ebc374f55",
   "metadata": {
    "tags": []
   },
   "outputs": [
    {
     "name": "stdout",
     "output_type": "stream",
     "text": [
      "Results\n",
      "Empty\n"
     ]
    }
   ],
   "source": [
    "# write your queries\n",
    "#we first need to retrieve the BGP of Kevin Bacon\n",
    "queryString = \"\"\"\n",
    "\n",
    "SELECT DISTINCT ?kevBacon ?kevin\n",
    "WHERE {\n",
    "   ?kevBacon wdt:P106 wd:Q33999;\n",
    "       sc:name ?kevin.\n",
    "   FILTER (?kevin = \"Kevin Bacon\") .\n",
    "}\n",
    "LIMIT 50\n",
    "\"\"\"\n",
    "\n",
    "print(\"Results\")\n",
    "x=run_query(queryString)"
   ]
  },
  {
   "cell_type": "code",
   "execution_count": 61,
   "id": "9ed355e2-ec84-41d5-a3e2-13c0379a9b68",
   "metadata": {},
   "outputs": [
    {
     "name": "stdout",
     "output_type": "stream",
     "text": [
      "Results\n",
      "[('actor', 'http://www.wikidata.org/entity/Q586857'), ('name', 'Kevin Conway')]\n",
      "[('actor', 'http://www.wikidata.org/entity/Q1334725'), ('name', 'Kevin Corrigan')]\n",
      "[('actor', 'http://www.wikidata.org/entity/Q3454165'), ('name', 'Kevin Bacon')]\n",
      "[('actor', 'http://www.wikidata.org/entity/Q1740104'), ('name', 'Kevin Chamberlin')]\n",
      "4\n"
     ]
    }
   ],
   "source": [
    "#not working, let's see with actors that played with Anthony LaPaglia\n",
    "queryString = \"\"\"\n",
    "SELECT DISTINCT ?actor ?name\n",
    "WHERE {\n",
    "   ?film wdt:P31 wd:Q11424 ;\n",
    "       wdt:P161 wd:Q308124 ;\n",
    "       wdt:P161 ?actor.\n",
    "    ?actor sc:name ?name.\n",
    "    FILTER REGEX (?name, \"^Kevin\")\n",
    "}\n",
    "LIMIT 50\n",
    "\"\"\"\n",
    "\n",
    "print(\"Results\")\n",
    "x=run_query(queryString)"
   ]
  },
  {
   "cell_type": "markdown",
   "id": "3baf28e4",
   "metadata": {},
   "source": [
    "Final query for this task"
   ]
  },
  {
   "cell_type": "code",
   "execution_count": 6,
   "id": "232e3fc8",
   "metadata": {},
   "outputs": [
    {
     "name": "stdout",
     "output_type": "stream",
     "text": [
      "Results\n",
      "[('WaTactor', 'http://www.wikidata.org/entity/Q139341'), ('name', 'Zach Grenier')]\n",
      "[('WaTactor', 'http://www.wikidata.org/entity/Q373989'), ('name', 'David Paymer')]\n",
      "[('WaTactor', 'http://www.wikidata.org/entity/Q3265830'), ('name', 'Lucille Soong')]\n",
      "[('WaTactor', 'http://www.wikidata.org/entity/Q430872'), ('name', 'Marianne Jean-Baptiste')]\n",
      "[('WaTactor', 'http://www.wikidata.org/entity/Q238501'), ('name', 'Alex Veadov')]\n",
      "[('WaTactor', 'http://www.wikidata.org/entity/Q308124'), ('name', 'Anthony LaPaglia')]\n",
      "[('WaTactor', 'http://www.wikidata.org/entity/Q355163'), ('name', 'Bruce Davison')]\n",
      "[('WaTactor', 'http://www.wikidata.org/entity/Q706513'), ('name', 'Charles S. Dutton')]\n",
      "[('WaTactor', 'http://www.wikidata.org/entity/Q1125651'), ('name', 'Thom Barry')]\n",
      "[('WaTactor', 'http://www.wikidata.org/entity/Q235075'), ('name', 'Poppy Montgomery')]\n",
      "[('WaTactor', 'http://www.wikidata.org/entity/Q22704603'), ('name', 'Lily Knight')]\n",
      "[('WaTactor', 'http://www.wikidata.org/entity/Q445325'), ('name', 'Megan Gallagher')]\n",
      "[('WaTactor', 'http://www.wikidata.org/entity/Q20651783'), ('name', 'Jenica Bergere')]\n",
      "[('WaTactor', 'http://www.wikidata.org/entity/Q1721796'), ('name', 'Kaitlin Doubleday')]\n",
      "[('WaTactor', 'http://www.wikidata.org/entity/Q459638'), ('name', 'Stacy Edwards')]\n",
      "[('WaTactor', 'http://www.wikidata.org/entity/Q3260118'), ('name', 'Lou Cutell')]\n",
      "[('WaTactor', 'http://www.wikidata.org/entity/Q297128'), ('name', 'David Henrie')]\n",
      "[('WaTactor', 'http://www.wikidata.org/entity/Q18618690'), ('name', 'John Livingston')]\n",
      "[('WaTactor', 'http://www.wikidata.org/entity/Q1378361'), ('name', 'Kyle Secor')]\n",
      "[('WaTactor', 'http://www.wikidata.org/entity/Q551608'), ('name', 'Enrique Murciano')]\n",
      "[('WaTactor', 'http://www.wikidata.org/entity/Q503040'), ('name', 'Eric Close')]\n",
      "[('WaTactor', 'http://www.wikidata.org/entity/Q462343'), ('name', 'Rosemary Forsyth')]\n",
      "[('WaTactor', 'http://www.wikidata.org/entity/Q2923471'), ('name', 'Bradford Tatum')]\n",
      "[('WaTactor', 'http://www.wikidata.org/entity/Q5363239'), ('name', 'Elizabeth Morehead')]\n",
      "[('WaTactor', 'http://www.wikidata.org/entity/Q2927620'), ('name', 'Denise Dowse')]\n",
      "[('WaTactor', 'http://www.wikidata.org/entity/Q19519424'), ('name', 'Jessie Usher')]\n",
      "[('WaTactor', 'http://www.wikidata.org/entity/Q60545340'), ('name', 'Lindsey Kraft')]\n",
      "[('WaTactor', 'http://www.wikidata.org/entity/Q6832453'), ('name', 'Michael Maize')]\n",
      "28\n"
     ]
    }
   ],
   "source": [
    "# write your final query\n",
    "queryString = \"\"\"\n",
    "SELECT DISTINCT ?WaTactor ?name\n",
    "WHERE {\n",
    "       ?episode wdt:P31 wd:Q21191270 ; #to have the whole cast\n",
    "                wdt:P179 wd:Q826477 ;\n",
    "                wdt:P161 ?WaTactor.\n",
    "       ?film wdt:P161 ?WaTactor;\n",
    "           wdt:P161 ?actor.\n",
    "       ?WaTactor sc:name ?name .\n",
    "\n",
    "    {\n",
    "        SELECT DISTINCT ?bacon1\n",
    "        WHERE {\n",
    "           ?bacon1 wdt:P106 wd:Q33999.\n",
    "           ?film wdt:P31 wd:Q11424 ;\n",
    "               wdt:P161 ?bacon1 ;\n",
    "               wdt:P161 wd:Q3454165.\n",
    "        }\n",
    "    } FILTER (?actor = ?bacon1) \n",
    "}\n",
    "LIMIT 50\n",
    "\"\"\"\n",
    "\n",
    "print(\"Results\")\n",
    "x=run_query(queryString)\n"
   ]
  },
  {
   "cell_type": "markdown",
   "id": "c1632774",
   "metadata": {},
   "source": [
    "## Task 7\n",
    "Consider the actors who are members of the cast of Cold Case. Amongst the tv series which these actors acted return only those which received more than 2 awards (the result set must be triples of tv series IRI, label, #awards won)."
   ]
  },
  {
   "cell_type": "code",
   "execution_count": 3,
   "id": "f1c00453",
   "metadata": {},
   "outputs": [
    {
     "name": "stdout",
     "output_type": "stream",
     "text": [
      "Results\n",
      "[('member', 'http://www.wikidata.org/entity/Q270382'), ('name', 'Justina Machado')]\n",
      "[('member', 'http://www.wikidata.org/entity/Q269891'), ('name', 'Julianna Guill')]\n",
      "[('member', 'http://www.wikidata.org/entity/Q128821'), ('name', 'Stephen Full')]\n",
      "[('member', 'http://www.wikidata.org/entity/Q1340897'), ('name', 'Martin Spanjers')]\n",
      "[('member', 'http://www.wikidata.org/entity/Q275476'), ('name', 'Kay Lenz')]\n",
      "[('member', 'http://www.wikidata.org/entity/Q441617'), ('name', 'Gabrielle Miller')]\n",
      "[('member', 'http://www.wikidata.org/entity/Q449249'), ('name', 'Chelsea Hobbs')]\n",
      "[('member', 'http://www.wikidata.org/entity/Q613378'), ('name', 'Bruno Campos')]\n",
      "[('member', 'http://www.wikidata.org/entity/Q242206'), ('name', 'Bree Turner')]\n",
      "[('member', 'http://www.wikidata.org/entity/Q258246'), ('name', 'Lois Smith')]\n",
      "[('member', 'http://www.wikidata.org/entity/Q261926'), ('name', 'Muse Watson')]\n",
      "[('member', 'http://www.wikidata.org/entity/Q266179'), ('name', 'Johnathon Schaech')]\n",
      "[('member', 'http://www.wikidata.org/entity/Q452288'), ('name', 'Jeffrey Combs')]\n",
      "[('member', 'http://www.wikidata.org/entity/Q516659'), ('name', 'Virginia Williams')]\n",
      "[('member', 'http://www.wikidata.org/entity/Q919478'), ('name', 'James Read')]\n",
      "[('member', 'http://www.wikidata.org/entity/Q960467'), ('name', 'Chaney Kley')]\n",
      "[('member', 'http://www.wikidata.org/entity/Q1338682'), ('name', 'Jeremy Ratchford')]\n",
      "[('member', 'http://www.wikidata.org/entity/Q1377218'), ('name', 'Richard Edson')]\n",
      "[('member', 'http://www.wikidata.org/entity/Q238884'), ('name', 'Shirley Knight')]\n",
      "[('member', 'http://www.wikidata.org/entity/Q2392907'), ('name', 'Edwin Hodge')]\n",
      "20\n"
     ]
    }
   ],
   "source": [
    "# write your queries\n",
    "#Getting the cast members of Cold Case\n",
    "queryString = \"\"\"\n",
    "SELECT DISTINCT ?member ?name\n",
    "WHERE {\n",
    "   # bind something\n",
    "   wd:Q733960 wdt:P161 ?member.\n",
    "   # get the label\n",
    "   ?member sc:name ?name.\n",
    "}\n",
    "LIMIT 20\n",
    "\"\"\"\n",
    "\n",
    "print(\"Results\")\n",
    "x=run_query(queryString)"
   ]
  },
  {
   "cell_type": "markdown",
   "id": "142cd605",
   "metadata": {},
   "source": [
    "Final query for this task"
   ]
  },
  {
   "cell_type": "code",
   "execution_count": 9,
   "id": "2b9a3b71",
   "metadata": {},
   "outputs": [
    {
     "name": "stdout",
     "output_type": "stream",
     "text": [
      "Results\n",
      "[('serie2', 'http://www.wikidata.org/entity/Q1079'), ('name', 'Breaking Bad'), ('nbawards', '21')]\n",
      "[('serie2', 'http://www.wikidata.org/entity/Q56153643'), ('name', 'Watchmen'), ('nbawards', '20')]\n",
      "[('serie2', 'http://www.wikidata.org/entity/Q1132439'), ('name', 'The Practice'), ('nbawards', '12')]\n",
      "[('serie2', 'http://www.wikidata.org/entity/Q16756'), ('name', 'Modern Family'), ('nbawards', '11')]\n",
      "[('serie2', 'http://www.wikidata.org/entity/Q8539'), ('name', 'The Big Bang Theory'), ('nbawards', '10')]\n",
      "[('serie2', 'http://www.wikidata.org/entity/Q244803'), ('name', 'Ally McBeal'), ('nbawards', '9')]\n",
      "[('serie2', 'http://www.wikidata.org/entity/Q1145764'), ('name', 'Guiding Light'), ('nbawards', '9')]\n",
      "[('serie2', 'http://www.wikidata.org/entity/Q30599007'), ('name', 'Succession'), ('nbawards', '8')]\n",
      "[('serie2', 'http://www.wikidata.org/entity/Q438406'), ('name', \"Grey's Anatomy\"), ('nbawards', '8')]\n",
      "[('serie2', 'http://www.wikidata.org/entity/Q1030713'), ('name', 'Another World'), ('nbawards', '8')]\n",
      "[('serie2', 'http://www.wikidata.org/entity/Q1068952'), ('name', 'St. Elsewhere'), ('nbawards', '8')]\n",
      "[('serie2', 'http://www.wikidata.org/entity/Q186219'), ('name', 'True Blood'), ('nbawards', '7')]\n",
      "[('serie2', 'http://www.wikidata.org/entity/Q147235'), ('name', 'How I Met Your Mother'), ('nbawards', '7')]\n",
      "[('serie2', 'http://www.wikidata.org/entity/Q34659'), ('name', 'My Name Is Earl'), ('nbawards', '7')]\n",
      "[('serie2', 'http://www.wikidata.org/entity/Q1071958'), ('name', 'Chicago Hope'), ('nbawards', '6')]\n",
      "[('serie2', 'http://www.wikidata.org/entity/Q2085'), ('name', 'Twin Peaks'), ('nbawards', '6')]\n",
      "[('serie2', 'http://www.wikidata.org/entity/Q7099650'), ('name', 'Orange Is the New Black'), ('nbawards', '6')]\n",
      "[('serie2', 'http://www.wikidata.org/entity/Q117396'), ('name', 'CSI: Vegas'), ('nbawards', '6')]\n",
      "[('serie2', 'http://www.wikidata.org/entity/Q18844729'), ('name', 'Mr. Robot'), ('nbawards', '6')]\n",
      "[('serie2', 'http://www.wikidata.org/entity/Q21296543'), ('name', 'Star Trek: Discovery'), ('nbawards', '6')]\n",
      "[('serie2', 'http://www.wikidata.org/entity/Q1050603'), ('name', 'Deadwood'), ('nbawards', '6')]\n",
      "[('serie2', 'http://www.wikidata.org/entity/Q1168760'), ('name', 'Upstairs, Downstairs'), ('nbawards', '5')]\n",
      "[('serie2', 'http://www.wikidata.org/entity/Q39719'), ('name', 'New York Undercover'), ('nbawards', '4')]\n",
      "[('serie2', 'http://www.wikidata.org/entity/Q833322'), ('name', 'Murder, She Wrote'), ('nbawards', '4')]\n",
      "[('serie2', 'http://www.wikidata.org/entity/Q585758'), ('name', 'Boardwalk Empire'), ('nbawards', '3')]\n",
      "[('serie2', 'http://www.wikidata.org/entity/Q19570'), ('name', 'The Good Wife'), ('nbawards', '3')]\n",
      "[('serie2', 'http://www.wikidata.org/entity/Q1109026'), ('name', 'A Different World'), ('nbawards', '3')]\n",
      "[('serie2', 'http://www.wikidata.org/entity/Q1144624'), ('name', 'Family Ties'), ('nbawards', '3')]\n",
      "[('serie2', 'http://www.wikidata.org/entity/Q232737'), ('name', 'The Walking Dead'), ('nbawards', '3')]\n",
      "[('serie2', 'http://www.wikidata.org/entity/Q1758072'), ('name', 'Lilyhammer'), ('nbawards', '3')]\n",
      "30\n"
     ]
    }
   ],
   "source": [
    "# write your final query\n",
    "#the property award received was found somewhere during the task 4\n",
    "queryString = \"\"\"\n",
    "SELECT DISTINCT ?serie2 ?name (COUNT(?award) AS ?nbawards) \n",
    "WHERE {\n",
    "    ?serie2 wdt:P31 wd:Q5398426;\n",
    "            wdt:P166 ?award;\n",
    "            sc:name ?name.\n",
    "    FILTER (?serie2 = ?serie) \n",
    "    {\n",
    "        SELECT DISTINCT ?serie\n",
    "        WHERE {\n",
    "           wd:Q733960 wdt:P161 ?member .\n",
    "           ?serie wdt:P31 wd:Q5398426 ;\n",
    "                wdt:P161 ?member. \n",
    "        }\n",
    "    } \n",
    "}GROUP BY ?serie2 ?name \n",
    "HAVING (COUNT(?award) > 2)\n",
    "ORDER BY DESC (?nbawards)\n",
    "LIMIT 50\n",
    "\"\"\"\n",
    "\n",
    "print(\"Results\")\n",
    "x=run_query(queryString)"
   ]
  }
 ],
 "metadata": {
  "kernelspec": {
   "display_name": "Python 3 (ipykernel)",
   "language": "python",
   "name": "python3"
  },
  "language_info": {
   "codemirror_mode": {
    "name": "ipython",
    "version": 3
   },
   "file_extension": ".py",
   "mimetype": "text/x-python",
   "name": "python",
   "nbconvert_exporter": "python",
   "pygments_lexer": "ipython3",
   "version": "3.7.10"
  }
 },
 "nbformat": 4,
 "nbformat_minor": 5
}
