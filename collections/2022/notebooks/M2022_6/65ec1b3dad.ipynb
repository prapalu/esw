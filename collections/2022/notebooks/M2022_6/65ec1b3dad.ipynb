{
 "cells": [
  {
   "cell_type": "markdown",
   "id": "b347dec8",
   "metadata": {},
   "source": [
    "# General instructions\n",
    "\n",
    "The goal of the project is to materialize a set of **exploratory workloads** over a real-world, large-scale,  open-domain KG: [WikiData](https://www.wikidata.org/wiki/Wikidata:Main_Page)\n",
    "\n",
    "An exploratory workload  is composed by a set of queries, where each query is related to the information obtained previously.\n",
    "\n",
    "An exploratory workload starts with a usually vague, open ended question, and does not assume the person issuing the workload has a clear understanding of the data contained in the target database or its structure.\n",
    "\n",
    "Remeber that:\n",
    "\n",
    "1. All the queries must run in the python notebook\n",
    "2. You can use classes and properties only if you find them via a SPARQL query that must be present in the notebook\n",
    "3. You do not delete useless queries. Keep everything that is synthatically valid \n",
    "\n",
    "```\n",
    "?p <http://schema.org/name> ?name .\n",
    "```\n",
    "    \n",
    "    is the BGP returning a human-readable name of a property or a class in Wikidata.\n",
    "    \n",
    "    "
   ]
  },
  {
   "cell_type": "code",
   "execution_count": 20,
   "id": "0ca6bc0d",
   "metadata": {},
   "outputs": [],
   "source": [
    "## SETUP used later\n",
    "\n",
    "from SPARQLWrapper import SPARQLWrapper, JSON\n",
    "\n",
    "\n",
    "prefixString = \"\"\"\n",
    "##-65ec1b3dad-##\n",
    "PREFIX wd: <http://www.wikidata.org/entity/> \n",
    "PREFIX wdt: <http://www.wikidata.org/prop/direct/> \n",
    "PREFIX sc: <http://schema.org/>\n",
    "\"\"\"\n",
    "\n",
    "# select and construct queries\n",
    "def run_query(queryString,verbose = True):\n",
    "    to_run = prefixString + \"\\n\" + queryString\n",
    "\n",
    "    sparql = SPARQLWrapper(\"http://a256-gc1-03.srv.aau.dk:5820/sparql\")\n",
    "    sparql.setTimeout(300)\n",
    "    sparql.setReturnFormat(JSON)\n",
    "    sparql.setQuery(to_run)\n",
    "\n",
    "    try :\n",
    "        results = sparql.query()\n",
    "        json_results = results.convert()\n",
    "        if len(json_results['results']['bindings'])==0:\n",
    "            print(\"Empty\")\n",
    "            return []\n",
    "        array = []\n",
    "        for bindings in json_results['results']['bindings']:\n",
    "            app =  [ (var, value['value'])  for var, value in bindings.items() ] \n",
    "            if verbose:\n",
    "                print( app)\n",
    "            array.append(app)\n",
    "        if verbose:\n",
    "            print(len(array))\n",
    "        return array\n",
    "\n",
    "    except Exception as e :\n",
    "        print(\"The operation failed\", e)\n",
    "    \n",
    "# ASk queries\n",
    "def run_ask_query(queryString):\n",
    "    to_run = prefixString + \"\\n\" + queryString\n",
    "\n",
    "    sparql = SPARQLWrapper(\"http://a256-gc1-03.srv.aau.dk:5820/sparql\")\n",
    "    sparql.setTimeout(300)\n",
    "    sparql.setReturnFormat(JSON)\n",
    "    sparql.setQuery(to_run)\n",
    "\n",
    "    try :\n",
    "        return sparql.query().convert()\n",
    "\n",
    "    except Exception as e :\n",
    "        print(\"The operation failed\", e)"
   ]
  },
  {
   "cell_type": "markdown",
   "id": "7553fa9a",
   "metadata": {},
   "source": [
    "# Movie Workflow Series (\"Tv series Without a Trace explorative search\") \n",
    "\n",
    "\n",
    "Consider the following exploratory scenario:\n",
    "\n",
    "\n",
    "> we are interested in the TV series \"Without a Trace\" and we want to investigate the main aspects related to the actors and directors involved in the production, know the numerber of seasons and check what are the episodes which got the higher success/impact.\n",
    "\n",
    "\n",
    "## Useful URIs for the current workflow\n",
    "The following are given:\n",
    "\n",
    "| IRI           | Description   | Role      |\n",
    "| -----------   | -----------   |-----------|\n",
    "| `wdt:P1647`   | subproperty   | predicate |\n",
    "| `wdt:P31`     | instance of   | predicate |\n",
    "| `wdt:P106`    | profession    | predicate | \n",
    "| `wdt:P279`    | subclass      | predicate |\n",
    "| `wdt:P4969`    | derivative work      | predicate |\n",
    "| `wd:Q826477` | Without a Trace    | node |\n",
    "| `wd:Q733960` | Cold Case       | node |\n",
    "\n",
    "\n",
    "\n",
    "Also consider\n",
    "\n",
    "```\n",
    "wd:Q826477 ?p ?obj .\n",
    "```\n",
    "\n",
    "is the BGP to retrieve all **properties of Without a Trace**\n",
    "\n",
    "Please consider that when you return a resource, you should return the IRI and the label of the resource. In particular, when the task require you to identify a BGP the result set must always be a list of couples IRI - label.\n",
    "\n",
    "\n",
    "\n",
    "The workload should\n",
    "\n",
    "1. Identify the BGP for television series\n",
    "\n",
    "2. Return the number of seasons and episodes per season of the tv series (the result set must be triples of season IRI, label and #episodes).\n",
    "\n",
    "3. Get the number of episodes in which the cast members played a role. Who are the most present actors? (the result set must be a list of triples actor/actress IRI, label and #episodes)\n",
    "\n",
    "4. Check who is the actor who acted in more films while working on \"Without a Trace\" (the result set must be a list of triples actor/actress IRI, label and #films).\n",
    "\n",
    "5. Compare Without a Trace with the tv series \"Cold Case\" in terms of number of seasons, episods and cast members (the result set must be two elements -one for each tv series- of tv series IRI, label, #seasons, #episodes and #cast members).\n",
    "\n",
    "6. Return the actors who are members of the cast of Without a Trace have [Kavin Bacon number](https://en.wikipedia.org/wiki/Six_Degrees_of_Kevin_Bacon#:~:text=Kevin%20Bacon%20himself%20has%20a,Bacon%20number%20is%20N%2B1.) equal to 2 (the result set must be a list of couples actor/actress IRI and label).\n",
    "\n",
    "7. Consider the actors who are members of the cast of Cold Case. Amongst the tv series which these actors acted return only those which received more than 2 awards (the result set must be triples of tv series IRI, label, #awards won)."
   ]
  },
  {
   "cell_type": "markdown",
   "id": "4ae75874",
   "metadata": {
    "tags": []
   },
   "source": [
    "## Task 1\n",
    "Identify the BGP for television series"
   ]
  },
  {
   "cell_type": "markdown",
   "id": "54c7a655-246f-4d7b-8bc8-c735bea4b1dc",
   "metadata": {
    "tags": []
   },
   "source": [
    "### Get all data property of \"Without a Trace\" (wd:Q826477)"
   ]
  },
  {
   "cell_type": "code",
   "execution_count": 4,
   "id": "72e9226d-3d2e-4dc5-8d72-6565a7e0ed8b",
   "metadata": {},
   "outputs": [
    {
     "name": "stdout",
     "output_type": "stream",
     "text": [
      "Results\n",
      "[('property', 'http://www.wikidata.org/prop/direct/P1113'), ('label', 'number of episodes')]\n",
      "[('property', 'http://www.wikidata.org/prop/direct/P1258'), ('label', 'Rotten Tomatoes ID')]\n",
      "[('property', 'http://www.wikidata.org/prop/direct/P1267'), ('label', 'AlloCiné series ID')]\n",
      "[('property', 'http://www.wikidata.org/prop/direct/P1476'), ('label', 'title')]\n",
      "[('property', 'http://www.wikidata.org/prop/direct/P1562'), ('label', 'AllMovie title ID')]\n",
      "[('property', 'http://www.wikidata.org/prop/direct/P1712'), ('label', 'Metacritic ID')]\n",
      "[('property', 'http://www.wikidata.org/prop/direct/P2047'), ('label', 'duration')]\n",
      "[('property', 'http://www.wikidata.org/prop/direct/P2437'), ('label', 'number of seasons')]\n",
      "[('property', 'http://www.wikidata.org/prop/direct/P2529'), ('label', 'ČSFD film ID')]\n",
      "[('property', 'http://www.wikidata.org/prop/direct/P2581'), ('label', 'BabelNet ID')]\n",
      "[('property', 'http://www.wikidata.org/prop/direct/P2603'), ('label', 'Kinopoisk film ID')]\n",
      "[('property', 'http://www.wikidata.org/prop/direct/P2638'), ('label', 'TV.com ID')]\n",
      "[('property', 'http://www.wikidata.org/prop/direct/P2703'), ('label', 'BFI National Archive work ID')]\n",
      "[('property', 'http://www.wikidata.org/prop/direct/P2704'), ('label', 'EIDR content ID')]\n",
      "[('property', 'http://www.wikidata.org/prop/direct/P3121'), ('label', 'Epguides ID')]\n",
      "[('property', 'http://www.wikidata.org/prop/direct/P3138'), ('label', 'OFDb film ID')]\n",
      "[('property', 'http://www.wikidata.org/prop/direct/P3302'), ('label', 'Open Media Database film ID')]\n",
      "[('property', 'http://www.wikidata.org/prop/direct/P3417'), ('label', 'Quora topic ID')]\n",
      "[('property', 'http://www.wikidata.org/prop/direct/P345'), ('label', 'IMDb ID')]\n",
      "[('property', 'http://www.wikidata.org/prop/direct/P4665'), ('label', 'CineMagia title ID')]\n",
      "[('property', 'http://www.wikidata.org/prop/direct/P4835'), ('label', 'TheTVDB.com series ID')]\n",
      "[('property', 'http://www.wikidata.org/prop/direct/P4983'), ('label', 'TMDb TV series ID')]\n",
      "[('property', 'http://www.wikidata.org/prop/direct/P5099'), ('label', 'Il mondo dei doppiatori ID')]\n",
      "[('property', 'http://www.wikidata.org/prop/direct/P5327'), ('label', 'fernsehserien.de ID')]\n",
      "[('property', 'http://www.wikidata.org/prop/direct/P580'), ('label', 'start time')]\n",
      "[('property', 'http://www.wikidata.org/prop/direct/P582'), ('label', 'end time')]\n",
      "[('property', 'http://www.wikidata.org/prop/direct/P5925'), ('label', 'Moviepilot.de series ID')]\n",
      "[('property', 'http://www.wikidata.org/prop/direct/P646'), ('label', 'Freebase ID')]\n",
      "[('property', 'http://www.wikidata.org/prop/direct/P905'), ('label', 'PORT film ID')]\n",
      "[('property', 'http://www.wikidata.org/prop/direct/P4834'), ('label', 'Deutsche Synchronkartei series ID')]\n",
      "[('property', 'http://www.wikidata.org/prop/direct/P6643'), ('label', 'TV Spielfilm series ID')]\n",
      "[('property', 'http://www.wikidata.org/prop/direct/P7107'), ('label', 'LezWatch.TV show ID')]\n",
      "32\n"
     ]
    }
   ],
   "source": [
    "queryString = \"\"\"\n",
    "SELECT DISTINCT ?property ?label\n",
    "WHERE {   \n",
    "   wd:Q826477 ?property ?object .\n",
    "   ?property sc:name ?label .\n",
    "   FILTER(isLiteral(?object)) .   \n",
    "}\n",
    "\"\"\"\n",
    "print(\"Results\")\n",
    "x=run_query(queryString)"
   ]
  },
  {
   "cell_type": "markdown",
   "id": "4999cdce-a809-442a-bfa8-7904b8e26426",
   "metadata": {
    "tags": []
   },
   "source": [
    "### Get all data property of \"Without a Trace\" (wd:Q826477) that do not contain ID"
   ]
  },
  {
   "cell_type": "code",
   "execution_count": 11,
   "id": "0314ec2a-959a-47c0-9a2d-7829e8fa149d",
   "metadata": {},
   "outputs": [
    {
     "name": "stdout",
     "output_type": "stream",
     "text": [
      "Results\n",
      "[('property', 'http://www.wikidata.org/prop/direct/P1113'), ('label', 'number of episodes')]\n",
      "[('property', 'http://www.wikidata.org/prop/direct/P1476'), ('label', 'title')]\n",
      "[('property', 'http://www.wikidata.org/prop/direct/P2047'), ('label', 'duration')]\n",
      "[('property', 'http://www.wikidata.org/prop/direct/P2437'), ('label', 'number of seasons')]\n",
      "[('property', 'http://www.wikidata.org/prop/direct/P580'), ('label', 'start time')]\n",
      "[('property', 'http://www.wikidata.org/prop/direct/P582'), ('label', 'end time')]\n",
      "6\n"
     ]
    }
   ],
   "source": [
    "queryString = \"\"\"\n",
    "SELECT DISTINCT ?property ?label\n",
    "WHERE {   \n",
    "   wd:Q826477 ?property ?object .\n",
    "   ?property sc:name ?label .\n",
    "   FILTER(isLiteral(?object)) .\n",
    "   FILTER REGEX(?label, \"^((?!ID).)*$\") . \n",
    "}\n",
    "\"\"\"\n",
    "print(\"Results\")\n",
    "x=run_query(queryString)"
   ]
  },
  {
   "cell_type": "markdown",
   "id": "2d096aa2-508c-4130-ae13-5a32d288e959",
   "metadata": {
    "tags": []
   },
   "source": [
    "### Get the class of \"Without a Trace\" (wd:Q826477)"
   ]
  },
  {
   "cell_type": "code",
   "execution_count": 5,
   "id": "893206c5-9a13-485d-9c56-43937c84ebdf",
   "metadata": {},
   "outputs": [
    {
     "name": "stdout",
     "output_type": "stream",
     "text": [
      "Results\n",
      "[('class', 'http://www.wikidata.org/entity/Q5398426'), ('label', 'television series')]\n",
      "1\n"
     ]
    }
   ],
   "source": [
    "queryString = \"\"\"\n",
    "SELECT DISTINCT ?class ?label\n",
    "WHERE {   \n",
    "   wd:Q826477 wdt:P31 ?class .\n",
    "   ?class sc:name ?label .     \n",
    "}\n",
    "\"\"\"\n",
    "print(\"Results\")\n",
    "x=run_query(queryString)"
   ]
  },
  {
   "cell_type": "markdown",
   "id": "26047ff1-3022-4ca5-aeb1-8fba41873040",
   "metadata": {
    "tags": []
   },
   "source": [
    "### Get all object properties of \"Without a Trace\" (wd:Q826477)"
   ]
  },
  {
   "cell_type": "code",
   "execution_count": 6,
   "id": "d3880aec-7347-4be4-8ea1-06a55995d9b0",
   "metadata": {},
   "outputs": [
    {
     "name": "stdout",
     "output_type": "stream",
     "text": [
      "Results\n",
      "[('property', 'http://www.wikidata.org/prop/direct/P136'), ('label', 'genre')]\n",
      "[('property', 'http://www.wikidata.org/prop/direct/P154'), ('label', 'logo image')]\n",
      "[('property', 'http://www.wikidata.org/prop/direct/P161'), ('label', 'cast member')]\n",
      "[('property', 'http://www.wikidata.org/prop/direct/P170'), ('label', 'creator')]\n",
      "[('property', 'http://www.wikidata.org/prop/direct/P1811'), ('label', 'list of episodes')]\n",
      "[('property', 'http://www.wikidata.org/prop/direct/P2061'), ('label', 'aspect ratio')]\n",
      "[('property', 'http://www.wikidata.org/prop/direct/P31'), ('label', 'instance of')]\n",
      "[('property', 'http://www.wikidata.org/prop/direct/P364'), ('label', 'original language of film or TV show')]\n",
      "[('property', 'http://www.wikidata.org/prop/direct/P449'), ('label', 'original broadcaster')]\n",
      "[('property', 'http://www.wikidata.org/prop/direct/P495'), ('label', 'country of origin')]\n",
      "[('property', 'http://www.wikidata.org/prop/direct/P527'), ('label', 'has part')]\n",
      "[('property', 'http://www.wikidata.org/prop/direct/P674'), ('label', 'characters')]\n",
      "[('property', 'http://www.wikidata.org/prop/direct/P750'), ('label', 'distributed by')]\n",
      "[('property', 'http://www.wikidata.org/prop/direct/P840'), ('label', 'narrative location')]\n",
      "[('property', 'http://www.wikidata.org/prop/direct/P856'), ('label', 'official website')]\n",
      "15\n"
     ]
    }
   ],
   "source": [
    "queryString = \"\"\"\n",
    "SELECT DISTINCT ?property ?label\n",
    "WHERE {   \n",
    "   wd:Q826477 ?property ?object .\n",
    "   ?property sc:name ?label .\n",
    "   FILTER(!isLiteral(?object)) .   \n",
    "}\n",
    "\"\"\"\n",
    "\n",
    "print(\"Results\")\n",
    "x=run_query(queryString)"
   ]
  },
  {
   "cell_type": "markdown",
   "id": "431375de-0b87-42eb-8e46-e8203fcd6465",
   "metadata": {
    "tags": []
   },
   "source": [
    "### Get all the classes connected to \"Without a Trace\" (wd:Q826477)"
   ]
  },
  {
   "cell_type": "code",
   "execution_count": 7,
   "id": "7c678a6e-a256-4967-b67d-3eeeb0195505",
   "metadata": {},
   "outputs": [
    {
     "name": "stdout",
     "output_type": "stream",
     "text": [
      "Results\n",
      "[('objectClass', 'http://www.wikidata.org/entity/Q1489259'), ('label', 'superpower')]\n",
      "[('objectClass', 'http://www.wikidata.org/entity/Q10689397'), ('label', 'television production company')]\n",
      "[('objectClass', 'http://www.wikidata.org/entity/Q15961987'), ('label', 'television genre')]\n",
      "[('objectClass', 'http://www.wikidata.org/entity/Q99541706'), ('label', 'historical unrecognized state')]\n",
      "[('objectClass', 'http://www.wikidata.org/entity/Q15063611'), ('label', 'city in the state of New York')]\n",
      "[('objectClass', 'http://www.wikidata.org/entity/Q1093829'), ('label', 'city of the United States')]\n",
      "[('objectClass', 'http://www.wikidata.org/entity/Q1254874'), ('label', 'television network')]\n",
      "[('objectClass', 'http://www.wikidata.org/entity/Q1288568'), ('label', 'modern language')]\n",
      "[('objectClass', 'http://www.wikidata.org/entity/Q13406463'), ('label', 'Wikimedia list article')]\n",
      "[('objectClass', 'http://www.wikidata.org/entity/Q1520223'), ('label', 'constitutional republic')]\n",
      "[('objectClass', 'http://www.wikidata.org/entity/Q1549591'), ('label', 'big city')]\n",
      "[('objectClass', 'http://www.wikidata.org/entity/Q15632617'), ('label', 'fictional human')]\n",
      "[('objectClass', 'http://www.wikidata.org/entity/Q15773317'), ('label', 'television character')]\n",
      "[('objectClass', 'http://www.wikidata.org/entity/Q1637706'), ('label', 'million city')]\n",
      "[('objectClass', 'http://www.wikidata.org/entity/Q2264924'), ('label', 'port settlement')]\n",
      "[('objectClass', 'http://www.wikidata.org/entity/Q33742'), ('label', 'natural language')]\n",
      "[('objectClass', 'http://www.wikidata.org/entity/Q34770'), ('label', 'language')]\n",
      "[('objectClass', 'http://www.wikidata.org/entity/Q3624078'), ('label', 'sovereign state')]\n",
      "[('objectClass', 'http://www.wikidata.org/entity/Q5'), ('label', 'human')]\n",
      "[('objectClass', 'http://www.wikidata.org/entity/Q512187'), ('label', 'federal republic')]\n",
      "[('objectClass', 'http://www.wikidata.org/entity/Q515'), ('label', 'city')]\n",
      "[('objectClass', 'http://www.wikidata.org/entity/Q51929311'), ('label', 'largest city')]\n",
      "[('objectClass', 'http://www.wikidata.org/entity/Q5255892'), ('label', 'democratic republic')]\n",
      "[('objectClass', 'http://www.wikidata.org/entity/Q6256'), ('label', 'country')]\n",
      "[('objectClass', 'http://www.wikidata.org/entity/Q1061197'), ('label', 'radio network')]\n",
      "[('objectClass', 'http://www.wikidata.org/entity/Q1616075'), ('label', 'television station')]\n",
      "[('objectClass', 'http://www.wikidata.org/entity/Q3464665'), ('label', 'television series season')]\n",
      "[('objectClass', 'http://www.wikidata.org/entity/Q108465955'), ('label', 'fiction genre')]\n",
      "[('objectClass', 'http://www.wikidata.org/entity/Q759853'), ('label', 'film format')]\n",
      "[('objectClass', 'http://www.wikidata.org/entity/Q1441762'), ('label', 'aspect ratio')]\n",
      "[('objectClass', 'http://www.wikidata.org/entity/Q20970434'), ('label', 'width to height ratio')]\n",
      "[('objectClass', 'http://www.wikidata.org/entity/Q208511'), ('label', 'global city')]\n",
      "32\n"
     ]
    }
   ],
   "source": [
    "queryString = \"\"\"\n",
    "SELECT DISTINCT ?objectClass ?label\n",
    "WHERE {   \n",
    "   wd:Q826477 ?property ?object .\n",
    "   ?object wdt:P31 ?objectClass .\n",
    "   ?objectClass sc:name ?label .\n",
    "   FILTER(!isLiteral(?object)) .   \n",
    "}\n",
    "\"\"\"\n",
    "print(\"Results\")\n",
    "x=run_query(queryString)"
   ]
  },
  {
   "cell_type": "markdown",
   "id": "cf154bef-5d32-4ad7-ae2d-8971cad2a24a",
   "metadata": {
    "tags": []
   },
   "source": [
    "### Get all the couples (object property - list of the classes of the objects that are connected to \"Without a Trace\" (wd:Q826477) through that object property)"
   ]
  },
  {
   "cell_type": "code",
   "execution_count": 8,
   "id": "24852fe2-ca96-4b07-bbae-c83218b298f2",
   "metadata": {},
   "outputs": [
    {
     "name": "stdout",
     "output_type": "stream",
     "text": [
      "Results\n",
      "[('property', 'http://www.wikidata.org/prop/direct/P2061'), ('labelProperty', 'aspect ratio'), ('objectsClasses', 'http://www.wikidata.org/entity/Q759853,http://www.wikidata.org/entity/Q1441762,http://www.wikidata.org/entity/Q20970434'), ('labelsObjectsClasses', 'film format,aspect ratio,width to height ratio')]\n",
      "[('property', 'http://www.wikidata.org/prop/direct/P170'), ('labelProperty', 'creator'), ('objectsClasses', 'http://www.wikidata.org/entity/Q5'), ('labelsObjectsClasses', 'human')]\n",
      "[('property', 'http://www.wikidata.org/prop/direct/P527'), ('labelProperty', 'has part'), ('objectsClasses', 'http://www.wikidata.org/entity/Q3464665,http://www.wikidata.org/entity/Q3464665,http://www.wikidata.org/entity/Q3464665,http://www.wikidata.org/entity/Q3464665,http://www.wikidata.org/entity/Q3464665,http://www.wikidata.org/entity/Q3464665,http://www.wikidata.org/entity/Q3464665'), ('labelsObjectsClasses', 'television series season,television series season,television series season,television series season,television series season,television series season,television series season')]\n",
      "[('property', 'http://www.wikidata.org/prop/direct/P449'), ('labelProperty', 'original broadcaster'), ('objectsClasses', 'http://www.wikidata.org/entity/Q1254874,http://www.wikidata.org/entity/Q1061197,http://www.wikidata.org/entity/Q1616075'), ('labelsObjectsClasses', 'television network,radio network,television station')]\n",
      "[('property', 'http://www.wikidata.org/prop/direct/P750'), ('labelProperty', 'distributed by'), ('objectsClasses', 'http://www.wikidata.org/entity/Q10689397'), ('labelsObjectsClasses', 'television production company')]\n",
      "[('property', 'http://www.wikidata.org/prop/direct/P364'), ('labelProperty', 'original language of film or TV show'), ('objectsClasses', 'http://www.wikidata.org/entity/Q1288568,http://www.wikidata.org/entity/Q33742,http://www.wikidata.org/entity/Q34770'), ('labelsObjectsClasses', 'modern language,natural language,language')]\n",
      "[('property', 'http://www.wikidata.org/prop/direct/P136'), ('labelProperty', 'genre'), ('objectsClasses', 'http://www.wikidata.org/entity/Q15961987,http://www.wikidata.org/entity/Q108465955'), ('labelsObjectsClasses', 'television genre,fiction genre')]\n",
      "[('property', 'http://www.wikidata.org/prop/direct/P1811'), ('labelProperty', 'list of episodes'), ('objectsClasses', 'http://www.wikidata.org/entity/Q13406463'), ('labelsObjectsClasses', 'Wikimedia list article')]\n",
      "[('property', 'http://www.wikidata.org/prop/direct/P161'), ('labelProperty', 'cast member'), ('objectsClasses', 'http://www.wikidata.org/entity/Q5,http://www.wikidata.org/entity/Q5'), ('labelsObjectsClasses', 'human,human')]\n",
      "[('property', 'http://www.wikidata.org/prop/direct/P840'), ('labelProperty', 'narrative location'), ('objectsClasses', 'http://www.wikidata.org/entity/Q15063611,http://www.wikidata.org/entity/Q1093829,http://www.wikidata.org/entity/Q1549591,http://www.wikidata.org/entity/Q1637706,http://www.wikidata.org/entity/Q2264924,http://www.wikidata.org/entity/Q515,http://www.wikidata.org/entity/Q51929311,http://www.wikidata.org/entity/Q208511'), ('labelsObjectsClasses', 'city in the state of New York,city of the United States,big city,million city,port settlement,city,largest city,global city')]\n",
      "[('property', 'http://www.wikidata.org/prop/direct/P674'), ('labelProperty', 'characters'), ('objectsClasses', 'http://www.wikidata.org/entity/Q15632617,http://www.wikidata.org/entity/Q15773317'), ('labelsObjectsClasses', 'fictional human,television character')]\n",
      "[('property', 'http://www.wikidata.org/prop/direct/P495'), ('labelProperty', 'country of origin'), ('objectsClasses', 'http://www.wikidata.org/entity/Q1489259,http://www.wikidata.org/entity/Q99541706,http://www.wikidata.org/entity/Q1520223,http://www.wikidata.org/entity/Q3624078,http://www.wikidata.org/entity/Q512187,http://www.wikidata.org/entity/Q5255892,http://www.wikidata.org/entity/Q6256'), ('labelsObjectsClasses', 'superpower,historical unrecognized state,constitutional republic,sovereign state,federal republic,democratic republic,country')]\n",
      "12\n"
     ]
    }
   ],
   "source": [
    "queryString = \"\"\"\n",
    "SELECT DISTINCT ?property ?labelProperty (GROUP_CONCAT(?objectClass ; separator = \",\")  AS ?objectsClasses) (GROUP_CONCAT(?labelObjectClass ; separator = \",\")  AS ?labelsObjectsClasses)\n",
    "WHERE \n",
    "{   \n",
    "   wd:Q826477 ?property ?object .  \n",
    "   ?object wdt:P31 ?objectClass .\n",
    "   \n",
    "   # Labels\n",
    "   ?property sc:name ?labelProperty .      \n",
    "   ?objectClass sc:name ?labelObjectClass .\n",
    "   \n",
    "   FILTER(!isLiteral(?object)) .   \n",
    "}GROUP BY ?property ?labelProperty\n",
    "LIMIT 50\n",
    "\"\"\"\n",
    "print(\"Results\")\n",
    "x=run_query(queryString)"
   ]
  },
  {
   "cell_type": "markdown",
   "id": "15355f74-dcd5-4943-b5df-5dcf6c9a7667",
   "metadata": {
    "tags": []
   },
   "source": [
    "### Get all the couples (object property - list of the  objects that are connected to \"Without a Trace\" (wd:Q826477) through that object property)"
   ]
  },
  {
   "cell_type": "code",
   "execution_count": 9,
   "id": "8d0c51e0-494b-494f-8996-e3f294f6ff2f",
   "metadata": {},
   "outputs": [
    {
     "name": "stdout",
     "output_type": "stream",
     "text": [
      "Results\n",
      "[('property', 'http://www.wikidata.org/prop/direct/P2061'), ('labelProperty', 'aspect ratio'), ('objects', 'http://www.wikidata.org/entity/Q1383069'), ('labelsObjects', '16:9 aspect ratio')]\n",
      "[('property', 'http://www.wikidata.org/prop/direct/P170'), ('labelProperty', 'creator'), ('objects', 'http://www.wikidata.org/entity/Q3126805'), ('labelsObjects', 'Hank Steinberg')]\n",
      "[('property', 'http://www.wikidata.org/prop/direct/P527'), ('labelProperty', 'has part'), ('objects', 'http://www.wikidata.org/entity/Q1120248,http://www.wikidata.org/entity/Q3729810,http://www.wikidata.org/entity/Q3729811,http://www.wikidata.org/entity/Q3729812,http://www.wikidata.org/entity/Q3729815,http://www.wikidata.org/entity/Q3729816,http://www.wikidata.org/entity/Q3729817'), ('labelsObjects', 'Without a Trace, season 1,Without a Trace, season 4,Without a Trace, season 5,Without a Trace, season 2,Without a Trace, season 6,Without a Trace, season 7,Without a Trace, season 3')]\n",
      "[('property', 'http://www.wikidata.org/prop/direct/P449'), ('labelProperty', 'original broadcaster'), ('objects', 'http://www.wikidata.org/entity/Q43380'), ('labelsObjects', 'CBS')]\n",
      "[('property', 'http://www.wikidata.org/prop/direct/P750'), ('labelProperty', 'distributed by'), ('objects', 'http://www.wikidata.org/entity/Q1156642'), ('labelsObjects', 'Warner Bros. Television Studios')]\n",
      "[('property', 'http://www.wikidata.org/prop/direct/P364'), ('labelProperty', 'original language of film or TV show'), ('objects', 'http://www.wikidata.org/entity/Q1860'), ('labelsObjects', 'English')]\n",
      "[('property', 'http://www.wikidata.org/prop/direct/P136'), ('labelProperty', 'genre'), ('objects', 'http://www.wikidata.org/entity/Q2321734,http://www.wikidata.org/entity/Q9335577'), ('labelsObjects', 'police procedural,crime serial')]\n",
      "[('property', 'http://www.wikidata.org/prop/direct/P1811'), ('labelProperty', 'list of episodes'), ('objects', 'http://www.wikidata.org/entity/Q282789'), ('labelsObjects', 'list of Without a Trace episodes')]\n",
      "[('property', 'http://www.wikidata.org/prop/direct/P161'), ('labelProperty', 'cast member'), ('objects', 'http://www.wikidata.org/entity/Q308124,http://www.wikidata.org/entity/Q235075'), ('labelsObjects', 'Anthony LaPaglia,Poppy Montgomery')]\n",
      "[('property', 'http://www.wikidata.org/prop/direct/P31'), ('labelProperty', 'instance of'), ('objects', 'http://www.wikidata.org/entity/Q5398426'), ('labelsObjects', 'television series')]\n",
      "[('property', 'http://www.wikidata.org/prop/direct/P840'), ('labelProperty', 'narrative location'), ('objects', 'http://www.wikidata.org/entity/Q60'), ('labelsObjects', 'New York City')]\n",
      "[('property', 'http://www.wikidata.org/prop/direct/P674'), ('labelProperty', 'characters'), ('objects', 'http://www.wikidata.org/entity/Q7408735,http://www.wikidata.org/entity/Q6113841'), ('labelsObjects', 'Samantha Spade,Jack Malone')]\n",
      "[('property', 'http://www.wikidata.org/prop/direct/P495'), ('labelProperty', 'country of origin'), ('objects', 'http://www.wikidata.org/entity/Q30'), ('labelsObjects', 'United States of America')]\n",
      "13\n"
     ]
    }
   ],
   "source": [
    "queryString = \"\"\"\n",
    "SELECT DISTINCT ?property ?labelProperty (GROUP_CONCAT(?object ; separator = \",\")  AS ?objects) (GROUP_CONCAT(?labelObject; separator = \",\")  AS ?labelsObjects)\n",
    "WHERE \n",
    "{   \n",
    "   wd:Q826477 ?property ?object .  \n",
    " \n",
    "   # Labels\n",
    "   ?property sc:name ?labelProperty .      \n",
    "   ?object sc:name ?labelObject\n",
    "   \n",
    "   FILTER(!isLiteral(?object)) .   \n",
    "}GROUP BY ?property ?labelProperty\n",
    "LIMIT 50\n",
    "\"\"\"\n",
    "print(\"Results\")\n",
    "x=run_query(queryString)"
   ]
  },
  {
   "cell_type": "markdown",
   "id": "3ca6118c-55fb-4002-ac52-62d1eea91e56",
   "metadata": {
    "tags": []
   },
   "source": [
    "### Final Query"
   ]
  },
  {
   "cell_type": "markdown",
   "id": "582c4cf7",
   "metadata": {},
   "source": [
    "Final query for this task"
   ]
  },
  {
   "cell_type": "code",
   "execution_count": 19,
   "id": "a6b8fbe7",
   "metadata": {},
   "outputs": [
    {
     "name": "stdout",
     "output_type": "stream",
     "text": [
      "Results\n",
      "[('class', 'http://www.wikidata.org/entity/Q5398426'), ('label', 'television series')]\n",
      "1\n"
     ]
    }
   ],
   "source": [
    "queryString = \"\"\"\n",
    "SELECT DISTINCT ?class ?label\n",
    "WHERE {   \n",
    "   wd:Q826477 wdt:P31 ?class .\n",
    "   ?class sc:name ?label .     \n",
    "}\n",
    "\"\"\"\n",
    "print(\"Results\")\n",
    "x=run_query(queryString)"
   ]
  },
  {
   "cell_type": "markdown",
   "id": "d9f4d133",
   "metadata": {
    "tags": []
   },
   "source": [
    "## Task 2\n",
    "Return the number of seasons and episodes per season of the tv series (the result set must be triples of season IRI, label and #episodes)."
   ]
  },
  {
   "cell_type": "markdown",
   "id": "a1a6acbe-7af7-4c9b-8b97-86b05da55823",
   "metadata": {
    "tags": []
   },
   "source": [
    "### Get all data property of \"Without a Trace, season 1\" (wd:Q1120248) "
   ]
  },
  {
   "cell_type": "code",
   "execution_count": 5,
   "id": "9c0b62c5-6076-4330-8798-f37b6152a98d",
   "metadata": {},
   "outputs": [
    {
     "name": "stdout",
     "output_type": "stream",
     "text": [
      "Results\n",
      "[('property', 'http://www.wikidata.org/prop/direct/P1113'), ('label', 'number of episodes')]\n",
      "[('property', 'http://www.wikidata.org/prop/direct/P1258'), ('label', 'Rotten Tomatoes ID')]\n",
      "[('property', 'http://www.wikidata.org/prop/direct/P1712'), ('label', 'Metacritic ID')]\n",
      "[('property', 'http://www.wikidata.org/prop/direct/P2529'), ('label', 'ČSFD film ID')]\n",
      "[('property', 'http://www.wikidata.org/prop/direct/P2581'), ('label', 'BabelNet ID')]\n",
      "[('property', 'http://www.wikidata.org/prop/direct/P2638'), ('label', 'TV.com ID')]\n",
      "[('property', 'http://www.wikidata.org/prop/direct/P2704'), ('label', 'EIDR content ID')]\n",
      "[('property', 'http://www.wikidata.org/prop/direct/P3302'), ('label', 'Open Media Database film ID')]\n",
      "[('property', 'http://www.wikidata.org/prop/direct/P646'), ('label', 'Freebase ID')]\n",
      "[('property', 'http://www.wikidata.org/prop/direct/P6381'), ('label', 'iTunes TV season ID')]\n",
      "10\n"
     ]
    }
   ],
   "source": [
    "queryString = \"\"\"\n",
    "SELECT DISTINCT ?property ?label\n",
    "WHERE {   \n",
    "   wd:Q1120248 ?property ?object .\n",
    "   ?property sc:name ?label .\n",
    "   FILTER(isLiteral(?object)) .   \n",
    "}\n",
    "\"\"\"\n",
    "print(\"Results\")\n",
    "x=run_query(queryString)"
   ]
  },
  {
   "cell_type": "markdown",
   "id": "c07ca1fc-850d-48f1-9327-d24fb6309099",
   "metadata": {
    "tags": []
   },
   "source": [
    "### Get all data property of \"Without a Trace, season 1\"  (wd:Q1120248) that do not contain ID"
   ]
  },
  {
   "cell_type": "code",
   "execution_count": 6,
   "id": "5a65ae14-a51e-4c6b-b798-947c68a1b7f6",
   "metadata": {},
   "outputs": [
    {
     "name": "stdout",
     "output_type": "stream",
     "text": [
      "Results\n",
      "[('property', 'http://www.wikidata.org/prop/direct/P1113'), ('label', 'number of episodes')]\n",
      "1\n"
     ]
    }
   ],
   "source": [
    "queryString = \"\"\"\n",
    "SELECT DISTINCT ?property ?label\n",
    "WHERE {   \n",
    "   wd:Q1120248 ?property ?object .\n",
    "   ?property sc:name ?label .\n",
    "   FILTER(isLiteral(?object)) .\n",
    "   FILTER REGEX(?label, \"^((?!ID).)*$\") . \n",
    "}\n",
    "\"\"\"\n",
    "print(\"Results\")\n",
    "x=run_query(queryString)"
   ]
  },
  {
   "cell_type": "markdown",
   "id": "cd5d31f4-2309-4dd5-8d69-9474326b3e0e",
   "metadata": {
    "tags": []
   },
   "source": [
    "### Get the class of \"Without a Trace, season 1\" (wd:Q1120248)"
   ]
  },
  {
   "cell_type": "code",
   "execution_count": 7,
   "id": "1e51a701-8e29-456e-8ed6-17e4fd701f62",
   "metadata": {},
   "outputs": [
    {
     "name": "stdout",
     "output_type": "stream",
     "text": [
      "Results\n",
      "[('class', 'http://www.wikidata.org/entity/Q3464665'), ('label', 'television series season')]\n",
      "1\n"
     ]
    }
   ],
   "source": [
    "queryString = \"\"\"\n",
    "SELECT DISTINCT ?class ?label\n",
    "WHERE {   \n",
    "   wd:Q1120248 wdt:P31 ?class .\n",
    "   ?class sc:name ?label .     \n",
    "}\n",
    "\"\"\"\n",
    "print(\"Results\")\n",
    "x=run_query(queryString)"
   ]
  },
  {
   "cell_type": "markdown",
   "id": "8136d9a3-36a2-4894-a708-5ab494aa11a6",
   "metadata": {
    "tags": []
   },
   "source": [
    "### Get all object properties of \"Without a Trace, season 1\"  (wd:Q1120248)"
   ]
  },
  {
   "cell_type": "code",
   "execution_count": 8,
   "id": "9fcaf411-71c3-424b-b369-9bbf6b0473aa",
   "metadata": {},
   "outputs": [
    {
     "name": "stdout",
     "output_type": "stream",
     "text": [
      "Results\n",
      "[('property', 'http://www.wikidata.org/prop/direct/P179'), ('label', 'part of the series')]\n",
      "[('property', 'http://www.wikidata.org/prop/direct/P31'), ('label', 'instance of')]\n",
      "[('property', 'http://www.wikidata.org/prop/direct/P364'), ('label', 'original language of film or TV show')]\n",
      "[('property', 'http://www.wikidata.org/prop/direct/P437'), ('label', 'distribution format')]\n",
      "[('property', 'http://www.wikidata.org/prop/direct/P527'), ('label', 'has part')]\n",
      "5\n"
     ]
    }
   ],
   "source": [
    "queryString = \"\"\"\n",
    "SELECT DISTINCT ?property ?label\n",
    "WHERE {   \n",
    "   wd:Q1120248 ?property ?object .\n",
    "   ?property sc:name ?label .\n",
    "   FILTER(!isLiteral(?object)) .   \n",
    "}\n",
    "\"\"\"\n",
    "\n",
    "print(\"Results\")\n",
    "x=run_query(queryString)"
   ]
  },
  {
   "cell_type": "markdown",
   "id": "e0a78dca-812c-4108-8cfe-1ced268da7e5",
   "metadata": {
    "tags": []
   },
   "source": [
    "### Get all the classes connected to \"Without a Trace, season 1\"  (wd:Q1120248)"
   ]
  },
  {
   "cell_type": "code",
   "execution_count": 9,
   "id": "ec57dbad-29d9-4d1d-a968-823051d04a31",
   "metadata": {},
   "outputs": [
    {
     "name": "stdout",
     "output_type": "stream",
     "text": [
      "Results\n",
      "[('objectClass', 'http://www.wikidata.org/entity/Q1668024'), ('label', 'service on internet')]\n",
      "[('objectClass', 'http://www.wikidata.org/entity/Q1288568'), ('label', 'modern language')]\n",
      "[('objectClass', 'http://www.wikidata.org/entity/Q21191270'), ('label', 'television series episode')]\n",
      "[('objectClass', 'http://www.wikidata.org/entity/Q33742'), ('label', 'natural language')]\n",
      "[('objectClass', 'http://www.wikidata.org/entity/Q34770'), ('label', 'language')]\n",
      "[('objectClass', 'http://www.wikidata.org/entity/Q5398426'), ('label', 'television series')]\n",
      "[('objectClass', 'http://www.wikidata.org/entity/Q81941037'), ('label', 'product distribution method')]\n",
      "7\n"
     ]
    }
   ],
   "source": [
    "queryString = \"\"\"\n",
    "SELECT DISTINCT ?objectClass ?label\n",
    "WHERE {   \n",
    "   wd:Q1120248 ?property ?object .\n",
    "   ?object wdt:P31 ?objectClass .\n",
    "   ?objectClass sc:name ?label .\n",
    "   FILTER(!isLiteral(?object)) .   \n",
    "}\n",
    "\"\"\"\n",
    "print(\"Results\")\n",
    "x=run_query(queryString)"
   ]
  },
  {
   "cell_type": "markdown",
   "id": "327ea6be-5bc4-4c5a-afe2-5d8f7ff3e12e",
   "metadata": {
    "tags": []
   },
   "source": [
    "### Get all the couples (object property - list of the classes of the objects that are connected to \"Without a Trace, season 1\"  (wd:Q1120248) through that object property)"
   ]
  },
  {
   "cell_type": "code",
   "execution_count": 10,
   "id": "58e97466-386f-4d17-b6ad-1ec1d2ad7441",
   "metadata": {},
   "outputs": [
    {
     "name": "stdout",
     "output_type": "stream",
     "text": [
      "Results\n",
      "[('property', 'http://www.wikidata.org/prop/direct/P527'), ('labelProperty', 'has part'), ('objectsClasses', 'http://www.wikidata.org/entity/Q21191270,http://www.wikidata.org/entity/Q21191270,http://www.wikidata.org/entity/Q21191270,http://www.wikidata.org/entity/Q21191270,http://www.wikidata.org/entity/Q21191270,http://www.wikidata.org/entity/Q21191270,http://www.wikidata.org/entity/Q21191270,http://www.wikidata.org/entity/Q21191270,http://www.wikidata.org/entity/Q21191270,http://www.wikidata.org/entity/Q21191270,http://www.wikidata.org/entity/Q21191270,http://www.wikidata.org/entity/Q21191270,http://www.wikidata.org/entity/Q21191270,http://www.wikidata.org/entity/Q21191270,http://www.wikidata.org/entity/Q21191270,http://www.wikidata.org/entity/Q21191270,http://www.wikidata.org/entity/Q21191270,http://www.wikidata.org/entity/Q21191270,http://www.wikidata.org/entity/Q21191270,http://www.wikidata.org/entity/Q21191270,http://www.wikidata.org/entity/Q21191270,http://www.wikidata.org/entity/Q21191270,http://www.wikidata.org/entity/Q21191270'), ('labelsObjectsClasses', 'television series episode,television series episode,television series episode,television series episode,television series episode,television series episode,television series episode,television series episode,television series episode,television series episode,television series episode,television series episode,television series episode,television series episode,television series episode,television series episode,television series episode,television series episode,television series episode,television series episode,television series episode,television series episode,television series episode')]\n",
      "[('property', 'http://www.wikidata.org/prop/direct/P364'), ('labelProperty', 'original language of film or TV show'), ('objectsClasses', 'http://www.wikidata.org/entity/Q1288568,http://www.wikidata.org/entity/Q33742,http://www.wikidata.org/entity/Q34770'), ('labelsObjectsClasses', 'modern language,natural language,language')]\n",
      "[('property', 'http://www.wikidata.org/prop/direct/P437'), ('labelProperty', 'distribution format'), ('objectsClasses', 'http://www.wikidata.org/entity/Q1668024,http://www.wikidata.org/entity/Q81941037'), ('labelsObjectsClasses', 'service on internet,product distribution method')]\n",
      "[('property', 'http://www.wikidata.org/prop/direct/P179'), ('labelProperty', 'part of the series'), ('objectsClasses', 'http://www.wikidata.org/entity/Q5398426'), ('labelsObjectsClasses', 'television series')]\n",
      "4\n"
     ]
    }
   ],
   "source": [
    "queryString = \"\"\"\n",
    "SELECT DISTINCT ?property ?labelProperty (GROUP_CONCAT(?objectClass ; separator = \",\")  AS ?objectsClasses) (GROUP_CONCAT(?labelObjectClass ; separator = \",\")  AS ?labelsObjectsClasses)\n",
    "WHERE \n",
    "{   \n",
    "   wd:Q1120248 ?property ?object .  \n",
    "   ?object wdt:P31 ?objectClass .\n",
    "   \n",
    "   # Labels\n",
    "   ?property sc:name ?labelProperty .      \n",
    "   ?objectClass sc:name ?labelObjectClass .\n",
    "   \n",
    "   FILTER(!isLiteral(?object)) .   \n",
    "}GROUP BY ?property ?labelProperty\n",
    "LIMIT 50\n",
    "\"\"\"\n",
    "print(\"Results\")\n",
    "x=run_query(queryString)"
   ]
  },
  {
   "cell_type": "markdown",
   "id": "7f1fabd6-630a-43e4-84cd-8d8143a34efd",
   "metadata": {
    "tags": []
   },
   "source": [
    "### Get all the couples (object property - list of the  objects that are connected to \"Without a Trace, season 1\"  (wd:Q1120248) through that object property)"
   ]
  },
  {
   "cell_type": "code",
   "execution_count": 11,
   "id": "2f9dc8ac-fd8d-4cf9-8900-a530bbf8edda",
   "metadata": {},
   "outputs": [
    {
     "name": "stdout",
     "output_type": "stream",
     "text": [
      "Results\n",
      "[('property', 'http://www.wikidata.org/prop/direct/P527'), ('labelProperty', 'has part'), ('objects', 'http://www.wikidata.org/entity/Q52667904,http://www.wikidata.org/entity/Q52667908,http://www.wikidata.org/entity/Q52667910,http://www.wikidata.org/entity/Q39069555,http://www.wikidata.org/entity/Q52667878,http://www.wikidata.org/entity/Q52667894,http://www.wikidata.org/entity/Q52667898,http://www.wikidata.org/entity/Q52667900,http://www.wikidata.org/entity/Q52667911,http://www.wikidata.org/entity/Q52667916,http://www.wikidata.org/entity/Q52667920,http://www.wikidata.org/entity/Q52667923,http://www.wikidata.org/entity/Q52667926,http://www.wikidata.org/entity/Q52667929,http://www.wikidata.org/entity/Q52667889,http://www.wikidata.org/entity/Q52667891,http://www.wikidata.org/entity/Q52667902,http://www.wikidata.org/entity/Q52667934,http://www.wikidata.org/entity/Q52667939,http://www.wikidata.org/entity/Q52667942,http://www.wikidata.org/entity/Q52667881,http://www.wikidata.org/entity/Q52667886,http://www.wikidata.org/entity/Q52667932'), ('labelsObjects', 'Maple Street,Underground Railroad,Hang On to Me,Pilot,Birthday Boy,Snatch Back,Little Big Man,In Extremis,The Friendly Skies,There Goes the Bride,Clare de Lune,Kam Li,The Source,Victory for Humanity,Suspect,Silent Partner,Midnight Sun,Are You Now Or Have You Ever Been?,Fall Out: Part I,Fall Out: Part II,He Saw, She Saw,Between the Cracks,No Mas')]\n",
      "[('property', 'http://www.wikidata.org/prop/direct/P364'), ('labelProperty', 'original language of film or TV show'), ('objects', 'http://www.wikidata.org/entity/Q1860'), ('labelsObjects', 'English')]\n",
      "[('property', 'http://www.wikidata.org/prop/direct/P31'), ('labelProperty', 'instance of'), ('objects', 'http://www.wikidata.org/entity/Q3464665'), ('labelsObjects', 'television series season')]\n",
      "[('property', 'http://www.wikidata.org/prop/direct/P437'), ('labelProperty', 'distribution format'), ('objects', 'http://www.wikidata.org/entity/Q723685,http://www.wikidata.org/entity/Q54820071'), ('labelsObjects', 'video on demand,digital download')]\n",
      "[('property', 'http://www.wikidata.org/prop/direct/P179'), ('labelProperty', 'part of the series'), ('objects', 'http://www.wikidata.org/entity/Q826477'), ('labelsObjects', 'Without a Trace')]\n",
      "5\n"
     ]
    }
   ],
   "source": [
    "queryString = \"\"\"\n",
    "SELECT DISTINCT ?property ?labelProperty (GROUP_CONCAT(?object ; separator = \",\")  AS ?objects) (GROUP_CONCAT(?labelObject; separator = \",\")  AS ?labelsObjects)\n",
    "WHERE \n",
    "{   \n",
    "   wd:Q1120248 ?property ?object .  \n",
    " \n",
    "   # Labels\n",
    "   ?property sc:name ?labelProperty .      \n",
    "   ?object sc:name ?labelObject\n",
    "   \n",
    "   FILTER(!isLiteral(?object)) .   \n",
    "}GROUP BY ?property ?labelProperty\n",
    "LIMIT 50\n",
    "\"\"\"\n",
    "print(\"Results\")\n",
    "x=run_query(queryString)"
   ]
  },
  {
   "cell_type": "markdown",
   "id": "28107ec2-ab81-40a5-9cfe-a5d72b143b8a",
   "metadata": {
    "tags": []
   },
   "source": [
    "### Get the value of the data propriety \"number of episodes\" (wdt:P1113) of \"Without a Trace, season 1\" (wd:Q1120248)"
   ]
  },
  {
   "cell_type": "code",
   "execution_count": 2,
   "id": "bb446004-0ef3-4c3e-bae0-92c95f3c0fad",
   "metadata": {},
   "outputs": [
    {
     "name": "stdout",
     "output_type": "stream",
     "text": [
      "Results\n",
      "[('numberOfEpisodes', '23')]\n",
      "1\n"
     ]
    }
   ],
   "source": [
    "queryString = \"\"\"\n",
    "SELECT DISTINCT ?numberOfEpisodes\n",
    "WHERE {\n",
    "   wd:Q1120248 wdt:P1113 ?numberOfEpisodes .\n",
    "   wd:Q1120248 sc:name ?name .\n",
    "}\n",
    "LIMIT 50\n",
    "\"\"\"\n",
    "print(\"Results\")\n",
    "x=run_query(queryString)"
   ]
  },
  {
   "cell_type": "markdown",
   "id": "b3ef7a0d-d220-4b40-98c1-cc287f05b51d",
   "metadata": {},
   "source": [
    "Final query for this task"
   ]
  },
  {
   "cell_type": "markdown",
   "id": "16cb2115-8f48-4347-907d-b7ad17427958",
   "metadata": {
    "tags": []
   },
   "source": [
    "### Final (are 2 queries) \n",
    "This task in my opinion can be interpreted in 2 different ways :\n",
    "- \"television series\" mentioned in the title of the task can be interpreted generally.\n",
    "- \"television series\" is just \"Without a Trace\" (wd:Q826477)"
   ]
  },
  {
   "cell_type": "markdown",
   "id": "b56cc11d-8b19-4575-8b09-b254c4717c1e",
   "metadata": {},
   "source": [
    "#### First Interpretation"
   ]
  },
  {
   "cell_type": "code",
   "execution_count": 12,
   "id": "b3d20fc1-d88a-47e4-be6a-2b1f8fdf1f31",
   "metadata": {},
   "outputs": [
    {
     "name": "stdout",
     "output_type": "stream",
     "text": [
      "Results\n",
      "[('tvSerie', 'http://www.wikidata.org/entity/Q33323'), ('labelTvSerie', 'Everybody Hates Chris'), ('numberOfSeasons', '4')]\n",
      "[('tvSerie', 'http://www.wikidata.org/entity/Q500769'), ('labelTvSerie', 'Freaks and Geeks'), ('numberOfSeasons', '1')]\n",
      "[('tvSerie', 'http://www.wikidata.org/entity/Q1145054'), ('labelTvSerie', 'The NBC Mystery Movie'), ('numberOfSeasons', '6')]\n",
      "[('tvSerie', 'http://www.wikidata.org/entity/Q344081'), ('labelTvSerie', 'Recess'), ('numberOfSeasons', '3')]\n",
      "[('tvSerie', 'http://www.wikidata.org/entity/Q708661'), ('labelTvSerie', 'Lindenstraße'), ('numberOfSeasons', '1')]\n",
      "[('tvSerie', 'http://www.wikidata.org/entity/Q15099450'), ('labelTvSerie', 'Prime Minister and I'), ('numberOfSeasons', '1')]\n",
      "[('tvSerie', 'http://www.wikidata.org/entity/Q548335'), ('labelTvSerie', 'Angelina Ballerina'), ('numberOfSeasons', '2')]\n",
      "[('tvSerie', 'http://www.wikidata.org/entity/Q15594658'), ('labelTvSerie', 'Cutthroat Kitchen'), ('numberOfSeasons', '10')]\n",
      "[('tvSerie', 'http://www.wikidata.org/entity/Q15731300'), ('labelTvSerie', 'Power Rangers Dino Charge'), ('numberOfSeasons', '2')]\n",
      "[('tvSerie', 'http://www.wikidata.org/entity/Q15737024'), ('labelTvSerie', '37 Days'), ('numberOfSeasons', '1')]\n",
      "[('tvSerie', 'http://www.wikidata.org/entity/Q15933384'), ('labelTvSerie', 'Special Affairs Team TEN'), ('numberOfSeasons', '2')]\n",
      "[('tvSerie', 'http://www.wikidata.org/entity/Q27889400'), ('labelTvSerie', 'Power Rangers Ninja Steel'), ('numberOfSeasons', '2')]\n",
      "[('tvSerie', 'http://www.wikidata.org/entity/Q15895100'), ('labelTvSerie', 'Beauty School Cop Outs'), ('numberOfSeasons', '1')]\n",
      "[('tvSerie', 'http://www.wikidata.org/entity/Q15907212'), ('labelTvSerie', 'Kim & Co'), ('numberOfSeasons', '2')]\n",
      "[('tvSerie', 'http://www.wikidata.org/entity/Q42301904'), ('labelTvSerie', 'Hard Sun'), ('numberOfSeasons', '1')]\n",
      "[('tvSerie', 'http://www.wikidata.org/entity/Q533179'), ('labelTvSerie', 'Schloss Einstein'), ('numberOfSeasons', '23')]\n",
      "[('tvSerie', 'http://www.wikidata.org/entity/Q703888'), ('labelTvSerie', 'Arrêt sur images'), ('numberOfSeasons', '12')]\n",
      "[('tvSerie', 'http://www.wikidata.org/entity/Q16020581'), ('labelTvSerie', 'Señales del fin del mundo'), ('numberOfSeasons', '1')]\n",
      "[('tvSerie', 'http://www.wikidata.org/entity/Q16056029'), ('labelTvSerie', 'My Sri Lanka with Peter Kuruvita'), ('numberOfSeasons', '1')]\n",
      "[('tvSerie', 'http://www.wikidata.org/entity/Q2517403'), ('labelTvSerie', 'The Facts of Life'), ('numberOfSeasons', '9')]\n",
      "[('tvSerie', 'http://www.wikidata.org/entity/Q2708868'), ('labelTvSerie', 'Spiral'), ('numberOfSeasons', '8')]\n",
      "[('tvSerie', 'http://www.wikidata.org/entity/Q5645693'), ('labelTvSerie', 'X Factor'), ('numberOfSeasons', '4')]\n",
      "[('tvSerie', 'http://www.wikidata.org/entity/Q888841'), ('labelTvSerie', 'Hannibal'), ('numberOfSeasons', '3')]\n",
      "[('tvSerie', 'http://www.wikidata.org/entity/Q13362337'), ('labelTvSerie', \"A Young Doctor's Notebook\"), ('numberOfSeasons', '2')]\n",
      "[('tvSerie', 'http://www.wikidata.org/entity/Q17003604'), ('labelTvSerie', \"The Elegant Gentleman's Guide to Knife Fighting\"), ('numberOfSeasons', '1')]\n",
      "25\n"
     ]
    }
   ],
   "source": [
    "queryString = \"\"\"\n",
    "SELECT DISTINCT ?tvSerie ?labelTvSerie ?numberOfSeasons\n",
    "WHERE {   \n",
    "   ?tvSerie wdt:P31 wd:Q5398426 ;\n",
    "            wdt:P2437 ?numberOfSeasons ;\n",
    "            sc:name ?labelTvSerie .              \n",
    "}LIMIT 25\n",
    "\"\"\" \n",
    "print(\"Results\")\n",
    "x=run_query(queryString)"
   ]
  },
  {
   "cell_type": "code",
   "execution_count": 13,
   "id": "003e3a20-a779-4e2b-8e3c-41f332b23794",
   "metadata": {},
   "outputs": [
    {
     "name": "stdout",
     "output_type": "stream",
     "text": [
      "Results\n",
      "[('seson', 'http://www.wikidata.org/entity/Q1114794'), ('labelSeason', \"Grey's Anatomy, season 1\"), ('numberOfEpisodes', '9')]\n",
      "[('seson', 'http://www.wikidata.org/entity/Q300666'), ('labelSeason', 'Aaahh!!! Real Monsters'), ('numberOfEpisodes', '52')]\n",
      "[('seson', 'http://www.wikidata.org/entity/Q716172'), ('labelSeason', 'Mobile Fighter G Gundam'), ('numberOfEpisodes', '49')]\n",
      "[('seson', 'http://www.wikidata.org/entity/Q1890400'), ('labelSeason', \"Terry Pratchett's The Colour of Magic\"), ('numberOfEpisodes', '2')]\n",
      "[('seson', 'http://www.wikidata.org/entity/Q33323'), ('labelSeason', 'Everybody Hates Chris'), ('numberOfEpisodes', '88')]\n",
      "[('seson', 'http://www.wikidata.org/entity/Q500769'), ('labelSeason', 'Freaks and Geeks'), ('numberOfEpisodes', '18')]\n",
      "[('seson', 'http://www.wikidata.org/entity/Q8350955'), ('labelSeason', 'Cordel Encantado'), ('numberOfEpisodes', '143')]\n",
      "[('seson', 'http://www.wikidata.org/entity/Q930562'), ('labelSeason', 'Dirty Pair'), ('numberOfEpisodes', '26')]\n",
      "[('seson', 'http://www.wikidata.org/entity/Q2414772'), ('labelSeason', 'ReBoot'), ('numberOfEpisodes', '47')]\n",
      "[('seson', 'http://www.wikidata.org/entity/Q344081'), ('labelSeason', 'Recess'), ('numberOfEpisodes', '129')]\n",
      "[('seson', 'http://www.wikidata.org/entity/Q3061434'), ('labelSeason', 'Law & Order: Special Victims Unit, season 4'), ('numberOfEpisodes', '25')]\n",
      "[('seson', 'http://www.wikidata.org/entity/Q708661'), ('labelSeason', 'Lindenstraße'), ('numberOfEpisodes', '1758')]\n",
      "[('seson', 'http://www.wikidata.org/entity/Q15099450'), ('labelSeason', 'Prime Minister and I'), ('numberOfEpisodes', '17')]\n",
      "[('seson', 'http://www.wikidata.org/entity/Q15476155'), ('labelSeason', 'The Full Sun'), ('numberOfEpisodes', '16')]\n",
      "[('seson', 'http://www.wikidata.org/entity/Q15933273'), ('labelSeason', 'Big Man'), ('numberOfEpisodes', '16')]\n",
      "[('seson', 'http://www.wikidata.org/entity/Q548335'), ('labelSeason', 'Angelina Ballerina'), ('numberOfEpisodes', '80')]\n",
      "[('seson', 'http://www.wikidata.org/entity/Q15581035'), ('labelSeason', 'El cielo es para todos'), ('numberOfEpisodes', '20')]\n",
      "[('seson', 'http://www.wikidata.org/entity/Q15594658'), ('labelSeason', 'Cutthroat Kitchen'), ('numberOfEpisodes', '122')]\n",
      "[('seson', 'http://www.wikidata.org/entity/Q13646556'), ('labelSeason', 'Grande Fratello'), ('numberOfEpisodes', '231')]\n",
      "[('seson', 'http://www.wikidata.org/entity/Q13732569'), ('labelSeason', 'Move On'), ('numberOfEpisodes', '8')]\n",
      "[('seson', 'http://www.wikidata.org/entity/Q15726149'), ('labelSeason', 'I Love You So Much (TV series)'), ('numberOfEpisodes', '16')]\n",
      "[('seson', 'http://www.wikidata.org/entity/Q15726792'), ('labelSeason', 'Face Off, season 6'), ('numberOfEpisodes', '15')]\n",
      "[('seson', 'http://www.wikidata.org/entity/Q15727436'), ('labelSeason', 'Baal Veer'), ('numberOfEpisodes', '1111')]\n",
      "[('seson', 'http://www.wikidata.org/entity/Q15731300'), ('labelSeason', 'Power Rangers Dino Charge'), ('numberOfEpisodes', '44')]\n",
      "[('seson', 'http://www.wikidata.org/entity/Q15732920'), ('labelSeason', 'Lost Girl, season 4'), ('numberOfEpisodes', '13')]\n",
      "25\n"
     ]
    }
   ],
   "source": [
    "queryString = \"\"\"\n",
    "SELECT DISTINCT ?seson ?labelSeason ?numberOfEpisodes\n",
    "WHERE {   \n",
    "   ?tvSerie wdt:P31 wd:Q5398426 ;\n",
    "            wdt:P527 ?season .\n",
    "   ?seson wdt:P1113 ?numberOfEpisodes ;\n",
    "          sc:name ?labelSeason .\n",
    "}LIMIT 25\n",
    "\"\"\" \n",
    "print(\"Results\")\n",
    "x=run_query(queryString)"
   ]
  },
  {
   "cell_type": "markdown",
   "id": "9d399c76-68b6-4c57-89fe-45db4d884e0b",
   "metadata": {},
   "source": [
    "#### Second Interpretation"
   ]
  },
  {
   "cell_type": "code",
   "execution_count": 2,
   "id": "ef1107f4-2081-43a7-80d0-c43192d56585",
   "metadata": {},
   "outputs": [
    {
     "name": "stdout",
     "output_type": "stream",
     "text": [
      "Results\n",
      "[('labelTvSerie', 'Without a Trace'), ('numberOfSeasons', '7')]\n",
      "1\n"
     ]
    }
   ],
   "source": [
    "queryString = \"\"\"\n",
    "SELECT DISTINCT ?tvSerie ?labelTvSerie ?numberOfSeasons\n",
    "WHERE {   \n",
    "  wd:Q826477 wdt:P31 wd:Q5398426 ;\n",
    "            wdt:P2437 ?numberOfSeasons ;\n",
    "            sc:name ?labelTvSerie .              \n",
    "}LIMIT 25\n",
    "\"\"\" \n",
    "print(\"Results\")\n",
    "x=run_query(queryString)"
   ]
  },
  {
   "cell_type": "code",
   "execution_count": 3,
   "id": "1b486d7b-2388-4e80-80ef-a62d544dc539",
   "metadata": {},
   "outputs": [
    {
     "name": "stdout",
     "output_type": "stream",
     "text": [
      "Results\n",
      "[('seson', 'http://www.wikidata.org/entity/Q1114794'), ('labelSeason', \"Grey's Anatomy, season 1\"), ('numberOfEpisodes', '9')]\n",
      "[('seson', 'http://www.wikidata.org/entity/Q300666'), ('labelSeason', 'Aaahh!!! Real Monsters'), ('numberOfEpisodes', '52')]\n",
      "[('seson', 'http://www.wikidata.org/entity/Q716172'), ('labelSeason', 'Mobile Fighter G Gundam'), ('numberOfEpisodes', '49')]\n",
      "[('seson', 'http://www.wikidata.org/entity/Q1890400'), ('labelSeason', \"Terry Pratchett's The Colour of Magic\"), ('numberOfEpisodes', '2')]\n",
      "[('seson', 'http://www.wikidata.org/entity/Q33323'), ('labelSeason', 'Everybody Hates Chris'), ('numberOfEpisodes', '88')]\n",
      "[('seson', 'http://www.wikidata.org/entity/Q500769'), ('labelSeason', 'Freaks and Geeks'), ('numberOfEpisodes', '18')]\n",
      "[('seson', 'http://www.wikidata.org/entity/Q8350955'), ('labelSeason', 'Cordel Encantado'), ('numberOfEpisodes', '143')]\n",
      "[('seson', 'http://www.wikidata.org/entity/Q930562'), ('labelSeason', 'Dirty Pair'), ('numberOfEpisodes', '26')]\n",
      "[('seson', 'http://www.wikidata.org/entity/Q2414772'), ('labelSeason', 'ReBoot'), ('numberOfEpisodes', '47')]\n",
      "[('seson', 'http://www.wikidata.org/entity/Q344081'), ('labelSeason', 'Recess'), ('numberOfEpisodes', '129')]\n",
      "[('seson', 'http://www.wikidata.org/entity/Q3061434'), ('labelSeason', 'Law & Order: Special Victims Unit, season 4'), ('numberOfEpisodes', '25')]\n",
      "[('seson', 'http://www.wikidata.org/entity/Q708661'), ('labelSeason', 'Lindenstraße'), ('numberOfEpisodes', '1758')]\n",
      "[('seson', 'http://www.wikidata.org/entity/Q15099450'), ('labelSeason', 'Prime Minister and I'), ('numberOfEpisodes', '17')]\n",
      "[('seson', 'http://www.wikidata.org/entity/Q15476155'), ('labelSeason', 'The Full Sun'), ('numberOfEpisodes', '16')]\n",
      "[('seson', 'http://www.wikidata.org/entity/Q15933273'), ('labelSeason', 'Big Man'), ('numberOfEpisodes', '16')]\n",
      "[('seson', 'http://www.wikidata.org/entity/Q548335'), ('labelSeason', 'Angelina Ballerina'), ('numberOfEpisodes', '80')]\n",
      "[('seson', 'http://www.wikidata.org/entity/Q15581035'), ('labelSeason', 'El cielo es para todos'), ('numberOfEpisodes', '20')]\n",
      "[('seson', 'http://www.wikidata.org/entity/Q15594658'), ('labelSeason', 'Cutthroat Kitchen'), ('numberOfEpisodes', '122')]\n",
      "[('seson', 'http://www.wikidata.org/entity/Q13646556'), ('labelSeason', 'Grande Fratello'), ('numberOfEpisodes', '231')]\n",
      "[('seson', 'http://www.wikidata.org/entity/Q13732569'), ('labelSeason', 'Move On'), ('numberOfEpisodes', '8')]\n",
      "[('seson', 'http://www.wikidata.org/entity/Q15726149'), ('labelSeason', 'I Love You So Much (TV series)'), ('numberOfEpisodes', '16')]\n",
      "[('seson', 'http://www.wikidata.org/entity/Q15726792'), ('labelSeason', 'Face Off, season 6'), ('numberOfEpisodes', '15')]\n",
      "[('seson', 'http://www.wikidata.org/entity/Q15727436'), ('labelSeason', 'Baal Veer'), ('numberOfEpisodes', '1111')]\n",
      "[('seson', 'http://www.wikidata.org/entity/Q15731300'), ('labelSeason', 'Power Rangers Dino Charge'), ('numberOfEpisodes', '44')]\n",
      "[('seson', 'http://www.wikidata.org/entity/Q15732920'), ('labelSeason', 'Lost Girl, season 4'), ('numberOfEpisodes', '13')]\n",
      "25\n"
     ]
    }
   ],
   "source": [
    "queryString = \"\"\"\n",
    "SELECT DISTINCT ?seson ?labelSeason ?numberOfEpisodes\n",
    "WHERE {   \n",
    "    wd:Q826477 wdt:P31 wd:Q5398426 ;\n",
    "            wdt:P527 ?season .\n",
    "   ?seson wdt:P1113 ?numberOfEpisodes ;\n",
    "          sc:name ?labelSeason .\n",
    "}LIMIT 25\n",
    "\"\"\" \n",
    "print(\"Results\")\n",
    "x=run_query(queryString)"
   ]
  },
  {
   "cell_type": "markdown",
   "id": "cb3c7a41",
   "metadata": {
    "tags": []
   },
   "source": [
    "## Task 3\n",
    "Get the number of episodes in which the cast members played a role. Who are the most present actors? (the result set must be a list of triples actor/actress IRI, label and #episodes)"
   ]
  },
  {
   "cell_type": "markdown",
   "id": "2cadcb5f-f5f3-4632-a221-0ddff0dd7146",
   "metadata": {
    "tags": []
   },
   "source": [
    "### Get all data property of \"Anthony LaPaglia\" (wd:Q308124)"
   ]
  },
  {
   "cell_type": "code",
   "execution_count": 20,
   "id": "d947eff3-d9a6-4fb9-99b9-c27daa25eab9",
   "metadata": {},
   "outputs": [
    {
     "name": "stdout",
     "output_type": "stream",
     "text": [
      "Results\n",
      "[('property', 'http://www.wikidata.org/prop/direct/P1006'), ('label', 'Nationale Thesaurus voor Auteurs ID')]\n",
      "[('property', 'http://www.wikidata.org/prop/direct/P1207'), ('label', 'NUKAT ID')]\n",
      "[('property', 'http://www.wikidata.org/prop/direct/P1220'), ('label', 'Internet Broadway Database person ID')]\n",
      "[('property', 'http://www.wikidata.org/prop/direct/P1263'), ('label', 'NNDB people ID')]\n",
      "[('property', 'http://www.wikidata.org/prop/direct/P1266'), ('label', 'AlloCiné person ID')]\n",
      "[('property', 'http://www.wikidata.org/prop/direct/P1695'), ('label', 'NLP ID (unique)')]\n",
      "[('property', 'http://www.wikidata.org/prop/direct/P2019'), ('label', 'AllMovie person ID')]\n",
      "[('property', 'http://www.wikidata.org/prop/direct/P2031'), ('label', 'work period (start)')]\n",
      "[('property', 'http://www.wikidata.org/prop/direct/P213'), ('label', 'ISNI')]\n",
      "[('property', 'http://www.wikidata.org/prop/direct/P214'), ('label', 'VIAF ID')]\n",
      "[('property', 'http://www.wikidata.org/prop/direct/P2163'), ('label', 'FAST ID')]\n",
      "[('property', 'http://www.wikidata.org/prop/direct/P2168'), ('label', 'Swedish Film Database person ID')]\n",
      "[('property', 'http://www.wikidata.org/prop/direct/P227'), ('label', 'GND ID')]\n",
      "[('property', 'http://www.wikidata.org/prop/direct/P2387'), ('label', 'Elonet person ID')]\n",
      "[('property', 'http://www.wikidata.org/prop/direct/P2435'), ('label', 'PORT person ID')]\n",
      "[('property', 'http://www.wikidata.org/prop/direct/P244'), ('label', 'Library of Congress authority ID')]\n",
      "[('property', 'http://www.wikidata.org/prop/direct/P2519'), ('label', 'Scope.dk person ID')]\n",
      "[('property', 'http://www.wikidata.org/prop/direct/P2604'), ('label', 'Kinopoisk person ID')]\n",
      "[('property', 'http://www.wikidata.org/prop/direct/P2605'), ('label', 'ČSFD person ID')]\n",
      "[('property', 'http://www.wikidata.org/prop/direct/P2626'), ('label', 'Danish National Filmography person ID')]\n",
      "[('property', 'http://www.wikidata.org/prop/direct/P268'), ('label', 'Bibliothèque nationale de France ID')]\n",
      "[('property', 'http://www.wikidata.org/prop/direct/P269'), ('label', 'IdRef ID')]\n",
      "[('property', 'http://www.wikidata.org/prop/direct/P3056'), ('label', 'TCM Movie Database person ID')]\n",
      "[('property', 'http://www.wikidata.org/prop/direct/P3430'), ('label', 'SNAC ARK ID')]\n",
      "[('property', 'http://www.wikidata.org/prop/direct/P345'), ('label', 'IMDb ID')]\n",
      "[('property', 'http://www.wikidata.org/prop/direct/P373'), ('label', 'Commons category')]\n",
      "[('property', 'http://www.wikidata.org/prop/direct/P4456'), ('label', 'Internet Off-Broadway Database creditable entity ID')]\n",
      "[('property', 'http://www.wikidata.org/prop/direct/P4985'), ('label', 'TMDb person ID')]\n",
      "[('property', 'http://www.wikidata.org/prop/direct/P5007'), ('label', 'Behind The Voice Actors person ID')]\n",
      "[('property', 'http://www.wikidata.org/prop/direct/P5033'), ('label', 'Filmweb.pl person ID')]\n",
      "[('property', 'http://www.wikidata.org/prop/direct/P5421'), ('label', 'Trading Card Database person ID')]\n",
      "[('property', 'http://www.wikidata.org/prop/direct/P5534'), ('label', 'Open Media Database person ID')]\n",
      "[('property', 'http://www.wikidata.org/prop/direct/P5617'), ('label', 'Evene ID')]\n",
      "[('property', 'http://www.wikidata.org/prop/direct/P569'), ('label', 'date of birth')]\n",
      "[('property', 'http://www.wikidata.org/prop/direct/P646'), ('label', 'Freebase ID')]\n",
      "[('property', 'http://www.wikidata.org/prop/direct/P691'), ('label', 'NKCR AUT ID')]\n",
      "[('property', 'http://www.wikidata.org/prop/direct/P7293'), ('label', 'PLWABN ID')]\n",
      "[('property', 'http://www.wikidata.org/prop/direct/P7859'), ('label', 'WorldCat Identities ID')]\n",
      "[('property', 'http://www.wikidata.org/prop/direct/P950'), ('label', 'Biblioteca Nacional de España ID')]\n",
      "39\n"
     ]
    }
   ],
   "source": [
    "queryString = \"\"\"\n",
    "SELECT DISTINCT ?property ?label\n",
    "WHERE {   \n",
    "   wd:Q308124 ?property ?object .\n",
    "   ?property sc:name ?label .\n",
    "   FILTER(isLiteral(?object)) .   \n",
    "}\n",
    "\"\"\"\n",
    "print(\"Results\")\n",
    "x=run_query(queryString)"
   ]
  },
  {
   "cell_type": "markdown",
   "id": "9519052e-980a-4732-a799-508a37e12e86",
   "metadata": {
    "tags": []
   },
   "source": [
    "### Get all data property of \"Anthony LaPaglia\" (wd:Q308124) that do not contain ID"
   ]
  },
  {
   "cell_type": "code",
   "execution_count": 19,
   "id": "25f2fe3c-8249-434b-b502-6eac95a58891",
   "metadata": {},
   "outputs": [
    {
     "name": "stdout",
     "output_type": "stream",
     "text": [
      "Results\n",
      "[('property', 'http://www.wikidata.org/prop/direct/P2031'), ('label', 'work period (start)')]\n",
      "[('property', 'http://www.wikidata.org/prop/direct/P213'), ('label', 'ISNI')]\n",
      "[('property', 'http://www.wikidata.org/prop/direct/P373'), ('label', 'Commons category')]\n",
      "[('property', 'http://www.wikidata.org/prop/direct/P569'), ('label', 'date of birth')]\n",
      "4\n"
     ]
    }
   ],
   "source": [
    "queryString = \"\"\"\n",
    "SELECT DISTINCT ?property ?label\n",
    "WHERE {   \n",
    "   wd:Q308124 ?property ?object .\n",
    "   ?property sc:name ?label .\n",
    "   FILTER(isLiteral(?object)) .\n",
    "   FILTER REGEX(?label, \"^((?!ID).)*$\") . \n",
    "}\n",
    "\"\"\"\n",
    "print(\"Results\")\n",
    "x=run_query(queryString)"
   ]
  },
  {
   "cell_type": "markdown",
   "id": "77d9b405-1b16-4468-89c6-ee5117ba4086",
   "metadata": {
    "tags": []
   },
   "source": [
    "### Get the class of \"Anthony LaPaglia\" (wd:Q308124)"
   ]
  },
  {
   "cell_type": "code",
   "execution_count": 18,
   "id": "752be916-eadb-406e-b4f4-5b85b1b64a5d",
   "metadata": {},
   "outputs": [
    {
     "name": "stdout",
     "output_type": "stream",
     "text": [
      "Results\n",
      "[('class', 'http://www.wikidata.org/entity/Q5'), ('label', 'human')]\n",
      "1\n"
     ]
    }
   ],
   "source": [
    "queryString = \"\"\"\n",
    "SELECT DISTINCT ?class ?label\n",
    "WHERE {   \n",
    "   wd:Q308124 wdt:P31 ?class .\n",
    "   ?class sc:name ?label .     \n",
    "}\n",
    "\"\"\"\n",
    "print(\"Results\")\n",
    "x=run_query(queryString)"
   ]
  },
  {
   "cell_type": "markdown",
   "id": "49dc08d5-26b4-408a-a200-5310ab2d49f3",
   "metadata": {
    "tags": []
   },
   "source": [
    "### Get all object properties of \"Anthony LaPaglia\" (wd:Q308124)"
   ]
  },
  {
   "cell_type": "code",
   "execution_count": 17,
   "id": "44ebd579-37af-4b0d-ab26-6c36fb48a565",
   "metadata": {},
   "outputs": [
    {
     "name": "stdout",
     "output_type": "stream",
     "text": [
      "Results\n",
      "[('property', 'http://www.wikidata.org/prop/direct/P106'), ('label', 'occupation')]\n",
      "[('property', 'http://www.wikidata.org/prop/direct/P1343'), ('label', 'described by source')]\n",
      "[('property', 'http://www.wikidata.org/prop/direct/P1412'), ('label', 'languages spoken, written or signed')]\n",
      "[('property', 'http://www.wikidata.org/prop/direct/P166'), ('label', 'award received')]\n",
      "[('property', 'http://www.wikidata.org/prop/direct/P18'), ('label', 'image')]\n",
      "[('property', 'http://www.wikidata.org/prop/direct/P19'), ('label', 'place of birth')]\n",
      "[('property', 'http://www.wikidata.org/prop/direct/P21'), ('label', 'sex or gender')]\n",
      "[('property', 'http://www.wikidata.org/prop/direct/P26'), ('label', 'spouse')]\n",
      "[('property', 'http://www.wikidata.org/prop/direct/P27'), ('label', 'country of citizenship')]\n",
      "[('property', 'http://www.wikidata.org/prop/direct/P31'), ('label', 'instance of')]\n",
      "[('property', 'http://www.wikidata.org/prop/direct/P3373'), ('label', 'sibling')]\n",
      "[('property', 'http://www.wikidata.org/prop/direct/P413'), ('label', 'position played on team / speciality')]\n",
      "[('property', 'http://www.wikidata.org/prop/direct/P54'), ('label', 'member of sports team')]\n",
      "[('property', 'http://www.wikidata.org/prop/direct/P551'), ('label', 'residence')]\n",
      "[('property', 'http://www.wikidata.org/prop/direct/P641'), ('label', 'sport')]\n",
      "[('property', 'http://www.wikidata.org/prop/direct/P735'), ('label', 'given name')]\n",
      "16\n"
     ]
    }
   ],
   "source": [
    "queryString = \"\"\"\n",
    "SELECT DISTINCT ?property ?label\n",
    "WHERE {   \n",
    "   wd:Q308124 ?property ?object .\n",
    "   ?property sc:name ?label .\n",
    "   FILTER(!isLiteral(?object)) .   \n",
    "}\n",
    "\"\"\"\n",
    "\n",
    "print(\"Results\")\n",
    "x=run_query(queryString)"
   ]
  },
  {
   "cell_type": "markdown",
   "id": "cd31b0db-84ea-4895-9ffd-11258121d8e9",
   "metadata": {
    "tags": []
   },
   "source": [
    "### Get all the classes connected to \"Anthony LaPaglia\" (wd:Q308124)"
   ]
  },
  {
   "cell_type": "code",
   "execution_count": 16,
   "id": "2910f912-0169-447d-be29-8dc270929dd7",
   "metadata": {},
   "outputs": [
    {
     "name": "stdout",
     "output_type": "stream",
     "text": [
      "Results\n",
      "[('objectClass', 'http://www.wikidata.org/entity/Q186165'), ('label', 'web portal')]\n",
      "[('objectClass', 'http://www.wikidata.org/entity/Q13218391'), ('label', 'charter city')]\n",
      "[('objectClass', 'http://www.wikidata.org/entity/Q4220920'), ('label', 'filmmaking occupation')]\n",
      "[('objectClass', 'http://www.wikidata.org/entity/Q48264'), ('label', 'gender identity')]\n",
      "[('objectClass', 'http://www.wikidata.org/entity/Q1093829'), ('label', 'city of the United States')]\n",
      "[('objectClass', 'http://www.wikidata.org/entity/Q123737'), ('label', 'Emmy Award')]\n",
      "[('objectClass', 'http://www.wikidata.org/entity/Q12737077'), ('label', 'occupation')]\n",
      "[('objectClass', 'http://www.wikidata.org/entity/Q1288568'), ('label', 'modern language')]\n",
      "[('objectClass', 'http://www.wikidata.org/entity/Q1549591'), ('label', 'big city')]\n",
      "[('objectClass', 'http://www.wikidata.org/entity/Q1637706'), ('label', 'million city')]\n",
      "[('objectClass', 'http://www.wikidata.org/entity/Q212434'), ('label', 'Olympic sport')]\n",
      "[('objectClass', 'http://www.wikidata.org/entity/Q28640'), ('label', 'profession')]\n",
      "[('objectClass', 'http://www.wikidata.org/entity/Q31629'), ('label', 'type of sport')]\n",
      "[('objectClass', 'http://www.wikidata.org/entity/Q33742'), ('label', 'natural language')]\n",
      "[('objectClass', 'http://www.wikidata.org/entity/Q34770'), ('label', 'language')]\n",
      "[('objectClass', 'http://www.wikidata.org/entity/Q3624078'), ('label', 'sovereign state')]\n",
      "[('objectClass', 'http://www.wikidata.org/entity/Q43702'), ('label', 'federation')]\n",
      "[('objectClass', 'http://www.wikidata.org/entity/Q476028'), ('label', 'association football club')]\n",
      "[('objectClass', 'http://www.wikidata.org/entity/Q5'), ('label', 'human')]\n",
      "[('objectClass', 'http://www.wikidata.org/entity/Q515'), ('label', 'city')]\n",
      "[('objectClass', 'http://www.wikidata.org/entity/Q55983715'), ('label', 'organisms known by a particular common name')]\n",
      "[('objectClass', 'http://www.wikidata.org/entity/Q6256'), ('label', 'country')]\n",
      "[('objectClass', 'http://www.wikidata.org/entity/Q1044427'), ('label', 'Primetime Emmy Award')]\n",
      "[('objectClass', 'http://www.wikidata.org/entity/Q12308941'), ('label', 'male given name')]\n",
      "[('objectClass', 'http://www.wikidata.org/entity/Q108300140'), ('label', 'occupation group according to ISCO')]\n",
      "[('objectClass', 'http://www.wikidata.org/entity/Q15229229'), ('label', 'theatre award')]\n",
      "[('objectClass', 'http://www.wikidata.org/entity/Q223832'), ('label', 'dominion of the British Empire')]\n",
      "[('objectClass', 'http://www.wikidata.org/entity/Q38033430'), ('label', 'class of award')]\n",
      "[('objectClass', 'http://www.wikidata.org/entity/Q15839299'), ('label', 'theatrical occupation')]\n",
      "[('objectClass', 'http://www.wikidata.org/entity/Q4611891'), ('label', 'association football position')]\n",
      "[('objectClass', 'http://www.wikidata.org/entity/Q4369513'), ('label', 'sex of humans')]\n",
      "[('objectClass', 'http://www.wikidata.org/entity/Q12038942'), ('label', 'multimedia database')]\n",
      "[('objectClass', 'http://www.wikidata.org/entity/Q202686'), ('label', 'Commonwealth realm')]\n",
      "[('objectClass', 'http://www.wikidata.org/entity/Q4356073'), ('label', 'spectator sport')]\n",
      "34\n"
     ]
    }
   ],
   "source": [
    "queryString = \"\"\"\n",
    "SELECT DISTINCT ?objectClass ?label\n",
    "WHERE {   \n",
    "   wd:Q308124 ?property ?object .\n",
    "   ?object wdt:P31 ?objectClass .\n",
    "   ?objectClass sc:name ?label .\n",
    "   FILTER(!isLiteral(?object)) .   \n",
    "}\n",
    "\"\"\"\n",
    "print(\"Results\")\n",
    "x=run_query(queryString)"
   ]
  },
  {
   "cell_type": "markdown",
   "id": "18ee839e-55b4-41c0-ae39-10a2d082982f",
   "metadata": {
    "tags": []
   },
   "source": [
    "### Get all the couples (object property - list of the classes of the objects that are connected to \"Anthony LaPaglia\" (wd:Q308124) through that object property)"
   ]
  },
  {
   "cell_type": "code",
   "execution_count": 15,
   "id": "7193b11b-490e-408a-a3ff-552f3e4e42a3",
   "metadata": {},
   "outputs": [
    {
     "name": "stdout",
     "output_type": "stream",
     "text": [
      "Results\n",
      "[('property', 'http://www.wikidata.org/prop/direct/P735'), ('labelProperty', 'given name'), ('objectsClasses', 'http://www.wikidata.org/entity/Q12308941'), ('labelsObjectsClasses', 'male given name')]\n",
      "[('property', 'http://www.wikidata.org/prop/direct/P106'), ('labelProperty', 'occupation'), ('objectsClasses', 'http://www.wikidata.org/entity/Q4220920,http://www.wikidata.org/entity/Q4220920,http://www.wikidata.org/entity/Q12737077,http://www.wikidata.org/entity/Q28640,http://www.wikidata.org/entity/Q28640,http://www.wikidata.org/entity/Q28640,http://www.wikidata.org/entity/Q108300140,http://www.wikidata.org/entity/Q15839299'), ('labelsObjectsClasses', 'filmmaking occupation,filmmaking occupation,occupation,profession,profession,profession,occupation group according to ISCO,theatrical occupation')]\n",
      "[('property', 'http://www.wikidata.org/prop/direct/P21'), ('labelProperty', 'sex or gender'), ('objectsClasses', 'http://www.wikidata.org/entity/Q48264,http://www.wikidata.org/entity/Q4369513'), ('labelsObjectsClasses', 'gender identity,sex of humans')]\n",
      "[('property', 'http://www.wikidata.org/prop/direct/P1412'), ('labelProperty', 'languages spoken, written or signed'), ('objectsClasses', 'http://www.wikidata.org/entity/Q1288568,http://www.wikidata.org/entity/Q33742,http://www.wikidata.org/entity/Q34770'), ('labelsObjectsClasses', 'modern language,natural language,language')]\n",
      "[('property', 'http://www.wikidata.org/prop/direct/P26'), ('labelProperty', 'spouse'), ('objectsClasses', 'http://www.wikidata.org/entity/Q5,http://www.wikidata.org/entity/Q5'), ('labelsObjectsClasses', 'human,human')]\n",
      "[('property', 'http://www.wikidata.org/prop/direct/P166'), ('labelProperty', 'award received'), ('objectsClasses', 'http://www.wikidata.org/entity/Q123737,http://www.wikidata.org/entity/Q1044427,http://www.wikidata.org/entity/Q15229229,http://www.wikidata.org/entity/Q15229229,http://www.wikidata.org/entity/Q38033430,http://www.wikidata.org/entity/Q38033430'), ('labelsObjectsClasses', 'Emmy Award,Primetime Emmy Award,theatre award,theatre award,class of award,class of award')]\n",
      "[('property', 'http://www.wikidata.org/prop/direct/P641'), ('labelProperty', 'sport'), ('objectsClasses', 'http://www.wikidata.org/entity/Q212434,http://www.wikidata.org/entity/Q31629,http://www.wikidata.org/entity/Q4356073'), ('labelsObjectsClasses', 'Olympic sport,type of sport,spectator sport')]\n",
      "[('property', 'http://www.wikidata.org/prop/direct/P551'), ('labelProperty', 'residence'), ('objectsClasses', 'http://www.wikidata.org/entity/Q13218391,http://www.wikidata.org/entity/Q1093829'), ('labelsObjectsClasses', 'charter city,city of the United States')]\n",
      "[('property', 'http://www.wikidata.org/prop/direct/P3373'), ('labelProperty', 'sibling'), ('objectsClasses', 'http://www.wikidata.org/entity/Q5'), ('labelsObjectsClasses', 'human')]\n",
      "[('property', 'http://www.wikidata.org/prop/direct/P413'), ('labelProperty', 'position played on team / speciality'), ('objectsClasses', 'http://www.wikidata.org/entity/Q4611891'), ('labelsObjectsClasses', 'association football position')]\n",
      "[('property', 'http://www.wikidata.org/prop/direct/P54'), ('labelProperty', 'member of sports team'), ('objectsClasses', 'http://www.wikidata.org/entity/Q476028'), ('labelsObjectsClasses', 'association football club')]\n",
      "[('property', 'http://www.wikidata.org/prop/direct/P27'), ('labelProperty', 'country of citizenship'), ('objectsClasses', 'http://www.wikidata.org/entity/Q3624078,http://www.wikidata.org/entity/Q43702,http://www.wikidata.org/entity/Q6256,http://www.wikidata.org/entity/Q223832,http://www.wikidata.org/entity/Q202686'), ('labelsObjectsClasses', 'sovereign state,federation,country,dominion of the British Empire,Commonwealth realm')]\n",
      "[('property', 'http://www.wikidata.org/prop/direct/P19'), ('labelProperty', 'place of birth'), ('objectsClasses', 'http://www.wikidata.org/entity/Q1549591,http://www.wikidata.org/entity/Q1637706,http://www.wikidata.org/entity/Q515'), ('labelsObjectsClasses', 'big city,million city,city')]\n",
      "[('property', 'http://www.wikidata.org/prop/direct/P31'), ('labelProperty', 'instance of'), ('objectsClasses', 'http://www.wikidata.org/entity/Q55983715'), ('labelsObjectsClasses', 'organisms known by a particular common name')]\n",
      "[('property', 'http://www.wikidata.org/prop/direct/P1343'), ('labelProperty', 'described by source'), ('objectsClasses', 'http://www.wikidata.org/entity/Q186165,http://www.wikidata.org/entity/Q12038942'), ('labelsObjectsClasses', 'web portal,multimedia database')]\n",
      "15\n"
     ]
    }
   ],
   "source": [
    "queryString = \"\"\"\n",
    "SELECT DISTINCT ?property ?labelProperty (GROUP_CONCAT(?objectClass ; separator = \",\")  AS ?objectsClasses) (GROUP_CONCAT(?labelObjectClass ; separator = \",\")  AS ?labelsObjectsClasses)\n",
    "WHERE \n",
    "{   \n",
    "   wd:Q308124 ?property ?object .  \n",
    "   ?object wdt:P31 ?objectClass .\n",
    "   \n",
    "   # Labels\n",
    "   ?property sc:name ?labelProperty .      \n",
    "   ?objectClass sc:name ?labelObjectClass .\n",
    "   \n",
    "   FILTER(!isLiteral(?object)) .   \n",
    "}GROUP BY ?property ?labelProperty\n",
    "LIMIT 50\n",
    "\"\"\"\n",
    "print(\"Results\")\n",
    "x=run_query(queryString)"
   ]
  },
  {
   "cell_type": "markdown",
   "id": "3cdd2a99-4802-4f75-a3f8-0184de6d3653",
   "metadata": {
    "tags": []
   },
   "source": [
    "### Get all the couples (object property - list of the  objects that are connected to \"Anthony LaPaglia\" (wd:Q308124) through that object property)"
   ]
  },
  {
   "cell_type": "code",
   "execution_count": 14,
   "id": "7ac714dd-59c8-4347-838b-c37a7e8abfd9",
   "metadata": {},
   "outputs": [
    {
     "name": "stdout",
     "output_type": "stream",
     "text": [
      "Results\n",
      "[('property', 'http://www.wikidata.org/prop/direct/P735'), ('labelProperty', 'given name'), ('objects', 'http://www.wikidata.org/entity/Q12241622'), ('labelsObjects', 'Anthony')]\n",
      "[('property', 'http://www.wikidata.org/prop/direct/P106'), ('labelProperty', 'occupation'), ('objects', 'http://www.wikidata.org/entity/Q10798782,http://www.wikidata.org/entity/Q10800557,http://www.wikidata.org/entity/Q2259451,http://www.wikidata.org/entity/Q3282637,http://www.wikidata.org/entity/Q33999,http://www.wikidata.org/entity/Q937857'), ('labelsObjects', 'television actor,film actor,stage actor,film producer,actor,association football player')]\n",
      "[('property', 'http://www.wikidata.org/prop/direct/P21'), ('labelProperty', 'sex or gender'), ('objects', 'http://www.wikidata.org/entity/Q6581097'), ('labelsObjects', 'male')]\n",
      "[('property', 'http://www.wikidata.org/prop/direct/P1412'), ('labelProperty', 'languages spoken, written or signed'), ('objects', 'http://www.wikidata.org/entity/Q1860'), ('labelsObjects', 'English')]\n",
      "[('property', 'http://www.wikidata.org/prop/direct/P26'), ('labelProperty', 'spouse'), ('objects', 'http://www.wikidata.org/entity/Q458784,http://www.wikidata.org/entity/Q26793048'), ('labelsObjects', 'Gia Carides,Cherie Michan')]\n",
      "[('property', 'http://www.wikidata.org/prop/direct/P166'), ('labelProperty', 'award received'), ('objects', 'http://www.wikidata.org/entity/Q1131356,http://www.wikidata.org/entity/Q1044427,http://www.wikidata.org/entity/Q1445521,http://www.wikidata.org/entity/Q530923'), ('labelsObjects', 'Theatre World Award,Primetime Emmy Award,Tony Award for Best Actor in a Play,Primetime Emmy Award for Outstanding Guest Actor in a Comedy Series')]\n",
      "[('property', 'http://www.wikidata.org/prop/direct/P641'), ('labelProperty', 'sport'), ('objects', 'http://www.wikidata.org/entity/Q2736'), ('labelsObjects', 'association football')]\n",
      "[('property', 'http://www.wikidata.org/prop/direct/P551'), ('labelProperty', 'residence'), ('objects', 'http://www.wikidata.org/entity/Q47164'), ('labelsObjects', 'Santa Monica')]\n",
      "[('property', 'http://www.wikidata.org/prop/direct/P3373'), ('labelProperty', 'sibling'), ('objects', 'http://www.wikidata.org/entity/Q1703231'), ('labelsObjects', 'Jonathan LaPaglia')]\n",
      "[('property', 'http://www.wikidata.org/prop/direct/P413'), ('labelProperty', 'position played on team / speciality'), ('objects', 'http://www.wikidata.org/entity/Q201330'), ('labelsObjects', 'goalkeeper')]\n",
      "[('property', 'http://www.wikidata.org/prop/direct/P54'), ('labelProperty', 'member of sports team'), ('objects', 'http://www.wikidata.org/entity/Q727111'), ('labelsObjects', 'Hollywood United F.C.')]\n",
      "[('property', 'http://www.wikidata.org/prop/direct/P27'), ('labelProperty', 'country of citizenship'), ('objects', 'http://www.wikidata.org/entity/Q408'), ('labelsObjects', 'Australia')]\n",
      "[('property', 'http://www.wikidata.org/prop/direct/P19'), ('labelProperty', 'place of birth'), ('objects', 'http://www.wikidata.org/entity/Q5112'), ('labelsObjects', 'Adelaide')]\n",
      "[('property', 'http://www.wikidata.org/prop/direct/P31'), ('labelProperty', 'instance of'), ('objects', 'http://www.wikidata.org/entity/Q5'), ('labelsObjects', 'human')]\n",
      "[('property', 'http://www.wikidata.org/prop/direct/P1343'), ('labelProperty', 'described by source'), ('objects', 'http://www.wikidata.org/entity/Q67311526'), ('labelsObjects', 'Obalky knih.cz')]\n",
      "15\n"
     ]
    }
   ],
   "source": [
    "queryString = \"\"\"\n",
    "SELECT DISTINCT ?property ?labelProperty (GROUP_CONCAT(?object ; separator = \",\")  AS ?objects) (GROUP_CONCAT(?labelObject; separator = \",\")  AS ?labelsObjects)\n",
    "WHERE \n",
    "{   \n",
    "   wd:Q308124 ?property ?object .  \n",
    " \n",
    "   # Labels\n",
    "   ?property sc:name ?labelProperty .      \n",
    "   ?object sc:name ?labelObject\n",
    "   \n",
    "   FILTER(!isLiteral(?object)) .   \n",
    "}GROUP BY ?property ?labelProperty\n",
    "LIMIT 50\n",
    "\"\"\"\n",
    "print(\"Results\")\n",
    "x=run_query(queryString)"
   ]
  },
  {
   "cell_type": "markdown",
   "id": "b3872f57-5151-45c9-9307-29f14fa7add3",
   "metadata": {
    "tags": []
   },
   "source": [
    "### Get all data property of \"Maple Street\" (wd:Q52667904)"
   ]
  },
  {
   "cell_type": "code",
   "execution_count": 21,
   "id": "398e35a8-f055-468c-b5aa-2953439fad85",
   "metadata": {},
   "outputs": [
    {
     "name": "stdout",
     "output_type": "stream",
     "text": [
      "Results\n",
      "[('property', 'http://www.wikidata.org/prop/direct/P1258'), ('label', 'Rotten Tomatoes ID')]\n",
      "[('property', 'http://www.wikidata.org/prop/direct/P1476'), ('label', 'title')]\n",
      "[('property', 'http://www.wikidata.org/prop/direct/P1562'), ('label', 'AllMovie title ID')]\n",
      "[('property', 'http://www.wikidata.org/prop/direct/P2529'), ('label', 'ČSFD film ID')]\n",
      "[('property', 'http://www.wikidata.org/prop/direct/P2638'), ('label', 'TV.com ID')]\n",
      "[('property', 'http://www.wikidata.org/prop/direct/P2704'), ('label', 'EIDR content ID')]\n",
      "[('property', 'http://www.wikidata.org/prop/direct/P3302'), ('label', 'Open Media Database film ID')]\n",
      "[('property', 'http://www.wikidata.org/prop/direct/P345'), ('label', 'IMDb ID')]\n",
      "[('property', 'http://www.wikidata.org/prop/direct/P4665'), ('label', 'CineMagia title ID')]\n",
      "9\n"
     ]
    }
   ],
   "source": [
    "queryString = \"\"\"\n",
    "SELECT DISTINCT ?property ?label\n",
    "WHERE {   \n",
    "   wd:Q52667904 ?property ?object .\n",
    "   ?property sc:name ?label .\n",
    "   FILTER(isLiteral(?object)) .   \n",
    "}\n",
    "\"\"\"\n",
    "print(\"Results\")\n",
    "x=run_query(queryString)"
   ]
  },
  {
   "cell_type": "markdown",
   "id": "63626097-c326-4b28-a7e1-b93fa1712fb9",
   "metadata": {
    "tags": []
   },
   "source": [
    "### Get all data property of \"Maple Street\"  (wd:Q52667904) that do not contain ID"
   ]
  },
  {
   "cell_type": "code",
   "execution_count": 22,
   "id": "cad9c426-9f84-4868-b7d8-f68ff73b4aa6",
   "metadata": {},
   "outputs": [
    {
     "name": "stdout",
     "output_type": "stream",
     "text": [
      "Results\n",
      "[('property', 'http://www.wikidata.org/prop/direct/P1476'), ('label', 'title')]\n",
      "1\n"
     ]
    }
   ],
   "source": [
    "queryString = \"\"\"\n",
    "SELECT DISTINCT ?property ?label\n",
    "WHERE {   \n",
    "   wd:Q52667904 ?property ?object .\n",
    "   ?property sc:name ?label .\n",
    "   FILTER(isLiteral(?object)) .\n",
    "   FILTER REGEX(?label, \"^((?!ID).)*$\") . \n",
    "}\n",
    "\"\"\"\n",
    "print(\"Results\")\n",
    "x=run_query(queryString)"
   ]
  },
  {
   "cell_type": "markdown",
   "id": "324b0a0c-439e-4348-ac3f-81b83748fb42",
   "metadata": {
    "tags": []
   },
   "source": [
    "### Get the class of \"Maple Street\" (wd:Q52667904)"
   ]
  },
  {
   "cell_type": "code",
   "execution_count": 23,
   "id": "5eb0f238-39f8-46f3-b54c-586c704c6ad1",
   "metadata": {},
   "outputs": [
    {
     "name": "stdout",
     "output_type": "stream",
     "text": [
      "Results\n",
      "[('class', 'http://www.wikidata.org/entity/Q21191270'), ('label', 'television series episode')]\n",
      "1\n"
     ]
    }
   ],
   "source": [
    "queryString = \"\"\"\n",
    "SELECT DISTINCT ?class ?label\n",
    "WHERE {   \n",
    "   wd:Q52667904 wdt:P31 ?class .\n",
    "   ?class sc:name ?label .     \n",
    "}\n",
    "\"\"\"\n",
    "print(\"Results\")\n",
    "x=run_query(queryString)"
   ]
  },
  {
   "cell_type": "markdown",
   "id": "c60625bf-18ca-46ad-b510-caeae3c2af09",
   "metadata": {
    "tags": []
   },
   "source": [
    "### Get all object properties of \"Maple Street\"  (wd:Q52667904)"
   ]
  },
  {
   "cell_type": "code",
   "execution_count": 24,
   "id": "8d508c30-333c-4ebe-9b94-bde4aa2f4132",
   "metadata": {},
   "outputs": [
    {
     "name": "stdout",
     "output_type": "stream",
     "text": [
      "Results\n",
      "[('property', 'http://www.wikidata.org/prop/direct/P155'), ('label', 'follows')]\n",
      "[('property', 'http://www.wikidata.org/prop/direct/P156'), ('label', 'followed by')]\n",
      "[('property', 'http://www.wikidata.org/prop/direct/P161'), ('label', 'cast member')]\n",
      "[('property', 'http://www.wikidata.org/prop/direct/P179'), ('label', 'part of the series')]\n",
      "[('property', 'http://www.wikidata.org/prop/direct/P31'), ('label', 'instance of')]\n",
      "[('property', 'http://www.wikidata.org/prop/direct/P364'), ('label', 'original language of film or TV show')]\n",
      "[('property', 'http://www.wikidata.org/prop/direct/P4908'), ('label', 'season')]\n",
      "7\n"
     ]
    }
   ],
   "source": [
    "queryString = \"\"\"\n",
    "SELECT DISTINCT ?property ?label\n",
    "WHERE {   \n",
    "   wd:Q52667904 ?property ?object .\n",
    "   ?property sc:name ?label .\n",
    "   FILTER(!isLiteral(?object)) .   \n",
    "}\n",
    "\"\"\"\n",
    "\n",
    "print(\"Results\")\n",
    "x=run_query(queryString)"
   ]
  },
  {
   "cell_type": "markdown",
   "id": "8cfd2536-bba7-4a28-a655-e1b7fd157edc",
   "metadata": {
    "tags": []
   },
   "source": [
    "### Get all the classes connected to \"Maple Street\"  (wd:Q52667904)"
   ]
  },
  {
   "cell_type": "code",
   "execution_count": 25,
   "id": "2d47ec75-5184-4ba2-a475-c21e38dae770",
   "metadata": {},
   "outputs": [
    {
     "name": "stdout",
     "output_type": "stream",
     "text": [
      "Results\n",
      "[('objectClass', 'http://www.wikidata.org/entity/Q1288568'), ('label', 'modern language')]\n",
      "[('objectClass', 'http://www.wikidata.org/entity/Q21191270'), ('label', 'television series episode')]\n",
      "[('objectClass', 'http://www.wikidata.org/entity/Q33742'), ('label', 'natural language')]\n",
      "[('objectClass', 'http://www.wikidata.org/entity/Q34770'), ('label', 'language')]\n",
      "[('objectClass', 'http://www.wikidata.org/entity/Q5'), ('label', 'human')]\n",
      "[('objectClass', 'http://www.wikidata.org/entity/Q5398426'), ('label', 'television series')]\n",
      "[('objectClass', 'http://www.wikidata.org/entity/Q3464665'), ('label', 'television series season')]\n",
      "7\n"
     ]
    }
   ],
   "source": [
    "queryString = \"\"\"\n",
    "SELECT DISTINCT ?objectClass ?label\n",
    "WHERE {   \n",
    "   wd:Q52667904 ?property ?object .\n",
    "   ?object wdt:P31 ?objectClass .\n",
    "   ?objectClass sc:name ?label .\n",
    "   FILTER(!isLiteral(?object)) .   \n",
    "}\n",
    "\"\"\"\n",
    "print(\"Results\")\n",
    "x=run_query(queryString)"
   ]
  },
  {
   "cell_type": "markdown",
   "id": "794d2e0b-66a9-4b46-918c-c186bcc9bc11",
   "metadata": {
    "tags": []
   },
   "source": [
    "### Get all the couples (object property - list of the classes of the objects that are connected to \"Maple Street\"  (wd:Q52667904) through that object property)"
   ]
  },
  {
   "cell_type": "code",
   "execution_count": 26,
   "id": "f12ae10f-fe60-4fae-aa13-60bbd96a8d74",
   "metadata": {},
   "outputs": [
    {
     "name": "stdout",
     "output_type": "stream",
     "text": [
      "Results\n",
      "[('property', 'http://www.wikidata.org/prop/direct/P155'), ('labelProperty', 'follows'), ('objectsClasses', 'http://www.wikidata.org/entity/Q21191270'), ('labelsObjectsClasses', 'television series episode')]\n",
      "[('property', 'http://www.wikidata.org/prop/direct/P364'), ('labelProperty', 'original language of film or TV show'), ('objectsClasses', 'http://www.wikidata.org/entity/Q1288568,http://www.wikidata.org/entity/Q33742,http://www.wikidata.org/entity/Q34770'), ('labelsObjectsClasses', 'modern language,natural language,language')]\n",
      "[('property', 'http://www.wikidata.org/prop/direct/P161'), ('labelProperty', 'cast member'), ('objectsClasses', 'http://www.wikidata.org/entity/Q5,http://www.wikidata.org/entity/Q5,http://www.wikidata.org/entity/Q5,http://www.wikidata.org/entity/Q5,http://www.wikidata.org/entity/Q5'), ('labelsObjectsClasses', 'human,human,human,human,human')]\n",
      "[('property', 'http://www.wikidata.org/prop/direct/P156'), ('labelProperty', 'followed by'), ('objectsClasses', 'http://www.wikidata.org/entity/Q21191270'), ('labelsObjectsClasses', 'television series episode')]\n",
      "[('property', 'http://www.wikidata.org/prop/direct/P179'), ('labelProperty', 'part of the series'), ('objectsClasses', 'http://www.wikidata.org/entity/Q5398426'), ('labelsObjectsClasses', 'television series')]\n",
      "[('property', 'http://www.wikidata.org/prop/direct/P4908'), ('labelProperty', 'season'), ('objectsClasses', 'http://www.wikidata.org/entity/Q3464665'), ('labelsObjectsClasses', 'television series season')]\n",
      "6\n"
     ]
    }
   ],
   "source": [
    "queryString = \"\"\"\n",
    "SELECT DISTINCT ?property ?labelProperty (GROUP_CONCAT(?objectClass ; separator = \",\")  AS ?objectsClasses) (GROUP_CONCAT(?labelObjectClass ; separator = \",\")  AS ?labelsObjectsClasses)\n",
    "WHERE \n",
    "{   \n",
    "   wd:Q52667904 ?property ?object .  \n",
    "   ?object wdt:P31 ?objectClass .\n",
    "   \n",
    "   # Labels\n",
    "   ?property sc:name ?labelProperty .      \n",
    "   ?objectClass sc:name ?labelObjectClass .\n",
    "   \n",
    "   FILTER(!isLiteral(?object)) .   \n",
    "}GROUP BY ?property ?labelProperty\n",
    "LIMIT 50\n",
    "\"\"\"\n",
    "print(\"Results\")\n",
    "x=run_query(queryString)"
   ]
  },
  {
   "cell_type": "markdown",
   "id": "c9dff351-21ac-439a-91c1-e3a1b8cf47bf",
   "metadata": {
    "tags": []
   },
   "source": [
    "### Get all the couples (object property - list of the  objects that are connected to \"Maple Street\"  (wd:Q52667904) through that object property)"
   ]
  },
  {
   "cell_type": "code",
   "execution_count": 27,
   "id": "17fa3abb-6b3d-4f09-8586-b8141a44b702",
   "metadata": {},
   "outputs": [
    {
     "name": "stdout",
     "output_type": "stream",
     "text": [
      "Results\n",
      "[('property', 'http://www.wikidata.org/prop/direct/P155'), ('labelProperty', 'follows'), ('objects', 'http://www.wikidata.org/entity/Q52667902'), ('labelsObjects', 'Midnight Sun')]\n",
      "[('property', 'http://www.wikidata.org/prop/direct/P364'), ('labelProperty', 'original language of film or TV show'), ('objects', 'http://www.wikidata.org/entity/Q1860'), ('labelsObjects', 'English')]\n",
      "[('property', 'http://www.wikidata.org/prop/direct/P161'), ('labelProperty', 'cast member'), ('objects', 'http://www.wikidata.org/entity/Q430872,http://www.wikidata.org/entity/Q308124,http://www.wikidata.org/entity/Q235075,http://www.wikidata.org/entity/Q551608,http://www.wikidata.org/entity/Q503040'), ('labelsObjects', 'Marianne Jean-Baptiste,Anthony LaPaglia,Poppy Montgomery,Enrique Murciano,Eric Close')]\n",
      "[('property', 'http://www.wikidata.org/prop/direct/P31'), ('labelProperty', 'instance of'), ('objects', 'http://www.wikidata.org/entity/Q21191270'), ('labelsObjects', 'television series episode')]\n",
      "[('property', 'http://www.wikidata.org/prop/direct/P156'), ('labelProperty', 'followed by'), ('objects', 'http://www.wikidata.org/entity/Q52667908'), ('labelsObjects', 'Underground Railroad')]\n",
      "[('property', 'http://www.wikidata.org/prop/direct/P179'), ('labelProperty', 'part of the series'), ('objects', 'http://www.wikidata.org/entity/Q826477'), ('labelsObjects', 'Without a Trace')]\n",
      "[('property', 'http://www.wikidata.org/prop/direct/P4908'), ('labelProperty', 'season'), ('objects', 'http://www.wikidata.org/entity/Q1120248'), ('labelsObjects', 'Without a Trace, season 1')]\n",
      "7\n"
     ]
    }
   ],
   "source": [
    "queryString = \"\"\"\n",
    "SELECT DISTINCT ?property ?labelProperty (GROUP_CONCAT(?object ; separator = \",\")  AS ?objects) (GROUP_CONCAT(?labelObject; separator = \",\")  AS ?labelsObjects)\n",
    "WHERE \n",
    "{   \n",
    "   wd:Q52667904 ?property ?object .  \n",
    " \n",
    "   # Labels\n",
    "   ?property sc:name ?labelProperty .      \n",
    "   ?object sc:name ?labelObject\n",
    "   \n",
    "   FILTER(!isLiteral(?object)) .   \n",
    "}GROUP BY ?property ?labelProperty\n",
    "LIMIT 50\n",
    "\"\"\"\n",
    "print(\"Results\")\n",
    "x=run_query(queryString)"
   ]
  },
  {
   "cell_type": "markdown",
   "id": "5c24750a-d98a-40b7-a04b-bad8427f66f5",
   "metadata": {
    "tags": []
   },
   "source": [
    "### Get all the objects that contain exactly as label (sc:name) \"actor\" or \"actress\" for the object connected through \"occupation\" (wdt:P106)"
   ]
  },
  {
   "cell_type": "code",
   "execution_count": 40,
   "id": "05ddea09-8b69-487e-97fb-df78fbc57c35",
   "metadata": {},
   "outputs": [
    {
     "name": "stdout",
     "output_type": "stream",
     "text": [
      "Results\n",
      "[('occupation', 'http://www.wikidata.org/entity/Q8380347'), ('labelOccupation', 'AV actor'), ('occupationClass', 'http://www.wikidata.org/entity/Q12737077'), ('occupationClassLabel', 'occupation')]\n",
      "[('occupation', 'http://www.wikidata.org/entity/Q26262117'), ('labelOccupation', 'silent film actor'), ('occupationClass', 'http://www.wikidata.org/entity/Q4220920'), ('occupationClassLabel', 'filmmaking occupation')]\n",
      "[('occupation', 'http://www.wikidata.org/entity/Q52688389'), ('labelOccupation', 'animal actor'), ('occupationClass', 'http://www.wikidata.org/entity/Q1914636'), ('occupationClassLabel', 'activity')]\n",
      "[('occupation', 'http://www.wikidata.org/entity/Q10798782'), ('labelOccupation', 'television actor'), ('occupationClass', 'http://www.wikidata.org/entity/Q28640'), ('occupationClassLabel', 'profession')]\n",
      "[('occupation', 'http://www.wikidata.org/entity/Q10800557'), ('labelOccupation', 'film actor'), ('occupationClass', 'http://www.wikidata.org/entity/Q4220920'), ('occupationClassLabel', 'filmmaking occupation')]\n",
      "[('occupation', 'http://www.wikidata.org/entity/Q2259451'), ('labelOccupation', 'stage actor'), ('occupationClass', 'http://www.wikidata.org/entity/Q15839299'), ('occupationClassLabel', 'theatrical occupation')]\n",
      "[('occupation', 'http://www.wikidata.org/entity/Q2405480'), ('labelOccupation', 'voice actor'), ('occupationClass', 'http://www.wikidata.org/entity/Q4220920'), ('occupationClassLabel', 'filmmaking occupation')]\n",
      "[('occupation', 'http://www.wikidata.org/entity/Q33999'), ('labelOccupation', 'actor'), ('occupationClass', 'http://www.wikidata.org/entity/Q12737077'), ('occupationClassLabel', 'occupation')]\n",
      "[('occupation', 'http://www.wikidata.org/entity/Q33999'), ('labelOccupation', 'actor'), ('occupationClass', 'http://www.wikidata.org/entity/Q28640'), ('occupationClassLabel', 'profession')]\n",
      "[('occupation', 'http://www.wikidata.org/entity/Q33999'), ('labelOccupation', 'actor'), ('occupationClass', 'http://www.wikidata.org/entity/Q108300140'), ('occupationClassLabel', 'occupation group according to ISCO')]\n",
      "[('occupation', 'http://www.wikidata.org/entity/Q11481802'), ('labelOccupation', 'dub actor'), ('occupationClass', 'http://www.wikidata.org/entity/Q28640'), ('occupationClassLabel', 'profession')]\n",
      "[('occupation', 'http://www.wikidata.org/entity/Q488111'), ('labelOccupation', 'pornographic actor'), ('occupationClass', 'http://www.wikidata.org/entity/Q12737077'), ('occupationClassLabel', 'occupation')]\n",
      "[('occupation', 'http://www.wikidata.org/entity/Q948329'), ('labelOccupation', 'character actor'), ('occupationClass', 'http://www.wikidata.org/entity/Q28640'), ('occupationClassLabel', 'profession')]\n",
      "[('occupation', 'http://www.wikidata.org/entity/Q48146261'), ('labelOccupation', 'kabuki actor'), ('occupationClass', 'http://www.wikidata.org/entity/Q28640'), ('occupationClassLabel', 'profession')]\n",
      "[('occupation', 'http://www.wikidata.org/entity/Q98925420'), ('labelOccupation', 'KVN actor'), ('occupationClass', 'http://www.wikidata.org/entity/Q12737077'), ('occupationClassLabel', 'occupation')]\n",
      "[('occupation', 'http://www.wikidata.org/entity/Q10901338'), ('labelOccupation', 'action film actor'), ('occupationClass', 'http://www.wikidata.org/entity/Q28640'), ('occupationClassLabel', 'profession')]\n",
      "[('occupation', 'http://www.wikidata.org/entity/Q1314140'), ('labelOccupation', 'audio drama actor'), ('occupationClass', 'http://www.wikidata.org/entity/Q28640'), ('occupationClassLabel', 'profession')]\n",
      "[('occupation', 'http://www.wikidata.org/entity/Q970153'), ('labelOccupation', 'child actor'), ('occupationClass', 'http://www.wikidata.org/entity/Q28640'), ('occupationClassLabel', 'profession')]\n",
      "[('occupation', 'http://www.wikidata.org/entity/Q1800680'), ('labelOccupation', 'amateur actor'), ('occupationClass', 'http://www.wikidata.org/entity/Q12737077'), ('occupationClassLabel', 'occupation')]\n",
      "[('occupation', 'http://www.wikidata.org/entity/Q1954956'), ('labelOccupation', 'musical theatre actor'), ('occupationClass', 'http://www.wikidata.org/entity/Q28640'), ('occupationClassLabel', 'profession')]\n",
      "[('occupation', 'http://www.wikidata.org/entity/Q21169216'), ('labelOccupation', 'actress'), ('occupationClass', 'http://www.wikidata.org/entity/Q12737077'), ('occupationClassLabel', 'occupation')]\n",
      "[('occupation', 'http://www.wikidata.org/entity/Q21169216'), ('labelOccupation', 'actress'), ('occupationClass', 'http://www.wikidata.org/entity/Q28640'), ('occupationClassLabel', 'profession')]\n",
      "[('occupation', 'http://www.wikidata.org/entity/Q21169216'), ('labelOccupation', 'actress'), ('occupationClass', 'http://www.wikidata.org/entity/Q4164871'), ('occupationClassLabel', 'position')]\n",
      "[('occupation', 'http://www.wikidata.org/entity/Q1327557'), ('labelOccupation', 'popular actor'), ('occupationClass', 'http://www.wikidata.org/entity/Q28640'), ('occupationClassLabel', 'profession')]\n",
      "[('occupation', 'http://www.wikidata.org/entity/Q64012031'), ('labelOccupation', 'radio actor'), ('occupationClass', 'http://www.wikidata.org/entity/Q28640'), ('occupationClassLabel', 'profession')]\n",
      "[('occupation', 'http://www.wikidata.org/entity/Q1416106'), ('labelOccupation', 'supporting actor'), ('occupationClass', 'http://www.wikidata.org/entity/Q28640'), ('occupationClassLabel', 'profession')]\n",
      "[('occupation', 'http://www.wikidata.org/entity/Q21280562'), ('labelOccupation', 'radio drama actor'), ('occupationClass', 'http://www.wikidata.org/entity/Q28640'), ('occupationClassLabel', 'profession')]\n",
      "[('occupation', 'http://www.wikidata.org/entity/Q13060190'), ('labelOccupation', 'typecast actor'), ('occupationClass', 'http://www.wikidata.org/entity/Q4220920'), ('occupationClassLabel', 'filmmaking occupation')]\n",
      "[('occupation', 'http://www.wikidata.org/entity/Q4677709'), ('labelOccupation', 'actor-manager'), ('occupationClass', 'http://www.wikidata.org/entity/Q28640'), ('occupationClassLabel', 'profession')]\n",
      "29\n"
     ]
    }
   ],
   "source": [
    "queryString = \"\"\"\n",
    "SELECT DISTINCT ?occupation ?labelOccupation ?occupationClass ?occupationClassLabel\n",
    "WHERE \n",
    "{   \n",
    "   ?actor wdt:P106 ?occupation .\n",
    "   ?occupation sc:name ?labelOccupation ;\n",
    "               wdt:P31 ?occupationClass .\n",
    "   ?occupationClass sc:name ?occupationClassLabel .   \n",
    "   FILTER (REGEX (?labelOccupation, \"(?:^|\\\\\\\\W)actor(?:$|\\\\\\\\W)\") || REGEX (?labelOccupation, \"(?:^|\\\\\\\\W)actress(?:$|\\\\\\\\W)\"))  .   \n",
    "}\n",
    "LIMIT 50\n",
    "\"\"\"\n",
    "print(\"Results\")\n",
    "x=run_query(queryString)"
   ]
  },
  {
   "cell_type": "markdown",
   "id": "98aa2be8-9b6f-4914-a9d0-1a7c5fe0b038",
   "metadata": {
    "tags": []
   },
   "source": [
    "### Final Query\n",
    "This task in my opinion can be interpreted in 2 different ways :\n",
    "\n",
    "\"television series episodes\" mentioned in the text the task can be interpreted generally.\n",
    "\"television series episodes\" are the episodes of \"Without a Trace\" (wd:Q826477)"
   ]
  },
  {
   "cell_type": "markdown",
   "id": "8f659aed",
   "metadata": {},
   "source": [
    "Final query for this task"
   ]
  },
  {
   "cell_type": "markdown",
   "id": "0ed708e4-9444-4fc1-9259-10c09a29f39c",
   "metadata": {},
   "source": [
    "#### First Interpretation"
   ]
  },
  {
   "cell_type": "code",
   "execution_count": 22,
   "id": "e65f0e2f",
   "metadata": {},
   "outputs": [
    {
     "name": "stdout",
     "output_type": "stream",
     "text": [
      "Results\n",
      "[('castMember', 'http://www.wikidata.org/entity/Q32522'), ('labelCastMember', 'Jennifer Aniston'), ('numberOfEpisodes', '1185')]\n",
      "[('castMember', 'http://www.wikidata.org/entity/Q179041'), ('labelCastMember', 'Lisa Kudrow'), ('numberOfEpisodes', '1180')]\n",
      "[('castMember', 'http://www.wikidata.org/entity/Q316955'), ('labelCastMember', 'Michael Dorn'), ('numberOfEpisodes', '1004')]\n",
      "[('castMember', 'http://www.wikidata.org/entity/Q58912'), ('labelCastMember', 'Courteney Cox'), ('numberOfEpisodes', '960')]\n",
      "[('castMember', 'http://www.wikidata.org/entity/Q16296'), ('labelCastMember', 'Patrick Stewart'), ('numberOfEpisodes', '950')]\n",
      "[('castMember', 'http://www.wikidata.org/entity/Q188792'), ('labelCastMember', 'David Schwimmer'), ('numberOfEpisodes', '944')]\n",
      "[('castMember', 'http://www.wikidata.org/entity/Q311453'), ('labelCastMember', 'Brent Spiner'), ('numberOfEpisodes', '925')]\n",
      "[('castMember', 'http://www.wikidata.org/entity/Q103946'), ('labelCastMember', 'Kiefer Sutherland'), ('numberOfEpisodes', '920')]\n",
      "[('castMember', 'http://www.wikidata.org/entity/Q485310'), ('labelCastMember', 'Neil Patrick Harris'), ('numberOfEpisodes', '870')]\n",
      "[('castMember', 'http://www.wikidata.org/entity/Q229487'), ('labelCastMember', 'Allison Janney'), ('numberOfEpisodes', '785')]\n",
      "[('castMember', 'http://www.wikidata.org/entity/Q184572'), ('labelCastMember', 'Martin Sheen'), ('numberOfEpisodes', '780')]\n",
      "[('castMember', 'http://www.wikidata.org/entity/Q346595'), ('labelCastMember', 'Jonathan Frakes'), ('numberOfEpisodes', '728')]\n",
      "[('castMember', 'http://www.wikidata.org/entity/Q223455'), ('labelCastMember', 'Josh Radnor'), ('numberOfEpisodes', '725')]\n",
      "[('castMember', 'http://www.wikidata.org/entity/Q232945'), ('labelCastMember', 'Marina Sirtis'), ('numberOfEpisodes', '720')]\n",
      "[('castMember', 'http://www.wikidata.org/entity/Q186896'), ('labelCastMember', 'Matt LeBlanc'), ('numberOfEpisodes', '708')]\n",
      "[('castMember', 'http://www.wikidata.org/entity/Q308124'), ('labelCastMember', 'Anthony LaPaglia'), ('numberOfEpisodes', '640')]\n",
      "[('castMember', 'http://www.wikidata.org/entity/Q503040'), ('labelCastMember', 'Eric Close'), ('numberOfEpisodes', '640')]\n",
      "[('castMember', 'http://www.wikidata.org/entity/Q355209'), ('labelCastMember', 'Richard Schiff'), ('numberOfEpisodes', '624')]\n",
      "[('castMember', 'http://www.wikidata.org/entity/Q179960'), ('labelCastMember', 'Steven Hill'), ('numberOfEpisodes', '620')]\n",
      "[('castMember', 'http://www.wikidata.org/entity/Q231576'), ('labelCastMember', 'Nana Visitor'), ('numberOfEpisodes', '610')]\n",
      "[('castMember', 'http://www.wikidata.org/entity/Q366012'), ('labelCastMember', 'Avery Brooks'), ('numberOfEpisodes', '610')]\n",
      "[('castMember', 'http://www.wikidata.org/entity/Q114447'), ('labelCastMember', 'Janel Moloney'), ('numberOfEpisodes', '600')]\n",
      "[('castMember', 'http://www.wikidata.org/entity/Q230038'), ('labelCastMember', 'Kate Mulgrew'), ('numberOfEpisodes', '596')]\n",
      "[('castMember', 'http://www.wikidata.org/entity/Q452232'), ('labelCastMember', 'Tim Russ'), ('numberOfEpisodes', '596')]\n",
      "[('castMember', 'http://www.wikidata.org/entity/Q348445'), ('labelCastMember', 'René Auberjonois'), ('numberOfEpisodes', '595')]\n",
      "[('castMember', 'http://www.wikidata.org/entity/Q367549'), ('labelCastMember', 'Robert Beltran'), ('numberOfEpisodes', '592')]\n",
      "[('castMember', 'http://www.wikidata.org/entity/Q199927'), ('labelCastMember', 'Alyson Hannigan'), ('numberOfEpisodes', '592')]\n",
      "[('castMember', 'http://www.wikidata.org/entity/Q551354'), ('labelCastMember', 'Garrett Wang'), ('numberOfEpisodes', '588')]\n",
      "[('castMember', 'http://www.wikidata.org/entity/Q202304'), ('labelCastMember', 'Jason Segel'), ('numberOfEpisodes', '580')]\n",
      "[('castMember', 'http://www.wikidata.org/entity/Q333544'), ('labelCastMember', 'Bob Saget'), ('numberOfEpisodes', '568')]\n",
      "[('castMember', 'http://www.wikidata.org/entity/Q76149'), ('labelCastMember', 'Christian Tramitz'), ('numberOfEpisodes', '568')]\n",
      "[('castMember', 'http://www.wikidata.org/entity/Q123836'), ('labelCastMember', 'Danny Pino'), ('numberOfEpisodes', '568')]\n",
      "[('castMember', 'http://www.wikidata.org/entity/Q421707'), ('labelCastMember', 'Jerry Orbach'), ('numberOfEpisodes', '530')]\n",
      "[('castMember', 'http://www.wikidata.org/entity/Q313671'), ('labelCastMember', 'Colm Meaney'), ('numberOfEpisodes', '496')]\n",
      "[('castMember', 'http://www.wikidata.org/entity/Q235075'), ('labelCastMember', 'Poppy Montgomery'), ('numberOfEpisodes', '480')]\n",
      "[('castMember', 'http://www.wikidata.org/entity/Q430872'), ('labelCastMember', 'Marianne Jean-Baptiste'), ('numberOfEpisodes', '480')]\n",
      "[('castMember', 'http://www.wikidata.org/entity/Q551608'), ('labelCastMember', 'Enrique Murciano'), ('numberOfEpisodes', '480')]\n",
      "[('castMember', 'http://www.wikidata.org/entity/Q171758'), ('labelCastMember', 'Matthew Perry'), ('numberOfEpisodes', '478')]\n",
      "[('castMember', 'http://www.wikidata.org/entity/Q312570'), ('labelCastMember', 'LeVar Burton'), ('numberOfEpisodes', '474')]\n",
      "[('castMember', 'http://www.wikidata.org/entity/Q253764'), ('labelCastMember', 'Gates McFadden'), ('numberOfEpisodes', '471')]\n",
      "[('castMember', 'http://www.wikidata.org/entity/Q616960'), ('labelCastMember', 'Stephen Amell'), ('numberOfEpisodes', '468')]\n",
      "[('castMember', 'http://www.wikidata.org/entity/Q352748'), ('labelCastMember', 'John Spencer'), ('numberOfEpisodes', '468')]\n",
      "[('castMember', 'http://www.wikidata.org/entity/Q352180'), ('labelCastMember', 'Bradley Whitford'), ('numberOfEpisodes', '465')]\n",
      "[('castMember', 'http://www.wikidata.org/entity/Q229908'), ('labelCastMember', 'Katie Cassidy'), ('numberOfEpisodes', '460')]\n",
      "[('castMember', 'http://www.wikidata.org/entity/Q1706191'), ('labelCastMember', 'David Ramsey'), ('numberOfEpisodes', '456')]\n",
      "[('castMember', 'http://www.wikidata.org/entity/Q313789'), ('labelCastMember', 'Robert Picardo'), ('numberOfEpisodes', '453')]\n",
      "[('castMember', 'http://www.wikidata.org/entity/Q353101'), ('labelCastMember', 'Armin Shimerman'), ('numberOfEpisodes', '452')]\n",
      "[('castMember', 'http://www.wikidata.org/entity/Q234512'), ('labelCastMember', 'Willa Holland'), ('numberOfEpisodes', '452')]\n",
      "[('castMember', 'http://www.wikidata.org/entity/Q435475'), ('labelCastMember', 'Ethan Phillips'), ('numberOfEpisodes', '450')]\n",
      "[('castMember', 'http://www.wikidata.org/entity/Q508333'), ('labelCastMember', 'Robert Duncan McNeill'), ('numberOfEpisodes', '444')]\n",
      "50\n"
     ]
    }
   ],
   "source": [
    "queryString = \"\"\"\n",
    "SELECT DISTINCT ?castMember ?labelCastMember (COUNT(?tvSerieEpisode) AS ?numberOfEpisodes)\n",
    "WHERE \n",
    "{   \n",
    "   #Among all episodes of \"television series\" select the cast members that are actors or actress and, count the number of episodes such actors have done\n",
    "   ?tvSerieEpisode wdt:P31 wd:Q21191270 ;\n",
    "                   wdt:P161 ?castMember .\n",
    "   ?castMember wdt:P106 ?occupation .   \n",
    "   \n",
    "   #Labels\n",
    "   ?occupation sc:name ?labelOccupation .\n",
    "   ?castMember sc:name ?labelCastMember .\n",
    "   \n",
    "   FILTER (REGEX (?labelOccupation, \"(?:^|\\\\\\\\W)actor(?:$|\\\\\\\\W)\") || REGEX (?labelOccupation, \"(?:^|\\\\\\\\W)actress(?:$|\\\\\\\\W)\"))  .   \n",
    "}GROUP BY ?castMember ?labelCastMember\n",
    "ORDER BY DESC (?numberOfEpisodes)\n",
    "LIMIT 50\n",
    "\"\"\"\n",
    "print(\"Results\")\n",
    "x=run_query(queryString)"
   ]
  },
  {
   "cell_type": "markdown",
   "id": "9db8d1d5-0b48-4f5e-ba15-f80ae62d4efc",
   "metadata": {},
   "source": [
    "#### Second Interpretation"
   ]
  },
  {
   "cell_type": "code",
   "execution_count": 21,
   "id": "3b139ebe-de77-498d-80e6-fa93fa8b436c",
   "metadata": {},
   "outputs": [
    {
     "name": "stdout",
     "output_type": "stream",
     "text": [
      "Results\n",
      "[('castMember', 'http://www.wikidata.org/entity/Q308124'), ('labelCastMember', 'Anthony LaPaglia'), ('numberOfEpisodes', '640')]\n",
      "[('castMember', 'http://www.wikidata.org/entity/Q503040'), ('labelCastMember', 'Eric Close'), ('numberOfEpisodes', '640')]\n",
      "[('castMember', 'http://www.wikidata.org/entity/Q235075'), ('labelCastMember', 'Poppy Montgomery'), ('numberOfEpisodes', '480')]\n",
      "[('castMember', 'http://www.wikidata.org/entity/Q551608'), ('labelCastMember', 'Enrique Murciano'), ('numberOfEpisodes', '480')]\n",
      "[('castMember', 'http://www.wikidata.org/entity/Q430872'), ('labelCastMember', 'Marianne Jean-Baptiste'), ('numberOfEpisodes', '480')]\n",
      "[('castMember', 'http://www.wikidata.org/entity/Q373989'), ('labelCastMember', 'David Paymer'), ('numberOfEpisodes', '5')]\n",
      "[('castMember', 'http://www.wikidata.org/entity/Q706513'), ('labelCastMember', 'Charles S. Dutton'), ('numberOfEpisodes', '4')]\n",
      "[('castMember', 'http://www.wikidata.org/entity/Q355163'), ('labelCastMember', 'Bruce Davison'), ('numberOfEpisodes', '4')]\n",
      "[('castMember', 'http://www.wikidata.org/entity/Q459638'), ('labelCastMember', 'Stacy Edwards'), ('numberOfEpisodes', '3')]\n",
      "[('castMember', 'http://www.wikidata.org/entity/Q1721796'), ('labelCastMember', 'Kaitlin Doubleday'), ('numberOfEpisodes', '3')]\n",
      "[('castMember', 'http://www.wikidata.org/entity/Q297128'), ('labelCastMember', 'David Henrie'), ('numberOfEpisodes', '3')]\n",
      "[('castMember', 'http://www.wikidata.org/entity/Q1378361'), ('labelCastMember', 'Kyle Secor'), ('numberOfEpisodes', '3')]\n",
      "[('castMember', 'http://www.wikidata.org/entity/Q3265830'), ('labelCastMember', 'Lucille Soong'), ('numberOfEpisodes', '3')]\n",
      "[('castMember', 'http://www.wikidata.org/entity/Q139341'), ('labelCastMember', 'Zach Grenier'), ('numberOfEpisodes', '3')]\n",
      "[('castMember', 'http://www.wikidata.org/entity/Q1125651'), ('labelCastMember', 'Thom Barry'), ('numberOfEpisodes', '3')]\n",
      "[('castMember', 'http://www.wikidata.org/entity/Q4769249'), ('labelCastMember', 'Annie Burgstede'), ('numberOfEpisodes', '3')]\n",
      "[('castMember', 'http://www.wikidata.org/entity/Q19519424'), ('labelCastMember', 'Jessie Usher'), ('numberOfEpisodes', '3')]\n",
      "[('castMember', 'http://www.wikidata.org/entity/Q445325'), ('labelCastMember', 'Megan Gallagher'), ('numberOfEpisodes', '3')]\n",
      "[('castMember', 'http://www.wikidata.org/entity/Q60545340'), ('labelCastMember', 'Lindsey Kraft'), ('numberOfEpisodes', '3')]\n",
      "[('castMember', 'http://www.wikidata.org/entity/Q462343'), ('labelCastMember', 'Rosemary Forsyth'), ('numberOfEpisodes', '3')]\n",
      "[('castMember', 'http://www.wikidata.org/entity/Q5363239'), ('labelCastMember', 'Elizabeth Morehead'), ('numberOfEpisodes', '2')]\n",
      "[('castMember', 'http://www.wikidata.org/entity/Q3260118'), ('labelCastMember', 'Lou Cutell'), ('numberOfEpisodes', '2')]\n",
      "[('castMember', 'http://www.wikidata.org/entity/Q2923471'), ('labelCastMember', 'Bradford Tatum'), ('numberOfEpisodes', '2')]\n",
      "[('castMember', 'http://www.wikidata.org/entity/Q6832453'), ('labelCastMember', 'Michael Maize'), ('numberOfEpisodes', '2')]\n",
      "[('castMember', 'http://www.wikidata.org/entity/Q238501'), ('labelCastMember', 'Alex Veadov'), ('numberOfEpisodes', '2')]\n",
      "[('castMember', 'http://www.wikidata.org/entity/Q64684485'), ('labelCastMember', 'Caris Vujcec'), ('numberOfEpisodes', '1')]\n",
      "[('castMember', 'http://www.wikidata.org/entity/Q20651783'), ('labelCastMember', 'Jenica Bergere'), ('numberOfEpisodes', '1')]\n",
      "[('castMember', 'http://www.wikidata.org/entity/Q18618690'), ('labelCastMember', 'John Livingston'), ('numberOfEpisodes', '1')]\n",
      "[('castMember', 'http://www.wikidata.org/entity/Q2927620'), ('labelCastMember', 'Denise Dowse'), ('numberOfEpisodes', '1')]\n",
      "[('castMember', 'http://www.wikidata.org/entity/Q22704603'), ('labelCastMember', 'Lily Knight'), ('numberOfEpisodes', '1')]\n",
      "30\n"
     ]
    }
   ],
   "source": [
    "queryString = \"\"\"\n",
    "SELECT DISTINCT ?castMember ?labelCastMember (COUNT(?tvSerieEpisode) AS ?numberOfEpisodes)\n",
    "WHERE \n",
    "{   \n",
    "   #Among all episodes of \"television series\" select the cast members that are actors or actress and, count the number of episodes such actors have done\n",
    "   wd:Q826477 wdt:P527 ?tvSeriePart .\n",
    "   ?tvSeriePart wdt:P527 ?tvSerieEpisode .\n",
    "   ?tvSerieEpisode wdt:P31 wd:Q21191270 ;\n",
    "                   wdt:P161 ?castMember .\n",
    "   ?castMember wdt:P106 ?occupation .      \n",
    "   \n",
    "   #Labels\n",
    "   ?occupation sc:name ?labelOccupation .\n",
    "   ?castMember sc:name ?labelCastMember .\n",
    "   \n",
    "   FILTER (REGEX (?labelOccupation, \"(?:^|\\\\\\\\W)actor(?:$|\\\\\\\\W)\") || REGEX (?labelOccupation, \"(?:^|\\\\\\\\W)actress(?:$|\\\\\\\\W)\"))  .   \n",
    "}GROUP BY ?castMember ?labelCastMember \n",
    "ORDER BY DESC (?numberOfEpisodes)\n",
    "LIMIT 50\n",
    "\"\"\"\n",
    "print(\"Results\")\n",
    "x=run_query(queryString)"
   ]
  },
  {
   "cell_type": "markdown",
   "id": "8a31738a",
   "metadata": {
    "tags": []
   },
   "source": [
    "## Task 4\n",
    "Check who is the actor who acted in more films while working on \"Without a Trace\" (the result set must be a list of triples actor/actress IRI, label and #films)."
   ]
  },
  {
   "cell_type": "markdown",
   "id": "bb71f2f3-2cdd-4f08-ac41-29bcf0d3da8c",
   "metadata": {
    "tags": []
   },
   "source": [
    "### Get all data property of \"Cold Case\" (wd:Q733960)"
   ]
  },
  {
   "cell_type": "code",
   "execution_count": 44,
   "id": "135c9626-b08b-405d-8309-54a599b3ae2d",
   "metadata": {},
   "outputs": [
    {
     "name": "stdout",
     "output_type": "stream",
     "text": [
      "Results\n",
      "[('property', 'http://www.wikidata.org/prop/direct/P5829'), ('label', 'Television Academy Foundation show ID')]\n",
      "[('property', 'http://www.wikidata.org/prop/direct/P1113'), ('label', 'number of episodes')]\n",
      "[('property', 'http://www.wikidata.org/prop/direct/P1258'), ('label', 'Rotten Tomatoes ID')]\n",
      "[('property', 'http://www.wikidata.org/prop/direct/P1267'), ('label', 'AlloCiné series ID')]\n",
      "[('property', 'http://www.wikidata.org/prop/direct/P1476'), ('label', 'title')]\n",
      "[('property', 'http://www.wikidata.org/prop/direct/P1712'), ('label', 'Metacritic ID')]\n",
      "[('property', 'http://www.wikidata.org/prop/direct/P2013'), ('label', 'Facebook ID')]\n",
      "[('property', 'http://www.wikidata.org/prop/direct/P2047'), ('label', 'duration')]\n",
      "[('property', 'http://www.wikidata.org/prop/direct/P2437'), ('label', 'number of seasons')]\n",
      "[('property', 'http://www.wikidata.org/prop/direct/P2529'), ('label', 'ČSFD film ID')]\n",
      "[('property', 'http://www.wikidata.org/prop/direct/P2581'), ('label', 'BabelNet ID')]\n",
      "[('property', 'http://www.wikidata.org/prop/direct/P2603'), ('label', 'Kinopoisk film ID')]\n",
      "[('property', 'http://www.wikidata.org/prop/direct/P2638'), ('label', 'TV.com ID')]\n",
      "[('property', 'http://www.wikidata.org/prop/direct/P2703'), ('label', 'BFI National Archive work ID')]\n",
      "[('property', 'http://www.wikidata.org/prop/direct/P2704'), ('label', 'EIDR content ID')]\n",
      "[('property', 'http://www.wikidata.org/prop/direct/P3121'), ('label', 'Epguides ID')]\n",
      "[('property', 'http://www.wikidata.org/prop/direct/P3138'), ('label', 'OFDb film ID')]\n",
      "[('property', 'http://www.wikidata.org/prop/direct/P3302'), ('label', 'Open Media Database film ID')]\n",
      "[('property', 'http://www.wikidata.org/prop/direct/P345'), ('label', 'IMDb ID')]\n",
      "[('property', 'http://www.wikidata.org/prop/direct/P3804'), ('label', 'TV Guide show ID (former scheme)')]\n",
      "[('property', 'http://www.wikidata.org/prop/direct/P4073'), ('label', 'Fandom wiki ID')]\n",
      "[('property', 'http://www.wikidata.org/prop/direct/P4438'), ('label', 'BFI Films, TV and people ID')]\n",
      "[('property', 'http://www.wikidata.org/prop/direct/P4665'), ('label', 'CineMagia title ID')]\n",
      "[('property', 'http://www.wikidata.org/prop/direct/P4835'), ('label', 'TheTVDB.com series ID')]\n",
      "[('property', 'http://www.wikidata.org/prop/direct/P4983'), ('label', 'TMDb TV series ID')]\n",
      "[('property', 'http://www.wikidata.org/prop/direct/P5099'), ('label', 'Il mondo dei doppiatori ID')]\n",
      "[('property', 'http://www.wikidata.org/prop/direct/P5327'), ('label', 'fernsehserien.de ID')]\n",
      "[('property', 'http://www.wikidata.org/prop/direct/P580'), ('label', 'start time')]\n",
      "[('property', 'http://www.wikidata.org/prop/direct/P582'), ('label', 'end time')]\n",
      "[('property', 'http://www.wikidata.org/prop/direct/P5925'), ('label', 'Moviepilot.de series ID')]\n",
      "[('property', 'http://www.wikidata.org/prop/direct/P646'), ('label', 'Freebase ID')]\n",
      "[('property', 'http://www.wikidata.org/prop/direct/P8013'), ('label', 'Trakt.tv ID')]\n",
      "[('property', 'http://www.wikidata.org/prop/direct/P8278'), ('label', 'serial identifier on SerialZone')]\n",
      "[('property', 'http://www.wikidata.org/prop/direct/P4834'), ('label', 'Deutsche Synchronkartei series ID')]\n",
      "[('property', 'http://www.wikidata.org/prop/direct/P6643'), ('label', 'TV Spielfilm series ID')]\n",
      "[('property', 'http://www.wikidata.org/prop/direct/P7107'), ('label', 'LezWatch.TV show ID')]\n",
      "36\n"
     ]
    }
   ],
   "source": [
    "queryString = \"\"\"\n",
    "SELECT DISTINCT ?property ?label\n",
    "WHERE {   \n",
    "   wd:Q733960 ?property ?object .\n",
    "   ?property sc:name ?label .\n",
    "   FILTER(isLiteral(?object)) .   \n",
    "}\n",
    "\"\"\"\n",
    "print(\"Results\")\n",
    "x=run_query(queryString)"
   ]
  },
  {
   "cell_type": "markdown",
   "id": "9f3f327d-cb52-49f2-bda4-53ea772f91cb",
   "metadata": {
    "tags": []
   },
   "source": [
    "### Get all data property of \"Cold Case\" (wd:Q733960) that do not contain ID"
   ]
  },
  {
   "cell_type": "code",
   "execution_count": 45,
   "id": "22a9c22e-f78f-4b89-8dcc-8ef2b9091f0f",
   "metadata": {},
   "outputs": [
    {
     "name": "stdout",
     "output_type": "stream",
     "text": [
      "Results\n",
      "[('property', 'http://www.wikidata.org/prop/direct/P1113'), ('label', 'number of episodes')]\n",
      "[('property', 'http://www.wikidata.org/prop/direct/P1476'), ('label', 'title')]\n",
      "[('property', 'http://www.wikidata.org/prop/direct/P2047'), ('label', 'duration')]\n",
      "[('property', 'http://www.wikidata.org/prop/direct/P2437'), ('label', 'number of seasons')]\n",
      "[('property', 'http://www.wikidata.org/prop/direct/P580'), ('label', 'start time')]\n",
      "[('property', 'http://www.wikidata.org/prop/direct/P582'), ('label', 'end time')]\n",
      "[('property', 'http://www.wikidata.org/prop/direct/P8278'), ('label', 'serial identifier on SerialZone')]\n",
      "7\n"
     ]
    }
   ],
   "source": [
    "queryString = \"\"\"\n",
    "SELECT DISTINCT ?property ?label\n",
    "WHERE {   \n",
    "   wd:Q733960 ?property ?object .\n",
    "   ?property sc:name ?label .\n",
    "   FILTER(isLiteral(?object)) .\n",
    "   FILTER REGEX(?label, \"^((?!ID).)*$\") . \n",
    "}\n",
    "\"\"\"\n",
    "print(\"Results\")\n",
    "x=run_query(queryString)"
   ]
  },
  {
   "cell_type": "markdown",
   "id": "5bc9bba0-fc12-4829-8f7c-b927500dde97",
   "metadata": {
    "tags": []
   },
   "source": [
    "### Get the class of \"Cold Case\" (wd:Q733960)"
   ]
  },
  {
   "cell_type": "code",
   "execution_count": 47,
   "id": "59b8cf7c-2b3f-4e3d-a29b-40c9d1c972c5",
   "metadata": {},
   "outputs": [
    {
     "name": "stdout",
     "output_type": "stream",
     "text": [
      "Results\n",
      "[('class', 'http://www.wikidata.org/entity/Q5398426'), ('label', 'television series')]\n",
      "1\n"
     ]
    }
   ],
   "source": [
    "queryString = \"\"\"\n",
    "SELECT DISTINCT ?class ?label\n",
    "WHERE {   \n",
    "   wd:Q733960 wdt:P31 ?class .\n",
    "   ?class sc:name ?label .     \n",
    "}\n",
    "\"\"\"\n",
    "print(\"Results\")\n",
    "x=run_query(queryString)"
   ]
  },
  {
   "cell_type": "markdown",
   "id": "84f9ca42-3d46-44b7-ac9f-90fd5d8f26f9",
   "metadata": {
    "tags": []
   },
   "source": [
    "### Get all object properties of \"Cold Case\" (wd:Q733960)"
   ]
  },
  {
   "cell_type": "code",
   "execution_count": 48,
   "id": "f63ec255-fe86-4db2-8f25-f40375c6352c",
   "metadata": {},
   "outputs": [
    {
     "name": "stdout",
     "output_type": "stream",
     "text": [
      "Results\n",
      "[('property', 'http://www.wikidata.org/prop/direct/P136'), ('label', 'genre')]\n",
      "[('property', 'http://www.wikidata.org/prop/direct/P154'), ('label', 'logo image')]\n",
      "[('property', 'http://www.wikidata.org/prop/direct/P161'), ('label', 'cast member')]\n",
      "[('property', 'http://www.wikidata.org/prop/direct/P170'), ('label', 'creator')]\n",
      "[('property', 'http://www.wikidata.org/prop/direct/P1811'), ('label', 'list of episodes')]\n",
      "[('property', 'http://www.wikidata.org/prop/direct/P2061'), ('label', 'aspect ratio')]\n",
      "[('property', 'http://www.wikidata.org/prop/direct/P31'), ('label', 'instance of')]\n",
      "[('property', 'http://www.wikidata.org/prop/direct/P364'), ('label', 'original language of film or TV show')]\n",
      "[('property', 'http://www.wikidata.org/prop/direct/P449'), ('label', 'original broadcaster')]\n",
      "[('property', 'http://www.wikidata.org/prop/direct/P495'), ('label', 'country of origin')]\n",
      "[('property', 'http://www.wikidata.org/prop/direct/P527'), ('label', 'has part')]\n",
      "[('property', 'http://www.wikidata.org/prop/direct/P57'), ('label', 'director')]\n",
      "[('property', 'http://www.wikidata.org/prop/direct/P674'), ('label', 'characters')]\n",
      "[('property', 'http://www.wikidata.org/prop/direct/P750'), ('label', 'distributed by')]\n",
      "[('property', 'http://www.wikidata.org/prop/direct/P840'), ('label', 'narrative location')]\n",
      "[('property', 'http://www.wikidata.org/prop/direct/P856'), ('label', 'official website')]\n",
      "[('property', 'http://www.wikidata.org/prop/direct/P86'), ('label', 'composer')]\n",
      "[('property', 'http://www.wikidata.org/prop/direct/P910'), ('label', \"topic's main category\")]\n",
      "[('property', 'http://www.wikidata.org/prop/direct/P921'), ('label', 'main subject')]\n",
      "[('property', 'http://www.wikidata.org/prop/direct/P1431'), ('label', 'executive producer')]\n",
      "20\n"
     ]
    }
   ],
   "source": [
    "queryString = \"\"\"\n",
    "SELECT DISTINCT ?property ?label\n",
    "WHERE {   \n",
    "   wd:Q733960 ?property ?object .\n",
    "   ?property sc:name ?label .\n",
    "   FILTER(!isLiteral(?object)) .   \n",
    "}\n",
    "\"\"\"\n",
    "\n",
    "print(\"Results\")\n",
    "x=run_query(queryString)"
   ]
  },
  {
   "cell_type": "markdown",
   "id": "d12296da-2970-4935-a8c5-13fe08d7b263",
   "metadata": {
    "tags": []
   },
   "source": [
    "### Get all the classes connected to \"Cold Case\" (wd:Q733960)"
   ]
  },
  {
   "cell_type": "code",
   "execution_count": 49,
   "id": "e369f2b9-a70c-440c-b8f9-b35c2a93356a",
   "metadata": {},
   "outputs": [
    {
     "name": "stdout",
     "output_type": "stream",
     "text": [
      "Results\n",
      "[('objectClass', 'http://www.wikidata.org/entity/Q1489259'), ('label', 'superpower')]\n",
      "[('objectClass', 'http://www.wikidata.org/entity/Q95074'), ('label', 'fictional character')]\n",
      "[('objectClass', 'http://www.wikidata.org/entity/Q15961987'), ('label', 'television genre')]\n",
      "[('objectClass', 'http://www.wikidata.org/entity/Q99541706'), ('label', 'historical unrecognized state')]\n",
      "[('objectClass', 'http://www.wikidata.org/entity/Q1758690'), ('label', 'municipal police')]\n",
      "[('objectClass', 'http://www.wikidata.org/entity/Q21010817'), ('label', 'city of Pennsylvania')]\n",
      "[('objectClass', 'http://www.wikidata.org/entity/Q1254874'), ('label', 'television network')]\n",
      "[('objectClass', 'http://www.wikidata.org/entity/Q1288568'), ('label', 'modern language')]\n",
      "[('objectClass', 'http://www.wikidata.org/entity/Q13406463'), ('label', 'Wikimedia list article')]\n",
      "[('objectClass', 'http://www.wikidata.org/entity/Q1520223'), ('label', 'constitutional republic')]\n",
      "[('objectClass', 'http://www.wikidata.org/entity/Q15773317'), ('label', 'television character')]\n",
      "[('objectClass', 'http://www.wikidata.org/entity/Q1637706'), ('label', 'million city')]\n",
      "[('objectClass', 'http://www.wikidata.org/entity/Q33742'), ('label', 'natural language')]\n",
      "[('objectClass', 'http://www.wikidata.org/entity/Q34770'), ('label', 'language')]\n",
      "[('objectClass', 'http://www.wikidata.org/entity/Q3624078'), ('label', 'sovereign state')]\n",
      "[('objectClass', 'http://www.wikidata.org/entity/Q4167836'), ('label', 'Wikimedia category')]\n",
      "[('objectClass', 'http://www.wikidata.org/entity/Q4830453'), ('label', 'business')]\n",
      "[('objectClass', 'http://www.wikidata.org/entity/Q5'), ('label', 'human')]\n",
      "[('objectClass', 'http://www.wikidata.org/entity/Q512187'), ('label', 'federal republic')]\n",
      "[('objectClass', 'http://www.wikidata.org/entity/Q5255892'), ('label', 'democratic republic')]\n",
      "[('objectClass', 'http://www.wikidata.org/entity/Q62049'), ('label', 'county seat')]\n",
      "[('objectClass', 'http://www.wikidata.org/entity/Q6256'), ('label', 'country')]\n",
      "[('objectClass', 'http://www.wikidata.org/entity/Q1061197'), ('label', 'radio network')]\n",
      "[('objectClass', 'http://www.wikidata.org/entity/Q1616075'), ('label', 'television station')]\n",
      "[('objectClass', 'http://www.wikidata.org/entity/Q3464665'), ('label', 'television series season')]\n",
      "[('objectClass', 'http://www.wikidata.org/entity/Q108465955'), ('label', 'fiction genre')]\n",
      "[('objectClass', 'http://www.wikidata.org/entity/Q759853'), ('label', 'film format')]\n",
      "[('objectClass', 'http://www.wikidata.org/entity/Q1441762'), ('label', 'aspect ratio')]\n",
      "[('objectClass', 'http://www.wikidata.org/entity/Q20970434'), ('label', 'width to height ratio')]\n",
      "29\n"
     ]
    }
   ],
   "source": [
    "queryString = \"\"\"\n",
    "SELECT DISTINCT ?objectClass ?label\n",
    "WHERE {   \n",
    "   wd:Q733960 ?property ?object .\n",
    "   ?object wdt:P31 ?objectClass .\n",
    "   ?objectClass sc:name ?label .\n",
    "   FILTER(!isLiteral(?object)) .   \n",
    "}\n",
    "\"\"\"\n",
    "print(\"Results\")\n",
    "x=run_query(queryString)"
   ]
  },
  {
   "cell_type": "markdown",
   "id": "d8d376c6-0207-4719-9083-70a219b1d2ab",
   "metadata": {
    "tags": []
   },
   "source": [
    "### Get all the couples (object property - list of the classes of the objects that are connected to \"Cold Case\" (wd:Q733960) through that object property)"
   ]
  },
  {
   "cell_type": "code",
   "execution_count": 50,
   "id": "7f638b1f-4da2-44f0-bed5-6a3208eb8a52",
   "metadata": {},
   "outputs": [
    {
     "name": "stdout",
     "output_type": "stream",
     "text": [
      "Results\n",
      "[('property', 'http://www.wikidata.org/prop/direct/P2061'), ('labelProperty', 'aspect ratio'), ('objectsClasses', 'http://www.wikidata.org/entity/Q759853,http://www.wikidata.org/entity/Q1441762,http://www.wikidata.org/entity/Q20970434'), ('labelsObjectsClasses', 'film format,aspect ratio,width to height ratio')]\n",
      "[('property', 'http://www.wikidata.org/prop/direct/P57'), ('labelProperty', 'director'), ('objectsClasses', 'http://www.wikidata.org/entity/Q5'), ('labelsObjectsClasses', 'human')]\n",
      "[('property', 'http://www.wikidata.org/prop/direct/P170'), ('labelProperty', 'creator'), ('objectsClasses', 'http://www.wikidata.org/entity/Q5'), ('labelsObjectsClasses', 'human')]\n",
      "[('property', 'http://www.wikidata.org/prop/direct/P527'), ('labelProperty', 'has part'), ('objectsClasses', 'http://www.wikidata.org/entity/Q3464665,http://www.wikidata.org/entity/Q3464665,http://www.wikidata.org/entity/Q3464665,http://www.wikidata.org/entity/Q3464665,http://www.wikidata.org/entity/Q3464665,http://www.wikidata.org/entity/Q3464665,http://www.wikidata.org/entity/Q3464665'), ('labelsObjectsClasses', 'television series season,television series season,television series season,television series season,television series season,television series season,television series season')]\n",
      "[('property', 'http://www.wikidata.org/prop/direct/P449'), ('labelProperty', 'original broadcaster'), ('objectsClasses', 'http://www.wikidata.org/entity/Q1254874,http://www.wikidata.org/entity/Q1061197,http://www.wikidata.org/entity/Q1616075'), ('labelsObjectsClasses', 'television network,radio network,television station')]\n",
      "[('property', 'http://www.wikidata.org/prop/direct/P750'), ('labelProperty', 'distributed by'), ('objectsClasses', 'http://www.wikidata.org/entity/Q4830453'), ('labelsObjectsClasses', 'business')]\n",
      "[('property', 'http://www.wikidata.org/prop/direct/P364'), ('labelProperty', 'original language of film or TV show'), ('objectsClasses', 'http://www.wikidata.org/entity/Q1288568,http://www.wikidata.org/entity/Q33742,http://www.wikidata.org/entity/Q34770'), ('labelsObjectsClasses', 'modern language,natural language,language')]\n",
      "[('property', 'http://www.wikidata.org/prop/direct/P136'), ('labelProperty', 'genre'), ('objectsClasses', 'http://www.wikidata.org/entity/Q15961987,http://www.wikidata.org/entity/Q108465955'), ('labelsObjectsClasses', 'television genre,fiction genre')]\n",
      "[('property', 'http://www.wikidata.org/prop/direct/P1811'), ('labelProperty', 'list of episodes'), ('objectsClasses', 'http://www.wikidata.org/entity/Q13406463'), ('labelsObjectsClasses', 'Wikimedia list article')]\n",
      "[('property', 'http://www.wikidata.org/prop/direct/P161'), ('labelProperty', 'cast member'), ('objectsClasses', 'http://www.wikidata.org/entity/Q5,http://www.wikidata.org/entity/Q5,http://www.wikidata.org/entity/Q5,http://www.wikidata.org/entity/Q5,http://www.wikidata.org/entity/Q5,http://www.wikidata.org/entity/Q5,http://www.wikidata.org/entity/Q5,http://www.wikidata.org/entity/Q5,http://www.wikidata.org/entity/Q5,http://www.wikidata.org/entity/Q5,http://www.wikidata.org/entity/Q5,http://www.wikidata.org/entity/Q5,http://www.wikidata.org/entity/Q5,http://www.wikidata.org/entity/Q5,http://www.wikidata.org/entity/Q5,http://www.wikidata.org/entity/Q5,http://www.wikidata.org/entity/Q5,http://www.wikidata.org/entity/Q5,http://www.wikidata.org/entity/Q5,http://www.wikidata.org/entity/Q5,http://www.wikidata.org/entity/Q5,http://www.wikidata.org/entity/Q5,http://www.wikidata.org/entity/Q5,http://www.wikidata.org/entity/Q5,http://www.wikidata.org/entity/Q5,http://www.wikidata.org/entity/Q5,http://www.wikidata.org/entity/Q5,http://www.wikidata.org/entity/Q5,http://www.wikidata.org/entity/Q5,http://www.wikidata.org/entity/Q5,http://www.wikidata.org/entity/Q5,http://www.wikidata.org/entity/Q5,http://www.wikidata.org/entity/Q5,http://www.wikidata.org/entity/Q5,http://www.wikidata.org/entity/Q5,http://www.wikidata.org/entity/Q5,http://www.wikidata.org/entity/Q5,http://www.wikidata.org/entity/Q5,http://www.wikidata.org/entity/Q5,http://www.wikidata.org/entity/Q5,http://www.wikidata.org/entity/Q5,http://www.wikidata.org/entity/Q5,http://www.wikidata.org/entity/Q5,http://www.wikidata.org/entity/Q5,http://www.wikidata.org/entity/Q5,http://www.wikidata.org/entity/Q5,http://www.wikidata.org/entity/Q5,http://www.wikidata.org/entity/Q5,http://www.wikidata.org/entity/Q5,http://www.wikidata.org/entity/Q5,http://www.wikidata.org/entity/Q5,http://www.wikidata.org/entity/Q5,http://www.wikidata.org/entity/Q5,http://www.wikidata.org/entity/Q5,http://www.wikidata.org/entity/Q5,http://www.wikidata.org/entity/Q5,http://www.wikidata.org/entity/Q5,http://www.wikidata.org/entity/Q5,http://www.wikidata.org/entity/Q5,http://www.wikidata.org/entity/Q5,http://www.wikidata.org/entity/Q5,http://www.wikidata.org/entity/Q5,http://www.wikidata.org/entity/Q5,http://www.wikidata.org/entity/Q5,http://www.wikidata.org/entity/Q5,http://www.wikidata.org/entity/Q5,http://www.wikidata.org/entity/Q5,http://www.wikidata.org/entity/Q5,http://www.wikidata.org/entity/Q5,http://www.wikidata.org/entity/Q5,http://www.wikidata.org/entity/Q5,http://www.wikidata.org/entity/Q5,http://www.wikidata.org/entity/Q5,http://www.wikidata.org/entity/Q5,http://www.wikidata.org/entity/Q5,http://www.wikidata.org/entity/Q5,http://www.wikidata.org/entity/Q5,http://www.wikidata.org/entity/Q5,http://www.wikidata.org/entity/Q5,http://www.wikidata.org/entity/Q5,http://www.wikidata.org/entity/Q5,http://www.wikidata.org/entity/Q5,http://www.wikidata.org/entity/Q5,http://www.wikidata.org/entity/Q5,http://www.wikidata.org/entity/Q5,http://www.wikidata.org/entity/Q5,http://www.wikidata.org/entity/Q5,http://www.wikidata.org/entity/Q5,http://www.wikidata.org/entity/Q5,http://www.wikidata.org/entity/Q5,http://www.wikidata.org/entity/Q5,http://www.wikidata.org/entity/Q5,http://www.wikidata.org/entity/Q5,http://www.wikidata.org/entity/Q5,http://www.wikidata.org/entity/Q5,http://www.wikidata.org/entity/Q5,http://www.wikidata.org/entity/Q5,http://www.wikidata.org/entity/Q5,http://www.wikidata.org/entity/Q5,http://www.wikidata.org/entity/Q5,http://www.wikidata.org/entity/Q5,http://www.wikidata.org/entity/Q5,http://www.wikidata.org/entity/Q5,http://www.wikidata.org/entity/Q5,http://www.wikidata.org/entity/Q5,http://www.wikidata.org/entity/Q5,http://www.wikidata.org/entity/Q5,http://www.wikidata.org/entity/Q5,http://www.wikidata.org/entity/Q5,http://www.wikidata.org/entity/Q5,http://www.wikidata.org/entity/Q5,http://www.wikidata.org/entity/Q5,http://www.wikidata.org/entity/Q5,http://www.wikidata.org/entity/Q5,http://www.wikidata.org/entity/Q5,http://www.wikidata.org/entity/Q5,http://www.wikidata.org/entity/Q5,http://www.wikidata.org/entity/Q5,http://www.wikidata.org/entity/Q5,http://www.wikidata.org/entity/Q5,http://www.wikidata.org/entity/Q5,http://www.wikidata.org/entity/Q5,http://www.wikidata.org/entity/Q5,http://www.wikidata.org/entity/Q5,http://www.wikidata.org/entity/Q5,http://www.wikidata.org/entity/Q5,http://www.wikidata.org/entity/Q5,http://www.wikidata.org/entity/Q5,http://www.wikidata.org/entity/Q5,http://www.wikidata.org/entity/Q5,http://www.wikidata.org/entity/Q5,http://www.wikidata.org/entity/Q5,http://www.wikidata.org/entity/Q5,http://www.wikidata.org/entity/Q5,http://www.wikidata.org/entity/Q5,http://www.wikidata.org/entity/Q5,http://www.wikidata.org/entity/Q5,http://www.wikidata.org/entity/Q5,http://www.wikidata.org/entity/Q5,http://www.wikidata.org/entity/Q5,http://www.wikidata.org/entity/Q5,http://www.wikidata.org/entity/Q5,http://www.wikidata.org/entity/Q5,http://www.wikidata.org/entity/Q5,http://www.wikidata.org/entity/Q5,http://www.wikidata.org/entity/Q5,http://www.wikidata.org/entity/Q5,http://www.wikidata.org/entity/Q5,http://www.wikidata.org/entity/Q5,http://www.wikidata.org/entity/Q5,http://www.wikidata.org/entity/Q5,http://www.wikidata.org/entity/Q5,http://www.wikidata.org/entity/Q5,http://www.wikidata.org/entity/Q5,http://www.wikidata.org/entity/Q5,http://www.wikidata.org/entity/Q5,http://www.wikidata.org/entity/Q5,http://www.wikidata.org/entity/Q5,http://www.wikidata.org/entity/Q5,http://www.wikidata.org/entity/Q5,http://www.wikidata.org/entity/Q5,http://www.wikidata.org/entity/Q5,http://www.wikidata.org/entity/Q5,http://www.wikidata.org/entity/Q5,http://www.wikidata.org/entity/Q5,http://www.wikidata.org/entity/Q5,http://www.wikidata.org/entity/Q5,http://www.wikidata.org/entity/Q5,http://www.wikidata.org/entity/Q5,http://www.wikidata.org/entity/Q5,http://www.wikidata.org/entity/Q5,http://www.wikidata.org/entity/Q5,http://www.wikidata.org/entity/Q5,http://www.wikidata.org/entity/Q5,http://www.wikidata.org/entity/Q5,http://www.wikidata.org/entity/Q5,http://www.wikidata.org/entity/Q5,http://www.wikidata.org/entity/Q5,http://www.wikidata.org/entity/Q5,http://www.wikidata.org/entity/Q5,http://www.wikidata.org/entity/Q5,http://www.wikidata.org/entity/Q5,http://www.wikidata.org/entity/Q5,http://www.wikidata.org/entity/Q5,http://www.wikidata.org/entity/Q5,http://www.wikidata.org/entity/Q5,http://www.wikidata.org/entity/Q5,http://www.wikidata.org/entity/Q5,http://www.wikidata.org/entity/Q5,http://www.wikidata.org/entity/Q5,http://www.wikidata.org/entity/Q5,http://www.wikidata.org/entity/Q5,http://www.wikidata.org/entity/Q5,http://www.wikidata.org/entity/Q5,http://www.wikidata.org/entity/Q5,http://www.wikidata.org/entity/Q5,http://www.wikidata.org/entity/Q5,http://www.wikidata.org/entity/Q5,http://www.wikidata.org/entity/Q5,http://www.wikidata.org/entity/Q5,http://www.wikidata.org/entity/Q5,http://www.wikidata.org/entity/Q5,http://www.wikidata.org/entity/Q5,http://www.wikidata.org/entity/Q5,http://www.wikidata.org/entity/Q5,http://www.wikidata.org/entity/Q5,http://www.wikidata.org/entity/Q5,http://www.wikidata.org/entity/Q5,http://www.wikidata.org/entity/Q5,http://www.wikidata.org/entity/Q5,http://www.wikidata.org/entity/Q5,http://www.wikidata.org/entity/Q5,http://www.wikidata.org/entity/Q5,http://www.wikidata.org/entity/Q5,http://www.wikidata.org/entity/Q5,http://www.wikidata.org/entity/Q5,http://www.wikidata.org/entity/Q5,http://www.wikidata.org/entity/Q5,http://www.wikidata.org/entity/Q5,http://www.wikidata.org/entity/Q5,http://www.wikidata.org/entity/Q5,http://www.wikidata.org/entity/Q5,http://www.wikidata.org/entity/Q5,http://www.wikidata.org/entity/Q5,http://www.wikidata.org/entity/Q5,http://www.wikidata.org/entity/Q5,http://www.wikidata.org/entity/Q5,http://www.wikidata.org/entity/Q5,http://www.wikidata.org/entity/Q5,http://www.wikidata.org/entity/Q5,http://www.wikidata.org/entity/Q5,http://www.wikidata.org/entity/Q5,http://www.wikidata.org/entity/Q5,http://www.wikidata.org/entity/Q5,http://www.wikidata.org/entity/Q5,http://www.wikidata.org/entity/Q5,http://www.wikidata.org/entity/Q5,http://www.wikidata.org/entity/Q5,http://www.wikidata.org/entity/Q5,http://www.wikidata.org/entity/Q5,http://www.wikidata.org/entity/Q5,http://www.wikidata.org/entity/Q5,http://www.wikidata.org/entity/Q5,http://www.wikidata.org/entity/Q5,http://www.wikidata.org/entity/Q5,http://www.wikidata.org/entity/Q5,http://www.wikidata.org/entity/Q5,http://www.wikidata.org/entity/Q5,http://www.wikidata.org/entity/Q5,http://www.wikidata.org/entity/Q5,http://www.wikidata.org/entity/Q5,http://www.wikidata.org/entity/Q5,http://www.wikidata.org/entity/Q5,http://www.wikidata.org/entity/Q5,http://www.wikidata.org/entity/Q5,http://www.wikidata.org/entity/Q5,http://www.wikidata.org/entity/Q5,http://www.wikidata.org/entity/Q5,http://www.wikidata.org/entity/Q5,http://www.wikidata.org/entity/Q5,http://www.wikidata.org/entity/Q5,http://www.wikidata.org/entity/Q5,http://www.wikidata.org/entity/Q5,http://www.wikidata.org/entity/Q5,http://www.wikidata.org/entity/Q5,http://www.wikidata.org/entity/Q5,http://www.wikidata.org/entity/Q5,http://www.wikidata.org/entity/Q5,http://www.wikidata.org/entity/Q5,http://www.wikidata.org/entity/Q5,http://www.wikidata.org/entity/Q5,http://www.wikidata.org/entity/Q5,http://www.wikidata.org/entity/Q5,http://www.wikidata.org/entity/Q5,http://www.wikidata.org/entity/Q5,http://www.wikidata.org/entity/Q5,http://www.wikidata.org/entity/Q5,http://www.wikidata.org/entity/Q5,http://www.wikidata.org/entity/Q5,http://www.wikidata.org/entity/Q5,http://www.wikidata.org/entity/Q5,http://www.wikidata.org/entity/Q5,http://www.wikidata.org/entity/Q5,http://www.wikidata.org/entity/Q5,http://www.wikidata.org/entity/Q5,http://www.wikidata.org/entity/Q5,http://www.wikidata.org/entity/Q5,http://www.wikidata.org/entity/Q5,http://www.wikidata.org/entity/Q5,http://www.wikidata.org/entity/Q5,http://www.wikidata.org/entity/Q5,http://www.wikidata.org/entity/Q5,http://www.wikidata.org/entity/Q5,http://www.wikidata.org/entity/Q5,http://www.wikidata.org/entity/Q5,http://www.wikidata.org/entity/Q5,http://www.wikidata.org/entity/Q5,http://www.wikidata.org/entity/Q5,http://www.wikidata.org/entity/Q5,http://www.wikidata.org/entity/Q5,http://www.wikidata.org/entity/Q5,http://www.wikidata.org/entity/Q5,http://www.wikidata.org/entity/Q5,http://www.wikidata.org/entity/Q5,http://www.wikidata.org/entity/Q5,http://www.wikidata.org/entity/Q5,http://www.wikidata.org/entity/Q5,http://www.wikidata.org/entity/Q5,http://www.wikidata.org/entity/Q5,http://www.wikidata.org/entity/Q5,http://www.wikidata.org/entity/Q5,http://www.wikidata.org/entity/Q5,http://www.wikidata.org/entity/Q5,http://www.wikidata.org/entity/Q5,http://www.wikidata.org/entity/Q5,http://www.wikidata.org/entity/Q5,http://www.wikidata.org/entity/Q5,http://www.wikidata.org/entity/Q5,http://www.wikidata.org/entity/Q5,http://www.wikidata.org/entity/Q5,http://www.wikidata.org/entity/Q5,http://www.wikidata.org/entity/Q5,http://www.wikidata.org/entity/Q5,http://www.wikidata.org/entity/Q5,http://www.wikidata.org/entity/Q5,http://www.wikidata.org/entity/Q5,http://www.wikidata.org/entity/Q5,http://www.wikidata.org/entity/Q5,http://www.wikidata.org/entity/Q5,http://www.wikidata.org/entity/Q5,http://www.wikidata.org/entity/Q5,http://www.wikidata.org/entity/Q5,http://www.wikidata.org/entity/Q5,http://www.wikidata.org/entity/Q5,http://www.wikidata.org/entity/Q5,http://www.wikidata.org/entity/Q5,http://www.wikidata.org/entity/Q5,http://www.wikidata.org/entity/Q5,http://www.wikidata.org/entity/Q5,http://www.wikidata.org/entity/Q5,http://www.wikidata.org/entity/Q5,http://www.wikidata.org/entity/Q5,http://www.wikidata.org/entity/Q5,http://www.wikidata.org/entity/Q5,http://www.wikidata.org/entity/Q5,http://www.wikidata.org/entity/Q5,http://www.wikidata.org/entity/Q5,http://www.wikidata.org/entity/Q5,http://www.wikidata.org/entity/Q5,http://www.wikidata.org/entity/Q5,http://www.wikidata.org/entity/Q5,http://www.wikidata.org/entity/Q5,http://www.wikidata.org/entity/Q5,http://www.wikidata.org/entity/Q5,http://www.wikidata.org/entity/Q5,http://www.wikidata.org/entity/Q5,http://www.wikidata.org/entity/Q5,http://www.wikidata.org/entity/Q5,http://www.wikidata.org/entity/Q5,http://www.wikidata.org/entity/Q5,http://www.wikidata.org/entity/Q5,http://www.wikidata.org/entity/Q5,http://www.wikidata.org/entity/Q5,http://www.wikidata.org/entity/Q5,http://www.wikidata.org/entity/Q5,http://www.wikidata.org/entity/Q5,http://www.wikidata.org/entity/Q5,http://www.wikidata.org/entity/Q5,http://www.wikidata.org/entity/Q5,http://www.wikidata.org/entity/Q5,http://www.wikidata.org/entity/Q5,http://www.wikidata.org/entity/Q5,http://www.wikidata.org/entity/Q5,http://www.wikidata.org/entity/Q5,http://www.wikidata.org/entity/Q5,http://www.wikidata.org/entity/Q5,http://www.wikidata.org/entity/Q5,http://www.wikidata.org/entity/Q5,http://www.wikidata.org/entity/Q5,http://www.wikidata.org/entity/Q5,http://www.wikidata.org/entity/Q5,http://www.wikidata.org/entity/Q5,http://www.wikidata.org/entity/Q5,http://www.wikidata.org/entity/Q5,http://www.wikidata.org/entity/Q5,http://www.wikidata.org/entity/Q5,http://www.wikidata.org/entity/Q5,http://www.wikidata.org/entity/Q5,http://www.wikidata.org/entity/Q5,http://www.wikidata.org/entity/Q5,http://www.wikidata.org/entity/Q5,http://www.wikidata.org/entity/Q5,http://www.wikidata.org/entity/Q5,http://www.wikidata.org/entity/Q5,http://www.wikidata.org/entity/Q5,http://www.wikidata.org/entity/Q5,http://www.wikidata.org/entity/Q5,http://www.wikidata.org/entity/Q5,http://www.wikidata.org/entity/Q5,http://www.wikidata.org/entity/Q5,http://www.wikidata.org/entity/Q5,http://www.wikidata.org/entity/Q5,http://www.wikidata.org/entity/Q5,http://www.wikidata.org/entity/Q5,http://www.wikidata.org/entity/Q5,http://www.wikidata.org/entity/Q5,http://www.wikidata.org/entity/Q5,http://www.wikidata.org/entity/Q5,http://www.wikidata.org/entity/Q5,http://www.wikidata.org/entity/Q5,http://www.wikidata.org/entity/Q5,http://www.wikidata.org/entity/Q5,http://www.wikidata.org/entity/Q5,http://www.wikidata.org/entity/Q5,http://www.wikidata.org/entity/Q5,http://www.wikidata.org/entity/Q5,http://www.wikidata.org/entity/Q5,http://www.wikidata.org/entity/Q5,http://www.wikidata.org/entity/Q5,http://www.wikidata.org/entity/Q5,http://www.wikidata.org/entity/Q5,http://www.wikidata.org/entity/Q5,http://www.wikidata.org/entity/Q5,http://www.wikidata.org/entity/Q5,http://www.wikidata.org/entity/Q5,http://www.wikidata.org/entity/Q5,http://www.wikidata.org/entity/Q5,http://www.wikidata.org/entity/Q5,http://www.wikidata.org/entity/Q5,http://www.wikidata.org/entity/Q5,http://www.wikidata.org/entity/Q5,http://www.wikidata.org/entity/Q5,http://www.wikidata.org/entity/Q5,http://www.wikidata.org/entity/Q5,http://www.wikidata.org/entity/Q5,http://www.wikidata.org/entity/Q5,http://www.wikidata.org/entity/Q5,http://www.wikidata.org/entity/Q5,http://www.wikidata.org/entity/Q5,http://www.wikidata.org/entity/Q5,http://www.wikidata.org/entity/Q5,http://www.wikidata.org/entity/Q5,http://www.wikidata.org/entity/Q5,http://www.wikidata.org/entity/Q5,http://www.wikidata.org/entity/Q5,http://www.wikidata.org/entity/Q5,http://www.wikidata.org/entity/Q5,http://www.wikidata.org/entity/Q5,http://www.wikidata.org/entity/Q5,http://www.wikidata.org/entity/Q5,http://www.wikidata.org/entity/Q5,http://www.wikidata.org/entity/Q5,http://www.wikidata.org/entity/Q5,http://www.wikidata.org/entity/Q5,http://www.wikidata.org/entity/Q5,http://www.wikidata.org/entity/Q5,http://www.wikidata.org/entity/Q5,http://www.wikidata.org/entity/Q5,http://www.wikidata.org/entity/Q5,http://www.wikidata.org/entity/Q5,http://www.wikidata.org/entity/Q5,http://www.wikidata.org/entity/Q5,http://www.wikidata.org/entity/Q5,http://www.wikidata.org/entity/Q5,http://www.wikidata.org/entity/Q5,http://www.wikidata.org/entity/Q5,http://www.wikidata.org/entity/Q5,http://www.wikidata.org/entity/Q5,http://www.wikidata.org/entity/Q5,http://www.wikidata.org/entity/Q5,http://www.wikidata.org/entity/Q5,http://www.wikidata.org/entity/Q5,http://www.wikidata.org/entity/Q5,http://www.wikidata.org/entity/Q5,http://www.wikidata.org/entity/Q5,http://www.wikidata.org/entity/Q5,http://www.wikidata.org/entity/Q5,http://www.wikidata.org/entity/Q5'), ('labelsObjectsClasses', 'human,human,human,human,human,human,human,human,human,human,human,human,human,human,human,human,human,human,human,human,human,human,human,human,human,human,human,human,human,human,human,human,human,human,human,human,human,human,human,human,human,human,human,human,human,human,human,human,human,human,human,human,human,human,human,human,human,human,human,human,human,human,human,human,human,human,human,human,human,human,human,human,human,human,human,human,human,human,human,human,human,human,human,human,human,human,human,human,human,human,human,human,human,human,human,human,human,human,human,human,human,human,human,human,human,human,human,human,human,human,human,human,human,human,human,human,human,human,human,human,human,human,human,human,human,human,human,human,human,human,human,human,human,human,human,human,human,human,human,human,human,human,human,human,human,human,human,human,human,human,human,human,human,human,human,human,human,human,human,human,human,human,human,human,human,human,human,human,human,human,human,human,human,human,human,human,human,human,human,human,human,human,human,human,human,human,human,human,human,human,human,human,human,human,human,human,human,human,human,human,human,human,human,human,human,human,human,human,human,human,human,human,human,human,human,human,human,human,human,human,human,human,human,human,human,human,human,human,human,human,human,human,human,human,human,human,human,human,human,human,human,human,human,human,human,human,human,human,human,human,human,human,human,human,human,human,human,human,human,human,human,human,human,human,human,human,human,human,human,human,human,human,human,human,human,human,human,human,human,human,human,human,human,human,human,human,human,human,human,human,human,human,human,human,human,human,human,human,human,human,human,human,human,human,human,human,human,human,human,human,human,human,human,human,human,human,human,human,human,human,human,human,human,human,human,human,human,human,human,human,human,human,human,human,human,human,human,human,human,human,human,human,human,human,human,human,human,human,human,human,human,human,human,human,human,human,human,human,human,human,human,human,human,human,human,human,human,human,human,human,human,human,human,human,human,human,human,human,human,human,human,human,human,human,human,human,human,human,human,human,human,human,human,human,human,human,human,human,human,human,human,human,human,human,human,human,human,human,human,human,human,human,human,human,human,human,human,human,human,human,human,human,human,human,human,human,human,human,human,human,human,human,human,human,human,human,human,human,human,human,human,human,human,human,human,human,human,human,human,human,human,human,human,human,human,human,human,human,human,human,human,human,human,human,human,human,human,human,human,human,human,human,human,human,human,human,human,human')]\n",
      "[('property', 'http://www.wikidata.org/prop/direct/P921'), ('labelProperty', 'main subject'), ('objectsClasses', 'http://www.wikidata.org/entity/Q1758690'), ('labelsObjectsClasses', 'municipal police')]\n",
      "[('property', 'http://www.wikidata.org/prop/direct/P910'), ('labelProperty', \"topic's main category\"), ('objectsClasses', 'http://www.wikidata.org/entity/Q4167836'), ('labelsObjectsClasses', 'Wikimedia category')]\n",
      "[('property', 'http://www.wikidata.org/prop/direct/P840'), ('labelProperty', 'narrative location'), ('objectsClasses', 'http://www.wikidata.org/entity/Q21010817,http://www.wikidata.org/entity/Q1637706,http://www.wikidata.org/entity/Q62049'), ('labelsObjectsClasses', 'city of Pennsylvania,million city,county seat')]\n",
      "[('property', 'http://www.wikidata.org/prop/direct/P674'), ('labelProperty', 'characters'), ('objectsClasses', 'http://www.wikidata.org/entity/Q95074,http://www.wikidata.org/entity/Q15773317'), ('labelsObjectsClasses', 'fictional character,television character')]\n",
      "[('property', 'http://www.wikidata.org/prop/direct/P1431'), ('labelProperty', 'executive producer'), ('objectsClasses', 'http://www.wikidata.org/entity/Q5'), ('labelsObjectsClasses', 'human')]\n",
      "[('property', 'http://www.wikidata.org/prop/direct/P495'), ('labelProperty', 'country of origin'), ('objectsClasses', 'http://www.wikidata.org/entity/Q1489259,http://www.wikidata.org/entity/Q99541706,http://www.wikidata.org/entity/Q1520223,http://www.wikidata.org/entity/Q3624078,http://www.wikidata.org/entity/Q512187,http://www.wikidata.org/entity/Q5255892,http://www.wikidata.org/entity/Q6256'), ('labelsObjectsClasses', 'superpower,historical unrecognized state,constitutional republic,sovereign state,federal republic,democratic republic,country')]\n",
      "[('property', 'http://www.wikidata.org/prop/direct/P86'), ('labelProperty', 'composer'), ('objectsClasses', 'http://www.wikidata.org/entity/Q5'), ('labelsObjectsClasses', 'human')]\n",
      "17\n"
     ]
    }
   ],
   "source": [
    "queryString = \"\"\"\n",
    "SELECT DISTINCT ?property ?labelProperty (GROUP_CONCAT(?objectClass ; separator = \",\")  AS ?objectsClasses) (GROUP_CONCAT(?labelObjectClass ; separator = \",\")  AS ?labelsObjectsClasses)\n",
    "WHERE \n",
    "{   \n",
    "   wd:Q733960 ?property ?object .  \n",
    "   ?object wdt:P31 ?objectClass .\n",
    "   \n",
    "   # Labels\n",
    "   ?property sc:name ?labelProperty .      \n",
    "   ?objectClass sc:name ?labelObjectClass .\n",
    "   \n",
    "   FILTER(!isLiteral(?object)) .   \n",
    "}GROUP BY ?property ?labelProperty\n",
    "LIMIT 50\n",
    "\"\"\"\n",
    "print(\"Results\")\n",
    "x=run_query(queryString)"
   ]
  },
  {
   "cell_type": "markdown",
   "id": "369482c0-16ed-45d6-a5d8-bb9a82795a06",
   "metadata": {
    "tags": []
   },
   "source": [
    "### Get all the couples (object property - list of the  objects that are connected to \"Cold Case\" (wd:Q733960) through that object property)"
   ]
  },
  {
   "cell_type": "code",
   "execution_count": 14,
   "id": "147af6bb-87e4-4efb-af0b-0c808bc6af5d",
   "metadata": {},
   "outputs": [
    {
     "name": "stdout",
     "output_type": "stream",
     "text": [
      "Results\n",
      "[('property', 'http://www.wikidata.org/prop/direct/P2061'), ('labelProperty', 'aspect ratio'), ('objects', 'http://www.wikidata.org/entity/Q1383069'), ('labelsObjects', '16:9 aspect ratio')]\n",
      "[('property', 'http://www.wikidata.org/prop/direct/P57'), ('labelProperty', 'director'), ('objects', 'http://www.wikidata.org/entity/Q217037'), ('labelsObjects', 'Jerry Bruckheimer')]\n",
      "[('property', 'http://www.wikidata.org/prop/direct/P170'), ('labelProperty', 'creator'), ('objects', 'http://www.wikidata.org/entity/Q545377'), ('labelsObjects', 'Meredith Stiehm')]\n",
      "[('property', 'http://www.wikidata.org/prop/direct/P527'), ('labelProperty', 'has part'), ('objects', 'http://www.wikidata.org/entity/Q671337,http://www.wikidata.org/entity/Q517863,http://www.wikidata.org/entity/Q717713,http://www.wikidata.org/entity/Q834361,http://www.wikidata.org/entity/Q987172,http://www.wikidata.org/entity/Q987173,http://www.wikidata.org/entity/Q987176'), ('labelsObjects', 'Cold Case, season 6,Cold Case, season 5,Cold Case, season 2,Cold Case, season 1,Cold Case, season 3,Cold Case, season 7,Cold Case, season 4')]\n",
      "[('property', 'http://www.wikidata.org/prop/direct/P449'), ('labelProperty', 'original broadcaster'), ('objects', 'http://www.wikidata.org/entity/Q43380'), ('labelsObjects', 'CBS')]\n",
      "[('property', 'http://www.wikidata.org/prop/direct/P750'), ('labelProperty', 'distributed by'), ('objects', 'http://www.wikidata.org/entity/Q5009281'), ('labelsObjects', 'CBS Media Ventures')]\n",
      "[('property', 'http://www.wikidata.org/prop/direct/P364'), ('labelProperty', 'original language of film or TV show'), ('objects', 'http://www.wikidata.org/entity/Q1860'), ('labelsObjects', 'English')]\n",
      "[('property', 'http://www.wikidata.org/prop/direct/P136'), ('labelProperty', 'genre'), ('objects', 'http://www.wikidata.org/entity/Q2321734,http://www.wikidata.org/entity/Q9335577'), ('labelsObjects', 'police procedural,crime serial')]\n",
      "[('property', 'http://www.wikidata.org/prop/direct/P1811'), ('labelProperty', 'list of episodes'), ('objects', 'http://www.wikidata.org/entity/Q301693'), ('labelsObjects', 'list of Cold Case episodes')]\n",
      "[('property', 'http://www.wikidata.org/prop/direct/P161'), ('labelProperty', 'cast member'), ('objects', 'http://www.wikidata.org/entity/Q270382,http://www.wikidata.org/entity/Q269891,http://www.wikidata.org/entity/Q128821,http://www.wikidata.org/entity/Q1340897,http://www.wikidata.org/entity/Q275476,http://www.wikidata.org/entity/Q441617,http://www.wikidata.org/entity/Q449249,http://www.wikidata.org/entity/Q613378,http://www.wikidata.org/entity/Q242206,http://www.wikidata.org/entity/Q258246,http://www.wikidata.org/entity/Q261926,http://www.wikidata.org/entity/Q266179,http://www.wikidata.org/entity/Q452288,http://www.wikidata.org/entity/Q516659,http://www.wikidata.org/entity/Q919478,http://www.wikidata.org/entity/Q960467,http://www.wikidata.org/entity/Q1338682,http://www.wikidata.org/entity/Q1377218,http://www.wikidata.org/entity/Q238884,http://www.wikidata.org/entity/Q2392907,http://www.wikidata.org/entity/Q2601137,http://www.wikidata.org/entity/Q273650,http://www.wikidata.org/entity/Q3086608,http://www.wikidata.org/entity/Q453774,http://www.wikidata.org/entity/Q5238384,http://www.wikidata.org/entity/Q545288,http://www.wikidata.org/entity/Q552031,http://www.wikidata.org/entity/Q594738,http://www.wikidata.org/entity/Q928592,http://www.wikidata.org/entity/Q21515026,http://www.wikidata.org/entity/Q28732,http://www.wikidata.org/entity/Q3097804,http://www.wikidata.org/entity/Q453620,http://www.wikidata.org/entity/Q712670,http://www.wikidata.org/entity/Q1394891,http://www.wikidata.org/entity/Q139906,http://www.wikidata.org/entity/Q317563,http://www.wikidata.org/entity/Q353049,http://www.wikidata.org/entity/Q1385662,http://www.wikidata.org/entity/Q171525,http://www.wikidata.org/entity/Q272022,http://www.wikidata.org/entity/Q275254,http://www.wikidata.org/entity/Q367469,http://www.wikidata.org/entity/Q3306283,http://www.wikidata.org/entity/Q960554,http://www.wikidata.org/entity/Q460987,http://www.wikidata.org/entity/Q272261,http://www.wikidata.org/entity/Q2329698,http://www.wikidata.org/entity/Q23932052,http://www.wikidata.org/entity/Q276045,http://www.wikidata.org/entity/Q436789,http://www.wikidata.org/entity/Q447248,http://www.wikidata.org/entity/Q59382,http://www.wikidata.org/entity/Q59630,http://www.wikidata.org/entity/Q674255,http://www.wikidata.org/entity/Q712450,http://www.wikidata.org/entity/Q1562861,http://www.wikidata.org/entity/Q123836,http://www.wikidata.org/entity/Q139341,http://www.wikidata.org/entity/Q1677114,http://www.wikidata.org/entity/Q363684,http://www.wikidata.org/entity/Q466379,http://www.wikidata.org/entity/Q714675,http://www.wikidata.org/entity/Q954950,http://www.wikidata.org/entity/Q166306,http://www.wikidata.org/entity/Q231385,http://www.wikidata.org/entity/Q356156,http://www.wikidata.org/entity/Q432940,http://www.wikidata.org/entity/Q594265,http://www.wikidata.org/entity/Q672357,http://www.wikidata.org/entity/Q1259397,http://www.wikidata.org/entity/Q1366460,http://www.wikidata.org/entity/Q1678770,http://www.wikidata.org/entity/Q176277,http://www.wikidata.org/entity/Q201641,http://www.wikidata.org/entity/Q232307,http://www.wikidata.org/entity/Q3157150,http://www.wikidata.org/entity/Q3157229,http://www.wikidata.org/entity/Q344655,http://www.wikidata.org/entity/Q380180,http://www.wikidata.org/entity/Q431356,http://www.wikidata.org/entity/Q5089830,http://www.wikidata.org/entity/Q509013,http://www.wikidata.org/entity/Q552942,http://www.wikidata.org/entity/Q641408,http://www.wikidata.org/entity/Q743388,http://www.wikidata.org/entity/Q1124,http://www.wikidata.org/entity/Q1258012,http://www.wikidata.org/entity/Q259536,http://www.wikidata.org/entity/Q465914,http://www.wikidata.org/entity/Q472482,http://www.wikidata.org/entity/Q947748,http://www.wikidata.org/entity/Q950104,http://www.wikidata.org/entity/Q968718,http://www.wikidata.org/entity/Q977086,http://www.wikidata.org/entity/Q15665021,http://www.wikidata.org/entity/Q274799,http://www.wikidata.org/entity/Q305321,http://www.wikidata.org/entity/Q338355,http://www.wikidata.org/entity/Q496503,http://www.wikidata.org/entity/Q1334420,http://www.wikidata.org/entity/Q156532,http://www.wikidata.org/entity/Q2565463,http://www.wikidata.org/entity/Q260545,http://www.wikidata.org/entity/Q328409,http://www.wikidata.org/entity/Q508960,http://www.wikidata.org/entity/Q51814,http://www.wikidata.org/entity/Q1139717,http://www.wikidata.org/entity/Q1320640,http://www.wikidata.org/entity/Q1373335,http://www.wikidata.org/entity/Q16745470,http://www.wikidata.org/entity/Q1894164,http://www.wikidata.org/entity/Q189490,http://www.wikidata.org/entity/Q242629,http://www.wikidata.org/entity/Q257271,http://www.wikidata.org/entity/Q270126,http://www.wikidata.org/entity/Q279169,http://www.wikidata.org/entity/Q2934764,http://www.wikidata.org/entity/Q3342656,http://www.wikidata.org/entity/Q3376545,http://www.wikidata.org/entity/Q384452,http://www.wikidata.org/entity/Q428819,http://www.wikidata.org/entity/Q442661,http://www.wikidata.org/entity/Q451823,http://www.wikidata.org/entity/Q454698,http://www.wikidata.org/entity/Q460843,http://www.wikidata.org/entity/Q461131,http://www.wikidata.org/entity/Q462937,http://www.wikidata.org/entity/Q465482,http://www.wikidata.org/entity/Q512105,http://www.wikidata.org/entity/Q5173585,http://www.wikidata.org/entity/Q598158,http://www.wikidata.org/entity/Q945099,http://www.wikidata.org/entity/Q236832,http://www.wikidata.org/entity/Q242805,http://www.wikidata.org/entity/Q3195676,http://www.wikidata.org/entity/Q351293,http://www.wikidata.org/entity/Q536030,http://www.wikidata.org/entity/Q597515,http://www.wikidata.org/entity/Q7659422,http://www.wikidata.org/entity/Q803804,http://www.wikidata.org/entity/Q1252523,http://www.wikidata.org/entity/Q1700068,http://www.wikidata.org/entity/Q229410,http://www.wikidata.org/entity/Q360663,http://www.wikidata.org/entity/Q382197,http://www.wikidata.org/entity/Q237239,http://www.wikidata.org/entity/Q365278,http://www.wikidata.org/entity/Q724684,http://www.wikidata.org/entity/Q770461,http://www.wikidata.org/entity/Q127836,http://www.wikidata.org/entity/Q1321037,http://www.wikidata.org/entity/Q17403058,http://www.wikidata.org/entity/Q236854,http://www.wikidata.org/entity/Q242472,http://www.wikidata.org/entity/Q3161119,http://www.wikidata.org/entity/Q3178896,http://www.wikidata.org/entity/Q446045,http://www.wikidata.org/entity/Q467709,http://www.wikidata.org/entity/Q468646,http://www.wikidata.org/entity/Q711898,http://www.wikidata.org/entity/Q859899,http://www.wikidata.org/entity/Q716170,http://www.wikidata.org/entity/Q271533,http://www.wikidata.org/entity/Q2962235,http://www.wikidata.org/entity/Q443044,http://www.wikidata.org/entity/Q2651823,http://www.wikidata.org/entity/Q3481444,http://www.wikidata.org/entity/Q896789,http://www.wikidata.org/entity/Q23640216,http://www.wikidata.org/entity/Q23639872,http://www.wikidata.org/entity/Q119966,http://www.wikidata.org/entity/Q16299311,http://www.wikidata.org/entity/Q238877,http://www.wikidata.org/entity/Q240586,http://www.wikidata.org/entity/Q277099,http://www.wikidata.org/entity/Q2799212,http://www.wikidata.org/entity/Q371972,http://www.wikidata.org/entity/Q4078431,http://www.wikidata.org/entity/Q456480,http://www.wikidata.org/entity/Q471018,http://www.wikidata.org/entity/Q537252,http://www.wikidata.org/entity/Q589015,http://www.wikidata.org/entity/Q598178,http://www.wikidata.org/entity/Q6903146,http://www.wikidata.org/entity/Q708059,http://www.wikidata.org/entity/Q964006,http://www.wikidata.org/entity/Q256186,http://www.wikidata.org/entity/Q257286,http://www.wikidata.org/entity/Q271109,http://www.wikidata.org/entity/Q272166,http://www.wikidata.org/entity/Q273044,http://www.wikidata.org/entity/Q3827125,http://www.wikidata.org/entity/Q3934881,http://www.wikidata.org/entity/Q720233,http://www.wikidata.org/entity/Q1712385,http://www.wikidata.org/entity/Q2667430,http://www.wikidata.org/entity/Q1343823,http://www.wikidata.org/entity/Q198638,http://www.wikidata.org/entity/Q330349,http://www.wikidata.org/entity/Q3515118,http://www.wikidata.org/entity/Q433355,http://www.wikidata.org/entity/Q458512,http://www.wikidata.org/entity/Q953908,http://www.wikidata.org/entity/Q562257,http://www.wikidata.org/entity/Q262652,http://www.wikidata.org/entity/Q1370072,http://www.wikidata.org/entity/Q2101495,http://www.wikidata.org/entity/Q3039407,http://www.wikidata.org/entity/Q1680304,http://www.wikidata.org/entity/Q451917,http://www.wikidata.org/entity/Q260490,http://www.wikidata.org/entity/Q537193,http://www.wikidata.org/entity/Q313789,http://www.wikidata.org/entity/Q356541,http://www.wikidata.org/entity/Q714133,http://www.wikidata.org/entity/Q299324,http://www.wikidata.org/entity/Q615200,http://www.wikidata.org/entity/Q236463,http://www.wikidata.org/entity/Q693301,http://www.wikidata.org/entity/Q727988,http://www.wikidata.org/entity/Q1125651,http://www.wikidata.org/entity/Q139697,http://www.wikidata.org/entity/Q271765,http://www.wikidata.org/entity/Q361158,http://www.wikidata.org/entity/Q1139242,http://www.wikidata.org/entity/Q1157743,http://www.wikidata.org/entity/Q1189298,http://www.wikidata.org/entity/Q1341001,http://www.wikidata.org/entity/Q1394940,http://www.wikidata.org/entity/Q15288220,http://www.wikidata.org/entity/Q16186952,http://www.wikidata.org/entity/Q182931,http://www.wikidata.org/entity/Q1883207,http://www.wikidata.org/entity/Q19513752,http://www.wikidata.org/entity/Q195255,http://www.wikidata.org/entity/Q231058,http://www.wikidata.org/entity/Q232481,http://www.wikidata.org/entity/Q235189,http://www.wikidata.org/entity/Q239382,http://www.wikidata.org/entity/Q241854,http://www.wikidata.org/entity/Q2439744,http://www.wikidata.org/entity/Q2537045,http://www.wikidata.org/entity/Q258064,http://www.wikidata.org/entity/Q2700668,http://www.wikidata.org/entity/Q270149,http://www.wikidata.org/entity/Q2778807,http://www.wikidata.org/entity/Q2965857,http://www.wikidata.org/entity/Q324646,http://www.wikidata.org/entity/Q3760469,http://www.wikidata.org/entity/Q3788199,http://www.wikidata.org/entity/Q3952855,http://www.wikidata.org/entity/Q3973330,http://www.wikidata.org/entity/Q40124,http://www.wikidata.org/entity/Q429619,http://www.wikidata.org/entity/Q433618,http://www.wikidata.org/entity/Q444450,http://www.wikidata.org/entity/Q453724,http://www.wikidata.org/entity/Q458482,http://www.wikidata.org/entity/Q4653820,http://www.wikidata.org/entity/Q467489,http://www.wikidata.org/entity/Q667979,http://www.wikidata.org/entity/Q704395,http://www.wikidata.org/entity/Q713634,http://www.wikidata.org/entity/Q722038,http://www.wikidata.org/entity/Q733776,http://www.wikidata.org/entity/Q7791601,http://www.wikidata.org/entity/Q926705,http://www.wikidata.org/entity/Q962944,http://www.wikidata.org/entity/Q1176588,http://www.wikidata.org/entity/Q128507,http://www.wikidata.org/entity/Q1377988,http://www.wikidata.org/entity/Q1469565,http://www.wikidata.org/entity/Q1582689,http://www.wikidata.org/entity/Q16567288,http://www.wikidata.org/entity/Q210462,http://www.wikidata.org/entity/Q2301339,http://www.wikidata.org/entity/Q232282,http://www.wikidata.org/entity/Q232968,http://www.wikidata.org/entity/Q23301771,http://www.wikidata.org/entity/Q234080,http://www.wikidata.org/entity/Q236759,http://www.wikidata.org/entity/Q238494,http://www.wikidata.org/entity/Q240467,http://www.wikidata.org/entity/Q24054446,http://www.wikidata.org/entity/Q2529744,http://www.wikidata.org/entity/Q261796,http://www.wikidata.org/entity/Q2683767,http://www.wikidata.org/entity/Q272944,http://www.wikidata.org/entity/Q274805,http://www.wikidata.org/entity/Q297348,http://www.wikidata.org/entity/Q3121197,http://www.wikidata.org/entity/Q3147237,http://www.wikidata.org/entity/Q344973,http://www.wikidata.org/entity/Q39989,http://www.wikidata.org/entity/Q448484,http://www.wikidata.org/entity/Q456614,http://www.wikidata.org/entity/Q458652,http://www.wikidata.org/entity/Q460355,http://www.wikidata.org/entity/Q465471,http://www.wikidata.org/entity/Q508007,http://www.wikidata.org/entity/Q5386930,http://www.wikidata.org/entity/Q718366,http://www.wikidata.org/entity/Q73502,http://www.wikidata.org/entity/Q957804,http://www.wikidata.org/entity/Q254980,http://www.wikidata.org/entity/Q273340,http://www.wikidata.org/entity/Q446836,http://www.wikidata.org/entity/Q11910476,http://www.wikidata.org/entity/Q225933,http://www.wikidata.org/entity/Q2415514,http://www.wikidata.org/entity/Q2572165,http://www.wikidata.org/entity/Q272070,http://www.wikidata.org/entity/Q327217,http://www.wikidata.org/entity/Q3308419,http://www.wikidata.org/entity/Q35011,http://www.wikidata.org/entity/Q3502393,http://www.wikidata.org/entity/Q599274,http://www.wikidata.org/entity/Q1189389,http://www.wikidata.org/entity/Q241160,http://www.wikidata.org/entity/Q24681278,http://www.wikidata.org/entity/Q376182,http://www.wikidata.org/entity/Q510546,http://www.wikidata.org/entity/Q1174905,http://www.wikidata.org/entity/Q16832134,http://www.wikidata.org/entity/Q174263,http://www.wikidata.org/entity/Q1977014,http://www.wikidata.org/entity/Q22943994,http://www.wikidata.org/entity/Q3550929,http://www.wikidata.org/entity/Q1062316,http://www.wikidata.org/entity/Q1334740,http://www.wikidata.org/entity/Q218542,http://www.wikidata.org/entity/Q2597,http://www.wikidata.org/entity/Q733691,http://www.wikidata.org/entity/Q3361195,http://www.wikidata.org/entity/Q717982,http://www.wikidata.org/entity/Q3314078,http://www.wikidata.org/entity/Q459082,http://www.wikidata.org/entity/Q459638,http://www.wikidata.org/entity/Q530810,http://www.wikidata.org/entity/Q430600,http://www.wikidata.org/entity/Q2838327,http://www.wikidata.org/entity/Q3217147,http://www.wikidata.org/entity/Q271500,http://www.wikidata.org/entity/Q3308580,http://www.wikidata.org/entity/Q23013340,http://www.wikidata.org/entity/Q456381,http://www.wikidata.org/entity/Q469920,http://www.wikidata.org/entity/Q23012381,http://www.wikidata.org/entity/Q263433,http://www.wikidata.org/entity/Q773355,http://www.wikidata.org/entity/Q1174314,http://www.wikidata.org/entity/Q1701620,http://www.wikidata.org/entity/Q271539,http://www.wikidata.org/entity/Q435647,http://www.wikidata.org/entity/Q7440839,http://www.wikidata.org/entity/Q133665,http://www.wikidata.org/entity/Q1388636,http://www.wikidata.org/entity/Q2787296,http://www.wikidata.org/entity/Q3180253,http://www.wikidata.org/entity/Q534352,http://www.wikidata.org/entity/Q941660,http://www.wikidata.org/entity/Q1341155,http://www.wikidata.org/entity/Q253467,http://www.wikidata.org/entity/Q3387690,http://www.wikidata.org/entity/Q237774,http://www.wikidata.org/entity/Q572974,http://www.wikidata.org/entity/Q6831480,http://www.wikidata.org/entity/Q16214472,http://www.wikidata.org/entity/Q274923,http://www.wikidata.org/entity/Q3196773,http://www.wikidata.org/entity/Q345877,http://www.wikidata.org/entity/Q1291127,http://www.wikidata.org/entity/Q293254,http://www.wikidata.org/entity/Q350595,http://www.wikidata.org/entity/Q1278420,http://www.wikidata.org/entity/Q1919391,http://www.wikidata.org/entity/Q523687,http://www.wikidata.org/entity/Q2347522,http://www.wikidata.org/entity/Q5515783,http://www.wikidata.org/entity/Q2883939,http://www.wikidata.org/entity/Q469891,http://www.wikidata.org/entity/Q235797,http://www.wikidata.org/entity/Q2915061,http://www.wikidata.org/entity/Q2927208,http://www.wikidata.org/entity/Q2307649,http://www.wikidata.org/entity/Q2633899,http://www.wikidata.org/entity/Q314606,http://www.wikidata.org/entity/Q40087,http://www.wikidata.org/entity/Q456156,http://www.wikidata.org/entity/Q23900757,http://www.wikidata.org/entity/Q2628916,http://www.wikidata.org/entity/Q374586,http://www.wikidata.org/entity/Q442298,http://www.wikidata.org/entity/Q1568060,http://www.wikidata.org/entity/Q297128,http://www.wikidata.org/entity/Q3851729,http://www.wikidata.org/entity/Q1359938,http://www.wikidata.org/entity/Q981809,http://www.wikidata.org/entity/Q1963890,http://www.wikidata.org/entity/Q452986,http://www.wikidata.org/entity/Q454088,http://www.wikidata.org/entity/Q526468,http://www.wikidata.org/entity/Q3709262,http://www.wikidata.org/entity/Q1353700,http://www.wikidata.org/entity/Q3469430,http://www.wikidata.org/entity/Q467753,http://www.wikidata.org/entity/Q3421647,http://www.wikidata.org/entity/Q1703231,http://www.wikidata.org/entity/Q5578715,http://www.wikidata.org/entity/Q469897,http://www.wikidata.org/entity/Q4933051,http://www.wikidata.org/entity/Q19866609,http://www.wikidata.org/entity/Q269683,http://www.wikidata.org/entity/Q5525271,http://www.wikidata.org/entity/Q18045010,http://www.wikidata.org/entity/Q2799612,http://www.wikidata.org/entity/Q2924500,http://www.wikidata.org/entity/Q548188,http://www.wikidata.org/entity/Q1189470,http://www.wikidata.org/entity/Q2602612,http://www.wikidata.org/entity/Q290156,http://www.wikidata.org/entity/Q508819,http://www.wikidata.org/entity/Q440172,http://www.wikidata.org/entity/Q1064297,http://www.wikidata.org/entity/Q23794243,http://www.wikidata.org/entity/Q1320797,http://www.wikidata.org/entity/Q1635631,http://www.wikidata.org/entity/Q17581460,http://www.wikidata.org/entity/Q17639606,http://www.wikidata.org/entity/Q3499226,http://www.wikidata.org/entity/Q3506064,http://www.wikidata.org/entity/Q7106276,http://www.wikidata.org/entity/Q2555929,http://www.wikidata.org/entity/Q1820773,http://www.wikidata.org/entity/Q14918002,http://www.wikidata.org/entity/Q258416,http://www.wikidata.org/entity/Q1749182,http://www.wikidata.org/entity/Q2794236,http://www.wikidata.org/entity/Q3109076,http://www.wikidata.org/entity/Q3135658,http://www.wikidata.org/entity/Q3161132,http://www.wikidata.org/entity/Q3308554,http://www.wikidata.org/entity/Q3808043,http://www.wikidata.org/entity/Q462468,http://www.wikidata.org/entity/Q687218,http://www.wikidata.org/entity/Q434717,http://www.wikidata.org/entity/Q441836,http://www.wikidata.org/entity/Q1395333,http://www.wikidata.org/entity/Q16773592,http://www.wikidata.org/entity/Q644565,http://www.wikidata.org/entity/Q271055,http://www.wikidata.org/entity/Q16200220,http://www.wikidata.org/entity/Q3607216,http://www.wikidata.org/entity/Q1189370,http://www.wikidata.org/entity/Q135395,http://www.wikidata.org/entity/Q144580,http://www.wikidata.org/entity/Q1503206,http://www.wikidata.org/entity/Q15778512,http://www.wikidata.org/entity/Q16233000,http://www.wikidata.org/entity/Q1654251,http://www.wikidata.org/entity/Q16734816,http://www.wikidata.org/entity/Q19662199,http://www.wikidata.org/entity/Q21716683,http://www.wikidata.org/entity/Q23011473,http://www.wikidata.org/entity/Q2923471,http://www.wikidata.org/entity/Q2960827,http://www.wikidata.org/entity/Q3122207,http://www.wikidata.org/entity/Q3431723,http://www.wikidata.org/entity/Q3809514,http://www.wikidata.org/entity/Q441974,http://www.wikidata.org/entity/Q452946,http://www.wikidata.org/entity/Q467317,http://www.wikidata.org/entity/Q525434,http://www.wikidata.org/entity/Q5387851,http://www.wikidata.org/entity/Q5411324,http://www.wikidata.org/entity/Q7177686,http://www.wikidata.org/entity/Q948793'), ('labelsObjects', \"Justina Machado,Julianna Guill,Stephen Full,Martin Spanjers,Kay Lenz,Gabrielle Miller,Chelsea Hobbs,Bruno Campos,Bree Turner,Lois Smith,Muse Watson,Johnathon Schaech,Jeffrey Combs,Virginia Williams,James Read,Chaney Kley,Jeremy Ratchford,Richard Edson,Shirley Knight,Edwin Hodge,Elena Satine,Monet Mazur,Lorenzo Henrie,Ellen Geer,David Parker,Mimi Kuzyk,Daniel Roebuck,Glenn E. Plummer,Robert Baker,Mark Adair-Rios,Beth Broderick,John Bennett Perry,Yara Shahidi,Michael Nouri,Frederick Koehler,Zack Ward,Sung Kang,Robin Shou,Joe Penny,Jake Johnson,Meredith Baxter,Lucinda Jenney,Kadeem Hardison,Dwight Hicks,Page Kennedy,Roxanne Hart,Christine Elise McCarthy,Peggy McCay,James Ingersoll,Laura Johnson,Diana Douglas,Michael Learned,Hallee Hirsh,Roddy Piper,Mary Jo Catlett,Ralph Waite,Clarence Williams III,Danny Pino,Zach Grenier,Jack McGee,Chris Sarandon,Keesha Sharp,Michael Badalucco,Harold Gould,Melinda Page Hamilton,Samantha Eggar,Bruce Boxleitner,Daniel Baldwin,Neil Jackson,Michael Paré,Johnny Lewis,Tracey Walter,Jaimé P. Gomez,Brett Cullen,Chris Sanders,Mae Whitman,Jack Conley,Jack Kehler,John Mahoney,Jake Thomas,Charles Napier,Chelcie Ross,April Grace,Len Lesser,Brad William Henke,Brian Bloom,Bill Clinton,Kim Coates,June Lockhart,Steven Culp,Brian Howe,John Diehl,Michael Jace,Bruce Gray,Reed Diamond,Don McManus,Gigi Rice,Polly Shannon,James Otis,Carel Struycken,Elya Baskin,Peter Graves,Nicolas Coster,Susan Blakely,Peter Onorati,Nina Siemaszko,Dale Dye,Cress Williams,Ken Howard,Sean Whalen,Rob Mayes,Marcus Giamatti,Jennifer Lawrence,Meredith Monroe,Loretta Devine,Allison Miller,Mitch Pileggi,Cameron Dye,Noel Fisher,Peter Dobson,Bellamy Young,Bobby Cannavale,Susanna Thompson,Kate Levering,Darcy Rose Byrnes,Claire Coffee,Kelly Overton,Shera Danese,Concetta Tomei,Deirdre Lovejoy,Cory Hardrict,Jake Richardson,Monte Markham,Autumn Reeser,Diana Scarwid,Kevin Chapman,Josh Randall,Monica Calhoun,Josh Hopkins,Sy Richardson,Bailey Chase,Douglas Smith,John Finn,Melissa Leo,Thomas F. Wilson,Željko Ivanek,Elisabeth Harnois,Eric Jungmann,Cody McMains,Donna Mills,Sherman Howard,Tim DeKay,Kate Jennings Grant,Summer Glau,Lolita Davidovich,James Greene,Jim Meskimen,Alexandra Holden,Patti Yasutake,Patty McCormack,Sam McMurray,Chad Faust,Justin Bruening,Megan Follows,Chelsea Field,Tess Harper,Rodney Eastman,Shannon Sturges,Brad Greenquist,Blake Robbins,Bonnie Burroughs,Patrick Gallagher,James Immekus,Jenna Fischer,Cassidy Freeman,Raphael Sbarge,Larry Joshua,Faran Tahir,Cooper Barnes,Robin Weigert,Ernie Hudson,Paul Gleason,Glenn Morshower,Tzi Ma,Montae Russell,Chris Ellis,Eion Bailey,Laura Allen,Meagan Good,Priscilla Pointer,Tracy Middendorf,Keke Palmer,Larry Brandenburg,Richard Steinmetz,Robert LaSardo,Julio Oscar Mechoso,Jerry Douglas,Joseph Campanella,Leleco Banks,Joel Polis,Tangi Miller,Patricia Belcher,Ellen Albertini Dow,Carl Lumbly,Geoffrey Lewis,Azura Skye,Rick Gonzalez,Marlene Forte,Drew Powell,Sam Hennings,Mel Harris,Lindy Booth,Daphne Ashbrook,Robert Picardo,Phil LaMarr,Nicholas Braun,Brandon Routh,George Newbern,Michael Welch,Mark Rolston,Daniel Kash,Thom Barry,Zachery Ty Bryan,Laura Bell Bundy,T. J. Thyne,JR Bourne,Dakin Matthews,Ian Anthony Dale,Lawrence Pressman,Paul Schulze,Tim de Zarn,Michael Shamus Wiles,John Kapelos,Maddy Curley,Steven Krueger,Justin Hartley,Shailene Woodley,Tania Raymonde,Mare Winningham,Scout Taylor-Compton,Helena Mattsson,Christopher Cousins,James Handy,Dee Wallace,Greg Cipes,Paul Wesley,Michael Mantell,Christina Cabot,Bradley Stryker,George Coe,Michele Hicks,Scott Michael Campbell,Steve Eastin,Sam Trammell,Valerie Azlynn,Brit Morgan,Sammi Hanratty,John Billingsley,Lorna Raver,Cynthia Ettinger,Lauren Stamile,Aaron Hill,Kyle Gallner,Shiloh Fernandez,M.C. Gainey,Jude Ciccolella,Thomas Kopache,Seamus Dever,Jacob Vargas,David Selby,Lauren Cohan,William R. Moses,Jeff Kober,John Kassir,Jim Abele,Christina Hendricks,Charlyne Yi,Piper Laurie,Kathryn Morris,Rob Nagle,Diane Ladd,Sarah Drew,Spencer Locke,Natasha Gregson Wagner,Kenneth Meseroll,Jessica Tuck,Erin Cummings,Kevin Cooney,Danielle Harris,Jud Tylor,Marshall Allman,Sarah Aldrich,Ian Bohen,Michael Ironside,Ronny Cox,Darby Stanchfield,Kirk Acevedo,Eve Gordon,Aloma Wright,Nikki DeLoach,Sarah Jane Morris,Eric Ladin,Johnny Messner,Jamie Anne Allman,Ryan Kelley,Madeline Carroll,Deborah Van Valkenburgh,Shawn Weatherly,James Greene,Nestor Carbonell,Amanda Wyss,W. Earl Brown,Jacqueline Obradors,Holmes Osborne,Michael O'Neill,Frances Fisher,Kim Miyori,Leon Russom,Chris Mulkey,Tracie Thoms,James MacDonald,Wings Hauser,Alexa Havins,David Julian Hirsh,Ellen Woglom,Rodney Rowland,Nelson McCormick,Jamie McShane,Richard Bakalyan,Channon Roe,Perry King,Maggie Grace,Johanna Braddy,Brad Rowe,Richard Portnow,Arye Gross,Miles Heizer,John White,Stacy Edwards,Sarah Laine,Amanda Schull,Allison Dunbar,Lanei Chapman,Tessa Thompson,Michael Woods,Franc Ross,Joelle Carter,Victoria Pratt,Victor McCay,Alona Tal,Timothy Omundson,David Eigenberg,John Rubinstein,Michelle Krusiec,Megan Boone,Sean Bridgers,Marla Gibbs,Tequan Richmond,Adam Pascal,Joel McCrary,Vanessa Bell Calloway,Clifton Powell,Robin Thomas,Theresa Russell,Wesley Jonathan,Daveigh Chase,Jason Gedrick,Michael J. Pagan,Ele Keats,Meredith Salenger,Kim Murphy,Harrison Page,Michael Constantine,Stacy Haiduk,Ricky Ullman,Gordon Clapp,Melissa Farman,Brent Huff,Steven Eckholdt,Gabriel Olds,Barbara Eve Harris,Robyn Lively,AnnaLynne McCord,James Madio,Brynn Thayer,Thomas Ian Griffith,Erin Cahill,Jeff Fahey,Justin Chambers,Anita Gillette,Steven Anderson,Tina Lifford,Nestor Serrano,Molly Cheek,Luke Askew,David Henrie,Mateo Arias,Raymond J. Barry,Mehcad Brooks,Najarra Townsend,Chandra West,Lee Majors,Michael Massee,Jamie Hector,Eugene Robert Glazer,Sal Landi,Sara Botsford,Lelia Goldoni,Jonathan LaPaglia,J. B. Blanc,Hedy Burress,Bob Koherr,Shelby Rabara,Ksenia Solo,Gary Hudson,Manny Montana,Carolyn McCormick,Brent Sexton,Joey Pollari,Jimmi Simpson,Travis Wester,Christine Woods,Jenna Leigh Green,Kathleen Lloyd,Charles Esten,Wyatt Smith,Greg Evigan,Braeden Lemasters,Tommy Savas,Susan Beaubian,Steven Grayhm,Suzanne Whang,Oscar Torre,Donna Pescow,Vicellous Reon Shannon,Michael Harney,Nicholle Tom,Robert Curtis Brown,Matt DeCaro,Jay Acovone,Hillary Tuck,James Hanlon,Michael Grant Terry,Jerry Shea,Erin Chambers,Robert Rusler,Shoshannah Stern,Sonja Sohn,Harve Presnell,Andrew Ducote,Patrick J. Adams,Emily Rose,Sufe Bradshaw,Aisha Hinds,Holland Roden,Lauren Woodland,Robert J. Steinmiller Jr.,Nick Price,Sarah Habel,Emilee Wallace,Benjamín Benítez,Kimberly Quinn,Lyndon Smith,Patrick Macmanus,Mark Weiler,Bradford Tatum,Charlie Babcock,Guy Wilson,Ridge Canipe,John O'Leary,Terri Garber,Beata Pozniak,Meta Golding,Hattie Winston,Erica Ash,Euriamis Losada,Peter White,Nick Wechsler\")]\n",
      "[('property', 'http://www.wikidata.org/prop/direct/P921'), ('labelProperty', 'main subject'), ('objects', 'http://www.wikidata.org/entity/Q7182789'), ('labelsObjects', 'Philadelphia Police Department')]\n",
      "[('property', 'http://www.wikidata.org/prop/direct/P31'), ('labelProperty', 'instance of'), ('objects', 'http://www.wikidata.org/entity/Q5398426'), ('labelsObjects', 'television series')]\n",
      "[('property', 'http://www.wikidata.org/prop/direct/P910'), ('labelProperty', \"topic's main category\"), ('objects', 'http://www.wikidata.org/entity/Q9607803'), ('labelsObjects', 'Category:Cold Case')]\n",
      "[('property', 'http://www.wikidata.org/prop/direct/P840'), ('labelProperty', 'narrative location'), ('objects', 'http://www.wikidata.org/entity/Q1345'), ('labelsObjects', 'Philadelphia')]\n",
      "[('property', 'http://www.wikidata.org/prop/direct/P674'), ('labelProperty', 'characters'), ('objects', 'http://www.wikidata.org/entity/Q7438243,http://www.wikidata.org/entity/Q6548377'), ('labelsObjects', 'Scotty Valens,Lilly Rush')]\n",
      "[('property', 'http://www.wikidata.org/prop/direct/P1431'), ('labelProperty', 'executive producer'), ('objects', 'http://www.wikidata.org/entity/Q545377'), ('labelsObjects', 'Meredith Stiehm')]\n",
      "[('property', 'http://www.wikidata.org/prop/direct/P495'), ('labelProperty', 'country of origin'), ('objects', 'http://www.wikidata.org/entity/Q30'), ('labelsObjects', 'United States of America')]\n",
      "[('property', 'http://www.wikidata.org/prop/direct/P86'), ('labelProperty', 'composer'), ('objects', 'http://www.wikidata.org/entity/Q6828073'), ('labelsObjects', 'Michael A. Levine')]\n",
      "18\n"
     ]
    }
   ],
   "source": [
    "queryString = \"\"\"\n",
    "SELECT DISTINCT ?property ?labelProperty (GROUP_CONCAT(?object ; separator = \",\")  AS ?objects) (GROUP_CONCAT(?labelObject; separator = \",\")  AS ?labelsObjects)\n",
    "WHERE \n",
    "{   \n",
    "   wd:Q733960 ?property ?object .  \n",
    " \n",
    "   # Labels\n",
    "   ?property sc:name ?labelProperty .      \n",
    "   ?object sc:name ?labelObject\n",
    "   \n",
    "   FILTER(!isLiteral(?object)) .   \n",
    "}GROUP BY ?property ?labelProperty\n",
    "LIMIT 50\n",
    "\"\"\"\n",
    "print(\"Results\")\n",
    "x=run_query(queryString)"
   ]
  },
  {
   "cell_type": "markdown",
   "id": "6f2b0c9a-1e57-4114-8c5b-543abcc178f3",
   "metadata": {
    "tags": []
   },
   "source": [
    "### Get the superclass of \"television series\" wd:Q5398426"
   ]
  },
  {
   "cell_type": "code",
   "execution_count": 22,
   "id": "7a20e12f-43c2-4981-8c1d-982ebc7b0a1e",
   "metadata": {},
   "outputs": [
    {
     "name": "stdout",
     "output_type": "stream",
     "text": [
      "Results\n",
      "[('superClass', 'http://www.wikidata.org/entity/Q15416'), ('labelSuperClass', 'television program')]\n",
      "[('superClass', 'http://www.wikidata.org/entity/Q7725310'), ('labelSuperClass', 'series of creative works')]\n",
      "2\n"
     ]
    }
   ],
   "source": [
    "queryString = \"\"\"\n",
    "SELECT DISTINCT ?superClass ?labelSuperClass\n",
    "WHERE \n",
    "{   \n",
    "    wd:Q5398426 wdt:P279 ?superClass .\n",
    "    \n",
    "    ?superClass sc:name ?labelSuperClass .\n",
    "}\n",
    "\"\"\"\n",
    "print(\"Results\")\n",
    "x=run_query(queryString)"
   ]
  },
  {
   "cell_type": "markdown",
   "id": "e50b4b43-06aa-41de-8a89-65c045e1070c",
   "metadata": {
    "tags": []
   },
   "source": [
    "### Get the superclass of \"series of creative works\" wd:Q7725310"
   ]
  },
  {
   "cell_type": "code",
   "execution_count": 23,
   "id": "158ac250-d1eb-49c3-a652-63dddc835271",
   "metadata": {},
   "outputs": [
    {
     "name": "stdout",
     "output_type": "stream",
     "text": [
      "Results\n",
      "[('superClass', 'http://www.wikidata.org/entity/Q20937557'), ('labelSuperClass', 'series')]\n",
      "[('superClass', 'http://www.wikidata.org/entity/Q17489659'), ('labelSuperClass', 'group of works')]\n",
      "2\n"
     ]
    }
   ],
   "source": [
    "queryString = \"\"\"\n",
    "SELECT DISTINCT ?superClass ?labelSuperClass\n",
    "WHERE \n",
    "{   \n",
    "    wd:Q7725310 wdt:P279 ?superClass .\n",
    "    \n",
    "    ?superClass sc:name ?labelSuperClass .\n",
    "}\n",
    "\"\"\"\n",
    "print(\"Results\")\n",
    "x=run_query(queryString)"
   ]
  },
  {
   "cell_type": "markdown",
   "id": "c441d99e-223a-40fd-bc23-6a6d87384da5",
   "metadata": {
    "tags": []
   },
   "source": [
    "### Get all subclasses of \"series\" wd:Q20937557"
   ]
  },
  {
   "cell_type": "code",
   "execution_count": 24,
   "id": "011a037f-c2dc-4178-a566-d592d090487f",
   "metadata": {},
   "outputs": [
    {
     "name": "stdout",
     "output_type": "stream",
     "text": [
      "Results\n",
      "[('subClass', 'http://www.wikidata.org/entity/Q332225'), ('labelSubclass', 'endgame')]\n",
      "[('subClass', 'http://www.wikidata.org/entity/Q98391050'), ('labelSubclass', 'nuclear tests series')]\n",
      "[('subClass', 'http://www.wikidata.org/entity/Q31836768'), ('labelSubclass', 'model series')]\n",
      "[('subClass', 'http://www.wikidata.org/entity/Q133250'), ('labelSubclass', 'sequence')]\n",
      "[('subClass', 'http://www.wikidata.org/entity/Q3249551'), ('labelSubclass', 'process')]\n",
      "[('subClass', 'http://www.wikidata.org/entity/Q11471'), ('labelSubclass', 'time')]\n",
      "[('subClass', 'http://www.wikidata.org/entity/Q52905625'), ('labelSubclass', 'numismatic serie')]\n",
      "[('subClass', 'http://www.wikidata.org/entity/Q12538685'), ('labelSubclass', 'roadshow')]\n",
      "[('subClass', 'http://www.wikidata.org/entity/Q11424'), ('labelSubclass', 'film')]\n",
      "[('subClass', 'http://www.wikidata.org/entity/Q15142889'), ('labelSubclass', 'weapon family')]\n",
      "[('subClass', 'http://www.wikidata.org/entity/Q1914636'), ('labelSubclass', 'activity')]\n",
      "[('subClass', 'http://www.wikidata.org/entity/Q1326471'), ('labelSubclass', 'chord progression')]\n",
      "[('subClass', 'http://www.wikidata.org/entity/Q357384'), ('labelSubclass', 'cascade')]\n",
      "[('subClass', 'http://www.wikidata.org/entity/Q22833421'), ('labelSubclass', 'international championship award series')]\n",
      "[('subClass', 'http://www.wikidata.org/entity/Q25917186'), ('labelSubclass', 'coordinated terrorist attack')]\n",
      "[('subClass', 'http://www.wikidata.org/entity/Q50378760'), ('labelSubclass', 'serial murder')]\n",
      "[('subClass', 'http://www.wikidata.org/entity/Q3350846'), ('labelSubclass', 'soil series')]\n",
      "[('subClass', 'http://www.wikidata.org/entity/Q811701'), ('labelSubclass', 'model series')]\n",
      "[('subClass', 'http://www.wikidata.org/entity/Q15139721'), ('labelSubclass', 'multigraph')]\n",
      "[('subClass', 'http://www.wikidata.org/entity/Q184754'), ('labelSubclass', 'string')]\n",
      "[('subClass', 'http://www.wikidata.org/entity/Q673383'), ('labelSubclass', 'stamp series')]\n",
      "[('subClass', 'http://www.wikidata.org/entity/Q7725310'), ('labelSubclass', 'series of creative works')]\n",
      "[('subClass', 'http://www.wikidata.org/entity/Q103632'), ('labelSubclass', 'chess opening')]\n",
      "[('subClass', 'http://www.wikidata.org/entity/Q1717977'), ('labelSubclass', 'joseki')]\n",
      "[('subClass', 'http://www.wikidata.org/entity/Q17638537'), ('labelSubclass', 'routine')]\n",
      "[('subClass', 'http://www.wikidata.org/entity/Q4116387'), ('labelSubclass', 'Burmese–Siamese wars')]\n",
      "[('subClass', 'http://www.wikidata.org/entity/Q2397485'), ('labelSubclass', 'chain')]\n",
      "[('subClass', 'http://www.wikidata.org/entity/Q7826011'), ('labelSubclass', 'tornado outbreak sequence')]\n",
      "[('subClass', 'http://www.wikidata.org/entity/Q1172540'), ('labelSubclass', 'data stream')]\n",
      "[('subClass', 'http://www.wikidata.org/entity/Q619458'), ('labelSubclass', 'orthogonal polynomials')]\n",
      "[('subClass', 'http://www.wikidata.org/entity/Q16266378'), ('labelSubclass', 'serial killing')]\n",
      "[('subClass', 'http://www.wikidata.org/entity/Q220397'), ('labelSubclass', 'saros cycle')]\n",
      "[('subClass', 'http://www.wikidata.org/entity/Q957073'), ('labelSubclass', 'consonant cluster')]\n",
      "[('subClass', 'http://www.wikidata.org/entity/Q11572907'), ('labelSubclass', 'succession to the throne')]\n",
      "[('subClass', 'http://www.wikidata.org/entity/Q118470'), ('labelSubclass', 'keyboard shortcut')]\n",
      "[('subClass', 'http://www.wikidata.org/entity/Q1959825'), ('labelSubclass', 'scale')]\n",
      "[('subClass', 'http://www.wikidata.org/entity/Q231685'), ('labelSubclass', 'stations of the cross')]\n",
      "[('subClass', 'http://www.wikidata.org/entity/Q6966227'), ('labelSubclass', 'narrative thread')]\n",
      "[('subClass', 'http://www.wikidata.org/entity/Q19368429'), ('labelSubclass', 'board game opening')]\n",
      "[('subClass', 'http://www.wikidata.org/entity/Q322259'), ('labelSubclass', 'middlegame')]\n",
      "[('subClass', 'http://www.wikidata.org/entity/Q41581639'), ('labelSubclass', 'series of 3')]\n",
      "[('subClass', 'http://www.wikidata.org/entity/Q1327579'), ('labelSubclass', 'code block')]\n",
      "[('subClass', 'http://www.wikidata.org/entity/Q66671292'), ('labelSubclass', 'MUTCD series')]\n",
      "[('subClass', 'http://www.wikidata.org/entity/Q332985'), ('labelSubclass', 'lineage')]\n",
      "[('subClass', 'http://www.wikidata.org/entity/Q10301427'), ('labelSubclass', 'moving image')]\n",
      "[('subClass', 'http://www.wikidata.org/entity/Q3511065'), ('labelSubclass', 'biological sequence')]\n",
      "[('subClass', 'http://www.wikidata.org/entity/Q43100730'), ('labelSubclass', 'series of performances')]\n",
      "[('subClass', 'http://www.wikidata.org/entity/Q23039048'), ('labelSubclass', 'series of rifles')]\n",
      "[('subClass', 'http://www.wikidata.org/entity/Q11988943'), ('labelSubclass', 'White paper')]\n",
      "[('subClass', 'http://www.wikidata.org/entity/Q2785518'), ('labelSubclass', 'Yoga series')]\n",
      "[('subClass', 'http://www.wikidata.org/entity/Q107736918'), ('labelSubclass', 'series of concerts')]\n",
      "[('subClass', 'http://www.wikidata.org/entity/Q43305378'), ('labelSubclass', 'series of paper sizes')]\n",
      "[('subClass', 'http://www.wikidata.org/entity/Q101949943'), ('labelSubclass', 'series of missions')]\n",
      "[('subClass', 'http://www.wikidata.org/entity/Q3888188'), ('labelSubclass', 'PROBA')]\n",
      "[('subClass', 'http://www.wikidata.org/entity/Q51329196'), ('labelSubclass', 'series of strikes')]\n",
      "[('subClass', 'http://www.wikidata.org/entity/Q5263723'), ('labelSubclass', 'descending tetrachord')]\n",
      "[('subClass', 'http://www.wikidata.org/entity/Q6031027'), ('labelSubclass', 'Information cascade')]\n",
      "[('subClass', 'http://www.wikidata.org/entity/Q3074551'), ('labelSubclass', 'traffic flow')]\n",
      "58\n"
     ]
    }
   ],
   "source": [
    "queryString = \"\"\"\n",
    "SELECT DISTINCT ?subClass ?labelSubclass\n",
    "WHERE \n",
    "{   \n",
    "    ?subClass wdt:P279 wd:Q20937557 ;\n",
    "              sc:name ?labelSubclass .\n",
    "}\n",
    "\"\"\"\n",
    "print(\"Results\")\n",
    "x=run_query(queryString)"
   ]
  },
  {
   "cell_type": "markdown",
   "id": "3cf81003-fc8c-4b58-9fcd-f6a9ec6ff0cb",
   "metadata": {
    "tags": []
   },
   "source": [
    "### Get all subclasses of \"series\" wd:Q20937557 that have the label that starts with \"f\""
   ]
  },
  {
   "cell_type": "code",
   "execution_count": 25,
   "id": "595ed239-b8da-4a9f-a327-ec3efbdd6257",
   "metadata": {},
   "outputs": [
    {
     "name": "stdout",
     "output_type": "stream",
     "text": [
      "Results\n",
      "[('subClass', 'http://www.wikidata.org/entity/Q11424'), ('labelSubclass', 'film')]\n",
      "1\n"
     ]
    }
   ],
   "source": [
    "queryString = \"\"\"\n",
    "SELECT DISTINCT ?subClass ?labelSubclass\n",
    "WHERE \n",
    "{   \n",
    "    ?subClass wdt:P279 wd:Q20937557 ;\n",
    "              sc:name ?labelSubclass .\n",
    "    FILTER REGEX(?labelSubclass, \"^f\")\n",
    "}\n",
    "\"\"\"\n",
    "print(\"Results\")\n",
    "x=run_query(queryString)"
   ]
  },
  {
   "cell_type": "markdown",
   "id": "3e139120-4d27-4a50-91e5-54f0b39f0e2c",
   "metadata": {
    "tags": []
   },
   "source": [
    "### Get the first 25 instance of (wdt:P31) of \"film\" (wd:Q11424)"
   ]
  },
  {
   "cell_type": "code",
   "execution_count": 27,
   "id": "78aa8c8c-5b36-4b56-815b-953eae33a0e9",
   "metadata": {},
   "outputs": [
    {
     "name": "stdout",
     "output_type": "stream",
     "text": [
      "Results\n",
      "[('film', 'http://www.wikidata.org/entity/Q8178307'), ('labelFilm', '15 Park Avenue')]\n",
      "[('film', 'http://www.wikidata.org/entity/Q8197668'), ('labelFilm', 'Idiot Love')]\n",
      "[('film', 'http://www.wikidata.org/entity/Q319263'), ('labelFilm', 'Doctor in the House')]\n",
      "[('film', 'http://www.wikidata.org/entity/Q8452990'), ('labelFilm', \"Sunday League - Pepik Hnatek's Final Match\")]\n",
      "[('film', 'http://www.wikidata.org/entity/Q284184'), ('labelFilm', 'Ra.One')]\n",
      "[('film', 'http://www.wikidata.org/entity/Q13637926'), ('labelFilm', 'Indra')]\n",
      "[('film', 'http://www.wikidata.org/entity/Q13638153'), ('labelFilm', 'Inner Senses')]\n",
      "[('film', 'http://www.wikidata.org/entity/Q13645807'), ('labelFilm', 'Madhumasam')]\n",
      "[('film', 'http://www.wikidata.org/entity/Q13647258'), ('labelFilm', 'Marupakkam')]\n",
      "[('film', 'http://www.wikidata.org/entity/Q13677566'), ('labelFilm', 'Timberjack')]\n",
      "[('film', 'http://www.wikidata.org/entity/Q13693967'), ('labelFilm', 'Cross')]\n",
      "[('film', 'http://www.wikidata.org/entity/Q15464247'), ('labelFilm', 'What the Fish')]\n",
      "[('film', 'http://www.wikidata.org/entity/Q15475237'), ('labelFilm', 'Mediastan')]\n",
      "[('film', 'http://www.wikidata.org/entity/Q15490985'), ('labelFilm', 'Jailhouse Heat')]\n",
      "[('film', 'http://www.wikidata.org/entity/Q15046558'), ('labelFilm', 'Life After Beth')]\n",
      "[('film', 'http://www.wikidata.org/entity/Q15584559'), ('labelFilm', 'Salvation Nell')]\n",
      "[('film', 'http://www.wikidata.org/entity/Q15596853'), ('labelFilm', 'Burying the Ex')]\n",
      "[('film', 'http://www.wikidata.org/entity/Q10323448'), ('labelFilm', 'Mamata')]\n",
      "[('film', 'http://www.wikidata.org/entity/Q12360731'), ('labelFilm', 'The Phantom of the Opera')]\n",
      "[('film', 'http://www.wikidata.org/entity/Q13732569'), ('labelFilm', 'Move On')]\n",
      "[('film', 'http://www.wikidata.org/entity/Q15721015'), ('labelFilm', 'Mamathe')]\n",
      "[('film', 'http://www.wikidata.org/entity/Q15721180'), ('labelFilm', 'Midida Hrudayagalu')]\n",
      "[('film', 'http://www.wikidata.org/entity/Q15721250'), ('labelFilm', 'Muriyada Mane')]\n",
      "[('film', 'http://www.wikidata.org/entity/Q15721274'), ('labelFilm', 'Mruthyunjaya')]\n",
      "[('film', 'http://www.wikidata.org/entity/Q15721789'), ('labelFilm', 'Rudra')]\n",
      "25\n"
     ]
    }
   ],
   "source": [
    "queryString = \"\"\"\n",
    "SELECT DISTINCT ?film ?labelFilm\n",
    "WHERE \n",
    "{   \n",
    "    ?film wdt:P31 wd:Q11424 ;\n",
    "              sc:name ?labelFilm .\n",
    "}LIMIT 25\n",
    "\"\"\"\n",
    "print(\"Results\")\n",
    "x=run_query(queryString)"
   ]
  },
  {
   "cell_type": "markdown",
   "id": "4e462509-5419-4b28-978b-7b705caf1ab3",
   "metadata": {
    "tags": []
   },
   "source": [
    "### Get all data property of \"15 Park Avenue\" (wd:Q11424)"
   ]
  },
  {
   "cell_type": "code",
   "execution_count": 34,
   "id": "1479ee4a-24a8-409f-8e93-67dc85db5232",
   "metadata": {},
   "outputs": [
    {
     "name": "stdout",
     "output_type": "stream",
     "text": [
      "Results\n",
      "[('property', 'http://www.wikidata.org/prop/direct/P1014'), ('label', 'Art & Architecture Thesaurus ID')]\n",
      "[('property', 'http://www.wikidata.org/prop/direct/P1036'), ('label', 'Dewey Decimal Classification')]\n",
      "[('property', 'http://www.wikidata.org/prop/direct/P1051'), ('label', 'PSH ID')]\n",
      "[('property', 'http://www.wikidata.org/prop/direct/P1225'), ('label', 'U.S. National Archives Identifier')]\n",
      "[('property', 'http://www.wikidata.org/prop/direct/P1245'), ('label', 'OmegaWiki Defined Meaning')]\n",
      "[('property', 'http://www.wikidata.org/prop/direct/P1256'), ('label', 'Iconclass notation')]\n",
      "[('property', 'http://www.wikidata.org/prop/direct/P1368'), ('label', 'LNB ID')]\n",
      "[('property', 'http://www.wikidata.org/prop/direct/P1417'), ('label', 'Encyclopædia Britannica Online ID')]\n",
      "[('property', 'http://www.wikidata.org/prop/direct/P1617'), ('label', 'BBC Things ID')]\n",
      "[('property', 'http://www.wikidata.org/prop/direct/P2167'), ('label', 'UNSPSC Code')]\n",
      "[('property', 'http://www.wikidata.org/prop/direct/P227'), ('label', 'GND ID')]\n",
      "[('property', 'http://www.wikidata.org/prop/direct/P2347'), ('label', 'YSO ID')]\n",
      "[('property', 'http://www.wikidata.org/prop/direct/P244'), ('label', 'Library of Congress authority ID')]\n",
      "[('property', 'http://www.wikidata.org/prop/direct/P2581'), ('label', 'BabelNet ID')]\n",
      "[('property', 'http://www.wikidata.org/prop/direct/P2612'), ('label', 'TED topic ID')]\n",
      "[('property', 'http://www.wikidata.org/prop/direct/P268'), ('label', 'Bibliothèque nationale de France ID')]\n",
      "[('property', 'http://www.wikidata.org/prop/direct/P3106'), ('label', 'Guardian topic ID')]\n",
      "[('property', 'http://www.wikidata.org/prop/direct/P3221'), ('label', 'New York Times topic ID')]\n",
      "[('property', 'http://www.wikidata.org/prop/direct/P3417'), ('label', 'Quora topic ID')]\n",
      "[('property', 'http://www.wikidata.org/prop/direct/P349'), ('label', 'National Diet Library ID')]\n",
      "[('property', 'http://www.wikidata.org/prop/direct/P3553'), ('label', 'Zhihu topic ID')]\n",
      "[('property', 'http://www.wikidata.org/prop/direct/P373'), ('label', 'Commons category')]\n",
      "[('property', 'http://www.wikidata.org/prop/direct/P3827'), ('label', 'JSTOR topic ID')]\n",
      "[('property', 'http://www.wikidata.org/prop/direct/P3832'), ('label', 'Europeana Fashion Vocabulary ID')]\n",
      "[('property', 'http://www.wikidata.org/prop/direct/P3911'), ('label', 'STW Thesaurus for Economics ID')]\n",
      "[('property', 'http://www.wikidata.org/prop/direct/P3916'), ('label', 'UNESCO Thesaurus ID')]\n",
      "[('property', 'http://www.wikidata.org/prop/direct/P3921'), ('label', 'Wikidata SPARQL query equivalent')]\n",
      "[('property', 'http://www.wikidata.org/prop/direct/P3984'), ('label', 'subreddit')]\n",
      "[('property', 'http://www.wikidata.org/prop/direct/P4527'), ('label', 'UK Parliament thesaurus ID')]\n",
      "[('property', 'http://www.wikidata.org/prop/direct/P486'), ('label', 'MeSH descriptor ID')]\n",
      "[('property', 'http://www.wikidata.org/prop/direct/P4953'), ('label', 'Library of Congress Genre/Form Terms ID')]\n",
      "[('property', 'http://www.wikidata.org/prop/direct/P508'), ('label', 'BNCF Thesaurus ID')]\n",
      "[('property', 'http://www.wikidata.org/prop/direct/P5198'), ('label', 'ASC Leiden Thesaurus ID')]\n",
      "[('property', 'http://www.wikidata.org/prop/direct/P5250'), ('label', 'IAB code')]\n",
      "[('property', 'http://www.wikidata.org/prop/direct/P5357'), ('label', 'The Encyclopedia of Science Fiction ID')]\n",
      "[('property', 'http://www.wikidata.org/prop/direct/P6200'), ('label', 'BBC News topic ID')]\n",
      "[('property', 'http://www.wikidata.org/prop/direct/P6328'), ('label', 'Politika topic ID')]\n",
      "[('property', 'http://www.wikidata.org/prop/direct/P646'), ('label', 'Freebase ID')]\n",
      "[('property', 'http://www.wikidata.org/prop/direct/P6573'), ('label', 'Klexikon article ID')]\n",
      "[('property', 'http://www.wikidata.org/prop/direct/P7033'), ('label', 'Australian Educational Vocabulary ID')]\n",
      "[('property', 'http://www.wikidata.org/prop/direct/P7497'), ('label', 'Wolfram Language entity type')]\n",
      "[('property', 'http://www.wikidata.org/prop/direct/P7685'), ('label', 'CALS Encyclopedia of Arkansas ID')]\n",
      "[('property', 'http://www.wikidata.org/prop/direct/P7688'), ('label', 'Mississippi Encyclopedia ID')]\n",
      "[('property', 'http://www.wikidata.org/prop/direct/P7749'), ('label', 'Nomenclature for Museum Cataloging')]\n",
      "[('property', 'http://www.wikidata.org/prop/direct/P7818'), ('label', 'French Vikidia ID')]\n",
      "[('property', 'http://www.wikidata.org/prop/direct/P7827'), ('label', 'Spanish Vikidia ID')]\n",
      "[('property', 'http://www.wikidata.org/prop/direct/P7952'), ('label', 'The First Amendment Encyclopedia ID')]\n",
      "[('property', 'http://www.wikidata.org/prop/direct/P8309'), ('label', 'Yle topic ID')]\n",
      "[('property', 'http://www.wikidata.org/prop/direct/P8408'), ('label', 'KBpedia ID')]\n",
      "[('property', 'http://www.wikidata.org/prop/direct/P8519'), ('label', 'RKD thesaurus ID')]\n",
      "[('property', 'http://www.wikidata.org/prop/direct/P8672'), ('label', 'Twitter topic ID')]\n",
      "[('property', 'http://www.wikidata.org/prop/direct/P9318'), ('label', 'Ávvir topic ID')]\n",
      "[('property', 'http://www.wikidata.org/prop/direct/P950'), ('label', 'Biblioteca Nacional de España ID')]\n",
      "[('property', 'http://www.wikidata.org/prop/direct/P9545'), ('label', 'Encyclopedia of China Online Database ID')]\n",
      "[('property', 'http://www.wikidata.org/prop/direct/P7697'), ('label', 'Maine: An Encyclopedia ID')]\n",
      "55\n"
     ]
    }
   ],
   "source": [
    "queryString = \"\"\"\n",
    "SELECT DISTINCT ?property ?label\n",
    "WHERE {   \n",
    "   wd:Q11424 ?property ?object .\n",
    "   ?property sc:name ?label .\n",
    "   FILTER(isLiteral(?object)) .   \n",
    "}\n",
    "\"\"\"\n",
    "print(\"Results\")\n",
    "x=run_query(queryString)"
   ]
  },
  {
   "cell_type": "markdown",
   "id": "4de32a67-ac1a-4afd-b0ec-5ebc26cfc232",
   "metadata": {
    "tags": []
   },
   "source": [
    "### Get all data property of \"15 Park Avenue\"  (wd:Q11424) that do not contain ID"
   ]
  },
  {
   "cell_type": "code",
   "execution_count": 33,
   "id": "68c554ed-b43c-47ab-9ce2-c9e997c39116",
   "metadata": {},
   "outputs": [
    {
     "name": "stdout",
     "output_type": "stream",
     "text": [
      "Results\n",
      "[('property', 'http://www.wikidata.org/prop/direct/P1036'), ('label', 'Dewey Decimal Classification')]\n",
      "[('property', 'http://www.wikidata.org/prop/direct/P1225'), ('label', 'U.S. National Archives Identifier')]\n",
      "[('property', 'http://www.wikidata.org/prop/direct/P1245'), ('label', 'OmegaWiki Defined Meaning')]\n",
      "[('property', 'http://www.wikidata.org/prop/direct/P1256'), ('label', 'Iconclass notation')]\n",
      "[('property', 'http://www.wikidata.org/prop/direct/P2167'), ('label', 'UNSPSC Code')]\n",
      "[('property', 'http://www.wikidata.org/prop/direct/P373'), ('label', 'Commons category')]\n",
      "[('property', 'http://www.wikidata.org/prop/direct/P3921'), ('label', 'Wikidata SPARQL query equivalent')]\n",
      "[('property', 'http://www.wikidata.org/prop/direct/P3984'), ('label', 'subreddit')]\n",
      "[('property', 'http://www.wikidata.org/prop/direct/P5250'), ('label', 'IAB code')]\n",
      "[('property', 'http://www.wikidata.org/prop/direct/P7497'), ('label', 'Wolfram Language entity type')]\n",
      "[('property', 'http://www.wikidata.org/prop/direct/P7749'), ('label', 'Nomenclature for Museum Cataloging')]\n",
      "11\n"
     ]
    }
   ],
   "source": [
    "queryString = \"\"\"\n",
    "SELECT DISTINCT ?property ?label\n",
    "WHERE {   \n",
    "   wd:Q11424 ?property ?object .\n",
    "   ?property sc:name ?label .\n",
    "   FILTER(isLiteral(?object)) .\n",
    "   FILTER REGEX(?label, \"^((?!ID).)*$\") . \n",
    "}\n",
    "\"\"\"\n",
    "print(\"Results\")\n",
    "x=run_query(queryString)"
   ]
  },
  {
   "cell_type": "markdown",
   "id": "30ed02f0-c3dc-4a33-ba8f-04843d00852d",
   "metadata": {
    "tags": []
   },
   "source": [
    "### Get the class of \"15 Park Avenue\" (wd:Q11424)"
   ]
  },
  {
   "cell_type": "code",
   "execution_count": 32,
   "id": "a7c99c24-0659-4edf-adaf-cee3db26a101",
   "metadata": {},
   "outputs": [
    {
     "name": "stdout",
     "output_type": "stream",
     "text": [
      "Results\n",
      "Empty\n"
     ]
    }
   ],
   "source": [
    "queryString = \"\"\"\n",
    "SELECT DISTINCT ?class ?label\n",
    "WHERE {   \n",
    "   wd:Q11424 wdt:P31 ?class .\n",
    "   ?class sc:name ?label .     \n",
    "}\n",
    "\"\"\"\n",
    "print(\"Results\")\n",
    "x=run_query(queryString)"
   ]
  },
  {
   "cell_type": "markdown",
   "id": "32ef6f32-6abd-4cf7-957b-074e9ab051a1",
   "metadata": {
    "tags": []
   },
   "source": [
    "### Get all object properties of \"15 Park Avenue\"  (wd:Q11424)"
   ]
  },
  {
   "cell_type": "code",
   "execution_count": 31,
   "id": "5a811873-0511-4310-bca7-4032aca6fe16",
   "metadata": {},
   "outputs": [
    {
     "name": "stdout",
     "output_type": "stream",
     "text": [
      "Results\n",
      "[('property', 'http://www.wikidata.org/prop/direct/P1151'), ('label', \"topic's main Wikimedia portal\")]\n",
      "[('property', 'http://www.wikidata.org/prop/direct/P1343'), ('label', 'described by source')]\n",
      "[('property', 'http://www.wikidata.org/prop/direct/P1424'), ('label', \"topic's main template\")]\n",
      "[('property', 'http://www.wikidata.org/prop/direct/P1709'), ('label', 'equivalent class')]\n",
      "[('property', 'http://www.wikidata.org/prop/direct/P18'), ('label', 'image')]\n",
      "[('property', 'http://www.wikidata.org/prop/direct/P1889'), ('label', 'different from')]\n",
      "[('property', 'http://www.wikidata.org/prop/direct/P1963'), ('label', 'properties for this type')]\n",
      "[('property', 'http://www.wikidata.org/prop/direct/P2579'), ('label', 'studied by')]\n",
      "[('property', 'http://www.wikidata.org/prop/direct/P279'), ('label', 'subclass of')]\n",
      "[('property', 'http://www.wikidata.org/prop/direct/P2888'), ('label', 'exact match')]\n",
      "[('property', 'http://www.wikidata.org/prop/direct/P2959'), ('label', 'permanent duplicated item')]\n",
      "[('property', 'http://www.wikidata.org/prop/direct/P460'), ('label', 'said to be the same as')]\n",
      "[('property', 'http://www.wikidata.org/prop/direct/P5008'), ('label', 'on focus list of Wikimedia project')]\n",
      "[('property', 'http://www.wikidata.org/prop/direct/P5125'), ('label', 'Wikimedia outline')]\n",
      "[('property', 'http://www.wikidata.org/prop/direct/P527'), ('label', 'has part')]\n",
      "[('property', 'http://www.wikidata.org/prop/direct/P5869'), ('label', 'model item')]\n",
      "[('property', 'http://www.wikidata.org/prop/direct/P6104'), ('label', 'maintained by WikiProject')]\n",
      "[('property', 'http://www.wikidata.org/prop/direct/P6186'), ('label', 'category for eponymous categories')]\n",
      "[('property', 'http://www.wikidata.org/prop/direct/P8972'), ('label', 'small logo or icon')]\n",
      "[('property', 'http://www.wikidata.org/prop/direct/P910'), ('label', \"topic's main category\")]\n",
      "20\n"
     ]
    }
   ],
   "source": [
    "queryString = \"\"\"\n",
    "SELECT DISTINCT ?property ?label\n",
    "WHERE {   \n",
    "   wd:Q11424 ?property ?object .\n",
    "   ?property sc:name ?label .\n",
    "   FILTER(!isLiteral(?object)) .   \n",
    "}\n",
    "\"\"\"\n",
    "\n",
    "print(\"Results\")\n",
    "x=run_query(queryString)"
   ]
  },
  {
   "cell_type": "markdown",
   "id": "f5d1bbd3-2f59-46be-860d-fe02a6e92ebf",
   "metadata": {
    "tags": []
   },
   "source": [
    "### Get all the classes connected to \"15 Park Avenue\"  (wd:Q11424)"
   ]
  },
  {
   "cell_type": "code",
   "execution_count": 30,
   "id": "a7ee134f-c12f-4567-b7b5-24cec18a504e",
   "metadata": {},
   "outputs": [
    {
     "name": "stdout",
     "output_type": "stream",
     "text": [
      "Results\n",
      "[('objectClass', 'http://www.wikidata.org/entity/Q27659414'), ('label', 'Wikidata property related to fashion')]\n",
      "[('objectClass', 'http://www.wikidata.org/entity/Q46275839'), ('label', 'Wikidata property related to theater')]\n",
      "[('objectClass', 'http://www.wikidata.org/entity/Q107395292'), ('label', 'Wikidata property related to movies and television shows')]\n",
      "[('objectClass', 'http://www.wikidata.org/entity/Q66116790'), ('label', 'Wikidata property to identify music videos')]\n",
      "[('objectClass', 'http://www.wikidata.org/entity/Q16695773'), ('label', 'WikiProject')]\n",
      "[('objectClass', 'http://www.wikidata.org/entity/Q19307174'), ('label', 'digital distribution platform')]\n",
      "[('objectClass', 'http://www.wikidata.org/entity/Q28147643'), ('label', 'Wikidata property related to video games')]\n",
      "[('objectClass', 'http://www.wikidata.org/entity/Q29542094'), ('label', 'Wikidata property to identify films')]\n",
      "[('objectClass', 'http://www.wikidata.org/entity/Q51077473'), ('label', 'Wikidata property related to time and duration')]\n",
      "[('objectClass', 'http://www.wikidata.org/entity/Q59542487'), ('label', 'Wikimedia set category')]\n",
      "[('objectClass', 'http://www.wikidata.org/entity/Q21286738'), ('label', 'Wikimedia permanent duplicate item')]\n",
      "[('objectClass', 'http://www.wikidata.org/entity/Q336144'), ('label', 'anthology film')]\n",
      "[('objectClass', 'http://www.wikidata.org/entity/Q22965078'), ('label', 'Wikidata property for items about musical works')]\n",
      "[('objectClass', 'http://www.wikidata.org/entity/Q27151329'), ('label', 'Wikidata property related to photography')]\n",
      "[('objectClass', 'http://www.wikidata.org/entity/Q11266439'), ('label', 'Wikimedia template')]\n",
      "[('objectClass', 'http://www.wikidata.org/entity/Q11424'), ('label', 'film')]\n",
      "[('objectClass', 'http://www.wikidata.org/entity/Q11753321'), ('label', 'Wikimedia navigational template')]\n",
      "[('objectClass', 'http://www.wikidata.org/entity/Q11862829'), ('label', 'academic discipline')]\n",
      "[('objectClass', 'http://www.wikidata.org/entity/Q12737077'), ('label', 'occupation')]\n",
      "[('objectClass', 'http://www.wikidata.org/entity/Q13406463'), ('label', 'Wikimedia list article')]\n",
      "[('objectClass', 'http://www.wikidata.org/entity/Q15647814'), ('label', 'Wikimedia administration category')]\n",
      "[('objectClass', 'http://www.wikidata.org/entity/Q30432511'), ('label', 'metacategory in Wikimedia projects')]\n",
      "[('objectClass', 'http://www.wikidata.org/entity/Q4167836'), ('label', 'Wikimedia category')]\n",
      "[('objectClass', 'http://www.wikidata.org/entity/Q4671286'), ('label', 'academic major')]\n",
      "[('objectClass', 'http://www.wikidata.org/entity/Q59541917'), ('label', 'Wikimedia topic category')]\n",
      "[('objectClass', 'http://www.wikidata.org/entity/Q7094076'), ('label', 'online database')]\n",
      "[('objectClass', 'http://www.wikidata.org/entity/Q14204246'), ('label', 'Wikimedia project page')]\n",
      "[('objectClass', 'http://www.wikidata.org/entity/Q1469824'), ('label', 'controlled vocabulary')]\n",
      "[('objectClass', 'http://www.wikidata.org/entity/Q1525071'), ('label', 'universal encyclopedia')]\n",
      "[('objectClass', 'http://www.wikidata.org/entity/Q19887878'), ('label', 'Wikimedia infobox template')]\n",
      "[('objectClass', 'http://www.wikidata.org/entity/Q21077852'), ('label', 'Wikidata property for physical quantities')]\n",
      "[('objectClass', 'http://www.wikidata.org/entity/Q18615777'), ('label', 'Wikidata property to indicate a location')]\n",
      "[('objectClass', 'http://www.wikidata.org/entity/Q70564278'), ('label', 'Wikidata property used as \"depicts\" (P180) qualifier on Commons')]\n",
      "[('objectClass', 'http://www.wikidata.org/entity/Q18636219'), ('label', \"Wikidata property with datatype 'time'\")]\n",
      "[('objectClass', 'http://www.wikidata.org/entity/Q62589320'), ('label', 'Wikidata property for an identifier that does not imply notability')]\n",
      "[('objectClass', 'http://www.wikidata.org/entity/Q1799072'), ('label', 'method')]\n",
      "[('objectClass', 'http://www.wikidata.org/entity/Q4663903'), ('label', 'Wikimedia portal')]\n",
      "[('objectClass', 'http://www.wikidata.org/entity/Q17152639'), ('label', 'thesaurus')]\n",
      "[('objectClass', 'http://www.wikidata.org/entity/Q21745557'), ('label', 'Wikidata property to identify organizations')]\n",
      "[('objectClass', 'http://www.wikidata.org/entity/Q18608993'), ('label', 'Wikidata property for items about organizations')]\n",
      "[('objectClass', 'http://www.wikidata.org/entity/Q1239328'), ('label', 'national encyclopedia')]\n",
      "[('objectClass', 'http://www.wikidata.org/entity/Q26884324'), ('label', 'Wikimedia outline article')]\n",
      "[('objectClass', 'http://www.wikidata.org/entity/Q18608871'), ('label', 'Wikidata property for items about people')]\n",
      "[('objectClass', 'http://www.wikidata.org/entity/Q18618644'), ('label', 'Wikidata property for items about works')]\n",
      "[('objectClass', 'http://www.wikidata.org/entity/Q18635217'), ('label', 'Wikidata property for specifying the location of an event')]\n",
      "[('objectClass', 'http://www.wikidata.org/entity/Q19595382'), ('label', 'Wikidata property for authority control for people')]\n",
      "[('objectClass', 'http://www.wikidata.org/entity/Q22964274'), ('label', 'Wikidata property for identification in the film industry')]\n",
      "[('objectClass', 'http://www.wikidata.org/entity/Q29963999'), ('label', 'Wikidata property related to in-narrative data')]\n",
      "[('objectClass', 'http://www.wikidata.org/entity/Q18668171'), ('label', 'orderable Wikidata property')]\n",
      "[('objectClass', 'http://www.wikidata.org/entity/Q56150830'), ('label', 'Wikidata property related to awards, prizes and honours')]\n",
      "[('objectClass', 'http://www.wikidata.org/entity/Q57955292'), ('label', 'Wikidata property for items about people or organisations')]\n",
      "[('objectClass', 'http://www.wikidata.org/entity/Q81941037'), ('label', 'product distribution method')]\n",
      "[('objectClass', 'http://www.wikidata.org/entity/Q18608359'), ('label', 'Wikidata property to indicate a source')]\n",
      "[('objectClass', 'http://www.wikidata.org/entity/Q18616084'), ('label', 'Wikidata property to indicate a language')]\n",
      "[('objectClass', 'http://www.wikidata.org/entity/Q19643892'), ('label', 'Wikidata property to indicate a name')]\n",
      "[('objectClass', 'http://www.wikidata.org/entity/Q22984512'), ('label', 'Wikidata property related to works of fiction')]\n",
      "[('objectClass', 'http://www.wikidata.org/entity/Q22965162'), ('label', 'Wikidata property for items about films')]\n",
      "[('objectClass', 'http://www.wikidata.org/entity/Q84612171'), ('label', 'Wikidata property to identify podcasts')]\n",
      "[('objectClass', 'http://www.wikidata.org/entity/Q55663163'), ('label', 'Wikidata property related to television programs')]\n",
      "[('objectClass', 'http://www.wikidata.org/entity/Q28326730'), ('label', 'Wikidata property for the relationship of the element to its class')]\n",
      "[('objectClass', 'http://www.wikidata.org/entity/Q37911748'), ('label', 'partially deprecated property')]\n",
      "[('objectClass', 'http://www.wikidata.org/entity/Q66480643'), ('label', 'Wikidata property related to box office')]\n",
      "62\n"
     ]
    }
   ],
   "source": [
    "queryString = \"\"\"\n",
    "SELECT DISTINCT ?objectClass ?label\n",
    "WHERE {   \n",
    "   wd:Q11424 ?property ?object .\n",
    "   ?object wdt:P31 ?objectClass .\n",
    "   ?objectClass sc:name ?label .\n",
    "   FILTER(!isLiteral(?object)) .   \n",
    "}\n",
    "\"\"\"\n",
    "print(\"Results\")\n",
    "x=run_query(queryString)"
   ]
  },
  {
   "cell_type": "markdown",
   "id": "7b981bfc-6fc5-44d2-b1c9-81bbe402b8f7",
   "metadata": {
    "tags": []
   },
   "source": [
    "### Get all the couples (object property - list of the classes of the objects that are connected to \"15 Park Avenue\"  (wd:Q11424) through that object property)"
   ]
  },
  {
   "cell_type": "code",
   "execution_count": 29,
   "id": "a4baa4c5-1359-4a31-85d5-538248d9fb68",
   "metadata": {},
   "outputs": [
    {
     "name": "stdout",
     "output_type": "stream",
     "text": [
      "Results\n",
      "[('property', 'http://www.wikidata.org/prop/direct/P5125'), ('labelProperty', 'Wikimedia outline'), ('objectsClasses', 'http://www.wikidata.org/entity/Q13406463,http://www.wikidata.org/entity/Q26884324'), ('labelsObjectsClasses', 'Wikimedia list article,Wikimedia outline article')]\n",
      "[('property', 'http://www.wikidata.org/prop/direct/P5008'), ('labelProperty', 'on focus list of Wikimedia project'), ('objectsClasses', 'http://www.wikidata.org/entity/Q16695773,http://www.wikidata.org/entity/Q13406463,http://www.wikidata.org/entity/Q14204246'), ('labelsObjectsClasses', 'WikiProject,Wikimedia list article,Wikimedia project page')]\n",
      "[('property', 'http://www.wikidata.org/prop/direct/P5869'), ('labelProperty', 'model item'), ('objectsClasses', 'http://www.wikidata.org/entity/Q336144,http://www.wikidata.org/entity/Q11424,http://www.wikidata.org/entity/Q11424,http://www.wikidata.org/entity/Q11424,http://www.wikidata.org/entity/Q11424'), ('labelsObjectsClasses', 'anthology film,film,film,film,film')]\n",
      "[('property', 'http://www.wikidata.org/prop/direct/P2579'), ('labelProperty', 'studied by'), ('objectsClasses', 'http://www.wikidata.org/entity/Q11862829,http://www.wikidata.org/entity/Q11862829,http://www.wikidata.org/entity/Q4671286,http://www.wikidata.org/entity/Q4671286'), ('labelsObjectsClasses', 'academic discipline,academic discipline,academic major,academic major')]\n",
      "[('property', 'http://www.wikidata.org/prop/direct/P1424'), ('labelProperty', \"topic's main template\"), ('objectsClasses', 'http://www.wikidata.org/entity/Q11266439,http://www.wikidata.org/entity/Q11753321,http://www.wikidata.org/entity/Q11753321,http://www.wikidata.org/entity/Q11753321,http://www.wikidata.org/entity/Q11753321,http://www.wikidata.org/entity/Q19887878'), ('labelsObjectsClasses', 'Wikimedia template,Wikimedia navigational template,Wikimedia navigational template,Wikimedia navigational template,Wikimedia navigational template,Wikimedia infobox template')]\n",
      "[('property', 'http://www.wikidata.org/prop/direct/P2959'), ('labelProperty', 'permanent duplicated item'), ('objectsClasses', 'http://www.wikidata.org/entity/Q21286738'), ('labelsObjectsClasses', 'Wikimedia permanent duplicate item')]\n",
      "[('property', 'http://www.wikidata.org/prop/direct/P6104'), ('labelProperty', 'maintained by WikiProject'), ('objectsClasses', 'http://www.wikidata.org/entity/Q16695773'), ('labelsObjectsClasses', 'WikiProject')]\n",
      "[('property', 'http://www.wikidata.org/prop/direct/P6186'), ('labelProperty', 'category for eponymous categories'), ('objectsClasses', 'http://www.wikidata.org/entity/Q15647814,http://www.wikidata.org/entity/Q30432511'), ('labelsObjectsClasses', 'Wikimedia administration category,metacategory in Wikimedia projects')]\n",
      "[('property', 'http://www.wikidata.org/prop/direct/P460'), ('labelProperty', 'said to be the same as'), ('objectsClasses', 'http://www.wikidata.org/entity/Q1799072'), ('labelsObjectsClasses', 'method')]\n",
      "[('property', 'http://www.wikidata.org/prop/direct/P1889'), ('labelProperty', 'different from'), ('objectsClasses', 'http://www.wikidata.org/entity/Q81941037'), ('labelsObjectsClasses', 'product distribution method')]\n",
      "[('property', 'http://www.wikidata.org/prop/direct/P1963'), ('labelProperty', 'properties for this type'), ('objectsClasses', 'http://www.wikidata.org/entity/Q27659414,http://www.wikidata.org/entity/Q46275839,http://www.wikidata.org/entity/Q107395292,http://www.wikidata.org/entity/Q66116790,http://www.wikidata.org/entity/Q19307174,http://www.wikidata.org/entity/Q28147643,http://www.wikidata.org/entity/Q29542094,http://www.wikidata.org/entity/Q29542094,http://www.wikidata.org/entity/Q29542094,http://www.wikidata.org/entity/Q29542094,http://www.wikidata.org/entity/Q29542094,http://www.wikidata.org/entity/Q51077473,http://www.wikidata.org/entity/Q22965078,http://www.wikidata.org/entity/Q22965078,http://www.wikidata.org/entity/Q22965078,http://www.wikidata.org/entity/Q27151329,http://www.wikidata.org/entity/Q12737077,http://www.wikidata.org/entity/Q21077852,http://www.wikidata.org/entity/Q18615777,http://www.wikidata.org/entity/Q70564278,http://www.wikidata.org/entity/Q70564278,http://www.wikidata.org/entity/Q70564278,http://www.wikidata.org/entity/Q18636219,http://www.wikidata.org/entity/Q62589320,http://www.wikidata.org/entity/Q21745557,http://www.wikidata.org/entity/Q18608993,http://www.wikidata.org/entity/Q18608871,http://www.wikidata.org/entity/Q18618644,http://www.wikidata.org/entity/Q18618644,http://www.wikidata.org/entity/Q18618644,http://www.wikidata.org/entity/Q18618644,http://www.wikidata.org/entity/Q18618644,http://www.wikidata.org/entity/Q18618644,http://www.wikidata.org/entity/Q18618644,http://www.wikidata.org/entity/Q18618644,http://www.wikidata.org/entity/Q18618644,http://www.wikidata.org/entity/Q18618644,http://www.wikidata.org/entity/Q18618644,http://www.wikidata.org/entity/Q18618644,http://www.wikidata.org/entity/Q18618644,http://www.wikidata.org/entity/Q18618644,http://www.wikidata.org/entity/Q18618644,http://www.wikidata.org/entity/Q18618644,http://www.wikidata.org/entity/Q18635217,http://www.wikidata.org/entity/Q19595382,http://www.wikidata.org/entity/Q19595382,http://www.wikidata.org/entity/Q22964274,http://www.wikidata.org/entity/Q22964274,http://www.wikidata.org/entity/Q29963999,http://www.wikidata.org/entity/Q29963999,http://www.wikidata.org/entity/Q18668171,http://www.wikidata.org/entity/Q56150830,http://www.wikidata.org/entity/Q57955292,http://www.wikidata.org/entity/Q18608359,http://www.wikidata.org/entity/Q18608359,http://www.wikidata.org/entity/Q18608359,http://www.wikidata.org/entity/Q18616084,http://www.wikidata.org/entity/Q19643892,http://www.wikidata.org/entity/Q22984512,http://www.wikidata.org/entity/Q22965162,http://www.wikidata.org/entity/Q22965162,http://www.wikidata.org/entity/Q22965162,http://www.wikidata.org/entity/Q22965162,http://www.wikidata.org/entity/Q22965162,http://www.wikidata.org/entity/Q22965162,http://www.wikidata.org/entity/Q22965162,http://www.wikidata.org/entity/Q22965162,http://www.wikidata.org/entity/Q22965162,http://www.wikidata.org/entity/Q22965162,http://www.wikidata.org/entity/Q84612171,http://www.wikidata.org/entity/Q55663163,http://www.wikidata.org/entity/Q28326730,http://www.wikidata.org/entity/Q37911748,http://www.wikidata.org/entity/Q66480643'), ('labelsObjectsClasses', 'Wikidata property related to fashion,Wikidata property related to theater,Wikidata property related to movies and television shows,Wikidata property to identify music videos,digital distribution platform,Wikidata property related to video games,Wikidata property to identify films,Wikidata property to identify films,Wikidata property to identify films,Wikidata property to identify films,Wikidata property to identify films,Wikidata property related to time and duration,Wikidata property for items about musical works,Wikidata property for items about musical works,Wikidata property for items about musical works,Wikidata property related to photography,occupation,Wikidata property for physical quantities,Wikidata property to indicate a location,Wikidata property used as \"depicts\" (P180) qualifier on Commons,Wikidata property used as \"depicts\" (P180) qualifier on Commons,Wikidata property used as \"depicts\" (P180) qualifier on Commons,Wikidata property with datatype \\'time\\',Wikidata property for an identifier that does not imply notability,Wikidata property to identify organizations,Wikidata property for items about organizations,Wikidata property for items about people,Wikidata property for items about works,Wikidata property for items about works,Wikidata property for items about works,Wikidata property for items about works,Wikidata property for items about works,Wikidata property for items about works,Wikidata property for items about works,Wikidata property for items about works,Wikidata property for items about works,Wikidata property for items about works,Wikidata property for items about works,Wikidata property for items about works,Wikidata property for items about works,Wikidata property for items about works,Wikidata property for items about works,Wikidata property for items about works,Wikidata property for specifying the location of an event,Wikidata property for authority control for people,Wikidata property for authority control for people,Wikidata property for identification in the film industry,Wikidata property for identification in the film industry,Wikidata property related to in-narrative data,Wikidata property related to in-narrative data,orderable Wikidata property,Wikidata property related to awards, prizes and honours,Wikidata property for items about people or organisations,Wikidata property to indicate a source,Wikidata property to indicate a source,Wikidata property to indicate a source,Wikidata property to indicate a language,Wikidata property to indicate a name,Wikidata property related to works of fiction,Wikidata property for items about films,Wikidata property for items about films,Wikidata property for items about films,Wikidata property for items about films,Wikidata property for items about films,Wikidata property for items about films,Wikidata property for items about films,Wikidata property for items about films,Wikidata property for items about films,Wikidata property for items about films,Wikidata property to identify podcasts,Wikidata property related to television programs,Wikidata property for the relationship of the element to its class,partially deprecated property,Wikidata property related to box office')]\n",
      "[('property', 'http://www.wikidata.org/prop/direct/P910'), ('labelProperty', \"topic's main category\"), ('objectsClasses', 'http://www.wikidata.org/entity/Q59542487,http://www.wikidata.org/entity/Q4167836,http://www.wikidata.org/entity/Q4167836,http://www.wikidata.org/entity/Q59541917'), ('labelsObjectsClasses', 'Wikimedia set category,Wikimedia category,Wikimedia category,Wikimedia topic category')]\n",
      "[('property', 'http://www.wikidata.org/prop/direct/P1343'), ('labelProperty', 'described by source'), ('objectsClasses', 'http://www.wikidata.org/entity/Q7094076,http://www.wikidata.org/entity/Q1469824,http://www.wikidata.org/entity/Q1525071,http://www.wikidata.org/entity/Q17152639,http://www.wikidata.org/entity/Q1239328'), ('labelsObjectsClasses', 'online database,controlled vocabulary,universal encyclopedia,thesaurus,national encyclopedia')]\n",
      "[('property', 'http://www.wikidata.org/prop/direct/P1151'), ('labelProperty', \"topic's main Wikimedia portal\"), ('objectsClasses', 'http://www.wikidata.org/entity/Q4663903'), ('labelsObjectsClasses', 'Wikimedia portal')]\n",
      "14\n"
     ]
    }
   ],
   "source": [
    "queryString = \"\"\"\n",
    "SELECT DISTINCT ?property ?labelProperty (GROUP_CONCAT(?objectClass ; separator = \",\")  AS ?objectsClasses) (GROUP_CONCAT(?labelObjectClass ; separator = \",\")  AS ?labelsObjectsClasses)\n",
    "WHERE \n",
    "{   \n",
    "   wd:Q11424 ?property ?object .  \n",
    "   ?object wdt:P31 ?objectClass .\n",
    "   \n",
    "   # Labels\n",
    "   ?property sc:name ?labelProperty .      \n",
    "   ?objectClass sc:name ?labelObjectClass .\n",
    "   \n",
    "   FILTER(!isLiteral(?object)) .   \n",
    "}GROUP BY ?property ?labelProperty\n",
    "LIMIT 50\n",
    "\"\"\"\n",
    "print(\"Results\")\n",
    "x=run_query(queryString)"
   ]
  },
  {
   "cell_type": "markdown",
   "id": "07e794bf-43ac-43ac-8aab-4c20df6b0c84",
   "metadata": {
    "tags": []
   },
   "source": [
    "### Get all the couples (object property - list of the  objects that are connected to \"15 Park Avenue\"  (wd:Q11424) through that object property)"
   ]
  },
  {
   "cell_type": "code",
   "execution_count": 28,
   "id": "2557db8a-96a7-4d46-90a9-a8ef96060ece",
   "metadata": {},
   "outputs": [
    {
     "name": "stdout",
     "output_type": "stream",
     "text": [
      "Results\n",
      "[('property', 'http://www.wikidata.org/prop/direct/P5125'), ('labelProperty', 'Wikimedia outline'), ('objects', 'http://www.wikidata.org/entity/Q7112632'), ('labelsObjects', 'outline of film')]\n",
      "[('property', 'http://www.wikidata.org/prop/direct/P527'), ('labelProperty', 'has part'), ('objects', 'http://www.wikidata.org/entity/Q441606,http://www.wikidata.org/entity/Q20820424,http://www.wikidata.org/entity/Q795160,http://www.wikidata.org/entity/Q622550,http://www.wikidata.org/entity/Q4458345'), ('labelsObjects', 'title sequence,credit,film frame,trailer,motion picture credits')]\n",
      "[('property', 'http://www.wikidata.org/prop/direct/P5008'), ('labelProperty', 'on focus list of Wikimedia project'), ('objects', 'http://www.wikidata.org/entity/Q5460604'), ('labelsObjects', 'Wikipedia:Vital articles')]\n",
      "[('property', 'http://www.wikidata.org/prop/direct/P5869'), ('labelProperty', 'model item'), ('objects', 'http://www.wikidata.org/entity/Q17738,http://www.wikidata.org/entity/Q192724,http://www.wikidata.org/entity/Q2345,http://www.wikidata.org/entity/Q16672466,http://www.wikidata.org/entity/Q24815'), ('labelsObjects', 'Star Wars: Episode IV – A New Hope,Iron Man,12 Angry Men,Wild Tales,Citizen Kane')]\n",
      "[('property', 'http://www.wikidata.org/prop/direct/P2579'), ('labelProperty', 'studied by'), ('objects', 'http://www.wikidata.org/entity/Q1660187,http://www.wikidata.org/entity/Q28793'), ('labelsObjects', 'film studies,film theory')]\n",
      "[('property', 'http://www.wikidata.org/prop/direct/P1424'), ('labelProperty', \"topic's main template\"), ('objects', 'http://www.wikidata.org/entity/Q6171351'), ('labelsObjects', 'Template:Infobox film')]\n",
      "[('property', 'http://www.wikidata.org/prop/direct/P6104'), ('labelProperty', 'maintained by WikiProject'), ('objects', 'http://www.wikidata.org/entity/Q8485793'), ('labelsObjects', 'WikiProject Film')]\n",
      "[('property', 'http://www.wikidata.org/prop/direct/P6186'), ('labelProperty', 'category for eponymous categories'), ('objects', 'http://www.wikidata.org/entity/Q8104425'), ('labelsObjects', 'Category:Wikipedia categories named after films')]\n",
      "[('property', 'http://www.wikidata.org/prop/direct/P460'), ('labelProperty', 'said to be the same as'), ('objects', 'http://www.wikidata.org/entity/Q16144339'), ('labelsObjects', 'cinema')]\n",
      "[('property', 'http://www.wikidata.org/prop/direct/P1889'), ('labelProperty', 'different from'), ('objects', 'http://www.wikidata.org/entity/Q105759907,http://www.wikidata.org/entity/Q45871375'), ('labelsObjects', 'film reel,film reel')]\n",
      "[('property', 'http://www.wikidata.org/prop/direct/P1963'), ('labelProperty', 'properties for this type'), ('objects', 'http://www.wikidata.org/entity/P345,http://www.wikidata.org/entity/P1040,http://www.wikidata.org/entity/P344,http://www.wikidata.org/entity/P1476,http://www.wikidata.org/entity/P2047,http://www.wikidata.org/entity/P162,http://www.wikidata.org/entity/P921,http://www.wikidata.org/entity/P577,http://www.wikidata.org/entity/P495,http://www.wikidata.org/entity/P3816,http://www.wikidata.org/entity/P179,http://www.wikidata.org/entity/P480,http://www.wikidata.org/entity/P136,http://www.wikidata.org/entity/P2408,http://www.wikidata.org/entity/P840,http://www.wikidata.org/entity/P86,http://www.wikidata.org/entity/P915,http://www.wikidata.org/entity/P161,http://www.wikidata.org/entity/P166,http://www.wikidata.org/entity/P364,http://www.wikidata.org/entity/P750,http://www.wikidata.org/entity/P2208,http://www.wikidata.org/entity/P2554,http://www.wikidata.org/entity/P57,http://www.wikidata.org/entity/P58,http://www.wikidata.org/entity/P144,http://www.wikidata.org/entity/P1237,http://www.wikidata.org/entity/P1431,http://www.wikidata.org/entity/P2142,http://www.wikidata.org/entity/P2515,http://www.wikidata.org/entity/P2603,http://www.wikidata.org/entity/P2639,http://www.wikidata.org/entity/P2755,http://www.wikidata.org/entity/P3803,http://www.wikidata.org/entity/P676,http://www.wikidata.org/entity/P8345'), ('labelsObjects', 'IMDb ID,film editor,director of photography,title,duration,producer,main subject,publication date,country of origin,film script,part of the series,FilmAffinity ID,genre,set in period,narrative location,composer,filming location,cast member,award received,original language of film or TV show,distributed by,average shot length,production designer,director,screenwriter,based on,Box Office Mojo film ID (former scheme),executive producer,box office,costume designer,Kinopoisk film ID,Filmportal ID,exploitation visa number,original film format,lyrics by,media franchise')]\n",
      "[('property', 'http://www.wikidata.org/prop/direct/P910'), ('labelProperty', \"topic's main category\"), ('objects', 'http://www.wikidata.org/entity/Q55321,http://www.wikidata.org/entity/Q1458269'), ('labelsObjects', 'Category:Films,Category:Film')]\n",
      "[('property', 'http://www.wikidata.org/prop/direct/P1343'), ('labelProperty', 'described by source'), ('objects', 'http://www.wikidata.org/entity/Q106727050,http://www.wikidata.org/entity/Q2657718'), ('labelsObjects', 'Metropolitan Museum of Art Tagging Vocabulary,Armenian Soviet Encyclopedia')]\n",
      "[('property', 'http://www.wikidata.org/prop/direct/P1151'), ('labelProperty', \"topic's main Wikimedia portal\"), ('objects', 'http://www.wikidata.org/entity/Q3296835'), ('labelsObjects', 'Portal:Film')]\n",
      "[('property', 'http://www.wikidata.org/prop/direct/P279'), ('labelProperty', 'subclass of'), ('objects', 'http://www.wikidata.org/entity/Q20937557,http://www.wikidata.org/entity/Q4502142,http://www.wikidata.org/entity/Q2431196,http://www.wikidata.org/entity/Q10301427'), ('labelsObjects', 'series,visual artwork,audiovisual work,moving image')]\n",
      "15\n"
     ]
    }
   ],
   "source": [
    "queryString = \"\"\"\n",
    "SELECT DISTINCT ?property ?labelProperty (GROUP_CONCAT(?object ; separator = \",\")  AS ?objects) (GROUP_CONCAT(?labelObject; separator = \",\")  AS ?labelsObjects)\n",
    "WHERE \n",
    "{   \n",
    "   wd:Q11424 ?property ?object .  \n",
    " \n",
    "   # Labels\n",
    "   ?property sc:name ?labelProperty .      \n",
    "   ?object sc:name ?labelObject\n",
    "   \n",
    "   FILTER(!isLiteral(?object)) .   \n",
    "}GROUP BY ?property ?labelProperty\n",
    "LIMIT 50\n",
    "\"\"\"\n",
    "print(\"Results\")\n",
    "x=run_query(queryString)"
   ]
  },
  {
   "cell_type": "markdown",
   "id": "25201e98-25b4-4ac6-86f7-741e819a26a6",
   "metadata": {
    "tags": []
   },
   "source": [
    "### Get all proprieties that connects \"actor/actress\" (wdt:P106) with \"15 Park Avenue\" (wd:Q11424)"
   ]
  },
  {
   "cell_type": "code",
   "execution_count": 36,
   "id": "a0629cf2-7ebc-44a7-b318-230417ff4636",
   "metadata": {},
   "outputs": [
    {
     "name": "stdout",
     "output_type": "stream",
     "text": [
      "Results\n",
      "[('propriety', 'http://www.wikidata.org/prop/direct/P101'), ('labelPropriety', 'field of work')]\n",
      "[('propriety', 'http://www.wikidata.org/prop/direct/P136'), ('labelPropriety', 'genre')]\n",
      "[('propriety', 'http://www.wikidata.org/prop/direct/P1056'), ('labelPropriety', 'product or material produced')]\n",
      "[('propriety', 'http://www.wikidata.org/prop/direct/P106'), ('labelPropriety', 'occupation')]\n",
      "[('propriety', 'http://www.wikidata.org/prop/direct/P135'), ('labelPropriety', 'movement')]\n",
      "5\n"
     ]
    }
   ],
   "source": [
    "queryString = \"\"\"\n",
    "SELECT DISTINCT ?propriety ?labelPropriety\n",
    "WHERE \n",
    "{   \n",
    "    ?actor wdt:P106 ?occupation ;\n",
    "           ?propriety wd:Q11424 .\n",
    "           \n",
    "    #Labels\n",
    "    ?occupation sc:name ?labelOccupation .   \n",
    "    ?propriety sc:name ?labelPropriety .\n",
    "    \n",
    "    #Occupation must be actor\n",
    "    FILTER (REGEX (?labelOccupation, \"(?:^|\\\\\\\\W)actor(?:$|\\\\\\\\W)\") || REGEX (?labelOccupation, \"(?:^|\\\\\\\\W)actress(?:$|\\\\\\\\W)\"))  . \n",
    "}\n",
    "LIMIT 50 \n",
    "\"\"\"\n",
    "print(\"Results\")\n",
    "x=run_query(queryString)"
   ]
  },
  {
   "cell_type": "markdown",
   "id": "9b44007c-780f-4905-b67a-dc890469938f",
   "metadata": {
    "tags": []
   },
   "source": [
    "### Get first 25 \"cast members\" of any film"
   ]
  },
  {
   "cell_type": "code",
   "execution_count": 44,
   "id": "454a3ab5-7e87-4ab2-9810-34bf1b4a02c8",
   "metadata": {},
   "outputs": [
    {
     "name": "stdout",
     "output_type": "stream",
     "text": [
      "Results\n",
      "[('castMember', 'http://www.wikidata.org/entity/Q242964'), ('labelCastMember', 'Sophie Evans'), ('film', 'http://www.wikidata.org/entity/Q8197668'), ('labelFilm', 'Idiot Love')]\n",
      "[('castMember', 'http://www.wikidata.org/entity/Q3818317'), ('labelCastMember', 'Roger Casamajor'), ('film', 'http://www.wikidata.org/entity/Q8197668'), ('labelFilm', 'Idiot Love')]\n",
      "[('castMember', 'http://www.wikidata.org/entity/Q104878263'), ('labelCastMember', 'Jan Václavík'), ('film', 'http://www.wikidata.org/entity/Q8452990'), ('labelFilm', \"Sunday League - Pepik Hnatek's Final Match\")]\n",
      "[('castMember', 'http://www.wikidata.org/entity/Q106107428'), ('labelCastMember', 'Tereza Gübelová'), ('film', 'http://www.wikidata.org/entity/Q8452990'), ('labelFilm', \"Sunday League - Pepik Hnatek's Final Match\")]\n",
      "[('castMember', 'http://www.wikidata.org/entity/Q10769440'), ('labelCastMember', 'Alena Mihulová'), ('film', 'http://www.wikidata.org/entity/Q8452990'), ('labelFilm', \"Sunday League - Pepik Hnatek's Final Match\")]\n",
      "[('castMember', 'http://www.wikidata.org/entity/Q11985642'), ('labelCastMember', 'Václav Kopta'), ('film', 'http://www.wikidata.org/entity/Q8452990'), ('labelFilm', \"Sunday League - Pepik Hnatek's Final Match\")]\n",
      "[('castMember', 'http://www.wikidata.org/entity/Q11985642'), ('labelCastMember', 'Václav Kopta'), ('film', 'http://www.wikidata.org/entity/Q15906152'), ('labelFilm', 'Tender Waves')]\n",
      "[('castMember', 'http://www.wikidata.org/entity/Q12024009'), ('labelCastMember', 'Jaroslav Plesl'), ('film', 'http://www.wikidata.org/entity/Q8452990'), ('labelFilm', \"Sunday League - Pepik Hnatek's Final Match\")]\n",
      "[('castMember', 'http://www.wikidata.org/entity/Q12024203'), ('labelCastMember', 'Jaroslava Pokorná'), ('film', 'http://www.wikidata.org/entity/Q8452990'), ('labelFilm', \"Sunday League - Pepik Hnatek's Final Match\")]\n",
      "[('castMember', 'http://www.wikidata.org/entity/Q12032493'), ('labelCastMember', 'Ladislav Hampl'), ('film', 'http://www.wikidata.org/entity/Q8452990'), ('labelFilm', \"Sunday League - Pepik Hnatek's Final Match\")]\n",
      "[('castMember', 'http://www.wikidata.org/entity/Q12044352'), ('labelCastMember', 'Pavla Beretová'), ('film', 'http://www.wikidata.org/entity/Q8452990'), ('labelFilm', \"Sunday League - Pepik Hnatek's Final Match\")]\n",
      "[('castMember', 'http://www.wikidata.org/entity/Q14917610'), ('labelCastMember', 'Jakub Kohák'), ('film', 'http://www.wikidata.org/entity/Q8452990'), ('labelFilm', \"Sunday League - Pepik Hnatek's Final Match\")]\n",
      "[('castMember', 'http://www.wikidata.org/entity/Q33435887'), ('labelCastMember', 'Petr Franěk'), ('film', 'http://www.wikidata.org/entity/Q8452990'), ('labelFilm', \"Sunday League - Pepik Hnatek's Final Match\")]\n",
      "[('castMember', 'http://www.wikidata.org/entity/Q33436012'), ('labelCastMember', 'Jarmil Škvrna'), ('film', 'http://www.wikidata.org/entity/Q8452990'), ('labelFilm', \"Sunday League - Pepik Hnatek's Final Match\")]\n",
      "[('castMember', 'http://www.wikidata.org/entity/Q33436049'), ('labelCastMember', 'Lukáš Langmajer'), ('film', 'http://www.wikidata.org/entity/Q8452990'), ('labelFilm', \"Sunday League - Pepik Hnatek's Final Match\")]\n",
      "[('castMember', 'http://www.wikidata.org/entity/Q3490854'), ('labelCastMember', 'Luděk Sobota'), ('film', 'http://www.wikidata.org/entity/Q8452990'), ('labelFilm', \"Sunday League - Pepik Hnatek's Final Match\")]\n",
      "[('castMember', 'http://www.wikidata.org/entity/Q95077391'), ('labelCastMember', 'Johanna Tesařová'), ('film', 'http://www.wikidata.org/entity/Q8452990'), ('labelFilm', \"Sunday League - Pepik Hnatek's Final Match\")]\n",
      "[('castMember', 'http://www.wikidata.org/entity/Q27837994'), ('labelCastMember', 'Teja Sajja'), ('film', 'http://www.wikidata.org/entity/Q13637926'), ('labelFilm', 'Indra')]\n",
      "[('castMember', 'http://www.wikidata.org/entity/Q41798386'), ('labelCastMember', 'Sameer Hasan'), ('film', 'http://www.wikidata.org/entity/Q13637926'), ('labelFilm', 'Indra')]\n",
      "[('castMember', 'http://www.wikidata.org/entity/Q7695632'), ('labelCastMember', 'Telangana Shakuntala'), ('film', 'http://www.wikidata.org/entity/Q13637926'), ('labelFilm', 'Indra')]\n",
      "[('castMember', 'http://www.wikidata.org/entity/Q313195'), ('labelCastMember', 'Archie Hahn'), ('film', 'http://www.wikidata.org/entity/Q15596853'), ('labelFilm', 'Burying the Ex')]\n",
      "[('castMember', 'http://www.wikidata.org/entity/Q4877262'), ('labelCastMember', 'Beatriz Michelena'), ('film', 'http://www.wikidata.org/entity/Q15584559'), ('labelFilm', 'Salvation Nell')]\n",
      "[('castMember', 'http://www.wikidata.org/entity/Q95450804'), ('labelCastMember', 'Vladislav Georgiev'), ('film', 'http://www.wikidata.org/entity/Q15906152'), ('labelFilm', 'Tender Waves')]\n",
      "[('castMember', 'http://www.wikidata.org/entity/Q106602281'), ('labelCastMember', 'Jaya Swami'), ('film', 'http://www.wikidata.org/entity/Q15724178'), ('labelFilm', 'Jhili Mili')]\n",
      "[('castMember', 'http://www.wikidata.org/entity/Q11109103'), ('labelCastMember', 'Ke Ren-jian'), ('film', 'http://www.wikidata.org/entity/Q15729835'), ('labelFilm', 'Zone Pro Site')]\n",
      "25\n"
     ]
    }
   ],
   "source": [
    "queryString = \"\"\"\n",
    "SELECT DISTINCT ?castMember ?labelCastMember ?film ?labelFilm\n",
    "WHERE \n",
    "{   \n",
    "    ?film wdt:P161 ?castMember .\n",
    "    ?film wdt:P31 wd:Q11424 .\n",
    "    \n",
    "    #Labels\n",
    "    ?castMember sc:name ?labelCastMember .\n",
    "    ?film sc:name ?labelFilm .\n",
    "}\n",
    "LIMIT 25 \n",
    "\"\"\"\n",
    "print(\"Results\")\n",
    "x=run_query(queryString)"
   ]
  },
  {
   "cell_type": "markdown",
   "id": "84d01f7b-543b-4457-8c84-aacb02a318e4",
   "metadata": {
    "tags": []
   },
   "source": [
    "### Final Query"
   ]
  },
  {
   "cell_type": "markdown",
   "id": "439c1494",
   "metadata": {},
   "source": [
    "Final query for this task"
   ]
  },
  {
   "cell_type": "code",
   "execution_count": 13,
   "id": "d9477e2c",
   "metadata": {},
   "outputs": [
    {
     "name": "stdout",
     "output_type": "stream",
     "text": [
      "Results\n",
      "[('castMember', 'http://www.wikidata.org/entity/Q355163'), ('labelCastMember', 'Bruce Davison'), ('numberOfFilms', '56')]\n",
      "1\n"
     ]
    }
   ],
   "source": [
    "queryString = \"\"\"\n",
    "SELECT DISTINCT ?castMember ?labelCastMember (COUNT(DISTINCT ?film) AS ?numberOfFilms) \n",
    "WHERE \n",
    "{               \n",
    "    wd:Q826477 wdt:P527 ?season .\n",
    "    ?season wdt:P527 ?episode .\n",
    "    ?episode wdt:P161 ?castMember .\n",
    "    \n",
    "    \n",
    "    ?film wdt:P161 ?castMember ;\n",
    "          wdt:P31 wd:Q11424 .\n",
    "    \n",
    "    #Labels\n",
    "    ?castMember sc:name ?labelCastMember .\n",
    "          \n",
    "}GROUP BY ?castMember ?labelCastMember\n",
    "ORDER BY DESC(?numberOfFilms)\n",
    "LIMIT 1\n",
    "\"\"\"\n",
    "print(\"Results\")\n",
    "x=run_query(queryString)"
   ]
  },
  {
   "cell_type": "markdown",
   "id": "e65ed022",
   "metadata": {
    "tags": []
   },
   "source": [
    "## Task 5\n",
    "Compare Without a Trace with the tv series \"Cold Case\" in terms of number of seasons, episods and cast members (the result set must be two elements -one for each tv series- of tv series IRI, label, #seasons, #episodes and #cast members)."
   ]
  },
  {
   "cell_type": "markdown",
   "id": "ba092519-ad4c-4370-9728-00a3d3d70d9d",
   "metadata": {
    "tags": []
   },
   "source": [
    "### Get \"title\" (wdt:P1476) \"numberOfSeasons\" (wdt:P2437) \"numberOfEpisodes\" (wdt:P1113) of \"Without a Trace\" (wd:Q826477)"
   ]
  },
  {
   "cell_type": "code",
   "execution_count": 72,
   "id": "78c10bd9-0c1d-4cf3-b25a-acae3e9bcd30",
   "metadata": {},
   "outputs": [
    {
     "name": "stdout",
     "output_type": "stream",
     "text": [
      "Results\n",
      "[('title', 'Without a Trace'), ('numberOfSeasons', '7'), ('numberOfEpisodes', '160')]\n",
      "1\n"
     ]
    }
   ],
   "source": [
    "queryString = \"\"\"\n",
    "SELECT ?title ?numberOfSeasons ?numberOfEpisodes\n",
    "WHERE \n",
    "{   \n",
    "    wd:Q826477 wdt:P1476 ?title ;\n",
    "             wdt:P2437 ?numberOfSeasons ;\n",
    "             wdt:P1113 ?numberOfEpisodes .\n",
    "}\n",
    "LIMIT 50 \n",
    "\"\"\"\n",
    "print(\"Results\")\n",
    "x=run_query(queryString)"
   ]
  },
  {
   "cell_type": "markdown",
   "id": "a143bf6c-8b55-4ddd-9e2a-e1e2a5aebbfa",
   "metadata": {
    "tags": []
   },
   "source": [
    "### Final Query"
   ]
  },
  {
   "cell_type": "markdown",
   "id": "8f983be4",
   "metadata": {},
   "source": [
    "Final query for this task"
   ]
  },
  {
   "cell_type": "code",
   "execution_count": 74,
   "id": "9999a1f7",
   "metadata": {},
   "outputs": [
    {
     "name": "stdout",
     "output_type": "stream",
     "text": [
      "Results\n",
      "[('tvSerie', 'http://www.wikidata.org/entity/Q733960'), ('labelTvSerie', 'Cold Case'), ('numberOfSeasons', '7'), ('numberOfEpisodes', '156'), ('numberCastMembers', '674')]\n",
      "[('tvSerie', 'http://www.wikidata.org/entity/Q826477'), ('labelTvSerie', 'Without a Trace'), ('numberOfSeasons', '7'), ('numberOfEpisodes', '160'), ('numberCastMembers', '30')]\n",
      "2\n"
     ]
    }
   ],
   "source": [
    "queryString = \"\"\"\n",
    "SELECT ?tvSerie ?labelTvSerie ?numberOfSeasons ?numberOfEpisodes (COUNT(DISTINCT ?castMember) AS ?numberCastMembers)\n",
    "WHERE \n",
    "{   \n",
    "    ?tvSerie wdt:P1476 ?title ;\n",
    "             wdt:P2437 ?numberOfSeasons ;\n",
    "             wdt:P1113 ?numberOfEpisodes ;\n",
    "             wdt:P527 ?season ;\n",
    "             sc:name ?labelTvSerie .             \n",
    "    ?season wdt:P527 ?episode .\n",
    "    ?episode wdt:P161 ?castMember .\n",
    "        \n",
    "    FILTER (str(?title) = \"Without a Trace\" || str(?title) = \"Cold Case\")\n",
    "}GROUP BY ?tvSerie ?labelTvSerie ?numberOfSeasons ?numberOfEpisodes\n",
    "LIMIT 50  \n",
    "\"\"\"\n",
    "print(\"Results\")\n",
    "x=run_query(queryString)"
   ]
  },
  {
   "cell_type": "markdown",
   "id": "747912c8",
   "metadata": {
    "tags": []
   },
   "source": [
    "## Task 6\n",
    "Return the actors who are members of the cast of Without a Trace have [Kavin Bacon number](https://en.wikipedia.org/wiki/Six_Degrees_of_Kevin_Bacon#:~:text=Kevin%20Bacon%20himself%20has%20a,Bacon%20number%20is%20N%2B1.) equal to 2 (the result set must be a list of couples actor/actress IRI and label)."
   ]
  },
  {
   "cell_type": "markdown",
   "id": "f3cdeb7c-70b8-44bd-811b-5f6be43b3fc1",
   "metadata": {},
   "source": [
    "### Get all object proprieties of \"John Livingston\" (wd:Q18618690)"
   ]
  },
  {
   "cell_type": "code",
   "execution_count": 9,
   "id": "8d20694c-fb09-491f-b9d8-c866cf5a4ba5",
   "metadata": {},
   "outputs": [
    {
     "name": "stdout",
     "output_type": "stream",
     "text": [
      "Results\n",
      "[('property', 'http://www.wikidata.org/prop/direct/P106'), ('label', 'occupation')]\n",
      "[('property', 'http://www.wikidata.org/prop/direct/P19'), ('label', 'place of birth')]\n",
      "[('property', 'http://www.wikidata.org/prop/direct/P21'), ('label', 'sex or gender')]\n",
      "[('property', 'http://www.wikidata.org/prop/direct/P27'), ('label', 'country of citizenship')]\n",
      "[('property', 'http://www.wikidata.org/prop/direct/P31'), ('label', 'instance of')]\n",
      "[('property', 'http://www.wikidata.org/prop/direct/P734'), ('label', 'family name')]\n",
      "[('property', 'http://www.wikidata.org/prop/direct/P735'), ('label', 'given name')]\n",
      "7\n"
     ]
    }
   ],
   "source": [
    "queryString = \"\"\"\n",
    "SELECT DISTINCT ?property ?label\n",
    "WHERE {   \n",
    "   wd:Q18618690 ?property ?object .\n",
    "   ?property sc:name ?label .\n",
    "   FILTER(!isLiteral(?object)) .   \n",
    "}\n",
    "\"\"\"\n",
    "\n",
    "print(\"Results\")\n",
    "x=run_query(queryString)"
   ]
  },
  {
   "cell_type": "markdown",
   "id": "70facfa6-8389-4982-86e7-b34fd3c92014",
   "metadata": {
    "tags": []
   },
   "source": [
    "### Get \"Kevin Bacon\" actor BGP"
   ]
  },
  {
   "cell_type": "code",
   "execution_count": 83,
   "id": "9d15e657-d782-426e-aee3-d890fd4dfcd0",
   "metadata": {},
   "outputs": [
    {
     "name": "stdout",
     "output_type": "stream",
     "text": [
      "Results\n",
      "[('kevinBacon', 'http://www.wikidata.org/entity/Q3454165'), ('labelKevinBacon', 'Kevin Bacon')]\n",
      "1\n"
     ]
    }
   ],
   "source": [
    "queryString = \"\"\"\n",
    "SELECT DISTINCT ?kevinBacon ?labelKevinBacon\n",
    "WHERE \n",
    "{   \n",
    "    ?kevinBacon wdt:P106 ?occupation ;\n",
    "           wdt:P735 ?givenName ;\n",
    "           wdt:P734 ?familyName .    \n",
    "    \n",
    "    #Labels\n",
    "    ?givenName sc:name ?labelGivenName .\n",
    "    ?familyName sc:name ?labelFamilyName .\n",
    "    ?occupation sc:name ?labelOccupation .   \n",
    "    ?kevinBacon sc:name ?labelKevinBacon .\n",
    "    \n",
    "    #Occupation must be actor\n",
    "    FILTER (REGEX (?labelOccupation, \"(?:^|\\\\\\\\W)actor(?:$|\\\\\\\\W)\") || REGEX (?labelOccupation, \"(?:^|\\\\\\\\W)actress(?:$|\\\\\\\\W)\"))  . \n",
    "    # Name = \"Kevin\" AND Surname = \"Bacon\"\n",
    "    FILTER (CONTAINS(?labelGivenName, \"Kevin\") && CONTAINS(?labelFamilyName, \"Bacon\")) .\n",
    "}\n",
    "LIMIT 50 \n",
    "\"\"\"\n",
    "print(\"Results\")\n",
    "x=run_query(queryString)"
   ]
  },
  {
   "cell_type": "markdown",
   "id": "585fea3f-81c3-4acb-afdb-1f40c4320c7c",
   "metadata": {
    "tags": []
   },
   "source": [
    "### Get all \"cast members\" (wdt:P161) of \"Without a Trace\" (wd:Q826477)"
   ]
  },
  {
   "cell_type": "code",
   "execution_count": 10,
   "id": "09779cd7-8ad5-4e58-a308-0b1d26b7d616",
   "metadata": {},
   "outputs": [
    {
     "name": "stdout",
     "output_type": "stream",
     "text": [
      "Results\n",
      "[('castMember', 'http://www.wikidata.org/entity/Q373989'), ('labelCastMember', 'David Paymer')]\n",
      "[('castMember', 'http://www.wikidata.org/entity/Q139341'), ('labelCastMember', 'Zach Grenier')]\n",
      "[('castMember', 'http://www.wikidata.org/entity/Q3265830'), ('labelCastMember', 'Lucille Soong')]\n",
      "[('castMember', 'http://www.wikidata.org/entity/Q430872'), ('labelCastMember', 'Marianne Jean-Baptiste')]\n",
      "[('castMember', 'http://www.wikidata.org/entity/Q238501'), ('labelCastMember', 'Alex Veadov')]\n",
      "[('castMember', 'http://www.wikidata.org/entity/Q308124'), ('labelCastMember', 'Anthony LaPaglia')]\n",
      "[('castMember', 'http://www.wikidata.org/entity/Q1721796'), ('labelCastMember', 'Kaitlin Doubleday')]\n",
      "[('castMember', 'http://www.wikidata.org/entity/Q355163'), ('labelCastMember', 'Bruce Davison')]\n",
      "[('castMember', 'http://www.wikidata.org/entity/Q22704603'), ('labelCastMember', 'Lily Knight')]\n",
      "[('castMember', 'http://www.wikidata.org/entity/Q445325'), ('labelCastMember', 'Megan Gallagher')]\n",
      "[('castMember', 'http://www.wikidata.org/entity/Q706513'), ('labelCastMember', 'Charles S. Dutton')]\n",
      "[('castMember', 'http://www.wikidata.org/entity/Q1125651'), ('labelCastMember', 'Thom Barry')]\n",
      "[('castMember', 'http://www.wikidata.org/entity/Q20651783'), ('labelCastMember', 'Jenica Bergere')]\n",
      "[('castMember', 'http://www.wikidata.org/entity/Q235075'), ('labelCastMember', 'Poppy Montgomery')]\n",
      "[('castMember', 'http://www.wikidata.org/entity/Q459638'), ('labelCastMember', 'Stacy Edwards')]\n",
      "[('castMember', 'http://www.wikidata.org/entity/Q4769249'), ('labelCastMember', 'Annie Burgstede')]\n",
      "[('castMember', 'http://www.wikidata.org/entity/Q3260118'), ('labelCastMember', 'Lou Cutell')]\n",
      "[('castMember', 'http://www.wikidata.org/entity/Q18618690'), ('labelCastMember', 'John Livingston')]\n",
      "[('castMember', 'http://www.wikidata.org/entity/Q297128'), ('labelCastMember', 'David Henrie')]\n",
      "[('castMember', 'http://www.wikidata.org/entity/Q1378361'), ('labelCastMember', 'Kyle Secor')]\n",
      "[('castMember', 'http://www.wikidata.org/entity/Q551608'), ('labelCastMember', 'Enrique Murciano')]\n",
      "[('castMember', 'http://www.wikidata.org/entity/Q503040'), ('labelCastMember', 'Eric Close')]\n",
      "[('castMember', 'http://www.wikidata.org/entity/Q5363239'), ('labelCastMember', 'Elizabeth Morehead')]\n",
      "[('castMember', 'http://www.wikidata.org/entity/Q462343'), ('labelCastMember', 'Rosemary Forsyth')]\n",
      "[('castMember', 'http://www.wikidata.org/entity/Q2923471'), ('labelCastMember', 'Bradford Tatum')]\n",
      "[('castMember', 'http://www.wikidata.org/entity/Q19519424'), ('labelCastMember', 'Jessie Usher')]\n",
      "[('castMember', 'http://www.wikidata.org/entity/Q2927620'), ('labelCastMember', 'Denise Dowse')]\n",
      "[('castMember', 'http://www.wikidata.org/entity/Q6832453'), ('labelCastMember', 'Michael Maize')]\n",
      "[('castMember', 'http://www.wikidata.org/entity/Q60545340'), ('labelCastMember', 'Lindsey Kraft')]\n",
      "[('castMember', 'http://www.wikidata.org/entity/Q64684485'), ('labelCastMember', 'Caris Vujcec')]\n",
      "30\n"
     ]
    }
   ],
   "source": [
    "queryString = \"\"\"\n",
    "SELECT DISTINCT ?castMember ?labelCastMember \n",
    "WHERE \n",
    "{   \n",
    "    {\n",
    "        SELECT DISTINCT ?castMember ?labelCastMember\n",
    "        WHERE\n",
    "        {\n",
    "            wd:Q826477 wdt:P527 ?season .\n",
    "            ?season wdt:P527 ?episode .\n",
    "            ?episode wdt:P161 ?castMember .\n",
    "            ?castMember sc:name ?labelCastMember .\n",
    "        }\n",
    "    }    \n",
    "}\n",
    "LIMIT 50\n",
    "\"\"\"\n",
    "print(\"Results\")\n",
    "x=run_query(queryString)"
   ]
  },
  {
   "cell_type": "markdown",
   "id": "14bdab72-7a74-4bcf-b481-72c366e11114",
   "metadata": {
    "tags": []
   },
   "source": [
    "### Get all the \"cast members\" (wdt:P161) with Kevin Bacon Number equals 2"
   ]
  },
  {
   "cell_type": "code",
   "execution_count": 96,
   "id": "403a0367-622b-415c-ab41-b12cce6e8a84",
   "metadata": {},
   "outputs": [
    {
     "name": "stdout",
     "output_type": "stream",
     "text": [
      "Results\n",
      "[('castMember', 'http://www.wikidata.org/entity/Q5372060'), ('labelCastMember', 'Emily Bett Rickards')]\n",
      "[('castMember', 'http://www.wikidata.org/entity/Q16185788'), ('labelCastMember', 'Kyle Catlett')]\n",
      "[('castMember', 'http://www.wikidata.org/entity/Q15058295'), ('labelCastMember', 'Josh Brener')]\n",
      "[('castMember', 'http://www.wikidata.org/entity/Q266888'), ('labelCastMember', 'Vinessa Shaw')]\n",
      "[('castMember', 'http://www.wikidata.org/entity/Q21634507'), ('labelCastMember', 'Justin Isfeld')]\n",
      "[('castMember', 'http://www.wikidata.org/entity/Q22943048'), ('labelCastMember', \"Tom O'Rourke\")]\n",
      "[('castMember', 'http://www.wikidata.org/entity/Q237214'), ('labelCastMember', 'Lesley Ann Warren')]\n",
      "[('castMember', 'http://www.wikidata.org/entity/Q275476'), ('labelCastMember', 'Kay Lenz')]\n",
      "[('castMember', 'http://www.wikidata.org/entity/Q275476'), ('labelCastMember', 'Kay Lenz')]\n",
      "[('castMember', 'http://www.wikidata.org/entity/Q275476'), ('labelCastMember', 'Kay Lenz')]\n",
      "[('castMember', 'http://www.wikidata.org/entity/Q275476'), ('labelCastMember', 'Kay Lenz')]\n",
      "[('castMember', 'http://www.wikidata.org/entity/Q364822'), ('labelCastMember', 'Scott Foley')]\n",
      "[('castMember', 'http://www.wikidata.org/entity/Q444673'), ('labelCastMember', 'Debrah Farentino')]\n",
      "[('castMember', 'http://www.wikidata.org/entity/Q446104'), ('labelCastMember', 'Marika Domińczyk')]\n",
      "[('castMember', 'http://www.wikidata.org/entity/Q447293'), ('labelCastMember', 'Susan Dey')]\n",
      "[('castMember', 'http://www.wikidata.org/entity/Q452552'), ('labelCastMember', 'Grand L. Bush')]\n",
      "[('castMember', 'http://www.wikidata.org/entity/Q457063'), ('labelCastMember', 'Susan Walters')]\n",
      "[('castMember', 'http://www.wikidata.org/entity/Q465134'), ('labelCastMember', 'Kane Hodder')]\n",
      "[('castMember', 'http://www.wikidata.org/entity/Q60493'), ('labelCastMember', 'Lee Tergesen')]\n",
      "[('castMember', 'http://www.wikidata.org/entity/Q60493'), ('labelCastMember', 'Lee Tergesen')]\n",
      "[('castMember', 'http://www.wikidata.org/entity/Q613378'), ('labelCastMember', 'Bruno Campos')]\n",
      "[('castMember', 'http://www.wikidata.org/entity/Q737183'), ('labelCastMember', 'Corbin Bernsen')]\n",
      "[('castMember', 'http://www.wikidata.org/entity/Q1147852'), ('labelCastMember', 'Cylk Cozart')]\n",
      "[('castMember', 'http://www.wikidata.org/entity/Q1928335'), ('labelCastMember', 'Robert Hogan')]\n",
      "[('castMember', 'http://www.wikidata.org/entity/Q193504'), ('labelCastMember', 'Vincent Cassel')]\n",
      "25\n"
     ]
    }
   ],
   "source": [
    "queryString = \"\"\"\n",
    "SELECT ?castMember ?labelCastMember\n",
    "WHERE\n",
    "{\n",
    "    ?castMember (^wdt:P161 / wdt:P161){2} ?kevinBacon .\n",
    "    ?castMember sc:name ?labelCastMember .\n",
    "    #Kevin Bacon URI\n",
    "    {\n",
    "        SELECT DISTINCT ?kevinBacon ?labelKevinBacon\n",
    "        WHERE \n",
    "        {   \n",
    "            ?kevinBacon wdt:P106 ?occupation ;\n",
    "                   wdt:P735 ?givenName ;\n",
    "                   wdt:P734 ?familyName .    \n",
    "\n",
    "            #Labels\n",
    "            ?givenName sc:name ?labelGivenName .\n",
    "            ?familyName sc:name ?labelFamilyName .\n",
    "            ?occupation sc:name ?labelOccupation .   \n",
    "            ?kevinBacon sc:name ?labelKevinBacon .\n",
    "\n",
    "            #Occupation must be actor\n",
    "            FILTER (REGEX (?labelOccupation, \"(?:^|\\\\\\\\W)actor(?:$|\\\\\\\\W)\") || REGEX (?labelOccupation, \"(?:^|\\\\\\\\W)actress(?:$|\\\\\\\\W)\"))  . \n",
    "            # Name = \"Kevin\" AND Surname = \"Bacon\"\n",
    "            FILTER (CONTAINS(?labelGivenName, \"Kevin\") && CONTAINS(?labelFamilyName, \"Bacon\")) .\n",
    "        }LIMIT 1\n",
    "    }\n",
    "} LIMIT 25 \n",
    "\"\"\"\n",
    "print(\"Results\")\n",
    "x=run_query(queryString)"
   ]
  },
  {
   "cell_type": "markdown",
   "id": "5985dd09-3b95-4438-845a-cccfdf80f020",
   "metadata": {},
   "source": [
    "Final query for this task"
   ]
  },
  {
   "cell_type": "markdown",
   "id": "d4719bb0-49f1-4943-aff5-e992fff665a5",
   "metadata": {
    "tags": []
   },
   "source": [
    "### Final Query"
   ]
  },
  {
   "cell_type": "code",
   "execution_count": 21,
   "id": "8a57ec03-61af-4e65-a03b-f91b165c083e",
   "metadata": {},
   "outputs": [
    {
     "name": "stdout",
     "output_type": "stream",
     "text": [
      "Results\n",
      "[('castMember', 'http://www.wikidata.org/entity/Q462343'), ('labelCastMember', 'Rosemary Forsyth')]\n",
      "[('castMember', 'http://www.wikidata.org/entity/Q18618690'), ('labelCastMember', 'John Livingston')]\n",
      "[('castMember', 'http://www.wikidata.org/entity/Q1125651'), ('labelCastMember', 'Thom Barry')]\n",
      "[('castMember', 'http://www.wikidata.org/entity/Q355163'), ('labelCastMember', 'Bruce Davison')]\n",
      "[('castMember', 'http://www.wikidata.org/entity/Q139341'), ('labelCastMember', 'Zach Grenier')]\n",
      "5\n"
     ]
    }
   ],
   "source": [
    "queryString = \"\"\"\n",
    "SELECT DISTINCT ?castMember ?labelCastMember\n",
    "WHERE\n",
    "{\n",
    "    ?castMember (^wdt:P161 / wdt:P161){2} ?kevinBacon .\n",
    "    #Kevin Bacon URI\n",
    "    {\n",
    "        SELECT DISTINCT ?kevinBacon ?labelKevinBacon\n",
    "        WHERE \n",
    "        {   \n",
    "            ?kevinBacon wdt:P106 ?occupation ;\n",
    "                   wdt:P735 ?givenName ;\n",
    "                   wdt:P734 ?familyName .    \n",
    "\n",
    "            #Labels\n",
    "            ?givenName sc:name ?labelGivenName .\n",
    "            ?familyName sc:name ?labelFamilyName .\n",
    "            ?occupation sc:name ?labelOccupation .   \n",
    "            ?kevinBacon sc:name ?labelKevinBacon .\n",
    "\n",
    "            #Occupation must be actor\n",
    "            FILTER (REGEX (?labelOccupation, \"(?:^|\\\\\\\\W)actor(?:$|\\\\\\\\W)\") || REGEX (?labelOccupation, \"(?:^|\\\\\\\\W)actress(?:$|\\\\\\\\W)\"))  . \n",
    "            # Name = \"Kevin\" AND Surname = \"Bacon\"\n",
    "            FILTER (CONTAINS(?labelGivenName, \"Kevin\") && CONTAINS(?labelFamilyName, \"Bacon\")) .\n",
    "        }LIMIT 1\n",
    "    }    \n",
    "    #Cast Members of Without a Trace\n",
    "    {                        \n",
    "        SELECT DISTINCT ?castMember ?labelCastMember\n",
    "        WHERE\n",
    "        {\n",
    "            wd:Q826477 wdt:P527 ?season .\n",
    "            ?season wdt:P527 ?episode .\n",
    "            ?episode wdt:P161 ?castMember .\n",
    "            ?castMember sc:name ?labelCastMember .\n",
    "        }LIMIT 30                           \n",
    "    }       \n",
    "} LIMIT 5 \n",
    "\"\"\"\n",
    "print(\"Results\")\n",
    "x=run_query(queryString)"
   ]
  },
  {
   "cell_type": "markdown",
   "id": "61924461",
   "metadata": {
    "tags": []
   },
   "source": [
    "## Task 7\n",
    "Consider the actors who are members of the cast of Cold Case. Amongst the tv series which these actors acted return only those which received more than 2 awards (the result set must be triples of tv series IRI, label, #awards won)."
   ]
  },
  {
   "cell_type": "markdown",
   "id": "63f2091c-ba94-44d6-9641-e36870a979f3",
   "metadata": {
    "tags": []
   },
   "source": [
    "### Get all the \"cast members\" (wdt:P161) that are actors of \"Cold Case\" (wd:Q733960)"
   ]
  },
  {
   "cell_type": "code",
   "execution_count": 8,
   "id": "38f61cd7-8efc-4c5d-aa9f-a6094443cfb2",
   "metadata": {},
   "outputs": [
    {
     "name": "stdout",
     "output_type": "stream",
     "text": [
      "Results\n",
      "[('castMember', 'http://www.wikidata.org/entity/Q270382'), ('labelCastMember', 'Justina Machado')]\n",
      "[('castMember', 'http://www.wikidata.org/entity/Q269891'), ('labelCastMember', 'Julianna Guill')]\n",
      "[('castMember', 'http://www.wikidata.org/entity/Q128821'), ('labelCastMember', 'Stephen Full')]\n",
      "[('castMember', 'http://www.wikidata.org/entity/Q1340897'), ('labelCastMember', 'Martin Spanjers')]\n",
      "[('castMember', 'http://www.wikidata.org/entity/Q275476'), ('labelCastMember', 'Kay Lenz')]\n",
      "[('castMember', 'http://www.wikidata.org/entity/Q441617'), ('labelCastMember', 'Gabrielle Miller')]\n",
      "[('castMember', 'http://www.wikidata.org/entity/Q613378'), ('labelCastMember', 'Bruno Campos')]\n",
      "[('castMember', 'http://www.wikidata.org/entity/Q242206'), ('labelCastMember', 'Bree Turner')]\n",
      "[('castMember', 'http://www.wikidata.org/entity/Q258246'), ('labelCastMember', 'Lois Smith')]\n",
      "[('castMember', 'http://www.wikidata.org/entity/Q261926'), ('labelCastMember', 'Muse Watson')]\n",
      "[('castMember', 'http://www.wikidata.org/entity/Q266179'), ('labelCastMember', 'Johnathon Schaech')]\n",
      "[('castMember', 'http://www.wikidata.org/entity/Q452288'), ('labelCastMember', 'Jeffrey Combs')]\n",
      "[('castMember', 'http://www.wikidata.org/entity/Q516659'), ('labelCastMember', 'Virginia Williams')]\n",
      "[('castMember', 'http://www.wikidata.org/entity/Q919478'), ('labelCastMember', 'James Read')]\n",
      "[('castMember', 'http://www.wikidata.org/entity/Q960467'), ('labelCastMember', 'Chaney Kley')]\n",
      "[('castMember', 'http://www.wikidata.org/entity/Q1338682'), ('labelCastMember', 'Jeremy Ratchford')]\n",
      "[('castMember', 'http://www.wikidata.org/entity/Q1377218'), ('labelCastMember', 'Richard Edson')]\n",
      "[('castMember', 'http://www.wikidata.org/entity/Q238884'), ('labelCastMember', 'Shirley Knight')]\n",
      "[('castMember', 'http://www.wikidata.org/entity/Q2392907'), ('labelCastMember', 'Edwin Hodge')]\n",
      "[('castMember', 'http://www.wikidata.org/entity/Q2601137'), ('labelCastMember', 'Elena Satine')]\n",
      "[('castMember', 'http://www.wikidata.org/entity/Q273650'), ('labelCastMember', 'Monet Mazur')]\n",
      "[('castMember', 'http://www.wikidata.org/entity/Q3086608'), ('labelCastMember', 'Lorenzo Henrie')]\n",
      "[('castMember', 'http://www.wikidata.org/entity/Q453774'), ('labelCastMember', 'Ellen Geer')]\n",
      "[('castMember', 'http://www.wikidata.org/entity/Q545288'), ('labelCastMember', 'Mimi Kuzyk')]\n",
      "[('castMember', 'http://www.wikidata.org/entity/Q552031'), ('labelCastMember', 'Daniel Roebuck')]\n",
      "[('castMember', 'http://www.wikidata.org/entity/Q594738'), ('labelCastMember', 'Glenn E. Plummer')]\n",
      "[('castMember', 'http://www.wikidata.org/entity/Q928592'), ('labelCastMember', 'Robert Baker')]\n",
      "[('castMember', 'http://www.wikidata.org/entity/Q28732'), ('labelCastMember', 'Beth Broderick')]\n",
      "[('castMember', 'http://www.wikidata.org/entity/Q3097804'), ('labelCastMember', 'John Bennett Perry')]\n",
      "[('castMember', 'http://www.wikidata.org/entity/Q453620'), ('labelCastMember', 'Yara Shahidi')]\n",
      "[('castMember', 'http://www.wikidata.org/entity/Q712670'), ('labelCastMember', 'Michael Nouri')]\n",
      "[('castMember', 'http://www.wikidata.org/entity/Q1394891'), ('labelCastMember', 'Frederick Koehler')]\n",
      "[('castMember', 'http://www.wikidata.org/entity/Q139906'), ('labelCastMember', 'Zack Ward')]\n",
      "[('castMember', 'http://www.wikidata.org/entity/Q317563'), ('labelCastMember', 'Sung Kang')]\n",
      "[('castMember', 'http://www.wikidata.org/entity/Q353049'), ('labelCastMember', 'Robin Shou')]\n",
      "[('castMember', 'http://www.wikidata.org/entity/Q171525'), ('labelCastMember', 'Jake Johnson')]\n",
      "[('castMember', 'http://www.wikidata.org/entity/Q272022'), ('labelCastMember', 'Meredith Baxter')]\n",
      "[('castMember', 'http://www.wikidata.org/entity/Q275254'), ('labelCastMember', 'Lucinda Jenney')]\n",
      "[('castMember', 'http://www.wikidata.org/entity/Q367469'), ('labelCastMember', 'Kadeem Hardison')]\n",
      "[('castMember', 'http://www.wikidata.org/entity/Q960554'), ('labelCastMember', 'Page Kennedy')]\n",
      "[('castMember', 'http://www.wikidata.org/entity/Q460987'), ('labelCastMember', 'Roxanne Hart')]\n",
      "[('castMember', 'http://www.wikidata.org/entity/Q272261'), ('labelCastMember', 'Christine Elise McCarthy')]\n",
      "[('castMember', 'http://www.wikidata.org/entity/Q2329698'), ('labelCastMember', 'Peggy McCay')]\n",
      "[('castMember', 'http://www.wikidata.org/entity/Q276045'), ('labelCastMember', 'Laura Johnson')]\n",
      "[('castMember', 'http://www.wikidata.org/entity/Q436789'), ('labelCastMember', 'Diana Douglas')]\n",
      "[('castMember', 'http://www.wikidata.org/entity/Q447248'), ('labelCastMember', 'Michael Learned')]\n",
      "[('castMember', 'http://www.wikidata.org/entity/Q59382'), ('labelCastMember', 'Hallee Hirsh')]\n",
      "[('castMember', 'http://www.wikidata.org/entity/Q674255'), ('labelCastMember', 'Mary Jo Catlett')]\n",
      "[('castMember', 'http://www.wikidata.org/entity/Q712450'), ('labelCastMember', 'Ralph Waite')]\n",
      "[('castMember', 'http://www.wikidata.org/entity/Q1562861'), ('labelCastMember', 'Clarence Williams III')]\n",
      "[('castMember', 'http://www.wikidata.org/entity/Q123836'), ('labelCastMember', 'Danny Pino')]\n",
      "[('castMember', 'http://www.wikidata.org/entity/Q139341'), ('labelCastMember', 'Zach Grenier')]\n",
      "[('castMember', 'http://www.wikidata.org/entity/Q1677114'), ('labelCastMember', 'Jack McGee')]\n",
      "[('castMember', 'http://www.wikidata.org/entity/Q363684'), ('labelCastMember', 'Chris Sarandon')]\n",
      "[('castMember', 'http://www.wikidata.org/entity/Q466379'), ('labelCastMember', 'Keesha Sharp')]\n",
      "[('castMember', 'http://www.wikidata.org/entity/Q714675'), ('labelCastMember', 'Michael Badalucco')]\n",
      "[('castMember', 'http://www.wikidata.org/entity/Q954950'), ('labelCastMember', 'Harold Gould')]\n",
      "[('castMember', 'http://www.wikidata.org/entity/Q166306'), ('labelCastMember', 'Melinda Page Hamilton')]\n",
      "[('castMember', 'http://www.wikidata.org/entity/Q356156'), ('labelCastMember', 'Bruce Boxleitner')]\n",
      "[('castMember', 'http://www.wikidata.org/entity/Q432940'), ('labelCastMember', 'Daniel Baldwin')]\n",
      "[('castMember', 'http://www.wikidata.org/entity/Q594265'), ('labelCastMember', 'Neil Jackson')]\n",
      "[('castMember', 'http://www.wikidata.org/entity/Q672357'), ('labelCastMember', 'Michael Paré')]\n",
      "[('castMember', 'http://www.wikidata.org/entity/Q1259397'), ('labelCastMember', 'Johnny Lewis')]\n",
      "[('castMember', 'http://www.wikidata.org/entity/Q1366460'), ('labelCastMember', 'Tracey Walter')]\n",
      "[('castMember', 'http://www.wikidata.org/entity/Q176277'), ('labelCastMember', 'Brett Cullen')]\n",
      "[('castMember', 'http://www.wikidata.org/entity/Q232307'), ('labelCastMember', 'Mae Whitman')]\n",
      "[('castMember', 'http://www.wikidata.org/entity/Q3157150'), ('labelCastMember', 'Jack Conley')]\n",
      "[('castMember', 'http://www.wikidata.org/entity/Q3157229'), ('labelCastMember', 'Jack Kehler')]\n",
      "[('castMember', 'http://www.wikidata.org/entity/Q344655'), ('labelCastMember', 'John Mahoney')]\n",
      "[('castMember', 'http://www.wikidata.org/entity/Q380180'), ('labelCastMember', 'Jake Thomas')]\n",
      "[('castMember', 'http://www.wikidata.org/entity/Q431356'), ('labelCastMember', 'Charles Napier')]\n",
      "[('castMember', 'http://www.wikidata.org/entity/Q5089830'), ('labelCastMember', 'Chelcie Ross')]\n",
      "[('castMember', 'http://www.wikidata.org/entity/Q509013'), ('labelCastMember', 'April Grace')]\n",
      "[('castMember', 'http://www.wikidata.org/entity/Q552942'), ('labelCastMember', 'Len Lesser')]\n",
      "[('castMember', 'http://www.wikidata.org/entity/Q641408'), ('labelCastMember', 'Brad William Henke')]\n",
      "[('castMember', 'http://www.wikidata.org/entity/Q743388'), ('labelCastMember', 'Brian Bloom')]\n",
      "[('castMember', 'http://www.wikidata.org/entity/Q1258012'), ('labelCastMember', 'Kim Coates')]\n",
      "[('castMember', 'http://www.wikidata.org/entity/Q259536'), ('labelCastMember', 'June Lockhart')]\n",
      "[('castMember', 'http://www.wikidata.org/entity/Q465914'), ('labelCastMember', 'Steven Culp')]\n",
      "[('castMember', 'http://www.wikidata.org/entity/Q472482'), ('labelCastMember', 'Brian Howe')]\n",
      "[('castMember', 'http://www.wikidata.org/entity/Q947748'), ('labelCastMember', 'John Diehl')]\n",
      "[('castMember', 'http://www.wikidata.org/entity/Q950104'), ('labelCastMember', 'Michael Jace')]\n",
      "[('castMember', 'http://www.wikidata.org/entity/Q968718'), ('labelCastMember', 'Bruce Gray')]\n",
      "[('castMember', 'http://www.wikidata.org/entity/Q977086'), ('labelCastMember', 'Reed Diamond')]\n",
      "[('castMember', 'http://www.wikidata.org/entity/Q15665021'), ('labelCastMember', 'Don McManus')]\n",
      "[('castMember', 'http://www.wikidata.org/entity/Q274799'), ('labelCastMember', 'Gigi Rice')]\n",
      "[('castMember', 'http://www.wikidata.org/entity/Q338355'), ('labelCastMember', 'James Otis')]\n",
      "[('castMember', 'http://www.wikidata.org/entity/Q496503'), ('labelCastMember', 'Carel Struycken')]\n",
      "[('castMember', 'http://www.wikidata.org/entity/Q1334420'), ('labelCastMember', 'Elya Baskin')]\n",
      "[('castMember', 'http://www.wikidata.org/entity/Q156532'), ('labelCastMember', 'Peter Graves')]\n",
      "[('castMember', 'http://www.wikidata.org/entity/Q2565463'), ('labelCastMember', 'Nicolas Coster')]\n",
      "[('castMember', 'http://www.wikidata.org/entity/Q260545'), ('labelCastMember', 'Susan Blakely')]\n",
      "[('castMember', 'http://www.wikidata.org/entity/Q328409'), ('labelCastMember', 'Peter Onorati')]\n",
      "[('castMember', 'http://www.wikidata.org/entity/Q508960'), ('labelCastMember', 'Nina Siemaszko')]\n",
      "[('castMember', 'http://www.wikidata.org/entity/Q51814'), ('labelCastMember', 'Dale Dye')]\n",
      "[('castMember', 'http://www.wikidata.org/entity/Q1139717'), ('labelCastMember', 'Cress Williams')]\n",
      "[('castMember', 'http://www.wikidata.org/entity/Q1320640'), ('labelCastMember', 'Ken Howard')]\n",
      "[('castMember', 'http://www.wikidata.org/entity/Q1373335'), ('labelCastMember', 'Sean Whalen')]\n",
      "[('castMember', 'http://www.wikidata.org/entity/Q16745470'), ('labelCastMember', 'Rob Mayes')]\n",
      "[('castMember', 'http://www.wikidata.org/entity/Q1894164'), ('labelCastMember', 'Marcus Giamatti')]\n",
      "[('castMember', 'http://www.wikidata.org/entity/Q189490'), ('labelCastMember', 'Jennifer Lawrence')]\n",
      "[('castMember', 'http://www.wikidata.org/entity/Q242629'), ('labelCastMember', 'Meredith Monroe')]\n",
      "[('castMember', 'http://www.wikidata.org/entity/Q257271'), ('labelCastMember', 'Loretta Devine')]\n",
      "[('castMember', 'http://www.wikidata.org/entity/Q270126'), ('labelCastMember', 'Allison Miller')]\n",
      "[('castMember', 'http://www.wikidata.org/entity/Q279169'), ('labelCastMember', 'Mitch Pileggi')]\n",
      "[('castMember', 'http://www.wikidata.org/entity/Q3342656'), ('labelCastMember', 'Noel Fisher')]\n",
      "[('castMember', 'http://www.wikidata.org/entity/Q3376545'), ('labelCastMember', 'Peter Dobson')]\n",
      "[('castMember', 'http://www.wikidata.org/entity/Q384452'), ('labelCastMember', 'Bellamy Young')]\n",
      "[('castMember', 'http://www.wikidata.org/entity/Q428819'), ('labelCastMember', 'Bobby Cannavale')]\n",
      "[('castMember', 'http://www.wikidata.org/entity/Q442661'), ('labelCastMember', 'Susanna Thompson')]\n",
      "[('castMember', 'http://www.wikidata.org/entity/Q451823'), ('labelCastMember', 'Kate Levering')]\n",
      "[('castMember', 'http://www.wikidata.org/entity/Q454698'), ('labelCastMember', 'Darcy Rose Byrnes')]\n",
      "[('castMember', 'http://www.wikidata.org/entity/Q460843'), ('labelCastMember', 'Claire Coffee')]\n",
      "[('castMember', 'http://www.wikidata.org/entity/Q461131'), ('labelCastMember', 'Kelly Overton')]\n",
      "[('castMember', 'http://www.wikidata.org/entity/Q462937'), ('labelCastMember', 'Shera Danese')]\n",
      "[('castMember', 'http://www.wikidata.org/entity/Q465482'), ('labelCastMember', 'Concetta Tomei')]\n",
      "[('castMember', 'http://www.wikidata.org/entity/Q512105'), ('labelCastMember', 'Deirdre Lovejoy')]\n",
      "[('castMember', 'http://www.wikidata.org/entity/Q5173585'), ('labelCastMember', 'Cory Hardrict')]\n",
      "[('castMember', 'http://www.wikidata.org/entity/Q598158'), ('labelCastMember', 'Jake Richardson')]\n",
      "[('castMember', 'http://www.wikidata.org/entity/Q945099'), ('labelCastMember', 'Monte Markham')]\n",
      "[('castMember', 'http://www.wikidata.org/entity/Q236832'), ('labelCastMember', 'Autumn Reeser')]\n",
      "[('castMember', 'http://www.wikidata.org/entity/Q242805'), ('labelCastMember', 'Diana Scarwid')]\n",
      "[('castMember', 'http://www.wikidata.org/entity/Q3195676'), ('labelCastMember', 'Kevin Chapman')]\n",
      "[('castMember', 'http://www.wikidata.org/entity/Q351293'), ('labelCastMember', 'Josh Randall')]\n",
      "[('castMember', 'http://www.wikidata.org/entity/Q536030'), ('labelCastMember', 'Monica Calhoun')]\n",
      "[('castMember', 'http://www.wikidata.org/entity/Q597515'), ('labelCastMember', 'Josh Hopkins')]\n",
      "[('castMember', 'http://www.wikidata.org/entity/Q803804'), ('labelCastMember', 'Bailey Chase')]\n",
      "[('castMember', 'http://www.wikidata.org/entity/Q1252523'), ('labelCastMember', 'Douglas Smith')]\n",
      "[('castMember', 'http://www.wikidata.org/entity/Q1700068'), ('labelCastMember', 'John Finn')]\n",
      "[('castMember', 'http://www.wikidata.org/entity/Q229410'), ('labelCastMember', 'Melissa Leo')]\n",
      "[('castMember', 'http://www.wikidata.org/entity/Q360663'), ('labelCastMember', 'Thomas F. Wilson')]\n",
      "[('castMember', 'http://www.wikidata.org/entity/Q382197'), ('labelCastMember', 'Željko Ivanek')]\n",
      "[('castMember', 'http://www.wikidata.org/entity/Q237239'), ('labelCastMember', 'Elisabeth Harnois')]\n",
      "[('castMember', 'http://www.wikidata.org/entity/Q365278'), ('labelCastMember', 'Eric Jungmann')]\n",
      "[('castMember', 'http://www.wikidata.org/entity/Q724684'), ('labelCastMember', 'Cody McMains')]\n",
      "[('castMember', 'http://www.wikidata.org/entity/Q770461'), ('labelCastMember', 'Donna Mills')]\n",
      "[('castMember', 'http://www.wikidata.org/entity/Q127836'), ('labelCastMember', 'Sherman Howard')]\n",
      "[('castMember', 'http://www.wikidata.org/entity/Q1321037'), ('labelCastMember', 'Tim DeKay')]\n",
      "[('castMember', 'http://www.wikidata.org/entity/Q236854'), ('labelCastMember', 'Summer Glau')]\n",
      "[('castMember', 'http://www.wikidata.org/entity/Q3161119'), ('labelCastMember', 'James Greene')]\n",
      "[('castMember', 'http://www.wikidata.org/entity/Q3178896'), ('labelCastMember', 'Jim Meskimen')]\n",
      "[('castMember', 'http://www.wikidata.org/entity/Q446045'), ('labelCastMember', 'Alexandra Holden')]\n",
      "[('castMember', 'http://www.wikidata.org/entity/Q467709'), ('labelCastMember', 'Patti Yasutake')]\n",
      "[('castMember', 'http://www.wikidata.org/entity/Q468646'), ('labelCastMember', 'Patty McCormack')]\n",
      "[('castMember', 'http://www.wikidata.org/entity/Q711898'), ('labelCastMember', 'Sam McMurray')]\n",
      "[('castMember', 'http://www.wikidata.org/entity/Q859899'), ('labelCastMember', 'Chad Faust')]\n",
      "[('castMember', 'http://www.wikidata.org/entity/Q716170'), ('labelCastMember', 'Justin Bruening')]\n",
      "[('castMember', 'http://www.wikidata.org/entity/Q271533'), ('labelCastMember', 'Megan Follows')]\n",
      "[('castMember', 'http://www.wikidata.org/entity/Q2962235'), ('labelCastMember', 'Chelsea Field')]\n",
      "[('castMember', 'http://www.wikidata.org/entity/Q443044'), ('labelCastMember', 'Tess Harper')]\n",
      "[('castMember', 'http://www.wikidata.org/entity/Q3481444'), ('labelCastMember', 'Shannon Sturges')]\n",
      "[('castMember', 'http://www.wikidata.org/entity/Q896789'), ('labelCastMember', 'Brad Greenquist')]\n",
      "[('castMember', 'http://www.wikidata.org/entity/Q119966'), ('labelCastMember', 'Patrick Gallagher')]\n",
      "[('castMember', 'http://www.wikidata.org/entity/Q238877'), ('labelCastMember', 'Jenna Fischer')]\n",
      "[('castMember', 'http://www.wikidata.org/entity/Q240586'), ('labelCastMember', 'Cassidy Freeman')]\n",
      "[('castMember', 'http://www.wikidata.org/entity/Q277099'), ('labelCastMember', 'Raphael Sbarge')]\n",
      "[('castMember', 'http://www.wikidata.org/entity/Q2799212'), ('labelCastMember', 'Larry Joshua')]\n",
      "[('castMember', 'http://www.wikidata.org/entity/Q371972'), ('labelCastMember', 'Faran Tahir')]\n",
      "[('castMember', 'http://www.wikidata.org/entity/Q456480'), ('labelCastMember', 'Robin Weigert')]\n",
      "[('castMember', 'http://www.wikidata.org/entity/Q471018'), ('labelCastMember', 'Ernie Hudson')]\n",
      "[('castMember', 'http://www.wikidata.org/entity/Q537252'), ('labelCastMember', 'Paul Gleason')]\n",
      "[('castMember', 'http://www.wikidata.org/entity/Q589015'), ('labelCastMember', 'Glenn Morshower')]\n",
      "[('castMember', 'http://www.wikidata.org/entity/Q598178'), ('labelCastMember', 'Tzi Ma')]\n",
      "[('castMember', 'http://www.wikidata.org/entity/Q6903146'), ('labelCastMember', 'Montae Russell')]\n",
      "[('castMember', 'http://www.wikidata.org/entity/Q708059'), ('labelCastMember', 'Chris Ellis')]\n",
      "[('castMember', 'http://www.wikidata.org/entity/Q964006'), ('labelCastMember', 'Eion Bailey')]\n",
      "[('castMember', 'http://www.wikidata.org/entity/Q256186'), ('labelCastMember', 'Laura Allen')]\n",
      "[('castMember', 'http://www.wikidata.org/entity/Q257286'), ('labelCastMember', 'Meagan Good')]\n",
      "[('castMember', 'http://www.wikidata.org/entity/Q271109'), ('labelCastMember', 'Priscilla Pointer')]\n",
      "[('castMember', 'http://www.wikidata.org/entity/Q272166'), ('labelCastMember', 'Tracy Middendorf')]\n",
      "[('castMember', 'http://www.wikidata.org/entity/Q273044'), ('labelCastMember', 'Keke Palmer')]\n",
      "[('castMember', 'http://www.wikidata.org/entity/Q3827125'), ('labelCastMember', 'Larry Brandenburg')]\n",
      "[('castMember', 'http://www.wikidata.org/entity/Q3934881'), ('labelCastMember', 'Richard Steinmetz')]\n",
      "[('castMember', 'http://www.wikidata.org/entity/Q720233'), ('labelCastMember', 'Robert LaSardo')]\n",
      "[('castMember', 'http://www.wikidata.org/entity/Q1712385'), ('labelCastMember', 'Julio Oscar Mechoso')]\n",
      "[('castMember', 'http://www.wikidata.org/entity/Q2667430'), ('labelCastMember', 'Jerry Douglas')]\n",
      "[('castMember', 'http://www.wikidata.org/entity/Q1343823'), ('labelCastMember', 'Joseph Campanella')]\n",
      "[('castMember', 'http://www.wikidata.org/entity/Q198638'), ('labelCastMember', 'Leleco Banks')]\n",
      "[('castMember', 'http://www.wikidata.org/entity/Q330349'), ('labelCastMember', 'Joel Polis')]\n",
      "[('castMember', 'http://www.wikidata.org/entity/Q3515118'), ('labelCastMember', 'Tangi Miller')]\n",
      "[('castMember', 'http://www.wikidata.org/entity/Q433355'), ('labelCastMember', 'Patricia Belcher')]\n",
      "[('castMember', 'http://www.wikidata.org/entity/Q458512'), ('labelCastMember', 'Ellen Albertini Dow')]\n",
      "[('castMember', 'http://www.wikidata.org/entity/Q953908'), ('labelCastMember', 'Carl Lumbly')]\n",
      "[('castMember', 'http://www.wikidata.org/entity/Q562257'), ('labelCastMember', 'Geoffrey Lewis')]\n",
      "[('castMember', 'http://www.wikidata.org/entity/Q262652'), ('labelCastMember', 'Azura Skye')]\n",
      "[('castMember', 'http://www.wikidata.org/entity/Q1370072'), ('labelCastMember', 'Rick Gonzalez')]\n",
      "[('castMember', 'http://www.wikidata.org/entity/Q2101495'), ('labelCastMember', 'Marlene Forte')]\n",
      "[('castMember', 'http://www.wikidata.org/entity/Q3039407'), ('labelCastMember', 'Drew Powell')]\n",
      "[('castMember', 'http://www.wikidata.org/entity/Q1680304'), ('labelCastMember', 'Sam Hennings')]\n",
      "[('castMember', 'http://www.wikidata.org/entity/Q451917'), ('labelCastMember', 'Mel Harris')]\n",
      "[('castMember', 'http://www.wikidata.org/entity/Q537193'), ('labelCastMember', 'Daphne Ashbrook')]\n",
      "[('castMember', 'http://www.wikidata.org/entity/Q313789'), ('labelCastMember', 'Robert Picardo')]\n",
      "[('castMember', 'http://www.wikidata.org/entity/Q356541'), ('labelCastMember', 'Phil LaMarr')]\n",
      "[('castMember', 'http://www.wikidata.org/entity/Q714133'), ('labelCastMember', 'Nicholas Braun')]\n",
      "[('castMember', 'http://www.wikidata.org/entity/Q299324'), ('labelCastMember', 'Brandon Routh')]\n",
      "[('castMember', 'http://www.wikidata.org/entity/Q615200'), ('labelCastMember', 'George Newbern')]\n",
      "[('castMember', 'http://www.wikidata.org/entity/Q236463'), ('labelCastMember', 'Michael Welch')]\n",
      "[('castMember', 'http://www.wikidata.org/entity/Q693301'), ('labelCastMember', 'Mark Rolston')]\n",
      "[('castMember', 'http://www.wikidata.org/entity/Q727988'), ('labelCastMember', 'Daniel Kash')]\n",
      "[('castMember', 'http://www.wikidata.org/entity/Q1125651'), ('labelCastMember', 'Thom Barry')]\n",
      "[('castMember', 'http://www.wikidata.org/entity/Q139697'), ('labelCastMember', 'Zachery Ty Bryan')]\n",
      "[('castMember', 'http://www.wikidata.org/entity/Q271765'), ('labelCastMember', 'Laura Bell Bundy')]\n",
      "[('castMember', 'http://www.wikidata.org/entity/Q361158'), ('labelCastMember', 'T. J. Thyne')]\n",
      "[('castMember', 'http://www.wikidata.org/entity/Q1139242'), ('labelCastMember', 'JR Bourne')]\n",
      "[('castMember', 'http://www.wikidata.org/entity/Q1157743'), ('labelCastMember', 'Dakin Matthews')]\n",
      "[('castMember', 'http://www.wikidata.org/entity/Q1189298'), ('labelCastMember', 'Ian Anthony Dale')]\n",
      "[('castMember', 'http://www.wikidata.org/entity/Q1341001'), ('labelCastMember', 'Lawrence Pressman')]\n",
      "[('castMember', 'http://www.wikidata.org/entity/Q1394940'), ('labelCastMember', 'Paul Schulze')]\n",
      "[('castMember', 'http://www.wikidata.org/entity/Q15288220'), ('labelCastMember', 'Tim de Zarn')]\n",
      "[('castMember', 'http://www.wikidata.org/entity/Q16186952'), ('labelCastMember', 'Michael Shamus Wiles')]\n",
      "[('castMember', 'http://www.wikidata.org/entity/Q182931'), ('labelCastMember', 'John Kapelos')]\n",
      "[('castMember', 'http://www.wikidata.org/entity/Q1883207'), ('labelCastMember', 'Maddy Curley')]\n",
      "[('castMember', 'http://www.wikidata.org/entity/Q19513752'), ('labelCastMember', 'Steven Krueger')]\n",
      "[('castMember', 'http://www.wikidata.org/entity/Q195255'), ('labelCastMember', 'Justin Hartley')]\n",
      "[('castMember', 'http://www.wikidata.org/entity/Q231058'), ('labelCastMember', 'Shailene Woodley')]\n",
      "[('castMember', 'http://www.wikidata.org/entity/Q232481'), ('labelCastMember', 'Tania Raymonde')]\n",
      "[('castMember', 'http://www.wikidata.org/entity/Q235189'), ('labelCastMember', 'Mare Winningham')]\n",
      "[('castMember', 'http://www.wikidata.org/entity/Q239382'), ('labelCastMember', 'Scout Taylor-Compton')]\n",
      "[('castMember', 'http://www.wikidata.org/entity/Q2439744'), ('labelCastMember', 'Christopher Cousins')]\n",
      "[('castMember', 'http://www.wikidata.org/entity/Q2537045'), ('labelCastMember', 'James Handy')]\n",
      "[('castMember', 'http://www.wikidata.org/entity/Q270149'), ('labelCastMember', 'Paul Wesley')]\n",
      "[('castMember', 'http://www.wikidata.org/entity/Q2778807'), ('labelCastMember', 'Michael Mantell')]\n",
      "[('castMember', 'http://www.wikidata.org/entity/Q2965857'), ('labelCastMember', 'Christina Cabot')]\n",
      "[('castMember', 'http://www.wikidata.org/entity/Q324646'), ('labelCastMember', 'Bradley Stryker')]\n",
      "[('castMember', 'http://www.wikidata.org/entity/Q3760469'), ('labelCastMember', 'George Coe')]\n",
      "[('castMember', 'http://www.wikidata.org/entity/Q3788199'), ('labelCastMember', 'Michele Hicks')]\n",
      "[('castMember', 'http://www.wikidata.org/entity/Q3952855'), ('labelCastMember', 'Scott Michael Campbell')]\n",
      "[('castMember', 'http://www.wikidata.org/entity/Q3973330'), ('labelCastMember', 'Steve Eastin')]\n",
      "[('castMember', 'http://www.wikidata.org/entity/Q40124'), ('labelCastMember', 'Sam Trammell')]\n",
      "[('castMember', 'http://www.wikidata.org/entity/Q429619'), ('labelCastMember', 'Valerie Azlynn')]\n",
      "[('castMember', 'http://www.wikidata.org/entity/Q433618'), ('labelCastMember', 'Brit Morgan')]\n",
      "[('castMember', 'http://www.wikidata.org/entity/Q444450'), ('labelCastMember', 'Sammi Hanratty')]\n",
      "[('castMember', 'http://www.wikidata.org/entity/Q453724'), ('labelCastMember', 'John Billingsley')]\n",
      "[('castMember', 'http://www.wikidata.org/entity/Q458482'), ('labelCastMember', 'Lorna Raver')]\n",
      "[('castMember', 'http://www.wikidata.org/entity/Q4653820'), ('labelCastMember', 'Cynthia Ettinger')]\n",
      "[('castMember', 'http://www.wikidata.org/entity/Q467489'), ('labelCastMember', 'Lauren Stamile')]\n",
      "[('castMember', 'http://www.wikidata.org/entity/Q667979'), ('labelCastMember', 'Aaron Hill')]\n",
      "[('castMember', 'http://www.wikidata.org/entity/Q704395'), ('labelCastMember', 'Kyle Gallner')]\n",
      "[('castMember', 'http://www.wikidata.org/entity/Q713634'), ('labelCastMember', 'Shiloh Fernandez')]\n",
      "[('castMember', 'http://www.wikidata.org/entity/Q722038'), ('labelCastMember', 'M.C. Gainey')]\n",
      "[('castMember', 'http://www.wikidata.org/entity/Q733776'), ('labelCastMember', 'Jude Ciccolella')]\n",
      "[('castMember', 'http://www.wikidata.org/entity/Q7791601'), ('labelCastMember', 'Thomas Kopache')]\n",
      "[('castMember', 'http://www.wikidata.org/entity/Q926705'), ('labelCastMember', 'Seamus Dever')]\n",
      "[('castMember', 'http://www.wikidata.org/entity/Q962944'), ('labelCastMember', 'Jacob Vargas')]\n",
      "[('castMember', 'http://www.wikidata.org/entity/Q1176588'), ('labelCastMember', 'David Selby')]\n",
      "[('castMember', 'http://www.wikidata.org/entity/Q128507'), ('labelCastMember', 'Lauren Cohan')]\n",
      "[('castMember', 'http://www.wikidata.org/entity/Q1377988'), ('labelCastMember', 'William R. Moses')]\n",
      "[('castMember', 'http://www.wikidata.org/entity/Q1469565'), ('labelCastMember', 'Jeff Kober')]\n",
      "[('castMember', 'http://www.wikidata.org/entity/Q1582689'), ('labelCastMember', 'John Kassir')]\n",
      "[('castMember', 'http://www.wikidata.org/entity/Q232282'), ('labelCastMember', 'Piper Laurie')]\n",
      "[('castMember', 'http://www.wikidata.org/entity/Q232968'), ('labelCastMember', 'Kathryn Morris')]\n",
      "[('castMember', 'http://www.wikidata.org/entity/Q234080'), ('labelCastMember', 'Diane Ladd')]\n",
      "[('castMember', 'http://www.wikidata.org/entity/Q236759'), ('labelCastMember', 'Sarah Drew')]\n",
      "[('castMember', 'http://www.wikidata.org/entity/Q238494'), ('labelCastMember', 'Spencer Locke')]\n",
      "[('castMember', 'http://www.wikidata.org/entity/Q240467'), ('labelCastMember', 'Natasha Gregson Wagner')]\n",
      "[('castMember', 'http://www.wikidata.org/entity/Q2529744'), ('labelCastMember', 'Jessica Tuck')]\n",
      "[('castMember', 'http://www.wikidata.org/entity/Q261796'), ('labelCastMember', 'Erin Cummings')]\n",
      "[('castMember', 'http://www.wikidata.org/entity/Q2683767'), ('labelCastMember', 'Kevin Cooney')]\n",
      "[('castMember', 'http://www.wikidata.org/entity/Q272944'), ('labelCastMember', 'Danielle Harris')]\n",
      "[('castMember', 'http://www.wikidata.org/entity/Q297348'), ('labelCastMember', 'Marshall Allman')]\n",
      "[('castMember', 'http://www.wikidata.org/entity/Q3121197'), ('labelCastMember', 'Sarah Aldrich')]\n",
      "[('castMember', 'http://www.wikidata.org/entity/Q3147237'), ('labelCastMember', 'Ian Bohen')]\n",
      "[('castMember', 'http://www.wikidata.org/entity/Q344973'), ('labelCastMember', 'Michael Ironside')]\n",
      "[('castMember', 'http://www.wikidata.org/entity/Q448484'), ('labelCastMember', 'Darby Stanchfield')]\n",
      "[('castMember', 'http://www.wikidata.org/entity/Q456614'), ('labelCastMember', 'Kirk Acevedo')]\n",
      "[('castMember', 'http://www.wikidata.org/entity/Q458652'), ('labelCastMember', 'Eve Gordon')]\n",
      "[('castMember', 'http://www.wikidata.org/entity/Q460355'), ('labelCastMember', 'Aloma Wright')]\n",
      "[('castMember', 'http://www.wikidata.org/entity/Q465471'), ('labelCastMember', 'Nikki DeLoach')]\n",
      "[('castMember', 'http://www.wikidata.org/entity/Q508007'), ('labelCastMember', 'Sarah Jane Morris')]\n",
      "[('castMember', 'http://www.wikidata.org/entity/Q5386930'), ('labelCastMember', 'Eric Ladin')]\n",
      "[('castMember', 'http://www.wikidata.org/entity/Q718366'), ('labelCastMember', 'Johnny Messner')]\n",
      "[('castMember', 'http://www.wikidata.org/entity/Q73502'), ('labelCastMember', 'Jamie Anne Allman')]\n",
      "[('castMember', 'http://www.wikidata.org/entity/Q957804'), ('labelCastMember', 'Ryan Kelley')]\n",
      "[('castMember', 'http://www.wikidata.org/entity/Q254980'), ('labelCastMember', 'Madeline Carroll')]\n",
      "[('castMember', 'http://www.wikidata.org/entity/Q273340'), ('labelCastMember', 'Deborah Van Valkenburgh')]\n",
      "[('castMember', 'http://www.wikidata.org/entity/Q446836'), ('labelCastMember', 'Shawn Weatherly')]\n",
      "[('castMember', 'http://www.wikidata.org/entity/Q11910476'), ('labelCastMember', 'James Greene')]\n",
      "[('castMember', 'http://www.wikidata.org/entity/Q225933'), ('labelCastMember', 'Nestor Carbonell')]\n",
      "[('castMember', 'http://www.wikidata.org/entity/Q2415514'), ('labelCastMember', 'Amanda Wyss')]\n",
      "[('castMember', 'http://www.wikidata.org/entity/Q2572165'), ('labelCastMember', 'W. Earl Brown')]\n",
      "[('castMember', 'http://www.wikidata.org/entity/Q272070'), ('labelCastMember', 'Jacqueline Obradors')]\n",
      "[('castMember', 'http://www.wikidata.org/entity/Q327217'), ('labelCastMember', 'Holmes Osborne')]\n",
      "[('castMember', 'http://www.wikidata.org/entity/Q3308419'), ('labelCastMember', \"Michael O'Neill\")]\n",
      "[('castMember', 'http://www.wikidata.org/entity/Q35011'), ('labelCastMember', 'Frances Fisher')]\n",
      "[('castMember', 'http://www.wikidata.org/entity/Q3502393'), ('labelCastMember', 'Kim Miyori')]\n",
      "[('castMember', 'http://www.wikidata.org/entity/Q599274'), ('labelCastMember', 'Leon Russom')]\n",
      "[('castMember', 'http://www.wikidata.org/entity/Q1189389'), ('labelCastMember', 'Chris Mulkey')]\n",
      "[('castMember', 'http://www.wikidata.org/entity/Q241160'), ('labelCastMember', 'Tracie Thoms')]\n",
      "[('castMember', 'http://www.wikidata.org/entity/Q376182'), ('labelCastMember', 'Wings Hauser')]\n",
      "[('castMember', 'http://www.wikidata.org/entity/Q510546'), ('labelCastMember', 'Alexa Havins')]\n",
      "[('castMember', 'http://www.wikidata.org/entity/Q1174905'), ('labelCastMember', 'David Julian Hirsh')]\n",
      "[('castMember', 'http://www.wikidata.org/entity/Q16832134'), ('labelCastMember', 'Ellen Woglom')]\n",
      "[('castMember', 'http://www.wikidata.org/entity/Q174263'), ('labelCastMember', 'Rodney Rowland')]\n",
      "[('castMember', 'http://www.wikidata.org/entity/Q22943994'), ('labelCastMember', 'Jamie McShane')]\n",
      "[('castMember', 'http://www.wikidata.org/entity/Q3550929'), ('labelCastMember', 'Richard Bakalyan')]\n",
      "[('castMember', 'http://www.wikidata.org/entity/Q1062316'), ('labelCastMember', 'Channon Roe')]\n",
      "[('castMember', 'http://www.wikidata.org/entity/Q1334740'), ('labelCastMember', 'Perry King')]\n",
      "[('castMember', 'http://www.wikidata.org/entity/Q218542'), ('labelCastMember', 'Maggie Grace')]\n",
      "[('castMember', 'http://www.wikidata.org/entity/Q2597'), ('labelCastMember', 'Johanna Braddy')]\n",
      "[('castMember', 'http://www.wikidata.org/entity/Q733691'), ('labelCastMember', 'Brad Rowe')]\n",
      "[('castMember', 'http://www.wikidata.org/entity/Q3361195'), ('labelCastMember', 'Richard Portnow')]\n",
      "[('castMember', 'http://www.wikidata.org/entity/Q717982'), ('labelCastMember', 'Arye Gross')]\n",
      "[('castMember', 'http://www.wikidata.org/entity/Q3314078'), ('labelCastMember', 'Miles Heizer')]\n",
      "[('castMember', 'http://www.wikidata.org/entity/Q459082'), ('labelCastMember', 'John White')]\n",
      "[('castMember', 'http://www.wikidata.org/entity/Q459638'), ('labelCastMember', 'Stacy Edwards')]\n",
      "[('castMember', 'http://www.wikidata.org/entity/Q530810'), ('labelCastMember', 'Sarah Laine')]\n",
      "[('castMember', 'http://www.wikidata.org/entity/Q430600'), ('labelCastMember', 'Amanda Schull')]\n",
      "[('castMember', 'http://www.wikidata.org/entity/Q3217147'), ('labelCastMember', 'Lanei Chapman')]\n",
      "[('castMember', 'http://www.wikidata.org/entity/Q271500'), ('labelCastMember', 'Tessa Thompson')]\n",
      "[('castMember', 'http://www.wikidata.org/entity/Q456381'), ('labelCastMember', 'Joelle Carter')]\n",
      "[('castMember', 'http://www.wikidata.org/entity/Q263433'), ('labelCastMember', 'Alona Tal')]\n",
      "[('castMember', 'http://www.wikidata.org/entity/Q773355'), ('labelCastMember', 'Timothy Omundson')]\n",
      "[('castMember', 'http://www.wikidata.org/entity/Q1174314'), ('labelCastMember', 'David Eigenberg')]\n",
      "[('castMember', 'http://www.wikidata.org/entity/Q1701620'), ('labelCastMember', 'John Rubinstein')]\n",
      "[('castMember', 'http://www.wikidata.org/entity/Q271539'), ('labelCastMember', 'Michelle Krusiec')]\n",
      "[('castMember', 'http://www.wikidata.org/entity/Q435647'), ('labelCastMember', 'Megan Boone')]\n",
      "[('castMember', 'http://www.wikidata.org/entity/Q7440839'), ('labelCastMember', 'Sean Bridgers')]\n",
      "[('castMember', 'http://www.wikidata.org/entity/Q133665'), ('labelCastMember', 'Marla Gibbs')]\n",
      "[('castMember', 'http://www.wikidata.org/entity/Q1388636'), ('labelCastMember', 'Tequan Richmond')]\n",
      "[('castMember', 'http://www.wikidata.org/entity/Q534352'), ('labelCastMember', 'Vanessa Bell Calloway')]\n",
      "[('castMember', 'http://www.wikidata.org/entity/Q941660'), ('labelCastMember', 'Clifton Powell')]\n",
      "[('castMember', 'http://www.wikidata.org/entity/Q1341155'), ('labelCastMember', 'Robin Thomas')]\n",
      "[('castMember', 'http://www.wikidata.org/entity/Q253467'), ('labelCastMember', 'Theresa Russell')]\n",
      "[('castMember', 'http://www.wikidata.org/entity/Q3387690'), ('labelCastMember', 'Wesley Jonathan')]\n",
      "[('castMember', 'http://www.wikidata.org/entity/Q237774'), ('labelCastMember', 'Daveigh Chase')]\n",
      "[('castMember', 'http://www.wikidata.org/entity/Q572974'), ('labelCastMember', 'Jason Gedrick')]\n",
      "[('castMember', 'http://www.wikidata.org/entity/Q16214472'), ('labelCastMember', 'Ele Keats')]\n",
      "[('castMember', 'http://www.wikidata.org/entity/Q274923'), ('labelCastMember', 'Meredith Salenger')]\n",
      "[('castMember', 'http://www.wikidata.org/entity/Q3196773'), ('labelCastMember', 'Kim Murphy')]\n",
      "[('castMember', 'http://www.wikidata.org/entity/Q345877'), ('labelCastMember', 'Harrison Page')]\n",
      "[('castMember', 'http://www.wikidata.org/entity/Q1291127'), ('labelCastMember', 'Michael Constantine')]\n",
      "[('castMember', 'http://www.wikidata.org/entity/Q293254'), ('labelCastMember', 'Stacy Haiduk')]\n",
      "[('castMember', 'http://www.wikidata.org/entity/Q350595'), ('labelCastMember', 'Ricky Ullman')]\n",
      "[('castMember', 'http://www.wikidata.org/entity/Q1278420'), ('labelCastMember', 'Gordon Clapp')]\n",
      "[('castMember', 'http://www.wikidata.org/entity/Q1919391'), ('labelCastMember', 'Melissa Farman')]\n",
      "[('castMember', 'http://www.wikidata.org/entity/Q2347522'), ('labelCastMember', 'Steven Eckholdt')]\n",
      "[('castMember', 'http://www.wikidata.org/entity/Q5515783'), ('labelCastMember', 'Gabriel Olds')]\n",
      "[('castMember', 'http://www.wikidata.org/entity/Q469891'), ('labelCastMember', 'Robyn Lively')]\n",
      "[('castMember', 'http://www.wikidata.org/entity/Q235797'), ('labelCastMember', 'AnnaLynne McCord')]\n",
      "[('castMember', 'http://www.wikidata.org/entity/Q2915061'), ('labelCastMember', 'James Madio')]\n",
      "[('castMember', 'http://www.wikidata.org/entity/Q2927208'), ('labelCastMember', 'Brynn Thayer')]\n",
      "[('castMember', 'http://www.wikidata.org/entity/Q2307649'), ('labelCastMember', 'Thomas Ian Griffith')]\n",
      "[('castMember', 'http://www.wikidata.org/entity/Q2633899'), ('labelCastMember', 'Erin Cahill')]\n",
      "[('castMember', 'http://www.wikidata.org/entity/Q314606'), ('labelCastMember', 'Jeff Fahey')]\n",
      "[('castMember', 'http://www.wikidata.org/entity/Q40087'), ('labelCastMember', 'Justin Chambers')]\n",
      "[('castMember', 'http://www.wikidata.org/entity/Q456156'), ('labelCastMember', 'Anita Gillette')]\n",
      "[('castMember', 'http://www.wikidata.org/entity/Q2628916'), ('labelCastMember', 'Tina Lifford')]\n",
      "[('castMember', 'http://www.wikidata.org/entity/Q374586'), ('labelCastMember', 'Nestor Serrano')]\n",
      "[('castMember', 'http://www.wikidata.org/entity/Q442298'), ('labelCastMember', 'Molly Cheek')]\n",
      "[('castMember', 'http://www.wikidata.org/entity/Q1568060'), ('labelCastMember', 'Luke Askew')]\n",
      "[('castMember', 'http://www.wikidata.org/entity/Q297128'), ('labelCastMember', 'David Henrie')]\n",
      "[('castMember', 'http://www.wikidata.org/entity/Q1359938'), ('labelCastMember', 'Raymond J. Barry')]\n",
      "[('castMember', 'http://www.wikidata.org/entity/Q981809'), ('labelCastMember', 'Mehcad Brooks')]\n",
      "[('castMember', 'http://www.wikidata.org/entity/Q1963890'), ('labelCastMember', 'Najarra Townsend')]\n",
      "[('castMember', 'http://www.wikidata.org/entity/Q454088'), ('labelCastMember', 'Lee Majors')]\n",
      "[('castMember', 'http://www.wikidata.org/entity/Q526468'), ('labelCastMember', 'Michael Massee')]\n",
      "[('castMember', 'http://www.wikidata.org/entity/Q3709262'), ('labelCastMember', 'Jamie Hector')]\n",
      "[('castMember', 'http://www.wikidata.org/entity/Q1353700'), ('labelCastMember', 'Eugene Robert Glazer')]\n",
      "[('castMember', 'http://www.wikidata.org/entity/Q467753'), ('labelCastMember', 'Sara Botsford')]\n",
      "[('castMember', 'http://www.wikidata.org/entity/Q1703231'), ('labelCastMember', 'Jonathan LaPaglia')]\n",
      "[('castMember', 'http://www.wikidata.org/entity/Q5578715'), ('labelCastMember', 'J. B. Blanc')]\n",
      "[('castMember', 'http://www.wikidata.org/entity/Q469897'), ('labelCastMember', 'Hedy Burress')]\n",
      "[('castMember', 'http://www.wikidata.org/entity/Q4933051'), ('labelCastMember', 'Bob Koherr')]\n",
      "[('castMember', 'http://www.wikidata.org/entity/Q5525271'), ('labelCastMember', 'Gary Hudson')]\n",
      "[('castMember', 'http://www.wikidata.org/entity/Q18045010'), ('labelCastMember', 'Manny Montana')]\n",
      "[('castMember', 'http://www.wikidata.org/entity/Q2799612'), ('labelCastMember', 'Carolyn McCormick')]\n",
      "[('castMember', 'http://www.wikidata.org/entity/Q2924500'), ('labelCastMember', 'Brent Sexton')]\n",
      "[('castMember', 'http://www.wikidata.org/entity/Q548188'), ('labelCastMember', 'Joey Pollari')]\n",
      "[('castMember', 'http://www.wikidata.org/entity/Q1189470'), ('labelCastMember', 'Jimmi Simpson')]\n",
      "[('castMember', 'http://www.wikidata.org/entity/Q2602612'), ('labelCastMember', 'Travis Wester')]\n",
      "[('castMember', 'http://www.wikidata.org/entity/Q290156'), ('labelCastMember', 'Christine Woods')]\n",
      "[('castMember', 'http://www.wikidata.org/entity/Q508819'), ('labelCastMember', 'Jenna Leigh Green')]\n",
      "[('castMember', 'http://www.wikidata.org/entity/Q440172'), ('labelCastMember', 'Kathleen Lloyd')]\n",
      "[('castMember', 'http://www.wikidata.org/entity/Q1064297'), ('labelCastMember', 'Charles Esten')]\n",
      "[('castMember', 'http://www.wikidata.org/entity/Q1320797'), ('labelCastMember', 'Greg Evigan')]\n",
      "[('castMember', 'http://www.wikidata.org/entity/Q1635631'), ('labelCastMember', 'Braeden Lemasters')]\n",
      "[('castMember', 'http://www.wikidata.org/entity/Q17581460'), ('labelCastMember', 'Tommy Savas')]\n",
      "[('castMember', 'http://www.wikidata.org/entity/Q3506064'), ('labelCastMember', 'Suzanne Whang')]\n",
      "[('castMember', 'http://www.wikidata.org/entity/Q7106276'), ('labelCastMember', 'Oscar Torre')]\n",
      "[('castMember', 'http://www.wikidata.org/entity/Q2555929'), ('labelCastMember', 'Donna Pescow')]\n",
      "[('castMember', 'http://www.wikidata.org/entity/Q1820773'), ('labelCastMember', 'Vicellous Reon Shannon')]\n",
      "[('castMember', 'http://www.wikidata.org/entity/Q14918002'), ('labelCastMember', 'Michael Harney')]\n",
      "[('castMember', 'http://www.wikidata.org/entity/Q258416'), ('labelCastMember', 'Nicholle Tom')]\n",
      "[('castMember', 'http://www.wikidata.org/entity/Q1749182'), ('labelCastMember', 'Robert Curtis Brown')]\n",
      "[('castMember', 'http://www.wikidata.org/entity/Q2794236'), ('labelCastMember', 'Matt DeCaro')]\n",
      "[('castMember', 'http://www.wikidata.org/entity/Q3109076'), ('labelCastMember', 'Jay Acovone')]\n",
      "[('castMember', 'http://www.wikidata.org/entity/Q3135658'), ('labelCastMember', 'Hillary Tuck')]\n",
      "[('castMember', 'http://www.wikidata.org/entity/Q3161132'), ('labelCastMember', 'James Hanlon')]\n",
      "[('castMember', 'http://www.wikidata.org/entity/Q3308554'), ('labelCastMember', 'Michael Grant Terry')]\n",
      "[('castMember', 'http://www.wikidata.org/entity/Q462468'), ('labelCastMember', 'Erin Chambers')]\n",
      "[('castMember', 'http://www.wikidata.org/entity/Q687218'), ('labelCastMember', 'Robert Rusler')]\n",
      "[('castMember', 'http://www.wikidata.org/entity/Q434717'), ('labelCastMember', 'Shoshannah Stern')]\n",
      "[('castMember', 'http://www.wikidata.org/entity/Q441836'), ('labelCastMember', 'Sonja Sohn')]\n",
      "[('castMember', 'http://www.wikidata.org/entity/Q1395333'), ('labelCastMember', 'Harve Presnell')]\n",
      "[('castMember', 'http://www.wikidata.org/entity/Q644565'), ('labelCastMember', 'Patrick J. Adams')]\n",
      "[('castMember', 'http://www.wikidata.org/entity/Q271055'), ('labelCastMember', 'Emily Rose')]\n",
      "[('castMember', 'http://www.wikidata.org/entity/Q16200220'), ('labelCastMember', 'Sufe Bradshaw')]\n",
      "[('castMember', 'http://www.wikidata.org/entity/Q3607216'), ('labelCastMember', 'Aisha Hinds')]\n",
      "[('castMember', 'http://www.wikidata.org/entity/Q1189370'), ('labelCastMember', 'Holland Roden')]\n",
      "[('castMember', 'http://www.wikidata.org/entity/Q135395'), ('labelCastMember', 'Lauren Woodland')]\n",
      "[('castMember', 'http://www.wikidata.org/entity/Q15778512'), ('labelCastMember', 'Sarah Habel')]\n",
      "[('castMember', 'http://www.wikidata.org/entity/Q16233000'), ('labelCastMember', 'Emilee Wallace')]\n",
      "[('castMember', 'http://www.wikidata.org/entity/Q1654251'), ('labelCastMember', 'Benjamín Benítez')]\n",
      "[('castMember', 'http://www.wikidata.org/entity/Q16734816'), ('labelCastMember', 'Kimberly Quinn')]\n",
      "[('castMember', 'http://www.wikidata.org/entity/Q19662199'), ('labelCastMember', 'Lyndon Smith')]\n",
      "[('castMember', 'http://www.wikidata.org/entity/Q2960827'), ('labelCastMember', 'Charlie Babcock')]\n",
      "[('castMember', 'http://www.wikidata.org/entity/Q3122207'), ('labelCastMember', 'Guy Wilson')]\n",
      "[('castMember', 'http://www.wikidata.org/entity/Q3431723'), ('labelCastMember', 'Ridge Canipe')]\n",
      "[('castMember', 'http://www.wikidata.org/entity/Q441974'), ('labelCastMember', 'Terri Garber')]\n",
      "[('castMember', 'http://www.wikidata.org/entity/Q452946'), ('labelCastMember', 'Beata Pozniak')]\n",
      "[('castMember', 'http://www.wikidata.org/entity/Q467317'), ('labelCastMember', 'Meta Golding')]\n",
      "[('castMember', 'http://www.wikidata.org/entity/Q525434'), ('labelCastMember', 'Hattie Winston')]\n",
      "[('castMember', 'http://www.wikidata.org/entity/Q5387851'), ('labelCastMember', 'Erica Ash')]\n",
      "[('castMember', 'http://www.wikidata.org/entity/Q5411324'), ('labelCastMember', 'Euriamis Losada')]\n",
      "[('castMember', 'http://www.wikidata.org/entity/Q7177686'), ('labelCastMember', 'Peter White')]\n",
      "[('castMember', 'http://www.wikidata.org/entity/Q948793'), ('labelCastMember', 'Nick Wechsler')]\n",
      "[('castMember', 'http://www.wikidata.org/entity/Q449249'), ('labelCastMember', 'Chelsea Hobbs')]\n",
      "[('castMember', 'http://www.wikidata.org/entity/Q21515026'), ('labelCastMember', 'Mark Adair-Rios')]\n",
      "[('castMember', 'http://www.wikidata.org/entity/Q1385662'), ('labelCastMember', 'Joe Penny')]\n",
      "[('castMember', 'http://www.wikidata.org/entity/Q59630'), ('labelCastMember', 'Roddy Piper')]\n",
      "[('castMember', 'http://www.wikidata.org/entity/Q231385'), ('labelCastMember', 'Samantha Eggar')]\n",
      "[('castMember', 'http://www.wikidata.org/entity/Q1678770'), ('labelCastMember', 'Jaimé P. Gomez')]\n",
      "[('castMember', 'http://www.wikidata.org/entity/Q305321'), ('labelCastMember', 'Polly Shannon')]\n",
      "[('castMember', 'http://www.wikidata.org/entity/Q242472'), ('labelCastMember', 'Lolita Davidovich')]\n",
      "[('castMember', 'http://www.wikidata.org/entity/Q2651823'), ('labelCastMember', 'Rodney Eastman')]\n",
      "[('castMember', 'http://www.wikidata.org/entity/Q260490'), ('labelCastMember', 'Lindy Booth')]\n",
      "[('castMember', 'http://www.wikidata.org/entity/Q241854'), ('labelCastMember', 'Helena Mattsson')]\n",
      "[('castMember', 'http://www.wikidata.org/entity/Q2301339'), ('labelCastMember', 'Charlyne Yi')]\n",
      "[('castMember', 'http://www.wikidata.org/entity/Q274805'), ('labelCastMember', 'Jud Tylor')]\n",
      "[('castMember', 'http://www.wikidata.org/entity/Q24681278'), ('labelCastMember', 'James MacDonald')]\n",
      "[('castMember', 'http://www.wikidata.org/entity/Q469920'), ('labelCastMember', 'Victoria Pratt')]\n",
      "[('castMember', 'http://www.wikidata.org/entity/Q2787296'), ('labelCastMember', 'Adam Pascal')]\n",
      "[('castMember', 'http://www.wikidata.org/entity/Q2883939'), ('labelCastMember', 'Barbara Eve Harris')]\n",
      "[('castMember', 'http://www.wikidata.org/entity/Q452986'), ('labelCastMember', 'Chandra West')]\n",
      "[('castMember', 'http://www.wikidata.org/entity/Q3421647'), ('labelCastMember', 'Lelia Goldoni')]\n",
      "[('castMember', 'http://www.wikidata.org/entity/Q19866609'), ('labelCastMember', 'Shelby Rabara')]\n",
      "[('castMember', 'http://www.wikidata.org/entity/Q269683'), ('labelCastMember', 'Ksenia Solo')]\n",
      "[('castMember', 'http://www.wikidata.org/entity/Q3808043'), ('labelCastMember', 'Jerry Shea')]\n",
      "[('castMember', 'http://www.wikidata.org/entity/Q144580'), ('labelCastMember', 'Robert J. Steinmiller Jr.')]\n",
      "[('castMember', 'http://www.wikidata.org/entity/Q1503206'), ('labelCastMember', 'Nick Price')]\n",
      "[('castMember', 'http://www.wikidata.org/entity/Q2923471'), ('labelCastMember', 'Bradford Tatum')]\n",
      "[('castMember', 'http://www.wikidata.org/entity/Q201641'), ('labelCastMember', 'Chris Sanders')]\n",
      "[('castMember', 'http://www.wikidata.org/entity/Q2700668'), ('labelCastMember', 'Greg Cipes')]\n",
      "[('castMember', 'http://www.wikidata.org/entity/Q210462'), ('labelCastMember', 'Christina Hendricks')]\n",
      "[('castMember', 'http://www.wikidata.org/entity/Q523687'), ('labelCastMember', 'Brent Huff')]\n",
      "[('castMember', 'http://www.wikidata.org/entity/Q3306283'), ('labelCastMember', 'Dwight Hicks')]\n",
      "[('castMember', 'http://www.wikidata.org/entity/Q23932052'), ('labelCastMember', 'James Ingersoll')]\n",
      "[('castMember', 'http://www.wikidata.org/entity/Q2934764'), ('labelCastMember', 'Cameron Dye')]\n",
      "[('castMember', 'http://www.wikidata.org/entity/Q7659422'), ('labelCastMember', 'Sy Richardson')]\n",
      "[('castMember', 'http://www.wikidata.org/entity/Q17403058'), ('labelCastMember', 'Kate Jennings Grant')]\n",
      "[('castMember', 'http://www.wikidata.org/entity/Q23640216'), ('labelCastMember', 'Blake Robbins')]\n",
      "[('castMember', 'http://www.wikidata.org/entity/Q23639872'), ('labelCastMember', 'Bonnie Burroughs')]\n",
      "[('castMember', 'http://www.wikidata.org/entity/Q16299311'), ('labelCastMember', 'James Immekus')]\n",
      "[('castMember', 'http://www.wikidata.org/entity/Q4078431'), ('labelCastMember', 'Cooper Barnes')]\n",
      "[('castMember', 'http://www.wikidata.org/entity/Q258064'), ('labelCastMember', 'Dee Wallace')]\n",
      "[('castMember', 'http://www.wikidata.org/entity/Q16567288'), ('labelCastMember', 'Jim Abele')]\n",
      "[('castMember', 'http://www.wikidata.org/entity/Q23301771'), ('labelCastMember', 'Rob Nagle')]\n",
      "[('castMember', 'http://www.wikidata.org/entity/Q24054446'), ('labelCastMember', 'Kenneth Meseroll')]\n",
      "[('castMember', 'http://www.wikidata.org/entity/Q39989'), ('labelCastMember', 'Ronny Cox')]\n",
      "[('castMember', 'http://www.wikidata.org/entity/Q2838327'), ('labelCastMember', 'Allison Dunbar')]\n",
      "[('castMember', 'http://www.wikidata.org/entity/Q3308580'), ('labelCastMember', 'Michael Woods')]\n",
      "[('castMember', 'http://www.wikidata.org/entity/Q23013340'), ('labelCastMember', 'Franc Ross')]\n",
      "[('castMember', 'http://www.wikidata.org/entity/Q23012381'), ('labelCastMember', 'Victor McCay')]\n",
      "[('castMember', 'http://www.wikidata.org/entity/Q3180253'), ('labelCastMember', 'Joel McCrary')]\n",
      "[('castMember', 'http://www.wikidata.org/entity/Q6831480'), ('labelCastMember', 'Michael J. Pagan')]\n",
      "[('castMember', 'http://www.wikidata.org/entity/Q23900757'), ('labelCastMember', 'Steven Anderson')]\n",
      "[('castMember', 'http://www.wikidata.org/entity/Q3851729'), ('labelCastMember', 'Mateo Arias')]\n",
      "[('castMember', 'http://www.wikidata.org/entity/Q3469430'), ('labelCastMember', 'Sal Landi')]\n",
      "[('castMember', 'http://www.wikidata.org/entity/Q17639606'), ('labelCastMember', 'Susan Beaubian')]\n",
      "[('castMember', 'http://www.wikidata.org/entity/Q3499226'), ('labelCastMember', 'Steven Grayhm')]\n",
      "[('castMember', 'http://www.wikidata.org/entity/Q16773592'), ('labelCastMember', 'Andrew Ducote')]\n",
      "[('castMember', 'http://www.wikidata.org/entity/Q21716683'), ('labelCastMember', 'Patrick Macmanus')]\n",
      "[('castMember', 'http://www.wikidata.org/entity/Q23011473'), ('labelCastMember', 'Mark Weiler')]\n",
      "[('castMember', 'http://www.wikidata.org/entity/Q3809514'), ('labelCastMember', \"John O'Leary\")]\n",
      "[('castMember', 'http://www.wikidata.org/entity/Q713925'), ('labelCastMember', 'Shalim Ortiz')]\n",
      "[('castMember', 'http://www.wikidata.org/entity/Q1093867'), ('labelCastMember', 'Damon Herriman')]\n",
      "[('castMember', 'http://www.wikidata.org/entity/Q457063'), ('labelCastMember', 'Susan Walters')]\n",
      "[('castMember', 'http://www.wikidata.org/entity/Q17284894'), ('labelCastMember', 'B.J. Britt')]\n",
      "[('castMember', 'http://www.wikidata.org/entity/Q646261'), ('labelCastMember', 'Indigo')]\n",
      "[('castMember', 'http://www.wikidata.org/entity/Q1390515'), ('labelCastMember', 'Richard Herd')]\n",
      "[('castMember', 'http://www.wikidata.org/entity/Q356901'), ('labelCastMember', 'Michael Trevino')]\n",
      "[('castMember', 'http://www.wikidata.org/entity/Q41340'), ('labelCastMember', 'Katherine LaNasa')]\n",
      "[('castMember', 'http://www.wikidata.org/entity/Q2183235'), ('labelCastMember', 'Bruce A. Young')]\n",
      "[('castMember', 'http://www.wikidata.org/entity/Q254954'), ('labelCastMember', 'Aimee Teegarden')]\n",
      "[('castMember', 'http://www.wikidata.org/entity/Q5349376'), ('labelCastMember', 'Eileen Grubba')]\n",
      "[('castMember', 'http://www.wikidata.org/entity/Q1372953'), ('labelCastMember', 'James Karen')]\n",
      "[('castMember', 'http://www.wikidata.org/entity/Q2004409'), ('labelCastMember', 'Rance Howard')]\n",
      "[('castMember', 'http://www.wikidata.org/entity/Q354031'), ('labelCastMember', 'Tom Bower')]\n",
      "[('castMember', 'http://www.wikidata.org/entity/Q435790'), ('labelCastMember', 'Kim Director')]\n",
      "[('castMember', 'http://www.wikidata.org/entity/Q1152815'), ('labelCastMember', 'Marc McClure')]\n",
      "[('castMember', 'http://www.wikidata.org/entity/Q1465235'), ('labelCastMember', 'Jeffrey Nordling')]\n",
      "[('castMember', 'http://www.wikidata.org/entity/Q296537'), ('labelCastMember', 'Blake Clark')]\n",
      "[('castMember', 'http://www.wikidata.org/entity/Q370817'), ('labelCastMember', 'Molly Hagan')]\n",
      "[('castMember', 'http://www.wikidata.org/entity/Q453581'), ('labelCastMember', 'Lee Garlington')]\n",
      "[('castMember', 'http://www.wikidata.org/entity/Q722312'), ('labelCastMember', 'Bill Duke')]\n",
      "[('castMember', 'http://www.wikidata.org/entity/Q955019'), ('labelCastMember', 'Jack Betts')]\n",
      "[('castMember', 'http://www.wikidata.org/entity/Q273497'), ('labelCastMember', 'Debra Mooney')]\n",
      "[('castMember', 'http://www.wikidata.org/entity/Q434661'), ('labelCastMember', 'Mimi Kennedy')]\n",
      "[('castMember', 'http://www.wikidata.org/entity/Q5523004'), ('labelCastMember', 'Gareth Williams')]\n",
      "[('castMember', 'http://www.wikidata.org/entity/Q1371295'), ('labelCastMember', 'Kenny Johnson')]\n",
      "[('castMember', 'http://www.wikidata.org/entity/Q262218'), ('labelCastMember', 'Rachel Miner')]\n",
      "[('castMember', 'http://www.wikidata.org/entity/Q463316'), ('labelCastMember', 'Jay Karnes')]\n",
      "[('castMember', 'http://www.wikidata.org/entity/Q766325'), ('labelCastMember', 'Bug Hall')]\n",
      "[('castMember', 'http://www.wikidata.org/entity/Q1319770'), ('labelCastMember', 'Jon Gries')]\n",
      "[('castMember', 'http://www.wikidata.org/entity/Q610862'), ('labelCastMember', 'Jeff Perry')]\n",
      "[('castMember', 'http://www.wikidata.org/entity/Q2437264'), ('labelCastMember', 'Lindsey Haun')]\n",
      "[('castMember', 'http://www.wikidata.org/entity/Q345955'), ('labelCastMember', 'Daniel Hugh Kelly')]\n",
      "[('castMember', 'http://www.wikidata.org/entity/Q5606356'), ('labelCastMember', 'Greg Travis')]\n",
      "[('castMember', 'http://www.wikidata.org/entity/Q862184'), ('labelCastMember', 'Bill Henderson')]\n",
      "[('castMember', 'http://www.wikidata.org/entity/Q259064'), ('labelCastMember', 'Christa B. Allen')]\n",
      "[('castMember', 'http://www.wikidata.org/entity/Q2610657'), ('labelCastMember', 'Erich Anderson')]\n",
      "[('castMember', 'http://www.wikidata.org/entity/Q2675397'), ('labelCastMember', 'Rutanya Alda')]\n",
      "[('castMember', 'http://www.wikidata.org/entity/Q283872'), ('labelCastMember', 'Veronica Cartwright')]\n",
      "[('castMember', 'http://www.wikidata.org/entity/Q466091'), ('labelCastMember', 'Camryn Grimes')]\n",
      "[('castMember', 'http://www.wikidata.org/entity/Q559092'), ('labelCastMember', \"Nicholas D'Agosto\")]\n",
      "[('castMember', 'http://www.wikidata.org/entity/Q2599535'), ('labelCastMember', 'Tina Holmes')]\n",
      "[('castMember', 'http://www.wikidata.org/entity/Q355024'), ('labelCastMember', 'Jamie Bamber')]\n",
      "[('castMember', 'http://www.wikidata.org/entity/Q27277'), ('labelCastMember', 'Louis Mustillo')]\n",
      "[('castMember', 'http://www.wikidata.org/entity/Q1928775'), ('labelCastMember', 'Brianne Davis')]\n",
      "[('castMember', 'http://www.wikidata.org/entity/Q7177444'), ('labelCastMember', 'Peter Vack')]\n",
      "[('castMember', 'http://www.wikidata.org/entity/Q271059'), ('labelCastMember', 'Mageina Tovah')]\n",
      "[('castMember', 'http://www.wikidata.org/entity/Q3098323'), ('labelCastMember', 'Garette Ratliff Henson')]\n",
      "[('castMember', 'http://www.wikidata.org/entity/Q3339690'), ('labelCastMember', 'Nichole Hiltz')]\n",
      "[('castMember', 'http://www.wikidata.org/entity/Q463226'), ('labelCastMember', 'Charlotte Stewart')]\n",
      "[('castMember', 'http://www.wikidata.org/entity/Q1280821'), ('labelCastMember', 'Richard Gant')]\n",
      "[('castMember', 'http://www.wikidata.org/entity/Q1351441'), ('labelCastMember', 'Eric Lange')]\n",
      "[('castMember', 'http://www.wikidata.org/entity/Q18918'), ('labelCastMember', 'Sam Witwer')]\n",
      "[('castMember', 'http://www.wikidata.org/entity/Q2563511'), ('labelCastMember', 'John Pyper-Ferguson')]\n",
      "[('castMember', 'http://www.wikidata.org/entity/Q26636'), ('labelCastMember', 'David Giuntoli')]\n",
      "[('castMember', 'http://www.wikidata.org/entity/Q534915'), ('labelCastMember', 'Patrick Fischler')]\n",
      "[('castMember', 'http://www.wikidata.org/entity/Q589827'), ('labelCastMember', 'Michael Raymond-James')]\n",
      "[('castMember', 'http://www.wikidata.org/entity/Q984326'), ('labelCastMember', 'Noah Bean')]\n",
      "[('castMember', 'http://www.wikidata.org/entity/Q1532531'), ('labelCastMember', 'Glynn Turman')]\n",
      "[('castMember', 'http://www.wikidata.org/entity/Q708054'), ('labelCastMember', 'Cleavant Derricks')]\n",
      "[('castMember', 'http://www.wikidata.org/entity/Q1942940'), ('labelCastMember', 'Steve Rankin')]\n",
      "[('castMember', 'http://www.wikidata.org/entity/Q267359'), ('labelCastMember', 'Ashley Johnson')]\n",
      "[('castMember', 'http://www.wikidata.org/entity/Q451938'), ('labelCastMember', 'James Morrison')]\n",
      "[('castMember', 'http://www.wikidata.org/entity/Q528007'), ('labelCastMember', 'Karen Austin')]\n",
      "[('castMember', 'http://www.wikidata.org/entity/Q604485'), ('labelCastMember', 'W. Morgan Sheppard')]\n",
      "[('castMember', 'http://www.wikidata.org/entity/Q1688147'), ('labelCastMember', 'Jesse D. Goins')]\n",
      "[('castMember', 'http://www.wikidata.org/entity/Q26968'), ('labelCastMember', 'Sarah Jones')]\n",
      "[('castMember', 'http://www.wikidata.org/entity/Q463321'), ('labelCastMember', 'Jamil Walker Smith')]\n",
      "[('castMember', 'http://www.wikidata.org/entity/Q974467'), ('labelCastMember', 'Michael J. Anderson')]\n",
      "[('castMember', 'http://www.wikidata.org/entity/Q549948'), ('labelCastMember', 'Jake McDorman')]\n",
      "[('castMember', 'http://www.wikidata.org/entity/Q6342864'), ('labelCastMember', 'K. Callan')]\n",
      "[('castMember', 'http://www.wikidata.org/entity/Q1138674'), ('labelCastMember', 'Jesse Plemons')]\n",
      "[('castMember', 'http://www.wikidata.org/entity/Q455029'), ('labelCastMember', 'Jamie Rose')]\n",
      "[('castMember', 'http://www.wikidata.org/entity/Q4756395'), ('labelCastMember', 'Andrew Bowen')]\n",
      "[('castMember', 'http://www.wikidata.org/entity/Q2978725'), ('labelCastMember', 'Clayne Crawford')]\n",
      "[('castMember', 'http://www.wikidata.org/entity/Q3856160'), ('labelCastMember', 'Michael Fairman')]\n",
      "[('castMember', 'http://www.wikidata.org/entity/Q503399'), ('labelCastMember', 'Paul James')]\n",
      "[('castMember', 'http://www.wikidata.org/entity/Q4253117'), ('labelCastMember', 'Lori Lively')]\n",
      "[('castMember', 'http://www.wikidata.org/entity/Q1120939'), ('labelCastMember', 'Joel Murray')]\n",
      "[('castMember', 'http://www.wikidata.org/entity/Q39972'), ('labelCastMember', 'Ed Lauter')]\n",
      "[('castMember', 'http://www.wikidata.org/entity/Q230335'), ('labelCastMember', 'Katee Sackhoff')]\n",
      "[('castMember', 'http://www.wikidata.org/entity/Q2174481'), ('labelCastMember', 'David Bowe')]\n",
      "[('castMember', 'http://www.wikidata.org/entity/Q2314842'), ('labelCastMember', 'Chad Lindberg')]\n",
      "[('castMember', 'http://www.wikidata.org/entity/Q374447'), ('labelCastMember', 'Sam Anderson')]\n",
      "[('castMember', 'http://www.wikidata.org/entity/Q3827891'), ('labelCastMember', 'Lauren Bowles')]\n",
      "[('castMember', 'http://www.wikidata.org/entity/Q1141395'), ('labelCastMember', 'Jordana Spiro')]\n",
      "[('castMember', 'http://www.wikidata.org/entity/Q1364838'), ('labelCastMember', 'Fredric Lehne')]\n",
      "[('castMember', 'http://www.wikidata.org/entity/Q236303'), ('labelCastMember', 'Dana Davis')]\n",
      "[('castMember', 'http://www.wikidata.org/entity/Q2487180'), ('labelCastMember', 'Dale Dickey')]\n",
      "[('castMember', 'http://www.wikidata.org/entity/Q326217'), ('labelCastMember', 'Diane Delano')]\n",
      "[('castMember', 'http://www.wikidata.org/entity/Q357656'), ('labelCastMember', 'Silas Weir Mitchell')]\n",
      "[('castMember', 'http://www.wikidata.org/entity/Q439841'), ('labelCastMember', 'John Aniston')]\n",
      "[('castMember', 'http://www.wikidata.org/entity/Q454691'), ('labelCastMember', 'Whitney Able')]\n",
      "[('castMember', 'http://www.wikidata.org/entity/Q549207'), ('labelCastMember', 'Ross Thomas')]\n",
      "[('castMember', 'http://www.wikidata.org/entity/Q712964'), ('labelCastMember', 'Darius McCrary')]\n",
      "[('castMember', 'http://www.wikidata.org/entity/Q1066917'), ('labelCastMember', 'Charlie Hofheimer')]\n",
      "[('castMember', 'http://www.wikidata.org/entity/Q1319798'), ('labelCastMember', 'Aldis Hodge')]\n",
      "[('castMember', 'http://www.wikidata.org/entity/Q1665344'), ('labelCastMember', 'Max Gail')]\n",
      "[('castMember', 'http://www.wikidata.org/entity/Q16739662'), ('labelCastMember', 'Anna Wood')]\n",
      "[('castMember', 'http://www.wikidata.org/entity/Q20675897'), ('labelCastMember', 'Evan Arnold')]\n",
      "[('castMember', 'http://www.wikidata.org/entity/Q234419'), ('labelCastMember', 'Alexa Nikolas')]\n",
      "[('castMember', 'http://www.wikidata.org/entity/Q288123'), ('labelCastMember', 'Taylor Cole')]\n",
      "[('castMember', 'http://www.wikidata.org/entity/Q381036'), ('labelCastMember', 'Jake Abel')]\n",
      "[('castMember', 'http://www.wikidata.org/entity/Q5451053'), ('labelCastMember', 'Fiona Gubelmann')]\n",
      "[('castMember', 'http://www.wikidata.org/entity/Q273065'), ('labelCastMember', 'Jennifer Hetrick')]\n",
      "[('castMember', 'http://www.wikidata.org/entity/Q3056459'), ('labelCastMember', 'Erica Hubbard')]\n",
      "[('castMember', 'http://www.wikidata.org/entity/Q455689'), ('labelCastMember', 'Constance Towers')]\n",
      "[('castMember', 'http://www.wikidata.org/entity/Q547310'), ('labelCastMember', 'Art LaFleur')]\n",
      "[('castMember', 'http://www.wikidata.org/entity/Q527771'), ('labelCastMember', 'Wilson Bethel')]\n",
      "[('castMember', 'http://www.wikidata.org/entity/Q2231922'), ('labelCastMember', 'Ashton Holmes')]\n",
      "[('castMember', 'http://www.wikidata.org/entity/Q2733992'), ('labelCastMember', 'Jerry Hardin')]\n",
      "[('castMember', 'http://www.wikidata.org/entity/Q41034'), ('labelCastMember', 'Julie Adams')]\n",
      "[('castMember', 'http://www.wikidata.org/entity/Q239093'), ('labelCastMember', 'Annie Wersching')]\n",
      "[('castMember', 'http://www.wikidata.org/entity/Q260134'), ('labelCastMember', 'Brea Grant')]\n",
      "[('castMember', 'http://www.wikidata.org/entity/Q2374597'), ('labelCastMember', 'Jeffrey Licon')]\n",
      "[('castMember', 'http://www.wikidata.org/entity/Q809019'), ('labelCastMember', 'Barry Bostwick')]\n",
      "[('castMember', 'http://www.wikidata.org/entity/Q724918'), ('labelCastMember', 'Robin Riker')]\n",
      "[('castMember', 'http://www.wikidata.org/entity/Q508806'), ('labelCastMember', 'Thomas Calabro')]\n",
      "[('castMember', 'http://www.wikidata.org/entity/Q722378'), ('labelCastMember', 'Brett Halsey')]\n",
      "[('castMember', 'http://www.wikidata.org/entity/Q2589401'), ('labelCastMember', 'Pat Crowley')]\n",
      "[('castMember', 'http://www.wikidata.org/entity/Q2636244'), ('labelCastMember', 'Jeff Hephner')]\n",
      "[('castMember', 'http://www.wikidata.org/entity/Q3950320'), ('labelCastMember', 'Sarah Brown')]\n",
      "[('castMember', 'http://www.wikidata.org/entity/Q2838353'), ('labelCastMember', 'Allison Smith')]\n",
      "[('castMember', 'http://www.wikidata.org/entity/Q456862'), ('labelCastMember', 'Amber Benson')]\n",
      "[('castMember', 'http://www.wikidata.org/entity/Q929417'), ('labelCastMember', 'Harold Sylvester')]\n",
      "[('castMember', 'http://www.wikidata.org/entity/Q44445'), ('labelCastMember', 'Eric Lutes')]\n",
      "[('castMember', 'http://www.wikidata.org/entity/Q456373'), ('labelCastMember', 'Elinor Donahue')]\n",
      "[('castMember', 'http://www.wikidata.org/entity/Q451934'), ('labelCastMember', 'Andrea Savage')]\n",
      "[('castMember', 'http://www.wikidata.org/entity/Q3308007'), ('labelCastMember', 'Michael B. Jordan')]\n",
      "[('castMember', 'http://www.wikidata.org/entity/Q900426'), ('labelCastMember', 'Chuck Hittinger')]\n",
      "[('castMember', 'http://www.wikidata.org/entity/Q472438'), ('labelCastMember', 'Chad Allen')]\n",
      "[('castMember', 'http://www.wikidata.org/entity/Q274975'), ('labelCastMember', 'Shelly Cole')]\n",
      "[('castMember', 'http://www.wikidata.org/entity/Q1726175'), ('labelCastMember', 'Will Rothhaar')]\n",
      "[('castMember', 'http://www.wikidata.org/entity/Q271125'), ('labelCastMember', 'Liana Liberato')]\n",
      "[('castMember', 'http://www.wikidata.org/entity/Q1684369'), ('labelCastMember', 'Jay Thomas')]\n",
      "[('castMember', 'http://www.wikidata.org/entity/Q3099987'), ('labelCastMember', 'Gbenga Akinnagbe')]\n",
      "[('castMember', 'http://www.wikidata.org/entity/Q981647'), ('labelCastMember', 'Richard Moll')]\n",
      "[('castMember', 'http://www.wikidata.org/entity/Q275619'), ('labelCastMember', 'Linda Purl')]\n",
      "[('castMember', 'http://www.wikidata.org/entity/Q448729'), ('labelCastMember', \"Jenny O'Hara\")]\n",
      "[('castMember', 'http://www.wikidata.org/entity/Q957454'), ('labelCastMember', 'Arlen Escarpeta')]\n",
      "[('castMember', 'http://www.wikidata.org/entity/Q262241'), ('labelCastMember', 'Nicki Aycox')]\n",
      "[('castMember', 'http://www.wikidata.org/entity/Q433198'), ('labelCastMember', 'Paula Malcomson')]\n",
      "[('castMember', 'http://www.wikidata.org/entity/Q766825'), ('labelCastMember', 'Lynda Boyd')]\n",
      "[('castMember', 'http://www.wikidata.org/entity/Q687311'), ('labelCastMember', 'Frank Medrano')]\n",
      "[('castMember', 'http://www.wikidata.org/entity/Q6968702'), ('labelCastMember', 'Nate Parker')]\n",
      "[('castMember', 'http://www.wikidata.org/entity/Q271065'), ('labelCastMember', 'Sharni Vinson')]\n",
      "[('castMember', 'http://www.wikidata.org/entity/Q481954'), ('labelCastMember', 'Amy Sloan')]\n",
      "[('castMember', 'http://www.wikidata.org/entity/Q1710153'), ('labelCastMember', 'Laura Regan')]\n",
      "[('castMember', 'http://www.wikidata.org/entity/Q15438400'), ('labelCastMember', 'Dorie Barton')]\n",
      "[('castMember', 'http://www.wikidata.org/entity/Q24036596'), ('labelCastMember', 'Jeremiah Birkett')]\n",
      "[('castMember', 'http://www.wikidata.org/entity/Q18702972'), ('labelCastMember', 'Stephanie Moseley')]\n",
      "[('castMember', 'http://www.wikidata.org/entity/Q1142507'), ('labelCastMember', 'Bre Blair')]\n",
      "[('castMember', 'http://www.wikidata.org/entity/Q3293996'), ('labelCastMember', 'Mark Beltzman')]\n",
      "[('castMember', 'http://www.wikidata.org/entity/Q4886202'), ('labelCastMember', 'Ben Murphy')]\n",
      "[('castMember', 'http://www.wikidata.org/entity/Q23042211'), ('labelCastMember', 'Jeanette Brox')]\n",
      "[('castMember', 'http://www.wikidata.org/entity/Q19956031'), ('labelCastMember', 'Ron Gilbert')]\n",
      "[('castMember', 'http://www.wikidata.org/entity/Q24076563'), ('labelCastMember', 'Michael Bofshever')]\n",
      "[('castMember', 'http://www.wikidata.org/entity/Q2421372'), ('labelCastMember', 'Richard Cox')]\n",
      "[('castMember', 'http://www.wikidata.org/entity/Q468449'), ('labelCastMember', 'Mariette Hartley')]\n",
      "[('castMember', 'http://www.wikidata.org/entity/Q295502'), ('labelCastMember', 'Darren Criss')]\n",
      "[('castMember', 'http://www.wikidata.org/entity/Q3481559'), ('labelCastMember', 'Shaun Benson')]\n",
      "[('castMember', 'http://www.wikidata.org/entity/Q15961155'), ('labelCastMember', 'Jake McLaughlin')]\n",
      "[('castMember', 'http://www.wikidata.org/entity/Q558793'), ('labelCastMember', 'Jason Dohring')]\n",
      "[('castMember', 'http://www.wikidata.org/entity/Q15260880'), ('labelCastMember', 'Betsy Beutler')]\n",
      "[('castMember', 'http://www.wikidata.org/entity/Q15712133'), ('labelCastMember', 'Robert F. Lyons')]\n",
      "[('castMember', 'http://www.wikidata.org/entity/Q15977923'), ('labelCastMember', 'Kaitlyn Black')]\n",
      "[('castMember', 'http://www.wikidata.org/entity/Q5066520'), ('labelCastMember', 'Chadwick Boseman')]\n",
      "[('castMember', 'http://www.wikidata.org/entity/Q1059427'), ('labelCastMember', 'Shannon Woodward')]\n",
      "[('castMember', 'http://www.wikidata.org/entity/Q2683810'), ('labelCastMember', 'Zane Holtz')]\n",
      "[('castMember', 'http://www.wikidata.org/entity/Q1647937'), ('labelCastMember', 'Tom Wright')]\n",
      "[('castMember', 'http://www.wikidata.org/entity/Q2452110'), ('labelCastMember', 'Trevor Jackson')]\n",
      "[('castMember', 'http://www.wikidata.org/entity/Q3311296'), ('labelCastMember', 'Michele Greene')]\n",
      "[('castMember', 'http://www.wikidata.org/entity/Q279816'), ('labelCastMember', 'Dawn Olivieri')]\n",
      "[('castMember', 'http://www.wikidata.org/entity/Q1103579'), ('labelCastMember', 'Mary Elizabeth Ellis')]\n",
      "[('castMember', 'http://www.wikidata.org/entity/Q1372431'), ('labelCastMember', 'Max Adler')]\n",
      "[('castMember', 'http://www.wikidata.org/entity/Q16204407'), ('labelCastMember', 'J. Downing')]\n",
      "[('castMember', 'http://www.wikidata.org/entity/Q507446'), ('labelCastMember', 'Kenton Duty')]\n",
      "[('castMember', 'http://www.wikidata.org/entity/Q954822'), ('labelCastMember', 'Eduardo Yáñez')]\n",
      "[('castMember', 'http://www.wikidata.org/entity/Q139897'), ('labelCastMember', 'Brigid Brannagh')]\n",
      "[('castMember', 'http://www.wikidata.org/entity/Q111691'), ('labelCastMember', 'Tanya Chisholm')]\n",
      "[('castMember', 'http://www.wikidata.org/entity/Q3539529'), ('labelCastMember', 'Wendy Davis')]\n",
      "[('castMember', 'http://www.wikidata.org/entity/Q452125'), ('labelCastMember', 'Linsey Godfrey')]\n",
      "[('castMember', 'http://www.wikidata.org/entity/Q1344354'), ('labelCastMember', 'Sharif Atkins')]\n",
      "[('castMember', 'http://www.wikidata.org/entity/Q2146011'), ('labelCastMember', 'Larry Clarke')]\n",
      "[('castMember', 'http://www.wikidata.org/entity/Q17305722'), ('labelCastMember', 'Chris Browning')]\n",
      "[('castMember', 'http://www.wikidata.org/entity/Q3313322'), ('labelCastMember', 'Mike Genovese')]\n",
      "[('castMember', 'http://www.wikidata.org/entity/Q3109116'), ('labelCastMember', 'Gloria Garayua')]\n",
      "[('castMember', 'http://www.wikidata.org/entity/Q16204031'), ('labelCastMember', 'Tommy Dewey')]\n",
      "[('castMember', 'http://www.wikidata.org/entity/Q1189095'), ('labelCastMember', 'Courtney Ford')]\n",
      "[('castMember', 'http://www.wikidata.org/entity/Q457541'), ('labelCastMember', 'Danielle Bisutti')]\n",
      "[('castMember', 'http://www.wikidata.org/entity/Q3099305'), ('labelCastMember', 'Gattlin Griffith')]\n",
      "[('castMember', 'http://www.wikidata.org/entity/Q6757703'), ('labelCastMember', 'Marco Rodríguez')]\n",
      "[('castMember', 'http://www.wikidata.org/entity/Q932636'), ('labelCastMember', 'Tyler Blackburn')]\n",
      "[('castMember', 'http://www.wikidata.org/entity/Q441095'), ('labelCastMember', 'MacKenzie Mauzy')]\n",
      "[('castMember', 'http://www.wikidata.org/entity/Q439423'), ('labelCastMember', 'Tristan Wilds')]\n",
      "[('castMember', 'http://www.wikidata.org/entity/Q439585'), ('labelCastMember', 'Gillian Zinser')]\n",
      "[('castMember', 'http://www.wikidata.org/entity/Q452475'), ('labelCastMember', 'Mackenzie Phillips')]\n",
      "[('castMember', 'http://www.wikidata.org/entity/Q2645090'), ('labelCastMember', 'Valerie Wildman')]\n",
      "[('castMember', 'http://www.wikidata.org/entity/Q4025858'), ('labelCastMember', 'Zach Mills')]\n",
      "[('castMember', 'http://www.wikidata.org/entity/Q3992160'), ('labelCastMember', 'Todd Cahoon')]\n",
      "[('castMember', 'http://www.wikidata.org/entity/Q2035396'), ('labelCastMember', 'Steven Williams')]\n",
      "[('castMember', 'http://www.wikidata.org/entity/Q465406'), ('labelCastMember', 'Nelson Lee')]\n",
      "[('castMember', 'http://www.wikidata.org/entity/Q3634694'), ('labelCastMember', 'Barbara Tarbuck')]\n",
      "[('castMember', 'http://www.wikidata.org/entity/Q1320573'), ('labelCastMember', 'Taylor Handley')]\n",
      "[('castMember', 'http://www.wikidata.org/entity/Q5253136'), ('labelCastMember', 'Delaney Williams')]\n",
      "[('castMember', 'http://www.wikidata.org/entity/Q13942157'), ('labelCastMember', 'Paul Jenkins')]\n",
      "[('castMember', 'http://www.wikidata.org/entity/Q3981017'), ('labelCastMember', 'Tara Buck')]\n",
      "[('castMember', 'http://www.wikidata.org/entity/Q2767596'), ('labelCastMember', 'Jeremy Davidson')]\n",
      "[('castMember', 'http://www.wikidata.org/entity/Q371574'), ('labelCastMember', 'Greg Finley')]\n",
      "[('castMember', 'http://www.wikidata.org/entity/Q16302498'), ('labelCastMember', 'J.R. Villarreal')]\n",
      "[('castMember', 'http://www.wikidata.org/entity/Q3726403'), ('labelCastMember', 'Enuka Okuma')]\n",
      "[('castMember', 'http://www.wikidata.org/entity/Q19328121'), ('labelCastMember', 'Wilmer Calderon')]\n",
      "[('castMember', 'http://www.wikidata.org/entity/Q532229'), ('labelCastMember', 'Justina Vail Evans')]\n",
      "[('castMember', 'http://www.wikidata.org/entity/Q5523939'), ('labelCastMember', 'Garrett Ryan')]\n",
      "[('castMember', 'http://www.wikidata.org/entity/Q23139068'), ('labelCastMember', 'Tim Haldeman')]\n",
      "[('castMember', 'http://www.wikidata.org/entity/Q24008487'), ('labelCastMember', 'Jim Gleason')]\n",
      "[('castMember', 'http://www.wikidata.org/entity/Q3539595'), ('labelCastMember', 'Trisha LaFache')]\n",
      "[('castMember', 'http://www.wikidata.org/entity/Q15666053'), ('labelCastMember', 'Michelle Harrison')]\n",
      "[('castMember', 'http://www.wikidata.org/entity/Q15136783'), ('labelCastMember', 'Vincent Angell')]\n",
      "[('castMember', 'http://www.wikidata.org/entity/Q3190470'), ('labelCastMember', 'Justin Martin')]\n",
      "[('castMember', 'http://www.wikidata.org/entity/Q16730112'), ('labelCastMember', 'Milauna Jackson')]\n",
      "[('castMember', 'http://www.wikidata.org/entity/Q22916122'), ('labelCastMember', \"Stu 'Large' Riley\")]\n",
      "[('castMember', 'http://www.wikidata.org/entity/Q3870727'), ('labelCastMember', 'Nathan Halliday')]\n",
      "[('castMember', 'http://www.wikidata.org/entity/Q9266100'), ('labelCastMember', 'Garrett M. Brown')]\n",
      "698\n"
     ]
    }
   ],
   "source": [
    "queryString = \"\"\"\n",
    "SELECT DISTINCT ?castMember ?labelCastMember \n",
    "WHERE \n",
    "{   \n",
    "    #Cast Members of wd:Q733960 \n",
    "    {\n",
    "        SELECT DISTINCT ?castMember ?labelCastMember\n",
    "        WHERE\n",
    "        {\n",
    "            wd:Q733960 wdt:P161 ?castMember .\n",
    "            ?castMember sc:name ?labelCastMember .\n",
    "        }\n",
    "    }    \n",
    "    #Cast Members of seasons of wd:Q733960 \n",
    "    UNION\n",
    "    {\n",
    "        SELECT DISTINCT ?castMember ?labelCastMember\n",
    "        WHERE\n",
    "        {\n",
    "            wd:Q733960 wdt:P527 ?season .\n",
    "            ?season wdt:P161 ?castMember .\n",
    "            ?castMember sc:name ?labelCastMember .\n",
    "        }\n",
    "    }       \n",
    "    #Cast Members of episodes of wd:Q733960 \n",
    "    UNION\n",
    "    {\n",
    "        SELECT DISTINCT ?castMember ?labelCastMember\n",
    "        WHERE\n",
    "        {\n",
    "            wd:Q733960 wdt:P527 ?season .\n",
    "            ?season wdt:P527 ?episode .\n",
    "            ?episode wdt:P161 ?castMember .\n",
    "            ?castMember sc:name ?labelCastMember .\n",
    "        }\n",
    "    }\n",
    "    ?castMember wdt:P106 ?occupation .\n",
    "    ?occupation sc:name ?labelOccupation .    \n",
    "    FILTER (REGEX (?labelOccupation, \"(?:^|\\\\\\\\W)actor(?:$|\\\\\\\\W)\") || REGEX (?labelOccupation, \"(?:^|\\\\\\\\W)actress(?:$|\\\\\\\\W)\"))  .\n",
    "}\n",
    "\"\"\"\n",
    "print(\"Results\")\n",
    "x=run_query(queryString)"
   ]
  },
  {
   "cell_type": "markdown",
   "id": "7c5364be-38e7-48cf-8804-623bc2862f10",
   "metadata": {
    "tags": []
   },
   "source": [
    "### Get all the \"television series\" such that the \"cast members\" (wdt:P161) of \"Cold Case\" are cast members"
   ]
  },
  {
   "cell_type": "code",
   "execution_count": 15,
   "id": "c68e6c90-51ef-4a0c-b37b-dd7d7166a9ae",
   "metadata": {},
   "outputs": [
    {
     "name": "stdout",
     "output_type": "stream",
     "text": [
      "Results\n",
      "[('televisionSerie', 'http://www.wikidata.org/entity/Q17049828'), ('labelTelevisionSerie', 'Bad Samaritans')]\n",
      "[('televisionSerie', 'http://www.wikidata.org/entity/Q17635847'), ('labelTelevisionSerie', 'K.C. Undercover')]\n",
      "[('televisionSerie', 'http://www.wikidata.org/entity/Q221230'), ('labelTelevisionSerie', 'Nip/Tuck')]\n",
      "[('televisionSerie', 'http://www.wikidata.org/entity/Q2947967'), ('labelTelevisionSerie', 'Under the Dome')]\n",
      "[('televisionSerie', 'http://www.wikidata.org/entity/Q23558'), ('labelTelevisionSerie', 'House')]\n",
      "[('televisionSerie', 'http://www.wikidata.org/entity/Q498569'), ('labelTelevisionSerie', 'Rules of Engagement')]\n",
      "[('televisionSerie', 'http://www.wikidata.org/entity/Q1190808'), ('labelTelevisionSerie', 'Mental')]\n",
      "[('televisionSerie', 'http://www.wikidata.org/entity/Q186219'), ('labelTelevisionSerie', 'True Blood')]\n",
      "[('televisionSerie', 'http://www.wikidata.org/entity/Q589187'), ('labelTelevisionSerie', 'Sliders')]\n",
      "[('televisionSerie', 'http://www.wikidata.org/entity/Q733960'), ('labelTelevisionSerie', 'Cold Case')]\n",
      "[('televisionSerie', 'http://www.wikidata.org/entity/Q1138000'), ('labelTelevisionSerie', 'The Middle')]\n",
      "[('televisionSerie', 'http://www.wikidata.org/entity/Q23567'), ('labelTelevisionSerie', 'Lost')]\n",
      "[('televisionSerie', 'http://www.wikidata.org/entity/Q48777'), ('labelTelevisionSerie', 'The Waltons')]\n",
      "[('televisionSerie', 'http://www.wikidata.org/entity/Q131758'), ('labelTelevisionSerie', 'Desperate Housewives')]\n",
      "[('televisionSerie', 'http://www.wikidata.org/entity/Q189411'), ('labelTelevisionSerie', 'CSI: Miami')]\n",
      "[('televisionSerie', 'http://www.wikidata.org/entity/Q147235'), ('labelTelevisionSerie', 'How I Met Your Mother')]\n",
      "[('televisionSerie', 'http://www.wikidata.org/entity/Q80044'), ('labelTelevisionSerie', 'Prison Break')]\n",
      "[('televisionSerie', 'http://www.wikidata.org/entity/Q168708'), ('labelTelevisionSerie', 'Dallas')]\n",
      "[('televisionSerie', 'http://www.wikidata.org/entity/Q390076'), ('labelTelevisionSerie', 'Brothers & Sisters')]\n",
      "[('televisionSerie', 'http://www.wikidata.org/entity/Q218567'), ('labelTelevisionSerie', 'Law & Order: Special Victims Unit')]\n",
      "[('televisionSerie', 'http://www.wikidata.org/entity/Q56194'), ('labelTelevisionSerie', '24')]\n",
      "[('televisionSerie', 'http://www.wikidata.org/entity/Q16756'), ('labelTelevisionSerie', 'Modern Family')]\n",
      "[('televisionSerie', 'http://www.wikidata.org/entity/Q234386'), ('labelTelevisionSerie', 'The 4400')]\n",
      "[('televisionSerie', 'http://www.wikidata.org/entity/Q839715'), ('labelTelevisionSerie', 'Carnivàle')]\n",
      "[('televisionSerie', 'http://www.wikidata.org/entity/Q221237'), ('labelTelevisionSerie', 'Jericho')]\n",
      "[('televisionSerie', 'http://www.wikidata.org/entity/Q494244'), ('labelTelevisionSerie', 'M*A*S*H')]\n",
      "[('televisionSerie', 'http://www.wikidata.org/entity/Q2005949'), ('labelTelevisionSerie', 'Flight 29 Down')]\n",
      "[('televisionSerie', 'http://www.wikidata.org/entity/Q202141'), ('labelTelevisionSerie', 'Criminal Minds')]\n",
      "[('televisionSerie', 'http://www.wikidata.org/entity/Q1462394'), ('labelTelevisionSerie', 'The Amazing Spider-Man')]\n",
      "[('televisionSerie', 'http://www.wikidata.org/entity/Q1144624'), ('labelTelevisionSerie', 'Family Ties')]\n",
      "[('televisionSerie', 'http://www.wikidata.org/entity/Q409389'), ('labelTelevisionSerie', 'Airwolf')]\n",
      "[('televisionSerie', 'http://www.wikidata.org/entity/Q318649'), ('labelTelevisionSerie', 'Ghost Whisperer')]\n",
      "[('televisionSerie', 'http://www.wikidata.org/entity/Q1571652'), ('labelTelevisionSerie', 'Dog with a Blog')]\n",
      "[('televisionSerie', 'http://www.wikidata.org/entity/Q244803'), ('labelTelevisionSerie', 'Ally McBeal')]\n",
      "[('televisionSerie', 'http://www.wikidata.org/entity/Q844059'), ('labelTelevisionSerie', 'New Girl')]\n",
      "[('televisionSerie', 'http://www.wikidata.org/entity/Q117396'), ('labelTelevisionSerie', 'CSI: Vegas')]\n",
      "[('televisionSerie', 'http://www.wikidata.org/entity/Q6084'), ('labelTelevisionSerie', 'NCIS: Los Angeles')]\n",
      "[('televisionSerie', 'http://www.wikidata.org/entity/Q537911'), ('labelTelevisionSerie', 'Agents of S.H.I.E.L.D.')]\n",
      "[('televisionSerie', 'http://www.wikidata.org/entity/Q6669712'), ('labelTelevisionSerie', 'Justice League Unlimited')]\n",
      "[('televisionSerie', 'http://www.wikidata.org/entity/Q438406'), ('labelTelevisionSerie', \"Grey's Anatomy\")]\n",
      "[('televisionSerie', 'http://www.wikidata.org/entity/Q192259'), ('labelTelevisionSerie', 'CSI: NY')]\n",
      "[('televisionSerie', 'http://www.wikidata.org/entity/Q18844725'), ('labelTelevisionSerie', 'Fear the Walking Dead')]\n",
      "[('televisionSerie', 'http://www.wikidata.org/entity/Q212156'), ('labelTelevisionSerie', 'Angel')]\n",
      "[('televisionSerie', 'http://www.wikidata.org/entity/Q223977'), ('labelTelevisionSerie', 'Mad Men')]\n",
      "[('televisionSerie', 'http://www.wikidata.org/entity/Q1066201'), ('labelTelevisionSerie', 'Make It or Break It')]\n",
      "[('televisionSerie', 'http://www.wikidata.org/entity/Q184342'), ('labelTelevisionSerie', 'Wizards of Waverly Place')]\n",
      "[('televisionSerie', 'http://www.wikidata.org/entity/Q1132439'), ('labelTelevisionSerie', 'The Practice')]\n",
      "[('televisionSerie', 'http://www.wikidata.org/entity/Q117590'), ('labelTelevisionSerie', 'Beverly Hills, 90210')]\n",
      "[('televisionSerie', 'http://www.wikidata.org/entity/Q189267'), ('labelTelevisionSerie', 'Two and a Half Men')]\n",
      "[('televisionSerie', 'http://www.wikidata.org/entity/Q204228'), ('labelTelevisionSerie', 'The Mentalist')]\n",
      "[('televisionSerie', 'http://www.wikidata.org/entity/Q2085'), ('labelTelevisionSerie', 'Twin Peaks')]\n",
      "[('televisionSerie', 'http://www.wikidata.org/entity/Q2293'), ('labelTelevisionSerie', 'Chuck')]\n",
      "[('televisionSerie', 'http://www.wikidata.org/entity/Q2748'), ('labelTelevisionSerie', 'Grimm')]\n",
      "[('televisionSerie', 'http://www.wikidata.org/entity/Q16943567'), ('labelTelevisionSerie', 'Younger')]\n",
      "[('televisionSerie', 'http://www.wikidata.org/entity/Q210257'), ('labelTelevisionSerie', 'MacGyver')]\n",
      "[('televisionSerie', 'http://www.wikidata.org/entity/Q283393'), ('labelTelevisionSerie', 'Private Practice')]\n",
      "[('televisionSerie', 'http://www.wikidata.org/entity/Q256527'), ('labelTelevisionSerie', 'Spin City')]\n",
      "[('televisionSerie', 'http://www.wikidata.org/entity/Q3714806'), ('labelTelevisionSerie', 'Downtown')]\n",
      "[('televisionSerie', 'http://www.wikidata.org/entity/Q383104'), ('labelTelevisionSerie', 'Sabrina, the Teenage Witch')]\n",
      "[('televisionSerie', 'http://www.wikidata.org/entity/Q584293'), ('labelTelevisionSerie', 'Missing')]\n",
      "[('televisionSerie', 'http://www.wikidata.org/entity/Q833322'), ('labelTelevisionSerie', 'Murder, She Wrote')]\n",
      "[('televisionSerie', 'http://www.wikidata.org/entity/Q308700'), ('labelTelevisionSerie', 'Shake It Up')]\n",
      "[('televisionSerie', 'http://www.wikidata.org/entity/Q3772456'), ('labelTelevisionSerie', 'Glory Days')]\n",
      "[('televisionSerie', 'http://www.wikidata.org/entity/Q476857'), ('labelTelevisionSerie', 'FlashForward')]\n",
      "[('televisionSerie', 'http://www.wikidata.org/entity/Q564345'), ('labelTelevisionSerie', 'Person of Interest')]\n",
      "[('televisionSerie', 'http://www.wikidata.org/entity/Q727826'), ('labelTelevisionSerie', 'Kate & Allie')]\n",
      "[('televisionSerie', 'http://www.wikidata.org/entity/Q216919'), ('labelTelevisionSerie', 'Six Feet Under')]\n",
      "[('televisionSerie', 'http://www.wikidata.org/entity/Q210146'), ('labelTelevisionSerie', 'Babylon 5')]\n",
      "[('televisionSerie', 'http://www.wikidata.org/entity/Q108774'), ('labelTelevisionSerie', 'Star Trek: Deep Space Nine')]\n",
      "[('televisionSerie', 'http://www.wikidata.org/entity/Q18925'), ('labelTelevisionSerie', \"I'm in the Band\")]\n",
      "[('televisionSerie', 'http://www.wikidata.org/entity/Q584025'), ('labelTelevisionSerie', 'Dynasty')]\n",
      "[('televisionSerie', 'http://www.wikidata.org/entity/Q23609'), ('labelTelevisionSerie', 'Weeds')]\n",
      "[('televisionSerie', 'http://www.wikidata.org/entity/Q34659'), ('labelTelevisionSerie', 'My Name Is Earl')]\n",
      "[('televisionSerie', 'http://www.wikidata.org/entity/Q754197'), ('labelTelevisionSerie', 'JAG')]\n",
      "[('televisionSerie', 'http://www.wikidata.org/entity/Q371207'), ('labelTelevisionSerie', 'Columbo')]\n",
      "[('televisionSerie', 'http://www.wikidata.org/entity/Q19570'), ('labelTelevisionSerie', 'The Good Wife')]\n",
      "[('televisionSerie', 'http://www.wikidata.org/entity/Q1064803'), ('labelTelevisionSerie', 'Melissa & Joey')]\n",
      "[('televisionSerie', 'http://www.wikidata.org/entity/Q7734937'), ('labelTelevisionSerie', 'The Fosters')]\n",
      "[('televisionSerie', 'http://www.wikidata.org/entity/Q1111300'), ('labelTelevisionSerie', '8 Simple Rules')]\n",
      "[('televisionSerie', 'http://www.wikidata.org/entity/Q4525'), ('labelTelevisionSerie', 'NCIS')]\n",
      "[('televisionSerie', 'http://www.wikidata.org/entity/Q1030713'), ('labelTelevisionSerie', 'Another World')]\n",
      "[('televisionSerie', 'http://www.wikidata.org/entity/Q1031383'), ('labelTelevisionSerie', 'Matlock')]\n",
      "[('televisionSerie', 'http://www.wikidata.org/entity/Q2744'), ('labelTelevisionSerie', 'The X-Files')]\n",
      "[('televisionSerie', 'http://www.wikidata.org/entity/Q126631'), ('labelTelevisionSerie', 'Hannah Montana')]\n",
      "[('televisionSerie', 'http://www.wikidata.org/entity/Q4529'), ('labelTelevisionSerie', 'Veronica Mars')]\n",
      "[('televisionSerie', 'http://www.wikidata.org/entity/Q426432'), ('labelTelevisionSerie', 'Walker, Texas Ranger')]\n",
      "[('televisionSerie', 'http://www.wikidata.org/entity/Q29018745'), ('labelTelevisionSerie', 'The Gifted')]\n",
      "[('televisionSerie', 'http://www.wikidata.org/entity/Q1337212'), ('labelTelevisionSerie', 'Home Improvement')]\n",
      "[('televisionSerie', 'http://www.wikidata.org/entity/Q7493661'), ('labelTelevisionSerie', 'Shell Game')]\n",
      "[('televisionSerie', 'http://www.wikidata.org/entity/Q632022'), ('labelTelevisionSerie', 'Dollhouse')]\n",
      "[('televisionSerie', 'http://www.wikidata.org/entity/Q32488'), ('labelTelevisionSerie', '2 Broke Girls')]\n",
      "[('televisionSerie', 'http://www.wikidata.org/entity/Q260654'), ('labelTelevisionSerie', 'Joan of Arcadia')]\n",
      "[('televisionSerie', 'http://www.wikidata.org/entity/Q1758072'), ('labelTelevisionSerie', 'Lilyhammer')]\n",
      "[('televisionSerie', 'http://www.wikidata.org/entity/Q13417213'), ('labelTelevisionSerie', 'Mom')]\n",
      "[('televisionSerie', 'http://www.wikidata.org/entity/Q19866569'), ('labelTelevisionSerie', 'Quantico')]\n",
      "[('televisionSerie', 'http://www.wikidata.org/entity/Q728443'), ('labelTelevisionSerie', 'Hawaii Five-0')]\n",
      "[('televisionSerie', 'http://www.wikidata.org/entity/Q15724865'), ('labelTelevisionSerie', 'Unreal')]\n",
      "[('televisionSerie', 'http://www.wikidata.org/entity/Q28052823'), ('labelTelevisionSerie', 'The Good Fight')]\n",
      "[('televisionSerie', 'http://www.wikidata.org/entity/Q575373'), ('labelTelevisionSerie', 'Roseanne')]\n",
      "[('televisionSerie', 'http://www.wikidata.org/entity/Q2579196'), ('labelTelevisionSerie', 'Masters of Sex')]\n",
      "[('televisionSerie', 'http://www.wikidata.org/entity/Q18844750'), ('labelTelevisionSerie', 'The Man in the High Castle')]\n",
      "[('televisionSerie', 'http://www.wikidata.org/entity/Q386880'), ('labelTelevisionSerie', 'Castle')]\n",
      "[('televisionSerie', 'http://www.wikidata.org/entity/Q575696'), ('labelTelevisionSerie', 'Cougar Town')]\n",
      "[('televisionSerie', 'http://www.wikidata.org/entity/Q16868584'), ('labelTelevisionSerie', 'Black-ish')]\n",
      "[('televisionSerie', 'http://www.wikidata.org/entity/Q24070370'), ('labelTelevisionSerie', 'Lethal Weapon')]\n",
      "[('televisionSerie', 'http://www.wikidata.org/entity/Q54958409'), ('labelTelevisionSerie', 'For All Mankind')]\n",
      "[('televisionSerie', 'http://www.wikidata.org/entity/Q27947810'), ('labelTelevisionSerie', 'Mayans M.C.')]\n",
      "[('televisionSerie', 'http://www.wikidata.org/entity/Q22946170'), ('labelTelevisionSerie', '24: Legacy')]\n",
      "[('televisionSerie', 'http://www.wikidata.org/entity/Q1797430'), ('labelTelevisionSerie', 'Hearts Afire')]\n",
      "[('televisionSerie', 'http://www.wikidata.org/entity/Q104154217'), ('labelTelevisionSerie', 'Obi-Wan Kenobi')]\n",
      "[('televisionSerie', 'http://www.wikidata.org/entity/Q539589'), ('labelTelevisionSerie', 'The Crow: Stairway to Heaven')]\n",
      "[('televisionSerie', 'http://www.wikidata.org/entity/Q832431'), ('labelTelevisionSerie', 'Better Off Ted')]\n",
      "[('televisionSerie', 'http://www.wikidata.org/entity/Q3213922'), ('labelTelevisionSerie', 'Reasonable Doubts')]\n",
      "[('televisionSerie', 'http://www.wikidata.org/entity/Q101252448'), ('labelTelevisionSerie', 'Cowboy Bebop')]\n",
      "[('televisionSerie', 'http://www.wikidata.org/entity/Q1551002'), ('labelTelevisionSerie', 'Nash Bridges')]\n",
      "[('televisionSerie', 'http://www.wikidata.org/entity/Q10290188'), ('labelTelevisionSerie', 'Glory Daze')]\n",
      "[('televisionSerie', 'http://www.wikidata.org/entity/Q1193168'), ('labelTelevisionSerie', 'The Equalizer')]\n",
      "[('televisionSerie', 'http://www.wikidata.org/entity/Q25182'), ('labelTelevisionSerie', 'Lie to Me')]\n",
      "[('televisionSerie', 'http://www.wikidata.org/entity/Q592800'), ('labelTelevisionSerie', 'Common Law')]\n",
      "[('televisionSerie', 'http://www.wikidata.org/entity/Q1216187'), ('labelTelevisionSerie', 'Beauty and the Beast')]\n",
      "[('televisionSerie', 'http://www.wikidata.org/entity/Q833578'), ('labelTelevisionSerie', 'North and South')]\n",
      "[('televisionSerie', 'http://www.wikidata.org/entity/Q2276079'), ('labelTelevisionSerie', 'Corner Gas')]\n",
      "[('televisionSerie', 'http://www.wikidata.org/entity/Q4942894'), ('labelTelevisionSerie', 'Boogies Diner')]\n",
      "[('televisionSerie', 'http://www.wikidata.org/entity/Q1109026'), ('labelTelevisionSerie', 'A Different World')]\n",
      "[('televisionSerie', 'http://www.wikidata.org/entity/Q1031083'), ('labelTelevisionSerie', 'Somerset')]\n",
      "[('televisionSerie', 'http://www.wikidata.org/entity/Q4664439'), ('labelTelevisionSerie', 'Abby')]\n",
      "[('televisionSerie', 'http://www.wikidata.org/entity/Q1247556'), ('labelTelevisionSerie', 'Rhoda')]\n",
      "[('televisionSerie', 'http://www.wikidata.org/entity/Q2777552'), ('labelTelevisionSerie', \"Bring 'Em Back Alive\")]\n",
      "[('televisionSerie', 'http://www.wikidata.org/entity/Q2850640'), ('labelTelevisionSerie', 'Anna and the King')]\n",
      "[('televisionSerie', 'http://www.wikidata.org/entity/Q97925221'), ('labelTelevisionSerie', 'Teenage Bounty Hunters')]\n",
      "[('televisionSerie', 'http://www.wikidata.org/entity/Q1305362'), ('labelTelevisionSerie', 'Two of a Kind')]\n",
      "[('televisionSerie', 'http://www.wikidata.org/entity/Q3829273'), ('labelTelevisionSerie', 'Leap Years')]\n",
      "[('televisionSerie', 'http://www.wikidata.org/entity/Q1248625'), ('labelTelevisionSerie', 'The Mod Squad')]\n",
      "[('televisionSerie', 'http://www.wikidata.org/entity/Q672169'), ('labelTelevisionSerie', 'Dharma & Greg')]\n",
      "[('televisionSerie', 'http://www.wikidata.org/entity/Q1134979'), ('labelTelevisionSerie', 'Blue Murder')]\n",
      "[('televisionSerie', 'http://www.wikidata.org/entity/Q54202857'), ('labelTelevisionSerie', 'All American')]\n",
      "[('televisionSerie', 'http://www.wikidata.org/entity/Q1860044'), ('labelTelevisionSerie', 'The Game')]\n",
      "[('televisionSerie', 'http://www.wikidata.org/entity/Q15072814'), ('labelTelevisionSerie', 'Extant')]\n",
      "[('televisionSerie', 'http://www.wikidata.org/entity/Q510554'), ('labelTelevisionSerie', 'Kojak')]\n",
      "[('televisionSerie', 'http://www.wikidata.org/entity/Q45063'), ('labelTelevisionSerie', 'Riptide')]\n",
      "[('televisionSerie', 'http://www.wikidata.org/entity/Q1071958'), ('labelTelevisionSerie', 'Chicago Hope')]\n",
      "[('televisionSerie', 'http://www.wikidata.org/entity/Q4899068'), ('labelTelevisionSerie', 'Between Brothers')]\n",
      "[('televisionSerie', 'http://www.wikidata.org/entity/Q1734710'), ('labelTelevisionSerie', 'Paper Dolls')]\n",
      "[('televisionSerie', 'http://www.wikidata.org/entity/Q3279778'), ('labelTelevisionSerie', 'Crash & Bernstein')]\n",
      "[('televisionSerie', 'http://www.wikidata.org/entity/Q7733070'), ('labelTelevisionSerie', 'The Faculty')]\n",
      "[('televisionSerie', 'http://www.wikidata.org/entity/Q16524263'), ('labelTelevisionSerie', 'Bad Teacher')]\n",
      "[('televisionSerie', 'http://www.wikidata.org/entity/Q23469189'), ('labelTelevisionSerie', 'Six')]\n",
      "[('televisionSerie', 'http://www.wikidata.org/entity/Q16739279'), ('labelTelevisionSerie', 'Young & Hungry')]\n",
      "[('televisionSerie', 'http://www.wikidata.org/entity/Q30608049'), ('labelTelevisionSerie', 'Damnation')]\n",
      "[('televisionSerie', 'http://www.wikidata.org/entity/Q18483020'), ('labelTelevisionSerie', 'Rush Hour')]\n",
      "[('televisionSerie', 'http://www.wikidata.org/entity/Q3790867'), ('labelTelevisionSerie', 'The Gangster Chronicles')]\n",
      "[('televisionSerie', 'http://www.wikidata.org/entity/Q4873957'), ('labelTelevisionSerie', 'Bay City Blues')]\n",
      "[('televisionSerie', 'http://www.wikidata.org/entity/Q7776779'), ('labelTelevisionSerie', 'The Young Marrieds')]\n",
      "[('televisionSerie', 'http://www.wikidata.org/entity/Q39074045'), ('labelTelevisionSerie', 'Grown-ish')]\n",
      "[('televisionSerie', 'http://www.wikidata.org/entity/Q1031098'), ('labelTelevisionSerie', 'Valentine')]\n",
      "[('televisionSerie', 'http://www.wikidata.org/entity/Q7110670'), ('labelTelevisionSerie', 'Our Hero')]\n",
      "[('televisionSerie', 'http://www.wikidata.org/entity/Q169466'), ('labelTelevisionSerie', 'Fairly Legal')]\n",
      "[('televisionSerie', 'http://www.wikidata.org/entity/Q2327796'), ('labelTelevisionSerie', 'Time of Your Life')]\n",
      "[('televisionSerie', 'http://www.wikidata.org/entity/Q6730342'), ('labelTelevisionSerie', 'Maggie Winters')]\n",
      "[('televisionSerie', 'http://www.wikidata.org/entity/Q3519691'), ('labelTelevisionSerie', 'The 5 Mrs. Buchanans')]\n",
      "[('televisionSerie', 'http://www.wikidata.org/entity/Q6659078'), ('labelTelevisionSerie', 'Living Dolls')]\n",
      "[('televisionSerie', 'http://www.wikidata.org/entity/Q7562947'), ('labelTelevisionSerie', 'Sophie')]\n",
      "[('televisionSerie', 'http://www.wikidata.org/entity/Q30639232'), ('labelTelevisionSerie', 'Wisdom of the Crowd')]\n",
      "[('televisionSerie', 'http://www.wikidata.org/entity/Q3954984'), ('labelTelevisionSerie', \"It's Not Easy\")]\n",
      "[('televisionSerie', 'http://www.wikidata.org/entity/Q369111'), ('labelTelevisionSerie', 'Mission: Impossible')]\n",
      "[('televisionSerie', 'http://www.wikidata.org/entity/Q217246'), ('labelTelevisionSerie', 'The Suite Life of Zack & Cody')]\n",
      "[('televisionSerie', 'http://www.wikidata.org/entity/Q663759'), ('labelTelevisionSerie', 'Revenge')]\n",
      "[('televisionSerie', 'http://www.wikidata.org/entity/Q585758'), ('labelTelevisionSerie', 'Boardwalk Empire')]\n",
      "[('televisionSerie', 'http://www.wikidata.org/entity/Q208568'), ('labelTelevisionSerie', 'Everybody Loves Raymond')]\n",
      "[('televisionSerie', 'http://www.wikidata.org/entity/Q209282'), ('labelTelevisionSerie', 'Frasier')]\n",
      "[('televisionSerie', 'http://www.wikidata.org/entity/Q583870'), ('labelTelevisionSerie', 'Blade: The Series')]\n",
      "[('televisionSerie', 'http://www.wikidata.org/entity/Q251904'), ('labelTelevisionSerie', 'Journeyman')]\n",
      "[('televisionSerie', 'http://www.wikidata.org/entity/Q265152'), ('labelTelevisionSerie', 'The Shield')]\n",
      "[('televisionSerie', 'http://www.wikidata.org/entity/Q130585'), ('labelTelevisionSerie', 'Supernatural')]\n",
      "[('televisionSerie', 'http://www.wikidata.org/entity/Q461357'), ('labelTelevisionSerie', \"Dawson's Creek\")]\n",
      "[('televisionSerie', 'http://www.wikidata.org/entity/Q467593'), ('labelTelevisionSerie', 'Kings')]\n",
      "[('televisionSerie', 'http://www.wikidata.org/entity/Q470111'), ('labelTelevisionSerie', 'Medium')]\n",
      "[('televisionSerie', 'http://www.wikidata.org/entity/Q32450'), ('labelTelevisionSerie', 'Pretty Little Liars')]\n",
      "[('televisionSerie', 'http://www.wikidata.org/entity/Q965409'), ('labelTelevisionSerie', 'Eli Stone')]\n",
      "[('televisionSerie', 'http://www.wikidata.org/entity/Q780478'), ('labelTelevisionSerie', 'Kingpin')]\n",
      "[('televisionSerie', 'http://www.wikidata.org/entity/Q8539'), ('labelTelevisionSerie', 'The Big Bang Theory')]\n",
      "[('televisionSerie', 'http://www.wikidata.org/entity/Q839437'), ('labelTelevisionSerie', 'The Outer Limits')]\n",
      "[('televisionSerie', 'http://www.wikidata.org/entity/Q1233059'), ('labelTelevisionSerie', 'Do Over')]\n",
      "[('televisionSerie', 'http://www.wikidata.org/entity/Q1247158'), ('labelTelevisionSerie', 'Homicide: Life on the Street')]\n",
      "[('televisionSerie', 'http://www.wikidata.org/entity/Q552314'), ('labelTelevisionSerie', 'Arrow y leyendas del mañana')]\n",
      "[('televisionSerie', 'http://www.wikidata.org/entity/Q218591'), ('labelTelevisionSerie', 'Terra Nova')]\n",
      "[('televisionSerie', 'http://www.wikidata.org/entity/Q250036'), ('labelTelevisionSerie', 'Justice League')]\n",
      "[('televisionSerie', 'http://www.wikidata.org/entity/Q928007'), ('labelTelevisionSerie', 'Lois & Clark: The New Adventures of Superman')]\n",
      "[('televisionSerie', 'http://www.wikidata.org/entity/Q321423'), ('labelTelevisionSerie', 'Law & Order')]\n",
      "[('televisionSerie', 'http://www.wikidata.org/entity/Q59809919'), ('labelTelevisionSerie', 'Stargirl')]\n",
      "[('televisionSerie', 'http://www.wikidata.org/entity/Q1629900'), ('labelTelevisionSerie', 'Cupid')]\n",
      "[('televisionSerie', 'http://www.wikidata.org/entity/Q22272'), ('labelTelevisionSerie', 'Santa Barbara')]\n",
      "[('televisionSerie', 'http://www.wikidata.org/entity/Q23971551'), ('labelTelevisionSerie', 'Twin Peaks')]\n",
      "[('televisionSerie', 'http://www.wikidata.org/entity/Q559321'), ('labelTelevisionSerie', 'Miami Vice')]\n",
      "[('televisionSerie', 'http://www.wikidata.org/entity/Q1465636'), ('labelTelevisionSerie', 'In Treatment')]\n",
      "[('televisionSerie', 'http://www.wikidata.org/entity/Q1583172'), ('labelTelevisionSerie', 'Less Than Perfect')]\n",
      "[('televisionSerie', 'http://www.wikidata.org/entity/Q171254'), ('labelTelevisionSerie', 'Sons of Anarchy')]\n",
      "[('televisionSerie', 'http://www.wikidata.org/entity/Q366375'), ('labelTelevisionSerie', 'Good luck, Charlie!')]\n",
      "[('televisionSerie', 'http://www.wikidata.org/entity/Q27949231'), ('labelTelevisionSerie', 'Black Lightning')]\n",
      "[('televisionSerie', 'http://www.wikidata.org/entity/Q599472'), ('labelTelevisionSerie', 'Switched at Birth')]\n",
      "[('televisionSerie', 'http://www.wikidata.org/entity/Q670579'), ('labelTelevisionSerie', 'The Incredible Hulk')]\n",
      "[('televisionSerie', 'http://www.wikidata.org/entity/Q2063289'), ('labelTelevisionSerie', 'Harry and the Hendersons')]\n",
      "[('televisionSerie', 'http://www.wikidata.org/entity/Q15110517'), ('labelTelevisionSerie', 'Mighty Med')]\n",
      "[('televisionSerie', 'http://www.wikidata.org/entity/Q638600'), ('labelTelevisionSerie', 'Teen Titans')]\n",
      "[('televisionSerie', 'http://www.wikidata.org/entity/Q974046'), ('labelTelevisionSerie', 'The Client List')]\n",
      "[('televisionSerie', 'http://www.wikidata.org/entity/Q1959738'), ('labelTelevisionSerie', 'Tour of Duty')]\n",
      "[('televisionSerie', 'http://www.wikidata.org/entity/Q485668'), ('labelTelevisionSerie', 'Scrubs')]\n",
      "[('televisionSerie', 'http://www.wikidata.org/entity/Q3119187'), ('labelTelevisionSerie', 'Civil Wars')]\n",
      "[('televisionSerie', 'http://www.wikidata.org/entity/Q1168760'), ('labelTelevisionSerie', 'Upstairs, Downstairs')]\n",
      "[('televisionSerie', 'http://www.wikidata.org/entity/Q928429'), ('labelTelevisionSerie', 'Falling Skies')]\n",
      "[('televisionSerie', 'http://www.wikidata.org/entity/Q536137'), ('labelTelevisionSerie', 'Lost in Space')]\n",
      "[('televisionSerie', 'http://www.wikidata.org/entity/Q6208220'), ('labelTelevisionSerie', \"Joe's Life\")]\n",
      "[('televisionSerie', 'http://www.wikidata.org/entity/Q18844729'), ('labelTelevisionSerie', 'Mr. Robot')]\n",
      "[('televisionSerie', 'http://www.wikidata.org/entity/Q1247170'), ('labelTelevisionSerie', 'The New Adventures of Old Christine')]\n",
      "[('televisionSerie', 'http://www.wikidata.org/entity/Q7993704'), ('labelTelevisionSerie', 'Whiplash')]\n",
      "[('televisionSerie', 'http://www.wikidata.org/entity/Q218000'), ('labelTelevisionSerie', 'Parenthood')]\n",
      "[('televisionSerie', 'http://www.wikidata.org/entity/Q1525645'), ('labelTelevisionSerie', 'Scandal')]\n",
      "[('televisionSerie', 'http://www.wikidata.org/entity/Q16863042'), ('labelTelevisionSerie', 'American Crime')]\n",
      "[('televisionSerie', 'http://www.wikidata.org/entity/Q22266766'), ('labelTelevisionSerie', 'Animal Kingdom')]\n",
      "[('televisionSerie', 'http://www.wikidata.org/entity/Q8281555'), ('labelTelevisionSerie', 'Crossing Lines')]\n",
      "[('televisionSerie', 'http://www.wikidata.org/entity/Q2601773'), ('labelTelevisionSerie', 'Quintuplets')]\n",
      "[('televisionSerie', 'http://www.wikidata.org/entity/Q30606925'), ('labelTelevisionSerie', 'Ghost Wars')]\n",
      "[('televisionSerie', 'http://www.wikidata.org/entity/Q30608181'), ('labelTelevisionSerie', 'Good Girls')]\n",
      "[('televisionSerie', 'http://www.wikidata.org/entity/Q23647166'), ('labelTelevisionSerie', 'Timeless')]\n",
      "[('televisionSerie', 'http://www.wikidata.org/entity/Q21189769'), ('labelTelevisionSerie', 'Sneaky Pete')]\n",
      "[('televisionSerie', 'http://www.wikidata.org/entity/Q23787669'), ('labelTelevisionSerie', 'Van Helsing')]\n",
      "[('televisionSerie', 'http://www.wikidata.org/entity/Q22662417'), ('labelTelevisionSerie', 'Designated Survivor')]\n",
      "[('televisionSerie', 'http://www.wikidata.org/entity/Q247643'), ('labelTelevisionSerie', 'Elementary')]\n",
      "[('televisionSerie', 'http://www.wikidata.org/entity/Q23599'), ('labelTelevisionSerie', 'Shameless')]\n",
      "[('televisionSerie', 'http://www.wikidata.org/entity/Q715107'), ('labelTelevisionSerie', 'Mission: Impossible')]\n",
      "[('televisionSerie', 'http://www.wikidata.org/entity/Q20743300'), ('labelTelevisionSerie', 'Vinyl')]\n",
      "[('televisionSerie', 'http://www.wikidata.org/entity/Q3991427'), ('labelTelevisionSerie', 'The White Shadow')]\n",
      "[('televisionSerie', 'http://www.wikidata.org/entity/Q63965736'), ('labelTelevisionSerie', 'Prodigal Son')]\n",
      "[('televisionSerie', 'http://www.wikidata.org/entity/Q9262969'), ('labelTelevisionSerie', 'The Thorn Birds')]\n",
      "[('televisionSerie', 'http://www.wikidata.org/entity/Q485777'), ('labelTelevisionSerie', 'Fury')]\n",
      "[('televisionSerie', 'http://www.wikidata.org/entity/Q96419634'), ('labelTelevisionSerie', 'Walker')]\n",
      "[('televisionSerie', 'http://www.wikidata.org/entity/Q3520056'), ('labelTelevisionSerie', 'The Book of Daniel')]\n",
      "[('televisionSerie', 'http://www.wikidata.org/entity/Q1891872'), ('labelTelevisionSerie', 'October Road')]\n",
      "[('televisionSerie', 'http://www.wikidata.org/entity/Q700733'), ('labelTelevisionSerie', 'Close to Home')]\n",
      "[('televisionSerie', 'http://www.wikidata.org/entity/Q842118'), ('labelTelevisionSerie', 'Cory in the House')]\n",
      "[('televisionSerie', 'http://www.wikidata.org/entity/Q4003982'), ('labelTelevisionSerie', 'Madman of the People')]\n",
      "[('televisionSerie', 'http://www.wikidata.org/entity/Q726735'), ('labelTelevisionSerie', 'Dallas')]\n",
      "[('televisionSerie', 'http://www.wikidata.org/entity/Q3208575'), ('labelTelevisionSerie', 'The Mountain')]\n",
      "[('televisionSerie', 'http://www.wikidata.org/entity/Q1752765'), ('labelTelevisionSerie', 'Providence')]\n",
      "[('televisionSerie', 'http://www.wikidata.org/entity/Q3565853'), ('labelTelevisionSerie', 'Playmakers')]\n",
      "[('televisionSerie', 'http://www.wikidata.org/entity/Q6705088'), ('labelTelevisionSerie', 'Lush Life')]\n",
      "[('televisionSerie', 'http://www.wikidata.org/entity/Q3025493'), ('labelTelevisionSerie', 'Devious Maids')]\n",
      "[('televisionSerie', 'http://www.wikidata.org/entity/Q1247192'), ('labelTelevisionSerie', 'Judging Amy')]\n",
      "[('televisionSerie', 'http://www.wikidata.org/entity/Q3705214'), ('labelTelevisionSerie', 'Delta')]\n",
      "[('televisionSerie', 'http://www.wikidata.org/entity/Q958651'), ('labelTelevisionSerie', 'Once and Again')]\n",
      "[('televisionSerie', 'http://www.wikidata.org/entity/Q1346961'), ('labelTelevisionSerie', 'Moonlight')]\n",
      "[('televisionSerie', 'http://www.wikidata.org/entity/Q2335309'), ('labelTelevisionSerie', 'Upstairs Downstairs')]\n",
      "[('televisionSerie', 'http://www.wikidata.org/entity/Q56471830'), ('labelTelevisionSerie', 'The Conners')]\n",
      "[('televisionSerie', 'http://www.wikidata.org/entity/Q635717'), ('labelTelevisionSerie', 'Lizzie McGuire')]\n",
      "[('televisionSerie', 'http://www.wikidata.org/entity/Q14798167'), ('labelTelevisionSerie', 'Rich Man, Poor Man')]\n",
      "[('televisionSerie', 'http://www.wikidata.org/entity/Q2913369'), ('labelTelevisionSerie', 'Significant Others')]\n",
      "[('televisionSerie', 'http://www.wikidata.org/entity/Q647001'), ('labelTelevisionSerie', 'Dr. Quinn, Medicine Woman')]\n",
      "[('televisionSerie', 'http://www.wikidata.org/entity/Q7603750'), ('labelTelevisionSerie', 'State of Grace')]\n",
      "[('televisionSerie', 'http://www.wikidata.org/entity/Q96741612'), ('labelTelevisionSerie', 'Big Dogs')]\n",
      "[('televisionSerie', 'http://www.wikidata.org/entity/Q211184'), ('labelTelevisionSerie', '2000 Malibu Road')]\n",
      "[('televisionSerie', 'http://www.wikidata.org/entity/Q1767493'), ('labelTelevisionSerie', 'The John Larroquette Show')]\n",
      "[('televisionSerie', 'http://www.wikidata.org/entity/Q16867394'), ('labelTelevisionSerie', 'Wayward Pines')]\n",
      "[('televisionSerie', 'http://www.wikidata.org/entity/Q2984085'), ('labelTelevisionSerie', 'Drive')]\n",
      "[('televisionSerie', 'http://www.wikidata.org/entity/Q60764864'), ('labelTelevisionSerie', 'Heartstrings')]\n",
      "[('televisionSerie', 'http://www.wikidata.org/entity/Q25209034'), ('labelTelevisionSerie', 'Godless')]\n",
      "[('televisionSerie', 'http://www.wikidata.org/entity/Q15921494'), ('labelTelevisionSerie', 'Legends')]\n",
      "[('televisionSerie', 'http://www.wikidata.org/entity/Q24063397'), ('labelTelevisionSerie', 'Notorious')]\n",
      "[('televisionSerie', 'http://www.wikidata.org/entity/Q23787593'), ('labelTelevisionSerie', 'Incorporated')]\n",
      "[('televisionSerie', 'http://www.wikidata.org/entity/Q7717984'), ('labelTelevisionSerie', 'The Bill Engvall Show')]\n",
      "[('televisionSerie', 'http://www.wikidata.org/entity/Q747928'), ('labelTelevisionSerie', 'China Beach')]\n",
      "[('televisionSerie', 'http://www.wikidata.org/entity/Q522984'), ('labelTelevisionSerie', 'Starhunter')]\n",
      "[('televisionSerie', 'http://www.wikidata.org/entity/Q1969956'), ('labelTelevisionSerie', 'Our Private World')]\n",
      "[('televisionSerie', 'http://www.wikidata.org/entity/Q2308488'), ('labelTelevisionSerie', 'Kevin Hill')]\n",
      "[('televisionSerie', 'http://www.wikidata.org/entity/Q663813'), ('labelTelevisionSerie', 'Nikki')]\n",
      "[('televisionSerie', 'http://www.wikidata.org/entity/Q8057979'), ('labelTelevisionSerie', 'Young Blades')]\n",
      "[('televisionSerie', 'http://www.wikidata.org/entity/Q53765029'), ('labelTelevisionSerie', 'A Million Little Things')]\n",
      "[('televisionSerie', 'http://www.wikidata.org/entity/Q475202'), ('labelTelevisionSerie', 'Special Unit 2')]\n",
      "[('televisionSerie', 'http://www.wikidata.org/entity/Q3793189'), ('labelTelevisionSerie', 'The Manhunter')]\n",
      "[('televisionSerie', 'http://www.wikidata.org/entity/Q1809842'), ('labelTelevisionSerie', 'The Riches')]\n",
      "[('televisionSerie', 'http://www.wikidata.org/entity/Q1052836'), ('labelTelevisionSerie', 'Celebrity Rehab with Dr. Drew')]\n",
      "[('televisionSerie', 'http://www.wikidata.org/entity/Q5577890'), ('labelTelevisionSerie', 'Going to California')]\n",
      "[('televisionSerie', 'http://www.wikidata.org/entity/Q5463354'), ('labelTelevisionSerie', 'Flying Blind')]\n",
      "[('televisionSerie', 'http://www.wikidata.org/entity/Q500769'), ('labelTelevisionSerie', 'Freaks and Geeks')]\n",
      "[('televisionSerie', 'http://www.wikidata.org/entity/Q111756'), ('labelTelevisionSerie', \"Kickin' It\")]\n",
      "[('televisionSerie', 'http://www.wikidata.org/entity/Q30127307'), ('labelTelevisionSerie', 'Splitting Up Together')]\n",
      "[('televisionSerie', 'http://www.wikidata.org/entity/Q17328326'), ('labelTelevisionSerie', 'Henry Danger')]\n",
      "[('televisionSerie', 'http://www.wikidata.org/entity/Q94713'), ('labelTelevisionSerie', 'Terminator: The Sarah Connor Chronicles')]\n",
      "[('televisionSerie', 'http://www.wikidata.org/entity/Q739780'), ('labelTelevisionSerie', 'Oz')]\n",
      "[('televisionSerie', 'http://www.wikidata.org/entity/Q14925221'), ('labelTelevisionSerie', 'Better Call Saul')]\n",
      "[('televisionSerie', 'http://www.wikidata.org/entity/Q3988461'), ('labelTelevisionSerie', 'The New Adventures of Perry Mason')]\n",
      "[('televisionSerie', 'http://www.wikidata.org/entity/Q466062'), ('labelTelevisionSerie', 'Jack Holborn')]\n",
      "[('televisionSerie', 'http://www.wikidata.org/entity/Q515155'), ('labelTelevisionSerie', 'Saving Grace')]\n",
      "[('televisionSerie', 'http://www.wikidata.org/entity/Q515621'), ('labelTelevisionSerie', 'Pushing Daisies')]\n",
      "[('televisionSerie', 'http://www.wikidata.org/entity/Q568328'), ('labelTelevisionSerie', 'The Guardian')]\n",
      "[('televisionSerie', 'http://www.wikidata.org/entity/Q2601055'), ('labelTelevisionSerie', 'Swingtown')]\n",
      "[('televisionSerie', 'http://www.wikidata.org/entity/Q640535'), ('labelTelevisionSerie', 'Knots Landing')]\n",
      "[('televisionSerie', 'http://www.wikidata.org/entity/Q11622'), ('labelTelevisionSerie', 'Firefly')]\n",
      "[('televisionSerie', 'http://www.wikidata.org/entity/Q1926620'), ('labelTelevisionSerie', 'Miami Medical')]\n",
      "[('televisionSerie', 'http://www.wikidata.org/entity/Q685168'), ('labelTelevisionSerie', 'Savannah')]\n",
      "[('televisionSerie', 'http://www.wikidata.org/entity/Q156329'), ('labelTelevisionSerie', 'Star Trek: Voyager')]\n",
      "[('televisionSerie', 'http://www.wikidata.org/entity/Q18904'), ('labelTelevisionSerie', 'Pair of Kings')]\n",
      "[('televisionSerie', 'http://www.wikidata.org/entity/Q23673'), ('labelTelevisionSerie', 'Once Upon a Time')]\n",
      "[('televisionSerie', 'http://www.wikidata.org/entity/Q23831'), ('labelTelevisionSerie', 'The Office')]\n",
      "[('televisionSerie', 'http://www.wikidata.org/entity/Q16290'), ('labelTelevisionSerie', 'Star Trek: The Next Generation')]\n",
      "[('televisionSerie', 'http://www.wikidata.org/entity/Q1337217'), ('labelTelevisionSerie', 'Pan Am')]\n",
      "[('televisionSerie', 'http://www.wikidata.org/entity/Q912437'), ('labelTelevisionSerie', 'Damages')]\n",
      "[('televisionSerie', 'http://www.wikidata.org/entity/Q1138005'), ('labelTelevisionSerie', 'Covert Affairs')]\n",
      "[('televisionSerie', 'http://www.wikidata.org/entity/Q464865'), ('labelTelevisionSerie', 'The Nanny')]\n",
      "[('televisionSerie', 'http://www.wikidata.org/entity/Q18844732'), ('labelTelevisionSerie', 'Supergirl')]\n",
      "[('televisionSerie', 'http://www.wikidata.org/entity/Q180228'), ('labelTelevisionSerie', 'Smallville')]\n",
      "[('televisionSerie', 'http://www.wikidata.org/entity/Q194427'), ('labelTelevisionSerie', 'The O.C.')]\n",
      "[('televisionSerie', 'http://www.wikidata.org/entity/Q31915'), ('labelTelevisionSerie', 'White Collar')]\n",
      "[('televisionSerie', 'http://www.wikidata.org/entity/Q212807'), ('labelTelevisionSerie', 'Alias')]\n",
      "[('televisionSerie', 'http://www.wikidata.org/entity/Q1784986'), ('labelTelevisionSerie', 'Treme')]\n",
      "[('televisionSerie', 'http://www.wikidata.org/entity/Q658216'), ('labelTelevisionSerie', 'Step by Step')]\n",
      "[('televisionSerie', 'http://www.wikidata.org/entity/Q19863968'), ('labelTelevisionSerie', 'Legends of Tomorrow')]\n",
      "[('televisionSerie', 'http://www.wikidata.org/entity/Q1079'), ('labelTelevisionSerie', 'Breaking Bad')]\n",
      "[('televisionSerie', 'http://www.wikidata.org/entity/Q1050603'), ('labelTelevisionSerie', 'Deadwood')]\n",
      "[('televisionSerie', 'http://www.wikidata.org/entity/Q18810169'), ('labelTelevisionSerie', 'Scream Queens')]\n",
      "[('televisionSerie', 'http://www.wikidata.org/entity/Q19626781'), ('labelTelevisionSerie', 'Preacher')]\n",
      "[('televisionSerie', 'http://www.wikidata.org/entity/Q24079247'), ('labelTelevisionSerie', 'The Arrangement')]\n",
      "[('televisionSerie', 'http://www.wikidata.org/entity/Q1635530'), ('labelTelevisionSerie', 'Men in Trees')]\n",
      "[('televisionSerie', 'http://www.wikidata.org/entity/Q838372'), ('labelTelevisionSerie', 'Knight Rider')]\n",
      "[('televisionSerie', 'http://www.wikidata.org/entity/Q613334'), ('labelTelevisionSerie', 'Awake')]\n",
      "[('televisionSerie', 'http://www.wikidata.org/entity/Q615944'), ('labelTelevisionSerie', 'The Mary Tyler Moore Show')]\n",
      "[('televisionSerie', 'http://www.wikidata.org/entity/Q16875508'), ('labelTelevisionSerie', 'Madam Secretary')]\n",
      "[('televisionSerie', 'http://www.wikidata.org/entity/Q16802335'), ('labelTelevisionSerie', 'NCIS: New Orleans')]\n",
      "[('televisionSerie', 'http://www.wikidata.org/entity/Q659653'), ('labelTelevisionSerie', 'Jessie')]\n",
      "[('televisionSerie', 'http://www.wikidata.org/entity/Q22022717'), ('labelTelevisionSerie', \"I'm Dying Up Here\")]\n",
      "[('televisionSerie', 'http://www.wikidata.org/entity/Q16915631'), ('labelTelevisionSerie', 'The Mysteries of Laura')]\n",
      "[('televisionSerie', 'http://www.wikidata.org/entity/Q16862534'), ('labelTelevisionSerie', 'How to Get Away with Murder')]\n",
      "[('televisionSerie', 'http://www.wikidata.org/entity/Q370185'), ('labelTelevisionSerie', 'Suits')]\n",
      "[('televisionSerie', 'http://www.wikidata.org/entity/Q39719'), ('labelTelevisionSerie', 'New York Undercover')]\n",
      "[('televisionSerie', 'http://www.wikidata.org/entity/Q15622760'), ('labelTelevisionSerie', 'From Dusk till Dawn: The Series')]\n",
      "[('televisionSerie', 'http://www.wikidata.org/entity/Q105069760'), ('labelTelevisionSerie', 'El Dorado')]\n",
      "[('televisionSerie', 'http://www.wikidata.org/entity/Q930797'), ('labelTelevisionSerie', 'Ed')]\n",
      "[('televisionSerie', 'http://www.wikidata.org/entity/Q941419'), ('labelTelevisionSerie', 'Life')]\n",
      "[('televisionSerie', 'http://www.wikidata.org/entity/Q85664642'), ('labelTelevisionSerie', 'Danger Force')]\n",
      "[('televisionSerie', 'http://www.wikidata.org/entity/Q12886333'), ('labelTelevisionSerie', 'Ravenswood')]\n",
      "[('televisionSerie', 'http://www.wikidata.org/entity/Q2525283'), ('labelTelevisionSerie', 'Wiseguy')]\n",
      "[('televisionSerie', 'http://www.wikidata.org/entity/Q1248471'), ('labelTelevisionSerie', 'Love Is a Many Splendored Thing')]\n",
      "[('televisionSerie', 'http://www.wikidata.org/entity/Q848677'), ('labelTelevisionSerie', 'Shaggy & Scooby-Doo Get a Clue!')]\n",
      "[('televisionSerie', 'http://www.wikidata.org/entity/Q1216882'), ('labelTelevisionSerie', 'The Tracey Ullman Show')]\n",
      "[('televisionSerie', 'http://www.wikidata.org/entity/Q319817'), ('labelTelevisionSerie', 'Joey')]\n",
      "[('televisionSerie', 'http://www.wikidata.org/entity/Q3927732'), ('labelTelevisionSerie', 'The Good Life')]\n",
      "[('televisionSerie', 'http://www.wikidata.org/entity/Q19897575'), ('labelTelevisionSerie', 'You, Me and the Apocalypse')]\n",
      "[('televisionSerie', 'http://www.wikidata.org/entity/Q48742976'), ('labelTelevisionSerie', 'City on a Hill')]\n",
      "[('televisionSerie', 'http://www.wikidata.org/entity/Q55616350'), ('labelTelevisionSerie', \"L.A.'s Finest\")]\n",
      "[('televisionSerie', 'http://www.wikidata.org/entity/Q18643684'), ('labelTelevisionSerie', 'Bloodline')]\n",
      "[('televisionSerie', 'http://www.wikidata.org/entity/Q5755738'), ('labelTelevisionSerie', 'High Incident')]\n",
      "[('televisionSerie', 'http://www.wikidata.org/entity/Q13099470'), ('labelTelevisionSerie', 'Reign')]\n",
      "[('televisionSerie', 'http://www.wikidata.org/entity/Q1066688'), ('labelTelevisionSerie', 'No Ordinary Family')]\n",
      "[('televisionSerie', 'http://www.wikidata.org/entity/Q187239'), ('labelTelevisionSerie', 'Zeke and Luther')]\n",
      "[('televisionSerie', 'http://www.wikidata.org/entity/Q540370'), ('labelTelevisionSerie', 'Night Stalker')]\n",
      "[('televisionSerie', 'http://www.wikidata.org/entity/Q7762928'), ('labelTelevisionSerie', 'The Second Hundred Years')]\n",
      "[('televisionSerie', 'http://www.wikidata.org/entity/Q1125172'), ('labelTelevisionSerie', 'Out There')]\n",
      "[('televisionSerie', 'http://www.wikidata.org/entity/Q922713'), ('labelTelevisionSerie', 'Whose Line Is It Anyway?')]\n",
      "[('televisionSerie', 'http://www.wikidata.org/entity/Q3798486'), ('labelTelevisionSerie', 'Nightingales')]\n",
      "[('televisionSerie', 'http://www.wikidata.org/entity/Q5507059'), ('labelTelevisionSerie', 'Fudge')]\n",
      "[('televisionSerie', 'http://www.wikidata.org/entity/Q163851'), ('labelTelevisionSerie', '10-8: Officers on Duty')]\n",
      "[('televisionSerie', 'http://www.wikidata.org/entity/Q27988195'), ('labelTelevisionSerie', 'The Alienist')]\n",
      "[('televisionSerie', 'http://www.wikidata.org/entity/Q260511'), ('labelTelevisionSerie', 'Pepper Dennis')]\n",
      "[('televisionSerie', 'http://www.wikidata.org/entity/Q1657257'), ('labelTelevisionSerie', 'Point Pleasant')]\n",
      "[('televisionSerie', 'http://www.wikidata.org/entity/Q3745962'), ('labelTelevisionSerie', 'Fired Up')]\n",
      "[('televisionSerie', 'http://www.wikidata.org/entity/Q943903'), ('labelTelevisionSerie', 'True Jackson')]\n",
      "[('televisionSerie', 'http://www.wikidata.org/entity/Q112599'), ('labelTelevisionSerie', 'Road Rovers')]\n",
      "[('televisionSerie', 'http://www.wikidata.org/entity/Q2271747'), ('labelTelevisionSerie', 'Endgame')]\n",
      "[('televisionSerie', 'http://www.wikidata.org/entity/Q4657651'), ('labelTelevisionSerie', 'A League of Their Own')]\n",
      "[('televisionSerie', 'http://www.wikidata.org/entity/Q15627692'), ('labelTelevisionSerie', 'The Last Ship')]\n",
      "[('televisionSerie', 'http://www.wikidata.org/entity/Q6928567'), ('labelTelevisionSerie', 'Mr. Deeds Goes to Town')]\n",
      "[('televisionSerie', 'http://www.wikidata.org/entity/Q3953862'), ('labelTelevisionSerie', 'Second Chances')]\n",
      "[('televisionSerie', 'http://www.wikidata.org/entity/Q3001560'), ('labelTelevisionSerie', 'Cousin Skeeter')]\n",
      "[('televisionSerie', 'http://www.wikidata.org/entity/Q1248890'), ('labelTelevisionSerie', 'The Bold Ones: The Lawyers')]\n",
      "[('televisionSerie', 'http://www.wikidata.org/entity/Q85739170'), ('labelTelevisionSerie', 'The Comey Rule')]\n",
      "[('televisionSerie', 'http://www.wikidata.org/entity/Q4686629'), ('labelTelevisionSerie', 'Adventures in Wonderland')]\n",
      "[('televisionSerie', 'http://www.wikidata.org/entity/Q12135078'), ('labelTelevisionSerie', 'WWII in HD')]\n",
      "[('televisionSerie', 'http://www.wikidata.org/entity/Q28966572'), ('labelTelevisionSerie', 'Talking Saul')]\n",
      "[('televisionSerie', 'http://www.wikidata.org/entity/Q25205882'), ('labelTelevisionSerie', 'Goliath')]\n",
      "[('televisionSerie', 'http://www.wikidata.org/entity/Q139849'), ('labelTelevisionSerie', 'The Suite Life on Deck')]\n",
      "[('televisionSerie', 'http://www.wikidata.org/entity/Q1969978'), ('labelTelevisionSerie', 'Passions')]\n",
      "[('televisionSerie', 'http://www.wikidata.org/entity/Q694101'), ('labelTelevisionSerie', 'Samurai Jack')]\n",
      "[('televisionSerie', 'http://www.wikidata.org/entity/Q207803'), ('labelTelevisionSerie', 'Bones')]\n",
      "[('televisionSerie', 'http://www.wikidata.org/entity/Q28537'), ('labelTelevisionSerie', 'The Vampire Diaries')]\n",
      "[('televisionSerie', 'http://www.wikidata.org/entity/Q5136525'), ('labelTelevisionSerie', 'Clubhouse')]\n",
      "[('televisionSerie', 'http://www.wikidata.org/entity/Q169074'), ('labelTelevisionSerie', '10 Things I Hate About You')]\n",
      "[('televisionSerie', 'http://www.wikidata.org/entity/Q1064766'), ('labelTelevisionSerie', 'Mad TV')]\n",
      "[('televisionSerie', 'http://www.wikidata.org/entity/Q1141890'), ('labelTelevisionSerie', 'Felicity')]\n",
      "[('televisionSerie', 'http://www.wikidata.org/entity/Q15726959'), ('labelTelevisionSerie', 'Gotham')]\n",
      "[('televisionSerie', 'http://www.wikidata.org/entity/Q2613769'), ('labelTelevisionSerie', 'The Famous Jett Jackson')]\n",
      "[('televisionSerie', 'http://www.wikidata.org/entity/Q3822244'), ('labelTelevisionSerie', \"Mulligan's Stew\")]\n",
      "[('televisionSerie', 'http://www.wikidata.org/entity/Q3827386'), ('labelTelevisionSerie', 'The New Lassie')]\n",
      "[('televisionSerie', 'http://www.wikidata.org/entity/Q3829084'), ('labelTelevisionSerie', 'The Snoop Sisters')]\n",
      "[('televisionSerie', 'http://www.wikidata.org/entity/Q4307100'), ('labelTelevisionSerie', 'The Originals')]\n",
      "[('televisionSerie', 'http://www.wikidata.org/entity/Q1470464'), ('labelTelevisionSerie', 'Static Shock')]\n",
      "[('televisionSerie', 'http://www.wikidata.org/entity/Q187462'), ('labelTelevisionSerie', 'Stargate SG-1')]\n",
      "[('televisionSerie', 'http://www.wikidata.org/entity/Q193462'), ('labelTelevisionSerie', 'Gilmore Girls')]\n",
      "[('televisionSerie', 'http://www.wikidata.org/entity/Q215287'), ('labelTelevisionSerie', 'Stargate Atlantis')]\n",
      "[('televisionSerie', 'http://www.wikidata.org/entity/Q946806'), ('labelTelevisionSerie', 'Touch')]\n",
      "[('televisionSerie', 'http://www.wikidata.org/entity/Q48744320'), ('labelTelevisionSerie', 'The Rookie')]\n",
      "[('televisionSerie', 'http://www.wikidata.org/entity/Q1055728'), ('labelTelevisionSerie', 'Law & Order: Criminal Intent')]\n",
      "[('televisionSerie', 'http://www.wikidata.org/entity/Q1145764'), ('labelTelevisionSerie', 'Guiding Light')]\n",
      "[('televisionSerie', 'http://www.wikidata.org/entity/Q23614'), ('labelTelevisionSerie', 'Nurse Jackie')]\n",
      "[('televisionSerie', 'http://www.wikidata.org/entity/Q2480116'), ('labelTelevisionSerie', 'Memphis Beat')]\n",
      "[('televisionSerie', 'http://www.wikidata.org/entity/Q826594'), ('labelTelevisionSerie', 'The King of Queens')]\n",
      "[('televisionSerie', 'http://www.wikidata.org/entity/Q590158'), ('labelTelevisionSerie', 'The Secret Life of the American Teenager')]\n",
      "[('televisionSerie', 'http://www.wikidata.org/entity/Q13415854'), ('labelTelevisionSerie', 'Intelligence')]\n",
      "[('televisionSerie', 'http://www.wikidata.org/entity/Q27089570'), ('labelTelevisionSerie', 'The Punisher')]\n",
      "[('televisionSerie', 'http://www.wikidata.org/entity/Q2930359'), ('labelTelevisionSerie', \"Maybe It's Me\")]\n",
      "[('televisionSerie', 'http://www.wikidata.org/entity/Q22906308'), ('labelTelevisionSerie', 'Altered Carbon')]\n",
      "[('televisionSerie', 'http://www.wikidata.org/entity/Q901850'), ('labelTelevisionSerie', 'Mistresses')]\n",
      "[('televisionSerie', 'http://www.wikidata.org/entity/Q24620'), ('labelTelevisionSerie', 'Due South')]\n",
      "[('televisionSerie', 'http://www.wikidata.org/entity/Q18608417'), ('labelTelevisionSerie', 'The Librarians')]\n",
      "[('televisionSerie', 'http://www.wikidata.org/entity/Q29474217'), ('labelTelevisionSerie', 'Genius')]\n",
      "[('televisionSerie', 'http://www.wikidata.org/entity/Q17014382'), ('labelTelevisionSerie', 'Transparent')]\n",
      "[('televisionSerie', 'http://www.wikidata.org/entity/Q19873404'), ('labelTelevisionSerie', 'Big Little Lies')]\n",
      "[('televisionSerie', 'http://www.wikidata.org/entity/Q65979734'), ('labelTelevisionSerie', 'The Falcon and the Winter Soldier')]\n",
      "[('televisionSerie', 'http://www.wikidata.org/entity/Q254964'), ('labelTelevisionSerie', '666 Park Avenue')]\n",
      "[('televisionSerie', 'http://www.wikidata.org/entity/Q785230'), ('labelTelevisionSerie', 'Relic Hunter')]\n",
      "[('televisionSerie', 'http://www.wikidata.org/entity/Q24068191'), ('labelTelevisionSerie', 'This Is Us')]\n",
      "[('televisionSerie', 'http://www.wikidata.org/entity/Q1554848'), ('labelTelevisionSerie', 'Guns')]\n",
      "[('televisionSerie', 'http://www.wikidata.org/entity/Q887710'), ('labelTelevisionSerie', 'The Pirates of Dark Water')]\n",
      "[('televisionSerie', 'http://www.wikidata.org/entity/Q937913'), ('labelTelevisionSerie', 'Doogie Howser, M.D.')]\n",
      "[('televisionSerie', 'http://www.wikidata.org/entity/Q1247510'), ('labelTelevisionSerie', 'Thirtysomething')]\n",
      "[('televisionSerie', 'http://www.wikidata.org/entity/Q17378072'), ('labelTelevisionSerie', 'Z Nation')]\n",
      "[('televisionSerie', 'http://www.wikidata.org/entity/Q6712143'), ('labelTelevisionSerie', 'M.A.N.T.I.S.')]\n",
      "[('televisionSerie', 'http://www.wikidata.org/entity/Q30599007'), ('labelTelevisionSerie', 'Succession')]\n",
      "[('televisionSerie', 'http://www.wikidata.org/entity/Q7103920'), ('labelTelevisionSerie', 'Orphan Black')]\n",
      "[('televisionSerie', 'http://www.wikidata.org/entity/Q28972021'), ('labelTelevisionSerie', 'Somewhere Between')]\n",
      "[('televisionSerie', 'http://www.wikidata.org/entity/Q679096'), ('labelTelevisionSerie', 'Evil Con Carne')]\n",
      "[('televisionSerie', 'http://www.wikidata.org/entity/Q3284050'), ('labelTelevisionSerie', 'Sons & Daughters')]\n",
      "[('televisionSerie', 'http://www.wikidata.org/entity/Q4660910'), ('labelTelevisionSerie', 'A for Andromeda')]\n",
      "[('televisionSerie', 'http://www.wikidata.org/entity/Q5701091'), ('labelTelevisionSerie', 'Heist')]\n",
      "[('televisionSerie', 'http://www.wikidata.org/entity/Q7754551'), ('labelTelevisionSerie', \"The O'Keefes\")]\n",
      "[('televisionSerie', 'http://www.wikidata.org/entity/Q210683'), ('labelTelevisionSerie', 'Partners')]\n",
      "[('televisionSerie', 'http://www.wikidata.org/entity/Q55635439'), ('labelTelevisionSerie', 'The Order')]\n",
      "[('televisionSerie', 'http://www.wikidata.org/entity/Q97577197'), ('labelTelevisionSerie', 'Dan Brown’s The Lost Symbol')]\n",
      "[('televisionSerie', 'http://www.wikidata.org/entity/Q950355'), ('labelTelevisionSerie', 'Mortal Kombat: Legacy')]\n",
      "[('televisionSerie', 'http://www.wikidata.org/entity/Q1181270'), ('labelTelevisionSerie', 'Death Valley')]\n",
      "[('televisionSerie', 'http://www.wikidata.org/entity/Q2061636'), ('labelTelevisionSerie', 'Zoe, Duncan, Jack and Jane')]\n",
      "[('televisionSerie', 'http://www.wikidata.org/entity/Q2275515'), ('labelTelevisionSerie', 'Ozzy & Drix')]\n",
      "[('televisionSerie', 'http://www.wikidata.org/entity/Q52436610'), ('labelTelevisionSerie', 'Suite 7')]\n",
      "[('televisionSerie', 'http://www.wikidata.org/entity/Q55074622'), ('labelTelevisionSerie', 'Tell Me a Story')]\n",
      "[('televisionSerie', 'http://www.wikidata.org/entity/Q2134985'), ('labelTelevisionSerie', 'Reaper')]\n",
      "[('televisionSerie', 'http://www.wikidata.org/entity/Q7721463'), ('labelTelevisionSerie', 'Twisted')]\n",
      "[('televisionSerie', 'http://www.wikidata.org/entity/Q13100145'), ('labelTelevisionSerie', 'Betrayal')]\n",
      "[('televisionSerie', 'http://www.wikidata.org/entity/Q963565'), ('labelTelevisionSerie', 'Something So Right')]\n",
      "[('televisionSerie', 'http://www.wikidata.org/entity/Q2270077'), ('labelTelevisionSerie', 'Wolf Lake')]\n",
      "[('televisionSerie', 'http://www.wikidata.org/entity/Q7227703'), ('labelTelevisionSerie', 'Ponderosa')]\n",
      "[('televisionSerie', 'http://www.wikidata.org/entity/Q2662205'), ('labelTelevisionSerie', 'The Philanthropist')]\n",
      "[('televisionSerie', 'http://www.wikidata.org/entity/Q370891'), ('labelTelevisionSerie', 'Happy Town')]\n",
      "[('televisionSerie', 'http://www.wikidata.org/entity/Q197897'), ('labelTelevisionSerie', 'Emily Owens')]\n",
      "[('televisionSerie', 'http://www.wikidata.org/entity/Q16893352'), ('labelTelevisionSerie', 'Stalker')]\n",
      "[('televisionSerie', 'http://www.wikidata.org/entity/Q7813126'), ('labelTelevisionSerie', 'Together We Stand')]\n",
      "[('televisionSerie', 'http://www.wikidata.org/entity/Q52533464'), ('labelTelevisionSerie', 'The Webventures of Justin and Alden')]\n",
      "[('televisionSerie', 'http://www.wikidata.org/entity/Q643894'), ('labelTelevisionSerie', 'Suddenly Susan')]\n",
      "[('televisionSerie', 'http://www.wikidata.org/entity/Q1520493'), ('labelTelevisionSerie', 'Highlander: The Series')]\n",
      "[('televisionSerie', 'http://www.wikidata.org/entity/Q16860023'), ('labelTelevisionSerie', 'Agent Carter')]\n",
      "[('televisionSerie', 'http://www.wikidata.org/entity/Q17457913'), ('labelTelevisionSerie', 'Aquarius')]\n",
      "[('televisionSerie', 'http://www.wikidata.org/entity/Q56153643'), ('labelTelevisionSerie', 'Watchmen')]\n",
      "[('televisionSerie', 'http://www.wikidata.org/entity/Q18421127'), ('labelTelevisionSerie', '12 Monkeys')]\n",
      "[('televisionSerie', 'http://www.wikidata.org/entity/Q15070536'), ('labelTelevisionSerie', 'Girl Meets World')]\n",
      "[('televisionSerie', 'http://www.wikidata.org/entity/Q3927312'), ('labelTelevisionSerie', 'Almost Grown')]\n",
      "[('televisionSerie', 'http://www.wikidata.org/entity/Q890085'), ('labelTelevisionSerie', 'Body of Proof')]\n",
      "[('televisionSerie', 'http://www.wikidata.org/entity/Q232737'), ('labelTelevisionSerie', 'The Walking Dead')]\n",
      "[('televisionSerie', 'http://www.wikidata.org/entity/Q390120'), ('labelTelevisionSerie', 'Torchwood')]\n",
      "[('televisionSerie', 'http://www.wikidata.org/entity/Q323722'), ('labelTelevisionSerie', 'Bates Motel')]\n",
      "[('televisionSerie', 'http://www.wikidata.org/entity/Q380519'), ('labelTelevisionSerie', 'Star Trek: Enterprise')]\n",
      "[('televisionSerie', 'http://www.wikidata.org/entity/Q1509429'), ('labelTelevisionSerie', 'The Amanda Show')]\n",
      "[('televisionSerie', 'http://www.wikidata.org/entity/Q1068952'), ('labelTelevisionSerie', 'St. Elsewhere')]\n",
      "[('televisionSerie', 'http://www.wikidata.org/entity/Q28214'), ('labelTelevisionSerie', 'The Killing')]\n",
      "[('televisionSerie', 'http://www.wikidata.org/entity/Q609274'), ('labelTelevisionSerie', 'NYPD Blue')]\n",
      "[('televisionSerie', 'http://www.wikidata.org/entity/Q614574'), ('labelTelevisionSerie', 'Eureka')]\n",
      "[('televisionSerie', 'http://www.wikidata.org/entity/Q652724'), ('labelTelevisionSerie', 'Everwood')]\n",
      "[('televisionSerie', 'http://www.wikidata.org/entity/Q1247414'), ('labelTelevisionSerie', 'Law & Order: Trial by Jury')]\n",
      "[('televisionSerie', 'http://www.wikidata.org/entity/Q1357944'), ('labelTelevisionSerie', 'The Wild Thornberrys')]\n",
      "[('televisionSerie', 'http://www.wikidata.org/entity/Q3815'), ('labelTelevisionSerie', 'Fringe')]\n",
      "[('televisionSerie', 'http://www.wikidata.org/entity/Q672175'), ('labelTelevisionSerie', 'Borgia')]\n",
      "[('televisionSerie', 'http://www.wikidata.org/entity/Q310966'), ('labelTelevisionSerie', 'SeaQuest DSV')]\n",
      "[('televisionSerie', 'http://www.wikidata.org/entity/Q2364567'), ('labelTelevisionSerie', 'Civilization')]\n",
      "[('televisionSerie', 'http://www.wikidata.org/entity/Q10381847'), ('labelTelevisionSerie', 'The Tick')]\n",
      "[('televisionSerie', 'http://www.wikidata.org/entity/Q6012162'), ('labelTelevisionSerie', 'In the Flesh')]\n",
      "[('televisionSerie', 'http://www.wikidata.org/entity/Q1249642'), ('labelTelevisionSerie', 'Spartacus')]\n",
      "[('televisionSerie', 'http://www.wikidata.org/entity/Q7303179'), ('labelTelevisionSerie', 'Rectify')]\n",
      "[('televisionSerie', 'http://www.wikidata.org/entity/Q24088358'), ('labelTelevisionSerie', 'Chesapeake Shores')]\n",
      "[('televisionSerie', 'http://www.wikidata.org/entity/Q797839'), ('labelTelevisionSerie', 'Baby Daddy')]\n",
      "[('televisionSerie', 'http://www.wikidata.org/entity/Q24279305'), ('labelTelevisionSerie', 'Legion')]\n",
      "[('televisionSerie', 'http://www.wikidata.org/entity/Q1248019'), ('labelTelevisionSerie', 'Alice')]\n",
      "[('televisionSerie', 'http://www.wikidata.org/entity/Q54958411'), ('labelTelevisionSerie', 'The Morning Show')]\n",
      "[('televisionSerie', 'http://www.wikidata.org/entity/Q29908604'), ('labelTelevisionSerie', 'The Good Doctor')]\n",
      "[('televisionSerie', 'http://www.wikidata.org/entity/Q674233'), ('labelTelevisionSerie', 'North Shore')]\n",
      "[('televisionSerie', 'http://www.wikidata.org/entity/Q20715692'), ('labelTelevisionSerie', 'Hap and Leonard')]\n",
      "[('televisionSerie', 'http://www.wikidata.org/entity/Q1996959'), ('labelTelevisionSerie', 'Strange Luck')]\n",
      "[('televisionSerie', 'http://www.wikidata.org/entity/Q15728899'), ('labelTelevisionSerie', 'Astronaut Wives Club')]\n",
      "[('televisionSerie', 'http://www.wikidata.org/entity/Q794761'), ('labelTelevisionSerie', 'Big Time Rush')]\n",
      "[('televisionSerie', 'http://www.wikidata.org/entity/Q3978549'), ('labelTelevisionSerie', 'Bakersfield P.D.')]\n",
      "[('televisionSerie', 'http://www.wikidata.org/entity/Q383222'), ('labelTelevisionSerie', 'Kingdom Hospital')]\n",
      "[('televisionSerie', 'http://www.wikidata.org/entity/Q4795926'), ('labelTelevisionSerie', 'Arresting Behavior')]\n",
      "[('televisionSerie', 'http://www.wikidata.org/entity/Q219942'), ('labelTelevisionSerie', 'Sonny with a Chance')]\n",
      "[('televisionSerie', 'http://www.wikidata.org/entity/Q21808799'), ('labelTelevisionSerie', 'Outsiders')]\n",
      "[('televisionSerie', 'http://www.wikidata.org/entity/Q56274745'), ('labelTelevisionSerie', 'Locke & Key')]\n",
      "[('televisionSerie', 'http://www.wikidata.org/entity/Q54958943'), ('labelTelevisionSerie', 'Mr. Iglesias')]\n",
      "[('televisionSerie', 'http://www.wikidata.org/entity/Q946683'), ('labelTelevisionSerie', 'The Black Donnellys')]\n",
      "[('televisionSerie', 'http://www.wikidata.org/entity/Q3988310'), ('labelTelevisionSerie', 'The Middleman')]\n",
      "[('televisionSerie', 'http://www.wikidata.org/entity/Q2778342'), ('labelTelevisionSerie', 'Malibu Shores')]\n",
      "[('televisionSerie', 'http://www.wikidata.org/entity/Q39073083'), ('labelTelevisionSerie', 'Superstition')]\n",
      "[('televisionSerie', 'http://www.wikidata.org/entity/Q932652'), ('labelTelevisionSerie', 'The Agency')]\n",
      "[('televisionSerie', 'http://www.wikidata.org/entity/Q1349634'), ('labelTelevisionSerie', 'Rocket Power')]\n",
      "[('televisionSerie', 'http://www.wikidata.org/entity/Q15072887'), ('labelTelevisionSerie', \"Turn: Washington's Spies\")]\n",
      "[('televisionSerie', 'http://www.wikidata.org/entity/Q18643718'), ('labelTelevisionSerie', 'Love')]\n",
      "[('televisionSerie', 'http://www.wikidata.org/entity/Q46031730'), ('labelTelevisionSerie', 'The Romanoffs')]\n",
      "[('televisionSerie', 'http://www.wikidata.org/entity/Q945589'), ('labelTelevisionSerie', 'High School Musical: Get in the Picture')]\n",
      "[('televisionSerie', 'http://www.wikidata.org/entity/Q2058771'), ('labelTelevisionSerie', 'Enlightened')]\n",
      "[('televisionSerie', 'http://www.wikidata.org/entity/Q60753100'), ('labelTelevisionSerie', 'Interrogation')]\n",
      "[('televisionSerie', 'http://www.wikidata.org/entity/Q56275161'), ('labelTelevisionSerie', 'Upload')]\n",
      "[('televisionSerie', 'http://www.wikidata.org/entity/Q113254'), ('labelTelevisionSerie', 'Glory Days')]\n",
      "[('televisionSerie', 'http://www.wikidata.org/entity/Q7672268'), ('labelTelevisionSerie', 'TV 101')]\n",
      "[('televisionSerie', 'http://www.wikidata.org/entity/Q2946304'), ('labelTelevisionSerie', 'Century City')]\n",
      "[('televisionSerie', 'http://www.wikidata.org/entity/Q30607989'), ('labelTelevisionSerie', 'Reverie')]\n",
      "[('televisionSerie', 'http://www.wikidata.org/entity/Q1139174'), ('labelTelevisionSerie', 'Killer Instinct')]\n",
      "[('televisionSerie', 'http://www.wikidata.org/entity/Q1391499'), ('labelTelevisionSerie', 'Tales from the Cryptkeeper')]\n",
      "[('televisionSerie', 'http://www.wikidata.org/entity/Q2282750'), ('labelTelevisionSerie', 'Off Centre')]\n",
      "[('televisionSerie', 'http://www.wikidata.org/entity/Q730057'), ('labelTelevisionSerie', 'The Class')]\n",
      "[('televisionSerie', 'http://www.wikidata.org/entity/Q24971747'), ('labelTelevisionSerie', 'Play It Again, Dick')]\n",
      "[('televisionSerie', 'http://www.wikidata.org/entity/Q332379'), ('labelTelevisionSerie', \"It's All Relative\")]\n",
      "[('televisionSerie', 'http://www.wikidata.org/entity/Q1452588'), ('labelTelevisionSerie', 'Freddie')]\n",
      "[('televisionSerie', 'http://www.wikidata.org/entity/Q769252'), ('labelTelevisionSerie', 'The Others')]\n",
      "[('televisionSerie', 'http://www.wikidata.org/entity/Q3105305'), ('labelTelevisionSerie', 'The Moon Stallion')]\n",
      "[('televisionSerie', 'http://www.wikidata.org/entity/Q33323'), ('labelTelevisionSerie', 'Everybody Hates Chris')]\n",
      "[('televisionSerie', 'http://www.wikidata.org/entity/Q17781855'), ('labelTelevisionSerie', 'Hand of God')]\n",
      "[('televisionSerie', 'http://www.wikidata.org/entity/Q16844915'), ('labelTelevisionSerie', 'Bosch')]\n",
      "[('televisionSerie', 'http://www.wikidata.org/entity/Q17572811'), ('labelTelevisionSerie', 'Westworld')]\n",
      "[('televisionSerie', 'http://www.wikidata.org/entity/Q1187416'), ('labelTelevisionSerie', 'Chicago Fire')]\n",
      "[('televisionSerie', 'http://www.wikidata.org/entity/Q13148212'), ('labelTelevisionSerie', 'The Blacklist')]\n",
      "[('televisionSerie', 'http://www.wikidata.org/entity/Q23781164'), ('labelTelevisionSerie', 'Inhumans')]\n",
      "[('televisionSerie', 'http://www.wikidata.org/entity/Q62573305'), ('labelTelevisionSerie', 'Star Trek: Picard')]\n",
      "[('televisionSerie', 'http://www.wikidata.org/entity/Q35791'), ('labelTelevisionSerie', 'Sex and the City')]\n",
      "[('televisionSerie', 'http://www.wikidata.org/entity/Q1196836'), ('labelTelevisionSerie', 'The Six Million Dollar Man')]\n",
      "[('televisionSerie', 'http://www.wikidata.org/entity/Q276071'), ('labelTelevisionSerie', '90210')]\n",
      "[('televisionSerie', 'http://www.wikidata.org/entity/Q48758'), ('labelTelevisionSerie', 'Psych')]\n",
      "[('televisionSerie', 'http://www.wikidata.org/entity/Q1160221'), ('labelTelevisionSerie', 'What I Like About You')]\n",
      "[('televisionSerie', 'http://www.wikidata.org/entity/Q1955802'), ('labelTelevisionSerie', 'Mutant X')]\n",
      "[('televisionSerie', 'http://www.wikidata.org/entity/Q582053'), ('labelTelevisionSerie', 'The Big Valley')]\n",
      "[('televisionSerie', 'http://www.wikidata.org/entity/Q5749166'), ('labelTelevisionSerie', 'Hey, Landlord')]\n",
      "[('televisionSerie', 'http://www.wikidata.org/entity/Q1467732'), ('labelTelevisionSerie', 'Oliver Beene')]\n",
      "[('televisionSerie', 'http://www.wikidata.org/entity/Q1535208'), ('labelTelevisionSerie', 'Justified')]\n",
      "[('televisionSerie', 'http://www.wikidata.org/entity/Q3550787'), ('labelTelevisionSerie', 'Level 9')]\n",
      "[('televisionSerie', 'http://www.wikidata.org/entity/Q65526378'), ('labelTelevisionSerie', 'Tales of the Wild')]\n",
      "[('televisionSerie', 'http://www.wikidata.org/entity/Q4535725'), ('labelTelevisionSerie', \"I'll Take Manhattan\")]\n",
      "[('televisionSerie', 'http://www.wikidata.org/entity/Q1570057'), ('labelTelevisionSerie', 'Sledge Hammer!')]\n",
      "[('televisionSerie', 'http://www.wikidata.org/entity/Q82226'), ('labelTelevisionSerie', 'Ellen')]\n",
      "[('televisionSerie', 'http://www.wikidata.org/entity/Q185059'), ('labelTelevisionSerie', 'Days of Our Lives')]\n",
      "[('televisionSerie', 'http://www.wikidata.org/entity/Q19520525'), ('labelTelevisionSerie', 'Lucifer')]\n",
      "[('televisionSerie', 'http://www.wikidata.org/entity/Q7103250'), ('labelTelevisionSerie', 'Orleans')]\n",
      "[('televisionSerie', 'http://www.wikidata.org/entity/Q7883126'), ('labelTelevisionSerie', 'Under One Roof')]\n",
      "[('televisionSerie', 'http://www.wikidata.org/entity/Q4456'), ('labelTelevisionSerie', 'Rizzoli & Isles')]\n",
      "[('televisionSerie', 'http://www.wikidata.org/entity/Q729265'), ('labelTelevisionSerie', 'Space: Above and Beyond')]\n",
      "[('televisionSerie', 'http://www.wikidata.org/entity/Q2073894'), ('labelTelevisionSerie', \"It's Like, You Know...\")]\n",
      "[('televisionSerie', 'http://www.wikidata.org/entity/Q18464203'), ('labelTelevisionSerie', '13 Reasons Why')]\n",
      "[('televisionSerie', 'http://www.wikidata.org/entity/Q2659146'), ('labelTelevisionSerie', 'The Fall Guy')]\n",
      "[('televisionSerie', 'http://www.wikidata.org/entity/Q2632294'), ('labelTelevisionSerie', 'Perception')]\n",
      "[('televisionSerie', 'http://www.wikidata.org/entity/Q6090056'), ('labelTelevisionSerie', \"It's Garry Shandling's Show\")]\n",
      "[('televisionSerie', 'http://www.wikidata.org/entity/Q2042635'), ('labelTelevisionSerie', 'Owen Marshall, Counselor at Law')]\n",
      "[('televisionSerie', 'http://www.wikidata.org/entity/Q153227'), ('labelTelevisionSerie', 'The Jeffersons')]\n",
      "[('televisionSerie', 'http://www.wikidata.org/entity/Q1248238'), ('labelTelevisionSerie', '227')]\n",
      "[('televisionSerie', 'http://www.wikidata.org/entity/Q1253966'), ('labelTelevisionSerie', 'Island Son')]\n",
      "[('televisionSerie', 'http://www.wikidata.org/entity/Q1248509'), ('labelTelevisionSerie', 'Room 222')]\n",
      "[('televisionSerie', 'http://www.wikidata.org/entity/Q3828521'), ('labelTelevisionSerie', 'The Adventures of Shirley Holmes')]\n",
      "[('televisionSerie', 'http://www.wikidata.org/entity/Q2081494'), ('labelTelevisionSerie', 'The Ed Sullivan Show')]\n",
      "[('televisionSerie', 'http://www.wikidata.org/entity/Q7939689'), ('labelTelevisionSerie', 'Voices Within: The Lives of Truddi Chase')]\n",
      "[('televisionSerie', 'http://www.wikidata.org/entity/Q25206010'), ('labelTelevisionSerie', 'Sharp Objects')]\n",
      "[('televisionSerie', 'http://www.wikidata.org/entity/Q16868834'), ('labelTelevisionSerie', 'Galavant')]\n",
      "[('televisionSerie', 'http://www.wikidata.org/entity/Q24067015'), ('labelTelevisionSerie', 'The Blacklist: Redemption')]\n",
      "[('televisionSerie', 'http://www.wikidata.org/entity/Q5089133'), ('labelTelevisionSerie', 'Checking In')]\n",
      "[('televisionSerie', 'http://www.wikidata.org/entity/Q687329'), ('labelTelevisionSerie', 'Kindred: The Embraced')]\n",
      "[('televisionSerie', 'http://www.wikidata.org/entity/Q862066'), ('labelTelevisionSerie', 'Phil of the Future')]\n",
      "[('televisionSerie', 'http://www.wikidata.org/entity/Q867935'), ('labelTelevisionSerie', 'Cleopatra 2525')]\n",
      "[('televisionSerie', 'http://www.wikidata.org/entity/Q2697049'), ('labelTelevisionSerie', 'Normal, Ohio')]\n",
      "[('televisionSerie', 'http://www.wikidata.org/entity/Q1753751'), ('labelTelevisionSerie', 'The Lying Game')]\n",
      "[('televisionSerie', 'http://www.wikidata.org/entity/Q7752070'), ('labelTelevisionSerie', 'The Monroes')]\n",
      "[('televisionSerie', 'http://www.wikidata.org/entity/Q893042'), ('labelTelevisionSerie', 'Boomtown')]\n",
      "[('televisionSerie', 'http://www.wikidata.org/entity/Q2247014'), ('labelTelevisionSerie', 'American Gothic')]\n",
      "[('televisionSerie', 'http://www.wikidata.org/entity/Q6015195'), ('labelTelevisionSerie', 'Inconceivable')]\n",
      "[('televisionSerie', 'http://www.wikidata.org/entity/Q1273275'), ('labelTelevisionSerie', 'E-Ring')]\n",
      "[('televisionSerie', 'http://www.wikidata.org/entity/Q3801145'), ('labelTelevisionSerie', 'Me and the Chimp')]\n",
      "[('televisionSerie', 'http://www.wikidata.org/entity/Q584745'), ('labelTelevisionSerie', 'Day Break')]\n",
      "[('televisionSerie', 'http://www.wikidata.org/entity/Q3282292'), ('labelTelevisionSerie', 'The Round Table')]\n",
      "[('televisionSerie', 'http://www.wikidata.org/entity/Q3282410'), ('labelTelevisionSerie', 'City Guys')]\n",
      "[('televisionSerie', 'http://www.wikidata.org/entity/Q7716051'), ('labelTelevisionSerie', 'The Beast')]\n",
      "[('televisionSerie', 'http://www.wikidata.org/entity/Q5500047'), ('labelTelevisionSerie', 'Free Ride')]\n",
      "[('televisionSerie', 'http://www.wikidata.org/entity/Q3805531'), ('labelTelevisionSerie', 'Private Eye')]\n",
      "[('televisionSerie', 'http://www.wikidata.org/entity/Q10340996'), ('labelTelevisionSerie', 'One World')]\n",
      "[('televisionSerie', 'http://www.wikidata.org/entity/Q5203362'), ('labelTelevisionSerie', 'D.C.')]\n",
      "[('televisionSerie', 'http://www.wikidata.org/entity/Q847849'), ('labelTelevisionSerie', 'Wonderland')]\n",
      "[('televisionSerie', 'http://www.wikidata.org/entity/Q5331187'), ('labelTelevisionSerie', 'Easy to Assemble')]\n",
      "[('televisionSerie', 'http://www.wikidata.org/entity/Q30600557'), ('labelTelevisionSerie', 'The Spy')]\n",
      "[('televisionSerie', 'http://www.wikidata.org/entity/Q4943603'), ('labelTelevisionSerie', 'Boone')]\n",
      "[('televisionSerie', 'http://www.wikidata.org/entity/Q5122539'), ('labelTelevisionSerie', 'Citizen Baines')]\n",
      "[('televisionSerie', 'http://www.wikidata.org/entity/Q5597033'), ('labelTelevisionSerie', 'Grapevine')]\n",
      "[('televisionSerie', 'http://www.wikidata.org/entity/Q1189754'), ('labelTelevisionSerie', 'Windfall')]\n",
      "[('televisionSerie', 'http://www.wikidata.org/entity/Q3307360'), ('labelTelevisionSerie', 'Method & Red')]\n",
      "[('televisionSerie', 'http://www.wikidata.org/entity/Q7757305'), ('labelTelevisionSerie', 'The Pitts')]\n",
      "[('televisionSerie', 'http://www.wikidata.org/entity/Q593036'), ('labelTelevisionSerie', 'Titans')]\n",
      "[('televisionSerie', 'http://www.wikidata.org/entity/Q210676'), ('labelTelevisionSerie', 'Nashville')]\n",
      "[('televisionSerie', 'http://www.wikidata.org/entity/Q7099650'), ('labelTelevisionSerie', 'Orange Is the New Black')]\n",
      "[('televisionSerie', 'http://www.wikidata.org/entity/Q864422'), ('labelTelevisionSerie', 'Haven')]\n",
      "[('televisionSerie', 'http://www.wikidata.org/entity/Q1247495'), ('labelTelevisionSerie', 'Wonder Woman')]\n",
      "[('televisionSerie', 'http://www.wikidata.org/entity/Q13232035'), ('labelTelevisionSerie', 'The Tomorrow People')]\n",
      "[('televisionSerie', 'http://www.wikidata.org/entity/Q1869406'), ('labelTelevisionSerie', 'La Femme Nikita')]\n",
      "[('televisionSerie', 'http://www.wikidata.org/entity/Q21296543'), ('labelTelevisionSerie', 'Star Trek: Discovery')]\n",
      "[('televisionSerie', 'http://www.wikidata.org/entity/Q540864'), ('labelTelevisionSerie', 'Becker')]\n",
      "[('televisionSerie', 'http://www.wikidata.org/entity/Q2635815'), ('labelTelevisionSerie', 'Men of a Certain Age')]\n",
      "[('televisionSerie', 'http://www.wikidata.org/entity/Q1870725'), ('labelTelevisionSerie', 'Lost Girl')]\n",
      "[('televisionSerie', 'http://www.wikidata.org/entity/Q478360'), ('labelTelevisionSerie', 'The Wire')]\n",
      "[('televisionSerie', 'http://www.wikidata.org/entity/Q468257'), ('labelTelevisionSerie', 'The District')]\n",
      "[('televisionSerie', 'http://www.wikidata.org/entity/Q832040'), ('labelTelevisionSerie', 'Roswell')]\n",
      "[('televisionSerie', 'http://www.wikidata.org/entity/Q1487960'), ('labelTelevisionSerie', 'Spenser: For Hire')]\n",
      "[('televisionSerie', 'http://www.wikidata.org/entity/Q7997671'), ('labelTelevisionSerie', 'Whose Line Is It Anyway?')]\n",
      "[('televisionSerie', 'http://www.wikidata.org/entity/Q30611820'), ('labelTelevisionSerie', '9-1-1')]\n",
      "[('televisionSerie', 'http://www.wikidata.org/entity/Q2063141'), ('labelTelevisionSerie', 'My Two Dads')]\n",
      "[('televisionSerie', 'http://www.wikidata.org/entity/Q2078546'), ('labelTelevisionSerie', 'Even Stevens')]\n",
      "[('televisionSerie', 'http://www.wikidata.org/entity/Q179837'), ('labelTelevisionSerie', 'Out of This World')]\n",
      "[('televisionSerie', 'http://www.wikidata.org/entity/Q24054627'), ('labelTelevisionSerie', 'Conviction')]\n",
      "[('televisionSerie', 'http://www.wikidata.org/entity/Q3644775'), ('labelTelevisionSerie', 'The Outsiders')]\n",
      "[('televisionSerie', 'http://www.wikidata.org/entity/Q3774077'), ('labelTelevisionSerie', 'Graceland')]\n",
      "[('televisionSerie', 'http://www.wikidata.org/entity/Q56275510'), ('labelTelevisionSerie', 'This Close')]\n",
      "[('televisionSerie', 'http://www.wikidata.org/entity/Q1987517'), ('labelTelevisionSerie', 'B. J. and the Bear')]\n",
      "[('televisionSerie', 'http://www.wikidata.org/entity/Q3204347'), ('labelTelevisionSerie', 'The Closer')]\n",
      "[('televisionSerie', 'http://www.wikidata.org/entity/Q1400206'), ('labelTelevisionSerie', 'Alien Nation')]\n",
      "[('televisionSerie', 'http://www.wikidata.org/entity/Q1074660'), ('labelTelevisionSerie', 'Seven Days')]\n",
      "[('televisionSerie', 'http://www.wikidata.org/entity/Q3072951'), ('labelTelevisionSerie', 'First Monday')]\n",
      "[('televisionSerie', 'http://www.wikidata.org/entity/Q3112723'), ('labelTelevisionSerie', 'Honey, I Shrunk the Kids: The TV Show')]\n",
      "[('televisionSerie', 'http://www.wikidata.org/entity/Q1016803'), ('labelTelevisionSerie', 'The Burning Zone')]\n",
      "[('televisionSerie', 'http://www.wikidata.org/entity/Q3786326'), ('labelTelevisionSerie', 'Hollywood Beat')]\n",
      "[('televisionSerie', 'http://www.wikidata.org/entity/Q555649'), ('labelTelevisionSerie', 'The Slap')]\n",
      "[('televisionSerie', 'http://www.wikidata.org/entity/Q46992829'), ('labelTelevisionSerie', 'Project Blue Book')]\n",
      "[('televisionSerie', 'http://www.wikidata.org/entity/Q89414035'), ('labelTelevisionSerie', 'Outer Banks')]\n",
      "[('televisionSerie', 'http://www.wikidata.org/entity/Q4660855'), ('labelTelevisionSerie', 'A Year at the Top')]\n",
      "[('televisionSerie', 'http://www.wikidata.org/entity/Q525261'), ('labelTelevisionSerie', 'Andy Barker, P.I.')]\n",
      "[('televisionSerie', 'http://www.wikidata.org/entity/Q5307144'), ('labelTelevisionSerie', \"Drew Carey's Green Screen Show\")]\n",
      "[('televisionSerie', 'http://www.wikidata.org/entity/Q2068716'), ('labelTelevisionSerie', 'P.S. I Luv U')]\n",
      "[('televisionSerie', 'http://www.wikidata.org/entity/Q15140455'), ('labelTelevisionSerie', 'Reckless')]\n",
      "[('televisionSerie', 'http://www.wikidata.org/entity/Q3001962'), ('labelTelevisionSerie', 'Cracker')]\n",
      "[('televisionSerie', 'http://www.wikidata.org/entity/Q24053405'), ('labelTelevisionSerie', 'Shots Fired')]\n",
      "[('televisionSerie', 'http://www.wikidata.org/entity/Q7751586'), ('labelTelevisionSerie', 'The Minor Accomplishments of Jackie Woodman')]\n",
      "[('televisionSerie', 'http://www.wikidata.org/entity/Q558112'), ('labelTelevisionSerie', 'Black Mirror')]\n",
      "[('televisionSerie', 'http://www.wikidata.org/entity/Q237072'), ('labelTelevisionSerie', 'Battlestar Galactica')]\n",
      "[('televisionSerie', 'http://www.wikidata.org/entity/Q579554'), ('labelTelevisionSerie', 'Caprica')]\n",
      "[('televisionSerie', 'http://www.wikidata.org/entity/Q24297601'), ('labelTelevisionSerie', 'Krypton')]\n",
      "[('televisionSerie', 'http://www.wikidata.org/entity/Q3230279'), ('labelTelevisionSerie', 'The 100 Lives of Black Jack Savage')]\n",
      "[('televisionSerie', 'http://www.wikidata.org/entity/Q834560'), ('labelTelevisionSerie', 'Alcatraz')]\n",
      "[('televisionSerie', 'http://www.wikidata.org/entity/Q2095958'), ('labelTelevisionSerie', 'Alias Smith and Jones')]\n",
      "[('televisionSerie', 'http://www.wikidata.org/entity/Q3795315'), ('labelTelevisionSerie', 'The Powers of Matthew Star')]\n",
      "[('televisionSerie', 'http://www.wikidata.org/entity/Q3927589'), ('labelTelevisionSerie', 'Something Wilder')]\n",
      "[('televisionSerie', 'http://www.wikidata.org/entity/Q390405'), ('labelTelevisionSerie', 'Nikita')]\n",
      "[('televisionSerie', 'http://www.wikidata.org/entity/Q60771449'), ('labelTelevisionSerie', 'Perry Mason')]\n",
      "[('televisionSerie', 'http://www.wikidata.org/entity/Q1061246'), ('labelTelevisionSerie', 'Growing Pains')]\n",
      "[('televisionSerie', 'http://www.wikidata.org/entity/Q1585055'), ('labelTelevisionSerie', 'Hardcastle and McCormick')]\n",
      "[('televisionSerie', 'http://www.wikidata.org/entity/Q210468'), ('labelTelevisionSerie', 'Vegas')]\n",
      "[('televisionSerie', 'http://www.wikidata.org/entity/Q457638'), ('labelTelevisionSerie', 'The Pretender')]\n",
      "[('televisionSerie', 'http://www.wikidata.org/entity/Q1247535'), ('labelTelevisionSerie', 'In Plain Sight')]\n",
      "[('televisionSerie', 'http://www.wikidata.org/entity/Q178724'), ('labelTelevisionSerie', 'T. J. Hooker')]\n",
      "[('televisionSerie', 'http://www.wikidata.org/entity/Q4507'), ('labelTelevisionSerie', 'Friday Night Lights')]\n",
      "[('televisionSerie', 'http://www.wikidata.org/entity/Q518589'), ('labelTelevisionSerie', 'Happy Days')]\n",
      "[('televisionSerie', 'http://www.wikidata.org/entity/Q624604'), ('labelTelevisionSerie', 'Law & Order: UK')]\n",
      "[('televisionSerie', 'http://www.wikidata.org/entity/Q2367132'), ('labelTelevisionSerie', 'Battlestar Galactica')]\n",
      "[('televisionSerie', 'http://www.wikidata.org/entity/Q814788'), ('labelTelevisionSerie', 'Being Human')]\n",
      "[('televisionSerie', 'http://www.wikidata.org/entity/Q886286'), ('labelTelevisionSerie', 'Thea')]\n",
      "[('televisionSerie', 'http://www.wikidata.org/entity/Q210665'), ('labelTelevisionSerie', 'Malibu Country')]\n",
      "[('televisionSerie', 'http://www.wikidata.org/entity/Q1248182'), ('labelTelevisionSerie', 'Night Court')]\n",
      "[('televisionSerie', 'http://www.wikidata.org/entity/Q5937592'), ('labelTelevisionSerie', 'Human Target')]\n",
      "[('televisionSerie', 'http://www.wikidata.org/entity/Q20642675'), ('labelTelevisionSerie', 'Counterpart')]\n",
      "[('televisionSerie', 'http://www.wikidata.org/entity/Q63608626'), ('labelTelevisionSerie', 'Katy Keene')]\n",
      "[('televisionSerie', 'http://www.wikidata.org/entity/Q46992819'), ('labelTelevisionSerie', 'The Crossing')]\n",
      "[('televisionSerie', 'http://www.wikidata.org/entity/Q19858482'), ('labelTelevisionSerie', 'Blindspot')]\n",
      "[('televisionSerie', 'http://www.wikidata.org/entity/Q25104078'), ('labelTelevisionSerie', 'Imposters')]\n",
      "[('televisionSerie', 'http://www.wikidata.org/entity/Q19911394'), ('labelTelevisionSerie', 'Limitless')]\n",
      "[('televisionSerie', 'http://www.wikidata.org/entity/Q2097697'), ('labelTelevisionSerie', 'Power Rangers Lost Galaxy')]\n",
      "[('televisionSerie', 'http://www.wikidata.org/entity/Q3295320'), ('labelTelevisionSerie', 'Martin')]\n",
      "[('televisionSerie', 'http://www.wikidata.org/entity/Q2066628'), ('labelTelevisionSerie', 'Eve')]\n",
      "[('televisionSerie', 'http://www.wikidata.org/entity/Q521718'), ('labelTelevisionSerie', 'Murphy Brown')]\n",
      "[('televisionSerie', 'http://www.wikidata.org/entity/Q3660497'), ('labelTelevisionSerie', 'Dear John')]\n",
      "[('televisionSerie', 'http://www.wikidata.org/entity/Q2579964'), ('labelTelevisionSerie', 'Ray Donovan')]\n",
      "[('televisionSerie', 'http://www.wikidata.org/entity/Q3852011'), ('labelTelevisionSerie', 'The Nutt House')]\n",
      "[('televisionSerie', 'http://www.wikidata.org/entity/Q1125740'), ('labelTelevisionSerie', 'Lady Blue')]\n",
      "[('televisionSerie', 'http://www.wikidata.org/entity/Q1755288'), ('labelTelevisionSerie', 'Higher Ground')]\n",
      "[('televisionSerie', 'http://www.wikidata.org/entity/Q3901300'), ('labelTelevisionSerie', 'Phenom')]\n",
      "[('televisionSerie', 'http://www.wikidata.org/entity/Q20203826'), ('labelTelevisionSerie', 'Game of Silence')]\n",
      "[('televisionSerie', 'http://www.wikidata.org/entity/Q29515721'), ('labelTelevisionSerie', 'The Bold Type')]\n",
      "[('televisionSerie', 'http://www.wikidata.org/entity/Q6796942'), ('labelTelevisionSerie', 'Maybe This Time')]\n",
      "[('televisionSerie', 'http://www.wikidata.org/entity/Q20758225'), ('labelTelevisionSerie', 'The Path')]\n",
      "[('televisionSerie', 'http://www.wikidata.org/entity/Q2778277'), ('labelTelevisionSerie', 'Prey')]\n",
      "[('televisionSerie', 'http://www.wikidata.org/entity/Q977043'), ('labelTelevisionSerie', 'Are You There, Chelsea?')]\n",
      "[('televisionSerie', 'http://www.wikidata.org/entity/Q21152164'), ('labelTelevisionSerie', 'The Deuce')]\n",
      "[('televisionSerie', 'http://www.wikidata.org/entity/Q53216892'), ('labelTelevisionSerie', 'Roswell, New Mexico')]\n",
      "[('televisionSerie', 'http://www.wikidata.org/entity/Q5639219'), ('labelTelevisionSerie', 'Hail to the Chief')]\n",
      "[('televisionSerie', 'http://www.wikidata.org/entity/Q54877718'), ('labelTelevisionSerie', 'Intricate Vengeance')]\n",
      "[('televisionSerie', 'http://www.wikidata.org/entity/Q24806893'), ('labelTelevisionSerie', 'Dream Corp, LLC')]\n",
      "[('televisionSerie', 'http://www.wikidata.org/entity/Q592743'), ('labelTelevisionSerie', 'The Sentinel')]\n",
      "[('televisionSerie', 'http://www.wikidata.org/entity/Q24262067'), ('labelTelevisionSerie', 'Marcella')]\n",
      "[('televisionSerie', 'http://www.wikidata.org/entity/Q45161655'), ('labelTelevisionSerie', 'No Activity')]\n",
      "[('televisionSerie', 'http://www.wikidata.org/entity/Q4064191'), ('labelTelevisionSerie', 'All American Girl')]\n",
      "[('televisionSerie', 'http://www.wikidata.org/entity/Q106623535'), ('labelTelevisionSerie', 'Brand New Cherry Flavor')]\n",
      "[('televisionSerie', 'http://www.wikidata.org/entity/Q509654'), ('labelTelevisionSerie', 'Karen Sisco')]\n",
      "[('televisionSerie', 'http://www.wikidata.org/entity/Q525591'), ('labelTelevisionSerie', 'Kirk')]\n",
      "[('televisionSerie', 'http://www.wikidata.org/entity/Q3837525'), ('labelTelevisionSerie', 'Lottery!')]\n",
      "[('televisionSerie', 'http://www.wikidata.org/entity/Q1494980'), ('labelTelevisionSerie', 'Gary Unmarried')]\n",
      "[('televisionSerie', 'http://www.wikidata.org/entity/Q13338296'), ('labelTelevisionSerie', 'Star-Crossed')]\n",
      "[('televisionSerie', 'http://www.wikidata.org/entity/Q745464'), ('labelTelevisionSerie', 'Unfabulous')]\n",
      "[('televisionSerie', 'http://www.wikidata.org/entity/Q6655570'), ('labelTelevisionSerie', 'Live Shot')]\n",
      "[('televisionSerie', 'http://www.wikidata.org/entity/Q16869018'), ('labelTelevisionSerie', 'Manhattan Love Story')]\n",
      "[('televisionSerie', 'http://www.wikidata.org/entity/Q962225'), ('labelTelevisionSerie', 'The Wedding Bells')]\n",
      "[('televisionSerie', 'http://www.wikidata.org/entity/Q886219'), ('labelTelevisionSerie', 'Woops!')]\n",
      "[('televisionSerie', 'http://www.wikidata.org/entity/Q97192070'), ('labelTelevisionSerie', 'Family Law')]\n",
      "[('televisionSerie', 'http://www.wikidata.org/entity/Q2517403'), ('labelTelevisionSerie', 'The Facts of Life')]\n",
      "[('televisionSerie', 'http://www.wikidata.org/entity/Q988037'), ('labelTelevisionSerie', 'Mork & Mindy')]\n",
      "[('televisionSerie', 'http://www.wikidata.org/entity/Q550238'), ('labelTelevisionSerie', 'Melrose Place')]\n",
      "[('televisionSerie', 'http://www.wikidata.org/entity/Q10373620'), ('labelTelevisionSerie', 'The Space Kidettes')]\n",
      "[('televisionSerie', 'http://www.wikidata.org/entity/Q183513'), ('labelTelevisionSerie', 'Buffy the Vampire Slayer')]\n",
      "[('televisionSerie', 'http://www.wikidata.org/entity/Q16977365'), ('labelTelevisionSerie', 'Daredevil')]\n",
      "[('televisionSerie', 'http://www.wikidata.org/entity/Q208647'), ('labelTelevisionSerie', 'Married... with Children')]\n",
      "[('televisionSerie', 'http://www.wikidata.org/entity/Q868835'), ('labelTelevisionSerie', 'Leverage')]\n",
      "[('televisionSerie', 'http://www.wikidata.org/entity/Q1027097'), ('labelTelevisionSerie', 'Call Me Fitz')]\n",
      "[('televisionSerie', 'http://www.wikidata.org/entity/Q1324189'), ('labelTelevisionSerie', 'Home and Away')]\n",
      "[('televisionSerie', 'http://www.wikidata.org/entity/Q7299700'), ('labelTelevisionSerie', 'Razzmatazz')]\n",
      "[('televisionSerie', 'http://www.wikidata.org/entity/Q808487'), ('labelTelevisionSerie', 'Barney Miller')]\n",
      "[('televisionSerie', 'http://www.wikidata.org/entity/Q726944'), ('labelTelevisionSerie', 'So Little Time')]\n",
      "[('televisionSerie', 'http://www.wikidata.org/entity/Q83401'), ('labelTelevisionSerie', 'Heroes')]\n",
      "[('televisionSerie', 'http://www.wikidata.org/entity/Q210517'), ('labelTelevisionSerie', 'Summerland')]\n",
      "[('televisionSerie', 'http://www.wikidata.org/entity/Q1260081'), ('labelTelevisionSerie', 'Still Standing')]\n",
      "[('televisionSerie', 'http://www.wikidata.org/entity/Q1044593'), ('labelTelevisionSerie', 'Caroline in the City')]\n",
      "[('televisionSerie', 'http://www.wikidata.org/entity/Q1136370'), ('labelTelevisionSerie', 'General Hospital')]\n",
      "[('televisionSerie', 'http://www.wikidata.org/entity/Q1968364'), ('labelTelevisionSerie', 'Wilfred')]\n",
      "[('televisionSerie', 'http://www.wikidata.org/entity/Q56876444'), ('labelTelevisionSerie', 'The Mandalorian')]\n",
      "[('televisionSerie', 'http://www.wikidata.org/entity/Q15483532'), ('labelTelevisionSerie', '24: Live Another Day')]\n",
      "[('televisionSerie', 'http://www.wikidata.org/entity/Q2064827'), ('labelTelevisionSerie', 'Our House')]\n",
      "[('televisionSerie', 'http://www.wikidata.org/entity/Q1304597'), ('labelTelevisionSerie', 'Perfect Strangers')]\n",
      "[('televisionSerie', 'http://www.wikidata.org/entity/Q25205293'), ('labelTelevisionSerie', 'Ozark')]\n",
      "[('televisionSerie', 'http://www.wikidata.org/entity/Q593838'), ('labelTelevisionSerie', 'Family Matters')]\n",
      "[('televisionSerie', 'http://www.wikidata.org/entity/Q24262430'), ('labelTelevisionSerie', 'Falling Water')]\n",
      "[('televisionSerie', 'http://www.wikidata.org/entity/Q1156876'), ('labelTelevisionSerie', \"Harry's Law\")]\n",
      "[('televisionSerie', 'http://www.wikidata.org/entity/Q925137'), ('labelTelevisionSerie', 'Mancuso, F.B.I.')]\n",
      "[('televisionSerie', 'http://www.wikidata.org/entity/Q1122274'), ('labelTelevisionSerie', 'Whiz Kids')]\n",
      "[('televisionSerie', 'http://www.wikidata.org/entity/Q894496'), ('labelTelevisionSerie', 'Boss')]\n",
      "[('televisionSerie', 'http://www.wikidata.org/entity/Q3634749'), ('labelTelevisionSerie', 'Barbershop')]\n",
      "[('televisionSerie', 'http://www.wikidata.org/entity/Q55604025'), ('labelTelevisionSerie', 'Another Life')]\n",
      "[('televisionSerie', 'http://www.wikidata.org/entity/Q2455036'), ('labelTelevisionSerie', 'Webster')]\n",
      "[('televisionSerie', 'http://www.wikidata.org/entity/Q2061869'), ('labelTelevisionSerie', 'Popular')]\n",
      "[('televisionSerie', 'http://www.wikidata.org/entity/Q217276'), ('labelTelevisionSerie', 'Jonas L.A.')]\n",
      "[('televisionSerie', 'http://www.wikidata.org/entity/Q2920660'), ('labelTelevisionSerie', 'Profit')]\n",
      "[('televisionSerie', 'http://www.wikidata.org/entity/Q3230716'), ('labelTelevisionSerie', 'The Huntress')]\n",
      "[('televisionSerie', 'http://www.wikidata.org/entity/Q537116'), ('labelTelevisionSerie', 'Watching Ellie')]\n",
      "[('televisionSerie', 'http://www.wikidata.org/entity/Q20967558'), ('labelTelevisionSerie', 'Agent X')]\n",
      "[('televisionSerie', 'http://www.wikidata.org/entity/Q7990772'), ('labelTelevisionSerie', \"What's Happening Now!!\")]\n",
      "[('televisionSerie', 'http://www.wikidata.org/entity/Q48782208'), ('labelTelevisionSerie', \"Robin's Hoods\")]\n",
      "[('televisionSerie', 'http://www.wikidata.org/entity/Q3234176'), ('labelTelevisionSerie', 'Behind the Music')]\n",
      "[('televisionSerie', 'http://www.wikidata.org/entity/Q54646033'), ('labelTelevisionSerie', 'BlackBoxTV Presents')]\n",
      "[('televisionSerie', 'http://www.wikidata.org/entity/Q15995140'), ('labelTelevisionSerie', 'The Hotwives')]\n",
      "[('televisionSerie', 'http://www.wikidata.org/entity/Q3888645'), ('labelTelevisionSerie', 'Pacific Station')]\n",
      "[('televisionSerie', 'http://www.wikidata.org/entity/Q3284688'), ('labelTelevisionSerie', 'Easy Money')]\n",
      "[('televisionSerie', 'http://www.wikidata.org/entity/Q3294537'), ('labelTelevisionSerie', 'Committed')]\n",
      "[('televisionSerie', 'http://www.wikidata.org/entity/Q933806'), ('labelTelevisionSerie', 'My Boys')]\n",
      "[('televisionSerie', 'http://www.wikidata.org/entity/Q6753342'), ('labelTelevisionSerie', 'Many Happy Returns')]\n",
      "[('televisionSerie', 'http://www.wikidata.org/entity/Q3602871'), ('labelTelevisionSerie', 'Married to the Kellys')]\n",
      "[('televisionSerie', 'http://www.wikidata.org/entity/Q63965791'), ('labelTelevisionSerie', 'All Rise')]\n",
      "[('televisionSerie', 'http://www.wikidata.org/entity/Q85946144'), ('labelTelevisionSerie', 'Dave')]\n",
      "[('televisionSerie', 'http://www.wikidata.org/entity/Q3959059'), ('labelTelevisionSerie', 'Shaky Ground')]\n",
      "[('televisionSerie', 'http://www.wikidata.org/entity/Q10381158'), ('labelTelevisionSerie', 'The Assistants')]\n",
      "[('televisionSerie', 'http://www.wikidata.org/entity/Q21968682'), ('labelTelevisionSerie', 'Underground')]\n",
      "[('televisionSerie', 'http://www.wikidata.org/entity/Q3283336'), ('labelTelevisionSerie', 'The Jury')]\n",
      "[('televisionSerie', 'http://www.wikidata.org/entity/Q3858654'), ('labelTelevisionSerie', 'Uncle Buck')]\n",
      "[('televisionSerie', 'http://www.wikidata.org/entity/Q31496360'), ('labelTelevisionSerie', 'Murder?')]\n",
      "[('televisionSerie', 'http://www.wikidata.org/entity/Q6690224'), ('labelTelevisionSerie', 'Love & War')]\n",
      "[('televisionSerie', 'http://www.wikidata.org/entity/Q586680'), ('labelTelevisionSerie', 'George Washington')]\n",
      "[('televisionSerie', 'http://www.wikidata.org/entity/Q5594215'), ('labelTelevisionSerie', 'Grand')]\n",
      "[('televisionSerie', 'http://www.wikidata.org/entity/Q7738258'), ('labelTelevisionSerie', 'The Gregory Hines Show')]\n",
      "[('televisionSerie', 'http://www.wikidata.org/entity/Q152178'), ('labelTelevisionSerie', 'Glee')]\n",
      "[('televisionSerie', 'http://www.wikidata.org/entity/Q15711398'), ('labelTelevisionSerie', 'The Flashi')]\n",
      "[('televisionSerie', 'http://www.wikidata.org/entity/Q1031248'), ('labelTelevisionSerie', 'The Flash')]\n",
      "[('televisionSerie', 'http://www.wikidata.org/entity/Q27156883'), ('labelTelevisionSerie', 'Channel Zero')]\n",
      "[('televisionSerie', 'http://www.wikidata.org/entity/Q56850495'), ('labelTelevisionSerie', 'The I-Land')]\n",
      "[('televisionSerie', 'http://www.wikidata.org/entity/Q723'), ('labelTelevisionSerie', 'Rookie Blue')]\n",
      "[('televisionSerie', 'http://www.wikidata.org/entity/Q6124908'), ('labelTelevisionSerie', 'Senda de gloria')]\n",
      "[('televisionSerie', 'http://www.wikidata.org/entity/Q219650'), ('labelTelevisionSerie', 'V')]\n",
      "[('televisionSerie', 'http://www.wikidata.org/entity/Q4004231'), ('labelTelevisionSerie', 'True Colors')]\n",
      "[('televisionSerie', 'http://www.wikidata.org/entity/Q426718'), ('labelTelevisionSerie', 'Goodnight, Beantown')]\n",
      "[('televisionSerie', 'http://www.wikidata.org/entity/Q1418559'), ('labelTelevisionSerie', 'So Weird')]\n",
      "[('televisionSerie', 'http://www.wikidata.org/entity/Q1067609'), ('labelTelevisionSerie', 'Destilando Amor')]\n",
      "[('televisionSerie', 'http://www.wikidata.org/entity/Q1339627'), ('labelTelevisionSerie', 'Martial Law')]\n",
      "[('televisionSerie', 'http://www.wikidata.org/entity/Q1249591'), ('labelTelevisionSerie', 'Fuego en la sangre')]\n",
      "[('televisionSerie', 'http://www.wikidata.org/entity/Q96402959'), ('labelTelevisionSerie', 'Royalties')]\n",
      "[('televisionSerie', 'http://www.wikidata.org/entity/Q1970559'), ('labelTelevisionSerie', 'Watch Over Me')]\n",
      "[('televisionSerie', 'http://www.wikidata.org/entity/Q17036433'), ('labelTelevisionSerie', 'What a Country!')]\n",
      "[('televisionSerie', 'http://www.wikidata.org/entity/Q11765883'), ('labelTelevisionSerie', 'Madison')]\n",
      "[('televisionSerie', 'http://www.wikidata.org/entity/Q15219382'), ('labelTelevisionSerie', 'Alpha House')]\n",
      "[('televisionSerie', 'http://www.wikidata.org/entity/Q1971770'), ('labelTelevisionSerie', 'Hidden Palms')]\n",
      "795\n"
     ]
    }
   ],
   "source": [
    "queryString = \"\"\"\n",
    "SELECT DISTINCT ?televisionSerie ?labelTelevisionSerie\n",
    "{\n",
    "    ?televisionSerie wdt:P161 ?castMember ;\n",
    "                     wdt:P31 wd:Q5398426 ;\n",
    "                     sc:name ?labelTelevisionSerie .\n",
    "    \n",
    "    \n",
    "    #Cast Members of Cold Case\n",
    "    {\n",
    "        SELECT DISTINCT ?castMember ?labelCastMember \n",
    "        WHERE \n",
    "        {   \n",
    "            #TODO DO THE SAME ON QUERY N° 4\n",
    "            #Cast Members of wd:Q733960 \n",
    "            {\n",
    "                SELECT DISTINCT ?castMember ?labelCastMember\n",
    "                WHERE\n",
    "                {\n",
    "                    wd:Q733960 wdt:P161 ?castMember .\n",
    "                    ?castMember sc:name ?labelCastMember .\n",
    "                }\n",
    "            }    \n",
    "            #Cast Members of seasons of wd:Q733960 \n",
    "            UNION\n",
    "            {\n",
    "                SELECT DISTINCT ?castMember ?labelCastMember\n",
    "                WHERE\n",
    "                {\n",
    "                    wd:Q733960 wdt:P527 ?season .\n",
    "                    ?season wdt:P161 ?castMember .\n",
    "                    ?castMember sc:name ?labelCastMember .\n",
    "                }\n",
    "            }       \n",
    "            #Cast Members of episodes of wd:Q733960 \n",
    "            UNION\n",
    "            {\n",
    "                SELECT DISTINCT ?castMember ?labelCastMember\n",
    "                WHERE\n",
    "                {\n",
    "                    wd:Q733960 wdt:P527 ?season .\n",
    "                    ?season wdt:P527 ?episode .\n",
    "                    ?episode wdt:P161 ?castMember .\n",
    "                    ?castMember sc:name ?labelCastMember .\n",
    "                }\n",
    "            }\n",
    "            ?castMember wdt:P106 ?occupation .\n",
    "            ?occupation sc:name ?labelOccupation .    \n",
    "            FILTER (REGEX (?labelOccupation, \"(?:^|\\\\\\\\W)actor(?:$|\\\\\\\\W)\") || REGEX (?labelOccupation, \"(?:^|\\\\\\\\W)actress(?:$|\\\\\\\\W)\"))  .\n",
    "        }\n",
    "    }\n",
    "}\n",
    "\"\"\"\n",
    "print(\"Results\")\n",
    "x=run_query(queryString)"
   ]
  },
  {
   "cell_type": "markdown",
   "id": "bd1f57c5-a369-4f0c-bb27-327c62e055ff",
   "metadata": {
    "tags": []
   },
   "source": [
    "### Get all the couples (object property - list of the classes of the objects that are connected to \"Meredith Stiehm\"  (wd:Q545377) through that object property)"
   ]
  },
  {
   "cell_type": "code",
   "execution_count": 12,
   "id": "2506bfa6",
   "metadata": {},
   "outputs": [
    {
     "name": "stdout",
     "output_type": "stream",
     "text": [
      "Results\n",
      "[('property', 'http://www.wikidata.org/prop/direct/P735'), ('labelProperty', 'given name'), ('objectsClasses', 'http://www.wikidata.org/entity/Q3409032'), ('labelsObjectsClasses', 'unisex given name')]\n",
      "[('property', 'http://www.wikidata.org/prop/direct/P106'), ('labelProperty', 'occupation'), ('objectsClasses', 'http://www.wikidata.org/entity/Q4220920,http://www.wikidata.org/entity/Q28640,http://www.wikidata.org/entity/Q4164871'), ('labelsObjectsClasses', 'filmmaking occupation,profession,position')]\n",
      "[('property', 'http://www.wikidata.org/prop/direct/P69'), ('labelProperty', 'educated at'), ('objectsClasses', 'http://www.wikidata.org/entity/Q15936437,http://www.wikidata.org/entity/Q23002054,http://www.wikidata.org/entity/Q3918,http://www.wikidata.org/entity/Q902104,http://www.wikidata.org/entity/Q1188663'), ('labelsObjectsClasses', 'research university,private not-for-profit educational institution,university,private university,Colonial Colleges')]\n",
      "[('property', 'http://www.wikidata.org/prop/direct/P21'), ('labelProperty', 'sex or gender'), ('objectsClasses', 'http://www.wikidata.org/entity/Q48264,http://www.wikidata.org/entity/Q4369513'), ('labelsObjectsClasses', 'gender identity,sex of humans')]\n",
      "[('property', 'http://www.wikidata.org/prop/direct/P166'), ('labelProperty', 'award received'), ('objectsClasses', 'http://www.wikidata.org/entity/Q123737'), ('labelsObjectsClasses', 'Emmy Award')]\n",
      "[('property', 'http://www.wikidata.org/prop/direct/P734'), ('labelProperty', 'family name'), ('objectsClasses', 'http://www.wikidata.org/entity/Q101352'), ('labelsObjectsClasses', 'family name')]\n",
      "[('property', 'http://www.wikidata.org/prop/direct/P27'), ('labelProperty', 'country of citizenship'), ('objectsClasses', 'http://www.wikidata.org/entity/Q1489259,http://www.wikidata.org/entity/Q99541706,http://www.wikidata.org/entity/Q1520223,http://www.wikidata.org/entity/Q3624078,http://www.wikidata.org/entity/Q512187,http://www.wikidata.org/entity/Q5255892,http://www.wikidata.org/entity/Q6256'), ('labelsObjectsClasses', 'superpower,historical unrecognized state,constitutional republic,sovereign state,federal republic,democratic republic,country')]\n",
      "[('property', 'http://www.wikidata.org/prop/direct/P19'), ('labelProperty', 'place of birth'), ('objectsClasses', 'http://www.wikidata.org/entity/Q15221310,http://www.wikidata.org/entity/Q1093829,http://www.wikidata.org/entity/Q1549591,http://www.wikidata.org/entity/Q62049,http://www.wikidata.org/entity/Q21518270'), ('labelsObjectsClasses', 'second-class city,city of the United States,big city,county seat,state or insular area capital in the United States')]\n",
      "[('property', 'http://www.wikidata.org/prop/direct/P31'), ('labelProperty', 'instance of'), ('objectsClasses', 'http://www.wikidata.org/entity/Q55983715'), ('labelsObjectsClasses', 'organisms known by a particular common name')]\n",
      "9\n"
     ]
    }
   ],
   "source": [
    "queryString = \"\"\"\n",
    "SELECT DISTINCT ?property ?labelProperty (GROUP_CONCAT(?objectClass ; separator = \",\")  AS ?objectsClasses) (GROUP_CONCAT(?labelObjectClass ; separator = \",\")  AS ?labelsObjectsClasses)\n",
    "WHERE \n",
    "{   \n",
    "   wd:Q545377 ?property ?object .  \n",
    "   ?object wdt:P31 ?objectClass .\n",
    "   \n",
    "   # Labels\n",
    "   ?property sc:name ?labelProperty .      \n",
    "   ?objectClass sc:name ?labelObjectClass .\n",
    "   \n",
    "   FILTER(!isLiteral(?object)) .   \n",
    "}GROUP BY ?property ?labelProperty\n",
    "LIMIT 50\n",
    "\"\"\"\n",
    "print(\"Results\")\n",
    "x=run_query(queryString)"
   ]
  },
  {
   "cell_type": "markdown",
   "id": "1e11b10c-899e-4ce0-836a-d04b854c7fbe",
   "metadata": {
    "tags": []
   },
   "source": [
    "### Get the first 50 \"television series\" (wd:Q5398426) that are connected with \"award received\" (wd:P166)"
   ]
  },
  {
   "cell_type": "code",
   "execution_count": 27,
   "id": "8eaab508-3d78-42a8-8196-83085e33617f",
   "metadata": {},
   "outputs": [
    {
     "name": "stdout",
     "output_type": "stream",
     "text": [
      "Results\n",
      "[('televisionSerie', 'http://www.wikidata.org/entity/Q1758643'), ('labelTelevisionSerie', 'Nytt på nytt'), ('award', 'http://www.wikidata.org/entity/Q12715196'), ('labelAward', 'Gullruten for best comedy')]\n",
      "[('televisionSerie', 'http://www.wikidata.org/entity/Q265519'), ('labelTelevisionSerie', 'heute-show'), ('award', 'http://www.wikidata.org/entity/Q185578'), ('labelAward', 'German Comedy Awards')]\n",
      "[('televisionSerie', 'http://www.wikidata.org/entity/Q265519'), ('labelTelevisionSerie', 'heute-show'), ('award', 'http://www.wikidata.org/entity/Q472379'), ('labelAward', 'Grimme-Preis')]\n",
      "[('televisionSerie', 'http://www.wikidata.org/entity/Q265519'), ('labelTelevisionSerie', 'heute-show'), ('award', 'http://www.wikidata.org/entity/Q678413'), ('labelAward', 'Deutscher Fernsehpreis')]\n",
      "[('televisionSerie', 'http://www.wikidata.org/entity/Q691528'), ('labelTelevisionSerie', 'Wallace and Gromit'), ('award', 'http://www.wikidata.org/entity/Q838121'), ('labelAward', 'Peabody Awards')]\n",
      "[('televisionSerie', 'http://www.wikidata.org/entity/Q558112'), ('labelTelevisionSerie', 'Black Mirror'), ('award', 'http://www.wikidata.org/entity/Q838121'), ('labelAward', 'Peabody Awards')]\n",
      "[('televisionSerie', 'http://www.wikidata.org/entity/Q7099650'), ('labelTelevisionSerie', 'Orange Is the New Black'), ('award', 'http://www.wikidata.org/entity/Q838121'), ('labelAward', 'Peabody Awards')]\n",
      "[('televisionSerie', 'http://www.wikidata.org/entity/Q56153643'), ('labelTelevisionSerie', 'Watchmen'), ('award', 'http://www.wikidata.org/entity/Q838121'), ('labelAward', 'Peabody Awards')]\n",
      "[('televisionSerie', 'http://www.wikidata.org/entity/Q11572'), ('labelTelevisionSerie', 'Avatar: The Last Airbender'), ('award', 'http://www.wikidata.org/entity/Q838121'), ('labelAward', 'Peabody Awards')]\n",
      "[('televisionSerie', 'http://www.wikidata.org/entity/Q565293'), ('labelTelevisionSerie', 'Anne Frank: The Whole Story'), ('award', 'http://www.wikidata.org/entity/Q838121'), ('labelAward', 'Peabody Awards')]\n",
      "[('televisionSerie', 'http://www.wikidata.org/entity/Q536110'), ('labelTelevisionSerie', 'Whale Wars'), ('award', 'http://www.wikidata.org/entity/Q135498'), ('labelAward', 'Genesis Award')]\n",
      "[('televisionSerie', 'http://www.wikidata.org/entity/Q186219'), ('labelTelevisionSerie', 'True Blood'), ('award', 'http://www.wikidata.org/entity/Q135498'), ('labelAward', 'Genesis Award')]\n",
      "[('televisionSerie', 'http://www.wikidata.org/entity/Q208568'), ('labelTelevisionSerie', 'Everybody Loves Raymond'), ('award', 'http://www.wikidata.org/entity/Q135498'), ('labelAward', 'Genesis Award')]\n",
      "[('televisionSerie', 'http://www.wikidata.org/entity/Q11572'), ('labelTelevisionSerie', 'Avatar: The Last Airbender'), ('award', 'http://www.wikidata.org/entity/Q135498'), ('labelAward', 'Genesis Award')]\n",
      "[('televisionSerie', 'http://www.wikidata.org/entity/Q207803'), ('labelTelevisionSerie', 'Bones'), ('award', 'http://www.wikidata.org/entity/Q135498'), ('labelAward', 'Genesis Award')]\n",
      "[('televisionSerie', 'http://www.wikidata.org/entity/Q694106'), ('labelTelevisionSerie', 'The Oprah Winfrey Show'), ('award', 'http://www.wikidata.org/entity/Q135498'), ('labelAward', 'Genesis Award')]\n",
      "[('televisionSerie', 'http://www.wikidata.org/entity/Q223320'), ('labelTelevisionSerie', 'Baywatch'), ('award', 'http://www.wikidata.org/entity/Q135498'), ('labelAward', 'Genesis Award')]\n",
      "[('televisionSerie', 'http://www.wikidata.org/entity/Q5245464'), ('labelTelevisionSerie', 'Dead at 21'), ('award', 'http://www.wikidata.org/entity/Q135498'), ('labelAward', 'Genesis Award')]\n",
      "[('televisionSerie', 'http://www.wikidata.org/entity/Q265519'), ('labelTelevisionSerie', 'heute-show'), ('award', 'http://www.wikidata.org/entity/Q1535125'), ('labelAward', 'Golden Hen')]\n",
      "[('televisionSerie', 'http://www.wikidata.org/entity/Q607514'), ('labelTelevisionSerie', 'EastEnders'), ('award', 'http://www.wikidata.org/entity/Q1369077'), ('labelAward', 'British Academy Television Awards')]\n",
      "[('televisionSerie', 'http://www.wikidata.org/entity/Q558112'), ('labelTelevisionSerie', 'Black Mirror'), ('award', 'http://www.wikidata.org/entity/Q7243506'), ('labelAward', 'Primetime Emmy Award for Outstanding Made for Television Movie')]\n",
      "[('televisionSerie', 'http://www.wikidata.org/entity/Q1145054'), ('labelTelevisionSerie', 'The NBC Mystery Movie'), ('award', 'http://www.wikidata.org/entity/Q3123491'), ('labelAward', 'Primetime Emmy Award for Outstanding Writing for a Drama Series')]\n",
      "[('televisionSerie', 'http://www.wikidata.org/entity/Q1145054'), ('labelTelevisionSerie', 'The NBC Mystery Movie'), ('award', 'http://www.wikidata.org/entity/Q20714679'), ('labelAward', 'Primetime Emmy Award for Outstanding Limited Miniseries')]\n",
      "[('televisionSerie', 'http://www.wikidata.org/entity/Q56153643'), ('labelTelevisionSerie', 'Watchmen'), ('award', 'http://www.wikidata.org/entity/Q20714679'), ('labelAward', 'Primetime Emmy Award for Outstanding Limited Miniseries')]\n",
      "[('televisionSerie', 'http://www.wikidata.org/entity/Q565293'), ('labelTelevisionSerie', 'Anne Frank: The Whole Story'), ('award', 'http://www.wikidata.org/entity/Q20714679'), ('labelAward', 'Primetime Emmy Award for Outstanding Limited Miniseries')]\n",
      "[('televisionSerie', 'http://www.wikidata.org/entity/Q18679871'), ('labelTelevisionSerie', 'SuomiLOVE'), ('award', 'http://www.wikidata.org/entity/Q18693994'), ('labelAward', 'Kultainen Venla')]\n",
      "[('televisionSerie', 'http://www.wikidata.org/entity/Q155629'), ('labelTelevisionSerie', 'Sesame Street'), ('award', 'http://www.wikidata.org/entity/Q1738793'), ('labelAward', 'Kennedy Center Honors')]\n",
      "[('televisionSerie', 'http://www.wikidata.org/entity/Q265519'), ('labelTelevisionSerie', 'heute-show'), ('award', 'http://www.wikidata.org/entity/Q538661'), ('labelAward', 'Goldene Kamera')]\n",
      "[('televisionSerie', 'http://www.wikidata.org/entity/Q1145054'), ('labelTelevisionSerie', 'The NBC Mystery Movie'), ('award', 'http://www.wikidata.org/entity/Q989447'), ('labelAward', 'Primetime Emmy Award for Outstanding Lead Actress in a Miniseries or a Movie')]\n",
      "[('televisionSerie', 'http://www.wikidata.org/entity/Q56153643'), ('labelTelevisionSerie', 'Watchmen'), ('award', 'http://www.wikidata.org/entity/Q989447'), ('labelAward', 'Primetime Emmy Award for Outstanding Lead Actress in a Miniseries or a Movie')]\n",
      "[('televisionSerie', 'http://www.wikidata.org/entity/Q1145054'), ('labelTelevisionSerie', 'The NBC Mystery Movie'), ('award', 'http://www.wikidata.org/entity/Q1255198'), ('labelAward', 'Golden Globe Award for Best Television Series – Drama')]\n",
      "[('televisionSerie', 'http://www.wikidata.org/entity/Q7099650'), ('labelTelevisionSerie', 'Orange Is the New Black'), ('award', 'http://www.wikidata.org/entity/Q2981152'), ('labelAward', 'Primetime Emmy Award for Outstanding Guest Actress in a Comedy Series')]\n",
      "[('televisionSerie', 'http://www.wikidata.org/entity/Q585758'), ('labelTelevisionSerie', 'Boardwalk Empire'), ('award', 'http://www.wikidata.org/entity/Q583972'), ('labelAward', 'Primetime Emmy Award for Outstanding Directing for a Drama Series')]\n",
      "[('televisionSerie', 'http://www.wikidata.org/entity/Q265519'), ('labelTelevisionSerie', 'heute-show'), ('award', 'http://www.wikidata.org/entity/Q630018'), ('labelAward', 'Bambi Award')]\n",
      "[('televisionSerie', 'http://www.wikidata.org/entity/Q56153643'), ('labelTelevisionSerie', 'Watchmen'), ('award', 'http://www.wikidata.org/entity/Q945887'), ('labelAward', 'Primetime Emmy Award for Outstanding Supporting Actor in a Miniseries or a Movie')]\n",
      "[('televisionSerie', 'http://www.wikidata.org/entity/Q1145054'), ('labelTelevisionSerie', 'The NBC Mystery Movie'), ('award', 'http://www.wikidata.org/entity/Q989453'), ('labelAward', 'Primetime Emmy Award for Outstanding Lead Actor in a Miniseries or a Movie')]\n",
      "[('televisionSerie', 'http://www.wikidata.org/entity/Q265519'), ('labelTelevisionSerie', 'heute-show'), ('award', 'http://www.wikidata.org/entity/Q1576361'), ('labelAward', 'Hanns-Joachim-Friedrichs-Award')]\n",
      "[('televisionSerie', 'http://www.wikidata.org/entity/Q673517'), ('labelTelevisionSerie', 'Batman: The Animated Series'), ('award', 'http://www.wikidata.org/entity/Q337926'), ('labelAward', 'Primetime Emmy Award for Outstanding Animated Program')]\n",
      "[('televisionSerie', 'http://www.wikidata.org/entity/Q186219'), ('labelTelevisionSerie', 'True Blood'), ('award', 'http://www.wikidata.org/entity/Q1257501'), ('labelAward', 'Golden Globe Award for Best Actress – Television Series Drama')]\n",
      "[('televisionSerie', 'http://www.wikidata.org/entity/Q56153643'), ('labelTelevisionSerie', 'Watchmen'), ('award', 'http://www.wikidata.org/entity/Q17986500'), ('labelAward', 'Primetime Emmy Award for Outstanding Cinematography for a Miniseries or Movie')]\n",
      "[('televisionSerie', 'http://www.wikidata.org/entity/Q186219'), ('labelTelevisionSerie', 'True Blood'), ('award', 'http://www.wikidata.org/entity/Q2350896'), ('labelAward', 'Satellite Award for Best Actress – Television Series Drama')]\n",
      "[('televisionSerie', 'http://www.wikidata.org/entity/Q565293'), ('labelTelevisionSerie', 'Anne Frank: The Whole Story'), ('award', 'http://www.wikidata.org/entity/Q2665878'), ('labelAward', 'Screen Actors Guild Award for Outstanding Performance by a Male Actor in a Miniseries or Television Movie')]\n",
      "[('televisionSerie', 'http://www.wikidata.org/entity/Q1145054'), ('labelTelevisionSerie', 'The NBC Mystery Movie'), ('award', 'http://www.wikidata.org/entity/Q3062632'), ('labelAward', 'Primetime Emmy Award for Outstanding Guest Actress in a Drama Series')]\n",
      "[('televisionSerie', 'http://www.wikidata.org/entity/Q186219'), ('labelTelevisionSerie', 'True Blood'), ('award', 'http://www.wikidata.org/entity/Q3473896'), ('labelAward', 'Satellite Award for Best Supporting Actor – Series, Miniseries or Television Film')]\n",
      "[('televisionSerie', 'http://www.wikidata.org/entity/Q56153643'), ('labelTelevisionSerie', 'Watchmen'), ('award', 'http://www.wikidata.org/entity/Q13476486'), ('labelAward', 'TCA Award for Individual Achievement in Drama')]\n",
      "[('televisionSerie', 'http://www.wikidata.org/entity/Q1138000'), ('labelTelevisionSerie', 'The Middle'), ('award', 'http://www.wikidata.org/entity/Q3002944'), ('labelAward', \"Critics' Choice Television Award for Best Actress in a Comedy Series\")]\n",
      "[('televisionSerie', 'http://www.wikidata.org/entity/Q7099650'), ('labelTelevisionSerie', 'Orange Is the New Black'), ('award', 'http://www.wikidata.org/entity/Q3473897'), ('labelAward', 'Satellite Award for Best Actor – Television Series Musical or Comedy')]\n",
      "[('televisionSerie', 'http://www.wikidata.org/entity/Q218035'), ('labelTelevisionSerie', 'Parks and Recreation'), ('award', 'http://www.wikidata.org/entity/Q7669610'), ('labelAward', 'TCA Award for Individual Achievement in Comedy')]\n",
      "[('televisionSerie', 'http://www.wikidata.org/entity/Q186219'), ('labelTelevisionSerie', 'True Blood'), ('award', 'http://www.wikidata.org/entity/Q7669620'), ('labelAward', 'TCA Award for Outstanding New Program')]\n",
      "[('televisionSerie', 'http://www.wikidata.org/entity/Q56153643'), ('labelTelevisionSerie', 'Watchmen'), ('award', 'http://www.wikidata.org/entity/Q7669620'), ('labelAward', 'TCA Award for Outstanding New Program')]\n",
      "50\n"
     ]
    }
   ],
   "source": [
    "queryString = \"\"\"\n",
    "SELECT DISTINCT ?televisionSerie ?labelTelevisionSerie ?award ?labelAward\n",
    "WHERE \n",
    "{   \n",
    "   ?televisionSerie wdt:P31 wd:Q5398426 ;\n",
    "            wdt:P166 ?award .\n",
    "   ?televisionSerie sc:name ?labelTelevisionSerie .\n",
    "   ?award sc:name ?labelAward .\n",
    "}\n",
    "LIMIT 50\n",
    "\"\"\"\n",
    "print(\"Results\")\n",
    "x=run_query(queryString)"
   ]
  },
  {
   "cell_type": "markdown",
   "id": "0f73fa87-a6d4-4832-85c1-043e954a0cde",
   "metadata": {
    "tags": []
   },
   "source": [
    "### Final Query"
   ]
  },
  {
   "cell_type": "markdown",
   "id": "0b6239a4",
   "metadata": {},
   "source": [
    "Final query for this task"
   ]
  },
  {
   "cell_type": "code",
   "execution_count": 11,
   "id": "72b35d59",
   "metadata": {},
   "outputs": [
    {
     "name": "stdout",
     "output_type": "stream",
     "text": [
      "Results\n",
      "[('televisionSerie', 'http://www.wikidata.org/entity/Q564345'), ('labelTelevisionSerie', 'Person of Interest'), ('numberOfAwards', '8')]\n",
      "[('televisionSerie', 'http://www.wikidata.org/entity/Q585758'), ('labelTelevisionSerie', 'Boardwalk Empire'), ('numberOfAwards', '3')]\n",
      "[('televisionSerie', 'http://www.wikidata.org/entity/Q647001'), ('labelTelevisionSerie', 'Dr. Quinn, Medicine Woman'), ('numberOfAwards', '22')]\n",
      "[('televisionSerie', 'http://www.wikidata.org/entity/Q464865'), ('labelTelevisionSerie', 'The Nanny'), ('numberOfAwards', '8')]\n",
      "[('televisionSerie', 'http://www.wikidata.org/entity/Q207803'), ('labelTelevisionSerie', 'Bones'), ('numberOfAwards', '3')]\n",
      "[('televisionSerie', 'http://www.wikidata.org/entity/Q30599007'), ('labelTelevisionSerie', 'Succession'), ('numberOfAwards', '8')]\n",
      "[('televisionSerie', 'http://www.wikidata.org/entity/Q1247192'), ('labelTelevisionSerie', 'Judging Amy'), ('numberOfAwards', '3')]\n",
      "[('televisionSerie', 'http://www.wikidata.org/entity/Q193462'), ('labelTelevisionSerie', 'Gilmore Girls'), ('numberOfAwards', '20')]\n",
      "[('televisionSerie', 'http://www.wikidata.org/entity/Q7103920'), ('labelTelevisionSerie', 'Orphan Black'), ('numberOfAwards', '4')]\n",
      "[('televisionSerie', 'http://www.wikidata.org/entity/Q1136370'), ('labelTelevisionSerie', 'General Hospital'), ('numberOfAwards', '20')]\n",
      "[('televisionSerie', 'http://www.wikidata.org/entity/Q2744'), ('labelTelevisionSerie', 'The X-Files'), ('numberOfAwards', '47')]\n",
      "[('televisionSerie', 'http://www.wikidata.org/entity/Q426432'), ('labelTelevisionSerie', 'Walker, Texas Ranger'), ('numberOfAwards', '37')]\n",
      "[('televisionSerie', 'http://www.wikidata.org/entity/Q1071958'), ('labelTelevisionSerie', 'Chicago Hope'), ('numberOfAwards', '12')]\n",
      "[('televisionSerie', 'http://www.wikidata.org/entity/Q485668'), ('labelTelevisionSerie', 'Scrubs'), ('numberOfAwards', '8')]\n",
      "[('televisionSerie', 'http://www.wikidata.org/entity/Q180228'), ('labelTelevisionSerie', 'Smallville'), ('numberOfAwards', '6')]\n",
      "[('televisionSerie', 'http://www.wikidata.org/entity/Q16862534'), ('labelTelevisionSerie', 'How to Get Away with Murder'), ('numberOfAwards', '4')]\n",
      "[('televisionSerie', 'http://www.wikidata.org/entity/Q56153643'), ('labelTelevisionSerie', 'Watchmen'), ('numberOfAwards', '20')]\n",
      "[('televisionSerie', 'http://www.wikidata.org/entity/Q117590'), ('labelTelevisionSerie', 'Beverly Hills, 90210'), ('numberOfAwards', '24')]\n",
      "[('televisionSerie', 'http://www.wikidata.org/entity/Q2085'), ('labelTelevisionSerie', 'Twin Peaks'), ('numberOfAwards', '90')]\n",
      "[('televisionSerie', 'http://www.wikidata.org/entity/Q19570'), ('labelTelevisionSerie', 'The Good Wife'), ('numberOfAwards', '54')]\n",
      "[('televisionSerie', 'http://www.wikidata.org/entity/Q208568'), ('labelTelevisionSerie', 'Everybody Loves Raymond'), ('numberOfAwards', '6')]\n",
      "[('televisionSerie', 'http://www.wikidata.org/entity/Q186219'), ('labelTelevisionSerie', 'True Blood'), ('numberOfAwards', '63')]\n",
      "[('televisionSerie', 'http://www.wikidata.org/entity/Q844059'), ('labelTelevisionSerie', 'New Girl'), ('numberOfAwards', '9')]\n",
      "[('televisionSerie', 'http://www.wikidata.org/entity/Q438406'), ('labelTelevisionSerie', \"Grey's Anatomy\"), ('numberOfAwards', '344')]\n",
      "[('televisionSerie', 'http://www.wikidata.org/entity/Q1109026'), ('labelTelevisionSerie', 'A Different World'), ('numberOfAwards', '9')]\n",
      "[('televisionSerie', 'http://www.wikidata.org/entity/Q321423'), ('labelTelevisionSerie', 'Law & Order'), ('numberOfAwards', '8')]\n",
      "[('televisionSerie', 'http://www.wikidata.org/entity/Q39719'), ('labelTelevisionSerie', 'New York Undercover'), ('numberOfAwards', '8')]\n",
      "[('televisionSerie', 'http://www.wikidata.org/entity/Q323722'), ('labelTelevisionSerie', 'Bates Motel'), ('numberOfAwards', '6')]\n",
      "[('televisionSerie', 'http://www.wikidata.org/entity/Q558112'), ('labelTelevisionSerie', 'Black Mirror'), ('numberOfAwards', '6')]\n",
      "[('televisionSerie', 'http://www.wikidata.org/entity/Q244803'), ('labelTelevisionSerie', 'Ally McBeal'), ('numberOfAwards', '234')]\n",
      "[('televisionSerie', 'http://www.wikidata.org/entity/Q223977'), ('labelTelevisionSerie', 'Mad Men'), ('numberOfAwards', '42')]\n",
      "[('televisionSerie', 'http://www.wikidata.org/entity/Q210257'), ('labelTelevisionSerie', 'MacGyver'), ('numberOfAwards', '6')]\n",
      "[('televisionSerie', 'http://www.wikidata.org/entity/Q672169'), ('labelTelevisionSerie', 'Dharma & Greg'), ('numberOfAwards', '14')]\n",
      "[('televisionSerie', 'http://www.wikidata.org/entity/Q22662417'), ('labelTelevisionSerie', 'Designated Survivor'), ('numberOfAwards', '3')]\n",
      "[('televisionSerie', 'http://www.wikidata.org/entity/Q247643'), ('labelTelevisionSerie', 'Elementary'), ('numberOfAwards', '11')]\n",
      "[('televisionSerie', 'http://www.wikidata.org/entity/Q1079'), ('labelTelevisionSerie', 'Breaking Bad'), ('numberOfAwards', '294')]\n",
      "[('televisionSerie', 'http://www.wikidata.org/entity/Q1138000'), ('labelTelevisionSerie', 'The Middle'), ('numberOfAwards', '14')]\n",
      "[('televisionSerie', 'http://www.wikidata.org/entity/Q256527'), ('labelTelevisionSerie', 'Spin City'), ('numberOfAwards', '9')]\n",
      "[('televisionSerie', 'http://www.wikidata.org/entity/Q833322'), ('labelTelevisionSerie', 'Murder, She Wrote'), ('numberOfAwards', '140')]\n",
      "[('televisionSerie', 'http://www.wikidata.org/entity/Q23609'), ('labelTelevisionSerie', 'Weeds'), ('numberOfAwards', '50')]\n",
      "[('televisionSerie', 'http://www.wikidata.org/entity/Q1031383'), ('labelTelevisionSerie', 'Matlock'), ('numberOfAwards', '3')]\n",
      "[('televisionSerie', 'http://www.wikidata.org/entity/Q8539'), ('labelTelevisionSerie', 'The Big Bang Theory'), ('numberOfAwards', '90')]\n",
      "[('televisionSerie', 'http://www.wikidata.org/entity/Q147235'), ('labelTelevisionSerie', 'How I Met Your Mother'), ('numberOfAwards', '161')]\n",
      "[('televisionSerie', 'http://www.wikidata.org/entity/Q1144624'), ('labelTelevisionSerie', 'Family Ties'), ('numberOfAwards', '3')]\n",
      "[('televisionSerie', 'http://www.wikidata.org/entity/Q34659'), ('labelTelevisionSerie', 'My Name Is Earl'), ('numberOfAwards', '168')]\n",
      "[('televisionSerie', 'http://www.wikidata.org/entity/Q4525'), ('labelTelevisionSerie', 'NCIS'), ('numberOfAwards', '86')]\n",
      "[('televisionSerie', 'http://www.wikidata.org/entity/Q1030713'), ('labelTelevisionSerie', 'Another World'), ('numberOfAwards', '80')]\n",
      "[('televisionSerie', 'http://www.wikidata.org/entity/Q575373'), ('labelTelevisionSerie', 'Roseanne'), ('numberOfAwards', '12')]\n",
      "[('televisionSerie', 'http://www.wikidata.org/entity/Q7099650'), ('labelTelevisionSerie', 'Orange Is the New Black'), ('numberOfAwards', '6')]\n",
      "[('televisionSerie', 'http://www.wikidata.org/entity/Q117396'), ('labelTelevisionSerie', 'CSI: Vegas'), ('numberOfAwards', '534')]\n",
      "[('televisionSerie', 'http://www.wikidata.org/entity/Q1145764'), ('labelTelevisionSerie', 'Guiding Light'), ('numberOfAwards', '9')]\n",
      "[('televisionSerie', 'http://www.wikidata.org/entity/Q232737'), ('labelTelevisionSerie', 'The Walking Dead'), ('numberOfAwards', '21')]\n",
      "[('televisionSerie', 'http://www.wikidata.org/entity/Q16756'), ('labelTelevisionSerie', 'Modern Family'), ('numberOfAwards', '99')]\n",
      "[('televisionSerie', 'http://www.wikidata.org/entity/Q1132439'), ('labelTelevisionSerie', 'The Practice'), ('numberOfAwards', '12')]\n",
      "[('televisionSerie', 'http://www.wikidata.org/entity/Q18844729'), ('labelTelevisionSerie', 'Mr. Robot'), ('numberOfAwards', '12')]\n",
      "[('televisionSerie', 'http://www.wikidata.org/entity/Q1068952'), ('labelTelevisionSerie', 'St. Elsewhere'), ('numberOfAwards', '24')]\n",
      "[('televisionSerie', 'http://www.wikidata.org/entity/Q21296543'), ('labelTelevisionSerie', 'Star Trek: Discovery'), ('numberOfAwards', '6')]\n",
      "[('televisionSerie', 'http://www.wikidata.org/entity/Q1758072'), ('labelTelevisionSerie', 'Lilyhammer'), ('numberOfAwards', '3')]\n",
      "[('televisionSerie', 'http://www.wikidata.org/entity/Q728443'), ('labelTelevisionSerie', 'Hawaii Five-0'), ('numberOfAwards', '55')]\n",
      "[('televisionSerie', 'http://www.wikidata.org/entity/Q1168760'), ('labelTelevisionSerie', 'Upstairs, Downstairs'), ('numberOfAwards', '5')]\n",
      "[('televisionSerie', 'http://www.wikidata.org/entity/Q1050603'), ('labelTelevisionSerie', 'Deadwood'), ('numberOfAwards', '30')]\n",
      "61\n"
     ]
    }
   ],
   "source": [
    "queryString = \"\"\"\n",
    "#Not distinct on count because a tvSerie can win the same award more than one time in different years\n",
    "SELECT DISTINCT ?televisionSerie ?labelTelevisionSerie (COUNT(?award) AS ?numberOfAwards)\n",
    "{\n",
    "    ?televisionSerie wdt:P161 ?castMember ;\n",
    "                     wdt:P31 wd:Q5398426 ;\n",
    "                     wdt:P166 ?award ;\n",
    "                     sc:name ?labelTelevisionSerie .\n",
    "    \n",
    "    \n",
    "    #Cast Members of Cold Case\n",
    "    {\n",
    "        SELECT DISTINCT ?castMember ?labelCastMember \n",
    "        WHERE \n",
    "        {   \n",
    "            #Cast Members of wd:Q733960 \n",
    "            {\n",
    "                SELECT DISTINCT ?castMember ?labelCastMember\n",
    "                WHERE\n",
    "                {\n",
    "                    wd:Q733960 wdt:P161 ?castMember .\n",
    "                    ?castMember sc:name ?labelCastMember .\n",
    "                }\n",
    "            }    \n",
    "            #Cast Members of seasons of wd:Q733960 \n",
    "            UNION\n",
    "            {\n",
    "                SELECT DISTINCT ?castMember ?labelCastMember\n",
    "                WHERE\n",
    "                {\n",
    "                    wd:Q733960 wdt:P527 ?season .\n",
    "                    ?season wdt:P161 ?castMember .\n",
    "                    ?castMember sc:name ?labelCastMember .\n",
    "                }\n",
    "            }       \n",
    "            #Cast Members of episodes of wd:Q733960 \n",
    "            UNION\n",
    "            {\n",
    "                SELECT DISTINCT ?castMember ?labelCastMember\n",
    "                WHERE\n",
    "                {\n",
    "                    wd:Q733960 wdt:P527 ?season .\n",
    "                    ?season wdt:P527 ?episode .\n",
    "                    ?episode wdt:P161 ?castMember .\n",
    "                    ?castMember sc:name ?labelCastMember .\n",
    "                }\n",
    "            }\n",
    "            ?castMember wdt:P106 ?occupation .\n",
    "            ?occupation sc:name ?labelOccupation .    \n",
    "            FILTER (REGEX (?labelOccupation, \"(?:^|\\\\\\\\W)actor(?:$|\\\\\\\\W)\") || REGEX (?labelOccupation, \"(?:^|\\\\\\\\W)actress(?:$|\\\\\\\\W)\"))  .\n",
    "        }\n",
    "    }\n",
    "}GROUP BY ?televisionSerie ?labelTelevisionSerie\n",
    "HAVING (COUNT(?award) > 2)\n",
    "\"\"\"\n",
    "print(\"Results\")\n",
    "x=run_query(queryString)"
   ]
  }
 ],
 "metadata": {
  "kernelspec": {
   "display_name": "Python 3",
   "language": "python",
   "name": "python3"
  },
  "language_info": {
   "codemirror_mode": {
    "name": "ipython",
    "version": 3
   },
   "file_extension": ".py",
   "mimetype": "text/x-python",
   "name": "python",
   "nbconvert_exporter": "python",
   "pygments_lexer": "ipython3",
   "version": "3.7.10"
  }
 },
 "nbformat": 4,
 "nbformat_minor": 5
}
