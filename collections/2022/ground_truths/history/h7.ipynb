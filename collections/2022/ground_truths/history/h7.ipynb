{
 "cells": [
  {
   "cell_type": "markdown",
   "id": "7034c3bf-6eb0-4418-8687-7b9d2a501103",
   "metadata": {},
   "source": [
    "# General instructions\n",
    "\n",
    "The goal of the project is to materialize a set of **exploratory workloads** over a real-world, large-scale,  open-domain KG: [WikiData](https://www.wikidata.org/wiki/Wikidata:Main_Page)\n",
    "\n",
    "An exploratory workload  is composed by a set of queries, where each query is related to the information obtained previously.\n",
    "\n",
    "An exploratory workload starts with a usually vague, open ended question, and does not assume the person issuing the workload has a clear understanding of the data contained in the target database or its structure.\n",
    "\n",
    "Remeber that:\n",
    "\n",
    "1. All the queries must run in the python notebook\n",
    "2. You can use classes and properties only if you find them via a SPARQL query that must be present in the notebook\n",
    "3. You do not delete useless queries. Keep everything that is synthatically valid \n",
    "\n",
    "```\n",
    "?p <http://schema.org/name> ?name .\n",
    "```\n",
    "    \n",
    "    is the BGP returning a human-readable name of a property or a class in Wikidata."
   ]
  },
  {
   "cell_type": "code",
   "execution_count": 2,
   "id": "3605c9d5-5371-49a5-be8d-d66e8f417139",
   "metadata": {},
   "outputs": [],
   "source": [
    "## SETUP used later\n",
    "import sys\n",
    "import os\n",
    "import json\n",
    "import pandas as pd\n",
    "sys.path.insert(1, '/locale/data/jupyter/prando/notebook/sparqlthesis/')\n",
    "import modules.evaluation as evaluation\n",
    "from SPARQLWrapper import SPARQLWrapper, JSON\n",
    "\n",
    "\n",
    "prefixString = \"\"\"\n",
    "##-history7-##\n",
    "PREFIX wd: <http://www.wikidata.org/entity/> \n",
    "PREFIX wdt: <http://www.wikidata.org/prop/direct/> \n",
    "PREFIX sc: <http://schema.org/>\n",
    "\"\"\"\n",
    "\n",
    "# select and construct queries\n",
    "def run_query(queryString,verbose = True):\n",
    "    to_run = prefixString + \"\\n\" + queryString\n",
    "\n",
    "    sparql = SPARQLWrapper(\"http://gracevirtuoso.dei.unipd.it/sparql\")\n",
    "    sparql.setTimeout(300)\n",
    "    sparql.setReturnFormat(JSON)\n",
    "    sparql.setQuery(to_run)\n",
    "\n",
    "    try :\n",
    "        results = sparql.query()\n",
    "        json_results = results.convert()\n",
    "        if len(json_results['results']['bindings'])==0:\n",
    "            print(\"Empty\")\n",
    "            return []\n",
    "        array = []\n",
    "        for bindings in json_results['results']['bindings']:\n",
    "            app =  [ (var, value['value'])  for var, value in bindings.items() ] \n",
    "            if verbose:\n",
    "                print( app)\n",
    "            array.append(app)\n",
    "        if verbose:\n",
    "            print(len(array))\n",
    "        return array\n",
    "\n",
    "    except Exception as e :\n",
    "        print(\"The operation failed\", e)\n",
    "    \n",
    "# ASk queries\n",
    "def run_ask_query(queryString):\n",
    "    to_run = prefixString + \"\\n\" + queryString\n",
    "\n",
    "    sparql = SPARQLWrapper(\"http://gracevirtuoso.dei.unipd.it/sparql\")\n",
    "    sparql.setTimeout(300)\n",
    "    sparql.setReturnFormat(JSON)\n",
    "    sparql.setQuery(to_run)\n",
    "\n",
    "    try :\n",
    "        return sparql.query().convert()\n",
    "\n",
    "    except Exception as e :\n",
    "        print(\"The operation failed\", e)"
   ]
  },
  {
   "cell_type": "markdown",
   "id": "d477a59c-a68c-4c8f-9f97-8ca5294d7d27",
   "metadata": {},
   "source": [
    "# History Workflow Series (\"Literary Movements and physicists explorative search\") \n",
    "\n",
    "Consider the following exploratory information need:\n",
    "\n",
    "> investigate the literary movements and the poets. In particular, compare some physicists in terms of discovers, Nobel Prizes and education."
   ]
  },
  {
   "cell_type": "markdown",
   "id": "4a45c0ba-f79e-441d-bec5-84401b09db70",
   "metadata": {},
   "source": [
    "## Useful URIs for the current workflow\n",
    "The following are given:\n",
    "\n",
    "| IRI           | Description   | Role      |\n",
    "| -----------   | -----------   |-----------|\n",
    "| `wdt:P1647`   | subproperty   | predicate |\n",
    "| `wdt:P31`     | instance of   | predicate |\n",
    "| `wdt:P106`    | occupation    | predicate | \n",
    "| `wdt:P279`    | subclass      | predicate |\n",
    "| `wdt:P27`     | nationality   | predicate |\n",
    "| `wdt:P3342`     | Significant person       | predicate |\n",
    "| `wd:Q5`| Human       | node |\n",
    "| `wd:Q43514`| theory of relativity | node |\n"
   ]
  },
  {
   "cell_type": "markdown",
   "id": "7af439fb-96e4-4dbb-a381-f19afab79f86",
   "metadata": {
    "tags": []
   },
   "source": [
    "\n",
    "\n",
    "\n",
    "Also consider\n",
    "\n",
    "```\n",
    "wd:Q43514 ?p ?obj .\n",
    "```\n",
    "\n",
    "is the BGP to retrieve all **properties of the theory of relativity**\n",
    "\n",
    "Please consider that when you return a resource, you should return the IRI and the label of the resource. In particular, when the task require you to identify a BGP the result set must always be a list of couples IRI - label.\n",
    "\n",
    "The workload should:\n",
    "\n",
    "1. Who invented the theory of relativity? (return the IRI and the label of the inventor).\n",
    "\n",
    "2. Identify the BGP for physicist\n",
    "\n",
    "3. Identify the BGP for Nobel Prize\n",
    "\n",
    "4. Consider physicists born in Europe. For each european country return the number of physicists who won the Nobel Prize in Physics (the result set must be a list of triples country IRI, label and #physicists).\n",
    "\n",
    "5. Return the countries which won at least once all the type of Nobel Prizes with the people born there. (the result set must be a list of couples country IRI and label). \n",
    "\n",
    "6. Amongst the physicists who won the Nobel Prize in Physics, find who had discovered or invented at least 3 things (the result set must be a list of triples physicist IRI, label and #discoveries ).\n",
    "\n",
    "7. Amongst the physicists who won the Nobel Prize in Physics, find who taught in the university of his/her city of birth (the result set must be a list of elements of the form physicist IRI, label, university IRI and label)."
   ]
  },
  {
   "cell_type": "code",
   "execution_count": 3,
   "id": "3e6b2347",
   "metadata": {},
   "outputs": [
    {
     "name": "stdout",
     "output_type": "stream",
     "text": [
      "The index of this workflow is: 1_0\n"
     ]
    }
   ],
   "source": [
    "## startup the evaluation\n",
    "# setup the file and create the empty json\n",
    "ipname = \"h7.ipynb\"\n",
    "pt = os.getcwd()+os.sep+ipname\n",
    "evaluation.setup(pt)"
   ]
  },
  {
   "cell_type": "markdown",
   "id": "e302f1e1-1a0b-44cd-87d5-a65017b37f6d",
   "metadata": {
    "tags": []
   },
   "source": [
    "## Task 1"
   ]
  },
  {
   "cell_type": "code",
   "execution_count": 4,
   "id": "680cf5f4-fa91-4553-839b-333f8fe90bc7",
   "metadata": {},
   "outputs": [
    {
     "name": "stdout",
     "output_type": "stream",
     "text": [
      "Results\n",
      "[('prop', 'http://www.wikidata.org/prop/direct/P1036'), ('name', 'Dewey Decimal Classification')]\n",
      "[('prop', 'http://www.wikidata.org/prop/direct/P1051'), ('name', 'PSH ID')]\n",
      "[('prop', 'http://www.wikidata.org/prop/direct/P1256'), ('name', 'Iconclass notation')]\n",
      "[('prop', 'http://www.wikidata.org/prop/direct/P1417'), ('name', 'Encyclopædia Britannica Online ID')]\n",
      "[('prop', 'http://www.wikidata.org/prop/direct/P1424'), ('name', \"topic's main template\")]\n",
      "[('prop', 'http://www.wikidata.org/prop/direct/P1552'), ('name', 'has quality')]\n",
      "[('prop', 'http://www.wikidata.org/prop/direct/P18'), ('name', 'image')]\n",
      "[('prop', 'http://www.wikidata.org/prop/direct/P227'), ('name', 'GND ID')]\n",
      "[('prop', 'http://www.wikidata.org/prop/direct/P244'), ('name', 'Library of Congress authority ID')]\n",
      "[('prop', 'http://www.wikidata.org/prop/direct/P2581'), ('name', 'BabelNet ID')]\n",
      "[('prop', 'http://www.wikidata.org/prop/direct/P268'), ('name', 'Bibliothèque nationale de France ID')]\n",
      "[('prop', 'http://www.wikidata.org/prop/direct/P279'), ('name', 'subclass of')]\n",
      "[('prop', 'http://www.wikidata.org/prop/direct/P2924'), ('name', 'Great Russian Encyclopedia Online ID')]\n",
      "[('prop', 'http://www.wikidata.org/prop/direct/P31'), ('name', 'instance of')]\n",
      "[('prop', 'http://www.wikidata.org/prop/direct/P3219'), ('name', 'Encyclopædia Universalis ID')]\n",
      "[('prop', 'http://www.wikidata.org/prop/direct/P3417'), ('name', 'Quora topic ID')]\n",
      "[('prop', 'http://www.wikidata.org/prop/direct/P349'), ('name', 'National Diet Library ID')]\n",
      "[('prop', 'http://www.wikidata.org/prop/direct/P3553'), ('name', 'Zhihu topic ID')]\n",
      "[('prop', 'http://www.wikidata.org/prop/direct/P3569'), ('name', 'Cultureel Woordenboek ID')]\n",
      "[('prop', 'http://www.wikidata.org/prop/direct/P361'), ('name', 'part of')]\n",
      "[('prop', 'http://www.wikidata.org/prop/direct/P373'), ('name', 'Commons category')]\n",
      "[('prop', 'http://www.wikidata.org/prop/direct/P3847'), ('name', 'Open Library subject ID')]\n",
      "[('prop', 'http://www.wikidata.org/prop/direct/P3916'), ('name', 'UNESCO Thesaurus ID')]\n",
      "[('prop', 'http://www.wikidata.org/prop/direct/P4466'), ('name', 'Unified Astronomy Thesaurus ID')]\n",
      "[('prop', 'http://www.wikidata.org/prop/direct/P4613'), ('name', 'Encyclopedia of Modern Ukraine ID')]\n",
      "[('prop', 'http://www.wikidata.org/prop/direct/P508'), ('name', 'BNCF Thesaurus ID')]\n",
      "[('prop', 'http://www.wikidata.org/prop/direct/P527'), ('name', 'has part')]\n",
      "[('prop', 'http://www.wikidata.org/prop/direct/P5357'), ('name', 'The Encyclopedia of Science Fiction ID')]\n",
      "[('prop', 'http://www.wikidata.org/prop/direct/P61'), ('name', 'discoverer or inventor')]\n",
      "[('prop', 'http://www.wikidata.org/prop/direct/P6363'), ('name', 'WordLift URL')]\n",
      "[('prop', 'http://www.wikidata.org/prop/direct/P6366'), ('name', 'Microsoft Academic ID')]\n",
      "[('prop', 'http://www.wikidata.org/prop/direct/P646'), ('name', 'Freebase ID')]\n",
      "[('prop', 'http://www.wikidata.org/prop/direct/P6573'), ('name', 'Klexikon article ID')]\n",
      "[('prop', 'http://www.wikidata.org/prop/direct/P7305'), ('name', 'Online PWN Encyclopedia ID')]\n",
      "[('prop', 'http://www.wikidata.org/prop/direct/P7993'), ('name', \"Treccani's Dizionario di Filosofia ID\")]\n",
      "[('prop', 'http://www.wikidata.org/prop/direct/P8408'), ('name', 'KBpedia ID')]\n",
      "[('prop', 'http://www.wikidata.org/prop/direct/P910'), ('name', \"topic's main category\")]\n",
      "[('prop', 'http://www.wikidata.org/prop/direct/P989'), ('name', 'spoken text audio')]\n",
      "38\n"
     ]
    }
   ],
   "source": [
    "# look at the properties of the theory of relativity\n",
    "queryString = \"\"\"\n",
    "SELECT  DISTINCT ?prop ?name \n",
    "WHERE {\n",
    "    wd:Q43514 ?prop ?obj .\n",
    "    ?prop sc:name ?name.\n",
    "}\n",
    "\"\"\"\n",
    "\n",
    "print(\"Results\")\n",
    "x=run_query(queryString)"
   ]
  },
  {
   "cell_type": "code",
   "execution_count": 7,
   "id": "a39267f2-5a8c-48a6-b6e5-a70a301aa420",
   "metadata": {},
   "outputs": [
    {
     "name": "stdout",
     "output_type": "stream",
     "text": [
      "Results\n",
      "[('obj', 'http://www.wikidata.org/entity/Q937'), ('name', 'Albert Einstein')]\n",
      "1\n"
     ]
    }
   ],
   "source": [
    "# use invetor\n",
    "queryString = \"\"\"\n",
    "SELECT  DISTINCT ?obj ?name \n",
    "WHERE {\n",
    "    wd:Q43514 wdt:P61 ?obj .\n",
    "    ?obj sc:name ?name.\n",
    "}\n",
    "\"\"\"\n",
    "\n",
    "print(\"Results\")\n",
    "x=run_query(queryString)"
   ]
  },
  {
   "cell_type": "code",
   "execution_count": 8,
   "id": "65d2ac78",
   "metadata": {},
   "outputs": [
    {
     "name": "stdout",
     "output_type": "stream",
     "text": [
      "The index of this workflow is: 1_0\n",
      "The path is /locale/data/jupyter/prando/notebook/2022/results/workflow1_0.json\n",
      "JSON object updated\n"
     ]
    }
   ],
   "source": [
    "### insert the result of TASK 1 in the file\n",
    "og_uri = \"http://www.wikidata.org/entity/Q937\"\n",
    "og_name = \"Albert Einstein\"\n",
    "obj = {\"uri\":og_uri,\"name\":og_name}\n",
    "evaluation.add_result(evaluation.get_index_workflow(pt),\"1\", evaluation.TYPE_SINGLE ,\"uri\", [obj] ,\"all\")"
   ]
  },
  {
   "cell_type": "markdown",
   "id": "130c4e78-ec70-48c2-aba0-5bb0d0f63286",
   "metadata": {
    "tags": []
   },
   "source": [
    "## Task 2"
   ]
  },
  {
   "cell_type": "code",
   "execution_count": 10,
   "id": "4c1877cd-2aaf-4b28-85d2-8fe7a6216917",
   "metadata": {},
   "outputs": [
    {
     "name": "stdout",
     "output_type": "stream",
     "text": [
      "Results\n",
      "[('obj', 'http://www.wikidata.org/entity/Q121594'), ('name', 'professor')]\n",
      "[('obj', 'http://www.wikidata.org/entity/Q1231865'), ('name', 'pedagogue')]\n",
      "[('obj', 'http://www.wikidata.org/entity/Q15980158'), ('name', 'non-fiction writer')]\n",
      "[('obj', 'http://www.wikidata.org/entity/Q1622272'), ('name', 'university teacher')]\n",
      "[('obj', 'http://www.wikidata.org/entity/Q169470'), ('name', 'physicist')]\n",
      "[('obj', 'http://www.wikidata.org/entity/Q170790'), ('name', 'mathematician')]\n",
      "[('obj', 'http://www.wikidata.org/entity/Q205375'), ('name', 'inventor')]\n",
      "[('obj', 'http://www.wikidata.org/entity/Q36180'), ('name', 'writer')]\n",
      "[('obj', 'http://www.wikidata.org/entity/Q37226'), ('name', 'teacher')]\n",
      "[('obj', 'http://www.wikidata.org/entity/Q4964182'), ('name', 'philosopher')]\n",
      "[('obj', 'http://www.wikidata.org/entity/Q901'), ('name', 'scientist')]\n",
      "[('obj', 'http://www.wikidata.org/entity/Q19350898'), ('name', 'theoretical physicist')]\n",
      "[('obj', 'http://www.wikidata.org/entity/Q16389557'), ('name', 'philosopher of science')]\n",
      "[('obj', 'http://www.wikidata.org/entity/Q3745071'), ('name', 'science writer')]\n",
      "[('obj', 'http://www.wikidata.org/entity/Q2896489'), ('name', 'patent examiner')]\n",
      "15\n"
     ]
    }
   ],
   "source": [
    "# list Einstein's occupations\n",
    "queryString = \"\"\"\n",
    "SELECT  DISTINCT ?obj ?name \n",
    "WHERE {\n",
    "    wd:Q937 wdt:P106 ?obj .\n",
    "    ?obj sc:name ?name.\n",
    "}\n",
    "\"\"\"\n",
    "\n",
    "print(\"Results\")\n",
    "x=run_query(queryString)"
   ]
  },
  {
   "cell_type": "code",
   "execution_count": 11,
   "id": "55cb9adf",
   "metadata": {},
   "outputs": [
    {
     "name": "stdout",
     "output_type": "stream",
     "text": [
      "The index of this workflow is: 1_0\n",
      "The path is /locale/data/jupyter/prando/notebook/2022/results/workflow1_0.json\n",
      "JSON object updated\n"
     ]
    }
   ],
   "source": [
    "### insert the result of TASK 2 in the file\n",
    "og_uri = \"http://www.wikidata.org/entity/Q169470\"\n",
    "og_name = \"physicist\"\n",
    "obj = {\"uri\":og_uri,\"name\":og_name}\n",
    "evaluation.add_result(evaluation.get_index_workflow(pt),\"2\", evaluation.TYPE_SINGLE ,\"uri\", [obj] ,\"all\")"
   ]
  },
  {
   "cell_type": "markdown",
   "id": "5d5b2bf2",
   "metadata": {},
   "source": [
    "`Q169470` -> physicist"
   ]
  },
  {
   "cell_type": "markdown",
   "id": "79bb69bf-e2dd-4603-b495-63befc6d42d1",
   "metadata": {
    "jp-MarkdownHeadingCollapsed": true,
    "tags": []
   },
   "source": [
    "## Task 3"
   ]
  },
  {
   "cell_type": "code",
   "execution_count": 12,
   "id": "8067e707-ec5d-48d1-83f2-059be02d4d0c",
   "metadata": {},
   "outputs": [
    {
     "name": "stdout",
     "output_type": "stream",
     "text": [
      "Results\n",
      "[('pr', 'http://www.wikidata.org/prop/direct/P101'), ('name', 'field of work')]\n",
      "[('pr', 'http://www.wikidata.org/prop/direct/P102'), ('name', 'member of political party')]\n",
      "[('pr', 'http://www.wikidata.org/prop/direct/P103'), ('name', 'native language')]\n",
      "[('pr', 'http://www.wikidata.org/prop/direct/P1038'), ('name', 'relative')]\n",
      "[('pr', 'http://www.wikidata.org/prop/direct/P106'), ('name', 'occupation')]\n",
      "[('pr', 'http://www.wikidata.org/prop/direct/P1066'), ('name', 'student of')]\n",
      "[('pr', 'http://www.wikidata.org/prop/direct/P108'), ('name', 'employer')]\n",
      "[('pr', 'http://www.wikidata.org/prop/direct/P109'), ('name', 'signature')]\n",
      "[('pr', 'http://www.wikidata.org/prop/direct/P119'), ('name', 'place of burial')]\n",
      "[('pr', 'http://www.wikidata.org/prop/direct/P1196'), ('name', 'manner of death')]\n",
      "[('pr', 'http://www.wikidata.org/prop/direct/P1343'), ('name', 'described by source')]\n",
      "[('pr', 'http://www.wikidata.org/prop/direct/P1344'), ('name', 'participant in')]\n",
      "[('pr', 'http://www.wikidata.org/prop/direct/P140'), ('name', 'religion')]\n",
      "[('pr', 'http://www.wikidata.org/prop/direct/P1411'), ('name', 'nominated for')]\n",
      "[('pr', 'http://www.wikidata.org/prop/direct/P1412'), ('name', 'languages spoken, written or signed')]\n",
      "[('pr', 'http://www.wikidata.org/prop/direct/P1424'), ('name', \"topic's main template\")]\n",
      "[('pr', 'http://www.wikidata.org/prop/direct/P1441'), ('name', 'present in work')]\n",
      "[('pr', 'http://www.wikidata.org/prop/direct/P166'), ('name', 'award received')]\n",
      "[('pr', 'http://www.wikidata.org/prop/direct/P172'), ('name', 'ethnic group')]\n",
      "[('pr', 'http://www.wikidata.org/prop/direct/P18'), ('name', 'image')]\n",
      "[('pr', 'http://www.wikidata.org/prop/direct/P1801'), ('name', 'commemorative plaque image')]\n",
      "[('pr', 'http://www.wikidata.org/prop/direct/P184'), ('name', 'doctoral advisor')]\n",
      "[('pr', 'http://www.wikidata.org/prop/direct/P19'), ('name', 'place of birth')]\n",
      "[('pr', 'http://www.wikidata.org/prop/direct/P20'), ('name', 'place of death')]\n",
      "[('pr', 'http://www.wikidata.org/prop/direct/P21'), ('name', 'sex or gender')]\n",
      "[('pr', 'http://www.wikidata.org/prop/direct/P22'), ('name', 'father')]\n",
      "[('pr', 'http://www.wikidata.org/prop/direct/P25'), ('name', 'mother')]\n",
      "[('pr', 'http://www.wikidata.org/prop/direct/P26'), ('name', 'spouse')]\n",
      "[('pr', 'http://www.wikidata.org/prop/direct/P27'), ('name', 'country of citizenship')]\n",
      "[('pr', 'http://www.wikidata.org/prop/direct/P2888'), ('name', 'exact match')]\n",
      "[('pr', 'http://www.wikidata.org/prop/direct/P2959'), ('name', 'permanent duplicated item')]\n",
      "[('pr', 'http://www.wikidata.org/prop/direct/P31'), ('name', 'instance of')]\n",
      "[('pr', 'http://www.wikidata.org/prop/direct/P3373'), ('name', 'sibling')]\n",
      "[('pr', 'http://www.wikidata.org/prop/direct/P39'), ('name', 'position held')]\n",
      "[('pr', 'http://www.wikidata.org/prop/direct/P40'), ('name', 'child')]\n",
      "[('pr', 'http://www.wikidata.org/prop/direct/P443'), ('name', 'pronunciation audio')]\n",
      "[('pr', 'http://www.wikidata.org/prop/direct/P463'), ('name', 'member of')]\n",
      "[('pr', 'http://www.wikidata.org/prop/direct/P485'), ('name', 'archives at')]\n",
      "[('pr', 'http://www.wikidata.org/prop/direct/P5008'), ('name', 'on focus list of Wikimedia project')]\n",
      "[('pr', 'http://www.wikidata.org/prop/direct/P5021'), ('name', 'assessment')]\n",
      "[('pr', 'http://www.wikidata.org/prop/direct/P509'), ('name', 'cause of death')]\n",
      "[('pr', 'http://www.wikidata.org/prop/direct/P512'), ('name', 'academic degree')]\n",
      "[('pr', 'http://www.wikidata.org/prop/direct/P5125'), ('name', 'Wikimedia outline')]\n",
      "[('pr', 'http://www.wikidata.org/prop/direct/P551'), ('name', 'residence')]\n",
      "[('pr', 'http://www.wikidata.org/prop/direct/P6363'), ('name', 'WordLift URL')]\n",
      "[('pr', 'http://www.wikidata.org/prop/direct/P6886'), ('name', 'writing language')]\n",
      "[('pr', 'http://www.wikidata.org/prop/direct/P69'), ('name', 'educated at')]\n",
      "[('pr', 'http://www.wikidata.org/prop/direct/P734'), ('name', 'family name')]\n",
      "[('pr', 'http://www.wikidata.org/prop/direct/P735'), ('name', 'given name')]\n",
      "[('pr', 'http://www.wikidata.org/prop/direct/P737'), ('name', 'influenced by')]\n",
      "[('pr', 'http://www.wikidata.org/prop/direct/P800'), ('name', 'notable work')]\n",
      "[('pr', 'http://www.wikidata.org/prop/direct/P802'), ('name', 'student')]\n",
      "[('pr', 'http://www.wikidata.org/prop/direct/P803'), ('name', 'professorship')]\n",
      "[('pr', 'http://www.wikidata.org/prop/direct/P856'), ('name', 'official website')]\n",
      "[('pr', 'http://www.wikidata.org/prop/direct/P8852'), ('name', 'facial hair')]\n",
      "[('pr', 'http://www.wikidata.org/prop/direct/P910'), ('name', \"topic's main category\")]\n",
      "[('pr', 'http://www.wikidata.org/prop/direct/P937'), ('name', 'work location')]\n",
      "[('pr', 'http://www.wikidata.org/prop/direct/P973'), ('name', 'described at URL')]\n",
      "[('pr', 'http://www.wikidata.org/prop/direct/P989'), ('name', 'spoken text audio')]\n",
      "[('pr', 'http://www.wikidata.org/prop/direct/P990'), ('name', \"audio recording of the subject's spoken voice\")]\n",
      "[('pr', 'http://www.wikidata.org/prop/direct/P1321'), ('name', 'place of origin (Switzerland)')]\n",
      "61\n"
     ]
    }
   ],
   "source": [
    "# look for object properties of Einstein\n",
    "queryString = \"\"\"\n",
    "SELECT  DISTINCT ?pr ?name \n",
    "WHERE {\n",
    "    wd:Q937 ?pr ?obj .\n",
    "    ?pr sc:name ?name.\n",
    "    filter(!isLiteral(?obj)).\n",
    "}\n",
    "\"\"\"\n",
    "\n",
    "print(\"Results\")\n",
    "x=run_query(queryString)"
   ]
  },
  {
   "cell_type": "code",
   "execution_count": 13,
   "id": "f0754e63-e714-4b7a-99ca-9499ff10fb17",
   "metadata": {},
   "outputs": [
    {
     "name": "stdout",
     "output_type": "stream",
     "text": [
      "Results\n",
      "[('obj', 'http://www.wikidata.org/entity/Q1419938'), ('name', 'Matteucci Medal')]\n",
      "[('obj', 'http://www.wikidata.org/entity/Q14906020'), ('name', 'Foreign Member of the Royal Society')]\n",
      "[('obj', 'http://www.wikidata.org/entity/Q15056034'), ('name', 'Pour le Mérite for Sciences and Arts')]\n",
      "[('obj', 'http://www.wikidata.org/entity/Q25287226'), ('name', 'Honorary doctor of the University of Geneva')]\n",
      "[('obj', 'http://www.wikidata.org/entity/Q28003'), ('name', 'Copley Medal')]\n",
      "[('obj', 'http://www.wikidata.org/entity/Q28861731'), ('name', 'honorary doctor of the Hebrew University of Jerusalem')]\n",
      "[('obj', 'http://www.wikidata.org/entity/Q38104'), ('name', 'Nobel Prize in Physics')]\n",
      "[('obj', 'http://www.wikidata.org/entity/Q42309226'), ('name', 'honorary doctor of the Princeton University')]\n",
      "[('obj', 'http://www.wikidata.org/entity/Q50621171'), ('name', 'honorary doctor of the University of Madrid Complutense')]\n",
      "[('obj', 'http://www.wikidata.org/entity/Q3141777'), ('name', 'Franklin Medal')]\n",
      "[('obj', 'http://www.wikidata.org/entity/Q63315195'), ('name', 'Member of the National Academy of Sciences of the United States')]\n",
      "[('obj', 'http://www.wikidata.org/entity/Q1711648'), ('name', 'Prix Jules Janssen')]\n",
      "[('obj', 'http://www.wikidata.org/entity/Q753072'), ('name', 'Gold Medal of the Royal Astronomical Society')]\n",
      "[('obj', 'http://www.wikidata.org/entity/Q1522873'), ('name', 'Josiah Willard Gibbs Lectureship')]\n",
      "[('obj', 'http://www.wikidata.org/entity/Q317038'), ('name', 'Max Planck Medal')]\n",
      "[('obj', 'http://www.wikidata.org/entity/Q808424'), ('name', 'Barnard Medal for Meritorious Service to Science')]\n",
      "16\n"
     ]
    }
   ],
   "source": [
    "# list the awards received\n",
    "queryString = \"\"\"\n",
    "SELECT  DISTINCT ?obj ?name \n",
    "WHERE {\n",
    "    wd:Q937 wdt:P166 ?obj .\n",
    "    ?obj sc:name ?name.\n",
    "}\n",
    "\"\"\"\n",
    "\n",
    "print(\"Results\")\n",
    "x=run_query(queryString)"
   ]
  },
  {
   "cell_type": "code",
   "execution_count": 15,
   "id": "137aad6c-81a5-4d90-97d5-8a694ce0c492",
   "metadata": {},
   "outputs": [
    {
     "name": "stdout",
     "output_type": "stream",
     "text": [
      "Results\n",
      "[('obj', 'http://www.wikidata.org/entity/Q107494520'), ('name', 'physics award')]\n",
      "1\n"
     ]
    }
   ],
   "source": [
    "# class of Nobel Prize in Physics\n",
    "queryString = \"\"\"\n",
    "SELECT  DISTINCT ?obj ?name \n",
    "WHERE {\n",
    "    wd:Q38104 wdt:P31 ?obj .\n",
    "    ?obj sc:name ?name.\n",
    "}\n",
    "\"\"\"\n",
    "\n",
    "print(\"Results\")\n",
    "x=run_query(queryString)"
   ]
  },
  {
   "cell_type": "code",
   "execution_count": 16,
   "id": "a0456c51-e48b-48fa-a810-6adc6ba3203f",
   "metadata": {},
   "outputs": [
    {
     "name": "stdout",
     "output_type": "stream",
     "text": [
      "Results\n",
      "[('pr', 'http://www.wikidata.org/prop/direct/P1296'), ('name', 'Gran Enciclopèdia Catalana ID')]\n",
      "[('pr', 'http://www.wikidata.org/prop/direct/P1346'), ('name', 'winner')]\n",
      "[('pr', 'http://www.wikidata.org/prop/direct/P138'), ('name', 'named after')]\n",
      "[('pr', 'http://www.wikidata.org/prop/direct/P1417'), ('name', 'Encyclopædia Britannica Online ID')]\n",
      "[('pr', 'http://www.wikidata.org/prop/direct/P155'), ('name', 'follows')]\n",
      "[('pr', 'http://www.wikidata.org/prop/direct/P17'), ('name', 'country')]\n",
      "[('pr', 'http://www.wikidata.org/prop/direct/P18'), ('name', 'image')]\n",
      "[('pr', 'http://www.wikidata.org/prop/direct/P227'), ('name', 'GND ID')]\n",
      "[('pr', 'http://www.wikidata.org/prop/direct/P276'), ('name', 'location')]\n",
      "[('pr', 'http://www.wikidata.org/prop/direct/P279'), ('name', 'subclass of')]\n",
      "[('pr', 'http://www.wikidata.org/prop/direct/P31'), ('name', 'instance of')]\n",
      "[('pr', 'http://www.wikidata.org/prop/direct/P3417'), ('name', 'Quora topic ID')]\n",
      "[('pr', 'http://www.wikidata.org/prop/direct/P3553'), ('name', 'Zhihu topic ID')]\n",
      "[('pr', 'http://www.wikidata.org/prop/direct/P361'), ('name', 'part of')]\n",
      "[('pr', 'http://www.wikidata.org/prop/direct/P373'), ('name', 'Commons category')]\n",
      "[('pr', 'http://www.wikidata.org/prop/direct/P444'), ('name', 'review score')]\n",
      "[('pr', 'http://www.wikidata.org/prop/direct/P571'), ('name', 'inception')]\n",
      "[('pr', 'http://www.wikidata.org/prop/direct/P6363'), ('name', 'WordLift URL')]\n",
      "[('pr', 'http://www.wikidata.org/prop/direct/P646'), ('name', 'Freebase ID')]\n",
      "[('pr', 'http://www.wikidata.org/prop/direct/P7502'), ('name', 'Golden ID')]\n",
      "[('pr', 'http://www.wikidata.org/prop/direct/P8309'), ('name', 'Yle topic ID')]\n",
      "[('pr', 'http://www.wikidata.org/prop/direct/P8408'), ('name', 'KBpedia ID')]\n",
      "[('pr', 'http://www.wikidata.org/prop/direct/P856'), ('name', 'official website')]\n",
      "[('pr', 'http://www.wikidata.org/prop/direct/P910'), ('name', \"topic's main category\")]\n",
      "[('pr', 'http://www.wikidata.org/prop/direct/P9100'), ('name', 'GitHub topic')]\n",
      "[('pr', 'http://www.wikidata.org/prop/direct/P935'), ('name', 'Commons gallery')]\n",
      "[('pr', 'http://www.wikidata.org/prop/direct/P9545'), ('name', 'Encyclopedia of China Online Database ID')]\n",
      "[('pr', 'http://www.wikidata.org/prop/direct/P989'), ('name', 'spoken text audio')]\n",
      "[('pr', 'http://www.wikidata.org/prop/direct/P1027'), ('name', 'conferred by')]\n",
      "[('pr', 'http://www.wikidata.org/prop/direct/P2517'), ('name', 'category for recipients of this award')]\n",
      "30\n"
     ]
    }
   ],
   "source": [
    "# look at the properties of Nobel Prize iun Physics\n",
    "queryString = \"\"\"\n",
    "SELECT  DISTINCT ?pr ?name \n",
    "WHERE {\n",
    "    wd:Q38104 ?pr ?obj .\n",
    "    ?pr sc:name ?name.\n",
    "}\n",
    "\"\"\"\n",
    "\n",
    "print(\"Results\")\n",
    "x=run_query(queryString)"
   ]
  },
  {
   "cell_type": "code",
   "execution_count": 17,
   "id": "cf8c6245-7bc2-44f2-8b22-bc203e861fb4",
   "metadata": {},
   "outputs": [
    {
     "name": "stdout",
     "output_type": "stream",
     "text": [
      "Results\n",
      "[('obj', 'http://www.wikidata.org/entity/Q7191'), ('name', 'Nobel Prize')]\n",
      "1\n"
     ]
    }
   ],
   "source": [
    "# Nobel Prize iun Physics is part of Nobel Prize\n",
    "queryString = \"\"\"\n",
    "SELECT  DISTINCT ?obj ?name \n",
    "WHERE {\n",
    "    wd:Q38104 wdt:P361 ?obj .\n",
    "    ?obj sc:name ?name.\n",
    "}\n",
    "\"\"\"\n",
    "\n",
    "print(\"Results\")\n",
    "x=run_query(queryString)"
   ]
  },
  {
   "cell_type": "code",
   "execution_count": 18,
   "id": "aa963496",
   "metadata": {},
   "outputs": [
    {
     "name": "stdout",
     "output_type": "stream",
     "text": [
      "The index of this workflow is: 1_0\n",
      "The path is /locale/data/jupyter/prando/notebook/2022/results/workflow1_0.json\n",
      "JSON object updated\n"
     ]
    }
   ],
   "source": [
    "### insert the result of TASK 3 in the file\n",
    "og_uri = \"http://www.wikidata.org/entity/Q7191\"\n",
    "og_name = \"Nobel Prize\"\n",
    "obj = {\"uri\":og_uri,\"name\":og_name}\n",
    "evaluation.add_result(evaluation.get_index_workflow(pt),\"3\", evaluation.TYPE_SINGLE ,\"uri\", [obj] ,\"all\")"
   ]
  },
  {
   "cell_type": "markdown",
   "id": "07770784-9580-4ecd-991d-654b290bbd15",
   "metadata": {
    "tags": []
   },
   "source": [
    "## Task 4"
   ]
  },
  {
   "cell_type": "code",
   "execution_count": 19,
   "id": "0ff0c9b4-7945-4c02-9276-11096f1c7b6b",
   "metadata": {},
   "outputs": [
    {
     "name": "stdout",
     "output_type": "stream",
     "text": [
      "Results\n",
      "[('country', 'http://www.wikidata.org/entity/Q212'), ('name', 'Ukraine'), ('winners', '1')]\n",
      "[('country', 'http://www.wikidata.org/entity/Q27'), ('name', 'Ireland'), ('winners', '1')]\n",
      "[('country', 'http://www.wikidata.org/entity/Q28'), ('name', 'Hungary'), ('winners', '2')]\n",
      "[('country', 'http://www.wikidata.org/entity/Q32'), ('name', 'Luxembourg'), ('winners', '1')]\n",
      "[('country', 'http://www.wikidata.org/entity/Q756617'), ('name', 'Danish Realm'), ('winners', '2')]\n",
      "[('country', 'http://www.wikidata.org/entity/Q34'), ('name', 'Sweden'), ('winners', '4')]\n",
      "[('country', 'http://www.wikidata.org/entity/Q39'), ('name', 'Switzerland'), ('winners', '6')]\n",
      "[('country', 'http://www.wikidata.org/entity/Q36'), ('name', 'Poland'), ('winners', '7')]\n",
      "[('country', 'http://www.wikidata.org/entity/Q55'), ('name', 'Netherlands'), ('winners', '9')]\n",
      "[('country', 'http://www.wikidata.org/entity/Q31'), ('name', 'Belgium'), ('winners', '1')]\n",
      "[('country', 'http://www.wikidata.org/entity/Q184'), ('name', 'Belarus'), ('winners', '1')]\n",
      "[('country', 'http://www.wikidata.org/entity/Q214'), ('name', 'Slovakia'), ('winners', '1')]\n",
      "[('country', 'http://www.wikidata.org/entity/Q40'), ('name', 'Austria'), ('winners', '3')]\n",
      "[('country', 'http://www.wikidata.org/entity/Q145'), ('name', 'United Kingdom'), ('winners', '24')]\n",
      "[('country', 'http://www.wikidata.org/entity/Q20'), ('name', 'Norway'), ('winners', '1')]\n",
      "[('country', 'http://www.wikidata.org/entity/Q227'), ('name', 'Azerbaijan'), ('winners', '1')]\n",
      "[('country', 'http://www.wikidata.org/entity/Q38'), ('name', 'Italy'), ('winners', '5')]\n",
      "[('country', 'http://www.wikidata.org/entity/Q159'), ('name', 'Russia'), ('winners', '10')]\n",
      "[('country', 'http://www.wikidata.org/entity/Q213'), ('name', 'Czech Republic'), ('winners', '1')]\n",
      "[('country', 'http://www.wikidata.org/entity/Q183'), ('name', 'Germany'), ('winners', '26')]\n",
      "[('country', 'http://www.wikidata.org/entity/Q142'), ('name', 'France'), ('winners', '10')]\n",
      "[('country', 'http://www.wikidata.org/entity/Q29999'), ('name', 'Kingdom of the Netherlands'), ('winners', '1')]\n",
      "22\n"
     ]
    }
   ],
   "source": [
    "# look at Nobel prize in physics winners in Europe\n",
    "queryString = \"\"\"\n",
    "SELECT  DISTINCT ?country ?name COUNT(?obj) AS ?winners \n",
    "WHERE {\n",
    "    ?obj wdt:P166 wd:Q38104 .\n",
    "    ?obj wdt:P19 ?city.\n",
    "    ?city wdt:P17 ?country.\n",
    "    ?country wdt:P30 wd:Q46.\n",
    "    ?country sc:name ?name.\n",
    "}\n",
    "GROUP BY ?country ?name\n",
    "\"\"\"\n",
    "\n",
    "print(\"Results\")\n",
    "x=run_query(queryString)"
   ]
  },
  {
   "cell_type": "code",
   "execution_count": 20,
   "id": "3d3ae3f9",
   "metadata": {},
   "outputs": [
    {
     "name": "stdout",
     "output_type": "stream",
     "text": [
      "The index of this workflow is: 1_0\n",
      "The path is /locale/data/jupyter/prando/notebook/2022/results/workflow1_0.json\n",
      "JSON object updated\n"
     ]
    }
   ],
   "source": [
    "## single literal associated to an URI\n",
    "objs = []\n",
    "for i in x:\n",
    "    f_uri = i[0][1]\n",
    "    f_name = i[1][1]\n",
    "    val = i[2][1]\n",
    "    obj = {}\n",
    "    obj[\"refers_to\"] = f_uri\n",
    "    obj[\"refers_to_name\"] = f_name\n",
    "    obj[\"check\"] = \"value\"\n",
    "    obj[\"value\"]= val\n",
    "    objs.append(obj)\n",
    "evaluation.add_result(evaluation.get_index_workflow(pt),\"4\", evaluation.TYPE_REFERRED ,\"value\", objs)"
   ]
  },
  {
   "cell_type": "markdown",
   "id": "04b9bd90-2164-4960-9740-1ec74ef465c4",
   "metadata": {
    "tags": []
   },
   "source": [
    "## Task 5"
   ]
  },
  {
   "cell_type": "code",
   "execution_count": 21,
   "id": "085bf20f-ca53-463f-82a1-c926b29abd48",
   "metadata": {},
   "outputs": [
    {
     "name": "stdout",
     "output_type": "stream",
     "text": [
      "Results\n",
      "[('country', 'http://www.wikidata.org/entity/Q34'), ('name', 'Sweden')]\n",
      "[('country', 'http://www.wikidata.org/entity/Q16'), ('name', 'Canada')]\n",
      "[('country', 'http://www.wikidata.org/entity/Q40'), ('name', 'Austria')]\n",
      "[('country', 'http://www.wikidata.org/entity/Q183'), ('name', 'Germany')]\n",
      "[('country', 'http://www.wikidata.org/entity/Q142'), ('name', 'France')]\n",
      "[('country', 'http://www.wikidata.org/entity/Q38'), ('name', 'Italy')]\n",
      "[('country', 'http://www.wikidata.org/entity/Q668'), ('name', 'India')]\n",
      "[('country', 'http://www.wikidata.org/entity/Q20'), ('name', 'Norway')]\n",
      "[('country', 'http://www.wikidata.org/entity/Q30'), ('name', 'United States of America')]\n",
      "[('country', 'http://www.wikidata.org/entity/Q145'), ('name', 'United Kingdom')]\n",
      "[('country', 'http://www.wikidata.org/entity/Q36'), ('name', 'Poland')]\n",
      "[('country', 'http://www.wikidata.org/entity/Q159'), ('name', 'Russia')]\n",
      "12\n"
     ]
    }
   ],
   "source": [
    "# look at Nobel prize winners in Europe (get the countries)\n",
    "queryString = \"\"\"\n",
    "SELECT DISTINCT ?country ?name\n",
    "WHERE {\n",
    "    {\n",
    "        SELECT COUNT(DISTINCT ?n) AS ?nNobel WHERE{\n",
    "            ?n wdt:P361 wd:Q7191.\n",
    "        }\n",
    "    }\n",
    "    {\n",
    "        SELECT  DISTINCT ?country ?name COUNT(DISTINCT ?nobel) AS ?winners \n",
    "        WHERE {\n",
    "            ?nobel wdt:P361 wd:Q7191.\n",
    "            ?obj wdt:P166 ?nobel .\n",
    "            ?obj wdt:P19 ?city.\n",
    "            ?city wdt:P17 ?country.\n",
    "            ?country sc:name ?name.\n",
    "        }GROUP BY ?country ?name\n",
    "    }\n",
    "FILTER (?winners = ?nNobel).   \n",
    "} \n",
    "\"\"\"\n",
    "\n",
    "print(\"Results\")\n",
    "x=run_query(queryString)"
   ]
  },
  {
   "cell_type": "code",
   "execution_count": 22,
   "id": "d7e5d85c",
   "metadata": {},
   "outputs": [
    {
     "name": "stdout",
     "output_type": "stream",
     "text": [
      "The index of this workflow is: 1_0\n",
      "The path is /locale/data/jupyter/prando/notebook/2022/results/workflow1_0.json\n",
      "JSON object updated\n"
     ]
    }
   ],
   "source": [
    "obj = [{\"uri\":r[0][1],\"name\":r[1][1]} for r in x]\n",
    "evaluation.add_result(evaluation.get_index_workflow(pt),\"4\", evaluation.TYPE_SET ,\"uri\", obj)"
   ]
  },
  {
   "cell_type": "markdown",
   "id": "67c7ec45-d759-41a5-93c1-23c0aa14547b",
   "metadata": {
    "tags": []
   },
   "source": [
    "## Task 6"
   ]
  },
  {
   "cell_type": "code",
   "execution_count": 25,
   "id": "912b08e2-b2bf-4cb1-adba-1f654f1d3b6c",
   "metadata": {},
   "outputs": [
    {
     "name": "stdout",
     "output_type": "stream",
     "text": [
      "Results\n",
      "[('person', 'http://www.wikidata.org/entity/Q193803'), ('name', 'Roger Penrose'), ('discoveries', '6')]\n",
      "[('person', 'http://www.wikidata.org/entity/Q8753'), ('name', 'Enrico Fermi'), ('discoveries', '6')]\n",
      "[('person', 'http://www.wikidata.org/entity/Q124013'), ('name', 'Didier Queloz'), ('discoveries', '3')]\n",
      "[('person', 'http://www.wikidata.org/entity/Q47480'), ('name', 'Paul Dirac'), ('discoveries', '3')]\n",
      "[('person', 'http://www.wikidata.org/entity/Q937'), ('name', 'Albert Einstein'), ('discoveries', '10')]\n",
      "[('person', 'http://www.wikidata.org/entity/Q173028'), ('name', 'Emilio G. Segrè'), ('discoveries', '3')]\n",
      "[('person', 'http://www.wikidata.org/entity/Q123975'), ('name', 'Michel Mayor'), ('discoveries', '12')]\n",
      "[('person', 'http://www.wikidata.org/entity/Q47285'), ('name', 'J. J. Thomson'), ('discoveries', '3')]\n",
      "[('person', 'http://www.wikidata.org/entity/Q37463'), ('name', 'Pierre Curie'), ('discoveries', '4')]\n",
      "[('person', 'http://www.wikidata.org/entity/Q160518'), ('name', 'Gustaf Dalén'), ('discoveries', '4')]\n",
      "10\n"
     ]
    }
   ],
   "source": [
    "# get the number of discoveries for people who won the Nobel Pize in Physics\n",
    "# filter only whose with at least 3 discoveries\n",
    "queryString = \"\"\"\n",
    "SELECT  ?person ?name COUNT(?disc) AS ?discoveries\n",
    "WHERE {\n",
    "    ?disc wdt:P61 ?person .\n",
    "    ?person wdt:P166 wd:Q38104 .\n",
    "    ?person sc:name ?name.\n",
    "}\n",
    "GROUP BY ?person ?name\n",
    "HAVING(COUNT(?disc) > 2)\n",
    "\"\"\"\n",
    "\n",
    "print(\"Results\")\n",
    "x=run_query(queryString)"
   ]
  },
  {
   "cell_type": "code",
   "execution_count": 26,
   "id": "c497b328",
   "metadata": {},
   "outputs": [
    {
     "name": "stdout",
     "output_type": "stream",
     "text": [
      "The index of this workflow is: 1_0\n",
      "The path is /locale/data/jupyter/prando/notebook/2022/results/workflow1_0.json\n",
      "JSON object updated\n"
     ]
    }
   ],
   "source": [
    "## single literal associated to an URI\n",
    "objs = []\n",
    "for i in x:\n",
    "    f_uri = i[0][1]\n",
    "    f_name = i[1][1]\n",
    "    val = i[2][1]\n",
    "    obj = {}\n",
    "    obj[\"refers_to\"] = f_uri\n",
    "    obj[\"refers_to_name\"] = f_name\n",
    "    obj[\"check\"] = \"value\"\n",
    "    obj[\"value\"]= val\n",
    "    objs.append(obj)\n",
    "evaluation.add_result(evaluation.get_index_workflow(pt),\"6\", evaluation.TYPE_REFERRED ,\"value\", objs)"
   ]
  },
  {
   "cell_type": "markdown",
   "id": "ddffdff7-28b5-43bf-8075-0728e81016be",
   "metadata": {
    "tags": []
   },
   "source": [
    "## Task 7"
   ]
  },
  {
   "cell_type": "code",
   "execution_count": 27,
   "id": "06031f87-c62f-4ad8-b517-7f0e0073c1f6",
   "metadata": {},
   "outputs": [
    {
     "name": "stdout",
     "output_type": "stream",
     "text": [
      "Results\n",
      "[('pr', 'http://www.wikidata.org/prop/direct/P101'), ('name', 'field of work')]\n",
      "[('pr', 'http://www.wikidata.org/prop/direct/P102'), ('name', 'member of political party')]\n",
      "[('pr', 'http://www.wikidata.org/prop/direct/P103'), ('name', 'native language')]\n",
      "[('pr', 'http://www.wikidata.org/prop/direct/P1038'), ('name', 'relative')]\n",
      "[('pr', 'http://www.wikidata.org/prop/direct/P1050'), ('name', 'medical condition')]\n",
      "[('pr', 'http://www.wikidata.org/prop/direct/P106'), ('name', 'occupation')]\n",
      "[('pr', 'http://www.wikidata.org/prop/direct/P1066'), ('name', 'student of')]\n",
      "[('pr', 'http://www.wikidata.org/prop/direct/P108'), ('name', 'employer')]\n",
      "[('pr', 'http://www.wikidata.org/prop/direct/P109'), ('name', 'signature')]\n",
      "[('pr', 'http://www.wikidata.org/prop/direct/P119'), ('name', 'place of burial')]\n",
      "[('pr', 'http://www.wikidata.org/prop/direct/P1196'), ('name', 'manner of death')]\n",
      "[('pr', 'http://www.wikidata.org/prop/direct/P1343'), ('name', 'described by source')]\n",
      "[('pr', 'http://www.wikidata.org/prop/direct/P1344'), ('name', 'participant in')]\n",
      "[('pr', 'http://www.wikidata.org/prop/direct/P140'), ('name', 'religion')]\n",
      "[('pr', 'http://www.wikidata.org/prop/direct/P1411'), ('name', 'nominated for')]\n",
      "[('pr', 'http://www.wikidata.org/prop/direct/P1412'), ('name', 'languages spoken, written or signed')]\n",
      "[('pr', 'http://www.wikidata.org/prop/direct/P1416'), ('name', 'affiliation')]\n",
      "[('pr', 'http://www.wikidata.org/prop/direct/P1441'), ('name', 'present in work')]\n",
      "[('pr', 'http://www.wikidata.org/prop/direct/P1442'), ('name', 'image of grave')]\n",
      "[('pr', 'http://www.wikidata.org/prop/direct/P1576'), ('name', 'lifestyle')]\n",
      "[('pr', 'http://www.wikidata.org/prop/direct/P166'), ('name', 'award received')]\n",
      "[('pr', 'http://www.wikidata.org/prop/direct/P172'), ('name', 'ethnic group')]\n",
      "[('pr', 'http://www.wikidata.org/prop/direct/P18'), ('name', 'image')]\n",
      "[('pr', 'http://www.wikidata.org/prop/direct/P184'), ('name', 'doctoral advisor')]\n",
      "[('pr', 'http://www.wikidata.org/prop/direct/P185'), ('name', 'doctoral student')]\n",
      "[('pr', 'http://www.wikidata.org/prop/direct/P1889'), ('name', 'different from')]\n",
      "[('pr', 'http://www.wikidata.org/prop/direct/P19'), ('name', 'place of birth')]\n",
      "[('pr', 'http://www.wikidata.org/prop/direct/P20'), ('name', 'place of death')]\n",
      "[('pr', 'http://www.wikidata.org/prop/direct/P21'), ('name', 'sex or gender')]\n",
      "[('pr', 'http://www.wikidata.org/prop/direct/P22'), ('name', 'father')]\n",
      "[('pr', 'http://www.wikidata.org/prop/direct/P241'), ('name', 'military branch')]\n",
      "[('pr', 'http://www.wikidata.org/prop/direct/P25'), ('name', 'mother')]\n",
      "[('pr', 'http://www.wikidata.org/prop/direct/P26'), ('name', 'spouse')]\n",
      "[('pr', 'http://www.wikidata.org/prop/direct/P27'), ('name', 'country of citizenship')]\n",
      "[('pr', 'http://www.wikidata.org/prop/direct/P2888'), ('name', 'exact match')]\n",
      "[('pr', 'http://www.wikidata.org/prop/direct/P31'), ('name', 'instance of')]\n",
      "[('pr', 'http://www.wikidata.org/prop/direct/P3342'), ('name', 'significant person')]\n",
      "[('pr', 'http://www.wikidata.org/prop/direct/P3373'), ('name', 'sibling')]\n",
      "[('pr', 'http://www.wikidata.org/prop/direct/P361'), ('name', 'part of')]\n",
      "[('pr', 'http://www.wikidata.org/prop/direct/P39'), ('name', 'position held')]\n",
      "[('pr', 'http://www.wikidata.org/prop/direct/P40'), ('name', 'child')]\n",
      "[('pr', 'http://www.wikidata.org/prop/direct/P410'), ('name', 'military rank')]\n",
      "[('pr', 'http://www.wikidata.org/prop/direct/P443'), ('name', 'pronunciation audio')]\n",
      "[('pr', 'http://www.wikidata.org/prop/direct/P463'), ('name', 'member of')]\n",
      "[('pr', 'http://www.wikidata.org/prop/direct/P485'), ('name', 'archives at')]\n",
      "[('pr', 'http://www.wikidata.org/prop/direct/P5008'), ('name', 'on focus list of Wikimedia project')]\n",
      "[('pr', 'http://www.wikidata.org/prop/direct/P509'), ('name', 'cause of death')]\n",
      "[('pr', 'http://www.wikidata.org/prop/direct/P512'), ('name', 'academic degree')]\n",
      "[('pr', 'http://www.wikidata.org/prop/direct/P53'), ('name', 'family')]\n",
      "[('pr', 'http://www.wikidata.org/prop/direct/P551'), ('name', 'residence')]\n",
      "[('pr', 'http://www.wikidata.org/prop/direct/P6379'), ('name', 'has works in the collection')]\n",
      "[('pr', 'http://www.wikidata.org/prop/direct/P641'), ('name', 'sport')]\n",
      "[('pr', 'http://www.wikidata.org/prop/direct/P6886'), ('name', 'writing language')]\n",
      "[('pr', 'http://www.wikidata.org/prop/direct/P69'), ('name', 'educated at')]\n",
      "[('pr', 'http://www.wikidata.org/prop/direct/P734'), ('name', 'family name')]\n",
      "[('pr', 'http://www.wikidata.org/prop/direct/P735'), ('name', 'given name')]\n",
      "[('pr', 'http://www.wikidata.org/prop/direct/P7763'), ('name', 'copyright status as a creator')]\n",
      "[('pr', 'http://www.wikidata.org/prop/direct/P793'), ('name', 'significant event')]\n",
      "[('pr', 'http://www.wikidata.org/prop/direct/P800'), ('name', 'notable work')]\n",
      "[('pr', 'http://www.wikidata.org/prop/direct/P802'), ('name', 'student')]\n",
      "[('pr', 'http://www.wikidata.org/prop/direct/P803'), ('name', 'professorship')]\n",
      "[('pr', 'http://www.wikidata.org/prop/direct/P856'), ('name', 'official website')]\n",
      "[('pr', 'http://www.wikidata.org/prop/direct/P910'), ('name', \"topic's main category\")]\n",
      "[('pr', 'http://www.wikidata.org/prop/direct/P937'), ('name', 'work location')]\n",
      "[('pr', 'http://www.wikidata.org/prop/direct/P97'), ('name', 'noble title')]\n",
      "[('pr', 'http://www.wikidata.org/prop/direct/P989'), ('name', 'spoken text audio')]\n",
      "[('pr', 'http://www.wikidata.org/prop/direct/P1026'), ('name', 'academic thesis')]\n",
      "[('pr', 'http://www.wikidata.org/prop/direct/P1303'), ('name', 'instrument')]\n",
      "[('pr', 'http://www.wikidata.org/prop/direct/P1424'), ('name', \"topic's main template\")]\n",
      "[('pr', 'http://www.wikidata.org/prop/direct/P1801'), ('name', 'commemorative plaque image')]\n",
      "[('pr', 'http://www.wikidata.org/prop/direct/P2959'), ('name', 'permanent duplicated item')]\n",
      "[('pr', 'http://www.wikidata.org/prop/direct/P413'), ('name', 'position played on team / speciality')]\n",
      "[('pr', 'http://www.wikidata.org/prop/direct/P5021'), ('name', 'assessment')]\n",
      "[('pr', 'http://www.wikidata.org/prop/direct/P5125'), ('name', 'Wikimedia outline')]\n",
      "[('pr', 'http://www.wikidata.org/prop/direct/P54'), ('name', 'member of sports team')]\n",
      "[('pr', 'http://www.wikidata.org/prop/direct/P607'), ('name', 'conflict')]\n",
      "[('pr', 'http://www.wikidata.org/prop/direct/P6363'), ('name', 'WordLift URL')]\n",
      "[('pr', 'http://www.wikidata.org/prop/direct/P737'), ('name', 'influenced by')]\n",
      "[('pr', 'http://www.wikidata.org/prop/direct/P973'), ('name', 'described at URL')]\n",
      "[('pr', 'http://www.wikidata.org/prop/direct/P511'), ('name', 'honorific prefix')]\n",
      "[('pr', 'http://www.wikidata.org/prop/direct/P2632'), ('name', 'place of detention')]\n",
      "[('pr', 'http://www.wikidata.org/prop/direct/P5056'), ('name', 'patronym or matronym for this person')]\n",
      "[('pr', 'http://www.wikidata.org/prop/direct/P812'), ('name', 'academic major')]\n",
      "[('pr', 'http://www.wikidata.org/prop/direct/P8852'), ('name', 'facial hair')]\n",
      "[('pr', 'http://www.wikidata.org/prop/direct/P990'), ('name', \"audio recording of the subject's spoken voice\")]\n",
      "[('pr', 'http://www.wikidata.org/prop/direct/P1321'), ('name', 'place of origin (Switzerland)')]\n",
      "[('pr', 'http://www.wikidata.org/prop/direct/P66'), ('name', 'ancestral home')]\n",
      "[('pr', 'http://www.wikidata.org/prop/direct/P451'), ('name', 'unmarried partner')]\n",
      "[('pr', 'http://www.wikidata.org/prop/direct/P94'), ('name', 'coat of arms image')]\n",
      "[('pr', 'http://www.wikidata.org/prop/direct/P135'), ('name', 'movement')]\n",
      "[('pr', 'http://www.wikidata.org/prop/direct/P10'), ('name', 'video')]\n",
      "[('pr', 'http://www.wikidata.org/prop/direct/P51'), ('name', 'audio')]\n",
      "[('pr', 'http://www.wikidata.org/prop/direct/P8017'), ('name', 'generational suffix')]\n",
      "93\n"
     ]
    }
   ],
   "source": [
    "# look at the properties of people who won the Nobel Prize in Physics\n",
    "queryString = \"\"\"\n",
    "SELECT DISTINCT ?pr ?name\n",
    "WHERE {\n",
    "    ?person wdt:P166 wd:Q38104 ;\n",
    "        ?pr ?o.\n",
    "    ?pr sc:name ?name.\n",
    "    FILTER(!isLiteral(?o)).\n",
    "}\n",
    "\"\"\"\n",
    "\n",
    "print(\"Results\")\n",
    "x=run_query(queryString)"
   ]
  },
  {
   "cell_type": "code",
   "execution_count": 28,
   "id": "47bc590f-a6e9-4b93-b8d5-b82e1072f595",
   "metadata": {},
   "outputs": [
    {
     "name": "stdout",
     "output_type": "stream",
     "text": [
      "Results\n",
      "[('o', 'http://www.wikidata.org/entity/Q1047060'), ('name', 'Case Western Reserve University')]\n",
      "[('o', 'http://www.wikidata.org/entity/Q131252'), ('name', 'University of Chicago')]\n",
      "[('o', 'http://www.wikidata.org/entity/Q13164'), ('name', 'Moscow State University')]\n",
      "[('o', 'http://www.wikidata.org/entity/Q13371'), ('name', 'Harvard University')]\n",
      "[('o', 'http://www.wikidata.org/entity/Q151510'), ('name', 'Heidelberg University')]\n",
      "[('o', 'http://www.wikidata.org/entity/Q151991'), ('name', 'European Southern Observatory')]\n",
      "[('o', 'http://www.wikidata.org/entity/Q152171'), ('name', 'University of Bonn')]\n",
      "[('o', 'http://www.wikidata.org/entity/Q152838'), ('name', 'University of Göttingen')]\n",
      "[('o', 'http://www.wikidata.org/entity/Q154804'), ('name', 'Leipzig University')]\n",
      "[('o', 'http://www.wikidata.org/entity/Q165980'), ('name', 'University of Vienna')]\n",
      "[('o', 'http://www.wikidata.org/entity/Q168751'), ('name', 'Duke University')]\n",
      "[('o', 'http://www.wikidata.org/entity/Q168756'), ('name', 'University of California, Berkeley')]\n",
      "[('o', 'http://www.wikidata.org/entity/Q174710'), ('name', 'University of California, Los Angeles')]\n",
      "[('o', 'http://www.wikidata.org/entity/Q1810862'), ('name', 'Lebedev Physical Institute')]\n",
      "[('o', 'http://www.wikidata.org/entity/Q186285'), ('name', 'University of Copenhagen')]\n",
      "[('o', 'http://www.wikidata.org/entity/Q193196'), ('name', 'University College London')]\n",
      "[('o', 'http://www.wikidata.org/entity/Q209842'), ('name', 'University of Paris')]\n",
      "[('o', 'http://www.wikidata.org/entity/Q214654'), ('name', 'Sorbonne')]\n",
      "[('o', 'http://www.wikidata.org/entity/Q217741'), ('name', 'Purdue University')]\n",
      "[('o', 'http://www.wikidata.org/entity/Q219563'), ('name', 'University of Washington')]\n",
      "20\n"
     ]
    }
   ],
   "source": [
    "# use employer\n",
    "queryString = \"\"\"\n",
    "SELECT DISTINCT ?o ?name\n",
    "WHERE {\n",
    "    ?person wdt:P166 wd:Q38104 ; \n",
    "        wdt:P108 ?o.\n",
    "    ?o sc:name ?name.\n",
    "}\n",
    "LIMIT 20\n",
    "\"\"\"\n",
    "\n",
    "print(\"Results\")\n",
    "x=run_query(queryString)"
   ]
  },
  {
   "cell_type": "code",
   "execution_count": 29,
   "id": "a3b36cf3-9c09-413b-8e10-7ecb1f5b8163",
   "metadata": {},
   "outputs": [
    {
     "name": "stdout",
     "output_type": "stream",
     "text": [
      "Results\n",
      "[('o', 'http://www.wikidata.org/entity/Q875538'), ('name', 'public university')]\n",
      "1\n"
     ]
    }
   ],
   "source": [
    "# find the class of university\n",
    "queryString = \"\"\"\n",
    "SELECT DISTINCT ?o ?name\n",
    "WHERE {\n",
    "    wd:Q15574 wdt:P31 ?o.\n",
    "    ?o sc:name ?name.\n",
    "}\n",
    "\"\"\"\n",
    "\n",
    "print(\"Results\")\n",
    "x=run_query(queryString)"
   ]
  },
  {
   "cell_type": "code",
   "execution_count": 30,
   "id": "e4899d65-d155-4abc-8799-7c77c14a316c",
   "metadata": {},
   "outputs": [
    {
     "name": "stdout",
     "output_type": "stream",
     "text": [
      "Results\n",
      "[('o', 'http://www.wikidata.org/entity/Q3918'), ('name', 'university')]\n",
      "[('o', 'http://www.wikidata.org/entity/Q23002037'), ('name', 'public educational institution')]\n",
      "2\n"
     ]
    }
   ],
   "source": [
    "# find the class of university\n",
    "queryString = \"\"\"\n",
    "SELECT DISTINCT ?o ?name\n",
    "WHERE {\n",
    "    wd:Q875538 wdt:P279 ?o.\n",
    "    ?o sc:name ?name.\n",
    "}\n",
    "\"\"\"\n",
    "\n",
    "print(\"Results\")\n",
    "x=run_query(queryString)"
   ]
  },
  {
   "cell_type": "code",
   "execution_count": 31,
   "id": "925331a4-13f6-4e89-9271-91772a1d58be",
   "metadata": {},
   "outputs": [
    {
     "name": "stdout",
     "output_type": "stream",
     "text": [
      "Results\n",
      "[('o', 'http://www.wikidata.org/entity/Q15936437'), ('name', 'research university')]\n",
      "[('o', 'http://www.wikidata.org/entity/Q902104'), ('name', 'private university')]\n",
      "[('o', 'http://www.wikidata.org/entity/Q1767829'), ('name', 'comprehensive university')]\n",
      "[('o', 'http://www.wikidata.org/entity/Q265662'), ('name', 'national university')]\n",
      "[('o', 'http://www.wikidata.org/entity/Q875538'), ('name', 'public university')]\n",
      "[('o', 'http://www.wikidata.org/entity/Q59537665'), ('name', 'campus university')]\n",
      "[('o', 'http://www.wikidata.org/entity/Q1371037'), ('name', 'institute of technology')]\n",
      "[('o', 'http://www.wikidata.org/entity/Q1916585'), ('name', 'medical university')]\n",
      "[('o', 'http://www.wikidata.org/entity/Q4475845'), ('name', 'university of Marxism-Leninism')]\n",
      "[('o', 'http://www.wikidata.org/entity/Q5690751'), ('name', 'labor universities')]\n",
      "[('o', 'http://www.wikidata.org/entity/Q16077796'), ('name', 'vice-ministerial level university')]\n",
      "[('o', 'http://www.wikidata.org/entity/Q3551775'), ('name', 'university in France')]\n",
      "[('o', 'http://www.wikidata.org/entity/Q28667313'), ('name', 'imperial university of the Russian Empire')]\n",
      "[('o', 'http://www.wikidata.org/entity/Q3803831'), ('name', 'Istituto superiore per le industrie artistiche')]\n",
      "[('o', 'http://www.wikidata.org/entity/Q1202123'), ('name', 'Red brick university')]\n",
      "[('o', 'http://www.wikidata.org/entity/Q622870'), ('name', 'Byzantine university')]\n",
      "[('o', 'http://www.wikidata.org/entity/Q1849445'), ('name', 'colleges and universities in the United States')]\n",
      "[('o', 'http://www.wikidata.org/entity/Q3354859'), ('name', 'collegiate university')]\n",
      "[('o', 'http://www.wikidata.org/entity/Q2667285'), ('name', 'ancient university')]\n",
      "[('o', 'http://www.wikidata.org/entity/Q11582604'), ('name', 'College of Nursing')]\n",
      "[('o', 'http://www.wikidata.org/entity/Q3520135'), ('name', 'deemed university')]\n",
      "[('o', 'http://www.wikidata.org/entity/Q627006'), ('name', 'normal school')]\n",
      "[('o', 'http://www.wikidata.org/entity/Q2749558'), ('name', 'Universidade Federal do Ceará')]\n",
      "[('o', 'http://www.wikidata.org/entity/Q10829188'), ('name', 'international university')]\n",
      "[('o', 'http://www.wikidata.org/entity/Q1407393'), ('name', 'open supported learning')]\n",
      "[('o', 'http://www.wikidata.org/entity/Q47531586'), ('name', 'Institute of National Importance')]\n",
      "[('o', 'http://www.wikidata.org/entity/Q6755402'), ('name', 'open university')]\n",
      "[('o', 'http://www.wikidata.org/entity/Q1755248'), ('name', 'virtual university')]\n",
      "[('o', 'http://www.wikidata.org/entity/Q3698852'), ('name', 'Graduate university')]\n",
      "[('o', 'http://www.wikidata.org/entity/Q105627182'), ('name', 'European University')]\n",
      "[('o', 'http://www.wikidata.org/entity/Q562092'), ('name', 'Imperial universities of Japan')]\n",
      "[('o', 'http://www.wikidata.org/entity/Q6082807'), ('name', 'Islamic university')]\n",
      "[('o', 'http://www.wikidata.org/entity/Q5332280'), ('name', 'ecclesiastical university')]\n",
      "[('o', 'http://www.wikidata.org/entity/Q102328601'), ('name', 'deutsch university')]\n",
      "[('o', 'http://www.wikidata.org/entity/Q108416327'), ('name', 'distance education university')]\n",
      "[('o', 'http://www.wikidata.org/entity/Q11057861'), ('name', 'autonomous university')]\n",
      "[('o', 'http://www.wikidata.org/entity/Q7894468'), ('name', 'university in Canada')]\n",
      "[('o', 'http://www.wikidata.org/entity/Q3351682'), ('name', 'central university')]\n",
      "[('o', 'http://www.wikidata.org/entity/Q20009854'), ('name', 'Italian universities')]\n",
      "[('o', 'http://www.wikidata.org/entity/Q987075'), ('name', 'new university')]\n",
      "[('o', 'http://www.wikidata.org/entity/Q1143413'), ('name', 'Medieval university')]\n",
      "[('o', 'http://www.wikidata.org/entity/Q91400936'), ('name', 'NAHDLATUL ULAMA UNIVERSITY OF INDONESIA')]\n",
      "[('o', 'http://www.wikidata.org/entity/Q4481793'), ('name', 'federal university')]\n",
      "[('o', 'http://www.wikidata.org/entity/Q2073922'), ('name', \"children's university\")]\n",
      "[('o', 'http://www.wikidata.org/entity/Q28700403'), ('name', 'university in China')]\n",
      "[('o', 'http://www.wikidata.org/entity/Q1305046'), ('name', 'reform university')]\n",
      "[('o', 'http://www.wikidata.org/entity/Q212462'), ('name', 'university in Germany')]\n",
      "[('o', 'http://www.wikidata.org/entity/Q2278672'), ('name', 'corporate university')]\n",
      "[('o', 'http://www.wikidata.org/entity/Q1902446'), ('name', 'plate glass university')]\n",
      "[('o', 'http://www.wikidata.org/entity/Q5028741'), ('name', 'Campus university')]\n",
      "[('o', 'http://www.wikidata.org/entity/Q102328534'), ('name', 'american university')]\n",
      "[('o', 'http://www.wikidata.org/entity/Q7900184'), ('name', 'Urban university')]\n",
      "[('o', 'http://www.wikidata.org/entity/Q107407293'), ('name', 'state universities (institutions)')]\n",
      "53\n"
     ]
    }
   ],
   "source": [
    "# list the subclasses of university\n",
    "queryString = \"\"\"\n",
    "SELECT DISTINCT ?o ?name\n",
    "WHERE {\n",
    "    ?o wdt:P279 wd:Q3918.\n",
    "    ?o sc:name ?name.\n",
    "}\n",
    "\"\"\"\n",
    "\n",
    "print(\"Results\")\n",
    "x=run_query(queryString)"
   ]
  },
  {
   "cell_type": "code",
   "execution_count": 32,
   "id": "10872028-b981-44b9-95ba-a62d8613647d",
   "metadata": {},
   "outputs": [
    {
     "name": "stdout",
     "output_type": "stream",
     "text": [
      "Results\n",
      "[('pr', 'http://www.wikidata.org/prop/direct/P112'), ('name', 'founded by')]\n",
      "[('pr', 'http://www.wikidata.org/prop/direct/P131'), ('name', 'located in the administrative territorial entity')]\n",
      "[('pr', 'http://www.wikidata.org/prop/direct/P1343'), ('name', 'described by source')]\n",
      "[('pr', 'http://www.wikidata.org/prop/direct/P1365'), ('name', 'replaces')]\n",
      "[('pr', 'http://www.wikidata.org/prop/direct/P138'), ('name', 'named after')]\n",
      "[('pr', 'http://www.wikidata.org/prop/direct/P154'), ('name', 'logo image')]\n",
      "[('pr', 'http://www.wikidata.org/prop/direct/P159'), ('name', 'headquarters location')]\n",
      "[('pr', 'http://www.wikidata.org/prop/direct/P17'), ('name', 'country')]\n",
      "[('pr', 'http://www.wikidata.org/prop/direct/P1792'), ('name', 'category of associated people')]\n",
      "[('pr', 'http://www.wikidata.org/prop/direct/P18'), ('name', 'image')]\n",
      "[('pr', 'http://www.wikidata.org/prop/direct/P1830'), ('name', 'owner of')]\n",
      "[('pr', 'http://www.wikidata.org/prop/direct/P1889'), ('name', 'different from')]\n",
      "[('pr', 'http://www.wikidata.org/prop/direct/P2643'), ('name', 'Carnegie Classification of Institutions of Higher Education')]\n",
      "[('pr', 'http://www.wikidata.org/prop/direct/P31'), ('name', 'instance of')]\n",
      "[('pr', 'http://www.wikidata.org/prop/direct/P355'), ('name', 'subsidiary')]\n",
      "[('pr', 'http://www.wikidata.org/prop/direct/P3876'), ('name', 'category for alumni of educational institution')]\n",
      "[('pr', 'http://www.wikidata.org/prop/direct/P4195'), ('name', 'category for employees of the organization')]\n",
      "[('pr', 'http://www.wikidata.org/prop/direct/P463'), ('name', 'member of')]\n",
      "[('pr', 'http://www.wikidata.org/prop/direct/P488'), ('name', 'chairperson')]\n",
      "[('pr', 'http://www.wikidata.org/prop/direct/P527'), ('name', 'has part')]\n",
      "[('pr', 'http://www.wikidata.org/prop/direct/P793'), ('name', 'significant event')]\n",
      "[('pr', 'http://www.wikidata.org/prop/direct/P856'), ('name', 'official website')]\n",
      "[('pr', 'http://www.wikidata.org/prop/direct/P910'), ('name', \"topic's main category\")]\n",
      "[('pr', 'http://www.wikidata.org/prop/direct/P9601'), ('name', 'official map URL')]\n",
      "[('pr', 'http://www.wikidata.org/prop/direct/P166'), ('name', 'award received')]\n",
      "[('pr', 'http://www.wikidata.org/prop/direct/P2388'), ('name', 'office held by head of the organization')]\n",
      "[('pr', 'http://www.wikidata.org/prop/direct/P2936'), ('name', 'language used')]\n",
      "[('pr', 'http://www.wikidata.org/prop/direct/P2959'), ('name', 'permanent duplicated item')]\n",
      "[('pr', 'http://www.wikidata.org/prop/direct/P122'), ('name', 'basic form of government')]\n",
      "[('pr', 'http://www.wikidata.org/prop/direct/P1416'), ('name', 'affiliation')]\n",
      "[('pr', 'http://www.wikidata.org/prop/direct/P1424'), ('name', \"topic's main template\")]\n",
      "[('pr', 'http://www.wikidata.org/prop/direct/P276'), ('name', 'location')]\n",
      "[('pr', 'http://www.wikidata.org/prop/direct/P5125'), ('name', 'Wikimedia outline')]\n",
      "[('pr', 'http://www.wikidata.org/prop/direct/P6269'), ('name', 'API endpoint')]\n",
      "[('pr', 'http://www.wikidata.org/prop/direct/P6364'), ('name', 'official color(s)')]\n",
      "[('pr', 'http://www.wikidata.org/prop/direct/P749'), ('name', 'parent organization')]\n",
      "[('pr', 'http://www.wikidata.org/prop/direct/P1075'), ('name', 'rector')]\n",
      "[('pr', 'http://www.wikidata.org/prop/direct/P1151'), ('name', \"topic's main Wikimedia portal\")]\n",
      "[('pr', 'http://www.wikidata.org/prop/direct/P1546'), ('name', 'motto')]\n",
      "[('pr', 'http://www.wikidata.org/prop/direct/P158'), ('name', 'seal image')]\n",
      "[('pr', 'http://www.wikidata.org/prop/direct/P1344'), ('name', 'participant in')]\n",
      "[('pr', 'http://www.wikidata.org/prop/direct/P41'), ('name', 'flag image')]\n",
      "[('pr', 'http://www.wikidata.org/prop/direct/P7014'), ('name', 'terms of service URL')]\n",
      "[('pr', 'http://www.wikidata.org/prop/direct/P140'), ('name', 'religion')]\n",
      "[('pr', 'http://www.wikidata.org/prop/direct/P8324'), ('name', 'funder')]\n",
      "[('pr', 'http://www.wikidata.org/prop/direct/P8464'), ('name', 'content partnership category')]\n",
      "[('pr', 'http://www.wikidata.org/prop/direct/P1465'), ('name', 'category for people who died here')]\n",
      "[('pr', 'http://www.wikidata.org/prop/direct/P2184'), ('name', 'history of topic')]\n",
      "[('pr', 'http://www.wikidata.org/prop/direct/P361'), ('name', 'part of')]\n",
      "[('pr', 'http://www.wikidata.org/prop/direct/P2828'), ('name', 'corporate officer')]\n",
      "[('pr', 'http://www.wikidata.org/prop/direct/P2652'), ('name', 'partnership with')]\n",
      "[('pr', 'http://www.wikidata.org/prop/direct/P1037'), ('name', 'director / manager')]\n",
      "[('pr', 'http://www.wikidata.org/prop/direct/P1435'), ('name', 'heritage designation')]\n",
      "[('pr', 'http://www.wikidata.org/prop/direct/P163'), ('name', 'flag')]\n",
      "[('pr', 'http://www.wikidata.org/prop/direct/P5008'), ('name', 'on focus list of Wikimedia project')]\n",
      "[('pr', 'http://www.wikidata.org/prop/direct/P6379'), ('name', 'has works in the collection')]\n",
      "[('pr', 'http://www.wikidata.org/prop/direct/P127'), ('name', 'owned by')]\n",
      "[('pr', 'http://www.wikidata.org/prop/direct/P1366'), ('name', 'replaced by')]\n",
      "[('pr', 'http://www.wikidata.org/prop/direct/P3320'), ('name', 'board member')]\n",
      "[('pr', 'http://www.wikidata.org/prop/direct/P421'), ('name', 'located in time zone')]\n",
      "[('pr', 'http://www.wikidata.org/prop/direct/P669'), ('name', 'located on street')]\n",
      "[('pr', 'http://www.wikidata.org/prop/direct/P7959'), ('name', 'historic county')]\n",
      "[('pr', 'http://www.wikidata.org/prop/direct/P94'), ('name', 'coat of arms image')]\n",
      "[('pr', 'http://www.wikidata.org/prop/direct/P1454'), ('name', 'legal form')]\n",
      "[('pr', 'http://www.wikidata.org/prop/direct/P1019'), ('name', 'web feed URL')]\n",
      "[('pr', 'http://www.wikidata.org/prop/direct/P156'), ('name', 'followed by')]\n",
      "[('pr', 'http://www.wikidata.org/prop/direct/P2354'), ('name', 'has list')]\n",
      "[('pr', 'http://www.wikidata.org/prop/direct/P237'), ('name', 'coat of arms')]\n",
      "[('pr', 'http://www.wikidata.org/prop/direct/P3975'), ('name', 'secretary general')]\n",
      "[('pr', 'http://www.wikidata.org/prop/direct/P417'), ('name', 'patron saint')]\n",
      "[('pr', 'http://www.wikidata.org/prop/direct/P607'), ('name', 'conflict')]\n",
      "[('pr', 'http://www.wikidata.org/prop/direct/P6365'), ('name', 'member category')]\n",
      "[('pr', 'http://www.wikidata.org/prop/direct/P706'), ('name', 'located in/on physical feature')]\n",
      "[('pr', 'http://www.wikidata.org/prop/direct/P6363'), ('name', 'WordLift URL')]\n",
      "[('pr', 'http://www.wikidata.org/prop/direct/P822'), ('name', 'mascot')]\n",
      "[('pr', 'http://www.wikidata.org/prop/direct/P101'), ('name', 'field of work')]\n",
      "[('pr', 'http://www.wikidata.org/prop/direct/P1325'), ('name', 'external data available at')]\n",
      "[('pr', 'http://www.wikidata.org/prop/direct/P242'), ('name', 'locator map image')]\n",
      "[('pr', 'http://www.wikidata.org/prop/direct/P37'), ('name', 'official language')]\n",
      "[('pr', 'http://www.wikidata.org/prop/direct/P553'), ('name', 'website account on')]\n",
      "[('pr', 'http://www.wikidata.org/prop/direct/P7867'), ('name', 'category for maps')]\n",
      "[('pr', 'http://www.wikidata.org/prop/direct/P797'), ('name', 'authority')]\n",
      "[('pr', 'http://www.wikidata.org/prop/direct/P443'), ('name', 'pronunciation audio')]\n",
      "[('pr', 'http://www.wikidata.org/prop/direct/P485'), ('name', 'archives at')]\n",
      "[('pr', 'http://www.wikidata.org/prop/direct/P4446'), ('name', 'reward program')]\n",
      "[('pr', 'http://www.wikidata.org/prop/direct/P1313'), ('name', 'office held by head of government')]\n",
      "[('pr', 'http://www.wikidata.org/prop/direct/P1376'), ('name', 'capital of')]\n",
      "[('pr', 'http://www.wikidata.org/prop/direct/P1456'), ('name', 'list of monuments')]\n",
      "[('pr', 'http://www.wikidata.org/prop/direct/P1464'), ('name', 'category for people born here')]\n",
      "[('pr', 'http://www.wikidata.org/prop/direct/P150'), ('name', 'contains administrative territorial entity')]\n",
      "[('pr', 'http://www.wikidata.org/prop/direct/P1791'), ('name', 'category of people buried here')]\n",
      "[('pr', 'http://www.wikidata.org/prop/direct/P190'), ('name', 'twinned administrative body')]\n",
      "[('pr', 'http://www.wikidata.org/prop/direct/P206'), ('name', 'located in or next to body of water')]\n",
      "[('pr', 'http://www.wikidata.org/prop/direct/P30'), ('name', 'continent')]\n",
      "[('pr', 'http://www.wikidata.org/prop/direct/P47'), ('name', 'shares border with')]\n",
      "[('pr', 'http://www.wikidata.org/prop/direct/P5555'), ('name', 'schematic')]\n",
      "[('pr', 'http://www.wikidata.org/prop/direct/P5775'), ('name', 'image of interior')]\n",
      "[('pr', 'http://www.wikidata.org/prop/direct/P6'), ('name', 'head of government')]\n",
      "[('pr', 'http://www.wikidata.org/prop/direct/P8744'), ('name', 'economy of topic')]\n",
      "[('pr', 'http://www.wikidata.org/prop/direct/P948'), ('name', 'page banner')]\n",
      "[('pr', 'http://www.wikidata.org/prop/direct/P155'), ('name', 'follows')]\n",
      "[('pr', 'http://www.wikidata.org/prop/direct/P1687'), ('name', 'Wikidata property')]\n",
      "[('pr', 'http://www.wikidata.org/prop/direct/P5252'), ('name', 'winter view')]\n",
      "[('pr', 'http://www.wikidata.org/prop/direct/P8592'), ('name', 'aerial view')]\n",
      "[('pr', 'http://www.wikidata.org/prop/direct/P121'), ('name', 'item operated')]\n",
      "[('pr', 'http://www.wikidata.org/prop/direct/P5514'), ('name', 'accredited by')]\n",
      "[('pr', 'http://www.wikidata.org/prop/direct/P10'), ('name', 'video')]\n",
      "[('pr', 'http://www.wikidata.org/prop/direct/P1056'), ('name', 'product or material produced')]\n",
      "[('pr', 'http://www.wikidata.org/prop/direct/P3451'), ('name', 'nighttime view')]\n",
      "[('pr', 'http://www.wikidata.org/prop/direct/P8933'), ('name', 'category for the view from the item')]\n",
      "[('pr', 'http://www.wikidata.org/prop/direct/P2817'), ('name', 'appears in the heritage monument list')]\n",
      "[('pr', 'http://www.wikidata.org/prop/direct/P452'), ('name', 'industry')]\n",
      "[('pr', 'http://www.wikidata.org/prop/direct/P5460'), ('name', 'grants')]\n",
      "[('pr', 'http://www.wikidata.org/prop/direct/P126'), ('name', 'maintained by')]\n",
      "[('pr', 'http://www.wikidata.org/prop/direct/P2868'), ('name', 'subject has role')]\n",
      "[('pr', 'http://www.wikidata.org/prop/direct/P462'), ('name', 'color')]\n",
      "[('pr', 'http://www.wikidata.org/prop/direct/P2770'), ('name', 'source of income')]\n",
      "[('pr', 'http://www.wikidata.org/prop/direct/P1382'), ('name', 'partially coincident with')]\n",
      "[('pr', 'http://www.wikidata.org/prop/direct/P1875'), ('name', 'represented by')]\n",
      "[('pr', 'http://www.wikidata.org/prop/direct/P2670'), ('name', 'has parts of the class')]\n",
      "[('pr', 'http://www.wikidata.org/prop/direct/P85'), ('name', 'anthem')]\n",
      "[('pr', 'http://www.wikidata.org/prop/direct/P1482'), ('name', 'Stack Exchange tag')]\n",
      "[('pr', 'http://www.wikidata.org/prop/direct/P169'), ('name', 'chief executive officer')]\n",
      "[('pr', 'http://www.wikidata.org/prop/direct/P414'), ('name', 'stock exchange')]\n",
      "[('pr', 'http://www.wikidata.org/prop/direct/P740'), ('name', 'location of formation')]\n",
      "[('pr', 'http://www.wikidata.org/prop/direct/P9214'), ('name', 'FAQ URL')]\n",
      "[('pr', 'http://www.wikidata.org/prop/direct/P1441'), ('name', 'present in work')]\n",
      "[('pr', 'http://www.wikidata.org/prop/direct/P2813'), ('name', 'house publication')]\n",
      "[('pr', 'http://www.wikidata.org/prop/direct/P407'), ('name', 'language of work or name')]\n",
      "[('pr', 'http://www.wikidata.org/prop/direct/P710'), ('name', 'participant')]\n",
      "[('pr', 'http://www.wikidata.org/prop/direct/P7101'), ('name', 'privacy policy URL')]\n",
      "[('pr', 'http://www.wikidata.org/prop/direct/P7561'), ('name', 'category for the interior of the item')]\n",
      "[('pr', 'http://www.wikidata.org/prop/direct/P6153'), ('name', 'research site')]\n",
      "[('pr', 'http://www.wikidata.org/prop/direct/P3712'), ('name', 'objective of project or action')]\n",
      "[('pr', 'http://www.wikidata.org/prop/direct/P989'), ('name', 'spoken text audio')]\n",
      "[('pr', 'http://www.wikidata.org/prop/direct/P1299'), ('name', 'depicted by')]\n",
      "[('pr', 'http://www.wikidata.org/prop/direct/P2650'), ('name', 'interested in')]\n",
      "[('pr', 'http://www.wikidata.org/prop/direct/P767'), ('name', 'contributor to the creative work or subject')]\n",
      "[('pr', 'http://www.wikidata.org/prop/direct/P1001'), ('name', 'applies to jurisdiction')]\n",
      "[('pr', 'http://www.wikidata.org/prop/direct/P199'), ('name', 'business division')]\n",
      "[('pr', 'http://www.wikidata.org/prop/direct/P92'), ('name', 'main regulatory text')]\n",
      "[('pr', 'http://www.wikidata.org/prop/direct/P968'), ('name', 'email address')]\n",
      "[('pr', 'http://www.wikidata.org/prop/direct/P1268'), ('name', 'represents')]\n",
      "[('pr', 'http://www.wikidata.org/prop/direct/P9798'), ('name', 'Classification of the Functions of Government')]\n",
      "[('pr', 'http://www.wikidata.org/prop/direct/P2283'), ('name', 'uses')]\n",
      "[('pr', 'http://www.wikidata.org/prop/direct/P418'), ('name', 'seal description')]\n",
      "[('pr', 'http://www.wikidata.org/prop/direct/P3342'), ('name', 'significant person')]\n",
      "[('pr', 'http://www.wikidata.org/prop/direct/P3679'), ('name', 'stock market index')]\n",
      "[('pr', 'http://www.wikidata.org/prop/direct/P106'), ('name', 'occupation')]\n",
      "[('pr', 'http://www.wikidata.org/prop/direct/P457'), ('name', 'foundational text')]\n",
      "[('pr', 'http://www.wikidata.org/prop/direct/P2888'), ('name', 'exact match')]\n",
      "[('pr', 'http://www.wikidata.org/prop/direct/P953'), ('name', 'full work available at URL')]\n",
      "[('pr', 'http://www.wikidata.org/prop/direct/P123'), ('name', 'publisher')]\n",
      "[('pr', 'http://www.wikidata.org/prop/direct/P137'), ('name', 'operator')]\n",
      "[('pr', 'http://www.wikidata.org/prop/direct/P859'), ('name', 'sponsor')]\n",
      "155\n"
     ]
    }
   ],
   "source": [
    "# look at the properties of the universities\n",
    "queryString = \"\"\"\n",
    "SELECT DISTINCT ?pr ?name\n",
    "WHERE {\n",
    "    ?person wdt:P166 wd:Q38104 ; \n",
    "        wdt:P108 ?o.\n",
    "    ?o wdt:P31/wdt:P279* wd:Q3918.\n",
    "    ?o ?pr ?x.\n",
    "    ?pr sc:name ?name.\n",
    "    FILTER(!isLiteral(?x)).\n",
    "}\n",
    "\"\"\"\n",
    "\n",
    "print(\"Results\")\n",
    "x=run_query(queryString)"
   ]
  },
  {
   "cell_type": "code",
   "execution_count": 33,
   "id": "732f8894-963b-48c4-bed2-42ccd7a1f78e",
   "metadata": {},
   "outputs": [
    {
     "name": "stdout",
     "output_type": "stream",
     "text": [
      "Results\n",
      "[('person', 'http://www.wikidata.org/entity/Q193496'), ('pName', 'James Cronin'), ('o', 'http://www.wikidata.org/entity/Q131252'), ('name', 'University of Chicago')]\n",
      "[('person', 'http://www.wikidata.org/entity/Q71013'), ('pName', 'Theodor W. Hänsch'), ('o', 'http://www.wikidata.org/entity/Q151510'), ('name', 'Heidelberg University')]\n",
      "[('person', 'http://www.wikidata.org/entity/Q9130'), ('pName', 'Erwin Schrödinger'), ('o', 'http://www.wikidata.org/entity/Q165980'), ('name', 'University of Vienna')]\n",
      "[('person', 'http://www.wikidata.org/entity/Q123022'), ('pName', 'Felix Bloch'), ('o', 'http://www.wikidata.org/entity/Q11942'), ('name', 'ETH Zürich')]\n",
      "[('person', 'http://www.wikidata.org/entity/Q44286'), ('pName', 'Rudolf Mössbauer'), ('o', 'http://www.wikidata.org/entity/Q157808'), ('name', 'Technical University of Munich')]\n",
      "[('person', 'http://www.wikidata.org/entity/Q188128'), ('pName', 'Alexei Abrikosov'), ('o', 'http://www.wikidata.org/entity/Q1472245'), ('name', 'Bauman Moscow State Technical University')]\n",
      "[('person', 'http://www.wikidata.org/entity/Q202164'), ('pName', 'Makoto Kobayashi'), ('o', 'http://www.wikidata.org/entity/Q1191132'), ('name', 'Nagoya University')]\n",
      "[('person', 'http://www.wikidata.org/entity/Q202168'), ('pName', 'Toshihide Maskawa'), ('o', 'http://www.wikidata.org/entity/Q1191132'), ('name', 'Nagoya University')]\n",
      "[('person', 'http://www.wikidata.org/entity/Q188128'), ('pName', 'Alexei Abrikosov'), ('o', 'http://www.wikidata.org/entity/Q1367256'), ('name', 'Moscow Institute of Physics and Technology')]\n",
      "[('person', 'http://www.wikidata.org/entity/Q9021'), ('pName', 'Max Planck'), ('o', 'http://www.wikidata.org/entity/Q156737'), ('name', 'University of Kiel')]\n",
      "[('person', 'http://www.wikidata.org/entity/Q8753'), ('pName', 'Enrico Fermi'), ('o', 'http://www.wikidata.org/entity/Q209344'), ('name', 'Sapienza University of Rome')]\n",
      "[('person', 'http://www.wikidata.org/entity/Q188128'), ('pName', 'Alexei Abrikosov'), ('o', 'http://www.wikidata.org/entity/Q4315005'), ('name', 'National University of Science and Technology')]\n",
      "12\n"
     ]
    }
   ],
   "source": [
    "# find the physicists who won Nobel Prizes and had been employed for the university in the city where they were born\n",
    "queryString = \"\"\"\n",
    "SELECT DISTINCT ?person  ?pName  ?o ?name \n",
    "WHERE {\n",
    "    ?person wdt:P166 wd:Q38104 ;\n",
    "        wdt:P19 ?city;\n",
    "        wdt:P108 ?o.\n",
    "    ?o wdt:P31/wdt:P279* wd:Q3918;\n",
    "        wdt:P131 ?city.\n",
    "    ?o sc:name ?name.\n",
    "    ?person sc:name ?pName.\n",
    "}\n",
    "\"\"\"\n",
    "\n",
    "print(\"Results\")\n",
    "x=run_query(queryString)"
   ]
  },
  {
   "cell_type": "code",
   "execution_count": null,
   "id": "7e66a984-b393-48b1-b779-dcab8df9b7f5",
   "metadata": {},
   "outputs": [],
   "source": []
  },
  {
   "cell_type": "code",
   "execution_count": null,
   "id": "0f703bdd",
   "metadata": {},
   "outputs": [],
   "source": []
  }
 ],
 "metadata": {
  "kernelspec": {
   "display_name": "Python 3 (ipykernel)",
   "language": "python",
   "name": "python3"
  },
  "language_info": {
   "codemirror_mode": {
    "name": "ipython",
    "version": 3
   },
   "file_extension": ".py",
   "mimetype": "text/x-python",
   "name": "python",
   "nbconvert_exporter": "python",
   "pygments_lexer": "ipython3",
   "version": "3.9.16"
  }
 },
 "nbformat": 4,
 "nbformat_minor": 5
}
