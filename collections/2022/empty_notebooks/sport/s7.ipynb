{
 "cells": [
  {
   "cell_type": "markdown",
   "id": "c04adba6",
   "metadata": {},
   "source": [
    "# General instructions\n",
    "\n",
    "The goal of the project is to materialize a set of **exploratory workloads** over a real-world, large-scale,  open-domain KG: [WikiData](https://www.wikidata.org/wiki/Wikidata:Main_Page)\n",
    "\n",
    "An exploratory workload  is composed by a set of queries, where each query is related to the information obtained previously.\n",
    "\n",
    "An exploratory workload starts with a usually vague, open ended question, and does not assume the person issuing the workload has a clear understanding of the data contained in the target database or its structure.\n",
    "\n",
    "Remeber that:\n",
    "\n",
    "1. All the queries must run in the python notebook\n",
    "2. You can use classes and properties only if you find them via a SPARQL query that must be present in the notebook\n",
    "3. You do not delete useless queries. Keep everything that is synthatically valid \n",
    "\n",
    "```\n",
    "?p <http://schema.org/name> ?name .\n",
    "```\n",
    "    \n",
    "    is the BGP returning a human-readable name of a property or a class in Wikidata."
   ]
  },
  {
   "cell_type": "code",
   "execution_count": null,
   "id": "bfbb6f67",
   "metadata": {},
   "outputs": [],
   "source": [
    "## SETUP used later\n",
    "\n",
    "from SPARQLWrapper import SPARQLWrapper, JSON\n",
    "\n",
    "\n",
    "prefixString = \"\"\"\n",
    "##-Notebook Code Here-##\n",
    "PREFIX wd: <http://www.wikidata.org/entity/> \n",
    "PREFIX wdt: <http://www.wikidata.org/prop/direct/> \n",
    "PREFIX sc: <http://schema.org/>\n",
    "\"\"\"\n",
    "\n",
    "# select and construct queries\n",
    "def run_query(queryString,verbose = True):\n",
    "    to_run = prefixString + \"\\n\" + queryString\n",
    "\n",
    "    sparql = SPARQLWrapper(\"Put your endpoint\")\n",
    "    sparql.setTimeout(300)\n",
    "    sparql.setReturnFormat(JSON)\n",
    "    sparql.setQuery(to_run)\n",
    "\n",
    "    try :\n",
    "        results = sparql.query()\n",
    "        json_results = results.convert()\n",
    "        if len(json_results['results']['bindings'])==0:\n",
    "            print(\"Empty\")\n",
    "            return []\n",
    "        array = []\n",
    "        for bindings in json_results['results']['bindings']:\n",
    "            app =  [ (var, value['value'])  for var, value in bindings.items() ] \n",
    "            if verbose:\n",
    "                print( app)\n",
    "            array.append(app)\n",
    "        if verbose:\n",
    "            print(len(array))\n",
    "        return array\n",
    "\n",
    "    except Exception as e :\n",
    "        print(\"The operation failed\", e)\n",
    "    \n",
    "# ASk queries\n",
    "def run_ask_query(queryString):\n",
    "    to_run = prefixString + \"\\n\" + queryString\n",
    "\n",
    "    sparql = SPARQLWrapper(\"Put your endpoint\")\n",
    "    sparql.setTimeout(300)\n",
    "    sparql.setReturnFormat(JSON)\n",
    "    sparql.setQuery(to_run)\n",
    "\n",
    "    try :\n",
    "        return sparql.query().convert()\n",
    "\n",
    "    except Exception as e :\n",
    "        print(\"The operation failed\", e)"
   ]
  },
  {
   "cell_type": "markdown",
   "id": "e6ab986b",
   "metadata": {},
   "source": [
    "# Sport Workflow Series (\"Association Football Club explorative search\") \n",
    "\n",
    "Consider the following exploratory information need:\n",
    "\n",
    "> investigate the association football clubs and find the main BGPs related to this sport. Compare clubs in countries and championships won. Explore also the participation of the countries in the FIFA World Cup.\n",
    "\n",
    "**Important consideration: in wikidata, we are talking of ASSOCIATION FOOTBALL**"
   ]
  },
  {
   "cell_type": "markdown",
   "id": "a16da988",
   "metadata": {},
   "source": [
    "## Useful URIs for the current workflow\n",
    "The following are given:\n",
    "\n",
    "| IRI           | Description   | Role      |\n",
    "| -----------   | -----------   |-----------|\n",
    "| `wdt:P1647`   | subproperty   | predicate |\n",
    "| `wdt:P31`     | instance of   | predicate |\n",
    "| `wdt:P106`    | profession    | predicate | \n",
    "| `wdt:P279`    | subclass      | predicate |\n",
    "| `wdt:P27`     | nationality   | predicate |\n",
    "| `wd:Q5`| Human       | node |\n",
    "| `wd:Q11571`| Cristiano Ronaldo       | node |\n"
   ]
  },
  {
   "cell_type": "markdown",
   "id": "1d95d35c",
   "metadata": {},
   "source": [
    "\n",
    "\n",
    "\n",
    "Also consider\n",
    "\n",
    "```\n",
    "wd:Q11571 ?p ?obj .\n",
    "```\n",
    "\n",
    "is the BGP to retrieve all **properties of Cristiano Ronaldo**\n",
    "\n",
    "Please consider that when you return a resource, you should return the IRI and the label of the resource. In particular, when the task require you to identify a BGP the result set must always be a list of couples IRI - label.\n",
    "\n",
    "\n",
    "\n",
    "The workload should:\n",
    "\n",
    "\n",
    "1. Identify the BGP for association football club\n",
    "\n",
    "2. Identify the BGP for association football league\n",
    "\n",
    "3. Return for each north american country the number of association football clubs\n",
    "\n",
    "4. Identify the BGP for the UEFA Champions League.\n",
    "\n",
    "5. Consider the countries which have at least two different clubs of their nationality who won the UEFA Champions League. Return the list of these countries with the number of different clubs who won the UEFA Champions League (the result set must be triples of country IRI, label and #clubs).\n",
    "\n",
    "6. Return for each european country the top level league (the result set must be a list of country IRI and label, and league IRI and label).\n",
    "\n",
    "7. Identify the BGP of the FIFA World Cup\n",
    "\n",
    "8. Consider countries who participated at the FIFA World Cup more than 10 times. Return these countries with the number of apparitions (the result set must be triples of country IRI, label and #apparitions).\n",
    "\n",
    "9. Consider the countries that won the FIFA World Cup at least twice. Find the association football clubs of those countries won the UEFA Champions League (the result set must be couples of clubs IRI and label).\n"
   ]
  },
  {
   "cell_type": "markdown",
   "id": "05cd5918",
   "metadata": {},
   "source": [
    "## Task 1\n",
    "Identify the BGP for association football club"
   ]
  },
  {
   "cell_type": "code",
   "execution_count": null,
   "id": "5919acec",
   "metadata": {},
   "outputs": [],
   "source": [
    "# query example\n",
    "queryString = \"\"\"\n",
    "SELECT DISTINCT ?p ?name\n",
    "WHERE {\n",
    "   # bind something\n",
    "   wd:Q11571 ?p ?obj .\n",
    "   # get the label\n",
    "   ?p sc:name ?name.\n",
    "}\n",
    "LIMIT 20\n",
    "\"\"\"\n",
    "\n",
    "print(\"Results\")\n",
    "x=run_query(queryString)"
   ]
  },
  {
   "cell_type": "markdown",
   "id": "40dd015c",
   "metadata": {},
   "source": [
    "Final query for this task"
   ]
  },
  {
   "cell_type": "code",
   "execution_count": null,
   "id": "7a84fd68",
   "metadata": {},
   "outputs": [],
   "source": [
    "# write your final query"
   ]
  },
  {
   "cell_type": "markdown",
   "id": "c10869d8",
   "metadata": {},
   "source": [
    "## Task 2\n",
    "Identify the BGP for association football league"
   ]
  },
  {
   "cell_type": "code",
   "execution_count": null,
   "id": "30e69af0",
   "metadata": {},
   "outputs": [],
   "source": [
    "# write your queries"
   ]
  },
  {
   "cell_type": "markdown",
   "id": "ee322993",
   "metadata": {},
   "source": [
    "Final query for this task"
   ]
  },
  {
   "cell_type": "code",
   "execution_count": null,
   "id": "49a94d05",
   "metadata": {},
   "outputs": [],
   "source": [
    "# write your final query"
   ]
  },
  {
   "cell_type": "markdown",
   "id": "c78990f6",
   "metadata": {},
   "source": [
    "## Task 3\n",
    "Return for each north american country the number of association football clubs"
   ]
  },
  {
   "cell_type": "code",
   "execution_count": null,
   "id": "4a0975cf",
   "metadata": {},
   "outputs": [],
   "source": [
    "# write your queries"
   ]
  },
  {
   "cell_type": "markdown",
   "id": "cb90eb3f",
   "metadata": {},
   "source": [
    "Final query for this task"
   ]
  },
  {
   "cell_type": "code",
   "execution_count": null,
   "id": "0fc7919a",
   "metadata": {},
   "outputs": [],
   "source": [
    "# write your final query"
   ]
  },
  {
   "cell_type": "markdown",
   "id": "6ee96969",
   "metadata": {},
   "source": [
    "## Task 4\n",
    "Identify the BGP for the UEFA Champions League."
   ]
  },
  {
   "cell_type": "code",
   "execution_count": null,
   "id": "aff098a8",
   "metadata": {},
   "outputs": [],
   "source": [
    "# write your queries"
   ]
  },
  {
   "cell_type": "markdown",
   "id": "4eaf7125",
   "metadata": {},
   "source": [
    "Final query for this task"
   ]
  },
  {
   "cell_type": "code",
   "execution_count": null,
   "id": "f384c2bb",
   "metadata": {},
   "outputs": [],
   "source": [
    "# write your final query"
   ]
  },
  {
   "cell_type": "markdown",
   "id": "3fde2dbb",
   "metadata": {},
   "source": [
    "## Task 5\n",
    "Consider the countries which have at least two different clubs of their nationality who won the UEFA Champions League. Return the list of these countries with the number of different clubs who won the UEFA Champions League (the result set must be triples of country IRI, label and #clubs)."
   ]
  },
  {
   "cell_type": "code",
   "execution_count": null,
   "id": "98639df8",
   "metadata": {},
   "outputs": [],
   "source": [
    "# write your queries"
   ]
  },
  {
   "cell_type": "markdown",
   "id": "52325ede",
   "metadata": {},
   "source": [
    "Final query for this task"
   ]
  },
  {
   "cell_type": "code",
   "execution_count": null,
   "id": "901d92c8",
   "metadata": {},
   "outputs": [],
   "source": [
    "# write your final query"
   ]
  },
  {
   "cell_type": "markdown",
   "id": "bd3f2b71",
   "metadata": {},
   "source": [
    "## Task 6\n",
    "Return for each european country the top level league (the result set must be a list of country IRI and label, and league IRI and label)."
   ]
  },
  {
   "cell_type": "code",
   "execution_count": null,
   "id": "ca3bd4fb",
   "metadata": {},
   "outputs": [],
   "source": [
    "# write your queries"
   ]
  },
  {
   "cell_type": "markdown",
   "id": "a3bc9e85",
   "metadata": {},
   "source": [
    "Final query for this task"
   ]
  },
  {
   "cell_type": "code",
   "execution_count": null,
   "id": "3ba64d00",
   "metadata": {},
   "outputs": [],
   "source": [
    "# write your final query"
   ]
  },
  {
   "cell_type": "markdown",
   "id": "2145cb04",
   "metadata": {},
   "source": [
    "## Task 7\n",
    "Identify the BGP of the FIFA World Cup"
   ]
  },
  {
   "cell_type": "code",
   "execution_count": null,
   "id": "3efa2345",
   "metadata": {},
   "outputs": [],
   "source": [
    "# write your queries"
   ]
  },
  {
   "cell_type": "markdown",
   "id": "086a93bd",
   "metadata": {},
   "source": [
    "Final query for this task"
   ]
  },
  {
   "cell_type": "code",
   "execution_count": null,
   "id": "6628d242",
   "metadata": {},
   "outputs": [],
   "source": [
    "# write your final query"
   ]
  },
  {
   "cell_type": "markdown",
   "id": "936c6d9a",
   "metadata": {},
   "source": [
    "## Task 8\n",
    "Consider countries who participated at the FIFA World Cup more than 10 times. Return these countries with the number of apparitions (the result set must be triples of country IRI, label and #apparitions)."
   ]
  },
  {
   "cell_type": "code",
   "execution_count": null,
   "id": "91c9fa15",
   "metadata": {},
   "outputs": [],
   "source": [
    "# write your queries"
   ]
  },
  {
   "cell_type": "markdown",
   "id": "6eb9e3c7",
   "metadata": {},
   "source": [
    "Final query for this task"
   ]
  },
  {
   "cell_type": "code",
   "execution_count": null,
   "id": "739245fb",
   "metadata": {},
   "outputs": [],
   "source": [
    "# write your final query"
   ]
  },
  {
   "cell_type": "markdown",
   "id": "611fb932",
   "metadata": {},
   "source": [
    "## Task 9\n",
    "Consider the countries that won the FIFA World Cup at least twice. Find the association football clubs of those countries won the UEFA Champions League (the result set must be couples of clubs IRI and label)."
   ]
  },
  {
   "cell_type": "code",
   "execution_count": null,
   "id": "f9427d4e",
   "metadata": {},
   "outputs": [],
   "source": [
    "# write your queries"
   ]
  },
  {
   "cell_type": "markdown",
   "id": "76c5f6fb",
   "metadata": {},
   "source": [
    "Final query for this task"
   ]
  },
  {
   "cell_type": "code",
   "execution_count": null,
   "id": "e0e73f6e",
   "metadata": {},
   "outputs": [],
   "source": [
    "# write your final query"
   ]
  }
 ],
 "metadata": {},
 "nbformat": 4,
 "nbformat_minor": 5
}
