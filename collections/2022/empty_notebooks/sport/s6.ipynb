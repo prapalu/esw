{
 "cells": [
  {
   "cell_type": "markdown",
   "id": "17f703b7",
   "metadata": {},
   "source": [
    "# General instructions\n",
    "\n",
    "The goal of the project is to materialize a set of **exploratory workloads** over a real-world, large-scale,  open-domain KG: [WikiData](https://www.wikidata.org/wiki/Wikidata:Main_Page)\n",
    "\n",
    "An exploratory workload  is composed by a set of queries, where each query is related to the information obtained previously.\n",
    "\n",
    "An exploratory workload starts with a usually vague, open ended question, and does not assume the person issuing the workload has a clear understanding of the data contained in the target database or its structure.\n",
    "\n",
    "Remeber that:\n",
    "\n",
    "1. All the queries must run in the python notebook\n",
    "2. You can use classes and properties only if you find them via a SPARQL query that must be present in the notebook\n",
    "3. You do not delete useless queries. Keep everything that is synthatically valid \n",
    "\n",
    "```\n",
    "?p <http://schema.org/name> ?name .\n",
    "```\n",
    "    \n",
    "    is the BGP returning a human-readable name of a property or a class in Wikidata."
   ]
  },
  {
   "cell_type": "code",
   "execution_count": null,
   "id": "c4b41ad8",
   "metadata": {},
   "outputs": [],
   "source": [
    "## SETUP used later\n",
    "\n",
    "from SPARQLWrapper import SPARQLWrapper, JSON\n",
    "\n",
    "\n",
    "prefixString = \"\"\"\n",
    "##-Notebook Code Here-##\n",
    "PREFIX wd: <http://www.wikidata.org/entity/> \n",
    "PREFIX wdt: <http://www.wikidata.org/prop/direct/> \n",
    "PREFIX sc: <http://schema.org/>\n",
    "\"\"\"\n",
    "\n",
    "# select and construct queries\n",
    "def run_query(queryString,verbose = True):\n",
    "    to_run = prefixString + \"\\n\" + queryString\n",
    "\n",
    "    sparql = SPARQLWrapper(\"Put your endpoint\")\n",
    "    sparql.setTimeout(300)\n",
    "    sparql.setReturnFormat(JSON)\n",
    "    sparql.setQuery(to_run)\n",
    "\n",
    "    try :\n",
    "        results = sparql.query()\n",
    "        json_results = results.convert()\n",
    "        if len(json_results['results']['bindings'])==0:\n",
    "            print(\"Empty\")\n",
    "            return []\n",
    "        array = []\n",
    "        for bindings in json_results['results']['bindings']:\n",
    "            app =  [ (var, value['value'])  for var, value in bindings.items() ] \n",
    "            if verbose:\n",
    "                print( app)\n",
    "            array.append(app)\n",
    "        if verbose:\n",
    "            print(len(array))\n",
    "        return array\n",
    "\n",
    "    except Exception as e :\n",
    "        print(\"The operation failed\", e)\n",
    "    \n",
    "# ASk queries\n",
    "def run_ask_query(queryString):\n",
    "    to_run = prefixString + \"\\n\" + queryString\n",
    "\n",
    "    sparql = SPARQLWrapper(\"Put your endpoint\")\n",
    "    sparql.setTimeout(300)\n",
    "    sparql.setReturnFormat(JSON)\n",
    "    sparql.setQuery(to_run)\n",
    "\n",
    "    try :\n",
    "        return sparql.query().convert()\n",
    "\n",
    "    except Exception as e :\n",
    "        print(\"The operation failed\", e)"
   ]
  },
  {
   "cell_type": "markdown",
   "id": "805b534e",
   "metadata": {},
   "source": [
    "# Sport Workflow Series (Basketball and NBA seasons explorative search\") \n",
    "\n",
    "Consider the following exploratory information need:\n",
    "\n",
    ">  investigate the world of basketball. Compare french teams and US teams, country of citizenship of NBA players, and teams which won NBA seasons."
   ]
  },
  {
   "cell_type": "markdown",
   "id": "06528228",
   "metadata": {},
   "source": [
    "## Useful URIs for the current workflow\n",
    "The following are given:\n",
    "\n",
    "| IRI           | Description   | Role      |\n",
    "| -----------   | -----------   |-----------|\n",
    "| `wdt:P1647`   | subproperty   | predicate |\n",
    "| `wdt:P31`     | instance of   | predicate |\n",
    "| `wdt:P106`    | profession    | predicate | \n",
    "| `wdt:P279`    | subclass      | predicate |\n",
    "| `wdt:P27`     | nationality   | predicate |\n",
    "| `wd:Q5`| Human       | node |\n",
    "| `wd:Q41421`| Michael Jordan     | node |\n",
    "| `wd:Q25369`| Kobe Bryant     | node |\n"
   ]
  },
  {
   "cell_type": "markdown",
   "id": "4646b188",
   "metadata": {},
   "source": [
    "\n",
    "\n",
    "\n",
    "Also consider\n",
    "\n",
    "```\n",
    "wd:Q41421 ?p ?obj .\n",
    "```\n",
    "\n",
    "is the BGP to retrieve all **properties of Michael Jordan**\n",
    "\n",
    "Please consider that when you return a resource, you should return the IRI and the label of the resource. In particular, when the task require you to identify a BGP the result set must always be a list of couples IRI - label.\n",
    "\n",
    "\n",
    "\n",
    "The workload should:\n",
    "\n",
    "\n",
    "1. Identify the BGP for basketball player.\n",
    "\n",
    "2. Identify the BGP for basketball.\n",
    "\n",
    "3. Identify the BGP for basketball team.\n",
    "\n",
    "4. Return all french basketball teams born before 1930 (the result set must be a list of triples basketball team IRI, label and year of inception).\n",
    "\n",
    "5. Return all the NBA season (the result set must be a list of couples NBA season IRI, label)\n",
    "\n",
    "6. Consider only the basketball teams which Michael Jordan and Kobe Bryant played. Return the number of NBA seasons won by these teams (the result set must be a list of triples basketball team IRI, label and #victories. Return a number for each basketball team even if they never won a season).\n",
    "\n",
    "7. Consider only NBA (National Basketball Association) basketball teams and all basketball players who played in one of these teams at least once. Also consider the country of citizenship of the players with the related continent. Return for each continent the number of players who played in an NBA basketball teams. (the result set must be triples of continent IRI, label and #players)\n",
    "\n",
    "8. Identify the BGP for the NBA Defensive Player of the Year Award (see https://en.wikipedia.org/wiki/NBA_Defensive_Player_of_the_Year_Award)\n",
    "\n",
    "9. Consider the players who won the NBA Defensive Player of the Year Award. Return for these players the number of NBA Defensive Player of the Year Award won in their career (the result set must be triples of player IRI, label and #victories)\n"
   ]
  },
  {
   "cell_type": "markdown",
   "id": "d3d3df09",
   "metadata": {},
   "source": [
    "## Task 1\n",
    "Identify the BGP for basketball player."
   ]
  },
  {
   "cell_type": "code",
   "execution_count": null,
   "id": "1bb5caea",
   "metadata": {},
   "outputs": [],
   "source": [
    "# query example\n",
    "queryString = \"\"\"\n",
    "SELECT DISTINCT ?p ?name\n",
    "WHERE {\n",
    "   # bind something\n",
    "   wd:Q41421 ?p ?obj .\n",
    "   # get the label\n",
    "   ?p sc:name ?name.\n",
    "}\n",
    "LIMIT 20\n",
    "\"\"\"\n",
    "\n",
    "print(\"Results\")\n",
    "x=run_query(queryString)"
   ]
  },
  {
   "cell_type": "markdown",
   "id": "81811ac8",
   "metadata": {},
   "source": [
    "Final query for this task"
   ]
  },
  {
   "cell_type": "code",
   "execution_count": null,
   "id": "44b3075d",
   "metadata": {},
   "outputs": [],
   "source": [
    "# write your final query"
   ]
  },
  {
   "cell_type": "markdown",
   "id": "b4effe35",
   "metadata": {},
   "source": [
    "## Task 2\n",
    "Identify the BGP for basketball."
   ]
  },
  {
   "cell_type": "code",
   "execution_count": null,
   "id": "02189727",
   "metadata": {},
   "outputs": [],
   "source": [
    "# write your queries"
   ]
  },
  {
   "cell_type": "markdown",
   "id": "644107e8",
   "metadata": {},
   "source": [
    "Final query for this task"
   ]
  },
  {
   "cell_type": "code",
   "execution_count": null,
   "id": "aed4e2a2",
   "metadata": {},
   "outputs": [],
   "source": [
    "# write your final query"
   ]
  },
  {
   "cell_type": "markdown",
   "id": "84d49dcc",
   "metadata": {},
   "source": [
    "## Task 3\n",
    "Identify the BGP for basketball team."
   ]
  },
  {
   "cell_type": "code",
   "execution_count": null,
   "id": "58f109fa",
   "metadata": {},
   "outputs": [],
   "source": [
    "# write your queries"
   ]
  },
  {
   "cell_type": "markdown",
   "id": "54fafd5e",
   "metadata": {},
   "source": [
    "Final query for this task"
   ]
  },
  {
   "cell_type": "code",
   "execution_count": null,
   "id": "3d02a71a",
   "metadata": {},
   "outputs": [],
   "source": [
    "# write your final query"
   ]
  },
  {
   "cell_type": "markdown",
   "id": "c815cdf9",
   "metadata": {},
   "source": [
    "## Task 4\n",
    "Return all french basketball teams born before 1930 (the result set must be a list of triples basketball team IRI, label and year of inception)."
   ]
  },
  {
   "cell_type": "code",
   "execution_count": null,
   "id": "dee45af2",
   "metadata": {},
   "outputs": [],
   "source": [
    "# write your queries"
   ]
  },
  {
   "cell_type": "markdown",
   "id": "fe3da157",
   "metadata": {},
   "source": [
    "Final query for this task"
   ]
  },
  {
   "cell_type": "code",
   "execution_count": null,
   "id": "05fe581c",
   "metadata": {},
   "outputs": [],
   "source": [
    "# write your final query"
   ]
  },
  {
   "cell_type": "markdown",
   "id": "22d888d7",
   "metadata": {},
   "source": [
    "## Task 5\n",
    "Return all the NBA season (the result set must be a list of couples NBA season IRI, label)"
   ]
  },
  {
   "cell_type": "code",
   "execution_count": null,
   "id": "f1c0aaac",
   "metadata": {},
   "outputs": [],
   "source": [
    "# write your queries"
   ]
  },
  {
   "cell_type": "markdown",
   "id": "938d4d7c",
   "metadata": {},
   "source": [
    "Final query for this task"
   ]
  },
  {
   "cell_type": "code",
   "execution_count": null,
   "id": "48df1ba4",
   "metadata": {},
   "outputs": [],
   "source": [
    "# write your final query"
   ]
  },
  {
   "cell_type": "markdown",
   "id": "f1671e7f",
   "metadata": {},
   "source": [
    "## Task 6\n",
    "Consider only the basketball teams which Michael Jordan and Kobe Bryant played. Return the number of NBA seasons won by these teams (the result set must be a list of triples basketball team IRI, label and #victories. Return a number for each basketball team even if they never won a season)."
   ]
  },
  {
   "cell_type": "code",
   "execution_count": null,
   "id": "e7f45f01",
   "metadata": {},
   "outputs": [],
   "source": [
    "# write your queries"
   ]
  },
  {
   "cell_type": "markdown",
   "id": "fc2deb69",
   "metadata": {},
   "source": [
    "Final query for this task"
   ]
  },
  {
   "cell_type": "code",
   "execution_count": null,
   "id": "8528eaac",
   "metadata": {},
   "outputs": [],
   "source": [
    "# write your final query"
   ]
  },
  {
   "cell_type": "markdown",
   "id": "aaca902c",
   "metadata": {},
   "source": [
    "## Task 7\n",
    "Consider only NBA (National Basketball Association) basketball teams and all basketball players who played in one of these teams at least once. Also consider the country of citizenship of the players with the related continent. Return for each continent the number of players who played in an NBA basketball teams. (the result set must be triples of continent IRI, label and #players)"
   ]
  },
  {
   "cell_type": "code",
   "execution_count": null,
   "id": "8ffc67ab",
   "metadata": {},
   "outputs": [],
   "source": [
    "# write your queries"
   ]
  },
  {
   "cell_type": "markdown",
   "id": "7b23beaa",
   "metadata": {},
   "source": [
    "Final query for this task"
   ]
  },
  {
   "cell_type": "code",
   "execution_count": null,
   "id": "1e9a9b23",
   "metadata": {},
   "outputs": [],
   "source": [
    "# write your final query"
   ]
  },
  {
   "cell_type": "markdown",
   "id": "eab11a50",
   "metadata": {},
   "source": [
    "## Task 8\n",
    "Identify the BGP for the NBA Defensive Player of the Year Award (see https://en.wikipedia.org/wiki/NBA_Defensive_Player_of_the_Year_Award)"
   ]
  },
  {
   "cell_type": "code",
   "execution_count": null,
   "id": "61cd428d",
   "metadata": {},
   "outputs": [],
   "source": [
    "# write your queries"
   ]
  },
  {
   "cell_type": "markdown",
   "id": "24cec939",
   "metadata": {},
   "source": [
    "Final query for this task"
   ]
  },
  {
   "cell_type": "code",
   "execution_count": null,
   "id": "dab55817",
   "metadata": {},
   "outputs": [],
   "source": [
    "# write your final query"
   ]
  },
  {
   "cell_type": "markdown",
   "id": "c00cfafb",
   "metadata": {},
   "source": [
    "## Task 9\n",
    "Consider the players who won the NBA Defensive Player of the Year Award. Return for these players the number of NBA Defensive Player of the Year Award won in their career (the result set must be triples of player IRI, label and #victories)"
   ]
  },
  {
   "cell_type": "code",
   "execution_count": null,
   "id": "4eae6a1e",
   "metadata": {},
   "outputs": [],
   "source": [
    "# write your queries"
   ]
  },
  {
   "cell_type": "markdown",
   "id": "7c1fc3c1",
   "metadata": {},
   "source": [
    "Final query for this task"
   ]
  },
  {
   "cell_type": "code",
   "execution_count": null,
   "id": "102a9bd8",
   "metadata": {},
   "outputs": [],
   "source": [
    "# write your final query"
   ]
  }
 ],
 "metadata": {},
 "nbformat": 4,
 "nbformat_minor": 5
}
