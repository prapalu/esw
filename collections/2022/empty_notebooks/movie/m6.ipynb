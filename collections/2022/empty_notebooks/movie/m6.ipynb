{
 "cells": [
  {
   "cell_type": "markdown",
   "id": "84a7c4c5",
   "metadata": {},
   "source": [
    "# General instructions\n",
    "\n",
    "The goal of the project is to materialize a set of **exploratory workloads** over a real-world, large-scale,  open-domain KG: [WikiData](https://www.wikidata.org/wiki/Wikidata:Main_Page)\n",
    "\n",
    "An exploratory workload  is composed by a set of queries, where each query is related to the information obtained previously.\n",
    "\n",
    "An exploratory workload starts with a usually vague, open ended question, and does not assume the person issuing the workload has a clear understanding of the data contained in the target database or its structure.\n",
    "\n",
    "Remeber that:\n",
    "\n",
    "1. All the queries must run in the python notebook\n",
    "2. You can use classes and properties only if you find them via a SPARQL query that must be present in the notebook\n",
    "3. You do not delete useless queries. Keep everything that is synthatically valid \n",
    "\n",
    "```\n",
    "?p <http://schema.org/name> ?name .\n",
    "```\n",
    "    \n",
    "    is the BGP returning a human-readable name of a property or a class in Wikidata.\n",
    "    \n",
    "    "
   ]
  },
  {
   "cell_type": "code",
   "execution_count": null,
   "id": "23e85883",
   "metadata": {},
   "outputs": [],
   "source": [
    "## SETUP used later\n",
    "\n",
    "from SPARQLWrapper import SPARQLWrapper, JSON\n",
    "\n",
    "\n",
    "prefixString = \"\"\"\n",
    "##-Notebook Code Here-##\n",
    "PREFIX wd: <http://www.wikidata.org/entity/> \n",
    "PREFIX wdt: <http://www.wikidata.org/prop/direct/> \n",
    "PREFIX sc: <http://schema.org/>\n",
    "\"\"\"\n",
    "\n",
    "# select and construct queries\n",
    "def run_query(queryString,verbose = True):\n",
    "    to_run = prefixString + \"\\n\" + queryString\n",
    "\n",
    "    sparql = SPARQLWrapper(\"Put your endpoint\")\n",
    "    sparql.setTimeout(300)\n",
    "    sparql.setReturnFormat(JSON)\n",
    "    sparql.setQuery(to_run)\n",
    "\n",
    "    try :\n",
    "        results = sparql.query()\n",
    "        json_results = results.convert()\n",
    "        if len(json_results['results']['bindings'])==0:\n",
    "            print(\"Empty\")\n",
    "            return []\n",
    "        array = []\n",
    "        for bindings in json_results['results']['bindings']:\n",
    "            app =  [ (var, value['value'])  for var, value in bindings.items() ] \n",
    "            if verbose:\n",
    "                print( app)\n",
    "            array.append(app)\n",
    "        if verbose:\n",
    "            print(len(array))\n",
    "        return array\n",
    "\n",
    "    except Exception as e :\n",
    "        print(\"The operation failed\", e)\n",
    "    \n",
    "# ASk queries\n",
    "def run_ask_query(queryString):\n",
    "    to_run = prefixString + \"\\n\" + queryString\n",
    "\n",
    "    sparql = SPARQLWrapper(\"Put your endpoint\")\n",
    "    sparql.setTimeout(300)\n",
    "    sparql.setReturnFormat(JSON)\n",
    "    sparql.setQuery(to_run)\n",
    "\n",
    "    try :\n",
    "        return sparql.query().convert()\n",
    "\n",
    "    except Exception as e :\n",
    "        print(\"The operation failed\", e)"
   ]
  },
  {
   "cell_type": "markdown",
   "id": "ffb107db",
   "metadata": {},
   "source": [
    "# Movie Workflow Series (\"Tv series Without a Trace explorative search\") \n",
    "\n",
    "\n",
    "Consider the following exploratory scenario:\n",
    "\n",
    "\n",
    "> we are interested in the TV series \"Without a Trace\" and we want to investigate the main aspects related to the actors and directors involved in the production, know the numerber of seasons and check what are the episodes which got the higher success/impact.\n",
    "\n",
    "\n",
    "## Useful URIs for the current workflow\n",
    "The following are given:\n",
    "\n",
    "| IRI           | Description   | Role      |\n",
    "| -----------   | -----------   |-----------|\n",
    "| `wdt:P1647`   | subproperty   | predicate |\n",
    "| `wdt:P31`     | instance of   | predicate |\n",
    "| `wdt:P106`    | profession    | predicate | \n",
    "| `wdt:P279`    | subclass      | predicate |\n",
    "| `wdt:P4969`    | derivative work      | predicate |\n",
    "| `wd:Q826477` | Without a Trace    | node |\n",
    "| `wd:Q733960` | Cold Case       | node |\n",
    "\n",
    "\n",
    "\n",
    "Also consider\n",
    "\n",
    "```\n",
    "wd:Q826477 ?p ?obj .\n",
    "```\n",
    "\n",
    "is the BGP to retrieve all **properties of Without a Trace**\n",
    "\n",
    "Please consider that when you return a resource, you should return the IRI and the label of the resource. In particular, when the task require you to identify a BGP the result set must always be a list of couples IRI - label.\n",
    "\n",
    "\n",
    "\n",
    "The workload should\n",
    "\n",
    "1. Identify the BGP for television series\n",
    "\n",
    "2. Return the number of seasons and episodes per season of the tv series (the result set must be triples of season IRI, label and #episodes).\n",
    "\n",
    "3. Get the number of episodes in which the cast members played a role. Who are the most present actors? (the result set must be a list of triples actor/actress IRI, label and #episodes)\n",
    "\n",
    "4. Check who is the actor who acted in more films while working on \"Without a Trace\" (the result set must be a list of triples actor/actress IRI, label and #films).\n",
    "\n",
    "5. Compare Without a Trace with the tv series \"Cold Case\" in terms of number of seasons, episods and cast members (the result set must be two elements -one for each tv series- of tv series IRI, label, #seasons, #episodes and #cast members).\n",
    "\n",
    "6. Return the actors who are members of the cast of Without a Trace have [Kavin Bacon number](https://en.wikipedia.org/wiki/Six_Degrees_of_Kevin_Bacon#:~:text=Kevin%20Bacon%20himself%20has%20a,Bacon%20number%20is%20N%2B1.) equal to 2 (the result set must be a list of couples actor/actress IRI and label).\n",
    "\n",
    "7. Consider the actors who are members of the cast of Cold Case. Amongst the tv series which these actors acted return only those which received more than 2 awards (the result set must be triples of tv series IRI, label, #awards won)."
   ]
  },
  {
   "cell_type": "markdown",
   "id": "75a47bfc",
   "metadata": {},
   "source": [
    "## Task 1\n",
    "Identify the BGP for television series"
   ]
  },
  {
   "cell_type": "code",
   "execution_count": null,
   "id": "3b188e77",
   "metadata": {},
   "outputs": [],
   "source": [
    "# query example\n",
    "queryString = \"\"\"\n",
    "SELECT DISTINCT ?p ?name\n",
    "WHERE {\n",
    "   # bind something\n",
    "   wd:Q826477 ?p ?obj .\n",
    "   # get the label\n",
    "   ?p sc:name ?name.\n",
    "}\n",
    "LIMIT 20\n",
    "\"\"\"\n",
    "\n",
    "print(\"Results\")\n",
    "x=run_query(queryString)"
   ]
  },
  {
   "cell_type": "markdown",
   "id": "e080fd9a",
   "metadata": {},
   "source": [
    "Final query for this task"
   ]
  },
  {
   "cell_type": "code",
   "execution_count": null,
   "id": "1b059a39",
   "metadata": {},
   "outputs": [],
   "source": [
    "# write your final query"
   ]
  },
  {
   "cell_type": "markdown",
   "id": "2568c881",
   "metadata": {},
   "source": [
    "## Task 2\n",
    "Return the number of seasons and episodes per season of the tv series (the result set must be triples of season IRI, label and #episodes)."
   ]
  },
  {
   "cell_type": "code",
   "execution_count": null,
   "id": "3fd58573",
   "metadata": {},
   "outputs": [],
   "source": [
    "# write your queries"
   ]
  },
  {
   "cell_type": "markdown",
   "id": "79c09af9",
   "metadata": {},
   "source": [
    "Final query for this task"
   ]
  },
  {
   "cell_type": "code",
   "execution_count": null,
   "id": "54c68eae",
   "metadata": {},
   "outputs": [],
   "source": [
    "# write your final query"
   ]
  },
  {
   "cell_type": "markdown",
   "id": "0164dac7",
   "metadata": {},
   "source": [
    "## Task 3\n",
    "Get the number of episodes in which the cast members played a role. Who are the most present actors? (the result set must be a list of triples actor/actress IRI, label and #episodes)"
   ]
  },
  {
   "cell_type": "code",
   "execution_count": null,
   "id": "55a632a2",
   "metadata": {},
   "outputs": [],
   "source": [
    "# write your queries"
   ]
  },
  {
   "cell_type": "markdown",
   "id": "d1f89649",
   "metadata": {},
   "source": [
    "Final query for this task"
   ]
  },
  {
   "cell_type": "code",
   "execution_count": null,
   "id": "73c8f183",
   "metadata": {},
   "outputs": [],
   "source": [
    "# write your final query"
   ]
  },
  {
   "cell_type": "markdown",
   "id": "cbcfbacf",
   "metadata": {},
   "source": [
    "## Task 4\n",
    "Check who is the actor who acted in more films while working on \"Without a Trace\" (the result set must be a list of triples actor/actress IRI, label and #films)."
   ]
  },
  {
   "cell_type": "code",
   "execution_count": null,
   "id": "e01263a6",
   "metadata": {},
   "outputs": [],
   "source": [
    "# write your queries"
   ]
  },
  {
   "cell_type": "markdown",
   "id": "8313e4bc",
   "metadata": {},
   "source": [
    "Final query for this task"
   ]
  },
  {
   "cell_type": "code",
   "execution_count": null,
   "id": "4ed5d889",
   "metadata": {},
   "outputs": [],
   "source": [
    "# write your final query"
   ]
  },
  {
   "cell_type": "markdown",
   "id": "bb97e4fc",
   "metadata": {},
   "source": [
    "## Task 5\n",
    "Compare Without a Trace with the tv series \"Cold Case\" in terms of number of seasons, episods and cast members (the result set must be two elements -one for each tv series- of tv series IRI, label, #seasons, #episodes and #cast members)."
   ]
  },
  {
   "cell_type": "code",
   "execution_count": null,
   "id": "80f962d0",
   "metadata": {},
   "outputs": [],
   "source": [
    "# write your queries"
   ]
  },
  {
   "cell_type": "markdown",
   "id": "c2272632",
   "metadata": {},
   "source": [
    "Final query for this task"
   ]
  },
  {
   "cell_type": "code",
   "execution_count": null,
   "id": "9ec6e256",
   "metadata": {},
   "outputs": [],
   "source": [
    "# write your final query"
   ]
  },
  {
   "cell_type": "markdown",
   "id": "2c613444",
   "metadata": {},
   "source": [
    "## Task 6\n",
    "Return the actors who are members of the cast of Without a Trace have [Kavin Bacon number](https://en.wikipedia.org/wiki/Six_Degrees_of_Kevin_Bacon#:~:text=Kevin%20Bacon%20himself%20has%20a,Bacon%20number%20is%20N%2B1.) equal to 2 (the result set must be a list of couples actor/actress IRI and label)."
   ]
  },
  {
   "cell_type": "code",
   "execution_count": null,
   "id": "fbf9d9c4",
   "metadata": {},
   "outputs": [],
   "source": [
    "# write your queries"
   ]
  },
  {
   "cell_type": "markdown",
   "id": "e7756982",
   "metadata": {},
   "source": [
    "Final query for this task"
   ]
  },
  {
   "cell_type": "code",
   "execution_count": null,
   "id": "1a9f6101",
   "metadata": {},
   "outputs": [],
   "source": [
    "# write your final query"
   ]
  },
  {
   "cell_type": "markdown",
   "id": "ad10ee64",
   "metadata": {},
   "source": [
    "## Task 7\n",
    "Consider the actors who are members of the cast of Cold Case. Amongst the tv series which these actors acted return only those which received more than 2 awards (the result set must be triples of tv series IRI, label, #awards won)."
   ]
  },
  {
   "cell_type": "code",
   "execution_count": null,
   "id": "f37b0be3",
   "metadata": {},
   "outputs": [],
   "source": [
    "# write your queries"
   ]
  },
  {
   "cell_type": "markdown",
   "id": "703354b5",
   "metadata": {},
   "source": [
    "Final query for this task"
   ]
  },
  {
   "cell_type": "code",
   "execution_count": null,
   "id": "966cc2c1",
   "metadata": {},
   "outputs": [],
   "source": [
    "# write your final query"
   ]
  }
 ],
 "metadata": {},
 "nbformat": 4,
 "nbformat_minor": 5
}
