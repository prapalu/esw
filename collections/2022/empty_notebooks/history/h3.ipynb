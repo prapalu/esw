{
 "cells": [
  {
   "cell_type": "markdown",
   "id": "bdd2c89a",
   "metadata": {},
   "source": [
    "# General instructions\n",
    "\n",
    "The goal of the project is to materialize a set of **exploratory workloads** over a real-world, large-scale,  open-domain KG: [WikiData](https://www.wikidata.org/wiki/Wikidata:Main_Page)\n",
    "\n",
    "An exploratory workload  is composed by a set of queries, where each query is related to the information obtained previously.\n",
    "\n",
    "An exploratory workload starts with a usually vague, open ended question, and does not assume the person issuing the workload has a clear understanding of the data contained in the target database or its structure.\n",
    "\n",
    "Remeber that:\n",
    "\n",
    "1. All the queries must run in the python notebook\n",
    "2. You can use classes and properties only if you find them via a SPARQL query that must be present in the notebook\n",
    "3. You do not delete useless queries. Keep everything that is synthatically valid \n",
    "\n",
    "```\n",
    "?p <http://schema.org/name> ?name .\n",
    "```\n",
    "    \n",
    "    is the BGP returning a human-readable name of a property or a class in Wikidata."
   ]
  },
  {
   "cell_type": "code",
   "execution_count": null,
   "id": "dee201bb",
   "metadata": {},
   "outputs": [],
   "source": [
    "## SETUP used later\n",
    "\n",
    "from SPARQLWrapper import SPARQLWrapper, JSON\n",
    "\n",
    "\n",
    "prefixString = \"\"\"\n",
    "##-Notebook Code Here-##\n",
    "PREFIX wd: <http://www.wikidata.org/entity/> \n",
    "PREFIX wdt: <http://www.wikidata.org/prop/direct/> \n",
    "PREFIX sc: <http://schema.org/>\n",
    "\"\"\"\n",
    "\n",
    "# select and construct queries\n",
    "def run_query(queryString,verbose = True):\n",
    "    to_run = prefixString + \"\\n\" + queryString\n",
    "\n",
    "    sparql = SPARQLWrapper(\"Put your endpoint\")\n",
    "    sparql.setTimeout(300)\n",
    "    sparql.setReturnFormat(JSON)\n",
    "    sparql.setQuery(to_run)\n",
    "\n",
    "    try :\n",
    "        results = sparql.query()\n",
    "        json_results = results.convert()\n",
    "        if len(json_results['results']['bindings'])==0:\n",
    "            print(\"Empty\")\n",
    "            return []\n",
    "        array = []\n",
    "        for bindings in json_results['results']['bindings']:\n",
    "            app =  [ (var, value['value'])  for var, value in bindings.items() ] \n",
    "            if verbose:\n",
    "                print( app)\n",
    "            array.append(app)\n",
    "        if verbose:\n",
    "            print(len(array))\n",
    "        return array\n",
    "\n",
    "    except Exception as e :\n",
    "        print(\"The operation failed\", e)\n",
    "    \n",
    "# ASk queries\n",
    "def run_ask_query(queryString):\n",
    "    to_run = prefixString + \"\\n\" + queryString\n",
    "\n",
    "    sparql = SPARQLWrapper(\"Put your endpoint\")\n",
    "    sparql.setTimeout(300)\n",
    "    sparql.setReturnFormat(JSON)\n",
    "    sparql.setQuery(to_run)\n",
    "\n",
    "    try :\n",
    "        return sparql.query().convert()\n",
    "\n",
    "    except Exception as e :\n",
    "        print(\"The operation failed\", e)"
   ]
  },
  {
   "cell_type": "markdown",
   "id": "5c694bde",
   "metadata": {},
   "source": [
    "# History Workflow Series (\"Cultural Movements explorative search\") \n",
    "\n",
    "Consider the following exploratory information need:\n",
    "\n",
    "> investigate the cultural movements, in particular the Renaissance, Baroque and Romanticsm. We'd like to get an overview of the main artists belonging to these movements, musicians, poets, sculptors and painters."
   ]
  },
  {
   "cell_type": "markdown",
   "id": "f8cf8834",
   "metadata": {},
   "source": [
    "## Useful URIs for the current workflow\n",
    "The following are given:\n",
    "\n",
    "| IRI           | Description   | Role      |\n",
    "| -----------   | -----------   |-----------|\n",
    "| `wdt:P1647`   | subproperty   | predicate |\n",
    "| `wdt:P31`     | instance of   | predicate |\n",
    "| `wdt:P106`    | occupation    | predicate | \n",
    "| `wdt:P279`    | subclass      | predicate |\n",
    "| `wdt:P27`     | nationality   | predicate |\n",
    "| `wdt:P3342`     | Significant person       | predicate |\n",
    "| `wd:Q5`| Human       | node |\n",
    "| `wd:Q37562`| Donatello    | node |\n",
    "| `wd:Q19675`| Louvre Museum | node |\n"
   ]
  },
  {
   "cell_type": "markdown",
   "id": "7e6020a2",
   "metadata": {},
   "source": [
    "\n",
    "\n",
    "\n",
    "Also consider\n",
    "\n",
    "```\n",
    "wd:Q37562 ?p ?obj .\n",
    "```\n",
    "\n",
    "is the BGP to retrieve all **properties of Donatello**\n",
    "\n",
    "Please consider that when you return a resource, you should return the IRI and the label of the resource. In particular, when the task require you to identify a BGP the result set must always be a list of couples IRI - label.\n",
    "\n",
    "The workload should:\n",
    "\n",
    "\n",
    "1. Identify the BGP for Cultural Movement\n",
    "\n",
    "2. Identify the BGP for Renassaince, Baroque and Romanticism\n",
    "\n",
    "3. Identify the BGP for composer, painter, sculptor and poet\n",
    "\n",
    "4. Consider Renaissance, Baroque and Romanticism. Find how many composers, painters, sculptors and poets belong to those cultural movements (the results set must be a list of triples movement, job, #people)\n",
    "\n",
    "5. Find how many sculptures were made in Italy during Renaissance, Baroque, and Romanticism movements. Please consider all the sculptures and all the sculpture subtypes. (the result set must be a list of triples movement IRI, label and #sculptures).\n",
    "\n",
    "6. For each European country find how many poets belong to Romanticism (the result set must be a list of triples country IRI, label and #poets).\n",
    "\n",
    "7. Find the number of sculptures in the Louvre Museum belonging to Renaissance, Baroque, or Romanticism (return a number for each movement) (the result set must be a list of triples movement IRI, label and #sculptures)."
   ]
  },
  {
   "cell_type": "markdown",
   "id": "b1442aed",
   "metadata": {},
   "source": [
    "## Task 1\n",
    "Identify the BGP for Cultural Movement"
   ]
  },
  {
   "cell_type": "code",
   "execution_count": null,
   "id": "39949ac0",
   "metadata": {},
   "outputs": [],
   "source": [
    "# query example\n",
    "queryString = \"\"\"\n",
    "SELECT DISTINCT ?p ?name\n",
    "WHERE {\n",
    "   # bind something\n",
    "   wd:Q37562 ?p ?obj .\n",
    "   # get the label\n",
    "   ?p sc:name ?name.\n",
    "}\n",
    "LIMIT 20\n",
    "\"\"\"\n",
    "\n",
    "print(\"Results\")\n",
    "x=run_query(queryString)"
   ]
  },
  {
   "cell_type": "markdown",
   "id": "12800778",
   "metadata": {},
   "source": [
    "Final query for this task"
   ]
  },
  {
   "cell_type": "code",
   "execution_count": null,
   "id": "77788741",
   "metadata": {},
   "outputs": [],
   "source": [
    "# write your final query"
   ]
  },
  {
   "cell_type": "markdown",
   "id": "01aa8bf9",
   "metadata": {},
   "source": [
    "## Task 2\n",
    "Identify the BGP for Renassaince, Baroque and Romanticism"
   ]
  },
  {
   "cell_type": "code",
   "execution_count": null,
   "id": "39dd006e",
   "metadata": {},
   "outputs": [],
   "source": [
    "# write your queries"
   ]
  },
  {
   "cell_type": "markdown",
   "id": "9ba3345a",
   "metadata": {},
   "source": [
    "Final query for this task"
   ]
  },
  {
   "cell_type": "code",
   "execution_count": null,
   "id": "9e9bdc10",
   "metadata": {},
   "outputs": [],
   "source": [
    "# write your final query"
   ]
  },
  {
   "cell_type": "markdown",
   "id": "6d9610a5",
   "metadata": {},
   "source": [
    "## Task 3\n",
    "Identify the BGP for composer, painter, sculptor and poet"
   ]
  },
  {
   "cell_type": "code",
   "execution_count": null,
   "id": "e24783fe",
   "metadata": {},
   "outputs": [],
   "source": [
    "# write your queries"
   ]
  },
  {
   "cell_type": "markdown",
   "id": "feb38841",
   "metadata": {},
   "source": [
    "Final query for this task"
   ]
  },
  {
   "cell_type": "code",
   "execution_count": null,
   "id": "43c37732",
   "metadata": {},
   "outputs": [],
   "source": [
    "# write your final query"
   ]
  },
  {
   "cell_type": "markdown",
   "id": "16c30c2c",
   "metadata": {},
   "source": [
    "## Task 4\n",
    "Consider Renaissance, Baroque and Romanticism. Find how many composers, painters, sculptors and poets belong to those cultural movements (the results set must be a list of triples movement, job, #people)"
   ]
  },
  {
   "cell_type": "code",
   "execution_count": null,
   "id": "7b8f8db1",
   "metadata": {},
   "outputs": [],
   "source": [
    "# write your queries"
   ]
  },
  {
   "cell_type": "markdown",
   "id": "eb55b035",
   "metadata": {},
   "source": [
    "Final query for this task"
   ]
  },
  {
   "cell_type": "code",
   "execution_count": null,
   "id": "6fad7ebb",
   "metadata": {},
   "outputs": [],
   "source": [
    "# write your final query"
   ]
  },
  {
   "cell_type": "markdown",
   "id": "257c36cd",
   "metadata": {},
   "source": [
    "## Task 5\n",
    "Find how many sculptures were made in Italy during Renaissance, Baroque, and Romanticism movements. Please consider all the sculptures and all the sculpture subtypes. (the result set must be a list of triples movement IRI, label and #sculptures)."
   ]
  },
  {
   "cell_type": "code",
   "execution_count": null,
   "id": "1619a899",
   "metadata": {},
   "outputs": [],
   "source": [
    "# write your queries"
   ]
  },
  {
   "cell_type": "markdown",
   "id": "cb6f96d8",
   "metadata": {},
   "source": [
    "Final query for this task"
   ]
  },
  {
   "cell_type": "code",
   "execution_count": null,
   "id": "5f9475c7",
   "metadata": {},
   "outputs": [],
   "source": [
    "# write your final query"
   ]
  },
  {
   "cell_type": "markdown",
   "id": "b28823c0",
   "metadata": {},
   "source": [
    "## Task 6\n",
    "For each European country find how many poets belong to Romanticism (the result set must be a list of triples country IRI, label and #poets)."
   ]
  },
  {
   "cell_type": "code",
   "execution_count": null,
   "id": "669d3b45",
   "metadata": {},
   "outputs": [],
   "source": [
    "# write your queries"
   ]
  },
  {
   "cell_type": "markdown",
   "id": "769afeba",
   "metadata": {},
   "source": [
    "Final query for this task"
   ]
  },
  {
   "cell_type": "code",
   "execution_count": null,
   "id": "3a55cebc",
   "metadata": {},
   "outputs": [],
   "source": [
    "# write your final query"
   ]
  },
  {
   "cell_type": "markdown",
   "id": "de1c4b6a",
   "metadata": {},
   "source": [
    "## Task 7\n",
    "Find the number of sculptures in the Louvre Museum belonging to Renaissance, Baroque, or Romanticism (return a number for each movement) (the result set must be a list of triples movement IRI, label and #sculptures)."
   ]
  },
  {
   "cell_type": "code",
   "execution_count": null,
   "id": "4a1a89f5",
   "metadata": {},
   "outputs": [],
   "source": [
    "# write your queries"
   ]
  },
  {
   "cell_type": "markdown",
   "id": "7c4d6777",
   "metadata": {},
   "source": [
    "Final query for this task"
   ]
  },
  {
   "cell_type": "code",
   "execution_count": null,
   "id": "4149275f",
   "metadata": {},
   "outputs": [],
   "source": [
    "# write your final query"
   ]
  }
 ],
 "metadata": {},
 "nbformat": 4,
 "nbformat_minor": 5
}
