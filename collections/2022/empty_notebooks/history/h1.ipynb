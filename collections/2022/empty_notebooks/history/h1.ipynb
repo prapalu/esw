{
 "cells": [
  {
   "cell_type": "markdown",
   "id": "720cd106",
   "metadata": {},
   "source": [
    "# General instructions\n",
    "\n",
    "The goal of the project is to materialize a set of **exploratory workloads** over a real-world, large-scale,  open-domain KG: [WikiData](https://www.wikidata.org/wiki/Wikidata:Main_Page)\n",
    "\n",
    "An exploratory workload  is composed by a set of queries, where each query is related to the information obtained previously.\n",
    "\n",
    "An exploratory workload starts with a usually vague, open ended question, and does not assume the person issuing the workload has a clear understanding of the data contained in the target database or its structure.\n",
    "\n",
    "Remeber that:\n",
    "\n",
    "1. All the queries must run in the python notebook\n",
    "2. You can use classes and properties only if you find them via a SPARQL query that must be present in the notebook\n",
    "3. You do not delete useless queries. Keep everything that is synthatically valid \n",
    "\n",
    "```\n",
    "?p <http://schema.org/name> ?name .\n",
    "```\n",
    "    \n",
    "    is the BGP returning a human-readable name of a property or a class in Wikidata."
   ]
  },
  {
   "cell_type": "code",
   "execution_count": null,
   "id": "531b9d40",
   "metadata": {},
   "outputs": [],
   "source": [
    "## SETUP used later\n",
    "\n",
    "from SPARQLWrapper import SPARQLWrapper, JSON\n",
    "\n",
    "\n",
    "prefixString = \"\"\"\n",
    "##-Notebook Code Here-##\n",
    "PREFIX wd: <http://www.wikidata.org/entity/> \n",
    "PREFIX wdt: <http://www.wikidata.org/prop/direct/> \n",
    "PREFIX sc: <http://schema.org/>\n",
    "\"\"\"\n",
    "\n",
    "# select and construct queries\n",
    "def run_query(queryString,verbose = True):\n",
    "    to_run = prefixString + \"\\n\" + queryString\n",
    "\n",
    "    sparql = SPARQLWrapper(\"Put your endpoint\")\n",
    "    sparql.setTimeout(300)\n",
    "    sparql.setReturnFormat(JSON)\n",
    "    sparql.setQuery(to_run)\n",
    "\n",
    "    try :\n",
    "        results = sparql.query()\n",
    "        json_results = results.convert()\n",
    "        if len(json_results['results']['bindings'])==0:\n",
    "            print(\"Empty\")\n",
    "            return []\n",
    "        array = []\n",
    "        for bindings in json_results['results']['bindings']:\n",
    "            app =  [ (var, value['value'])  for var, value in bindings.items() ] \n",
    "            if verbose:\n",
    "                print( app)\n",
    "            array.append(app)\n",
    "        if verbose:\n",
    "            print(len(array))\n",
    "        return array\n",
    "\n",
    "    except Exception as e :\n",
    "        print(\"The operation failed\", e)\n",
    "    \n",
    "# ASk queries\n",
    "def run_ask_query(queryString):\n",
    "    to_run = prefixString + \"\\n\" + queryString\n",
    "\n",
    "    sparql = SPARQLWrapper(\"Put your endpoint\")\n",
    "    sparql.setTimeout(300)\n",
    "    sparql.setReturnFormat(JSON)\n",
    "    sparql.setQuery(to_run)\n",
    "\n",
    "    try :\n",
    "        return sparql.query().convert()\n",
    "\n",
    "    except Exception as e :\n",
    "        print(\"The operation failed\", e)"
   ]
  },
  {
   "cell_type": "markdown",
   "id": "7bfde77d",
   "metadata": {},
   "source": [
    "# History Workflow Series (\"Ancient Rome explorative search\") \n",
    "\n",
    "Consider the following exploratory information need:\n",
    "\n",
    "> The goal of this workflow is to study the Ancient Rome and some of the main events connected to that historical period. For instance, the emperors, killings, wars and so on."
   ]
  },
  {
   "cell_type": "markdown",
   "id": "afc297e4",
   "metadata": {},
   "source": [
    "## Useful URIs for the current workflow\n",
    "The following data are given:\n",
    "\n",
    "| IRI           | Description   | Role      |\n",
    "| -----------   | -----------   |-----------|\n",
    "| `wdt:P1647`   | subproperty   | predicate |\n",
    "| `wdt:P31`     | instance of   | predicate |\n",
    "| `wdt:P106`    | occupation    | predicate | \n",
    "| `wdt:P279`    | subclass      | predicate |\n",
    "| `wdt:P27`     | nationality   | predicate |\n",
    "| `wdt:P3342`     | Significant person       | predicate |\n",
    "| `wd:Q5`| Human       | node |\n",
    "| `wd:Q1048`| Julius Caesar       | node |\n"
   ]
  },
  {
   "cell_type": "markdown",
   "id": "72113a7a",
   "metadata": {},
   "source": [
    "\n",
    "\n",
    "\n",
    "Also consider that\n",
    "\n",
    "```\n",
    "wd:Q1048 ?p ?obj .\n",
    "```\n",
    "\n",
    "is the BGP to retrieve all **properties of Julius Caesar**.\n",
    "\n",
    "Please consider that when you return a resource, you should return the IRI and the label of the resource. In particular, when the task require you to identify a BGP the result set must always be a list of couples IRI - label.\n",
    "\n",
    "The workload should:\n",
    "\n",
    "\n",
    "1. Identify the BGP for Ancient Rome\n",
    "\n",
    "2. Find all the Roman Dictators (return the IRI and the name of the dictator)\n",
    "\n",
    "3. Identify the BGP for Roman Empire and Roman Republic\n",
    "\n",
    "4. Return the IRI and the name of all Roman emperors killed by homicide (see \"manner of death\") and, for each killed emperor, return also the IRI and name of the killer, if present in Wikidata.\n",
    "\n",
    "5. Return the Roman emperors who killed another Roman emperor (the result set must a list of 4-tuples with killer IRI and label, and killed IRI and label).\n",
    "\n",
    "6. Find the BGP for war\n",
    "\n",
    "7. Find the wars (note that \"war\" and \"battle\" are not the same thing) participated by the Roman Empire (return IRI and name of the war).\n",
    "\n",
    "8. Consider all the wars participated by the Roman Empire. For each war return the number of related battles and the opponent (a war is composed of one or more battles) (the result set must be a list of 5-tuples war IRI, label, opponent IRI and label, and #battles).\n"
   ]
  },
  {
   "cell_type": "markdown",
   "id": "5d4f99a3",
   "metadata": {},
   "source": [
    "## Task 1\n",
    "Identify the BGP for Ancient Rome"
   ]
  },
  {
   "cell_type": "code",
   "execution_count": null,
   "id": "4654fddc",
   "metadata": {},
   "outputs": [],
   "source": [
    "# query example\n",
    "queryString = \"\"\"\n",
    "SELECT DISTINCT ?p ?name\n",
    "WHERE {\n",
    "   # bind something\n",
    "   wd:Q1048 ?p ?obj .\n",
    "   # get the label\n",
    "   ?p sc:name ?name.\n",
    "}\n",
    "LIMIT 20\n",
    "\"\"\"\n",
    "\n",
    "print(\"Results\")\n",
    "x=run_query(queryString)"
   ]
  },
  {
   "cell_type": "markdown",
   "id": "cc3a4a18",
   "metadata": {},
   "source": [
    "Final query for this task"
   ]
  },
  {
   "cell_type": "code",
   "execution_count": null,
   "id": "1d75a6e4",
   "metadata": {},
   "outputs": [],
   "source": [
    "# write your final query"
   ]
  },
  {
   "cell_type": "markdown",
   "id": "b04fa2f7",
   "metadata": {},
   "source": [
    "## Task 2\n",
    "Find all the Roman Dictators (return the IRI and the name of the dictator)"
   ]
  },
  {
   "cell_type": "code",
   "execution_count": null,
   "id": "5ceb2189",
   "metadata": {},
   "outputs": [],
   "source": [
    "# write your queries"
   ]
  },
  {
   "cell_type": "markdown",
   "id": "d206a2c9",
   "metadata": {},
   "source": [
    "Final query for this task"
   ]
  },
  {
   "cell_type": "code",
   "execution_count": null,
   "id": "28062cea",
   "metadata": {},
   "outputs": [],
   "source": [
    "# write your final query"
   ]
  },
  {
   "cell_type": "markdown",
   "id": "203e6b09",
   "metadata": {},
   "source": [
    "## Task 3\n",
    "Identify the BGP for Roman Empire and Roman Republic"
   ]
  },
  {
   "cell_type": "code",
   "execution_count": null,
   "id": "2ff4ffa6",
   "metadata": {},
   "outputs": [],
   "source": [
    "# write your queries"
   ]
  },
  {
   "cell_type": "markdown",
   "id": "029e4826",
   "metadata": {},
   "source": [
    "Final query for this task"
   ]
  },
  {
   "cell_type": "code",
   "execution_count": null,
   "id": "068e3ab6",
   "metadata": {},
   "outputs": [],
   "source": [
    "# write your final query"
   ]
  },
  {
   "cell_type": "markdown",
   "id": "de1090da",
   "metadata": {},
   "source": [
    "## Task 4\n",
    "Return the IRI and the name of all Roman emperors killed by homicide (see \"manner of death\") and, for each killed emperor, return also the IRI and name of the killer, if present in Wikidata."
   ]
  },
  {
   "cell_type": "code",
   "execution_count": null,
   "id": "93a5be70",
   "metadata": {},
   "outputs": [],
   "source": [
    "# write your queries"
   ]
  },
  {
   "cell_type": "markdown",
   "id": "3af59fee",
   "metadata": {},
   "source": [
    "Final query for this task"
   ]
  },
  {
   "cell_type": "code",
   "execution_count": null,
   "id": "28ba46fd",
   "metadata": {},
   "outputs": [],
   "source": [
    "# write your final query"
   ]
  },
  {
   "cell_type": "markdown",
   "id": "905b047d",
   "metadata": {},
   "source": [
    "## Task 5\n",
    "Return the Roman emperors who killed another Roman emperor (the result set must a list of 4-tuples with killer IRI and label, and killed IRI and label)."
   ]
  },
  {
   "cell_type": "code",
   "execution_count": null,
   "id": "3bab9200",
   "metadata": {},
   "outputs": [],
   "source": [
    "# write your queries"
   ]
  },
  {
   "cell_type": "markdown",
   "id": "e8dc45da",
   "metadata": {},
   "source": [
    "Final query for this task"
   ]
  },
  {
   "cell_type": "code",
   "execution_count": null,
   "id": "9f5a6e5e",
   "metadata": {},
   "outputs": [],
   "source": [
    "# write your final query"
   ]
  },
  {
   "cell_type": "markdown",
   "id": "0a026f2d",
   "metadata": {},
   "source": [
    "## Task 6\n",
    "Find the BGP for war"
   ]
  },
  {
   "cell_type": "code",
   "execution_count": null,
   "id": "679225aa",
   "metadata": {},
   "outputs": [],
   "source": [
    "# write your queries"
   ]
  },
  {
   "cell_type": "markdown",
   "id": "46810bd7",
   "metadata": {},
   "source": [
    "Final query for this task"
   ]
  },
  {
   "cell_type": "code",
   "execution_count": null,
   "id": "ad167985",
   "metadata": {},
   "outputs": [],
   "source": [
    "# write your final query"
   ]
  },
  {
   "cell_type": "markdown",
   "id": "f2cb0604",
   "metadata": {},
   "source": [
    "## Task 7\n",
    "Find the wars (note that \"war\" and \"battle\" are not the same thing) participated by the Roman Empire (return IRI and name of the war)."
   ]
  },
  {
   "cell_type": "code",
   "execution_count": null,
   "id": "9407f3f5",
   "metadata": {},
   "outputs": [],
   "source": [
    "# write your queries"
   ]
  },
  {
   "cell_type": "markdown",
   "id": "14e3d3a1",
   "metadata": {},
   "source": [
    "Final query for this task"
   ]
  },
  {
   "cell_type": "code",
   "execution_count": null,
   "id": "fb73a5b5",
   "metadata": {},
   "outputs": [],
   "source": [
    "# write your final query"
   ]
  },
  {
   "cell_type": "markdown",
   "id": "7be8da81",
   "metadata": {},
   "source": [
    "## Task 8\n",
    "Consider all the wars participated by the Roman Empire. For each war return the number of related battles and the opponent (a war is composed of one or more battles) (the result set must be a list of 5-tuples war IRI, label, opponent IRI and label, and #battles)."
   ]
  },
  {
   "cell_type": "code",
   "execution_count": null,
   "id": "cb0eb544",
   "metadata": {},
   "outputs": [],
   "source": [
    "# write your queries"
   ]
  },
  {
   "cell_type": "markdown",
   "id": "0d2ffe46",
   "metadata": {},
   "source": [
    "Final query for this task"
   ]
  },
  {
   "cell_type": "code",
   "execution_count": null,
   "id": "c2b7f5b0",
   "metadata": {},
   "outputs": [],
   "source": [
    "# write your final query"
   ]
  }
 ],
 "metadata": {},
 "nbformat": 4,
 "nbformat_minor": 5
}
