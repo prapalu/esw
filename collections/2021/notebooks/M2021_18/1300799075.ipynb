{
 "cells": [
  {
   "cell_type": "markdown",
   "id": "7034c3bf-6eb0-4418-8687-7b9d2a501103",
   "metadata": {
    "tags": []
   },
   "source": [
    "# General instructions\n",
    "\n",
    "The goal of the project is to materialize a set of **exploratory workloads** over a real-world, large-scale,  open-domain KG: [WikiData](https://www.wikidata.org/wiki/Wikidata:Main_Page)\n",
    "\n",
    "An exploratory workload  is composed by a set of queries, where each query is related to the information obtained previously.\n",
    "\n",
    "An exploratory workload starts with a usually vague, open ended question, and does not assume the person issuing the workload has a clear understanding of the data contained in the target database or its structure.\n",
    "\n",
    "Remeber that:\n",
    "\n",
    "1. All the queries must run in the python notebook\n",
    "2. You can use classes and properties only if you find them via a SPARQL query that must be present in the notebook\n",
    "3. You do not delete useless queries. Keep everything that is synthatically valid \n",
    "\n",
    "```\n",
    "?p sc:name ?name .\n",
    "```\n",
    "    \n",
    "    is the BGP returning a human-readable name of a property or a class in Wikidata.\n",
    "    \n",
    "    "
   ]
  },
  {
   "cell_type": "code",
   "execution_count": 1,
   "id": "3605c9d5-5371-49a5-be8d-d66e8f417139",
   "metadata": {},
   "outputs": [],
   "source": [
    "## SETUP used later\n",
    "\n",
    "from SPARQLWrapper import SPARQLWrapper, JSON\n",
    "\n",
    "\n",
    "prefixString = \"\"\"\n",
    "##-NOTEBOOK_CODE_HERE-##\n",
    "PREFIX wd: <http://www.wikidata.org/entity/> \n",
    "PREFIX wdt: <http://www.wikidata.org/prop/direct/> \n",
    "PREFIX sc: <http://schema.org/>\n",
    "\"\"\"\n",
    "\n",
    "# select and construct queries\n",
    "def run_query(queryString):\n",
    "    to_run = prefixString + \"\\n\" + queryString\n",
    "\n",
    "    sparql = SPARQLWrapper(\"http://a256-gc1-02.srv.aau.dk:5820/sparql\")\n",
    "    sparql.setTimeout(300)\n",
    "    sparql.setReturnFormat(JSON)\n",
    "    sparql.setQuery(to_run)\n",
    "\n",
    "    try :\n",
    "       results = sparql.query()\n",
    "       json_results = results.convert()\n",
    "       if len(json_results['results']['bindings'])==0:\n",
    "          print(\"Empty\")\n",
    "          return 0\n",
    "    \n",
    "       for bindings in json_results['results']['bindings']:\n",
    "          print( [ (var, value['value'])  for var, value in bindings.items() ] )\n",
    "\n",
    "       return len(json_results['results']['bindings'])\n",
    "\n",
    "    except Exception as e :\n",
    "        print(\"The operation failed\", e)\n",
    "    \n",
    "# ASk queries\n",
    "def run_ask_query(queryString):\n",
    "    to_run = prefixString + \"\\n\" + queryString\n",
    "\n",
    "    sparql = SPARQLWrapper(\"http://a256-gc1-03.srv.aau.dk:5820/sparql\")\n",
    "    sparql.setTimeout(300)\n",
    "    sparql.setReturnFormat(JSON)\n",
    "    sparql.setQuery(to_run)\n",
    "\n",
    "    try :\n",
    "        return sparql.query().convert()\n",
    "\n",
    "    except Exception as e :\n",
    "        print(\"The operation failed\", e)"
   ]
  },
  {
   "cell_type": "markdown",
   "id": "1f4a3dc2-0e0e-41c3-99fa-37f868e57f69",
   "metadata": {},
   "source": [
    "# Book Workflow Series (\"Political Magazines explorative search\") \n",
    "\n",
    "Consider the following exploratory scenario:\n",
    "\n",
    "\n",
    ">  Investigate the U.S. Magazines which write about politics and their media presence\n",
    "\n",
    "\n",
    "\n",
    "## Useful URIs for the current workflow\n",
    "The following are given:\n",
    "\n",
    "| IRI           | Description   | Role      |\n",
    "| -----------   | -----------   |-----------|\n",
    "| `wdt:P1647`   | subproperty   | predicate |\n",
    "| `wdt:P31`     | instance of   | predicate |\n",
    "| `wdt:P921`    | main subject  | predicate | \n",
    "| `wdt:P17`     | country       | predicate | \n",
    "| `wdt:P279`    | subclass      | predicate |\n",
    "| `wd:Q41298`   | Magazine      | node |\n",
    "| `wd:Q7163`    | politics      | node |\n",
    "| `wd:Q30`      | U.S.          | node |\n",
    "| `wd:Q217305`  | The New Yorker  | node |\n",
    "\n",
    "\n",
    "\n",
    "\n",
    "\n",
    "\n",
    "\n",
    "Also consider\n",
    "\n",
    "```\n",
    "?p wdt:P17 wd:Q30 .\n",
    "?p wdt:P31/wdt:P279* wd:Q41298  . \n",
    "```\n",
    "\n",
    "is the BGP to retrieve all **type of publications in the U.S.**\n",
    "\n",
    "\n",
    "The workload should\n",
    "\n",
    "\n",
    "1. Identify the BGP for obtaining the US magazines that write about politics\n",
    "\n",
    "2. Compare the number of social media followers and get the top five magazines along with main properties as the place of publication and subfields of work\n",
    "\n",
    "3. Compare the number of followers with the top three US magazines writing mainly about sports\n",
    "\n",
    "4. Get the name of notable employees working for The New Yorker and any other political magazine published in the US. Check if these employees have witten any book and if so get the title.  \n",
    "\n",
    "5. Is any employee of The New Yorker ever been nominated for a prize or award?"
   ]
  },
  {
   "cell_type": "code",
   "execution_count": 2,
   "id": "24a853ab-830c-422c-afd3-e9e015b8b8ed",
   "metadata": {},
   "outputs": [],
   "source": [
    "# start your workflow here"
   ]
  },
  {
   "cell_type": "code",
   "execution_count": 3,
   "id": "ade01416-92e7-4ad7-b9a9-b8fb330750dc",
   "metadata": {},
   "outputs": [
    {
     "name": "stdout",
     "output_type": "stream",
     "text": [
      "Results\n",
      "[('callret-0', '5422')]\n"
     ]
    },
    {
     "data": {
      "text/plain": [
       "1"
      ]
     },
     "execution_count": 3,
     "metadata": {},
     "output_type": "execute_result"
    }
   ],
   "source": [
    "queryString = \"\"\"\n",
    "SELECT COUNT(?p)\n",
    "WHERE { \n",
    "?p wdt:P17 wd:Q30 .\n",
    "?p wdt:P31/wdt:P279* wd:Q41298  . \n",
    "} \n",
    "\"\"\"\n",
    "\n",
    "print(\"Results\")\n",
    "run_query(queryString)"
   ]
  },
  {
   "cell_type": "markdown",
   "id": "c3df0d9b-6d30-4052-8840-0190981b22c9",
   "metadata": {
    "tags": []
   },
   "source": [
    "### 1. Identify the BGP for obtaining the US magazines that write about politics"
   ]
  },
  {
   "cell_type": "code",
   "execution_count": 4,
   "id": "fcffb3c2-b4ae-437c-8f78-0b579ac6031a",
   "metadata": {},
   "outputs": [
    {
     "name": "stdout",
     "output_type": "stream",
     "text": [
      "Results\n",
      "[('name', 'Legislative Studies Quarterly'), ('subject', 'political science'), ('country', 'United States of America')]\n",
      "[('name', 'The Good Society'), ('subject', 'political science'), ('country', 'United States of America')]\n",
      "[('name', 'Journal of World-Systems Research'), ('subject', 'political science'), ('country', 'United States of America')]\n",
      "[('name', 'Research & Politics'), ('subject', 'political science'), ('country', 'United States of America')]\n",
      "[('name', 'Bulletin of the Atomic Scientists'), ('subject', 'political science'), ('country', 'United States of America')]\n",
      "[('name', 'Journal of Political Ecology'), ('subject', 'political science'), ('country', 'United States of America')]\n",
      "[('name', 'Dissent'), ('subject', 'political science'), ('country', 'United States of America')]\n",
      "[('name', 'Telos'), ('subject', 'political science'), ('country', 'United States of America')]\n",
      "[('name', 'The Port Folio'), ('subject', 'politics'), ('country', 'United States of America')]\n",
      "[('name', 'Politico'), ('subject', 'politics'), ('country', 'United States of America')]\n",
      "[('name', 'The New Yorker'), ('subject', 'politics'), ('country', 'United States of America')]\n",
      "[('name', 'Commentary'), ('subject', 'politics'), ('country', 'United States of America')]\n",
      "[('name', 'Jacobin'), ('subject', 'politics'), ('country', 'United States of America')]\n",
      "[('name', 'The Liberator'), ('subject', 'politics'), ('country', 'United States of America')]\n",
      "[('name', 'The Politic'), ('subject', 'politics of the United States'), ('country', 'United States of America')]\n"
     ]
    },
    {
     "data": {
      "text/plain": [
       "15"
      ]
     },
     "execution_count": 4,
     "metadata": {},
     "output_type": "execute_result"
    }
   ],
   "source": [
    "queryString = \"\"\"\n",
    "SELECT DISTINCT ?name ?subject ?country\n",
    "WHERE { \n",
    "    ?p wdt:P17 wd:Q30 .\n",
    "    ?p wdt:P31/wdt:P279* wd:Q41298  . \n",
    "    ?p sc:name ?name .\n",
    "    ?p wdt:P921 ?m .\n",
    "    ?m sc:name ?subject .\n",
    "    FILTER REGEX(?subject, \".*polit.*\")\n",
    "    ?p wdt:P17 ?c.\n",
    "    ?c sc:name ?country .\n",
    "} ORDER BY ?subject\n",
    "  \n",
    "\"\"\"\n",
    "\n",
    "print(\"Results\")\n",
    "run_query(queryString)"
   ]
  },
  {
   "cell_type": "markdown",
   "id": "c06964e2-538e-40d7-a537-90c6770e1a47",
   "metadata": {},
   "source": [
    "### 2. Compare the number of social media followers and get the top five magazines along with main properties as the place of publication and subfields of work"
   ]
  },
  {
   "cell_type": "code",
   "execution_count": 5,
   "id": "6901e24a-0416-4677-acc9-cfb72e6ec996",
   "metadata": {
    "tags": []
   },
   "outputs": [
    {
     "name": "stdout",
     "output_type": "stream",
     "text": [
      "Results\n",
      "The operation failed timed out\n"
     ]
    }
   ],
   "source": [
    "queryString = \"\"\"\n",
    "SELECT DISTINCT ?p ?pname\n",
    "WHERE {\n",
    "    ?cs wdt:P31/wdt:P279* wd:Q41298;\n",
    "        ?p ?o .\n",
    "    # this returns the labels\n",
    "    ?p sc:name ?pname .\n",
    "    FILTER(REGEX(?pname, \".*follow.*\") || REGEX(?pname, \".*work.*\") || REGEX(?pname, \".*publ.*\"))\n",
    "}\n",
    "\n",
    "\"\"\"\n",
    "\n",
    "print(\"Results\")\n",
    "run_query(queryString)"
   ]
  },
  {
   "cell_type": "markdown",
   "id": "098a11e3-447d-4fde-bc1e-ff07ec74d392",
   "metadata": {},
   "source": [
    "P8687 Media followers\n",
    "\n",
    "P101 work fields\n",
    "\n",
    "P291 place of publication"
   ]
  },
  {
   "cell_type": "code",
   "execution_count": 6,
   "id": "90d11671-08a5-4de9-ba87-f0493ec102ba",
   "metadata": {},
   "outputs": [
    {
     "name": "stdout",
     "output_type": "stream",
     "text": [
      "Results\n",
      "[('name', 'Time'), ('place', 'New York City'), ('work', 'news'), ('mediafollowers', '17806837')]\n",
      "[('name', 'Apparel Arts'), ('place', 'New York City'), ('work', 'lifestyle'), ('mediafollowers', '6280000')]\n",
      "[('name', 'GQ'), ('place', 'New York City'), ('work', 'lifestyle'), ('mediafollowers', '6280000')]\n",
      "[('name', \"Gentlemen's Quarterly\"), ('place', 'New York City'), ('work', 'lifestyle'), ('mediafollowers', '6280000')]\n",
      "[('name', 'Scientific American'), ('place', 'New York City'), ('work', 'history'), ('mediafollowers', '3964337')]\n"
     ]
    },
    {
     "data": {
      "text/plain": [
       "5"
      ]
     },
     "execution_count": 6,
     "metadata": {},
     "output_type": "execute_result"
    }
   ],
   "source": [
    "queryString = \"\"\"\n",
    "SELECT DISTINCT ?name ?place ?work ?mediafollowers\n",
    "WHERE { \n",
    "    ?p wdt:P31/wdt:P279* wd:Q41298.\n",
    "    ?p wdt:P1476 ?name.\n",
    "    ?p wdt:P291 ?pl .\n",
    "    ?pl sc:name ?place .\n",
    "    ?p wdt:P101 ?w .\n",
    "    ?w sc:name ?work .\n",
    "    ?p wdt:P8687 ?mediafollowers .\n",
    "       \n",
    "} ORDER BY DESC(?mediafollowers)\n",
    "LIMIT 5\n",
    "\n",
    "\"\"\"\n",
    "\n",
    "print(\"Results\")\n",
    "run_query(queryString)"
   ]
  },
  {
   "cell_type": "markdown",
   "id": "4c99dfbe-d7f3-4e20-9b26-9e6c8ffed350",
   "metadata": {},
   "source": [
    "### 3. Compare the number of followers with the top three US magazines writing mainly about sports"
   ]
  },
  {
   "cell_type": "code",
   "execution_count": 7,
   "id": "1e49ce44-d4df-4f51-841c-f24cb47aa1e6",
   "metadata": {},
   "outputs": [
    {
     "name": "stdout",
     "output_type": "stream",
     "text": [
      "Results\n",
      "[('name', 'Track & Field News'), ('subject', 'sports magazine'), ('country', 'United States of America'), ('mediafollowers', '144716')]\n",
      "[('name', 'The Ring'), ('subject', 'sports magazine'), ('country', 'United States of America'), ('mediafollowers', '104600')]\n",
      "[('name', 'National Speed Sport News'), ('subject', 'motorsport'), ('country', 'United States of America'), ('mediafollowers', '24714')]\n"
     ]
    },
    {
     "data": {
      "text/plain": [
       "3"
      ]
     },
     "execution_count": 7,
     "metadata": {},
     "output_type": "execute_result"
    }
   ],
   "source": [
    "queryString = \"\"\"\n",
    "SELECT DISTINCT ?name ?subject ?country ?mediafollowers\n",
    "WHERE { \n",
    "    ?p wdt:P17 wd:Q30 .\n",
    "    ?p wdt:P31/wdt:P279* wd:Q41298  . \n",
    "    ?p sc:name ?name .\n",
    "    ?p wdt:P921 ?m .\n",
    "    ?m sc:name ?subject .\n",
    "    FILTER REGEX(?subject, \".*sport.*\")\n",
    "    ?p wdt:P17 ?c.\n",
    "    ?c sc:name ?country .\n",
    "    ?p wdt:P8687 ?mediafollowers .\n",
    "} ORDER BY DESC(?mediafollowers)\n",
    "LIMIT 3\n",
    "  \n",
    "\"\"\"\n",
    "\n",
    "print(\"Results\")\n",
    "run_query(queryString)"
   ]
  },
  {
   "cell_type": "markdown",
   "id": "6bcd1c14-93e6-42e8-bbe5-f8267d2797c2",
   "metadata": {},
   "source": [
    "### 4. Get the name of notable employees working for The New Yorker and any other political magazine published in the US. Check if these employees have witten any book and if so get the title. "
   ]
  },
  {
   "cell_type": "code",
   "execution_count": 8,
   "id": "d7aa0e1d-9518-4d8a-b795-1912603ba1f2",
   "metadata": {},
   "outputs": [
    {
     "name": "stdout",
     "output_type": "stream",
     "text": [
      "Results\n",
      "[('p', 'http://www.wikidata.org/prop/direct/P1128'), ('pname', 'employees')]\n",
      "[('p', 'http://www.wikidata.org/prop/direct/P4195'), ('pname', 'category for employees of the organization')]\n",
      "[('p', 'http://www.wikidata.org/prop/direct/P108'), ('pname', 'employer')]\n"
     ]
    },
    {
     "data": {
      "text/plain": [
       "3"
      ]
     },
     "execution_count": 8,
     "metadata": {},
     "output_type": "execute_result"
    }
   ],
   "source": [
    "queryString = \"\"\"\n",
    "SELECT DISTINCT ?p ?pname\n",
    "WHERE {\n",
    "    ?cs wdt:P17 wd:Q30 .\n",
    "    ?cs wdt:P31/wdt:P279* wd:Q41298;\n",
    "        ?p ?o .\n",
    "    # this returns the labels\n",
    "    ?p sc:name ?pname .\n",
    "    FILTER(REGEX(?pname, \".*empl.*\"))\n",
    "}\n",
    "\n",
    "\"\"\"\n",
    "\n",
    "print(\"Results\")\n",
    "run_query(queryString)"
   ]
  },
  {
   "cell_type": "markdown",
   "id": "a5422e98-9803-4f10-8941-3b6925a74d62",
   "metadata": {},
   "source": [
    "P1128 Employee"
   ]
  },
  {
   "cell_type": "code",
   "execution_count": 9,
   "id": "e035b110-a1fa-487a-9a97-c8760e3e3c5b",
   "metadata": {},
   "outputs": [
    {
     "name": "stdout",
     "output_type": "stream",
     "text": [
      "Results\n",
      "[('predicatename', 'field of work'), ('predicate', 'http://www.wikidata.org/prop/direct/P101')]\n",
      "[('predicatename', 'work period (start)'), ('predicate', 'http://www.wikidata.org/prop/direct/P2031')]\n",
      "[('predicatename', 'has works in the collection'), ('predicate', 'http://www.wikidata.org/prop/direct/P6379')]\n",
      "[('predicatename', 'Facebook ID'), ('predicate', 'http://www.wikidata.org/prop/direct/P2013')]\n",
      "[('predicatename', 'CiNii author ID (books)'), ('predicate', 'http://www.wikidata.org/prop/direct/P271')]\n",
      "[('predicatename', 'Prabook ID'), ('predicate', 'http://www.wikidata.org/prop/direct/P3368')]\n",
      "[('predicatename', 'notable work'), ('predicate', 'http://www.wikidata.org/prop/direct/P800')]\n",
      "[('predicatename', 'contributed to creative work'), ('predicate', 'http://www.wikidata.org/prop/direct/P3919')]\n"
     ]
    },
    {
     "data": {
      "text/plain": [
       "8"
      ]
     },
     "execution_count": 9,
     "metadata": {},
     "output_type": "execute_result"
    }
   ],
   "source": [
    "queryString = \"\"\"\n",
    "SELECT DISTINCT ?predicatename ?predicate\n",
    "WHERE {\n",
    "    ?p wdt:P17 wd:Q30 .\n",
    "    ?p wdt:P31/wdt:P279* wd:Q41298 .\n",
    "    ?p wdt:P921 ?m .\n",
    "    ?m sc:name ?subjectname . FILTER REGEX(?subjectname, \"politic\", 'i').\n",
    "    ?e wdt:P108 ?p .\n",
    "    ?e ?predicate ?o .\n",
    "    ?predicate sc:name ?predicatename\n",
    "    FILTER (REGEX(?predicatename, \".*book.*\") || REGEX(?predicatename, \".*work.*\"))\n",
    "}\n",
    "\"\"\"\n",
    "\n",
    "print(\"Results\")\n",
    "run_query(queryString)"
   ]
  },
  {
   "cell_type": "code",
   "execution_count": 10,
   "id": "2660dbb4-9173-4b0e-bdde-cb36ff86c5f0",
   "metadata": {},
   "outputs": [
    {
     "name": "stdout",
     "output_type": "stream",
     "text": [
      "Results\n",
      "[('employer', 'Hannah Arendt'), ('book', 'The Human Condition')]\n",
      "[('employer', 'Hannah Arendt'), ('book', 'The Origins of Totalitarianism')]\n",
      "[('employer', 'Hannah Arendt'), ('book', 'Eichmann in Jerusalem')]\n",
      "[('employer', 'Hannah Arendt'), ('book', 'Rahel Varnhagen')]\n",
      "[('employer', 'Hannah Arendt'), ('book', 'On Revolution')]\n",
      "[('employer', 'Saul Steinberg'), ('book', 'View of the World from 9th Avenue')]\n",
      "[('employer', 'Jean-Jacques Sempé'), ('book', 'Le petit Nicolas')]\n",
      "[('employer', 'Edmund Wilson'), ('book', 'Patriotic Gore')]\n",
      "[('employer', 'Edmund Wilson'), ('book', 'To the Finland Station')]\n",
      "[('employer', 'Jonathan Schell'), ('book', 'The Fate of the Earth')]\n",
      "[('employer', 'Adam Gopnik'), ('book', 'A Thousand Small Sanities')]\n",
      "[('employer', 'Dexter Filkins'), ('book', 'The Forever War')]\n",
      "[('employer', 'Lewis Mumford'), ('book', 'The City in History')]\n",
      "[('employer', 'Lewis Mumford'), ('book', 'The Myth of the Machine')]\n",
      "[('employer', 'Lewis Mumford'), ('book', 'Technics and Civilization')]\n",
      "[('employer', 'Lawrence Wright'), ('book', 'The Looming Tower')]\n",
      "[('employer', 'Jillian Tamaki'), ('book', '2015 TCAF Butter Tart Map')]\n",
      "[('employer', 'Blake Eskin'), ('book', 'A life in pieces')]\n",
      "[('employer', 'William Finnegan'), ('book', 'Barbarian Days: A Surfing Life')]\n",
      "[('employer', 'Steve Coll'), ('book', 'Ghost Wars')]\n",
      "[('employer', 'Steve Coll'), ('book', 'Directorate S')]\n",
      "[('employer', 'Steve Coll'), ('book', 'Private Empire: ExxonMobil and American Power')]\n",
      "[('employer', 'Talia Lavin'), ('book', 'Culture Warlords')]\n",
      "[('employer', 'Larissa MacFarquhar'), ('book', 'Strangers Drowning: Impossible Idealism, Drastic Choices, and the Urge to Help')]\n"
     ]
    },
    {
     "data": {
      "text/plain": [
       "24"
      ]
     },
     "execution_count": 10,
     "metadata": {},
     "output_type": "execute_result"
    }
   ],
   "source": [
    "queryString = \"\"\"\n",
    "SELECT DISTINCT ?employer ?book\n",
    "WHERE {\n",
    "    ?p wdt:P17 wd:Q30 .\n",
    "    ?p wdt:P31/wdt:P279* wd:Q41298 .\n",
    "    ?e wdt:P108 ?p.\n",
    "    ?p wdt:P921 ?m .\n",
    "    ?m sc:name ?subject . FILTER REGEX(?subject, \".*polit.*\")\n",
    "    ?e sc:name ?employer .\n",
    "    ?e wdt:P800 ?b .\n",
    "    ?b sc:name ?book\n",
    "}\n",
    "\"\"\"\n",
    "\n",
    "print(\"Results\")\n",
    "run_query(queryString)"
   ]
  },
  {
   "cell_type": "code",
   "execution_count": null,
   "id": "5764124e-24ca-450b-9733-608fe16daabc",
   "metadata": {},
   "outputs": [],
   "source": []
  }
 ],
 "metadata": {
  "kernelspec": {
   "display_name": "Python 3",
   "language": "python",
   "name": "python3"
  },
  "language_info": {
   "codemirror_mode": {
    "name": "ipython",
    "version": 3
   },
   "file_extension": ".py",
   "mimetype": "text/x-python",
   "name": "python",
   "nbconvert_exporter": "python",
   "pygments_lexer": "ipython3",
   "version": "3.7.10"
  }
 },
 "nbformat": 4,
 "nbformat_minor": 5
}
