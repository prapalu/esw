{
 "cells": [
  {
   "cell_type": "markdown",
   "id": "7034c3bf-6eb0-4418-8687-7b9d2a501103",
   "metadata": {},
   "source": [
    "# General instructions\n",
    "\n",
    "The goal of the project is to materialize a set of **exploratory workloads** over a real-world, large-scale,  open-domain KG: [WikiData](https://www.wikidata.org/wiki/Wikidata:Main_Page)\n",
    "\n",
    "An exploratory workload  is composed by a set of queries, where each query is related to the information obtained previously.\n",
    "\n",
    "An exploratory workload starts with a usually vague, open ended question, and does not assume the person issuing the workload has a clear understanding of the data contained in the target database or its structure.\n",
    "\n",
    "Remeber that:\n",
    "\n",
    "1. All the queries must run in the python notebook\n",
    "2. You can use classes and properties only if you find them via a SPARQL query that must be present in the notebook\n",
    "3. You do not delete useless queries. Keep everything that is synthatically valid \n",
    "\n",
    "```\n",
    "?p <http://schema.org/name> ?name .\n",
    "```\n",
    "    \n",
    "    is the BGP returning a human-readable name of a property or a class in Wikidata."
   ]
  },
  {
   "cell_type": "code",
   "execution_count": 1,
   "id": "3605c9d5-5371-49a5-be8d-d66e8f417139",
   "metadata": {},
   "outputs": [],
   "source": [
    "## SETUP used later\n",
    "\n",
    "from SPARQLWrapper import SPARQLWrapper, JSON\n",
    "\n",
    "\n",
    "prefixString = \"\"\"\n",
    "##-7fb80672bf-##\n",
    "PREFIX wd: <http://www.wikidata.org/entity/> \n",
    "PREFIX wdt: <http://www.wikidata.org/prop/direct/> \n",
    "PREFIX sc: <http://schema.org/>\n",
    "\"\"\"\n",
    "\n",
    "# select and construct queries\n",
    "def run_query(queryString):\n",
    "    to_run = prefixString + \"\\n\" + queryString\n",
    "\n",
    "    #sparql = SPARQLWrapper(\"http://a256-gc1-03.srv.aau.dk:5820/sparql\")\n",
    "    sparql = SPARQLWrapper(\"http://a256-gc1-02.srv.aau.dk:5820/sparql\")\n",
    "    sparql.setTimeout(300)\n",
    "    sparql.setReturnFormat(JSON)\n",
    "    sparql.setQuery(to_run)\n",
    "\n",
    "    try :\n",
    "       results = sparql.query()\n",
    "       json_results = results.convert()\n",
    "       if len(json_results['results']['bindings'])==0:\n",
    "          print(\"Empty\")\n",
    "          return 0\n",
    "    \n",
    "       for bindings in json_results['results']['bindings']:\n",
    "          print( [ (var, value['value'])  for var, value in bindings.items() ] )\n",
    "\n",
    "       return len(json_results['results']['bindings'])\n",
    "\n",
    "    except Exception as e :\n",
    "        print(\"The operation failed\", e)\n",
    "    \n",
    "# ASk queries\n",
    "def run_ask_query(queryString):\n",
    "    to_run = prefixString + \"\\n\" + queryString\n",
    "\n",
    "    #sparql = SPARQLWrapper(\"http://a256-gc1-03.srv.aau.dk:5820/sparql\")\n",
    "    sparql = SPARQLWrapper(\"http://a256-gc1-02.srv.aau.dk:5820/sparql\")\n",
    "    sparql.setTimeout(300)\n",
    "    sparql.setReturnFormat(JSON)\n",
    "    sparql.setQuery(to_run)\n",
    "\n",
    "    try :\n",
    "        return sparql.query().convert()\n",
    "\n",
    "    except Exception as e :\n",
    "        print(\"The operation failed\", e)"
   ]
  },
  {
   "cell_type": "markdown",
   "id": "d477a59c-a68c-4c8f-9f97-8ca5294d7d27",
   "metadata": {
    "tags": []
   },
   "source": [
    "# Movie Workflow Series (\"Directors explorative search\") \n",
    "\n",
    "Consider the following exploratory information need:\n",
    "\n",
    "> investigate the results concerning the common aspects between movies directed by Woody Allen or Quentin Tarantino. We want to know the people that worked for both directors with some numerical analyses, what are the differences in terms of budget for their movies, who won more Academy Awards. "
   ]
  },
  {
   "cell_type": "markdown",
   "id": "4a45c0ba-f79e-441d-bec5-84401b09db70",
   "metadata": {},
   "source": [
    "## Useful URIs for the current workflow\n",
    "The following are given:\n",
    "\n",
    "| IRI           | Description   | Role      |\n",
    "| -----------   | -----------   |-----------|\n",
    "| `wdt:P1647`   | subproperty   | predicate |\n",
    "| `wdt:P31`     | instance of   | predicate |\n",
    "| `wdt:P106`    | profession    | predicate | \n",
    "| `wdt:P279`    | subclass      | predicate |\n",
    "| `wdt:P27`     | nationality   | predicate |\n",
    "| `wdt:P106`     | profession   | predicate |\n",
    "| `wdt:P3342`     | Significant person       | predicate |\n",
    "| `wd:Q5`| Human       | node |\n",
    "| `wd:Q2526255`| Director       | node |\n",
    "| `wd:Q25089`| Woody Allen       | node |\n",
    "| `wd:Q3772`    | Quentin Tarantino      | node |\n"
   ]
  },
  {
   "cell_type": "markdown",
   "id": "7af439fb-96e4-4dbb-a381-f19afab79f86",
   "metadata": {
    "tags": []
   },
   "source": [
    "\n",
    "\n",
    "\n",
    "Also consider\n",
    "\n",
    "```\n",
    "wd:Q25089 ?p ?obj .\n",
    "```\n",
    "\n",
    "is the BGP to retrieve all **properties of Woody Allen**\n",
    "\n",
    "\n",
    "The workload should:\n",
    "\n",
    "\n",
    "1. Identify the BGP for films\n",
    "\n",
    "2. Identify the BGP for directors\n",
    "\n",
    "3. Identify the BGP for workers in a films\n",
    "\n",
    "4. Compare the workers amongst the films directed by the two directors\n",
    "\n",
    "5. Return some numerical comparison between the two directors (e.g., how many workers in Tarantino's movies who also worked in Allen's films?, what is the film with the highest number of shared actors? Who is the most used actor by both the directors? etc. )\n",
    "\n",
    "6. Is the maximum budget for a Tarantino's movie higher of the max budget of an Allen's movie?\n",
    "\n",
    "7. Who has films with more nominations for Academy Awards and who won more Academy Awards (with his films not only personal awards).\n",
    "\n",
    "    7.1 Find the BGP for Academy Awards \n",
    "\n",
    "    7.2 Find the related subproperties\n",
    "\n",
    "    7.3 Find how they are related to the directors\n",
    "    \n",
    "    7.4 Are there alternative queries to get the same result?\n",
    "\n"
   ]
  },
  {
   "cell_type": "markdown",
   "id": "47d3b1fc-261a-44f0-a328-58b4a0811194",
   "metadata": {},
   "source": [
    "## Task 1"
   ]
  },
  {
   "cell_type": "code",
   "execution_count": 3,
   "id": "ade01416-92e7-4ad7-b9a9-b8fb330750dc",
   "metadata": {
    "collapsed": true,
    "jupyter": {
     "outputs_hidden": true
    },
    "tags": []
   },
   "outputs": [
    {
     "name": "stdout",
     "output_type": "stream",
     "text": [
      "[('property', 'http://www.wikidata.org/prop/direct/P8585'), ('name', 'FIPRESCI person ID')]\n",
      "[('property', 'http://www.wikidata.org/prop/direct/P1006'), ('name', 'Nationale Thesaurus voor Auteurs ID')]\n",
      "[('property', 'http://www.wikidata.org/prop/direct/P1015'), ('name', 'NORAF ID')]\n",
      "[('property', 'http://www.wikidata.org/prop/direct/P106'), ('name', 'occupation')]\n",
      "[('property', 'http://www.wikidata.org/prop/direct/P109'), ('name', 'signature')]\n",
      "[('property', 'http://www.wikidata.org/prop/direct/P1207'), ('name', 'NUKAT ID')]\n",
      "[('property', 'http://www.wikidata.org/prop/direct/P1220'), ('name', 'Internet Broadway Database person ID')]\n",
      "[('property', 'http://www.wikidata.org/prop/direct/P1258'), ('name', 'Rotten Tomatoes ID')]\n",
      "[('property', 'http://www.wikidata.org/prop/direct/P1263'), ('name', 'NNDB people ID')]\n",
      "[('property', 'http://www.wikidata.org/prop/direct/P1266'), ('name', 'AlloCiné person ID')]\n",
      "[('property', 'http://www.wikidata.org/prop/direct/P1273'), ('name', 'CANTIC ID')]\n",
      "[('property', 'http://www.wikidata.org/prop/direct/P1280'), ('name', 'CONOR.SI ID')]\n",
      "[('property', 'http://www.wikidata.org/prop/direct/P1283'), ('name', 'filmography')]\n",
      "[('property', 'http://www.wikidata.org/prop/direct/P1284'), ('name', 'Munzinger person ID')]\n",
      "[('property', 'http://www.wikidata.org/prop/direct/P1296'), ('name', 'Gran Enciclopèdia Catalana ID')]\n",
      "[('property', 'http://www.wikidata.org/prop/direct/P1315'), ('name', 'NLA Trove ID')]\n",
      "[('property', 'http://www.wikidata.org/prop/direct/P1343'), ('name', 'described by source')]\n",
      "[('property', 'http://www.wikidata.org/prop/direct/P136'), ('name', 'genre')]\n",
      "[('property', 'http://www.wikidata.org/prop/direct/P1368'), ('name', 'LNB ID')]\n",
      "[('property', 'http://www.wikidata.org/prop/direct/P1375'), ('name', 'NSK ID')]\n",
      "[('property', 'http://www.wikidata.org/prop/direct/P140'), ('name', 'religion')]\n",
      "[('property', 'http://www.wikidata.org/prop/direct/P1411'), ('name', 'nominated for')]\n",
      "[('property', 'http://www.wikidata.org/prop/direct/P1412'), ('name', 'languages spoken, written or signed')]\n",
      "[('property', 'http://www.wikidata.org/prop/direct/P1417'), ('name', 'Encyclopædia Britannica Online ID')]\n",
      "[('property', 'http://www.wikidata.org/prop/direct/P1424'), ('name', \"topic's main template\")]\n",
      "[('property', 'http://www.wikidata.org/prop/direct/P1559'), ('name', 'name in native language')]\n",
      "[('property', 'http://www.wikidata.org/prop/direct/P1580'), ('name', 'University of Barcelona authority ID')]\n",
      "[('property', 'http://www.wikidata.org/prop/direct/P1649'), ('name', 'KMDb person ID')]\n",
      "[('property', 'http://www.wikidata.org/prop/direct/P166'), ('name', 'award received')]\n",
      "[('property', 'http://www.wikidata.org/prop/direct/P1695'), ('name', 'NLP ID (unique)')]\n",
      "[('property', 'http://www.wikidata.org/prop/direct/P1712'), ('name', 'Metacritic ID')]\n",
      "[('property', 'http://www.wikidata.org/prop/direct/P172'), ('name', 'ethnic group')]\n",
      "[('property', 'http://www.wikidata.org/prop/direct/P1741'), ('name', 'GTAA ID')]\n",
      "[('property', 'http://www.wikidata.org/prop/direct/P18'), ('name', 'image')]\n",
      "[('property', 'http://www.wikidata.org/prop/direct/P1830'), ('name', 'owner of')]\n",
      "[('property', 'http://www.wikidata.org/prop/direct/P1890'), ('name', 'CCAB ID')]\n",
      "[('property', 'http://www.wikidata.org/prop/direct/P19'), ('name', 'place of birth')]\n",
      "[('property', 'http://www.wikidata.org/prop/direct/P1953'), ('name', 'Discogs artist ID')]\n",
      "[('property', 'http://www.wikidata.org/prop/direct/P1969'), ('name', 'MovieMeter director ID (former scheme)')]\n",
      "[('property', 'http://www.wikidata.org/prop/direct/P1971'), ('name', 'number of children')]\n",
      "[('property', 'http://www.wikidata.org/prop/direct/P1977'), ('name', 'Les Archives du Spectacle Person ID')]\n",
      "[('property', 'http://www.wikidata.org/prop/direct/P2019'), ('name', 'AllMovie person ID')]\n",
      "[('property', 'http://www.wikidata.org/prop/direct/P2031'), ('name', 'work period (start)')]\n",
      "[('property', 'http://www.wikidata.org/prop/direct/P21'), ('name', 'sex or gender')]\n",
      "[('property', 'http://www.wikidata.org/prop/direct/P213'), ('name', 'ISNI')]\n",
      "[('property', 'http://www.wikidata.org/prop/direct/P214'), ('name', 'VIAF ID')]\n",
      "[('property', 'http://www.wikidata.org/prop/direct/P2163'), ('name', 'FAST ID')]\n",
      "[('property', 'http://www.wikidata.org/prop/direct/P2168'), ('name', 'Swedish Film Database person ID')]\n",
      "[('property', 'http://www.wikidata.org/prop/direct/P2174'), ('name', 'Museum of Modern Art artist ID')]\n",
      "[('property', 'http://www.wikidata.org/prop/direct/P2191'), ('name', 'Vegetti Catalog of Fantastic Literature NILF ID')]\n",
      "[('property', 'http://www.wikidata.org/prop/direct/P22'), ('name', 'father')]\n",
      "[('property', 'http://www.wikidata.org/prop/direct/P2218'), ('name', 'net worth')]\n",
      "[('property', 'http://www.wikidata.org/prop/direct/P227'), ('name', 'GND ID')]\n",
      "[('property', 'http://www.wikidata.org/prop/direct/P2373'), ('name', 'Genius artist ID')]\n",
      "[('property', 'http://www.wikidata.org/prop/direct/P2387'), ('name', 'Elonet person ID')]\n",
      "[('property', 'http://www.wikidata.org/prop/direct/P2435'), ('name', 'PORT person ID')]\n",
      "[('property', 'http://www.wikidata.org/prop/direct/P244'), ('name', 'Library of Congress authority ID')]\n",
      "[('property', 'http://www.wikidata.org/prop/direct/P245'), ('name', 'Union List of Artist Names ID')]\n",
      "[('property', 'http://www.wikidata.org/prop/direct/P2471'), ('name', 'Models.com person ID')]\n",
      "[('property', 'http://www.wikidata.org/prop/direct/P2519'), ('name', 'Scope.dk person ID')]\n",
      "[('property', 'http://www.wikidata.org/prop/direct/P26'), ('name', 'spouse')]\n",
      "[('property', 'http://www.wikidata.org/prop/direct/P2604'), ('name', 'Kinopoisk person ID')]\n",
      "[('property', 'http://www.wikidata.org/prop/direct/P2605'), ('name', 'ČSFD person ID')]\n",
      "[('property', 'http://www.wikidata.org/prop/direct/P2626'), ('name', 'Danish National Filmography person ID')]\n",
      "[('property', 'http://www.wikidata.org/prop/direct/P2638'), ('name', 'TV.com ID')]\n",
      "[('property', 'http://www.wikidata.org/prop/direct/P2639'), ('name', 'Filmportal ID')]\n",
      "[('property', 'http://www.wikidata.org/prop/direct/P268'), ('name', 'Bibliothèque nationale de France ID')]\n",
      "[('property', 'http://www.wikidata.org/prop/direct/P2688'), ('name', 'Box Office Mojo person ID')]\n",
      "[('property', 'http://www.wikidata.org/prop/direct/P269'), ('name', 'IdRef ID')]\n",
      "[('property', 'http://www.wikidata.org/prop/direct/P27'), ('name', 'country of citizenship')]\n",
      "[('property', 'http://www.wikidata.org/prop/direct/P271'), ('name', 'CiNii author ID (books)')]\n",
      "[('property', 'http://www.wikidata.org/prop/direct/P2734'), ('name', 'Unz Review author ID')]\n",
      "[('property', 'http://www.wikidata.org/prop/direct/P2924'), ('name', 'Great Russian Encyclopedia Online ID')]\n",
      "[('property', 'http://www.wikidata.org/prop/direct/P3056'), ('name', 'TCM Movie Database person ID')]\n",
      "[('property', 'http://www.wikidata.org/prop/direct/P3065'), ('name', 'RERO ID')]\n",
      "[('property', 'http://www.wikidata.org/prop/direct/P31'), ('name', 'instance of')]\n",
      "[('property', 'http://www.wikidata.org/prop/direct/P3136'), ('name', 'elCinema person ID')]\n",
      "[('property', 'http://www.wikidata.org/prop/direct/P3204'), ('name', 'Ciné-Ressources person ID')]\n",
      "[('property', 'http://www.wikidata.org/prop/direct/P3219'), ('name', 'Encyclopædia Universalis ID')]\n",
      "[('property', 'http://www.wikidata.org/prop/direct/P3222'), ('name', 'NE.se ID')]\n",
      "[('property', 'http://www.wikidata.org/prop/direct/P3280'), ('name', 'BAnQ author ID')]\n",
      "[('property', 'http://www.wikidata.org/prop/direct/P3305'), ('name', 'KINENOTE person ID')]\n",
      "[('property', 'http://www.wikidata.org/prop/direct/P3341'), ('name', 'Kvikmyndir person ID')]\n",
      "[('property', 'http://www.wikidata.org/prop/direct/P3348'), ('name', 'National Library of Greece ID')]\n",
      "[('property', 'http://www.wikidata.org/prop/direct/P3365'), ('name', 'Treccani ID')]\n",
      "[('property', 'http://www.wikidata.org/prop/direct/P3417'), ('name', 'Quora topic ID')]\n",
      "[('property', 'http://www.wikidata.org/prop/direct/P3430'), ('name', 'SNAC ARK ID')]\n",
      "[('property', 'http://www.wikidata.org/prop/direct/P345'), ('name', 'IMDb ID')]\n",
      "[('property', 'http://www.wikidata.org/prop/direct/P3478'), ('name', 'Songkick artist ID')]\n",
      "[('property', 'http://www.wikidata.org/prop/direct/P349'), ('name', 'National Diet Library ID')]\n",
      "[('property', 'http://www.wikidata.org/prop/direct/P3509'), ('name', 'Dagens Nyheter topic ID')]\n",
      "[('property', 'http://www.wikidata.org/prop/direct/P3553'), ('name', 'Zhihu topic ID')]\n",
      "[('property', 'http://www.wikidata.org/prop/direct/P3569'), ('name', 'Cultureel Woordenboek ID')]\n",
      "[('property', 'http://www.wikidata.org/prop/direct/P3630'), ('name', 'Babelio author ID')]\n",
      "[('property', 'http://www.wikidata.org/prop/direct/P373'), ('name', 'Commons category')]\n",
      "[('property', 'http://www.wikidata.org/prop/direct/P3762'), ('name', 'openMLOL author ID')]\n",
      "[('property', 'http://www.wikidata.org/prop/direct/P3845'), ('name', 'TV Guide person ID (former scheme)')]\n",
      "[('property', 'http://www.wikidata.org/prop/direct/P3846'), ('name', 'DBC author ID')]\n",
      "[('property', 'http://www.wikidata.org/prop/direct/P39'), ('name', 'position held')]\n",
      "[('property', 'http://www.wikidata.org/prop/direct/P396'), ('name', 'SBN author ID')]\n",
      "[('property', 'http://www.wikidata.org/prop/direct/P3987'), ('name', 'SHARE Catalogue author ID')]\n",
      "[('property', 'http://www.wikidata.org/prop/direct/P409'), ('name', 'Libraries Australia ID')]\n",
      "[('property', 'http://www.wikidata.org/prop/direct/P4223'), ('name', \"Treccani's Enciclopedia Italiana ID\")]\n",
      "[('property', 'http://www.wikidata.org/prop/direct/P4326'), ('name', 'BFI Filmography person ID')]\n",
      "[('property', 'http://www.wikidata.org/prop/direct/P4332'), ('name', 'Deutsche Synchronkartei actor ID')]\n",
      "[('property', 'http://www.wikidata.org/prop/direct/P434'), ('name', 'MusicBrainz artist ID')]\n",
      "[('property', 'http://www.wikidata.org/prop/direct/P4342'), ('name', 'Store norske leksikon ID')]\n",
      "[('property', 'http://www.wikidata.org/prop/direct/P4438'), ('name', 'BFI Films, TV and people ID')]\n",
      "[('property', 'http://www.wikidata.org/prop/direct/P451'), ('name', 'unmarried partner')]\n",
      "[('property', 'http://www.wikidata.org/prop/direct/P4515'), ('name', 'Prisma ID')]\n",
      "[('property', 'http://www.wikidata.org/prop/direct/P4619'), ('name', 'National Library of Brazil ID')]\n",
      "[('property', 'http://www.wikidata.org/prop/direct/P463'), ('name', 'member of')]\n",
      "[('property', 'http://www.wikidata.org/prop/direct/P4657'), ('name', 'The Numbers person ID')]\n",
      "[('property', 'http://www.wikidata.org/prop/direct/P4666'), ('name', 'CineMagia person ID')]\n",
      "[('property', 'http://www.wikidata.org/prop/direct/P4768'), ('name', 'cinematografo.it name or company ID')]\n",
      "[('property', 'http://www.wikidata.org/prop/direct/P4779'), ('name', 'MYmovies actor ID')]\n",
      "[('property', 'http://www.wikidata.org/prop/direct/P4782'), ('name', 'Movieplayer person ID')]\n",
      "[('property', 'http://www.wikidata.org/prop/direct/P4785'), ('name', 'MYmovies name ID')]\n",
      "[('property', 'http://www.wikidata.org/prop/direct/P4985'), ('name', 'TMDb person ID')]\n",
      "[('property', 'http://www.wikidata.org/prop/direct/P5019'), ('name', 'Brockhaus Enzyklopädie online ID')]\n",
      "[('property', 'http://www.wikidata.org/prop/direct/P5034'), ('name', 'National Library of Korea ID')]\n",
      "[('property', 'http://www.wikidata.org/prop/direct/P5063'), ('name', 'Interlingual Index ID')]\n",
      "[('property', 'http://www.wikidata.org/prop/direct/P5284'), ('name', 'Douban movie celebrity ID')]\n",
      "[('property', 'http://www.wikidata.org/prop/direct/P5319'), ('name', 'César Award person ID')]\n",
      "[('property', 'http://www.wikidata.org/prop/direct/P5340'), ('name', 'American Film Institute person ID')]\n",
      "[('property', 'http://www.wikidata.org/prop/direct/P5421'), ('name', 'Trading Card Database person ID')]\n",
      "[('property', 'http://www.wikidata.org/prop/direct/P5491'), ('name', \"BD Gest' author ID\")]\n",
      "[('property', 'http://www.wikidata.org/prop/direct/P5534'), ('name', 'Open Media Database person ID')]\n",
      "[('property', 'http://www.wikidata.org/prop/direct/P5587'), ('name', 'Libris-URI')]\n",
      "[('property', 'http://www.wikidata.org/prop/direct/P5617'), ('name', 'Evene ID')]\n",
      "[('property', 'http://www.wikidata.org/prop/direct/P569'), ('name', 'date of birth')]\n",
      "[('property', 'http://www.wikidata.org/prop/direct/P5695'), ('name', 'Bibliopoche author ID')]\n",
      "[('property', 'http://www.wikidata.org/prop/direct/P6150'), ('name', 'Academy Awards Database nominee ID')]\n",
      "[('property', 'http://www.wikidata.org/prop/direct/P6298'), ('name', 'bgm.tv person ID')]\n",
      "[('property', 'http://www.wikidata.org/prop/direct/P6379'), ('name', 'has works in the collection')]\n",
      "[('property', 'http://www.wikidata.org/prop/direct/P6394'), ('name', 'ELNET ID')]\n",
      "[('property', 'http://www.wikidata.org/prop/direct/P646'), ('name', 'Freebase ID')]\n",
      "[('property', 'http://www.wikidata.org/prop/direct/P648'), ('name', 'Open Library ID')]\n",
      "[('property', 'http://www.wikidata.org/prop/direct/P6517'), ('name', 'WhoSampled artist ID')]\n",
      "[('property', 'http://www.wikidata.org/prop/direct/P6521'), ('name', 'Crew United person ID')]\n",
      "[('property', 'http://www.wikidata.org/prop/direct/P6706'), ('name', 'De Agostini ID')]\n",
      "[('property', 'http://www.wikidata.org/prop/direct/P6839'), ('name', 'TV Tropes identifier')]\n",
      "[('property', 'http://www.wikidata.org/prop/direct/P6844'), ('name', 'abART person ID')]\n",
      "[('property', 'http://www.wikidata.org/prop/direct/P6868'), ('name', 'Hoopla artist ID')]\n",
      "[('property', 'http://www.wikidata.org/prop/direct/P691'), ('name', 'NKCR AUT ID')]\n",
      "[('property', 'http://www.wikidata.org/prop/direct/P7029'), ('name', 'National Library of Russia ID')]\n",
      "[('property', 'http://www.wikidata.org/prop/direct/P7084'), ('name', 'related category')]\n",
      "[('property', 'http://www.wikidata.org/prop/direct/P7119'), ('name', 'AMPAS collections person ID')]\n",
      "[('property', 'http://www.wikidata.org/prop/direct/P7214'), ('name', 'Allcinema person ID')]\n",
      "[('property', 'http://www.wikidata.org/prop/direct/P7215'), ('name', 'Eiga.com person ID')]\n",
      "[('property', 'http://www.wikidata.org/prop/direct/P7293'), ('name', 'PLWABN ID')]\n",
      "[('property', 'http://www.wikidata.org/prop/direct/P7300'), ('name', 'MUBI person ID')]\n",
      "[('property', 'http://www.wikidata.org/prop/direct/P734'), ('name', 'family name')]\n",
      "[('property', 'http://www.wikidata.org/prop/direct/P735'), ('name', 'given name')]\n",
      "[('property', 'http://www.wikidata.org/prop/direct/P7369'), ('name', 'National Library of Chile ID')]\n",
      "[('property', 'http://www.wikidata.org/prop/direct/P737'), ('name', 'influenced by')]\n",
      "[('property', 'http://www.wikidata.org/prop/direct/P7699'), ('name', 'National Library of Lithuania ID')]\n",
      "[('property', 'http://www.wikidata.org/prop/direct/P7704'), ('name', 'Europeana entity')]\n",
      "[('property', 'http://www.wikidata.org/prop/direct/P7763'), ('name', 'copyright status as a creator')]\n",
      "[('property', 'http://www.wikidata.org/prop/direct/P7803'), ('name', 'Decine21 person ID')]\n",
      "[('property', 'http://www.wikidata.org/prop/direct/P7818'), ('name', 'French Vikidia ID')]\n",
      "[('property', 'http://www.wikidata.org/prop/direct/P7859'), ('name', 'WorldCat Identities ID')]\n",
      "[('property', 'http://www.wikidata.org/prop/direct/P7865'), ('name', 'CoBiS author ID')]\n",
      "[('property', 'http://www.wikidata.org/prop/direct/P7902'), ('name', 'Deutsche Biographie (GND) ID')]\n",
      "[('property', 'http://www.wikidata.org/prop/direct/P8094'), ('name', 'GeneaStar person ID')]\n",
      "[('property', 'http://www.wikidata.org/prop/direct/P8179'), ('name', 'Canadiana NCF ID')]\n",
      "[('property', 'http://www.wikidata.org/prop/direct/P8189'), ('name', 'National Library of Israel J9U ID')]\n",
      "[('property', 'http://www.wikidata.org/prop/direct/P8672'), ('name', 'Twitter topic ID')]\n",
      "[('property', 'http://www.wikidata.org/prop/direct/P8796'), ('name', 'FilmPolski press collection ID')]\n",
      "[('property', 'http://www.wikidata.org/prop/direct/P8814'), ('name', 'WordNet 3.1 Synset ID')]\n",
      "[('property', 'http://www.wikidata.org/prop/direct/P8849'), ('name', 'CONOR.BG ID')]\n",
      "[('property', 'http://www.wikidata.org/prop/direct/P8879'), ('name', 'Kinorium person ID')]\n",
      "[('property', 'http://www.wikidata.org/prop/direct/P8895'), ('name', 'All the Tropes identifier')]\n",
      "[('property', 'http://www.wikidata.org/prop/direct/P8971'), ('name', 'Cinémathèque québécoise person ID')]\n",
      "[('property', 'http://www.wikidata.org/prop/direct/P906'), ('name', 'SELIBR ID')]\n",
      "[('property', 'http://www.wikidata.org/prop/direct/P910'), ('name', \"topic's main category\")]\n",
      "[('property', 'http://www.wikidata.org/prop/direct/P949'), ('name', 'National Library of Israel ID')]\n",
      "[('property', 'http://www.wikidata.org/prop/direct/P950'), ('name', 'Biblioteca Nacional de España ID')]\n",
      "[('property', 'http://www.wikidata.org/prop/direct/P9743'), ('name', 'Podchaser creator ID')]\n",
      "[('property', 'http://www.wikidata.org/prop/direct/P9760'), ('name', \"Treccani's Enciclopedia del Cinema ID\")]\n",
      "[('property', 'http://www.wikidata.org/prop/direct/P9775'), ('name', \"Treccani's Lessico del XXI Secolo ID\")]\n",
      "[('property', 'http://www.wikidata.org/prop/direct/P3995'), ('name', 'Filmweb.pl ID')]\n",
      "[('property', 'http://www.wikidata.org/prop/direct/P4781'), ('name', 'MYmovies director ID')]\n",
      "[('property', 'http://www.wikidata.org/prop/direct/P5058'), ('name', 'Encyklopedia Teatru Polskiego person ID')]\n",
      "[('property', 'http://www.wikidata.org/prop/direct/P5951'), ('name', 'ComiXology creator ID')]\n",
      "[('property', 'http://www.wikidata.org/prop/direct/P4283'), ('name', 'LUMIERE director ID')]\n"
     ]
    },
    {
     "data": {
      "text/plain": [
       "186"
      ]
     },
     "execution_count": 3,
     "metadata": {},
     "output_type": "execute_result"
    }
   ],
   "source": [
    "#let's start with tarantino and retrieve all the properties associated\n",
    "q = f\"\"\"\n",
    "select distinct ?property ?name where{{\n",
    "wd:Q3772 ?property ?obj .\n",
    "?property <http://schema.org/name> ?name\n",
    "}}\n",
    "\"\"\"\n",
    "run_query(q)"
   ]
  },
  {
   "cell_type": "code",
   "execution_count": 5,
   "id": "0d728b7e-d842-4c60-a698-791662eae3bb",
   "metadata": {},
   "outputs": [
    {
     "name": "stdout",
     "output_type": "stream",
     "text": [
      "[('movie', 'http://www.wikidata.org/entity/Q6794012'), ('name', 'Quentin Tarantino filmography')]\n"
     ]
    },
    {
     "data": {
      "text/plain": [
       "1"
      ]
     },
     "execution_count": 5,
     "metadata": {},
     "output_type": "execute_result"
    }
   ],
   "source": [
    "#let's inspect property \"filmography\"\n",
    "q = f\"\"\"\n",
    "select distinct ?movie ?name where{{\n",
    "wd:Q3772 wdt:P1283 ?movie .\n",
    "?movie <http://schema.org/name> ?name\n",
    "}}\n",
    "\"\"\"\n",
    "run_query(q)"
   ]
  },
  {
   "cell_type": "code",
   "execution_count": 6,
   "id": "eeee0b2a-ad5e-4030-a2c1-c6c641bd34bf",
   "metadata": {},
   "outputs": [
    {
     "name": "stdout",
     "output_type": "stream",
     "text": [
      "[('prop', 'http://www.wikidata.org/prop/direct/P18'), ('name', 'image')]\n",
      "[('prop', 'http://www.wikidata.org/prop/direct/P31'), ('name', 'instance of')]\n",
      "[('prop', 'http://www.wikidata.org/prop/direct/P360'), ('name', 'is a list of')]\n",
      "[('prop', 'http://www.wikidata.org/prop/direct/P646'), ('name', 'Freebase ID')]\n",
      "[('prop', 'http://www.wikidata.org/prop/direct/P921'), ('name', 'main subject')]\n"
     ]
    },
    {
     "data": {
      "text/plain": [
       "5"
      ]
     },
     "execution_count": 6,
     "metadata": {},
     "output_type": "execute_result"
    }
   ],
   "source": [
    "#let's see the properties of Tarantino's Filmography\n",
    "Filmography_Tarantino = 'wd:Q6794012'\n",
    "q = f\"\"\"\n",
    "select distinct ?prop ?name where{{\n",
    "wd:Q6794012 ?prop ?obj .\n",
    "?prop <http://schema.org/name> ?name\n",
    "}}\n",
    "\"\"\"\n",
    "run_query(q)"
   ]
  },
  {
   "cell_type": "code",
   "execution_count": 8,
   "id": "7f17a2b0-5a64-43cb-b199-edb923048714",
   "metadata": {},
   "outputs": [
    {
     "name": "stdout",
     "output_type": "stream",
     "text": [
      "[('movie', 'http://www.wikidata.org/entity/Q223132'), ('name', 'Kill Bill: The Whole Bloody Affair')]\n",
      "[('movie', 'http://www.wikidata.org/entity/Q165325'), ('name', 'Kill Bill Volume 1')]\n",
      "[('movie', 'http://www.wikidata.org/entity/Q4382298'), ('name', 'Kill Bill Vol. 2 – Original Soundtrack')]\n",
      "[('movie', 'http://www.wikidata.org/entity/Q928019'), ('name', 'Kill Bill Volume 2')]\n",
      "[('movie', 'http://www.wikidata.org/entity/Q18126825'), ('name', 'Kill Bill: The Whole Bloody Affair')]\n"
     ]
    },
    {
     "data": {
      "text/plain": [
       "5"
      ]
     },
     "execution_count": 8,
     "metadata": {},
     "output_type": "execute_result"
    }
   ],
   "source": [
    "#maybe we have to look for movies directed by tarantino, not movies that tarantino directed\n",
    "#basically, look for subjects for which tarantino is the object\n",
    "\n",
    "#tarantino directed Kill Bill, let's try and filter by name of the movie\n",
    "q = f\"\"\"\n",
    "select distinct ?movie ?name where{{\n",
    "?movie ?property wd:Q3772 .\n",
    "?movie <http://schema.org/name> ?name .\n",
    "filter regex(?name, '.*kill bill.*', 'i')\n",
    "}}\n",
    "\"\"\"\n",
    "run_query(q)"
   ]
  },
  {
   "cell_type": "code",
   "execution_count": 9,
   "id": "db3b8a05-4e83-45b5-95c4-887c6b5acced",
   "metadata": {},
   "outputs": [
    {
     "name": "stdout",
     "output_type": "stream",
     "text": [
      "[('class', 'http://www.wikidata.org/entity/Q11424'), ('name', 'film')]\n"
     ]
    },
    {
     "data": {
      "text/plain": [
       "1"
      ]
     },
     "execution_count": 9,
     "metadata": {},
     "output_type": "execute_result"
    }
   ],
   "source": [
    "#let's pick up the node relative to Kill Bill Volume 1 and let's figure out first of all its class\n",
    "KillBill = 'wd:Q165325'\n",
    "q = f\"\"\"\n",
    "select distinct ?class ?name where{{\n",
    "wd:Q165325 wdt:P31 ?class .\n",
    "?class <http://schema.org/name> ?name\n",
    "}}\n",
    "\"\"\"\n",
    "run_query(q)"
   ]
  },
  {
   "cell_type": "markdown",
   "id": "861377c4-f5a0-4cb6-9a57-5cced265d1b6",
   "metadata": {},
   "source": [
    "## Task 3"
   ]
  },
  {
   "cell_type": "code",
   "execution_count": 10,
   "id": "b7a7b4de-e7ba-42cd-aa07-40d1ef11b0cf",
   "metadata": {
    "collapsed": true,
    "jupyter": {
     "outputs_hidden": true
    },
    "tags": []
   },
   "outputs": [
    {
     "name": "stdout",
     "output_type": "stream",
     "text": [
      "[('property', 'http://www.wikidata.org/prop/direct/P7777'), ('name', 'AdoroCinema film ID')]\n",
      "[('property', 'http://www.wikidata.org/prop/direct/P8918'), ('name', 'Max Movie film ID')]\n",
      "[('property', 'http://www.wikidata.org/prop/direct/P1015'), ('name', 'NORAF ID')]\n",
      "[('property', 'http://www.wikidata.org/prop/direct/P1040'), ('name', 'film editor')]\n",
      "[('property', 'http://www.wikidata.org/prop/direct/P1237'), ('name', 'Box Office Mojo film ID (former scheme)')]\n",
      "[('property', 'http://www.wikidata.org/prop/direct/P1258'), ('name', 'Rotten Tomatoes ID')]\n",
      "[('property', 'http://www.wikidata.org/prop/direct/P1265'), ('name', 'AlloCiné film ID')]\n",
      "[('property', 'http://www.wikidata.org/prop/direct/P1273'), ('name', 'CANTIC ID')]\n",
      "[('property', 'http://www.wikidata.org/prop/direct/P136'), ('name', 'genre')]\n",
      "[('property', 'http://www.wikidata.org/prop/direct/P1411'), ('name', 'nominated for')]\n",
      "[('property', 'http://www.wikidata.org/prop/direct/P1417'), ('name', 'Encyclopædia Britannica Online ID')]\n",
      "[('property', 'http://www.wikidata.org/prop/direct/P1476'), ('name', 'title')]\n",
      "[('property', 'http://www.wikidata.org/prop/direct/P1562'), ('name', 'AllMovie title ID')]\n",
      "[('property', 'http://www.wikidata.org/prop/direct/P161'), ('name', 'cast member')]\n",
      "[('property', 'http://www.wikidata.org/prop/direct/P162'), ('name', 'producer')]\n",
      "[('property', 'http://www.wikidata.org/prop/direct/P166'), ('name', 'award received')]\n",
      "[('property', 'http://www.wikidata.org/prop/direct/P1712'), ('name', 'Metacritic ID')]\n",
      "[('property', 'http://www.wikidata.org/prop/direct/P179'), ('name', 'part of the series')]\n",
      "[('property', 'http://www.wikidata.org/prop/direct/P18'), ('name', 'image')]\n",
      "[('property', 'http://www.wikidata.org/prop/direct/P1804'), ('name', 'DNF film ID')]\n",
      "[('property', 'http://www.wikidata.org/prop/direct/P1874'), ('name', 'Netflix ID')]\n",
      "[('property', 'http://www.wikidata.org/prop/direct/P1970'), ('name', 'MovieMeter film ID')]\n",
      "[('property', 'http://www.wikidata.org/prop/direct/P1981'), ('name', 'FSK film rating')]\n",
      "[('property', 'http://www.wikidata.org/prop/direct/P2047'), ('name', 'duration')]\n",
      "[('property', 'http://www.wikidata.org/prop/direct/P2061'), ('name', 'aspect ratio')]\n",
      "[('property', 'http://www.wikidata.org/prop/direct/P2130'), ('name', 'cost')]\n",
      "[('property', 'http://www.wikidata.org/prop/direct/P214'), ('name', 'VIAF ID')]\n",
      "[('property', 'http://www.wikidata.org/prop/direct/P2142'), ('name', 'box office')]\n",
      "[('property', 'http://www.wikidata.org/prop/direct/P227'), ('name', 'GND ID')]\n",
      "[('property', 'http://www.wikidata.org/prop/direct/P2283'), ('name', 'uses')]\n",
      "[('property', 'http://www.wikidata.org/prop/direct/P2334'), ('name', 'Swedish Film Database film ID')]\n",
      "[('property', 'http://www.wikidata.org/prop/direct/P2346'), ('name', 'Elonet movie ID')]\n",
      "[('property', 'http://www.wikidata.org/prop/direct/P244'), ('name', 'Library of Congress authority ID')]\n",
      "[('property', 'http://www.wikidata.org/prop/direct/P2465'), ('name', 'Allcinema film ID')]\n",
      "[('property', 'http://www.wikidata.org/prop/direct/P2508'), ('name', 'KINENOTE film ID')]\n",
      "[('property', 'http://www.wikidata.org/prop/direct/P2509'), ('name', 'Movie Walker film ID')]\n",
      "[('property', 'http://www.wikidata.org/prop/direct/P2518'), ('name', 'Scope.dk film ID')]\n",
      "[('property', 'http://www.wikidata.org/prop/direct/P2529'), ('name', 'ČSFD film ID')]\n",
      "[('property', 'http://www.wikidata.org/prop/direct/P2603'), ('name', 'Kinopoisk film ID')]\n",
      "[('property', 'http://www.wikidata.org/prop/direct/P2631'), ('name', 'TCM Movie Database film ID')]\n",
      "[('property', 'http://www.wikidata.org/prop/direct/P2638'), ('name', 'TV.com ID')]\n",
      "[('property', 'http://www.wikidata.org/prop/direct/P268'), ('name', 'Bibliothèque nationale de France ID')]\n",
      "[('property', 'http://www.wikidata.org/prop/direct/P2703'), ('name', 'BFI National Archive work ID')]\n",
      "[('property', 'http://www.wikidata.org/prop/direct/P2704'), ('name', 'EIDR content ID')]\n",
      "[('property', 'http://www.wikidata.org/prop/direct/P272'), ('name', 'production company')]\n",
      "[('property', 'http://www.wikidata.org/prop/direct/P2755'), ('name', 'exploitation visa number')]\n",
      "[('property', 'http://www.wikidata.org/prop/direct/P2758'), ('name', 'CNC film rating (France)')]\n",
      "[('property', 'http://www.wikidata.org/prop/direct/P3077'), ('name', 'Cineplex Germany film ID')]\n",
      "[('property', 'http://www.wikidata.org/prop/direct/P31'), ('name', 'instance of')]\n",
      "[('property', 'http://www.wikidata.org/prop/direct/P3107'), ('name', 'LdiF ID')]\n",
      "[('property', 'http://www.wikidata.org/prop/direct/P3129'), ('name', 'cine.gr film ID')]\n",
      "[('property', 'http://www.wikidata.org/prop/direct/P3135'), ('name', 'elCinema film ID')]\n",
      "[('property', 'http://www.wikidata.org/prop/direct/P3138'), ('name', 'OFDb film ID')]\n",
      "[('property', 'http://www.wikidata.org/prop/direct/P3141'), ('name', 'EDb film ID')]\n",
      "[('property', 'http://www.wikidata.org/prop/direct/P3143'), ('name', 'elFilm film ID')]\n",
      "[('property', 'http://www.wikidata.org/prop/direct/P3145'), ('name', 'Sratim ID')]\n",
      "[('property', 'http://www.wikidata.org/prop/direct/P3203'), ('name', 'Ciné-Ressources film ID')]\n",
      "[('property', 'http://www.wikidata.org/prop/direct/P3212'), ('name', 'ISAN')]\n",
      "[('property', 'http://www.wikidata.org/prop/direct/P3219'), ('name', 'Encyclopædia Universalis ID')]\n",
      "[('property', 'http://www.wikidata.org/prop/direct/P3302'), ('name', 'Open Media Database film ID')]\n",
      "[('property', 'http://www.wikidata.org/prop/direct/P3340'), ('name', 'Kvikmyndir film ID')]\n",
      "[('property', 'http://www.wikidata.org/prop/direct/P344'), ('name', 'director of photography')]\n",
      "[('property', 'http://www.wikidata.org/prop/direct/P345'), ('name', 'IMDb ID')]\n",
      "[('property', 'http://www.wikidata.org/prop/direct/P3593'), ('name', 'AFI Catalog of Feature Films ID')]\n",
      "[('property', 'http://www.wikidata.org/prop/direct/P364'), ('name', 'original language of film or TV show')]\n",
      "[('property', 'http://www.wikidata.org/prop/direct/P3804'), ('name', 'TV Guide show ID (former scheme)')]\n",
      "[('property', 'http://www.wikidata.org/prop/direct/P3808'), ('name', 'The Numbers movie ID')]\n",
      "[('property', 'http://www.wikidata.org/prop/direct/P3844'), ('name', 'Deutsche Synchronkartei film ID')]\n",
      "[('property', 'http://www.wikidata.org/prop/direct/P3933'), ('name', 'Cinema.de ID')]\n",
      "[('property', 'http://www.wikidata.org/prop/direct/P4276'), ('name', 'Cinémathèque québécoise work identifier')]\n",
      "[('property', 'http://www.wikidata.org/prop/direct/P4282'), ('name', 'LUMIERE film ID')]\n",
      "[('property', 'http://www.wikidata.org/prop/direct/P437'), ('name', 'distribution format')]\n",
      "[('property', 'http://www.wikidata.org/prop/direct/P4438'), ('name', 'BFI Films, TV and people ID')]\n",
      "[('property', 'http://www.wikidata.org/prop/direct/P4515'), ('name', 'Prisma ID')]\n",
      "[('property', 'http://www.wikidata.org/prop/direct/P4529'), ('name', 'Douban film ID')]\n",
      "[('property', 'http://www.wikidata.org/prop/direct/P462'), ('name', 'color')]\n",
      "[('property', 'http://www.wikidata.org/prop/direct/P4632'), ('name', 'Bechdel Test Movie List ID')]\n",
      "[('property', 'http://www.wikidata.org/prop/direct/P4665'), ('name', 'CineMagia title ID')]\n",
      "[('property', 'http://www.wikidata.org/prop/direct/P4780'), ('name', 'MYmovies movie ID')]\n",
      "[('property', 'http://www.wikidata.org/prop/direct/P4786'), ('name', 'cinematografo film ID')]\n",
      "[('property', 'http://www.wikidata.org/prop/direct/P480'), ('name', 'FilmAffinity ID')]\n",
      "[('property', 'http://www.wikidata.org/prop/direct/P4839'), ('name', 'Wolfram Language entity code')]\n",
      "[('property', 'http://www.wikidata.org/prop/direct/P4947'), ('name', 'TMDb movie ID')]\n",
      "[('property', 'http://www.wikidata.org/prop/direct/P495'), ('name', 'country of origin')]\n",
      "[('property', 'http://www.wikidata.org/prop/direct/P4969'), ('name', 'derivative work')]\n",
      "[('property', 'http://www.wikidata.org/prop/direct/P5021'), ('name', 'assessment')]\n",
      "[('property', 'http://www.wikidata.org/prop/direct/P5099'), ('name', 'Il mondo dei doppiatori ID')]\n",
      "[('property', 'http://www.wikidata.org/prop/direct/P527'), ('name', 'has part')]\n",
      "[('property', 'http://www.wikidata.org/prop/direct/P5693'), ('name', 'Fandango film ID')]\n",
      "[('property', 'http://www.wikidata.org/prop/direct/P57'), ('name', 'director')]\n",
      "[('property', 'http://www.wikidata.org/prop/direct/P577'), ('name', 'publication date')]\n",
      "[('property', 'http://www.wikidata.org/prop/direct/P5786'), ('name', 'Moviepilot.de film ID')]\n",
      "[('property', 'http://www.wikidata.org/prop/direct/P58'), ('name', 'screenwriter')]\n",
      "[('property', 'http://www.wikidata.org/prop/direct/P5970'), ('name', 'Medierådet rating')]\n",
      "[('property', 'http://www.wikidata.org/prop/direct/P6058'), ('name', 'Larousse ID')]\n",
      "[('property', 'http://www.wikidata.org/prop/direct/P6127'), ('name', 'Letterboxd film ID')]\n",
      "[('property', 'http://www.wikidata.org/prop/direct/P6398'), ('name', 'iTunes movie ID')]\n",
      "[('property', 'http://www.wikidata.org/prop/direct/P646'), ('name', 'Freebase ID')]\n",
      "[('property', 'http://www.wikidata.org/prop/direct/P6562'), ('name', 'Google Play Movies & TV ID')]\n",
      "[('property', 'http://www.wikidata.org/prop/direct/P6584'), ('name', 'Scripts.com script ID')]\n",
      "[('property', 'http://www.wikidata.org/prop/direct/P674'), ('name', 'characters')]\n",
      "[('property', 'http://www.wikidata.org/prop/direct/P7236'), ('name', 'Dove.org work ID')]\n",
      "[('property', 'http://www.wikidata.org/prop/direct/P7299'), ('name', 'MUBI film ID')]\n",
      "[('property', 'http://www.wikidata.org/prop/direct/P750'), ('name', 'distributed by')]\n",
      "[('property', 'http://www.wikidata.org/prop/direct/P7970'), ('name', 'FandangoNow ID')]\n",
      "[('property', 'http://www.wikidata.org/prop/direct/P8033'), ('name', 'Movie Review Query Engine ID')]\n",
      "[('property', 'http://www.wikidata.org/prop/direct/P840'), ('name', 'narrative location')]\n",
      "[('property', 'http://www.wikidata.org/prop/direct/P856'), ('name', 'official website')]\n",
      "[('property', 'http://www.wikidata.org/prop/direct/P86'), ('name', 'composer')]\n",
      "[('property', 'http://www.wikidata.org/prop/direct/P8800'), ('name', 'European Film Awards ID')]\n",
      "[('property', 'http://www.wikidata.org/prop/direct/P8847'), ('name', 'Kinorium movie ID')]\n",
      "[('property', 'http://www.wikidata.org/prop/direct/P905'), ('name', 'PORT film ID')]\n",
      "[('property', 'http://www.wikidata.org/prop/direct/P915'), ('name', 'filming location')]\n",
      "[('property', 'http://www.wikidata.org/prop/direct/P921'), ('name', 'main subject')]\n",
      "[('property', 'http://www.wikidata.org/prop/direct/P941'), ('name', 'inspired by')]\n",
      "[('property', 'http://www.wikidata.org/prop/direct/P9586'), ('name', 'Apple TV movie ID')]\n",
      "[('property', 'http://www.wikidata.org/prop/direct/P2554'), ('name', 'production designer')]\n",
      "[('property', 'http://www.wikidata.org/prop/direct/P3854'), ('name', 'Soundtrack Collector ID')]\n",
      "[('property', 'http://www.wikidata.org/prop/direct/P3995'), ('name', 'Filmweb.pl ID')]\n",
      "[('property', 'http://www.wikidata.org/prop/direct/P406'), ('name', 'soundtrack release')]\n",
      "[('property', 'http://www.wikidata.org/prop/direct/P4933'), ('name', 'Big Cartoon Database ID')]\n",
      "[('property', 'http://www.wikidata.org/prop/direct/P5311'), ('name', 'Kino-teatr.ua film ID')]\n",
      "[('property', 'http://www.wikidata.org/prop/direct/P7975'), ('name', 'Filmfront film ID')]\n",
      "[('property', 'http://www.wikidata.org/prop/direct/P1985'), ('name', 'Anime News Network anime ID')]\n",
      "[('property', 'http://www.wikidata.org/prop/direct/P2756'), ('name', 'EIRIN film rating')]\n",
      "[('property', 'http://www.wikidata.org/prop/direct/P6466'), ('name', 'Hulu movie ID')]\n",
      "[('property', 'http://www.wikidata.org/prop/direct/P9821'), ('name', 'Unconsenting Media ID')]\n",
      "[('property', 'http://www.wikidata.org/prop/direct/P7760'), ('name', 'Tubi movie ID')]\n",
      "[('property', 'http://www.wikidata.org/prop/direct/P6256'), ('name', 'SinemaTürk film ID')]\n",
      "[('property', 'http://www.wikidata.org/prop/direct/P9205'), ('name', 'Sinemalar title ID')]\n"
     ]
    },
    {
     "data": {
      "text/plain": [
       "130"
      ]
     },
     "execution_count": 10,
     "metadata": {},
     "output_type": "execute_result"
    }
   ],
   "source": [
    "Film = 'wd:Q11424'\n",
    "#trying to figure out all of the properties relative to all of the movies of wikidata would be useless\n",
    "#let's try and find the properties exiting kill bill first, hopefully we will be able to find\n",
    "#properties for director, workers in a film and so on\n",
    "q = f\"\"\"\n",
    "select distinct ?property ?name where{{\n",
    "wd:Q165325 ?property ?obj .\n",
    "?property <http://schema.org/name> ?name .\n",
    "}}\n",
    "\"\"\"\n",
    "run_query(q)"
   ]
  },
  {
   "cell_type": "code",
   "execution_count": 11,
   "id": "5ae040ec-44da-4650-9bac-3f6a5d1bb0af",
   "metadata": {},
   "outputs": [
    {
     "name": "stdout",
     "output_type": "stream",
     "text": [
      "[('property', 'http://www.wikidata.org/prop/direct/P161'), ('name', 'cast member')]\n",
      "[('property', 'http://www.wikidata.org/prop/direct/P57'), ('name', 'director')]\n",
      "[('property', 'http://www.wikidata.org/prop/direct/P58'), ('name', 'screenwriter')]\n"
     ]
    },
    {
     "data": {
      "text/plain": [
       "3"
      ]
     },
     "execution_count": 11,
     "metadata": {},
     "output_type": "execute_result"
    }
   ],
   "source": [
    "editor = 'wdt:P1040'\n",
    "castMember = 'wdt:P161'\n",
    "genre = 'wdt:P136'\n",
    "producer = 'wdt:P162'\n",
    "awardReceived = 'wdt:P166'\n",
    "boxOffice = 'wdt:P2142'\n",
    "cost = 'wdt:P2130'\n",
    "composer = 'wdt:P86'\n",
    "publicationDate = 'wdt:P577'\n",
    "\n",
    "#there's a lot of properties, some we isolated through inspection, but there's a lot.\n",
    "#let's use tarantino as object to try and identify useful properties involving kill bill and tarantino\n",
    "q = f\"\"\"\n",
    "select distinct ?property ?name where{{\n",
    "wd:Q165325 ?property wd:Q3772 .\n",
    "?property <http://schema.org/name> ?name\n",
    "}}\n",
    "\"\"\"\n",
    "run_query(q)"
   ]
  },
  {
   "cell_type": "code",
   "execution_count": 13,
   "id": "59d7db3a-2982-40b6-8d9f-908993f68aef",
   "metadata": {},
   "outputs": [
    {
     "name": "stdout",
     "output_type": "stream",
     "text": [
      "[('movie', 'http://www.wikidata.org/entity/Q72962'), ('name', 'Reservoir Dogs'), ('date', '1992-09-10T00:00:00Z')]\n",
      "[('movie', 'http://www.wikidata.org/entity/Q72962'), ('name', 'Reservoir Dogs'), ('date', '1992-10-23T00:00:00Z')]\n",
      "[('movie', 'http://www.wikidata.org/entity/Q104123'), ('name', 'Pulp Fiction'), ('date', '1994-05-21T00:00:00Z')]\n",
      "[('movie', 'http://www.wikidata.org/entity/Q104123'), ('name', 'Pulp Fiction'), ('date', '1994-10-14T00:00:00Z')]\n",
      "[('movie', 'http://www.wikidata.org/entity/Q104123'), ('name', 'Pulp Fiction'), ('date', '1994-11-03T00:00:00Z')]\n",
      "[('movie', 'http://www.wikidata.org/entity/Q431252'), ('name', 'Jackie Brown'), ('date', '1997-01-01T00:00:00Z')]\n",
      "[('movie', 'http://www.wikidata.org/entity/Q431252'), ('name', 'Jackie Brown'), ('date', '1997-12-25T00:00:00Z')]\n",
      "[('movie', 'http://www.wikidata.org/entity/Q431252'), ('name', 'Jackie Brown'), ('date', '1998-04-16T00:00:00Z')]\n",
      "[('movie', 'http://www.wikidata.org/entity/Q165325'), ('name', 'Kill Bill Volume 1'), ('date', '2003-01-01T00:00:00Z')]\n",
      "[('movie', 'http://www.wikidata.org/entity/Q18126825'), ('name', 'Kill Bill: The Whole Bloody Affair'), ('date', '2003-05-01T00:00:00Z')]\n",
      "[('movie', 'http://www.wikidata.org/entity/Q165325'), ('name', 'Kill Bill Volume 1'), ('date', '2003-10-16T00:00:00Z')]\n",
      "[('movie', 'http://www.wikidata.org/entity/Q928019'), ('name', 'Kill Bill Volume 2'), ('date', '2004-04-16T00:00:00Z')]\n",
      "[('movie', 'http://www.wikidata.org/entity/Q928019'), ('name', 'Kill Bill Volume 2'), ('date', '2004-04-22T00:00:00Z')]\n",
      "[('movie', 'http://www.wikidata.org/entity/Q192115'), ('name', 'Sin City'), ('date', '2005-04-01T00:00:00Z')]\n",
      "[('movie', 'http://www.wikidata.org/entity/Q192115'), ('name', 'Sin City'), ('date', '2005-07-01T00:00:00Z')]\n",
      "[('movie', 'http://www.wikidata.org/entity/Q192115'), ('name', 'Sin City'), ('date', '2005-08-11T00:00:00Z')]\n",
      "[('movie', 'http://www.wikidata.org/entity/Q1137310'), ('name', 'Death Proof'), ('date', '2007-01-01T00:00:00Z')]\n",
      "[('movie', 'http://www.wikidata.org/entity/Q1137310'), ('name', 'Death Proof'), ('date', '2007-04-06T00:00:00Z')]\n",
      "[('movie', 'http://www.wikidata.org/entity/Q1137310'), ('name', 'Death Proof'), ('date', '2007-07-19T00:00:00Z')]\n",
      "[('movie', 'http://www.wikidata.org/entity/Q153723'), ('name', 'Inglourious Basterds'), ('date', '2009-01-01T00:00:00Z')]\n",
      "[('movie', 'http://www.wikidata.org/entity/Q153723'), ('name', 'Inglourious Basterds'), ('date', '2009-05-20T00:00:00Z')]\n",
      "[('movie', 'http://www.wikidata.org/entity/Q153723'), ('name', 'Inglourious Basterds'), ('date', '2009-08-20T00:00:00Z')]\n",
      "[('movie', 'http://www.wikidata.org/entity/Q571032'), ('name', 'Django Unchained'), ('date', '2012-12-25T00:00:00Z')]\n",
      "[('movie', 'http://www.wikidata.org/entity/Q571032'), ('name', 'Django Unchained'), ('date', '2013-01-17T00:00:00Z')]\n",
      "[('movie', 'http://www.wikidata.org/entity/Q18225084'), ('name', 'The Hateful Eight'), ('date', '2015-12-01T00:00:00Z')]\n",
      "[('movie', 'http://www.wikidata.org/entity/Q18225084'), ('name', 'The Hateful Eight'), ('date', '2016-01-07T00:00:00Z')]\n",
      "[('movie', 'http://www.wikidata.org/entity/Q18225084'), ('name', 'The Hateful Eight'), ('date', '2016-01-28T00:00:00Z')]\n",
      "[('movie', 'http://www.wikidata.org/entity/Q47300912'), ('name', 'Once Upon a Time in Hollywood'), ('date', '2019-07-26T00:00:00Z')]\n"
     ]
    },
    {
     "data": {
      "text/plain": [
       "28"
      ]
     },
     "execution_count": 13,
     "metadata": {},
     "output_type": "execute_result"
    }
   ],
   "source": [
    "#let's answer point 1. to get all movies directed by tarantino we could write\n",
    "q = f\"\"\"\n",
    "select distinct ?movie ?name ?date where{{\n",
    "?movie wdt:P31 wd:Q11424 ;\n",
    "    wdt:P57 wd:Q3772 ;\n",
    "    <http://schema.org/name> ?name ;\n",
    "    wdt:P577 ?date .\n",
    "\n",
    "}}\n",
    "order by asc(?date)\n",
    "\"\"\"\n",
    "run_query(q)"
   ]
  },
  {
   "cell_type": "code",
   "execution_count": 14,
   "id": "134a6c18-802c-415c-9c05-d5eb01c67004",
   "metadata": {},
   "outputs": [
    {
     "name": "stdout",
     "output_type": "stream",
     "text": [
      "[('movie', 'http://www.wikidata.org/entity/Q971865'), ('name', \"What's Up, Tiger Lily?\"), ('date', '1966-01-01T00:00:00Z')]\n",
      "[('movie', 'http://www.wikidata.org/entity/Q1146315'), ('name', 'Take the Money and Run'), ('date', '1969-01-01T00:00:00Z')]\n",
      "[('movie', 'http://www.wikidata.org/entity/Q806092'), ('name', 'Bananas'), ('date', '1971-01-01T00:00:00Z')]\n",
      "[('movie', 'http://www.wikidata.org/entity/Q499697'), ('name', 'Everything You Always Wanted to Know About Sex*'), ('date', '1972-01-01T00:00:00Z')]\n",
      "[('movie', 'http://www.wikidata.org/entity/Q750003'), ('name', 'Sleeper'), ('date', '1973-12-17T00:00:00Z')]\n",
      "[('movie', 'http://www.wikidata.org/entity/Q750003'), ('name', 'Sleeper'), ('date', '1974-04-25T00:00:00Z')]\n",
      "[('movie', 'http://www.wikidata.org/entity/Q806092'), ('name', 'Bananas'), ('date', '1974-08-30T00:00:00Z')]\n",
      "[('movie', 'http://www.wikidata.org/entity/Q1218888'), ('name', 'Love and Death'), ('date', '1975-01-01T00:00:00Z')]\n",
      "[('movie', 'http://www.wikidata.org/entity/Q233464'), ('name', 'Annie Hall'), ('date', '1977-04-20T00:00:00Z')]\n",
      "[('movie', 'http://www.wikidata.org/entity/Q961403'), ('name', 'Interiors'), ('date', '1978-01-01T00:00:00Z')]\n",
      "[('movie', 'http://www.wikidata.org/entity/Q731310'), ('name', 'Manhattan'), ('date', '1979-01-01T00:00:00Z')]\n",
      "[('movie', 'http://www.wikidata.org/entity/Q731310'), ('name', 'Manhattan'), ('date', '1979-08-30T00:00:00Z')]\n",
      "[('movie', 'http://www.wikidata.org/entity/Q731310'), ('name', 'Manhattan'), ('date', '1979-12-14T00:00:00Z')]\n",
      "[('movie', 'http://www.wikidata.org/entity/Q653518'), ('name', 'Stardust Memories'), ('date', '1980-01-01T00:00:00Z')]\n",
      "[('movie', 'http://www.wikidata.org/entity/Q653518'), ('name', 'Stardust Memories'), ('date', '1981-01-22T00:00:00Z')]\n",
      "[('movie', 'http://www.wikidata.org/entity/Q1306629'), ('name', \"A Midsummer Night's Sex Comedy\"), ('date', '1982-01-01T00:00:00Z')]\n",
      "[('movie', 'http://www.wikidata.org/entity/Q1306629'), ('name', \"A Midsummer Night's Sex Comedy\"), ('date', '1982-10-15T00:00:00Z')]\n",
      "[('movie', 'http://www.wikidata.org/entity/Q187423'), ('name', 'Zelig'), ('date', '1983-01-01T00:00:00Z')]\n",
      "[('movie', 'http://www.wikidata.org/entity/Q187423'), ('name', 'Zelig'), ('date', '1983-09-30T00:00:00Z')]\n",
      "[('movie', 'http://www.wikidata.org/entity/Q729026'), ('name', 'Broadway Danny Rose'), ('date', '1984-01-01T00:00:00Z')]\n",
      "[('movie', 'http://www.wikidata.org/entity/Q729026'), ('name', 'Broadway Danny Rose'), ('date', '1984-08-17T00:00:00Z')]\n",
      "[('movie', 'http://www.wikidata.org/entity/Q912729'), ('name', 'The Purple Rose of Cairo'), ('date', '1985-01-01T00:00:00Z')]\n",
      "[('movie', 'http://www.wikidata.org/entity/Q912729'), ('name', 'The Purple Rose of Cairo'), ('date', '1985-10-03T00:00:00Z')]\n",
      "[('movie', 'http://www.wikidata.org/entity/Q845057'), ('name', 'Hannah and Her Sisters'), ('date', '1986-02-07T00:00:00Z')]\n",
      "[('movie', 'http://www.wikidata.org/entity/Q845057'), ('name', 'Hannah and Her Sisters'), ('date', '1986-10-02T00:00:00Z')]\n",
      "[('movie', 'http://www.wikidata.org/entity/Q1770003'), ('name', 'September'), ('date', '1987-01-01T00:00:00Z')]\n",
      "[('movie', 'http://www.wikidata.org/entity/Q685109'), ('name', 'Radio Days'), ('date', '1987-01-01T00:00:00Z')]\n",
      "[('movie', 'http://www.wikidata.org/entity/Q685109'), ('name', 'Radio Days'), ('date', '1987-10-01T00:00:00Z')]\n",
      "[('movie', 'http://www.wikidata.org/entity/Q541185'), ('name', 'Another Woman'), ('date', '1988-01-01T00:00:00Z')]\n",
      "[('movie', 'http://www.wikidata.org/entity/Q1770003'), ('name', 'September'), ('date', '1988-03-31T00:00:00Z')]\n",
      "[('movie', 'http://www.wikidata.org/entity/Q181555'), ('name', 'Crimes and Misdemeanors'), ('date', '1989-01-01T00:00:00Z')]\n",
      "[('movie', 'http://www.wikidata.org/entity/Q977372'), ('name', 'New York Stories'), ('date', '1989-01-01T00:00:00Z')]\n",
      "[('movie', 'http://www.wikidata.org/entity/Q977372'), ('name', 'New York Stories'), ('date', '1989-03-10T00:00:00Z')]\n",
      "[('movie', 'http://www.wikidata.org/entity/Q541185'), ('name', 'Another Woman'), ('date', '1989-03-16T00:00:00Z')]\n",
      "[('movie', 'http://www.wikidata.org/entity/Q977372'), ('name', 'New York Stories'), ('date', '1989-09-21T00:00:00Z')]\n",
      "[('movie', 'http://www.wikidata.org/entity/Q682262'), ('name', 'Alice'), ('date', '1990-01-01T00:00:00Z')]\n",
      "[('movie', 'http://www.wikidata.org/entity/Q181555'), ('name', 'Crimes and Misdemeanors'), ('date', '1990-03-01T00:00:00Z')]\n",
      "[('movie', 'http://www.wikidata.org/entity/Q910523'), ('name', 'Shadows and Fog'), ('date', '1991-01-01T00:00:00Z')]\n",
      "[('movie', 'http://www.wikidata.org/entity/Q682262'), ('name', 'Alice'), ('date', '1991-02-28T00:00:00Z')]\n",
      "[('movie', 'http://www.wikidata.org/entity/Q740143'), ('name', 'Husbands and Wives'), ('date', '1992-01-01T00:00:00Z')]\n",
      "[('movie', 'http://www.wikidata.org/entity/Q910523'), ('name', 'Shadows and Fog'), ('date', '1992-02-27T00:00:00Z')]\n",
      "[('movie', 'http://www.wikidata.org/entity/Q1133277'), ('name', 'Manhattan Murder Mystery'), ('date', '1993-01-01T00:00:00Z')]\n",
      "[('movie', 'http://www.wikidata.org/entity/Q740143'), ('name', 'Husbands and Wives'), ('date', '1993-02-25T00:00:00Z')]\n",
      "[('movie', 'http://www.wikidata.org/entity/Q1133277'), ('name', 'Manhattan Murder Mystery'), ('date', '1994-02-03T00:00:00Z')]\n",
      "[('movie', 'http://www.wikidata.org/entity/Q1004531'), ('name', 'Bullets Over Broadway'), ('date', '1994-09-16T00:00:00Z')]\n",
      "[('movie', 'http://www.wikidata.org/entity/Q1354109'), ('name', 'Mighty Aphrodite'), ('date', '1995-01-01T00:00:00Z')]\n",
      "[('movie', 'http://www.wikidata.org/entity/Q1004531'), ('name', 'Bullets Over Broadway'), ('date', '1995-04-20T00:00:00Z')]\n",
      "[('movie', 'http://www.wikidata.org/entity/Q1334572'), ('name', 'Everyone Says I Love You'), ('date', '1996-01-01T00:00:00Z')]\n",
      "[('movie', 'http://www.wikidata.org/entity/Q1354109'), ('name', 'Mighty Aphrodite'), ('date', '1996-08-15T00:00:00Z')]\n",
      "[('movie', 'http://www.wikidata.org/entity/Q1334572'), ('name', 'Everyone Says I Love You'), ('date', '1996-12-08T00:00:00Z')]\n",
      "[('movie', 'http://www.wikidata.org/entity/Q551762'), ('name', 'Deconstructing Harry'), ('date', '1997-01-01T00:00:00Z')]\n",
      "[('movie', 'http://www.wikidata.org/entity/Q1334572'), ('name', 'Everyone Says I Love You'), ('date', '1997-08-14T00:00:00Z')]\n",
      "[('movie', 'http://www.wikidata.org/entity/Q551762'), ('name', 'Deconstructing Harry'), ('date', '1998-05-21T00:00:00Z')]\n",
      "[('movie', 'http://www.wikidata.org/entity/Q1052826'), ('name', 'Celebrity'), ('date', '1998-09-07T00:00:00Z')]\n",
      "[('movie', 'http://www.wikidata.org/entity/Q786585'), ('name', 'Sweet and Lowdown'), ('date', '1999-01-01T00:00:00Z')]\n",
      "[('movie', 'http://www.wikidata.org/entity/Q1052826'), ('name', 'Celebrity'), ('date', '1999-04-08T00:00:00Z')]\n",
      "[('movie', 'http://www.wikidata.org/entity/Q610163'), ('name', 'Small Time Crooks'), ('date', '2000-01-01T00:00:00Z')]\n",
      "[('movie', 'http://www.wikidata.org/entity/Q786585'), ('name', 'Sweet and Lowdown'), ('date', '2000-03-30T00:00:00Z')]\n",
      "[('movie', 'http://www.wikidata.org/entity/Q610163'), ('name', 'Small Time Crooks'), ('date', '2000-11-30T00:00:00Z')]\n",
      "[('movie', 'http://www.wikidata.org/entity/Q3986392'), ('name', 'The Concert for New York City'), ('date', '2001-01-01T00:00:00Z')]\n",
      "[('movie', 'http://www.wikidata.org/entity/Q335508'), ('name', 'The Curse of the Jade Scorpion'), ('date', '2001-01-01T00:00:00Z')]\n",
      "[('movie', 'http://www.wikidata.org/entity/Q335508'), ('name', 'The Curse of the Jade Scorpion'), ('date', '2001-12-06T00:00:00Z')]\n",
      "[('movie', 'http://www.wikidata.org/entity/Q582021'), ('name', 'Hollywood Ending'), ('date', '2002-01-01T00:00:00Z')]\n",
      "[('movie', 'http://www.wikidata.org/entity/Q614009'), ('name', 'Anything Else'), ('date', '2003-01-01T00:00:00Z')]\n",
      "[('movie', 'http://www.wikidata.org/entity/Q1354121'), ('name', 'Melinda and Melinda'), ('date', '2004-01-01T00:00:00Z')]\n",
      "[('movie', 'http://www.wikidata.org/entity/Q1354121'), ('name', 'Melinda and Melinda'), ('date', '2005-03-18T00:00:00Z')]\n",
      "[('movie', 'http://www.wikidata.org/entity/Q733677'), ('name', 'Match Point'), ('date', '2005-05-12T00:00:00Z')]\n",
      "[('movie', 'http://www.wikidata.org/entity/Q1354121'), ('name', 'Melinda and Melinda'), ('date', '2005-06-23T00:00:00Z')]\n",
      "[('movie', 'http://www.wikidata.org/entity/Q733677'), ('name', 'Match Point'), ('date', '2005-12-29T00:00:00Z')]\n",
      "[('movie', 'http://www.wikidata.org/entity/Q682002'), ('name', 'scoop'), ('date', '2006-01-01T00:00:00Z')]\n",
      "[('movie', 'http://www.wikidata.org/entity/Q682002'), ('name', 'scoop'), ('date', '2006-11-16T00:00:00Z')]\n",
      "[('movie', 'http://www.wikidata.org/entity/Q833530'), ('name', \"Cassandra's Dream\"), ('date', '2007-01-01T00:00:00Z')]\n",
      "[('movie', 'http://www.wikidata.org/entity/Q212123'), ('name', 'Vicky Cristina Barcelona'), ('date', '2008-01-01T00:00:00Z')]\n",
      "[('movie', 'http://www.wikidata.org/entity/Q833530'), ('name', \"Cassandra's Dream\"), ('date', '2008-06-05T00:00:00Z')]\n",
      "[('movie', 'http://www.wikidata.org/entity/Q212123'), ('name', 'Vicky Cristina Barcelona'), ('date', '2008-12-04T00:00:00Z')]\n",
      "[('movie', 'http://www.wikidata.org/entity/Q692208'), ('name', 'Whatever Works'), ('date', '2009-01-01T00:00:00Z')]\n",
      "[('movie', 'http://www.wikidata.org/entity/Q692208'), ('name', 'Whatever Works'), ('date', '2009-12-03T00:00:00Z')]\n",
      "[('movie', 'http://www.wikidata.org/entity/Q1321004'), ('name', 'You Will Meet a Tall Dark Stranger'), ('date', '2010-01-01T00:00:00Z')]\n",
      "[('movie', 'http://www.wikidata.org/entity/Q1321004'), ('name', 'You Will Meet a Tall Dark Stranger'), ('date', '2010-12-02T00:00:00Z')]\n",
      "[('movie', 'http://www.wikidata.org/entity/Q206124'), ('name', 'Midnight in Paris'), ('date', '2011-01-01T00:00:00Z')]\n",
      "[('movie', 'http://www.wikidata.org/entity/Q206124'), ('name', 'Midnight in Paris'), ('date', '2011-08-18T00:00:00Z')]\n",
      "[('movie', 'http://www.wikidata.org/entity/Q29658'), ('name', 'To Rome with Love'), ('date', '2012-01-01T00:00:00Z')]\n",
      "[('movie', 'http://www.wikidata.org/entity/Q29658'), ('name', 'To Rome with Love'), ('date', '2012-08-30T00:00:00Z')]\n",
      "[('movie', 'http://www.wikidata.org/entity/Q2907178'), ('name', 'Blue Jasmine'), ('date', '2013-07-26T00:00:00Z')]\n",
      "[('movie', 'http://www.wikidata.org/entity/Q2907178'), ('name', 'Blue Jasmine'), ('date', '2013-08-29T00:00:00Z')]\n",
      "[('movie', 'http://www.wikidata.org/entity/Q2907178'), ('name', 'Blue Jasmine'), ('date', '2013-11-07T00:00:00Z')]\n",
      "[('movie', 'http://www.wikidata.org/entity/Q14511869'), ('name', 'Magic in the Moonlight'), ('date', '2014-01-01T00:00:00Z')]\n",
      "[('movie', 'http://www.wikidata.org/entity/Q14511869'), ('name', 'Magic in the Moonlight'), ('date', '2014-11-13T00:00:00Z')]\n",
      "[('movie', 'http://www.wikidata.org/entity/Q14511869'), ('name', 'Magic in the Moonlight'), ('date', '2014-12-04T00:00:00Z')]\n",
      "[('movie', 'http://www.wikidata.org/entity/Q17417520'), ('name', 'Irrational Man'), ('date', '2015-05-16T00:00:00Z')]\n",
      "[('movie', 'http://www.wikidata.org/entity/Q20950014'), ('name', 'Café Society'), ('date', '2016-01-01T00:00:00Z')]\n",
      "[('movie', 'http://www.wikidata.org/entity/Q20950014'), ('name', 'Café Society'), ('date', '2016-11-10T00:00:00Z')]\n",
      "[('movie', 'http://www.wikidata.org/entity/Q20950014'), ('name', 'Café Society'), ('date', '2016-11-17T00:00:00Z')]\n",
      "[('movie', 'http://www.wikidata.org/entity/Q27703144'), ('name', 'Wonder Wheel'), ('date', '2017-12-01T00:00:00Z')]\n",
      "[('movie', 'http://www.wikidata.org/entity/Q27703144'), ('name', 'Wonder Wheel'), ('date', '2017-12-07T00:00:00Z')]\n",
      "[('movie', 'http://www.wikidata.org/entity/Q27703144'), ('name', 'Wonder Wheel'), ('date', '2018-01-11T00:00:00Z')]\n",
      "[('movie', 'http://www.wikidata.org/entity/Q42307699'), ('name', 'A Rainy Day in New York'), ('date', '2019-07-26T00:00:00Z')]\n",
      "[('movie', 'http://www.wikidata.org/entity/Q42307699'), ('name', 'A Rainy Day in New York'), ('date', '2019-09-18T00:00:00Z')]\n",
      "[('movie', 'http://www.wikidata.org/entity/Q42307699'), ('name', 'A Rainy Day in New York'), ('date', '2019-12-05T00:00:00Z')]\n",
      "[('movie', 'http://www.wikidata.org/entity/Q42307699'), ('name', 'A Rainy Day in New York'), ('date', '2019-12-12T00:00:00Z')]\n",
      "[('movie', 'http://www.wikidata.org/entity/Q65552643'), ('name', \"Rifkin's Festival\"), ('date', '2020-01-01T00:00:00Z')]\n"
     ]
    },
    {
     "data": {
      "text/plain": [
       "101"
      ]
     },
     "execution_count": 14,
     "metadata": {},
     "output_type": "execute_result"
    }
   ],
   "source": [
    "#repetitions are probably publication dates in various continents/states, we just care about the movies for now\n",
    "#but it's nice to have them ordered by publication\n",
    "\n",
    "#let's do the same for Woody Allen\n",
    "q = f\"\"\"\n",
    "select distinct ?movie ?name ?date where{{\n",
    "?movie wdt:P31 wd:Q11424 ;\n",
    "    wdt:P57 wd:Q25089 ;\n",
    "    <http://schema.org/name> ?name ;\n",
    "    wdt:P577 ?date .\n",
    "\n",
    "}}\n",
    "order by asc(?date)\n",
    "\"\"\"\n",
    "run_query(q)"
   ]
  },
  {
   "cell_type": "code",
   "execution_count": 15,
   "id": "2e31ba00-d5cc-4a4f-8655-81317dc745f6",
   "metadata": {},
   "outputs": [
    {
     "name": "stdout",
     "output_type": "stream",
     "text": [
      "[('director', 'http://www.wikidata.org/entity/Q3772'), ('name', 'Quentin Tarantino')]\n"
     ]
    },
    {
     "data": {
      "text/plain": [
       "1"
      ]
     },
     "execution_count": 15,
     "metadata": {},
     "output_type": "execute_result"
    }
   ],
   "source": [
    "#the property to answer point 2 was already found\n",
    "#to find the director of Kill Bill we would write\n",
    "q = f\"\"\"\n",
    "select ?director ?name where{{\n",
    "wd:Q165325 wdt:P57 ?director .\n",
    "?director <http://schema.org/name> ?name .\n",
    "}}\n",
    "\"\"\"\n",
    "run_query(q)"
   ]
  },
  {
   "cell_type": "code",
   "execution_count": 17,
   "id": "d9c83bd1-2e9a-497b-bee0-b987efc889aa",
   "metadata": {},
   "outputs": [
    {
     "name": "stdout",
     "output_type": "stream",
     "text": [
      "[('worker', 'http://www.wikidata.org/entity/Q15054445'), ('name', 'Ambrosia Kelley')]\n",
      "[('worker', 'http://www.wikidata.org/entity/Q234094'), ('name', 'Chiaki Kuriyama')]\n",
      "[('worker', 'http://www.wikidata.org/entity/Q207596'), ('name', 'Daryl Hannah')]\n",
      "[('worker', 'http://www.wikidata.org/entity/Q187038'), ('name', 'David Carradine')]\n",
      "[('worker', 'http://www.wikidata.org/entity/Q1071583'), ('name', 'Gordon Liu')]\n",
      "[('worker', 'http://www.wikidata.org/entity/Q967797'), ('name', 'James Parks')]\n",
      "[('worker', 'http://www.wikidata.org/entity/Q2075598'), ('name', 'Jonathan Loughran')]\n",
      "[('worker', 'http://www.wikidata.org/entity/Q263178'), ('name', 'Julie Dreyfus')]\n",
      "[('worker', 'http://www.wikidata.org/entity/Q11422725'), ('name', 'Jun Kunimura')]\n",
      "[('worker', 'http://www.wikidata.org/entity/Q3811114'), ('name', 'Juri Manase')]\n",
      "[('worker', 'http://www.wikidata.org/entity/Q1049366'), ('name', 'Kazuki Kitamura')]\n",
      "[('worker', 'http://www.wikidata.org/entity/Q736403'), ('name', 'Kenji Ōba')]\n",
      "[('worker', 'http://www.wikidata.org/entity/Q514913'), ('name', 'Lawrence Bender')]\n",
      "[('worker', 'http://www.wikidata.org/entity/Q188375'), ('name', 'Lucy Liu')]\n",
      "[('worker', 'http://www.wikidata.org/entity/Q604762'), ('name', 'Michael Bowen')]\n",
      "[('worker', 'http://www.wikidata.org/entity/Q220584'), ('name', 'Michael Madsen')]\n",
      "[('worker', 'http://www.wikidata.org/entity/Q525318'), ('name', 'Michael Parks')]\n",
      "[('worker', 'http://www.wikidata.org/entity/Q3772'), ('name', 'Quentin Tarantino')]\n",
      "[('worker', 'http://www.wikidata.org/entity/Q52447'), ('name', 'RZA')]\n",
      "[('worker', 'http://www.wikidata.org/entity/Q3945174'), ('name', 'Sakichi Satō')]\n",
      "[('worker', 'http://www.wikidata.org/entity/Q273379'), ('name', 'Sally Menke')]\n",
      "[('worker', 'http://www.wikidata.org/entity/Q351732'), ('name', 'Sonny Chiba')]\n",
      "[('worker', 'http://www.wikidata.org/entity/Q1425803'), ('name', \"The 5.6.7.8's\")]\n",
      "[('worker', 'http://www.wikidata.org/entity/Q125017'), ('name', 'Uma Thurman')]\n",
      "[('worker', 'http://www.wikidata.org/entity/Q220396'), ('name', 'Vivica A. Fox')]\n",
      "[('worker', 'http://www.wikidata.org/entity/Q227123'), ('name', 'Zoë Bell')]\n"
     ]
    },
    {
     "data": {
      "text/plain": [
       "26"
      ]
     },
     "execution_count": 17,
     "metadata": {},
     "output_type": "execute_result"
    }
   ],
   "source": [
    "q = f\"\"\"\n",
    "select distinct ?worker ?name where{{\n",
    "wd:Q165325 wdt:P1040|wdt:P161|wdt:P162|wdt:P86|wdt:P57|wdt:P58 ?worker .\n",
    "?worker <http://schema.org/name> ?name\n",
    "}}\n",
    "order by asc(?name)\n",
    "\"\"\"\n",
    "run_query(q)"
   ]
  },
  {
   "cell_type": "code",
   "execution_count": 18,
   "id": "9c066bc9-a4c3-4930-b9dd-370f532109b0",
   "metadata": {},
   "outputs": [
    {
     "name": "stdout",
     "output_type": "stream",
     "text": [
      "[('n_distinct', '274')]\n"
     ]
    },
    {
     "data": {
      "text/plain": [
       "1"
      ]
     },
     "execution_count": 18,
     "metadata": {},
     "output_type": "execute_result"
    }
   ],
   "source": [
    "#point 4 is very general, let's start by counting the total number of workers that have participated in a Tarantino movie\n",
    "subQuery = f\"\"\"\n",
    "select distinct ?worker where{{\n",
    "?movie wdt:P31 wd:Q11424 ;\n",
    "    wdt:P57 wd:Q3772 ;\n",
    "    wdt:P1040|wdt:P161|wdt:P162|wdt:P86|wdt:P57|wdt:P58 ?worker .\n",
    "}}\n",
    "\"\"\"\n",
    "q = f\"\"\"\n",
    "select (count(*) as ?n_distinct) where{{\n",
    "    {{\n",
    "        select distinct ?worker where{{\n",
    "\n",
    "?movie wdt:P31 wd:Q11424 ;\n",
    "\n",
    "    wdt:P57 wd:Q3772 ;\n",
    "\n",
    "    wdt:P1040|wdt:P161|wdt:P162|wdt:P86|wdt:P57|wdt:P58 ?worker .\n",
    "\n",
    "}}\n",
    "\n",
    "\n",
    "\n",
    "    }}\n",
    "}}\n",
    "\"\"\"\n",
    "run_query(q)"
   ]
  },
  {
   "cell_type": "code",
   "execution_count": 19,
   "id": "30a63ac0-56d1-46f8-a904-1574ab001128",
   "metadata": {},
   "outputs": [
    {
     "name": "stdout",
     "output_type": "stream",
     "text": [
      "[('n_distinct', '894')]\n"
     ]
    },
    {
     "data": {
      "text/plain": [
       "1"
      ]
     },
     "execution_count": 19,
     "metadata": {},
     "output_type": "execute_result"
    }
   ],
   "source": [
    "#let's do for Woody Allen\n",
    "subQuery = f\"\"\"\n",
    "select distinct ?worker where{{\n",
    "?movie wdt:P31 wd:Q11424 ;\n",
    "    wdt:P57 wd:Q25089 ;\n",
    "    wdt:P1040|wdt:P161|wdt:P162|wdt:P86|wdt:P57|wdt:P58 ?worker .\n",
    "}}\n",
    "\"\"\"\n",
    "q = f\"\"\"\n",
    "select (count(*) as ?n_distinct) where{{\n",
    "    {{\n",
    "        select distinct ?worker where{{\n",
    "\n",
    "?movie wdt:P31 wd:Q11424 ;\n",
    "\n",
    "    wdt:P57 wd:Q25089 ;\n",
    "\n",
    "    wdt:P1040|wdt:P161|wdt:P162|wdt:P86|wdt:P57|wdt:P58 ?worker .\n",
    "\n",
    "}}\n",
    "\n",
    "\n",
    "\n",
    "    }}\n",
    "}}\n",
    "\"\"\"\n",
    "run_query(q)"
   ]
  },
  {
   "cell_type": "code",
   "execution_count": 20,
   "id": "38a9c9e9-1e00-4d10-80a4-a7fe62934830",
   "metadata": {},
   "outputs": [
    {
     "name": "stdout",
     "output_type": "stream",
     "text": [
      "[('property', 'http://www.wikidata.org/prop/direct/P1040'), ('name', 'film editor')]\n",
      "[('property', 'http://www.wikidata.org/prop/direct/P161'), ('name', 'cast member')]\n",
      "[('property', 'http://www.wikidata.org/prop/direct/P162'), ('name', 'producer')]\n",
      "[('property', 'http://www.wikidata.org/prop/direct/P170'), ('name', 'creator')]\n",
      "[('property', 'http://www.wikidata.org/prop/direct/P2515'), ('name', 'costume designer')]\n",
      "[('property', 'http://www.wikidata.org/prop/direct/P344'), ('name', 'director of photography')]\n",
      "[('property', 'http://www.wikidata.org/prop/direct/P57'), ('name', 'director')]\n",
      "[('property', 'http://www.wikidata.org/prop/direct/P58'), ('name', 'screenwriter')]\n",
      "[('property', 'http://www.wikidata.org/prop/direct/P86'), ('name', 'composer')]\n",
      "[('property', 'http://www.wikidata.org/prop/direct/P2554'), ('name', 'production designer')]\n",
      "[('property', 'http://www.wikidata.org/prop/direct/P1431'), ('name', 'executive producer')]\n",
      "[('property', 'http://www.wikidata.org/prop/direct/P1877'), ('name', 'after a work by')]\n",
      "[('property', 'http://www.wikidata.org/prop/direct/P2438'), ('name', 'narrator')]\n",
      "[('property', 'http://www.wikidata.org/prop/direct/P175'), ('name', 'performer')]\n",
      "[('property', 'http://www.wikidata.org/prop/direct/P674'), ('name', 'characters')]\n",
      "[('property', 'http://www.wikidata.org/prop/direct/P767'), ('name', 'contributor to the creative work or subject')]\n"
     ]
    },
    {
     "data": {
      "text/plain": [
       "16"
      ]
     },
     "execution_count": 20,
     "metadata": {},
     "output_type": "execute_result"
    }
   ],
   "source": [
    "#looking at the list of roles we have identified, we may have missed some roles. \n",
    "#Is it possible that there are properties related to workers in roles such as\n",
    "#camera crew, costume designer, lighting, visual fx and so on? \n",
    "#let's expand the search of properties to the whole set of movies by Tarantino and Allen\n",
    "#the object of the property will be a person, most likely, so we use the class Human\n",
    "q = f\"\"\"\n",
    "select distinct ?property ?name where{{\n",
    "?movie ?property ?worker .\n",
    "?property <http://schema.org/name> ?name .\n",
    "?worker wdt:P31 wd:Q5 .\n",
    "?movie wdt:P31 wd:Q11424 .\n",
    "?movie wdt:P57 ?director .\n",
    "filter (?director in (wd:Q3772, wd:Q25089))\n",
    "}}\n",
    "\"\"\"\n",
    "run_query(q)"
   ]
  },
  {
   "cell_type": "code",
   "execution_count": 22,
   "id": "65d4ddcc-cbeb-44b9-a689-3963b7506ac1",
   "metadata": {},
   "outputs": [
    {
     "name": "stdout",
     "output_type": "stream",
     "text": [
      "[('n_distinct', '286')]\n"
     ]
    },
    {
     "data": {
      "text/plain": [
       "1"
      ]
     },
     "execution_count": 22,
     "metadata": {},
     "output_type": "execute_result"
    }
   ],
   "source": [
    "#and let's redo the relevant queries to get the number of workers\n",
    "subQuery = f\"\"\"\n",
    "select distinct ?worker where{{\n",
    "?movie wdt:P31 wd:Q11424 ;\n",
    "    wdt:P57 wd:Q3772 ;\n",
    "    wdt:P1040|wdt:P161|wdt:P162|wdt:P86|wdt:P57|wdt:P58|wdt:P2515|wdt:P344|wdt:P2554|wdt:P1431|wdt:P2438|wdt:P175|wdt:P767\n",
    " ?worker .\n",
    "}}\n",
    "\"\"\"\n",
    "q = f\"\"\"\n",
    "select (count(*) as ?n_distinct) where{{\n",
    "    {{\n",
    "        select distinct ?worker where{{\n",
    "\n",
    "?movie wdt:P31 wd:Q11424 ;\n",
    "\n",
    "    wdt:P57 wd:Q3772 ;\n",
    "\n",
    "    wdt:P1040|wdt:P161|wdt:P162|wdt:P86|wdt:P57|wdt:P58|wdt:P2515|wdt:P344|wdt:P2554|wdt:P1431|wdt:P2438|wdt:P175|wdt:P767\n",
    "\n",
    " ?worker .\n",
    "\n",
    "}}\n",
    "\n",
    "\n",
    "\n",
    "    }}\n",
    "}}\n",
    "\"\"\"\n",
    "run_query(q)"
   ]
  },
  {
   "cell_type": "code",
   "execution_count": 23,
   "id": "8fac2cba-dd2b-409d-8c8c-0143bb79d97a",
   "metadata": {},
   "outputs": [
    {
     "name": "stdout",
     "output_type": "stream",
     "text": [
      "[('n_distinct', '919')]\n"
     ]
    },
    {
     "data": {
      "text/plain": [
       "1"
      ]
     },
     "execution_count": 23,
     "metadata": {},
     "output_type": "execute_result"
    }
   ],
   "source": [
    "subQuery = f\"\"\"\n",
    "select distinct ?worker where{{\n",
    "?movie wdt:P31 wd:Q11424 ;\n",
    "    wdt:P57 wd:Q25089 ;\n",
    "    wdt:P1040|wdt:P161|wdt:P162|wdt:P86|wdt:P57|wdt:P58|wdt:P2515|wdt:P344|wdt:P2554|wdt:P1431|wdt:P2438|wdt:P175|wdt:P767\n",
    " ?worker .\n",
    "}}\n",
    "\"\"\"\n",
    "q = f\"\"\"\n",
    "select (count(*) as ?n_distinct) where{{\n",
    "    {{\n",
    "        select distinct ?worker where{{\n",
    "\n",
    "?movie wdt:P31 wd:Q11424 ;\n",
    "\n",
    "    wdt:P57 wd:Q25089 ;\n",
    "\n",
    "    wdt:P1040|wdt:P161|wdt:P162|wdt:P86|wdt:P57|wdt:P58|wdt:P2515|wdt:P344|wdt:P2554|wdt:P1431|wdt:P2438|wdt:P175|wdt:P767\n",
    "\n",
    " ?worker .\n",
    "\n",
    "}}\n",
    "\n",
    "\n",
    "\n",
    "    }}\n",
    "}}\n",
    "\"\"\"\n",
    "run_query(q)"
   ]
  },
  {
   "cell_type": "markdown",
   "id": "3936b400-4c19-4ba9-8ce0-8f6995ffbc3a",
   "metadata": {},
   "source": [
    "## Task 4"
   ]
  },
  {
   "cell_type": "code",
   "execution_count": 25,
   "id": "7b8b9c0b-9bd9-40de-9a36-7fcc6d2cb4de",
   "metadata": {},
   "outputs": [
    {
     "name": "stdout",
     "output_type": "stream",
     "text": [
      "[('movie', 'http://www.wikidata.org/entity/Q571032'), ('name', 'Django Unchained'), ('n_workers', '62')]\n",
      "[('movie', 'http://www.wikidata.org/entity/Q153723'), ('name', 'Inglourious Basterds'), ('n_workers', '57')]\n",
      "[('movie', 'http://www.wikidata.org/entity/Q47300912'), ('name', 'Once Upon a Time in Hollywood'), ('n_workers', '56')]\n",
      "[('movie', 'http://www.wikidata.org/entity/Q104123'), ('name', 'Pulp Fiction'), ('n_workers', '43')]\n",
      "[('movie', 'http://www.wikidata.org/entity/Q192115'), ('name', 'Sin City'), ('n_workers', '39')]\n",
      "[('movie', 'http://www.wikidata.org/entity/Q165325'), ('name', 'Kill Bill Volume 1'), ('n_workers', '28')]\n",
      "[('movie', 'http://www.wikidata.org/entity/Q431252'), ('name', 'Jackie Brown'), ('n_workers', '25')]\n",
      "[('movie', 'http://www.wikidata.org/entity/Q1137310'), ('name', 'Death Proof'), ('n_workers', '24')]\n",
      "[('movie', 'http://www.wikidata.org/entity/Q928019'), ('name', 'Kill Bill Volume 2'), ('n_workers', '24')]\n",
      "[('movie', 'http://www.wikidata.org/entity/Q18225084'), ('name', 'The Hateful Eight'), ('n_workers', '21')]\n",
      "[('movie', 'http://www.wikidata.org/entity/Q72962'), ('name', 'Reservoir Dogs'), ('n_workers', '19')]\n",
      "[('movie', 'http://www.wikidata.org/entity/Q18126825'), ('name', 'Kill Bill: The Whole Bloody Affair'), ('n_workers', '10')]\n"
     ]
    },
    {
     "data": {
      "text/plain": [
       "12"
      ]
     },
     "execution_count": 25,
     "metadata": {},
     "output_type": "execute_result"
    }
   ],
   "source": [
    "#how many people worked in each tarantino movie?\n",
    "\n",
    "#first get distinct movie and worker, assumption is that some people may have more than 1 role\n",
    "subQuery = f\"\"\"\n",
    "select distinct ?movie ?worker where{{\n",
    "?movie wdt:P31 wd:Q11424 ;\n",
    "    wdt:P57 wd:Q3772 ;\n",
    "    wdt:P1040|wdt:P161|wdt:P162|wdt:P86|wdt:P57|wdt:P58|wdt:P2515|wdt:P344|wdt:P2554|wdt:P1431|wdt:P2438|wdt:P175|wdt:P767\n",
    " ?worker\n",
    "\n",
    "}}\n",
    "\"\"\"\n",
    "\n",
    "#this counts the number of workers for each movie\n",
    "q = f\"\"\"\n",
    "select ?movie ?name (count(?worker) as ?n_workers) where{{\n",
    "?movie <http://schema.org/name> ?name .\n",
    "\n",
    "    {{\n",
    "        select distinct ?movie ?worker where{{\n",
    "\n",
    "?movie wdt:P31 wd:Q11424 ;\n",
    "\n",
    "    wdt:P57 wd:Q3772 ;\n",
    "\n",
    "    wdt:P1040|wdt:P161|wdt:P162|wdt:P86|wdt:P57|wdt:P58|wdt:P2515|wdt:P344|wdt:P2554|wdt:P1431|wdt:P2438|wdt:P175|wdt:P767\n",
    "\n",
    " ?worker\n",
    "\n",
    "\n",
    "\n",
    "}}\n",
    "\n",
    "\n",
    "\n",
    "    }}\n",
    "\n",
    "}}\n",
    "group by ?movie ?name\n",
    "order by desc(?n_workers)\n",
    "\"\"\"\n",
    "run_query(q)"
   ]
  },
  {
   "cell_type": "code",
   "execution_count": 26,
   "id": "9c851ba3-0dd3-4687-8100-bb0f6262758d",
   "metadata": {},
   "outputs": [
    {
     "name": "stdout",
     "output_type": "stream",
     "text": [
      "[('movie', 'http://www.wikidata.org/entity/Q1052826'), ('name', 'Celebrity'), ('n_workers', '74')]\n",
      "[('movie', 'http://www.wikidata.org/entity/Q29658'), ('name', 'To Rome with Love'), ('n_workers', '48')]\n",
      "[('movie', 'http://www.wikidata.org/entity/Q977372'), ('name', 'New York Stories'), ('n_workers', '46')]\n",
      "[('movie', 'http://www.wikidata.org/entity/Q187423'), ('name', 'Zelig'), ('n_workers', '45')]\n",
      "[('movie', 'http://www.wikidata.org/entity/Q3986392'), ('name', 'The Concert for New York City'), ('n_workers', '43')]\n",
      "[('movie', 'http://www.wikidata.org/entity/Q551762'), ('name', 'Deconstructing Harry'), ('n_workers', '41')]\n",
      "[('movie', 'http://www.wikidata.org/entity/Q910523'), ('name', 'Shadows and Fog'), ('n_workers', '40')]\n",
      "[('movie', 'http://www.wikidata.org/entity/Q206124'), ('name', 'Midnight in Paris'), ('n_workers', '40')]\n",
      "[('movie', 'http://www.wikidata.org/entity/Q1218888'), ('name', 'Love and Death'), ('n_workers', '40')]\n",
      "[('movie', 'http://www.wikidata.org/entity/Q1004531'), ('name', 'Bullets Over Broadway'), ('n_workers', '38')]\n",
      "[('movie', 'http://www.wikidata.org/entity/Q233464'), ('name', 'Annie Hall'), ('n_workers', '38')]\n",
      "[('movie', 'http://www.wikidata.org/entity/Q682262'), ('name', 'Alice'), ('n_workers', '35')]\n",
      "[('movie', 'http://www.wikidata.org/entity/Q685109'), ('name', 'Radio Days'), ('n_workers', '34')]\n",
      "[('movie', 'http://www.wikidata.org/entity/Q682002'), ('name', 'scoop'), ('n_workers', '33')]\n",
      "[('movie', 'http://www.wikidata.org/entity/Q733677'), ('name', 'Match Point'), ('n_workers', '31')]\n",
      "[('movie', 'http://www.wikidata.org/entity/Q1321004'), ('name', 'You Will Meet a Tall Dark Stranger'), ('n_workers', '31')]\n",
      "[('movie', 'http://www.wikidata.org/entity/Q1354121'), ('name', 'Melinda and Melinda'), ('n_workers', '29')]\n",
      "[('movie', 'http://www.wikidata.org/entity/Q653518'), ('name', 'Stardust Memories'), ('n_workers', '29')]\n",
      "[('movie', 'http://www.wikidata.org/entity/Q181555'), ('name', 'Crimes and Misdemeanors'), ('n_workers', '29')]\n",
      "[('movie', 'http://www.wikidata.org/entity/Q582021'), ('name', 'Hollywood Ending'), ('n_workers', '28')]\n",
      "[('movie', 'http://www.wikidata.org/entity/Q1334572'), ('name', 'Everyone Says I Love You'), ('n_workers', '27')]\n",
      "[('movie', 'http://www.wikidata.org/entity/Q845057'), ('name', 'Hannah and Her Sisters'), ('n_workers', '27')]\n",
      "[('movie', 'http://www.wikidata.org/entity/Q499697'), ('name', 'Everything You Always Wanted to Know About Sex*'), ('n_workers', '26')]\n",
      "[('movie', 'http://www.wikidata.org/entity/Q541185'), ('name', 'Another Woman'), ('n_workers', '26')]\n",
      "[('movie', 'http://www.wikidata.org/entity/Q786585'), ('name', 'Sweet and Lowdown'), ('n_workers', '25')]\n",
      "[('movie', 'http://www.wikidata.org/entity/Q731310'), ('name', 'Manhattan'), ('n_workers', '24')]\n",
      "[('movie', 'http://www.wikidata.org/entity/Q912729'), ('name', 'The Purple Rose of Cairo'), ('n_workers', '24')]\n",
      "[('movie', 'http://www.wikidata.org/entity/Q833530'), ('name', \"Cassandra's Dream\"), ('n_workers', '22')]\n",
      "[('movie', 'http://www.wikidata.org/entity/Q335508'), ('name', 'The Curse of the Jade Scorpion'), ('n_workers', '22')]\n",
      "[('movie', 'http://www.wikidata.org/entity/Q1354109'), ('name', 'Mighty Aphrodite'), ('n_workers', '22')]\n",
      "[('movie', 'http://www.wikidata.org/entity/Q740143'), ('name', 'Husbands and Wives'), ('n_workers', '22')]\n",
      "[('movie', 'http://www.wikidata.org/entity/Q806092'), ('name', 'Bananas'), ('n_workers', '21')]\n",
      "[('movie', 'http://www.wikidata.org/entity/Q2907178'), ('name', 'Blue Jasmine'), ('n_workers', '21')]\n",
      "[('movie', 'http://www.wikidata.org/entity/Q692208'), ('name', 'Whatever Works'), ('n_workers', '21')]\n",
      "[('movie', 'http://www.wikidata.org/entity/Q20950014'), ('name', 'Café Society'), ('n_workers', '20')]\n",
      "[('movie', 'http://www.wikidata.org/entity/Q729026'), ('name', 'Broadway Danny Rose'), ('n_workers', '20')]\n",
      "[('movie', 'http://www.wikidata.org/entity/Q1133277'), ('name', 'Manhattan Murder Mystery'), ('n_workers', '19')]\n",
      "[('movie', 'http://www.wikidata.org/entity/Q1146315'), ('name', 'Take the Money and Run'), ('n_workers', '19')]\n",
      "[('movie', 'http://www.wikidata.org/entity/Q212123'), ('name', 'Vicky Cristina Barcelona'), ('n_workers', '19')]\n",
      "[('movie', 'http://www.wikidata.org/entity/Q610163'), ('name', 'Small Time Crooks'), ('n_workers', '17')]\n",
      "[('movie', 'http://www.wikidata.org/entity/Q750003'), ('name', 'Sleeper'), ('n_workers', '17')]\n",
      "[('movie', 'http://www.wikidata.org/entity/Q17417520'), ('name', 'Irrational Man'), ('n_workers', '17')]\n",
      "[('movie', 'http://www.wikidata.org/entity/Q14511869'), ('name', 'Magic in the Moonlight'), ('n_workers', '16')]\n",
      "[('movie', 'http://www.wikidata.org/entity/Q42307699'), ('name', 'A Rainy Day in New York'), ('n_workers', '15')]\n",
      "[('movie', 'http://www.wikidata.org/entity/Q961403'), ('name', 'Interiors'), ('n_workers', '14')]\n",
      "[('movie', 'http://www.wikidata.org/entity/Q971865'), ('name', \"What's Up, Tiger Lily?\"), ('n_workers', '14')]\n",
      "[('movie', 'http://www.wikidata.org/entity/Q614009'), ('name', 'Anything Else'), ('n_workers', '13')]\n",
      "[('movie', 'http://www.wikidata.org/entity/Q27703144'), ('name', 'Wonder Wheel'), ('n_workers', '13')]\n",
      "[('movie', 'http://www.wikidata.org/entity/Q1770003'), ('name', 'September'), ('n_workers', '12')]\n",
      "[('movie', 'http://www.wikidata.org/entity/Q1306629'), ('name', \"A Midsummer Night's Sex Comedy\"), ('n_workers', '11')]\n",
      "[('movie', 'http://www.wikidata.org/entity/Q65552643'), ('name', \"Rifkin's Festival\"), ('n_workers', '11')]\n"
     ]
    },
    {
     "data": {
      "text/plain": [
       "51"
      ]
     },
     "execution_count": 26,
     "metadata": {},
     "output_type": "execute_result"
    }
   ],
   "source": [
    "#how many different workers in each allen movie?\n",
    "\n",
    "#first get distinct movie and worker, assumption is that some people may have more than 1 role\n",
    "subQuery = f\"\"\"\n",
    "select distinct ?movie ?worker where{{\n",
    "?movie wdt:P31 wd:Q11424 ;\n",
    "    wdt:P57 wd:Q25089 ;\n",
    "    wdt:P1040|wdt:P161|wdt:P162|wdt:P86|wdt:P57|wdt:P58|wdt:P2515|wdt:P344|wdt:P2554|wdt:P1431|wdt:P2438|wdt:P175|wdt:P767\n",
    " ?worker\n",
    "\n",
    "}}\n",
    "\"\"\"\n",
    "\n",
    "#this counts the number of workers for each movie\n",
    "q = f\"\"\"\n",
    "select ?movie ?name (count(?worker) as ?n_workers) where{{\n",
    "?movie <http://schema.org/name> ?name .\n",
    "\n",
    "    {{\n",
    "        select distinct ?movie ?worker where{{\n",
    "\n",
    "?movie wdt:P31 wd:Q11424 ;\n",
    "\n",
    "    wdt:P57 wd:Q25089 ;\n",
    "\n",
    "    wdt:P1040|wdt:P161|wdt:P162|wdt:P86|wdt:P57|wdt:P58|wdt:P2515|wdt:P344|wdt:P2554|wdt:P1431|wdt:P2438|wdt:P175|wdt:P767\n",
    "\n",
    " ?worker\n",
    "\n",
    "\n",
    "\n",
    "}}\n",
    "\n",
    "\n",
    "\n",
    "    }}\n",
    "\n",
    "}}\n",
    "group by ?movie ?name\n",
    "order by desc(?n_workers)\n",
    "\"\"\"\n",
    "run_query(q)"
   ]
  },
  {
   "cell_type": "code",
   "execution_count": 27,
   "id": "7890ccac-3d1a-4e02-8d19-9848bcdfb845",
   "metadata": {},
   "outputs": [
    {
     "name": "stdout",
     "output_type": "stream",
     "text": [
      "[('movie', 'http://www.wikidata.org/entity/Q153723'), ('name', 'Inglourious Basterds'), ('narratorName', 'Samuel L. Jackson')]\n"
     ]
    },
    {
     "data": {
      "text/plain": [
       "1"
      ]
     },
     "execution_count": 27,
     "metadata": {},
     "output_type": "execute_result"
    }
   ],
   "source": [
    "#which tarantino movies used a narrator?\n",
    "q = f\"\"\"\n",
    "select distinct ?movie ?name ?narratorName where{{\n",
    "?movie wdt:P31 wd:Q11424 ;\n",
    "    <http://schema.org/name> ?name ;\n",
    "    wdt:P57 wd:Q3772 ;\n",
    "    wdt:P2438 ?narrator .\n",
    "?narrator <http://schema.org/name> ?narratorName .\n",
    "}}\n",
    "\"\"\"\n",
    "run_query(q)"
   ]
  },
  {
   "cell_type": "code",
   "execution_count": 28,
   "id": "45d96f40-f838-4e71-ae9d-55d7c920272a",
   "metadata": {},
   "outputs": [
    {
     "name": "stdout",
     "output_type": "stream",
     "text": [
      "[('movie', 'http://www.wikidata.org/entity/Q1146315'), ('name', 'Take the Money and Run'), ('narratorName', 'Jackson Beck')]\n"
     ]
    },
    {
     "data": {
      "text/plain": [
       "1"
      ]
     },
     "execution_count": 28,
     "metadata": {},
     "output_type": "execute_result"
    }
   ],
   "source": [
    "#which allen movies used a narrator?\n",
    "q = f\"\"\"\n",
    "select distinct ?movie ?name ?narratorName where{{\n",
    "?movie wdt:P31 wd:Q11424 ;\n",
    "    <http://schema.org/name> ?name ;\n",
    "    wdt:P57 wd:Q25089 ;\n",
    "    wdt:P2438 ?narrator .\n",
    "?narrator <http://schema.org/name> ?narratorName .\n",
    "}}\n",
    "\"\"\"\n",
    "run_query(q)"
   ]
  },
  {
   "cell_type": "code",
   "execution_count": 29,
   "id": "c2b8b537-0243-4913-ae89-be1fb6d374f2",
   "metadata": {},
   "outputs": [
    {
     "name": "stdout",
     "output_type": "stream",
     "text": [
      "[('worker', 'http://www.wikidata.org/entity/Q3772'), ('name', 'Quentin Tarantino'), ('appearances', '12')]\n",
      "[('worker', 'http://www.wikidata.org/entity/Q273379'), ('name', 'Sally Menke'), ('appearances', '7')]\n",
      "[('worker', 'http://www.wikidata.org/entity/Q220584'), ('name', 'Michael Madsen'), ('appearances', '7')]\n",
      "[('worker', 'http://www.wikidata.org/entity/Q172678'), ('name', 'Samuel L. Jackson'), ('appearances', '6')]\n",
      "[('worker', 'http://www.wikidata.org/entity/Q514913'), ('name', 'Lawrence Bender'), ('appearances', '6')]\n",
      "[('worker', 'http://www.wikidata.org/entity/Q227123'), ('name', 'Zoë Bell'), ('appearances', '6')]\n",
      "[('worker', 'http://www.wikidata.org/entity/Q364017'), ('name', 'Robert Richardson'), ('appearances', '6')]\n",
      "[('worker', 'http://www.wikidata.org/entity/Q967797'), ('name', 'James Parks'), ('appearances', '5')]\n",
      "[('worker', 'http://www.wikidata.org/entity/Q525318'), ('name', 'Michael Parks'), ('appearances', '4')]\n",
      "[('worker', 'http://www.wikidata.org/entity/Q888311'), ('name', 'Bob Weinstein'), ('appearances', '4')]\n"
     ]
    },
    {
     "data": {
      "text/plain": [
       "10"
      ]
     },
     "execution_count": 29,
     "metadata": {},
     "output_type": "execute_result"
    }
   ],
   "source": [
    "#the top 10 people that took part in a tarantino movie, ordered by number of appearances\n",
    "\n",
    "#first get distinct movie and worker, assumption is that some people may have more than 1 role\n",
    "subQuery = f\"\"\"\n",
    "select distinct ?movie ?worker where{{\n",
    "?movie wdt:P31 wd:Q11424 ;\n",
    "    wdt:P57 wd:Q3772 ;\n",
    "    wdt:P1040|wdt:P161|wdt:P162|wdt:P86|wdt:P57|wdt:P58|wdt:P2515|wdt:P344|wdt:P2554|wdt:P1431|wdt:P2438|wdt:P175|wdt:P767\n",
    " ?worker\n",
    "\n",
    "}}\n",
    "\"\"\"\n",
    "\n",
    "q = f\"\"\"\n",
    "select ?worker ?name (count(*) as ?appearances) where{{\n",
    "\n",
    "?worker <http://schema.org/name> ?name .\n",
    "\n",
    "    {{\n",
    "        select distinct ?movie ?worker where{{\n",
    "\n",
    "?movie wdt:P31 wd:Q11424 ;\n",
    "\n",
    "    wdt:P57 wd:Q3772 ;\n",
    "\n",
    "    wdt:P1040|wdt:P161|wdt:P162|wdt:P86|wdt:P57|wdt:P58|wdt:P2515|wdt:P344|wdt:P2554|wdt:P1431|wdt:P2438|wdt:P175|wdt:P767\n",
    "\n",
    " ?worker\n",
    "\n",
    "\n",
    "\n",
    "}}\n",
    "\n",
    "\n",
    "\n",
    "    }}\n",
    "\n",
    "}}\n",
    "group by ?worker ?name\n",
    "order by desc(?appearances)\n",
    "limit 10\n",
    "\"\"\"\n",
    "run_query(q)"
   ]
  },
  {
   "cell_type": "code",
   "execution_count": 30,
   "id": "bf7bae72-79a7-4bf1-9273-9815b9c3a3da",
   "metadata": {},
   "outputs": [
    {
     "name": "stdout",
     "output_type": "stream",
     "text": [
      "[('worker', 'http://www.wikidata.org/entity/Q3772'), ('name', 'Quentin Tarantino'), ('appearances', '12')]\n",
      "[('worker', 'http://www.wikidata.org/entity/Q273379'), ('name', 'Sally Menke'), ('appearances', '7')]\n",
      "[('worker', 'http://www.wikidata.org/entity/Q220584'), ('name', 'Michael Madsen'), ('appearances', '7')]\n",
      "[('worker', 'http://www.wikidata.org/entity/Q172678'), ('name', 'Samuel L. Jackson'), ('appearances', '6')]\n",
      "[('worker', 'http://www.wikidata.org/entity/Q514913'), ('name', 'Lawrence Bender'), ('appearances', '6')]\n",
      "[('worker', 'http://www.wikidata.org/entity/Q227123'), ('name', 'Zoë Bell'), ('appearances', '6')]\n",
      "[('worker', 'http://www.wikidata.org/entity/Q364017'), ('name', 'Robert Richardson'), ('appearances', '6')]\n",
      "[('worker', 'http://www.wikidata.org/entity/Q967797'), ('name', 'James Parks'), ('appearances', '5')]\n",
      "[('worker', 'http://www.wikidata.org/entity/Q525318'), ('name', 'Michael Parks'), ('appearances', '4')]\n",
      "[('worker', 'http://www.wikidata.org/entity/Q888311'), ('name', 'Bob Weinstein'), ('appearances', '4')]\n",
      "[('worker', 'http://www.wikidata.org/entity/Q604762'), ('name', 'Michael Bowen'), ('appearances', '4')]\n"
     ]
    },
    {
     "data": {
      "text/plain": [
       "11"
      ]
     },
     "execution_count": 30,
     "metadata": {},
     "output_type": "execute_result"
    }
   ],
   "source": [
    "#of course, we should ignore the director, let's just extend the limit to 11\n",
    "#first get distinct movie and worker, assumption is that some people may have more than 1 role\n",
    "subQuery = f\"\"\"\n",
    "select distinct ?movie ?worker where{{\n",
    "?movie wdt:P31 wd:Q11424 ;\n",
    "    wdt:P57 wd:Q3772 ;\n",
    "    wdt:P1040|wdt:P161|wdt:P162|wdt:P86|wdt:P57|wdt:P58|wdt:P2515|wdt:P344|wdt:P2554|wdt:P1431|wdt:P2438|wdt:P175|wdt:P767\n",
    " ?worker\n",
    "\n",
    "}}\n",
    "\"\"\"\n",
    "\n",
    "q = f\"\"\"\n",
    "select ?worker ?name (count(*) as ?appearances) where{{\n",
    "\n",
    "?worker <http://schema.org/name> ?name .\n",
    "\n",
    "    {{\n",
    "        select distinct ?movie ?worker where{{\n",
    "\n",
    "?movie wdt:P31 wd:Q11424 ;\n",
    "\n",
    "    wdt:P57 wd:Q3772 ;\n",
    "\n",
    "    wdt:P1040|wdt:P161|wdt:P162|wdt:P86|wdt:P57|wdt:P58|wdt:P2515|wdt:P344|wdt:P2554|wdt:P1431|wdt:P2438|wdt:P175|wdt:P767\n",
    "\n",
    " ?worker\n",
    "\n",
    "\n",
    "\n",
    "}}\n",
    "\n",
    "\n",
    "\n",
    "    }}\n",
    "\n",
    "}}\n",
    "group by ?worker ?name\n",
    "order by desc(?appearances)\n",
    "limit 11\n",
    "\"\"\"\n",
    "run_query(q)"
   ]
  },
  {
   "cell_type": "code",
   "execution_count": 31,
   "id": "1f19cdf4-2b1b-4a65-94ad-7898b5e77a1b",
   "metadata": {},
   "outputs": [
    {
     "name": "stdout",
     "output_type": "stream",
     "text": [
      "[('worker', 'http://www.wikidata.org/entity/Q25089'), ('name', 'Woody Allen'), ('appearances', '51')]\n",
      "[('worker', 'http://www.wikidata.org/entity/Q3831197'), ('name', 'Letty Aronson'), ('appearances', '22')]\n",
      "[('worker', 'http://www.wikidata.org/entity/Q4726932'), ('name', 'Alisa Lepselter'), ('appearances', '21')]\n",
      "[('worker', 'http://www.wikidata.org/entity/Q2223675'), ('name', 'Santo Loquasto'), ('appearances', '21')]\n",
      "[('worker', 'http://www.wikidata.org/entity/Q273753'), ('name', 'Susan E. Morse'), ('appearances', '20')]\n",
      "[('worker', 'http://www.wikidata.org/entity/Q2157353'), ('name', 'Robert Greenhut'), ('appearances', '19')]\n",
      "[('worker', 'http://www.wikidata.org/entity/Q202725'), ('name', 'Mia Farrow'), ('appearances', '13')]\n",
      "[('worker', 'http://www.wikidata.org/entity/Q376138'), ('name', 'Charles H. Joffe'), ('appearances', '13')]\n",
      "[('worker', 'http://www.wikidata.org/entity/Q1006997'), ('name', 'Carlo Di Palma'), ('appearances', '11')]\n",
      "[('worker', 'http://www.wikidata.org/entity/Q3157307'), ('name', 'Jack Rollins'), ('appearances', '10')]\n",
      "[('worker', 'http://www.wikidata.org/entity/Q1209703'), ('name', 'Dick Hyman'), ('appearances', '10')]\n"
     ]
    },
    {
     "data": {
      "text/plain": [
       "11"
      ]
     },
     "execution_count": 31,
     "metadata": {},
     "output_type": "execute_result"
    }
   ],
   "source": [
    "#for Allen\n",
    "subQuery = f\"\"\"\n",
    "select distinct ?movie ?worker where{{\n",
    "?movie wdt:P31 wd:Q11424 ;\n",
    "    wdt:P57 wd:Q25089 ;\n",
    "    wdt:P1040|wdt:P161|wdt:P162|wdt:P86|wdt:P57|wdt:P58|wdt:P2515|wdt:P344|wdt:P2554|wdt:P1431|wdt:P2438|wdt:P175|wdt:P767\n",
    " ?worker\n",
    "\n",
    "}}\n",
    "\"\"\"\n",
    "\n",
    "q = f\"\"\"\n",
    "select ?worker ?name (count(*) as ?appearances) where{{\n",
    "\n",
    "?worker <http://schema.org/name> ?name .\n",
    "\n",
    "    {{\n",
    "        select distinct ?movie ?worker where{{\n",
    "\n",
    "?movie wdt:P31 wd:Q11424 ;\n",
    "\n",
    "    wdt:P57 wd:Q25089 ;\n",
    "\n",
    "    wdt:P1040|wdt:P161|wdt:P162|wdt:P86|wdt:P57|wdt:P58|wdt:P2515|wdt:P344|wdt:P2554|wdt:P1431|wdt:P2438|wdt:P175|wdt:P767\n",
    "\n",
    " ?worker\n",
    "\n",
    "\n",
    "\n",
    "}}\n",
    "\n",
    "\n",
    "\n",
    "    }}\n",
    "\n",
    "}}\n",
    "group by ?worker ?name\n",
    "order by desc(?appearances)\n",
    "limit 11\n",
    "\"\"\"\n",
    "run_query(q)"
   ]
  },
  {
   "cell_type": "code",
   "execution_count": 32,
   "id": "0a44baf2-9d4a-4e25-99d0-fd44881f95e7",
   "metadata": {},
   "outputs": [
    {
     "name": "stdout",
     "output_type": "stream",
     "text": [
      "[('movie', 'http://www.wikidata.org/entity/Q18225084'), ('name', 'The Hateful Eight')]\n",
      "[('movie', 'http://www.wikidata.org/entity/Q104123'), ('name', 'Pulp Fiction')]\n",
      "[('movie', 'http://www.wikidata.org/entity/Q1137310'), ('name', 'Death Proof')]\n",
      "[('movie', 'http://www.wikidata.org/entity/Q165325'), ('name', 'Kill Bill Volume 1')]\n",
      "[('movie', 'http://www.wikidata.org/entity/Q431252'), ('name', 'Jackie Brown')]\n",
      "[('movie', 'http://www.wikidata.org/entity/Q153723'), ('name', 'Inglourious Basterds')]\n",
      "[('movie', 'http://www.wikidata.org/entity/Q72962'), ('name', 'Reservoir Dogs')]\n",
      "[('movie', 'http://www.wikidata.org/entity/Q928019'), ('name', 'Kill Bill Volume 2')]\n",
      "[('movie', 'http://www.wikidata.org/entity/Q571032'), ('name', 'Django Unchained')]\n"
     ]
    },
    {
     "data": {
      "text/plain": [
       "9"
      ]
     },
     "execution_count": 32,
     "metadata": {},
     "output_type": "execute_result"
    }
   ],
   "source": [
    "#In which movies did Tarantino both act and direct?\n",
    "q = f\"\"\"\n",
    "select distinct ?movie ?name where{{\n",
    "?movie wdt:P31 wd:Q11424 ;\n",
    "    wdt:P57 wd:Q3772 ;\n",
    "    wdt:P161 wd:Q3772 ;\n",
    "    <http://schema.org/name> ?name .\n",
    "}}\n",
    "\"\"\"\n",
    "run_query(q)"
   ]
  },
  {
   "cell_type": "code",
   "execution_count": 33,
   "id": "8ca5ada3-b3c6-46c8-bb20-9ec385a4f0e2",
   "metadata": {},
   "outputs": [
    {
     "name": "stdout",
     "output_type": "stream",
     "text": [
      "[('movie', 'http://www.wikidata.org/entity/Q971865'), ('name', \"What's Up, Tiger Lily?\")]\n",
      "[('movie', 'http://www.wikidata.org/entity/Q1354109'), ('name', 'Mighty Aphrodite')]\n",
      "[('movie', 'http://www.wikidata.org/entity/Q729026'), ('name', 'Broadway Danny Rose')]\n",
      "[('movie', 'http://www.wikidata.org/entity/Q740143'), ('name', 'Husbands and Wives')]\n",
      "[('movie', 'http://www.wikidata.org/entity/Q806092'), ('name', 'Bananas')]\n",
      "[('movie', 'http://www.wikidata.org/entity/Q614009'), ('name', 'Anything Else')]\n",
      "[('movie', 'http://www.wikidata.org/entity/Q187423'), ('name', 'Zelig')]\n",
      "[('movie', 'http://www.wikidata.org/entity/Q786585'), ('name', 'Sweet and Lowdown')]\n",
      "[('movie', 'http://www.wikidata.org/entity/Q1218888'), ('name', 'Love and Death')]\n",
      "[('movie', 'http://www.wikidata.org/entity/Q181555'), ('name', 'Crimes and Misdemeanors')]\n",
      "[('movie', 'http://www.wikidata.org/entity/Q682002'), ('name', 'scoop')]\n",
      "[('movie', 'http://www.wikidata.org/entity/Q653518'), ('name', 'Stardust Memories')]\n",
      "[('movie', 'http://www.wikidata.org/entity/Q977372'), ('name', 'New York Stories')]\n",
      "[('movie', 'http://www.wikidata.org/entity/Q750003'), ('name', 'Sleeper')]\n",
      "[('movie', 'http://www.wikidata.org/entity/Q610163'), ('name', 'Small Time Crooks')]\n",
      "[('movie', 'http://www.wikidata.org/entity/Q910523'), ('name', 'Shadows and Fog')]\n",
      "[('movie', 'http://www.wikidata.org/entity/Q1133277'), ('name', 'Manhattan Murder Mystery')]\n",
      "[('movie', 'http://www.wikidata.org/entity/Q1146315'), ('name', 'Take the Money and Run')]\n",
      "[('movie', 'http://www.wikidata.org/entity/Q731310'), ('name', 'Manhattan')]\n",
      "[('movie', 'http://www.wikidata.org/entity/Q499697'), ('name', 'Everything You Always Wanted to Know About Sex*')]\n",
      "[('movie', 'http://www.wikidata.org/entity/Q29658'), ('name', 'To Rome with Love')]\n",
      "[('movie', 'http://www.wikidata.org/entity/Q20950014'), ('name', 'Café Society')]\n",
      "[('movie', 'http://www.wikidata.org/entity/Q1306629'), ('name', \"A Midsummer Night's Sex Comedy\")]\n",
      "[('movie', 'http://www.wikidata.org/entity/Q685109'), ('name', 'Radio Days')]\n",
      "[('movie', 'http://www.wikidata.org/entity/Q1334572'), ('name', 'Everyone Says I Love You')]\n",
      "[('movie', 'http://www.wikidata.org/entity/Q233464'), ('name', 'Annie Hall')]\n",
      "[('movie', 'http://www.wikidata.org/entity/Q335508'), ('name', 'The Curse of the Jade Scorpion')]\n",
      "[('movie', 'http://www.wikidata.org/entity/Q551762'), ('name', 'Deconstructing Harry')]\n",
      "[('movie', 'http://www.wikidata.org/entity/Q582021'), ('name', 'Hollywood Ending')]\n",
      "[('movie', 'http://www.wikidata.org/entity/Q845057'), ('name', 'Hannah and Her Sisters')]\n"
     ]
    },
    {
     "data": {
      "text/plain": [
       "30"
      ]
     },
     "execution_count": 33,
     "metadata": {},
     "output_type": "execute_result"
    }
   ],
   "source": [
    "#In which movies did Allen both act and direct?\n",
    "q = f\"\"\"\n",
    "select distinct ?movie ?name where{{\n",
    "?movie wdt:P31 wd:Q11424 ;\n",
    "    wdt:P57 wd:Q25089 ;\n",
    "    wdt:P161 wd:Q25089 ;\n",
    "    <http://schema.org/name> ?name .\n",
    "}}\n",
    "\"\"\"\n",
    "run_query(q)"
   ]
  },
  {
   "cell_type": "markdown",
   "id": "ac58ec4a-2d7f-4272-979f-965b8d07f766",
   "metadata": {},
   "source": [
    "## Task 5"
   ]
  },
  {
   "cell_type": "code",
   "execution_count": 34,
   "id": "16b8e57c-d9b7-46d1-913c-08789bd01221",
   "metadata": {},
   "outputs": [
    {
     "name": "stdout",
     "output_type": "stream",
     "text": [
      "[('n', '14')]\n"
     ]
    },
    {
     "data": {
      "text/plain": [
       "1"
      ]
     },
     "execution_count": 34,
     "metadata": {},
     "output_type": "execute_result"
    }
   ],
   "source": [
    "#Point 5. how many workers in Tarantino movies also worked in Allen movies?\n",
    "\n",
    "#subquery used to select each worker only once\n",
    "sub = f\"\"\"\n",
    "select distinct ?worker where{{\n",
    "?movie1 wdt:P31 wd:Q11424 .\n",
    "?movie1 wdt:P57 wd:Q3772 .\n",
    "?movie2 wdt:P31 wd:Q11424 .\n",
    "?movie2 wdt:P57 wd:Q25089 .\n",
    "#no director in those ors\n",
    "?movie1 wdt:P1040|wdt:P161|wdt:P162|wdt:P86|wdt:P58|wdt:P2515|wdt:P344|wdt:P2554|wdt:P1431|wdt:P2438|wdt:P175|wdt:P767 ?worker .\n",
    "?movie2 wdt:P1040|wdt:P161|wdt:P162|wdt:P86|wdt:P58|wdt:P2515|wdt:P344|wdt:P2554|wdt:P1431|wdt:P2438|wdt:P175|wdt:P767 ?worker\n",
    "\n",
    "}}\n",
    "\"\"\"\n",
    "q = f\"\"\"\n",
    "select (count(*) as ?n) where{{\n",
    "\n",
    "    {{\n",
    "        select distinct ?worker where{{\n",
    "\n",
    "?movie1 wdt:P31 wd:Q11424 .\n",
    "\n",
    "?movie1 wdt:P57 wd:Q3772 .\n",
    "\n",
    "?movie2 wdt:P31 wd:Q11424 .\n",
    "\n",
    "?movie2 wdt:P57 wd:Q25089 .\n",
    "\n",
    "#no director in those ors\n",
    "\n",
    "?movie1 wdt:P1040|wdt:P161|wdt:P162|wdt:P86|wdt:P58|wdt:P2515|wdt:P344|wdt:P2554|wdt:P1431|wdt:P2438|wdt:P175|wdt:P767 ?worker .\n",
    "\n",
    "?movie2 wdt:P1040|wdt:P161|wdt:P162|wdt:P86|wdt:P58|wdt:P2515|wdt:P344|wdt:P2554|wdt:P1431|wdt:P2438|wdt:P175|wdt:P767 ?worker\n",
    "\n",
    "\n",
    "\n",
    "}}\n",
    "\n",
    "\n",
    "\n",
    "    }}\n",
    "\n",
    "}}\n",
    "\"\"\"\n",
    "run_query(q)"
   ]
  },
  {
   "cell_type": "code",
   "execution_count": 35,
   "id": "e516d23b-b0ac-45e3-8e4a-47ffb1de62aa",
   "metadata": {},
   "outputs": [
    {
     "name": "stdout",
     "output_type": "stream",
     "text": [
      "[('worker', 'http://www.wikidata.org/entity/Q185724'), ('name', 'Mike Myers')]\n",
      "[('worker', 'http://www.wikidata.org/entity/Q203804'), ('name', 'Tim Roth')]\n",
      "[('worker', 'http://www.wikidata.org/entity/Q104061'), ('name', 'Steve Buscemi')]\n",
      "[('worker', 'http://www.wikidata.org/entity/Q231096'), ('name', 'Léa Seydoux')]\n",
      "[('worker', 'http://www.wikidata.org/entity/Q109232'), ('name', 'Rosanna Arquette')]\n",
      "[('worker', 'http://www.wikidata.org/entity/Q207596'), ('name', 'Daryl Hannah')]\n",
      "[('worker', 'http://www.wikidata.org/entity/Q26806'), ('name', 'Danny DeVito')]\n",
      "[('worker', 'http://www.wikidata.org/entity/Q36949'), ('name', 'Robert De Niro')]\n",
      "[('worker', 'http://www.wikidata.org/entity/Q125017'), ('name', 'Uma Thurman')]\n",
      "[('worker', 'http://www.wikidata.org/entity/Q185051'), ('name', 'Christopher Walken')]\n",
      "[('worker', 'http://www.wikidata.org/entity/Q38111'), ('name', 'Leonardo DiCaprio')]\n",
      "[('worker', 'http://www.wikidata.org/entity/Q202148'), ('name', 'Burt Reynolds')]\n",
      "[('worker', 'http://www.wikidata.org/entity/Q76819'), ('name', 'Christoph Waltz')]\n",
      "[('worker', 'http://www.wikidata.org/entity/Q346285'), ('name', 'David Arnold')]\n"
     ]
    },
    {
     "data": {
      "text/plain": [
       "14"
      ]
     },
     "execution_count": 35,
     "metadata": {},
     "output_type": "execute_result"
    }
   ],
   "source": [
    "#there's only 14, let's list them\n",
    "q = f\"\"\"\n",
    "select distinct ?worker ?name where{{\n",
    "?movie1 wdt:P31 wd:Q11424 .\n",
    "?movie1 wdt:P57 wd:Q3772 .\n",
    "?movie2 wdt:P31 wd:Q11424 .\n",
    "?movie2 wdt:P57 wd:Q25089 .\n",
    "#no director in those ors\n",
    "?movie1 wdt:P1040|wdt:P161|wdt:P162|wdt:P86|wdt:P58|wdt:P2515|wdt:P344|wdt:P2554|wdt:P1431|wdt:P2438|wdt:P175|wdt:P767 ?worker .\n",
    "?movie2 wdt:P1040|wdt:P161|wdt:P162|wdt:P86|wdt:P58|wdt:P2515|wdt:P344|wdt:P2554|wdt:P1431|wdt:P2438|wdt:P175|wdt:P767 ?worker .\n",
    "?worker <http://schema.org/name> ?name .\n",
    "}}\n",
    "\"\"\"\n",
    "run_query(q)"
   ]
  },
  {
   "cell_type": "code",
   "execution_count": 36,
   "id": "08eeb339-1295-4a7b-9906-ed1cc85ffc66",
   "metadata": {},
   "outputs": [
    {
     "name": "stdout",
     "output_type": "stream",
     "text": [
      "[('movie', 'http://www.wikidata.org/entity/Q1052826'), ('name', 'Celebrity'), ('n_shared', '64')]\n",
      "[('movie', 'http://www.wikidata.org/entity/Q153723'), ('name', 'Inglourious Basterds'), ('n_shared', '52')]\n",
      "[('movie', 'http://www.wikidata.org/entity/Q571032'), ('name', 'Django Unchained'), ('n_shared', '52')]\n",
      "[('movie', 'http://www.wikidata.org/entity/Q47300912'), ('name', 'Once Upon a Time in Hollywood'), ('n_shared', '51')]\n",
      "[('movie', 'http://www.wikidata.org/entity/Q29658'), ('name', 'To Rome with Love'), ('n_shared', '45')]\n",
      "[('movie', 'http://www.wikidata.org/entity/Q977372'), ('name', 'New York Stories'), ('n_shared', '39')]\n",
      "[('movie', 'http://www.wikidata.org/entity/Q3986392'), ('name', 'The Concert for New York City'), ('n_shared', '39')]\n",
      "[('movie', 'http://www.wikidata.org/entity/Q187423'), ('name', 'Zelig'), ('n_shared', '39')]\n",
      "[('movie', 'http://www.wikidata.org/entity/Q910523'), ('name', 'Shadows and Fog'), ('n_shared', '35')]\n",
      "[('movie', 'http://www.wikidata.org/entity/Q192115'), ('name', 'Sin City'), ('n_shared', '35')]\n",
      "[('movie', 'http://www.wikidata.org/entity/Q104123'), ('name', 'Pulp Fiction'), ('n_shared', '35')]\n",
      "[('movie', 'http://www.wikidata.org/entity/Q551762'), ('name', 'Deconstructing Harry'), ('n_shared', '35')]\n",
      "[('movie', 'http://www.wikidata.org/entity/Q1218888'), ('name', 'Love and Death'), ('n_shared', '35')]\n",
      "[('movie', 'http://www.wikidata.org/entity/Q206124'), ('name', 'Midnight in Paris'), ('n_shared', '34')]\n",
      "[('movie', 'http://www.wikidata.org/entity/Q233464'), ('name', 'Annie Hall'), ('n_shared', '30')]\n",
      "[('movie', 'http://www.wikidata.org/entity/Q682262'), ('name', 'Alice'), ('n_shared', '28')]\n",
      "[('movie', 'http://www.wikidata.org/entity/Q1321004'), ('name', 'You Will Meet a Tall Dark Stranger'), ('n_shared', '27')]\n",
      "[('movie', 'http://www.wikidata.org/entity/Q685109'), ('name', 'Radio Days'), ('n_shared', '27')]\n",
      "[('movie', 'http://www.wikidata.org/entity/Q682002'), ('name', 'scoop'), ('n_shared', '26')]\n",
      "[('movie', 'http://www.wikidata.org/entity/Q1004531'), ('name', 'Bullets Over Broadway'), ('n_shared', '25')]\n",
      "[('movie', 'http://www.wikidata.org/entity/Q733677'), ('name', 'Match Point'), ('n_shared', '24')]\n",
      "[('movie', 'http://www.wikidata.org/entity/Q1354121'), ('name', 'Melinda and Melinda'), ('n_shared', '23')]\n",
      "[('movie', 'http://www.wikidata.org/entity/Q165325'), ('name', 'Kill Bill Volume 1'), ('n_shared', '23')]\n",
      "[('movie', 'http://www.wikidata.org/entity/Q653518'), ('name', 'Stardust Memories'), ('n_shared', '23')]\n",
      "[('movie', 'http://www.wikidata.org/entity/Q1334572'), ('name', 'Everyone Says I Love You'), ('n_shared', '23')]\n",
      "[('movie', 'http://www.wikidata.org/entity/Q181555'), ('name', 'Crimes and Misdemeanors'), ('n_shared', '23')]\n",
      "[('movie', 'http://www.wikidata.org/entity/Q499697'), ('name', 'Everything You Always Wanted to Know About Sex*'), ('n_shared', '22')]\n",
      "[('movie', 'http://www.wikidata.org/entity/Q541185'), ('name', 'Another Woman'), ('n_shared', '21')]\n",
      "[('movie', 'http://www.wikidata.org/entity/Q582021'), ('name', 'Hollywood Ending'), ('n_shared', '21')]\n",
      "[('movie', 'http://www.wikidata.org/entity/Q928019'), ('name', 'Kill Bill Volume 2'), ('n_shared', '21')]\n",
      "[('movie', 'http://www.wikidata.org/entity/Q845057'), ('name', 'Hannah and Her Sisters'), ('n_shared', '21')]\n",
      "[('movie', 'http://www.wikidata.org/entity/Q786585'), ('name', 'Sweet and Lowdown'), ('n_shared', '20')]\n",
      "[('movie', 'http://www.wikidata.org/entity/Q1137310'), ('name', 'Death Proof'), ('n_shared', '19')]\n",
      "[('movie', 'http://www.wikidata.org/entity/Q912729'), ('name', 'The Purple Rose of Cairo'), ('n_shared', '19')]\n",
      "[('movie', 'http://www.wikidata.org/entity/Q806092'), ('name', 'Bananas'), ('n_shared', '18')]\n",
      "[('movie', 'http://www.wikidata.org/entity/Q731310'), ('name', 'Manhattan'), ('n_shared', '18')]\n",
      "[('movie', 'http://www.wikidata.org/entity/Q1354109'), ('name', 'Mighty Aphrodite'), ('n_shared', '18')]\n",
      "[('movie', 'http://www.wikidata.org/entity/Q833530'), ('name', \"Cassandra's Dream\"), ('n_shared', '17')]\n",
      "[('movie', 'http://www.wikidata.org/entity/Q20950014'), ('name', 'Café Society'), ('n_shared', '16')]\n",
      "[('movie', 'http://www.wikidata.org/entity/Q431252'), ('name', 'Jackie Brown'), ('n_shared', '16')]\n",
      "[('movie', 'http://www.wikidata.org/entity/Q740143'), ('name', 'Husbands and Wives'), ('n_shared', '16')]\n",
      "[('movie', 'http://www.wikidata.org/entity/Q18225084'), ('name', 'The Hateful Eight'), ('n_shared', '15')]\n",
      "[('movie', 'http://www.wikidata.org/entity/Q692208'), ('name', 'Whatever Works'), ('n_shared', '15')]\n",
      "[('movie', 'http://www.wikidata.org/entity/Q610163'), ('name', 'Small Time Crooks'), ('n_shared', '14')]\n",
      "[('movie', 'http://www.wikidata.org/entity/Q335508'), ('name', 'The Curse of the Jade Scorpion'), ('n_shared', '14')]\n",
      "[('movie', 'http://www.wikidata.org/entity/Q2907178'), ('name', 'Blue Jasmine'), ('n_shared', '14')]\n",
      "[('movie', 'http://www.wikidata.org/entity/Q1146315'), ('name', 'Take the Money and Run'), ('n_shared', '14')]\n",
      "[('movie', 'http://www.wikidata.org/entity/Q729026'), ('name', 'Broadway Danny Rose'), ('n_shared', '14')]\n",
      "[('movie', 'http://www.wikidata.org/entity/Q212123'), ('name', 'Vicky Cristina Barcelona'), ('n_shared', '14')]\n",
      "[('movie', 'http://www.wikidata.org/entity/Q72962'), ('name', 'Reservoir Dogs'), ('n_shared', '14')]\n",
      "[('movie', 'http://www.wikidata.org/entity/Q1133277'), ('name', 'Manhattan Murder Mystery'), ('n_shared', '12')]\n",
      "[('movie', 'http://www.wikidata.org/entity/Q14511869'), ('name', 'Magic in the Moonlight'), ('n_shared', '12')]\n",
      "[('movie', 'http://www.wikidata.org/entity/Q17417520'), ('name', 'Irrational Man'), ('n_shared', '12')]\n",
      "[('movie', 'http://www.wikidata.org/entity/Q42307699'), ('name', 'A Rainy Day in New York'), ('n_shared', '11')]\n",
      "[('movie', 'http://www.wikidata.org/entity/Q750003'), ('name', 'Sleeper'), ('n_shared', '10')]\n",
      "[('movie', 'http://www.wikidata.org/entity/Q971865'), ('name', \"What's Up, Tiger Lily?\"), ('n_shared', '10')]\n",
      "[('movie', 'http://www.wikidata.org/entity/Q614009'), ('name', 'Anything Else'), ('n_shared', '9')]\n",
      "[('movie', 'http://www.wikidata.org/entity/Q18126825'), ('name', 'Kill Bill: The Whole Bloody Affair'), ('n_shared', '9')]\n",
      "[('movie', 'http://www.wikidata.org/entity/Q961403'), ('name', 'Interiors'), ('n_shared', '8')]\n",
      "[('movie', 'http://www.wikidata.org/entity/Q27703144'), ('name', 'Wonder Wheel'), ('n_shared', '8')]\n",
      "[('movie', 'http://www.wikidata.org/entity/Q1770003'), ('name', 'September'), ('n_shared', '7')]\n",
      "[('movie', 'http://www.wikidata.org/entity/Q1306629'), ('name', \"A Midsummer Night's Sex Comedy\"), ('n_shared', '7')]\n",
      "[('movie', 'http://www.wikidata.org/entity/Q65552643'), ('name', \"Rifkin's Festival\"), ('n_shared', '7')]\n"
     ]
    },
    {
     "data": {
      "text/plain": [
       "63"
      ]
     },
     "execution_count": 36,
     "metadata": {},
     "output_type": "execute_result"
    }
   ],
   "source": [
    "#Point 5. What is the film with the hightest number of shared actors?\n",
    "\n",
    "#first select distinct all actors that have worked in movies from both directors\n",
    "sub = f\"\"\"\n",
    "select distinct ?actor where{{\n",
    "?movie1 wdt:P31 wd:Q11424 ;\n",
    "    wdt:P57 wd:Q3772 .\n",
    "?movie1 wdt:P161 ?actor .\n",
    "?movie2 wdt:P31 wd:Q11424 ;\n",
    "    wdt:P57 wd:Q25089 .\n",
    "?movie2 wdt:P161 ?actor .\n",
    "}}\n",
    "\"\"\"\n",
    "\n",
    "q = f\"\"\"\n",
    "select ?movie ?name (count(*) as ?n_shared) where{{\n",
    "?movie wdt:P31 wd:Q11424 ;\n",
    "    wdt:P57 ?director ;\n",
    "    wdt:P161 ?actor ;\n",
    "    <http://schema.org/name> ?name .\n",
    "filter(?director in (wd:Q25089, wd:Q3772))\n",
    "}}\n",
    "group by ?movie ?name\n",
    "order by desc(?n_shared)\n",
    "\"\"\"\n",
    "run_query(q)"
   ]
  },
  {
   "cell_type": "code",
   "execution_count": 37,
   "id": "595a6b5f-4062-48de-91cc-894587cf06a1",
   "metadata": {},
   "outputs": [
    {
     "name": "stdout",
     "output_type": "stream",
     "text": [
      "[('actor', 'http://www.wikidata.org/entity/Q185724'), ('name', 'Mike Myers')]\n",
      "[('actor', 'http://www.wikidata.org/entity/Q203804'), ('name', 'Tim Roth')]\n",
      "[('actor', 'http://www.wikidata.org/entity/Q104061'), ('name', 'Steve Buscemi')]\n",
      "[('actor', 'http://www.wikidata.org/entity/Q231096'), ('name', 'Léa Seydoux')]\n",
      "[('actor', 'http://www.wikidata.org/entity/Q109232'), ('name', 'Rosanna Arquette')]\n",
      "[('actor', 'http://www.wikidata.org/entity/Q207596'), ('name', 'Daryl Hannah')]\n",
      "[('actor', 'http://www.wikidata.org/entity/Q36949'), ('name', 'Robert De Niro')]\n",
      "[('actor', 'http://www.wikidata.org/entity/Q125017'), ('name', 'Uma Thurman')]\n",
      "[('actor', 'http://www.wikidata.org/entity/Q185051'), ('name', 'Christopher Walken')]\n",
      "[('actor', 'http://www.wikidata.org/entity/Q38111'), ('name', 'Leonardo DiCaprio')]\n",
      "[('actor', 'http://www.wikidata.org/entity/Q202148'), ('name', 'Burt Reynolds')]\n",
      "[('actor', 'http://www.wikidata.org/entity/Q76819'), ('name', 'Christoph Waltz')]\n"
     ]
    },
    {
     "data": {
      "text/plain": [
       "12"
      ]
     },
     "execution_count": 37,
     "metadata": {},
     "output_type": "execute_result"
    }
   ],
   "source": [
    "#this result doesnt' convince me, let's scale down\n",
    "#first select distinct all actors that have worked in movies from both directors\n",
    "sub = f\"\"\"\n",
    "select distinct ?actor ?name where{{\n",
    "?movie1 wdt:P31 wd:Q11424 ;\n",
    "    wdt:P57 wd:Q3772 .\n",
    "?movie1 wdt:P161 ?actor .\n",
    "?movie2 wdt:P31 wd:Q11424 ;\n",
    "    wdt:P57 wd:Q25089 .\n",
    "?movie2 wdt:P161 ?actor .\n",
    "\n",
    "?actor <http://schema.org/name> ?name .\n",
    "}}\n",
    "\"\"\"\n",
    "run_query(sub)"
   ]
  },
  {
   "cell_type": "code",
   "execution_count": 39,
   "id": "0a352d98-2206-492d-9d44-9412ae99ae61",
   "metadata": {},
   "outputs": [
    {
     "name": "stdout",
     "output_type": "stream",
     "text": [
      "[('film', 'http://www.wikidata.org/entity/Q104123'), ('name', 'Pulp Fiction'), ('n_shared', '5')]\n",
      "[('film', 'http://www.wikidata.org/entity/Q3986392'), ('name', 'The Concert for New York City'), ('n_shared', '4')]\n",
      "[('film', 'http://www.wikidata.org/entity/Q47300912'), ('name', 'Once Upon a Time in Hollywood'), ('n_shared', '3')]\n",
      "[('film', 'http://www.wikidata.org/entity/Q153723'), ('name', 'Inglourious Basterds'), ('n_shared', '3')]\n",
      "[('film', 'http://www.wikidata.org/entity/Q977372'), ('name', 'New York Stories'), ('n_shared', '2')]\n",
      "[('film', 'http://www.wikidata.org/entity/Q165325'), ('name', 'Kill Bill Volume 1'), ('n_shared', '2')]\n",
      "[('film', 'http://www.wikidata.org/entity/Q928019'), ('name', 'Kill Bill Volume 2'), ('n_shared', '2')]\n",
      "[('film', 'http://www.wikidata.org/entity/Q18126825'), ('name', 'Kill Bill: The Whole Bloody Affair'), ('n_shared', '2')]\n",
      "[('film', 'http://www.wikidata.org/entity/Q571032'), ('name', 'Django Unchained'), ('n_shared', '2')]\n",
      "[('film', 'http://www.wikidata.org/entity/Q72962'), ('name', 'Reservoir Dogs'), ('n_shared', '2')]\n",
      "[('film', 'http://www.wikidata.org/entity/Q499697'), ('name', 'Everything You Always Wanted to Know About Sex*'), ('n_shared', '1')]\n",
      "[('film', 'http://www.wikidata.org/entity/Q1052826'), ('name', 'Celebrity'), ('n_shared', '1')]\n",
      "[('film', 'http://www.wikidata.org/entity/Q206124'), ('name', 'Midnight in Paris'), ('n_shared', '1')]\n",
      "[('film', 'http://www.wikidata.org/entity/Q431252'), ('name', 'Jackie Brown'), ('n_shared', '1')]\n",
      "[('film', 'http://www.wikidata.org/entity/Q18225084'), ('name', 'The Hateful Eight'), ('n_shared', '1')]\n",
      "[('film', 'http://www.wikidata.org/entity/Q1334572'), ('name', 'Everyone Says I Love You'), ('n_shared', '1')]\n",
      "[('film', 'http://www.wikidata.org/entity/Q181555'), ('name', 'Crimes and Misdemeanors'), ('n_shared', '1')]\n",
      "[('film', 'http://www.wikidata.org/entity/Q786585'), ('name', 'Sweet and Lowdown'), ('n_shared', '1')]\n",
      "[('film', 'http://www.wikidata.org/entity/Q233464'), ('name', 'Annie Hall'), ('n_shared', '1')]\n",
      "[('film', 'http://www.wikidata.org/entity/Q65552643'), ('name', \"Rifkin's Festival\"), ('n_shared', '1')]\n"
     ]
    },
    {
     "data": {
      "text/plain": [
       "20"
      ]
     },
     "execution_count": 39,
     "metadata": {},
     "output_type": "execute_result"
    }
   ],
   "source": [
    "sub = f\"\"\"\n",
    "select distinct ?actor where{{\n",
    "?movie1 wdt:P31 wd:Q11424 ;\n",
    "    wdt:P57 wd:Q3772 .\n",
    "?movie1 wdt:P161 ?actor .\n",
    "?movie2 wdt:P31 wd:Q11424 ;\n",
    "    wdt:P57 wd:Q25089 .\n",
    "?movie2 wdt:P161 ?actor .\n",
    "}}\n",
    "\"\"\"\n",
    "q = f\"\"\"\n",
    "select ?film ?name (count(*) as ?n_shared) where{{\n",
    "?film wdt:P161 ?actor .\n",
    "?film wdt:P31 wd:Q11424 .\n",
    "?film wdt:P57 ?director .\n",
    "?film <http://schema.org/name> ?name .\n",
    "filter(?director in (wd:Q3772, wd:Q25089)) .\n",
    "    {{\n",
    "        select distinct ?actor where{{\n",
    "\n",
    "?movie1 wdt:P31 wd:Q11424 ;\n",
    "\n",
    "    wdt:P57 wd:Q3772 .\n",
    "\n",
    "?movie1 wdt:P161 ?actor .\n",
    "\n",
    "?movie2 wdt:P31 wd:Q11424 ;\n",
    "\n",
    "    wdt:P57 wd:Q25089 .\n",
    "\n",
    "?movie2 wdt:P161 ?actor .\n",
    "\n",
    "}}\n",
    "\n",
    "\n",
    "\n",
    "    }}\n",
    "}}\n",
    "group by ?film ?name\n",
    "order by desc(?n_shared)\n",
    "\"\"\"\n",
    "run_query(q)"
   ]
  },
  {
   "cell_type": "code",
   "execution_count": 40,
   "id": "e6e5db14-b68f-432b-b968-0ee013818a48",
   "metadata": {},
   "outputs": [
    {
     "name": "stdout",
     "output_type": "stream",
     "text": [
      "[('actor', 'http://www.wikidata.org/entity/Q185051'), ('name', 'Christopher Walken')]\n",
      "[('actor', 'http://www.wikidata.org/entity/Q104061'), ('name', 'Steve Buscemi')]\n",
      "[('actor', 'http://www.wikidata.org/entity/Q109232'), ('name', 'Rosanna Arquette')]\n",
      "[('actor', 'http://www.wikidata.org/entity/Q203804'), ('name', 'Tim Roth')]\n",
      "[('actor', 'http://www.wikidata.org/entity/Q125017'), ('name', 'Uma Thurman')]\n"
     ]
    },
    {
     "data": {
      "text/plain": [
       "5"
      ]
     },
     "execution_count": 40,
     "metadata": {},
     "output_type": "execute_result"
    }
   ],
   "source": [
    "#which shared actors appear in pulp fiction?\n",
    "sub = f\"\"\"\n",
    "select distinct ?actor where{{\n",
    "?movie1 wdt:P31 wd:Q11424 ;\n",
    "    wdt:P57 wd:Q3772 .\n",
    "?movie1 wdt:P161 ?actor .\n",
    "?movie2 wdt:P31 wd:Q11424 ;\n",
    "    wdt:P57 wd:Q25089 .\n",
    "?movie2 wdt:P161 ?actor .\n",
    "}}\n",
    "\"\"\"\n",
    "q = f\"\"\"\n",
    "select ?actor ?name where{{\n",
    "?film wdt:P161 ?a .\n",
    "?film wdt:P31 wd:Q11424 .\n",
    "?film wdt:P57 ?director .\n",
    "?film <http://schema.org/name> ?filmName .\n",
    "filter(?director in (wd:Q3772, wd:Q25089)) .\n",
    "    {{\n",
    "        select distinct ?actor where{{\n",
    "\n",
    "?movie1 wdt:P31 wd:Q11424 ;\n",
    "\n",
    "    wdt:P57 wd:Q3772 .\n",
    "\n",
    "?movie1 wdt:P161 ?actor .\n",
    "\n",
    "?movie2 wdt:P31 wd:Q11424 ;\n",
    "\n",
    "    wdt:P57 wd:Q25089 .\n",
    "\n",
    "?movie2 wdt:P161 ?actor .\n",
    "\n",
    "}}\n",
    "\n",
    "\n",
    "\n",
    "    }}\n",
    "    filter(?a = ?actor) .\n",
    "?a <http://schema.org/name> ?name .\n",
    "filter regex(?filmName, 'pulp fiction', 'i') .\n",
    "\n",
    "}}\n",
    "group by ?film ?name\n",
    "order by desc(?n_shared)\n",
    "\"\"\"\n",
    "run_query(q)"
   ]
  },
  {
   "cell_type": "code",
   "execution_count": 41,
   "id": "783ca35b-bd85-4ac6-bdb8-8a663efd9511",
   "metadata": {},
   "outputs": [
    {
     "name": "stdout",
     "output_type": "stream",
     "text": [
      "[('actor1', 'http://www.wikidata.org/entity/Q125017'), ('name', 'Uma Thurman'), ('total', '5')]\n"
     ]
    },
    {
     "data": {
      "text/plain": [
       "1"
      ]
     },
     "execution_count": 41,
     "metadata": {},
     "output_type": "execute_result"
    }
   ],
   "source": [
    "#Point 5. actor most used by both directors\n",
    "#interpretation of this query: among all actors that have worked both for Tarantino and Allen, return the one\n",
    "#with the highest amount of appearances\n",
    "\n",
    "#get all actors that worked for Tarantino\n",
    "subT = f\"\"\"\n",
    "select distinct ?movie1 ?actor1 where{{\n",
    "?movie1 wdt:P31 wd:Q11424 ;\n",
    "    wdt:P57 wd:Q3772 .\n",
    "?movie1 wdt:P161 ?actor1 .\n",
    "}}\n",
    "\"\"\"\n",
    "\n",
    "#get all actors that worked for Allen\n",
    "subA = f\"\"\"\n",
    "select distinct ?movie2 ?actor2 where{{\n",
    "?movie2 wdt:P31 wd:Q11424 ;\n",
    "    wdt:P57 wd:Q25089 .\n",
    "?movie2 wdt:P161 ?actor2 .\n",
    "}}\n",
    "\"\"\"\n",
    "\n",
    "#count how many times each actor has been used by Tarantino\n",
    "countT = f\"\"\"\n",
    "select ?actor1 (count(*) as ?n1) where{{\n",
    "    \n",
    "    {{\n",
    "        select distinct ?movie1 ?actor1 where{{\n",
    "\n",
    "?movie1 wdt:P31 wd:Q11424 ;\n",
    "\n",
    "    wdt:P57 wd:Q3772 .\n",
    "\n",
    "?movie1 wdt:P161 ?actor1 .\n",
    "\n",
    "}}\n",
    "\n",
    "\n",
    "\n",
    "    }}\n",
    "}}\n",
    "group by ?actor1\n",
    "\"\"\"\n",
    "\n",
    "#count how many times each actor has been used by Allen\n",
    "countA = f\"\"\"\n",
    "select ?actor2 (count(*) as ?n2) where{{\n",
    "    \n",
    "    {{\n",
    "        select distinct ?movie2 ?actor2 where{{\n",
    "\n",
    "?movie2 wdt:P31 wd:Q11424 ;\n",
    "\n",
    "    wdt:P57 wd:Q25089 .\n",
    "\n",
    "?movie2 wdt:P161 ?actor2 .\n",
    "\n",
    "}}\n",
    "\n",
    "\n",
    "\n",
    "    }}\n",
    "}}\n",
    "group by ?actor2\n",
    "\"\"\"\n",
    "\n",
    "#here we sum the appearances in tarantino movies with those in allen movies\n",
    "q = f\"\"\"\n",
    "select ?actor1 ?name ?total where{{\n",
    "    {{\n",
    "        select ?actor1 (count(*) as ?n1) where{{\n",
    "\n",
    "    \n",
    "\n",
    "    {{\n",
    "\n",
    "        select distinct ?movie1 ?actor1 where{{\n",
    "\n",
    "?movie1 wdt:P31 wd:Q11424 ;\n",
    "\n",
    "    wdt:P57 wd:Q3772 .\n",
    "\n",
    "?movie1 wdt:P161 ?actor1 .\n",
    "\n",
    "}}\n",
    "\n",
    "\n",
    "\n",
    "\n",
    "    }}\n",
    "\n",
    "}}\n",
    "\n",
    "group by ?actor1\n",
    "\n",
    "\n",
    "\n",
    "    }}\n",
    "    \n",
    "    {{\n",
    "        select ?actor2 (count(*) as ?n2) where{{\n",
    "\n",
    "    \n",
    "\n",
    "    {{\n",
    "\n",
    "        select distinct ?movie2 ?actor2 where{{\n",
    "\n",
    "?movie2 wdt:P31 wd:Q11424 ;\n",
    "\n",
    "    wdt:P57 wd:Q25089 .\n",
    "\n",
    "?movie2 wdt:P161 ?actor2 .\n",
    "\n",
    "}}\n",
    "\n",
    "\n",
    "\n",
    "\n",
    "    }}\n",
    "\n",
    "}}\n",
    "\n",
    "group by ?actor2\n",
    "\n",
    "\n",
    "\n",
    "    }}\n",
    "?actor1 <http://schema.org/name> ?name .\n",
    "filter(?actor1 = ?actor2) .\n",
    "bind((?n1 + ?n2) as ?total)\n",
    "}}\n",
    "group by ?actor1 ?name\n",
    "order by desc(?total)\n",
    "limit 1\n",
    "\"\"\"\n",
    "run_query(q)"
   ]
  },
  {
   "cell_type": "code",
   "execution_count": 42,
   "id": "98c9fd87-3d1b-4621-91d8-ea9f04a6cfeb",
   "metadata": {},
   "outputs": [
    {
     "name": "stdout",
     "output_type": "stream",
     "text": [
      "[('actor1', 'http://www.wikidata.org/entity/Q125017'), ('name', 'Uma Thurman'), ('n1', '4')]\n"
     ]
    },
    {
     "data": {
      "text/plain": [
       "1"
      ]
     },
     "execution_count": 42,
     "metadata": {},
     "output_type": "execute_result"
    }
   ],
   "source": [
    "#that was a long query, let's make sure the result is correct. in how many Tarantino movies did uma thurman act?\n",
    "#get all actors that worked for Tarantino\n",
    "subT = f\"\"\"\n",
    "select distinct ?movie1 ?actor1 where{{\n",
    "?movie1 wdt:P31 wd:Q11424 ;\n",
    "    wdt:P57 wd:Q3772 .\n",
    "?movie1 wdt:P161 ?actor1 .\n",
    "}}\n",
    "\"\"\"\n",
    "\n",
    "#count how many times each actor has been used by Tarantino\n",
    "countT = f\"\"\"\n",
    "select ?actor1 ?name (count(*) as ?n1) where{{\n",
    "    \n",
    "    {{\n",
    "        select distinct ?movie1 ?actor1 where{{\n",
    "\n",
    "?movie1 wdt:P31 wd:Q11424 ;\n",
    "\n",
    "    wdt:P57 wd:Q3772 .\n",
    "\n",
    "?movie1 wdt:P161 ?actor1 .\n",
    "\n",
    "}}\n",
    "\n",
    "\n",
    "\n",
    "    }}\n",
    "?actor1 <http://schema.org/name> ?name .\n",
    "filter regex(?name, 'uma thurman', 'i')\n",
    "}}\n",
    "group by ?actor1 ?name\n",
    "\"\"\"\n",
    "run_query(countT)"
   ]
  },
  {
   "cell_type": "code",
   "execution_count": 43,
   "id": "3a0d7f1a-35f8-4919-b2f7-d251e8c99692",
   "metadata": {},
   "outputs": [
    {
     "name": "stdout",
     "output_type": "stream",
     "text": [
      "[('actor1', 'http://www.wikidata.org/entity/Q125017'), ('name', 'Uma Thurman'), ('n1', '1')]\n"
     ]
    },
    {
     "data": {
      "text/plain": [
       "1"
      ]
     },
     "execution_count": 43,
     "metadata": {},
     "output_type": "execute_result"
    }
   ],
   "source": [
    "#in how many Allen movies did uma thurman act?\n",
    "#get all actors that worked for Allen\n",
    "subA = f\"\"\"\n",
    "select distinct ?movie1 ?actor1 where{{\n",
    "?movie1 wdt:P31 wd:Q11424 ;\n",
    "    wdt:P57 wd:Q25089 .\n",
    "?movie1 wdt:P161 ?actor1 .\n",
    "}}\n",
    "\"\"\"\n",
    "\n",
    "#count how many times each actor has been used by Allen\n",
    "countA = f\"\"\"\n",
    "select ?actor1 ?name (count(*) as ?n1) where{{\n",
    "    \n",
    "    {{\n",
    "        select distinct ?movie1 ?actor1 where{{\n",
    "\n",
    "?movie1 wdt:P31 wd:Q11424 ;\n",
    "\n",
    "    wdt:P57 wd:Q25089 .\n",
    "\n",
    "?movie1 wdt:P161 ?actor1 .\n",
    "\n",
    "}}\n",
    "\n",
    "\n",
    "\n",
    "    }}\n",
    "?actor1 <http://schema.org/name> ?name .\n",
    "filter regex(?name, 'uma thurman', 'i')\n",
    "}}\n",
    "group by ?actor1 ?name\n",
    "\"\"\"\n",
    "run_query(countA)"
   ]
  },
  {
   "cell_type": "markdown",
   "id": "9d7d5fc7-591a-42e8-9326-c87b54159eb0",
   "metadata": {},
   "source": [
    "## Task 6"
   ]
  },
  {
   "cell_type": "code",
   "execution_count": 45,
   "id": "02ba65b4-2c20-40ed-9283-5bada6c6b156",
   "metadata": {},
   "outputs": [
    {
     "data": {
      "text/plain": [
       "{'head': {'link': []}, 'boolean': True}"
      ]
     },
     "execution_count": 45,
     "metadata": {},
     "output_type": "execute_result"
    }
   ],
   "source": [
    "#Point 6. Is the maximum budget for a Tarantino movie higher than the max budged of an Allen movie?\n",
    "t = f\"\"\"\n",
    "select (max(?cost) as ?maxCost1) where{{\n",
    "?movie wdt:P2130 ?cost ;\n",
    "    wdt:P57 wd:Q3772 ;\n",
    "    wdt:P31 wd:Q11424 .\n",
    "}}\n",
    "\"\"\"\n",
    "\n",
    "a = f\"\"\"\n",
    "select (max(?cost) as ?maxCost2) where{{\n",
    "?movie wdt:P2130 ?cost ;\n",
    "    wdt:P57 wd:Q25089 ;\n",
    "    wdt:P31 wd:Q11424 .\n",
    "}} \n",
    "\"\"\"\n",
    "\n",
    "q = f\"\"\"\n",
    "ask where{{\n",
    "\n",
    "    {{\n",
    "        select (max(?cost) as ?maxCost1) where{{\n",
    "\n",
    "?movie wdt:P2130 ?cost ;\n",
    "\n",
    "    wdt:P57 wd:Q3772 ;\n",
    "\n",
    "    wdt:P31 wd:Q11424 .\n",
    "\n",
    "}}\n",
    "\n",
    "\n",
    "\n",
    "    }}\n",
    "    \n",
    "    {{\n",
    "        select (max(?cost) as ?maxCost2) where{{\n",
    "\n",
    "?movie wdt:P2130 ?cost ;\n",
    "\n",
    "    wdt:P57 wd:Q25089 ;\n",
    "\n",
    "    wdt:P31 wd:Q11424 .\n",
    "\n",
    "}} \n",
    "\n",
    "\n",
    "\n",
    "    }}\n",
    "    \n",
    "    filter(?maxCost1 > ?maxCost2)\n",
    "\n",
    "}}\n",
    "\"\"\"\n",
    "run_ask_query(q)"
   ]
  },
  {
   "cell_type": "code",
   "execution_count": 46,
   "id": "18593908-cc30-45a3-8937-139ba014a081",
   "metadata": {},
   "outputs": [
    {
     "name": "stdout",
     "output_type": "stream",
     "text": [
      "[('movie', 'http://www.wikidata.org/entity/Q571032'), ('name', 'Django Unchained'), ('cost', '100000000')]\n"
     ]
    },
    {
     "data": {
      "text/plain": [
       "1"
      ]
     },
     "execution_count": 46,
     "metadata": {},
     "output_type": "execute_result"
    }
   ],
   "source": [
    "#let's print the maximum budget for a Tarantino movie\n",
    "q = f\"\"\"\n",
    "select ?movie ?name ?cost where{{\n",
    "?movie wdt:P2130 ?cost ;\n",
    "    wdt:P57 wd:Q3772 ;\n",
    "    wdt:P31 wd:Q11424 ;\n",
    "    <http://schema.org/name> ?name .\n",
    "}}\n",
    "group by ?movie ?name\n",
    "order by desc(?cost)\n",
    "limit 1\n",
    "\"\"\"\n",
    "run_query(q)"
   ]
  },
  {
   "cell_type": "code",
   "execution_count": 47,
   "id": "b196ecd1-65fa-489a-aa21-853a3447209c",
   "metadata": {},
   "outputs": [
    {
     "name": "stdout",
     "output_type": "stream",
     "text": [
      "[('movie', 'http://www.wikidata.org/entity/Q1321004'), ('name', 'You Will Meet a Tall Dark Stranger'), ('cost', '22000000')]\n"
     ]
    },
    {
     "data": {
      "text/plain": [
       "1"
      ]
     },
     "execution_count": 47,
     "metadata": {},
     "output_type": "execute_result"
    }
   ],
   "source": [
    "#let's print the maximum budget for an Allen movie\n",
    "q = f\"\"\"\n",
    "select ?movie ?name ?cost where{{\n",
    "?movie wdt:P2130 ?cost ;\n",
    "    wdt:P57 wd:Q25089 ;\n",
    "    wdt:P31 wd:Q11424 ;\n",
    "    <http://schema.org/name> ?name .\n",
    "}}\n",
    "group by ?movie ?name\n",
    "order by desc(?cost)\n",
    "limit 1\n",
    "\"\"\"\n",
    "run_query(q)"
   ]
  },
  {
   "cell_type": "code",
   "execution_count": 48,
   "id": "c6656700-8885-4e13-80d1-22392df35735",
   "metadata": {},
   "outputs": [
    {
     "data": {
      "text/plain": [
       "{'head': {'link': []}, 'boolean': True}"
      ]
     },
     "execution_count": 48,
     "metadata": {},
     "output_type": "execute_result"
    }
   ],
   "source": [
    "#another ask query. Does Tarantino have the highest grossing movie compared to Allen?\n",
    "t = f\"\"\"\n",
    "select (max(?gain) as ?maxGain1) where{{\n",
    "?movie wdt:P2142 ?gain ;\n",
    "    wdt:P57 wd:Q3772 ;\n",
    "    wdt:P31 wd:Q11424 .\n",
    "}}\n",
    "\"\"\"\n",
    "\n",
    "a = f\"\"\"\n",
    "select (max(?gain) as ?maxGain2) where{{\n",
    "?movie wdt:P2142 ?gain ;\n",
    "    wdt:P57 wd:Q25089 ;\n",
    "    wdt:P31 wd:Q11424 .\n",
    "}} \n",
    "\"\"\"\n",
    "\n",
    "q = f\"\"\"\n",
    "ask where{{\n",
    "\n",
    "    {{\n",
    "        select (max(?gain) as ?maxGain1) where{{\n",
    "\n",
    "?movie wdt:P2142 ?gain ;\n",
    "\n",
    "    wdt:P57 wd:Q3772 ;\n",
    "\n",
    "    wdt:P31 wd:Q11424 .\n",
    "\n",
    "}}\n",
    "\n",
    "\n",
    "\n",
    "    }}\n",
    "    \n",
    "    {{\n",
    "        select (max(?gain) as ?maxGain2) where{{\n",
    "\n",
    "?movie wdt:P2142 ?gain ;\n",
    "\n",
    "    wdt:P57 wd:Q25089 ;\n",
    "\n",
    "    wdt:P31 wd:Q11424 .\n",
    "\n",
    "}} \n",
    "\n",
    "\n",
    "\n",
    "    }}\n",
    "    \n",
    "    filter(?maxGain1 > ?maxGain2)\n",
    "\n",
    "}}\n",
    "\"\"\"\n",
    "run_ask_query(q)"
   ]
  },
  {
   "cell_type": "code",
   "execution_count": 49,
   "id": "7e3651c9-a386-49e3-82dc-b87d141e0b71",
   "metadata": {},
   "outputs": [
    {
     "name": "stdout",
     "output_type": "stream",
     "text": [
      "[('movie', 'http://www.wikidata.org/entity/Q571032'), ('name', 'Django Unchained'), ('gain', '425368238')]\n"
     ]
    },
    {
     "data": {
      "text/plain": [
       "1"
      ]
     },
     "execution_count": 49,
     "metadata": {},
     "output_type": "execute_result"
    }
   ],
   "source": [
    "#let's see the greatest amount of profit for the 2 directors\n",
    "#let's print the maximum box office for a Tarantino movie\n",
    "q = f\"\"\"\n",
    "select ?movie ?name ?gain where{{\n",
    "?movie wdt:P2142 ?gain ;\n",
    "    wdt:P57 wd:Q3772 ;\n",
    "    wdt:P31 wd:Q11424 ;\n",
    "    <http://schema.org/name> ?name .\n",
    "}}\n",
    "group by ?movie ?name\n",
    "order by desc(?gain)\n",
    "limit 1\n",
    "\"\"\"\n",
    "run_query(q)"
   ]
  },
  {
   "cell_type": "code",
   "execution_count": 50,
   "id": "cca762ed-08e7-4d40-91a6-5c2dedb8f545",
   "metadata": {},
   "outputs": [
    {
     "name": "stdout",
     "output_type": "stream",
     "text": [
      "[('movie', 'http://www.wikidata.org/entity/Q206124'), ('name', 'Midnight in Paris'), ('gain', '151100000')]\n"
     ]
    },
    {
     "data": {
      "text/plain": [
       "1"
      ]
     },
     "execution_count": 50,
     "metadata": {},
     "output_type": "execute_result"
    }
   ],
   "source": [
    "#let's print the maximum box office for an Allen movie\n",
    "q = f\"\"\"\n",
    "select ?movie ?name ?gain where{{\n",
    "?movie wdt:P2142 ?gain ;\n",
    "    wdt:P57 wd:Q25089 ;\n",
    "    wdt:P31 wd:Q11424 ;\n",
    "    <http://schema.org/name> ?name .\n",
    "}}\n",
    "group by ?movie ?name\n",
    "order by desc(?gain)\n",
    "limit 1\n",
    "\"\"\"\n",
    "run_query(q)"
   ]
  },
  {
   "cell_type": "code",
   "execution_count": 51,
   "id": "ecb6fc68-4608-48c0-bae3-283f36f1c4ca",
   "metadata": {},
   "outputs": [
    {
     "data": {
      "text/plain": [
       "{'head': {'link': []}, 'boolean': True}"
      ]
     },
     "execution_count": 51,
     "metadata": {},
     "output_type": "execute_result"
    }
   ],
   "source": [
    "#Is the sum of box office for Tarantino movies greater than the sum of box office for Allen movies?\n",
    "t = f\"\"\"\n",
    "select (sum(?gain) as ?total1) where{{\n",
    "?movie wdt:P2142 ?gain ;\n",
    "    wdt:P57 wd:Q3772 ;\n",
    "    wdt:P31 wd:Q11424 .\n",
    "}}\n",
    "\"\"\"\n",
    "\n",
    "a = f\"\"\"\n",
    "select (sum(?gain) as ?total2) where{{\n",
    "?movie wdt:P2142 ?gain ;\n",
    "    wdt:P57 wd:Q25089 ;\n",
    "    wdt:P31 wd:Q11424 .\n",
    "}} \n",
    "\"\"\"\n",
    "\n",
    "q = f\"\"\"\n",
    "ask where{{\n",
    "\n",
    "    {{\n",
    "        select (sum(?gain) as ?total1) where{{\n",
    "\n",
    "?movie wdt:P2142 ?gain ;\n",
    "\n",
    "    wdt:P57 wd:Q3772 ;\n",
    "\n",
    "    wdt:P31 wd:Q11424 .\n",
    "\n",
    "}}\n",
    "\n",
    "\n",
    "\n",
    "    }}\n",
    "    \n",
    "    {{\n",
    "        select (sum(?gain) as ?total2) where{{\n",
    "\n",
    "?movie wdt:P2142 ?gain ;\n",
    "\n",
    "    wdt:P57 wd:Q25089 ;\n",
    "\n",
    "    wdt:P31 wd:Q11424 .\n",
    "\n",
    "}} \n",
    "\n",
    "\n",
    "\n",
    "    }}\n",
    "    \n",
    "    filter(?total1 > ?total2)\n",
    "\n",
    "}}\n",
    "\"\"\"\n",
    "run_ask_query(q)"
   ]
  },
  {
   "cell_type": "code",
   "execution_count": 52,
   "id": "bdc2840a-e842-4ae5-82b8-82582e84218f",
   "metadata": {},
   "outputs": [
    {
     "name": "stdout",
     "output_type": "stream",
     "text": [
      "[('total', '2054698758')]\n"
     ]
    },
    {
     "data": {
      "text/plain": [
       "1"
      ]
     },
     "execution_count": 52,
     "metadata": {},
     "output_type": "execute_result"
    }
   ],
   "source": [
    "#The total box office of Tarantino movies?\n",
    "q = f\"\"\"\n",
    "select (sum(?gain) as ?total) where{{\n",
    "?movie wdt:P2142 ?gain ;\n",
    "    wdt:P57 wd:Q3772 ;\n",
    "    wdt:P31 wd:Q11424 .\n",
    "}}\n",
    "\"\"\"\n",
    "run_query(q)"
   ]
  },
  {
   "cell_type": "code",
   "execution_count": 53,
   "id": "76b0cfb0-9a84-4d8f-9899-97138ebc3911",
   "metadata": {},
   "outputs": [
    {
     "name": "stdout",
     "output_type": "stream",
     "text": [
      "[('total', '660479723')]\n"
     ]
    },
    {
     "data": {
      "text/plain": [
       "1"
      ]
     },
     "execution_count": 53,
     "metadata": {},
     "output_type": "execute_result"
    }
   ],
   "source": [
    "#The total box office of Allen movies?\n",
    "q = f\"\"\"\n",
    "select (sum(?gain) as ?total) where{{\n",
    "?movie wdt:P2142 ?gain ;\n",
    "    wdt:P57 wd:Q25089 ;\n",
    "    wdt:P31 wd:Q11424 .\n",
    "}}\n",
    "\"\"\"\n",
    "run_query(q)"
   ]
  },
  {
   "cell_type": "markdown",
   "id": "12133e3a-f52b-42fd-a71f-a5f7d7a33c48",
   "metadata": {},
   "source": [
    "## Task 7.1"
   ]
  },
  {
   "cell_type": "code",
   "execution_count": 54,
   "id": "550b0c93-7407-4759-b099-d049280efd41",
   "metadata": {},
   "outputs": [
    {
     "name": "stdout",
     "output_type": "stream",
     "text": [
      "[('award', 'http://www.wikidata.org/entity/Q1377772'), ('name', 'European Film Award for Best Non-European Film')]\n"
     ]
    },
    {
     "data": {
      "text/plain": [
       "1"
      ]
     },
     "execution_count": 54,
     "metadata": {},
     "output_type": "execute_result"
    }
   ],
   "source": [
    "#Point 7. Who has the film with more nominations for Academy Awards?\n",
    "\n",
    "#property \"nominated for\" applies to both directors and movies, let's check the nominations for Kill Bill, if any\n",
    "q = f\"\"\"\n",
    "select ?award ?name where{{\n",
    "wd:Q165325 wdt:P1411 ?award .\n",
    "?award <http://schema.org/name> ?name\n",
    "}}\n",
    "\"\"\"\n",
    "run_query(q)"
   ]
  },
  {
   "cell_type": "code",
   "execution_count": 55,
   "id": "ab508e5a-2254-42ec-b9fc-a2ebf14c7939",
   "metadata": {},
   "outputs": [
    {
     "name": "stdout",
     "output_type": "stream",
     "text": [
      "[('movieName', 'Django Unchained'), ('award', 'http://www.wikidata.org/entity/Q102427'), ('name', 'Academy Award for Best Picture')]\n",
      "[('movieName', 'Django Unchained'), ('award', 'http://www.wikidata.org/entity/Q41417'), ('name', 'Academy Award for Best Writing, Original Screenplay')]\n",
      "[('movieName', 'Django Unchained'), ('award', 'http://www.wikidata.org/entity/Q106291'), ('name', 'Academy Award for Best Supporting Actor')]\n",
      "[('movieName', 'Django Unchained'), ('award', 'http://www.wikidata.org/entity/Q131520'), ('name', 'Academy Award for Best Cinematography')]\n",
      "[('movieName', 'Django Unchained'), ('award', 'http://www.wikidata.org/entity/Q488645'), ('name', 'Academy Award for Best Sound Editing')]\n",
      "[('movieName', 'Inglourious Basterds'), ('award', 'http://www.wikidata.org/entity/Q102427'), ('name', 'Academy Award for Best Picture')]\n",
      "[('movieName', 'Inglourious Basterds'), ('award', 'http://www.wikidata.org/entity/Q103360'), ('name', 'Academy Award for Best Director')]\n",
      "[('movieName', 'Inglourious Basterds'), ('award', 'http://www.wikidata.org/entity/Q281939'), ('name', 'Academy Award for Best Film Editing')]\n",
      "[('movieName', 'Inglourious Basterds'), ('award', 'http://www.wikidata.org/entity/Q41417'), ('name', 'Academy Award for Best Writing, Original Screenplay')]\n",
      "[('movieName', 'Inglourious Basterds'), ('award', 'http://www.wikidata.org/entity/Q106291'), ('name', 'Academy Award for Best Supporting Actor')]\n",
      "[('movieName', 'Inglourious Basterds'), ('award', 'http://www.wikidata.org/entity/Q131520'), ('name', 'Academy Award for Best Cinematography')]\n",
      "[('movieName', 'Inglourious Basterds'), ('award', 'http://www.wikidata.org/entity/Q488645'), ('name', 'Academy Award for Best Sound Editing')]\n",
      "[('movieName', 'Inglourious Basterds'), ('award', 'http://www.wikidata.org/entity/Q830079'), ('name', 'Academy Award for Best Sound')]\n",
      "[('movieName', 'Jackie Brown'), ('award', 'http://www.wikidata.org/entity/Q106291'), ('name', 'Academy Award for Best Supporting Actor')]\n",
      "[('movieName', 'Kill Bill Volume 1'), ('award', 'http://www.wikidata.org/entity/Q1377772'), ('name', 'European Film Award for Best Non-European Film')]\n",
      "[('movieName', 'Pulp Fiction'), ('award', 'http://www.wikidata.org/entity/Q3404523'), ('name', 'David di Donatello for Best Foreign Actor')]\n",
      "[('movieName', 'Pulp Fiction'), ('award', 'http://www.wikidata.org/entity/Q165313'), ('name', 'National Society of Film Critics Award for Best Supporting Actor')]\n",
      "[('movieName', 'Pulp Fiction'), ('award', 'http://www.wikidata.org/entity/Q787145'), ('name', 'BAFTA Award for Best Editing')]\n",
      "[('movieName', 'Pulp Fiction'), ('award', 'http://www.wikidata.org/entity/Q1011509'), ('name', 'Golden Globe Award for Best Motion Picture – Drama')]\n",
      "[('movieName', 'Pulp Fiction'), ('award', 'http://www.wikidata.org/entity/Q102427'), ('name', 'Academy Award for Best Picture')]\n",
      "[('movieName', 'Pulp Fiction'), ('award', 'http://www.wikidata.org/entity/Q103360'), ('name', 'Academy Award for Best Director')]\n",
      "[('movieName', 'Pulp Fiction'), ('award', 'http://www.wikidata.org/entity/Q106301'), ('name', 'Academy Award for Best Supporting Actress')]\n",
      "[('movieName', 'Pulp Fiction'), ('award', 'http://www.wikidata.org/entity/Q139184'), ('name', 'BAFTA Award for Best Film')]\n",
      "[('movieName', 'Pulp Fiction'), ('award', 'http://www.wikidata.org/entity/Q281939'), ('name', 'Academy Award for Best Film Editing')]\n",
      "[('movieName', 'Pulp Fiction'), ('award', 'http://www.wikidata.org/entity/Q41417'), ('name', 'Academy Award for Best Writing, Original Screenplay')]\n",
      "[('movieName', 'Pulp Fiction'), ('award', 'http://www.wikidata.org/entity/Q5280675'), ('name', 'Directors Guild of America Award for Outstanding Directing – Feature Film')]\n",
      "[('movieName', 'Pulp Fiction'), ('award', 'http://www.wikidata.org/entity/Q586356'), ('name', 'Golden Globe Award for Best Director')]\n",
      "[('movieName', 'Pulp Fiction'), ('award', 'http://www.wikidata.org/entity/Q593098'), ('name', 'Golden Globe Award for Best Actor – Motion Picture Drama')]\n",
      "[('movieName', 'Pulp Fiction'), ('award', 'http://www.wikidata.org/entity/Q687123'), ('name', 'BAFTA Award for Best Actress in a Leading Role')]\n",
      "[('movieName', 'Pulp Fiction'), ('award', 'http://www.wikidata.org/entity/Q723830'), ('name', 'Golden Globe Award for Best Supporting Actor – Motion Picture')]\n",
      "[('movieName', 'Pulp Fiction'), ('award', 'http://www.wikidata.org/entity/Q900414'), ('name', 'César Award for Best Foreign Film')]\n",
      "[('movieName', 'Pulp Fiction'), ('award', 'http://www.wikidata.org/entity/Q103916'), ('name', 'Academy Award for Best Actor')]\n",
      "[('movieName', 'Pulp Fiction'), ('award', 'http://www.wikidata.org/entity/Q106291'), ('name', 'Academy Award for Best Supporting Actor')]\n",
      "[('movieName', 'Pulp Fiction'), ('award', 'http://www.wikidata.org/entity/Q400007'), ('name', 'BAFTA Award for Best Actor in a Leading Role')]\n",
      "[('movieName', 'Pulp Fiction'), ('award', 'http://www.wikidata.org/entity/Q1170507'), ('name', 'Independent Spirit Award for Best Screenplay')]\n",
      "[('movieName', 'Pulp Fiction'), ('award', 'http://www.wikidata.org/entity/Q1320315'), ('name', 'Screen Actors Guild Award for Outstanding Performance by a Female Actor in a Supporting Role')]\n",
      "[('movieName', 'Pulp Fiction'), ('award', 'http://www.wikidata.org/entity/Q1967719'), ('name', 'National Society of Film Critics Award for Best Supporting Actress')]\n",
      "[('movieName', 'Pulp Fiction'), ('award', 'http://www.wikidata.org/entity/Q2294693'), ('name', 'Independent Spirit Award for Best Supporting Male')]\n",
      "[('movieName', 'Pulp Fiction'), ('award', 'http://www.wikidata.org/entity/Q2544859'), ('name', 'Independent Spirit Award for Best Male Lead')]\n",
      "[('movieName', 'Pulp Fiction'), ('award', 'http://www.wikidata.org/entity/Q4220898'), ('name', 'MTV Movie Award for Best Female Performance')]\n",
      "[('movieName', 'Pulp Fiction'), ('award', 'http://www.wikidata.org/entity/Q6978541'), ('name', 'National Society of Film Critics Award for Best Screenplay')]\n",
      "[('movieName', 'Pulp Fiction'), ('award', 'http://www.wikidata.org/entity/Q787131'), ('name', 'BAFTA Award for Best Direction')]\n",
      "[('movieName', 'Pulp Fiction'), ('award', 'http://www.wikidata.org/entity/Q822907'), ('name', 'Golden Globe Award for Best Supporting Actress – Motion Picture')]\n",
      "[('movieName', 'Pulp Fiction'), ('award', 'http://www.wikidata.org/entity/Q1260789'), ('name', 'Screen Actors Guild Award for Outstanding Performance by a Male Actor in a Supporting Role')]\n",
      "[('movieName', 'Pulp Fiction'), ('award', 'http://www.wikidata.org/entity/Q1315008'), ('name', 'National Society of Film Critics Award for Best Director')]\n",
      "[('movieName', 'Pulp Fiction'), ('award', 'http://www.wikidata.org/entity/Q1967731'), ('name', 'National Society of Film Critics Award for Best Actor')]\n",
      "[('movieName', 'Pulp Fiction'), ('award', 'http://www.wikidata.org/entity/Q2295041'), ('name', 'Independent Spirit Award for Best Director')]\n",
      "[('movieName', 'Pulp Fiction'), ('award', 'http://www.wikidata.org/entity/Q3404521'), ('name', 'David di Donatello for Best Foreign Actress')]\n",
      "[('movieName', 'Pulp Fiction'), ('award', 'http://www.wikidata.org/entity/Q41375'), ('name', 'BAFTA Award for Best Original Screenplay')]\n",
      "[('movieName', 'Pulp Fiction'), ('award', 'http://www.wikidata.org/entity/Q4220900'), ('name', 'MTV Movie Award for Best On-Screen Duo')]\n",
      "[('movieName', 'Pulp Fiction'), ('award', 'http://www.wikidata.org/entity/Q4220901'), ('name', 'MTV Movie Award for Best Male Performance')]\n",
      "[('movieName', 'Pulp Fiction'), ('award', 'http://www.wikidata.org/entity/Q4824149'), ('name', 'Australian Film Institute Award for Best Foreign Film')]\n",
      "[('movieName', 'Pulp Fiction'), ('award', 'http://www.wikidata.org/entity/Q499789'), ('name', 'Japan Academy Prize for Outstanding Foreign Language Film')]\n",
      "[('movieName', 'Pulp Fiction'), ('award', 'http://www.wikidata.org/entity/Q540977'), ('name', 'MTV Movie Award for Best Movie')]\n",
      "[('movieName', 'Pulp Fiction'), ('award', 'http://www.wikidata.org/entity/Q548389'), ('name', 'BAFTA Award for Best Actor in a Supporting Role')]\n",
      "[('movieName', 'Pulp Fiction'), ('award', 'http://www.wikidata.org/entity/Q654620'), ('name', 'Screen Actors Guild Award for Outstanding Performance by a Male Actor in a Leading Role')]\n",
      "[('movieName', 'Pulp Fiction'), ('award', 'http://www.wikidata.org/entity/Q739633'), ('name', 'BAFTA Award for Best Sound')]\n",
      "[('movieName', 'Pulp Fiction'), ('award', 'http://www.wikidata.org/entity/Q849124'), ('name', 'Golden Globe Award for Best Screenplay')]\n",
      "[('movieName', 'Pulp Fiction'), ('award', 'http://www.wikidata.org/entity/Q1720784'), ('name', 'National Society of Film Critics Award for Best Film')]\n",
      "[('movieName', 'Pulp Fiction'), ('award', 'http://www.wikidata.org/entity/Q4220897'), ('name', 'MTV Movie Award for Best Dance Sequence')]\n",
      "[('movieName', 'The Hateful Eight'), ('award', 'http://www.wikidata.org/entity/Q106301'), ('name', 'Academy Award for Best Supporting Actress')]\n",
      "[('movieName', 'The Hateful Eight'), ('award', 'http://www.wikidata.org/entity/Q131520'), ('name', 'Academy Award for Best Cinematography')]\n",
      "[('movieName', 'The Hateful Eight'), ('award', 'http://www.wikidata.org/entity/Q488651'), ('name', 'Academy Award for Best Original Score')]\n"
     ]
    },
    {
     "data": {
      "text/plain": [
       "63"
      ]
     },
     "execution_count": 55,
     "metadata": {},
     "output_type": "execute_result"
    }
   ],
   "source": [
    "#that doesn't look like an academy award, let's use the whole tarantino filmography\n",
    "q = f\"\"\"\n",
    "select ?movieName ?award ?name where{{\n",
    "?movie wdt:P1411 ?award .\n",
    "?movie wdt:P31 wd:Q11424 .\n",
    "?movie wdt:P57 wd:Q3772 .\n",
    "?movie <http://schema.org/name> ?movieName .\n",
    "?award <http://schema.org/name> ?name\n",
    "}}\n",
    "order by asc(?movieName)\n",
    "\"\"\"\n",
    "run_query(q)"
   ]
  },
  {
   "cell_type": "code",
   "execution_count": 56,
   "id": "327ef010-b49e-4d5c-8d55-2e0bf3c928ec",
   "metadata": {},
   "outputs": [
    {
     "name": "stdout",
     "output_type": "stream",
     "text": [
      "[('award', 'http://www.wikidata.org/entity/Q3404523'), ('name', 'David di Donatello for Best Foreign Actor')]\n",
      "[('award', 'http://www.wikidata.org/entity/Q165313'), ('name', 'National Society of Film Critics Award for Best Supporting Actor')]\n",
      "[('award', 'http://www.wikidata.org/entity/Q787145'), ('name', 'BAFTA Award for Best Editing')]\n",
      "[('award', 'http://www.wikidata.org/entity/Q1011509'), ('name', 'Golden Globe Award for Best Motion Picture – Drama')]\n",
      "[('award', 'http://www.wikidata.org/entity/Q102427'), ('name', 'Academy Award for Best Picture')]\n",
      "[('award', 'http://www.wikidata.org/entity/Q103360'), ('name', 'Academy Award for Best Director')]\n",
      "[('award', 'http://www.wikidata.org/entity/Q106301'), ('name', 'Academy Award for Best Supporting Actress')]\n",
      "[('award', 'http://www.wikidata.org/entity/Q139184'), ('name', 'BAFTA Award for Best Film')]\n",
      "[('award', 'http://www.wikidata.org/entity/Q281939'), ('name', 'Academy Award for Best Film Editing')]\n",
      "[('award', 'http://www.wikidata.org/entity/Q41417'), ('name', 'Academy Award for Best Writing, Original Screenplay')]\n",
      "[('award', 'http://www.wikidata.org/entity/Q5280675'), ('name', 'Directors Guild of America Award for Outstanding Directing – Feature Film')]\n",
      "[('award', 'http://www.wikidata.org/entity/Q586356'), ('name', 'Golden Globe Award for Best Director')]\n",
      "[('award', 'http://www.wikidata.org/entity/Q593098'), ('name', 'Golden Globe Award for Best Actor – Motion Picture Drama')]\n",
      "[('award', 'http://www.wikidata.org/entity/Q687123'), ('name', 'BAFTA Award for Best Actress in a Leading Role')]\n",
      "[('award', 'http://www.wikidata.org/entity/Q723830'), ('name', 'Golden Globe Award for Best Supporting Actor – Motion Picture')]\n",
      "[('award', 'http://www.wikidata.org/entity/Q900414'), ('name', 'César Award for Best Foreign Film')]\n",
      "[('award', 'http://www.wikidata.org/entity/Q103916'), ('name', 'Academy Award for Best Actor')]\n",
      "[('award', 'http://www.wikidata.org/entity/Q106291'), ('name', 'Academy Award for Best Supporting Actor')]\n",
      "[('award', 'http://www.wikidata.org/entity/Q131520'), ('name', 'Academy Award for Best Cinematography')]\n",
      "[('award', 'http://www.wikidata.org/entity/Q1377772'), ('name', 'European Film Award for Best Non-European Film')]\n",
      "[('award', 'http://www.wikidata.org/entity/Q400007'), ('name', 'BAFTA Award for Best Actor in a Leading Role')]\n",
      "[('award', 'http://www.wikidata.org/entity/Q488645'), ('name', 'Academy Award for Best Sound Editing')]\n",
      "[('award', 'http://www.wikidata.org/entity/Q488651'), ('name', 'Academy Award for Best Original Score')]\n",
      "[('award', 'http://www.wikidata.org/entity/Q830079'), ('name', 'Academy Award for Best Sound')]\n",
      "[('award', 'http://www.wikidata.org/entity/Q1170507'), ('name', 'Independent Spirit Award for Best Screenplay')]\n",
      "[('award', 'http://www.wikidata.org/entity/Q1320315'), ('name', 'Screen Actors Guild Award for Outstanding Performance by a Female Actor in a Supporting Role')]\n",
      "[('award', 'http://www.wikidata.org/entity/Q1967719'), ('name', 'National Society of Film Critics Award for Best Supporting Actress')]\n",
      "[('award', 'http://www.wikidata.org/entity/Q2294693'), ('name', 'Independent Spirit Award for Best Supporting Male')]\n",
      "[('award', 'http://www.wikidata.org/entity/Q2544859'), ('name', 'Independent Spirit Award for Best Male Lead')]\n",
      "[('award', 'http://www.wikidata.org/entity/Q4220898'), ('name', 'MTV Movie Award for Best Female Performance')]\n",
      "[('award', 'http://www.wikidata.org/entity/Q6978541'), ('name', 'National Society of Film Critics Award for Best Screenplay')]\n",
      "[('award', 'http://www.wikidata.org/entity/Q787131'), ('name', 'BAFTA Award for Best Direction')]\n",
      "[('award', 'http://www.wikidata.org/entity/Q822907'), ('name', 'Golden Globe Award for Best Supporting Actress – Motion Picture')]\n",
      "[('award', 'http://www.wikidata.org/entity/Q1260789'), ('name', 'Screen Actors Guild Award for Outstanding Performance by a Male Actor in a Supporting Role')]\n",
      "[('award', 'http://www.wikidata.org/entity/Q1315008'), ('name', 'National Society of Film Critics Award for Best Director')]\n",
      "[('award', 'http://www.wikidata.org/entity/Q1967731'), ('name', 'National Society of Film Critics Award for Best Actor')]\n",
      "[('award', 'http://www.wikidata.org/entity/Q2295041'), ('name', 'Independent Spirit Award for Best Director')]\n",
      "[('award', 'http://www.wikidata.org/entity/Q3404521'), ('name', 'David di Donatello for Best Foreign Actress')]\n",
      "[('award', 'http://www.wikidata.org/entity/Q41375'), ('name', 'BAFTA Award for Best Original Screenplay')]\n",
      "[('award', 'http://www.wikidata.org/entity/Q4220900'), ('name', 'MTV Movie Award for Best On-Screen Duo')]\n",
      "[('award', 'http://www.wikidata.org/entity/Q4220901'), ('name', 'MTV Movie Award for Best Male Performance')]\n",
      "[('award', 'http://www.wikidata.org/entity/Q4824149'), ('name', 'Australian Film Institute Award for Best Foreign Film')]\n",
      "[('award', 'http://www.wikidata.org/entity/Q499789'), ('name', 'Japan Academy Prize for Outstanding Foreign Language Film')]\n",
      "[('award', 'http://www.wikidata.org/entity/Q540977'), ('name', 'MTV Movie Award for Best Movie')]\n",
      "[('award', 'http://www.wikidata.org/entity/Q548389'), ('name', 'BAFTA Award for Best Actor in a Supporting Role')]\n",
      "[('award', 'http://www.wikidata.org/entity/Q654620'), ('name', 'Screen Actors Guild Award for Outstanding Performance by a Male Actor in a Leading Role')]\n",
      "[('award', 'http://www.wikidata.org/entity/Q739633'), ('name', 'BAFTA Award for Best Sound')]\n",
      "[('award', 'http://www.wikidata.org/entity/Q849124'), ('name', 'Golden Globe Award for Best Screenplay')]\n",
      "[('award', 'http://www.wikidata.org/entity/Q1720784'), ('name', 'National Society of Film Critics Award for Best Film')]\n",
      "[('award', 'http://www.wikidata.org/entity/Q4220897'), ('name', 'MTV Movie Award for Best Dance Sequence')]\n"
     ]
    },
    {
     "data": {
      "text/plain": [
       "50"
      ]
     },
     "execution_count": 56,
     "metadata": {},
     "output_type": "execute_result"
    }
   ],
   "source": [
    "#maybe it's better to check only the awards, without the movie\n",
    "q = f\"\"\"\n",
    "select distinct ?award ?name where{{\n",
    "?movie wdt:P1411 ?award .\n",
    "?movie wdt:P31 wd:Q11424 .\n",
    "?movie wdt:P57 wd:Q3772 .\n",
    "?award <http://schema.org/name> ?name\n",
    "}}\n",
    "order by asc(?movieName)\n",
    "\"\"\"\n",
    "run_query(q)"
   ]
  },
  {
   "cell_type": "code",
   "execution_count": 57,
   "id": "5000dea5-046f-4e5f-8460-f7ad61061d0a",
   "metadata": {},
   "outputs": [
    {
     "name": "stdout",
     "output_type": "stream",
     "text": [
      "[('movieName', 'Django Unchained'), ('award', 'http://www.wikidata.org/entity/Q102427'), ('name', 'Academy Award for Best Picture')]\n",
      "[('movieName', 'Django Unchained'), ('award', 'http://www.wikidata.org/entity/Q41417'), ('name', 'Academy Award for Best Writing, Original Screenplay')]\n",
      "[('movieName', 'Django Unchained'), ('award', 'http://www.wikidata.org/entity/Q106291'), ('name', 'Academy Award for Best Supporting Actor')]\n",
      "[('movieName', 'Django Unchained'), ('award', 'http://www.wikidata.org/entity/Q131520'), ('name', 'Academy Award for Best Cinematography')]\n",
      "[('movieName', 'Django Unchained'), ('award', 'http://www.wikidata.org/entity/Q488645'), ('name', 'Academy Award for Best Sound Editing')]\n",
      "[('movieName', 'Inglourious Basterds'), ('award', 'http://www.wikidata.org/entity/Q102427'), ('name', 'Academy Award for Best Picture')]\n",
      "[('movieName', 'Inglourious Basterds'), ('award', 'http://www.wikidata.org/entity/Q103360'), ('name', 'Academy Award for Best Director')]\n",
      "[('movieName', 'Inglourious Basterds'), ('award', 'http://www.wikidata.org/entity/Q281939'), ('name', 'Academy Award for Best Film Editing')]\n",
      "[('movieName', 'Inglourious Basterds'), ('award', 'http://www.wikidata.org/entity/Q41417'), ('name', 'Academy Award for Best Writing, Original Screenplay')]\n",
      "[('movieName', 'Inglourious Basterds'), ('award', 'http://www.wikidata.org/entity/Q106291'), ('name', 'Academy Award for Best Supporting Actor')]\n",
      "[('movieName', 'Inglourious Basterds'), ('award', 'http://www.wikidata.org/entity/Q131520'), ('name', 'Academy Award for Best Cinematography')]\n",
      "[('movieName', 'Inglourious Basterds'), ('award', 'http://www.wikidata.org/entity/Q488645'), ('name', 'Academy Award for Best Sound Editing')]\n",
      "[('movieName', 'Inglourious Basterds'), ('award', 'http://www.wikidata.org/entity/Q830079'), ('name', 'Academy Award for Best Sound')]\n",
      "[('movieName', 'Jackie Brown'), ('award', 'http://www.wikidata.org/entity/Q106291'), ('name', 'Academy Award for Best Supporting Actor')]\n",
      "[('movieName', 'Pulp Fiction'), ('award', 'http://www.wikidata.org/entity/Q102427'), ('name', 'Academy Award for Best Picture')]\n",
      "[('movieName', 'Pulp Fiction'), ('award', 'http://www.wikidata.org/entity/Q103360'), ('name', 'Academy Award for Best Director')]\n",
      "[('movieName', 'Pulp Fiction'), ('award', 'http://www.wikidata.org/entity/Q106301'), ('name', 'Academy Award for Best Supporting Actress')]\n",
      "[('movieName', 'Pulp Fiction'), ('award', 'http://www.wikidata.org/entity/Q281939'), ('name', 'Academy Award for Best Film Editing')]\n",
      "[('movieName', 'Pulp Fiction'), ('award', 'http://www.wikidata.org/entity/Q41417'), ('name', 'Academy Award for Best Writing, Original Screenplay')]\n",
      "[('movieName', 'Pulp Fiction'), ('award', 'http://www.wikidata.org/entity/Q103916'), ('name', 'Academy Award for Best Actor')]\n",
      "[('movieName', 'Pulp Fiction'), ('award', 'http://www.wikidata.org/entity/Q106291'), ('name', 'Academy Award for Best Supporting Actor')]\n",
      "[('movieName', 'The Hateful Eight'), ('award', 'http://www.wikidata.org/entity/Q106301'), ('name', 'Academy Award for Best Supporting Actress')]\n",
      "[('movieName', 'The Hateful Eight'), ('award', 'http://www.wikidata.org/entity/Q131520'), ('name', 'Academy Award for Best Cinematography')]\n",
      "[('movieName', 'The Hateful Eight'), ('award', 'http://www.wikidata.org/entity/Q488651'), ('name', 'Academy Award for Best Original Score')]\n"
     ]
    },
    {
     "data": {
      "text/plain": [
       "24"
      ]
     },
     "execution_count": 57,
     "metadata": {},
     "output_type": "execute_result"
    }
   ],
   "source": [
    "#we see that there are various academy awards, let's see only those\n",
    "q = f\"\"\"\n",
    "select ?movieName ?award ?name where{{\n",
    "?movie wdt:P1411 ?award .\n",
    "?movie wdt:P31 wd:Q11424 .\n",
    "?movie wdt:P57 wd:Q3772 .\n",
    "?movie <http://schema.org/name> ?movieName .\n",
    "?award <http://schema.org/name> ?name .\n",
    "filter regex(?name, '.*academy award.*', 'i')\n",
    "}}\n",
    "order by asc(?movieName)\n",
    "\"\"\"\n",
    "run_query(q)"
   ]
  },
  {
   "cell_type": "code",
   "execution_count": 58,
   "id": "3035b796-71a0-4eb6-8f3e-e450d664061d",
   "metadata": {},
   "outputs": [
    {
     "name": "stdout",
     "output_type": "stream",
     "text": [
      "[('nominations', '2')]\n"
     ]
    },
    {
     "data": {
      "text/plain": [
       "1"
      ]
     },
     "execution_count": 58,
     "metadata": {},
     "output_type": "execute_result"
    }
   ],
   "source": [
    "AcademyDirector = 'wd:Q103360'\n",
    "#let's count how many Academy Awards for best director Tarantino has from his movies\n",
    "q = f\"\"\"\n",
    "select (count(*) as ?nominations) where{{\n",
    "?movie wdt:P31 wd:Q11424 ;\n",
    "    wdt:P57 wd:Q3772 ;\n",
    "    wdt:P1411 wd:Q103360 .\n",
    "}}\n",
    "\"\"\"\n",
    "run_query(q)"
   ]
  },
  {
   "cell_type": "code",
   "execution_count": 59,
   "id": "7624705b-14a3-4495-a400-a26444f9495f",
   "metadata": {},
   "outputs": [
    {
     "name": "stdout",
     "output_type": "stream",
     "text": [
      "[('movie', 'http://www.wikidata.org/entity/Q104123'), ('name', 'Pulp Fiction')]\n",
      "[('movie', 'http://www.wikidata.org/entity/Q153723'), ('name', 'Inglourious Basterds')]\n"
     ]
    },
    {
     "data": {
      "text/plain": [
       "2"
      ]
     },
     "execution_count": 59,
     "metadata": {},
     "output_type": "execute_result"
    }
   ],
   "source": [
    "#let's see for which movies he was nominated best director\n",
    "q = f\"\"\"\n",
    "select ?movie ?name where{{\n",
    "?movie wdt:P31 wd:Q11424 ;\n",
    "    wdt:P57 wd:Q3772 ;\n",
    "    <http://schema.org/name> ?name ;\n",
    "    wdt:P1411 wd:Q103360 .\n",
    "}}\n",
    "\"\"\"\n",
    "run_query(q)"
   ]
  },
  {
   "cell_type": "code",
   "execution_count": 60,
   "id": "42944281-12f4-4aa1-8746-a8a03095a642",
   "metadata": {},
   "outputs": [
    {
     "name": "stdout",
     "output_type": "stream",
     "text": [
      "[('nominations', '7')]\n"
     ]
    },
    {
     "data": {
      "text/plain": [
       "1"
      ]
     },
     "execution_count": 60,
     "metadata": {},
     "output_type": "execute_result"
    }
   ],
   "source": [
    "#what about Woody Allen?\n",
    "q = f\"\"\"\n",
    "select (count(*) as ?nominations) where{{\n",
    "?movie wdt:P31 wd:Q11424 ;\n",
    "    wdt:P57 wd:Q25089 ;\n",
    "    wdt:P1411 wd:Q103360 .\n",
    "}}\n",
    "\"\"\"\n",
    "run_query(q)"
   ]
  },
  {
   "cell_type": "code",
   "execution_count": 61,
   "id": "101274b1-3318-471e-8caa-930eadc33128",
   "metadata": {},
   "outputs": [
    {
     "name": "stdout",
     "output_type": "stream",
     "text": [
      "[('movie', 'http://www.wikidata.org/entity/Q206124'), ('name', 'Midnight in Paris')]\n",
      "[('movie', 'http://www.wikidata.org/entity/Q1004531'), ('name', 'Bullets Over Broadway')]\n",
      "[('movie', 'http://www.wikidata.org/entity/Q729026'), ('name', 'Broadway Danny Rose')]\n",
      "[('movie', 'http://www.wikidata.org/entity/Q181555'), ('name', 'Crimes and Misdemeanors')]\n",
      "[('movie', 'http://www.wikidata.org/entity/Q233464'), ('name', 'Annie Hall')]\n",
      "[('movie', 'http://www.wikidata.org/entity/Q845057'), ('name', 'Hannah and Her Sisters')]\n",
      "[('movie', 'http://www.wikidata.org/entity/Q961403'), ('name', 'Interiors')]\n"
     ]
    },
    {
     "data": {
      "text/plain": [
       "7"
      ]
     },
     "execution_count": 61,
     "metadata": {},
     "output_type": "execute_result"
    }
   ],
   "source": [
    "#let's see for which movies he was nominated best director\n",
    "q = f\"\"\"\n",
    "select ?movie ?name where{{\n",
    "?movie wdt:P31 wd:Q11424 ;\n",
    "    wdt:P57 wd:Q25089 ;\n",
    "    <http://schema.org/name> ?name ;\n",
    "    wdt:P1411 wd:Q103360 .\n",
    "}}\n",
    "\"\"\"\n",
    "run_query(q)"
   ]
  },
  {
   "cell_type": "code",
   "execution_count": 62,
   "id": "5c881ff5-1c79-4ff6-8a18-c85c75457fcf",
   "metadata": {},
   "outputs": [
    {
     "name": "stdout",
     "output_type": "stream",
     "text": [
      "[('class', 'http://www.wikidata.org/entity/Q96474679'), ('name', 'award for best direction')]\n",
      "[('class', 'http://www.wikidata.org/entity/Q19020'), ('name', 'Academy Awards')]\n"
     ]
    },
    {
     "data": {
      "text/plain": [
       "2"
      ]
     },
     "execution_count": 62,
     "metadata": {},
     "output_type": "execute_result"
    }
   ],
   "source": [
    "#what class is AcademyDirector?\n",
    "q = f\"\"\"\n",
    "select ?class ?name where{{\n",
    "wd:Q103360 wdt:P31 ?class .\n",
    "?class <http://schema.org/name> ?name\n",
    "}}\n",
    "\"\"\"\n",
    "run_query(q)"
   ]
  },
  {
   "cell_type": "markdown",
   "id": "6930726f-eae1-4998-a86c-0b711c09f455",
   "metadata": {},
   "source": [
    "## Task 7"
   ]
  },
  {
   "cell_type": "code",
   "execution_count": 64,
   "id": "774257cf-1d5b-4444-8589-a959edc1c135",
   "metadata": {},
   "outputs": [
    {
     "name": "stdout",
     "output_type": "stream",
     "text": [
      "[('nominations', '24')]\n"
     ]
    },
    {
     "data": {
      "text/plain": [
       "1"
      ]
     },
     "execution_count": 64,
     "metadata": {},
     "output_type": "execute_result"
    }
   ],
   "source": [
    "#how many academy award nominations did Tarantino movies get?\n",
    "q = f\"\"\"\n",
    "select (count(*) as ?nominations) where{{\n",
    "?movie wdt:P31 wd:Q11424 ;\n",
    "    wdt:P57 wd:Q3772 ;\n",
    "    wdt:P1411 ?award .\n",
    "?award wdt:P31 wd:Q19020\n",
    "}}\n",
    "\"\"\"\n",
    "run_query(q)"
   ]
  },
  {
   "cell_type": "code",
   "execution_count": 65,
   "id": "6ddf6d2c-908c-4ea2-a560-0598fce2b8eb",
   "metadata": {},
   "outputs": [
    {
     "name": "stdout",
     "output_type": "stream",
     "text": [
      "[('nominations', '52')]\n"
     ]
    },
    {
     "data": {
      "text/plain": [
       "1"
      ]
     },
     "execution_count": 65,
     "metadata": {},
     "output_type": "execute_result"
    }
   ],
   "source": [
    "#how many academy award nominations did Allen movies get?\n",
    "q = f\"\"\"\n",
    "select (count(*) as ?nominations) where{{\n",
    "?movie wdt:P31 wd:Q11424 ;\n",
    "    wdt:P57 wd:Q25089 ;\n",
    "    wdt:P1411 ?award .\n",
    "?award wdt:P31 wd:Q19020\n",
    "}}\n",
    "\"\"\"\n",
    "run_query(q)"
   ]
  },
  {
   "cell_type": "code",
   "execution_count": 66,
   "id": "f9f81943-52e3-47b6-83a6-b7c49b9a957d",
   "metadata": {},
   "outputs": [
    {
     "data": {
      "text/plain": [
       "{'head': {'link': []}, 'boolean': True}"
      ]
     },
     "execution_count": 66,
     "metadata": {},
     "output_type": "execute_result"
    }
   ],
   "source": [
    "#in total Allen's movies have received more Academy Award nominations. We can also use an ask query\n",
    "q1 = f\"\"\"\n",
    "select (count(*) as ?nominations1) where{{\n",
    "?movie wdt:P31 wd:Q11424 ;\n",
    "    wdt:P57 wd:Q3772 ;\n",
    "    wdt:P1411 ?award .\n",
    "?award wdt:P31 wd:Q19020\n",
    "}}\n",
    "\"\"\"\n",
    "\n",
    "q2 = f\"\"\"\n",
    "select (count(*) as ?nominations2) where{{\n",
    "?movie wdt:P31 wd:Q11424 ;\n",
    "    wdt:P57 wd:Q25089 ;\n",
    "    wdt:P1411 ?award .\n",
    "?award wdt:P31 wd:Q19020\n",
    "}}\n",
    "\"\"\"\n",
    "\n",
    "#does Allen have more Academy Award nominations for the movies he directed?\n",
    "q = f\"\"\"\n",
    "ask where{{\n",
    "    {{\n",
    "        select (count(*) as ?nominations1) where{{\n",
    "\n",
    "?movie wdt:P31 wd:Q11424 ;\n",
    "\n",
    "    wdt:P57 wd:Q3772 ;\n",
    "\n",
    "    wdt:P1411 ?award .\n",
    "\n",
    "?award wdt:P31 wd:Q19020\n",
    "\n",
    "}}\n",
    "\n",
    "\n",
    "\n",
    "    }}\n",
    "    \n",
    "    {{\n",
    "        select (count(*) as ?nominations2) where{{\n",
    "\n",
    "?movie wdt:P31 wd:Q11424 ;\n",
    "\n",
    "    wdt:P57 wd:Q25089 ;\n",
    "\n",
    "    wdt:P1411 ?award .\n",
    "\n",
    "?award wdt:P31 wd:Q19020\n",
    "\n",
    "}}\n",
    "\n",
    "\n",
    "\n",
    "    }}\n",
    "    \n",
    "    filter(?nominations2 > ?nominations1)\n",
    "}}\n",
    "\"\"\"\n",
    "run_ask_query(q)"
   ]
  },
  {
   "cell_type": "code",
   "execution_count": 67,
   "id": "bef72963-9839-456e-a25f-091a2406c64b",
   "metadata": {},
   "outputs": [
    {
     "name": "stdout",
     "output_type": "stream",
     "text": [
      "[('name', 'The Hateful Eight'), ('awardName', 'Academy Award for Best Original Score')]\n",
      "[('name', 'Pulp Fiction'), ('awardName', 'Academy Award for Best Writing, Original Screenplay')]\n",
      "[('name', 'Inglourious Basterds'), ('awardName', 'Academy Award for Best Supporting Actor')]\n",
      "[('name', 'Django Unchained'), ('awardName', 'Academy Award for Best Supporting Actor')]\n",
      "[('name', 'Django Unchained'), ('awardName', 'Academy Award for Best Writing, Original Screenplay')]\n",
      "[('name', 'Once Upon a Time in Hollywood'), ('awardName', 'Academy Award for Best Production Design')]\n",
      "[('name', 'Once Upon a Time in Hollywood'), ('awardName', 'Academy Award for Best Supporting Actor')]\n"
     ]
    },
    {
     "data": {
      "text/plain": [
       "7"
      ]
     },
     "execution_count": 67,
     "metadata": {},
     "output_type": "execute_result"
    }
   ],
   "source": [
    "#Point 7. Who has films with more nominations for Academy Awards and who won more Academy Awards?\n",
    "\n",
    "#let's see which tarantino movies won academy awards\n",
    "q = f\"\"\"\n",
    "select ?name ?awardName where{{\n",
    "?movie wdt:P31 wd:Q11424;\n",
    "    <http://schema.org/name> ?name ;\n",
    "    wdt:P57 wd:Q3772 ;\n",
    "    wdt:P166 ?award .\n",
    "?award wdt:P31 wd:Q19020 ;\n",
    "    <http://schema.org/name> ?awardName\n",
    "}}\n",
    "\"\"\"\n",
    "run_query(q)"
   ]
  },
  {
   "cell_type": "code",
   "execution_count": 68,
   "id": "96866bba-2800-4388-ace7-a1b6434ad205",
   "metadata": {},
   "outputs": [
    {
     "name": "stdout",
     "output_type": "stream",
     "text": [
      "[('name', 'Midnight in Paris'), ('awardName', 'Academy Award for Best Writing, Original Screenplay')]\n",
      "[('name', 'Bullets Over Broadway'), ('awardName', 'Academy Award for Best Supporting Actress')]\n",
      "[('name', 'Mighty Aphrodite'), ('awardName', 'Academy Award for Best Supporting Actress')]\n",
      "[('name', 'Blue Jasmine'), ('awardName', 'Academy Award for Best Actress')]\n",
      "[('name', 'Vicky Cristina Barcelona'), ('awardName', 'Academy Award for Best Supporting Actress')]\n",
      "[('name', 'Annie Hall'), ('awardName', 'Academy Award for Best Director')]\n",
      "[('name', 'Annie Hall'), ('awardName', 'Academy Award for Best Writing, Original Screenplay')]\n",
      "[('name', 'Annie Hall'), ('awardName', 'Academy Award for Best Actress')]\n",
      "[('name', 'Annie Hall'), ('awardName', 'Academy Award for Best Picture')]\n",
      "[('name', 'Hannah and Her Sisters'), ('awardName', 'Academy Award for Best Supporting Actress')]\n",
      "[('name', 'Hannah and Her Sisters'), ('awardName', 'Academy Award for Best Supporting Actor')]\n",
      "[('name', 'Hannah and Her Sisters'), ('awardName', 'Academy Award for Best Writing, Original Screenplay')]\n"
     ]
    },
    {
     "data": {
      "text/plain": [
       "12"
      ]
     },
     "execution_count": 68,
     "metadata": {},
     "output_type": "execute_result"
    }
   ],
   "source": [
    "#let's see which allen movies won academy awards\n",
    "q = f\"\"\"\n",
    "select ?name ?awardName where{{\n",
    "?movie wdt:P31 wd:Q11424;\n",
    "    <http://schema.org/name> ?name ;\n",
    "    wdt:P57 wd:Q25089 ;\n",
    "    wdt:P166 ?award .\n",
    "?award wdt:P31 wd:Q19020 ;\n",
    "    <http://schema.org/name> ?awardName\n",
    "}}\n",
    "\"\"\"\n",
    "run_query(q)"
   ]
  },
  {
   "cell_type": "code",
   "execution_count": 73,
   "id": "a1c471f3-ea0b-4aa2-b62c-23a66e162137",
   "metadata": {},
   "outputs": [
    {
     "data": {
      "text/plain": [
       "{'head': {'link': []}, 'boolean': False}"
      ]
     },
     "execution_count": 73,
     "metadata": {},
     "output_type": "execute_result"
    }
   ],
   "source": [
    "#woody allen won more academy awards through his movies, let's make an ask query to check this fact formally\n",
    "\n",
    "#count how many allen movies won academy awards\n",
    "q1 = f\"\"\"\n",
    "select (count(*) as ?allenAwardWinners) where{{\n",
    "?movie wdt:P31 wd:Q11424 ;\n",
    "    wdt:P57 wd:Q25089 ;\n",
    "    wdt:P166 ?award .\n",
    "\n",
    "?award wdt:P31 wd:Q19020 .\n",
    "\n",
    "}}\n",
    "\"\"\"\n",
    "\n",
    "#count how many tarantino movies won academy awards\n",
    "q2 = f\"\"\"\n",
    "select (count(*) as ?tarantinoAwardWinners) where{{\n",
    "?movie wdt:P31 wd:Q11424 ;\n",
    "    wdt:P57 wd:Q3772 ;\n",
    "    wdt:P166 ?award .\n",
    "\n",
    "?award wdt:P31 wd:Q19020 .\n",
    "\n",
    "}}\n",
    "\"\"\"\n",
    "\n",
    "#did allen movies receive a greater total of academy awards with respect to tarantino movies?\n",
    "q = f\"\"\"\n",
    "ask where{{\n",
    "\n",
    "    {{\n",
    "        select (count(*) as ?allenAwardWinners) where{{\n",
    "\n",
    "?movie wdt:P31 wd:Q11424 ;\n",
    "\n",
    "    wdt:P57 wd:Q25089 ;\n",
    "\n",
    "    wdt:P166 ?award .\n",
    "\n",
    "\n",
    "\n",
    "?award wdt:P31 wd:Q19020 .\n",
    "\n",
    "\n",
    "\n",
    "}}\n",
    "\n",
    "\n",
    "\n",
    "    }}\n",
    "    \n",
    "    {{\n",
    "        select (count(*) as ?tarantinoAwardWinners) where{{\n",
    "\n",
    "?movie wdt:P31 wd:Q11424 ;\n",
    "\n",
    "    wdt:P57 wd:Q3772 ;\n",
    "\n",
    "    wdt:P166 ?award .\n",
    "\n",
    "\n",
    "\n",
    "?award wdt:P31 wd:Q19020 .\n",
    "\n",
    "\n",
    "\n",
    "}}\n",
    "\n",
    "\n",
    "\n",
    "    }}\n",
    "    \n",
    "    filter(?allenAwardWinners > ?tarantinoAwardWinners)\n",
    "}}\n",
    "\"\"\"\n",
    "\n",
    "run_ask_query(q)"
   ]
  },
  {
   "cell_type": "code",
   "execution_count": 74,
   "id": "4770efa1-f895-4e84-bb17-a3768173cf9f",
   "metadata": {},
   "outputs": [
    {
     "data": {
      "text/plain": [
       "{'head': {'link': []}, 'boolean': True}"
      ]
     },
     "execution_count": 74,
     "metadata": {},
     "output_type": "execute_result"
    }
   ],
   "source": [
    "#what about nominations?\n",
    "\n",
    "#run the same ask query but for nominations\n",
    "\n",
    "q1 = f\"\"\"\n",
    "select (count(*) as ?allenNominations) where{{\n",
    "?movie wdt:P31 wd:Q11424 ;\n",
    "    wdt:P57 wd:Q25089 ;\n",
    "    wdt:P1411 ?award .\n",
    "\n",
    "?award wdt:P31 wd:Q19020 .\n",
    "\n",
    "}}\n",
    "\"\"\"\n",
    "\n",
    "q2 = f\"\"\"\n",
    "select (count(*) as ?tarantinoNominations) where{{\n",
    "?movie wdt:P31 wd:Q11424 ;\n",
    "    wdt:P57 wd:Q3772 ;\n",
    "    wdt:P1411 ?award .\n",
    "\n",
    "?award wdt:P31 wd:Q19020 .\n",
    "\n",
    "}}\n",
    "\"\"\"\n",
    "\n",
    "q = f\"\"\"\n",
    "ask where{{\n",
    "\n",
    "    {{\n",
    "        select (count(*) as ?allenNominations) where{{\n",
    "\n",
    "?movie wdt:P31 wd:Q11424 ;\n",
    "\n",
    "    wdt:P57 wd:Q25089 ;\n",
    "\n",
    "    wdt:P1411 ?award .\n",
    "\n",
    "\n",
    "\n",
    "?award wdt:P31 wd:Q19020 .\n",
    "\n",
    "\n",
    "\n",
    "}}\n",
    "\n",
    "\n",
    "\n",
    "    }}\n",
    "    \n",
    "    {{\n",
    "        select (count(*) as ?tarantinoNominations) where{{\n",
    "\n",
    "?movie wdt:P31 wd:Q11424 ;\n",
    "\n",
    "    wdt:P57 wd:Q3772 ;\n",
    "\n",
    "    wdt:P1411 ?award .\n",
    "\n",
    "\n",
    "\n",
    "?award wdt:P31 wd:Q19020 .\n",
    "\n",
    "\n",
    "\n",
    "}}\n",
    "\n",
    "\n",
    "\n",
    "    }}\n",
    "    \n",
    "    filter(?allenNominations > ?tarantinoNominations)\n",
    "}}\n",
    "\"\"\"\n",
    "\n",
    "run_ask_query(q)"
   ]
  }
 ],
 "metadata": {
  "kernelspec": {
   "display_name": "Python 3",
   "language": "python",
   "name": "python3"
  },
  "language_info": {
   "codemirror_mode": {
    "name": "ipython",
    "version": 3
   },
   "file_extension": ".py",
   "mimetype": "text/x-python",
   "name": "python",
   "nbconvert_exporter": "python",
   "pygments_lexer": "ipython3",
   "version": "3.7.10"
  }
 },
 "nbformat": 4,
 "nbformat_minor": 5
}
