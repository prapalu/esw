{
 "cells": [
  {
   "cell_type": "markdown",
   "id": "7034c3bf-6eb0-4418-8687-7b9d2a501103",
   "metadata": {},
   "source": [
    "# General instructions\n",
    "\n",
    "The goal of the project is to materialize a set of **exploratory workloads** over a real-world, large-scale,  open-domain KG: [WikiData](https://www.wikidata.org/wiki/Wikidata:Main_Page)\n",
    "\n",
    "An exploratory workload  is composed by a set of queries, where each query is related to the information obtained previously.\n",
    "\n",
    "An exploratory workload starts with a usually vague, open ended question, and does not assume the person issuing the workload has a clear understanding of the data contained in the target database or its structure.\n",
    "\n",
    "Remeber that:\n",
    "\n",
    "1. All the queries must run in the python notebook\n",
    "2. You can use classes and properties only if you find them via a SPARQL query that must be present in the notebook\n",
    "3. You do not delete useless queries. Keep everything that is synthatically valid \n",
    "\n",
    "```\n",
    "?p <http://schema.org/name> ?name .\n",
    "```\n",
    "    \n",
    "is the BGP returning a human-readable name of a property or a class in Wikidata.\n",
    "    \n",
    "    "
   ]
  },
  {
   "cell_type": "code",
   "execution_count": 2,
   "id": "3605c9d5-5371-49a5-be8d-d66e8f417139",
   "metadata": {},
   "outputs": [],
   "source": [
    "## SETUP used later\n",
    "\n",
    "from SPARQLWrapper import SPARQLWrapper, JSON\n",
    "\n",
    "\n",
    "prefixString = \"\"\"\n",
    "##-10b0246009-##\n",
    "PREFIX wd: <http://www.wikidata.org/entity/> \n",
    "PREFIX wdt: <http://www.wikidata.org/prop/direct/> \n",
    "PREFIX sc: <http://schema.org/>\n",
    "\"\"\"\n",
    "\n",
    "# select and construct queries\n",
    "def run_query(queryString):\n",
    "    to_run = prefixString + \"\\n\" + queryString\n",
    "\n",
    "    sparql = SPARQLWrapper(\"http://a256-gc1-02.srv.aau.dk:5820/sparql\")\n",
    "    sparql.setTimeout(300)\n",
    "    sparql.setReturnFormat(JSON)\n",
    "    sparql.setQuery(to_run)\n",
    "\n",
    "    try :\n",
    "       results = sparql.query()\n",
    "       json_results = results.convert()\n",
    "       if len(json_results['results']['bindings'])==0:\n",
    "          print(\"Empty\")\n",
    "          return 0\n",
    "    \n",
    "       for bindings in json_results['results']['bindings']:\n",
    "          print( [ (var, value['value'])  for var, value in bindings.items() ] )\n",
    "\n",
    "       return len(json_results['results']['bindings'])\n",
    "\n",
    "    except Exception as e :\n",
    "        print(\"The operation failed\", e)\n",
    "    \n",
    "# ASk queries\n",
    "def run_ask_query(queryString):\n",
    "    to_run = prefixString + \"\\n\" + queryString\n",
    "\n",
    "    sparql = SPARQLWrapper(\"http://a256-gc1-03.srv.aau.dk:5820/sparql\")\n",
    "    sparql.setTimeout(300)\n",
    "    sparql.setReturnFormat(JSON)\n",
    "    sparql.setQuery(to_run)\n",
    "\n",
    "    try :\n",
    "        return sparql.query().convert()\n",
    "\n",
    "    except Exception as e :\n",
    "        print(\"The operation failed\", e)\n"
   ]
  },
  {
   "cell_type": "markdown",
   "id": "d477a59c-a68c-4c8f-9f97-8ca5294d7d27",
   "metadata": {},
   "source": [
    "# Politics Workflow Series (\"Politicians in E.U.\") \n",
    "\n",
    "Consider the following exploratory information need:\n",
    "\n",
    "> You investigating the careers of politicians in the E.U."
   ]
  },
  {
   "cell_type": "markdown",
   "id": "4a45c0ba-f79e-441d-bec5-84401b09db70",
   "metadata": {},
   "source": [
    "## Useful URIs for the current workflow\n",
    "\n",
    "\n",
    "The following are given:\n",
    "\n",
    "| IRI           | Description   | Role      |\n",
    "| -----------   | -----------   |-----------|\n",
    "| `wdt:P1647`   | subproperty   | predicate |\n",
    "| `wdt:P31`     | instance of   | predicate |\n",
    "| `wdt:P279`    | subclass      | predicate |\n",
    "| `wdt:P17`     | country       | predicate |\n",
    "| `wdt:P27`     | citizenship   | predicate |\n",
    "| `wdt:P39`     | position held   | predicate |\n",
    "| `wdt:P106`    | profession   | predicate |\n",
    "| `wd:Q82955`   | politician | node      |\n",
    "| `wd:Q46`      | Europe        | node |\n",
    "| `wd:Q38`      | Italy          | node |\n",
    "\n",
    "\n",
    "\n",
    "Also consider\n",
    "\n",
    "```\n",
    "?p wdt:P106/wdt:P279* wd:Q82955  . \n",
    "```\n",
    "\n",
    "is the BGP to retrieve all **politicians**"
   ]
  },
  {
   "cell_type": "markdown",
   "id": "7af439fb-96e4-4dbb-a381-f19afab79f86",
   "metadata": {
    "tags": []
   },
   "source": [
    "## Workload Goals\n",
    "\n",
    "\n",
    "1. Identify the BGP to retrieve E.U. countries and their politicians\n",
    "\n",
    "2. Identify the BGP for obtaining other occupations and properties of politicians\n",
    "\n",
    "3. How many politicians are recorder for each E.U. country?\n",
    "\n",
    "4. Are there politicians with double citizenship?\n",
    "\n",
    "5. Analyze the number of politicians in each country by occupation, for instance\n",
    " \n",
    "   5.1 What are the top-3 occupations for a politician in Italy and France?\n",
    "   \n",
    "   5.2 What if you consider only politicians for which we don't have a date of death?\n",
    "   \n",
    "   5.3 Which politicians had a spouse that was also a politician? How many in each country?\n"
   ]
  },
  {
   "cell_type": "code",
   "execution_count": 3,
   "id": "24a853ab-830c-422c-afd3-e9e015b8b8ed",
   "metadata": {},
   "outputs": [],
   "source": [
    "# start your workflow here"
   ]
  },
  {
   "cell_type": "code",
   "execution_count": 4,
   "id": "ade01416-92e7-4ad7-b9a9-b8fb330750dc",
   "metadata": {},
   "outputs": [
    {
     "name": "stdout",
     "output_type": "stream",
     "text": [
      "Results\n",
      "[('callret-0', '15556')]\n"
     ]
    },
    {
     "data": {
      "text/plain": [
       "1"
      ]
     },
     "execution_count": 4,
     "metadata": {},
     "output_type": "execute_result"
    }
   ],
   "source": [
    "queryString = \"\"\"\n",
    "SELECT COUNT(*)\n",
    "WHERE { \n",
    "\n",
    "?p wdt:P106/wdt:P279 wd:Q82955  . \n",
    "} \n",
    "\"\"\"\n",
    "\n",
    "print(\"Results\")\n",
    "run_query(queryString)"
   ]
  },
  {
   "cell_type": "markdown",
   "id": "d2f5f370-549c-4ea6-b300-77414fe56809",
   "metadata": {},
   "source": [
    "### 1.Identify the BGP to retrieve E.U. countries and their politicians"
   ]
  },
  {
   "cell_type": "markdown",
   "id": "9257b62d-699c-4fd4-b283-69d05b251418",
   "metadata": {},
   "source": [
    " I add the contraints that politicians must be alive, otherwise it will return me lots of politician totally untied with EU."
   ]
  },
  {
   "cell_type": "code",
   "execution_count": 15,
   "id": "553f4ed1-48d5-45e3-9167-80c20d81397a",
   "metadata": {},
   "outputs": [
    {
     "name": "stdout",
     "output_type": "stream",
     "text": [
      "Results\n",
      "[('c', 'http://www.wikidata.org/entity/Q142'), ('cname', 'France'), ('s', 'http://www.wikidata.org/entity/Q65591310'), ('sname', 'Benoît Machinet')]\n",
      "[('c', 'http://www.wikidata.org/entity/Q142'), ('cname', 'France'), ('s', 'http://www.wikidata.org/entity/Q65591365'), ('sname', 'Francis Magdalou')]\n",
      "[('c', 'http://www.wikidata.org/entity/Q29'), ('cname', 'Spain'), ('s', 'http://www.wikidata.org/entity/Q86849628'), ('sname', 'Manuel María Lejarreta Allende')]\n",
      "[('c', 'http://www.wikidata.org/entity/Q29'), ('cname', 'Spain'), ('s', 'http://www.wikidata.org/entity/Q66812732'), ('sname', 'Carme Benages i Cort')]\n",
      "[('c', 'http://www.wikidata.org/entity/Q38'), ('cname', 'Italy'), ('s', 'http://www.wikidata.org/entity/Q105084911'), ('sname', 'Luigia Cordati Rosaia')]\n",
      "[('c', 'http://www.wikidata.org/entity/Q142'), ('cname', 'France'), ('s', 'http://www.wikidata.org/entity/Q99173782'), ('sname', 'Pierre-Antoine Mio')]\n",
      "[('c', 'http://www.wikidata.org/entity/Q142'), ('cname', 'France'), ('s', 'http://www.wikidata.org/entity/Q83617395'), ('sname', 'Raphaël Pequignot')]\n",
      "[('c', 'http://www.wikidata.org/entity/Q38'), ('cname', 'Italy'), ('s', 'http://www.wikidata.org/entity/Q78162385'), ('sname', 'Erica Mazzetti')]\n",
      "[('c', 'http://www.wikidata.org/entity/Q142'), ('cname', 'France'), ('s', 'http://www.wikidata.org/entity/Q98233444'), ('sname', 'Charles Kuchly')]\n",
      "[('c', 'http://www.wikidata.org/entity/Q142'), ('cname', 'France'), ('s', 'http://www.wikidata.org/entity/Q98235919'), ('sname', 'Jacques Maupu')]\n"
     ]
    },
    {
     "data": {
      "text/plain": [
       "10"
      ]
     },
     "execution_count": 15,
     "metadata": {},
     "output_type": "execute_result"
    }
   ],
   "source": [
    "queryString = \"\"\"\n",
    "SELECT ?c ?cname ?s ?sname WHERE { \n",
    "\n",
    "    ?s wdt:P106/wdt:P279* wd:Q82955  ;\n",
    "       wdt:P27 ?c .\n",
    "    ?c wdt:P463 wd:Q458 . # same codes found in notebook edb024393e, countries in E.U.\n",
    "\n",
    "    # this returns the labels\n",
    "    ?c <http://schema.org/name> ?cname .\n",
    "    ?s <http://schema.org/name> ?sname .\n",
    "    \n",
    "} \n",
    "GROUP BY ?c\n",
    "LIMIT 10\n",
    "\"\"\"\n",
    "\n",
    "print(\"Results\")\n",
    "run_query(queryString)"
   ]
  },
  {
   "cell_type": "code",
   "execution_count": 16,
   "id": "e19a82b7-8d97-4ed5-9b9c-2dafcdf0c471",
   "metadata": {},
   "outputs": [
    {
     "name": "stdout",
     "output_type": "stream",
     "text": [
      "Results\n",
      "[('p', 'http://www.wikidata.org/prop/direct/P106'), ('pname', 'occupation'), ('o', 'http://www.wikidata.org/entity/Q3062119')]\n",
      "[('p', 'http://www.wikidata.org/prop/direct/P106'), ('pname', 'occupation'), ('o', 'http://www.wikidata.org/entity/Q82955')]\n",
      "[('p', 'http://www.wikidata.org/prop/direct/P106'), ('pname', 'occupation'), ('o', 'http://www.wikidata.org/entity/Q97768146')]\n",
      "[('p', 'http://www.wikidata.org/prop/direct/P1412'), ('pname', 'languages spoken, written or signed'), ('o', 'http://www.wikidata.org/entity/Q150')]\n",
      "[('p', 'http://www.wikidata.org/prop/direct/P21'), ('pname', 'sex or gender'), ('o', 'http://www.wikidata.org/entity/Q6581097')]\n",
      "[('p', 'http://www.wikidata.org/prop/direct/P27'), ('pname', 'country of citizenship'), ('o', 'http://www.wikidata.org/entity/Q142')]\n",
      "[('p', 'http://www.wikidata.org/prop/direct/P31'), ('pname', 'instance of'), ('o', 'http://www.wikidata.org/entity/Q5')]\n",
      "[('p', 'http://www.wikidata.org/prop/direct/P39'), ('pname', 'position held'), ('o', 'http://www.wikidata.org/entity/Q65516572')]\n",
      "[('p', 'http://www.wikidata.org/prop/direct/P39'), ('pname', 'position held'), ('o', 'http://www.wikidata.org/entity/Q65442165')]\n",
      "[('p', 'http://www.wikidata.org/prop/direct/P39'), ('pname', 'position held'), ('o', 'http://www.wikidata.org/entity/Q66500000')]\n",
      "[('p', 'http://www.wikidata.org/prop/direct/P569'), ('pname', 'date of birth'), ('o', '1969-03-24T00:00:00Z')]\n",
      "[('p', 'http://www.wikidata.org/prop/direct/P734'), ('pname', 'family name'), ('o', 'http://www.wikidata.org/entity/Q65109406')]\n",
      "[('p', 'http://www.wikidata.org/prop/direct/P735'), ('pname', 'given name'), ('o', 'http://www.wikidata.org/entity/Q18341911')]\n"
     ]
    },
    {
     "data": {
      "text/plain": [
       "13"
      ]
     },
     "execution_count": 16,
     "metadata": {},
     "output_type": "execute_result"
    }
   ],
   "source": [
    "queryString = \"\"\"\n",
    "SELECT ?p ?pname ?o ?oname WHERE { \n",
    "\n",
    "    wd:Q65591310 ?p ?o .\n",
    "\n",
    "    # this returns the labels\n",
    "    ?p <http://schema.org/name> ?pname .\n",
    "} \n",
    "\"\"\"\n",
    "\n",
    "print(\"Results\")\n",
    "run_query(queryString)"
   ]
  },
  {
   "cell_type": "code",
   "execution_count": null,
   "id": "3e955c8c-96d3-42f0-b498-2578cf4201f3",
   "metadata": {},
   "outputs": [],
   "source": [
    "Let's see the property of a State in the EU"
   ]
  },
  {
   "cell_type": "code",
   "execution_count": 3,
   "id": "302b52eb-9bc1-4e28-a750-4a1f8822dd39",
   "metadata": {
    "collapsed": true,
    "jupyter": {
     "outputs_hidden": true
    },
    "tags": []
   },
   "outputs": [
    {
     "name": "stdout",
     "output_type": "stream",
     "text": [
      "Results\n",
      "[('p', 'http://www.wikidata.org/prop/direct/P463'), ('pname', 'member of'), ('o', 'http://www.wikidata.org/entity/Q488981'), ('oname', 'European Bank for Reconstruction and Development')]\n",
      "[('p', 'http://www.wikidata.org/prop/direct/P2936'), ('pname', 'language used'), ('o', 'http://www.wikidata.org/entity/Q33973'), ('oname', 'Sicilian')]\n",
      "[('p', 'http://www.wikidata.org/prop/direct/P2184'), ('pname', 'history of topic'), ('o', 'http://www.wikidata.org/entity/Q7791'), ('oname', 'history of Italy')]\n",
      "[('p', 'http://www.wikidata.org/prop/direct/P163'), ('pname', 'flag'), ('o', 'http://www.wikidata.org/entity/Q42876'), ('oname', 'flag of Italy')]\n",
      "[('p', 'http://www.wikidata.org/prop/direct/P150'), ('pname', 'contains administrative territorial entity'), ('o', 'http://www.wikidata.org/entity/Q1273'), ('oname', 'Tuscany')]\n",
      "[('p', 'http://www.wikidata.org/prop/direct/P2936'), ('pname', 'language used'), ('o', 'http://www.wikidata.org/entity/Q33845'), ('oname', 'Neapolitan')]\n",
      "[('p', 'http://www.wikidata.org/prop/direct/P463'), ('pname', 'member of'), ('o', 'http://www.wikidata.org/entity/Q1153087'), ('oname', 'Inter-American Development Bank')]\n",
      "[('p', 'http://www.wikidata.org/prop/direct/P150'), ('pname', 'contains administrative territorial entity'), ('o', 'http://www.wikidata.org/entity/Q1237'), ('oname', 'Trentino-South Tyrol')]\n",
      "[('p', 'http://www.wikidata.org/prop/direct/P2936'), ('pname', 'language used'), ('o', 'http://www.wikidata.org/entity/Q33441'), ('oname', 'Friulian')]\n",
      "[('p', 'http://www.wikidata.org/prop/direct/P463'), ('pname', 'member of'), ('o', 'http://www.wikidata.org/entity/Q848633'), ('oname', 'International Chamber of Commerce')]\n",
      "[('p', 'http://www.wikidata.org/prop/direct/P1792'), ('pname', 'category of associated people'), ('o', 'http://www.wikidata.org/entity/Q3919890'), ('oname', 'Category:Italian people')]\n",
      "[('p', 'http://www.wikidata.org/prop/direct/P530'), ('pname', 'diplomatic relation'), ('o', 'http://www.wikidata.org/entity/Q1016'), ('oname', 'Libya')]\n",
      "[('p', 'http://www.wikidata.org/prop/direct/P463'), ('pname', 'member of'), ('o', 'http://www.wikidata.org/entity/Q1043527'), ('oname', 'Multilateral Investment Guarantee Agency')]\n",
      "[('p', 'http://www.wikidata.org/prop/direct/P530'), ('pname', 'diplomatic relation'), ('o', 'http://www.wikidata.org/entity/Q1045'), ('oname', 'Somalia')]\n",
      "[('p', 'http://www.wikidata.org/prop/direct/P2852'), ('pname', 'emergency telephone number'), ('o', 'http://www.wikidata.org/entity/Q1061257'), ('oname', '112')]\n",
      "[('p', 'http://www.wikidata.org/prop/direct/P463'), ('pname', 'member of'), ('o', 'http://www.wikidata.org/entity/Q1065'), ('oname', 'United Nations')]\n",
      "[('p', 'http://www.wikidata.org/prop/direct/P463'), ('pname', 'member of'), ('o', 'http://www.wikidata.org/entity/Q1072120'), ('oname', 'Missile Technology Control Regime')]\n",
      "[('p', 'http://www.wikidata.org/prop/direct/P2853'), ('pname', 'electrical plug type'), ('o', 'http://www.wikidata.org/entity/Q1123613'), ('oname', 'Schuko')]\n",
      "[('p', 'http://www.wikidata.org/prop/direct/P530'), ('pname', 'diplomatic relation'), ('o', 'http://www.wikidata.org/entity/Q114'), ('oname', 'Kenya')]\n",
      "[('p', 'http://www.wikidata.org/prop/direct/P530'), ('pname', 'diplomatic relation'), ('o', 'http://www.wikidata.org/entity/Q115'), ('oname', 'Ethiopia')]\n",
      "[('p', 'http://www.wikidata.org/prop/direct/P150'), ('pname', 'contains administrative territorial entity'), ('o', 'http://www.wikidata.org/entity/Q1210'), ('oname', 'Lombardy')]\n",
      "[('p', 'http://www.wikidata.org/prop/direct/P150'), ('pname', 'contains administrative territorial entity'), ('o', 'http://www.wikidata.org/entity/Q1216'), ('oname', 'Piedmont')]\n",
      "[('p', 'http://www.wikidata.org/prop/direct/P150'), ('pname', 'contains administrative territorial entity'), ('o', 'http://www.wikidata.org/entity/Q1222'), ('oname', 'Aosta Valley')]\n",
      "[('p', 'http://www.wikidata.org/prop/direct/P463'), ('pname', 'member of'), ('o', 'http://www.wikidata.org/entity/Q123209'), ('oname', 'Latin Union')]\n",
      "[('p', 'http://www.wikidata.org/prop/direct/P150'), ('pname', 'contains administrative territorial entity'), ('o', 'http://www.wikidata.org/entity/Q1243'), ('oname', 'Veneto')]\n",
      "[('p', 'http://www.wikidata.org/prop/direct/P530'), ('pname', 'diplomatic relation'), ('o', 'http://www.wikidata.org/entity/Q1246'), ('oname', 'Kosovo')]\n",
      "[('p', 'http://www.wikidata.org/prop/direct/P463'), ('pname', 'member of'), ('o', 'http://www.wikidata.org/entity/Q125761'), ('oname', 'International Civil Aviation Organization')]\n",
      "[('p', 'http://www.wikidata.org/prop/direct/P150'), ('pname', 'contains administrative territorial entity'), ('o', 'http://www.wikidata.org/entity/Q1263'), ('oname', 'Emilia-Romagna')]\n",
      "[('p', 'http://www.wikidata.org/prop/direct/P5658'), ('pname', 'railway traffic side'), ('o', 'http://www.wikidata.org/entity/Q13196750'), ('oname', 'left')]\n",
      "[('p', 'http://www.wikidata.org/prop/direct/P463'), ('pname', 'member of'), ('o', 'http://www.wikidata.org/entity/Q1377612'), ('oname', 'European Payments Union')]\n",
      "[('p', 'http://www.wikidata.org/prop/direct/P2853'), ('pname', 'electrical plug type'), ('o', 'http://www.wikidata.org/entity/Q1378312'), ('oname', 'Europlug')]\n",
      "[('p', 'http://www.wikidata.org/prop/direct/P206'), ('pname', 'located in or next to body of water'), ('o', 'http://www.wikidata.org/entity/Q13924'), ('oname', 'Adriatic Sea')]\n",
      "[('p', 'http://www.wikidata.org/prop/direct/P463'), ('pname', 'member of'), ('o', 'http://www.wikidata.org/entity/Q141720'), ('oname', 'European Air Transport Command')]\n",
      "[('p', 'http://www.wikidata.org/prop/direct/P47'), ('pname', 'shares border with'), ('o', 'http://www.wikidata.org/entity/Q142'), ('oname', 'France')]\n",
      "[('p', 'http://www.wikidata.org/prop/direct/P530'), ('pname', 'diplomatic relation'), ('o', 'http://www.wikidata.org/entity/Q142'), ('oname', 'France')]\n",
      "[('p', 'http://www.wikidata.org/prop/direct/P530'), ('pname', 'diplomatic relation'), ('o', 'http://www.wikidata.org/entity/Q145'), ('oname', 'United Kingdom')]\n",
      "[('p', 'http://www.wikidata.org/prop/direct/P150'), ('pname', 'contains administrative territorial entity'), ('o', 'http://www.wikidata.org/entity/Q1452'), ('oname', 'Basilicata')]\n",
      "[('p', 'http://www.wikidata.org/prop/direct/P1622'), ('pname', 'driving side'), ('o', 'http://www.wikidata.org/entity/Q14565199'), ('oname', 'right')]\n",
      "[('p', 'http://www.wikidata.org/prop/direct/P530'), ('pname', 'diplomatic relation'), ('o', 'http://www.wikidata.org/entity/Q148'), ('oname', \"People's Republic of China\")]\n",
      "[('p', 'http://www.wikidata.org/prop/direct/P463'), ('pname', 'member of'), ('o', 'http://www.wikidata.org/entity/Q1480793'), ('oname', 'Nuclear Suppliers Group')]\n",
      "[('p', 'http://www.wikidata.org/prop/direct/P2936'), ('pname', 'language used'), ('o', 'http://www.wikidata.org/entity/Q150'), ('oname', 'French')]\n",
      "[('p', 'http://www.wikidata.org/prop/direct/P463'), ('pname', 'member of'), ('o', 'http://www.wikidata.org/entity/Q151991'), ('oname', 'European Southern Observatory')]\n",
      "[('p', 'http://www.wikidata.org/prop/direct/P2853'), ('pname', 'electrical plug type'), ('o', 'http://www.wikidata.org/entity/Q1520890'), ('oname', 'Type L')]\n",
      "[('p', 'http://www.wikidata.org/prop/direct/P530'), ('pname', 'diplomatic relation'), ('o', 'http://www.wikidata.org/entity/Q155'), ('oname', 'Brazil')]\n",
      "[('p', 'http://www.wikidata.org/prop/direct/P530'), ('pname', 'diplomatic relation'), ('o', 'http://www.wikidata.org/entity/Q159'), ('oname', 'Russia')]\n",
      "[('p', 'http://www.wikidata.org/prop/direct/P530'), ('pname', 'diplomatic relation'), ('o', 'http://www.wikidata.org/entity/Q159583'), ('oname', 'Holy See')]\n",
      "[('p', 'http://www.wikidata.org/prop/direct/P530'), ('pname', 'diplomatic relation'), ('o', 'http://www.wikidata.org/entity/Q16'), ('oname', 'Canada')]\n",
      "[('p', 'http://www.wikidata.org/prop/direct/P463'), ('pname', 'member of'), ('o', 'http://www.wikidata.org/entity/Q161549'), ('oname', 'European Coal and Steel Community')]\n",
      "[('p', 'http://www.wikidata.org/prop/direct/P530'), ('pname', 'diplomatic relation'), ('o', 'http://www.wikidata.org/entity/Q17'), ('oname', 'Japan')]\n",
      "[('p', 'http://www.wikidata.org/prop/direct/P463'), ('pname', 'member of'), ('o', 'http://www.wikidata.org/entity/Q170424'), ('oname', 'World Meteorological Organization')]\n",
      "[('p', 'http://www.wikidata.org/prop/direct/P1365'), ('pname', 'replaces'), ('o', 'http://www.wikidata.org/entity/Q172579'), ('oname', 'Kingdom of Italy')]\n",
      "[('p', 'http://www.wikidata.org/prop/direct/P155'), ('pname', 'follows'), ('o', 'http://www.wikidata.org/entity/Q172579'), ('oname', 'Kingdom of Italy')]\n",
      "[('p', 'http://www.wikidata.org/prop/direct/P463'), ('pname', 'member of'), ('o', 'http://www.wikidata.org/entity/Q17495'), ('oname', 'Universal Postal Union')]\n",
      "[('p', 'http://www.wikidata.org/prop/direct/P463'), ('pname', 'member of'), ('o', 'http://www.wikidata.org/entity/Q177773'), ('oname', 'World Intellectual Property Organization')]\n",
      "[('p', 'http://www.wikidata.org/prop/direct/P530'), ('pname', 'diplomatic relation'), ('o', 'http://www.wikidata.org/entity/Q183'), ('oname', 'Germany')]\n",
      "[('p', 'http://www.wikidata.org/prop/direct/P530'), ('pname', 'diplomatic relation'), ('o', 'http://www.wikidata.org/entity/Q184'), ('oname', 'Belarus')]\n",
      "[('p', 'http://www.wikidata.org/prop/direct/P2936'), ('pname', 'language used'), ('o', 'http://www.wikidata.org/entity/Q188'), ('oname', 'German')]\n",
      "[('p', 'http://www.wikidata.org/prop/direct/P463'), ('pname', 'member of'), ('o', 'http://www.wikidata.org/entity/Q188822'), ('oname', 'Asian Development Bank')]\n",
      "[('p', 'http://www.wikidata.org/prop/direct/P530'), ('pname', 'diplomatic relation'), ('o', 'http://www.wikidata.org/entity/Q189'), ('oname', 'Iceland')]\n",
      "[('p', 'http://www.wikidata.org/prop/direct/P463'), ('pname', 'member of'), ('o', 'http://www.wikidata.org/entity/Q189946'), ('oname', 'Western European Union')]\n",
      "[('p', 'http://www.wikidata.org/prop/direct/P530'), ('pname', 'diplomatic relation'), ('o', 'http://www.wikidata.org/entity/Q191'), ('oname', 'Estonia')]\n",
      "[('p', 'http://www.wikidata.org/prop/direct/P463'), ('pname', 'member of'), ('o', 'http://www.wikidata.org/entity/Q191384'), ('oname', 'International Bank for Reconstruction and Development')]\n",
      "[('p', 'http://www.wikidata.org/prop/direct/P1343'), ('pname', 'described by source'), ('o', 'http://www.wikidata.org/entity/Q19180675'), ('oname', 'Small Brockhaus and Efron Encyclopedic Dictionary')]\n",
      "[('p', 'http://www.wikidata.org/prop/direct/P463'), ('pname', 'member of'), ('o', 'http://www.wikidata.org/entity/Q192177'), ('oname', 'Union for the Mediterranean')]\n",
      "[('p', 'http://www.wikidata.org/prop/direct/P463'), ('pname', 'member of'), ('o', 'http://www.wikidata.org/entity/Q1928989'), ('oname', 'Treaty on Open Skies')]\n",
      "[('p', 'http://www.wikidata.org/prop/direct/P832'), ('pname', 'public holiday'), ('o', 'http://www.wikidata.org/entity/Q196627'), ('oname', \"New Year's Day\")]\n",
      "[('p', 'http://www.wikidata.org/prop/direct/P463'), ('pname', 'member of'), ('o', 'http://www.wikidata.org/entity/Q1969730'), ('oname', 'Schengen Area')]\n",
      "[('p', 'http://www.wikidata.org/prop/direct/P463'), ('pname', 'member of'), ('o', 'http://www.wikidata.org/entity/Q19771'), ('oname', 'G20')]\n",
      "[('p', 'http://www.wikidata.org/prop/direct/P832'), ('pname', 'public holiday'), ('o', 'http://www.wikidata.org/entity/Q19809'), ('oname', 'Christmas')]\n",
      "[('p', 'http://www.wikidata.org/prop/direct/P530'), ('pname', 'diplomatic relation'), ('o', 'http://www.wikidata.org/entity/Q20'), ('oname', 'Norway')]\n",
      "[('p', 'http://www.wikidata.org/prop/direct/P463'), ('pname', 'member of'), ('o', 'http://www.wikidata.org/entity/Q201054'), ('oname', 'International Maritime Organization')]\n",
      "[('p', 'http://www.wikidata.org/prop/direct/P832'), ('pname', 'public holiday'), ('o', 'http://www.wikidata.org/entity/Q209663'), ('oname', 'Easter Monday')]\n",
      "[('p', 'http://www.wikidata.org/prop/direct/P530'), ('pname', 'diplomatic relation'), ('o', 'http://www.wikidata.org/entity/Q211'), ('oname', 'Latvia')]\n",
      "[('p', 'http://www.wikidata.org/prop/direct/P530'), ('pname', 'diplomatic relation'), ('o', 'http://www.wikidata.org/entity/Q212'), ('oname', 'Ukraine')]\n",
      "[('p', 'http://www.wikidata.org/prop/direct/P530'), ('pname', 'diplomatic relation'), ('o', 'http://www.wikidata.org/entity/Q213'), ('oname', 'Czech Republic')]\n",
      "[('p', 'http://www.wikidata.org/prop/direct/P530'), ('pname', 'diplomatic relation'), ('o', 'http://www.wikidata.org/entity/Q214'), ('oname', 'Slovakia')]\n",
      "[('p', 'http://www.wikidata.org/prop/direct/P47'), ('pname', 'shares border with'), ('o', 'http://www.wikidata.org/entity/Q215'), ('oname', 'Slovenia')]\n",
      "[('p', 'http://www.wikidata.org/prop/direct/P530'), ('pname', 'diplomatic relation'), ('o', 'http://www.wikidata.org/entity/Q215'), ('oname', 'Slovenia')]\n",
      "[('p', 'http://www.wikidata.org/prop/direct/P530'), ('pname', 'diplomatic relation'), ('o', 'http://www.wikidata.org/entity/Q217'), ('oname', 'Moldova')]\n",
      "[('p', 'http://www.wikidata.org/prop/direct/P530'), ('pname', 'diplomatic relation'), ('o', 'http://www.wikidata.org/entity/Q218'), ('oname', 'Romania')]\n",
      "[('p', 'http://www.wikidata.org/prop/direct/P530'), ('pname', 'diplomatic relation'), ('o', 'http://www.wikidata.org/entity/Q219'), ('oname', 'Bulgaria')]\n",
      "[('p', 'http://www.wikidata.org/prop/direct/P36'), ('pname', 'capital'), ('o', 'http://www.wikidata.org/entity/Q220'), ('oname', 'Rome')]\n",
      "[('p', 'http://www.wikidata.org/prop/direct/P530'), ('pname', 'diplomatic relation'), ('o', 'http://www.wikidata.org/entity/Q221'), ('oname', 'North Macedonia')]\n",
      "[('p', 'http://www.wikidata.org/prop/direct/P530'), ('pname', 'diplomatic relation'), ('o', 'http://www.wikidata.org/entity/Q222'), ('oname', 'Albania')]\n",
      "[('p', 'http://www.wikidata.org/prop/direct/P530'), ('pname', 'diplomatic relation'), ('o', 'http://www.wikidata.org/entity/Q224'), ('oname', 'Croatia')]\n",
      "[('p', 'http://www.wikidata.org/prop/direct/P530'), ('pname', 'diplomatic relation'), ('o', 'http://www.wikidata.org/entity/Q225'), ('oname', 'Bosnia and Herzegovina')]\n",
      "[('p', 'http://www.wikidata.org/prop/direct/P530'), ('pname', 'diplomatic relation'), ('o', 'http://www.wikidata.org/entity/Q227'), ('oname', 'Azerbaijan')]\n",
      "[('p', 'http://www.wikidata.org/prop/direct/P530'), ('pname', 'diplomatic relation'), ('o', 'http://www.wikidata.org/entity/Q228'), ('oname', 'Andorra')]\n",
      "[('p', 'http://www.wikidata.org/prop/direct/P530'), ('pname', 'diplomatic relation'), ('o', 'http://www.wikidata.org/entity/Q229'), ('oname', 'Cyprus')]\n",
      "[('p', 'http://www.wikidata.org/prop/direct/P530'), ('pname', 'diplomatic relation'), ('o', 'http://www.wikidata.org/entity/Q230'), ('oname', 'Georgia')]\n",
      "[('p', 'http://www.wikidata.org/prop/direct/P47'), ('pname', 'shares border with'), ('o', 'http://www.wikidata.org/entity/Q233'), ('oname', 'Malta')]\n",
      "[('p', 'http://www.wikidata.org/prop/direct/P530'), ('pname', 'diplomatic relation'), ('o', 'http://www.wikidata.org/entity/Q233'), ('oname', 'Malta')]\n",
      "[('p', 'http://www.wikidata.org/prop/direct/P463'), ('pname', 'member of'), ('o', 'http://www.wikidata.org/entity/Q233611'), ('oname', 'International Hydrographic Organization')]\n",
      "[('p', 'http://www.wikidata.org/prop/direct/P530'), ('pname', 'diplomatic relation'), ('o', 'http://www.wikidata.org/entity/Q235'), ('oname', 'Monaco')]\n",
      "[('p', 'http://www.wikidata.org/prop/direct/P530'), ('pname', 'diplomatic relation'), ('o', 'http://www.wikidata.org/entity/Q236'), ('oname', 'Montenegro')]\n",
      "[('p', 'http://www.wikidata.org/prop/direct/P47'), ('pname', 'shares border with'), ('o', 'http://www.wikidata.org/entity/Q237'), ('oname', 'Vatican City')]\n",
      "[('p', 'http://www.wikidata.org/prop/direct/P47'), ('pname', 'shares border with'), ('o', 'http://www.wikidata.org/entity/Q238'), ('oname', 'San Marino')]\n",
      "[('p', 'http://www.wikidata.org/prop/direct/P530'), ('pname', 'diplomatic relation'), ('o', 'http://www.wikidata.org/entity/Q238'), ('oname', 'San Marino')]\n",
      "[('p', 'http://www.wikidata.org/prop/direct/P530'), ('pname', 'diplomatic relation'), ('o', 'http://www.wikidata.org/entity/Q252'), ('oname', 'Indonesia')]\n",
      "[('p', 'http://www.wikidata.org/prop/direct/P2852'), ('pname', 'emergency telephone number'), ('o', 'http://www.wikidata.org/entity/Q25648804'), ('oname', '113')]\n",
      "[('p', 'http://www.wikidata.org/prop/direct/P2852'), ('pname', 'emergency telephone number'), ('o', 'http://www.wikidata.org/entity/Q25648805'), ('oname', '115')]\n",
      "[('p', 'http://www.wikidata.org/prop/direct/P530'), ('pname', 'diplomatic relation'), ('o', 'http://www.wikidata.org/entity/Q258'), ('oname', 'South Africa')]\n",
      "[('p', 'http://www.wikidata.org/prop/direct/P1343'), ('pname', 'described by source'), ('o', 'http://www.wikidata.org/entity/Q2657718'), ('oname', 'Armenian Soviet Encyclopedia')]\n",
      "[('p', 'http://www.wikidata.org/prop/direct/P530'), ('pname', 'diplomatic relation'), ('o', 'http://www.wikidata.org/entity/Q27'), ('oname', 'Ireland')]\n",
      "[('p', 'http://www.wikidata.org/prop/direct/P530'), ('pname', 'diplomatic relation'), ('o', 'http://www.wikidata.org/entity/Q28'), ('oname', 'Hungary')]\n",
      "[('p', 'http://www.wikidata.org/prop/direct/P530'), ('pname', 'diplomatic relation'), ('o', 'http://www.wikidata.org/entity/Q29'), ('oname', 'Spain')]\n",
      "[('p', 'http://www.wikidata.org/prop/direct/P530'), ('pname', 'diplomatic relation'), ('o', 'http://www.wikidata.org/entity/Q298'), ('oname', 'Chile')]\n",
      "[('p', 'http://www.wikidata.org/prop/direct/P530'), ('pname', 'diplomatic relation'), ('o', 'http://www.wikidata.org/entity/Q30'), ('oname', 'United States of America')]\n",
      "[('p', 'http://www.wikidata.org/prop/direct/P1343'), ('pname', 'described by source'), ('o', 'http://www.wikidata.org/entity/Q302556'), ('oname', 'Catholic Encyclopedia')]\n",
      "[('p', 'http://www.wikidata.org/prop/direct/P530'), ('pname', 'diplomatic relation'), ('o', 'http://www.wikidata.org/entity/Q31'), ('oname', 'Belgium')]\n",
      "[('p', 'http://www.wikidata.org/prop/direct/P1552'), ('pname', 'has quality'), ('o', 'http://www.wikidata.org/entity/Q3174312'), ('oname', 'free country')]\n",
      "[('p', 'http://www.wikidata.org/prop/direct/P530'), ('pname', 'diplomatic relation'), ('o', 'http://www.wikidata.org/entity/Q32'), ('oname', 'Luxembourg')]\n",
      "[('p', 'http://www.wikidata.org/prop/direct/P530'), ('pname', 'diplomatic relation'), ('o', 'http://www.wikidata.org/entity/Q33'), ('oname', 'Finland')]\n",
      "[('p', 'http://www.wikidata.org/prop/direct/P1906'), ('pname', 'office held by head of state'), ('o', 'http://www.wikidata.org/entity/Q332711'), ('oname', 'President of Italy')]\n",
      "[('p', 'http://www.wikidata.org/prop/direct/P2936'), ('pname', 'language used'), ('o', 'http://www.wikidata.org/entity/Q33976'), ('oname', 'Sardinian')]\n",
      "[('p', 'http://www.wikidata.org/prop/direct/P530'), ('pname', 'diplomatic relation'), ('o', 'http://www.wikidata.org/entity/Q34'), ('oname', 'Sweden')]\n",
      "[('p', 'http://www.wikidata.org/prop/direct/P463'), ('pname', 'member of'), ('o', 'http://www.wikidata.org/entity/Q340195'), ('oname', 'African Development Bank')]\n",
      "[('p', 'http://www.wikidata.org/prop/direct/P530'), ('pname', 'diplomatic relation'), ('o', 'http://www.wikidata.org/entity/Q347'), ('oname', 'Liechtenstein')]\n",
      "[('p', 'http://www.wikidata.org/prop/direct/P530'), ('pname', 'diplomatic relation'), ('o', 'http://www.wikidata.org/entity/Q35'), ('oname', 'Denmark')]\n",
      "[('p', 'http://www.wikidata.org/prop/direct/P530'), ('pname', 'diplomatic relation'), ('o', 'http://www.wikidata.org/entity/Q36'), ('oname', 'Poland')]\n",
      "[('p', 'http://www.wikidata.org/prop/direct/P31'), ('pname', 'instance of'), ('o', 'http://www.wikidata.org/entity/Q3624078'), ('oname', 'sovereign state')]\n",
      "[('p', 'http://www.wikidata.org/prop/direct/P530'), ('pname', 'diplomatic relation'), ('o', 'http://www.wikidata.org/entity/Q36704'), ('oname', 'Yugoslavia')]\n",
      "[('p', 'http://www.wikidata.org/prop/direct/P530'), ('pname', 'diplomatic relation'), ('o', 'http://www.wikidata.org/entity/Q37'), ('oname', 'Lithuania')]\n",
      "[('p', 'http://www.wikidata.org/prop/direct/P463'), ('pname', 'member of'), ('o', 'http://www.wikidata.org/entity/Q37143'), ('oname', 'G8')]\n",
      "[('p', 'http://www.wikidata.org/prop/direct/P463'), ('pname', 'member of'), ('o', 'http://www.wikidata.org/entity/Q376150'), ('oname', 'International Telecommunication Union')]\n",
      "[('p', 'http://www.wikidata.org/prop/direct/P463'), ('pname', 'member of'), ('o', 'http://www.wikidata.org/entity/Q3772571'), ('oname', 'Caribbean Development Bank')]\n",
      "[('p', 'http://www.wikidata.org/prop/direct/P17'), ('pname', 'country'), ('o', 'http://www.wikidata.org/entity/Q38'), ('oname', 'Italy')]\n",
      "[('p', 'http://www.wikidata.org/prop/direct/P463'), ('pname', 'member of'), ('o', 'http://www.wikidata.org/entity/Q386120'), ('oname', 'United Nations Industrial Development Organization')]\n",
      "[('p', 'http://www.wikidata.org/prop/direct/P463'), ('pname', 'member of'), ('o', 'http://www.wikidata.org/entity/Q3866537'), ('oname', 'Movement Coordination Centre Europe')]\n",
      "[('p', 'http://www.wikidata.org/prop/direct/P47'), ('pname', 'shares border with'), ('o', 'http://www.wikidata.org/entity/Q39'), ('oname', 'Switzerland')]\n",
      "[('p', 'http://www.wikidata.org/prop/direct/P530'), ('pname', 'diplomatic relation'), ('o', 'http://www.wikidata.org/entity/Q39'), ('oname', 'Switzerland')]\n",
      "[('p', 'http://www.wikidata.org/prop/direct/P530'), ('pname', 'diplomatic relation'), ('o', 'http://www.wikidata.org/entity/Q399'), ('oname', 'Armenia')]\n",
      "[('p', 'http://www.wikidata.org/prop/direct/P47'), ('pname', 'shares border with'), ('o', 'http://www.wikidata.org/entity/Q40'), ('oname', 'Austria')]\n",
      "[('p', 'http://www.wikidata.org/prop/direct/P530'), ('pname', 'diplomatic relation'), ('o', 'http://www.wikidata.org/entity/Q40'), ('oname', 'Austria')]\n",
      "[('p', 'http://www.wikidata.org/prop/direct/P530'), ('pname', 'diplomatic relation'), ('o', 'http://www.wikidata.org/entity/Q403'), ('oname', 'Serbia')]\n",
      "[('p', 'http://www.wikidata.org/prop/direct/P530'), ('pname', 'diplomatic relation'), ('o', 'http://www.wikidata.org/entity/Q408'), ('oname', 'Australia')]\n",
      "[('p', 'http://www.wikidata.org/prop/direct/P1343'), ('pname', 'described by source'), ('o', 'http://www.wikidata.org/entity/Q4086271'), ('oname', 'Bible Encyclopedia of Archimandrite Nicephorus')]\n",
      "[('p', 'http://www.wikidata.org/prop/direct/P530'), ('pname', 'diplomatic relation'), ('o', 'http://www.wikidata.org/entity/Q41'), ('oname', 'Greece')]\n",
      "[('p', 'http://www.wikidata.org/prop/direct/P1343'), ('pname', 'described by source'), ('o', 'http://www.wikidata.org/entity/Q4114391'), ('oname', 'Sytin Military Encyclopedia')]\n",
      "[('p', 'http://www.wikidata.org/prop/direct/P530'), ('pname', 'diplomatic relation'), ('o', 'http://www.wikidata.org/entity/Q414'), ('oname', 'Argentina')]\n",
      "[('p', 'http://www.wikidata.org/prop/direct/P463'), ('pname', 'member of'), ('o', 'http://www.wikidata.org/entity/Q41550'), ('oname', 'Organisation for Economic Cooperation and Development')]\n",
      "[('p', 'http://www.wikidata.org/prop/direct/P1343'), ('pname', 'described by source'), ('o', 'http://www.wikidata.org/entity/Q4173137'), ('oname', 'Jewish Encyclopedia of Brockhaus and Efron')]\n",
      "[('p', 'http://www.wikidata.org/prop/direct/P530'), ('pname', 'diplomatic relation'), ('o', 'http://www.wikidata.org/entity/Q419'), ('oname', 'Peru')]\n",
      "[('p', 'http://www.wikidata.org/prop/direct/P463'), ('pname', 'member of'), ('o', 'http://www.wikidata.org/entity/Q41984'), ('oname', 'International Atomic Energy Agency')]\n",
      "[('p', 'http://www.wikidata.org/prop/direct/P122'), ('pname', 'basic form of government'), ('o', 'http://www.wikidata.org/entity/Q4198907'), ('oname', 'parliamentary republic')]\n",
      "[('p', 'http://www.wikidata.org/prop/direct/P463'), ('pname', 'member of'), ('o', 'http://www.wikidata.org/entity/Q42262'), ('oname', 'European Space Agency')]\n",
      "[('p', 'http://www.wikidata.org/prop/direct/P530'), ('pname', 'diplomatic relation'), ('o', 'http://www.wikidata.org/entity/Q423'), ('oname', 'North Korea')]\n",
      "[('p', 'http://www.wikidata.org/prop/direct/P463'), ('pname', 'member of'), ('o', 'http://www.wikidata.org/entity/Q42944'), ('oname', 'CERN')]\n",
      "[('p', 'http://www.wikidata.org/prop/direct/P530'), ('pname', 'diplomatic relation'), ('o', 'http://www.wikidata.org/entity/Q43'), ('oname', 'Turkey')]\n",
      "[('p', 'http://www.wikidata.org/prop/direct/P530'), ('pname', 'diplomatic relation'), ('o', 'http://www.wikidata.org/entity/Q45'), ('oname', 'Portugal')]\n",
      "[('p', 'http://www.wikidata.org/prop/direct/P463'), ('pname', 'member of'), ('o', 'http://www.wikidata.org/entity/Q45177'), ('oname', 'Visa Waiver Program')]\n",
      "[('p', 'http://www.wikidata.org/prop/direct/P463'), ('pname', 'member of'), ('o', 'http://www.wikidata.org/entity/Q458'), ('oname', 'European Union')]\n",
      "[('p', 'http://www.wikidata.org/prop/direct/P30'), ('pname', 'continent'), ('o', 'http://www.wikidata.org/entity/Q46'), ('oname', 'Europe')]\n",
      "[('p', 'http://www.wikidata.org/prop/direct/P361'), ('pname', 'part of'), ('o', 'http://www.wikidata.org/entity/Q46'), ('oname', 'Europe')]\n",
      "[('p', 'http://www.wikidata.org/prop/direct/P463'), ('pname', 'member of'), ('o', 'http://www.wikidata.org/entity/Q47488'), ('oname', 'International Criminal Court')]\n",
      "[('p', 'http://www.wikidata.org/prop/direct/P832'), ('pname', 'public holiday'), ('o', 'http://www.wikidata.org/entity/Q47499'), ('oname', \"International Workers' Day\")]\n",
      "[('p', 'http://www.wikidata.org/prop/direct/P38'), ('pname', 'currency'), ('o', 'http://www.wikidata.org/entity/Q4916'), ('oname', 'euro')]\n",
      "[('p', 'http://www.wikidata.org/prop/direct/P206'), ('pname', 'located in or next to body of water'), ('o', 'http://www.wikidata.org/entity/Q4918'), ('oname', 'Mediterranean Sea')]\n",
      "[('p', 'http://www.wikidata.org/prop/direct/P463'), ('pname', 'member of'), ('o', 'http://www.wikidata.org/entity/Q521227'), ('oname', 'Organisation for Joint Armament Cooperation')]\n",
      "[('p', 'http://www.wikidata.org/prop/direct/P463'), ('pname', 'member of'), ('o', 'http://www.wikidata.org/entity/Q54129'), ('oname', 'International Labour Organization')]\n",
      "[('p', 'http://www.wikidata.org/prop/direct/P5008'), ('pname', 'on focus list of Wikimedia project'), ('o', 'http://www.wikidata.org/entity/Q54439832'), ('oname', 'WikiProject Zika Corpus')]\n",
      "[('p', 'http://www.wikidata.org/prop/direct/P5008'), ('pname', 'on focus list of Wikimedia project'), ('o', 'http://www.wikidata.org/entity/Q5460604'), ('oname', 'Wikipedia:Vital articles')]\n",
      "[('p', 'http://www.wikidata.org/prop/direct/P530'), ('pname', 'diplomatic relation'), ('o', 'http://www.wikidata.org/entity/Q55'), ('oname', 'Netherlands')]\n",
      "[('p', 'http://www.wikidata.org/prop/direct/P463'), ('pname', 'member of'), ('o', 'http://www.wikidata.org/entity/Q5611262'), ('oname', 'Group on Earth Observations')]\n",
      "[('p', 'http://www.wikidata.org/prop/direct/P832'), ('pname', 'public holiday'), ('o', 'http://www.wikidata.org/entity/Q587'), ('oname', \"All Saints' Day\")]\n",
      "[('p', 'http://www.wikidata.org/prop/direct/P1343'), ('pname', 'described by source'), ('o', 'http://www.wikidata.org/entity/Q602358'), ('oname', 'Brockhaus and Efron Encyclopedic Dictionary')]\n",
      "[('p', 'http://www.wikidata.org/prop/direct/P463'), ('pname', 'member of'), ('o', 'http://www.wikidata.org/entity/Q61923'), ('oname', 'World Tourism Organization')]\n",
      "[('p', 'http://www.wikidata.org/prop/direct/P31'), ('pname', 'instance of'), ('o', 'http://www.wikidata.org/entity/Q6256'), ('oname', 'country')]\n",
      "[('p', 'http://www.wikidata.org/prop/direct/P2936'), ('pname', 'language used'), ('o', 'http://www.wikidata.org/entity/Q652'), ('oname', 'Italian')]\n",
      "[('p', 'http://www.wikidata.org/prop/direct/P37'), ('pname', 'official language'), ('o', 'http://www.wikidata.org/entity/Q652'), ('oname', 'Italian')]\n",
      "[('p', 'http://www.wikidata.org/prop/direct/P463'), ('pname', 'member of'), ('o', 'http://www.wikidata.org/entity/Q656801'), ('oname', 'International Finance Corporation')]\n",
      "[('p', 'http://www.wikidata.org/prop/direct/P463'), ('pname', 'member of'), ('o', 'http://www.wikidata.org/entity/Q663492'), ('oname', 'Eurocontrol')]\n",
      "[('p', 'http://www.wikidata.org/prop/direct/P530'), ('pname', 'diplomatic relation'), ('o', 'http://www.wikidata.org/entity/Q664'), ('oname', 'New Zealand')]\n",
      "[('p', 'http://www.wikidata.org/prop/direct/P530'), ('pname', 'diplomatic relation'), ('o', 'http://www.wikidata.org/entity/Q668'), ('oname', 'India')]\n",
      "[('p', 'http://www.wikidata.org/prop/direct/P463'), ('pname', 'member of'), ('o', 'http://www.wikidata.org/entity/Q689859'), ('oname', 'International Fund for Agricultural Development')]\n",
      "[('p', 'http://www.wikidata.org/prop/direct/P463'), ('pname', 'member of'), ('o', 'http://www.wikidata.org/entity/Q7184'), ('oname', 'NATO')]\n",
      "[('p', 'http://www.wikidata.org/prop/direct/P530'), ('pname', 'diplomatic relation'), ('o', 'http://www.wikidata.org/entity/Q733'), ('oname', 'Paraguay')]\n",
      "[('p', 'http://www.wikidata.org/prop/direct/P530'), ('pname', 'diplomatic relation'), ('o', 'http://www.wikidata.org/entity/Q739'), ('oname', 'Colombia')]\n",
      "[('p', 'http://www.wikidata.org/prop/direct/P530'), ('pname', 'diplomatic relation'), ('o', 'http://www.wikidata.org/entity/Q77'), ('oname', 'Uruguay')]\n",
      "[('p', 'http://www.wikidata.org/prop/direct/P463'), ('pname', 'member of'), ('o', 'http://www.wikidata.org/entity/Q7804'), ('oname', 'International Monetary Fund')]\n",
      "[('p', 'http://www.wikidata.org/prop/direct/P463'), ('pname', 'member of'), ('o', 'http://www.wikidata.org/entity/Q7809'), ('oname', 'UNESCO')]\n",
      "[('p', 'http://www.wikidata.org/prop/direct/P463'), ('pname', 'member of'), ('o', 'http://www.wikidata.org/entity/Q7817'), ('oname', 'World Health Organization')]\n",
      "[('p', 'http://www.wikidata.org/prop/direct/P463'), ('pname', 'member of'), ('o', 'http://www.wikidata.org/entity/Q7825'), ('oname', 'World Trade Organization')]\n",
      "[('p', 'http://www.wikidata.org/prop/direct/P463'), ('pname', 'member of'), ('o', 'http://www.wikidata.org/entity/Q782942'), ('oname', 'Australia Group')]\n",
      "[('p', 'http://www.wikidata.org/prop/direct/P530'), ('pname', 'diplomatic relation'), ('o', 'http://www.wikidata.org/entity/Q79'), ('oname', 'Egypt')]\n",
      "[('p', 'http://www.wikidata.org/prop/direct/P530'), ('pname', 'diplomatic relation'), ('o', 'http://www.wikidata.org/entity/Q794'), ('oname', 'Iran')]\n",
      "[('p', 'http://www.wikidata.org/prop/direct/P530'), ('pname', 'diplomatic relation'), ('o', 'http://www.wikidata.org/entity/Q796'), ('oname', 'Iraq')]\n",
      "[('p', 'http://www.wikidata.org/prop/direct/P530'), ('pname', 'diplomatic relation'), ('o', 'http://www.wikidata.org/entity/Q801'), ('oname', 'Israel')]\n",
      "[('p', 'http://www.wikidata.org/prop/direct/P530'), ('pname', 'diplomatic relation'), ('o', 'http://www.wikidata.org/entity/Q805'), ('oname', 'Yemen')]\n",
      "[('p', 'http://www.wikidata.org/prop/direct/P463'), ('pname', 'member of'), ('o', 'http://www.wikidata.org/entity/Q81299'), ('oname', 'Organization for Security and Co-operation in Europe')]\n",
      "[('p', 'http://www.wikidata.org/prop/direct/P463'), ('pname', 'member of'), ('o', 'http://www.wikidata.org/entity/Q82151'), ('oname', 'Food and Agriculture Organization')]\n",
      "[('p', 'http://www.wikidata.org/prop/direct/P530'), ('pname', 'diplomatic relation'), ('o', 'http://www.wikidata.org/entity/Q822'), ('oname', 'Lebanon')]\n",
      "[('p', 'http://www.wikidata.org/prop/direct/P463'), ('pname', 'member of'), ('o', 'http://www.wikidata.org/entity/Q826700'), ('oname', 'International Energy Agency')]\n",
      "[('p', 'http://www.wikidata.org/prop/direct/P463'), ('pname', 'member of'), ('o', 'http://www.wikidata.org/entity/Q827525'), ('oname', 'International Development Association')]\n",
      "[('p', 'http://www.wikidata.org/prop/direct/P463'), ('pname', 'member of'), ('o', 'http://www.wikidata.org/entity/Q842490'), ('oname', 'Organisation for the Prohibition of Chemical Weapons')]\n",
      "[('p', 'http://www.wikidata.org/prop/direct/P530'), ('pname', 'diplomatic relation'), ('o', 'http://www.wikidata.org/entity/Q843'), ('oname', 'Pakistan')]\n",
      "[('p', 'http://www.wikidata.org/prop/direct/P463'), ('pname', 'member of'), ('o', 'http://www.wikidata.org/entity/Q8475'), ('oname', 'Interpol')]\n",
      "[('p', 'http://www.wikidata.org/prop/direct/P530'), ('pname', 'diplomatic relation'), ('o', 'http://www.wikidata.org/entity/Q865'), ('oname', 'Taiwan')]\n",
      "[('p', 'http://www.wikidata.org/prop/direct/P1343'), ('pname', 'described by source'), ('o', 'http://www.wikidata.org/entity/Q867541'), ('oname', 'Encyclopædia Britannica 11th edition')]\n",
      "[('p', 'http://www.wikidata.org/prop/direct/P530'), ('pname', 'diplomatic relation'), ('o', 'http://www.wikidata.org/entity/Q869'), ('oname', 'Thailand')]\n",
      "[('p', 'http://www.wikidata.org/prop/direct/P530'), ('pname', 'diplomatic relation'), ('o', 'http://www.wikidata.org/entity/Q881'), ('oname', 'Vietnam')]\n",
      "[('p', 'http://www.wikidata.org/prop/direct/P530'), ('pname', 'diplomatic relation'), ('o', 'http://www.wikidata.org/entity/Q884'), ('oname', 'South Korea')]\n",
      "[('p', 'http://www.wikidata.org/prop/direct/P530'), ('pname', 'diplomatic relation'), ('o', 'http://www.wikidata.org/entity/Q889'), ('oname', 'Afghanistan')]\n",
      "[('p', 'http://www.wikidata.org/prop/direct/P463'), ('pname', 'member of'), ('o', 'http://www.wikidata.org/entity/Q8908'), ('oname', 'Council of Europe')]\n",
      "[('p', 'http://www.wikidata.org/prop/direct/P463'), ('pname', 'member of'), ('o', 'http://www.wikidata.org/entity/Q899770'), ('oname', 'International Centre for Settlement of Investment Disputes')]\n",
      "[('p', 'http://www.wikidata.org/prop/direct/P530'), ('pname', 'diplomatic relation'), ('o', 'http://www.wikidata.org/entity/Q902'), ('oname', 'Bangladesh')]\n",
      "[('p', 'http://www.wikidata.org/prop/direct/P2936'), ('pname', 'language used'), ('o', 'http://www.wikidata.org/entity/Q9063'), ('oname', 'Slovene')]\n",
      "[('p', 'http://www.wikidata.org/prop/direct/P530'), ('pname', 'diplomatic relation'), ('o', 'http://www.wikidata.org/entity/Q928'), ('oname', 'Philippines')]\n",
      "[('p', 'http://www.wikidata.org/prop/direct/P530'), ('pname', 'diplomatic relation'), ('o', 'http://www.wikidata.org/entity/Q948'), ('oname', 'Tunisia')]\n",
      "[('p', 'http://www.wikidata.org/prop/direct/P530'), ('pname', 'diplomatic relation'), ('o', 'http://www.wikidata.org/entity/Q96'), ('oname', 'Mexico')]\n",
      "[('p', 'http://www.wikidata.org/prop/direct/P2936'), ('pname', 'language used'), ('o', 'http://www.wikidata.org/entity/Q1057898'), ('oname', 'Emilian')]\n",
      "[('p', 'http://www.wikidata.org/prop/direct/P150'), ('pname', 'contains administrative territorial entity'), ('o', 'http://www.wikidata.org/entity/Q1250'), ('oname', 'Friuli-Venezia Giulia')]\n",
      "[('p', 'http://www.wikidata.org/prop/direct/P150'), ('pname', 'contains administrative territorial entity'), ('o', 'http://www.wikidata.org/entity/Q1279'), ('oname', 'Marche')]\n",
      "[('p', 'http://www.wikidata.org/prop/direct/P150'), ('pname', 'contains administrative territorial entity'), ('o', 'http://www.wikidata.org/entity/Q1280'), ('oname', 'Umbria')]\n",
      "[('p', 'http://www.wikidata.org/prop/direct/P150'), ('pname', 'contains administrative territorial entity'), ('o', 'http://www.wikidata.org/entity/Q1284'), ('oname', 'Abruzzo')]\n",
      "[('p', 'http://www.wikidata.org/prop/direct/P2936'), ('pname', 'language used'), ('o', 'http://www.wikidata.org/entity/Q14185'), ('oname', 'Occitan')]\n",
      "[('p', 'http://www.wikidata.org/prop/direct/P150'), ('pname', 'contains administrative territorial entity'), ('o', 'http://www.wikidata.org/entity/Q1438'), ('oname', 'Campania')]\n",
      "[('p', 'http://www.wikidata.org/prop/direct/P150'), ('pname', 'contains administrative territorial entity'), ('o', 'http://www.wikidata.org/entity/Q1447'), ('oname', 'Apulia')]\n",
      "[('p', 'http://www.wikidata.org/prop/direct/P150'), ('pname', 'contains administrative territorial entity'), ('o', 'http://www.wikidata.org/entity/Q1458'), ('oname', 'Calabria')]\n",
      "[('p', 'http://www.wikidata.org/prop/direct/P150'), ('pname', 'contains administrative territorial entity'), ('o', 'http://www.wikidata.org/entity/Q1460'), ('oname', 'Sicily')]\n",
      "[('p', 'http://www.wikidata.org/prop/direct/P150'), ('pname', 'contains administrative territorial entity'), ('o', 'http://www.wikidata.org/entity/Q1462'), ('oname', 'Sardinia')]\n",
      "[('p', 'http://www.wikidata.org/prop/direct/P2936'), ('pname', 'language used'), ('o', 'http://www.wikidata.org/entity/Q15085'), ('oname', 'Piedmontese')]\n",
      "[('p', 'http://www.wikidata.org/prop/direct/P2936'), ('pname', 'language used'), ('o', 'http://www.wikidata.org/entity/Q15087'), ('oname', 'Franco-Provençal')]\n",
      "[('p', 'http://www.wikidata.org/prop/direct/P85'), ('pname', 'anthem'), ('o', 'http://www.wikidata.org/entity/Q187'), ('oname', 'Il Canto degli Italiani')]\n",
      "[('p', 'http://www.wikidata.org/prop/direct/P706'), ('pname', 'located in/on physical feature'), ('o', 'http://www.wikidata.org/entity/Q27449'), ('oname', 'Southern Europe')]\n",
      "[('p', 'http://www.wikidata.org/prop/direct/P2936'), ('pname', 'language used'), ('o', 'http://www.wikidata.org/entity/Q32724'), ('oname', 'Venetian')]\n",
      "[('p', 'http://www.wikidata.org/prop/direct/P2936'), ('pname', 'language used'), ('o', 'http://www.wikidata.org/entity/Q33754'), ('oname', 'Lombard')]\n",
      "[('p', 'http://www.wikidata.org/prop/direct/P206'), ('pname', 'located in or next to body of water'), ('o', 'http://www.wikidata.org/entity/Q37495'), ('oname', 'Ionian Sea')]\n",
      "[('p', 'http://www.wikidata.org/prop/direct/P208'), ('pname', 'executive body'), ('o', 'http://www.wikidata.org/entity/Q3773971'), ('oname', 'Government of Italy')]\n",
      "[('p', 'http://www.wikidata.org/prop/direct/P610'), ('pname', 'highest point'), ('o', 'http://www.wikidata.org/entity/Q583'), ('oname', 'Mont Blanc')]\n",
      "[('p', 'http://www.wikidata.org/prop/direct/P2936'), ('pname', 'language used'), ('o', 'http://www.wikidata.org/entity/Q612220'), ('oname', 'Gallurese')]\n",
      "[('p', 'http://www.wikidata.org/prop/direct/P417'), ('pname', 'patron saint'), ('o', 'http://www.wikidata.org/entity/Q676555'), ('oname', 'Francis of Assisi')]\n",
      "[('p', 'http://www.wikidata.org/prop/direct/P2936'), ('pname', 'language used'), ('o', 'http://www.wikidata.org/entity/Q680517'), ('oname', 'Walser German')]\n",
      "[('p', 'http://www.wikidata.org/prop/direct/P92'), ('pname', 'main regulatory text'), ('o', 'http://www.wikidata.org/entity/Q719967'), ('oname', 'Constitution of Italy')]\n",
      "[('p', 'http://www.wikidata.org/prop/direct/P2936'), ('pname', 'language used'), ('o', 'http://www.wikidata.org/entity/Q777974'), ('oname', 'Logudorese')]\n",
      "[('p', 'http://www.wikidata.org/prop/direct/P463'), ('pname', 'member of'), ('o', 'http://www.wikidata.org/entity/Q132551'), ('oname', 'United Nations High Commissioner for Refugees')]\n",
      "[('p', 'http://www.wikidata.org/prop/direct/P9241'), ('pname', 'demographics of topic'), ('o', 'http://www.wikidata.org/entity/Q1800338'), ('oname', 'demographics of Italy')]\n",
      "[('p', 'http://www.wikidata.org/prop/direct/P194'), ('pname', 'legislative body'), ('o', 'http://www.wikidata.org/entity/Q1117578'), ('oname', 'Italian Parliament')]\n",
      "[('p', 'http://www.wikidata.org/prop/direct/P1791'), ('pname', 'category of people buried here'), ('o', 'http://www.wikidata.org/entity/Q8328654'), ('oname', 'Category:Burials in Italy')]\n",
      "[('p', 'http://www.wikidata.org/prop/direct/P150'), ('pname', 'contains administrative territorial entity'), ('o', 'http://www.wikidata.org/entity/Q1256'), ('oname', 'Liguria')]\n",
      "[('p', 'http://www.wikidata.org/prop/direct/P150'), ('pname', 'contains administrative territorial entity'), ('o', 'http://www.wikidata.org/entity/Q1443'), ('oname', 'Molise')]\n",
      "[('p', 'http://www.wikidata.org/prop/direct/P2936'), ('pname', 'language used'), ('o', 'http://www.wikidata.org/entity/Q35754'), ('oname', 'International Sign')]\n",
      "[('p', 'http://www.wikidata.org/prop/direct/P2936'), ('pname', 'language used'), ('o', 'http://www.wikidata.org/entity/Q36106'), ('oname', 'Ligurian')]\n",
      "[('p', 'http://www.wikidata.org/prop/direct/P2936'), ('pname', 'language used'), ('o', 'http://www.wikidata.org/entity/Q36202'), ('oname', 'Ladin')]\n",
      "[('p', 'http://www.wikidata.org/prop/direct/P2936'), ('pname', 'language used'), ('o', 'http://www.wikidata.org/entity/Q36254'), ('oname', 'Slavomolisano')]\n",
      "[('p', 'http://www.wikidata.org/prop/direct/P2936'), ('pname', 'language used'), ('o', 'http://www.wikidata.org/entity/Q37053'), ('oname', 'Cimbrian')]\n",
      "[('p', 'http://www.wikidata.org/prop/direct/P206'), ('pname', 'located in or next to body of water'), ('o', 'http://www.wikidata.org/entity/Q38882'), ('oname', 'Tyrrhenian Sea')]\n",
      "[('p', 'http://www.wikidata.org/prop/direct/P206'), ('pname', 'located in or next to body of water'), ('o', 'http://www.wikidata.org/entity/Q42820'), ('oname', 'Ligurian Sea')]\n",
      "[('p', 'http://www.wikidata.org/prop/direct/P1313'), ('pname', 'office held by head of government'), ('o', 'http://www.wikidata.org/entity/Q796897'), ('oname', 'Prime Minister of Italy')]\n",
      "[('p', 'http://www.wikidata.org/prop/direct/P1419'), ('pname', 'shape'), ('o', 'http://www.wikidata.org/entity/Q190868'), ('oname', 'boot')]\n",
      "[('p', 'http://www.wikidata.org/prop/direct/P150'), ('pname', 'contains administrative territorial entity'), ('o', 'http://www.wikidata.org/entity/Q1282'), ('oname', 'Lazio')]\n",
      "[('p', 'http://www.wikidata.org/prop/direct/P2596'), ('pname', 'culture'), ('o', 'http://www.wikidata.org/entity/Q1992919'), ('oname', 'culture of Italy')]\n",
      "[('p', 'http://www.wikidata.org/prop/direct/P2936'), ('pname', 'language used'), ('o', 'http://www.wikidata.org/entity/Q33111'), ('oname', 'Corsican')]\n",
      "[('p', 'http://www.wikidata.org/prop/direct/P832'), ('pname', 'public holiday'), ('o', 'http://www.wikidata.org/entity/Q21196'), ('oname', 'Easter')]\n",
      "[('p', 'http://www.wikidata.org/prop/direct/P832'), ('pname', 'public holiday'), ('o', 'http://www.wikidata.org/entity/Q132001'), ('oname', 'Epiphany')]\n",
      "[('p', 'http://www.wikidata.org/prop/direct/P2936'), ('pname', 'language used'), ('o', 'http://www.wikidata.org/entity/Q1075302'), ('oname', 'Arbëresh')]\n",
      "[('p', 'http://www.wikidata.org/prop/direct/P2936'), ('pname', 'language used'), ('o', 'http://www.wikidata.org/entity/Q1641543'), ('oname', 'Romagnol')]\n",
      "[('p', 'http://www.wikidata.org/prop/direct/P417'), ('pname', 'patron saint'), ('o', 'http://www.wikidata.org/entity/Q229190'), ('oname', 'Catherine of Siena')]\n",
      "[('p', 'http://www.wikidata.org/prop/direct/P463'), ('pname', 'member of'), ('o', 'http://www.wikidata.org/entity/Q699036'), ('oname', 'United Nations Truce Supervision Organization')]\n",
      "[('p', 'http://www.wikidata.org/prop/direct/P2936'), ('pname', 'language used'), ('o', 'http://www.wikidata.org/entity/Q35348'), ('oname', 'Campidanese')]\n",
      "[('p', 'http://www.wikidata.org/prop/direct/P1740'), ('pname', 'category for films shot at this location'), ('o', 'http://www.wikidata.org/entity/Q7140608'), ('oname', 'Category:Films shot in Italy')]\n",
      "[('p', 'http://www.wikidata.org/prop/direct/P463'), ('pname', 'member of'), ('o', 'http://www.wikidata.org/entity/Q176815'), ('oname', 'Interparliamentary Union')]\n",
      "[('p', 'http://www.wikidata.org/prop/direct/P1465'), ('pname', 'category for people who died here'), ('o', 'http://www.wikidata.org/entity/Q6334620'), ('oname', 'Category:Deaths in Italy')]\n",
      "[('p', 'http://www.wikidata.org/prop/direct/P832'), ('pname', 'public holiday'), ('o', 'http://www.wikidata.org/entity/Q1366863'), ('oname', \"St. Stephen's Day\")]\n",
      "[('p', 'http://www.wikidata.org/prop/direct/P832'), ('pname', 'public holiday'), ('o', 'http://www.wikidata.org/entity/Q3538509'), ('oname', 'Feast of the Immaculate Conception')]\n",
      "[('p', 'http://www.wikidata.org/prop/direct/P463'), ('pname', 'member of'), ('o', 'http://www.wikidata.org/entity/Q182000'), ('oname', 'United Nations Conference on Trade and Development')]\n",
      "[('p', 'http://www.wikidata.org/prop/direct/P2633'), ('pname', 'geography of topic'), ('o', 'http://www.wikidata.org/entity/Q216989'), ('oname', 'geography of Italy')]\n",
      "[('p', 'http://www.wikidata.org/prop/direct/P6'), ('pname', 'head of government'), ('o', 'http://www.wikidata.org/entity/Q294460'), ('oname', 'Mario Draghi')]\n",
      "[('p', 'http://www.wikidata.org/prop/direct/P463'), ('pname', 'member of'), ('o', 'http://www.wikidata.org/entity/Q7178'), ('oname', 'International Red Cross and Red Crescent Movement')]\n",
      "[('p', 'http://www.wikidata.org/prop/direct/P35'), ('pname', 'head of state'), ('o', 'http://www.wikidata.org/entity/Q3956186'), ('oname', 'Sergio Mattarella')]\n",
      "[('p', 'http://www.wikidata.org/prop/direct/P6104'), ('pname', 'maintained by WikiProject'), ('o', 'http://www.wikidata.org/entity/Q6876022'), ('oname', 'WikiProject Italy')]\n",
      "[('p', 'http://www.wikidata.org/prop/direct/P2936'), ('pname', 'language used'), ('o', 'http://www.wikidata.org/entity/Q375619'), ('oname', 'Italian Sign Language')]\n",
      "[('p', 'http://www.wikidata.org/prop/direct/P1464'), ('pname', 'category for people born here'), ('o', 'http://www.wikidata.org/entity/Q9229082'), ('oname', 'Category:Births in Italy')]\n",
      "[('p', 'http://www.wikidata.org/prop/direct/P463'), ('pname', 'member of'), ('o', 'http://www.wikidata.org/entity/Q52847'), ('oname', 'European Economic Community')]\n",
      "[('p', 'http://www.wikidata.org/prop/direct/P706'), ('pname', 'located in/on physical feature'), ('o', 'http://www.wikidata.org/entity/Q72499'), ('oname', 'Mediterranean Basin')]\n",
      "[('p', 'http://www.wikidata.org/prop/direct/P8744'), ('pname', 'economy of topic'), ('o', 'http://www.wikidata.org/entity/Q720060'), ('oname', 'economy of Italy')]\n",
      "[('p', 'http://www.wikidata.org/prop/direct/P463'), ('pname', 'member of'), ('o', 'http://www.wikidata.org/entity/Q605326'), ('oname', 'World Customs Organization')]\n",
      "[('p', 'http://www.wikidata.org/prop/direct/P463'), ('pname', 'member of'), ('o', 'http://www.wikidata.org/entity/Q472311'), ('oname', 'International Organization for Migration')]\n",
      "[('p', 'http://www.wikidata.org/prop/direct/P463'), ('pname', 'member of'), ('o', 'http://www.wikidata.org/entity/Q309195'), ('oname', 'Bank for International Settlements')]\n",
      "[('p', 'http://www.wikidata.org/prop/direct/P463'), ('pname', 'member of'), ('o', 'http://www.wikidata.org/entity/Q1045198'), ('oname', 'Permanent Court of Arbitration')]\n",
      "[('p', 'http://www.wikidata.org/prop/direct/P1151'), ('pname', \"topic's main Wikimedia portal\"), ('o', 'http://www.wikidata.org/entity/Q10631821'), ('oname', 'Portal:Italy')]\n",
      "[('p', 'http://www.wikidata.org/prop/direct/P2852'), ('pname', 'emergency telephone number'), ('o', 'http://www.wikidata.org/entity/Q11185210'), ('oname', '118')]\n",
      "[('p', 'http://www.wikidata.org/prop/direct/P209'), ('pname', 'highest judicial authority'), ('o', 'http://www.wikidata.org/entity/Q1135541'), ('oname', 'Supreme Court of Cassation')]\n",
      "[('p', 'http://www.wikidata.org/prop/direct/P2936'), ('pname', 'language used'), ('o', 'http://www.wikidata.org/entity/Q1145414'), ('oname', 'Judæo-Italian languages')]\n",
      "[('p', 'http://www.wikidata.org/prop/direct/P832'), ('pname', 'public holiday'), ('o', 'http://www.wikidata.org/entity/Q1262719'), ('oname', 'Ferragosto')]\n",
      "[('p', 'http://www.wikidata.org/prop/direct/P463'), ('pname', 'member of'), ('o', 'http://www.wikidata.org/entity/Q1374456'), ('oname', 'Euro-Atlantic Partnership Council')]\n",
      "[('p', 'http://www.wikidata.org/prop/direct/P910'), ('pname', \"topic's main category\"), ('o', 'http://www.wikidata.org/entity/Q1410903'), ('oname', 'Category:Italy')]\n",
      "[('p', 'http://www.wikidata.org/prop/direct/P463'), ('pname', 'member of'), ('o', 'http://www.wikidata.org/entity/Q1411881'), ('oname', 'Group of Ten')]\n",
      "[('p', 'http://www.wikidata.org/prop/direct/P463'), ('pname', 'member of'), ('o', 'http://www.wikidata.org/entity/Q1666759'), ('oname', 'International Mobile Satellite Organization')]\n",
      "[('p', 'http://www.wikidata.org/prop/direct/P463'), ('pname', 'member of'), ('o', 'http://www.wikidata.org/entity/Q18816843'), ('oname', 'Procurement G6')]\n",
      "[('p', 'http://www.wikidata.org/prop/direct/P237'), ('pname', 'coat of arms'), ('o', 'http://www.wikidata.org/entity/Q199432'), ('oname', 'emblem of Italy')]\n",
      "[('p', 'http://www.wikidata.org/prop/direct/P2936'), ('pname', 'language used'), ('o', 'http://www.wikidata.org/entity/Q268130'), ('oname', 'Mòcheno')]\n",
      "[('p', 'http://www.wikidata.org/prop/direct/P832'), ('pname', 'public holiday'), ('o', 'http://www.wikidata.org/entity/Q2851732'), ('oname', 'Anniversary of the liberation of Italy')]\n",
      "[('p', 'http://www.wikidata.org/prop/direct/P1589'), ('pname', 'lowest point'), ('o', 'http://www.wikidata.org/entity/Q3687778'), ('oname', 'Contane')]\n",
      "[('p', 'http://www.wikidata.org/prop/direct/P78'), ('pname', 'top-level Internet domain'), ('o', 'http://www.wikidata.org/entity/Q39155'), ('oname', '.it')]\n",
      "[('p', 'http://www.wikidata.org/prop/direct/P421'), ('pname', 'located in time zone'), ('o', 'http://www.wikidata.org/entity/Q5412122'), ('oname', 'Europe/Rome')]\n",
      "[('p', 'http://www.wikidata.org/prop/direct/P5125'), ('pname', 'Wikimedia outline'), ('o', 'http://www.wikidata.org/entity/Q7112307'), ('oname', 'outline of Italy')]\n",
      "[('p', 'http://www.wikidata.org/prop/direct/P832'), ('pname', 'public holiday'), ('o', 'http://www.wikidata.org/entity/Q802461'), ('oname', 'Festa della Repubblica')]\n",
      "[('p', 'http://www.wikidata.org/prop/direct/P7867'), ('pname', 'category for maps'), ('o', 'http://www.wikidata.org/entity/Q8607398'), ('oname', 'Category:Maps of Italy')]\n",
      "[('p', 'http://www.wikidata.org/prop/direct/P8402'), ('pname', 'open data portal'), ('o', 'http://www.wikidata.org/entity/Q97013442'), ('oname', 'Open Data Portal Italy')]\n",
      "[('p', 'http://www.wikidata.org/prop/direct/P2936'), ('pname', 'language used'), ('o', 'http://www.wikidata.org/entity/Q845441'), ('oname', 'Sassarese')]\n"
     ]
    },
    {
     "data": {
      "text/plain": [
       "301"
      ]
     },
     "execution_count": 3,
     "metadata": {},
     "output_type": "execute_result"
    }
   ],
   "source": [
    "queryString = \"\"\"\n",
    "SELECT ?p ?pname ?o ?oname WHERE { \n",
    "\n",
    "    wd:Q38 ?p ?o .\n",
    "\n",
    "    # this returns the labels\n",
    "    ?p <http://schema.org/name> ?pname .\n",
    "    ?o <http://schema.org/name> ?oname .\n",
    "} \n",
    "\"\"\"\n",
    "\n",
    "print(\"Results\")\n",
    "run_query(queryString)"
   ]
  },
  {
   "cell_type": "markdown",
   "id": "2c99a160-78b8-4e38-9b2c-735098eac613",
   "metadata": {},
   "source": [
    "I find member of (P463) EU (Q458)"
   ]
  },
  {
   "cell_type": "raw",
   "id": "a394efa3-e805-480e-8b9a-99318aad8b5b",
   "metadata": {},
   "source": [
    "The corresponding BGP is \n",
    "    ?s wdt:P106/wdt:P279 wd:Q82955  ;\n",
    "       wdt:P27 ?c .\n",
    "    ?c wdt:P463 wd:Q458 ."
   ]
  },
  {
   "cell_type": "markdown",
   "id": "88081685-95f5-414d-a4da-af43a1e0d384",
   "metadata": {},
   "source": [
    "### 2. Identify the BGP for obtaining other occupations and properties of politicians"
   ]
  },
  {
   "cell_type": "markdown",
   "id": "2b1a80b4-6eed-4b3b-a44c-6de866c72e5a",
   "metadata": {},
   "source": [
    "I'll show BGP to retrive all the properties related to politicians in UE"
   ]
  },
  {
   "cell_type": "code",
   "execution_count": 25,
   "id": "d3baf126-3699-4bb8-8ed0-80a50ca5a7cd",
   "metadata": {},
   "outputs": [
    {
     "name": "stdout",
     "output_type": "stream",
     "text": [
      "Results\n",
      "[('s', 'http://www.wikidata.org/entity/Q48321355'), ('p', 'http://www.wikidata.org/prop/direct/P102'), ('pname', 'member of political party')]\n",
      "[('s', 'http://www.wikidata.org/entity/Q48321355'), ('p', 'http://www.wikidata.org/prop/direct/P102'), ('pname', 'member of political party')]\n",
      "[('s', 'http://www.wikidata.org/entity/Q28964087'), ('p', 'http://www.wikidata.org/prop/direct/P102'), ('pname', 'member of political party')]\n",
      "[('s', 'http://www.wikidata.org/entity/Q28964087'), ('p', 'http://www.wikidata.org/prop/direct/P102'), ('pname', 'member of political party')]\n",
      "[('s', 'http://www.wikidata.org/entity/Q28964087'), ('p', 'http://www.wikidata.org/prop/direct/P102'), ('pname', 'member of political party')]\n",
      "[('s', 'http://www.wikidata.org/entity/Q28964087'), ('p', 'http://www.wikidata.org/prop/direct/P102'), ('pname', 'member of political party')]\n",
      "[('s', 'http://www.wikidata.org/entity/Q65131729'), ('p', 'http://www.wikidata.org/prop/direct/P102'), ('pname', 'member of political party')]\n",
      "[('s', 'http://www.wikidata.org/entity/Q19606883'), ('p', 'http://www.wikidata.org/prop/direct/P102'), ('pname', 'member of political party')]\n",
      "[('s', 'http://www.wikidata.org/entity/Q19606883'), ('p', 'http://www.wikidata.org/prop/direct/P102'), ('pname', 'member of political party')]\n",
      "[('s', 'http://www.wikidata.org/entity/Q19606883'), ('p', 'http://www.wikidata.org/prop/direct/P102'), ('pname', 'member of political party')]\n"
     ]
    },
    {
     "data": {
      "text/plain": [
       "10"
      ]
     },
     "execution_count": 25,
     "metadata": {},
     "output_type": "execute_result"
    }
   ],
   "source": [
    "queryString = \"\"\"\n",
    "SELECT ?s ?p ?pname  WHERE { \n",
    "\n",
    "    ?s wdt:P106/wdt:P279* wd:Q82955  ;\n",
    "        wdt:P27 ?c ; #to retrieve country\n",
    "        ?p ?o .\n",
    "    ?c wdt:P463 wd:Q458 . #country to be in UE \n",
    "\n",
    "    # this returns the labels\n",
    "    ?p <http://schema.org/name> ?pname .\n",
    "    \n",
    "    FILTER NOT EXISTS {?s wdt:P570 ?d} . #add the constraints that they are alive\n",
    "\n",
    "\n",
    "} \n",
    "LIMIT 10\n",
    "\"\"\"\n",
    "\n",
    "print(\"Results\")\n",
    "run_query(queryString)"
   ]
  },
  {
   "cell_type": "markdown",
   "id": "3df736af-b0ad-408d-84ad-59f4ff59154c",
   "metadata": {},
   "source": [
    "I choose for example Francis Magdalou (from the query above)."
   ]
  },
  {
   "cell_type": "code",
   "execution_count": 26,
   "id": "8fb23133-dc25-4dcf-92d5-84ecfb3e10cf",
   "metadata": {},
   "outputs": [
    {
     "name": "stdout",
     "output_type": "stream",
     "text": [
      "Results\n",
      "[('p', 'http://www.wikidata.org/prop/direct/P106'), ('pname', 'occupation')]\n",
      "[('p', 'http://www.wikidata.org/prop/direct/P106'), ('pname', 'occupation')]\n",
      "[('p', 'http://www.wikidata.org/prop/direct/P106'), ('pname', 'occupation')]\n",
      "[('p', 'http://www.wikidata.org/prop/direct/P1412'), ('pname', 'languages spoken, written or signed')]\n",
      "[('p', 'http://www.wikidata.org/prop/direct/P21'), ('pname', 'sex or gender')]\n",
      "[('p', 'http://www.wikidata.org/prop/direct/P27'), ('pname', 'country of citizenship')]\n",
      "[('p', 'http://www.wikidata.org/prop/direct/P31'), ('pname', 'instance of')]\n",
      "[('p', 'http://www.wikidata.org/prop/direct/P39'), ('pname', 'position held')]\n",
      "[('p', 'http://www.wikidata.org/prop/direct/P39'), ('pname', 'position held')]\n",
      "[('p', 'http://www.wikidata.org/prop/direct/P39'), ('pname', 'position held')]\n"
     ]
    },
    {
     "data": {
      "text/plain": [
       "10"
      ]
     },
     "execution_count": 26,
     "metadata": {},
     "output_type": "execute_result"
    }
   ],
   "source": [
    "queryString = \"\"\"\n",
    "SELECT ?p ?pname WHERE { \n",
    "\n",
    "    wd:Q65591365 ?p ?o .\n",
    "\n",
    "    # this returns the labels\n",
    "    ?p <http://schema.org/name> ?pname .\n",
    "} \n",
    "LIMIT 10\n",
    "\"\"\"\n",
    "\n",
    "print(\"Results\")\n",
    "run_query(queryString)"
   ]
  },
  {
   "cell_type": "raw",
   "id": "d6ca1ae9-136a-4f2b-ab2c-ea22fcde6590",
   "metadata": {},
   "source": [
    "The BGP ?s wdt:P106/wdt:P279 wd:Q82955  ;\n",
    "            ?p ?o ;\n",
    "           wdt:P27 ?c . #to retrieve country\n",
    "        ?c wdt:P463 wd:Q458 . #country to be in UE "
   ]
  },
  {
   "cell_type": "markdown",
   "id": "036202b7-ae46-41c3-86c6-03d339073522",
   "metadata": {},
   "source": [
    "### 3. How many politicians are recorded for each E.U. country?"
   ]
  },
  {
   "cell_type": "code",
   "execution_count": 30,
   "id": "54b61bef-a050-4868-88c1-2aa2a676f16e",
   "metadata": {},
   "outputs": [
    {
     "name": "stdout",
     "output_type": "stream",
     "text": [
      "Results\n",
      "[('numberPoliticians', '57987'), ('country', 'France')]\n",
      "[('numberPoliticians', '22250'), ('country', 'Spain')]\n",
      "[('numberPoliticians', '11934'), ('country', 'Germany')]\n",
      "[('numberPoliticians', '7645'), ('country', 'Romania')]\n",
      "[('numberPoliticians', '6182'), ('country', 'Italy')]\n",
      "[('numberPoliticians', '5091'), ('country', 'United Kingdom')]\n",
      "[('numberPoliticians', '4120'), ('country', 'Kingdom of the Netherlands')]\n",
      "[('numberPoliticians', '3101'), ('country', 'Poland')]\n",
      "[('numberPoliticians', '2984'), ('country', 'Austria')]\n",
      "[('numberPoliticians', '2867'), ('country', 'Sweden')]\n"
     ]
    },
    {
     "data": {
      "text/plain": [
       "10"
      ]
     },
     "execution_count": 30,
     "metadata": {},
     "output_type": "execute_result"
    }
   ],
   "source": [
    "queryString = \"\"\"\n",
    "SELECT (COUNT (?s) as ?numberPoliticians) ?country  WHERE { \n",
    "\n",
    "    ?s wdt:P106/wdt:P279* wd:Q82955  ;\n",
    "       wdt:P27 ?c . #to retrieve country .\n",
    "    ?c wdt:P463 wd:Q458 . #country to be in UE \n",
    "\n",
    "    # this returns the labels\n",
    "    ?c <http://schema.org/name> ?country .\n",
    "    \n",
    "    FILTER NOT EXISTS {?s wdt:P570 ?d} . #add the constraints that they are alive\n",
    "\n",
    "} \n",
    "GROUP BY ?country\n",
    "ORDER BY desc (?numberPoliticians)\n",
    "LIMIT 10\n",
    "\"\"\"\n",
    "\n",
    "print(\"Results\")\n",
    "run_query(queryString)"
   ]
  },
  {
   "cell_type": "markdown",
   "id": "2b9c1e91-79ef-42a3-b662-d04ab24b81b5",
   "metadata": {},
   "source": [
    "### 4. Are there politicians with double citizenship?"
   ]
  },
  {
   "cell_type": "code",
   "execution_count": 38,
   "id": "a5d93653-d778-4938-8cc6-d45a3133b0fa",
   "metadata": {},
   "outputs": [
    {
     "name": "stdout",
     "output_type": "stream",
     "text": [
      "Results\n",
      "[('s', 'http://www.wikidata.org/entity/Q3434633'), ('politician', 'Robert Bourgi')]\n",
      "[('s', 'http://www.wikidata.org/entity/Q6514674'), ('politician', 'Lee Odenwalder')]\n",
      "[('s', 'http://www.wikidata.org/entity/Q5246470'), ('politician', 'Dean Smith')]\n",
      "[('s', 'http://www.wikidata.org/entity/Q3108729'), ('politician', 'Mike Rann')]\n",
      "[('s', 'http://www.wikidata.org/entity/Q7442423'), ('politician', 'Sebastian Gorka')]\n",
      "[('s', 'http://www.wikidata.org/entity/Q63987238'), ('politician', 'Josh Burns')]\n",
      "[('s', 'http://www.wikidata.org/entity/Q3108729'), ('politician', 'Mike Rann')]\n",
      "[('s', 'http://www.wikidata.org/entity/Q7442423'), ('politician', 'Sebastian Gorka')]\n",
      "[('s', 'http://www.wikidata.org/entity/Q5271209'), ('politician', 'Diana Laidlaw')]\n",
      "[('s', 'http://www.wikidata.org/entity/Q22230789'), ('politician', 'Liz Mair')]\n"
     ]
    },
    {
     "data": {
      "text/plain": [
       "10"
      ]
     },
     "execution_count": 38,
     "metadata": {},
     "output_type": "execute_result"
    }
   ],
   "source": [
    "queryString = \"\"\"\n",
    "SELECT ?s ?politician ?country  WHERE { \n",
    "\n",
    "    ?s wdt:P106/wdt:P279* wd:Q82955  ;\n",
    "                wdt:P27 ?c1 ;\n",
    "                wdt:P27 ?c2 . #to retrieve country\n",
    "    ?c1 wdt:P463 wd:Q458 . #country to be in UE \n",
    "\n",
    "    # this returns the labels\n",
    "    ?s <http://schema.org/name> ?politician .\n",
    "    ?c1 <http://schema.org/name> ?country1 .\n",
    "    ?c2 <http://schema.org/name> ?country2 .\n",
    "    \n",
    "    FILTER NOT EXISTS {?s wdt:P570 ?d} . #add the constraints that they are alive\n",
    "    FILTER (?c1 != ?c2)\n",
    "    \n",
    "} \n",
    "LIMIT 10\n",
    "\"\"\"\n",
    "\n",
    "print(\"Results\")\n",
    "run_query(queryString)"
   ]
  },
  {
   "cell_type": "markdown",
   "id": "3937953d-657e-427e-b634-2aec3ed663c1",
   "metadata": {},
   "source": [
    "#### 5.1 What are the top-3 occupations for a politician in Italy and France?"
   ]
  },
  {
   "cell_type": "code",
   "execution_count": 5,
   "id": "8ffe7156-c16a-4918-956c-5a97d57c2961",
   "metadata": {},
   "outputs": [
    {
     "name": "stdout",
     "output_type": "stream",
     "text": [
      "Results\n",
      "[('number', '91577'), ('oname', 'politician')]\n",
      "[('number', '14607'), ('oname', 'pensioner')]\n",
      "[('number', '5384'), ('oname', 'anciens cadres')]\n",
      "[('number', '4854'), ('oname', 'farm operator')]\n"
     ]
    },
    {
     "data": {
      "text/plain": [
       "4"
      ]
     },
     "execution_count": 5,
     "metadata": {},
     "output_type": "execute_result"
    }
   ],
   "source": [
    "queryString = \"\"\"\n",
    "SELECT ( COUNT (?sname) as ?number) ?oname {\n",
    "    \n",
    "    ?s  wdt:P106/wdt:P279* wd:Q82955  ;\n",
    "        wdt:P106 ?o ;\n",
    "        wdt:P27 ?c .\n",
    "    \n",
    "    ?s <http://schema.org/name> ?sname .\n",
    "    ?o <http://schema.org/name> ?oname .\n",
    "\n",
    "    FILTER ((?c = wd:Q38) || (?c = wd:Q142)) .\n",
    "}\n",
    "GROUP BY ?oname\n",
    "ORDER BY desc (?number)\n",
    "LIMIT 4\n",
    "\n",
    "\"\"\"\n",
    "\n",
    "print(\"Results\")\n",
    "run_query(queryString)"
   ]
  },
  {
   "cell_type": "markdown",
   "id": "63442623-c9e9-4bc5-ad14-ad682dbaf6bb",
   "metadata": {},
   "source": [
    "#### 5.2 What if you consider only politicians for which we don't have a date of death?"
   ]
  },
  {
   "cell_type": "code",
   "execution_count": 6,
   "id": "ec401016-5f6f-4281-8f29-2f6fd35328ee",
   "metadata": {},
   "outputs": [
    {
     "name": "stdout",
     "output_type": "stream",
     "text": [
      "Results\n",
      "[('number', '63074'), ('oname', 'politician')]\n",
      "[('number', '14496'), ('oname', 'pensioner')]\n",
      "[('number', '5384'), ('oname', 'anciens cadres')]\n",
      "[('number', '4840'), ('oname', 'farm operator')]\n"
     ]
    },
    {
     "data": {
      "text/plain": [
       "4"
      ]
     },
     "execution_count": 6,
     "metadata": {},
     "output_type": "execute_result"
    }
   ],
   "source": [
    "queryString = \"\"\"\n",
    "SELECT ( COUNT (?sname) as ?number) ?oname {\n",
    "    \n",
    "    ?s  wdt:P106/wdt:P279* wd:Q82955  ;\n",
    "        wdt:P106 ?o ;\n",
    "        wdt:P27 ?c .\n",
    "    \n",
    "    ?s <http://schema.org/name> ?sname .\n",
    "    ?o <http://schema.org/name> ?oname .\n",
    "\n",
    "    FILTER ((?c = wd:Q38) || (?c = wd:Q142)) .\n",
    "    FILTER NOT EXISTS {?s wdt:P570 ?d} .\n",
    "}\n",
    "GROUP BY ?oname\n",
    "ORDER BY desc (?number)\n",
    "LIMIT 4\n",
    "\n",
    "\"\"\"\n",
    "\n",
    "print(\"Results\")\n",
    "run_query(queryString)"
   ]
  },
  {
   "cell_type": "markdown",
   "id": "b703f1db-45b2-4bbc-affd-87200ccc1b21",
   "metadata": {},
   "source": [
    "#### 5.3 Which politicians had a spouse that was also a politician? How many in each country\n",
    "trovare p26"
   ]
  },
  {
   "cell_type": "code",
   "execution_count": null,
   "id": "77b28bea-31f2-4ded-a09b-61fbf0b3a512",
   "metadata": {},
   "outputs": [],
   "source": [
    "Let's search for the property of marriage"
   ]
  },
  {
   "cell_type": "code",
   "execution_count": 50,
   "id": "d6bfad71-48d3-49fe-aa47-8c4cf9845378",
   "metadata": {},
   "outputs": [
    {
     "name": "stdout",
     "output_type": "stream",
     "text": [
      "Results\n",
      "[('p', 'http://www.wikidata.org/prop/direct/P1038'), ('pname', 'relative')]\n",
      "[('p', 'http://www.wikidata.org/prop/direct/P1066'), ('pname', 'student of')]\n",
      "[('p', 'http://www.wikidata.org/prop/direct/P1290'), ('pname', 'godparent')]\n",
      "[('p', 'http://www.wikidata.org/prop/direct/P3448'), ('pname', 'stepparent')]\n",
      "[('p', 'http://www.wikidata.org/prop/direct/P185'), ('pname', 'doctoral student')]\n",
      "[('p', 'http://www.wikidata.org/prop/direct/P3373'), ('pname', 'sibling')]\n",
      "[('p', 'http://www.wikidata.org/prop/direct/P40'), ('pname', 'child')]\n",
      "[('p', 'http://www.wikidata.org/prop/direct/P22'), ('pname', 'father')]\n",
      "[('p', 'http://www.wikidata.org/prop/direct/P26'), ('pname', 'spouse')]\n",
      "[('p', 'http://www.wikidata.org/prop/direct/P1889'), ('pname', 'different from')]\n"
     ]
    },
    {
     "data": {
      "text/plain": [
       "10"
      ]
     },
     "execution_count": 50,
     "metadata": {},
     "output_type": "execute_result"
    }
   ],
   "source": [
    "queryString = \"\"\"\n",
    "SELECT DISTINCT ?p ?pname {\n",
    "    \n",
    "    ?s  wdt:P31 wd:Q5 ;\n",
    "        ?p ?sp .\n",
    "    ?sp wdt:P31 wd:Q5 .\n",
    "    \n",
    "    ?s <http://schema.org/name> ?sname .\n",
    "    ?p <http://schema.org/name> ?pname .\n",
    "}\n",
    "LIMIT 10\n",
    "\"\"\"\n",
    "\n",
    "print(\"Results\")\n",
    "run_query(queryString)"
   ]
  },
  {
   "cell_type": "markdown",
   "id": "046fd054-7199-4181-a1a3-a9d9faa1aa3f",
   "metadata": {},
   "source": [
    "I found spouse: P26 "
   ]
  },
  {
   "cell_type": "code",
   "execution_count": 60,
   "id": "fbe6b459-d547-43e2-a9a8-b2a61919c134",
   "metadata": {},
   "outputs": [
    {
     "name": "stdout",
     "output_type": "stream",
     "text": [
      "Results\n",
      "[('numberPolitician', '311'), ('cname', 'United Kingdom')]\n",
      "[('numberPolitician', '294'), ('cname', 'France')]\n",
      "[('numberPolitician', '221'), ('cname', 'Germany')]\n",
      "[('numberPolitician', '163'), ('cname', 'Spain')]\n",
      "[('numberPolitician', '95'), ('cname', 'Sweden')]\n",
      "[('numberPolitician', '79'), ('cname', 'Finland')]\n",
      "[('numberPolitician', '69'), ('cname', 'Italy')]\n",
      "[('numberPolitician', '51'), ('cname', 'Denmark')]\n",
      "[('numberPolitician', '44'), ('cname', 'Poland')]\n",
      "[('numberPolitician', '43'), ('cname', 'Hungary')]\n"
     ]
    },
    {
     "data": {
      "text/plain": [
       "10"
      ]
     },
     "execution_count": 60,
     "metadata": {},
     "output_type": "execute_result"
    }
   ],
   "source": [
    "queryString = \"\"\"\n",
    "SELECT (COUNT (?s) AS ?numberPolitician) ?cname {\n",
    "    \n",
    "    ?s  wdt:P106 wd:Q82955  ;\n",
    "        wdt:P26 ?sp ;\n",
    "        wdt:P27 ?c .\n",
    "        \n",
    "    ?sp  wdt:P106 wd:Q82955 .\n",
    "    \n",
    "    ?c wdt:P463 wd:Q458 .   #country to be in UE \n",
    "    \n",
    "    ?c <http://schema.org/name> ?cname .\n",
    "}\n",
    "GROUP BY ?cname\n",
    "ORDER BY desc(?numberPolitician)\n",
    "LIMIT 10\n",
    "\"\"\"\n",
    "\n",
    "print(\"Results\")\n",
    "run_query(queryString)"
   ]
  },
  {
   "cell_type": "markdown",
   "id": "6b8cfdba-9c44-4f0f-aec2-8f8f0e64bdfa",
   "metadata": {},
   "source": [
    "Note: I had to delete /wdt:P279*: system returned a memory error."
   ]
  }
 ],
 "metadata": {
  "kernelspec": {
   "display_name": "Python 3",
   "language": "python",
   "name": "python3"
  },
  "language_info": {
   "codemirror_mode": {
    "name": "ipython",
    "version": 3
   },
   "file_extension": ".py",
   "mimetype": "text/x-python",
   "name": "python",
   "nbconvert_exporter": "python",
   "pygments_lexer": "ipython3",
   "version": "3.7.10"
  }
 },
 "nbformat": 4,
 "nbformat_minor": 5
}
