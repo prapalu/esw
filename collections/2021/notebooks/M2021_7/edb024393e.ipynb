{
 "cells": [
  {
   "cell_type": "markdown",
   "id": "7034c3bf-6eb0-4418-8687-7b9d2a501103",
   "metadata": {},
   "source": [
    "# General instructions\n",
    "\n",
    "The goal of the project is to materialize a set of **exploratory workloads** over a real-world, large-scale,  open-domain KG: [WikiData](https://www.wikidata.org/wiki/Wikidata:Main_Page)\n",
    "\n",
    "An exploratory workload  is composed by a set of queries, where each query is related to the information obtained previously.\n",
    "\n",
    "An exploratory workload starts with a usually vague, open ended question, and does not assume the person issuing the workload has a clear understanding of the data contained in the target database or its structure.\n",
    "\n",
    "Remeber that:\n",
    "\n",
    "1. All the queries must run in the python notebook\n",
    "2. You can use classes and properties only if you find them via a SPARQL query that must be present in the notebook\n",
    "3. You do not delete useless queries. Keep everything that is synthatically valid \n",
    "\n",
    "```\n",
    "?p <http://schema.org/name> ?name .\n",
    "```\n",
    "    \n",
    "is the BGP returning a human-readable name of a property or a class in Wikidata.\n",
    "    \n",
    "    "
   ]
  },
  {
   "cell_type": "code",
   "execution_count": 16,
   "id": "3605c9d5-5371-49a5-be8d-d66e8f417139",
   "metadata": {},
   "outputs": [],
   "source": [
    "## SETUP used later\n",
    "\n",
    "from SPARQLWrapper import SPARQLWrapper, JSON\n",
    "\n",
    "\n",
    "prefixString = \"\"\"\n",
    "##-edb024393e-##\n",
    "PREFIX wd: <http://www.wikidata.org/entity/> \n",
    "PREFIX wdt: <http://www.wikidata.org/prop/direct/> \n",
    "PREFIX sc: <http://schema.org/>\n",
    "\"\"\"\n",
    "\n",
    "# select and construct queries\n",
    "def run_query(queryString):\n",
    "    to_run = prefixString + \"\\n\" + queryString\n",
    "\n",
    "    sparql = SPARQLWrapper(\"http://a256-gc1-02.srv.aau.dk:5820/sparql\")\n",
    "    sparql.setTimeout(300)\n",
    "    sparql.setReturnFormat(JSON)\n",
    "    sparql.setQuery(to_run)\n",
    "\n",
    "    try :\n",
    "       results = sparql.query()\n",
    "       json_results = results.convert()\n",
    "       if len(json_results['results']['bindings'])==0:\n",
    "          print(\"Empty\")\n",
    "          return 0\n",
    "    \n",
    "       for bindings in json_results['results']['bindings']:\n",
    "          print( [ (var, value['value'])  for var, value in bindings.items() ] )\n",
    "\n",
    "       return len(json_results['results']['bindings'])\n",
    "\n",
    "    except Exception as e :\n",
    "        print(\"The operation failed\", e)\n",
    "    \n",
    "# ASk queries\n",
    "def run_ask_query(queryString):\n",
    "    to_run = prefixString + \"\\n\" + queryString\n",
    "\n",
    "    sparql = SPARQLWrapper(\"http://a256-gc1-02.srv.aau.dk:5820/sparql\")\n",
    "    sparql.setTimeout(300)\n",
    "    sparql.setReturnFormat(JSON)\n",
    "    sparql.setQuery(to_run)\n",
    "\n",
    "    try :\n",
    "        return sparql.query().convert()\n",
    "\n",
    "    except Exception as e :\n",
    "        print(\"The operation failed\", e)\n"
   ]
  },
  {
   "cell_type": "markdown",
   "id": "d477a59c-a68c-4c8f-9f97-8ca5294d7d27",
   "metadata": {},
   "source": [
    "# Companies Workflow Series (\"Economy of EU States\") \n",
    "\n",
    "Consider the following exploratory information need:\n",
    "\n",
    "> Compare businesses across different sectors and types in E.U. countries"
   ]
  },
  {
   "cell_type": "markdown",
   "id": "4a45c0ba-f79e-441d-bec5-84401b09db70",
   "metadata": {
    "jp-MarkdownHeadingCollapsed": true,
    "tags": []
   },
   "source": [
    "## Useful URIs for the current workflow\n",
    "\n",
    "\n",
    "The following are given:\n",
    "\n",
    "| IRI           | Description   | Role      |\n",
    "| -----------   | -----------   |-----------|\n",
    "| `wdt:P1647`   | subproperty   | predicate |\n",
    "| `wdt:P31`     | instance of   | predicate |\n",
    "| `wdt:P279`    | subclass      | predicate |\n",
    "| `wdt:P17`      | country       | predicate |\n",
    "| `wd:Q458`      | E.U.         | node |\n",
    "| `wd:Q142`      | France       | node      |\n",
    "| `wd:Q4830453`  | Business     | node      |\n",
    "| `wd:Q6881511`  | Enterprise   | node      |\n",
    "| `wd:Q29110228` | AXA          | node |\n",
    "| `wd:Q43183`    | insurance    | node |\n",
    "\n",
    "\n",
    "\n",
    "\n",
    "Also consider\n",
    "\n",
    "```\n",
    "{ \n",
    "?p wdt:P17 wd:Q142  . \n",
    "?p wdt:P31 wd:Q6881511  . \n",
    "} UNION {\n",
    "?p wdt:P17 wd:Q142  . \n",
    "?p wdt:P31 wd:Q4830453  . \n",
    "}\n",
    "\n",
    "\n",
    "\n",
    "```\n",
    "\n",
    "is the BGP to retrieve all **french enterprises and businesses**"
   ]
  },
  {
   "cell_type": "markdown",
   "id": "7af439fb-96e4-4dbb-a381-f19afab79f86",
   "metadata": {
    "tags": []
   },
   "source": [
    "## Workload Goals\n",
    "\n",
    "1. Identify the BGP for obtaining the type, legal form, and industry of a company\n",
    "\n",
    "2. Identify the BGP to retrieve all companies owned by a company located in a EU country\n",
    "\n",
    "3. Which company has the largest presence in E.U.?\n",
    "\n",
    "4. Companies have different 'legal forms', compare the number of companies divided in different legal forms\n",
    "\n",
    "5. Analyze the number of companies per type, legal form, and industry in each state\n",
    " \n",
    "   5.1 What are the top-3 legal form in E.U.? \n",
    "   \n",
    "   5.2 For which companies is defined some form of income or market capitalization or total assets? What is the min, max, and average in each country for a given legal form?\n",
    "   \n",
    "   5.3 Which business in each country owns more businesses in other E.U. countries?\n",
    "   \n",
    "   5.4 What can we say about industry sectors in various countries?\n"
   ]
  },
  {
   "cell_type": "code",
   "execution_count": 3,
   "id": "24a853ab-830c-422c-afd3-e9e015b8b8ed",
   "metadata": {},
   "outputs": [],
   "source": [
    "# start your workflow here"
   ]
  },
  {
   "cell_type": "markdown",
   "id": "18ad1f2f-3268-41fd-b3fb-0aa6252d5c21",
   "metadata": {
    "tags": []
   },
   "source": [
    "queryString = \"\"\"\n",
    "SELECT COUNT(?p)\n",
    "WHERE { \n",
    "\n",
    "{ \n",
    "?p wdt:P17 wd:Q142  . \n",
    "?p wdt:P31 wd:Q6881511  . \n",
    "} UNION {\n",
    "?p wdt:P17 wd:Q142  . \n",
    "?p wdt:P31 wd:Q4830453  . \n",
    "}\n",
    "} \n",
    "\"\"\"\n",
    "\n",
    "print(\"Results\")\n",
    "run_query(queryString)"
   ]
  },
  {
   "cell_type": "markdown",
   "id": "ff9c7995-8e7b-43fa-9deb-d1e69af88dce",
   "metadata": {},
   "source": [
    "# My Workflow\n"
   ]
  },
  {
   "cell_type": "code",
   "execution_count": 4,
   "id": "386bf791-c674-4bb5-948f-3169207f0073",
   "metadata": {
    "tags": []
   },
   "outputs": [
    {
     "name": "stdout",
     "output_type": "stream",
     "text": [
      "Results\n",
      "[('callret-0', '4577')]\n"
     ]
    },
    {
     "data": {
      "text/plain": [
       "1"
      ]
     },
     "execution_count": 4,
     "metadata": {},
     "output_type": "execute_result"
    }
   ],
   "source": [
    "queryString = \"\"\"\n",
    "SELECT COUNT(?p)\n",
    "WHERE { \n",
    "\n",
    "{ \n",
    "?p wdt:P17 wd:Q142. \n",
    "?p wdt:P31 wd:Q6881511  . \n",
    "} UNION {\n",
    "?p wdt:P17 wd:Q142  . \n",
    "?p wdt:P31 wd:Q4830453  . \n",
    "}\n",
    "} \n",
    "\"\"\"\n",
    "\n",
    "print(\"Results\")\n",
    "run_query(queryString)"
   ]
  },
  {
   "cell_type": "markdown",
   "id": "d30428a2-06da-4a26-94e6-ccda7e41565b",
   "metadata": {},
   "source": [
    "### 1. Identify the BGP for obtaining the type, legal form, and industry of a company\n"
   ]
  },
  {
   "cell_type": "markdown",
   "id": "a8f0ed97-2ad4-490a-ae90-8e85c9426570",
   "metadata": {},
   "source": [
    "### Search for properties of business and enterprises"
   ]
  },
  {
   "cell_type": "code",
   "execution_count": 5,
   "id": "e5c60b9c-5525-4008-8a6f-4b6630fc7f80",
   "metadata": {
    "collapsed": true,
    "jupyter": {
     "outputs_hidden": true
    },
    "tags": []
   },
   "outputs": [
    {
     "name": "stdout",
     "output_type": "stream",
     "text": [
      "Results\n",
      "[('p', 'http://www.wikidata.org/prop/direct/P127'), ('pname', 'owned by'), ('o', 'http://www.wikidata.org/entity/Q100343342'), ('oname', 'Lubomír Stoklásek')]\n",
      "[('p', 'http://www.wikidata.org/prop/direct/P169'), ('pname', 'chief executive officer'), ('o', 'http://www.wikidata.org/entity/Q100343342'), ('oname', 'Lubomír Stoklásek')]\n",
      "[('p', 'http://www.wikidata.org/prop/direct/P355'), ('pname', 'subsidiary'), ('o', 'http://www.wikidata.org/entity/Q54965304'), ('oname', 'Agrostroj International')]\n",
      "[('p', 'http://www.wikidata.org/prop/direct/P355'), ('pname', 'subsidiary'), ('o', 'http://www.wikidata.org/entity/Q58490622'), ('oname', 'Humpolecké strojírny Humpolec a.s.')]\n",
      "[('p', 'http://www.wikidata.org/prop/direct/P1365'), ('pname', 'replaces'), ('o', 'http://www.wikidata.org/entity/Q69392117'), ('oname', 'Orbis')]\n",
      "[('p', 'http://www.wikidata.org/prop/direct/P155'), ('pname', 'follows'), ('o', 'http://www.wikidata.org/entity/Q69392117'), ('oname', 'Orbis')]\n",
      "[('p', 'http://www.wikidata.org/prop/direct/P127'), ('pname', 'owned by'), ('o', 'http://www.wikidata.org/entity/Q8183600'), ('oname', 'Agrostroj Pelhřimov')]\n",
      "[('p', 'http://www.wikidata.org/prop/direct/P749'), ('pname', 'parent organization'), ('o', 'http://www.wikidata.org/entity/Q8183600'), ('oname', 'Agrostroj Pelhřimov')]\n",
      "[('p', 'http://www.wikidata.org/prop/direct/P7084'), ('pname', 'related category'), ('o', 'http://www.wikidata.org/entity/Q8455852'), ('oname', 'Category:Films directed by Mitchell & Kenyon')]\n",
      "[('p', 'http://www.wikidata.org/prop/direct/P1830'), ('pname', 'owner of'), ('o', 'http://www.wikidata.org/entity/Q15573853'), ('oname', 'Geranium')]\n",
      "[('p', 'http://www.wikidata.org/prop/direct/P1268'), ('pname', 'represents'), ('o', 'http://www.wikidata.org/entity/Q15880598'), ('oname', 'Pauline Wiertz')]\n",
      "[('p', 'http://www.wikidata.org/prop/direct/P1037'), ('pname', 'director / manager'), ('o', 'http://www.wikidata.org/entity/Q15890426'), ('oname', 'Mark Karpelès')]\n",
      "[('p', 'http://www.wikidata.org/prop/direct/P355'), ('pname', 'subsidiary'), ('o', 'http://www.wikidata.org/entity/Q15903261'), ('oname', 'Marshalls')]\n",
      "[('p', 'http://www.wikidata.org/prop/direct/P127'), ('pname', 'owned by'), ('o', 'http://www.wikidata.org/entity/Q15919897'), ('oname', 'Bailian Group Company Limited')]\n",
      "[('p', 'http://www.wikidata.org/prop/direct/P1889'), ('pname', 'different from'), ('o', 'http://www.wikidata.org/entity/Q15921677'), ('oname', 'Maison Blanche')]\n",
      "[('p', 'http://www.wikidata.org/prop/direct/P452'), ('pname', 'industry'), ('o', 'http://www.wikidata.org/entity/Q20127660'), ('oname', 'wastewater treatment')]\n",
      "[('p', 'http://www.wikidata.org/prop/direct/P159'), ('pname', 'headquarters location'), ('o', 'http://www.wikidata.org/entity/Q386998'), ('oname', 'Niedernhall')]\n",
      "[('p', 'http://www.wikidata.org/prop/direct/P127'), ('pname', 'owned by'), ('o', 'http://www.wikidata.org/entity/Q699628'), ('oname', 'Rhenus SE & Co. KG')]\n",
      "[('p', 'http://www.wikidata.org/prop/direct/P127'), ('pname', 'owned by'), ('o', 'http://www.wikidata.org/entity/Q7554405'), ('oname', 'Soft-World International')]\n",
      "[('p', 'http://www.wikidata.org/prop/direct/P127'), ('pname', 'owned by'), ('o', 'http://www.wikidata.org/entity/Q884975'), ('oname', 'Remondis')]\n",
      "[('p', 'http://www.wikidata.org/prop/direct/P112'), ('pname', 'founded by'), ('o', 'http://www.wikidata.org/entity/Q23416847'), ('oname', 'Jack Wong')]\n",
      "[('p', 'http://www.wikidata.org/prop/direct/P159'), ('pname', 'headquarters location'), ('o', 'http://www.wikidata.org/entity/Q1016981'), ('oname', 'Mineral Wells')]\n",
      "[('p', 'http://www.wikidata.org/prop/direct/P127'), ('pname', 'owned by'), ('o', 'http://www.wikidata.org/entity/Q1755236'), ('oname', 'Civic Forum')]\n",
      "[('p', 'http://www.wikidata.org/prop/direct/P127'), ('pname', 'owned by'), ('o', 'http://www.wikidata.org/entity/Q329494'), ('oname', 'Raidió Teilifís Éireann')]\n",
      "[('p', 'http://www.wikidata.org/prop/direct/P159'), ('pname', 'headquarters location'), ('o', 'http://www.wikidata.org/entity/Q49227'), ('oname', 'Winston-Salem')]\n",
      "[('p', 'http://www.wikidata.org/prop/direct/P1056'), ('pname', 'product or material produced'), ('o', 'http://www.wikidata.org/entity/Q15078788'), ('oname', 'broadcasting')]\n",
      "[('p', 'http://www.wikidata.org/prop/direct/P1056'), ('pname', 'product or material produced'), ('o', 'http://www.wikidata.org/entity/Q581105'), ('oname', 'consumer electronics')]\n",
      "[('p', 'http://www.wikidata.org/prop/direct/P452'), ('pname', 'industry'), ('o', 'http://www.wikidata.org/entity/Q581105'), ('oname', 'consumer electronics')]\n",
      "[('p', 'http://www.wikidata.org/prop/direct/P159'), ('pname', 'headquarters location'), ('o', 'http://www.wikidata.org/entity/Q868666'), ('oname', 'Hershey')]\n",
      "[('p', 'http://www.wikidata.org/prop/direct/P138'), ('pname', 'named after'), ('o', 'http://www.wikidata.org/entity/Q1233109'), ('oname', 'Falstaff')]\n",
      "[('p', 'http://www.wikidata.org/prop/direct/P31'), ('pname', 'instance of'), ('o', 'http://www.wikidata.org/entity/Q19307174'), ('oname', 'digital distribution platform')]\n",
      "[('p', 'http://www.wikidata.org/prop/direct/P1056'), ('pname', 'product or material produced'), ('o', 'http://www.wikidata.org/entity/Q17457835'), ('oname', 'electric razor')]\n",
      "[('p', 'http://www.wikidata.org/prop/direct/P127'), ('pname', 'owned by'), ('o', 'http://www.wikidata.org/entity/Q487907'), ('oname', 'Bank of America')]\n",
      "[('p', 'http://www.wikidata.org/prop/direct/P749'), ('pname', 'parent organization'), ('o', 'http://www.wikidata.org/entity/Q487907'), ('oname', 'Bank of America')]\n",
      "[('p', 'http://www.wikidata.org/prop/direct/P1889'), ('pname', 'different from'), ('o', 'http://www.wikidata.org/entity/Q5014252'), ('oname', 'CRRC Qingdao Sifang Co., Ltd.')]\n",
      "[('p', 'http://www.wikidata.org/prop/direct/P1830'), ('pname', 'owner of'), ('o', 'http://www.wikidata.org/entity/Q18162020'), ('oname', 'Netto UK')]\n",
      "[('p', 'http://www.wikidata.org/prop/direct/P112'), ('pname', 'founded by'), ('o', 'http://www.wikidata.org/entity/Q92637'), ('oname', 'Ray Ozzie')]\n",
      "[('p', 'http://www.wikidata.org/prop/direct/P452'), ('pname', 'industry'), ('o', 'http://www.wikidata.org/entity/Q126793'), ('oname', 'retail')]\n",
      "[('p', 'http://www.wikidata.org/prop/direct/P159'), ('pname', 'headquarters location'), ('o', 'http://www.wikidata.org/entity/Q138518'), ('oname', 'Princeton')]\n",
      "[('p', 'http://www.wikidata.org/prop/direct/P159'), ('pname', 'headquarters location'), ('o', 'http://www.wikidata.org/entity/Q25330'), ('oname', 'Trenton')]\n",
      "[('p', 'http://www.wikidata.org/prop/direct/P159'), ('pname', 'headquarters location'), ('o', 'http://www.wikidata.org/entity/Q29422'), ('oname', 'Boca Raton')]\n",
      "[('p', 'http://www.wikidata.org/prop/direct/P101'), ('pname', 'field of work'), ('o', 'http://www.wikidata.org/entity/Q45621'), ('oname', 'ceramic')]\n",
      "[('p', 'http://www.wikidata.org/prop/direct/P452'), ('pname', 'industry'), ('o', 'http://www.wikidata.org/entity/Q55638'), ('oname', 'tertiary sector of the economy')]\n",
      "[('p', 'http://www.wikidata.org/prop/direct/P1454'), ('pname', 'legal form'), ('o', 'http://www.wikidata.org/entity/Q693737'), ('oname', 'Aktiengesellschaft')]\n",
      "[('p', 'http://www.wikidata.org/prop/direct/P31'), ('pname', 'instance of'), ('o', 'http://www.wikidata.org/entity/Q737498'), ('oname', 'academic journal')]\n",
      "[('p', 'http://www.wikidata.org/prop/direct/P31'), ('pname', 'instance of'), ('o', 'http://www.wikidata.org/entity/Q81989119'), ('oname', 'video game distribution platform')]\n",
      "[('p', 'http://www.wikidata.org/prop/direct/P127'), ('pname', 'owned by'), ('o', 'http://www.wikidata.org/entity/Q849363'), ('oname', 'The Vanguard Group')]\n",
      "[('p', 'http://www.wikidata.org/prop/direct/P1343'), ('pname', 'described by source'), ('o', 'http://www.wikidata.org/entity/Q89929597'), ('oname', 'hedendaagsesieraden.nl')]\n",
      "[('p', 'http://www.wikidata.org/prop/direct/P31'), ('pname', 'instance of'), ('o', 'http://www.wikidata.org/entity/Q1320047'), ('oname', 'book publisher')]\n",
      "[('p', 'http://www.wikidata.org/prop/direct/P31'), ('pname', 'instance of'), ('o', 'http://www.wikidata.org/entity/Q2085381'), ('oname', 'publisher')]\n",
      "[('p', 'http://www.wikidata.org/prop/direct/P1454'), ('pname', 'legal form'), ('o', 'http://www.wikidata.org/entity/Q2624520'), ('oname', 'aktieselskab')]\n",
      "[('p', 'http://www.wikidata.org/prop/direct/P452'), ('pname', 'industry'), ('o', 'http://www.wikidata.org/entity/Q2876213'), ('oname', 'aerospace')]\n",
      "[('p', 'http://www.wikidata.org/prop/direct/P31'), ('pname', 'instance of'), ('o', 'http://www.wikidata.org/entity/Q42855995'), ('oname', 'fabricator')]\n",
      "[('p', 'http://www.wikidata.org/prop/direct/P131'), ('pname', 'located in the administrative territorial entity'), ('o', 'http://www.wikidata.org/entity/Q504125'), ('oname', 'Copenhagen Municipality')]\n",
      "[('p', 'http://www.wikidata.org/prop/direct/P159'), ('pname', 'headquarters location'), ('o', 'http://www.wikidata.org/entity/Q586762'), ('oname', 'Westport')]\n",
      "[('p', 'http://www.wikidata.org/prop/direct/P6379'), ('pname', 'has works in the collection'), ('o', 'http://www.wikidata.org/entity/Q674449'), ('oname', 'Netherlands Open Air Museum')]\n",
      "[('p', 'http://www.wikidata.org/prop/direct/P1454'), ('pname', 'legal form'), ('o', 'http://www.wikidata.org/entity/Q6832945'), ('oname', 'private company limited by shares')]\n",
      "[('p', 'http://www.wikidata.org/prop/direct/P1056'), ('pname', 'product or material produced'), ('o', 'http://www.wikidata.org/entity/Q1364904'), ('oname', 'petrochemical product')]\n",
      "[('p', 'http://www.wikidata.org/prop/direct/P452'), ('pname', 'industry'), ('o', 'http://www.wikidata.org/entity/Q187939'), ('oname', 'manufacturing')]\n",
      "[('p', 'http://www.wikidata.org/prop/direct/P1454'), ('pname', 'legal form'), ('o', 'http://www.wikidata.org/entity/Q333920'), ('oname', 'Oy')]\n",
      "[('p', 'http://www.wikidata.org/prop/direct/P2283'), ('pname', 'uses'), ('o', 'http://www.wikidata.org/entity/Q38911792'), ('oname', 'AMOS')]\n",
      "[('p', 'http://www.wikidata.org/prop/direct/P4446'), ('pname', 'reward program'), ('o', 'http://www.wikidata.org/entity/Q642970'), ('oname', 'Miles & More')]\n",
      "[('p', 'http://www.wikidata.org/prop/direct/P452'), ('pname', 'industry'), ('o', 'http://www.wikidata.org/entity/Q936518'), ('oname', 'aerospace manufacturer')]\n",
      "[('p', 'http://www.wikidata.org/prop/direct/P159'), ('pname', 'headquarters location'), ('o', 'http://www.wikidata.org/entity/Q1000060'), ('oname', 'Humpolec')]\n",
      "[('p', 'http://www.wikidata.org/prop/direct/P159'), ('pname', 'headquarters location'), ('o', 'http://www.wikidata.org/entity/Q10941'), ('oname', 'Holzwickede')]\n",
      "[('p', 'http://www.wikidata.org/prop/direct/P1454'), ('pname', 'legal form'), ('o', 'http://www.wikidata.org/entity/Q2531989'), ('oname', 'Volkseigener Betrieb')]\n",
      "[('p', 'http://www.wikidata.org/prop/direct/P159'), ('pname', 'headquarters location'), ('o', 'http://www.wikidata.org/entity/Q25416'), ('oname', 'Stavanger')]\n",
      "[('p', 'http://www.wikidata.org/prop/direct/P452'), ('pname', 'industry'), ('o', 'http://www.wikidata.org/entity/Q3477381'), ('oname', 'automotive supplier')]\n",
      "[('p', 'http://www.wikidata.org/prop/direct/P463'), ('pname', 'member of'), ('o', 'http://www.wikidata.org/entity/Q1009084'), ('oname', 'Federal Association of German Banks')]\n",
      "[('p', 'http://www.wikidata.org/prop/direct/P127'), ('pname', 'owned by'), ('o', 'http://www.wikidata.org/entity/Q1359568'), ('oname', 'Alibaba Group')]\n",
      "[('p', 'http://www.wikidata.org/prop/direct/P1056'), ('pname', 'product or material produced'), ('o', 'http://www.wikidata.org/entity/Q1780509'), ('oname', 'communication device')]\n",
      "[('p', 'http://www.wikidata.org/prop/direct/P452'), ('pname', 'industry'), ('o', 'http://www.wikidata.org/entity/Q507443'), ('oname', 'pharmaceutical industry')]\n",
      "[('p', 'http://www.wikidata.org/prop/direct/P1056'), ('pname', 'product or material produced'), ('o', 'http://www.wikidata.org/entity/Q973560'), ('oname', 'wooden roller coaster')]\n",
      "[('p', 'http://www.wikidata.org/prop/direct/P159'), ('pname', 'headquarters location'), ('o', 'http://www.wikidata.org/entity/Q167195'), ('oname', 'Post Tower')]\n",
      "[('p', 'http://www.wikidata.org/prop/direct/P1056'), ('pname', 'product or material produced'), ('o', 'http://www.wikidata.org/entity/Q443802'), ('oname', 'luxury yacht')]\n",
      "[('p', 'http://www.wikidata.org/prop/direct/P31'), ('pname', 'instance of'), ('o', 'http://www.wikidata.org/entity/Q1529128'), ('oname', 'postal service')]\n",
      "[('p', 'http://www.wikidata.org/prop/direct/P31'), ('pname', 'instance of'), ('o', 'http://www.wikidata.org/entity/Q16323605'), ('oname', 'food brand')]\n",
      "[('p', 'http://www.wikidata.org/prop/direct/P159'), ('pname', 'headquarters location'), ('o', 'http://www.wikidata.org/entity/Q988568'), ('oname', 'Framingham')]\n",
      "[('p', 'http://www.wikidata.org/prop/direct/P1454'), ('pname', 'legal form'), ('o', 'http://www.wikidata.org/entity/Q15646299'), ('oname', 'společnost s ručením omezeným')]\n",
      "[('p', 'http://www.wikidata.org/prop/direct/P159'), ('pname', 'headquarters location'), ('o', 'http://www.wikidata.org/entity/Q1854'), ('oname', 'Ho Chi Minh City')]\n",
      "[('p', 'http://www.wikidata.org/prop/direct/P1056'), ('pname', 'product or material produced'), ('o', 'http://www.wikidata.org/entity/Q221329'), ('oname', 'avionics')]\n",
      "[('p', 'http://www.wikidata.org/prop/direct/P112'), ('pname', 'founded by'), ('o', 'http://www.wikidata.org/entity/Q834621'), ('oname', 'Bono')]\n",
      "[('p', 'http://www.wikidata.org/prop/direct/P31'), ('pname', 'instance of'), ('o', 'http://www.wikidata.org/entity/Q94670589'), ('oname', 'Christian organization')]\n",
      "[('p', 'http://www.wikidata.org/prop/direct/P159'), ('pname', 'headquarters location'), ('o', 'http://www.wikidata.org/entity/Q14907'), ('oname', 'Sankt Ingbert')]\n",
      "[('p', 'http://www.wikidata.org/prop/direct/P452'), ('pname', 'industry'), ('o', 'http://www.wikidata.org/entity/Q29585354'), ('oname', 'Building of ships and floating structures')]\n",
      "[('p', 'http://www.wikidata.org/prop/direct/P127'), ('pname', 'owned by'), ('o', 'http://www.wikidata.org/entity/Q190464'), ('oname', 'HSBC')]\n",
      "[('p', 'http://www.wikidata.org/prop/direct/P112'), ('pname', 'founded by'), ('o', 'http://www.wikidata.org/entity/Q572306'), ('oname', 'John Riccitiello')]\n",
      "[('p', 'http://www.wikidata.org/prop/direct/P452'), ('pname', 'industry'), ('o', 'http://www.wikidata.org/entity/Q695829'), ('oname', 'real estate development')]\n",
      "[('p', 'http://www.wikidata.org/prop/direct/P159'), ('pname', 'headquarters location'), ('o', 'http://www.wikidata.org/entity/Q628190'), ('oname', 'Herrieden')]\n",
      "[('p', 'http://www.wikidata.org/prop/direct/P452'), ('pname', 'industry'), ('o', 'http://www.wikidata.org/entity/Q107597925'), ('oname', 'machinery industry and plant construction')]\n",
      "[('p', 'http://www.wikidata.org/prop/direct/P159'), ('pname', 'headquarters location'), ('o', 'http://www.wikidata.org/entity/Q160420'), ('oname', 'Saga Prefecture')]\n",
      "[('p', 'http://www.wikidata.org/prop/direct/P463'), ('pname', 'member of'), ('o', 'http://www.wikidata.org/entity/Q11395717'), ('oname', 'Shuppan Azusakai')]\n",
      "[('p', 'http://www.wikidata.org/prop/direct/P159'), ('pname', 'headquarters location'), ('o', 'http://www.wikidata.org/entity/Q100'), ('oname', 'Boston')]\n",
      "[('p', 'http://www.wikidata.org/prop/direct/P159'), ('pname', 'headquarters location'), ('o', 'http://www.wikidata.org/entity/Q100188'), ('oname', 'Cluj-Napoca')]\n",
      "[('p', 'http://www.wikidata.org/prop/direct/P159'), ('pname', 'headquarters location'), ('o', 'http://www.wikidata.org/entity/Q1055'), ('oname', 'Hamburg')]\n",
      "[('p', 'http://www.wikidata.org/prop/direct/P452'), ('pname', 'industry'), ('o', 'http://www.wikidata.org/entity/Q107597958'), ('oname', 'vehicle construction')]\n",
      "[('p', 'http://www.wikidata.org/prop/direct/P159'), ('pname', 'headquarters location'), ('o', 'http://www.wikidata.org/entity/Q1085'), ('oname', 'Prague')]\n",
      "[('p', 'http://www.wikidata.org/prop/direct/P31'), ('pname', 'instance of'), ('o', 'http://www.wikidata.org/entity/Q1137109'), ('oname', 'video game publisher')]\n",
      "[('p', 'http://www.wikidata.org/prop/direct/P159'), ('pname', 'headquarters location'), ('o', 'http://www.wikidata.org/entity/Q1296'), ('oname', 'Ghent')]\n",
      "[('p', 'http://www.wikidata.org/prop/direct/P31'), ('pname', 'instance of'), ('o', 'http://www.wikidata.org/entity/Q131734'), ('oname', 'brewery')]\n"
     ]
    },
    {
     "data": {
      "text/plain": [
       "100"
      ]
     },
     "execution_count": 5,
     "metadata": {},
     "output_type": "execute_result"
    }
   ],
   "source": [
    "queryString = \"\"\"\n",
    "SELECT DISTINCT ?p ?pname ?o ?oname WHERE {  \n",
    "    ?s  wdt:P31 ?type ;\n",
    "        ?p ?o .\n",
    "    \n",
    "    ?p <http://schema.org/name> ?pname . \n",
    "    ?o <http://schema.org/name> ?oname . \n",
    "            \n",
    "    FILTER ((?type = wd:Q4830453) || (?type = wd:Q6881511)) .\n",
    "} \n",
    "LIMIT 100\n",
    "\"\"\"\n",
    "print(\"Results\")\n",
    "run_query(queryString)"
   ]
  },
  {
   "cell_type": "raw",
   "id": "ff82a7bc-5fe0-45f4-87cf-a2af097d18e9",
   "metadata": {},
   "source": [
    "I see that P31, P1454 and P452 are the property that I need in order to retrieve type, legal form, and industry of a company. So the BPG is \n",
    "\n",
    "?company    wdt:P31 ?type ;\n",
    "            wdt:P1454 ?legalForm ;\n",
    "            wdt:P452 ?industry ;"
   ]
  },
  {
   "cell_type": "markdown",
   "id": "86080a34-eb4f-47cb-8d7a-ff4255cd81a8",
   "metadata": {},
   "source": [
    "### 2. Identify the BGP to retrieve all companies owned by a company located in a EU country"
   ]
  },
  {
   "cell_type": "markdown",
   "id": "4efc065d-b48e-4709-b47c-cc75bfe9069d",
   "metadata": {},
   "source": [
    "As first I identify all companies owned by a something or someone"
   ]
  },
  {
   "cell_type": "code",
   "execution_count": 6,
   "id": "4f377b1f-7e4c-4cc8-b156-4e4b6e0b9f09",
   "metadata": {},
   "outputs": [
    {
     "name": "stdout",
     "output_type": "stream",
     "text": [
      "Results\n",
      "[('s', 'http://www.wikidata.org/entity/Q223191'), ('sname', 'Adria Airways'), ('o', 'http://www.wikidata.org/entity/Q69349323'), ('owner', '4K KNDNS')]\n",
      "[('s', 'http://www.wikidata.org/entity/Q4653345'), ('sname', 'APM Terminals B.V'), ('o', 'http://www.wikidata.org/entity/Q18224'), ('owner', 'Maersk')]\n",
      "[('s', 'http://www.wikidata.org/entity/Q54965304'), ('sname', 'Agrostroj International'), ('o', 'http://www.wikidata.org/entity/Q8183600'), ('owner', 'Agrostroj Pelhřimov')]\n",
      "[('s', 'http://www.wikidata.org/entity/Q66364316'), ('sname', 'Panorama'), ('o', 'http://www.wikidata.org/entity/Q1755236'), ('owner', 'Civic Forum')]\n",
      "[('s', 'http://www.wikidata.org/entity/Q8183600'), ('sname', 'Agrostroj Pelhřimov'), ('o', 'http://www.wikidata.org/entity/Q100343342'), ('owner', 'Lubomír Stoklásek')]\n",
      "[('s', 'http://www.wikidata.org/entity/Q8192634'), ('sname', 'Saga Television Station'), ('o', 'http://www.wikidata.org/entity/Q16746911'), ('owner', 'Nishinippon Shimbun Company')]\n",
      "[('s', 'http://www.wikidata.org/entity/Q5432804'), ('sname', 'Falstaff Brewing Corporation'), ('o', 'http://www.wikidata.org/entity/Q3360013'), ('owner', 'Pabst Brewing Company')]\n",
      "[('s', 'http://www.wikidata.org/entity/Q80788'), ('sname', 'DNB Bank'), ('o', 'http://www.wikidata.org/entity/Q18177740'), ('owner', 'Ministry of Trade, Industry and Fisheries')]\n",
      "[('s', 'http://www.wikidata.org/entity/Q1759032'), ('sname', 'R. J. Reynolds Tobacco Company'), ('o', 'http://www.wikidata.org/entity/Q947718'), ('owner', 'Reynolds American')]\n",
      "[('s', 'http://www.wikidata.org/entity/Q334122'), ('sname', 'Merrill Lynch'), ('o', 'http://www.wikidata.org/entity/Q487907'), ('owner', 'Bank of America')]\n",
      "[('s', 'http://www.wikidata.org/entity/Q7277940'), ('sname', 'RTÉ News and Current Affairs'), ('o', 'http://www.wikidata.org/entity/Q329494'), ('owner', 'Raidió Teilifís Éireann')]\n",
      "[('s', 'http://www.wikidata.org/entity/Q503592'), ('sname', 'Gillette'), ('o', 'http://www.wikidata.org/entity/Q212405'), ('owner', 'Procter & Gamble')]\n",
      "[('s', 'http://www.wikidata.org/entity/Q28871958'), ('sname', 'Seier Capital Denmark'), ('o', 'http://www.wikidata.org/entity/Q28056759'), ('owner', 'Seier Capital')]\n",
      "[('s', 'http://www.wikidata.org/entity/Q106031005'), ('sname', 'Galerie Hélène Porée'), ('o', 'http://www.wikidata.org/entity/Q106770279'), ('owner', 'Hélène Porée')]\n",
      "[('s', 'http://www.wikidata.org/entity/Q1143917'), ('sname', 'Meizu'), ('o', 'http://www.wikidata.org/entity/Q1359568'), ('owner', 'Alibaba Group')]\n",
      "[('s', 'http://www.wikidata.org/entity/Q1502794'), ('sname', 'GEO Group'), ('o', 'http://www.wikidata.org/entity/Q849363'), ('owner', 'The Vanguard Group')]\n",
      "[('s', 'http://www.wikidata.org/entity/Q15842322'), ('sname', 'Rhenus Office Systems'), ('o', 'http://www.wikidata.org/entity/Q699628'), ('owner', 'Rhenus SE & Co. KG')]\n",
      "[('s', 'http://www.wikidata.org/entity/Q15842322'), ('sname', 'Rhenus Office Systems'), ('o', 'http://www.wikidata.org/entity/Q884975'), ('owner', 'Remondis')]\n",
      "[('s', 'http://www.wikidata.org/entity/Q15901292'), ('sname', 'Gameflier International'), ('o', 'http://www.wikidata.org/entity/Q7554405'), ('owner', 'Soft-World International')]\n",
      "[('s', 'http://www.wikidata.org/entity/Q15904149'), ('sname', 'CRRC Qingdao Sifang Rolling Stock Research Institute Co., Ltd.'), ('o', 'http://www.wikidata.org/entity/Q19840026'), ('owner', 'CRRC')]\n"
     ]
    },
    {
     "data": {
      "text/plain": [
       "20"
      ]
     },
     "execution_count": 6,
     "metadata": {},
     "output_type": "execute_result"
    }
   ],
   "source": [
    "queryString = \"\"\"\n",
    "SELECT ?s ?sname ?o ?owner WHERE {  \n",
    "    ?s wdt:P31 ?type ;\n",
    "        wdt:P127 ?o .\n",
    "    \n",
    "    ?s <http://schema.org/name> ?sname .\n",
    "    ?o <http://schema.org/name> ?owner .\n",
    "    \n",
    "    FILTER ((?type = wd:Q4830453) || (?type = wd:Q6881511)) .\n",
    "} \n",
    "LIMIT 20\n",
    "\"\"\"\n",
    "print(\"Results\")\n",
    "run_query(queryString)"
   ]
  },
  {
   "cell_type": "markdown",
   "id": "88078f3a-0d24-43c9-a828-01b8940c8452",
   "metadata": {},
   "source": [
    "Find EU states"
   ]
  },
  {
   "cell_type": "code",
   "execution_count": 9,
   "id": "7fdbf54f-c167-4c67-9316-9d91e75ff308",
   "metadata": {
    "collapsed": true,
    "jupyter": {
     "outputs_hidden": true
    },
    "tags": []
   },
   "outputs": [
    {
     "name": "stdout",
     "output_type": "stream",
     "text": [
      "Results\n",
      "[('p', 'http://www.wikidata.org/prop/direct/P1464'), ('pname', 'category for people born here'), ('o', 'http://www.wikidata.org/entity/Q7463334'), ('owner', 'Category:Births in France')]\n",
      "[('p', 'http://www.wikidata.org/prop/direct/P527'), ('pname', 'has part'), ('o', 'http://www.wikidata.org/entity/Q1050483'), ('owner', 'Loire Valley')]\n",
      "[('p', 'http://www.wikidata.org/prop/direct/P78'), ('pname', 'top-level Internet domain'), ('o', 'http://www.wikidata.org/entity/Q37271'), ('owner', '.fr')]\n",
      "[('p', 'http://www.wikidata.org/prop/direct/P163'), ('pname', 'flag'), ('o', 'http://www.wikidata.org/entity/Q43192'), ('owner', 'flag of France')]\n",
      "[('p', 'http://www.wikidata.org/prop/direct/P150'), ('pname', 'contains administrative territorial entity'), ('o', 'http://www.wikidata.org/entity/Q161258'), ('owner', 'Clipperton Island')]\n",
      "[('p', 'http://www.wikidata.org/prop/direct/P150'), ('pname', 'contains administrative territorial entity'), ('o', 'http://www.wikidata.org/entity/Q25362'), ('owner', 'Saint Barthélemy')]\n",
      "[('p', 'http://www.wikidata.org/prop/direct/P150'), ('pname', 'contains administrative territorial entity'), ('o', 'http://www.wikidata.org/entity/Q17054'), ('owner', 'Martinique')]\n",
      "[('p', 'http://www.wikidata.org/prop/direct/P85'), ('pname', 'anthem'), ('o', 'http://www.wikidata.org/entity/Q41180'), ('owner', 'La Marseillaise')]\n",
      "[('p', 'http://www.wikidata.org/prop/direct/P2746'), ('pname', 'production statistics'), ('o', 'http://www.wikidata.org/entity/Q167296'), ('owner', 'cider')]\n",
      "[('p', 'http://www.wikidata.org/prop/direct/P209'), ('pname', 'highest judicial authority'), ('o', 'http://www.wikidata.org/entity/Q769657'), ('owner', \"Conseil d'Etat\")]\n",
      "[('p', 'http://www.wikidata.org/prop/direct/P2746'), ('pname', 'production statistics'), ('o', 'http://www.wikidata.org/entity/Q134862'), ('owner', 'champagne')]\n",
      "[('p', 'http://www.wikidata.org/prop/direct/P2852'), ('pname', 'emergency telephone number'), ('o', 'http://www.wikidata.org/entity/Q2945964'), ('owner', '114')]\n",
      "[('p', 'http://www.wikidata.org/prop/direct/P209'), ('pname', 'highest judicial authority'), ('o', 'http://www.wikidata.org/entity/Q1137614'), ('owner', 'Court of Audit')]\n",
      "[('p', 'http://www.wikidata.org/prop/direct/P1792'), ('pname', 'category of associated people'), ('o', 'http://www.wikidata.org/entity/Q3919837'), ('owner', 'Category:French people')]\n",
      "[('p', 'http://www.wikidata.org/prop/direct/P209'), ('pname', 'highest judicial authority'), ('o', 'http://www.wikidata.org/entity/Q1127218'), ('owner', 'Constitutional Council of France')]\n",
      "[('p', 'http://www.wikidata.org/prop/direct/P530'), ('pname', 'diplomatic relation'), ('o', 'http://www.wikidata.org/entity/Q1000'), ('owner', 'Gabon')]\n",
      "[('p', 'http://www.wikidata.org/prop/direct/P530'), ('pname', 'diplomatic relation'), ('o', 'http://www.wikidata.org/entity/Q1009'), ('owner', 'Cameroon')]\n",
      "[('p', 'http://www.wikidata.org/prop/direct/P530'), ('pname', 'diplomatic relation'), ('o', 'http://www.wikidata.org/entity/Q1011'), ('owner', 'Cape Verde')]\n",
      "[('p', 'http://www.wikidata.org/prop/direct/P530'), ('pname', 'diplomatic relation'), ('o', 'http://www.wikidata.org/entity/Q1016'), ('owner', 'Libya')]\n",
      "[('p', 'http://www.wikidata.org/prop/direct/P530'), ('pname', 'diplomatic relation'), ('o', 'http://www.wikidata.org/entity/Q1025'), ('owner', 'Mauritania')]\n",
      "[('p', 'http://www.wikidata.org/prop/direct/P530'), ('pname', 'diplomatic relation'), ('o', 'http://www.wikidata.org/entity/Q1027'), ('owner', 'Mauritius')]\n",
      "[('p', 'http://www.wikidata.org/prop/direct/P530'), ('pname', 'diplomatic relation'), ('o', 'http://www.wikidata.org/entity/Q1028'), ('owner', 'Morocco')]\n",
      "[('p', 'http://www.wikidata.org/prop/direct/P530'), ('pname', 'diplomatic relation'), ('o', 'http://www.wikidata.org/entity/Q1032'), ('owner', 'Niger')]\n",
      "[('p', 'http://www.wikidata.org/prop/direct/P530'), ('pname', 'diplomatic relation'), ('o', 'http://www.wikidata.org/entity/Q1037'), ('owner', 'Rwanda')]\n",
      "[('p', 'http://www.wikidata.org/prop/direct/P463'), ('pname', 'member of'), ('o', 'http://www.wikidata.org/entity/Q1043527'), ('owner', 'Multilateral Investment Guarantee Agency')]\n",
      "[('p', 'http://www.wikidata.org/prop/direct/P530'), ('pname', 'diplomatic relation'), ('o', 'http://www.wikidata.org/entity/Q1045'), ('owner', 'Somalia')]\n",
      "[('p', 'http://www.wikidata.org/prop/direct/P2852'), ('pname', 'emergency telephone number'), ('o', 'http://www.wikidata.org/entity/Q1061257'), ('owner', '112')]\n",
      "[('p', 'http://www.wikidata.org/prop/direct/P463'), ('pname', 'member of'), ('o', 'http://www.wikidata.org/entity/Q1065'), ('owner', 'United Nations')]\n",
      "[('p', 'http://www.wikidata.org/prop/direct/P463'), ('pname', 'member of'), ('o', 'http://www.wikidata.org/entity/Q1072120'), ('owner', 'Missile Technology Control Regime')]\n",
      "[('p', 'http://www.wikidata.org/prop/direct/P2936'), ('pname', 'language used'), ('o', 'http://www.wikidata.org/entity/Q12107'), ('owner', 'Breton')]\n",
      "[('p', 'http://www.wikidata.org/prop/direct/P150'), ('pname', 'contains administrative territorial entity'), ('o', 'http://www.wikidata.org/entity/Q12130'), ('owner', 'Brittany')]\n",
      "[('p', 'http://www.wikidata.org/prop/direct/P530'), ('pname', 'diplomatic relation'), ('o', 'http://www.wikidata.org/entity/Q1246'), ('owner', 'Kosovo')]\n",
      "[('p', 'http://www.wikidata.org/prop/direct/P150'), ('pname', 'contains administrative territorial entity'), ('o', 'http://www.wikidata.org/entity/Q126125'), ('owner', 'Saint Martin (French part)')]\n",
      "[('p', 'http://www.wikidata.org/prop/direct/P150'), ('pname', 'contains administrative territorial entity'), ('o', 'http://www.wikidata.org/entity/Q129003'), ('owner', 'French Southern and Antarctic Lands')]\n",
      "[('p', 'http://www.wikidata.org/prop/direct/P5658'), ('pname', 'railway traffic side'), ('o', 'http://www.wikidata.org/entity/Q13196750'), ('owner', 'left')]\n",
      "[('p', 'http://www.wikidata.org/prop/direct/P463'), ('pname', 'member of'), ('o', 'http://www.wikidata.org/entity/Q134102'), ('owner', 'Organisation internationale de la Francophonie')]\n",
      "[('p', 'http://www.wikidata.org/prop/direct/P463'), ('pname', 'member of'), ('o', 'http://www.wikidata.org/entity/Q1377612'), ('owner', 'European Payments Union')]\n",
      "[('p', 'http://www.wikidata.org/prop/direct/P2853'), ('pname', 'electrical plug type'), ('o', 'http://www.wikidata.org/entity/Q1378312'), ('owner', 'Europlug')]\n",
      "[('p', 'http://www.wikidata.org/prop/direct/P150'), ('pname', 'contains administrative territorial entity'), ('o', 'http://www.wikidata.org/entity/Q13947'), ('owner', 'Centre-Val de Loire')]\n",
      "[('p', 'http://www.wikidata.org/prop/direct/P463'), ('pname', 'member of'), ('o', 'http://www.wikidata.org/entity/Q141720'), ('owner', 'European Air Transport Command')]\n",
      "[('p', 'http://www.wikidata.org/prop/direct/P17'), ('pname', 'country'), ('o', 'http://www.wikidata.org/entity/Q142'), ('owner', 'France')]\n",
      "[('p', 'http://www.wikidata.org/prop/direct/P530'), ('pname', 'diplomatic relation'), ('o', 'http://www.wikidata.org/entity/Q145'), ('owner', 'United Kingdom')]\n",
      "[('p', 'http://www.wikidata.org/prop/direct/P1622'), ('pname', 'driving side'), ('o', 'http://www.wikidata.org/entity/Q14565199'), ('owner', 'right')]\n",
      "[('p', 'http://www.wikidata.org/prop/direct/P5658'), ('pname', 'railway traffic side'), ('o', 'http://www.wikidata.org/entity/Q14565199'), ('owner', 'right')]\n",
      "[('p', 'http://www.wikidata.org/prop/direct/P6379'), ('pname', 'has works in the collection'), ('o', 'http://www.wikidata.org/entity/Q1464509'), ('owner', 'National Gallery of Victoria')]\n",
      "[('p', 'http://www.wikidata.org/prop/direct/P530'), ('pname', 'diplomatic relation'), ('o', 'http://www.wikidata.org/entity/Q148'), ('owner', \"People's Republic of China\")]\n",
      "[('p', 'http://www.wikidata.org/prop/direct/P463'), ('pname', 'member of'), ('o', 'http://www.wikidata.org/entity/Q1480793'), ('owner', 'Nuclear Suppliers Group')]\n",
      "[('p', 'http://www.wikidata.org/prop/direct/P37'), ('pname', 'official language'), ('o', 'http://www.wikidata.org/entity/Q150'), ('owner', 'French')]\n",
      "[('p', 'http://www.wikidata.org/prop/direct/P150'), ('pname', 'contains administrative territorial entity'), ('o', 'http://www.wikidata.org/entity/Q15104'), ('owner', \"Provence-Alpes-Côte d'Azur\")]\n",
      "[('p', 'http://www.wikidata.org/prop/direct/P463'), ('pname', 'member of'), ('o', 'http://www.wikidata.org/entity/Q151991'), ('owner', 'European Southern Observatory')]\n",
      "[('p', 'http://www.wikidata.org/prop/direct/P912'), ('pname', 'has facility'), ('o', 'http://www.wikidata.org/entity/Q1525'), ('owner', 'roundabout')]\n",
      "[('p', 'http://www.wikidata.org/prop/direct/P47'), ('pname', 'shares border with'), ('o', 'http://www.wikidata.org/entity/Q155'), ('owner', 'Brazil')]\n",
      "[('p', 'http://www.wikidata.org/prop/direct/P530'), ('pname', 'diplomatic relation'), ('o', 'http://www.wikidata.org/entity/Q155'), ('owner', 'Brazil')]\n",
      "[('p', 'http://www.wikidata.org/prop/direct/P1313'), ('pname', 'office held by head of government'), ('o', 'http://www.wikidata.org/entity/Q1587677'), ('owner', 'Prime Minister of France')]\n",
      "[('p', 'http://www.wikidata.org/prop/direct/P530'), ('pname', 'diplomatic relation'), ('o', 'http://www.wikidata.org/entity/Q159'), ('owner', 'Russia')]\n",
      "[('p', 'http://www.wikidata.org/prop/direct/P530'), ('pname', 'diplomatic relation'), ('o', 'http://www.wikidata.org/entity/Q159583'), ('owner', 'Holy See')]\n",
      "[('p', 'http://www.wikidata.org/prop/direct/P530'), ('pname', 'diplomatic relation'), ('o', 'http://www.wikidata.org/entity/Q16'), ('owner', 'Canada')]\n",
      "[('p', 'http://www.wikidata.org/prop/direct/P463'), ('pname', 'member of'), ('o', 'http://www.wikidata.org/entity/Q161549'), ('owner', 'European Coal and Steel Community')]\n",
      "[('p', 'http://www.wikidata.org/prop/direct/P463'), ('pname', 'member of'), ('o', 'http://www.wikidata.org/entity/Q162656'), ('owner', 'International Civil Defence Organisation')]\n",
      "[('p', 'http://www.wikidata.org/prop/direct/P206'), ('pname', 'located in or next to body of water'), ('o', 'http://www.wikidata.org/entity/Q1693'), ('owner', 'North Sea')]\n",
      "[('p', 'http://www.wikidata.org/prop/direct/P530'), ('pname', 'diplomatic relation'), ('o', 'http://www.wikidata.org/entity/Q17'), ('owner', 'Japan')]\n",
      "[('p', 'http://www.wikidata.org/prop/direct/P463'), ('pname', 'member of'), ('o', 'http://www.wikidata.org/entity/Q170424'), ('owner', 'World Meteorological Organization')]\n",
      "[('p', 'http://www.wikidata.org/prop/direct/P463'), ('pname', 'member of'), ('o', 'http://www.wikidata.org/entity/Q17495'), ('owner', 'Universal Postal Union')]\n",
      "[('p', 'http://www.wikidata.org/prop/direct/P47'), ('pname', 'shares border with'), ('o', 'http://www.wikidata.org/entity/Q183'), ('owner', 'Germany')]\n",
      "[('p', 'http://www.wikidata.org/prop/direct/P530'), ('pname', 'diplomatic relation'), ('o', 'http://www.wikidata.org/entity/Q183'), ('owner', 'Germany')]\n",
      "[('p', 'http://www.wikidata.org/prop/direct/P150'), ('pname', 'contains administrative territorial entity'), ('o', 'http://www.wikidata.org/entity/Q18338206'), ('owner', 'Auvergne-Rhône-Alpes')]\n",
      "[('p', 'http://www.wikidata.org/prop/direct/P530'), ('pname', 'diplomatic relation'), ('o', 'http://www.wikidata.org/entity/Q184'), ('owner', 'Belarus')]\n",
      "[('p', 'http://www.wikidata.org/prop/direct/P150'), ('pname', 'contains administrative territorial entity'), ('o', 'http://www.wikidata.org/entity/Q18677767'), ('owner', 'Hauts-de-France')]\n",
      "[('p', 'http://www.wikidata.org/prop/direct/P463'), ('pname', 'member of'), ('o', 'http://www.wikidata.org/entity/Q188822'), ('owner', 'Asian Development Bank')]\n",
      "[('p', 'http://www.wikidata.org/prop/direct/P463'), ('pname', 'member of'), ('o', 'http://www.wikidata.org/entity/Q189062'), ('owner', 'states with nuclear weapons')]\n",
      "[('p', 'http://www.wikidata.org/prop/direct/P463'), ('pname', 'member of'), ('o', 'http://www.wikidata.org/entity/Q191384'), ('owner', 'International Bank for Reconstruction and Development')]\n",
      "[('p', 'http://www.wikidata.org/prop/direct/P1343'), ('pname', 'described by source'), ('o', 'http://www.wikidata.org/entity/Q19180675'), ('owner', 'Small Brockhaus and Efron Encyclopedic Dictionary')]\n",
      "[('p', 'http://www.wikidata.org/prop/direct/P1906'), ('pname', 'office held by head of state'), ('o', 'http://www.wikidata.org/entity/Q191954'), ('owner', 'President of the French Republic')]\n",
      "[('p', 'http://www.wikidata.org/prop/direct/P463'), ('pname', 'member of'), ('o', 'http://www.wikidata.org/entity/Q1928989'), ('owner', 'Treaty on Open Skies')]\n",
      "[('p', 'http://www.wikidata.org/prop/direct/P1343'), ('pname', 'described by source'), ('o', 'http://www.wikidata.org/entity/Q19538713'), ('owner', 'Vlastenský slovník historický')]\n",
      "[('p', 'http://www.wikidata.org/prop/direct/P463'), ('pname', 'member of'), ('o', 'http://www.wikidata.org/entity/Q1969730'), ('owner', 'Schengen Area')]\n",
      "[('p', 'http://www.wikidata.org/prop/direct/P463'), ('pname', 'member of'), ('o', 'http://www.wikidata.org/entity/Q19771'), ('owner', 'G20')]\n",
      "[('p', 'http://www.wikidata.org/prop/direct/P530'), ('pname', 'diplomatic relation'), ('o', 'http://www.wikidata.org/entity/Q20'), ('owner', 'Norway')]\n",
      "[('p', 'http://www.wikidata.org/prop/direct/P530'), ('pname', 'diplomatic relation'), ('o', 'http://www.wikidata.org/entity/Q205047'), ('owner', 'Kurdistan Region')]\n",
      "[('p', 'http://www.wikidata.org/prop/direct/P530'), ('pname', 'diplomatic relation'), ('o', 'http://www.wikidata.org/entity/Q212'), ('owner', 'Ukraine')]\n",
      "[('p', 'http://www.wikidata.org/prop/direct/P530'), ('pname', 'diplomatic relation'), ('o', 'http://www.wikidata.org/entity/Q218'), ('owner', 'Romania')]\n",
      "[('p', 'http://www.wikidata.org/prop/direct/P530'), ('pname', 'diplomatic relation'), ('o', 'http://www.wikidata.org/entity/Q219'), ('owner', 'Bulgaria')]\n",
      "[('p', 'http://www.wikidata.org/prop/direct/P530'), ('pname', 'diplomatic relation'), ('o', 'http://www.wikidata.org/entity/Q222'), ('owner', 'Albania')]\n",
      "[('p', 'http://www.wikidata.org/prop/direct/P530'), ('pname', 'diplomatic relation'), ('o', 'http://www.wikidata.org/entity/Q227'), ('owner', 'Azerbaijan')]\n",
      "[('p', 'http://www.wikidata.org/prop/direct/P47'), ('pname', 'shares border with'), ('o', 'http://www.wikidata.org/entity/Q228'), ('owner', 'Andorra')]\n",
      "[('p', 'http://www.wikidata.org/prop/direct/P530'), ('pname', 'diplomatic relation'), ('o', 'http://www.wikidata.org/entity/Q228'), ('owner', 'Andorra')]\n",
      "[('p', 'http://www.wikidata.org/prop/direct/P530'), ('pname', 'diplomatic relation'), ('o', 'http://www.wikidata.org/entity/Q230'), ('owner', 'Georgia')]\n",
      "[('p', 'http://www.wikidata.org/prop/direct/P2853'), ('pname', 'electrical plug type'), ('o', 'http://www.wikidata.org/entity/Q2335536'), ('owner', 'Type E')]\n",
      "[('p', 'http://www.wikidata.org/prop/direct/P463'), ('pname', 'member of'), ('o', 'http://www.wikidata.org/entity/Q233611'), ('owner', 'International Hydrographic Organization')]\n",
      "[('p', 'http://www.wikidata.org/prop/direct/P47'), ('pname', 'shares border with'), ('o', 'http://www.wikidata.org/entity/Q235'), ('owner', 'Monaco')]\n",
      "[('p', 'http://www.wikidata.org/prop/direct/P530'), ('pname', 'diplomatic relation'), ('o', 'http://www.wikidata.org/entity/Q235'), ('owner', 'Monaco')]\n",
      "[('p', 'http://www.wikidata.org/prop/direct/P530'), ('pname', 'diplomatic relation'), ('o', 'http://www.wikidata.org/entity/Q244'), ('owner', 'Barbados')]\n",
      "[('p', 'http://www.wikidata.org/prop/direct/P530'), ('pname', 'diplomatic relation'), ('o', 'http://www.wikidata.org/entity/Q252'), ('owner', 'Indonesia')]\n",
      "[('p', 'http://www.wikidata.org/prop/direct/P2852'), ('pname', 'emergency telephone number'), ('o', 'http://www.wikidata.org/entity/Q25648842'), ('owner', '17')]\n",
      "[('p', 'http://www.wikidata.org/prop/direct/P2852'), ('pname', 'emergency telephone number'), ('o', 'http://www.wikidata.org/entity/Q25648843'), ('owner', '18')]\n",
      "[('p', 'http://www.wikidata.org/prop/direct/P2852'), ('pname', 'emergency telephone number'), ('o', 'http://www.wikidata.org/entity/Q25648869'), ('owner', '15')]\n",
      "[('p', 'http://www.wikidata.org/prop/direct/P530'), ('pname', 'diplomatic relation'), ('o', 'http://www.wikidata.org/entity/Q258'), ('owner', 'South Africa')]\n",
      "[('p', 'http://www.wikidata.org/prop/direct/P530'), ('pname', 'diplomatic relation'), ('o', 'http://www.wikidata.org/entity/Q262'), ('owner', 'Algeria')]\n",
      "[('p', 'http://www.wikidata.org/prop/direct/P530'), ('pname', 'diplomatic relation'), ('o', 'http://www.wikidata.org/entity/Q27'), ('owner', 'Ireland')]\n",
      "[('p', 'http://www.wikidata.org/prop/direct/P361'), ('pname', 'part of'), ('o', 'http://www.wikidata.org/entity/Q27496'), ('owner', 'Western Europe')]\n",
      "[('p', 'http://www.wikidata.org/prop/direct/P463'), ('pname', 'member of'), ('o', 'http://www.wikidata.org/entity/Q277252'), ('owner', 'Southeast Asia Treaty Organization')]\n",
      "[('p', 'http://www.wikidata.org/prop/direct/P530'), ('pname', 'diplomatic relation'), ('o', 'http://www.wikidata.org/entity/Q28'), ('owner', 'Hungary')]\n",
      "[('p', 'http://www.wikidata.org/prop/direct/P47'), ('pname', 'shares border with'), ('o', 'http://www.wikidata.org/entity/Q29'), ('owner', 'Spain')]\n",
      "[('p', 'http://www.wikidata.org/prop/direct/P530'), ('pname', 'diplomatic relation'), ('o', 'http://www.wikidata.org/entity/Q29'), ('owner', 'Spain')]\n",
      "[('p', 'http://www.wikidata.org/prop/direct/P530'), ('pname', 'diplomatic relation'), ('o', 'http://www.wikidata.org/entity/Q298'), ('owner', 'Chile')]\n",
      "[('p', 'http://www.wikidata.org/prop/direct/P47'), ('pname', 'shares border with'), ('o', 'http://www.wikidata.org/entity/Q29999'), ('owner', 'Kingdom of the Netherlands')]\n",
      "[('p', 'http://www.wikidata.org/prop/direct/P530'), ('pname', 'diplomatic relation'), ('o', 'http://www.wikidata.org/entity/Q30'), ('owner', 'United States of America')]\n",
      "[('p', 'http://www.wikidata.org/prop/direct/P1343'), ('pname', 'described by source'), ('o', 'http://www.wikidata.org/entity/Q302556'), ('owner', 'Catholic Encyclopedia')]\n",
      "[('p', 'http://www.wikidata.org/prop/direct/P47'), ('pname', 'shares border with'), ('o', 'http://www.wikidata.org/entity/Q31'), ('owner', 'Belgium')]\n",
      "[('p', 'http://www.wikidata.org/prop/direct/P530'), ('pname', 'diplomatic relation'), ('o', 'http://www.wikidata.org/entity/Q31'), ('owner', 'Belgium')]\n",
      "[('p', 'http://www.wikidata.org/prop/direct/P1552'), ('pname', 'has quality'), ('o', 'http://www.wikidata.org/entity/Q3174312'), ('owner', 'free country')]\n",
      "[('p', 'http://www.wikidata.org/prop/direct/P1343'), ('pname', 'described by source'), ('o', 'http://www.wikidata.org/entity/Q3181656'), ('owner', 'The Nuttall Encyclopædia')]\n",
      "[('p', 'http://www.wikidata.org/prop/direct/P47'), ('pname', 'shares border with'), ('o', 'http://www.wikidata.org/entity/Q32'), ('owner', 'Luxembourg')]\n",
      "[('p', 'http://www.wikidata.org/prop/direct/P530'), ('pname', 'diplomatic relation'), ('o', 'http://www.wikidata.org/entity/Q32'), ('owner', 'Luxembourg')]\n",
      "[('p', 'http://www.wikidata.org/prop/direct/P530'), ('pname', 'diplomatic relation'), ('o', 'http://www.wikidata.org/entity/Q33'), ('owner', 'Finland')]\n",
      "[('p', 'http://www.wikidata.org/prop/direct/P530'), ('pname', 'diplomatic relation'), ('o', 'http://www.wikidata.org/entity/Q334'), ('owner', 'Singapore')]\n",
      "[('p', 'http://www.wikidata.org/prop/direct/P150'), ('pname', 'contains administrative territorial entity'), ('o', 'http://www.wikidata.org/entity/Q33788'), ('owner', 'New Caledonia')]\n",
      "[('p', 'http://www.wikidata.org/prop/direct/P530'), ('pname', 'diplomatic relation'), ('o', 'http://www.wikidata.org/entity/Q34'), ('owner', 'Sweden')]\n",
      "[('p', 'http://www.wikidata.org/prop/direct/P463'), ('pname', 'member of'), ('o', 'http://www.wikidata.org/entity/Q340195'), ('owner', 'African Development Bank')]\n",
      "[('p', 'http://www.wikidata.org/prop/direct/P206'), ('pname', 'located in or next to body of water'), ('o', 'http://www.wikidata.org/entity/Q34640'), ('owner', 'English Channel')]\n",
      "[('p', 'http://www.wikidata.org/prop/direct/P530'), ('pname', 'diplomatic relation'), ('o', 'http://www.wikidata.org/entity/Q35'), ('owner', 'Denmark')]\n",
      "[('p', 'http://www.wikidata.org/prop/direct/P530'), ('pname', 'diplomatic relation'), ('o', 'http://www.wikidata.org/entity/Q36'), ('owner', 'Poland')]\n",
      "[('p', 'http://www.wikidata.org/prop/direct/P31'), ('pname', 'instance of'), ('o', 'http://www.wikidata.org/entity/Q3624078'), ('owner', 'sovereign state')]\n",
      "[('p', 'http://www.wikidata.org/prop/direct/P463'), ('pname', 'member of'), ('o', 'http://www.wikidata.org/entity/Q37143'), ('owner', 'G8')]\n",
      "[('p', 'http://www.wikidata.org/prop/direct/P463'), ('pname', 'member of'), ('o', 'http://www.wikidata.org/entity/Q37470'), ('owner', 'United Nations Security Council')]\n",
      "[('p', 'http://www.wikidata.org/prop/direct/P463'), ('pname', 'member of'), ('o', 'http://www.wikidata.org/entity/Q376150'), ('owner', 'International Telecommunication Union')]\n",
      "[('p', 'http://www.wikidata.org/prop/direct/P150'), ('pname', 'contains administrative territorial entity'), ('o', 'http://www.wikidata.org/entity/Q3769'), ('owner', 'French Guiana')]\n",
      "[('p', 'http://www.wikidata.org/prop/direct/P47'), ('pname', 'shares border with'), ('o', 'http://www.wikidata.org/entity/Q38'), ('owner', 'Italy')]\n",
      "[('p', 'http://www.wikidata.org/prop/direct/P530'), ('pname', 'diplomatic relation'), ('o', 'http://www.wikidata.org/entity/Q38'), ('owner', 'Italy')]\n",
      "[('p', 'http://www.wikidata.org/prop/direct/P463'), ('pname', 'member of'), ('o', 'http://www.wikidata.org/entity/Q3866537'), ('owner', 'Movement Coordination Centre Europe')]\n",
      "[('p', 'http://www.wikidata.org/prop/direct/P47'), ('pname', 'shares border with'), ('o', 'http://www.wikidata.org/entity/Q39'), ('owner', 'Switzerland')]\n",
      "[('p', 'http://www.wikidata.org/prop/direct/P530'), ('pname', 'diplomatic relation'), ('o', 'http://www.wikidata.org/entity/Q39'), ('owner', 'Switzerland')]\n",
      "[('p', 'http://www.wikidata.org/prop/direct/P530'), ('pname', 'diplomatic relation'), ('o', 'http://www.wikidata.org/entity/Q399'), ('owner', 'Armenia')]\n",
      "[('p', 'http://www.wikidata.org/prop/direct/P530'), ('pname', 'diplomatic relation'), ('o', 'http://www.wikidata.org/entity/Q40'), ('owner', 'Austria')]\n",
      "[('p', 'http://www.wikidata.org/prop/direct/P530'), ('pname', 'diplomatic relation'), ('o', 'http://www.wikidata.org/entity/Q403'), ('owner', 'Serbia')]\n",
      "[('p', 'http://www.wikidata.org/prop/direct/P530'), ('pname', 'diplomatic relation'), ('o', 'http://www.wikidata.org/entity/Q408'), ('owner', 'Australia')]\n",
      "[('p', 'http://www.wikidata.org/prop/direct/P530'), ('pname', 'diplomatic relation'), ('o', 'http://www.wikidata.org/entity/Q41'), ('owner', 'Greece')]\n",
      "[('p', 'http://www.wikidata.org/prop/direct/P530'), ('pname', 'diplomatic relation'), ('o', 'http://www.wikidata.org/entity/Q414'), ('owner', 'Argentina')]\n",
      "[('p', 'http://www.wikidata.org/prop/direct/P463'), ('pname', 'member of'), ('o', 'http://www.wikidata.org/entity/Q41550'), ('owner', 'Organisation for Economic Cooperation and Development')]\n",
      "[('p', 'http://www.wikidata.org/prop/direct/P1343'), ('pname', 'described by source'), ('o', 'http://www.wikidata.org/entity/Q4173137'), ('owner', 'Jewish Encyclopedia of Brockhaus and Efron')]\n",
      "[('p', 'http://www.wikidata.org/prop/direct/P530'), ('pname', 'diplomatic relation'), ('o', 'http://www.wikidata.org/entity/Q419'), ('owner', 'Peru')]\n",
      "[('p', 'http://www.wikidata.org/prop/direct/P463'), ('pname', 'member of'), ('o', 'http://www.wikidata.org/entity/Q42262'), ('owner', 'European Space Agency')]\n",
      "[('p', 'http://www.wikidata.org/prop/direct/P530'), ('pname', 'diplomatic relation'), ('o', 'http://www.wikidata.org/entity/Q424'), ('owner', 'Cambodia')]\n",
      "[('p', 'http://www.wikidata.org/prop/direct/P463'), ('pname', 'member of'), ('o', 'http://www.wikidata.org/entity/Q42944'), ('owner', 'CERN')]\n",
      "[('p', 'http://www.wikidata.org/prop/direct/P530'), ('pname', 'diplomatic relation'), ('o', 'http://www.wikidata.org/entity/Q43'), ('owner', 'Turkey')]\n",
      "[('p', 'http://www.wikidata.org/prop/direct/P463'), ('pname', 'member of'), ('o', 'http://www.wikidata.org/entity/Q45177'), ('owner', 'Visa Waiver Program')]\n",
      "[('p', 'http://www.wikidata.org/prop/direct/P1343'), ('pname', 'described by source'), ('o', 'http://www.wikidata.org/entity/Q4532138'), ('owner', 'Granat Encyclopedic Dictionary')]\n",
      "[('p', 'http://www.wikidata.org/prop/direct/P463'), ('pname', 'member of'), ('o', 'http://www.wikidata.org/entity/Q458'), ('owner', 'European Union')]\n",
      "[('p', 'http://www.wikidata.org/prop/direct/P30'), ('pname', 'continent'), ('o', 'http://www.wikidata.org/entity/Q46'), ('owner', 'Europe')]\n",
      "[('p', 'http://www.wikidata.org/prop/direct/P38'), ('pname', 'currency'), ('o', 'http://www.wikidata.org/entity/Q4916'), ('owner', 'euro')]\n",
      "[('p', 'http://www.wikidata.org/prop/direct/P206'), ('pname', 'located in or next to body of water'), ('o', 'http://www.wikidata.org/entity/Q4918'), ('owner', 'Mediterranean Sea')]\n",
      "[('p', 'http://www.wikidata.org/prop/direct/P122'), ('pname', 'basic form of government'), ('o', 'http://www.wikidata.org/entity/Q49890'), ('owner', 'semi-presidential system')]\n",
      "[('p', 'http://www.wikidata.org/prop/direct/P31'), ('pname', 'instance of'), ('o', 'http://www.wikidata.org/entity/Q51576574'), ('owner', 'Mediterranean country')]\n",
      "[('p', 'http://www.wikidata.org/prop/direct/P463'), ('pname', 'member of'), ('o', 'http://www.wikidata.org/entity/Q521227'), ('owner', 'Organisation for Joint Armament Cooperation')]\n",
      "[('p', 'http://www.wikidata.org/prop/direct/P5008'), ('pname', 'on focus list of Wikimedia project'), ('o', 'http://www.wikidata.org/entity/Q5460604'), ('owner', 'Wikipedia:Vital articles')]\n",
      "[('p', 'http://www.wikidata.org/prop/direct/P463'), ('pname', 'member of'), ('o', 'http://www.wikidata.org/entity/Q5611262'), ('owner', 'Group on Earth Observations')]\n",
      "[('p', 'http://www.wikidata.org/prop/direct/P1343'), ('pname', 'described by source'), ('o', 'http://www.wikidata.org/entity/Q602358'), ('owner', 'Brockhaus and Efron Encyclopedic Dictionary')]\n",
      "[('p', 'http://www.wikidata.org/prop/direct/P31'), ('pname', 'instance of'), ('o', 'http://www.wikidata.org/entity/Q6256'), ('owner', 'country')]\n",
      "[('p', 'http://www.wikidata.org/prop/direct/P463'), ('pname', 'member of'), ('o', 'http://www.wikidata.org/entity/Q656801'), ('owner', 'International Finance Corporation')]\n",
      "[('p', 'http://www.wikidata.org/prop/direct/P530'), ('pname', 'diplomatic relation'), ('o', 'http://www.wikidata.org/entity/Q657'), ('owner', 'Chad')]\n",
      "[('p', 'http://www.wikidata.org/prop/direct/P463'), ('pname', 'member of'), ('o', 'http://www.wikidata.org/entity/Q663492'), ('owner', 'Eurocontrol')]\n",
      "[('p', 'http://www.wikidata.org/prop/direct/P530'), ('pname', 'diplomatic relation'), ('o', 'http://www.wikidata.org/entity/Q664'), ('owner', 'New Zealand')]\n",
      "[('p', 'http://www.wikidata.org/prop/direct/P421'), ('pname', 'located in time zone'), ('o', 'http://www.wikidata.org/entity/Q6655'), ('owner', 'UTC+01:00')]\n",
      "[('p', 'http://www.wikidata.org/prop/direct/P530'), ('pname', 'diplomatic relation'), ('o', 'http://www.wikidata.org/entity/Q668'), ('owner', 'India')]\n",
      "[('p', 'http://www.wikidata.org/prop/direct/P530'), ('pname', 'diplomatic relation'), ('o', 'http://www.wikidata.org/entity/Q686'), ('owner', 'Vanuatu')]\n",
      "[('p', 'http://www.wikidata.org/prop/direct/P530'), ('pname', 'diplomatic relation'), ('o', 'http://www.wikidata.org/entity/Q691'), ('owner', 'Papua New Guinea')]\n",
      "[('p', 'http://www.wikidata.org/prop/direct/P1365'), ('pname', 'replaces'), ('o', 'http://www.wikidata.org/entity/Q70972'), ('owner', 'Kingdom of France')]\n",
      "[('p', 'http://www.wikidata.org/prop/direct/P530'), ('pname', 'diplomatic relation'), ('o', 'http://www.wikidata.org/entity/Q711'), ('owner', 'Mongolia')]\n",
      "[('p', 'http://www.wikidata.org/prop/direct/P530'), ('pname', 'diplomatic relation'), ('o', 'http://www.wikidata.org/entity/Q712'), ('owner', 'Fiji')]\n",
      "[('p', 'http://www.wikidata.org/prop/direct/P530'), ('pname', 'diplomatic relation'), ('o', 'http://www.wikidata.org/entity/Q717'), ('owner', 'Venezuela')]\n",
      "[('p', 'http://www.wikidata.org/prop/direct/P463'), ('pname', 'member of'), ('o', 'http://www.wikidata.org/entity/Q7184'), ('owner', 'NATO')]\n",
      "[('p', 'http://www.wikidata.org/prop/direct/P31'), ('pname', 'instance of'), ('o', 'http://www.wikidata.org/entity/Q7270'), ('owner', 'republic')]\n",
      "[('p', 'http://www.wikidata.org/prop/direct/P47'), ('pname', 'shares border with'), ('o', 'http://www.wikidata.org/entity/Q730'), ('owner', 'Suriname')]\n",
      "[('p', 'http://www.wikidata.org/prop/direct/P530'), ('pname', 'diplomatic relation'), ('o', 'http://www.wikidata.org/entity/Q730'), ('owner', 'Suriname')]\n",
      "[('p', 'http://www.wikidata.org/prop/direct/P530'), ('pname', 'diplomatic relation'), ('o', 'http://www.wikidata.org/entity/Q739'), ('owner', 'Colombia')]\n",
      "[('p', 'http://www.wikidata.org/prop/direct/P530'), ('pname', 'diplomatic relation'), ('o', 'http://www.wikidata.org/entity/Q754'), ('owner', 'Trinidad and Tobago')]\n",
      "[('p', 'http://www.wikidata.org/prop/direct/P1344'), ('pname', 'participant in'), ('o', 'http://www.wikidata.org/entity/Q766437'), ('owner', 'Rif War')]\n",
      "[('p', 'http://www.wikidata.org/prop/direct/P530'), ('pname', 'diplomatic relation'), ('o', 'http://www.wikidata.org/entity/Q77'), ('owner', 'Uruguay')]\n",
      "[('p', 'http://www.wikidata.org/prop/direct/P2184'), ('pname', 'history of topic'), ('o', 'http://www.wikidata.org/entity/Q7778'), ('owner', 'history of France')]\n",
      "[('p', 'http://www.wikidata.org/prop/direct/P463'), ('pname', 'member of'), ('o', 'http://www.wikidata.org/entity/Q7809'), ('owner', 'UNESCO')]\n",
      "[('p', 'http://www.wikidata.org/prop/direct/P463'), ('pname', 'member of'), ('o', 'http://www.wikidata.org/entity/Q7817'), ('owner', 'World Health Organization')]\n",
      "[('p', 'http://www.wikidata.org/prop/direct/P463'), ('pname', 'member of'), ('o', 'http://www.wikidata.org/entity/Q7825'), ('owner', 'World Trade Organization')]\n",
      "[('p', 'http://www.wikidata.org/prop/direct/P463'), ('pname', 'member of'), ('o', 'http://www.wikidata.org/entity/Q782942'), ('owner', 'Australia Group')]\n",
      "[('p', 'http://www.wikidata.org/prop/direct/P530'), ('pname', 'diplomatic relation'), ('o', 'http://www.wikidata.org/entity/Q79'), ('owner', 'Egypt')]\n",
      "[('p', 'http://www.wikidata.org/prop/direct/P530'), ('pname', 'diplomatic relation'), ('o', 'http://www.wikidata.org/entity/Q790'), ('owner', 'Haiti')]\n",
      "[('p', 'http://www.wikidata.org/prop/direct/P530'), ('pname', 'diplomatic relation'), ('o', 'http://www.wikidata.org/entity/Q794'), ('owner', 'Iran')]\n",
      "[('p', 'http://www.wikidata.org/prop/direct/P530'), ('pname', 'diplomatic relation'), ('o', 'http://www.wikidata.org/entity/Q796'), ('owner', 'Iraq')]\n",
      "[('p', 'http://www.wikidata.org/prop/direct/P530'), ('pname', 'diplomatic relation'), ('o', 'http://www.wikidata.org/entity/Q801'), ('owner', 'Israel')]\n",
      "[('p', 'http://www.wikidata.org/prop/direct/P463'), ('pname', 'member of'), ('o', 'http://www.wikidata.org/entity/Q81299'), ('owner', 'Organization for Security and Co-operation in Europe')]\n",
      "[('p', 'http://www.wikidata.org/prop/direct/P530'), ('pname', 'diplomatic relation'), ('o', 'http://www.wikidata.org/entity/Q822'), ('owner', 'Lebanon')]\n",
      "[('p', 'http://www.wikidata.org/prop/direct/P463'), ('pname', 'member of'), ('o', 'http://www.wikidata.org/entity/Q826700'), ('owner', 'International Energy Agency')]\n",
      "[('p', 'http://www.wikidata.org/prop/direct/P463'), ('pname', 'member of'), ('o', 'http://www.wikidata.org/entity/Q827525'), ('owner', 'International Development Association')]\n",
      "[('p', 'http://www.wikidata.org/prop/direct/P530'), ('pname', 'diplomatic relation'), ('o', 'http://www.wikidata.org/entity/Q833'), ('owner', 'Malaysia')]\n",
      "[('p', 'http://www.wikidata.org/prop/direct/P530'), ('pname', 'diplomatic relation'), ('o', 'http://www.wikidata.org/entity/Q836'), ('owner', 'Myanmar')]\n",
      "[('p', 'http://www.wikidata.org/prop/direct/P463'), ('pname', 'member of'), ('o', 'http://www.wikidata.org/entity/Q842490'), ('owner', 'Organisation for the Prohibition of Chemical Weapons')]\n",
      "[('p', 'http://www.wikidata.org/prop/direct/P530'), ('pname', 'diplomatic relation'), ('o', 'http://www.wikidata.org/entity/Q843'), ('owner', 'Pakistan')]\n",
      "[('p', 'http://www.wikidata.org/prop/direct/P463'), ('pname', 'member of'), ('o', 'http://www.wikidata.org/entity/Q8475'), ('owner', 'Interpol')]\n",
      "[('p', 'http://www.wikidata.org/prop/direct/P530'), ('pname', 'diplomatic relation'), ('o', 'http://www.wikidata.org/entity/Q851'), ('owner', 'Saudi Arabia')]\n",
      "[('p', 'http://www.wikidata.org/prop/direct/P530'), ('pname', 'diplomatic relation'), ('o', 'http://www.wikidata.org/entity/Q858'), ('owner', 'Syria')]\n",
      "[('p', 'http://www.wikidata.org/prop/direct/P530'), ('pname', 'diplomatic relation'), ('o', 'http://www.wikidata.org/entity/Q865'), ('owner', 'Taiwan')]\n",
      "[('p', 'http://www.wikidata.org/prop/direct/P1343'), ('pname', 'described by source'), ('o', 'http://www.wikidata.org/entity/Q867541'), ('owner', 'Encyclopædia Britannica 11th edition')]\n",
      "[('p', 'http://www.wikidata.org/prop/direct/P530'), ('pname', 'diplomatic relation'), ('o', 'http://www.wikidata.org/entity/Q869'), ('owner', 'Thailand')]\n",
      "[('p', 'http://www.wikidata.org/prop/direct/P530'), ('pname', 'diplomatic relation'), ('o', 'http://www.wikidata.org/entity/Q874'), ('owner', 'Turkmenistan')]\n",
      "[('p', 'http://www.wikidata.org/prop/direct/P530'), ('pname', 'diplomatic relation'), ('o', 'http://www.wikidata.org/entity/Q878'), ('owner', 'United Arab Emirates')]\n",
      "[('p', 'http://www.wikidata.org/prop/direct/P530'), ('pname', 'diplomatic relation'), ('o', 'http://www.wikidata.org/entity/Q881'), ('owner', 'Vietnam')]\n",
      "[('p', 'http://www.wikidata.org/prop/direct/P530'), ('pname', 'diplomatic relation'), ('o', 'http://www.wikidata.org/entity/Q884'), ('owner', 'South Korea')]\n",
      "[('p', 'http://www.wikidata.org/prop/direct/P463'), ('pname', 'member of'), ('o', 'http://www.wikidata.org/entity/Q8908'), ('owner', 'Council of Europe')]\n",
      "[('p', 'http://www.wikidata.org/prop/direct/P463'), ('pname', 'member of'), ('o', 'http://www.wikidata.org/entity/Q899770'), ('owner', 'International Centre for Settlement of Investment Disputes')]\n",
      "[('p', 'http://www.wikidata.org/prop/direct/P36'), ('pname', 'capital'), ('o', 'http://www.wikidata.org/entity/Q90'), ('owner', 'Paris')]\n",
      "[('p', 'http://www.wikidata.org/prop/direct/P530'), ('pname', 'diplomatic relation'), ('o', 'http://www.wikidata.org/entity/Q902'), ('owner', 'Bangladesh')]\n",
      "[('p', 'http://www.wikidata.org/prop/direct/P530'), ('pname', 'diplomatic relation'), ('o', 'http://www.wikidata.org/entity/Q916'), ('owner', 'Angola')]\n",
      "[('p', 'http://www.wikidata.org/prop/direct/P530'), ('pname', 'diplomatic relation'), ('o', 'http://www.wikidata.org/entity/Q921'), ('owner', 'Brunei')]\n",
      "[('p', 'http://www.wikidata.org/prop/direct/P530'), ('pname', 'diplomatic relation'), ('o', 'http://www.wikidata.org/entity/Q948'), ('owner', 'Tunisia')]\n",
      "[('p', 'http://www.wikidata.org/prop/direct/P530'), ('pname', 'diplomatic relation'), ('o', 'http://www.wikidata.org/entity/Q96'), ('owner', 'Mexico')]\n",
      "[('p', 'http://www.wikidata.org/prop/direct/P530'), ('pname', 'diplomatic relation'), ('o', 'http://www.wikidata.org/entity/Q967'), ('owner', 'Burundi')]\n",
      "[('p', 'http://www.wikidata.org/prop/direct/P206'), ('pname', 'located in or next to body of water'), ('o', 'http://www.wikidata.org/entity/Q97'), ('owner', 'Atlantic Ocean')]\n",
      "[('p', 'http://www.wikidata.org/prop/direct/P530'), ('pname', 'diplomatic relation'), ('o', 'http://www.wikidata.org/entity/Q971'), ('owner', 'Republic of the Congo')]\n",
      "[('p', 'http://www.wikidata.org/prop/direct/P530'), ('pname', 'diplomatic relation'), ('o', 'http://www.wikidata.org/entity/Q977'), ('owner', 'Djibouti')]\n",
      "[('p', 'http://www.wikidata.org/prop/direct/P150'), ('pname', 'contains administrative territorial entity'), ('o', 'http://www.wikidata.org/entity/Q13917'), ('owner', 'Île-de-France')]\n",
      "[('p', 'http://www.wikidata.org/prop/direct/P2936'), ('pname', 'language used'), ('o', 'http://www.wikidata.org/entity/Q14185'), ('owner', 'Occitan')]\n",
      "[('p', 'http://www.wikidata.org/prop/direct/P150'), ('pname', 'contains administrative territorial entity'), ('o', 'http://www.wikidata.org/entity/Q16994'), ('owner', 'Pays de la Loire')]\n",
      "[('p', 'http://www.wikidata.org/prop/direct/P150'), ('pname', 'contains administrative territorial entity'), ('o', 'http://www.wikidata.org/entity/Q17012'), ('owner', 'Guadeloupe')]\n",
      "[('p', 'http://www.wikidata.org/prop/direct/P150'), ('pname', 'contains administrative territorial entity'), ('o', 'http://www.wikidata.org/entity/Q17070'), ('owner', 'Réunion')]\n",
      "[('p', 'http://www.wikidata.org/prop/direct/P150'), ('pname', 'contains administrative territorial entity'), ('o', 'http://www.wikidata.org/entity/Q18578267'), ('owner', 'Bourgogne-Franche-Comté')]\n",
      "[('p', 'http://www.wikidata.org/prop/direct/P150'), ('pname', 'contains administrative territorial entity'), ('o', 'http://www.wikidata.org/entity/Q18677875'), ('owner', 'Normandy')]\n",
      "[('p', 'http://www.wikidata.org/prop/direct/P150'), ('pname', 'contains administrative territorial entity'), ('o', 'http://www.wikidata.org/entity/Q18677983'), ('owner', 'Grand Est')]\n",
      "[('p', 'http://www.wikidata.org/prop/direct/P150'), ('pname', 'contains administrative territorial entity'), ('o', 'http://www.wikidata.org/entity/Q18678082'), ('owner', 'Nouvelle-Aquitaine')]\n",
      "[('p', 'http://www.wikidata.org/prop/direct/P150'), ('pname', 'contains administrative territorial entity'), ('o', 'http://www.wikidata.org/entity/Q18678265'), ('owner', 'Occitania')]\n",
      "[('p', 'http://www.wikidata.org/prop/direct/P610'), ('pname', 'highest point'), ('o', 'http://www.wikidata.org/entity/Q583'), ('owner', 'Mont Blanc')]\n",
      "[('p', 'http://www.wikidata.org/prop/direct/P2936'), ('pname', 'language used'), ('o', 'http://www.wikidata.org/entity/Q7026'), ('owner', 'Catalan')]\n",
      "[('p', 'http://www.wikidata.org/prop/direct/P832'), ('pname', 'public holiday'), ('o', 'http://www.wikidata.org/entity/Q326724'), ('owner', 'Bastille Day')]\n",
      "[('p', 'http://www.wikidata.org/prop/direct/P2936'), ('pname', 'language used'), ('o', 'http://www.wikidata.org/entity/Q8786'), ('owner', 'Alsatian')]\n",
      "[('p', 'http://www.wikidata.org/prop/direct/P150'), ('pname', 'contains administrative territorial entity'), ('o', 'http://www.wikidata.org/entity/Q17063'), ('owner', 'Mayotte')]\n",
      "[('p', 'http://www.wikidata.org/prop/direct/P150'), ('pname', 'contains administrative territorial entity'), ('o', 'http://www.wikidata.org/entity/Q30971'), ('owner', 'French Polynesia')]\n",
      "[('p', 'http://www.wikidata.org/prop/direct/P150'), ('pname', 'contains administrative territorial entity'), ('o', 'http://www.wikidata.org/entity/Q35555'), ('owner', 'Wallis and Futuna')]\n",
      "[('p', 'http://www.wikidata.org/prop/direct/P138'), ('pname', 'named after'), ('o', 'http://www.wikidata.org/entity/Q43482'), ('owner', 'Franks')]\n",
      "[('p', 'http://www.wikidata.org/prop/direct/P2936'), ('pname', 'language used'), ('o', 'http://www.wikidata.org/entity/Q8752'), ('owner', 'Basque')]\n",
      "[('p', 'http://www.wikidata.org/prop/direct/P208'), ('pname', 'executive body'), ('o', 'http://www.wikidata.org/entity/Q1450662'), ('owner', 'Government of France')]\n",
      "[('p', 'http://www.wikidata.org/prop/direct/P150'), ('pname', 'contains administrative territorial entity'), ('o', 'http://www.wikidata.org/entity/Q34617'), ('owner', 'Saint Pierre and Miquelon')]\n",
      "[('p', 'http://www.wikidata.org/prop/direct/P150'), ('pname', 'contains administrative territorial entity'), ('o', 'http://www.wikidata.org/entity/Q14112'), ('owner', 'Corsica')]\n",
      "[('p', 'http://www.wikidata.org/prop/direct/P463'), ('pname', 'member of'), ('o', 'http://www.wikidata.org/entity/Q1331152'), ('owner', 'Open Government Partnership')]\n",
      "[('p', 'http://www.wikidata.org/prop/direct/P2936'), ('pname', 'language used'), ('o', 'http://www.wikidata.org/entity/Q1400216'), ('owner', 'standard French')]\n",
      "[('p', 'http://www.wikidata.org/prop/direct/P1546'), ('pname', 'motto'), ('o', 'http://www.wikidata.org/entity/Q251583'), ('owner', 'Liberté, égalité, fraternité')]\n",
      "[('p', 'http://www.wikidata.org/prop/direct/P166'), ('pname', 'award received'), ('o', 'http://www.wikidata.org/entity/Q3381638'), ('owner', 'Lagun Onari')]\n",
      "[('p', 'http://www.wikidata.org/prop/direct/P2596'), ('pname', 'culture'), ('o', 'http://www.wikidata.org/entity/Q1985804'), ('owner', 'culture of France')]\n",
      "[('p', 'http://www.wikidata.org/prop/direct/P9241'), ('pname', 'demographics of topic'), ('o', 'http://www.wikidata.org/entity/Q1172523'), ('owner', 'demographics of France')]\n",
      "[('p', 'http://www.wikidata.org/prop/direct/P35'), ('pname', 'head of state'), ('o', 'http://www.wikidata.org/entity/Q3052772'), ('owner', 'Emmanuel Macron')]\n",
      "[('p', 'http://www.wikidata.org/prop/direct/P463'), ('pname', 'member of'), ('o', 'http://www.wikidata.org/entity/Q52847'), ('owner', 'European Economic Community')]\n",
      "[('p', 'http://www.wikidata.org/prop/direct/P194'), ('pname', 'legislative body'), ('o', 'http://www.wikidata.org/entity/Q632552'), ('owner', 'French Parliament')]\n",
      "[('p', 'http://www.wikidata.org/prop/direct/P457'), ('pname', 'foundational text'), ('o', 'http://www.wikidata.org/entity/Q832508'), ('owner', 'Constitution of France')]\n",
      "[('p', 'http://www.wikidata.org/prop/direct/P418'), ('pname', 'seal description'), ('o', 'http://www.wikidata.org/entity/Q3114823'), ('owner', 'Great Seal of France')]\n",
      "[('p', 'http://www.wikidata.org/prop/direct/P8744'), ('pname', 'economy of topic'), ('o', 'http://www.wikidata.org/entity/Q8057'), ('owner', 'economy of France')]\n",
      "[('p', 'http://www.wikidata.org/prop/direct/P1465'), ('pname', 'category for people who died here'), ('o', 'http://www.wikidata.org/entity/Q8366463'), ('owner', 'Category:Deaths in France')]\n",
      "[('p', 'http://www.wikidata.org/prop/direct/P910'), ('pname', \"topic's main category\"), ('o', 'http://www.wikidata.org/entity/Q8249'), ('owner', 'Category:France')]\n",
      "[('p', 'http://www.wikidata.org/prop/direct/P166'), ('pname', 'award received'), ('o', 'http://www.wikidata.org/entity/Q47004555'), ('owner', 'The Economist country of the year')]\n",
      "[('p', 'http://www.wikidata.org/prop/direct/P1365'), ('pname', 'replaces'), ('o', 'http://www.wikidata.org/entity/Q3446152'), ('owner', 'Kingdom of Bora Bora')]\n",
      "[('p', 'http://www.wikidata.org/prop/direct/P8402'), ('pname', 'open data portal'), ('o', 'http://www.wikidata.org/entity/Q3016893'), ('owner', 'data.gouv.fr')]\n",
      "[('p', 'http://www.wikidata.org/prop/direct/P209'), ('pname', 'highest judicial authority'), ('o', 'http://www.wikidata.org/entity/Q1138599'), ('owner', 'Court of Cassation')]\n",
      "[('p', 'http://www.wikidata.org/prop/direct/P3403'), ('pname', 'coextensive with'), ('o', 'http://www.wikidata.org/entity/Q5478259'), ('owner', 'France')]\n",
      "[('p', 'http://www.wikidata.org/prop/direct/P6104'), ('pname', 'maintained by WikiProject'), ('o', 'http://www.wikidata.org/entity/Q10816832'), ('owner', 'WikiProject France')]\n",
      "[('p', 'http://www.wikidata.org/prop/direct/P2633'), ('pname', 'geography of topic'), ('o', 'http://www.wikidata.org/entity/Q200533'), ('owner', 'geography of France')]\n",
      "[('p', 'http://www.wikidata.org/prop/direct/P6'), ('pname', 'head of government'), ('o', 'http://www.wikidata.org/entity/Q3171170'), ('owner', 'Jean Castex')]\n",
      "[('p', 'http://www.wikidata.org/prop/direct/P1151'), ('pname', \"topic's main Wikimedia portal\"), ('o', 'http://www.wikidata.org/entity/Q3247097'), ('owner', 'Portal:France')]\n",
      "[('p', 'http://www.wikidata.org/prop/direct/P237'), ('pname', 'coat of arms'), ('o', 'http://www.wikidata.org/entity/Q165432'), ('owner', 'Coat of arms of France')]\n",
      "[('p', 'http://www.wikidata.org/prop/direct/P1589'), ('pname', 'lowest point'), ('o', 'http://www.wikidata.org/entity/Q3591700'), ('owner', 'Étang de Lavalduc')]\n",
      "[('p', 'http://www.wikidata.org/prop/direct/P1791'), ('pname', 'category of people buried here'), ('o', 'http://www.wikidata.org/entity/Q8328624'), ('owner', 'Category:Burials in France')]\n",
      "[('p', 'http://www.wikidata.org/prop/direct/P361'), ('pname', 'part of'), ('o', 'http://www.wikidata.org/entity/Q1849394'), ('owner', 'Pyrenees–Mediterranean Euroregion')]\n",
      "[('p', 'http://www.wikidata.org/prop/direct/P1740'), ('pname', 'category for films shot at this location'), ('o', 'http://www.wikidata.org/entity/Q6271005'), ('owner', 'Category:Films shot in France')]\n",
      "[('p', 'http://www.wikidata.org/prop/direct/P7867'), ('pname', 'category for maps'), ('o', 'http://www.wikidata.org/entity/Q8607368'), ('owner', 'Category:Maps of France')]\n",
      "[('p', 'http://www.wikidata.org/prop/direct/P209'), ('pname', 'highest judicial authority'), ('o', 'http://www.wikidata.org/entity/Q1513561'), ('owner', 'Cour de Justice de la République')]\n",
      "[('p', 'http://www.wikidata.org/prop/direct/P2579'), ('pname', 'studied by'), ('o', 'http://www.wikidata.org/entity/Q3082422'), ('owner', 'francology')]\n",
      "[('p', 'http://www.wikidata.org/prop/direct/P5125'), ('pname', 'Wikimedia outline'), ('o', 'http://www.wikidata.org/entity/Q4261422'), ('owner', 'outline of France')]\n"
     ]
    },
    {
     "data": {
      "text/plain": [
       "272"
      ]
     },
     "execution_count": 9,
     "metadata": {},
     "output_type": "execute_result"
    }
   ],
   "source": [
    "queryString = \"\"\"\n",
    "SELECT ?p ?pname ?o ?owner WHERE {  \n",
    "    wd:Q142 ?p ?o .\n",
    "    \n",
    "    ?p <http://schema.org/name> ?pname .\n",
    "    ?o <http://schema.org/name> ?owner .\n",
    "} \n",
    "\"\"\"\n",
    "print(\"Results\")\n",
    "run_query(queryString)"
   ]
  },
  {
   "cell_type": "markdown",
   "id": "0d5c4bd9-9ace-45b8-8fb8-7fbd456acce9",
   "metadata": {},
   "source": [
    "I see that I need wdt: P463  wd:458"
   ]
  },
  {
   "cell_type": "code",
   "execution_count": 28,
   "id": "b71fd041-fe67-4385-b3eb-7fab63b16910",
   "metadata": {},
   "outputs": [
    {
     "name": "stdout",
     "output_type": "stream",
     "text": [
      "Results\n",
      "[('s', 'http://www.wikidata.org/entity/Q223191'), ('sname', 'Adria Airways'), ('owner', '4K KNDNS'), ('country', 'Germany')]\n",
      "[('s', 'http://www.wikidata.org/entity/Q4653345'), ('sname', 'APM Terminals B.V'), ('owner', 'Maersk'), ('country', 'Denmark')]\n",
      "[('s', 'http://www.wikidata.org/entity/Q54965304'), ('sname', 'Agrostroj International'), ('owner', 'Agrostroj Pelhřimov'), ('country', 'Czech Republic')]\n",
      "[('s', 'http://www.wikidata.org/entity/Q7277940'), ('sname', 'RTÉ News and Current Affairs'), ('owner', 'Raidió Teilifís Éireann'), ('country', 'Ireland')]\n",
      "[('s', 'http://www.wikidata.org/entity/Q28871958'), ('sname', 'Seier Capital Denmark'), ('owner', 'Seier Capital'), ('country', 'Denmark')]\n",
      "[('s', 'http://www.wikidata.org/entity/Q15842322'), ('sname', 'Rhenus Office Systems'), ('owner', 'Remondis'), ('country', 'Germany')]\n",
      "[('s', 'http://www.wikidata.org/entity/Q15842322'), ('sname', 'Rhenus Office Systems'), ('owner', 'Rhenus SE & Co. KG'), ('country', 'Germany')]\n",
      "[('s', 'http://www.wikidata.org/entity/Q15919712'), ('sname', 'HSBC Philippines'), ('owner', 'HSBC'), ('country', 'United Kingdom')]\n",
      "[('s', 'http://www.wikidata.org/entity/Q7165267'), ('sname', 'Penton Media'), ('owner', 'Informa'), ('country', 'United Kingdom')]\n",
      "[('s', 'http://www.wikidata.org/entity/Q884975'), ('sname', 'Remondis'), ('owner', 'Rethmann'), ('country', 'Germany')]\n",
      "[('s', 'http://www.wikidata.org/entity/Q161906'), ('sname', 'Oakley, Inc.'), ('owner', 'Luxottica'), ('country', 'Italy')]\n",
      "[('s', 'http://www.wikidata.org/entity/Q17006657'), ('sname', 'Supor'), ('owner', 'Groupe SEB'), ('country', 'France')]\n",
      "[('s', 'http://www.wikidata.org/entity/Q17068030'), ('sname', 'Holdsworth'), ('owner', 'Planet X'), ('country', 'United Kingdom')]\n",
      "[('s', 'http://www.wikidata.org/entity/Q7093131'), ('sname', 'One Productions Ltd'), ('owner', 'Labour Party'), ('country', 'Malta')]\n",
      "[('s', 'http://www.wikidata.org/entity/Q7692363'), ('sname', 'ZF Sachs'), ('owner', 'ZF Friedrichshafen AG'), ('country', 'Germany')]\n",
      "[('s', 'http://www.wikidata.org/entity/Q71071292'), ('sname', 'Palác Myšák'), ('owner', 'KOH-I-NOOR holding'), ('country', 'Czech Republic')]\n",
      "[('s', 'http://www.wikidata.org/entity/Q21008564'), ('sname', 'Londis'), ('owner', 'Booker Group'), ('country', 'United Kingdom')]\n",
      "[('s', 'http://www.wikidata.org/entity/Q22248343'), ('sname', 'doctolib.fr'), ('owner', 'Bpifrance'), ('country', 'France')]\n",
      "[('s', 'http://www.wikidata.org/entity/Q22905825'), ('sname', 'Avionic company'), ('owner', 'Leonardo'), ('country', 'Italy')]\n",
      "[('s', 'http://www.wikidata.org/entity/Q3181430'), ('sname', 'PostNord'), ('owner', 'Sweden'), ('country', 'Sweden')]\n"
     ]
    },
    {
     "data": {
      "text/plain": [
       "20"
      ]
     },
     "execution_count": 28,
     "metadata": {},
     "output_type": "execute_result"
    }
   ],
   "source": [
    "queryString = \"\"\"\n",
    "SELECT ?s ?sname ?owner ?country WHERE {  \n",
    "    ?s wdt:P127 ?o ;\n",
    "         wdt:P31 ?type .\n",
    "    ?o wdt:P17 ?c .    \n",
    "    ?c wdt:P463 wd:Q458 .\n",
    "    \n",
    "    ?s <http://schema.org/name> ?sname .\n",
    "    ?o <http://schema.org/name> ?owner .\n",
    "    ?c <http://schema.org/name> ?country .\n",
    "    \n",
    "    FILTER ((?type = wd:Q4830453) || (?type = wd:Q6881511)) .\n",
    "\n",
    "} \n",
    "LIMIT 20\n",
    "\"\"\"\n",
    "print(\"Results\")\n",
    "run_query(queryString)"
   ]
  },
  {
   "cell_type": "raw",
   "id": "8c0c96fc-1b75-42dd-9908-8939bcbcf923",
   "metadata": {},
   "source": [
    "So the corresponding BGP is \n",
    "    ?s wdt:P127 ?o .\n",
    "    ?o wdt:P17 ?c .    \n",
    "    ?c wdt:P463 wd:Q458 ."
   ]
  },
  {
   "cell_type": "markdown",
   "id": "65cbb2db-4263-4d68-bdcf-90468a8712cc",
   "metadata": {},
   "source": [
    "### 3. Which company has the largest presence in E.U.?\n",
    "\n",
    "\n"
   ]
  },
  {
   "cell_type": "markdown",
   "id": "39529980-11a3-49ea-8692-b306289527d8",
   "metadata": {},
   "source": [
    "Let's analyze the property of a company, (Q54965304) Agrostroj International"
   ]
  },
  {
   "cell_type": "markdown",
   "id": "b98acc9f-d38d-476f-a17d-d005a96aede2",
   "metadata": {},
   "source": [
    "I decide to count the presence based on the assets of a company. "
   ]
  },
  {
   "cell_type": "code",
   "execution_count": 38,
   "id": "f803c2da-8185-45dd-ac28-881ca3c27319",
   "metadata": {},
   "outputs": [
    {
     "name": "stdout",
     "output_type": "stream",
     "text": [
      "Results\n",
      "[('p', 'http://www.wikidata.org/prop/direct/P127'), ('pname', 'owned by'), ('o', 'http://www.wikidata.org/entity/Q8183600')]\n",
      "[('p', 'http://www.wikidata.org/prop/direct/P1278'), ('pname', 'Legal Entity Identifier'), ('o', '315700WCMMBR35GX2U81')]\n",
      "[('p', 'http://www.wikidata.org/prop/direct/P1454'), ('pname', 'legal form'), ('o', 'http://www.wikidata.org/entity/Q15646299')]\n",
      "[('p', 'http://www.wikidata.org/prop/direct/P159'), ('pname', 'headquarters location'), ('o', 'http://www.wikidata.org/entity/Q1000073')]\n",
      "[('p', 'http://www.wikidata.org/prop/direct/P169'), ('pname', 'chief executive officer'), ('o', 'http://www.wikidata.org/entity/Q100343342')]\n",
      "[('p', 'http://www.wikidata.org/prop/direct/P17'), ('pname', 'country'), ('o', 'http://www.wikidata.org/entity/Q213')]\n",
      "[('p', 'http://www.wikidata.org/prop/direct/P31'), ('pname', 'instance of'), ('o', 'http://www.wikidata.org/entity/Q6881511')]\n",
      "[('p', 'http://www.wikidata.org/prop/direct/P31'), ('pname', 'instance of'), ('o', 'http://www.wikidata.org/entity/Q4830453')]\n",
      "[('p', 'http://www.wikidata.org/prop/direct/P571'), ('pname', 'inception'), ('o', '2012-12-12T00:00:00Z')]\n",
      "[('p', 'http://www.wikidata.org/prop/direct/P749'), ('pname', 'parent organization'), ('o', 'http://www.wikidata.org/entity/Q8183600')]\n",
      "[('p', 'http://www.wikidata.org/prop/direct/P4156'), ('pname', 'Czech Registration ID'), ('o', '28148215')]\n",
      "[('p', 'http://www.wikidata.org/prop/direct/P8987'), ('pname', 'ISDS ID'), ('o', 'cbpnzu5')]\n"
     ]
    },
    {
     "data": {
      "text/plain": [
       "12"
      ]
     },
     "execution_count": 38,
     "metadata": {},
     "output_type": "execute_result"
    }
   ],
   "source": [
    "queryString = \"\"\"\n",
    "SELECT ?p ?pname ?o WHERE {   \n",
    "    wd:Q54965304 ?p ?o .\n",
    "    \n",
    "    ?p <http://schema.org/name> ?pname .\n",
    "\n",
    "} \n",
    "\"\"\"\n",
    "print(\"Results\")\n",
    "run_query(queryString)"
   ]
  },
  {
   "cell_type": "markdown",
   "id": "a35bf103-70ea-4e10-b6b9-4262e1a99aae",
   "metadata": {},
   "source": [
    "I check the company that own this one"
   ]
  },
  {
   "cell_type": "code",
   "execution_count": 50,
   "id": "6b56f934-1512-4591-96f7-38f4e5b764eb",
   "metadata": {},
   "outputs": [
    {
     "name": "stdout",
     "output_type": "stream",
     "text": [
      "Results\n",
      "[('p', 'http://www.wikidata.org/prop/direct/P1128'), ('pname', 'employees'), ('o', '2456')]\n",
      "[('p', 'http://www.wikidata.org/prop/direct/P127'), ('pname', 'owned by'), ('o', 'http://www.wikidata.org/entity/Q100343342')]\n",
      "[('p', 'http://www.wikidata.org/prop/direct/P1278'), ('pname', 'Legal Entity Identifier'), ('o', '315700454VOYAAE81Q76')]\n",
      "[('p', 'http://www.wikidata.org/prop/direct/P1454'), ('pname', 'legal form'), ('o', 'http://www.wikidata.org/entity/Q3742494')]\n",
      "[('p', 'http://www.wikidata.org/prop/direct/P159'), ('pname', 'headquarters location'), ('o', 'http://www.wikidata.org/entity/Q1000073')]\n",
      "[('p', 'http://www.wikidata.org/prop/direct/P166'), ('pname', 'award received'), ('o', 'http://www.wikidata.org/entity/Q51955134')]\n",
      "[('p', 'http://www.wikidata.org/prop/direct/P17'), ('pname', 'country'), ('o', 'http://www.wikidata.org/entity/Q213')]\n",
      "[('p', 'http://www.wikidata.org/prop/direct/P2139'), ('pname', 'total revenue'), ('o', '6186466000')]\n",
      "[('p', 'http://www.wikidata.org/prop/direct/P214'), ('pname', 'VIAF ID'), ('o', '142383639')]\n",
      "[('p', 'http://www.wikidata.org/prop/direct/P2295'), ('pname', 'net profit'), ('o', '303887000')]\n",
      "[('p', 'http://www.wikidata.org/prop/direct/P2403'), ('pname', 'total assets'), ('o', '7824063000')]\n",
      "[('p', 'http://www.wikidata.org/prop/direct/P2671'), ('pname', 'Google Knowledge Graph ID'), ('o', '/g/122nbkwl')]\n",
      "[('p', 'http://www.wikidata.org/prop/direct/P31'), ('pname', 'instance of'), ('o', 'http://www.wikidata.org/entity/Q4830453')]\n",
      "[('p', 'http://www.wikidata.org/prop/direct/P31'), ('pname', 'instance of'), ('o', 'http://www.wikidata.org/entity/Q6881511')]\n",
      "[('p', 'http://www.wikidata.org/prop/direct/P3362'), ('pname', 'operating income'), ('o', '422699000')]\n",
      "[('p', 'http://www.wikidata.org/prop/direct/P355'), ('pname', 'subsidiary'), ('o', 'http://www.wikidata.org/entity/Q54965304')]\n",
      "[('p', 'http://www.wikidata.org/prop/direct/P355'), ('pname', 'subsidiary'), ('o', 'http://www.wikidata.org/entity/Q58490622')]\n",
      "[('p', 'http://www.wikidata.org/prop/direct/P373'), ('pname', 'Commons category'), ('o', 'Agrostroj Pelhřimov')]\n",
      "[('p', 'http://www.wikidata.org/prop/direct/P571'), ('pname', 'inception'), ('o', '1886-01-01T00:00:00Z')]\n",
      "[('p', 'http://www.wikidata.org/prop/direct/P571'), ('pname', 'inception'), ('o', '1990-12-29T00:00:00Z')]\n",
      "[('p', 'http://www.wikidata.org/prop/direct/P691'), ('pname', 'NKCR AUT ID'), ('o', 'ko2009528097')]\n",
      "[('p', 'http://www.wikidata.org/prop/direct/P856'), ('pname', 'official website'), ('o', 'http://www.agrostroj.cz/')]\n",
      "[('p', 'http://www.wikidata.org/prop/direct/P2137'), ('pname', 'total equity'), ('o', '2758579000')]\n",
      "[('p', 'http://www.wikidata.org/prop/direct/P4156'), ('pname', 'Czech Registration ID'), ('o', '00009971')]\n",
      "[('p', 'http://www.wikidata.org/prop/direct/P8987'), ('pname', 'ISDS ID'), ('o', 'zwrcn4n')]\n"
     ]
    },
    {
     "data": {
      "text/plain": [
       "25"
      ]
     },
     "execution_count": 50,
     "metadata": {},
     "output_type": "execute_result"
    }
   ],
   "source": [
    "queryString = \"\"\"\n",
    "SELECT ?p ?pname ?o WHERE {   \n",
    "    wd:Q8183600 ?p ?o .\n",
    "    \n",
    "    ?p <http://schema.org/name> ?pname .\n",
    "    \n",
    "} \n",
    "\"\"\"\n",
    "print(\"Results\")\n",
    "run_query(queryString)"
   ]
  },
  {
   "cell_type": "markdown",
   "id": "05effa71-1a95-46bd-9419-a71ae6972395",
   "metadata": {},
   "source": [
    "I will use P2403"
   ]
  },
  {
   "cell_type": "code",
   "execution_count": 51,
   "id": "3c7ea915-3577-470e-8574-73f7a47bb981",
   "metadata": {},
   "outputs": [
    {
     "name": "stdout",
     "output_type": "stream",
     "text": [
      "Results\n",
      "[('a', '4103786000000'), ('sname', 'MOL Group')]\n"
     ]
    },
    {
     "data": {
      "text/plain": [
       "1"
      ]
     },
     "execution_count": 51,
     "metadata": {},
     "output_type": "execute_result"
    }
   ],
   "source": [
    "queryString = \"\"\"\n",
    "SELECT ?a ?sname WHERE {   \n",
    "    ?s wdt:P17 ?c ;\n",
    "        wdt:P2403 ?a .\n",
    "    ?c wdt:P463 wd:Q458 .\n",
    "    \n",
    "    ?s <http://schema.org/name> ?sname .\n",
    "\n",
    "} \n",
    "ORDER BY desc(?a)\n",
    "LIMIT 1\n",
    "\"\"\"\n",
    "print(\"Results\")\n",
    "run_query(queryString)"
   ]
  },
  {
   "cell_type": "markdown",
   "id": "9f5b7012-f282-4ce4-b124-6194a6615c16",
   "metadata": {},
   "source": [
    "### 4. Companies have different 'legal forms', compare the number of companies divided in different legal forms"
   ]
  },
  {
   "cell_type": "code",
   "execution_count": 11,
   "id": "74a7aeee-04a8-403a-bf1b-4843c8f5d239",
   "metadata": {},
   "outputs": [
    {
     "name": "stdout",
     "output_type": "stream",
     "text": [
      "Results\n",
      "[('numCompanies', '25382'), ('legalForm', 'společnost s ručením omezeným')]\n",
      "[('numCompanies', '10755'), ('legalForm', 'akciová společnost')]\n",
      "[('numCompanies', '10245'), ('legalForm', 'joint-stock company')]\n",
      "[('numCompanies', '4598'), ('legalForm', 'Spoločnosť s ručením obmedzeným')]\n",
      "[('numCompanies', '3379'), ('legalForm', 'GmbH')]\n",
      "[('numCompanies', '2619'), ('legalForm', 'public company')]\n",
      "[('numCompanies', '2305'), ('legalForm', 'private limited liability company')]\n",
      "[('numCompanies', '2295'), ('legalForm', 'S.A.')]\n",
      "[('numCompanies', '2102'), ('legalForm', 'Aktiengesellschaft')]\n",
      "[('numCompanies', '2045'), ('legalForm', 'kabushiki gaisha')]\n"
     ]
    },
    {
     "data": {
      "text/plain": [
       "10"
      ]
     },
     "execution_count": 11,
     "metadata": {},
     "output_type": "execute_result"
    }
   ],
   "source": [
    "queryString = \"\"\"\n",
    "SELECT (COUNT (?s) as ?numCompanies) ?legalForm  WHERE {  \n",
    "    ?s  wdt:P31 ?type ;\n",
    "        wdt:P1454 ?lF .\n",
    "    \n",
    "    ?lF <http://schema.org/name> ?legalForm . \n",
    "            \n",
    "    FILTER ((?type = wd:Q4830453) || (?type = wd:Q6881511)) .\n",
    "} \n",
    "GROUP BY ?legalForm\n",
    "ORDER BY desc(?numCompanies) \n",
    "LIMIT 10\n",
    "\"\"\"\n",
    "print(\"Results\")\n",
    "run_query(queryString)\n"
   ]
  },
  {
   "cell_type": "markdown",
   "id": "0fe29455-c661-4ea0-a4f2-a2e85057c414",
   "metadata": {},
   "source": [
    "### 5. Analyze the number of companies per type, legal form, and industry in each state  \n",
    "### 5.1 What are the top-3 legal form in E.U.?"
   ]
  },
  {
   "cell_type": "code",
   "execution_count": 54,
   "id": "93f39b6c-fc87-4e3a-b31c-69b55ed84bf5",
   "metadata": {},
   "outputs": [
    {
     "name": "stdout",
     "output_type": "stream",
     "text": [
      "Results\n",
      "[('number', '25395'), ('legalForm', 'společnost s ručením omezeným')]\n",
      "[('number', '10739'), ('legalForm', 'akciová společnost')]\n",
      "[('number', '5039'), ('legalForm', 'joint-stock company')]\n"
     ]
    },
    {
     "data": {
      "text/plain": [
       "3"
      ]
     },
     "execution_count": 54,
     "metadata": {},
     "output_type": "execute_result"
    }
   ],
   "source": [
    "queryString = \"\"\"\n",
    "SELECT (COUNT (?s) as ?number) ?legalForm  WHERE {  \n",
    "    ?s  wdt:P31 ?type ;\n",
    "        wdt:P1454 ?lF ;\n",
    "        wdt:P17 ?c .\n",
    "         \n",
    "    ?c wdt:P463 wd:Q458 .\n",
    "    \n",
    "    ?lF <http://schema.org/name> ?legalForm . \n",
    "            \n",
    "    FILTER ((?type = wd:Q4830453) || (?type = wd:Q6881511)) .\n",
    "} \n",
    "GROUP BY ?legalForm\n",
    "ORDER BY desc(?number) \n",
    "LIMIT 3\n",
    "\"\"\"\n",
    "print(\"Results\")\n",
    "run_query(queryString)\n"
   ]
  },
  {
   "cell_type": "markdown",
   "id": "fb773ea0-ad23-4629-a030-ecd208a1de6d",
   "metadata": {},
   "source": [
    "  ### 5.2 For which companies is defined some form of income or market capitalization or total assets? What is the min, max, and average in each country for a given legal form?\n",
    "   \n"
   ]
  },
  {
   "cell_type": "markdown",
   "id": "92d4cb3e-6e99-4f1b-ae54-880e5ea19486",
   "metadata": {},
   "source": [
    "I will use P1239, P2295 and P2403 that I discover above."
   ]
  },
  {
   "cell_type": "code",
   "execution_count": 67,
   "id": "ce1ad5f9-dfef-46ee-869f-f62f12e9834d",
   "metadata": {},
   "outputs": [
    {
     "name": "stdout",
     "output_type": "stream",
     "text": [
      "Results\n",
      "[('avg', '4103786000000'), ('sname', 'MOL Group'), ('country', 'Hungary')]\n",
      "[('avg', '2374986000000'), ('sname', 'HSBC'), ('country', 'United Kingdom')]\n",
      "[('avg', '1475000000000'), ('sname', 'Deutsche Bank'), ('country', 'Germany')]\n",
      "[('avg', '1458650000000'), ('sname', 'Česká spořitelna'), ('country', 'Czech Republic')]\n",
      "[('avg', '1378038000000'), ('sname', 'Československá obchodní banka'), ('country', 'Czech Republic')]\n",
      "[('avg', '1340000000000'), ('sname', 'Banco Santander'), ('country', 'Spain')]\n",
      "[('avg', '1077334000000'), ('sname', 'Komerční banka'), ('country', 'Czech Republic')]\n",
      "[('avg', '720000000000'), ('sname', 'Hungarian State Railways'), ('country', 'Hungary')]\n",
      "[('avg', '707443000000'), ('sname', 'ČEZ Group'), ('country', 'Czech Republic')]\n",
      "[('avg', '698690000000'), ('sname', 'Bilbao Vizcaya Argentaria Bank'), ('country', 'Spain')]\n"
     ]
    },
    {
     "data": {
      "text/plain": [
       "10"
      ]
     },
     "execution_count": 67,
     "metadata": {},
     "output_type": "execute_result"
    }
   ],
   "source": [
    "queryString = \"\"\"\n",
    "SELECT (AVG(?a) as ?avg) ?sname ?country WHERE {   \n",
    "    ?s wdt:P17 ?c ;\n",
    "        wdt:P2403 ?a .\n",
    "    ?c wdt:P463 wd:Q458 .\n",
    "    \n",
    "    ?s <http://schema.org/name> ?sname .\n",
    "    ?c <http://schema.org/name> ?country .\n",
    "}\n",
    "GROUP BY ?sname ?country\n",
    "ORDER BY desc(?avg)\n",
    "LIMIT 10\n",
    "\"\"\"\n",
    "print(\"Results\")\n",
    "run_query(queryString)"
   ]
  },
  {
   "cell_type": "markdown",
   "id": "1307b027-ab4d-4d1a-a3a3-416eb62fa920",
   "metadata": {},
   "source": [
    "Let's select companies for which is defined some form of income or market capitalization or total assets, with the properties found before."
   ]
  },
  {
   "cell_type": "markdown",
   "id": "237bd0c1-3552-4f1c-9f3e-b978591b6b37",
   "metadata": {},
   "source": [
    "Firstly, I answer to the query with the companies that has registered the income."
   ]
  },
  {
   "cell_type": "code",
   "execution_count": 86,
   "id": "dec45481-9e02-42ec-b248-a6a804fa8e22",
   "metadata": {},
   "outputs": [
    {
     "name": "stdout",
     "output_type": "stream",
     "text": [
      "Results\n",
      "[('sname', 'PSN'), ('legalForm', 'společnost s ručením omezeným'), ('income', '353195000'), ('country', 'Czech Republic')]\n",
      "[('sname', 'Fresenius Medical Care - DS'), ('legalForm', 'společnost s ručením omezeným'), ('income', '39179000'), ('country', 'Czech Republic')]\n",
      "[('sname', 'PRK Partners'), ('legalForm', 'společnost s ručením omezeným'), ('income', '114827000'), ('country', 'Czech Republic')]\n",
      "[('sname', 'Alca plast'), ('legalForm', 'společnost s ručením omezeným'), ('income', '393516000'), ('country', 'Czech Republic')]\n",
      "[('sname', 'Atom Centrum'), ('legalForm', 'společnost s ručením omezeným'), ('income', '76399000'), ('country', 'Czech Republic')]\n",
      "[('sname', 'Cimex Invest'), ('legalForm', 'společnost s ručením omezeným'), ('income', '7739000'), ('country', 'Czech Republic')]\n",
      "[('sname', 'JULI Motorenwerk'), ('legalForm', 'společnost s ručením omezeným'), ('income', '182844000'), ('country', 'Czech Republic')]\n",
      "[('sname', 'Arriva City'), ('legalForm', 'společnost s ručením omezeným'), ('income', '-72064000'), ('country', 'Czech Republic')]\n",
      "[('sname', 'HC electronics'), ('legalForm', 'společnost s ručením omezeným'), ('income', '24665000'), ('country', 'Czech Republic')]\n",
      "[('sname', 'Devro'), ('legalForm', 'společnost s ručením omezeným'), ('income', '856331000'), ('country', 'Czech Republic')]\n",
      "[('sname', 'Slevomat'), ('legalForm', 'společnost s ručením omezeným'), ('income', '73257000'), ('country', 'Czech Republic')]\n",
      "[('sname', 'Singing Rock'), ('legalForm', 'společnost s ručením omezeným'), ('income', '17330000'), ('country', 'Czech Republic')]\n",
      "[('sname', 'Hitachi Automotive Systems Czech, s.r.o.'), ('legalForm', 'společnost s ručením omezeným'), ('income', '-129962000'), ('country', 'Czech Republic')]\n",
      "[('sname', 'Havel & Partners'), ('legalForm', 'společnost s ručením omezeným'), ('income', '195489000'), ('country', 'Czech Republic')]\n",
      "[('sname', 'Motivate Consulting'), ('legalForm', 'společnost s ručením omezeným'), ('income', '-21000'), ('country', 'Czech Republic')]\n",
      "[('sname', 'Vítkovice Holding'), ('legalForm', 'akciová společnost'), ('income', '-4980714000'), ('country', 'Czech Republic')]\n",
      "[('sname', 'PFNonwovens'), ('legalForm', 'akciová společnost'), ('income', '879531000'), ('country', 'Czech Republic')]\n",
      "[('sname', 'UNILES'), ('legalForm', 'akciová společnost'), ('income', '67248000'), ('country', 'Czech Republic')]\n",
      "[('sname', 'Terminal Oil'), ('legalForm', 'akciová společnost'), ('income', '7077000'), ('country', 'Czech Republic')]\n",
      "[('sname', 'Akwel Rudnik Czech Republic'), ('legalForm', 'akciová společnost'), ('income', '67199000'), ('country', 'Czech Republic')]\n"
     ]
    },
    {
     "data": {
      "text/plain": [
       "20"
      ]
     },
     "execution_count": 86,
     "metadata": {},
     "output_type": "execute_result"
    }
   ],
   "source": [
    "queryString = \"\"\"\n",
    "SELECT ?sname ?legalForm ?income ?country WHERE {  \n",
    "    ?s  wdt:P17 ?c ;\n",
    "        wdt:P31 ?type ;\n",
    "        wdt:P1454 ?lF ;\n",
    "        wdt:P3362 ?income .\n",
    "        \n",
    "        ?c wdt:P463 wd:Q458 .\n",
    "    \n",
    "    ?s <http://schema.org/name> ?sname . \n",
    "    ?lF <http://schema.org/name> ?legalForm .\n",
    "    ?c <http://schema.org/name> ?country .\n",
    "\n",
    "    FILTER ((?type = wd:Q4830453) || (?type = wd:Q6881511)) .\n",
    "} \n",
    "GROUP BY ?legalForm\n",
    "ORDER BY desc(?number) \n",
    "LIMIT 20\n",
    "\n",
    "\"\"\"\n",
    "print(\"Results\")\n",
    "run_query(queryString)"
   ]
  },
  {
   "cell_type": "markdown",
   "id": "e8953899-b2e6-4213-b315-875147d1a787",
   "metadata": {},
   "source": [
    "Then, market capitalization."
   ]
  },
  {
   "cell_type": "code",
   "execution_count": 88,
   "id": "82cf28c3-0d10-45ea-8c8a-25568fe0889e",
   "metadata": {},
   "outputs": [
    {
     "name": "stdout",
     "output_type": "stream",
     "text": [
      "Results\n",
      "[('sname', 'Spadel'), ('legalForm', 'S.A.'), ('marketCap', '21013000'), ('country', 'Belgium')]\n",
      "[('sname', 'PKP Intercity'), ('legalForm', 'S.A.'), ('marketCap', '39200000'), ('country', 'Poland')]\n",
      "[('sname', 'Skils'), ('legalForm', 'společnost s ručením omezeným'), ('marketCap', '63958000'), ('country', 'Czech Republic')]\n",
      "[('sname', 'Stada Pharma CZ'), ('legalForm', 'společnost s ručením omezeným'), ('marketCap', '10183000'), ('country', 'Czech Republic')]\n",
      "[('sname', 'Bike Fun International'), ('legalForm', 'společnost s ručením omezeným'), ('marketCap', '54710000'), ('country', 'Czech Republic')]\n",
      "[('sname', 'IMOS Asset'), ('legalForm', 'společnost s ručením omezeným'), ('marketCap', '177783000'), ('country', 'Czech Republic')]\n",
      "[('sname', 'SAS Autosystemtechnik'), ('legalForm', 'společnost s ručením omezeným'), ('marketCap', '442883000'), ('country', 'Czech Republic')]\n",
      "[('sname', 'Heimstaden Czech'), ('legalForm', 'společnost s ručením omezeným'), ('marketCap', '1995733000'), ('country', 'Czech Republic')]\n",
      "[('sname', 'JULI Motorenwerk'), ('legalForm', 'společnost s ručením omezeným'), ('marketCap', '175502000'), ('country', 'Czech Republic')]\n",
      "[('sname', 'CB&I s.r.o.'), ('legalForm', 'společnost s ručením omezeným'), ('marketCap', '235945000'), ('country', 'Czech Republic')]\n",
      "[('sname', 'GridServices'), ('legalForm', 'společnost s ručením omezeným'), ('marketCap', '794803000'), ('country', 'Czech Republic')]\n",
      "[('sname', 'U:fon'), ('legalForm', 'akciová společnost'), ('marketCap', '401000'), ('country', 'Czech Republic')]\n",
      "[('sname', 'Sokolovská uhelná'), ('legalForm', 'akciová společnost'), ('marketCap', '373773000'), ('country', 'Czech Republic')]\n",
      "[('sname', 'Správa pohledávek OKD'), ('legalForm', 'akciová společnost'), ('marketCap', '2106479000'), ('country', 'Czech Republic')]\n",
      "[('sname', 'enteria'), ('legalForm', 'akciová společnost'), ('marketCap', '46496000'), ('country', 'Czech Republic')]\n",
      "[('sname', 'Energoaqua'), ('legalForm', 'akciová společnost'), ('marketCap', '179418000'), ('country', 'Czech Republic')]\n",
      "[('sname', 'Spolchemie'), ('legalForm', 'akciová společnost'), ('marketCap', '176104000'), ('country', 'Czech Republic')]\n",
      "[('sname', 'ČSAD Vsetín'), ('legalForm', 'akciová společnost'), ('marketCap', '-8921000'), ('country', 'Czech Republic')]\n",
      "[('sname', 'Hasičská vzájemná pojišťovna'), ('legalForm', 'akciová společnost'), ('marketCap', '10431000'), ('country', 'Czech Republic')]\n",
      "[('sname', 'Delvita'), ('legalForm', 'akciová společnost'), ('marketCap', '-219964000'), ('country', 'Czech Republic')]\n"
     ]
    },
    {
     "data": {
      "text/plain": [
       "20"
      ]
     },
     "execution_count": 88,
     "metadata": {},
     "output_type": "execute_result"
    }
   ],
   "source": [
    "queryString = \"\"\"\n",
    "SELECT ?sname ?legalForm ?marketCap ?country WHERE {  \n",
    "    ?s  wdt:P17 ?c ;\n",
    "        wdt:P31 ?type ;\n",
    "        wdt:P1454 ?lF ;\n",
    "        wdt:P2295 ?marketCap .\n",
    "        \n",
    "        ?c wdt:P463 wd:Q458 .\n",
    "    \n",
    "    ?s <http://schema.org/name> ?sname . \n",
    "    ?lF <http://schema.org/name> ?legalForm .\n",
    "    ?c <http://schema.org/name> ?country .\n",
    "\n",
    "    FILTER ((?type = wd:Q4830453) || (?type = wd:Q6881511)) .\n",
    "} \n",
    "GROUP BY ?legalForm\n",
    "ORDER BY desc(?number) \n",
    "LIMIT 20\n",
    "\n",
    "\"\"\"\n",
    "print(\"Results\")\n",
    "run_query(queryString)"
   ]
  },
  {
   "cell_type": "markdown",
   "id": "061b9936-4545-4ec4-82dc-58fad32ab02b",
   "metadata": {},
   "source": [
    "Lastly, total assets"
   ]
  },
  {
   "cell_type": "code",
   "execution_count": 89,
   "id": "d6c3d514-e7b8-4ed3-8ce0-06f731451ea1",
   "metadata": {},
   "outputs": [
    {
     "name": "stdout",
     "output_type": "stream",
     "text": [
      "Results\n",
      "[('sname', 'Windyty'), ('legalForm', 'Societas Europaea'), ('totalAssets', '104545000'), ('country', 'Czech Republic')]\n",
      "[('sname', 'CZC.cz'), ('legalForm', 'společnost s ručením omezeným'), ('totalAssets', '883096000'), ('country', 'Czech Republic')]\n",
      "[('sname', 'Stada Pharma CZ'), ('legalForm', 'společnost s ručením omezeným'), ('totalAssets', '342897000'), ('country', 'Czech Republic')]\n",
      "[('sname', 'Brembo Czech'), ('legalForm', 'společnost s ručením omezeným'), ('totalAssets', '3849362000'), ('country', 'Czech Republic')]\n",
      "[('sname', 'Billa'), ('legalForm', 'společnost s ručením omezeným'), ('totalAssets', '7261010000'), ('country', 'Czech Republic')]\n",
      "[('sname', 'Arriva City'), ('legalForm', 'společnost s ručením omezeným'), ('totalAssets', '585808000'), ('country', 'Czech Republic')]\n",
      "[('sname', 'Teplárna Kladno'), ('legalForm', 'společnost s ručením omezeným'), ('totalAssets', '11031617000'), ('country', 'Czech Republic')]\n",
      "[('sname', 'Stock Spirits Group'), ('legalForm', 'public limited company'), ('totalAssets', '682825000'), ('country', 'United Kingdom')]\n",
      "[('sname', 'PROXY - FINANCE'), ('legalForm', 'akciová společnost'), ('totalAssets', '3524785000'), ('country', 'Czech Republic')]\n",
      "[('sname', 'ICOM transport'), ('legalForm', 'akciová společnost'), ('totalAssets', '2792824000'), ('country', 'Czech Republic')]\n",
      "[('sname', 'UNI HOBBY'), ('legalForm', 'akciová společnost'), ('totalAssets', '1077656000'), ('country', 'Czech Republic')]\n",
      "[('sname', 'Mountfield'), ('legalForm', 'akciová společnost'), ('totalAssets', '3342542000'), ('country', 'Czech Republic')]\n",
      "[('sname', 'GECO CZ'), ('legalForm', 'akciová společnost'), ('totalAssets', '3762976000'), ('country', 'Czech Republic')]\n",
      "[('sname', 'Bombardier Transportation Czech Republic'), ('legalForm', 'akciová společnost'), ('totalAssets', '2598771000'), ('country', 'Czech Republic')]\n",
      "[('sname', 'ConsilTech'), ('legalForm', 'akciová společnost'), ('totalAssets', '2618040000'), ('country', 'Czech Republic')]\n",
      "[('sname', 'Praga Real Vysočany'), ('legalForm', 'akciová společnost'), ('totalAssets', '1857249000'), ('country', 'Czech Republic')]\n",
      "[('sname', 'Česká olympijská'), ('legalForm', 'akciová společnost'), ('totalAssets', '94157000'), ('country', 'Czech Republic')]\n",
      "[('sname', 'EP Cargo'), ('legalForm', 'akciová společnost'), ('totalAssets', '600815000'), ('country', 'Czech Republic')]\n",
      "[('sname', 'PANAV'), ('legalForm', 'akciová společnost'), ('totalAssets', '260518000'), ('country', 'Czech Republic')]\n",
      "[('sname', 'Real Estate'), ('legalForm', 'akciová společnost'), ('totalAssets', '118881000'), ('country', 'Czech Republic')]\n"
     ]
    },
    {
     "data": {
      "text/plain": [
       "20"
      ]
     },
     "execution_count": 89,
     "metadata": {},
     "output_type": "execute_result"
    }
   ],
   "source": [
    "queryString = \"\"\"\n",
    "SELECT ?sname ?legalForm ?totalAssets ?country WHERE {  \n",
    "    ?s  wdt:P17 ?c ;\n",
    "        wdt:P31 ?type ;\n",
    "        wdt:P1454 ?lF ;\n",
    "        wdt:P2403 ?totalAssets .\n",
    "        \n",
    "        ?c wdt:P463 wd:Q458 .\n",
    "    \n",
    "    ?s <http://schema.org/name> ?sname . \n",
    "    ?lF <http://schema.org/name> ?legalForm .\n",
    "    ?c <http://schema.org/name> ?country .\n",
    "\n",
    "    FILTER ((?type = wd:Q4830453) || (?type = wd:Q6881511)) .\n",
    "} \n",
    "GROUP BY ?legalForm\n",
    "ORDER BY desc(?number) \n",
    "LIMIT 20\n",
    "\n",
    "\"\"\"\n",
    "print(\"Results\")\n",
    "run_query(queryString)"
   ]
  },
  {
   "cell_type": "markdown",
   "id": "564d8b7c-ce20-4078-89ea-b113b9937228",
   "metadata": {},
   "source": [
    "Couldn't respond properly to the query: I would need to do 2 nested query, but the server responds \"endpoint returned code 500 and response.\" "
   ]
  },
  {
   "cell_type": "markdown",
   "id": "90430a33-d037-488b-b84e-d027f8e61487",
   "metadata": {},
   "source": [
    "### 5.3 Which business in each country owns more businesses in other E.U. countries? \n",
    "I use subsidiary property (p355)"
   ]
  },
  {
   "cell_type": "code",
   "execution_count": 81,
   "id": "f4aa1486-db5e-468b-9fe9-f64245a5e774",
   "metadata": {},
   "outputs": [
    {
     "name": "stdout",
     "output_type": "stream",
     "text": [
      "Results\n",
      "[('sname', 'ArcelorMittal'), ('country', 'Luxembourg'), ('numSub', '15')]\n",
      "[('sname', 'Vodafone'), ('country', 'United Kingdom'), ('numSub', '14')]\n",
      "[('sname', 'Volkswagen Group'), ('country', 'Germany'), ('numSub', '13')]\n",
      "[('sname', 'Deutsche Telekom'), ('country', 'Germany'), ('numSub', '12')]\n",
      "[('sname', 'Strabag'), ('country', 'Austria'), ('numSub', '11')]\n",
      "[('sname', 'Siemens'), ('country', 'Germany'), ('numSub', '10')]\n",
      "[('sname', 'Phoenix Pharmahandel'), ('country', 'Germany'), ('numSub', '9')]\n",
      "[('sname', 'RELX Group'), ('country', 'United Kingdom'), ('numSub', '9')]\n",
      "[('sname', 'Reichswerke Hermann Göring'), ('country', 'Germany'), ('numSub', '9')]\n",
      "[('sname', 'Orange'), ('country', 'France'), ('numSub', '9')]\n",
      "[('sname', 'Deutsche Post AG'), ('country', 'Germany'), ('numSub', '8')]\n",
      "[('sname', 'Thales Group'), ('country', 'France'), ('numSub', '8')]\n",
      "[('sname', 'International Airlines Group'), ('country', 'United Kingdom'), ('numSub', '7')]\n",
      "[('sname', 'Kaprain Holdings'), ('country', 'Cyprus'), ('numSub', '7')]\n",
      "[('sname', 'Thomas Cook Group'), ('country', 'United Kingdom'), ('numSub', '7')]\n",
      "[('sname', 'Telefónica'), ('country', 'Spain'), ('numSub', '7')]\n",
      "[('sname', 'SAZKA Group'), ('country', 'Czech Republic'), ('numSub', '7')]\n",
      "[('sname', 'TotalEnergies'), ('country', 'France'), ('numSub', '7')]\n",
      "[('sname', 'Vinci'), ('country', 'France'), ('numSub', '7')]\n",
      "[('sname', 'Liberty Global'), ('country', 'United Kingdom'), ('numSub', '6')]\n",
      "[('sname', 'Reichswerke AG für Waffen-und Maschinenbau Hermann Göring'), ('country', 'Germany'), ('numSub', '6')]\n",
      "[('sname', 'Stora Enso'), ('country', 'Finland'), ('numSub', '6')]\n",
      "[('sname', 'Lidl'), ('country', 'Germany'), ('numSub', '6')]\n",
      "[('sname', 'TUI Travel'), ('country', 'United Kingdom'), ('numSub', '6')]\n",
      "[('sname', 'Tesco'), ('country', 'United Kingdom'), ('numSub', '6')]\n",
      "[('sname', 'JOJ Media House'), ('country', 'Slovakia'), ('numSub', '6')]\n",
      "[('sname', 'Medtronic plc'), ('country', 'Ireland'), ('numSub', '6')]\n",
      "[('sname', 'Alcatel-Lucent'), ('country', 'France'), ('numSub', '6')]\n",
      "[('sname', 'Trelleborg AB'), ('country', 'Sweden'), ('numSub', '6')]\n",
      "[('sname', 'International Airlines Group'), ('country', 'Spain'), ('numSub', '6')]\n"
     ]
    },
    {
     "data": {
      "text/plain": [
       "30"
      ]
     },
     "execution_count": 81,
     "metadata": {},
     "output_type": "execute_result"
    }
   ],
   "source": [
    "queryString = \"\"\"\n",
    "SELECT ?sname ?country (COUNT (?sub) as ?numSub) WHERE {  \n",
    "    ?s  wdt:P17 ?c ;\n",
    "        wdt:P31 wd:Q4830453 ;\n",
    "        wdt:P355 ?sub .\n",
    "        \n",
    "    ?sub wdt:P17 ?c2 .\n",
    "    \n",
    "    ?c wdt:P463 wd:Q458 .\n",
    "    ?c2 wdt:P463 wd:Q458 .\n",
    "    \n",
    "    \n",
    "    ?s <http://schema.org/name> ?sname .  \n",
    "    ?c <http://schema.org/name> ?country .\n",
    "    ?c2 <http://schema.org/name> ?country2 .\n",
    "    FILTER (?c != ?c2)\n",
    "    \n",
    "    \n",
    "}\n",
    "GROUP BY ?sname ?country\n",
    "ORDER BY desc(?numSub) \n",
    "LIMIT 30\n",
    "\"\"\"\n",
    "print(\"Results\")\n",
    "run_query(queryString)\n"
   ]
  },
  {
   "cell_type": "markdown",
   "id": "fff8e21c-e57e-4972-a977-dbbd84c2d162",
   "metadata": {},
   "source": [
    "Couldn't respond properly to the query: I would need to do 2 nested query, but the server responds \"endpoint returned code 500 and response.\" "
   ]
  },
  {
   "cell_type": "markdown",
   "id": "e42b3ead-dcf1-4a7b-8f81-5f82aac11640",
   "metadata": {},
   "source": [
    "  ### 5.4 What can we say about industry sectors in various countries?"
   ]
  },
  {
   "cell_type": "markdown",
   "id": "3c1052cc-a4e6-4eed-b1d9-84db01700ab1",
   "metadata": {},
   "source": [
    "Let's show the most spread industry sectors and in which country are they"
   ]
  },
  {
   "cell_type": "code",
   "execution_count": 22,
   "id": "ae8a85d4-2d27-4c4a-bbde-ed9a8d4b97f8",
   "metadata": {},
   "outputs": [
    {
     "name": "stdout",
     "output_type": "stream",
     "text": [
      "Results\n",
      "[('numIndustries', '637'), ('industry', 'health care industry'), ('country', 'United Kingdom')]\n",
      "[('numIndustries', '521'), ('industry', 'brewing'), ('country', 'Germany')]\n",
      "[('numIndustries', '484'), ('industry', 'Crop production'), ('country', 'United Kingdom')]\n",
      "[('numIndustries', '465'), ('industry', 'video game industry'), ('country', 'United Kingdom')]\n",
      "[('numIndustries', '374'), ('industry', 'automotive industry'), ('country', 'Germany')]\n",
      "[('numIndustries', '373'), ('industry', 'Financial service activities, except insurance and pension funding'), ('country', 'Germany')]\n",
      "[('numIndustries', '372'), ('industry', 'food and tobacco industry'), ('country', 'Germany')]\n",
      "[('numIndustries', '344'), ('industry', 'brewing'), ('country', 'Belgium')]\n",
      "[('numIndustries', '319'), ('industry', 'retail'), ('country', 'United Kingdom')]\n",
      "[('numIndustries', '312'), ('industry', 'automotive industry'), ('country', 'United Kingdom')]\n"
     ]
    },
    {
     "data": {
      "text/plain": [
       "10"
      ]
     },
     "execution_count": 22,
     "metadata": {},
     "output_type": "execute_result"
    }
   ],
   "source": [
    "queryString = \"\"\"\n",
    "SELECT (COUNT(?s) as ?numIndustries) ?industry ?country WHERE {\n",
    "   ?s wdt:P452 ?i ;\n",
    "       wdt:P17 ?c .\n",
    "    ?c wdt:P463 wd:Q458 .   \n",
    "    \n",
    "    \n",
    "    ?i <http://schema.org/name> ?industry . \n",
    "    ?c <http://schema.org/name> ?country . \n",
    "} \n",
    "GROUP BY ?industry ?country\n",
    "ORDER BY desc(?numIndustries)\n",
    "LIMIT 10\n",
    "\n",
    "\"\"\"\n",
    "print(\"Results\")\n",
    "run_query(queryString)"
   ]
  }
 ],
 "metadata": {
  "kernelspec": {
   "display_name": "Python 3",
   "language": "python",
   "name": "python3"
  },
  "language_info": {
   "codemirror_mode": {
    "name": "ipython",
    "version": 3
   },
   "file_extension": ".py",
   "mimetype": "text/x-python",
   "name": "python",
   "nbconvert_exporter": "python",
   "pygments_lexer": "ipython3",
   "version": "3.7.10"
  }
 },
 "nbformat": 4,
 "nbformat_minor": 5
}
