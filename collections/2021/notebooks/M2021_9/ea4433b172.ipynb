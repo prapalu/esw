{
 "cells": [
  {
   "cell_type": "markdown",
   "id": "7034c3bf-6eb0-4418-8687-7b9d2a501103",
   "metadata": {},
   "source": [
    "# General instructions\n",
    "\n",
    "The goal of the project is to materialize a set of **exploratory workloads** over a real-world, large-scale,  open-domain KG: [WikiData](https://www.wikidata.org/wiki/Wikidata:Main_Page)\n",
    "\n",
    "An exploratory workload  is composed by a set of queries, where each query is related to the information obtained previously.\n",
    "\n",
    "An exploratory workload starts with a usually vague, open ended question, and does not assume the person issuing the workload has a clear understanding of the data contained in the target database or its structure.\n",
    "\n",
    "Remeber that:\n",
    "\n",
    "1. All the queries must run in the python notebook\n",
    "2. You can use classes and properties only if you find them via a SPARQL query that must be present in the notebook\n",
    "3. You do not delete useless queries. Keep everything that is synthatically valid \n",
    "\n",
    "```\n",
    "?p <http://schema.org/name> ?name .\n",
    "```\n",
    "    \n",
    "is the BGP returning a human-readable name of a property or a class in Wikidata.\n",
    "    \n",
    "    "
   ]
  },
  {
   "cell_type": "code",
   "execution_count": 1,
   "id": "3605c9d5-5371-49a5-be8d-d66e8f417139",
   "metadata": {},
   "outputs": [],
   "source": [
    "## SETUP used later\n",
    "\n",
    "from SPARQLWrapper import SPARQLWrapper, JSON\n",
    "\n",
    "\n",
    "prefixString = \"\"\"\n",
    "##-ea4433b172-##\n",
    "PREFIX wd: <http://www.wikidata.org/entity/> \n",
    "PREFIX wdt: <http://www.wikidata.org/prop/direct/> \n",
    "PREFIX sc: <http://schema.org/>\n",
    "\"\"\"\n",
    "\n",
    "# select and construct queries\n",
    "def run_query(queryString):\n",
    "    to_run = prefixString + \"\\n\" + queryString\n",
    "\n",
    "    sparql = SPARQLWrapper(\"http://a256-gc1-02.srv.aau.dk:5820/sparql\")\n",
    "    sparql.setTimeout(300)\n",
    "    sparql.setReturnFormat(JSON)\n",
    "    sparql.setQuery(to_run)\n",
    "\n",
    "    try :\n",
    "       results = sparql.query()\n",
    "       json_results = results.convert()\n",
    "       if len(json_results['results']['bindings'])==0:\n",
    "          print(\"Empty\")\n",
    "          return 0\n",
    "    \n",
    "       for bindings in json_results['results']['bindings']:\n",
    "          print( [ (var, value['value'])  for var, value in bindings.items() ] )\n",
    "\n",
    "       return len(json_results['results']['bindings'])\n",
    "\n",
    "    except Exception as e :\n",
    "        print(\"The operation failed\", e)\n",
    "    \n",
    "# ASk queries\n",
    "def run_ask_query(queryString):\n",
    "    to_run = prefixString + \"\\n\" + queryString\n",
    "\n",
    "    sparql = SPARQLWrapper(\"http://a256-gc1-02.srv.aau.dk:5820/sparql\")\n",
    "    sparql.setTimeout(300)\n",
    "    sparql.setReturnFormat(JSON)\n",
    "    sparql.setQuery(to_run)\n",
    "\n",
    "    try :\n",
    "        return sparql.query().convert()\n",
    "\n",
    "    except Exception as e :\n",
    "        print(\"The operation failed\", e)\n"
   ]
  },
  {
   "cell_type": "markdown",
   "id": "d477a59c-a68c-4c8f-9f97-8ca5294d7d27",
   "metadata": {},
   "source": [
    "# Sport Workflow Series (\"World Records explorative search\") \n",
    "\n",
    "Consider the following exploratory information need:\n",
    "\n",
    "> compile a list of athletes that held world records across some disciplines"
   ]
  },
  {
   "cell_type": "markdown",
   "id": "4a45c0ba-f79e-441d-bec5-84401b09db70",
   "metadata": {},
   "source": [
    "## Useful URIs for the current workflow\n",
    "\n",
    "\n",
    "The following are given:\n",
    "\n",
    "| IRI           | Description   | Role      |\n",
    "| -----------   | -----------   |-----------|\n",
    "| `wdt:P1647`   | subproperty   | predicate |\n",
    "| `wdt:P31`     | instance of   | predicate |\n",
    "| `wdt:P106`    | profession    | predicate | \n",
    "| `wdt:P279`    | subclass      | predicate |\n",
    "| `wdt:P27`     | nationality   | predicate |\n",
    "| `wd:Q1189`    | Usain Bolt    | node      |\n",
    "| `wd:Q766`     | Jamaica       | node |\n",
    "| `wd:Q688615`  | World Record  | node |\n",
    "| `wd:Q542`     | athletics     | node |\n",
    "\n",
    "\n",
    "\n",
    "Also consider\n",
    "\n",
    "```\n",
    "?a wdt:P106/wdt:P279 wd:Q2066131\n",
    "```\n",
    "\n",
    "is the BGP to retrieve all instances of **athlete**\n",
    "\n",
    "```\n",
    "?a wdt:P279 wd:Q688615\n",
    "```\n",
    "\n",
    "is the BGP to retrieve the types of **world records**\n"
   ]
  },
  {
   "cell_type": "markdown",
   "id": "7af439fb-96e4-4dbb-a381-f19afab79f86",
   "metadata": {
    "tags": []
   },
   "source": [
    "## Workload Goals\n",
    "\n",
    "1. Identify the BGP for detaining a world record\n",
    "\n",
    "2. Identify the BGP for the types of competitions in which a world record is classified\n",
    "\n",
    "3. How many world records are held by Italian athletes\n",
    "\n",
    "4. Compare number of world records held across different dimensions\n",
    " \n",
    "   4.1 In which specific sport France has the most world records\n",
    "   \n",
    "   4.2 How many world records are held across genders\n",
    "   \n",
    "   4.3 Which sport has the highest number of world records\n"
   ]
  },
  {
   "cell_type": "code",
   "execution_count": 2,
   "id": "24a853ab-830c-422c-afd3-e9e015b8b8ed",
   "metadata": {},
   "outputs": [],
   "source": [
    "# start your workflow here"
   ]
  },
  {
   "cell_type": "code",
   "execution_count": 3,
   "id": "ade01416-92e7-4ad7-b9a9-b8fb330750dc",
   "metadata": {},
   "outputs": [
    {
     "name": "stdout",
     "output_type": "stream",
     "text": [
      "Results\n",
      "[('callret-0', '929008')]\n"
     ]
    },
    {
     "data": {
      "text/plain": [
       "1"
      ]
     },
     "execution_count": 3,
     "metadata": {},
     "output_type": "execute_result"
    }
   ],
   "source": [
    "queryString = \"\"\"\n",
    "SELECT COUNT(*)\n",
    "WHERE { \n",
    "\n",
    "?a wdt:P106/wdt:P279 wd:Q2066131 .\n",
    "\n",
    "} \n",
    "\"\"\"\n",
    "\n",
    "print(\"Results\")\n",
    "run_query(queryString)"
   ]
  },
  {
   "cell_type": "markdown",
   "id": "09f5a0da-f3b7-44cf-821d-ba0a2b344b83",
   "metadata": {},
   "source": [
    "## Part 1\n",
    "### Identify the BGP for detaining a world record"
   ]
  },
  {
   "cell_type": "code",
   "execution_count": 4,
   "id": "c6f39993-ebcd-457e-bd56-64859b26fb2a",
   "metadata": {
    "tags": []
   },
   "outputs": [
    {
     "name": "stdout",
     "output_type": "stream",
     "text": [
      "Results\n",
      "[('record', 'http://www.wikidata.org/entity/Q1066353'), ('recordName', \"Men's 100 metres world record progression\")]\n",
      "[('record', 'http://www.wikidata.org/entity/Q3240929'), ('recordName', 'largest known prime number')]\n",
      "[('record', 'http://www.wikidata.org/entity/Q24033838'), ('recordName', \"women's world record\")]\n",
      "[('record', 'http://www.wikidata.org/entity/Q24033834'), ('recordName', \"men's world record\")]\n",
      "[('record', 'http://www.wikidata.org/entity/Q24255295'), ('recordName', 'junior world record')]\n",
      "[('record', 'http://www.wikidata.org/entity/Q23580887'), ('recordName', 'highest temperature recorded on Earth')]\n",
      "[('record', 'http://www.wikidata.org/entity/Q16883666'), ('recordName', 'speed record')]\n",
      "[('record', 'http://www.wikidata.org/entity/Q69907823'), ('recordName', 'world best time')]\n",
      "[('record', 'http://www.wikidata.org/entity/Q3422413'), ('recordName', \"Women's 100 metres hurdles world record progression\")]\n",
      "[('record', 'http://www.wikidata.org/entity/Q1136298'), ('recordName', \"Men's 110 metres hurdles world record progression\")]\n"
     ]
    },
    {
     "data": {
      "text/plain": [
       "10"
      ]
     },
     "execution_count": 4,
     "metadata": {},
     "output_type": "execute_result"
    }
   ],
   "source": [
    "queryString = \"\"\"\n",
    "SELECT ?record ?recordName\n",
    "WHERE { \n",
    "\n",
    "    ?record wdt:P279 wd:Q688615 ;\n",
    "        sc:name ?recordName .\n",
    "\n",
    "} LIMIT 10\n",
    "\n",
    "\"\"\"\n",
    "\n",
    "print(\"Results\")\n",
    "run_query(queryString)"
   ]
  },
  {
   "cell_type": "markdown",
   "id": "57d6365c-e75e-4e3a-9ade-23aadba6e4b6",
   "metadata": {},
   "source": [
    "### Find information related to world record"
   ]
  },
  {
   "cell_type": "code",
   "execution_count": 5,
   "id": "f1c824ff-b6f1-42e6-9a34-125e810c0bc2",
   "metadata": {},
   "outputs": [
    {
     "name": "stdout",
     "output_type": "stream",
     "text": [
      "Results\n",
      "[('p', 'http://www.w3.org/1999/02/22-rdf-syntax-ns#type'), ('o', 'http://wikiba.se/ontology#Item')]\n",
      "[('p', 'http://www.wikidata.org/prop/direct-normalized/P2671'), ('o', 'http://g.co/kg/g/11bxdrpxb3')]\n",
      "[('p', 'http://www.wikidata.org/prop/direct-normalized/P508'), ('o', 'http://purl.org/bncf/tid/37534')]\n",
      "[('p', 'http://www.wikidata.org/prop/direct-normalized/P6366'), ('o', 'http://ma-graph.org/entity/81416803')]\n",
      "[('p', 'http://www.wikidata.org/prop/direct-normalized/P646'), ('o', 'http://g.co/kg/m/05m291')]\n",
      "[('p', 'http://www.wikidata.org/prop/direct-normalized/P646'), ('o', 'http://g.co/kg/m/0117z5t6')]\n",
      "[('p', 'http://www.wikidata.org/prop/direct-normalized/P646'), ('o', 'http://g.co/kg/m/06zl5vw')]\n",
      "[('p', 'http://www.wikidata.org/prop/direct-normalized/P646'), ('o', 'http://g.co/kg/m/0117q9c8')]\n",
      "[('p', 'http://schema.org/name'), ('o', \"Men's 100 metres world record progression\")]\n",
      "[('p', 'http://schema.org/name'), ('o', 'largest known prime number')]\n",
      "[('p', 'http://schema.org/name'), ('o', \"women's world record\")]\n",
      "[('p', 'http://schema.org/name'), ('o', \"men's world record\")]\n",
      "[('p', 'http://schema.org/name'), ('o', 'junior world record')]\n",
      "[('p', 'http://schema.org/name'), ('o', 'highest temperature recorded on Earth')]\n",
      "[('p', 'http://schema.org/name'), ('o', 'speed record')]\n",
      "[('p', 'http://schema.org/name'), ('o', 'world best time')]\n",
      "[('p', 'http://schema.org/name'), ('o', \"Women's 100 metres hurdles world record progression\")]\n",
      "[('p', 'http://schema.org/name'), ('o', \"Men's 110 metres hurdles world record progression\")]\n",
      "[('p', 'http://schema.org/name'), ('o', 'Aircraft records')]\n",
      "[('p', 'http://schema.org/name'), ('o', 'athletics records')]\n",
      "[('p', 'http://schema.org/name'), ('o', \"Men's 20 kilometres walk world record progression\")]\n",
      "[('pName', 'BNCF Thesaurus ID'), ('p', 'http://www.wikidata.org/prop/direct/P508'), ('o', '37534')]\n",
      "[('pName', 'Freebase ID'), ('p', 'http://www.wikidata.org/prop/direct/P646'), ('o', '/m/05m291')]\n",
      "[('pName', 'Freebase ID'), ('p', 'http://www.wikidata.org/prop/direct/P646'), ('o', '/m/0117z5t6')]\n",
      "[('pName', 'Freebase ID'), ('p', 'http://www.wikidata.org/prop/direct/P646'), ('o', '/m/06zl5vw')]\n",
      "[('pName', 'Freebase ID'), ('p', 'http://www.wikidata.org/prop/direct/P646'), ('o', '/m/0117q9c8')]\n",
      "[('pName', 'Google Knowledge Graph ID'), ('p', 'http://www.wikidata.org/prop/direct/P2671'), ('o', '/g/11bxdrpxb3')]\n",
      "[('pName', 'Microsoft Academic ID'), ('p', 'http://www.wikidata.org/prop/direct/P6366'), ('o', '81416803')]\n",
      "[('pName', 'authority'), ('oName', 'World Rowing'), ('p', 'http://www.wikidata.org/prop/direct/P797'), ('o', 'http://www.wikidata.org/entity/Q684885')]\n",
      "[('pName', 'described at URL'), ('p', 'http://www.wikidata.org/prop/direct/P973'), ('o', 'http://www.worldrowing.com/events/statistics/')]\n",
      "[('pName', 'full work available at URL'), ('p', 'http://www.wikidata.org/prop/direct/P953'), ('o', 'https://www.mersenne.org/primes/digits/M82589933.zip')]\n",
      "[('pName', 'has list'), ('oName', 'list of world records in rowing'), ('p', 'http://www.wikidata.org/prop/direct/P2354'), ('o', 'http://www.wikidata.org/entity/Q1570041')]\n",
      "[('pName', 'instance of'), ('oName', 'criterion'), ('p', 'http://www.wikidata.org/prop/direct/P31'), ('o', 'http://www.wikidata.org/entity/Q1789452')]\n",
      "[('pName', 'instance of'), ('oName', 'occurrence'), ('p', 'http://www.wikidata.org/prop/direct/P31'), ('o', 'http://www.wikidata.org/entity/Q1190554')]\n",
      "[('pName', 'instance of'), ('oName', 'Wikimedia list article'), ('p', 'http://www.wikidata.org/prop/direct/P31'), ('o', 'http://www.wikidata.org/entity/Q13406463')]\n",
      "[('pName', 'instance of'), ('oName', 'large number'), ('p', 'http://www.wikidata.org/prop/direct/P31'), ('o', 'http://www.wikidata.org/entity/Q1816844')]\n",
      "[('pName', 'instance of'), ('oName', 'maximum temperature'), ('p', 'http://www.wikidata.org/prop/direct/P31'), ('o', 'http://www.wikidata.org/entity/Q9356633')]\n",
      "[('pName', 'is a list of'), ('oName', \"men's world record\"), ('p', 'http://www.wikidata.org/prop/direct/P360'), ('o', 'http://www.wikidata.org/entity/Q24033834')]\n",
      "[('pName', 'location'), ('oName', 'Mitribah'), ('p', 'http://www.wikidata.org/prop/direct/P276'), ('o', 'http://www.wikidata.org/entity/Q27963776')]\n",
      "[('pName', 'numeric value'), ('p', 'http://www.wikidata.org/prop/direct/P1181'), ('o', '8191')]\n",
      "[('pName', 'numeric value'), ('p', 'http://www.wikidata.org/prop/direct/P1181'), ('o', '131071')]\n",
      "[('pName', 'numeric value'), ('p', 'http://www.wikidata.org/prop/direct/P1181'), ('o', '524287')]\n",
      "[('pName', 'numeric value'), ('p', 'http://www.wikidata.org/prop/direct/P1181'), ('o', '6700417')]\n",
      "[('pName', 'numeric value'), ('p', 'http://www.wikidata.org/prop/direct/P1181'), ('o', '2147483647')]\n",
      "[('pName', 'numeric value'), ('p', 'http://www.wikidata.org/prop/direct/P1181'), ('o', '54')]\n",
      "[('pName', 'opposite of'), ('oName', 'Lowest temperature recorded on Earth'), ('p', 'http://www.wikidata.org/prop/direct/P461'), ('o', 'http://www.wikidata.org/entity/Q6694023')]\n",
      "[('pName', 'point in time'), ('p', 'http://www.wikidata.org/prop/direct/P585'), ('o', '2016-07-21T00:00:00Z')]\n",
      "[('pName', 'sport'), ('oName', 'athletics'), ('p', 'http://www.wikidata.org/prop/direct/P641'), ('o', 'http://www.wikidata.org/entity/Q542')]\n",
      "[('pName', 'sport'), ('oName', 'rowing'), ('p', 'http://www.wikidata.org/prop/direct/P641'), ('o', 'http://www.wikidata.org/entity/Q159354')]\n",
      "[('pName', 'subclass of'), ('oName', 'prime number'), ('p', 'http://www.wikidata.org/prop/direct/P279'), ('o', 'http://www.wikidata.org/entity/Q49008')]\n",
      "[('pName', 'subclass of'), ('oName', 'world record'), ('p', 'http://www.wikidata.org/prop/direct/P279'), ('o', 'http://www.wikidata.org/entity/Q688615')]\n",
      "[('pName', 'subclass of'), ('oName', 'global temperature record'), ('p', 'http://www.wikidata.org/prop/direct/P279'), ('o', 'http://www.wikidata.org/entity/Q720957')]\n",
      "[('pName', \"topic's main category\"), ('oName', 'Category:Athletics (track and field) record progressions'), ('p', 'http://www.wikidata.org/prop/direct/P910'), ('o', 'http://www.wikidata.org/entity/Q8274130')]\n",
      "[('pName', \"topic's main template\"), ('oName', 'Template:Athletics record progressions'), ('p', 'http://www.wikidata.org/prop/direct/P1424'), ('o', 'http://www.wikidata.org/entity/Q6690146')]\n"
     ]
    },
    {
     "data": {
      "text/plain": [
       "54"
      ]
     },
     "execution_count": 5,
     "metadata": {},
     "output_type": "execute_result"
    }
   ],
   "source": [
    "queryString = \"\"\"\n",
    "SELECT DISTINCT ?pName ?oName ?p ?o\n",
    "WHERE { \n",
    "\n",
    "    ?record wdt:P279 wd:Q688615 ;\n",
    "        ?p ?o;\n",
    "        sc:name ?recordName .\n",
    "    OPTIONAL{ ?o sc:name ?oName .}\n",
    "    OPTIONAL{ ?p sc:name ?pName .}\n",
    "}\n",
    "ORDER BY ?pName\n",
    "\n",
    "\"\"\"\n",
    "\n",
    "print(\"Results\")\n",
    "run_query(queryString)"
   ]
  },
  {
   "cell_type": "markdown",
   "id": "bc7fbd41-1479-42fd-86cf-c21975a57004",
   "metadata": {},
   "source": [
    "### Remove wdt:P279 "
   ]
  },
  {
   "cell_type": "code",
   "execution_count": 6,
   "id": "68edef96-db2d-4539-bbbc-8402398370f2",
   "metadata": {},
   "outputs": [
    {
     "name": "stdout",
     "output_type": "stream",
     "text": [
      "Results\n",
      "[('pName', 'Atlas Obscura identifier'), ('p', 'http://www.wikidata.org/prop/direct/P7772'), ('o', 'umbrella-cover-museum')]\n",
      "[('pName', 'BNCF Thesaurus ID'), ('p', 'http://www.wikidata.org/prop/direct/P508'), ('o', '37534')]\n",
      "[('pName', 'Bibliothèque nationale de France ID'), ('p', 'http://www.wikidata.org/prop/direct/P268'), ('o', '11870796x')]\n",
      "[('pName', 'College Football Data Warehouse ID'), ('p', 'http://www.wikidata.org/prop/direct/P3560'), ('o', '1381')]\n",
      "[('pName', 'Commons category'), ('p', 'http://www.wikidata.org/prop/direct/P373'), ('o', 'Records')]\n",
      "[('pName', 'Commons category'), ('p', 'http://www.wikidata.org/prop/direct/P373'), ('o', 'Guinness World Records')]\n",
      "[('pName', 'Commons category'), ('p', 'http://www.wikidata.org/prop/direct/P373'), ('o', 'World records')]\n",
      "[('pName', 'Dailymotion channel ID'), ('p', 'http://www.wikidata.org/prop/direct/P2942'), ('o', 'guinnessworldrecords')]\n",
      "[('pName', \"Enciclopèdia de l'Esport Català ID\"), ('p', 'http://www.wikidata.org/prop/direct/P5513'), ('o', '10615')]\n",
      "[('pName', 'Encyclopædia Britannica Online ID'), ('p', 'http://www.wikidata.org/prop/direct/P1417'), ('o', 'biography/Brian-Oldfield')]\n",
      "[('pName', 'Encyclopædia Britannica Online ID'), ('p', 'http://www.wikidata.org/prop/direct/P1417'), ('o', 'topic/Guinness-Book-of-Records-The')]\n",
      "[('pName', 'Facebook ID'), ('p', 'http://www.wikidata.org/prop/direct/P2013'), ('o', 'brian.oldfield.94')]\n",
      "[('pName', 'Facebook ID'), ('p', 'http://www.wikidata.org/prop/direct/P2013'), ('o', 'GuinnessWorldRecords')]\n",
      "[('pName', 'Facebook ID'), ('p', 'http://www.wikidata.org/prop/direct/P2013'), ('o', 'UmbrellaCoverMuseum')]\n",
      "[('pName', 'Find A Grave memorial ID'), ('p', 'http://www.wikidata.org/prop/direct/P535'), ('o', '145967328')]\n",
      "[('pName', 'Freebase ID'), ('p', 'http://www.wikidata.org/prop/direct/P646'), ('o', '/m/0118kb3k')]\n",
      "[('pName', 'Freebase ID'), ('p', 'http://www.wikidata.org/prop/direct/P646'), ('o', '/m/02qlcz1')]\n",
      "[('pName', 'Freebase ID'), ('p', 'http://www.wikidata.org/prop/direct/P646'), ('o', '/m/05m291')]\n",
      "[('pName', 'Freebase ID'), ('p', 'http://www.wikidata.org/prop/direct/P646'), ('o', '/m/0119s0p1')]\n",
      "[('pName', 'Freebase ID'), ('p', 'http://www.wikidata.org/prop/direct/P646'), ('o', '/m/0pmx5')]\n",
      "[('pName', 'Freebase ID'), ('p', 'http://www.wikidata.org/prop/direct/P646'), ('o', '/m/0hr5kck')]\n",
      "[('pName', 'Freebase ID'), ('p', 'http://www.wikidata.org/prop/direct/P646'), ('o', '/m/0kt29r')]\n",
      "[('pName', 'Freebase ID'), ('p', 'http://www.wikidata.org/prop/direct/P646'), ('o', '/m/011bk0ct')]\n",
      "[('pName', 'Freebase ID'), ('p', 'http://www.wikidata.org/prop/direct/P646'), ('o', '/m/0119y22_')]\n",
      "[('pName', 'Freebase ID'), ('p', 'http://www.wikidata.org/prop/direct/P646'), ('o', '/m/011bc8b3')]\n",
      "[('pName', 'Freebase ID'), ('p', 'http://www.wikidata.org/prop/direct/P646'), ('o', '/m/0117z5t6')]\n",
      "[('pName', 'Freebase ID'), ('p', 'http://www.wikidata.org/prop/direct/P646'), ('o', '/m/02rt20d')]\n",
      "[('pName', 'Freebase ID'), ('p', 'http://www.wikidata.org/prop/direct/P646'), ('o', '/m/0_ftmf_')]\n",
      "[('pName', 'Freebase ID'), ('p', 'http://www.wikidata.org/prop/direct/P646'), ('o', '/m/0zdqm5p')]\n",
      "[('pName', 'Freebase ID'), ('p', 'http://www.wikidata.org/prop/direct/P646'), ('o', '/m/06zl5vw')]\n"
     ]
    },
    {
     "data": {
      "text/plain": [
       "30"
      ]
     },
     "execution_count": 6,
     "metadata": {},
     "output_type": "execute_result"
    }
   ],
   "source": [
    "queryString = \"\"\"\n",
    "SELECT DISTINCT ?pName ?oName ?p ?o\n",
    "WHERE { \n",
    "\n",
    "    ?record ?x wd:Q688615 ;\n",
    "        ?p ?o;\n",
    "        sc:name ?recordName .\n",
    "    OPTIONAL{ ?o sc:name ?oName .}\n",
    "    OPTIONAL{ ?p sc:name ?pName .}\n",
    "}\n",
    "ORDER BY ?pName\n",
    "LIMIT 30\n",
    "\n",
    "\"\"\"\n",
    "\n",
    "print(\"Results\")\n",
    "run_query(queryString)"
   ]
  },
  {
   "cell_type": "markdown",
   "id": "39c161aa-9f9a-4364-a436-4fb707208dc2",
   "metadata": {},
   "source": [
    "### Find predicates and objects related to World Record (different from before)"
   ]
  },
  {
   "cell_type": "code",
   "execution_count": 7,
   "id": "824ca11b-4679-4b76-973c-a355bb2e9667",
   "metadata": {},
   "outputs": [
    {
     "name": "stdout",
     "output_type": "stream",
     "text": [
      "Results\n",
      "[('pName', 'Commons category'), ('p', 'http://www.wikidata.org/prop/direct/P373'), ('o', 'World records')]\n",
      "[('pName', 'Freebase ID'), ('p', 'http://www.wikidata.org/prop/direct/P646'), ('o', '/m/0b_559')]\n",
      "[('pName', 'KBpedia ID'), ('p', 'http://www.wikidata.org/prop/direct/P8408'), ('o', 'WorldRecord')]\n",
      "[('pName', 'Quora topic ID'), ('p', 'http://www.wikidata.org/prop/direct/P3417'), ('o', 'World-Records')]\n",
      "[('pName', 'Zhihu topic ID'), ('p', 'http://www.wikidata.org/prop/direct/P3553'), ('o', '19632840')]\n",
      "[('pName', 'icon'), ('p', 'http://www.wikidata.org/prop/direct/P2910'), ('o', 'http://commons.wikimedia.org/wiki/Special:FilePath/Sport%20records%20icon%20WR.svg')]\n",
      "[('pName', 'instance of'), ('oName', 'criterion'), ('p', 'http://www.wikidata.org/prop/direct/P31'), ('o', 'http://www.wikidata.org/entity/Q1789452')]\n",
      "[('pName', 'instance of'), ('oName', 'quality'), ('p', 'http://www.wikidata.org/prop/direct/P31'), ('o', 'http://www.wikidata.org/entity/Q1207505')]\n",
      "[('pName', 'said to be the same as'), ('oName', 'record'), ('p', 'http://www.wikidata.org/prop/direct/P460'), ('o', 'http://www.wikidata.org/entity/Q1241356')]\n",
      "[('pName', 'subclass of'), ('oName', 'record'), ('p', 'http://www.wikidata.org/prop/direct/P279'), ('o', 'http://www.wikidata.org/entity/Q1241356')]\n",
      "[('pName', \"topic's main category\"), ('oName', 'Category:World records'), ('p', 'http://www.wikidata.org/prop/direct/P910'), ('o', 'http://www.wikidata.org/entity/Q6468417')]\n",
      "[('p', 'http://www.w3.org/1999/02/22-rdf-syntax-ns#type'), ('o', 'http://wikiba.se/ontology#Item')]\n",
      "[('p', 'http://www.wikidata.org/prop/direct-normalized/P646'), ('o', 'http://g.co/kg/m/0b_559')]\n",
      "[('p', 'http://www.wikidata.org/prop/direct-normalized/P8408'), ('o', 'http://kbpedia.org/kko/rc/WorldRecord')]\n",
      "[('p', 'http://schema.org/name'), ('o', 'world record')]\n"
     ]
    },
    {
     "data": {
      "text/plain": [
       "15"
      ]
     },
     "execution_count": 7,
     "metadata": {},
     "output_type": "execute_result"
    }
   ],
   "source": [
    "queryString = \"\"\"\n",
    "SELECT DISTINCT ?pName ?oName ?p ?o\n",
    "WHERE { \n",
    "\n",
    "    wd:Q688615 ?p ?o;\n",
    "        sc:name ?recordName .\n",
    "    OPTIONAL{ ?o sc:name ?oName .}\n",
    "    OPTIONAL{ ?p sc:name ?pName .}\n",
    "}\n",
    "ORDER BY ?pName\n",
    "LIMIT 30\n",
    "\n",
    "\"\"\"\n",
    "\n",
    "print(\"Results\")\n",
    "run_query(queryString)"
   ]
  },
  {
   "cell_type": "markdown",
   "id": "2badfb53-0a50-486e-915d-b6b0f8f025a4",
   "metadata": {},
   "source": [
    "### Try to reach person instance"
   ]
  },
  {
   "cell_type": "code",
   "execution_count": 8,
   "id": "d5512eb2-69a9-4d21-b060-97139a9f5842",
   "metadata": {},
   "outputs": [
    {
     "name": "stdout",
     "output_type": "stream",
     "text": [
      "Results\n",
      "[('name', 'human'), ('instance', 'http://www.wikidata.org/entity/Q5')]\n"
     ]
    },
    {
     "data": {
      "text/plain": [
       "1"
      ]
     },
     "execution_count": 8,
     "metadata": {},
     "output_type": "execute_result"
    }
   ],
   "source": [
    "queryString = \"\"\"\n",
    "SELECT DISTINCT ?name ?instance\n",
    "WHERE { \n",
    "    wd:Q1189 wdt:P31 ?instance .\n",
    "    ?instance sc:name ?name .\n",
    "}\n",
    "LIMIT 5\n",
    "\n",
    "\"\"\"\n",
    "\n",
    "print(\"Results\")\n",
    "run_query(queryString)"
   ]
  },
  {
   "cell_type": "markdown",
   "id": "106e6504-e7c6-4d6f-9e9e-c80131fa50b0",
   "metadata": {},
   "source": [
    "### Search person related to world records"
   ]
  },
  {
   "cell_type": "code",
   "execution_count": 9,
   "id": "4f318310-9b5b-4787-966f-2af65123b418",
   "metadata": {},
   "outputs": [
    {
     "name": "stdout",
     "output_type": "stream",
     "text": [
      "Results\n",
      "[('pName', 'record held'), ('p', 'http://www.wikidata.org/prop/direct/P1000')]\n",
      "[('pName', 'significant event'), ('p', 'http://www.wikidata.org/prop/direct/P793')]\n"
     ]
    },
    {
     "data": {
      "text/plain": [
       "2"
      ]
     },
     "execution_count": 9,
     "metadata": {},
     "output_type": "execute_result"
    }
   ],
   "source": [
    "queryString = \"\"\"\n",
    "SELECT DISTINCT ?pName ?p\n",
    "WHERE { \n",
    "\n",
    "    ?record wdt:P279 wd:Q688615 ;\n",
    "        sc:name ?recordName .\n",
    "   \n",
    "   ?person ?p ?record ;\n",
    "           wdt:P31 wd:Q5 .\n",
    "    ?p sc:name ?pName .\n",
    "}\n",
    "\n",
    "\n",
    "\"\"\"\n",
    "\n",
    "print(\"Results\")\n",
    "run_query(queryString)"
   ]
  },
  {
   "cell_type": "markdown",
   "id": "070f111c-12c0-4854-896f-592c260166d8",
   "metadata": {},
   "source": [
    "### Retrieve name and relative name"
   ]
  },
  {
   "cell_type": "code",
   "execution_count": 10,
   "id": "935fa1c6-c348-4bbb-89c3-eebb9e3af7af",
   "metadata": {},
   "outputs": [
    {
     "name": "stdout",
     "output_type": "stream",
     "text": [
      "Results\n",
      "[('personName', 'Usain Bolt'), ('records', \"Men's 100 metres world record progression\")]\n",
      "[('personName', 'Yordanka Donkova'), ('records', \"Women's 100 metres hurdles world record progression\")]\n",
      "[('personName', 'Kliment Kolesnikov'), ('records', 'junior world record')]\n",
      "[('personName', 'Yaroslava Mahuchikh'), ('records', 'junior world record')]\n"
     ]
    },
    {
     "data": {
      "text/plain": [
       "4"
      ]
     },
     "execution_count": 10,
     "metadata": {},
     "output_type": "execute_result"
    }
   ],
   "source": [
    "queryString = \"\"\"\n",
    "SELECT DISTINCT ?personName (GROUP_CONCAT(DISTINCT ?recordName; SEPARATOR=\", \") AS ?records) \n",
    "WHERE { \n",
    " \n",
    "    ?person wdt:P1000 ?record ;     # record held\n",
    "        wdt:P31 wd:Q5 ;\n",
    "        sc:name ?personName .\n",
    "    \n",
    "    ?record wdt:P279 wd:Q688615 ;\n",
    "        sc:name ?recordName .\n",
    "   \n",
    "} GROUP BY ?personName\n",
    "\n",
    "\"\"\"\n",
    "\n",
    "print(\"Results\")\n",
    "run_query(queryString)"
   ]
  },
  {
   "cell_type": "markdown",
   "id": "f016434b-fd3d-4ce0-8e5e-02a54f594fe6",
   "metadata": {},
   "source": [
    "### Add OPTIONAL "
   ]
  },
  {
   "cell_type": "code",
   "execution_count": 11,
   "id": "743ab650-7cd5-4298-b095-489405905178",
   "metadata": {
    "tags": []
   },
   "outputs": [
    {
     "name": "stdout",
     "output_type": "stream",
     "text": [
      "Results\n",
      "[('personName', 'Genzebe Dibaba'), ('records', '1500 metres world record progression')]\n",
      "[('personName', 'Tomáš Dvořák'), ('records', 'decathlon world record progression')]\n",
      "[('personName', 'Phil Shinnick'), ('records', 'Long jump world record progression')]\n",
      "[('personName', 'Caitlyn Jenner'), ('records', 'decathlon world record progression')]\n",
      "[('personName', 'Guido Kratschmer'), ('records', 'decathlon world record progression')]\n",
      "[('personName', 'Sten Pettersson'), ('records', \"Men's 400 metres hurdles world record progression\")]\n",
      "[('personName', 'Sara Simeoni'), ('records', \"Men's high jump world record progression\")]\n",
      "[('personName', 'Russ Hodge'), ('records', 'decathlon world record progression')]\n",
      "[('personName', 'Edward Lindberg'), ('records', \"Men's 4 x 400 metres relay world record progression\")]\n",
      "[('personName', 'Sasha Zhoya'), ('records', 'list of world junior records in athletics')]\n",
      "[('personName', 'Ted Meredith'), ('records', \"800 metres world record progression, Men's 4 x 400 metres relay world record progression, Men's 400 metres world record progression\")]\n",
      "[('personName', 'Yang Chuan-kwang'), ('records', 'decathlon world record progression')]\n",
      "[('personName', \"Dan O'Brien\"), ('records', \"Women's heptathlon world record progression, decathlon world record progression\")]\n",
      "[('personName', 'Mel Sheppard'), ('records', \"Men's 4 x 400 metres relay world record progression\")]\n",
      "[('personName', 'Kevin Young'), ('records', \"Men's 400 metres hurdles world record progression\")]\n"
     ]
    },
    {
     "data": {
      "text/plain": [
       "15"
      ]
     },
     "execution_count": 11,
     "metadata": {},
     "output_type": "execute_result"
    }
   ],
   "source": [
    "queryString = \"\"\"\n",
    "SELECT DISTINCT ?personName (GROUP_CONCAT(DISTINCT ?recordName; SEPARATOR=\", \") AS ?records)\n",
    "WHERE { \n",
    " \n",
    "    ?person wdt:P1000 ?record ;     # record held\n",
    "           wdt:P31 wd:Q5 .\n",
    "    OPTIONAL {?person sc:name ?personName .}\n",
    "    \n",
    "    ?record ?p wd:Q688615 .\n",
    "    \n",
    "    OPTIONAL{ ?record sc:name ?recordName . }\n",
    "    \n",
    "    FILTER regex(?recordName, \".*world.*\")\n",
    "\n",
    "} GROUP BY ?personName\n",
    "LIMIT 15\n",
    "\n",
    "\"\"\"\n",
    "\n",
    "print(\"Results\")\n",
    "run_query(queryString)"
   ]
  },
  {
   "cell_type": "markdown",
   "id": "5d0827f3-a815-4761-9c19-9c8b20e367eb",
   "metadata": {},
   "source": [
    "### Result part 1\n",
    "From the last query we can see that some althlets held more than one records."
   ]
  },
  {
   "cell_type": "markdown",
   "id": "eb2a08cb-0433-4ef6-86bc-c0887e87207f",
   "metadata": {},
   "source": [
    "## Part 2\n",
    "### Identify the BGP for the types of competitions in which a world record is classified"
   ]
  },
  {
   "cell_type": "markdown",
   "id": "b4a0dd52-df3c-4ef2-9c2f-21d7f69ac78c",
   "metadata": {},
   "source": [
    "Identify information related to (\"2017 World Championships in Athletics – men's 100 metres\"), ('p', 'http://www.wikidata.org/prop/direct/P1344'), ('o', 'http://www.wikidata.org/entity/Q30765148"
   ]
  },
  {
   "cell_type": "code",
   "execution_count": 12,
   "id": "fb911ea3-80a9-4722-a782-10f83b08ce30",
   "metadata": {},
   "outputs": [
    {
     "name": "stdout",
     "output_type": "stream",
     "text": [
      "Results\n",
      "[('pName', 'winner'), ('oName', 'Justin Gatlin'), ('p', 'http://www.wikidata.org/prop/direct/P1346'), ('o', 'http://www.wikidata.org/entity/Q1652')]\n",
      "[('pName', 'follows'), ('oName', \"2015 World Championships in Athletics – men's 100 metres\"), ('p', 'http://www.wikidata.org/prop/direct/P155'), ('o', 'http://www.wikidata.org/entity/Q20785653')]\n",
      "[('pName', 'followed by'), ('oName', \"2019 World Championships in Athletics – men's 100 metres\"), ('p', 'http://www.wikidata.org/prop/direct/P156'), ('o', 'http://www.wikidata.org/entity/Q61013304')]\n",
      "[('pName', 'competition class'), ('oName', '100 metres'), ('p', 'http://www.wikidata.org/prop/direct/P2094'), ('o', 'http://www.wikidata.org/entity/Q164761')]\n",
      "[('pName', 'competition class'), ('oName', 'male'), ('p', 'http://www.wikidata.org/prop/direct/P2094'), ('o', 'http://www.wikidata.org/entity/Q6581097')]\n",
      "[('pName', 'location'), ('oName', 'London Stadium'), ('p', 'http://www.wikidata.org/prop/direct/P276'), ('o', 'http://www.wikidata.org/entity/Q172190')]\n",
      "[('pName', 'instance of'), ('oName', 'athletics meeting'), ('p', 'http://www.wikidata.org/prop/direct/P31'), ('o', 'http://www.wikidata.org/entity/Q11783626')]\n",
      "[('pName', 'instance of'), ('oName', 'sporting event'), ('p', 'http://www.wikidata.org/prop/direct/P31'), ('o', 'http://www.wikidata.org/entity/Q16510064')]\n",
      "[('pName', 'part of'), ('oName', '2017 World Championships in Athletics'), ('p', 'http://www.wikidata.org/prop/direct/P361'), ('o', 'http://www.wikidata.org/entity/Q175508')]\n",
      "[('pName', 'sport'), ('oName', 'athletics'), ('p', 'http://www.wikidata.org/prop/direct/P641'), ('o', 'http://www.wikidata.org/entity/Q542')]\n",
      "[('pName', 'organizer'), ('oName', 'World Athletics'), ('p', 'http://www.wikidata.org/prop/direct/P664'), ('o', 'http://www.wikidata.org/entity/Q1158')]\n",
      "[('pName', 'participant'), ('oName', 'Usain Bolt'), ('p', 'http://www.wikidata.org/prop/direct/P710'), ('o', 'http://www.wikidata.org/entity/Q1189')]\n",
      "[('pName', 'Google Knowledge Graph ID'), ('p', 'http://www.wikidata.org/prop/direct/P2671'), ('o', '/g/11d_7771n_')]\n",
      "[('pName', 'Commons category'), ('p', 'http://www.wikidata.org/prop/direct/P373'), ('o', \"2017 World Championships in Athletics – Men's 100 metres\")]\n",
      "[('pName', 'point in time'), ('p', 'http://www.wikidata.org/prop/direct/P585'), ('o', '2017-01-01T00:00:00Z')]\n",
      "[('p', 'http://www.w3.org/1999/02/22-rdf-syntax-ns#type'), ('o', 'http://wikiba.se/ontology#Item')]\n",
      "[('p', 'http://www.wikidata.org/prop/direct-normalized/P2671'), ('o', 'http://g.co/kg/g/11d_7771n_')]\n",
      "[('p', 'http://schema.org/name'), ('o', \"2017 World Championships in Athletics – men's 100 metres\")]\n"
     ]
    },
    {
     "data": {
      "text/plain": [
       "18"
      ]
     },
     "execution_count": 12,
     "metadata": {},
     "output_type": "execute_result"
    }
   ],
   "source": [
    "queryString = \"\"\"\n",
    "SELECT DISTINCT ?pName ?oName ?p ?o\n",
    "WHERE{\n",
    "    wd:Q30765148 ?p ?o .\n",
    "    OPTIONAL{?p sc:name ?pName.}\n",
    "    OPTIONAL{?o sc:name ?oName.}\n",
    " \n",
    "}LIMIT 30\n",
    "\n",
    "\"\"\"\n",
    "\n",
    "print(\"Results\")\n",
    "run_query(queryString)"
   ]
  },
  {
   "cell_type": "markdown",
   "id": "7e5d143c-6594-4334-b829-e23354ee787a",
   "metadata": {},
   "source": [
    "### Search information about the event 2017 World Championships in Athletics"
   ]
  },
  {
   "cell_type": "code",
   "execution_count": 13,
   "id": "eecfbfdf-a888-4b03-ab56-ee90343e834b",
   "metadata": {},
   "outputs": [
    {
     "name": "stdout",
     "output_type": "stream",
     "text": [
      "Results\n",
      "[('pName', 'home venue'), ('oName', 'London Stadium'), ('p', 'http://www.wikidata.org/prop/direct/P115'), ('o', 'http://www.wikidata.org/entity/Q172190')]\n",
      "[('pName', 'follows'), ('oName', '2015 World Championships in Athletics'), ('p', 'http://www.wikidata.org/prop/direct/P155'), ('o', 'http://www.wikidata.org/entity/Q1026555')]\n",
      "[('pName', 'followed by'), ('oName', '2019 World Championships in Athletics'), ('p', 'http://www.wikidata.org/prop/direct/P156'), ('o', 'http://www.wikidata.org/entity/Q15694436')]\n",
      "[('pName', 'country'), ('oName', 'United Kingdom'), ('p', 'http://www.wikidata.org/prop/direct/P17'), ('o', 'http://www.wikidata.org/entity/Q145')]\n",
      "[('pName', 'location'), ('oName', 'London'), ('p', 'http://www.wikidata.org/prop/direct/P276'), ('o', 'http://www.wikidata.org/entity/Q84')]\n",
      "[('pName', 'instance of'), ('oName', 'World Championships in Athletics'), ('p', 'http://www.wikidata.org/prop/direct/P31'), ('o', 'http://www.wikidata.org/entity/Q182653')]\n",
      "[('pName', 'instance of'), ('oName', 'sports season'), ('p', 'http://www.wikidata.org/prop/direct/P31'), ('o', 'http://www.wikidata.org/entity/Q27020041')]\n",
      "[('pName', 'has part'), ('oName', \"2017 World Championships in Athletics – men's 4 × 100 metres relay\"), ('p', 'http://www.wikidata.org/prop/direct/P527'), ('o', 'http://www.wikidata.org/entity/Q34491295')]\n",
      "[('pName', 'has part'), ('oName', \"2017 World Championships in Athletics – men's 100 metres\"), ('p', 'http://www.wikidata.org/prop/direct/P527'), ('o', 'http://www.wikidata.org/entity/Q30765148')]\n",
      "[('pName', 'has part'), ('oName', \"2017 World Championships in Athletics – women's marathon\"), ('p', 'http://www.wikidata.org/prop/direct/P527'), ('o', 'http://www.wikidata.org/entity/Q34492722')]\n",
      "[('pName', 'has part'), ('oName', \"2017 World Championships in Athletics – men's long jump\"), ('p', 'http://www.wikidata.org/prop/direct/P527'), ('o', 'http://www.wikidata.org/entity/Q34492265')]\n",
      "[('pName', 'has part'), ('oName', \"2017 World Championships in Athletics – women's 400 metres hurdles\"), ('p', 'http://www.wikidata.org/prop/direct/P527'), ('o', 'http://www.wikidata.org/entity/Q34596730')]\n",
      "[('pName', 'has part'), ('oName', \"2017 World Championships in Athletics – men's marathon\"), ('p', 'http://www.wikidata.org/prop/direct/P527'), ('o', 'http://www.wikidata.org/entity/Q34356835')]\n",
      "[('pName', 'sport'), ('oName', 'athletics'), ('p', 'http://www.wikidata.org/prop/direct/P641'), ('o', 'http://www.wikidata.org/entity/Q542')]\n",
      "[('pName', 'organizer'), ('oName', 'World Athletics'), ('p', 'http://www.wikidata.org/prop/direct/P664'), ('o', 'http://www.wikidata.org/entity/Q1158')]\n",
      "[('pName', \"topic's main category\"), ('oName', 'Category:2017 World Championships in Athletics'), ('p', 'http://www.wikidata.org/prop/direct/P910'), ('o', 'http://www.wikidata.org/entity/Q29353190')]\n",
      "[('pName', 'Commons category'), ('p', 'http://www.wikidata.org/prop/direct/P373'), ('o', '2017 World Championships in Athletics')]\n",
      "[('pName', 'edition number'), ('p', 'http://www.wikidata.org/prop/direct/P393'), ('o', '16th')]\n",
      "[('pName', 'start time'), ('p', 'http://www.wikidata.org/prop/direct/P580'), ('o', '2017-08-04T00:00:00Z')]\n",
      "[('pName', 'end time'), ('p', 'http://www.wikidata.org/prop/direct/P582'), ('o', '2017-08-13T00:00:00Z')]\n",
      "[('pName', 'point in time'), ('p', 'http://www.wikidata.org/prop/direct/P585'), ('o', '2017-01-01T00:00:00Z')]\n",
      "[('pName', 'Freebase ID'), ('p', 'http://www.wikidata.org/prop/direct/P646'), ('o', '/m/0h54plx')]\n",
      "[('pName', 'official website'), ('p', 'http://www.wikidata.org/prop/direct/P856'), ('o', 'http://www.london2017athletics.com/')]\n",
      "[('p', 'http://www.w3.org/1999/02/22-rdf-syntax-ns#type'), ('o', 'http://wikiba.se/ontology#Item')]\n",
      "[('p', 'http://www.wikidata.org/prop/direct-normalized/P646'), ('o', 'http://g.co/kg/m/0h54plx')]\n",
      "[('p', 'http://schema.org/name'), ('o', '2017 World Championships in Athletics')]\n"
     ]
    },
    {
     "data": {
      "text/plain": [
       "26"
      ]
     },
     "execution_count": 13,
     "metadata": {},
     "output_type": "execute_result"
    }
   ],
   "source": [
    "queryString = \"\"\"\n",
    "SELECT DISTINCT ?pName ?oName ?p ?o\n",
    "WHERE{\n",
    "    wd:Q175508 ?p ?o .\n",
    "    OPTIONAL{?p sc:name ?pName.}\n",
    "    OPTIONAL{?o sc:name ?oName.}\n",
    " \n",
    "}LIMIT 30\n",
    "\n",
    "\"\"\"\n",
    "\n",
    "print(\"Results\")\n",
    "run_query(queryString)"
   ]
  },
  {
   "cell_type": "markdown",
   "id": "6906a91a-9b5e-42fb-849d-2d76af5a5173",
   "metadata": {},
   "source": [
    "### Search subclass of sport season \n",
    "[('pName', 'instance of'), ('oName', 'sports season'), ('p', 'http://www.wikidata.org/prop/direct/P31'), ('o', 'http://www.wikidata.org/entity/Q27020041')]"
   ]
  },
  {
   "cell_type": "code",
   "execution_count": 14,
   "id": "5af7e492-0feb-4b61-a44f-803bf5b0e143",
   "metadata": {},
   "outputs": [
    {
     "name": "stdout",
     "output_type": "stream",
     "text": [
      "Results\n",
      "[('oName', 'sports competition'), ('o', 'http://www.wikidata.org/entity/Q13406554')]\n",
      "[('oName', 'recurring sporting event'), ('o', 'http://www.wikidata.org/entity/Q18608583')]\n",
      "[('oName', 'sports season'), ('o', 'http://www.wikidata.org/entity/Q27020041')]\n",
      "[('oName', 'recurring event'), ('o', 'http://www.wikidata.org/entity/Q15275719')]\n",
      "[('oName', 'event'), ('o', 'http://www.wikidata.org/entity/Q1656682')]\n"
     ]
    },
    {
     "data": {
      "text/plain": [
       "5"
      ]
     },
     "execution_count": 14,
     "metadata": {},
     "output_type": "execute_result"
    }
   ],
   "source": [
    "queryString = \"\"\"\n",
    "SELECT DISTINCT ?oName ?o\n",
    "WHERE{\n",
    "    wd:Q27020041 wdt:P31|wdt:P279* ?o .\n",
    "    ?o sc:name ?oName.\n",
    "    \n",
    "    FILTER (regex(?oName, \"sport\")||regex(?oName, \"event\"))\n",
    " \n",
    "}LIMIT 30\n",
    "\n",
    "\"\"\"\n",
    "\n",
    "print(\"Results\")\n",
    "run_query(queryString)"
   ]
  },
  {
   "cell_type": "markdown",
   "id": "ec209086-5a19-4bf9-9047-78c87cf2391a",
   "metadata": {},
   "source": [
    "### Search sport events"
   ]
  },
  {
   "cell_type": "code",
   "execution_count": 15,
   "id": "688f2818-cdd4-42d3-9913-fba3fb4ade52",
   "metadata": {},
   "outputs": [
    {
     "name": "stdout",
     "output_type": "stream",
     "text": [
      "Results\n",
      "[('eventName', 'División de Honor Juvenil de Fútbol')]\n",
      "[('eventName', 'Copa de la Reina de Baloncesto')]\n",
      "[('eventName', 'Copa America')]\n",
      "[('eventName', \"EHF Women's Champions League\")]\n",
      "[('eventName', 'football in Azerbaijan')]\n",
      "[('eventName', 'North African Cup Winners Cup')]\n",
      "[('eventName', '2015 Omloop Het Nieuwsblad')]\n",
      "[('eventName', 'Deutschland-Cup Gerätturnen 2019')]\n",
      "[('eventName', 'German Male Junior Gymnastics Championships 2017')]\n",
      "[('eventName', 'German Male Gymnastics Championships 2017')]\n",
      "[('eventName', 'Sailing World Championships')]\n",
      "[('eventName', 'Snowboard World Junior Championships')]\n",
      "[('eventName', 'NBB Cup')]\n",
      "[('eventName', 'Swedish Cross-Country Skiing Championships')]\n",
      "[('eventName', '2013 UK Open')]\n"
     ]
    },
    {
     "data": {
      "text/plain": [
       "15"
      ]
     },
     "execution_count": 15,
     "metadata": {},
     "output_type": "execute_result"
    }
   ],
   "source": [
    "queryString = \"\"\"\n",
    "SELECT DISTINCT ?eventName\n",
    "WHERE { \n",
    "    ?event wdt:P31|wdt:P279* wd:Q13406554 ;\n",
    "        sc:name ?eventName .      \n",
    " \n",
    "}LIMIT 15\n",
    "\n",
    "\"\"\"\n",
    "\n",
    "print(\"Results\")\n",
    "run_query(queryString)"
   ]
  },
  {
   "cell_type": "markdown",
   "id": "b0a2c43b-7d22-450f-8bc2-c59252d9b7d5",
   "metadata": {},
   "source": [
    "### Search predicates and objects associated with subject that are related to world records"
   ]
  },
  {
   "cell_type": "code",
   "execution_count": 16,
   "id": "26506b16-9b04-462b-948a-78d96e2dbee7",
   "metadata": {},
   "outputs": [
    {
     "name": "stdout",
     "output_type": "stream",
     "text": [
      "Results\n",
      "[('pName', 'occupation'), ('oName', 'swimmer'), ('p', 'http://www.wikidata.org/prop/direct/P106'), ('o', 'http://www.wikidata.org/entity/Q10843402')]\n",
      "[('pName', 'occupation'), ('oName', 'athletics competitor'), ('p', 'http://www.wikidata.org/prop/direct/P106'), ('o', 'http://www.wikidata.org/entity/Q11513337')]\n",
      "[('pName', 'occupation'), ('oName', 'shot putter'), ('p', 'http://www.wikidata.org/prop/direct/P106'), ('o', 'http://www.wikidata.org/entity/Q18534714')]\n",
      "[('pName', 'occupation'), ('oName', 'American football player'), ('p', 'http://www.wikidata.org/prop/direct/P106'), ('o', 'http://www.wikidata.org/entity/Q19204627')]\n",
      "[('pName', 'occupation'), ('oName', 'short track speed skater'), ('p', 'http://www.wikidata.org/prop/direct/P106'), ('o', 'http://www.wikidata.org/entity/Q18200514')]\n",
      "[('pName', 'located in the administrative territorial entity'), ('oName', 'Peaks Island, Maine'), ('p', 'http://www.wikidata.org/prop/direct/P131'), ('o', 'http://www.wikidata.org/entity/Q7157897')]\n",
      "[('pName', 'described by source'), ('oName', 'Armenian Soviet Encyclopedia'), ('p', 'http://www.wikidata.org/prop/direct/P1343'), ('o', 'http://www.wikidata.org/entity/Q2657718')]\n",
      "[('pName', 'participant in'), ('oName', '1972 Summer Olympics'), ('p', 'http://www.wikidata.org/prop/direct/P1344'), ('o', 'http://www.wikidata.org/entity/Q8438')]\n",
      "[('pName', 'participant in'), ('oName', '1924 Summer Olympics'), ('p', 'http://www.wikidata.org/prop/direct/P1344'), ('o', 'http://www.wikidata.org/entity/Q8132')]\n",
      "[('pName', 'winner'), ('oName', 'Tom Lieb'), ('p', 'http://www.wikidata.org/prop/direct/P1346'), ('o', 'http://www.wikidata.org/entity/Q1891959')]\n",
      "[('pName', 'winner'), ('oName', 'James Duncan'), ('p', 'http://www.wikidata.org/prop/direct/P1346'), ('o', 'http://www.wikidata.org/entity/Q420243')]\n",
      "[('pName', 'genre'), ('oName', 'gospel music'), ('p', 'http://www.wikidata.org/prop/direct/P136'), ('o', 'http://www.wikidata.org/entity/Q180268')]\n",
      "[('pName', 'genre'), ('oName', 'reference work'), ('p', 'http://www.wikidata.org/prop/direct/P136'), ('o', 'http://www.wikidata.org/entity/Q13136')]\n",
      "[('pName', 'replaces'), ('oName', 'SNCF BB 9003 and BB 9004'), ('p', 'http://www.wikidata.org/prop/direct/P1365'), ('o', 'http://www.wikidata.org/entity/Q612048')]\n",
      "[('pName', 'operator'), ('oName', 'Qantas'), ('p', 'http://www.wikidata.org/prop/direct/P137'), ('o', 'http://www.wikidata.org/entity/Q32491')]\n",
      "[('pName', 'operator'), ('oName', 'Singapore Airlines'), ('p', 'http://www.wikidata.org/prop/direct/P137'), ('o', 'http://www.wikidata.org/entity/Q32245')]\n",
      "[('pName', 'named after'), ('oName', 'Guinness'), ('p', 'http://www.wikidata.org/prop/direct/P138'), ('o', 'http://www.wikidata.org/entity/Q194297')]\n",
      "[('pName', \"topic's main template\"), ('oName', 'Template:Athletics record progressions'), ('p', 'http://www.wikidata.org/prop/direct/P1424'), ('o', 'http://www.wikidata.org/entity/Q6690146')]\n",
      "[('pName', 'country for sport'), ('oName', 'United States of America'), ('p', 'http://www.wikidata.org/prop/direct/P1532'), ('o', 'http://www.wikidata.org/entity/Q30')]\n",
      "[('pName', 'has effect'), ('oName', 'record'), ('p', 'http://www.wikidata.org/prop/direct/P1542'), ('o', 'http://www.wikidata.org/entity/Q107435521')]\n",
      "[('pName', 'follows'), ('oName', 'Little Richard Live'), ('p', 'http://www.wikidata.org/prop/direct/P155'), ('o', 'http://www.wikidata.org/entity/Q4043043')]\n",
      "[('pName', 'has quality'), ('oName', 'impermanence'), ('p', 'http://www.wikidata.org/prop/direct/P1552'), ('o', 'http://www.wikidata.org/entity/Q47001369')]\n",
      "[('pName', 'has quality'), ('oName', 'world record'), ('p', 'http://www.wikidata.org/prop/direct/P1552'), ('o', 'http://www.wikidata.org/entity/Q688615')]\n",
      "[('pName', 'followed by'), ('oName', 'Lifetime Friend'), ('p', 'http://www.wikidata.org/prop/direct/P156'), ('o', 'http://www.wikidata.org/entity/Q4042875')]\n",
      "[('pName', 'followed by'), ('oName', 'list of highest scores in figure skating'), ('p', 'http://www.wikidata.org/prop/direct/P156'), ('o', 'http://www.wikidata.org/entity/Q56278988')]\n",
      "[('pName', 'award received'), ('oName', 'world record'), ('p', 'http://www.wikidata.org/prop/direct/P166'), ('o', 'http://www.wikidata.org/entity/Q688615')]\n",
      "[('pName', 'Wikidata property'), ('oName', 'record held'), ('p', 'http://www.wikidata.org/prop/direct/P1687'), ('o', 'http://www.wikidata.org/entity/P1000')]\n",
      "[('pName', 'Wikidata property'), ('oName', 'record or record progression'), ('p', 'http://www.wikidata.org/prop/direct/P1687'), ('o', 'http://www.wikidata.org/entity/P2869')]\n",
      "[('pName', 'country'), ('oName', 'United States of America'), ('p', 'http://www.wikidata.org/prop/direct/P17'), ('o', 'http://www.wikidata.org/entity/Q30')]\n",
      "[('pName', 'performer'), ('oName', 'Little Richard'), ('p', 'http://www.wikidata.org/prop/direct/P175'), ('o', 'http://www.wikidata.org/entity/Q82222')]\n"
     ]
    },
    {
     "data": {
      "text/plain": [
       "30"
      ]
     },
     "execution_count": 16,
     "metadata": {},
     "output_type": "execute_result"
    }
   ],
   "source": [
    "queryString = \"\"\"\n",
    "SELECT DISTINCT ?pName ?oName ?p ?o\n",
    "WHERE { \n",
    "    \n",
    "    ?s ?x wd:Q688615 ;\n",
    "        ?p ?o .\n",
    "    OPTIONAL{ ?p sc:name ?pName .}\n",
    "    OPTIONAL{ ?o sc:name ?oName .}\n",
    "    \n",
    " \n",
    "}LIMIT 30\n",
    "\n",
    "\"\"\"\n",
    "\n",
    "print(\"Results\")\n",
    "run_query(queryString)"
   ]
  },
  {
   "cell_type": "markdown",
   "id": "d977205d-84bc-44f5-9936-21dcb976680c",
   "metadata": {},
   "source": [
    "### Search predicate and object associate to world records "
   ]
  },
  {
   "cell_type": "code",
   "execution_count": 17,
   "id": "b1e6f8a2-6b38-458e-a507-b04b93b9dee9",
   "metadata": {},
   "outputs": [
    {
     "name": "stdout",
     "output_type": "stream",
     "text": [
      "Results\n",
      "[('pName', 'instance of'), ('oName', 'world record'), ('p', 'http://www.wikidata.org/prop/direct/P31'), ('o', 'http://www.wikidata.org/entity/Q688615')]\n",
      "[('pName', 'sport'), ('oName', 'athletics'), ('p', 'http://www.wikidata.org/prop/direct/P641'), ('o', 'http://www.wikidata.org/entity/Q542')]\n",
      "[('pName', 'competition class'), ('oName', \"men's sports\"), ('p', 'http://www.wikidata.org/prop/direct/P2094'), ('o', 'http://www.wikidata.org/entity/Q35555522')]\n",
      "[('pName', 'sport'), ('oName', 'heptathlon'), ('p', 'http://www.wikidata.org/prop/direct/P641'), ('o', 'http://www.wikidata.org/entity/Q243264')]\n",
      "[('pName', 'competition class'), ('oName', \"men's 100 metres\"), ('p', 'http://www.wikidata.org/prop/direct/P2094'), ('o', 'http://www.wikidata.org/entity/Q55243390')]\n",
      "[('pName', 'competition class'), ('oName', '20 ft catamaran'), ('p', 'http://www.wikidata.org/prop/direct/P2094'), ('o', 'http://www.wikidata.org/entity/Q107718305')]\n",
      "[('pName', 'sport'), ('oName', 'sailing'), ('p', 'http://www.wikidata.org/prop/direct/P641'), ('o', 'http://www.wikidata.org/entity/Q14085739')]\n",
      "[('pName', 'instance of'), ('oName', 'Wikimedia list article'), ('p', 'http://www.wikidata.org/prop/direct/P31'), ('o', 'http://www.wikidata.org/entity/Q13406463')]\n",
      "[('pName', 'is a list of'), ('oName', \"men's world record\"), ('p', 'http://www.wikidata.org/prop/direct/P360'), ('o', 'http://www.wikidata.org/entity/Q24033834')]\n",
      "[('pName', 'has part'), ('oName', \"Women's 800 metres world record progression\"), ('p', 'http://www.wikidata.org/prop/direct/P527'), ('o', 'http://www.wikidata.org/entity/Q2757357')]\n",
      "[('pName', 'has part'), ('oName', \"Men's 800 metres world record progression\"), ('p', 'http://www.wikidata.org/prop/direct/P527'), ('o', 'http://www.wikidata.org/entity/Q67173303')]\n",
      "[('pName', 'Freebase ID'), ('p', 'http://www.wikidata.org/prop/direct/P646'), ('o', '/m/0118kb3k')]\n",
      "[('pName', 'Freebase ID'), ('p', 'http://www.wikidata.org/prop/direct/P646'), ('o', '/m/0119y22_')]\n",
      "[('pName', 'Google Knowledge Graph ID'), ('p', 'http://www.wikidata.org/prop/direct/P2671'), ('o', '/g/11bc674xth')]\n",
      "[('pName', 'Freebase ID'), ('p', 'http://www.wikidata.org/prop/direct/P646'), ('o', '/m/0119s0p1')]\n",
      "[('pName', 'Freebase ID'), ('p', 'http://www.wikidata.org/prop/direct/P646'), ('o', '/m/011bc8b3')]\n",
      "[('pName', 'Freebase ID'), ('p', 'http://www.wikidata.org/prop/direct/P646'), ('o', '/m/0_ftmf_')]\n",
      "[('p', 'http://www.w3.org/1999/02/22-rdf-syntax-ns#type'), ('o', 'http://wikiba.se/ontology#Item')]\n",
      "[('p', 'http://schema.org/name'), ('o', 'decathlon world record progression')]\n",
      "[('p', 'http://www.wikidata.org/prop/direct-normalized/P646'), ('o', 'http://g.co/kg/m/0118kb3k')]\n",
      "[('p', 'http://schema.org/name'), ('o', \"Men's 400 metres hurdles world record progression\")]\n",
      "[('p', 'http://schema.org/name'), ('o', \"Women's heptathlon world record progression\")]\n",
      "[('p', 'http://www.wikidata.org/prop/direct-normalized/P646'), ('o', 'http://g.co/kg/m/0119y22_')]\n",
      "[('p', 'http://schema.org/name'), ('o', '1500 metres world record progression')]\n",
      "[('p', 'http://www.wikidata.org/prop/direct-normalized/P2671'), ('o', 'http://g.co/kg/g/11bc674xth')]\n",
      "[('p', 'http://schema.org/name'), ('o', \"men's 100 metres world record\")]\n",
      "[('p', 'http://www.wikidata.org/prop/direct-normalized/P646'), ('o', 'http://g.co/kg/m/0119s0p1')]\n",
      "[('p', 'http://schema.org/name'), ('o', \"Men's 4 x 400 metres relay world record progression\")]\n",
      "[('p', 'http://schema.org/name'), ('o', 'Marseilles to Carthage')]\n",
      "[('p', 'http://schema.org/name'), ('o', 'Cowes to Dinard')]\n",
      "[('p', 'http://www.wikidata.org/prop/direct-normalized/P646'), ('o', 'http://g.co/kg/m/011bc8b3')]\n",
      "[('p', 'http://schema.org/name'), ('o', \"Men's 400 metres world record progression\")]\n",
      "[('p', 'http://schema.org/name'), ('o', '800 metres world record progression')]\n",
      "[('p', 'http://www.wikidata.org/prop/direct-normalized/P646'), ('o', 'http://g.co/kg/m/0_ftmf_')]\n",
      "[('p', 'http://schema.org/name'), ('o', '3000 metres steeplechase world record progression')]\n"
     ]
    },
    {
     "data": {
      "text/plain": [
       "35"
      ]
     },
     "execution_count": 17,
     "metadata": {},
     "output_type": "execute_result"
    }
   ],
   "source": [
    "queryString = \"\"\"\n",
    "SELECT DISTINCT ?pName ?oName ?p ?o\n",
    "WHERE { \n",
    " \n",
    "    ?person wdt:P1000 ?record ;     # record held\n",
    "           wdt:P31 wd:Q5 .\n",
    "    OPTIONAL {?person sc:name ?personName .}\n",
    "    \n",
    "    ?record wdt:P31 wd:Q688615 ;\n",
    "            ?p ?o .\n",
    "    OPTIONAL { ?p sc:name ?pName .}\n",
    "    OPTIONAL { ?o sc:name ?oName .} \n",
    "    OPTIONAL{ ?record sc:name ?recordName . } \n",
    " \n",
    "}\n",
    "\n",
    "\"\"\"\n",
    "\n",
    "print(\"Results\")\n",
    "run_query(queryString)"
   ]
  },
  {
   "cell_type": "markdown",
   "id": "a7398d9b-69f2-498c-8ea1-f50908ee7802",
   "metadata": {},
   "source": [
    "### Search if a record has part in a event"
   ]
  },
  {
   "cell_type": "code",
   "execution_count": 18,
   "id": "24636529-2eaa-486f-9e50-a23b4f8d4150",
   "metadata": {},
   "outputs": [
    {
     "name": "stdout",
     "output_type": "stream",
     "text": [
      "Results\n",
      "[('personName', 'Ted Meredith'), ('recordName', '800 metres world record progression'), ('eventName', \"Women's 800 metres world record progression\")]\n",
      "[('personName', 'Ted Meredith'), ('recordName', '800 metres world record progression'), ('eventName', \"Men's 800 metres world record progression\")]\n"
     ]
    },
    {
     "data": {
      "text/plain": [
       "2"
      ]
     },
     "execution_count": 18,
     "metadata": {},
     "output_type": "execute_result"
    }
   ],
   "source": [
    "queryString = \"\"\"\n",
    "SELECT DISTINCT ?personName ?recordName ?eventName\n",
    "WHERE { \n",
    " \n",
    "    ?person wdt:P1000 ?record ;     # record held\n",
    "           wdt:P31 wd:Q5 .\n",
    "    OPTIONAL {?person sc:name ?personName .}\n",
    "    \n",
    "    ?record wdt:P31 wd:Q688615 ;\n",
    "            wdt:P527 ?event .       # has part\n",
    "    OPTIONAl{ ?event sc:name ?eventName . }\n",
    "    OPTIONAL{ ?record sc:name ?recordName . } \n",
    " \n",
    "}\n",
    "\n",
    "\"\"\"\n",
    "\n",
    "print(\"Results\")\n",
    "run_query(queryString)"
   ]
  },
  {
   "cell_type": "markdown",
   "id": "385eef69-d061-41be-883a-bee4c2a7c128",
   "metadata": {},
   "source": [
    "### Search a relation with  sports competitions"
   ]
  },
  {
   "cell_type": "code",
   "execution_count": 19,
   "id": "bf1d0e0d-2a29-4649-8e05-e1c738e23d60",
   "metadata": {},
   "outputs": [
    {
     "name": "stdout",
     "output_type": "stream",
     "text": [
      "Results\n",
      "Empty\n"
     ]
    },
    {
     "data": {
      "text/plain": [
       "0"
      ]
     },
     "execution_count": 19,
     "metadata": {},
     "output_type": "execute_result"
    }
   ],
   "source": [
    "queryString = \"\"\"\n",
    "SELECT DISTINCT ?personName ?recordName ?eventName\n",
    "WHERE { \n",
    " \n",
    "    ?person wdt:P1000 ?record ;     # record held\n",
    "           wdt:P31 wd:Q5 .\n",
    "    OPTIONAL {?person sc:name ?personName .}\n",
    "    \n",
    "    ?record wdt:P31 wd:Q688615 ;\n",
    "            wdt:P527 ?event .      # has part\n",
    "    ?event wdt:P31|wdt:P279* wd:Q13406554 .  # event instance of or subclass of sport event\n",
    "    OPTIONAl{ ?event sc:name ?eventName . }\n",
    "    OPTIONAL{ ?record sc:name ?recordName . } \n",
    " \n",
    "}\n",
    "\n",
    "\"\"\"\n",
    "\n",
    "print(\"Results\")\n",
    "run_query(queryString)"
   ]
  },
  {
   "cell_type": "markdown",
   "id": "6ac48af9-dcca-4fb4-8b8f-a1743a816812",
   "metadata": {},
   "source": [
    "### Try to see objects and predicates associated with the event"
   ]
  },
  {
   "cell_type": "code",
   "execution_count": 20,
   "id": "254d3cbe-4643-4381-b48c-d4c2edc28a98",
   "metadata": {},
   "outputs": [
    {
     "name": "stdout",
     "output_type": "stream",
     "text": [
      "Results\n",
      "[('pName', 'instance of'), ('oName', 'Wikimedia list article'), ('p', 'http://www.wikidata.org/prop/direct/P31'), ('o', 'http://www.wikidata.org/entity/Q13406463')]\n",
      "[('pName', 'is a list of'), ('oName', \"women's world record\"), ('p', 'http://www.wikidata.org/prop/direct/P360'), ('o', 'http://www.wikidata.org/entity/Q24033838')]\n",
      "[('p', 'http://www.w3.org/1999/02/22-rdf-syntax-ns#type'), ('o', 'http://wikiba.se/ontology#Item')]\n",
      "[('p', 'http://schema.org/name'), ('o', \"Men's 800 metres world record progression\")]\n",
      "[('p', 'http://schema.org/name'), ('o', \"Women's 800 metres world record progression\")]\n"
     ]
    },
    {
     "data": {
      "text/plain": [
       "5"
      ]
     },
     "execution_count": 20,
     "metadata": {},
     "output_type": "execute_result"
    }
   ],
   "source": [
    "queryString = \"\"\"\n",
    "SELECT DISTINCT ?pName ?oName ?p ?o\n",
    "WHERE { \n",
    " \n",
    "    ?person wdt:P1000 ?record ;     # record held\n",
    "           wdt:P31 wd:Q5 .\n",
    "    OPTIONAL {?person sc:name ?personName .}\n",
    "    \n",
    "    ?record wdt:P31 wd:Q688615 ;\n",
    "            wdt:P527 ?event .       # has part\n",
    "    ?event ?p ?o .\n",
    "    OPTIONAl{ ?p sc:name ?pName . }\n",
    "    OPTIONAL{ ?o sc:name ?oName . } \n",
    " \n",
    "}\n",
    "\n",
    "\"\"\"\n",
    "\n",
    "print(\"Results\")\n",
    "run_query(queryString)"
   ]
  },
  {
   "cell_type": "markdown",
   "id": "1fa5454f-cf15-4a0e-bfc8-daab67718a64",
   "metadata": {},
   "source": [
    "### Search event related to a person"
   ]
  },
  {
   "cell_type": "code",
   "execution_count": 21,
   "id": "f77f2c00-ed2e-41e4-8ccf-b030239c1fea",
   "metadata": {},
   "outputs": [
    {
     "name": "stdout",
     "output_type": "stream",
     "text": [
      "Results\n",
      "[('eventName', 'lighting the Olympic cauldron')]\n",
      "[('eventName', 'male-to-female sex reassignment surgery')]\n"
     ]
    },
    {
     "data": {
      "text/plain": [
       "2"
      ]
     },
     "execution_count": 21,
     "metadata": {},
     "output_type": "execute_result"
    }
   ],
   "source": [
    "queryString = \"\"\"\n",
    "SELECT DISTINCT ?eventName\n",
    "WHERE { \n",
    " \n",
    "    ?person wdt:P1000 ?record ;     # record held\n",
    "           wdt:P31 wd:Q5 ;\n",
    "           wdt:P793 ?event .\n",
    "    OPTIONAL {?person sc:name ?personName .}\n",
    "    OPTIONAL {?event sc:name ?eventName .}\n",
    "    \n",
    "    ?record wdt:P31 wd:Q688615 .\n",
    "}\n",
    "\n",
    "\"\"\"\n",
    "\n",
    "print(\"Results\")\n",
    "run_query(queryString)"
   ]
  },
  {
   "cell_type": "markdown",
   "id": "d9440cf9",
   "metadata": {},
   "source": [
    "### Retrieve in which event the records were done"
   ]
  },
  {
   "cell_type": "code",
   "execution_count": 22,
   "id": "2780f302",
   "metadata": {},
   "outputs": [
    {
     "name": "stdout",
     "output_type": "stream",
     "text": [
      "Results\n",
      "[('personName', 'Rafer Johnson'), ('eventName', 'lighting the Olympic cauldron'), ('records', 'decathlon world record progression')]\n",
      "[('personName', 'Caitlyn Jenner'), ('eventName', 'male-to-female sex reassignment surgery'), ('records', 'decathlon world record progression')]\n",
      "[('personName', 'Usain Bolt'), ('eventName', '2012 Summer Olympics'), ('records', \"Men's 100 metres world record progression, Men's 4 × 100 metres relay world record progression, men's 200 metres world record progression\")]\n"
     ]
    },
    {
     "data": {
      "text/plain": [
       "3"
      ]
     },
     "execution_count": 22,
     "metadata": {},
     "output_type": "execute_result"
    }
   ],
   "source": [
    "queryString = \"\"\"\n",
    "SELECT DISTINCT ?personName ?eventName (GROUP_CONCAT(DISTINCT ?recordName; SEPARATOR=\", \") AS ?records)\n",
    "WHERE { \n",
    " \n",
    "    ?person wdt:P1000 ?record ;     # record held\n",
    "           wdt:P31 wd:Q5 ;\n",
    "           wdt:P793 ?event ;\n",
    "           sc:name ?personName .\n",
    "    \n",
    "    ?event sc:name ?eventName .\n",
    "    \n",
    "    OPTIONAL{ ?record sc:name ?recordName . }\n",
    "\n",
    "} GROUP BY ?personName ?eventName\n",
    "LIMIT 15\n",
    "\n",
    "\"\"\"\n",
    "\n",
    "print(\"Results\")\n",
    "run_query(queryString)"
   ]
  },
  {
   "cell_type": "markdown",
   "id": "46f25e8b",
   "metadata": {},
   "source": [
    "### Retrieve information about event"
   ]
  },
  {
   "cell_type": "code",
   "execution_count": 23,
   "id": "69bd83e2",
   "metadata": {},
   "outputs": [
    {
     "name": "stdout",
     "output_type": "stream",
     "text": [
      "Results\n",
      "[('pName', 'has effect'), ('oName', 'neovagina'), ('p', 'http://www.wikidata.org/prop/direct/P1542'), ('o', 'http://www.wikidata.org/entity/Q10336336')]\n",
      "[('pName', 'follows'), ('oName', '2008 Summer Olympics'), ('p', 'http://www.wikidata.org/prop/direct/P155'), ('o', 'http://www.wikidata.org/entity/Q8567')]\n",
      "[('pName', 'followed by'), ('oName', '2016 Summer Olympics'), ('p', 'http://www.wikidata.org/prop/direct/P156'), ('o', 'http://www.wikidata.org/entity/Q8613')]\n",
      "[('pName', 'country'), ('oName', 'United Kingdom'), ('p', 'http://www.wikidata.org/prop/direct/P17'), ('o', 'http://www.wikidata.org/entity/Q145')]\n",
      "[('pName', 'uses'), ('oName', 'Olympic torch'), ('p', 'http://www.wikidata.org/prop/direct/P2283'), ('o', 'http://www.wikidata.org/entity/Q15056334')]\n",
      "[('pName', 'uses'), ('oName', 'Olympic cauldron'), ('p', 'http://www.wikidata.org/prop/direct/P2283'), ('o', 'http://www.wikidata.org/entity/Q3643463')]\n",
      "[('pName', 'has parts of the class'), ('oName', 'Olympic sporting event'), ('p', 'http://www.wikidata.org/prop/direct/P2670'), ('o', 'http://www.wikidata.org/entity/Q18536594')]\n",
      "[('pName', 'location'), ('oName', 'London'), ('p', 'http://www.wikidata.org/prop/direct/P276'), ('o', 'http://www.wikidata.org/entity/Q84')]\n",
      "[('pName', 'subclass of'), ('oName', 'occurrence'), ('p', 'http://www.wikidata.org/prop/direct/P279'), ('o', 'http://www.wikidata.org/entity/Q1190554')]\n",
      "[('pName', 'subclass of'), ('oName', 'Olympic Games ceremony'), ('p', 'http://www.wikidata.org/prop/direct/P279'), ('o', 'http://www.wikidata.org/entity/Q3010392')]\n",
      "[('pName', 'subclass of'), ('oName', 'sex reassignment surgery'), ('p', 'http://www.wikidata.org/prop/direct/P279'), ('o', 'http://www.wikidata.org/entity/Q1053501')]\n",
      "[('pName', 'subclass of'), ('oName', 'feminization'), ('p', 'http://www.wikidata.org/prop/direct/P279'), ('o', 'http://www.wikidata.org/entity/Q5442904')]\n",
      "[('pName', 'instance of'), ('oName', 'occurrence'), ('p', 'http://www.wikidata.org/prop/direct/P31'), ('o', 'http://www.wikidata.org/entity/Q1190554')]\n",
      "[('pName', 'instance of'), ('oName', 'Summer Olympic Games'), ('p', 'http://www.wikidata.org/prop/direct/P31'), ('o', 'http://www.wikidata.org/entity/Q159821')]\n",
      "[('pName', 'part of'), ('oName', 'Olympic torch relay'), ('p', 'http://www.wikidata.org/prop/direct/P361'), ('o', 'http://www.wikidata.org/entity/Q9352238')]\n",
      "[('pName', 'opposite of'), ('oName', 'female-to-male sex reassignment surgery'), ('p', 'http://www.wikidata.org/prop/direct/P461'), ('o', 'http://www.wikidata.org/entity/Q7458532')]\n",
      "[('pName', 'has part'), ('oName', 'trampoline gymnastics at the 2012 Summer Olympics'), ('p', 'http://www.wikidata.org/prop/direct/P527'), ('o', 'http://www.wikidata.org/entity/Q1077946')]\n",
      "[('pName', 'has part'), ('oName', 'artistic gymnastics at the 2012 Summer Olympics'), ('p', 'http://www.wikidata.org/prop/direct/P527'), ('o', 'http://www.wikidata.org/entity/Q15974904')]\n",
      "[('pName', 'has part'), ('oName', 'athletics at the 2012 Summer Olympics'), ('p', 'http://www.wikidata.org/prop/direct/P527'), ('o', 'http://www.wikidata.org/entity/Q185262')]\n",
      "[('pName', 'has part'), ('oName', 'beach volleyball at the 2012 Summer Olympics'), ('p', 'http://www.wikidata.org/prop/direct/P527'), ('o', 'http://www.wikidata.org/entity/Q1860302')]\n",
      "[('pName', 'has part'), ('oName', 'football at the 2012 Summer Olympics'), ('p', 'http://www.wikidata.org/prop/direct/P527'), ('o', 'http://www.wikidata.org/entity/Q189959')]\n",
      "[('pName', 'has part'), ('oName', 'weightlifting at the 2012 Summer Olympics'), ('p', 'http://www.wikidata.org/prop/direct/P527'), ('o', 'http://www.wikidata.org/entity/Q190233')]\n",
      "[('pName', 'has part'), ('oName', 'wrestling at the 2012 Summer Olympics'), ('p', 'http://www.wikidata.org/prop/direct/P527'), ('o', 'http://www.wikidata.org/entity/Q193341')]\n",
      "[('pName', 'has part'), ('oName', 'field hockey at the 2012 Summer Olympics'), ('p', 'http://www.wikidata.org/prop/direct/P527'), ('o', 'http://www.wikidata.org/entity/Q193352')]\n",
      "[('pName', 'has part'), ('oName', 'swimming at the 2012 Summer Olympics'), ('p', 'http://www.wikidata.org/prop/direct/P527'), ('o', 'http://www.wikidata.org/entity/Q193735')]\n",
      "[('pName', 'has part'), ('oName', 'badminton at the 2012 Summer Olympics'), ('p', 'http://www.wikidata.org/prop/direct/P527'), ('o', 'http://www.wikidata.org/entity/Q193795')]\n",
      "[('pName', 'has part'), ('oName', 'basketball at the 2012 Summer Olympics'), ('p', 'http://www.wikidata.org/prop/direct/P527'), ('o', 'http://www.wikidata.org/entity/Q194209')]\n",
      "[('pName', 'has part'), ('oName', 'rhythmic gymnastics at the 2012 Summer Olympics'), ('p', 'http://www.wikidata.org/prop/direct/P527'), ('o', 'http://www.wikidata.org/entity/Q2022485')]\n",
      "[('pName', 'has part'), ('oName', 'cycling at the 2012 Summer Olympics'), ('p', 'http://www.wikidata.org/prop/direct/P527'), ('o', 'http://www.wikidata.org/entity/Q208655')]\n",
      "[('pName', 'has part'), ('oName', 'volleyball at the 2012 Summer Olympics'), ('p', 'http://www.wikidata.org/prop/direct/P527'), ('o', 'http://www.wikidata.org/entity/Q209112')]\n"
     ]
    },
    {
     "data": {
      "text/plain": [
       "30"
      ]
     },
     "execution_count": 23,
     "metadata": {},
     "output_type": "execute_result"
    }
   ],
   "source": [
    "queryString = \"\"\"\n",
    "SELECT DISTINCT ?pName ?oName ?p ?o\n",
    "WHERE { \n",
    " \n",
    "    ?person wdt:P1000 ?record ;     # record held\n",
    "           wdt:P31 wd:Q5 ;\n",
    "           wdt:P793 ?event ;\n",
    "           sc:name ?personName .\n",
    "    \n",
    "    ?event sc:name ?eventName ;\n",
    "        ?p ?o .\n",
    "    ?p sc:name ?pName .\n",
    "    ?o sc:name ?oName .\n",
    "\n",
    "} LIMIT 30\n",
    "\n",
    "\n",
    "\"\"\"\n",
    "\n",
    "print(\"Results\")\n",
    "run_query(queryString)"
   ]
  },
  {
   "cell_type": "markdown",
   "id": "f6e1be2f",
   "metadata": {},
   "source": [
    "### Connect information about events and world record"
   ]
  },
  {
   "cell_type": "code",
   "execution_count": 24,
   "id": "15f54423",
   "metadata": {},
   "outputs": [
    {
     "name": "stdout",
     "output_type": "stream",
     "text": [
      "Results\n",
      "[('recordName', \"Men's 4 × 100 metres relay world record progression\"), ('partOf', 'Olympic sporting event')]\n",
      "[('recordName', \"Men's 100 metres world record progression\"), ('partOf', 'Olympic sporting event')]\n",
      "[('recordName', \"men's 200 metres world record progression\"), ('partOf', 'Olympic sporting event')]\n"
     ]
    },
    {
     "data": {
      "text/plain": [
       "3"
      ]
     },
     "execution_count": 24,
     "metadata": {},
     "output_type": "execute_result"
    }
   ],
   "source": [
    "queryString = \"\"\"\n",
    "SELECT ?recordName ?partOf\n",
    "WHERE { \n",
    " \n",
    "    ?person wdt:P1000 ?record ;     # record held\n",
    "           wdt:P31 wd:Q5 ;\n",
    "           wdt:P793 ?event .\n",
    "    \n",
    "    OPTIONAL{ ?event wdt:P2670 ?isPartOf .}\n",
    "    ?isPartOf sc:name ?partOf .\n",
    "    \n",
    "    OPTIONAL{ ?record sc:name ?recordName . }\n",
    "\n",
    "}\n",
    "LIMIT 30\n",
    "\n",
    "\"\"\"\n",
    "\n",
    "print(\"Results\")\n",
    "run_query(queryString)"
   ]
  },
  {
   "cell_type": "markdown",
   "id": "2f2496f1",
   "metadata": {},
   "source": [
    "### Result part 2\n",
    "As we can see from the last query there is a way to connect the world records to the event where they are conquered.\n",
    "\n",
    "The strange thing is that there are only 3 results, this can be probably related to the data present in our database."
   ]
  },
  {
   "cell_type": "markdown",
   "id": "c060d3f9-5442-4963-97ba-5effdcf57d2f",
   "metadata": {},
   "source": [
    "## Part 3\n",
    "### How many world records are held by Italian athletes"
   ]
  },
  {
   "cell_type": "markdown",
   "id": "818d30d9-10bf-4884-b7aa-d41cf19339e8",
   "metadata": {},
   "source": [
    "### Search country predicate "
   ]
  },
  {
   "cell_type": "code",
   "execution_count": 25,
   "id": "4e6709aa-de39-469a-a634-8290e9fa017f",
   "metadata": {},
   "outputs": [
    {
     "name": "stdout",
     "output_type": "stream",
     "text": [
      "Results\n",
      "[('sName', 'Jamaica at the 2014 Winter Olympics'), ('pName', 'country'), ('s', 'http://www.wikidata.org/entity/Q15487664'), ('p', 'http://www.wikidata.org/prop/direct/P17')]\n",
      "[('sName', 'Falmouth'), ('pName', 'country'), ('s', 'http://www.wikidata.org/entity/Q1394786'), ('p', 'http://www.wikidata.org/prop/direct/P17')]\n",
      "[('sName', 'French Jamaican'), ('pName', 'country'), ('s', 'http://www.wikidata.org/entity/Q16201967'), ('p', 'http://www.wikidata.org/prop/direct/P17')]\n",
      "[('sName', 'Irish people in Jamaica'), ('pName', 'country'), ('s', 'http://www.wikidata.org/entity/Q16202231'), ('p', 'http://www.wikidata.org/prop/direct/P17')]\n",
      "[('sName', 'Jamaicans'), ('pName', 'located in the administrative territorial entity'), ('s', 'http://www.wikidata.org/entity/Q6127469'), ('p', 'http://www.wikidata.org/prop/direct/P131')]\n",
      "[('sName', 'Jamaicans'), ('pName', 'named after'), ('s', 'http://www.wikidata.org/entity/Q6127469'), ('p', 'http://www.wikidata.org/prop/direct/P138')]\n",
      "[('sName', 'Jamaicans'), ('pName', 'country'), ('s', 'http://www.wikidata.org/entity/Q6127469'), ('p', 'http://www.wikidata.org/prop/direct/P17')]\n",
      "[('sName', 'Jamaica Broadcasting Corporation'), ('pName', 'country'), ('s', 'http://www.wikidata.org/entity/Q17074162'), ('p', 'http://www.wikidata.org/prop/direct/P17')]\n",
      "[('sName', 'Franklin Town'), ('pName', 'country'), ('s', 'http://www.wikidata.org/entity/Q15218405'), ('p', 'http://www.wikidata.org/prop/direct/P17')]\n",
      "[('sName', 'Branson School of Entrepreneurship'), ('pName', 'country'), ('s', 'http://www.wikidata.org/entity/Q17511783'), ('p', 'http://www.wikidata.org/prop/direct/P17')]\n",
      "[('sName', 'Buff Bay, Jamaica'), ('pName', 'country'), ('s', 'http://www.wikidata.org/entity/Q1001895'), ('p', 'http://www.wikidata.org/prop/direct/P17')]\n",
      "[('sName', '2014–15 National Premier League'), ('pName', 'country'), ('s', 'http://www.wikidata.org/entity/Q18161137'), ('p', 'http://www.wikidata.org/prop/direct/P17')]\n",
      "[('sName', 'Arnett Gardens F.C.'), ('pName', 'country'), ('s', 'http://www.wikidata.org/entity/Q2180767'), ('p', 'http://www.wikidata.org/prop/direct/P17')]\n",
      "[('sName', 'Savacou'), ('pName', 'country'), ('s', 'http://www.wikidata.org/entity/Q21979792'), ('p', 'http://www.wikidata.org/prop/direct/P17')]\n",
      "[('sName', 'University of the West Indies - Mona Campus'), ('pName', 'country'), ('s', 'http://www.wikidata.org/entity/Q33527385'), ('p', 'http://www.wikidata.org/prop/direct/P17')]\n",
      "[('sName', 'Elaine Thompson-Herah'), ('pName', 'country for sport'), ('s', 'http://www.wikidata.org/entity/Q20035636'), ('p', 'http://www.wikidata.org/prop/direct/P1532')]\n",
      "[('sName', 'Shashalee Forbes'), ('pName', 'country for sport'), ('s', 'http://www.wikidata.org/entity/Q26422237'), ('p', 'http://www.wikidata.org/prop/direct/P1532')]\n",
      "[('sName', 'Stony Valley River'), ('pName', 'country'), ('s', 'http://www.wikidata.org/entity/Q35403137'), ('p', 'http://www.wikidata.org/prop/direct/P17')]\n",
      "[('sName', 'Straws River'), ('pName', 'country'), ('s', 'http://www.wikidata.org/entity/Q35423119'), ('p', 'http://www.wikidata.org/prop/direct/P17')]\n",
      "[('sName', 'Order of Distinction'), ('pName', 'country'), ('s', 'http://www.wikidata.org/entity/Q1873505'), ('p', 'http://www.wikidata.org/prop/direct/P17')]\n",
      "[('sName', 'Taíno people'), ('pName', 'country'), ('s', 'http://www.wikidata.org/entity/Q210623'), ('p', 'http://www.wikidata.org/prop/direct/P17')]\n",
      "[('sName', 'Trevor Berbick'), ('pName', 'country for sport'), ('s', 'http://www.wikidata.org/entity/Q447609'), ('p', 'http://www.wikidata.org/prop/direct/P1532')]\n",
      "[('sName', 'Studio One'), ('pName', 'headquarters location'), ('s', 'http://www.wikidata.org/entity/Q568367'), ('p', 'http://www.wikidata.org/prop/direct/P159')]\n",
      "[('sName', 'Studio One'), ('pName', 'country'), ('s', 'http://www.wikidata.org/entity/Q568367'), ('p', 'http://www.wikidata.org/prop/direct/P17')]\n",
      "[('sName', 'athletics at the 1966 British Empire and Commonwealth Games'), ('pName', 'country'), ('s', 'http://www.wikidata.org/entity/Q2869154'), ('p', 'http://www.wikidata.org/prop/direct/P17')]\n"
     ]
    },
    {
     "data": {
      "text/plain": [
       "25"
      ]
     },
     "execution_count": 25,
     "metadata": {},
     "output_type": "execute_result"
    }
   ],
   "source": [
    "queryString = \"\"\"\n",
    "SELECT ?sName ?pName ?s ?p\n",
    "WHERE {\n",
    "    ?s ?p wd:Q766 .\n",
    "    OPTIONAL { ?s sc:name ?sName . }\n",
    "    OPTIONAL { ?p sc:name ?pName . }\n",
    "} \n",
    "LIMIT 25\n",
    "\n",
    "\"\"\"\n",
    "\n",
    "print(\"Results\")\n",
    "run_query(queryString)"
   ]
  },
  {
   "cell_type": "markdown",
   "id": "6917ed4e-5abc-4f7d-a05a-6d5088be1c9f",
   "metadata": {},
   "source": [
    "### Find Italy URI"
   ]
  },
  {
   "cell_type": "code",
   "execution_count": 26,
   "id": "f178dea5-737d-4c7d-822d-0fa16d664f4a",
   "metadata": {},
   "outputs": [
    {
     "name": "stdout",
     "output_type": "stream",
     "text": [
      "Results\n",
      "[('italy', 'http://www.wikidata.org/entity/Q913582'), ('name', 'Roman Italy')]\n",
      "[('italy', 'http://www.wikidata.org/entity/Q4345530'), ('name', 'Northern Italy')]\n",
      "[('italy', 'http://www.wikidata.org/entity/Q223936'), ('name', 'Kingdom of Italy')]\n",
      "[('italy', 'http://www.wikidata.org/entity/Q172579'), ('name', 'Kingdom of Italy')]\n",
      "[('italy', 'http://www.wikidata.org/entity/Q38'), ('name', 'Italy')]\n",
      "[('italy', 'http://www.wikidata.org/entity/Q838931'), ('name', 'Kingdom of Italy')]\n",
      "[('italy', 'http://www.wikidata.org/entity/Q3155864'), ('name', 'Geographical region of Italy')]\n",
      "[('italy', 'http://www.wikidata.org/entity/Q2480041'), ('name', 'Italy in the Middle Ages')]\n",
      "[('italy', 'http://www.wikidata.org/entity/Q48742118'), ('name', 'Kingdom of Italy under Fascism')]\n",
      "[('italy', 'http://www.wikidata.org/entity/Q5343710'), ('name', 'Kingdom of Italy')]\n"
     ]
    },
    {
     "data": {
      "text/plain": [
       "10"
      ]
     },
     "execution_count": 26,
     "metadata": {},
     "output_type": "execute_result"
    }
   ],
   "source": [
    "queryString = \"\"\"\n",
    "SELECT DISTINCT ?italy ?name\n",
    "WHERE {\n",
    "    ?s wdt:P17 ?italy .\n",
    "    ?italy sc:name ?name .\n",
    "    FILTER regex(?name,\"[Ii]taly\")\n",
    "} \n",
    "\n",
    "\"\"\"\n",
    "\n",
    "print(\"Results\")\n",
    "run_query(queryString)"
   ]
  },
  {
   "cell_type": "markdown",
   "id": "1d2bebaf-2774-4974-9af0-86731da88646",
   "metadata": {},
   "source": [
    "### Identify data about italian athletes"
   ]
  },
  {
   "cell_type": "code",
   "execution_count": 27,
   "id": "baf29bad-0723-4614-9fad-bb2a5304e912",
   "metadata": {},
   "outputs": [
    {
     "name": "stdout",
     "output_type": "stream",
     "text": [
      "Results\n",
      "[('aName', 'Cristina Tartarone'), ('a', 'http://www.wikidata.org/entity/Q96754211')]\n",
      "[('aName', 'Barbara Masi'), ('a', 'http://www.wikidata.org/entity/Q16531085')]\n",
      "[('aName', 'Manuela Manetta'), ('a', 'http://www.wikidata.org/entity/Q3845091')]\n",
      "[('aName', 'Andrea Capella'), ('a', 'http://www.wikidata.org/entity/Q80350481')]\n",
      "[('aName', 'Davide Bianchetti'), ('a', 'http://www.wikidata.org/entity/Q3703498')]\n"
     ]
    },
    {
     "data": {
      "text/plain": [
       "5"
      ]
     },
     "execution_count": 27,
     "metadata": {},
     "output_type": "execute_result"
    }
   ],
   "source": [
    "queryString = \"\"\"\n",
    "SELECT ?aName ?a\n",
    "WHERE {\n",
    "    ?a wdt:P106/wdt:P279 wd:Q2066131 ;\n",
    "        wdt:P27 wd:Q38 ; #italy\n",
    "        sc:name ?aName .\n",
    "} LIMIT 5\n",
    "\n",
    "\"\"\"\n",
    "\n",
    "print(\"Results\")\n",
    "run_query(queryString)"
   ]
  },
  {
   "cell_type": "markdown",
   "id": "1a41cbf9-a3d2-48dd-b04b-b686e32a9e12",
   "metadata": {},
   "source": [
    "### Search athletes who held a world record"
   ]
  },
  {
   "cell_type": "code",
   "execution_count": 28,
   "id": "580419b1-9b1b-42c7-b4be-637ef2026ace",
   "metadata": {},
   "outputs": [
    {
     "name": "stdout",
     "output_type": "stream",
     "text": [
      "Results\n",
      "[('aName', 'Sara Simeoni'), ('records', \"Men's high jump world record progression\")]\n",
      "[('aName', 'Salvatore Morale'), ('records', \"Men's 400 metres hurdles world record progression\")]\n"
     ]
    },
    {
     "data": {
      "text/plain": [
       "2"
      ]
     },
     "execution_count": 28,
     "metadata": {},
     "output_type": "execute_result"
    }
   ],
   "source": [
    "queryString = \"\"\"\n",
    "SELECT ?aName (GROUP_CONCAT(DISTINCT ?recordName; SEPARATOR=\", \") AS ?records)\n",
    "WHERE {\n",
    "    ?a wdt:P106/wdt:P279 wd:Q2066131 ;\n",
    "        wdt:P27 wd:Q38 ; #italy\n",
    "        wdt:P1000 ?record ; \n",
    "        sc:name ?aName .\n",
    "    ?record sc:name ?recordName ;\n",
    "            ?is wd:Q688615 .\n",
    "            \n",
    "} LIMIT 10\n",
    "\n",
    "\"\"\"\n",
    "\n",
    "print(\"Results\")\n",
    "run_query(queryString)"
   ]
  },
  {
   "cell_type": "markdown",
   "id": "1b3d92e0-619b-44fc-bf0b-ed7ec4c69f00",
   "metadata": {},
   "source": [
    "### Count athletes who held a world record"
   ]
  },
  {
   "cell_type": "code",
   "execution_count": 29,
   "id": "aaa7ec89-b208-482a-98cf-521815132fb9",
   "metadata": {},
   "outputs": [
    {
     "name": "stdout",
     "output_type": "stream",
     "text": [
      "Results\n",
      "[('howMany', '2')]\n"
     ]
    },
    {
     "data": {
      "text/plain": [
       "1"
      ]
     },
     "execution_count": 29,
     "metadata": {},
     "output_type": "execute_result"
    }
   ],
   "source": [
    "queryString = \"\"\"\n",
    "SELECT (COUNT(DISTINCT ?record) AS ?howMany)\n",
    "WHERE {\n",
    "    ?a wdt:P106/wdt:P279 wd:Q2066131 ;\n",
    "        wdt:P27 wd:Q38 ; #italy\n",
    "        wdt:P1000 ?record .\n",
    "        \n",
    "    ?record ?is wd:Q688615 .\n",
    "            \n",
    "} \n",
    "\n",
    "\"\"\"\n",
    "\n",
    "print(\"Results\")\n",
    "run_query(queryString)"
   ]
  },
  {
   "cell_type": "markdown",
   "id": "cc98e382-7071-4128-a48c-1f2e2c39c57a",
   "metadata": {},
   "source": [
    "### Results part 3\n",
    "We can conclude that 2 records are hold. We can also see in the previous query in which categories are and the name of the athlete who helds the record."
   ]
  },
  {
   "cell_type": "markdown",
   "id": "22636cf1-2383-4525-bd5f-a73cec3a0b73",
   "metadata": {},
   "source": [
    "## Part 4\n",
    "Compare number of world records held across different dimensions"
   ]
  },
  {
   "cell_type": "markdown",
   "id": "6a24810c-17c2-466d-bbe5-ade060354279",
   "metadata": {},
   "source": [
    "### Part 4.1 In which specific sport France has the most world records"
   ]
  },
  {
   "cell_type": "markdown",
   "id": "1117f36b-c954-47b3-842d-807ad4ad31b3",
   "metadata": {},
   "source": [
    "### Find France URI"
   ]
  },
  {
   "cell_type": "code",
   "execution_count": 30,
   "id": "c6cafe8f-5144-4d4c-b10b-512e0b4ae77f",
   "metadata": {
    "tags": []
   },
   "outputs": [
    {
     "name": "stdout",
     "output_type": "stream",
     "text": [
      "Results\n",
      "[('france', 'http://www.wikidata.org/entity/Q3088906'), ('name', 'France–United Kingdom border')]\n",
      "[('france', 'http://www.wikidata.org/entity/Q203396'), ('name', 'Overseas France')]\n",
      "[('france', 'http://www.wikidata.org/entity/Q69323'), ('name', 'Kingdom of France')]\n",
      "[('france', 'http://www.wikidata.org/entity/Q170604'), ('name', 'New France')]\n",
      "[('france', 'http://www.wikidata.org/entity/Q142'), ('name', 'France')]\n",
      "[('france', 'http://www.wikidata.org/entity/Q69808'), ('name', 'Vichy France')]\n",
      "[('france', 'http://www.wikidata.org/entity/Q70972'), ('name', 'Kingdom of France')]\n",
      "[('france', 'http://www.wikidata.org/entity/Q152582'), ('name', 'Free France')]\n",
      "[('france', 'http://www.wikidata.org/entity/Q99294601'), ('name', 'France')]\n",
      "[('france', 'http://www.wikidata.org/entity/Q1573912'), ('name', 'Kingdom of France')]\n"
     ]
    },
    {
     "data": {
      "text/plain": [
       "10"
      ]
     },
     "execution_count": 30,
     "metadata": {},
     "output_type": "execute_result"
    }
   ],
   "source": [
    "queryString = \"\"\"\n",
    "SELECT DISTINCT ?france ?name\n",
    "WHERE {\n",
    "    ?s wdt:P17 ?france .\n",
    "    ?france sc:name ?name .\n",
    "    FILTER regex(?name,\"[Ff]rance\")\n",
    "} \n",
    "\n",
    "\"\"\"\n",
    "\n",
    "print(\"Results\")\n",
    "run_query(queryString)"
   ]
  },
  {
   "cell_type": "markdown",
   "id": "8248bd77-e8dd-4310-923b-c1d8b31c951d",
   "metadata": {},
   "source": [
    "### Is wd:Q142 the correct one?"
   ]
  },
  {
   "cell_type": "code",
   "execution_count": 31,
   "id": "6c147d3a-69ec-40f0-8ecf-78151697dd37",
   "metadata": {},
   "outputs": [
    {
     "name": "stdout",
     "output_type": "stream",
     "text": [
      "Results\n",
      "[('pName', 'category for people born here'), ('oName', 'Category:Births in France'), ('p', 'http://www.wikidata.org/prop/direct/P1464')]\n",
      "[('pName', 'has part'), ('oName', 'Loire Valley'), ('p', 'http://www.wikidata.org/prop/direct/P527')]\n",
      "[('pName', 'top-level Internet domain'), ('oName', '.fr'), ('p', 'http://www.wikidata.org/prop/direct/P78')]\n",
      "[('pName', 'flag'), ('oName', 'flag of France'), ('p', 'http://www.wikidata.org/prop/direct/P163')]\n",
      "[('pName', 'contains administrative territorial entity'), ('oName', 'Clipperton Island'), ('p', 'http://www.wikidata.org/prop/direct/P150')]\n",
      "[('pName', 'contains administrative territorial entity'), ('oName', 'Saint Barthélemy'), ('p', 'http://www.wikidata.org/prop/direct/P150')]\n",
      "[('pName', 'contains administrative territorial entity'), ('oName', 'Martinique'), ('p', 'http://www.wikidata.org/prop/direct/P150')]\n",
      "[('pName', 'anthem'), ('oName', 'La Marseillaise'), ('p', 'http://www.wikidata.org/prop/direct/P85')]\n",
      "[('pName', 'production statistics'), ('oName', 'cider'), ('p', 'http://www.wikidata.org/prop/direct/P2746')]\n",
      "[('pName', 'highest judicial authority'), ('oName', \"Conseil d'Etat\"), ('p', 'http://www.wikidata.org/prop/direct/P209')]\n",
      "[('pName', 'production statistics'), ('oName', 'champagne'), ('p', 'http://www.wikidata.org/prop/direct/P2746')]\n",
      "[('pName', 'emergency telephone number'), ('oName', '114'), ('p', 'http://www.wikidata.org/prop/direct/P2852')]\n",
      "[('pName', 'highest judicial authority'), ('oName', 'Court of Audit'), ('p', 'http://www.wikidata.org/prop/direct/P209')]\n",
      "[('pName', 'category of associated people'), ('oName', 'Category:French people'), ('p', 'http://www.wikidata.org/prop/direct/P1792')]\n",
      "[('pName', 'highest judicial authority'), ('oName', 'Constitutional Council of France'), ('p', 'http://www.wikidata.org/prop/direct/P209')]\n",
      "[('pName', 'diplomatic relation'), ('oName', 'Gabon'), ('p', 'http://www.wikidata.org/prop/direct/P530')]\n",
      "[('pName', 'diplomatic relation'), ('oName', 'Cameroon'), ('p', 'http://www.wikidata.org/prop/direct/P530')]\n",
      "[('pName', 'diplomatic relation'), ('oName', 'Cape Verde'), ('p', 'http://www.wikidata.org/prop/direct/P530')]\n",
      "[('pName', 'diplomatic relation'), ('oName', 'Libya'), ('p', 'http://www.wikidata.org/prop/direct/P530')]\n",
      "[('pName', 'diplomatic relation'), ('oName', 'Mauritania'), ('p', 'http://www.wikidata.org/prop/direct/P530')]\n",
      "[('pName', 'diplomatic relation'), ('oName', 'Mauritius'), ('p', 'http://www.wikidata.org/prop/direct/P530')]\n",
      "[('pName', 'diplomatic relation'), ('oName', 'Morocco'), ('p', 'http://www.wikidata.org/prop/direct/P530')]\n",
      "[('pName', 'diplomatic relation'), ('oName', 'Niger'), ('p', 'http://www.wikidata.org/prop/direct/P530')]\n",
      "[('pName', 'diplomatic relation'), ('oName', 'Rwanda'), ('p', 'http://www.wikidata.org/prop/direct/P530')]\n",
      "[('pName', 'member of'), ('oName', 'Multilateral Investment Guarantee Agency'), ('p', 'http://www.wikidata.org/prop/direct/P463')]\n",
      "[('pName', 'diplomatic relation'), ('oName', 'Somalia'), ('p', 'http://www.wikidata.org/prop/direct/P530')]\n",
      "[('pName', 'emergency telephone number'), ('oName', '112'), ('p', 'http://www.wikidata.org/prop/direct/P2852')]\n",
      "[('pName', 'member of'), ('oName', 'United Nations'), ('p', 'http://www.wikidata.org/prop/direct/P463')]\n",
      "[('pName', 'member of'), ('oName', 'Missile Technology Control Regime'), ('p', 'http://www.wikidata.org/prop/direct/P463')]\n",
      "[('pName', 'language used'), ('oName', 'Breton'), ('p', 'http://www.wikidata.org/prop/direct/P2936')]\n",
      "[('pName', 'contains administrative territorial entity'), ('oName', 'Brittany'), ('p', 'http://www.wikidata.org/prop/direct/P150')]\n",
      "[('pName', 'diplomatic relation'), ('oName', 'Kosovo'), ('p', 'http://www.wikidata.org/prop/direct/P530')]\n",
      "[('pName', 'contains administrative territorial entity'), ('oName', 'Saint Martin (French part)'), ('p', 'http://www.wikidata.org/prop/direct/P150')]\n",
      "[('pName', 'contains administrative territorial entity'), ('oName', 'French Southern and Antarctic Lands'), ('p', 'http://www.wikidata.org/prop/direct/P150')]\n",
      "[('pName', 'railway traffic side'), ('oName', 'left'), ('p', 'http://www.wikidata.org/prop/direct/P5658')]\n",
      "[('pName', 'member of'), ('oName', 'Organisation internationale de la Francophonie'), ('p', 'http://www.wikidata.org/prop/direct/P463')]\n",
      "[('pName', 'member of'), ('oName', 'European Payments Union'), ('p', 'http://www.wikidata.org/prop/direct/P463')]\n",
      "[('pName', 'electrical plug type'), ('oName', 'Europlug'), ('p', 'http://www.wikidata.org/prop/direct/P2853')]\n",
      "[('pName', 'contains administrative territorial entity'), ('oName', 'Centre-Val de Loire'), ('p', 'http://www.wikidata.org/prop/direct/P150')]\n",
      "[('pName', 'member of'), ('oName', 'European Air Transport Command'), ('p', 'http://www.wikidata.org/prop/direct/P463')]\n",
      "[('pName', 'country'), ('oName', 'France'), ('p', 'http://www.wikidata.org/prop/direct/P17')]\n",
      "[('pName', 'diplomatic relation'), ('oName', 'United Kingdom'), ('p', 'http://www.wikidata.org/prop/direct/P530')]\n",
      "[('pName', 'driving side'), ('oName', 'right'), ('p', 'http://www.wikidata.org/prop/direct/P1622')]\n",
      "[('pName', 'railway traffic side'), ('oName', 'right'), ('p', 'http://www.wikidata.org/prop/direct/P5658')]\n",
      "[('pName', 'has works in the collection'), ('oName', 'National Gallery of Victoria'), ('p', 'http://www.wikidata.org/prop/direct/P6379')]\n",
      "[('pName', 'diplomatic relation'), ('oName', \"People's Republic of China\"), ('p', 'http://www.wikidata.org/prop/direct/P530')]\n",
      "[('pName', 'member of'), ('oName', 'Nuclear Suppliers Group'), ('p', 'http://www.wikidata.org/prop/direct/P463')]\n",
      "[('pName', 'official language'), ('oName', 'French'), ('p', 'http://www.wikidata.org/prop/direct/P37')]\n",
      "[('pName', 'contains administrative territorial entity'), ('oName', \"Provence-Alpes-Côte d'Azur\"), ('p', 'http://www.wikidata.org/prop/direct/P150')]\n",
      "[('pName', 'member of'), ('oName', 'European Southern Observatory'), ('p', 'http://www.wikidata.org/prop/direct/P463')]\n"
     ]
    },
    {
     "data": {
      "text/plain": [
       "50"
      ]
     },
     "execution_count": 31,
     "metadata": {},
     "output_type": "execute_result"
    }
   ],
   "source": [
    "queryString = \"\"\"\n",
    "SELECT DISTINCT ?pName ?oName ?p\n",
    "WHERE {\n",
    "     wd:Q142 ?p ?o .\n",
    "    ?p sc:name ?pName .\n",
    "    ?o sc:name ?oName\n",
    "} LIMIT 50\n",
    "\n",
    "\"\"\"\n",
    "\n",
    "print(\"Results\")\n",
    "run_query(queryString)"
   ]
  },
  {
   "cell_type": "markdown",
   "id": "b1d680ff-ccbc-486e-974a-7bbcad64a316",
   "metadata": {},
   "source": [
    "### Find France athletes"
   ]
  },
  {
   "cell_type": "code",
   "execution_count": 32,
   "id": "a9af85d4-5df2-41b7-9615-1387e923f0eb",
   "metadata": {},
   "outputs": [
    {
     "name": "stdout",
     "output_type": "stream",
     "text": [
      "Results\n",
      "[('recordName', 'decathlon world record progression'), ('howMany', '2')]\n",
      "[('recordName', 'list of world junior records in athletics'), ('howMany', '1')]\n",
      "[('recordName', \"Women's heptathlon world record progression\"), ('howMany', '1')]\n"
     ]
    },
    {
     "data": {
      "text/plain": [
       "3"
      ]
     },
     "execution_count": 32,
     "metadata": {},
     "output_type": "execute_result"
    }
   ],
   "source": [
    "queryString = \"\"\"\n",
    "SELECT ?recordName (COUNT(DISTINCT ?a) AS ?howMany)\n",
    "WHERE {\n",
    "    ?a wdt:P106/wdt:P279 wd:Q2066131 ;\n",
    "        wdt:P27 wd:Q142 ; #france\n",
    "        wdt:P1000 ?record .\n",
    "        \n",
    "    ?record ?is wd:Q688615 ;\n",
    "        sc:name ?recordName\n",
    "            \n",
    "} GROUP BY ?recordName\n",
    "ORDER BY DESC(?howMany)\n",
    "\n",
    "\n",
    "\"\"\"\n",
    "\n",
    "print(\"Results\")\n",
    "run_query(queryString)"
   ]
  },
  {
   "cell_type": "markdown",
   "id": "f5f703c6-0c57-49ca-ad14-a5b65ee1c944",
   "metadata": {},
   "source": [
    "### Display only the first one category (specific sport France has the most world records)"
   ]
  },
  {
   "cell_type": "code",
   "execution_count": 33,
   "id": "c63a283a-4bf6-46d8-904b-21e24ccb301d",
   "metadata": {},
   "outputs": [
    {
     "name": "stdout",
     "output_type": "stream",
     "text": [
      "Results\n",
      "[('recordName', 'decathlon world record progression')]\n"
     ]
    },
    {
     "data": {
      "text/plain": [
       "1"
      ]
     },
     "execution_count": 33,
     "metadata": {},
     "output_type": "execute_result"
    }
   ],
   "source": [
    "queryString = \"\"\"\n",
    "SELECT ?recordName\n",
    "WHERE {\n",
    "    ?a wdt:P106/wdt:P279 wd:Q2066131 ;\n",
    "        wdt:P27 wd:Q142 ; #france\n",
    "        wdt:P1000 ?record .\n",
    "        \n",
    "    ?record ?is wd:Q688615 ;\n",
    "        sc:name ?recordName .\n",
    "            \n",
    "} GROUP BY ?recordName\n",
    "ORDER BY DESC(COUNT(DISTINCT ?a))\n",
    "LIMIT 1\n",
    "\n",
    "\n",
    "\"\"\"\n",
    "\n",
    "print(\"Results\")\n",
    "run_query(queryString)"
   ]
  },
  {
   "cell_type": "markdown",
   "id": "05ca469b-dd66-4548-b43e-49e68cdadb0c",
   "metadata": {},
   "source": [
    "### Search predicates associated to a record"
   ]
  },
  {
   "cell_type": "code",
   "execution_count": 34,
   "id": "a7b00275-287f-4c83-8676-208c2d03dc1c",
   "metadata": {},
   "outputs": [
    {
     "name": "stdout",
     "output_type": "stream",
     "text": [
      "Results\n",
      "[('pName', 'instance of'), ('p', 'http://www.wikidata.org/prop/direct/P31')]\n",
      "[('pName', 'is a list of'), ('p', 'http://www.wikidata.org/prop/direct/P360')]\n",
      "[('pName', 'sport'), ('p', 'http://www.wikidata.org/prop/direct/P641')]\n"
     ]
    },
    {
     "data": {
      "text/plain": [
       "3"
      ]
     },
     "execution_count": 34,
     "metadata": {},
     "output_type": "execute_result"
    }
   ],
   "source": [
    "queryString = \"\"\"\n",
    "SELECT DISTINCT ?pName ?p\n",
    "WHERE {\n",
    "    ?a wdt:P106/wdt:P279 wd:Q2066131 ;\n",
    "        wdt:P27 wd:Q142 ; #france\n",
    "        wdt:P1000 ?record .\n",
    "        \n",
    "    ?record ?is wd:Q688615 ;\n",
    "        sc:name ?recordName ;\n",
    "        ?p ?o .\n",
    "    ?p sc:name ?pName .        \n",
    "}\n",
    "\n",
    "\"\"\"\n",
    "\n",
    "print(\"Results\")\n",
    "run_query(queryString)"
   ]
  },
  {
   "cell_type": "markdown",
   "id": "65acebcc-82c0-4e5f-ac89-d5c1bc39e291",
   "metadata": {},
   "source": [
    "### Retrieve the sport's name of the categories and return the one which has the higher number of records"
   ]
  },
  {
   "cell_type": "code",
   "execution_count": 35,
   "id": "954c31bd-0437-4ed8-9057-295de3920c72",
   "metadata": {},
   "outputs": [
    {
     "name": "stdout",
     "output_type": "stream",
     "text": [
      "Results\n",
      "[('sportName', 'athletics')]\n"
     ]
    },
    {
     "data": {
      "text/plain": [
       "1"
      ]
     },
     "execution_count": 35,
     "metadata": {},
     "output_type": "execute_result"
    }
   ],
   "source": [
    "queryString = \"\"\"\n",
    "SELECT ?sportName\n",
    "WHERE {\n",
    "    ?a wdt:P106/wdt:P279 wd:Q2066131 ;\n",
    "        wdt:P27 wd:Q142 ; #france\n",
    "        wdt:P1000 ?record .\n",
    "        \n",
    "    ?record ?is wd:Q688615 ;\n",
    "          wdt:P641 ?sport .\n",
    "    ?sport sc:name ?sportName .\n",
    "            \n",
    "} GROUP BY ?sportName\n",
    "ORDER BY DESC(COUNT(DISTINCT ?a))\n",
    "LIMIT 1\n",
    "\n",
    "\n",
    "\"\"\"\n",
    "\n",
    "print(\"Results\")\n",
    "run_query(queryString)"
   ]
  },
  {
   "cell_type": "markdown",
   "id": "973b01c3-0535-4bca-8b27-6db6b78c6623",
   "metadata": {},
   "source": [
    "### Result part 4.1\n",
    "The french athletes won the higher number of records in athletics."
   ]
  },
  {
   "cell_type": "markdown",
   "id": "eb56143c-9c89-471a-a19c-465d67ad21e7",
   "metadata": {},
   "source": [
    "### Part 4.2 How many world records are held across genders"
   ]
  },
  {
   "cell_type": "markdown",
   "id": "6a6353b2-7884-4863-8fc2-fb9360afeb3c",
   "metadata": {},
   "source": [
    "### Search gender predicate"
   ]
  },
  {
   "cell_type": "code",
   "execution_count": 36,
   "id": "99e5ec86-7f34-4e2c-9699-9142f8281a31",
   "metadata": {},
   "outputs": [
    {
     "name": "stdout",
     "output_type": "stream",
     "text": [
      "Results\n",
      "[('pName', 'sex or gender'), ('oName', 'male'), ('p', 'http://www.wikidata.org/prop/direct/P21'), ('o', 'http://www.wikidata.org/entity/Q6581097')]\n"
     ]
    },
    {
     "data": {
      "text/plain": [
       "1"
      ]
     },
     "execution_count": 36,
     "metadata": {},
     "output_type": "execute_result"
    }
   ],
   "source": [
    "queryString = \"\"\"\n",
    "SELECT DISTINCT ?pName ?oName ?p ?o\n",
    "WHERE{\n",
    "    wd:Q1189 ?p ?o .\n",
    "    OPTIONAL{?p sc:name ?pName.}\n",
    "    OPTIONAL{?o sc:name ?oName.}\n",
    "    \n",
    "    FILTER regex(?pName, \"gender\" )\n",
    " \n",
    "}LIMIT 30\n",
    "\n",
    "\"\"\"\n",
    "\n",
    "print(\"Results\")\n",
    "run_query(queryString)"
   ]
  },
  {
   "cell_type": "markdown",
   "id": "691bb607-212c-4e3a-a04b-64e4ce70414c",
   "metadata": {},
   "source": [
    "### Display athlets who held World Record based on their gender"
   ]
  },
  {
   "cell_type": "code",
   "execution_count": 37,
   "id": "001ab4db-ec93-42a8-9de7-d5f6220af431",
   "metadata": {},
   "outputs": [
    {
     "name": "stdout",
     "output_type": "stream",
     "text": [
      "Results\n",
      "[('record', 'http://www.wikidata.org/entity/Q1364158'), ('recordName', '800 metres world record progression'), ('genderType', 'male'), ('howMany', '1')]\n",
      "[('record', 'http://www.wikidata.org/entity/Q208410'), ('recordName', 'List of world records in athletics'), ('genderType', 'male'), ('howMany', '1')]\n",
      "[('record', 'http://www.wikidata.org/entity/Q1066353'), ('recordName', \"Men's 100 metres world record progression\"), ('genderType', 'male'), ('howMany', '1')]\n",
      "[('record', 'http://www.wikidata.org/entity/Q1053563'), ('recordName', \"Men's 4 x 400 metres relay world record progression\"), ('genderType', 'male'), ('howMany', '5')]\n",
      "[('record', 'http://www.wikidata.org/entity/Q1139050'), ('recordName', \"Men's 400 metres hurdles world record progression\"), ('genderType', 'male'), ('howMany', '14')]\n",
      "[('record', 'http://www.wikidata.org/entity/Q1140490'), ('recordName', \"Men's 400 metres world record progression\"), ('genderType', 'male'), ('howMany', '1')]\n",
      "[('record', 'http://www.wikidata.org/entity/Q465831'), ('recordName', \"Men's high jump world record progression\"), ('genderType', 'female'), ('howMany', '1')]\n",
      "[('record', 'http://www.wikidata.org/entity/Q73949'), ('recordName', 'Triple jump world record progression'), ('genderType', 'female'), ('howMany', '1')]\n",
      "[('record', 'http://www.wikidata.org/entity/Q3422413'), ('recordName', \"Women's 100 metres hurdles world record progression\"), ('genderType', 'female'), ('howMany', '1')]\n",
      "[('record', 'http://www.wikidata.org/entity/Q83573'), ('recordName', \"Women's heptathlon world record progression\"), ('genderType', 'female'), ('howMany', '3')]\n",
      "[('record', 'http://www.wikidata.org/entity/Q83573'), ('recordName', \"Women's heptathlon world record progression\"), ('genderType', 'male'), ('howMany', '1')]\n",
      "[('record', 'http://www.wikidata.org/entity/Q1316274'), ('recordName', 'World record progression 1500 metres freestyle'), ('genderType', 'male'), ('howMany', '15')]\n",
      "[('record', 'http://www.wikidata.org/entity/Q1362958'), ('recordName', 'World record progression 200 metres freestyle'), ('genderType', 'male'), ('howMany', '1')]\n",
      "[('record', 'http://www.wikidata.org/entity/Q1135532'), ('recordName', 'World record progression 4 × 100 metres freestyle relay'), ('genderType', 'female'), ('howMany', '4')]\n",
      "[('record', 'http://www.wikidata.org/entity/Q1135532'), ('recordName', 'World record progression 4 × 100 metres freestyle relay'), ('genderType', 'male'), ('howMany', '1')]\n"
     ]
    },
    {
     "data": {
      "text/plain": [
       "15"
      ]
     },
     "execution_count": 37,
     "metadata": {},
     "output_type": "execute_result"
    }
   ],
   "source": [
    "queryString = \"\"\"\n",
    "SELECT ?record ?recordName ?genderType (COUNT(DISTINCT ?a) AS ?howMany)\n",
    "WHERE {\n",
    "    ?a wdt:P106/wdt:P279 wd:Q2066131 ;\n",
    "        wdt:P21 ?gender ;\n",
    "        wdt:P1000 ?record .\n",
    "        \n",
    "    ?record ?is wd:Q688615 ;\n",
    "          sc:name ?recordName .\n",
    "    \n",
    "    ?gender sc:name ?genderType .\n",
    "            \n",
    "} GROUP BY ?record ?recordName ?genderType\n",
    "ORDER BY ?recordName\n",
    "LIMIT 15\n",
    "\n",
    "\"\"\"\n",
    "\n",
    "print(\"Results\")\n",
    "run_query(queryString)"
   ]
  },
  {
   "cell_type": "markdown",
   "id": "a6f20373-cd8f-4ece-85ba-617e730b0276",
   "metadata": {},
   "source": [
    "### Search derivation"
   ]
  },
  {
   "cell_type": "code",
   "execution_count": 38,
   "id": "244d8461-7677-40cf-9a8b-cc5ef4dd7cb8",
   "metadata": {},
   "outputs": [
    {
     "name": "stdout",
     "output_type": "stream",
     "text": [
      "Results\n",
      "[('pName', 'has part'), ('oName', \"Women's 800 metres world record progression\"), ('p', 'http://www.wikidata.org/prop/direct/P527'), ('o', 'http://www.wikidata.org/entity/Q2757357')]\n",
      "[('pName', 'sport'), ('oName', 'athletics'), ('p', 'http://www.wikidata.org/prop/direct/P641'), ('o', 'http://www.wikidata.org/entity/Q542')]\n",
      "[('pName', 'instance of'), ('oName', 'world record'), ('p', 'http://www.wikidata.org/prop/direct/P31'), ('o', 'http://www.wikidata.org/entity/Q688615')]\n",
      "[('pName', 'has part'), ('oName', \"Men's 800 metres world record progression\"), ('p', 'http://www.wikidata.org/prop/direct/P527'), ('o', 'http://www.wikidata.org/entity/Q67173303')]\n"
     ]
    },
    {
     "data": {
      "text/plain": [
       "4"
      ]
     },
     "execution_count": 38,
     "metadata": {},
     "output_type": "execute_result"
    }
   ],
   "source": [
    "queryString = \"\"\"\n",
    "SELECT ?pName ?oName ?p ?o\n",
    "WHERE {    \n",
    "    wd:Q1364158 ?p ?o .\n",
    "    ?p sc:name ?pName .\n",
    "    ?o sc:name ?oName .\n",
    "            \n",
    "} \n",
    "\n",
    "\"\"\"\n",
    "\n",
    "print(\"Results\")\n",
    "run_query(queryString)"
   ]
  },
  {
   "cell_type": "markdown",
   "id": "0d06ec16-8b9f-4b37-bac0-408281e48403",
   "metadata": {},
   "source": [
    "### Try to see if each record has the \"has part\" predicate"
   ]
  },
  {
   "cell_type": "code",
   "execution_count": 39,
   "id": "264092bf-372d-40b2-b9c9-147693e902f6",
   "metadata": {},
   "outputs": [
    {
     "name": "stdout",
     "output_type": "stream",
     "text": [
      "Results\n",
      "[('compName', \"Men's 800 metres world record progression\"), ('genderType', 'male'), ('howMany', '1')]\n",
      "[('compName', \"Women's 800 metres world record progression\"), ('genderType', 'male'), ('howMany', '1')]\n"
     ]
    },
    {
     "data": {
      "text/plain": [
       "2"
      ]
     },
     "execution_count": 39,
     "metadata": {},
     "output_type": "execute_result"
    }
   ],
   "source": [
    "queryString = \"\"\"\n",
    "SELECT ?compName ?genderType (COUNT(DISTINCT ?a) AS ?howMany)\n",
    "WHERE {\n",
    "    ?a wdt:P106/wdt:P279 wd:Q2066131 ;\n",
    "        wdt:P21 ?gender ;\n",
    "        wdt:P1000 ?record .\n",
    "        \n",
    "    ?record ?is wd:Q688615 ;\n",
    "        wdt:P527 ?comp ;\n",
    "        sc:name ?recordName .\n",
    "    ?comp sc:name ?compName .\n",
    "    ?gender sc:name ?genderType .\n",
    "            \n",
    "} GROUP BY ?compName ?genderType\n",
    "ORDER BY ?compName\n",
    "LIMIT 15\n",
    "\n",
    "\"\"\"\n",
    "\n",
    "print(\"Results\")\n",
    "run_query(queryString)"
   ]
  },
  {
   "cell_type": "markdown",
   "id": "f52658d5-86ea-4d65-a731-7583731ab729",
   "metadata": {},
   "source": [
    "### Result part 4.2\n",
    "As we can see not all the records are connected with a \"has part\" predicate. So, is better to put in relation the gender of the athlete that helds the record and the gender type of the competition in which the record was won."
   ]
  },
  {
   "cell_type": "markdown",
   "id": "e1cca496-9d88-463b-9f11-87994ee971b6",
   "metadata": {},
   "source": [
    "### Part 4.3 Which sport has the highest number of world records"
   ]
  },
  {
   "cell_type": "code",
   "execution_count": 40,
   "id": "6266b028-aa08-4338-ad09-19fa722f5850",
   "metadata": {},
   "outputs": [
    {
     "name": "stdout",
     "output_type": "stream",
     "text": [
      "Results\n",
      "[('sportName', 'athletics'), ('howManyRecords', '11')]\n",
      "[('sportName', 'swimming'), ('howManyRecords', '2')]\n",
      "[('sportName', 'heptathlon'), ('howManyRecords', '1')]\n"
     ]
    },
    {
     "data": {
      "text/plain": [
       "3"
      ]
     },
     "execution_count": 40,
     "metadata": {},
     "output_type": "execute_result"
    }
   ],
   "source": [
    "queryString = \"\"\"\n",
    "SELECT ?sportName (COUNT(DISTINCT ?record) AS ?howManyRecords)\n",
    "WHERE {\n",
    "    ?a wdt:P106/wdt:P279 wd:Q2066131 ;\n",
    "        wdt:P1000 ?record .\n",
    "        \n",
    "    ?record ?is wd:Q688615 ;\n",
    "          wdt:P641 ?sport .\n",
    "    ?sport sc:name ?sportName .\n",
    "            \n",
    "} GROUP BY ?sportName\n",
    "ORDER BY DESC(?howManyRecords)\n",
    "LIMIT 3\n",
    "\n",
    "\n",
    "\"\"\"\n",
    "\n",
    "print(\"Results\")\n",
    "run_query(queryString)"
   ]
  },
  {
   "cell_type": "markdown",
   "id": "5832c711-1e29-4807-a411-c16fa012e0f5",
   "metadata": {},
   "source": [
    "### Result part 4.3\n",
    "In this query is easy to connect each record to its sport. So grouping by sport we are able to count how many record was won in our database. \n",
    "\n",
    "In this case athletics has the higher number of records."
   ]
  }
 ],
 "metadata": {
  "kernelspec": {
   "display_name": "Python 3",
   "language": "python",
   "name": "python3"
  },
  "language_info": {
   "codemirror_mode": {
    "name": "ipython",
    "version": 3
   },
   "file_extension": ".py",
   "mimetype": "text/x-python",
   "name": "python",
   "nbconvert_exporter": "python",
   "pygments_lexer": "ipython3",
   "version": "3.7.10"
  }
 },
 "nbformat": 4,
 "nbformat_minor": 5
}
