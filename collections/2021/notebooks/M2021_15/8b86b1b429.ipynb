{
 "cells": [
  {
   "cell_type": "markdown",
   "id": "7034c3bf-6eb0-4418-8687-7b9d2a501103",
   "metadata": {},
   "source": [
    "# General instructions\n",
    "\n",
    "The goal of the project is to materialize a set of **exploratory workloads** over a real-world, large-scale,  open-domain KG: [WikiData](https://www.wikidata.org/wiki/Wikidata:Main_Page)\n",
    "\n",
    "An exploratory workload  is composed by a set of queries, where each query is related to the information obtained previously.\n",
    "\n",
    "An exploratory workload starts with a usually vague, open ended question, and does not assume the person issuing the workload has a clear understanding of the data contained in the target database or its structure.\n",
    "\n",
    "Remeber that:\n",
    "\n",
    "1. All the queries must run in the python notebook\n",
    "2. You can use classes and properties only if you find them via a SPARQL query that must be present in the notebook\n",
    "3. You do not delete useless queries. Keep everything that is synthatically valid \n",
    "\n",
    "```\n",
    "?p <http://schema.org/name> ?name .\n",
    "```\n",
    "    \n",
    "    is the BGP returning a human-readable name of a property or a class in Wikidata.\n",
    "    \n",
    "    "
   ]
  },
  {
   "cell_type": "code",
   "execution_count": 1,
   "id": "3605c9d5-5371-49a5-be8d-d66e8f417139",
   "metadata": {},
   "outputs": [],
   "source": [
    "## SETUP used later\n",
    "\n",
    "from SPARQLWrapper import SPARQLWrapper, JSON\n",
    "\n",
    "\n",
    "prefixString = \"\"\"\n",
    "##-8b86b1b429-##\n",
    "PREFIX wd: <http://www.wikidata.org/entity/> \n",
    "PREFIX wdt: <http://www.wikidata.org/prop/direct/> \n",
    "PREFIX sc: <http://schema.org/>\n",
    "\"\"\"\n",
    "\n",
    "# select and construct queries\n",
    "def run_query(queryString):\n",
    "    to_run = prefixString + \"\\n\" + queryString\n",
    "\n",
    "    sparql = SPARQLWrapper(\"http://a256-gc1-02.srv.aau.dk:5820/sparql\")\n",
    "    sparql.setTimeout(300)\n",
    "    sparql.setReturnFormat(JSON)\n",
    "    sparql.setQuery(to_run)\n",
    "\n",
    "    try :\n",
    "       results = sparql.query()\n",
    "       json_results = results.convert()\n",
    "       if len(json_results['results']['bindings'])==0:\n",
    "          print(\"Empty\")\n",
    "          return 0\n",
    "    \n",
    "       for bindings in json_results['results']['bindings']:\n",
    "          print( [ (var, value['value'])  for var, value in bindings.items() ] )\n",
    "\n",
    "       return len(json_results['results']['bindings'])\n",
    "\n",
    "    except Exception as e :\n",
    "        print(\"The operation failed\", e)\n",
    "    \n",
    "# ASk queries\n",
    "def run_ask_query(queryString):\n",
    "    to_run = prefixString + \"\\n\" + queryString\n",
    "\n",
    "    sparql = SPARQLWrapper(\"http://a256-gc1-02.srv.aau.dk:5820/sparql\")\n",
    "    sparql.setTimeout(300)\n",
    "    sparql.setReturnFormat(JSON)\n",
    "    sparql.setQuery(to_run)\n",
    "\n",
    "    try :\n",
    "        return sparql.query().convert()\n",
    "\n",
    "    except Exception as e :\n",
    "        print(\"The operation failed\", e)"
   ]
  },
  {
   "cell_type": "markdown",
   "id": "d477a59c-a68c-4c8f-9f97-8ca5294d7d27",
   "metadata": {},
   "source": [
    "# Book Workflow Series (\"Authors comparison explorative search\") \n",
    "\n",
    "Consider the following exploratory scenario:\n",
    "\n",
    "\n",
    ">  Investigate the the production of Paul Auster and Ian McEwan, check how many books they have written for each litarature genre, gather information about their production and about their works which are not books\n",
    "\n",
    "\n",
    "\n",
    "## Useful URIs for the current workflow\n",
    "The following are given:\n",
    "\n",
    "| IRI           | Description   | Role      |\n",
    "| -----------   | -----------   |-----------|\n",
    "| `wdt:P1647`   | subproperty   | predicate |\n",
    "| `wdt:P31`     | instance of   | predicate |\n",
    "| `wdt:P106`    | profession    | predicate | \n",
    "| `wdt:P279`    | subclass      | predicate |\n",
    "| `wd:Q47461344`| writtenwork   | node |\n",
    "| `wd:Q214642`  | Paul Auster   | node |\n",
    "| `wd:Q190379`  | Ian McEwan    | node |\n",
    "\n",
    "\n",
    "\n",
    "\n",
    "Also consider\n",
    "\n",
    "```\n",
    "wd:Q214642 ?rel ?obj  . \n",
    "```\n",
    "is the BGP to retrieve all **properties of Paul Auster**\n",
    "\n",
    "\n",
    "The workload should\n",
    "\n",
    "\n",
    "1. Identify the BGP for obtaining the books (with publishing date and genre) published by the two authors\n",
    "\n",
    "2. Did the authors published a book in the same year? What is the longest period without publishing a book for the two authors? \n",
    "\n",
    "3. Did the authors produced, acted or directed a film? If so, did they write the screenplay?\n",
    "\n",
    "4. How many films were derived from the books of these two authors? \n",
    "\n",
    "5. Which author won more literature-related awards? Have they ever being nominated for a Nobel award? "
   ]
  },
  {
   "cell_type": "code",
   "execution_count": 2,
   "id": "24a853ab-830c-422c-afd3-e9e015b8b8ed",
   "metadata": {},
   "outputs": [],
   "source": [
    "# start your workflow here"
   ]
  },
  {
   "cell_type": "code",
   "execution_count": 3,
   "id": "ade01416-92e7-4ad7-b9a9-b8fb330750dc",
   "metadata": {},
   "outputs": [
    {
     "name": "stdout",
     "output_type": "stream",
     "text": [
      "Results\n",
      "[('callret-0', '191')]\n"
     ]
    },
    {
     "data": {
      "text/plain": [
       "1"
      ]
     },
     "execution_count": 3,
     "metadata": {},
     "output_type": "execute_result"
    }
   ],
   "source": [
    "queryString = \"\"\"\n",
    "SELECT COUNT( ?obj)\n",
    "WHERE { \n",
    "wd:Q214642 ?rel ?obj  . \n",
    "} \n",
    "\"\"\"\n",
    "\n",
    "print(\"Results\")\n",
    "run_query(queryString)"
   ]
  },
  {
   "cell_type": "markdown",
   "id": "516f01db-76f2-4414-aabd-c05a5bc5916d",
   "metadata": {},
   "source": [
    "# Task 1\n",
    "\n",
    "*Identify the BGP for obtaining the books (with publishing date and genre) published by the two authors*"
   ]
  },
  {
   "cell_type": "code",
   "execution_count": 15,
   "id": "bf69bf0d-6cb8-4ad2-a171-ab6c7234a0a6",
   "metadata": {},
   "outputs": [
    {
     "name": "stdout",
     "output_type": "stream",
     "text": [
      "Results\n",
      "[('rel', 'http://www.wikidata.org/prop/direct/P101'), ('name', 'field of work')]\n",
      "[('rel', 'http://www.wikidata.org/prop/direct/P106'), ('name', 'occupation')]\n",
      "[('rel', 'http://www.wikidata.org/prop/direct/P108'), ('name', 'employer')]\n",
      "[('rel', 'http://www.wikidata.org/prop/direct/P1150'), ('name', 'Regensburg Classification')]\n",
      "[('rel', 'http://www.wikidata.org/prop/direct/P1317'), ('name', 'floruit')]\n",
      "[('rel', 'http://www.wikidata.org/prop/direct/P1343'), ('name', 'described by source')]\n",
      "[('rel', 'http://www.wikidata.org/prop/direct/P136'), ('name', 'genre')]\n",
      "[('rel', 'http://www.wikidata.org/prop/direct/P1412'), ('name', 'languages spoken, written or signed')]\n",
      "[('rel', 'http://www.wikidata.org/prop/direct/P1559'), ('name', 'name in native language')]\n",
      "[('rel', 'http://www.wikidata.org/prop/direct/P166'), ('name', 'award received')]\n",
      "[('rel', 'http://www.wikidata.org/prop/direct/P18'), ('name', 'image')]\n",
      "[('rel', 'http://www.wikidata.org/prop/direct/P19'), ('name', 'place of birth')]\n",
      "[('rel', 'http://www.wikidata.org/prop/direct/P2031'), ('name', 'work period (start)')]\n",
      "[('rel', 'http://www.wikidata.org/prop/direct/P21'), ('name', 'sex or gender')]\n",
      "[('rel', 'http://www.wikidata.org/prop/direct/P213'), ('name', 'ISNI')]\n",
      "[('rel', 'http://www.wikidata.org/prop/direct/P26'), ('name', 'spouse')]\n",
      "[('rel', 'http://www.wikidata.org/prop/direct/P27'), ('name', 'country of citizenship')]\n",
      "[('rel', 'http://www.wikidata.org/prop/direct/P31'), ('name', 'instance of')]\n",
      "[('rel', 'http://www.wikidata.org/prop/direct/P373'), ('name', 'Commons category')]\n",
      "[('rel', 'http://www.wikidata.org/prop/direct/P40'), ('name', 'child')]\n",
      "[('rel', 'http://www.wikidata.org/prop/direct/P463'), ('name', 'member of')]\n",
      "[('rel', 'http://www.wikidata.org/prop/direct/P5587'), ('name', 'Libris-URI')]\n",
      "[('rel', 'http://www.wikidata.org/prop/direct/P569'), ('name', 'date of birth')]\n",
      "[('rel', 'http://www.wikidata.org/prop/direct/P5821'), ('name', 'ArhivX LOD')]\n",
      "[('rel', 'http://www.wikidata.org/prop/direct/P6379'), ('name', 'has works in the collection')]\n",
      "[('rel', 'http://www.wikidata.org/prop/direct/P69'), ('name', 'educated at')]\n",
      "[('rel', 'http://www.wikidata.org/prop/direct/P7084'), ('name', 'related category')]\n",
      "[('rel', 'http://www.wikidata.org/prop/direct/P734'), ('name', 'family name')]\n",
      "[('rel', 'http://www.wikidata.org/prop/direct/P735'), ('name', 'given name')]\n",
      "[('rel', 'http://www.wikidata.org/prop/direct/P742'), ('name', 'pseudonym')]\n",
      "[('rel', 'http://www.wikidata.org/prop/direct/P7704'), ('name', 'Europeana entity')]\n",
      "[('rel', 'http://www.wikidata.org/prop/direct/P7763'), ('name', 'copyright status as a creator')]\n",
      "[('rel', 'http://www.wikidata.org/prop/direct/P800'), ('name', 'notable work')]\n",
      "[('rel', 'http://www.wikidata.org/prop/direct/P856'), ('name', 'official website')]\n",
      "[('rel', 'http://www.wikidata.org/prop/direct/P910'), ('name', \"topic's main category\")]\n"
     ]
    },
    {
     "data": {
      "text/plain": [
       "35"
      ]
     },
     "execution_count": 15,
     "metadata": {},
     "output_type": "execute_result"
    }
   ],
   "source": [
    "# Check author properties\n",
    "queryString = \"\"\"\n",
    "SELECT distinct ?rel ?name\n",
    "where{\n",
    "    wd:Q214642 ?rel ?obj  .\n",
    "    ?rel <http://schema.org/name> ?name .\n",
    "    filter(!regex(?name, \"ID\"))\n",
    "}\n",
    "\"\"\"\n",
    "\n",
    "print(\"Results\")\n",
    "run_query(queryString)"
   ]
  },
  {
   "cell_type": "code",
   "execution_count": 11,
   "id": "5d294ed6-ee60-46a3-8d11-b25c33a22650",
   "metadata": {},
   "outputs": [
    {
     "name": "stdout",
     "output_type": "stream",
     "text": [
      "Results\n",
      "[('name', 'The Book of Illusions')]\n",
      "[('name', 'Man in the Dark')]\n",
      "[('name', 'The New York Trilogy')]\n",
      "[('name', 'Leviathan')]\n"
     ]
    },
    {
     "data": {
      "text/plain": [
       "4"
      ]
     },
     "execution_count": 11,
     "metadata": {},
     "output_type": "execute_result"
    }
   ],
   "source": [
    "# Check the notable works \n",
    "queryString = \"\"\"\n",
    "SELECT distinct ?x ?name\n",
    "WHERE{\n",
    "    wd:Q214642 wdt:P800 ?obj .\n",
    "    ?obj <http://schema.org/name> ?name .\n",
    "}\n",
    "\"\"\"\n",
    "\n",
    "print(\"Results\")\n",
    "run_query(queryString)"
   ]
  },
  {
   "cell_type": "code",
   "execution_count": 12,
   "id": "263b9ffb-4de6-44a6-806f-63f6a598c812",
   "metadata": {},
   "outputs": [
    {
     "name": "stdout",
     "output_type": "stream",
     "text": [
      "Results\n",
      "[('obj', 'http://www.wikidata.org/entity/Q1951470'), ('name2', 'Mr. Vertigo'), ('name', 'written work'), ('type', 'http://www.wikidata.org/entity/Q47461344')]\n",
      "[('obj', 'http://www.wikidata.org/entity/Q492991'), ('name2', 'Timbuktu'), ('name', 'written work'), ('type', 'http://www.wikidata.org/entity/Q47461344')]\n",
      "[('obj', 'http://www.wikidata.org/entity/Q581485'), ('name2', 'The Book of Illusions'), ('name', 'written work'), ('type', 'http://www.wikidata.org/entity/Q47461344')]\n",
      "[('obj', 'http://www.wikidata.org/entity/Q581485'), ('name2', 'The Book of Illusions'), ('name', 'book'), ('type', 'http://www.wikidata.org/entity/Q571')]\n",
      "[('obj', 'http://www.wikidata.org/entity/Q526792'), ('name2', 'Travels in the Scriptorium'), ('name', 'written work'), ('type', 'http://www.wikidata.org/entity/Q47461344')]\n",
      "[('obj', 'http://www.wikidata.org/entity/Q1817920'), ('name2', 'Man in the Dark'), ('name', 'written work'), ('type', 'http://www.wikidata.org/entity/Q47461344')]\n",
      "[('obj', 'http://www.wikidata.org/entity/Q1322083'), ('name2', 'Sunset Park'), ('name', 'written work'), ('type', 'http://www.wikidata.org/entity/Q47461344')]\n",
      "[('obj', 'http://www.wikidata.org/entity/Q1584652'), ('name2', 'Invisible'), ('name', 'written work'), ('type', 'http://www.wikidata.org/entity/Q47461344')]\n",
      "[('obj', 'http://www.wikidata.org/entity/Q28846426'), ('name2', '4 3 2 1'), ('name', 'novel'), ('type', 'http://www.wikidata.org/entity/Q8261')]\n",
      "[('obj', 'http://www.wikidata.org/entity/Q28846426'), ('name2', '4 3 2 1'), ('name', 'literary work'), ('type', 'http://www.wikidata.org/entity/Q7725634')]\n",
      "[('obj', 'http://www.wikidata.org/entity/Q60412205'), ('name2', 'Sunset Park'), ('name', 'version, edition, or translation'), ('type', 'http://www.wikidata.org/entity/Q3331189')]\n",
      "[('obj', 'http://www.wikidata.org/entity/Q16386002'), ('name2', 'Here and Now: Letters, 2008-2011'), ('name', 'literary work'), ('type', 'http://www.wikidata.org/entity/Q7725634')]\n",
      "[('obj', 'http://www.wikidata.org/entity/Q1215203'), ('name2', 'The New York Trilogy'), ('name', 'book series'), ('type', 'http://www.wikidata.org/entity/Q277759')]\n",
      "[('obj', 'http://www.wikidata.org/entity/Q1215203'), ('name2', 'The New York Trilogy'), ('name', 'written work'), ('type', 'http://www.wikidata.org/entity/Q47461344')]\n",
      "[('obj', 'http://www.wikidata.org/entity/Q1506280'), ('name2', 'In the Country of Last Things'), ('name', 'written work'), ('type', 'http://www.wikidata.org/entity/Q47461344')]\n",
      "[('obj', 'http://www.wikidata.org/entity/Q1944147'), ('name2', 'Moon Palace'), ('name', 'written work'), ('type', 'http://www.wikidata.org/entity/Q47461344')]\n",
      "[('obj', 'http://www.wikidata.org/entity/Q45823712'), ('name2', 'The Locked Room'), ('name', 'literary work'), ('type', 'http://www.wikidata.org/entity/Q7725634')]\n",
      "[('obj', 'http://www.wikidata.org/entity/Q16887077'), ('name2', 'Winter Journal'), ('name', 'literary work'), ('type', 'http://www.wikidata.org/entity/Q7725634')]\n",
      "[('obj', 'http://www.wikidata.org/entity/Q7766783'), ('name2', 'The Story of My Typewriter'), ('name', 'literary work'), ('type', 'http://www.wikidata.org/entity/Q7725634')]\n",
      "[('obj', 'http://www.wikidata.org/entity/Q1214916'), ('name2', 'The Music of Chance'), ('name', 'written work'), ('type', 'http://www.wikidata.org/entity/Q47461344')]\n",
      "[('obj', 'http://www.wikidata.org/entity/Q1821899'), ('name2', 'Leviathan'), ('name', 'written work'), ('type', 'http://www.wikidata.org/entity/Q47461344')]\n",
      "[('obj', 'http://www.wikidata.org/entity/Q3225069'), ('name2', \"Auggie Wren's Christmas Story\"), ('name', 'literary work'), ('type', 'http://www.wikidata.org/entity/Q7725634')]\n",
      "[('obj', 'http://www.wikidata.org/entity/Q1211751'), ('name2', 'The Brooklyn Follies'), ('name', 'written work'), ('type', 'http://www.wikidata.org/entity/Q47461344')]\n",
      "[('obj', 'http://www.wikidata.org/entity/Q1258502'), ('name2', 'Oracle Night'), ('name', 'written work'), ('type', 'http://www.wikidata.org/entity/Q47461344')]\n",
      "[('obj', 'http://www.wikidata.org/entity/Q42185883'), ('name2', 'Man in the Dark'), ('name', 'literary work'), ('type', 'http://www.wikidata.org/entity/Q7725634')]\n",
      "[('obj', 'http://www.wikidata.org/entity/Q1212217'), ('name2', 'The Invention of Solitude'), ('name', 'written work'), ('type', 'http://www.wikidata.org/entity/Q47461344')]\n",
      "[('obj', 'http://www.wikidata.org/entity/Q5770801'), ('name2', 'City of Glass'), ('name', 'literary work'), ('type', 'http://www.wikidata.org/entity/Q7725634')]\n",
      "[('obj', 'http://www.wikidata.org/entity/Q5855938'), ('name2', 'Ghosts'), ('name', 'literary work'), ('type', 'http://www.wikidata.org/entity/Q7725634')]\n",
      "[('obj', 'http://www.wikidata.org/entity/Q3786029'), ('name2', 'I Thought My Father Was God'), ('name', 'short story collection'), ('type', 'http://www.wikidata.org/entity/Q1279564')]\n",
      "[('obj', 'http://www.wikidata.org/entity/Q3786029'), ('name2', 'I Thought My Father Was God'), ('name', 'literary work'), ('type', 'http://www.wikidata.org/entity/Q7725634')]\n",
      "[('obj', 'http://www.wikidata.org/entity/Q5123698'), ('name2', 'City of Glass'), ('name', 'graphic novel'), ('type', 'http://www.wikidata.org/entity/Q725377')]\n",
      "[('obj', 'http://www.wikidata.org/entity/Q17027694'), ('name2', 'Report from the Interior'), ('name', 'literary work'), ('type', 'http://www.wikidata.org/entity/Q7725634')]\n",
      "[('obj', 'http://www.wikidata.org/entity/Q3067425'), ('name2', 'Squeeze Play'), ('name', 'written work'), ('type', 'http://www.wikidata.org/entity/Q47461344')]\n",
      "[('obj', 'http://www.wikidata.org/entity/Q16653447'), ('name2', 'The Red Notebook'), ('name', 'short story collection'), ('type', 'http://www.wikidata.org/entity/Q1279564')]\n",
      "[('obj', 'http://www.wikidata.org/entity/Q16653447'), ('name2', 'The Red Notebook'), ('name', 'literary work'), ('type', 'http://www.wikidata.org/entity/Q7725634')]\n"
     ]
    },
    {
     "data": {
      "text/plain": [
       "35"
      ]
     },
     "execution_count": 12,
     "metadata": {},
     "output_type": "execute_result"
    }
   ],
   "source": [
    "# Probably he didn't write only notable works\n",
    "queryString = \"\"\"\n",
    "SELECT distinct ?obj ?name2 ?name ?type\n",
    "WHERE{\n",
    "    ?obj wdt:P50 wd:Q214642 .\n",
    "    ?obj wdt:P31 ?type .\n",
    "    ?type <http://schema.org/name> ?name .\n",
    "    ?obj <http://schema.org/name> ?name2 .\n",
    "}\n",
    "\"\"\"\n",
    "\n",
    "print(\"Results\")\n",
    "run_query(queryString)"
   ]
  },
  {
   "cell_type": "markdown",
   "id": "04945949-0359-4454-8de1-cb7afb2c4aa1",
   "metadata": {},
   "source": [
    "So there are not only \"written work\" but also other types of work that can be considered similar to books. "
   ]
  },
  {
   "cell_type": "code",
   "execution_count": 13,
   "id": "4f39e339-6bd9-48d8-8789-5217df2e6215",
   "metadata": {},
   "outputs": [
    {
     "name": "stdout",
     "output_type": "stream",
     "text": [
      "Results\n",
      "[('name', 'book series'), ('type', 'http://www.wikidata.org/entity/Q277759')]\n",
      "[('name', 'written work'), ('type', 'http://www.wikidata.org/entity/Q47461344')]\n",
      "[('name', 'literary work'), ('type', 'http://www.wikidata.org/entity/Q7725634')]\n",
      "[('name', 'novel'), ('type', 'http://www.wikidata.org/entity/Q8261')]\n",
      "[('name', 'version, edition, or translation'), ('type', 'http://www.wikidata.org/entity/Q3331189')]\n",
      "[('name', 'book'), ('type', 'http://www.wikidata.org/entity/Q571')]\n",
      "[('name', 'short story collection'), ('type', 'http://www.wikidata.org/entity/Q1279564')]\n",
      "[('name', 'graphic novel'), ('type', 'http://www.wikidata.org/entity/Q725377')]\n"
     ]
    },
    {
     "data": {
      "text/plain": [
       "8"
      ]
     },
     "execution_count": 13,
     "metadata": {},
     "output_type": "execute_result"
    }
   ],
   "source": [
    "# Probably he didn't write only notable works\n",
    "queryString = \"\"\"\n",
    "SELECT distinct ?name ?type\n",
    "WHERE{\n",
    "    ?obj wdt:P50 wd:Q214642 .\n",
    "    ?obj wdt:P31 ?type .\n",
    "    ?type <http://schema.org/name> ?name .\n",
    "}\n",
    "\"\"\"\n",
    "\n",
    "print(\"Results\")\n",
    "run_query(queryString)"
   ]
  },
  {
   "cell_type": "code",
   "execution_count": 23,
   "id": "399c5582-b52f-4b5e-bcd1-589cd4c6a09c",
   "metadata": {},
   "outputs": [
    {
     "name": "stdout",
     "output_type": "stream",
     "text": [
      "Results\n",
      "[('name', 'publisher'), ('ret', 'http://www.wikidata.org/prop/direct/P123')]\n",
      "[('name', 'genre'), ('ret', 'http://www.wikidata.org/prop/direct/P136')]\n",
      "[('name', 'title'), ('ret', 'http://www.wikidata.org/prop/direct/P1476')]\n",
      "[('name', 'follows'), ('ret', 'http://www.wikidata.org/prop/direct/P155')]\n",
      "[('name', 'followed by'), ('ret', 'http://www.wikidata.org/prop/direct/P156')]\n",
      "[('name', 'OCLC control number'), ('ret', 'http://www.wikidata.org/prop/direct/P243')]\n",
      "[('name', 'instance of'), ('ret', 'http://www.wikidata.org/prop/direct/P31')]\n",
      "[('name', 'language of work or name'), ('ret', 'http://www.wikidata.org/prop/direct/P407')]\n",
      "[('name', 'country of origin'), ('ret', 'http://www.wikidata.org/prop/direct/P495')]\n",
      "[('name', 'author'), ('ret', 'http://www.wikidata.org/prop/direct/P50')]\n",
      "[('name', 'publication date'), ('ret', 'http://www.wikidata.org/prop/direct/P577')]\n",
      "[('name', 'narrative location'), ('ret', 'http://www.wikidata.org/prop/direct/P840')]\n",
      "[('name', 'ISBN-13'), ('ret', 'http://www.wikidata.org/prop/direct/P212')]\n",
      "[('name', 'ISBN-10'), ('ret', 'http://www.wikidata.org/prop/direct/P957')]\n",
      "[('name', 'number of pages'), ('ret', 'http://www.wikidata.org/prop/direct/P1104')]\n",
      "[('name', 'translator'), ('ret', 'http://www.wikidata.org/prop/direct/P655')]\n",
      "[('name', 'image'), ('ret', 'http://www.wikidata.org/prop/direct/P18')]\n",
      "[('name', 'has part'), ('ret', 'http://www.wikidata.org/prop/direct/P527')]\n",
      "[('name', 'name in kana'), ('ret', 'http://www.wikidata.org/prop/direct/P1814')]\n",
      "[('name', 'official website'), ('ret', 'http://www.wikidata.org/prop/direct/P856')]\n"
     ]
    },
    {
     "data": {
      "text/plain": [
       "20"
      ]
     },
     "execution_count": 23,
     "metadata": {},
     "output_type": "execute_result"
    }
   ],
   "source": [
    "# Book properties (I use book and written work)\n",
    "queryString = \"\"\"\n",
    "SELECT distinct ?name ?ret\n",
    "where{\n",
    "    wd:Q214642 wdt:P800 ?obj .\n",
    "    ?obj ?x ?book .\n",
    "    ?obj ?ret ?z . \n",
    "    ?ret <http://schema.org/name> ?name .\n",
    "    filter(!regex(?name, \"ID\"))\n",
    "    filter(?book=wd:Q571 ||?book=wd:Q47461344)\n",
    "}\n",
    "\"\"\"\n",
    "\n",
    "print(\"Results\")\n",
    "run_query(queryString)"
   ]
  },
  {
   "cell_type": "code",
   "execution_count": 24,
   "id": "dfd799cf-cadf-46c9-8972-49cd65cac1c5",
   "metadata": {},
   "outputs": [
    {
     "name": "stdout",
     "output_type": "stream",
     "text": [
      "Results\n",
      "[('name', 'The New York Trilogy'), ('pubdate', '1987-01-01T00:00:00Z'), ('genres', 'novel, mystery fiction')]\n",
      "[('name', 'Leviathan'), ('pubdate', '1992-01-01T00:00:00Z'), ('genres', 'crime novel, detective fiction, hardboiled')]\n",
      "[('name', 'The Book of Illusions'), ('pubdate', '2002-01-01T00:00:00Z'), ('genres', 'novel, novel')]\n",
      "[('name', 'Mr. Vertigo'), ('pubdate', '1994-04-05T00:00:00Z'), ('genres', 'novel')]\n",
      "[('name', 'The Brooklyn Follies'), ('pubdate', '2005-01-01T00:00:00Z'), ('genres', 'novel')]\n",
      "[('name', 'The New York Trilogy'), ('pubdate', '1987-01-01T00:00:00Z'), ('genres', 'novel, mystery fiction')]\n",
      "[('name', 'Leviathan'), ('pubdate', '1992-01-01T00:00:00Z'), ('genres', 'crime novel, detective fiction, hardboiled')]\n",
      "[('name', 'The Music of Chance'), ('pubdate', '1990-01-01T00:00:00Z'), ('genres', 'novel, hardboiled')]\n",
      "[('name', 'Invisible'), ('pubdate', '2009-01-01T00:00:00Z'), ('genres', 'novel')]\n",
      "[('name', 'The Book of Illusions'), ('pubdate', '2002-01-01T00:00:00Z'), ('genres', 'novel, novel')]\n",
      "[('name', 'In the Country of Last Things'), ('pubdate', '1987-01-01T00:00:00Z'), ('genres', 'epistolary novel, science fiction novel, dystopian novel')]\n",
      "[('name', 'Travels in the Scriptorium'), ('pubdate', '2006-01-01T00:00:00Z'), ('genres', 'novel')]\n",
      "[('name', 'Sunset Park'), ('pubdate', '2010-01-01T00:00:00Z'), ('genres', 'novel')]\n",
      "[('name', 'Timbuktu'), ('pubdate', '1999-05-01T00:00:00Z'), ('genres', 'novel, novella')]\n",
      "[('name', 'Oracle Night'), ('pubdate', '2003-01-01T00:00:00Z'), ('genres', 'novel')]\n"
     ]
    },
    {
     "data": {
      "text/plain": [
       "15"
      ]
     },
     "execution_count": 24,
     "metadata": {},
     "output_type": "execute_result"
    }
   ],
   "source": [
    "# Paul Auster's books\n",
    "queryString = \"\"\"\n",
    "SELECT * where{\n",
    "{SELECT distinct ?name ?pubdate (group_concat(?genre;separator=\", \") as ?genres)\n",
    "where{\n",
    "    wd:Q214642 wdt:P800 ?obj .\n",
    "    ?obj wdt:P31 ?book .\n",
    "    ?obj wdt:P136 ?genre1 .\n",
    "    ?obj wdt:P577 ?pubdate .\n",
    "    ?obj wdt:P1476 ?name .\n",
    "    filter(?book=wd:Q571 ||?book=wd:Q47461344)\n",
    "    ?genre1 <http://schema.org/name> ?genre .\n",
    "} group by ?name ?pubdate}\n",
    "UNION{\n",
    "SELECT distinct ?name ?pubdate (group_concat(?genre;separator=\", \") as ?genres)\n",
    "where{\n",
    "    ?obj wdt:P31 ?book .\n",
    "    ?obj ?x wd:Q214642 .\n",
    "    ?obj wdt:P136 ?genre1 .\n",
    "    ?obj wdt:P577 ?pubdate .\n",
    "    ?obj wdt:P1476 ?name .\n",
    "    filter(?book=wd:Q571 ||?book=wd:Q47461344)\n",
    "    ?genre1 <http://schema.org/name> ?genre .\n",
    "\n",
    "}group by ?name ?pubdate}\n",
    "\n",
    "}\n",
    "\"\"\"\n",
    "\n",
    "print(\"Results\")\n",
    "run_query(queryString)"
   ]
  },
  {
   "cell_type": "code",
   "execution_count": 25,
   "id": "aaa99d54-c96b-4630-8387-328f3c321d8c",
   "metadata": {},
   "outputs": [
    {
     "name": "stdout",
     "output_type": "stream",
     "text": [
      "Results\n",
      "[('name', 'The Cement Garden'), ('pubdate', '1978-01-01T00:00:00Z'), ('genres', 'novel')]\n",
      "[('name', 'The Comfort of Strangers'), ('pubdate', '1981-01-01T00:00:00Z'), ('genres', 'novel')]\n",
      "[('name', 'The Child in Time'), ('pubdate', '1987-01-01T00:00:00Z'), ('genres', 'novel')]\n",
      "[('name', 'The New York Trilogy'), ('pubdate', '1987-01-01T00:00:00Z'), ('genres', 'novel, mystery fiction')]\n",
      "[('name', 'In the Country of Last Things'), ('pubdate', '1987-01-01T00:00:00Z'), ('genres', 'epistolary novel, science fiction novel, dystopian novel')]\n",
      "[('name', 'The Music of Chance'), ('pubdate', '1990-01-01T00:00:00Z'), ('genres', 'novel, hardboiled')]\n",
      "[('name', 'Leviathan'), ('pubdate', '1992-01-01T00:00:00Z'), ('genres', 'crime novel, detective fiction, hardboiled')]\n",
      "[('name', 'Black Dogs'), ('pubdate', '1992-07-01T00:00:00Z'), ('genres', 'novel')]\n",
      "[('name', 'Mr. Vertigo'), ('pubdate', '1994-04-05T00:00:00Z'), ('genres', 'novel')]\n",
      "[('name', 'Enduring Love'), ('pubdate', '1997-01-01T00:00:00Z'), ('genres', 'novel')]\n",
      "[('name', 'Amsterdam'), ('pubdate', '1998-12-01T00:00:00Z'), ('genres', 'novel')]\n",
      "[('name', 'Timbuktu'), ('pubdate', '1999-05-01T00:00:00Z'), ('genres', 'novel, novella')]\n",
      "[('name', 'Atonement'), ('pubdate', '2001-01-01T00:00:00Z'), ('genres', 'novel')]\n",
      "[('name', 'The Book of Illusions'), ('pubdate', '2002-01-01T00:00:00Z'), ('genres', 'novel, novel')]\n",
      "[('name', 'Oracle Night'), ('pubdate', '2003-01-01T00:00:00Z'), ('genres', 'novel')]\n",
      "[('name', 'Saturday'), ('pubdate', '2005-01-01T00:00:00Z'), ('genres', 'novel')]\n",
      "[('name', 'The Brooklyn Follies'), ('pubdate', '2005-01-01T00:00:00Z'), ('genres', 'novel')]\n",
      "[('name', 'Travels in the Scriptorium'), ('pubdate', '2006-01-01T00:00:00Z'), ('genres', 'novel')]\n",
      "[('name', 'On Chesil Beach'), ('pubdate', '2007-01-01T00:00:00Z'), ('genres', 'novel')]\n",
      "[('name', 'Invisible'), ('pubdate', '2009-01-01T00:00:00Z'), ('genres', 'novel')]\n",
      "[('name', 'Sunset Park'), ('pubdate', '2010-01-01T00:00:00Z'), ('genres', 'novel')]\n",
      "[('name', 'Solar'), ('pubdate', '2010-03-18T00:00:00Z'), ('genres', 'novel')]\n",
      "[('name', 'Sweet Tooth'), ('pubdate', '2012-01-01T00:00:00Z'), ('genres', 'novel')]\n"
     ]
    },
    {
     "data": {
      "text/plain": [
       "23"
      ]
     },
     "execution_count": 25,
     "metadata": {},
     "output_type": "execute_result"
    }
   ],
   "source": [
    "# ANSWER to 1\n",
    "queryString = \"\"\"\n",
    "SELECT distinct ?name ?pubdate ?genres where{\n",
    "{SELECT distinct ?name ?pubdate (group_concat(?genre;separator=\", \") as ?genres)\n",
    "where{\n",
    "    wd:Q190379 wdt:P800 ?obj .\n",
    "    ?obj wdt:P31 ?book .\n",
    "    ?obj wdt:P136 ?genre1 .\n",
    "    ?obj wdt:P577 ?pubdate .\n",
    "    ?obj wdt:P1476 ?name .\n",
    "    ?genre1 <http://schema.org/name> ?genre .\n",
    "    filter(?book=wd:Q571 ||?book=wd:Q47461344)\n",
    "} group by ?name ?pubdate}\n",
    "UNION{\n",
    "SELECT distinct ?name ?pubdate (group_concat(?genre;separator=\", \") as ?genres)\n",
    "where{\n",
    "    ?obj wdt:P31 ?book .\n",
    "    ?obj ?x wd:Q190379  .\n",
    "    ?obj wdt:P136 ?genre1 .\n",
    "    ?obj wdt:P577 ?pubdate .\n",
    "    ?obj wdt:P1476 ?name .\n",
    "    ?genre1 <http://schema.org/name> ?genre .\n",
    "    filter(?book=wd:Q571 ||?book=wd:Q47461344)\n",
    "}group by ?name ?pubdate}\n",
    "UNION\n",
    "{SELECT distinct ?name ?pubdate (group_concat(?genre;separator=\", \") as ?genres)\n",
    "where{\n",
    "    wd:Q214642 wdt:P800 ?obj .\n",
    "    ?obj wdt:P31 ?book .\n",
    "    ?obj wdt:P136 ?genre1 .\n",
    "    ?obj wdt:P577 ?pubdate .\n",
    "    ?obj wdt:P1476 ?name .\n",
    "    ?genre1 <http://schema.org/name> ?genre .\n",
    "    filter(?book=wd:Q571 ||?book=wd:Q47461344)\n",
    "} group by ?name ?pubdate}\n",
    "UNION{\n",
    "SELECT distinct ?name ?pubdate (group_concat(?genre;separator=\", \") as ?genres)\n",
    "where{\n",
    "    ?obj wdt:P31 ?book .\n",
    "    ?obj ?x wd:Q214642 .\n",
    "    ?obj wdt:P136 ?genre1 .\n",
    "    ?obj wdt:P577 ?pubdate .\n",
    "    ?obj wdt:P1476 ?name .\n",
    "    ?genre1 <http://schema.org/name> ?genre .\n",
    "    filter(?book=wd:Q571 ||?book=wd:Q47461344)\n",
    "\n",
    "}group by ?name ?pubdate}\n",
    "\n",
    "}order by ?pubdate\n",
    "\n",
    "\n",
    "\n",
    "\"\"\"\n",
    "\n",
    "print(\"Results\")\n",
    "run_query(queryString)"
   ]
  },
  {
   "cell_type": "markdown",
   "id": "7614666b-a7bc-42e8-8c3f-02582f55d6c4",
   "metadata": {},
   "source": [
    "***\n",
    "\n",
    "# Task 2\n",
    "\n",
    "*Did the authors published a book in the same year? What is the longest period without publishing a book for the two authors?*\n"
   ]
  },
  {
   "cell_type": "code",
   "execution_count": 26,
   "id": "04eb1aa6-2ff9-4c1f-8285-724307f38d36",
   "metadata": {},
   "outputs": [
    {
     "name": "stdout",
     "output_type": "stream",
     "text": [
      "Results\n"
     ]
    },
    {
     "data": {
      "text/plain": [
       "{'head': {'link': []}, 'boolean': True}"
      ]
     },
     "execution_count": 26,
     "metadata": {},
     "output_type": "execute_result"
    }
   ],
   "source": [
    "# Doesn't work with year(date)\n",
    "queryString = \"\"\"\n",
    "ASK WHERE{\n",
    "\n",
    "SELECT distinct count(?name) ?sss where{\n",
    "{SELECT distinct ?name ?sss (group_concat(?genre;separator=\", \") as ?genres)\n",
    "where{\n",
    "    wd:Q190379 wdt:P800 ?obj .\n",
    "    ?obj wdt:P31 ?book .\n",
    "    ?obj wdt:P136 ?genre1 .\n",
    "    ?obj wdt:P577 ?pubdate .\n",
    "    ?obj wdt:P1476 ?name .\n",
    "    ?genre1 <http://schema.org/name> ?genre .\n",
    "    filter(?book=wd:Q571 ||?book=wd:Q47461344)\n",
    "    bind (substr(str(?pubdate),1,4) as ?sss)\n",
    "} group by ?name ?sss}\n",
    "UNION{\n",
    "SELECT distinct ?name ?sss (group_concat(?genre;separator=\", \") as ?genres)\n",
    "where{\n",
    "    ?obj wdt:P31 ?book .\n",
    "    ?obj ?x wd:Q190379  .\n",
    "    ?obj wdt:P136 ?genre1 .\n",
    "    ?obj wdt:P577 ?pubdate .\n",
    "    ?obj wdt:P1476 ?name .\n",
    "    ?genre1 <http://schema.org/name> ?genre .\n",
    "    filter(?book=wd:Q571 ||?book=wd:Q47461344)\n",
    "    bind (substr(str(?pubdate),1,4) as ?sss)\n",
    "}group by ?name ?sss}\n",
    "UNION\n",
    "{SELECT distinct ?name ?sss (group_concat(?genre;separator=\", \") as ?genres)\n",
    "where{\n",
    "    wd:Q214642 wdt:P800 ?obj .\n",
    "    ?obj wdt:P31 ?book .\n",
    "    ?obj wdt:P136 ?genre1 .\n",
    "    ?obj wdt:P577 ?pubdate .\n",
    "    ?obj wdt:P1476 ?name .\n",
    "    ?genre1 <http://schema.org/name> ?genre .\n",
    "    filter(?book=wd:Q571 ||?book=wd:Q47461344)\n",
    "    bind (substr(str(?pubdate),1,4) as ?sss)\n",
    "} group by ?name ?sss}\n",
    "UNION{\n",
    "SELECT distinct ?name ?sss (group_concat(?genre;separator=\", \") as ?genres)\n",
    "where{\n",
    "    ?obj wdt:P31 ?book .\n",
    "    ?obj ?x wd:Q214642 .\n",
    "    ?obj wdt:P136 ?genre1 .\n",
    "    ?obj wdt:P577 ?pubdate .\n",
    "    ?obj wdt:P1476 ?name .\n",
    "    ?genre1 <http://schema.org/name> ?genre .\n",
    "    filter(?book=wd:Q571 ||?book=wd:Q47461344)\n",
    "    bind (substr(str(?pubdate),1,4) as ?sss)\n",
    "}group by ?name ?sss}\n",
    "\n",
    "} group by ?sss\n",
    "having(count(?name)>1)\n",
    "\n",
    "}\n",
    "\"\"\"\n",
    "#filter(substr(str(?pubdate),1,4)=substr(str(?pubdate1),1,4))\n",
    "\n",
    "print(\"Results\")\n",
    "run_ask_query(queryString)"
   ]
  },
  {
   "cell_type": "code",
   "execution_count": 27,
   "id": "aa64b35a-489c-45fa-a3f7-e6b5dfcf75c3",
   "metadata": {},
   "outputs": [
    {
     "name": "stdout",
     "output_type": "stream",
     "text": [
      "Results\n",
      "[('callret-0', '2'), ('sss', '1978')]\n",
      "[('callret-0', '4'), ('sss', '1987')]\n",
      "[('callret-0', '3'), ('sss', '1992')]\n",
      "[('callret-0', '2'), ('sss', '2001')]\n",
      "[('callret-0', '2'), ('sss', '2002')]\n",
      "[('callret-0', '2'), ('sss', '2005')]\n",
      "[('callret-0', '2'), ('sss', '2010')]\n"
     ]
    },
    {
     "data": {
      "text/plain": [
       "7"
      ]
     },
     "execution_count": 27,
     "metadata": {},
     "output_type": "execute_result"
    }
   ],
   "source": [
    "# Same a s before but without the ask query\n",
    "queryString = \"\"\"\n",
    "\n",
    "SELECT distinct count(?name) ?sss where{\n",
    "{SELECT distinct ?name ?sss (group_concat(?genre;separator=\", \") as ?genres)\n",
    "where{\n",
    "    wd:Q190379 wdt:P800 ?obj .\n",
    "    ?obj wdt:P31 ?book .\n",
    "    ?obj wdt:P136 ?genre1 .\n",
    "    ?obj wdt:P577 ?pubdate .\n",
    "    ?obj wdt:P1476 ?name .\n",
    "    ?genre1 <http://schema.org/name> ?genre .\n",
    "    filter(?book=wd:Q571 ||?book=wd:Q47461344)\n",
    "    bind (substr(str(?pubdate),1,4) as ?sss)\n",
    "} group by ?name ?sss}\n",
    "UNION{\n",
    "SELECT distinct ?name ?sss (group_concat(?genre;separator=\", \") as ?genres)\n",
    "where{\n",
    "    ?obj wdt:P31 ?book .\n",
    "    ?obj ?x wd:Q190379  .\n",
    "    ?obj wdt:P136 ?genre1 .\n",
    "    ?obj wdt:P577 ?pubdate .\n",
    "    ?obj wdt:P1476 ?name .\n",
    "    ?genre1 <http://schema.org/name> ?genre .\n",
    "    filter(?book=wd:Q571 ||?book=wd:Q47461344)\n",
    "    bind (substr(str(?pubdate),1,4) as ?sss)\n",
    "}group by ?name ?sss}\n",
    "UNION\n",
    "{SELECT distinct ?name ?sss (group_concat(?genre;separator=\", \") as ?genres)\n",
    "where{\n",
    "    wd:Q214642 wdt:P800 ?obj .\n",
    "    ?obj wdt:P31 ?book .\n",
    "    ?obj wdt:P136 ?genre1 .\n",
    "    ?obj wdt:P577 ?pubdate .\n",
    "    ?obj wdt:P1476 ?name .\n",
    "    ?genre1 <http://schema.org/name> ?genre .\n",
    "    filter(?book=wd:Q571 ||?book=wd:Q47461344)\n",
    "    bind (substr(str(?pubdate),1,4) as ?sss)\n",
    "} group by ?name ?sss}\n",
    "UNION{\n",
    "SELECT distinct ?name ?sss (group_concat(?genre;separator=\", \") as ?genres)\n",
    "where{\n",
    "    ?obj wdt:P31 ?book .\n",
    "    ?obj ?x wd:Q214642 .\n",
    "    ?obj wdt:P136 ?genre1 .\n",
    "    ?obj wdt:P577 ?pubdate .\n",
    "    ?obj wdt:P1476 ?name .\n",
    "    ?genre1 <http://schema.org/name> ?genre .\n",
    "    filter(?book=wd:Q571 ||?book=wd:Q47461344)\n",
    "    bind (substr(str(?pubdate),1,4) as ?sss)\n",
    "}group by ?name ?sss}\n",
    "\n",
    "} group by ?sss\n",
    "having(count(?name)>1)\n",
    "order by ?sss\n",
    "\n",
    "\"\"\"\n",
    "\n",
    "print(\"Results\")\n",
    "run_query(queryString)"
   ]
  },
  {
   "cell_type": "code",
   "execution_count": 9,
   "id": "084f4580-ae08-434f-a3df-7b907df2bed6",
   "metadata": {},
   "outputs": [
    {
     "name": "stdout",
     "output_type": "stream",
     "text": [
      "Results\n",
      "[('name', 'The New York Trilogy'), ('sss', '1987')]\n",
      "[('name', 'In the Country of Last Things'), ('sss', '1987')]\n",
      "[('name', 'The Music of Chance'), ('sss', '1990')]\n",
      "[('name', 'Leviathan'), ('sss', '1992')]\n",
      "[('name', 'Mr. Vertigo'), ('sss', '1994')]\n",
      "[('name', 'Timbuktu'), ('sss', '1999')]\n",
      "[('name', 'The Book of Illusions'), ('sss', '2002')]\n",
      "[('name', 'Oracle Night'), ('sss', '2003')]\n",
      "[('name', 'The Brooklyn Follies'), ('sss', '2005')]\n",
      "[('name', 'Travels in the Scriptorium'), ('sss', '2006')]\n",
      "[('name', 'Invisible'), ('sss', '2009')]\n",
      "[('name', 'Sunset Park'), ('sss', '2010')]\n"
     ]
    },
    {
     "data": {
      "text/plain": [
       "12"
      ]
     },
     "execution_count": 9,
     "metadata": {},
     "output_type": "execute_result"
    }
   ],
   "source": [
    "# Doesn't work with year(date)\n",
    "queryString = \"\"\"\n",
    "\n",
    "\n",
    "SELECT distinct ?name ?sss where{\n",
    "\n",
    "{SELECT distinct ?name ?sss (group_concat(?genre;separator=\", \") as ?genres)\n",
    "where{\n",
    "    wd:Q214642 wdt:P800 ?obj .\n",
    "    ?obj wdt:P31 ?book .\n",
    "    ?obj wdt:P136 ?genre1 .\n",
    "    ?obj wdt:P577 ?pubdate .\n",
    "    ?obj wdt:P1476 ?name .\n",
    "    ?genre1 <http://schema.org/name> ?genre .\n",
    "    filter(?book=wd:Q571 ||?book=wd:Q47461344)\n",
    "    bind (substr(str(?pubdate),1,4) as ?sss)\n",
    "} group by ?name ?sss}\n",
    "UNION{\n",
    "SELECT distinct ?name ?sss (group_concat(?genre;separator=\", \") as ?genres)\n",
    "where{\n",
    "    ?obj wdt:P31 ?book .\n",
    "    ?obj ?x wd:Q214642 .\n",
    "    ?obj wdt:P136 ?genre1 .\n",
    "    ?obj wdt:P577 ?pubdate .\n",
    "    ?obj wdt:P1476 ?name .\n",
    "    ?genre1 <http://schema.org/name> ?genre .\n",
    "    filter(?book=wd:Q571 ||?book=wd:Q47461344)\n",
    "    bind (substr(str(?pubdate),1,4) as ?sss)\n",
    "}group by ?name ?sss}\n",
    "\n",
    "} order by ?sss\n",
    "\n",
    "\n",
    "\n",
    "\"\"\"\n",
    "\n",
    "print(\"Results\")\n",
    "run_query(queryString)"
   ]
  },
  {
   "cell_type": "code",
   "execution_count": 10,
   "id": "d1cad25a-7cce-4e21-9f3f-37221f6d31f2",
   "metadata": {},
   "outputs": [
    {
     "name": "stdout",
     "output_type": "stream",
     "text": [
      "Results\n",
      "[('name', 'The Cement Garden'), ('sss', '1978')]\n",
      "[('name', 'The Comfort of Strangers'), ('sss', '1981')]\n",
      "[('name', 'The Child in Time'), ('sss', '1987')]\n",
      "[('name', 'Black Dogs'), ('sss', '1992')]\n",
      "[('name', 'Enduring Love'), ('sss', '1997')]\n",
      "[('name', 'Amsterdam'), ('sss', '1998')]\n",
      "[('name', 'Atonement'), ('sss', '2001')]\n",
      "[('name', 'Saturday'), ('sss', '2005')]\n",
      "[('name', 'On Chesil Beach'), ('sss', '2007')]\n",
      "[('name', 'Solar'), ('sss', '2010')]\n",
      "[('name', 'Sweet Tooth'), ('sss', '2012')]\n"
     ]
    },
    {
     "data": {
      "text/plain": [
       "11"
      ]
     },
     "execution_count": 10,
     "metadata": {},
     "output_type": "execute_result"
    }
   ],
   "source": [
    "queryString = \"\"\"\n",
    "SELECT distinct ?name ?sss where{\n",
    "{SELECT distinct ?name ?sss (group_concat(?genre;separator=\", \") as ?genres)\n",
    "where{\n",
    "    wd:Q190379 wdt:P800 ?obj .\n",
    "    ?obj wdt:P31 ?book .\n",
    "    ?obj wdt:P136 ?genre1 .\n",
    "    ?obj wdt:P577 ?pubdate .\n",
    "    ?obj wdt:P1476 ?name .\n",
    "    ?genre1 <http://schema.org/name> ?genre .\n",
    "    filter(?book=wd:Q571 ||?book=wd:Q47461344)\n",
    "    bind (substr(str(?pubdate),1,4) as ?sss)\n",
    "} group by ?name ?sss}\n",
    "UNION{\n",
    "SELECT distinct ?name ?sss (group_concat(?genre;separator=\", \") as ?genres)\n",
    "where{\n",
    "    ?obj wdt:P31 ?book .\n",
    "    ?obj ?x wd:Q190379  .\n",
    "    ?obj wdt:P136 ?genre1 .\n",
    "    ?obj wdt:P577 ?pubdate .\n",
    "    ?obj wdt:P1476 ?name .\n",
    "    ?genre1 <http://schema.org/name> ?genre .\n",
    "    filter(?book=wd:Q571 ||?book=wd:Q47461344)\n",
    "    bind (substr(str(?pubdate),1,4) as ?sss)\n",
    "}group by ?name ?sss}\n",
    "\n",
    "} order by ?sss\n",
    "\"\"\"\n",
    "\n",
    "print(\"Results\")\n",
    "run_query(queryString)"
   ]
  },
  {
   "cell_type": "markdown",
   "id": "0f03603c-72eb-4032-98a5-0930ad85c77e",
   "metadata": {},
   "source": [
    "The longest periods without publishing a book for the two authors are respectively between 1981 and 1987 for Ian McEwan and between 1994 and 1999 for Paul Auster"
   ]
  },
  {
   "cell_type": "markdown",
   "id": "55d1f63e-2c24-445e-8f41-4442582e2b70",
   "metadata": {},
   "source": [
    "***\n",
    "\n",
    "# Task 3\n",
    "\n",
    "*Did the authors produced, acted or directed a film? If so, did they write the screenplay?*"
   ]
  },
  {
   "cell_type": "code",
   "execution_count": 28,
   "id": "19b1b4de-e1e5-4cee-af3d-b3209062e7cf",
   "metadata": {},
   "outputs": [
    {
     "name": "stdout",
     "output_type": "stream",
     "text": [
      "Results\n",
      "[('name', 'The New York Trilogy'), ('name2', 'book series')]\n",
      "[('name', 'The New York Trilogy'), ('name2', 'written work')]\n",
      "[('name', 'The Book of Illusions'), ('name2', 'written work')]\n",
      "[('name', 'Leviathan'), ('name2', 'written work')]\n",
      "[('name', 'Man in the Dark'), ('name2', 'written work')]\n",
      "[('name', 'The Book of Illusions'), ('name2', 'book')]\n"
     ]
    },
    {
     "data": {
      "text/plain": [
       "6"
      ]
     },
     "execution_count": 28,
     "metadata": {},
     "output_type": "execute_result"
    }
   ],
   "source": [
    "# Paul Auster notable work (same for Ian McEwan)\n",
    "queryString = \"\"\"\n",
    "SELECT ?name ?name2\n",
    "where{\n",
    "    wd:Q214642 wdt:P800 ?p .\n",
    "    ?p wdt:P31 ?n .\n",
    "    ?p <http://schema.org/name> ?name .\n",
    "    ?n <http://schema.org/name> ?name2 .\n",
    "    \n",
    "} \n",
    "\"\"\"\n",
    "\n",
    "print(\"Results\")\n",
    "run_query(queryString)"
   ]
  },
  {
   "cell_type": "code",
   "execution_count": 54,
   "id": "aa193aee-f4e5-45a6-b195-33bc08a12e8b",
   "metadata": {},
   "outputs": [
    {
     "name": "stdout",
     "output_type": "stream",
     "text": [
      "Results\n",
      "[('name', 'publisher')]\n",
      "[('name', 'genre')]\n",
      "[('name', 'title')]\n",
      "[('name', 'follows')]\n",
      "[('name', 'award received')]\n",
      "[('name', 'image')]\n",
      "[('name', 'different from')]\n",
      "[('name', 'OCLC control number')]\n",
      "[('name', 'instance of')]\n",
      "[('name', 'language of work or name')]\n",
      "[('name', 'country of origin')]\n",
      "[('name', 'derivative work')]\n",
      "[('name', 'author')]\n",
      "[('name', 'publication date')]\n",
      "[('name', 'has edition or translation')]\n",
      "[('name', 'main subject')]\n",
      "[('name', 'ISBN-13')]\n",
      "[('name', 'ISBN-10')]\n"
     ]
    },
    {
     "data": {
      "text/plain": [
       "18"
      ]
     },
     "execution_count": 54,
     "metadata": {},
     "output_type": "execute_result"
    }
   ],
   "source": [
    "# They wrote only books (notable) aparently but let's find if the book are related to films. Dead end\n",
    "queryString = \"\"\"\n",
    "SELECT distinct ?name \n",
    "where{\n",
    "      wd:Q190379  wdt:P800 ?p .\n",
    "    ?p ?x ?y .\n",
    "    ?x <http://schema.org/name> ?name .\n",
    "      filter(!regex(?name, \"ID\")) \n",
    "} \n",
    "\"\"\"\n",
    "\n",
    "print(\"Results\")\n",
    "run_query(queryString)"
   ]
  },
  {
   "cell_type": "code",
   "execution_count": 56,
   "id": "ab5be482-7d9e-4bce-9cfd-509ca25c2e49",
   "metadata": {},
   "outputs": [
    {
     "name": "stdout",
     "output_type": "stream",
     "text": [
      "Results\n",
      "Empty\n"
     ]
    },
    {
     "data": {
      "text/plain": [
       "0"
      ]
     },
     "execution_count": 56,
     "metadata": {},
     "output_type": "execute_result"
    }
   ],
   "source": [
    "# Maybe they did films that are not related to their books. Going back to the authors properties there is \"occupation\" and \"field of work\" that can help\n",
    "queryString = \"\"\"\n",
    "SELECT distinct ?name \n",
    "where{\n",
    "      wd:Q190379 wdt:P101 ?p .\n",
    "      ?p <http://schema.org/name> ?name .\n",
    "} \n",
    "\"\"\"\n",
    "# I checked the 2 properties for the other author and apparently it has only one of the 2 (so \"occupation\" is what i need)\n",
    "print(\"Results\")\n",
    "run_query(queryString)"
   ]
  },
  {
   "cell_type": "code",
   "execution_count": 58,
   "id": "dcf49cdf-ced8-4a72-af92-be5876c39229",
   "metadata": {},
   "outputs": [
    {
     "name": "stdout",
     "output_type": "stream",
     "text": [
      "Results\n",
      "[('name', 'playwright')]\n",
      "[('name', 'screenwriter')]\n",
      "[('name', 'film producer')]\n",
      "[('name', 'writer')]\n",
      "[('name', 'author')]\n",
      "[('name', 'novelist')]\n"
     ]
    },
    {
     "data": {
      "text/plain": [
       "6"
      ]
     },
     "execution_count": 58,
     "metadata": {},
     "output_type": "execute_result"
    }
   ],
   "source": [
    "# Check for Ian McEwan\n",
    "\n",
    "queryString = \"\"\"\n",
    "SELECT distinct ?name \n",
    "where{\n",
    "      wd:Q190379 wdt:P106 ?p .\n",
    "      ?p <http://schema.org/name> ?name .\n",
    "} \n",
    "\"\"\"\n",
    "\n",
    "print(\"Results\")\n",
    "run_query(queryString)"
   ]
  },
  {
   "cell_type": "code",
   "execution_count": 59,
   "id": "0c0d2ebb-2e2c-493d-be07-fd443a86b001",
   "metadata": {},
   "outputs": [
    {
     "name": "stdout",
     "output_type": "stream",
     "text": [
      "Results\n",
      "[('name', 'essayist')]\n",
      "[('name', 'linguist')]\n",
      "[('name', 'university teacher')]\n",
      "[('name', 'autobiographer')]\n",
      "[('name', 'film director')]\n",
      "[('name', 'screenwriter')]\n",
      "[('name', 'translator')]\n",
      "[('name', 'writer')]\n",
      "[('name', 'author')]\n",
      "[('name', 'poet')]\n",
      "[('name', 'novelist')]\n"
     ]
    },
    {
     "data": {
      "text/plain": [
       "11"
      ]
     },
     "execution_count": 59,
     "metadata": {},
     "output_type": "execute_result"
    }
   ],
   "source": [
    "# Check for Paul Auster\n",
    "queryString = \"\"\"\n",
    "SELECT distinct ?name \n",
    "where{\n",
    "      wd:Q214642 wdt:P106 ?p .\n",
    "      ?p <http://schema.org/name> ?name .\n",
    "} \n",
    "\"\"\"\n",
    "# so they both produced and screenwritten a film (I have to check if they did both things in the same film)\n",
    "print(\"Results\")\n",
    "run_query(queryString)"
   ]
  },
  {
   "cell_type": "code",
   "execution_count": 2,
   "id": "d407af47-2754-4caf-8391-d5eda93194f2",
   "metadata": {},
   "outputs": [
    {
     "name": "stdout",
     "output_type": "stream",
     "text": [
      "Results\n",
      "[('name', 'VIAF ID'), ('p', 'http://www.wikidata.org/entity/P214')]\n",
      "[('name', 'language of work or name'), ('p', 'http://www.wikidata.org/entity/P407')]\n",
      "[('name', 'creative work'), ('p', 'http://www.wikidata.org/entity/Q17537576')]\n",
      "[('name', 'literary work'), ('p', 'http://www.wikidata.org/entity/Q7725634')]\n",
      "[('name', 'version, edition, or translation'), ('p', 'http://www.wikidata.org/entity/Q3331189')]\n",
      "[('name', 'book'), ('p', 'http://www.wikidata.org/entity/Q571')]\n",
      "[('name', 'writing system'), ('p', 'http://www.wikidata.org/entity/Q8192')]\n",
      "[('name', 'genre'), ('p', 'http://www.wikidata.org/entity/P136')]\n",
      "[('name', 'Category:Written works'), ('p', 'http://www.wikidata.org/entity/Q10013893')]\n",
      "[('name', 'volume'), ('p', 'http://www.wikidata.org/entity/Q105763458')]\n"
     ]
    },
    {
     "data": {
      "text/plain": [
       "10"
      ]
     },
     "execution_count": 2,
     "metadata": {},
     "output_type": "execute_result"
    }
   ],
   "source": [
    "# I have to find a way to get the node \"film\". Writtenwork probably is the instance of a more general \"work of art\" \n",
    "queryString = \"\"\"\n",
    "SELECT distinct ?name  ?p\n",
    "where{\n",
    "      wd:Q47461344 ?x ?p .\n",
    "      ?p <http://schema.org/name> ?name .\n",
    "} \n",
    "\"\"\"\n",
    "print(\"Results\")\n",
    "run_query(queryString)"
   ]
  },
  {
   "cell_type": "code",
   "execution_count": 5,
   "id": "18fc6c59-074b-4a19-b1c3-89d9116c23c1",
   "metadata": {},
   "outputs": [
    {
     "name": "stdout",
     "output_type": "stream",
     "text": [
      "Results\n",
      "[('name', 'Abraham Lincoln (film)'), ('p', 'http://www.wikidata.org/entity/Q42184819')]\n",
      "[('name', 'History: The Home Movie'), ('p', 'http://www.wikidata.org/entity/Q42191130')]\n",
      "[('name', 'Film'), ('p', 'http://www.wikidata.org/entity/Q42189922')]\n",
      "[('name', 'Film School'), ('p', 'http://www.wikidata.org/entity/Q106995115')]\n",
      "[('name', 'Painting, Photography, Film'), ('p', 'http://www.wikidata.org/entity/Q42192605')]\n"
     ]
    },
    {
     "data": {
      "text/plain": [
       "5"
      ]
     },
     "execution_count": 5,
     "metadata": {},
     "output_type": "execute_result"
    }
   ],
   "source": [
    "# Creative work is probably what i need. Check for something about films and movies\n",
    "queryString = \"\"\"\n",
    "SELECT distinct ?name  ?p\n",
    "where{\n",
    "    ?p ?x wd:Q17537576.\n",
    "    ?p <http://schema.org/name> ?name .\n",
    "    filter(regex(lcase(str(?name)),\"film\") || regex(lcase(str(?name)),\"movie\"))\n",
    "} \n",
    "\n",
    "\"\"\"\n",
    "print(\"Results\")\n",
    "run_query(queryString)"
   ]
  },
  {
   "cell_type": "code",
   "execution_count": 7,
   "id": "fb24d674-6f3a-4498-a032-3a8b15420830",
   "metadata": {},
   "outputs": [
    {
     "name": "stdout",
     "output_type": "stream",
     "text": [
      "Results\n",
      "Empty\n"
     ]
    },
    {
     "data": {
      "text/plain": [
       "0"
      ]
     },
     "execution_count": 7,
     "metadata": {},
     "output_type": "execute_result"
    }
   ],
   "source": [
    "# properties that enter film\n",
    "queryString = \"\"\"\n",
    "SELECT distinct ?name ?x\n",
    "where{\n",
    "    ?p ?x wd:Q42189922 .\n",
    "    ?x <http://schema.org/name> ?name .\n",
    "    \n",
    "} \n",
    "\n",
    "\"\"\"\n",
    "print(\"Results\")\n",
    "run_query(queryString)"
   ]
  },
  {
   "cell_type": "code",
   "execution_count": 8,
   "id": "166e9b05-b45e-48eb-9a2a-ec7523b75348",
   "metadata": {},
   "outputs": [
    {
     "name": "stdout",
     "output_type": "stream",
     "text": [
      "Results\n",
      "[('name', 'author name string'), ('x', 'http://www.wikidata.org/prop/direct/P2093')]\n",
      "[('name', 'Encyclopædia Britannica Online ID'), ('x', 'http://www.wikidata.org/prop/direct/P1417')]\n",
      "[('name', 'instance of'), ('x', 'http://www.wikidata.org/prop/direct/P31')]\n"
     ]
    },
    {
     "data": {
      "text/plain": [
       "3"
      ]
     },
     "execution_count": 8,
     "metadata": {},
     "output_type": "execute_result"
    }
   ],
   "source": [
    "# Something is wrong, properties that exits film\n",
    "queryString = \"\"\"\n",
    "SELECT distinct ?name ?x\n",
    "where{\n",
    "    wd:Q42189922 ?x ?p.\n",
    "    ?x <http://schema.org/name> ?name .\n",
    "} \n",
    "\n",
    "\"\"\"\n",
    "print(\"Results\")\n",
    "run_query(queryString)"
   ]
  },
  {
   "cell_type": "markdown",
   "id": "f2215ad1-5245-4b27-8ea1-7285123390c4",
   "metadata": {},
   "source": [
    "Seeing so few properties and also an ID and an author, I'm pretty sure it isn't the general node \"film\" but something else"
   ]
  },
  {
   "cell_type": "code",
   "execution_count": 9,
   "id": "f7f1d974-0400-4eb6-88b5-20c838568c4a",
   "metadata": {},
   "outputs": [
    {
     "name": "stdout",
     "output_type": "stream",
     "text": [
      "Results\n",
      "[('x', 'Beckett')]\n"
     ]
    },
    {
     "data": {
      "text/plain": [
       "1"
      ]
     },
     "execution_count": 9,
     "metadata": {},
     "output_type": "execute_result"
    }
   ],
   "source": [
    "# Definitely not what i meant\n",
    "queryString = \"\"\"\n",
    "SELECT distinct ?x\n",
    "where{\n",
    "    wd:Q42189922 wdt:P2093 ?x.\n",
    "} \n",
    "\n",
    "\"\"\"\n",
    "print(\"Results\")\n",
    "run_query(queryString)"
   ]
  },
  {
   "cell_type": "code",
   "execution_count": 13,
   "id": "747d301c-73b9-4f8c-af6a-2b9c9d6584c1",
   "metadata": {},
   "outputs": [
    {
     "name": "stdout",
     "output_type": "stream",
     "text": [
      "Results\n",
      "[('tot', '23')]\n"
     ]
    },
    {
     "data": {
      "text/plain": [
       "1"
      ]
     },
     "execution_count": 13,
     "metadata": {},
     "output_type": "execute_result"
    }
   ],
   "source": [
    "# Let's go back to creative work\n",
    "queryString = \"\"\"\n",
    "SELECT count(distinct ?name) as ?tot  \n",
    "where{\n",
    "    ?p ?x wd:Q17537576.\n",
    "    ?x <http://schema.org/name> ?name .\n",
    "} \n",
    "\"\"\"\n",
    "print(\"Results\")\n",
    "run_query(queryString)"
   ]
  },
  {
   "cell_type": "code",
   "execution_count": 15,
   "id": "516852ce-f470-4f1e-be05-dc2f6707580c",
   "metadata": {},
   "outputs": [
    {
     "name": "stdout",
     "output_type": "stream",
     "text": [
      "Results\n",
      "[('name', 'field of work'), ('x', 'http://www.wikidata.org/prop/direct/P101')]\n",
      "[('name', 'product or material produced'), ('x', 'http://www.wikidata.org/prop/direct/P1056')]\n",
      "[('name', 'occupation'), ('x', 'http://www.wikidata.org/prop/direct/P106')]\n",
      "[('name', 'facet of'), ('x', 'http://www.wikidata.org/prop/direct/P1269')]\n",
      "[('name', 'has effect'), ('x', 'http://www.wikidata.org/prop/direct/P1542')]\n",
      "[('name', 'different from'), ('x', 'http://www.wikidata.org/prop/direct/P1889')]\n",
      "[('name', 'interested in'), ('x', 'http://www.wikidata.org/prop/direct/P2650')]\n",
      "[('name', 'subclass of'), ('x', 'http://www.wikidata.org/prop/direct/P279')]\n",
      "[('name', \"category's main topic\"), ('x', 'http://www.wikidata.org/prop/direct/P301')]\n",
      "[('name', 'instance of'), ('x', 'http://www.wikidata.org/prop/direct/P31')]\n",
      "[('name', 'is a list of'), ('x', 'http://www.wikidata.org/prop/direct/P360')]\n",
      "[('name', 'part of'), ('x', 'http://www.wikidata.org/prop/direct/P361')]\n",
      "[('name', 'category contains'), ('x', 'http://www.wikidata.org/prop/direct/P4224')]\n",
      "[('name', 'has part'), ('x', 'http://www.wikidata.org/prop/direct/P527')]\n",
      "[('name', 'participant'), ('x', 'http://www.wikidata.org/prop/direct/P710')]\n",
      "[('name', 'notable work'), ('x', 'http://www.wikidata.org/prop/direct/P800')]\n",
      "[('name', 'academic major'), ('x', 'http://www.wikidata.org/prop/direct/P812')]\n",
      "[('name', 'main subject'), ('x', 'http://www.wikidata.org/prop/direct/P921')]\n",
      "[('name', 'category combines topics'), ('x', 'http://www.wikidata.org/prop/direct/P971')]\n",
      "[('name', 'fictional analog of'), ('x', 'http://www.wikidata.org/prop/direct/P1074')]\n",
      "[('name', 'is metaclass for'), ('x', 'http://www.wikidata.org/prop/direct/P8225')]\n",
      "[('name', 'Wikidata item of this property'), ('x', 'http://www.wikidata.org/prop/direct/P1629')]\n",
      "[('name', 'expression of'), ('x', 'http://www.wikidata.org/prop/direct/P6524')]\n"
     ]
    },
    {
     "data": {
      "text/plain": [
       "23"
      ]
     },
     "execution_count": 15,
     "metadata": {},
     "output_type": "execute_result"
    }
   ],
   "source": [
    "# Let's go back to creative work. Check the properties\n",
    "queryString = \"\"\"\n",
    "SELECT distinct ?name ?x\n",
    "where{\n",
    "    ?p ?x wd:Q17537576.\n",
    "    ?x <http://schema.org/name> ?name .\n",
    "} \n",
    "\"\"\"\n",
    "print(\"Results\")\n",
    "run_query(queryString)"
   ]
  },
  {
   "cell_type": "code",
   "execution_count": 16,
   "id": "afccc634-7a26-44a8-8c2d-55e5b5db6a68",
   "metadata": {},
   "outputs": [
    {
     "name": "stdout",
     "output_type": "stream",
     "text": [
      "Results\n",
      "[('callret-0', '8907')]\n"
     ]
    },
    {
     "data": {
      "text/plain": [
       "1"
      ]
     },
     "execution_count": 16,
     "metadata": {},
     "output_type": "execute_result"
    }
   ],
   "source": [
    "# Check \"instance of\" and \"subclass\". Too many results\n",
    "queryString = \"\"\"\n",
    "SELECT count(distinct ?name) \n",
    "where{\n",
    "    ?p wdt:P31|wdt:P279 wd:Q17537576.\n",
    "    ?p <http://schema.org/name> ?name .\n",
    "} \n",
    "\"\"\"\n",
    "print(\"Results\")\n",
    "run_query(queryString)"
   ]
  },
  {
   "cell_type": "markdown",
   "id": "98ab95a6-0a00-4a27-b608-f596f8fc3180",
   "metadata": {},
   "source": [
    "At this point I changed approach and tried to see the properties entering Ian McEwan (I know from before that \"cast member\" goes from the film to the person for example)"
   ]
  },
  {
   "cell_type": "code",
   "execution_count": 4,
   "id": "a5c8f1a5-1d58-4554-bfa2-3e5a7619ba0f",
   "metadata": {},
   "outputs": [
    {
     "name": "stdout",
     "output_type": "stream",
     "text": [
      "Results\n",
      "[('name', 'winner'), ('p', 'http://www.wikidata.org/prop/direct/P1346')]\n",
      "[('name', 'cast member'), ('p', 'http://www.wikidata.org/prop/direct/P161')]\n",
      "[('name', 'producer'), ('p', 'http://www.wikidata.org/prop/direct/P162')]\n",
      "[('name', 'spouse'), ('p', 'http://www.wikidata.org/prop/direct/P26')]\n",
      "[('name', \"category's main topic\"), ('p', 'http://www.wikidata.org/prop/direct/P301')]\n",
      "[('name', 'author'), ('p', 'http://www.wikidata.org/prop/direct/P50')]\n",
      "[('name', 'screenwriter'), ('p', 'http://www.wikidata.org/prop/direct/P58')]\n",
      "[('name', 'category combines topics'), ('p', 'http://www.wikidata.org/prop/direct/P971')]\n",
      "[('name', 'after a work by'), ('p', 'http://www.wikidata.org/prop/direct/P1877')]\n",
      "[('name', 'Wikidata property example'), ('p', 'http://www.wikidata.org/prop/direct/P1855')]\n"
     ]
    },
    {
     "data": {
      "text/plain": [
       "10"
      ]
     },
     "execution_count": 4,
     "metadata": {},
     "output_type": "execute_result"
    }
   ],
   "source": [
    "queryString = \"\"\"\n",
    "SELECT distinct ?name ?p\n",
    "where{\n",
    "    ?x ?p wd:Q190379 .\n",
    "    ?p <http://schema.org/name> ?name .\n",
    "} \n",
    "\"\"\"\n",
    "print(\"Results\")\n",
    "run_query(queryString)"
   ]
  },
  {
   "cell_type": "code",
   "execution_count": 5,
   "id": "f276200c-934f-4349-a6ba-7be963e2d9d5",
   "metadata": {},
   "outputs": [
    {
     "name": "stdout",
     "output_type": "stream",
     "text": [
      "Results\n",
      "[('name', 'The Good Son')]\n",
      "[('name', 'Enduring Love')]\n",
      "[('name', \"The Ploughman's Lunch\")]\n",
      "[('name', 'The Comfort of Strangers')]\n",
      "[('name', 'On Chesil Beach')]\n",
      "[('name', 'Atonement')]\n",
      "[('name', 'The Cement Garden')]\n",
      "[('name', 'The Unbelievers')]\n",
      "[('name', 'The Innocent')]\n",
      "[('name', 'The Children Act')]\n"
     ]
    },
    {
     "data": {
      "text/plain": [
       "10"
      ]
     },
     "execution_count": 5,
     "metadata": {},
     "output_type": "execute_result"
    }
   ],
   "source": [
    "# In which film Ian Mcewan worked\n",
    "queryString = \"\"\"\n",
    "SELECT distinct ?name \n",
    "where{\n",
    "    ?x wdt:P161|wdt:P162|wdt:P58 wd:Q190379 .\n",
    "    ?x <http://schema.org/name> ?name .\n",
    "} \n",
    "\"\"\"\n",
    "print(\"Results\")\n",
    "run_query(queryString)"
   ]
  },
  {
   "cell_type": "code",
   "execution_count": 6,
   "id": "2eee2bc0-3d8f-4e75-9d13-e1de16709844",
   "metadata": {},
   "outputs": [
    {
     "name": "stdout",
     "output_type": "stream",
     "text": [
      "Results\n",
      "[('name', 'Blue in the Face')]\n",
      "[('name', 'Act of God')]\n",
      "[('name', 'The Inner Life of Martin Frost')]\n",
      "[('name', 'The Music of Chance')]\n",
      "[('name', 'Smoke')]\n",
      "[('name', 'Lulu on the Bridge')]\n",
      "[('name', 'The Center of the World')]\n"
     ]
    },
    {
     "data": {
      "text/plain": [
       "7"
      ]
     },
     "execution_count": 6,
     "metadata": {},
     "output_type": "execute_result"
    }
   ],
   "source": [
    "queryString = \"\"\"\n",
    "SELECT distinct ?name \n",
    "where{\n",
    "    ?x wdt:P161|wdt:P162|wdt:P58 wd:Q214642 .\n",
    "    ?x <http://schema.org/name> ?name .\n",
    "} \n",
    "\"\"\"\n",
    "print(\"Results\")\n",
    "run_query(queryString)"
   ]
  },
  {
   "cell_type": "code",
   "execution_count": 12,
   "id": "5720f873-6e72-452d-a69a-cb0c345510ac",
   "metadata": {},
   "outputs": [
    {
     "name": "stdout",
     "output_type": "stream",
     "text": [
      "Results\n",
      "[('name', 'Atonement')]\n",
      "[('name', 'Act of God')]\n",
      "[('name', 'The Inner Life of Martin Frost')]\n",
      "[('name', 'The Music of Chance')]\n"
     ]
    },
    {
     "data": {
      "text/plain": [
       "4"
      ]
     },
     "execution_count": 12,
     "metadata": {},
     "output_type": "execute_result"
    }
   ],
   "source": [
    "# ANSWER to 3\n",
    "queryString = \"\"\"\n",
    "select ?name where{\n",
    "{SELECT distinct ?name \n",
    "where{\n",
    "    ?x wdt:P161|wdt:P162 wd:Q190379 .\n",
    "    ?x wdt:P58 wd:Q190379 .\n",
    "    ?x <http://schema.org/name> ?name .\n",
    "} }\n",
    "UNION{\n",
    "SELECT distinct ?name \n",
    "where{\n",
    "    ?x wdt:P161|wdt:P162 wd:Q214642 .\n",
    "    ?x wdt:P58 wd:Q214642 .\n",
    "    ?x <http://schema.org/name> ?name .\n",
    "} }}\n",
    "\"\"\"\n",
    "print(\"Results\")\n",
    "run_query(queryString)"
   ]
  },
  {
   "cell_type": "markdown",
   "id": "0b4cc49d-6bb8-4815-8cfb-f6464fa69ae5",
   "metadata": {},
   "source": [
    "***\n",
    "\n",
    "# Task 4 \n",
    "\n",
    "*How many films were derived from the books of these two authors?*"
   ]
  },
  {
   "cell_type": "code",
   "execution_count": 18,
   "id": "6ce77d98-e54a-4ca2-81fc-6bbb38848d75",
   "metadata": {},
   "outputs": [
    {
     "name": "stdout",
     "output_type": "stream",
     "text": [
      "Results\n",
      "[('name', 'film editor'), ('y', 'http://www.wikidata.org/prop/direct/P1040')]\n",
      "[('name', 'genre'), ('y', 'http://www.wikidata.org/prop/direct/P136')]\n",
      "[('name', 'title'), ('y', 'http://www.wikidata.org/prop/direct/P1476')]\n",
      "[('name', 'cast member'), ('y', 'http://www.wikidata.org/prop/direct/P161')]\n",
      "[('name', 'producer'), ('y', 'http://www.wikidata.org/prop/direct/P162')]\n",
      "[('name', 'award received'), ('y', 'http://www.wikidata.org/prop/direct/P166')]\n",
      "[('name', 'creator'), ('y', 'http://www.wikidata.org/prop/direct/P170')]\n",
      "[('name', 'different from'), ('y', 'http://www.wikidata.org/prop/direct/P1889')]\n",
      "[('name', 'collection'), ('y', 'http://www.wikidata.org/prop/direct/P195')]\n",
      "[('name', 'FSK film rating'), ('y', 'http://www.wikidata.org/prop/direct/P1981')]\n",
      "[('name', 'duration'), ('y', 'http://www.wikidata.org/prop/direct/P2047')]\n",
      "[('name', 'aspect ratio'), ('y', 'http://www.wikidata.org/prop/direct/P2061')]\n",
      "[('name', 'NMHH film rating'), ('y', 'http://www.wikidata.org/prop/direct/P2363')]\n",
      "[('name', 'production company'), ('y', 'http://www.wikidata.org/prop/direct/P272')]\n",
      "[('name', 'Filmiroda rating'), ('y', 'http://www.wikidata.org/prop/direct/P2747')]\n",
      "[('name', 'exploitation visa number'), ('y', 'http://www.wikidata.org/prop/direct/P2755')]\n",
      "[('name', 'CNC film rating (France)'), ('y', 'http://www.wikidata.org/prop/direct/P2758')]\n",
      "[('name', 'instance of'), ('y', 'http://www.wikidata.org/prop/direct/P31')]\n",
      "[('name', 'ISAN'), ('y', 'http://www.wikidata.org/prop/direct/P3212')]\n",
      "[('name', 'director of photography'), ('y', 'http://www.wikidata.org/prop/direct/P344')]\n",
      "[('name', 'original language of film or TV show'), ('y', 'http://www.wikidata.org/prop/direct/P364')]\n",
      "[('name', 'Cinémathèque québécoise work identifier'), ('y', 'http://www.wikidata.org/prop/direct/P4276')]\n",
      "[('name', 'distribution format'), ('y', 'http://www.wikidata.org/prop/direct/P437')]\n",
      "[('name', 'color'), ('y', 'http://www.wikidata.org/prop/direct/P462')]\n",
      "[('name', 'country of origin'), ('y', 'http://www.wikidata.org/prop/direct/P495')]\n",
      "[('name', 'director'), ('y', 'http://www.wikidata.org/prop/direct/P57')]\n",
      "[('name', 'publication date'), ('y', 'http://www.wikidata.org/prop/direct/P577')]\n",
      "[('name', 'screenwriter'), ('y', 'http://www.wikidata.org/prop/direct/P58')]\n",
      "[('name', 'Medierådet rating'), ('y', 'http://www.wikidata.org/prop/direct/P5970')]\n",
      "[('name', 'distributed by'), ('y', 'http://www.wikidata.org/prop/direct/P750')]\n",
      "[('name', 'narrative location'), ('y', 'http://www.wikidata.org/prop/direct/P840')]\n",
      "[('name', 'official website'), ('y', 'http://www.wikidata.org/prop/direct/P856')]\n",
      "[('name', 'composer'), ('y', 'http://www.wikidata.org/prop/direct/P86')]\n",
      "[('name', 'main subject'), ('y', 'http://www.wikidata.org/prop/direct/P921')]\n",
      "[('name', 'production designer'), ('y', 'http://www.wikidata.org/prop/direct/P2554')]\n",
      "[('name', 'executive producer'), ('y', 'http://www.wikidata.org/prop/direct/P1431')]\n",
      "[('name', 'EIRIN film rating'), ('y', 'http://www.wikidata.org/prop/direct/P2756')]\n",
      "[('name', 'participant in'), ('y', 'http://www.wikidata.org/prop/direct/P1344')]\n",
      "[('name', 'nominated for'), ('y', 'http://www.wikidata.org/prop/direct/P1411')]\n",
      "[('name', 'based on'), ('y', 'http://www.wikidata.org/prop/direct/P144')]\n",
      "[('name', 'MPAA film rating'), ('y', 'http://www.wikidata.org/prop/direct/P1657')]\n",
      "[('name', 'performer'), ('y', 'http://www.wikidata.org/prop/direct/P175')]\n",
      "[('name', 'image'), ('y', 'http://www.wikidata.org/prop/direct/P18')]\n",
      "[('name', 'costume designer'), ('y', 'http://www.wikidata.org/prop/direct/P2515')]\n",
      "[('name', 'ICAA rating'), ('y', 'http://www.wikidata.org/prop/direct/P3306')]\n",
      "[('name', 'JMK film rating'), ('y', 'http://www.wikidata.org/prop/direct/P3650')]\n",
      "[('name', 'Commons category'), ('y', 'http://www.wikidata.org/prop/direct/P373')]\n",
      "[('name', 'Wolfram Language entity code'), ('y', 'http://www.wikidata.org/prop/direct/P4839')]\n",
      "[('name', 'assessment'), ('y', 'http://www.wikidata.org/prop/direct/P5021')]\n",
      "[('name', 'set in environment'), ('y', 'http://www.wikidata.org/prop/direct/P8411')]\n",
      "[('name', 'filming location'), ('y', 'http://www.wikidata.org/prop/direct/P915')]\n",
      "[('name', 'after a work by'), ('y', 'http://www.wikidata.org/prop/direct/P1877')]\n",
      "[('name', 'Kijkwijzer rating'), ('y', 'http://www.wikidata.org/prop/direct/P2684')]\n",
      "[('name', 'IGAC rating'), ('y', 'http://www.wikidata.org/prop/direct/P5150')]\n",
      "[('name', 'ClassInd rating'), ('y', 'http://www.wikidata.org/prop/direct/P3216')]\n"
     ]
    },
    {
     "data": {
      "text/plain": [
       "55"
      ]
     },
     "execution_count": 18,
     "metadata": {},
     "output_type": "execute_result"
    }
   ],
   "source": [
    "# Properties of the films\n",
    "queryString = \"\"\"\n",
    "select distinct ?name ?y where{\n",
    "{SELECT distinct ?name ?y\n",
    "where{\n",
    "    ?x wdt:P161|wdt:P162|wdt:P58 wd:Q214642 .\n",
    "    ?x ?y ?z .\n",
    "    ?y <http://schema.org/name> ?name .\n",
    "    filter(!regex(?name, \"ID\"))\n",
    "} }\n",
    "UNION{\n",
    "SELECT distinct ?name ?y\n",
    "where{\n",
    "    ?x wdt:P161|wdt:P162|wdt:P58 wd:Q190379 .\n",
    "    ?x ?y ?z .\n",
    "    ?y <http://schema.org/name> ?name .\n",
    "    filter(!regex(?name, \"ID\"))\n",
    "} }}\n",
    "\"\"\"\n",
    "print(\"Results\")\n",
    "run_query(queryString)"
   ]
  },
  {
   "cell_type": "code",
   "execution_count": 19,
   "id": "577c90a3-4fee-4efb-bca4-47d71c68d6c4",
   "metadata": {},
   "outputs": [
    {
     "name": "stdout",
     "output_type": "stream",
     "text": [
      "Results\n",
      "[('name', 'Ian McEwan'), ('z', 'http://www.wikidata.org/entity/Q190379')]\n"
     ]
    },
    {
     "data": {
      "text/plain": [
       "1"
      ]
     },
     "execution_count": 19,
     "metadata": {},
     "output_type": "execute_result"
    }
   ],
   "source": [
    "# Most interesting properties are \"based on\", \"main subject\" and \"after a work by\". Check if they are really useful part 1\n",
    "queryString = \"\"\"\n",
    "select distinct ?name ?z where{\n",
    "{SELECT distinct ?name ?z\n",
    "where{\n",
    "    ?x wdt:P161|wdt:P162|wdt:P58 wd:Q214642 .\n",
    "    ?x wdt:P1877 ?z .\n",
    "    ?z <http://schema.org/name> ?name .\n",
    "    filter(!regex(?name, \"ID\"))\n",
    "} }\n",
    "UNION{\n",
    "SELECT distinct ?name ?z\n",
    "where{\n",
    "    ?x wdt:P161|wdt:P162|wdt:P58 wd:Q190379 .\n",
    "    ?x wdt:P1877 ?z .\n",
    "    ?z <http://schema.org/name> ?name .\n",
    "    filter(!regex(?name, \"ID\"))\n",
    "} }}\n",
    "\"\"\"\n",
    "print(\"Results\")\n",
    "run_query(queryString)"
   ]
  },
  {
   "cell_type": "code",
   "execution_count": 20,
   "id": "73d1b7fd-d56c-4b55-825e-9e0234caae2f",
   "metadata": {},
   "outputs": [
    {
     "name": "stdout",
     "output_type": "stream",
     "text": [
      "Results\n",
      "[('name', 'prostitution'), ('z', 'http://www.wikidata.org/entity/Q36633')]\n",
      "[('name', 'incest'), ('z', 'http://www.wikidata.org/entity/Q127683')]\n",
      "[('name', 'World War II'), ('z', 'http://www.wikidata.org/entity/Q362')]\n",
      "[('name', 'Dunkirk evacuation'), ('z', 'http://www.wikidata.org/entity/Q911972')]\n"
     ]
    },
    {
     "data": {
      "text/plain": [
       "4"
      ]
     },
     "execution_count": 20,
     "metadata": {},
     "output_type": "execute_result"
    }
   ],
   "source": [
    "# Most interesting properties are \"based on\", \"main subject\" and \"after a work by\". Check if they are really useful part 2\n",
    "queryString = \"\"\"\n",
    "select distinct ?name ?z where{\n",
    "{SELECT distinct ?name ?z\n",
    "where{\n",
    "    ?x wdt:P161|wdt:P162|wdt:P58 wd:Q214642 .\n",
    "    ?x wdt:P921 ?z .\n",
    "    ?z <http://schema.org/name> ?name .\n",
    "    filter(!regex(?name, \"ID\"))\n",
    "} }\n",
    "UNION{\n",
    "SELECT distinct ?name ?z\n",
    "where{\n",
    "    ?x wdt:P161|wdt:P162|wdt:P58 wd:Q190379 .\n",
    "    ?x wdt:P921 ?z .\n",
    "    ?z <http://schema.org/name> ?name .\n",
    "    filter(!regex(?name, \"ID\"))\n",
    "} }}\n",
    "\"\"\"\n",
    "\n",
    "print(\"Results\")\n",
    "run_query(queryString)"
   ]
  },
  {
   "cell_type": "markdown",
   "id": "748d2ed3-9769-47c7-802d-45c6eba021c7",
   "metadata": {},
   "source": [
    "A peculiar result, but not what I need"
   ]
  },
  {
   "cell_type": "code",
   "execution_count": 22,
   "id": "987f6e89-5b71-4141-8a8b-cb4c43d2c807",
   "metadata": {},
   "outputs": [
    {
     "name": "stdout",
     "output_type": "stream",
     "text": [
      "Results\n",
      "[('paulcount', '0'), ('iancount', '4')]\n"
     ]
    },
    {
     "data": {
      "text/plain": [
       "1"
      ]
     },
     "execution_count": 22,
     "metadata": {},
     "output_type": "execute_result"
    }
   ],
   "source": [
    "# This should be the answer to 4 but maybe they didn't work on the film based on their book so let's check that\n",
    "queryString = \"\"\"\n",
    "select ?paulcount ?iancount where{\n",
    "{SELECT count(distinct ?name) as ?paulcount\n",
    "where{\n",
    "    ?x wdt:P161|wdt:P162|wdt:P58 wd:Q214642 .\n",
    "    ?x wdt:P144 ?z .\n",
    "    ?z <http://schema.org/name> ?name .\n",
    "} }\n",
    "{\n",
    "SELECT count(distinct ?name) as ?iancount\n",
    "where{\n",
    "    ?x wdt:P161|wdt:P162|wdt:P58 wd:Q190379 .\n",
    "    ?x wdt:P144 ?z .\n",
    "    ?z <http://schema.org/name> ?name .\n",
    "} }}\n",
    "\"\"\"\n",
    "\n",
    "print(\"Results\")\n",
    "run_query(queryString)"
   ]
  },
  {
   "cell_type": "code",
   "execution_count": 25,
   "id": "9471902f-166a-4ca7-9c9a-5f1e36a6688a",
   "metadata": {},
   "outputs": [
    {
     "name": "stdout",
     "output_type": "stream",
     "text": [
      "Results\n",
      "[('name', 'film'), ('p', 'http://www.wikidata.org/entity/Q11424')]\n"
     ]
    },
    {
     "data": {
      "text/plain": [
       "1"
      ]
     },
     "execution_count": 25,
     "metadata": {},
     "output_type": "execute_result"
    }
   ],
   "source": [
    "# First get the film node\n",
    "queryString = \"\"\"\n",
    "select distinct ?name ?p  \n",
    "where{\n",
    "    ?x wdt:P161|wdt:P162|wdt:P58 wd:Q190379 .\n",
    "    ?x wdt:P31 ?p .\n",
    "    ?p <http://schema.org/name> ?name .\n",
    "}\n",
    "\"\"\"\n",
    "\n",
    "print(\"Results\")\n",
    "run_query(queryString)"
   ]
  },
  {
   "cell_type": "code",
   "execution_count": 27,
   "id": "a442536e-52b2-43b4-b070-1ee2db409627",
   "metadata": {},
   "outputs": [
    {
     "name": "stdout",
     "output_type": "stream",
     "text": [
      "Results\n",
      "[('name1', 'notable work'), ('name2', 'Atonement')]\n",
      "[('name1', 'notable work'), ('name2', 'Atonement')]\n",
      "[('name1', 'notable work'), ('name2', 'The Cement Garden')]\n"
     ]
    },
    {
     "data": {
      "text/plain": [
       "3"
      ]
     },
     "execution_count": 27,
     "metadata": {},
     "output_type": "execute_result"
    }
   ],
   "source": [
    "# Check that the \"based on\" property points to the right thing\n",
    "\n",
    "queryString = \"\"\"\n",
    "select ?name1 ?name2 where{\n",
    "    ?x wdt:P161|wdt:P162|wdt:P58 wd:Q190379 .\n",
    "    ?x wdt:P144 ?z .\n",
    "    wd:Q190379 ?w ?z .\n",
    "    ?w <http://schema.org/name> ?name1 .\n",
    "    ?z <http://schema.org/name> ?name2 .\n",
    "\n",
    "}\n",
    "\"\"\"\n",
    "\n",
    "print(\"Results\")\n",
    "run_query(queryString)"
   ]
  },
  {
   "cell_type": "code",
   "execution_count": 37,
   "id": "d331d405-ae0a-424b-a7cd-30496a817962",
   "metadata": {},
   "outputs": [
    {
     "name": "stdout",
     "output_type": "stream",
     "text": [
      "Results\n",
      "[('paulcount', '0'), ('iancount', '2')]\n"
     ]
    },
    {
     "data": {
      "text/plain": [
       "1"
      ]
     },
     "execution_count": 37,
     "metadata": {},
     "output_type": "execute_result"
    }
   ],
   "source": [
    "# I have also to specify that I'm talking about films\n",
    "queryString = \"\"\"\n",
    "select ?paulcount ?iancount where{\n",
    "{SELECT count(distinct ?name) as ?paulcount\n",
    "where{\n",
    "    ?x wdt:P31 wd:Q11424 . \n",
    "    ?x wdt:P144 ?z .\n",
    "    wd:Q214642 wdt:P800 ?z.\n",
    "    ?x <http://schema.org/name> ?name .\n",
    "} }\n",
    "{\n",
    "SELECT count(distinct ?name) as ?iancount\n",
    "where{\n",
    "    ?x wdt:P31 wd:Q11424 . \n",
    "    ?x wdt:P144 ?z .\n",
    "    wd:Q190379 wdt:P800 ?z .\n",
    "    ?x <http://schema.org/name> ?name .\n",
    "} }}\n",
    "\"\"\"\n",
    "\n",
    "print(\"Results\")\n",
    "run_query(queryString)"
   ]
  },
  {
   "cell_type": "code",
   "execution_count": 45,
   "id": "9cbeb1b4-1ab0-4fdc-810e-0267d7555e3d",
   "metadata": {},
   "outputs": [
    {
     "name": "stdout",
     "output_type": "stream",
     "text": [
      "Results\n",
      "[('paulcount', '7'), ('iancount', '10')]\n"
     ]
    },
    {
     "data": {
      "text/plain": [
       "1"
      ]
     },
     "execution_count": 45,
     "metadata": {},
     "output_type": "execute_result"
    }
   ],
   "source": [
    "# Film on which they worked in general\n",
    "queryString = \"\"\"\n",
    "select ?paulcount ?iancount where{\n",
    "{SELECT count(distinct ?name) as ?paulcount\n",
    "where{\n",
    "    ?x wdt:P31 wd:Q11424 .\n",
    "    \n",
    "    ?x wdt:P161|wdt:P162|wdt:P58 wd:Q214642 .\n",
    "\n",
    "    ?x <http://schema.org/name> ?name .\n",
    "} }\n",
    "{\n",
    "SELECT count(distinct ?name) as ?iancount\n",
    "where{\n",
    "    ?x wdt:P31 wd:Q11424 .\n",
    "    \n",
    "    ?x wdt:P161|wdt:P162|wdt:P58 wd:Q190379 .\n",
    "    \n",
    "    ?x <http://schema.org/name> ?name .\n",
    "} }}\n",
    "\"\"\"\n",
    "\n",
    "print(\"Results\")\n",
    "run_query(queryString)"
   ]
  },
  {
   "cell_type": "markdown",
   "id": "ef1904be-1169-4f39-b010-69b982be1ef1",
   "metadata": {},
   "source": [
    "***\n",
    "\n",
    "# Task 5\n",
    "\n",
    "*Which author won more literature-related awards? Have they ever being nominated for a Nobel award*\n"
   ]
  },
  {
   "cell_type": "code",
   "execution_count": 48,
   "id": "b479a632-dfb4-43c4-bf5d-d3a65adcb311",
   "metadata": {},
   "outputs": [
    {
     "name": "stdout",
     "output_type": "stream",
     "text": [
      "Results\n",
      "[('award', 'http://www.wikidata.org/entity/Q56494487'), ('name', 'honorary doctor of the University of Sussex')]\n",
      "[('award', 'http://www.wikidata.org/entity/Q5153503'), ('name', 'Common Wealth Award of Distinguished Service')]\n",
      "[('award', 'http://www.wikidata.org/entity/Q12201477'), ('name', 'Commander of the Order of the British Empire')]\n",
      "[('award', 'http://www.wikidata.org/entity/Q277787'), ('name', 'Jerusalem Prize')]\n",
      "[('award', 'http://www.wikidata.org/entity/Q39477935'), ('name', 'Fellow of the Royal Society of Literature')]\n",
      "[('award', 'http://www.wikidata.org/entity/Q52382875'), ('name', 'AAAS Fellow')]\n",
      "[('award', 'http://www.wikidata.org/entity/Q15271633'), ('name', 'Fellow of the Royal Society of Arts')]\n",
      "[('award', 'http://www.wikidata.org/entity/Q160082'), ('name', 'Booker Prize')]\n",
      "[('award', 'http://www.wikidata.org/entity/Q392586'), ('name', 'James Tait Black Memorial Prize')]\n",
      "[('award', 'http://www.wikidata.org/entity/Q5709276'), ('name', 'Helmerich Award')]\n",
      "[('award', 'http://www.wikidata.org/entity/Q3404580'), ('name', 'Prix Femina étranger')]\n",
      "[('award', 'http://www.wikidata.org/entity/Q4936657'), ('name', 'Bodley Medal')]\n",
      "[('award', 'http://www.wikidata.org/entity/Q50622024'), ('name', 'honorary doctorate of Carlos III University')]\n",
      "[('award', 'http://www.wikidata.org/entity/Q891461'), ('name', 'Bollinger Everyman Wodehouse Prize')]\n",
      "[('award', 'http://www.wikidata.org/entity/Q7462809'), ('name', 'Shakespeare Prize')]\n"
     ]
    },
    {
     "data": {
      "text/plain": [
       "15"
      ]
     },
     "execution_count": 48,
     "metadata": {},
     "output_type": "execute_result"
    }
   ],
   "source": [
    "# Award received\n",
    "queryString = \"\"\"\n",
    "SELECT ?award ?name\n",
    "WHERE {\n",
    "   wd:Q190379 wdt:P166 ?award .\n",
    "   ?award <http://schema.org/name> ?name .\n",
    "}\n",
    "\"\"\"\n",
    "\n",
    "print(\"Results\")\n",
    "run_query(queryString)"
   ]
  },
  {
   "cell_type": "code",
   "execution_count": 51,
   "id": "02487e20-87c5-4170-9826-18c6bcfebe30",
   "metadata": {},
   "outputs": [
    {
     "name": "stdout",
     "output_type": "stream",
     "text": [
      "Results\n",
      "[('prop', 'http://www.wikidata.org/prop/direct/P3729'), ('name', 'next lower rank')]\n",
      "[('prop', 'http://www.wikidata.org/prop/direct/P1346'), ('name', 'winner')]\n",
      "[('prop', 'http://www.wikidata.org/prop/direct/P138'), ('name', 'named after')]\n",
      "[('prop', 'http://www.wikidata.org/prop/direct/P17'), ('name', 'country')]\n",
      "[('prop', 'http://www.wikidata.org/prop/direct/P1705'), ('name', 'native label')]\n",
      "[('prop', 'http://www.wikidata.org/prop/direct/P18'), ('name', 'image')]\n",
      "[('prop', 'http://www.wikidata.org/prop/direct/P1813'), ('name', 'short name')]\n",
      "[('prop', 'http://www.wikidata.org/prop/direct/P1889'), ('name', 'different from')]\n",
      "[('prop', 'http://www.wikidata.org/prop/direct/P2121'), ('name', 'prize money')]\n",
      "[('prop', 'http://www.wikidata.org/prop/direct/P2354'), ('name', 'has list')]\n",
      "[('prop', 'http://www.wikidata.org/prop/direct/P276'), ('name', 'location')]\n",
      "[('prop', 'http://www.wikidata.org/prop/direct/P279'), ('name', 'subclass of')]\n",
      "[('prop', 'http://www.wikidata.org/prop/direct/P31'), ('name', 'instance of')]\n",
      "[('prop', 'http://www.wikidata.org/prop/direct/P361'), ('name', 'part of')]\n",
      "[('prop', 'http://www.wikidata.org/prop/direct/P373'), ('name', 'Commons category')]\n",
      "[('prop', 'http://www.wikidata.org/prop/direct/P444'), ('name', 'review score')]\n",
      "[('prop', 'http://www.wikidata.org/prop/direct/P4839'), ('name', 'Wolfram Language entity code')]\n",
      "[('prop', 'http://www.wikidata.org/prop/direct/P5008'), ('name', 'on focus list of Wikimedia project')]\n",
      "[('prop', 'http://www.wikidata.org/prop/direct/P571'), ('name', 'inception')]\n",
      "[('prop', 'http://www.wikidata.org/prop/direct/P580'), ('name', 'start time')]\n",
      "[('prop', 'http://www.wikidata.org/prop/direct/P6081'), ('name', 'RIA Novosti reference')]\n",
      "[('prop', 'http://www.wikidata.org/prop/direct/P856'), ('name', 'official website')]\n",
      "[('prop', 'http://www.wikidata.org/prop/direct/P859'), ('name', 'sponsor')]\n",
      "[('prop', 'http://www.wikidata.org/prop/direct/P910'), ('name', \"topic's main category\")]\n",
      "[('prop', 'http://www.wikidata.org/prop/direct/P1027'), ('name', 'conferred by')]\n",
      "[('prop', 'http://www.wikidata.org/prop/direct/P2425'), ('name', 'service ribbon image')]\n",
      "[('prop', 'http://www.wikidata.org/prop/direct/P2517'), ('name', 'category for recipients of this award')]\n",
      "[('prop', 'http://www.wikidata.org/prop/direct/P3730'), ('name', 'next higher rank')]\n"
     ]
    },
    {
     "data": {
      "text/plain": [
       "28"
      ]
     },
     "execution_count": 51,
     "metadata": {},
     "output_type": "execute_result"
    }
   ],
   "source": [
    "# Award properties\n",
    "queryString = \"\"\"\n",
    "SELECT distinct ?prop ?name\n",
    "WHERE {\n",
    "   wd:Q190379 wdt:P166 ?award .\n",
    "   ?award ?prop ?y .\n",
    "   ?prop <http://schema.org/name> ?name .\n",
    "   filter(!regex(?name,\"ID\"))\n",
    "}\n",
    "\"\"\"\n",
    "\n",
    "print(\"Results\")\n",
    "run_query(queryString)"
   ]
  },
  {
   "cell_type": "code",
   "execution_count": 55,
   "id": "96b573a2-84df-446c-ad1c-27aa2d2ccdd5",
   "metadata": {},
   "outputs": [
    {
     "name": "stdout",
     "output_type": "stream",
     "text": [
      "Results\n",
      "[('y', 'http://www.wikidata.org/entity/Q618779'), ('name', 'award')]\n",
      "[('y', 'http://www.wikidata.org/entity/Q378427'), ('name', 'literary award')]\n",
      "[('y', 'http://www.wikidata.org/entity/Q131647'), ('name', 'medal')]\n",
      "[('y', 'http://www.wikidata.org/entity/Q60754876'), ('name', 'grade of an order')]\n",
      "[('y', 'http://www.wikidata.org/entity/Q20006438'), ('name', 'fellowship')]\n"
     ]
    },
    {
     "data": {
      "text/plain": [
       "5"
      ]
     },
     "execution_count": 55,
     "metadata": {},
     "output_type": "execute_result"
    }
   ],
   "source": [
    "# Checked some properties, what i need is as always instance of\n",
    "queryString = \"\"\"\n",
    "SELECT distinct ?y ?name\n",
    "WHERE {\n",
    "   wd:Q190379 wdt:P166 ?award .\n",
    "   ?award wdt:P31 ?y .\n",
    "   ?y <http://schema.org/name> ?name .\n",
    "   filter(!regex(?name,\"ID\"))\n",
    "}\n",
    "\"\"\"\n",
    "\n",
    "print(\"Results\")\n",
    "run_query(queryString)"
   ]
  },
  {
   "cell_type": "code",
   "execution_count": 57,
   "id": "0af257fd-33d6-478b-9ddf-1c10f085bb02",
   "metadata": {},
   "outputs": [
    {
     "name": "stdout",
     "output_type": "stream",
     "text": [
      "Results\n",
      "[('paulcount', '2'), ('iancount', '7')]\n"
     ]
    },
    {
     "data": {
      "text/plain": [
       "1"
      ]
     },
     "execution_count": 57,
     "metadata": {},
     "output_type": "execute_result"
    }
   ],
   "source": [
    "# ANSWER 5 part 1\n",
    "queryString = \"\"\"\n",
    "select ?paulcount ?iancount where{\n",
    "{SELECT count(distinct ?name) as ?paulcount\n",
    "where{\n",
    "     wd:Q214642 wdt:P166 ?award .\n",
    "     ?award wdt:P31 wd:Q378427 .\n",
    "     ?award <http://schema.org/name> ?name .\n",
    "} }\n",
    "{\n",
    "SELECT count(distinct ?name) as ?iancount\n",
    "where{\n",
    "     wd:Q190379 wdt:P166 ?award .\n",
    "     ?award wdt:P31 wd:Q378427 .\n",
    "     ?award <http://schema.org/name> ?name .\n",
    "} }}\n",
    "\"\"\"\n",
    "\n",
    "print(\"Results\")\n",
    "run_query(queryString)"
   ]
  },
  {
   "cell_type": "code",
   "execution_count": 63,
   "id": "585947d7-afc2-43db-aad3-36f75aef6d0c",
   "metadata": {},
   "outputs": [
    {
     "name": "stdout",
     "output_type": "stream",
     "text": [
      "Results\n",
      "[('p', 'http://www.wikidata.org/entity/Q37922'), ('name', 'Nobel Prize in Literature')]\n"
     ]
    },
    {
     "data": {
      "text/plain": [
       "1"
      ]
     },
     "execution_count": 63,
     "metadata": {},
     "output_type": "execute_result"
    }
   ],
   "source": [
    "# There is nothing about nomination for prizes so let's start from the Nobel\n",
    "queryString = \"\"\"\n",
    "select ?p ?name where\n",
    "{\n",
    " ?p wdt:P31 wd:Q378427 .\n",
    " ?p <http://schema.org/name> ?name .\n",
    " filter(regex(lcase(str(?name)),\"nobel\"))\n",
    " filter(regex(lcase(str(?name)),\"literature\"))\n",
    "}\n",
    "\"\"\"\n",
    "\n",
    "print(\"Results\")\n",
    "run_query(queryString)"
   ]
  },
  {
   "cell_type": "code",
   "execution_count": 67,
   "id": "3bdf049f-2cb7-4434-9eb3-58cda2ff5924",
   "metadata": {},
   "outputs": [
    {
     "name": "stdout",
     "output_type": "stream",
     "text": [
      "Results\n",
      "[('x', 'http://www.wikidata.org/prop/direct/P1411'), ('name', 'nominated for')]\n",
      "[('x', 'http://www.wikidata.org/prop/direct/P166'), ('name', 'award received')]\n",
      "[('x', 'http://www.wikidata.org/prop/direct/P179'), ('name', 'part of the series')]\n",
      "[('x', 'http://www.wikidata.org/prop/direct/P301'), ('name', \"category's main topic\")]\n",
      "[('x', 'http://www.wikidata.org/prop/direct/P31'), ('name', 'instance of')]\n",
      "[('x', 'http://www.wikidata.org/prop/direct/P360'), ('name', 'is a list of')]\n",
      "[('x', 'http://www.wikidata.org/prop/direct/P527'), ('name', 'has part')]\n",
      "[('x', 'http://www.wikidata.org/prop/direct/P793'), ('name', 'significant event')]\n",
      "[('x', 'http://www.wikidata.org/prop/direct/P921'), ('name', 'main subject')]\n",
      "[('x', 'http://www.wikidata.org/prop/direct/P971'), ('name', 'category combines topics')]\n"
     ]
    },
    {
     "data": {
      "text/plain": [
       "10"
      ]
     },
     "execution_count": 67,
     "metadata": {},
     "output_type": "execute_result"
    }
   ],
   "source": [
    "# I assume that the nominated are linked to the nobel and not the other way around\n",
    "queryString = \"\"\"\n",
    "select distinct ?x ?name where\n",
    "{\n",
    "  ?y ?x wd:Q37922 .\n",
    "  ?x <http://schema.org/name> ?name .\n",
    "}\n",
    "\"\"\"\n",
    "\n",
    "print(\"Results\")\n",
    "run_query(queryString)"
   ]
  },
  {
   "cell_type": "code",
   "execution_count": 68,
   "id": "b2998a0f-8cac-4fef-8a75-1b68c2828a73",
   "metadata": {},
   "outputs": [
    {
     "name": "stdout",
     "output_type": "stream",
     "text": [
      "Results\n"
     ]
    },
    {
     "data": {
      "text/plain": [
       "{'head': {'link': []}, 'boolean': False}"
      ]
     },
     "execution_count": 68,
     "metadata": {},
     "output_type": "execute_result"
    }
   ],
   "source": [
    "# ANSWER to 5 part 2\n",
    "queryString = \"\"\"\n",
    "ask where\n",
    "{\n",
    "  ?y wdt:P1411 wd:Q37922 .\n",
    "  filter(?y= wd:Q190379 || ?y= wd:Q214642 )\n",
    "  \n",
    "}\n",
    "\"\"\"\n",
    "\n",
    "print(\"Results\")\n",
    "run_ask_query(queryString)"
   ]
  }
 ],
 "metadata": {
  "kernelspec": {
   "display_name": "Python 3",
   "language": "python",
   "name": "python3"
  },
  "language_info": {
   "codemirror_mode": {
    "name": "ipython",
    "version": 3
   },
   "file_extension": ".py",
   "mimetype": "text/x-python",
   "name": "python",
   "nbconvert_exporter": "python",
   "pygments_lexer": "ipython3",
   "version": "3.7.10"
  }
 },
 "nbformat": 4,
 "nbformat_minor": 5
}
