{
 "cells": [
  {
   "cell_type": "markdown",
   "id": "7034c3bf-6eb0-4418-8687-7b9d2a501103",
   "metadata": {},
   "source": [
    "# General instructions\n",
    "\n",
    "The goal of the project is to materialize a set of **exploratory workloads** over a real-world, large-scale,  open-domain KG: [WikiData](https://www.wikidata.org/wiki/Wikidata:Main_Page)\n",
    "\n",
    "An exploratory workload  is composed by a set of queries, where each query is related to the information obtained previously.\n",
    "\n",
    "An exploratory workload starts with a usually vague, open ended question, and does not assume the person issuing the workload has a clear understanding of the data contained in the target database or its structure.\n",
    "\n",
    "Remeber that:\n",
    "\n",
    "1. All the queries must run in the python notebook\n",
    "2. You can use classes and properties only if you find them via a SPARQL query that must be present in the notebook\n",
    "3. You do not delete useless queries. Keep everything that is synthatically valid \n",
    "\n",
    "```\n",
    "?p <http://schema.org/name> ?name .\n",
    "```\n",
    "    \n",
    "is the BGP returning a human-readable name of a property or a class in Wikidata.\n",
    "    \n",
    "    "
   ]
  },
  {
   "cell_type": "code",
   "execution_count": 1,
   "id": "3605c9d5-5371-49a5-be8d-d66e8f417139",
   "metadata": {},
   "outputs": [],
   "source": [
    "## SETUP used later\n",
    "\n",
    "from SPARQLWrapper import SPARQLWrapper, JSON\n",
    "\n",
    "\n",
    "prefixString = \"\"\"\n",
    "##-1c86b16009-##\n",
    "PREFIX wd: <http://www.wikidata.org/entity/> \n",
    "PREFIX wdt: <http://www.wikidata.org/prop/direct/> \n",
    "PREFIX sc: <http://schema.org/>\n",
    "\"\"\"\n",
    "\n",
    "# select and construct queries\n",
    "def run_query(queryString):\n",
    "    to_run = prefixString + \"\\n\" + queryString\n",
    "\n",
    "    sparql = SPARQLWrapper(\"http://a256-gc1-02.srv.aau.dk:5820/sparql\")\n",
    "    sparql.setTimeout(300)\n",
    "    sparql.setReturnFormat(JSON)\n",
    "    sparql.setQuery(to_run)\n",
    "\n",
    "    try :\n",
    "       results = sparql.query()\n",
    "       json_results = results.convert()\n",
    "       if len(json_results['results']['bindings'])==0:\n",
    "          print(\"Empty\")\n",
    "          return 0\n",
    "    \n",
    "       for bindings in json_results['results']['bindings']:\n",
    "          print( [ (var, value['value'])  for var, value in bindings.items() ] )\n",
    "\n",
    "       return len(json_results['results']['bindings'])\n",
    "\n",
    "    except Exception as e :\n",
    "        print(\"The operation failed\", e)\n",
    "    \n",
    "# ASk queries\n",
    "def run_ask_query(queryString):\n",
    "    to_run = prefixString + \"\\n\" + queryString\n",
    "\n",
    "    sparql = SPARQLWrapper(\"http://a256-gc1-02.srv.aau.dk:5820/sparql\")\n",
    "    sparql.setTimeout(300)\n",
    "    sparql.setReturnFormat(JSON)\n",
    "    sparql.setQuery(to_run)\n",
    "\n",
    "    try :\n",
    "        return sparql.query().convert()\n",
    "\n",
    "    except Exception as e :\n",
    "        print(\"The operation failed\", e)\n"
   ]
  },
  {
   "cell_type": "markdown",
   "id": "d477a59c-a68c-4c8f-9f97-8ca5294d7d27",
   "metadata": {},
   "source": [
    "# Politics Workflow Series (\"Politicians in E.U.\") \n",
    "\n",
    "Consider the following exploratory information need:\n",
    "\n",
    "> You investigating the careers of politicians in the E.U."
   ]
  },
  {
   "cell_type": "markdown",
   "id": "4a45c0ba-f79e-441d-bec5-84401b09db70",
   "metadata": {},
   "source": [
    "## Useful URIs for the current workflow\n",
    "\n",
    "\n",
    "The following are given:\n",
    "\n",
    "| IRI           | Description   | Role      |\n",
    "| -----------   | -----------   |-----------|\n",
    "| `wdt:P1647`   | subproperty   | predicate |\n",
    "| `wdt:P31`     | instance of   | predicate |\n",
    "| `wdt:P279`    | subclass      | predicate |\n",
    "| `wdt:P17`     | country       | predicate |\n",
    "| `wdt:P27`     | citizenship   | predicate |\n",
    "| `wdt:P39`     | position held   | predicate |\n",
    "| `wdt:P106`    | profession   | predicate |\n",
    "| `wd:Q82955`   | politician | node      |\n",
    "| `wd:Q46`      | Europe        | node |\n",
    "| `wd:Q38`      | Italy          | node |\n",
    "\n",
    "\n",
    "\n",
    "Also consider\n",
    "\n",
    "```\n",
    "?p wdt:P106/wdt:P279* wd:Q82955  . \n",
    "```\n",
    "\n",
    "is the BGP to retrieve all **politicians**"
   ]
  },
  {
   "cell_type": "markdown",
   "id": "7af439fb-96e4-4dbb-a381-f19afab79f86",
   "metadata": {
    "tags": []
   },
   "source": [
    "## Workload Goals\n",
    "\n",
    "\n",
    "1. Identify the BGP to retrieve E.U. countries and their politicians\n",
    "\n",
    "2. Identify the BGP for obtaining other occupations and properties of politicians\n",
    "\n",
    "3. How many politicians are recorder for each E.U. country?\n",
    "\n",
    "4. Are there politicians with double citizenship?\n",
    "\n",
    "5. Analyze the number of politicians in each country by occupation, for instance\n",
    " \n",
    "   5.1 What are the top-3 occupations for a politician in Italy and France?\n",
    "   \n",
    "   5.2 What if you consider only politicians for which we don't have a date of death?\n",
    "   \n",
    "   5.3 Which politicians had a spouse that was also a politician? How many in each country?\n"
   ]
  },
  {
   "cell_type": "code",
   "execution_count": 2,
   "id": "24a853ab-830c-422c-afd3-e9e015b8b8ed",
   "metadata": {},
   "outputs": [],
   "source": [
    "# start your workflow here"
   ]
  },
  {
   "cell_type": "code",
   "execution_count": 3,
   "id": "ade01416-92e7-4ad7-b9a9-b8fb330750dc",
   "metadata": {},
   "outputs": [
    {
     "name": "stdout",
     "output_type": "stream",
     "text": [
      "Results\n",
      "[('callret-0', '15556')]\n"
     ]
    },
    {
     "data": {
      "text/plain": [
       "1"
      ]
     },
     "execution_count": 3,
     "metadata": {},
     "output_type": "execute_result"
    }
   ],
   "source": [
    "queryString = \"\"\"\n",
    "SELECT COUNT(*)\n",
    "WHERE { \n",
    "\n",
    "?p wdt:P106/wdt:P279 wd:Q82955  . \n",
    "} \n",
    "\"\"\"\n",
    "\n",
    "print(\"Results\")\n",
    "run_query(queryString)"
   ]
  },
  {
   "cell_type": "markdown",
   "id": "4249525c-1b40-4804-800d-c5e08cedf077",
   "metadata": {},
   "source": [
    "# Task 1\n",
    "\n",
    "*Identify the BGP to retrieve E.U. countries and their politicians*\n",
    "\n",
    "For completing the task, first we have to identify the node representing the E.U., so let's start by analyzing the properties that enter Europe as a continent:"
   ]
  },
  {
   "cell_type": "code",
   "execution_count": null,
   "id": "632a34e4-359e-41d6-9d34-d33a1f7f6cb3",
   "metadata": {},
   "outputs": [],
   "source": [
    "# Check connections to europe\n",
    "queryString = \"\"\"\n",
    "SELECT (count(*)as ?p)\n",
    "WHERE { \n",
    "\n",
    "?x ?p wd:Q46  . \n",
    "} \n",
    "\"\"\"\n",
    "\n",
    "print(\"Results\")\n",
    "run_query(queryString)"
   ]
  },
  {
   "cell_type": "markdown",
   "id": "fb35abcc-b085-4e98-8b3e-320740963e3d",
   "metadata": {},
   "source": [
    "Let's check in particular how is Italy connected to Europe"
   ]
  },
  {
   "cell_type": "code",
   "execution_count": 5,
   "id": "d9498994-32ef-40fb-815e-e5edfc1bde3d",
   "metadata": {},
   "outputs": [
    {
     "name": "stdout",
     "output_type": "stream",
     "text": [
      "Results\n",
      "[('p', '2')]\n"
     ]
    },
    {
     "data": {
      "text/plain": [
       "1"
      ]
     },
     "execution_count": 5,
     "metadata": {},
     "output_type": "execute_result"
    }
   ],
   "source": [
    "# check connections between Europe and Italy\n",
    "queryString = \"\"\"\n",
    "SELECT (count(*)as ?p)\n",
    "WHERE { \n",
    "\n",
    "wd:Q38 ?p wd:Q46  . \n",
    "}  \n",
    "\"\"\"\n",
    "\n",
    "print(\"Results\")\n",
    "run_query(queryString)"
   ]
  },
  {
   "cell_type": "code",
   "execution_count": 6,
   "id": "e7c9fced-9275-438c-88f2-9f3f0ac25a17",
   "metadata": {},
   "outputs": [
    {
     "name": "stdout",
     "output_type": "stream",
     "text": [
      "Results\n",
      "[('p', 'http://www.wikidata.org/prop/direct/P30')]\n",
      "[('p', 'http://www.wikidata.org/prop/direct/P361')]\n"
     ]
    },
    {
     "data": {
      "text/plain": [
       "2"
      ]
     },
     "execution_count": 6,
     "metadata": {},
     "output_type": "execute_result"
    }
   ],
   "source": [
    "# list connections between europe and italy\n",
    "queryString = \"\"\"\n",
    "SELECT ?p\n",
    "WHERE { \n",
    "\n",
    "wd:Q38 ?p wd:Q46  . \n",
    "}  \n",
    "\"\"\"\n",
    "\n",
    "print(\"Results\")\n",
    "run_query(queryString)"
   ]
  },
  {
   "cell_type": "code",
   "execution_count": 7,
   "id": "2b073837-db41-4633-a30c-b2f3ae823445",
   "metadata": {},
   "outputs": [
    {
     "name": "stdout",
     "output_type": "stream",
     "text": [
      "Results\n",
      "[('name', 'continent')]\n",
      "[('name', 'part of')]\n"
     ]
    },
    {
     "data": {
      "text/plain": [
       "2"
      ]
     },
     "execution_count": 7,
     "metadata": {},
     "output_type": "execute_result"
    }
   ],
   "source": [
    "# give a name to the connections between europe and italy\n",
    "queryString = \"\"\"\n",
    "SELECT ?name\n",
    "WHERE { \n",
    "\n",
    "wd:Q38 ?p wd:Q46  . \n",
    "?p <http://schema.org/name> ?name\n",
    "}  \n",
    "\"\"\"\n",
    "\n",
    "print(\"Results\")\n",
    "run_query(queryString)"
   ]
  },
  {
   "cell_type": "markdown",
   "id": "7729c8ae-1d54-4faa-be00-809e9c15578f",
   "metadata": {},
   "source": [
    "Italy is \"part of\" Europe, so maybe it will be part of the E.U."
   ]
  },
  {
   "cell_type": "code",
   "execution_count": 8,
   "id": "68b1829d-935f-45a7-b058-1a90cdf907f2",
   "metadata": {},
   "outputs": [
    {
     "name": "stdout",
     "output_type": "stream",
     "text": [
      "Results\n",
      "[('x', '1')]\n"
     ]
    },
    {
     "data": {
      "text/plain": [
       "1"
      ]
     },
     "execution_count": 8,
     "metadata": {},
     "output_type": "execute_result"
    }
   ],
   "source": [
    "# \"part of\" seems promising, try to see if maybe italy is \"part of\" the EU other than the continent Europe\n",
    "queryString = \"\"\"\n",
    "SELECT (count(?name) as ?x)\n",
    "WHERE { \n",
    "\n",
    "wd:Q38 wdt:P361 ?name  . \n",
    "\n",
    "}  \n",
    "\"\"\"\n",
    "\n",
    "print(\"Results\")\n",
    "run_query(queryString)"
   ]
  },
  {
   "cell_type": "markdown",
   "id": "e463b2f2-b0fb-433a-ae3c-cafe566663d4",
   "metadata": {},
   "source": [
    "Italy is not \"part of\" the E.U.. Let's try another way. We can guess that Europe is connected with the E.U. (in some way) and that the E.U. is connected to Italy. This is probably true in this way, reversed (Italy is connected to the E.U. and the E.U. is connected to Europe) or both."
   ]
  },
  {
   "cell_type": "code",
   "execution_count": 9,
   "id": "eb03466e-ce07-46f6-a831-77992c040567",
   "metadata": {},
   "outputs": [
    {
     "name": "stdout",
     "output_type": "stream",
     "text": [
      "Results\n",
      "[('n', '1')]\n"
     ]
    },
    {
     "data": {
      "text/plain": [
       "1"
      ]
     },
     "execution_count": 9,
     "metadata": {},
     "output_type": "execute_result"
    }
   ],
   "source": [
    "# Apparently is not \"part of\" but something else. Count how many connections has Europe in general (considering that the thing connected has to also be connected with italy, in this case ?y are the possible candidate for the EU)\n",
    "queryString = \"\"\"\n",
    "SELECT (count(?x) as ?n)\n",
    "WHERE { \n",
    "\n",
    "wd:Q46 ?x ?y .\n",
    "?y ?z wd:Q38 .\n",
    "}  \n",
    "\"\"\"\n",
    "\n",
    "print(\"Results\")\n",
    "run_query(queryString)"
   ]
  },
  {
   "cell_type": "code",
   "execution_count": 6,
   "id": "35997eac-4a81-4260-a5f2-afb1be3a9ad8",
   "metadata": {},
   "outputs": [
    {
     "name": "stdout",
     "output_type": "stream",
     "text": [
      "Results\n",
      "[('x', 'http://www.wikidata.org/prop/direct/P527'), ('name', 'has part')]\n"
     ]
    },
    {
     "data": {
      "text/plain": [
       "1"
      ]
     },
     "execution_count": 6,
     "metadata": {},
     "output_type": "execute_result"
    }
   ],
   "source": [
    "# Show the possible properties\n",
    "queryString = \"\"\"\n",
    "SELECT DISTINCT ?x ?name\n",
    "WHERE { \n",
    "\n",
    "wd:Q46 ?x ?y .\n",
    "?y ?z wd:Q38 .\n",
    "?x <http://schema.org/name> ?name .\n",
    "}  \n",
    "\"\"\"\n",
    "\n",
    "print(\"Results\")\n",
    "run_query(queryString)"
   ]
  },
  {
   "cell_type": "markdown",
   "id": "0011452e-f75f-4456-901c-7ded47df07e1",
   "metadata": {},
   "source": [
    "\"has part\" could be what we need to connect a country with the E.U.. Let's check."
   ]
  },
  {
   "cell_type": "code",
   "execution_count": 7,
   "id": "4d2cecb2-693e-439a-9f54-9833d08fceef",
   "metadata": {},
   "outputs": [
    {
     "name": "stdout",
     "output_type": "stream",
     "text": [
      "Results\n",
      "[('y', 'http://www.wikidata.org/entity/Q1072120'), ('name', 'Missile Technology Control Regime')]\n",
      "[('y', 'http://www.wikidata.org/entity/Q1480793'), ('name', 'Nuclear Suppliers Group')]\n",
      "[('y', 'http://www.wikidata.org/entity/Q1969730'), ('name', 'Schengen Area')]\n",
      "[('y', 'http://www.wikidata.org/entity/Q19771'), ('name', 'G20')]\n",
      "[('y', 'http://www.wikidata.org/entity/Q290712'), ('name', 'Statute of the Council of Europe')]\n",
      "[('y', 'http://www.wikidata.org/entity/Q458'), ('name', 'European Union')]\n",
      "[('y', 'http://www.wikidata.org/entity/Q782942'), ('name', 'Australia Group')]\n",
      "[('y', 'http://www.wikidata.org/entity/Q8268'), ('name', 'Eurozone')]\n",
      "[('y', 'http://www.wikidata.org/entity/Q27449'), ('name', 'Southern Europe')]\n",
      "[('y', 'http://www.wikidata.org/entity/Q1769361'), ('name', 'list of countries with IKEA stores')]\n",
      "[('y', 'http://www.wikidata.org/entity/Q30386'), ('name', 'Alpenländer')]\n",
      "[('y', 'http://www.wikidata.org/entity/Q673158'), ('name', 'Wassenaar Arrangement')]\n",
      "[('y', 'http://www.wikidata.org/entity/Q2103943'), ('name', 'DING FLOF BIPS')]\n",
      "[('y', 'http://www.wikidata.org/entity/Q28134858'), ('name', 'EU Med Group')]\n",
      "[('y', 'http://www.wikidata.org/entity/Q712129'), ('name', 'EU three')]\n",
      "[('y', 'http://www.wikidata.org/entity/Q146905'), ('name', 'Zangger Committee')]\n",
      "[('y', 'http://www.wikidata.org/entity/Q877399'), ('name', 'North Atlantic Treaty')]\n",
      "[('y', 'http://www.wikidata.org/entity/Q17076426'), ('name', 'G4')]\n"
     ]
    },
    {
     "data": {
      "text/plain": [
       "18"
      ]
     },
     "execution_count": 7,
     "metadata": {},
     "output_type": "execute_result"
    }
   ],
   "source": [
    "# Now in the possible ?y we have to have the EU\n",
    "queryString = \"\"\"\n",
    "SELECT ?y ?name\n",
    "WHERE { \n",
    "\n",
    "?y wdt:P527 wd:Q38 .\n",
    "?y <http://schema.org/name> ?name .\n",
    "}  \n",
    "\"\"\"\n",
    "\n",
    "print(\"Results\")\n",
    "run_query(queryString)"
   ]
  },
  {
   "cell_type": "markdown",
   "id": "cb535ec9-6831-4cba-9a81-351a32ee0e5f",
   "metadata": {},
   "source": [
    "Q458 represents the E.U.. Now let's check some connection to see if everything makes sense"
   ]
  },
  {
   "cell_type": "code",
   "execution_count": 12,
   "id": "21b4b272-70db-4965-9da8-c5571da94591",
   "metadata": {},
   "outputs": [
    {
     "name": "stdout",
     "output_type": "stream",
     "text": [
      "Results\n",
      "[('y', 'http://www.wikidata.org/prop/direct/P112'), ('name', 'founded by')]\n",
      "[('y', 'http://www.wikidata.org/prop/direct/P150'), ('name', 'contains administrative territorial entity')]\n",
      "[('y', 'http://www.wikidata.org/prop/direct/P527'), ('name', 'has part')]\n"
     ]
    },
    {
     "data": {
      "text/plain": [
       "3"
      ]
     },
     "execution_count": 12,
     "metadata": {},
     "output_type": "execute_result"
    }
   ],
   "source": [
    "# We found the EU, let's see if there are other connections with italy\n",
    "queryString = \"\"\"\n",
    "SELECT ?y ?name\n",
    "WHERE { \n",
    "\n",
    "wd:Q458 ?y wd:Q38 .\n",
    "?y <http://schema.org/name> ?name .\n",
    "}  \n",
    "\"\"\"\n",
    "\n",
    "print(\"Results\")\n",
    "run_query(queryString)"
   ]
  },
  {
   "cell_type": "code",
   "execution_count": 13,
   "id": "e74a62bc-7276-4c4a-bbdd-15845cd458ff",
   "metadata": {},
   "outputs": [
    {
     "name": "stdout",
     "output_type": "stream",
     "text": [
      "Results\n",
      "[('x', '27')]\n"
     ]
    },
    {
     "data": {
      "text/plain": [
       "1"
      ]
     },
     "execution_count": 13,
     "metadata": {},
     "output_type": "execute_result"
    }
   ],
   "source": [
    "# \"has part\" is definitely what we need. EU has 27 state so check if it is correct\n",
    "queryString = \"\"\"\n",
    "SELECT (count(?p) as ?x)\n",
    "WHERE { \n",
    "\n",
    "wd:Q458 wdt:P527 ?p .\n",
    "\n",
    "}  \n",
    "\"\"\"\n",
    "\n",
    "print(\"Results\")\n",
    "run_query(queryString)"
   ]
  },
  {
   "cell_type": "markdown",
   "id": "f0ab19ea-0766-43a6-bf9f-c83b14bc54b5",
   "metadata": {},
   "source": [
    "We have everything that we need to specify the BGP to retrieve all the politicians in the E.U. countries."
   ]
  },
  {
   "cell_type": "code",
   "execution_count": 17,
   "id": "5a8ddaec-c818-4aee-8980-814f307c67f4",
   "metadata": {},
   "outputs": [
    {
     "name": "stdout",
     "output_type": "stream",
     "text": [
      "Results\n",
      "[('politician', 'http://www.wikidata.org/entity/Q1930688'), ('country', 'http://www.wikidata.org/entity/Q142')]\n",
      "[('politician', 'http://www.wikidata.org/entity/Q15727916'), ('country', 'http://www.wikidata.org/entity/Q142')]\n",
      "[('politician', 'http://www.wikidata.org/entity/Q2718795'), ('country', 'http://www.wikidata.org/entity/Q142')]\n",
      "[('politician', 'http://www.wikidata.org/entity/Q15845440'), ('country', 'http://www.wikidata.org/entity/Q142')]\n",
      "[('politician', 'http://www.wikidata.org/entity/Q15845443'), ('country', 'http://www.wikidata.org/entity/Q142')]\n",
      "[('politician', 'http://www.wikidata.org/entity/Q15845470'), ('country', 'http://www.wikidata.org/entity/Q142')]\n",
      "[('politician', 'http://www.wikidata.org/entity/Q15850631'), ('country', 'http://www.wikidata.org/entity/Q142')]\n",
      "[('politician', 'http://www.wikidata.org/entity/Q15891861'), ('country', 'http://www.wikidata.org/entity/Q142')]\n",
      "[('politician', 'http://www.wikidata.org/entity/Q15925252'), ('country', 'http://www.wikidata.org/entity/Q142')]\n",
      "[('politician', 'http://www.wikidata.org/entity/Q2341785'), ('country', 'http://www.wikidata.org/entity/Q142')]\n"
     ]
    },
    {
     "data": {
      "text/plain": [
       "10"
      ]
     },
     "execution_count": 17,
     "metadata": {},
     "output_type": "execute_result"
    }
   ],
   "source": [
    "# ANSWER to 1) Identify the BGP to retrieve E.U. countries and their politicians\n",
    "queryString = \"\"\"\n",
    "SELECT ?politician ?country\n",
    "WHERE { \n",
    "wd:Q458 wdt:P527 ?country .\n",
    "?politician wdt:P106 wd:Q82955 .\n",
    "?politician wdt:P27 ?country .\n",
    "}limit 10\n",
    "\"\"\"\n",
    "\n",
    "print(\"Results\")\n",
    "run_query(queryString)"
   ]
  },
  {
   "cell_type": "markdown",
   "id": "5a2351e8-0ea1-45fa-8efe-9c0d2f4cbe4b",
   "metadata": {},
   "source": [
    "***\n",
    "\n",
    "# Task 2\n",
    "*Identify the BGP for obtaining other occupations and properties of politicians*\n",
    "\n",
    "\n",
    "We can also answer the second question about the BGP to obtain other occupations and properties of the politicians in the E.U.."
   ]
  },
  {
   "cell_type": "code",
   "execution_count": 23,
   "id": "71ce8c80-3b1a-478d-9bc7-7be9be36f458",
   "metadata": {},
   "outputs": [
    {
     "name": "stdout",
     "output_type": "stream",
     "text": [
      "Results\n",
      "[('pol', 'http://www.wikidata.org/entity/Q1930688'), ('otherO', 'http://www.wikidata.org/entity/Q121594'), ('otherP', 'http://www.w3.org/1999/02/22-rdf-syntax-ns#type')]\n",
      "[('pol', 'http://www.wikidata.org/entity/Q1930688'), ('otherO', 'http://www.wikidata.org/entity/Q188094'), ('otherP', 'http://www.w3.org/1999/02/22-rdf-syntax-ns#type')]\n",
      "[('pol', 'http://www.wikidata.org/entity/Q1930688'), ('otherO', 'http://www.wikidata.org/entity/Q1930187'), ('otherP', 'http://www.w3.org/1999/02/22-rdf-syntax-ns#type')]\n",
      "[('pol', 'http://www.wikidata.org/entity/Q1930688'), ('otherO', 'http://www.wikidata.org/entity/Q81096'), ('otherP', 'http://www.w3.org/1999/02/22-rdf-syntax-ns#type')]\n",
      "[('pol', 'http://www.wikidata.org/entity/Q1930688'), ('otherO', 'http://www.wikidata.org/entity/Q121594'), ('otherP', 'http://www.wikidata.org/prop/direct-normalized/P1006')]\n",
      "[('pol', 'http://www.wikidata.org/entity/Q1930688'), ('otherO', 'http://www.wikidata.org/entity/Q188094'), ('otherP', 'http://www.wikidata.org/prop/direct-normalized/P1006')]\n",
      "[('pol', 'http://www.wikidata.org/entity/Q1930688'), ('otherO', 'http://www.wikidata.org/entity/Q1930187'), ('otherP', 'http://www.wikidata.org/prop/direct-normalized/P1006')]\n",
      "[('pol', 'http://www.wikidata.org/entity/Q1930688'), ('otherO', 'http://www.wikidata.org/entity/Q81096'), ('otherP', 'http://www.wikidata.org/prop/direct-normalized/P1006')]\n",
      "[('pol', 'http://www.wikidata.org/entity/Q1930688'), ('otherO', 'http://www.wikidata.org/entity/Q121594'), ('otherP', 'http://www.wikidata.org/prop/direct-normalized/P1871')]\n",
      "[('pol', 'http://www.wikidata.org/entity/Q1930688'), ('otherO', 'http://www.wikidata.org/entity/Q188094'), ('otherP', 'http://www.wikidata.org/prop/direct-normalized/P1871')]\n"
     ]
    },
    {
     "data": {
      "text/plain": [
       "10"
      ]
     },
     "execution_count": 23,
     "metadata": {},
     "output_type": "execute_result"
    }
   ],
   "source": [
    "# ANSWER to 2). Identify the BGP for obtaining other occupations and properties of politicians \n",
    "queryString = \"\"\"\n",
    "SELECT ?pol ?otherO ?otherP\n",
    "WHERE { \n",
    "wd:Q458 wdt:P527 ?x .\n",
    "?pol wdt:P106 wd:Q82955 .\n",
    "?pol wdt:P27 ?x .\n",
    "?pol wdt:P106 ?otherO .\n",
    "?pol ?otherP ?a\n",
    "filter (?otherO != wd:Q82955)\n",
    "filter (?otherP != wdt:P106 )\n",
    "}limit 10\n",
    "\"\"\"\n",
    "print(\"Results\")\n",
    "run_query(queryString)"
   ]
  },
  {
   "cell_type": "markdown",
   "id": "4508d01e-438b-49c5-a7a1-fefe698cac96",
   "metadata": {},
   "source": [
    "***\n",
    "\n",
    "# Task 3\n",
    "\n",
    "*How many politicians are recorder for each E.U. country?*\n",
    "\n",
    "Considering that we have the E.U. node and we know how is connected to the singles countries, we can also answer the third task."
   ]
  },
  {
   "cell_type": "code",
   "execution_count": 8,
   "id": "242887eb-de51-49db-b017-54d48941aae0",
   "metadata": {},
   "outputs": [
    {
     "name": "stdout",
     "output_type": "stream",
     "text": [
      "Results\n",
      "[('npol', '1267'), ('name', 'Slovenia')]\n",
      "[('npol', '5185'), ('name', 'Poland')]\n",
      "[('npol', '1432'), ('name', 'Estonia')]\n",
      "[('npol', '2237'), ('name', 'Czech Republic')]\n",
      "[('npol', '791'), ('name', 'Netherlands')]\n",
      "[('npol', '79874'), ('name', 'France')]\n",
      "[('npol', '4802'), ('name', 'Greece')]\n",
      "[('npol', '4111'), ('name', 'Hungary')]\n",
      "[('npol', '30310'), ('name', 'Spain')]\n",
      "[('npol', '7964'), ('name', 'Belgium')]\n",
      "[('npol', '401'), ('name', 'Croatia')]\n",
      "[('npol', '4170'), ('name', 'Finland')]\n",
      "[('npol', '12028'), ('name', 'Italy')]\n",
      "[('npol', '372'), ('name', 'Slovakia')]\n",
      "[('npol', '1512'), ('name', 'Bulgaria')]\n",
      "[('npol', '7912'), ('name', 'Sweden')]\n",
      "[('npol', '2536'), ('name', 'Denmark')]\n",
      "[('npol', '33613'), ('name', 'Germany')]\n",
      "[('npol', '1092'), ('name', 'Latvia')]\n",
      "[('npol', '222'), ('name', 'Malta')]\n",
      "[('npol', '6997'), ('name', 'Austria')]\n",
      "[('npol', '7'), ('name', 'Ireland')]\n",
      "[('npol', '486'), ('name', 'Cyprus')]\n",
      "[('npol', '1072'), ('name', 'Luxembourg')]\n",
      "[('npol', '2201'), ('name', 'Portugal')]\n",
      "[('npol', '1205'), ('name', 'Lithuania')]\n",
      "[('npol', '8737'), ('name', 'Romania')]\n"
     ]
    },
    {
     "data": {
      "text/plain": [
       "27"
      ]
     },
     "execution_count": 8,
     "metadata": {},
     "output_type": "execute_result"
    }
   ],
   "source": [
    "# ANSWER to 3). How many politicians are recorder for each E.U. country?\n",
    "queryString = \"\"\"\n",
    "SELECT (count(?politician) as ?npol) ?name\n",
    "WHERE { \n",
    "wd:Q458 wdt:P527 ?country .\n",
    "?politician wdt:P106 wd:Q82955 .\n",
    "?politician wdt:P27 ?country .\n",
    "?country <http://schema.org/name> ?name .\n",
    "}group by (?name)\n",
    "\"\"\"\n",
    "\n",
    "print(\"Results\")\n",
    "run_query(queryString)"
   ]
  },
  {
   "cell_type": "markdown",
   "id": "a8142b5c-ee9f-402e-9c48-20cab3b045f9",
   "metadata": {},
   "source": [
    "# Random exploration\n",
    "\n",
    "In the question is not specified, but maybe we have to consider only the alive ones, so let's try to find only them. We pick one at random and try to see if is dead or not (probably it will have a property about death).\n",
    "\n",
    "In hindsight this wasn't a smart approach, it would have been smarter to check with a regex all the properties going out of politician."
   ]
  },
  {
   "cell_type": "code",
   "execution_count": 3,
   "id": "975cb572-d04d-4121-b8e0-0a34f014c022",
   "metadata": {},
   "outputs": [
    {
     "name": "stdout",
     "output_type": "stream",
     "text": [
      "Results\n",
      "[('politician', 'http://www.wikidata.org/entity/Q1930688'), ('country', 'http://www.wikidata.org/entity/Q142')]\n",
      "[('politician', 'http://www.wikidata.org/entity/Q15727916'), ('country', 'http://www.wikidata.org/entity/Q142')]\n",
      "[('politician', 'http://www.wikidata.org/entity/Q2718795'), ('country', 'http://www.wikidata.org/entity/Q142')]\n",
      "[('politician', 'http://www.wikidata.org/entity/Q15845440'), ('country', 'http://www.wikidata.org/entity/Q142')]\n",
      "[('politician', 'http://www.wikidata.org/entity/Q15845443'), ('country', 'http://www.wikidata.org/entity/Q142')]\n",
      "[('politician', 'http://www.wikidata.org/entity/Q15845470'), ('country', 'http://www.wikidata.org/entity/Q142')]\n",
      "[('politician', 'http://www.wikidata.org/entity/Q15850631'), ('country', 'http://www.wikidata.org/entity/Q142')]\n",
      "[('politician', 'http://www.wikidata.org/entity/Q15891861'), ('country', 'http://www.wikidata.org/entity/Q142')]\n",
      "[('politician', 'http://www.wikidata.org/entity/Q15925252'), ('country', 'http://www.wikidata.org/entity/Q142')]\n",
      "[('politician', 'http://www.wikidata.org/entity/Q2341785'), ('country', 'http://www.wikidata.org/entity/Q142')]\n"
     ]
    },
    {
     "data": {
      "text/plain": [
       "10"
      ]
     },
     "execution_count": 3,
     "metadata": {},
     "output_type": "execute_result"
    }
   ],
   "source": [
    "# Let's try to find only the alive ones\n",
    "queryString = \"\"\"\n",
    "SELECT ?politician ?country\n",
    "WHERE { \n",
    "wd:Q458 wdt:P527 ?country .\n",
    "?politician wdt:P106 wd:Q82955 .\n",
    "?politician wdt:P27 ?country .\n",
    "}limit 10\n",
    "    \"\"\"\n",
    "\n",
    "print(\"Results\")\n",
    "run_query(queryString)"
   ]
  },
  {
   "cell_type": "code",
   "execution_count": 5,
   "id": "a552ab52-4c47-45ae-a7d1-06dd8370857c",
   "metadata": {},
   "outputs": [
    {
     "name": "stdout",
     "output_type": "stream",
     "text": [
      "Results\n",
      "[('p', 'http://www.wikidata.org/prop/direct/P1005'), ('name', 'Portuguese National Library ID')]\n",
      "[('p', 'http://www.wikidata.org/prop/direct/P1006'), ('name', 'Nationale Thesaurus voor Auteurs ID')]\n",
      "[('p', 'http://www.wikidata.org/prop/direct/P103'), ('name', 'native language')]\n",
      "[('p', 'http://www.wikidata.org/prop/direct/P1045'), ('name', 'Sycomore ID')]\n",
      "[('p', 'http://www.wikidata.org/prop/direct/P106'), ('name', 'occupation')]\n",
      "[('p', 'http://www.wikidata.org/prop/direct/P108'), ('name', 'employer')]\n",
      "[('p', 'http://www.wikidata.org/prop/direct/P1207'), ('name', 'NUKAT ID')]\n",
      "[('p', 'http://www.wikidata.org/prop/direct/P1273'), ('name', 'CANTIC ID')]\n",
      "[('p', 'http://www.wikidata.org/prop/direct/P1280'), ('name', 'CONOR.SI ID')]\n",
      "[('p', 'http://www.wikidata.org/prop/direct/P1296'), ('name', 'Gran Enciclopèdia Catalana ID')]\n",
      "[('p', 'http://www.wikidata.org/prop/direct/P1315'), ('name', 'NLA Trove ID')]\n",
      "[('p', 'http://www.wikidata.org/prop/direct/P1343'), ('name', 'described by source')]\n",
      "[('p', 'http://www.wikidata.org/prop/direct/P1412'), ('name', 'languages spoken, written or signed')]\n",
      "[('p', 'http://www.wikidata.org/prop/direct/P1417'), ('name', 'Encyclopædia Britannica Online ID')]\n",
      "[('p', 'http://www.wikidata.org/prop/direct/P1580'), ('name', 'University of Barcelona authority ID')]\n",
      "[('p', 'http://www.wikidata.org/prop/direct/P166'), ('name', 'award received')]\n",
      "[('p', 'http://www.wikidata.org/prop/direct/P18'), ('name', 'image')]\n",
      "[('p', 'http://www.wikidata.org/prop/direct/P1816'), ('name', 'National Portrait Gallery (London) person ID')]\n",
      "[('p', 'http://www.wikidata.org/prop/direct/P1830'), ('name', 'owner of')]\n",
      "[('p', 'http://www.wikidata.org/prop/direct/P1871'), ('name', 'CERL Thesaurus ID')]\n",
      "[('p', 'http://www.wikidata.org/prop/direct/P19'), ('name', 'place of birth')]\n",
      "[('p', 'http://www.wikidata.org/prop/direct/P1938'), ('name', 'Project Gutenberg author ID')]\n",
      "[('p', 'http://www.wikidata.org/prop/direct/P20'), ('name', 'place of death')]\n",
      "[('p', 'http://www.wikidata.org/prop/direct/P21'), ('name', 'sex or gender')]\n",
      "[('p', 'http://www.wikidata.org/prop/direct/P213'), ('name', 'ISNI')]\n",
      "[('p', 'http://www.wikidata.org/prop/direct/P214'), ('name', 'VIAF ID')]\n",
      "[('p', 'http://www.wikidata.org/prop/direct/P2163'), ('name', 'FAST ID')]\n",
      "[('p', 'http://www.wikidata.org/prop/direct/P2268'), ('name', \"Musée d'Orsay artist ID\")]\n",
      "[('p', 'http://www.wikidata.org/prop/direct/P227'), ('name', 'GND ID')]\n",
      "[('p', 'http://www.wikidata.org/prop/direct/P2383'), ('name', 'CTHS person ID')]\n",
      "[('p', 'http://www.wikidata.org/prop/direct/P244'), ('name', 'Library of Congress authority ID')]\n",
      "[('p', 'http://www.wikidata.org/prop/direct/P245'), ('name', 'Union List of Artist Names ID')]\n",
      "[('p', 'http://www.wikidata.org/prop/direct/P2454'), ('name', 'KNAW past member ID')]\n",
      "[('p', 'http://www.wikidata.org/prop/direct/P268'), ('name', 'Bibliothèque nationale de France ID')]\n",
      "[('p', 'http://www.wikidata.org/prop/direct/P269'), ('name', 'IdRef ID')]\n",
      "[('p', 'http://www.wikidata.org/prop/direct/P27'), ('name', 'country of citizenship')]\n",
      "[('p', 'http://www.wikidata.org/prop/direct/P3029'), ('name', 'UK National Archives ID')]\n",
      "[('p', 'http://www.wikidata.org/prop/direct/P31'), ('name', 'instance of')]\n",
      "[('p', 'http://www.wikidata.org/prop/direct/P3219'), ('name', 'Encyclopædia Universalis ID')]\n",
      "[('p', 'http://www.wikidata.org/prop/direct/P3348'), ('name', 'National Library of Greece ID')]\n",
      "[('p', 'http://www.wikidata.org/prop/direct/P3365'), ('name', 'Treccani ID')]\n",
      "[('p', 'http://www.wikidata.org/prop/direct/P3373'), ('name', 'sibling')]\n",
      "[('p', 'http://www.wikidata.org/prop/direct/P3430'), ('name', 'SNAC ARK ID')]\n",
      "[('p', 'http://www.wikidata.org/prop/direct/P349'), ('name', 'National Diet Library ID')]\n",
      "[('p', 'http://www.wikidata.org/prop/direct/P3630'), ('name', 'Babelio author ID')]\n",
      "[('p', 'http://www.wikidata.org/prop/direct/P373'), ('name', 'Commons category')]\n",
      "[('p', 'http://www.wikidata.org/prop/direct/P3762'), ('name', 'openMLOL author ID')]\n",
      "[('p', 'http://www.wikidata.org/prop/direct/P39'), ('name', 'position held')]\n",
      "[('p', 'http://www.wikidata.org/prop/direct/P3987'), ('name', 'SHARE Catalogue author ID')]\n",
      "[('p', 'http://www.wikidata.org/prop/direct/P463'), ('name', 'member of')]\n",
      "[('p', 'http://www.wikidata.org/prop/direct/P569'), ('name', 'date of birth')]\n",
      "[('p', 'http://www.wikidata.org/prop/direct/P570'), ('name', 'date of death')]\n",
      "[('p', 'http://www.wikidata.org/prop/direct/P5731'), ('name', 'Angelicum ID')]\n",
      "[('p', 'http://www.wikidata.org/prop/direct/P640'), ('name', 'Léonore ID')]\n",
      "[('p', 'http://www.wikidata.org/prop/direct/P646'), ('name', 'Freebase ID')]\n",
      "[('p', 'http://www.wikidata.org/prop/direct/P648'), ('name', 'Open Library ID')]\n",
      "[('p', 'http://www.wikidata.org/prop/direct/P6821'), ('name', 'Uppsala University Alvin ID')]\n",
      "[('p', 'http://www.wikidata.org/prop/direct/P6886'), ('name', 'writing language')]\n",
      "[('p', 'http://www.wikidata.org/prop/direct/P69'), ('name', 'educated at')]\n",
      "[('p', 'http://www.wikidata.org/prop/direct/P691'), ('name', 'NKCR AUT ID')]\n",
      "[('p', 'http://www.wikidata.org/prop/direct/P7293'), ('name', 'PLWABN ID')]\n",
      "[('p', 'http://www.wikidata.org/prop/direct/P734'), ('name', 'family name')]\n",
      "[('p', 'http://www.wikidata.org/prop/direct/P735'), ('name', 'given name')]\n",
      "[('p', 'http://www.wikidata.org/prop/direct/P7763'), ('name', 'copyright status as a creator')]\n",
      "[('p', 'http://www.wikidata.org/prop/direct/P7859'), ('name', 'WorldCat Identities ID')]\n",
      "[('p', 'http://www.wikidata.org/prop/direct/P7902'), ('name', 'Deutsche Biographie (GND) ID')]\n",
      "[('p', 'http://www.wikidata.org/prop/direct/P8034'), ('name', 'Vatican Library VcBA ID')]\n",
      "[('p', 'http://www.wikidata.org/prop/direct/P8496'), ('name', 'Archive Site Trinity College Cambridge ID')]\n",
      "[('p', 'http://www.wikidata.org/prop/direct/P8547'), ('name', 'BHF author ID')]\n",
      "[('p', 'http://www.wikidata.org/prop/direct/P8826'), ('name', 'edition humboldt digital ID')]\n",
      "[('p', 'http://www.wikidata.org/prop/direct/P8902'), ('name', 'Archives at Yale names ID')]\n",
      "[('p', 'http://www.wikidata.org/prop/direct/P937'), ('name', 'work location')]\n",
      "[('p', 'http://www.wikidata.org/prop/direct/P949'), ('name', 'National Library of Israel ID')]\n",
      "[('p', 'http://www.wikidata.org/prop/direct/P950'), ('name', 'Biblioteca Nacional de España ID')]\n",
      "[('p', 'http://www.wikidata.org/prop/direct/P1808'), ('name', 'senat.fr ID')]\n",
      "[('p', 'http://www.wikidata.org/prop/direct/P4440'), ('name', 'Biblioteca Nacional de México ID')]\n",
      "[('p', 'http://www.wikidata.org/prop/direct/P1565'), ('name', 'Enciclopedia de la Literatura en México ID')]\n"
     ]
    },
    {
     "data": {
      "text/plain": [
       "77"
      ]
     },
     "execution_count": 5,
     "metadata": {},
     "output_type": "execute_result"
    }
   ],
   "source": [
    "# We are searching for something about death\n",
    "queryString = \"\"\"\n",
    "SELECT distinct ?p ?name\n",
    "WHERE { \n",
    "wd:Q1930688 ?p ?c .\n",
    "?p <http://schema.org/name> ?name .\n",
    "\n",
    "}\n",
    "    \"\"\"\n",
    "\n",
    "print(\"Results\")\n",
    "run_query(queryString)"
   ]
  },
  {
   "cell_type": "markdown",
   "id": "2383256d-9885-4582-88d8-d14c56a51073",
   "metadata": {},
   "source": [
    "There are few properties about death. Probably the better ones for our case (the one that probably will be present if someone is dead) are the date or the place. So we use that to refine the task 1 answer"
   ]
  },
  {
   "cell_type": "code",
   "execution_count": 2,
   "id": "a7505810-5aba-47e4-9b6e-3eef6acb368f",
   "metadata": {},
   "outputs": [
    {
     "name": "stdout",
     "output_type": "stream",
     "text": [
      "Results\n",
      "[('politician', 'http://www.wikidata.org/entity/Q16007948'), ('country', 'http://www.wikidata.org/entity/Q142')]\n",
      "[('politician', 'http://www.wikidata.org/entity/Q16011458'), ('country', 'http://www.wikidata.org/entity/Q142')]\n",
      "[('politician', 'http://www.wikidata.org/entity/Q16011469'), ('country', 'http://www.wikidata.org/entity/Q142')]\n",
      "[('politician', 'http://www.wikidata.org/entity/Q16025475'), ('country', 'http://www.wikidata.org/entity/Q142')]\n",
      "[('politician', 'http://www.wikidata.org/entity/Q16026791'), ('country', 'http://www.wikidata.org/entity/Q142')]\n",
      "[('politician', 'http://www.wikidata.org/entity/Q16026836'), ('country', 'http://www.wikidata.org/entity/Q142')]\n",
      "[('politician', 'http://www.wikidata.org/entity/Q16026908'), ('country', 'http://www.wikidata.org/entity/Q142')]\n",
      "[('politician', 'http://www.wikidata.org/entity/Q2898805'), ('country', 'http://www.wikidata.org/entity/Q142')]\n",
      "[('politician', 'http://www.wikidata.org/entity/Q528581'), ('country', 'http://www.wikidata.org/entity/Q142')]\n",
      "[('politician', 'http://www.wikidata.org/entity/Q99035871'), ('country', 'http://www.wikidata.org/entity/Q142')]\n"
     ]
    },
    {
     "data": {
      "text/plain": [
       "10"
      ]
     },
     "execution_count": 2,
     "metadata": {},
     "output_type": "execute_result"
    }
   ],
   "source": [
    "# answer to 1 (with only the alive ones)\n",
    "queryString = \"\"\"\n",
    "SELECT ?politician ?country\n",
    "WHERE { \n",
    "wd:Q458 wdt:P527 ?country .\n",
    "?politician wdt:P106 wd:Q82955 .\n",
    "?politician wdt:P27 ?country .\n",
    "filter not exists{?politician wdt:P570|wdt:P20 ?nnn}\n",
    "}limit 10\n",
    "\"\"\"\n",
    "\n",
    "print(\"Results\")\n",
    "run_query(queryString)    "
   ]
  },
  {
   "cell_type": "markdown",
   "id": "b54ad314-6793-4c02-b9a1-bb3c1d0be4af",
   "metadata": {},
   "source": [
    "***\n",
    "\n",
    "# Task 4\n",
    "\n",
    "*Are there politicians with double citizenship?*\n",
    "\n"
   ]
  },
  {
   "cell_type": "code",
   "execution_count": 12,
   "id": "390166a4-bbea-44cd-a70f-1141a3eb793a",
   "metadata": {},
   "outputs": [
    {
     "name": "stdout",
     "output_type": "stream",
     "text": [
      "Results\n"
     ]
    },
    {
     "data": {
      "text/plain": [
       "{'head': {'link': []}, 'boolean': True}"
      ]
     },
     "execution_count": 12,
     "metadata": {},
     "output_type": "execute_result"
    }
   ],
   "source": [
    "# ANSWER to 4) Try to find politicians with more than one citizenship \n",
    "queryString = \"\"\"\n",
    "ask where {{\n",
    " select ?politician (count(?country) as ?c)\n",
    "    WHERE { \n",
    "    wd:Q458 wdt:P527 ?country .\n",
    "    ?politician wdt:P106 wd:Q82955 .\n",
    "    ?politician wdt:P27 ?country .\n",
    "    filter not exists{?politician wdt:P570 ?nnn} \n",
    "    } group by ?politician\n",
    "    having (count(?country)>1)\n",
    "  }  \n",
    "}   \n",
    "\"\"\"\n",
    "\n",
    "print(\"Results\")\n",
    "run_ask_query(queryString) "
   ]
  },
  {
   "cell_type": "markdown",
   "id": "770bbe96-5a46-4769-9b6d-0eec8e33f34a",
   "metadata": {},
   "source": [
    "***\n",
    "\n",
    "# Task 5.1 and 5.2\n",
    "\n",
    "*What are the top-3 occupations for a politician in Italy and France?*\n",
    "\n",
    "*What if you consider only politicians for which we don't have a date of death?*\n",
    "\n",
    "Let's start by finding the top occupations for a politician in Italy"
   ]
  },
  {
   "cell_type": "code",
   "execution_count": 13,
   "id": "e52ecd87-7705-4fb8-9b83-b06ee6d1745a",
   "metadata": {
    "collapsed": true,
    "jupyter": {
     "outputs_hidden": true
    },
    "tags": []
   },
   "outputs": [
    {
     "name": "stdout",
     "output_type": "stream",
     "text": [
      "Results\n",
      "[('p', '730'), ('name', 'journalist')]\n",
      "[('p', '706'), ('name', 'lawyer')]\n",
      "[('p', '337'), ('name', 'writer')]\n",
      "[('p', '227'), ('name', 'entrepreneur')]\n",
      "[('p', '226'), ('name', 'teacher')]\n",
      "[('p', '220'), ('name', 'university teacher')]\n",
      "[('p', '186'), ('name', 'trade unionist')]\n",
      "[('p', '180'), ('name', 'economist')]\n",
      "[('p', '173'), ('name', 'physician')]\n",
      "[('p', '149'), ('name', 'engineer')]\n",
      "[('p', '132'), ('name', 'jurist')]\n",
      "[('p', '128'), ('name', 'historian')]\n",
      "[('p', '107'), ('name', 'diplomat')]\n",
      "[('p', '104'), ('name', 'magistrate')]\n",
      "[('p', '80'), ('name', 'judge')]\n",
      "[('p', '77'), ('name', 'businessperson')]\n",
      "[('p', '69'), ('name', 'partisan')]\n",
      "[('p', '66'), ('name', 'architect')]\n",
      "[('p', '61'), ('name', 'philosopher')]\n",
      "[('p', '58'), ('name', 'screenwriter')]\n",
      "[('p', '55'), ('name', 'poet')]\n",
      "[('p', '53'), ('name', 'civil servant')]\n",
      "[('p', '45'), ('name', 'banker')]\n",
      "[('p', '44'), ('name', 'military personnel')]\n",
      "[('p', '42'), ('name', 'actor')]\n",
      "[('p', '40'), ('name', 'television presenter')]\n",
      "[('p', '39'), ('name', 'essayist')]\n",
      "[('p', '37'), ('name', 'surgeon')]\n",
      "[('p', '37'), ('name', 'military officer')]\n",
      "[('p', '32'), ('name', 'translator')]\n",
      "[('p', '29'), ('name', 'farmer')]\n",
      "[('p', '29'), ('name', 'manager')]\n",
      "[('p', '24'), ('name', 'film director')]\n",
      "[('p', '23'), ('name', 'editor')]\n",
      "[('p', '23'), ('name', 'association football player')]\n",
      "[('p', '23'), ('name', 'painter')]\n",
      "[('p', '22'), ('name', 'academic')]\n",
      "[('p', '22'), ('name', 'sociologist')]\n",
      "[('p', '21'), ('name', 'literary critic')]\n",
      "[('p', '21'), ('name', 'professor')]\n",
      "[('p', '21'), ('name', 'agronomist')]\n",
      "[('p', '20'), ('name', 'pubblicista journalist')]\n",
      "[('p', '18'), ('name', 'archaeologist')]\n",
      "[('p', '18'), ('name', 'aircraft pilot')]\n",
      "[('p', '17'), ('name', 'physicist')]\n",
      "[('p', '15'), ('name', 'industrialist')]\n",
      "[('p', '15'), ('name', 'chemist')]\n",
      "[('p', '14'), ('name', 'art historian')]\n",
      "[('p', '14'), ('name', 'composer')]\n",
      "[('p', '14'), ('name', 'mathematician')]\n",
      "[('p', '14'), ('name', 'singer')]\n",
      "[('p', '13'), ('name', 'opinion journalist')]\n",
      "[('p', '13'), ('name', 'antifascist')]\n",
      "[('p', '12'), ('name', 'activist')]\n",
      "[('p', '12'), ('name', 'playwright')]\n",
      "[('p', '12'), ('name', 'librarian')]\n",
      "[('p', '12'), ('name', 'stage actor')]\n",
      "[('p', '12'), ('name', 'pedagogue')]\n",
      "[('p', '11'), ('name', 'minister')]\n",
      "[('p', '11'), ('name', 'urban planner')]\n",
      "[('p', '11'), ('name', 'rector')]\n",
      "[('p', '11'), ('name', 'mountaineer')]\n",
      "[('p', '11'), ('name', 'film actor')]\n",
      "[('p', '11'), ('name', 'statistician')]\n",
      "[('p', '11'), ('name', 'radio personality')]\n",
      "[('p', '11'), ('name', 'author')]\n",
      "[('p', '10'), ('name', 'linguist')]\n",
      "[('p', '10'), ('name', 'biologist')]\n",
      "[('p', '10'), ('name', 'researcher')]\n",
      "[('p', '9'), ('name', 'sports executive')]\n",
      "[('p', '9'), ('name', 'fencer')]\n",
      "[('p', '9'), ('name', 'geologist')]\n",
      "[('p', '9'), ('name', 'psychiatrist')]\n",
      "[('p', '9'), ('name', 'veterinarian')]\n",
      "[('p', '9'), ('name', 'blogger')]\n",
      "[('p', '9'), ('name', 'accountant technician')]\n",
      "[('p', '9'), ('name', 'cultural worker')]\n",
      "[('p', '8'), ('name', 'computer scientist')]\n",
      "[('p', '8'), ('name', 'musician')]\n",
      "[('p', '8'), ('name', 'art critic')]\n",
      "[('p', '8'), ('name', 'Catholic priest')]\n",
      "[('p', '8'), ('name', 'film producer')]\n",
      "[('p', '7'), ('name', 'criminologist')]\n",
      "[('p', '7'), ('name', 'singer-songwriter')]\n",
      "[('p', '7'), ('name', 'civil engineer')]\n",
      "[('p', '7'), ('name', 'tax advisor')]\n",
      "[('p', '7'), ('name', 'political scientist')]\n",
      "[('p', '7'), ('name', 'racing automobile driver')]\n",
      "[('p', '7'), ('name', 'geographer')]\n",
      "[('p', '7'), ('name', 'publisher')]\n",
      "[('p', '7'), ('name', 'anthropologist')]\n",
      "[('p', '7'), ('name', 'novelist')]\n",
      "[('p', '6'), ('name', 'sculptor')]\n",
      "[('p', '6'), ('name', 'ship-owner')]\n",
      "[('p', '6'), ('name', 'theatrical director')]\n",
      "[('p', '6'), ('name', 'human rights activist')]\n",
      "[('p', '6'), ('name', 'model')]\n",
      "[('p', '6'), ('name', 'classical philologist')]\n",
      "[('p', '6'), ('name', 'philologist')]\n",
      "[('p', '6'), ('name', 'presbyter')]\n"
     ]
    },
    {
     "data": {
      "text/plain": [
       "100"
      ]
     },
     "execution_count": 13,
     "metadata": {},
     "output_type": "execute_result"
    }
   ],
   "source": [
    "# top occupations in italy\n",
    "queryString = \"\"\"\n",
    "SELECT (count(?pol) as ?p) ?name\n",
    "WHERE { \n",
    "?pol wdt:P106 wd:Q82955 .\n",
    "?pol wdt:P27 wd:Q38 .\n",
    "?pol wdt:P106 ?otherO .\n",
    "filter (?otherO != wd:Q82955)\n",
    "?otherO <http://schema.org/name> ?name .\n",
    "}group by (?name)\n",
    "order by desc (?p)\n",
    "limit 100\n",
    "\"\"\"\n",
    "\n",
    "print(\"Results\")\n",
    "run_query(queryString) "
   ]
  },
  {
   "cell_type": "markdown",
   "id": "d162810d-9fce-45ea-a9e7-2156daeeb2af",
   "metadata": {},
   "source": [
    "We need the country of France obviously"
   ]
  },
  {
   "cell_type": "code",
   "execution_count": 29,
   "id": "6ae38483-bef8-42f2-b5a3-7008220cdc01",
   "metadata": {},
   "outputs": [
    {
     "name": "stdout",
     "output_type": "stream",
     "text": [
      "Results\n",
      "[('p', 'http://www.wikidata.org/entity/Q142'), ('name', 'France')]\n",
      "[('p', 'http://www.wikidata.org/entity/Q183'), ('name', 'Germany')]\n",
      "[('p', 'http://www.wikidata.org/entity/Q191'), ('name', 'Estonia')]\n",
      "[('p', 'http://www.wikidata.org/entity/Q211'), ('name', 'Latvia')]\n",
      "[('p', 'http://www.wikidata.org/entity/Q213'), ('name', 'Czech Republic')]\n",
      "[('p', 'http://www.wikidata.org/entity/Q214'), ('name', 'Slovakia')]\n",
      "[('p', 'http://www.wikidata.org/entity/Q215'), ('name', 'Slovenia')]\n",
      "[('p', 'http://www.wikidata.org/entity/Q218'), ('name', 'Romania')]\n",
      "[('p', 'http://www.wikidata.org/entity/Q219'), ('name', 'Bulgaria')]\n",
      "[('p', 'http://www.wikidata.org/entity/Q224'), ('name', 'Croatia')]\n",
      "[('p', 'http://www.wikidata.org/entity/Q229'), ('name', 'Cyprus')]\n",
      "[('p', 'http://www.wikidata.org/entity/Q233'), ('name', 'Malta')]\n",
      "[('p', 'http://www.wikidata.org/entity/Q28'), ('name', 'Hungary')]\n",
      "[('p', 'http://www.wikidata.org/entity/Q29'), ('name', 'Spain')]\n",
      "[('p', 'http://www.wikidata.org/entity/Q31'), ('name', 'Belgium')]\n",
      "[('p', 'http://www.wikidata.org/entity/Q32'), ('name', 'Luxembourg')]\n",
      "[('p', 'http://www.wikidata.org/entity/Q33'), ('name', 'Finland')]\n",
      "[('p', 'http://www.wikidata.org/entity/Q34'), ('name', 'Sweden')]\n",
      "[('p', 'http://www.wikidata.org/entity/Q35'), ('name', 'Denmark')]\n",
      "[('p', 'http://www.wikidata.org/entity/Q36'), ('name', 'Poland')]\n",
      "[('p', 'http://www.wikidata.org/entity/Q37'), ('name', 'Lithuania')]\n",
      "[('p', 'http://www.wikidata.org/entity/Q38'), ('name', 'Italy')]\n",
      "[('p', 'http://www.wikidata.org/entity/Q40'), ('name', 'Austria')]\n",
      "[('p', 'http://www.wikidata.org/entity/Q41'), ('name', 'Greece')]\n",
      "[('p', 'http://www.wikidata.org/entity/Q45'), ('name', 'Portugal')]\n",
      "[('p', 'http://www.wikidata.org/entity/Q55'), ('name', 'Netherlands')]\n",
      "[('p', 'http://www.wikidata.org/entity/Q22890'), ('name', 'Ireland')]\n"
     ]
    },
    {
     "data": {
      "text/plain": [
       "27"
      ]
     },
     "execution_count": 29,
     "metadata": {},
     "output_type": "execute_result"
    }
   ],
   "source": [
    "# Find france\n",
    "queryString = \"\"\"\n",
    "SELECT ?p ?name\n",
    "WHERE { \n",
    "\n",
    "wd:Q458 wdt:P527 ?p .\n",
    "?p <http://schema.org/name> ?name\n",
    "}  \n",
    "\"\"\"\n",
    "\n",
    "print(\"Results\")\n",
    "run_query(queryString)"
   ]
  },
  {
   "cell_type": "markdown",
   "id": "681d0c18-81df-491f-9a8a-bd159b450ef4",
   "metadata": {},
   "source": [
    "Putting everything together for the answer of task 5. The occupation do not change even considering only the alive ones"
   ]
  },
  {
   "cell_type": "code",
   "execution_count": 18,
   "id": "39525c0a-d9db-48bd-abec-a94768358dec",
   "metadata": {},
   "outputs": [
    {
     "name": "stdout",
     "output_type": "stream",
     "text": [
      "Results\n",
      "[('name', 'pensioner'), ('p', '14812')]\n",
      "[('name', 'anciens cadres'), ('p', '5432')]\n",
      "[('name', 'farm operator'), ('p', '4907')]\n",
      "[('name', 'journalist'), ('p', '730')]\n",
      "[('name', 'lawyer'), ('p', '706')]\n",
      "[('name', 'writer'), ('p', '337')]\n"
     ]
    },
    {
     "data": {
      "text/plain": [
       "6"
      ]
     },
     "execution_count": 18,
     "metadata": {},
     "output_type": "execute_result"
    }
   ],
   "source": [
    "# ANSWER to 5.1\n",
    "queryString = \"\"\"\n",
    "SELECT distinct ?name ?p\n",
    "WHERE{\n",
    "    {\n",
    "    SELECT (count(?pol) as ?p) ?name\n",
    "    WHERE { \n",
    "        ?pol wdt:P106 wd:Q82955 .\n",
    "        ?pol wdt:P27 wd:Q38 .\n",
    "        ?pol wdt:P106 ?otherO .\n",
    "        filter (?otherO != wd:Q82955)\n",
    "        ?otherO <http://schema.org/name> ?name .\n",
    "    }group by (?name)\n",
    "    order by desc (?p)\n",
    "    limit 3\n",
    "    }\n",
    "UNION\n",
    "    {\n",
    "    SELECT (count(?pol) as ?p) ?name\n",
    "    WHERE { \n",
    "        ?pol wdt:P106 wd:Q82955 .\n",
    "        ?pol wdt:P27 wd:Q142 .\n",
    "        ?pol wdt:P106 ?otherO .\n",
    "        filter (?otherO != wd:Q82955)\n",
    "        ?otherO <http://schema.org/name> ?name .\n",
    "    }group by (?name)\n",
    "    order by desc (?p)\n",
    "    limit 3\n",
    "      }\n",
    "}order by desc (?p)\n",
    "\"\"\"\n",
    "\n",
    "print(\"Results\")\n",
    "run_query(queryString)"
   ]
  },
  {
   "cell_type": "code",
   "execution_count": 19,
   "id": "a7a07b51-677a-4e99-988e-8b2c19538d74",
   "metadata": {},
   "outputs": [
    {
     "name": "stdout",
     "output_type": "stream",
     "text": [
      "Results\n",
      "[('name', 'pensioner'), ('p', '14701')]\n",
      "[('name', 'anciens cadres'), ('p', '5432')]\n",
      "[('name', 'farm operator'), ('p', '4893')]\n",
      "[('name', 'journalist'), ('p', '330')]\n",
      "[('name', 'lawyer'), ('p', '247')]\n",
      "[('name', 'writer'), ('p', '131')]\n"
     ]
    },
    {
     "data": {
      "text/plain": [
       "6"
      ]
     },
     "execution_count": 19,
     "metadata": {},
     "output_type": "execute_result"
    }
   ],
   "source": [
    "# ANSWER to 5.2\n",
    "queryString = \"\"\"\n",
    "SELECT distinct ?name ?p\n",
    "WHERE{\n",
    "    {\n",
    "    SELECT (count(?pol) as ?p) ?name\n",
    "    WHERE { \n",
    "        ?pol wdt:P106 wd:Q82955 .\n",
    "        ?pol wdt:P27 wd:Q38 .\n",
    "        ?pol wdt:P106 ?otherO .\n",
    "        filter not exists{?pol wdt:P570 ?nnn}\n",
    "        filter (?otherO != wd:Q82955)\n",
    "        ?otherO <http://schema.org/name> ?name .\n",
    "    }group by (?name)\n",
    "    order by desc (?p)\n",
    "    limit 3\n",
    "    }\n",
    "UNION\n",
    "    {\n",
    "    SELECT (count(?pol) as ?p) ?name\n",
    "    WHERE { \n",
    "        ?pol wdt:P106 wd:Q82955 .\n",
    "        ?pol wdt:P27 wd:Q142 .\n",
    "        ?pol wdt:P106 ?otherO .\n",
    "        filter not exists{?pol wdt:P570 ?nnn}\n",
    "        filter (?otherO != wd:Q82955)\n",
    "        ?otherO <http://schema.org/name> ?name .\n",
    "    }group by (?name)\n",
    "    order by desc (?p)\n",
    "    limit 3\n",
    "    }\n",
    "}order by desc (?p)\n",
    "\"\"\"\n",
    "\n",
    "print(\"Results\")\n",
    "run_query(queryString)"
   ]
  },
  {
   "cell_type": "markdown",
   "id": "5520c64c-a6d4-433d-bea2-6102e0814ec7",
   "metadata": {},
   "source": [
    "***\n",
    "\n",
    "# Task 5.3\n",
    "\n",
    "*Which politicians had a spouse that was also a politician? How many in each country?*\n",
    "\n",
    "First we need to find the property that connects the politician to his/her spouse"
   ]
  },
  {
   "cell_type": "code",
   "execution_count": 20,
   "id": "2c1a42ff-a578-4e56-a6da-530cc09580ab",
   "metadata": {},
   "outputs": [
    {
     "name": "stdout",
     "output_type": "stream",
     "text": [
      "Results\n",
      "[('otherP', 'http://www.wikidata.org/prop/direct/P4944'), ('name', 'Premiers préfets ID')]\n",
      "[('otherP', 'http://www.wikidata.org/prop/direct/P6728'), ('name', 'Dictionnaire des Vendéens ID')]\n",
      "[('otherP', 'http://www.wikidata.org/prop/direct/P4906'), ('name', 'Bargeton ID')]\n",
      "[('otherP', 'http://www.wikidata.org/prop/direct/P1005'), ('name', 'Portuguese National Library ID')]\n",
      "[('otherP', 'http://www.wikidata.org/prop/direct/P1006'), ('name', 'Nationale Thesaurus voor Auteurs ID')]\n",
      "[('otherP', 'http://www.wikidata.org/prop/direct/P1015'), ('name', 'NORAF ID')]\n",
      "[('otherP', 'http://www.wikidata.org/prop/direct/P1017'), ('name', 'Vatican Library ID (former scheme)')]\n",
      "[('otherP', 'http://www.wikidata.org/prop/direct/P102'), ('name', 'member of political party')]\n",
      "[('otherP', 'http://www.wikidata.org/prop/direct/P103'), ('name', 'native language')]\n",
      "[('otherP', 'http://www.wikidata.org/prop/direct/P1038'), ('name', 'relative')]\n",
      "[('otherP', 'http://www.wikidata.org/prop/direct/P1045'), ('name', 'Sycomore ID')]\n",
      "[('otherP', 'http://www.wikidata.org/prop/direct/P108'), ('name', 'employer')]\n",
      "[('otherP', 'http://www.wikidata.org/prop/direct/P119'), ('name', 'place of burial')]\n",
      "[('otherP', 'http://www.wikidata.org/prop/direct/P1196'), ('name', 'manner of death')]\n",
      "[('otherP', 'http://www.wikidata.org/prop/direct/P1207'), ('name', 'NUKAT ID')]\n",
      "[('otherP', 'http://www.wikidata.org/prop/direct/P1273'), ('name', 'CANTIC ID')]\n",
      "[('otherP', 'http://www.wikidata.org/prop/direct/P1280'), ('name', 'CONOR.SI ID')]\n",
      "[('otherP', 'http://www.wikidata.org/prop/direct/P1296'), ('name', 'Gran Enciclopèdia Catalana ID')]\n",
      "[('otherP', 'http://www.wikidata.org/prop/direct/P1315'), ('name', 'NLA Trove ID')]\n",
      "[('otherP', 'http://www.wikidata.org/prop/direct/P1343'), ('name', 'described by source')]\n",
      "[('otherP', 'http://www.wikidata.org/prop/direct/P135'), ('name', 'movement')]\n",
      "[('otherP', 'http://www.wikidata.org/prop/direct/P1412'), ('name', 'languages spoken, written or signed')]\n",
      "[('otherP', 'http://www.wikidata.org/prop/direct/P1417'), ('name', 'Encyclopædia Britannica Online ID')]\n",
      "[('otherP', 'http://www.wikidata.org/prop/direct/P1442'), ('name', 'image of grave')]\n",
      "[('otherP', 'http://www.wikidata.org/prop/direct/P1580'), ('name', 'University of Barcelona authority ID')]\n",
      "[('otherP', 'http://www.wikidata.org/prop/direct/P166'), ('name', 'award received')]\n",
      "[('otherP', 'http://www.wikidata.org/prop/direct/P1695'), ('name', 'NLP ID (unique)')]\n",
      "[('otherP', 'http://www.wikidata.org/prop/direct/P1749'), ('name', 'Parlement.com ID')]\n",
      "[('otherP', 'http://www.wikidata.org/prop/direct/P18'), ('name', 'image')]\n",
      "[('otherP', 'http://www.wikidata.org/prop/direct/P1816'), ('name', 'National Portrait Gallery (London) person ID')]\n",
      "[('otherP', 'http://www.wikidata.org/prop/direct/P1830'), ('name', 'owner of')]\n",
      "[('otherP', 'http://www.wikidata.org/prop/direct/P1871'), ('name', 'CERL Thesaurus ID')]\n",
      "[('otherP', 'http://www.wikidata.org/prop/direct/P1889'), ('name', 'different from')]\n",
      "[('otherP', 'http://www.wikidata.org/prop/direct/P19'), ('name', 'place of birth')]\n",
      "[('otherP', 'http://www.wikidata.org/prop/direct/P1938'), ('name', 'Project Gutenberg author ID')]\n",
      "[('otherP', 'http://www.wikidata.org/prop/direct/P20'), ('name', 'place of death')]\n",
      "[('otherP', 'http://www.wikidata.org/prop/direct/P2002'), ('name', 'Twitter username')]\n",
      "[('otherP', 'http://www.wikidata.org/prop/direct/P2013'), ('name', 'Facebook ID')]\n",
      "[('otherP', 'http://www.wikidata.org/prop/direct/P21'), ('name', 'sex or gender')]\n",
      "[('otherP', 'http://www.wikidata.org/prop/direct/P213'), ('name', 'ISNI')]\n",
      "[('otherP', 'http://www.wikidata.org/prop/direct/P214'), ('name', 'VIAF ID')]\n",
      "[('otherP', 'http://www.wikidata.org/prop/direct/P2163'), ('name', 'FAST ID')]\n",
      "[('otherP', 'http://www.wikidata.org/prop/direct/P22'), ('name', 'father')]\n",
      "[('otherP', 'http://www.wikidata.org/prop/direct/P2268'), ('name', \"Musée d'Orsay artist ID\")]\n",
      "[('otherP', 'http://www.wikidata.org/prop/direct/P227'), ('name', 'GND ID')]\n",
      "[('otherP', 'http://www.wikidata.org/prop/direct/P2342'), ('name', 'AGORHA person/institution ID')]\n",
      "[('otherP', 'http://www.wikidata.org/prop/direct/P2383'), ('name', 'CTHS person ID')]\n",
      "[('otherP', 'http://www.wikidata.org/prop/direct/P244'), ('name', 'Library of Congress authority ID')]\n",
      "[('otherP', 'http://www.wikidata.org/prop/direct/P245'), ('name', 'Union List of Artist Names ID')]\n",
      "[('otherP', 'http://www.wikidata.org/prop/direct/P2454'), ('name', 'KNAW past member ID')]\n",
      "[('otherP', 'http://www.wikidata.org/prop/direct/P25'), ('name', 'mother')]\n",
      "[('otherP', 'http://www.wikidata.org/prop/direct/P26'), ('name', 'spouse')]\n",
      "[('otherP', 'http://www.wikidata.org/prop/direct/P2600'), ('name', 'Geni.com profile ID')]\n",
      "[('otherP', 'http://www.wikidata.org/prop/direct/P2671'), ('name', 'Google Knowledge Graph ID')]\n",
      "[('otherP', 'http://www.wikidata.org/prop/direct/P268'), ('name', 'Bibliothèque nationale de France ID')]\n",
      "[('otherP', 'http://www.wikidata.org/prop/direct/P269'), ('name', 'IdRef ID')]\n",
      "[('otherP', 'http://www.wikidata.org/prop/direct/P27'), ('name', 'country of citizenship')]\n",
      "[('otherP', 'http://www.wikidata.org/prop/direct/P271'), ('name', 'CiNii author ID (books)')]\n",
      "[('otherP', 'http://www.wikidata.org/prop/direct/P2799'), ('name', 'BVMC person ID')]\n",
      "[('otherP', 'http://www.wikidata.org/prop/direct/P2949'), ('name', 'WikiTree person ID')]\n",
      "[('otherP', 'http://www.wikidata.org/prop/direct/P2977'), ('name', 'LBT person ID')]\n",
      "[('otherP', 'http://www.wikidata.org/prop/direct/P3029'), ('name', 'UK National Archives ID')]\n",
      "[('otherP', 'http://www.wikidata.org/prop/direct/P3065'), ('name', 'RERO ID')]\n",
      "[('otherP', 'http://www.wikidata.org/prop/direct/P31'), ('name', 'instance of')]\n",
      "[('otherP', 'http://www.wikidata.org/prop/direct/P3219'), ('name', 'Encyclopædia Universalis ID')]\n",
      "[('otherP', 'http://www.wikidata.org/prop/direct/P3348'), ('name', 'National Library of Greece ID')]\n",
      "[('otherP', 'http://www.wikidata.org/prop/direct/P3365'), ('name', 'Treccani ID')]\n",
      "[('otherP', 'http://www.wikidata.org/prop/direct/P3373'), ('name', 'sibling')]\n",
      "[('otherP', 'http://www.wikidata.org/prop/direct/P3429'), ('name', 'Electronic Enlightenment ID')]\n",
      "[('otherP', 'http://www.wikidata.org/prop/direct/P3430'), ('name', 'SNAC ARK ID')]\n",
      "[('otherP', 'http://www.wikidata.org/prop/direct/P349'), ('name', 'National Diet Library ID')]\n",
      "[('otherP', 'http://www.wikidata.org/prop/direct/P3599'), ('name', 'archival creator authority record at the Archives nationales')]\n",
      "[('otherP', 'http://www.wikidata.org/prop/direct/P3630'), ('name', 'Babelio author ID')]\n",
      "[('otherP', 'http://www.wikidata.org/prop/direct/P373'), ('name', 'Commons category')]\n",
      "[('otherP', 'http://www.wikidata.org/prop/direct/P3762'), ('name', 'openMLOL author ID')]\n",
      "[('otherP', 'http://www.wikidata.org/prop/direct/P39'), ('name', 'position held')]\n",
      "[('otherP', 'http://www.wikidata.org/prop/direct/P3987'), ('name', 'SHARE Catalogue author ID')]\n",
      "[('otherP', 'http://www.wikidata.org/prop/direct/P40'), ('name', 'child')]\n",
      "[('otherP', 'http://www.wikidata.org/prop/direct/P409'), ('name', 'Libraries Australia ID')]\n",
      "[('otherP', 'http://www.wikidata.org/prop/direct/P410'), ('name', 'military rank')]\n",
      "[('otherP', 'http://www.wikidata.org/prop/direct/P4124'), ('name', \"Who's Who in France biography ID\")]\n",
      "[('otherP', 'http://www.wikidata.org/prop/direct/P443'), ('name', 'pronunciation audio')]\n",
      "[('otherP', 'http://www.wikidata.org/prop/direct/P463'), ('name', 'member of')]\n",
      "[('otherP', 'http://www.wikidata.org/prop/direct/P4717'), ('name', 'Académie française member ID')]\n",
      "[('otherP', 'http://www.wikidata.org/prop/direct/P4724'), ('name', 'Maitron ID')]\n",
      "[('otherP', 'http://www.wikidata.org/prop/direct/P485'), ('name', 'archives at')]\n",
      "[('otherP', 'http://www.wikidata.org/prop/direct/P509'), ('name', 'cause of death')]\n",
      "[('otherP', 'http://www.wikidata.org/prop/direct/P53'), ('name', 'family')]\n",
      "[('otherP', 'http://www.wikidata.org/prop/direct/P551'), ('name', 'residence')]\n",
      "[('otherP', 'http://www.wikidata.org/prop/direct/P569'), ('name', 'date of birth')]\n",
      "[('otherP', 'http://www.wikidata.org/prop/direct/P570'), ('name', 'date of death')]\n",
      "[('otherP', 'http://www.wikidata.org/prop/direct/P5731'), ('name', 'Angelicum ID')]\n",
      "[('otherP', 'http://www.wikidata.org/prop/direct/P607'), ('name', 'conflict')]\n",
      "[('otherP', 'http://www.wikidata.org/prop/direct/P640'), ('name', 'Léonore ID')]\n",
      "[('otherP', 'http://www.wikidata.org/prop/direct/P646'), ('name', 'Freebase ID')]\n",
      "[('otherP', 'http://www.wikidata.org/prop/direct/P648'), ('name', 'Open Library ID')]\n",
      "[('otherP', 'http://www.wikidata.org/prop/direct/P651'), ('name', 'Biografisch Portaal van Nederland ID')]\n",
      "[('otherP', 'http://www.wikidata.org/prop/direct/P6821'), ('name', 'Uppsala University Alvin ID')]\n",
      "[('otherP', 'http://www.wikidata.org/prop/direct/P6872'), ('name', 'has written for')]\n",
      "[('otherP', 'http://www.wikidata.org/prop/direct/P6886'), ('name', 'writing language')]\n"
     ]
    },
    {
     "data": {
      "text/plain": [
       "100"
      ]
     },
     "execution_count": 20,
     "metadata": {},
     "output_type": "execute_result"
    }
   ],
   "source": [
    "# Find the spouse property\n",
    "queryString = \"\"\"\n",
    "SELECT distinct ?otherP ?name\n",
    "WHERE { \n",
    "    wd:Q458 wdt:P527 ?country .\n",
    "    ?politician wdt:P106 wd:Q82955 .\n",
    "    ?politician wdt:P27 ?country .\n",
    "    ?politician ?otherP ?a .\n",
    "    ?otherP <http://schema.org/name> ?name\n",
    "    filter (?otherP != wdt:P106 ) \n",
    "}limit 100\n",
    "\"\"\"\n",
    "\n",
    "print(\"Results\")\n",
    "run_query(queryString)"
   ]
  },
  {
   "cell_type": "code",
   "execution_count": 39,
   "id": "609d6d2d-7a51-4379-96b7-95654d703247",
   "metadata": {},
   "outputs": [
    {
     "name": "stdout",
     "output_type": "stream",
     "text": [
      "Results\n",
      "[('p', '294'), ('name', 'France')]\n",
      "[('p', '221'), ('name', 'Germany')]\n",
      "[('p', '163'), ('name', 'Spain')]\n",
      "[('p', '95'), ('name', 'Sweden')]\n",
      "[('p', '79'), ('name', 'Finland')]\n",
      "[('p', '69'), ('name', 'Italy')]\n",
      "[('p', '51'), ('name', 'Denmark')]\n",
      "[('p', '44'), ('name', 'Poland')]\n",
      "[('p', '43'), ('name', 'Hungary')]\n",
      "[('p', '41'), ('name', 'Austria')]\n",
      "[('p', '34'), ('name', 'Greece')]\n",
      "[('p', '32'), ('name', 'Romania')]\n",
      "[('p', '25'), ('name', 'Czech Republic')]\n",
      "[('p', '22'), ('name', 'Estonia')]\n",
      "[('p', '21'), ('name', 'Belgium')]\n",
      "[('p', '18'), ('name', 'Portugal')]\n",
      "[('p', '15'), ('name', 'Latvia')]\n",
      "[('p', '14'), ('name', 'Slovenia')]\n",
      "[('p', '10'), ('name', 'Cyprus')]\n",
      "[('p', '10'), ('name', 'Lithuania')]\n",
      "[('p', '9'), ('name', 'Luxembourg')]\n",
      "[('p', '8'), ('name', 'Netherlands')]\n",
      "[('p', '8'), ('name', 'Bulgaria')]\n",
      "[('p', '6'), ('name', 'Croatia')]\n",
      "[('p', '6'), ('name', 'Slovakia')]\n",
      "[('p', '4'), ('name', 'Malta')]\n"
     ]
    },
    {
     "data": {
      "text/plain": [
       "26"
      ]
     },
     "execution_count": 39,
     "metadata": {},
     "output_type": "execute_result"
    }
   ],
   "source": [
    "# ANSWER to 5.3\n",
    "queryString = \"\"\"\n",
    "SELECT (count(?politician) as ?p) ?name\n",
    "WHERE { \n",
    "wd:Q458 wdt:P527 ?country .\n",
    "?politician wdt:P106 wd:Q82955 .\n",
    "?politician wdt:P27 ?country .\n",
    "?politician wdt:P26 ?spouse . \n",
    "?spouse wdt:P106 wd:Q82955 .  \n",
    "?country <http://schema.org/name> ?name .\n",
    "}group by ?name\n",
    "order by desc (?p)\n",
    "\"\"\"\n",
    "\n",
    "print(\"Results\")\n",
    "run_query(queryString)"
   ]
  },
  {
   "cell_type": "code",
   "execution_count": null,
   "id": "bda25dc5-e198-4623-aba7-dd59dad6e3a8",
   "metadata": {},
   "outputs": [],
   "source": []
  }
 ],
 "metadata": {
  "kernelspec": {
   "display_name": "Python 3",
   "language": "python",
   "name": "python3"
  },
  "language_info": {
   "codemirror_mode": {
    "name": "ipython",
    "version": 3
   },
   "file_extension": ".py",
   "mimetype": "text/x-python",
   "name": "python",
   "nbconvert_exporter": "python",
   "pygments_lexer": "ipython3",
   "version": "3.7.10"
  }
 },
 "nbformat": 4,
 "nbformat_minor": 5
}
