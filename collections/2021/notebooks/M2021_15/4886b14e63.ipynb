{
 "cells": [
  {
   "cell_type": "markdown",
   "id": "7034c3bf-6eb0-4418-8687-7b9d2a501103",
   "metadata": {},
   "source": [
    "# General instructions\n",
    "\n",
    "The goal of the project is to materialize a set of **exploratory workloads** over a real-world, large-scale,  open-domain KG: [WikiData](https://www.wikidata.org/wiki/Wikidata:Main_Page)\n",
    "\n",
    "An exploratory workload  is composed by a set of queries, where each query is related to the information obtained previously.\n",
    "\n",
    "An exploratory workload starts with a usually vague, open ended question, and does not assume the person issuing the workload has a clear understanding of the data contained in the target database or its structure.\n",
    "\n",
    "Remeber that:\n",
    "\n",
    "1. All the queries must run in the python notebook\n",
    "2. You can use classes and properties only if you find them via a SPARQL query that must be present in the notebook\n",
    "3. You do not delete useless queries. Keep everything that is synthatically valid \n",
    "\n",
    "```\n",
    "?p <http://schema.org/name> ?name .\n",
    "```\n",
    "    \n",
    "    is the BGP returning a human-readable name of a property or a class in Wikidata.\n",
    "    \n",
    "    "
   ]
  },
  {
   "cell_type": "code",
   "execution_count": null,
   "id": "3605c9d5-5371-49a5-be8d-d66e8f417139",
   "metadata": {},
   "outputs": [],
   "source": [
    "## SETUP used later\n",
    "\n",
    "from SPARQLWrapper import SPARQLWrapper, JSON\n",
    "\n",
    "\n",
    "prefixString = \"\"\"\n",
    "##-4886b14e63-##\n",
    "PREFIX wd: <http://www.wikidata.org/entity/> \n",
    "PREFIX wdt: <http://www.wikidata.org/prop/direct/> \n",
    "PREFIX sc: <http://schema.org/>\n",
    "\"\"\"\n",
    "\n",
    "# select and construct queries\n",
    "def run_query(queryString):\n",
    "    to_run = prefixString + \"\\n\" + queryString\n",
    "\n",
    "    sparql = SPARQLWrapper(\"http://a256-gc1-02.srv.aau.dk:5820/sparql\")\n",
    "    sparql.setTimeout(300)\n",
    "    sparql.setReturnFormat(JSON)\n",
    "    sparql.setQuery(to_run)\n",
    "\n",
    "    try :\n",
    "       results = sparql.query()\n",
    "       json_results = results.convert()\n",
    "       if len(json_results['results']['bindings'])==0:\n",
    "          print(\"Empty\")\n",
    "          return 0\n",
    "    \n",
    "       for bindings in json_results['results']['bindings']:\n",
    "          print( [ (var, value['value'])  for var, value in bindings.items() ] )\n",
    "\n",
    "       return len(json_results['results']['bindings'])\n",
    "\n",
    "    except Exception as e :\n",
    "        print(\"The operation failed\", e)\n",
    "    \n",
    "# ASk queries\n",
    "def run_ask_query(queryString):\n",
    "    to_run = prefixString + \"\\n\" + queryString\n",
    "\n",
    "    sparql = SPARQLWrapper(\"http://a256-gc1-02.srv.aau.dk:5820/sparql\")\n",
    "    sparql.setTimeout(300)\n",
    "    sparql.setReturnFormat(JSON)\n",
    "    sparql.setQuery(to_run)\n",
    "\n",
    "    try :\n",
    "        return sparql.query().convert()\n",
    "\n",
    "    except Exception as e :\n",
    "        print(\"The operation failed\", e)"
   ]
  },
  {
   "cell_type": "markdown",
   "id": "d477a59c-a68c-4c8f-9f97-8ca5294d7d27",
   "metadata": {},
   "source": [
    "# Movie Workflow Series (\"Horror Franchises explorative search\") \n",
    "\n",
    "Consider the following exploratory scenario:\n",
    "\n",
    "\n",
    "> we are interested in horror movies, in particular we care about the slasher subgenre, and we want to compare the Halloween and the Friday the 13th francise. \n",
    "\n",
    "Background knowledge useful for better conducting the search: Halloween is a movie from 1978 with many sequels and the set of Halloween + all the sequels is called the \"Halloween franchise\". The same considerations hold for Friday the 13th.\n",
    "\n",
    "\n",
    "## Useful URIs for the current workflow\n",
    "The following are given:\n",
    "\n",
    "| IRI           | Description   | Role      |\n",
    "| -----------   | -----------   |-----------|\n",
    "| `wdt:P1647`   | subproperty   | predicate |\n",
    "| `wdt:P31`     | instance of   | predicate |\n",
    "| `wdt:P106`    | profession    | predicate | \n",
    "| `wdt:P279`    | subclass      | predicate |\n",
    "| `wd:Q221103`     | Halloween       | node |\n",
    "| `wd:Q1243029`| Friday the 13th       | node |\n",
    "\n",
    "\n",
    "\n",
    "\n",
    "\n",
    "Also consider\n",
    "\n",
    "```\n",
    "wd:Q1243029 ?p ?obj .\n",
    "```\n",
    "\n",
    "is the BGP to retrieve all **properties of Friday the 13th**\n",
    "\n",
    "The workload should\n",
    "\n",
    "\n",
    "1. Investigate the workers of the two original movies and check any commonality \n",
    "\n",
    "2. Check who was the most famous actor/actress on Halloween and Friday the 13th at the time of the release (e.g., the actor/actress who acted in more movies before and/or the actor/actress who won more academy awards)\n",
    "\n",
    "3. Check which actor/actress did more movies after the release of these two films (consider the films separately)\n",
    "\n",
    "4. Get all the movies of the two franchises (return year and director)\n",
    "\n",
    "5. Who is most involved in a franchise (who did something in the movies, e.g., writer, director, producer)? \n",
    "\n",
    "6. Investigate which franchise is highly regarded by the critics overall\n",
    "\n",
    "7. Investigate which franchise costed more "
   ]
  },
  {
   "cell_type": "code",
   "execution_count": 2,
   "id": "24a853ab-830c-422c-afd3-e9e015b8b8ed",
   "metadata": {},
   "outputs": [],
   "source": [
    "# start your workflow here"
   ]
  },
  {
   "cell_type": "code",
   "execution_count": 3,
   "id": "ade01416-92e7-4ad7-b9a9-b8fb330750dc",
   "metadata": {},
   "outputs": [
    {
     "name": "stdout",
     "output_type": "stream",
     "text": [
      "Results\n",
      "[('p', 'http://www.w3.org/1999/02/22-rdf-syntax-ns#type'), ('obj', 'http://wikiba.se/ontology#Item')]\n",
      "[('p', 'http://www.wikidata.org/prop/direct-normalized/P244'), ('obj', 'https://id.loc.gov/authorities/names/no98033420')]\n",
      "[('p', 'http://www.wikidata.org/prop/direct-normalized/P3212'), ('obj', 'urn:isan:0000-0000-31EA-0000-G-0000-0000-Q')]\n",
      "[('p', 'http://www.wikidata.org/prop/direct-normalized/P4276'), ('obj', 'https://data.cinematheque.qc.ca/data/Work1467')]\n",
      "[('p', 'http://www.wikidata.org/prop/direct-normalized/P646'), ('obj', 'http://g.co/kg/m/016mng')]\n",
      "[('p', 'http://www.wikidata.org/prop/direct/P1237'), ('obj', 'friday13th')]\n",
      "[('p', 'http://www.wikidata.org/prop/direct/P1258'), ('obj', 'm/friday_the_13th_part_1')]\n",
      "[('p', 'http://www.wikidata.org/prop/direct/P1265'), ('obj', '505')]\n",
      "[('p', 'http://www.wikidata.org/prop/direct/P136'), ('obj', 'http://www.wikidata.org/entity/Q1067324')]\n",
      "[('p', 'http://www.wikidata.org/prop/direct/P136'), ('obj', 'http://www.wikidata.org/entity/Q1200678')]\n",
      "[('p', 'http://www.wikidata.org/prop/direct/P136'), ('obj', 'http://www.wikidata.org/entity/Q853630')]\n",
      "[('p', 'http://www.wikidata.org/prop/direct/P136'), ('obj', 'http://www.wikidata.org/entity/Q909586')]\n",
      "[('p', 'http://www.wikidata.org/prop/direct/P1411'), ('obj', 'http://www.wikidata.org/entity/Q1780634')]\n",
      "[('p', 'http://www.wikidata.org/prop/direct/P1411'), ('obj', 'http://www.wikidata.org/entity/Q977915')]\n",
      "[('p', 'http://www.wikidata.org/prop/direct/P1476'), ('obj', 'Friday the 13th')]\n",
      "[('p', 'http://www.wikidata.org/prop/direct/P156'), ('obj', 'http://www.wikidata.org/entity/Q1243009')]\n",
      "[('p', 'http://www.wikidata.org/prop/direct/P1562'), ('obj', 'v18658')]\n",
      "[('p', 'http://www.wikidata.org/prop/direct/P161'), ('obj', 'http://www.wikidata.org/entity/Q2440012')]\n",
      "[('p', 'http://www.wikidata.org/prop/direct/P161'), ('obj', 'http://www.wikidata.org/entity/Q263765')]\n",
      "[('p', 'http://www.wikidata.org/prop/direct/P161'), ('obj', 'http://www.wikidata.org/entity/Q3428829')]\n",
      "[('p', 'http://www.wikidata.org/prop/direct/P161'), ('obj', 'http://www.wikidata.org/entity/Q3434272')]\n",
      "[('p', 'http://www.wikidata.org/prop/direct/P161'), ('obj', 'http://www.wikidata.org/entity/Q3454165')]\n",
      "[('p', 'http://www.wikidata.org/prop/direct/P161'), ('obj', 'http://www.wikidata.org/entity/Q13218111')]\n",
      "[('p', 'http://www.wikidata.org/prop/direct/P161'), ('obj', 'http://www.wikidata.org/entity/Q2570201')]\n",
      "[('p', 'http://www.wikidata.org/prop/direct/P161'), ('obj', 'http://www.wikidata.org/entity/Q3047636')]\n",
      "[('p', 'http://www.wikidata.org/prop/direct/P161'), ('obj', 'http://www.wikidata.org/entity/Q524486')]\n",
      "[('p', 'http://www.wikidata.org/prop/direct/P162'), ('obj', 'http://www.wikidata.org/entity/Q709325')]\n",
      "[('p', 'http://www.wikidata.org/prop/direct/P1712'), ('obj', 'movie/friday-the-13th-1980')]\n",
      "[('p', 'http://www.wikidata.org/prop/direct/P175'), ('obj', 'http://www.wikidata.org/entity/Q664025')]\n",
      "[('p', 'http://www.wikidata.org/prop/direct/P179'), ('obj', 'http://www.wikidata.org/entity/Q1138878')]\n",
      "[('p', 'http://www.wikidata.org/prop/direct/P18'), ('obj', 'http://commons.wikimedia.org/wiki/Special:FilePath/Friday%20the%2013th%20%281980%29%20film%20logo.png')]\n",
      "[('p', 'http://www.wikidata.org/prop/direct/P1804'), ('obj', '1319')]\n",
      "[('p', 'http://www.wikidata.org/prop/direct/P1874'), ('obj', '525111')]\n",
      "[('p', 'http://www.wikidata.org/prop/direct/P1889'), ('obj', 'http://www.wikidata.org/entity/Q1454815')]\n",
      "[('p', 'http://www.wikidata.org/prop/direct/P1970'), ('obj', '1191')]\n",
      "[('p', 'http://www.wikidata.org/prop/direct/P2047'), ('obj', '91')]\n",
      "[('p', 'http://www.wikidata.org/prop/direct/P2061'), ('obj', 'http://www.wikidata.org/entity/Q752245')]\n",
      "[('p', 'http://www.wikidata.org/prop/direct/P2334'), ('obj', '7782')]\n",
      "[('p', 'http://www.wikidata.org/prop/direct/P2346'), ('obj', '133662')]\n",
      "[('p', 'http://www.wikidata.org/prop/direct/P244'), ('obj', 'no98033420')]\n",
      "[('p', 'http://www.wikidata.org/prop/direct/P2465'), ('obj', '10511')]\n",
      "[('p', 'http://www.wikidata.org/prop/direct/P2508'), ('obj', '4386')]\n",
      "[('p', 'http://www.wikidata.org/prop/direct/P2509'), ('obj', 'mv4378')]\n",
      "[('p', 'http://www.wikidata.org/prop/direct/P2518'), ('obj', '1265')]\n",
      "[('p', 'http://www.wikidata.org/prop/direct/P2529'), ('obj', '23053')]\n",
      "[('p', 'http://www.wikidata.org/prop/direct/P2603'), ('obj', '23922')]\n",
      "[('p', 'http://www.wikidata.org/prop/direct/P2631'), ('obj', '17974')]\n",
      "[('p', 'http://www.wikidata.org/prop/direct/P2638'), ('obj', 'movies/friday-the-13th-1980')]\n",
      "[('p', 'http://www.wikidata.org/prop/direct/P2704'), ('obj', '10.5240/7544-6FCA-F299-ECD8-BE4D-A')]\n",
      "[('p', 'http://www.wikidata.org/prop/direct/P272'), ('obj', 'http://www.wikidata.org/entity/Q159846')]\n",
      "[('p', 'http://www.wikidata.org/prop/direct/P2747'), ('obj', 'http://www.wikidata.org/entity/Q23830579')]\n",
      "[('p', 'http://www.wikidata.org/prop/direct/P2755'), ('obj', '52986')]\n",
      "[('p', 'http://www.wikidata.org/prop/direct/P2758'), ('obj', 'http://www.wikidata.org/entity/Q23817741')]\n",
      "[('p', 'http://www.wikidata.org/prop/direct/P3077'), ('obj', '18183')]\n",
      "[('p', 'http://www.wikidata.org/prop/direct/P31'), ('obj', 'http://www.wikidata.org/entity/Q11424')]\n",
      "[('p', 'http://www.wikidata.org/prop/direct/P3107'), ('obj', '25470')]\n",
      "[('p', 'http://www.wikidata.org/prop/direct/P3129'), ('obj', '651006')]\n",
      "[('p', 'http://www.wikidata.org/prop/direct/P3138'), ('obj', '53')]\n",
      "[('p', 'http://www.wikidata.org/prop/direct/P3141'), ('obj', 't0003232')]\n",
      "[('p', 'http://www.wikidata.org/prop/direct/P3143'), ('obj', '80561')]\n",
      "[('p', 'http://www.wikidata.org/prop/direct/P3203'), ('obj', '54093')]\n",
      "[('p', 'http://www.wikidata.org/prop/direct/P3212'), ('obj', '0000-0000-31EA-0000-G-0000-0000-Q')]\n",
      "[('p', 'http://www.wikidata.org/prop/direct/P3302'), ('obj', '4488')]\n",
      "[('p', 'http://www.wikidata.org/prop/direct/P344'), ('obj', 'http://www.wikidata.org/entity/Q4863956')]\n",
      "[('p', 'http://www.wikidata.org/prop/direct/P345'), ('obj', 'tt0080761')]\n",
      "[('p', 'http://www.wikidata.org/prop/direct/P3593'), ('obj', '56417')]\n",
      "[('p', 'http://www.wikidata.org/prop/direct/P364'), ('obj', 'http://www.wikidata.org/entity/Q1860')]\n",
      "[('p', 'http://www.wikidata.org/prop/direct/P3804'), ('obj', '123800')]\n",
      "[('p', 'http://www.wikidata.org/prop/direct/P3808'), ('obj', 'Friday-the-13th')]\n",
      "[('p', 'http://www.wikidata.org/prop/direct/P3844'), ('obj', '1142')]\n",
      "[('p', 'http://www.wikidata.org/prop/direct/P3933'), ('obj', '1294128')]\n",
      "[('p', 'http://www.wikidata.org/prop/direct/P4276'), ('obj', '1467')]\n",
      "[('p', 'http://www.wikidata.org/prop/direct/P4282'), ('obj', '13638')]\n",
      "[('p', 'http://www.wikidata.org/prop/direct/P437'), ('obj', 'http://www.wikidata.org/entity/Q723685')]\n",
      "[('p', 'http://www.wikidata.org/prop/direct/P4529'), ('obj', '1293143')]\n",
      "[('p', 'http://www.wikidata.org/prop/direct/P462'), ('obj', 'http://www.wikidata.org/entity/Q22006653')]\n",
      "[('p', 'http://www.wikidata.org/prop/direct/P4632'), ('obj', '4569')]\n",
      "[('p', 'http://www.wikidata.org/prop/direct/P4665'), ('obj', '6056')]\n",
      "[('p', 'http://www.wikidata.org/prop/direct/P480'), ('obj', '265349')]\n",
      "[('p', 'http://www.wikidata.org/prop/direct/P4947'), ('obj', '4488')]\n",
      "[('p', 'http://www.wikidata.org/prop/direct/P495'), ('obj', 'http://www.wikidata.org/entity/Q30')]\n",
      "[('p', 'http://www.wikidata.org/prop/direct/P4969'), ('obj', 'http://www.wikidata.org/entity/Q1454815')]\n",
      "[('p', 'http://www.wikidata.org/prop/direct/P5021'), ('obj', 'http://www.wikidata.org/entity/Q4165246')]\n",
      "[('p', 'http://www.wikidata.org/prop/direct/P5032'), ('obj', '8684')]\n",
      "[('p', 'http://www.wikidata.org/prop/direct/P5099'), ('obj', 'film/venerdi13')]\n",
      "[('p', 'http://www.wikidata.org/prop/direct/P5693'), ('obj', '93065')]\n",
      "[('p', 'http://www.wikidata.org/prop/direct/P57'), ('obj', 'http://www.wikidata.org/entity/Q709325')]\n",
      "[('p', 'http://www.wikidata.org/prop/direct/P577'), ('obj', '1980-05-09T00:00:00Z')]\n",
      "[('p', 'http://www.wikidata.org/prop/direct/P577'), ('obj', '1980-10-23T00:00:00Z')]\n",
      "[('p', 'http://www.wikidata.org/prop/direct/P577'), ('obj', '1980-11-10T00:00:00Z')]\n",
      "[('p', 'http://www.wikidata.org/prop/direct/P5786'), ('obj', 'freitag-der-13')]\n",
      "[('p', 'http://www.wikidata.org/prop/direct/P58'), ('obj', 'http://www.wikidata.org/entity/Q7926158')]\n",
      "[('p', 'http://www.wikidata.org/prop/direct/P5905'), ('obj', '4025-275')]\n",
      "[('p', 'http://www.wikidata.org/prop/direct/P6127'), ('obj', 'friday-the-13th')]\n",
      "[('p', 'http://www.wikidata.org/prop/direct/P6262'), ('obj', 'movies:Friday_the_13th_(1980)')]\n",
      "[('p', 'http://www.wikidata.org/prop/direct/P6262'), ('obj', 'the80smovies:Friday_the_13th')]\n",
      "[('p', 'http://www.wikidata.org/prop/direct/P6398'), ('obj', '305332580')]\n",
      "[('p', 'http://www.wikidata.org/prop/direct/P6398'), ('obj', '312028305')]\n",
      "[('p', 'http://www.wikidata.org/prop/direct/P646'), ('obj', '/m/016mng')]\n",
      "[('p', 'http://www.wikidata.org/prop/direct/P6562'), ('obj', '-er1PNqRLiI')]\n",
      "[('p', 'http://www.wikidata.org/prop/direct/P674'), ('obj', 'http://www.wikidata.org/entity/Q2576457')]\n",
      "[('p', 'http://www.wikidata.org/prop/direct/P674'), ('obj', 'http://www.wikidata.org/entity/Q366957')]\n",
      "[('p', 'http://www.wikidata.org/prop/direct/P750'), ('obj', 'http://www.wikidata.org/entity/Q80948336')]\n",
      "[('p', 'http://www.wikidata.org/prop/direct/P750'), ('obj', 'http://www.wikidata.org/entity/Q907311')]\n",
      "[('p', 'http://www.wikidata.org/prop/direct/P750'), ('obj', 'http://www.wikidata.org/entity/Q159846')]\n",
      "[('p', 'http://www.wikidata.org/prop/direct/P7970'), ('obj', '1MV59a10bc8835dfb67d1a4a2bf5428a03b')]\n",
      "[('p', 'http://www.wikidata.org/prop/direct/P8033'), ('obj', 'friday-the-13th-m100051176')]\n",
      "[('p', 'http://www.wikidata.org/prop/direct/P840'), ('obj', 'http://www.wikidata.org/entity/Q1408')]\n",
      "[('p', 'http://www.wikidata.org/prop/direct/P856'), ('obj', 'http://www.fridaythe13thfilms.com')]\n",
      "[('p', 'http://www.wikidata.org/prop/direct/P86'), ('obj', 'http://www.wikidata.org/entity/Q664025')]\n",
      "[('p', 'http://www.wikidata.org/prop/direct/P905'), ('obj', '7021')]\n",
      "[('p', 'http://www.wikidata.org/prop/direct/P915'), ('obj', 'http://www.wikidata.org/entity/Q1408')]\n",
      "[('p', 'http://www.wikidata.org/prop/direct/P9586'), ('obj', 'umc.cmc.4cny06c1e312h2mfd2utrtve2')]\n",
      "[('p', 'http://schema.org/name'), ('obj', 'Friday the 13th')]\n",
      "[('p', 'http://www.wikidata.org/prop/direct/P2554'), ('obj', 'http://www.wikidata.org/entity/Q450964')]\n",
      "[('p', 'http://www.wikidata.org/prop/direct/P4277'), ('obj', '10178')]\n",
      "[('p', 'http://www.wikidata.org/prop/direct/P7975'), ('obj', '1283')]\n",
      "[('p', 'http://www.wikidata.org/prop/direct/P6466'), ('obj', '98dc6b45-4478-4877-8316-acc3c7f6ae94')]\n"
     ]
    },
    {
     "data": {
      "text/plain": [
       "118"
      ]
     },
     "execution_count": 3,
     "metadata": {},
     "output_type": "execute_result"
    }
   ],
   "source": [
    "queryString = \"\"\"\n",
    "SELECT *\n",
    "WHERE { \n",
    "\n",
    "wd:Q1243029 ?p ?obj .\n",
    "} \n",
    "\"\"\"\n",
    "\n",
    "print(\"Results\")\n",
    "run_query(queryString)"
   ]
  },
  {
   "cell_type": "markdown",
   "id": "d6bb39e4-ceff-4ff0-9b4c-fbae96ed86ea",
   "metadata": {
    "jp-MarkdownHeadingCollapsed": true,
    "tags": []
   },
   "source": [
    "# Task 1\n",
    "\n",
    "*Investigate the workers of the two original movies and check any commonality*\n",
    "\n",
    "Properties of the film"
   ]
  },
  {
   "cell_type": "code",
   "execution_count": 38,
   "id": "c2acb390-82be-4c30-b7e5-a79427d6ae5e",
   "metadata": {},
   "outputs": [
    {
     "name": "stdout",
     "output_type": "stream",
     "text": [
      "Results\n",
      "[('p', 'http://www.wikidata.org/prop/direct/P136'), ('name', 'genre')]\n",
      "[('p', 'http://www.wikidata.org/prop/direct/P1411'), ('name', 'nominated for')]\n",
      "[('p', 'http://www.wikidata.org/prop/direct/P1476'), ('name', 'title')]\n",
      "[('p', 'http://www.wikidata.org/prop/direct/P156'), ('name', 'followed by')]\n",
      "[('p', 'http://www.wikidata.org/prop/direct/P161'), ('name', 'cast member')]\n",
      "[('p', 'http://www.wikidata.org/prop/direct/P162'), ('name', 'producer')]\n",
      "[('p', 'http://www.wikidata.org/prop/direct/P175'), ('name', 'performer')]\n",
      "[('p', 'http://www.wikidata.org/prop/direct/P179'), ('name', 'part of the series')]\n",
      "[('p', 'http://www.wikidata.org/prop/direct/P18'), ('name', 'image')]\n",
      "[('p', 'http://www.wikidata.org/prop/direct/P1889'), ('name', 'different from')]\n",
      "[('p', 'http://www.wikidata.org/prop/direct/P2047'), ('name', 'duration')]\n",
      "[('p', 'http://www.wikidata.org/prop/direct/P2061'), ('name', 'aspect ratio')]\n",
      "[('p', 'http://www.wikidata.org/prop/direct/P272'), ('name', 'production company')]\n",
      "[('p', 'http://www.wikidata.org/prop/direct/P2747'), ('name', 'Filmiroda rating')]\n",
      "[('p', 'http://www.wikidata.org/prop/direct/P2755'), ('name', 'exploitation visa number')]\n",
      "[('p', 'http://www.wikidata.org/prop/direct/P2758'), ('name', 'CNC film rating (France)')]\n",
      "[('p', 'http://www.wikidata.org/prop/direct/P31'), ('name', 'instance of')]\n",
      "[('p', 'http://www.wikidata.org/prop/direct/P3212'), ('name', 'ISAN')]\n",
      "[('p', 'http://www.wikidata.org/prop/direct/P344'), ('name', 'director of photography')]\n",
      "[('p', 'http://www.wikidata.org/prop/direct/P364'), ('name', 'original language of film or TV show')]\n",
      "[('p', 'http://www.wikidata.org/prop/direct/P4276'), ('name', 'Cinémathèque québécoise work identifier')]\n",
      "[('p', 'http://www.wikidata.org/prop/direct/P437'), ('name', 'distribution format')]\n",
      "[('p', 'http://www.wikidata.org/prop/direct/P462'), ('name', 'color')]\n",
      "[('p', 'http://www.wikidata.org/prop/direct/P495'), ('name', 'country of origin')]\n",
      "[('p', 'http://www.wikidata.org/prop/direct/P4969'), ('name', 'derivative work')]\n",
      "[('p', 'http://www.wikidata.org/prop/direct/P5021'), ('name', 'assessment')]\n",
      "[('p', 'http://www.wikidata.org/prop/direct/P57'), ('name', 'director')]\n",
      "[('p', 'http://www.wikidata.org/prop/direct/P577'), ('name', 'publication date')]\n",
      "[('p', 'http://www.wikidata.org/prop/direct/P58'), ('name', 'screenwriter')]\n",
      "[('p', 'http://www.wikidata.org/prop/direct/P674'), ('name', 'characters')]\n",
      "[('p', 'http://www.wikidata.org/prop/direct/P750'), ('name', 'distributed by')]\n",
      "[('p', 'http://www.wikidata.org/prop/direct/P840'), ('name', 'narrative location')]\n",
      "[('p', 'http://www.wikidata.org/prop/direct/P856'), ('name', 'official website')]\n",
      "[('p', 'http://www.wikidata.org/prop/direct/P86'), ('name', 'composer')]\n",
      "[('p', 'http://www.wikidata.org/prop/direct/P915'), ('name', 'filming location')]\n",
      "[('p', 'http://www.wikidata.org/prop/direct/P2554'), ('name', 'production designer')]\n"
     ]
    },
    {
     "data": {
      "text/plain": [
       "36"
      ]
     },
     "execution_count": 38,
     "metadata": {},
     "output_type": "execute_result"
    }
   ],
   "source": [
    "queryString = \"\"\"\n",
    "SELECT distinct ?p ?name\n",
    "WHERE { \n",
    "\n",
    "wd:Q1243029 ?p ?obj .\n",
    "?p <http://schema.org/name> ?name .\n",
    "filter (!regex(?name, \"ID\"))\n",
    "} \n",
    "\"\"\"\n",
    "\n",
    "print(\"Results\")\n",
    "run_query(queryString)"
   ]
  },
  {
   "cell_type": "markdown",
   "id": "ddf84c31-a0b9-48c0-b9ca-c3a721afccd5",
   "metadata": {},
   "source": [
    "Propetries that enter the film\n"
   ]
  },
  {
   "cell_type": "code",
   "execution_count": 3,
   "id": "66461c27-0f6d-40a3-9ac4-649df893d879",
   "metadata": {},
   "outputs": [
    {
     "name": "stdout",
     "output_type": "stream",
     "text": [
      "Results\n",
      "[('p', 'http://www.wikidata.org/prop/direct/P6166'), ('name', 'quotes work')]\n",
      "[('p', 'http://www.wikidata.org/prop/direct/P144'), ('name', 'based on')]\n",
      "[('p', 'http://www.wikidata.org/prop/direct/P1441'), ('name', 'present in work')]\n",
      "[('p', 'http://www.wikidata.org/prop/direct/P155'), ('name', 'follows')]\n",
      "[('p', 'http://www.wikidata.org/prop/direct/P161'), ('name', 'cast member')]\n"
     ]
    },
    {
     "data": {
      "text/plain": [
       "5"
      ]
     },
     "execution_count": 3,
     "metadata": {},
     "output_type": "execute_result"
    }
   ],
   "source": [
    "queryString = \"\"\"\n",
    "SELECT distinct ?p ?name\n",
    "WHERE { \n",
    "\n",
    "?obj ?p wd:Q1243029.\n",
    "?p <http://schema.org/name> ?name .\n",
    "\n",
    "} \n",
    "\"\"\"\n",
    "\n",
    "print(\"Results\")\n",
    "run_query(queryString)"
   ]
  },
  {
   "cell_type": "code",
   "execution_count": 6,
   "id": "0215663f-372d-4b48-8503-21382ff9a088",
   "metadata": {},
   "outputs": [
    {
     "name": "stdout",
     "output_type": "stream",
     "text": [
      "Results\n",
      "[('name', 'Arthur Malet')]\n",
      "[('name', 'Tony Moran')]\n",
      "[('name', 'Jamie Lee Curtis')]\n",
      "[('name', 'Nancy Kyes')]\n",
      "[('name', 'Tommy Lee Wallace')]\n",
      "[('name', 'Charles Cyphers')]\n",
      "[('name', 'John Carpenter')]\n",
      "[('name', 'Debra Hill')]\n",
      "[('name', 'Nick Castle')]\n",
      "[('name', 'Netflix')]\n",
      "[('name', 'Kyle Richards')]\n",
      "[('name', 'Donald Pleasence')]\n",
      "[('name', 'Gabriel Cattand')]\n",
      "[('name', 'Moustapha Akkad')]\n",
      "[('name', 'P. J. Soles')]\n",
      "[('name', 'Irwin Yablans')]\n",
      "[('name', 'Compass International Pictures')]\n",
      "[('name', 'Nancy Stephens')]\n",
      "[('name', 'John Michael Graham')]\n"
     ]
    },
    {
     "data": {
      "text/plain": [
       "19"
      ]
     },
     "execution_count": 6,
     "metadata": {},
     "output_type": "execute_result"
    }
   ],
   "source": [
    "# cast, performers, directors, driectors of photography, screenwriters, composers of Halloween\n",
    "queryString = \"\"\"\n",
    "SELECT DISTINCT ?name where {\n",
    "{\n",
    "SELECT distinct ?name\n",
    "WHERE { \n",
    "    wd:Q221103 wdt:P175|wdt:P162|wdt:P161|wdt:P334|wdt:P57|wdt:P58|wdt:P86|wdt:P2554|wdt:P750|wdt:P272 ?x .\n",
    "    \n",
    "    ?x <http://schema.org/name> ?name .\n",
    "} \n",
    "}\n",
    "UNION{\n",
    "SELECT distinct ?name\n",
    "WHERE { \n",
    "    ?x wdt:P161 wd:Q221103 .\n",
    "    ?x <http://schema.org/name> ?name .\n",
    "} \n",
    "}\n",
    "\n",
    "}\n",
    "\"\"\"\n",
    "\n",
    "print(\"Results\")\n",
    "run_query(queryString)"
   ]
  },
  {
   "cell_type": "code",
   "execution_count": 7,
   "id": "1a990ff5-f921-4bb1-9c15-798b9793ae12",
   "metadata": {},
   "outputs": [
    {
     "name": "stdout",
     "output_type": "stream",
     "text": [
      "Results\n",
      "[('name', 'Virginia Field')]\n",
      "[('name', 'Harry Manfredini')]\n",
      "[('name', 'FandangoNow')]\n",
      "[('name', 'Netflix')]\n",
      "[('name', 'Paramount Pictures')]\n",
      "[('name', 'Adrienne King')]\n",
      "[('name', 'Sean S. Cunningham')]\n",
      "[('name', 'Betsy Palmer')]\n",
      "[('name', 'Rex Everhart')]\n",
      "[('name', 'Robbi Morgan')]\n",
      "[('name', 'Kevin Bacon')]\n",
      "[('name', 'Victor Miller')]\n",
      "[('name', 'Harry Crosby')]\n",
      "[('name', 'Laurie Bartram')]\n",
      "[('name', 'Jeannine Taylor')]\n",
      "[('name', 'Ari Lehman')]\n",
      "[('name', \"What's the Matter with Helen?\")]\n"
     ]
    },
    {
     "data": {
      "text/plain": [
       "17"
      ]
     },
     "execution_count": 7,
     "metadata": {},
     "output_type": "execute_result"
    }
   ],
   "source": [
    "# cast, performers, directors, driectors of photography, screenwriters, composers of Halloween\n",
    "queryString = \"\"\"\n",
    "SELECT DISTINCT ?name where {\n",
    "{\n",
    "SELECT distinct ?name\n",
    "WHERE { \n",
    "    wd:Q1243029 wdt:P175|wdt:P162|wdt:P161|wdt:P334|wdt:P57|wdt:P58|wdt:P86|wdt:P2554|wdt:P750|wdt:P272 ?x .\n",
    "    \n",
    "    ?x <http://schema.org/name> ?name .\n",
    "} \n",
    "}\n",
    "UNION{\n",
    "SELECT distinct ?name\n",
    "WHERE { \n",
    "    ?x wdt:P161 wd:Q1243029 .\n",
    "    ?x <http://schema.org/name> ?name .\n",
    "} \n",
    "}\n",
    "\n",
    "}\n",
    "\"\"\"\n",
    "\n",
    "print(\"Results\")\n",
    "run_query(queryString)"
   ]
  },
  {
   "cell_type": "markdown",
   "id": "94118740-58c0-4b23-80b5-10aab69d0eae",
   "metadata": {},
   "source": [
    "I can just check the things that are connected in anyway to both films"
   ]
  },
  {
   "cell_type": "code",
   "execution_count": 8,
   "id": "b1262c69-6104-4209-8b9c-a54fd96fb33f",
   "metadata": {},
   "outputs": [
    {
     "name": "stdout",
     "output_type": "stream",
     "text": [
      "Results\n",
      "[('name', 'film'), ('name2', 'instance of')]\n",
      "[('name', 'English'), ('name2', 'original language of film or TV show')]\n",
      "[('name', 'color'), ('name2', 'color')]\n",
      "[('name', 'United States of America'), ('name2', 'country of origin')]\n",
      "[('name', 'Bechdel test'), ('name2', 'assessment')]\n",
      "[('name', 'video on demand'), ('name2', 'distribution format')]\n",
      "[('name', 'Netflix'), ('name2', 'distributed by')]\n",
      "[('name', 'Category IV'), ('name2', 'Filmiroda rating')]\n",
      "[('name', 'slasher film'), ('name2', 'genre')]\n",
      "[('name', 'Halloween'), ('name2', 'follows')]\n",
      "[('name', 'Halloween II'), ('name2', 'follows')]\n",
      "[('name', 'Scary Movie'), ('name2', 'quotes work')]\n",
      "[('name', 'Halloween'), ('name2', 'based on')]\n",
      "[('name', 'Haddonfield'), ('name2', 'present in work')]\n",
      "[('name', 'Official Halloween Parody'), ('name2', 'based on')]\n"
     ]
    },
    {
     "data": {
      "text/plain": [
       "15"
      ]
     },
     "execution_count": 8,
     "metadata": {},
     "output_type": "execute_result"
    }
   ],
   "source": [
    "# ANSWER 1)\n",
    "queryString = \"\"\"\n",
    "SELECT ?name ?name2 WHERE {\n",
    "{\n",
    "SELECT distinct ?name ?name2\n",
    "WHERE { \n",
    "    wd:Q221103 ?y ?x .\n",
    "    wd:Q1243029 ?z ?x .\n",
    "    ?x <http://schema.org/name> ?name .\n",
    "    ?y <http://schema.org/name> ?name2 .\n",
    "}}UNION\n",
    "{SELECT distinct ?name ?name2\n",
    "WHERE { \n",
    "    ?y ?x wd:Q221103.\n",
    "    ?z ?x wd:Q1243029.\n",
    "    ?y <http://schema.org/name> ?name .\n",
    "    ?x <http://schema.org/name> ?name2 .\n",
    "}}\n",
    "}\n",
    "\"\"\"\n",
    "print(\"Results\")\n",
    "run_query(queryString)"
   ]
  },
  {
   "cell_type": "markdown",
   "id": "9acbb378-d7b3-432b-8da9-b55de40cd37d",
   "metadata": {
    "jp-MarkdownHeadingCollapsed": true,
    "tags": []
   },
   "source": [
    "***\n",
    "\n",
    "# Task 2\n",
    "\n",
    "*Check who was the most famous actor/actress on Halloween and Friday the 13th at the time of the release (e.g., the actor/actress who acted in more movies before and/or the actor/actress who won more academy awards)*\n",
    "\n",
    "I think that awards better represent if an artist is known or not."
   ]
  },
  {
   "cell_type": "code",
   "execution_count": 37,
   "id": "3f07b932-5195-44a3-aef1-1280dac5a41a",
   "metadata": {},
   "outputs": [
    {
     "name": "stdout",
     "output_type": "stream",
     "text": [
      "Results\n",
      "[('name', 'occupation'), ('x', 'http://www.wikidata.org/prop/direct/P106')]\n",
      "[('name', 'manner of death'), ('x', 'http://www.wikidata.org/prop/direct/P1196')]\n",
      "[('name', 'filmography'), ('x', 'http://www.wikidata.org/prop/direct/P1283')]\n",
      "[('name', 'instrument'), ('x', 'http://www.wikidata.org/prop/direct/P1303')]\n",
      "[('name', 'described by source'), ('x', 'http://www.wikidata.org/prop/direct/P1343')]\n",
      "[('name', 'genre'), ('x', 'http://www.wikidata.org/prop/direct/P136')]\n",
      "[('name', 'religion'), ('x', 'http://www.wikidata.org/prop/direct/P140')]\n",
      "[('name', 'nominated for'), ('x', 'http://www.wikidata.org/prop/direct/P1411')]\n",
      "[('name', 'languages spoken, written or signed'), ('x', 'http://www.wikidata.org/prop/direct/P1412')]\n",
      "[('name', 'name in native language'), ('x', 'http://www.wikidata.org/prop/direct/P1559')]\n",
      "[('name', 'award received'), ('x', 'http://www.wikidata.org/prop/direct/P166')]\n",
      "[('name', 'image'), ('x', 'http://www.wikidata.org/prop/direct/P18')]\n",
      "[('name', 'place of birth'), ('x', 'http://www.wikidata.org/prop/direct/P19')]\n",
      "[('name', 'number of children'), ('x', 'http://www.wikidata.org/prop/direct/P1971')]\n",
      "[('name', 'place of death'), ('x', 'http://www.wikidata.org/prop/direct/P20')]\n",
      "[('name', 'Twitter username'), ('x', 'http://www.wikidata.org/prop/direct/P2002')]\n",
      "[('name', 'Instagram username'), ('x', 'http://www.wikidata.org/prop/direct/P2003')]\n",
      "[('name', 'work period (start)'), ('x', 'http://www.wikidata.org/prop/direct/P2031')]\n",
      "[('name', 'sex or gender'), ('x', 'http://www.wikidata.org/prop/direct/P21')]\n",
      "[('name', 'ISNI'), ('x', 'http://www.wikidata.org/prop/direct/P213')]\n",
      "[('name', 'father'), ('x', 'http://www.wikidata.org/prop/direct/P22')]\n",
      "[('name', 'mother'), ('x', 'http://www.wikidata.org/prop/direct/P25')]\n",
      "[('name', 'spouse'), ('x', 'http://www.wikidata.org/prop/direct/P26')]\n",
      "[('name', 'country of citizenship'), ('x', 'http://www.wikidata.org/prop/direct/P27')]\n",
      "[('name', 'instance of'), ('x', 'http://www.wikidata.org/prop/direct/P31')]\n",
      "[('name', 'sibling'), ('x', 'http://www.wikidata.org/prop/direct/P3373')]\n",
      "[('name', 'Commons category'), ('x', 'http://www.wikidata.org/prop/direct/P373')]\n",
      "[('name', 'child'), ('x', 'http://www.wikidata.org/prop/direct/P40')]\n",
      "[('name', 'member of'), ('x', 'http://www.wikidata.org/prop/direct/P463')]\n",
      "[('name', 'archives at'), ('x', 'http://www.wikidata.org/prop/direct/P485')]\n",
      "[('name', 'cause of death'), ('x', 'http://www.wikidata.org/prop/direct/P509')]\n",
      "[('name', 'residence'), ('x', 'http://www.wikidata.org/prop/direct/P551')]\n",
      "[('name', 'date of birth'), ('x', 'http://www.wikidata.org/prop/direct/P569')]\n",
      "[('name', 'date of death'), ('x', 'http://www.wikidata.org/prop/direct/P570')]\n",
      "[('name', 'educated at'), ('x', 'http://www.wikidata.org/prop/direct/P69')]\n",
      "[('name', 'related category'), ('x', 'http://www.wikidata.org/prop/direct/P7084')]\n",
      "[('name', 'TikTok username'), ('x', 'http://www.wikidata.org/prop/direct/P7085')]\n",
      "[('name', 'family name'), ('x', 'http://www.wikidata.org/prop/direct/P734')]\n",
      "[('name', 'given name'), ('x', 'http://www.wikidata.org/prop/direct/P735')]\n",
      "[('name', 'copyright status as a creator'), ('x', 'http://www.wikidata.org/prop/direct/P7763')]\n",
      "[('name', 'official website'), ('x', 'http://www.wikidata.org/prop/direct/P856')]\n",
      "[('name', 'social media followers'), ('x', 'http://www.wikidata.org/prop/direct/P8687')]\n",
      "[('name', \"topic's main category\"), ('x', 'http://www.wikidata.org/prop/direct/P910')]\n",
      "[('name', 'Commons gallery'), ('x', 'http://www.wikidata.org/prop/direct/P935')]\n"
     ]
    },
    {
     "data": {
      "text/plain": [
       "44"
      ]
     },
     "execution_count": 37,
     "metadata": {},
     "output_type": "execute_result"
    }
   ],
   "source": [
    "# Available properties for cast members\n",
    "queryString = \"\"\"\n",
    "SELECT distinct ?name ?x\n",
    "WHERE { \n",
    "  wd:Q1243029 wdt:P161 ?p .\n",
    "  ?p ?x ?y .\n",
    "  ?x <http://schema.org/name> ?name .\n",
    "  filter (!regex(?name, \"ID\"))\n",
    "} \n",
    "\"\"\"\n",
    "\n",
    "print(\"Results\")\n",
    "run_query(queryString)"
   ]
  },
  {
   "cell_type": "code",
   "execution_count": 61,
   "id": "3efab756-77b5-44ae-bb1d-1d724887c0b4",
   "metadata": {},
   "outputs": [
    {
     "name": "stdout",
     "output_type": "stream",
     "text": [
      "Results\n",
      "[('y', 'http://www.wikidata.org/prop/direct/P3729'), ('name', 'next lower rank')]\n",
      "[('y', 'http://www.wikidata.org/prop/direct/P1269'), ('name', 'facet of')]\n",
      "[('y', 'http://www.wikidata.org/prop/direct/P1346'), ('name', 'winner')]\n",
      "[('y', 'http://www.wikidata.org/prop/direct/P1424'), ('name', \"topic's main template\")]\n",
      "[('y', 'http://www.wikidata.org/prop/direct/P155'), ('name', 'follows')]\n",
      "[('y', 'http://www.wikidata.org/prop/direct/P156'), ('name', 'followed by')]\n",
      "[('y', 'http://www.wikidata.org/prop/direct/P17'), ('name', 'country')]\n",
      "[('y', 'http://www.wikidata.org/prop/direct/P1705'), ('name', 'native label')]\n",
      "[('y', 'http://www.wikidata.org/prop/direct/P179'), ('name', 'part of the series')]\n",
      "[('y', 'http://www.wikidata.org/prop/direct/P18'), ('name', 'image')]\n",
      "[('y', 'http://www.wikidata.org/prop/direct/P180'), ('name', 'depicts')]\n",
      "[('y', 'http://www.wikidata.org/prop/direct/P1813'), ('name', 'short name')]\n",
      "[('y', 'http://www.wikidata.org/prop/direct/P1889'), ('name', 'different from')]\n",
      "[('y', 'http://www.wikidata.org/prop/direct/P2354'), ('name', 'has list')]\n",
      "[('y', 'http://www.wikidata.org/prop/direct/P276'), ('name', 'location')]\n",
      "[('y', 'http://www.wikidata.org/prop/direct/P279'), ('name', 'subclass of')]\n",
      "[('y', 'http://www.wikidata.org/prop/direct/P31'), ('name', 'instance of')]\n",
      "[('y', 'http://www.wikidata.org/prop/direct/P3301'), ('name', 'broadcast by')]\n",
      "[('y', 'http://www.wikidata.org/prop/direct/P345'), ('name', 'IMDb ID')]\n",
      "[('y', 'http://www.wikidata.org/prop/direct/P361'), ('name', 'part of')]\n",
      "[('y', 'http://www.wikidata.org/prop/direct/P373'), ('name', 'Commons category')]\n",
      "[('y', 'http://www.wikidata.org/prop/direct/P393'), ('name', 'edition number')]\n",
      "[('y', 'http://www.wikidata.org/prop/direct/P461'), ('name', 'opposite of')]\n",
      "[('y', 'http://www.wikidata.org/prop/direct/P5357'), ('name', 'The Encyclopedia of Science Fiction ID')]\n",
      "[('y', 'http://www.wikidata.org/prop/direct/P571'), ('name', 'inception')]\n",
      "[('y', 'http://www.wikidata.org/prop/direct/P580'), ('name', 'start time')]\n",
      "[('y', 'http://www.wikidata.org/prop/direct/P585'), ('name', 'point in time')]\n",
      "[('y', 'http://www.wikidata.org/prop/direct/P646'), ('name', 'Freebase ID')]\n",
      "[('y', 'http://www.wikidata.org/prop/direct/P856'), ('name', 'official website')]\n",
      "[('y', 'http://www.wikidata.org/prop/direct/P910'), ('name', \"topic's main category\")]\n",
      "[('y', 'http://www.wikidata.org/prop/direct/P1027'), ('name', 'conferred by')]\n",
      "[('y', 'http://www.wikidata.org/prop/direct/P2425'), ('name', 'service ribbon image')]\n",
      "[('y', 'http://www.wikidata.org/prop/direct/P2517'), ('name', 'category for recipients of this award')]\n",
      "[('y', 'http://www.wikidata.org/prop/direct/P3730'), ('name', 'next higher rank')]\n",
      "[('y', 'http://www.wikidata.org/prop/direct/P5300'), ('name', 'Webb-site organization ID')]\n"
     ]
    },
    {
     "data": {
      "text/plain": [
       "35"
      ]
     },
     "execution_count": 61,
     "metadata": {},
     "output_type": "execute_result"
    }
   ],
   "source": [
    "# awards of a cast member (properties)\n",
    "queryString = \"\"\"\n",
    "SELECT distinct ?y ?name\n",
    "WHERE { \n",
    "   ?zz wdt:P161 ?p .\n",
    "  ?p wdt:P166 ?x .\n",
    "  ?x ?y ?z .\n",
    "  ?y <http://schema.org/name> ?name .\n",
    "  filter (?zz=wd:Q1243029 || ?zz=wd:Q221103  )\n",
    "} \n",
    "\"\"\"\n",
    "\n",
    "print(\"Results\")\n",
    "run_query(queryString)"
   ]
  },
  {
   "cell_type": "code",
   "execution_count": 62,
   "id": "6ea2a966-c125-4788-a7b3-16909ae27323",
   "metadata": {},
   "outputs": [
    {
     "name": "stdout",
     "output_type": "stream",
     "text": [
      "Results\n",
      "[('x', 'http://www.wikidata.org/entity/Q105447'), ('name', 'Kevin Bacon'), ('adate', '1972-01-01T00:00:00Z')]\n",
      "[('x', 'http://www.wikidata.org/entity/Q18600734'), ('name', 'Kevin Bacon'), ('adate', '2015-01-25T00:00:00Z')]\n",
      "[('x', 'http://www.wikidata.org/entity/Q1011564'), ('name', 'Jamie Lee Curtis')]\n",
      "[('x', 'http://www.wikidata.org/entity/Q17985761'), ('name', 'Jamie Lee Curtis')]\n",
      "[('x', 'http://www.wikidata.org/entity/Q787123'), ('name', 'Jamie Lee Curtis')]\n",
      "[('x', 'http://www.wikidata.org/entity/Q10762848'), ('name', 'Donald Pleasence')]\n",
      "[('x', 'http://www.wikidata.org/entity/Q251542'), ('name', 'Kevin Bacon')]\n",
      "[('x', 'http://www.wikidata.org/entity/Q17985761'), ('name', 'Kevin Bacon')]\n"
     ]
    },
    {
     "data": {
      "text/plain": [
       "8"
      ]
     },
     "execution_count": 62,
     "metadata": {},
     "output_type": "execute_result"
    }
   ],
   "source": [
    "# Who won awards in general in the cast of both (with dates if possible)\n",
    "queryString = \"\"\"\n",
    "\n",
    "    SELECT ?x ?name ?adate\n",
    "    WHERE { \n",
    "      ?zz wdt:P161 ?p .\n",
    "      ?p wdt:P166 ?x .\n",
    "      optional{?x wdt:P585|wdt:P580 ?adate .}\n",
    "      ?p <http://schema.org/name> ?name .\n",
    "      filter (?zz=wd:Q1243029 || ?zz=wd:Q221103  )\n",
    "    } \n",
    "         \n",
    "\n",
    "\"\"\"\n",
    "\n",
    "print(\"Results\")\n",
    "run_query(queryString)\n"
   ]
  },
  {
   "cell_type": "code",
   "execution_count": 67,
   "id": "f0a74cb9-f3c6-4ba7-99c5-db94feaa45c5",
   "metadata": {},
   "outputs": [
    {
     "name": "stdout",
     "output_type": "stream",
     "text": [
      "Results\n",
      "[('x', '1980-11-10T00:00:00Z'), ('adate', '1972-01-01T00:00:00Z'), ('name', 'Kevin Bacon'), ('name2', 'Saturn Award')]\n"
     ]
    },
    {
     "data": {
      "text/plain": [
       "1"
      ]
     },
     "execution_count": 67,
     "metadata": {},
     "output_type": "execute_result"
    }
   ],
   "source": [
    "# The only one with dates is Kevin Bacon, and he is only in Friday the 13th\n",
    "queryString = \"\"\"\n",
    "SELECT * where{{\n",
    "SELECT (max(?pdate) as ?x)\n",
    "WHERE { \n",
    "  wd:Q1243029 wdt:P577 ?pdate .\n",
    "} \n",
    "}{\n",
    "SELECT ?adate ?name ?name2\n",
    "WHERE { \n",
    "  wd:Q1243029 wdt:P161 ?p .\n",
    "  ?p wdt:P166 ?x .\n",
    "  ?x wdt:P585|wdt:P580 ?adate .\n",
    "  ?p <http://schema.org/name> ?name .\n",
    "  ?x <http://schema.org/name> ?name2 .\n",
    "} \n",
    "}\n",
    "               filter(?adate<?x)\n",
    "}\n",
    "\n",
    "\"\"\"\n",
    "# ANSWER 2) Kevin Bacon\n",
    "print(\"Results\")\n",
    "run_query(queryString)"
   ]
  },
  {
   "cell_type": "markdown",
   "id": "c247ffef-e38b-48bd-a21a-03544d4b0d05",
   "metadata": {},
   "source": [
    "***\n",
    "\n",
    "# Task 3\n",
    "\n",
    "*Check which actor/actress did more movies after the release of these two films (consider the films separately)*"
   ]
  },
  {
   "cell_type": "code",
   "execution_count": 6,
   "id": "74f2e45e-b8c0-410b-a2f0-39ca071fae0d",
   "metadata": {},
   "outputs": [
    {
     "name": "stdout",
     "output_type": "stream",
     "text": [
      "Results\n",
      "[('x', 'http://www.wikidata.org/prop/direct/P106'), ('name', 'occupation')]\n",
      "[('x', 'http://www.wikidata.org/prop/direct/P1196'), ('name', 'manner of death')]\n",
      "[('x', 'http://www.wikidata.org/prop/direct/P1283'), ('name', 'filmography')]\n",
      "[('x', 'http://www.wikidata.org/prop/direct/P1303'), ('name', 'instrument')]\n",
      "[('x', 'http://www.wikidata.org/prop/direct/P1343'), ('name', 'described by source')]\n",
      "[('x', 'http://www.wikidata.org/prop/direct/P136'), ('name', 'genre')]\n",
      "[('x', 'http://www.wikidata.org/prop/direct/P140'), ('name', 'religion')]\n",
      "[('x', 'http://www.wikidata.org/prop/direct/P1411'), ('name', 'nominated for')]\n",
      "[('x', 'http://www.wikidata.org/prop/direct/P1412'), ('name', 'languages spoken, written or signed')]\n",
      "[('x', 'http://www.wikidata.org/prop/direct/P1559'), ('name', 'name in native language')]\n",
      "[('x', 'http://www.wikidata.org/prop/direct/P166'), ('name', 'award received')]\n",
      "[('x', 'http://www.wikidata.org/prop/direct/P18'), ('name', 'image')]\n",
      "[('x', 'http://www.wikidata.org/prop/direct/P19'), ('name', 'place of birth')]\n",
      "[('x', 'http://www.wikidata.org/prop/direct/P1971'), ('name', 'number of children')]\n",
      "[('x', 'http://www.wikidata.org/prop/direct/P20'), ('name', 'place of death')]\n",
      "[('x', 'http://www.wikidata.org/prop/direct/P2002'), ('name', 'Twitter username')]\n",
      "[('x', 'http://www.wikidata.org/prop/direct/P2003'), ('name', 'Instagram username')]\n",
      "[('x', 'http://www.wikidata.org/prop/direct/P2031'), ('name', 'work period (start)')]\n",
      "[('x', 'http://www.wikidata.org/prop/direct/P21'), ('name', 'sex or gender')]\n",
      "[('x', 'http://www.wikidata.org/prop/direct/P213'), ('name', 'ISNI')]\n",
      "[('x', 'http://www.wikidata.org/prop/direct/P22'), ('name', 'father')]\n",
      "[('x', 'http://www.wikidata.org/prop/direct/P25'), ('name', 'mother')]\n",
      "[('x', 'http://www.wikidata.org/prop/direct/P26'), ('name', 'spouse')]\n",
      "[('x', 'http://www.wikidata.org/prop/direct/P27'), ('name', 'country of citizenship')]\n",
      "[('x', 'http://www.wikidata.org/prop/direct/P31'), ('name', 'instance of')]\n",
      "[('x', 'http://www.wikidata.org/prop/direct/P3373'), ('name', 'sibling')]\n",
      "[('x', 'http://www.wikidata.org/prop/direct/P373'), ('name', 'Commons category')]\n",
      "[('x', 'http://www.wikidata.org/prop/direct/P40'), ('name', 'child')]\n",
      "[('x', 'http://www.wikidata.org/prop/direct/P463'), ('name', 'member of')]\n",
      "[('x', 'http://www.wikidata.org/prop/direct/P485'), ('name', 'archives at')]\n",
      "[('x', 'http://www.wikidata.org/prop/direct/P509'), ('name', 'cause of death')]\n",
      "[('x', 'http://www.wikidata.org/prop/direct/P551'), ('name', 'residence')]\n",
      "[('x', 'http://www.wikidata.org/prop/direct/P569'), ('name', 'date of birth')]\n",
      "[('x', 'http://www.wikidata.org/prop/direct/P570'), ('name', 'date of death')]\n",
      "[('x', 'http://www.wikidata.org/prop/direct/P69'), ('name', 'educated at')]\n",
      "[('x', 'http://www.wikidata.org/prop/direct/P7084'), ('name', 'related category')]\n",
      "[('x', 'http://www.wikidata.org/prop/direct/P7085'), ('name', 'TikTok username')]\n",
      "[('x', 'http://www.wikidata.org/prop/direct/P734'), ('name', 'family name')]\n",
      "[('x', 'http://www.wikidata.org/prop/direct/P735'), ('name', 'given name')]\n",
      "[('x', 'http://www.wikidata.org/prop/direct/P7763'), ('name', 'copyright status as a creator')]\n",
      "[('x', 'http://www.wikidata.org/prop/direct/P856'), ('name', 'official website')]\n",
      "[('x', 'http://www.wikidata.org/prop/direct/P8687'), ('name', 'social media followers')]\n",
      "[('x', 'http://www.wikidata.org/prop/direct/P910'), ('name', \"topic's main category\")]\n",
      "[('x', 'http://www.wikidata.org/prop/direct/P935'), ('name', 'Commons gallery')]\n"
     ]
    },
    {
     "data": {
      "text/plain": [
       "44"
      ]
     },
     "execution_count": 6,
     "metadata": {},
     "output_type": "execute_result"
    }
   ],
   "source": [
    "# Check for connections from actors to films (there are none)\n",
    "queryString = \"\"\"\n",
    "select distinct ?x ?name\n",
    "where{\n",
    "  wd:Q1243029 wdt:P161 ?p .\n",
    "  ?p ?x ?y . \n",
    "  ?x <http://schema.org/name> ?name .\n",
    "  filter(!regex(?name, \"ID\"))\n",
    "  \n",
    "  }\n",
    "\"\"\"\n",
    "print(\"Results\")\n",
    "run_query(queryString)"
   ]
  },
  {
   "cell_type": "code",
   "execution_count": 8,
   "id": "c8c151ab-e39f-4462-9534-f51dba515a8a",
   "metadata": {},
   "outputs": [
    {
     "name": "stdout",
     "output_type": "stream",
     "text": [
      "Results\n",
      "[('x', 'http://www.wikidata.org/entity/Q757156'), ('p', 'http://www.wikidata.org/entity/Q2440012'), ('mdate', '1979-01-01T00:00:00Z')]\n",
      "[('x', 'http://www.wikidata.org/entity/Q757156'), ('p', 'http://www.wikidata.org/entity/Q2440012'), ('mdate', '1979-07-12T00:00:00Z')]\n",
      "[('x', 'http://www.wikidata.org/entity/Q1243009'), ('p', 'http://www.wikidata.org/entity/Q2440012'), ('mdate', '1981-04-30T00:00:00Z')]\n",
      "[('x', 'http://www.wikidata.org/entity/Q1243009'), ('p', 'http://www.wikidata.org/entity/Q2440012'), ('mdate', '1981-11-02T00:00:00Z')]\n",
      "[('x', 'http://www.wikidata.org/entity/Q1243029'), ('p', 'http://www.wikidata.org/entity/Q2440012'), ('mdate', '1980-05-09T00:00:00Z')]\n",
      "[('x', 'http://www.wikidata.org/entity/Q1243029'), ('p', 'http://www.wikidata.org/entity/Q2440012'), ('mdate', '1980-10-23T00:00:00Z')]\n",
      "[('x', 'http://www.wikidata.org/entity/Q1243029'), ('p', 'http://www.wikidata.org/entity/Q2440012'), ('mdate', '1980-11-10T00:00:00Z')]\n",
      "[('x', 'http://www.wikidata.org/entity/Q47654'), ('p', 'http://www.wikidata.org/entity/Q2440012'), ('mdate', '1977-12-16T00:00:00Z')]\n",
      "[('x', 'http://www.wikidata.org/entity/Q47654'), ('p', 'http://www.wikidata.org/entity/Q2440012'), ('mdate', '1978-04-07T00:00:00Z')]\n",
      "[('x', 'http://www.wikidata.org/entity/Q47654'), ('p', 'http://www.wikidata.org/entity/Q2440012'), ('mdate', '1978-04-13T00:00:00Z')]\n",
      "[('x', 'http://www.wikidata.org/entity/Q5898676'), ('p', 'http://www.wikidata.org/entity/Q2440012'), ('mdate', '2009-01-01T00:00:00Z')]\n",
      "[('x', 'http://www.wikidata.org/entity/Q13435066'), ('p', 'http://www.wikidata.org/entity/Q2440012'), ('mdate', '2012-01-01T00:00:00Z')]\n",
      "[('x', 'http://www.wikidata.org/entity/Q16537862'), ('p', 'http://www.wikidata.org/entity/Q2440012'), ('mdate', '2013-09-13T00:00:00Z')]\n",
      "[('x', 'http://www.wikidata.org/entity/Q3984794'), ('p', 'http://www.wikidata.org/entity/Q2440012'), ('mdate', '1984-08-31T00:00:00Z')]\n",
      "[('x', 'http://www.wikidata.org/entity/Q3984794'), ('p', 'http://www.wikidata.org/entity/Q2440012'), ('mdate', '1984-10-26T00:00:00Z')]\n",
      "[('x', 'http://www.wikidata.org/entity/Q3984794'), ('p', 'http://www.wikidata.org/entity/Q2440012'), ('mdate', '1985-01-24T00:00:00Z')]\n",
      "[('x', 'http://www.wikidata.org/entity/Q3984794'), ('p', 'http://www.wikidata.org/entity/Q2440012'), ('mdate', '1985-06-29T00:00:00Z')]\n",
      "[('x', 'http://www.wikidata.org/entity/Q3984794'), ('p', 'http://www.wikidata.org/entity/Q2440012'), ('mdate', '1985-12-26T00:00:00Z')]\n",
      "[('x', 'http://www.wikidata.org/entity/Q3984794'), ('p', 'http://www.wikidata.org/entity/Q2440012'), ('mdate', '1986-01-25T00:00:00Z')]\n",
      "[('x', 'http://www.wikidata.org/entity/Q3984794'), ('p', 'http://www.wikidata.org/entity/Q2440012'), ('mdate', '1986-04-14T00:00:00Z')]\n",
      "[('x', 'http://www.wikidata.org/entity/Q3984794'), ('p', 'http://www.wikidata.org/entity/Q2440012'), ('mdate', '1986-06-05T00:00:00Z')]\n",
      "[('x', 'http://www.wikidata.org/entity/Q3984794'), ('p', 'http://www.wikidata.org/entity/Q2440012'), ('mdate', '1986-08-14T00:00:00Z')]\n",
      "[('x', 'http://www.wikidata.org/entity/Q3984794'), ('p', 'http://www.wikidata.org/entity/Q2440012'), ('mdate', '1986-10-09T00:00:00Z')]\n",
      "[('x', 'http://www.wikidata.org/entity/Q3984794'), ('p', 'http://www.wikidata.org/entity/Q2440012'), ('mdate', '1987-06-05T00:00:00Z')]\n",
      "[('x', 'http://www.wikidata.org/entity/Q20649221'), ('p', 'http://www.wikidata.org/entity/Q2440012'), ('mdate', '2014-02-18T00:00:00Z')]\n",
      "[('x', 'http://www.wikidata.org/entity/Q5577900'), ('p', 'http://www.wikidata.org/entity/Q2440012'), ('mdate', '2006-01-01T00:00:00Z')]\n",
      "[('x', 'http://www.wikidata.org/entity/Q27985077'), ('p', 'http://www.wikidata.org/entity/Q2440012'), ('mdate', '2015-06-23T00:00:00Z')]\n",
      "[('x', 'http://www.wikidata.org/entity/Q4883296'), ('p', 'http://www.wikidata.org/entity/Q263765'), ('mdate', '2007-01-01T00:00:00Z')]\n",
      "[('x', 'http://www.wikidata.org/entity/Q1243009'), ('p', 'http://www.wikidata.org/entity/Q263765'), ('mdate', '1981-04-30T00:00:00Z')]\n",
      "[('x', 'http://www.wikidata.org/entity/Q1243009'), ('p', 'http://www.wikidata.org/entity/Q263765'), ('mdate', '1981-11-02T00:00:00Z')]\n",
      "[('x', 'http://www.wikidata.org/entity/Q1243013'), ('p', 'http://www.wikidata.org/entity/Q263765'), ('mdate', '1982-08-13T00:00:00Z')]\n",
      "[('x', 'http://www.wikidata.org/entity/Q1243013'), ('p', 'http://www.wikidata.org/entity/Q263765'), ('mdate', '1983-05-12T00:00:00Z')]\n",
      "[('x', 'http://www.wikidata.org/entity/Q1243013'), ('p', 'http://www.wikidata.org/entity/Q263765'), ('mdate', '1983-05-13T00:00:00Z')]\n",
      "[('x', 'http://www.wikidata.org/entity/Q1243029'), ('p', 'http://www.wikidata.org/entity/Q263765'), ('mdate', '1980-05-09T00:00:00Z')]\n",
      "[('x', 'http://www.wikidata.org/entity/Q1243029'), ('p', 'http://www.wikidata.org/entity/Q263765'), ('mdate', '1980-10-23T00:00:00Z')]\n",
      "[('x', 'http://www.wikidata.org/entity/Q1243029'), ('p', 'http://www.wikidata.org/entity/Q263765'), ('mdate', '1980-11-10T00:00:00Z')]\n",
      "[('x', 'http://www.wikidata.org/entity/Q2092110'), ('p', 'http://www.wikidata.org/entity/Q263765'), ('mdate', '1957-01-01T00:00:00Z')]\n",
      "[('x', 'http://www.wikidata.org/entity/Q5898676'), ('p', 'http://www.wikidata.org/entity/Q263765'), ('mdate', '2009-01-01T00:00:00Z')]\n",
      "[('x', 'http://www.wikidata.org/entity/Q3207620'), ('p', 'http://www.wikidata.org/entity/Q263765'), ('mdate', '1959-10-22T00:00:00Z')]\n",
      "[('x', 'http://www.wikidata.org/entity/Q3207620'), ('p', 'http://www.wikidata.org/entity/Q263765'), ('mdate', '1960-02-04T00:00:00Z')]\n",
      "[('x', 'http://www.wikidata.org/entity/Q3207620'), ('p', 'http://www.wikidata.org/entity/Q263765'), ('mdate', '1960-02-13T00:00:00Z')]\n",
      "[('x', 'http://www.wikidata.org/entity/Q3207620'), ('p', 'http://www.wikidata.org/entity/Q263765'), ('mdate', '1960-03-04T00:00:00Z')]\n",
      "[('x', 'http://www.wikidata.org/entity/Q3207620'), ('p', 'http://www.wikidata.org/entity/Q263765'), ('mdate', '1960-03-29T00:00:00Z')]\n",
      "[('x', 'http://www.wikidata.org/entity/Q3207620'), ('p', 'http://www.wikidata.org/entity/Q263765'), ('mdate', '1960-03-30T00:00:00Z')]\n",
      "[('x', 'http://www.wikidata.org/entity/Q3207620'), ('p', 'http://www.wikidata.org/entity/Q263765'), ('mdate', '1960-04-08T00:00:00Z')]\n",
      "[('x', 'http://www.wikidata.org/entity/Q3207620'), ('p', 'http://www.wikidata.org/entity/Q263765'), ('mdate', '1960-04-28T00:00:00Z')]\n",
      "[('x', 'http://www.wikidata.org/entity/Q3207620'), ('p', 'http://www.wikidata.org/entity/Q263765'), ('mdate', '1960-05-12T00:00:00Z')]\n",
      "[('x', 'http://www.wikidata.org/entity/Q1639875'), ('p', 'http://www.wikidata.org/entity/Q263765'), ('mdate', '1955-01-01T00:00:00Z')]\n",
      "[('x', 'http://www.wikidata.org/entity/Q16537862'), ('p', 'http://www.wikidata.org/entity/Q263765'), ('mdate', '2013-09-13T00:00:00Z')]\n",
      "[('x', 'http://www.wikidata.org/entity/Q1621174'), ('p', 'http://www.wikidata.org/entity/Q263765'), ('mdate', '1955-01-01T00:00:00Z')]\n",
      "[('x', 'http://www.wikidata.org/entity/Q3824840'), ('p', 'http://www.wikidata.org/entity/Q263765'), ('mdate', '1958-01-01T00:00:00Z')]\n",
      "[('x', 'http://www.wikidata.org/entity/Q18221850'), ('p', 'http://www.wikidata.org/entity/Q263765'), ('mdate', '1999-01-01T00:00:00Z')]\n",
      "[('x', 'http://www.wikidata.org/entity/Q1299272'), ('p', 'http://www.wikidata.org/entity/Q263765'), ('mdate', '1955-01-01T00:00:00Z')]\n",
      "[('x', 'http://www.wikidata.org/entity/Q5577900'), ('p', 'http://www.wikidata.org/entity/Q263765'), ('mdate', '2006-01-01T00:00:00Z')]\n",
      "[('x', 'http://www.wikidata.org/entity/Q1243009'), ('p', 'http://www.wikidata.org/entity/Q3434272'), ('mdate', '1981-04-30T00:00:00Z')]\n",
      "[('x', 'http://www.wikidata.org/entity/Q1243009'), ('p', 'http://www.wikidata.org/entity/Q3434272'), ('mdate', '1981-11-02T00:00:00Z')]\n",
      "[('x', 'http://www.wikidata.org/entity/Q1243009'), ('p', 'http://www.wikidata.org/entity/Q3428829'), ('mdate', '1981-04-30T00:00:00Z')]\n",
      "[('x', 'http://www.wikidata.org/entity/Q1243009'), ('p', 'http://www.wikidata.org/entity/Q3428829'), ('mdate', '1981-11-02T00:00:00Z')]\n",
      "[('x', 'http://www.wikidata.org/entity/Q1243029'), ('p', 'http://www.wikidata.org/entity/Q3434272'), ('mdate', '1980-05-09T00:00:00Z')]\n",
      "[('x', 'http://www.wikidata.org/entity/Q1243029'), ('p', 'http://www.wikidata.org/entity/Q3434272'), ('mdate', '1980-10-23T00:00:00Z')]\n",
      "[('x', 'http://www.wikidata.org/entity/Q1243029'), ('p', 'http://www.wikidata.org/entity/Q3434272'), ('mdate', '1980-11-10T00:00:00Z')]\n",
      "[('x', 'http://www.wikidata.org/entity/Q1243029'), ('p', 'http://www.wikidata.org/entity/Q3428829'), ('mdate', '1980-05-09T00:00:00Z')]\n",
      "[('x', 'http://www.wikidata.org/entity/Q1243029'), ('p', 'http://www.wikidata.org/entity/Q3428829'), ('mdate', '1980-10-23T00:00:00Z')]\n",
      "[('x', 'http://www.wikidata.org/entity/Q1243029'), ('p', 'http://www.wikidata.org/entity/Q3428829'), ('mdate', '1980-11-10T00:00:00Z')]\n",
      "[('x', 'http://www.wikidata.org/entity/Q213053'), ('p', 'http://www.wikidata.org/entity/Q3428829'), ('mdate', '1978-12-10T00:00:00Z')]\n",
      "[('x', 'http://www.wikidata.org/entity/Q213053'), ('p', 'http://www.wikidata.org/entity/Q3428829'), ('mdate', '1978-12-14T00:00:00Z')]\n",
      "[('x', 'http://www.wikidata.org/entity/Q213053'), ('p', 'http://www.wikidata.org/entity/Q3428829'), ('mdate', '1978-12-15T00:00:00Z')]\n",
      "[('x', 'http://www.wikidata.org/entity/Q213053'), ('p', 'http://www.wikidata.org/entity/Q3428829'), ('mdate', '1979-01-26T00:00:00Z')]\n",
      "[('x', 'http://www.wikidata.org/entity/Q213053'), ('p', 'http://www.wikidata.org/entity/Q3428829'), ('mdate', '1979-02-19T00:00:00Z')]\n",
      "[('x', 'http://www.wikidata.org/entity/Q7769638'), ('p', 'http://www.wikidata.org/entity/Q3428829'), ('mdate', '1991-02-12T00:00:00Z')]\n",
      "[('x', 'http://www.wikidata.org/entity/Q60637469'), ('p', 'http://www.wikidata.org/entity/Q3434272'), ('mdate', '2019-01-01T00:00:00Z')]\n",
      "[('x', 'http://www.wikidata.org/entity/Q60637469'), ('p', 'http://www.wikidata.org/entity/Q3434272'), ('mdate', '2019-05-01T00:00:00Z')]\n",
      "[('x', 'http://www.wikidata.org/entity/Q5898676'), ('p', 'http://www.wikidata.org/entity/Q3434272'), ('mdate', '2009-01-01T00:00:00Z')]\n",
      "[('x', 'http://www.wikidata.org/entity/Q3299100'), ('p', 'http://www.wikidata.org/entity/Q3428829'), ('mdate', '1978-06-22T00:00:00Z')]\n",
      "[('x', 'http://www.wikidata.org/entity/Q3299100'), ('p', 'http://www.wikidata.org/entity/Q3428829'), ('mdate', '1978-10-05T00:00:00Z')]\n",
      "[('x', 'http://www.wikidata.org/entity/Q3299100'), ('p', 'http://www.wikidata.org/entity/Q3428829'), ('mdate', '1978-12-01T00:00:00Z')]\n",
      "[('x', 'http://www.wikidata.org/entity/Q3299100'), ('p', 'http://www.wikidata.org/entity/Q3428829'), ('mdate', '1978-12-14T00:00:00Z')]\n",
      "[('x', 'http://www.wikidata.org/entity/Q3299100'), ('p', 'http://www.wikidata.org/entity/Q3428829'), ('mdate', '1979-02-22T00:00:00Z')]\n",
      "[('x', 'http://www.wikidata.org/entity/Q3299100'), ('p', 'http://www.wikidata.org/entity/Q3428829'), ('mdate', '1979-02-23T00:00:00Z')]\n",
      "[('x', 'http://www.wikidata.org/entity/Q3299100'), ('p', 'http://www.wikidata.org/entity/Q3428829'), ('mdate', '1979-04-12T00:00:00Z')]\n",
      "[('x', 'http://www.wikidata.org/entity/Q3299100'), ('p', 'http://www.wikidata.org/entity/Q3428829'), ('mdate', '1979-05-24T00:00:00Z')]\n",
      "[('x', 'http://www.wikidata.org/entity/Q3299100'), ('p', 'http://www.wikidata.org/entity/Q3428829'), ('mdate', '1979-08-14T00:00:00Z')]\n",
      "[('x', 'http://www.wikidata.org/entity/Q3299100'), ('p', 'http://www.wikidata.org/entity/Q3428829'), ('mdate', '1979-09-10T00:00:00Z')]\n",
      "[('x', 'http://www.wikidata.org/entity/Q3299100'), ('p', 'http://www.wikidata.org/entity/Q3428829'), ('mdate', '1979-09-14T00:00:00Z')]\n",
      "[('x', 'http://www.wikidata.org/entity/Q959326'), ('p', 'http://www.wikidata.org/entity/Q3434272'), ('mdate', '1969-01-01T00:00:00Z')]\n",
      "[('x', 'http://www.wikidata.org/entity/Q1395374'), ('p', 'http://www.wikidata.org/entity/Q3428829'), ('mdate', '1989-01-01T00:00:00Z')]\n",
      "[('x', 'http://www.wikidata.org/entity/Q1395374'), ('p', 'http://www.wikidata.org/entity/Q3428829'), ('mdate', '1990-01-18T00:00:00Z')]\n",
      "[('x', 'http://www.wikidata.org/entity/Q16537862'), ('p', 'http://www.wikidata.org/entity/Q3434272'), ('mdate', '2013-09-13T00:00:00Z')]\n",
      "[('x', 'http://www.wikidata.org/entity/Q7763422'), ('p', 'http://www.wikidata.org/entity/Q3428829'), ('mdate', '1973-01-01T00:00:00Z')]\n",
      "[('x', 'http://www.wikidata.org/entity/Q5577900'), ('p', 'http://www.wikidata.org/entity/Q3434272'), ('mdate', '2006-01-01T00:00:00Z')]\n",
      "[('x', 'http://www.wikidata.org/entity/Q122113'), ('p', 'http://www.wikidata.org/entity/Q3454165'), ('mdate', '2010-01-01T00:00:00Z')]\n",
      "[('x', 'http://www.wikidata.org/entity/Q463927'), ('p', 'http://www.wikidata.org/entity/Q3454165'), ('mdate', '1982-01-01T00:00:00Z')]\n",
      "[('x', 'http://www.wikidata.org/entity/Q463927'), ('p', 'http://www.wikidata.org/entity/Q3454165'), ('mdate', '1990-09-06T00:00:00Z')]\n",
      "[('x', 'http://www.wikidata.org/entity/Q636062'), ('p', 'http://www.wikidata.org/entity/Q3454165'), ('mdate', '2005-01-01T00:00:00Z')]\n",
      "[('x', 'http://www.wikidata.org/entity/Q691672'), ('p', 'http://www.wikidata.org/entity/Q3454165'), ('mdate', '2008-10-15T00:00:00Z')]\n",
      "[('x', 'http://www.wikidata.org/entity/Q691672'), ('p', 'http://www.wikidata.org/entity/Q3454165'), ('mdate', '2009-01-29T00:00:00Z')]\n",
      "[('x', 'http://www.wikidata.org/entity/Q691672'), ('p', 'http://www.wikidata.org/entity/Q3454165'), ('mdate', '2009-02-05T00:00:00Z')]\n",
      "[('x', 'http://www.wikidata.org/entity/Q1917925'), ('p', 'http://www.wikidata.org/entity/Q3454165'), ('mdate', '2000-01-01T00:00:00Z')]\n",
      "[('x', 'http://www.wikidata.org/entity/Q1917925'), ('p', 'http://www.wikidata.org/entity/Q3454165'), ('mdate', '2000-12-07T00:00:00Z')]\n",
      "[('x', 'http://www.wikidata.org/entity/Q5265117'), ('p', 'http://www.wikidata.org/entity/Q3454165'), ('mdate', '1997-01-01T00:00:00Z')]\n",
      "[('x', 'http://www.wikidata.org/entity/Q1154802'), ('p', 'http://www.wikidata.org/entity/Q3454165'), ('mdate', '1995-01-20T00:00:00Z')]\n",
      "[('x', 'http://www.wikidata.org/entity/Q1154802'), ('p', 'http://www.wikidata.org/entity/Q3454165'), ('mdate', '1996-05-16T00:00:00Z')]\n",
      "[('x', 'http://www.wikidata.org/entity/Q1243029'), ('p', 'http://www.wikidata.org/entity/Q3454165'), ('mdate', '1980-05-09T00:00:00Z')]\n",
      "[('x', 'http://www.wikidata.org/entity/Q1243029'), ('p', 'http://www.wikidata.org/entity/Q3454165'), ('mdate', '1980-10-23T00:00:00Z')]\n",
      "[('x', 'http://www.wikidata.org/entity/Q1243029'), ('p', 'http://www.wikidata.org/entity/Q3454165'), ('mdate', '1980-11-10T00:00:00Z')]\n",
      "[('x', 'http://www.wikidata.org/entity/Q108946'), ('p', 'http://www.wikidata.org/entity/Q3454165'), ('mdate', '1992-12-09T00:00:00Z')]\n",
      "[('x', 'http://www.wikidata.org/entity/Q108946'), ('p', 'http://www.wikidata.org/entity/Q3454165'), ('mdate', '1993-01-14T00:00:00Z')]\n",
      "[('x', 'http://www.wikidata.org/entity/Q223596'), ('p', 'http://www.wikidata.org/entity/Q3454165'), ('mdate', '2011-05-25T00:00:00Z')]\n",
      "[('x', 'http://www.wikidata.org/entity/Q223596'), ('p', 'http://www.wikidata.org/entity/Q3454165'), ('mdate', '2011-06-09T00:00:00Z')]\n",
      "[('x', 'http://www.wikidata.org/entity/Q223596'), ('p', 'http://www.wikidata.org/entity/Q3454165'), ('mdate', '2011-06-10T00:00:00Z')]\n",
      "[('x', 'http://www.wikidata.org/entity/Q339045'), ('p', 'http://www.wikidata.org/entity/Q3454165'), ('mdate', '1989-01-01T00:00:00Z')]\n",
      "[('x', 'http://www.wikidata.org/entity/Q935173'), ('p', 'http://www.wikidata.org/entity/Q3454165'), ('mdate', '2009-01-01T00:00:00Z')]\n",
      "[('x', 'http://www.wikidata.org/entity/Q1507790'), ('p', 'http://www.wikidata.org/entity/Q3454165'), ('mdate', '2007-10-26T00:00:00Z')]\n",
      "[('x', 'http://www.wikidata.org/entity/Q1098140'), ('p', 'http://www.wikidata.org/entity/Q3454165'), ('mdate', '2000-01-01T00:00:00Z')]\n",
      "[('x', 'http://www.wikidata.org/entity/Q1098140'), ('p', 'http://www.wikidata.org/entity/Q3454165'), ('mdate', '2000-10-12T00:00:00Z')]\n",
      "[('x', 'http://www.wikidata.org/entity/Q611535'), ('p', 'http://www.wikidata.org/entity/Q3454165'), ('mdate', '2001-01-01T00:00:00Z')]\n",
      "[('x', 'http://www.wikidata.org/entity/Q627533'), ('p', 'http://www.wikidata.org/entity/Q3454165'), ('mdate', '1984-01-01T00:00:00Z')]\n",
      "[('x', 'http://www.wikidata.org/entity/Q627533'), ('p', 'http://www.wikidata.org/entity/Q3454165'), ('mdate', '1984-05-18T00:00:00Z')]\n",
      "[('x', 'http://www.wikidata.org/entity/Q1133610'), ('p', 'http://www.wikidata.org/entity/Q3454165'), ('mdate', '1998-03-20T00:00:00Z')]\n",
      "[('x', 'http://www.wikidata.org/entity/Q813464'), ('p', 'http://www.wikidata.org/entity/Q3454165'), ('mdate', '2005-03-24T00:00:00Z')]\n",
      "[('x', 'http://www.wikidata.org/entity/Q221586'), ('p', 'http://www.wikidata.org/entity/Q3454165'), ('mdate', '2003-05-23T00:00:00Z')]\n",
      "[('x', 'http://www.wikidata.org/entity/Q221586'), ('p', 'http://www.wikidata.org/entity/Q3454165'), ('mdate', '2003-11-27T00:00:00Z')]\n",
      "[('x', 'http://www.wikidata.org/entity/Q451630'), ('p', 'http://www.wikidata.org/entity/Q3454165'), ('mdate', '1994-01-01T00:00:00Z')]\n",
      "[('x', 'http://www.wikidata.org/entity/Q451630'), ('p', 'http://www.wikidata.org/entity/Q3454165'), ('mdate', '1995-01-26T00:00:00Z')]\n",
      "[('x', 'http://www.wikidata.org/entity/Q16167570'), ('p', 'http://www.wikidata.org/entity/Q3454165'), ('mdate', '2013-01-01T00:00:00Z')]\n",
      "[('x', 'http://www.wikidata.org/entity/Q835650'), ('p', 'http://www.wikidata.org/entity/Q3454165'), ('mdate', '1990-01-19T00:00:00Z')]\n",
      "[('x', 'http://www.wikidata.org/entity/Q835650'), ('p', 'http://www.wikidata.org/entity/Q3454165'), ('mdate', '1990-05-17T00:00:00Z')]\n",
      "[('x', 'http://www.wikidata.org/entity/Q835650'), ('p', 'http://www.wikidata.org/entity/Q3454165'), ('mdate', '1990-05-23T00:00:00Z')]\n",
      "[('x', 'http://www.wikidata.org/entity/Q1724723'), ('p', 'http://www.wikidata.org/entity/Q3454165'), ('mdate', '1987-01-01T00:00:00Z')]\n",
      "[('x', 'http://www.wikidata.org/entity/Q1476932'), ('p', 'http://www.wikidata.org/entity/Q3454165'), ('mdate', '1991-01-01T00:00:00Z')]\n",
      "[('x', 'http://www.wikidata.org/entity/Q960125'), ('p', 'http://www.wikidata.org/entity/Q3454165'), ('mdate', '1978-07-27T00:00:00Z')]\n",
      "[('x', 'http://www.wikidata.org/entity/Q960125'), ('p', 'http://www.wikidata.org/entity/Q3454165'), ('mdate', '1979-01-25T00:00:00Z')]\n",
      "[('x', 'http://www.wikidata.org/entity/Q1868796'), ('p', 'http://www.wikidata.org/entity/Q3454165'), ('mdate', '2004-01-01T00:00:00Z')]\n",
      "[('x', 'http://www.wikidata.org/entity/Q30278181'), ('p', 'http://www.wikidata.org/entity/Q3454165'), ('mdate', '2017-01-01T00:00:00Z')]\n",
      "[('x', 'http://www.wikidata.org/entity/Q1193529'), ('p', 'http://www.wikidata.org/entity/Q3454165'), ('mdate', '1988-01-01T00:00:00Z')]\n",
      "[('x', 'http://www.wikidata.org/entity/Q1193529'), ('p', 'http://www.wikidata.org/entity/Q3454165'), ('mdate', '1989-11-30T00:00:00Z')]\n",
      "[('x', 'http://www.wikidata.org/entity/Q151848'), ('p', 'http://www.wikidata.org/entity/Q3454165'), ('mdate', '2005-01-01T00:00:00Z')]\n",
      "[('x', 'http://www.wikidata.org/entity/Q151848'), ('p', 'http://www.wikidata.org/entity/Q3454165'), ('mdate', '2006-02-02T00:00:00Z')]\n",
      "[('x', 'http://www.wikidata.org/entity/Q1198659'), ('p', 'http://www.wikidata.org/entity/Q3454165'), ('mdate', '1997-01-01T00:00:00Z')]\n",
      "[('x', 'http://www.wikidata.org/entity/Q1198659'), ('p', 'http://www.wikidata.org/entity/Q3454165'), ('mdate', '1997-08-01T00:00:00Z')]\n",
      "[('x', 'http://www.wikidata.org/entity/Q1198659'), ('p', 'http://www.wikidata.org/entity/Q3454165'), ('mdate', '1998-06-04T00:00:00Z')]\n",
      "[('x', 'http://www.wikidata.org/entity/Q2569590'), ('p', 'http://www.wikidata.org/entity/Q3454165'), ('mdate', '1986-01-01T00:00:00Z')]\n",
      "[('x', 'http://www.wikidata.org/entity/Q519490'), ('p', 'http://www.wikidata.org/entity/Q3454165'), ('mdate', '2011-07-28T00:00:00Z')]\n",
      "[('x', 'http://www.wikidata.org/entity/Q519490'), ('p', 'http://www.wikidata.org/entity/Q3454165'), ('mdate', '2011-08-18T00:00:00Z')]\n",
      "[('x', 'http://www.wikidata.org/entity/Q19824637'), ('p', 'http://www.wikidata.org/entity/Q3454165'), ('mdate', '2015-01-01T00:00:00Z')]\n",
      "[('x', 'http://www.wikidata.org/entity/Q20001449'), ('p', 'http://www.wikidata.org/entity/Q3454165'), ('mdate', '2008-01-01T00:00:00Z')]\n",
      "[('x', 'http://www.wikidata.org/entity/Q16971610'), ('p', 'http://www.wikidata.org/entity/Q3454165'), ('mdate', '2015-09-18T00:00:00Z')]\n",
      "[('x', 'http://www.wikidata.org/entity/Q16971610'), ('p', 'http://www.wikidata.org/entity/Q3454165'), ('mdate', '2015-10-15T00:00:00Z')]\n",
      "[('x', 'http://www.wikidata.org/entity/Q16971610'), ('p', 'http://www.wikidata.org/entity/Q3454165'), ('mdate', '2015-11-12T00:00:00Z')]\n",
      "[('x', 'http://www.wikidata.org/entity/Q16971610'), ('p', 'http://www.wikidata.org/entity/Q3454165'), ('mdate', '2015-11-26T00:00:00Z')]\n",
      "[('x', 'http://www.wikidata.org/entity/Q370893'), ('p', 'http://www.wikidata.org/entity/Q3454165'), ('mdate', '2007-01-01T00:00:00Z')]\n",
      "[('x', 'http://www.wikidata.org/entity/Q975358'), ('p', 'http://www.wikidata.org/entity/Q3454165'), ('mdate', '1999-01-01T00:00:00Z')]\n",
      "[('x', 'http://www.wikidata.org/entity/Q975358'), ('p', 'http://www.wikidata.org/entity/Q3454165'), ('mdate', '2000-02-03T00:00:00Z')]\n",
      "[('x', 'http://www.wikidata.org/entity/Q2364063'), ('p', 'http://www.wikidata.org/entity/Q3454165'), ('mdate', '1987-01-01T00:00:00Z')]\n",
      "[('x', 'http://www.wikidata.org/entity/Q759462'), ('p', 'http://www.wikidata.org/entity/Q3454165'), ('mdate', '1979-01-01T00:00:00Z')]\n",
      "[('x', 'http://www.wikidata.org/entity/Q759462'), ('p', 'http://www.wikidata.org/entity/Q3454165'), ('mdate', '1980-04-25T00:00:00Z')]\n",
      "[('x', 'http://www.wikidata.org/entity/Q217303'), ('p', 'http://www.wikidata.org/entity/Q3454165'), ('mdate', '2002-01-01T00:00:00Z')]\n",
      "[('x', 'http://www.wikidata.org/entity/Q217303'), ('p', 'http://www.wikidata.org/entity/Q3454165'), ('mdate', '2002-09-20T00:00:00Z')]\n",
      "[('x', 'http://www.wikidata.org/entity/Q217303'), ('p', 'http://www.wikidata.org/entity/Q3454165'), ('mdate', '2003-03-27T00:00:00Z')]\n",
      "[('x', 'http://www.wikidata.org/entity/Q3005459'), ('p', 'http://www.wikidata.org/entity/Q3454165'), ('mdate', '1982-11-17T00:00:00Z')]\n",
      "[('x', 'http://www.wikidata.org/entity/Q23767799'), ('p', 'http://www.wikidata.org/entity/Q3454165'), ('mdate', '2016-11-17T00:00:00Z')]\n",
      "[('x', 'http://www.wikidata.org/entity/Q23767799'), ('p', 'http://www.wikidata.org/entity/Q3454165'), ('mdate', '2017-01-13T00:00:00Z')]\n",
      "[('x', 'http://www.wikidata.org/entity/Q23767799'), ('p', 'http://www.wikidata.org/entity/Q3454165'), ('mdate', '2017-02-23T00:00:00Z')]\n",
      "[('x', 'http://www.wikidata.org/entity/Q23767799'), ('p', 'http://www.wikidata.org/entity/Q3454165'), ('mdate', '2017-06-23T00:00:00Z')]\n",
      "[('x', 'http://www.wikidata.org/entity/Q23767799'), ('p', 'http://www.wikidata.org/entity/Q3454165'), ('mdate', '2017-11-17T00:00:00Z')]\n",
      "[('x', 'http://www.wikidata.org/entity/Q2882477'), ('p', 'http://www.wikidata.org/entity/Q3454165'), ('mdate', '2011-01-01T00:00:00Z')]\n",
      "[('x', 'http://www.wikidata.org/entity/Q1145732'), ('p', 'http://www.wikidata.org/entity/Q3454165'), ('mdate', '1996-01-01T00:00:00Z')]\n",
      "[('x', 'http://www.wikidata.org/entity/Q1145732'), ('p', 'http://www.wikidata.org/entity/Q3454165'), ('mdate', '1997-01-30T00:00:00Z')]\n",
      "[('x', 'http://www.wikidata.org/entity/Q106428'), ('p', 'http://www.wikidata.org/entity/Q3454165'), ('mdate', '1995-06-30T00:00:00Z')]\n",
      "[('x', 'http://www.wikidata.org/entity/Q106428'), ('p', 'http://www.wikidata.org/entity/Q3454165'), ('mdate', '1995-10-19T00:00:00Z')]\n",
      "[('x', 'http://www.wikidata.org/entity/Q106428'), ('p', 'http://www.wikidata.org/entity/Q3454165'), ('mdate', '1995-11-03T00:00:00Z')]\n",
      "[('x', 'http://www.wikidata.org/entity/Q1768370'), ('p', 'http://www.wikidata.org/entity/Q3454165'), ('mdate', '2009-01-01T00:00:00Z')]\n",
      "[('x', 'http://www.wikidata.org/entity/Q3012553'), ('p', 'http://www.wikidata.org/entity/Q3454165'), ('mdate', '2013-01-01T00:00:00Z')]\n",
      "[('x', 'http://www.wikidata.org/entity/Q3012553'), ('p', 'http://www.wikidata.org/entity/Q3454165'), ('mdate', '2013-07-18T00:00:00Z')]\n",
      "[('x', 'http://www.wikidata.org/entity/Q3012553'), ('p', 'http://www.wikidata.org/entity/Q3454165'), ('mdate', '2013-08-29T00:00:00Z')]\n",
      "[('x', 'http://www.wikidata.org/entity/Q127760'), ('p', 'http://www.wikidata.org/entity/Q3454165'), ('mdate', '1991-01-01T00:00:00Z')]\n",
      "[('x', 'http://www.wikidata.org/entity/Q2543388'), ('p', 'http://www.wikidata.org/entity/Q3454165'), ('mdate', '1981-01-01T00:00:00Z')]\n",
      "[('x', 'http://www.wikidata.org/entity/Q1181262'), ('p', 'http://www.wikidata.org/entity/Q3454165'), ('mdate', '2007-01-01T00:00:00Z')]\n",
      "[('x', 'http://www.wikidata.org/entity/Q1181262'), ('p', 'http://www.wikidata.org/entity/Q3454165'), ('mdate', '2007-09-13T00:00:00Z')]\n",
      "[('x', 'http://www.wikidata.org/entity/Q910178'), ('p', 'http://www.wikidata.org/entity/Q3454165'), ('mdate', '1988-01-01T00:00:00Z')]\n",
      "[('x', 'http://www.wikidata.org/entity/Q59572'), ('p', 'http://www.wikidata.org/entity/Q3454165'), ('mdate', '2003-01-01T00:00:00Z')]\n",
      "[('x', 'http://www.wikidata.org/entity/Q59572'), ('p', 'http://www.wikidata.org/entity/Q3454165'), ('mdate', '2004-09-30T00:00:00Z')]\n",
      "[('x', 'http://www.wikidata.org/entity/Q17508638'), ('p', 'http://www.wikidata.org/entity/Q3454165'), ('mdate', '2016-01-01T00:00:00Z')]\n",
      "[('x', 'http://www.wikidata.org/entity/Q19824612'), ('p', 'http://www.wikidata.org/entity/Q3454165'), ('mdate', '2015-01-01T00:00:00Z')]\n",
      "[('x', 'http://www.wikidata.org/entity/Q514348'), ('p', 'http://www.wikidata.org/entity/Q3454165'), ('mdate', '1990-01-01T00:00:00Z')]\n",
      "[('x', 'http://www.wikidata.org/entity/Q514348'), ('p', 'http://www.wikidata.org/entity/Q3454165'), ('mdate', '1990-11-22T00:00:00Z')]\n",
      "[('x', 'http://www.wikidata.org/entity/Q990987'), ('p', 'http://www.wikidata.org/entity/Q3454165'), ('mdate', '2009-01-01T00:00:00Z')]\n",
      "[('x', 'http://www.wikidata.org/entity/Q665083'), ('p', 'http://www.wikidata.org/entity/Q3454165'), ('mdate', '1997-07-01T00:00:00Z')]\n",
      "[('x', 'http://www.wikidata.org/entity/Q665083'), ('p', 'http://www.wikidata.org/entity/Q3454165'), ('mdate', '1998-10-15T00:00:00Z')]\n",
      "[('x', 'http://www.wikidata.org/entity/Q736788'), ('p', 'http://www.wikidata.org/entity/Q3454165'), ('mdate', '1987-11-25T00:00:00Z')]\n",
      "[('x', 'http://www.wikidata.org/entity/Q736788'), ('p', 'http://www.wikidata.org/entity/Q3454165'), ('mdate', '1988-04-28T00:00:00Z')]\n",
      "[('x', 'http://www.wikidata.org/entity/Q120105'), ('p', 'http://www.wikidata.org/entity/Q3454165'), ('mdate', '2004-01-01T00:00:00Z')]\n",
      "[('x', 'http://www.wikidata.org/entity/Q120105'), ('p', 'http://www.wikidata.org/entity/Q3454165'), ('mdate', '2005-05-05T00:00:00Z')]\n",
      "[('x', 'http://www.wikidata.org/entity/Q2430523'), ('p', 'http://www.wikidata.org/entity/Q3454165'), ('mdate', '1993-01-01T00:00:00Z')]\n",
      "[('x', 'http://www.wikidata.org/entity/Q741823'), ('p', 'http://www.wikidata.org/entity/Q3454165'), ('mdate', '1991-12-20T00:00:00Z')]\n",
      "[('x', 'http://www.wikidata.org/entity/Q741823'), ('p', 'http://www.wikidata.org/entity/Q3454165'), ('mdate', '1992-01-23T00:00:00Z')]\n",
      "[('x', 'http://www.wikidata.org/entity/Q741823'), ('p', 'http://www.wikidata.org/entity/Q3454165'), ('mdate', '1992-01-29T00:00:00Z')]\n",
      "[('x', 'http://www.wikidata.org/entity/Q3521035'), ('p', 'http://www.wikidata.org/entity/Q3454165'), ('mdate', '1979-01-01T00:00:00Z')]\n",
      "[('x', 'http://www.wikidata.org/entity/Q490047'), ('p', 'http://www.wikidata.org/entity/Q3454165'), ('mdate', '1991-01-01T00:00:00Z')]\n",
      "[('x', 'http://www.wikidata.org/entity/Q490047'), ('p', 'http://www.wikidata.org/entity/Q3454165'), ('mdate', '1992-03-05T00:00:00Z')]\n",
      "[('x', 'http://www.wikidata.org/entity/Q1377450'), ('p', 'http://www.wikidata.org/entity/Q3454165'), ('mdate', '2012-02-13T00:00:00Z')]\n",
      "[('x', 'http://www.wikidata.org/entity/Q2276038'), ('p', 'http://www.wikidata.org/entity/Q3454165'), ('mdate', '1997-01-01T00:00:00Z')]\n",
      "[('x', 'http://www.wikidata.org/entity/Q5577900'), ('p', 'http://www.wikidata.org/entity/Q3454165'), ('mdate', '2006-01-01T00:00:00Z')]\n",
      "[('x', 'http://www.wikidata.org/entity/Q3566931'), ('p', 'http://www.wikidata.org/entity/Q3454165'), ('mdate', '2000-01-01T00:00:00Z')]\n",
      "[('x', 'http://www.wikidata.org/entity/Q1243029'), ('p', 'http://www.wikidata.org/entity/Q13218111'), ('mdate', '1980-05-09T00:00:00Z')]\n",
      "[('x', 'http://www.wikidata.org/entity/Q1243029'), ('p', 'http://www.wikidata.org/entity/Q13218111'), ('mdate', '1980-10-23T00:00:00Z')]\n",
      "[('x', 'http://www.wikidata.org/entity/Q1243029'), ('p', 'http://www.wikidata.org/entity/Q13218111'), ('mdate', '1980-11-10T00:00:00Z')]\n",
      "[('x', 'http://www.wikidata.org/entity/Q1243029'), ('p', 'http://www.wikidata.org/entity/Q2570201'), ('mdate', '1980-05-09T00:00:00Z')]\n",
      "[('x', 'http://www.wikidata.org/entity/Q1243029'), ('p', 'http://www.wikidata.org/entity/Q2570201'), ('mdate', '1980-10-23T00:00:00Z')]\n",
      "[('x', 'http://www.wikidata.org/entity/Q1243029'), ('p', 'http://www.wikidata.org/entity/Q2570201'), ('mdate', '1980-11-10T00:00:00Z')]\n",
      "[('x', 'http://www.wikidata.org/entity/Q1243029'), ('p', 'http://www.wikidata.org/entity/Q3047636'), ('mdate', '1980-05-09T00:00:00Z')]\n",
      "[('x', 'http://www.wikidata.org/entity/Q1243029'), ('p', 'http://www.wikidata.org/entity/Q3047636'), ('mdate', '1980-10-23T00:00:00Z')]\n",
      "[('x', 'http://www.wikidata.org/entity/Q1243029'), ('p', 'http://www.wikidata.org/entity/Q3047636'), ('mdate', '1980-11-10T00:00:00Z')]\n",
      "[('x', 'http://www.wikidata.org/entity/Q1243029'), ('p', 'http://www.wikidata.org/entity/Q524486'), ('mdate', '1980-05-09T00:00:00Z')]\n",
      "[('x', 'http://www.wikidata.org/entity/Q1243029'), ('p', 'http://www.wikidata.org/entity/Q524486'), ('mdate', '1980-10-23T00:00:00Z')]\n",
      "[('x', 'http://www.wikidata.org/entity/Q1243029'), ('p', 'http://www.wikidata.org/entity/Q524486'), ('mdate', '1980-11-10T00:00:00Z')]\n",
      "[('x', 'http://www.wikidata.org/entity/Q30501956'), ('p', 'http://www.wikidata.org/entity/Q524486'), ('mdate', '2016-03-12T00:00:00Z')]\n",
      "[('x', 'http://www.wikidata.org/entity/Q105546566'), ('p', 'http://www.wikidata.org/entity/Q524486'), ('mdate', '2021-08-13T00:00:00Z')]\n",
      "[('x', 'http://www.wikidata.org/entity/Q16537862'), ('p', 'http://www.wikidata.org/entity/Q3047636'), ('mdate', '2013-09-13T00:00:00Z')]\n",
      "[('x', 'http://www.wikidata.org/entity/Q5577900'), ('p', 'http://www.wikidata.org/entity/Q3047636'), ('mdate', '2006-01-01T00:00:00Z')]\n"
     ]
    },
    {
     "data": {
      "text/plain": [
       "220"
      ]
     },
     "execution_count": 8,
     "metadata": {},
     "output_type": "execute_result"
    }
   ],
   "source": [
    "# films done by the actors of friday the 13th\n",
    "queryString = \"\"\"\n",
    "select ?x ?p ?mdate\n",
    "where{\n",
    "  wd:Q1243029 wdt:P161 ?p .\n",
    "  ?x wdt:P161 ?p .\n",
    "  ?x wdt:P577 ?mdate .\n",
    "  }\n",
    "\"\"\"\n",
    "print(\"Results\")\n",
    "run_query(queryString)"
   ]
  },
  {
   "cell_type": "code",
   "execution_count": 10,
   "id": "a9cd93fd-c647-4321-9b93-67190da4a986",
   "metadata": {},
   "outputs": [
    {
     "name": "stdout",
     "output_type": "stream",
     "text": [
      "Results\n",
      "[('film', '106'), ('person', 'Kevin Bacon')]\n",
      "[('film', '19'), ('person', 'Adrienne King')]\n",
      "[('film', '10'), ('person', 'Betsy Palmer')]\n",
      "[('film', '7'), ('person', 'Robbi Morgan')]\n",
      "[('film', '5'), ('person', 'Rex Everhart')]\n",
      "[('film', '2'), ('person', 'Jeannine Taylor')]\n",
      "[('film', '2'), ('person', 'Ari Lehman')]\n"
     ]
    },
    {
     "data": {
      "text/plain": [
       "7"
      ]
     },
     "execution_count": 10,
     "metadata": {},
     "output_type": "execute_result"
    }
   ],
   "source": [
    "# ANSWER to 3 part 1\n",
    "queryString = \"\"\"\n",
    "SELECT (count(?x) as ?film) ?person where{\n",
    "{\n",
    "  SELECT (max(?pdate) as ?x1)\n",
    "  WHERE { \n",
    "    wd:Q1243029 wdt:P577 ?pdate .\n",
    "  } \n",
    "}\n",
    "{\n",
    "  select ?x ?person ?mdate\n",
    "  where{\n",
    "    wd:Q1243029 wdt:P161 ?p .\n",
    "    ?x wdt:P161 ?p .\n",
    "    ?x wdt:P577 ?mdate .\n",
    "    ?p <http://schema.org/name> ?person .\n",
    "  }\n",
    "}\n",
    "  filter(?mdate>?x1)             \n",
    "} group by ?person\n",
    "order by desc (?film)\n",
    "\"\"\"\n",
    "print(\"Results\")\n",
    "run_query(queryString)"
   ]
  },
  {
   "cell_type": "code",
   "execution_count": 5,
   "id": "dde34dcc-7243-4e58-bd93-bf80c3015507",
   "metadata": {},
   "outputs": [
    {
     "name": "stdout",
     "output_type": "stream",
     "text": [
      "Results\n",
      "[('film', '105'), ('person', 'Jamie Lee Curtis')]\n",
      "[('film', '105'), ('person', 'Donald Pleasence')]\n",
      "[('film', '31'), ('person', 'P. J. Soles')]\n",
      "[('film', '28'), ('person', 'John Carpenter')]\n",
      "[('film', '16'), ('person', 'Arthur Malet')]\n",
      "[('film', '13'), ('person', 'Charles Cyphers')]\n",
      "[('film', '12'), ('person', 'Nick Castle')]\n",
      "[('film', '11'), ('person', 'Gabriel Cattand')]\n",
      "[('film', '8'), ('person', 'Kyle Richards')]\n",
      "[('film', '5'), ('person', 'Nancy Stephens')]\n",
      "[('film', '5'), ('person', 'Nancy Kyes')]\n",
      "[('film', '3'), ('person', 'Tony Moran')]\n"
     ]
    },
    {
     "data": {
      "text/plain": [
       "12"
      ]
     },
     "execution_count": 5,
     "metadata": {},
     "output_type": "execute_result"
    }
   ],
   "source": [
    "# ANSWER to 3 part 2\n",
    "queryString = \"\"\"\n",
    "SELECT (count(?x) as ?film) ?person where{\n",
    "{\n",
    "  SELECT (max(?pdate) as ?x1)\n",
    "  WHERE { \n",
    "    wd:Q221103 wdt:P577 ?pdate .\n",
    "  } \n",
    "}\n",
    "{\n",
    "  SELECT ?x ?person ?mdate\n",
    "  WHERE{\n",
    "    wd:Q221103 wdt:P161 ?p .\n",
    "    ?x wdt:P161 ?p .\n",
    "    ?x wdt:P577 ?mdate .\n",
    "    ?p <http://schema.org/name> ?person .\n",
    "  }\n",
    "}\n",
    "filter(?mdate>?x1)         \n",
    "} group by ?person\n",
    "order by desc (?film)\n",
    "\"\"\"\n",
    "print(\"Results\")\n",
    "run_query(queryString)"
   ]
  },
  {
   "cell_type": "markdown",
   "id": "983d02fd-c073-4557-b73e-50edb4878355",
   "metadata": {},
   "source": [
    "***\n",
    "\n",
    "# Task 4\n",
    "\n",
    "*Get all the movies of the two franchises (return year and director)*"
   ]
  },
  {
   "cell_type": "code",
   "execution_count": 12,
   "id": "836a3dcd-e5ba-4697-9bd5-1d62e5bf47bd",
   "metadata": {},
   "outputs": [
    {
     "name": "stdout",
     "output_type": "stream",
     "text": [
      "Results\n",
      "[('x', 'http://www.wikidata.org/entity/Q1138878')]\n",
      "[('x', 'http://www.wikidata.org/entity/Q1364022')]\n"
     ]
    },
    {
     "data": {
      "text/plain": [
       "2"
      ]
     },
     "execution_count": 12,
     "metadata": {},
     "output_type": "execute_result"
    }
   ],
   "source": [
    "# Extract the franchises of the 2 films\n",
    "queryString = \"\"\"\n",
    "SELECT distinct ?x where{\n",
    "  ?film wdt:P179 ?x\n",
    "  filter (?film=wd:Q221103 || ?film=wd:Q1243029)\n",
    "}\n",
    "\"\"\"\n",
    "print(\"Results\")\n",
    "run_query(queryString)"
   ]
  },
  {
   "cell_type": "code",
   "execution_count": 16,
   "id": "e2149b0f-2349-4012-81b0-694ec80d7c5e",
   "metadata": {},
   "outputs": [
    {
     "name": "stdout",
     "output_type": "stream",
     "text": [
      "Results\n",
      "[('filmn', 'Friday the 13th Part 2'), ('film', 'http://www.wikidata.org/entity/Q1243009'), ('director', 'http://www.wikidata.org/entity/Q709325'), ('date', '1981-04-30T00:00:00Z')]\n",
      "[('filmn', 'Friday the 13th Part 2'), ('film', 'http://www.wikidata.org/entity/Q1243009'), ('director', 'http://www.wikidata.org/entity/Q107404'), ('date', '1981-04-30T00:00:00Z')]\n",
      "[('filmn', 'Friday the 13th Part 2'), ('film', 'http://www.wikidata.org/entity/Q1243009'), ('director', 'http://www.wikidata.org/entity/Q709325'), ('date', '1981-11-02T00:00:00Z')]\n",
      "[('filmn', 'Friday the 13th Part 2'), ('film', 'http://www.wikidata.org/entity/Q1243009'), ('director', 'http://www.wikidata.org/entity/Q107404'), ('date', '1981-11-02T00:00:00Z')]\n",
      "[('filmn', 'Friday the 13th Part III'), ('film', 'http://www.wikidata.org/entity/Q1243013'), ('director', 'http://www.wikidata.org/entity/Q107404'), ('date', '1982-08-13T00:00:00Z')]\n",
      "[('filmn', 'Friday the 13th Part III'), ('film', 'http://www.wikidata.org/entity/Q1243013'), ('director', 'http://www.wikidata.org/entity/Q107404'), ('date', '1983-05-12T00:00:00Z')]\n",
      "[('filmn', 'Friday the 13th Part III'), ('film', 'http://www.wikidata.org/entity/Q1243013'), ('director', 'http://www.wikidata.org/entity/Q107404'), ('date', '1983-05-13T00:00:00Z')]\n",
      "[('filmn', 'Friday the 13th'), ('film', 'http://www.wikidata.org/entity/Q1243029'), ('director', 'http://www.wikidata.org/entity/Q709325'), ('date', '1980-05-09T00:00:00Z')]\n",
      "[('filmn', 'Friday the 13th'), ('film', 'http://www.wikidata.org/entity/Q1243029'), ('director', 'http://www.wikidata.org/entity/Q709325'), ('date', '1980-10-23T00:00:00Z')]\n",
      "[('filmn', 'Friday the 13th'), ('film', 'http://www.wikidata.org/entity/Q1243029'), ('director', 'http://www.wikidata.org/entity/Q709325'), ('date', '1980-11-10T00:00:00Z')]\n",
      "[('filmn', 'Jason X'), ('film', 'http://www.wikidata.org/entity/Q1427521'), ('director', 'http://www.wikidata.org/entity/Q472868'), ('date', '2001-01-01T00:00:00Z')]\n",
      "[('filmn', 'Jason Goes to Hell: The Final Friday'), ('film', 'http://www.wikidata.org/entity/Q1683918'), ('director', 'http://www.wikidata.org/entity/Q4679450'), ('date', '1993-01-01T00:00:00Z')]\n",
      "[('filmn', 'Halloween'), ('film', 'http://www.wikidata.org/entity/Q221103'), ('director', 'http://www.wikidata.org/entity/Q95008'), ('date', '1978-10-25T00:00:00Z')]\n",
      "[('filmn', 'Halloween'), ('film', 'http://www.wikidata.org/entity/Q221103'), ('director', 'http://www.wikidata.org/entity/Q95008'), ('date', '1979-07-06T00:00:00Z')]\n",
      "[('filmn', 'Halloween'), ('film', 'http://www.wikidata.org/entity/Q221103'), ('director', 'http://www.wikidata.org/entity/Q95008'), ('date', '1979-08-06T00:00:00Z')]\n",
      "[('filmn', 'Halloween H20: 20 Years Later'), ('film', 'http://www.wikidata.org/entity/Q1050815'), ('director', 'http://www.wikidata.org/entity/Q107404'), ('date', '1998-01-01T00:00:00Z')]\n",
      "[('filmn', 'Halloween H20: 20 Years Later'), ('film', 'http://www.wikidata.org/entity/Q1050815'), ('director', 'http://www.wikidata.org/entity/Q107404'), ('date', '1998-10-29T00:00:00Z')]\n",
      "[('filmn', 'Halloween: Resurrection'), ('film', 'http://www.wikidata.org/entity/Q176488'), ('director', 'http://www.wikidata.org/entity/Q1384404'), ('date', '2002-01-01T00:00:00Z')]\n",
      "[('filmn', 'Halloween: Resurrection'), ('film', 'http://www.wikidata.org/entity/Q176488'), ('director', 'http://www.wikidata.org/entity/Q1384404'), ('date', '2002-11-07T00:00:00Z')]\n",
      "[('filmn', 'Halloween'), ('film', 'http://www.wikidata.org/entity/Q909063'), ('director', 'http://www.wikidata.org/entity/Q298255'), ('date', '2007-01-01T00:00:00Z')]\n",
      "[('filmn', 'Halloween'), ('film', 'http://www.wikidata.org/entity/Q909063'), ('director', 'http://www.wikidata.org/entity/Q298255'), ('date', '2007-10-25T00:00:00Z')]\n",
      "[('filmn', 'Friday the 13th Part VIII: Jason Takes Manhattan'), ('film', 'http://www.wikidata.org/entity/Q1454794'), ('director', 'http://www.wikidata.org/entity/Q21280751'), ('date', '1989-01-01T00:00:00Z')]\n",
      "[('filmn', 'Friday the 13th Part VII: The New Blood'), ('film', 'http://www.wikidata.org/entity/Q1454798'), ('director', 'http://www.wikidata.org/entity/Q3052099'), ('date', '1988-01-01T00:00:00Z')]\n",
      "[('filmn', 'Friday the 13th Part VI: Jason Lives'), ('film', 'http://www.wikidata.org/entity/Q1454799'), ('director', 'http://www.wikidata.org/entity/Q730985'), ('date', '1986-01-01T00:00:00Z')]\n",
      "[('filmn', 'Halloween II'), ('film', 'http://www.wikidata.org/entity/Q850312'), ('director', 'http://www.wikidata.org/entity/Q95008'), ('date', '1981-01-01T00:00:00Z')]\n",
      "[('filmn', 'Halloween II'), ('film', 'http://www.wikidata.org/entity/Q850312'), ('director', 'http://www.wikidata.org/entity/Q1384404'), ('date', '1981-01-01T00:00:00Z')]\n",
      "[('filmn', 'Halloween II'), ('film', 'http://www.wikidata.org/entity/Q850312'), ('director', 'http://www.wikidata.org/entity/Q95008'), ('date', '1982-11-11T00:00:00Z')]\n",
      "[('filmn', 'Halloween II'), ('film', 'http://www.wikidata.org/entity/Q850312'), ('director', 'http://www.wikidata.org/entity/Q1384404'), ('date', '1982-11-11T00:00:00Z')]\n",
      "[('filmn', 'Friday the 13th: A New Beginning'), ('film', 'http://www.wikidata.org/entity/Q286830'), ('director', 'http://www.wikidata.org/entity/Q1778633'), ('date', '1985-01-01T00:00:00Z')]\n",
      "[('filmn', 'Friday the 13th: A New Beginning'), ('film', 'http://www.wikidata.org/entity/Q286830'), ('director', 'http://www.wikidata.org/entity/Q1778633'), ('date', '1987-01-02T00:00:00Z')]\n",
      "[('filmn', 'Halloween III: Season of the Witch'), ('film', 'http://www.wikidata.org/entity/Q203705'), ('director', 'http://www.wikidata.org/entity/Q574983'), ('date', '1982-01-01T00:00:00Z')]\n",
      "[('filmn', 'Halloween 4: The Return of Michael Myers'), ('film', 'http://www.wikidata.org/entity/Q959853'), ('director', 'http://www.wikidata.org/entity/Q1268483'), ('date', '1988-01-01T00:00:00Z')]\n",
      "[('filmn', 'Halloween 4: The Return of Michael Myers'), ('film', 'http://www.wikidata.org/entity/Q959853'), ('director', 'http://www.wikidata.org/entity/Q1268483'), ('date', '1989-05-18T00:00:00Z')]\n",
      "[('filmn', 'Halloween 5: The Revenge of Michael Myers'), ('film', 'http://www.wikidata.org/entity/Q976728'), ('director', 'http://www.wikidata.org/entity/Q117234'), ('date', '1989-01-01T00:00:00Z')]\n",
      "[('filmn', 'Halloween 5: The Revenge of Michael Myers'), ('film', 'http://www.wikidata.org/entity/Q976728'), ('director', 'http://www.wikidata.org/entity/Q117234'), ('date', '1991-07-11T00:00:00Z')]\n",
      "[('filmn', 'Halloween II'), ('film', 'http://www.wikidata.org/entity/Q908690'), ('director', 'http://www.wikidata.org/entity/Q298255'), ('date', '2009-01-01T00:00:00Z')]\n",
      "[('filmn', 'Halloween II'), ('film', 'http://www.wikidata.org/entity/Q908690'), ('director', 'http://www.wikidata.org/entity/Q298255'), ('date', '2009-10-15T00:00:00Z')]\n",
      "[('filmn', 'Freddy vs. Jason'), ('film', 'http://www.wikidata.org/entity/Q965859'), ('director', 'http://www.wikidata.org/entity/Q525109'), ('date', '2003-08-13T00:00:00Z')]\n",
      "[('filmn', 'Freddy vs. Jason'), ('film', 'http://www.wikidata.org/entity/Q965859'), ('director', 'http://www.wikidata.org/entity/Q525109'), ('date', '2003-11-20T00:00:00Z')]\n",
      "[('filmn', 'Friday the 13th: The Final Chapter'), ('film', 'http://www.wikidata.org/entity/Q1243019'), ('director', 'http://www.wikidata.org/entity/Q11335'), ('date', '1984-01-01T00:00:00Z')]\n",
      "[('filmn', 'Friday the 13th: The Final Chapter'), ('film', 'http://www.wikidata.org/entity/Q1243019'), ('director', 'http://www.wikidata.org/entity/Q11335'), ('date', '1984-07-13T00:00:00Z')]\n",
      "[('filmn', 'Friday the 13th'), ('film', 'http://www.wikidata.org/entity/Q1454815'), ('director', 'http://www.wikidata.org/entity/Q77399'), ('date', '2009-01-01T00:00:00Z')]\n",
      "[('filmn', 'Friday the 13th'), ('film', 'http://www.wikidata.org/entity/Q1454815'), ('director', 'http://www.wikidata.org/entity/Q77399'), ('date', '2009-02-13T00:00:00Z')]\n",
      "[('filmn', 'Halloween: The Curse of Michael Myers'), ('film', 'http://www.wikidata.org/entity/Q1138055'), ('director', 'http://www.wikidata.org/entity/Q1381885'), ('date', '1995-01-01T00:00:00Z')]\n"
     ]
    },
    {
     "data": {
      "text/plain": [
       "44"
      ]
     },
     "execution_count": 16,
     "metadata": {},
     "output_type": "execute_result"
    }
   ],
   "source": [
    "# ANSWER to 4\n",
    "queryString = \"\"\"\n",
    "SELECT distinct ?filmn ?film ?director ?date where{\n",
    "  ?film wdt:P179 ?y .\n",
    "  ?film wdt:P57 ?director .\n",
    "  ?film wdt:P577 ?date .\n",
    "\n",
    "  ?film <http://schema.org/name> ?filmn .\n",
    "   filter(?y=wd:Q1364022 || ?y=wd:Q1138878)\n",
    "}\n",
    "\"\"\"\n",
    "print(\"Results\")\n",
    "run_query(queryString)"
   ]
  },
  {
   "cell_type": "markdown",
   "id": "6a2ecf70-dd76-4395-a34c-73419152fff7",
   "metadata": {},
   "source": [
    "***\n",
    "\n",
    "# Task 5\n",
    "\n",
    "*Who is most involved in a franchise (who did something in the movies, e.g., writer, director, producer)?*\n",
    "\n",
    "\n"
   ]
  },
  {
   "cell_type": "code",
   "execution_count": 9,
   "id": "f2cfa923-9e66-464f-ac4f-cf1f68b1e656",
   "metadata": {},
   "outputs": [
    {
     "name": "stdout",
     "output_type": "stream",
     "text": [
      "Results\n",
      "[('xx', '15'), ('name', 'Harry Manfredini')]\n",
      "[('xx', '13'), ('name', 'John Carpenter')]\n",
      "[('xx', '7'), ('name', 'Sean S. Cunningham')]\n",
      "[('xx', '6'), ('name', 'Debra Hill')]\n",
      "[('xx', '6'), ('name', 'Steve Miner')]\n",
      "[('xx', '6'), ('name', 'Rob Zombie')]\n",
      "[('xx', '5'), ('name', 'Jamie Lee Curtis')]\n",
      "[('xx', '5'), ('name', 'Donald Pleasence')]\n",
      "[('xx', '4'), ('name', 'Alan Howarth')]\n",
      "[('xx', '4'), ('name', 'Tommy Lee Wallace')]\n",
      "[('xx', '4'), ('name', 'Danielle Harris')]\n",
      "[('xx', '4'), ('name', 'Kane Hodder')]\n",
      "[('xx', '4'), ('name', 'Frank Mancuso, Jr.')]\n",
      "[('xx', '4'), ('name', 'Paul Freeman')]\n",
      "[('xx', '4'), ('name', 'Moustapha Akkad')]\n"
     ]
    },
    {
     "data": {
      "text/plain": [
       "15"
      ]
     },
     "execution_count": 9,
     "metadata": {},
     "output_type": "execute_result"
    }
   ],
   "source": [
    "# ANSWER to 5\n",
    "queryString = \"\"\"\n",
    "SELECT (count(?x) as ?xx) ?name where{\n",
    "  ?film wdt:P179 ?y .\n",
    "  ?film ?x ?z .\n",
    "   filter(?y=wd:Q1364022 || ?y=wd:Q1138878)\n",
    "   filter(?x in(wdt:P161, wdt:P162, wdt:P175, wdt:P86, wdt:P58, wdt:P57, wdt:P334, wdt:P2554 ))\n",
    "   ?z <http://schema.org/name> ?name .\n",
    "}group by ?name\n",
    "order by desc (?xx)\n",
    "limit 15\n",
    "\"\"\"\n",
    "print(\"Results\")\n",
    "run_query(queryString)"
   ]
  },
  {
   "cell_type": "markdown",
   "id": "2182a91e-ca11-41fc-a429-a9158fceed3a",
   "metadata": {
    "tags": []
   },
   "source": [
    "***\n",
    "\n",
    "# Task 6\n",
    "\n",
    "*Investigate which franchise is highly regarded by the critics overall*\n",
    "\n",
    "For the critics opinion we have to again investigate awards and the \"ratings\"."
   ]
  },
  {
   "cell_type": "code",
   "execution_count": 10,
   "id": "41cc7aaa-0766-46ea-bc03-38d0d009232c",
   "metadata": {},
   "outputs": [
    {
     "name": "stdout",
     "output_type": "stream",
     "text": [
      "Results\n",
      "[('name1', 'Golden Raspberry Award for Worst Picture'), ('name2', 'Friday the 13th'), ('name3', 'Friday the 13th')]\n",
      "[('name1', 'Golden Raspberry Award for Worst Supporting Actress'), ('name2', 'Friday the 13th'), ('name3', 'Friday the 13th')]\n"
     ]
    },
    {
     "data": {
      "text/plain": [
       "2"
      ]
     },
     "execution_count": 10,
     "metadata": {},
     "output_type": "execute_result"
    }
   ],
   "source": [
    "# Check if some film has been nominated for some award\n",
    "queryString = \"\"\"\n",
    "SELECT ?name1 ?name2 ?name3 where{\n",
    "  ?film wdt:P179 ?y .\n",
    "  filter(?y=wd:Q1364022 || ?y=wd:Q1138878)\n",
    "  ?film wdt:P1411 ?x .\n",
    "  ?x <http://schema.org/name> ?name1 .\n",
    "  ?y <http://schema.org/name> ?name2 .\n",
    "  ?film <http://schema.org/name> ?name3 .\n",
    "}\n",
    "\"\"\"\n",
    "print(\"Results\")\n",
    "run_query(queryString)"
   ]
  },
  {
   "cell_type": "markdown",
   "id": "38ee9683-7fda-400b-9fdb-b977d2f379b1",
   "metadata": {},
   "source": [
    "I also checked for the \"ratings\" that I found in the properties of the films/franchise. In the end \"ratings\" didn't meant ranking so it wasn't useful. Anyway, the only awards are given to Friday the 13th and are about being a bad film, so is safe to say that critics didn't like it much."
   ]
  },
  {
   "cell_type": "code",
   "execution_count": 15,
   "id": "04750ae2-c4c5-4a2c-b153-8621d9d586f6",
   "metadata": {},
   "outputs": [
    {
     "name": "stdout",
     "output_type": "stream",
     "text": [
      "Results\n",
      "[('name1', 'no minors under sixteen'), ('name2', 'Halloween'), ('name3', 'Halloween')]\n",
      "[('name1', 'no minors under sixteen'), ('name2', 'Friday the 13th'), ('name3', 'Friday the 13th')]\n",
      "[('name1', 'no minors under sixteen'), ('name2', 'Friday the 13th'), ('name3', 'Freddy vs. Jason')]\n",
      "[('name1', 'no minors under twelve'), ('name2', 'Halloween'), ('name3', 'Halloween H20: 20 Years Later')]\n",
      "[('name1', 'no minors under twelve'), ('name2', 'Halloween'), ('name3', 'Halloween: Resurrection')]\n",
      "[('name1', 'no minors under twelve'), ('name2', 'Friday the 13th'), ('name3', 'Friday the 13th')]\n",
      "[('name1', 'no minors under twelve'), ('name2', 'Friday the 13th'), ('name3', 'Friday the 13th Part VII: The New Blood')]\n",
      "[('name1', 'warning'), ('name2', 'Friday the 13th'), ('name3', 'Friday the 13th')]\n"
     ]
    },
    {
     "data": {
      "text/plain": [
       "8"
      ]
     },
     "execution_count": 15,
     "metadata": {},
     "output_type": "execute_result"
    }
   ],
   "source": [
    "# Check one of the rating available (in the end it wasnt the rating I expected)\n",
    "queryString = \"\"\"\n",
    "SELECT ?name1 ?name2 ?name3 where{\n",
    "  ?film wdt:P179 ?y .\n",
    "  filter(?y=wd:Q1364022 || ?y=wd:Q1138878)\n",
    "  ?film wdt:P2758 ?x .\n",
    "  ?x <http://schema.org/name> ?name1 .\n",
    "  ?y <http://schema.org/name> ?name2 .\n",
    "  ?film <http://schema.org/name> ?name3 .\n",
    "}order by desc(?x)\n",
    "\"\"\"\n",
    "# ANSWER to 6. Being nominated for worst picture is enough  \n",
    "print(\"Results\")\n",
    "run_query(queryString)"
   ]
  },
  {
   "cell_type": "markdown",
   "id": "7e068ac0-df35-4da0-8a63-e4d92d2f6bb6",
   "metadata": {},
   "source": [
    "***\n",
    "\n",
    "# Task 7\n",
    "\n",
    "*Investigate which franchise costed more*"
   ]
  },
  {
   "cell_type": "code",
   "execution_count": 14,
   "id": "4800a402-7da2-4ae3-aa77-58a79bf8f419",
   "metadata": {},
   "outputs": [
    {
     "name": "stdout",
     "output_type": "stream",
     "text": [
      "Results\n",
      "[('x', 'http://www.wikidata.org/prop/direct/P136'), ('name', 'genre')]\n",
      "[('x', 'http://www.wikidata.org/prop/direct/P1424'), ('name', \"topic's main template\")]\n",
      "[('x', 'http://www.wikidata.org/prop/direct/P1476'), ('name', 'title')]\n",
      "[('x', 'http://www.wikidata.org/prop/direct/P1881'), ('name', 'list of characters')]\n",
      "[('x', 'http://www.wikidata.org/prop/direct/P1889'), ('name', 'different from')]\n",
      "[('x', 'http://www.wikidata.org/prop/direct/P272'), ('name', 'production company')]\n",
      "[('x', 'http://www.wikidata.org/prop/direct/P31'), ('name', 'instance of')]\n",
      "[('x', 'http://www.wikidata.org/prop/direct/P364'), ('name', 'original language of film or TV show')]\n",
      "[('x', 'http://www.wikidata.org/prop/direct/P373'), ('name', 'Commons category')]\n",
      "[('x', 'http://www.wikidata.org/prop/direct/P3984'), ('name', 'subreddit')]\n",
      "[('x', 'http://www.wikidata.org/prop/direct/P495'), ('name', 'country of origin')]\n",
      "[('x', 'http://www.wikidata.org/prop/direct/P527'), ('name', 'has part')]\n",
      "[('x', 'http://www.wikidata.org/prop/direct/P57'), ('name', 'director')]\n",
      "[('x', 'http://www.wikidata.org/prop/direct/P58'), ('name', 'screenwriter')]\n",
      "[('x', 'http://www.wikidata.org/prop/direct/P910'), ('name', \"topic's main category\")]\n",
      "[('x', 'http://www.wikidata.org/prop/direct/P9215'), ('name', 'set during recurring event')]\n"
     ]
    },
    {
     "data": {
      "text/plain": [
       "16"
      ]
     },
     "execution_count": 14,
     "metadata": {},
     "output_type": "execute_result"
    }
   ],
   "source": [
    "# Franchise properties\n",
    "queryString = \"\"\"\n",
    "SELECT distinct ?x ?name{\n",
    "  ?y ?x ?z .\n",
    "  filter(?y=wd:Q1364022 || ?y=wd:Q1138878)\n",
    "  ?x <http://schema.org/name> ?name .\n",
    "  filter(!regex(?name, \"ID\"))\n",
    "}\n",
    "\"\"\"\n",
    "  \n",
    "print(\"Results\")\n",
    "run_query(queryString)"
   ]
  },
  {
   "cell_type": "code",
   "execution_count": 23,
   "id": "fe64499d-7977-4f3f-bc1d-afa365046f8f",
   "metadata": {},
   "outputs": [
    {
     "name": "stdout",
     "output_type": "stream",
     "text": [
      "Results\n",
      "[('name', 'narrator'), ('z', 'http://www.wikidata.org/prop/direct/P2438')]\n",
      "[('name', 'film editor'), ('z', 'http://www.wikidata.org/prop/direct/P1040')]\n",
      "[('name', 'movement'), ('z', 'http://www.wikidata.org/prop/direct/P135')]\n",
      "[('name', 'genre'), ('z', 'http://www.wikidata.org/prop/direct/P136')]\n",
      "[('name', 'nominated for'), ('z', 'http://www.wikidata.org/prop/direct/P1411')]\n",
      "[('name', 'takes place in fictional universe'), ('z', 'http://www.wikidata.org/prop/direct/P1434')]\n",
      "[('name', 'based on'), ('z', 'http://www.wikidata.org/prop/direct/P144')]\n",
      "[('name', 'title'), ('z', 'http://www.wikidata.org/prop/direct/P1476')]\n",
      "[('name', 'logo image'), ('z', 'http://www.wikidata.org/prop/direct/P154')]\n",
      "[('name', 'follows'), ('z', 'http://www.wikidata.org/prop/direct/P155')]\n",
      "[('name', 'has quality'), ('z', 'http://www.wikidata.org/prop/direct/P1552')]\n",
      "[('name', 'followed by'), ('z', 'http://www.wikidata.org/prop/direct/P156')]\n",
      "[('name', 'cast member'), ('z', 'http://www.wikidata.org/prop/direct/P161')]\n",
      "[('name', 'producer'), ('z', 'http://www.wikidata.org/prop/direct/P162')]\n",
      "[('name', 'award received'), ('z', 'http://www.wikidata.org/prop/direct/P166')]\n",
      "[('name', 'performer'), ('z', 'http://www.wikidata.org/prop/direct/P175')]\n",
      "[('name', 'developer'), ('z', 'http://www.wikidata.org/prop/direct/P178')]\n",
      "[('name', 'part of the series'), ('z', 'http://www.wikidata.org/prop/direct/P179')]\n",
      "[('name', 'image'), ('z', 'http://www.wikidata.org/prop/direct/P18')]\n",
      "[('name', 'different from'), ('z', 'http://www.wikidata.org/prop/direct/P1889')]\n",
      "[('name', 'FSK film rating'), ('z', 'http://www.wikidata.org/prop/direct/P1981')]\n",
      "[('name', 'duration'), ('z', 'http://www.wikidata.org/prop/direct/P2047')]\n",
      "[('name', 'aspect ratio'), ('z', 'http://www.wikidata.org/prop/direct/P2061')]\n",
      "[('name', 'cost'), ('z', 'http://www.wikidata.org/prop/direct/P2130')]\n",
      "[('name', 'box office'), ('z', 'http://www.wikidata.org/prop/direct/P2142')]\n",
      "[('name', 'NMHH film rating'), ('z', 'http://www.wikidata.org/prop/direct/P2363')]\n",
      "[('name', 'costume designer'), ('z', 'http://www.wikidata.org/prop/direct/P2515')]\n",
      "[('name', 'production company'), ('z', 'http://www.wikidata.org/prop/direct/P272')]\n",
      "[('name', 'Filmiroda rating'), ('z', 'http://www.wikidata.org/prop/direct/P2747')]\n",
      "[('name', 'exploitation visa number'), ('z', 'http://www.wikidata.org/prop/direct/P2755')]\n",
      "[('name', 'CNC film rating (France)'), ('z', 'http://www.wikidata.org/prop/direct/P2758')]\n",
      "[('name', 'budget'), ('z', 'http://www.wikidata.org/prop/direct/P2769')]\n",
      "[('name', 'instance of'), ('z', 'http://www.wikidata.org/prop/direct/P31')]\n",
      "[('name', 'ISAN'), ('z', 'http://www.wikidata.org/prop/direct/P3212')]\n",
      "[('name', 'director of photography'), ('z', 'http://www.wikidata.org/prop/direct/P344')]\n",
      "[('name', 'original language of film or TV show'), ('z', 'http://www.wikidata.org/prop/direct/P364')]\n",
      "[('name', 'JMK film rating'), ('z', 'http://www.wikidata.org/prop/direct/P3650')]\n",
      "[('name', 'Commons category'), ('z', 'http://www.wikidata.org/prop/direct/P373')]\n",
      "[('name', 'platform'), ('z', 'http://www.wikidata.org/prop/direct/P400')]\n",
      "[('name', 'game mode'), ('z', 'http://www.wikidata.org/prop/direct/P404')]\n",
      "[('name', 'Cinémathèque québécoise work identifier'), ('z', 'http://www.wikidata.org/prop/direct/P4276')]\n",
      "[('name', 'distribution format'), ('z', 'http://www.wikidata.org/prop/direct/P437')]\n",
      "[('name', 'color'), ('z', 'http://www.wikidata.org/prop/direct/P462')]\n",
      "[('name', 'country of origin'), ('z', 'http://www.wikidata.org/prop/direct/P495')]\n",
      "[('name', 'derivative work'), ('z', 'http://www.wikidata.org/prop/direct/P4969')]\n",
      "[('name', 'assessment'), ('z', 'http://www.wikidata.org/prop/direct/P5021')]\n",
      "[('name', 'director'), ('z', 'http://www.wikidata.org/prop/direct/P57')]\n",
      "[('name', 'publication date'), ('z', 'http://www.wikidata.org/prop/direct/P577')]\n",
      "[('name', 'screenwriter'), ('z', 'http://www.wikidata.org/prop/direct/P58')]\n",
      "[('name', 'Medierådet rating'), ('z', 'http://www.wikidata.org/prop/direct/P5970')]\n",
      "[('name', 'characters'), ('z', 'http://www.wikidata.org/prop/direct/P674')]\n",
      "[('name', 'distributed by'), ('z', 'http://www.wikidata.org/prop/direct/P750')]\n",
      "[('name', 'narrative location'), ('z', 'http://www.wikidata.org/prop/direct/P840')]\n",
      "[('name', 'set in environment'), ('z', 'http://www.wikidata.org/prop/direct/P8411')]\n",
      "[('name', 'official website'), ('z', 'http://www.wikidata.org/prop/direct/P856')]\n",
      "[('name', 'composer'), ('z', 'http://www.wikidata.org/prop/direct/P86')]\n",
      "[('name', 'filming location'), ('z', 'http://www.wikidata.org/prop/direct/P915')]\n",
      "[('name', 'main subject'), ('z', 'http://www.wikidata.org/prop/direct/P921')]\n",
      "[('name', 'production designer'), ('z', 'http://www.wikidata.org/prop/direct/P2554')]\n",
      "[('name', 'original film format'), ('z', 'http://www.wikidata.org/prop/direct/P3803')]\n",
      "[('name', 'executive producer'), ('z', 'http://www.wikidata.org/prop/direct/P1431')]\n",
      "[('name', 'set in period'), ('z', 'http://www.wikidata.org/prop/direct/P2408')]\n",
      "[('name', 'Kijkwijzer rating'), ('z', 'http://www.wikidata.org/prop/direct/P2684')]\n",
      "[('name', 'set during recurring event'), ('z', 'http://www.wikidata.org/prop/direct/P9215')]\n",
      "[('name', 'RCQ classification'), ('z', 'http://www.wikidata.org/prop/direct/P6658')]\n"
     ]
    },
    {
     "data": {
      "text/plain": [
       "65"
      ]
     },
     "execution_count": 23,
     "metadata": {},
     "output_type": "execute_result"
    }
   ],
   "source": [
    "# Properties in the franchise's films\n",
    "queryString = \"\"\"\n",
    "SELECT distinct ?name ?z where{\n",
    "  ?film wdt:P179 ?y .\n",
    "  filter(?y=wd:Q1364022 || ?y=wd:Q1138878)\n",
    "  ?film ?z ?n .\n",
    "  ?z <http://schema.org/name> ?name .\n",
    "  filter(!regex(?name, \"ID\"))    \n",
    "}\n",
    "\"\"\"\n",
    "  \n",
    "print(\"Results\")\n",
    "run_query(queryString)"
   ]
  },
  {
   "cell_type": "code",
   "execution_count": 31,
   "id": "df119cd0-0459-4d27-bf77-295f7666df22",
   "metadata": {},
   "outputs": [
    {
     "name": "stdout",
     "output_type": "stream",
     "text": [
      "Results\n",
      "[('sum', '11900000'), ('name', 'Friday the 13th')]\n",
      "[('sum', '325000'), ('name', 'Halloween')]\n"
     ]
    },
    {
     "data": {
      "text/plain": [
       "2"
      ]
     },
     "execution_count": 31,
     "metadata": {},
     "output_type": "execute_result"
    }
   ],
   "source": [
    "# ANSWER to 7\n",
    "queryString = \"\"\"\n",
    "SELECT (sum(?n) as ?sum) ?name where{\n",
    "  ?film wdt:P179 ?y .\n",
    "  filter(?y=wd:Q1364022 || ?y=wd:Q1138878)\n",
    "  ?film wdt:P2130 ?n .\n",
    "   ?y <http://schema.org/name> ?name . \n",
    "}group by ?name\n",
    "order by desc (?sum)\n",
    "\"\"\"\n",
    "  \n",
    "print(\"Results\")\n",
    "run_query(queryString)"
   ]
  },
  {
   "cell_type": "code",
   "execution_count": null,
   "id": "e71b8ba8-2ffd-4222-9578-6e8a4695ca65",
   "metadata": {},
   "outputs": [],
   "source": []
  }
 ],
 "metadata": {
  "kernelspec": {
   "display_name": "Python 3",
   "language": "python",
   "name": "python3"
  },
  "language_info": {
   "codemirror_mode": {
    "name": "ipython",
    "version": 3
   },
   "file_extension": ".py",
   "mimetype": "text/x-python",
   "name": "python",
   "nbconvert_exporter": "python",
   "pygments_lexer": "ipython3",
   "version": "3.7.10"
  }
 },
 "nbformat": 4,
 "nbformat_minor": 5
}
