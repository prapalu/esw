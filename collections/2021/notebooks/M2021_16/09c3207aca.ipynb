{
 "cells": [
  {
   "cell_type": "markdown",
   "id": "7034c3bf-6eb0-4418-8687-7b9d2a501103",
   "metadata": {},
   "source": [
    "# General instructions\n",
    "\n",
    "The goal of the project is to materialize a set of **exploratory workloads** over a real-world, large-scale,  open-domain KG: [WikiData](https://www.wikidata.org/wiki/Wikidata:Main_Page)\n",
    "\n",
    "An exploratory workload  is composed by a set of queries, where each query is related to the information obtained previously.\n",
    "\n",
    "An exploratory workload starts with a usually vague, open ended question, and does not assume the person issuing the workload has a clear understanding of the data contained in the target database or its structure.\n",
    "\n",
    "Remeber that:\n",
    "\n",
    "1. All the queries must run in the python notebook\n",
    "2. You can use classes and properties only if you find them via a SPARQL query that must be present in the notebook\n",
    "3. You do not delete useless queries. Keep everything that is synthatically valid \n",
    "\n",
    "```\n",
    "?p <http://schema.org/name> ?name .\n",
    "```\n",
    "    \n",
    "is the BGP returning a human-readable name of a property or a class in Wikidata.\n",
    "    \n",
    "    "
   ]
  },
  {
   "cell_type": "code",
   "execution_count": null,
   "id": "3605c9d5-5371-49a5-be8d-d66e8f417139",
   "metadata": {},
   "outputs": [],
   "source": [
    "## SETUP used later\n",
    "\n",
    "from SPARQLWrapper import SPARQLWrapper, JSON\n",
    "\n",
    "\n",
    "prefixString = \"\"\"\n",
    "##-09c3207aca-## \n",
    "PREFIX wd: <http://www.wikidata.org/entity/> \n",
    "PREFIX wdt: <http://www.wikidata.org/prop/direct/> \n",
    "PREFIX sc: <http://schema.org/>\n",
    "\"\"\"\n",
    "\n",
    "# select and construct queries\n",
    "def run_query(queryString):\n",
    "    to_run = prefixString + \"\\n\" + queryString\n",
    "\n",
    "    sparql = SPARQLWrapper(\"http://a256-gc1-02.srv.aau.dk:5820/sparql\")\n",
    "    sparql.setTimeout(300)\n",
    "    sparql.setReturnFormat(JSON)\n",
    "    sparql.setQuery(to_run)\n",
    "\n",
    "    try :\n",
    "       results = sparql.query()\n",
    "       json_results = results.convert()\n",
    "       if len(json_results['results']['bindings'])==0:\n",
    "          print(\"Empty\")\n",
    "          return 0\n",
    "    \n",
    "       for bindings in json_results['results']['bindings']:\n",
    "          print( [ (var, value['value'])  for var, value in bindings.items() ] )\n",
    "\n",
    "       return len(json_results['results']['bindings'])\n",
    "\n",
    "    except Exception as e :\n",
    "        print(\"The operation failed\", e)\n",
    "    \n",
    "# ASk queries\n",
    "def run_ask_query(queryString):\n",
    "    to_run = prefixString + \"\\n\" + queryString\n",
    "\n",
    "    sparql = SPARQLWrapper(\"http://a256-gc1-03.srv.aau.dk:5820/sparql\")\n",
    "    sparql.setTimeout(300)\n",
    "    sparql.setReturnFormat(JSON)\n",
    "    sparql.setQuery(to_run)\n",
    "\n",
    "    try :\n",
    "        return sparql.query().convert()\n",
    "\n",
    "    except Exception as e :\n",
    "        print(\"The operation failed\", e)\n"
   ]
  },
  {
   "cell_type": "markdown",
   "id": "d477a59c-a68c-4c8f-9f97-8ca5294d7d27",
   "metadata": {},
   "source": [
    "# GEO Workflow Series (\"American Architects\") \n",
    "\n",
    "Consider the following exploratory information need:\n",
    "\n",
    "> You want to study the most prolific american architects"
   ]
  },
  {
   "cell_type": "markdown",
   "id": "4a45c0ba-f79e-441d-bec5-84401b09db70",
   "metadata": {},
   "source": [
    "## Useful URIs for the current workflow\n",
    "\n",
    "\n",
    "The following are given:\n",
    "\n",
    "| IRI           | Description   | Role      |\n",
    "| -----------   | -----------   |-----------|\n",
    "| `wdt:P1647`   | subproperty   | predicate |\n",
    "| `wdt:P31`     | instance of   | predicate |\n",
    "| `wdt:P279`    | subclass      | predicate |\n",
    "| `wdt:P106`    | occupation    | predicate |\n",
    "| `wdt:P17`     | country       | predicate |\n",
    "| `wdt:P27`     | citizenship   | predicate |\n",
    "| `wd:Q5604`    | Frank Lloyd Wright     | node      |\n",
    "| `wd:Q30`      | U.S.A.        | node |\n",
    "| `wd:Q42973`   | architect     | node |\n",
    "| `wd:Q2081276` | Pettit Memorial Chapel        | node |\n",
    "| `wd:Q2977`    | Cathedral     | node |\n",
    "\n",
    "\n",
    "\n",
    "Also consider\n",
    "\n",
    "```\n",
    "?p wdt:P27 wd:Q30  . \n",
    "?p wdt:P106 wd:Q42973  . \n",
    "```\n",
    "\n",
    "is the BGP to retrieve all **american architects**"
   ]
  },
  {
   "cell_type": "markdown",
   "id": "7af439fb-96e4-4dbb-a381-f19afab79f86",
   "metadata": {
    "tags": []
   },
   "source": [
    "## Workload Goals\n",
    "\n",
    "1. Identify the BGP to obtain the notable works of an architect and their location\n",
    "\n",
    "2. Identify the BGP that connect a building with its architect, type, and architectural style\n",
    "\n",
    "3. Which architect is the most prolific in the U.S. and outside?\n",
    "\n",
    "4. Analyze the location of the buildings designed by the american architects\n",
    " \n",
    "   4.1 Which styles exists in the U.S.? Which type of building?\n",
    "   \n",
    "   4.2 In which U.S. states there are more notable buildings?\n",
    "   \n",
    "   4.3 Which U.S. state contains the largest number of building designed by U.S. architects\n"
   ]
  },
  {
   "cell_type": "code",
   "execution_count": null,
   "id": "24a853ab-830c-422c-afd3-e9e015b8b8ed",
   "metadata": {},
   "outputs": [],
   "source": [
    "# start your workflow here"
   ]
  },
  {
   "cell_type": "code",
   "execution_count": 296,
   "id": "ade01416-92e7-4ad7-b9a9-b8fb330750dc",
   "metadata": {},
   "outputs": [
    {
     "name": "stdout",
     "output_type": "stream",
     "text": [
      "Results\n",
      "[('callret-0', '3354')]\n"
     ]
    },
    {
     "data": {
      "text/plain": [
       "1"
      ]
     },
     "execution_count": 337,
     "metadata": {},
     "output_type": "execute_result"
    }
   ],
   "source": [
    "queryString = \"\"\"\n",
    "SELECT COUNT(*)\n",
    "WHERE { \n",
    "\n",
    "?p wdt:P27 wd:Q30  . \n",
    "?p wdt:P106 wd:Q42973  . \n",
    "\n",
    "}\n",
    "\"\"\"\n",
    "\n",
    "print(\"Results\")\n",
    "run_query(queryString)"
   ]
  },
  {
   "cell_type": "code",
   "execution_count": 312,
   "id": "0ea86f79-adbc-4ae3-b6d9-7ba7a9a103c5",
   "metadata": {},
   "outputs": [
    {
     "name": "stdout",
     "output_type": "stream",
     "text": [
      "Results\n",
      "[('architect', 'http://www.wikidata.org/entity/Q30346830'), ('architectName', 'Carlos Lamela')]\n",
      "[('architect', 'http://www.wikidata.org/entity/Q5860205'), ('architectName', 'Fernando Salvador Carreras')]\n",
      "[('architect', 'http://www.wikidata.org/entity/Q8194957'), ('architectName', 'Alexandre Azedo Lacerda')]\n",
      "[('architect', 'http://www.wikidata.org/entity/Q8195105'), ('architectName', 'Alfons Milà i Sagnier')]\n",
      "[('architect', 'http://www.wikidata.org/entity/Q8197980'), ('architectName', 'Amós Salvador Sáenz y Carreras')]\n"
     ]
    },
    {
     "data": {
      "text/plain": [
       "5"
      ]
     },
     "execution_count": 312,
     "metadata": {},
     "output_type": "execute_result"
    }
   ],
   "source": [
    "# first we should find all architect name and check is there Frank Lloyd Wright in the dataset\n",
    "queryString = \"\"\"\n",
    "SELECT DISTINCT  ?architect ?architectName \n",
    "WHERE { \n",
    "    #?architect wdt:P27 wd:Q30  .\n",
    "    ?architect wdt:P106 wd:Q42973  . \n",
    "    \n",
    "    # this returns the labels\n",
    "    ?architect <http://schema.org/name> ?architectName .\n",
    "    #Filter regex(?architectName,\"Frank Lloyd Wright\",'i')\n",
    "} \n",
    "LIMIT 5\n",
    "\"\"\"\n",
    "\n",
    "\n",
    "print(\"Results\")\n",
    "run_query(queryString)"
   ]
  },
  {
   "cell_type": "code",
   "execution_count": 311,
   "id": "d402b5ea-cdec-44d9-bb40-6c56a2a59c50",
   "metadata": {},
   "outputs": [
    {
     "name": "stdout",
     "output_type": "stream",
     "text": [
      "Results\n",
      "[('p', 'http://www.wikidata.org/prop/direct/P800'), ('pName', 'notable work')]\n"
     ]
    },
    {
     "data": {
      "text/plain": [
       "1"
      ]
     },
     "execution_count": 311,
     "metadata": {},
     "output_type": "execute_result"
    }
   ],
   "source": [
    "# we should extract all properties for a specific architect (ex. Frank Lloyd Wright -> wd:Q5604)\n",
    "# in this code I find that the 'notebale work' ID -> P800\n",
    "queryString = \"\"\"\n",
    "SELECT  DISTINCT ?p ?pName \n",
    "WHERE { \n",
    "     \n",
    "    wd:Q5604 ?p  ?o.FILTER(!isLiteral(?o)).\n",
    "    \n",
    "    # this returns the labels\n",
    "    ?p <http://schema.org/name> ?pName .\n",
    "    Filter regex(?pName,\"notable\",'i')\n",
    "\n",
    "} \n",
    "LIMIT 5\n",
    "\"\"\"\n",
    "\n",
    "\n",
    "print(\"Results\")\n",
    "run_query(queryString)"
   ]
  },
  {
   "cell_type": "code",
   "execution_count": 313,
   "id": "6db094a7-8272-4eff-9c1e-065c4138ff15",
   "metadata": {},
   "outputs": [
    {
     "name": "stdout",
     "output_type": "stream",
     "text": [
      "Results\n",
      "[('work', 'http://www.wikidata.org/entity/Q1369314'), ('workName', 'Estadio Las Gaunas'), ('locationName', 'Spain')]\n",
      "[('work', 'http://www.wikidata.org/entity/Q15885886'), ('workName', 'Torre Caja Badajoz'), ('locationName', 'Spain')]\n",
      "[('work', 'http://www.wikidata.org/entity/Q24439272'), ('workName', 'Edificio Pirámide, Madrid'), ('locationName', 'Spain')]\n",
      "[('work', 'http://www.wikidata.org/entity/Q26834201'), ('workName', 'Edificio Galaxia, Madrid'), ('locationName', 'Spain')]\n",
      "[('work', 'http://www.wikidata.org/entity/Q27032920'), ('workName', 'Edificio de viviendas en Paseo de la Castellana 121-123, Madrid'), ('locationName', 'Spain')]\n"
     ]
    },
    {
     "data": {
      "text/plain": [
       "5"
      ]
     },
     "execution_count": 313,
     "metadata": {},
     "output_type": "execute_result"
    }
   ],
   "source": [
    "# find all notable works and their country (location)\n",
    "queryString = \"\"\"\n",
    "SELECT  DISTINCT ?work ?workName ?locationName\n",
    "WHERE { \n",
    "     ?architect wdt:P106 wd:Q42973  ; \n",
    "                 wdt:P800  ?work.\n",
    "    ?work wdt:P17 ?location.\n",
    "    # this returns the labels\n",
    "    ?work <http://schema.org/name> ?workName .\n",
    "    ?location <http://schema.org/name> ?locationName \n",
    "\n",
    "} \n",
    "LIMIT 5\n",
    "\"\"\"\n",
    "\n",
    "\n",
    "print(\"Results\")\n",
    "run_query(queryString)"
   ]
  },
  {
   "cell_type": "code",
   "execution_count": null,
   "id": "4819cb91-7994-4f88-a947-46639b21574d",
   "metadata": {},
   "outputs": [],
   "source": [
    "1. Identify the BGP to obtain the notable works of an architect and their location"
   ]
  },
  {
   "cell_type": "code",
   "execution_count": 320,
   "id": "09244ebd-1c2f-4831-848d-f01763022988",
   "metadata": {},
   "outputs": [
    {
     "name": "stdout",
     "output_type": "stream",
     "text": [
      "Results\n",
      "[('workName', 'Pettit Memorial Chapel'), ('locationName', 'United States of America'), ('architectName', 'Frank Lloyd Wright')]\n",
      "[('workName', 'Solomon R. Guggenheim Museum'), ('locationName', 'United States of America'), ('architectName', 'Frank Lloyd Wright')]\n",
      "[('workName', 'Fallingwater'), ('locationName', 'United States of America'), ('architectName', 'Frank Lloyd Wright')]\n",
      "[('workName', 'A. D. German Warehouse'), ('locationName', 'United States of America'), ('architectName', 'Frank Lloyd Wright')]\n",
      "[('workName', 'Annunciation Greek Orthodox Church'), ('locationName', 'United States of America'), ('architectName', 'Frank Lloyd Wright')]\n",
      "[('workName', 'Emil Bach House'), ('locationName', 'United States of America'), ('architectName', 'Frank Lloyd Wright')]\n"
     ]
    },
    {
     "data": {
      "text/plain": [
       "6"
      ]
     },
     "execution_count": 320,
     "metadata": {},
     "output_type": "execute_result"
    }
   ],
   "source": [
    "# all notable works and locations for a specific architect name (ex. Frank Lloyd Wright)\n",
    "queryString = \"\"\"\n",
    "SELECT  DISTINCT ?workName ?locationName ?architectName\n",
    "WHERE { \n",
    "    ?architect wdt:P106 wd:Q42973  ; \n",
    "                 wdt:P800  ?work.\n",
    "    ?work wdt:P17 ?location.\n",
    "    # this returns the labels\n",
    "    ?work <http://schema.org/name> ?workName .\n",
    "    ?architect <http://schema.org/name> ?architectName .\n",
    "    ?location <http://schema.org/name> ?locationName \n",
    "     Filter regex(?architectName,\"Frank Lloyd Wright\",'i')\n",
    "}\n",
    "\n",
    "\"\"\"\n",
    "\n",
    "print(\"Results\")\n",
    "run_query(queryString)"
   ]
  },
  {
   "cell_type": "code",
   "execution_count": 321,
   "id": "aff148cb-1942-4887-b369-89798d917e34",
   "metadata": {},
   "outputs": [
    {
     "name": "stdout",
     "output_type": "stream",
     "text": [
      "Results\n",
      "[('p', 'http://www.wikidata.org/prop/direct/P131'), ('pName', 'located in the administrative territorial entity')]\n",
      "[('p', 'http://www.wikidata.org/prop/direct/P1435'), ('pName', 'heritage designation')]\n",
      "[('p', 'http://www.wikidata.org/prop/direct/P149'), ('pName', 'architectural style')]\n",
      "[('p', 'http://www.wikidata.org/prop/direct/P1566'), ('pName', 'GeoNames ID')]\n",
      "[('p', 'http://www.wikidata.org/prop/direct/P17'), ('pName', 'country')]\n",
      "[('p', 'http://www.wikidata.org/prop/direct/P18'), ('pName', 'image')]\n",
      "[('p', 'http://www.wikidata.org/prop/direct/P31'), ('pName', 'instance of')]\n",
      "[('p', 'http://www.wikidata.org/prop/direct/P373'), ('pName', 'Commons category')]\n",
      "[('p', 'http://www.wikidata.org/prop/direct/P5383'), ('pName', 'archINFORM project ID')]\n",
      "[('p', 'http://www.wikidata.org/prop/direct/P646'), ('pName', 'Freebase ID')]\n",
      "[('p', 'http://www.wikidata.org/prop/direct/P84'), ('pName', 'architect')]\n",
      "[('p', 'http://www.wikidata.org/prop/direct/P910'), ('pName', \"topic's main category\")]\n",
      "[('p', 'http://www.wikidata.org/prop/direct/P935'), ('pName', 'Commons gallery')]\n",
      "[('p', 'http://www.wikidata.org/prop/direct/P649'), ('pName', 'NRHP reference number')]\n"
     ]
    },
    {
     "data": {
      "text/plain": [
       "14"
      ]
     },
     "execution_count": 321,
     "metadata": {},
     "output_type": "execute_result"
    }
   ],
   "source": [
    "#  choose a notable work (ex. Pettit Memorial Chapel -> wd:Q2081276) and get all properties\n",
    "# i found  architect->P84, architectural style->P149, type(instance of)->P31\n",
    "queryString = \"\"\"\n",
    "SELECT  DISTINCT ?p ?pName \n",
    "WHERE { \n",
    "     wd:Q2081276 ?p ?o\n",
    "     .\n",
    "    # this returns the labels\n",
    "    ?p <http://schema.org/name> ?pName .\n",
    "\n",
    "}\n",
    "\n",
    "\"\"\"\n",
    "\n",
    "print(\"Results\")\n",
    "\n",
    "run_query(queryString)"
   ]
  },
  {
   "cell_type": "code",
   "execution_count": null,
   "id": "1f6f683b-9da9-4e88-acdb-34f622ab7119",
   "metadata": {},
   "outputs": [],
   "source": [
    "2. Identify the BGP that connect a building with its architect, type, and architectural style"
   ]
  },
  {
   "cell_type": "code",
   "execution_count": 324,
   "id": "588f51a3-c8fd-497a-9855-2778a0b86b9b",
   "metadata": {},
   "outputs": [
    {
     "name": "stdout",
     "output_type": "stream",
     "text": [
      "Results\n",
      "[('architectName', 'Frank Lloyd Wright'), ('typeName', 'chapel'), ('styleName', 'modern architecture')]\n"
     ]
    },
    {
     "data": {
      "text/plain": [
       "1"
      ]
     },
     "execution_count": 324,
     "metadata": {},
     "output_type": "execute_result"
    }
   ],
   "source": [
    "# we find architect->P84 , architectural style->P149, type(instance of)->P31 \n",
    "#for  notable work (ex. Pettit Memorial Chapel -> wd:Q2081276)\n",
    "queryString = \"\"\"\n",
    "SELECT  DISTINCT ?architectName ?typeName ?styleName\n",
    "WHERE { \n",
    "     wd:Q2081276 wdt:P84 ?architect;\n",
    "                 wdt:P149 ?style;\n",
    "                 wdt:P31 ?type.\n",
    "                 \n",
    "     \n",
    "    # this returns the labels\n",
    "    ?architect <http://schema.org/name> ?architectName .\n",
    "    ?style <http://schema.org/name> ?styleName .\n",
    "    ?type <http://schema.org/name> ?typeName \n",
    "\n",
    "}\n",
    "\n",
    "\"\"\"\n",
    "\n",
    "print(\"Results\")\n",
    "run_query(queryString)"
   ]
  },
  {
   "cell_type": "code",
   "execution_count": null,
   "id": "96e7782d-c523-446f-be27-2b828e560b22",
   "metadata": {},
   "outputs": [],
   "source": [
    "3. Which architect is the most prolific in the U.S. and outside?"
   ]
  },
  {
   "cell_type": "code",
   "execution_count": 349,
   "id": "27b709f1-c474-457b-aa81-cd9672456618",
   "metadata": {},
   "outputs": [
    {
     "name": "stdout",
     "output_type": "stream",
     "text": [
      "Results\n",
      "[('architectName', 'Bruce Price'), ('howmanywork', '17')]\n",
      "[('architectName', 'Cornelia Oberlander'), ('howmanywork', '13')]\n",
      "[('architectName', 'Egerton Swartwout'), ('howmanywork', '11')]\n",
      "[('architectName', 'John Trumbull'), ('howmanywork', '10')]\n",
      "[('architectName', 'Frank Gehry'), ('howmanywork', '9')]\n"
     ]
    },
    {
     "data": {
      "text/plain": [
       "5"
      ]
     },
     "execution_count": 349,
     "metadata": {},
     "output_type": "execute_result"
    }
   ],
   "source": [
    "#get most prolific architect in the USA\n",
    "queryString = \"\"\"\n",
    "SELECT  DISTINCT ?architectName  (COUNT(?work) AS ?howmanywork)\n",
    "WHERE { \n",
    "    \n",
    "     ?architect wdt:P106 wd:Q42973  ;\n",
    "                wdt:P27 wd:Q30   ;\n",
    "                wdt:P800  ?work.\n",
    "    \n",
    "    \n",
    "    # this returns the labels\n",
    "    ?architect <http://schema.org/name> ?architectName.\n",
    "\n",
    "} \n",
    "GROUP BY ?architectName\n",
    "ORDER BY DESC (?howmanywork)\n",
    "LIMIT 5\n",
    "\"\"\"\n",
    "\n",
    "\n",
    "print(\"Results\")\n",
    "run_query(queryString)"
   ]
  },
  {
   "cell_type": "code",
   "execution_count": 367,
   "id": "b9adba6c-9a46-4653-a9a1-dc27164209d8",
   "metadata": {},
   "outputs": [
    {
     "name": "stdout",
     "output_type": "stream",
     "text": [
      "Results\n",
      "[('architectName', 'Norman Foster'), ('howmanywork', '50')]\n",
      "[('architectName', 'Zaha Hadid'), ('howmanywork', '38')]\n",
      "[('architectName', 'Henrik Nissen'), ('howmanywork', '33')]\n",
      "[('architectName', 'Friedrich Grünanger'), ('howmanywork', '32')]\n",
      "[('architectName', 'Jelisaveta Načić'), ('howmanywork', '30')]\n"
     ]
    },
    {
     "data": {
      "text/plain": [
       "5"
      ]
     },
     "execution_count": 367,
     "metadata": {},
     "output_type": "execute_result"
    }
   ],
   "source": [
    "#get most prolific architect outside the USA\n",
    "queryString = \"\"\"\n",
    "SELECT  DISTINCT ?architectName  (COUNT(?work) AS ?howmanywork)\n",
    "WHERE { \n",
    "       \n",
    "     ?architect wdt:P106 wd:Q42973 ; \n",
    "                 wdt:P27 ?country  ;\n",
    "                 wdt:P800  ?work.\n",
    "    \n",
    "    \n",
    "    # this returns the labels\n",
    "    \n",
    "    ?architect <http://schema.org/name> ?architectName.\n",
    "    ?country <http://schema.org/name> ?countryName. \n",
    "    FILTER NOT EXISTS {?architect wdt:P27 wd:Q30.}\n",
    "} \n",
    "GROUP BY ?architectName\n",
    "ORDER BY DESC (?howmanywork)\n",
    "LIMIT 5\n",
    "\"\"\"\n",
    "\n",
    "\n",
    "print(\"Results\")\n",
    "run_query(queryString)"
   ]
  },
  {
   "cell_type": "code",
   "execution_count": null,
   "id": "6ea980e7-97d6-442b-bfcd-4d5140f80c29",
   "metadata": {},
   "outputs": [],
   "source": [
    "   4.1 Which styles exists in the U.S.?"
   ]
  },
  {
   "cell_type": "code",
   "execution_count": 370,
   "id": "b7642e98-62df-4051-9449-534203d3ce3f",
   "metadata": {},
   "outputs": [
    {
     "name": "stdout",
     "output_type": "stream",
     "text": [
      "Results\n",
      "[('styleName', 'Greek Revival architecture'), ('work', 'http://www.wikidata.org/entity/Q3584637')]\n",
      "[('styleName', 'Stripped Classicism'), ('work', 'http://www.wikidata.org/entity/Q11208')]\n",
      "[('styleName', 'Romanesque Revival in America'), ('work', 'http://www.wikidata.org/entity/Q74861306')]\n",
      "[('styleName', 'Neoclassical architecture'), ('work', 'http://www.wikidata.org/entity/Q673076')]\n",
      "[('styleName', 'Beaux-Arts'), ('work', 'http://www.wikidata.org/entity/Q4820259')]\n"
     ]
    },
    {
     "data": {
      "text/plain": [
       "5"
      ]
     },
     "execution_count": 370,
     "metadata": {},
     "output_type": "execute_result"
    }
   ],
   "source": [
    "#get all styles in the USA\n",
    "queryString = \"\"\"\n",
    "SELECT  DISTINCT ?styleName  ?work\n",
    "WHERE { \n",
    "    ?architect wdt:P106 wd:Q42973  ; \n",
    "                 wdt:P800  ?work.\n",
    "                 \n",
    "    ?work   wdt:P17 wd:Q30;\n",
    "            wdt:P149 ?style.\n",
    "            \n",
    "    # this returns the labels\n",
    "    ?style <http://schema.org/name> ?styleName.\n",
    "    \n",
    "} \n",
    "\n",
    "LIMIT 5\n",
    "\"\"\"\n",
    "\n",
    "\n",
    "print(\"Results\")\n",
    "run_query(queryString)"
   ]
  },
  {
   "cell_type": "code",
   "execution_count": null,
   "id": "d98ab931-f831-42e8-88e6-7b54e6b6c629",
   "metadata": {},
   "outputs": [],
   "source": [
    "  4.1 Which type of buildings exists in the U.S.? "
   ]
  },
  {
   "cell_type": "code",
   "execution_count": 372,
   "id": "260db0c1-d758-4329-b9d0-aed1a03e3d0f",
   "metadata": {},
   "outputs": [
    {
     "name": "stdout",
     "output_type": "stream",
     "text": [
      "Results\n",
      "[('typeName', 'government building')]\n",
      "[('typeName', 'sculpture garden')]\n",
      "[('typeName', 'headquarters')]\n",
      "[('typeName', 'neighborhood')]\n",
      "[('typeName', 'art museum')]\n"
     ]
    },
    {
     "data": {
      "text/plain": [
       "5"
      ]
     },
     "execution_count": 372,
     "metadata": {},
     "output_type": "execute_result"
    }
   ],
   "source": [
    "#get all type of buldings in the USA\n",
    "queryString = \"\"\"\n",
    "SELECT DISTINCT ?typeName  \n",
    "WHERE { \n",
    "     \n",
    "    ?architect wdt:P106 wd:Q42973  ; \n",
    "                 wdt:P800  ?work.\n",
    "                 \n",
    "    ?work   wdt:P17 wd:Q30;\n",
    "            wdt:P31 ?type.\n",
    "            \n",
    "    # this returns the labels\n",
    "    ?type <http://schema.org/name> ?typeName.\n",
    "    \n",
    "} \n",
    "\n",
    "LIMIT 5\n",
    "\"\"\"\n",
    "\n",
    "\n",
    "print(\"Results\")\n",
    "run_query(queryString)"
   ]
  },
  {
   "cell_type": "code",
   "execution_count": null,
   "id": "362cd6c0-2264-4317-b362-9a9aac623ded",
   "metadata": {},
   "outputs": [],
   "source": [
    "4.2 In which U.S. states there are more notable buildings?"
   ]
  },
  {
   "cell_type": "code",
   "execution_count": 388,
   "id": "acdd9b53-be0a-486e-b4ee-e46dca016aca",
   "metadata": {},
   "outputs": [
    {
     "name": "stdout",
     "output_type": "stream",
     "text": [
      "Results\n",
      "[('p', 'http://www.wikidata.org/prop/direct/P5353'), ('pName', 'school district')]\n",
      "[('p', 'http://www.wikidata.org/prop/direct/P112'), ('pName', 'founded by')]\n",
      "[('p', 'http://www.wikidata.org/prop/direct/P1151'), ('pName', \"topic's main Wikimedia portal\")]\n",
      "[('p', 'http://www.wikidata.org/prop/direct/P131'), ('pName', 'located in the administrative territorial entity')]\n",
      "[('p', 'http://www.wikidata.org/prop/direct/P1343'), ('pName', 'described by source')]\n"
     ]
    },
    {
     "data": {
      "text/plain": [
       "5"
      ]
     },
     "execution_count": 388,
     "metadata": {},
     "output_type": "execute_result"
    }
   ],
   "source": [
    "# find Q35657 to get the name of state of each city\n",
    "queryString = \"\"\"\n",
    "#SELECT  DISTINCT ?work ?locationName  ?countryName\n",
    "SELECT  DISTINCT ?p  ?pName\n",
    "WHERE { \n",
    "      \n",
    "    ?architect wdt:P106 wd:Q42973  ; \n",
    "               wdt:P800  ?work.\n",
    "               \n",
    "    ?work wdt:P17 wd:Q30;\n",
    "           wdt:P131 ?location.\n",
    "           \n",
    "    #?location wdt:P17 ?country.\n",
    "    \n",
    "    ?location ?p ?o.FILTER(!isLiteral(?o))\n",
    "    \n",
    "    # this returns the labels\n",
    "    #?location <http://schema.org/name> ?locationName.\n",
    "    #?country <http://schema.org/name> ?countryName.\n",
    "    ?p <http://schema.org/name> ?pName.\n",
    "    #Filter exists {?location wdt:P17 wd:Q30}\n",
    "    \n",
    "} \n",
    "\n",
    "LIMIT 5\n",
    "\"\"\"\n",
    "\n",
    "print(\"Results\")\n",
    "run_query(queryString)"
   ]
  },
  {
   "cell_type": "code",
   "execution_count": 395,
   "id": "40bc45fa-5b94-41c4-ba6a-a29703663515",
   "metadata": {},
   "outputs": [
    {
     "name": "stdout",
     "output_type": "stream",
     "text": [
      "Results\n",
      "[('locationName', 'Manhattan'), ('howmanywork', '79')]\n",
      "[('locationName', 'Washington, D.C.'), ('howmanywork', '47')]\n",
      "[('locationName', 'Chicago'), ('howmanywork', '32')]\n",
      "[('locationName', 'California'), ('howmanywork', '26')]\n",
      "[('locationName', 'Los Angeles'), ('howmanywork', '21')]\n"
     ]
    },
    {
     "data": {
      "text/plain": [
       "5"
      ]
     },
     "execution_count": 395,
     "metadata": {},
     "output_type": "execute_result"
    }
   ],
   "source": [
    "#get notable buildings in \n",
    "queryString = \"\"\"\n",
    "SELECT  DISTINCT  ?locationName  (COUNT(?countryName) AS ?howmanywork)\n",
    "WHERE { \n",
    "      \n",
    "    ?architect wdt:P106 wd:Q42973  ; \n",
    "               wdt:P800  ?work.\n",
    "               \n",
    "    ?work wdt:P17 wd:Q30;\n",
    "           wdt:P131 ?location.\n",
    "           \n",
    "    ?location wdt:P131 ?country.\n",
    "    \n",
    "    \n",
    "    # this returns the labels\n",
    "    ?location <http://schema.org/name> ?locationName.\n",
    "    ?country <http://schema.org/name> ?countryName.\n",
    "    \n",
    "} \n",
    "GROUP BY ?locationName\n",
    "ORDER BY DESC (?howmanywork)\n",
    "LIMIT 5\n",
    "\"\"\"\n",
    "\n",
    "print(\"Results\")\n",
    "run_query(queryString)"
   ]
  },
  {
   "cell_type": "code",
   "execution_count": 255,
   "id": "bd95d1c5-ea89-414e-b7ac-f10ae9d68d6c",
   "metadata": {},
   "outputs": [
    {
     "name": "stdout",
     "output_type": "stream",
     "text": [
      "Results\n",
      "[('p', 'http://www.wikidata.org/entity/Q30'), ('pName', 'United States of America')]\n",
      "[('p', 'http://www.wikidata.org/entity/Q34'), ('pName', 'Sweden')]\n",
      "[('p', 'http://www.wikidata.org/entity/Q55'), ('pName', 'Netherlands')]\n"
     ]
    },
    {
     "data": {
      "text/plain": [
       "3"
      ]
     },
     "execution_count": 255,
     "metadata": {},
     "output_type": "execute_result"
    }
   ],
   "source": [
    "#get all \n",
    "queryString = \"\"\"\n",
    "SELECT  DISTINCT ?p ?pName  \n",
    "WHERE { \n",
    "      \n",
    "     ?architect wdt:P106 wd:Q42973  ; \n",
    "                 wdt:P800  ?work.\n",
    "      ?work wdt:P17 wd:Q30;\n",
    "           wdt:P276 ?s.\n",
    "           \n",
    "     ?s wdt:P17 ?p.\n",
    "    \n",
    "    # this returns the labels\n",
    "    ?p <http://schema.org/name> ?pName.\n",
    "    \n",
    "    \n",
    "} \n",
    "\n",
    "LIMIT 50\n",
    "\"\"\"\n",
    "\n",
    "print(\"Results\")\n",
    "run_query(queryString)"
   ]
  },
  {
   "cell_type": "code",
   "execution_count": null,
   "id": "e53e7f95-7aae-4e9d-be39-6d3aea904eb4",
   "metadata": {},
   "outputs": [],
   "source": [
    "4.3 Which U.S. state contains the largest number of building designed by U.S. architects"
   ]
  },
  {
   "cell_type": "code",
   "execution_count": null,
   "id": "b483a12d-4606-4e19-858c-31241625aa95",
   "metadata": {},
   "outputs": [],
   "source": []
  }
 ],
 "metadata": {
  "kernelspec": {
   "display_name": "Python 3 (ipykernel)",
   "language": "python",
   "name": "python3"
  },
  "language_info": {
   "codemirror_mode": {
    "name": "ipython",
    "version": 3
   },
   "file_extension": ".py",
   "mimetype": "text/x-python",
   "name": "python",
   "nbconvert_exporter": "python",
   "pygments_lexer": "ipython3",
   "version": "3.7.10"
  }
 },
 "nbformat": 4,
 "nbformat_minor": 5
}
