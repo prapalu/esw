{
 "cells": [
  {
   "cell_type": "markdown",
   "id": "7034c3bf-6eb0-4418-8687-7b9d2a501103",
   "metadata": {},
   "source": [
    "# General instructions\n",
    "\n",
    "The goal of the project is to materialize a set of **exploratory workloads** over a real-world, large-scale,  open-domain KG: [WikiData](https://www.wikidata.org/wiki/Wikidata:Main_Page)\n",
    "\n",
    "An exploratory workload  is composed by a set of queries, where each query is related to the information obtained previously.\n",
    "\n",
    "An exploratory workload starts with a usually vague, open ended question, and does not assume the person issuing the workload has a clear understanding of the data contained in the target database or its structure.\n",
    "\n",
    "Remeber that:\n",
    "\n",
    "1. All the queries must run in the python notebook\n",
    "2. You can use classes and properties only if you find them via a SPARQL query that must be present in the notebook\n",
    "3. You do not delete useless queries. Keep everything that is synthatically valid \n",
    "\n",
    "```\n",
    "?p <http://schema.org/name> ?name .\n",
    "```\n",
    "    \n",
    "is the BGP returning a human-readable name of a property or a class in Wikidata.\n",
    "    \n",
    "    "
   ]
  },
  {
   "cell_type": "code",
   "execution_count": 2,
   "id": "3605c9d5-5371-49a5-be8d-d66e8f417139",
   "metadata": {},
   "outputs": [],
   "source": [
    "## SETUP used later\n",
    "\n",
    "from SPARQLWrapper import SPARQLWrapper, JSON\n",
    "\n",
    "\n",
    "prefixString = \"\"\"\n",
    "##-c81cee00e2-##\n",
    "PREFIX wd: <http://www.wikidata.org/entity/> \n",
    "PREFIX wdt: <http://www.wikidata.org/prop/direct/> \n",
    "PREFIX sc: <http://schema.org/>\n",
    "\"\"\"\n",
    "\n",
    "# select and construct queries\n",
    "def run_query(queryString):\n",
    "    to_run = prefixString + \"\\n\" + queryString\n",
    "\n",
    "    sparql = SPARQLWrapper(\"http://a256-gc1-02.srv.aau.dk:5820/sparql\")\n",
    "    sparql.setTimeout(300)\n",
    "    sparql.setReturnFormat(JSON)\n",
    "    sparql.setQuery(to_run)\n",
    "\n",
    "    try :\n",
    "       results = sparql.query()\n",
    "       json_results = results.convert()\n",
    "       if len(json_results['results']['bindings'])==0:\n",
    "          print(\"Empty\")\n",
    "          return 0\n",
    "    \n",
    "       for bindings in json_results['results']['bindings']:\n",
    "          print( [ (var, value['value'])  for var, value in bindings.items() ] )\n",
    "\n",
    "       return len(json_results['results']['bindings'])\n",
    "\n",
    "    except Exception as e :\n",
    "        print(\"The operation failed\", e)\n",
    "    \n",
    "# ASk queries\n",
    "def run_ask_query(queryString):\n",
    "    to_run = prefixString + \"\\n\" + queryString\n",
    "\n",
    "    sparql = SPARQLWrapper(\"http://a256-gc1-03.srv.aau.dk:5820/sparql\")\n",
    "    sparql.setTimeout(300)\n",
    "    sparql.setReturnFormat(JSON)\n",
    "    sparql.setQuery(to_run)\n",
    "\n",
    "    try :\n",
    "        return sparql.query().convert()\n",
    "\n",
    "    except Exception as e :\n",
    "        print(\"The operation failed\", e)\n"
   ]
  },
  {
   "cell_type": "markdown",
   "id": "d477a59c-a68c-4c8f-9f97-8ca5294d7d27",
   "metadata": {},
   "source": [
    "# Politics Workflow Series (\"International Treaties\") \n",
    "\n",
    "Consider the following exploratory information need:\n",
    "\n",
    "> You investigating existing international treaties"
   ]
  },
  {
   "cell_type": "markdown",
   "id": "4a45c0ba-f79e-441d-bec5-84401b09db70",
   "metadata": {},
   "source": [
    "## Useful URIs for the current workflow\n",
    "\n",
    "\n",
    "The following are given:\n",
    "\n",
    "| IRI           | Description   | Role      |\n",
    "| -----------   | -----------   |-----------|\n",
    "| `wdt:P1647`   | subproperty   | predicate |\n",
    "| `wdt:P31`     | instance of   | predicate |\n",
    "| `wdt:P279`    | subclass      | predicate |\n",
    "| `wdt:P17`     | country       | predicate |\n",
    "| `wdt:P27`     | citizenship   | predicate |\n",
    "| `wdt:P39`     | position held   | predicate |\n",
    "| `wd:Q131569`  | treaty | node      |\n",
    "| `wd:Q46`      | Europe        | node |\n",
    "| `wd:Q38`      | Italy          | node |\n",
    "| `wd:Q21707860` | Paris Agreement           | node |\n",
    "\n",
    "\n",
    "\n",
    "Also consider\n",
    "\n",
    "```\n",
    "?p wdt:P31/wdt:P279* wd:Q131569  . \n",
    "```\n",
    "\n",
    "is the BGP to retrieve all **treaties**"
   ]
  },
  {
   "cell_type": "markdown",
   "id": "7af439fb-96e4-4dbb-a381-f19afab79f86",
   "metadata": {
    "tags": []
   },
   "source": [
    "## Workload Goals\n",
    "\n",
    "\n",
    "1. Identify the BGP to retrieve treaties that took place in E.U. countries\n",
    "\n",
    "2. Identify the BGP for obtaining which countries or people signed the treaties\n",
    "\n",
    "3. How many treaties have been published per year?\n",
    "\n",
    "4. For how many treaties we know causes or effects?\n",
    "\n",
    "5. Analyze the number of countries and how many treaties they have signed and their causes\n",
    " \n",
    "   5.1 Are there two countries that signed many common treaties?\n",
    "   \n",
    "   5.2 Which are the treaties with most signatories? Which country signed the most treaties?\n",
    "   \n",
    "   5.3 Are there countries that did not sign a treaty with the U.S. but signed a treaty with Germany?\n"
   ]
  },
  {
   "cell_type": "markdown",
   "id": "7e8d67e6-40f4-45a6-9738-c8c7f852cef4",
   "metadata": {},
   "source": [
    "1) We have to find predicates that relates a treaty to a location."
   ]
  },
  {
   "cell_type": "code",
   "execution_count": 6,
   "id": "ade01416-92e7-4ad7-b9a9-b8fb330750dc",
   "metadata": {},
   "outputs": [
    {
     "name": "stdout",
     "output_type": "stream",
     "text": [
      "Results\n",
      "[('p', 'http://www.wikidata.org/prop/direct/P2058'), ('pname', 'depositor')]\n",
      "[('p', 'http://www.wikidata.org/prop/direct/P3712'), ('pname', 'objective of project or action')]\n",
      "[('p', 'http://www.wikidata.org/prop/direct/P5799'), ('pname', 'AustLII ID')]\n",
      "[('p', 'http://www.wikidata.org/prop/direct/P8609'), ('pname', 'China Treaty Database ID')]\n",
      "[('p', 'http://www.wikidata.org/prop/direct/P1269'), ('pname', 'facet of')]\n",
      "[('p', 'http://www.wikidata.org/prop/direct/P138'), ('pname', 'named after')]\n",
      "[('p', 'http://www.wikidata.org/prop/direct/P1542'), ('pname', 'has effect')]\n",
      "[('p', 'http://www.wikidata.org/prop/direct/P1617'), ('pname', 'BBC Things ID')]\n",
      "[('p', 'http://www.wikidata.org/prop/direct/P18'), ('pname', 'image')]\n",
      "[('p', 'http://www.wikidata.org/prop/direct/P227'), ('pname', 'GND ID')]\n",
      "[('p', 'http://www.wikidata.org/prop/direct/P2671'), ('pname', 'Google Knowledge Graph ID')]\n",
      "[('p', 'http://www.wikidata.org/prop/direct/P276'), ('pname', 'location')]\n",
      "[('p', 'http://www.wikidata.org/prop/direct/P31'), ('pname', 'instance of')]\n",
      "[('p', 'http://www.wikidata.org/prop/direct/P3106'), ('pname', 'Guardian topic ID')]\n",
      "[('p', 'http://www.wikidata.org/prop/direct/P3417'), ('pname', 'Quora topic ID')]\n",
      "[('p', 'http://www.wikidata.org/prop/direct/P361'), ('pname', 'part of')]\n",
      "[('p', 'http://www.wikidata.org/prop/direct/P373'), ('pname', 'Commons category')]\n",
      "[('p', 'http://www.wikidata.org/prop/direct/P407'), ('pname', 'language of work or name')]\n",
      "[('p', 'http://www.wikidata.org/prop/direct/P4342'), ('pname', 'Store norske leksikon ID')]\n",
      "[('p', 'http://www.wikidata.org/prop/direct/P5008'), ('pname', 'on focus list of Wikimedia project')]\n",
      "[('p', 'http://www.wikidata.org/prop/direct/P5337'), ('pname', 'Google News topics ID')]\n",
      "[('p', 'http://www.wikidata.org/prop/direct/P577'), ('pname', 'publication date')]\n",
      "[('p', 'http://www.wikidata.org/prop/direct/P585'), ('pname', 'point in time')]\n",
      "[('p', 'http://www.wikidata.org/prop/direct/P6200'), ('pname', 'BBC News topic ID')]\n",
      "[('p', 'http://www.wikidata.org/prop/direct/P7284'), ('pname', 'The Independent topic ID')]\n",
      "[('p', 'http://www.wikidata.org/prop/direct/P828'), ('pname', 'has cause')]\n",
      "[('p', 'http://www.wikidata.org/prop/direct/P953'), ('pname', 'full work available at URL')]\n",
      "[('p', 'http://www.wikidata.org/prop/direct/P1891'), ('pname', 'signatory')]\n",
      "[('p', 'http://www.wikidata.org/prop/direct/P6193'), ('pname', 'ratified by')]\n"
     ]
    },
    {
     "data": {
      "text/plain": [
       "29"
      ]
     },
     "execution_count": 6,
     "metadata": {},
     "output_type": "execute_result"
    }
   ],
   "source": [
    "queryString = \"\"\"\n",
    "SELECT DISTINCT ?p ?pname\n",
    "WHERE { \n",
    "    wd:Q21707860 ?p ?o .\n",
    "    ?p <http://schema.org/name> ?pname\n",
    "} \n",
    "LIMIT 100\n",
    "\"\"\"\n",
    "\n",
    "print(\"Results\")\n",
    "run_query(queryString)"
   ]
  },
  {
   "cell_type": "markdown",
   "id": "e5d0a281-f74e-47a5-8cbe-1cf9cb7e486b",
   "metadata": {},
   "source": [
    "The predicate we need is named 'location' (P276)."
   ]
  },
  {
   "cell_type": "code",
   "execution_count": 9,
   "id": "a894375d-e4f6-44d0-9d6e-fcf68ddf5052",
   "metadata": {},
   "outputs": [
    {
     "name": "stdout",
     "output_type": "stream",
     "text": [
      "Results\n",
      "[('o', 'http://www.wikidata.org/entity/Q131569'), ('oname', 'treaty')]\n"
     ]
    },
    {
     "data": {
      "text/plain": [
       "1"
      ]
     },
     "execution_count": 9,
     "metadata": {},
     "output_type": "execute_result"
    }
   ],
   "source": [
    "queryString = \"\"\"\n",
    "SELECT DISTINCT ?o ?oname\n",
    "WHERE { \n",
    "    wd:Q21707860 wdt:P31 ?o .\n",
    "    ?o <http://schema.org/name> ?oname\n",
    "} \n",
    "LIMIT 20\n",
    "\"\"\"\n",
    "\n",
    "print(\"Results\")\n",
    "run_query(queryString)"
   ]
  },
  {
   "cell_type": "code",
   "execution_count": 11,
   "id": "cd4dd0f2-b320-4ef8-b079-f60cf3f2b98e",
   "metadata": {},
   "outputs": [
    {
     "name": "stdout",
     "output_type": "stream",
     "text": [
      "Results\n",
      "[('p', 'http://www.wikidata.org/entity/Q2292449'), ('pname', 'Treaty of Craiova'), ('location', 'http://www.wikidata.org/entity/Q168057'), ('locname', 'Craiova')]\n",
      "[('p', 'http://www.wikidata.org/entity/Q11146'), ('pname', 'Maastricht Treaty'), ('location', 'http://www.wikidata.org/entity/Q1309'), ('locname', 'Maastricht')]\n",
      "[('p', 'http://www.wikidata.org/entity/Q17986650'), ('pname', 'Convention on the Limitation Period in the International Sale of Goods'), ('location', 'http://www.wikidata.org/entity/Q60'), ('locname', 'New York City')]\n",
      "[('p', 'http://www.wikidata.org/entity/Q2996265'), ('pname', 'Kinshasa Convention'), ('location', 'http://www.wikidata.org/entity/Q3844'), ('locname', 'Brazzaville')]\n",
      "[('p', 'http://www.wikidata.org/entity/Q697986'), ('pname', 'Vienna Convention on Road Traffic'), ('location', 'http://www.wikidata.org/entity/Q1741'), ('locname', 'Vienna')]\n",
      "[('p', 'http://www.wikidata.org/entity/Q28130514'), ('pname', 'Treaty on the Prohibition of Nuclear Weapons'), ('location', 'http://www.wikidata.org/entity/Q60'), ('locname', 'New York City')]\n",
      "[('p', 'http://www.wikidata.org/entity/Q80439'), ('pname', 'Cape Town Treaty'), ('location', 'http://www.wikidata.org/entity/Q5465'), ('locname', 'Cape Town')]\n",
      "[('p', 'http://www.wikidata.org/entity/Q306535'), ('pname', 'Austrian State Treaty'), ('location', 'http://www.wikidata.org/entity/Q211818'), ('locname', 'Belvedere')]\n",
      "[('p', 'http://www.wikidata.org/entity/Q521923'), ('pname', 'Treaty of Hamburg'), ('location', 'http://www.wikidata.org/entity/Q1055'), ('locname', 'Hamburg')]\n",
      "[('p', 'http://www.wikidata.org/entity/Q617634'), ('pname', 'Anglo-Egyptian treaty of 1936'), ('location', 'http://www.wikidata.org/entity/Q84'), ('locname', 'London')]\n",
      "[('p', 'http://www.wikidata.org/entity/Q618292'), ('pname', 'Treaty of Aigun'), ('location', 'http://www.wikidata.org/entity/Q404795'), ('locname', 'Aigun')]\n",
      "[('p', 'http://www.wikidata.org/entity/Q633903'), ('pname', 'Sand River Convention'), ('location', 'http://www.wikidata.org/entity/Q1322410'), ('locname', 'Sand River')]\n",
      "[('p', 'http://www.wikidata.org/entity/Q1923018'), ('pname', 'Treaty of El Pardo'), ('location', 'http://www.wikidata.org/entity/Q1368571'), ('locname', 'Royal Palace of El Pardo')]\n",
      "[('p', 'http://www.wikidata.org/entity/Q685933'), ('pname', 'Reichstadt Agreement'), ('location', 'http://www.wikidata.org/entity/Q2244354'), ('locname', 'Zákupy Castle')]\n",
      "[('p', 'http://www.wikidata.org/entity/Q2444436'), ('pname', 'Sino-Tibetan Peace Treaty of 783'), ('location', 'http://www.wikidata.org/entity/Q1201210'), ('locname', 'Qingshui County')]\n",
      "[('p', 'http://www.wikidata.org/entity/Q1850313'), ('pname', 'Roerich Pact'), ('location', 'http://www.wikidata.org/entity/Q61'), ('locname', 'Washington, D.C.')]\n",
      "[('p', 'http://www.wikidata.org/entity/Q167457'), ('pname', 'Treaty on the Functioning of the European Union'), ('location', 'http://www.wikidata.org/entity/Q34925'), ('locname', 'Capitoline Hill')]\n",
      "[('p', 'http://www.wikidata.org/entity/Q6862837'), ('pname', 'Minamata Convention on Mercury'), ('location', 'http://www.wikidata.org/entity/Q199889'), ('locname', 'Kumamoto')]\n",
      "[('p', 'http://www.wikidata.org/entity/Q1160895'), ('pname', 'Treaty of London'), ('location', 'http://www.wikidata.org/entity/Q84'), ('locname', 'London')]\n",
      "[('p', 'http://www.wikidata.org/entity/Q154255'), ('pname', 'Munich agreement'), ('location', 'http://www.wikidata.org/entity/Q571767'), ('locname', 'Führerbau')]\n"
     ]
    },
    {
     "data": {
      "text/plain": [
       "20"
      ]
     },
     "execution_count": 11,
     "metadata": {},
     "output_type": "execute_result"
    }
   ],
   "source": [
    "queryString = \"\"\"\n",
    "SELECT DISTINCT ?p ?pname ?location ?locname\n",
    "WHERE { \n",
    "    ?p wdt:P31/wdt:P279* wd:Q131569 .\n",
    "    ?p wdt:P276 ?location .\n",
    "    ?p <http://schema.org/name> ?pname .\n",
    "    ?location <http://schema.org/name> ?locname\n",
    "} \n",
    "LIMIT 20\n",
    "\"\"\"\n",
    "\n",
    "print(\"Results\")\n",
    "run_query(queryString)"
   ]
  },
  {
   "cell_type": "markdown",
   "id": "0667e56f-b8c2-4e04-90cb-ce95143717b1",
   "metadata": {},
   "source": [
    "We need to find a predicate that relates the location to the area."
   ]
  },
  {
   "cell_type": "code",
   "execution_count": 17,
   "id": "71f71f8a-1046-4835-84f4-8f7530fdd6b5",
   "metadata": {},
   "outputs": [
    {
     "name": "stdout",
     "output_type": "stream",
     "text": [
      "Results\n",
      "[('country', 'http://www.wikidata.org/entity/Q40'), ('countryname', 'Austria')]\n"
     ]
    },
    {
     "data": {
      "text/plain": [
       "1"
      ]
     },
     "execution_count": 17,
     "metadata": {},
     "output_type": "execute_result"
    }
   ],
   "source": [
    "queryString = \"\"\"\n",
    "SELECT DISTINCT ?country ?countryname\n",
    "WHERE { \n",
    "    wd:Q1741 wdt:P17 ?country .\n",
    "    ?country <http://schema.org/name> ?countryname\n",
    "} \n",
    "LIMIT 100\n",
    "\"\"\"\n",
    "\n",
    "print(\"Results\")\n",
    "run_query(queryString)"
   ]
  },
  {
   "cell_type": "code",
   "execution_count": 16,
   "id": "ee092cdb-6ccf-4f13-86f2-6b29b4cd08f6",
   "metadata": {},
   "outputs": [
    {
     "name": "stdout",
     "output_type": "stream",
     "text": [
      "Results\n",
      "[('p', 'http://www.wikidata.org/prop/direct/P30'), ('pname', 'continent')]\n"
     ]
    },
    {
     "data": {
      "text/plain": [
       "1"
      ]
     },
     "execution_count": 16,
     "metadata": {},
     "output_type": "execute_result"
    }
   ],
   "source": [
    "queryString = \"\"\"\n",
    "SELECT DISTINCT ?p ?pname\n",
    "WHERE { \n",
    "    wd:Q1741 wdt:P17 ?country .\n",
    "    ?p <http://schema.org/name> ?pname .\n",
    "    ?country ?p ?o\n",
    "    FILTER REGEX(?pname, 'continent|has part', 'i')\n",
    "} \n",
    "LIMIT 100\n",
    "\"\"\"\n",
    "\n",
    "print(\"Results\")\n",
    "run_query(queryString)"
   ]
  },
  {
   "cell_type": "code",
   "execution_count": 19,
   "id": "dd249051-7f5c-486b-839e-55567e64c16e",
   "metadata": {},
   "outputs": [
    {
     "name": "stdout",
     "output_type": "stream",
     "text": [
      "Results\n",
      "[('p', 'http://www.wikidata.org/entity/Q2292449'), ('pname', 'Treaty of Craiova'), ('continentname', 'Europe'), ('continent', 'http://www.wikidata.org/entity/Q46')]\n",
      "[('p', 'http://www.wikidata.org/entity/Q11146'), ('pname', 'Maastricht Treaty'), ('continentname', 'Europe'), ('continent', 'http://www.wikidata.org/entity/Q46')]\n",
      "[('p', 'http://www.wikidata.org/entity/Q697986'), ('pname', 'Vienna Convention on Road Traffic'), ('continentname', 'Europe'), ('continent', 'http://www.wikidata.org/entity/Q46')]\n",
      "[('p', 'http://www.wikidata.org/entity/Q306535'), ('pname', 'Austrian State Treaty'), ('continentname', 'Europe'), ('continent', 'http://www.wikidata.org/entity/Q46')]\n",
      "[('p', 'http://www.wikidata.org/entity/Q521923'), ('pname', 'Treaty of Hamburg'), ('continentname', 'Europe'), ('continent', 'http://www.wikidata.org/entity/Q46')]\n",
      "[('p', 'http://www.wikidata.org/entity/Q617634'), ('pname', 'Anglo-Egyptian treaty of 1936'), ('continentname', 'Europe'), ('continent', 'http://www.wikidata.org/entity/Q46')]\n",
      "[('p', 'http://www.wikidata.org/entity/Q1923018'), ('pname', 'Treaty of El Pardo'), ('continentname', 'Europe'), ('continent', 'http://www.wikidata.org/entity/Q46')]\n",
      "[('p', 'http://www.wikidata.org/entity/Q685933'), ('pname', 'Reichstadt Agreement'), ('continentname', 'Europe'), ('continent', 'http://www.wikidata.org/entity/Q46')]\n",
      "[('p', 'http://www.wikidata.org/entity/Q167457'), ('pname', 'Treaty on the Functioning of the European Union'), ('continentname', 'Europe'), ('continent', 'http://www.wikidata.org/entity/Q46')]\n",
      "[('p', 'http://www.wikidata.org/entity/Q1160895'), ('pname', 'Treaty of London'), ('continentname', 'Europe'), ('continent', 'http://www.wikidata.org/entity/Q46')]\n",
      "[('p', 'http://www.wikidata.org/entity/Q154255'), ('pname', 'Munich agreement'), ('continentname', 'Europe'), ('continent', 'http://www.wikidata.org/entity/Q46')]\n",
      "[('p', 'http://www.wikidata.org/entity/Q183191'), ('pname', 'European Convention on Human Rights'), ('continentname', 'Europe'), ('continent', 'http://www.wikidata.org/entity/Q46')]\n",
      "[('p', 'http://www.wikidata.org/entity/Q1928989'), ('pname', 'Treaty on Open Skies'), ('continentname', 'Europe'), ('continent', 'http://www.wikidata.org/entity/Q46')]\n",
      "[('p', 'http://www.wikidata.org/entity/Q217398'), ('pname', 'Berne Convention for the Protection of Literary and Artistic Works'), ('continentname', 'Europe'), ('continent', 'http://www.wikidata.org/entity/Q46')]\n",
      "[('p', 'http://www.wikidata.org/entity/Q274811'), ('pname', 'Élysée Treaty'), ('continentname', 'Europe'), ('continent', 'http://www.wikidata.org/entity/Q46')]\n",
      "[('p', 'http://www.wikidata.org/entity/Q331520'), ('pname', 'United Nations Convention to Combat Desertification'), ('continentname', 'Europe'), ('continent', 'http://www.wikidata.org/entity/Q46')]\n",
      "[('p', 'http://www.wikidata.org/entity/Q672112'), ('pname', 'Basic Treaty'), ('continentname', 'Europe'), ('continent', 'http://www.wikidata.org/entity/Q46')]\n",
      "[('p', 'http://www.wikidata.org/entity/Q763198'), ('pname', 'Treaty of The Hague'), ('continentname', 'Europe'), ('continent', 'http://www.wikidata.org/entity/Q46')]\n",
      "[('p', 'http://www.wikidata.org/entity/Q543481'), ('pname', 'Prüm Convention'), ('continentname', 'Europe'), ('continent', 'http://www.wikidata.org/entity/Q46')]\n",
      "[('p', 'http://www.wikidata.org/entity/Q2086064'), ('pname', 'Treaty of Königsberg'), ('continentname', 'Europe'), ('continent', 'http://www.wikidata.org/entity/Q46')]\n"
     ]
    },
    {
     "data": {
      "text/plain": [
       "20"
      ]
     },
     "execution_count": 19,
     "metadata": {},
     "output_type": "execute_result"
    }
   ],
   "source": [
    "queryString = \"\"\"\n",
    "SELECT DISTINCT ?p ?pname ?continentname ?continent\n",
    "WHERE { \n",
    "    ?p wdt:P31/wdt:P279* wd:Q131569 .\n",
    "    ?p wdt:P276 ?location .\n",
    "    ?p <http://schema.org/name> ?pname .\n",
    "    ?location <http://schema.org/name> ?locname .\n",
    "    ?location wdt:P17 ?country .\n",
    "    ?country wdt:P30 ?continent .\n",
    "    ?continent <http://schema.org/name> ?continentname\n",
    "    FILTER REGEX(?continentname, 'Europe', 'i')\n",
    "    \n",
    "} \n",
    "LIMIT 20\n",
    "\"\"\"\n",
    "\n",
    "print(\"Results\")\n",
    "run_query(queryString)"
   ]
  },
  {
   "cell_type": "markdown",
   "id": "ef081140-405b-4052-bc9e-79930bb56abf",
   "metadata": {},
   "source": [
    "Here we have all the treaties that took place in Europe"
   ]
  },
  {
   "cell_type": "code",
   "execution_count": 22,
   "id": "eec1b195-82f4-49cb-a6cc-6e4dd541676b",
   "metadata": {},
   "outputs": [
    {
     "name": "stdout",
     "output_type": "stream",
     "text": [
      "Results\n",
      "[('p', 'http://www.wikidata.org/entity/Q2292449'), ('pname', 'Treaty of Craiova')]\n",
      "[('p', 'http://www.wikidata.org/entity/Q11146'), ('pname', 'Maastricht Treaty')]\n",
      "[('p', 'http://www.wikidata.org/entity/Q697986'), ('pname', 'Vienna Convention on Road Traffic')]\n",
      "[('p', 'http://www.wikidata.org/entity/Q306535'), ('pname', 'Austrian State Treaty')]\n",
      "[('p', 'http://www.wikidata.org/entity/Q521923'), ('pname', 'Treaty of Hamburg')]\n",
      "[('p', 'http://www.wikidata.org/entity/Q617634'), ('pname', 'Anglo-Egyptian treaty of 1936')]\n",
      "[('p', 'http://www.wikidata.org/entity/Q1923018'), ('pname', 'Treaty of El Pardo')]\n",
      "[('p', 'http://www.wikidata.org/entity/Q685933'), ('pname', 'Reichstadt Agreement')]\n",
      "[('p', 'http://www.wikidata.org/entity/Q167457'), ('pname', 'Treaty on the Functioning of the European Union')]\n",
      "[('p', 'http://www.wikidata.org/entity/Q1160895'), ('pname', 'Treaty of London')]\n",
      "[('p', 'http://www.wikidata.org/entity/Q154255'), ('pname', 'Munich agreement')]\n",
      "[('p', 'http://www.wikidata.org/entity/Q183191'), ('pname', 'European Convention on Human Rights')]\n",
      "[('p', 'http://www.wikidata.org/entity/Q1928989'), ('pname', 'Treaty on Open Skies')]\n",
      "[('p', 'http://www.wikidata.org/entity/Q217398'), ('pname', 'Berne Convention for the Protection of Literary and Artistic Works')]\n",
      "[('p', 'http://www.wikidata.org/entity/Q274811'), ('pname', 'Élysée Treaty')]\n",
      "[('p', 'http://www.wikidata.org/entity/Q331520'), ('pname', 'United Nations Convention to Combat Desertification')]\n",
      "[('p', 'http://www.wikidata.org/entity/Q672112'), ('pname', 'Basic Treaty')]\n",
      "[('p', 'http://www.wikidata.org/entity/Q763198'), ('pname', 'Treaty of The Hague')]\n",
      "[('p', 'http://www.wikidata.org/entity/Q543481'), ('pname', 'Prüm Convention')]\n",
      "[('p', 'http://www.wikidata.org/entity/Q2086064'), ('pname', 'Treaty of Königsberg')]\n"
     ]
    },
    {
     "data": {
      "text/plain": [
       "20"
      ]
     },
     "execution_count": 22,
     "metadata": {},
     "output_type": "execute_result"
    }
   ],
   "source": [
    "queryString = \"\"\"\n",
    "SELECT DISTINCT ?p ?pname ?continentname ?continent\n",
    "WHERE { \n",
    "    ?p wdt:P31/wdt:P279* wd:Q131569 .\n",
    "    ?p wdt:P276 ?location .\n",
    "    ?p <http://schema.org/name> ?pname .\n",
    "    ?location <http://schema.org/name> ?locname .\n",
    "    ?location wdt:P17 ?country .\n",
    "    ?country wdt:P30 wd:Q46\n",
    "    \n",
    "} \n",
    "LIMIT 20\n",
    "\"\"\"\n",
    "\n",
    "print(\"Results\")\n",
    "run_query(queryString)"
   ]
  },
  {
   "cell_type": "markdown",
   "id": "4da78618-e154-4471-9eac-63f42ad6b4ce",
   "metadata": {},
   "source": [
    "Here we count all the treaties in Europe."
   ]
  },
  {
   "cell_type": "code",
   "execution_count": 25,
   "id": "75083a27-8e60-4ced-b035-24aa0e206815",
   "metadata": {},
   "outputs": [
    {
     "name": "stdout",
     "output_type": "stream",
     "text": [
      "Results\n",
      "[('howmany', '548')]\n"
     ]
    },
    {
     "data": {
      "text/plain": [
       "1"
      ]
     },
     "execution_count": 25,
     "metadata": {},
     "output_type": "execute_result"
    }
   ],
   "source": [
    "queryString = \"\"\"\n",
    "SELECT DISTINCT COUNT(?p) as ?howmany ?continentname \n",
    "WHERE { \n",
    "    ?p wdt:P31/wdt:P279* wd:Q131569 .\n",
    "    ?p wdt:P276 ?location .\n",
    "    ?p <http://schema.org/name> ?pname .\n",
    "    ?location <http://schema.org/name> ?locname .\n",
    "    ?location wdt:P17 ?country .\n",
    "    ?country wdt:P30 wd:Q46\n",
    "    \n",
    "}\n",
    "GROUP BY ?continentname\n",
    "LIMIT 20\n",
    "\"\"\"\n",
    "\n",
    "print(\"Results\")\n",
    "run_query(queryString)"
   ]
  },
  {
   "cell_type": "markdown",
   "id": "98175bb2-b998-4e69-a3bc-5d9855be8d68",
   "metadata": {},
   "source": [
    "2) We need to retrieve the predicate that we need. In a previus query (the first) we find a propertie 'signatory' (P1891)."
   ]
  },
  {
   "cell_type": "code",
   "execution_count": 30,
   "id": "b7e24596-2677-4e0d-b93b-ce3ad9c82c1e",
   "metadata": {},
   "outputs": [
    {
     "name": "stdout",
     "output_type": "stream",
     "text": [
      "Results\n",
      "[('pname', 'Convention Establishing the World Intellectual Property Organization'), ('o1name', 'Dominican Republic'), ('o2name', 'Gabon')]\n",
      "[('pname', 'Convention Establishing the World Intellectual Property Organization'), ('o1name', 'Dominican Republic'), ('o2name', 'Ivory Coast')]\n",
      "[('pname', 'Convention Establishing the World Intellectual Property Organization'), ('o1name', 'Dominican Republic'), ('o2name', 'Cameroon')]\n",
      "[('pname', 'Convention Establishing the World Intellectual Property Organization'), ('o1name', 'Dominican Republic'), ('o2name', 'Madagascar')]\n",
      "[('pname', 'Convention Establishing the World Intellectual Property Organization'), ('o1name', 'Dominican Republic'), ('o2name', 'Morocco')]\n",
      "[('pname', 'Convention Establishing the World Intellectual Property Organization'), ('o1name', 'Dominican Republic'), ('o2name', 'Niger')]\n",
      "[('pname', 'Convention Establishing the World Intellectual Property Organization'), ('o1name', 'Dominican Republic'), ('o2name', 'Senegal')]\n",
      "[('pname', 'Convention Establishing the World Intellectual Property Organization'), ('o1name', 'Dominican Republic'), ('o2name', 'Kenya')]\n",
      "[('pname', 'Convention Establishing the World Intellectual Property Organization'), ('o1name', 'Dominican Republic'), ('o2name', 'France')]\n",
      "[('pname', 'Convention Establishing the World Intellectual Property Organization'), ('o1name', 'Dominican Republic'), ('o2name', 'United Kingdom')]\n",
      "[('pname', 'Convention Establishing the World Intellectual Property Organization'), ('o1name', 'Dominican Republic'), ('o2name', 'Russia')]\n",
      "[('pname', 'Convention Establishing the World Intellectual Property Organization'), ('o1name', 'Dominican Republic'), ('o2name', 'Holy See')]\n",
      "[('pname', 'Convention Establishing the World Intellectual Property Organization'), ('o1name', 'Dominican Republic'), ('o2name', 'Japan')]\n",
      "[('pname', 'Convention Establishing the World Intellectual Property Organization'), ('o1name', 'Dominican Republic'), ('o2name', 'Germany')]\n",
      "[('pname', 'Convention Establishing the World Intellectual Property Organization'), ('o1name', 'Dominican Republic'), ('o2name', 'Belarus')]\n",
      "[('pname', 'Convention Establishing the World Intellectual Property Organization'), ('o1name', 'Dominican Republic'), ('o2name', 'Iceland')]\n",
      "[('pname', 'Convention Establishing the World Intellectual Property Organization'), ('o1name', 'Dominican Republic'), ('o2name', 'Norway')]\n",
      "[('pname', 'Convention Establishing the World Intellectual Property Organization'), ('o1name', 'Dominican Republic'), ('o2name', 'Ukraine')]\n",
      "[('pname', 'Convention Establishing the World Intellectual Property Organization'), ('o1name', 'Dominican Republic'), ('o2name', 'Romania')]\n",
      "[('pname', 'Convention Establishing the World Intellectual Property Organization'), ('o1name', 'Dominican Republic'), ('o2name', 'Bulgaria')]\n"
     ]
    },
    {
     "data": {
      "text/plain": [
       "20"
      ]
     },
     "execution_count": 30,
     "metadata": {},
     "output_type": "execute_result"
    }
   ],
   "source": [
    "queryString = \"\"\"\n",
    "SELECT DISTINCT ?pname ?o1name ?o2name\n",
    "WHERE { \n",
    "    ?p wdt:P31/wdt:P279* wd:Q131569  .\n",
    "    ?p wdt:P6193 ?o1 .\n",
    "    ?p wdt:P1891 ?o2 .\n",
    "    ?p <http://schema.org/name> ?pname .\n",
    "    OPTIONAL{\n",
    "        ?o1 <http://schema.org/name> ?o1name .\n",
    "        ?o2 <http://schema.org/name> ?o2name\n",
    "        }\n",
    "}\n",
    "LIMIT 20\n",
    "\"\"\"\n",
    "\n",
    "print(\"Results\")\n",
    "run_query(queryString)"
   ]
  },
  {
   "cell_type": "markdown",
   "id": "8fd56b52-392e-43e1-9daf-df644e9bccc2",
   "metadata": {},
   "source": [
    "3) We see in a previus query (the first) the predicate 'publication date'."
   ]
  },
  {
   "cell_type": "code",
   "execution_count": 31,
   "id": "298fc871-5d72-4af5-a3b0-2726e3580069",
   "metadata": {},
   "outputs": [
    {
     "name": "stdout",
     "output_type": "stream",
     "text": [
      "Results\n",
      "[('pname', 'International Covenant on Economic, Social and Cultural Rights'), ('date', '1966-12-16T00:00:00Z')]\n",
      "[('pname', 'Convention on the Rights of the Child'), ('date', '1989-11-20T00:00:00Z')]\n",
      "[('pname', 'Treaty on the Prohibition of Nuclear Weapons'), ('date', '2017-07-07T00:00:00Z')]\n",
      "[('pname', 'Secret Additional Protocol to the Molotov–Ribbentrop Pact'), ('date', '1939-08-23T00:00:00Z')]\n",
      "[('pname', 'Second Geneva Convention'), ('date', '1949-08-12T00:00:00Z')]\n",
      "[('pname', 'Agreement between the Parties to the North Atlantic Treaty regarding the Status of their Forces'), ('date', '1951-06-19T00:00:00Z')]\n",
      "[('pname', 'Minamata Convention on Mercury'), ('date', '2013-10-10T00:00:00Z')]\n",
      "[('pname', 'European Agreement concerning the International Carriage of Dangerous Goods by Road'), ('date', '1957-09-30T00:00:00Z')]\n",
      "[('pname', 'Munich agreement'), ('date', '1939-09-30T00:00:00Z')]\n",
      "[('pname', 'United Nations Framework Convention on Climate Change'), ('date', '1992-05-09T00:00:00Z')]\n",
      "[('pname', 'International Covenant on Civil and Political Rights'), ('date', '1966-12-16T00:00:00Z')]\n",
      "[('pname', 'Prüm Convention'), ('date', '2005-05-27T00:00:00Z')]\n",
      "[('pname', 'Treaty of Prüm'), ('date', '0855-09-23T00:00:00Z')]\n",
      "[('pname', 'Fourth Geneva Convention'), ('date', '1949-08-12T00:00:00Z')]\n",
      "[('pname', 'Rome Statute of the International Criminal Court'), ('date', '1998-07-17T00:00:00Z')]\n",
      "[('pname', 'United Nations Convention on the Law of the Sea'), ('date', '1982-12-10T00:00:00Z')]\n",
      "[('pname', 'Anglo-French Convention of 1898'), ('date', '1898-06-14T00:00:00Z')]\n",
      "[('pname', 'First Geneva Convention'), ('date', '1949-08-12T00:00:00Z')]\n",
      "[('pname', 'Geneva Convention'), ('date', '1949-08-12T00:00:00Z')]\n",
      "[('pname', 'international yard and pound agreement'), ('date', '1959-07-01T00:00:00Z')]\n"
     ]
    },
    {
     "data": {
      "text/plain": [
       "20"
      ]
     },
     "execution_count": 31,
     "metadata": {},
     "output_type": "execute_result"
    }
   ],
   "source": [
    "queryString = \"\"\"\n",
    "SELECT DISTINCT ?pname ?date\n",
    "WHERE { \n",
    "    ?p wdt:P31/wdt:P279* wd:Q131569  .\n",
    "    ?p wdt:P577 ?date .\n",
    "    ?p <http://schema.org/name> ?pname\n",
    "}\n",
    "LIMIT 20\n",
    "\"\"\"\n",
    "\n",
    "print(\"Results\")\n",
    "run_query(queryString)"
   ]
  },
  {
   "cell_type": "code",
   "execution_count": 36,
   "id": "295d1ee0-61b7-449f-baca-571cd0f77690",
   "metadata": {},
   "outputs": [
    {
     "name": "stdout",
     "output_type": "stream",
     "text": [
      "Results\n",
      "[('howmanytreaties', '3'), ('year', '2020')]\n",
      "[('howmanytreaties', '1'), ('year', '2017')]\n",
      "[('howmanytreaties', '1'), ('year', '2015')]\n",
      "[('howmanytreaties', '1'), ('year', '2014')]\n",
      "[('howmanytreaties', '3'), ('year', '2013')]\n",
      "[('howmanytreaties', '1'), ('year', '2010')]\n",
      "[('howmanytreaties', '1'), ('year', '2005')]\n",
      "[('howmanytreaties', '1'), ('year', '2004')]\n",
      "[('howmanytreaties', '1'), ('year', '2003')]\n",
      "[('howmanytreaties', '1'), ('year', '2001')]\n",
      "[('howmanytreaties', '3'), ('year', '2000')]\n",
      "[('howmanytreaties', '3'), ('year', '1999')]\n",
      "[('howmanytreaties', '2'), ('year', '1998')]\n",
      "[('howmanytreaties', '1'), ('year', '1997')]\n",
      "[('howmanytreaties', '2'), ('year', '1996')]\n",
      "[('howmanytreaties', '1'), ('year', '1992')]\n",
      "[('howmanytreaties', '1'), ('year', '1991')]\n",
      "[('howmanytreaties', '1'), ('year', '1990')]\n",
      "[('howmanytreaties', '2'), ('year', '1989')]\n",
      "[('howmanytreaties', '1'), ('year', '1988')]\n",
      "[('howmanytreaties', '1'), ('year', '1987')]\n",
      "[('howmanytreaties', '1'), ('year', '1985')]\n",
      "[('howmanytreaties', '2'), ('year', '1984')]\n",
      "[('howmanytreaties', '1'), ('year', '1982')]\n",
      "[('howmanytreaties', '1'), ('year', '1981')]\n",
      "[('howmanytreaties', '1'), ('year', '1979')]\n",
      "[('howmanytreaties', '3'), ('year', '1978')]\n",
      "[('howmanytreaties', '1'), ('year', '1976')]\n",
      "[('howmanytreaties', '1'), ('year', '1974')]\n",
      "[('howmanytreaties', '1'), ('year', '1973')]\n"
     ]
    },
    {
     "data": {
      "text/plain": [
       "30"
      ]
     },
     "execution_count": 36,
     "metadata": {},
     "output_type": "execute_result"
    }
   ],
   "source": [
    "queryString = \"\"\"\n",
    "SELECT DISTINCT COUNT(?pname) as ?howmanytreaties ?year\n",
    "WHERE { \n",
    "    ?p wdt:P31/wdt:P279* wd:Q131569  .\n",
    "    ?p wdt:P577 ?date .\n",
    "    ?p <http://schema.org/name> ?pname\n",
    "}\n",
    "GROUP BY (year(?date) as ?year)\n",
    "ORDER BY DESC (?year)\n",
    "LIMIT 30\n",
    "\"\"\"\n",
    "\n",
    "print(\"Results\")\n",
    "run_query(queryString)"
   ]
  },
  {
   "cell_type": "markdown",
   "id": "32ef97de-68ed-4bd1-960d-a0adb5ae624a",
   "metadata": {},
   "source": [
    "4) Like always in the first query we can find the predicates we need, in this case are the ones called 'has cause' (P828) and 'has effect' (P1542)."
   ]
  },
  {
   "cell_type": "code",
   "execution_count": 40,
   "id": "8eaab785-5f22-491a-8d46-6c1c26d179ce",
   "metadata": {},
   "outputs": [
    {
     "name": "stdout",
     "output_type": "stream",
     "text": [
      "Results\n",
      "[('causename', 'Constitution of India'), ('effectname', 'Republics in the Commonwealth of Nations'), ('pname', 'London Declaration')]\n",
      "[('causename', 'Constitution of India'), ('effectname', 'Head of the Commonwealth'), ('pname', 'London Declaration')]\n",
      "[('causename', 'climate change'), ('effectname', 'United States withdrawal from the Paris Agreement'), ('pname', 'Paris Agreement')]\n",
      "[('causename', 'Sudeten Crisis'), ('pname', 'Munich agreement')]\n",
      "[('causename', 'Fourth Crusade'), ('pname', 'Partitio terrarum imperii Romaniae')]\n",
      "[('causename', 'French and Indian War'), ('pname', 'Treaty of Fontainebleau')]\n",
      "[('causename', '6th BRICS summit'), ('pname', 'BRICS Contingent Reserve Arrangement')]\n",
      "[('causename', 'War of the Second Coalition'), ('pname', 'Treaty of Paris')]\n",
      "[('causename', \"L'Escalade\"), ('pname', 'Traité de Saint-Julien')]\n",
      "[('causename', '2004 South American Summit'), ('pname', 'Cusco Declaration')]\n",
      "[('causename', 'Hague Convention'), ('pname', 'Hague Conventions of 1899 and 1907')]\n",
      "[('causename', 'Algeciras Conference'), ('pname', 'Act of Algeciras')]\n",
      "[('causename', 'United Nations Conference on International Organization'), ('pname', 'Charter of the United Nations')]\n",
      "[('causename', 'Realpolitik'), ('pname', 'Munich agreement')]\n",
      "[('effectname', 'War of the Austrian Succession'), ('pname', 'Vertrag von Nymphenburg')]\n",
      "[('effectname', 'International Maritime Organization'), ('pname', 'Convention on the International Maritime Organization')]\n",
      "[('effectname', 'International Criminal Court'), ('pname', 'Rome Statute of the International Criminal Court')]\n",
      "[('effectname', 'Warsaw Pact'), ('pname', 'Warsaw Treaty')]\n",
      "[('effectname', 'Algerian self-determination referendum'), ('pname', 'Évian Accords')]\n",
      "[('effectname', 'French Évian Accords referendum'), ('pname', 'Évian Accords')]\n",
      "[('effectname', 'cease-fire of March 19, 1962'), ('pname', 'Évian Accords')]\n",
      "[('effectname', 'United State of Rajasthan'), ('pname', 'Covenant for the formation of Rajasthan')]\n",
      "[('effectname', 'peace enforcement'), ('pname', 'Chapter VII of the United Nations Charter')]\n",
      "[('effectname', 'Lindsay-Corral agreement'), ('pname', 'Boundary Treaty of 1866 between Chile and Bolivia')]\n",
      "[('effectname', 'The ITER Organization'), ('pname', 'The ITER Agreement')]\n",
      "[('effectname', 'Anglo-Russian Entente'), ('pname', 'British-Russian Convention')]\n",
      "[('pname', 'Treaty of Fort Adams')]\n",
      "[('pname', 'Penal Sanctions')]\n",
      "[('pname', 'Treaty of Washington City')]\n",
      "[('pname', 'Dublin Regulation')]\n"
     ]
    },
    {
     "data": {
      "text/plain": [
       "30"
      ]
     },
     "execution_count": 40,
     "metadata": {},
     "output_type": "execute_result"
    }
   ],
   "source": [
    "queryString = \"\"\"\n",
    "SELECT DISTINCT ?causename ?effectname ?pname\n",
    "WHERE { \n",
    "    ?p wdt:P31/wdt:P279* wd:Q131569  .\n",
    "    ?p <http://schema.org/name> ?pname .\n",
    "    OPTIONAL{\n",
    "    ?p wdt:P828 ?cause .\n",
    "    ?cause <http://schema.org/name> ?causename .\n",
    "    }\n",
    "    OPTIONAL{\n",
    "    ?p wdt:P1542 ?effect .\n",
    "    ?effect <http://schema.org/name> ?effectname .\n",
    "    }\n",
    "}\n",
    "\n",
    "LIMIT 30\n",
    "\"\"\"\n",
    "\n",
    "print(\"Results\")\n",
    "run_query(queryString)"
   ]
  },
  {
   "cell_type": "markdown",
   "id": "c73f1604-446e-4238-8fd9-c10cf7982626",
   "metadata": {},
   "source": [
    "Here we count the treaties with a cause or a effect."
   ]
  },
  {
   "cell_type": "code",
   "execution_count": 62,
   "id": "e2f4d645-6560-447c-a245-0119aa2f03bf",
   "metadata": {},
   "outputs": [
    {
     "name": "stdout",
     "output_type": "stream",
     "text": [
      "Results\n",
      "[('howmany', '41')]\n"
     ]
    },
    {
     "data": {
      "text/plain": [
       "1"
      ]
     },
     "execution_count": 62,
     "metadata": {},
     "output_type": "execute_result"
    }
   ],
   "source": [
    "queryString = \"\"\"\n",
    "SELECT DISTINCT COUNT(?p) as ?howmany\n",
    "WHERE { \n",
    "    ?p wdt:P31/wdt:P279* wd:Q131569  .\n",
    "    FILTER EXISTS{?p wdt:P828/wdt:P1542* ?o1}\n",
    "}\n",
    "\n",
    "\"\"\"\n",
    "print(\"Results\")\n",
    "run_query(queryString)"
   ]
  },
  {
   "cell_type": "markdown",
   "id": "3882a9fb-f124-4d37-b18d-5970a7dbb4df",
   "metadata": {},
   "source": [
    "5) Let's see how many treaties the countries have signed."
   ]
  },
  {
   "cell_type": "code",
   "execution_count": 65,
   "id": "f22fb1ea-2318-4162-9337-64295ff4f80f",
   "metadata": {},
   "outputs": [
    {
     "name": "stdout",
     "output_type": "stream",
     "text": [
      "Results\n",
      "[('howmanytreaties', '13'), ('countryname', 'South Korea')]\n",
      "[('howmanytreaties', '1'), ('countryname', 'Charles, Duke of Orléans')]\n",
      "[('howmanytreaties', '2'), ('countryname', 'Peter II, Grand Duke of Oldenburg')]\n",
      "[('howmanytreaties', '1'), ('countryname', 'Elizabeth I of England')]\n",
      "[('howmanytreaties', '3'), ('countryname', 'Joachim von Ribbentrop')]\n",
      "[('howmanytreaties', '2'), ('countryname', 'Electorate of Bavaria')]\n",
      "[('howmanytreaties', '3'), ('countryname', 'Mozambique')]\n",
      "[('howmanytreaties', '3'), ('countryname', 'Uganda')]\n",
      "[('howmanytreaties', '1'), ('countryname', 'Saxony')]\n",
      "[('howmanytreaties', '23'), ('countryname', 'Slovenia')]\n",
      "[('howmanytreaties', '3'), ('countryname', 'Empire of Brazil')]\n",
      "[('howmanytreaties', '3'), ('countryname', 'Russian Socialist Federative Soviet Republic')]\n",
      "[('howmanytreaties', '2'), ('countryname', 'Uzbekistan')]\n",
      "[('howmanytreaties', '14'), ('countryname', 'Liechtenstein')]\n",
      "[('howmanytreaties', '1'), ('countryname', 'Tuvalu')]\n",
      "[('howmanytreaties', '1'), ('countryname', 'Samoa')]\n",
      "[('howmanytreaties', '3'), ('countryname', 'Hong Kong')]\n",
      "[('howmanytreaties', '2'), ('countryname', 'Turkmenistan')]\n",
      "[('howmanytreaties', '5'), ('countryname', 'Central African Republic')]\n",
      "[('howmanytreaties', '3'), ('countryname', 'Burundi')]\n",
      "[('howmanytreaties', '2'), ('countryname', 'Comoros')]\n",
      "[('howmanytreaties', '6'), ('countryname', 'Habsburg Monarchy')]\n",
      "[('howmanytreaties', '4'), ('countryname', 'French First Republic')]\n",
      "[('howmanytreaties', '1'), ('countryname', 'Vytautas')]\n",
      "[('howmanytreaties', '2'), ('countryname', 'Crown of Castile')]\n",
      "[('howmanytreaties', '1'), ('countryname', 'Oglala Lakota')]\n",
      "[('howmanytreaties', '2'), ('countryname', 'Kingdom of Greece')]\n",
      "[('howmanytreaties', '1'), ('countryname', 'Harry S Truman')]\n",
      "[('howmanytreaties', '1'), ('countryname', 'Thaddeus Austin Thomson')]\n",
      "[('howmanytreaties', '1'), ('countryname', 'Hafez al-Assad')]\n"
     ]
    },
    {
     "data": {
      "text/plain": [
       "30"
      ]
     },
     "execution_count": 65,
     "metadata": {},
     "output_type": "execute_result"
    }
   ],
   "source": [
    "queryString = \"\"\"\n",
    "SELECT DISTINCT COUNT(?p) as ?howmanytreaties ?countryname\n",
    "WHERE { \n",
    "    ?p wdt:P31/wdt:P279* wd:Q131569 .\n",
    "    ?p wdt:P1891 ?country .\n",
    "    ?country <http://schema.org/name> ?countryname\n",
    "}\n",
    "GROUP BY ?countryname\n",
    "\n",
    "LIMIT 30\n",
    "\"\"\"\n",
    "print(\"Results\")\n",
    "run_query(queryString)"
   ]
  },
  {
   "cell_type": "code",
   "execution_count": 74,
   "id": "ac0fa403-1b3a-4a26-bbe9-b8e3e352f054",
   "metadata": {},
   "outputs": [
    {
     "name": "stdout",
     "output_type": "stream",
     "text": [
      "Results\n",
      "[('howmany', '37'), ('country1name', 'France'), ('country2name', 'Germany')]\n",
      "[('howmany', '37'), ('country1name', 'Germany'), ('country2name', 'France')]\n",
      "[('howmany', '36'), ('country1name', 'France'), ('country2name', 'Italy')]\n",
      "[('howmany', '36'), ('country1name', 'Italy'), ('country2name', 'France')]\n",
      "[('howmany', '33'), ('country1name', 'Belgium'), ('country2name', 'France')]\n",
      "[('howmany', '33'), ('country1name', 'France'), ('country2name', 'Belgium')]\n",
      "[('howmany', '32'), ('country1name', 'France'), ('country2name', 'Switzerland')]\n",
      "[('howmany', '32'), ('country1name', 'Luxembourg'), ('country2name', 'France')]\n",
      "[('howmany', '32'), ('country1name', 'France'), ('country2name', 'Luxembourg')]\n",
      "[('howmany', '32'), ('country1name', 'Spain'), ('country2name', 'France')]\n",
      "[('howmany', '32'), ('country1name', 'Switzerland'), ('country2name', 'France')]\n",
      "[('howmany', '32'), ('country1name', 'France'), ('country2name', 'Spain')]\n",
      "[('howmany', '32'), ('country1name', 'United Kingdom'), ('country2name', 'France')]\n",
      "[('howmany', '32'), ('country1name', 'France'), ('country2name', 'United Kingdom')]\n",
      "[('howmany', '30'), ('country1name', 'Austria'), ('country2name', 'France')]\n",
      "[('howmany', '30'), ('country1name', 'Luxembourg'), ('country2name', 'Belgium')]\n",
      "[('howmany', '30'), ('country1name', 'France'), ('country2name', 'Austria')]\n",
      "[('howmany', '30'), ('country1name', 'Belgium'), ('country2name', 'Luxembourg')]\n",
      "[('howmany', '29'), ('country1name', 'Italy'), ('country2name', 'Germany')]\n",
      "[('howmany', '29'), ('country1name', 'Germany'), ('country2name', 'Italy')]\n",
      "[('howmany', '28'), ('country1name', 'Spain'), ('country2name', 'Italy')]\n",
      "[('howmany', '28'), ('country1name', 'Luxembourg'), ('country2name', 'Germany')]\n",
      "[('howmany', '28'), ('country1name', 'Italy'), ('country2name', 'Belgium')]\n",
      "[('howmany', '28'), ('country1name', 'Austria'), ('country2name', 'Germany')]\n",
      "[('howmany', '28'), ('country1name', 'Germany'), ('country2name', 'Luxembourg')]\n",
      "[('howmany', '28'), ('country1name', 'Belgium'), ('country2name', 'Italy')]\n",
      "[('howmany', '28'), ('country1name', 'Belgium'), ('country2name', 'Germany')]\n",
      "[('howmany', '28'), ('country1name', 'Germany'), ('country2name', 'Austria')]\n",
      "[('howmany', '28'), ('country1name', 'Germany'), ('country2name', 'Belgium')]\n",
      "[('howmany', '28'), ('country1name', 'Italy'), ('country2name', 'Spain')]\n"
     ]
    },
    {
     "data": {
      "text/plain": [
       "30"
      ]
     },
     "execution_count": 74,
     "metadata": {},
     "output_type": "execute_result"
    }
   ],
   "source": [
    "queryString = \"\"\"\n",
    "SELECT DISTINCT COUNT(?p) as ?howmany ?country1name ?country2name\n",
    "WHERE { \n",
    "    ?p wdt:P31/wdt:P279* wd:Q131569 .\n",
    "    ?p wdt:P1891 ?country1 .\n",
    "    ?p wdt:P1891 ?country2 .\n",
    "    ?country1 <http://schema.org/name> ?country1name .\n",
    "    ?country2 <http://schema.org/name> ?country2name .\n",
    "    FILTER(?country1name != ?country2name)\n",
    "    \n",
    "}\n",
    "GROUP BY ?country1name ?country2name\n",
    "ORDER BY DESC (COUNT(?p))\n",
    "LIMIT 30\n",
    "\"\"\"\n",
    "print(\"Results\")\n",
    "run_query(queryString)"
   ]
  },
  {
   "cell_type": "markdown",
   "id": "7e497f2f-ad0d-4298-a21f-b5e94659d0c8",
   "metadata": {},
   "source": [
    "5.2) Treaties with highest number of signatories."
   ]
  },
  {
   "cell_type": "code",
   "execution_count": 75,
   "id": "9eca66bf-f3f3-420b-a221-85a430a71568",
   "metadata": {},
   "outputs": [
    {
     "name": "stdout",
     "output_type": "stream",
     "text": [
      "Results\n",
      "[('howmany', '97'), ('pname', 'Universal Copyright Convention')]\n",
      "[('howmany', '86'), ('pname', 'Treaty on the Prohibition of Nuclear Weapons')]\n",
      "[('howmany', '80'), ('pname', 'Marrakesh Treaty to Facilitate Access to Published Works for Persons Who Are Blind, Visually Impaired or Otherwise Print Disabled')]\n"
     ]
    },
    {
     "data": {
      "text/plain": [
       "3"
      ]
     },
     "execution_count": 75,
     "metadata": {},
     "output_type": "execute_result"
    }
   ],
   "source": [
    "queryString = \"\"\"\n",
    "SELECT DISTINCT COUNT(?country) as ?howmany ?pname\n",
    "WHERE { \n",
    "    ?p wdt:P31/wdt:P279* wd:Q131569 .\n",
    "    ?p wdt:P1891 ?country .\n",
    "    ?p <http://schema.org/name> ?pname\n",
    "    \n",
    "}\n",
    "GROUP BY ?pname\n",
    "ORDER BY DESC (COUNT(?country))\n",
    "LIMIT 3\n",
    "\"\"\"\n",
    "print(\"Results\")\n",
    "run_query(queryString)"
   ]
  },
  {
   "cell_type": "code",
   "execution_count": null,
   "id": "fd7eed41-1daa-4b53-9acc-f88ee8d5fbc4",
   "metadata": {},
   "outputs": [],
   "source": [
    "Countries wich have signed the highest number of treaties."
   ]
  },
  {
   "cell_type": "code",
   "execution_count": 76,
   "id": "d9db9428-ae7f-4cbd-ac7d-83548e04e265",
   "metadata": {},
   "outputs": [
    {
     "name": "stdout",
     "output_type": "stream",
     "text": [
      "Results\n",
      "[('howmany', '84'), ('countryname', 'France')]\n",
      "[('howmany', '79'), ('countryname', 'Spain')]\n",
      "[('howmany', '73'), ('countryname', 'United States of America')]\n"
     ]
    },
    {
     "data": {
      "text/plain": [
       "3"
      ]
     },
     "execution_count": 76,
     "metadata": {},
     "output_type": "execute_result"
    }
   ],
   "source": [
    "queryString = \"\"\"\n",
    "SELECT DISTINCT COUNT(?p) as ?howmany ?countryname\n",
    "WHERE { \n",
    "    ?p wdt:P31/wdt:P279* wd:Q131569 .\n",
    "    ?p wdt:P1891 ?country .\n",
    "    ?country <http://schema.org/name> ?countryname\n",
    "    \n",
    "}\n",
    "GROUP BY ?countryname\n",
    "ORDER BY DESC (COUNT(?p))\n",
    "LIMIT 3\n",
    "\"\"\"\n",
    "print(\"Results\")\n",
    "run_query(queryString)"
   ]
  },
  {
   "cell_type": "markdown",
   "id": "d0fe5c21-a15e-4499-a31b-3f4e10157ce3",
   "metadata": {},
   "source": [
    "5.3) We have to find the node of United States and Germany."
   ]
  },
  {
   "cell_type": "code",
   "execution_count": 84,
   "id": "9e6e5b6c-c85f-4734-a0a0-f46be664a6b2",
   "metadata": {},
   "outputs": [
    {
     "name": "stdout",
     "output_type": "stream",
     "text": [
      "Results\n",
      "[('o', 'http://www.wikidata.org/entity/Q30'), ('oname', 'United States of America')]\n",
      "[('o', 'http://www.wikidata.org/entity/Q19971019'), ('oname', 'United States of America')]\n",
      "[('o', 'http://www.wikidata.org/entity/Q99281400'), ('oname', 'United States of America')]\n"
     ]
    },
    {
     "data": {
      "text/plain": [
       "3"
      ]
     },
     "execution_count": 84,
     "metadata": {},
     "output_type": "execute_result"
    }
   ],
   "source": [
    "queryString = \"\"\"\n",
    "SELECT DISTINCT ?o ?oname\n",
    "WHERE { \n",
    "    ?p wdt:P17 ?o .\n",
    "    ?o <http://schema.org/name> ?oname\n",
    "    FILTER REGEX(?oname, '^United States of America$', 'i')\n",
    "    \n",
    "}\n",
    "\n",
    "\"\"\"\n",
    "print(\"Results\")\n",
    "run_query(queryString)"
   ]
  },
  {
   "cell_type": "markdown",
   "id": "0447a02b-bec3-4895-8836-25c515384964",
   "metadata": {},
   "source": [
    "I choose the one with code P30."
   ]
  },
  {
   "cell_type": "code",
   "execution_count": 83,
   "id": "054f85d5-6095-4fa8-b80a-e7fa732fce6a",
   "metadata": {},
   "outputs": [
    {
     "name": "stdout",
     "output_type": "stream",
     "text": [
      "Results\n",
      "[('o', 'http://www.wikidata.org/entity/Q183'), ('oname', 'Germany')]\n"
     ]
    },
    {
     "data": {
      "text/plain": [
       "1"
      ]
     },
     "execution_count": 83,
     "metadata": {},
     "output_type": "execute_result"
    }
   ],
   "source": [
    "queryString = \"\"\"\n",
    "SELECT DISTINCT ?o ?oname\n",
    "WHERE { \n",
    "    ?p wdt:P17 ?o .\n",
    "    ?o <http://schema.org/name> ?oname\n",
    "    FILTER REGEX(?oname, '^Germany$', 'i')\n",
    "    \n",
    "}\n",
    "\n",
    "\"\"\"\n",
    "print(\"Results\")\n",
    "run_query(queryString)"
   ]
  },
  {
   "cell_type": "markdown",
   "id": "1c8e91be-18a3-4b31-9b54-579be7f3b611",
   "metadata": {},
   "source": [
    "Here we find the treaties where there isn't USA and where there is Germany and return all the country that signed these treaties."
   ]
  },
  {
   "cell_type": "code",
   "execution_count": 95,
   "id": "a5d004ad-d93b-47b4-826a-97f9e4e2ff2e",
   "metadata": {},
   "outputs": [
    {
     "name": "stdout",
     "output_type": "stream",
     "text": [
      "Results\n",
      "[('countryname', 'Danish Realm')]\n",
      "[('countryname', 'Guinea')]\n",
      "[('countryname', 'Morocco')]\n",
      "[('countryname', 'Niger')]\n",
      "[('countryname', 'Senegal')]\n",
      "[('countryname', 'Seychelles')]\n",
      "[('countryname', 'Kenya')]\n",
      "[('countryname', 'France')]\n",
      "[('countryname', 'United Kingdom')]\n",
      "[('countryname', \"People's Republic of China\")]\n",
      "[('countryname', 'Brazil')]\n",
      "[('countryname', 'Russia')]\n",
      "[('countryname', 'Holy See')]\n",
      "[('countryname', 'Canada')]\n",
      "[('countryname', 'European Coal and Steel Community')]\n",
      "[('countryname', 'Japan')]\n"
     ]
    },
    {
     "data": {
      "text/plain": [
       "16"
      ]
     },
     "execution_count": 95,
     "metadata": {},
     "output_type": "execute_result"
    }
   ],
   "source": [
    "queryString = \"\"\"\n",
    "SELECT DISTINCT ?countryname\n",
    "WHERE { \n",
    "    ?p wdt:P31/wdt:P279* wd:Q131569 .\n",
    "    FILTER NOT EXISTS {?p wdt:P1891 wd:Q30}\n",
    "    FILTER EXISTS {?p wdt:P1891 wd:Q183}\n",
    "    ?p <http://schema.org/name> ?pname .\n",
    "    ?p wdt:P1891 ?country .\n",
    "    ?country <http://schema.org/name> ?countryname\n",
    "    \n",
    "}\n",
    "\n",
    "LIMIT 100\n",
    "\"\"\"\n",
    "print(\"Results\")\n",
    "run_query(queryString)"
   ]
  },
  {
   "cell_type": "code",
   "execution_count": null,
   "id": "66612d60-8dc8-467e-856f-f531af637224",
   "metadata": {},
   "outputs": [],
   "source": []
  }
 ],
 "metadata": {
  "kernelspec": {
   "display_name": "Python 3",
   "language": "python",
   "name": "python3"
  },
  "language_info": {
   "codemirror_mode": {
    "name": "ipython",
    "version": 3
   },
   "file_extension": ".py",
   "mimetype": "text/x-python",
   "name": "python",
   "nbconvert_exporter": "python",
   "pygments_lexer": "ipython3",
   "version": "3.7.10"
  }
 },
 "nbformat": 4,
 "nbformat_minor": 5
}
