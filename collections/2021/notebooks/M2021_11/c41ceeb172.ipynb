{
 "cells": [
  {
   "cell_type": "markdown",
   "id": "7034c3bf-6eb0-4418-8687-7b9d2a501103",
   "metadata": {},
   "source": [
    "# General instructions\n",
    "\n",
    "The goal of the project is to materialize a set of **exploratory workloads** over a real-world, large-scale,  open-domain KG: [WikiData](https://www.wikidata.org/wiki/Wikidata:Main_Page)\n",
    "\n",
    "An exploratory workload  is composed by a set of queries, where each query is related to the information obtained previously.\n",
    "\n",
    "An exploratory workload starts with a usually vague, open ended question, and does not assume the person issuing the workload has a clear understanding of the data contained in the target database or its structure.\n",
    "\n",
    "Remeber that:\n",
    "\n",
    "1. All the queries must run in the python notebook\n",
    "2. You can use classes and properties only if you find them via a SPARQL query that must be present in the notebook\n",
    "3. You do not delete useless queries. Keep everything that is synthatically valid \n",
    "\n",
    "```\n",
    "?p <http://schema.org/name> ?name .\n",
    "```\n",
    "    \n",
    "is the BGP returning a human-readable name of a property or a class in Wikidata.\n",
    "    \n",
    "    "
   ]
  },
  {
   "cell_type": "code",
   "execution_count": 3,
   "id": "3605c9d5-5371-49a5-be8d-d66e8f417139",
   "metadata": {},
   "outputs": [],
   "source": [
    "## SETUP used later\n",
    "\n",
    "from SPARQLWrapper import SPARQLWrapper, JSON\n",
    "\n",
    "\n",
    "prefixString = \"\"\"\n",
    "##-c41ceeb172-##\n",
    "PREFIX wd: <http://www.wikidata.org/entity/> \n",
    "PREFIX wdt: <http://www.wikidata.org/prop/direct/> \n",
    "PREFIX sc: <http://schema.org/>\n",
    "\"\"\"\n",
    "\n",
    "# select and construct queries\n",
    "def run_query(queryString):\n",
    "    to_run = prefixString + \"\\n\" + queryString\n",
    "\n",
    "    sparql = SPARQLWrapper(\"http://a256-gc1-02.srv.aau.dk:5820/sparql\")\n",
    "    sparql.setTimeout(300)\n",
    "    sparql.setReturnFormat(JSON)\n",
    "    sparql.setQuery(to_run)\n",
    "\n",
    "    try :\n",
    "       results = sparql.query()\n",
    "       json_results = results.convert()\n",
    "       if len(json_results['results']['bindings'])==0:\n",
    "          print(\"Empty\")\n",
    "          return 0\n",
    "    \n",
    "       for bindings in json_results['results']['bindings']:\n",
    "          print( [ (var, value['value'])  for var, value in bindings.items() ] )\n",
    "\n",
    "       return len(json_results['results']['bindings'])\n",
    "\n",
    "    except Exception as e :\n",
    "        print(\"The operation failed\", e)\n",
    "    \n",
    "# ASk queries\n",
    "def run_ask_query(queryString):\n",
    "    to_run = prefixString + \"\\n\" + queryString\n",
    "\n",
    "    sparql = SPARQLWrapper(\"http://a256-gc1-03.srv.aau.dk:5820/sparql\")\n",
    "    sparql.setTimeout(300)\n",
    "    sparql.setReturnFormat(JSON)\n",
    "    sparql.setQuery(to_run)\n",
    "\n",
    "    try :\n",
    "        return sparql.query().convert()\n",
    "\n",
    "    except Exception as e :\n",
    "        print(\"The operation failed\", e)\n"
   ]
  },
  {
   "cell_type": "markdown",
   "id": "d477a59c-a68c-4c8f-9f97-8ca5294d7d27",
   "metadata": {},
   "source": [
    "# Sport Workflow Series (\"World Records explorative search\") \n",
    "\n",
    "Consider the following exploratory information need:\n",
    "\n",
    "> compile a list of athletes that held world records across some disciplines"
   ]
  },
  {
   "cell_type": "markdown",
   "id": "4a45c0ba-f79e-441d-bec5-84401b09db70",
   "metadata": {},
   "source": [
    "## Useful URIs for the current workflow\n",
    "\n",
    "\n",
    "The following are given:\n",
    "\n",
    "| IRI           | Description   | Role      |\n",
    "| -----------   | -----------   |-----------|\n",
    "| `wdt:P1647`   | subproperty   | predicate |\n",
    "| `wdt:P31`     | instance of   | predicate |\n",
    "| `wdt:P106`    | profession    | predicate | \n",
    "| `wdt:P279`    | subclass      | predicate |\n",
    "| `wdt:P27`     | nationality   | predicate |\n",
    "| `wd:Q1189`    | Usain Bolt    | node      |\n",
    "| `wd:Q766`     | Jamaica       | node |\n",
    "| `wd:Q688615`  | World Record  | node |\n",
    "| `wd:Q542`     | athletics     | node |\n",
    "\n",
    "\n",
    "\n",
    "Also consider\n",
    "\n",
    "```\n",
    "?a wdt:P106/wdt:P279 wd:Q2066131\n",
    "```\n",
    "\n",
    "is the BGP to retrieve all instances of **athlete**\n",
    "\n",
    "```\n",
    "?a wdt:P279 wd:Q688615\n",
    "```\n",
    "\n",
    "is the BGP to retrieve the types of **world records**\n"
   ]
  },
  {
   "cell_type": "markdown",
   "id": "7af439fb-96e4-4dbb-a381-f19afab79f86",
   "metadata": {
    "tags": []
   },
   "source": [
    "## Workload Goals\n",
    "\n",
    "1. Identify the BGP for detaining a world record\n",
    "\n",
    "2. Identify the BGP for the types of competitions in which a world record is classified\n",
    "\n",
    "3. How many world records are held by Italian athletes\n",
    "\n",
    "4. Compare number of world records held across different dimensions\n",
    " \n",
    "   4.1 In which specific sport France has the most world records\n",
    "   \n",
    "   4.2 How many world records are held across genders\n",
    "   \n",
    "   4.3 Which sport has the highest number of world records\n"
   ]
  },
  {
   "cell_type": "markdown",
   "id": "94b1f86a-26aa-4c55-8617-e340eb637b30",
   "metadata": {},
   "source": [
    "1) here we have the property of a person that held a record."
   ]
  },
  {
   "cell_type": "code",
   "execution_count": 12,
   "id": "ade01416-92e7-4ad7-b9a9-b8fb330750dc",
   "metadata": {},
   "outputs": [
    {
     "name": "stdout",
     "output_type": "stream",
     "text": [
      "Results\n",
      "[('p', 'http://www.wikidata.org/prop/direct/P1000'), ('pname', 'record held')]\n"
     ]
    },
    {
     "data": {
      "text/plain": [
       "1"
      ]
     },
     "execution_count": 12,
     "metadata": {},
     "output_type": "execute_result"
    }
   ],
   "source": [
    "queryString = \"\"\"\n",
    "SELECT DISTINCT ?p ?pname\n",
    "WHERE{\n",
    "    wd:Q1189 ?p ?o .\n",
    "    ?p <http://schema.org/name> ?pname \n",
    "    FILTER REGEX(?pname, 'record', 'i')\n",
    "    }\n",
    "LIMIT 50\n",
    "\"\"\"\n",
    "\n",
    "print(\"Results\")\n",
    "run_query(queryString)"
   ]
  },
  {
   "cell_type": "markdown",
   "id": "27f1270a-99a4-4dbe-b0be-8d63230df0de",
   "metadata": {},
   "source": [
    "For exemple here we have the records of Usain Bolt."
   ]
  },
  {
   "cell_type": "code",
   "execution_count": 8,
   "id": "e9af00ea-8ab0-4fbf-999f-c114ac6c4e41",
   "metadata": {},
   "outputs": [
    {
     "name": "stdout",
     "output_type": "stream",
     "text": [
      "Results\n",
      "[('o', 'http://www.wikidata.org/entity/Q1066353'), ('oname', \"Men's 100 metres world record progression\")]\n",
      "[('o', 'http://www.wikidata.org/entity/Q1053804'), ('oname', \"Men's 4 × 100 metres relay world record progression\")]\n",
      "[('o', 'http://www.wikidata.org/entity/Q1187829'), ('oname', \"men's 200 metres world record progression\")]\n"
     ]
    },
    {
     "data": {
      "text/plain": [
       "3"
      ]
     },
     "execution_count": 8,
     "metadata": {},
     "output_type": "execute_result"
    }
   ],
   "source": [
    "queryString = \"\"\"\n",
    "SELECT DISTINCT ?o ?oname\n",
    "WHERE{\n",
    "    wd:Q1189 wdt:P1000 ?o .\n",
    "    ?o <http://schema.org/name> ?oname \n",
    "    }\n",
    "LIMIT 50\n",
    "\"\"\"\n",
    "\n",
    "print(\"Results\")\n",
    "run_query(queryString)"
   ]
  },
  {
   "cell_type": "markdown",
   "id": "d6ab7877-5882-469e-9e51-324ee61bcf28",
   "metadata": {},
   "source": [
    "2) Here there are all the types of World Records."
   ]
  },
  {
   "cell_type": "code",
   "execution_count": 13,
   "id": "cf9dffd7-767b-4a98-8f7b-c6175fc42461",
   "metadata": {},
   "outputs": [
    {
     "name": "stdout",
     "output_type": "stream",
     "text": [
      "Results\n",
      "[('a', 'http://www.wikidata.org/entity/Q1066353'), ('aname', \"Men's 100 metres world record progression\")]\n",
      "[('a', 'http://www.wikidata.org/entity/Q3240929'), ('aname', 'largest known prime number')]\n",
      "[('a', 'http://www.wikidata.org/entity/Q24033838'), ('aname', \"women's world record\")]\n",
      "[('a', 'http://www.wikidata.org/entity/Q24033834'), ('aname', \"men's world record\")]\n",
      "[('a', 'http://www.wikidata.org/entity/Q24255295'), ('aname', 'junior world record')]\n",
      "[('a', 'http://www.wikidata.org/entity/Q23580887'), ('aname', 'highest temperature recorded on Earth')]\n",
      "[('a', 'http://www.wikidata.org/entity/Q16883666'), ('aname', 'speed record')]\n",
      "[('a', 'http://www.wikidata.org/entity/Q69907823'), ('aname', 'world best time')]\n",
      "[('a', 'http://www.wikidata.org/entity/Q3422413'), ('aname', \"Women's 100 metres hurdles world record progression\")]\n",
      "[('a', 'http://www.wikidata.org/entity/Q1136298'), ('aname', \"Men's 110 metres hurdles world record progression\")]\n",
      "[('a', 'http://www.wikidata.org/entity/Q4698565'), ('aname', 'Aircraft records')]\n",
      "[('a', 'http://www.wikidata.org/entity/Q3922811'), ('aname', 'athletics records')]\n",
      "[('a', 'http://www.wikidata.org/entity/Q6815945'), ('aname', \"Men's 20 kilometres walk world record progression\")]\n"
     ]
    },
    {
     "data": {
      "text/plain": [
       "13"
      ]
     },
     "execution_count": 13,
     "metadata": {},
     "output_type": "execute_result"
    }
   ],
   "source": [
    "queryString = \"\"\"\n",
    "SELECT DISTINCT ?a ?aname\n",
    "WHERE{\n",
    "    ?a wdt:P279 wd:Q688615 .\n",
    "    ?a <http://schema.org/name> ?aname \n",
    "    }\n",
    "LIMIT 50\n",
    "\"\"\"\n",
    "\n",
    "print(\"Results\")\n",
    "run_query(queryString)"
   ]
  },
  {
   "cell_type": "code",
   "execution_count": 14,
   "id": "b9670402-f275-440b-be88-6683fcc58ee7",
   "metadata": {},
   "outputs": [
    {
     "name": "stdout",
     "output_type": "stream",
     "text": [
      "Results\n",
      "[('p', 'http://www.wikidata.org/prop/direct/P1552'), ('pname', 'has quality')]\n",
      "[('p', 'http://www.wikidata.org/prop/direct/P166'), ('pname', 'award received')]\n",
      "[('p', 'http://www.wikidata.org/prop/direct/P1889'), ('pname', 'different from')]\n",
      "[('p', 'http://www.wikidata.org/prop/direct/P264'), ('pname', 'record label')]\n",
      "[('p', 'http://www.wikidata.org/prop/direct/P279'), ('pname', 'subclass of')]\n",
      "[('p', 'http://www.wikidata.org/prop/direct/P301'), ('pname', \"category's main topic\")]\n",
      "[('p', 'http://www.wikidata.org/prop/direct/P31'), ('pname', 'instance of')]\n",
      "[('p', 'http://www.wikidata.org/prop/direct/P360'), ('pname', 'is a list of')]\n",
      "[('p', 'http://www.wikidata.org/prop/direct/P460'), ('pname', 'said to be the same as')]\n",
      "[('p', 'http://www.wikidata.org/prop/direct/P793'), ('pname', 'significant event')]\n",
      "[('p', 'http://www.wikidata.org/prop/direct/P921'), ('pname', 'main subject')]\n"
     ]
    },
    {
     "data": {
      "text/plain": [
       "11"
      ]
     },
     "execution_count": 14,
     "metadata": {},
     "output_type": "execute_result"
    }
   ],
   "source": [
    "queryString = \"\"\"\n",
    "SELECT DISTINCT ?p ?pname\n",
    "WHERE{\n",
    "    ?a ?p wd:Q688615 .\n",
    "    ?p <http://schema.org/name> ?pname \n",
    "    }\n",
    "LIMIT 50\n",
    "\"\"\"\n",
    "\n",
    "print(\"Results\")\n",
    "run_query(queryString)"
   ]
  },
  {
   "cell_type": "code",
   "execution_count": 15,
   "id": "89482367-8e16-4eb0-9ae6-10dcff0145e6",
   "metadata": {},
   "outputs": [
    {
     "name": "stdout",
     "output_type": "stream",
     "text": [
      "Results\n",
      "[('p', 'http://www.wikidata.org/prop/direct/P279'), ('pname', 'subclass of')]\n",
      "[('p', 'http://www.wikidata.org/prop/direct/P2910'), ('pname', 'icon')]\n",
      "[('p', 'http://www.wikidata.org/prop/direct/P31'), ('pname', 'instance of')]\n",
      "[('p', 'http://www.wikidata.org/prop/direct/P3417'), ('pname', 'Quora topic ID')]\n",
      "[('p', 'http://www.wikidata.org/prop/direct/P3553'), ('pname', 'Zhihu topic ID')]\n",
      "[('p', 'http://www.wikidata.org/prop/direct/P373'), ('pname', 'Commons category')]\n",
      "[('p', 'http://www.wikidata.org/prop/direct/P460'), ('pname', 'said to be the same as')]\n",
      "[('p', 'http://www.wikidata.org/prop/direct/P646'), ('pname', 'Freebase ID')]\n",
      "[('p', 'http://www.wikidata.org/prop/direct/P8408'), ('pname', 'KBpedia ID')]\n",
      "[('p', 'http://www.wikidata.org/prop/direct/P910'), ('pname', \"topic's main category\")]\n"
     ]
    },
    {
     "data": {
      "text/plain": [
       "10"
      ]
     },
     "execution_count": 15,
     "metadata": {},
     "output_type": "execute_result"
    }
   ],
   "source": [
    "queryString = \"\"\"\n",
    "SELECT DISTINCT ?p ?pname\n",
    "WHERE{\n",
    "    wd:Q688615 ?p ?a .\n",
    "    ?p <http://schema.org/name> ?pname \n",
    "    }\n",
    "LIMIT 50\n",
    "\"\"\"\n",
    "\n",
    "print(\"Results\")\n",
    "run_query(queryString)"
   ]
  },
  {
   "cell_type": "markdown",
   "id": "9f72d4c1-1955-4efc-9c61-4cf61add6eb3",
   "metadata": {},
   "source": [
    "3) First of all we search for all the italians athletes."
   ]
  },
  {
   "cell_type": "code",
   "execution_count": 20,
   "id": "fe6975e2-99a2-432c-bfe4-520a37255ea2",
   "metadata": {},
   "outputs": [
    {
     "name": "stdout",
     "output_type": "stream",
     "text": [
      "Results\n",
      "[('a', 'http://www.wikidata.org/entity/Q96754211'), ('aname', 'Cristina Tartarone'), ('nationality', 'Italy')]\n",
      "[('a', 'http://www.wikidata.org/entity/Q16531085'), ('aname', 'Barbara Masi'), ('nationality', 'Italy')]\n",
      "[('a', 'http://www.wikidata.org/entity/Q3845091'), ('aname', 'Manuela Manetta'), ('nationality', 'Italy')]\n",
      "[('a', 'http://www.wikidata.org/entity/Q80350481'), ('aname', 'Andrea Capella'), ('nationality', 'Italy')]\n",
      "[('a', 'http://www.wikidata.org/entity/Q3703498'), ('aname', 'Davide Bianchetti'), ('nationality', 'Italy')]\n",
      "[('a', 'http://www.wikidata.org/entity/Q50044720'), ('aname', 'Yuri Farneti'), ('nationality', 'Italy')]\n",
      "[('a', 'http://www.wikidata.org/entity/Q80354752'), ('aname', 'Francesco Busi'), ('nationality', 'Italy')]\n",
      "[('a', 'http://www.wikidata.org/entity/Q477499'), ('aname', 'Amr Swelim'), ('nationality', 'Italy')]\n",
      "[('a', 'http://www.wikidata.org/entity/Q80350503'), ('aname', 'Josè Facchini'), ('nationality', 'Italy')]\n",
      "[('a', 'http://www.wikidata.org/entity/Q81705416'), ('aname', 'Monica Menegozzi'), ('nationality', 'Italy')]\n",
      "[('a', 'http://www.wikidata.org/entity/Q23063413'), ('aname', 'Marcus Berrett'), ('nationality', 'Italy')]\n",
      "[('a', 'http://www.wikidata.org/entity/Q18224369'), ('aname', 'Elisabetta Priante'), ('nationality', 'Italy')]\n",
      "[('a', 'http://www.wikidata.org/entity/Q16217294'), ('aname', 'Stéphane Galifi'), ('nationality', 'Italy')]\n",
      "[('a', 'http://www.wikidata.org/entity/Q80355947'), ('aname', 'Sonia Pasteris'), ('nationality', 'Italy')]\n",
      "[('a', 'http://www.wikidata.org/entity/Q80350437'), ('aname', 'Andrea Torricini'), ('nationality', 'Italy')]\n",
      "[('a', 'http://www.wikidata.org/entity/Q80354629'), ('aname', 'Luca Mastrostefano'), ('nationality', 'Italy')]\n",
      "[('a', 'http://www.wikidata.org/entity/Q80354820'), ('aname', 'Simone Rocca'), ('nationality', 'Italy')]\n",
      "[('a', 'http://www.wikidata.org/entity/Q101251382'), ('aname', 'Eleonora Marchetti'), ('nationality', 'Italy')]\n",
      "[('a', 'http://www.wikidata.org/entity/Q4762932'), ('aname', 'Angelo Pedroni'), ('nationality', 'Italy')]\n",
      "[('a', 'http://www.wikidata.org/entity/Q30904977'), ('aname', 'Roberto Colazingari'), ('nationality', 'Italy')]\n"
     ]
    },
    {
     "data": {
      "text/plain": [
       "20"
      ]
     },
     "execution_count": 20,
     "metadata": {},
     "output_type": "execute_result"
    }
   ],
   "source": [
    "queryString = \"\"\"\n",
    "SELECT DISTINCT ?a ?aname ?nationality\n",
    "WHERE{\n",
    "     ?a wdt:P106/wdt:P279 wd:Q2066131 .\n",
    "     ?a <http://schema.org/name> ?aname .\n",
    "     ?a wdt:P27 ?n .\n",
    "     ?n <http://schema.org/name> ?nationality \n",
    "     FILTER REGEX(?nationality, 'italy|italian', 'i')\n",
    "    }\n",
    "LIMIT 20\n",
    "\"\"\"\n",
    "\n",
    "print(\"Results\")\n",
    "run_query(queryString)"
   ]
  },
  {
   "cell_type": "markdown",
   "id": "dd0fac63-2196-420e-8ecf-ceefb71efede",
   "metadata": {},
   "source": [
    "Now let's check the record held by this athletes."
   ]
  },
  {
   "cell_type": "code",
   "execution_count": 26,
   "id": "d2e4ea69-d27b-4adf-984c-18b77356c774",
   "metadata": {},
   "outputs": [
    {
     "name": "stdout",
     "output_type": "stream",
     "text": [
      "Results\n",
      "[('a', 'http://www.wikidata.org/entity/Q17609944'), ('aname', 'Angela Ramello'), ('nationality', 'Kingdom of Italy'), ('recordname', 'Italian records in athletics')]\n",
      "[('a', 'http://www.wikidata.org/entity/Q5442'), ('aname', 'Sara Simeoni'), ('nationality', 'Italy'), ('recordname', 'Italian records in athletics')]\n",
      "[('a', 'http://www.wikidata.org/entity/Q5442'), ('aname', 'Sara Simeoni'), ('nationality', 'Italy'), ('recordname', \"Men's high jump world record progression\")]\n",
      "[('a', 'http://www.wikidata.org/entity/Q5444'), ('aname', 'Pietro Mennea'), ('nationality', 'Italy'), ('recordname', \"men's 200 metres world record progression\")]\n",
      "[('a', 'http://www.wikidata.org/entity/Q5444'), ('aname', 'Pietro Mennea'), ('nationality', 'Italy'), ('recordname', \"Men's 200 metres European record progression\")]\n",
      "[('a', 'http://www.wikidata.org/entity/Q25366209'), ('aname', 'Marcell Jacobs'), ('nationality', 'Italy'), ('recordname', 'Italian records in athletics')]\n",
      "[('a', 'http://www.wikidata.org/entity/Q25366209'), ('aname', 'Marcell Jacobs'), ('nationality', 'Italy'), ('recordname', 'List of European records in athletics')]\n",
      "[('a', 'http://www.wikidata.org/entity/Q5450'), ('aname', 'Antonietta Di Martino'), ('nationality', 'Italy'), ('recordname', 'Italian records in athletics')]\n",
      "[('a', 'http://www.wikidata.org/entity/Q1343248'), ('aname', 'Salvatore Morale'), ('nationality', 'Italy'), ('recordname', \"Men's 400 metres hurdles world record progression\")]\n",
      "[('a', 'http://www.wikidata.org/entity/Q17609944'), ('aname', 'Angela Ramello'), ('nationality', 'Italy'), ('recordname', 'Italian records in athletics')]\n",
      "[('a', 'http://www.wikidata.org/entity/Q77091742'), ('aname', 'Lorenzo Mora'), ('nationality', 'Italy'), ('recordname', '200 metres backstroke')]\n"
     ]
    },
    {
     "data": {
      "text/plain": [
       "11"
      ]
     },
     "execution_count": 26,
     "metadata": {},
     "output_type": "execute_result"
    }
   ],
   "source": [
    "queryString = \"\"\"\n",
    "SELECT DISTINCT ?a ?aname ?nationality ?recordname\n",
    "WHERE{\n",
    "     ?a wdt:P106/wdt:P279 wd:Q2066131 .\n",
    "     ?a <http://schema.org/name> ?aname .\n",
    "     ?a wdt:P27 ?n .\n",
    "     ?a wdt:P1000 ?record .\n",
    "     ?record <http://schema.org/name> ?recordname .\n",
    "     ?n <http://schema.org/name> ?nationality \n",
    "     FILTER REGEX(?nationality, 'italy|italian', 'i')\n",
    "    }\n",
    "LIMIT 20\n",
    "\"\"\"\n",
    "\n",
    "print(\"Results\")\n",
    "run_query(queryString)"
   ]
  },
  {
   "cell_type": "code",
   "execution_count": 27,
   "id": "f6b0da95-dcb8-45d2-a6be-a725b67bf3c3",
   "metadata": {},
   "outputs": [
    {
     "name": "stdout",
     "output_type": "stream",
     "text": [
      "Results\n",
      "[('a', 'http://www.wikidata.org/entity/Q1343248'), ('aname', 'Salvatore Morale'), ('nationality', 'Italy'), ('recordname', \"Men's 400 metres hurdles world record progression\")]\n"
     ]
    },
    {
     "data": {
      "text/plain": [
       "1"
      ]
     },
     "execution_count": 27,
     "metadata": {},
     "output_type": "execute_result"
    }
   ],
   "source": [
    "queryString = \"\"\"\n",
    "SELECT DISTINCT ?a ?aname ?nationality ?recordname\n",
    "WHERE{\n",
    "     ?a wdt:P106/wdt:P279 wd:Q2066131 .\n",
    "     ?a <http://schema.org/name> ?aname .\n",
    "     ?a wdt:P27 ?n .\n",
    "     ?a wdt:P1000 ?record .\n",
    "     ?record wdt:P31 wd:Q688615 .\n",
    "     ?record <http://schema.org/name> ?recordname .\n",
    "     ?n <http://schema.org/name> ?nationality \n",
    "     FILTER REGEX(?nationality, 'italy|italian', 'i')\n",
    "    }\n",
    "LIMIT 20\n",
    "\"\"\"\n",
    "\n",
    "print(\"Results\")\n",
    "run_query(queryString)"
   ]
  },
  {
   "cell_type": "markdown",
   "id": "9d99b77c-30b1-45f9-bb65-ff098b19f1d2",
   "metadata": {},
   "source": [
    "As we can see now only one italian held a world record."
   ]
  },
  {
   "cell_type": "markdown",
   "id": "ca6634be-44e8-46dd-a7eb-e850157e6521",
   "metadata": {},
   "source": [
    "4.1) We retrieve the world records of french athletes."
   ]
  },
  {
   "cell_type": "code",
   "execution_count": 30,
   "id": "d9f9e4d7-a55f-4f19-b066-b5279896fd6b",
   "metadata": {},
   "outputs": [
    {
     "name": "stdout",
     "output_type": "stream",
     "text": [
      "Results\n",
      "[('a', 'http://www.wikidata.org/entity/Q3195752'), ('aname', 'Kevin Mayer'), ('nationality', 'France'), ('recordname', 'decathlon world record progression')]\n",
      "[('a', 'http://www.wikidata.org/entity/Q937648'), ('aname', 'Jimmy Vicaut'), ('nationality', 'France'), ('recordname', '100 metres')]\n",
      "[('a', 'http://www.wikidata.org/entity/Q64864060'), ('aname', 'Clarisse Crémer'), ('nationality', 'France'), ('recordname', 'Around the world sailing record')]\n",
      "[('a', 'http://www.wikidata.org/entity/Q433694'), ('aname', 'Marie Collonvillé'), ('nationality', 'France'), ('recordname', 'decathlon world record progression')]\n",
      "[('a', 'http://www.wikidata.org/entity/Q1081443'), ('aname', 'Christian Plaziat'), ('nationality', 'France'), ('recordname', \"Women's heptathlon world record progression\")]\n",
      "[('a', 'http://www.wikidata.org/entity/Q65065390'), ('aname', 'Sasha Zhoya'), ('nationality', 'France'), ('recordname', 'list of world junior records in athletics')]\n",
      "[('a', 'http://www.wikidata.org/entity/Q233273'), ('aname', 'Christine Arron'), ('nationality', 'France'), ('recordname', '100 metres')]\n"
     ]
    },
    {
     "data": {
      "text/plain": [
       "7"
      ]
     },
     "execution_count": 30,
     "metadata": {},
     "output_type": "execute_result"
    }
   ],
   "source": [
    "queryString = \"\"\"\n",
    "SELECT ?a ?aname ?nationality ?recordname\n",
    "WHERE{\n",
    "     ?a wdt:P106/wdt:P279 wd:Q2066131 .\n",
    "     ?a <http://schema.org/name> ?aname .\n",
    "     ?a wdt:P27 ?n .\n",
    "     ?a wdt:P1000 ?record .\n",
    "     ?record <http://schema.org/name> ?recordname .\n",
    "     ?n <http://schema.org/name> ?nationality \n",
    "     FILTER REGEX(?nationality, 'fr|france', 'i')\n",
    "    }\n",
    "LIMIT 20\n",
    "\"\"\"\n",
    "\n",
    "print(\"Results\")\n",
    "run_query(queryString)"
   ]
  },
  {
   "cell_type": "code",
   "execution_count": 50,
   "id": "31ce0c0c-65d9-4630-871f-a411c1f7f673",
   "metadata": {},
   "outputs": [
    {
     "name": "stdout",
     "output_type": "stream",
     "text": [
      "Results\n",
      "[('a', 'http://www.wikidata.org/entity/Q2935075'), ('aname', 'Camille Serme'), ('nationality', 'France'), ('n', 'http://www.wikidata.org/entity/Q142')]\n",
      "[('a', 'http://www.wikidata.org/entity/Q908632'), ('aname', 'Grégory Gaultier'), ('nationality', 'France'), ('n', 'http://www.wikidata.org/entity/Q142')]\n",
      "[('a', 'http://www.wikidata.org/entity/Q16745166'), ('aname', 'Christophe André'), ('nationality', 'France'), ('n', 'http://www.wikidata.org/entity/Q142')]\n",
      "[('a', 'http://www.wikidata.org/entity/Q1067657'), ('aname', 'Thierry Lincou'), ('nationality', 'France'), ('n', 'http://www.wikidata.org/entity/Q142')]\n",
      "[('a', 'http://www.wikidata.org/entity/Q3388824'), ('aname', 'Grégoire Marche'), ('nationality', 'France'), ('n', 'http://www.wikidata.org/entity/Q142')]\n",
      "[('a', 'http://www.wikidata.org/entity/Q51115788'), ('aname', 'Vincent Droesbeke'), ('nationality', 'France'), ('n', 'http://www.wikidata.org/entity/Q142')]\n",
      "[('a', 'http://www.wikidata.org/entity/Q3155042'), ('aname', 'Isabelle Stoehr'), ('nationality', 'France'), ('n', 'http://www.wikidata.org/entity/Q142')]\n",
      "[('a', 'http://www.wikidata.org/entity/Q49725700'), ('aname', 'Charlotte Delsinne'), ('nationality', 'France'), ('n', 'http://www.wikidata.org/entity/Q142')]\n",
      "[('a', 'http://www.wikidata.org/entity/Q104670987'), ('aname', 'Catherine Lebossé'), ('nationality', 'France'), ('n', 'http://www.wikidata.org/entity/Q142')]\n",
      "[('a', 'http://www.wikidata.org/entity/Q15820890'), ('aname', 'Jean-Michel Arcucci'), ('nationality', 'France'), ('n', 'http://www.wikidata.org/entity/Q142')]\n",
      "[('a', 'http://www.wikidata.org/entity/Q3460802'), ('aname', 'Mathieu Castagnet'), ('nationality', 'France'), ('n', 'http://www.wikidata.org/entity/Q142')]\n",
      "[('a', 'http://www.wikidata.org/entity/Q3460814'), ('aname', 'Julien Balbo'), ('nationality', 'France'), ('n', 'http://www.wikidata.org/entity/Q142')]\n",
      "[('a', 'http://www.wikidata.org/entity/Q6499323'), ('aname', 'Laura Pomportes'), ('nationality', 'France'), ('n', 'http://www.wikidata.org/entity/Q142')]\n",
      "[('a', 'http://www.wikidata.org/entity/Q45179240'), ('aname', 'Auguste Dussourd'), ('nationality', 'France'), ('n', 'http://www.wikidata.org/entity/Q142')]\n",
      "[('a', 'http://www.wikidata.org/entity/Q45179231'), ('aname', 'Baptiste Masotti'), ('nationality', 'France'), ('n', 'http://www.wikidata.org/entity/Q142')]\n",
      "[('a', 'http://www.wikidata.org/entity/Q50139924'), ('aname', 'Anna Serme'), ('nationality', 'France'), ('n', 'http://www.wikidata.org/entity/Q142')]\n",
      "[('a', 'http://www.wikidata.org/entity/Q6696313'), ('aname', 'Lucas Serme'), ('nationality', 'France'), ('n', 'http://www.wikidata.org/entity/Q142')]\n",
      "[('a', 'http://www.wikidata.org/entity/Q56043769'), ('aname', 'Enzo Corigliano'), ('nationality', 'France'), ('n', 'http://www.wikidata.org/entity/Q142')]\n",
      "[('a', 'http://www.wikidata.org/entity/Q106255907'), ('aname', 'Adrien Grondin'), ('nationality', 'France'), ('n', 'http://www.wikidata.org/entity/Q142')]\n",
      "[('a', 'http://www.wikidata.org/entity/Q107023290'), ('aname', 'Yuna Loaëc'), ('nationality', 'France'), ('n', 'http://www.wikidata.org/entity/Q142')]\n"
     ]
    },
    {
     "data": {
      "text/plain": [
       "20"
      ]
     },
     "execution_count": 50,
     "metadata": {},
     "output_type": "execute_result"
    }
   ],
   "source": [
    "queryString = \"\"\"\n",
    "SELECT DISTINCT ?a ?aname ?nationality ?n\n",
    "WHERE{\n",
    "     ?a wdt:P106/wdt:P279 wd:Q2066131 .\n",
    "     ?a <http://schema.org/name> ?aname .\n",
    "     ?a wdt:P27 ?n .\n",
    "     ?n <http://schema.org/name> ?nationality \n",
    "     FILTER REGEX(?nationality, 'france|french', 'i')\n",
    "    }\n",
    "LIMIT 20\n",
    "\"\"\"\n",
    "\n",
    "print(\"Results\")\n",
    "run_query(queryString)"
   ]
  },
  {
   "cell_type": "code",
   "execution_count": 44,
   "id": "444d2b09-b180-4a27-9832-da9da564c692",
   "metadata": {},
   "outputs": [
    {
     "name": "stdout",
     "output_type": "stream",
     "text": [
      "Results\n",
      "[('a', 'http://www.wikidata.org/entity/Q3195752'), ('aname', 'Kevin Mayer'), ('recordname', 'decathlon world record progression'), ('record', 'http://www.wikidata.org/entity/Q1139195')]\n",
      "[('a', 'http://www.wikidata.org/entity/Q433694'), ('aname', 'Marie Collonvillé'), ('recordname', 'decathlon world record progression'), ('record', 'http://www.wikidata.org/entity/Q1139195')]\n",
      "[('a', 'http://www.wikidata.org/entity/Q1081443'), ('aname', 'Christian Plaziat'), ('recordname', \"Women's heptathlon world record progression\"), ('record', 'http://www.wikidata.org/entity/Q83573')]\n"
     ]
    },
    {
     "data": {
      "text/plain": [
       "3"
      ]
     },
     "execution_count": 44,
     "metadata": {},
     "output_type": "execute_result"
    }
   ],
   "source": [
    "queryString = \"\"\"\n",
    "SELECT ?a ?aname ?recordname ?record\n",
    "WHERE{\n",
    "     ?a wdt:P106/wdt:P279 wd:Q2066131 .\n",
    "     ?a <http://schema.org/name> ?aname .\n",
    "     ?a wdt:P27 wd:Q142 .\n",
    "     ?a wdt:P1000 ?record .\n",
    "     ?record wdt:P31 wd:Q688615 .\n",
    "     ?record <http://schema.org/name> ?recordname \n",
    "    }\n",
    "LIMIT 20\n",
    "\"\"\"\n",
    "\n",
    "print(\"Results\")\n",
    "run_query(queryString)"
   ]
  },
  {
   "cell_type": "markdown",
   "id": "45eb4d36-1cb6-4e64-bc72-b75ef5d3a9bb",
   "metadata": {},
   "source": [
    "We can see that France has 2 world records in 'decathlon world record progression' (Q1139195)."
   ]
  },
  {
   "cell_type": "code",
   "execution_count": 46,
   "id": "7dbc4a96-fd26-40c7-acdb-3d084f61f51d",
   "metadata": {},
   "outputs": [
    {
     "name": "stdout",
     "output_type": "stream",
     "text": [
      "Results\n",
      "[('numberofrecords', '2'), ('recordname', 'decathlon world record progression')]\n",
      "[('numberofrecords', '1'), ('recordname', \"Women's heptathlon world record progression\")]\n"
     ]
    },
    {
     "data": {
      "text/plain": [
       "2"
      ]
     },
     "execution_count": 46,
     "metadata": {},
     "output_type": "execute_result"
    }
   ],
   "source": [
    "queryString = \"\"\"\n",
    "SELECT COUNT(?aname) as ?numberofrecords ?recordname \n",
    "WHERE{\n",
    "     ?a wdt:P106/wdt:P279 wd:Q2066131 .\n",
    "     ?a <http://schema.org/name> ?aname .\n",
    "     ?a wdt:P27 wd:Q142 .\n",
    "     ?a wdt:P1000 ?record .\n",
    "     ?record wdt:P31 wd:Q688615 .\n",
    "     ?record <http://schema.org/name> ?recordname \n",
    "    }\n",
    "GROUP BY ?recordname\n",
    "LIMIT 20\n",
    "\"\"\"\n",
    "\n",
    "print(\"Results\")\n",
    "run_query(queryString)"
   ]
  },
  {
   "cell_type": "markdown",
   "id": "2c220045-791a-45b0-b63c-26d5a44715ae",
   "metadata": {},
   "source": [
    "4.2) We have to retrieve all the athletes with a world record."
   ]
  },
  {
   "cell_type": "code",
   "execution_count": 52,
   "id": "0a60bcce-82be-4610-8aec-b692c38972f4",
   "metadata": {},
   "outputs": [
    {
     "name": "stdout",
     "output_type": "stream",
     "text": [
      "Results\n",
      "[('aname', 'Cate Campbell'), ('recordname', 'World record progression 4 × 100 metres freestyle relay')]\n",
      "[('aname', 'Kang Chae-young'), ('recordname', 'list of Olympic records in archery')]\n",
      "[('aname', 'Pavel Maslák'), ('recordname', 'Czech records in athletics')]\n",
      "[('aname', 'Mykola Avilov'), ('recordname', 'decathlon world record progression')]\n",
      "[('aname', 'Rafer Johnson'), ('recordname', 'decathlon world record progression')]\n",
      "[('aname', 'David Hemery'), ('recordname', \"Men's 400 metres hurdles world record progression\")]\n",
      "[('aname', 'Caitlyn Jenner'), ('recordname', 'decathlon world record progression')]\n",
      "[('aname', 'Daley Thompson'), ('recordname', 'decathlon world record progression')]\n",
      "[('aname', 'Julien Saelens'), ('recordname', 'Belgian records in athletics')]\n",
      "[('aname', 'Colin Jackson'), ('recordname', '60 metres hurdles world record progression')]\n",
      "[('aname', 'Akilles Järvinen'), ('recordname', 'decathlon world record progression')]\n",
      "[('aname', 'Yang Chuan-kwang'), ('recordname', 'decathlon world record progression')]\n",
      "[('aname', 'Arne Borg'), ('recordname', 'World record progression 1500 metres freestyle')]\n",
      "[('aname', 'Arne Borg'), ('recordname', 'World record progression 800 metres freestyle')]\n",
      "[('aname', 'Arne Borg'), ('recordname', 'World record progression 400 metres freestyle')]\n",
      "[('aname', 'Tomáš Dvořák'), ('recordname', 'decathlon world record progression')]\n",
      "[('aname', 'Luguelín Santos'), ('recordname', 'Dominican records in athletics')]\n",
      "[('aname', 'David Rudisha'), ('recordname', 'List of world records in athletics')]\n",
      "[('aname', 'Bronte Campbell'), ('recordname', 'World record progression 4 × 100 metres freestyle relay')]\n",
      "[('aname', 'Kenenisa Bekele Beyecha'), ('recordname', '5000 metres')]\n"
     ]
    },
    {
     "data": {
      "text/plain": [
       "20"
      ]
     },
     "execution_count": 52,
     "metadata": {},
     "output_type": "execute_result"
    }
   ],
   "source": [
    "queryString = \"\"\"\n",
    "SELECT DISTINCT ?aname ?recordname\n",
    "WHERE{\n",
    "     ?a wdt:P106/wdt:P279 wd:Q2066131 .\n",
    "     ?a wdt:P1000 ?record .\n",
    "     ?a <http://schema.org/name> ?aname .\n",
    "     ?record <http://schema.org/name> ?recordname\n",
    "     \n",
    "    }\n",
    "LIMIT 20\n",
    "\"\"\"\n",
    "\n",
    "print(\"Results\")\n",
    "run_query(queryString)"
   ]
  },
  {
   "cell_type": "markdown",
   "id": "306829fb-5eb7-4b4a-b5d7-db3f22490e2c",
   "metadata": {},
   "source": [
    "Now we have to find the predicate about the gender of an athlete."
   ]
  },
  {
   "cell_type": "code",
   "execution_count": 48,
   "id": "7627f8be-d92c-4e03-a0b7-3e457892d84f",
   "metadata": {},
   "outputs": [
    {
     "name": "stdout",
     "output_type": "stream",
     "text": [
      "Results\n",
      "[('p', 'http://www.wikidata.org/prop/direct/P21'), ('pname', 'sex or gender')]\n"
     ]
    },
    {
     "data": {
      "text/plain": [
       "1"
      ]
     },
     "execution_count": 48,
     "metadata": {},
     "output_type": "execute_result"
    }
   ],
   "source": [
    "queryString = \"\"\"\n",
    "SELECT  ?p ?pname\n",
    "WHERE{\n",
    "     wd:Q1189 ?p ?o .\n",
    "     ?p <http://schema.org/name> ?pname .\n",
    "     FILTER REGEX(?pname, 'gender')\n",
    "    }\n",
    "LIMIT 20\n",
    "\"\"\"\n",
    "\n",
    "print(\"Results\")\n",
    "run_query(queryString)"
   ]
  },
  {
   "cell_type": "code",
   "execution_count": 55,
   "id": "7a4ace90-e500-4bf5-bbb0-b0370eab7bee",
   "metadata": {},
   "outputs": [
    {
     "name": "stdout",
     "output_type": "stream",
     "text": [
      "Results\n",
      "[('howmanyrecors', '1'), ('gendername', 'transgender male')]\n",
      "[('howmanyrecors', '1'), ('gendername', 'intersex')]\n",
      "[('howmanyrecors', '1'), ('gendername', 'transgender female')]\n",
      "[('howmanyrecors', '153'), ('gendername', 'male')]\n",
      "[('howmanyrecors', '38'), ('gendername', 'female')]\n"
     ]
    },
    {
     "data": {
      "text/plain": [
       "5"
      ]
     },
     "execution_count": 55,
     "metadata": {},
     "output_type": "execute_result"
    }
   ],
   "source": [
    "queryString = \"\"\"\n",
    "SELECT  COUNT(?aname) as ?howmanyrecors ?gendername\n",
    "WHERE{\n",
    "     ?a wdt:P106/wdt:P279 wd:Q2066131 .\n",
    "     ?a wdt:P1000 ?record .\n",
    "     ?a <http://schema.org/name> ?aname .\n",
    "     ?record <http://schema.org/name> ?recordname .\n",
    "     ?a wdt:P21 ?gender .\n",
    "     ?gender <http://schema.org/name> ?gendername\n",
    "     \n",
    "    }\n",
    "GROUP BY ?gendername\n",
    "LIMIT 20\n",
    "\"\"\"\n",
    "\n",
    "print(\"Results\")\n",
    "run_query(queryString)"
   ]
  },
  {
   "cell_type": "markdown",
   "id": "10c4856b-ceef-4a80-9d94-3e3cb990fda6",
   "metadata": {},
   "source": [
    "4.3) We count the number of world record held by the athletes group by the type and search for the highest number."
   ]
  },
  {
   "cell_type": "code",
   "execution_count": 60,
   "id": "f3da4c92-d779-4ba7-b29f-959f4aa49fc7",
   "metadata": {},
   "outputs": [
    {
     "name": "stdout",
     "output_type": "stream",
     "text": [
      "Results\n",
      "[('howmanyrecors', '30'), ('recordname', 'Marathon world record progression')]\n"
     ]
    },
    {
     "data": {
      "text/plain": [
       "1"
      ]
     },
     "execution_count": 60,
     "metadata": {},
     "output_type": "execute_result"
    }
   ],
   "source": [
    "queryString = \"\"\"\n",
    "SELECT  COUNT(?aname) as ?howmanyrecors ?recordname\n",
    "WHERE{\n",
    "     ?a wdt:P106/wdt:P279 wd:Q2066131 .\n",
    "     ?a wdt:P1000 ?record .\n",
    "     ?a <http://schema.org/name> ?aname .\n",
    "     ?record <http://schema.org/name> ?recordname .\n",
    "     \n",
    "     \n",
    "    }\n",
    "GROUP BY ?recordname\n",
    "ORDER BY DESC(COUNT(?aname))\n",
    "LIMIT 1\n",
    "\"\"\"\n",
    "\n",
    "print(\"Results\")\n",
    "run_query(queryString)"
   ]
  }
 ],
 "metadata": {
  "kernelspec": {
   "display_name": "Python 3",
   "language": "python",
   "name": "python3"
  },
  "language_info": {
   "codemirror_mode": {
    "name": "ipython",
    "version": 3
   },
   "file_extension": ".py",
   "mimetype": "text/x-python",
   "name": "python",
   "nbconvert_exporter": "python",
   "pygments_lexer": "ipython3",
   "version": "3.7.10"
  }
 },
 "nbformat": 4,
 "nbformat_minor": 5
}
