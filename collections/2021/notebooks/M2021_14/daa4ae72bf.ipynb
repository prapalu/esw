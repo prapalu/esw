{
 "cells": [
  {
   "cell_type": "markdown",
   "id": "7034c3bf-6eb0-4418-8687-7b9d2a501103",
   "metadata": {},
   "source": [
    "# General instructions\n",
    "\n",
    "The goal of the project is to materialize a set of **exploratory workloads** over a real-world, large-scale,  open-domain KG: [WikiData](https://www.wikidata.org/wiki/Wikidata:Main_Page)\n",
    "\n",
    "An exploratory workload  is composed by a set of queries, where each query is related to the information obtained previously.\n",
    "\n",
    "An exploratory workload starts with a usually vague, open ended question, and does not assume the person issuing the workload has a clear understanding of the data contained in the target database or its structure.\n",
    "\n",
    "Remeber that:\n",
    "\n",
    "1. All the queries must run in the python notebook\n",
    "2. You can use classes and properties only if you find them via a SPARQL query that must be present in the notebook\n",
    "3. You do not delete useless queries. Keep everything that is synthatically valid \n",
    "\n",
    "```\n",
    "?p <http://schema.org/name> ?name .\n",
    "```\n",
    "    \n",
    "    is the BGP returning a human-readable name of a property or a class in Wikidata."
   ]
  },
  {
   "cell_type": "code",
   "execution_count": 1,
   "id": "3605c9d5-5371-49a5-be8d-d66e8f417139",
   "metadata": {},
   "outputs": [],
   "source": [
    "## SETUP used later\n",
    "\n",
    "from SPARQLWrapper import SPARQLWrapper, JSON\n",
    "\n",
    "\n",
    "prefixString = \"\"\"\n",
    "##-daa4ae72bf-##\n",
    "PREFIX wd: <http://www.wikidata.org/entity/> \n",
    "PREFIX wdt: <http://www.wikidata.org/prop/direct/> \n",
    "PREFIX sc: <http://schema.org/>\n",
    "\"\"\"\n",
    "\n",
    "# select and construct queries\n",
    "def run_query(queryString):\n",
    "    to_run = prefixString + \"\\n\" + queryString\n",
    "\n",
    "    sparql = SPARQLWrapper(\"http://a256-gc1-02.srv.aau.dk:5820/sparql\")\n",
    "    sparql.setTimeout(300)\n",
    "    sparql.setReturnFormat(JSON)\n",
    "    sparql.setQuery(to_run)\n",
    "\n",
    "    try :\n",
    "       results = sparql.query()\n",
    "       json_results = results.convert()\n",
    "       if len(json_results['results']['bindings'])==0:\n",
    "          print(\"Empty\")\n",
    "          return 0\n",
    "    \n",
    "       for bindings in json_results['results']['bindings']:\n",
    "          print( [ (var, value['value'])  for var, value in bindings.items() ] )\n",
    "\n",
    "       return len(json_results['results']['bindings'])\n",
    "\n",
    "    except Exception as e :\n",
    "        print(\"The operation failed\", e)\n",
    "    \n",
    "# ASk queries\n",
    "def run_ask_query(queryString):\n",
    "    to_run = prefixString + \"\\n\" + queryString\n",
    "\n",
    "    sparql = SPARQLWrapper(\"http://a256-gc1-02.srv.aau.dk:5820/sparql\")\n",
    "    sparql.setTimeout(300)\n",
    "    sparql.setReturnFormat(JSON)\n",
    "    sparql.setQuery(to_run)\n",
    "\n",
    "    try :\n",
    "        return sparql.query().convert()\n",
    "\n",
    "    except Exception as e :\n",
    "        print(\"The operation failed\", e)"
   ]
  },
  {
   "cell_type": "markdown",
   "id": "d477a59c-a68c-4c8f-9f97-8ca5294d7d27",
   "metadata": {},
   "source": [
    "# Movie Workflow Series (\"Directors explorative search\") \n",
    "\n",
    "Consider the following exploratory information need:\n",
    "\n",
    "> investigate the results concerning the common aspects between movies directed by Woody Allen or Quentin Tarantino. We want to know the people that worked for both directors with some numerical analyses, what are the differences in terms of budget for their movies, who won more Academy Awards. "
   ]
  },
  {
   "cell_type": "markdown",
   "id": "4a45c0ba-f79e-441d-bec5-84401b09db70",
   "metadata": {},
   "source": [
    "## Useful URIs for the current workflow\n",
    "The following are given:\n",
    "\n",
    "| IRI           | Description   | Role      |\n",
    "| -----------   | -----------   |-----------|\n",
    "| `wdt:P1647`   | subproperty   | predicate |\n",
    "| `wdt:P31`     | instance of   | predicate |\n",
    "| `wdt:P106`    | profession    | predicate | \n",
    "| `wdt:P279`    | subclass      | predicate |\n",
    "| `wdt:P27`     | nationality   | predicate |\n",
    "| `wdt:P106`     | profession   | predicate |\n",
    "| `wdt:P3342`     | Significant person       | predicate |\n",
    "| `wd:Q5`| Human       | node |\n",
    "| `wd:Q2526255`| Director       | node |\n",
    "| `wd:Q25089`| Woody Allen       | node |\n",
    "| `wd:Q3772`    | Quentin Tarantino      | node |\n"
   ]
  },
  {
   "cell_type": "markdown",
   "id": "7af439fb-96e4-4dbb-a381-f19afab79f86",
   "metadata": {
    "tags": []
   },
   "source": [
    "\n",
    "\n",
    "\n",
    "Also consider\n",
    "\n",
    "```\n",
    "wd:Q25089 ?p ?obj .\n",
    "```\n",
    "\n",
    "is the BGP to retrieve all **properties of Woody Allen**\n",
    "\n",
    "\n",
    "The workload should:\n",
    "\n",
    "\n",
    "1. Identify the BGP for films\n",
    "\n",
    "2. Identify the BGP for directors\n",
    "\n",
    "3. Identify the BGP for workers in a films\n",
    "\n",
    "4. Compare the workers amongst the films directed by the two directors\n",
    "\n",
    "5. Return some numerical comparison between the two directors (e.g., how many workers in Tarantino's movies who also worked in Allen's films?, what is the film with the highest number of shared actors? Who is the most used actor by both the directors? etc. )\n",
    "\n",
    "6. Is the maximum budget for a Tarantino's movie higher of the max budget of an Allen's movie?\n",
    "\n",
    "7. Who has films with more nominations for Academy Awards and who won more Academy Awards (with his films not only personal awards).\n",
    "\n",
    "    7.1 Find the BGP for Academy Awards \n",
    "\n",
    "    7.2 Find the related subproperties\n",
    "\n",
    "    7.3 Find how they are related to the directors\n",
    "    \n",
    "    7.4 Are there alternative queries to get the same result?\n",
    "\n"
   ]
  },
  {
   "cell_type": "code",
   "execution_count": 2,
   "id": "24a853ab-830c-422c-afd3-e9e015b8b8ed",
   "metadata": {},
   "outputs": [],
   "source": [
    "# start your workflow here"
   ]
  },
  {
   "cell_type": "code",
   "execution_count": 2,
   "id": "ade01416-92e7-4ad7-b9a9-b8fb330750dc",
   "metadata": {},
   "outputs": [
    {
     "name": "stdout",
     "output_type": "stream",
     "text": [
      "Results\n",
      "[('callret-0', '334')]\n"
     ]
    },
    {
     "data": {
      "text/plain": [
       "1"
      ]
     },
     "execution_count": 2,
     "metadata": {},
     "output_type": "execute_result"
    }
   ],
   "source": [
    "queryString = \"\"\"\n",
    "SELECT COUNT(*)\n",
    "WHERE { \n",
    "\n",
    "wd:Q25089 ?p ?obj .\n",
    "} \n",
    "\"\"\"\n",
    "\n",
    "print(\"Results\")\n",
    "run_query(queryString)"
   ]
  },
  {
   "cell_type": "markdown",
   "id": "4be4a371-a6c0-4616-92b6-5fd6f8c1c24f",
   "metadata": {
    "jp-MarkdownHeadingCollapsed": true,
    "tags": []
   },
   "source": [
    "## Task 1 \n",
    "Identify the BGP for films"
   ]
  },
  {
   "cell_type": "markdown",
   "id": "df23ffc7-ca02-408b-a331-600cdf542204",
   "metadata": {},
   "source": [
    "Starting from Woody Allen, look to his property with a regex to find something like 'director'"
   ]
  },
  {
   "cell_type": "code",
   "execution_count": 6,
   "id": "0525403c-69ed-495a-b428-b7141af69d09",
   "metadata": {},
   "outputs": [
    {
     "name": "stdout",
     "output_type": "stream",
     "text": [
      "Results\n",
      "[('pr', 'http://www.wikidata.org/prop/direct/P1969'), ('name', 'MovieMeter director ID (former scheme)')]\n",
      "[('pr', 'http://www.wikidata.org/prop/direct/P4283'), ('name', 'LUMIERE director ID')]\n"
     ]
    },
    {
     "data": {
      "text/plain": [
       "2"
      ]
     },
     "execution_count": 6,
     "metadata": {},
     "output_type": "execute_result"
    }
   ],
   "source": [
    "queryString = \"\"\"\n",
    "SELECT DISTINCT ?pr ?name\n",
    "WHERE { \n",
    "\n",
    " wd:Q25089 ?pr ?o.\n",
    "?pr <http://schema.org/name> ?name .\n",
    "FILTER(REGEX(?name,\\\".*irect.*\\\"))\n",
    "} \n",
    "LIMIT 100\n",
    "\"\"\"\n",
    "\n",
    "print(\"Results\")\n",
    "run_query(queryString)"
   ]
  },
  {
   "cell_type": "code",
   "execution_count": 7,
   "id": "06c2b5e5-bc7b-404a-8fc7-31d6ca118da5",
   "metadata": {},
   "outputs": [
    {
     "name": "stdout",
     "output_type": "stream",
     "text": [
      "Results\n",
      "[('pr', 'http://www.wikidata.org/prop/direct/P57'), ('name', 'director')]\n"
     ]
    },
    {
     "data": {
      "text/plain": [
       "1"
      ]
     },
     "execution_count": 7,
     "metadata": {},
     "output_type": "execute_result"
    }
   ],
   "source": [
    "queryString = \"\"\"\n",
    "SELECT DISTINCT ?pr ?name\n",
    "WHERE { \n",
    "\n",
    "?o ?pr wd:Q25089.\n",
    "?pr <http://schema.org/name> ?name .\n",
    "FILTER(REGEX(?name,\\\".*irect.*\\\"))\n",
    "} \n",
    "LIMIT 100\n",
    "\"\"\"\n",
    "\n",
    "print(\"Results\")\n",
    "run_query(queryString)"
   ]
  },
  {
   "cell_type": "markdown",
   "id": "39558e76-e074-469b-9e01-8cb7a0d22f2d",
   "metadata": {},
   "source": [
    "Look for the class of the objects related with the predicate discover in the cell above"
   ]
  },
  {
   "cell_type": "code",
   "execution_count": 8,
   "id": "b84948bd-2009-4ad1-b1c5-59e120cab75b",
   "metadata": {},
   "outputs": [
    {
     "name": "stdout",
     "output_type": "stream",
     "text": [
      "Results\n",
      "[('ist', 'http://www.wikidata.org/entity/Q11424'), ('ista', 'film')]\n",
      "[('ist', 'http://www.wikidata.org/entity/Q506240'), ('ista', 'television film')]\n",
      "[('ist', 'http://www.wikidata.org/entity/Q5398426'), ('ista', 'television series')]\n",
      "[('ist', 'http://www.wikidata.org/entity/Q24862'), ('ista', 'short film')]\n",
      "[('ist', 'http://www.wikidata.org/entity/Q47467768'), ('ista', 'operatic production')]\n"
     ]
    },
    {
     "data": {
      "text/plain": [
       "5"
      ]
     },
     "execution_count": 8,
     "metadata": {},
     "output_type": "execute_result"
    }
   ],
   "source": [
    "queryString = \"\"\"\n",
    "SELECT DISTINCT ?ist ?ista\n",
    "WHERE { \n",
    "\n",
    "?o wdt:P57 wd:Q25089;\n",
    "    wdt:P31 ?ist.\n",
    "    \n",
    "?ist <http://schema.org/name> ?ista .\n",
    "} \n",
    "LIMIT 100\n",
    "\"\"\"\n",
    "\n",
    "print(\"Results\")\n",
    "run_query(queryString)"
   ]
  },
  {
   "cell_type": "markdown",
   "id": "95e237e0-90f0-4c65-aa7f-0f513c49860e",
   "metadata": {},
   "source": [
    "So, Q11424 identify a film"
   ]
  },
  {
   "cell_type": "markdown",
   "id": "2e596872-c846-4324-bba4-fbf18b4862a3",
   "metadata": {
    "jp-MarkdownHeadingCollapsed": true,
    "tags": []
   },
   "source": [
    "## Task 2\n",
    "Identify the BGP for directors"
   ]
  },
  {
   "cell_type": "markdown",
   "id": "8ba9c917-404d-4785-a2cc-842e41378c92",
   "metadata": {},
   "source": [
    "Look at the subclass of human that is similar to director"
   ]
  },
  {
   "cell_type": "code",
   "execution_count": 9,
   "id": "57dae319-710c-4961-99c1-631b10ac06dc",
   "metadata": {},
   "outputs": [
    {
     "name": "stdout",
     "output_type": "stream",
     "text": [
      "Results\n",
      "[('ist', 'http://www.wikidata.org/entity/Q3455803'), ('ista', 'director')]\n",
      "[('ist', 'http://www.wikidata.org/entity/Q56447510'), ('ista', 'Director')]\n",
      "[('ist', 'http://www.wikidata.org/entity/Q1162163'), ('ista', 'director')]\n",
      "[('ist', 'http://www.wikidata.org/entity/Q23931359'), ('ista', 'Director of Bureau')]\n"
     ]
    },
    {
     "data": {
      "text/plain": [
       "4"
      ]
     },
     "execution_count": 9,
     "metadata": {},
     "output_type": "execute_result"
    }
   ],
   "source": [
    "queryString = \"\"\"\n",
    "SELECT DISTINCT ?ist ?ista\n",
    "WHERE { \n",
    "\n",
    "?t wdt:P31/wdt:P279* wd:Q5;\n",
    "    wdt:P31 ?ist.\n",
    "?ist <http://schema.org/name> ?ista .\n",
    "FILTER(REGEX(?ista,\\\".*irect.*\\\"))\n",
    "} \n",
    "LIMIT 100\n",
    "\"\"\"\n",
    "\n",
    "print(\"Results\")\n",
    "run_query(queryString)"
   ]
  },
  {
   "cell_type": "markdown",
   "id": "46e90a15-b869-413b-bc92-2f9d50f4eb5b",
   "metadata": {},
   "source": [
    "Look for the subclass of Director (Q56447510)"
   ]
  },
  {
   "cell_type": "code",
   "execution_count": 10,
   "id": "5e1b3f10-1fee-4c83-95f1-1337228f5726",
   "metadata": {},
   "outputs": [
    {
     "name": "stdout",
     "output_type": "stream",
     "text": [
      "Results\n",
      "[('pr', 'http://www.wikidata.org/entity/Q56447510'), ('name', 'Director')]\n"
     ]
    },
    {
     "data": {
      "text/plain": [
       "1"
      ]
     },
     "execution_count": 10,
     "metadata": {},
     "output_type": "execute_result"
    }
   ],
   "source": [
    "queryString = \"\"\"\n",
    "SELECT DISTINCT ?pr ?name\n",
    "WHERE { \n",
    "?pr wdt:P279* wd:Q56447510.\n",
    "?pr <http://schema.org/name> ?name .\n",
    "} \n",
    "LIMIT 100\n",
    "\"\"\"\n",
    "\n",
    "print(\"Results\")\n",
    "run_query(queryString)"
   ]
  },
  {
   "cell_type": "markdown",
   "id": "31960ad2-e651-4399-b8e5-4d197c74cfe0",
   "metadata": {},
   "source": [
    "Look for the subclass of director (Q3455803)"
   ]
  },
  {
   "cell_type": "code",
   "execution_count": 11,
   "id": "35967adc-835d-4e6d-85e7-20a17033aa6e",
   "metadata": {},
   "outputs": [
    {
     "name": "stdout",
     "output_type": "stream",
     "text": [
      "Results\n",
      "[('pr', 'http://www.wikidata.org/entity/Q27890911'), ('name', 'second unit director')]\n",
      "[('pr', 'http://www.wikidata.org/entity/Q7579842'), ('name', 'sports director')]\n",
      "[('pr', 'http://www.wikidata.org/entity/Q55092822'), ('name', 'ballet teacher')]\n",
      "[('pr', 'http://www.wikidata.org/entity/Q61817103'), ('name', 'Director-producer')]\n",
      "[('pr', 'http://www.wikidata.org/entity/Q2962070'), ('name', 'production designer')]\n",
      "[('pr', 'http://www.wikidata.org/entity/Q17456089'), ('name', 'pornographic film director')]\n",
      "[('pr', 'http://www.wikidata.org/entity/Q28054786'), ('name', 'opera director')]\n",
      "[('pr', 'http://www.wikidata.org/entity/Q63538345'), ('name', 'video game director')]\n",
      "[('pr', 'http://www.wikidata.org/entity/Q24204895'), ('name', 'art director')]\n",
      "[('pr', 'http://www.wikidata.org/entity/Q28860513'), ('name', 'artistic coordinator')]\n",
      "[('pr', 'http://www.wikidata.org/entity/Q1414443'), ('name', 'filmmaker')]\n",
      "[('pr', 'http://www.wikidata.org/entity/Q2059704'), ('name', 'television director')]\n",
      "[('pr', 'http://www.wikidata.org/entity/Q2340668'), ('name', 'music video director')]\n",
      "[('pr', 'http://www.wikidata.org/entity/Q2526255'), ('name', 'film director')]\n",
      "[('pr', 'http://www.wikidata.org/entity/Q3387717'), ('name', 'theatrical director')]\n",
      "[('pr', 'http://www.wikidata.org/entity/Q3455803'), ('name', 'director')]\n",
      "[('pr', 'http://www.wikidata.org/entity/Q7042855'), ('name', 'film editor')]\n",
      "[('pr', 'http://www.wikidata.org/entity/Q779815'), ('name', 'animation director')]\n",
      "[('pr', 'http://www.wikidata.org/entity/Q1320883'), ('name', 'talent manager')]\n",
      "[('pr', 'http://www.wikidata.org/entity/Q1757008'), ('name', 'assistant director')]\n",
      "[('pr', 'http://www.wikidata.org/entity/Q2393361'), ('name', 'dancing master')]\n",
      "[('pr', 'http://www.wikidata.org/entity/Q2490358'), ('name', 'choreographer')]\n",
      "[('pr', 'http://www.wikidata.org/entity/Q805253'), ('name', 'ballet master')]\n",
      "[('pr', 'http://www.wikidata.org/entity/Q55284884'), ('name', 'figure skating choreographer')]\n",
      "[('pr', 'http://www.wikidata.org/entity/Q2459497'), ('name', 'director of radio drama')]\n",
      "[('pr', 'http://www.wikidata.org/entity/Q943995'), ('name', 'impresario')]\n",
      "[('pr', 'http://www.wikidata.org/entity/Q667982'), ('name', 'creative director')]\n",
      "[('pr', 'http://www.wikidata.org/entity/Q1415225'), ('name', 'production coordinator')]\n",
      "[('pr', 'http://www.wikidata.org/entity/Q11284414'), ('name', 'anime director')]\n",
      "[('pr', 'http://www.wikidata.org/entity/Q3029403'), ('name', 'commercial director')]\n",
      "[('pr', 'http://www.wikidata.org/entity/Q463702'), ('name', 'American Cinema Editors')]\n",
      "[('pr', 'http://www.wikidata.org/entity/Q1298794'), ('name', 'dubbing director')]\n",
      "[('pr', 'http://www.wikidata.org/entity/Q1093536'), ('name', 'location manager')]\n",
      "[('pr', 'http://www.wikidata.org/entity/Q1235146'), ('name', 'documentary filmmaker')]\n",
      "[('pr', 'http://www.wikidata.org/entity/Q4801269'), ('name', 'artistic director (music)')]\n",
      "[('pr', 'http://www.wikidata.org/entity/Q1797162'), ('name', 'artistic director')]\n",
      "[('pr', 'http://www.wikidata.org/entity/Q28960839'), ('name', 'kumu hula')]\n",
      "[('pr', 'http://www.wikidata.org/entity/Q19986191'), ('name', 'music hall impresario')]\n",
      "[('pr', 'http://www.wikidata.org/entity/Q56374237'), ('name', 'editing director')]\n",
      "[('pr', 'http://www.wikidata.org/entity/Q47093191'), ('name', 'manager of La Scala')]\n",
      "[('pr', 'http://www.wikidata.org/entity/Q29168399'), ('name', 'assistant editor')]\n",
      "[('pr', 'http://www.wikidata.org/entity/Q85565507'), ('name', 'narrative director')]\n",
      "[('pr', 'http://www.wikidata.org/entity/Q11614502'), ('name', 'animation color designer')]\n",
      "[('pr', 'http://www.wikidata.org/entity/Q104178852'), ('name', 'amateur filmmaker')]\n",
      "[('pr', 'http://www.wikidata.org/entity/Q4011400'), ('name', 'Videomaker')]\n",
      "[('pr', 'http://www.wikidata.org/entity/Q10846391'), ('name', 'AV director')]\n",
      "[('pr', 'http://www.wikidata.org/entity/Q90426178'), ('name', 'pornographic film editor')]\n",
      "[('pr', 'http://www.wikidata.org/entity/Q97324443'), ('name', 'director of Catalan National Theatre')]\n",
      "[('pr', 'http://www.wikidata.org/entity/Q11570977'), ('name', 'Special effects director')]\n",
      "[('pr', 'http://www.wikidata.org/entity/Q88200378'), ('name', 'wildlife filmer')]\n",
      "[('pr', 'http://www.wikidata.org/entity/Q3836416'), ('name', 'Logger')]\n",
      "[('pr', 'http://www.wikidata.org/entity/Q97499963'), ('name', 'opera directing')]\n",
      "[('pr', 'http://www.wikidata.org/entity/Q28381391'), ('name', 'supervising director')]\n",
      "[('pr', 'http://www.wikidata.org/entity/Q28381399'), ('name', 'sequence director')]\n",
      "[('pr', 'http://www.wikidata.org/entity/Q28006801'), ('name', 'associate production designer')]\n",
      "[('pr', 'http://www.wikidata.org/entity/Q28006945'), ('name', 'technical animation supervisor')]\n"
     ]
    },
    {
     "data": {
      "text/plain": [
       "56"
      ]
     },
     "execution_count": 11,
     "metadata": {},
     "output_type": "execute_result"
    }
   ],
   "source": [
    "queryString = \"\"\"\n",
    "SELECT DISTINCT ?pr ?name\n",
    "WHERE { \n",
    "?pr wdt:P279* wd:Q3455803.\n",
    "?pr <http://schema.org/name> ?name .\n",
    "} \n",
    "LIMIT 100\n",
    "\"\"\"\n",
    "\n",
    "print(\"Results\")\n",
    "run_query(queryString)"
   ]
  },
  {
   "cell_type": "markdown",
   "id": "4cadcdc4-d34a-4ace-b413-a3bb5fa59b73",
   "metadata": {},
   "source": [
    "This class seems to be the once that is related to a director of a movie <br>\n",
    "Since I know that Q11424 is the class of film I will look if the film is related with this Q3455803."
   ]
  },
  {
   "cell_type": "code",
   "execution_count": 12,
   "id": "a407cae6-7ffd-4070-95b0-e44806d9198a",
   "metadata": {},
   "outputs": [
    {
     "name": "stdout",
     "output_type": "stream",
     "text": [
      "Results\n",
      "[('pr', 'http://www.wikidata.org/entity/Q2526255'), ('name', 'film director')]\n",
      "[('pr', 'http://www.wikidata.org/entity/Q3455803'), ('name', 'director')]\n"
     ]
    },
    {
     "data": {
      "text/plain": [
       "2"
      ]
     },
     "execution_count": 12,
     "metadata": {},
     "output_type": "execute_result"
    }
   ],
   "source": [
    "queryString = \"\"\"\n",
    "SELECT DISTINCT ?pr ?name\n",
    "WHERE { \n",
    "?o wdt:P31 wd:Q11424;\n",
    "    wdt:P57 ?x.\n",
    "?x wdt:P31/wdt:P279* ?pr.\n",
    "?pr <http://schema.org/name> ?name .\n",
    "FILTER(REGEX(?name,\\\".*irect.*\\\"))\n",
    "} \n",
    "LIMIT 100\n",
    "\"\"\"\n",
    "\n",
    "print(\"Results\")\n",
    "run_query(queryString)"
   ]
  },
  {
   "cell_type": "markdown",
   "id": "7cc9e851-4037-4220-a81a-b4cfceb5fbc4",
   "metadata": {},
   "source": [
    "In fact I have a correspondence with Q3455803. So this is a generic director.<br>\n",
    "I think that Q2526255 is a film director (specifically film, e.g. not tv series)"
   ]
  },
  {
   "cell_type": "markdown",
   "id": "d391e8db-b3e1-413f-842e-1a13951d1a17",
   "metadata": {
    "jp-MarkdownHeadingCollapsed": true,
    "tags": []
   },
   "source": [
    "## Task 3\n",
    "Identify the BGP for workers in a films"
   ]
  },
  {
   "cell_type": "markdown",
   "id": "832f6035-2c12-45fa-992a-6733ade86731",
   "metadata": {},
   "source": [
    "Look for some classes similar to 'worker' related with films starting from the class director that is Q3455803"
   ]
  },
  {
   "cell_type": "code",
   "execution_count": 24,
   "id": "ef02fc85-41b7-4f45-a92a-f8e300e90765",
   "metadata": {},
   "outputs": [
    {
     "name": "stdout",
     "output_type": "stream",
     "text": [
      "Results\n",
      "[('sup', 'http://www.wikidata.org/entity/Q215627'), ('name', 'person')]\n",
      "[('sup', 'http://www.wikidata.org/entity/Q43229'), ('name', 'organization')]\n",
      "[('sup', 'http://www.wikidata.org/entity/Q16334295'), ('name', 'group of humans')]\n"
     ]
    },
    {
     "data": {
      "text/plain": [
       "3"
      ]
     },
     "execution_count": 24,
     "metadata": {},
     "output_type": "execute_result"
    }
   ],
   "source": [
    "queryString = \"\"\"\n",
    "SELECT DISTINCT ?sup ?name\n",
    "WHERE { \n",
    "?o wdt:P31 wd:Q11424.\n",
    "wd:Q3455803 wdt:P279* ?sup.\n",
    "?obj wdt:P31 ?sup.\n",
    "?obj ?pr ?o.\n",
    "?sup <http://schema.org/name> ?name .\n",
    "} \n",
    "LIMIT 100\n",
    "\"\"\"\n",
    "\n",
    "print(\"Results\")\n",
    "run_query(queryString)"
   ]
  },
  {
   "cell_type": "markdown",
   "id": "49e4e0b5-bd35-42e4-8fa7-d7b4e4610f19",
   "metadata": {},
   "source": [
    "Found nothing useful. Try to look for predicate from film to objects that are instance of human"
   ]
  },
  {
   "cell_type": "code",
   "execution_count": 3,
   "id": "45adb9b6-746d-4ef6-8f59-f0388378f074",
   "metadata": {},
   "outputs": [
    {
     "name": "stdout",
     "output_type": "stream",
     "text": [
      "Results\n",
      "[('p', 'http://www.wikidata.org/prop/direct/P1029'), ('name', 'crew member(s)')]\n",
      "[('p', 'http://www.wikidata.org/prop/direct/P1037'), ('name', 'director / manager')]\n",
      "[('p', 'http://www.wikidata.org/prop/direct/P1040'), ('name', 'film editor')]\n",
      "[('p', 'http://www.wikidata.org/prop/direct/P110'), ('name', 'illustrator')]\n",
      "[('p', 'http://www.wikidata.org/prop/direct/P123'), ('name', 'publisher')]\n",
      "[('p', 'http://www.wikidata.org/prop/direct/P1269'), ('name', 'facet of')]\n",
      "[('p', 'http://www.wikidata.org/prop/direct/P127'), ('name', 'owned by')]\n",
      "[('p', 'http://www.wikidata.org/prop/direct/P1346'), ('name', 'winner')]\n",
      "[('p', 'http://www.wikidata.org/prop/direct/P136'), ('name', 'genre')]\n",
      "[('p', 'http://www.wikidata.org/prop/direct/P137'), ('name', 'operator')]\n",
      "[('p', 'http://www.wikidata.org/prop/direct/P138'), ('name', 'named after')]\n",
      "[('p', 'http://www.wikidata.org/prop/direct/P1431'), ('name', 'executive producer')]\n",
      "[('p', 'http://www.wikidata.org/prop/direct/P144'), ('name', 'based on')]\n",
      "[('p', 'http://www.wikidata.org/prop/direct/P1542'), ('name', 'has effect')]\n",
      "[('p', 'http://www.wikidata.org/prop/direct/P155'), ('name', 'follows')]\n",
      "[('p', 'http://www.wikidata.org/prop/direct/P156'), ('name', 'followed by')]\n",
      "[('p', 'http://www.wikidata.org/prop/direct/P161'), ('name', 'cast member')]\n",
      "[('p', 'http://www.wikidata.org/prop/direct/P162'), ('name', 'producer')]\n",
      "[('p', 'http://www.wikidata.org/prop/direct/P1652'), ('name', 'referee')]\n",
      "[('p', 'http://www.wikidata.org/prop/direct/P170'), ('name', 'creator')]\n",
      "[('p', 'http://www.wikidata.org/prop/direct/P175'), ('name', 'performer')]\n",
      "[('p', 'http://www.wikidata.org/prop/direct/P176'), ('name', 'manufacturer')]\n",
      "[('p', 'http://www.wikidata.org/prop/direct/P180'), ('name', 'depicts')]\n",
      "[('p', 'http://www.wikidata.org/prop/direct/P1809'), ('name', 'choreographer')]\n",
      "[('p', 'http://www.wikidata.org/prop/direct/P1877'), ('name', 'after a work by')]\n",
      "[('p', 'http://www.wikidata.org/prop/direct/P1889'), ('name', 'different from')]\n",
      "[('p', 'http://www.wikidata.org/prop/direct/P2354'), ('name', 'has list')]\n",
      "[('p', 'http://www.wikidata.org/prop/direct/P2408'), ('name', 'set in period')]\n",
      "[('p', 'http://www.wikidata.org/prop/direct/P2438'), ('name', 'narrator')]\n",
      "[('p', 'http://www.wikidata.org/prop/direct/P2515'), ('name', 'costume designer')]\n",
      "[('p', 'http://www.wikidata.org/prop/direct/P2554'), ('name', 'production designer')]\n",
      "[('p', 'http://www.wikidata.org/prop/direct/P272'), ('name', 'production company')]\n",
      "[('p', 'http://www.wikidata.org/prop/direct/P2849'), ('name', 'produced by')]\n",
      "[('p', 'http://www.wikidata.org/prop/direct/P287'), ('name', 'designed by')]\n",
      "[('p', 'http://www.wikidata.org/prop/direct/P3092'), ('name', 'film crew member')]\n",
      "[('p', 'http://www.wikidata.org/prop/direct/P3174'), ('name', 'art director')]\n",
      "[('p', 'http://www.wikidata.org/prop/direct/P3275'), ('name', 'storyboard artist')]\n",
      "[('p', 'http://www.wikidata.org/prop/direct/P3300'), ('name', 'musical conductor')]\n",
      "[('p', 'http://www.wikidata.org/prop/direct/P3342'), ('name', 'significant person')]\n",
      "[('p', 'http://www.wikidata.org/prop/direct/P344'), ('name', 'director of photography')]\n",
      "[('p', 'http://www.wikidata.org/prop/direct/P371'), ('name', 'presenter')]\n",
      "[('p', 'http://www.wikidata.org/prop/direct/P3816'), ('name', 'film script')]\n",
      "[('p', 'http://www.wikidata.org/prop/direct/P3931'), ('name', 'copyright holder')]\n",
      "[('p', 'http://www.wikidata.org/prop/direct/P406'), ('name', 'soundtrack release')]\n",
      "[('p', 'http://www.wikidata.org/prop/direct/P453'), ('name', 'character role')]\n",
      "[('p', 'http://www.wikidata.org/prop/direct/P4608'), ('name', 'scenographer')]\n",
      "[('p', 'http://www.wikidata.org/prop/direct/P4646'), ('name', 'representation of')]\n",
      "[('p', 'http://www.wikidata.org/prop/direct/P4805'), ('name', 'make-up artist')]\n",
      "[('p', 'http://www.wikidata.org/prop/direct/P50'), ('name', 'author')]\n",
      "[('p', 'http://www.wikidata.org/prop/direct/P5026'), ('name', 'lighting designer')]\n",
      "[('p', 'http://www.wikidata.org/prop/direct/P5028'), ('name', 'sound designer')]\n",
      "[('p', 'http://www.wikidata.org/prop/direct/P5051'), ('name', 'towards')]\n",
      "[('p', 'http://www.wikidata.org/prop/direct/P5126'), ('name', 'assistant director')]\n",
      "[('p', 'http://www.wikidata.org/prop/direct/P5202'), ('name', 'adapted by')]\n",
      "[('p', 'http://www.wikidata.org/prop/direct/P57'), ('name', 'director')]\n",
      "[('p', 'http://www.wikidata.org/prop/direct/P58'), ('name', 'screenwriter')]\n",
      "[('p', 'http://www.wikidata.org/prop/direct/P6086'), ('name', 'dramaturge')]\n",
      "[('p', 'http://www.wikidata.org/prop/direct/P655'), ('name', 'translator')]\n",
      "[('p', 'http://www.wikidata.org/prop/direct/P658'), ('name', 'tracklist')]\n",
      "[('p', 'http://www.wikidata.org/prop/direct/P674'), ('name', 'characters')]\n",
      "[('p', 'http://www.wikidata.org/prop/direct/P676'), ('name', 'lyrics by')]\n",
      "[('p', 'http://www.wikidata.org/prop/direct/P6942'), ('name', 'animator')]\n",
      "[('p', 'http://www.wikidata.org/prop/direct/P710'), ('name', 'participant')]\n",
      "[('p', 'http://www.wikidata.org/prop/direct/P725'), ('name', 'voice actor')]\n",
      "[('p', 'http://www.wikidata.org/prop/direct/P736'), ('name', 'cover art by')]\n",
      "[('p', 'http://www.wikidata.org/prop/direct/P737'), ('name', 'influenced by')]\n",
      "[('p', 'http://www.wikidata.org/prop/direct/P750'), ('name', 'distributed by')]\n",
      "[('p', 'http://www.wikidata.org/prop/direct/P767'), ('name', 'contributor to the creative work or subject')]\n",
      "[('p', 'http://www.wikidata.org/prop/direct/P805'), ('name', 'statement is subject of')]\n",
      "[('p', 'http://www.wikidata.org/prop/direct/P825'), ('name', 'dedicated to')]\n",
      "[('p', 'http://www.wikidata.org/prop/direct/P859'), ('name', 'sponsor')]\n",
      "[('p', 'http://www.wikidata.org/prop/direct/P86'), ('name', 'composer')]\n",
      "[('p', 'http://www.wikidata.org/prop/direct/P8670'), ('name', 'character designer')]\n",
      "[('p', 'http://www.wikidata.org/prop/direct/P87'), ('name', 'librettist')]\n",
      "[('p', 'http://www.wikidata.org/prop/direct/P88'), ('name', 'commissioned by')]\n",
      "[('p', 'http://www.wikidata.org/prop/direct/P921'), ('name', 'main subject')]\n",
      "[('p', 'http://www.wikidata.org/prop/direct/P941'), ('name', 'inspired by')]\n",
      "[('p', 'http://www.wikidata.org/prop/direct/P942'), ('name', 'theme music')]\n",
      "[('p', 'http://www.wikidata.org/prop/direct/P98'), ('name', 'editor')]\n"
     ]
    },
    {
     "data": {
      "text/plain": [
       "79"
      ]
     },
     "execution_count": 3,
     "metadata": {},
     "output_type": "execute_result"
    }
   ],
   "source": [
    "queryString = \"\"\"\n",
    "SELECT DISTINCT ?p ?name\n",
    "WHERE { \n",
    "?o wdt:P31 wd:Q11424;\n",
    "    ?p ?x.\n",
    "?x wdt:P31 wd:Q5.\n",
    "?p <http://schema.org/name> ?name .\n",
    "} \n",
    "ORDER BY ?p\n",
    "LIMIT 100\n",
    "\"\"\"\n",
    "\n",
    "print(\"Results\")\n",
    "run_query(queryString)"
   ]
  },
  {
   "cell_type": "markdown",
   "id": "1bc3edd9-2e16-4db7-b5e2-da3c54961dc5",
   "metadata": {},
   "source": [
    "It seems that all these predicate are related to someone that work on a film, let's look in the other direction"
   ]
  },
  {
   "cell_type": "code",
   "execution_count": 4,
   "id": "e7b620a8-1f90-41a2-b988-592dba70879c",
   "metadata": {},
   "outputs": [
    {
     "name": "stdout",
     "output_type": "stream",
     "text": [
      "Results\n",
      "[('sup', 'http://www.wikidata.org/prop/direct/P106'), ('name', 'occupation')]\n",
      "[('sup', 'http://www.wikidata.org/prop/direct/P1299'), ('name', 'depicted by')]\n",
      "[('sup', 'http://www.wikidata.org/prop/direct/P1343'), ('name', 'described by source')]\n",
      "[('sup', 'http://www.wikidata.org/prop/direct/P1455'), ('name', 'list of works')]\n",
      "[('sup', 'http://www.wikidata.org/prop/direct/P800'), ('name', 'notable work')]\n",
      "[('sup', 'http://www.wikidata.org/prop/direct/P3919'), ('name', 'contributed to creative work')]\n",
      "[('sup', 'http://www.wikidata.org/prop/direct/P1441'), ('name', 'present in work')]\n",
      "[('sup', 'http://www.wikidata.org/prop/direct/P1889'), ('name', 'different from')]\n",
      "[('sup', 'http://www.wikidata.org/prop/direct/P161'), ('name', 'cast member')]\n",
      "[('sup', 'http://www.wikidata.org/prop/direct/P175'), ('name', 'performer')]\n",
      "[('sup', 'http://www.wikidata.org/prop/direct/P805'), ('name', 'statement is subject of')]\n",
      "[('sup', 'http://www.wikidata.org/prop/direct/P101'), ('name', 'field of work')]\n",
      "[('sup', 'http://www.wikidata.org/prop/direct/P1283'), ('name', 'filmography')]\n",
      "[('sup', 'http://www.wikidata.org/prop/direct/P27'), ('name', 'country of citizenship')]\n",
      "[('sup', 'http://www.wikidata.org/prop/direct/P725'), ('name', 'voice actor')]\n",
      "[('sup', 'http://www.wikidata.org/prop/direct/P2318'), ('name', 'debut participant')]\n",
      "[('sup', 'http://www.wikidata.org/prop/direct/P5028'), ('name', 'sound designer')]\n",
      "[('sup', 'http://www.wikidata.org/prop/direct/P1344'), ('name', 'participant in')]\n",
      "[('sup', 'http://www.wikidata.org/prop/direct/P410'), ('name', 'military rank')]\n",
      "[('sup', 'http://www.wikidata.org/prop/direct/P608'), ('name', 'exhibition history')]\n",
      "[('sup', 'http://www.wikidata.org/prop/direct/P737'), ('name', 'influenced by')]\n",
      "[('sup', 'http://www.wikidata.org/prop/direct/P1040'), ('name', 'film editor')]\n",
      "[('sup', 'http://www.wikidata.org/prop/direct/P162'), ('name', 'producer')]\n",
      "[('sup', 'http://www.wikidata.org/prop/direct/P2868'), ('name', 'subject has role')]\n",
      "[('sup', 'http://www.wikidata.org/prop/direct/P1830'), ('name', 'owner of')]\n",
      "[('sup', 'http://www.wikidata.org/prop/direct/P767'), ('name', 'contributor to the creative work or subject')]\n",
      "[('sup', 'http://www.wikidata.org/prop/direct/P166'), ('name', 'award received')]\n",
      "[('sup', 'http://www.wikidata.org/prop/direct/P1950'), ('name', 'second family name in Spanish name')]\n",
      "[('sup', 'http://www.wikidata.org/prop/direct/P138'), ('name', 'named after')]\n",
      "[('sup', 'http://www.wikidata.org/prop/direct/P19'), ('name', 'place of birth')]\n",
      "[('sup', 'http://www.wikidata.org/prop/direct/P361'), ('name', 'part of')]\n",
      "[('sup', 'http://www.wikidata.org/prop/direct/P710'), ('name', 'participant')]\n",
      "[('sup', 'http://www.wikidata.org/prop/direct/P1877'), ('name', 'after a work by')]\n",
      "[('sup', 'http://www.wikidata.org/prop/direct/P140'), ('name', 'religion')]\n",
      "[('sup', 'http://www.wikidata.org/prop/direct/P3091'), ('name', 'mount')]\n",
      "[('sup', 'http://www.wikidata.org/prop/direct/P735'), ('name', 'given name')]\n",
      "[('sup', 'http://www.wikidata.org/prop/direct/P2789'), ('name', 'connects with')]\n",
      "[('sup', 'http://www.wikidata.org/prop/direct/P509'), ('name', 'cause of death')]\n",
      "[('sup', 'http://www.wikidata.org/prop/direct/P108'), ('name', 'employer')]\n",
      "[('sup', 'http://www.wikidata.org/prop/direct/P20'), ('name', 'place of death')]\n",
      "[('sup', 'http://www.wikidata.org/prop/direct/P58'), ('name', 'screenwriter')]\n",
      "[('sup', 'http://www.wikidata.org/prop/direct/P69'), ('name', 'educated at')]\n",
      "[('sup', 'http://www.wikidata.org/prop/direct/P1686'), ('name', 'for work')]\n",
      "[('sup', 'http://www.wikidata.org/prop/direct/P4969'), ('name', 'derivative work')]\n",
      "[('sup', 'http://www.wikidata.org/prop/direct/P1056'), ('name', 'product or material produced')]\n",
      "[('sup', 'http://www.wikidata.org/prop/direct/P463'), ('name', 'member of')]\n",
      "[('sup', 'http://www.wikidata.org/prop/direct/P5126'), ('name', 'assistant director')]\n",
      "[('sup', 'http://www.wikidata.org/prop/direct/P54'), ('name', 'member of sports team')]\n",
      "[('sup', 'http://www.wikidata.org/prop/direct/P179'), ('name', 'part of the series')]\n",
      "[('sup', 'http://www.wikidata.org/prop/direct/P1268'), ('name', 'represents')]\n",
      "[('sup', 'http://www.wikidata.org/prop/direct/P5008'), ('name', 'on focus list of Wikimedia project')]\n",
      "[('sup', 'http://www.wikidata.org/prop/direct/P551'), ('name', 'residence')]\n",
      "[('sup', 'http://www.wikidata.org/prop/direct/P241'), ('name', 'military branch')]\n",
      "[('sup', 'http://www.wikidata.org/prop/direct/P1431'), ('name', 'executive producer')]\n",
      "[('sup', 'http://www.wikidata.org/prop/direct/P941'), ('name', 'inspired by')]\n",
      "[('sup', 'http://www.wikidata.org/prop/direct/P39'), ('name', 'position held')]\n",
      "[('sup', 'http://www.wikidata.org/prop/direct/P1196'), ('name', 'manner of death')]\n",
      "[('sup', 'http://www.wikidata.org/prop/direct/P674'), ('name', 'characters')]\n",
      "[('sup', 'http://www.wikidata.org/prop/direct/P25'), ('name', 'mother')]\n",
      "[('sup', 'http://www.wikidata.org/prop/direct/P793'), ('name', 'significant event')]\n",
      "[('sup', 'http://www.wikidata.org/prop/direct/P40'), ('name', 'child')]\n",
      "[('sup', 'http://www.wikidata.org/prop/direct/P1542'), ('name', 'has effect')]\n",
      "[('sup', 'http://www.wikidata.org/prop/direct/P264'), ('name', 'record label')]\n",
      "[('sup', 'http://www.wikidata.org/prop/direct/P248'), ('name', 'stated in')]\n",
      "[('sup', 'http://www.wikidata.org/prop/direct/P734'), ('name', 'family name')]\n",
      "[('sup', 'http://www.wikidata.org/prop/direct/P119'), ('name', 'place of burial')]\n",
      "[('sup', 'http://www.wikidata.org/prop/direct/P7137'), ('name', 'acknowledged')]\n",
      "[('sup', 'http://www.wikidata.org/prop/direct/P453'), ('name', 'character role')]\n",
      "[('sup', 'http://www.wikidata.org/prop/direct/P1416'), ('name', 'affiliation')]\n",
      "[('sup', 'http://www.wikidata.org/prop/direct/P1479'), ('name', 'has contributing factor')]\n",
      "[('sup', 'http://www.wikidata.org/prop/direct/P413'), ('name', 'position played on team / speciality')]\n",
      "[('sup', 'http://www.wikidata.org/prop/direct/P136'), ('name', 'genre')]\n",
      "[('sup', 'http://www.wikidata.org/prop/direct/P1303'), ('name', 'instrument')]\n"
     ]
    },
    {
     "data": {
      "text/plain": [
       "73"
      ]
     },
     "execution_count": 4,
     "metadata": {},
     "output_type": "execute_result"
    }
   ],
   "source": [
    "queryString = \"\"\"\n",
    "SELECT DISTINCT ?sup ?name\n",
    "WHERE { \n",
    "?o wdt:P31 wd:Q11424.\n",
    "?x ?sup ?o.\n",
    "?x wdt:P31 wd:Q5.\n",
    "?sup <http://schema.org/name> ?name .\n",
    "} \n",
    "LIMIT 100\n",
    "\"\"\"\n",
    "\n",
    "print(\"Results\")\n",
    "run_query(queryString)"
   ]
  },
  {
   "cell_type": "code",
   "execution_count": 22,
   "id": "393c3523-cfa8-4cfa-9fea-f25392cdf2d9",
   "metadata": {},
   "outputs": [
    {
     "name": "stdout",
     "output_type": "stream",
     "text": [
      "Results\n",
      "[('sup', 'http://www.wikidata.org/prop/direct/P1455'), ('name', 'list of works')]\n",
      "[('sup', 'http://www.wikidata.org/prop/direct/P800'), ('name', 'notable work')]\n",
      "[('sup', 'http://www.wikidata.org/prop/direct/P3919'), ('name', 'contributed to creative work')]\n",
      "[('sup', 'http://www.wikidata.org/prop/direct/P1441'), ('name', 'present in work')]\n",
      "[('sup', 'http://www.wikidata.org/prop/direct/P101'), ('name', 'field of work')]\n",
      "[('sup', 'http://www.wikidata.org/prop/direct/P767'), ('name', 'contributor to the creative work or subject')]\n",
      "[('sup', 'http://www.wikidata.org/prop/direct/P1877'), ('name', 'after a work by')]\n",
      "[('sup', 'http://www.wikidata.org/prop/direct/P1686'), ('name', 'for work')]\n",
      "[('sup', 'http://www.wikidata.org/prop/direct/P4969'), ('name', 'derivative work')]\n"
     ]
    },
    {
     "data": {
      "text/plain": [
       "9"
      ]
     },
     "execution_count": 22,
     "metadata": {},
     "output_type": "execute_result"
    }
   ],
   "source": [
    "queryString = \"\"\"\n",
    "SELECT DISTINCT ?sup ?name\n",
    "WHERE { \n",
    "?o wdt:P31 wd:Q11424.\n",
    "?x ?sup ?o.\n",
    "?x wdt:P31 wd:Q5.\n",
    "?sup <http://schema.org/name> ?name .\n",
    "FILTER (REGEX(?name,\".*ork.*\"))\n",
    "} \n",
    "LIMIT 100\n",
    "\"\"\"\n",
    "\n",
    "print(\"Results\")\n",
    "run_query(queryString)"
   ]
  },
  {
   "cell_type": "code",
   "execution_count": 23,
   "id": "1d9c1ba3-53f9-400e-b031-c66d0768e6f4",
   "metadata": {},
   "outputs": [
    {
     "name": "stdout",
     "output_type": "stream",
     "text": [
      "Results\n",
      "[('sup', 'http://www.wikidata.org/prop/direct/P1877'), ('name', 'after a work by')]\n",
      "[('sup', 'http://www.wikidata.org/prop/direct/P767'), ('name', 'contributor to the creative work or subject')]\n"
     ]
    },
    {
     "data": {
      "text/plain": [
       "2"
      ]
     },
     "execution_count": 23,
     "metadata": {},
     "output_type": "execute_result"
    }
   ],
   "source": [
    "queryString = \"\"\"\n",
    "SELECT DISTINCT ?sup ?name\n",
    "WHERE { \n",
    "?o wdt:P31 wd:Q11424.\n",
    "?o ?sup ?x.\n",
    "?x wdt:P31 wd:Q5.\n",
    "?sup <http://schema.org/name> ?name .\n",
    "FILTER (REGEX(?name,\".*ork.*\"))\n",
    "} \n",
    "LIMIT 100\n",
    "\"\"\"\n",
    "\n",
    "print(\"Results\")\n",
    "run_query(queryString)"
   ]
  },
  {
   "cell_type": "code",
   "execution_count": 24,
   "id": "984ffef7-0b42-462e-a72e-c020b5c05b3e",
   "metadata": {},
   "outputs": [
    {
     "name": "stdout",
     "output_type": "stream",
     "text": [
      "Results\n",
      "[('film', 'Marianne'), ('name', 'Georges Lourau')]\n",
      "[('film', 'Madelon'), ('name', 'Georges Lourau')]\n",
      "[('film', 'Mare matto'), ('name', 'Georges Lourau')]\n",
      "[('film', 'Wild Fruit'), ('name', 'Georges Lourau')]\n",
      "[('film', 'Holiday for Henrietta'), ('name', 'Georges Lourau')]\n",
      "[('film', 'Madame du Barry'), ('name', 'Georges Lourau')]\n",
      "[('film', 'Une souris chez les hommes'), ('name', 'Georges Lourau')]\n",
      "[('film', 'Love in the Night'), ('name', 'Georges Lourau')]\n",
      "[('film', 'The Professional'), ('name', 'Sidiki Bakaba')]\n"
     ]
    },
    {
     "data": {
      "text/plain": [
       "9"
      ]
     },
     "execution_count": 24,
     "metadata": {},
     "output_type": "execute_result"
    }
   ],
   "source": [
    "#use P710 participant\n",
    "queryString = \"\"\"\n",
    "SELECT DISTINCT ?film ?name\n",
    "WHERE { \n",
    "\n",
    "?o wdt:P31 wd:Q11424.\n",
    "?x wdt:P710 ?o.\n",
    "?x wdt:P31 wd:Q5.\n",
    "?o <http://schema.org/name> ?film .\n",
    "?x <http://schema.org/name> ?name .\n",
    "} \n",
    "\n",
    "LIMIT 100\n",
    "\"\"\"\n",
    "\n",
    "print(\"Results\")\n",
    "run_query(queryString)"
   ]
  },
  {
   "cell_type": "markdown",
   "id": "a0c6f43b-f3f3-4247-8a50-c049136a87b0",
   "metadata": {},
   "source": [
    "Try to use some predicate found above related with work:\n",
    "- P800: notable work;\n",
    "- P3919: contributed to creative work;\n",
    "- P1441: present in work;\n",
    "- P767: contributor to the creative work or subject;\n",
    "- P1686: for work."
   ]
  },
  {
   "cell_type": "code",
   "execution_count": 26,
   "id": "014e93c7-c354-4f05-8160-1cf064f01824",
   "metadata": {},
   "outputs": [
    {
     "name": "stdout",
     "output_type": "stream",
     "text": [
      "Results\n",
      "[('film', 'The Juniors y la Formula Imperial'), ('worker', '17')]\n",
      "[('film', 'Evangelion: 1.0 You Are (Not) Alone'), ('worker', '12')]\n",
      "[('film', 'Niños Asesinos Película'), ('worker', '11')]\n",
      "[('film', 'El Triunfo de Vivir'), ('worker', '8')]\n",
      "[('film', 'Guardians of the Galaxy'), ('worker', '8')]\n",
      "[('film', 'Frozen'), ('worker', '8')]\n",
      "[('film', 'Evangelion: 3.0+1.0 Thrice Upon a Time'), ('worker', '8')]\n",
      "[('film', 'Aatsinki: The Story of Arctic Cowboys'), ('worker', '7')]\n",
      "[('film', 'South of 8'), ('worker', '6')]\n",
      "[('film', 'Liberation'), ('worker', '6')]\n"
     ]
    },
    {
     "data": {
      "text/plain": [
       "10"
      ]
     },
     "execution_count": 26,
     "metadata": {},
     "output_type": "execute_result"
    }
   ],
   "source": [
    "queryString = \"\"\"\n",
    "SELECT DISTINCT ?film (COUNT(DISTINCT ?x) AS ?worker)\n",
    "WHERE { \n",
    "?o wdt:P31 wd:Q11424.\n",
    "?x wdt:P800 ?o.\n",
    "?x wdt:P31 wd:Q5.\n",
    "?o <http://schema.org/name> ?film .\n",
    "} \n",
    "GROUP BY ?o ?film\n",
    "ORDER BY DESC (?worker)\n",
    "LIMIT 10\n",
    "\"\"\"\n",
    "\n",
    "print(\"Results\")\n",
    "run_query(queryString)"
   ]
  },
  {
   "cell_type": "code",
   "execution_count": 27,
   "id": "5fc04ec7-62a4-4fe1-b705-d0caca02871f",
   "metadata": {},
   "outputs": [
    {
     "name": "stdout",
     "output_type": "stream",
     "text": [
      "Results\n",
      "[('film', 'The Great Hack'), ('worker', '4')]\n",
      "[('film', 'Citizenfour'), ('worker', '1')]\n",
      "[('film', 'Colonel Chabert'), ('worker', '1')]\n",
      "[('film', 'The Longest Day'), ('worker', '1')]\n",
      "[('film', 'Octopusalarm'), ('worker', '1')]\n",
      "[('film', 'Mary Queen of Scots'), ('worker', '1')]\n",
      "[('film', 'Night of the Seagulls'), ('worker', '1')]\n",
      "[('film', \"Aurelie Laflamme's Diary\"), ('worker', '1')]\n",
      "[('film', 'In the Waves'), ('worker', '1')]\n",
      "[('film', 'Life of Pi'), ('worker', '1')]\n"
     ]
    },
    {
     "data": {
      "text/plain": [
       "10"
      ]
     },
     "execution_count": 27,
     "metadata": {},
     "output_type": "execute_result"
    }
   ],
   "source": [
    "queryString = \"\"\"\n",
    "SELECT DISTINCT ?film (COUNT(DISTINCT ?x) AS ?worker)\n",
    "WHERE { \n",
    "?o wdt:P31 wd:Q11424.\n",
    "?x wdt:P3919 ?o.\n",
    "?x wdt:P31 wd:Q5.\n",
    "?o <http://schema.org/name> ?film .\n",
    "} \n",
    "GROUP BY ?o ?film\n",
    "ORDER BY DESC (?worker)\n",
    "LIMIT 10\n",
    "\"\"\"\n",
    "\n",
    "print(\"Results\")\n",
    "run_query(queryString)"
   ]
  },
  {
   "cell_type": "code",
   "execution_count": 28,
   "id": "0e0fb754-b3e6-4b3d-9014-6366bab3de74",
   "metadata": {},
   "outputs": [
    {
     "name": "stdout",
     "output_type": "stream",
     "text": [
      "Results\n",
      "[('film', 'Kingdom of Heaven'), ('worker', '11')]\n",
      "[('film', 'iSteve'), ('worker', '11')]\n",
      "[('film', 'Kazimierz Wielki'), ('worker', '9')]\n",
      "[('film', 'Tombstone'), ('worker', '8')]\n",
      "[('film', 'Hrabina Cosel'), ('worker', '7')]\n",
      "[('film', 'Chopin: Desire for Love'), ('worker', '6')]\n",
      "[('film', 'Jack Strong'), ('worker', '6')]\n",
      "[('film', 'A Little Chaos'), ('worker', '6')]\n",
      "[('film', \"Devil's Mistress\"), ('worker', '6')]\n",
      "[('film', 'Copernicus'), ('worker', '5')]\n"
     ]
    },
    {
     "data": {
      "text/plain": [
       "10"
      ]
     },
     "execution_count": 28,
     "metadata": {},
     "output_type": "execute_result"
    }
   ],
   "source": [
    "queryString = \"\"\"\n",
    "SELECT DISTINCT ?film (COUNT(DISTINCT ?x) AS ?worker)\n",
    "WHERE { \n",
    "?o wdt:P31 wd:Q11424.\n",
    "?x wdt:P1441 ?o.\n",
    "?x wdt:P31 wd:Q5.\n",
    "?o <http://schema.org/name> ?film .\n",
    "} \n",
    "GROUP BY ?o ?film\n",
    "ORDER BY DESC (?worker)\n",
    "LIMIT 10\n",
    "\"\"\"\n",
    "\n",
    "print(\"Results\")\n",
    "run_query(queryString)"
   ]
  },
  {
   "cell_type": "code",
   "execution_count": 29,
   "id": "98087691-059c-4c32-a13b-82865d745bd7",
   "metadata": {},
   "outputs": [
    {
     "name": "stdout",
     "output_type": "stream",
     "text": [
      "Results\n",
      "[('film', 'Dances with Wolves'), ('worker', '1')]\n"
     ]
    },
    {
     "data": {
      "text/plain": [
       "1"
      ]
     },
     "execution_count": 29,
     "metadata": {},
     "output_type": "execute_result"
    }
   ],
   "source": [
    "queryString = \"\"\"\n",
    "SELECT DISTINCT ?film (COUNT(DISTINCT ?x) AS ?worker)\n",
    "WHERE { \n",
    "?o wdt:P31 wd:Q11424.\n",
    "?x wdt:P767 ?o.\n",
    "?x wdt:P31 wd:Q5.\n",
    "?o <http://schema.org/name> ?film .\n",
    "} \n",
    "GROUP BY ?o ?film\n",
    "ORDER BY DESC (?worker)\n",
    "LIMIT 10\n",
    "\"\"\"\n",
    "\n",
    "print(\"Results\")\n",
    "run_query(queryString)"
   ]
  },
  {
   "cell_type": "code",
   "execution_count": 31,
   "id": "f34f43b8-460f-4290-87ad-eb2f41fbf06e",
   "metadata": {},
   "outputs": [
    {
     "name": "stdout",
     "output_type": "stream",
     "text": [
      "Results\n",
      "[('film', 'Dirty God'), ('worker', '1')]\n"
     ]
    },
    {
     "data": {
      "text/plain": [
       "1"
      ]
     },
     "execution_count": 31,
     "metadata": {},
     "output_type": "execute_result"
    }
   ],
   "source": [
    "queryString = \"\"\"\n",
    "SELECT DISTINCT ?film (COUNT(DISTINCT ?x) AS ?worker)\n",
    "WHERE { \n",
    "?o wdt:P31 wd:Q11424.\n",
    "?x wdt:P1686 ?o.\n",
    "?x wdt:P31 wd:Q5.\n",
    "?o <http://schema.org/name> ?film .\n",
    "} \n",
    "GROUP BY ?o ?film\n",
    "ORDER BY DESC (?worker)\n",
    "LIMIT 10\n",
    "\"\"\"\n",
    "\n",
    "print(\"Results\")\n",
    "run_query(queryString)"
   ]
  },
  {
   "cell_type": "markdown",
   "id": "26cdd861-6648-4428-871d-ba5ce87b2018",
   "metadata": {},
   "source": [
    "All of these are very poor results if I consider that there are a lot of people that generally work on a film. \n",
    "Let's see some numerical result from the predicates found above from film to people:\n",
    "- P161: cast member;\n",
    "- P3092: film crew member;\n",
    "- P1029: crew members;\n",
    "- P3342: significant person."
   ]
  },
  {
   "cell_type": "code",
   "execution_count": 32,
   "id": "f597f22b-a779-4503-b421-1dfd3a7d78f0",
   "metadata": {},
   "outputs": [
    {
     "name": "stdout",
     "output_type": "stream",
     "text": [
      "Results\n",
      "[('film', 'Baantjer, de film: De Cock en de wraak zonder einde'), ('cast', '267')]\n",
      "[('film', 'Mamma Mia! Here We Go Again'), ('cast', '224')]\n",
      "[('film', 'Nevinné lži'), ('cast', '156')]\n",
      "[('film', 'If Paris Were Told to Us'), ('cast', '152')]\n",
      "[('film', 'Napoléon'), ('cast', '142')]\n",
      "[('film', 'Days of Betrayal'), ('cast', '138')]\n",
      "[('film', 'Lennon or McCartney'), ('cast', '138')]\n",
      "[('film', 'Royal Affairs in Versailles'), ('cast', '131')]\n",
      "[('film', 'Ali'), ('cast', '121')]\n",
      "[('film', 'Love Between the Raindrops'), ('cast', '120')]\n"
     ]
    },
    {
     "data": {
      "text/plain": [
       "10"
      ]
     },
     "execution_count": 32,
     "metadata": {},
     "output_type": "execute_result"
    }
   ],
   "source": [
    "#P161\n",
    "queryString = \"\"\"\n",
    "SELECT ?film (COUNT(DISTINCT ?x) AS ?cast)\n",
    "WHERE { \n",
    "?o wdt:P31 wd:Q11424;\n",
    "    wdt:P161 ?x.\n",
    "?x wdt:P31 wd:Q5.\n",
    "?o <http://schema.org/name> ?film .\n",
    "} \n",
    "GROUP BY ?o ?film\n",
    "ORDER BY DESC (?cast)\n",
    "LIMIT 10\n",
    "\"\"\"\n",
    "\n",
    "print(\"Results\")\n",
    "run_query(queryString)"
   ]
  },
  {
   "cell_type": "code",
   "execution_count": 33,
   "id": "53df9e0d-fd26-4810-9d1b-b84a9492c9d7",
   "metadata": {},
   "outputs": [
    {
     "name": "stdout",
     "output_type": "stream",
     "text": [
      "Results\n",
      "[('film', 'Captain America: Civil War'), ('film_crew', '43')]\n",
      "[('film', \"Le choix d'un peuple\"), ('film_crew', '28')]\n",
      "[('film', 'Rogue One'), ('film_crew', '26')]\n",
      "[('film', 'Doctor Strange'), ('film_crew', '23')]\n",
      "[('film', 'Thor: Ragnarok'), ('film_crew', '21')]\n",
      "[('film', 'So Dear to My Heart'), ('film_crew', '21')]\n",
      "[('film', 'Ant-Man'), ('film_crew', '18')]\n",
      "[('film', 'The Other Side of November'), ('film_crew', '14')]\n",
      "[('film', 'The Untouchable'), ('film_crew', '14')]\n",
      "[('film', '15 nov.'), ('film_crew', '13')]\n"
     ]
    },
    {
     "data": {
      "text/plain": [
       "10"
      ]
     },
     "execution_count": 33,
     "metadata": {},
     "output_type": "execute_result"
    }
   ],
   "source": [
    "#P3092\n",
    "queryString = \"\"\"\n",
    "SELECT ?film (COUNT(DISTINCT ?x) AS ?film_crew)\n",
    "WHERE { \n",
    "?o wdt:P31 wd:Q11424;\n",
    "    wdt:P3092 ?x.\n",
    "?x wdt:P31 wd:Q5.\n",
    "?o <http://schema.org/name> ?film .\n",
    "} \n",
    "GROUP BY ?o ?film\n",
    "ORDER BY DESC (?film_crew)\n",
    "LIMIT 10\n",
    "\"\"\"\n",
    "\n",
    "print(\"Results\")\n",
    "run_query(queryString)"
   ]
  },
  {
   "cell_type": "code",
   "execution_count": 34,
   "id": "91c3a5ea-eb1d-46b9-883d-adcb89874520",
   "metadata": {},
   "outputs": [
    {
     "name": "stdout",
     "output_type": "stream",
     "text": [
      "Results\n",
      "[('film', 'Pickpocket'), ('crew', '3')]\n",
      "[('film', 'The Eclipse'), ('crew', '1')]\n",
      "[('film', 'German Concentration Camps Factual Survey'), ('crew', '1')]\n",
      "[('film', 'Boncou, Tribal Postman'), ('crew', '1')]\n",
      "[('film', 'Ant-Man'), ('crew', '1')]\n"
     ]
    },
    {
     "data": {
      "text/plain": [
       "5"
      ]
     },
     "execution_count": 34,
     "metadata": {},
     "output_type": "execute_result"
    }
   ],
   "source": [
    "#P1029\n",
    "queryString = \"\"\"\n",
    "SELECT ?film (COUNT(DISTINCT ?x) AS ?crew)\n",
    "WHERE { \n",
    "?o wdt:P31 wd:Q11424;\n",
    "    wdt:P1029 ?x.\n",
    "?x wdt:P31 wd:Q5.\n",
    "?o <http://schema.org/name> ?film .\n",
    "} \n",
    "GROUP BY ?o ?film\n",
    "ORDER BY DESC (?crew)\n",
    "LIMIT 10\n",
    "\"\"\"\n",
    "\n",
    "print(\"Results\")\n",
    "run_query(queryString)"
   ]
  },
  {
   "cell_type": "code",
   "execution_count": 35,
   "id": "a715f141-47a9-44d7-9224-0fb1c6e28932",
   "metadata": {},
   "outputs": [
    {
     "name": "stdout",
     "output_type": "stream",
     "text": [
      "Results\n",
      "[('film', 'Bullets, Fangs and Dinner at 8'), ('significant', '2')]\n",
      "[('film', 'The Samuel Project'), ('significant', '2')]\n",
      "[('film', 'Graduation Afternoon'), ('significant', '1')]\n",
      "[('film', 'Va savoir'), ('significant', '1')]\n",
      "[('film', 'Five Feet Apart'), ('significant', '1')]\n",
      "[('film', 'Mike & Fred vs the Dead'), ('significant', '1')]\n",
      "[('film', 'Clouds'), ('significant', '1')]\n",
      "[('film', 'Susi Susanti: Love All'), ('significant', '1')]\n",
      "[('film', 'Sophie Scholl – The Final Days'), ('significant', '1')]\n",
      "[('film', 'South of 8'), ('significant', '1')]\n"
     ]
    },
    {
     "data": {
      "text/plain": [
       "10"
      ]
     },
     "execution_count": 35,
     "metadata": {},
     "output_type": "execute_result"
    }
   ],
   "source": [
    "#P1029\n",
    "queryString = \"\"\"\n",
    "SELECT ?film (COUNT(DISTINCT ?x) AS ?significant)\n",
    "WHERE { \n",
    "?o wdt:P31 wd:Q11424;\n",
    "    wdt:P3342 ?x.\n",
    "?x wdt:P31 wd:Q5.\n",
    "?o <http://schema.org/name> ?film .\n",
    "} \n",
    "GROUP BY ?o ?film\n",
    "ORDER BY DESC (?significant)\n",
    "LIMIT 10\n",
    "\"\"\"\n",
    "\n",
    "print(\"Results\")\n",
    "run_query(queryString)"
   ]
  },
  {
   "cell_type": "code",
   "execution_count": 36,
   "id": "652dc66b-5370-4f83-8efe-59bdb9823fee",
   "metadata": {},
   "outputs": [
    {
     "name": "stdout",
     "output_type": "stream",
     "text": [
      "Results\n",
      "[('film', 'Baantjer, de film: De Cock en de wraak zonder einde'), ('all', '272')]\n",
      "[('film', 'Mamma Mia! Here We Go Again'), ('all', '230')]\n",
      "[('film', 'Nevinné lži'), ('all', '191')]\n",
      "[('film', 'Royal Affairs in Versailles'), ('all', '190')]\n",
      "[('film', 'If Paris Were Told to Us'), ('all', '154')]\n",
      "[('film', 'Captain America: Civil War'), ('all', '153')]\n",
      "[('film', 'Napoléon'), ('all', '149')]\n",
      "[('film', 'Days of Betrayal'), ('all', '143')]\n",
      "[('film', 'Rogue One'), ('all', '140')]\n",
      "[('film', 'Lennon or McCartney'), ('all', '138')]\n"
     ]
    },
    {
     "data": {
      "text/plain": [
       "10"
      ]
     },
     "execution_count": 36,
     "metadata": {},
     "output_type": "execute_result"
    }
   ],
   "source": [
    "#all people connected with a film\n",
    "queryString = \"\"\"\n",
    "SELECT ?film (COUNT(DISTINCT ?x) AS ?all)\n",
    "WHERE { \n",
    "?o wdt:P31 wd:Q11424;\n",
    "    ?pr ?x.\n",
    "?x wdt:P31 wd:Q5.\n",
    "?o <http://schema.org/name> ?film .\n",
    "} \n",
    "GROUP BY ?o ?film\n",
    "ORDER BY DESC (?all)\n",
    "LIMIT 10\n",
    "\"\"\"\n",
    "\n",
    "print(\"Results\")\n",
    "run_query(queryString)"
   ]
  },
  {
   "cell_type": "code",
   "execution_count": 37,
   "id": "032c974d-7238-48e2-b682-4b2ee07fcf6f",
   "metadata": {},
   "outputs": [
    {
     "name": "stdout",
     "output_type": "stream",
     "text": [
      "Results\n",
      "[('film', 'Baantjer, de film: De Cock en de wraak zonder einde'), ('all', '272'), ('cast', '267')]\n",
      "[('film', 'Mamma Mia! Here We Go Again'), ('all', '230'), ('cast', '224')]\n",
      "[('film', 'Nevinné lži'), ('all', '191'), ('cast', '156')]\n",
      "[('film', 'Royal Affairs in Versailles'), ('all', '190'), ('cast', '131')]\n",
      "[('film', 'If Paris Were Told to Us'), ('all', '154'), ('cast', '152')]\n",
      "[('film', 'Captain America: Civil War'), ('all', '153'), ('cast', '97')]\n",
      "[('film', 'Napoléon'), ('all', '149'), ('cast', '142')]\n",
      "[('film', 'Days of Betrayal'), ('all', '143'), ('cast', '138')]\n",
      "[('film', 'Rogue One'), ('all', '140'), ('cast', '64')]\n",
      "[('film', 'Lennon or McCartney'), ('all', '138'), ('cast', '138')]\n"
     ]
    },
    {
     "data": {
      "text/plain": [
       "10"
      ]
     },
     "execution_count": 37,
     "metadata": {},
     "output_type": "execute_result"
    }
   ],
   "source": [
    "#all people connected with a film compare to cast members\n",
    "queryString = \"\"\"\n",
    "SELECT ?film ?all ?cast\n",
    "WHERE { \n",
    "    {\n",
    "        SELECT DISTINCT ?o (COUNT(DISTINCT ?x) AS ?all)\n",
    "        WHERE { \n",
    "        ?o wdt:P31 wd:Q11424;\n",
    "            ?pr ?x.\n",
    "        ?x wdt:P31 wd:Q5.\n",
    "        } \n",
    "        GROUP BY ?o\n",
    "    }\n",
    "    {\n",
    "        SELECT DISTINCT ?o (COUNT(DISTINCT ?x) AS ?cast)\n",
    "        WHERE { \n",
    "        ?o wdt:P31 wd:Q11424;\n",
    "            wdt:P161 ?x.\n",
    "        ?x wdt:P31 wd:Q5.\n",
    "        } \n",
    "        GROUP BY ?o\n",
    "    }\n",
    "    ?o <http://schema.org/name> ?film .\n",
    "} \n",
    "GROUP BY ?o ?film\n",
    "ORDER BY DESC (?all)\n",
    "LIMIT 10\n",
    "\"\"\"\n",
    "\n",
    "print(\"Results\")\n",
    "run_query(queryString)"
   ]
  },
  {
   "cell_type": "markdown",
   "id": "17fe7bfa-bd3f-4666-b909-aede80edd565",
   "metadata": {},
   "source": [
    "#### Consideration\n",
    "In the most cases the cast members represents the majority of the people that work on a film. The other people are surely choreographer, costum designer, editors, producers. Since I don't find any predicate that tell me the simple fact that a people work on a film I will use this BGP to represent people work on a film.\n",
    "\n",
    "```\n",
    "?o wdt:P31 wd:Q11424;\n",
    "    ?pr ?x.\n",
    "?x wdt:P31 wd:Q5.\n",
    "```"
   ]
  },
  {
   "cell_type": "markdown",
   "id": "25bd0dfa-f0c1-4d31-9c83-4672b40c4b7b",
   "metadata": {
    "jp-MarkdownHeadingCollapsed": true,
    "tags": []
   },
   "source": [
    "## Task 4\n",
    "Compare the workers amongst the films directed by the two directors\n",
    "\n",
    "Starting from the BGP above, the predicate director (wdt:P57) and the two director nodes wd:Q25089 (Woody Allen) and wd:Q3772 (Quentin Tarantino) I will perform some query."
   ]
  },
  {
   "cell_type": "markdown",
   "id": "49b27310-e4ac-4771-81d7-9218755346ed",
   "metadata": {
    "tags": []
   },
   "source": [
    "#### Query 1. \n",
    "\n",
    "**Which are the top 10 films with more people worked on?**\n",
    "\n",
    "\n",
    "**Is Quentin Tarantino the director of the film with more people worked on?**"
   ]
  },
  {
   "cell_type": "code",
   "execution_count": 48,
   "id": "8e326d69-0769-4e33-8885-c57edd451cc5",
   "metadata": {},
   "outputs": [
    {
     "name": "stdout",
     "output_type": "stream",
     "text": [
      "Results\n",
      "[('film', 'Once Upon a Time in Hollywood'), ('director', 'Quentin Tarantino'), ('all', '81')]\n",
      "[('film', 'Celebrity'), ('director', 'Woody Allen'), ('all', '74')]\n",
      "[('film', 'Django Unchained'), ('director', 'Quentin Tarantino'), ('all', '62')]\n",
      "[('film', 'Inglourious Basterds'), ('director', 'Quentin Tarantino'), ('all', '60')]\n",
      "[('film', 'To Rome with Love'), ('director', 'Woody Allen'), ('all', '48')]\n",
      "[('film', 'New York Stories'), ('director', 'Woody Allen'), ('all', '46')]\n",
      "[('film', 'Zelig'), ('director', 'Woody Allen'), ('all', '45')]\n",
      "[('film', 'Pulp Fiction'), ('director', 'Quentin Tarantino'), ('all', '43')]\n",
      "[('film', 'The Concert for New York City'), ('director', 'Woody Allen'), ('all', '43')]\n",
      "[('film', 'Deconstructing Harry'), ('director', 'Woody Allen'), ('all', '41')]\n"
     ]
    },
    {
     "data": {
      "text/plain": [
       "10"
      ]
     },
     "execution_count": 48,
     "metadata": {},
     "output_type": "execute_result"
    }
   ],
   "source": [
    "# TOP-10 films with director and people\n",
    "queryString = \"\"\"\n",
    "SELECT ?film ?director (COUNT(DISTINCT ?x) AS ?all)\n",
    "WHERE { \n",
    "?o wdt:P31 wd:Q11424;\n",
    "    wdt:P57 ?dir;\n",
    "    ?pr ?x.\n",
    "?x wdt:P31 wd:Q5.\n",
    "?o <http://schema.org/name> ?film .\n",
    "?dir <http://schema.org/name> ?director .\n",
    "FILTER(?dir = wd:Q25089 || ?dir = wd:Q3772)\n",
    "} \n",
    "GROUP BY ?o ?film ?director ?dir\n",
    "ORDER BY DESC (?all)\n",
    "LIMIT 10\n",
    "\"\"\"\n",
    "\n",
    "print(\"Results\")\n",
    "run_query(queryString)"
   ]
  },
  {
   "cell_type": "code",
   "execution_count": 49,
   "id": "3c8892ac-2dcd-46f8-b2f4-5a40f20339b6",
   "metadata": {},
   "outputs": [
    {
     "name": "stdout",
     "output_type": "stream",
     "text": [
      "Results\n"
     ]
    },
    {
     "data": {
      "text/plain": [
       "{'head': {'link': []}, 'boolean': True}"
      ]
     },
     "execution_count": 49,
     "metadata": {},
     "output_type": "execute_result"
    }
   ],
   "source": [
    "#Ask if Tarantino is the director of the film with more people worked on\n",
    "queryString = \"\"\"\n",
    "ASK WHERE { \n",
    "{\n",
    "    SELECT ?f ?dir (COUNT(DISTINCT ?x) AS ?all)\n",
    "    WHERE { \n",
    "    ?f wdt:P31 wd:Q11424;\n",
    "        wdt:P57 ?dir;\n",
    "        ?pr ?x.\n",
    "    ?x wdt:P31 wd:Q5.\n",
    "    FILTER(?dir = wd:Q25089 || ?dir = wd:Q3772)\n",
    "    } \n",
    "    GROUP BY ?f ?dir\n",
    "    ORDER BY DESC (?all)\n",
    "    LIMIT 1\n",
    "}\n",
    "FILTER(?dir = wd:Q3772)\n",
    "    \n",
    "} \n",
    "\"\"\"\n",
    "\n",
    "print(\"Results\")\n",
    "run_ask_query(queryString)"
   ]
  },
  {
   "cell_type": "markdown",
   "id": "37920dd4-3302-489b-bc13-aebaed530990",
   "metadata": {
    "jp-MarkdownHeadingCollapsed": true,
    "tags": []
   },
   "source": [
    "#### Query 2. \n",
    "\n",
    "**Which is the film with the biggest cast? Who is the director?**"
   ]
  },
  {
   "cell_type": "code",
   "execution_count": 50,
   "id": "f66458e1-5d64-4220-b24e-66177e9b000e",
   "metadata": {},
   "outputs": [
    {
     "name": "stdout",
     "output_type": "stream",
     "text": [
      "Results\n",
      "[('film', 'Celebrity'), ('director', 'Woody Allen'), ('cast', '64')]\n"
     ]
    },
    {
     "data": {
      "text/plain": [
       "1"
      ]
     },
     "execution_count": 50,
     "metadata": {},
     "output_type": "execute_result"
    }
   ],
   "source": [
    "queryString = \"\"\"\n",
    "SELECT ?film ?director ?cast\n",
    "WHERE {\n",
    "    {\n",
    "        SELECT ?f ?dir (COUNT(DISTINCT ?x) AS ?cast)\n",
    "        WHERE {\n",
    "        ?f wdt:P31 wd:Q11424;\n",
    "            wdt:P57 ?dir;\n",
    "            wdt:P161 ?x.\n",
    "        ?x wdt:P31 wd:Q5.\n",
    "        FILTER(?dir = wd:Q25089 || ?dir = wd:Q3772)\n",
    "        } \n",
    "        GROUP BY ?f ?dir\n",
    "    }\n",
    "    {\n",
    "        SELECT MAX(?c) AS ?max WHERE\n",
    "        {\n",
    "            SELECT ?f ?dir (COUNT(DISTINCT ?x) AS ?c)\n",
    "            WHERE {\n",
    "            ?f wdt:P31 wd:Q11424;\n",
    "                wdt:P57 ?dir;\n",
    "                wdt:P161 ?x.\n",
    "            ?x wdt:P31 wd:Q5.\n",
    "            FILTER(?dir = wd:Q25089 || ?dir = wd:Q3772)\n",
    "            } \n",
    "            GROUP BY ?f ?dir\n",
    "        }\n",
    "    }\n",
    "    ?f <http://schema.org/name> ?film .\n",
    "    ?dir <http://schema.org/name> ?director .\n",
    "    FILTER (?cast = ?max)\n",
    "} \n",
    "\"\"\"\n",
    "\n",
    "print(\"Results\")\n",
    "run_query(queryString)"
   ]
  },
  {
   "cell_type": "markdown",
   "id": "06a6e494-780c-4ad0-bd73-68a592fe2153",
   "metadata": {
    "jp-MarkdownHeadingCollapsed": true,
    "tags": []
   },
   "source": [
    "#### Query 3. \n",
    "\n",
    "**How many films they directed with a cast of more than 10 people?**"
   ]
  },
  {
   "cell_type": "code",
   "execution_count": 60,
   "id": "ee49ea76-5dd9-4971-acbf-652dd3dd3450",
   "metadata": {},
   "outputs": [
    {
     "name": "stdout",
     "output_type": "stream",
     "text": [
      "Results\n",
      "[('film', 'Celebrity'), ('director', 'Woody Allen'), ('cast', '64')]\n",
      "[('film', 'Inglourious Basterds'), ('director', 'Quentin Tarantino'), ('cast', '52')]\n",
      "[('film', 'Django Unchained'), ('director', 'Quentin Tarantino'), ('cast', '52')]\n",
      "[('film', 'Once Upon a Time in Hollywood'), ('director', 'Quentin Tarantino'), ('cast', '51')]\n",
      "[('film', 'To Rome with Love'), ('director', 'Woody Allen'), ('cast', '45')]\n",
      "[('film', 'Zelig'), ('director', 'Woody Allen'), ('cast', '39')]\n",
      "[('film', 'New York Stories'), ('director', 'Woody Allen'), ('cast', '39')]\n",
      "[('film', 'The Concert for New York City'), ('director', 'Woody Allen'), ('cast', '39')]\n",
      "[('film', 'Love and Death'), ('director', 'Woody Allen'), ('cast', '35')]\n",
      "[('film', 'Shadows and Fog'), ('director', 'Woody Allen'), ('cast', '35')]\n",
      "[('film', 'Sin City'), ('director', 'Quentin Tarantino'), ('cast', '35')]\n",
      "[('film', 'Deconstructing Harry'), ('director', 'Woody Allen'), ('cast', '35')]\n",
      "[('film', 'Pulp Fiction'), ('director', 'Quentin Tarantino'), ('cast', '35')]\n",
      "[('film', 'Midnight in Paris'), ('director', 'Woody Allen'), ('cast', '34')]\n",
      "[('film', 'Annie Hall'), ('director', 'Woody Allen'), ('cast', '30')]\n",
      "[('film', 'Alice'), ('director', 'Woody Allen'), ('cast', '28')]\n",
      "[('film', 'You Will Meet a Tall Dark Stranger'), ('director', 'Woody Allen'), ('cast', '27')]\n",
      "[('film', 'Radio Days'), ('director', 'Woody Allen'), ('cast', '27')]\n",
      "[('film', 'scoop'), ('director', 'Woody Allen'), ('cast', '26')]\n",
      "[('film', 'Bullets Over Broadway'), ('director', 'Woody Allen'), ('cast', '25')]\n",
      "[('film', 'Match Point'), ('director', 'Woody Allen'), ('cast', '24')]\n",
      "[('film', 'Stardust Memories'), ('director', 'Woody Allen'), ('cast', '23')]\n",
      "[('film', 'Crimes and Misdemeanors'), ('director', 'Woody Allen'), ('cast', '23')]\n",
      "[('film', 'Everyone Says I Love You'), ('director', 'Woody Allen'), ('cast', '23')]\n",
      "[('film', 'Melinda and Melinda'), ('director', 'Woody Allen'), ('cast', '22')]\n",
      "[('film', 'Everything You Always Wanted to Know About Sex*'), ('director', 'Woody Allen'), ('cast', '22')]\n",
      "[('film', 'Kill Bill Volume 1'), ('director', 'Quentin Tarantino'), ('cast', '22')]\n",
      "[('film', 'Kill Bill Volume 2'), ('director', 'Quentin Tarantino'), ('cast', '21')]\n",
      "[('film', 'Hollywood Ending'), ('director', 'Woody Allen'), ('cast', '21')]\n",
      "[('film', 'Hannah and Her Sisters'), ('director', 'Woody Allen'), ('cast', '21')]\n",
      "[('film', 'Another Woman'), ('director', 'Woody Allen'), ('cast', '21')]\n",
      "[('film', 'Sweet and Lowdown'), ('director', 'Woody Allen'), ('cast', '20')]\n",
      "[('film', 'Death Proof'), ('director', 'Quentin Tarantino'), ('cast', '19')]\n",
      "[('film', 'The Purple Rose of Cairo'), ('director', 'Woody Allen'), ('cast', '19')]\n",
      "[('film', 'Bananas'), ('director', 'Woody Allen'), ('cast', '18')]\n",
      "[('film', 'Manhattan'), ('director', 'Woody Allen'), ('cast', '18')]\n",
      "[('film', 'Mighty Aphrodite'), ('director', 'Woody Allen'), ('cast', '18')]\n",
      "[('film', \"Cassandra's Dream\"), ('director', 'Woody Allen'), ('cast', '17')]\n",
      "[('film', 'Café Society'), ('director', 'Woody Allen'), ('cast', '16')]\n",
      "[('film', 'Jackie Brown'), ('director', 'Quentin Tarantino'), ('cast', '16')]\n",
      "[('film', 'Husbands and Wives'), ('director', 'Woody Allen'), ('cast', '16')]\n",
      "[('film', 'Whatever Works'), ('director', 'Woody Allen'), ('cast', '15')]\n",
      "[('film', 'The Hateful Eight'), ('director', 'Quentin Tarantino'), ('cast', '15')]\n",
      "[('film', 'The Curse of the Jade Scorpion'), ('director', 'Woody Allen'), ('cast', '14')]\n",
      "[('film', 'Vicky Cristina Barcelona'), ('director', 'Woody Allen'), ('cast', '14')]\n",
      "[('film', 'Small Time Crooks'), ('director', 'Woody Allen'), ('cast', '14')]\n",
      "[('film', 'Broadway Danny Rose'), ('director', 'Woody Allen'), ('cast', '14')]\n",
      "[('film', 'Take the Money and Run'), ('director', 'Woody Allen'), ('cast', '14')]\n",
      "[('film', 'Reservoir Dogs'), ('director', 'Quentin Tarantino'), ('cast', '14')]\n",
      "[('film', 'Blue Jasmine'), ('director', 'Woody Allen'), ('cast', '14')]\n",
      "[('film', 'Manhattan Murder Mystery'), ('director', 'Woody Allen'), ('cast', '12')]\n",
      "[('film', 'Irrational Man'), ('director', 'Woody Allen'), ('cast', '11')]\n",
      "[('film', 'A Rainy Day in New York'), ('director', 'Woody Allen'), ('cast', '11')]\n",
      "[('film', 'Magic in the Moonlight'), ('director', 'Woody Allen'), ('cast', '11')]\n"
     ]
    },
    {
     "data": {
      "text/plain": [
       "54"
      ]
     },
     "execution_count": 60,
     "metadata": {},
     "output_type": "execute_result"
    }
   ],
   "source": [
    "queryString = \"\"\"\n",
    "SELECT ?film ?director (COUNT(DISTINCT ?x) AS ?cast)\n",
    "WHERE {\n",
    "?f wdt:P31 wd:Q11424;\n",
    "    wdt:P57 ?dir;\n",
    "    wdt:P161 ?x.\n",
    "?x wdt:P31 wd:Q5.\n",
    "?f <http://schema.org/name> ?film .\n",
    "?dir <http://schema.org/name> ?director .\n",
    "FILTER(?dir = wd:Q25089 || ?dir = wd:Q3772)\n",
    "} \n",
    "GROUP BY ?f ?dir ?film ?director\n",
    "HAVING (COUNT(DISTINCT ?x) > 10)\n",
    "ORDER BY DESC(?cast)\n",
    "\"\"\"\n",
    "\n",
    "print(\"Results\")\n",
    "run_query(queryString)"
   ]
  },
  {
   "cell_type": "code",
   "execution_count": 61,
   "id": "192650f4-789d-4f67-87f1-f2dd00bf63f1",
   "metadata": {},
   "outputs": [
    {
     "name": "stdout",
     "output_type": "stream",
     "text": [
      "Results\n",
      "[('director', 'Quentin Tarantino'), ('films', '11')]\n",
      "[('director', 'Woody Allen'), ('films', '43')]\n"
     ]
    },
    {
     "data": {
      "text/plain": [
       "2"
      ]
     },
     "execution_count": 61,
     "metadata": {},
     "output_type": "execute_result"
    }
   ],
   "source": [
    "queryString = \"\"\"\n",
    "SELECT ?director (COUNT(*) AS ?films)\n",
    "WHERE {\n",
    "    {\n",
    "        SELECT ?f ?dir (COUNT(DISTINCT ?x) AS ?cast)\n",
    "        WHERE {\n",
    "        ?f wdt:P31 wd:Q11424;\n",
    "            wdt:P57 ?dir;\n",
    "            wdt:P161 ?x.\n",
    "        ?x wdt:P31 wd:Q5.\n",
    "        FILTER(?dir = wd:Q25089 || ?dir = wd:Q3772)\n",
    "        } \n",
    "        GROUP BY ?f ?dir\n",
    "        HAVING (COUNT(DISTINCT ?x) > 10)\n",
    "    }\n",
    "    ?dir <http://schema.org/name> ?director .\n",
    "} \n",
    "GROUP BY ?dir ?director\n",
    "\"\"\"\n",
    "\n",
    "print(\"Results\")\n",
    "run_query(queryString)"
   ]
  },
  {
   "cell_type": "markdown",
   "id": "db8b76d6-9094-45f7-8fba-9feb5ce2ad81",
   "metadata": {
    "jp-MarkdownHeadingCollapsed": true,
    "tags": []
   },
   "source": [
    "## Task 5\n",
    "Return some numerical comparison between the two directors (e.g., how many workers in Tarantino's movies who also worked in Allen's films?, what is the film with the highest number of shared actors? Who is the most used actor by both the directors? etc. )"
   ]
  },
  {
   "cell_type": "code",
   "execution_count": 74,
   "id": "20d6ae3c-16df-4598-9a5e-fe05070773c0",
   "metadata": {},
   "outputs": [
    {
     "name": "stdout",
     "output_type": "stream",
     "text": [
      "Results\n",
      "[('common_workers', '16')]\n"
     ]
    },
    {
     "data": {
      "text/plain": [
       "1"
      ]
     },
     "execution_count": 74,
     "metadata": {},
     "output_type": "execute_result"
    }
   ],
   "source": [
    "#how many workers in Tarantino's movies who also worked in Allen's films?\n",
    "queryString = \"\"\"\n",
    "SELECT (COUNT(*) AS ?common_workers)\n",
    "WHERE {\n",
    "    {\n",
    "        #SELECT WORKERS FROM TARANTINO'S MOVIE\n",
    "        \n",
    "        SELECT DISTINCT ?x AS ?tarantino\n",
    "        WHERE {\n",
    "        ?f wdt:P31 wd:Q11424;\n",
    "            wdt:P57 wd:Q3772;\n",
    "            ?pr ?x.\n",
    "        ?x wdt:P31 wd:Q5.\n",
    "        } \n",
    "    }\n",
    "    \n",
    "    {\n",
    "        #SELECT WORKERS FROM ALLEN'S MOVIE\n",
    "        \n",
    "        SELECT DISTINCT ?x AS ?allen\n",
    "        WHERE {\n",
    "        ?f wdt:P31 wd:Q11424;\n",
    "            wdt:P57 wd:Q25089;\n",
    "            ?pr ?x.\n",
    "        ?x wdt:P31 wd:Q5.\n",
    "        } \n",
    "    }\n",
    "    FILTER(?tarantino = ?allen)\n",
    "}\n",
    "\"\"\"\n",
    "\n",
    "print(\"Results\")\n",
    "run_query(queryString)"
   ]
  },
  {
   "cell_type": "markdown",
   "id": "3404efe8-f27d-4ddb-913b-f0df36e2e423",
   "metadata": {},
   "source": [
    "What is the film with the highest number of shared actors? To answer tho this question I firstly perform a query to find the actors who worked for both director"
   ]
  },
  {
   "cell_type": "code",
   "execution_count": 81,
   "id": "73a0ad9c-1396-4c69-90a2-2b66f798409e",
   "metadata": {},
   "outputs": [
    {
     "name": "stdout",
     "output_type": "stream",
     "text": [
      "Results\n",
      "[('common', 'http://www.wikidata.org/entity/Q185724'), ('actor', 'Mike Myers')]\n",
      "[('common', 'http://www.wikidata.org/entity/Q203804'), ('actor', 'Tim Roth')]\n",
      "[('common', 'http://www.wikidata.org/entity/Q104061'), ('actor', 'Steve Buscemi')]\n",
      "[('common', 'http://www.wikidata.org/entity/Q231096'), ('actor', 'Léa Seydoux')]\n",
      "[('common', 'http://www.wikidata.org/entity/Q109232'), ('actor', 'Rosanna Arquette')]\n",
      "[('common', 'http://www.wikidata.org/entity/Q207596'), ('actor', 'Daryl Hannah')]\n",
      "[('common', 'http://www.wikidata.org/entity/Q36949'), ('actor', 'Robert De Niro')]\n",
      "[('common', 'http://www.wikidata.org/entity/Q125017'), ('actor', 'Uma Thurman')]\n",
      "[('common', 'http://www.wikidata.org/entity/Q185051'), ('actor', 'Christopher Walken')]\n",
      "[('common', 'http://www.wikidata.org/entity/Q38111'), ('actor', 'Leonardo DiCaprio')]\n",
      "[('common', 'http://www.wikidata.org/entity/Q202148'), ('actor', 'Burt Reynolds')]\n",
      "[('common', 'http://www.wikidata.org/entity/Q76819'), ('actor', 'Christoph Waltz')]\n"
     ]
    },
    {
     "data": {
      "text/plain": [
       "12"
      ]
     },
     "execution_count": 81,
     "metadata": {},
     "output_type": "execute_result"
    }
   ],
   "source": [
    "#what is the film with the highest number of shared actors?\n",
    "queryString = \"\"\"\n",
    "SELECT ?common ?actor\n",
    "WHERE {\n",
    "    {\n",
    "        #SELECT WORKERS FROM TARANTINO'S MOVIE\n",
    "        \n",
    "        SELECT DISTINCT ?x AS ?tarantino\n",
    "        WHERE {\n",
    "        ?f wdt:P31 wd:Q11424;\n",
    "            wdt:P57 wd:Q3772;\n",
    "            wdt:P161 ?x.\n",
    "        ?x wdt:P31 wd:Q5.\n",
    "        } \n",
    "    }\n",
    "    \n",
    "    {\n",
    "        #SELECT WORKERS FROM ALLEN'S MOVIE\n",
    "        \n",
    "        SELECT DISTINCT ?x AS ?allen\n",
    "        WHERE {\n",
    "        ?f wdt:P31 wd:Q11424;\n",
    "            wdt:P57 wd:Q25089;\n",
    "            wdt:P161 ?x.\n",
    "        ?x wdt:P31 wd:Q5.\n",
    "        } \n",
    "    }\n",
    "    FILTER(?tarantino = ?allen)\n",
    "    BIND(?tarantino AS ?common)\n",
    "    ?common sc:name ?actor \n",
    "}\n",
    "\"\"\"\n",
    "\n",
    "print(\"Results\")\n",
    "run_query(queryString)"
   ]
  },
  {
   "cell_type": "code",
   "execution_count": 85,
   "id": "ebf8ccb3-f622-45be-9964-1dd0063d55be",
   "metadata": {},
   "outputs": [
    {
     "name": "stdout",
     "output_type": "stream",
     "text": [
      "Results\n",
      "[('film', 'Pulp Fiction'), ('more', '5')]\n",
      "[('film', 'The Concert for New York City'), ('more', '4')]\n",
      "[('film', 'One Hundred and One Nights'), ('more', '3')]\n",
      "[('film', 'Inglourious Basterds'), ('more', '3')]\n",
      "[('film', 'Once Upon a Time in Hollywood'), ('more', '3')]\n",
      "[('film', 'The War with Grandpa'), ('more', '3')]\n",
      "[('film', 'Search and Destroy'), ('more', '2')]\n",
      "[('film', 'Kiss Daddy Goodnight'), ('more', '2')]\n",
      "[('film', 'King of New York'), ('more', '2')]\n",
      "[('film', 'Deceiver'), ('more', '2')]\n"
     ]
    },
    {
     "data": {
      "text/plain": [
       "10"
      ]
     },
     "execution_count": 85,
     "metadata": {},
     "output_type": "execute_result"
    }
   ],
   "source": [
    "#find films in which these actors worked\n",
    "queryString = \"\"\"\n",
    "SELECT ?film (COUNT(DISTINCT ?actor) AS ?more)\n",
    "WHERE {\n",
    "    {\n",
    "        SELECT ?common\n",
    "        WHERE {\n",
    "            {\n",
    "                #SELECT WORKERS FROM TARANTINO'S MOVIE\n",
    "\n",
    "                SELECT DISTINCT ?x AS ?tarantino\n",
    "                WHERE {\n",
    "                ?f wdt:P31 wd:Q11424;\n",
    "                    wdt:P57 wd:Q3772;\n",
    "                    wdt:P161 ?x.\n",
    "                ?x wdt:P31 wd:Q5.\n",
    "                } \n",
    "            }\n",
    "\n",
    "            {\n",
    "                #SELECT WORKERS FROM ALLEN'S MOVIE\n",
    "\n",
    "                SELECT DISTINCT ?x AS ?allen\n",
    "                WHERE {\n",
    "                ?f wdt:P31 wd:Q11424;\n",
    "                    wdt:P57 wd:Q25089;\n",
    "                    wdt:P161 ?x.\n",
    "                ?x wdt:P31 wd:Q5.\n",
    "                } \n",
    "            }\n",
    "            FILTER(?tarantino = ?allen)\n",
    "            BIND(?tarantino AS ?common)\n",
    "        }\n",
    "    }\n",
    "    ?f wdt:P31 wd:Q11424;\n",
    "        wdt:P161 ?x.\n",
    "    ?f sc:name ?film.\n",
    "    ?common sc:name ?actor.\n",
    "    FILTER(?x = ?common)\n",
    "}\n",
    "\n",
    "GROUP BY ?f ?film\n",
    "ORDER BY DESC (?more)\n",
    "LIMIT 10\n",
    "\"\"\"\n",
    "\n",
    "print(\"Results\")\n",
    "run_query(queryString)"
   ]
  },
  {
   "cell_type": "code",
   "execution_count": 18,
   "id": "8e73b0f3-78f7-4a50-8fcb-aff88bc28e69",
   "metadata": {},
   "outputs": [
    {
     "name": "stdout",
     "output_type": "stream",
     "text": [
      "Results\n",
      "[('film', 'Pulp Fiction'), ('director', 'Quentin Tarantino'), ('more', '5'), ('actors', 'Tim Roth,Steve Buscemi,Rosanna Arquette,Uma Thurman,Christopher Walken')]\n"
     ]
    },
    {
     "data": {
      "text/plain": [
       "1"
      ]
     },
     "execution_count": 18,
     "metadata": {},
     "output_type": "execute_result"
    }
   ],
   "source": [
    "#find films in which these actors worked\n",
    "queryString = \"\"\"\n",
    "SELECT ?film ?director (COUNT(DISTINCT ?actor) AS ?more) (GROUP_CONCAT(?actor;separator=\",\") AS ?actors)\n",
    "WHERE {\n",
    "    {\n",
    "        SELECT ?common\n",
    "        WHERE {\n",
    "            {\n",
    "                #SELECT WORKERS FROM TARANTINO'S MOVIE\n",
    "\n",
    "                SELECT DISTINCT ?x AS ?tarantino\n",
    "                WHERE {\n",
    "                ?f wdt:P31 wd:Q11424;\n",
    "                    wdt:P57 wd:Q3772;\n",
    "                    wdt:P161 ?x.\n",
    "                ?x wdt:P31 wd:Q5.\n",
    "                } \n",
    "            }\n",
    "            {\n",
    "                #SELECT WORKERS FROM ALLEN'S MOVIE\n",
    "\n",
    "                SELECT DISTINCT ?x AS ?allen\n",
    "                WHERE {\n",
    "                ?f wdt:P31 wd:Q11424;\n",
    "                    wdt:P57 wd:Q25089;\n",
    "                    wdt:P161 ?x.\n",
    "                ?x wdt:P31 wd:Q5.\n",
    "                } \n",
    "            }\n",
    "            FILTER(?tarantino = ?allen)\n",
    "            BIND(?tarantino AS ?common)\n",
    "        }\n",
    "    }\n",
    "    ?f wdt:P31 wd:Q11424;\n",
    "        wdt:P57 ?dir;\n",
    "        wdt:P161 ?x.\n",
    "    ?f sc:name ?film.\n",
    "    ?common sc:name ?actor.\n",
    "    ?dir sc:name ?director.\n",
    "    #FILTER((?dir = wd:Q25089 || ?dir = wd:Q3772) && (?x = ?common))\n",
    "    FILTER(?x = ?common)\n",
    "}\n",
    "\n",
    "GROUP BY ?f ?film ?dir ?director\n",
    "ORDER BY DESC (?more)\n",
    "LIMIT 1\n",
    "\"\"\"\n",
    "\n",
    "print(\"Results\")\n",
    "run_query(queryString)"
   ]
  },
  {
   "cell_type": "markdown",
   "id": "ee34f27f-010d-4a7c-9a6a-6c13d748cad5",
   "metadata": {},
   "source": [
    "Who is the most used actor by both the directors?"
   ]
  },
  {
   "cell_type": "code",
   "execution_count": 19,
   "id": "7dadb255-c1ae-4cd2-b526-af75db599a0e",
   "metadata": {},
   "outputs": [
    {
     "name": "stdout",
     "output_type": "stream",
     "text": [
      "Results\n",
      "[('director', 'Quentin Tarantino'), ('actor', 'Uma Thurman'), ('films', '4')]\n",
      "[('director', 'Quentin Tarantino'), ('actor', 'Tim Roth'), ('films', '4')]\n",
      "[('director', 'Quentin Tarantino'), ('actor', 'Daryl Hannah'), ('films', '3')]\n",
      "[('director', 'Quentin Tarantino'), ('actor', 'Steve Buscemi'), ('films', '2')]\n",
      "[('director', 'Woody Allen'), ('actor', 'Steve Buscemi'), ('films', '2')]\n",
      "[('director', 'Woody Allen'), ('actor', 'Leonardo DiCaprio'), ('films', '2')]\n",
      "[('director', 'Quentin Tarantino'), ('actor', 'Leonardo DiCaprio'), ('films', '2')]\n",
      "[('director', 'Quentin Tarantino'), ('actor', 'Christoph Waltz'), ('films', '2')]\n",
      "[('director', 'Woody Allen'), ('actor', 'Tim Roth'), ('films', '1')]\n",
      "[('director', 'Woody Allen'), ('actor', 'Uma Thurman'), ('films', '1')]\n"
     ]
    },
    {
     "data": {
      "text/plain": [
       "10"
      ]
     },
     "execution_count": 19,
     "metadata": {},
     "output_type": "execute_result"
    }
   ],
   "source": [
    "#find films in which these actors worked\n",
    "queryString = \"\"\"\n",
    "SELECT ?director ?actor (COUNT(DISTINCT ?f) AS ?films)\n",
    "WHERE {\n",
    "    {\n",
    "        SELECT ?common\n",
    "        WHERE {\n",
    "            {\n",
    "                #SELECT WORKERS FROM TARANTINO'S MOVIE\n",
    "\n",
    "                SELECT DISTINCT ?x AS ?tarantino\n",
    "                WHERE {\n",
    "                ?f wdt:P31 wd:Q11424;\n",
    "                    wdt:P57 wd:Q3772;\n",
    "                    wdt:P161 ?x.\n",
    "                ?x wdt:P31 wd:Q5.\n",
    "                } \n",
    "            }\n",
    "            {\n",
    "                #SELECT WORKERS FROM ALLEN'S MOVIE\n",
    "\n",
    "                SELECT DISTINCT ?x AS ?allen\n",
    "                WHERE {\n",
    "                ?f wdt:P31 wd:Q11424;\n",
    "                    wdt:P57 wd:Q25089;\n",
    "                    wdt:P161 ?x.\n",
    "                ?x wdt:P31 wd:Q5.\n",
    "                } \n",
    "            }\n",
    "            FILTER(?tarantino = ?allen)\n",
    "            BIND(?tarantino AS ?common)\n",
    "        }\n",
    "    }\n",
    "    ?f wdt:P31 wd:Q11424;\n",
    "        wdt:P57 ?dir;\n",
    "        wdt:P161 ?x.\n",
    "    ?f sc:name ?film.\n",
    "    ?common sc:name ?actor.\n",
    "    ?dir sc:name ?director.\n",
    "    FILTER((?dir = wd:Q25089 || ?dir = wd:Q3772) && (?x = ?common))\n",
    "}\n",
    "\n",
    "GROUP BY ?common ?actor ?dir ?director\n",
    "ORDER BY DESC (?films)\n",
    "LIMIT 10\n",
    "\"\"\"\n",
    "\n",
    "print(\"Results\")\n",
    "run_query(queryString)"
   ]
  },
  {
   "cell_type": "markdown",
   "id": "1c7c71ba-a102-45b9-a64c-5a38d4a4fb0a",
   "metadata": {},
   "source": [
    "The most used actors for Tarantino are  Thurman and Roth in 4 films, while Allen used Buscemi and DiCaprio in 2 films.\n",
    "Now I will look on the sum of both directors."
   ]
  },
  {
   "cell_type": "code",
   "execution_count": 20,
   "id": "e4b8bb8e-f222-4083-bc93-f1fe5808f302",
   "metadata": {},
   "outputs": [
    {
     "name": "stdout",
     "output_type": "stream",
     "text": [
      "Results\n",
      "[('actor', 'Tim Roth'), ('films', '5')]\n",
      "[('actor', 'Uma Thurman'), ('films', '5')]\n",
      "[('actor', 'Steve Buscemi'), ('films', '4')]\n",
      "[('actor', 'Daryl Hannah'), ('films', '4')]\n",
      "[('actor', 'Leonardo DiCaprio'), ('films', '4')]\n",
      "[('actor', 'Christoph Waltz'), ('films', '3')]\n",
      "[('actor', 'Burt Reynolds'), ('films', '2')]\n",
      "[('actor', 'Christopher Walken'), ('films', '2')]\n",
      "[('actor', 'Léa Seydoux'), ('films', '2')]\n",
      "[('actor', 'Robert De Niro'), ('films', '2')]\n"
     ]
    },
    {
     "data": {
      "text/plain": [
       "10"
      ]
     },
     "execution_count": 20,
     "metadata": {},
     "output_type": "execute_result"
    }
   ],
   "source": [
    "#find films in which these actors worked\n",
    "queryString = \"\"\"\n",
    "SELECT ?actor (COUNT(DISTINCT ?f) AS ?films)\n",
    "WHERE {\n",
    "    {\n",
    "        SELECT ?common\n",
    "        WHERE {\n",
    "            {\n",
    "                #SELECT WORKERS FROM TARANTINO'S MOVIE\n",
    "\n",
    "                SELECT DISTINCT ?x AS ?tarantino\n",
    "                WHERE {\n",
    "                ?f wdt:P31 wd:Q11424;\n",
    "                    wdt:P57 wd:Q3772;\n",
    "                    wdt:P161 ?x.\n",
    "                ?x wdt:P31 wd:Q5.\n",
    "                } \n",
    "            }\n",
    "            {\n",
    "                #SELECT WORKERS FROM ALLEN'S MOVIE\n",
    "\n",
    "                SELECT DISTINCT ?x AS ?allen\n",
    "                WHERE {\n",
    "                ?f wdt:P31 wd:Q11424;\n",
    "                    wdt:P57 wd:Q25089;\n",
    "                    wdt:P161 ?x.\n",
    "                ?x wdt:P31 wd:Q5.\n",
    "                } \n",
    "            }\n",
    "            FILTER(?tarantino = ?allen)\n",
    "            BIND(?tarantino AS ?common)\n",
    "        }\n",
    "    }\n",
    "    ?f wdt:P31 wd:Q11424;\n",
    "        wdt:P57 ?dir;\n",
    "        wdt:P161 ?x.\n",
    "    ?f sc:name ?film.\n",
    "    ?common sc:name ?actor.\n",
    "    ?dir sc:name ?director.\n",
    "    FILTER((?dir = wd:Q25089 || ?dir = wd:Q3772) && (?x = ?common))\n",
    "}\n",
    "\n",
    "GROUP BY ?common ?actor\n",
    "ORDER BY DESC (?films)\n",
    "LIMIT 10\n",
    "\"\"\"\n",
    "\n",
    "print(\"Results\")\n",
    "run_query(queryString)"
   ]
  },
  {
   "cell_type": "markdown",
   "id": "f42bc49f-e60b-4983-b680-4286e9334cd0",
   "metadata": {},
   "source": [
    "The two most used actors are Roth and Thurman"
   ]
  },
  {
   "cell_type": "markdown",
   "id": "fde15bb6-3e51-43c2-8305-21f410e98726",
   "metadata": {
    "tags": []
   },
   "source": [
    "## Task 6\n",
    "Is the maximum budget for a Tarantino's movie higher of the max budget of an Allen's movie?"
   ]
  },
  {
   "cell_type": "code",
   "execution_count": 64,
   "id": "8e2e44d2-b8b4-4e5a-84a3-688f64e4cde6",
   "metadata": {},
   "outputs": [
    {
     "name": "stdout",
     "output_type": "stream",
     "text": [
      "Results\n",
      "[('pr', 'http://www.wikidata.org/prop/direct/P1113'), ('name', 'number of episodes')]\n",
      "[('pr', 'http://www.wikidata.org/prop/direct/P2047'), ('name', 'duration')]\n",
      "[('pr', 'http://www.wikidata.org/prop/direct/P2130'), ('name', 'cost')]\n",
      "[('pr', 'http://www.wikidata.org/prop/direct/P2142'), ('name', 'box office')]\n",
      "[('pr', 'http://www.wikidata.org/prop/direct/P8687'), ('name', 'social media followers')]\n",
      "[('pr', 'http://www.wikidata.org/prop/direct/P1104'), ('name', 'number of pages')]\n",
      "[('pr', 'http://www.wikidata.org/prop/direct/P2769'), ('name', 'budget')]\n",
      "[('pr', 'http://www.wikidata.org/prop/direct/P1110'), ('name', 'attendance')]\n",
      "[('pr', 'http://www.wikidata.org/prop/direct/P2437'), ('name', 'number of seasons')]\n",
      "[('pr', 'http://www.wikidata.org/prop/direct/P5436'), ('name', 'number of viewers/listeners')]\n",
      "[('pr', 'http://www.wikidata.org/prop/direct/P2043'), ('name', 'length')]\n",
      "[('pr', 'http://www.wikidata.org/prop/direct/P2635'), ('name', 'number of parts of this work')]\n",
      "[('pr', 'http://www.wikidata.org/prop/direct/P2208'), ('name', 'average shot length')]\n",
      "[('pr', 'http://www.wikidata.org/prop/direct/P2257'), ('name', 'event interval')]\n",
      "[('pr', 'http://www.wikidata.org/prop/direct/P2899'), ('name', 'minimum age')]\n",
      "[('pr', 'http://www.wikidata.org/prop/direct/P2139'), ('name', 'total revenue')]\n",
      "[('pr', 'http://www.wikidata.org/prop/direct/P2048'), ('name', 'height')]\n",
      "[('pr', 'http://www.wikidata.org/prop/direct/P2049'), ('name', 'width')]\n",
      "[('pr', 'http://www.wikidata.org/prop/direct/P2386'), ('name', 'diameter')]\n",
      "[('pr', 'http://www.wikidata.org/prop/direct/P1132'), ('name', 'number of participants')]\n",
      "[('pr', 'http://www.wikidata.org/prop/direct/P1350'), ('name', 'number of matches played/races/starts')]\n",
      "[('pr', 'http://www.wikidata.org/prop/direct/P3575'), ('name', 'data size')]\n",
      "[('pr', 'http://www.wikidata.org/prop/direct/P2407'), ('name', 'short-term exposure limit')]\n",
      "[('pr', 'http://www.wikidata.org/prop/direct/P2284'), ('name', 'price')]\n",
      "[('pr', 'http://www.wikidata.org/prop/direct/P1752'), ('name', 'scale')]\n"
     ]
    },
    {
     "data": {
      "text/plain": [
       "25"
      ]
     },
     "execution_count": 64,
     "metadata": {},
     "output_type": "execute_result"
    }
   ],
   "source": [
    "# look for the budget\n",
    "queryString = \"\"\"\n",
    "SELECT DISTINCT ?pr ?name\n",
    "WHERE { \n",
    "?o wdt:P31 wd:Q11424;\n",
    "    ?pr ?x.\n",
    "?pr <http://schema.org/name> ?name .\n",
    "FILTER(isNumeric(?x))\n",
    "} \n",
    "LIMIT 100\n",
    "\"\"\"\n",
    "\n",
    "print(\"Results\")\n",
    "run_query(queryString)"
   ]
  },
  {
   "cell_type": "markdown",
   "id": "4d55ba16-b4a1-4ad2-bd06-052591e556c8",
   "metadata": {},
   "source": [
    "Found `wdt:P2769` as budget"
   ]
  },
  {
   "cell_type": "code",
   "execution_count": 68,
   "id": "4fb53dec-bdb0-4b8f-9830-900c0a11a3aa",
   "metadata": {},
   "outputs": [
    {
     "name": "stdout",
     "output_type": "stream",
     "text": [
      "Results\n",
      "[('director', 'Woody Allen'), ('max_budget', '1')]\n"
     ]
    },
    {
     "data": {
      "text/plain": [
       "1"
      ]
     },
     "execution_count": 68,
     "metadata": {},
     "output_type": "execute_result"
    }
   ],
   "source": [
    "# found the max budget\n",
    "queryString = \"\"\"\n",
    "SELECT ?director (COUNT(?x) AS ?max_budget)\n",
    "WHERE { \n",
    "?o wdt:P31 wd:Q11424;\n",
    "    wdt:P57 ?dir;\n",
    "    wdt:P2769 ?x.\n",
    "?o <http://schema.org/name> ?film .\n",
    "?dir <http://schema.org/name> ?director .\n",
    "FILTER(?dir = wd:Q25089 || ?dir = wd:Q3772)\n",
    "} \n",
    "GROUP BY ?director ?dir\n",
    "LIMIT 10\n",
    "\"\"\"\n",
    "\n",
    "print(\"Results\")\n",
    "run_query(queryString)"
   ]
  },
  {
   "cell_type": "markdown",
   "id": "9fc77f39-8256-46c2-b159-5a9803f1554d",
   "metadata": {},
   "source": [
    "I have the budget only for one film, so I cannot answer to this question. Anyway I will write how the query will looks like."
   ]
  },
  {
   "cell_type": "code",
   "execution_count": 2,
   "id": "960779dd-0530-4f3b-af97-f3a32a6dd947",
   "metadata": {},
   "outputs": [
    {
     "name": "stdout",
     "output_type": "stream",
     "text": [
      "Results\n"
     ]
    },
    {
     "data": {
      "text/plain": [
       "{'head': {'link': []}, 'boolean': False}"
      ]
     },
     "execution_count": 2,
     "metadata": {},
     "output_type": "execute_result"
    }
   ],
   "source": [
    "# found the max budget\n",
    "queryString = \"\"\"\n",
    "ASK WHERE { \n",
    "{\n",
    "    SELECT (MAX(?x) AS ?max_tarantino)\n",
    "    WHERE { \n",
    "    ?o wdt:P31 wd:Q11424;\n",
    "        wdt:P57 wd:Q3772;\n",
    "        wdt:P2769 ?x.\n",
    "    } \n",
    "}\n",
    "{\n",
    "    SELECT (MAX(?x) AS ?max_allen)\n",
    "    WHERE { \n",
    "    ?o wdt:P31 wd:Q11424;\n",
    "        wdt:P57 wd:Q25089;\n",
    "        wdt:P2769 ?x.\n",
    "    } \n",
    "}\n",
    "FILTER(?max_tarantino > ?max_allen)\n",
    "}\n",
    "\"\"\"\n",
    "\n",
    "print(\"Results\")\n",
    "run_ask_query(queryString)"
   ]
  },
  {
   "cell_type": "markdown",
   "id": "e195abe1-92ca-437e-a3a0-630042f68ff5",
   "metadata": {
    "tags": []
   },
   "source": [
    "## Task 7 \n",
    "Who has films with more nominations for Academy Awards and who won more Academy Awards (with his films not only personal awards)."
   ]
  },
  {
   "cell_type": "markdown",
   "id": "4abecf7e-8db5-4f6d-b39a-672d0966adf5",
   "metadata": {
    "jp-MarkdownHeadingCollapsed": true,
    "tags": []
   },
   "source": [
    "### Task 7.1\n",
    "Find the BGP for Academy Awards"
   ]
  },
  {
   "cell_type": "markdown",
   "id": "39bee88d-ab07-480d-b339-2c744220c47e",
   "metadata": {},
   "source": [
    "Start from a film looking for property that are similar to `nominated`"
   ]
  },
  {
   "cell_type": "code",
   "execution_count": 67,
   "id": "72e734cd-1a92-4c60-8a87-9faf3d5e1d89",
   "metadata": {},
   "outputs": [
    {
     "name": "stdout",
     "output_type": "stream",
     "text": [
      "Results\n",
      "[('pr', 'http://www.wikidata.org/prop/direct/P1411'), ('name', 'nominated for')]\n",
      "[('pr', 'http://www.wikidata.org/prop/direct/P4353'), ('name', 'nominated by')]\n"
     ]
    },
    {
     "data": {
      "text/plain": [
       "2"
      ]
     },
     "execution_count": 67,
     "metadata": {},
     "output_type": "execute_result"
    }
   ],
   "source": [
    "queryString = \"\"\"\n",
    "SELECT DISTINCT ?pr ?name\n",
    "WHERE { \n",
    "?f wdt:P31 wd:Q11424;\n",
    "    ?pr ?a.\n",
    "?pr sc:name ?name .\n",
    "FILTER(REGEX(?name,\".*nominated.*\"))\n",
    "} \n",
    "LIMIT 100\n",
    "\"\"\"\n",
    "\n",
    "print(\"Results\")\n",
    "run_query(queryString)"
   ]
  },
  {
   "cell_type": "code",
   "execution_count": 68,
   "id": "233c90a4-8103-4271-8030-6fc27347b447",
   "metadata": {},
   "outputs": [
    {
     "name": "stdout",
     "output_type": "stream",
     "text": [
      "Results\n",
      "[('x', 'http://www.wikidata.org/entity/Q96474676'), ('name', 'award for best leading actress')]\n",
      "[('x', 'http://www.wikidata.org/entity/Q96474688'), ('name', 'award for best film by genre')]\n",
      "[('x', 'http://www.wikidata.org/entity/Q96474699'), ('name', 'award for best costume design')]\n",
      "[('x', 'http://www.wikidata.org/entity/Q96474679'), ('name', 'award for best direction')]\n",
      "[('x', 'http://www.wikidata.org/entity/Q618779'), ('name', 'award')]\n",
      "[('x', 'http://www.wikidata.org/entity/Q96474603'), ('name', 'award for best supporting actor')]\n",
      "[('x', 'http://www.wikidata.org/entity/Q56116950'), ('name', 'film award category')]\n",
      "[('x', 'http://www.wikidata.org/entity/Q96474683'), ('name', 'award for best sound editing')]\n",
      "[('x', 'http://www.wikidata.org/entity/Q96474709'), ('name', 'award for best visual effects')]\n",
      "[('x', 'http://www.wikidata.org/entity/Q4220917'), ('name', 'film award')]\n",
      "[('x', 'http://www.wikidata.org/entity/Q96474687'), ('name', 'award for best film')]\n",
      "[('x', 'http://www.wikidata.org/entity/Q38033430'), ('name', 'class of award')]\n",
      "[('x', 'http://www.wikidata.org/entity/Q96474684'), ('name', 'award for best photography')]\n",
      "[('x', 'http://www.wikidata.org/entity/Q96474701'), ('name', 'award for best adapted screenplay')]\n",
      "[('x', 'http://www.wikidata.org/entity/Q96474691'), ('name', 'award for best leading actor')]\n",
      "[('x', 'http://www.wikidata.org/entity/Q71076284'), ('name', 'award for best editing')]\n",
      "[('x', 'http://www.wikidata.org/entity/Q96474589'), ('name', 'award for best supporting actress')]\n",
      "[('x', 'http://www.wikidata.org/entity/Q96474700'), ('name', 'award for best screenplay')]\n",
      "[('x', 'http://www.wikidata.org/entity/Q96474698'), ('name', 'award for best production design')]\n",
      "[('x', 'http://www.wikidata.org/entity/Q96474704'), ('name', 'award for best makeup and hairdressing')]\n",
      "[('x', 'http://www.wikidata.org/entity/Q74681122'), ('name', 'audience award')]\n",
      "[('x', 'http://www.wikidata.org/entity/Q96474686'), ('name', 'award for best first work')]\n",
      "[('x', 'http://www.wikidata.org/entity/Q96474681'), ('name', 'award for best production direction')]\n",
      "[('x', 'http://www.wikidata.org/entity/Q96474685'), ('name', 'award for best original music')]\n",
      "[('x', 'http://www.wikidata.org/entity/Q2116414'), ('name', 'audience award')]\n",
      "[('x', 'http://www.wikidata.org/entity/Q96474708'), ('name', 'award for best special effects')]\n",
      "[('x', 'http://www.wikidata.org/entity/Q96474703'), ('name', 'award for best original screenplay')]\n",
      "[('x', 'http://www.wikidata.org/entity/Q96474690'), ('name', 'award for best film by place of origin')]\n",
      "[('x', 'http://www.wikidata.org/entity/Q96474692'), ('name', 'award for best new actor')]\n",
      "[('x', 'http://www.wikidata.org/entity/Q96474697'), ('name', 'award for best short film by genre')]\n",
      "[('x', 'http://www.wikidata.org/entity/Q107655869'), ('name', 'group of awards')]\n",
      "[('x', 'http://www.wikidata.org/entity/Q96474678'), ('name', 'award for best original song')]\n",
      "[('x', 'http://www.wikidata.org/entity/Q96474689'), ('name', 'award for best film for original language')]\n",
      "[('x', 'http://www.wikidata.org/entity/Q96474696'), ('name', 'award for best short film')]\n",
      "[('x', 'http://www.wikidata.org/entity/Q96474677'), ('name', 'award for best new actress')]\n",
      "[('x', 'http://www.wikidata.org/entity/Q96474682'), ('name', 'award for best new director')]\n",
      "[('x', 'http://www.wikidata.org/entity/Q96575323'), ('name', 'special award')]\n",
      "[('x', 'http://www.wikidata.org/entity/Q96474711'), ('name', 'award for best choreography')]\n",
      "[('x', 'http://www.wikidata.org/entity/Q4504495'), ('name', 'award ceremony')]\n",
      "[('x', 'http://www.wikidata.org/entity/Q96474680'), ('name', 'award for best artistic direction')]\n",
      "[('x', 'http://www.wikidata.org/entity/Q29788158'), ('name', 'award for best newcomer')]\n",
      "[('x', 'http://www.wikidata.org/entity/Q26877490'), ('name', 'award, award nominees, award recipients or award ceremony')]\n",
      "[('x', 'http://www.wikidata.org/entity/Q96474706'), ('name', 'award for best trailer')]\n",
      "[('x', 'http://www.wikidata.org/entity/Q107467117'), ('name', 'type of award')]\n",
      "[('x', 'http://www.wikidata.org/entity/Q28343277'), ('name', 'Locarno International Film Festival award')]\n",
      "[('x', 'http://www.wikidata.org/entity/Q18772252'), ('name', 'pornographic film award')]\n",
      "[('x', 'http://www.wikidata.org/entity/Q28056433'), ('name', 'Gdynia Film Festival awards')]\n",
      "[('x', 'http://www.wikidata.org/entity/Q1407225'), ('name', 'television award')]\n"
     ]
    },
    {
     "data": {
      "text/plain": [
       "48"
      ]
     },
     "execution_count": 68,
     "metadata": {},
     "output_type": "execute_result"
    }
   ],
   "source": [
    "#looking for what are the instances of these objects\n",
    "queryString = \"\"\"\n",
    "SELECT DISTINCT ?x ?name\n",
    "WHERE { \n",
    "?f wdt:P31 wd:Q11424;\n",
    "    wdt:P1411 ?a.\n",
    "?a wdt:P31 ?x.\n",
    "?x sc:name ?name .\n",
    "FILTER(REGEX(?name,\".*award.*\"))\n",
    "} \n",
    "LIMIT 100\n",
    "\"\"\"\n",
    "\n",
    "print(\"Results\")\n",
    "run_query(queryString)"
   ]
  },
  {
   "cell_type": "markdown",
   "id": "1336c3cc-03c3-49c7-94f8-c5f05958da71",
   "metadata": {},
   "source": [
    "`wd:Q4220917`(film award) seems to be the right class of award. Try to look for subclasses of this class to find the Academy award"
   ]
  },
  {
   "cell_type": "code",
   "execution_count": 69,
   "id": "f6bbd964-d204-496a-98d4-a0492fd898a8",
   "metadata": {},
   "outputs": [
    {
     "name": "stdout",
     "output_type": "stream",
     "text": [
      "Results\n",
      "[('a', 'http://www.wikidata.org/entity/Q655089'), ('name', 'International Indian Film Academy Awards')]\n",
      "[('a', 'http://www.wikidata.org/entity/Q2510955'), ('name', 'Japan Academy Prize for Animation of the Year')]\n",
      "[('a', 'http://www.wikidata.org/entity/Q19020'), ('name', 'Academy Awards')]\n",
      "[('a', 'http://www.wikidata.org/entity/Q194258'), ('name', 'Japan Academy Film Prize')]\n",
      "[('a', 'http://www.wikidata.org/entity/Q732997'), ('name', 'British Academy Film Awards')]\n",
      "[('a', 'http://www.wikidata.org/entity/Q384139'), ('name', 'Africa Movie Academy Award')]\n",
      "[('a', 'http://www.wikidata.org/entity/Q11024975'), ('name', 'Myanmar Motion Picture Academy Awards')]\n",
      "[('a', 'http://www.wikidata.org/entity/Q18345192'), ('name', 'Golden Icons Academy Movie Awards')]\n",
      "[('a', 'http://www.wikidata.org/entity/Q74066919'), ('name', '14th Africa Movie Academy Awards')]\n"
     ]
    },
    {
     "data": {
      "text/plain": [
       "9"
      ]
     },
     "execution_count": 69,
     "metadata": {},
     "output_type": "execute_result"
    }
   ],
   "source": [
    "queryString = \"\"\"\n",
    "SELECT DISTINCT ?a ?name\n",
    "WHERE { \n",
    "?a wdt:P279+ wd:Q4220917.\n",
    "?a sc:name ?name .\n",
    "FILTER(REGEX(?name,\".*cadem.*\"))\n",
    "} \n",
    "LIMIT 100\n",
    "\"\"\"\n",
    "\n",
    "print(\"Results\")\n",
    "run_query(queryString)"
   ]
  },
  {
   "cell_type": "markdown",
   "id": "acff250b-61e1-4fa8-9690-52477fd32ce3",
   "metadata": {
    "jp-MarkdownHeadingCollapsed": true,
    "tags": []
   },
   "source": [
    "### Task 7.2 \n",
    "Find the related subproperties"
   ]
  },
  {
   "cell_type": "code",
   "execution_count": 70,
   "id": "2b9ff690-dd5f-44b9-9b4f-0f1e4a17e582",
   "metadata": {},
   "outputs": [
    {
     "name": "stdout",
     "output_type": "stream",
     "text": [
      "Results\n",
      "[('a', 'http://www.wikidata.org/entity/Q22235305'), ('name', 'Academy Award for Best Original Musical or Comedy Score')]\n",
      "[('a', 'http://www.wikidata.org/entity/Q21995136'), ('name', 'Academy Award for Best Cinematography, Color')]\n",
      "[('a', 'http://www.wikidata.org/entity/Q21995139'), ('name', 'Academy Award for Best Cinematography, Black-and-White')]\n",
      "[('a', 'http://www.wikidata.org/entity/Q22253131'), ('name', 'Academy Award for Best Art Direction, Color')]\n",
      "[('a', 'http://www.wikidata.org/entity/Q22752811'), ('name', 'Academy Award for Best Score, Adaptation or Treatment')]\n",
      "[('a', 'http://www.wikidata.org/entity/Q8610'), ('name', 'Academy Scientific and Technical Award')]\n",
      "[('a', 'http://www.wikidata.org/entity/Q1324407'), ('name', 'Academy Award for Best Live Action Short Film')]\n",
      "[('a', 'http://www.wikidata.org/entity/Q487136'), ('name', 'Academy Award for Best Makeup and Hairstyling')]\n",
      "[('a', 'http://www.wikidata.org/entity/Q504298'), ('name', 'Academy Award for Best Story')]\n",
      "[('a', 'http://www.wikidata.org/entity/Q2297175'), ('name', 'Academy Award for Best Short Subject, Novelty')]\n",
      "[('a', 'http://www.wikidata.org/entity/Q1425151'), ('name', 'Academy Award for Best Documentary (Short Subject)')]\n",
      "[('a', 'http://www.wikidata.org/entity/Q917808'), ('name', 'Academy Award for Best Animated Short Film')]\n",
      "[('a', 'http://www.wikidata.org/entity/Q22752734'), ('name', 'Academy Award for Best Original Score, no Musical')]\n",
      "[('a', 'http://www.wikidata.org/entity/Q3886464'), ('name', 'Academy Award for Best Live Action Short Film, Comedy')]\n",
      "[('a', 'http://www.wikidata.org/entity/Q488151'), ('name', 'Gordon E. Sawyer Award')]\n",
      "[('a', 'http://www.wikidata.org/entity/Q21995338'), ('name', 'Academy Award for Best Director, Dramatic Picture')]\n",
      "[('a', 'http://www.wikidata.org/entity/Q2032630'), ('name', 'Special Achievement Academy Award')]\n",
      "[('a', 'http://www.wikidata.org/entity/Q102427'), ('name', 'Academy Award for Best Picture')]\n",
      "[('a', 'http://www.wikidata.org/entity/Q103360'), ('name', 'Academy Award for Best Director')]\n",
      "[('a', 'http://www.wikidata.org/entity/Q103618'), ('name', 'Academy Award for Best Actress')]\n",
      "[('a', 'http://www.wikidata.org/entity/Q106301'), ('name', 'Academy Award for Best Supporting Actress')]\n",
      "[('a', 'http://www.wikidata.org/entity/Q107258'), ('name', 'Academy Award for Best Writing, Adapted Screenplay')]\n",
      "[('a', 'http://www.wikidata.org/entity/Q112243'), ('name', 'Academy Award for Best Original Song')]\n",
      "[('a', 'http://www.wikidata.org/entity/Q281939'), ('name', 'Academy Award for Best Film Editing')]\n",
      "[('a', 'http://www.wikidata.org/entity/Q41417'), ('name', 'Academy Award for Best Writing, Original Screenplay')]\n",
      "[('a', 'http://www.wikidata.org/entity/Q844273'), ('name', 'Irving G. Thalberg Memorial Award')]\n",
      "[('a', 'http://www.wikidata.org/entity/Q103916'), ('name', 'Academy Award for Best Actor')]\n",
      "[('a', 'http://www.wikidata.org/entity/Q105304'), ('name', 'Academy Award for Best Foreign Language Film')]\n",
      "[('a', 'http://www.wikidata.org/entity/Q106291'), ('name', 'Academy Award for Best Supporting Actor')]\n",
      "[('a', 'http://www.wikidata.org/entity/Q131520'), ('name', 'Academy Award for Best Cinematography')]\n",
      "[('a', 'http://www.wikidata.org/entity/Q22120095'), ('name', 'Academy Award for Best Costume Design, Black-and-White')]\n",
      "[('a', 'http://www.wikidata.org/entity/Q22253133'), ('name', 'Academy Award for Best Art Direction, Black and White')]\n",
      "[('a', 'http://www.wikidata.org/entity/Q22752868'), ('name', 'Academy Award for Best Original Dramatic or Comedy Score')]\n",
      "[('a', 'http://www.wikidata.org/entity/Q277536'), ('name', 'Academy Award for Best Costume Design')]\n",
      "[('a', 'http://www.wikidata.org/entity/Q277751'), ('name', 'Academy Award for Best Production Design')]\n",
      "[('a', 'http://www.wikidata.org/entity/Q393686'), ('name', 'Academy Award for Best Visual Effects')]\n",
      "[('a', 'http://www.wikidata.org/entity/Q488645'), ('name', 'Academy Award for Best Sound Editing')]\n",
      "[('a', 'http://www.wikidata.org/entity/Q488651'), ('name', 'Academy Award for Best Original Score')]\n",
      "[('a', 'http://www.wikidata.org/entity/Q727328'), ('name', 'Academy Honorary Award')]\n",
      "[('a', 'http://www.wikidata.org/entity/Q830079'), ('name', 'Academy Award for Best Sound')]\n",
      "[('a', 'http://www.wikidata.org/entity/Q501004'), ('name', 'Academy Award for Best Assistant Director')]\n",
      "[('a', 'http://www.wikidata.org/entity/Q106800'), ('name', 'Academy Award for Best Animated Feature')]\n",
      "[('a', 'http://www.wikidata.org/entity/Q489705'), ('name', 'Academy Juvenile Award')]\n",
      "[('a', 'http://www.wikidata.org/entity/Q1401974'), ('name', 'Academy Award for Best Short Subject, Two-reel')]\n",
      "[('a', 'http://www.wikidata.org/entity/Q22344608'), ('name', 'Academy Award for Best Original Song Score')]\n",
      "[('a', 'http://www.wikidata.org/entity/Q4671338'), ('name', 'Academy Award for Best Original Musical Score')]\n",
      "[('a', 'http://www.wikidata.org/entity/Q22120066'), ('name', 'Academy Award for Best Costume Design, Color')]\n",
      "[('a', 'http://www.wikidata.org/entity/Q22235329'), ('name', 'Academy Award for Best Original Dramatic Score')]\n",
      "[('a', 'http://www.wikidata.org/entity/Q22917729'), ('name', 'Academy Award for Best Special Effects')]\n",
      "[('a', 'http://www.wikidata.org/entity/Q111332'), ('name', 'Academy Award for Best Documentary Feature')]\n",
      "[('a', 'http://www.wikidata.org/entity/Q22117120'), ('name', 'Academy Award for Best Writing')]\n",
      "[('a', 'http://www.wikidata.org/entity/Q98924004'), ('name', 'Academy Award to the Producer of the Best Film')]\n",
      "[('a', 'http://www.wikidata.org/entity/Q22335251'), ('name', 'Academy Award for Best Live Action Short Film, One-Reel')]\n",
      "[('a', 'http://www.wikidata.org/entity/Q8636'), ('name', 'Academy Award for Technical Achievement')]\n",
      "[('a', 'http://www.wikidata.org/entity/Q498690'), ('name', 'Academy Award for Best Dance Direction')]\n",
      "[('a', 'http://www.wikidata.org/entity/Q3886463'), ('name', 'Academy Award for Best Engineering Effects')]\n",
      "[('a', 'http://www.wikidata.org/entity/Q3451157'), ('name', 'Academy Award for Best Director (Comedy picture)')]\n",
      "[('a', 'http://www.wikidata.org/entity/Q3886465'), ('name', 'Academy Award for Best Live Action Short Film, Color')]\n",
      "[('a', 'http://www.wikidata.org/entity/Q8624'), ('name', 'Academy Award of Merit')]\n",
      "[('a', 'http://www.wikidata.org/entity/Q3886486'), ('name', 'Academy Award for Best Title Writing')]\n",
      "[('a', 'http://www.wikidata.org/entity/Q3298549'), ('name', 'Academy Award for Unique and Artistic Production')]\n",
      "[('a', 'http://www.wikidata.org/entity/Q8250869'), ('name', 'Scientific and Engineering Award')]\n",
      "[('a', 'http://www.wikidata.org/entity/Q31193514'), ('name', 'Academy Award for Best Unique and Artistic Picture')]\n"
     ]
    },
    {
     "data": {
      "text/plain": [
       "63"
      ]
     },
     "execution_count": 70,
     "metadata": {},
     "output_type": "execute_result"
    }
   ],
   "source": [
    "#look for something istance of academy awards\n",
    "queryString = \"\"\"\n",
    "SELECT DISTINCT ?a ?name\n",
    "WHERE { \n",
    "?a wdt:P31 wd:Q19020.\n",
    "?a sc:name ?name .\n",
    "} \n",
    "LIMIT 100\n",
    "\"\"\"\n",
    "\n",
    "print(\"Results\")\n",
    "run_query(queryString)"
   ]
  },
  {
   "cell_type": "markdown",
   "id": "ff8ecd5a-e86b-4632-88d2-65f14eef988a",
   "metadata": {},
   "source": [
    "`wd:Q19020` is the class of Academy Awards. Then selecting objects that are istance of academy awards we have the list of all type of academy awards. "
   ]
  },
  {
   "cell_type": "code",
   "execution_count": 71,
   "id": "7f184e96-4bac-4807-815e-6df28e21f69e",
   "metadata": {},
   "outputs": [
    {
     "name": "stdout",
     "output_type": "stream",
     "text": [
      "Results\n",
      "[('pr', 'http://www.wikidata.org/prop/direct/P101'), ('name', 'field of work')]\n",
      "[('pr', 'http://www.wikidata.org/prop/direct/P1346'), ('name', 'winner')]\n",
      "[('pr', 'http://www.wikidata.org/prop/direct/P138'), ('name', 'named after')]\n",
      "[('pr', 'http://www.wikidata.org/prop/direct/P1417'), ('name', 'Encyclopædia Britannica Online ID')]\n",
      "[('pr', 'http://www.wikidata.org/prop/direct/P1424'), ('name', \"topic's main template\")]\n",
      "[('pr', 'http://www.wikidata.org/prop/direct/P154'), ('name', 'logo image')]\n",
      "[('pr', 'http://www.wikidata.org/prop/direct/P166'), ('name', 'award received')]\n",
      "[('pr', 'http://www.wikidata.org/prop/direct/P17'), ('name', 'country')]\n",
      "[('pr', 'http://www.wikidata.org/prop/direct/P1705'), ('name', 'native label')]\n",
      "[('pr', 'http://www.wikidata.org/prop/direct/P2257'), ('name', 'event interval')]\n",
      "[('pr', 'http://www.wikidata.org/prop/direct/P2581'), ('name', 'BabelNet ID')]\n",
      "[('pr', 'http://www.wikidata.org/prop/direct/P2671'), ('name', 'Google Knowledge Graph ID')]\n",
      "[('pr', 'http://www.wikidata.org/prop/direct/P31'), ('name', 'instance of')]\n",
      "[('pr', 'http://www.wikidata.org/prop/direct/P3553'), ('name', 'Zhihu topic ID')]\n",
      "[('pr', 'http://www.wikidata.org/prop/direct/P361'), ('name', 'part of')]\n",
      "[('pr', 'http://www.wikidata.org/prop/direct/P373'), ('name', 'Commons category')]\n",
      "[('pr', 'http://www.wikidata.org/prop/direct/P5008'), ('name', 'on focus list of Wikimedia project')]\n",
      "[('pr', 'http://www.wikidata.org/prop/direct/P571'), ('name', 'inception')]\n",
      "[('pr', 'http://www.wikidata.org/prop/direct/P576'), ('name', 'dissolved, abolished or demolished date')]\n",
      "[('pr', 'http://www.wikidata.org/prop/direct/P580'), ('name', 'start time')]\n",
      "[('pr', 'http://www.wikidata.org/prop/direct/P582'), ('name', 'end time')]\n",
      "[('pr', 'http://www.wikidata.org/prop/direct/P6262'), ('name', 'Fandom article ID')]\n",
      "[('pr', 'http://www.wikidata.org/prop/direct/P646'), ('name', 'Freebase ID')]\n",
      "[('pr', 'http://www.wikidata.org/prop/direct/P7084'), ('name', 'related category')]\n",
      "[('pr', 'http://www.wikidata.org/prop/direct/P7502'), ('name', 'Golden ID')]\n",
      "[('pr', 'http://www.wikidata.org/prop/direct/P8408'), ('name', 'KBpedia ID')]\n",
      "[('pr', 'http://www.wikidata.org/prop/direct/P856'), ('name', 'official website')]\n",
      "[('pr', 'http://www.wikidata.org/prop/direct/P910'), ('name', \"topic's main category\")]\n",
      "[('pr', 'http://www.wikidata.org/prop/direct/P935'), ('name', 'Commons gallery')]\n",
      "[('pr', 'http://www.wikidata.org/prop/direct/P1027'), ('name', 'conferred by')]\n",
      "[('pr', 'http://www.wikidata.org/prop/direct/P2517'), ('name', 'category for recipients of this award')]\n",
      "[('pr', 'http://www.wikidata.org/prop/direct/P8115'), ('name', 'eligible recipient')]\n"
     ]
    },
    {
     "data": {
      "text/plain": [
       "32"
      ]
     },
     "execution_count": 71,
     "metadata": {},
     "output_type": "execute_result"
    }
   ],
   "source": [
    "#look for some properties\n",
    "queryString = \"\"\"\n",
    "SELECT DISTINCT ?pr ?name\n",
    "WHERE { \n",
    "?a wdt:P31 wd:Q19020.\n",
    "?a ?pr ?o.\n",
    "?pr sc:name ?name .\n",
    "} \n",
    "LIMIT 100\n",
    "\"\"\"\n",
    "\n",
    "print(\"Results\")\n",
    "run_query(queryString)"
   ]
  },
  {
   "cell_type": "code",
   "execution_count": 72,
   "id": "fd1af79a-0469-4a1c-9754-fc19f9a8150c",
   "metadata": {},
   "outputs": [
    {
     "name": "stdout",
     "output_type": "stream",
     "text": [
      "Results\n",
      "[('pr', 'http://www.wikidata.org/prop/direct/P1423'), ('name', 'template has topic')]\n",
      "[('pr', 'http://www.wikidata.org/prop/direct/P106'), ('name', 'occupation')]\n",
      "[('pr', 'http://www.wikidata.org/prop/direct/P1269'), ('name', 'facet of')]\n",
      "[('pr', 'http://www.wikidata.org/prop/direct/P1411'), ('name', 'nominated for')]\n",
      "[('pr', 'http://www.wikidata.org/prop/direct/P166'), ('name', 'award received')]\n",
      "[('pr', 'http://www.wikidata.org/prop/direct/P2522'), ('name', 'victory')]\n",
      "[('pr', 'http://www.wikidata.org/prop/direct/P301'), ('name', \"category's main topic\")]\n",
      "[('pr', 'http://www.wikidata.org/prop/direct/P31'), ('name', 'instance of')]\n",
      "[('pr', 'http://www.wikidata.org/prop/direct/P361'), ('name', 'part of')]\n",
      "[('pr', 'http://www.wikidata.org/prop/direct/P527'), ('name', 'has part')]\n",
      "[('pr', 'http://www.wikidata.org/prop/direct/P921'), ('name', 'main subject')]\n",
      "[('pr', 'http://www.wikidata.org/prop/direct/P971'), ('name', 'category combines topics')]\n"
     ]
    },
    {
     "data": {
      "text/plain": [
       "12"
      ]
     },
     "execution_count": 72,
     "metadata": {},
     "output_type": "execute_result"
    }
   ],
   "source": [
    "#look for some properties\n",
    "queryString = \"\"\"\n",
    "SELECT DISTINCT ?pr ?name\n",
    "WHERE { \n",
    "?a wdt:P31 wd:Q19020.\n",
    "?o ?pr ?a.\n",
    "?pr sc:name ?name .\n",
    "} \n",
    "LIMIT 100\n",
    "\"\"\"\n",
    "\n",
    "print(\"Results\")\n",
    "run_query(queryString)"
   ]
  },
  {
   "cell_type": "markdown",
   "id": "aef2018f-9793-4213-8dc5-e434573814dd",
   "metadata": {},
   "source": [
    "The properties of interest are:\n",
    "- `wdt:P1411`  nominated for\n",
    "- `wdt:P166`  award received"
   ]
  },
  {
   "cell_type": "markdown",
   "id": "7c4c1f07-785c-4e7c-8ada-6446491b09b8",
   "metadata": {
    "tags": []
   },
   "source": [
    "### Task 7.3\n",
    "Find how they are related to the directors (`wd:Q3455803`)"
   ]
  },
  {
   "cell_type": "code",
   "execution_count": 73,
   "id": "e1b4ce0c-87c4-4535-be01-327d57b1d0af",
   "metadata": {},
   "outputs": [
    {
     "name": "stdout",
     "output_type": "stream",
     "text": [
      "Results\n",
      "[('pr', 'http://www.wikidata.org/prop/direct/P106'), ('name', 'occupation')]\n"
     ]
    },
    {
     "data": {
      "text/plain": [
       "1"
      ]
     },
     "execution_count": 73,
     "metadata": {},
     "output_type": "execute_result"
    }
   ],
   "source": [
    "#find all people who is connected with the class director\n",
    "queryString = \"\"\"\n",
    "SELECT DISTINCT ?pr ?name\n",
    "WHERE { \n",
    "?sub wdt:P279* wd:Q3455803.\n",
    "wd:Q3772 ?pr ?sub.\n",
    "\n",
    "?pr sc:name ?name .\n",
    "} \n",
    "LIMIT 100\n",
    "\"\"\"\n",
    "\n",
    "print(\"Results\")\n",
    "run_query(queryString)"
   ]
  },
  {
   "cell_type": "code",
   "execution_count": 74,
   "id": "8bebb091-cdfd-43b1-ab70-de378a90c320",
   "metadata": {},
   "outputs": [
    {
     "name": "stdout",
     "output_type": "stream",
     "text": [
      "Results\n",
      "[('pr', 'http://www.wikidata.org/prop/direct/P1411'), ('name', 'nominated for')]\n",
      "[('pr', 'http://www.wikidata.org/prop/direct/P166'), ('name', 'award received')]\n"
     ]
    },
    {
     "data": {
      "text/plain": [
       "2"
      ]
     },
     "execution_count": 74,
     "metadata": {},
     "output_type": "execute_result"
    }
   ],
   "source": [
    "#from the directors find the relations to the academy award\n",
    "queryString = \"\"\"\n",
    "SELECT DISTINCT ?pr ?name\n",
    "WHERE { \n",
    "?award wdt:P31 wd:Q19020.\n",
    "?x wdt:P106 wd:Q3455803.\n",
    "\n",
    "?x ?pr ?award.\n",
    "\n",
    "?pr sc:name ?name .\n",
    "} \n",
    "LIMIT 100\n",
    "\"\"\"\n",
    "\n",
    "print(\"Results\")\n",
    "run_query(queryString)"
   ]
  },
  {
   "cell_type": "markdown",
   "id": "a063dc83-4c35-4658-9967-6cf3651cf3aa",
   "metadata": {},
   "source": [
    "Now I have all the informations to find some result about academy awards won by directors or films that they directed.\n",
    "Remember that:\n",
    "- `wd:Q11424` film\n",
    "- `wd:Q19020` academy award\n",
    "- `wd:Q3455803` class of director\n",
    "- `wdt:P57` property director"
   ]
  },
  {
   "cell_type": "code",
   "execution_count": 75,
   "id": "e1ba3373-a102-41a7-9d4c-64c3d0a97225",
   "metadata": {},
   "outputs": [
    {
     "name": "stdout",
     "output_type": "stream",
     "text": [
      "Results\n",
      "[('director', 'Walt Disney'), ('cont', '7'), ('awards', 'Academy Award for Best Documentary (Short Subject)-Academy Award for Best Animated Short Film-Academy Award for Best Live Action Short Film-Irving G. Thalberg Memorial Award-Academy Honorary Award-Academy Award for Best Documentary Feature-Academy Award for Best Short Subject, Two-reel')]\n",
      "[('director', 'Steven Spielberg'), ('cont', '3'), ('awards', 'Academy Award for Best Director-Academy Award for Best Picture-Irving G. Thalberg Memorial Award')]\n",
      "[('director', 'James Cameron'), ('cont', '3'), ('awards', 'Academy Award for Best Director-Academy Award for Best Picture-Academy Award for Best Film Editing')]\n",
      "[('director', 'Charlie Chaplin'), ('cont', '2'), ('awards', 'Academy Honorary Award-Academy Award for Best Original Dramatic Score')]\n",
      "[('director', 'Hal Roach'), ('cont', '2'), ('awards', 'Academy Award for Best Live Action Short Film, Comedy-Academy Award for Best Live Action Short Film, One-Reel')]\n",
      "[('director', 'Dennis Muren'), ('cont', '2'), ('awards', 'Special Achievement Academy Award-Academy Award for Best Visual Effects')]\n",
      "[('director', 'Laurence Olivier'), ('cont', '2'), ('awards', 'Academy Honorary Award-Academy Award for Best Actor')]\n",
      "[('director', 'Orson Welles'), ('cont', '2'), ('awards', 'Academy Honorary Award-Academy Award for Best Writing, Original Screenplay')]\n",
      "[('director', 'Hayao Miyazaki'), ('cont', '2'), ('awards', 'Academy Award for Best Animated Feature-Academy Honorary Award')]\n",
      "[('director', 'Alan Barillaro'), ('cont', '1'), ('awards', 'Academy Award for Best Animated Short Film')]\n",
      "[('director', 'Federico Fellini'), ('cont', '1'), ('awards', 'Academy Honorary Award')]\n",
      "[('director', 'Quentin Tarantino'), ('cont', '1'), ('awards', 'Academy Award for Best Writing, Original Screenplay')]\n",
      "[('director', 'Buster Keaton'), ('cont', '1'), ('awards', 'Academy Honorary Award')]\n",
      "[('director', 'Jan Svěrák'), ('cont', '1'), ('awards', 'Academy Award for Best Foreign Language Film')]\n",
      "[('director', 'Martin McDonagh'), ('cont', '1'), ('awards', 'Academy Award for Best Live Action Short Film')]\n",
      "[('director', 'Charles Barton'), ('cont', '1'), ('awards', 'Academy Award for Best Assistant Director')]\n",
      "[('director', 'Christoph Waltz'), ('cont', '1'), ('awards', 'Academy Award for Best Supporting Actor')]\n",
      "[('director', 'Julian Fellowes'), ('cont', '1'), ('awards', 'Academy Award for Best Writing, Original Screenplay')]\n",
      "[('director', 'Taika Waititi'), ('cont', '1'), ('awards', 'Academy Award for Best Writing, Adapted Screenplay')]\n",
      "[('director', 'Sergei Bondarchuk'), ('cont', '1'), ('awards', 'Academy Award for Best Foreign Language Film')]\n"
     ]
    },
    {
     "data": {
      "text/plain": [
       "20"
      ]
     },
     "execution_count": 75,
     "metadata": {},
     "output_type": "execute_result"
    }
   ],
   "source": [
    "#academy award won by directors\n",
    "queryString = \"\"\"\n",
    "SELECT DISTINCT ?director (COUNT( ?a) AS ?cont) (GROUP_CONCAT(?award;separator=\"-\") AS ?awards)\n",
    "WHERE { \n",
    "?a wdt:P31 wd:Q19020.\n",
    "?x wdt:P106 wd:Q3455803.\n",
    "\n",
    "?x wdt:P166 ?a.\n",
    "\n",
    "\n",
    "?x sc:name ?director .\n",
    "?a sc:name ?award .\n",
    "} \n",
    "GROUP BY ?director\n",
    "ORDER BY DESC (?cont)\n",
    "LIMIT 20\n",
    "\"\"\"\n",
    "\n",
    "print(\"Results\")\n",
    "run_query(queryString)"
   ]
  },
  {
   "cell_type": "code",
   "execution_count": 76,
   "id": "2fb2ad59-0235-4f88-aebf-62bde9937c17",
   "metadata": {},
   "outputs": [
    {
     "name": "stdout",
     "output_type": "stream",
     "text": [
      "Results\n",
      "[('x', 'http://www.wikidata.org/entity/Q8704'), ('director', 'Walt Disney'), ('cont', '6')]\n",
      "[('x', 'http://www.wikidata.org/entity/Q2001'), ('director', 'Stanley Kubrick'), ('cont', '5')]\n",
      "[('x', 'http://www.wikidata.org/entity/Q72717'), ('director', 'Elia Kazan'), ('cont', '3')]\n",
      "[('x', 'http://www.wikidata.org/entity/Q41148'), ('director', 'Martin Scorsese'), ('cont', '3')]\n",
      "[('x', 'http://www.wikidata.org/entity/Q314502'), ('director', 'Jason Reitman'), ('cont', '3')]\n",
      "[('x', 'http://www.wikidata.org/entity/Q372394'), ('director', 'Martin McDonagh'), ('cont', '3')]\n",
      "[('x', 'http://www.wikidata.org/entity/Q55245'), ('director', 'Laurence Olivier'), ('cont', '3')]\n",
      "[('x', 'http://www.wikidata.org/entity/Q7371'), ('director', 'Federico Fellini'), ('cont', '3')]\n",
      "[('x', 'http://www.wikidata.org/entity/Q469164'), ('director', 'Cesare Zavattini'), ('cont', '3')]\n",
      "[('x', 'http://www.wikidata.org/entity/Q42574'), ('director', 'James Cameron'), ('cont', '3')]\n",
      "[('x', 'http://www.wikidata.org/entity/Q24829'), ('director', 'Orson Welles'), ('cont', '3')]\n",
      "[('x', 'http://www.wikidata.org/entity/Q882'), ('director', 'Charlie Chaplin'), ('cont', '3')]\n",
      "[('x', 'http://www.wikidata.org/entity/Q7546'), ('director', 'Ingmar Bergman'), ('cont', '3')]\n",
      "[('x', 'http://www.wikidata.org/entity/Q8877'), ('director', 'Steven Spielberg'), ('cont', '2')]\n",
      "[('x', 'http://www.wikidata.org/entity/Q706935'), ('director', 'William Nicholson'), ('cont', '2')]\n",
      "[('x', 'http://www.wikidata.org/entity/Q188459'), ('director', 'Goldie Hawn'), ('cont', '2')]\n",
      "[('x', 'http://www.wikidata.org/entity/Q53002'), ('director', 'François Truffaut'), ('cont', '2')]\n",
      "[('x', 'http://www.wikidata.org/entity/Q4683793'), ('director', 'Bengt Forslund'), ('cont', '2')]\n",
      "[('x', 'http://www.wikidata.org/entity/Q51545'), ('director', 'Luis Buñuel'), ('cont', '2')]\n",
      "[('x', 'http://www.wikidata.org/entity/Q314301'), ('director', 'Peter Yates'), ('cont', '2')]\n"
     ]
    },
    {
     "data": {
      "text/plain": [
       "20"
      ]
     },
     "execution_count": 76,
     "metadata": {},
     "output_type": "execute_result"
    }
   ],
   "source": [
    "#academy award nominations by directors\n",
    "queryString = \"\"\"\n",
    "SELECT DISTINCT ?x ?director (COUNT(*) AS ?cont)\n",
    "WHERE { \n",
    "?award wdt:P31 wd:Q19020.\n",
    "?x wdt:P106 wd:Q3455803.\n",
    "\n",
    "?x wdt:P1411 ?award.\n",
    "\n",
    "?x sc:name ?director .\n",
    "} \n",
    "GROUP BY ?x ?director\n",
    "ORDER BY DESC (?cont)\n",
    "LIMIT 20\n",
    "\"\"\"\n",
    "\n",
    "print(\"Results\")\n",
    "run_query(queryString)"
   ]
  },
  {
   "cell_type": "code",
   "execution_count": 77,
   "id": "8d1b04ee-0b98-4b52-ad24-f381c0f34076",
   "metadata": {},
   "outputs": [
    {
     "name": "stdout",
     "output_type": "stream",
     "text": [
      "Results\n",
      "[('director', 'Walt Disney'), ('nominations', '6'), ('wins', '7')]\n",
      "[('director', 'Stanley Kubrick'), ('nominations', '5'), ('wins', '1')]\n",
      "[('director', 'James Cameron'), ('nominations', '3'), ('wins', '3')]\n",
      "[('director', 'Charlie Chaplin'), ('nominations', '3'), ('wins', '2')]\n",
      "[('director', 'Orson Welles'), ('nominations', '3'), ('wins', '2')]\n",
      "[('director', 'Laurence Olivier'), ('nominations', '3'), ('wins', '2')]\n",
      "[('director', 'Elia Kazan'), ('nominations', '3'), ('wins', '1')]\n",
      "[('director', 'Martin McDonagh'), ('nominations', '3'), ('wins', '1')]\n",
      "[('director', 'Ingmar Bergman'), ('nominations', '3'), ('wins', '1')]\n",
      "[('director', 'Federico Fellini'), ('nominations', '3'), ('wins', '1')]\n",
      "[('director', 'Martin Scorsese'), ('nominations', '3'), ('wins', '1')]\n",
      "[('director', 'Steven Spielberg'), ('nominations', '2'), ('wins', '3')]\n",
      "[('director', 'Hal Roach'), ('nominations', '2'), ('wins', '2')]\n",
      "[('director', 'Quentin Tarantino'), ('nominations', '2'), ('wins', '1')]\n",
      "[('director', 'Goldie Hawn'), ('nominations', '2'), ('wins', '1')]\n",
      "[('director', 'Steven Zaillian'), ('nominations', '2'), ('wins', '1')]\n",
      "[('director', 'Dalton Trumbo'), ('nominations', '2'), ('wins', '1')]\n",
      "[('director', 'Barbra Streisand'), ('nominations', '2'), ('wins', '1')]\n",
      "[('director', 'François Truffaut'), ('nominations', '2'), ('wins', '1')]\n",
      "[('director', 'Luis Buñuel'), ('nominations', '2'), ('wins', '1')]\n"
     ]
    },
    {
     "data": {
      "text/plain": [
       "20"
      ]
     },
     "execution_count": 77,
     "metadata": {},
     "output_type": "execute_result"
    }
   ],
   "source": [
    "#academy award nominations by directors\n",
    "queryString = \"\"\"\n",
    "SELECT DISTINCT ?director ?nominations ?wins\n",
    "WHERE { \n",
    "{\n",
    "    SELECT DISTINCT ?x1 (COUNT(*) AS ?nominations)\n",
    "    WHERE { \n",
    "    ?award wdt:P31 wd:Q19020.\n",
    "    ?x1 wdt:P106 wd:Q3455803.\n",
    "\n",
    "    ?x1 wdt:P1411 ?award.\n",
    "    } \n",
    "    GROUP BY ?x1 \n",
    "}\n",
    "{\n",
    "    SELECT DISTINCT ?x2 (COUNT(*) AS ?wins)\n",
    "    WHERE { \n",
    "    ?a wdt:P31 wd:Q19020.\n",
    "    ?x2 wdt:P106 wd:Q3455803.\n",
    "\n",
    "    ?x2 wdt:P166 ?a.\n",
    "\n",
    "    } \n",
    "    GROUP BY ?x2\n",
    "}\n",
    "FILTER(?x1=?x2)\n",
    "?x1 sc:name ?director\n",
    "} \n",
    "ORDER BY DESC ( ?nominations) DESC (?wins)\n",
    "LIMIT 20\n",
    "\"\"\"\n",
    "\n",
    "print(\"Results\")\n",
    "run_query(queryString)"
   ]
  },
  {
   "cell_type": "markdown",
   "id": "fa88465b-e7c3-4d43-b8bf-1de5d21fae5b",
   "metadata": {},
   "source": [
    "### Task 7.4\n",
    "Are there alternative queries to get the same result?\n",
    "\n",
    "Try to organize the work:\n",
    "- start from films and look how they are related to academy awards\n",
    "- look if exists some relation that tell me the type of academy award (e.g. best director, best coreography..)\n",
    "- look if I can connect people who works in a film with the award received in that film"
   ]
  },
  {
   "cell_type": "code",
   "execution_count": 2,
   "id": "243483d3-6bcc-4563-8c8e-7cd2baed7ea3",
   "metadata": {},
   "outputs": [
    {
     "name": "stdout",
     "output_type": "stream",
     "text": [
      "Results\n",
      "[('pr', 'http://www.wikidata.org/prop/direct/P1411'), ('name', 'nominated for')]\n",
      "[('pr', 'http://www.wikidata.org/prop/direct/P166'), ('name', 'award received')]\n"
     ]
    },
    {
     "data": {
      "text/plain": [
       "2"
      ]
     },
     "execution_count": 2,
     "metadata": {},
     "output_type": "execute_result"
    }
   ],
   "source": [
    "#find how films are connected with academy awards\n",
    "queryString = \"\"\"\n",
    "SELECT DISTINCT ?pr ?name\n",
    "WHERE { \n",
    "?f wdt:P31 wd:Q11424.\n",
    "?a wdt:P31 wd:Q19020.\n",
    "?f ?pr ?a.\n",
    "\n",
    "?pr sc:name ?name .\n",
    "} \n",
    "LIMIT 100\n",
    "\"\"\"\n",
    "\n",
    "print(\"Results\")\n",
    "run_query(queryString)"
   ]
  },
  {
   "cell_type": "code",
   "execution_count": 5,
   "id": "9b26bc1d-98dc-4256-bf25-a0130843df8f",
   "metadata": {},
   "outputs": [
    {
     "name": "stdout",
     "output_type": "stream",
     "text": [
      "Results\n",
      "[('film', 'Titanic'), ('cont', '11'), ('awards', 'Academy Award for Best Picture - Academy Award for Best Director - Academy Award for Best Original Song - Academy Award for Best Film Editing - Academy Award for Best Cinematography - Academy Award for Best Costume Design - Academy Award for Best Production Design - Academy Award for Best Visual Effects - Academy Award for Best Sound Editing - Academy Award for Best Sound - Academy Award for Best Original Dramatic Score')]\n",
      "[('film', 'Ben-Hur'), ('cont', '11'), ('awards', 'Academy Award for Best Cinematography, Color - Academy Award for Best Art Direction, Color - Academy Award for Best Picture - Academy Award for Best Director - Academy Award for Best Film Editing - Academy Award for Best Actor - Academy Award for Best Supporting Actor - Academy Award for Best Original Dramatic or Comedy Score - Academy Award for Best Sound - Academy Award for Best Costume Design, Color - Academy Award for Best Special Effects')]\n",
      "[('film', 'The Lord of the Rings: The Return of the King'), ('cont', '11'), ('awards', 'Academy Award for Best Makeup and Hairstyling - Academy Award for Best Picture - Academy Award for Best Director - Academy Award for Best Writing, Adapted Screenplay - Academy Award for Best Original Song - Academy Award for Best Film Editing - Academy Award for Best Costume Design - Academy Award for Best Production Design - Academy Award for Best Visual Effects - Academy Award for Best Original Score - Academy Award for Best Sound')]\n",
      "[('film', 'West Side Story'), ('cont', '10'), ('awards', 'Academy Award for Best Cinematography, Color - Academy Award for Best Art Direction, Color - Academy Award for Best Picture - Academy Award for Best Director - Academy Award for Best Supporting Actress - Academy Award for Best Film Editing - Academy Award for Best Supporting Actor - Academy Award for Best Sound - Academy Award for Best Original Musical Score - Academy Award for Best Costume Design, Color')]\n",
      "[('film', 'The Last Emperor'), ('cont', '9'), ('awards', 'Academy Award for Best Picture - Academy Award for Best Director - Academy Award for Best Writing, Adapted Screenplay - Academy Award for Best Film Editing - Academy Award for Best Cinematography - Academy Award for Best Costume Design - Academy Award for Best Production Design - Academy Award for Best Original Score - Academy Award for Best Sound')]\n",
      "[('film', 'The English Patient'), ('cont', '9'), ('awards', 'Academy Award for Best Picture - Academy Award for Best Director - Academy Award for Best Supporting Actress - Academy Award for Best Film Editing - Academy Award for Best Cinematography - Academy Award for Best Costume Design - Academy Award for Best Production Design - Academy Award for Best Sound - Academy Award for Best Original Dramatic Score')]\n",
      "[('film', 'Gone with the Wind'), ('cont', '8'), ('awards', 'Academy Award for Best Cinematography, Color - Academy Award for Best Picture - Academy Award for Best Director - Academy Award for Best Actress - Academy Award for Best Supporting Actress - Academy Award for Best Writing, Adapted Screenplay - Academy Award for Best Film Editing - Academy Award for Best Production Design')]\n",
      "[('film', 'Gandhi'), ('cont', '8'), ('awards', 'Academy Award for Best Picture - Academy Award for Best Director - Academy Award for Best Film Editing - Academy Award for Best Writing, Original Screenplay - Academy Award for Best Actor - Academy Award for Best Cinematography - Academy Award for Best Costume Design - Academy Award for Best Production Design')]\n",
      "[('film', 'From Here to Eternity'), ('cont', '8'), ('awards', 'Academy Award for Best Cinematography, Black-and-White - Academy Award for Best Picture - Academy Award for Best Director - Academy Award for Best Supporting Actress - Academy Award for Best Writing, Adapted Screenplay - Academy Award for Best Film Editing - Academy Award for Best Supporting Actor - Academy Award for Best Sound')]\n",
      "[('film', 'Gigi'), ('cont', '8'), ('awards', 'Academy Award for Best Cinematography, Color - Academy Award for Best Picture - Academy Award for Best Director - Academy Award for Best Writing, Adapted Screenplay - Academy Award for Best Film Editing - Academy Award for Best Costume Design - Academy Award for Best Production Design - Academy Award for Best Original Musical Score')]\n"
     ]
    },
    {
     "data": {
      "text/plain": [
       "10"
      ]
     },
     "execution_count": 5,
     "metadata": {},
     "output_type": "execute_result"
    }
   ],
   "source": [
    "#find how films are connected with academy awards\n",
    "queryString = \"\"\"\n",
    "SELECT DISTINCT ?film (COUNT(DISTINCT ?a) AS ?cont) (GROUP_CONCAT(?award;separator=\" - \") AS ?awards)\n",
    "WHERE { \n",
    "?f wdt:P31 wd:Q11424.\n",
    "?a wdt:P31 wd:Q19020.\n",
    "?f wdt:P166 ?a.\n",
    "\n",
    "?f sc:name ?film .\n",
    "?a sc:name ?award .\n",
    "} \n",
    "GROUP BY ?f ?film\n",
    "ORDER BY DESC (?cont)\n",
    "LIMIT 10\n",
    "\"\"\"\n",
    "\n",
    "print(\"Results\")\n",
    "run_query(queryString)"
   ]
  },
  {
   "cell_type": "code",
   "execution_count": 8,
   "id": "6ef174d6-9b1e-46eb-87dd-e4e88abdd803",
   "metadata": {},
   "outputs": [
    {
     "name": "stdout",
     "output_type": "stream",
     "text": [
      "Results\n",
      "[('pr', 'http://www.wikidata.org/prop/direct/P1411'), ('name', 'nominated for')]\n",
      "[('pr', 'http://www.wikidata.org/prop/direct/P6145'), ('name', 'Academy Awards Database film ID')]\n",
      "[('pr', 'http://www.wikidata.org/prop/direct/P5829'), ('name', 'Television Academy Foundation show ID')]\n",
      "[('pr', 'http://www.wikidata.org/prop/direct/P6150'), ('name', 'Academy Awards Database nominee ID')]\n",
      "[('pr', 'http://www.wikidata.org/prop/direct/P4353'), ('name', 'nominated by')]\n",
      "[('pr', 'http://www.wikidata.org/prop/direct/P1346'), ('name', 'winner')]\n"
     ]
    },
    {
     "data": {
      "text/plain": [
       "6"
      ]
     },
     "execution_count": 8,
     "metadata": {},
     "output_type": "execute_result"
    }
   ],
   "source": [
    "#find how films are connected with academy awards\n",
    "queryString = \"\"\"\n",
    "SELECT DISTINCT ?pr ?name\n",
    "WHERE { \n",
    "?f wdt:P31 wd:Q11424.\n",
    "?f ?pr ?a.\n",
    "\n",
    "?pr sc:name ?name .\n",
    "FILTER(REGEX(?name,\".*nom.*\") || REGEX(?name,\".*win.*\") || REGEX(?name,\".*cademy.*\"))\n",
    "} \n",
    "LIMIT 100\n",
    "\"\"\"\n",
    "\n",
    "print(\"Results\")\n",
    "run_query(queryString)"
   ]
  },
  {
   "cell_type": "markdown",
   "id": "39384495-30b2-44f4-b24f-7d06cb1184b7",
   "metadata": {},
   "source": [
    "Find something very interesting that is the Academy Awards Database nominee ID (`wdt:P6150`). If we can relate this ID with the people we could know who was nominated and for which film, and possibly for which academy award. Let's find if the object of the predicate wdt:P6150 is just a literal or a node in the graph."
   ]
  },
  {
   "cell_type": "code",
   "execution_count": 34,
   "id": "29568a9d-0f6b-454b-8de5-1732b4156842",
   "metadata": {},
   "outputs": [
    {
     "name": "stdout",
     "output_type": "stream",
     "text": [
      "Results\n",
      "[('a', '6780')]\n",
      "[('a', '5625')]\n",
      "[('a', '7620')]\n",
      "[('a', '4403')]\n",
      "[('a', '4916')]\n",
      "[('a', '8475')]\n"
     ]
    },
    {
     "data": {
      "text/plain": [
       "6"
      ]
     },
     "execution_count": 34,
     "metadata": {},
     "output_type": "execute_result"
    }
   ],
   "source": [
    "#find how films are connected with academy awards\n",
    "queryString = \"\"\"\n",
    "SELECT DISTINCT ?a ?name\n",
    "WHERE { \n",
    "?f wdt:P31 wd:Q11424.\n",
    "?f wdt:P6150 ?a.\n",
    "\n",
    "OPTIONAL{?a sc:name ?name .}\n",
    "} \n",
    "LIMIT 100\n",
    "\"\"\"\n",
    "\n",
    "print(\"Results\")\n",
    "run_query(queryString)"
   ]
  },
  {
   "cell_type": "markdown",
   "id": "834f840d-b497-47a8-8a50-fb208be2c085",
   "metadata": {},
   "source": [
    "Only 6 results, so this is not useful. Clear the mind and start again from academy awards"
   ]
  },
  {
   "cell_type": "code",
   "execution_count": 33,
   "id": "c4cce692-f773-4324-9857-462304dce598",
   "metadata": {},
   "outputs": [
    {
     "name": "stdout",
     "output_type": "stream",
     "text": [
      "Results\n",
      "[('pr', 'http://www.wikidata.org/prop/direct/P101'), ('name', 'field of work')]\n",
      "[('pr', 'http://www.wikidata.org/prop/direct/P1346'), ('name', 'winner')]\n",
      "[('pr', 'http://www.wikidata.org/prop/direct/P138'), ('name', 'named after')]\n",
      "[('pr', 'http://www.wikidata.org/prop/direct/P1417'), ('name', 'Encyclopædia Britannica Online ID')]\n",
      "[('pr', 'http://www.wikidata.org/prop/direct/P1424'), ('name', \"topic's main template\")]\n",
      "[('pr', 'http://www.wikidata.org/prop/direct/P154'), ('name', 'logo image')]\n",
      "[('pr', 'http://www.wikidata.org/prop/direct/P166'), ('name', 'award received')]\n",
      "[('pr', 'http://www.wikidata.org/prop/direct/P17'), ('name', 'country')]\n",
      "[('pr', 'http://www.wikidata.org/prop/direct/P1705'), ('name', 'native label')]\n",
      "[('pr', 'http://www.wikidata.org/prop/direct/P2257'), ('name', 'event interval')]\n",
      "[('pr', 'http://www.wikidata.org/prop/direct/P2581'), ('name', 'BabelNet ID')]\n",
      "[('pr', 'http://www.wikidata.org/prop/direct/P2671'), ('name', 'Google Knowledge Graph ID')]\n",
      "[('pr', 'http://www.wikidata.org/prop/direct/P31'), ('name', 'instance of')]\n",
      "[('pr', 'http://www.wikidata.org/prop/direct/P3553'), ('name', 'Zhihu topic ID')]\n",
      "[('pr', 'http://www.wikidata.org/prop/direct/P361'), ('name', 'part of')]\n",
      "[('pr', 'http://www.wikidata.org/prop/direct/P373'), ('name', 'Commons category')]\n",
      "[('pr', 'http://www.wikidata.org/prop/direct/P5008'), ('name', 'on focus list of Wikimedia project')]\n",
      "[('pr', 'http://www.wikidata.org/prop/direct/P571'), ('name', 'inception')]\n",
      "[('pr', 'http://www.wikidata.org/prop/direct/P576'), ('name', 'dissolved, abolished or demolished date')]\n",
      "[('pr', 'http://www.wikidata.org/prop/direct/P580'), ('name', 'start time')]\n",
      "[('pr', 'http://www.wikidata.org/prop/direct/P582'), ('name', 'end time')]\n",
      "[('pr', 'http://www.wikidata.org/prop/direct/P6262'), ('name', 'Fandom article ID')]\n",
      "[('pr', 'http://www.wikidata.org/prop/direct/P646'), ('name', 'Freebase ID')]\n",
      "[('pr', 'http://www.wikidata.org/prop/direct/P7084'), ('name', 'related category')]\n",
      "[('pr', 'http://www.wikidata.org/prop/direct/P7502'), ('name', 'Golden ID')]\n",
      "[('pr', 'http://www.wikidata.org/prop/direct/P8408'), ('name', 'KBpedia ID')]\n",
      "[('pr', 'http://www.wikidata.org/prop/direct/P856'), ('name', 'official website')]\n",
      "[('pr', 'http://www.wikidata.org/prop/direct/P910'), ('name', \"topic's main category\")]\n",
      "[('pr', 'http://www.wikidata.org/prop/direct/P935'), ('name', 'Commons gallery')]\n",
      "[('pr', 'http://www.wikidata.org/prop/direct/P1027'), ('name', 'conferred by')]\n",
      "[('pr', 'http://www.wikidata.org/prop/direct/P2517'), ('name', 'category for recipients of this award')]\n",
      "[('pr', 'http://www.wikidata.org/prop/direct/P8115'), ('name', 'eligible recipient')]\n"
     ]
    },
    {
     "data": {
      "text/plain": [
       "32"
      ]
     },
     "execution_count": 33,
     "metadata": {},
     "output_type": "execute_result"
    }
   ],
   "source": [
    "#properties of academy awards\n",
    "queryString = \"\"\"\n",
    "SELECT DISTINCT ?pr ?name\n",
    "WHERE { \n",
    "?a wdt:P31 wd:Q19020.\n",
    "?a ?pr ?o.\n",
    "\n",
    "\n",
    "?pr sc:name ?name .\n",
    "} \n",
    "LIMIT 100\n",
    "\"\"\"\n",
    "\n",
    "print(\"Results\")\n",
    "run_query(queryString)"
   ]
  },
  {
   "cell_type": "code",
   "execution_count": 46,
   "id": "b49b662d-af46-4a3c-b3a2-407826a4aa26",
   "metadata": {},
   "outputs": [
    {
     "name": "stdout",
     "output_type": "stream",
     "text": [
      "Results\n",
      "[('o', 'http://www.wikidata.org/entity/Q6372982'), ('name', 'Category:Best Documentary Short Subject Academy Award winners')]\n",
      "[('o', 'http://www.wikidata.org/entity/Q9240896'), ('name', 'Category:Best Animated Feature Academy Award winners')]\n",
      "[('o', 'http://www.wikidata.org/entity/Q9650583'), ('name', 'Category:Best Original Song Academy Award winners')]\n",
      "[('o', 'http://www.wikidata.org/entity/Q7146100'), ('name', 'Category:Best Directing Academy Award winners')]\n",
      "[('o', 'http://www.wikidata.org/entity/Q8298336'), ('name', 'Category:Best Assistant Director Academy Award winners')]\n",
      "[('o', 'http://www.wikidata.org/entity/Q8298430'), ('name', 'Category:Best Sound Mixing Academy Award winners')]\n",
      "[('o', 'http://www.wikidata.org/entity/Q8794824'), ('name', 'Category:Producers who won the Best Picture Academy Award')]\n",
      "[('o', 'http://www.wikidata.org/entity/Q6373064'), ('name', 'Category:Live Action Short Film Academy Award winners')]\n",
      "[('o', 'http://www.wikidata.org/entity/Q8219410'), ('name', 'Category:Academy Honorary Award recipients')]\n",
      "[('o', 'http://www.wikidata.org/entity/Q6371555'), ('name', 'Category:Best Art Direction Academy Award winners')]\n",
      "[('o', 'http://www.wikidata.org/entity/Q8298398'), ('name', 'Category:Best Makeup Academy Award winners')]\n",
      "[('o', 'http://www.wikidata.org/entity/Q8219347'), ('name', 'Category:Academy Award for Technical Achievement winners')]\n",
      "[('o', 'http://www.wikidata.org/entity/Q25015084'), ('name', 'Category:Best Dance Direction Academy Award winners')]\n",
      "[('o', 'http://www.wikidata.org/entity/Q6509681'), ('name', 'Category:Best Documentary Feature Academy Award winners')]\n",
      "[('o', 'http://www.wikidata.org/entity/Q8298463'), ('name', 'Category:Best Visual Effects Academy Award winners')]\n",
      "[('o', 'http://www.wikidata.org/entity/Q7044635'), ('name', 'Category:Best Actor Academy Award winners')]\n",
      "[('o', 'http://www.wikidata.org/entity/Q7135398'), ('name', 'Category:Best Adapted Screenplay Academy Award winners')]\n",
      "[('o', 'http://www.wikidata.org/entity/Q7925596'), ('name', 'Category:Films featuring a Best Actor Academy Award-winning performance')]\n",
      "[('o', 'http://www.wikidata.org/entity/Q6250517'), ('name', 'Category:Best Film Editing Academy Award winners')]\n",
      "[('o', 'http://www.wikidata.org/entity/Q7044633'), ('name', 'Category:Best Actress Academy Award winners')]\n",
      "[('o', 'http://www.wikidata.org/entity/Q6419074'), ('name', 'Category:Best Animated Short Academy Award winners')]\n",
      "[('o', 'http://www.wikidata.org/entity/Q8298353'), ('name', 'Category:Winners of Academy Award for Best Costume Design')]\n",
      "[('o', 'http://www.wikidata.org/entity/Q8886417'), ('name', 'Category:Best Original Music Score Academy Award winners')]\n",
      "[('o', 'http://www.wikidata.org/entity/Q8298427'), ('name', 'Category:Best Sound Editing Academy Award winners')]\n",
      "[('o', 'http://www.wikidata.org/entity/Q7044715'), ('name', 'Category:Best Supporting Actress Academy Award winners')]\n",
      "[('o', 'http://www.wikidata.org/entity/Q8298359'), ('name', 'Category:Best Cinematographer Academy Award winners')]\n",
      "[('o', 'http://www.wikidata.org/entity/Q7337131'), ('name', 'Category:Best Original Screenplay Academy Award winners')]\n",
      "[('o', 'http://www.wikidata.org/entity/Q7188214'), ('name', 'Category:Best Supporting Actor Academy Award winners')]\n",
      "[('o', 'http://www.wikidata.org/entity/Q7408480'), ('name', 'Category:Best Story Academy Award winners')]\n"
     ]
    },
    {
     "data": {
      "text/plain": [
       "29"
      ]
     },
     "execution_count": 46,
     "metadata": {},
     "output_type": "execute_result"
    }
   ],
   "source": [
    "#see the fields of work\n",
    "queryString = \"\"\"\n",
    "SELECT DISTINCT ?o ?name\n",
    "WHERE { \n",
    "?a wdt:P31 wd:Q19020.\n",
    "?a wdt:P2517 ?o.\n",
    "\n",
    "\n",
    "?o sc:name ?name .\n",
    "} \n",
    "LIMIT 100\n",
    "\"\"\"\n",
    "\n",
    "print(\"Results\")\n",
    "run_query(queryString)"
   ]
  },
  {
   "cell_type": "code",
   "execution_count": 53,
   "id": "170a917a-9446-4df5-9d80-a25baf7002d5",
   "metadata": {},
   "outputs": [
    {
     "name": "stdout",
     "output_type": "stream",
     "text": [
      "Results\n",
      "[('pr', 'http://www.wikidata.org/prop/direct/P910'), ('name', \"topic's main category\")]\n",
      "[('pr', 'http://www.wikidata.org/prop/direct/P2517'), ('name', 'category for recipients of this award')]\n"
     ]
    },
    {
     "data": {
      "text/plain": [
       "2"
      ]
     },
     "execution_count": 53,
     "metadata": {},
     "output_type": "execute_result"
    }
   ],
   "source": [
    "#see some properties of the category Best Directing Academy Award winners\n",
    "queryString = \"\"\"\n",
    "SELECT DISTINCT ?pr ?name \n",
    "WHERE { \n",
    "?a ?pr wd:Q7146100.\n",
    "\n",
    "?pr sc:name ?name .\n",
    "} \n",
    "LIMIT 100\n",
    "\"\"\"\n",
    "\n",
    "print(\"Results\")\n",
    "run_query(queryString)"
   ]
  },
  {
   "cell_type": "code",
   "execution_count": 54,
   "id": "7848006d-4a2f-44f6-b56f-a32b1778060a",
   "metadata": {},
   "outputs": [
    {
     "name": "stdout",
     "output_type": "stream",
     "text": [
      "Results\n",
      "[('pr', 'http://www.wikidata.org/prop/direct/P301'), ('name', \"category's main topic\")]\n",
      "[('pr', 'http://www.wikidata.org/prop/direct/P31'), ('name', 'instance of')]\n",
      "[('pr', 'http://www.wikidata.org/prop/direct/P373'), ('name', 'Commons category')]\n",
      "[('pr', 'http://www.wikidata.org/prop/direct/P4224'), ('name', 'category contains')]\n",
      "[('pr', 'http://www.wikidata.org/prop/direct/P971'), ('name', 'category combines topics')]\n"
     ]
    },
    {
     "data": {
      "text/plain": [
       "5"
      ]
     },
     "execution_count": 54,
     "metadata": {},
     "output_type": "execute_result"
    }
   ],
   "source": [
    "#see some properties of the category Best Directing Academy Award winners\n",
    "queryString = \"\"\"\n",
    "SELECT DISTINCT ?pr ?name \n",
    "WHERE { \n",
    "wd:Q7146100 ?pr ?a.\n",
    "\n",
    "?pr sc:name ?name .\n",
    "} \n",
    "LIMIT 100\n",
    "\"\"\"\n",
    "\n",
    "print(\"Results\")\n",
    "run_query(queryString)"
   ]
  },
  {
   "cell_type": "markdown",
   "id": "5da0ed10-4b99-4339-9d6c-2350c7d78e10",
   "metadata": {},
   "source": [
    "Categories tell me nothing. Look again to the academy awards property"
   ]
  },
  {
   "cell_type": "code",
   "execution_count": 79,
   "id": "053ab164-5221-42c1-a657-d016e94c2fb3",
   "metadata": {},
   "outputs": [
    {
     "name": "stdout",
     "output_type": "stream",
     "text": [
      "Results\n",
      "[('pr', 'http://www.wikidata.org/prop/direct/P1423'), ('name', 'template has topic')]\n",
      "[('pr', 'http://www.wikidata.org/prop/direct/P1269'), ('name', 'facet of')]\n",
      "[('pr', 'http://www.wikidata.org/prop/direct/P1411'), ('name', 'nominated for')]\n",
      "[('pr', 'http://www.wikidata.org/prop/direct/P166'), ('name', 'award received')]\n",
      "[('pr', 'http://www.wikidata.org/prop/direct/P179'), ('name', 'part of the series')]\n",
      "[('pr', 'http://www.wikidata.org/prop/direct/P1889'), ('name', 'different from')]\n",
      "[('pr', 'http://www.wikidata.org/prop/direct/P301'), ('name', \"category's main topic\")]\n",
      "[('pr', 'http://www.wikidata.org/prop/direct/P31'), ('name', 'instance of')]\n",
      "[('pr', 'http://www.wikidata.org/prop/direct/P360'), ('name', 'is a list of')]\n",
      "[('pr', 'http://www.wikidata.org/prop/direct/P361'), ('name', 'part of')]\n",
      "[('pr', 'http://www.wikidata.org/prop/direct/P527'), ('name', 'has part')]\n",
      "[('pr', 'http://www.wikidata.org/prop/direct/P800'), ('name', 'notable work')]\n",
      "[('pr', 'http://www.wikidata.org/prop/direct/P921'), ('name', 'main subject')]\n",
      "[('pr', 'http://www.wikidata.org/prop/direct/P971'), ('name', 'category combines topics')]\n",
      "[('pr', 'http://www.wikidata.org/prop/direct/P1855'), ('name', 'Wikidata property example')]\n"
     ]
    },
    {
     "data": {
      "text/plain": [
       "15"
      ]
     },
     "execution_count": 79,
     "metadata": {},
     "output_type": "execute_result"
    }
   ],
   "source": [
    "#properties of academy awards\n",
    "queryString = \"\"\"\n",
    "SELECT DISTINCT ?pr ?name\n",
    "WHERE { \n",
    "?a ?pr wd:Q19020.\n",
    "\n",
    "?pr sc:name ?name .\n",
    "} \n",
    "LIMIT 100\n",
    "\"\"\"\n",
    "\n",
    "print(\"Results\")\n",
    "run_query(queryString)"
   ]
  },
  {
   "cell_type": "markdown",
   "id": "d8b7b1c4-0ec5-4567-80fd-4e7e3a5f9172",
   "metadata": {},
   "source": [
    "Look at `wdt:P179` part of the series"
   ]
  },
  {
   "cell_type": "code",
   "execution_count": 80,
   "id": "e3ed84ab-00ef-4b81-80f1-2b9ae33f7ce2",
   "metadata": {},
   "outputs": [
    {
     "name": "stdout",
     "output_type": "stream",
     "text": [
      "Results\n",
      "[('a', 'http://www.wikidata.org/entity/Q22076019'), ('name', '89th Academy Awards')]\n",
      "[('a', 'http://www.wikidata.org/entity/Q148609'), ('name', '16th Academy Awards')]\n",
      "[('a', 'http://www.wikidata.org/entity/Q918125'), ('name', '45th Academy Awards')]\n",
      "[('a', 'http://www.wikidata.org/entity/Q1065282'), ('name', '51st Academy Awards')]\n",
      "[('a', 'http://www.wikidata.org/entity/Q543438'), ('name', '52nd Academy Awards')]\n",
      "[('a', 'http://www.wikidata.org/entity/Q938235'), ('name', '58th Academy Awards')]\n",
      "[('a', 'http://www.wikidata.org/entity/Q24636843'), ('name', '90th Academy Awards')]\n",
      "[('a', 'http://www.wikidata.org/entity/Q508528'), ('name', '15th Academy Awards')]\n",
      "[('a', 'http://www.wikidata.org/entity/Q508554'), ('name', '13th Academy Awards')]\n",
      "[('a', 'http://www.wikidata.org/entity/Q257443'), ('name', '60th Academy Awards')]\n",
      "[('a', 'http://www.wikidata.org/entity/Q910864'), ('name', '62nd Academy Awards')]\n",
      "[('a', 'http://www.wikidata.org/entity/Q917138'), ('name', '37th Academy Awards')]\n",
      "[('a', 'http://www.wikidata.org/entity/Q917143'), ('name', '36th Academy Awards')]\n",
      "[('a', 'http://www.wikidata.org/entity/Q917148'), ('name', '35th Academy Awards')]\n",
      "[('a', 'http://www.wikidata.org/entity/Q924339'), ('name', '61st Academy Awards')]\n",
      "[('a', 'http://www.wikidata.org/entity/Q47193'), ('name', '56th Academy Awards')]\n",
      "[('a', 'http://www.wikidata.org/entity/Q767355'), ('name', '53rd Academy Awards')]\n",
      "[('a', 'http://www.wikidata.org/entity/Q857047'), ('name', '64th Academy Awards')]\n",
      "[('a', 'http://www.wikidata.org/entity/Q944352'), ('name', '66th Academy Awards')]\n",
      "[('a', 'http://www.wikidata.org/entity/Q213699'), ('name', '79th Academy Awards')]\n",
      "[('a', 'http://www.wikidata.org/entity/Q504962'), ('name', '77th Academy Awards')]\n",
      "[('a', 'http://www.wikidata.org/entity/Q369706'), ('name', '47th Academy Awards')]\n",
      "[('a', 'http://www.wikidata.org/entity/Q611050'), ('name', '49th Academy Awards')]\n",
      "[('a', 'http://www.wikidata.org/entity/Q857001'), ('name', '67th Academy Awards')]\n",
      "[('a', 'http://www.wikidata.org/entity/Q917167'), ('name', '32nd Academy Awards')]\n",
      "[('a', 'http://www.wikidata.org/entity/Q303473'), ('name', '20th Academy Awards')]\n",
      "[('a', 'http://www.wikidata.org/entity/Q516479'), ('name', '26th Academy Awards')]\n",
      "[('a', 'http://www.wikidata.org/entity/Q570921'), ('name', '46th Academy Awards')]\n",
      "[('a', 'http://www.wikidata.org/entity/Q917170'), ('name', '21st Academy Awards')]\n",
      "[('a', 'http://www.wikidata.org/entity/Q917159'), ('name', '17th Academy Awards')]\n",
      "[('a', 'http://www.wikidata.org/entity/Q20022969'), ('name', '88th Academy Awards')]\n",
      "[('a', 'http://www.wikidata.org/entity/Q47496499'), ('name', '92nd Academy Awards')]\n",
      "[('a', 'http://www.wikidata.org/entity/Q132080'), ('name', '8th Academy Awards')]\n",
      "[('a', 'http://www.wikidata.org/entity/Q508426'), ('name', '9th Academy Awards')]\n",
      "[('a', 'http://www.wikidata.org/entity/Q508451'), ('name', '7th Academy Awards')]\n",
      "[('a', 'http://www.wikidata.org/entity/Q508513'), ('name', '12th Academy Awards')]\n",
      "[('a', 'http://www.wikidata.org/entity/Q508570'), ('name', '6th Academy Awards')]\n",
      "[('a', 'http://www.wikidata.org/entity/Q508601'), ('name', '10th Academy Awards')]\n",
      "[('a', 'http://www.wikidata.org/entity/Q508662'), ('name', '5th Academy Awards')]\n",
      "[('a', 'http://www.wikidata.org/entity/Q263239'), ('name', '71st Academy Awards')]\n",
      "[('a', 'http://www.wikidata.org/entity/Q536749'), ('name', '70th Academy Awards')]\n",
      "[('a', 'http://www.wikidata.org/entity/Q903336'), ('name', '69th Academy Awards')]\n",
      "[('a', 'http://www.wikidata.org/entity/Q684095'), ('name', '30th Academy Awards')]\n",
      "[('a', 'http://www.wikidata.org/entity/Q787207'), ('name', '29th Academy Awards')]\n",
      "[('a', 'http://www.wikidata.org/entity/Q282159'), ('name', '50th Academy Awards')]\n",
      "[('a', 'http://www.wikidata.org/entity/Q903494'), ('name', '68th Academy Awards')]\n",
      "[('a', 'http://www.wikidata.org/entity/Q13419956'), ('name', '86th Academy Awards')]\n",
      "[('a', 'http://www.wikidata.org/entity/Q16773560'), ('name', '87th Academy Awards')]\n",
      "[('a', 'http://www.wikidata.org/entity/Q248688'), ('name', '85th Academy Awards')]\n",
      "[('a', 'http://www.wikidata.org/entity/Q279914'), ('name', '28th Academy Awards')]\n",
      "[('a', 'http://www.wikidata.org/entity/Q289412'), ('name', '44th Academy Awards')]\n",
      "[('a', 'http://www.wikidata.org/entity/Q937162'), ('name', '43rd Academy Awards')]\n",
      "[('a', 'http://www.wikidata.org/entity/Q167214'), ('name', '39th Academy Awards')]\n",
      "[('a', 'http://www.wikidata.org/entity/Q508539'), ('name', '4th Academy Awards')]\n",
      "[('a', 'http://www.wikidata.org/entity/Q910856'), ('name', '63rd Academy Awards')]\n",
      "[('a', 'http://www.wikidata.org/entity/Q917163'), ('name', '34th Academy Awards')]\n",
      "[('a', 'http://www.wikidata.org/entity/Q180675'), ('name', '84th Academy Awards')]\n",
      "[('a', 'http://www.wikidata.org/entity/Q183355'), ('name', '83rd Academy Awards')]\n",
      "[('a', 'http://www.wikidata.org/entity/Q189836'), ('name', '82nd Academy Awards')]\n",
      "[('a', 'http://www.wikidata.org/entity/Q190441'), ('name', '81st Academy Awards')]\n",
      "[('a', 'http://www.wikidata.org/entity/Q215132'), ('name', '80th Academy Awards')]\n",
      "[('a', 'http://www.wikidata.org/entity/Q458646'), ('name', '76th Academy Awards')]\n",
      "[('a', 'http://www.wikidata.org/entity/Q740425'), ('name', '75th Academy Awards')]\n",
      "[('a', 'http://www.wikidata.org/entity/Q753167'), ('name', '74th Academy Awards')]\n",
      "[('a', 'http://www.wikidata.org/entity/Q614408'), ('name', '25th Academy Awards')]\n",
      "[('a', 'http://www.wikidata.org/entity/Q917076'), ('name', '23rd Academy Awards')]\n",
      "[('a', 'http://www.wikidata.org/entity/Q917184'), ('name', '24th Academy Awards')]\n",
      "[('a', 'http://www.wikidata.org/entity/Q178975'), ('name', '31st Academy Awards')]\n",
      "[('a', 'http://www.wikidata.org/entity/Q57246152'), ('name', '93rd Academy Awards')]\n",
      "[('a', 'http://www.wikidata.org/entity/Q429319'), ('name', '72nd Academy Awards')]\n",
      "[('a', 'http://www.wikidata.org/entity/Q917174'), ('name', '19th Academy Awards')]\n",
      "[('a', 'http://www.wikidata.org/entity/Q751924'), ('name', '73rd Academy Awards')]\n",
      "[('a', 'http://www.wikidata.org/entity/Q1065291'), ('name', '40th Academy Awards')]\n",
      "[('a', 'http://www.wikidata.org/entity/Q917067'), ('name', '38th Academy Awards')]\n",
      "[('a', 'http://www.wikidata.org/entity/Q508496'), ('name', '3rd Academy Awards')]\n",
      "[('a', 'http://www.wikidata.org/entity/Q221467'), ('name', '42nd Academy Awards')]\n",
      "[('a', 'http://www.wikidata.org/entity/Q544731'), ('name', '41st Academy Awards')]\n",
      "[('a', 'http://www.wikidata.org/entity/Q917235'), ('name', '59th Academy Awards')]\n",
      "[('a', 'http://www.wikidata.org/entity/Q521644'), ('name', '22nd Academy Awards')]\n",
      "[('a', 'http://www.wikidata.org/entity/Q917071'), ('name', '33rd Academy Awards')]\n",
      "[('a', 'http://www.wikidata.org/entity/Q109886'), ('name', '1st Academy Awards')]\n",
      "[('a', 'http://www.wikidata.org/entity/Q917178'), ('name', '18th Academy Awards')]\n",
      "[('a', 'http://www.wikidata.org/entity/Q59456966'), ('name', '91st Academy Awards')]\n",
      "[('a', 'http://www.wikidata.org/entity/Q508390'), ('name', '11th Academy Awards')]\n",
      "[('a', 'http://www.wikidata.org/entity/Q608130'), ('name', '27th Academy Awards')]\n",
      "[('a', 'http://www.wikidata.org/entity/Q178809'), ('name', '2nd Academy Awards')]\n"
     ]
    },
    {
     "data": {
      "text/plain": [
       "86"
      ]
     },
     "execution_count": 80,
     "metadata": {},
     "output_type": "execute_result"
    }
   ],
   "source": [
    "#properties of edition of academy awards\n",
    "queryString = \"\"\"\n",
    "SELECT DISTINCT ?a ?name\n",
    "WHERE { \n",
    "?a wdt:P179 wd:Q19020.\n",
    "\n",
    "?a sc:name ?name .\n",
    "} \n",
    "LIMIT 100\n",
    "\"\"\"\n",
    "\n",
    "print(\"Results\")\n",
    "run_query(queryString)"
   ]
  },
  {
   "cell_type": "markdown",
   "id": "7a226595-ddaa-4d2a-9355-ca4fc634f652",
   "metadata": {},
   "source": [
    "These represents the academy awards in the years, look to the class of these istances and then look at all the properties"
   ]
  },
  {
   "cell_type": "code",
   "execution_count": 81,
   "id": "4db4827b-df93-4228-bc6d-37f7b8da2e17",
   "metadata": {},
   "outputs": [
    {
     "name": "stdout",
     "output_type": "stream",
     "text": [
      "Results\n",
      "[('x', 'http://www.wikidata.org/entity/Q15416'), ('name', 'television program')]\n",
      "[('x', 'http://www.wikidata.org/entity/Q15275719'), ('name', 'recurring event')]\n",
      "[('x', 'http://www.wikidata.org/entity/Q16913666'), ('name', 'Academy Awards ceremony')]\n"
     ]
    },
    {
     "data": {
      "text/plain": [
       "3"
      ]
     },
     "execution_count": 81,
     "metadata": {},
     "output_type": "execute_result"
    }
   ],
   "source": [
    "#istances\n",
    "queryString = \"\"\"\n",
    "SELECT DISTINCT ?x ?name\n",
    "WHERE { \n",
    "?a wdt:P179 wd:Q19020.\n",
    "?a wdt:P31 ?x.\n",
    "?x sc:name ?name .\n",
    "} \n",
    "LIMIT 100\n",
    "\"\"\"\n",
    "\n",
    "print(\"Results\")\n",
    "run_query(queryString)"
   ]
  },
  {
   "cell_type": "code",
   "execution_count": 82,
   "id": "875fc5d8-fc21-4095-8d0a-523cbb194099",
   "metadata": {},
   "outputs": [
    {
     "name": "stdout",
     "output_type": "stream",
     "text": [
      "Results\n",
      "[('pr', 'http://www.wikidata.org/prop/direct/P131'), ('name', 'located in the administrative territorial entity')]\n",
      "[('pr', 'http://www.wikidata.org/prop/direct/P1417'), ('name', 'Encyclopædia Britannica Online ID')]\n",
      "[('pr', 'http://www.wikidata.org/prop/direct/P155'), ('name', 'follows')]\n",
      "[('pr', 'http://www.wikidata.org/prop/direct/P156'), ('name', 'followed by')]\n",
      "[('pr', 'http://www.wikidata.org/prop/direct/P162'), ('name', 'producer')]\n",
      "[('pr', 'http://www.wikidata.org/prop/direct/P17'), ('name', 'country')]\n",
      "[('pr', 'http://www.wikidata.org/prop/direct/P1705'), ('name', 'native label')]\n",
      "[('pr', 'http://www.wikidata.org/prop/direct/P179'), ('name', 'part of the series')]\n",
      "[('pr', 'http://www.wikidata.org/prop/direct/P18'), ('name', 'image')]\n",
      "[('pr', 'http://www.wikidata.org/prop/direct/P2047'), ('name', 'duration')]\n",
      "[('pr', 'http://www.wikidata.org/prop/direct/P2670'), ('name', 'has parts of the class')]\n",
      "[('pr', 'http://www.wikidata.org/prop/direct/P2671'), ('name', 'Google Knowledge Graph ID')]\n",
      "[('pr', 'http://www.wikidata.org/prop/direct/P276'), ('name', 'location')]\n",
      "[('pr', 'http://www.wikidata.org/prop/direct/P31'), ('name', 'instance of')]\n",
      "[('pr', 'http://www.wikidata.org/prop/direct/P3301'), ('name', 'broadcast by')]\n",
      "[('pr', 'http://www.wikidata.org/prop/direct/P3414'), ('name', 'Yle Areena item ID')]\n",
      "[('pr', 'http://www.wikidata.org/prop/direct/P3417'), ('name', 'Quora topic ID')]\n",
      "[('pr', 'http://www.wikidata.org/prop/direct/P345'), ('name', 'IMDb ID')]\n",
      "[('pr', 'http://www.wikidata.org/prop/direct/P3479'), ('name', 'Omni topic ID')]\n",
      "[('pr', 'http://www.wikidata.org/prop/direct/P3553'), ('name', 'Zhihu topic ID')]\n",
      "[('pr', 'http://www.wikidata.org/prop/direct/P364'), ('name', 'original language of film or TV show')]\n",
      "[('pr', 'http://www.wikidata.org/prop/direct/P371'), ('name', 'presenter')]\n",
      "[('pr', 'http://www.wikidata.org/prop/direct/P373'), ('name', 'Commons category')]\n",
      "[('pr', 'http://www.wikidata.org/prop/direct/P393'), ('name', 'edition number')]\n",
      "[('pr', 'http://www.wikidata.org/prop/direct/P407'), ('name', 'language of work or name')]\n",
      "[('pr', 'http://www.wikidata.org/prop/direct/P449'), ('name', 'original broadcaster')]\n",
      "[('pr', 'http://www.wikidata.org/prop/direct/P495'), ('name', 'country of origin')]\n",
      "[('pr', 'http://www.wikidata.org/prop/direct/P57'), ('name', 'director')]\n",
      "[('pr', 'http://www.wikidata.org/prop/direct/P585'), ('name', 'point in time')]\n",
      "[('pr', 'http://www.wikidata.org/prop/direct/P6262'), ('name', 'Fandom article ID')]\n",
      "[('pr', 'http://www.wikidata.org/prop/direct/P646'), ('name', 'Freebase ID')]\n",
      "[('pr', 'http://www.wikidata.org/prop/direct/P856'), ('name', 'official website')]\n",
      "[('pr', 'http://www.wikidata.org/prop/direct/P910'), ('name', \"topic's main category\")]\n",
      "[('pr', 'http://www.wikidata.org/prop/direct/P3300'), ('name', 'musical conductor')]\n",
      "[('pr', 'http://www.wikidata.org/prop/direct/P4566'), ('name', 'awarded for period')]\n",
      "[('pr', 'http://www.wikidata.org/prop/direct/P7118'), ('name', 'AMPAS collections film ID')]\n"
     ]
    },
    {
     "data": {
      "text/plain": [
       "36"
      ]
     },
     "execution_count": 82,
     "metadata": {},
     "output_type": "execute_result"
    }
   ],
   "source": [
    "#properties of edition of academy awards\n",
    "queryString = \"\"\"\n",
    "SELECT DISTINCT ?pr ?name\n",
    "WHERE { \n",
    "?a wdt:P179 wd:Q19020.\n",
    "?a ?pr ?x.\n",
    "?pr sc:name ?name .\n",
    "} \n",
    "LIMIT 100\n",
    "\"\"\"\n",
    "\n",
    "print(\"Results\")\n",
    "run_query(queryString)"
   ]
  },
  {
   "cell_type": "code",
   "execution_count": 126,
   "id": "dd014208-804e-4afc-ba89-d773a4e2e51a",
   "metadata": {},
   "outputs": [
    {
     "name": "stdout",
     "output_type": "stream",
     "text": [
      "Results\n",
      "[('pr', 'http://www.wikidata.org/prop/direct/P1411'), ('name', 'nominated for')]\n",
      "[('pr', 'http://www.wikidata.org/prop/direct/P155'), ('name', 'follows')]\n",
      "[('pr', 'http://www.wikidata.org/prop/direct/P156'), ('name', 'followed by')]\n",
      "[('pr', 'http://www.wikidata.org/prop/direct/P166'), ('name', 'award received')]\n",
      "[('pr', 'http://www.wikidata.org/prop/direct/P301'), ('name', \"category's main topic\")]\n",
      "[('pr', 'http://www.wikidata.org/prop/direct/P793'), ('name', 'significant event')]\n",
      "[('pr', 'http://www.wikidata.org/prop/direct/P921'), ('name', 'main subject')]\n",
      "[('pr', 'http://www.wikidata.org/prop/direct/P1855'), ('name', 'Wikidata property example')]\n"
     ]
    },
    {
     "data": {
      "text/plain": [
       "8"
      ]
     },
     "execution_count": 126,
     "metadata": {},
     "output_type": "execute_result"
    }
   ],
   "source": [
    "#properties of edition of academy awards\n",
    "queryString = \"\"\"\n",
    "SELECT DISTINCT ?pr ?name\n",
    "WHERE { \n",
    "?a wdt:P179 wd:Q19020.\n",
    "?x ?pr ?a.\n",
    "?pr sc:name ?name .\n",
    "} \n",
    "LIMIT 100\n",
    "\"\"\"\n",
    "\n",
    "print(\"Results\")\n",
    "run_query(queryString)"
   ]
  },
  {
   "cell_type": "code",
   "execution_count": 88,
   "id": "518d4b47-a7b3-47db-b494-76a34ec70f62",
   "metadata": {},
   "outputs": [
    {
     "name": "stdout",
     "output_type": "stream",
     "text": [
      "Results\n",
      "[('name', 'Valentyn Vasyanovych'), ('cont', '1')]\n"
     ]
    },
    {
     "data": {
      "text/plain": [
       "1"
      ]
     },
     "execution_count": 88,
     "metadata": {},
     "output_type": "execute_result"
    }
   ],
   "source": [
    "#properties of edition of academy awards\n",
    "queryString = \"\"\"\n",
    "SELECT DISTINCT ?name (count(*) AS ?cont)\n",
    "WHERE { \n",
    "?a wdt:P179 wd:Q19020.\n",
    "?x wdt:P1411 ?a.\n",
    "?x sc:name ?name .\n",
    "} \n",
    "GROUP BY ?name\n",
    "ORDER BY DESC (?cont)\n",
    "LIMIT 100\n",
    "\"\"\"\n",
    "\n",
    "print(\"Results\")\n",
    "run_query(queryString)"
   ]
  },
  {
   "cell_type": "code",
   "execution_count": 89,
   "id": "f46f29b5-4371-49e1-8c77-eabfb50bc4a8",
   "metadata": {},
   "outputs": [
    {
     "name": "stdout",
     "output_type": "stream",
     "text": [
      "Results\n",
      "[('name', 'Geoffrey Unsworth'), ('cont', '2')]\n",
      "[('name', 'Arthur Charles Miller'), ('cont', '2')]\n",
      "[('name', 'Haskell Wexler'), ('cont', '2')]\n",
      "[('name', 'Christopher McQuarrie'), ('cont', '1')]\n",
      "[('name', 'Luis Bacalov'), ('cont', '1')]\n",
      "[('name', 'Viktor Komar'), ('cont', '1')]\n",
      "[('name', 'W. Howard Greene'), ('cont', '1')]\n",
      "[('name', 'Sam Smith'), ('cont', '1')]\n",
      "[('name', 'Eugen Schüfftan'), ('cont', '1')]\n",
      "[('name', 'James L. Brooks'), ('cont', '1')]\n",
      "[('name', 'Susanne Bier'), ('cont', '1')]\n",
      "[('name', 'Cameron Crowe'), ('cont', '1')]\n",
      "[('name', 'Ghislain Cloquet'), ('cont', '1')]\n",
      "[('name', 'Yul Brynner'), ('cont', '1')]\n",
      "[('name', 'Karl Struss'), ('cont', '1')]\n",
      "[('name', 'Moshé Mizrahi'), ('cont', '1')]\n",
      "[('name', 'Robert E. Sherwood'), ('cont', '1')]\n",
      "[('name', 'Joseph A. Valentine'), ('cont', '1')]\n",
      "[('name', 'Jennifer Lawrence'), ('cont', '1')]\n",
      "[('name', 'Roger Deakins'), ('cont', '1')]\n",
      "[('name', 'Ted Moore'), ('cont', '1')]\n"
     ]
    },
    {
     "data": {
      "text/plain": [
       "21"
      ]
     },
     "execution_count": 89,
     "metadata": {},
     "output_type": "execute_result"
    }
   ],
   "source": [
    "#properties of edition of academy awards\n",
    "queryString = \"\"\"\n",
    "SELECT DISTINCT ?name (count(*) AS ?cont)\n",
    "WHERE { \n",
    "?a wdt:P179 wd:Q19020.\n",
    "?x wdt:P166 ?a.\n",
    "?x sc:name ?name .\n",
    "} \n",
    "GROUP BY ?name\n",
    "ORDER BY DESC (?cont)\n",
    "LIMIT 100\n",
    "\"\"\"\n",
    "\n",
    "print(\"Results\")\n",
    "run_query(queryString)"
   ]
  },
  {
   "cell_type": "markdown",
   "id": "8f1a45be-0c6e-4e45-a28e-4dde3ae2737d",
   "metadata": {},
   "source": [
    "Found Academy awards ceremony `wd:Q16913666`. Look how a director for example Woody Allen is related with these istances."
   ]
  },
  {
   "cell_type": "code",
   "execution_count": 84,
   "id": "57f21e81-1b45-4416-ba6a-657ff977b226",
   "metadata": {},
   "outputs": [
    {
     "name": "stdout",
     "output_type": "stream",
     "text": [
      "Results\n",
      "[('pr', 'http://www.wikidata.org/prop/direct/P371'), ('name', 'presenter')]\n"
     ]
    },
    {
     "data": {
      "text/plain": [
       "1"
      ]
     },
     "execution_count": 84,
     "metadata": {},
     "output_type": "execute_result"
    }
   ],
   "source": [
    "#properties of edition of academy awards\n",
    "queryString = \"\"\"\n",
    "SELECT DISTINCT ?pr ?name\n",
    "WHERE { \n",
    "?a wdt:P31 wd:Q16913666.\n",
    "?a ?pr ?dir.\n",
    "?dir wdt:P106 wd:Q3455803.\n",
    "?pr sc:name ?name .\n",
    "}\n",
    "LIMIT 100\n",
    "\"\"\"\n",
    "\n",
    "print(\"Results\")\n",
    "run_query(queryString)"
   ]
  },
  {
   "cell_type": "code",
   "execution_count": 85,
   "id": "42a46672-723c-47ed-8964-c67f2df4a54b",
   "metadata": {},
   "outputs": [
    {
     "name": "stdout",
     "output_type": "stream",
     "text": [
      "Results\n",
      "Empty\n"
     ]
    },
    {
     "data": {
      "text/plain": [
       "0"
      ]
     },
     "execution_count": 85,
     "metadata": {},
     "output_type": "execute_result"
    }
   ],
   "source": [
    "#properties of edition of academy awards\n",
    "queryString = \"\"\"\n",
    "SELECT DISTINCT ?pr ?name\n",
    "WHERE { \n",
    "?a wdt:P31 wd:Q16913666.\n",
    "?dir ?pr ?a.\n",
    "?dir wdt:P106 wd:Q3455803.\n",
    "?pr sc:name ?name .\n",
    "}\n",
    "LIMIT 100\n",
    "\"\"\"\n",
    "\n",
    "print(\"Results\")\n",
    "run_query(queryString)"
   ]
  },
  {
   "cell_type": "markdown",
   "id": "781ce5a2-5bd2-48a3-add8-58c8b109e09a",
   "metadata": {},
   "source": [
    "Zero connection. Try to verify if there are something in the middle"
   ]
  },
  {
   "cell_type": "code",
   "execution_count": 90,
   "id": "3860f6e9-11a2-4f19-b455-f522f41c4ade",
   "metadata": {},
   "outputs": [
    {
     "name": "stdout",
     "output_type": "stream",
     "text": [
      "Results\n",
      "Empty\n"
     ]
    },
    {
     "data": {
      "text/plain": [
       "0"
      ]
     },
     "execution_count": 90,
     "metadata": {},
     "output_type": "execute_result"
    }
   ],
   "source": [
    "queryString = \"\"\"\n",
    "SELECT DISTINCT ?a ?name\n",
    "WHERE { \n",
    "?a wdt:P31 wd:Q16913666.\n",
    "?dir wdt:P106 wd:Q3455803.\n",
    "?b ?z ?a.\n",
    "?dir ?pr ?b.\n",
    "?a sc:name ?name .\n",
    "}\n",
    "LIMIT 100\n",
    "\"\"\"\n",
    "\n",
    "print(\"Results\")\n",
    "run_query(queryString)"
   ]
  },
  {
   "cell_type": "code",
   "execution_count": 91,
   "id": "8674e7e7-3aa3-4eac-b57a-3859b0b6b868",
   "metadata": {},
   "outputs": [
    {
     "name": "stdout",
     "output_type": "stream",
     "text": [
      "Results\n",
      "[('b', 'http://www.wikidata.org/entity/Q1860'), ('name', 'English')]\n",
      "[('b', 'http://www.wikidata.org/entity/Q19020'), ('name', 'Academy Awards')]\n",
      "[('b', 'http://www.wikidata.org/entity/Q95030'), ('name', 'Warren Beatty')]\n",
      "[('b', 'http://www.wikidata.org/entity/Q30'), ('name', 'United States of America')]\n",
      "[('b', 'http://www.wikidata.org/entity/Q65'), ('name', 'Los Angeles')]\n",
      "[('b', 'http://www.wikidata.org/entity/Q99'), ('name', 'California')]\n",
      "[('b', 'http://www.wikidata.org/entity/Q47164'), ('name', 'Santa Monica')]\n",
      "[('b', 'http://www.wikidata.org/entity/Q294912'), ('name', 'Richard Pryor')]\n",
      "[('b', 'http://www.wikidata.org/entity/Q34006'), ('name', 'Hollywood')]\n",
      "[('b', 'http://www.wikidata.org/entity/Q108366'), ('name', 'Gregory Peck')]\n",
      "[('b', 'http://www.wikidata.org/entity/Q643106'), ('name', 'Alan King')]\n"
     ]
    },
    {
     "data": {
      "text/plain": [
       "11"
      ]
     },
     "execution_count": 91,
     "metadata": {},
     "output_type": "execute_result"
    }
   ],
   "source": [
    "queryString = \"\"\"\n",
    "SELECT DISTINCT ?b ?name\n",
    "WHERE { \n",
    "?a wdt:P31 wd:Q16913666.\n",
    "?dir wdt:P106 wd:Q3455803.\n",
    "?a ?z ?b.\n",
    "?dir ?pr ?b.\n",
    "?b sc:name ?name .\n",
    "}\n",
    "LIMIT 100\n",
    "\"\"\"\n",
    "\n",
    "print(\"Results\")\n",
    "run_query(queryString)"
   ]
  },
  {
   "cell_type": "code",
   "execution_count": 92,
   "id": "8880b2ad-3770-425e-9fde-18d1438d3a58",
   "metadata": {},
   "outputs": [
    {
     "name": "stdout",
     "output_type": "stream",
     "text": [
      "Results\n",
      "[('b', 'http://www.wikidata.org/entity/Q95030'), ('name', 'Warren Beatty')]\n",
      "[('b', 'http://www.wikidata.org/entity/Q83338'), ('name', 'Robin Williams')]\n",
      "[('b', 'http://www.wikidata.org/entity/Q910864'), ('name', '62nd Academy Awards')]\n",
      "[('b', 'http://www.wikidata.org/entity/Q108366'), ('name', 'Gregory Peck')]\n",
      "[('b', 'http://www.wikidata.org/entity/Q222461'), ('name', '65th Academy Awards')]\n",
      "[('b', 'http://www.wikidata.org/entity/Q857047'), ('name', '64th Academy Awards')]\n",
      "[('b', 'http://www.wikidata.org/entity/Q388978'), ('name', '48th Academy Awards')]\n",
      "[('b', 'http://www.wikidata.org/entity/Q6550'), ('name', 'Donald Duck')]\n",
      "[('b', 'http://www.wikidata.org/entity/Q178975'), ('name', '31st Academy Awards')]\n",
      "[('b', 'http://www.wikidata.org/entity/Q536749'), ('name', '70th Academy Awards')]\n",
      "[('b', 'http://www.wikidata.org/entity/Q903336'), ('name', '69th Academy Awards')]\n",
      "[('b', 'http://www.wikidata.org/entity/Q910856'), ('name', '63rd Academy Awards')]\n",
      "[('b', 'http://www.wikidata.org/entity/Q180675'), ('name', '84th Academy Awards')]\n",
      "[('b', 'http://www.wikidata.org/entity/Q458646'), ('name', '76th Academy Awards')]\n",
      "[('b', 'http://www.wikidata.org/entity/Q429319'), ('name', '72nd Academy Awards')]\n",
      "[('b', 'http://www.wikidata.org/entity/Q917235'), ('name', '59th Academy Awards')]\n"
     ]
    },
    {
     "data": {
      "text/plain": [
       "16"
      ]
     },
     "execution_count": 92,
     "metadata": {},
     "output_type": "execute_result"
    }
   ],
   "source": [
    "queryString = \"\"\"\n",
    "SELECT DISTINCT ?b ?name\n",
    "WHERE { \n",
    "?a wdt:P31 wd:Q16913666.\n",
    "?dir wdt:P106 wd:Q3455803.\n",
    "?a ?z ?b.\n",
    "?b ?pr ?dir .\n",
    "?b sc:name ?name .\n",
    "}\n",
    "LIMIT 100\n",
    "\"\"\"\n",
    "\n",
    "print(\"Results\")\n",
    "run_query(queryString)"
   ]
  },
  {
   "cell_type": "code",
   "execution_count": 93,
   "id": "020bbc52-56f7-46ae-b478-f701119764a1",
   "metadata": {},
   "outputs": [
    {
     "name": "stdout",
     "output_type": "stream",
     "text": [
      "Results\n",
      "[('b', 'http://www.wikidata.org/entity/Q910864'), ('name', '62nd Academy Awards')]\n",
      "[('b', 'http://www.wikidata.org/entity/Q388978'), ('name', '48th Academy Awards')]\n",
      "[('b', 'http://www.wikidata.org/entity/Q222461'), ('name', '65th Academy Awards')]\n",
      "[('b', 'http://www.wikidata.org/entity/Q857047'), ('name', '64th Academy Awards')]\n",
      "[('b', 'http://www.wikidata.org/entity/Q178975'), ('name', '31st Academy Awards')]\n",
      "[('b', 'http://www.wikidata.org/entity/Q536749'), ('name', '70th Academy Awards')]\n",
      "[('b', 'http://www.wikidata.org/entity/Q903336'), ('name', '69th Academy Awards')]\n",
      "[('b', 'http://www.wikidata.org/entity/Q910856'), ('name', '63rd Academy Awards')]\n",
      "[('b', 'http://www.wikidata.org/entity/Q180675'), ('name', '84th Academy Awards')]\n",
      "[('b', 'http://www.wikidata.org/entity/Q458646'), ('name', '76th Academy Awards')]\n",
      "[('b', 'http://www.wikidata.org/entity/Q429319'), ('name', '72nd Academy Awards')]\n",
      "[('b', 'http://www.wikidata.org/entity/Q917235'), ('name', '59th Academy Awards')]\n"
     ]
    },
    {
     "data": {
      "text/plain": [
       "12"
      ]
     },
     "execution_count": 93,
     "metadata": {},
     "output_type": "execute_result"
    }
   ],
   "source": [
    "queryString = \"\"\"\n",
    "SELECT DISTINCT ?b ?name\n",
    "WHERE { \n",
    "?a wdt:P31 wd:Q16913666.\n",
    "?dir wdt:P106 wd:Q3455803.\n",
    "?b ?z ?a.\n",
    "?b ?pr ?dir .\n",
    "?b sc:name ?name .\n",
    "}\n",
    "LIMIT 100\n",
    "\"\"\"\n",
    "\n",
    "print(\"Results\")\n",
    "run_query(queryString)"
   ]
  },
  {
   "cell_type": "code",
   "execution_count": 94,
   "id": "1b2c6f22-20fd-4d0a-a522-7dc8f6c50d7f",
   "metadata": {},
   "outputs": [
    {
     "name": "stdout",
     "output_type": "stream",
     "text": [
      "Results\n",
      "[('z1', 'follows'), ('pr1', 'presenter')]\n",
      "[('z1', 'followed by'), ('pr1', 'presenter')]\n"
     ]
    },
    {
     "data": {
      "text/plain": [
       "2"
      ]
     },
     "execution_count": 94,
     "metadata": {},
     "output_type": "execute_result"
    }
   ],
   "source": [
    "queryString = \"\"\"\n",
    "SELECT DISTINCT ?z1 ?pr1\n",
    "WHERE { \n",
    "?a wdt:P31 wd:Q16913666.\n",
    "?dir wdt:P106 wd:Q3455803.\n",
    "?b ?z ?a.\n",
    "?b ?pr ?dir .\n",
    "?z sc:name ?z1 .\n",
    "?pr sc:name ?pr1 .\n",
    "}\n",
    "LIMIT 100\n",
    "\"\"\"\n",
    "\n",
    "print(\"Results\")\n",
    "run_query(queryString)"
   ]
  },
  {
   "cell_type": "markdown",
   "id": "f1806d0c-4469-4cbc-84e8-64643d97146f",
   "metadata": {},
   "source": [
    "Nothing interest but I found that some directors were also a presenter to the Academy Award ceremony. Try to use wdt:P3342 (significant person) given in the head of the workflow"
   ]
  },
  {
   "cell_type": "code",
   "execution_count": 103,
   "id": "188020da-bf30-486d-a7c1-a3cedebf4567",
   "metadata": {},
   "outputs": [
    {
     "name": "stdout",
     "output_type": "stream",
     "text": [
      "Results\n",
      "[('a', 'http://www.wikidata.org/entity/Q104822989'), ('name', 'Luigi Benzi')]\n",
      "[('a', 'http://www.wikidata.org/entity/Q964609'), ('name', 'Sonja Wigert')]\n",
      "[('a', 'http://www.wikidata.org/entity/Q1778583'), ('name', 'Aase Nordmo Løvberg')]\n",
      "[('a', 'http://www.wikidata.org/entity/Q4988547'), ('name', 'Ida Gawell-Blumenthal')]\n",
      "[('a', 'http://www.wikidata.org/entity/Q89137'), ('name', 'Ute Bock')]\n",
      "[('a', 'http://www.wikidata.org/entity/Q106893140'), ('name', 'Mina')]\n",
      "[('a', 'http://www.wikidata.org/entity/Q777997'), ('name', 'Arseny Tarkovsky')]\n",
      "[('a', 'http://www.wikidata.org/entity/Q99270809'), ('name', 'Mykola Stanislavskyi')]\n",
      "[('a', 'http://www.wikidata.org/entity/Q95349717'), ('name', 'Harry Sachs')]\n",
      "[('a', 'http://www.wikidata.org/entity/Q95349718'), ('name', 'Franz Hoefner')]\n"
     ]
    },
    {
     "data": {
      "text/plain": [
       "10"
      ]
     },
     "execution_count": 103,
     "metadata": {},
     "output_type": "execute_result"
    }
   ],
   "source": [
    "queryString = \"\"\"\n",
    "SELECT DISTINCT ?a ?name\n",
    "WHERE { \n",
    "?dir wdt:P106 wd:Q3455803.\n",
    "?dir wdt:P3342 ?a.\n",
    "OPTIONAL{?a sc:name ?name .}\n",
    "}\n",
    "LIMIT 100\n",
    "\"\"\"\n",
    "\n",
    "print(\"Results\")\n",
    "run_query(queryString)"
   ]
  },
  {
   "cell_type": "code",
   "execution_count": 105,
   "id": "9e766c39-3dac-44b6-a7e6-9e5b34a5804f",
   "metadata": {},
   "outputs": [
    {
     "name": "stdout",
     "output_type": "stream",
     "text": [
      "Results\n",
      "[('a', 'http://www.wikidata.org/entity/Q958683'), ('name', 'Nick Kamen')]\n",
      "[('a', 'http://www.wikidata.org/entity/Q243068'), ('name', 'Anne Charlotte Leffler')]\n",
      "[('a', 'http://www.wikidata.org/entity/Q1611548'), ('name', 'Hermann Huber')]\n",
      "[('a', 'http://www.wikidata.org/entity/Q43247'), ('name', 'Ingrid Bergman')]\n",
      "[('a', 'http://www.wikidata.org/entity/Q104822989'), ('name', 'Luigi Benzi')]\n",
      "[('a', 'http://www.wikidata.org/entity/Q964609'), ('name', 'Sonja Wigert')]\n",
      "[('a', 'http://www.wikidata.org/entity/Q6905657'), ('name', 'Montgomery Blair High School')]\n",
      "[('a', 'http://www.wikidata.org/entity/Q915034'), ('name', 'Mimi Pollak')]\n",
      "[('a', 'http://www.wikidata.org/entity/Q8028532'), ('name', 'Witt/Thomas Productions')]\n",
      "[('a', 'http://www.wikidata.org/entity/Q5151496'), ('name', 'comedy of menace')]\n",
      "[('a', 'http://www.wikidata.org/entity/Q98665900'), ('name', 'Ferdinand Reyher')]\n",
      "[('a', 'http://www.wikidata.org/entity/Q1778583'), ('name', 'Aase Nordmo Løvberg')]\n",
      "[('a', 'http://www.wikidata.org/entity/Q106690708'), ('name', 'Heinrich Bales')]\n",
      "[('a', 'http://www.wikidata.org/entity/Q106729205'), ('name', 'Christel Gang')]\n",
      "[('a', 'http://www.wikidata.org/entity/Q4988547'), ('name', 'Ida Gawell-Blumenthal')]\n",
      "[('a', 'http://www.wikidata.org/entity/Q4967830'), ('name', 'Karin Molander')]\n",
      "[('a', 'http://www.wikidata.org/entity/Q61059653'), ('name', 'CrankGameplays')]\n",
      "[('a', 'http://www.wikidata.org/entity/Q106893140'), ('name', 'Mina')]\n",
      "[('a', 'http://www.wikidata.org/entity/Q104842562'), ('name', 'Gianluca Buccellati')]\n",
      "[('a', 'http://www.wikidata.org/entity/Q95349717'), ('name', 'Harry Sachs')]\n",
      "[('a', 'http://www.wikidata.org/entity/Q95349718'), ('name', 'Franz Hoefner')]\n"
     ]
    },
    {
     "data": {
      "text/plain": [
       "21"
      ]
     },
     "execution_count": 105,
     "metadata": {},
     "output_type": "execute_result"
    }
   ],
   "source": [
    "queryString = \"\"\"\n",
    "SELECT DISTINCT ?a ?name\n",
    "WHERE { \n",
    "?dir wdt:P106 wd:Q3455803.\n",
    "?a wdt:P3342 ?dir.\n",
    "OPTIONAL{?a sc:name ?name .}\n",
    "}\n",
    "LIMIT 100\n",
    "\"\"\"\n",
    "\n",
    "print(\"Results\")\n",
    "run_query(queryString)"
   ]
  },
  {
   "cell_type": "markdown",
   "id": "483f46b3-873c-4c68-8932-2231c044163a",
   "metadata": {},
   "source": [
    "Last try: start from director and look again if they are connected with something related to awards"
   ]
  },
  {
   "cell_type": "code",
   "execution_count": 9,
   "id": "7691f31f-9b20-4e7c-a3b2-e408ccc25308",
   "metadata": {},
   "outputs": [
    {
     "name": "stdout",
     "output_type": "stream",
     "text": [
      "Results\n",
      "[('pr', 'http://www.wikidata.org/prop/direct/P166'), ('prop', 'award received')]\n",
      "[('pr', 'http://www.wikidata.org/prop/direct/P1411'), ('prop', 'nominated for')]\n",
      "[('pr', 'http://www.wikidata.org/prop/direct/P735'), ('prop', 'given name')]\n",
      "[('pr', 'http://www.wikidata.org/prop/direct/P737'), ('prop', 'influenced by')]\n",
      "[('pr', 'http://www.wikidata.org/prop/direct/P2354'), ('prop', 'has list')]\n",
      "[('pr', 'http://www.wikidata.org/prop/direct/P26'), ('prop', 'spouse')]\n",
      "[('pr', 'http://www.wikidata.org/prop/direct/P69'), ('prop', 'educated at')]\n",
      "[('pr', 'http://www.wikidata.org/prop/direct/P7084'), ('prop', 'related category')]\n",
      "[('pr', 'http://www.wikidata.org/prop/direct/P910'), ('prop', \"topic's main category\")]\n",
      "[('pr', 'http://www.wikidata.org/prop/direct/P3373'), ('prop', 'sibling')]\n",
      "[('pr', 'http://www.wikidata.org/prop/direct/P734'), ('prop', 'family name')]\n",
      "[('pr', 'http://www.wikidata.org/prop/direct/P1889'), ('prop', 'different from')]\n",
      "[('pr', 'http://www.wikidata.org/prop/direct/P1283'), ('prop', 'filmography')]\n",
      "[('pr', 'http://www.wikidata.org/prop/direct/P22'), ('prop', 'father')]\n",
      "[('pr', 'http://www.wikidata.org/prop/direct/P40'), ('prop', 'child')]\n",
      "[('pr', 'http://www.wikidata.org/prop/direct/P1344'), ('prop', 'participant in')]\n"
     ]
    },
    {
     "data": {
      "text/plain": [
       "16"
      ]
     },
     "execution_count": 9,
     "metadata": {},
     "output_type": "execute_result"
    }
   ],
   "source": [
    "queryString = \"\"\"\n",
    "SELECT DISTINCT ?pr ?prop\n",
    "WHERE { \n",
    "?dir wdt:P106 wd:Q3455803;\n",
    "    ?pr ?x.\n",
    "OPTIONAL{?x sc:name ?name .}\n",
    "OPTIONAL{?pr sc:name ?prop .}\n",
    "FILTER(REGEX(?name,\".*ward.*\"))\n",
    "}\n",
    "LIMIT 100\n",
    "\"\"\"\n",
    "\n",
    "print(\"Results\")\n",
    "run_query(queryString)"
   ]
  },
  {
   "cell_type": "code",
   "execution_count": 10,
   "id": "354b689f-7dc4-487e-872c-b4a7f8bc201e",
   "metadata": {},
   "outputs": [
    {
     "name": "stdout",
     "output_type": "stream",
     "text": [
      "Results\n",
      "[('ist', 'http://www.wikidata.org/entity/Q82414'), ('ista', 'Winter Olympic Games')]\n",
      "[('ist', 'http://www.wikidata.org/entity/Q667276'), ('ista', 'art exhibition')]\n",
      "[('ist', 'http://www.wikidata.org/entity/Q72823'), ('ista', 'documenta')]\n",
      "[('ist', 'http://www.wikidata.org/entity/Q15416'), ('ista', 'television program')]\n",
      "[('ist', 'http://www.wikidata.org/entity/Q1955280'), ('ista', 'music competition')]\n",
      "[('ist', 'http://www.wikidata.org/entity/Q868557'), ('ista', 'music festival')]\n",
      "[('ist', 'http://www.wikidata.org/entity/Q15275719'), ('ista', 'recurring event')]\n",
      "[('ist', 'http://www.wikidata.org/entity/Q1850936'), ('ista', 'benefit concert')]\n",
      "[('ist', 'http://www.wikidata.org/entity/Q182832'), ('ista', 'concert')]\n",
      "[('ist', 'http://www.wikidata.org/entity/Q5398426'), ('ista', 'television series')]\n",
      "[('ist', 'http://www.wikidata.org/entity/Q103495'), ('ista', 'world war')]\n",
      "[('ist', 'http://www.wikidata.org/entity/Q11514315'), ('ista', 'historical period')]\n",
      "[('ist', 'http://www.wikidata.org/entity/Q6765524'), ('ista', 'Mariposa Folk Festival')]\n",
      "[('ist', 'http://www.wikidata.org/entity/Q27968055'), ('ista', 'recurrent event edition')]\n",
      "[('ist', 'http://www.wikidata.org/entity/Q276'), ('ista', 'Eurovision Song Contest')]\n",
      "[('ist', 'http://www.wikidata.org/entity/Q27968043'), ('ista', 'festival edition')]\n",
      "[('ist', 'http://www.wikidata.org/entity/Q1368848'), ('ista', 'literary magazine')]\n",
      "[('ist', 'http://www.wikidata.org/entity/Q1190554'), ('ista', 'occurrence')]\n",
      "[('ist', 'http://www.wikidata.org/entity/Q1499496'), ('ista', 'German presidential election')]\n",
      "[('ist', 'http://www.wikidata.org/entity/Q11483816'), ('ista', 'annual event')]\n",
      "[('ist', 'http://www.wikidata.org/entity/Q11407181'), ('ista', 'graduation ceremony')]\n",
      "[('ist', 'http://www.wikidata.org/entity/Q159821'), ('ista', 'Summer Olympic Games')]\n",
      "[('ist', 'http://www.wikidata.org/entity/Q25379'), ('ista', 'play')]\n",
      "[('ist', 'http://www.wikidata.org/entity/Q11424'), ('ista', 'film')]\n",
      "[('ist', 'http://www.wikidata.org/entity/Q1931388'), ('ista', 'cause of death')]\n",
      "[('ist', 'http://www.wikidata.org/entity/Q3505845'), ('ista', 'state')]\n",
      "[('ist', 'http://www.wikidata.org/entity/Q188686'), ('ista', 'military occupation')]\n",
      "[('ist', 'http://www.wikidata.org/entity/Q194465'), ('ista', 'annexation')]\n",
      "[('ist', 'http://www.wikidata.org/entity/Q7225113'), ('ista', 'political statement')]\n",
      "[('ist', 'http://www.wikidata.org/entity/Q98676693'), ('ista', 'recording expedition')]\n",
      "[('ist', 'http://www.wikidata.org/entity/Q27020041'), ('ista', 'sports season')]\n",
      "[('ist', 'http://www.wikidata.org/entity/Q106594041'), ('ista', 'annual music competition')]\n",
      "[('ist', 'http://www.wikidata.org/entity/Q18536594'), ('ista', 'Olympic sporting event')]\n",
      "[('ist', 'http://www.wikidata.org/entity/Q2049337'), ('ista', 'panel game')]\n",
      "[('ist', 'http://www.wikidata.org/entity/Q4504495'), ('ista', 'award ceremony')]\n",
      "[('ist', 'http://www.wikidata.org/entity/Q3270632'), ('ista', 'national championship')]\n",
      "[('ist', 'http://www.wikidata.org/entity/Q4801521'), ('ista', 'arts festival')]\n",
      "[('ist', 'http://www.wikidata.org/entity/Q1329623'), ('ista', 'cultural center')]\n",
      "[('ist', 'http://www.wikidata.org/entity/Q83405'), ('ista', 'factory')]\n",
      "[('ist', 'http://www.wikidata.org/entity/Q20603222'), ('ista', 'classical music competition')]\n"
     ]
    },
    {
     "data": {
      "text/plain": [
       "40"
      ]
     },
     "execution_count": 10,
     "metadata": {},
     "output_type": "execute_result"
    }
   ],
   "source": [
    "# use the property participant and look which are the objects\n",
    "queryString = \"\"\"\n",
    "SELECT DISTINCT ?ist ?ista\n",
    "WHERE { \n",
    "?dir wdt:P106 wd:Q3455803;\n",
    "    wdt:P1344 ?x.\n",
    "?x wdt:P31 ?ist.\n",
    "?ist sc:name ?ista.\n",
    "}\n",
    "LIMIT 100\n",
    "\"\"\"\n",
    "\n",
    "print(\"Results\")\n",
    "run_query(queryString)"
   ]
  },
  {
   "cell_type": "code",
   "execution_count": 14,
   "id": "399051d4-b77b-4d79-8682-5005c87fa8bb",
   "metadata": {},
   "outputs": [
    {
     "name": "stdout",
     "output_type": "stream",
     "text": [
      "Results\n",
      "[('x', 'http://www.wikidata.org/entity/Q13561521'), ('ista', 'Ingeborg Bachmann Award 1991')]\n",
      "[('x', 'http://www.wikidata.org/entity/Q1662846'), ('ista', 'Ingeborg Bachmann Award 1980')]\n"
     ]
    },
    {
     "data": {
      "text/plain": [
       "2"
      ]
     },
     "execution_count": 14,
     "metadata": {},
     "output_type": "execute_result"
    }
   ],
   "source": [
    "#Q4504495 award ceremony\n",
    "queryString = \"\"\"\n",
    "SELECT DISTINCT ?x ?ista\n",
    "WHERE { \n",
    "?dir wdt:P106 wd:Q3455803;\n",
    "    wdt:P1344 ?x.\n",
    "?x wdt:P31 wd:Q4504495.\n",
    "?x sc:name ?ista.\n",
    "}\n",
    "LIMIT 100\n",
    "\"\"\"\n",
    "\n",
    "print(\"Results\")\n",
    "run_query(queryString)"
   ]
  },
  {
   "cell_type": "code",
   "execution_count": 13,
   "id": "f413c49c-cd36-443c-99ea-b90aa207d38b",
   "metadata": {},
   "outputs": [
    {
     "name": "stdout",
     "output_type": "stream",
     "text": [
      "Results\n",
      "[('x', 'http://www.wikidata.org/entity/Q48998364'), ('name', 'list of awards and nominations received by Dakota Johnson')]\n",
      "[('x', 'http://www.wikidata.org/entity/Q77034675')]\n"
     ]
    },
    {
     "data": {
      "text/plain": [
       "2"
      ]
     },
     "execution_count": 13,
     "metadata": {},
     "output_type": "execute_result"
    }
   ],
   "source": [
    "# try to yse the property has list\n",
    "queryString = \"\"\"\n",
    "SELECT DISTINCT ?x ?name\n",
    "WHERE { \n",
    "?dir wdt:P106 wd:Q3455803;\n",
    "    wdt:P2354 ?x.\n",
    "OPTIONAL{?x sc:name ?name.}\n",
    "}\n",
    "LIMIT 100\n",
    "\"\"\"\n",
    "\n",
    "print(\"Results\")\n",
    "run_query(queryString)"
   ]
  },
  {
   "cell_type": "code",
   "execution_count": 15,
   "id": "984ce763-93f2-4642-bfaf-77665d42b58a",
   "metadata": {},
   "outputs": [
    {
     "name": "stdout",
     "output_type": "stream",
     "text": [
      "Results\n",
      "[('ist', 'http://www.wikidata.org/entity/Q682154'), ('name', 'Drama Desk Award')]\n",
      "[('ist', 'http://www.wikidata.org/entity/Q724384'), ('name', 'Magnesia Litera')]\n",
      "[('ist', 'http://www.wikidata.org/entity/Q96474688'), ('name', 'award for best film by genre')]\n",
      "[('ist', 'http://www.wikidata.org/entity/Q96474679'), ('name', 'award for best direction')]\n",
      "[('ist', 'http://www.wikidata.org/entity/Q96474603'), ('name', 'award for best supporting actor')]\n",
      "[('ist', 'http://www.wikidata.org/entity/Q56116950'), ('name', 'film award category')]\n",
      "[('ist', 'http://www.wikidata.org/entity/Q21866939'), ('name', 'National Society of Film Critics Award')]\n",
      "[('ist', 'http://www.wikidata.org/entity/Q1011547'), ('name', 'Golden Globe Award')]\n",
      "[('ist', 'http://www.wikidata.org/entity/Q19020'), ('name', 'Academy Awards')]\n",
      "[('ist', 'http://www.wikidata.org/entity/Q96474687'), ('name', 'award for best film')]\n",
      "[('ist', 'http://www.wikidata.org/entity/Q15229229'), ('name', 'theatre award')]\n",
      "[('ist', 'http://www.wikidata.org/entity/Q38033430'), ('name', 'class of award')]\n",
      "[('ist', 'http://www.wikidata.org/entity/Q223740'), ('name', 'European Film Awards')]\n",
      "[('ist', 'http://www.wikidata.org/entity/Q40237'), ('name', 'Golden Raspberry Awards')]\n",
      "[('ist', 'http://www.wikidata.org/entity/Q96474701'), ('name', 'award for best adapted screenplay')]\n",
      "[('ist', 'http://www.wikidata.org/entity/Q96474700'), ('name', 'award for best screenplay')]\n",
      "[('ist', 'http://www.wikidata.org/entity/Q96474698'), ('name', 'award for best production design')]\n",
      "[('ist', 'http://www.wikidata.org/entity/Q74681122'), ('name', 'audience award')]\n",
      "[('ist', 'http://www.wikidata.org/entity/Q96474686'), ('name', 'award for best first work')]\n",
      "[('ist', 'http://www.wikidata.org/entity/Q96474676'), ('name', 'award for best leading actress')]\n",
      "[('ist', 'http://www.wikidata.org/entity/Q96474690'), ('name', 'award for best film by place of origin')]\n",
      "[('ist', 'http://www.wikidata.org/entity/Q618779'), ('name', 'award')]\n",
      "[('ist', 'http://www.wikidata.org/entity/Q174389'), ('name', 'César Award')]\n",
      "[('ist', 'http://www.wikidata.org/entity/Q191874'), ('name', 'Tony Awards')]\n",
      "[('ist', 'http://www.wikidata.org/entity/Q3320743'), ('name', 'title of honor')]\n",
      "[('ist', 'http://www.wikidata.org/entity/Q3181383'), ('name', 'San Diego Film Critics Society Award')]\n",
      "[('ist', 'http://www.wikidata.org/entity/Q497324'), ('name', 'Polish Film Awards')]\n",
      "[('ist', 'http://www.wikidata.org/entity/Q732997'), ('name', 'British Academy Film Awards')]\n",
      "[('ist', 'http://www.wikidata.org/entity/Q101007233'), ('name', 'film critics association')]\n",
      "[('ist', 'http://www.wikidata.org/entity/Q110145'), ('name', 'MTV Movie & TV Awards')]\n",
      "[('ist', 'http://www.wikidata.org/entity/Q311836'), ('name', 'Independent Spirit Awards')]\n",
      "[('ist', 'http://www.wikidata.org/entity/Q919525'), ('name', 'British Independent Film Awards')]\n",
      "[('ist', 'http://www.wikidata.org/entity/Q96474691'), ('name', 'award for best leading actor')]\n",
      "[('ist', 'http://www.wikidata.org/entity/Q96474589'), ('name', 'award for best supporting actress')]\n",
      "[('ist', 'http://www.wikidata.org/entity/Q96474696'), ('name', 'award for best short film')]\n",
      "[('ist', 'http://www.wikidata.org/entity/Q105727509'), ('name', 'lifetime achievement award')]\n",
      "[('ist', 'http://www.wikidata.org/entity/Q96474685'), ('name', 'award for best original music')]\n",
      "[('ist', 'http://www.wikidata.org/entity/Q96474710'), ('name', 'award for rising star')]\n",
      "[('ist', 'http://www.wikidata.org/entity/Q268200'), ('name', 'Screen Actors Guild Award')]\n",
      "[('ist', 'http://www.wikidata.org/entity/Q378427'), ('name', 'literary award')]\n",
      "[('ist', 'http://www.wikidata.org/entity/Q41254'), ('name', 'Grammy Award')]\n",
      "[('ist', 'http://www.wikidata.org/entity/Q28470'), ('name', 'Laurence Olivier Award')]\n",
      "[('ist', 'http://www.wikidata.org/entity/Q4220917'), ('name', 'film award')]\n",
      "[('ist', 'http://www.wikidata.org/entity/Q96474684'), ('name', 'award for best photography')]\n",
      "[('ist', 'http://www.wikidata.org/entity/Q71076284'), ('name', 'award for best editing')]\n",
      "[('ist', 'http://www.wikidata.org/entity/Q31579'), ('name', 'David di Donatello')]\n",
      "[('ist', 'http://www.wikidata.org/entity/Q96474697'), ('name', 'award for best short film by genre')]\n",
      "[('ist', 'http://www.wikidata.org/entity/Q1044427'), ('name', 'Primetime Emmy Award')]\n",
      "[('ist', 'http://www.wikidata.org/entity/Q107655869'), ('name', 'group of awards')]\n",
      "[('ist', 'http://www.wikidata.org/entity/Q708731'), ('name', 'German Film Award')]\n",
      "[('ist', 'http://www.wikidata.org/entity/Q1636955'), ('name', \"Nastro d'Argento\")]\n",
      "[('ist', 'http://www.wikidata.org/entity/Q188914'), ('name', 'Hugo Award')]\n",
      "[('ist', 'http://www.wikidata.org/entity/Q1046088'), ('name', 'hall of fame')]\n",
      "[('ist', 'http://www.wikidata.org/entity/Q96474703'), ('name', 'award for best original screenplay')]\n",
      "[('ist', 'http://www.wikidata.org/entity/Q1407225'), ('name', 'television award')]\n",
      "[('ist', 'http://www.wikidata.org/entity/Q1369077'), ('name', 'British Academy Television Awards')]\n",
      "[('ist', 'http://www.wikidata.org/entity/Q131647'), ('name', 'medal')]\n",
      "[('ist', 'http://www.wikidata.org/entity/Q15275719'), ('name', 'recurring event')]\n",
      "[('ist', 'http://www.wikidata.org/entity/Q391629'), ('name', 'Teen Choice Awards')]\n",
      "[('ist', 'http://www.wikidata.org/entity/Q40024'), ('name', 'Satellite Award')]\n",
      "[('ist', 'http://www.wikidata.org/entity/Q507057'), ('name', 'Juno Award')]\n",
      "[('ist', 'http://www.wikidata.org/entity/Q28822711'), ('name', 'Hungarian Film Award')]\n",
      "[('ist', 'http://www.wikidata.org/entity/Q207599'), ('name', 'MTV Europe Music Award')]\n",
      "[('ist', 'http://www.wikidata.org/entity/Q96474678'), ('name', 'award for best original song')]\n",
      "[('ist', 'http://www.wikidata.org/entity/Q1364556'), ('name', 'music award')]\n",
      "[('ist', 'http://www.wikidata.org/entity/Q223703'), ('name', 'MTV Video Music Award')]\n",
      "[('ist', 'http://www.wikidata.org/entity/Q60754876'), ('name', 'grade of an order')]\n",
      "[('ist', 'http://www.wikidata.org/entity/Q18772252'), ('name', 'pornographic film award')]\n",
      "[('ist', 'http://www.wikidata.org/entity/Q107548255'), ('name', 'award for best theatrical show')]\n",
      "[('ist', 'http://www.wikidata.org/entity/Q2024454'), ('name', 'Online Film Critics Society')]\n",
      "[('ist', 'http://www.wikidata.org/entity/Q1502249'), ('name', 'Genie Awards')]\n",
      "[('ist', 'http://www.wikidata.org/entity/Q96474709'), ('name', 'award for best visual effects')]\n",
      "[('ist', 'http://www.wikidata.org/entity/Q18640780'), ('name', 'Florida Film Critics Circle Awards')]\n",
      "[('ist', 'http://www.wikidata.org/entity/Q7585305'), ('name', \"Critics' Choice Movie Award\")]\n",
      "[('ist', 'http://www.wikidata.org/entity/Q3046190'), ('name', 'ESPY Award')]\n",
      "[('ist', 'http://www.wikidata.org/entity/Q81565646'), ('name', 'National Board of Review Award')]\n",
      "[('ist', 'http://www.wikidata.org/entity/Q3517351'), ('name', 'TCA Awards')]\n",
      "[('ist', 'http://www.wikidata.org/entity/Q2108417'), ('name', 'Leipzig Book Fair Prize')]\n",
      "[('ist', 'http://www.wikidata.org/entity/Q431668'), ('name', 'Nika Award')]\n",
      "[('ist', 'http://www.wikidata.org/entity/Q1258149'), ('name', 'Jussi Awards')]\n",
      "[('ist', 'http://www.wikidata.org/entity/Q105447'), ('name', 'Saturn Award')]\n",
      "[('ist', 'http://www.wikidata.org/entity/Q96474692'), ('name', 'award for best new actor')]\n",
      "[('ist', 'http://www.wikidata.org/entity/Q96474711'), ('name', 'award for best choreography')]\n",
      "[('ist', 'http://www.wikidata.org/entity/Q1604012'), ('name', 'Ophir Award')]\n",
      "[('ist', 'http://www.wikidata.org/entity/Q1111310'), ('name', 'Directors Guild of America Award')]\n",
      "[('ist', 'http://www.wikidata.org/entity/Q23719064'), ('name', 'yearly prize')]\n",
      "[('ist', 'http://www.wikidata.org/entity/Q286069'), ('name', 'AACTA Awards')]\n",
      "[('ist', 'http://www.wikidata.org/entity/Q11722858'), ('name', \"Czech Film Critics' Awards\")]\n",
      "[('ist', 'http://www.wikidata.org/entity/Q3117505'), ('name', 'Gaudí Awards')]\n"
     ]
    },
    {
     "data": {
      "text/plain": [
       "89"
      ]
     },
     "execution_count": 15,
     "metadata": {},
     "output_type": "execute_result"
    }
   ],
   "source": [
    "# try to yse the property has list\n",
    "queryString = \"\"\"\n",
    "SELECT DISTINCT ?ist ?name\n",
    "WHERE { \n",
    "?dir wdt:P106 wd:Q3455803;\n",
    "    wdt:P1411 ?x.\n",
    "?x wdt:P31 ?ist.\n",
    "OPTIONAL{?ist sc:name ?name.}\n",
    "}\n",
    "LIMIT 100\n",
    "\"\"\"\n",
    "\n",
    "print(\"Results\")\n",
    "run_query(queryString)"
   ]
  },
  {
   "cell_type": "markdown",
   "id": "c673d775-534a-4866-9bd1-aa1314302ed9",
   "metadata": {},
   "source": [
    "Conclusion: I tried to explore a lot of things but I don't find the information about the single Academy Award. \n",
    "\n",
    "I perform the last query of this notebook showing the academy awards won by the directors also counting the awards receive by the film that they directed."
   ]
  },
  {
   "cell_type": "code",
   "execution_count": 19,
   "id": "e94a7a4d-82fd-4181-b8f2-358779f70d5c",
   "metadata": {},
   "outputs": [
    {
     "name": "stdout",
     "output_type": "stream",
     "text": [
      "Results\n",
      "[('director', 'Peter Jackson'), ('film', 'The Lord of the Rings: The Return of the King'), ('cont', '11')]\n",
      "[('director', 'William Wyler'), ('film', 'Ben-Hur'), ('cont', '11')]\n",
      "[('director', 'James Cameron'), ('film', 'Titanic'), ('cont', '11')]\n",
      "[('director', 'Robert Wise'), ('film', 'West Side Story'), ('cont', '10')]\n",
      "[('director', 'Jerome Robbins'), ('film', 'West Side Story'), ('cont', '10')]\n",
      "[('director', 'Bernardo Bertolucci'), ('film', 'The Last Emperor'), ('cont', '9')]\n",
      "[('director', 'Anthony Minghella'), ('film', 'The English Patient'), ('cont', '9')]\n",
      "[('director', 'Vincente Minnelli'), ('film', 'Gigi'), ('cont', '8')]\n",
      "[('director', 'Elia Kazan'), ('film', 'On the Waterfront'), ('cont', '8')]\n",
      "[('director', 'Bob Fosse'), ('film', 'Cabaret'), ('cont', '8')]\n"
     ]
    },
    {
     "data": {
      "text/plain": [
       "10"
      ]
     },
     "execution_count": 19,
     "metadata": {},
     "output_type": "execute_result"
    }
   ],
   "source": [
    "#find how films are connected with academy awards\n",
    "queryString = \"\"\"\n",
    "SELECT DISTINCT ?director ?film (COUNT( ?a) AS ?cont)\n",
    "WHERE { \n",
    "?f wdt:P31 wd:Q11424.\n",
    "?a wdt:P31 wd:Q19020.\n",
    "?f wdt:P166 ?a.\n",
    "?f wdt:P57 ?dir.\n",
    "\n",
    "?f sc:name ?film .\n",
    "?dir sc:name ?director .\n",
    "} \n",
    "GROUP BY ?f ?film ?dir ?director\n",
    "ORDER BY DESC (?cont)\n",
    "LIMIT 10\n",
    "\"\"\"\n",
    "\n",
    "print(\"Results\")\n",
    "run_query(queryString)"
   ]
  },
  {
   "cell_type": "code",
   "execution_count": 20,
   "id": "11929538-48b7-4a0c-9bce-d930eba0481e",
   "metadata": {},
   "outputs": [
    {
     "name": "stdout",
     "output_type": "stream",
     "text": [
      "Results\n",
      "[('director', 'William Wyler'), ('cont', '41')]\n",
      "[('director', 'Steven Spielberg'), ('cont', '32')]\n",
      "[('director', 'George Cukor'), ('cont', '30')]\n",
      "[('director', 'David Lean'), ('cont', '30')]\n",
      "[('director', 'Fred Zinnemann'), ('cont', '23')]\n",
      "[('director', 'John Ford'), ('cont', '21')]\n",
      "[('director', 'Elia Kazan'), ('cont', '21')]\n",
      "[('director', 'Vincente Minnelli'), ('cont', '21')]\n",
      "[('director', 'Martin Scorsese'), ('cont', '20')]\n",
      "[('director', 'Peter Jackson'), ('cont', '20')]\n"
     ]
    },
    {
     "data": {
      "text/plain": [
       "10"
      ]
     },
     "execution_count": 20,
     "metadata": {},
     "output_type": "execute_result"
    }
   ],
   "source": [
    "#show the sum of the academy awards winning by the film grouping by they director\n",
    "queryString = \"\"\"\n",
    "SELECT DISTINCT ?director (COUNT( ?a) AS ?cont)\n",
    "WHERE { \n",
    "?f wdt:P31 wd:Q11424.\n",
    "?a wdt:P31 wd:Q19020.\n",
    "?f wdt:P166 ?a.\n",
    "?f wdt:P57 ?dir.\n",
    "\n",
    "?f sc:name ?film .\n",
    "?dir sc:name ?director .\n",
    "} \n",
    "GROUP BY ?dir ?director\n",
    "ORDER BY DESC (?cont)\n",
    "LIMIT 10\n",
    "\"\"\"\n",
    "\n",
    "print(\"Results\")\n",
    "run_query(queryString)"
   ]
  },
  {
   "cell_type": "code",
   "execution_count": 22,
   "id": "b66e272e-3cfd-4f1e-9c01-6a48390b42ea",
   "metadata": {},
   "outputs": [
    {
     "name": "stdout",
     "output_type": "stream",
     "text": [
      "Results\n",
      "[('director', 'William Wyler'), ('cont', '127')]\n",
      "[('director', 'Steven Spielberg'), ('cont', '122')]\n",
      "[('director', 'George Cukor'), ('cont', '92')]\n",
      "[('director', 'Martin Scorsese'), ('cont', '80')]\n",
      "[('director', 'John Ford'), ('cont', '78')]\n",
      "[('director', 'Michael Curtiz'), ('cont', '75')]\n",
      "[('director', 'Billy Wilder'), ('cont', '73')]\n",
      "[('director', 'George Stevens'), ('cont', '63')]\n",
      "[('director', 'Fred Zinnemann'), ('cont', '63')]\n",
      "[('director', 'Henry King'), ('cont', '63')]\n"
     ]
    },
    {
     "data": {
      "text/plain": [
       "10"
      ]
     },
     "execution_count": 22,
     "metadata": {},
     "output_type": "execute_result"
    }
   ],
   "source": [
    "#show the sum of the academy awards nomination by the film grouping by they director\n",
    "queryString = \"\"\"\n",
    "SELECT DISTINCT ?director (COUNT( ?a) AS ?cont)\n",
    "WHERE { \n",
    "?f wdt:P31 wd:Q11424.\n",
    "?a wdt:P31 wd:Q19020.\n",
    "?f wdt:P1411 ?a.\n",
    "?f wdt:P57 ?dir.\n",
    "\n",
    "?f sc:name ?film .\n",
    "?dir sc:name ?director .\n",
    "} \n",
    "GROUP BY ?dir ?director\n",
    "ORDER BY DESC (?cont)\n",
    "LIMIT 10\n",
    "\"\"\"\n",
    "\n",
    "print(\"Results\")\n",
    "run_query(queryString)"
   ]
  },
  {
   "cell_type": "code",
   "execution_count": 24,
   "id": "3c9b9bb9-b270-40a0-a402-60607f521f99",
   "metadata": {},
   "outputs": [
    {
     "name": "stdout",
     "output_type": "stream",
     "text": [
      "Results\n",
      "[('director', 'William Wyler'), ('nominations', '127'), ('wins', '41')]\n",
      "[('director', 'Steven Spielberg'), ('nominations', '122'), ('wins', '32')]\n",
      "[('director', 'George Cukor'), ('nominations', '92'), ('wins', '30')]\n",
      "[('director', 'Martin Scorsese'), ('nominations', '80'), ('wins', '20')]\n",
      "[('director', 'John Ford'), ('nominations', '78'), ('wins', '21')]\n",
      "[('director', 'Michael Curtiz'), ('nominations', '75'), ('wins', '15')]\n",
      "[('director', 'Billy Wilder'), ('nominations', '73'), ('wins', '17')]\n",
      "[('director', 'David Lean'), ('nominations', '63'), ('wins', '30')]\n",
      "[('director', 'Fred Zinnemann'), ('nominations', '63'), ('wins', '23')]\n",
      "[('director', 'Henry King'), ('nominations', '63'), ('wins', '16')]\n",
      "[('director', 'George Stevens'), ('nominations', '63'), ('wins', '13')]\n",
      "[('director', 'Robert Wise'), ('nominations', '62'), ('wins', '18')]\n",
      "[('director', 'Sam Wood'), ('nominations', '61'), ('wins', '13')]\n",
      "[('director', 'Mervyn LeRoy'), ('nominations', '60'), ('wins', '10')]\n",
      "[('director', 'Elia Kazan'), ('nominations', '55'), ('wins', '21')]\n",
      "[('director', 'John Huston'), ('nominations', '53'), ('wins', '9')]\n",
      "[('director', 'Woody Allen'), ('nominations', '52'), ('wins', '12')]\n",
      "[('director', 'Alfred Hitchcock'), ('nominations', '51'), ('wins', '5')]\n",
      "[('director', 'Stanley Kramer'), ('nominations', '50'), ('wins', '9')]\n",
      "[('director', 'Henry Koster'), ('nominations', '49'), ('wins', '5')]\n"
     ]
    },
    {
     "data": {
      "text/plain": [
       "20"
      ]
     },
     "execution_count": 24,
     "metadata": {},
     "output_type": "execute_result"
    }
   ],
   "source": [
    "#academy award nominations by directors\n",
    "queryString = \"\"\"\n",
    "SELECT DISTINCT ?director ?nominations ?wins\n",
    "WHERE { \n",
    "{\n",
    "    SELECT DISTINCT ?x1 (COUNT(*) AS ?nominations)\n",
    "    WHERE { \n",
    "    ?f1 wdt:P31 wd:Q11424.\n",
    "    ?a1 wdt:P31 wd:Q19020.\n",
    "    ?f1 wdt:P1411 ?a1.\n",
    "    ?f1 wdt:P57 ?x1.\n",
    "    } \n",
    "    GROUP BY ?x1 \n",
    "}\n",
    "{\n",
    "    SELECT DISTINCT ?x2 (COUNT(*) AS ?wins)\n",
    "    WHERE { \n",
    "    ?f2 wdt:P31 wd:Q11424.\n",
    "    ?a2 wdt:P31 wd:Q19020.\n",
    "    ?f2 wdt:P166 ?a2.\n",
    "    ?f2 wdt:P57 ?x2.\n",
    "\n",
    "    } \n",
    "    GROUP BY ?x2\n",
    "}\n",
    "FILTER(?x1=?x2)\n",
    "?x1 sc:name ?director\n",
    "} \n",
    "ORDER BY DESC ( ?nominations) DESC (?wins)\n",
    "LIMIT 20\n",
    "\"\"\"\n",
    "\n",
    "print(\"Results\")\n",
    "run_query(queryString)"
   ]
  },
  {
   "cell_type": "code",
   "execution_count": null,
   "id": "95f645b9-f4de-4883-a605-c0e19fee0f1d",
   "metadata": {},
   "outputs": [],
   "source": []
  }
 ],
 "metadata": {
  "kernelspec": {
   "display_name": "Python 3",
   "language": "python",
   "name": "python3"
  },
  "language_info": {
   "codemirror_mode": {
    "name": "ipython",
    "version": 3
   },
   "file_extension": ".py",
   "mimetype": "text/x-python",
   "name": "python",
   "nbconvert_exporter": "python",
   "pygments_lexer": "ipython3",
   "version": "3.7.10"
  }
 },
 "nbformat": 4,
 "nbformat_minor": 5
}
