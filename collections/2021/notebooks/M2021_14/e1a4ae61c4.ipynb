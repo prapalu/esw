{
 "cells": [
  {
   "cell_type": "markdown",
   "id": "7034c3bf-6eb0-4418-8687-7b9d2a501103",
   "metadata": {},
   "source": [
    "# General instructions\n",
    "\n",
    "The goal of the project is to materialize a set of **exploratory workloads** over a real-world, large-scale,  open-domain KG: [WikiData](https://www.wikidata.org/wiki/Wikidata:Main_Page)\n",
    "\n",
    "An exploratory workload  is composed by a set of queries, where each query is related to the information obtained previously.\n",
    "\n",
    "An exploratory workload starts with a usually vague, open ended question, and does not assume the person issuing the workload has a clear understanding of the data contained in the target database or its structure.\n",
    "\n",
    "Remeber that:\n",
    "\n",
    "1. All the queries must run in the python notebook\n",
    "2. You can use classes and properties only if you find them via a SPARQL query that must be present in the notebook\n",
    "3. You do not delete useless queries. Keep everything that is synthatically valid \n",
    "\n",
    "```\n",
    "?p sc:name ?name .\n",
    "```\n",
    "    \n",
    "    is the BGP returning a human-readable name of a property or a class in Wikidata.\n",
    "    \n",
    "    "
   ]
  },
  {
   "cell_type": "code",
   "execution_count": 1,
   "id": "3605c9d5-5371-49a5-be8d-d66e8f417139",
   "metadata": {},
   "outputs": [],
   "source": [
    "## SETUP used later\n",
    "\n",
    "from SPARQLWrapper import SPARQLWrapper, JSON\n",
    "\n",
    "\n",
    "prefixString = \"\"\"\n",
    "##-e1a4ae61c4-##\n",
    "PREFIX wd: <http://www.wikidata.org/entity/> \n",
    "PREFIX wdt: <http://www.wikidata.org/prop/direct/> \n",
    "PREFIX sc: <http://schema.org/>\n",
    "\"\"\"\n",
    "\n",
    "# select and construct queries\n",
    "def run_query(queryString):\n",
    "    to_run = prefixString + \"\\n\" + queryString\n",
    "\n",
    "    sparql = SPARQLWrapper(\"http://a256-gc1-02.srv.aau.dk:5820/sparql\")\n",
    "    sparql.setTimeout(300)\n",
    "    sparql.setReturnFormat(JSON)\n",
    "    sparql.setQuery(to_run)\n",
    "\n",
    "    try :\n",
    "       results = sparql.query()\n",
    "       json_results = results.convert()\n",
    "       if len(json_results['results']['bindings'])==0:\n",
    "          print(\"Empty\")\n",
    "          return 0\n",
    "    \n",
    "       for bindings in json_results['results']['bindings']:\n",
    "          print( [ (var, value['value'])  for var, value in bindings.items() ] )\n",
    "\n",
    "       return len(json_results['results']['bindings'])\n",
    "\n",
    "    except Exception as e :\n",
    "        print(\"The operation failed\", e)\n",
    "    \n",
    "# ASk queries\n",
    "def run_ask_query(queryString):\n",
    "    to_run = prefixString + \"\\n\" + queryString\n",
    "\n",
    "    sparql = SPARQLWrapper(\"http://a256-gc1-02.srv.aau.dk:5820/sparql\")\n",
    "    sparql.setTimeout(300)\n",
    "    sparql.setReturnFormat(JSON)\n",
    "    sparql.setQuery(to_run)\n",
    "\n",
    "    try :\n",
    "        return sparql.query().convert()\n",
    "\n",
    "    except Exception as e :\n",
    "        print(\"The operation failed\", e)"
   ]
  },
  {
   "cell_type": "markdown",
   "id": "d477a59c-a68c-4c8f-9f97-8ca5294d7d27",
   "metadata": {},
   "source": [
    "# Book Workflow Series (\"Nobel laureates explorative search\") \n",
    "\n",
    "\n",
    "Consider the following exploratory scenario:\n",
    "\n",
    ">  Investigate the authors who won the Nobel award for literature and get information about the nationality of the winners and analyse their literary production\n",
    "\n",
    "\n",
    "\n",
    "## Useful URIs for the current workflow\n",
    "The following are given:\n",
    "\n",
    "| IRI           | Description   | Role      |\n",
    "| -----------   | -----------   |-----------|\n",
    "| `wdt:P1647`   | subproperty   | predicate |\n",
    "| `wdt:P31`     | instance of   | predicate |\n",
    "| `wdt:P106`    | profession    | predicate | \n",
    "| `wdt:P279`    | subclass      | predicate |\n",
    "| `wdt:P17`     | country       | predicate |\n",
    "| `wdt:P27`     | citizenship   | predicate |\n",
    "| `wd:Q37922`   | Nobel Prize in Literature     | node |\n",
    "| `wd:Q36180`   | writer        | node |\n",
    "| `wd:Q38`      | Italy         | node |\n",
    "| `wd:Q3624078` | Sovereign state  | node |\n",
    "| `wd:Q213678`  | Vatican Library  | node |\n",
    "\n",
    "\n",
    "Also consider\n",
    "\n",
    "```\n",
    "?p wdt:P27 wd:Q38  . \n",
    "?p wdt:P106/wdt:P279* wd:Q36180  . \n",
    "```\n",
    "\n",
    "is the BGP to retrieve all **italian authors**\n",
    "\n",
    "The workload should\n",
    "\n",
    "\n",
    "1. Identify the BGP for obtaining the nobel laureates and the nominees with their relevant attributes\n",
    "\n",
    "2. Get the number of Italian, French and Iranian winners and check which nation won more awards in the last twenty years.\n",
    "\n",
    "3. Determine how many Literature nobel laureates have the following contries: Italy, Germany, France, Romania, Denmark, Iran, and China\n",
    "\n",
    "4. How many Literature Nobel award winners have a PhD (aka Doctorate of Philosophy) (you may check if they have a doctoral advisor)?\n",
    "\n",
    "5. Are there books from Litarature Nobel Award winners which are not present in the Vatican Library? (if so, who is the author with more books not in the Vatical Library)?"
   ]
  },
  {
   "cell_type": "code",
   "execution_count": 2,
   "id": "24a853ab-830c-422c-afd3-e9e015b8b8ed",
   "metadata": {},
   "outputs": [],
   "source": [
    "# start your workflow here"
   ]
  },
  {
   "cell_type": "code",
   "execution_count": 3,
   "id": "ade01416-92e7-4ad7-b9a9-b8fb330750dc",
   "metadata": {},
   "outputs": [
    {
     "name": "stdout",
     "output_type": "stream",
     "text": [
      "Results\n",
      "[('callret-0', '46967')]\n"
     ]
    },
    {
     "data": {
      "text/plain": [
       "1"
      ]
     },
     "execution_count": 3,
     "metadata": {},
     "output_type": "execute_result"
    }
   ],
   "source": [
    "queryString = \"\"\"\n",
    "SELECT COUNT( ?p)\n",
    "WHERE { \n",
    "?p wdt:P27 wd:Q38  . \n",
    "?p wdt:P106/wdt:P279* wd:Q36180  . \n",
    "\n",
    "} \n",
    "\"\"\"\n",
    "\n",
    "print(\"Results\")\n",
    "run_query(queryString)"
   ]
  },
  {
   "cell_type": "markdown",
   "id": "eb862db8-7b80-4b4b-9410-52fdfaa9cd6d",
   "metadata": {
    "tags": []
   },
   "source": [
    "## Task 1\n",
    "Identify the BGP for obtaining the nobel laureates and the nominees with their relevant attributes"
   ]
  },
  {
   "cell_type": "markdown",
   "id": "72e4565c-480c-4134-8045-53580b80bd9f",
   "metadata": {},
   "source": [
    "To answer that question I will start from `wd:Q37922` that is the node Nobel Prize in literature and look for its superclass, hoping that I will find he node 'Nobel Prize'"
   ]
  },
  {
   "cell_type": "code",
   "execution_count": 4,
   "id": "ec24c378-4453-4793-b073-6ec8e0b9b53a",
   "metadata": {},
   "outputs": [
    {
     "name": "stdout",
     "output_type": "stream",
     "text": [
      "Results\n",
      "[('super', 'http://www.wikidata.org/entity/Q7302601'), ('name', 'recognition')]\n",
      "[('super', 'http://www.wikidata.org/entity/Q7191'), ('name', 'Nobel Prize')]\n",
      "[('super', 'http://www.wikidata.org/entity/Q937228'), ('name', 'property')]\n",
      "[('super', 'http://www.wikidata.org/entity/Q618779'), ('name', 'award')]\n",
      "[('super', 'http://www.wikidata.org/entity/Q35120'), ('name', 'entity')]\n",
      "[('super', 'http://www.wikidata.org/entity/Q189970'), ('name', 'social status')]\n",
      "[('super', 'http://www.wikidata.org/entity/Q11424100'), ('name', 'status')]\n",
      "[('super', 'http://www.wikidata.org/entity/Q11028'), ('name', 'information')]\n",
      "[('super', 'http://www.wikidata.org/entity/Q1190554'), ('name', 'occurrence')]\n",
      "[('super', 'http://www.wikidata.org/entity/Q37922'), ('name', 'Nobel Prize in Literature')]\n",
      "[('super', 'http://www.wikidata.org/entity/Q1207505'), ('name', 'quality')]\n",
      "[('super', 'http://www.wikidata.org/entity/Q7184903'), ('name', 'abstract object')]\n",
      "[('super', 'http://www.wikidata.org/entity/Q4897819'), ('name', 'role')]\n",
      "[('super', 'http://www.wikidata.org/entity/Q488383'), ('name', 'object')]\n",
      "[('super', 'http://www.wikidata.org/entity/Q628523'), ('name', 'message')]\n",
      "[('super', 'http://www.wikidata.org/entity/Q5257307'), ('name', 'prize')]\n",
      "[('super', 'http://www.wikidata.org/entity/Q107329943'), ('name', 'acknowledgement')]\n",
      "[('super', 'http://www.wikidata.org/entity/Q83493482'), ('name', 'thanking')]\n",
      "[('super', 'http://www.wikidata.org/entity/Q58415929'), ('name', 'spatio-temporal entity')]\n",
      "[('super', 'http://www.wikidata.org/entity/Q26907166'), ('name', 'temporal entity')]\n",
      "[('super', 'http://www.wikidata.org/entity/Q83492918'), ('name', 'acknowledgement')]\n"
     ]
    },
    {
     "data": {
      "text/plain": [
       "21"
      ]
     },
     "execution_count": 4,
     "metadata": {},
     "output_type": "execute_result"
    }
   ],
   "source": [
    "queryString = \"\"\"\n",
    "SELECT DISTINCT ?super ?name\n",
    "WHERE {  \n",
    "wd:Q37922 wdt:P279* ?super  . \n",
    "?super sc:name ?name .\n",
    "} \n",
    "\"\"\"\n",
    "\n",
    "print(\"Results\")\n",
    "run_query(queryString)"
   ]
  },
  {
   "cell_type": "markdown",
   "id": "c88e9953-5ffc-474e-aedc-fd3ac10c7cf0",
   "metadata": {},
   "source": [
    "The interest node is `wd:Q7191` that is the Nobel Prize. Going on with the notebook I will use the triple `?p wdt:P31/wdt:P279* ?wd:Q7191` to identify all the nobel prize. Now look for some example of subclass of Nobel Prize (`wd:Q7191`)"
   ]
  },
  {
   "cell_type": "code",
   "execution_count": 5,
   "id": "e1ad1c78-4fd1-49b0-a65d-554c07391a28",
   "metadata": {},
   "outputs": [
    {
     "name": "stdout",
     "output_type": "stream",
     "text": [
      "Results\n",
      "[('p', 'http://www.wikidata.org/entity/Q5959408'), ('name', '2003 Nobel Peace Prize')]\n",
      "[('p', 'http://www.wikidata.org/entity/Q10844039'), ('name', '1989 Nobel Peace Prize')]\n",
      "[('p', 'http://www.wikidata.org/entity/Q21078165'), ('name', '2015 Nobel Peace Prize')]\n",
      "[('p', 'http://www.wikidata.org/entity/Q27132539'), ('name', '2016 Nobel Peace Prize')]\n",
      "[('p', 'http://www.wikidata.org/entity/Q42417649'), ('name', '2017 Nobel Peace Prize')]\n",
      "[('p', 'http://www.wikidata.org/entity/Q59653078'), ('name', '2018 Nobel Peace Prize')]\n",
      "[('p', 'http://www.wikidata.org/entity/Q48912926'), ('name', 'Nobel Prize in Physics 2015')]\n",
      "[('p', 'http://www.wikidata.org/entity/Q48913298'), ('name', 'Nobel Prize in Chemistry 2017')]\n",
      "[('p', 'http://www.wikidata.org/entity/Q21187755'), ('name', '2004 Nobel Peace Prize')]\n",
      "[('p', 'http://www.wikidata.org/entity/Q4604682'), ('name', '2005 Nobel Peace Prize')]\n",
      "[('p', 'http://www.wikidata.org/entity/Q48913291'), ('name', 'Nobel Prize in Chemistry 2016')]\n",
      "[('p', 'http://www.wikidata.org/entity/Q48913751'), ('name', 'Nobel Prize in Physiology or Medicine 2013')]\n",
      "[('p', 'http://www.wikidata.org/entity/Q70418234'), ('name', '2019 Nobel Peace Prize')]\n",
      "[('p', 'http://www.wikidata.org/entity/Q96370427'), ('name', '2020 Nobel Peace Prize')]\n",
      "[('p', 'http://www.wikidata.org/entity/Q50940776'), ('name', 'Nobel Prize in Chemistry 2012')]\n",
      "[('p', 'http://www.wikidata.org/entity/Q4618031'), ('name', '2010 Nobel Peace Prize')]\n",
      "[('p', 'http://www.wikidata.org/entity/Q48913284'), ('name', 'Nobel Prize in Chemistry 2015')]\n",
      "[('p', 'http://www.wikidata.org/entity/Q105426864'), ('name', '1906 Nobel Prize in Physiology or Medicine')]\n",
      "[('p', 'http://www.wikidata.org/entity/Q3231462'), ('name', '2009 Nobel Peace Prize')]\n",
      "[('p', 'http://www.wikidata.org/entity/Q4622018'), ('name', '2011 Nobel Peace Prize')]\n",
      "[('p', 'http://www.wikidata.org/entity/Q50589856'), ('name', 'Nobel Prize in Physics 2012')]\n",
      "[('p', 'http://www.wikidata.org/entity/Q48913757'), ('name', 'Nobel Prize in Physiology or Medicine 2012')]\n",
      "[('p', 'http://www.wikidata.org/entity/Q18204717'), ('name', '2006 Nobel Peace Prize')]\n",
      "[('p', 'http://www.wikidata.org/entity/Q48913727'), ('name', 'Nobel Prize in Physiology or Medicine 2016')]\n",
      "[('p', 'http://www.wikidata.org/entity/Q48913738'), ('name', 'Nobel Prize in Physiology or Medicine 2015')]\n",
      "[('p', 'http://www.wikidata.org/entity/Q18204229'), ('name', '2014 Nobel Peace Prize')]\n",
      "[('p', 'http://www.wikidata.org/entity/Q18204701'), ('name', '2001 Nobel Peace Prize')]\n",
      "[('p', 'http://www.wikidata.org/entity/Q18204705'), ('name', '2002 Nobel Peace Prize')]\n",
      "[('p', 'http://www.wikidata.org/entity/Q4609021'), ('name', '2007 Nobel Peace Prize')]\n",
      "[('p', 'http://www.wikidata.org/entity/Q4611662'), ('name', '2008 Nobel Peace Prize')]\n",
      "[('p', 'http://www.wikidata.org/entity/Q4626364'), ('name', '2012 Nobel Peace Prize')]\n",
      "[('p', 'http://www.wikidata.org/entity/Q7045636'), ('name', '2013 Nobel Peace Prize')]\n",
      "[('p', 'http://www.wikidata.org/entity/Q48912969'), ('name', 'Nobel Prize in Physics 2013')]\n",
      "[('p', 'http://www.wikidata.org/entity/Q48913274'), ('name', 'Nobel Prize in Chemistry 2014')]\n",
      "[('p', 'http://www.wikidata.org/entity/Q48913666'), ('name', 'Nobel Prize in Physiology or Medicine 2017')]\n",
      "[('p', 'http://www.wikidata.org/entity/Q48911839'), ('name', 'Nobel Prize in Physics 2016')]\n",
      "[('p', 'http://www.wikidata.org/entity/Q48912962'), ('name', 'Nobel Prize in Physics 2014')]\n",
      "[('p', 'http://www.wikidata.org/entity/Q48913240'), ('name', 'Nobel Prize in Chemistry 2013')]\n",
      "[('p', 'http://www.wikidata.org/entity/Q48913745'), ('name', 'Nobel Prize in Physiology or Medicine 2014')]\n"
     ]
    },
    {
     "data": {
      "text/plain": [
       "39"
      ]
     },
     "execution_count": 5,
     "metadata": {},
     "output_type": "execute_result"
    }
   ],
   "source": [
    "queryString = \"\"\"\n",
    "SELECT DISTINCT ?p ?name\n",
    "WHERE {  \n",
    "?p wdt:P31/wdt:P279* wd:Q7191  . \n",
    "?p sc:name ?name .\n",
    "} \n",
    "\"\"\"\n",
    "\n",
    "print(\"Results\")\n",
    "run_query(queryString)"
   ]
  },
  {
   "cell_type": "markdown",
   "id": "7344538c-9dda-4cd3-9321-6f6af9b54e2c",
   "metadata": {},
   "source": [
    "Only 39 Nobel Prize at all seems not too much. Looking for some properties of Nobel Prize"
   ]
  },
  {
   "cell_type": "code",
   "execution_count": 6,
   "id": "ffae7c73-b342-4ad8-b536-4a3ee10e35e7",
   "metadata": {},
   "outputs": [
    {
     "name": "stdout",
     "output_type": "stream",
     "text": [
      "Results\n",
      "[('pr', 'http://www.wikidata.org/prop/direct/P1051'), ('name', 'PSH ID')]\n",
      "[('pr', 'http://www.wikidata.org/prop/direct/P112'), ('name', 'founded by')]\n",
      "[('pr', 'http://www.wikidata.org/prop/direct/P1151'), ('name', \"topic's main Wikimedia portal\")]\n",
      "[('pr', 'http://www.wikidata.org/prop/direct/P1225'), ('name', 'U.S. National Archives Identifier')]\n",
      "[('pr', 'http://www.wikidata.org/prop/direct/P1245'), ('name', 'OmegaWiki Defined Meaning')]\n",
      "[('pr', 'http://www.wikidata.org/prop/direct/P1296'), ('name', 'Gran Enciclopèdia Catalana ID')]\n",
      "[('pr', 'http://www.wikidata.org/prop/direct/P1343'), ('name', 'described by source')]\n",
      "[('pr', 'http://www.wikidata.org/prop/direct/P138'), ('name', 'named after')]\n",
      "[('pr', 'http://www.wikidata.org/prop/direct/P1417'), ('name', 'Encyclopædia Britannica Online ID')]\n",
      "[('pr', 'http://www.wikidata.org/prop/direct/P1424'), ('name', \"topic's main template\")]\n",
      "[('pr', 'http://www.wikidata.org/prop/direct/P1438'), ('name', 'Jewish Encyclopedia ID (Russian)')]\n",
      "[('pr', 'http://www.wikidata.org/prop/direct/P1617'), ('name', 'BBC Things ID')]\n",
      "[('pr', 'http://www.wikidata.org/prop/direct/P17'), ('name', 'country')]\n",
      "[('pr', 'http://www.wikidata.org/prop/direct/P1709'), ('name', 'equivalent class')]\n",
      "[('pr', 'http://www.wikidata.org/prop/direct/P18'), ('name', 'image')]\n",
      "[('pr', 'http://www.wikidata.org/prop/direct/P1889'), ('name', 'different from')]\n",
      "[('pr', 'http://www.wikidata.org/prop/direct/P2002'), ('name', 'Twitter username')]\n",
      "[('pr', 'http://www.wikidata.org/prop/direct/P2013'), ('name', 'Facebook ID')]\n",
      "[('pr', 'http://www.wikidata.org/prop/direct/P227'), ('name', 'GND ID')]\n",
      "[('pr', 'http://www.wikidata.org/prop/direct/P2347'), ('name', 'YSO ID')]\n",
      "[('pr', 'http://www.wikidata.org/prop/direct/P2397'), ('name', 'YouTube channel ID')]\n",
      "[('pr', 'http://www.wikidata.org/prop/direct/P244'), ('name', 'Library of Congress authority ID')]\n",
      "[('pr', 'http://www.wikidata.org/prop/direct/P2738'), ('name', 'disjoint union of')]\n",
      "[('pr', 'http://www.wikidata.org/prop/direct/P279'), ('name', 'subclass of')]\n",
      "[('pr', 'http://www.wikidata.org/prop/direct/P2910'), ('name', 'icon')]\n",
      "[('pr', 'http://www.wikidata.org/prop/direct/P2924'), ('name', 'Great Russian Encyclopedia Online ID')]\n",
      "[('pr', 'http://www.wikidata.org/prop/direct/P2959'), ('name', 'permanent duplicated item')]\n",
      "[('pr', 'http://www.wikidata.org/prop/direct/P31'), ('name', 'instance of')]\n",
      "[('pr', 'http://www.wikidata.org/prop/direct/P3106'), ('name', 'Guardian topic ID')]\n",
      "[('pr', 'http://www.wikidata.org/prop/direct/P3221'), ('name', 'New York Times topic ID')]\n",
      "[('pr', 'http://www.wikidata.org/prop/direct/P3222'), ('name', 'NE.se ID')]\n",
      "[('pr', 'http://www.wikidata.org/prop/direct/P3417'), ('name', 'Quora topic ID')]\n",
      "[('pr', 'http://www.wikidata.org/prop/direct/P349'), ('name', 'National Diet Library ID')]\n",
      "[('pr', 'http://www.wikidata.org/prop/direct/P3509'), ('name', 'Dagens Nyheter topic ID')]\n",
      "[('pr', 'http://www.wikidata.org/prop/direct/P3553'), ('name', 'Zhihu topic ID')]\n",
      "[('pr', 'http://www.wikidata.org/prop/direct/P3630'), ('name', 'Babelio author ID')]\n",
      "[('pr', 'http://www.wikidata.org/prop/direct/P373'), ('name', 'Commons category')]\n",
      "[('pr', 'http://www.wikidata.org/prop/direct/P3911'), ('name', 'STW Thesaurus for Economics ID')]\n",
      "[('pr', 'http://www.wikidata.org/prop/direct/P4431'), ('name', 'Google Doodle')]\n",
      "[('pr', 'http://www.wikidata.org/prop/direct/P444'), ('name', 'review score')]\n",
      "[('pr', 'http://www.wikidata.org/prop/direct/P4527'), ('name', 'UK Parliament thesaurus ID')]\n",
      "[('pr', 'http://www.wikidata.org/prop/direct/P4854'), ('name', 'Uppslagsverket Finland ID')]\n",
      "[('pr', 'http://www.wikidata.org/prop/direct/P486'), ('name', 'MeSH descriptor ID')]\n",
      "[('pr', 'http://www.wikidata.org/prop/direct/P5008'), ('name', 'on focus list of Wikimedia project')]\n",
      "[('pr', 'http://www.wikidata.org/prop/direct/P508'), ('name', 'BNCF Thesaurus ID')]\n",
      "[('pr', 'http://www.wikidata.org/prop/direct/P527'), ('name', 'has part')]\n",
      "[('pr', 'http://www.wikidata.org/prop/direct/P5357'), ('name', 'The Encyclopedia of Science Fiction ID')]\n",
      "[('pr', 'http://www.wikidata.org/prop/direct/P5395'), ('name', 'Canadian Encyclopedia article ID')]\n",
      "[('pr', 'http://www.wikidata.org/prop/direct/P571'), ('name', 'inception')]\n",
      "[('pr', 'http://www.wikidata.org/prop/direct/P5905'), ('name', 'Comic Vine ID')]\n",
      "[('pr', 'http://www.wikidata.org/prop/direct/P6081'), ('name', 'RIA Novosti reference')]\n",
      "[('pr', 'http://www.wikidata.org/prop/direct/P6200'), ('name', 'BBC News topic ID')]\n",
      "[('pr', 'http://www.wikidata.org/prop/direct/P6293'), ('name', 'YSA ID')]\n",
      "[('pr', 'http://www.wikidata.org/prop/direct/P646'), ('name', 'Freebase ID')]\n",
      "[('pr', 'http://www.wikidata.org/prop/direct/P6573'), ('name', 'Klexikon article ID')]\n",
      "[('pr', 'http://www.wikidata.org/prop/direct/P6817'), ('name', 'SVT Play ID')]\n",
      "[('pr', 'http://www.wikidata.org/prop/direct/P6849'), ('name', 'DR topic ID')]\n",
      "[('pr', 'http://www.wikidata.org/prop/direct/P7502'), ('name', 'Golden ID')]\n",
      "[('pr', 'http://www.wikidata.org/prop/direct/P7818'), ('name', 'French Vikidia ID')]\n",
      "[('pr', 'http://www.wikidata.org/prop/direct/P8309'), ('name', 'Yle topic ID')]\n",
      "[('pr', 'http://www.wikidata.org/prop/direct/P837'), ('name', 'day in year for periodic occurrence')]\n",
      "[('pr', 'http://www.wikidata.org/prop/direct/P8408'), ('name', 'KBpedia ID')]\n",
      "[('pr', 'http://www.wikidata.org/prop/direct/P856'), ('name', 'official website')]\n",
      "[('pr', 'http://www.wikidata.org/prop/direct/P8687'), ('name', 'social media followers')]\n",
      "[('pr', 'http://www.wikidata.org/prop/direct/P898'), ('name', 'IPA transcription')]\n",
      "[('pr', 'http://www.wikidata.org/prop/direct/P910'), ('name', \"topic's main category\")]\n",
      "[('pr', 'http://www.wikidata.org/prop/direct/P9100'), ('name', 'GitHub topic')]\n",
      "[('pr', 'http://www.wikidata.org/prop/direct/P9226'), ('name', 'ARAE ID')]\n",
      "[('pr', 'http://www.wikidata.org/prop/direct/P9545'), ('name', 'Encyclopedia of China Online Database ID')]\n",
      "[('pr', 'http://www.wikidata.org/prop/direct/P989'), ('name', 'spoken text audio')]\n",
      "[('pr', 'http://www.wikidata.org/prop/direct/P1027'), ('name', 'conferred by')]\n",
      "[('pr', 'http://www.wikidata.org/prop/direct/P2517'), ('name', 'category for recipients of this award')]\n"
     ]
    },
    {
     "data": {
      "text/plain": [
       "72"
      ]
     },
     "execution_count": 6,
     "metadata": {},
     "output_type": "execute_result"
    }
   ],
   "source": [
    "queryString = \"\"\"\n",
    "SELECT DISTINCT ?pr ?name\n",
    "WHERE {  \n",
    "wd:Q7191 ?pr ?o . \n",
    "?pr sc:name ?name .\n",
    "} \n",
    "LIMIT 100\n",
    "\"\"\"\n",
    "\n",
    "print(\"Results\")\n",
    "run_query(queryString)"
   ]
  },
  {
   "cell_type": "code",
   "execution_count": 7,
   "id": "89b85924-efe9-430e-818e-c3ed058bd911",
   "metadata": {},
   "outputs": [
    {
     "name": "stdout",
     "output_type": "stream",
     "text": [
      "Results\n",
      "[('o', 'http://www.wikidata.org/entity/Q35637'), ('name', 'Nobel Peace Prize')]\n",
      "[('o', 'http://www.wikidata.org/entity/Q37922'), ('name', 'Nobel Prize in Literature')]\n",
      "[('o', 'http://www.wikidata.org/entity/Q38104'), ('name', 'Nobel Prize in Physics')]\n",
      "[('o', 'http://www.wikidata.org/entity/Q44585'), ('name', 'Nobel Prize in Chemistry')]\n",
      "[('o', 'http://www.wikidata.org/entity/Q80061'), ('name', 'Nobel Prize in Physiology or Medicine')]\n"
     ]
    },
    {
     "data": {
      "text/plain": [
       "5"
      ]
     },
     "execution_count": 7,
     "metadata": {},
     "output_type": "execute_result"
    }
   ],
   "source": [
    "#looking at the property hasPart wdt:P527\n",
    "queryString = \"\"\"\n",
    "SELECT DISTINCT ?o ?name\n",
    "WHERE {  \n",
    "wd:Q7191 wdt:P527 ?o . \n",
    "?o sc:name ?name .\n",
    "} \n",
    "LIMIT 100\n",
    "\"\"\"\n",
    "\n",
    "print(\"Results\")\n",
    "run_query(queryString)"
   ]
  },
  {
   "cell_type": "markdown",
   "id": "c7bdaedd-9766-4ff0-8270-1228604ed814",
   "metadata": {},
   "source": [
    "In this way I found all the type of nobel prizes exist in the database. Verify if the result of 39 nobel prizes found above is the same if I look for objects that is instance of this nodes that I've just found. "
   ]
  },
  {
   "cell_type": "code",
   "execution_count": 8,
   "id": "33188e07-4b67-40c1-8c69-c5a25e8051f7",
   "metadata": {},
   "outputs": [
    {
     "name": "stdout",
     "output_type": "stream",
     "text": [
      "Results\n",
      "[('sub', 'http://www.wikidata.org/entity/Q5959408'), ('name', '2003 Nobel Peace Prize')]\n",
      "[('sub', 'http://www.wikidata.org/entity/Q10844039'), ('name', '1989 Nobel Peace Prize')]\n",
      "[('sub', 'http://www.wikidata.org/entity/Q21078165'), ('name', '2015 Nobel Peace Prize')]\n",
      "[('sub', 'http://www.wikidata.org/entity/Q27132539'), ('name', '2016 Nobel Peace Prize')]\n",
      "[('sub', 'http://www.wikidata.org/entity/Q42417649'), ('name', '2017 Nobel Peace Prize')]\n",
      "[('sub', 'http://www.wikidata.org/entity/Q59653078'), ('name', '2018 Nobel Peace Prize')]\n",
      "[('sub', 'http://www.wikidata.org/entity/Q48912926'), ('name', 'Nobel Prize in Physics 2015')]\n",
      "[('sub', 'http://www.wikidata.org/entity/Q48913298'), ('name', 'Nobel Prize in Chemistry 2017')]\n",
      "[('sub', 'http://www.wikidata.org/entity/Q21187755'), ('name', '2004 Nobel Peace Prize')]\n",
      "[('sub', 'http://www.wikidata.org/entity/Q4604682'), ('name', '2005 Nobel Peace Prize')]\n",
      "[('sub', 'http://www.wikidata.org/entity/Q48913291'), ('name', 'Nobel Prize in Chemistry 2016')]\n",
      "[('sub', 'http://www.wikidata.org/entity/Q48913751'), ('name', 'Nobel Prize in Physiology or Medicine 2013')]\n",
      "[('sub', 'http://www.wikidata.org/entity/Q70418234'), ('name', '2019 Nobel Peace Prize')]\n",
      "[('sub', 'http://www.wikidata.org/entity/Q96370427'), ('name', '2020 Nobel Peace Prize')]\n",
      "[('sub', 'http://www.wikidata.org/entity/Q50940776'), ('name', 'Nobel Prize in Chemistry 2012')]\n",
      "[('sub', 'http://www.wikidata.org/entity/Q4618031'), ('name', '2010 Nobel Peace Prize')]\n",
      "[('sub', 'http://www.wikidata.org/entity/Q48913284'), ('name', 'Nobel Prize in Chemistry 2015')]\n",
      "[('sub', 'http://www.wikidata.org/entity/Q105426864'), ('name', '1906 Nobel Prize in Physiology or Medicine')]\n",
      "[('sub', 'http://www.wikidata.org/entity/Q3231462'), ('name', '2009 Nobel Peace Prize')]\n",
      "[('sub', 'http://www.wikidata.org/entity/Q4622018'), ('name', '2011 Nobel Peace Prize')]\n",
      "[('sub', 'http://www.wikidata.org/entity/Q50589856'), ('name', 'Nobel Prize in Physics 2012')]\n",
      "[('sub', 'http://www.wikidata.org/entity/Q48913757'), ('name', 'Nobel Prize in Physiology or Medicine 2012')]\n",
      "[('sub', 'http://www.wikidata.org/entity/Q18204717'), ('name', '2006 Nobel Peace Prize')]\n",
      "[('sub', 'http://www.wikidata.org/entity/Q48913727'), ('name', 'Nobel Prize in Physiology or Medicine 2016')]\n",
      "[('sub', 'http://www.wikidata.org/entity/Q48913738'), ('name', 'Nobel Prize in Physiology or Medicine 2015')]\n",
      "[('sub', 'http://www.wikidata.org/entity/Q18204229'), ('name', '2014 Nobel Peace Prize')]\n",
      "[('sub', 'http://www.wikidata.org/entity/Q18204701'), ('name', '2001 Nobel Peace Prize')]\n",
      "[('sub', 'http://www.wikidata.org/entity/Q18204705'), ('name', '2002 Nobel Peace Prize')]\n",
      "[('sub', 'http://www.wikidata.org/entity/Q4609021'), ('name', '2007 Nobel Peace Prize')]\n",
      "[('sub', 'http://www.wikidata.org/entity/Q4611662'), ('name', '2008 Nobel Peace Prize')]\n",
      "[('sub', 'http://www.wikidata.org/entity/Q4626364'), ('name', '2012 Nobel Peace Prize')]\n",
      "[('sub', 'http://www.wikidata.org/entity/Q7045636'), ('name', '2013 Nobel Peace Prize')]\n",
      "[('sub', 'http://www.wikidata.org/entity/Q48912969'), ('name', 'Nobel Prize in Physics 2013')]\n",
      "[('sub', 'http://www.wikidata.org/entity/Q48913274'), ('name', 'Nobel Prize in Chemistry 2014')]\n",
      "[('sub', 'http://www.wikidata.org/entity/Q48913666'), ('name', 'Nobel Prize in Physiology or Medicine 2017')]\n",
      "[('sub', 'http://www.wikidata.org/entity/Q48911839'), ('name', 'Nobel Prize in Physics 2016')]\n",
      "[('sub', 'http://www.wikidata.org/entity/Q48912962'), ('name', 'Nobel Prize in Physics 2014')]\n",
      "[('sub', 'http://www.wikidata.org/entity/Q48913240'), ('name', 'Nobel Prize in Chemistry 2013')]\n",
      "[('sub', 'http://www.wikidata.org/entity/Q48913745'), ('name', 'Nobel Prize in Physiology or Medicine 2014')]\n"
     ]
    },
    {
     "data": {
      "text/plain": [
       "39"
      ]
     },
     "execution_count": 8,
     "metadata": {},
     "output_type": "execute_result"
    }
   ],
   "source": [
    "queryString = \"\"\"\n",
    "SELECT DISTINCT ?sub ?name\n",
    "WHERE {  \n",
    "wd:Q7191 wdt:P527 ?o . \n",
    "?sub wdt:P31 ?o.\n",
    "?sub sc:name ?name .\n",
    "} \n",
    "LIMIT 100\n",
    "\"\"\"\n",
    "\n",
    "print(\"Results\")\n",
    "run_query(queryString)"
   ]
  },
  {
   "cell_type": "code",
   "execution_count": 9,
   "id": "c7864510-b0ee-48fd-983f-8d5be48bd30c",
   "metadata": {},
   "outputs": [
    {
     "name": "stdout",
     "output_type": "stream",
     "text": [
      "Results\n",
      "[('sub', 'http://www.wikidata.org/entity/Q35637'), ('name', 'Nobel Peace Prize')]\n",
      "[('sub', 'http://www.wikidata.org/entity/Q37922'), ('name', 'Nobel Prize in Literature')]\n",
      "[('sub', 'http://www.wikidata.org/entity/Q38104'), ('name', 'Nobel Prize in Physics')]\n",
      "[('sub', 'http://www.wikidata.org/entity/Q44585'), ('name', 'Nobel Prize in Chemistry')]\n",
      "[('sub', 'http://www.wikidata.org/entity/Q47170'), ('name', 'Prize in Economic Sciences in Memory of Alfred Nobel')]\n",
      "[('sub', 'http://www.wikidata.org/entity/Q80061'), ('name', 'Nobel Prize in Physiology or Medicine')]\n"
     ]
    },
    {
     "data": {
      "text/plain": [
       "6"
      ]
     },
     "execution_count": 9,
     "metadata": {},
     "output_type": "execute_result"
    }
   ],
   "source": [
    "#looking at the subclasses of nobel prizes\n",
    "queryString = \"\"\"\n",
    "SELECT DISTINCT ?sub ?name\n",
    "WHERE {  \n",
    "?sub wdt:P279+ wd:Q7191 . \n",
    "?sub sc:name ?name .\n",
    "} \n",
    "LIMIT 100\n",
    "\"\"\"\n",
    "\n",
    "print(\"Results\")\n",
    "run_query(queryString)"
   ]
  },
  {
   "cell_type": "markdown",
   "id": "0b5679dc-be83-4047-97b2-0c62a173ad22",
   "metadata": {},
   "source": [
    "In this way I have also the economic science's nobel price. But from the information found some queries ago, it seems that I have no entity that is istance of nobel prize in economic science. Run an aggregation query to found some more information. "
   ]
  },
  {
   "cell_type": "code",
   "execution_count": 10,
   "id": "9a236311-8d5d-4d59-8dc8-33c7633a2574",
   "metadata": {},
   "outputs": [
    {
     "name": "stdout",
     "output_type": "stream",
     "text": [
      "Results\n",
      "[('name', 'Nobel Peace Prize'), ('count', '21')]\n",
      "[('name', 'Nobel Prize in Physiology or Medicine'), ('count', '7')]\n",
      "[('name', 'Nobel Prize in Physics'), ('count', '7')]\n",
      "[('name', 'Nobel Prize in Chemistry'), ('count', '6')]\n",
      "[('name', 'Nobel Prize in Literature'), ('count', '2')]\n"
     ]
    },
    {
     "data": {
      "text/plain": [
       "5"
      ]
     },
     "execution_count": 10,
     "metadata": {},
     "output_type": "execute_result"
    }
   ],
   "source": [
    "#group by subclass of Nobel Prize\n",
    "queryString = \"\"\"\n",
    "SELECT DISTINCT ?name (COUNT (?p) AS ?count)\n",
    "WHERE {  \n",
    "?sub wdt:P279+ wd:Q7191 . \n",
    "?p wdt:P31 ?sub.\n",
    "?sub sc:name ?name .\n",
    "} \n",
    "GROUP BY ?sub ?name\n",
    "ORDER BY DESC (?count) \n",
    "\"\"\"\n",
    "\n",
    "print(\"Results\")\n",
    "run_query(queryString)"
   ]
  },
  {
   "cell_type": "code",
   "execution_count": 11,
   "id": "061ac792-f1e7-434e-b458-3172bbe0f709",
   "metadata": {},
   "outputs": [
    {
     "name": "stdout",
     "output_type": "stream",
     "text": [
      "Results\n",
      "[('name', 'Nobel Peace Prize'), ('count', '21')]\n",
      "[('name', 'Nobel Prize in Physiology or Medicine'), ('count', '7')]\n",
      "[('name', 'Nobel Prize in Physics'), ('count', '7')]\n",
      "[('name', 'Nobel Prize in Chemistry'), ('count', '6')]\n",
      "[('name', 'Nobel Prize in Literature'), ('count', '2')]\n",
      "[('name', 'Prize in Economic Sciences in Memory of Alfred Nobel'), ('count', '0')]\n"
     ]
    },
    {
     "data": {
      "text/plain": [
       "6"
      ]
     },
     "execution_count": 11,
     "metadata": {},
     "output_type": "execute_result"
    }
   ],
   "source": [
    "#RE-run the query with the optional, since the economic sciences does not match anything\n",
    "queryString = \"\"\"\n",
    "SELECT DISTINCT ?name (COUNT (?p) AS ?count)\n",
    "WHERE {  \n",
    "?sub wdt:P279+ wd:Q7191 . \n",
    "OPTIONAL {?p wdt:P31 ?sub.}\n",
    "?sub sc:name ?name .\n",
    "} \n",
    "GROUP BY ?sub ?name\n",
    "ORDER BY DESC (?count) \n",
    "\"\"\"\n",
    "\n",
    "print(\"Results\")\n",
    "run_query(queryString)"
   ]
  },
  {
   "cell_type": "markdown",
   "id": "666e905e-59db-481f-b5b5-434a9d2c428c",
   "metadata": {},
   "source": [
    "That's conclude the first analysis about Nobel Prizes, types and how they are distributed. Now look for nominees."
   ]
  },
  {
   "cell_type": "code",
   "execution_count": 12,
   "id": "1de6e75d-4a6b-494a-a1d4-5d152695b06a",
   "metadata": {},
   "outputs": [
    {
     "name": "stdout",
     "output_type": "stream",
     "text": [
      "Results\n",
      "[('pr', 'http://www.wikidata.org/prop/direct/P1269'), ('name', 'facet of')]\n",
      "[('pr', 'http://www.wikidata.org/prop/direct/P1346'), ('name', 'winner')]\n",
      "[('pr', 'http://www.wikidata.org/prop/direct/P1424'), ('name', \"topic's main template\")]\n",
      "[('pr', 'http://www.wikidata.org/prop/direct/P155'), ('name', 'follows')]\n",
      "[('pr', 'http://www.wikidata.org/prop/direct/P156'), ('name', 'followed by')]\n",
      "[('pr', 'http://www.wikidata.org/prop/direct/P17'), ('name', 'country')]\n",
      "[('pr', 'http://www.wikidata.org/prop/direct/P179'), ('name', 'part of the series')]\n",
      "[('pr', 'http://www.wikidata.org/prop/direct/P18'), ('name', 'image')]\n",
      "[('pr', 'http://www.wikidata.org/prop/direct/P2671'), ('name', 'Google Knowledge Graph ID')]\n",
      "[('pr', 'http://www.wikidata.org/prop/direct/P276'), ('name', 'location')]\n",
      "[('pr', 'http://www.wikidata.org/prop/direct/P31'), ('name', 'instance of')]\n",
      "[('pr', 'http://www.wikidata.org/prop/direct/P3219'), ('name', 'Encyclopædia Universalis ID')]\n",
      "[('pr', 'http://www.wikidata.org/prop/direct/P3417'), ('name', 'Quora topic ID')]\n",
      "[('pr', 'http://www.wikidata.org/prop/direct/P373'), ('name', 'Commons category')]\n",
      "[('pr', 'http://www.wikidata.org/prop/direct/P5008'), ('name', 'on focus list of Wikimedia project')]\n",
      "[('pr', 'http://www.wikidata.org/prop/direct/P585'), ('name', 'point in time')]\n",
      "[('pr', 'http://www.wikidata.org/prop/direct/P646'), ('name', 'Freebase ID')]\n",
      "[('pr', 'http://www.wikidata.org/prop/direct/P910'), ('name', \"topic's main category\")]\n",
      "[('pr', 'http://www.wikidata.org/prop/direct/P1027'), ('name', 'conferred by')]\n"
     ]
    },
    {
     "data": {
      "text/plain": [
       "19"
      ]
     },
     "execution_count": 12,
     "metadata": {},
     "output_type": "execute_result"
    }
   ],
   "source": [
    "#search in direction NOBEL TO OBJECT\n",
    "queryString = \"\"\"\n",
    "SELECT DISTINCT ?pr ?name\n",
    "WHERE {  \n",
    "?nobel wdt:P31/wdt:P279* wd:Q7191 ;\n",
    "        ?pr ?o.\n",
    "\n",
    "?pr sc:name ?name .\n",
    "}\n",
    "\"\"\"\n",
    "\n",
    "print(\"Results\")\n",
    "run_query(queryString)"
   ]
  },
  {
   "cell_type": "code",
   "execution_count": 13,
   "id": "6df8daf9-94e0-4d9d-af1d-8909a1b687f5",
   "metadata": {},
   "outputs": [
    {
     "name": "stdout",
     "output_type": "stream",
     "text": [
      "Results\n",
      "[('pr', 'http://www.wikidata.org/prop/direct/P1423'), ('name', 'template has topic')]\n",
      "[('pr', 'http://www.wikidata.org/prop/direct/P1411'), ('name', 'nominated for')]\n",
      "[('pr', 'http://www.wikidata.org/prop/direct/P155'), ('name', 'follows')]\n",
      "[('pr', 'http://www.wikidata.org/prop/direct/P156'), ('name', 'followed by')]\n",
      "[('pr', 'http://www.wikidata.org/prop/direct/P301'), ('name', \"category's main topic\")]\n",
      "[('pr', 'http://www.wikidata.org/prop/direct/P921'), ('name', 'main subject')]\n"
     ]
    },
    {
     "data": {
      "text/plain": [
       "6"
      ]
     },
     "execution_count": 13,
     "metadata": {},
     "output_type": "execute_result"
    }
   ],
   "source": [
    "#search in direction OBJECT TO NOBEL\n",
    "queryString = \"\"\"\n",
    "SELECT DISTINCT ?pr ?name\n",
    "WHERE {  \n",
    "?nobel wdt:P31/wdt:P279* wd:Q7191 .\n",
    "?o ?pr ?nobel.\n",
    "\n",
    "?pr sc:name ?name .\n",
    "}\n",
    "\"\"\"\n",
    "\n",
    "print(\"Results\")\n",
    "run_query(queryString)"
   ]
  },
  {
   "cell_type": "markdown",
   "id": "ba8fcc5a-751c-4012-a625-fa8dd76d5fa7",
   "metadata": {},
   "source": [
    "Do a test with one Nobel Prize to understand and find a path from people that is nominated / win a nobel prize, because I found the interest properties:\n",
    "- `wdt:P1346`: winner (to use `?nobel wdt:P1346 ?people`);\n",
    "- `wdt:P1411`: nominated for(to use `?people wdt:P1346 ?nobel`)."
   ]
  },
  {
   "cell_type": "code",
   "execution_count": 14,
   "id": "b7cbe0c5-266b-46de-9481-5cfd55a1c3ad",
   "metadata": {},
   "outputs": [
    {
     "name": "stdout",
     "output_type": "stream",
     "text": [
      "Results\n",
      "[('nNobel', '2010 Nobel Peace Prize'), ('nPeople', 'Tobias Asser')]\n"
     ]
    },
    {
     "data": {
      "text/plain": [
       "1"
      ]
     },
     "execution_count": 14,
     "metadata": {},
     "output_type": "execute_result"
    }
   ],
   "source": [
    "queryString = \"\"\"\n",
    "SELECT DISTINCT ?nNobel ?nPeople\n",
    "WHERE {  \n",
    "?nobel wdt:P31/wdt:P279* wd:Q7191 .\n",
    "?people wdt:P1411 ?nobel.\n",
    "?nobel sc:name ?nNobel .\n",
    "?people sc:name ?nPeople .\n",
    "\n",
    "OPTIONAL{?nobel wdt:P1346 ?people.}\n",
    "}\n",
    "LIMIT 10\n",
    "\"\"\"\n",
    "\n",
    "print(\"Results\")\n",
    "run_query(queryString)"
   ]
  },
  {
   "cell_type": "markdown",
   "id": "b09c8481-42a9-4848-85a0-ea35f4fe7deb",
   "metadata": {},
   "source": [
    "Very poor result. Maybe reification, so start looking for an entity that is connected to both nobel and people (I assume that I have to look for people that is nominated for a nobel prize, but anyway this constraint is not needed)."
   ]
  },
  {
   "cell_type": "code",
   "execution_count": 15,
   "id": "2c383da1-0d49-4106-a65d-faaf7e27fee9",
   "metadata": {},
   "outputs": [
    {
     "name": "stdout",
     "output_type": "stream",
     "text": [
      "Results\n",
      "[('o', 'http://www.wikidata.org/entity/Q5959408'), ('unknown', '2003 Nobel Peace Prize')]\n",
      "[('o', 'http://www.wikidata.org/entity/Q216872'), ('unknown', 'Tobias Asser')]\n",
      "[('o', 'http://www.wikidata.org/entity/Q21078165'), ('unknown', '2015 Nobel Peace Prize')]\n",
      "[('o', 'http://www.wikidata.org/entity/Q27132539'), ('unknown', '2016 Nobel Peace Prize')]\n",
      "[('o', 'http://www.wikidata.org/entity/Q4618031'), ('unknown', '2010 Nobel Peace Prize')]\n",
      "[('o', 'http://www.wikidata.org/entity/Q3231462'), ('unknown', '2009 Nobel Peace Prize')]\n",
      "[('o', 'http://www.wikidata.org/entity/Q7045636'), ('unknown', '2013 Nobel Peace Prize')]\n",
      "[('o', 'http://www.wikidata.org/entity/Q42417649'), ('unknown', '2017 Nobel Peace Prize')]\n",
      "[('o', 'http://www.wikidata.org/entity/Q59653078'), ('unknown', '2018 Nobel Peace Prize')]\n",
      "[('o', 'http://www.wikidata.org/entity/Q21187755'), ('unknown', '2004 Nobel Peace Prize')]\n",
      "[('o', 'http://www.wikidata.org/entity/Q4604682'), ('unknown', '2005 Nobel Peace Prize')]\n",
      "[('o', 'http://www.wikidata.org/entity/Q70418234'), ('unknown', '2019 Nobel Peace Prize')]\n",
      "[('o', 'http://www.wikidata.org/entity/Q4622018'), ('unknown', '2011 Nobel Peace Prize')]\n",
      "[('o', 'http://www.wikidata.org/entity/Q18204717'), ('unknown', '2006 Nobel Peace Prize')]\n",
      "[('o', 'http://www.wikidata.org/entity/Q18204229'), ('unknown', '2014 Nobel Peace Prize')]\n",
      "[('o', 'http://www.wikidata.org/entity/Q18204701'), ('unknown', '2001 Nobel Peace Prize')]\n",
      "[('o', 'http://www.wikidata.org/entity/Q18204705'), ('unknown', '2002 Nobel Peace Prize')]\n",
      "[('o', 'http://www.wikidata.org/entity/Q4609021'), ('unknown', '2007 Nobel Peace Prize')]\n",
      "[('o', 'http://www.wikidata.org/entity/Q4611662'), ('unknown', '2008 Nobel Peace Prize')]\n",
      "[('o', 'http://www.wikidata.org/entity/Q4626364'), ('unknown', '2012 Nobel Peace Prize')]\n",
      "[('o', 'http://www.wikidata.org/entity/Q96370427'), ('unknown', '2020 Nobel Peace Prize')]\n",
      "[('o', 'http://www.wikidata.org/entity/Q17595303'), ('unknown', 'Barack Obama wins Nobel Peace Prize')]\n"
     ]
    },
    {
     "data": {
      "text/plain": [
       "22"
      ]
     },
     "execution_count": 15,
     "metadata": {},
     "output_type": "execute_result"
    }
   ],
   "source": [
    "queryString = \"\"\"\n",
    "SELECT DISTINCT ?o ?unknown\n",
    "WHERE {  \n",
    "?nobel wdt:P31/wdt:P279+ wd:Q7191 .\n",
    "?o ?pr1 ?nobel.\n",
    "?x ?pr2 ?o.\n",
    "?o sc:name ?unknown .\n",
    "\n",
    "}\n",
    "LIMIT 100\n",
    "\"\"\"\n",
    "\n",
    "print(\"Results\")\n",
    "run_query(queryString)"
   ]
  },
  {
   "cell_type": "code",
   "execution_count": 16,
   "id": "0642a089-2900-427d-a0cd-739d019254a9",
   "metadata": {},
   "outputs": [
    {
     "name": "stdout",
     "output_type": "stream",
     "text": [
      "Results\n",
      "[('pr1', 'http://www.wikidata.org/prop/direct/P155'), ('unknown', 'follows'), ('name', '2002 Nobel Peace Prize')]\n",
      "[('pr1', 'http://www.wikidata.org/prop/direct/P156'), ('unknown', 'followed by'), ('name', '2004 Nobel Peace Prize')]\n",
      "[('pr1', 'http://www.wikidata.org/prop/direct/P1411'), ('unknown', 'nominated for'), ('name', '2010 Nobel Peace Prize')]\n",
      "[('pr1', 'http://www.wikidata.org/prop/direct/P155'), ('unknown', 'follows'), ('name', '2014 Nobel Peace Prize')]\n",
      "[('pr1', 'http://www.wikidata.org/prop/direct/P156'), ('unknown', 'followed by'), ('name', '2016 Nobel Peace Prize')]\n",
      "[('pr1', 'http://www.wikidata.org/prop/direct/P155'), ('unknown', 'follows'), ('name', '2015 Nobel Peace Prize')]\n",
      "[('pr1', 'http://www.wikidata.org/prop/direct/P156'), ('unknown', 'followed by'), ('name', '2017 Nobel Peace Prize')]\n",
      "[('pr1', 'http://www.wikidata.org/prop/direct/P156'), ('unknown', 'followed by'), ('name', '2011 Nobel Peace Prize')]\n",
      "[('pr1', 'http://www.wikidata.org/prop/direct/P155'), ('unknown', 'follows'), ('name', '2009 Nobel Peace Prize')]\n",
      "[('pr1', 'http://www.wikidata.org/prop/direct/P155'), ('unknown', 'follows'), ('name', '2008 Nobel Peace Prize')]\n",
      "[('pr1', 'http://www.wikidata.org/prop/direct/P156'), ('unknown', 'followed by'), ('name', '2010 Nobel Peace Prize')]\n",
      "[('pr1', 'http://www.wikidata.org/prop/direct/P155'), ('unknown', 'follows'), ('name', '2012 Nobel Peace Prize')]\n",
      "[('pr1', 'http://www.wikidata.org/prop/direct/P156'), ('unknown', 'followed by'), ('name', '2014 Nobel Peace Prize')]\n",
      "[('pr1', 'http://www.wikidata.org/prop/direct/P155'), ('unknown', 'follows'), ('name', '2016 Nobel Peace Prize')]\n",
      "[('pr1', 'http://www.wikidata.org/prop/direct/P156'), ('unknown', 'followed by'), ('name', '2018 Nobel Peace Prize')]\n",
      "[('pr1', 'http://www.wikidata.org/prop/direct/P156'), ('unknown', 'followed by'), ('name', '2019 Nobel Peace Prize')]\n",
      "[('pr1', 'http://www.wikidata.org/prop/direct/P155'), ('unknown', 'follows'), ('name', '2017 Nobel Peace Prize')]\n",
      "[('pr1', 'http://www.wikidata.org/prop/direct/P156'), ('unknown', 'followed by'), ('name', '2005 Nobel Peace Prize')]\n",
      "[('pr1', 'http://www.wikidata.org/prop/direct/P155'), ('unknown', 'follows'), ('name', '2003 Nobel Peace Prize')]\n",
      "[('pr1', 'http://www.wikidata.org/prop/direct/P156'), ('unknown', 'followed by'), ('name', '2006 Nobel Peace Prize')]\n",
      "[('pr1', 'http://www.wikidata.org/prop/direct/P155'), ('unknown', 'follows'), ('name', '2004 Nobel Peace Prize')]\n",
      "[('pr1', 'http://www.wikidata.org/prop/direct/P156'), ('unknown', 'followed by'), ('name', '2020 Nobel Peace Prize')]\n",
      "[('pr1', 'http://www.wikidata.org/prop/direct/P155'), ('unknown', 'follows'), ('name', '2018 Nobel Peace Prize')]\n",
      "[('pr1', 'http://www.wikidata.org/prop/direct/P156'), ('unknown', 'followed by'), ('name', '2012 Nobel Peace Prize')]\n",
      "[('pr1', 'http://www.wikidata.org/prop/direct/P155'), ('unknown', 'follows'), ('name', '2010 Nobel Peace Prize')]\n",
      "[('pr1', 'http://www.wikidata.org/prop/direct/P156'), ('unknown', 'followed by'), ('name', '2007 Nobel Peace Prize')]\n",
      "[('pr1', 'http://www.wikidata.org/prop/direct/P155'), ('unknown', 'follows'), ('name', '2005 Nobel Peace Prize')]\n",
      "[('pr1', 'http://www.wikidata.org/prop/direct/P156'), ('unknown', 'followed by'), ('name', '2015 Nobel Peace Prize')]\n",
      "[('pr1', 'http://www.wikidata.org/prop/direct/P155'), ('unknown', 'follows'), ('name', '2013 Nobel Peace Prize')]\n",
      "[('pr1', 'http://www.wikidata.org/prop/direct/P156'), ('unknown', 'followed by'), ('name', '2002 Nobel Peace Prize')]\n",
      "[('pr1', 'http://www.wikidata.org/prop/direct/P155'), ('unknown', 'follows'), ('name', '2001 Nobel Peace Prize')]\n",
      "[('pr1', 'http://www.wikidata.org/prop/direct/P156'), ('unknown', 'followed by'), ('name', '2003 Nobel Peace Prize')]\n",
      "[('pr1', 'http://www.wikidata.org/prop/direct/P155'), ('unknown', 'follows'), ('name', '2006 Nobel Peace Prize')]\n",
      "[('pr1', 'http://www.wikidata.org/prop/direct/P156'), ('unknown', 'followed by'), ('name', '2008 Nobel Peace Prize')]\n",
      "[('pr1', 'http://www.wikidata.org/prop/direct/P155'), ('unknown', 'follows'), ('name', '2007 Nobel Peace Prize')]\n",
      "[('pr1', 'http://www.wikidata.org/prop/direct/P156'), ('unknown', 'followed by'), ('name', '2009 Nobel Peace Prize')]\n",
      "[('pr1', 'http://www.wikidata.org/prop/direct/P155'), ('unknown', 'follows'), ('name', '2011 Nobel Peace Prize')]\n",
      "[('pr1', 'http://www.wikidata.org/prop/direct/P156'), ('unknown', 'followed by'), ('name', '2013 Nobel Peace Prize')]\n",
      "[('pr1', 'http://www.wikidata.org/prop/direct/P155'), ('unknown', 'follows'), ('name', '2019 Nobel Peace Prize')]\n",
      "[('pr1', 'http://www.wikidata.org/prop/direct/P921'), ('unknown', 'main subject'), ('name', '2009 Nobel Peace Prize')]\n"
     ]
    },
    {
     "data": {
      "text/plain": [
       "40"
      ]
     },
     "execution_count": 16,
     "metadata": {},
     "output_type": "execute_result"
    }
   ],
   "source": [
    "#look at the connection property\n",
    "queryString = \"\"\"\n",
    "SELECT DISTINCT ?pr1 ?unknown ?name\n",
    "WHERE {  \n",
    "?nobel wdt:P31/wdt:P279+ wd:Q7191 .\n",
    "?o ?pr1 ?nobel.\n",
    "?x ?pr2 ?o.\n",
    "?pr1 sc:name ?unknown .\n",
    "?nobel sc:name ?name .\n",
    "\n",
    "}\n",
    "LIMIT 100\n",
    "\"\"\"\n",
    "\n",
    "print(\"Results\")\n",
    "run_query(queryString)"
   ]
  },
  {
   "cell_type": "markdown",
   "id": "2a1d0ecb-3691-4dcc-9ef6-813218c79c14",
   "metadata": {},
   "source": [
    "This is not what I need. So I will search for property to the generical type of nobel prize, not the specific year"
   ]
  },
  {
   "cell_type": "code",
   "execution_count": 17,
   "id": "39b3e001-a0ec-4f42-9a24-972830f20588",
   "metadata": {},
   "outputs": [
    {
     "name": "stdout",
     "output_type": "stream",
     "text": [
      "Results\n",
      "[('pr', 'http://www.wikidata.org/prop/direct/P3712'), ('name', 'objective of project or action')]\n",
      "[('pr', 'http://www.wikidata.org/prop/direct/P101'), ('name', 'field of work')]\n",
      "[('pr', 'http://www.wikidata.org/prop/direct/P138'), ('name', 'named after')]\n",
      "[('pr', 'http://www.wikidata.org/prop/direct/P1411'), ('name', 'nominated for')]\n",
      "[('pr', 'http://www.wikidata.org/prop/direct/P166'), ('name', 'award received')]\n",
      "[('pr', 'http://www.wikidata.org/prop/direct/P179'), ('name', 'part of the series')]\n",
      "[('pr', 'http://www.wikidata.org/prop/direct/P1889'), ('name', 'different from')]\n",
      "[('pr', 'http://www.wikidata.org/prop/direct/P301'), ('name', \"category's main topic\")]\n",
      "[('pr', 'http://www.wikidata.org/prop/direct/P31'), ('name', 'instance of')]\n",
      "[('pr', 'http://www.wikidata.org/prop/direct/P360'), ('name', 'is a list of')]\n",
      "[('pr', 'http://www.wikidata.org/prop/direct/P366'), ('name', 'use')]\n",
      "[('pr', 'http://www.wikidata.org/prop/direct/P463'), ('name', 'member of')]\n",
      "[('pr', 'http://www.wikidata.org/prop/direct/P527'), ('name', 'has part')]\n",
      "[('pr', 'http://www.wikidata.org/prop/direct/P793'), ('name', 'significant event')]\n",
      "[('pr', 'http://www.wikidata.org/prop/direct/P800'), ('name', 'notable work')]\n",
      "[('pr', 'http://www.wikidata.org/prop/direct/P921'), ('name', 'main subject')]\n",
      "[('pr', 'http://www.wikidata.org/prop/direct/P971'), ('name', 'category combines topics')]\n",
      "[('pr', 'http://www.wikidata.org/prop/direct/P1855'), ('name', 'Wikidata property example')]\n",
      "[('pr', 'http://www.wikidata.org/prop/direct/P6568'), ('name', 'inscription mentions')]\n"
     ]
    },
    {
     "data": {
      "text/plain": [
       "19"
      ]
     },
     "execution_count": 17,
     "metadata": {},
     "output_type": "execute_result"
    }
   ],
   "source": [
    "queryString = \"\"\"\n",
    "SELECT DISTINCT ?pr ?name \n",
    "WHERE {  \n",
    "?sub wdt:P279+ wd:Q7191 . \n",
    "?p ?pr ?sub.\n",
    "?pr sc:name ?name .\n",
    "}  \n",
    "\"\"\"\n",
    "\n",
    "print(\"Results\")\n",
    "run_query(queryString)"
   ]
  },
  {
   "cell_type": "markdown",
   "id": "1f0e7470-7307-426e-bf24-6223320ae23b",
   "metadata": {},
   "source": [
    "Found two interest property that are:\n",
    "- `wdt:P166` : award received;\n",
    "- `wdt:P1411` : nominated for."
   ]
  },
  {
   "cell_type": "code",
   "execution_count": 18,
   "id": "7381937a-82a1-4c51-b716-0db033422b52",
   "metadata": {},
   "outputs": [
    {
     "name": "stdout",
     "output_type": "stream",
     "text": [
      "Results\n",
      "[('people', 'Daniel Bovet'), ('nobel', 'Nobel Prize in Physiology or Medicine')]\n",
      "[('people', 'Barry C. Barish'), ('nobel', 'Nobel Prize in Physics')]\n",
      "[('people', 'Alan J. Heeger'), ('nobel', 'Nobel Prize in Chemistry')]\n",
      "[('people', 'Gerd Binnig'), ('nobel', 'Nobel Prize in Physics')]\n",
      "[('people', 'Robert Coleman Richardson'), ('nobel', 'Nobel Prize in Physics')]\n",
      "[('people', 'Frank B. Kellogg'), ('nobel', 'Nobel Peace Prize')]\n",
      "[('people', 'Harry Markowitz'), ('nobel', 'Prize in Economic Sciences in Memory of Alfred Nobel')]\n",
      "[('people', 'Otto Stern'), ('nobel', 'Nobel Prize in Physics')]\n",
      "[('people', 'Klaus von Klitzing'), ('nobel', 'Nobel Prize in Physics')]\n",
      "[('people', 'Tawakel Karman'), ('nobel', 'Nobel Peace Prize')]\n",
      "[('people', 'Johannes V. Jensen'), ('nobel', 'Nobel Prize in Literature')]\n",
      "[('people', 'Luc Montagnier'), ('nobel', 'Nobel Prize in Physiology or Medicine')]\n",
      "[('people', 'Françoise Barré-Sinoussi'), ('nobel', 'Nobel Prize in Physiology or Medicine')]\n",
      "[('people', 'Johann Deisenhofer'), ('nobel', 'Nobel Prize in Chemistry')]\n",
      "[('people', 'Joachim Frank'), ('nobel', 'Nobel Prize in Chemistry')]\n",
      "[('people', 'Eric Kandel'), ('nobel', 'Nobel Prize in Physiology or Medicine')]\n",
      "[('people', 'Louis Ignarro'), ('nobel', 'Nobel Prize in Physiology or Medicine')]\n",
      "[('people', 'Frances Arnold'), ('nobel', 'Nobel Prize in Chemistry')]\n",
      "[('people', 'José Ramos-Horta'), ('nobel', 'Nobel Peace Prize')]\n",
      "[('people', 'Harvey J. Alter'), ('nobel', 'Nobel Prize in Physiology or Medicine')]\n"
     ]
    },
    {
     "data": {
      "text/plain": [
       "20"
      ]
     },
     "execution_count": 18,
     "metadata": {},
     "output_type": "execute_result"
    }
   ],
   "source": [
    "#Visualize some people that receive the nobel prize\n",
    "queryString = \"\"\"\n",
    "SELECT DISTINCT ?people ?nobel \n",
    "WHERE {  \n",
    "?sub wdt:P279+ wd:Q7191 . \n",
    "?p wdt:P166 ?sub.\n",
    "?p sc:name ?people .\n",
    "?sub sc:name ?nobel .\n",
    "}\n",
    "LIMIT 20\n",
    "\"\"\"\n",
    "\n",
    "print(\"Results\")\n",
    "run_query(queryString)"
   ]
  },
  {
   "cell_type": "code",
   "execution_count": 19,
   "id": "ea0e457f-4f1c-46e2-bd1c-78f909cedac9",
   "metadata": {},
   "outputs": [
    {
     "name": "stdout",
     "output_type": "stream",
     "text": [
      "Results\n",
      "[('people', 'Valery Larbaud'), ('nobel', 'Nobel Prize in Literature')]\n",
      "[('people', 'Edward Grey, 1st Viscount Grey of Fallodon'), ('nobel', 'Nobel Peace Prize')]\n",
      "[('people', 'Daniel Bovet'), ('nobel', 'Nobel Prize in Physiology or Medicine')]\n",
      "[('people', 'Howard Cary'), ('nobel', 'Nobel Prize in Chemistry')]\n",
      "[('people', 'Adrien Albert Marie de Mun'), ('nobel', 'Nobel Prize in Literature')]\n",
      "[('people', 'Alan Sillitoe'), ('nobel', 'Nobel Prize in Literature')]\n",
      "[('people', 'Pierre Emmanuel'), ('nobel', 'Nobel Prize in Literature')]\n",
      "[('people', 'Ramón Pérez de Ayala'), ('nobel', 'Nobel Prize in Literature')]\n",
      "[('people', 'Franz Theodor Csokor'), ('nobel', 'Nobel Prize in Literature')]\n",
      "[('people', 'Frank B. Kellogg'), ('nobel', 'Nobel Peace Prize')]\n",
      "[('people', 'Otto Stern'), ('nobel', 'Nobel Prize in Physics')]\n",
      "[('people', 'Rudolf Alexander Schröder'), ('nobel', 'Nobel Prize in Literature')]\n",
      "[('people', 'Giorgos Theotokás'), ('nobel', 'Nobel Prize in Literature')]\n",
      "[('people', 'Johannes V. Jensen'), ('nobel', 'Nobel Prize in Literature')]\n",
      "[('people', 'International Council of Women'), ('nobel', 'Nobel Peace Prize')]\n",
      "[('people', 'Paul de Smet de Naeyer'), ('nobel', 'Nobel Peace Prize')]\n",
      "[('people', 'Johannes Jørgensen'), ('nobel', 'Nobel Prize in Literature')]\n",
      "[('people', 'Clemens Schöpf'), ('nobel', 'Nobel Prize in Chemistry')]\n",
      "[('people', 'Albert Calmette'), ('nobel', 'Nobel Prize in Physiology or Medicine')]\n",
      "[('people', 'Franz Karl Ginzkey'), ('nobel', 'Nobel Prize in Literature')]\n"
     ]
    },
    {
     "data": {
      "text/plain": [
       "20"
      ]
     },
     "execution_count": 19,
     "metadata": {},
     "output_type": "execute_result"
    }
   ],
   "source": [
    "#Visualize some people that was nominated for a nobel prize\n",
    "queryString = \"\"\"\n",
    "SELECT DISTINCT ?people ?nobel \n",
    "WHERE {  \n",
    "?sub wdt:P279+ wd:Q7191 . \n",
    "?p wdt:P1411 ?sub.\n",
    "?p sc:name ?people .\n",
    "?sub sc:name ?nobel .\n",
    "}\n",
    "LIMIT 20\n",
    "\"\"\"\n",
    "\n",
    "print(\"Results\")\n",
    "run_query(queryString)"
   ]
  },
  {
   "cell_type": "markdown",
   "id": "fbd1d6e1-55c2-4648-8fec-9da8a629f062",
   "metadata": {},
   "source": [
    "Visualize the total number of people nominated for a nobel prize and the total number of people that won a nobel prize"
   ]
  },
  {
   "cell_type": "code",
   "execution_count": 20,
   "id": "2c286628-1eed-4a2e-86b0-be642c16ad2f",
   "metadata": {},
   "outputs": [
    {
     "name": "stdout",
     "output_type": "stream",
     "text": [
      "Results\n",
      "[('tot_nominated', '2576'), ('tot_winner', '960')]\n"
     ]
    },
    {
     "data": {
      "text/plain": [
       "1"
      ]
     },
     "execution_count": 20,
     "metadata": {},
     "output_type": "execute_result"
    }
   ],
   "source": [
    "queryString = \"\"\"\n",
    "SELECT ?tot_nominated ?tot_winner\n",
    "WHERE {  \n",
    "    {\n",
    "        SELECT (COUNT(*)) AS ?tot_nominated \n",
    "        WHERE{ \n",
    "            ?sub wdt:P279+ wd:Q7191 . \n",
    "            ?p wdt:P1411 ?sub.\n",
    "        }\n",
    "    }\n",
    "    {\n",
    "        SELECT (COUNT(*)) AS ?tot_winner\n",
    "        WHERE{ \n",
    "            ?sub wdt:P279+ wd:Q7191 . \n",
    "            ?p wdt:P166 ?sub.\n",
    "        }\n",
    "    }\n",
    "}\n",
    "\"\"\"\n",
    "\n",
    "print(\"Results\")\n",
    "run_query(queryString)"
   ]
  },
  {
   "cell_type": "markdown",
   "id": "1cfef6e0-632a-4fd1-9da2-190ba216f06d",
   "metadata": {},
   "source": [
    "Since the result, before count all the matches in the database, I want to know if there are people nominated twice or more and maybe someone won a nobel prize twice, so count DISTINCT people"
   ]
  },
  {
   "cell_type": "code",
   "execution_count": 21,
   "id": "182f0c2a-17f4-49c6-b035-78a275e13111",
   "metadata": {},
   "outputs": [
    {
     "name": "stdout",
     "output_type": "stream",
     "text": [
      "Results\n",
      "[('tot_nominated', '2395'), ('tot_winner', '958')]\n"
     ]
    },
    {
     "data": {
      "text/plain": [
       "1"
      ]
     },
     "execution_count": 21,
     "metadata": {},
     "output_type": "execute_result"
    }
   ],
   "source": [
    "queryString = \"\"\"\n",
    "SELECT ?tot_nominated ?tot_winner\n",
    "WHERE {  \n",
    "    {\n",
    "        SELECT (COUNT(DISTINCT ?p)) AS ?tot_nominated \n",
    "        WHERE{ \n",
    "            ?sub wdt:P279+ wd:Q7191 . \n",
    "            ?p wdt:P1411 ?sub.\n",
    "        }\n",
    "    }\n",
    "    {\n",
    "        SELECT (COUNT(DISTINCT ?p)) AS ?tot_winner\n",
    "        WHERE{ \n",
    "            ?sub wdt:P279+ wd:Q7191 . \n",
    "            ?p wdt:P166 ?sub.\n",
    "        }\n",
    "    }\n",
    "}\n",
    "\"\"\"\n",
    "\n",
    "print(\"Results\")\n",
    "run_query(queryString)"
   ]
  },
  {
   "cell_type": "markdown",
   "id": "9ebebb24-6d2c-438b-bcda-bdbd2c3732d4",
   "metadata": {},
   "source": [
    "The result shows that actually there are 2 people that won a nobel prize twice and a lot of people nominated more than once. Only for curiosity, show who won more than one Nobel Prize (I know that Marie Curie won two nobel prize so I expect to find her)"
   ]
  },
  {
   "cell_type": "code",
   "execution_count": 22,
   "id": "e620852c-4d43-4ad6-a720-9d51e889a26d",
   "metadata": {},
   "outputs": [
    {
     "name": "stdout",
     "output_type": "stream",
     "text": [
      "Results\n",
      "[('people', 'Linus Pauling'), ('prizes', 'Nobel Peace Prize ; Nobel Prize in Chemistry')]\n",
      "[('people', 'Marie Curie'), ('prizes', 'Nobel Prize in Physics ; Nobel Prize in Chemistry')]\n"
     ]
    },
    {
     "data": {
      "text/plain": [
       "2"
      ]
     },
     "execution_count": 22,
     "metadata": {},
     "output_type": "execute_result"
    }
   ],
   "source": [
    "queryString = \"\"\"\n",
    "SELECT DISTINCT ?people (GROUP_CONCAT( ?nobel;SEPARATOR=\" ; \") AS ?prizes)\n",
    "WHERE{ \n",
    "    ?s wdt:P279+ wd:Q7191 . \n",
    "    ?pI wdt:P166 ?s.\n",
    "    ?pI sc:name ?people .\n",
    "    ?s sc:name ?nobel .\n",
    "}\n",
    "GROUP BY ?pI ?people\n",
    "HAVING ((COUNT(?nobel)) > 1)\n",
    "\"\"\"\n",
    "\n",
    "print(\"Results\")\n",
    "run_query(queryString)"
   ]
  },
  {
   "cell_type": "markdown",
   "id": "09151b24-2050-49b5-bb30-b4f69ec3e281",
   "metadata": {},
   "source": [
    "Only for curiosity, I will perform an ask query to know if exists people that are nominated more than twice for a Nobel Prize"
   ]
  },
  {
   "cell_type": "code",
   "execution_count": 23,
   "id": "fa023569-3d0b-40cd-9644-74080f2179bc",
   "metadata": {},
   "outputs": [
    {
     "name": "stdout",
     "output_type": "stream",
     "text": [
      "Results\n"
     ]
    },
    {
     "data": {
      "text/plain": [
       "{'head': {'link': []}, 'boolean': False}"
      ]
     },
     "execution_count": 23,
     "metadata": {},
     "output_type": "execute_result"
    }
   ],
   "source": [
    "queryString = \"\"\"\n",
    "ASK{\n",
    "    SELECT DISTINCT ?p{ \n",
    "        ?s wdt:P279+ wd:Q7191 . \n",
    "        ?p wdt:P1411 ?s.\n",
    "    }\n",
    "    GROUP BY ?p\n",
    "    HAVING ((COUNT(?s)) > 3)\n",
    "}\n",
    "\"\"\"\n",
    "\n",
    "print(\"Results\")\n",
    "run_ask_query(queryString)"
   ]
  },
  {
   "cell_type": "markdown",
   "id": "d3cee822-21eb-4a05-bb3f-e36649e7510d",
   "metadata": {
    "tags": []
   },
   "source": [
    "## Task 2\n",
    "Get the number of Italian, French and Iranian winners and check which nation won more awards in the last twenty years."
   ]
  },
  {
   "cell_type": "markdown",
   "id": "c23f642c-c9da-47c5-8ed4-a899dcd428bc",
   "metadata": {},
   "source": [
    "To answer that question I need to find the nodes Italy, France and Iran, that will allow me to verify the citizenship of a people and count the winners. Starting from one of the entry point provided by the workflow, `wd:Q38` that refers to the  country Italy, I will find the countries in one shot."
   ]
  },
  {
   "cell_type": "code",
   "execution_count": 24,
   "id": "385294f0-2225-4b00-a2a4-6493c35c018a",
   "metadata": {},
   "outputs": [
    {
     "name": "stdout",
     "output_type": "stream",
     "text": [
      "Results\n",
      "[('c', 'http://www.wikidata.org/entity/Q794'), ('country', 'Iran')]\n",
      "[('c', 'http://www.wikidata.org/entity/Q107258515'), ('country', 'Pahlavi Iran')]\n",
      "[('c', 'http://www.wikidata.org/entity/Q142'), ('country', 'France')]\n",
      "[('c', 'http://www.wikidata.org/entity/Q38'), ('country', 'Italy')]\n"
     ]
    },
    {
     "data": {
      "text/plain": [
       "4"
      ]
     },
     "execution_count": 24,
     "metadata": {},
     "output_type": "execute_result"
    }
   ],
   "source": [
    "queryString = \"\"\"\n",
    "SELECT DISTINCT ?c ?country\n",
    "WHERE{ \n",
    "    wd:Q38 wdt:P31 ?o . \n",
    "    ?c wdt:P31 ?o.\n",
    "    ?c sc:name ?country .\n",
    "    ?o sc:name ?obj .\n",
    "    FILTER(REGEX(?country, \"[I,i]taly\") OR REGEX(?country, \"[F,f]rance\") OR REGEX(?country, \"[I,i]ran\") )\n",
    "    \n",
    "}\n",
    "LIMIT 20\n",
    "\"\"\"\n",
    "\n",
    "print(\"Results\")\n",
    "run_query(queryString)"
   ]
  },
  {
   "cell_type": "markdown",
   "id": "ef2394ca-7ec4-408c-bfa8-fc44102f29c9",
   "metadata": {},
   "source": [
    "The country needed are:\n",
    "- `wdt:Q38` Italy;\n",
    "- `wdt:Q142`  France;\n",
    "- `wdt:Q794`  Iran.\n",
    "\n",
    "Now I can answer of the first part of the question: count the number of Nobel Prize's winners of these country, but to perform quicly the group by I will include the query above in the query below"
   ]
  },
  {
   "cell_type": "code",
   "execution_count": 25,
   "id": "2140c4aa-ba7a-471f-b07c-3050b12ca9e1",
   "metadata": {},
   "outputs": [
    {
     "name": "stdout",
     "output_type": "stream",
     "text": [
      "Results\n",
      "[('country', 'France'), ('count', '142')]\n",
      "[('country', 'Italy'), ('count', '26')]\n",
      "[('country', 'Iran'), ('count', '2')]\n"
     ]
    },
    {
     "data": {
      "text/plain": [
       "3"
      ]
     },
     "execution_count": 25,
     "metadata": {},
     "output_type": "execute_result"
    }
   ],
   "source": [
    "queryString = \"\"\"\n",
    "SELECT DISTINCT ?country (COUNT(*) AS ?count)\n",
    "WHERE {  \n",
    "?sub wdt:P279+ wd:Q7191 . \n",
    "?p wdt:P166 ?sub;\n",
    "    wdt:P27 ?c.\n",
    "#part related to the country\n",
    "wd:Q38 wdt:P31 ?o . \n",
    "?c wdt:P31 ?o.\n",
    "?c sc:name ?country .\n",
    "FILTER(REGEX(?country, \"[I,i]taly\") OR REGEX(?country, \"[F,f]rance\") OR REGEX(?country, \"[I,i]ran\") )\n",
    "    \n",
    "}\n",
    "GROUP BY ?c ?country\n",
    "ORDER BY DESC(?count) \n",
    "\"\"\"\n",
    "\n",
    "print(\"Results\")\n",
    "run_query(queryString)"
   ]
  },
  {
   "cell_type": "markdown",
   "id": "fc446944-7952-4e79-933a-2c9f6721ae7f",
   "metadata": {},
   "source": [
    "To answer the second part of the question I need to find something about date, and when a people won the Award. From one of the first query I found that there exist a specific object for every (nobel,year), so I assume that something similar exists also for the generic award. Starting from that I will explore this (reminder: **Q618779** is the award)."
   ]
  },
  {
   "cell_type": "code",
   "execution_count": 26,
   "id": "926cd132-58fb-483d-9f71-d206e49ba3fe",
   "metadata": {},
   "outputs": [
    {
     "name": "stdout",
     "output_type": "stream",
     "text": [
      "Results\n",
      "[('sub', 'http://www.wikidata.org/entity/Q59999031'), ('name', 'Patriarch of Eritrea')]\n",
      "[('sub', 'http://www.wikidata.org/entity/Q16205759'), ('name', 'Bishop of Ross')]\n",
      "[('sub', 'http://www.wikidata.org/entity/Q13055631'), ('name', \"People's Writer of Bashkortostan\")]\n",
      "[('sub', 'http://www.wikidata.org/entity/Q6888520'), ('name', 'Moderator of the General Assembly')]\n",
      "[('sub', 'http://www.wikidata.org/entity/Q1788732'), ('name', 'Bulgarian Commemorative Medal for Balkan Wars')]\n",
      "[('sub', 'http://www.wikidata.org/entity/Q435017'), ('name', 'emeritus bishop')]\n",
      "[('sub', 'http://www.wikidata.org/entity/Q4768306'), ('name', 'Anne Elder Award')]\n",
      "[('sub', 'http://www.wikidata.org/entity/Q2011427'), ('name', 'Order of Bishop Platon')]\n",
      "[('sub', 'http://www.wikidata.org/entity/Q4828639'), ('name', 'Aviation Hall of Fame and Museum of New Jersey')]\n",
      "[('sub', 'http://www.wikidata.org/entity/Q1235107'), ('name', 'Finnish Hockey Hall of Fame')]\n"
     ]
    },
    {
     "data": {
      "text/plain": [
       "10"
      ]
     },
     "execution_count": 26,
     "metadata": {},
     "output_type": "execute_result"
    }
   ],
   "source": [
    "#example of these objects\n",
    "queryString = \"\"\"\n",
    "SELECT DISTINCT ?sub ?name\n",
    "WHERE {  \n",
    "?sub wdt:P31/wdt:P279* wd:Q618779 .\n",
    "\n",
    "    \n",
    "?sub sc:name ?name .\n",
    "} \n",
    "LIMIT 10\n",
    "\"\"\"\n",
    "\n",
    "print(\"Results\")\n",
    "run_query(queryString)"
   ]
  },
  {
   "cell_type": "code",
   "execution_count": 27,
   "id": "b9dc1bd7-59de-4006-ad2b-ad2fdc0e6577",
   "metadata": {},
   "outputs": [
    {
     "name": "stdout",
     "output_type": "stream",
     "text": [
      "Results\n",
      "[('awards', '7038')]\n"
     ]
    },
    {
     "data": {
      "text/plain": [
       "1"
      ]
     },
     "execution_count": 27,
     "metadata": {},
     "output_type": "execute_result"
    }
   ],
   "source": [
    "#just for curiosity verify how many different award exists\n",
    "queryString = \"\"\"\n",
    "SELECT COUNT(DISTINCT ?sub) AS ?awards\n",
    "WHERE {  \n",
    "?sub wdt:P279+ wd:Q618779 .\n",
    "} \n",
    "\"\"\"\n",
    "\n",
    "print(\"Results\")\n",
    "run_query(queryString)"
   ]
  },
  {
   "cell_type": "code",
   "execution_count": 28,
   "id": "1bb635cb-d415-4dbe-8606-24489d5df678",
   "metadata": {},
   "outputs": [
    {
     "name": "stdout",
     "output_type": "stream",
     "text": [
      "Results\n",
      "[('sp', 'http://www.wikidata.org/entity/Q59999031'), ('name', 'Patriarch of Eritrea')]\n",
      "[('sp', 'http://www.wikidata.org/entity/Q16205759'), ('name', 'Bishop of Ross')]\n",
      "[('sp', 'http://www.wikidata.org/entity/Q13055631'), ('name', \"People's Writer of Bashkortostan\")]\n",
      "[('sp', 'http://www.wikidata.org/entity/Q6888520'), ('name', 'Moderator of the General Assembly')]\n",
      "[('sp', 'http://www.wikidata.org/entity/Q1788732'), ('name', 'Bulgarian Commemorative Medal for Balkan Wars')]\n",
      "[('sp', 'http://www.wikidata.org/entity/Q435017'), ('name', 'emeritus bishop')]\n",
      "[('sp', 'http://www.wikidata.org/entity/Q4768306'), ('name', 'Anne Elder Award')]\n",
      "[('sp', 'http://www.wikidata.org/entity/Q2011427'), ('name', 'Order of Bishop Platon')]\n",
      "[('sp', 'http://www.wikidata.org/entity/Q4828639'), ('name', 'Aviation Hall of Fame and Museum of New Jersey')]\n",
      "[('sp', 'http://www.wikidata.org/entity/Q1235107'), ('name', 'Finnish Hockey Hall of Fame')]\n",
      "[('sp', 'http://www.wikidata.org/entity/Q2046452'), ('name', 'January 13th commemorative medal')]\n",
      "[('sp', 'http://www.wikidata.org/entity/Q2309070'), ('name', '1939–45 Star')]\n",
      "[('sp', 'http://www.wikidata.org/entity/Q81720231'), ('name', 'governor of Dalarna County')]\n",
      "[('sp', 'http://www.wikidata.org/entity/Q9062388'), ('name', 'Premi de la Crítica de poesia catalana')]\n",
      "[('sp', 'http://www.wikidata.org/entity/Q16145005'), ('name', 'Lord Marshal (Sweden)')]\n",
      "[('sp', 'http://www.wikidata.org/entity/Q21979729'), ('name', 'NATO medal for the former Yugoslavia')]\n",
      "[('sp', 'http://www.wikidata.org/entity/Q21979733'), ('name', 'NATO medal for Kosovo')]\n",
      "[('sp', 'http://www.wikidata.org/entity/Q21979737'), ('name', 'NATO medal for Macedonia')]\n",
      "[('sp', 'http://www.wikidata.org/entity/Q21979739'), ('name', 'NATO Article 5 medal for Operation Eagle Assist')]\n",
      "[('sp', 'http://www.wikidata.org/entity/Q21979740'), ('name', 'NATO Non-Article 5 medal for Pakistan')]\n"
     ]
    },
    {
     "data": {
      "text/plain": [
       "20"
      ]
     },
     "execution_count": 28,
     "metadata": {},
     "output_type": "execute_result"
    }
   ],
   "source": [
    "queryString = \"\"\"\n",
    "SELECT DISTINCT ?sp ?name\n",
    "WHERE {  \n",
    "?sub wdt:P279+ wd:Q618779 .\n",
    "?sp wdt:P31 ?sub.\n",
    "\n",
    "?sp sc:name ?name .\n",
    "} \n",
    "LIMIT 20\n",
    "\"\"\"\n",
    "\n",
    "print(\"Results\")\n",
    "run_query(queryString)"
   ]
  },
  {
   "cell_type": "code",
   "execution_count": 29,
   "id": "d9a92901-9382-4362-94ef-9d73f5142be2",
   "metadata": {},
   "outputs": [
    {
     "name": "stdout",
     "output_type": "stream",
     "text": [
      "Results\n",
      "[('pr', 'http://www.wikidata.org/prop/direct/P1346'), ('name', 'winner')]\n",
      "[('pr', 'http://www.wikidata.org/prop/direct/P580'), ('name', 'start time')]\n",
      "[('pr', 'http://www.wikidata.org/prop/direct/P585'), ('name', 'point in time')]\n",
      "[('pr', 'http://www.wikidata.org/prop/direct/P166'), ('name', 'award received')]\n",
      "[('pr', 'http://www.wikidata.org/prop/direct/P2348'), ('name', 'time period')]\n",
      "[('pr', 'http://www.wikidata.org/prop/direct/P3221'), ('name', 'New York Times topic ID')]\n",
      "[('pr', 'http://www.wikidata.org/prop/direct/P582'), ('name', 'end time')]\n",
      "[('pr', 'http://www.wikidata.org/prop/direct/P421'), ('name', 'located in time zone')]\n",
      "[('pr', 'http://www.wikidata.org/prop/direct/P190'), ('name', 'twinned administrative body')]\n",
      "[('pr', 'http://www.wikidata.org/prop/direct/P1249'), ('name', 'time of earliest written record')]\n",
      "[('pr', 'http://www.wikidata.org/prop/direct/P5719'), ('name', 'National Medal of Arts winner ID')]\n",
      "[('pr', 'http://www.wikidata.org/prop/direct/P7768'), ('name', 'Australian National Maritime Museum object ID')]\n",
      "[('pr', 'http://www.wikidata.org/prop/direct/P3451'), ('name', 'nighttime view')]\n",
      "[('pr', 'http://www.wikidata.org/prop/direct/P5252'), ('name', 'winter view')]\n",
      "[('pr', 'http://www.wikidata.org/prop/direct/P5586'), ('name', 'Times Higher Education World University ID')]\n"
     ]
    },
    {
     "data": {
      "text/plain": [
       "15"
      ]
     },
     "execution_count": 29,
     "metadata": {},
     "output_type": "execute_result"
    }
   ],
   "source": [
    "#look for property of these objects\n",
    "queryString = \"\"\"\n",
    "SELECT DISTINCT ?pr ?name\n",
    "WHERE {  \n",
    "?sub wdt:P279+ wd:Q618779 .\n",
    "?sp wdt:P31 ?sub;\n",
    "    ?pr ?o.\n",
    "\n",
    "    \n",
    "?pr sc:name ?name .\n",
    "FILTER(REGEX(?name,\"[T,t]ime\") OR REGEX(?name,\"[W,w]in\") OR REGEX(?name,\"[R,r]eceive\") )\n",
    "} \n",
    "LIMIT 50\n",
    "\"\"\"\n",
    "\n",
    "print(\"Results\")\n",
    "run_query(queryString)"
   ]
  },
  {
   "cell_type": "markdown",
   "id": "0f6f40a6-4434-4be5-9ceb-3c7fdd70f343",
   "metadata": {},
   "source": [
    "The interesting predicate are:\n",
    "- winner (`wdt:P1346`);\n",
    "- point in time (`wdt:P585`)."
   ]
  },
  {
   "cell_type": "code",
   "execution_count": 30,
   "id": "e4a0a7e0-05da-44e8-b203-bf467a4f7eb0",
   "metadata": {},
   "outputs": [
    {
     "name": "stdout",
     "output_type": "stream",
     "text": [
      "Results\n",
      "[('year', '1982'), ('award', 'Xabier Lizardi award'), ('name', 'minus sign')]\n",
      "[('year', '1982'), ('award', 'Xabier Lizardi award'), ('name', 'Arrate Egaña')]\n",
      "[('year', '1982'), ('award', 'Xabier Lizardi award'), ('name', 'Xabier Mendiguren Elizegi')]\n",
      "[('year', '1982'), ('award', 'Xabier Lizardi award'), ('name', 'Castillo Suárez')]\n",
      "[('year', '1982'), ('award', 'Xabier Lizardi award'), ('name', 'Ruben Ruiz')]\n",
      "[('year', '1982'), ('award', 'Xabier Lizardi award'), ('name', 'Leire Bilbao')]\n",
      "[('year', '1982'), ('award', 'Xabier Lizardi award'), ('name', 'Alaine Agirre')]\n",
      "[('year', '1982'), ('award', 'Xabier Lizardi award'), ('name', 'Nerea Arrien')]\n",
      "[('year', '1982'), ('award', 'Xabier Lizardi award'), ('name', 'Ramon Olasagasti Aiestaran')]\n",
      "[('year', '1982'), ('award', 'Xabier Lizardi award'), ('name', 'Oihane Fernandez')]\n",
      "[('year', '1982'), ('award', 'Xabier Lizardi award'), ('name', 'Idoia Etxeberria')]\n",
      "[('year', '1983'), ('award', 'Xabier Lizardi award'), ('name', 'minus sign')]\n",
      "[('year', '1983'), ('award', 'Xabier Lizardi award'), ('name', 'Arrate Egaña')]\n",
      "[('year', '1983'), ('award', 'Xabier Lizardi award'), ('name', 'Xabier Mendiguren Elizegi')]\n",
      "[('year', '1983'), ('award', 'Xabier Lizardi award'), ('name', 'Castillo Suárez')]\n",
      "[('year', '1983'), ('award', 'Xabier Lizardi award'), ('name', 'Ruben Ruiz')]\n",
      "[('year', '1983'), ('award', 'Xabier Lizardi award'), ('name', 'Leire Bilbao')]\n",
      "[('year', '1983'), ('award', 'Xabier Lizardi award'), ('name', 'Alaine Agirre')]\n",
      "[('year', '1983'), ('award', 'Xabier Lizardi award'), ('name', 'Nerea Arrien')]\n",
      "[('year', '1983'), ('award', 'Xabier Lizardi award'), ('name', 'Ramon Olasagasti Aiestaran')]\n",
      "[('year', '1983'), ('award', 'Xabier Lizardi award'), ('name', 'Oihane Fernandez')]\n",
      "[('year', '1983'), ('award', 'Xabier Lizardi award'), ('name', 'Idoia Etxeberria')]\n",
      "[('year', '1984'), ('award', 'Xabier Lizardi award'), ('name', 'minus sign')]\n",
      "[('year', '1984'), ('award', 'Xabier Lizardi award'), ('name', 'Arrate Egaña')]\n",
      "[('year', '1984'), ('award', 'Xabier Lizardi award'), ('name', 'Xabier Mendiguren Elizegi')]\n",
      "[('year', '1984'), ('award', 'Xabier Lizardi award'), ('name', 'Castillo Suárez')]\n",
      "[('year', '1984'), ('award', 'Xabier Lizardi award'), ('name', 'Ruben Ruiz')]\n",
      "[('year', '1984'), ('award', 'Xabier Lizardi award'), ('name', 'Leire Bilbao')]\n",
      "[('year', '1984'), ('award', 'Xabier Lizardi award'), ('name', 'Alaine Agirre')]\n",
      "[('year', '1984'), ('award', 'Xabier Lizardi award'), ('name', 'Nerea Arrien')]\n",
      "[('year', '1984'), ('award', 'Xabier Lizardi award'), ('name', 'Ramon Olasagasti Aiestaran')]\n",
      "[('year', '1984'), ('award', 'Xabier Lizardi award'), ('name', 'Oihane Fernandez')]\n",
      "[('year', '1984'), ('award', 'Xabier Lizardi award'), ('name', 'Idoia Etxeberria')]\n",
      "[('year', '1985'), ('award', 'Xabier Lizardi award'), ('name', 'minus sign')]\n",
      "[('year', '1985'), ('award', 'Xabier Lizardi award'), ('name', 'Arrate Egaña')]\n",
      "[('year', '1985'), ('award', 'Xabier Lizardi award'), ('name', 'Xabier Mendiguren Elizegi')]\n",
      "[('year', '1985'), ('award', 'Xabier Lizardi award'), ('name', 'Castillo Suárez')]\n",
      "[('year', '1985'), ('award', 'Xabier Lizardi award'), ('name', 'Ruben Ruiz')]\n",
      "[('year', '1985'), ('award', 'Xabier Lizardi award'), ('name', 'Leire Bilbao')]\n",
      "[('year', '1985'), ('award', 'Xabier Lizardi award'), ('name', 'Alaine Agirre')]\n",
      "[('year', '1985'), ('award', 'Xabier Lizardi award'), ('name', 'Nerea Arrien')]\n",
      "[('year', '1985'), ('award', 'Xabier Lizardi award'), ('name', 'Ramon Olasagasti Aiestaran')]\n",
      "[('year', '1985'), ('award', 'Xabier Lizardi award'), ('name', 'Oihane Fernandez')]\n",
      "[('year', '1985'), ('award', 'Xabier Lizardi award'), ('name', 'Idoia Etxeberria')]\n",
      "[('year', '1986'), ('award', 'Xabier Lizardi award'), ('name', 'minus sign')]\n",
      "[('year', '1986'), ('award', 'Xabier Lizardi award'), ('name', 'Arrate Egaña')]\n",
      "[('year', '1986'), ('award', 'Xabier Lizardi award'), ('name', 'Xabier Mendiguren Elizegi')]\n",
      "[('year', '1986'), ('award', 'Xabier Lizardi award'), ('name', 'Castillo Suárez')]\n",
      "[('year', '1986'), ('award', 'Xabier Lizardi award'), ('name', 'Ruben Ruiz')]\n",
      "[('year', '1986'), ('award', 'Xabier Lizardi award'), ('name', 'Leire Bilbao')]\n"
     ]
    },
    {
     "data": {
      "text/plain": [
       "50"
      ]
     },
     "execution_count": 30,
     "metadata": {},
     "output_type": "execute_result"
    }
   ],
   "source": [
    "queryString = \"\"\"\n",
    "SELECT DISTINCT ?year ?award ?name\n",
    "WHERE {  \n",
    "?sub wdt:P279+ wd:Q618779 .\n",
    "?sp wdt:P31 ?sub;\n",
    "    wdt:P585 ?o;\n",
    "    wdt:P1346 ?win.\n",
    "\n",
    "BIND(year(xsd:dateTime(?o)) AS ?year)\n",
    "\n",
    "?sp sc:name ?award .\n",
    "?win sc:name ?name .\n",
    "} \n",
    "ORDER BY ?year\n",
    "LIMIT 50\n",
    "\"\"\"\n",
    "\n",
    "print(\"Results\")\n",
    "run_query(queryString)"
   ]
  },
  {
   "cell_type": "markdown",
   "id": "f24c510a-8060-419c-807d-f8e61af22edd",
   "metadata": {},
   "source": [
    "Now print the result. I need also to match the nation (with the predicate `P17` and `P27`) and filter over the year > 2000"
   ]
  },
  {
   "cell_type": "code",
   "execution_count": 31,
   "id": "7666c1b4-29fd-4b09-9722-57a96c51a989",
   "metadata": {},
   "outputs": [
    {
     "name": "stdout",
     "output_type": "stream",
     "text": [
      "Results\n",
      "[('country', 'Spain'), ('awards', '166')]\n",
      "[('country', 'United States of America'), ('awards', '19')]\n",
      "[('country', 'Czech Republic'), ('awards', '17')]\n",
      "[('country', 'France'), ('awards', '6')]\n",
      "[('country', 'Chile'), ('awards', '6')]\n",
      "[('country', 'Czechoslovakia'), ('awards', '6')]\n",
      "[('country', 'United Kingdom'), ('awards', '6')]\n",
      "[('country', 'Germany'), ('awards', '5')]\n",
      "[('country', 'Finland'), ('awards', '3')]\n",
      "[('country', 'India'), ('awards', '3')]\n",
      "[('country', 'Romania'), ('awards', '2')]\n",
      "[('country', 'United Kingdom of Great Britain and Ireland'), ('awards', '2')]\n",
      "[('country', 'Liberia'), ('awards', '2')]\n",
      "[('country', 'Bangladesh'), ('awards', '2')]\n",
      "[('country', 'French'), ('awards', '2')]\n",
      "[('country', 'State of Palestine'), ('awards', '2')]\n",
      "[('country', 'Democratic Republic of the Congo'), ('awards', '1')]\n",
      "[('country', 'Italy'), ('awards', '1')]\n",
      "[('country', 'Pakistan'), ('awards', '1')]\n",
      "[('country', 'Iraq'), ('awards', '1')]\n",
      "[('country', 'Sweden'), ('awards', '1')]\n",
      "[('country', 'Egypt'), ('awards', '1')]\n",
      "[('country', 'Tunisia'), ('awards', '1')]\n",
      "[('country', 'Austria'), ('awards', '1')]\n",
      "[('country', 'Yemen'), ('awards', '1')]\n",
      "[('country', 'Kenya'), ('awards', '1')]\n",
      "[('country', 'Kenya Colony'), ('awards', '1')]\n",
      "[('country', 'Norway'), ('awards', '1')]\n",
      "[('country', 'Netherlands'), ('awards', '1')]\n",
      "[('country', 'Colombia'), ('awards', '1')]\n",
      "[('country', 'Iran'), ('awards', '1')]\n",
      "[('country', 'West Germany'), ('awards', '1')]\n",
      "[('country', 'Ghana'), ('awards', '1')]\n",
      "[('country', 'Ethiopia'), ('awards', '1')]\n"
     ]
    },
    {
     "data": {
      "text/plain": [
       "34"
      ]
     },
     "execution_count": 31,
     "metadata": {},
     "output_type": "execute_result"
    }
   ],
   "source": [
    "queryString = \"\"\"\n",
    "SELECT DISTINCT ?country (COUNT(*) AS ?awards)\n",
    "WHERE {  \n",
    "?sub wdt:P279+ wd:Q618779 .\n",
    "?sp wdt:P31 ?sub;\n",
    "    wdt:P585 ?o;\n",
    "    wdt:P1346 ?win.\n",
    "?win wdt:P27|wdt:P17 ?c.\n",
    "\n",
    "?c sc:name ?country .\n",
    "BIND(year(xsd:dateTime(?o)) AS ?year)\n",
    "FILTER (?year>2000)\n",
    "} \n",
    "GROUP BY ?c ?country\n",
    "ORDER BY DESC(?awards) \n",
    "LIMIT 50\n",
    "\"\"\"\n",
    "\n",
    "print(\"Results\")\n",
    "run_query(queryString)"
   ]
  },
  {
   "cell_type": "markdown",
   "id": "3f935ea6-8dff-4747-a7aa-f5a53e3582c8",
   "metadata": {},
   "source": [
    "#### Considerations\n",
    "The result shows that France won a lot of Nobel Prize compared to Italy and Iran. \n",
    "In the last 20 years spain won a lot of awards and in fact is the nation with more awards won."
   ]
  },
  {
   "cell_type": "markdown",
   "id": "9250a726-3c8b-4bb8-9df9-3499f9d7bd3d",
   "metadata": {
    "tags": []
   },
   "source": [
    "## Task 3\n",
    "Determine how many Literature nobel laureates have the following contries: Italy, Germany, France, Romania, Denmark, Iran, and China"
   ]
  },
  {
   "cell_type": "code",
   "execution_count": 32,
   "id": "7baa115e-0508-4b63-9821-fd4394f16882",
   "metadata": {},
   "outputs": [
    {
     "name": "stdout",
     "output_type": "stream",
     "text": [
      "Results\n",
      "[('c', 'http://www.wikidata.org/entity/Q148'), ('country', \"People's Republic of China\")]\n",
      "[('c', 'http://www.wikidata.org/entity/Q107312248'), ('country', 'Republic of China')]\n",
      "[('c', 'http://www.wikidata.org/entity/Q794'), ('country', 'Iran')]\n",
      "[('c', 'http://www.wikidata.org/entity/Q107258515'), ('country', 'Pahlavi Iran')]\n",
      "[('c', 'http://www.wikidata.org/entity/Q35'), ('country', 'Denmark')]\n",
      "[('c', 'http://www.wikidata.org/entity/Q218'), ('country', 'Romania')]\n",
      "[('c', 'http://www.wikidata.org/entity/Q142'), ('country', 'France')]\n",
      "[('c', 'http://www.wikidata.org/entity/Q183'), ('country', 'Germany')]\n",
      "[('c', 'http://www.wikidata.org/entity/Q7318'), ('country', 'Nazi Germany')]\n",
      "[('c', 'http://www.wikidata.org/entity/Q38'), ('country', 'Italy')]\n"
     ]
    },
    {
     "data": {
      "text/plain": [
       "10"
      ]
     },
     "execution_count": 32,
     "metadata": {},
     "output_type": "execute_result"
    }
   ],
   "source": [
    "#starting look at the country of interest\n",
    "queryString = \"\"\"\n",
    "SELECT DISTINCT ?c ?country\n",
    "WHERE{ \n",
    "    wd:Q38 wdt:P31 ?o . \n",
    "    ?c wdt:P31 ?o.\n",
    "    ?c sc:name ?country .\n",
    "    ?o sc:name ?obj .\n",
    "    FILTER(REGEX(?country, \"[I,i]taly\") OR REGEX(?country, \"[G,g]ermany\") OR REGEX(?country, \"[F,f]rance\") \n",
    "    OR REGEX(?country, \"[R,r]omania\") OR REGEX(?country, \"[D,d]enmark\") OR REGEX(?country, \"[I,i]ran\") \n",
    "    OR REGEX(?country, \"[C,c]hina\") )\n",
    "    \n",
    "}\n",
    "LIMIT 20\n",
    "\"\"\"\n",
    "\n",
    "print(\"Results\")\n",
    "run_query(queryString)"
   ]
  },
  {
   "cell_type": "markdown",
   "id": "b00375aa-388b-4e5b-8e81-4621a167c0aa",
   "metadata": {},
   "source": [
    "Put the pattern above inside the next query to filter the country of interest"
   ]
  },
  {
   "cell_type": "code",
   "execution_count": 33,
   "id": "1f212582-5ee8-4fc8-82f8-594df92430fb",
   "metadata": {},
   "outputs": [
    {
     "name": "stdout",
     "output_type": "stream",
     "text": [
      "Results\n",
      "[('country', 'France'), ('count', '34')]\n",
      "[('country', 'Denmark'), ('count', '8')]\n",
      "[('country', 'Italy'), ('count', '6')]\n",
      "[('country', 'Germany'), ('count', '6')]\n",
      "[('country', \"People's Republic of China\"), ('count', '4')]\n",
      "[('country', 'Romania'), ('count', '2')]\n",
      "[('country', 'Nazi Germany'), ('count', '1')]\n"
     ]
    },
    {
     "data": {
      "text/plain": [
       "7"
      ]
     },
     "execution_count": 33,
     "metadata": {},
     "output_type": "execute_result"
    }
   ],
   "source": [
    "queryString = \"\"\"\n",
    "SELECT DISTINCT ?country (COUNT(*) AS ?count)\n",
    "WHERE {   \n",
    "?p wdt:P166 wd:Q37922;\n",
    "    wdt:P27 ?c.\n",
    "#part related to the country\n",
    "wd:Q38 wdt:P31 ?o . \n",
    "?c wdt:P31 ?o.\n",
    "?c sc:name ?country .\n",
    "FILTER(REGEX(?country, \"[I,i]taly\") OR REGEX(?country, \"[G,g]ermany\") OR REGEX(?country, \"[F,f]rance\") \n",
    "    OR REGEX(?country, \"[R,r]omania\") OR REGEX(?country, \"[D,d]enmark\") OR REGEX(?country, \"[I,i]ran\") \n",
    "    OR REGEX(?country, \"[C,c]hina\") )    \n",
    "}\n",
    "GROUP BY ?c ?country\n",
    "ORDER BY DESC(?count) \n",
    "\"\"\"\n",
    "\n",
    "print(\"Results\")\n",
    "run_query(queryString)"
   ]
  },
  {
   "cell_type": "markdown",
   "id": "d894ec1e-323d-41dd-b2ca-7280ddeb6361",
   "metadata": {},
   "source": [
    "Since there are one people that has `wdt:P27` Nazi Germany I want to understand if there is a duplicate of a people that is also a German people"
   ]
  },
  {
   "cell_type": "code",
   "execution_count": 34,
   "id": "1ea20a20-038c-4019-901d-295f235ca6f0",
   "metadata": {},
   "outputs": [
    {
     "name": "stdout",
     "output_type": "stream",
     "text": [
      "Results\n",
      "[('people', 'Nelly Sachs'), ('country', 'Germany')]\n",
      "[('people', 'Hermann Hesse'), ('country', 'Germany')]\n",
      "[('people', 'Heinrich Böll'), ('country', 'Germany')]\n",
      "[('people', 'Günter Grass'), ('country', 'Germany')]\n",
      "[('people', 'Herta Müller'), ('country', 'Germany')]\n",
      "[('people', 'Rudolf Christoph Eucken'), ('country', 'Germany')]\n",
      "[('people', 'Thomas Mann'), ('country', 'Nazi Germany')]\n"
     ]
    },
    {
     "data": {
      "text/plain": [
       "7"
      ]
     },
     "execution_count": 34,
     "metadata": {},
     "output_type": "execute_result"
    }
   ],
   "source": [
    "queryString = \"\"\"\n",
    "SELECT DISTINCT ?people ?country\n",
    "WHERE {   \n",
    "?p wdt:P166 wd:Q37922;\n",
    "    wdt:P27 ?c.\n",
    "#part related to the country\n",
    "wd:Q38 wdt:P31 ?o . \n",
    "?c wdt:P31 ?o.\n",
    "?c sc:name ?country .\n",
    "?p sc:name ?people .\n",
    "FILTER( REGEX(?country, \"[G,g]ermany\"))\n",
    "}\n",
    "\"\"\"\n",
    "\n",
    "print(\"Results\")\n",
    "run_query(queryString)"
   ]
  },
  {
   "cell_type": "markdown",
   "id": "b9ceba26-28d4-4020-a976-df2c554fe938",
   "metadata": {},
   "source": [
    "#### Considerations\n",
    "France dominated this field on Nobel price since most of the winners are french. But Denmark is a very surprise!"
   ]
  },
  {
   "cell_type": "markdown",
   "id": "d68db2b1-dc41-4f60-b9b9-3fd86fcc8ee5",
   "metadata": {
    "tags": []
   },
   "source": [
    "## Task 4 \n",
    "How many Literature Nobel award winners have a PhD (aka Doctorate of Philosophy) (you may check if they have a doctoral advisor)?"
   ]
  },
  {
   "cell_type": "code",
   "execution_count": 35,
   "id": "af5766c0-e353-4195-a1d4-a70dbecd5368",
   "metadata": {},
   "outputs": [
    {
     "name": "stdout",
     "output_type": "stream",
     "text": [
      "Results\n",
      "[('pr', 'http://www.wikidata.org/prop/direct/P184'), ('name', 'doctoral advisor')]\n",
      "[('pr', 'http://www.wikidata.org/prop/direct/P185'), ('name', 'doctoral student')]\n",
      "[('pr', 'http://www.wikidata.org/prop/direct/P5459'), ('name', 'RHE doctor ID')]\n"
     ]
    },
    {
     "data": {
      "text/plain": [
       "3"
      ]
     },
     "execution_count": 35,
     "metadata": {},
     "output_type": "execute_result"
    }
   ],
   "source": [
    "#look for a predicate similar to doctoral\n",
    "queryString = \"\"\"\n",
    "SELECT DISTINCT ?pr ?name\n",
    "WHERE {   \n",
    "?p wdt:P166 wd:Q37922 ;\n",
    "    ?pr ?o.\n",
    "\n",
    "?pr sc:name ?name .\n",
    "FILTER(REGEX(?name,\"[d,D]octor\"))\n",
    "}\n",
    "\"\"\"\n",
    "\n",
    "print(\"Results\")\n",
    "run_query(queryString)"
   ]
  },
  {
   "cell_type": "markdown",
   "id": "85617ce4-8962-4fe1-a79d-f15c060da9b8",
   "metadata": {},
   "source": [
    "Found `wdt:P184` that is 'doctoral advisor'. Now let see some object of these triple to understand what is."
   ]
  },
  {
   "cell_type": "code",
   "execution_count": 36,
   "id": "d699a04b-741e-494f-a238-cdab954b8113",
   "metadata": {},
   "outputs": [
    {
     "name": "stdout",
     "output_type": "stream",
     "text": [
      "Results\n",
      "[('winner', 'Bertrand Russell'), ('advisor', 'Alfred North Whitehead')]\n",
      "[('winner', 'Rudolf Christoph Eucken'), ('advisor', 'Friedrich Adolf Trendelenburg')]\n"
     ]
    },
    {
     "data": {
      "text/plain": [
       "2"
      ]
     },
     "execution_count": 36,
     "metadata": {},
     "output_type": "execute_result"
    }
   ],
   "source": [
    "#find who have an advisor\n",
    "queryString = \"\"\"\n",
    "SELECT DISTINCT ?winner ?advisor\n",
    "WHERE {   \n",
    "?p wdt:P166 wd:Q37922 ;\n",
    "    wdt:P184 ?o.\n",
    "\n",
    "?o sc:name ?advisor .\n",
    "?p sc:name ?winner .\n",
    "}\n",
    "\"\"\"\n",
    "\n",
    "print(\"Results\")\n",
    "run_query(queryString)"
   ]
  },
  {
   "cell_type": "markdown",
   "id": "719ad8ea-8a26-4163-9636-6694e0041a81",
   "metadata": {},
   "source": [
    "Only two of the winners of a Literature Nobel Prize have a doctoral advisor. Let's print some numbers for comparisons"
   ]
  },
  {
   "cell_type": "code",
   "execution_count": 37,
   "id": "c75a5da5-1bb7-4602-b165-59b6eb0b97d2",
   "metadata": {},
   "outputs": [
    {
     "name": "stdout",
     "output_type": "stream",
     "text": [
      "Results\n",
      "[('phd', '2'), ('total', '118'), ('percentage', '1.694915294647217%')]\n"
     ]
    },
    {
     "data": {
      "text/plain": [
       "1"
      ]
     },
     "execution_count": 37,
     "metadata": {},
     "output_type": "execute_result"
    }
   ],
   "source": [
    "#find who have an advisor\n",
    "queryString = \"\"\"\n",
    "SELECT ?phd ?total ?percentage\n",
    "WHERE{\n",
    "    {\n",
    "        SELECT COUNT(DISTINCT ?p) AS ?phd\n",
    "        WHERE {   \n",
    "        ?p wdt:P166 wd:Q37922 ;\n",
    "            wdt:P184 ?o.\n",
    "        }\n",
    "    }\n",
    "    {\n",
    "        SELECT COUNT(DISTINCT ?p) AS ?total \n",
    "        WHERE {   \n",
    "        ?p wdt:P166 wd:Q37922.\n",
    "        }\n",
    "    }\n",
    "    BIND( concat((xsd:float(?phd) / xsd:float(?total) * xsd:float(100) ),\"%\") AS ?percentage)\n",
    "}\n",
    "\"\"\"\n",
    "\n",
    "print(\"Results\")\n",
    "run_query(queryString)"
   ]
  },
  {
   "cell_type": "markdown",
   "id": "db2bba85-eb66-4ce1-8e63-40f9a0e13cd6",
   "metadata": {},
   "source": [
    "#### Considerations\n",
    "I found that in our database there are only two people that have a doctoral advisor."
   ]
  },
  {
   "cell_type": "markdown",
   "id": "a8f5ad61-36fd-4195-a288-15d7b139559e",
   "metadata": {
    "tags": []
   },
   "source": [
    "## Task 5\n",
    "Are there books from Litarature Nobel Award winners which are not present in the Vatican Library? (if so, who is the author with more books not in the Vatical Library)?"
   ]
  },
  {
   "cell_type": "code",
   "execution_count": 38,
   "id": "f8bebd96-89ff-4eae-ba9f-c6fb4a912d6a",
   "metadata": {},
   "outputs": [
    {
     "name": "stdout",
     "output_type": "stream",
     "text": [
      "Results\n",
      "[('pr', 'http://www.wikidata.org/prop/direct/P800'), ('name', 'notable work')]\n",
      "[('pr', 'http://www.wikidata.org/prop/direct/P793'), ('name', 'significant event')]\n",
      "[('pr', 'http://www.wikidata.org/prop/direct/P1343'), ('name', 'described by source')]\n",
      "[('pr', 'http://www.wikidata.org/prop/direct/P485'), ('name', 'archives at')]\n",
      "[('pr', 'http://www.wikidata.org/prop/direct/P463'), ('name', 'member of')]\n",
      "[('pr', 'http://www.wikidata.org/prop/direct/P136'), ('name', 'genre')]\n",
      "[('pr', 'http://www.wikidata.org/prop/direct/P101'), ('name', 'field of work')]\n"
     ]
    },
    {
     "data": {
      "text/plain": [
       "7"
      ]
     },
     "execution_count": 38,
     "metadata": {},
     "output_type": "execute_result"
    }
   ],
   "source": [
    "#look for predicate related to book from a winner of a literature nobel prize\n",
    "queryString = \"\"\"\n",
    "SELECT DISTINCT ?pr ?name\n",
    "WHERE {   \n",
    "?p wdt:P166 wd:Q37922 ;\n",
    "    ?pr ?o.\n",
    "?o wdt:P31 ?b.\n",
    "\n",
    "?pr sc:name ?name .\n",
    "?b sc:name ?book .\n",
    "FILTER(REGEX(?book,\"[B,b]ook\"))\n",
    "}\n",
    "\"\"\"\n",
    "\n",
    "print(\"Results\")\n",
    "run_query(queryString)"
   ]
  },
  {
   "cell_type": "code",
   "execution_count": 39,
   "id": "c1c83a0d-5caa-45b9-987d-2d88e3c0d45f",
   "metadata": {},
   "outputs": [
    {
     "name": "stdout",
     "output_type": "stream",
     "text": [
      "Results\n",
      "[('pr', 'http://www.wikidata.org/prop/direct/P170'), ('name', 'creator')]\n",
      "[('pr', 'http://www.wikidata.org/prop/direct/P50'), ('name', 'author')]\n",
      "[('pr', 'http://www.wikidata.org/prop/direct/P527'), ('name', 'has part')]\n",
      "[('pr', 'http://www.wikidata.org/prop/direct/P674'), ('name', 'characters')]\n",
      "[('pr', 'http://www.wikidata.org/prop/direct/P921'), ('name', 'main subject')]\n",
      "[('pr', 'http://www.wikidata.org/prop/direct/P2679'), ('name', 'author of foreword')]\n"
     ]
    },
    {
     "data": {
      "text/plain": [
       "6"
      ]
     },
     "execution_count": 39,
     "metadata": {},
     "output_type": "execute_result"
    }
   ],
   "source": [
    "#look for predicate related to book from a winner of a literature nobel prize\n",
    "queryString = \"\"\"\n",
    "SELECT DISTINCT ?pr ?name\n",
    "WHERE {   \n",
    "?p wdt:P166 wd:Q37922 .\n",
    "?o ?pr ?p.\n",
    "?o wdt:P31 ?b.\n",
    "\n",
    "?pr sc:name ?name .\n",
    "?b sc:name ?book .\n",
    "FILTER(REGEX(?book,\"[B,b]ook\"))\n",
    "}\n",
    "\"\"\"\n",
    "\n",
    "print(\"Results\")\n",
    "run_query(queryString)"
   ]
  },
  {
   "cell_type": "code",
   "execution_count": 40,
   "id": "a9396d53-cf6b-46ca-9bc3-ea606b909921",
   "metadata": {},
   "outputs": [
    {
     "name": "stdout",
     "output_type": "stream",
     "text": [
      "Results\n",
      "[('b', 'http://www.wikidata.org/entity/Q1062404'), ('book', \"artist's book\")]\n",
      "[('b', 'http://www.wikidata.org/entity/Q254554'), ('book', 'picture book')]\n",
      "[('b', 'http://www.wikidata.org/entity/Q277759'), ('book', 'book series')]\n",
      "[('b', 'http://www.wikidata.org/entity/Q571'), ('book', 'book')]\n",
      "[('b', 'http://www.wikidata.org/entity/Q128093'), ('book', 'e-book')]\n",
      "[('b', 'http://www.wikidata.org/entity/Q53731850'), ('book', 'individual copy of a book')]\n",
      "[('b', 'http://www.wikidata.org/entity/Q22759'), ('book', 'book censorship')]\n",
      "[('b', 'http://www.wikidata.org/entity/Q2831984'), ('book', 'comic book album')]\n",
      "[('b', 'http://www.wikidata.org/entity/Q20540385'), ('book', 'non-fiction book')]\n"
     ]
    },
    {
     "data": {
      "text/plain": [
       "9"
      ]
     },
     "execution_count": 40,
     "metadata": {},
     "output_type": "execute_result"
    }
   ],
   "source": [
    "#look for the object book\n",
    "queryString = \"\"\"\n",
    "SELECT DISTINCT ?b ?book\n",
    "WHERE {   \n",
    "?p wdt:P166 wd:Q37922 .\n",
    "?o ?pr ?p.\n",
    "?o wdt:P31 ?b.\n",
    "\n",
    "?pr sc:name ?name .\n",
    "?b sc:name ?book .\n",
    "FILTER(REGEX(?book,\"[B,b]ook\"))\n",
    "}\n",
    "\"\"\"\n",
    "\n",
    "print(\"Results\")\n",
    "run_query(queryString)"
   ]
  },
  {
   "cell_type": "markdown",
   "id": "003984ee-13fa-4635-923f-34286ae0fb49",
   "metadata": {},
   "source": [
    "Found the predicate author (`wdt:P50`) and the object book (`wd:Q571`). Let's print some (author,book)"
   ]
  },
  {
   "cell_type": "code",
   "execution_count": 41,
   "id": "4da98300-0abd-412a-a17f-693cad5d3905",
   "metadata": {},
   "outputs": [
    {
     "name": "stdout",
     "output_type": "stream",
     "text": [
      "Results\n",
      "[('author', 'Yasunari Kawabata'), ('book', 'Palm-of-the-Hand Stories')]\n",
      "[('author', 'Olga Tokarczuk'), ('book', 'The Lost Soul')]\n",
      "[('author', 'Knut Hamsun'), ('book', 'Hunger')]\n",
      "[('author', 'Mario Vargas Llosa'), ('book', 'The Time of the Hero')]\n",
      "[('author', 'Nadine Gordimer'), ('book', 'The Lying Days')]\n",
      "[('author', 'Frédéric Mistral'), ('book', 'Lou Tresor dóu Felibrige')]\n",
      "[('author', 'Olga Tokarczuk'), ('book', 'E.E.')]\n",
      "[('author', 'Gabriel García Márquez'), ('book', 'Chronicle of a Death Foretold')]\n",
      "[('author', 'Patrick Modiano'), ('book', 'Missing Person')]\n",
      "[('author', 'Najib Mahfouz'), ('book', 'Arabian Nights and Days')]\n"
     ]
    },
    {
     "data": {
      "text/plain": [
       "10"
      ]
     },
     "execution_count": 41,
     "metadata": {},
     "output_type": "execute_result"
    }
   ],
   "source": [
    "#look for predicate related to book from a winner of a literature nobel prize\n",
    "queryString = \"\"\"\n",
    "SELECT DISTINCT ?author ?book\n",
    "WHERE {   \n",
    "?p wdt:P166 wd:Q37922 .\n",
    "?o wdt:P50 ?p.\n",
    "?o wdt:P31/wdt:P279* wd:Q571.\n",
    "\n",
    "?p sc:name ?author .\n",
    "?o sc:name ?book .\n",
    "}\n",
    "LIMIT 10\n",
    "\"\"\"\n",
    "\n",
    "print(\"Results\")\n",
    "run_query(queryString)"
   ]
  },
  {
   "cell_type": "markdown",
   "id": "5f03ee10-91d2-40e4-b655-556ed8bf8cef",
   "metadata": {},
   "source": [
    "Now let's find the relation from book and vatican library (`wd:Q213678`)"
   ]
  },
  {
   "cell_type": "code",
   "execution_count": 42,
   "id": "6430e664-d069-45cb-9cb7-0a47382f12c3",
   "metadata": {},
   "outputs": [
    {
     "name": "stdout",
     "output_type": "stream",
     "text": [
      "Results\n",
      "[('pr', 'http://www.wikidata.org/prop/direct/P5505'), ('name', 'WorldCat Registry ID')]\n",
      "[('pr', 'http://www.wikidata.org/prop/direct/P1005'), ('name', 'Portuguese National Library ID')]\n",
      "[('pr', 'http://www.wikidata.org/prop/direct/P1015'), ('name', 'NORAF ID')]\n",
      "[('pr', 'http://www.wikidata.org/prop/direct/P1017'), ('name', 'Vatican Library ID (former scheme)')]\n",
      "[('pr', 'http://www.wikidata.org/prop/direct/P1037'), ('name', 'director / manager')]\n",
      "[('pr', 'http://www.wikidata.org/prop/direct/P1207'), ('name', 'NUKAT ID')]\n",
      "[('pr', 'http://www.wikidata.org/prop/direct/P1273'), ('name', 'CANTIC ID')]\n",
      "[('pr', 'http://www.wikidata.org/prop/direct/P1296'), ('name', 'Gran Enciclopèdia Catalana ID')]\n",
      "[('pr', 'http://www.wikidata.org/prop/direct/P131'), ('name', 'located in the administrative territorial entity')]\n",
      "[('pr', 'http://www.wikidata.org/prop/direct/P1343'), ('name', 'described by source')]\n",
      "[('pr', 'http://www.wikidata.org/prop/direct/P1417'), ('name', 'Encyclopædia Britannica Online ID')]\n",
      "[('pr', 'http://www.wikidata.org/prop/direct/P1612'), ('name', 'Commons Institution page')]\n",
      "[('pr', 'http://www.wikidata.org/prop/direct/P1687'), ('name', 'Wikidata property')]\n",
      "[('pr', 'http://www.wikidata.org/prop/direct/P17'), ('name', 'country')]\n",
      "[('pr', 'http://www.wikidata.org/prop/direct/P18'), ('name', 'image')]\n",
      "[('pr', 'http://www.wikidata.org/prop/direct/P213'), ('name', 'ISNI')]\n",
      "[('pr', 'http://www.wikidata.org/prop/direct/P214'), ('name', 'VIAF ID')]\n",
      "[('pr', 'http://www.wikidata.org/prop/direct/P2163'), ('name', 'FAST ID')]\n",
      "[('pr', 'http://www.wikidata.org/prop/direct/P227'), ('name', 'GND ID')]\n",
      "[('pr', 'http://www.wikidata.org/prop/direct/P2388'), ('name', 'office held by head of the organization')]\n",
      "[('pr', 'http://www.wikidata.org/prop/direct/P244'), ('name', 'Library of Congress authority ID')]\n",
      "[('pr', 'http://www.wikidata.org/prop/direct/P245'), ('name', 'Union List of Artist Names ID')]\n",
      "[('pr', 'http://www.wikidata.org/prop/direct/P2581'), ('name', 'BabelNet ID')]\n",
      "[('pr', 'http://www.wikidata.org/prop/direct/P268'), ('name', 'Bibliothèque nationale de France ID')]\n",
      "[('pr', 'http://www.wikidata.org/prop/direct/P269'), ('name', 'IdRef ID')]\n",
      "[('pr', 'http://www.wikidata.org/prop/direct/P2924'), ('name', 'Great Russian Encyclopedia Online ID')]\n",
      "[('pr', 'http://www.wikidata.org/prop/direct/P31'), ('name', 'instance of')]\n",
      "[('pr', 'http://www.wikidata.org/prop/direct/P349'), ('name', 'National Diet Library ID')]\n",
      "[('pr', 'http://www.wikidata.org/prop/direct/P3500'), ('name', 'Ringgold ID')]\n",
      "[('pr', 'http://www.wikidata.org/prop/direct/P373'), ('name', 'Commons category')]\n",
      "[('pr', 'http://www.wikidata.org/prop/direct/P3749'), ('name', 'Google Maps Customer ID')]\n",
      "[('pr', 'http://www.wikidata.org/prop/direct/P3762'), ('name', 'openMLOL author ID')]\n",
      "[('pr', 'http://www.wikidata.org/prop/direct/P3987'), ('name', 'SHARE Catalogue author ID')]\n",
      "[('pr', 'http://www.wikidata.org/prop/direct/P409'), ('name', 'Libraries Australia ID')]\n",
      "[('pr', 'http://www.wikidata.org/prop/direct/P463'), ('name', 'member of')]\n",
      "[('pr', 'http://www.wikidata.org/prop/direct/P4808'), ('name', 'Royal Academy new identifier')]\n",
      "[('pr', 'http://www.wikidata.org/prop/direct/P5587'), ('name', 'Libris-URI')]\n",
      "[('pr', 'http://www.wikidata.org/prop/direct/P571'), ('name', 'inception')]\n",
      "[('pr', 'http://www.wikidata.org/prop/direct/P5739'), ('name', 'Pontificia Università della Santa Croce ID')]\n",
      "[('pr', 'http://www.wikidata.org/prop/direct/P646'), ('name', 'Freebase ID')]\n",
      "[('pr', 'http://www.wikidata.org/prop/direct/P6698'), ('name', 'Japan Search name ID')]\n",
      "[('pr', 'http://www.wikidata.org/prop/direct/P6706'), ('name', 'De Agostini ID')]\n",
      "[('pr', 'http://www.wikidata.org/prop/direct/P691'), ('name', 'NKCR AUT ID')]\n",
      "[('pr', 'http://www.wikidata.org/prop/direct/P7859'), ('name', 'WorldCat Identities ID')]\n",
      "[('pr', 'http://www.wikidata.org/prop/direct/P7865'), ('name', 'CoBiS author ID')]\n",
      "[('pr', 'http://www.wikidata.org/prop/direct/P791'), ('name', 'ISIL')]\n",
      "[('pr', 'http://www.wikidata.org/prop/direct/P8034'), ('name', 'Vatican Library VcBA ID')]\n",
      "[('pr', 'http://www.wikidata.org/prop/direct/P856'), ('name', 'official website')]\n",
      "[('pr', 'http://www.wikidata.org/prop/direct/P9037'), ('name', 'BHCL UUID')]\n",
      "[('pr', 'http://www.wikidata.org/prop/direct/P906'), ('name', 'SELIBR ID')]\n",
      "[('pr', 'http://www.wikidata.org/prop/direct/P910'), ('name', \"topic's main category\")]\n",
      "[('pr', 'http://www.wikidata.org/prop/direct/P9226'), ('name', 'ARAE ID')]\n",
      "[('pr', 'http://www.wikidata.org/prop/direct/P949'), ('name', 'National Library of Israel ID')]\n",
      "[('pr', 'http://www.wikidata.org/prop/direct/P950'), ('name', 'Biblioteca Nacional de España ID')]\n",
      "[('pr', 'http://www.wikidata.org/prop/direct/P9522'), ('name', 'Biblioteca di Santa Sabina ID')]\n",
      "[('pr', 'http://www.wikidata.org/prop/direct/P9661'), ('name', 'EBAF authority ID')]\n",
      "[('pr', 'http://www.wikidata.org/prop/direct/P973'), ('name', 'described at URL')]\n",
      "[('pr', 'http://www.wikidata.org/prop/direct/P9756'), ('name', 'Schoenberg Database of Manuscripts name ID')]\n",
      "[('pr', 'http://www.wikidata.org/prop/direct/P3234'), ('name', 'Code List for Cultural Heritage Organizations')]\n",
      "[('pr', 'http://www.wikidata.org/prop/direct/P4848'), ('name', 'Libraries.org ID')]\n"
     ]
    },
    {
     "data": {
      "text/plain": [
       "60"
      ]
     },
     "execution_count": 42,
     "metadata": {},
     "output_type": "execute_result"
    }
   ],
   "source": [
    "#look for predicate related to book from a winner of a literature nobel prize\n",
    "queryString = \"\"\"\n",
    "SELECT DISTINCT ?pr ?name\n",
    "WHERE {   \n",
    " wd:Q213678 ?pr ?p.\n",
    "\n",
    "?pr sc:name ?name .\n",
    "}\n",
    "LIMIT 100\n",
    "\"\"\"\n",
    "\n",
    "print(\"Results\")\n",
    "run_query(queryString)"
   ]
  },
  {
   "cell_type": "code",
   "execution_count": 43,
   "id": "28c7e373-742a-4a63-85e9-a6a731329629",
   "metadata": {},
   "outputs": [
    {
     "name": "stdout",
     "output_type": "stream",
     "text": [
      "Results\n",
      "[('pr', 'http://www.wikidata.org/prop/direct/P2389'), ('name', 'organization directed by the office or position')]\n",
      "[('pr', 'http://www.wikidata.org/prop/direct/P9419'), ('name', 'personal library at')]\n",
      "[('pr', 'http://www.wikidata.org/prop/direct/P108'), ('name', 'employer')]\n",
      "[('pr', 'http://www.wikidata.org/prop/direct/P127'), ('name', 'owned by')]\n",
      "[('pr', 'http://www.wikidata.org/prop/direct/P137'), ('name', 'operator')]\n",
      "[('pr', 'http://www.wikidata.org/prop/direct/P1416'), ('name', 'affiliation')]\n",
      "[('pr', 'http://www.wikidata.org/prop/direct/P189'), ('name', 'location of discovery')]\n",
      "[('pr', 'http://www.wikidata.org/prop/direct/P195'), ('name', 'collection')]\n",
      "[('pr', 'http://www.wikidata.org/prop/direct/P276'), ('name', 'location')]\n",
      "[('pr', 'http://www.wikidata.org/prop/direct/P301'), ('name', \"category's main topic\")]\n",
      "[('pr', 'http://www.wikidata.org/prop/direct/P361'), ('name', 'part of')]\n",
      "[('pr', 'http://www.wikidata.org/prop/direct/P485'), ('name', 'archives at')]\n",
      "[('pr', 'http://www.wikidata.org/prop/direct/P5869'), ('name', 'model item')]\n",
      "[('pr', 'http://www.wikidata.org/prop/direct/P921'), ('name', 'main subject')]\n",
      "[('pr', 'http://www.wikidata.org/prop/direct/P971'), ('name', 'category combines topics')]\n",
      "[('pr', 'http://www.wikidata.org/prop/direct/P2378'), ('name', 'issued by')]\n",
      "[('pr', 'http://www.wikidata.org/prop/direct/P1629'), ('name', 'Wikidata item of this property')]\n",
      "[('pr', 'http://www.wikidata.org/prop/direct/P1855'), ('name', 'Wikidata property example')]\n"
     ]
    },
    {
     "data": {
      "text/plain": [
       "18"
      ]
     },
     "execution_count": 43,
     "metadata": {},
     "output_type": "execute_result"
    }
   ],
   "source": [
    "#look for predicate related to book from a winner of a literature nobel prize\n",
    "queryString = \"\"\"\n",
    "SELECT DISTINCT ?pr ?name\n",
    "WHERE {   \n",
    "?p ?pr wd:Q213678 .\n",
    "\n",
    "?pr sc:name ?name .\n",
    "}\n",
    "LIMIT 100\n",
    "\"\"\"\n",
    "\n",
    "print(\"Results\")\n",
    "run_query(queryString)"
   ]
  },
  {
   "cell_type": "markdown",
   "id": "96b7ee89-2bee-4092-b3ac-0712512d6ba4",
   "metadata": {},
   "source": [
    "The property collection (`wdt:P195`) gives me all the book in the vatican library"
   ]
  },
  {
   "cell_type": "code",
   "execution_count": 44,
   "id": "9fef8e6b-45cb-4675-b737-b59bd5182c4e",
   "metadata": {},
   "outputs": [
    {
     "name": "stdout",
     "output_type": "stream",
     "text": [
      "Results\n",
      "[('p', 'http://www.wikidata.org/entity/Q17174857'), ('name', 'Bibbia di Federico da Montefeltro - BAV Urb.Lat.1&2')]\n",
      "[('p', 'http://www.wikidata.org/entity/Q209285'), ('name', 'Codex Vaticanus')]\n",
      "[('p', 'http://www.wikidata.org/entity/Q1806588'), ('name', 'Lasimos Krater')]\n",
      "[('p', 'http://www.wikidata.org/entity/Q664820'), ('name', 'Bodmer Papyri')]\n",
      "[('p', 'http://www.wikidata.org/entity/Q1106341'), ('name', 'Codex Vaticanus Graecus 64')]\n",
      "[('p', 'http://www.wikidata.org/entity/Q3592714'), ('name', 'Barberini Gospels')]\n",
      "[('p', 'http://www.wikidata.org/entity/Q16653651'), ('name', 'Divina Commedia de Federigo da Montefeltro - BAVaticana UrbLat365')]\n",
      "[('p', 'http://www.wikidata.org/entity/Q903320'), ('name', 'Book of Dede Korkut')]\n",
      "[('p', 'http://www.wikidata.org/entity/Q101438843'), ('name', 'Rossiana Library')]\n",
      "[('p', 'http://www.wikidata.org/entity/Q1531846'), ('name', 'Vergilius Vaticanus')]\n",
      "[('p', 'http://www.wikidata.org/entity/Q1937608'), ('name', 'Minuscule 131')]\n",
      "[('p', 'http://www.wikidata.org/entity/Q338714'), ('name', 'Anjou Legendarium')]\n",
      "[('p', 'http://www.wikidata.org/entity/Q774565'), ('name', 'Codex Vaticanus 354')]\n",
      "[('p', 'http://www.wikidata.org/entity/Q1250195'), ('name', 'Codex Assemanius')]\n",
      "[('p', 'http://www.wikidata.org/entity/Q1106235'), ('name', 'Codex Ríos')]\n",
      "[('p', 'http://www.wikidata.org/entity/Q785039'), ('name', 'Joshua Roll')]\n",
      "[('p', 'http://www.wikidata.org/entity/Q33231619'), ('name', 'breviary of  Matthias Corvin')]\n",
      "[('p', 'http://www.wikidata.org/entity/Q65122273'), ('name', 'Andrew, the Apostle')]\n",
      "[('p', 'http://www.wikidata.org/entity/Q77463414'), ('name', 'Apostolic Library Regina 1682')]\n",
      "[('p', 'http://www.wikidata.org/entity/Q77463433'), ('name', 'Apostolic Library Reg. 1323')]\n",
      "[('p', 'http://www.wikidata.org/entity/Q55831099'), ('name', 'Codex vaticanus latinus 3199')]\n",
      "[('p', 'http://www.wikidata.org/entity/Q3460976'), ('name', 'Gregorian Sacramentary')]\n",
      "[('p', 'http://www.wikidata.org/entity/Q16939517'), ('name', 'Codex Parisino-petropolitanus')]\n",
      "[('p', 'http://www.wikidata.org/entity/Q744655'), ('name', 'Chigi codex')]\n",
      "[('p', 'http://www.wikidata.org/entity/Q5140259'), ('name', 'Codex Vaticanus Latinus 3868')]\n",
      "[('p', 'http://www.wikidata.org/entity/Q1285827'), ('name', 'Liber Censuum')]\n",
      "[('p', 'http://www.wikidata.org/entity/Q1106357'), ('name', 'Codex Vaticanus 2061')]\n",
      "[('p', 'http://www.wikidata.org/entity/Q108548100'), ('name', 'Church Slavonic vita of Saint Wenceslaus')]\n",
      "[('p', 'http://www.wikidata.org/entity/Q251409'), ('name', 'Codex Petropolitanus Purpureus')]\n",
      "[('p', 'http://www.wikidata.org/entity/Q916549'), ('name', 'Indiculus superstitionum et paganiarum')]\n",
      "[('p', 'http://www.wikidata.org/entity/Q1798543'), ('name', 'Uncial 054')]\n",
      "[('p', 'http://www.wikidata.org/entity/Q6512274'), ('name', 'Lectionary 36')]\n",
      "[('p', 'http://www.wikidata.org/entity/Q3561145'), ('name', 'Vita Mathildis')]\n",
      "[('p', 'http://www.wikidata.org/entity/Q663118'), ('name', 'Bible of San Paolo fuori le Mura')]\n",
      "[('p', 'http://www.wikidata.org/entity/Q2758161'), ('name', 'Gelasian Sacramentary')]\n",
      "[('p', 'http://www.wikidata.org/entity/Q15841047'), ('name', 'Prochiron legum')]\n",
      "[('p', 'http://www.wikidata.org/entity/Q218974'), ('name', 'Codex Aureus of Lorsch')]\n",
      "[('p', 'http://www.wikidata.org/entity/Q1918574'), ('name', 'Menologion of Basil II')]\n",
      "[('p', 'http://www.wikidata.org/entity/Q77464627'), ('name', 'Cod. Palat. lat. 1074')]\n",
      "[('p', 'http://www.wikidata.org/entity/Q1258536'), ('name', 'Codex Urbinas')]\n",
      "[('p', 'http://www.wikidata.org/entity/Q105962278'), ('name', 'Dante Urbinate 365')]\n",
      "[('p', 'http://www.wikidata.org/entity/Q1180580'), ('name', 'De arte venandi cum avibus')]\n",
      "[('p', 'http://www.wikidata.org/entity/Q956156'), ('name', 'Lorsch Bee Blessing')]\n",
      "[('p', 'http://www.wikidata.org/entity/Q673569'), ('name', 'Papyrus 72')]\n",
      "[('p', 'http://www.wikidata.org/entity/Q12274931'), ('name', 'Vatican Palimpsest')]\n",
      "[('p', 'http://www.wikidata.org/entity/Q77464743'), ('name', 'Apostolic Library Reg. 258')]\n",
      "[('p', 'http://www.wikidata.org/entity/Q28154661'), ('name', 'The Homilies of James of Kokkinobaphos')]\n",
      "[('p', 'http://www.wikidata.org/entity/Q1969916'), ('name', 'Vergilius Romanus')]\n",
      "[('p', 'http://www.wikidata.org/entity/Q1809813'), ('name', 'Papyrus 75')]\n",
      "[('p', 'http://www.wikidata.org/entity/Q590984'), ('name', 'Codex Borgianus')]\n",
      "[('p', 'http://www.wikidata.org/entity/Q2515793'), ('name', 'Vergilius Augusteus')]\n",
      "[('p', 'http://www.wikidata.org/entity/Q51218682'), ('name', 'Bust of Urban VIII (Vatican Library version)')]\n",
      "[('p', 'http://www.wikidata.org/entity/Q1106358'), ('name', 'Codex Vaticanus 2066')]\n",
      "[('p', 'http://www.wikidata.org/entity/Q3472545'), ('name', 'Hadith Bayad wa Riyad')]\n",
      "[('p', 'http://www.wikidata.org/entity/Q29366989'), ('name', 'Missale Gallicanum vetus - BAV Pal.lat.493')]\n"
     ]
    },
    {
     "data": {
      "text/plain": [
       "55"
      ]
     },
     "execution_count": 44,
     "metadata": {},
     "output_type": "execute_result"
    }
   ],
   "source": [
    "#look for predicate related to book from a winner of a literature nobel prize\n",
    "queryString = \"\"\"\n",
    "SELECT DISTINCT ?p ?name\n",
    "WHERE {   \n",
    "?p wdt:P195 wd:Q213678 .\n",
    "\n",
    "?p sc:name ?name .\n",
    "}\n",
    "LIMIT 100\n",
    "\"\"\"\n",
    "\n",
    "print(\"Results\")\n",
    "run_query(queryString)"
   ]
  },
  {
   "cell_type": "code",
   "execution_count": 45,
   "id": "c5faf087-60cd-422f-93a6-7af8bd693e23",
   "metadata": {},
   "outputs": [
    {
     "name": "stdout",
     "output_type": "stream",
     "text": [
      "Results\n"
     ]
    },
    {
     "data": {
      "text/plain": [
       "{'head': {'link': []}, 'boolean': False}"
      ]
     },
     "execution_count": 45,
     "metadata": {},
     "output_type": "execute_result"
    }
   ],
   "source": [
    "#perform an ask query to answer\n",
    "queryString = \"\"\"\n",
    "ASK\n",
    "WHERE {   \n",
    "?p wdt:P166 wd:Q37922 .\n",
    "?o wdt:P50 ?p.\n",
    "?o wdt:P31/wdt:P279* wd:Q571.\n",
    "FILTER EXISTS{?o wdt:P195 wd:Q213678 .}\n",
    "}\n",
    "\"\"\"\n",
    "\n",
    "print(\"Results\")\n",
    "run_ask_query(queryString)"
   ]
  },
  {
   "cell_type": "code",
   "execution_count": 46,
   "id": "42cdce4d-65ac-4501-9849-7bade3c2101f",
   "metadata": {},
   "outputs": [
    {
     "name": "stdout",
     "output_type": "stream",
     "text": [
      "Results\n",
      "[('author', 'François Mauriac'), ('books', '15')]\n",
      "[('author', 'Wole Soyinka'), ('books', '15')]\n",
      "[('author', 'Yasunari Kawabata'), ('books', '11')]\n",
      "[('author', 'Anatole France'), ('books', '9')]\n",
      "[('author', 'André Gide'), ('books', '9')]\n",
      "[('author', 'Romain Rolland'), ('books', '8')]\n",
      "[('author', 'Henryk Sienkiewicz'), ('books', '6')]\n",
      "[('author', 'Olga Tokarczuk'), ('books', '6')]\n",
      "[('author', 'Shmuel Yosef Agnon'), ('books', '6')]\n",
      "[('author', 'Toni Morrison'), ('books', '5')]\n"
     ]
    },
    {
     "data": {
      "text/plain": [
       "10"
      ]
     },
     "execution_count": 46,
     "metadata": {},
     "output_type": "execute_result"
    }
   ],
   "source": [
    "#find who write more books and there are not in the vatican library\n",
    "queryString = \"\"\"\n",
    "SELECT ?author ( COUNT(DISTINCT ?o) AS ?books)\n",
    "WHERE {   \n",
    "?p wdt:P166 wd:Q37922 .\n",
    "?o wdt:P50 ?p.\n",
    "?o wdt:P31/wdt:P279* wd:Q571.\n",
    "FILTER NOT EXISTS{?o wdt:P195 wd:Q213678 .}\n",
    "\n",
    "?p sc:name ?author .\n",
    "}\n",
    "GROUP BY ?p ?author\n",
    "ORDER BY DESC (?books)\n",
    "LIMIT 10\n",
    "\"\"\"\n",
    "\n",
    "print(\"Results\")\n",
    "run_query(queryString)"
   ]
  },
  {
   "cell_type": "markdown",
   "id": "ad77920b-5a39-4ba0-8516-7f8f01cbfe4d",
   "metadata": {},
   "source": [
    "#### Consideration\n",
    "There are no winner of Nobel Prize in literature that are authors of some books present in the Vatican library.\n",
    "François Mauriac and Wole Soyinka are the two winners of Literature Nobel prize that have more books not in the Vatical Library."
   ]
  },
  {
   "cell_type": "code",
   "execution_count": null,
   "id": "b21a70ec-dc76-468c-8329-fecf90e3f03b",
   "metadata": {},
   "outputs": [],
   "source": []
  }
 ],
 "metadata": {
  "kernelspec": {
   "display_name": "Python 3",
   "language": "python",
   "name": "python3"
  },
  "language_info": {
   "codemirror_mode": {
    "name": "ipython",
    "version": 3
   },
   "file_extension": ".py",
   "mimetype": "text/x-python",
   "name": "python",
   "nbconvert_exporter": "python",
   "pygments_lexer": "ipython3",
   "version": "3.7.10"
  }
 },
 "nbformat": 4,
 "nbformat_minor": 5
}
