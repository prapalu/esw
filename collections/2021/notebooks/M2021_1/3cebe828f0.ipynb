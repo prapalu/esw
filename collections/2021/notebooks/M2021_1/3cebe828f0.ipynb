{
 "cells": [
  {
   "cell_type": "markdown",
   "id": "7034c3bf-6eb0-4418-8687-7b9d2a501103",
   "metadata": {},
   "source": [
    "# General instructions\n",
    "\n",
    "The goal of the project is to materialize a set of **exploratory workloads** over a real-world, large-scale,  open-domain KG: [WikiData](https://www.wikidata.org/wiki/Wikidata:Main_Page)\n",
    "\n",
    "An exploratory workload  is composed by a set of queries, where each query is related to the information obtained previously.\n",
    "\n",
    "An exploratory workload starts with a usually vague, open ended question, and does not assume the person issuing the workload has a clear understanding of the data contained in the target database or its structure.\n",
    "\n",
    "Remeber that:\n",
    "\n",
    "1. All the queries must run in the python notebook\n",
    "2. You can use classes and properties only if you find them via a SPARQL query that must be present in the notebook\n",
    "3. You do not delete useless queries. Keep everything that is synthatically valid \n",
    "\n",
    "```\n",
    "?p <http://schema.org/name> ?name .\n",
    "```\n",
    "    \n",
    "    is the BGP returning a human-readable name of a property or a class in Wikidata.\n",
    "    \n",
    "    "
   ]
  },
  {
   "cell_type": "code",
   "execution_count": 1,
   "id": "3605c9d5-5371-49a5-be8d-d66e8f417139",
   "metadata": {},
   "outputs": [],
   "source": [
    "## SETUP used later\n",
    "\n",
    "from SPARQLWrapper import SPARQLWrapper, JSON\n",
    "\n",
    "\n",
    "prefixString = \"\"\"\n",
    "##-3cebe828f0-##\n",
    "PREFIX wd: <http://www.wikidata.org/entity/> \n",
    "PREFIX wdt: <http://www.wikidata.org/prop/direct/> \n",
    "PREFIX sc: <http://schema.org/>\n",
    "\"\"\"\n",
    "\n",
    "# select and construct queries\n",
    "def run_query(queryString):\n",
    "    to_run = prefixString + \"\\n\" + queryString\n",
    "\n",
    "    sparql = SPARQLWrapper(\"http://a256-gc1-02.srv.aau.dk:5820/sparql\")\n",
    "    sparql.setTimeout(300)\n",
    "    sparql.setReturnFormat(JSON)\n",
    "    sparql.setQuery(to_run)\n",
    "\n",
    "    try :\n",
    "       results = sparql.query()\n",
    "       json_results = results.convert()\n",
    "       if len(json_results['results']['bindings'])==0:\n",
    "          print(\"Empty\")\n",
    "          return 0\n",
    "    \n",
    "       for bindings in json_results['results']['bindings']:\n",
    "          print( [ (var, value['value'])  for var, value in bindings.items() ] )\n",
    "\n",
    "       return len(json_results['results']['bindings'])\n",
    "\n",
    "    except Exception as e :\n",
    "        print(\"The operation failed\", e)\n",
    "    \n",
    "# ASk queries\n",
    "def run_ask_query(queryString):\n",
    "    to_run = prefixString + \"\\n\" + queryString\n",
    "\n",
    "    sparql = SPARQLWrapper(\"http://a256-gc1-02.srv.aau.dk:5820/sparql\")\n",
    "    sparql.setTimeout(300)\n",
    "    sparql.setReturnFormat(JSON)\n",
    "    sparql.setQuery(to_run)\n",
    "\n",
    "    try :\n",
    "        return sparql.query().convert()\n",
    "\n",
    "    except Exception as e :\n",
    "        print(\"The operation failed\", e)"
   ]
  },
  {
   "cell_type": "markdown",
   "id": "d477a59c-a68c-4c8f-9f97-8ca5294d7d27",
   "metadata": {},
   "source": [
    "# Movie Workflow Series (\"Tv series explorative search\") \n",
    "\n",
    "## Workflow 4\n",
    "\n",
    "\n",
    "Consider the following exploratory scenario:\n",
    "\n",
    "\n",
    "> we are interested in the TV series \"How I met your mother\" and we want to investigate the main aspects related to the actors and directors involved in the production, know the numerber of seasons and check what are the episodes which got the higher success/impact.\n",
    "\n",
    "\n",
    "## Useful URIs for the current workflow\n",
    "The following are given:\n",
    "\n",
    "| IRI           | Description   | Role      |\n",
    "| -----------   | -----------   |-----------|\n",
    "| `wdt:P1647`   | subproperty   | predicate |\n",
    "| `wdt:P31`     | instance of   | predicate |\n",
    "| `wdt:P106`    | profession    | predicate | \n",
    "| `wdt:P279`    | subclass      | predicate |\n",
    "| `wdt:P4969`    | derivative work      | predicate |\n",
    "| `wd:Q147235` | How I met your mother        | node |\n",
    "| `wd:Q23831` | The Office (US)        | node |\n",
    "\n",
    "\n",
    "\n",
    "Also consider\n",
    "\n",
    "```\n",
    "wd:Q23831 ?p ?obj .\n",
    "```\n",
    "\n",
    "is the BGP to retrieve all **properties of The Office (US)**\n",
    "\n",
    "The workload should\n",
    "\n",
    "\n",
    "1. Return the number of seasons and episodes per season of the tv series\n",
    "\n",
    "2. Get the number of episodes in which the cast members played a role. Who are the most present actors?\n",
    "\n",
    "3. Check who is the actor who acted in more films while working on \"How I met your mother\" and who is the actor who participated in more films after the end of the tv series.\n",
    "\n",
    "4. Compare HIMYM with the tv series \"The Office (US)\" in terms of number of seasons, episods and cast members.\n",
    "\n",
    "5. Return how many of the actors who are members of the cast of the tv series have [Kavin Bacon number](https://en.wikipedia.org/wiki/Six_Degrees_of_Kevin_Bacon#:~:text=Kevin%20Bacon%20himself%20has%20a,Bacon%20number%20is%20N%2B1.) equal to 2"
   ]
  },
  {
   "cell_type": "code",
   "execution_count": 1,
   "id": "24a853ab-830c-422c-afd3-e9e015b8b8ed",
   "metadata": {},
   "outputs": [],
   "source": [
    "# start your workflow here"
   ]
  },
  {
   "cell_type": "code",
   "execution_count": 2,
   "id": "ade01416-92e7-4ad7-b9a9-b8fb330750dc",
   "metadata": {},
   "outputs": [
    {
     "name": "stdout",
     "output_type": "stream",
     "text": [
      "Results\n",
      "[('p', 'http://www.w3.org/1999/02/22-rdf-syntax-ns#type'), ('obj', 'http://wikiba.se/ontology#Item')]\n",
      "[('p', 'http://www.wikidata.org/prop/direct-normalized/P214'), ('obj', 'http://viaf.org/viaf/207954525')]\n",
      "[('p', 'http://www.wikidata.org/prop/direct-normalized/P244'), ('obj', 'https://id.loc.gov/authorities/names/no2006017037')]\n",
      "[('p', 'http://www.wikidata.org/prop/direct-normalized/P2581'), ('obj', 'http://babelnet.org/rdf/s02352929n')]\n",
      "[('p', 'http://www.wikidata.org/prop/direct-normalized/P646'), ('obj', 'http://g.co/kg/m/08jgk1')]\n",
      "[('p', 'http://www.wikidata.org/prop/direct/P1113'), ('obj', '201')]\n",
      "[('p', 'http://www.wikidata.org/prop/direct/P1258'), ('obj', 'tv/the_office')]\n",
      "[('p', 'http://www.wikidata.org/prop/direct/P1267'), ('obj', '199')]\n",
      "[('p', 'http://www.wikidata.org/prop/direct/P136'), ('obj', 'http://www.wikidata.org/entity/Q21188110')]\n",
      "[('p', 'http://www.wikidata.org/prop/direct/P136'), ('obj', 'http://www.wikidata.org/entity/Q459435')]\n",
      "[('p', 'http://www.wikidata.org/prop/direct/P1417'), ('obj', 'topic/The-Office-American-television-program')]\n",
      "[('p', 'http://www.wikidata.org/prop/direct/P144'), ('obj', 'http://www.wikidata.org/entity/Q23829')]\n",
      "[('p', 'http://www.wikidata.org/prop/direct/P1476'), ('obj', 'The Office')]\n",
      "[('p', 'http://www.wikidata.org/prop/direct/P154'), ('obj', 'http://commons.wikimedia.org/wiki/Special:FilePath/The%20Office%20US%20logo.svg')]\n",
      "[('p', 'http://www.wikidata.org/prop/direct/P1552'), ('obj', 'http://www.wikidata.org/entity/Q27907088')]\n",
      "[('p', 'http://www.wikidata.org/prop/direct/P1562'), ('obj', 'v326360')]\n",
      "[('p', 'http://www.wikidata.org/prop/direct/P161'), ('obj', 'http://www.wikidata.org/entity/Q1050211')]\n",
      "[('p', 'http://www.wikidata.org/prop/direct/P161'), ('obj', 'http://www.wikidata.org/entity/Q1139248')]\n",
      "[('p', 'http://www.wikidata.org/prop/direct/P161'), ('obj', 'http://www.wikidata.org/entity/Q216221')]\n",
      "[('p', 'http://www.wikidata.org/prop/direct/P161'), ('obj', 'http://www.wikidata.org/entity/Q2238008')]\n",
      "[('p', 'http://www.wikidata.org/prop/direct/P161'), ('obj', 'http://www.wikidata.org/entity/Q231203')]\n",
      "[('p', 'http://www.wikidata.org/prop/direct/P161'), ('obj', 'http://www.wikidata.org/entity/Q238877')]\n",
      "[('p', 'http://www.wikidata.org/prop/direct/P161'), ('obj', 'http://www.wikidata.org/entity/Q254766')]\n",
      "[('p', 'http://www.wikidata.org/prop/direct/P161'), ('obj', 'http://www.wikidata.org/entity/Q2669971')]\n",
      "[('p', 'http://www.wikidata.org/prop/direct/P161'), ('obj', 'http://www.wikidata.org/entity/Q2671438')]\n",
      "[('p', 'http://www.wikidata.org/prop/direct/P161'), ('obj', 'http://www.wikidata.org/entity/Q269901')]\n",
      "[('p', 'http://www.wikidata.org/prop/direct/P161'), ('obj', 'http://www.wikidata.org/entity/Q2924850')]\n",
      "[('p', 'http://www.wikidata.org/prop/direct/P161'), ('obj', 'http://www.wikidata.org/entity/Q296928')]\n",
      "[('p', 'http://www.wikidata.org/prop/direct/P161'), ('obj', 'http://www.wikidata.org/entity/Q3028200')]\n",
      "[('p', 'http://www.wikidata.org/prop/direct/P161'), ('obj', 'http://www.wikidata.org/entity/Q313039')]\n",
      "[('p', 'http://www.wikidata.org/prop/direct/P161'), ('obj', 'http://www.wikidata.org/entity/Q328790')]\n",
      "[('p', 'http://www.wikidata.org/prop/direct/P161'), ('obj', 'http://www.wikidata.org/entity/Q349548')]\n",
      "[('p', 'http://www.wikidata.org/prop/direct/P161'), ('obj', 'http://www.wikidata.org/entity/Q459925')]\n",
      "[('p', 'http://www.wikidata.org/prop/direct/P161'), ('obj', 'http://www.wikidata.org/entity/Q508280')]\n",
      "[('p', 'http://www.wikidata.org/prop/direct/P161'), ('obj', 'http://www.wikidata.org/entity/Q512818')]\n",
      "[('p', 'http://www.wikidata.org/prop/direct/P161'), ('obj', 'http://www.wikidata.org/entity/Q539917')]\n",
      "[('p', 'http://www.wikidata.org/prop/direct/P161'), ('obj', 'http://www.wikidata.org/entity/Q6124807')]\n",
      "[('p', 'http://www.wikidata.org/prop/direct/P161'), ('obj', 'http://www.wikidata.org/entity/Q64560')]\n",
      "[('p', 'http://www.wikidata.org/prop/direct/P161'), ('obj', 'http://www.wikidata.org/entity/Q72077')]\n",
      "[('p', 'http://www.wikidata.org/prop/direct/P161'), ('obj', 'http://www.wikidata.org/entity/Q8063863')]\n",
      "[('p', 'http://www.wikidata.org/prop/direct/P161'), ('obj', 'http://www.wikidata.org/entity/Q926912')]\n",
      "[('p', 'http://www.wikidata.org/prop/direct/P170'), ('obj', 'http://www.wikidata.org/entity/Q1544904')]\n",
      "[('p', 'http://www.wikidata.org/prop/direct/P1712'), ('obj', 'tv/the-office')]\n",
      "[('p', 'http://www.wikidata.org/prop/direct/P18'), ('obj', 'http://commons.wikimedia.org/wiki/Special:FilePath/The%20Office%20-%20Penn%20Paper%20-%20Landscape%20%2848472737706%29.jpg')]\n",
      "[('p', 'http://www.wikidata.org/prop/direct/P18'), ('obj', 'http://commons.wikimedia.org/wiki/Special:FilePath/The%20cast%20of%20The%20Office%20in%20August%202009.jpg')]\n",
      "[('p', 'http://www.wikidata.org/prop/direct/P1811'), ('obj', 'http://www.wikidata.org/entity/Q1361122')]\n",
      "[('p', 'http://www.wikidata.org/prop/direct/P1874'), ('obj', '70136120')]\n",
      "[('p', 'http://www.wikidata.org/prop/direct/P1889'), ('obj', 'http://www.wikidata.org/entity/Q23829')]\n",
      "[('p', 'http://www.wikidata.org/prop/direct/P2002'), ('obj', 'theofficenbc')]\n",
      "[('p', 'http://www.wikidata.org/prop/direct/P2061'), ('obj', 'http://www.wikidata.org/entity/Q1383069')]\n",
      "[('p', 'http://www.wikidata.org/prop/direct/P214'), ('obj', '207954525')]\n",
      "[('p', 'http://www.wikidata.org/prop/direct/P2437'), ('obj', '9')]\n",
      "[('p', 'http://www.wikidata.org/prop/direct/P244'), ('obj', 'no2006017037')]\n",
      "[('p', 'http://www.wikidata.org/prop/direct/P2529'), ('obj', '198118')]\n",
      "[('p', 'http://www.wikidata.org/prop/direct/P2581'), ('obj', '02352929n')]\n",
      "[('p', 'http://www.wikidata.org/prop/direct/P2603'), ('obj', '253245')]\n",
      "[('p', 'http://www.wikidata.org/prop/direct/P2638'), ('obj', 'shows/the-office')]\n",
      "[('p', 'http://www.wikidata.org/prop/direct/P2670'), ('obj', 'http://www.wikidata.org/entity/Q21664088')]\n",
      "[('p', 'http://www.wikidata.org/prop/direct/P2703'), ('obj', '150809664')]\n",
      "[('p', 'http://www.wikidata.org/prop/direct/P2704'), ('obj', '10.5240/4EFA-6EE4-9893-3604-E808-G')]\n",
      "[('p', 'http://www.wikidata.org/prop/direct/P272'), ('obj', 'http://www.wikidata.org/entity/Q1337530')]\n",
      "[('p', 'http://www.wikidata.org/prop/direct/P272'), ('obj', 'http://www.wikidata.org/entity/Q22021534')]\n",
      "[('p', 'http://www.wikidata.org/prop/direct/P272'), ('obj', 'http://www.wikidata.org/entity/Q5249982')]\n",
      "[('p', 'http://www.wikidata.org/prop/direct/P31'), ('obj', 'http://www.wikidata.org/entity/Q5398426')]\n",
      "[('p', 'http://www.wikidata.org/prop/direct/P3121'), ('obj', 'Office_US')]\n",
      "[('p', 'http://www.wikidata.org/prop/direct/P3138'), ('obj', '74929')]\n",
      "[('p', 'http://www.wikidata.org/prop/direct/P3302'), ('obj', '23391')]\n",
      "[('p', 'http://www.wikidata.org/prop/direct/P3417'), ('obj', 'The-Office-U-S-TV-series')]\n",
      "[('p', 'http://www.wikidata.org/prop/direct/P345'), ('obj', 'tt0386676')]\n",
      "[('p', 'http://www.wikidata.org/prop/direct/P364'), ('obj', 'http://www.wikidata.org/entity/Q1860')]\n",
      "[('p', 'http://www.wikidata.org/prop/direct/P373'), ('obj', 'The Office (US)')]\n",
      "[('p', 'http://www.wikidata.org/prop/direct/P3804'), ('obj', '191831')]\n",
      "[('p', 'http://www.wikidata.org/prop/direct/P3984'), ('obj', 'DunderMifflin')]\n",
      "[('p', 'http://www.wikidata.org/prop/direct/P437'), ('obj', 'http://www.wikidata.org/entity/Q723685')]\n",
      "[('p', 'http://www.wikidata.org/prop/direct/P4438'), ('obj', '4f4bb0de030c6')]\n",
      "[('p', 'http://www.wikidata.org/prop/direct/P449'), ('obj', 'http://www.wikidata.org/entity/Q13974')]\n",
      "[('p', 'http://www.wikidata.org/prop/direct/P4665'), ('obj', '22818')]\n",
      "[('p', 'http://www.wikidata.org/prop/direct/P480'), ('obj', '304093')]\n",
      "[('p', 'http://www.wikidata.org/prop/direct/P4835'), ('obj', '73244')]\n",
      "[('p', 'http://www.wikidata.org/prop/direct/P495'), ('obj', 'http://www.wikidata.org/entity/Q30')]\n",
      "[('p', 'http://www.wikidata.org/prop/direct/P4983'), ('obj', '2316')]\n",
      "[('p', 'http://www.wikidata.org/prop/direct/P5032'), ('obj', '202887')]\n",
      "[('p', 'http://www.wikidata.org/prop/direct/P5099'), ('obj', 'telefilm/theofficeUSA')]\n",
      "[('p', 'http://www.wikidata.org/prop/direct/P527'), ('obj', 'http://www.wikidata.org/entity/Q3465812')]\n",
      "[('p', 'http://www.wikidata.org/prop/direct/P527'), ('obj', 'http://www.wikidata.org/entity/Q3468601')]\n",
      "[('p', 'http://www.wikidata.org/prop/direct/P527'), ('obj', 'http://www.wikidata.org/entity/Q3468797')]\n",
      "[('p', 'http://www.wikidata.org/prop/direct/P527'), ('obj', 'http://www.wikidata.org/entity/Q3468906')]\n",
      "[('p', 'http://www.wikidata.org/prop/direct/P527'), ('obj', 'http://www.wikidata.org/entity/Q3468990')]\n",
      "[('p', 'http://www.wikidata.org/prop/direct/P527'), ('obj', 'http://www.wikidata.org/entity/Q3730253')]\n",
      "[('p', 'http://www.wikidata.org/prop/direct/P527'), ('obj', 'http://www.wikidata.org/entity/Q3730255')]\n",
      "[('p', 'http://www.wikidata.org/prop/direct/P527'), ('obj', 'http://www.wikidata.org/entity/Q3730261')]\n",
      "[('p', 'http://www.wikidata.org/prop/direct/P527'), ('obj', 'http://www.wikidata.org/entity/Q3730263')]\n",
      "[('p', 'http://www.wikidata.org/prop/direct/P5327'), ('obj', 'the-office-us')]\n",
      "[('p', 'http://www.wikidata.org/prop/direct/P57'), ('obj', 'http://www.wikidata.org/entity/Q1738629')]\n",
      "[('p', 'http://www.wikidata.org/prop/direct/P57'), ('obj', 'http://www.wikidata.org/entity/Q188137')]\n",
      "[('p', 'http://www.wikidata.org/prop/direct/P57'), ('obj', 'http://www.wikidata.org/entity/Q286890')]\n",
      "[('p', 'http://www.wikidata.org/prop/direct/P57'), ('obj', 'http://www.wikidata.org/entity/Q295964')]\n",
      "[('p', 'http://www.wikidata.org/prop/direct/P57'), ('obj', 'http://www.wikidata.org/entity/Q298025')]\n",
      "[('p', 'http://www.wikidata.org/prop/direct/P57'), ('obj', 'http://www.wikidata.org/entity/Q314502')]\n",
      "[('p', 'http://www.wikidata.org/prop/direct/P57'), ('obj', 'http://www.wikidata.org/entity/Q357998')]\n",
      "[('p', 'http://www.wikidata.org/prop/direct/P57'), ('obj', 'http://www.wikidata.org/entity/Q7291535')]\n",
      "[('p', 'http://www.wikidata.org/prop/direct/P580'), ('obj', '2005-03-24T00:00:00Z')]\n",
      "[('p', 'http://www.wikidata.org/prop/direct/P582'), ('obj', '2013-05-16T00:00:00Z')]\n",
      "[('p', 'http://www.wikidata.org/prop/direct/P5905'), ('obj', '4075-936')]\n",
      "[('p', 'http://www.wikidata.org/prop/direct/P5925'), ('obj', 'the-office')]\n",
      "[('p', 'http://www.wikidata.org/prop/direct/P646'), ('obj', '/m/08jgk1')]\n",
      "[('p', 'http://www.wikidata.org/prop/direct/P674'), ('obj', 'http://www.wikidata.org/entity/Q1967229')]\n",
      "[('p', 'http://www.wikidata.org/prop/direct/P674'), ('obj', 'http://www.wikidata.org/entity/Q2013030')]\n",
      "[('p', 'http://www.wikidata.org/prop/direct/P674'), ('obj', 'http://www.wikidata.org/entity/Q2027359')]\n",
      "[('p', 'http://www.wikidata.org/prop/direct/P674'), ('obj', 'http://www.wikidata.org/entity/Q2346771')]\n",
      "[('p', 'http://www.wikidata.org/prop/direct/P674'), ('obj', 'http://www.wikidata.org/entity/Q4169030')]\n",
      "[('p', 'http://www.wikidata.org/prop/direct/P674'), ('obj', 'http://www.wikidata.org/entity/Q4760429')]\n",
      "[('p', 'http://www.wikidata.org/prop/direct/P674'), ('obj', 'http://www.wikidata.org/entity/Q6149368')]\n",
      "[('p', 'http://www.wikidata.org/prop/direct/P674'), ('obj', 'http://www.wikidata.org/entity/Q7342694')]\n",
      "[('p', 'http://www.wikidata.org/prop/direct/P6839'), ('obj', 'Series/TheOfficeUS')]\n",
      "[('p', 'http://www.wikidata.org/prop/direct/P750'), ('obj', 'http://www.wikidata.org/entity/Q907311')]\n",
      "[('p', 'http://www.wikidata.org/prop/direct/P750'), ('obj', 'http://www.wikidata.org/entity/Q9048317')]\n",
      "[('p', 'http://www.wikidata.org/prop/direct/P8013'), ('obj', 'shows/the-office')]\n",
      "[('p', 'http://www.wikidata.org/prop/direct/P8278'), ('obj', 'kancl')]\n",
      "[('p', 'http://www.wikidata.org/prop/direct/P840'), ('obj', 'http://www.wikidata.org/entity/Q271395')]\n",
      "[('p', 'http://www.wikidata.org/prop/direct/P856'), ('obj', 'https://www.nbc.com/the-office')]\n",
      "[('p', 'http://www.wikidata.org/prop/direct/P8687'), ('obj', '717431')]\n",
      "[('p', 'http://www.wikidata.org/prop/direct/P905'), ('obj', '91572')]\n",
      "[('p', 'http://www.wikidata.org/prop/direct/P910'), ('obj', 'http://www.wikidata.org/entity/Q8849068')]\n",
      "[('p', 'http://schema.org/name'), ('obj', 'The Office')]\n",
      "[('p', 'http://www.wikidata.org/prop/direct/P4312'), ('obj', 'http://www.wikidata.org/entity/Q2918907')]\n",
      "[('p', 'http://www.wikidata.org/prop/direct/P4834'), ('obj', '12028')]\n",
      "[('p', 'http://www.wikidata.org/prop/direct/P9751'), ('obj', 'umc.cmc.455js879szmdywutf3qjewagm')]\n"
     ]
    },
    {
     "data": {
      "text/plain": [
       "128"
      ]
     },
     "execution_count": 2,
     "metadata": {},
     "output_type": "execute_result"
    }
   ],
   "source": [
    "queryString = \"\"\"\n",
    "SELECT *\n",
    "WHERE { \n",
    "\n",
    "wd:Q23831 ?p ?obj .\n",
    "\n",
    "} \n",
    "\"\"\"\n",
    "\n",
    "print(\"Results\")\n",
    "run_query(queryString)"
   ]
  },
  {
   "cell_type": "markdown",
   "id": "f7530a8e-50e4-4237-9c5f-deff1afb0dd6",
   "metadata": {
    "tags": []
   },
   "source": [
    "## Seasons and Episodes\n",
    "This section contains the queries that answer the first question: \n",
    "_Return the number of seasons and episodes per season of the tv series_"
   ]
  },
  {
   "cell_type": "markdown",
   "id": "5b7652e0-d96e-4b83-8706-a32693964363",
   "metadata": {
    "tags": []
   },
   "source": [
    "### Number of seasons and episodes\n",
    "First of all I need to find how such information is stored, therefore I run a query to retrieve all The Office (US) properties. I can print them all since I discovered from the query above that they are 128. I also print the number of objects connected to the node The Office (US) (wd:Q23831) with each property just to understand the property's significance."
   ]
  },
  {
   "cell_type": "code",
   "execution_count": 3,
   "id": "cd9bc04c-f120-4a50-b38b-7ab9f883cea8",
   "metadata": {},
   "outputs": [
    {
     "name": "stdout",
     "output_type": "stream",
     "text": [
      "Results\n",
      "[('p', 'http://www.wikidata.org/prop/direct/P161'), ('pname', 'cast member'), ('objects', '25')]\n",
      "[('p', 'http://www.wikidata.org/prop/direct/P527'), ('pname', 'has part'), ('objects', '9')]\n",
      "[('p', 'http://www.wikidata.org/prop/direct/P57'), ('pname', 'director'), ('objects', '8')]\n",
      "[('p', 'http://www.wikidata.org/prop/direct/P674'), ('pname', 'characters'), ('objects', '8')]\n",
      "[('p', 'http://www.wikidata.org/prop/direct/P272'), ('pname', 'production company'), ('objects', '3')]\n",
      "[('p', 'http://www.wikidata.org/prop/direct/P18'), ('pname', 'image'), ('objects', '2')]\n",
      "[('p', 'http://www.wikidata.org/prop/direct/P136'), ('pname', 'genre'), ('objects', '2')]\n",
      "[('p', 'http://www.wikidata.org/prop/direct/P750'), ('pname', 'distributed by'), ('objects', '2')]\n",
      "[('p', 'http://www.wikidata.org/prop/direct/P1258'), ('pname', 'Rotten Tomatoes ID'), ('objects', '1')]\n",
      "[('p', 'http://www.wikidata.org/prop/direct/P1562'), ('pname', 'AllMovie title ID'), ('objects', '1')]\n",
      "[('p', 'http://www.wikidata.org/prop/direct/P31'), ('pname', 'instance of'), ('objects', '1')]\n",
      "[('p', 'http://www.wikidata.org/prop/direct/P3417'), ('pname', 'Quora topic ID'), ('objects', '1')]\n",
      "[('p', 'http://www.wikidata.org/prop/direct/P373'), ('pname', 'Commons category'), ('objects', '1')]\n",
      "[('p', 'http://www.wikidata.org/prop/direct/P4665'), ('pname', 'CineMagia title ID'), ('objects', '1')]\n",
      "[('p', 'http://www.wikidata.org/prop/direct/P4983'), ('pname', 'TMDb TV series ID'), ('objects', '1')]\n",
      "[('p', 'http://www.wikidata.org/prop/direct/P4312'), ('pname', 'camera setup'), ('objects', '1')]\n",
      "[('p', 'http://www.wikidata.org/prop/direct/P4834'), ('pname', 'Deutsche Synchronkartei series ID'), ('objects', '1')]\n",
      "[('p', 'http://www.wikidata.org/prop/direct/P1811'), ('pname', 'list of episodes'), ('objects', '1')]\n",
      "[('p', 'http://www.wikidata.org/prop/direct/P2061'), ('pname', 'aspect ratio'), ('objects', '1')]\n",
      "[('p', 'http://www.wikidata.org/prop/direct/P1712'), ('pname', 'Metacritic ID'), ('objects', '1')]\n",
      "[('p', 'http://www.wikidata.org/prop/direct/P214'), ('pname', 'VIAF ID'), ('objects', '1')]\n",
      "[('p', 'http://www.wikidata.org/prop/direct/P3302'), ('pname', 'Open Media Database film ID'), ('objects', '1')]\n",
      "[('p', 'http://www.wikidata.org/prop/direct/P345'), ('pname', 'IMDb ID'), ('objects', '1')]\n",
      "[('p', 'http://www.wikidata.org/prop/direct/P5099'), ('pname', 'Il mondo dei doppiatori ID'), ('objects', '1')]\n",
      "[('p', 'http://www.wikidata.org/prop/direct/P5327'), ('pname', 'fernsehserien.de ID'), ('objects', '1')]\n",
      "[('p', 'http://www.wikidata.org/prop/direct/P582'), ('pname', 'end time'), ('objects', '1')]\n",
      "[('p', 'http://www.wikidata.org/prop/direct/P170'), ('pname', 'creator'), ('objects', '1')]\n",
      "[('p', 'http://www.wikidata.org/prop/direct/P364'), ('pname', 'original language of film or TV show'), ('objects', '1')]\n",
      "[('p', 'http://www.wikidata.org/prop/direct/P437'), ('pname', 'distribution format'), ('objects', '1')]\n",
      "[('p', 'http://www.wikidata.org/prop/direct/P1113'), ('pname', 'number of episodes'), ('objects', '1')]\n",
      "[('p', 'http://www.wikidata.org/prop/direct/P1874'), ('pname', 'Netflix ID'), ('objects', '1')]\n",
      "[('p', 'http://www.wikidata.org/prop/direct/P2638'), ('pname', 'TV.com ID'), ('objects', '1')]\n",
      "[('p', 'http://www.wikidata.org/prop/direct/P6839'), ('pname', 'TV Tropes identifier'), ('objects', '1')]\n",
      "[('p', 'http://www.wikidata.org/prop/direct/P840'), ('pname', 'narrative location'), ('objects', '1')]\n",
      "[('p', 'http://www.wikidata.org/prop/direct/P1889'), ('pname', 'different from'), ('objects', '1')]\n",
      "[('p', 'http://www.wikidata.org/prop/direct/P3138'), ('pname', 'OFDb film ID'), ('objects', '1')]\n",
      "[('p', 'http://www.wikidata.org/prop/direct/P4438'), ('pname', 'BFI Films, TV and people ID'), ('objects', '1')]\n",
      "[('p', 'http://www.wikidata.org/prop/direct/P5032'), ('pname', 'Filmweb.pl film ID'), ('objects', '1')]\n",
      "[('p', 'http://www.wikidata.org/prop/direct/P580'), ('pname', 'start time'), ('objects', '1')]\n",
      "[('p', 'http://www.wikidata.org/prop/direct/P5925'), ('pname', 'Moviepilot.de series ID'), ('objects', '1')]\n",
      "[('p', 'http://www.wikidata.org/prop/direct/P8013'), ('pname', 'Trakt.tv ID'), ('objects', '1')]\n",
      "[('p', 'http://www.wikidata.org/prop/direct/P856'), ('pname', 'official website'), ('objects', '1')]\n",
      "[('p', 'http://www.wikidata.org/prop/direct/P1267'), ('pname', 'AlloCiné series ID'), ('objects', '1')]\n",
      "[('p', 'http://www.wikidata.org/prop/direct/P2703'), ('pname', 'BFI National Archive work ID'), ('objects', '1')]\n",
      "[('p', 'http://www.wikidata.org/prop/direct/P2704'), ('pname', 'EIDR content ID'), ('objects', '1')]\n",
      "[('p', 'http://www.wikidata.org/prop/direct/P449'), ('pname', 'original broadcaster'), ('objects', '1')]\n",
      "[('p', 'http://www.wikidata.org/prop/direct/P905'), ('pname', 'PORT film ID'), ('objects', '1')]\n",
      "[('p', 'http://www.wikidata.org/prop/direct/P9751'), ('pname', 'Apple TV show ID'), ('objects', '1')]\n",
      "[('p', 'http://www.wikidata.org/prop/direct/P2581'), ('pname', 'BabelNet ID'), ('objects', '1')]\n",
      "[('p', 'http://www.wikidata.org/prop/direct/P2670'), ('pname', 'has parts of the class'), ('objects', '1')]\n",
      "[('p', 'http://www.wikidata.org/prop/direct/P3121'), ('pname', 'Epguides ID'), ('objects', '1')]\n",
      "[('p', 'http://www.wikidata.org/prop/direct/P3804'), ('pname', 'TV Guide show ID (former scheme)'), ('objects', '1')]\n",
      "[('p', 'http://www.wikidata.org/prop/direct/P3984'), ('pname', 'subreddit'), ('objects', '1')]\n",
      "[('p', 'http://www.wikidata.org/prop/direct/P2002'), ('pname', 'Twitter username'), ('objects', '1')]\n",
      "[('p', 'http://www.wikidata.org/prop/direct/P2529'), ('pname', 'ČSFD film ID'), ('objects', '1')]\n",
      "[('p', 'http://www.wikidata.org/prop/direct/P2603'), ('pname', 'Kinopoisk film ID'), ('objects', '1')]\n",
      "[('p', 'http://www.wikidata.org/prop/direct/P480'), ('pname', 'FilmAffinity ID'), ('objects', '1')]\n",
      "[('p', 'http://www.wikidata.org/prop/direct/P4835'), ('pname', 'TheTVDB.com series ID'), ('objects', '1')]\n",
      "[('p', 'http://www.wikidata.org/prop/direct/P154'), ('pname', 'logo image'), ('objects', '1')]\n",
      "[('p', 'http://www.wikidata.org/prop/direct/P1552'), ('pname', 'has quality'), ('objects', '1')]\n",
      "[('p', 'http://www.wikidata.org/prop/direct/P2437'), ('pname', 'number of seasons'), ('objects', '1')]\n",
      "[('p', 'http://www.wikidata.org/prop/direct/P495'), ('pname', 'country of origin'), ('objects', '1')]\n",
      "[('p', 'http://www.wikidata.org/prop/direct/P5905'), ('pname', 'Comic Vine ID'), ('objects', '1')]\n",
      "[('p', 'http://www.wikidata.org/prop/direct/P8278'), ('pname', 'serial identifier on SerialZone'), ('objects', '1')]\n",
      "[('p', 'http://www.wikidata.org/prop/direct/P8687'), ('pname', 'social media followers'), ('objects', '1')]\n",
      "[('p', 'http://www.wikidata.org/prop/direct/P910'), ('pname', \"topic's main category\"), ('objects', '1')]\n",
      "[('p', 'http://www.wikidata.org/prop/direct/P1417'), ('pname', 'Encyclopædia Britannica Online ID'), ('objects', '1')]\n",
      "[('p', 'http://www.wikidata.org/prop/direct/P144'), ('pname', 'based on'), ('objects', '1')]\n",
      "[('p', 'http://www.wikidata.org/prop/direct/P1476'), ('pname', 'title'), ('objects', '1')]\n",
      "[('p', 'http://www.wikidata.org/prop/direct/P244'), ('pname', 'Library of Congress authority ID'), ('objects', '1')]\n",
      "[('p', 'http://www.wikidata.org/prop/direct/P646'), ('pname', 'Freebase ID'), ('objects', '1')]\n"
     ]
    },
    {
     "data": {
      "text/plain": [
       "71"
      ]
     },
     "execution_count": 3,
     "metadata": {},
     "output_type": "execute_result"
    }
   ],
   "source": [
    "queryString = \"\"\"\n",
    "SELECT ?p ?pname COUNT(?o) AS ?objects\n",
    "WHERE { \n",
    "\n",
    "wd:Q23831 ?p ?o.\n",
    "?p <http://schema.org/name> ?pname.\n",
    "\n",
    "} \n",
    "GROUP BY ?p ?pname\n",
    "ORDER BY DESC(?objects)\n",
    "\"\"\"\n",
    "\n",
    "print(\"Results\")\n",
    "run_query(queryString)"
   ]
  },
  {
   "cell_type": "markdown",
   "id": "b85534cc-181f-45ef-9f49-4822d6719d4d",
   "metadata": {},
   "source": [
    "I retrieve some interesting properties that will also be useful for later.\n",
    "\n",
    "| IRI           | Description   | Role      |\n",
    "| -----------   | -----------   |-----------|\n",
    "| `wdt:P161`   | cast member   | predicate |\n",
    "| `wdt:P57`     | director   | predicate |\n",
    "| `wdt:P170`     | creator   | predicate |\n",
    "| `wdt:P674`    | characters    | predicate | \n",
    "| `wdt:P1811`    | list of episodes      | predicate |\n",
    "| `wdt:P1113`    | number of episodes      | predicate |\n",
    "| `wdt:P2437`    | number of seasons      | predicate |\n",
    "| `wdt:P582`    | end time     | predicate |\n",
    "| `wdt:P580`    | start time     | predicate |\n",
    "\n",
    "Before moving on I also check the other direction."
   ]
  },
  {
   "cell_type": "code",
   "execution_count": 4,
   "id": "8cc17d68-7c78-447b-b840-1de5ffde9bf7",
   "metadata": {},
   "outputs": [
    {
     "name": "stdout",
     "output_type": "stream",
     "text": [
      "Results\n",
      "[('p', 'http://www.wikidata.org/prop/direct/P179'), ('pname', 'part of the series'), ('subjects', '226')]\n",
      "[('p', 'http://www.wikidata.org/prop/direct/P1441'), ('pname', 'present in work'), ('subjects', '40')]\n",
      "[('p', 'http://www.wikidata.org/prop/direct/P971'), ('pname', 'category combines topics'), ('subjects', '11')]\n",
      "[('p', 'http://www.wikidata.org/prop/direct/P800'), ('pname', 'notable work'), ('subjects', '3')]\n",
      "[('p', 'http://www.wikidata.org/prop/direct/P361'), ('pname', 'part of'), ('subjects', '2')]\n",
      "[('p', 'http://www.wikidata.org/prop/direct/P4969'), ('pname', 'derivative work'), ('subjects', '1')]\n",
      "[('p', 'http://www.wikidata.org/prop/direct/P301'), ('pname', \"category's main topic\"), ('subjects', '1')]\n",
      "[('p', 'http://www.wikidata.org/prop/direct/P1889'), ('pname', 'different from'), ('subjects', '1')]\n",
      "[('p', 'http://www.wikidata.org/prop/direct/P144'), ('pname', 'based on'), ('subjects', '1')]\n"
     ]
    },
    {
     "data": {
      "text/plain": [
       "9"
      ]
     },
     "execution_count": 4,
     "metadata": {},
     "output_type": "execute_result"
    }
   ],
   "source": [
    "queryString = \"\"\"\n",
    "SELECT ?p ?pname COUNT(?s) AS ?subjects\n",
    "WHERE { \n",
    "\n",
    "?s ?p wd:Q23831.\n",
    "?p <http://schema.org/name> ?pname.\n",
    "\n",
    "} \n",
    "GROUP BY ?p ?pname\n",
    "ORDER BY DESC(?subjects)\n",
    "\"\"\"\n",
    "\n",
    "print(\"Results\")\n",
    "run_query(queryString)"
   ]
  },
  {
   "cell_type": "markdown",
   "id": "172a9aa7-6beb-41e1-a364-91feefac9ddc",
   "metadata": {},
   "source": [
    "I did not find any new property that can be useful, I already had \"derivative work\" (wdt:P4969). \n",
    "\n",
    "I now run the same query for How I Met Your Mother in order to check if I have the same properties."
   ]
  },
  {
   "cell_type": "code",
   "execution_count": 5,
   "id": "3ce0c6e2-e26e-4778-b42a-bd895e52f971",
   "metadata": {},
   "outputs": [
    {
     "name": "stdout",
     "output_type": "stream",
     "text": [
      "Results\n",
      "[('p', 'http://www.wikidata.org/prop/direct/P161'), ('pname', 'cast member'), ('objects', '480')]\n",
      "[('p', 'http://www.wikidata.org/prop/direct/P674'), ('pname', 'characters'), ('objects', '109')]\n",
      "[('p', 'http://www.wikidata.org/prop/direct/P1411'), ('pname', 'nominated for'), ('objects', '10')]\n",
      "[('p', 'http://www.wikidata.org/prop/direct/P527'), ('pname', 'has part'), ('objects', '9')]\n",
      "[('p', 'http://www.wikidata.org/prop/direct/P166'), ('pname', 'award received'), ('objects', '7')]\n",
      "[('p', 'http://www.wikidata.org/prop/direct/P750'), ('pname', 'distributed by'), ('objects', '4')]\n",
      "[('p', 'http://www.wikidata.org/prop/direct/P4073'), ('pname', 'Fandom wiki ID'), ('objects', '3')]\n",
      "[('p', 'http://www.wikidata.org/prop/direct/P136'), ('pname', 'genre'), ('objects', '3')]\n",
      "[('p', 'http://www.wikidata.org/prop/direct/P4969'), ('pname', 'derivative work'), ('objects', '2')]\n",
      "[('p', 'http://www.wikidata.org/prop/direct/P170'), ('pname', 'creator'), ('objects', '2')]\n",
      "[('p', 'http://www.wikidata.org/prop/direct/P138'), ('pname', 'named after'), ('objects', '2')]\n",
      "[('p', 'http://www.wikidata.org/prop/direct/P272'), ('pname', 'production company'), ('objects', '2')]\n",
      "[('p', 'http://www.wikidata.org/prop/direct/P58'), ('pname', 'screenwriter'), ('objects', '2')]\n",
      "[('p', 'http://www.wikidata.org/prop/direct/P1258'), ('pname', 'Rotten Tomatoes ID'), ('objects', '1')]\n",
      "[('p', 'http://www.wikidata.org/prop/direct/P1424'), ('pname', \"topic's main template\"), ('objects', '1')]\n",
      "[('p', 'http://www.wikidata.org/prop/direct/P1562'), ('pname', 'AllMovie title ID'), ('objects', '1')]\n",
      "[('p', 'http://www.wikidata.org/prop/direct/P162'), ('pname', 'producer'), ('objects', '1')]\n",
      "[('p', 'http://www.wikidata.org/prop/direct/P2373'), ('pname', 'Genius artist ID'), ('objects', '1')]\n",
      "[('p', 'http://www.wikidata.org/prop/direct/P31'), ('pname', 'instance of'), ('objects', '1')]\n",
      "[('p', 'http://www.wikidata.org/prop/direct/P3417'), ('pname', 'Quora topic ID'), ('objects', '1')]\n",
      "[('p', 'http://www.wikidata.org/prop/direct/P373'), ('pname', 'Commons category'), ('objects', '1')]\n",
      "[('p', 'http://www.wikidata.org/prop/direct/P4665'), ('pname', 'CineMagia title ID'), ('objects', '1')]\n",
      "[('p', 'http://www.wikidata.org/prop/direct/P4983'), ('pname', 'TMDb TV series ID'), ('objects', '1')]\n",
      "[('p', 'http://www.wikidata.org/prop/direct/P4312'), ('pname', 'camera setup'), ('objects', '1')]\n",
      "[('p', 'http://www.wikidata.org/prop/direct/P4834'), ('pname', 'Deutsche Synchronkartei series ID'), ('objects', '1')]\n",
      "[('p', 'http://www.wikidata.org/prop/direct/P7501'), ('pname', 'audio system'), ('objects', '1')]\n",
      "[('p', 'http://www.wikidata.org/prop/direct/P1811'), ('pname', 'list of episodes'), ('objects', '1')]\n",
      "[('p', 'http://www.wikidata.org/prop/direct/P1922'), ('pname', 'first line'), ('objects', '1')]\n",
      "[('p', 'http://www.wikidata.org/prop/direct/P2061'), ('pname', 'aspect ratio'), ('objects', '1')]\n",
      "[('p', 'http://www.wikidata.org/prop/direct/P6467'), ('pname', 'Hulu series ID'), ('objects', '1')]\n",
      "[('p', 'http://www.wikidata.org/prop/direct/P1712'), ('pname', 'Metacritic ID'), ('objects', '1')]\n",
      "[('p', 'http://www.wikidata.org/prop/direct/P1881'), ('pname', 'list of characters'), ('objects', '1')]\n",
      "[('p', 'http://www.wikidata.org/prop/direct/P214'), ('pname', 'VIAF ID'), ('objects', '1')]\n",
      "[('p', 'http://www.wikidata.org/prop/direct/P3302'), ('pname', 'Open Media Database film ID'), ('objects', '1')]\n",
      "[('p', 'http://www.wikidata.org/prop/direct/P345'), ('pname', 'IMDb ID'), ('objects', '1')]\n",
      "[('p', 'http://www.wikidata.org/prop/direct/P5099'), ('pname', 'Il mondo dei doppiatori ID'), ('objects', '1')]\n",
      "[('p', 'http://www.wikidata.org/prop/direct/P5327'), ('pname', 'fernsehserien.de ID'), ('objects', '1')]\n",
      "[('p', 'http://www.wikidata.org/prop/direct/P582'), ('pname', 'end time'), ('objects', '1')]\n",
      "[('p', 'http://www.wikidata.org/prop/direct/P7299'), ('pname', 'MUBI film ID'), ('objects', '1')]\n",
      "[('p', 'http://www.wikidata.org/prop/direct/P725'), ('pname', 'voice actor'), ('objects', '1')]\n",
      "[('p', 'http://www.wikidata.org/prop/direct/P364'), ('pname', 'original language of film or TV show'), ('objects', '1')]\n",
      "[('p', 'http://www.wikidata.org/prop/direct/P437'), ('pname', 'distribution format'), ('objects', '1')]\n",
      "[('p', 'http://www.wikidata.org/prop/direct/P6643'), ('pname', 'TV Spielfilm series ID'), ('objects', '1')]\n",
      "[('p', 'http://www.wikidata.org/prop/direct/P1113'), ('pname', 'number of episodes'), ('objects', '1')]\n",
      "[('p', 'http://www.wikidata.org/prop/direct/P1874'), ('pname', 'Netflix ID'), ('objects', '1')]\n",
      "[('p', 'http://www.wikidata.org/prop/direct/P227'), ('pname', 'GND ID'), ('objects', '1')]\n",
      "[('p', 'http://www.wikidata.org/prop/direct/P2638'), ('pname', 'TV.com ID'), ('objects', '1')]\n",
      "[('p', 'http://www.wikidata.org/prop/direct/P6839'), ('pname', 'TV Tropes identifier'), ('objects', '1')]\n",
      "[('p', 'http://www.wikidata.org/prop/direct/P840'), ('pname', 'narrative location'), ('objects', '1')]\n",
      "[('p', 'http://www.wikidata.org/prop/direct/P18'), ('pname', 'image'), ('objects', '1')]\n",
      "[('p', 'http://www.wikidata.org/prop/direct/P3138'), ('pname', 'OFDb film ID'), ('objects', '1')]\n",
      "[('p', 'http://www.wikidata.org/prop/direct/P4438'), ('pname', 'BFI Films, TV and people ID'), ('objects', '1')]\n",
      "[('p', 'http://www.wikidata.org/prop/direct/P5032'), ('pname', 'Filmweb.pl film ID'), ('objects', '1')]\n",
      "[('p', 'http://www.wikidata.org/prop/direct/P580'), ('pname', 'start time'), ('objects', '1')]\n",
      "[('p', 'http://www.wikidata.org/prop/direct/P5925'), ('pname', 'Moviepilot.de series ID'), ('objects', '1')]\n",
      "[('p', 'http://www.wikidata.org/prop/direct/P8013'), ('pname', 'Trakt.tv ID'), ('objects', '1')]\n",
      "[('p', 'http://www.wikidata.org/prop/direct/P856'), ('pname', 'official website'), ('objects', '1')]\n",
      "[('p', 'http://www.wikidata.org/prop/direct/P1267'), ('pname', 'AlloCiné series ID'), ('objects', '1')]\n",
      "[('p', 'http://www.wikidata.org/prop/direct/P2703'), ('pname', 'BFI National Archive work ID'), ('objects', '1')]\n",
      "[('p', 'http://www.wikidata.org/prop/direct/P2704'), ('pname', 'EIDR content ID'), ('objects', '1')]\n",
      "[('p', 'http://www.wikidata.org/prop/direct/P449'), ('pname', 'original broadcaster'), ('objects', '1')]\n",
      "[('p', 'http://www.wikidata.org/prop/direct/P905'), ('pname', 'PORT film ID'), ('objects', '1')]\n",
      "[('p', 'http://www.wikidata.org/prop/direct/P9629'), ('pname', 'Armeniapedia ID'), ('objects', '1')]\n",
      "[('p', 'http://www.wikidata.org/prop/direct/P9751'), ('pname', 'Apple TV show ID'), ('objects', '1')]\n",
      "[('p', 'http://www.wikidata.org/prop/direct/P2438'), ('pname', 'narrator'), ('objects', '1')]\n",
      "[('p', 'http://www.wikidata.org/prop/direct/P2581'), ('pname', 'BabelNet ID'), ('objects', '1')]\n",
      "[('p', 'http://www.wikidata.org/prop/direct/P2670'), ('pname', 'has parts of the class'), ('objects', '1')]\n",
      "[('p', 'http://www.wikidata.org/prop/direct/P3121'), ('pname', 'Epguides ID'), ('objects', '1')]\n",
      "[('p', 'http://www.wikidata.org/prop/direct/P7107'), ('pname', 'LezWatch.TV show ID'), ('objects', '1')]\n",
      "[('p', 'http://www.wikidata.org/prop/direct/P2002'), ('pname', 'Twitter username'), ('objects', '1')]\n",
      "[('p', 'http://www.wikidata.org/prop/direct/P2529'), ('pname', 'ČSFD film ID'), ('objects', '1')]\n",
      "[('p', 'http://www.wikidata.org/prop/direct/P2603'), ('pname', 'Kinopoisk film ID'), ('objects', '1')]\n",
      "[('p', 'http://www.wikidata.org/prop/direct/P4835'), ('pname', 'TheTVDB.com series ID'), ('objects', '1')]\n",
      "[('p', 'http://www.wikidata.org/prop/direct/P154'), ('pname', 'logo image'), ('objects', '1')]\n",
      "[('p', 'http://www.wikidata.org/prop/direct/P2047'), ('pname', 'duration'), ('objects', '1')]\n",
      "[('p', 'http://www.wikidata.org/prop/direct/P2437'), ('pname', 'number of seasons'), ('objects', '1')]\n",
      "[('p', 'http://www.wikidata.org/prop/direct/P3553'), ('pname', 'Zhihu topic ID'), ('objects', '1')]\n",
      "[('p', 'http://www.wikidata.org/prop/direct/P495'), ('pname', 'country of origin'), ('objects', '1')]\n",
      "[('p', 'http://www.wikidata.org/prop/direct/P6760'), ('pname', 'Know Your Meme ID'), ('objects', '1')]\n",
      "[('p', 'http://www.wikidata.org/prop/direct/P8278'), ('pname', 'serial identifier on SerialZone'), ('objects', '1')]\n",
      "[('p', 'http://www.wikidata.org/prop/direct/P86'), ('pname', 'composer'), ('objects', '1')]\n",
      "[('p', 'http://www.wikidata.org/prop/direct/P8687'), ('pname', 'social media followers'), ('objects', '1')]\n",
      "[('p', 'http://www.wikidata.org/prop/direct/P910'), ('pname', \"topic's main category\"), ('objects', '1')]\n",
      "[('p', 'http://www.wikidata.org/prop/direct/P1476'), ('pname', 'title'), ('objects', '1')]\n",
      "[('p', 'http://www.wikidata.org/prop/direct/P244'), ('pname', 'Library of Congress authority ID'), ('objects', '1')]\n",
      "[('p', 'http://www.wikidata.org/prop/direct/P646'), ('pname', 'Freebase ID'), ('objects', '1')]\n",
      "[('p', 'http://www.wikidata.org/prop/direct/P4784'), ('pname', 'Movieplayer TV-series ID'), ('objects', '1')]\n",
      "[('p', 'http://www.wikidata.org/prop/direct/P7596'), ('pname', 'Disney+ series ID'), ('objects', '1')]\n"
     ]
    },
    {
     "data": {
      "text/plain": [
       "88"
      ]
     },
     "execution_count": 5,
     "metadata": {},
     "output_type": "execute_result"
    }
   ],
   "source": [
    "queryString = \"\"\"\n",
    "SELECT ?p ?pname COUNT(?o) AS ?objects\n",
    "WHERE { \n",
    "\n",
    "wd:Q147235 ?p ?o.\n",
    "?p <http://schema.org/name> ?pname.\n",
    "\n",
    "} \n",
    "GROUP BY ?p ?pname\n",
    "ORDER BY DESC(?objects)\n",
    "\"\"\"\n",
    "\n",
    "print(\"Results\")\n",
    "run_query(queryString)"
   ]
  },
  {
   "cell_type": "markdown",
   "id": "b7ab2fb4-26d7-4c5f-a5b6-3e3b9622e0ad",
   "metadata": {},
   "source": [
    "In this case we have data about the screenwriters but it looks like there is no property director (wdt:P57) for How I Met Your Mother. Let us check it just to be sure."
   ]
  },
  {
   "cell_type": "code",
   "execution_count": 6,
   "id": "aa394972-efc1-4df4-9a82-d96352d0db1e",
   "metadata": {},
   "outputs": [
    {
     "name": "stdout",
     "output_type": "stream",
     "text": [
      "Results\n",
      "Empty\n"
     ]
    },
    {
     "data": {
      "text/plain": [
       "0"
      ]
     },
     "execution_count": 6,
     "metadata": {},
     "output_type": "execute_result"
    }
   ],
   "source": [
    "queryString = \"\"\"\n",
    "SELECT ?o\n",
    "WHERE { \n",
    "\n",
    "wd:Q147235 wdt:P57 ?o.\n",
    "\n",
    "} \n",
    "\"\"\"\n",
    "\n",
    "print(\"Results\")\n",
    "run_query(queryString)"
   ]
  },
  {
   "cell_type": "markdown",
   "id": "2ca71186-6f40-4a85-8d60-8bbfc4554bfa",
   "metadata": {},
   "source": [
    "We will further investigate it later on if I need information about HIMYM's director. Going back to the question I am trying to answer I can use the properties \"number of episodes\" (wdt:P1113) and \"number of seasons\" (wdt:P2437) to retrieve such information."
   ]
  },
  {
   "cell_type": "code",
   "execution_count": 7,
   "id": "5dbcdf84-61c1-44e0-a5b2-9bd7f95ff45e",
   "metadata": {},
   "outputs": [
    {
     "name": "stdout",
     "output_type": "stream",
     "text": [
      "Results\n",
      "[('himymEpisodes', '208'), ('himymSeasons', '9'), ('offEpisodes', '201'), ('offSeasons', '9')]\n"
     ]
    },
    {
     "data": {
      "text/plain": [
       "1"
      ]
     },
     "execution_count": 7,
     "metadata": {},
     "output_type": "execute_result"
    }
   ],
   "source": [
    "queryString = \"\"\"\n",
    "SELECT ?himymEpisodes ?himymSeasons ?offEpisodes ?offSeasons \n",
    "WHERE { \n",
    "\n",
    "wd:Q147235 wdt:P1113 ?himymEpisodes;\n",
    "           wdt:P2437 ?himymSeasons.\n",
    "\n",
    "wd:Q23831 wdt:P1113 ?offEpisodes;\n",
    "           wdt:P2437 ?offSeasons.\n",
    "\n",
    "} \n",
    "\"\"\"\n",
    "\n",
    "print(\"Results\")\n",
    "run_query(queryString)"
   ]
  },
  {
   "cell_type": "markdown",
   "id": "49215d0f-3cd6-4384-a8ef-62ed2832faf6",
   "metadata": {},
   "source": [
    "Surprisingly, both series have the same number of seasons and almost the same number of episodes. "
   ]
  },
  {
   "cell_type": "markdown",
   "id": "ac02be9e-70f5-4f1b-be7f-4d6db5dbc440",
   "metadata": {
    "tags": []
   },
   "source": [
    "### Number of episodes for each season\n",
    "I now look for how many episodes each season has. Going back to the result of the query for all properties I notice that the property \"part of\" (wdt:P527) has exactly 9 objects both for HIMYM and The Office (US), therefore I select them in order to see if such property display the seasons. Since it is just a check I look only for the objects whose subject is The Office (US)."
   ]
  },
  {
   "cell_type": "code",
   "execution_count": 8,
   "id": "ce419494-a22c-480e-a1ea-96aed5555148",
   "metadata": {},
   "outputs": [
    {
     "name": "stdout",
     "output_type": "stream",
     "text": [
      "Results\n",
      "[('o', 'http://www.wikidata.org/entity/Q3468906'), ('obj', 'The Office, season 4'), ('i', 'http://www.wikidata.org/entity/Q3464665'), ('instanceOf', 'television series season')]\n",
      "[('o', 'http://www.wikidata.org/entity/Q3730261'), ('obj', 'The Office, season 6'), ('i', 'http://www.wikidata.org/entity/Q3464665'), ('instanceOf', 'television series season')]\n",
      "[('o', 'http://www.wikidata.org/entity/Q3468601'), ('obj', 'The Office, season 2'), ('i', 'http://www.wikidata.org/entity/Q3464665'), ('instanceOf', 'television series season')]\n",
      "[('o', 'http://www.wikidata.org/entity/Q3730253'), ('obj', 'The Office, season 9'), ('i', 'http://www.wikidata.org/entity/Q3464665'), ('instanceOf', 'television series season')]\n",
      "[('o', 'http://www.wikidata.org/entity/Q3465812'), ('obj', 'The Office, season 1'), ('i', 'http://www.wikidata.org/entity/Q3464665'), ('instanceOf', 'television series season')]\n",
      "[('o', 'http://www.wikidata.org/entity/Q3730255'), ('obj', 'The Office, season 8'), ('i', 'http://www.wikidata.org/entity/Q3464665'), ('instanceOf', 'television series season')]\n",
      "[('o', 'http://www.wikidata.org/entity/Q3468797'), ('obj', 'The Office, season 3'), ('i', 'http://www.wikidata.org/entity/Q3464665'), ('instanceOf', 'television series season')]\n",
      "[('o', 'http://www.wikidata.org/entity/Q3730263'), ('obj', 'The Office, season 7'), ('i', 'http://www.wikidata.org/entity/Q3464665'), ('instanceOf', 'television series season')]\n",
      "[('o', 'http://www.wikidata.org/entity/Q3468990'), ('obj', 'The Office, season 5'), ('i', 'http://www.wikidata.org/entity/Q3464665'), ('instanceOf', 'television series season')]\n"
     ]
    },
    {
     "data": {
      "text/plain": [
       "9"
      ]
     },
     "execution_count": 8,
     "metadata": {},
     "output_type": "execute_result"
    }
   ],
   "source": [
    "queryString = \"\"\"\n",
    "SELECT ?o ?obj ?i ?instanceOf\n",
    "WHERE { \n",
    "\n",
    "wd:Q23831 wdt:P527 ?o.\n",
    "?o wdt:P31 ?i.\n",
    "\n",
    "?o <http://schema.org/name> ?obj.\n",
    "?i <http://schema.org/name> ?instanceOf.\n",
    "\n",
    "} \n",
    "\"\"\"\n",
    "\n",
    "print(\"Results\")\n",
    "run_query(queryString)"
   ]
  },
  {
   "cell_type": "markdown",
   "id": "5557a0ab-2190-4b2e-af41-58b066206eb7",
   "metadata": {},
   "source": [
    "My assumption was right: property \"part of\" (wdt:P527) retrieves the series' seasons. I now look for each season's properties."
   ]
  },
  {
   "cell_type": "code",
   "execution_count": 9,
   "id": "d3b9f988-12fb-4ce8-9f09-d36767d63372",
   "metadata": {},
   "outputs": [
    {
     "name": "stdout",
     "output_type": "stream",
     "text": [
      "Results\n",
      "[('p', 'http://www.wikidata.org/prop/direct/P527'), ('pname', 'has part'), ('objects', '201')]\n",
      "[('p', 'http://www.wikidata.org/prop/direct/P1258'), ('pname', 'Rotten Tomatoes ID'), ('objects', '9')]\n",
      "[('p', 'http://www.wikidata.org/prop/direct/P31'), ('pname', 'instance of'), ('objects', '9')]\n",
      "[('p', 'http://www.wikidata.org/prop/direct/P1712'), ('pname', 'Metacritic ID'), ('objects', '9')]\n",
      "[('p', 'http://www.wikidata.org/prop/direct/P364'), ('pname', 'original language of film or TV show'), ('objects', '9')]\n",
      "[('p', 'http://www.wikidata.org/prop/direct/P1113'), ('pname', 'number of episodes'), ('objects', '9')]\n",
      "[('p', 'http://www.wikidata.org/prop/direct/P179'), ('pname', 'part of the series'), ('objects', '9')]\n",
      "[('p', 'http://www.wikidata.org/prop/direct/P2638'), ('pname', 'TV.com ID'), ('objects', '9')]\n",
      "[('p', 'http://www.wikidata.org/prop/direct/P2704'), ('pname', 'EIDR content ID'), ('objects', '9')]\n",
      "[('p', 'http://www.wikidata.org/prop/direct/P2529'), ('pname', 'ČSFD film ID'), ('objects', '9')]\n",
      "[('p', 'http://www.wikidata.org/prop/direct/P495'), ('pname', 'country of origin'), ('objects', '9')]\n",
      "[('p', 'http://www.wikidata.org/prop/direct/P646'), ('pname', 'Freebase ID'), ('objects', '9')]\n",
      "[('p', 'http://www.wikidata.org/prop/direct/P3302'), ('pname', 'Open Media Database film ID'), ('objects', '8')]\n",
      "[('p', 'http://www.wikidata.org/prop/direct/P2581'), ('pname', 'BabelNet ID'), ('objects', '3')]\n",
      "[('p', 'http://www.wikidata.org/prop/direct/P2684'), ('pname', 'Kijkwijzer rating'), ('objects', '1')]\n",
      "[('p', 'http://www.wikidata.org/prop/direct/P2747'), ('pname', 'Filmiroda rating'), ('objects', '1')]\n",
      "[('p', 'http://www.wikidata.org/prop/direct/P910'), ('pname', \"topic's main category\"), ('objects', '1')]\n"
     ]
    },
    {
     "data": {
      "text/plain": [
       "17"
      ]
     },
     "execution_count": 9,
     "metadata": {},
     "output_type": "execute_result"
    }
   ],
   "source": [
    "queryString = \"\"\"\n",
    "SELECT ?p ?pname COUNT(?o) AS ?objects\n",
    "WHERE { \n",
    "\n",
    "wd:Q23831 wdt:P527 ?season.\n",
    "?season ?p ?o.\n",
    "\n",
    "?p <http://schema.org/name> ?pname.\n",
    "\n",
    "} \n",
    "GROUP BY ?p ?pname\n",
    "ORDER BY DESC(?objects)\n",
    "\"\"\"\n",
    "\n",
    "print(\"Results\")\n",
    "run_query(queryString)"
   ]
  },
  {
   "cell_type": "markdown",
   "id": "6c5a9587-2861-418d-bdfb-8174becef87f",
   "metadata": {},
   "source": [
    "In order to retrieve the number of episodes each season has I can use again the property \"number of episodes\" (wdt:P1113). Another interesting thing is that by means of the property \"part of\" (wdt:P527) I can also access each episode. Before moving on I check if I get the same results for HIMYM."
   ]
  },
  {
   "cell_type": "code",
   "execution_count": 10,
   "id": "87104c7b-66da-4686-8d47-d0009078fc7b",
   "metadata": {},
   "outputs": [
    {
     "name": "stdout",
     "output_type": "stream",
     "text": [
      "Results\n",
      "[('p', 'http://www.wikidata.org/prop/direct/P527'), ('pname', 'has part'), ('objects', '208')]\n",
      "[('p', 'http://www.wikidata.org/prop/direct/P437'), ('pname', 'distribution format'), ('objects', '16')]\n",
      "[('p', 'http://www.wikidata.org/prop/direct/P1258'), ('pname', 'Rotten Tomatoes ID'), ('objects', '9')]\n",
      "[('p', 'http://www.wikidata.org/prop/direct/P31'), ('pname', 'instance of'), ('objects', '9')]\n",
      "[('p', 'http://www.wikidata.org/prop/direct/P1712'), ('pname', 'Metacritic ID'), ('objects', '9')]\n",
      "[('p', 'http://www.wikidata.org/prop/direct/P3302'), ('pname', 'Open Media Database film ID'), ('objects', '9')]\n",
      "[('p', 'http://www.wikidata.org/prop/direct/P582'), ('pname', 'end time'), ('objects', '9')]\n",
      "[('p', 'http://www.wikidata.org/prop/direct/P364'), ('pname', 'original language of film or TV show'), ('objects', '9')]\n",
      "[('p', 'http://www.wikidata.org/prop/direct/P1113'), ('pname', 'number of episodes'), ('objects', '9')]\n",
      "[('p', 'http://www.wikidata.org/prop/direct/P179'), ('pname', 'part of the series'), ('objects', '9')]\n",
      "[('p', 'http://www.wikidata.org/prop/direct/P2638'), ('pname', 'TV.com ID'), ('objects', '9')]\n",
      "[('p', 'http://www.wikidata.org/prop/direct/P580'), ('pname', 'start time'), ('objects', '9')]\n",
      "[('p', 'http://www.wikidata.org/prop/direct/P2704'), ('pname', 'EIDR content ID'), ('objects', '9')]\n",
      "[('p', 'http://www.wikidata.org/prop/direct/P2529'), ('pname', 'ČSFD film ID'), ('objects', '9')]\n",
      "[('p', 'http://www.wikidata.org/prop/direct/P646'), ('pname', 'Freebase ID'), ('objects', '9')]\n",
      "[('p', 'http://www.wikidata.org/prop/direct/P6381'), ('pname', 'iTunes TV season ID'), ('objects', '8')]\n",
      "[('p', 'http://www.wikidata.org/prop/direct/P2581'), ('pname', 'BabelNet ID'), ('objects', '7')]\n",
      "[('p', 'http://www.wikidata.org/prop/direct/P750'), ('pname', 'distributed by'), ('objects', '7')]\n",
      "[('p', 'http://www.wikidata.org/prop/direct/P856'), ('pname', 'official website'), ('objects', '4')]\n",
      "[('p', 'http://www.wikidata.org/prop/direct/P2684'), ('pname', 'Kijkwijzer rating'), ('objects', '2')]\n",
      "[('p', 'http://www.wikidata.org/prop/direct/P6262'), ('pname', 'Fandom article ID'), ('objects', '1')]\n"
     ]
    },
    {
     "data": {
      "text/plain": [
       "21"
      ]
     },
     "execution_count": 10,
     "metadata": {},
     "output_type": "execute_result"
    }
   ],
   "source": [
    "queryString = \"\"\"\n",
    "SELECT ?p ?pname COUNT(?o) AS ?objects\n",
    "WHERE { \n",
    "\n",
    "wd:Q147235 wdt:P527 ?season.\n",
    "?season ?p ?o.\n",
    "\n",
    "?p <http://schema.org/name> ?pname.\n",
    "\n",
    "} \n",
    "GROUP BY ?p ?pname\n",
    "ORDER BY DESC(?objects)\n",
    "\"\"\"\n",
    "\n",
    "print(\"Results\")\n",
    "run_query(queryString)"
   ]
  },
  {
   "cell_type": "markdown",
   "id": "e32de4ab-58eb-4644-849b-96d01bcc7364",
   "metadata": {},
   "source": [
    "I have the same results for HIMYM. Now I look for properties in the other direction (both for The Office(US)(wd:Q23831) and HIMYM (wd:Q147235))"
   ]
  },
  {
   "cell_type": "code",
   "execution_count": 11,
   "id": "7ae9fb97-f91d-4c74-96d8-f210921e2d4a",
   "metadata": {},
   "outputs": [
    {
     "name": "stdout",
     "output_type": "stream",
     "text": [
      "Results\n",
      "[('p', 'http://www.wikidata.org/prop/direct/P4908'), ('pname', 'season'), ('subjects', '217')]\n",
      "[('p', 'http://www.wikidata.org/prop/direct/P527'), ('pname', 'has part'), ('subjects', '9')]\n",
      "[('p', 'http://www.wikidata.org/prop/direct/P301'), ('pname', \"category's main topic\"), ('subjects', '1')]\n"
     ]
    },
    {
     "data": {
      "text/plain": [
       "3"
      ]
     },
     "execution_count": 11,
     "metadata": {},
     "output_type": "execute_result"
    }
   ],
   "source": [
    "queryString = \"\"\"\n",
    "SELECT ?p ?pname COUNT(?s) AS ?subjects\n",
    "WHERE { \n",
    "\n",
    "wd:Q23831 wdt:P527 ?season.\n",
    "?s ?p ?season.\n",
    "\n",
    "?p <http://schema.org/name> ?pname.\n",
    "\n",
    "} \n",
    "GROUP BY ?p ?pname\n",
    "ORDER BY DESC(?subjects)\n",
    "\"\"\"\n",
    "\n",
    "print(\"Results\")\n",
    "run_query(queryString)"
   ]
  },
  {
   "cell_type": "code",
   "execution_count": 12,
   "id": "814fd375-d5a9-4f8b-bcad-f96aecf51840",
   "metadata": {},
   "outputs": [
    {
     "name": "stdout",
     "output_type": "stream",
     "text": [
      "Results\n",
      "[('p', 'http://www.wikidata.org/prop/direct/P4908'), ('pname', 'season'), ('subjects', '211')]\n",
      "[('p', 'http://www.wikidata.org/prop/direct/P527'), ('pname', 'has part'), ('subjects', '9')]\n",
      "[('p', 'http://www.wikidata.org/prop/direct/P361'), ('pname', 'part of'), ('subjects', '3')]\n"
     ]
    },
    {
     "data": {
      "text/plain": [
       "3"
      ]
     },
     "execution_count": 12,
     "metadata": {},
     "output_type": "execute_result"
    }
   ],
   "source": [
    "queryString = \"\"\"\n",
    "SELECT ?p ?pname COUNT(?s) AS ?subjects\n",
    "WHERE { \n",
    "\n",
    "wd:Q147235 wdt:P527 ?season.\n",
    "?s ?p ?season.\n",
    "\n",
    "?p <http://schema.org/name> ?pname.\n",
    "\n",
    "} \n",
    "GROUP BY ?p ?pname\n",
    "ORDER BY DESC(?subjects)\n",
    "\"\"\"\n",
    "\n",
    "print(\"Results\")\n",
    "run_query(queryString)"
   ]
  },
  {
   "cell_type": "markdown",
   "id": "6bfe2458-20f9-4d7e-b77a-fc423de1bc9f",
   "metadata": {},
   "source": [
    "I did not find any other interesting property. I now return the number of episodes per season as asked."
   ]
  },
  {
   "cell_type": "code",
   "execution_count": 13,
   "id": "00350751-72cf-499a-ac6f-18ae4ef46d08",
   "metadata": {},
   "outputs": [
    {
     "name": "stdout",
     "output_type": "stream",
     "text": [
      "Results\n",
      "[('season', 'How I Met Your Mother, season 1'), ('episodes', '22')]\n",
      "[('season', 'How I Met Your Mother, season 9'), ('episodes', '24')]\n",
      "[('season', 'How I Met Your Mother, season 7'), ('episodes', '24')]\n",
      "[('season', 'How I Met Your Mother, season 6'), ('episodes', '24')]\n",
      "[('season', 'How I Met Your Mother, season 8'), ('episodes', '24')]\n",
      "[('season', 'How I Met Your Mother, season 4'), ('episodes', '24')]\n",
      "[('season', 'How I Met Your Mother, season 2'), ('episodes', '22')]\n",
      "[('season', 'How I Met Your Mother, season 5'), ('episodes', '24')]\n",
      "[('season', 'How I Met Your Mother, season 3'), ('episodes', '20')]\n",
      "[('season', 'The Office, season 1'), ('episodes', '6')]\n",
      "[('season', 'The Office, season 2'), ('episodes', '22')]\n",
      "[('season', 'The Office, season 3'), ('episodes', '25')]\n",
      "[('season', 'The Office, season 4'), ('episodes', '19')]\n",
      "[('season', 'The Office, season 5'), ('episodes', '28')]\n",
      "[('season', 'The Office, season 6'), ('episodes', '26')]\n",
      "[('season', 'The Office, season 7'), ('episodes', '26')]\n",
      "[('season', 'The Office, season 8'), ('episodes', '24')]\n",
      "[('season', 'The Office, season 9'), ('episodes', '25')]\n"
     ]
    },
    {
     "data": {
      "text/plain": [
       "18"
      ]
     },
     "execution_count": 13,
     "metadata": {},
     "output_type": "execute_result"
    }
   ],
   "source": [
    "queryString = \"\"\"\n",
    "SELECT ?season ?episodes\n",
    "WHERE { \n",
    "\n",
    "?series wdt:P527 ?s.\n",
    "?s wdt:P1113 ?episodes.\n",
    "\n",
    "?s <http://schema.org/name> ?season.\n",
    "FILTER(?series = wd:Q147235 || ?series = wd:Q23831)\n",
    "\n",
    "} \n",
    "ORDER BY ?season\n",
    "\"\"\"\n",
    "\n",
    "print(\"Results\")\n",
    "run_query(queryString)"
   ]
  },
  {
   "cell_type": "markdown",
   "id": "ea70ef55-c984-4299-b277-ceb9a1ba8103",
   "metadata": {},
   "source": [
    "From these results I can notice that even though both series have the same number of seasons and almost the same number of episodes, the number of episodes per season is very different. In fact, HIMYM have 20-24 episodes per season while the number of episodes per season in The Office (US) varies a lot. We have in fact the first season with 6 episodes and the fifth one with 28 episodes. "
   ]
  },
  {
   "cell_type": "markdown",
   "id": "49c30fd7-ef3e-4556-b356-eff7472b6d1d",
   "metadata": {
    "tags": []
   },
   "source": [
    "### Single Episodes\n",
    "Just out of curiosity I look for the episodes and their properties in order to see if there could be something useful. First of all I check what property \"part of\" (wdt:P527) stores."
   ]
  },
  {
   "cell_type": "code",
   "execution_count": 14,
   "id": "362b5c95-ab5a-442d-8243-3e0939d46044",
   "metadata": {},
   "outputs": [
    {
     "name": "stdout",
     "output_type": "stream",
     "text": [
      "Results\n",
      "[('e', 'http://www.wikidata.org/entity/Q50379836'), ('episode', 'Classy Christmas (part 1)'), ('i', 'http://www.wikidata.org/entity/Q21191270'), ('instanceOf', 'television series episode')]\n",
      "[('e', 'http://www.wikidata.org/entity/Q50379837'), ('episode', 'Classy Christmas (part 2)'), ('i', 'http://www.wikidata.org/entity/Q21191270'), ('instanceOf', 'television series episode')]\n",
      "[('e', 'http://www.wikidata.org/entity/Q5099551'), ('episode', 'China'), ('i', 'http://www.wikidata.org/entity/Q21191270'), ('instanceOf', 'television series episode')]\n",
      "[('e', 'http://www.wikidata.org/entity/Q5178024'), ('episode', 'Couples Discount'), ('i', 'http://www.wikidata.org/entity/Q21191270'), ('instanceOf', 'television series episode')]\n",
      "[('e', 'http://www.wikidata.org/entity/Q6927074'), ('episode', 'Moving On'), ('i', 'http://www.wikidata.org/entity/Q21191270'), ('instanceOf', 'television series episode')]\n",
      "[('e', 'http://www.wikidata.org/entity/Q7880294'), ('episode', 'Ultimatum'), ('i', 'http://www.wikidata.org/entity/Q21191270'), ('instanceOf', 'television series episode')]\n",
      "[('e', 'http://www.wikidata.org/entity/Q7914333'), ('episode', 'Vandalism'), ('i', 'http://www.wikidata.org/entity/Q21191270'), ('instanceOf', 'television series episode')]\n",
      "[('e', 'http://www.wikidata.org/entity/Q5264968'), ('episode', 'Desperation Day'), ('i', 'http://www.wikidata.org/entity/Q21191270'), ('instanceOf', 'television series episode')]\n",
      "[('e', 'http://www.wikidata.org/entity/Q5521981'), ('episode', 'Garbage Island'), ('i', 'http://www.wikidata.org/entity/Q21191270'), ('instanceOf', 'television series episode')]\n",
      "[('e', 'http://www.wikidata.org/entity/Q7080458'), ('episode', 'Oh Honey'), ('i', 'http://www.wikidata.org/entity/Q21191270'), ('instanceOf', 'television series episode')]\n",
      "[('e', 'http://www.wikidata.org/entity/Q5888848'), ('episode', 'Home Wreckers'), ('i', 'http://www.wikidata.org/entity/Q21191270'), ('instanceOf', 'television series episode')]\n",
      "[('e', 'http://www.wikidata.org/entity/Q7858076'), ('episode', 'Twin Beds'), ('i', 'http://www.wikidata.org/entity/Q21191270'), ('instanceOf', 'television series episode')]\n",
      "[('e', 'http://www.wikidata.org/entity/Q8074081'), ('episode', 'Zoo or False'), ('i', 'http://www.wikidata.org/entity/Q21191270'), ('instanceOf', 'television series episode')]\n",
      "[('e', 'http://www.wikidata.org/entity/Q4786988'), ('episode', 'Architect of Destruction'), ('i', 'http://www.wikidata.org/entity/Q21191270'), ('instanceOf', 'television series episode')]\n",
      "[('e', 'http://www.wikidata.org/entity/Q4838397'), ('episode', 'Baby Shower'), ('i', 'http://www.wikidata.org/entity/Q21191270'), ('instanceOf', 'television series episode')]\n"
     ]
    },
    {
     "data": {
      "text/plain": [
       "15"
      ]
     },
     "execution_count": 14,
     "metadata": {},
     "output_type": "execute_result"
    }
   ],
   "source": [
    "queryString = \"\"\"\n",
    "SELECT DISTINCT ?e ?episode ?i ?instanceOf\n",
    "WHERE { \n",
    "\n",
    "?series wdt:P527 ?s.\n",
    "?s wdt:P527 ?e.\n",
    "?e wdt:P31 ?i.\n",
    "\n",
    "?e <http://schema.org/name> ?episode.\n",
    "?i <http://schema.org/name> ?instanceOf.\n",
    "FILTER(?series = wd:Q147235 || ?series = wd:Q23831)\n",
    "\n",
    "} \n",
    "LIMIT 15\n",
    "\"\"\"\n",
    "\n",
    "print(\"Results\")\n",
    "run_query(queryString)"
   ]
  },
  {
   "cell_type": "markdown",
   "id": "69496d74-10f0-420c-b736-85f37390f170",
   "metadata": {},
   "source": [
    "The query confirms such path return the single episodes. I now look for the properties each episode have."
   ]
  },
  {
   "cell_type": "code",
   "execution_count": 15,
   "id": "7f5fafe7-d9cb-4647-ad6e-8e68e506eccb",
   "metadata": {},
   "outputs": [
    {
     "name": "stdout",
     "output_type": "stream",
     "text": [
      "Results\n",
      "[('p', 'http://www.wikidata.org/prop/direct/P161'), ('pname', 'cast member'), ('objects', '1338')]\n",
      "[('p', 'http://www.wikidata.org/prop/direct/P58'), ('pname', 'screenwriter'), ('objects', '529')]\n",
      "[('p', 'http://www.wikidata.org/prop/direct/P31'), ('pname', 'instance of'), ('objects', '409')]\n",
      "[('p', 'http://www.wikidata.org/prop/direct/P364'), ('pname', 'original language of film or TV show'), ('objects', '409')]\n",
      "[('p', 'http://www.wikidata.org/prop/direct/P4908'), ('pname', 'season'), ('objects', '409')]\n",
      "[('p', 'http://www.wikidata.org/prop/direct/P179'), ('pname', 'part of the series'), ('objects', '409')]\n",
      "[('p', 'http://www.wikidata.org/prop/direct/P1476'), ('pname', 'title'), ('objects', '409')]\n",
      "[('p', 'http://www.wikidata.org/prop/direct/P155'), ('pname', 'follows'), ('objects', '408')]\n",
      "[('p', 'http://www.wikidata.org/prop/direct/P156'), ('pname', 'followed by'), ('objects', '407')]\n",
      "[('p', 'http://www.wikidata.org/prop/direct/P2638'), ('pname', 'TV.com ID'), ('objects', '400')]\n",
      "[('p', 'http://www.wikidata.org/prop/direct/P57'), ('pname', 'director'), ('objects', '399')]\n",
      "[('p', 'http://www.wikidata.org/prop/direct/P1258'), ('pname', 'Rotten Tomatoes ID'), ('objects', '396')]\n",
      "[('p', 'http://www.wikidata.org/prop/direct/P2704'), ('pname', 'EIDR content ID'), ('objects', '392')]\n",
      "[('p', 'http://www.wikidata.org/prop/direct/P1562'), ('pname', 'AllMovie title ID'), ('objects', '388')]\n",
      "[('p', 'http://www.wikidata.org/prop/direct/P4665'), ('pname', 'CineMagia title ID'), ('objects', '383')]\n",
      "[('p', 'http://www.wikidata.org/prop/direct/P345'), ('pname', 'IMDb ID'), ('objects', '383')]\n",
      "[('p', 'http://www.wikidata.org/prop/direct/P2529'), ('pname', 'ČSFD film ID'), ('objects', '383')]\n",
      "[('p', 'http://www.wikidata.org/prop/direct/P577'), ('pname', 'publication date'), ('objects', '381')]\n",
      "[('p', 'http://www.wikidata.org/prop/direct/P646'), ('pname', 'Freebase ID'), ('objects', '356')]\n",
      "[('p', 'http://www.wikidata.org/prop/direct/P2364'), ('pname', 'production code'), ('objects', '336')]\n",
      "[('p', 'http://www.wikidata.org/prop/direct/P3212'), ('pname', 'ISAN'), ('objects', '271')]\n",
      "[('p', 'http://www.wikidata.org/prop/direct/P3302'), ('pname', 'Open Media Database film ID'), ('objects', '208')]\n",
      "[('p', 'http://www.wikidata.org/prop/direct/P495'), ('pname', 'country of origin'), ('objects', '205')]\n",
      "[('p', 'http://www.wikidata.org/prop/direct/P750'), ('pname', 'distributed by'), ('objects', '169')]\n",
      "[('p', 'http://www.wikidata.org/prop/direct/P7334'), ('pname', 'Vudu video ID'), ('objects', '168')]\n",
      "[('p', 'http://www.wikidata.org/prop/direct/P437'), ('pname', 'distribution format'), ('objects', '168')]\n",
      "[('p', 'http://www.wikidata.org/prop/direct/P361'), ('pname', 'part of'), ('objects', '39')]\n",
      "[('p', 'http://www.wikidata.org/prop/direct/P9215'), ('pname', 'set during recurring event'), ('objects', '33')]\n",
      "[('p', 'http://www.wikidata.org/prop/direct/P2581'), ('pname', 'BabelNet ID'), ('objects', '26')]\n",
      "[('p', 'http://www.wikidata.org/prop/direct/P674'), ('pname', 'characters'), ('objects', '10')]\n",
      "[('p', 'http://www.wikidata.org/prop/direct/P2671'), ('pname', 'Google Knowledge Graph ID'), ('objects', '6')]\n",
      "[('p', 'http://www.wikidata.org/prop/direct/P136'), ('pname', 'genre'), ('objects', '6')]\n",
      "[('p', 'http://www.wikidata.org/prop/direct/P1889'), ('pname', 'different from'), ('objects', '5')]\n",
      "[('p', 'http://www.wikidata.org/prop/direct/P921'), ('pname', 'main subject'), ('objects', '3')]\n",
      "[('p', 'http://www.wikidata.org/prop/direct/P2703'), ('pname', 'BFI National Archive work ID'), ('objects', '3')]\n",
      "[('p', 'http://www.wikidata.org/prop/direct/P5905'), ('pname', 'Comic Vine ID'), ('objects', '3')]\n",
      "[('p', 'http://www.wikidata.org/prop/direct/P3417'), ('pname', 'Quora topic ID'), ('objects', '2')]\n",
      "[('p', 'http://www.wikidata.org/prop/direct/P2408'), ('pname', 'set in period'), ('objects', '2')]\n",
      "[('p', 'http://www.wikidata.org/prop/direct/P138'), ('pname', 'named after'), ('objects', '2')]\n",
      "[('p', 'http://www.wikidata.org/prop/direct/P4438'), ('pname', 'BFI Films, TV and people ID'), ('objects', '2')]\n",
      "[('p', 'http://www.wikidata.org/prop/direct/P856'), ('pname', 'official website'), ('objects', '2')]\n",
      "[('p', 'http://www.wikidata.org/prop/direct/P8408'), ('pname', 'KBpedia ID'), ('objects', '2')]\n",
      "[('p', 'http://www.wikidata.org/prop/direct/P462'), ('pname', 'color'), ('objects', '1')]\n",
      "[('p', 'http://www.wikidata.org/prop/direct/P373'), ('pname', 'Commons category'), ('objects', '1')]\n",
      "[('p', 'http://www.wikidata.org/prop/direct/P840'), ('pname', 'narrative location'), ('objects', '1')]\n",
      "[('p', 'http://www.wikidata.org/prop/direct/P1874'), ('pname', 'Netflix ID'), ('objects', '1')]\n",
      "[('p', 'http://www.wikidata.org/prop/direct/P449'), ('pname', 'original broadcaster'), ('objects', '1')]\n",
      "[('p', 'http://www.wikidata.org/prop/direct/P8411'), ('pname', 'set in environment'), ('objects', '1')]\n",
      "[('p', 'http://www.wikidata.org/prop/direct/P2603'), ('pname', 'Kinopoisk film ID'), ('objects', '1')]\n"
     ]
    },
    {
     "data": {
      "text/plain": [
       "49"
      ]
     },
     "execution_count": 15,
     "metadata": {},
     "output_type": "execute_result"
    }
   ],
   "source": [
    "queryString = \"\"\"\n",
    "SELECT ?p ?pname COUNT(?o) AS ?objects\n",
    "WHERE { \n",
    "\n",
    "?series wdt:P527 ?s.\n",
    "?s wdt:P527 ?e.\n",
    "?e ?p ?o.\n",
    "\n",
    "?p <http://schema.org/name> ?pname.\n",
    "\n",
    "FILTER(?series = wd:Q147235 || ?series = wd:Q23831)\n",
    "\n",
    "} \n",
    "GROUP BY ?p ?pname\n",
    "ORDER BY DESC(?objects)\n",
    "\"\"\"\n",
    "\n",
    "print(\"Results\")\n",
    "run_query(queryString)"
   ]
  },
  {
   "cell_type": "markdown",
   "id": "bed236f8-8e02-4245-b7cb-94825b41abf1",
   "metadata": {},
   "source": [
    "These properties could be useful later on:\n",
    "\n",
    "| IRI           | Description   | Role      |\n",
    "| -----------   | -----------   |-----------|\n",
    "| `wdt:P161`   | cast member   | predicate |\n",
    "| `wdt:P57`     | director  | predicate |\n",
    "| `wdt:P58`    | screenwriter    | predicate | \n",
    "| `wdt:P4908`    | season    | predicate | "
   ]
  },
  {
   "cell_type": "markdown",
   "id": "4ea231c6-e9a6-4740-8298-e68389bf2450",
   "metadata": {
    "tags": []
   },
   "source": [
    "## Cast Members\n",
    "This section contains the queries that answer the second question:\n",
    "_Get the number of episodes in which the cast members played a role. Who are the most present actors?_"
   ]
  },
  {
   "cell_type": "markdown",
   "id": "c3561d8b-c30d-4356-8a95-f6f93487e4db",
   "metadata": {
    "tags": []
   },
   "source": [
    "### Fast-forward approach\n",
    "I recall I found out that each episode have a property \"cast member\" (wdt:P161) therefore I could use that to count in how many episodes a cast member played a role. Firstly I check what information such property stores.\n",
    "\n",
    "_Note: instead of using two different path to retrieve the season from the series and then the episodes from the season I use a forward path._"
   ]
  },
  {
   "cell_type": "code",
   "execution_count": 16,
   "id": "284a41d9-fd58-45b7-8924-83bc8e36d595",
   "metadata": {},
   "outputs": [
    {
     "name": "stdout",
     "output_type": "stream",
     "text": [
      "Results\n",
      "[('c', 'http://www.wikidata.org/entity/Q465556'), ('cname', 'Annie Ilonzeh'), ('i', 'http://www.wikidata.org/entity/Q5'), ('instanceOf', 'human')]\n",
      "[('c', 'http://www.wikidata.org/entity/Q269891'), ('cname', 'Julianna Guill'), ('i', 'http://www.wikidata.org/entity/Q5'), ('instanceOf', 'human')]\n",
      "[('c', 'http://www.wikidata.org/entity/Q446031'), ('cname', 'Nikki Griffin'), ('i', 'http://www.wikidata.org/entity/Q5'), ('instanceOf', 'human')]\n",
      "[('c', 'http://www.wikidata.org/entity/Q312705'), ('cname', 'John Cho'), ('i', 'http://www.wikidata.org/entity/Q5'), ('instanceOf', 'human')]\n",
      "[('c', 'http://www.wikidata.org/entity/Q516659'), ('cname', 'Virginia Williams'), ('i', 'http://www.wikidata.org/entity/Q5'), ('instanceOf', 'human')]\n",
      "[('c', 'http://www.wikidata.org/entity/Q522856'), ('cname', 'Kate Micucci'), ('i', 'http://www.wikidata.org/entity/Q5'), ('instanceOf', 'human')]\n",
      "[('c', 'http://www.wikidata.org/entity/Q200566'), ('cname', 'Cobie Smulders'), ('i', 'http://www.wikidata.org/entity/Q5'), ('instanceOf', 'human')]\n",
      "[('c', 'http://www.wikidata.org/entity/Q435839'), ('cname', 'Ashley Williams'), ('i', 'http://www.wikidata.org/entity/Q5'), ('instanceOf', 'human')]\n",
      "[('c', 'http://www.wikidata.org/entity/Q446481'), ('cname', 'Harvey Fierstein'), ('i', 'http://www.wikidata.org/entity/Q5'), ('instanceOf', 'human')]\n",
      "[('c', 'http://www.wikidata.org/entity/Q926420'), ('cname', 'Robbie Amell'), ('i', 'http://www.wikidata.org/entity/Q5'), ('instanceOf', 'human')]\n",
      "[('c', 'http://www.wikidata.org/entity/Q234715'), ('cname', 'Jamie-Lynn Sigler'), ('i', 'http://www.wikidata.org/entity/Q5'), ('instanceOf', 'human')]\n",
      "[('c', 'http://www.wikidata.org/entity/Q215546'), ('cname', 'Carrie Underwood'), ('i', 'http://www.wikidata.org/entity/Q5'), ('instanceOf', 'human')]\n",
      "[('c', 'http://www.wikidata.org/entity/Q2914539'), ('cname', 'Jeff Probst'), ('i', 'http://www.wikidata.org/entity/Q5'), ('instanceOf', 'human')]\n",
      "[('c', 'http://www.wikidata.org/entity/Q289330'), ('cname', 'Erin Cardillo'), ('i', 'http://www.wikidata.org/entity/Q5'), ('instanceOf', 'human')]\n",
      "[('c', 'http://www.wikidata.org/entity/Q3306283'), ('cname', 'Dwight Hicks'), ('i', 'http://www.wikidata.org/entity/Q5'), ('instanceOf', 'human')]\n",
      "[('c', 'http://www.wikidata.org/entity/Q3859348'), ('cname', 'Misti Traya'), ('i', 'http://www.wikidata.org/entity/Q5'), ('instanceOf', 'human')]\n",
      "[('c', 'http://www.wikidata.org/entity/Q459839'), ('cname', \"Brooke D'Orsay\"), ('i', 'http://www.wikidata.org/entity/Q5'), ('instanceOf', 'human')]\n",
      "[('c', 'http://www.wikidata.org/entity/Q1332676'), ('cname', 'William Schallert'), ('i', 'http://www.wikidata.org/entity/Q5'), ('instanceOf', 'human')]\n",
      "[('c', 'http://www.wikidata.org/entity/Q11975'), ('cname', 'Britney Spears'), ('i', 'http://www.wikidata.org/entity/Q5'), ('instanceOf', 'human')]\n",
      "[('c', 'http://www.wikidata.org/entity/Q260184'), ('cname', 'Eva Amurri'), ('i', 'http://www.wikidata.org/entity/Q5'), ('instanceOf', 'human')]\n",
      "[('c', 'http://www.wikidata.org/entity/Q291024'), ('cname', 'Moon Zappa'), ('i', 'http://www.wikidata.org/entity/Q5'), ('instanceOf', 'human')]\n",
      "[('c', 'http://www.wikidata.org/entity/Q40715'), ('cname', 'Jennifer Lopez'), ('i', 'http://www.wikidata.org/entity/Q5'), ('instanceOf', 'human')]\n",
      "[('c', 'http://www.wikidata.org/entity/Q512376'), ('cname', 'Suzy Nakamura'), ('i', 'http://www.wikidata.org/entity/Q5'), ('instanceOf', 'human')]\n",
      "[('c', 'http://www.wikidata.org/entity/Q488335'), ('cname', 'Kevin Michael Richardson'), ('i', 'http://www.wikidata.org/entity/Q5'), ('instanceOf', 'human')]\n",
      "[('c', 'http://www.wikidata.org/entity/Q594265'), ('cname', 'Neil Jackson'), ('i', 'http://www.wikidata.org/entity/Q5'), ('instanceOf', 'human')]\n"
     ]
    },
    {
     "data": {
      "text/plain": [
       "25"
      ]
     },
     "execution_count": 16,
     "metadata": {},
     "output_type": "execute_result"
    }
   ],
   "source": [
    "queryString = \"\"\"\n",
    "SELECT DISTINCT ?c ?cname ?i ?instanceOf\n",
    "WHERE { \n",
    "\n",
    "?series wdt:P527/wdt:P527 ?e.\n",
    "?e wdt:P161 ?c.\n",
    "?c wdt:P31 ?i.\n",
    "\n",
    "?c <http://schema.org/name> ?cname.\n",
    "?i <http://schema.org/name> ?instanceOf.\n",
    "\n",
    "FILTER(?series = wd:Q147235 || ?series = wd:Q23831)\n",
    "\n",
    "} \n",
    "LIMIT 25\n",
    "\"\"\"\n",
    "\n",
    "print(\"Results\")\n",
    "run_query(queryString)"
   ]
  },
  {
   "cell_type": "markdown",
   "id": "7a6e7ebe-cfcc-40aa-a584-210f0ffed716",
   "metadata": {},
   "source": [
    "The property \"instance Of\" gave me zero information about the objects therefore I try to use the property \"profession\" (wdt:P106)."
   ]
  },
  {
   "cell_type": "code",
   "execution_count": 17,
   "id": "addb1022-efb8-4136-8ca9-f0fceeb9fb31",
   "metadata": {},
   "outputs": [
    {
     "name": "stdout",
     "output_type": "stream",
     "text": [
      "Results\n",
      "[('c', 'http://www.wikidata.org/entity/Q311271'), ('cname', 'John Lithgow'), ('p', 'http://www.wikidata.org/entity/Q9648008'), ('profession', 'banjoist')]\n",
      "[('c', 'http://www.wikidata.org/entity/Q328790'), ('cname', 'Ed Helms'), ('p', 'http://www.wikidata.org/entity/Q9648008'), ('profession', 'banjoist')]\n",
      "[('c', 'http://www.wikidata.org/entity/Q3306283'), ('cname', 'Dwight Hicks'), ('p', 'http://www.wikidata.org/entity/Q19841381'), ('profession', 'Canadian football player')]\n",
      "[('c', 'http://www.wikidata.org/entity/Q465556'), ('cname', 'Annie Ilonzeh'), ('p', 'http://www.wikidata.org/entity/Q10798782'), ('profession', 'television actor')]\n",
      "[('c', 'http://www.wikidata.org/entity/Q269891'), ('cname', 'Julianna Guill'), ('p', 'http://www.wikidata.org/entity/Q10798782'), ('profession', 'television actor')]\n",
      "[('c', 'http://www.wikidata.org/entity/Q446031'), ('cname', 'Nikki Griffin'), ('p', 'http://www.wikidata.org/entity/Q10798782'), ('profession', 'television actor')]\n",
      "[('c', 'http://www.wikidata.org/entity/Q312705'), ('cname', 'John Cho'), ('p', 'http://www.wikidata.org/entity/Q10798782'), ('profession', 'television actor')]\n",
      "[('c', 'http://www.wikidata.org/entity/Q516659'), ('cname', 'Virginia Williams'), ('p', 'http://www.wikidata.org/entity/Q10798782'), ('profession', 'television actor')]\n",
      "[('c', 'http://www.wikidata.org/entity/Q200566'), ('cname', 'Cobie Smulders'), ('p', 'http://www.wikidata.org/entity/Q10798782'), ('profession', 'television actor')]\n",
      "[('c', 'http://www.wikidata.org/entity/Q435839'), ('cname', 'Ashley Williams'), ('p', 'http://www.wikidata.org/entity/Q10798782'), ('profession', 'television actor')]\n",
      "[('c', 'http://www.wikidata.org/entity/Q446481'), ('cname', 'Harvey Fierstein'), ('p', 'http://www.wikidata.org/entity/Q10798782'), ('profession', 'television actor')]\n",
      "[('c', 'http://www.wikidata.org/entity/Q926420'), ('cname', 'Robbie Amell'), ('p', 'http://www.wikidata.org/entity/Q10798782'), ('profession', 'television actor')]\n",
      "[('c', 'http://www.wikidata.org/entity/Q215546'), ('cname', 'Carrie Underwood'), ('p', 'http://www.wikidata.org/entity/Q10798782'), ('profession', 'television actor')]\n",
      "[('c', 'http://www.wikidata.org/entity/Q289330'), ('cname', 'Erin Cardillo'), ('p', 'http://www.wikidata.org/entity/Q10798782'), ('profession', 'television actor')]\n",
      "[('c', 'http://www.wikidata.org/entity/Q3859348'), ('cname', 'Misti Traya'), ('p', 'http://www.wikidata.org/entity/Q10798782'), ('profession', 'television actor')]\n",
      "[('c', 'http://www.wikidata.org/entity/Q1332676'), ('cname', 'William Schallert'), ('p', 'http://www.wikidata.org/entity/Q10798782'), ('profession', 'television actor')]\n",
      "[('c', 'http://www.wikidata.org/entity/Q11975'), ('cname', 'Britney Spears'), ('p', 'http://www.wikidata.org/entity/Q10798782'), ('profession', 'television actor')]\n",
      "[('c', 'http://www.wikidata.org/entity/Q260184'), ('cname', 'Eva Amurri'), ('p', 'http://www.wikidata.org/entity/Q10798782'), ('profession', 'television actor')]\n",
      "[('c', 'http://www.wikidata.org/entity/Q291024'), ('cname', 'Moon Zappa'), ('p', 'http://www.wikidata.org/entity/Q10798782'), ('profession', 'television actor')]\n",
      "[('c', 'http://www.wikidata.org/entity/Q40715'), ('cname', 'Jennifer Lopez'), ('p', 'http://www.wikidata.org/entity/Q10798782'), ('profession', 'television actor')]\n",
      "[('c', 'http://www.wikidata.org/entity/Q512376'), ('cname', 'Suzy Nakamura'), ('p', 'http://www.wikidata.org/entity/Q10798782'), ('profession', 'television actor')]\n",
      "[('c', 'http://www.wikidata.org/entity/Q594265'), ('cname', 'Neil Jackson'), ('p', 'http://www.wikidata.org/entity/Q10798782'), ('profession', 'television actor')]\n",
      "[('c', 'http://www.wikidata.org/entity/Q220949'), ('cname', 'Rachel Bilson'), ('p', 'http://www.wikidata.org/entity/Q10798782'), ('profession', 'television actor')]\n",
      "[('c', 'http://www.wikidata.org/entity/Q236766'), ('cname', 'Maggie Wheeler'), ('p', 'http://www.wikidata.org/entity/Q10798782'), ('profession', 'television actor')]\n",
      "[('c', 'http://www.wikidata.org/entity/Q255293'), ('cname', 'Geoff Stults'), ('p', 'http://www.wikidata.org/entity/Q10798782'), ('profession', 'television actor')]\n"
     ]
    },
    {
     "data": {
      "text/plain": [
       "25"
      ]
     },
     "execution_count": 17,
     "metadata": {},
     "output_type": "execute_result"
    }
   ],
   "source": [
    "queryString = \"\"\"\n",
    "SELECT DISTINCT ?c ?cname ?p ?profession\n",
    "WHERE { \n",
    "\n",
    "?series wdt:P527/wdt:P527/wdt:P161 ?c.\n",
    "?c wdt:P106 ?p.\n",
    "\n",
    "?c <http://schema.org/name> ?cname.\n",
    "?p <http://schema.org/name> ?profession.\n",
    "\n",
    "FILTER(?series = wd:Q147235 || ?series = wd:Q23831)\n",
    "\n",
    "} \n",
    "LIMIT 25\n",
    "\"\"\"\n",
    "\n",
    "print(\"Results\")\n",
    "run_query(queryString)"
   ]
  },
  {
   "cell_type": "markdown",
   "id": "770762e0-0184-4c9c-93a4-dfe7192f6fc5",
   "metadata": {},
   "source": [
    "The property \"cast member\" (wdt:P161) returns the information I am looking for, therefore I will use it to return the number of episodes in which each cast member played a role. In addition, I discovered not all cast members are television actor (wd:Q10798782), I will use this information later on.\n",
    "\n",
    "I now return the 10 most present actors for HIMYM (wd:Q147235) and The Office(US)(wd:Q23831)."
   ]
  },
  {
   "cell_type": "code",
   "execution_count": 18,
   "id": "fc03bdad-101a-4a44-aad0-4e20ab52fad9",
   "metadata": {},
   "outputs": [
    {
     "name": "stdout",
     "output_type": "stream",
     "text": [
      "Results\n",
      "[('cname', 'Josh Radnor'), ('episodes', '145')]\n",
      "[('cname', 'Jason Segel'), ('episodes', '145')]\n",
      "[('cname', 'Cobie Smulders'), ('episodes', '145')]\n",
      "[('cname', 'Neil Patrick Harris'), ('episodes', '145')]\n",
      "[('cname', 'Alyson Hannigan'), ('episodes', '143')]\n",
      "[('cname', 'Bob Saget'), ('episodes', '142')]\n",
      "[('cname', 'Lyndsy Fonseca'), ('episodes', '48')]\n",
      "[('cname', 'David Henrie'), ('episodes', '48')]\n",
      "[('cname', 'Charlene Amoia'), ('episodes', '17')]\n",
      "[('cname', 'Jennifer Morrison'), ('episodes', '12')]\n"
     ]
    },
    {
     "data": {
      "text/plain": [
       "10"
      ]
     },
     "execution_count": 18,
     "metadata": {},
     "output_type": "execute_result"
    }
   ],
   "source": [
    "queryString = \"\"\"\n",
    "SELECT DISTINCT ?cname COUNT(DISTINCT ?e) AS ?episodes\n",
    "WHERE { \n",
    "\n",
    "wd:Q147235 wdt:P527/wdt:P527 ?e.\n",
    "?e wdt:P161 ?c.\n",
    "\n",
    "?c <http://schema.org/name> ?cname.\n",
    "\n",
    "} \n",
    "GROUP BY ?cname\n",
    "ORDER BY DESC(?episodes)\n",
    "LIMIT 10\n",
    "\"\"\"\n",
    "\n",
    "print(\"Results\")\n",
    "run_query(queryString)"
   ]
  },
  {
   "cell_type": "code",
   "execution_count": 19,
   "id": "96f4076e-6d40-4c0d-a3cc-284840b33280",
   "metadata": {},
   "outputs": [
    {
     "name": "stdout",
     "output_type": "stream",
     "text": [
      "Results\n",
      "[('cname', 'Ellie Kemper'), ('episodes', '1')]\n",
      "[('cname', 'Craig Robinson'), ('episodes', '1')]\n",
      "[('cname', 'Catherine Tate'), ('episodes', '1')]\n",
      "[('cname', 'Jenna Fischer'), ('episodes', '1')]\n",
      "[('cname', 'Rainn Wilson'), ('episodes', '1')]\n",
      "[('cname', 'Ed Helms'), ('episodes', '1')]\n",
      "[('cname', 'John Krasinski'), ('episodes', '1')]\n"
     ]
    },
    {
     "data": {
      "text/plain": [
       "7"
      ]
     },
     "execution_count": 19,
     "metadata": {},
     "output_type": "execute_result"
    }
   ],
   "source": [
    "queryString = \"\"\"\n",
    "SELECT DISTINCT ?cname COUNT(DISTINCT ?e) AS ?episodes\n",
    "WHERE { \n",
    "\n",
    "wd:Q23831 wdt:P527/wdt:P527 ?e.\n",
    "?e wdt:P161 ?c.\n",
    "\n",
    "?c <http://schema.org/name> ?cname.\n",
    "\n",
    "} \n",
    "GROUP BY ?cname\n",
    "ORDER BY DESC(?episodes)\n",
    "LIMIT 10\n",
    "\"\"\"\n",
    "\n",
    "print(\"Results\")\n",
    "run_query(queryString)"
   ]
  },
  {
   "cell_type": "markdown",
   "id": "aeba9a87-64bd-4a15-9960-1d80ef967c3d",
   "metadata": {},
   "source": [
    "These results highlighted some crucial aspects. Firstly, these results are difficult to read because I am displaying only the actor name. For this reason, they are not very understandable for someone who does not know the series very well hence he or she does not know who is playing who. The solution could be displaying both the actor and the role name. \n",
    "\n",
    "As far as HIMYM is concerned, results seem correct since the most present actors played a role in 145 episodes out of 208. On the other hand, the results for The Office (US) are clearly incorrect. Therefore I will take a step back and look more closely on the information about the single episodes. The above results showed that data are stored in a different way for the two tv series therefore from now on I will look for information about the two series separetely."
   ]
  },
  {
   "cell_type": "markdown",
   "id": "ec29b85d-b883-4339-9eb6-cfa91f0d0f9d",
   "metadata": {
    "tags": []
   },
   "source": [
    "### Retrieving the number of episodes each cast member appear on (The Office(US))\n",
    "\n",
    "I recall there are 208 episodes for HIMYM and 201 for The Office(US). I will check again the seasons' properties and the episodes' properties for the two tv series. Since results seemed correct for HIMYM I look for such properties for The Office(US)."
   ]
  },
  {
   "cell_type": "code",
   "execution_count": 20,
   "id": "a872b8eb-0f63-490d-9434-1f4a49a62bc0",
   "metadata": {},
   "outputs": [
    {
     "name": "stdout",
     "output_type": "stream",
     "text": [
      "Results\n",
      "[('p', 'http://www.wikidata.org/prop/direct/P527'), ('pname', 'has part'), ('objects', '201')]\n",
      "[('p', 'http://www.wikidata.org/prop/direct/P1258'), ('pname', 'Rotten Tomatoes ID'), ('objects', '9')]\n",
      "[('p', 'http://www.wikidata.org/prop/direct/P31'), ('pname', 'instance of'), ('objects', '9')]\n",
      "[('p', 'http://www.wikidata.org/prop/direct/P1712'), ('pname', 'Metacritic ID'), ('objects', '9')]\n",
      "[('p', 'http://www.wikidata.org/prop/direct/P364'), ('pname', 'original language of film or TV show'), ('objects', '9')]\n",
      "[('p', 'http://www.wikidata.org/prop/direct/P1113'), ('pname', 'number of episodes'), ('objects', '9')]\n",
      "[('p', 'http://www.wikidata.org/prop/direct/P179'), ('pname', 'part of the series'), ('objects', '9')]\n",
      "[('p', 'http://www.wikidata.org/prop/direct/P2638'), ('pname', 'TV.com ID'), ('objects', '9')]\n",
      "[('p', 'http://www.wikidata.org/prop/direct/P2704'), ('pname', 'EIDR content ID'), ('objects', '9')]\n",
      "[('p', 'http://www.wikidata.org/prop/direct/P2529'), ('pname', 'ČSFD film ID'), ('objects', '9')]\n",
      "[('p', 'http://www.wikidata.org/prop/direct/P495'), ('pname', 'country of origin'), ('objects', '9')]\n",
      "[('p', 'http://www.wikidata.org/prop/direct/P646'), ('pname', 'Freebase ID'), ('objects', '9')]\n",
      "[('p', 'http://www.wikidata.org/prop/direct/P3302'), ('pname', 'Open Media Database film ID'), ('objects', '8')]\n",
      "[('p', 'http://www.wikidata.org/prop/direct/P2581'), ('pname', 'BabelNet ID'), ('objects', '3')]\n",
      "[('p', 'http://www.wikidata.org/prop/direct/P2684'), ('pname', 'Kijkwijzer rating'), ('objects', '1')]\n",
      "[('p', 'http://www.wikidata.org/prop/direct/P2747'), ('pname', 'Filmiroda rating'), ('objects', '1')]\n",
      "[('p', 'http://www.wikidata.org/prop/direct/P910'), ('pname', \"topic's main category\"), ('objects', '1')]\n"
     ]
    },
    {
     "data": {
      "text/plain": [
       "17"
      ]
     },
     "execution_count": 20,
     "metadata": {},
     "output_type": "execute_result"
    }
   ],
   "source": [
    "queryString = \"\"\"\n",
    "SELECT ?p ?pname COUNT(?o) AS ?objects\n",
    "WHERE { \n",
    "\n",
    "wd:Q23831 wdt:P527 ?s.\n",
    "?s ?p ?o.\n",
    "\n",
    "?p <http://schema.org/name> ?pname.\n",
    "\n",
    "\n",
    "\n",
    "} \n",
    "GROUP BY ?p ?pname\n",
    "ORDER BY DESC(?objects)\n",
    "\"\"\"\n",
    "\n",
    "print(\"Results\")\n",
    "run_query(queryString)"
   ]
  },
  {
   "cell_type": "markdown",
   "id": "98920a9a-eb36-4b64-922b-5ce8319bc042",
   "metadata": {},
   "source": [
    "Cast Member information is not stored in a season's property therefore I look more closely to the episodes' properties."
   ]
  },
  {
   "cell_type": "code",
   "execution_count": 21,
   "id": "352752df-987e-413e-a3da-5cae8409f555",
   "metadata": {},
   "outputs": [
    {
     "name": "stdout",
     "output_type": "stream",
     "text": [
      "Results\n",
      "[('p', 'http://www.wikidata.org/prop/direct/P495'), ('pname', 'country of origin'), ('objects', '203')]\n",
      "[('p', 'http://www.wikidata.org/prop/direct/P155'), ('pname', 'follows'), ('objects', '201')]\n",
      "[('p', 'http://www.wikidata.org/prop/direct/P2364'), ('pname', 'production code'), ('objects', '201')]\n",
      "[('p', 'http://www.wikidata.org/prop/direct/P31'), ('pname', 'instance of'), ('objects', '201')]\n",
      "[('p', 'http://www.wikidata.org/prop/direct/P364'), ('pname', 'original language of film or TV show'), ('objects', '201')]\n",
      "[('p', 'http://www.wikidata.org/prop/direct/P4908'), ('pname', 'season'), ('objects', '201')]\n",
      "[('p', 'http://www.wikidata.org/prop/direct/P179'), ('pname', 'part of the series'), ('objects', '201')]\n",
      "[('p', 'http://www.wikidata.org/prop/direct/P1476'), ('pname', 'title'), ('objects', '201')]\n",
      "[('p', 'http://www.wikidata.org/prop/direct/P156'), ('pname', 'followed by'), ('objects', '200')]\n",
      "[('p', 'http://www.wikidata.org/prop/direct/P58'), ('pname', 'screenwriter'), ('objects', '198')]\n",
      "[('p', 'http://www.wikidata.org/prop/direct/P2638'), ('pname', 'TV.com ID'), ('objects', '192')]\n",
      "[('p', 'http://www.wikidata.org/prop/direct/P57'), ('pname', 'director'), ('objects', '191')]\n",
      "[('p', 'http://www.wikidata.org/prop/direct/P1258'), ('pname', 'Rotten Tomatoes ID'), ('objects', '188')]\n",
      "[('p', 'http://www.wikidata.org/prop/direct/P2704'), ('pname', 'EIDR content ID'), ('objects', '184')]\n",
      "[('p', 'http://www.wikidata.org/prop/direct/P1562'), ('pname', 'AllMovie title ID'), ('objects', '180')]\n",
      "[('p', 'http://www.wikidata.org/prop/direct/P4665'), ('pname', 'CineMagia title ID'), ('objects', '175')]\n",
      "[('p', 'http://www.wikidata.org/prop/direct/P345'), ('pname', 'IMDb ID'), ('objects', '175')]\n",
      "[('p', 'http://www.wikidata.org/prop/direct/P2529'), ('pname', 'ČSFD film ID'), ('objects', '175')]\n",
      "[('p', 'http://www.wikidata.org/prop/direct/P577'), ('pname', 'publication date'), ('objects', '173')]\n",
      "[('p', 'http://www.wikidata.org/prop/direct/P750'), ('pname', 'distributed by'), ('objects', '169')]\n",
      "[('p', 'http://www.wikidata.org/prop/direct/P7334'), ('pname', 'Vudu video ID'), ('objects', '168')]\n",
      "[('p', 'http://www.wikidata.org/prop/direct/P437'), ('pname', 'distribution format'), ('objects', '168')]\n",
      "[('p', 'http://www.wikidata.org/prop/direct/P646'), ('pname', 'Freebase ID'), ('objects', '166')]\n",
      "[('p', 'http://www.wikidata.org/prop/direct/P3212'), ('pname', 'ISAN'), ('objects', '90')]\n",
      "[('p', 'http://www.wikidata.org/prop/direct/P361'), ('pname', 'part of'), ('objects', '33')]\n",
      "[('p', 'http://www.wikidata.org/prop/direct/P9215'), ('pname', 'set during recurring event'), ('objects', '14')]\n",
      "[('p', 'http://www.wikidata.org/prop/direct/P161'), ('pname', 'cast member'), ('objects', '7')]\n",
      "[('p', 'http://www.wikidata.org/prop/direct/P1889'), ('pname', 'different from'), ('objects', '3')]\n",
      "[('p', 'http://www.wikidata.org/prop/direct/P5905'), ('pname', 'Comic Vine ID'), ('objects', '3')]\n",
      "[('p', 'http://www.wikidata.org/prop/direct/P856'), ('pname', 'official website'), ('objects', '2')]\n",
      "[('p', 'http://www.wikidata.org/prop/direct/P2581'), ('pname', 'BabelNet ID'), ('objects', '2')]\n",
      "[('p', 'http://www.wikidata.org/prop/direct/P8408'), ('pname', 'KBpedia ID'), ('objects', '2')]\n",
      "[('p', 'http://www.wikidata.org/prop/direct/P136'), ('pname', 'genre'), ('objects', '2')]\n",
      "[('p', 'http://www.wikidata.org/prop/direct/P2671'), ('pname', 'Google Knowledge Graph ID'), ('objects', '1')]\n",
      "[('p', 'http://www.wikidata.org/prop/direct/P3417'), ('pname', 'Quora topic ID'), ('objects', '1')]\n",
      "[('p', 'http://www.wikidata.org/prop/direct/P462'), ('pname', 'color'), ('objects', '1')]\n",
      "[('p', 'http://www.wikidata.org/prop/direct/P1874'), ('pname', 'Netflix ID'), ('objects', '1')]\n",
      "[('p', 'http://www.wikidata.org/prop/direct/P840'), ('pname', 'narrative location'), ('objects', '1')]\n",
      "[('p', 'http://www.wikidata.org/prop/direct/P2703'), ('pname', 'BFI National Archive work ID'), ('objects', '1')]\n",
      "[('p', 'http://www.wikidata.org/prop/direct/P449'), ('pname', 'original broadcaster'), ('objects', '1')]\n",
      "[('p', 'http://www.wikidata.org/prop/direct/P2603'), ('pname', 'Kinopoisk film ID'), ('objects', '1')]\n"
     ]
    },
    {
     "data": {
      "text/plain": [
       "41"
      ]
     },
     "execution_count": 21,
     "metadata": {},
     "output_type": "execute_result"
    }
   ],
   "source": [
    "queryString = \"\"\"\n",
    "SELECT ?p ?pname COUNT(?o) AS ?objects\n",
    "WHERE { \n",
    "\n",
    "wd:Q23831 wdt:P527/wdt:P527 ?e.\n",
    "?e ?p ?o.\n",
    "\n",
    "?p <http://schema.org/name> ?pname.\n",
    "\n",
    "\n",
    "\n",
    "} \n",
    "GROUP BY ?p ?pname\n",
    "ORDER BY DESC(?objects)\n",
    "\"\"\"\n",
    "\n",
    "print(\"Results\")\n",
    "run_query(queryString)"
   ]
  },
  {
   "cell_type": "markdown",
   "id": "8cb41f86-e03c-4a39-bf0c-09c1203611eb",
   "metadata": {},
   "source": [
    "As expected, diffrently from HIMYM, the cast member property has only 7 objects therefore I cannot access information about the number of episodes each cast member played a role in from such property. I take a further step back and look at the property \"cast member\" (wdt:P161) and \"characters\" (wdt:P674) of the node The Office (US)."
   ]
  },
  {
   "cell_type": "code",
   "execution_count": 22,
   "id": "4d8cb619-f565-494c-ae81-afb543599a18",
   "metadata": {},
   "outputs": [
    {
     "name": "stdout",
     "output_type": "stream",
     "text": [
      "Results\n",
      "[('c', 'http://www.wikidata.org/entity/Q1967229'), ('cname', 'Ryan Howard')]\n",
      "[('c', 'http://www.wikidata.org/entity/Q2013030'), ('cname', 'Jim Halpert')]\n",
      "[('c', 'http://www.wikidata.org/entity/Q2027359'), ('cname', 'Pam Halpert')]\n",
      "[('c', 'http://www.wikidata.org/entity/Q2346771'), ('cname', 'Michael Scott')]\n",
      "[('c', 'http://www.wikidata.org/entity/Q4169030'), ('cname', 'Dwight Schrute')]\n",
      "[('c', 'http://www.wikidata.org/entity/Q4760429'), ('cname', 'Andy Bernard')]\n",
      "[('c', 'http://www.wikidata.org/entity/Q6149368'), ('cname', 'Jan Levinson')]\n",
      "[('c', 'http://www.wikidata.org/entity/Q7342694'), ('cname', 'Robert California')]\n"
     ]
    },
    {
     "data": {
      "text/plain": [
       "8"
      ]
     },
     "execution_count": 22,
     "metadata": {},
     "output_type": "execute_result"
    }
   ],
   "source": [
    "queryString = \"\"\"\n",
    "SELECT ?c ?cname\n",
    "WHERE { \n",
    "\n",
    "wd:Q23831 wdt:P674 ?c.\n",
    "\n",
    "?c <http://schema.org/name> ?cname.\n",
    "\n",
    "} \n",
    "\"\"\"\n",
    "\n",
    "print(\"Results\")\n",
    "run_query(queryString)"
   ]
  },
  {
   "cell_type": "markdown",
   "id": "38b2da93-5097-4195-a523-bc433714046f",
   "metadata": {},
   "source": [
    "I look for all properties characters are objects to."
   ]
  },
  {
   "cell_type": "code",
   "execution_count": 23,
   "id": "c2384c54-7dae-45f7-8f3d-82f2c0df27b3",
   "metadata": {},
   "outputs": [
    {
     "name": "stdout",
     "output_type": "stream",
     "text": [
      "Results\n",
      "[('p', 'http://www.wikidata.org/prop/direct/P674'), ('pname', 'characters'), ('subjects', '8')]\n",
      "[('p', 'http://www.wikidata.org/prop/direct/P26'), ('pname', 'spouse'), ('subjects', '2')]\n",
      "[('p', 'http://www.wikidata.org/prop/direct/P451'), ('pname', 'unmarried partner'), ('subjects', '2')]\n",
      "[('p', 'http://www.wikidata.org/prop/direct/P25'), ('pname', 'mother'), ('subjects', '1')]\n",
      "[('p', 'http://www.wikidata.org/prop/direct/P22'), ('pname', 'father'), ('subjects', '1')]\n",
      "[('p', 'http://www.wikidata.org/prop/direct/P1038'), ('pname', 'relative'), ('subjects', '1')]\n"
     ]
    },
    {
     "data": {
      "text/plain": [
       "6"
      ]
     },
     "execution_count": 23,
     "metadata": {},
     "output_type": "execute_result"
    }
   ],
   "source": [
    "queryString = \"\"\"\n",
    "SELECT ?p ?pname COUNT(?s) AS ?subjects\n",
    "WHERE { \n",
    "\n",
    "wd:Q23831 wdt:P674 ?c.\n",
    "?s ?p ?c.\n",
    "\n",
    "?p <http://schema.org/name> ?pname.\n",
    "\n",
    "} \n",
    "GROUP BY ?p ?pname\n",
    "ORDER BY DESC(?subjects)\n",
    "\"\"\"\n",
    "\n",
    "print(\"Results\")\n",
    "run_query(queryString)"
   ]
  },
  {
   "cell_type": "markdown",
   "id": "2e4130a2-f3f8-4d2d-8d50-dffeafc09b59",
   "metadata": {},
   "source": [
    "I found no interesting properties therefore I look in the other direction."
   ]
  },
  {
   "cell_type": "code",
   "execution_count": 24,
   "id": "0b630649-ccfe-4f74-b357-8c855cda78c5",
   "metadata": {},
   "outputs": [
    {
     "name": "stdout",
     "output_type": "stream",
     "text": [
      "Results\n",
      "[('p', 'http://www.wikidata.org/prop/direct/P735'), ('pname', 'given name'), ('objects', '11')]\n",
      "[('p', 'http://www.wikidata.org/prop/direct/P31'), ('pname', 'instance of'), ('objects', '10')]\n",
      "[('p', 'http://www.wikidata.org/prop/direct/P106'), ('pname', 'occupation'), ('objects', '8')]\n",
      "[('p', 'http://www.wikidata.org/prop/direct/P1441'), ('pname', 'present in work'), ('objects', '8')]\n",
      "[('p', 'http://www.wikidata.org/prop/direct/P21'), ('pname', 'sex or gender'), ('objects', '8')]\n",
      "[('p', 'http://www.wikidata.org/prop/direct/P175'), ('pname', 'performer'), ('objects', '8')]\n",
      "[('p', 'http://www.wikidata.org/prop/direct/P646'), ('pname', 'Freebase ID'), ('objects', '8')]\n",
      "[('p', 'http://www.wikidata.org/prop/direct/P170'), ('pname', 'creator'), ('objects', '5')]\n",
      "[('p', 'http://www.wikidata.org/prop/direct/P40'), ('pname', 'child'), ('objects', '4')]\n",
      "[('p', 'http://www.wikidata.org/prop/direct/P26'), ('pname', 'spouse'), ('objects', '4')]\n",
      "[('p', 'http://www.wikidata.org/prop/direct/P569'), ('pname', 'date of birth'), ('objects', '4')]\n",
      "[('p', 'http://www.wikidata.org/prop/direct/P27'), ('pname', 'country of citizenship'), ('objects', '4')]\n",
      "[('p', 'http://www.wikidata.org/prop/direct/P734'), ('pname', 'family name'), ('objects', '3')]\n",
      "[('p', 'http://www.wikidata.org/prop/direct/P5905'), ('pname', 'Comic Vine ID'), ('objects', '3')]\n",
      "[('p', 'http://www.wikidata.org/prop/direct/P345'), ('pname', 'IMDb ID'), ('objects', '2')]\n",
      "[('p', 'http://www.wikidata.org/prop/direct/P18'), ('pname', 'image'), ('objects', '2')]\n",
      "[('p', 'http://www.wikidata.org/prop/direct/P6802'), ('pname', 'related image'), ('objects', '2')]\n",
      "[('p', 'http://www.wikidata.org/prop/direct/P4839'), ('pname', 'Wolfram Language entity code'), ('objects', '2')]\n",
      "[('p', 'http://www.wikidata.org/prop/direct/P108'), ('pname', 'employer'), ('objects', '2')]\n",
      "[('p', 'http://www.wikidata.org/prop/direct/P451'), ('pname', 'unmarried partner'), ('objects', '2')]\n",
      "[('p', 'http://www.wikidata.org/prop/direct/P3417'), ('pname', 'Quora topic ID'), ('objects', '1')]\n",
      "[('p', 'http://www.wikidata.org/prop/direct/P571'), ('pname', 'inception'), ('objects', '1')]\n",
      "[('p', 'http://www.wikidata.org/prop/direct/P7157'), ('pname', 'The Top Tens ID'), ('objects', '1')]\n",
      "[('p', 'http://www.wikidata.org/prop/direct/P1038'), ('pname', 'relative'), ('objects', '1')]\n",
      "[('p', 'http://www.wikidata.org/prop/direct/P1449'), ('pname', 'nickname'), ('objects', '1')]\n",
      "[('p', 'http://www.wikidata.org/prop/direct/P6760'), ('pname', 'Know Your Meme ID'), ('objects', '1')]\n",
      "[('p', 'http://www.wikidata.org/prop/direct/P144'), ('pname', 'based on'), ('objects', '1')]\n"
     ]
    },
    {
     "data": {
      "text/plain": [
       "27"
      ]
     },
     "execution_count": 24,
     "metadata": {},
     "output_type": "execute_result"
    }
   ],
   "source": [
    "queryString = \"\"\"\n",
    "SELECT ?p ?pname COUNT(?o) AS ?objects\n",
    "WHERE { \n",
    "\n",
    "wd:Q23831 wdt:P674 ?c.\n",
    "?c ?p ?o.\n",
    "\n",
    "?p <http://schema.org/name> ?pname.\n",
    "\n",
    "} \n",
    "GROUP BY ?p ?pname\n",
    "ORDER BY DESC(?objects)\n",
    "\"\"\"\n",
    "\n",
    "print(\"Results\")\n",
    "run_query(queryString)"
   ]
  },
  {
   "cell_type": "markdown",
   "id": "7faa1cad-323d-47b7-9910-478bb9914aae",
   "metadata": {},
   "source": [
    "Again, no information about the presence in an episode is provided by such properties.\n",
    "\n",
    "I now look at the cast members."
   ]
  },
  {
   "cell_type": "code",
   "execution_count": 25,
   "id": "ac5b913e-87a0-4de8-b6e6-3181fb41420c",
   "metadata": {},
   "outputs": [
    {
     "name": "stdout",
     "output_type": "stream",
     "text": [
      "Results\n",
      "[('c', 'http://www.wikidata.org/entity/Q1050211'), ('cname', 'Leslie David Baker')]\n",
      "[('c', 'http://www.wikidata.org/entity/Q1139248'), ('cname', 'Oscar Nunez')]\n",
      "[('c', 'http://www.wikidata.org/entity/Q216221'), ('cname', 'Steve Carell')]\n",
      "[('c', 'http://www.wikidata.org/entity/Q2238008'), ('cname', 'Creed Bratton')]\n",
      "[('c', 'http://www.wikidata.org/entity/Q231203'), ('cname', 'Amy Ryan')]\n",
      "[('c', 'http://www.wikidata.org/entity/Q238877'), ('cname', 'Jenna Fischer')]\n",
      "[('c', 'http://www.wikidata.org/entity/Q254766'), ('cname', 'Catherine Tate')]\n",
      "[('c', 'http://www.wikidata.org/entity/Q2669971'), ('cname', 'Angela Kinsey')]\n",
      "[('c', 'http://www.wikidata.org/entity/Q2671438'), ('cname', 'Paul Lieberstein')]\n",
      "[('c', 'http://www.wikidata.org/entity/Q269901'), ('cname', 'Melora Hardin')]\n",
      "[('c', 'http://www.wikidata.org/entity/Q2924850'), ('cname', 'Brian Baumgartner')]\n",
      "[('c', 'http://www.wikidata.org/entity/Q296928'), ('cname', 'James Spader')]\n",
      "[('c', 'http://www.wikidata.org/entity/Q3028200'), ('cname', 'Kate Flannery')]\n",
      "[('c', 'http://www.wikidata.org/entity/Q313039'), ('cname', 'John Krasinski')]\n",
      "[('c', 'http://www.wikidata.org/entity/Q328790'), ('cname', 'Ed Helms')]\n",
      "[('c', 'http://www.wikidata.org/entity/Q349548'), ('cname', 'Rainn Wilson')]\n",
      "[('c', 'http://www.wikidata.org/entity/Q459925'), ('cname', 'B. J. Novak')]\n",
      "[('c', 'http://www.wikidata.org/entity/Q508280'), ('cname', 'Phyllis Smith')]\n",
      "[('c', 'http://www.wikidata.org/entity/Q512818'), ('cname', 'Clark Duke')]\n",
      "[('c', 'http://www.wikidata.org/entity/Q539917'), ('cname', 'Mindy Kaling')]\n",
      "[('c', 'http://www.wikidata.org/entity/Q6124807'), ('cname', 'Jake Lacy')]\n",
      "[('c', 'http://www.wikidata.org/entity/Q64560'), ('cname', 'David Denman')]\n",
      "[('c', 'http://www.wikidata.org/entity/Q72077'), ('cname', 'Ellie Kemper')]\n",
      "[('c', 'http://www.wikidata.org/entity/Q8063863'), ('cname', 'Zach Woods')]\n",
      "[('c', 'http://www.wikidata.org/entity/Q926912'), ('cname', 'Craig Robinson')]\n"
     ]
    },
    {
     "data": {
      "text/plain": [
       "25"
      ]
     },
     "execution_count": 25,
     "metadata": {},
     "output_type": "execute_result"
    }
   ],
   "source": [
    "queryString = \"\"\"\n",
    "SELECT ?c ?cname \n",
    "WHERE { \n",
    "\n",
    "wd:Q23831 wdt:P161 ?c.\n",
    "\n",
    "?c <http://schema.org/name> ?cname.\n",
    "\n",
    "\n",
    "\n",
    "} \n",
    "\"\"\"\n",
    "\n",
    "print(\"Results\")\n",
    "run_query(queryString)"
   ]
  },
  {
   "cell_type": "markdown",
   "id": "ff8253a3-ad2d-4df7-9e9c-e07301196a4f",
   "metadata": {},
   "source": [
    "I retrieve all properties a cast member is object to."
   ]
  },
  {
   "cell_type": "code",
   "execution_count": 26,
   "id": "12d1734e-998d-493b-a40e-2714061f5547",
   "metadata": {},
   "outputs": [
    {
     "name": "stdout",
     "output_type": "stream",
     "text": [
      "Results\n",
      "[('p', 'http://www.wikidata.org/prop/direct/P161'), ('pname', 'cast member'), ('subjects', '526')]\n",
      "[('p', 'http://www.wikidata.org/prop/direct/P58'), ('pname', 'screenwriter'), ('subjects', '67')]\n",
      "[('p', 'http://www.wikidata.org/prop/direct/P175'), ('pname', 'performer'), ('subjects', '48')]\n",
      "[('p', 'http://www.wikidata.org/prop/direct/P57'), ('pname', 'director'), ('subjects', '42')]\n",
      "[('p', 'http://www.wikidata.org/prop/direct/P725'), ('pname', 'voice actor'), ('subjects', '35')]\n",
      "[('p', 'http://www.wikidata.org/prop/direct/P1346'), ('pname', 'winner'), ('subjects', '28')]\n",
      "[('p', 'http://www.wikidata.org/prop/direct/P170'), ('pname', 'creator'), ('subjects', '13')]\n",
      "[('p', 'http://www.wikidata.org/prop/direct/P162'), ('pname', 'producer'), ('subjects', '11')]\n",
      "[('p', 'http://www.wikidata.org/prop/direct/P26'), ('pname', 'spouse'), ('subjects', '9')]\n",
      "[('p', 'http://www.wikidata.org/prop/direct/P301'), ('pname', \"category's main topic\"), ('subjects', '6')]\n",
      "[('p', 'http://www.wikidata.org/prop/direct/P40'), ('pname', 'child'), ('subjects', '4')]\n",
      "[('p', 'http://www.wikidata.org/prop/direct/P50'), ('pname', 'author'), ('subjects', '4')]\n",
      "[('p', 'http://www.wikidata.org/prop/direct/P1431'), ('pname', 'executive producer'), ('subjects', '3')]\n",
      "[('p', 'http://www.wikidata.org/prop/direct/P971'), ('pname', 'category combines topics'), ('subjects', '3')]\n",
      "[('p', 'http://www.wikidata.org/prop/direct/P2438'), ('pname', 'narrator'), ('subjects', '3')]\n",
      "[('p', 'http://www.wikidata.org/prop/direct/P371'), ('pname', 'presenter'), ('subjects', '3')]\n",
      "[('p', 'http://www.wikidata.org/prop/direct/P3373'), ('pname', 'sibling'), ('subjects', '2')]\n",
      "[('p', 'http://www.wikidata.org/prop/direct/P5030'), ('pname', 'talk show guest'), ('subjects', '2')]\n",
      "[('p', 'http://www.wikidata.org/prop/direct/P25'), ('pname', 'mother'), ('subjects', '1')]\n",
      "[('p', 'http://www.wikidata.org/prop/direct/P112'), ('pname', 'founded by'), ('subjects', '1')]\n",
      "[('p', 'http://www.wikidata.org/prop/direct/P127'), ('pname', 'owned by'), ('subjects', '1')]\n",
      "[('p', 'http://www.wikidata.org/prop/direct/P1299'), ('pname', 'depicted by'), ('subjects', '1')]\n",
      "[('p', 'http://www.wikidata.org/prop/direct/P1038'), ('pname', 'relative'), ('subjects', '1')]\n",
      "[('p', 'http://www.wikidata.org/prop/direct/P451'), ('pname', 'unmarried partner'), ('subjects', '1')]\n",
      "[('p', 'http://www.wikidata.org/prop/direct/P710'), ('pname', 'participant'), ('subjects', '1')]\n",
      "[('p', 'http://www.wikidata.org/prop/direct/P1040'), ('pname', 'film editor'), ('subjects', '1')]\n"
     ]
    },
    {
     "data": {
      "text/plain": [
       "26"
      ]
     },
     "execution_count": 26,
     "metadata": {},
     "output_type": "execute_result"
    }
   ],
   "source": [
    "queryString = \"\"\"\n",
    "SELECT ?p ?pname COUNT(?s) AS ?subjects\n",
    "WHERE { \n",
    "\n",
    "wd:Q23831 wdt:P161 ?c.\n",
    "\n",
    "?s ?p ?c.\n",
    "\n",
    "?p <http://schema.org/name> ?pname.\n",
    "\n",
    "} \n",
    "GROUP BY ?p ?pname\n",
    "ORDER BY DESC(?subjects)\n",
    "\"\"\"\n",
    "\n",
    "print(\"Results\")\n",
    "run_query(queryString)"
   ]
  },
  {
   "cell_type": "markdown",
   "id": "e6fa9932-b43a-44ab-8528-2e69b2871ce3",
   "metadata": {},
   "source": [
    "I take a closer look at the \"cast member\" property again, let us see which are the instance it is connected to."
   ]
  },
  {
   "cell_type": "code",
   "execution_count": 27,
   "id": "0a3f2590-ca14-4b07-92f8-665dffdacd9f",
   "metadata": {},
   "outputs": [
    {
     "name": "stdout",
     "output_type": "stream",
     "text": [
      "Results\n",
      "[('s', 'http://www.wikidata.org/entity/Q23831'), ('sname', 'The Office'), ('members', '25')]\n",
      "[('s', 'http://www.wikidata.org/entity/Q4760324'), ('sname', \"Andy's Ancestry\"), ('members', '7')]\n",
      "[('s', 'http://www.wikidata.org/entity/Q1139794'), ('sname', 'The 40-Year-Old Virgin'), ('members', '4')]\n",
      "[('s', 'http://www.wikidata.org/entity/Q368674'), ('sname', 'License to Wed'), ('members', '4')]\n",
      "[('s', 'http://www.wikidata.org/entity/Q222800'), ('sname', 'Knocked Up'), ('members', '3')]\n",
      "[('s', 'http://www.wikidata.org/entity/Q2060077'), ('sname', 'Walk Hard: The Dewey Cox Story'), ('members', '3')]\n",
      "[('s', 'http://www.wikidata.org/entity/Q844059'), ('sname', 'New Girl'), ('members', '3')]\n",
      "[('s', 'http://www.wikidata.org/entity/Q2457512'), ('sname', 'The Goods: Live Hard, Sell Hard'), ('members', '3')]\n",
      "[('s', 'http://www.wikidata.org/entity/Q476726'), ('sname', 'Night at the Museum: Battle of the Smithsonian'), ('members', '3')]\n",
      "[('s', 'http://www.wikidata.org/entity/Q117396'), ('sname', 'CSI: Vegas'), ('members', '2')]\n"
     ]
    },
    {
     "data": {
      "text/plain": [
       "10"
      ]
     },
     "execution_count": 27,
     "metadata": {},
     "output_type": "execute_result"
    }
   ],
   "source": [
    "queryString = \"\"\"\n",
    "SELECT ?s ?sname COUNT(DISTINCT ?c) AS ?members\n",
    "WHERE { \n",
    "\n",
    "wd:Q23831 wdt:P161 ?c.\n",
    "\n",
    "?s wdt:P161 ?c;\n",
    "   <http://schema.org/name> ?sname.\n",
    "\n",
    "} \n",
    "GROUP BY ?s ?sname\n",
    "ORDER BY DESC(?members)\n",
    "LIMIT 10\n",
    "\"\"\"\n",
    "\n",
    "print(\"Results\")\n",
    "run_query(queryString)"
   ]
  },
  {
   "cell_type": "markdown",
   "id": "24ecea3c-814c-4ca1-be7f-ea5da5e6260a",
   "metadata": {},
   "source": [
    "\"cast member\" properties is linked to the other productions the actors played a role. I cannot find the information about the episodes in which each actor appeared in The Office (US). \n",
    "\n",
    "By running this query I discovered 3 cast members of The Office (US) acted in New Girl, therefore I return them just for feed my curiosity and see who they are."
   ]
  },
  {
   "cell_type": "code",
   "execution_count": 28,
   "id": "927ff999-3729-477b-aa53-463f305038e3",
   "metadata": {},
   "outputs": [
    {
     "name": "stdout",
     "output_type": "stream",
     "text": [
      "Results\n",
      "[('c', 'http://www.wikidata.org/entity/Q2669971'), ('cname', 'Angela Kinsey')]\n",
      "[('c', 'http://www.wikidata.org/entity/Q3028200'), ('cname', 'Kate Flannery')]\n",
      "[('c', 'http://www.wikidata.org/entity/Q512818'), ('cname', 'Clark Duke')]\n"
     ]
    },
    {
     "data": {
      "text/plain": [
       "3"
      ]
     },
     "execution_count": 28,
     "metadata": {},
     "output_type": "execute_result"
    }
   ],
   "source": [
    "queryString = \"\"\"\n",
    "SELECT ?c ?cname \n",
    "WHERE { \n",
    "\n",
    "wd:Q23831 wdt:P161 ?c.\n",
    "\n",
    "wd:Q844059 wdt:P161 ?c.\n",
    "   \n",
    "?c <http://schema.org/name> ?cname.\n",
    "\n",
    "} \n",
    "\"\"\"\n",
    "\n",
    "print(\"Results\")\n",
    "run_query(queryString)\n",
    "\n"
   ]
  },
  {
   "cell_type": "markdown",
   "id": "c2daae5b-de43-47f8-8f0e-f9b272d3a38a",
   "metadata": {
    "tags": []
   },
   "source": [
    "### Retrieving the role information\n",
    "I look for information about the character each cast member played. I start from The Office(US) and I look for any property that could link a character and a cast member in both direction."
   ]
  },
  {
   "cell_type": "code",
   "execution_count": 29,
   "id": "a051a9d9-58c8-41cb-9005-ab16dc76a5c3",
   "metadata": {},
   "outputs": [
    {
     "name": "stdout",
     "output_type": "stream",
     "text": [
      "Results\n",
      "[('p', 'http://www.wikidata.org/prop/direct/P170'), ('pname', 'creator'), ('objects', '1')]\n",
      "[('p', 'http://www.wikidata.org/prop/direct/P175'), ('pname', 'performer'), ('objects', '8')]\n"
     ]
    },
    {
     "data": {
      "text/plain": [
       "2"
      ]
     },
     "execution_count": 29,
     "metadata": {},
     "output_type": "execute_result"
    }
   ],
   "source": [
    "queryString = \"\"\"\n",
    "SELECT ?p ?pname COUNT(?actor) AS ?objects\n",
    "WHERE { \n",
    "\n",
    "wd:Q23831 wdt:P674 ?character;\n",
    "          wdt:P161 ?actor.\n",
    "        \n",
    "?character ?p ?actor.\n",
    "\n",
    "?p <http://schema.org/name> ?pname.\n",
    "\n",
    "} \n",
    "GROUP BY ?p ?pname\n",
    "\"\"\"\n",
    "\n",
    "print(\"Results\")\n",
    "run_query(queryString)"
   ]
  },
  {
   "cell_type": "code",
   "execution_count": 30,
   "id": "2d68a635-8179-4451-9cf2-0ce3334005e9",
   "metadata": {},
   "outputs": [
    {
     "name": "stdout",
     "output_type": "stream",
     "text": [
      "Results\n",
      "Empty\n"
     ]
    },
    {
     "data": {
      "text/plain": [
       "0"
      ]
     },
     "execution_count": 30,
     "metadata": {},
     "output_type": "execute_result"
    }
   ],
   "source": [
    "queryString = \"\"\"\n",
    "SELECT ?p ?pname COUNT(?character) AS ?objects\n",
    "WHERE { \n",
    "\n",
    "wd:Q23831 wdt:P674 ?character;\n",
    "          wdt:P161 ?actor.\n",
    "        \n",
    "?actor ?p ?character.\n",
    "\n",
    "?p <http://schema.org/name> ?pname.\n",
    "\n",
    "} \n",
    "GROUP BY ?p ?pname\n",
    "\"\"\"\n",
    "\n",
    "print(\"Results\")\n",
    "run_query(queryString)"
   ]
  },
  {
   "cell_type": "markdown",
   "id": "dc667eb2-b0b3-4a01-9355-37ba110a1465",
   "metadata": {},
   "source": [
    "I discovered there is a property called \"performer\" (wdt:P175) that link a character with the actor that plays such role. Therefore I return all characters and who performs them (if data is available)."
   ]
  },
  {
   "cell_type": "code",
   "execution_count": 31,
   "id": "12d81106-4daa-4d23-981f-168854feb9fd",
   "metadata": {},
   "outputs": [
    {
     "name": "stdout",
     "output_type": "stream",
     "text": [
      "Results\n",
      "[('character', 'Ryan Howard'), ('performedBy', 'B. J. Novak')]\n",
      "[('character', 'Jim Halpert'), ('performedBy', 'John Krasinski')]\n",
      "[('character', 'Pam Halpert'), ('performedBy', 'Jenna Fischer')]\n",
      "[('character', 'Michael Scott'), ('performedBy', 'Steve Carell')]\n",
      "[('character', 'Dwight Schrute'), ('performedBy', 'Rainn Wilson')]\n",
      "[('character', 'Andy Bernard'), ('performedBy', 'Ed Helms')]\n",
      "[('character', 'Jan Levinson'), ('performedBy', 'Melora Hardin')]\n",
      "[('character', 'Robert California'), ('performedBy', 'James Spader')]\n"
     ]
    },
    {
     "data": {
      "text/plain": [
       "8"
      ]
     },
     "execution_count": 31,
     "metadata": {},
     "output_type": "execute_result"
    }
   ],
   "source": [
    "queryString = \"\"\"\n",
    "SELECT ?character ?performedBy \n",
    "WHERE { \n",
    "\n",
    "wd:Q23831 wdt:P674 ?c;\n",
    "          wdt:P161 ?actor.\n",
    "        \n",
    "?c wdt:P175 ?actor.\n",
    "\n",
    "?c <http://schema.org/name> ?character.\n",
    "?actor <http://schema.org/name> ?performedBy.\n",
    "\n",
    "} \n",
    "\"\"\"\n",
    "\n",
    "print(\"Results\")\n",
    "run_query(queryString)"
   ]
  },
  {
   "cell_type": "markdown",
   "id": "818043c8-2846-4948-bf1e-927d1718d72c",
   "metadata": {},
   "source": [
    "I check if such property exists also for HIMYM (Recall HIMYM have 480 cast members)."
   ]
  },
  {
   "cell_type": "code",
   "execution_count": 32,
   "id": "a9ed63ed-d87d-4960-925c-db62caf5320b",
   "metadata": {},
   "outputs": [
    {
     "name": "stdout",
     "output_type": "stream",
     "text": [
      "Results\n",
      "[('p', 'http://www.wikidata.org/prop/direct/P170'), ('pname', 'creator'), ('objects', '12')]\n",
      "[('p', 'http://www.wikidata.org/prop/direct/P175'), ('pname', 'performer'), ('objects', '116')]\n"
     ]
    },
    {
     "data": {
      "text/plain": [
       "2"
      ]
     },
     "execution_count": 32,
     "metadata": {},
     "output_type": "execute_result"
    }
   ],
   "source": [
    "queryString = \"\"\"\n",
    "SELECT ?p ?pname COUNT(?actor) AS ?objects\n",
    "WHERE { \n",
    "\n",
    "wd:Q147235 wdt:P674 ?character;\n",
    "          wdt:P161 ?actor.\n",
    "        \n",
    "?character ?p ?actor.\n",
    "\n",
    "?p <http://schema.org/name> ?pname.\n",
    "\n",
    "} \n",
    "GROUP BY ?p ?pname\n",
    "\"\"\"\n",
    "\n",
    "print(\"Results\")\n",
    "run_query(queryString)"
   ]
  },
  {
   "cell_type": "markdown",
   "id": "8a6d2b43-c428-4bac-8e8d-40109676ca8a",
   "metadata": {},
   "source": [
    "I can now return all characters and who performs them (if data is available)."
   ]
  },
  {
   "cell_type": "code",
   "execution_count": 33,
   "id": "d35c16a9-d3f6-495f-ad83-0b4818877b1d",
   "metadata": {},
   "outputs": [
    {
     "name": "stdout",
     "output_type": "stream",
     "text": [
      "Results\n",
      "[('character', 'Robin Scherbatsky'), ('performedBy', 'Cobie Smulders')]\n",
      "[('character', 'Don Frank'), ('performedBy', 'Benjamin Koldyke')]\n",
      "[('character', 'Kevin Venkataraghavan'), ('performedBy', 'Kal Penn')]\n",
      "[('character', 'Nick Podarutti'), ('performedBy', 'Michael Trucco')]\n",
      "[('character', 'Genevieve Scherbatsky'), ('performedBy', 'Tracey Ullman')]\n",
      "[('character', 'Katie Scherbatsky'), ('performedBy', 'Lucy Hale')]\n",
      "[('character', 'Katie Scherbatsky'), ('performedBy', 'Pamela Darling')]\n",
      "[('character', 'Max'), ('performedBy', 'Geoff Stults')]\n",
      "[('character', 'Scooby Scooberman'), ('performedBy', 'Robbie Amell')]\n",
      "[('character', 'Gael'), ('performedBy', 'Enrique Iglesias')]\n",
      "[('character', 'Ted Mosby'), ('performedBy', 'Josh Radnor')]\n",
      "[('character', 'Barney Stinson'), ('performedBy', 'Neil Patrick Harris')]\n",
      "[('character', 'Doctor John Stangel'), ('performedBy', 'Neil Patrick Harris')]\n",
      "[('character', 'Loretta Stinson'), ('performedBy', 'Frances Conroy')]\n",
      "[('character', 'Carl MacLaren'), ('performedBy', 'Joe Nieves')]\n",
      "[('character', 'The Mother'), ('performedBy', 'Cristin Milioti')]\n",
      "[('character', \"Ted's son\"), ('performedBy', 'David Henrie')]\n",
      "[('character', \"Ted's daughter\"), ('performedBy', 'Lyndsy Fonseca')]\n",
      "[('character', 'Arthur Hobbs'), ('performedBy', 'Bob Odenkirk')]\n",
      "[('character', 'Daphne'), ('performedBy', 'Sherri Shepherd')]\n",
      "[('character', 'James Stinson'), ('performedBy', 'Wayne Brady')]\n",
      "[('character', 'Linus'), ('performedBy', 'Robert Belushi')]\n",
      "[('character', 'Victoria'), ('performedBy', 'Ashley Williams')]\n",
      "[('character', 'Lesbian Robin'), ('performedBy', 'Cobie Smulders')]\n",
      "[('character', 'Mexican Wrestler Ted'), ('performedBy', 'Josh Radnor')]\n",
      "[('character', 'Blah Blah'), ('performedBy', 'Abigail Spencer')]\n",
      "[('character', 'Carly Whittaker'), ('performedBy', 'Ashley Benson')]\n",
      "[('character', 'Jerome Whittaker'), ('performedBy', 'John Lithgow')]\n",
      "[('character', 'Klaus'), ('performedBy', 'Thomas Lennon')]\n",
      "[('character', 'Naomi'), ('performedBy', 'Katie Holmes')]\n",
      "[('character', 'Sam Gibbs'), ('performedBy', 'Ben Vereen')]\n",
      "[('character', 'Shelly'), ('performedBy', 'Eva Amurri')]\n",
      "[('character', 'Amy'), ('performedBy', 'Mandy Moore')]\n",
      "[('character', 'Jenkins'), ('performedBy', 'Amanda Peet')]\n",
      "[('character', 'Jenkins'), ('performedBy', 'Edward Flores')]\n",
      "[('character', 'Lily Aldrin'), ('performedBy', 'Alyson Hannigan')]\n",
      "[('character', 'Bilson'), ('performedBy', 'Bryan Callen')]\n",
      "[('character', 'Brad Morris'), ('performedBy', 'Joe Manganiello')]\n",
      "[('character', 'Claudia Bowers'), ('performedBy', 'Virginia Williams')]\n",
      "[('character', 'Gary Blauman'), ('performedBy', 'Taran Killam')]\n",
      "[('character', 'Marvin W. Eriksen'), ('performedBy', 'August Maturo')]\n",
      "[('character', 'Marvin W. Eriksen'), ('performedBy', 'Jake Elliott')]\n",
      "[('character', 'Marvin W. Eriksen'), ('performedBy', 'Spencer Ralston')]\n",
      "[('character', 'Quinn Garvey'), ('performedBy', 'Becki Newton')]\n",
      "[('character', 'Scooter'), ('performedBy', 'David Burtka')]\n",
      "[('character', 'Stuart Bowers'), ('performedBy', 'Matt Boren')]\n",
      "[('character', 'Stripper Lily'), ('performedBy', 'Alyson Hannigan')]\n",
      "[('character', 'Cathy'), ('performedBy', 'Lindsay Price')]\n",
      "[('character', 'Kara'), ('performedBy', 'Aisha Kabia')]\n",
      "[('character', 'Dr. Sonya'), ('performedBy', 'Vicki Lewis')]\n",
      "[('character', \"Steve 'Blitz' Henry\"), ('performedBy', 'Jorge Garcia')]\n",
      "[('character', 'Trudy'), ('performedBy', 'Danica McKellar')]\n",
      "[('character', 'The Captain'), ('performedBy', 'Kyle MacLachlan')]\n",
      "[('character', 'Curtis'), ('performedBy', 'Roger Bart')]\n",
      "[('character', 'Zoey Pierson'), ('performedBy', 'Jennifer Morrison')]\n",
      "[('character', 'Nora'), ('performedBy', 'Nazanin Boniadi')]\n",
      "[('character', 'Marshall Eriksen'), ('performedBy', 'Jason Segel')]\n",
      "[('character', 'Marshall Eriksen'), ('performedBy', 'Tyler Peterson')]\n",
      "[('character', 'Jeanette Peterson'), ('performedBy', 'Abby Elliott')]\n",
      "[('character', 'Ranjit Singh'), ('performedBy', 'Marshall Manesh')]\n",
      "[('character', 'Stella Zinman'), ('performedBy', 'Sarah Chalke')]\n",
      "[('character', 'Virginia Mosby'), ('performedBy', 'Cristine Rose')]\n",
      "[('character', 'Moustache Marshall'), ('performedBy', 'Jason Segel')]\n",
      "[('character', 'Alfred Mosby'), ('performedBy', 'Michael Gross')]\n",
      "[('character', 'Coat-Check Girl'), ('performedBy', 'Jayma Mays')]\n",
      "[('character', 'Darren'), ('performedBy', 'Andrew Rannells')]\n",
      "[('character', 'Nora Zinman'), ('performedBy', 'Danneel Ackles')]\n",
      "[('character', 'PJ'), ('performedBy', 'Ryan Sypek')]\n",
      "[('character', 'Punchy'), ('performedBy', 'Chris Romano')]\n",
      "[('character', 'Sascha'), ('performedBy', 'Carla Toutz')]\n",
      "[('character', 'Simon Tremblay'), ('performedBy', 'James Van Der Beek')]\n",
      "[('character', 'Anita Appleby'), ('performedBy', 'Jennifer Lopez')]\n",
      "[('character', 'Tiffany'), ('performedBy', 'Carrie Underwood')]\n",
      "[('character', 'Becky'), ('performedBy', 'Laura Bell Bundy')]\n",
      "[('character', 'Doug Martin'), ('performedBy', 'Will Sasso')]\n",
      "[('character', 'Mickey Aldrin'), ('performedBy', 'Chris Elliott')]\n",
      "[('character', 'Patrice'), ('performedBy', 'Ellen D. Williams')]\n",
      "[('character', 'Wendy the Waitress'), ('performedBy', 'Charlene Amoia')]\n",
      "[('character', 'Cindy'), ('performedBy', 'Rachel Bilson')]\n",
      "[('character', 'Garrison Cootes'), ('performedBy', 'Martin Short')]\n",
      "[('character', 'Jen'), ('performedBy', 'Lindsay Sloane')]\n",
      "[('character', 'Karen'), ('performedBy', 'Laura Prepon')]\n",
      "[('character', 'Liddy Gates'), ('performedBy', 'Mircea Monroe')]\n",
      "[('character', 'Marissa Heller'), ('performedBy', 'Darby Stanchfield')]\n",
      "[('character', 'Randy Wharmpess'), ('performedBy', 'Will Forte')]\n",
      "[('character', \"Sarah O'Brien\"), ('performedBy', 'Beth Lacke')]\n",
      "[('character', 'Stacey Gusar'), ('performedBy', 'Janet Varney')]\n",
      "[('character', 'Steve Biel'), ('performedBy', 'Kevin Heffernan')]\n",
      "[('character', 'Jessica Glitter'), ('performedBy', 'Nicole Scherzinger')]\n",
      "[('character', 'Judy Eriksen'), ('performedBy', 'Suzie Plakson')]\n",
      "[('character', 'Marcus Eriksen'), ('performedBy', 'Gibson Sjobek')]\n",
      "[('character', 'Marcus Eriksen'), ('performedBy', 'Ned Rolsma')]\n",
      "[('character', 'Marvin Eriksen, Sr'), ('performedBy', 'Bill Fagerbakke')]\n",
      "[('character', 'Abby'), ('performedBy', 'Britney Spears')]\n",
      "[('character', 'Jefferson Coatsworth'), ('performedBy', 'John Cho')]\n",
      "[('character', 'Professor Lewis'), ('performedBy', 'Jane Seymour')]\n",
      "[('character', 'Mary'), ('performedBy', 'Erinn Bartlett')]\n",
      "[('character', 'Maggie Wilks'), ('performedBy', 'JoAnna García')]\n",
      "[('character', \"'Crazy' Meg\"), ('performedBy', 'April Bowlby')]\n",
      "[('character', 'Honey'), ('performedBy', 'Katy Perry')]\n",
      "[('character', 'Marvin Eriksen Jr.'), ('performedBy', 'Robert Michael Ryan')]\n",
      "[('character', 'Future Ted'), ('performedBy', 'Josh Radnor')]\n",
      "[('character', 'Lucy Zinman'), ('performedBy', 'Darcy Rose Byrnes')]\n",
      "[('character', 'Robin Scherbatsky Sr.'), ('performedBy', 'Ray Wise')]\n",
      "[('character', 'Robin Scherbatsky Sr.'), ('performedBy', 'Eric Braeden')]\n",
      "[('character', 'Sandy Rivers'), ('performedBy', 'Alexis Denisof')]\n",
      "[('character', 'Mrs. Buckminster'), ('performedBy', 'Jane Carr')]\n",
      "[('character', 'Daryl'), ('performedBy', 'Seth Green')]\n",
      "[('character', 'Hammond Druthers'), ('performedBy', 'Bryan Cranston')]\n",
      "[('character', 'Janice Aldrin'), ('performedBy', 'Meagen Fay')]\n",
      "[('character', 'Mrs. Matsen'), ('performedBy', 'Renée Taylor')]\n",
      "[('character', 'Penelope'), ('performedBy', 'Amy Acker')]\n",
      "[('character', 'Rhonda French'), ('performedBy', 'Stephanie Faracy')]\n",
      "[('character', 'Tom'), ('performedBy', 'Jai Rodriguez')]\n",
      "[('character', 'Tony Grafanello'), ('performedBy', 'Jason Jones')]\n",
      "[('character', 'Professor Vinick'), ('performedBy', 'Peter Gallagher')]\n"
     ]
    },
    {
     "data": {
      "text/plain": [
       "116"
      ]
     },
     "execution_count": 33,
     "metadata": {},
     "output_type": "execute_result"
    }
   ],
   "source": [
    "queryString = \"\"\"\n",
    "SELECT ?character ?performedBy \n",
    "WHERE { \n",
    "\n",
    "wd:Q147235 wdt:P674 ?c;\n",
    "          wdt:P161 ?actor.\n",
    "        \n",
    "?c wdt:P175 ?actor.\n",
    "\n",
    "?c <http://schema.org/name> ?character.\n",
    "?actor <http://schema.org/name> ?performedBy.\n",
    "\n",
    "} \n",
    "\"\"\"\n",
    "\n",
    "print(\"Results\")\n",
    "run_query(queryString)"
   ]
  },
  {
   "cell_type": "markdown",
   "id": "9c22732c-4a7d-40b3-b6fa-cc2f35eb1139",
   "metadata": {
    "tags": []
   },
   "source": [
    "### Putting it all together\n",
    "I recall we found no information about the number of episodes in which each cast member appears for The Office(US). However, such information is available for HIMYM, therefore I can return the the 15-most present actor and display information about the character they played if data is available."
   ]
  },
  {
   "cell_type": "code",
   "execution_count": 34,
   "id": "83af7897-ee78-4ef1-b104-9a7a5671d3d5",
   "metadata": {},
   "outputs": [
    {
     "name": "stdout",
     "output_type": "stream",
     "text": [
      "Results\n",
      "[('actor', 'Cobie Smulders'), ('character', 'Lesbian Robin'), ('episodes', '145')]\n",
      "[('actor', 'Josh Radnor'), ('character', 'Future Ted'), ('episodes', '145')]\n",
      "[('actor', 'Josh Radnor'), ('character', 'Mexican Wrestler Ted'), ('episodes', '145')]\n",
      "[('actor', 'Josh Radnor'), ('character', 'Ted Mosby'), ('episodes', '145')]\n",
      "[('actor', 'Neil Patrick Harris'), ('character', 'Barney Stinson'), ('episodes', '145')]\n",
      "[('actor', 'Jason Segel'), ('character', 'Moustache Marshall'), ('episodes', '145')]\n",
      "[('actor', 'Cobie Smulders'), ('character', 'Robin Scherbatsky'), ('episodes', '145')]\n",
      "[('actor', 'Jason Segel'), ('character', 'Marshall Eriksen'), ('episodes', '145')]\n",
      "[('actor', 'Neil Patrick Harris'), ('character', 'Doctor John Stangel'), ('episodes', '145')]\n",
      "[('actor', 'Alyson Hannigan'), ('character', 'Stripper Lily'), ('episodes', '143')]\n",
      "[('actor', 'Alyson Hannigan'), ('character', 'Lily Aldrin'), ('episodes', '143')]\n",
      "[('actor', 'Bob Saget'), ('episodes', '142')]\n",
      "[('actor', 'David Henrie'), ('character', \"Ted's son\"), ('episodes', '48')]\n",
      "[('actor', 'Lyndsy Fonseca'), ('character', \"Ted's daughter\"), ('episodes', '48')]\n",
      "[('actor', 'Charlene Amoia'), ('character', 'Wendy the Waitress'), ('episodes', '17')]\n"
     ]
    },
    {
     "data": {
      "text/plain": [
       "15"
      ]
     },
     "execution_count": 34,
     "metadata": {},
     "output_type": "execute_result"
    }
   ],
   "source": [
    "queryString = \"\"\"\n",
    "SELECT DISTINCT ?actor ?character COUNT(DISTINCT ?e) AS ?episodes\n",
    "WHERE { \n",
    "\n",
    "wd:Q147235 wdt:P527/wdt:P527 ?e.\n",
    "?e wdt:P161 ?a.\n",
    "\n",
    "?a <http://schema.org/name> ?actor.\n",
    "\n",
    "OPTIONAL{ wd:Q147235 wdt:P674 ?c.\n",
    "          ?c wdt:P175 ?a.\n",
    "          ?c <http://schema.org/name> ?character. }\n",
    "\n",
    "} \n",
    "GROUP BY ?actor ?character\n",
    "ORDER BY DESC(?episodes)\n",
    "LIMIT 15\n",
    "\"\"\"\n",
    "\n",
    "print(\"Results\")\n",
    "run_query(queryString)"
   ]
  },
  {
   "cell_type": "markdown",
   "id": "5a7e0d4b-395e-4280-82fd-a6e50a347b3f",
   "metadata": {},
   "source": [
    "Now results are more readable, even though some actors played multiple characters. I can now assert the results I retrieved are correct because they resemble the main characters of the tv series."
   ]
  },
  {
   "cell_type": "markdown",
   "id": "e0381c68-4956-49cc-8a49-111f6a922bb8",
   "metadata": {
    "tags": []
   },
   "source": [
    "## Actors working in other productions\n",
    "This section contains the queries that answer the third question:\n",
    "_Check who is the actor who acted in more films while working on \"How I met your mother\" and who is the actor who participated in more films after the end of the tv series._"
   ]
  },
  {
   "cell_type": "markdown",
   "id": "c55161a4-5fe0-4364-93e9-d79f03f47382",
   "metadata": {},
   "source": [
    "In order to answer the third question I need to retrieve information about the period in which actors were working on \"How I Met Your Mother\". I recall I discovered the properties \"end time\" (wdt:P582) and \"start time\" (wdt:P580) when answering the first question. Therefore, I now check what type of information such properties contain."
   ]
  },
  {
   "cell_type": "code",
   "execution_count": 35,
   "id": "25d2e16f-2dbe-408b-9f79-d4a248a90f03",
   "metadata": {},
   "outputs": [
    {
     "name": "stdout",
     "output_type": "stream",
     "text": [
      "Results\n",
      "[('startTime', '2005-09-19T00:00:00Z'), ('endTime', '2014-03-31T00:00:00Z')]\n"
     ]
    },
    {
     "data": {
      "text/plain": [
       "1"
      ]
     },
     "execution_count": 35,
     "metadata": {},
     "output_type": "execute_result"
    }
   ],
   "source": [
    "queryString = \"\"\"\n",
    "SELECT ?startTime ?endTime\n",
    "WHERE { \n",
    "\n",
    "wd:Q147235 wdt:P580 ?startTime;\n",
    "           wdt:P582 ?endTime.\n",
    "\n",
    "} \n",
    "\"\"\"\n",
    "\n",
    "print(\"Results\")\n",
    "run_query(queryString)"
   ]
  },
  {
   "cell_type": "markdown",
   "id": "8d96a22e-bcb9-4817-a6f7-32904ad7b104",
   "metadata": {},
   "source": [
    "It looks like such properties retrieve the information I need however some actors may have worked for a short period of time in HIMYM (e.g., in some seasons or only in some episodes) therefore it would be more useful to check if we have some time information on the single seasons or episodes since we know which actor played a role in each episode. I recall in some previous query I discovered episodes have the property \"publication date\" (wdt:P577) therefore I can use such property to retrieve the first and last appearance of an actor in the show."
   ]
  },
  {
   "cell_type": "code",
   "execution_count": 36,
   "id": "f311b66a-64c8-47bc-bbca-22b27a24f83f",
   "metadata": {},
   "outputs": [
    {
     "name": "stdout",
     "output_type": "stream",
     "text": [
      "Results\n",
      "[('actor', 'Marshall Manesh'), ('firstApp', '2005-09-19T00:00:00Z'), ('lastApp', '2011-05-16T00:00:00Z')]\n",
      "[('actor', 'Lyndsy Fonseca'), ('firstApp', '2005-09-19T00:00:00Z'), ('lastApp', '2014-03-31T00:00:00Z')]\n",
      "[('actor', 'Josh Radnor'), ('firstApp', '2005-09-19T00:00:00Z'), ('lastApp', '2014-03-31T00:00:00Z')]\n",
      "[('actor', 'David Henrie'), ('firstApp', '2005-09-19T00:00:00Z'), ('lastApp', '2014-03-31T00:00:00Z')]\n",
      "[('actor', 'Jason Segel'), ('firstApp', '2005-09-19T00:00:00Z'), ('lastApp', '2014-03-31T00:00:00Z')]\n",
      "[('actor', 'Cobie Smulders'), ('firstApp', '2005-09-19T00:00:00Z'), ('lastApp', '2014-03-31T00:00:00Z')]\n",
      "[('actor', 'Neil Patrick Harris'), ('firstApp', '2005-09-19T00:00:00Z'), ('lastApp', '2014-03-31T00:00:00Z')]\n",
      "[('actor', 'Bob Saget'), ('firstApp', '2005-09-19T00:00:00Z'), ('lastApp', '2011-10-24T00:00:00Z')]\n",
      "[('actor', 'Alyson Hannigan'), ('firstApp', '2005-09-19T00:00:00Z'), ('lastApp', '2014-03-31T00:00:00Z')]\n",
      "[('actor', 'Jon Bernthal'), ('firstApp', '2005-09-26T00:00:00Z'), ('lastApp', '2005-09-26T00:00:00Z')]\n",
      "[('actor', 'Beth Riesgraf'), ('firstApp', '2005-09-26T00:00:00Z'), ('lastApp', '2005-09-26T00:00:00Z')]\n",
      "[('actor', 'Charlene Amoia'), ('firstApp', '2005-10-10T00:00:00Z'), ('lastApp', '2011-02-21T00:00:00Z')]\n",
      "[('actor', 'Anne Dudek'), ('firstApp', '2005-10-10T00:00:00Z'), ('lastApp', '2010-03-22T00:00:00Z')]\n",
      "[('actor', 'Vanessa Lee Evigan'), ('firstApp', '2005-10-17T00:00:00Z'), ('lastApp', '2005-10-17T00:00:00Z')]\n",
      "[('actor', 'Samm Levine'), ('firstApp', '2005-10-17T00:00:00Z'), ('lastApp', '2005-10-17T00:00:00Z')]\n",
      "[('actor', 'Jayma Mays'), ('firstApp', '2005-10-17T00:00:00Z'), ('lastApp', '2005-10-17T00:00:00Z')]\n",
      "[('actor', 'Camryn Manheim'), ('firstApp', '2005-11-07T00:00:00Z'), ('lastApp', '2005-11-07T00:00:00Z')]\n",
      "[('actor', 'Elizabeth Bogush'), ('firstApp', '2005-11-21T00:00:00Z'), ('lastApp', '2005-11-21T00:00:00Z')]\n",
      "[('actor', 'Bill Fagerbakke'), ('firstApp', '2005-11-21T00:00:00Z'), ('lastApp', '2011-10-24T00:00:00Z')]\n",
      "[('actor', 'Suzie Plakson'), ('firstApp', '2005-11-21T00:00:00Z'), ('lastApp', '2011-02-14T00:00:00Z')]\n",
      "[('actor', 'Danica McKellar'), ('firstApp', '2005-11-28T00:00:00Z'), ('lastApp', '2007-10-08T00:00:00Z')]\n",
      "[('actor', 'Kathleen Rose Perkins'), ('firstApp', '2005-12-19T00:00:00Z'), ('lastApp', '2005-12-19T00:00:00Z')]\n",
      "[('actor', 'James Tupper'), ('firstApp', '2005-12-19T00:00:00Z'), ('lastApp', '2005-12-19T00:00:00Z')]\n",
      "[('actor', 'Ashley Williams'), ('firstApp', '2006-01-09T00:00:00Z'), ('lastApp', '2011-09-26T00:00:00Z')]\n",
      "[('actor', 'Virginia Williams'), ('firstApp', '2006-01-09T00:00:00Z'), ('lastApp', '2010-10-25T00:00:00Z')]\n",
      "[('actor', 'Kelly Stables'), ('firstApp', '2006-01-23T00:00:00Z'), ('lastApp', '2006-01-23T00:00:00Z')]\n",
      "[('actor', 'Caroline Lagerfelt'), ('firstApp', '2006-03-06T00:00:00Z'), ('lastApp', '2006-03-06T00:00:00Z')]\n",
      "[('actor', 'Taran Killam'), ('firstApp', '2006-03-20T00:00:00Z'), ('lastApp', '2010-01-18T00:00:00Z')]\n",
      "[('actor', 'Diane Salinger'), ('firstApp', '2006-03-20T00:00:00Z'), ('lastApp', '2006-03-20T00:00:00Z')]\n",
      "[('actor', 'Bryan Callen'), ('firstApp', '2006-03-20T00:00:00Z'), ('lastApp', '2009-03-23T00:00:00Z')]\n"
     ]
    },
    {
     "data": {
      "text/plain": [
       "30"
      ]
     },
     "execution_count": 36,
     "metadata": {},
     "output_type": "execute_result"
    }
   ],
   "source": [
    "queryString = \"\"\"\n",
    "SELECT ?actor MIN(?pubDate) AS ?firstApp MAX(?pubDate) AS ?lastApp\n",
    "WHERE { \n",
    "\n",
    "wd:Q147235 wdt:P527/wdt:P527 ?e.\n",
    "\n",
    "?e wdt:P161 ?a;\n",
    "   wdt:P577 ?pubDate.\n",
    "   \n",
    "?a <http://schema.org/name> ?actor.\n",
    "\n",
    "} \n",
    "GROUP BY ?actor\n",
    "ORDER BY ?firstApp\n",
    "LIMIT 30\n",
    "\"\"\"\n",
    "\n",
    "print(\"Results\")\n",
    "run_query(queryString)"
   ]
  },
  {
   "cell_type": "markdown",
   "id": "9f6b4afa-4368-4013-8c20-bc98bb69d95e",
   "metadata": {},
   "source": [
    "I now need to filter the actors' work based on the time information. In order to do it I have to see how the time information is stored for the other films the actors were working on. Firstly, I retrieve which \"instance of\" (wdt:P31) are connected to actors by means of the property \"cast member\" (wdt:P161)."
   ]
  },
  {
   "cell_type": "code",
   "execution_count": 37,
   "id": "a1f337e9-f192-4477-b325-6acc26031d05",
   "metadata": {},
   "outputs": [
    {
     "name": "stdout",
     "output_type": "stream",
     "text": [
      "Results\n",
      "[('i', 'http://www.wikidata.org/entity/Q11424'), ('instanceOf', 'film'), ('films', '3399')]\n",
      "[('i', 'http://www.wikidata.org/entity/Q5398426'), ('instanceOf', 'television series'), ('films', '1644')]\n",
      "[('i', 'http://www.wikidata.org/entity/Q21191270'), ('instanceOf', 'television series episode'), ('films', '1503')]\n",
      "[('i', 'http://www.wikidata.org/entity/Q506240'), ('instanceOf', 'television film'), ('films', '352')]\n",
      "[('i', 'http://www.wikidata.org/entity/Q229390'), ('instanceOf', '3D film'), ('films', '85')]\n",
      "[('i', 'http://www.wikidata.org/entity/Q24869'), ('instanceOf', 'feature film'), ('films', '82')]\n",
      "[('i', 'http://www.wikidata.org/entity/Q3464665'), ('instanceOf', 'television series season'), ('films', '40')]\n",
      "[('i', 'http://www.wikidata.org/entity/Q1259759'), ('instanceOf', 'miniseries'), ('films', '36')]\n",
      "[('i', 'http://www.wikidata.org/entity/Q24862'), ('instanceOf', 'short film'), ('films', '25')]\n",
      "[('i', 'http://www.wikidata.org/entity/Q15416'), ('instanceOf', 'television program'), ('films', '16')]\n",
      "[('i', 'http://www.wikidata.org/entity/Q653916'), ('instanceOf', 'television pilot'), ('films', '15')]\n",
      "[('i', 'http://www.wikidata.org/entity/Q24856'), ('instanceOf', 'film series'), ('films', '13')]\n",
      "[('i', 'http://www.wikidata.org/entity/Q25110269'), ('instanceOf', 'live-action/animated film'), ('films', '12')]\n",
      "[('i', 'http://www.wikidata.org/entity/Q1261214'), ('instanceOf', 'television special'), ('films', '12')]\n",
      "[('i', 'http://www.wikidata.org/entity/Q526877'), ('instanceOf', 'web series'), ('films', '11')]\n",
      "[('i', 'http://www.wikidata.org/entity/Q1186399'), ('instanceOf', 'spin-off'), ('films', '8')]\n",
      "[('i', 'http://www.wikidata.org/entity/Q202866'), ('instanceOf', 'animated film'), ('films', '7')]\n",
      "[('i', 'http://www.wikidata.org/entity/Q61283808'), ('instanceOf', 'Star Trek film'), ('films', '6')]\n",
      "[('i', 'http://www.wikidata.org/entity/Q50062923'), ('instanceOf', 'three-part episode'), ('films', '6')]\n",
      "[('i', 'http://www.wikidata.org/entity/Q1358344'), ('instanceOf', 'news program'), ('films', '5')]\n",
      "[('i', 'http://www.wikidata.org/entity/Q336144'), ('instanceOf', 'anthology film'), ('films', '4')]\n",
      "[('i', 'http://www.wikidata.org/entity/Q21664088'), ('instanceOf', 'two-part episode'), ('films', '3')]\n",
      "[('i', 'http://www.wikidata.org/entity/Q374821'), ('instanceOf', 'film poster'), ('films', '3')]\n",
      "[('i', 'http://www.wikidata.org/entity/Q18011172'), ('instanceOf', 'film project'), ('films', '3')]\n",
      "[('i', 'http://www.wikidata.org/entity/Q1800833'), ('instanceOf', 'rockumentary'), ('films', '2')]\n"
     ]
    },
    {
     "data": {
      "text/plain": [
       "25"
      ]
     },
     "execution_count": 37,
     "metadata": {},
     "output_type": "execute_result"
    }
   ],
   "source": [
    "queryString = \"\"\"\n",
    "SELECT ?i ?instanceOf COUNT(?f) AS ?films\n",
    "WHERE { \n",
    "\n",
    "wd:Q147235 wdt:P161 ?a.\n",
    "\n",
    "?f wdt:P161 ?a;\n",
    "   wdt:P31 ?i.\n",
    "\n",
    "?i <http://schema.org/name> ?instanceOf.\n",
    "\n",
    "} \n",
    "GROUP BY ?i ?instanceOf\n",
    "ORDER BY DESC(?films)\n",
    "LIMIT 25\n",
    "\"\"\"\n",
    "\n",
    "print(\"Results\")\n",
    "run_query(queryString)"
   ]
  },
  {
   "cell_type": "markdown",
   "id": "25743d68-5e28-4cbc-ac08-c2c71d9d7c8e",
   "metadata": {},
   "source": [
    "In order to retrieve only the films or tv series i need to filter out episodes and seasons. Since they are multiple instance I will use two regex. In the following query I return the number of films each HIMYM actor worked on."
   ]
  },
  {
   "cell_type": "code",
   "execution_count": 38,
   "id": "b86f5e77-2091-4a6a-9861-91c8d6697766",
   "metadata": {},
   "outputs": [
    {
     "name": "stdout",
     "output_type": "stream",
     "text": [
      "Results\n",
      "[('a', 'http://www.wikidata.org/entity/Q192165'), ('actor', 'Danny Glover'), ('films', '120')]\n",
      "[('a', 'http://www.wikidata.org/entity/Q236189'), ('actor', 'Judy Greer'), ('films', '75')]\n",
      "[('a', 'http://www.wikidata.org/entity/Q536437'), ('actor', 'Edward Herrmann'), ('films', '75')]\n",
      "[('a', 'http://www.wikidata.org/entity/Q471018'), ('actor', 'Ernie Hudson'), ('films', '74')]\n",
      "[('a', 'http://www.wikidata.org/entity/Q311271'), ('actor', 'John Lithgow'), ('films', '73')]\n",
      "[('a', 'http://www.wikidata.org/entity/Q298777'), ('actor', 'Michael York'), ('films', '71')]\n",
      "[('a', 'http://www.wikidata.org/entity/Q186757'), ('actor', 'Seth Green'), ('films', '66')]\n",
      "[('a', 'http://www.wikidata.org/entity/Q309900'), ('actor', 'Peter Gallagher'), ('films', '65')]\n",
      "[('a', 'http://www.wikidata.org/entity/Q545172'), ('actor', 'Matt Frewer'), ('films', '64')]\n",
      "[('a', 'http://www.wikidata.org/entity/Q123849'), ('actor', 'Jane Seymour'), ('films', '61')]\n",
      "[('a', 'http://www.wikidata.org/entity/Q1332676'), ('actor', 'William Schallert'), ('films', '60')]\n",
      "[('a', 'http://www.wikidata.org/entity/Q530646'), ('actor', 'Ray Wise'), ('films', '59')]\n",
      "[('a', 'http://www.wikidata.org/entity/Q207506'), ('actor', 'Kyle MacLachlan'), ('films', '57')]\n",
      "[('a', 'http://www.wikidata.org/entity/Q312705'), ('actor', 'John Cho'), ('films', '54')]\n",
      "[('a', 'http://www.wikidata.org/entity/Q23547'), ('actor', 'Bryan Cranston'), ('films', '49')]\n",
      "[('a', 'http://www.wikidata.org/entity/Q485310'), ('actor', 'Neil Patrick Harris'), ('films', '48')]\n",
      "[('a', 'http://www.wikidata.org/entity/Q3045427'), ('actor', 'George Cheung'), ('films', '47')]\n",
      "[('a', 'http://www.wikidata.org/entity/Q888178'), ('actor', 'Bob Odenkirk'), ('films', '46')]\n",
      "[('a', 'http://www.wikidata.org/entity/Q1319539'), ('actor', 'Thomas Lennon'), ('films', '45')]\n",
      "[('a', 'http://www.wikidata.org/entity/Q131332'), ('actor', 'Amanda Peet'), ('films', '45')]\n",
      "[('a', 'http://www.wikidata.org/entity/Q234514'), ('actor', 'Camryn Manheim'), ('films', '43')]\n",
      "[('a', 'http://www.wikidata.org/entity/Q329744'), ('actor', 'Martin Short'), ('films', '41')]\n",
      "[('a', 'http://www.wikidata.org/entity/Q199929'), ('actor', 'Jennifer Morrison'), ('films', '41')]\n",
      "[('a', 'http://www.wikidata.org/entity/Q158250'), ('actor', 'Peter Bogdanovich'), ('films', '40')]\n",
      "[('a', 'http://www.wikidata.org/entity/Q233882'), ('actor', 'Frances Conroy'), ('films', '40')]\n"
     ]
    },
    {
     "data": {
      "text/plain": [
       "25"
      ]
     },
     "execution_count": 38,
     "metadata": {},
     "output_type": "execute_result"
    }
   ],
   "source": [
    "queryString = \"\"\"\n",
    "SELECT ?a ?actor COUNT(?f) AS ?films\n",
    "WHERE { \n",
    "\n",
    "wd:Q147235 wdt:P161 ?a.\n",
    "\n",
    "?f wdt:P161 ?a;\n",
    "   wdt:P31 ?i.\n",
    "   \n",
    "?a <http://schema.org/name> ?actor.\n",
    "?i <http://schema.org/name> ?instanceOf.\n",
    "FILTER(!regex(?instanceOf, \".*episode.*\") && !regex(?instanceOf, \".*season.*\"))\n",
    "\n",
    "} \n",
    "GROUP BY ?a ?actor\n",
    "ORDER BY DESC(?films)\n",
    "LIMIT 25\n",
    "\"\"\"\n",
    "\n",
    "print(\"Results\")\n",
    "run_query(queryString)"
   ]
  },
  {
   "cell_type": "markdown",
   "id": "af5b26e2-346a-44a0-97d0-893a0e629282",
   "metadata": {},
   "source": [
    "Now I need to find the information about when the actors worked in the different films. In order to do that I check the properties of such films. As always I display such properties based on the number of objects connected to it."
   ]
  },
  {
   "cell_type": "code",
   "execution_count": 40,
   "id": "979b6b3e-6bd3-47d4-afe9-d250a6321c7b",
   "metadata": {},
   "outputs": [
    {
     "name": "stdout",
     "output_type": "stream",
     "text": [
      "Results\n",
      "[('p', 'http://www.wikidata.org/prop/direct/P161'), ('pname', 'cast member'), ('objs', '19685')]\n",
      "[('p', 'http://www.wikidata.org/prop/direct/P345'), ('pname', 'IMDb ID'), ('objs', '3725')]\n",
      "[('p', 'http://www.wikidata.org/prop/direct/P2603'), ('pname', 'Kinopoisk film ID'), ('objs', '3515')]\n",
      "[('p', 'http://www.wikidata.org/prop/direct/P1476'), ('pname', 'title'), ('objs', '3424')]\n",
      "[('p', 'http://www.wikidata.org/prop/direct/P3138'), ('pname', 'OFDb film ID'), ('objs', '3293')]\n",
      "[('p', 'http://www.wikidata.org/prop/direct/P646'), ('pname', 'Freebase ID'), ('objs', '3134')]\n",
      "[('p', 'http://www.wikidata.org/prop/direct/P4947'), ('pname', 'TMDb movie ID'), ('objs', '3089')]\n",
      "[('p', 'http://www.wikidata.org/prop/direct/P2529'), ('pname', 'ČSFD film ID'), ('objs', '3059')]\n",
      "[('p', 'http://www.wikidata.org/prop/direct/P6127'), ('pname', 'Letterboxd film ID'), ('objs', '2983')]\n",
      "[('p', 'http://www.wikidata.org/prop/direct/P1258'), ('pname', 'Rotten Tomatoes ID'), ('objs', '2916')]\n",
      "[('p', 'http://www.wikidata.org/prop/direct/P1562'), ('pname', 'AllMovie title ID'), ('objs', '2740')]\n",
      "[('p', 'http://www.wikidata.org/prop/direct/P577'), ('pname', 'publication date'), ('objs', '2582')]\n",
      "[('p', 'http://www.wikidata.org/prop/direct/P480'), ('pname', 'FilmAffinity ID'), ('objs', '2539')]\n",
      "[('p', 'http://www.wikidata.org/prop/direct/P3143'), ('pname', 'elFilm film ID'), ('objs', '2483')]\n",
      "[('p', 'http://www.wikidata.org/prop/direct/P1265'), ('pname', 'AlloCiné film ID'), ('objs', '2423')]\n",
      "[('p', 'http://www.wikidata.org/prop/direct/P1970'), ('pname', 'MovieMeter film ID'), ('objs', '2379')]\n",
      "[('p', 'http://www.wikidata.org/prop/direct/P57'), ('pname', 'director'), ('objs', '2365')]\n",
      "[('p', 'http://www.wikidata.org/prop/direct/P905'), ('pname', 'PORT film ID'), ('objs', '2313')]\n",
      "[('p', 'http://www.wikidata.org/prop/direct/P58'), ('pname', 'screenwriter'), ('objs', '2271')]\n",
      "[('p', 'http://www.wikidata.org/prop/direct/P4529'), ('pname', 'Douban film ID'), ('objs', '2261')]\n",
      "[('p', 'http://www.wikidata.org/prop/direct/P9586'), ('pname', 'Apple TV movie ID'), ('objs', '2182')]\n",
      "[('p', 'http://www.wikidata.org/prop/direct/P3844'), ('pname', 'Deutsche Synchronkartei film ID'), ('objs', '2129')]\n",
      "[('p', 'http://www.wikidata.org/prop/direct/P6398'), ('pname', 'iTunes movie ID'), ('objs', '2067')]\n",
      "[('p', 'http://www.wikidata.org/prop/direct/P2638'), ('pname', 'TV.com ID'), ('objs', '2037')]\n",
      "[('p', 'http://www.wikidata.org/prop/direct/P1874'), ('pname', 'Netflix ID'), ('objs', '1999')]\n",
      "[('p', 'http://www.wikidata.org/prop/direct/P162'), ('pname', 'producer'), ('objs', '1982')]\n",
      "[('p', 'http://www.wikidata.org/prop/direct/P5786'), ('pname', 'Moviepilot.de film ID'), ('objs', '1981')]\n",
      "[('p', 'http://www.wikidata.org/prop/direct/P674'), ('pname', 'characters'), ('objs', '1977')]\n",
      "[('p', 'http://www.wikidata.org/prop/direct/P1712'), ('pname', 'Metacritic ID'), ('objs', '1938')]\n",
      "[('p', 'http://www.wikidata.org/prop/direct/P3302'), ('pname', 'Open Media Database film ID'), ('objs', '1803')]\n"
     ]
    },
    {
     "data": {
      "text/plain": [
       "30"
      ]
     },
     "execution_count": 40,
     "metadata": {},
     "output_type": "execute_result"
    }
   ],
   "source": [
    "queryString = \"\"\"\n",
    "SELECT ?p ?pname COUNT(DISTINCT ?o) AS ?objs\n",
    "WHERE { \n",
    "\n",
    "wd:Q147235 wdt:P161 ?a.\n",
    "\n",
    "?f wdt:P161 ?a;\n",
    "   wdt:P31 ?i;\n",
    "   ?p ?o.\n",
    "   \n",
    "?p <http://schema.org/name> ?pname.\n",
    "?i <http://schema.org/name> ?instanceOf.\n",
    "FILTER(!regex(?instanceOf, \".*episode.*\") && !regex(?instanceOf, \".*season.*\"))\n",
    "\n",
    "} \n",
    "GROUP BY ?p ?pname\n",
    "ORDER BY DESC(?objs)\n",
    "LIMIT 30\n",
    "\"\"\"\n",
    "\n",
    "print(\"Results\")\n",
    "run_query(queryString)"
   ]
  },
  {
   "cell_type": "markdown",
   "id": "02a913a6-04bd-4555-9590-b2ec0b6ef599",
   "metadata": {},
   "source": [
    "I discovered the property \"publication date\" (wdt:P577) that could contain the information I need. I run a query to return some triples with such property. "
   ]
  },
  {
   "cell_type": "code",
   "execution_count": 41,
   "id": "24b6ce81-164b-4e8f-8f2e-8cec51972d9c",
   "metadata": {},
   "outputs": [
    {
     "name": "stdout",
     "output_type": "stream",
     "text": [
      "Results\n",
      "[('film', 'Some Came Running'), ('pubDate', '1958-01-01T00:00:00Z')]\n",
      "[('film', 'Miss Meadows'), ('pubDate', '2014-04-21T00:00:00Z')]\n",
      "[('film', 'Nantucket'), ('pubDate', '2002-01-01T00:00:00Z')]\n",
      "[('film', 'Magic Mike'), ('pubDate', '2012-01-01T00:00:00Z')]\n",
      "[('film', 'Magic Mike'), ('pubDate', '2012-08-09T00:00:00Z')]\n",
      "[('film', 'Magic Mike'), ('pubDate', '2012-08-16T00:00:00Z')]\n",
      "[('film', 'Under Wraps'), ('pubDate', '1997-10-25T00:00:00Z')]\n",
      "[('film', 'The Jerk'), ('pubDate', '1979-01-01T00:00:00Z')]\n",
      "[('film', 'The Jerk'), ('pubDate', '1980-06-20T00:00:00Z')]\n",
      "[('film', 'Austin Powers: The Spy Who Shagged Me'), ('pubDate', '1999-06-08T00:00:00Z')]\n",
      "[('film', 'Austin Powers: The Spy Who Shagged Me'), ('pubDate', '1999-06-11T00:00:00Z')]\n",
      "[('film', 'Austin Powers: The Spy Who Shagged Me'), ('pubDate', '1999-10-14T00:00:00Z')]\n",
      "[('film', 'Rush Hour 3'), ('pubDate', '2007-07-30T00:00:00Z')]\n",
      "[('film', 'Rush Hour 3'), ('pubDate', '2007-08-16T00:00:00Z')]\n",
      "[('film', 'Legally Blonde'), ('pubDate', '2001-01-01T00:00:00Z')]\n",
      "[('film', 'Legally Blonde'), ('pubDate', '2001-11-15T00:00:00Z')]\n",
      "[('film', 'Evolution'), ('pubDate', '2001-01-01T00:00:00Z')]\n",
      "[('film', 'Evolution'), ('pubDate', '2001-07-19T00:00:00Z')]\n",
      "[('film', 'Angel Eyes'), ('pubDate', '2001-01-01T00:00:00Z')]\n",
      "[('film', 'Montana Sky'), ('pubDate', '2007-01-01T00:00:00Z')]\n",
      "[('film', 'The Collector'), ('pubDate', '2009-01-01T00:00:00Z')]\n",
      "[('film', 'The Collector'), ('pubDate', '2009-07-31T00:00:00Z')]\n",
      "[('film', 'Bachelorette'), ('pubDate', '2012-01-01T00:00:00Z')]\n",
      "[('film', 'Bachelorette'), ('pubDate', '2012-10-25T00:00:00Z')]\n",
      "[('film', 'Bachelorette'), ('pubDate', '2012-12-27T00:00:00Z')]\n",
      "[('film', 'Short Cuts'), ('pubDate', '1993-01-01T00:00:00Z')]\n",
      "[('film', 'Short Cuts'), ('pubDate', '1994-01-06T00:00:00Z')]\n",
      "[('film', 'Death of a Dynasty'), ('pubDate', '2003-01-01T00:00:00Z')]\n",
      "[('film', 'Solaris'), ('pubDate', '2002-01-01T00:00:00Z')]\n",
      "[('film', 'Solaris'), ('pubDate', '2003-03-06T00:00:00Z')]\n"
     ]
    },
    {
     "data": {
      "text/plain": [
       "30"
      ]
     },
     "execution_count": 41,
     "metadata": {},
     "output_type": "execute_result"
    }
   ],
   "source": [
    "queryString = \"\"\"\n",
    "SELECT DISTINCT ?film ?pubDate\n",
    "WHERE { \n",
    "\n",
    "wd:Q147235 wdt:P161 ?a.\n",
    "\n",
    "?f wdt:P161 ?a;\n",
    "   wdt:P31 ?i;\n",
    "   wdt:P577 ?pubDate.\n",
    "   \n",
    "?f <http://schema.org/name> ?film.\n",
    "?i <http://schema.org/name> ?instanceOf.\n",
    "FILTER(!regex(?instanceOf, \".*episode.*\") && !regex(?instanceOf, \".*season.*\"))\n",
    "\n",
    "} \n",
    "LIMIT 30\n",
    "\"\"\"\n",
    "\n",
    "print(\"Results\")\n",
    "run_query(queryString)"
   ]
  },
  {
   "cell_type": "markdown",
   "id": "106db0e6-d1e6-4a59-a13b-10e6b68e3ff0",
   "metadata": {},
   "source": [
    "We have different publication date for the same film but that is not strange because it could indicate different distribution (for example in different country). Now I have all the information I need to answer the questions. Firstly, I retrieve the 10 actors who acted in more films while working in HIMYM."
   ]
  },
  {
   "cell_type": "code",
   "execution_count": 42,
   "id": "edc0258b-9b77-4f16-bb3e-dd53f727384c",
   "metadata": {},
   "outputs": [
    {
     "name": "stdout",
     "output_type": "stream",
     "text": [
      "Results\n",
      "[('actor', 'Neil Patrick Harris'), ('films', '38')]\n",
      "[('actor', 'Jason Segel'), ('films', '30')]\n",
      "[('actor', 'Cobie Smulders'), ('films', '26')]\n",
      "[('actor', 'Bill Fagerbakke'), ('films', '17')]\n",
      "[('actor', 'Lyndsy Fonseca'), ('films', '14')]\n",
      "[('actor', 'Zachary Gordon'), ('films', '11')]\n",
      "[('actor', 'Marshall Manesh'), ('films', '10')]\n",
      "[('actor', 'Alyson Hannigan'), ('films', '8')]\n",
      "[('actor', 'Will Forte'), ('films', '8')]\n",
      "[('actor', 'Frances Conroy'), ('films', '6')]\n"
     ]
    },
    {
     "data": {
      "text/plain": [
       "10"
      ]
     },
     "execution_count": 42,
     "metadata": {},
     "output_type": "execute_result"
    }
   ],
   "source": [
    "queryString = \"\"\"\n",
    "SELECT ?actor COUNT(?f) AS ?films\n",
    "WHERE { \n",
    "\n",
    "?f wdt:P161 ?a;\n",
    "   wdt:P31 ?i;\n",
    "   wdt:P577 ?filmDate.\n",
    "   \n",
    "?a <http://schema.org/name> ?actor.\n",
    "?i <http://schema.org/name> ?instanceOf.\n",
    "FILTER(?f != wd:Q14725).\n",
    "FILTER(!regex(?instanceOf, \".*episode.*\") && !regex(?instanceOf, \".*season.*\")).\n",
    "FILTER(?filmDate >= ?firstApp && ?filmDate <= ?lastApp).\n",
    "\n",
    "{\n",
    "    SELECT ?a MIN(?pubDate) AS ?firstApp MAX(?pubDate) AS ?lastApp\n",
    "    WHERE { \n",
    "\n",
    "        wd:Q147235 wdt:P527/wdt:P527 ?e.\n",
    "\n",
    "        ?e wdt:P161 ?a;\n",
    "           wdt:P577 ?pubDate.\n",
    "\n",
    "    } \n",
    "    GROUP BY ?a\n",
    "}\n",
    "} \n",
    "GROUP BY ?actor\n",
    "ORDER BY DESC(?films)\n",
    "LIMIT 10\n",
    "\"\"\"\n",
    "\n",
    "print(\"Results\")\n",
    "run_query(queryString)"
   ]
  },
  {
   "cell_type": "markdown",
   "id": "c2ad4bbb-bd10-4525-939f-4bfc2faa8420",
   "metadata": {},
   "source": [
    "I now return the 10 actors who participated in more films after the end of the tv series."
   ]
  },
  {
   "cell_type": "code",
   "execution_count": 43,
   "id": "64d5ffc1-8b5d-4ed0-ba9f-70cd3e63f03c",
   "metadata": {},
   "outputs": [
    {
     "name": "stdout",
     "output_type": "stream",
     "text": [
      "Results\n",
      "[('actor', 'Judy Greer'), ('films', '100')]\n",
      "[('actor', 'Will Forte'), ('films', '83')]\n",
      "[('actor', 'Danny Glover'), ('films', '79')]\n",
      "[('actor', 'Taran Killam'), ('films', '78')]\n",
      "[('actor', 'Jon Bernthal'), ('films', '66')]\n",
      "[('actor', 'John Cho'), ('films', '64')]\n",
      "[('actor', 'Bryan Cranston'), ('films', '63')]\n",
      "[('actor', 'Scoot McNairy'), ('films', '54')]\n",
      "[('actor', 'Gary Anthony Williams'), ('films', '51')]\n",
      "[('actor', 'Kevin Heffernan'), ('films', '47')]\n"
     ]
    },
    {
     "data": {
      "text/plain": [
       "10"
      ]
     },
     "execution_count": 43,
     "metadata": {},
     "output_type": "execute_result"
    }
   ],
   "source": [
    "queryString = \"\"\"\n",
    "SELECT ?actor COUNT(?f) AS ?films\n",
    "WHERE { \n",
    "\n",
    "?f wdt:P161 ?a;\n",
    "   wdt:P31 ?i;\n",
    "   wdt:P577 ?filmDate.\n",
    "   \n",
    "?a <http://schema.org/name> ?actor.\n",
    "?i <http://schema.org/name> ?instanceOf.\n",
    "FILTER(?f != wd:Q14725).\n",
    "FILTER(!regex(?instanceOf, \".*episode.*\") && !regex(?instanceOf, \".*season.*\")).\n",
    "FILTER(?filmDate > ?lastApp).\n",
    "\n",
    "{\n",
    "    SELECT ?a MAX(?pubDate) AS ?lastApp\n",
    "    WHERE { \n",
    "\n",
    "        wd:Q147235 wdt:P527/wdt:P527 ?e.\n",
    "\n",
    "        ?e wdt:P161 ?a;\n",
    "           wdt:P577 ?pubDate.\n",
    "\n",
    "    } \n",
    "    GROUP BY ?a\n",
    "}\n",
    "} \n",
    "GROUP BY ?actor\n",
    "ORDER BY DESC(?films)\n",
    "LIMIT 10\n",
    "\"\"\"\n",
    "\n",
    "print(\"Results\")\n",
    "run_query(queryString)"
   ]
  },
  {
   "cell_type": "markdown",
   "id": "7435dbf6-d367-49c8-924f-3ad1c1e7218f",
   "metadata": {},
   "source": [
    "The two result sets are very different from each other. As expected, the actors who worked in more films while playing a role in HIMYM are the ones who worked on HIMYM for a longer period of time, for example Neil Patrick Harris. The second question instead returns mostly different actors from the previous one."
   ]
  },
  {
   "cell_type": "markdown",
   "id": "99d56874-c57f-4ba1-994e-c6887a146b8f",
   "metadata": {},
   "source": [
    "### Screenwriters\n",
    "Before moving on, I recall we have information about HIMYM screenwriters (wdt:P58) therefore I can also return the number of films or tv series each screenwriter worked on while HIMYM was airing. Firstly I retrieve how many screenwriters HIMYM have."
   ]
  },
  {
   "cell_type": "code",
   "execution_count": 44,
   "id": "6bdafe1d-5c13-4f7a-8597-30b27b53b49e",
   "metadata": {},
   "outputs": [
    {
     "name": "stdout",
     "output_type": "stream",
     "text": [
      "Results\n",
      "[('screenwriters', '2')]\n"
     ]
    },
    {
     "data": {
      "text/plain": [
       "1"
      ]
     },
     "execution_count": 44,
     "metadata": {},
     "output_type": "execute_result"
    }
   ],
   "source": [
    "queryString = \"\"\"\n",
    "SELECT COUNT(DISTINCT ?sw) AS ?screenwriters\n",
    "WHERE { \n",
    "\n",
    "wd:Q147235 wdt:P58 ?sw.\n",
    "\n",
    "} \n",
    "\n",
    "\"\"\"\n",
    "\n",
    "print(\"Results\")\n",
    "run_query(queryString)"
   ]
  },
  {
   "cell_type": "markdown",
   "id": "99b1add8-33b0-4d10-8123-cece8eb672d3",
   "metadata": {},
   "source": [
    "Since they are only 2 I can return the number of films or tv series each screenwriter worked on while HIMYM was airing for both of them. In order to do that I use  properties \"start time\" (wdt:P580) and \"end time\" (wdt:P582). It is important to notice that this query is based on the assumption that each screenwriter worked on HIMYM for all its duration."
   ]
  },
  {
   "cell_type": "code",
   "execution_count": 45,
   "id": "27973325-aac3-4eea-96b5-fa5b17570cf6",
   "metadata": {},
   "outputs": [
    {
     "name": "stdout",
     "output_type": "stream",
     "text": [
      "Results\n",
      "Empty\n"
     ]
    },
    {
     "data": {
      "text/plain": [
       "0"
      ]
     },
     "execution_count": 45,
     "metadata": {},
     "output_type": "execute_result"
    }
   ],
   "source": [
    "queryString = \"\"\"\n",
    "SELECT ?screenwriter COUNT(?f) AS ?films\n",
    "WHERE { \n",
    "\n",
    "wd:Q147235 wdt:P58 ?sw; \n",
    "           wdt:P580 ?startTime;\n",
    "           wdt:P582 ?endTime.\n",
    "\n",
    "?f wdt:P58 ?sw;\n",
    "   wdt:P31 ?i;\n",
    "   wdt:P577 ?filmDate.\n",
    "   \n",
    "?sw <http://schema.org/name> ?screenwriter.\n",
    "?i <http://schema.org/name> ?instanceOf.\n",
    "FILTER(?f != wd:Q14725).\n",
    "FILTER(!regex(?instanceOf, \".*episode.*\") && !regex(?instanceOf, \".*season.*\")).\n",
    "FILTER(?filmDate > ?startTime && ?filmDate < ?endTime).\n",
    "\n",
    "} \n",
    "GROUP BY ?screenwriter\n",
    "ORDER BY DESC(?films)\n",
    "\"\"\"\n",
    "\n",
    "print(\"Results\")\n",
    "run_query(queryString)"
   ]
  },
  {
   "cell_type": "markdown",
   "id": "33838c1e-e8a1-446c-8aec-10682d67f25a",
   "metadata": {},
   "source": [
    "The result set is empty, this could mean that we have no data about other films or tv series written by them. Let us check if this is the case."
   ]
  },
  {
   "cell_type": "code",
   "execution_count": 46,
   "id": "bb188be6-04e2-40db-875c-3a4664ab5529",
   "metadata": {},
   "outputs": [
    {
     "name": "stdout",
     "output_type": "stream",
     "text": [
      "Results\n",
      "[('screenwriter', 'Craig Thomas'), ('film', 'How I Met Your Mother')]\n",
      "[('screenwriter', 'Carter Bays'), ('film', 'How I Met Your Mother')]\n"
     ]
    },
    {
     "data": {
      "text/plain": [
       "2"
      ]
     },
     "execution_count": 46,
     "metadata": {},
     "output_type": "execute_result"
    }
   ],
   "source": [
    "queryString = \"\"\"\n",
    "SELECT ?screenwriter ?film\n",
    "WHERE { \n",
    "\n",
    "wd:Q147235 wdt:P58 ?sw. \n",
    "\n",
    "?f wdt:P58 ?sw;\n",
    "   wdt:P31 ?i.\n",
    "\n",
    "   \n",
    "?sw <http://schema.org/name> ?screenwriter.\n",
    "?f <http://schema.org/name> ?film.\n",
    "?i <http://schema.org/name> ?instanceOf.\n",
    "FILTER(!regex(?instanceOf, \".*episode.*\") && !regex(?instanceOf, \".*season.*\")).\n",
    "\n",
    "} \n",
    "GROUP BY ?screenwriter\n",
    "ORDER BY DESC(?films)\n",
    "\"\"\"\n",
    "\n",
    "print(\"Results\")\n",
    "run_query(queryString)"
   ]
  },
  {
   "cell_type": "markdown",
   "id": "345dfe72-9fc0-4a8e-92c9-777846b2f51a",
   "metadata": {},
   "source": [
    "As expected we only have data about HIMYM therefore we cannot return any useful information following this flow."
   ]
  },
  {
   "cell_type": "markdown",
   "id": "70b973a5-1816-498c-9c85-05b51d75a8f8",
   "metadata": {
    "tags": []
   },
   "source": [
    "## Comparison between HIMYM and The Office (US)\n",
    "This section contains the queries that answer the fourth question:\n",
    "_Compare HIMYM with the tv series \"The Office (US)\" in terms of number of seasons, episodes and cast members._"
   ]
  },
  {
   "cell_type": "markdown",
   "id": "2b32b865-b67e-4ffd-856c-84f6e9d24ced",
   "metadata": {},
   "source": [
    "I have already discussed the number of seasons and episodes in the first question. I will compare the two tv series in terms of cast members but I recall we do not have much information about The Office(US) cast members. I recall I discovered both tv series have the same number of season and almost the same number of episodes but the number of episodes per season differs.\n",
    "\n",
    "I now compare the two tv series based on the cast members (wdt:P161). I recall there The Office(US) have fewer data about the cast members therefore the results may be affected by it. Firstly I return the number of cast members for each show."
   ]
  },
  {
   "cell_type": "code",
   "execution_count": 47,
   "id": "d5db77aa-13b5-45c2-a133-c4515520ecf6",
   "metadata": {},
   "outputs": [
    {
     "name": "stdout",
     "output_type": "stream",
     "text": [
      "Results\n",
      "[('himymCast', '480'), ('offCast', '25')]\n"
     ]
    },
    {
     "data": {
      "text/plain": [
       "1"
      ]
     },
     "execution_count": 47,
     "metadata": {},
     "output_type": "execute_result"
    }
   ],
   "source": [
    "queryString = \"\"\"\n",
    "SELECT COUNT(DISTINCT ?chimym) AS ?himymCast COUNT(DISTINCT ?coff) AS ?offCast\n",
    "WHERE { \n",
    "\n",
    "wd:Q23831 wdt:P161 ?coff.\n",
    "\n",
    "wd:Q147235 wdt:P161 ?chimym.\n",
    "\n",
    "} \n",
    "\"\"\"\n",
    "\n",
    "print(\"Results\")\n",
    "run_query(queryString)"
   ]
  },
  {
   "cell_type": "markdown",
   "id": "8f95933d-11eb-4cd4-9497-c4208c538ccc",
   "metadata": {},
   "source": [
    "In order to have a fair comparison between the two I return only the 25 most-present actors in HIMYM."
   ]
  },
  {
   "cell_type": "code",
   "execution_count": 48,
   "id": "db53e6b6-69e8-4c22-b354-f587e87d8fa0",
   "metadata": {},
   "outputs": [
    {
     "name": "stdout",
     "output_type": "stream",
     "text": [
      "Results\n",
      "[('actor', 'Josh Radnor'), ('episodes', '145')]\n",
      "[('actor', 'Jason Segel'), ('episodes', '145')]\n",
      "[('actor', 'Cobie Smulders'), ('episodes', '145')]\n",
      "[('actor', 'Neil Patrick Harris'), ('episodes', '145')]\n",
      "[('actor', 'Alyson Hannigan'), ('episodes', '143')]\n",
      "[('actor', 'Bob Saget'), ('episodes', '142')]\n",
      "[('actor', 'Lyndsy Fonseca'), ('episodes', '48')]\n",
      "[('actor', 'David Henrie'), ('episodes', '48')]\n",
      "[('actor', 'Charlene Amoia'), ('episodes', '17')]\n",
      "[('actor', 'Jennifer Morrison'), ('episodes', '12')]\n",
      "[('actor', 'Marshall Manesh'), ('episodes', '11')]\n",
      "[('actor', 'Sarah Chalke'), ('episodes', '10')]\n",
      "[('actor', 'Ashley Williams'), ('episodes', '9')]\n",
      "[('actor', 'Bill Fagerbakke'), ('episodes', '9')]\n",
      "[('actor', 'Suzie Plakson'), ('episodes', '9')]\n",
      "[('actor', 'Nazanin Boniadi'), ('episodes', '8')]\n",
      "[('actor', 'Bob Odenkirk'), ('episodes', '7')]\n",
      "[('actor', 'Bryan Callen'), ('episodes', '6')]\n",
      "[('actor', 'David Burtka'), ('episodes', '5')]\n",
      "[('actor', 'Joe Manganiello'), ('episodes', '5')]\n",
      "[('actor', 'Darcy Rose Byrnes'), ('episodes', '5')]\n",
      "[('actor', 'Cristine Rose'), ('episodes', '5')]\n",
      "[('actor', 'Alexis Denisof'), ('episodes', '5')]\n",
      "[('actor', 'Kal Penn'), ('episodes', '4')]\n",
      "[('actor', 'Chris Romano'), ('episodes', '4')]\n"
     ]
    },
    {
     "data": {
      "text/plain": [
       "25"
      ]
     },
     "execution_count": 48,
     "metadata": {},
     "output_type": "execute_result"
    }
   ],
   "source": [
    "queryString = \"\"\"\n",
    "SELECT DISTINCT ?actor COUNT(DISTINCT ?e) AS ?episodes\n",
    "WHERE { \n",
    "\n",
    "wd:Q147235 wdt:P527/wdt:P527 ?e.\n",
    "?e wdt:P161 ?a.\n",
    "\n",
    "?a <http://schema.org/name> ?actor.\n",
    "\n",
    "} \n",
    "GROUP BY ?actor \n",
    "ORDER BY DESC(?episodes)\n",
    "LIMIT 25\n",
    "\"\"\"\n",
    "\n",
    "print(\"Results\")\n",
    "run_query(queryString)"
   ]
  },
  {
   "cell_type": "markdown",
   "id": "34cef44c-d44c-4636-a065-93b9bdceb92b",
   "metadata": {},
   "source": [
    "I now look for the actors' properties. As per usual, I order such properties based on the number of objects. I run two queries in order to retrieve such propertie for the two tvseries."
   ]
  },
  {
   "cell_type": "code",
   "execution_count": 49,
   "id": "50e1a3de-5f6d-4c19-9fb0-8f2737f2d88f",
   "metadata": {},
   "outputs": [
    {
     "name": "stdout",
     "output_type": "stream",
     "text": [
      "Results\n",
      "[('p', 'http://www.wikidata.org/prop/direct/P6262'), ('pname', 'Fandom article ID'), ('objs', '40')]\n",
      "[('p', 'http://www.wikidata.org/prop/direct/P69'), ('pname', 'educated at'), ('objs', '31')]\n",
      "[('p', 'http://www.wikidata.org/prop/direct/P735'), ('pname', 'given name'), ('objs', '29')]\n",
      "[('p', 'http://www.wikidata.org/prop/direct/P106'), ('pname', 'occupation'), ('objs', '27')]\n",
      "[('p', 'http://www.wikidata.org/prop/direct/P1266'), ('pname', 'AlloCiné person ID'), ('objs', '26')]\n",
      "[('p', 'http://www.wikidata.org/prop/direct/P2605'), ('pname', 'ČSFD person ID'), ('objs', '25')]\n",
      "[('p', 'http://www.wikidata.org/prop/direct/P2604'), ('pname', 'Kinopoisk person ID'), ('objs', '25')]\n",
      "[('p', 'http://www.wikidata.org/prop/direct/P2019'), ('pname', 'AllMovie person ID'), ('objs', '25')]\n",
      "[('p', 'http://www.wikidata.org/prop/direct/P2435'), ('pname', 'PORT person ID'), ('objs', '25')]\n",
      "[('p', 'http://www.wikidata.org/prop/direct/P4985'), ('pname', 'TMDb person ID'), ('objs', '25')]\n",
      "[('p', 'http://www.wikidata.org/prop/direct/P646'), ('pname', 'Freebase ID'), ('objs', '25')]\n",
      "[('p', 'http://www.wikidata.org/prop/direct/P569'), ('pname', 'date of birth'), ('objs', '25')]\n",
      "[('p', 'http://www.wikidata.org/prop/direct/P345'), ('pname', 'IMDb ID'), ('objs', '25')]\n",
      "[('p', 'http://www.wikidata.org/prop/direct/P19'), ('pname', 'place of birth'), ('objs', '24')]\n",
      "[('p', 'http://www.wikidata.org/prop/direct/P7859'), ('pname', 'WorldCat Identities ID'), ('objs', '23')]\n",
      "[('p', 'http://www.wikidata.org/prop/direct/P214'), ('pname', 'VIAF ID'), ('objs', '23')]\n",
      "[('p', 'http://www.wikidata.org/prop/direct/P244'), ('pname', 'Library of Congress authority ID'), ('objs', '23')]\n",
      "[('p', 'http://www.wikidata.org/prop/direct/P18'), ('pname', 'image'), ('objs', '23')]\n",
      "[('p', 'http://www.wikidata.org/prop/direct/P734'), ('pname', 'family name'), ('objs', '22')]\n",
      "[('p', 'http://www.wikidata.org/prop/direct/P373'), ('pname', 'Commons category'), ('objs', '21')]\n",
      "[('p', 'http://www.wikidata.org/prop/direct/P2168'), ('pname', 'Swedish Film Database person ID'), ('objs', '20')]\n",
      "[('p', 'http://www.wikidata.org/prop/direct/P2519'), ('pname', 'Scope.dk person ID'), ('objs', '19')]\n",
      "[('p', 'http://www.wikidata.org/prop/direct/P1263'), ('pname', 'NNDB people ID'), ('objs', '18')]\n",
      "[('p', 'http://www.wikidata.org/prop/direct/P213'), ('pname', 'ISNI'), ('objs', '18')]\n",
      "[('p', 'http://www.wikidata.org/prop/direct/P268'), ('pname', 'Bibliothèque nationale de France ID'), ('objs', '17')]\n"
     ]
    },
    {
     "data": {
      "text/plain": [
       "25"
      ]
     },
     "execution_count": 49,
     "metadata": {},
     "output_type": "execute_result"
    }
   ],
   "source": [
    "queryString = \"\"\"\n",
    "SELECT ?p ?pname COUNT(DISTINCT ?o) AS ?objs\n",
    "WHERE { \n",
    "?a ?p ?o.\n",
    "\n",
    "?p <http://schema.org/name> ?pname.\n",
    "{\n",
    "    SELECT ?a COUNT(DISTINCT ?e) AS ?episodes\n",
    "    WHERE { \n",
    "\n",
    "        wd:Q147235 wdt:P527/wdt:P527 ?e.\n",
    "        ?e wdt:P161 ?a.\n",
    "\n",
    "    } \n",
    "    GROUP BY ?a\n",
    "    ORDER BY DESC(?episodes)\n",
    "    LIMIT 25\n",
    "}\n",
    "\n",
    "} \n",
    "GROUP BY ?p ?pname \n",
    "ORDER BY DESC(?objs)\n",
    "LIMIT 25\n",
    "\"\"\"\n",
    "\n",
    "print(\"Results\")\n",
    "run_query(queryString)"
   ]
  },
  {
   "cell_type": "code",
   "execution_count": 50,
   "id": "b3ecc5cf-d915-4468-89cd-5eaf64fac8d2",
   "metadata": {},
   "outputs": [
    {
     "name": "stdout",
     "output_type": "stream",
     "text": [
      "Results\n",
      "[('p', 'http://www.wikidata.org/prop/direct/P69'), ('pname', 'educated at'), ('objs', '47')]\n",
      "[('p', 'http://www.wikidata.org/prop/direct/P735'), ('pname', 'given name'), ('objs', '33')]\n",
      "[('p', 'http://www.wikidata.org/prop/direct/P18'), ('pname', 'image'), ('objs', '28')]\n",
      "[('p', 'http://www.wikidata.org/prop/direct/P7859'), ('pname', 'WorldCat Identities ID'), ('objs', '26')]\n",
      "[('p', 'http://www.wikidata.org/prop/direct/P4985'), ('pname', 'TMDb person ID'), ('objs', '25')]\n",
      "[('p', 'http://www.wikidata.org/prop/direct/P646'), ('pname', 'Freebase ID'), ('objs', '25')]\n",
      "[('p', 'http://www.wikidata.org/prop/direct/P734'), ('pname', 'family name'), ('objs', '25')]\n",
      "[('p', 'http://www.wikidata.org/prop/direct/P214'), ('pname', 'VIAF ID'), ('objs', '25')]\n",
      "[('p', 'http://www.wikidata.org/prop/direct/P569'), ('pname', 'date of birth'), ('objs', '25')]\n",
      "[('p', 'http://www.wikidata.org/prop/direct/P244'), ('pname', 'Library of Congress authority ID'), ('objs', '25')]\n",
      "[('p', 'http://www.wikidata.org/prop/direct/P345'), ('pname', 'IMDb ID'), ('objs', '25')]\n",
      "[('p', 'http://www.wikidata.org/prop/direct/P373'), ('pname', 'Commons category'), ('objs', '24')]\n",
      "[('p', 'http://www.wikidata.org/prop/direct/P2605'), ('pname', 'ČSFD person ID'), ('objs', '23')]\n",
      "[('p', 'http://www.wikidata.org/prop/direct/P106'), ('pname', 'occupation'), ('objs', '23')]\n",
      "[('p', 'http://www.wikidata.org/prop/direct/P2019'), ('pname', 'AllMovie person ID'), ('objs', '23')]\n",
      "[('p', 'http://www.wikidata.org/prop/direct/P2435'), ('pname', 'PORT person ID'), ('objs', '22')]\n",
      "[('p', 'http://www.wikidata.org/prop/direct/P19'), ('pname', 'place of birth'), ('objs', '22')]\n",
      "[('p', 'http://www.wikidata.org/prop/direct/P2604'), ('pname', 'Kinopoisk person ID'), ('objs', '21')]\n",
      "[('p', 'http://www.wikidata.org/prop/direct/P1266'), ('pname', 'AlloCiné person ID'), ('objs', '20')]\n",
      "[('p', 'http://www.wikidata.org/prop/direct/P9743'), ('pname', 'Podchaser creator ID'), ('objs', '19')]\n",
      "[('p', 'http://www.wikidata.org/prop/direct/P2168'), ('pname', 'Swedish Film Database person ID'), ('objs', '19')]\n",
      "[('p', 'http://www.wikidata.org/prop/direct/P5534'), ('pname', 'Open Media Database person ID'), ('objs', '18')]\n",
      "[('p', 'http://www.wikidata.org/prop/direct/P2519'), ('pname', 'Scope.dk person ID'), ('objs', '17')]\n",
      "[('p', 'http://www.wikidata.org/prop/direct/P2031'), ('pname', 'work period (start)'), ('objs', '17')]\n",
      "[('p', 'http://www.wikidata.org/prop/direct/P2387'), ('pname', 'Elonet person ID'), ('objs', '15')]\n"
     ]
    },
    {
     "data": {
      "text/plain": [
       "25"
      ]
     },
     "execution_count": 50,
     "metadata": {},
     "output_type": "execute_result"
    }
   ],
   "source": [
    "queryString = \"\"\"\n",
    "SELECT ?p ?pname COUNT(DISTINCT ?o) AS ?objs\n",
    "WHERE { \n",
    "\n",
    "wd:Q23831 wdt:P161 ?a.\n",
    "?a ?p ?o.\n",
    "\n",
    "?p <http://schema.org/name> ?pname.\n",
    "\n",
    "} \n",
    "GROUP BY ?p ?pname \n",
    "ORDER BY DESC(?objs)\n",
    "LIMIT 25\n",
    "\"\"\"\n",
    "\n",
    "print(\"Results\")\n",
    "run_query(queryString)"
   ]
  },
  {
   "cell_type": "markdown",
   "id": "0816a7b1-a64e-4441-ada6-f0dd754b9bbe",
   "metadata": {},
   "source": [
    "I could return the youngest and oldest actor for the two tv series by means of the property date of birth (wdt:P569). "
   ]
  },
  {
   "cell_type": "code",
   "execution_count": 51,
   "id": "e8d89e96-ab4d-4204-a255-32e98d2eacc4",
   "metadata": {},
   "outputs": [
    {
     "name": "stdout",
     "output_type": "stream",
     "text": [
      "Results\n",
      "[('offActor', 'Creed Bratton'), ('birthDate', '1943-02-08T00:00:00Z')]\n"
     ]
    },
    {
     "data": {
      "text/plain": [
       "1"
      ]
     },
     "execution_count": 51,
     "metadata": {},
     "output_type": "execute_result"
    }
   ],
   "source": [
    "queryString = \"\"\"\n",
    "SELECT ?offActor ?birthDate ?character\n",
    "WHERE { \n",
    "\n",
    "wd:Q23831 wdt:P161 ?a.\n",
    "?a wdt:P569 ?birthDate.\n",
    "\n",
    "?a <http://schema.org/name> ?offActor.\n",
    "\n",
    "OPTIONAL{ wd:Q23831 wdt:P674 ?c.\n",
    "          ?c wdt:P175 ?a.\n",
    "          ?c <http://schema.org/name> ?character. }\n",
    "\n",
    "}\n",
    "ORDER BY ?birthDate\n",
    "LIMIT 1\n",
    "\"\"\"\n",
    "\n",
    "print(\"Results\")\n",
    "run_query(queryString)"
   ]
  },
  {
   "cell_type": "code",
   "execution_count": 52,
   "id": "29df4f59-bfa8-4550-bef4-d7cb7cb26597",
   "metadata": {},
   "outputs": [
    {
     "name": "stdout",
     "output_type": "stream",
     "text": [
      "Results\n",
      "[('offActor', 'Clark Duke'), ('birthDate', '1985-05-05T00:00:00Z')]\n"
     ]
    },
    {
     "data": {
      "text/plain": [
       "1"
      ]
     },
     "execution_count": 52,
     "metadata": {},
     "output_type": "execute_result"
    }
   ],
   "source": [
    "queryString = \"\"\"\n",
    "SELECT ?offActor ?birthDate ?character\n",
    "WHERE { \n",
    "\n",
    "wd:Q23831 wdt:P161 ?a.\n",
    "?a wdt:P569 ?birthDate.\n",
    "\n",
    "?a <http://schema.org/name> ?offActor.\n",
    "\n",
    "OPTIONAL{ wd:Q23831 wdt:P674 ?c.\n",
    "          ?c wdt:P175 ?a.\n",
    "          ?c <http://schema.org/name> ?character. }\n",
    "\n",
    "}\n",
    "ORDER BY DESC(?birthDate)\n",
    "LIMIT 1\n",
    "\"\"\"\n",
    "\n",
    "print(\"Results\")\n",
    "run_query(queryString)"
   ]
  },
  {
   "cell_type": "code",
   "execution_count": 53,
   "id": "4f01343a-f7e8-472f-9793-19441977de88",
   "metadata": {},
   "outputs": [
    {
     "name": "stdout",
     "output_type": "stream",
     "text": [
      "Results\n",
      "[('himymActor', 'Marshall Manesh'), ('birthDate', '1950-08-16T00:00:00Z'), ('character', 'Ranjit Singh')]\n"
     ]
    },
    {
     "data": {
      "text/plain": [
       "1"
      ]
     },
     "execution_count": 53,
     "metadata": {},
     "output_type": "execute_result"
    }
   ],
   "source": [
    "queryString = \"\"\"\n",
    "SELECT ?himymActor ?birthDate ?character\n",
    "WHERE { \n",
    "\n",
    "?a wdt:P569 ?birthDate.\n",
    "\n",
    "?a <http://schema.org/name> ?himymActor.\n",
    "\n",
    "OPTIONAL{ wd:Q147235 wdt:P674 ?c.\n",
    "          ?c wdt:P175 ?a.\n",
    "          ?c <http://schema.org/name> ?character. }\n",
    "\n",
    "{\n",
    "    SELECT ?a COUNT(DISTINCT ?e) AS ?episodes\n",
    "    WHERE { \n",
    "\n",
    "        wd:Q147235 wdt:P527/wdt:P527 ?e.\n",
    "        ?e wdt:P161 ?a.\n",
    "\n",
    "    } \n",
    "    GROUP BY ?a\n",
    "    ORDER BY DESC(?episodes)\n",
    "    LIMIT 25\n",
    "}\n",
    "\n",
    "}\n",
    "ORDER BY ?birthDate\n",
    "LIMIT 1\n",
    "\"\"\"\n",
    "\n",
    "print(\"Results\")\n",
    "run_query(queryString)"
   ]
  },
  {
   "cell_type": "code",
   "execution_count": 54,
   "id": "85cc3a99-77ab-4871-a149-be098d754a6c",
   "metadata": {},
   "outputs": [
    {
     "name": "stdout",
     "output_type": "stream",
     "text": [
      "Results\n",
      "[('himymActor', 'Darcy Rose Byrnes'), ('birthDate', '1998-11-04T00:00:00Z'), ('character', 'Lucy Zinman')]\n"
     ]
    },
    {
     "data": {
      "text/plain": [
       "1"
      ]
     },
     "execution_count": 54,
     "metadata": {},
     "output_type": "execute_result"
    }
   ],
   "source": [
    "queryString = \"\"\"\n",
    "SELECT ?himymActor ?birthDate ?character\n",
    "WHERE { \n",
    "\n",
    "?a wdt:P569 ?birthDate.\n",
    "\n",
    "?a <http://schema.org/name> ?himymActor.\n",
    "\n",
    "OPTIONAL{ wd:Q147235 wdt:P674 ?c.\n",
    "          ?c wdt:P175 ?a.\n",
    "          ?c <http://schema.org/name> ?character. }\n",
    "          \n",
    "{\n",
    "    SELECT ?a COUNT(DISTINCT ?e) AS ?episodes\n",
    "    WHERE { \n",
    "\n",
    "        wd:Q147235 wdt:P527/wdt:P527 ?e.\n",
    "        ?e wdt:P161 ?a.\n",
    "\n",
    "    } \n",
    "    GROUP BY ?a\n",
    "    ORDER BY DESC(?episodes)\n",
    "    LIMIT 25\n",
    "}\n",
    "\n",
    "}\n",
    "ORDER BY DESC(?birthDate)\n",
    "LIMIT 1\n",
    "\"\"\"\n",
    "\n",
    "print(\"Results\")\n",
    "run_query(queryString)"
   ]
  },
  {
   "cell_type": "markdown",
   "id": "0c0f1c2b-ea01-406a-bf84-7d5a459d78fb",
   "metadata": {},
   "source": [
    "Overall it looks like the cast of HIMYM is younger than the one of The Office(US). \n",
    "\n",
    "Since the cast of HIMYM is large, I can return the occupation of actors who apperared in HIMYM that are not televisoon actors. I recall in a previous question I discovered property \"occupation\" (wdt:P106) and the node (wd:Q10798782) \"televison actor\"."
   ]
  },
  {
   "cell_type": "code",
   "execution_count": 55,
   "id": "3a1db33a-15fc-449d-bb00-5d37031c5805",
   "metadata": {},
   "outputs": [
    {
     "name": "stdout",
     "output_type": "stream",
     "text": [
      "Results\n",
      "[('occupation', 'actor'), ('actors', '396')]\n",
      "[('occupation', 'film actor'), ('actors', '252')]\n",
      "[('occupation', 'voice actor'), ('actors', '94')]\n",
      "[('occupation', 'stage actor'), ('actors', '70')]\n",
      "[('occupation', 'screenwriter'), ('actors', '65')]\n",
      "[('occupation', 'singer'), ('actors', '52')]\n",
      "[('occupation', 'model'), ('actors', '49')]\n",
      "[('occupation', 'film producer'), ('actors', '48')]\n",
      "[('occupation', 'film director'), ('actors', '34')]\n",
      "[('occupation', 'writer'), ('actors', '27')]\n",
      "[('occupation', 'comedian'), ('actors', '26')]\n",
      "[('occupation', 'television producer'), ('actors', '26')]\n",
      "[('occupation', 'musician'), ('actors', '24')]\n",
      "[('occupation', 'singer-songwriter'), ('actors', '14')]\n",
      "[('occupation', 'dancer'), ('actors', '14')]\n"
     ]
    },
    {
     "data": {
      "text/plain": [
       "15"
      ]
     },
     "execution_count": 55,
     "metadata": {},
     "output_type": "execute_result"
    }
   ],
   "source": [
    "queryString = \"\"\"\n",
    "SELECT ?occupation COUNT(DISTINCT ?a) AS ?actors\n",
    "WHERE { \n",
    "\n",
    "wd:Q147235 wdt:P161 ?a.\n",
    "\n",
    "?a wdt:P106 ?o.\n",
    "\n",
    "?o <http://schema.org/name> ?occupation.\n",
    "\n",
    "FILTER (?o != wd:Q10798782).\n",
    "\n",
    "}\n",
    "ORDER BY DESC(?actors)\n",
    "LIMIT 15\n",
    "\"\"\"\n",
    "\n",
    "print(\"Results\")\n",
    "run_query(queryString)"
   ]
  },
  {
   "cell_type": "markdown",
   "id": "8a4b50a7-7c2a-47e4-b639-85a43a26eacd",
   "metadata": {},
   "source": [
    "Wikidata has highly specific occupation therefore most of the cast is an actor but not specifically a television actor. Then we have singers, models etc.\n",
    "\n",
    "I can also check if there are some actors who played a role both in HIMYM and The Office(US) even though, given the lack of information, it is very unlikely."
   ]
  },
  {
   "cell_type": "code",
   "execution_count": 56,
   "id": "26f5b353-5bb8-4889-ac0e-fb60977600b7",
   "metadata": {},
   "outputs": [
    {
     "name": "stdout",
     "output_type": "stream",
     "text": [
      "Results\n",
      "Empty\n"
     ]
    },
    {
     "data": {
      "text/plain": [
       "0"
      ]
     },
     "execution_count": 56,
     "metadata": {},
     "output_type": "execute_result"
    }
   ],
   "source": [
    "queryString = \"\"\"\n",
    "SELECT DISTINCT ?actor\n",
    "WHERE { \n",
    "\n",
    "wd:Q147235 wdt:P161 ?a.\n",
    "wd:Q23831 wdt:P161 ?a.\n",
    "\n",
    "?a <http://schema.org/name> ?actor.\n",
    "\n",
    "}\n",
    "\"\"\"\n",
    "\n",
    "print(\"Results\")\n",
    "run_query(queryString)"
   ]
  },
  {
   "cell_type": "markdown",
   "id": "6d9a1e1b-5e56-46f1-a76e-330bc9bbff49",
   "metadata": {},
   "source": [
    "Finally, I can compare the two tv series based on the number of different directors they had. In fact, I previously discovered we have information about the directors of the single episodes."
   ]
  },
  {
   "cell_type": "code",
   "execution_count": 57,
   "id": "a575de3b-422d-429b-9ac2-3c6aa04cf782",
   "metadata": {},
   "outputs": [
    {
     "name": "stdout",
     "output_type": "stream",
     "text": [
      "Results\n",
      "[('himymDirectors', '4'), ('offDirectors', '51')]\n"
     ]
    },
    {
     "data": {
      "text/plain": [
       "1"
      ]
     },
     "execution_count": 57,
     "metadata": {},
     "output_type": "execute_result"
    }
   ],
   "source": [
    "queryString = \"\"\"\n",
    "SELECT COUNT(DISTINCT ?h) AS ?himymDirectors COUNT(DISTINCT ?o) AS ?offDirectors\n",
    "WHERE { \n",
    "\n",
    "wd:Q147235 wdt:P527/wdt:P527/wdt:P57 ?h.\n",
    "\n",
    "wd:Q23831 wdt:P527/wdt:P527/wdt:P57 ?o.\n",
    "\n",
    "}\n",
    "\"\"\"\n",
    "\n",
    "print(\"Results\")\n",
    "run_query(queryString)"
   ]
  },
  {
   "cell_type": "markdown",
   "id": "bde69d57-213a-4db3-b53f-06d0408b729e",
   "metadata": {},
   "source": [
    "It turns out HIMYM episodes are all directed by 4 directors while The Office(US)'s episodes have been directed by more different people."
   ]
  },
  {
   "cell_type": "markdown",
   "id": "10a0c47a-c553-43fe-b229-2bcce2596742",
   "metadata": {
    "tags": []
   },
   "source": [
    "## Kavin Bacon number\n",
    "This section contains the queries that answer the last question:\n",
    "_Return how many of the actors who are members of the cast of the tv series have [Kavin Bacon number](https://en.wikipedia.org/wiki/Six_Degrees_of_Kevin_Bacon#:~:text=Kevin%20Bacon%20himself%20has%20a,Bacon%20number%20is%20N%2B1.) equal to 2_"
   ]
  },
  {
   "cell_type": "markdown",
   "id": "054c13b5-49cb-45f0-85c4-a25f1b77ca02",
   "metadata": {},
   "source": [
    "Actors with Kevin Bacon number equal to 2 are actors who acted in a film with someone who acted with Kevin Bacon. Firsly I need to find the node for Kevin Bacon."
   ]
  },
  {
   "cell_type": "code",
   "execution_count": 58,
   "id": "4fad2c2f-8319-4275-b949-2ef9e90842d5",
   "metadata": {},
   "outputs": [
    {
     "name": "stdout",
     "output_type": "stream",
     "text": [
      "Results\n",
      "[('a', 'http://www.wikidata.org/entity/Q3454165'), ('actor', 'Kevin Bacon')]\n"
     ]
    },
    {
     "data": {
      "text/plain": [
       "1"
      ]
     },
     "execution_count": 58,
     "metadata": {},
     "output_type": "execute_result"
    }
   ],
   "source": [
    "queryString = \"\"\"\n",
    "SELECT DISTINCT ?a ?actor\n",
    "WHERE { \n",
    "?a wdt:P106 ?p.\n",
    "?p <http://schema.org/name> ?profession.\n",
    "?a <http://schema.org/name> ?actor.\n",
    "FILTER(regex(?profession, \".*actor.*\")).\n",
    "FILTER(regex(?actor, \"Kevin Bacon\")).\n",
    "\n",
    "} \n",
    "\"\"\"\n",
    "\n",
    "print(\"Results\")\n",
    "run_query(queryString)"
   ]
  },
  {
   "cell_type": "markdown",
   "id": "7b06bfc3-d44e-4bae-a402-08ac4a6792bd",
   "metadata": {},
   "source": [
    "Now I can retrieve all actors who worked in a movie with him by using the property \"cast member\"(wdt:P161). "
   ]
  },
  {
   "cell_type": "code",
   "execution_count": 59,
   "id": "aff9121b-2545-4272-ac66-069db95b074f",
   "metadata": {},
   "outputs": [
    {
     "name": "stdout",
     "output_type": "stream",
     "text": [
      "Results\n",
      "[('actors', '838')]\n"
     ]
    },
    {
     "data": {
      "text/plain": [
       "1"
      ]
     },
     "execution_count": 59,
     "metadata": {},
     "output_type": "execute_result"
    }
   ],
   "source": [
    "queryString = \"\"\"\n",
    "SELECT COUNT(DISTINCT ?a) AS ?actors\n",
    "WHERE {\n",
    "\n",
    "?f wdt:P161 ?a;\n",
    "   wdt:P161 wd:Q3454165.\n",
    "   \n",
    "FILTER(?a != wd:Q3454165).\n",
    "\n",
    "} \n",
    "\"\"\"\n",
    "\n",
    "print(\"Results\")\n",
    "run_query(queryString)"
   ]
  },
  {
   "cell_type": "markdown",
   "id": "7f019ce2-00c8-422c-9d35-d0e6e0f18fdf",
   "metadata": {},
   "source": [
    "In the end I can retrieve how many actors of the two tv serie have bacon number equal to 2."
   ]
  },
  {
   "cell_type": "code",
   "execution_count": 60,
   "id": "8e6ec689-c190-4caf-af7c-7c547299ec25",
   "metadata": {},
   "outputs": [
    {
     "name": "stdout",
     "output_type": "stream",
     "text": [
      "Results\n",
      "[('himymActors', '480'), ('offActors', '25')]\n"
     ]
    },
    {
     "data": {
      "text/plain": [
       "1"
      ]
     },
     "execution_count": 60,
     "metadata": {},
     "output_type": "execute_result"
    }
   ],
   "source": [
    "queryString = \"\"\"\n",
    "SELECT COUNT(DISTINCT ?hActor) AS ?himymActors COUNT(DISTINCT ?oActor) AS ?offActors\n",
    "WHERE {\n",
    "\n",
    "    wd:Q147235 wdt:P161 ?hActor.\n",
    "    \n",
    "    wd:Q23831 wdt:P161 ?oActor.\n",
    "\n",
    "    ?f1 wdt:P161 ?hActor;\n",
    "        wdt:P161 ?a1.\n",
    "        \n",
    "    ?f2 wdt:P161 ?oActor;\n",
    "        wdt:P161 ?a2.\n",
    "\n",
    "    FILTER(?a1 != ?hActor && ?a1 = ?a).\n",
    "    FILTER(?a2 != ?oActor && ?a2 = ?a).\n",
    "\n",
    "{\n",
    "    SELECT DISTINCT ?a\n",
    "    WHERE { \n",
    "\n",
    "    ?f wdt:P161 ?a;\n",
    "       wdt:P161 wd:Q3454165.\n",
    "\n",
    "    FILTER(?a != wd:Q3454165).\n",
    "\n",
    "    } \n",
    "}\n",
    "\n",
    "}\n",
    "\"\"\"\n",
    "\n",
    "print(\"Results\")\n",
    "run_query(queryString)"
   ]
  },
  {
   "cell_type": "markdown",
   "id": "d262c930-0168-4be1-bd22-dbdd2bc32557",
   "metadata": {},
   "source": [
    "From this query it looks like all cast members of both tv series have Kevin Bacon number equal to 2. I think there is a problem with the paths. \n",
    "\n",
    "I change the approach and return the number of actors of the two tv series in two different query. Starting from The Office(US), firstly I check if Kevin Bacon played a role in The Office (US)."
   ]
  },
  {
   "cell_type": "code",
   "execution_count": 61,
   "id": "a1273339-5ff7-4cfb-8632-a3059166fa1e",
   "metadata": {},
   "outputs": [
    {
     "name": "stdout",
     "output_type": "stream",
     "text": [
      "Results\n",
      "Empty\n"
     ]
    },
    {
     "data": {
      "text/plain": [
       "0"
      ]
     },
     "execution_count": 61,
     "metadata": {},
     "output_type": "execute_result"
    }
   ],
   "source": [
    "queryString = \"\"\"\n",
    "SELECT DISTINCT ?a\n",
    "WHERE {\n",
    "\n",
    "wd:Q23831 wdt:P161 ?a.\n",
    "   \n",
    "FILTER(?a = wd:Q3454165).\n",
    "\n",
    "} \n",
    "\"\"\"\n",
    "\n",
    "print(\"Results\")\n",
    "run_query(queryString)"
   ]
  },
  {
   "cell_type": "markdown",
   "id": "91177f94-309a-4883-818c-7e1d27356d03",
   "metadata": {},
   "source": [
    "Since Kevin Bacon did not work on The Office(US) I check if any actor of The Office(US) has worked with Kevin Bacon in any other film."
   ]
  },
  {
   "cell_type": "code",
   "execution_count": 62,
   "id": "fd02d4fd-24f3-4c88-9ab6-3ff635dd13d6",
   "metadata": {},
   "outputs": [
    {
     "name": "stdout",
     "output_type": "stream",
     "text": [
      "Results\n",
      "[('a', 'http://www.wikidata.org/entity/Q216221'), ('actor', 'Steve Carell')]\n",
      "[('a', 'http://www.wikidata.org/entity/Q349548'), ('actor', 'Rainn Wilson')]\n"
     ]
    },
    {
     "data": {
      "text/plain": [
       "2"
      ]
     },
     "execution_count": 62,
     "metadata": {},
     "output_type": "execute_result"
    }
   ],
   "source": [
    "queryString = \"\"\"\n",
    "SELECT DISTINCT ?a ?actor\n",
    "WHERE {\n",
    "\n",
    "?f wdt:P161 ?a;\n",
    "   wdt:P161 wd:Q3454165.\n",
    "   \n",
    "wd:Q23831 wdt:P161 ?a.\n",
    "   \n",
    "FILTER(?a != wd:Q3454165).\n",
    "?a <http://schema.org/name> ?actor.\n",
    "\n",
    "} \n",
    "\"\"\"\n",
    "\n",
    "print(\"Results\")\n",
    "run_query(queryString)"
   ]
  },
  {
   "cell_type": "markdown",
   "id": "1014ad09-3ea0-478e-8aee-ce8b692b27f0",
   "metadata": {},
   "source": [
    "Since I have two actors with Kevin Bacon number equal to 1 (because they worked with him), all the rest of the cast of The Office(US) has Kevin Bacon number equal to 2. Therefore I can count the actors who have Kevin Bacon number equal to 2 by subtracting the actors who directly worked with Kevin Bacon."
   ]
  },
  {
   "cell_type": "code",
   "execution_count": 63,
   "id": "4af58da1-a805-4568-9e9b-4f4ada3bbf58",
   "metadata": {},
   "outputs": [
    {
     "name": "stdout",
     "output_type": "stream",
     "text": [
      "Results\n",
      "[('offActors', '23')]\n"
     ]
    },
    {
     "data": {
      "text/plain": [
       "1"
      ]
     },
     "execution_count": 63,
     "metadata": {},
     "output_type": "execute_result"
    }
   ],
   "source": [
    "queryString = \"\"\"\n",
    "SELECT COUNT(DISTINCT ?a) AS ?offActors\n",
    "WHERE {\n",
    "\n",
    "    { wd:Q23831 wdt:P161 ?a. }\n",
    "    MINUS\n",
    "    {\n",
    "        ?f wdt:P161 ?a;\n",
    "           wdt:P161 wd:Q3454165.\n",
    "\n",
    "        wd:Q23831 wdt:P161 ?a.\n",
    "        FILTER(?a != wd:Q3454165).\n",
    "        \n",
    "    }\n",
    "\n",
    "}\n",
    "\"\"\"\n",
    "\n",
    "print(\"Results\")\n",
    "run_query(queryString)"
   ]
  },
  {
   "cell_type": "markdown",
   "id": "b398adee-b0f1-4f10-99f0-96b61174eeb9",
   "metadata": {},
   "source": [
    "I now repeat the same reasoning for HIMYM actors. First I check if Kevin Bacon acted in HIMYM."
   ]
  },
  {
   "cell_type": "code",
   "execution_count": 64,
   "id": "8436651e-cebd-4a0a-83ea-c40fef228abc",
   "metadata": {},
   "outputs": [
    {
     "name": "stdout",
     "output_type": "stream",
     "text": [
      "Results\n",
      "Empty\n"
     ]
    },
    {
     "data": {
      "text/plain": [
       "0"
      ]
     },
     "execution_count": 64,
     "metadata": {},
     "output_type": "execute_result"
    }
   ],
   "source": [
    "queryString = \"\"\"\n",
    "SELECT DISTINCT ?a\n",
    "WHERE {\n",
    "\n",
    "wd:Q147235 wdt:P161 ?a.\n",
    "   \n",
    "FILTER(?a = wd:Q3454165).\n",
    "\n",
    "} \n",
    "\"\"\"\n",
    "\n",
    "print(\"Results\")\n",
    "run_query(queryString)"
   ]
  },
  {
   "cell_type": "markdown",
   "id": "00d0401c-5d1e-4d81-8985-aa6cb29db919",
   "metadata": {},
   "source": [
    "Now I check if any actors who worked in HIMYM played a role in a film together with Kevin Bacon."
   ]
  },
  {
   "cell_type": "code",
   "execution_count": 65,
   "id": "40c009e3-556e-4dde-8cb0-c2d087d6d1f6",
   "metadata": {},
   "outputs": [
    {
     "name": "stdout",
     "output_type": "stream",
     "text": [
      "Results\n",
      "[('a', 'http://www.wikidata.org/entity/Q269891'), ('actor', 'Julianna Guill')]\n",
      "[('a', 'http://www.wikidata.org/entity/Q312705'), ('actor', 'John Cho')]\n",
      "[('a', 'http://www.wikidata.org/entity/Q234715'), ('actor', 'Jamie-Lynn Sigler')]\n",
      "[('a', 'http://www.wikidata.org/entity/Q311271'), ('actor', 'John Lithgow')]\n",
      "[('a', 'http://www.wikidata.org/entity/Q234137'), ('actor', 'Megan Mullally')]\n",
      "[('a', 'http://www.wikidata.org/entity/Q530646'), ('actor', 'Ray Wise')]\n",
      "[('a', 'http://www.wikidata.org/entity/Q199929'), ('actor', 'Jennifer Morrison')]\n",
      "[('a', 'http://www.wikidata.org/entity/Q433355'), ('actor', 'Patricia Belcher')]\n",
      "[('a', 'http://www.wikidata.org/entity/Q234514'), ('actor', 'Camryn Manheim')]\n",
      "[('a', 'http://www.wikidata.org/entity/Q362616'), ('actor', 'Jon Bernthal')]\n",
      "[('a', 'http://www.wikidata.org/entity/Q329744'), ('actor', 'Martin Short')]\n",
      "[('a', 'http://www.wikidata.org/entity/Q5357354'), ('actor', 'Todd Stashwick')]\n",
      "[('a', 'http://www.wikidata.org/entity/Q782662'), ('actor', 'Michael Gross')]\n",
      "[('a', 'http://www.wikidata.org/entity/Q268549'), ('actor', 'Sherri Shepherd')]\n",
      "[('a', 'http://www.wikidata.org/entity/Q1120700'), ('actor', 'Orson Bean')]\n",
      "[('a', 'http://www.wikidata.org/entity/Q1976946'), ('actor', 'Rachel Specter')]\n"
     ]
    },
    {
     "data": {
      "text/plain": [
       "16"
      ]
     },
     "execution_count": 65,
     "metadata": {},
     "output_type": "execute_result"
    }
   ],
   "source": [
    "queryString = \"\"\"\n",
    "SELECT DISTINCT ?a ?actor\n",
    "WHERE {\n",
    "\n",
    "?f wdt:P161 ?a;\n",
    "   wdt:P161 wd:Q3454165.\n",
    "   \n",
    "wd:Q147235 wdt:P161 ?a.\n",
    "   \n",
    "FILTER(?a != wd:Q3454165).\n",
    "?a <http://schema.org/name> ?actor.\n",
    "\n",
    "} \n",
    "\"\"\"\n",
    "\n",
    "print(\"Results\")\n",
    "run_query(queryString)"
   ]
  },
  {
   "cell_type": "markdown",
   "id": "dc11a825-8c74-4a70-a39c-136e2d135bff",
   "metadata": {},
   "source": [
    "Since I have 16 actors with Kevin Bacon number equal to 1 (because they worked with him), all the rest of the cast of HIMYM has Kevin Bacon number equal to 2. Therefore I can count them by subtracting the actors who directly worked with Kevin Bacon."
   ]
  },
  {
   "cell_type": "code",
   "execution_count": 66,
   "id": "2041436f-f95d-4cf8-98f2-da402fa9bb05",
   "metadata": {},
   "outputs": [
    {
     "name": "stdout",
     "output_type": "stream",
     "text": [
      "Results\n",
      "[('himymActors', '464')]\n"
     ]
    },
    {
     "data": {
      "text/plain": [
       "1"
      ]
     },
     "execution_count": 66,
     "metadata": {},
     "output_type": "execute_result"
    }
   ],
   "source": [
    "queryString = \"\"\"\n",
    "SELECT COUNT(DISTINCT ?a) AS ?himymActors\n",
    "WHERE {\n",
    "\n",
    "    { wd:Q147235 wdt:P161 ?a. }\n",
    "    MINUS\n",
    "    {\n",
    "        ?f wdt:P161 ?a;\n",
    "        wdt:P161 wd:Q3454165.\n",
    "   \n",
    "        wd:Q147235 wdt:P161 ?a.\n",
    "   \n",
    "        FILTER(?a != wd:Q3454165).\n",
    "\n",
    "    }\n",
    "\n",
    "}\n",
    "\"\"\"\n",
    "\n",
    "print(\"Results\")\n",
    "run_query(queryString)"
   ]
  },
  {
   "cell_type": "code",
   "execution_count": null,
   "id": "34230905-ba8b-43ae-80e0-b195ccb6b937",
   "metadata": {},
   "outputs": [],
   "source": []
  }
 ],
 "metadata": {
  "kernelspec": {
   "display_name": "Python 3",
   "language": "python",
   "name": "python3"
  },
  "language_info": {
   "codemirror_mode": {
    "name": "ipython",
    "version": 3
   },
   "file_extension": ".py",
   "mimetype": "text/x-python",
   "name": "python",
   "nbconvert_exporter": "python",
   "pygments_lexer": "ipython3",
   "version": "3.7.10"
  }
 },
 "nbformat": 4,
 "nbformat_minor": 5
}
