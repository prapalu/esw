{
 "cells": [
  {
   "cell_type": "markdown",
   "id": "7034c3bf-6eb0-4418-8687-7b9d2a501103",
   "metadata": {},
   "source": [
    "# General instructions\n",
    "\n",
    "The goal of the project is to materialize a set of **exploratory workloads** over a real-world, large-scale,  open-domain KG: [WikiData](https://www.wikidata.org/wiki/Wikidata:Main_Page)\n",
    "\n",
    "An exploratory workload  is composed by a set of queries, where each query is related to the information obtained previously.\n",
    "\n",
    "An exploratory workload starts with a usually vague, open ended question, and does not assume the person issuing the workload has a clear understanding of the data contained in the target database or its structure.\n",
    "\n",
    "Remeber that:\n",
    "\n",
    "1. All the queries must run in the python notebook\n",
    "2. You can use classes and properties only if you find them via a SPARQL query that must be present in the notebook\n",
    "3. You do not delete useless queries. Keep everything that is synthatically valid \n",
    "\n",
    "```\n",
    "?p <http://schema.org/name> ?name .\n",
    "```\n",
    "    \n",
    "is the BGP returning a human-readable name of a property or a class in Wikidata.\n",
    "    \n",
    "    "
   ]
  },
  {
   "cell_type": "code",
   "execution_count": 1,
   "id": "3605c9d5-5371-49a5-be8d-d66e8f417139",
   "metadata": {},
   "outputs": [],
   "source": [
    "## SETUP used later\n",
    "\n",
    "from SPARQLWrapper import SPARQLWrapper, JSON\n",
    "\n",
    "\n",
    "prefixString = \"\"\"\n",
    "##-d7ebe82f8a-##\n",
    "PREFIX wd: <http://www.wikidata.org/entity/> \n",
    "PREFIX wdt: <http://www.wikidata.org/prop/direct/> \n",
    "PREFIX sc: <http://schema.org/>\n",
    "\"\"\"\n",
    "\n",
    "# select and construct queries\n",
    "def run_query(queryString):\n",
    "    to_run = prefixString + \"\\n\" + queryString\n",
    "\n",
    "    sparql = SPARQLWrapper(\"http://a256-gc1-02.srv.aau.dk:5820/sparql\")\n",
    "    sparql.setTimeout(300)\n",
    "    sparql.setReturnFormat(JSON)\n",
    "    sparql.setQuery(to_run)\n",
    "\n",
    "    try :\n",
    "       results = sparql.query()\n",
    "       json_results = results.convert()\n",
    "       if len(json_results['results']['bindings'])==0:\n",
    "          print(\"Empty\")\n",
    "          return 0\n",
    "    \n",
    "       for bindings in json_results['results']['bindings']:\n",
    "          print( [ (var, value['value'])  for var, value in bindings.items() ] )\n",
    "\n",
    "       return len(json_results['results']['bindings'])\n",
    "\n",
    "    except Exception as e :\n",
    "        print(\"The operation failed\", e)\n",
    "    \n",
    "# ASk queries\n",
    "def run_ask_query(queryString):\n",
    "    to_run = prefixString + \"\\n\" + queryString\n",
    "\n",
    "    sparql = SPARQLWrapper(\"http://a256-gc1-02.srv.aau.dk:5820/sparql\")\n",
    "    sparql.setTimeout(300)\n",
    "    sparql.setReturnFormat(JSON)\n",
    "    sparql.setQuery(to_run)\n",
    "\n",
    "    try :\n",
    "        return sparql.query().convert()\n",
    "\n",
    "    except Exception as e :\n",
    "        print(\"The operation failed\", e)\n"
   ]
  },
  {
   "cell_type": "markdown",
   "id": "d477a59c-a68c-4c8f-9f97-8ca5294d7d27",
   "metadata": {},
   "source": [
    "# Companies Workflow Series (\"Trademarks across the world\") \n",
    "\n",
    "Consider the following exploratory information need:\n",
    "\n",
    "> You are investigating different kinds of trademarks"
   ]
  },
  {
   "cell_type": "markdown",
   "id": "4a45c0ba-f79e-441d-bec5-84401b09db70",
   "metadata": {},
   "source": [
    "## Useful URIs for the current workflow\n",
    "\n",
    "\n",
    "The following are given:\n",
    "\n",
    "| IRI           | Description   | Role      |\n",
    "| -----------   | -----------   |-----------|\n",
    "| `wdt:P1647`   | subproperty   | predicate |\n",
    "| `wdt:P31`     | instance of   | predicate |\n",
    "| `wdt:P279`    | subclass      | predicate |\n",
    "| `wdt:P17`      | country       | predicate |\n",
    "| `wdt:P27`      | citizenship   | predicate |\n",
    "| `wd:Q167270`  | trademark     | node      |\n",
    "| `wd:Q14091`   | iMac          | node      |\n",
    "| `wd:Q312`     | Apple Inc.    | node      |\n",
    "\n",
    "\n",
    "\n",
    "Also consider\n",
    "\n",
    "```\n",
    "?p wdt:P31/wdt:P279* wd:Q167270  . \n",
    "```\n",
    "\n",
    "is the BGP to retrieve all **entities that are trademarks**"
   ]
  },
  {
   "cell_type": "markdown",
   "id": "7af439fb-96e4-4dbb-a381-f19afab79f86",
   "metadata": {
    "tags": []
   },
   "source": [
    "## Workload Goals\n",
    "\n",
    "1. Identify the BGP for the company or person related to a given trademark\n",
    "\n",
    "2. Identify the BGP to retrieve types or categories for a given trademark\n",
    "\n",
    "3. What companies have the largest number of trademarks? \n",
    "\n",
    "4. What are the types of trademarks, how many trademarks exist for each type?\n",
    "\n",
    "5. Analyze the number of trademarks across types, companies, and countries\n",
    " \n",
    "   5.1 How many U.S. companies hold trademarks? In which sectors?\n",
    "   \n",
    "   5.2 How many people hold or are connected to trademarks? In which role?\n",
    "   \n",
    "   5.3 In which sector there is the highest number of trademarks?   \n"
   ]
  },
  {
   "cell_type": "code",
   "execution_count": 1,
   "id": "24a853ab-830c-422c-afd3-e9e015b8b8ed",
   "metadata": {},
   "outputs": [],
   "source": [
    "# start your workflow here"
   ]
  },
  {
   "cell_type": "code",
   "execution_count": 2,
   "id": "ade01416-92e7-4ad7-b9a9-b8fb330750dc",
   "metadata": {},
   "outputs": [
    {
     "name": "stdout",
     "output_type": "stream",
     "text": [
      "Results\n",
      "[('callret-0', '25105')]\n"
     ]
    },
    {
     "data": {
      "text/plain": [
       "1"
      ]
     },
     "execution_count": 2,
     "metadata": {},
     "output_type": "execute_result"
    }
   ],
   "source": [
    "queryString = \"\"\"\n",
    "SELECT COUNT( DISTINCT ?p)\n",
    "WHERE { \n",
    "\n",
    "\n",
    "?p wdt:P31/wdt:P279* wd:Q167270  . \n",
    "\n",
    "} \n",
    "\"\"\"\n",
    "\n",
    "print(\"Results\")\n",
    "run_query(queryString)"
   ]
  },
  {
   "cell_type": "markdown",
   "id": "b2688046-8bd5-4cf3-863d-a77d61048ca3",
   "metadata": {
    "tags": []
   },
   "source": [
    "## Companies or people related to a trademark\n",
    "This section contains the queries used to answer the first question: _Identify the BGP for the company or person related to a given trademark_"
   ]
  },
  {
   "cell_type": "markdown",
   "id": "97e7f9d3-7bd4-4415-b8fd-c2ed674dc690",
   "metadata": {},
   "source": [
    "Firstly, I count how many properties have a trademark as subject or object."
   ]
  },
  {
   "cell_type": "code",
   "execution_count": 3,
   "id": "710d4dc1-b525-44fe-995b-f1b52f280897",
   "metadata": {},
   "outputs": [
    {
     "name": "stdout",
     "output_type": "stream",
     "text": [
      "Results\n",
      "[('subjProps', '1197')]\n"
     ]
    },
    {
     "data": {
      "text/plain": [
       "1"
      ]
     },
     "execution_count": 3,
     "metadata": {},
     "output_type": "execute_result"
    }
   ],
   "source": [
    "queryString = \"\"\"\n",
    "SELECT COUNT(DISTINCT ?p) AS ?subjProps\n",
    "WHERE { \n",
    "\n",
    "\n",
    "?t wdt:P31/wdt:P279* wd:Q167270;\n",
    "    ?p ?obj. \n",
    "\n",
    "} \n",
    "\"\"\"\n",
    "\n",
    "print(\"Results\")\n",
    "run_query(queryString)"
   ]
  },
  {
   "cell_type": "code",
   "execution_count": 4,
   "id": "e15d5871-ca27-40bc-974e-93079c8b9b6a",
   "metadata": {},
   "outputs": [
    {
     "name": "stdout",
     "output_type": "stream",
     "text": [
      "Results\n",
      "[('objProps', '226')]\n"
     ]
    },
    {
     "data": {
      "text/plain": [
       "1"
      ]
     },
     "execution_count": 4,
     "metadata": {},
     "output_type": "execute_result"
    }
   ],
   "source": [
    "queryString = \"\"\"\n",
    "SELECT COUNT(DISTINCT ?p) AS ?objProps\n",
    "WHERE { \n",
    "\n",
    "\n",
    "?t wdt:P31/wdt:P279* wd:Q167270.\n",
    "?s ?p ?t.\n",
    "\n",
    "} \n",
    "\"\"\"\n",
    "\n",
    "print(\"Results\")\n",
    "run_query(queryString)"
   ]
  },
  {
   "cell_type": "markdown",
   "id": "cc333836-ebd2-4424-a908-9bee6e96f85a",
   "metadata": {},
   "source": [
    "Since subject properties are a lot I try to look for the properties where the object is a trademark. It is also reasonable that the connection between companies or people and trademarks have companies as subjects. I now list all these properties, limiting the results since I assume most trademarks have a property that links them to a company or person."
   ]
  },
  {
   "cell_type": "code",
   "execution_count": 5,
   "id": "60963e19-c76d-4736-acbd-f2f5fac9d95e",
   "metadata": {},
   "outputs": [
    {
     "name": "stdout",
     "output_type": "stream",
     "text": [
      "Results\n",
      "[('p', 'http://www.wikidata.org/prop/direct/P264'), ('pname', 'record label'), ('trademarks', '7994')]\n",
      "[('p', 'http://www.wikidata.org/prop/direct/P1889'), ('pname', 'different from'), ('trademarks', '1491')]\n",
      "[('p', 'http://www.wikidata.org/prop/direct/P971'), ('pname', 'category combines topics'), ('trademarks', '1403')]\n",
      "[('p', 'http://www.wikidata.org/prop/direct/P355'), ('pname', 'subsidiary'), ('trademarks', '1396')]\n",
      "[('p', 'http://www.wikidata.org/prop/direct/P1830'), ('pname', 'owner of'), ('trademarks', '1033')]\n",
      "[('p', 'http://www.wikidata.org/prop/direct/P361'), ('pname', 'part of'), ('trademarks', '1002')]\n",
      "[('p', 'http://www.wikidata.org/prop/direct/P301'), ('pname', \"category's main topic\"), ('trademarks', '982')]\n",
      "[('p', 'http://www.wikidata.org/prop/direct/P108'), ('pname', 'employer'), ('trademarks', '599')]\n",
      "[('p', 'http://www.wikidata.org/prop/direct/P199'), ('pname', 'business division'), ('trademarks', '537')]\n",
      "[('p', 'http://www.wikidata.org/prop/direct/P749'), ('pname', 'parent organization'), ('trademarks', '529')]\n",
      "[('p', 'http://www.wikidata.org/prop/direct/P123'), ('pname', 'publisher'), ('trademarks', '520')]\n",
      "[('p', 'http://www.wikidata.org/prop/direct/P127'), ('pname', 'owned by'), ('trademarks', '507')]\n",
      "[('p', 'http://www.wikidata.org/prop/direct/P1716'), ('pname', 'brand'), ('trademarks', '507')]\n",
      "[('p', 'http://www.wikidata.org/prop/direct/P176'), ('pname', 'manufacturer'), ('trademarks', '495')]\n",
      "[('p', 'http://www.wikidata.org/prop/direct/P750'), ('pname', 'distributed by'), ('trademarks', '375')]\n",
      "[('p', 'http://www.wikidata.org/prop/direct/P137'), ('pname', 'operator'), ('trademarks', '325')]\n",
      "[('p', 'http://www.wikidata.org/prop/direct/P1056'), ('pname', 'product or material produced'), ('trademarks', '285')]\n",
      "[('p', 'http://www.wikidata.org/prop/direct/P272'), ('pname', 'production company'), ('trademarks', '203')]\n",
      "[('p', 'http://www.wikidata.org/prop/direct/P138'), ('pname', 'named after'), ('trademarks', '183')]\n",
      "[('p', 'http://www.wikidata.org/prop/direct/P859'), ('pname', 'sponsor'), ('trademarks', '163')]\n",
      "[('p', 'http://www.wikidata.org/prop/direct/P921'), ('pname', 'main subject'), ('trademarks', '158')]\n",
      "[('p', 'http://www.wikidata.org/prop/direct/P156'), ('pname', 'followed by'), ('trademarks', '134')]\n",
      "[('p', 'http://www.wikidata.org/prop/direct/P466'), ('pname', 'occupant'), ('trademarks', '134')]\n",
      "[('p', 'http://www.wikidata.org/prop/direct/P1875'), ('pname', 'represented by'), ('trademarks', '132')]\n",
      "[('p', 'http://www.wikidata.org/prop/direct/P155'), ('pname', 'follows'), ('trademarks', '126')]\n"
     ]
    },
    {
     "data": {
      "text/plain": [
       "25"
      ]
     },
     "execution_count": 5,
     "metadata": {},
     "output_type": "execute_result"
    }
   ],
   "source": [
    "queryString = \"\"\"\n",
    "SELECT DISTINCT ?p ?pname COUNT(DISTINCT ?t) AS ?trademarks\n",
    "WHERE { \n",
    "\n",
    "\n",
    "?t wdt:P31/wdt:P279* wd:Q167270.\n",
    "\n",
    "?s ?p ?t.\n",
    "\n",
    "?p <http://schema.org/name> ?pname.\n",
    "\n",
    "} \n",
    "ORDER BY DESC(?trademarks)\n",
    "LIMIT 25\n",
    "\"\"\"\n",
    "\n",
    "print(\"Results\")\n",
    "run_query(queryString)"
   ]
  },
  {
   "cell_type": "markdown",
   "id": "75922c29-98b0-4a86-9b86-07de70d9f698",
   "metadata": {},
   "source": [
    "Interesting properties retrieved:\n",
    "\n",
    "| IRI           | Description   | Role      |\n",
    "| -----------   | -----------   |-----------|\n",
    "| `wdt:P1716`    | brand    | predicate | \n",
    "| `wdt:P1830`    | owner of    | predicate | \n",
    "\n",
    "I recall there are 25105 trademarks in the database however these properties are present for at most 1000 trademarks therefore I think there are some other properties in the other direction that identify the required connection.\n",
    "\n",
    "Before moving on to the other direction I check the retrieved properties to see if they are of any use. Firstly I retrieve some triples with the property \"owner of\" (wdt:P1830) to see what kind of information it containts."
   ]
  },
  {
   "cell_type": "code",
   "execution_count": 2,
   "id": "81f6a468-a090-4947-a95c-276b05e48d1f",
   "metadata": {},
   "outputs": [
    {
     "name": "stdout",
     "output_type": "stream",
     "text": [
      "Results\n",
      "[('s', 'http://www.wikidata.org/entity/Q720479'), ('sname', 'Asahi Breweries'), ('t', 'http://www.wikidata.org/entity/Q153075'), ('trademark', 'Grolsch Brewery')]\n",
      "[('s', 'http://www.wikidata.org/entity/Q255363'), ('sname', 'Starship Entertainment'), ('t', 'http://www.wikidata.org/entity/Q12620832'), ('trademark', 'King Kong Entertainment')]\n",
      "[('s', 'http://www.wikidata.org/entity/Q484449'), ('sname', 'Cube Entertainment'), ('t', 'http://www.wikidata.org/entity/Q21554828'), ('trademark', 'Play M Entertainment')]\n",
      "[('s', 'http://www.wikidata.org/entity/Q625975'), ('sname', 'Kakao M'), ('t', 'http://www.wikidata.org/entity/Q21554828'), ('trademark', 'Play M Entertainment')]\n",
      "[('s', 'http://www.wikidata.org/entity/Q625975'), ('sname', 'Kakao M'), ('t', 'http://www.wikidata.org/entity/Q67200500'), ('trademark', 'Cre.Ker Entertainment')]\n",
      "[('s', 'http://www.wikidata.org/entity/Q95989661'), ('sname', 'Vesa Equity Investment'), ('t', 'http://www.wikidata.org/entity/Q63335'), ('trademark', 'Foot Locker')]\n",
      "[('s', 'http://www.wikidata.org/entity/Q1359568'), ('sname', 'Alibaba Group'), ('t', 'http://www.wikidata.org/entity/Q8007810'), ('trademark', 'Huayi Brothers')]\n",
      "[('s', 'http://www.wikidata.org/entity/Q180855'), ('sname', 'Heineken'), ('t', 'http://www.wikidata.org/entity/Q478119'), ('trademark', 'Amstel Brewery')]\n",
      "[('s', 'http://www.wikidata.org/entity/Q180855'), ('sname', 'Heineken'), ('t', 'http://www.wikidata.org/entity/Q854383'), ('trademark', 'Heineken')]\n",
      "[('s', 'http://www.wikidata.org/entity/Q180855'), ('sname', 'Heineken'), ('t', 'http://www.wikidata.org/entity/Q1142160'), ('trademark', 'Cruzcampo')]\n",
      "[('s', 'http://www.wikidata.org/entity/Q180855'), ('sname', 'Heineken'), ('t', 'http://www.wikidata.org/entity/Q263980'), ('trademark', 'Soproni')]\n",
      "[('s', 'http://www.wikidata.org/entity/Q482734'), ('sname', 'Cho PD'), ('t', 'http://www.wikidata.org/entity/Q618913'), ('trademark', 'Stardom Entertainment')]\n",
      "[('s', 'http://www.wikidata.org/entity/Q128738'), ('sname', 'Anheuser-Busch InBev'), ('t', 'http://www.wikidata.org/entity/Q1341618'), ('trademark', 'Leffe')]\n",
      "[('s', 'http://www.wikidata.org/entity/Q76039'), ('sname', \"Hudson's Bay Company\"), ('t', 'http://www.wikidata.org/entity/Q2749082'), ('trademark', 'Lord & Taylor')]\n",
      "[('s', 'http://www.wikidata.org/entity/Q725940'), ('sname', 'Sumner Redstone'), ('t', 'http://www.wikidata.org/entity/Q1808542'), ('trademark', 'National Amusements')]\n",
      "[('s', 'http://www.wikidata.org/entity/Q191715'), ('sname', 'WarnerMedia'), ('t', 'http://www.wikidata.org/entity/Q371400'), ('trademark', 'Turner Entertainment')]\n",
      "[('s', 'http://www.wikidata.org/entity/Q790686'), ('sname', 'Avex Group'), ('t', 'http://www.wikidata.org/entity/Q11289633'), ('trademark', 'Avex Management')]\n",
      "[('s', 'http://www.wikidata.org/entity/Q113215'), ('sname', 'Carlsberg Group'), ('t', 'http://www.wikidata.org/entity/Q5431739'), ('trademark', 'Falcon Brewery')]\n",
      "[('s', 'http://www.wikidata.org/entity/Q395389'), ('sname', 'Agora S.A.'), ('t', 'http://www.wikidata.org/entity/Q5705879'), ('trademark', 'Helios')]\n",
      "[('s', 'http://www.wikidata.org/entity/Q703248'), ('sname', 'Sanlih E-Television'), ('t', 'http://www.wikidata.org/entity/Q24841139'), ('trademark', 'SET TALENTS')]\n",
      "[('s', 'http://www.wikidata.org/entity/Q483283'), ('sname', 'J.Y. Park'), ('t', 'http://www.wikidata.org/entity/Q483238'), ('trademark', 'JYP Entertainment')]\n",
      "[('s', 'http://www.wikidata.org/entity/Q826526'), ('sname', 'Loews Corporation'), ('t', 'http://www.wikidata.org/entity/Q738883'), ('trademark', 'Loews Cineplex Entertainment')]\n",
      "[('s', 'http://www.wikidata.org/entity/Q569417'), ('sname', 'Anschutz Entertainment Group'), ('t', 'http://www.wikidata.org/entity/Q835638'), ('trademark', 'Regal Cinemas')]\n",
      "[('s', 'http://www.wikidata.org/entity/Q361208'), ('sname', 'Adolph Zukor'), ('t', 'http://www.wikidata.org/entity/Q16341017'), ('trademark', 'Famous Players')]\n",
      "[('s', 'http://www.wikidata.org/entity/Q19667127'), ('sname', 'Isaac Magnin'), ('t', 'http://www.wikidata.org/entity/Q5968044'), ('trademark', 'I. Magnin')]\n"
     ]
    },
    {
     "data": {
      "text/plain": [
       "25"
      ]
     },
     "execution_count": 2,
     "metadata": {},
     "output_type": "execute_result"
    }
   ],
   "source": [
    "queryString = \"\"\"\n",
    "SELECT DISTINCT ?s ?sname ?t ?trademark\n",
    "WHERE { \n",
    "\n",
    "\n",
    "?t wdt:P31/wdt:P279* wd:Q167270.\n",
    "\n",
    "?s wdt:P1830 ?t.\n",
    "\n",
    "?s <http://schema.org/name> ?sname.\n",
    "?t <http://schema.org/name> ?trademark.\n",
    "\n",
    "} \n",
    "LIMIT 25\n",
    "\"\"\"\n",
    "\n",
    "print(\"Results\")\n",
    "run_query(queryString)"
   ]
  },
  {
   "cell_type": "markdown",
   "id": "4d1dcaf6-1749-4f49-92f4-f69d6d07f04e",
   "metadata": {},
   "source": [
    "From this first query it looks like \"owner of\" (wdt:P1830) contains information about which companies or people own a trademark. I recall there are 25105 trademarks in the database but such property is present only for 1033 of them therefore there must be other properties containing such information. \n",
    "\n",
    "I now look for some triples with the property \"brand\" (wdt:P1716)."
   ]
  },
  {
   "cell_type": "code",
   "execution_count": 6,
   "id": "8d14479e-769a-45e0-98ff-144de816ac62",
   "metadata": {},
   "outputs": [
    {
     "name": "stdout",
     "output_type": "stream",
     "text": [
      "Results\n",
      "[('s', 'http://www.wikidata.org/entity/Q28807997'), ('sname', 'Procter & Gamble - Rakona'), ('t', 'http://www.wikidata.org/entity/Q503592'), ('trademark', 'Gillette')]\n",
      "[('s', 'http://www.wikidata.org/entity/Q15849235'), ('sname', 'Steyr 540'), ('t', 'http://www.wikidata.org/entity/Q98636365'), ('trademark', 'Steyr')]\n",
      "[('s', 'http://www.wikidata.org/entity/Q15849239'), ('sname', 'Steyr 658'), ('t', 'http://www.wikidata.org/entity/Q98636365'), ('trademark', 'Steyr')]\n",
      "[('s', 'http://www.wikidata.org/entity/Q117749'), ('sname', 'Hepatitis B vaccine'), ('t', 'http://www.wikidata.org/entity/Q17066597'), ('trademark', 'Twinrix')]\n",
      "[('s', 'http://www.wikidata.org/entity/Q3553093'), ('sname', 'hepatitis A vaccine'), ('t', 'http://www.wikidata.org/entity/Q17066597'), ('trademark', 'Twinrix')]\n",
      "[('s', 'http://www.wikidata.org/entity/Q18124882'), ('sname', 'Ford 3000'), ('t', 'http://www.wikidata.org/entity/Q98579722'), ('trademark', 'Ford')]\n",
      "[('s', 'http://www.wikidata.org/entity/Q30097763'), ('sname', 'The Westminster London, Curio Collection by Hilton'), ('t', 'http://www.wikidata.org/entity/Q19903229'), ('trademark', 'Curio Collection by Hilton')]\n",
      "[('s', 'http://www.wikidata.org/entity/Q30647025'), ('sname', 'Techrules Ren'), ('t', 'http://www.wikidata.org/entity/Q63197612'), ('trademark', 'Techrules')]\n",
      "[('s', 'http://www.wikidata.org/entity/Q50413855'), ('sname', 'Techrules TREV'), ('t', 'http://www.wikidata.org/entity/Q63197612'), ('trademark', 'Techrules')]\n",
      "[('s', 'http://www.wikidata.org/entity/Q2101436'), ('sname', 'Ford C1 platform'), ('t', 'http://www.wikidata.org/entity/Q20827633'), ('trademark', 'Ford')]\n",
      "[('s', 'http://www.wikidata.org/entity/Q491065'), ('sname', 'Thames Trader'), ('t', 'http://www.wikidata.org/entity/Q20827633'), ('trademark', 'Ford')]\n",
      "[('s', 'http://www.wikidata.org/entity/Q5467765'), ('sname', 'Ford FG Falcon'), ('t', 'http://www.wikidata.org/entity/Q20827633'), ('trademark', 'Ford')]\n",
      "[('s', 'http://www.wikidata.org/entity/Q19481222'), ('sname', 'Ford Fiesta Mk1'), ('t', 'http://www.wikidata.org/entity/Q20827633'), ('trademark', 'Ford')]\n",
      "[('s', 'http://www.wikidata.org/entity/Q19481225'), ('sname', 'Ford Fiesta Mk2'), ('t', 'http://www.wikidata.org/entity/Q20827633'), ('trademark', 'Ford')]\n",
      "[('s', 'http://www.wikidata.org/entity/Q511677'), ('sname', 'Ford Nucleon'), ('t', 'http://www.wikidata.org/entity/Q20827633'), ('trademark', 'Ford')]\n",
      "[('s', 'http://www.wikidata.org/entity/Q5467750'), ('sname', 'Ford F-650'), ('t', 'http://www.wikidata.org/entity/Q20827633'), ('trademark', 'Ford')]\n",
      "[('s', 'http://www.wikidata.org/entity/Q3267790'), ('sname', 'Ford Super Duty'), ('t', 'http://www.wikidata.org/entity/Q20827633'), ('trademark', 'Ford')]\n",
      "[('s', 'http://www.wikidata.org/entity/Q4038893'), ('sname', 'Ford Del Rio'), ('t', 'http://www.wikidata.org/entity/Q20827633'), ('trademark', 'Ford')]\n",
      "[('s', 'http://www.wikidata.org/entity/Q4038904'), ('sname', 'Ford Rheinland'), ('t', 'http://www.wikidata.org/entity/Q20827633'), ('trademark', 'Ford')]\n",
      "[('s', 'http://www.wikidata.org/entity/Q5467899'), ('sname', 'Ford Parklane'), ('t', 'http://www.wikidata.org/entity/Q20827633'), ('trademark', 'Ford')]\n",
      "[('s', 'http://www.wikidata.org/entity/Q5467877'), ('sname', 'Ford Mustang SVT Cobra'), ('t', 'http://www.wikidata.org/entity/Q20827633'), ('trademark', 'Ford')]\n",
      "[('s', 'http://www.wikidata.org/entity/Q2128310'), ('sname', 'Ford Escort RS Cosworth'), ('t', 'http://www.wikidata.org/entity/Q20827633'), ('trademark', 'Ford')]\n",
      "[('s', 'http://www.wikidata.org/entity/Q3077075'), ('sname', 'Ford Everest'), ('t', 'http://www.wikidata.org/entity/Q20827633'), ('trademark', 'Ford')]\n",
      "[('s', 'http://www.wikidata.org/entity/Q1436823'), ('sname', 'Ford Skyliner'), ('t', 'http://www.wikidata.org/entity/Q20827633'), ('trademark', 'Ford')]\n",
      "[('s', 'http://www.wikidata.org/entity/Q5467640'), ('sname', 'Ford ATX transmission'), ('t', 'http://www.wikidata.org/entity/Q20827633'), ('trademark', 'Ford')]\n"
     ]
    },
    {
     "data": {
      "text/plain": [
       "25"
      ]
     },
     "execution_count": 6,
     "metadata": {},
     "output_type": "execute_result"
    }
   ],
   "source": [
    "queryString = \"\"\"\n",
    "SELECT DISTINCT ?s ?sname ?t ?trademark\n",
    "WHERE { \n",
    "\n",
    "\n",
    "?t wdt:P31/wdt:P279* wd:Q167270.\n",
    "\n",
    "?s wdt:P1716 ?t.\n",
    "\n",
    "?s <http://schema.org/name> ?sname.\n",
    "?t <http://schema.org/name> ?trademark.\n",
    "\n",
    "} \n",
    "LIMIT 25\n",
    "\"\"\"\n",
    "\n",
    "print(\"Results\")\n",
    "run_query(queryString)"
   ]
  },
  {
   "cell_type": "markdown",
   "id": "2e0a2476-bcd5-415b-9a21-e29831591bc1",
   "metadata": {},
   "source": [
    "Such property connects products to its brand (that usually is a trademark) therefore it gives no information about the companies or people related to it. \n",
    "\n",
    "Now I can look for properties in the other direction (i.e., where trademark is a subject). As I saw before there are 1197 such properties however I can return them based on the number of subjects that have the specific property. Since I am looking for a property that connect each trademark to its company or person it is reasonable to think that such property would have lots of subjects connected through it."
   ]
  },
  {
   "cell_type": "code",
   "execution_count": 7,
   "id": "bccab952-89a6-4a8c-8d62-3ac9fa3c88ff",
   "metadata": {},
   "outputs": [
    {
     "name": "stdout",
     "output_type": "stream",
     "text": [
      "Results\n",
      "[('p', 'http://www.wikidata.org/prop/direct/P31'), ('pname', 'instance of'), ('trademarks', '25105')]\n",
      "[('p', 'http://www.wikidata.org/prop/direct/P17'), ('pname', 'country'), ('trademarks', '14653')]\n",
      "[('p', 'http://www.wikidata.org/prop/direct/P571'), ('pname', 'inception'), ('trademarks', '12965')]\n",
      "[('p', 'http://www.wikidata.org/prop/direct/P856'), ('pname', 'official website'), ('trademarks', '11010')]\n",
      "[('p', 'http://www.wikidata.org/prop/direct/P646'), ('pname', 'Freebase ID'), ('trademarks', '10601')]\n",
      "[('p', 'http://www.wikidata.org/prop/direct/P2671'), ('pname', 'Google Knowledge Graph ID'), ('trademarks', '6844')]\n",
      "[('p', 'http://www.wikidata.org/prop/direct/P159'), ('pname', 'headquarters location'), ('trademarks', '6650')]\n",
      "[('p', 'http://www.wikidata.org/prop/direct/P966'), ('pname', 'MusicBrainz label ID'), ('trademarks', '5972')]\n",
      "[('p', 'http://www.wikidata.org/prop/direct/P2013'), ('pname', 'Facebook ID'), ('trademarks', '3898')]\n",
      "[('p', 'http://www.wikidata.org/prop/direct/P2002'), ('pname', 'Twitter username'), ('trademarks', '3760')]\n",
      "[('p', 'http://www.wikidata.org/prop/direct/P1955'), ('pname', 'Discogs label ID'), ('trademarks', '3758')]\n",
      "[('p', 'http://www.wikidata.org/prop/direct/P452'), ('pname', 'industry'), ('trademarks', '3730')]\n",
      "[('p', 'http://www.wikidata.org/prop/direct/P373'), ('pname', 'Commons category'), ('trademarks', '3511')]\n",
      "[('p', 'http://www.wikidata.org/prop/direct/P18'), ('pname', 'image'), ('trademarks', '3100')]\n",
      "[('p', 'http://www.wikidata.org/prop/direct/P8687'), ('pname', 'social media followers'), ('trademarks', '2969')]\n",
      "[('p', 'http://www.wikidata.org/prop/direct/P2003'), ('pname', 'Instagram username'), ('trademarks', '2868')]\n",
      "[('p', 'http://www.wikidata.org/prop/direct/P154'), ('pname', 'logo image'), ('trademarks', '2748')]\n",
      "[('p', 'http://www.wikidata.org/prop/direct/P127'), ('pname', 'owned by'), ('trademarks', '2620')]\n",
      "[('p', 'http://www.wikidata.org/prop/direct/P112'), ('pname', 'founded by'), ('trademarks', '2531')]\n",
      "[('p', 'http://www.wikidata.org/prop/direct/P8253'), ('pname', 'OSM Name Suggestion Index identifier'), ('trademarks', '2226')]\n",
      "[('p', 'http://www.wikidata.org/prop/direct/P214'), ('pname', 'VIAF ID'), ('trademarks', '2072')]\n",
      "[('p', 'http://www.wikidata.org/prop/direct/P749'), ('pname', 'parent organization'), ('trademarks', '2018')]\n",
      "[('p', 'http://www.wikidata.org/prop/direct/P136'), ('pname', 'genre'), ('trademarks', '1951')]\n",
      "[('p', 'http://www.wikidata.org/prop/direct/P7859'), ('pname', 'WorldCat Identities ID'), ('trademarks', '1905')]\n",
      "[('p', 'http://www.wikidata.org/prop/direct/P1454'), ('pname', 'legal form'), ('trademarks', '1878')]\n"
     ]
    },
    {
     "data": {
      "text/plain": [
       "25"
      ]
     },
     "execution_count": 7,
     "metadata": {},
     "output_type": "execute_result"
    }
   ],
   "source": [
    "queryString = \"\"\"\n",
    "SELECT ?p ?pname COUNT(DISTINCT ?t) AS ?trademarks\n",
    "WHERE { \n",
    "\n",
    "\n",
    "?t wdt:P31/wdt:P279* wd:Q167270;\n",
    "    ?p ?o.\n",
    "\n",
    "?p <http://schema.org/name> ?pname.\n",
    "\n",
    "}\n",
    "GROUP BY ?p ?pname\n",
    "ORDER BY DESC(?trademarks)\n",
    "LIMIT 25\n",
    "\"\"\"\n",
    "\n",
    "print(\"Results\")\n",
    "run_query(queryString)"
   ]
  },
  {
   "cell_type": "markdown",
   "id": "e04b3dbe-a702-47a1-aa48-cb874bfbf0c6",
   "metadata": {},
   "source": [
    "By means of this query I retrieved some useful properties both for this task and for the next questions. Here I report the most interesting properties.\n",
    "\n",
    "| IRI           | Description   | Number of Trademarks   |\n",
    "| -----------   | -----------   |-----------|\n",
    "| `wdt:P127`   | owned by   | 2620 |\n",
    "| `wdt:P749`     | parent organization   | 2018 |\n",
    "| `wdt:P136`    | genre    | 1951 | \n",
    "| `wdt:P452`    | industry   | 3730 |\n",
    "| `wdt:P373`    | common category   | 3511 |\n",
    "| `wdt:P17`    | country    | 14653 | \n",
    "| `wdt:P571`    | inception   | 12965 | \n",
    "\n",
    "I now check some triples of the properties \"owned by\" (wdt:P127) and \"parent organization\" (wdt:P749) while I store the other properties for later usage."
   ]
  },
  {
   "cell_type": "code",
   "execution_count": 8,
   "id": "7d3a7927-a09b-4332-9db4-8d950abd5202",
   "metadata": {},
   "outputs": [
    {
     "name": "stdout",
     "output_type": "stream",
     "text": [
      "Results\n",
      "[('t', 'http://www.wikidata.org/entity/Q18161548'), ('trademark', 'Network NorthWest'), ('o', 'http://www.wikidata.org/entity/Q7309132'), ('owner', 'Regional Railways')]\n",
      "[('t', 'http://www.wikidata.org/entity/Q18161548'), ('trademark', 'Network NorthWest'), ('o', 'http://www.wikidata.org/entity/Q605169'), ('owner', 'British Rail')]\n",
      "[('t', 'http://www.wikidata.org/entity/Q2535134'), ('trademark', 'Vue Entertainment'), ('o', 'http://www.wikidata.org/entity/Q3347600'), ('owner', 'OMERS')]\n",
      "[('t', 'http://www.wikidata.org/entity/Q21554828'), ('trademark', 'Play M Entertainment'), ('o', 'http://www.wikidata.org/entity/Q484449'), ('owner', 'Cube Entertainment')]\n",
      "[('t', 'http://www.wikidata.org/entity/Q21554828'), ('trademark', 'Play M Entertainment'), ('o', 'http://www.wikidata.org/entity/Q625975'), ('owner', 'Kakao M')]\n",
      "[('t', 'http://www.wikidata.org/entity/Q484449'), ('trademark', 'Cube Entertainment'), ('o', 'http://www.wikidata.org/entity/Q7509507'), ('owner', 'SidusHQ')]\n",
      "[('t', 'http://www.wikidata.org/entity/Q625975'), ('trademark', 'Kakao M'), ('o', 'http://www.wikidata.org/entity/Q17684312'), ('owner', 'Kakao')]\n",
      "[('t', 'http://www.wikidata.org/entity/Q1761653'), ('trademark', 'Sogo'), ('o', 'http://www.wikidata.org/entity/Q7554556'), ('owner', 'Sogo & Seibu')]\n",
      "[('t', 'http://www.wikidata.org/entity/Q5450883'), ('trademark', 'Finnkino'), ('o', 'http://www.wikidata.org/entity/Q294721'), ('owner', 'AMC Theatres')]\n",
      "[('t', 'http://www.wikidata.org/entity/Q5450883'), ('trademark', 'Finnkino'), ('o', 'http://www.wikidata.org/entity/Q2678522'), ('owner', 'Bridgepoint Capital')]\n",
      "[('t', 'http://www.wikidata.org/entity/Q16341017'), ('trademark', 'Famous Players'), ('o', 'http://www.wikidata.org/entity/Q361208'), ('owner', 'Adolph Zukor')]\n",
      "[('t', 'http://www.wikidata.org/entity/Q63335'), ('trademark', 'Foot Locker'), ('o', 'http://www.wikidata.org/entity/Q17086107'), ('owner', 'Putnam Investments')]\n",
      "[('t', 'http://www.wikidata.org/entity/Q63335'), ('trademark', 'Foot Locker'), ('o', 'http://www.wikidata.org/entity/Q30637322'), ('owner', 'York Capital Management')]\n",
      "[('t', 'http://www.wikidata.org/entity/Q63335'), ('trademark', 'Foot Locker'), ('o', 'http://www.wikidata.org/entity/Q849363'), ('owner', 'The Vanguard Group')]\n",
      "[('t', 'http://www.wikidata.org/entity/Q63335'), ('trademark', 'Foot Locker'), ('o', 'http://www.wikidata.org/entity/Q95989661'), ('owner', 'Vesa Equity Investment')]\n",
      "[('t', 'http://www.wikidata.org/entity/Q63335'), ('trademark', 'Foot Locker'), ('o', 'http://www.wikidata.org/entity/Q95991081'), ('owner', 'Boston Partners')]\n",
      "[('t', 'http://www.wikidata.org/entity/Q63335'), ('trademark', 'Foot Locker'), ('o', 'http://www.wikidata.org/entity/Q95991255'), ('owner', 'Sasco Capital')]\n",
      "[('t', 'http://www.wikidata.org/entity/Q8007810'), ('trademark', 'Huayi Brothers'), ('o', 'http://www.wikidata.org/entity/Q1359568'), ('owner', 'Alibaba Group')]\n",
      "[('t', 'http://www.wikidata.org/entity/Q10854462'), ('trademark', 'CJ E&M'), ('o', 'http://www.wikidata.org/entity/Q483593'), ('owner', 'CJ Group')]\n",
      "[('t', 'http://www.wikidata.org/entity/Q16465976'), ('trademark', 'NH Media'), ('o', 'http://www.wikidata.org/entity/Q25245647'), ('owner', 'Signal Entertainment Group')]\n",
      "[('t', 'http://www.wikidata.org/entity/Q478119'), ('trademark', 'Amstel Brewery'), ('o', 'http://www.wikidata.org/entity/Q180855'), ('owner', 'Heineken')]\n",
      "[('t', 'http://www.wikidata.org/entity/Q618913'), ('trademark', 'Stardom Entertainment'), ('o', 'http://www.wikidata.org/entity/Q482734'), ('owner', 'Cho PD')]\n",
      "[('t', 'http://www.wikidata.org/entity/Q3459512'), ('trademark', 'Filmstaden AB'), ('o', 'http://www.wikidata.org/entity/Q294721'), ('owner', 'AMC Theatres')]\n",
      "[('t', 'http://www.wikidata.org/entity/Q294721'), ('trademark', 'AMC Theatres'), ('o', 'http://www.wikidata.org/entity/Q5210937'), ('owner', 'Wanda Group')]\n",
      "[('t', 'http://www.wikidata.org/entity/Q153075'), ('trademark', 'Grolsch Brewery'), ('o', 'http://www.wikidata.org/entity/Q720479'), ('owner', 'Asahi Breweries')]\n"
     ]
    },
    {
     "data": {
      "text/plain": [
       "25"
      ]
     },
     "execution_count": 8,
     "metadata": {},
     "output_type": "execute_result"
    }
   ],
   "source": [
    "queryString = \"\"\"\n",
    "SELECT DISTINCT ?t ?trademark ?o ?owner\n",
    "WHERE { \n",
    "\n",
    "\n",
    "?t wdt:P31/wdt:P279* wd:Q167270;\n",
    "    wdt:P127 ?o.\n",
    "\n",
    "?t <http://schema.org/name> ?trademark.\n",
    "?o <http://schema.org/name> ?owner.\n",
    "\n",
    "}\n",
    "LIMIT 25\n",
    "\"\"\"\n",
    "\n",
    "print(\"Results\")\n",
    "run_query(queryString)"
   ]
  },
  {
   "cell_type": "code",
   "execution_count": 9,
   "id": "c34a1f24-a6f6-4bac-9d4c-c87ec901bd22",
   "metadata": {},
   "outputs": [
    {
     "name": "stdout",
     "output_type": "stream",
     "text": [
      "Results\n",
      "[('t', 'http://www.wikidata.org/entity/Q18161548'), ('trademark', 'Network NorthWest'), ('o', 'http://www.wikidata.org/entity/Q605169'), ('owner', 'British Rail')]\n",
      "[('t', 'http://www.wikidata.org/entity/Q12581039'), ('trademark', 'FNC Entertainment'), ('o', 'http://www.wikidata.org/entity/Q10854462'), ('owner', 'CJ E&M')]\n",
      "[('t', 'http://www.wikidata.org/entity/Q255363'), ('trademark', 'Starship Entertainment'), ('o', 'http://www.wikidata.org/entity/Q625975'), ('owner', 'Kakao M')]\n",
      "[('t', 'http://www.wikidata.org/entity/Q2756503'), ('trademark', 'Gaumont-British Picture Corporation'), ('o', 'http://www.wikidata.org/entity/Q913462'), ('owner', 'Gaumont Film Company')]\n",
      "[('t', 'http://www.wikidata.org/entity/Q45282'), ('trademark', 'Pledis Entertainment'), ('o', 'http://www.wikidata.org/entity/Q16161254'), ('owner', 'Hybe Corporation')]\n",
      "[('t', 'http://www.wikidata.org/entity/Q491998'), ('trademark', 'TS Entertainment'), ('o', 'http://www.wikidata.org/entity/Q10854462'), ('owner', 'CJ E&M')]\n",
      "[('t', 'http://www.wikidata.org/entity/Q5450883'), ('trademark', 'Finnkino'), ('o', 'http://www.wikidata.org/entity/Q18244702'), ('owner', 'Nordic Cinema Group')]\n",
      "[('t', 'http://www.wikidata.org/entity/Q16341017'), ('trademark', 'Famous Players'), ('o', 'http://www.wikidata.org/entity/Q159846'), ('owner', 'Paramount Pictures')]\n",
      "[('t', 'http://www.wikidata.org/entity/Q28162718'), ('trademark', 'Scotiabank Theatre'), ('o', 'http://www.wikidata.org/entity/Q451476'), ('owner', 'Scotiabank')]\n",
      "[('t', 'http://www.wikidata.org/entity/Q28162718'), ('trademark', 'Scotiabank Theatre'), ('o', 'http://www.wikidata.org/entity/Q2972807'), ('owner', 'Cineplex Entertainment')]\n",
      "[('t', 'http://www.wikidata.org/entity/Q108232933'), ('trademark', 'House of Hoops'), ('o', 'http://www.wikidata.org/entity/Q63335'), ('owner', 'Foot Locker')]\n",
      "[('t', 'http://www.wikidata.org/entity/Q24866458'), ('trademark', 'THE BLACK LABEL'), ('o', 'http://www.wikidata.org/entity/Q50595'), ('owner', 'YG Entertainment')]\n",
      "[('t', 'http://www.wikidata.org/entity/Q71022064'), ('trademark', 'Footaction'), ('o', 'http://www.wikidata.org/entity/Q63335'), ('owner', 'Foot Locker')]\n",
      "[('t', 'http://www.wikidata.org/entity/Q1033465'), ('trademark', 'The Cannon Group'), ('o', 'http://www.wikidata.org/entity/Q179200'), ('owner', 'Metro-Goldwyn-Mayer')]\n",
      "[('t', 'http://www.wikidata.org/entity/Q429296'), ('trademark', 'MBK Entertainment'), ('o', 'http://www.wikidata.org/entity/Q10854462'), ('owner', 'CJ E&M')]\n",
      "[('t', 'http://www.wikidata.org/entity/Q10854462'), ('trademark', 'CJ E&M'), ('o', 'http://www.wikidata.org/entity/Q16165708'), ('owner', 'CJ Corporation')]\n",
      "[('t', 'http://www.wikidata.org/entity/Q478119'), ('trademark', 'Amstel Brewery'), ('o', 'http://www.wikidata.org/entity/Q180855'), ('owner', 'Heineken')]\n",
      "[('t', 'http://www.wikidata.org/entity/Q3459512'), ('trademark', 'Filmstaden AB'), ('o', 'http://www.wikidata.org/entity/Q18244702'), ('owner', 'Nordic Cinema Group')]\n",
      "[('t', 'http://www.wikidata.org/entity/Q2939652'), ('trademark', 'Carmike Cinemas'), ('o', 'http://www.wikidata.org/entity/Q294721'), ('owner', 'AMC Theatres')]\n",
      "[('t', 'http://www.wikidata.org/entity/Q294721'), ('trademark', 'AMC Theatres'), ('o', 'http://www.wikidata.org/entity/Q5210937'), ('owner', 'Wanda Group')]\n",
      "[('t', 'http://www.wikidata.org/entity/Q153075'), ('trademark', 'Grolsch Brewery'), ('o', 'http://www.wikidata.org/entity/Q4995'), ('owner', 'SABMiller')]\n",
      "[('t', 'http://www.wikidata.org/entity/Q60169475'), ('trademark', 'Tencent Penguin Pictures'), ('o', 'http://www.wikidata.org/entity/Q860580'), ('owner', 'Tencent')]\n",
      "[('t', 'http://www.wikidata.org/entity/Q1127835'), ('trademark', 'Constantin Film-Holding'), ('o', 'http://www.wikidata.org/entity/Q564960'), ('owner', 'Constantin Film')]\n",
      "[('t', 'http://www.wikidata.org/entity/Q5922976'), ('trademark', 'Hoyts'), ('o', 'http://www.wikidata.org/entity/Q5210937'), ('owner', 'Wanda Group')]\n",
      "[('t', 'http://www.wikidata.org/entity/Q738883'), ('trademark', 'Loews Cineplex Entertainment'), ('o', 'http://www.wikidata.org/entity/Q826526'), ('owner', 'Loews Corporation')]\n"
     ]
    },
    {
     "data": {
      "text/plain": [
       "25"
      ]
     },
     "execution_count": 9,
     "metadata": {},
     "output_type": "execute_result"
    }
   ],
   "source": [
    "queryString = \"\"\"\n",
    "SELECT DISTINCT ?t ?trademark ?o ?owner\n",
    "WHERE { \n",
    "\n",
    "\n",
    "?t wdt:P31/wdt:P279* wd:Q167270;\n",
    "    wdt:P749 ?o.\n",
    "\n",
    "?t <http://schema.org/name> ?trademark.\n",
    "?o <http://schema.org/name> ?owner.\n",
    "\n",
    "}\n",
    "LIMIT 25\n",
    "\"\"\"\n",
    "\n",
    "print(\"Results\")\n",
    "run_query(queryString)"
   ]
  },
  {
   "cell_type": "markdown",
   "id": "94f0aebf-d550-4078-a9ea-4d5ec0dda7bb",
   "metadata": {},
   "source": [
    "By means of these two queries I can assess both properties retrieve information about companies or people owning a trademark. Before moving on I check if there are some other properties that retrieve such information. In order to do that I check which properties connects \"Apple Inc.\" (wd:Q312) and its trademarks."
   ]
  },
  {
   "cell_type": "code",
   "execution_count": 10,
   "id": "47783163-4f96-4ee2-86ff-617773d1c58f",
   "metadata": {},
   "outputs": [
    {
     "name": "stdout",
     "output_type": "stream",
     "text": [
      "Results\n",
      "[('p', 'http://www.wikidata.org/prop/direct/P176'), ('pname', 'manufacturer'), ('trademarks', '6')]\n",
      "[('p', 'http://www.wikidata.org/prop/direct/P178'), ('pname', 'developer'), ('trademarks', '5')]\n",
      "[('p', 'http://www.wikidata.org/prop/direct/P127'), ('pname', 'owned by'), ('trademarks', '1')]\n",
      "[('p', 'http://www.wikidata.org/prop/direct/P137'), ('pname', 'operator'), ('trademarks', '1')]\n",
      "[('p', 'http://www.wikidata.org/prop/direct/P749'), ('pname', 'parent organization'), ('trademarks', '1')]\n"
     ]
    },
    {
     "data": {
      "text/plain": [
       "5"
      ]
     },
     "execution_count": 10,
     "metadata": {},
     "output_type": "execute_result"
    }
   ],
   "source": [
    "queryString = \"\"\"\n",
    "SELECT ?p ?pname COUNT(DISTINCT ?t) AS ?trademarks\n",
    "WHERE { \n",
    "\n",
    "\n",
    "?t wdt:P31/wdt:P279* wd:Q167270.\n",
    "?t ?p wd:Q312.\n",
    "\n",
    "?p <http://schema.org/name> ?pname.\n",
    "\n",
    "}\n",
    "ORDER BY DESC(?trademarks)\n",
    "\"\"\"\n",
    "\n",
    "print(\"Results\")\n",
    "run_query(queryString)"
   ]
  },
  {
   "cell_type": "markdown",
   "id": "f9361e74-dc46-435c-b55c-5e9dbcb4b4ef",
   "metadata": {},
   "source": [
    "I see that most trademarks are connected to Apple Inc. by means of the property \"developed\"(wdt:P178) and \"manufacturer\"(wdt:P176). I now check how many trademarks are connected with such properties."
   ]
  },
  {
   "cell_type": "code",
   "execution_count": 11,
   "id": "9c4cc069-a5cd-42f0-ad8c-d2ecd2d128ef",
   "metadata": {},
   "outputs": [
    {
     "name": "stdout",
     "output_type": "stream",
     "text": [
      "Results\n",
      "[('trademarks', '85')]\n"
     ]
    },
    {
     "data": {
      "text/plain": [
       "1"
      ]
     },
     "execution_count": 11,
     "metadata": {},
     "output_type": "execute_result"
    }
   ],
   "source": [
    "queryString = \"\"\"\n",
    "SELECT COUNT(DISTINCT ?t) AS ?trademarks\n",
    "WHERE { \n",
    "\n",
    "\n",
    "?t wdt:P31/wdt:P279* wd:Q167270.\n",
    "FILTER EXISTS{ ?t wdt:P178 ?d. }\n",
    "\n",
    "}\n",
    "\"\"\"\n",
    "\n",
    "print(\"Results\")\n",
    "run_query(queryString)"
   ]
  },
  {
   "cell_type": "code",
   "execution_count": 12,
   "id": "800ade61-c1a3-4aca-9be1-bbda69cc38e4",
   "metadata": {},
   "outputs": [
    {
     "name": "stdout",
     "output_type": "stream",
     "text": [
      "Results\n",
      "[('trademarks', '1554')]\n"
     ]
    },
    {
     "data": {
      "text/plain": [
       "1"
      ]
     },
     "execution_count": 12,
     "metadata": {},
     "output_type": "execute_result"
    }
   ],
   "source": [
    "queryString = \"\"\"\n",
    "SELECT COUNT(DISTINCT ?t) AS ?trademarks\n",
    "WHERE { \n",
    "\n",
    "\n",
    "?t wdt:P31/wdt:P279* wd:Q167270.\n",
    "FILTER EXISTS{ ?t wdt:P176 ?d. }\n",
    "\n",
    "}\n",
    "\"\"\"\n",
    "\n",
    "print(\"Results\")\n",
    "run_query(queryString)"
   ]
  },
  {
   "cell_type": "markdown",
   "id": "9e1170de-68a1-43dc-8a8a-79d38a3d289e",
   "metadata": {},
   "source": [
    "Since all properties connect some trademarks I try to use them all to assess which company or person own a trademark. I count how many trademarks I can connect to a company or person by means of these properties."
   ]
  },
  {
   "cell_type": "code",
   "execution_count": 13,
   "id": "3433562a-51d7-46ff-8105-fd7d061188b4",
   "metadata": {},
   "outputs": [
    {
     "name": "stdout",
     "output_type": "stream",
     "text": [
      "Results\n",
      "[('trademarks', '5525')]\n"
     ]
    },
    {
     "data": {
      "text/plain": [
       "1"
      ]
     },
     "execution_count": 13,
     "metadata": {},
     "output_type": "execute_result"
    }
   ],
   "source": [
    "queryString = \"\"\"\n",
    "SELECT COUNT(DISTINCT ?t) AS ?trademarks\n",
    "WHERE { \n",
    "\n",
    "\n",
    "?t wdt:P31/wdt:P279* wd:Q167270;\n",
    "    wdt:P127|wdt:P749|wdt:P178|wdt:P176 ?o.\n",
    "    \n",
    "\n",
    "\n",
    "}\n",
    "\"\"\"\n",
    "\n",
    "print(\"Results\")\n",
    "run_query(queryString)"
   ]
  },
  {
   "cell_type": "markdown",
   "id": "e685f73b-63c1-4395-beab-821ba3d256f2",
   "metadata": {},
   "source": [
    "I retrieved information about 5525 trademarks over 25105. In the end I check if trademarks identified with the property \"owner of\" (wdt:P1830) are already present in the result set above."
   ]
  },
  {
   "cell_type": "code",
   "execution_count": 14,
   "id": "e6d7fcc1-88fb-4198-a067-9c6a6465422f",
   "metadata": {},
   "outputs": [
    {
     "name": "stdout",
     "output_type": "stream",
     "text": [
      "Results\n",
      "[('trademarks', '42')]\n"
     ]
    },
    {
     "data": {
      "text/plain": [
       "1"
      ]
     },
     "execution_count": 14,
     "metadata": {},
     "output_type": "execute_result"
    }
   ],
   "source": [
    "queryString = \"\"\"\n",
    "SELECT COUNT(DISTINCT ?t) AS ?trademarks\n",
    "WHERE { \n",
    "\n",
    "{\n",
    "    ?t wdt:P31/wdt:P279* wd:Q167270.\n",
    "    ?s wdt:P1830 ?t.\n",
    "}\n",
    "MINUS{\n",
    "    ?t wdt:P31/wdt:P279* wd:Q167270;\n",
    "        wdt:P127|wdt:P749|wdt:P178|wdt:P176 ?o.\n",
    "}    \n",
    "\n",
    "}\n",
    "\"\"\"\n",
    "\n",
    "print(\"Results\")\n",
    "run_query(queryString)"
   ]
  },
  {
   "cell_type": "markdown",
   "id": "764e8a56-ccd1-46eb-9db8-d0289ef11de0",
   "metadata": {},
   "source": [
    "From this result I can assess the BGP to connect all trademarks with the company or person related to it is the following. "
   ]
  },
  {
   "cell_type": "code",
   "execution_count": 18,
   "id": "f2cefe76-0377-4f52-8692-ab151a7e6cff",
   "metadata": {},
   "outputs": [
    {
     "name": "stdout",
     "output_type": "stream",
     "text": [
      "Results\n",
      "[('trademarks', '5567')]\n"
     ]
    },
    {
     "data": {
      "text/plain": [
       "1"
      ]
     },
     "execution_count": 18,
     "metadata": {},
     "output_type": "execute_result"
    }
   ],
   "source": [
    "queryString = \"\"\"\n",
    "SELECT COUNT(DISTINCT ?t) AS ?trademarks\n",
    "WHERE { \n",
    "\n",
    "{\n",
    "    ?t wdt:P31/wdt:P279* wd:Q167270.\n",
    "    ?s wdt:P1830 ?t.\n",
    "}\n",
    "UNION{\n",
    "    ?t wdt:P31/wdt:P279* wd:Q167270;\n",
    "        wdt:P127|wdt:P749|wdt:P178|wdt:P176 ?o.\n",
    "}    \n",
    "\n",
    "}\n",
    "\"\"\"\n",
    "\n",
    "print(\"Results\")\n",
    "run_query(queryString)"
   ]
  },
  {
   "cell_type": "markdown",
   "id": "d858f9ec-e2ef-43ac-ba82-fac608dc1105",
   "metadata": {},
   "source": [
    "Since I saw that I do not loose much information I will use the following query later on to retrieve information about companies and trademarks."
   ]
  },
  {
   "cell_type": "code",
   "execution_count": 15,
   "id": "e19be6c0-25c4-4090-bc97-64709da4b456",
   "metadata": {},
   "outputs": [
    {
     "name": "stdout",
     "output_type": "stream",
     "text": [
      "Results\n",
      "[('trademarks', '5525')]\n"
     ]
    },
    {
     "data": {
      "text/plain": [
       "1"
      ]
     },
     "execution_count": 15,
     "metadata": {},
     "output_type": "execute_result"
    }
   ],
   "source": [
    "queryString = \"\"\"\n",
    "SELECT COUNT(DISTINCT ?t) AS ?trademarks\n",
    "WHERE { \n",
    "\n",
    "    ?t wdt:P31/wdt:P279* wd:Q167270;\n",
    "        wdt:P127|wdt:P749|wdt:P178|wdt:P176 ?o.  \n",
    "\n",
    "}\n",
    "\"\"\"\n",
    "\n",
    "print(\"Results\")\n",
    "run_query(queryString)"
   ]
  },
  {
   "cell_type": "markdown",
   "id": "be4562b8-e3f4-442f-9f28-dad962976b5f",
   "metadata": {
    "tags": []
   },
   "source": [
    "## Types or categories of a trademark\n",
    "This section contains the queries used to answer the second question: _Identify the BGP to retrieve types or categories for a given trademark_\n",
    "\n",
    "I recall I retrieve these properties in the previous section:\n",
    "\n",
    "| IRI           | Description   | Number of Trademarks   |\n",
    "| -----------   | -----------   |-----------|\n",
    "| `wdt:P136`    | genre    | 1951 | \n",
    "| `wdt:P452`    | industry   | 3730 |\n",
    "| `wdt:P373`    | commons category   | 3511 |\n",
    "\n",
    "Firstly, I check if all the properties retrieve the required information by returning the objects connected to a trademark by means of each property."
   ]
  },
  {
   "cell_type": "code",
   "execution_count": 16,
   "id": "bfc8d00d-b9f8-4480-a2d7-18877eaf8e36",
   "metadata": {},
   "outputs": [
    {
     "name": "stdout",
     "output_type": "stream",
     "text": [
      "Results\n",
      "[('g', 'http://www.wikidata.org/entity/Q8341'), ('genre', 'jazz'), ('trademarks', '791')]\n",
      "[('g', 'http://www.wikidata.org/entity/Q38848'), ('genre', 'heavy metal'), ('trademarks', '316')]\n",
      "[('g', 'http://www.wikidata.org/entity/Q11401'), ('genre', 'hip hop music'), ('trademarks', '196')]\n",
      "[('g', 'http://www.wikidata.org/entity/Q37073'), ('genre', 'pop music'), ('trademarks', '76')]\n",
      "[('g', 'http://www.wikidata.org/entity/Q11399'), ('genre', 'rock music'), ('trademarks', '72')]\n",
      "[('g', 'http://www.wikidata.org/entity/Q3071'), ('genre', 'punk rock'), ('trademarks', '72')]\n",
      "[('g', 'http://www.wikidata.org/entity/Q45981'), ('genre', 'rhythm and blues'), ('trademarks', '43')]\n",
      "[('g', 'http://www.wikidata.org/entity/Q9778'), ('genre', 'electronic music'), ('trademarks', '42')]\n",
      "[('g', 'http://www.wikidata.org/entity/Q9730'), ('genre', 'Western classical music'), ('trademarks', '41')]\n",
      "[('g', 'http://www.wikidata.org/entity/Q56284716'), ('genre', 'various genre'), ('trademarks', '38')]\n",
      "[('g', 'http://www.wikidata.org/entity/Q9759'), ('genre', 'blues'), ('trademarks', '37')]\n",
      "[('g', 'http://www.wikidata.org/entity/Q11366'), ('genre', 'alternative rock'), ('trademarks', '32')]\n",
      "[('g', 'http://www.wikidata.org/entity/Q183504'), ('genre', 'indie rock'), ('trademarks', '31')]\n",
      "[('g', 'http://www.wikidata.org/entity/Q180268'), ('genre', 'gospel music'), ('trademarks', '31')]\n",
      "[('g', 'http://www.wikidata.org/entity/Q10922'), ('genre', 'hardcore punk'), ('trademarks', '28')]\n",
      "[('g', 'http://www.wikidata.org/entity/Q205049'), ('genre', 'world music'), ('trademarks', '19')]\n",
      "[('g', 'http://www.wikidata.org/entity/Q6010'), ('genre', 'rap'), ('trademarks', '17')]\n",
      "[('g', 'http://www.wikidata.org/entity/Q1640319'), ('genre', 'experimental music'), ('trademarks', '17')]\n",
      "[('g', 'http://www.wikidata.org/entity/Q43343'), ('genre', 'folk music'), ('trademarks', '16')]\n",
      "[('g', 'http://www.wikidata.org/entity/Q49451'), ('genre', 'progressive rock'), ('trademarks', '16')]\n",
      "[('g', 'http://www.wikidata.org/entity/Q9794'), ('genre', 'reggae'), ('trademarks', '16')]\n",
      "[('g', 'http://www.wikidata.org/entity/Q83440'), ('genre', 'country music'), ('trademarks', '15')]\n",
      "[('g', 'http://www.wikidata.org/entity/Q1379958'), ('genre', 'contemporary Christian music'), ('trademarks', '15')]\n",
      "[('g', 'http://www.wikidata.org/entity/Q851213'), ('genre', 'electronic dance music'), ('trademarks', '15')]\n",
      "[('g', 'http://www.wikidata.org/entity/Q850412'), ('genre', 'contemporary R&B'), ('trademarks', '13')]\n"
     ]
    },
    {
     "data": {
      "text/plain": [
       "25"
      ]
     },
     "execution_count": 16,
     "metadata": {},
     "output_type": "execute_result"
    }
   ],
   "source": [
    "queryString = \"\"\"\n",
    "SELECT ?g ?genre COUNT(DISTINCT ?t) AS ?trademarks\n",
    "WHERE { \n",
    "\n",
    "    ?t wdt:P31/wdt:P279* wd:Q167270;\n",
    "        wdt:P136 ?g.\n",
    "    \n",
    "    ?g <http://schema.org/name> ?genre.\n",
    "\n",
    "}\n",
    "GROUP BY ?g ?genre\n",
    "ORDER BY DESC(?trademarks)\n",
    "LIMIT 25\n",
    "\"\"\"\n",
    "\n",
    "print(\"Results\")\n",
    "run_query(queryString)"
   ]
  },
  {
   "cell_type": "markdown",
   "id": "0f464fb7-005d-486b-841d-db555ccce1ca",
   "metadata": {},
   "source": [
    "Property \"genre\"(wdt:P136) is used for trademarks related to the music industry.\n",
    "\n",
    "I now check the \"industry\" property(wdt:P452)."
   ]
  },
  {
   "cell_type": "code",
   "execution_count": 17,
   "id": "5706a5d8-2fe2-4018-b4cc-32a351f1fd2a",
   "metadata": {},
   "outputs": [
    {
     "name": "stdout",
     "output_type": "stream",
     "text": [
      "Results\n",
      "[('i', 'http://www.wikidata.org/entity/Q126793'), ('industry', 'retail'), ('trademarks', '795')]\n",
      "[('i', 'http://www.wikidata.org/entity/Q190117'), ('industry', 'automotive industry'), ('trademarks', '504')]\n",
      "[('i', 'http://www.wikidata.org/entity/Q581105'), ('industry', 'consumer electronics'), ('trademarks', '227')]\n",
      "[('i', 'http://www.wikidata.org/entity/Q869095'), ('industry', 'brewing'), ('trademarks', '185')]\n",
      "[('i', 'http://www.wikidata.org/entity/Q746359'), ('industry', 'music industry'), ('trademarks', '184')]\n",
      "[('i', 'http://www.wikidata.org/entity/Q11707'), ('industry', 'restaurant'), ('trademarks', '174')]\n",
      "[('i', 'http://www.wikidata.org/entity/Q171141'), ('industry', 'gastronomy'), ('trademarks', '124')]\n",
      "[('i', 'http://www.wikidata.org/entity/Q11828862'), ('industry', 'clothing industry'), ('trademarks', '98')]\n",
      "[('i', 'http://www.wikidata.org/entity/Q540912'), ('industry', 'food industry'), ('trademarks', '82')]\n",
      "[('i', 'http://www.wikidata.org/entity/Q173799'), ('industry', 'entertainment'), ('trademarks', '81')]\n",
      "[('i', 'http://www.wikidata.org/entity/Q81799'), ('industry', 'fast food'), ('trademarks', '73')]\n",
      "[('i', 'http://www.wikidata.org/entity/Q638'), ('industry', 'music'), ('trademarks', '69')]\n",
      "[('i', 'http://www.wikidata.org/entity/Q941594'), ('industry', 'video game industry'), ('trademarks', '63')]\n",
      "[('i', 'http://www.wikidata.org/entity/Q107601756'), ('industry', 'food and tobacco industry'), ('trademarks', '54')]\n",
      "[('i', 'http://www.wikidata.org/entity/Q1495452'), ('industry', 'hospitality industry'), ('trademarks', '54')]\n",
      "[('i', 'http://www.wikidata.org/entity/Q10302058'), ('industry', 'phonographic industry'), ('trademarks', '42')]\n",
      "[('i', 'http://www.wikidata.org/entity/Q41958'), ('industry', 'foodservice'), ('trademarks', '42')]\n",
      "[('i', 'http://www.wikidata.org/entity/Q1295201'), ('industry', 'grocery store'), ('trademarks', '39')]\n",
      "[('i', 'http://www.wikidata.org/entity/Q12684'), ('industry', 'fashion'), ('trademarks', '35')]\n",
      "[('i', 'http://www.wikidata.org/entity/Q180846'), ('industry', 'supermarket'), ('trademarks', '33')]\n",
      "[('i', 'http://www.wikidata.org/entity/Q29585040'), ('industry', 'Manufacture of beer'), ('trademarks', '32')]\n",
      "[('i', 'http://www.wikidata.org/entity/Q15825471'), ('industry', 'Food retail sector'), ('trademarks', '28')]\n",
      "[('i', 'http://www.wikidata.org/entity/Q625568'), ('industry', 'show business'), ('trademarks', '26')]\n",
      "[('i', 'http://www.wikidata.org/entity/Q4899370'), ('industry', 'beverage industry'), ('trademarks', '26')]\n",
      "[('i', 'http://www.wikidata.org/entity/Q607081'), ('industry', 'textile industry'), ('trademarks', '25')]\n"
     ]
    },
    {
     "data": {
      "text/plain": [
       "25"
      ]
     },
     "execution_count": 17,
     "metadata": {},
     "output_type": "execute_result"
    }
   ],
   "source": [
    "queryString = \"\"\"\n",
    "SELECT ?i ?industry COUNT(DISTINCT ?t) AS ?trademarks\n",
    "WHERE { \n",
    "\n",
    "    ?t wdt:P31/wdt:P279* wd:Q167270;\n",
    "        wdt:P452 ?i.\n",
    "    \n",
    "    ?i <http://schema.org/name> ?industry.\n",
    "\n",
    "}\n",
    "GROUP BY ?i ?industry\n",
    "ORDER BY DESC(?trademarks)\n",
    "LIMIT 25\n",
    "\"\"\"\n",
    "\n",
    "print(\"Results\")\n",
    "run_query(queryString)"
   ]
  },
  {
   "cell_type": "markdown",
   "id": "a1a1bffc-5bf6-4e55-bb08-63817fcaffbc",
   "metadata": {},
   "source": [
    "Property \"industry\"(wdt:P452), as the name suggests, gives information about the industry each trademark belongs to."
   ]
  },
  {
   "cell_type": "code",
   "execution_count": 18,
   "id": "c695bcc6-89f6-4288-94cc-e292ef3e0a2a",
   "metadata": {},
   "outputs": [
    {
     "name": "stdout",
     "output_type": "stream",
     "text": [
      "Results\n",
      "[('cg', 'Organizations'), ('trademarks', '3')]\n",
      "[('cg', 'Bacardi Rum'), ('trademarks', '2')]\n",
      "[('cg', 'Cinema City'), ('trademarks', '2')]\n",
      "[('cg', \"Macy's\"), ('trademarks', '2')]\n",
      "[('cg', 'Avex Group'), ('trademarks', '2')]\n",
      "[('cg', 'Nesquik'), ('trademarks', '2')]\n",
      "[('cg', 'Radisson Hotels & Resorts'), ('trademarks', '2')]\n",
      "[('cg', 'Atlantic Records'), ('trademarks', '2')]\n",
      "[('cg', 'Albert Heijn'), ('trademarks', '2')]\n",
      "[('cg', 'Point vert'), ('trademarks', '2')]\n",
      "[('cg', 'Dr Pepper'), ('trademarks', '2')]\n",
      "[('cg', 'Petit beurre'), ('trademarks', '2')]\n",
      "[('cg', 'Shingen-mochi'), ('trademarks', '2')]\n",
      "[('cg', 'ASUS'), ('trademarks', '2')]\n",
      "[('cg', 'Kaiser-Kümmel'), ('trademarks', '1')]\n",
      "[('cg', 'Chocolad Para'), ('trademarks', '1')]\n",
      "[('cg', 'Calorie Mate'), ('trademarks', '1')]\n",
      "[('cg', 'Dobro-guitars'), ('trademarks', '1')]\n",
      "[('cg', 'Primark'), ('trademarks', '1')]\n",
      "[('cg', 'StrataFlash'), ('trademarks', '1')]\n",
      "[('cg', 'Pizza-La'), ('trademarks', '1')]\n",
      "[('cg', 'Tzomet Sfarim'), ('trademarks', '1')]\n",
      "[('cg', 'Cinematográfica Araújo'), ('trademarks', '1')]\n",
      "[('cg', 'RUTAR Group'), ('trademarks', '1')]\n",
      "[('cg', 'Cowin vehicles'), ('trademarks', '1')]\n"
     ]
    },
    {
     "data": {
      "text/plain": [
       "25"
      ]
     },
     "execution_count": 18,
     "metadata": {},
     "output_type": "execute_result"
    }
   ],
   "source": [
    "queryString = \"\"\"\n",
    "SELECT ?cg COUNT(DISTINCT ?t) AS ?trademarks\n",
    "WHERE { \n",
    "\n",
    "    ?t wdt:P31/wdt:P279* wd:Q167270;\n",
    "        wdt:P373 ?cg.\n",
    "\n",
    "}\n",
    "GROUP BY ?cg\n",
    "ORDER BY DESC(?trademarks)\n",
    "LIMIT 25\n",
    "\"\"\"\n",
    "\n",
    "print(\"Results\")\n",
    "run_query(queryString)"
   ]
  },
  {
   "cell_type": "markdown",
   "id": "d87b0fac-285f-4d4b-90c8-6e8235bb166e",
   "metadata": {},
   "source": [
    "\"Common Category\"(wdt:P373) contains no useful information for this task. \n",
    "\n",
    "I now check if trademarks with \"genre\" information are contained in some type of industry."
   ]
  },
  {
   "cell_type": "code",
   "execution_count": 19,
   "id": "77342e24-8156-4397-83d8-26571526448a",
   "metadata": {},
   "outputs": [
    {
     "name": "stdout",
     "output_type": "stream",
     "text": [
      "Results\n",
      "[('i', 'http://www.wikidata.org/entity/Q746359'), ('industry', 'music industry'), ('trademarks', '41')]\n",
      "[('i', 'http://www.wikidata.org/entity/Q10302058'), ('industry', 'phonographic industry'), ('trademarks', '10')]\n",
      "[('i', 'http://www.wikidata.org/entity/Q19595701'), ('industry', 'entertainment industry'), ('trademarks', '4')]\n",
      "[('i', 'http://www.wikidata.org/entity/Q638'), ('industry', 'music'), ('trademarks', '4')]\n",
      "[('i', 'http://www.wikidata.org/entity/Q625568'), ('industry', 'show business'), ('trademarks', '2')]\n",
      "[('i', 'http://www.wikidata.org/entity/Q173799'), ('industry', 'entertainment'), ('trademarks', '2')]\n",
      "[('i', 'http://www.wikidata.org/entity/Q39809'), ('industry', 'marketing'), ('trademarks', '1')]\n",
      "[('i', 'http://www.wikidata.org/entity/Q18127'), ('industry', 'record label'), ('trademarks', '1')]\n",
      "[('i', 'http://www.wikidata.org/entity/Q11650'), ('industry', 'electronics'), ('trademarks', '1')]\n",
      "[('i', 'http://www.wikidata.org/entity/Q38848'), ('industry', 'heavy metal'), ('trademarks', '1')]\n",
      "[('i', 'http://www.wikidata.org/entity/Q10689397'), ('industry', 'television production company'), ('trademarks', '1')]\n",
      "[('i', 'http://www.wikidata.org/entity/Q941594'), ('industry', 'video game industry'), ('trademarks', '1')]\n",
      "[('i', 'http://www.wikidata.org/entity/Q16023726'), ('industry', 'music publishing'), ('trademarks', '1')]\n",
      "[('i', 'http://www.wikidata.org/entity/Q837322'), ('industry', 'sex industry'), ('trademarks', '1')]\n"
     ]
    },
    {
     "data": {
      "text/plain": [
       "14"
      ]
     },
     "execution_count": 19,
     "metadata": {},
     "output_type": "execute_result"
    }
   ],
   "source": [
    "queryString = \"\"\"\n",
    "SELECT ?i ?industry COUNT(DISTINCT ?t) AS ?trademarks\n",
    "WHERE { \n",
    "\n",
    "    ?t wdt:P31/wdt:P279* wd:Q167270;\n",
    "        wdt:P452 ?i.\n",
    "    \n",
    "    ?i <http://schema.org/name> ?industry.\n",
    "        \n",
    "    FILTER EXISTS { ?t wdt:P136 ?g. }\n",
    "\n",
    "}\n",
    "GROUP BY ?i ?industry\n",
    "ORDER BY DESC(?trademarks)\n",
    "LIMIT 25\n",
    "\"\"\"\n",
    "\n",
    "print(\"Results\")\n",
    "run_query(queryString)"
   ]
  },
  {
   "cell_type": "markdown",
   "id": "56d1849f-ec1f-45be-b3cf-99ee0bf6d18b",
   "metadata": {},
   "source": [
    "I check if all trademarks that have a genre also have the \"industry\" property."
   ]
  },
  {
   "cell_type": "code",
   "execution_count": 20,
   "id": "5fd49fb0-315e-4cfd-b71f-21c872f16297",
   "metadata": {},
   "outputs": [
    {
     "name": "stdout",
     "output_type": "stream",
     "text": [
      "Results\n",
      "[('trademarks', '59')]\n"
     ]
    },
    {
     "data": {
      "text/plain": [
       "1"
      ]
     },
     "execution_count": 20,
     "metadata": {},
     "output_type": "execute_result"
    }
   ],
   "source": [
    "queryString = \"\"\"\n",
    "SELECT COUNT(DISTINCT ?t) AS ?trademarks\n",
    "WHERE { \n",
    "\n",
    "    ?t wdt:P31/wdt:P279* wd:Q167270;\n",
    "        wdt:P136 ?g;\n",
    "        wdt:P452 ?i.        \n",
    "        \n",
    "}\n",
    "\"\"\"\n",
    "\n",
    "print(\"Results\")\n",
    "run_query(queryString)"
   ]
  },
  {
   "cell_type": "markdown",
   "id": "0c4384e6-9d71-4f71-88a0-9eda195aa4d7",
   "metadata": {},
   "source": [
    "I check what are the genres of the trademarks where there is no property \"industry\"(wdt:P452)."
   ]
  },
  {
   "cell_type": "code",
   "execution_count": 21,
   "id": "d1809de6-1e21-4d4b-bb22-bc637f6087b5",
   "metadata": {},
   "outputs": [
    {
     "name": "stdout",
     "output_type": "stream",
     "text": [
      "Results\n",
      "[('g', 'http://www.wikidata.org/entity/Q8341'), ('genre', 'jazz'), ('trademarks', '783')]\n",
      "[('g', 'http://www.wikidata.org/entity/Q38848'), ('genre', 'heavy metal'), ('trademarks', '304')]\n",
      "[('g', 'http://www.wikidata.org/entity/Q11401'), ('genre', 'hip hop music'), ('trademarks', '188')]\n",
      "[('g', 'http://www.wikidata.org/entity/Q3071'), ('genre', 'punk rock'), ('trademarks', '71')]\n",
      "[('g', 'http://www.wikidata.org/entity/Q37073'), ('genre', 'pop music'), ('trademarks', '67')]\n",
      "[('g', 'http://www.wikidata.org/entity/Q11399'), ('genre', 'rock music'), ('trademarks', '66')]\n",
      "[('g', 'http://www.wikidata.org/entity/Q9778'), ('genre', 'electronic music'), ('trademarks', '40')]\n",
      "[('g', 'http://www.wikidata.org/entity/Q45981'), ('genre', 'rhythm and blues'), ('trademarks', '40')]\n",
      "[('g', 'http://www.wikidata.org/entity/Q9730'), ('genre', 'Western classical music'), ('trademarks', '39')]\n",
      "[('g', 'http://www.wikidata.org/entity/Q9759'), ('genre', 'blues'), ('trademarks', '37')]\n",
      "[('g', 'http://www.wikidata.org/entity/Q11366'), ('genre', 'alternative rock'), ('trademarks', '32')]\n",
      "[('g', 'http://www.wikidata.org/entity/Q183504'), ('genre', 'indie rock'), ('trademarks', '31')]\n",
      "[('g', 'http://www.wikidata.org/entity/Q180268'), ('genre', 'gospel music'), ('trademarks', '31')]\n",
      "[('g', 'http://www.wikidata.org/entity/Q56284716'), ('genre', 'various genre'), ('trademarks', '30')]\n",
      "[('g', 'http://www.wikidata.org/entity/Q10922'), ('genre', 'hardcore punk'), ('trademarks', '27')]\n",
      "[('g', 'http://www.wikidata.org/entity/Q205049'), ('genre', 'world music'), ('trademarks', '19')]\n",
      "[('g', 'http://www.wikidata.org/entity/Q1640319'), ('genre', 'experimental music'), ('trademarks', '17')]\n",
      "[('g', 'http://www.wikidata.org/entity/Q43343'), ('genre', 'folk music'), ('trademarks', '16')]\n",
      "[('g', 'http://www.wikidata.org/entity/Q49451'), ('genre', 'progressive rock'), ('trademarks', '16')]\n",
      "[('g', 'http://www.wikidata.org/entity/Q83440'), ('genre', 'country music'), ('trademarks', '15')]\n",
      "[('g', 'http://www.wikidata.org/entity/Q6010'), ('genre', 'rap'), ('trademarks', '15')]\n",
      "[('g', 'http://www.wikidata.org/entity/Q1379958'), ('genre', 'contemporary Christian music'), ('trademarks', '15')]\n",
      "[('g', 'http://www.wikidata.org/entity/Q9794'), ('genre', 'reggae'), ('trademarks', '15')]\n",
      "[('g', 'http://www.wikidata.org/entity/Q83270'), ('genre', 'hard rock'), ('trademarks', '12')]\n",
      "[('g', 'http://www.wikidata.org/entity/Q465978'), ('genre', 'extreme metal'), ('trademarks', '11')]\n"
     ]
    },
    {
     "data": {
      "text/plain": [
       "25"
      ]
     },
     "execution_count": 21,
     "metadata": {},
     "output_type": "execute_result"
    }
   ],
   "source": [
    "queryString = \"\"\"\n",
    "SELECT ?g ?genre COUNT(DISTINCT ?t) AS ?trademarks\n",
    "WHERE { \n",
    "\n",
    "    ?t wdt:P31/wdt:P279* wd:Q167270;\n",
    "        wdt:P136 ?g.\n",
    "        \n",
    "    ?g <http://schema.org/name> ?genre.   \n",
    "        \n",
    "    FILTER NOT EXISTS{ ?t wdt:P452 ?i. }\n",
    "        \n",
    "}\n",
    "GROUP BY ?g ?genre\n",
    "ORDER BY DESC(?trademarks)\n",
    "LIMIT 25\n",
    "\"\"\"\n",
    "\n",
    "print(\"Results\")\n",
    "run_query(queryString)"
   ]
  },
  {
   "cell_type": "markdown",
   "id": "51fe1e44-d617-4a87-b494-adfdc87c85df",
   "metadata": {},
   "source": [
    "From these results I can assess the BGP to retrieve the types of categories for a given trademark is the following."
   ]
  },
  {
   "cell_type": "code",
   "execution_count": 22,
   "id": "31b09f47-32e0-48bc-8239-9a84209200e3",
   "metadata": {},
   "outputs": [
    {
     "name": "stdout",
     "output_type": "stream",
     "text": [
      "Results\n",
      "[('t', 'http://www.wikidata.org/entity/Q16341017'), ('trademark', 'Famous Players'), ('c', 'http://www.wikidata.org/entity/Q20679540'), ('category', 'cinema chain')]\n",
      "[('t', 'http://www.wikidata.org/entity/Q1761653'), ('trademark', 'Sogo'), ('c', 'http://www.wikidata.org/entity/Q126793'), ('category', 'retail')]\n",
      "[('t', 'http://www.wikidata.org/entity/Q63335'), ('trademark', 'Foot Locker'), ('c', 'http://www.wikidata.org/entity/Q126793'), ('category', 'retail')]\n",
      "[('t', 'http://www.wikidata.org/entity/Q71022064'), ('trademark', 'Footaction'), ('c', 'http://www.wikidata.org/entity/Q126793'), ('category', 'retail')]\n",
      "[('t', 'http://www.wikidata.org/entity/Q7606770'), ('trademark', 'Stein Mart'), ('c', 'http://www.wikidata.org/entity/Q126793'), ('category', 'retail')]\n",
      "[('t', 'http://www.wikidata.org/entity/Q2749082'), ('trademark', 'Lord & Taylor'), ('c', 'http://www.wikidata.org/entity/Q126793'), ('category', 'retail')]\n",
      "[('t', 'http://www.wikidata.org/entity/Q3603767'), ('trademark', 'Abraham & Straus'), ('c', 'http://www.wikidata.org/entity/Q126793'), ('category', 'retail')]\n",
      "[('t', 'http://www.wikidata.org/entity/Q7137461'), ('trademark', 'Parisian'), ('c', 'http://www.wikidata.org/entity/Q126793'), ('category', 'retail')]\n",
      "[('t', 'http://www.wikidata.org/entity/Q5353924'), ('trademark', 'Elder-Beerman'), ('c', 'http://www.wikidata.org/entity/Q126793'), ('category', 'retail')]\n",
      "[('t', 'http://www.wikidata.org/entity/Q629269'), ('trademark', \"Macy's\"), ('c', 'http://www.wikidata.org/entity/Q126793'), ('category', 'retail')]\n",
      "[('t', 'http://www.wikidata.org/entity/Q1753080'), ('trademark', 'Kmart'), ('c', 'http://www.wikidata.org/entity/Q126793'), ('category', 'retail')]\n",
      "[('t', 'http://www.wikidata.org/entity/Q8033552'), ('trademark', 'Woodward & Lothrop'), ('c', 'http://www.wikidata.org/entity/Q126793'), ('category', 'retail')]\n",
      "[('t', 'http://www.wikidata.org/entity/Q5046892'), ('trademark', \"Carson's\"), ('c', 'http://www.wikidata.org/entity/Q126793'), ('category', 'retail')]\n",
      "[('t', 'http://www.wikidata.org/entity/Q5523138'), ('trademark', \"Garfinckel's\"), ('c', 'http://www.wikidata.org/entity/Q126793'), ('category', 'retail')]\n",
      "[('t', 'http://www.wikidata.org/entity/Q5690163'), ('trademark', \"Heal's\"), ('c', 'http://www.wikidata.org/entity/Q126793'), ('category', 'retail')]\n",
      "[('t', 'http://www.wikidata.org/entity/Q5968044'), ('trademark', 'I. Magnin'), ('c', 'http://www.wikidata.org/entity/Q126793'), ('category', 'retail')]\n",
      "[('t', 'http://www.wikidata.org/entity/Q484449'), ('trademark', 'Cube Entertainment'), ('c', 'http://www.wikidata.org/entity/Q19595701'), ('category', 'entertainment industry')]\n",
      "[('t', 'http://www.wikidata.org/entity/Q13424955'), ('trademark', 'Fantagio'), ('c', 'http://www.wikidata.org/entity/Q19595701'), ('category', 'entertainment industry')]\n",
      "[('t', 'http://www.wikidata.org/entity/Q50595'), ('trademark', 'YG Entertainment'), ('c', 'http://www.wikidata.org/entity/Q19595701'), ('category', 'entertainment industry')]\n",
      "[('t', 'http://www.wikidata.org/entity/Q5005884'), ('trademark', 'C-JeS Entertainment'), ('c', 'http://www.wikidata.org/entity/Q19595701'), ('category', 'entertainment industry')]\n",
      "[('t', 'http://www.wikidata.org/entity/Q24273186'), ('trademark', 'Coridel Entertainment'), ('c', 'http://www.wikidata.org/entity/Q19595701'), ('category', 'entertainment industry')]\n",
      "[('t', 'http://www.wikidata.org/entity/Q12580769'), ('trademark', 'SM Culture & Contents'), ('c', 'http://www.wikidata.org/entity/Q19595701'), ('category', 'entertainment industry')]\n",
      "[('t', 'http://www.wikidata.org/entity/Q872586'), ('trademark', 'Horipro'), ('c', 'http://www.wikidata.org/entity/Q55638'), ('category', 'tertiary sector of the economy')]\n",
      "[('t', 'http://www.wikidata.org/entity/Q1078203'), ('trademark', 'Stardust Promotion'), ('c', 'http://www.wikidata.org/entity/Q55638'), ('category', 'tertiary sector of the economy')]\n",
      "[('t', 'http://www.wikidata.org/entity/Q11291953'), ('trademark', 'Oscar Promotion'), ('c', 'http://www.wikidata.org/entity/Q55638'), ('category', 'tertiary sector of the economy')]\n"
     ]
    },
    {
     "data": {
      "text/plain": [
       "25"
      ]
     },
     "execution_count": 22,
     "metadata": {},
     "output_type": "execute_result"
    }
   ],
   "source": [
    "queryString = \"\"\"\n",
    "SELECT DISTINCT ?t ?trademark ?c ?category\n",
    "WHERE { \n",
    "\n",
    "    ?t wdt:P31/wdt:P279* wd:Q167270;\n",
    "        wdt:P452|wdt:P136 ?c.\n",
    "    \n",
    "    ?t <http://schema.org/name> ?trademark. \n",
    "    ?c <http://schema.org/name> ?category.   \n",
    "        \n",
    "}\n",
    "LIMIT 25\n",
    "\"\"\"\n",
    "\n",
    "print(\"Results\")\n",
    "run_query(queryString)"
   ]
  },
  {
   "cell_type": "markdown",
   "id": "279ffc84-e297-4658-a30e-1c6d465ae6db",
   "metadata": {
    "tags": []
   },
   "source": [
    "## Companies with the largest number of trademarks\n",
    "This section contains the queries used to answer the third question: _What companies have the largest number of trademarks?_ \n",
    "\n",
    "I recall I found the BGP to connect companies/people to their trademark in the first section therefore i can answer to the above question by means of the following query."
   ]
  },
  {
   "cell_type": "code",
   "execution_count": 23,
   "id": "cb4910d0-f20a-46ff-8118-d002218907b2",
   "metadata": {},
   "outputs": [
    {
     "name": "stdout",
     "output_type": "stream",
     "text": [
      "Results\n",
      "[('o', 'http://www.wikidata.org/entity/Q38903'), ('company', 'Universal Music Group'), ('trademarks', '125')]\n",
      "[('o', 'http://www.wikidata.org/entity/Q160746'), ('company', 'Nestlé'), ('trademarks', '84')]\n",
      "[('o', 'http://www.wikidata.org/entity/Q3295867'), ('company', 'The Coca-Cola Company'), ('trademarks', '75')]\n",
      "[('o', 'http://www.wikidata.org/entity/Q21077'), ('company', 'Warner Music Group'), ('trademarks', '75')]\n",
      "[('o', 'http://www.wikidata.org/entity/Q812142'), ('company', 'Covestro'), ('trademarks', '57')]\n",
      "[('o', 'http://www.wikidata.org/entity/Q334800'), ('company', 'PepsiCo'), ('trademarks', '51')]\n",
      "[('o', 'http://www.wikidata.org/entity/Q157062'), ('company', 'Unilever'), ('trademarks', '45')]\n",
      "[('o', 'http://www.wikidata.org/entity/Q12857502'), ('company', 'Mondelēz International'), ('trademarks', '42')]\n",
      "[('o', 'http://www.wikidata.org/entity/Q327751'), ('company', 'Kraft Foods Group'), ('trademarks', '40')]\n",
      "[('o', 'http://www.wikidata.org/entity/Q56760250'), ('company', 'Sony Music'), ('trademarks', '38')]\n",
      "[('o', 'http://www.wikidata.org/entity/Q6677525'), ('company', 'Cadbury'), ('trademarks', '37')]\n",
      "[('o', 'http://www.wikidata.org/entity/Q1056637'), ('company', 'The Hershey Company'), ('trademarks', '32')]\n",
      "[('o', 'http://www.wikidata.org/entity/Q212405'), ('company', 'Procter & Gamble'), ('trademarks', '32')]\n",
      "[('o', 'http://www.wikidata.org/entity/Q856897'), ('company', \"Kellogg's\"), ('trademarks', '31')]\n",
      "[('o', 'http://www.wikidata.org/entity/Q5244695'), ('company', 'De Proefbrouwerij'), ('trademarks', '28')]\n",
      "[('o', 'http://www.wikidata.org/entity/Q269792'), ('company', 'Ferrero SpA'), ('trademarks', '27')]\n",
      "[('o', 'http://www.wikidata.org/entity/Q19681433'), ('company', 'Kraft Heinz'), ('trademarks', '26')]\n",
      "[('o', 'http://www.wikidata.org/entity/Q183412'), ('company', 'EMI'), ('trademarks', '24')]\n",
      "[('o', 'http://www.wikidata.org/entity/Q695087'), ('company', 'Mars, Incorporated'), ('trademarks', '20')]\n",
      "[('o', 'http://www.wikidata.org/entity/Q248'), ('company', 'Intel'), ('trademarks', '20')]\n",
      "[('o', 'http://www.wikidata.org/entity/Q790686'), ('company', 'Avex Group'), ('trademarks', '18')]\n",
      "[('o', 'http://www.wikidata.org/entity/Q629998'), ('company', 'General Mills'), ('trademarks', '17')]\n",
      "[('o', 'http://www.wikidata.org/entity/Q3895'), ('company', 'Adidas'), ('trademarks', '17')]\n",
      "[('o', 'http://www.wikidata.org/entity/Q329426'), ('company', 'Danone'), ('trademarks', '17')]\n",
      "[('o', 'http://www.wikidata.org/entity/Q1221751'), ('company', 'Frito-Lay'), ('trademarks', '16')]\n"
     ]
    },
    {
     "data": {
      "text/plain": [
       "25"
      ]
     },
     "execution_count": 23,
     "metadata": {},
     "output_type": "execute_result"
    }
   ],
   "source": [
    "queryString = \"\"\"\n",
    "SELECT ?o ?company COUNT(DISTINCT ?t) AS ?trademarks\n",
    "WHERE { \n",
    "\n",
    "{\n",
    "    ?t wdt:P31/wdt:P279* wd:Q167270.\n",
    "    ?o wdt:P1830 ?t.\n",
    "    ?o <http://schema.org/name> ?company.\n",
    "}\n",
    "UNION{\n",
    "    ?t wdt:P31/wdt:P279* wd:Q167270;\n",
    "        wdt:P127|wdt:P749|wdt:P178|wdt:P176 ?o.\n",
    "        \n",
    "    ?o <http://schema.org/name> ?company.\n",
    "}    \n",
    "}\n",
    "GROUP BY ?o ?company\n",
    "ORDER BY DESC(?trademarks)\n",
    "LIMIT 25\n",
    "\"\"\"\n",
    "\n",
    "print(\"Results\")\n",
    "run_query(queryString)"
   ]
  },
  {
   "cell_type": "markdown",
   "id": "7c8c44de-54d8-41d9-a12c-8e6fa176e736",
   "metadata": {},
   "source": [
    "I expected to see these companies in the results since they are the most famous ones. \n",
    "\n",
    "I recall I found the property \"country\" (wdt:P17) in the first section therefore I can also see which is the country with most trademarks."
   ]
  },
  {
   "cell_type": "code",
   "execution_count": 24,
   "id": "4c25fd92-7012-475e-84ac-7db7bb8fe0e1",
   "metadata": {},
   "outputs": [
    {
     "name": "stdout",
     "output_type": "stream",
     "text": [
      "Results\n",
      "[('c', 'http://www.wikidata.org/entity/Q30'), ('country', 'United States of America'), ('trademarks', '4527')]\n",
      "[('c', 'http://www.wikidata.org/entity/Q145'), ('country', 'United Kingdom'), ('trademarks', '1470')]\n",
      "[('c', 'http://www.wikidata.org/entity/Q183'), ('country', 'Germany'), ('trademarks', '1297')]\n",
      "[('c', 'http://www.wikidata.org/entity/Q17'), ('country', 'Japan'), ('trademarks', '785')]\n",
      "[('c', 'http://www.wikidata.org/entity/Q38'), ('country', 'Italy'), ('trademarks', '639')]\n",
      "[('c', 'http://www.wikidata.org/entity/Q142'), ('country', 'France'), ('trademarks', '578')]\n",
      "[('c', 'http://www.wikidata.org/entity/Q155'), ('country', 'Brazil'), ('trademarks', '420')]\n",
      "[('c', 'http://www.wikidata.org/entity/Q16'), ('country', 'Canada'), ('trademarks', '392')]\n",
      "[('c', 'http://www.wikidata.org/entity/Q29'), ('country', 'Spain'), ('trademarks', '366')]\n",
      "[('c', 'http://www.wikidata.org/entity/Q55'), ('country', 'Netherlands'), ('trademarks', '345')]\n",
      "[('c', 'http://www.wikidata.org/entity/Q884'), ('country', 'South Korea'), ('trademarks', '319')]\n",
      "[('c', 'http://www.wikidata.org/entity/Q33'), ('country', 'Finland'), ('trademarks', '303')]\n",
      "[('c', 'http://www.wikidata.org/entity/Q408'), ('country', 'Australia'), ('trademarks', '272')]\n",
      "[('c', 'http://www.wikidata.org/entity/Q159'), ('country', 'Russia'), ('trademarks', '244')]\n",
      "[('c', 'http://www.wikidata.org/entity/Q20'), ('country', 'Norway'), ('trademarks', '229')]\n",
      "[('c', 'http://www.wikidata.org/entity/Q34'), ('country', 'Sweden'), ('trademarks', '222')]\n",
      "[('c', 'http://www.wikidata.org/entity/Q31'), ('country', 'Belgium'), ('trademarks', '178')]\n",
      "[('c', 'http://www.wikidata.org/entity/Q36'), ('country', 'Poland'), ('trademarks', '151')]\n",
      "[('c', 'http://www.wikidata.org/entity/Q35'), ('country', 'Denmark'), ('trademarks', '131')]\n",
      "[('c', 'http://www.wikidata.org/entity/Q43'), ('country', 'Turkey'), ('trademarks', '119')]\n",
      "[('c', 'http://www.wikidata.org/entity/Q40'), ('country', 'Austria'), ('trademarks', '97')]\n",
      "[('c', 'http://www.wikidata.org/entity/Q148'), ('country', \"People's Republic of China\"), ('trademarks', '83')]\n",
      "[('c', 'http://www.wikidata.org/entity/Q39'), ('country', 'Switzerland'), ('trademarks', '76')]\n",
      "[('c', 'http://www.wikidata.org/entity/Q213'), ('country', 'Czech Republic'), ('trademarks', '76')]\n",
      "[('c', 'http://www.wikidata.org/entity/Q28'), ('country', 'Hungary'), ('trademarks', '73')]\n"
     ]
    },
    {
     "data": {
      "text/plain": [
       "25"
      ]
     },
     "execution_count": 24,
     "metadata": {},
     "output_type": "execute_result"
    }
   ],
   "source": [
    "queryString = \"\"\"\n",
    "SELECT ?c ?country COUNT(DISTINCT ?t) AS ?trademarks\n",
    "WHERE { \n",
    "\n",
    "    ?t wdt:P31/wdt:P279* wd:Q167270;\n",
    "        wdt:P17 ?c.\n",
    "    ?c <http://schema.org/name> ?country.\n",
    "    \n",
    "}\n",
    "GROUP BY ?c ?country\n",
    "ORDER BY DESC(?trademarks)\n",
    "LIMIT 25\n",
    "\"\"\"\n",
    "\n",
    "print(\"Results\")\n",
    "run_query(queryString)"
   ]
  },
  {
   "cell_type": "markdown",
   "id": "17aa805c-739f-40dc-9459-e4bf6be167cc",
   "metadata": {},
   "source": [
    "As expected USA is the country with most trademarks however we can notice Italy(wd:Q38) is the fifth country with most trademarks therefore I can return the companies with most trademarks in Italy. I expect to see \"Ferrero SPA\" in the result set."
   ]
  },
  {
   "cell_type": "code",
   "execution_count": 25,
   "id": "043455fd-1414-40f2-bacf-a0a48db8d97e",
   "metadata": {},
   "outputs": [
    {
     "name": "stdout",
     "output_type": "stream",
     "text": [
      "Results\n",
      "[('o', 'http://www.wikidata.org/entity/Q105614713'), ('company', 'Pam Panorama'), ('trademarks', '4')]\n",
      "[('o', 'http://www.wikidata.org/entity/Q160746'), ('company', 'Nestlé'), ('trademarks', '3')]\n",
      "[('o', 'http://www.wikidata.org/entity/Q85355'), ('company', 'Arnoldo Mondadori Editore'), ('trademarks', '3')]\n",
      "[('o', 'http://www.wikidata.org/entity/Q21077'), ('company', 'Warner Music Group'), ('trademarks', '3')]\n",
      "[('o', 'http://www.wikidata.org/entity/Q3954771'), ('company', 'Selex'), ('trademarks', '3')]\n",
      "[('o', 'http://www.wikidata.org/entity/Q19616'), ('company', 'RAI'), ('trademarks', '2')]\n",
      "[('o', 'http://www.wikidata.org/entity/Q3747293'), ('company', 'Fonit Cetra'), ('trademarks', '2')]\n",
      "[('o', 'http://www.wikidata.org/entity/Q21190256'), ('company', 'Unes'), ('trademarks', '2')]\n",
      "[('o', 'http://www.wikidata.org/entity/Q66912682'), ('company', 'La Feltrinelli'), ('trademarks', '2')]\n",
      "[('o', 'http://www.wikidata.org/entity/Q105637594'), ('company', 'Net Global srl'), ('trademarks', '2')]\n",
      "[('o', 'http://www.wikidata.org/entity/Q753685'), ('company', 'Campari Group'), ('trademarks', '2')]\n",
      "[('o', 'http://www.wikidata.org/entity/Q269792'), ('company', 'Ferrero SpA'), ('trademarks', '2')]\n",
      "[('o', 'http://www.wikidata.org/entity/Q296625'), ('company', 'ARGO SpA'), ('trademarks', '2')]\n",
      "[('o', 'http://www.wikidata.org/entity/Q107464606'), ('company', 'Gottardo'), ('trademarks', '2')]\n",
      "[('o', 'http://www.wikidata.org/entity/Q30686751'), ('company', 'Mayhoola for Investments'), ('trademarks', '2')]\n",
      "[('o', 'http://www.wikidata.org/entity/Q368151'), ('company', 'Mediaset S.p.A.'), ('trademarks', '2')]\n",
      "[('o', 'http://www.wikidata.org/entity/Q11693093'), ('company', 'Davide Sonar'), ('trademarks', '1')]\n",
      "[('o', 'http://www.wikidata.org/entity/Q3001888'), ('company', 'Sony BMG'), ('trademarks', '1')]\n",
      "[('o', 'http://www.wikidata.org/entity/Q156913'), ('company', 'Bertelsmann'), ('trademarks', '1')]\n",
      "[('o', 'http://www.wikidata.org/entity/Q114436'), ('company', 'Tre Fontane Abbey'), ('trademarks', '1')]\n",
      "[('o', 'http://www.wikidata.org/entity/Q299147'), ('company', 'Heineken Open'), ('trademarks', '1')]\n",
      "[('o', 'http://www.wikidata.org/entity/Q505922'), ('company', 'Electrolux'), ('trademarks', '1')]\n",
      "[('o', 'http://www.wikidata.org/entity/Q673267'), ('company', 'Olivetti'), ('trademarks', '1')]\n",
      "[('o', 'http://www.wikidata.org/entity/Q27597'), ('company', 'Fiat'), ('trademarks', '1')]\n",
      "[('o', 'http://www.wikidata.org/entity/Q457960'), ('company', 'VF Corporation'), ('trademarks', '1')]\n"
     ]
    },
    {
     "data": {
      "text/plain": [
       "25"
      ]
     },
     "execution_count": 25,
     "metadata": {},
     "output_type": "execute_result"
    }
   ],
   "source": [
    "queryString = \"\"\"\n",
    "SELECT ?o ?company COUNT(DISTINCT ?t) AS ?trademarks\n",
    "WHERE { \n",
    "\n",
    "    ?t wdt:P31/wdt:P279* wd:Q167270;\n",
    "        wdt:P127|wdt:P749|wdt:P178|wdt:P176 ?o;\n",
    "        wdt:P17 wd:Q38.\n",
    "\n",
    "    ?o <http://schema.org/name> ?company.\n",
    "    \n",
    "}\n",
    "GROUP BY ?o ?company\n",
    "ORDER BY DESC(?trademarks)\n",
    "LIMIT 25\n",
    "\"\"\"\n",
    "\n",
    "print(\"Results\")\n",
    "run_query(queryString)"
   ]
  },
  {
   "cell_type": "markdown",
   "id": "79f042a2-fd6c-435a-a72e-5ea465f0d590",
   "metadata": {},
   "source": [
    "The result set is a bit different than expected because the country information refers to the trademark not the company, therefore I repeat the last two queries referring to the company country."
   ]
  },
  {
   "cell_type": "code",
   "execution_count": 26,
   "id": "65de11ee-ea67-42aa-ae00-298209656afa",
   "metadata": {},
   "outputs": [
    {
     "name": "stdout",
     "output_type": "stream",
     "text": [
      "Results\n",
      "[('c', 'http://www.wikidata.org/entity/Q30'), ('country', 'United States of America'), ('trademarks', '1668')]\n",
      "[('c', 'http://www.wikidata.org/entity/Q31'), ('country', 'Belgium'), ('trademarks', '447')]\n",
      "[('c', 'http://www.wikidata.org/entity/Q183'), ('country', 'Germany'), ('trademarks', '433')]\n",
      "[('c', 'http://www.wikidata.org/entity/Q17'), ('country', 'Japan'), ('trademarks', '432')]\n",
      "[('c', 'http://www.wikidata.org/entity/Q145'), ('country', 'United Kingdom'), ('trademarks', '369')]\n",
      "[('c', 'http://www.wikidata.org/entity/Q142'), ('country', 'France'), ('trademarks', '234')]\n",
      "[('c', 'http://www.wikidata.org/entity/Q38'), ('country', 'Italy'), ('trademarks', '145')]\n",
      "[('c', 'http://www.wikidata.org/entity/Q55'), ('country', 'Netherlands'), ('trademarks', '141')]\n",
      "[('c', 'http://www.wikidata.org/entity/Q39'), ('country', 'Switzerland'), ('trademarks', '107')]\n",
      "[('c', 'http://www.wikidata.org/entity/Q148'), ('country', \"People's Republic of China\"), ('trademarks', '87')]\n",
      "[('c', 'http://www.wikidata.org/entity/Q29'), ('country', 'Spain'), ('trademarks', '85')]\n",
      "[('c', 'http://www.wikidata.org/entity/Q33'), ('country', 'Finland'), ('trademarks', '84')]\n",
      "[('c', 'http://www.wikidata.org/entity/Q16'), ('country', 'Canada'), ('trademarks', '81')]\n",
      "[('c', 'http://www.wikidata.org/entity/Q884'), ('country', 'South Korea'), ('trademarks', '75')]\n",
      "[('c', 'http://www.wikidata.org/entity/Q34'), ('country', 'Sweden'), ('trademarks', '54')]\n",
      "[('c', 'http://www.wikidata.org/entity/Q20'), ('country', 'Norway'), ('trademarks', '47')]\n",
      "[('c', 'http://www.wikidata.org/entity/Q155'), ('country', 'Brazil'), ('trademarks', '41')]\n",
      "[('c', 'http://www.wikidata.org/entity/Q159'), ('country', 'Russia'), ('trademarks', '39')]\n",
      "[('c', 'http://www.wikidata.org/entity/Q35'), ('country', 'Denmark'), ('trademarks', '38')]\n",
      "[('c', 'http://www.wikidata.org/entity/Q174193'), ('country', 'United Kingdom of Great Britain and Ireland'), ('trademarks', '38')]\n",
      "[('c', 'http://www.wikidata.org/entity/Q36'), ('country', 'Poland'), ('trademarks', '34')]\n",
      "[('c', 'http://www.wikidata.org/entity/Q213'), ('country', 'Czech Republic'), ('trademarks', '33')]\n",
      "[('c', 'http://www.wikidata.org/entity/Q865'), ('country', 'Taiwan'), ('trademarks', '32')]\n",
      "[('c', 'http://www.wikidata.org/entity/Q408'), ('country', 'Australia'), ('trademarks', '32')]\n",
      "[('c', 'http://www.wikidata.org/entity/Q96'), ('country', 'Mexico'), ('trademarks', '23')]\n"
     ]
    },
    {
     "data": {
      "text/plain": [
       "25"
      ]
     },
     "execution_count": 26,
     "metadata": {},
     "output_type": "execute_result"
    }
   ],
   "source": [
    "queryString = \"\"\"\n",
    "SELECT ?c ?country COUNT(DISTINCT ?t) AS ?trademarks\n",
    "WHERE { \n",
    "\n",
    "    ?t wdt:P31/wdt:P279* wd:Q167270;\n",
    "        wdt:P127|wdt:P749|wdt:P178|wdt:P176 ?o.\n",
    "        \n",
    "    ?o  wdt:P17 ?c.\n",
    "    ?c <http://schema.org/name> ?country.\n",
    "    \n",
    "}\n",
    "GROUP BY ?c ?country\n",
    "ORDER BY DESC(?trademarks)\n",
    "LIMIT 25\n",
    "\"\"\"\n",
    "\n",
    "print(\"Results\")\n",
    "run_query(queryString)"
   ]
  },
  {
   "cell_type": "markdown",
   "id": "4cbcfffe-c52c-416d-a083-c3a681432290",
   "metadata": {},
   "source": [
    "As far as countries with the highest number of trademarks the results are similar, however I see that now the second country is Belgium (wd:Q31) instead of United Kingdom. Therefore I decide to return the belgian companies with most trademarks."
   ]
  },
  {
   "cell_type": "code",
   "execution_count": 27,
   "id": "212c9f1e-33bb-41aa-b90f-15990c812c1c",
   "metadata": {},
   "outputs": [
    {
     "name": "stdout",
     "output_type": "stream",
     "text": [
      "Results\n",
      "[('company', 'De Proefbrouwerij'), ('trademarks', '28')]\n",
      "[('company', 'Van Steenberghe brewery'), ('trademarks', '16')]\n",
      "[('company', 'Brewery Strubbe'), ('trademarks', '11')]\n",
      "[('company', 'Brasserie Du Bocq'), ('trademarks', '11')]\n",
      "[('company', 'Anheuser-Busch InBev'), ('trademarks', '11')]\n",
      "[('company', 'De Struise brewers'), ('trademarks', '10')]\n",
      "[('company', 'Het Anker Brewery'), ('trademarks', '9')]\n",
      "[('company', 'Pico brewery Alvinne'), ('trademarks', '8')]\n",
      "[('company', 'Huyghe Brewery'), ('trademarks', '8')]\n",
      "[('company', \"'t Hofbrouwerijke\"), ('trademarks', '7')]\n",
      "[('company', 'Haacht'), ('trademarks', '7')]\n",
      "[('company', 'Alken-Maes'), ('trademarks', '7')]\n",
      "[('company', 'Van Honsebrouck Brewery'), ('trademarks', '6')]\n",
      "[('company', 'Brasserie de Silly'), ('trademarks', '6')]\n",
      "[('company', 'Brewery De Dochter van de Korenaar'), ('trademarks', '6')]\n",
      "[('company', \"Brasserie d'Écaussinnes\"), ('trademarks', '5')]\n",
      "[('company', 'Duvel Moortgat Brewery'), ('trademarks', '5')]\n",
      "[('company', 'Brewery De Graal'), ('trademarks', '5')]\n",
      "[('company', 'Brewery Verhaeghe'), ('trademarks', '5')]\n",
      "[('company', 'Dupont brewery'), ('trademarks', '5')]\n",
      "[('company', 'De Dolle Brouwers'), ('trademarks', '5')]\n",
      "[('company', '3 Fonteinen'), ('trademarks', '5')]\n",
      "[('company', 'Huisbrouwerij Den Tseut'), ('trademarks', '5')]\n",
      "[('company', 'De Ranke Brewery'), ('trademarks', '5')]\n",
      "[('company', 'De Bie Brewery'), ('trademarks', '5')]\n"
     ]
    },
    {
     "data": {
      "text/plain": [
       "25"
      ]
     },
     "execution_count": 27,
     "metadata": {},
     "output_type": "execute_result"
    }
   ],
   "source": [
    "queryString = \"\"\"\n",
    "SELECT ?company COUNT(DISTINCT ?t) AS ?trademarks\n",
    "WHERE { \n",
    "\n",
    "    ?t wdt:P31/wdt:P279* wd:Q167270;\n",
    "        wdt:P127|wdt:P749|wdt:P178|wdt:P176 ?o.\n",
    "        \n",
    "    ?o wdt:P17 wd:Q31.\n",
    "    \n",
    "    ?o <http://schema.org/name> ?company.\n",
    "    \n",
    "}\n",
    "GROUP BY ?company\n",
    "ORDER BY DESC(?trademarks)\n",
    "LIMIT 25\n",
    "\"\"\"\n",
    "\n",
    "print(\"Results\")\n",
    "run_query(queryString)"
   ]
  },
  {
   "cell_type": "markdown",
   "id": "7c62e25b-be72-4be8-9b24-17e9c1d8f8eb",
   "metadata": {},
   "source": [
    "Belgium is well known for its breweries and as I expect its high number of trademark is related to the beer industry. \n",
    "\n",
    "I can now retrieve the italian companies with the highest number of trademarks."
   ]
  },
  {
   "cell_type": "code",
   "execution_count": 28,
   "id": "e859afc0-b348-4346-afaa-57e8a3778288",
   "metadata": {},
   "outputs": [
    {
     "name": "stdout",
     "output_type": "stream",
     "text": [
      "Results\n",
      "[('o', 'http://www.wikidata.org/entity/Q269792'), ('company', 'Ferrero SpA'), ('trademarks', '26')]\n",
      "[('o', 'http://www.wikidata.org/entity/Q753685'), ('company', 'Campari Group'), ('trademarks', '8')]\n",
      "[('o', 'http://www.wikidata.org/entity/Q673267'), ('company', 'Olivetti'), ('trademarks', '5')]\n",
      "[('o', 'http://www.wikidata.org/entity/Q85355'), ('company', 'Arnoldo Mondadori Editore'), ('trademarks', '4')]\n",
      "[('o', 'http://www.wikidata.org/entity/Q105614713'), ('company', 'Pam Panorama'), ('trademarks', '4')]\n",
      "[('o', 'http://www.wikidata.org/entity/Q635484'), ('company', 'Armani'), ('trademarks', '3')]\n",
      "[('o', 'http://www.wikidata.org/entity/Q27597'), ('company', 'Fiat'), ('trademarks', '3')]\n",
      "[('o', 'http://www.wikidata.org/entity/Q3954771'), ('company', 'Selex'), ('trademarks', '3')]\n",
      "[('o', 'http://www.wikidata.org/entity/Q105637594'), ('company', 'Net Global srl'), ('trademarks', '3')]\n",
      "[('o', 'http://www.wikidata.org/entity/Q19616'), ('company', 'RAI'), ('trademarks', '2')]\n",
      "[('o', 'http://www.wikidata.org/entity/Q3747293'), ('company', 'Fonit Cetra'), ('trademarks', '2')]\n",
      "[('o', 'http://www.wikidata.org/entity/Q612524'), ('company', 'Perfetti Van Melle'), ('trademarks', '2')]\n",
      "[('o', 'http://www.wikidata.org/entity/Q21190256'), ('company', 'Unes'), ('trademarks', '2')]\n",
      "[('o', 'http://www.wikidata.org/entity/Q56897465'), ('company', 'BMG Ricordi S.p.A.'), ('trademarks', '2')]\n",
      "[('o', 'http://www.wikidata.org/entity/Q543750'), ('company', 'Lavazza'), ('trademarks', '2')]\n",
      "[('o', 'http://www.wikidata.org/entity/Q66912682'), ('company', 'La Feltrinelli'), ('trademarks', '2')]\n",
      "[('o', 'http://www.wikidata.org/entity/Q746413'), ('company', 'Elsevier BV'), ('trademarks', '2')]\n",
      "[('o', 'http://www.wikidata.org/entity/Q296625'), ('company', 'ARGO SpA'), ('trademarks', '2')]\n",
      "[('o', 'http://www.wikidata.org/entity/Q1502774'), ('company', 'Massimo Zanetti Beverage Group'), ('trademarks', '2')]\n",
      "[('o', 'http://www.wikidata.org/entity/Q368151'), ('company', 'Mediaset S.p.A.'), ('trademarks', '2')]\n",
      "[('o', 'http://www.wikidata.org/entity/Q20008259'), ('company', 'Fashion Box'), ('trademarks', '1')]\n",
      "[('o', 'http://www.wikidata.org/entity/Q114436'), ('company', 'Tre Fontane Abbey'), ('trademarks', '1')]\n",
      "[('o', 'http://www.wikidata.org/entity/Q106614483'), ('company', 'Movicom Group'), ('trademarks', '1')]\n",
      "[('o', 'http://www.wikidata.org/entity/Q477222'), ('company', 'Amplifon'), ('trademarks', '1')]\n",
      "[('o', 'http://www.wikidata.org/entity/Q27586'), ('company', 'Ferrari'), ('trademarks', '1')]\n"
     ]
    },
    {
     "data": {
      "text/plain": [
       "25"
      ]
     },
     "execution_count": 28,
     "metadata": {},
     "output_type": "execute_result"
    }
   ],
   "source": [
    "queryString = \"\"\"\n",
    "SELECT ?o ?company COUNT(DISTINCT ?t) AS ?trademarks\n",
    "WHERE { \n",
    "\n",
    "    ?t wdt:P31/wdt:P279* wd:Q167270;\n",
    "        wdt:P127|wdt:P749|wdt:P178|wdt:P176 ?o.\n",
    "        \n",
    "    ?o wdt:P17 wd:Q38.\n",
    "    \n",
    "    ?o <http://schema.org/name> ?company.\n",
    "    \n",
    "}\n",
    "GROUP BY ?o ?company\n",
    "ORDER BY DESC(?trademarks)\n",
    "LIMIT 25\n",
    "\"\"\"\n",
    "\n",
    "print(\"Results\")\n",
    "run_query(queryString)"
   ]
  },
  {
   "cell_type": "markdown",
   "id": "6e17e335-cc2e-4e82-a58c-512f582c055c",
   "metadata": {},
   "source": [
    "As I expected the italian company with the highest number of trademarks is Ferrero(wd:Q269792). I now return all the trademarks Ferrero owns."
   ]
  },
  {
   "cell_type": "code",
   "execution_count": 29,
   "id": "e7a38cee-27a0-4526-952d-01d5595ed370",
   "metadata": {},
   "outputs": [
    {
     "name": "stdout",
     "output_type": "stream",
     "text": [
      "Results\n",
      "[('t', 'http://www.wikidata.org/entity/Q1050530'), ('trademark', 'Tic Tac')]\n",
      "[('t', 'http://www.wikidata.org/entity/Q1059233'), ('trademark', 'Kinder Chocolate')]\n",
      "[('t', 'http://www.wikidata.org/entity/Q212193'), ('trademark', 'Nutella')]\n",
      "[('t', 'http://www.wikidata.org/entity/Q2297653'), ('trademark', 'Kinder Bueno')]\n",
      "[('t', 'http://www.wikidata.org/entity/Q1780501'), ('trademark', 'Raffaello')]\n",
      "[('t', 'http://www.wikidata.org/entity/Q5433442'), ('trademark', 'Famous Amos')]\n",
      "[('t', 'http://www.wikidata.org/entity/Q96402924'), ('trademark', 'Royal Dansk')]\n",
      "[('t', 'http://www.wikidata.org/entity/Q5101733'), ('trademark', 'Chips Deluxe')]\n",
      "[('t', 'http://www.wikidata.org/entity/Q3906863'), ('trademark', 'Pocket Coffee')]\n",
      "[('t', 'http://www.wikidata.org/entity/Q1588515'), ('trademark', 'Mon Chéri')]\n",
      "[('t', 'http://www.wikidata.org/entity/Q15975817'), ('trademark', 'Kinder Joy')]\n",
      "[('t', 'http://www.wikidata.org/entity/Q181042'), ('trademark', 'Kinder Surprise')]\n",
      "[('t', 'http://www.wikidata.org/entity/Q526516'), ('trademark', 'Ferrero Rocher')]\n",
      "[('t', 'http://www.wikidata.org/entity/Q464501'), ('trademark', 'Kinder Happy Hippo')]\n",
      "[('t', 'http://www.wikidata.org/entity/Q15410057'), ('trademark', 'Kinder')]\n",
      "[('t', 'http://www.wikidata.org/entity/Q1803765'), ('trademark', 'Yogurette')]\n",
      "[('t', 'http://www.wikidata.org/entity/Q1577778'), ('trademark', 'Milch-Schnitte')]\n",
      "[('t', 'http://www.wikidata.org/entity/Q1266557'), ('trademark', 'Duplo')]\n",
      "[('t', 'http://www.wikidata.org/entity/Q21010058'), ('trademark', 'Ferrero-Küsschen')]\n",
      "[('t', 'http://www.wikidata.org/entity/Q3815377'), ('trademark', 'Kinder cereals')]\n",
      "[('t', 'http://www.wikidata.org/entity/Q204569'), ('trademark', 'Hanuta')]\n",
      "[('t', 'http://www.wikidata.org/entity/Q3733375'), ('trademark', 'Estathé')]\n",
      "[('t', 'http://www.wikidata.org/entity/Q16568982'), ('trademark', 'Kinder Schokobon')]\n",
      "[('t', 'http://www.wikidata.org/entity/Q683102'), ('trademark', 'Thorntons Limited')]\n"
     ]
    },
    {
     "data": {
      "text/plain": [
       "24"
      ]
     },
     "execution_count": 29,
     "metadata": {},
     "output_type": "execute_result"
    }
   ],
   "source": [
    "queryString = \"\"\"\n",
    "SELECT DISTINCT ?t ?trademark\n",
    "WHERE { \n",
    "\n",
    "    ?t wdt:P31/wdt:P279* wd:Q167270;\n",
    "        wdt:P127|wdt:P749|wdt:P178|wdt:P176 wd:Q269792.\n",
    "    \n",
    "    ?t <http://schema.org/name> ?trademark.\n",
    "    \n",
    "}\n",
    "\"\"\"\n",
    "\n",
    "print(\"Results\")\n",
    "run_query(queryString)"
   ]
  },
  {
   "cell_type": "markdown",
   "id": "af89f798-07ac-4447-b1e7-733fcc1db97a",
   "metadata": {},
   "source": [
    "I recall I also found a property \"inception\"(wdt:P571) therefore I order Ferrero's trademarks based on the inception date (if available)."
   ]
  },
  {
   "cell_type": "code",
   "execution_count": 30,
   "id": "d2644223-5faa-4c46-82ef-c79db1a0b9f2",
   "metadata": {},
   "outputs": [
    {
     "name": "stdout",
     "output_type": "stream",
     "text": [
      "Results\n",
      "[('trademark', 'Thorntons Limited'), ('year', '1911')]\n",
      "[('trademark', 'Tic Tac'), ('year', '1943')]\n",
      "[('trademark', 'Mon Chéri'), ('year', '1956')]\n",
      "[('trademark', 'Nutella'), ('year', '1964')]\n",
      "[('trademark', 'Duplo'), ('year', '1964')]\n",
      "[('trademark', 'Royal Dansk'), ('year', '1966')]\n",
      "[('trademark', 'Kinder'), ('year', '1968')]\n",
      "[('trademark', 'Yogurette'), ('year', '1970')]\n",
      "[('trademark', 'Famous Amos'), ('year', '1975')]\n",
      "[('trademark', 'Kinder Bueno'), ('year', '1990')]\n",
      "[('trademark', 'Raffaello'), ('year', '1990')]\n",
      "[('trademark', 'Kinder Joy'), ('year', '2001')]\n"
     ]
    },
    {
     "data": {
      "text/plain": [
       "12"
      ]
     },
     "execution_count": 30,
     "metadata": {},
     "output_type": "execute_result"
    }
   ],
   "source": [
    "queryString = \"\"\"\n",
    "SELECT DISTINCT ?trademark ?year\n",
    "WHERE { \n",
    "\n",
    "    ?t wdt:P31/wdt:P279* wd:Q167270;\n",
    "        wdt:P127|wdt:P749|wdt:P178|wdt:P176 wd:Q269792;\n",
    "        wdt:P571 ?inception.\n",
    "    \n",
    "    BIND(year(?inception) AS ?year)\n",
    "    \n",
    "    ?t <http://schema.org/name> ?trademark.\n",
    "    \n",
    "}\n",
    "ORDER BY ?year\n",
    "\"\"\"\n",
    "\n",
    "print(\"Results\")\n",
    "run_query(queryString)"
   ]
  },
  {
   "cell_type": "markdown",
   "id": "fb921f47-65a6-4d13-a425-f3fc56437642",
   "metadata": {},
   "source": [
    "The most ancient trademark is \"Thorntons Limited\" that is a british company bought by Ferrero in 2015, other than that the product with the oldest trademark is Tic Tac."
   ]
  },
  {
   "cell_type": "markdown",
   "id": "4646850f-8839-49cf-b1ae-2fbc3e29b0c1",
   "metadata": {
    "tags": []
   },
   "source": [
    "## Types of trademarks\n",
    "This section contains the queries used to answer the forth question: _What are the types of trademarks, how many trademarks exist for each type?_\n",
    "\n",
    "I recall I found the BGP to connect each trademark with each category in the second section. I can return the categories with the highest number of trademarks by means of the following query."
   ]
  },
  {
   "cell_type": "code",
   "execution_count": 31,
   "id": "b2d88aa4-9002-4970-b8ed-13bb185c3357",
   "metadata": {},
   "outputs": [
    {
     "name": "stdout",
     "output_type": "stream",
     "text": [
      "Results\n",
      "[('c', 'http://www.wikidata.org/entity/Q126793'), ('category', 'retail'), ('trademarks', '795')]\n",
      "[('c', 'http://www.wikidata.org/entity/Q8341'), ('category', 'jazz'), ('trademarks', '791')]\n",
      "[('c', 'http://www.wikidata.org/entity/Q190117'), ('category', 'automotive industry'), ('trademarks', '504')]\n",
      "[('c', 'http://www.wikidata.org/entity/Q38848'), ('category', 'heavy metal'), ('trademarks', '316')]\n",
      "[('c', 'http://www.wikidata.org/entity/Q581105'), ('category', 'consumer electronics'), ('trademarks', '227')]\n",
      "[('c', 'http://www.wikidata.org/entity/Q11401'), ('category', 'hip hop music'), ('trademarks', '196')]\n",
      "[('c', 'http://www.wikidata.org/entity/Q869095'), ('category', 'brewing'), ('trademarks', '185')]\n",
      "[('c', 'http://www.wikidata.org/entity/Q746359'), ('category', 'music industry'), ('trademarks', '184')]\n",
      "[('c', 'http://www.wikidata.org/entity/Q11707'), ('category', 'restaurant'), ('trademarks', '174')]\n",
      "[('c', 'http://www.wikidata.org/entity/Q171141'), ('category', 'gastronomy'), ('trademarks', '124')]\n",
      "[('c', 'http://www.wikidata.org/entity/Q11828862'), ('category', 'clothing industry'), ('trademarks', '98')]\n",
      "[('c', 'http://www.wikidata.org/entity/Q540912'), ('category', 'food industry'), ('trademarks', '82')]\n",
      "[('c', 'http://www.wikidata.org/entity/Q173799'), ('category', 'entertainment'), ('trademarks', '81')]\n",
      "[('c', 'http://www.wikidata.org/entity/Q37073'), ('category', 'pop music'), ('trademarks', '76')]\n",
      "[('c', 'http://www.wikidata.org/entity/Q81799'), ('category', 'fast food'), ('trademarks', '73')]\n",
      "[('c', 'http://www.wikidata.org/entity/Q3071'), ('category', 'punk rock'), ('trademarks', '72')]\n",
      "[('c', 'http://www.wikidata.org/entity/Q11399'), ('category', 'rock music'), ('trademarks', '72')]\n",
      "[('c', 'http://www.wikidata.org/entity/Q638'), ('category', 'music'), ('trademarks', '70')]\n",
      "[('c', 'http://www.wikidata.org/entity/Q941594'), ('category', 'video game industry'), ('trademarks', '63')]\n",
      "[('c', 'http://www.wikidata.org/entity/Q107601756'), ('category', 'food and tobacco industry'), ('trademarks', '54')]\n",
      "[('c', 'http://www.wikidata.org/entity/Q1495452'), ('category', 'hospitality industry'), ('trademarks', '54')]\n",
      "[('c', 'http://www.wikidata.org/entity/Q45981'), ('category', 'rhythm and blues'), ('trademarks', '43')]\n",
      "[('c', 'http://www.wikidata.org/entity/Q9778'), ('category', 'electronic music'), ('trademarks', '42')]\n",
      "[('c', 'http://www.wikidata.org/entity/Q41958'), ('category', 'foodservice'), ('trademarks', '42')]\n",
      "[('c', 'http://www.wikidata.org/entity/Q10302058'), ('category', 'phonographic industry'), ('trademarks', '42')]\n"
     ]
    },
    {
     "data": {
      "text/plain": [
       "25"
      ]
     },
     "execution_count": 31,
     "metadata": {},
     "output_type": "execute_result"
    }
   ],
   "source": [
    "queryString = \"\"\"\n",
    "SELECT ?c ?category COUNT(DISTINCT ?t) AS ?trademarks\n",
    "WHERE { \n",
    "\n",
    "    ?t wdt:P31/wdt:P279* wd:Q167270;\n",
    "        wdt:P452|wdt:P136 ?c.\n",
    "        \n",
    "    ?c <http://schema.org/name> ?category.   \n",
    "        \n",
    "}\n",
    "GROUP BY ?c ?category\n",
    "ORDER BY DESC(?trademarks)\n",
    "LIMIT 25\n",
    "\"\"\"\n",
    "\n",
    "print(\"Results\")\n",
    "run_query(queryString)"
   ]
  },
  {
   "cell_type": "markdown",
   "id": "72eaf827-3909-4916-8666-cc4f75baef7d",
   "metadata": {},
   "source": [
    "Since the category with most trademarks is \"retail\"(wd:Q126793) I return the companies with most trademarks in such industry."
   ]
  },
  {
   "cell_type": "code",
   "execution_count": 32,
   "id": "8f688169-dd60-4a09-a984-e5c240389e02",
   "metadata": {},
   "outputs": [
    {
     "name": "stdout",
     "output_type": "stream",
     "text": [
      "Results\n",
      "[('c', 'http://www.wikidata.org/entity/Q2670967'), ('company', 'Casino Group'), ('trademarks', '7')]\n",
      "[('c', 'http://www.wikidata.org/entity/Q909856'), ('company', 'Loblaw Companies'), ('trademarks', '6')]\n",
      "[('c', 'http://www.wikidata.org/entity/Q153417'), ('company', 'Kroger'), ('trademarks', '6')]\n",
      "[('c', 'http://www.wikidata.org/entity/Q3117359'), ('company', 'Carrefour'), ('trademarks', '5')]\n",
      "[('c', 'http://www.wikidata.org/entity/Q483551'), ('company', 'Walmart'), ('trademarks', '4')]\n",
      "[('c', 'http://www.wikidata.org/entity/Q1618373'), ('company', 'Coop Norge'), ('trademarks', '4')]\n",
      "[('c', 'http://www.wikidata.org/entity/Q258748'), ('company', 'X5 Retail Group'), ('trademarks', '4')]\n",
      "[('c', 'http://www.wikidata.org/entity/Q7512351'), ('company', 'Sigma Company Limited'), ('trademarks', '4')]\n",
      "[('c', 'http://www.wikidata.org/entity/Q487494'), ('company', 'Tesco'), ('trademarks', '4')]\n",
      "[('c', 'http://www.wikidata.org/entity/Q20539261'), ('company', 'Ahold Delhaize'), ('trademarks', '4')]\n",
      "[('c', 'http://www.wikidata.org/entity/Q3153200'), ('company', 'Intermarché'), ('trademarks', '4')]\n",
      "[('c', 'http://www.wikidata.org/entity/Q30688042'), ('company', 'Boohoo Group'), ('trademarks', '3')]\n",
      "[('c', 'http://www.wikidata.org/entity/Q573266'), ('company', 'REWE Group'), ('trademarks', '3')]\n",
      "[('c', 'http://www.wikidata.org/entity/Q849363'), ('company', 'The Vanguard Group'), ('trademarks', '3')]\n",
      "[('c', 'http://www.wikidata.org/entity/Q2340904'), ('company', 'Steinhoff International'), ('trademarks', '3')]\n",
      "[('c', 'http://www.wikidata.org/entity/Q44504'), ('company', 'Inditex'), ('trademarks', '3')]\n",
      "[('c', 'http://www.wikidata.org/entity/Q5265143'), ('company', 'Destination Maternity Corporation'), ('trademarks', '3')]\n",
      "[('c', 'http://www.wikidata.org/entity/Q683098'), ('company', 'Kingfisher plc'), ('trademarks', '3')]\n",
      "[('c', 'http://www.wikidata.org/entity/Q6569399'), ('company', 'Dairy Farm International Holdings'), ('trademarks', '3')]\n",
      "[('c', 'http://www.wikidata.org/entity/Q289362'), ('company', 'Cerberus Capital Management'), ('trademarks', '2')]\n",
      "[('c', 'http://www.wikidata.org/entity/Q607272'), ('company', 'Woolworths Limited'), ('trademarks', '2')]\n",
      "[('c', 'http://www.wikidata.org/entity/Q1145669'), ('company', 'Metro Inc.'), ('trademarks', '2')]\n",
      "[('c', 'http://www.wikidata.org/entity/Q3884'), ('company', 'Amazon'), ('trademarks', '2')]\n",
      "[('c', 'http://www.wikidata.org/entity/Q1285819'), ('company', 'TJX Companies'), ('trademarks', '2')]\n",
      "[('c', 'http://www.wikidata.org/entity/Q7554556'), ('company', 'Sogo & Seibu'), ('trademarks', '2')]\n"
     ]
    },
    {
     "data": {
      "text/plain": [
       "25"
      ]
     },
     "execution_count": 32,
     "metadata": {},
     "output_type": "execute_result"
    }
   ],
   "source": [
    "queryString = \"\"\"\n",
    "SELECT ?c ?company COUNT(DISTINCT ?t) AS ?trademarks\n",
    "WHERE { \n",
    "\n",
    "    ?t wdt:P31/wdt:P279* wd:Q167270;\n",
    "        wdt:P452 wd:Q126793;\n",
    "         wdt:P127|wdt:P749|wdt:P178|wdt:P176 ?c.\n",
    "        \n",
    "    ?c <http://schema.org/name> ?company.   \n",
    "        \n",
    "}\n",
    "GROUP BY ?c ?company\n",
    "ORDER BY DESC(?trademarks)\n",
    "LIMIT 25\n",
    "\"\"\"\n",
    "\n",
    "print(\"Results\")\n",
    "run_query(queryString)"
   ]
  },
  {
   "cell_type": "markdown",
   "id": "3a7c5a84-d17e-43e1-8717-f5b417e692b9",
   "metadata": {},
   "source": [
    "I can also return the companies that have the highest number of trademarks in different categories."
   ]
  },
  {
   "cell_type": "code",
   "execution_count": 33,
   "id": "a5bcbc0b-432e-4ca1-b124-b98be9105d58",
   "metadata": {},
   "outputs": [
    {
     "name": "stdout",
     "output_type": "stream",
     "text": [
      "Results\n",
      "[('o', 'http://www.wikidata.org/entity/Q38903'), ('company', 'Universal Music Group'), ('differentCategories', '49')]\n",
      "[('o', 'http://www.wikidata.org/entity/Q21077'), ('company', 'Warner Music Group'), ('differentCategories', '47')]\n",
      "[('o', 'http://www.wikidata.org/entity/Q219635'), ('company', 'BlackRock'), ('differentCategories', '23')]\n",
      "[('o', 'http://www.wikidata.org/entity/Q56760250'), ('company', 'Sony Music'), ('differentCategories', '20')]\n",
      "[('o', 'http://www.wikidata.org/entity/Q30431407'), ('company', 'FCMG'), ('differentCategories', '16')]\n",
      "[('o', 'http://www.wikidata.org/entity/Q64627997'), ('company', 'David Russell Samuel'), ('differentCategories', '15')]\n",
      "[('o', 'http://www.wikidata.org/entity/Q849363'), ('company', 'The Vanguard Group'), ('differentCategories', '15')]\n",
      "[('o', 'http://www.wikidata.org/entity/Q30201990'), ('company', 'Pedro Fernando'), ('differentCategories', '15')]\n",
      "[('o', 'http://www.wikidata.org/entity/Q183412'), ('company', 'EMI'), ('differentCategories', '14')]\n",
      "[('o', 'http://www.wikidata.org/entity/Q157062'), ('company', 'Unilever'), ('differentCategories', '11')]\n",
      "[('o', 'http://www.wikidata.org/entity/Q5158829'), ('company', 'Concord Bicycle Music'), ('differentCategories', '10')]\n",
      "[('o', 'http://www.wikidata.org/entity/Q217583'), ('company', 'Berkshire Hathaway'), ('differentCategories', '9')]\n",
      "[('o', 'http://www.wikidata.org/entity/Q3001888'), ('company', 'Sony BMG'), ('differentCategories', '9')]\n",
      "[('o', 'http://www.wikidata.org/entity/Q330629'), ('company', 'Sony Music'), ('differentCategories', '9')]\n",
      "[('o', 'http://www.wikidata.org/entity/Q2037125'), ('company', 'State Street Corporation'), ('differentCategories', '8')]\n",
      "[('o', 'http://www.wikidata.org/entity/Q2338889'), ('company', 'MCA Records'), ('differentCategories', '8')]\n",
      "[('o', 'http://www.wikidata.org/entity/Q58802260'), ('company', 'ABC Records, Inc.'), ('differentCategories', '8')]\n",
      "[('o', 'http://www.wikidata.org/entity/Q16974661'), ('company', 'Allied Artists International'), ('differentCategories', '7')]\n",
      "[('o', 'http://www.wikidata.org/entity/Q22998304'), ('company', 'Aiskander'), ('differentCategories', '7')]\n",
      "[('o', 'http://www.wikidata.org/entity/Q2465416'), ('company', 'Ministry of Culture'), ('differentCategories', '7')]\n",
      "[('o', 'http://www.wikidata.org/entity/Q1813833'), ('company', 'Eagle Rock Entertainment'), ('differentCategories', '6')]\n",
      "[('o', 'http://www.wikidata.org/entity/Q1347984'), ('company', 'Sanctuary Records'), ('differentCategories', '6')]\n",
      "[('o', 'http://www.wikidata.org/entity/Q1344736'), ('company', 'Entertainment One'), ('differentCategories', '6')]\n",
      "[('o', 'http://www.wikidata.org/entity/Q41553962'), ('company', 'FountainLegacyStudios'), ('differentCategories', '6')]\n",
      "[('o', 'http://www.wikidata.org/entity/Q1196231'), ('company', 'Government Pension Fund Global'), ('differentCategories', '6')]\n"
     ]
    },
    {
     "data": {
      "text/plain": [
       "25"
      ]
     },
     "execution_count": 33,
     "metadata": {},
     "output_type": "execute_result"
    }
   ],
   "source": [
    "queryString = \"\"\"\n",
    "SELECT ?o ?company COUNT(DISTINCT ?c) AS ?differentCategories\n",
    "WHERE { \n",
    "\n",
    "    ?t wdt:P31/wdt:P279* wd:Q167270;\n",
    "        wdt:P452|wdt:P136 ?c;\n",
    "         wdt:P127|wdt:P749|wdt:P178|wdt:P176 ?o.\n",
    "        \n",
    "    ?o <http://schema.org/name> ?company.   \n",
    "        \n",
    "}\n",
    "GROUP BY ?o ?company\n",
    "ORDER BY DESC(?differentCategories)\n",
    "LIMIT 25\n",
    "\"\"\"\n",
    "\n",
    "print(\"Results\")\n",
    "run_query(queryString)"
   ]
  },
  {
   "cell_type": "markdown",
   "id": "d58ed3df-dca6-4c91-8ec8-6c8c3f4ceb7b",
   "metadata": {},
   "source": [
    "Since I am also considering the property \"genre\" that is related to the music industry the result set have a lot of record companies since it is reasonable they produce lots of different genres of music. Therefore I run the same query considering only the property \"industry\" (wdt:P452)."
   ]
  },
  {
   "cell_type": "code",
   "execution_count": 34,
   "id": "d29669e2-7919-4084-adb7-24b4bf6b5801",
   "metadata": {},
   "outputs": [
    {
     "name": "stdout",
     "output_type": "stream",
     "text": [
      "Results\n",
      "[('o', 'http://www.wikidata.org/entity/Q219635'), ('company', 'BlackRock'), ('differentCategories', '23'), ('categories', 'Accommodation and food service activities; International Standard Industrial Classification; big-box store; communication device; computer network; consumer electronics; digital distribution; discount store; electrical appliance; electronics; food and tobacco industry; food industry; foodservice; hardware store; information technology; mobile phone industry; networking hardware; petroleum industry; quick service restaurant sector; retail; retail chain; software industry; telecommunications industry')]\n",
      "[('o', 'http://www.wikidata.org/entity/Q849363'), ('company', 'The Vanguard Group'), ('differentCategories', '15'), ('categories', 'Accommodation and food service activities; big-box store; consumer electronics; digital distribution; discount store; electronics; food and tobacco industry; foodservice; hardware store; information technology; mobile phone industry; quick service restaurant sector; retail; retail chain; software industry')]\n",
      "[('o', 'http://www.wikidata.org/entity/Q157062'), ('company', 'Unilever'), ('differentCategories', '11'), ('categories', 'Financial service activities, except insurance and pension funding; Manufacture of prepared meals and dishes; Manufacture of starches and starch products; Production of meat and poultry meat products; beverage industry; dairy industry; food and tobacco industry; food processing; foodservice; ice cream manufacturer; petroleum industry')]\n",
      "[('o', 'http://www.wikidata.org/entity/Q217583'), ('company', 'Berkshire Hathaway'), ('differentCategories', '9'), ('categories', 'consumer electronics; digital distribution; electronics; information technology; mobile phone industry; retail; software industry; system catering; truck stop')]\n",
      "[('o', 'http://www.wikidata.org/entity/Q2037125'), ('company', 'State Street Corporation'), ('differentCategories', '8'), ('categories', 'Accommodation and food service activities; big-box store; discount store; food and tobacco industry; foodservice; quick service restaurant sector; retail; retail chain')]\n",
      "[('o', 'http://www.wikidata.org/entity/Q38903'), ('company', 'Universal Music Group'), ('differentCategories', '7'), ('categories', 'consumer electronics; dance music; industry; media industry; music; music industry; phonographic industry')]\n",
      "[('o', 'http://www.wikidata.org/entity/Q1196231'), ('company', 'Government Pension Fund Global'), ('differentCategories', '6'), ('categories', 'consumer electronics; digital distribution; electronics; information technology; mobile phone industry; software industry')]\n",
      "[('o', 'http://www.wikidata.org/entity/Q504998'), ('company', 'LVMH'), ('differentCategories', '5'), ('categories', 'fashion; food industry; jewellery industry; retail; textile industry')]\n",
      "[('o', 'http://www.wikidata.org/entity/Q2575956'), ('company', 'NorgesGruppen'), ('differentCategories', '5'), ('categories', 'Food retail sector; book retail industry; online store; retail chain; supermarket chain')]\n",
      "[('o', 'http://www.wikidata.org/entity/Q21077'), ('company', 'Warner Music Group'), ('differentCategories', '5'), ('categories', 'consumer electronics; media industry; music; music industry; phonographic industry')]\n"
     ]
    },
    {
     "data": {
      "text/plain": [
       "10"
      ]
     },
     "execution_count": 34,
     "metadata": {},
     "output_type": "execute_result"
    }
   ],
   "source": [
    "queryString = \"\"\"\n",
    "SELECT ?o ?company COUNT(DISTINCT ?c) AS ?differentCategories \n",
    "                GROUP_CONCAT(DISTINCT ?category; separator=\"; \") AS ?categories\n",
    "WHERE { \n",
    "\n",
    "    ?t wdt:P31/wdt:P279* wd:Q167270;\n",
    "        wdt:P452 ?c;\n",
    "         wdt:P127|wdt:P749|wdt:P178|wdt:P176 ?o.\n",
    "    \n",
    "    ?c <http://schema.org/name> ?category.\n",
    "    ?o <http://schema.org/name> ?company.   \n",
    "        \n",
    "}\n",
    "GROUP BY ?o ?company\n",
    "ORDER BY DESC(?differentCategories)\n",
    "LIMIT 10\n",
    "\"\"\"\n",
    "\n",
    "print(\"Results\")\n",
    "run_query(queryString)"
   ]
  },
  {
   "cell_type": "markdown",
   "id": "f7a6aee7-9c2b-441f-bb86-0118471d4c4d",
   "metadata": {},
   "source": [
    "In the end, I can return the top-20 categories with the highest number of trademarks owned by italian companies. I recall node \"Italy\" is wd:Q38 and property \"country\" is wdt:P17."
   ]
  },
  {
   "cell_type": "code",
   "execution_count": 35,
   "id": "2e3b31c1-a36d-4c00-ba06-5098cfbaf129",
   "metadata": {},
   "outputs": [
    {
     "name": "stdout",
     "output_type": "stream",
     "text": [
      "Results\n",
      "[('c', 'http://www.wikidata.org/entity/Q190117'), ('category', 'automotive industry'), ('trademarks', '8')]\n",
      "[('c', 'http://www.wikidata.org/entity/Q25245117'), ('category', 'telecommunications industry'), ('trademarks', '6')]\n",
      "[('c', 'http://www.wikidata.org/entity/Q3972943'), ('category', 'publishing'), ('trademarks', '6')]\n",
      "[('c', 'http://www.wikidata.org/entity/Q126793'), ('category', 'retail'), ('trademarks', '6')]\n",
      "[('c', 'http://www.wikidata.org/entity/Q837171'), ('category', 'financial services'), ('trademarks', '5')]\n",
      "[('c', 'http://www.wikidata.org/entity/Q1416657'), ('category', 'Finance'), ('trademarks', '4')]\n",
      "[('c', 'http://www.wikidata.org/entity/Q540912'), ('category', 'food industry'), ('trademarks', '4')]\n",
      "[('c', 'http://www.wikidata.org/entity/Q806718'), ('category', 'banking industry'), ('trademarks', '3')]\n",
      "[('c', 'http://www.wikidata.org/entity/Q178512'), ('category', 'public transport'), ('trademarks', '3')]\n",
      "[('c', 'http://www.wikidata.org/entity/Q331814'), ('category', 'mass-market retailing'), ('trademarks', '3')]\n",
      "[('c', 'http://www.wikidata.org/entity/Q2864737'), ('category', 'religious art'), ('trademarks', '2')]\n",
      "[('c', 'http://www.wikidata.org/entity/Q862571'), ('category', 'petroleum industry'), ('trademarks', '2')]\n",
      "[('c', 'http://www.wikidata.org/entity/Q581105'), ('category', 'consumer electronics'), ('trademarks', '2')]\n",
      "[('c', 'http://www.wikidata.org/entity/Q10302058'), ('category', 'phonographic industry'), ('trademarks', '1')]\n",
      "[('c', 'http://www.wikidata.org/entity/Q2285982'), ('category', 'ferrous metallurgy'), ('trademarks', '1')]\n",
      "[('c', 'http://www.wikidata.org/entity/Q474200'), ('category', 'shipbuilding'), ('trademarks', '1')]\n",
      "[('c', 'http://www.wikidata.org/entity/Q768186'), ('category', 'sports equipment'), ('trademarks', '1')]\n",
      "[('c', 'http://www.wikidata.org/entity/Q1945600'), ('category', 'mining industry'), ('trademarks', '1')]\n",
      "[('c', 'http://www.wikidata.org/entity/Q190864'), ('category', 'central securities depository'), ('trademarks', '1')]\n",
      "[('c', 'http://www.wikidata.org/entity/Q11432'), ('category', 'gas'), ('trademarks', '1')]\n"
     ]
    },
    {
     "data": {
      "text/plain": [
       "20"
      ]
     },
     "execution_count": 35,
     "metadata": {},
     "output_type": "execute_result"
    }
   ],
   "source": [
    "queryString = \"\"\"\n",
    "SELECT ?c ?category COUNT(DISTINCT ?t) AS ?trademarks\n",
    "WHERE { \n",
    "\n",
    "    ?t wdt:P31/wdt:P279* wd:Q167270;\n",
    "        wdt:P452|wdt:P136 ?c;\n",
    "         wdt:P127|wdt:P749|wdt:P178|wdt:P176 ?o.\n",
    "    \n",
    "    ?o wdt:P17 wd:Q38.\n",
    "    \n",
    "    ?c <http://schema.org/name> ?category.  \n",
    "        \n",
    "}\n",
    "GROUP BY ?c ?category\n",
    "ORDER BY DESC(?trademarks)\n",
    "LIMIT 20\n",
    "\"\"\"\n",
    "\n",
    "print(\"Results\")\n",
    "run_query(queryString)"
   ]
  },
  {
   "cell_type": "markdown",
   "id": "eec4a78f-64c2-4da8-9956-03f6b0bcc1d8",
   "metadata": {},
   "source": [
    "Since the trademarks are not as many for each category I can retrieve them for the first 10 categories."
   ]
  },
  {
   "cell_type": "code",
   "execution_count": 36,
   "id": "b68797b9-a56f-4624-a84b-97624b8be0e7",
   "metadata": {},
   "outputs": [
    {
     "name": "stdout",
     "output_type": "stream",
     "text": [
      "Results\n",
      "[('category', 'automotive industry'), ('numTMs', '8'), ('trademarks', 'Aermacchi; CNH Industrial; Fiat Brevetti; Imperial; Innocenti; Landini; Laverda; Pasquali vehicles')]\n",
      "[('category', 'telecommunications industry'), ('numTMs', '6'), ('trademarks', 'FiberCop; Italtel; Kena Mobile; PosteMobile; Rai Teche; Very Mobile')]\n",
      "[('category', 'retail'), ('numTMs', '6'), ('trademarks', 'Conad City; Esselunga; Intimissimi; Segafredo Zanetti; U!; U2')]\n",
      "[('category', 'publishing'), ('numTMs', '6'), ('trademarks', 'Academic Press; Caltagirone Editore; Garzanti; La Feltrinelli; Longanesi; Orbis Publishing Ltd.')]\n",
      "[('category', 'financial services'), ('numTMs', '4'), ('trademarks', 'Banca Carim; Banca Intermobiliare; Bank of Sicily; Credito Italiano')]\n",
      "[('category', 'food industry'), ('numTMs', '4'), ('trademarks', 'Mulino Bianco; Thorntons Limited; Voiello; Wasabröd')]\n",
      "[('category', 'banking industry'), ('numTMs', '4'), ('trademarks', 'Bank of Sicily; Carisbo; HypoVereinsbank; UniCredit Bank Czech Republic, a.s.')]\n",
      "[('category', 'Finance'), ('numTMs', '3'), ('trademarks', 'Bank of Sicily; Cassa di Risparmio di Fabriano e Cupramontana; UniCredit Bank Czech Republic, a.s.')]\n",
      "[('category', 'mass-market retailing'), ('numTMs', '3'), ('trademarks', 'NaturaSì; Pam Local; Tigros')]\n",
      "[('category', 'religious art'), ('numTMs', '2'), ('trademarks', 'Judith with the head of Holofernes; Saint Bartholomew')]\n"
     ]
    },
    {
     "data": {
      "text/plain": [
       "10"
      ]
     },
     "execution_count": 36,
     "metadata": {},
     "output_type": "execute_result"
    }
   ],
   "source": [
    "queryString = \"\"\"\n",
    "SELECT ?category COUNT(DISTINCT ?t) AS ?numTMs \n",
    "                    GROUP_CONCAT(DISTINCT ?trademark; separator=\"; \") AS ?trademarks\n",
    "WHERE { \n",
    "\n",
    "    ?t wdt:P31/wdt:P279* wd:Q167270;\n",
    "        wdt:P452|wdt:P136 ?c;\n",
    "        wdt:P127|wdt:P749|wdt:P178|wdt:P176 ?o.\n",
    "    \n",
    "    ?o wdt:P17 wd:Q38.\n",
    "    \n",
    "    ?t <http://schema.org/name> ?trademark.\n",
    "    ?c <http://schema.org/name> ?category.  \n",
    "        \n",
    "}\n",
    "GROUP BY ?category\n",
    "ORDER BY DESC(?numTMs)\n",
    "LIMIT 10\n",
    "\"\"\"\n",
    "\n",
    "print(\"Results\")\n",
    "run_query(queryString)"
   ]
  },
  {
   "cell_type": "markdown",
   "id": "e30c58d1-667f-44e3-80bb-46c9c5dde323",
   "metadata": {},
   "source": [
    "## Number of trademarks across types, companies and countries\n",
    "This section contains the queries used to answer the last question: _Analyze the number of trademarks across types, companies, and countries_"
   ]
  },
  {
   "cell_type": "markdown",
   "id": "73b34dbb-f601-49d9-a75c-11a25b7e9b46",
   "metadata": {
    "tags": []
   },
   "source": [
    "### Companies or People\n",
    "Firstly I need to understand how to distinguish between companies holding trademarks and people. As a start I can return the instance of (wdt:P31) of the objects connected to the trademarks."
   ]
  },
  {
   "cell_type": "code",
   "execution_count": 37,
   "id": "05e335ef-7339-4ef2-948a-6562d1de3c11",
   "metadata": {},
   "outputs": [
    {
     "name": "stdout",
     "output_type": "stream",
     "text": [
      "Results\n",
      "[('i', 'http://www.wikidata.org/entity/Q4830453'), ('instanceOf', 'business'), ('objs', '1541')]\n",
      "[('i', 'http://www.wikidata.org/entity/Q6881511'), ('instanceOf', 'enterprise'), ('objs', '667')]\n",
      "[('i', 'http://www.wikidata.org/entity/Q891723'), ('instanceOf', 'public company'), ('objs', '573')]\n",
      "[('i', 'http://www.wikidata.org/entity/Q5'), ('instanceOf', 'human'), ('objs', '247')]\n",
      "[('i', 'http://www.wikidata.org/entity/Q18127'), ('instanceOf', 'record label'), ('objs', '224')]\n",
      "[('i', 'http://www.wikidata.org/entity/Q131734'), ('instanceOf', 'brewery'), ('objs', '206')]\n",
      "[('i', 'http://www.wikidata.org/entity/Q2085381'), ('instanceOf', 'publisher'), ('objs', '109')]\n",
      "[('i', 'http://www.wikidata.org/entity/Q2442401'), ('instanceOf', 'record company'), ('objs', '107')]\n",
      "[('i', 'http://www.wikidata.org/entity/Q786820'), ('instanceOf', 'automobile manufacturer'), ('objs', '81')]\n",
      "[('i', 'http://www.wikidata.org/entity/Q783794'), ('instanceOf', 'company'), ('objs', '73')]\n",
      "[('i', 'http://www.wikidata.org/entity/Q219577'), ('instanceOf', 'holding company'), ('objs', '66')]\n",
      "[('i', 'http://www.wikidata.org/entity/Q1320047'), ('instanceOf', 'book publisher'), ('objs', '65')]\n",
      "[('i', 'http://www.wikidata.org/entity/Q658255'), ('instanceOf', 'subsidiary'), ('objs', '46')]\n",
      "[('i', 'http://www.wikidata.org/entity/Q507619'), ('instanceOf', 'retail chain'), ('objs', '41')]\n",
      "[('i', 'http://www.wikidata.org/entity/Q431289'), ('instanceOf', 'brand'), ('objs', '41')]\n",
      "[('i', 'http://www.wikidata.org/entity/Q167270'), ('instanceOf', 'trademark'), ('objs', '38')]\n",
      "[('i', 'http://www.wikidata.org/entity/Q43229'), ('instanceOf', 'organization'), ('objs', '34')]\n",
      "[('i', 'http://www.wikidata.org/entity/Q1252971'), ('instanceOf', 'food manufacturer'), ('objs', '34')]\n",
      "[('i', 'http://www.wikidata.org/entity/Q726870'), ('instanceOf', 'brick and mortar'), ('objs', '32')]\n",
      "[('i', 'http://www.wikidata.org/entity/Q18043413'), ('instanceOf', 'supermarket chain'), ('objs', '30')]\n",
      "[('i', 'http://www.wikidata.org/entity/Q778575'), ('instanceOf', 'conglomerate'), ('objs', '25')]\n",
      "[('i', 'http://www.wikidata.org/entity/Q1762059'), ('instanceOf', 'film production company'), ('objs', '20')]\n",
      "[('i', 'http://www.wikidata.org/entity/Q1137109'), ('instanceOf', 'video game publisher'), ('objs', '19')]\n",
      "[('i', 'http://www.wikidata.org/entity/Q5354754'), ('instanceOf', 'talent agency'), ('objs', '18')]\n",
      "[('i', 'http://www.wikidata.org/entity/Q161726'), ('instanceOf', 'multinational corporation'), ('objs', '17')]\n"
     ]
    },
    {
     "data": {
      "text/plain": [
       "25"
      ]
     },
     "execution_count": 37,
     "metadata": {},
     "output_type": "execute_result"
    }
   ],
   "source": [
    "queryString = \"\"\"\n",
    "SELECT ?i ?instanceOf COUNT(DISTINCT ?o) AS ?objs\n",
    "WHERE { \n",
    "\n",
    "    ?t wdt:P31/wdt:P279* wd:Q167270;\n",
    "        wdt:P127|wdt:P749|wdt:P178|wdt:P176 ?o.\n",
    "        \n",
    "    ?o  wdt:P31 ?i.\n",
    "    \n",
    "    ?i <http://schema.org/name> ?instanceOf.\n",
    "    \n",
    "}\n",
    "GROUP BY ?i ?instanceOf\n",
    "ORDER BY DESC(?objs)\n",
    "LIMIT 25\n",
    "\"\"\"\n",
    "\n",
    "print(\"Results\")\n",
    "run_query(queryString)"
   ]
  },
  {
   "cell_type": "markdown",
   "id": "9c8f732a-b3d6-469a-84cc-242c0024ab8e",
   "metadata": {},
   "source": [
    "I can assess that in order to retrieve companies I can filter out instances of \"human\"(wd:Q5) while when I want to retrieve people connected to trademarks I filter only results that are instance of \"human\"."
   ]
  },
  {
   "cell_type": "markdown",
   "id": "2a489a80-8312-4374-86a6-331fce56f288",
   "metadata": {
    "tags": []
   },
   "source": [
    "### US Companies\n",
    "_How many U.S. companies hold trademarks? In which sectors?_\n",
    "\n",
    "As I saw earlier the node \"USA\" is wd:Q30 therefore I can return the total number of trademarks held by american companies as a start."
   ]
  },
  {
   "cell_type": "code",
   "execution_count": 38,
   "id": "68590b4c-332e-485c-b4cb-ae82f76ec9a4",
   "metadata": {},
   "outputs": [
    {
     "name": "stdout",
     "output_type": "stream",
     "text": [
      "Results\n",
      "[('UStrademarks', '1668')]\n"
     ]
    },
    {
     "data": {
      "text/plain": [
       "1"
      ]
     },
     "execution_count": 38,
     "metadata": {},
     "output_type": "execute_result"
    }
   ],
   "source": [
    "queryString = \"\"\"\n",
    "SELECT COUNT(DISTINCT ?t) AS ?UStrademarks\n",
    "WHERE { \n",
    "\n",
    "    ?t wdt:P31/wdt:P279* wd:Q167270;\n",
    "        wdt:P127|wdt:P749|wdt:P178|wdt:P176 ?o.\n",
    "        \n",
    "    ?o  wdt:P17 wd:Q30;\n",
    "        wdt:P31 ?i.\n",
    "    \n",
    "    FILTER(?i != wd:Q5).\n",
    "    \n",
    "}\n",
    "\"\"\"\n",
    "\n",
    "print(\"Results\")\n",
    "run_query(queryString)"
   ]
  },
  {
   "cell_type": "markdown",
   "id": "a9f0ff7f-3a63-4ad1-a370-0220646eadd1",
   "metadata": {},
   "source": [
    "Now I return the categories with the highest number of trademarks held by american companies."
   ]
  },
  {
   "cell_type": "code",
   "execution_count": 39,
   "id": "923d15e4-2516-48fe-a1fb-cf645e6e341a",
   "metadata": {},
   "outputs": [
    {
     "name": "stdout",
     "output_type": "stream",
     "text": [
      "Results\n",
      "[('c', 'http://www.wikidata.org/entity/Q126793'), ('category', 'retail'), ('UStrademarks', '65')]\n",
      "[('c', 'http://www.wikidata.org/entity/Q11401'), ('category', 'hip hop music'), ('UStrademarks', '35')]\n",
      "[('c', 'http://www.wikidata.org/entity/Q8341'), ('category', 'jazz'), ('UStrademarks', '34')]\n",
      "[('c', 'http://www.wikidata.org/entity/Q746359'), ('category', 'music industry'), ('UStrademarks', '28')]\n",
      "[('c', 'http://www.wikidata.org/entity/Q1495452'), ('category', 'hospitality industry'), ('UStrademarks', '20')]\n",
      "[('c', 'http://www.wikidata.org/entity/Q56284716'), ('category', 'various genre'), ('UStrademarks', '18')]\n",
      "[('c', 'http://www.wikidata.org/entity/Q540912'), ('category', 'food industry'), ('UStrademarks', '18')]\n",
      "[('c', 'http://www.wikidata.org/entity/Q45981'), ('category', 'rhythm and blues'), ('UStrademarks', '17')]\n",
      "[('c', 'http://www.wikidata.org/entity/Q38848'), ('category', 'heavy metal'), ('UStrademarks', '15')]\n",
      "[('c', 'http://www.wikidata.org/entity/Q190117'), ('category', 'automotive industry'), ('UStrademarks', '14')]\n",
      "[('c', 'http://www.wikidata.org/entity/Q37073'), ('category', 'pop music'), ('UStrademarks', '14')]\n",
      "[('c', 'http://www.wikidata.org/entity/Q11399'), ('category', 'rock music'), ('UStrademarks', '12')]\n",
      "[('c', 'http://www.wikidata.org/entity/Q3972943'), ('category', 'publishing'), ('UStrademarks', '10')]\n",
      "[('c', 'http://www.wikidata.org/entity/Q9730'), ('category', 'Western classical music'), ('UStrademarks', '9')]\n",
      "[('c', 'http://www.wikidata.org/entity/Q10302058'), ('category', 'phonographic industry'), ('UStrademarks', '8')]\n",
      "[('c', 'http://www.wikidata.org/entity/Q49451'), ('category', 'progressive rock'), ('UStrademarks', '8')]\n",
      "[('c', 'http://www.wikidata.org/entity/Q11707'), ('category', 'restaurant'), ('UStrademarks', '7')]\n",
      "[('c', 'http://www.wikidata.org/entity/Q9759'), ('category', 'blues'), ('UStrademarks', '7')]\n",
      "[('c', 'http://www.wikidata.org/entity/Q638'), ('category', 'music'), ('UStrademarks', '6')]\n",
      "[('c', 'http://www.wikidata.org/entity/Q4899370'), ('category', 'beverage industry'), ('UStrademarks', '6')]\n",
      "[('c', 'http://www.wikidata.org/entity/Q862571'), ('category', 'petroleum industry'), ('UStrademarks', '6')]\n",
      "[('c', 'http://www.wikidata.org/entity/Q81799'), ('category', 'fast food'), ('UStrademarks', '5')]\n",
      "[('c', 'http://www.wikidata.org/entity/Q941594'), ('category', 'video game industry'), ('UStrademarks', '5')]\n",
      "[('c', 'http://www.wikidata.org/entity/Q83440'), ('category', 'country music'), ('UStrademarks', '5')]\n",
      "[('c', 'http://www.wikidata.org/entity/Q56598901'), ('category', 'mobile phone industry'), ('UStrademarks', '5')]\n"
     ]
    },
    {
     "data": {
      "text/plain": [
       "25"
      ]
     },
     "execution_count": 39,
     "metadata": {},
     "output_type": "execute_result"
    }
   ],
   "source": [
    "queryString = \"\"\"\n",
    "SELECT ?c ?category COUNT(DISTINCT ?t) AS ?UStrademarks\n",
    "WHERE { \n",
    "\n",
    "    ?t wdt:P31/wdt:P279* wd:Q167270;\n",
    "        wdt:P127|wdt:P749|wdt:P178|wdt:P176 ?o;\n",
    "        wdt:P452|wdt:P136 ?c.\n",
    "        \n",
    "    ?o  wdt:P17 wd:Q30;\n",
    "        wdt:P31 ?i.\n",
    "    \n",
    "    ?c <http://schema.org/name> ?category.\n",
    "    \n",
    "    FILTER(?i != wd:Q5).\n",
    "    \n",
    "}\n",
    "GROUP BY ?c ?category\n",
    "ORDER BY DESC(?UStrademarks)\n",
    "LIMIT 25\n",
    "\"\"\"\n",
    "\n",
    "print(\"Results\")\n",
    "run_query(queryString)"
   ]
  },
  {
   "cell_type": "markdown",
   "id": "2fde9e5d-7245-430e-9895-78b467796e1d",
   "metadata": {},
   "source": [
    "I can also retrieve the american companies with the highest number of trademarks."
   ]
  },
  {
   "cell_type": "code",
   "execution_count": 40,
   "id": "988da0ae-8e98-4a3a-85bf-08822a6bb00d",
   "metadata": {},
   "outputs": [
    {
     "name": "stdout",
     "output_type": "stream",
     "text": [
      "Results\n",
      "[('c', 'http://www.wikidata.org/entity/Q38903'), ('company', 'Universal Music Group'), ('trademarks', '125')]\n",
      "[('c', 'http://www.wikidata.org/entity/Q3295867'), ('company', 'The Coca-Cola Company'), ('trademarks', '75')]\n",
      "[('c', 'http://www.wikidata.org/entity/Q21077'), ('company', 'Warner Music Group'), ('trademarks', '74')]\n",
      "[('c', 'http://www.wikidata.org/entity/Q334800'), ('company', 'PepsiCo'), ('trademarks', '50')]\n",
      "[('c', 'http://www.wikidata.org/entity/Q12857502'), ('company', 'Mondelēz International'), ('trademarks', '42')]\n",
      "[('c', 'http://www.wikidata.org/entity/Q56760250'), ('company', 'Sony Music'), ('trademarks', '38')]\n",
      "[('c', 'http://www.wikidata.org/entity/Q327751'), ('company', 'Kraft Foods Group'), ('trademarks', '38')]\n",
      "[('c', 'http://www.wikidata.org/entity/Q212405'), ('company', 'Procter & Gamble'), ('trademarks', '32')]\n",
      "[('c', 'http://www.wikidata.org/entity/Q1056637'), ('company', 'The Hershey Company'), ('trademarks', '32')]\n",
      "[('c', 'http://www.wikidata.org/entity/Q856897'), ('company', \"Kellogg's\"), ('trademarks', '31')]\n",
      "[('c', 'http://www.wikidata.org/entity/Q19681433'), ('company', 'Kraft Heinz'), ('trademarks', '26')]\n",
      "[('c', 'http://www.wikidata.org/entity/Q248'), ('company', 'Intel'), ('trademarks', '20')]\n",
      "[('c', 'http://www.wikidata.org/entity/Q695087'), ('company', 'Mars, Incorporated'), ('trademarks', '20')]\n",
      "[('c', 'http://www.wikidata.org/entity/Q629998'), ('company', 'General Mills'), ('trademarks', '17')]\n",
      "[('c', 'http://www.wikidata.org/entity/Q1221751'), ('company', 'Frito-Lay'), ('trademarks', '16')]\n"
     ]
    },
    {
     "data": {
      "text/plain": [
       "15"
      ]
     },
     "execution_count": 40,
     "metadata": {},
     "output_type": "execute_result"
    }
   ],
   "source": [
    "queryString = \"\"\"\n",
    "SELECT ?c ?company COUNT(DISTINCT ?t) AS ?trademarks\n",
    "WHERE { \n",
    "\n",
    "    ?t wdt:P31/wdt:P279* wd:Q167270;\n",
    "        wdt:P127|wdt:P749|wdt:P178|wdt:P176 ?c.\n",
    "        \n",
    "    ?c  wdt:P17 wd:Q30;\n",
    "        wdt:P31 ?i.\n",
    "    \n",
    "    ?c <http://schema.org/name> ?company.\n",
    "    \n",
    "    FILTER(?i != wd:Q5).\n",
    "    \n",
    "}\n",
    "GROUP BY ?c ?company\n",
    "ORDER BY DESC(?trademarks)\n",
    "LIMIT 15\n",
    "\"\"\"\n",
    "\n",
    "print(\"Results\")\n",
    "run_query(queryString)"
   ]
  },
  {
   "cell_type": "markdown",
   "id": "287be924-3cde-4e7b-869d-fa4665dc6ec4",
   "metadata": {},
   "source": [
    "Since the first company produces films and musics I retrieve the categories of \"The Coca-Cola Company\"(wd:Q3295867) trademarks."
   ]
  },
  {
   "cell_type": "code",
   "execution_count": 41,
   "id": "bd155cd1-f7d7-4e13-8252-47fae397fa6a",
   "metadata": {},
   "outputs": [
    {
     "name": "stdout",
     "output_type": "stream",
     "text": [
      "Results\n",
      "[('c', 'http://www.wikidata.org/entity/Q4899370'), ('category', 'beverage industry'), ('CCtrademarks', '4')]\n",
      "[('c', 'http://www.wikidata.org/entity/Q171141'), ('category', 'gastronomy'), ('CCtrademarks', '1')]\n"
     ]
    },
    {
     "data": {
      "text/plain": [
       "2"
      ]
     },
     "execution_count": 41,
     "metadata": {},
     "output_type": "execute_result"
    }
   ],
   "source": [
    "queryString = \"\"\"\n",
    "SELECT ?c ?category COUNT(DISTINCT ?t) AS ?CCtrademarks\n",
    "WHERE { \n",
    "\n",
    "    ?t wdt:P31/wdt:P279* wd:Q167270;\n",
    "        wdt:P127|wdt:P749|wdt:P178|wdt:P176 wd:Q3295867;\n",
    "        wdt:P452|wdt:P136 ?c.\n",
    "    \n",
    "    ?c <http://schema.org/name> ?category.\n",
    "    \n",
    "}\n",
    "GROUP BY ?c ?category\n",
    "ORDER BY DESC(?CCtrademarks)\n",
    "LIMIT 15\n",
    "\"\"\"\n",
    "\n",
    "print(\"Results\")\n",
    "run_query(queryString)"
   ]
  },
  {
   "cell_type": "markdown",
   "id": "812ac7a5-e60d-4188-9604-462e647190f1",
   "metadata": {},
   "source": [
    "There are 75 trademarks owned by Coca-Cola howevere I retrieved only 5 of the with this query. I return all coca-cola's trademarks properties to see if I can find the category information elsewhere."
   ]
  },
  {
   "cell_type": "code",
   "execution_count": 42,
   "id": "7be62673-8add-49c5-9d71-bf3698a35f1e",
   "metadata": {},
   "outputs": [
    {
     "name": "stdout",
     "output_type": "stream",
     "text": [
      "Results\n",
      "[('p', 'http://www.wikidata.org/prop/direct/P31'), ('pname', 'instance of'), ('CCtrademarks', '75')]\n",
      "[('p', 'http://www.wikidata.org/prop/direct/P646'), ('pname', 'Freebase ID'), ('CCtrademarks', '71')]\n",
      "[('p', 'http://www.wikidata.org/prop/direct/P571'), ('pname', 'inception'), ('CCtrademarks', '63')]\n",
      "[('p', 'http://www.wikidata.org/prop/direct/P176'), ('pname', 'manufacturer'), ('CCtrademarks', '59')]\n",
      "[('p', 'http://www.wikidata.org/prop/direct/P495'), ('pname', 'country of origin'), ('CCtrademarks', '51')]\n",
      "[('p', 'http://www.wikidata.org/prop/direct/P856'), ('pname', 'official website'), ('CCtrademarks', '33')]\n",
      "[('p', 'http://www.wikidata.org/prop/direct/P373'), ('pname', 'Commons category'), ('CCtrademarks', '27')]\n",
      "[('p', 'http://www.wikidata.org/prop/direct/P18'), ('pname', 'image'), ('CCtrademarks', '23')]\n",
      "[('p', 'http://www.wikidata.org/prop/direct/P279'), ('pname', 'subclass of'), ('CCtrademarks', '18')]\n",
      "[('p', 'http://www.wikidata.org/prop/direct/P154'), ('pname', 'logo image'), ('CCtrademarks', '17')]\n",
      "[('p', 'http://www.wikidata.org/prop/direct/P127'), ('pname', 'owned by'), ('CCtrademarks', '16')]\n",
      "[('p', 'http://www.wikidata.org/prop/direct/P1716'), ('pname', 'brand'), ('CCtrademarks', '14')]\n",
      "[('p', 'http://www.wikidata.org/prop/direct/P3417'), ('pname', 'Quora topic ID'), ('CCtrademarks', '14')]\n",
      "[('p', 'http://www.wikidata.org/prop/direct/P2002'), ('pname', 'Twitter username'), ('CCtrademarks', '11')]\n",
      "[('p', 'http://www.wikidata.org/prop/direct/P527'), ('pname', 'has part'), ('CCtrademarks', '9')]\n",
      "[('p', 'http://www.wikidata.org/prop/direct/P8687'), ('pname', 'social media followers'), ('CCtrademarks', '9')]\n",
      "[('p', 'http://www.wikidata.org/prop/direct/P17'), ('pname', 'country'), ('CCtrademarks', '7')]\n",
      "[('p', 'http://www.wikidata.org/prop/direct/P1889'), ('pname', 'different from'), ('CCtrademarks', '7')]\n",
      "[('p', 'http://www.wikidata.org/prop/direct/P1417'), ('pname', 'Encyclopædia Britannica Online ID'), ('CCtrademarks', '7')]\n",
      "[('p', 'http://www.wikidata.org/prop/direct/P2003'), ('pname', 'Instagram username'), ('CCtrademarks', '6')]\n",
      "[('p', 'http://www.wikidata.org/prop/direct/P159'), ('pname', 'headquarters location'), ('CCtrademarks', '6')]\n",
      "[('p', 'http://www.wikidata.org/prop/direct/P749'), ('pname', 'parent organization'), ('CCtrademarks', '5')]\n",
      "[('p', 'http://www.wikidata.org/prop/direct/P452'), ('pname', 'industry'), ('CCtrademarks', '5')]\n",
      "[('p', 'http://www.wikidata.org/prop/direct/P8408'), ('pname', 'KBpedia ID'), ('CCtrademarks', '4')]\n",
      "[('p', 'http://www.wikidata.org/prop/direct/P9057'), ('pname', 'TheCocktailDB ingredient ID'), ('CCtrademarks', '4')]\n"
     ]
    },
    {
     "data": {
      "text/plain": [
       "25"
      ]
     },
     "execution_count": 42,
     "metadata": {},
     "output_type": "execute_result"
    }
   ],
   "source": [
    "queryString = \"\"\"\n",
    "SELECT ?p ?pname COUNT(DISTINCT ?t) AS ?CCtrademarks\n",
    "WHERE { \n",
    "\n",
    "    ?t wdt:P31/wdt:P279* wd:Q167270;\n",
    "        wdt:P127|wdt:P749|wdt:P178|wdt:P176 wd:Q3295867;\n",
    "        ?p ?o.\n",
    "    \n",
    "    ?p <http://schema.org/name> ?pname.\n",
    "    \n",
    "}\n",
    "GROUP BY ?p ?pname\n",
    "ORDER BY DESC(?CCtrademarks)\n",
    "LIMIT 25\n",
    "\"\"\"\n",
    "\n",
    "print(\"Results\")\n",
    "run_query(queryString)"
   ]
  },
  {
   "cell_type": "markdown",
   "id": "d483d64f-c8d1-4144-8fb1-e34b33c2ab74",
   "metadata": {},
   "source": [
    "I assess I miss the type information however I can see the most ancient trademarks Coca-Cola owns with the property \"inception\"(wdt:P571)."
   ]
  },
  {
   "cell_type": "code",
   "execution_count": 43,
   "id": "4de18d7c-aa7c-40e2-bec7-ca392c674530",
   "metadata": {},
   "outputs": [
    {
     "name": "stdout",
     "output_type": "stream",
     "text": [
      "Results\n",
      "[('trademark', \"Barq's\"), ('inception', '1842-01-01T00:00:00Z')]\n",
      "[('trademark', 'Coca-Cola'), ('inception', '1886-05-08T00:00:00Z')]\n",
      "[('trademark', 'Kia-Ora'), ('inception', '1903-01-01T00:00:00Z')]\n",
      "[('trademark', 'Fanta'), ('inception', '1940-01-01T00:00:00Z')]\n",
      "[('trademark', 'Minute Maid'), ('inception', '1945-01-01T00:00:00Z')]\n",
      "[('trademark', 'Gold Spot'), ('inception', '1952-01-01T00:00:00Z')]\n",
      "[('trademark', 'Sprite'), ('inception', '1961-01-01T00:00:00Z')]\n",
      "[('trademark', 'Tab'), ('inception', '1963-01-01T00:00:00Z')]\n",
      "[('trademark', 'Fresca'), ('inception', '1966-01-01T00:00:00Z')]\n",
      "[('trademark', 'Leed'), ('inception', '1967-01-01T00:00:00Z')]\n",
      "[('trademark', 'Costa Coffee'), ('inception', '1971-01-01T00:00:00Z')]\n",
      "[('trademark', 'Pibb Xtra'), ('inception', '1972-01-01T00:00:00Z')]\n",
      "[('trademark', 'Lilt'), ('inception', '1975-01-01T00:00:00Z')]\n",
      "[('trademark', 'Iron Brew'), ('inception', '1975-01-01T00:00:00Z')]\n",
      "[('trademark', 'Maaza'), ('inception', '1976-01-01T00:00:00Z')]\n",
      "[('trademark', 'Thums Up'), ('inception', '1977-01-01T00:00:00Z')]\n",
      "[('trademark', 'Limca'), ('inception', '1977-01-01T00:00:00Z')]\n",
      "[('trademark', 'Mello Yello'), ('inception', '1979-03-01T00:00:00Z')]\n",
      "[('trademark', 'Odwalla'), ('inception', '1980-01-01T00:00:00Z')]\n",
      "[('trademark', 'Citra'), ('inception', '1980-01-01T00:00:00Z')]\n",
      "[('trademark', 'Ambasa'), ('inception', '1982-01-01T00:00:00Z')]\n",
      "[('trademark', 'Quatro'), ('inception', '1982-01-01T00:00:00Z')]\n",
      "[('trademark', 'Diet Coke'), ('inception', '1982-01-01T00:00:00Z')]\n",
      "[('trademark', 'Aquarius'), ('inception', '1983-01-01T00:00:00Z')]\n",
      "[('trademark', 'Amita'), ('inception', '1983-01-01T00:00:00Z')]\n"
     ]
    },
    {
     "data": {
      "text/plain": [
       "25"
      ]
     },
     "execution_count": 43,
     "metadata": {},
     "output_type": "execute_result"
    }
   ],
   "source": [
    "queryString = \"\"\"\n",
    "SELECT DISTINCT ?trademark ?inception\n",
    "WHERE { \n",
    "\n",
    "    ?t wdt:P31/wdt:P279* wd:Q167270;\n",
    "        wdt:P127|wdt:P749|wdt:P178|wdt:P176 wd:Q3295867;\n",
    "        wdt:P571 ?inception.\n",
    "        \n",
    "    ?t <http://schema.org/name> ?trademark.\n",
    "    \n",
    "}\n",
    "ORDER BY ?inception\n",
    "LIMIT 25\n",
    "\"\"\"\n",
    "\n",
    "print(\"Results\")\n",
    "run_query(queryString)"
   ]
  },
  {
   "cell_type": "markdown",
   "id": "6701c234-87f3-4580-9e43-06496d993d5d",
   "metadata": {
    "tags": []
   },
   "source": [
    "### People connected to trademarks\n",
    "_How many people hold or are connected to trademarks? In which role?_\n",
    "\n",
    "I recall I can filter the owners of a trademark that are instance of \"human\"(wd:Q5). Firstly I return the number of trademarks held by a person."
   ]
  },
  {
   "cell_type": "code",
   "execution_count": 44,
   "id": "23d857d8-b63d-47bc-9351-204241b52e11",
   "metadata": {},
   "outputs": [
    {
     "name": "stdout",
     "output_type": "stream",
     "text": [
      "Results\n",
      "[('peopleTrademarks', '223')]\n"
     ]
    },
    {
     "data": {
      "text/plain": [
       "1"
      ]
     },
     "execution_count": 44,
     "metadata": {},
     "output_type": "execute_result"
    }
   ],
   "source": [
    "queryString = \"\"\"\n",
    "SELECT COUNT(DISTINCT ?t) AS ?peopleTrademarks\n",
    "WHERE { \n",
    "\n",
    "    ?t wdt:P31/wdt:P279* wd:Q167270;\n",
    "        wdt:P127|wdt:P749|wdt:P178|wdt:P176 ?p.\n",
    "    \n",
    "    ?p wdt:P31 wd:Q5.\n",
    "    \n",
    "}\n",
    "\"\"\"\n",
    "\n",
    "print(\"Results\")\n",
    "run_query(queryString)"
   ]
  },
  {
   "cell_type": "markdown",
   "id": "04b34c7e-935e-46e4-a628-d046acc3b92e",
   "metadata": {},
   "source": [
    "I return such people properties in order to see how to retrieve the information about their role."
   ]
  },
  {
   "cell_type": "code",
   "execution_count": 45,
   "id": "32e80d12-b554-4cf4-9105-37f68ee8ccbc",
   "metadata": {},
   "outputs": [
    {
     "name": "stdout",
     "output_type": "stream",
     "text": [
      "Results\n",
      "[('prop', 'http://www.wikidata.org/prop/direct/P106'), ('pname', 'occupation'), ('people', '739')]\n",
      "[('prop', 'http://www.wikidata.org/prop/direct/P735'), ('pname', 'given name'), ('people', '391')]\n",
      "[('prop', 'http://www.wikidata.org/prop/direct/P7859'), ('pname', 'WorldCat Identities ID'), ('people', '284')]\n",
      "[('prop', 'http://www.wikidata.org/prop/direct/P21'), ('pname', 'sex or gender'), ('people', '251')]\n",
      "[('prop', 'http://www.wikidata.org/prop/direct/P19'), ('pname', 'place of birth'), ('people', '226')]\n",
      "[('prop', 'http://www.wikidata.org/prop/direct/P1412'), ('pname', 'languages spoken, written or signed'), ('people', '205')]\n",
      "[('prop', 'http://www.wikidata.org/prop/direct/P1830'), ('pname', 'owner of'), ('people', '182')]\n",
      "[('prop', 'http://www.wikidata.org/prop/direct/P18'), ('pname', 'image'), ('people', '156')]\n",
      "[('prop', 'http://www.wikidata.org/prop/direct/P734'), ('pname', 'family name'), ('people', '145')]\n",
      "[('prop', 'http://www.wikidata.org/prop/direct/P937'), ('pname', 'work location'), ('people', '122')]\n",
      "[('prop', 'http://www.wikidata.org/prop/direct/P7902'), ('pname', 'Deutsche Biographie (GND) ID'), ('people', '122')]\n",
      "[('prop', 'http://www.wikidata.org/prop/direct/P20'), ('pname', 'place of death'), ('people', '112')]\n",
      "[('prop', 'http://www.wikidata.org/prop/direct/P1343'), ('pname', 'described by source'), ('people', '103')]\n",
      "[('prop', 'http://www.wikidata.org/prop/direct/P214'), ('pname', 'VIAF ID'), ('people', '103')]\n",
      "[('prop', 'http://www.wikidata.org/prop/direct/P1006'), ('pname', 'Nationale Thesaurus voor Auteurs ID'), ('people', '102')]\n",
      "[('prop', 'http://www.wikidata.org/prop/direct/P166'), ('pname', 'award received'), ('people', '97')]\n",
      "[('prop', 'http://www.wikidata.org/prop/direct/P800'), ('pname', 'notable work'), ('people', '81')]\n",
      "[('prop', 'http://www.wikidata.org/prop/direct/P31'), ('pname', 'instance of'), ('people', '81')]\n",
      "[('prop', 'http://www.wikidata.org/prop/direct/P22'), ('pname', 'father'), ('people', '77')]\n",
      "[('prop', 'http://www.wikidata.org/prop/direct/P213'), ('pname', 'ISNI'), ('people', '77')]\n",
      "[('prop', 'http://www.wikidata.org/prop/direct/P7763'), ('pname', 'copyright status as a creator'), ('people', '77')]\n",
      "[('prop', 'http://www.wikidata.org/prop/direct/P569'), ('pname', 'date of birth'), ('people', '71')]\n",
      "[('prop', 'http://www.wikidata.org/prop/direct/P27'), ('pname', 'country of citizenship'), ('people', '69')]\n",
      "[('prop', 'http://www.wikidata.org/prop/direct/P646'), ('pname', 'Freebase ID'), ('people', '68')]\n",
      "[('prop', 'http://www.wikidata.org/prop/direct/P950'), ('pname', 'Biblioteca Nacional de España ID'), ('people', '68')]\n"
     ]
    },
    {
     "data": {
      "text/plain": [
       "25"
      ]
     },
     "execution_count": 45,
     "metadata": {},
     "output_type": "execute_result"
    }
   ],
   "source": [
    "queryString = \"\"\"\n",
    "SELECT ?prop ?pname COUNT(DISTINCT ?p) AS ?people\n",
    "WHERE { \n",
    "\n",
    "    ?t wdt:P31/wdt:P279* wd:Q167270;\n",
    "        wdt:P127|wdt:P749|wdt:P178|wdt:P176 ?p.\n",
    "    \n",
    "    ?p wdt:P31 wd:Q5;\n",
    "        ?prop ?obj.\n",
    "        \n",
    "    ?prop <http://schema.org/name> ?pname.\n",
    "    \n",
    "}\n",
    "GROUP BY ?prop ?pname\n",
    "ORDER BY DESC(?people)\n",
    "LIMIT 25\n",
    "\"\"\"\n",
    "\n",
    "print(\"Results\")\n",
    "run_query(queryString)"
   ]
  },
  {
   "cell_type": "markdown",
   "id": "a40adc8c-013d-4c20-ad0e-35e2fb1df514",
   "metadata": {},
   "source": [
    "I can return who is the owner of the highest number of trademarks by means of the property \"owner of\" (wdt:P1830)."
   ]
  },
  {
   "cell_type": "code",
   "execution_count": 46,
   "id": "fea5e911-41d1-4d1f-96b2-31f6857bbfb3",
   "metadata": {},
   "outputs": [
    {
     "name": "stdout",
     "output_type": "stream",
     "text": [
      "Results\n",
      "[('p', 'http://www.wikidata.org/entity/Q30201990'), ('person', 'Pedro Fernando'), ('trademarks', '6')]\n",
      "[('p', 'http://www.wikidata.org/entity/Q3170637'), ('person', 'Jean Baud'), ('trademarks', '2')]\n",
      "[('p', 'http://www.wikidata.org/entity/Q105455093'), ('person', 'Sadoc Vazkez'), ('trademarks', '2')]\n",
      "[('p', 'http://www.wikidata.org/entity/Q6524850'), ('person', 'Leon René'), ('trademarks', '2')]\n",
      "[('p', 'http://www.wikidata.org/entity/Q62766'), ('person', 'JAY-Z'), ('trademarks', '2')]\n",
      "[('p', 'http://www.wikidata.org/entity/Q65551875'), ('person', 'Aki Roukala'), ('trademarks', '2')]\n",
      "[('p', 'http://www.wikidata.org/entity/Q61249179'), ('person', 'Alexander Julien'), ('trademarks', '2')]\n",
      "[('p', 'http://www.wikidata.org/entity/Q7108819'), ('person', 'Otis René'), ('trademarks', '2')]\n",
      "[('p', 'http://www.wikidata.org/entity/Q105961166'), ('person', 'Jean-Marie Mazard'), ('trademarks', '1')]\n",
      "[('p', 'http://www.wikidata.org/entity/Q289647'), ('person', 'David Ellefson'), ('trademarks', '1')]\n",
      "[('p', 'http://www.wikidata.org/entity/Q105418'), ('person', 'Carl von Opel'), ('trademarks', '1')]\n",
      "[('p', 'http://www.wikidata.org/entity/Q15877067'), ('person', 'Johanna Titselaar'), ('trademarks', '1')]\n",
      "[('p', 'http://www.wikidata.org/entity/Q636'), ('person', 'Kate Bush'), ('trademarks', '1')]\n",
      "[('p', 'http://www.wikidata.org/entity/Q5229393'), ('person', 'Dave Miller'), ('trademarks', '1')]\n",
      "[('p', 'http://www.wikidata.org/entity/Q106120912'), ('person', \"Michael D'Aversa\"), ('trademarks', '1')]\n"
     ]
    },
    {
     "data": {
      "text/plain": [
       "15"
      ]
     },
     "execution_count": 46,
     "metadata": {},
     "output_type": "execute_result"
    }
   ],
   "source": [
    "queryString = \"\"\"\n",
    "SELECT ?p ?person COUNT(DISTINCT ?t) AS ?trademarks\n",
    "WHERE { \n",
    "\n",
    "    ?t wdt:P31/wdt:P279* wd:Q167270.\n",
    "    \n",
    "    ?p wdt:P31 wd:Q5;\n",
    "       wdt:P1830 ?t.\n",
    "        \n",
    "    ?p <http://schema.org/name> ?person.\n",
    "    \n",
    "}\n",
    "GROUP BY ?p ?person\n",
    "ORDER BY DESC(?trademarks)\n",
    "LIMIT 15\n",
    "\"\"\"\n",
    "\n",
    "print(\"Results\")\n",
    "run_query(queryString)"
   ]
  },
  {
   "cell_type": "markdown",
   "id": "5a811d65-c659-42b8-83b6-9afe9ccef031",
   "metadata": {},
   "source": [
    "Since the number of trademarks is managable I can also concatenate their trademarks."
   ]
  },
  {
   "cell_type": "code",
   "execution_count": 47,
   "id": "1e5d0986-cfb7-4eb7-8125-78bfbfc94720",
   "metadata": {},
   "outputs": [
    {
     "name": "stdout",
     "output_type": "stream",
     "text": [
      "Results\n",
      "[('p', 'http://www.wikidata.org/entity/Q30201990'), ('person', 'Pedro Fernando'), ('numTMs', '6'), ('trademarks', 'B.C Rappers; Coca Overdose Kaizen Entertainment; FCMG; Lo-fi Worldwide; TDN Entertainment; TVY Entertainment')]\n",
      "[('p', 'http://www.wikidata.org/entity/Q3170637'), ('person', 'Jean Baud'), ('numTMs', '2'), ('trademarks', 'Franprix; Leader Price')]\n",
      "[('p', 'http://www.wikidata.org/entity/Q105455093'), ('person', 'Sadoc Vazkez'), ('numTMs', '2'), ('trademarks', 'Sadoc Vazkez Music Records, Inc.; Universal Academy Records')]\n",
      "[('p', 'http://www.wikidata.org/entity/Q6524850'), ('person', 'Leon René'), ('numTMs', '2'), ('trademarks', 'Excelsior Records; Exclusive')]\n",
      "[('p', 'http://www.wikidata.org/entity/Q62766'), ('person', 'JAY-Z'), ('numTMs', '2'), ('trademarks', '40/40 Club; Roc Nation')]\n",
      "[('p', 'http://www.wikidata.org/entity/Q65551875'), ('person', 'Aki Roukala'), ('numTMs', '2'), ('trademarks', 'Is This Art!; Kioski')]\n",
      "[('p', 'http://www.wikidata.org/entity/Q61249179'), ('person', 'Alexander Julien'), ('numTMs', '2'), ('trademarks', 'Abridged Pause Recordings; Mortification Records')]\n",
      "[('p', 'http://www.wikidata.org/entity/Q7108819'), ('person', 'Otis René'), ('numTMs', '2'), ('trademarks', 'Excelsior Records; Exclusive')]\n",
      "[('p', 'http://www.wikidata.org/entity/Q105961166'), ('person', 'Jean-Marie Mazard'), ('numTMs', '1'), ('trademarks', 'Prénatal')]\n",
      "[('p', 'http://www.wikidata.org/entity/Q289647'), ('person', 'David Ellefson'), ('numTMs', '1'), ('trademarks', 'Hail Sagan')]\n",
      "[('p', 'http://www.wikidata.org/entity/Q105418'), ('person', 'Carl von Opel'), ('numTMs', '1'), ('trademarks', 'Opel')]\n",
      "[('p', 'http://www.wikidata.org/entity/Q15877067'), ('person', 'Johanna Titselaar'), ('numTMs', '1'), ('trademarks', 'Gem Kingdom')]\n",
      "[('p', 'http://www.wikidata.org/entity/Q636'), ('person', 'Kate Bush'), ('numTMs', '1'), ('trademarks', 'Noble & Brite')]\n",
      "[('p', 'http://www.wikidata.org/entity/Q5229393'), ('person', 'Dave Miller'), ('numTMs', '1'), ('trademarks', 'Somerset Records')]\n",
      "[('p', 'http://www.wikidata.org/entity/Q106120912'), ('person', \"Michael D'Aversa\"), ('numTMs', '1'), ('trademarks', \"Nino D'Aversa Bakery\")]\n"
     ]
    },
    {
     "data": {
      "text/plain": [
       "15"
      ]
     },
     "execution_count": 47,
     "metadata": {},
     "output_type": "execute_result"
    }
   ],
   "source": [
    "queryString = \"\"\"\n",
    "SELECT ?p ?person COUNT(DISTINCT ?t) AS ?numTMs \n",
    "                  GROUP_CONCAT(DISTINCT ?trademark; separator=\"; \") AS ?trademarks\n",
    "WHERE { \n",
    "\n",
    "    ?t wdt:P31/wdt:P279* wd:Q167270.\n",
    "    \n",
    "    ?p wdt:P31 wd:Q5;\n",
    "       wdt:P1830 ?t.\n",
    "        \n",
    "    ?p <http://schema.org/name> ?person.\n",
    "    ?t <http://schema.org/name> ?trademark\n",
    "    \n",
    "}\n",
    "GROUP BY ?p ?person\n",
    "ORDER BY DESC(?numTMs)\n",
    "LIMIT 15\n",
    "\"\"\"\n",
    "\n",
    "print(\"Results\")\n",
    "run_query(queryString)"
   ]
  },
  {
   "cell_type": "markdown",
   "id": "a6ac3dbf-cd86-422e-ae54-17ae2c48b78b",
   "metadata": {},
   "source": [
    "I notice most of them owns company records or record labels. I can also count how many trademarks are related to male and female people by means of the property \"sex or gender\"(wdt:P21)."
   ]
  },
  {
   "cell_type": "code",
   "execution_count": 48,
   "id": "f4f0af39-5cee-474e-9d02-f6b931a35dcb",
   "metadata": {},
   "outputs": [
    {
     "name": "stdout",
     "output_type": "stream",
     "text": [
      "Results\n",
      "[('gender', 'male'), ('trademarks', '10093')]\n",
      "[('gender', 'female'), ('trademarks', '1284')]\n"
     ]
    },
    {
     "data": {
      "text/plain": [
       "2"
      ]
     },
     "execution_count": 48,
     "metadata": {},
     "output_type": "execute_result"
    }
   ],
   "source": [
    "queryString = \"\"\"\n",
    "SELECT ?gender COUNT(DISTINCT ?t) AS ?trademarks\n",
    "WHERE { \n",
    "\n",
    "    ?t wdt:P31/wdt:P279* wd:Q167270;\n",
    "        wdt:P127|wdt:P749|wdt:P178|wdt:P176 ?p.\n",
    "    \n",
    "    ?p wdt:P31 wd:Q5;\n",
    "       wdt:P21 ?g.\n",
    "       \n",
    "    ?g <http://schema.org/name> ?gender.\n",
    "    \n",
    "}\n",
    "GROUP BY ?gender\n",
    "ORDER BY DESC(?trademarks)\n",
    "\"\"\"\n",
    "\n",
    "print(\"Results\")\n",
    "run_query(queryString)"
   ]
  },
  {
   "cell_type": "markdown",
   "id": "93c1fc50-47b5-4826-958d-cf15054ee116",
   "metadata": {},
   "source": [
    "As expected female trademark owners are 1/10 with respect to male trademark owners.\n",
    "\n",
    "In the end I can return the country of citizenship of the people who has the highest number of trademarks by means of the property \"country of citizenship\" (wdt:P27)."
   ]
  },
  {
   "cell_type": "code",
   "execution_count": 49,
   "id": "8391b5e0-af09-417e-a73a-85055c113493",
   "metadata": {},
   "outputs": [
    {
     "name": "stdout",
     "output_type": "stream",
     "text": [
      "Results\n",
      "[('c', 'http://www.wikidata.org/entity/Q29'), ('country', 'Spain'), ('trademarks', '1720')]\n",
      "[('c', 'http://www.wikidata.org/entity/Q30'), ('country', 'United States of America'), ('trademarks', '1449')]\n",
      "[('c', 'http://www.wikidata.org/entity/Q31'), ('country', 'Belgium'), ('trademarks', '1028')]\n",
      "[('c', 'http://www.wikidata.org/entity/Q29999'), ('country', 'Kingdom of the Netherlands'), ('trademarks', '967')]\n",
      "[('c', 'http://www.wikidata.org/entity/Q142'), ('country', 'France'), ('trademarks', '784')]\n",
      "[('c', 'http://www.wikidata.org/entity/Q174193'), ('country', 'United Kingdom of Great Britain and Ireland'), ('trademarks', '463')]\n",
      "[('c', 'http://www.wikidata.org/entity/Q55'), ('country', 'Netherlands'), ('trademarks', '345')]\n",
      "[('c', 'http://www.wikidata.org/entity/Q183'), ('country', 'Germany'), ('trademarks', '315')]\n",
      "[('c', 'http://www.wikidata.org/entity/Q34'), ('country', 'Sweden'), ('trademarks', '310')]\n",
      "[('c', 'http://www.wikidata.org/entity/Q145'), ('country', 'United Kingdom'), ('trademarks', '279')]\n",
      "[('c', 'http://www.wikidata.org/entity/Q21'), ('country', 'England'), ('trademarks', '236')]\n",
      "[('c', 'http://www.wikidata.org/entity/Q28513'), ('country', 'Austria-Hungary'), ('trademarks', '201')]\n",
      "[('c', 'http://www.wikidata.org/entity/Q170072'), ('country', 'Dutch Republic'), ('trademarks', '201')]\n",
      "[('c', 'http://www.wikidata.org/entity/Q131964'), ('country', 'Austrian Empire'), ('trademarks', '184')]\n",
      "[('c', 'http://www.wikidata.org/entity/Q161885'), ('country', 'Great Britain'), ('trademarks', '158')]\n"
     ]
    },
    {
     "data": {
      "text/plain": [
       "15"
      ]
     },
     "execution_count": 49,
     "metadata": {},
     "output_type": "execute_result"
    }
   ],
   "source": [
    "queryString = \"\"\"\n",
    "SELECT ?c ?country COUNT(DISTINCT ?t) AS ?trademarks\n",
    "WHERE { \n",
    "\n",
    "    ?t wdt:P31/wdt:P279* wd:Q167270;\n",
    "        wdt:P127|wdt:P749|wdt:P178|wdt:P176 ?p.\n",
    "    \n",
    "    ?p wdt:P31 wd:Q5;\n",
    "       wdt:P27 ?c.\n",
    "       \n",
    "    ?c <http://schema.org/name> ?country.\n",
    "    \n",
    "}\n",
    "GROUP BY ?c ?country\n",
    "ORDER BY DESC(?trademarks)\n",
    "LIMIT 15\n",
    "\"\"\"\n",
    "\n",
    "print(\"Results\")\n",
    "run_query(queryString)"
   ]
  },
  {
   "cell_type": "markdown",
   "id": "9c71f386-b7dd-4bf3-8124-c69bebc85dfa",
   "metadata": {},
   "source": [
    "Unexpectedly Spain(wd:Q29) is the country of citizenships with most trademarks related to people."
   ]
  },
  {
   "cell_type": "markdown",
   "id": "cfc3e6fe-19eb-409c-b975-f9c0363bb12d",
   "metadata": {
    "tags": []
   },
   "source": [
    "### Sector with the highest number of trademarks\n",
    "_In which sector there is the highest number of trademarks?_\n",
    "\n",
    "I recall I found the BGP to connect each trademark with each category in the second section. I can return the categories with the highest number of trademarks."
   ]
  },
  {
   "cell_type": "code",
   "execution_count": 50,
   "id": "01e39620-e09d-423d-8806-2873a1df3500",
   "metadata": {},
   "outputs": [
    {
     "name": "stdout",
     "output_type": "stream",
     "text": [
      "Results\n",
      "[('c', 'http://www.wikidata.org/entity/Q126793'), ('category', 'retail'), ('trademarks', '795')]\n",
      "[('c', 'http://www.wikidata.org/entity/Q8341'), ('category', 'jazz'), ('trademarks', '791')]\n",
      "[('c', 'http://www.wikidata.org/entity/Q190117'), ('category', 'automotive industry'), ('trademarks', '504')]\n",
      "[('c', 'http://www.wikidata.org/entity/Q38848'), ('category', 'heavy metal'), ('trademarks', '316')]\n",
      "[('c', 'http://www.wikidata.org/entity/Q581105'), ('category', 'consumer electronics'), ('trademarks', '227')]\n",
      "[('c', 'http://www.wikidata.org/entity/Q11401'), ('category', 'hip hop music'), ('trademarks', '196')]\n",
      "[('c', 'http://www.wikidata.org/entity/Q869095'), ('category', 'brewing'), ('trademarks', '185')]\n",
      "[('c', 'http://www.wikidata.org/entity/Q746359'), ('category', 'music industry'), ('trademarks', '184')]\n",
      "[('c', 'http://www.wikidata.org/entity/Q11707'), ('category', 'restaurant'), ('trademarks', '174')]\n",
      "[('c', 'http://www.wikidata.org/entity/Q171141'), ('category', 'gastronomy'), ('trademarks', '124')]\n",
      "[('c', 'http://www.wikidata.org/entity/Q11828862'), ('category', 'clothing industry'), ('trademarks', '98')]\n",
      "[('c', 'http://www.wikidata.org/entity/Q540912'), ('category', 'food industry'), ('trademarks', '82')]\n",
      "[('c', 'http://www.wikidata.org/entity/Q173799'), ('category', 'entertainment'), ('trademarks', '81')]\n",
      "[('c', 'http://www.wikidata.org/entity/Q37073'), ('category', 'pop music'), ('trademarks', '76')]\n",
      "[('c', 'http://www.wikidata.org/entity/Q81799'), ('category', 'fast food'), ('trademarks', '73')]\n",
      "[('c', 'http://www.wikidata.org/entity/Q3071'), ('category', 'punk rock'), ('trademarks', '72')]\n",
      "[('c', 'http://www.wikidata.org/entity/Q11399'), ('category', 'rock music'), ('trademarks', '72')]\n",
      "[('c', 'http://www.wikidata.org/entity/Q638'), ('category', 'music'), ('trademarks', '70')]\n",
      "[('c', 'http://www.wikidata.org/entity/Q941594'), ('category', 'video game industry'), ('trademarks', '63')]\n",
      "[('c', 'http://www.wikidata.org/entity/Q107601756'), ('category', 'food and tobacco industry'), ('trademarks', '54')]\n",
      "[('c', 'http://www.wikidata.org/entity/Q1495452'), ('category', 'hospitality industry'), ('trademarks', '54')]\n",
      "[('c', 'http://www.wikidata.org/entity/Q45981'), ('category', 'rhythm and blues'), ('trademarks', '43')]\n",
      "[('c', 'http://www.wikidata.org/entity/Q9778'), ('category', 'electronic music'), ('trademarks', '42')]\n",
      "[('c', 'http://www.wikidata.org/entity/Q41958'), ('category', 'foodservice'), ('trademarks', '42')]\n",
      "[('c', 'http://www.wikidata.org/entity/Q10302058'), ('category', 'phonographic industry'), ('trademarks', '42')]\n"
     ]
    },
    {
     "data": {
      "text/plain": [
       "25"
      ]
     },
     "execution_count": 50,
     "metadata": {},
     "output_type": "execute_result"
    }
   ],
   "source": [
    "queryString = \"\"\"\n",
    "SELECT ?c ?category COUNT(DISTINCT ?t) AS ?trademarks\n",
    "WHERE { \n",
    "\n",
    "    ?t wdt:P31/wdt:P279* wd:Q167270;\n",
    "        wdt:P452|wdt:P136 ?c.\n",
    "        \n",
    "    ?c <http://schema.org/name> ?category.   \n",
    "        \n",
    "}\n",
    "GROUP BY ?c ?category\n",
    "ORDER BY DESC(?trademarks)\n",
    "LIMIT 25\n",
    "\"\"\"\n",
    "\n",
    "print(\"Results\")\n",
    "run_query(queryString)"
   ]
  },
  {
   "cell_type": "code",
   "execution_count": null,
   "id": "0478d09a-df68-4abc-82be-4dacbb926fe8",
   "metadata": {},
   "outputs": [],
   "source": []
  }
 ],
 "metadata": {
  "kernelspec": {
   "display_name": "Python 3",
   "language": "python",
   "name": "python3"
  },
  "language_info": {
   "codemirror_mode": {
    "name": "ipython",
    "version": 3
   },
   "file_extension": ".py",
   "mimetype": "text/x-python",
   "name": "python",
   "nbconvert_exporter": "python",
   "pygments_lexer": "ipython3",
   "version": "3.7.10"
  }
 },
 "nbformat": 4,
 "nbformat_minor": 5
}
