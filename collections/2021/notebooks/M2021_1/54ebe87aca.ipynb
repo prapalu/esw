{
 "cells": [
  {
   "cell_type": "markdown",
   "id": "7034c3bf-6eb0-4418-8687-7b9d2a501103",
   "metadata": {},
   "source": [
    "# General instructions\n",
    "\n",
    "The goal of the project is to materialize a set of **exploratory workloads** over a real-world, large-scale,  open-domain KG: [WikiData](https://www.wikidata.org/wiki/Wikidata:Main_Page)\n",
    "\n",
    "An exploratory workload  is composed by a set of queries, where each query is related to the information obtained previously.\n",
    "\n",
    "An exploratory workload starts with a usually vague, open ended question, and does not assume the person issuing the workload has a clear understanding of the data contained in the target database or its structure.\n",
    "\n",
    "Remeber that:\n",
    "\n",
    "1. All the queries must run in the python notebook\n",
    "2. You can use classes and properties only if you find them via a SPARQL query that must be present in the notebook\n",
    "3. You do not delete useless queries. Keep everything that is synthatically valid \n",
    "\n",
    "```\n",
    "?p <http://schema.org/name> ?name .\n",
    "```\n",
    "    \n",
    "is the BGP returning a human-readable name of a property or a class in Wikidata.\n",
    "    \n",
    "    "
   ]
  },
  {
   "cell_type": "code",
   "execution_count": 1,
   "id": "3605c9d5-5371-49a5-be8d-d66e8f417139",
   "metadata": {},
   "outputs": [],
   "source": [
    "## SETUP used later\n",
    "\n",
    "from SPARQLWrapper import SPARQLWrapper, JSON\n",
    "\n",
    "\n",
    "prefixString = \"\"\"\n",
    "##-54ebe87aca-##\n",
    "PREFIX wd: <http://www.wikidata.org/entity/> \n",
    "PREFIX wdt: <http://www.wikidata.org/prop/direct/> \n",
    "PREFIX sc: <http://schema.org/>\n",
    "\"\"\"\n",
    "\n",
    "# select and construct queries\n",
    "def run_query(queryString):\n",
    "    to_run = prefixString + \"\\n\" + queryString\n",
    "\n",
    "    sparql = SPARQLWrapper(\"http://a256-gc1-02.srv.aau.dk:5820/sparql\")\n",
    "    sparql.setTimeout(300)\n",
    "    sparql.setReturnFormat(JSON)\n",
    "    sparql.setQuery(to_run)\n",
    "\n",
    "    try :\n",
    "       results = sparql.query()\n",
    "       json_results = results.convert()\n",
    "       if len(json_results['results']['bindings'])==0:\n",
    "          print(\"Empty\")\n",
    "          return 0\n",
    "    \n",
    "       for bindings in json_results['results']['bindings']:\n",
    "          print( [ (var, value['value'])  for var, value in bindings.items() ] )\n",
    "\n",
    "       return len(json_results['results']['bindings'])\n",
    "\n",
    "    except Exception as e :\n",
    "        print(\"The operation failed\", e)\n",
    "    \n",
    "# ASk queries\n",
    "def run_ask_query(queryString):\n",
    "    to_run = prefixString + \"\\n\" + queryString\n",
    "\n",
    "    sparql = SPARQLWrapper(\"http://a256-gc1-02.srv.aau.dk:5820/sparql\")\n",
    "    sparql.setTimeout(300)\n",
    "    sparql.setReturnFormat(JSON)\n",
    "    sparql.setQuery(to_run)\n",
    "\n",
    "    try :\n",
    "        return sparql.query().convert()\n",
    "\n",
    "    except Exception as e :\n",
    "        print(\"The operation failed\", e)\n"
   ]
  },
  {
   "cell_type": "markdown",
   "id": "d477a59c-a68c-4c8f-9f97-8ca5294d7d27",
   "metadata": {},
   "source": [
    "# GEO Workflow Series (\"American Architects\") \n",
    "\n",
    "Consider the following exploratory information need:\n",
    "\n",
    "> You want to study the most prolific american architects"
   ]
  },
  {
   "cell_type": "markdown",
   "id": "4a45c0ba-f79e-441d-bec5-84401b09db70",
   "metadata": {},
   "source": [
    "## Useful URIs for the current workflow\n",
    "\n",
    "\n",
    "The following are given:\n",
    "\n",
    "| IRI           | Description   | Role      |\n",
    "| -----------   | -----------   |-----------|\n",
    "| `wdt:P1647`   | subproperty   | predicate |\n",
    "| `wdt:P31`     | instance of   | predicate |\n",
    "| `wdt:P279`    | subclass      | predicate |\n",
    "| `wdt:P106`    | occupation    | predicate |\n",
    "| `wdt:P17`     | country       | predicate |\n",
    "| `wdt:P27`     | citizenship   | predicate |\n",
    "| `wd:Q5604`    | Frank Lloyd Wright     | node      |\n",
    "| `wd:Q30`      | U.S.A.        | node |\n",
    "| `wd:Q42973`   | architect     | node |\n",
    "| `wd:Q2081276` | Pettit Memorial Chapel        | node |\n",
    "| `wd:Q2977`    | Cathedral     | node |\n",
    "\n",
    "\n",
    "\n",
    "Also consider\n",
    "\n",
    "```\n",
    "?p wdt:P27 wd:Q30  . \n",
    "?p wdt:P106 wd:Q42973  . \n",
    "```\n",
    "\n",
    "is the BGP to retrieve all **american architects**"
   ]
  },
  {
   "cell_type": "markdown",
   "id": "7af439fb-96e4-4dbb-a381-f19afab79f86",
   "metadata": {
    "tags": []
   },
   "source": [
    "## Workload Goals\n",
    "\n",
    "1. Identify the BGP to obtain the notable works of an architect and their location\n",
    "\n",
    "2. Identify the BGP that connect a building with its architect, type, and architectural style\n",
    "\n",
    "3. Which architect is the most prolific in the U.S. and outside?\n",
    "\n",
    "4. Analyze the location of the buildings designed by the american architects\n",
    " \n",
    "   4.1 Which styles exists in the U.S.? Which type of building?\n",
    "   \n",
    "   4.2 In which U.S. states there are more notable buildings?\n",
    "   \n",
    "   4.3 Which U.S. state contains the largest number of building designed by U.S. architects\n"
   ]
  },
  {
   "cell_type": "code",
   "execution_count": 3,
   "id": "24a853ab-830c-422c-afd3-e9e015b8b8ed",
   "metadata": {},
   "outputs": [],
   "source": [
    "# start your workflow here"
   ]
  },
  {
   "cell_type": "code",
   "execution_count": 2,
   "id": "ade01416-92e7-4ad7-b9a9-b8fb330750dc",
   "metadata": {},
   "outputs": [
    {
     "name": "stdout",
     "output_type": "stream",
     "text": [
      "Results\n",
      "[('callret-0', '3354')]\n"
     ]
    },
    {
     "data": {
      "text/plain": [
       "1"
      ]
     },
     "execution_count": 2,
     "metadata": {},
     "output_type": "execute_result"
    }
   ],
   "source": [
    "queryString = \"\"\"\n",
    "SELECT COUNT(*)\n",
    "WHERE { \n",
    "\n",
    "?p wdt:P27 wd:Q30  . \n",
    "?p wdt:P106 wd:Q42973  . \n",
    "\n",
    "} \n",
    "\"\"\"\n",
    "\n",
    "print(\"Results\")\n",
    "run_query(queryString)"
   ]
  },
  {
   "cell_type": "markdown",
   "id": "4cdb966a-e7f1-42d3-8060-4aaf872c4b98",
   "metadata": {
    "tags": []
   },
   "source": [
    "## Architects Notable Works\n",
    "This section contains the queries used to answer the first question: _Identify the BGP to obtain the notable works of an architect and their location._"
   ]
  },
  {
   "cell_type": "markdown",
   "id": "4f99899e-eb9f-4769-8c17-c8fabb927346",
   "metadata": {},
   "source": [
    "In order to answer to the question above firstly I need to find out how architects and buildings are linked together. I have been given an architect, Frank Lloyd Wright (wd:Q5604), and a building, Petit Memorial Chapel (wd:Q2081276), therefore I can see which properties are connected to these nodes. Firstly I count the properties where Frank Lloud Wright is the subject."
   ]
  },
  {
   "cell_type": "code",
   "execution_count": 4,
   "id": "48565f7e-9610-4bab-ba22-b8d57017135e",
   "metadata": {},
   "outputs": [
    {
     "name": "stdout",
     "output_type": "stream",
     "text": [
      "Results\n",
      "[('wrightProps', '251')]\n"
     ]
    },
    {
     "data": {
      "text/plain": [
       "1"
      ]
     },
     "execution_count": 4,
     "metadata": {},
     "output_type": "execute_result"
    }
   ],
   "source": [
    "queryString = \"\"\"\n",
    "SELECT COUNT(?p) AS ?wrightProps\n",
    "WHERE { \n",
    "\n",
    "wd:Q5604 ?p ?o.\n",
    "\n",
    "} \n",
    "\"\"\"\n",
    "\n",
    "print(\"Results\")\n",
    "run_query(queryString)"
   ]
  },
  {
   "cell_type": "markdown",
   "id": "251b4788-aa0c-4c9b-90be-c4f051568eb0",
   "metadata": {},
   "source": [
    "Since they are quite a lot I return them based on the number of objects connected to Wright by means of the same property. Since I am looking for connection between architects and building I can assume architects are connected to multiple buildings."
   ]
  },
  {
   "cell_type": "code",
   "execution_count": 5,
   "id": "2da285fa-dd1d-4681-b0d6-46a953d6aa70",
   "metadata": {},
   "outputs": [
    {
     "name": "stdout",
     "output_type": "stream",
     "text": [
      "Results\n",
      "[('p', 'http://www.wikidata.org/prop/direct/P6379'), ('pname', 'has works in the collection'), ('objs', '9')]\n",
      "[('p', 'http://www.wikidata.org/prop/direct/P800'), ('pname', 'notable work'), ('objs', '7')]\n",
      "[('p', 'http://www.wikidata.org/prop/direct/P1343'), ('pname', 'described by source'), ('objs', '6')]\n",
      "[('p', 'http://www.wikidata.org/prop/direct/P40'), ('pname', 'child'), ('objs', '4')]\n",
      "[('p', 'http://www.wikidata.org/prop/direct/P106'), ('pname', 'occupation'), ('objs', '4')]\n",
      "[('p', 'http://www.wikidata.org/prop/direct/P26'), ('pname', 'spouse'), ('objs', '3')]\n",
      "[('p', 'http://www.wikidata.org/prop/direct/P6394'), ('pname', 'ELNET ID'), ('objs', '2')]\n",
      "[('p', 'http://www.wikidata.org/prop/direct/P735'), ('pname', 'given name'), ('objs', '2')]\n",
      "[('p', 'http://www.wikidata.org/prop/direct/P166'), ('pname', 'award received'), ('objs', '2')]\n",
      "[('p', 'http://www.wikidata.org/prop/direct/P18'), ('pname', 'image'), ('objs', '2')]\n",
      "[('p', 'http://www.wikidata.org/prop/direct/P5008'), ('pname', 'on focus list of Wikimedia project'), ('objs', '2')]\n",
      "[('p', 'http://www.wikidata.org/prop/direct/P535'), ('pname', 'Find A Grave memorial ID'), ('objs', '2')]\n",
      "[('p', 'http://www.wikidata.org/prop/direct/P6698'), ('pname', 'Japan Search name ID'), ('objs', '2')]\n",
      "[('p', 'http://www.wikidata.org/prop/direct/P69'), ('pname', 'educated at'), ('objs', '2')]\n",
      "[('p', 'http://www.wikidata.org/prop/direct/P3782'), ('pname', 'Artnet artist ID'), ('objs', '2')]\n",
      "[('p', 'http://www.wikidata.org/prop/direct/P650'), ('pname', 'RKDartists ID'), ('objs', '1')]\n",
      "[('p', 'http://www.wikidata.org/prop/direct/P7666'), ('pname', 'Visuotinė lietuvių enciklopedija ID'), ('objs', '1')]\n",
      "[('p', 'http://www.wikidata.org/prop/direct/P7704'), ('pname', 'Europeana entity'), ('objs', '1')]\n",
      "[('p', 'http://www.wikidata.org/prop/direct/P7902'), ('pname', 'Deutsche Biographie (GND) ID'), ('objs', '1')]\n",
      "[('p', 'http://www.wikidata.org/prop/direct/P8094'), ('pname', 'GeneaStar person ID'), ('objs', '1')]\n",
      "[('p', 'http://www.wikidata.org/prop/direct/P8189'), ('pname', 'National Library of Israel J9U ID'), ('objs', '1')]\n",
      "[('p', 'http://www.wikidata.org/prop/direct/P1005'), ('pname', 'Portuguese National Library ID'), ('objs', '1')]\n",
      "[('p', 'http://www.wikidata.org/prop/direct/P1015'), ('pname', 'NORAF ID'), ('objs', '1')]\n",
      "[('p', 'http://www.wikidata.org/prop/direct/P140'), ('pname', 'religion'), ('objs', '1')]\n",
      "[('p', 'http://www.wikidata.org/prop/direct/P1559'), ('pname', 'name in native language'), ('objs', '1')]\n"
     ]
    },
    {
     "data": {
      "text/plain": [
       "25"
      ]
     },
     "execution_count": 5,
     "metadata": {},
     "output_type": "execute_result"
    }
   ],
   "source": [
    "queryString = \"\"\"\n",
    "SELECT ?p ?pname COUNT(?o) AS ?objs\n",
    "WHERE { \n",
    "\n",
    "wd:Q5604 ?p ?o.\n",
    "?p <http://schema.org/name> ?pname.\n",
    "\n",
    "} \n",
    "GROUP BY ?p ?pname\n",
    "ORDER BY DESC(?objs)\n",
    "LIMIT 25\n",
    "\"\"\"\n",
    "\n",
    "print(\"Results\")\n",
    "run_query(queryString)"
   ]
  },
  {
   "cell_type": "markdown",
   "id": "17aec709-c997-416e-adba-032bf8d49e67",
   "metadata": {},
   "source": [
    "I discovered the property \"notable work\" (wdt:P800), therefore I return all triples involing it."
   ]
  },
  {
   "cell_type": "code",
   "execution_count": 6,
   "id": "dfd92c3d-dd95-4e5d-993e-f64b31e35493",
   "metadata": {},
   "outputs": [
    {
     "name": "stdout",
     "output_type": "stream",
     "text": [
      "Results\n",
      "[('w', 'http://www.wikidata.org/entity/Q4647666'), ('work', 'A. D. German Warehouse'), ('i', 'http://www.wikidata.org/entity/Q181623'), ('instanceOf', 'warehouse')]\n",
      "[('w', 'http://www.wikidata.org/entity/Q1335804'), ('work', 'Emil Bach House'), ('i', 'http://www.wikidata.org/entity/Q1307276'), ('instanceOf', 'single-family detached home')]\n",
      "[('w', 'http://www.wikidata.org/entity/Q463179'), ('work', 'Fallingwater'), ('i', 'http://www.wikidata.org/entity/Q1307276'), ('instanceOf', 'single-family detached home')]\n",
      "[('w', 'http://www.wikidata.org/entity/Q3586059'), ('work', 'Annunciation Greek Orthodox Church'), ('i', 'http://www.wikidata.org/entity/Q16970'), ('instanceOf', 'church building')]\n",
      "[('w', 'http://www.wikidata.org/entity/Q201469'), ('work', 'Solomon R. Guggenheim Museum'), ('i', 'http://www.wikidata.org/entity/Q207694'), ('instanceOf', 'art museum')]\n",
      "[('w', 'http://www.wikidata.org/entity/Q201469'), ('work', 'Solomon R. Guggenheim Museum'), ('i', 'http://www.wikidata.org/entity/Q570116'), ('instanceOf', 'tourist attraction')]\n",
      "[('w', 'http://www.wikidata.org/entity/Q201469'), ('work', 'Solomon R. Guggenheim Museum'), ('i', 'http://www.wikidata.org/entity/Q24699794'), ('instanceOf', 'museum building')]\n",
      "[('w', 'http://www.wikidata.org/entity/Q616358'), ('work', 'Prairie School architecture'), ('i', 'http://www.wikidata.org/entity/Q32880'), ('instanceOf', 'architectural style')]\n",
      "[('w', 'http://www.wikidata.org/entity/Q2081276'), ('work', 'Pettit Memorial Chapel'), ('i', 'http://www.wikidata.org/entity/Q108325'), ('instanceOf', 'chapel')]\n"
     ]
    },
    {
     "data": {
      "text/plain": [
       "9"
      ]
     },
     "execution_count": 6,
     "metadata": {},
     "output_type": "execute_result"
    }
   ],
   "source": [
    "queryString = \"\"\"\n",
    "SELECT DISTINCT ?w ?work ?i ?instanceOf\n",
    "WHERE { \n",
    "\n",
    "wd:Q5604 wdt:P800 ?w.\n",
    "?w wdt:P31 ?i.\n",
    "?w <http://schema.org/name> ?work.\n",
    "?i <http://schema.org/name> ?instanceOf.\n",
    "\n",
    "} \n",
    "\"\"\"\n",
    "\n",
    "print(\"Results\")\n",
    "run_query(queryString)"
   ]
  },
  {
   "cell_type": "markdown",
   "id": "f12453b8-d20c-4015-9e6e-c80190429475",
   "metadata": {},
   "source": [
    "I can assess this property retrieves an architect notable work. I also return the property \"instance of\" (wdt:P31) for each object in order to see what kind of objects the property returns and it looks like the type of building can be inferred by that property.\n",
    "\n",
    "The second part of the requested BGP involves the location of the buildings therefore I need to retireve such information. Firsly, I count the properties Pettit Memorial Chapel (wd:Q2081276) is subject to."
   ]
  },
  {
   "cell_type": "code",
   "execution_count": 7,
   "id": "632a6674-982d-43ba-93bb-adebd512528b",
   "metadata": {},
   "outputs": [
    {
     "name": "stdout",
     "output_type": "stream",
     "text": [
      "Results\n",
      "[('petchapProps', '18')]\n"
     ]
    },
    {
     "data": {
      "text/plain": [
       "1"
      ]
     },
     "execution_count": 7,
     "metadata": {},
     "output_type": "execute_result"
    }
   ],
   "source": [
    "queryString = \"\"\"\n",
    "SELECT COUNT(?p) AS ?petchapProps\n",
    "WHERE { \n",
    "\n",
    "wd:Q2081276 ?p ?o.\n",
    "\n",
    "} \n",
    "\"\"\"\n",
    "\n",
    "print(\"Results\")\n",
    "run_query(queryString)"
   ]
  },
  {
   "cell_type": "markdown",
   "id": "33de191c-97fe-401e-86d7-c9a55a182502",
   "metadata": {},
   "source": [
    "Since they are not so many I can return them all."
   ]
  },
  {
   "cell_type": "code",
   "execution_count": 8,
   "id": "9525615c-6199-415b-9e2e-0a2de6fbc121",
   "metadata": {},
   "outputs": [
    {
     "name": "stdout",
     "output_type": "stream",
     "text": [
      "Results\n",
      "[('p', 'http://www.wikidata.org/prop/direct/P17'), ('pname', 'country'), ('objs', '1')]\n",
      "[('p', 'http://www.wikidata.org/prop/direct/P646'), ('pname', 'Freebase ID'), ('objs', '1')]\n",
      "[('p', 'http://www.wikidata.org/prop/direct/P31'), ('pname', 'instance of'), ('objs', '1')]\n",
      "[('p', 'http://www.wikidata.org/prop/direct/P935'), ('pname', 'Commons gallery'), ('objs', '1')]\n",
      "[('p', 'http://www.wikidata.org/prop/direct/P149'), ('pname', 'architectural style'), ('objs', '1')]\n",
      "[('p', 'http://www.wikidata.org/prop/direct/P18'), ('pname', 'image'), ('objs', '1')]\n",
      "[('p', 'http://www.wikidata.org/prop/direct/P373'), ('pname', 'Commons category'), ('objs', '1')]\n",
      "[('p', 'http://www.wikidata.org/prop/direct/P910'), ('pname', \"topic's main category\"), ('objs', '1')]\n",
      "[('p', 'http://www.wikidata.org/prop/direct/P649'), ('pname', 'NRHP reference number'), ('objs', '1')]\n",
      "[('p', 'http://www.wikidata.org/prop/direct/P131'), ('pname', 'located in the administrative territorial entity'), ('objs', '1')]\n",
      "[('p', 'http://www.wikidata.org/prop/direct/P1435'), ('pname', 'heritage designation'), ('objs', '1')]\n",
      "[('p', 'http://www.wikidata.org/prop/direct/P5383'), ('pname', 'archINFORM project ID'), ('objs', '1')]\n",
      "[('p', 'http://www.wikidata.org/prop/direct/P1566'), ('pname', 'GeoNames ID'), ('objs', '1')]\n",
      "[('p', 'http://www.wikidata.org/prop/direct/P84'), ('pname', 'architect'), ('objs', '1')]\n"
     ]
    },
    {
     "data": {
      "text/plain": [
       "14"
      ]
     },
     "execution_count": 8,
     "metadata": {},
     "output_type": "execute_result"
    }
   ],
   "source": [
    "queryString = \"\"\"\n",
    "SELECT ?p ?pname COUNT(?o) AS ?objs\n",
    "WHERE { \n",
    "\n",
    "wd:Q2081276 ?p ?o.\n",
    "?p <http://schema.org/name> ?pname.\n",
    "\n",
    "} \n",
    "\"\"\"\n",
    "\n",
    "print(\"Results\")\n",
    "run_query(queryString)"
   ]
  },
  {
   "cell_type": "markdown",
   "id": "dad1419b-ac5d-422d-8f89-6360d5bc6f26",
   "metadata": {},
   "source": [
    "I discovered the building is connected to the property \"country\" (wdt:P17) that it is likely to contain the country where the building is located. I also discovered the property \"architectural style\" (wdt:P149) that could be useful for the following questions. In the end I discovered that each building is also connect by the property \"architect\" (wdt:P84) therefore I could see if by selecting all building linked to Wright by this property I get different results than before. Before checking that however I return the triple with the property \"located in the administrative territorial entity\" (wdt:P131) to see if this gives me some more accurate information about the location of a building."
   ]
  },
  {
   "cell_type": "code",
   "execution_count": 9,
   "id": "4b8f1eae-5fa6-41e3-b63e-497effa767c1",
   "metadata": {},
   "outputs": [
    {
     "name": "stdout",
     "output_type": "stream",
     "text": [
      "Results\n",
      "[('o', 'http://www.wikidata.org/entity/Q185609'), ('oname', 'Belvidere'), ('i', 'http://www.wikidata.org/entity/Q1093829'), ('instanceOf', 'city of the United States')]\n",
      "[('o', 'http://www.wikidata.org/entity/Q185609'), ('oname', 'Belvidere'), ('i', 'http://www.wikidata.org/entity/Q62049'), ('instanceOf', 'county seat')]\n"
     ]
    },
    {
     "data": {
      "text/plain": [
       "2"
      ]
     },
     "execution_count": 9,
     "metadata": {},
     "output_type": "execute_result"
    }
   ],
   "source": [
    "queryString = \"\"\"\n",
    "SELECT ?o ?oname ?i ?instanceOf\n",
    "WHERE { \n",
    "\n",
    "wd:Q2081276 wdt:P131 ?o.\n",
    "?o wdt:P31 ?i.\n",
    "?o <http://schema.org/name> ?oname.\n",
    "?i <http://schema.org/name> ?instanceOf.\n",
    "\n",
    "} \n",
    "\"\"\"\n",
    "\n",
    "print(\"Results\")\n",
    "run_query(queryString)"
   ]
  },
  {
   "cell_type": "markdown",
   "id": "078c4ed2-c7e1-4699-ade9-c02c2d7a57a0",
   "metadata": {},
   "source": [
    "The above-mentioned property gives some more detailed information about the location of the buildings. I now check the properties where Pettit Chapel Memorial is the object in order to see if I find any other interesting properties."
   ]
  },
  {
   "cell_type": "code",
   "execution_count": 10,
   "id": "7abc0a7c-037d-4ed9-99b6-2b1bedfa5b13",
   "metadata": {},
   "outputs": [
    {
     "name": "stdout",
     "output_type": "stream",
     "text": [
      "Results\n",
      "[('p', 'http://www.wikidata.org/prop/direct/P301'), ('pname', \"category's main topic\"), ('subjs', '1')]\n",
      "[('p', 'http://www.wikidata.org/prop/direct/P800'), ('pname', 'notable work'), ('subjs', '1')]\n"
     ]
    },
    {
     "data": {
      "text/plain": [
       "2"
      ]
     },
     "execution_count": 10,
     "metadata": {},
     "output_type": "execute_result"
    }
   ],
   "source": [
    "queryString = \"\"\"\n",
    "SELECT ?p ?pname COUNT(?s) AS ?subjs\n",
    "WHERE { \n",
    "\n",
    "?s ?p wd:Q2081276.\n",
    "?p <http://schema.org/name> ?pname.\n",
    "\n",
    "} \n",
    "\"\"\"\n",
    "\n",
    "print(\"Results\")\n",
    "run_query(queryString)"
   ]
  },
  {
   "cell_type": "markdown",
   "id": "7aa7b918-f42c-4b04-b3e3-fbd2af69446f",
   "metadata": {},
   "source": [
    "I did not find any other useful property therefore I will only check the country where a building is located to.\n",
    "\n",
    "I now check if Wright (wd:Q5604) is connected to anything by means of the property \"architect\" (wdt:P84)."
   ]
  },
  {
   "cell_type": "code",
   "execution_count": 11,
   "id": "26890357-baad-4c68-bdda-ba742a9ccbd0",
   "metadata": {},
   "outputs": [
    {
     "name": "stdout",
     "output_type": "stream",
     "text": [
      "Results\n",
      "[('subjs', '244')]\n"
     ]
    },
    {
     "data": {
      "text/plain": [
       "1"
      ]
     },
     "execution_count": 11,
     "metadata": {},
     "output_type": "execute_result"
    }
   ],
   "source": [
    "queryString = \"\"\"\n",
    "SELECT COUNT(?s) AS ?subjs\n",
    "WHERE { \n",
    "\n",
    "?s wdt:P84 wd:Q5604.\n",
    "?s <http://schema.org/name> ?sname.\n",
    "\n",
    "} \n",
    "\"\"\"\n",
    "\n",
    "print(\"Results\")\n",
    "run_query(queryString)"
   ]
  },
  {
   "cell_type": "markdown",
   "id": "3cfc813e-223f-4d4c-9548-d392bb7d4498",
   "metadata": {},
   "source": [
    "I assess the property \"architect\" (wdt:P84) return all the works done by one architect therefore I will use such property when returning the most prolific architects. In this section however I am asked to retrieve the notable works therefore I will use the property \"notable works\" (wdt:P800).\n",
    "\n",
    "To sum up what I discovered so far, to retrieve an architect's (?architect) notable work I use the triple: \n",
    "```\n",
    "?architect wdt:P800 ?work.\n",
    "```\n",
    "To retrieve the country where a building (?building) is located I use the triple:\n",
    "```\n",
    "?building wdt:P17 ?country.\n",
    "```\n",
    "While to retrieve information about the city/county where it is located I use:\n",
    "```\n",
    "?building wdt:P131 ?location.\n",
    "```\n",
    "\n",
    "Now I can count the number of notable works each american architect have and return the top-25 american architects with more notable works."
   ]
  },
  {
   "cell_type": "code",
   "execution_count": 12,
   "id": "d14a65ad-cc06-401d-b63d-e517da359009",
   "metadata": {},
   "outputs": [
    {
     "name": "stdout",
     "output_type": "stream",
     "text": [
      "Results\n",
      "[('a', 'http://www.wikidata.org/entity/Q2926468'), ('architect', 'Bruce Price'), ('notableWorks', '17')]\n",
      "[('a', 'http://www.wikidata.org/entity/Q5171172'), ('architect', 'Cornelia Oberlander'), ('notableWorks', '13')]\n",
      "[('a', 'http://www.wikidata.org/entity/Q15996171'), ('architect', 'Egerton Swartwout'), ('notableWorks', '11')]\n",
      "[('a', 'http://www.wikidata.org/entity/Q369263'), ('architect', 'John Trumbull'), ('notableWorks', '10')]\n",
      "[('a', 'http://www.wikidata.org/entity/Q180374'), ('architect', 'Frank Gehry'), ('notableWorks', '9')]\n",
      "[('a', 'http://www.wikidata.org/entity/Q102289'), ('architect', 'Buckminster Fuller'), ('notableWorks', '8')]\n",
      "[('a', 'http://www.wikidata.org/entity/Q62918'), ('architect', 'Fazlur Khan'), ('notableWorks', '7')]\n",
      "[('a', 'http://www.wikidata.org/entity/Q892140'), ('architect', 'Leopold Eidlitz'), ('notableWorks', '7')]\n",
      "[('a', 'http://www.wikidata.org/entity/Q6180936'), ('architect', \"Jeremiah O'Rourke\"), ('notableWorks', '7')]\n",
      "[('a', 'http://www.wikidata.org/entity/Q5604'), ('architect', 'Frank Lloyd Wright'), ('notableWorks', '7')]\n",
      "[('a', 'http://www.wikidata.org/entity/Q46868'), ('architect', 'I. M. Pei'), ('notableWorks', '7')]\n",
      "[('a', 'http://www.wikidata.org/entity/Q4798105'), ('architect', 'Arthur Brown, Jr.'), ('notableWorks', '6')]\n",
      "[('a', 'http://www.wikidata.org/entity/Q7790261'), ('architect', 'Thomas H. Atherton'), ('notableWorks', '6')]\n",
      "[('a', 'http://www.wikidata.org/entity/Q5541929'), ('architect', 'George M. Coombs'), ('notableWorks', '6')]\n",
      "[('a', 'http://www.wikidata.org/entity/Q437714'), ('architect', 'Beatrix Farrand'), ('notableWorks', '6')]\n",
      "[('a', 'http://www.wikidata.org/entity/Q309483'), ('architect', 'César Pelli'), ('notableWorks', '6')]\n",
      "[('a', 'http://www.wikidata.org/entity/Q41508'), ('architect', 'Ludwig Mies van der Rohe'), ('notableWorks', '5')]\n",
      "[('a', 'http://www.wikidata.org/entity/Q61745698'), ('architect', 'Harry Sims Bent'), ('notableWorks', '5')]\n",
      "[('a', 'http://www.wikidata.org/entity/Q1066442'), ('architect', 'Charles Moore'), ('notableWorks', '5')]\n",
      "[('a', 'http://www.wikidata.org/entity/Q316639'), ('architect', 'Daniel Burnham'), ('notableWorks', '5')]\n",
      "[('a', 'http://www.wikidata.org/entity/Q4893720'), ('architect', 'Bernard Vonnegut, Sr.'), ('notableWorks', '5')]\n",
      "[('a', 'http://www.wikidata.org/entity/Q16992139'), ('architect', 'Henry H. Dupont'), ('notableWorks', '5')]\n",
      "[('a', 'http://www.wikidata.org/entity/Q313828'), ('architect', 'Ivan Meštrović'), ('notableWorks', '5')]\n",
      "[('a', 'http://www.wikidata.org/entity/Q3756505'), ('architect', 'Diana Balmori Ling'), ('notableWorks', '5')]\n",
      "[('a', 'http://www.wikidata.org/entity/Q374276'), ('architect', 'Adrian Smith'), ('notableWorks', '5')]\n"
     ]
    },
    {
     "data": {
      "text/plain": [
       "25"
      ]
     },
     "execution_count": 12,
     "metadata": {},
     "output_type": "execute_result"
    }
   ],
   "source": [
    "queryString = \"\"\"\n",
    "SELECT ?a ?architect COUNT(DISTINCT ?work) AS ?notableWorks\n",
    "WHERE { \n",
    "\n",
    "?a wdt:P27 wd:Q30; \n",
    "    wdt:P106 wd:Q42973;\n",
    "    wdt:P800 ?work.\n",
    "    \n",
    "?a <http://schema.org/name> ?architect.\n",
    "\n",
    "} \n",
    "GROUP BY ?a ?architect\n",
    "ORDER BY DESC(?notableWorks)\n",
    "LIMIT 25\n",
    "\"\"\"\n",
    "\n",
    "print(\"Results\")\n",
    "run_query(queryString)"
   ]
  },
  {
   "cell_type": "markdown",
   "id": "4d3ce1b7-4f87-4094-b39d-f87f42610fcb",
   "metadata": {},
   "source": [
    "I can also count in how many different countries the notable works of an architects are located and return the top-15 american architects that worked in more different countries."
   ]
  },
  {
   "cell_type": "code",
   "execution_count": 13,
   "id": "5e46f086-d06b-4271-8693-d50105086f79",
   "metadata": {},
   "outputs": [
    {
     "name": "stdout",
     "output_type": "stream",
     "text": [
      "Results\n",
      "[('a', 'http://www.wikidata.org/entity/Q180374'), ('architect', 'Frank Gehry'), ('notableWCountries', '5')]\n",
      "[('a', 'http://www.wikidata.org/entity/Q46868'), ('architect', 'I. M. Pei'), ('notableWCountries', '4')]\n",
      "[('a', 'http://www.wikidata.org/entity/Q309483'), ('architect', 'César Pelli'), ('notableWCountries', '4')]\n",
      "[('a', 'http://www.wikidata.org/entity/Q374276'), ('architect', 'Adrian Smith'), ('notableWCountries', '4')]\n",
      "[('a', 'http://www.wikidata.org/entity/Q41508'), ('architect', 'Ludwig Mies van der Rohe'), ('notableWCountries', '3')]\n",
      "[('a', 'http://www.wikidata.org/entity/Q154538'), ('architect', 'Daniel Libeskind'), ('notableWCountries', '3')]\n",
      "[('a', 'http://www.wikidata.org/entity/Q102289'), ('architect', 'Buckminster Fuller'), ('notableWCountries', '3')]\n",
      "[('a', 'http://www.wikidata.org/entity/Q313828'), ('architect', 'Ivan Meštrović'), ('notableWCountries', '3')]\n",
      "[('a', 'http://www.wikidata.org/entity/Q3756505'), ('architect', 'Diana Balmori Ling'), ('notableWCountries', '3')]\n",
      "[('a', 'http://www.wikidata.org/entity/Q62918'), ('architect', 'Fazlur Khan'), ('notableWCountries', '2')]\n",
      "[('a', 'http://www.wikidata.org/entity/Q704609'), ('architect', 'Félix Candela'), ('notableWCountries', '2')]\n",
      "[('a', 'http://www.wikidata.org/entity/Q5171172'), ('architect', 'Cornelia Oberlander'), ('notableWCountries', '2')]\n",
      "[('a', 'http://www.wikidata.org/entity/Q2926468'), ('architect', 'Bruce Price'), ('notableWCountries', '2')]\n",
      "[('a', 'http://www.wikidata.org/entity/Q168587'), ('architect', 'Sol LeWitt'), ('notableWCountries', '2')]\n",
      "[('a', 'http://www.wikidata.org/entity/Q698436'), ('architect', 'Dan Graham'), ('notableWCountries', '2')]\n"
     ]
    },
    {
     "data": {
      "text/plain": [
       "15"
      ]
     },
     "execution_count": 13,
     "metadata": {},
     "output_type": "execute_result"
    }
   ],
   "source": [
    "queryString = \"\"\"\n",
    "SELECT ?a ?architect COUNT(DISTINCT ?country) AS ?notableWCountries\n",
    "WHERE { \n",
    "\n",
    "?a wdt:P27 wd:Q30; \n",
    "    wdt:P106 wd:Q42973;\n",
    "    wdt:P800 ?work.\n",
    "    \n",
    "?work wdt:P17 ?country.\n",
    "    \n",
    "?a <http://schema.org/name> ?architect.\n",
    "\n",
    "} \n",
    "GROUP BY ?a ?architect\n",
    "ORDER BY DESC(?notableWCountries)\n",
    "LIMIT 15\n",
    "\"\"\"\n",
    "\n",
    "print(\"Results\")\n",
    "run_query(queryString)"
   ]
  },
  {
   "cell_type": "markdown",
   "id": "9d89944e-4750-495b-9b26-2313d363f8f1",
   "metadata": {},
   "source": [
    "In the end, I return the average number of notable works done by architects of the same nationality."
   ]
  },
  {
   "cell_type": "code",
   "execution_count": 14,
   "id": "59a99cfa-dbf1-4459-b231-8820dc7f0a2d",
   "metadata": {},
   "outputs": [
    {
     "name": "stdout",
     "output_type": "stream",
     "text": [
      "Results\n",
      "[('nationality', 'Republic of Florence'), ('avgWorks', '9.2')]\n",
      "[('nationality', 'Sicyon'), ('avgWorks', '9')]\n",
      "[('nationality', 'Kingdom of Bulgaria'), ('avgWorks', '8')]\n",
      "[('nationality', 'Principality of Bulgaria'), ('avgWorks', '8')]\n",
      "[('nationality', 'First Republic of Austria'), ('avgWorks', '8')]\n",
      "[('nationality', 'Iraq'), ('avgWorks', '7.666666666666667')]\n",
      "[('nationality', 'Nazi Germany'), ('avgWorks', '7.5')]\n",
      "[('nationality', 'Weimar Republic'), ('avgWorks', '6.333333333333333')]\n",
      "[('nationality', 'Cossack Hetmanate'), ('avgWorks', '6')]\n",
      "[('nationality', 'Cambodia'), ('avgWorks', '6')]\n",
      "[('nationality', 'Kingdom of Serbs, Croats and Slovenes'), ('avgWorks', '5.333333333333333')]\n",
      "[('nationality', 'Principality of Serbia'), ('avgWorks', '5.333333333333333')]\n",
      "[('nationality', 'Lower Canada'), ('avgWorks', '5')]\n",
      "[('nationality', 'Kingdom of Serbia'), ('avgWorks', '5')]\n",
      "[('nationality', 'Wang Jingwei regime'), ('avgWorks', '5')]\n"
     ]
    },
    {
     "data": {
      "text/plain": [
       "15"
      ]
     },
     "execution_count": 14,
     "metadata": {},
     "output_type": "execute_result"
    }
   ],
   "source": [
    "queryString = \"\"\"\n",
    "SELECT ?nationality AVG(?works) AS ?avgWorks\n",
    "WHERE { \n",
    "\n",
    "?a wdt:P27 ?c.\n",
    "    \n",
    "?c <http://schema.org/name> ?nationality.\n",
    "\n",
    "{\n",
    "    SELECT ?a COUNT(DISTINCT ?w) AS ?works\n",
    "    WHERE{\n",
    "        ?a wdt:P106 wd:Q42973;\n",
    "            wdt:P800 ?w.\n",
    "    }\n",
    "    GROUP BY ?a\n",
    "}\n",
    "\n",
    "} \n",
    "GROUP BY ?nationality\n",
    "ORDER BY DESC(?avgWorks)\n",
    "LIMIT 15\n",
    "\"\"\"\n",
    "\n",
    "print(\"Results\")\n",
    "run_query(queryString)"
   ]
  },
  {
   "cell_type": "markdown",
   "id": "19a48068-226b-43a0-b558-feb11635fe27",
   "metadata": {},
   "source": [
    "The result of this query is quite interesting because I retrieved ancient countries that no longer exists. Since this is an average value, such result could be caused by the fact that there are a lot of architects from modern countries with few or no notable works."
   ]
  },
  {
   "cell_type": "markdown",
   "id": "8e44a3c6-6b89-430b-8be1-f89cd83ae2be",
   "metadata": {
    "tags": []
   },
   "source": [
    "## Buildings Properties\n",
    "This section contains the queries used to answer the second question: _Identify the BGP that connect a building with its architect, type, and architectural style._"
   ]
  },
  {
   "cell_type": "markdown",
   "id": "89e5a1b8-c9a5-4b32-a144-aa710e7985a0",
   "metadata": {},
   "source": [
    "As we saw earlier each building type can be inferred by the property \"instance of\" (wdt:P131), the architect by the property \"architect\" (wdt:P84) and the architectural style by the property \"architectural style\" (wdt:P149). Since I did not do it yet I return the architectural style of Pettit Memorial Chapel (wd:Q2081276)."
   ]
  },
  {
   "cell_type": "code",
   "execution_count": 15,
   "id": "5e16bab3-234f-4273-8b62-1334f5e76fa2",
   "metadata": {},
   "outputs": [
    {
     "name": "stdout",
     "output_type": "stream",
     "text": [
      "Results\n",
      "[('o', 'http://www.wikidata.org/entity/Q245188'), ('style', 'modern architecture')]\n"
     ]
    },
    {
     "data": {
      "text/plain": [
       "1"
      ]
     },
     "execution_count": 15,
     "metadata": {},
     "output_type": "execute_result"
    }
   ],
   "source": [
    "queryString = \"\"\"\n",
    "SELECT ?o ?style\n",
    "WHERE { \n",
    "\n",
    "wd:Q2081276 wdt:P149 ?o.\n",
    "    \n",
    "?o <http://schema.org/name> ?style.\n",
    "\n",
    "} \n",
    "\"\"\"\n",
    "\n",
    "print(\"Results\")\n",
    "run_query(queryString)"
   ]
  },
  {
   "cell_type": "markdown",
   "id": "624dbd09-e689-4676-b299-34d4099f278d",
   "metadata": {},
   "source": [
    "Before I move on I check if there are other properties that contains information about the type of building. In order to do it I return all properties connected to any building built by an architect."
   ]
  },
  {
   "cell_type": "code",
   "execution_count": 16,
   "id": "31d97f54-78fb-4755-8651-791459d73eb7",
   "metadata": {},
   "outputs": [
    {
     "name": "stdout",
     "output_type": "stream",
     "text": [
      "Results\n",
      "[('bProps', '1733')]\n"
     ]
    },
    {
     "data": {
      "text/plain": [
       "1"
      ]
     },
     "execution_count": 16,
     "metadata": {},
     "output_type": "execute_result"
    }
   ],
   "source": [
    "queryString = \"\"\"\n",
    "SELECT COUNT(DISTINCT ?p) AS ?bProps\n",
    "WHERE { \n",
    "\n",
    "?a wdt:P106 wd:Q42973.\n",
    "?w wdt:P84 ?a;\n",
    "    ?p ?o.\n",
    "\n",
    "} \n",
    "\"\"\"\n",
    "\n",
    "print(\"Results\")\n",
    "run_query(queryString)"
   ]
  },
  {
   "cell_type": "markdown",
   "id": "48e1255b-8c4c-423b-ae3d-42ba27bcd06d",
   "metadata": {},
   "source": [
    "Since they are a lot I filter them with a regular expression."
   ]
  },
  {
   "cell_type": "code",
   "execution_count": 17,
   "id": "f4ac0f67-2a2a-41cf-b850-77d946c09ea3",
   "metadata": {},
   "outputs": [
    {
     "name": "stdout",
     "output_type": "stream",
     "text": [
      "Results\n",
      "[('p', 'http://www.wikidata.org/prop/direct/P3503'), ('pname', 'LombardiaBeniCulturali building ID')]\n",
      "[('p', 'http://www.wikidata.org/prop/direct/P1305'), ('pname', 'CTBUH Skyscraper Center building ID')]\n",
      "[('p', 'http://www.wikidata.org/prop/direct/P3059'), ('pname', 'Architectuurgids building ID')]\n",
      "[('p', 'http://www.wikidata.org/prop/direct/P455'), ('pname', 'Emporis building ID')]\n",
      "[('p', 'http://www.wikidata.org/prop/direct/P7630'), ('pname', 'Dictionary of Scottish Architects building ID')]\n",
      "[('p', 'http://www.wikidata.org/prop/direct/P193'), ('pname', 'main building contractor')]\n",
      "[('p', 'http://www.wikidata.org/prop/direct/P1699'), ('pname', 'SkyscraperPage building ID')]\n",
      "[('p', 'http://www.wikidata.org/prop/direct/P5208'), ('pname', 'BAG building ID')]\n",
      "[('p', 'http://www.wikidata.org/prop/direct/P5011'), ('pname', 'Prazdne Domy building ID')]\n",
      "[('p', 'http://www.wikidata.org/prop/direct/P3032'), ('pname', 'adjacent building')]\n",
      "[('p', 'http://www.wikidata.org/prop/direct/P5294'), ('pname', 'Church of Norway building ID')]\n",
      "[('p', 'http://www.wikidata.org/prop/direct/P6787'), ('pname', 'Arachne building ID')]\n",
      "[('p', 'http://www.wikidata.org/prop/direct/P8355'), ('pname', 'Helsinki persistent building ID Ratu')]\n",
      "[('p', 'http://www.wikidata.org/prop/direct/P3824'), ('pname', 'VTJ-PRT building ID')]\n",
      "[('p', 'http://www.wikidata.org/prop/direct/P2270'), ('pname', 'Emporis building complex ID')]\n",
      "[('p', 'http://www.wikidata.org/prop/direct/P2851'), ('pname', 'payment types accepted')]\n",
      "[('p', 'http://www.wikidata.org/prop/direct/P4358'), ('pname', 'Dutch lost building register ID')]\n",
      "[('p', 'http://www.wikidata.org/prop/direct/P9153'), ('pname', 'VAi building ID')]\n",
      "[('p', 'http://www.wikidata.org/prop/direct/P1460'), ('pname', 'NIEA building ID')]\n",
      "[('p', 'http://www.wikidata.org/prop/direct/P2783'), ('pname', 'Danish listed buildings case ID')]\n",
      "[('p', 'http://www.wikidata.org/prop/direct/P8463'), ('pname', 'SAH Archipedia building ID')]\n",
      "[('p', 'http://www.wikidata.org/prop/direct/P6486'), ('pname', 'Pacific Coast Architecture Database building ID')]\n",
      "[('p', 'http://www.wikidata.org/prop/direct/P2762'), ('pname', 'CTBUH Skyscraper Center building complex ID')]\n",
      "[('p', 'http://www.wikidata.org/prop/direct/P9597'), ('pname', 'type of lens')]\n",
      "[('p', 'http://www.wikidata.org/prop/direct/P930'), ('pname', 'type of electrification')]\n",
      "[('p', 'http://www.wikidata.org/prop/direct/P8191'), ('pname', 'UK Modern House Index building ID')]\n"
     ]
    },
    {
     "data": {
      "text/plain": [
       "26"
      ]
     },
     "execution_count": 17,
     "metadata": {},
     "output_type": "execute_result"
    }
   ],
   "source": [
    "queryString = \"\"\"\n",
    "SELECT DISTINCT ?p ?pname\n",
    "WHERE { \n",
    "\n",
    "?a wdt:P106 wd:Q42973.\n",
    "?w wdt:P84 ?a;\n",
    "    ?p ?o.\n",
    "    \n",
    "?p <http://schema.org/name> ?pname.\n",
    "\n",
    "FILTER(regex(?pname, \".*type.*\") || regex(?pname, \".*building.*\")).\n",
    "\n",
    "} \n",
    "\"\"\"\n",
    "\n",
    "print(\"Results\")\n",
    "run_query(queryString)"
   ]
  },
  {
   "cell_type": "markdown",
   "id": "88a58009-281a-4518-bf31-8f3e3dae875d",
   "metadata": {},
   "source": [
    "I can safely state that the only property containing the type of building is \"instance of\" (wdt:P31)."
   ]
  },
  {
   "cell_type": "markdown",
   "id": "ac71d7af-7923-4248-aaa7-6b2744a6d2a1",
   "metadata": {
    "tags": []
   },
   "source": [
    "### Frank Lloyd Wright Works\n",
    "Since Frank Lloyd Wright is one of the most famous american architects I count how many different type of building he built throughout his career."
   ]
  },
  {
   "cell_type": "code",
   "execution_count": 18,
   "id": "99a4ef89-74a7-43a2-9d76-162945241d65",
   "metadata": {},
   "outputs": [
    {
     "name": "stdout",
     "output_type": "stream",
     "text": [
      "Results\n",
      "[('buildings', '60')]\n"
     ]
    },
    {
     "data": {
      "text/plain": [
       "1"
      ]
     },
     "execution_count": 18,
     "metadata": {},
     "output_type": "execute_result"
    }
   ],
   "source": [
    "queryString = \"\"\"\n",
    "SELECT COUNT(DISTINCT ?type) AS ?buildings\n",
    "WHERE { \n",
    "\n",
    "?b wdt:P84 wd:Q5604;\n",
    "    wdt:P31 ?type.\n",
    "\n",
    "} \n",
    "\"\"\"\n",
    "\n",
    "print(\"Results\")\n",
    "run_query(queryString)"
   ]
  },
  {
   "cell_type": "markdown",
   "id": "677bfe11-1805-4cf3-be8a-83993cf37d6d",
   "metadata": {},
   "source": [
    "Wright built 60 different type of buildings, but what is the most common type of building he built?"
   ]
  },
  {
   "cell_type": "code",
   "execution_count": 19,
   "id": "01f49da9-bff9-4a4d-8583-4e80476ae187",
   "metadata": {},
   "outputs": [
    {
     "name": "stdout",
     "output_type": "stream",
     "text": [
      "Results\n",
      "[('t', 'http://www.wikidata.org/entity/Q1307276'), ('type', 'single-family detached home'), ('buildings', '135')]\n",
      "[('t', 'http://www.wikidata.org/entity/Q3947'), ('type', 'house'), ('buildings', '20')]\n",
      "[('t', 'http://www.wikidata.org/entity/Q41176'), ('type', 'building'), ('buildings', '8')]\n",
      "[('t', 'http://www.wikidata.org/entity/Q5773747'), ('type', 'historic house'), ('buildings', '6')]\n",
      "[('t', 'http://www.wikidata.org/entity/Q16970'), ('type', 'church building'), ('buildings', '5')]\n",
      "[('t', 'http://www.wikidata.org/entity/Q811979'), ('type', 'architectural structure'), ('buildings', '5')]\n",
      "[('t', 'http://www.wikidata.org/entity/Q25037430'), ('type', 'Textile block house'), ('buildings', '4')]\n",
      "[('t', 'http://www.wikidata.org/entity/Q5783996'), ('type', 'cottage'), ('buildings', '4')]\n",
      "[('t', 'http://www.wikidata.org/entity/Q1570262'), ('type', 'unfinished building'), ('buildings', '3')]\n",
      "[('t', 'http://www.wikidata.org/entity/Q1244442'), ('type', 'school building'), ('buildings', '3')]\n"
     ]
    },
    {
     "data": {
      "text/plain": [
       "10"
      ]
     },
     "execution_count": 19,
     "metadata": {},
     "output_type": "execute_result"
    }
   ],
   "source": [
    "queryString = \"\"\"\n",
    "SELECT ?t ?type COUNT(?b) AS ?buildings\n",
    "WHERE { \n",
    "\n",
    "?b wdt:P84 wd:Q5604;\n",
    "    wdt:P31 ?t.\n",
    "    \n",
    "?t <http://schema.org/name> ?type.\n",
    "\n",
    "} \n",
    "GROUP BY ?t ?type\n",
    "ORDER BY DESC(?buildings)\n",
    "LIMIT 10\n",
    "\"\"\"\n",
    "\n",
    "print(\"Results\")\n",
    "run_query(queryString)"
   ]
  },
  {
   "cell_type": "markdown",
   "id": "ce591a02-edc2-42f6-bc56-4ba39d464e5c",
   "metadata": {},
   "source": [
    "Now I can also return the countries in which he built something. "
   ]
  },
  {
   "cell_type": "code",
   "execution_count": 20,
   "id": "49917f14-71cf-4315-913e-65b34e4572aa",
   "metadata": {},
   "outputs": [
    {
     "name": "stdout",
     "output_type": "stream",
     "text": [
      "Results\n",
      "[('country', 'United States of America'), ('buildings', '236')]\n",
      "[('country', 'Canada'), ('buildings', '1')]\n",
      "[('country', 'Japan'), ('buildings', '3')]\n"
     ]
    },
    {
     "data": {
      "text/plain": [
       "3"
      ]
     },
     "execution_count": 20,
     "metadata": {},
     "output_type": "execute_result"
    }
   ],
   "source": [
    "queryString = \"\"\"\n",
    "SELECT ?country COUNT(?b) AS ?buildings\n",
    "WHERE { \n",
    "\n",
    "?b wdt:P84 wd:Q5604;\n",
    "    wdt:P17 ?c.\n",
    "    \n",
    "?c <http://schema.org/name> ?country.\n",
    "\n",
    "} \n",
    "GROUP BY ?country\n",
    "\"\"\"\n",
    "\n",
    "print(\"Results\")\n",
    "run_query(queryString)"
   ]
  },
  {
   "cell_type": "markdown",
   "id": "92f3d51a-a848-4717-8846-0d05a59a9b81",
   "metadata": {},
   "source": [
    "Most of his works are in the USA therefore I can see if he worked in a particular city or county by means of the property \"located in the administrative territorial entity\" wdt:P131."
   ]
  },
  {
   "cell_type": "code",
   "execution_count": 21,
   "id": "e67ec7d2-7c28-4442-a04d-d358aad40171",
   "metadata": {},
   "outputs": [
    {
     "name": "stdout",
     "output_type": "stream",
     "text": [
      "Results\n",
      "[('location', 'Oak Park'), ('buildings', '21')]\n",
      "[('location', 'Chicago'), ('buildings', '11')]\n",
      "[('location', 'Illinois'), ('buildings', '10')]\n",
      "[('location', 'Wyoming'), ('buildings', '7')]\n",
      "[('location', 'Buffalo'), ('buildings', '5')]\n",
      "[('location', 'Madison'), ('buildings', '5')]\n",
      "[('location', 'Iowa'), ('buildings', '4')]\n",
      "[('location', 'New Jersey'), ('buildings', '4')]\n",
      "[('location', 'Rochester'), ('buildings', '4')]\n",
      "[('location', 'Okemos'), ('buildings', '4')]\n",
      "[('location', 'Michigan'), ('buildings', '4')]\n",
      "[('location', 'New York'), ('buildings', '4')]\n",
      "[('location', 'Glencoe'), ('buildings', '4')]\n",
      "[('location', 'Acme'), ('buildings', '3')]\n",
      "[('location', 'Indiana'), ('buildings', '3')]\n"
     ]
    },
    {
     "data": {
      "text/plain": [
       "15"
      ]
     },
     "execution_count": 21,
     "metadata": {},
     "output_type": "execute_result"
    }
   ],
   "source": [
    "queryString = \"\"\"\n",
    "SELECT ?location COUNT(?b) AS ?buildings\n",
    "WHERE { \n",
    "\n",
    "?b wdt:P84 wd:Q5604;\n",
    "    wdt:P131 ?l.\n",
    "    \n",
    "?l <http://schema.org/name> ?location.\n",
    "\n",
    "} \n",
    "GROUP BY ?location\n",
    "ORDER BY DESC(?buildings)\n",
    "LIMIT 15\n",
    "\"\"\"\n",
    "\n",
    "print(\"Results\")\n",
    "run_query(queryString)"
   ]
  },
  {
   "cell_type": "markdown",
   "id": "5bf12992-d307-4b79-89bc-bbf2c5d3464a",
   "metadata": {},
   "source": [
    "Most of his works are located in Illinois. In the end, I can also look for the most common architectural style that the buildings built by Wright have."
   ]
  },
  {
   "cell_type": "code",
   "execution_count": 22,
   "id": "0ee3aaa5-4ee7-49d2-98ee-7811be0f5c8d",
   "metadata": {},
   "outputs": [
    {
     "name": "stdout",
     "output_type": "stream",
     "text": [
      "Results\n",
      "[('style', 'Prairie School architecture'), ('buildings', '52')]\n",
      "[('style', 'modern architecture'), ('buildings', '9')]\n",
      "[('style', 'Queen Anne style architecture'), ('buildings', '5')]\n",
      "[('style', 'Mayan Revival architecture'), ('buildings', '4')]\n",
      "[('style', 'Tudor Revival architecture'), ('buildings', '2')]\n",
      "[('style', 'Chicago School'), ('buildings', '2')]\n",
      "[('style', 'Shingle style architecture'), ('buildings', '2')]\n",
      "[('style', 'Usonia'), ('buildings', '2')]\n",
      "[('style', 'Usonian architecture'), ('buildings', '1')]\n",
      "[('style', 'Italianate architecture'), ('buildings', '1')]\n"
     ]
    },
    {
     "data": {
      "text/plain": [
       "10"
      ]
     },
     "execution_count": 22,
     "metadata": {},
     "output_type": "execute_result"
    }
   ],
   "source": [
    "queryString = \"\"\"\n",
    "SELECT ?style COUNT(?b) AS ?buildings\n",
    "WHERE { \n",
    "\n",
    "?b wdt:P84 wd:Q5604;\n",
    "    wdt:P149 ?s.\n",
    "    \n",
    "?s <http://schema.org/name> ?style.\n",
    "\n",
    "} \n",
    "GROUP BY ?style\n",
    "ORDER BY DESC(?buildings)\n",
    "LIMIT 15\n",
    "\"\"\"\n",
    "\n",
    "print(\"Results\")\n",
    "run_query(queryString)"
   ]
  },
  {
   "cell_type": "markdown",
   "id": "e61d7e46-3e46-4b12-a5af-bb161a45c41b",
   "metadata": {
    "tags": []
   },
   "source": [
    "### Other Interesting Queries\n",
    "I now run some other interesting queries with such information. Firstly I look for the foreign architects that built more buildings in the USA (wd:Q30)."
   ]
  },
  {
   "cell_type": "code",
   "execution_count": 23,
   "id": "7c604636-8488-48eb-aaad-c5db2b83e047",
   "metadata": {},
   "outputs": [
    {
     "name": "stdout",
     "output_type": "stream",
     "text": [
      "Results\n",
      "[('architect', 'Richard Upjohn'), ('country', 'United Kingdom of Great Britain and Ireland'), ('buildings', '48')]\n",
      "[('architect', 'César Pelli'), ('country', 'Argentina'), ('buildings', '44')]\n",
      "[('architect', 'Emery Roth'), ('country', 'Hungary'), ('buildings', '44')]\n",
      "[('architect', 'I. M. Pei'), ('country', 'Taiwan'), ('buildings', '29')]\n",
      "[('architect', 'Frank Gehry'), ('country', 'Canada'), ('buildings', '22')]\n",
      "[('architect', 'W. H. Weeks'), ('country', 'Canada'), ('buildings', '20')]\n",
      "[('architect', 'Paul Philippe Cret'), ('country', 'France'), ('buildings', '18')]\n",
      "[('architect', 'Eero Saarinen'), ('country', 'Finland'), ('buildings', '18')]\n",
      "[('architect', 'Rosario Candela'), ('country', 'Kingdom of Italy'), ('buildings', '18')]\n",
      "[('architect', 'Rosario Candela'), ('country', 'Italy'), ('buildings', '18')]\n",
      "[('architect', 'Alfred B. Mullett'), ('country', 'United Kingdom of Great Britain and Ireland'), ('buildings', '15')]\n",
      "[('architect', 'Marcel Breuer'), ('country', 'Kingdom of Hungary'), ('buildings', '15')]\n",
      "[('architect', 'Pietro Belluschi'), ('country', 'Italy'), ('buildings', '13')]\n",
      "[('architect', 'Kevin Roche'), ('country', 'Ireland'), ('buildings', '13')]\n",
      "[('architect', 'Benjamin Henry Latrobe'), ('country', 'Great Britain'), ('buildings', '13')]\n"
     ]
    },
    {
     "data": {
      "text/plain": [
       "15"
      ]
     },
     "execution_count": 23,
     "metadata": {},
     "output_type": "execute_result"
    }
   ],
   "source": [
    "queryString = \"\"\"\n",
    "SELECT ?architect ?country COUNT(DISTINCT ?b) AS ?buildings\n",
    "WHERE { \n",
    "\n",
    "?b wdt:P84 ?a;\n",
    "    wdt:P17 wd:Q30.\n",
    "    \n",
    "?a wdt:P27 ?c.\n",
    "\n",
    "?a <http://schema.org/name> ?architect.\n",
    "?c <http://schema.org/name> ?country.\n",
    "\n",
    "FILTER(?c != wd:Q30).\n",
    "\n",
    "} \n",
    "GROUP BY ?architect ?country\n",
    "ORDER BY DESC(?buildings)\n",
    "LIMIT 15\n",
    "\"\"\"\n",
    "\n",
    "print(\"Results\")\n",
    "run_query(queryString)"
   ]
  },
  {
   "cell_type": "markdown",
   "id": "2307571b-f213-407a-a2c7-d6c9a4cef9f3",
   "metadata": {},
   "source": [
    "In the end I look for the most popular architectural styles in the USA. "
   ]
  },
  {
   "cell_type": "code",
   "execution_count": 24,
   "id": "81f241af-c207-4cb7-b4d3-8d8bb6278fc2",
   "metadata": {},
   "outputs": [
    {
     "name": "stdout",
     "output_type": "stream",
     "text": [
      "Results\n",
      "[('style', 'Greek Revival architecture'), ('buildings', '2954')]\n",
      "[('style', 'Renaissance Revival architecture'), ('buildings', '2217')]\n",
      "[('style', 'Gothic Revival'), ('buildings', '1227')]\n",
      "[('style', 'Neoclassical architecture'), ('buildings', '1124')]\n",
      "[('style', 'Queen Anne style architecture'), ('buildings', '1018')]\n",
      "[('style', 'Colonial Revival architecture'), ('buildings', '808')]\n",
      "[('style', 'Italianate architecture'), ('buildings', '770')]\n",
      "[('style', 'National Park Service rustic'), ('buildings', '716')]\n",
      "[('style', 'Federal architecture'), ('buildings', '549')]\n",
      "[('style', 'rustic architecture'), ('buildings', '546')]\n",
      "[('style', 'Georgian architecture'), ('buildings', '528')]\n",
      "[('style', 'Romanesque Revival architecture'), ('buildings', '506')]\n",
      "[('style', 'modern architecture'), ('buildings', '454')]\n",
      "[('style', 'Spanish Colonial Revival architecture'), ('buildings', '451')]\n",
      "[('style', 'Beaux-Arts'), ('buildings', '427')]\n"
     ]
    },
    {
     "data": {
      "text/plain": [
       "15"
      ]
     },
     "execution_count": 24,
     "metadata": {},
     "output_type": "execute_result"
    }
   ],
   "source": [
    "queryString = \"\"\"\n",
    "SELECT ?style COUNT(DISTINCT ?b) AS ?buildings\n",
    "WHERE { \n",
    "\n",
    "?b wdt:P149 ?s;\n",
    "    wdt:P17 wd:Q30.\n",
    "\n",
    "?s <http://schema.org/name> ?style.\n",
    "\n",
    "} \n",
    "GROUP BY ?style\n",
    "ORDER BY DESC(?buildings)\n",
    "LIMIT 15\n",
    "\"\"\"\n",
    "\n",
    "print(\"Results\")\n",
    "run_query(queryString)"
   ]
  },
  {
   "cell_type": "markdown",
   "id": "df253fb5-b324-476f-9c83-b01f559f108a",
   "metadata": {
    "tags": []
   },
   "source": [
    "## Most Prolific Architects\n",
    "This section contains the queries used to answer the third question: _Which architect is the most prolific in the U.S. and outside?_"
   ]
  },
  {
   "cell_type": "markdown",
   "id": "5ee189e0-be40-4af6-940e-1300d8210481",
   "metadata": {},
   "source": [
    "As I said before, in order to assess the most profilic architect I will use the property \"architect\" (wdt:P84). I do not distinguish between the buildings locations at first. I now return the top-15 most prolific american architects."
   ]
  },
  {
   "cell_type": "code",
   "execution_count": 25,
   "id": "9819463f-02fe-453a-8a84-2b05ef4e8190",
   "metadata": {},
   "outputs": [
    {
     "name": "stdout",
     "output_type": "stream",
     "text": [
      "Results\n",
      "[('a', 'http://www.wikidata.org/entity/Q5604'), ('architect', 'Frank Lloyd Wright'), ('buildings', '244')]\n",
      "[('a', 'http://www.wikidata.org/entity/Q309483'), ('architect', 'César Pelli'), ('buildings', '87')]\n",
      "[('a', 'http://www.wikidata.org/entity/Q7411623'), ('architect', 'Samuel Hannaford'), ('buildings', '52')]\n",
      "[('a', 'http://www.wikidata.org/entity/Q6137444'), ('architect', 'James Knox Taylor'), ('buildings', '51')]\n",
      "[('a', 'http://www.wikidata.org/entity/Q46868'), ('architect', 'I. M. Pei'), ('buildings', '50')]\n",
      "[('a', 'http://www.wikidata.org/entity/Q2066635'), ('architect', 'Richard Upjohn'), ('buildings', '49')]\n",
      "[('a', 'http://www.wikidata.org/entity/Q371506'), ('architect', 'Emery Roth'), ('buildings', '45')]\n",
      "[('a', 'http://www.wikidata.org/entity/Q706666'), ('architect', 'Albert Kahn'), ('buildings', '45')]\n",
      "[('a', 'http://www.wikidata.org/entity/Q180374'), ('architect', 'Frank Gehry'), ('buildings', '43')]\n",
      "[('a', 'http://www.wikidata.org/entity/Q6686579'), ('architect', 'Louis A. Simon'), ('buildings', '42')]\n",
      "[('a', 'http://www.wikidata.org/entity/Q183528'), ('architect', 'Philip Johnson'), ('buildings', '37')]\n",
      "[('a', 'http://www.wikidata.org/entity/Q7287147'), ('architect', 'Ralph Adams Cram'), ('buildings', '37')]\n",
      "[('a', 'http://www.wikidata.org/entity/Q3052330'), ('architect', 'Welton Becket'), ('buildings', '37')]\n",
      "[('a', 'http://www.wikidata.org/entity/Q723234'), ('architect', 'Henry Hobson Richardson'), ('buildings', '36')]\n",
      "[('a', 'http://www.wikidata.org/entity/Q464603'), ('architect', 'Cass Gilbert'), ('buildings', '36')]\n"
     ]
    },
    {
     "data": {
      "text/plain": [
       "15"
      ]
     },
     "execution_count": 25,
     "metadata": {},
     "output_type": "execute_result"
    }
   ],
   "source": [
    "queryString = \"\"\"\n",
    "SELECT ?a ?architect COUNT(DISTINCT ?b) AS ?buildings\n",
    "WHERE { \n",
    "\n",
    "?a wdt:P27 wd:Q30; \n",
    "    wdt:P106 wd:Q42973. \n",
    "\n",
    "?b wdt:P84 ?a.\n",
    "\n",
    "?a <http://schema.org/name> ?architect.\n",
    "\n",
    "} \n",
    "GROUP BY ?architect ?a\n",
    "ORDER BY DESC(?buildings)\n",
    "LIMIT 15\n",
    "\"\"\"\n",
    "\n",
    "print(\"Results\")\n",
    "run_query(queryString)"
   ]
  },
  {
   "cell_type": "markdown",
   "id": "adfbb80c-503c-4ff0-94c4-a4888dbfa109",
   "metadata": {},
   "source": [
    "I discovered Frank Lloyd Wright is the most prolific american architect. Since all the others have fewer building I check that there is no other property that returns an architect's work in both directions."
   ]
  },
  {
   "cell_type": "code",
   "execution_count": 26,
   "id": "adf4c88c-8147-4b2e-9528-64f40ebec400",
   "metadata": {},
   "outputs": [
    {
     "name": "stdout",
     "output_type": "stream",
     "text": [
      "Results\n",
      "[('p', 'http://www.wikidata.org/prop/direct/P646'), ('pname', 'Freebase ID'), ('objs', '2582')]\n",
      "[('p', 'http://www.wikidata.org/prop/direct/P5508'), ('pname', 'archINFORM person or group ID'), ('objs', '2303')]\n",
      "[('p', 'http://www.wikidata.org/prop/direct/P569'), ('pname', 'date of birth'), ('objs', '2102')]\n",
      "[('p', 'http://www.wikidata.org/prop/direct/P570'), ('pname', 'date of death'), ('objs', '1959')]\n",
      "[('p', 'http://www.wikidata.org/prop/direct/P214'), ('pname', 'VIAF ID'), ('objs', '1895')]\n",
      "[('p', 'http://www.wikidata.org/prop/direct/P7859'), ('pname', 'WorldCat Identities ID'), ('objs', '1739')]\n",
      "[('p', 'http://www.wikidata.org/prop/direct/P244'), ('pname', 'Library of Congress authority ID'), ('objs', '1449')]\n",
      "[('p', 'http://www.wikidata.org/prop/direct/P734'), ('pname', 'family name'), ('objs', '1367')]\n",
      "[('p', 'http://www.wikidata.org/prop/direct/P245'), ('pname', 'Union List of Artist Names ID'), ('objs', '1202')]\n",
      "[('p', 'http://www.wikidata.org/prop/direct/P213'), ('pname', 'ISNI'), ('objs', '1185')]\n",
      "[('p', 'http://www.wikidata.org/prop/direct/P2163'), ('pname', 'FAST ID'), ('objs', '1101')]\n",
      "[('p', 'http://www.wikidata.org/prop/direct/P19'), ('pname', 'place of birth'), ('objs', '1008')]\n",
      "[('p', 'http://www.wikidata.org/prop/direct/P735'), ('pname', 'given name'), ('objs', '978')]\n",
      "[('p', 'http://www.wikidata.org/prop/direct/P3430'), ('pname', 'SNAC ARK ID'), ('objs', '914')]\n",
      "[('p', 'http://www.wikidata.org/prop/direct/P373'), ('pname', 'Commons category'), ('objs', '883')]\n",
      "[('p', 'http://www.wikidata.org/prop/direct/P800'), ('pname', 'notable work'), ('objs', '815')]\n",
      "[('p', 'http://www.wikidata.org/prop/direct/P18'), ('pname', 'image'), ('objs', '768')]\n",
      "[('p', 'http://www.wikidata.org/prop/direct/P69'), ('pname', 'educated at'), ('objs', '627')]\n",
      "[('p', 'http://www.wikidata.org/prop/direct/P227'), ('pname', 'GND ID'), ('objs', '617')]\n",
      "[('p', 'http://www.wikidata.org/prop/direct/P269'), ('pname', 'IdRef ID'), ('objs', '559')]\n",
      "[('p', 'http://www.wikidata.org/prop/direct/P5745'), ('pname', 'Pacific Coast Architecture Database person ID'), ('objs', '548')]\n",
      "[('p', 'http://www.wikidata.org/prop/direct/P20'), ('pname', 'place of death'), ('objs', '519')]\n",
      "[('p', 'http://www.wikidata.org/prop/direct/P1006'), ('pname', 'Nationale Thesaurus voor Auteurs ID'), ('objs', '418')]\n",
      "[('p', 'http://www.wikidata.org/prop/direct/P2671'), ('pname', 'Google Knowledge Graph ID'), ('objs', '402')]\n",
      "[('p', 'http://www.wikidata.org/prop/direct/P2268'), ('pname', \"Musée d'Orsay artist ID\"), ('objs', '390')]\n"
     ]
    },
    {
     "data": {
      "text/plain": [
       "25"
      ]
     },
     "execution_count": 26,
     "metadata": {},
     "output_type": "execute_result"
    }
   ],
   "source": [
    "queryString = \"\"\"\n",
    "SELECT ?p ?pname COUNT(DISTINCT ?o) AS ?objs\n",
    "WHERE { \n",
    "\n",
    "?a wdt:P27 wd:Q30; \n",
    "    wdt:P106 wd:Q42973;\n",
    "    ?p ?o. \n",
    "\n",
    "?p <http://schema.org/name> ?pname.\n",
    "\n",
    "} \n",
    "GROUP BY ?p ?pname\n",
    "ORDER BY DESC(?objs)\n",
    "LIMIT 25\n",
    "\"\"\"\n",
    "\n",
    "print(\"Results\")\n",
    "run_query(queryString)"
   ]
  },
  {
   "cell_type": "code",
   "execution_count": 27,
   "id": "c326cd6b-2f92-465b-a421-4fd613b575ea",
   "metadata": {},
   "outputs": [
    {
     "name": "stdout",
     "output_type": "stream",
     "text": [
      "Results\n",
      "[('p', 'http://www.wikidata.org/prop/direct/P84'), ('pname', 'architect'), ('subjs', '7012')]\n",
      "[('p', 'http://www.wikidata.org/prop/direct/P170'), ('pname', 'creator'), ('subjs', '3196')]\n",
      "[('p', 'http://www.wikidata.org/prop/direct/P710'), ('pname', 'participant'), ('subjs', '678')]\n",
      "[('p', 'http://www.wikidata.org/prop/direct/P2554'), ('pname', 'production designer'), ('subjs', '559')]\n",
      "[('p', 'http://www.wikidata.org/prop/direct/P175'), ('pname', 'performer'), ('subjs', '252')]\n",
      "[('p', 'http://www.wikidata.org/prop/direct/P40'), ('pname', 'child'), ('subjs', '234')]\n",
      "[('p', 'http://www.wikidata.org/prop/direct/P50'), ('pname', 'author'), ('subjs', '175')]\n",
      "[('p', 'http://www.wikidata.org/prop/direct/P287'), ('pname', 'designed by'), ('subjs', '172')]\n",
      "[('p', 'http://www.wikidata.org/prop/direct/P162'), ('pname', 'producer'), ('subjs', '169')]\n",
      "[('p', 'http://www.wikidata.org/prop/direct/P22'), ('pname', 'father'), ('subjs', '164')]\n",
      "[('p', 'http://www.wikidata.org/prop/direct/P112'), ('pname', 'founded by'), ('subjs', '164')]\n",
      "[('p', 'http://www.wikidata.org/prop/direct/P26'), ('pname', 'spouse'), ('subjs', '157')]\n",
      "[('p', 'http://www.wikidata.org/prop/direct/P161'), ('pname', 'cast member'), ('subjs', '153')]\n",
      "[('p', 'http://www.wikidata.org/prop/direct/P3373'), ('pname', 'sibling'), ('subjs', '132')]\n",
      "[('p', 'http://www.wikidata.org/prop/direct/P138'), ('pname', 'named after'), ('subjs', '109')]\n",
      "[('p', 'http://www.wikidata.org/prop/direct/P921'), ('pname', 'main subject'), ('subjs', '107')]\n",
      "[('p', 'http://www.wikidata.org/prop/direct/P1346'), ('pname', 'winner'), ('subjs', '69')]\n",
      "[('p', 'http://www.wikidata.org/prop/direct/P301'), ('pname', \"category's main topic\"), ('subjs', '63')]\n",
      "[('p', 'http://www.wikidata.org/prop/direct/P1889'), ('pname', 'different from'), ('subjs', '59')]\n",
      "[('p', 'http://www.wikidata.org/prop/direct/P971'), ('pname', 'category combines topics'), ('subjs', '53')]\n",
      "[('p', 'http://www.wikidata.org/prop/direct/P1066'), ('pname', 'student of'), ('subjs', '48')]\n",
      "[('p', 'http://www.wikidata.org/prop/direct/P180'), ('pname', 'depicts'), ('subjs', '47')]\n",
      "[('p', 'http://www.wikidata.org/prop/direct/P57'), ('pname', 'director'), ('subjs', '46')]\n",
      "[('p', 'http://www.wikidata.org/prop/direct/P58'), ('pname', 'screenwriter'), ('subjs', '46')]\n",
      "[('p', 'http://www.wikidata.org/prop/direct/P1327'), ('pname', 'partner in business or sport'), ('subjs', '43')]\n"
     ]
    },
    {
     "data": {
      "text/plain": [
       "25"
      ]
     },
     "execution_count": 27,
     "metadata": {},
     "output_type": "execute_result"
    }
   ],
   "source": [
    "queryString = \"\"\"\n",
    "SELECT ?p ?pname COUNT(DISTINCT ?s) AS ?subjs\n",
    "WHERE { \n",
    "\n",
    "?a wdt:P27 wd:Q30; \n",
    "    wdt:P106 wd:Q42973.\n",
    "\n",
    "?s ?p ?a.\n",
    "\n",
    "?p <http://schema.org/name> ?pname.\n",
    "\n",
    "} \n",
    "GROUP BY ?p ?pname\n",
    "ORDER BY DESC(?subjs)\n",
    "LIMIT 25\n",
    "\"\"\"\n",
    "\n",
    "print(\"Results\")\n",
    "run_query(queryString)"
   ]
  },
  {
   "cell_type": "markdown",
   "id": "09cbe734-07d9-4a43-8a72-9bc57bddaec7",
   "metadata": {},
   "source": [
    "I discover there is also the property \"creator\" (wdt:P170) therefore I return some triples of such property."
   ]
  },
  {
   "cell_type": "code",
   "execution_count": 28,
   "id": "7bf5f5d7-abee-40e7-ac7e-5b5bdaf9d3de",
   "metadata": {},
   "outputs": [
    {
     "name": "stdout",
     "output_type": "stream",
     "text": [
      "Results\n",
      "[('s', 'http://www.wikidata.org/entity/Q717956'), ('sname', 'Unisphere'), ('i', 'http://www.wikidata.org/entity/Q483453'), ('instanceOf', 'fountain')]\n",
      "[('s', 'http://www.wikidata.org/entity/Q717956'), ('sname', 'Unisphere'), ('i', 'http://www.wikidata.org/entity/Q860861'), ('instanceOf', 'sculpture')]\n",
      "[('s', 'http://www.wikidata.org/entity/Q717956'), ('sname', 'Unisphere'), ('i', 'http://www.wikidata.org/entity/Q133792'), ('instanceOf', 'globe')]\n",
      "[('s', 'http://www.wikidata.org/entity/Q20198613'), ('sname', 'Armchair'), ('i', 'http://www.wikidata.org/entity/Q1847455'), ('instanceOf', 'wing chair')]\n",
      "[('s', 'http://www.wikidata.org/entity/Q103838652'), ('sname', 'The Mastersingers of Nürnberg'), ('i', 'http://www.wikidata.org/entity/Q3305213'), ('instanceOf', 'painting')]\n",
      "[('s', 'http://www.wikidata.org/entity/Q103837425'), ('sname', 'Sphynx'), ('i', 'http://www.wikidata.org/entity/Q3305213'), ('instanceOf', 'painting')]\n",
      "[('s', 'http://www.wikidata.org/entity/Q68140838'), ('sname', 'Church of the Gesú'), ('i', 'http://www.wikidata.org/entity/Q108325'), ('instanceOf', 'chapel')]\n",
      "[('s', 'http://www.wikidata.org/entity/Q68140838'), ('sname', 'Church of the Gesú'), ('i', 'http://www.wikidata.org/entity/Q317557'), ('instanceOf', 'parish church')]\n",
      "[('s', 'http://www.wikidata.org/entity/Q68140838'), ('sname', 'Church of the Gesú'), ('i', 'http://www.wikidata.org/entity/Q1088552'), ('instanceOf', 'Catholic church building')]\n",
      "[('s', 'http://www.wikidata.org/entity/Q19924867'), ('sname', 'Thomas Jefferson'), ('i', 'http://www.wikidata.org/entity/Q3305213'), ('instanceOf', 'painting')]\n",
      "[('s', 'http://www.wikidata.org/entity/Q19924921'), ('sname', 'Alexander Hamilton'), ('i', 'http://www.wikidata.org/entity/Q3305213'), ('instanceOf', 'painting')]\n",
      "[('s', 'http://www.wikidata.org/entity/Q20198400'), ('sname', 'William Pinkney (1764-1822)'), ('i', 'http://www.wikidata.org/entity/Q3305213'), ('instanceOf', 'painting')]\n",
      "[('s', 'http://www.wikidata.org/entity/Q28094889'), ('sname', 'Portrait of Mrs. John Trumbull (Sarah Hope Harvey, 1774–1824)'), ('i', 'http://www.wikidata.org/entity/Q3305213'), ('instanceOf', 'painting')]\n",
      "[('s', 'http://www.wikidata.org/entity/Q64552332'), ('sname', 'John Trumbull'), ('i', 'http://www.wikidata.org/entity/Q3305213'), ('instanceOf', 'painting')]\n",
      "[('s', 'http://www.wikidata.org/entity/Q47450918'), ('sname', 'The Resignation of General Washington, December 23, 1783'), ('i', 'http://www.wikidata.org/entity/Q3305213'), ('instanceOf', 'painting')]\n",
      "[('s', 'http://www.wikidata.org/entity/Q78662776'), ('sname', 'Scene from Ossian’s \"Fingal\":  Lamderg and Gelchossa'), ('i', 'http://www.wikidata.org/entity/Q3305213'), ('instanceOf', 'painting')]\n",
      "[('s', 'http://www.wikidata.org/entity/Q46625676'), ('sname', 'The Sortie Made by the Garrison of Gibraltar'), ('i', 'http://www.wikidata.org/entity/Q3305213'), ('instanceOf', 'painting')]\n",
      "[('s', 'http://www.wikidata.org/entity/Q49281639'), ('sname', 'The Surrender of General Burgoyne at Saratoga, October 16,\\xa01777'), ('i', 'http://www.wikidata.org/entity/Q3305213'), ('instanceOf', 'painting')]\n",
      "[('s', 'http://www.wikidata.org/entity/Q49281859'), ('sname', 'Stephen van Rensselaer (1764-1839), LL.D.\\xa01822'), ('i', 'http://www.wikidata.org/entity/Q3305213'), ('instanceOf', 'painting')]\n",
      "[('s', 'http://www.wikidata.org/entity/Q49283182'), ('sname', 'Jonathan Trumbull, Jr. (1740-1809) with Mrs. Trumbull (Eunice Backus) (1749-1826) and Faith Trumbull\\xa0(1769-1846)'), ('i', 'http://www.wikidata.org/entity/Q3305213'), ('instanceOf', 'painting')]\n",
      "[('s', 'http://www.wikidata.org/entity/Q49283491'), ('sname', 'William\\xa0Ellice'), ('i', 'http://www.wikidata.org/entity/Q3305213'), ('instanceOf', 'painting')]\n",
      "[('s', 'http://www.wikidata.org/entity/Q49283619'), ('sname', 'Brutus and His Friends at the Death of\\xa0Lucretia'), ('i', 'http://www.wikidata.org/entity/Q3305213'), ('instanceOf', 'painting')]\n",
      "[('s', 'http://www.wikidata.org/entity/Q47513183'), ('sname', 'Elizabeth Grimké Rutledge'), ('i', 'http://www.wikidata.org/entity/Q3305213'), ('instanceOf', 'painting')]\n",
      "[('s', 'http://www.wikidata.org/entity/Q20772336'), ('sname', \"The Death of General Warren at the Battle of Bunker's Hill, 17 June, 1775\"), ('i', 'http://www.wikidata.org/entity/Q3305213'), ('instanceOf', 'painting')]\n",
      "[('s', 'http://www.wikidata.org/entity/Q7729430'), ('sname', \"The Death of General Warren at the Battle of Bunker's Hill, June 17, 1775\"), ('i', 'http://www.wikidata.org/entity/Q15727816'), ('instanceOf', 'painting series')]\n"
     ]
    },
    {
     "data": {
      "text/plain": [
       "25"
      ]
     },
     "execution_count": 28,
     "metadata": {},
     "output_type": "execute_result"
    }
   ],
   "source": [
    "queryString = \"\"\"\n",
    "SELECT DISTINCT ?s ?sname ?i ?instanceOf\n",
    "WHERE { \n",
    "\n",
    "?a wdt:P27 wd:Q30; \n",
    "    wdt:P106 wd:Q42973.\n",
    "\n",
    "?s wdt:P170 ?a;\n",
    "    wdt:P31 ?i.\n",
    "\n",
    "?s <http://schema.org/name> ?sname.\n",
    "?i <http://schema.org/name> ?instanceOf.\n",
    "\n",
    "} \n",
    "LIMIT 25\n",
    "\"\"\"\n",
    "\n",
    "print(\"Results\")\n",
    "run_query(queryString)"
   ]
  },
  {
   "cell_type": "markdown",
   "id": "740fb4ae-fd09-42d1-818c-f37592b95681",
   "metadata": {},
   "source": [
    "It looks like this property is not related to buildings. In order to check it I count the number of objects of such property based on what they are instance of."
   ]
  },
  {
   "cell_type": "code",
   "execution_count": 29,
   "id": "318d6a72-1440-4ac7-8c0e-30a002cf5dd9",
   "metadata": {},
   "outputs": [
    {
     "name": "stdout",
     "output_type": "stream",
     "text": [
      "Results\n",
      "[('i', 'http://www.wikidata.org/entity/Q3305213'), ('instanceOf', 'painting'), ('subjs', '1267')]\n",
      "[('i', 'http://www.wikidata.org/entity/Q93184'), ('instanceOf', 'drawing'), ('subjs', '1026')]\n",
      "[('i', 'http://www.wikidata.org/entity/Q11060274'), ('instanceOf', 'print'), ('subjs', '485')]\n",
      "[('i', 'http://www.wikidata.org/entity/Q860861'), ('instanceOf', 'sculpture'), ('subjs', '155')]\n",
      "[('i', 'http://www.wikidata.org/entity/Q838948'), ('instanceOf', 'work of art'), ('subjs', '82')]\n",
      "[('i', 'http://www.wikidata.org/entity/Q125191'), ('instanceOf', 'photograph'), ('subjs', '35')]\n",
      "[('i', 'http://www.wikidata.org/entity/Q20437094'), ('instanceOf', 'installation artwork'), ('subjs', '22')]\n",
      "[('i', 'http://www.wikidata.org/entity/Q20742776'), ('instanceOf', 'video artwork'), ('subjs', '12')]\n",
      "[('i', 'http://www.wikidata.org/entity/Q179700'), ('instanceOf', 'statue'), ('subjs', '10')]\n",
      "[('i', 'http://www.wikidata.org/entity/Q4989906'), ('instanceOf', 'monument'), ('subjs', '9')]\n",
      "[('i', 'http://www.wikidata.org/entity/Q483453'), ('instanceOf', 'fountain'), ('subjs', '7')]\n",
      "[('i', 'http://www.wikidata.org/entity/Q3052382'), ('instanceOf', 'fonds'), ('subjs', '7')]\n",
      "[('i', 'http://www.wikidata.org/entity/Q1967454'), ('instanceOf', 'National Memorial of the United States'), ('subjs', '6')]\n",
      "[('i', 'http://www.wikidata.org/entity/Q15026'), ('instanceOf', 'chair'), ('subjs', '5')]\n",
      "[('i', 'http://www.wikidata.org/entity/Q575759'), ('instanceOf', 'war memorial'), ('subjs', '4')]\n",
      "[('i', 'http://www.wikidata.org/entity/Q811430'), ('instanceOf', 'human-made geographic feature'), ('subjs', '3')]\n",
      "[('i', 'http://www.wikidata.org/entity/Q811979'), ('instanceOf', 'architectural structure'), ('subjs', '3')]\n",
      "[('i', 'http://www.wikidata.org/entity/Q219423'), ('instanceOf', 'mural'), ('subjs', '3')]\n",
      "[('i', 'http://www.wikidata.org/entity/Q1847455'), ('instanceOf', 'wing chair'), ('subjs', '3')]\n",
      "[('i', 'http://www.wikidata.org/entity/Q22075301'), ('instanceOf', 'textile artwork'), ('subjs', '3')]\n",
      "[('i', 'http://www.wikidata.org/entity/Q14745'), ('instanceOf', 'furniture'), ('subjs', '3')]\n",
      "[('i', 'http://www.wikidata.org/entity/Q11285759'), ('instanceOf', 'armchair'), ('subjs', '3')]\n",
      "[('i', 'http://www.wikidata.org/entity/Q5003624'), ('instanceOf', 'memorial'), ('subjs', '3')]\n",
      "[('i', 'http://www.wikidata.org/entity/Q18593264'), ('instanceOf', 'item of collection or exhibition'), ('subjs', '3')]\n",
      "[('i', 'http://www.wikidata.org/entity/Q43483'), ('instanceOf', 'well'), ('subjs', '3')]\n"
     ]
    },
    {
     "data": {
      "text/plain": [
       "25"
      ]
     },
     "execution_count": 29,
     "metadata": {},
     "output_type": "execute_result"
    }
   ],
   "source": [
    "queryString = \"\"\"\n",
    "SELECT ?i ?instanceOf COUNT(DISTINCT ?s) AS ?subjs\n",
    "WHERE { \n",
    "\n",
    "?a wdt:P27 wd:Q30; \n",
    "    wdt:P106 wd:Q42973.\n",
    "\n",
    "?s wdt:P170 ?a;\n",
    "    wdt:P31 ?i.\n",
    "\n",
    "?i <http://schema.org/name> ?instanceOf.\n",
    "\n",
    "} \n",
    "GROUP BY ?i ?instanceOf\n",
    "ORDER BY DESC(?subjs)\n",
    "LIMIT 25\n",
    "\"\"\"\n",
    "\n",
    "print(\"Results\")\n",
    "run_query(queryString)"
   ]
  },
  {
   "cell_type": "markdown",
   "id": "0c8d5067-d8f1-4d3a-af3d-87edfe9839d9",
   "metadata": {},
   "source": [
    "From this analysis I can assess the only property retrieving an architect's work is \"architect\" (wdt:P84).\n",
    "\n",
    "I now return the most prolific architects all over the world."
   ]
  },
  {
   "cell_type": "code",
   "execution_count": 30,
   "id": "1dd79238-0fe6-470c-9669-cd9cb03d8596",
   "metadata": {},
   "outputs": [
    {
     "name": "stdout",
     "output_type": "stream",
     "text": [
      "Results\n",
      "[('architect', 'Frank Lloyd Wright'), ('country', 'United States of America'), ('buildings', '244')]\n",
      "[('architect', 'Edwin Lutyens'), ('country', 'United Kingdom'), ('buildings', '172')]\n",
      "[('architect', 'Reginald Blomfield'), ('country', 'United Kingdom'), ('buildings', '140')]\n",
      "[('architect', 'Reginald Blomfield'), ('country', 'United Kingdom of Great Britain and Ireland'), ('buildings', '140')]\n",
      "[('architect', 'Bruno Granholm'), ('country', 'Finland'), ('buildings', '133')]\n",
      "[('architect', 'Bruno Granholm'), ('country', 'Russian Empire'), ('buildings', '133')]\n",
      "[('architect', 'Oscar Niemeyer'), ('country', 'Brazil'), ('buildings', '116')]\n",
      "[('architect', 'Herbert Baker'), ('country', 'United Kingdom'), ('buildings', '109')]\n",
      "[('architect', 'Herbert Baker'), ('country', 'United Kingdom of Great Britain and Ireland'), ('buildings', '109')]\n",
      "[('architect', 'Alvar Aalto'), ('country', 'Finland'), ('buildings', '104')]\n",
      "[('architect', 'Charles Holden'), ('country', 'United Kingdom of Great Britain and Ireland'), ('buildings', '102')]\n",
      "[('architect', 'Pierre Cuypers'), ('country', 'Kingdom of the Netherlands'), ('buildings', '102')]\n",
      "[('architect', 'Charles Holden'), ('country', 'United Kingdom'), ('buildings', '102')]\n",
      "[('architect', 'John Douglas'), ('country', 'United Kingdom of Great Britain and Ireland'), ('buildings', '98')]\n",
      "[('architect', 'John Douglas'), ('country', 'United Kingdom'), ('buildings', '98')]\n"
     ]
    },
    {
     "data": {
      "text/plain": [
       "15"
      ]
     },
     "execution_count": 30,
     "metadata": {},
     "output_type": "execute_result"
    }
   ],
   "source": [
    "queryString = \"\"\"\n",
    "SELECT ?architect ?country COUNT(DISTINCT ?b) AS ?buildings\n",
    "WHERE { \n",
    "\n",
    "?a wdt:P106 wd:Q42973;\n",
    "    wdt:P27 ?c. \n",
    "\n",
    "?b wdt:P84 ?a.\n",
    "\n",
    "?a <http://schema.org/name> ?architect.\n",
    "?c <http://schema.org/name> ?country.\n",
    "\n",
    "} \n",
    "GROUP BY ?architect ?country\n",
    "ORDER BY DESC(?buildings)\n",
    "LIMIT 15\n",
    "\"\"\"\n",
    "\n",
    "print(\"Results\")\n",
    "run_query(queryString)"
   ]
  },
  {
   "cell_type": "markdown",
   "id": "9d5fdd64-a3f4-4727-8c67-f67460b526c3",
   "metadata": {},
   "source": [
    "Now I return the most prolific architects in the US, that is the architects that built most buildings in the USA."
   ]
  },
  {
   "cell_type": "code",
   "execution_count": 31,
   "id": "ea829ea4-f253-4fbd-bf9c-1eddfce5f38a",
   "metadata": {},
   "outputs": [
    {
     "name": "stdout",
     "output_type": "stream",
     "text": [
      "Results\n",
      "[('architect', 'Frank Lloyd Wright'), ('country', 'United States of America'), ('buildings', '236')]\n",
      "[('architect', 'Samuel Hannaford'), ('country', 'United States of America'), ('buildings', '52')]\n",
      "[('architect', 'James Knox Taylor'), ('country', 'United States of America'), ('buildings', '51')]\n",
      "[('architect', 'Richard Upjohn'), ('country', 'United Kingdom of Great Britain and Ireland'), ('buildings', '48')]\n",
      "[('architect', 'Richard Upjohn'), ('country', 'United States of America'), ('buildings', '48')]\n",
      "[('architect', 'Emery Roth'), ('country', 'Hungary'), ('buildings', '44')]\n",
      "[('architect', 'César Pelli'), ('country', 'Argentina'), ('buildings', '44')]\n",
      "[('architect', 'César Pelli'), ('country', 'United States of America'), ('buildings', '44')]\n",
      "[('architect', 'Emery Roth'), ('country', 'United States of America'), ('buildings', '44')]\n",
      "[('architect', 'Albert Kahn'), ('country', 'United States of America'), ('buildings', '42')]\n",
      "[('architect', 'Louis A. Simon'), ('country', 'United States of America'), ('buildings', '42')]\n",
      "[('architect', 'Ralph Adams Cram'), ('country', 'United States of America'), ('buildings', '36')]\n",
      "[('architect', 'Cass Gilbert'), ('country', 'United States of America'), ('buildings', '36')]\n",
      "[('architect', 'Henry Hobson Richardson'), ('country', 'United States of America'), ('buildings', '35')]\n",
      "[('architect', 'Welton Becket'), ('country', 'United States of America'), ('buildings', '34')]\n"
     ]
    },
    {
     "data": {
      "text/plain": [
       "15"
      ]
     },
     "execution_count": 31,
     "metadata": {},
     "output_type": "execute_result"
    }
   ],
   "source": [
    "queryString = \"\"\"\n",
    "SELECT ?architect ?country COUNT(DISTINCT ?b) AS ?buildings\n",
    "WHERE { \n",
    "\n",
    "?a wdt:P106 wd:Q42973;\n",
    "    wdt:P27 ?c. \n",
    "\n",
    "?b wdt:P84 ?a;\n",
    "    wdt:P17 wd:Q30.\n",
    "\n",
    "?a <http://schema.org/name> ?architect.\n",
    "?c <http://schema.org/name> ?country.\n",
    "\n",
    "} \n",
    "GROUP BY ?architect ?country\n",
    "ORDER BY DESC(?buildings)\n",
    "LIMIT 15\n",
    "\"\"\"\n",
    "\n",
    "print(\"Results\")\n",
    "run_query(queryString)"
   ]
  },
  {
   "cell_type": "markdown",
   "id": "05cd49b9-bca8-4deb-928c-bd2b52f9ae0d",
   "metadata": {},
   "source": [
    "In the end I return the most prolific american architects in the USA."
   ]
  },
  {
   "cell_type": "code",
   "execution_count": 32,
   "id": "c2e9c198-a992-463d-a8a2-f78fda78353b",
   "metadata": {},
   "outputs": [
    {
     "name": "stdout",
     "output_type": "stream",
     "text": [
      "Results\n",
      "[('a', 'http://www.wikidata.org/entity/Q5604'), ('architect', 'Frank Lloyd Wright'), ('buildings', '236')]\n",
      "[('a', 'http://www.wikidata.org/entity/Q7411623'), ('architect', 'Samuel Hannaford'), ('buildings', '52')]\n",
      "[('a', 'http://www.wikidata.org/entity/Q6137444'), ('architect', 'James Knox Taylor'), ('buildings', '51')]\n",
      "[('a', 'http://www.wikidata.org/entity/Q2066635'), ('architect', 'Richard Upjohn'), ('buildings', '48')]\n",
      "[('a', 'http://www.wikidata.org/entity/Q371506'), ('architect', 'Emery Roth'), ('buildings', '44')]\n",
      "[('a', 'http://www.wikidata.org/entity/Q309483'), ('architect', 'César Pelli'), ('buildings', '44')]\n",
      "[('a', 'http://www.wikidata.org/entity/Q706666'), ('architect', 'Albert Kahn'), ('buildings', '42')]\n",
      "[('a', 'http://www.wikidata.org/entity/Q6686579'), ('architect', 'Louis A. Simon'), ('buildings', '42')]\n",
      "[('a', 'http://www.wikidata.org/entity/Q7287147'), ('architect', 'Ralph Adams Cram'), ('buildings', '36')]\n",
      "[('a', 'http://www.wikidata.org/entity/Q464603'), ('architect', 'Cass Gilbert'), ('buildings', '36')]\n",
      "[('a', 'http://www.wikidata.org/entity/Q723234'), ('architect', 'Henry Hobson Richardson'), ('buildings', '35')]\n",
      "[('a', 'http://www.wikidata.org/entity/Q3052330'), ('architect', 'Welton Becket'), ('buildings', '34')]\n",
      "[('a', 'http://www.wikidata.org/entity/Q6128314'), ('architect', 'James A. Wetmore'), ('buildings', '34')]\n",
      "[('a', 'http://www.wikidata.org/entity/Q5497817'), ('architect', 'Frederick G. Clausen'), ('buildings', '33')]\n",
      "[('a', 'http://www.wikidata.org/entity/Q183528'), ('architect', 'Philip Johnson'), ('buildings', '29')]\n"
     ]
    },
    {
     "data": {
      "text/plain": [
       "15"
      ]
     },
     "execution_count": 32,
     "metadata": {},
     "output_type": "execute_result"
    }
   ],
   "source": [
    "queryString = \"\"\"\n",
    "SELECT ?a ?architect COUNT(DISTINCT ?b) AS ?buildings\n",
    "WHERE { \n",
    "\n",
    "?a wdt:P106 wd:Q42973;\n",
    "    wdt:P27 wd:Q30. \n",
    "\n",
    "?b wdt:P84 ?a;\n",
    "    wdt:P17 wd:Q30.\n",
    "\n",
    "?a <http://schema.org/name> ?architect.\n",
    "\n",
    "} \n",
    "GROUP BY ?architect ?a\n",
    "ORDER BY DESC(?buildings)\n",
    "LIMIT 15\n",
    "\"\"\"\n",
    "\n",
    "print(\"Results\")\n",
    "run_query(queryString)"
   ]
  },
  {
   "cell_type": "markdown",
   "id": "1561e40b-453f-4549-a885-b2f07d1b962b",
   "metadata": {
    "tags": []
   },
   "source": [
    "## Location of Buildings Designed by American Architects\n",
    "This section contains the queries used to answer the last question: _Analyze the location of the buildings designed by the american architects answering the following questions:_\n",
    " \n",
    "   _4.1 Which styles exists in the U.S.? Which type of building?_\n",
    "   \n",
    "   _4.2 In which U.S. states there are more notable buildings?_\n",
    "   \n",
    "   _4.3 Which U.S. state contains the largest number of building designed by U.S. architects_"
   ]
  },
  {
   "cell_type": "markdown",
   "id": "07fab031-7b1c-46b6-aead-f6ed82026308",
   "metadata": {
    "tags": []
   },
   "source": [
    "### Styles and Type of Building\n",
    "I now answer to the first question about styles and type of buildings in the USA. \n",
    "\n",
    "Firstly I return how many different styles there are in the USA (wd:Q30). I recall each building contains information about the architectural style by means of the property \"architectural style\" (wdt:P149)."
   ]
  },
  {
   "cell_type": "code",
   "execution_count": 33,
   "id": "80217306-d243-461b-9361-2965ddddc790",
   "metadata": {},
   "outputs": [
    {
     "name": "stdout",
     "output_type": "stream",
     "text": [
      "Results\n",
      "[('styles', '222')]\n"
     ]
    },
    {
     "data": {
      "text/plain": [
       "1"
      ]
     },
     "execution_count": 33,
     "metadata": {},
     "output_type": "execute_result"
    }
   ],
   "source": [
    "queryString = \"\"\"\n",
    "SELECT COUNT(DISTINCT ?s) AS ?styles\n",
    "WHERE { \n",
    "\n",
    "?b wdt:P17 wd:Q30;\n",
    "    wdt:P149 ?s.\n",
    "\n",
    "} \n",
    "\"\"\"\n",
    "\n",
    "print(\"Results\")\n",
    "run_query(queryString)"
   ]
  },
  {
   "cell_type": "markdown",
   "id": "b9842ab5-b8b6-476f-a4b6-5d59c4a3d7b5",
   "metadata": {},
   "source": [
    "Since they are a lot I return only the most popular ones."
   ]
  },
  {
   "cell_type": "code",
   "execution_count": 34,
   "id": "78e25d7d-ec43-40c1-8cf8-1fc2ad42a0bd",
   "metadata": {},
   "outputs": [
    {
     "name": "stdout",
     "output_type": "stream",
     "text": [
      "Results\n",
      "[('s', 'http://www.wikidata.org/entity/Q1513688'), ('style', 'Greek Revival architecture'), ('buildings', '2954')]\n",
      "[('s', 'http://www.wikidata.org/entity/Q502163'), ('style', 'Renaissance Revival architecture'), ('buildings', '2217')]\n",
      "[('s', 'http://www.wikidata.org/entity/Q186363'), ('style', 'Gothic Revival'), ('buildings', '1227')]\n",
      "[('s', 'http://www.wikidata.org/entity/Q54111'), ('style', 'Neoclassical architecture'), ('buildings', '1124')]\n",
      "[('s', 'http://www.wikidata.org/entity/Q529819'), ('style', 'Queen Anne style architecture'), ('buildings', '1018')]\n",
      "[('s', 'http://www.wikidata.org/entity/Q5148367'), ('style', 'Colonial Revival architecture'), ('buildings', '808')]\n",
      "[('s', 'http://www.wikidata.org/entity/Q615196'), ('style', 'Italianate architecture'), ('buildings', '770')]\n",
      "[('s', 'http://www.wikidata.org/entity/Q6974748'), ('style', 'National Park Service rustic'), ('buildings', '716')]\n",
      "[('s', 'http://www.wikidata.org/entity/Q1400086'), ('style', 'Federal architecture'), ('buildings', '549')]\n",
      "[('s', 'http://www.wikidata.org/entity/Q2657199'), ('style', 'rustic architecture'), ('buildings', '546')]\n",
      "[('s', 'http://www.wikidata.org/entity/Q1125300'), ('style', 'Georgian architecture'), ('buildings', '528')]\n",
      "[('s', 'http://www.wikidata.org/entity/Q744373'), ('style', 'Romanesque Revival architecture'), ('buildings', '506')]\n",
      "[('s', 'http://www.wikidata.org/entity/Q245188'), ('style', 'modern architecture'), ('buildings', '454')]\n",
      "[('s', 'http://www.wikidata.org/entity/Q3645460'), ('style', 'Spanish Colonial Revival architecture'), ('buildings', '451')]\n",
      "[('s', 'http://www.wikidata.org/entity/Q1268134'), ('style', 'Beaux-Arts'), ('buildings', '427')]\n"
     ]
    },
    {
     "data": {
      "text/plain": [
       "15"
      ]
     },
     "execution_count": 34,
     "metadata": {},
     "output_type": "execute_result"
    }
   ],
   "source": [
    "queryString = \"\"\"\n",
    "SELECT ?s ?style COUNT(DISTINCT ?b) AS ?buildings\n",
    "WHERE { \n",
    "\n",
    "?b wdt:P17 wd:Q30;\n",
    "    wdt:P149 ?s.\n",
    "    \n",
    "?s <http://schema.org/name> ?style.\n",
    "\n",
    "} \n",
    "GROUP BY ?s ?style\n",
    "ORDER BY DESC(?buildings)\n",
    "LIMIT 15\n",
    "\"\"\"\n",
    "\n",
    "print(\"Results\")\n",
    "run_query(queryString)"
   ]
  },
  {
   "cell_type": "markdown",
   "id": "b466538f-fa1b-465c-afc2-f2054cbef851",
   "metadata": {},
   "source": [
    "I return the cities or counties where there are more Greek Revival architecture (wd:Q1513688) style buidlings."
   ]
  },
  {
   "cell_type": "code",
   "execution_count": 35,
   "id": "c14c0fea-8f78-4d4d-a727-3b602e1fa014",
   "metadata": {},
   "outputs": [
    {
     "name": "stdout",
     "output_type": "stream",
     "text": [
      "Results\n",
      "[('l', 'http://www.wikidata.org/entity/Q1384'), ('location', 'New York'), ('buildings', '335')]\n",
      "[('l', 'http://www.wikidata.org/entity/Q1370'), ('location', 'Virginia'), ('buildings', '197')]\n",
      "[('l', 'http://www.wikidata.org/entity/Q173'), ('location', 'Alabama'), ('buildings', '127')]\n",
      "[('l', 'http://www.wikidata.org/entity/Q1371'), ('location', 'West Virginia'), ('buildings', '114')]\n",
      "[('l', 'http://www.wikidata.org/entity/Q1400'), ('location', 'Pennsylvania'), ('buildings', '102')]\n",
      "[('l', 'http://www.wikidata.org/entity/Q1397'), ('location', 'Ohio'), ('buildings', '94')]\n",
      "[('l', 'http://www.wikidata.org/entity/Q771'), ('location', 'Massachusetts'), ('buildings', '90')]\n",
      "[('l', 'http://www.wikidata.org/entity/Q1588'), ('location', 'Louisiana'), ('buildings', '70')]\n",
      "[('l', 'http://www.wikidata.org/entity/Q1393'), ('location', 'Delaware'), ('buildings', '57')]\n",
      "[('l', 'http://www.wikidata.org/entity/Q779'), ('location', 'Connecticut'), ('buildings', '54')]\n",
      "[('l', 'http://www.wikidata.org/entity/Q1391'), ('location', 'Maryland'), ('buildings', '48')]\n",
      "[('l', 'http://www.wikidata.org/entity/Q1546'), ('location', 'Iowa'), ('buildings', '44')]\n",
      "[('l', 'http://www.wikidata.org/entity/Q724'), ('location', 'Maine'), ('buildings', '39')]\n",
      "[('l', 'http://www.wikidata.org/entity/Q1204'), ('location', 'Illinois'), ('buildings', '38')]\n",
      "[('l', 'http://www.wikidata.org/entity/Q1509'), ('location', 'Tennessee'), ('buildings', '38')]\n"
     ]
    },
    {
     "data": {
      "text/plain": [
       "15"
      ]
     },
     "execution_count": 35,
     "metadata": {},
     "output_type": "execute_result"
    }
   ],
   "source": [
    "queryString = \"\"\"\n",
    "SELECT ?l ?location COUNT(DISTINCT ?b) AS ?buildings\n",
    "WHERE { \n",
    "\n",
    "?b wdt:P17 wd:Q30;\n",
    "    wdt:P149 wd:Q1513688;\n",
    "    wdt:P131 ?l.\n",
    "    \n",
    "?l <http://schema.org/name> ?location.\n",
    "\n",
    "} \n",
    "GROUP BY ?l ?location\n",
    "ORDER BY DESC(?buildings)\n",
    "LIMIT 15\n",
    "\"\"\"\n",
    "\n",
    "print(\"Results\")\n",
    "run_query(queryString)"
   ]
  },
  {
   "cell_type": "markdown",
   "id": "71a07225-57b0-4ab5-b690-41f9246fc467",
   "metadata": {},
   "source": [
    "Now I return how many different type of buildings there are in the USA. I recall the information about the type of buildings is inferred by means of the property \"instance of\" (wdt:P31)."
   ]
  },
  {
   "cell_type": "code",
   "execution_count": 36,
   "id": "806df86b-da89-4221-82a8-81f60c713a13",
   "metadata": {},
   "outputs": [
    {
     "name": "stdout",
     "output_type": "stream",
     "text": [
      "Results\n",
      "[('t', 'http://www.wikidata.org/entity/Q1307276'), ('type', 'single-family detached home'), ('buildings', '771')]\n",
      "[('t', 'http://www.wikidata.org/entity/Q16970'), ('type', 'church building'), ('buildings', '731')]\n",
      "[('t', 'http://www.wikidata.org/entity/Q41176'), ('type', 'building'), ('buildings', '580')]\n",
      "[('t', 'http://www.wikidata.org/entity/Q11303'), ('type', 'skyscraper'), ('buildings', '357')]\n",
      "[('t', 'http://www.wikidata.org/entity/Q64037785'), ('type', 'county courthouse'), ('buildings', '300')]\n",
      "[('t', 'http://www.wikidata.org/entity/Q27686'), ('type', 'hotel'), ('buildings', '295')]\n",
      "[('t', 'http://www.wikidata.org/entity/Q3947'), ('type', 'house'), ('buildings', '259')]\n",
      "[('t', 'http://www.wikidata.org/entity/Q24354'), ('type', 'theatre'), ('buildings', '243')]\n",
      "[('t', 'http://www.wikidata.org/entity/Q41253'), ('type', 'movie theater'), ('buildings', '218')]\n",
      "[('t', 'http://www.wikidata.org/entity/Q13402009'), ('type', 'apartment building'), ('buildings', '191')]\n",
      "[('t', 'http://www.wikidata.org/entity/Q1244442'), ('type', 'school building'), ('buildings', '180')]\n",
      "[('t', 'http://www.wikidata.org/entity/Q1021645'), ('type', 'office building'), ('buildings', '159')]\n",
      "[('t', 'http://www.wikidata.org/entity/Q811979'), ('type', 'architectural structure'), ('buildings', '154')]\n",
      "[('t', 'http://www.wikidata.org/entity/Q5773747'), ('type', 'historic house'), ('buildings', '151')]\n",
      "[('t', 'http://www.wikidata.org/entity/Q655686'), ('type', 'commercial building'), ('buildings', '132')]\n"
     ]
    },
    {
     "data": {
      "text/plain": [
       "15"
      ]
     },
     "execution_count": 36,
     "metadata": {},
     "output_type": "execute_result"
    }
   ],
   "source": [
    "queryString = \"\"\"\n",
    "SELECT ?t ?type COUNT(DISTINCT ?b) AS ?buildings\n",
    "WHERE { \n",
    "\n",
    "?a wdt:P106 wd:Q42973.\n",
    "\n",
    "?b wdt:P17 wd:Q30;\n",
    "    wdt:P84 ?a;\n",
    "    wdt:P31 ?t.\n",
    "    \n",
    "?t <http://schema.org/name> ?type.\n",
    "\n",
    "} \n",
    "GROUP BY ?t ?type\n",
    "ORDER BY DESC(?buildings)\n",
    "LIMIT 15\n",
    "\"\"\"\n",
    "\n",
    "print(\"Results\")\n",
    "run_query(queryString)"
   ]
  },
  {
   "cell_type": "markdown",
   "id": "edefd963-a6fa-4d53-85d4-107885bd2f4e",
   "metadata": {},
   "source": [
    "As expected the most common building type is \"single-family detached home\" that are regular houses."
   ]
  },
  {
   "cell_type": "markdown",
   "id": "69aab471-deb1-4da4-b175-70dea0f96724",
   "metadata": {
    "tags": []
   },
   "source": [
    "### US States with More Notable Buildings\n",
    "\n",
    "I now return the US states with more notable buildings. In order to do it I use the property \"notable work\" (wdt:P800) to return all the notable works and then I use the property \"located in the administrative territorial entity\" (wdt:P131) to inferred the location."
   ]
  },
  {
   "cell_type": "code",
   "execution_count": 37,
   "id": "384d21ef-ef6a-445f-9825-92c2739dc412",
   "metadata": {},
   "outputs": [
    {
     "name": "stdout",
     "output_type": "stream",
     "text": [
      "Results\n",
      "[('l', 'http://www.wikidata.org/entity/Q11299'), ('location', 'Manhattan'), ('buildings', '74')]\n",
      "[('l', 'http://www.wikidata.org/entity/Q61'), ('location', 'Washington, D.C.'), ('buildings', '44')]\n",
      "[('l', 'http://www.wikidata.org/entity/Q1297'), ('location', 'Chicago'), ('buildings', '31')]\n",
      "[('l', 'http://www.wikidata.org/entity/Q99'), ('location', 'California'), ('buildings', '24')]\n",
      "[('l', 'http://www.wikidata.org/entity/Q65'), ('location', 'Los Angeles'), ('buildings', '21')]\n",
      "[('l', 'http://www.wikidata.org/entity/Q771'), ('location', 'Massachusetts'), ('buildings', '15')]\n",
      "[('l', 'http://www.wikidata.org/entity/Q1400'), ('location', 'Pennsylvania'), ('buildings', '12')]\n",
      "[('l', 'http://www.wikidata.org/entity/Q1204'), ('location', 'Illinois'), ('buildings', '11')]\n",
      "[('l', 'http://www.wikidata.org/entity/Q812'), ('location', 'Florida'), ('buildings', '10')]\n",
      "[('l', 'http://www.wikidata.org/entity/Q779'), ('location', 'Connecticut'), ('buildings', '10')]\n",
      "[('l', 'http://www.wikidata.org/entity/Q6346'), ('location', 'Indianapolis'), ('buildings', '10')]\n",
      "[('l', 'http://www.wikidata.org/entity/Q62'), ('location', 'San Francisco'), ('buildings', '10')]\n",
      "[('l', 'http://www.wikidata.org/entity/Q1384'), ('location', 'New York'), ('buildings', '8')]\n",
      "[('l', 'http://www.wikidata.org/entity/Q864024'), ('location', 'Ponce'), ('buildings', '8')]\n",
      "[('l', 'http://www.wikidata.org/entity/Q18419'), ('location', 'Brooklyn'), ('buildings', '8')]\n"
     ]
    },
    {
     "data": {
      "text/plain": [
       "15"
      ]
     },
     "execution_count": 37,
     "metadata": {},
     "output_type": "execute_result"
    }
   ],
   "source": [
    "queryString = \"\"\"\n",
    "SELECT ?l ?location COUNT(DISTINCT ?b) AS ?buildings\n",
    "WHERE { \n",
    "\n",
    "?a wdt:P106 wd:Q42973;\n",
    "    wdt:P800 ?b.\n",
    "\n",
    "?b wdt:P17 wd:Q30;\n",
    "    wdt:P131 ?l.\n",
    "    \n",
    "?l <http://schema.org/name> ?location.\n",
    "\n",
    "} \n",
    "GROUP BY ?l ?location\n",
    "ORDER BY DESC(?buildings)\n",
    "LIMIT 15\n",
    "\"\"\"\n",
    "\n",
    "print(\"Results\")\n",
    "run_query(queryString)"
   ]
  },
  {
   "cell_type": "markdown",
   "id": "1fc99956-9ba7-4c07-a461-b544895781e1",
   "metadata": {
    "tags": []
   },
   "source": [
    "### US States with more buildings designed by US architect\n",
    "\n",
    "In the end I return the US states with the highest number of buildings designed by US architects. In this case I use the property \"architect\" (wdt:P84) because I am interested in all architects' works, not only the notable works."
   ]
  },
  {
   "cell_type": "code",
   "execution_count": 38,
   "id": "def76b0a-d810-4903-9fea-36e507f3bb4c",
   "metadata": {},
   "outputs": [
    {
     "name": "stdout",
     "output_type": "stream",
     "text": [
      "Results\n",
      "[('l', 'http://www.wikidata.org/entity/Q11299'), ('location', 'Manhattan'), ('buildings', '599')]\n",
      "[('l', 'http://www.wikidata.org/entity/Q61'), ('location', 'Washington, D.C.'), ('buildings', '202')]\n",
      "[('l', 'http://www.wikidata.org/entity/Q1384'), ('location', 'New York'), ('buildings', '189')]\n",
      "[('l', 'http://www.wikidata.org/entity/Q771'), ('location', 'Massachusetts'), ('buildings', '159')]\n",
      "[('l', 'http://www.wikidata.org/entity/Q1297'), ('location', 'Chicago'), ('buildings', '158')]\n",
      "[('l', 'http://www.wikidata.org/entity/Q1546'), ('location', 'Iowa'), ('buildings', '127')]\n",
      "[('l', 'http://www.wikidata.org/entity/Q1439'), ('location', 'Texas'), ('buildings', '119')]\n",
      "[('l', 'http://www.wikidata.org/entity/Q99'), ('location', 'California'), ('buildings', '119')]\n",
      "[('l', 'http://www.wikidata.org/entity/Q1397'), ('location', 'Ohio'), ('buildings', '115')]\n",
      "[('l', 'http://www.wikidata.org/entity/Q1400'), ('location', 'Pennsylvania'), ('buildings', '112')]\n",
      "[('l', 'http://www.wikidata.org/entity/Q6106'), ('location', 'Portland'), ('buildings', '109')]\n",
      "[('l', 'http://www.wikidata.org/entity/Q812'), ('location', 'Florida'), ('buildings', '84')]\n",
      "[('l', 'http://www.wikidata.org/entity/Q1204'), ('location', 'Illinois'), ('buildings', '78')]\n",
      "[('l', 'http://www.wikidata.org/entity/Q779'), ('location', 'Connecticut'), ('buildings', '78')]\n",
      "[('l', 'http://www.wikidata.org/entity/Q65'), ('location', 'Los Angeles'), ('buildings', '70')]\n"
     ]
    },
    {
     "data": {
      "text/plain": [
       "15"
      ]
     },
     "execution_count": 38,
     "metadata": {},
     "output_type": "execute_result"
    }
   ],
   "source": [
    "queryString = \"\"\"\n",
    "SELECT ?l ?location COUNT(DISTINCT ?b) AS ?buildings\n",
    "WHERE { \n",
    "\n",
    "?a wdt:P106 wd:Q42973;\n",
    "    wdt:P27 wd:Q30.\n",
    "\n",
    "?b wdt:P84 ?a;\n",
    "    wdt:P17 wd:Q30;\n",
    "    wdt:P131 ?l.\n",
    "    \n",
    "?l <http://schema.org/name> ?location.\n",
    "\n",
    "} \n",
    "GROUP BY ?l ?location\n",
    "ORDER BY DESC(?buildings)\n",
    "LIMIT 15\n",
    "\"\"\"\n",
    "\n",
    "print(\"Results\")\n",
    "run_query(queryString)"
   ]
  },
  {
   "cell_type": "markdown",
   "id": "bbdbec04-c6d2-46c7-9816-9191d8add0c0",
   "metadata": {},
   "source": [
    "Again, Manhattan has the biggest number of buildings."
   ]
  },
  {
   "cell_type": "code",
   "execution_count": null,
   "id": "50f2fa08-0f59-468a-8aca-3c7f93b9d307",
   "metadata": {},
   "outputs": [],
   "source": []
  }
 ],
 "metadata": {
  "kernelspec": {
   "display_name": "Python 3",
   "language": "python",
   "name": "python3"
  },
  "language_info": {
   "codemirror_mode": {
    "name": "ipython",
    "version": 3
   },
   "file_extension": ".py",
   "mimetype": "text/x-python",
   "name": "python",
   "nbconvert_exporter": "python",
   "pygments_lexer": "ipython3",
   "version": "3.7.10"
  }
 },
 "nbformat": 4,
 "nbformat_minor": 5
}
