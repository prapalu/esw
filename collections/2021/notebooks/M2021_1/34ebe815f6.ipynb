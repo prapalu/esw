{
 "cells": [
  {
   "cell_type": "markdown",
   "id": "7034c3bf-6eb0-4418-8687-7b9d2a501103",
   "metadata": {},
   "source": [
    "# General instructions\n",
    "\n",
    "The goal of the project is to materialize a set of **exploratory workloads** over a real-world, large-scale,  open-domain KG: [WikiData](https://www.wikidata.org/wiki/Wikidata:Main_Page)\n",
    "\n",
    "An exploratory workload  is composed by a set of queries, where each query is related to the information obtained previously.\n",
    "\n",
    "An exploratory workload starts with a usually vague, open ended question, and does not assume the person issuing the workload has a clear understanding of the data contained in the target database or its structure.\n",
    "\n",
    "Remeber that:\n",
    "\n",
    "1. All the queries must run in the python notebook\n",
    "2. You can use classes and properties only if you find them via a SPARQL query that must be present in the notebook\n",
    "3. You do not delete useless queries. Keep everything that is synthatically valid \n",
    "\n",
    "```\n",
    "?p <http://schema.org/name> ?name .\n",
    "```\n",
    "    \n",
    "    is the BGP returning a human-readable name of a property or a class in Wikidata.\n",
    "    \n",
    "    "
   ]
  },
  {
   "cell_type": "code",
   "execution_count": 1,
   "id": "3605c9d5-5371-49a5-be8d-d66e8f417139",
   "metadata": {},
   "outputs": [],
   "source": [
    "## SETUP used later\n",
    "\n",
    "from SPARQLWrapper import SPARQLWrapper, JSON\n",
    "\n",
    "\n",
    "prefixString = \"\"\"\n",
    "##-34ebe815f6-##\n",
    "PREFIX wd: <http://www.wikidata.org/entity/> \n",
    "PREFIX wdt: <http://www.wikidata.org/prop/direct/> \n",
    "PREFIX sc: <http://schema.org/>\n",
    "\"\"\"\n",
    "\n",
    "# select and construct queries\n",
    "def run_query(queryString):\n",
    "    to_run = prefixString + \"\\n\" + queryString\n",
    "\n",
    "    sparql = SPARQLWrapper(\"http://a256-gc1-02.srv.aau.dk:5820/sparql\")\n",
    "    sparql.setTimeout(300)\n",
    "    sparql.setReturnFormat(JSON)\n",
    "    sparql.setQuery(to_run)\n",
    "\n",
    "    try :\n",
    "       results = sparql.query()\n",
    "       json_results = results.convert()\n",
    "       if len(json_results['results']['bindings'])==0:\n",
    "          print(\"Empty\")\n",
    "          return 0\n",
    "    \n",
    "       for bindings in json_results['results']['bindings']:\n",
    "          print( [ (var, value['value'])  for var, value in bindings.items() ] )\n",
    "\n",
    "       return len(json_results['results']['bindings'])\n",
    "\n",
    "    except Exception as e :\n",
    "        print(\"The operation failed\", e)\n",
    "    \n",
    "# ASk queries\n",
    "def run_ask_query(queryString):\n",
    "    to_run = prefixString + \"\\n\" + queryString\n",
    "\n",
    "    sparql = SPARQLWrapper(\"http://a256-gc1-02.srv.aau.dk:5820/sparql\")\n",
    "    sparql.setTimeout(300)\n",
    "    sparql.setReturnFormat(JSON)\n",
    "    sparql.setQuery(to_run)\n",
    "\n",
    "    try :\n",
    "        return sparql.query().convert()\n",
    "\n",
    "    except Exception as e :\n",
    "        print(\"The operation failed\", e)"
   ]
  },
  {
   "cell_type": "markdown",
   "id": "d477a59c-a68c-4c8f-9f97-8ca5294d7d27",
   "metadata": {},
   "source": [
    "# Book Workflow Series (\"Author comparison explorative search\") \n",
    "\n",
    "Consider the following exploratory scenario:\n",
    "\n",
    "\n",
    ">  Investigate Italian and French book authors in terms of awards, books published and copyright types\n",
    "\n",
    "\n",
    "\n",
    "## Useful URIs for the current workflow\n",
    "The following are given:\n",
    "\n",
    "| IRI           | Description   | Role      |\n",
    "| -----------   | -----------   |-----------|\n",
    "| `wdt:P1647`   | subproperty   | predicate |\n",
    "| `wdt:P31`     | instance of   | predicate |\n",
    "| `wdt:P279`    | subclass      | predicate |\n",
    "| `wdt:P106`    | occupation    | predicate | \n",
    "| `wdt:P17`     | country       | predicate | \n",
    "| `wdt:P27`     | citizenship   | predicate | \n",
    "| `wd:Q36180`   | writer        | node |\n",
    "| `wd:Q38`      | Italy         | node |\n",
    "| `wd:Q172579`  | Kingdom of Italy        | node |\n",
    "| `wd:Q142`     | France        | node |\n",
    "| `wd:Q37922`   | Nobel Prize literature        | node |\n",
    "| `wd:Q213678`  | Vatican Library        | node |\n",
    "\n",
    "\n",
    "Also consider that\n",
    "\n",
    "```\n",
    "?p wdt:P27 wd:Q142\n",
    "```\n",
    "\n",
    "is the BGP to retrieve all **French citizens**\n",
    "\n",
    "\n",
    "The workload should\n",
    "\n",
    "\n",
    "1. Identify the BGP for obtaining the Italian and French writers who published a book in the last 50 years\n",
    "\n",
    "2. Compare the number of books written by Italian and French writers\n",
    "\n",
    "3. Count how many books written by Italian authors are now released with a \"public domain\" copyright form\n",
    "\n",
    "4. How many Literature Nobel awards won authors from Italy and from the Kingdom of Italy? \n",
    "\n",
    "5. Are there books from Litarature Nobel Award winners which are not present in the Vatican Library? (if so, who is the author with more books not in the Vatical Library)?"
   ]
  },
  {
   "cell_type": "code",
   "execution_count": 1,
   "id": "24a853ab-830c-422c-afd3-e9e015b8b8ed",
   "metadata": {},
   "outputs": [],
   "source": [
    "# start your workflow here"
   ]
  },
  {
   "cell_type": "code",
   "execution_count": 2,
   "id": "ade01416-92e7-4ad7-b9a9-b8fb330750dc",
   "metadata": {},
   "outputs": [
    {
     "name": "stdout",
     "output_type": "stream",
     "text": [
      "Results\n",
      "[('callret-0', '273456')]\n"
     ]
    },
    {
     "data": {
      "text/plain": [
       "1"
      ]
     },
     "execution_count": 2,
     "metadata": {},
     "output_type": "execute_result"
    }
   ],
   "source": [
    "queryString = \"\"\"\n",
    "SELECT COUNT(?p)\n",
    "WHERE { \n",
    "?p wdt:P27 wd:Q142 .\n",
    "} \n",
    "\"\"\"\n",
    "\n",
    "print(\"Results\")\n",
    "run_query(queryString)"
   ]
  },
  {
   "cell_type": "markdown",
   "id": "c4016b53-4512-432d-a734-917c1535590c",
   "metadata": {
    "tags": []
   },
   "source": [
    "## Explorative Queries\n",
    "I run some queries to understand the data structure."
   ]
  },
  {
   "cell_type": "markdown",
   "id": "1b321e47-9945-4666-95c2-9e89c2289605",
   "metadata": {},
   "source": [
    "Firstly I look for properties and objects linked to the node writer (wdt:Q36180)."
   ]
  },
  {
   "cell_type": "code",
   "execution_count": 3,
   "id": "84b0d552-6263-41d4-9ac9-71d8c5cd6578",
   "metadata": {},
   "outputs": [
    {
     "name": "stdout",
     "output_type": "stream",
     "text": [
      "Results\n",
      "[('p', 'http://www.wikidata.org/prop/direct/P425'), ('pname', 'field of this occupation'), ('o', 'http://www.wikidata.org/entity/Q37260'), ('oname', 'writing')]\n",
      "[('p', 'http://www.wikidata.org/prop/direct/P425'), ('pname', 'field of this occupation'), ('o', 'http://www.wikidata.org/entity/Q2250012'), ('oname', 'writing')]\n",
      "[('p', 'http://www.wikidata.org/prop/direct/P910'), ('pname', \"topic's main category\"), ('o', 'http://www.wikidata.org/entity/Q5849863'), ('oname', 'Category:Writers')]\n",
      "[('p', 'http://www.wikidata.org/prop/direct/P1687'), ('pname', 'Wikidata property'), ('o', 'http://www.wikidata.org/entity/P50'), ('oname', 'author')]\n",
      "[('p', 'http://www.wikidata.org/prop/direct/P31'), ('pname', 'instance of'), ('o', 'http://www.wikidata.org/entity/Q12737077'), ('oname', 'occupation')]\n",
      "[('p', 'http://www.wikidata.org/prop/direct/P31'), ('pname', 'instance of'), ('o', 'http://www.wikidata.org/entity/Q28640'), ('oname', 'profession')]\n",
      "[('p', 'http://www.wikidata.org/prop/direct/P31'), ('pname', 'instance of'), ('o', 'http://www.wikidata.org/entity/Q4164871'), ('oname', 'position')]\n",
      "[('p', 'http://www.wikidata.org/prop/direct/P279'), ('pname', 'subclass of'), ('o', 'http://www.wikidata.org/entity/Q482980'), ('oname', 'author')]\n",
      "[('p', 'http://www.wikidata.org/prop/direct/P5008'), ('pname', 'on focus list of Wikimedia project'), ('o', 'http://www.wikidata.org/entity/Q98970039'), ('oname', 'WikiProject PCC Wikidata Pilot/University of Washington')]\n",
      "[('p', 'http://www.wikidata.org/prop/direct/P2354'), ('pname', 'has list'), ('o', 'http://www.wikidata.org/entity/Q13019738'), ('oname', 'list of lists of writers')]\n",
      "[('p', 'http://www.wikidata.org/prop/direct/P6186'), ('pname', 'category for eponymous categories'), ('o', 'http://www.wikidata.org/entity/Q6963972'), ('oname', 'Category:Wikipedia categories named after writers')]\n",
      "[('p', 'http://www.wikidata.org/prop/direct/P1687'), ('pname', 'Wikidata property'), ('o', 'http://www.wikidata.org/entity/P2093'), ('oname', 'author name string')]\n",
      "[('p', 'http://www.wikidata.org/prop/direct/P1424'), ('pname', \"topic's main template\"), ('o', 'http://www.wikidata.org/entity/Q5615832'), ('oname', 'Template:Infobox writer')]\n",
      "[('p', 'http://www.wikidata.org/prop/direct/P1424'), ('pname', \"topic's main template\"), ('o', 'http://www.wikidata.org/entity/Q6535605'), ('oname', 'Template:Writer-stub')]\n"
     ]
    },
    {
     "data": {
      "text/plain": [
       "14"
      ]
     },
     "execution_count": 3,
     "metadata": {},
     "output_type": "execute_result"
    }
   ],
   "source": [
    "queryString = \"\"\"\n",
    "SELECT DISTINCT ?p ?pname ?o ?oname\n",
    "WHERE { \n",
    "wd:Q36180 ?p ?o.\n",
    "?p <http://schema.org/name> ?pname.\n",
    "?o <http://schema.org/name> ?oname.\n",
    "} \n",
    "\"\"\"\n",
    "\n",
    "print(\"Results\")\n",
    "run_query(queryString)"
   ]
  },
  {
   "cell_type": "markdown",
   "id": "7694c553-9423-422c-8839-033af4a85b20",
   "metadata": {},
   "source": [
    "Actually, it is more reasonable to look the other way around therefore I retrieve all properties that link any node to the node writer (wdt:Q36180)."
   ]
  },
  {
   "cell_type": "code",
   "execution_count": 4,
   "id": "fadba46b-0ef6-4285-9444-bebb47d58510",
   "metadata": {},
   "outputs": [
    {
     "name": "stdout",
     "output_type": "stream",
     "text": [
      "Results\n",
      "[('p', 'http://www.wikidata.org/prop/direct/P1423'), ('pname', 'template has topic')]\n",
      "[('p', 'http://www.wikidata.org/prop/direct/P101'), ('pname', 'field of work')]\n",
      "[('p', 'http://www.wikidata.org/prop/direct/P106'), ('pname', 'occupation')]\n",
      "[('p', 'http://www.wikidata.org/prop/direct/P123'), ('pname', 'publisher')]\n",
      "[('p', 'http://www.wikidata.org/prop/direct/P1269'), ('pname', 'facet of')]\n",
      "[('p', 'http://www.wikidata.org/prop/direct/P135'), ('pname', 'movement')]\n",
      "[('p', 'http://www.wikidata.org/prop/direct/P136'), ('pname', 'genre')]\n",
      "[('p', 'http://www.wikidata.org/prop/direct/P1412'), ('pname', 'languages spoken, written or signed')]\n",
      "[('p', 'http://www.wikidata.org/prop/direct/P1535'), ('pname', 'used by')]\n",
      "[('p', 'http://www.wikidata.org/prop/direct/P1552'), ('pname', 'has quality')]\n",
      "[('p', 'http://www.wikidata.org/prop/direct/P180'), ('pname', 'depicts')]\n",
      "[('p', 'http://www.wikidata.org/prop/direct/P1889'), ('pname', 'different from')]\n",
      "[('p', 'http://www.wikidata.org/prop/direct/P279'), ('pname', 'subclass of')]\n",
      "[('p', 'http://www.wikidata.org/prop/direct/P2868'), ('pname', 'subject has role')]\n",
      "[('p', 'http://www.wikidata.org/prop/direct/P301'), ('pname', \"category's main topic\")]\n",
      "[('p', 'http://www.wikidata.org/prop/direct/P3095'), ('pname', 'practiced by')]\n",
      "[('p', 'http://www.wikidata.org/prop/direct/P31'), ('pname', 'instance of')]\n",
      "[('p', 'http://www.wikidata.org/prop/direct/P360'), ('pname', 'is a list of')]\n",
      "[('p', 'http://www.wikidata.org/prop/direct/P39'), ('pname', 'position held')]\n",
      "[('p', 'http://www.wikidata.org/prop/direct/P3989'), ('pname', 'members have occupation')]\n",
      "[('p', 'http://www.wikidata.org/prop/direct/P408'), ('pname', 'software engine')]\n",
      "[('p', 'http://www.wikidata.org/prop/direct/P4224'), ('pname', 'category contains')]\n",
      "[('p', 'http://www.wikidata.org/prop/direct/P50'), ('pname', 'author')]\n",
      "[('p', 'http://www.wikidata.org/prop/direct/P512'), ('pname', 'academic degree')]\n",
      "[('p', 'http://www.wikidata.org/prop/direct/P527'), ('pname', 'has part')]\n",
      "[('p', 'http://www.wikidata.org/prop/direct/P710'), ('pname', 'participant')]\n",
      "[('p', 'http://www.wikidata.org/prop/direct/P800'), ('pname', 'notable work')]\n",
      "[('p', 'http://www.wikidata.org/prop/direct/P921'), ('pname', 'main subject')]\n",
      "[('p', 'http://www.wikidata.org/prop/direct/P97'), ('pname', 'noble title')]\n",
      "[('p', 'http://www.wikidata.org/prop/direct/P971'), ('pname', 'category combines topics')]\n",
      "[('p', 'http://www.wikidata.org/prop/direct/P1074'), ('pname', 'fictional analog of')]\n",
      "[('p', 'http://www.wikidata.org/prop/direct/P1629'), ('pname', 'Wikidata item of this property')]\n",
      "[('p', 'http://www.wikidata.org/prop/direct/P8307'), ('pname', 'has sorting')]\n"
     ]
    },
    {
     "data": {
      "text/plain": [
       "33"
      ]
     },
     "execution_count": 4,
     "metadata": {},
     "output_type": "execute_result"
    }
   ],
   "source": [
    "queryString = \"\"\"\n",
    "SELECT DISTINCT ?p ?pname \n",
    "WHERE { \n",
    "?s ?p wd:Q36180.\n",
    "?p <http://schema.org/name> ?pname.\n",
    "\n",
    "} \n",
    "\"\"\"\n",
    "\n",
    "print(\"Results\")\n",
    "run_query(queryString)"
   ]
  },
  {
   "cell_type": "markdown",
   "id": "96d32d93-e2d0-410d-83f9-dc57b2ad6044",
   "metadata": {},
   "source": [
    "I retrieved a property that could be useful later that is wdt:P50, named author."
   ]
  },
  {
   "cell_type": "markdown",
   "id": "4d1b152a-0c72-4a53-914d-ddb6fc125feb",
   "metadata": {
    "tags": []
   },
   "source": [
    "## Italian and French writers active in the last 50 years\n",
    "This section contains the queries used to answer the first question: _Identify the BGP for obtaining the Italian and French writers who published a book in the last 50 years_ ."
   ]
  },
  {
   "cell_type": "markdown",
   "id": "cfd7589a-9748-4fd5-9afc-2becdecc2214",
   "metadata": {
    "tags": []
   },
   "source": [
    "### Retrieving writers\n",
    "Firstly, I look for the BPG to retrieve writers. I think writers will either be connected to a pair \"property occupation (wdt:P106) object writer (wd:Q36180)\" or \"property instance of (wdt:P31) object writer (wd:Q36180)\". I will check if my assumptions are correct by running two queries that selects some nodes that are subject to the above-mentioned paths."
   ]
  },
  {
   "cell_type": "code",
   "execution_count": 5,
   "id": "9d38fba8-6217-41dd-8f53-dfd641ae8379",
   "metadata": {},
   "outputs": [
    {
     "name": "stdout",
     "output_type": "stream",
     "text": [
      "Results\n",
      "[('s', 'http://www.wikidata.org/entity/Q1342082'), ('sname', 'Youssef Ziedan')]\n",
      "[('s', 'http://www.wikidata.org/entity/Q1373516'), ('sname', 'Eugénio de Castro')]\n",
      "[('s', 'http://www.wikidata.org/entity/Q240377'), ('sname', 'Amanda Palmer')]\n",
      "[('s', 'http://www.wikidata.org/entity/Q3191192'), ('sname', 'Júlia Lopes de Almeida')]\n",
      "[('s', 'http://www.wikidata.org/entity/Q589406'), ('sname', 'Empress Xiaoquancheng')]\n",
      "[('s', 'http://www.wikidata.org/entity/Q610608'), ('sname', 'António Aleixo')]\n",
      "[('s', 'http://www.wikidata.org/entity/Q710504'), ('sname', 'Bohuslav Balbín')]\n",
      "[('s', 'http://www.wikidata.org/entity/Q8183671'), ('sname', 'Aarão de Lacerda')]\n",
      "[('s', 'http://www.wikidata.org/entity/Q8188119'), ('sname', 'Adelina Lopes Vieira')]\n",
      "[('s', 'http://www.wikidata.org/entity/Q8196972'), ('sname', 'Amado Gómez Ugarte')]\n",
      "[('s', 'http://www.wikidata.org/entity/Q8198136'), ('sname', 'Ana Vasco')]\n",
      "[('s', 'http://www.wikidata.org/entity/Q8199338'), ('sname', 'Andrés García de Céspedes')]\n",
      "[('s', 'http://www.wikidata.org/entity/Q8201056'), ('sname', 'Antoni Fabra i Ribas')]\n",
      "[('s', 'http://www.wikidata.org/entity/Q8201073'), ('sname', 'Antoni Martí Monterde')]\n",
      "[('s', 'http://www.wikidata.org/entity/Q8201097'), ('sname', 'Antonia Gutiérrez Bueno')]\n"
     ]
    },
    {
     "data": {
      "text/plain": [
       "15"
      ]
     },
     "execution_count": 5,
     "metadata": {},
     "output_type": "execute_result"
    }
   ],
   "source": [
    "queryString = \"\"\"\n",
    "SELECT ?s ?sname \n",
    "WHERE { \n",
    "?s wdt:P106 wd:Q36180.\n",
    "?s <http://schema.org/name> ?sname.\n",
    "\n",
    "}\n",
    "LIMIT 15\n",
    "\"\"\"\n",
    "\n",
    "print(\"Results\")\n",
    "run_query(queryString)"
   ]
  },
  {
   "cell_type": "markdown",
   "id": "51c59433-8812-42b3-9c5f-7f2511b80d00",
   "metadata": {},
   "source": [
    "The path ?s wdt:P106 (occupation) wd:Q36180 (writer) correctly retrieves writers. Let us check the second path:"
   ]
  },
  {
   "cell_type": "code",
   "execution_count": 6,
   "id": "62be28d6-5594-476d-b84c-3cae352d1013",
   "metadata": {},
   "outputs": [
    {
     "name": "stdout",
     "output_type": "stream",
     "text": [
      "Results\n",
      "[('s', 'http://www.wikidata.org/entity/Q108669177'), ('sname', 'Abigail Jones')]\n"
     ]
    },
    {
     "data": {
      "text/plain": [
       "1"
      ]
     },
     "execution_count": 6,
     "metadata": {},
     "output_type": "execute_result"
    }
   ],
   "source": [
    "queryString = \"\"\"\n",
    "SELECT ?s ?sname \n",
    "WHERE { \n",
    "?s wdt:P31 wd:Q36180.\n",
    "?s <http://schema.org/name> ?sname.\n",
    "\n",
    "}\n",
    "LIMIT 15\n",
    "\"\"\"\n",
    "\n",
    "print(\"Results\")\n",
    "run_query(queryString)"
   ]
  },
  {
   "cell_type": "markdown",
   "id": "43d9fbf3-7f4b-4fbc-85f6-8caf5d449021",
   "metadata": {},
   "source": [
    "This query only retrieved one result: Abigail Jones, that is a fictional character therefore the second path does not retrieve writers."
   ]
  },
  {
   "cell_type": "markdown",
   "id": "1f8ced16-8267-4866-9e0a-04c4585f0072",
   "metadata": {
    "tags": []
   },
   "source": [
    "### Retrieving writers interesting properties"
   ]
  },
  {
   "cell_type": "markdown",
   "id": "697ec273-a8d3-486f-9de6-2ca668502852",
   "metadata": {
    "tags": []
   },
   "source": [
    "#### Information about writers' nationality\n",
    "Now I look for some properties that a writer is subject to."
   ]
  },
  {
   "cell_type": "code",
   "execution_count": 7,
   "id": "c2b1137f-944e-4e25-ab6f-bfcd0c0816a6",
   "metadata": {},
   "outputs": [
    {
     "name": "stdout",
     "output_type": "stream",
     "text": [
      "Results\n",
      "[('p', 'http://www.wikidata.org/prop/direct/P9271'), ('pname', 'Kickstarter username')]\n",
      "[('p', 'http://www.wikidata.org/prop/direct/P3269'), ('pname', 'Fotografen.nl ID')]\n",
      "[('p', 'http://www.wikidata.org/prop/direct/P8577'), ('pname', 'ICP artist ID')]\n",
      "[('p', 'http://www.wikidata.org/prop/direct/P6891'), ('pname', 'National Film Board of Canada director identifier')]\n",
      "[('p', 'http://www.wikidata.org/prop/direct/P4015'), ('pname', 'Vimeo identifier')]\n",
      "[('p', 'http://www.wikidata.org/prop/direct/P5498'), ('pname', 'Base de datos de premiados person ID')]\n",
      "[('p', 'http://www.wikidata.org/prop/direct/P7357'), ('pname', 'Diccionari de la Literatura Catalana ID')]\n",
      "[('p', 'http://www.wikidata.org/prop/direct/P9256'), ('pname', 'Diccionari de la traducció catalana ID')]\n",
      "[('p', 'http://www.wikidata.org/prop/direct/P8749'), ('pname', 'Dictionary of Portuguese Historians ID')]\n",
      "[('p', 'http://www.wikidata.org/prop/direct/P2985'), ('pname', 'DBSE ID')]\n",
      "[('p', 'http://www.wikidata.org/prop/direct/P9053'), ('pname', 'Projecto Vercial author ID')]\n",
      "[('p', 'http://www.wikidata.org/prop/direct/P5985'), ('pname', 'Literaturaren Zubitegia ID')]\n",
      "[('p', 'http://www.wikidata.org/prop/direct/P1005'), ('pname', 'Portuguese National Library ID')]\n",
      "[('p', 'http://www.wikidata.org/prop/direct/P1006'), ('pname', 'Nationale Thesaurus voor Auteurs ID')]\n",
      "[('p', 'http://www.wikidata.org/prop/direct/P1015'), ('pname', 'NORAF ID')]\n",
      "[('p', 'http://www.wikidata.org/prop/direct/P1017'), ('pname', 'Vatican Library ID (former scheme)')]\n",
      "[('p', 'http://www.wikidata.org/prop/direct/P102'), ('pname', 'member of political party')]\n",
      "[('p', 'http://www.wikidata.org/prop/direct/P1050'), ('pname', 'medical condition')]\n",
      "[('p', 'http://www.wikidata.org/prop/direct/P106'), ('pname', 'occupation')]\n",
      "[('p', 'http://www.wikidata.org/prop/direct/P1066'), ('pname', 'student of')]\n",
      "[('p', 'http://www.wikidata.org/prop/direct/P108'), ('pname', 'employer')]\n",
      "[('p', 'http://www.wikidata.org/prop/direct/P109'), ('pname', 'signature')]\n",
      "[('p', 'http://www.wikidata.org/prop/direct/P1150'), ('pname', 'Regensburg Classification')]\n",
      "[('p', 'http://www.wikidata.org/prop/direct/P1187'), ('pname', 'Dharma Drum Institute of Liberal Arts person ID')]\n",
      "[('p', 'http://www.wikidata.org/prop/direct/P119'), ('pname', 'place of burial')]\n",
      "[('p', 'http://www.wikidata.org/prop/direct/P1196'), ('pname', 'manner of death')]\n",
      "[('p', 'http://www.wikidata.org/prop/direct/P1207'), ('pname', 'NUKAT ID')]\n",
      "[('p', 'http://www.wikidata.org/prop/direct/P1213'), ('pname', 'NLC authorities')]\n",
      "[('p', 'http://www.wikidata.org/prop/direct/P1220'), ('pname', 'Internet Broadway Database person ID')]\n",
      "[('p', 'http://www.wikidata.org/prop/direct/P1233'), ('pname', 'Internet Speculative Fiction Database author ID')]\n",
      "[('p', 'http://www.wikidata.org/prop/direct/P1263'), ('pname', 'NNDB people ID')]\n",
      "[('p', 'http://www.wikidata.org/prop/direct/P1266'), ('pname', 'AlloCiné person ID')]\n",
      "[('p', 'http://www.wikidata.org/prop/direct/P1273'), ('pname', 'CANTIC ID')]\n",
      "[('p', 'http://www.wikidata.org/prop/direct/P1280'), ('pname', 'CONOR.SI ID')]\n",
      "[('p', 'http://www.wikidata.org/prop/direct/P1284'), ('pname', 'Munzinger person ID')]\n",
      "[('p', 'http://www.wikidata.org/prop/direct/P1289'), ('pname', 'Kritisches Lexikon zur fremdsprachigen Gegenwartsliteratur ID')]\n",
      "[('p', 'http://www.wikidata.org/prop/direct/P1296'), ('pname', 'Gran Enciclopèdia Catalana ID')]\n",
      "[('p', 'http://www.wikidata.org/prop/direct/P1303'), ('pname', 'instrument')]\n",
      "[('p', 'http://www.wikidata.org/prop/direct/P1309'), ('pname', 'EGAXA ID')]\n",
      "[('p', 'http://www.wikidata.org/prop/direct/P1315'), ('pname', 'NLA Trove ID')]\n",
      "[('p', 'http://www.wikidata.org/prop/direct/P1317'), ('pname', 'floruit')]\n",
      "[('p', 'http://www.wikidata.org/prop/direct/P1343'), ('pname', 'described by source')]\n",
      "[('p', 'http://www.wikidata.org/prop/direct/P1344'), ('pname', 'participant in')]\n",
      "[('p', 'http://www.wikidata.org/prop/direct/P136'), ('pname', 'genre')]\n",
      "[('p', 'http://www.wikidata.org/prop/direct/P1368'), ('pname', 'LNB ID')]\n",
      "[('p', 'http://www.wikidata.org/prop/direct/P1375'), ('pname', 'NSK ID')]\n",
      "[('p', 'http://www.wikidata.org/prop/direct/P140'), ('pname', 'religion')]\n",
      "[('p', 'http://www.wikidata.org/prop/direct/P1411'), ('pname', 'nominated for')]\n",
      "[('p', 'http://www.wikidata.org/prop/direct/P1412'), ('pname', 'languages spoken, written or signed')]\n",
      "[('p', 'http://www.wikidata.org/prop/direct/P1417'), ('pname', 'Encyclopædia Britannica Online ID')]\n"
     ]
    },
    {
     "data": {
      "text/plain": [
       "50"
      ]
     },
     "execution_count": 7,
     "metadata": {},
     "output_type": "execute_result"
    }
   ],
   "source": [
    "queryString = \"\"\"\n",
    "SELECT DISTINCT ?p ?pname \n",
    "WHERE { \n",
    "?w wdt:P106 wd:Q36180;\n",
    "    ?p ?o.\n",
    "?p <http://schema.org/name> ?pname.\n",
    "\n",
    "}\n",
    "LIMIT 50\n",
    "\"\"\"\n",
    "\n",
    "print(\"Results\")\n",
    "run_query(queryString)"
   ]
  },
  {
   "cell_type": "markdown",
   "id": "31bbabb8-c20e-4e1c-bb8e-3fce985abbfd",
   "metadata": {},
   "source": [
    "Since I did not retrieve much interesting properties I try to count them in order to see if such result is due to the 'LIMIT 50' or because writers' properties are not so interesting."
   ]
  },
  {
   "cell_type": "code",
   "execution_count": 8,
   "id": "97e41ad9-8daa-41a5-90f3-c21112228f40",
   "metadata": {},
   "outputs": [
    {
     "name": "stdout",
     "output_type": "stream",
     "text": [
      "Results\n",
      "[('writerProperties', '2923')]\n"
     ]
    },
    {
     "data": {
      "text/plain": [
       "1"
      ]
     },
     "execution_count": 8,
     "metadata": {},
     "output_type": "execute_result"
    }
   ],
   "source": [
    "queryString = \"\"\"\n",
    "SELECT COUNT(DISTINCT ?p) AS ?writerProperties \n",
    "WHERE { \n",
    "?w wdt:P106 wd:Q36180;\n",
    "    ?p ?o.\n",
    "}\n",
    "\"\"\"\n",
    "\n",
    "print(\"Results\")\n",
    "run_query(queryString)"
   ]
  },
  {
   "cell_type": "markdown",
   "id": "db362182-7cd3-4234-b3d4-b2ecb3401f97",
   "metadata": {},
   "source": [
    "There are 2923 distinct properties that a writer is subject to therefore next time I will need to be more specific if I want to retrieve useful properties."
   ]
  },
  {
   "cell_type": "markdown",
   "id": "7f92ee7c-c9a5-46d5-89c0-f37467553856",
   "metadata": {},
   "source": [
    "Before investigating the previous point further, just out of curiosity I check the number of distinct properties a writer is object to."
   ]
  },
  {
   "cell_type": "code",
   "execution_count": 9,
   "id": "5cd325c2-eb47-4ad7-b8e8-4962be802008",
   "metadata": {},
   "outputs": [
    {
     "name": "stdout",
     "output_type": "stream",
     "text": [
      "Results\n",
      "[('props', '325')]\n"
     ]
    },
    {
     "data": {
      "text/plain": [
       "1"
      ]
     },
     "execution_count": 9,
     "metadata": {},
     "output_type": "execute_result"
    }
   ],
   "source": [
    "queryString = \"\"\"\n",
    "SELECT COUNT(DISTINCT ?p) AS ?props\n",
    "WHERE { \n",
    "?w wdt:P106 wd:Q36180.\n",
    "?n ?p ?w.\n",
    "}\n",
    "\"\"\"\n",
    "\n",
    "print(\"Results\")\n",
    "run_query(queryString)"
   ]
  },
  {
   "cell_type": "markdown",
   "id": "62b4c66a-aeaa-4a17-bdba-aa615fa2576d",
   "metadata": {},
   "source": [
    "This is a more reasonable number therefore I take a look at them. I noticed that the more common properties (for example country, citizenship, occupation) have a smaller number identifier than specific properties therefore I order the properties according to their URI."
   ]
  },
  {
   "cell_type": "code",
   "execution_count": 10,
   "id": "ad6b2f1c-29b6-4bbf-abee-26f6aa9e1121",
   "metadata": {},
   "outputs": [
    {
     "name": "stdout",
     "output_type": "stream",
     "text": [
      "Results\n",
      "[('p', 'http://www.wikidata.org/prop/direct/P101'), ('pname', 'field of work')]\n",
      "[('p', 'http://www.wikidata.org/prop/direct/P1018'), ('pname', 'language regulatory body')]\n",
      "[('p', 'http://www.wikidata.org/prop/direct/P1026'), ('pname', 'academic thesis')]\n",
      "[('p', 'http://www.wikidata.org/prop/direct/P1027'), ('pname', 'conferred by')]\n",
      "[('p', 'http://www.wikidata.org/prop/direct/P1028'), ('pname', 'donated by')]\n",
      "[('p', 'http://www.wikidata.org/prop/direct/P1029'), ('pname', 'crew member(s)')]\n",
      "[('p', 'http://www.wikidata.org/prop/direct/P1037'), ('pname', 'director / manager')]\n",
      "[('p', 'http://www.wikidata.org/prop/direct/P1038'), ('pname', 'relative')]\n",
      "[('p', 'http://www.wikidata.org/prop/direct/P1039'), ('pname', 'kinship to subject')]\n",
      "[('p', 'http://www.wikidata.org/prop/direct/P1040'), ('pname', 'film editor')]\n",
      "[('p', 'http://www.wikidata.org/prop/direct/P1049'), ('pname', 'worshipped by')]\n",
      "[('p', 'http://www.wikidata.org/prop/direct/P106'), ('pname', 'occupation')]\n",
      "[('p', 'http://www.wikidata.org/prop/direct/P1066'), ('pname', 'student of')]\n",
      "[('p', 'http://www.wikidata.org/prop/direct/P1074'), ('pname', 'fictional analog of')]\n",
      "[('p', 'http://www.wikidata.org/prop/direct/P1075'), ('pname', 'rector')]\n",
      "[('p', 'http://www.wikidata.org/prop/direct/P108'), ('pname', 'employer')]\n",
      "[('p', 'http://www.wikidata.org/prop/direct/P110'), ('pname', 'illustrator')]\n",
      "[('p', 'http://www.wikidata.org/prop/direct/P112'), ('pname', 'founded by')]\n",
      "[('p', 'http://www.wikidata.org/prop/direct/P1136'), ('pname', 'solved by')]\n",
      "[('p', 'http://www.wikidata.org/prop/direct/P1142'), ('pname', 'political ideology')]\n",
      "[('p', 'http://www.wikidata.org/prop/direct/P1204'), ('pname', \"Wikimedia portal's main topic\")]\n",
      "[('p', 'http://www.wikidata.org/prop/direct/P123'), ('pname', 'publisher')]\n",
      "[('p', 'http://www.wikidata.org/prop/direct/P126'), ('pname', 'maintained by')]\n",
      "[('p', 'http://www.wikidata.org/prop/direct/P1268'), ('pname', 'represents')]\n",
      "[('p', 'http://www.wikidata.org/prop/direct/P1269'), ('pname', 'facet of')]\n",
      "[('p', 'http://www.wikidata.org/prop/direct/P127'), ('pname', 'owned by')]\n",
      "[('p', 'http://www.wikidata.org/prop/direct/P1290'), ('pname', 'godparent')]\n",
      "[('p', 'http://www.wikidata.org/prop/direct/P1299'), ('pname', 'depicted by')]\n",
      "[('p', 'http://www.wikidata.org/prop/direct/P1308'), ('pname', 'officeholder')]\n",
      "[('p', 'http://www.wikidata.org/prop/direct/P131'), ('pname', 'located in the administrative territorial entity')]\n",
      "[('p', 'http://www.wikidata.org/prop/direct/P1313'), ('pname', 'office held by head of government')]\n",
      "[('p', 'http://www.wikidata.org/prop/direct/P1318'), ('pname', 'proved by')]\n",
      "[('p', 'http://www.wikidata.org/prop/direct/P1327'), ('pname', 'partner in business or sport')]\n",
      "[('p', 'http://www.wikidata.org/prop/direct/P1343'), ('pname', 'described by source')]\n",
      "[('p', 'http://www.wikidata.org/prop/direct/P1344'), ('pname', 'participant in')]\n",
      "[('p', 'http://www.wikidata.org/prop/direct/P1346'), ('pname', 'winner')]\n",
      "[('p', 'http://www.wikidata.org/prop/direct/P135'), ('pname', 'movement')]\n",
      "[('p', 'http://www.wikidata.org/prop/direct/P136'), ('pname', 'genre')]\n",
      "[('p', 'http://www.wikidata.org/prop/direct/P1363'), ('pname', 'points/goal scored by')]\n",
      "[('p', 'http://www.wikidata.org/prop/direct/P1365'), ('pname', 'replaces')]\n",
      "[('p', 'http://www.wikidata.org/prop/direct/P1366'), ('pname', 'replaced by')]\n",
      "[('p', 'http://www.wikidata.org/prop/direct/P137'), ('pname', 'operator')]\n",
      "[('p', 'http://www.wikidata.org/prop/direct/P138'), ('pname', 'named after')]\n",
      "[('p', 'http://www.wikidata.org/prop/direct/P140'), ('pname', 'religion')]\n",
      "[('p', 'http://www.wikidata.org/prop/direct/P1416'), ('pname', 'affiliation')]\n",
      "[('p', 'http://www.wikidata.org/prop/direct/P1423'), ('pname', 'template has topic')]\n",
      "[('p', 'http://www.wikidata.org/prop/direct/P1424'), ('pname', \"topic's main template\")]\n",
      "[('p', 'http://www.wikidata.org/prop/direct/P1431'), ('pname', 'executive producer')]\n",
      "[('p', 'http://www.wikidata.org/prop/direct/P1433'), ('pname', 'published in')]\n",
      "[('p', 'http://www.wikidata.org/prop/direct/P144'), ('pname', 'based on')]\n",
      "[('p', 'http://www.wikidata.org/prop/direct/P1441'), ('pname', 'present in work')]\n",
      "[('p', 'http://www.wikidata.org/prop/direct/P1455'), ('pname', 'list of works')]\n",
      "[('p', 'http://www.wikidata.org/prop/direct/P1479'), ('pname', 'has contributing factor')]\n",
      "[('p', 'http://www.wikidata.org/prop/direct/P150'), ('pname', 'contains administrative territorial entity')]\n",
      "[('p', 'http://www.wikidata.org/prop/direct/P1535'), ('pname', 'used by')]\n",
      "[('p', 'http://www.wikidata.org/prop/direct/P1542'), ('pname', 'has effect')]\n",
      "[('p', 'http://www.wikidata.org/prop/direct/P155'), ('pname', 'follows')]\n",
      "[('p', 'http://www.wikidata.org/prop/direct/P1552'), ('pname', 'has quality')]\n",
      "[('p', 'http://www.wikidata.org/prop/direct/P156'), ('pname', 'followed by')]\n",
      "[('p', 'http://www.wikidata.org/prop/direct/P157'), ('pname', 'killed by')]\n",
      "[('p', 'http://www.wikidata.org/prop/direct/P159'), ('pname', 'headquarters location')]\n",
      "[('p', 'http://www.wikidata.org/prop/direct/P1591'), ('pname', 'defendant')]\n",
      "[('p', 'http://www.wikidata.org/prop/direct/P1592'), ('pname', 'prosecutor')]\n",
      "[('p', 'http://www.wikidata.org/prop/direct/P1593'), ('pname', 'defender')]\n",
      "[('p', 'http://www.wikidata.org/prop/direct/P1594'), ('pname', 'judge')]\n",
      "[('p', 'http://www.wikidata.org/prop/direct/P1598'), ('pname', 'consecrator')]\n",
      "[('p', 'http://www.wikidata.org/prop/direct/P161'), ('pname', 'cast member')]\n",
      "[('p', 'http://www.wikidata.org/prop/direct/P162'), ('pname', 'producer')]\n",
      "[('p', 'http://www.wikidata.org/prop/direct/P1620'), ('pname', 'plaintiff')]\n",
      "[('p', 'http://www.wikidata.org/prop/direct/P1640'), ('pname', 'curator')]\n",
      "[('p', 'http://www.wikidata.org/prop/direct/P1652'), ('pname', 'referee')]\n",
      "[('p', 'http://www.wikidata.org/prop/direct/P1656'), ('pname', 'unveiled by')]\n",
      "[('p', 'http://www.wikidata.org/prop/direct/P166'), ('pname', 'award received')]\n",
      "[('p', 'http://www.wikidata.org/prop/direct/P169'), ('pname', 'chief executive officer')]\n",
      "[('p', 'http://www.wikidata.org/prop/direct/P170'), ('pname', 'creator')]\n",
      "[('p', 'http://www.wikidata.org/prop/direct/P1706'), ('pname', 'together with')]\n",
      "[('p', 'http://www.wikidata.org/prop/direct/P175'), ('pname', 'performer')]\n",
      "[('p', 'http://www.wikidata.org/prop/direct/P1754'), ('pname', 'category related to list')]\n",
      "[('p', 'http://www.wikidata.org/prop/direct/P176'), ('pname', 'manufacturer')]\n",
      "[('p', 'http://www.wikidata.org/prop/direct/P1775'), ('pname', 'follower of')]\n",
      "[('p', 'http://www.wikidata.org/prop/direct/P1779'), ('pname', 'possible creator')]\n",
      "[('p', 'http://www.wikidata.org/prop/direct/P178'), ('pname', 'developer')]\n",
      "[('p', 'http://www.wikidata.org/prop/direct/P1789'), ('pname', 'chief operating officer')]\n",
      "[('p', 'http://www.wikidata.org/prop/direct/P179'), ('pname', 'part of the series')]\n",
      "[('p', 'http://www.wikidata.org/prop/direct/P1792'), ('pname', 'category of associated people')]\n",
      "[('p', 'http://www.wikidata.org/prop/direct/P180'), ('pname', 'depicts')]\n",
      "[('p', 'http://www.wikidata.org/prop/direct/P1809'), ('pname', 'choreographer')]\n",
      "[('p', 'http://www.wikidata.org/prop/direct/P1817'), ('pname', 'addressee')]\n",
      "[('p', 'http://www.wikidata.org/prop/direct/P1830'), ('pname', 'owner of')]\n",
      "[('p', 'http://www.wikidata.org/prop/direct/P184'), ('pname', 'doctoral advisor')]\n",
      "[('p', 'http://www.wikidata.org/prop/direct/P1840'), ('pname', 'investigated by')]\n",
      "[('p', 'http://www.wikidata.org/prop/direct/P185'), ('pname', 'doctoral student')]\n",
      "[('p', 'http://www.wikidata.org/prop/direct/P1855'), ('pname', 'Wikidata property example')]\n",
      "[('p', 'http://www.wikidata.org/prop/direct/P186'), ('pname', 'made from material')]\n",
      "[('p', 'http://www.wikidata.org/prop/direct/P1875'), ('pname', 'represented by')]\n",
      "[('p', 'http://www.wikidata.org/prop/direct/P1877'), ('pname', 'after a work by')]\n",
      "[('p', 'http://www.wikidata.org/prop/direct/P1881'), ('pname', 'list of characters')]\n",
      "[('p', 'http://www.wikidata.org/prop/direct/P1889'), ('pname', 'different from')]\n",
      "[('p', 'http://www.wikidata.org/prop/direct/P1891'), ('pname', 'signatory')]\n",
      "[('p', 'http://www.wikidata.org/prop/direct/P19'), ('pname', 'place of birth')]\n"
     ]
    },
    {
     "data": {
      "text/plain": [
       "100"
      ]
     },
     "execution_count": 10,
     "metadata": {},
     "output_type": "execute_result"
    }
   ],
   "source": [
    "queryString = \"\"\"\n",
    "SELECT DISTINCT ?p ?pname\n",
    "WHERE { \n",
    "?w wdt:P106 wd:Q36180.\n",
    "?n ?p ?w.\n",
    "?p <http://schema.org/name> ?pname.\n",
    "}\n",
    "ORDER BY ?p\n",
    "LIMIT 100\n",
    "\"\"\"\n",
    "\n",
    "print(\"Results\")\n",
    "run_query(queryString)"
   ]
  },
  {
   "cell_type": "markdown",
   "id": "dd209757-c198-466c-9033-a5bca912b210",
   "metadata": {},
   "source": [
    "It is more reasonable to think a writer is subject to properties that may retrieve useful information and these last two queries confirm it therefore I keep investigating the previous flow, that is properties that writers are subject to. First I look for the URI for an object country by means of the node \"Italy\" (wd:Q38)."
   ]
  },
  {
   "cell_type": "code",
   "execution_count": 11,
   "id": "5de8c8d5-2800-41b1-8a41-92500eae239b",
   "metadata": {},
   "outputs": [
    {
     "name": "stdout",
     "output_type": "stream",
     "text": [
      "Results\n",
      "[('o', 'http://www.wikidata.org/entity/Q3624078'), ('oname', 'sovereign state')]\n",
      "[('o', 'http://www.wikidata.org/entity/Q6256'), ('oname', 'country')]\n"
     ]
    },
    {
     "data": {
      "text/plain": [
       "2"
      ]
     },
     "execution_count": 11,
     "metadata": {},
     "output_type": "execute_result"
    }
   ],
   "source": [
    "queryString = \"\"\"\n",
    "SELECT ?o ?oname\n",
    "WHERE { \n",
    "wd:Q38 wdt:P31 ?o.\n",
    "?o <http://schema.org/name> ?oname.\n",
    "\n",
    "}\n",
    "\"\"\"\n",
    "\n",
    "print(\"Results\")\n",
    "run_query(queryString)"
   ]
  },
  {
   "cell_type": "markdown",
   "id": "47b66c76-1e0d-4753-842e-1672958b35a3",
   "metadata": {},
   "source": [
    "Now I check that nodes that are instance of country (wd:Q6256) are actually countries."
   ]
  },
  {
   "cell_type": "code",
   "execution_count": 12,
   "id": "f6849a1e-1487-40df-85fa-c53f4bc41302",
   "metadata": {},
   "outputs": [
    {
     "name": "stdout",
     "output_type": "stream",
     "text": [
      "Results\n",
      "[('c', 'http://www.wikidata.org/entity/Q16644'), ('cname', 'Northern Mariana Islands')]\n",
      "[('c', 'http://www.wikidata.org/entity/Q207991'), ('cname', 'Pahlavi Dynasty')]\n",
      "[('c', 'http://www.wikidata.org/entity/Q756617'), ('cname', 'Danish Realm')]\n",
      "[('c', 'http://www.wikidata.org/entity/Q786'), ('cname', 'Dominican Republic')]\n",
      "[('c', 'http://www.wikidata.org/entity/Q907112'), ('cname', 'Transnistria')]\n",
      "[('c', 'http://www.wikidata.org/entity/Q244165'), ('cname', 'Republic of Artsakh')]\n",
      "[('c', 'http://www.wikidata.org/entity/Q1005'), ('cname', 'The Gambia')]\n",
      "[('c', 'http://www.wikidata.org/entity/Q1006'), ('cname', 'Guinea')]\n",
      "[('c', 'http://www.wikidata.org/entity/Q1007'), ('cname', 'Guinea-Bissau')]\n",
      "[('c', 'http://www.wikidata.org/entity/Q1008'), ('cname', 'Ivory Coast')]\n",
      "[('c', 'http://www.wikidata.org/entity/Q1009'), ('cname', 'Cameroon')]\n",
      "[('c', 'http://www.wikidata.org/entity/Q1011'), ('cname', 'Cape Verde')]\n",
      "[('c', 'http://www.wikidata.org/entity/Q1013'), ('cname', 'Lesotho')]\n",
      "[('c', 'http://www.wikidata.org/entity/Q1014'), ('cname', 'Liberia')]\n",
      "[('c', 'http://www.wikidata.org/entity/Q1016'), ('cname', 'Libya')]\n"
     ]
    },
    {
     "data": {
      "text/plain": [
       "15"
      ]
     },
     "execution_count": 12,
     "metadata": {},
     "output_type": "execute_result"
    }
   ],
   "source": [
    "queryString = \"\"\"\n",
    "SELECT ?c ?cname\n",
    "WHERE { \n",
    "?c wdt:P31 wd:Q6256.\n",
    "?c <http://schema.org/name> ?cname.\n",
    "}\n",
    "LIMIT 15\n",
    "\"\"\"\n",
    "\n",
    "print(\"Results\")\n",
    "run_query(queryString)"
   ]
  },
  {
   "cell_type": "markdown",
   "id": "9f084ff0-df1a-4745-970b-9666aea11001",
   "metadata": {},
   "source": [
    "In this way I can retrieve writers' properties whose object are some instance of country. In this way I can see how citizenship information is store in the data."
   ]
  },
  {
   "cell_type": "code",
   "execution_count": 13,
   "id": "74458732-aca2-4701-a30f-4b1b6ceb0c39",
   "metadata": {},
   "outputs": [
    {
     "name": "stdout",
     "output_type": "stream",
     "text": [
      "Results\n",
      "[('p', 'http://www.wikidata.org/prop/direct/P101'), ('pname', 'field of work')]\n",
      "[('p', 'http://www.wikidata.org/prop/direct/P119'), ('pname', 'place of burial')]\n",
      "[('p', 'http://www.wikidata.org/prop/direct/P1532'), ('pname', 'country for sport')]\n",
      "[('p', 'http://www.wikidata.org/prop/direct/P17'), ('pname', 'country')]\n",
      "[('p', 'http://www.wikidata.org/prop/direct/P19'), ('pname', 'place of birth')]\n",
      "[('p', 'http://www.wikidata.org/prop/direct/P20'), ('pname', 'place of death')]\n",
      "[('p', 'http://www.wikidata.org/prop/direct/P2632'), ('pname', 'place of detention')]\n",
      "[('p', 'http://www.wikidata.org/prop/direct/P27'), ('pname', 'country of citizenship')]\n",
      "[('p', 'http://www.wikidata.org/prop/direct/P276'), ('pname', 'location')]\n",
      "[('p', 'http://www.wikidata.org/prop/direct/P495'), ('pname', 'country of origin')]\n",
      "[('p', 'http://www.wikidata.org/prop/direct/P53'), ('pname', 'family')]\n",
      "[('p', 'http://www.wikidata.org/prop/direct/P551'), ('pname', 'residence')]\n",
      "[('p', 'http://www.wikidata.org/prop/direct/P66'), ('pname', 'ancestral home')]\n",
      "[('p', 'http://www.wikidata.org/prop/direct/P69'), ('pname', 'educated at')]\n",
      "[('p', 'http://www.wikidata.org/prop/direct/P737'), ('pname', 'influenced by')]\n",
      "[('p', 'http://www.wikidata.org/prop/direct/P740'), ('pname', 'location of formation')]\n",
      "[('p', 'http://www.wikidata.org/prop/direct/P937'), ('pname', 'work location')]\n",
      "[('p', 'http://www.wikidata.org/prop/direct/P945'), ('pname', 'allegiance')]\n",
      "[('p', 'http://www.wikidata.org/prop/direct/P108'), ('pname', 'employer')]\n",
      "[('p', 'http://www.wikidata.org/prop/direct/P172'), ('pname', 'ethnic group')]\n",
      "[('p', 'http://www.wikidata.org/prop/direct/P241'), ('pname', 'military branch')]\n",
      "[('p', 'http://www.wikidata.org/prop/direct/P2650'), ('pname', 'interested in')]\n",
      "[('p', 'http://www.wikidata.org/prop/direct/P735'), ('pname', 'given name')]\n",
      "[('p', 'http://www.wikidata.org/prop/direct/P5389'), ('pname', 'permanent resident of')]\n",
      "[('p', 'http://www.wikidata.org/prop/direct/P1444'), ('pname', 'destination point')]\n",
      "[('p', 'http://www.wikidata.org/prop/direct/P157'), ('pname', 'killed by')]\n",
      "[('p', 'http://www.wikidata.org/prop/direct/P103'), ('pname', 'native language')]\n"
     ]
    },
    {
     "data": {
      "text/plain": [
       "27"
      ]
     },
     "execution_count": 13,
     "metadata": {},
     "output_type": "execute_result"
    }
   ],
   "source": [
    "queryString = \"\"\"\n",
    "SELECT DISTINCT ?p ?pname\n",
    "WHERE { \n",
    "?w wdt:P106 wd:Q36180;\n",
    "    ?p ?c.\n",
    "?c wdt:P31 wd:Q6256.\n",
    "?p <http://schema.org/name> ?pname.\n",
    "\n",
    "}\n",
    "\"\"\"\n",
    "\n",
    "print(\"Results\")\n",
    "run_query(queryString)"
   ]
  },
  {
   "cell_type": "markdown",
   "id": "470ef2b2-8cae-4720-9c84-c0f5d687b4e2",
   "metadata": {},
   "source": [
    "Some properties that could help me retrieve writers' citizenship are:\n",
    "\n",
    "| IRI           | Description   | Role      |\n",
    "| -----------   | -----------   |-----------|\n",
    "| `wdt:P17`   | country   | predicate |\n",
    "| `wdt:P19`   | place of birth   | predicate |\n",
    "| `wdt:P27`    | country of citizenship      | predicate |\n",
    "| `wdt:P459`     | country of origin   | predicate |\n",
    "\n",
    "Therefore, in order to retrieve italian and french writers we can use such properties linked to Italy (wd:Q38), Kingdom of Italy (wd:Q172579) and France (wd:Q142). We need two countries for Italy because since we are retrieving writers that published at least a book in the last 50 years we could have writers still linked to the Kingdom of Italy. \n",
    "\n",
    "Before moving on, I check if there are other properties asserting writers' nationality without using the country but for example the words 'italian' or 'french'."
   ]
  },
  {
   "cell_type": "code",
   "execution_count": 14,
   "id": "a246a2cc-805f-4c08-9590-7984ccafc0f5",
   "metadata": {},
   "outputs": [
    {
     "name": "stdout",
     "output_type": "stream",
     "text": [
      "Results\n",
      "Empty\n"
     ]
    },
    {
     "data": {
      "text/plain": [
       "0"
      ]
     },
     "execution_count": 14,
     "metadata": {},
     "output_type": "execute_result"
    }
   ],
   "source": [
    "queryString = \"\"\"\n",
    "SELECT ?p ?pname ?o ?oname\n",
    "WHERE { \n",
    "?w wdt:P106 wd:Q36180;\n",
    "    wdt:P27 wdt:Q142;\n",
    "    ?p ?o.\n",
    "    \n",
    "?p <http://schema.org/name> ?pname.\n",
    "?o <http://schema.org/name> ?oname.\n",
    "\n",
    "FILTER(regex(?pname,\".*citizenship.*\") || regex(?pname, \".*nationality.*\")).\n",
    "\n",
    "}\n",
    "\"\"\"\n",
    "\n",
    "print(\"Results\")\n",
    "run_query(queryString)"
   ]
  },
  {
   "cell_type": "markdown",
   "id": "72a0a5f9-d66e-42e4-a67c-e95bf5d24972",
   "metadata": {},
   "source": [
    "No other properties named citizenship is connected to french writers. Therefore I can retrieve all italian and french writers using the properties I already discovered without losing information. First, I count the french writers to see if the reasoning is correct."
   ]
  },
  {
   "cell_type": "code",
   "execution_count": 15,
   "id": "cbe2931c-e4de-4245-b87d-757ffcf03b31",
   "metadata": {},
   "outputs": [
    {
     "name": "stdout",
     "output_type": "stream",
     "text": [
      "Results\n",
      "[('frenchWriters', '14400')]\n"
     ]
    },
    {
     "data": {
      "text/plain": [
       "1"
      ]
     },
     "execution_count": 15,
     "metadata": {},
     "output_type": "execute_result"
    }
   ],
   "source": [
    "queryString = \"\"\"\n",
    "SELECT COUNT(DISTINCT ?w) AS ?frenchWriters\n",
    "WHERE { \n",
    "    ?w wdt:P106 wd:Q36180;\n",
    "        wdt:P27 wd:Q142.\n",
    "\n",
    "}\n",
    "\"\"\"\n",
    "\n",
    "print(\"Results\")\n",
    "run_query(queryString)"
   ]
  },
  {
   "cell_type": "markdown",
   "id": "a085d314-fc19-4602-80d2-2dec85ae7bc0",
   "metadata": {},
   "source": [
    "I add the other properties previously retrieved to see if they actually retrieve more results or if their impact is negligible."
   ]
  },
  {
   "cell_type": "code",
   "execution_count": 16,
   "id": "25b96f85-c758-4052-a510-d45f693c09a2",
   "metadata": {},
   "outputs": [
    {
     "name": "stdout",
     "output_type": "stream",
     "text": [
      "Results\n",
      "[('frenchWriters', '14421')]\n"
     ]
    },
    {
     "data": {
      "text/plain": [
       "1"
      ]
     },
     "execution_count": 16,
     "metadata": {},
     "output_type": "execute_result"
    }
   ],
   "source": [
    "queryString = \"\"\"\n",
    "SELECT COUNT(DISTINCT ?w) AS ?frenchWriters\n",
    "WHERE { \n",
    "    ?w wdt:P106 wd:Q36180;\n",
    "        wdt:P17|wdt:P27|wdt:P19|wdt:P459 wd:Q142.\n",
    "\n",
    "}\n",
    "\"\"\"\n",
    "\n",
    "print(\"Results\")\n",
    "run_query(queryString)"
   ]
  },
  {
   "cell_type": "markdown",
   "id": "e389af7c-e1d6-4c28-bfb0-6d4be0bb17fb",
   "metadata": {},
   "source": [
    "We retrieve 21 more authors over more than 14 thousands therefore it looks like I can simply use wdt:P17. I check it for Italy too before deciding. "
   ]
  },
  {
   "cell_type": "code",
   "execution_count": 17,
   "id": "e2c5e6a0-b305-498f-bd76-bf3e3410a3fc",
   "metadata": {},
   "outputs": [
    {
     "name": "stdout",
     "output_type": "stream",
     "text": [
      "Results\n",
      "[('italianWriters', '7442')]\n"
     ]
    },
    {
     "data": {
      "text/plain": [
       "1"
      ]
     },
     "execution_count": 17,
     "metadata": {},
     "output_type": "execute_result"
    }
   ],
   "source": [
    "queryString = \"\"\"\n",
    "SELECT COUNT(DISTINCT ?w) AS ?italianWriters\n",
    "WHERE { \n",
    "{\n",
    "    ?w wdt:P106 wd:Q36180;\n",
    "        wdt:P27 wd:Q38.\n",
    "}\n",
    "UNION\n",
    "{\n",
    "    ?w wdt:P106 wd:Q36180;\n",
    "        wdt:P27 wd:Q172579.\n",
    "}\n",
    "}\n",
    "\"\"\"\n",
    "\n",
    "print(\"Results\")\n",
    "run_query(queryString)"
   ]
  },
  {
   "cell_type": "code",
   "execution_count": 18,
   "id": "834ed7de-e46a-4da3-8450-bd8865959f4d",
   "metadata": {},
   "outputs": [
    {
     "name": "stdout",
     "output_type": "stream",
     "text": [
      "Results\n",
      "[('italianWriters', '7454')]\n"
     ]
    },
    {
     "data": {
      "text/plain": [
       "1"
      ]
     },
     "execution_count": 18,
     "metadata": {},
     "output_type": "execute_result"
    }
   ],
   "source": [
    "queryString = \"\"\"\n",
    "SELECT COUNT(DISTINCT ?w) AS ?italianWriters\n",
    "WHERE { \n",
    "{\n",
    "    ?w wdt:P106 wd:Q36180;\n",
    "        wdt:P17|wdt:P27|wdt:P19|wdt:P459 wd:Q38.\n",
    "}\n",
    "UNION\n",
    "{\n",
    "    ?w wdt:P106 wd:Q36180;\n",
    "        wdt:P17|wdt:P27|wdt:P19|wdt:P459 wd:Q172579.\n",
    "}\n",
    "}\n",
    "\"\"\"\n",
    "\n",
    "print(\"Results\")\n",
    "run_query(queryString)"
   ]
  },
  {
   "cell_type": "markdown",
   "id": "5e0c582c-f51c-4302-ba86-cd2f8b008d0c",
   "metadata": {},
   "source": [
    "Again, I retrieved about ten writers more over the 7 thousand I already found therefore I decide to simply use wdt:P27 property."
   ]
  },
  {
   "cell_type": "markdown",
   "id": "9a0a53c7-114b-47e3-a712-2aa99f0e143f",
   "metadata": {
    "tags": []
   },
   "source": [
    "#### BGP for all italian and french wrtiters\n",
    "Now I can retrieve all french and italian writers."
   ]
  },
  {
   "cell_type": "code",
   "execution_count": 19,
   "id": "9ef93c16-aacc-4369-9ed0-3887117477e8",
   "metadata": {},
   "outputs": [
    {
     "name": "stdout",
     "output_type": "stream",
     "text": [
      "Results\n",
      "[('writers', '21821')]\n"
     ]
    },
    {
     "data": {
      "text/plain": [
       "1"
      ]
     },
     "execution_count": 19,
     "metadata": {},
     "output_type": "execute_result"
    }
   ],
   "source": [
    "queryString = \"\"\"\n",
    "SELECT COUNT(DISTINCT ?w) As ?writers\n",
    "WHERE { \n",
    "{\n",
    "    ?w wdt:P106 wd:Q36180;\n",
    "        wdt:P27 wd:Q142.\n",
    "}\n",
    "UNION\n",
    "{\n",
    "    ?w wdt:P106 wd:Q36180;\n",
    "        wdt:P27 wd:Q38.\n",
    "}\n",
    "UNION\n",
    "{\n",
    "    ?w wdt:P106 wd:Q36180;\n",
    "        wdt:P27 wd:Q172579.\n",
    "}\n",
    "}\n",
    "\"\"\"\n",
    "\n",
    "print(\"Results\")\n",
    "run_query(queryString)"
   ]
  },
  {
   "cell_type": "markdown",
   "id": "7ae9b57c-d0b2-4dca-ad69-a64621e7811b",
   "metadata": {},
   "source": [
    "Equivalent formulation:"
   ]
  },
  {
   "cell_type": "code",
   "execution_count": 20,
   "id": "5daf333d-938e-49ed-a047-31aaad989ca1",
   "metadata": {},
   "outputs": [
    {
     "name": "stdout",
     "output_type": "stream",
     "text": [
      "Results\n",
      "[('writers', '21821')]\n"
     ]
    },
    {
     "data": {
      "text/plain": [
       "1"
      ]
     },
     "execution_count": 20,
     "metadata": {},
     "output_type": "execute_result"
    }
   ],
   "source": [
    "queryString = \"\"\"\n",
    "SELECT COUNT(DISTINCT ?w) As ?writers\n",
    "WHERE { \n",
    "\n",
    "    ?w wdt:P106 wd:Q36180;\n",
    "        wdt:P27 ?c.\n",
    "    FILTER(?c = wd:Q142 || ?c = wd:Q38 || ?c = wd:Q172579).\n",
    "    \n",
    "}\n",
    "\"\"\"\n",
    "\n",
    "print(\"Results\")\n",
    "run_query(queryString)"
   ]
  },
  {
   "cell_type": "markdown",
   "id": "1f3cd697-cd59-4101-a9d3-ca5b55162b21",
   "metadata": {
    "tags": []
   },
   "source": [
    "#### Information about writers' work\n",
    "Now I need to filter all italian and french writers based on the one that published at least a book in the last 50 years. Therefore I need to understand how such information is stored in the database. I filter the properties only for italian and french writers in order to ease the computation. I am using a subquery to retrieve the writers first."
   ]
  },
  {
   "cell_type": "code",
   "execution_count": 21,
   "id": "97e2dd58-0231-4aa0-b31a-407107f5ba34",
   "metadata": {},
   "outputs": [
    {
     "name": "stdout",
     "output_type": "stream",
     "text": [
      "Results\n",
      "[('p', 'http://www.wikidata.org/prop/direct/P123'), ('pname', 'publisher')]\n",
      "[('p', 'http://www.wikidata.org/prop/direct/P1239'), ('pname', 'ISFDB publisher ID')]\n",
      "[('p', 'http://www.wikidata.org/prop/direct/P1433'), ('pname', 'published in')]\n"
     ]
    },
    {
     "data": {
      "text/plain": [
       "3"
      ]
     },
     "execution_count": 21,
     "metadata": {},
     "output_type": "execute_result"
    }
   ],
   "source": [
    "queryString = \"\"\"\n",
    "SELECT DISTINCT ?p ?pname\n",
    "WHERE {\n",
    "    \n",
    "    ?w ?p ?o.\n",
    "    \n",
    "    ?p <http://schema.org/name> ?pname.\n",
    "    FILTER(regex(?pname,\".*publish.*\") || regex(?pname, \".*wrote.*\")).\n",
    "    \n",
    "{ \n",
    "    SELECT ?w\n",
    "    WHERE { \n",
    "    {\n",
    "        ?w wdt:P106 wd:Q36180;\n",
    "            wdt:P27 wd:Q142.\n",
    "    }\n",
    "    UNION\n",
    "    {\n",
    "        ?w wdt:P106 wd:Q36180;\n",
    "            wdt:P27 wd:Q38.\n",
    "    }\n",
    "    UNION\n",
    "    {\n",
    "        ?w wdt:P106 wd:Q36180;\n",
    "            wdt:P27 wd:Q172579.\n",
    "    }\n",
    "    }\n",
    "}\n",
    "\n",
    "}\n",
    "\"\"\"\n",
    "\n",
    "print(\"Results\")\n",
    "run_query(queryString)"
   ]
  },
  {
   "cell_type": "markdown",
   "id": "22dfa0ef-431e-403a-ba36-ae089ebb6e83",
   "metadata": {},
   "source": [
    "Looks like the property wdt:P123 publisher could be useful, let us see the object linked with it."
   ]
  },
  {
   "cell_type": "code",
   "execution_count": 22,
   "id": "86a2e1fd-974e-46fc-b69b-3c199dabe849",
   "metadata": {},
   "outputs": [
    {
     "name": "stdout",
     "output_type": "stream",
     "text": [
      "Results\n",
      "[('o', 'http://www.wikidata.org/entity/Q2190366'), ('oname', 'Éditions Albin Michel')]\n",
      "[('o', 'http://www.wikidata.org/entity/Q16628535'), ('oname', 'Des idées & des hommes')]\n",
      "[('o', 'http://www.wikidata.org/entity/Q28777944'), ('oname', 'Éditions Goélette')]\n",
      "[('o', 'http://www.wikidata.org/entity/Q3220877'), ('oname', 'Le Castor Astral')]\n",
      "[('o', 'http://www.wikidata.org/entity/Q28777883'), ('oname', 'French Pulp')]\n",
      "[('o', 'http://www.wikidata.org/entity/Q3345036'), ('oname', 'Éditions Nouveau Monde')]\n",
      "[('o', 'http://www.wikidata.org/entity/Q273819'), ('oname', 'Éditions Gallimard')]\n",
      "[('o', 'http://www.wikidata.org/entity/Q2823584'), ('oname', 'Actes Sud')]\n",
      "[('o', 'http://www.wikidata.org/entity/Q3563761'), ('oname', 'Vuibert')]\n",
      "[('o', 'http://www.wikidata.org/entity/Q3579411'), ('oname', 'Éditions Liana Levi')]\n",
      "[('o', 'http://www.wikidata.org/entity/Q3579478'), ('oname', 'Philippe Picquier Publishing')]\n",
      "[('o', 'http://www.wikidata.org/entity/Q3579598'), ('oname', \"L'Insomniaque\")]\n",
      "[('o', 'http://www.wikidata.org/entity/Q3575666'), ('oname', 'Znak')]\n",
      "[('o', 'http://www.wikidata.org/entity/Q3579383'), ('oname', \"L'Harmattan\")]\n",
      "[('o', 'http://www.wikidata.org/entity/Q1454296'), ('oname', 'Glénat')]\n",
      "[('o', 'http://www.wikidata.org/entity/Q3117417'), ('oname', 'Groupe Flammarion')]\n",
      "[('o', 'http://www.wikidata.org/entity/Q349566'), ('oname', 'Hachette')]\n",
      "[('o', 'http://www.wikidata.org/entity/Q273835'), ('oname', 'Éditions Larousse')]\n",
      "[('o', 'http://www.wikidata.org/entity/Q16684420'), ('oname', 'Solar')]\n",
      "[('o', 'http://www.wikidata.org/entity/Q16010834'), ('oname', 'Aubanel')]\n",
      "[('o', 'http://www.wikidata.org/entity/Q621534'), ('oname', 'Éditions Grasset')]\n",
      "[('o', 'http://www.wikidata.org/entity/Q189507'), ('oname', 'Internet marketing')]\n"
     ]
    },
    {
     "data": {
      "text/plain": [
       "22"
      ]
     },
     "execution_count": 22,
     "metadata": {},
     "output_type": "execute_result"
    }
   ],
   "source": [
    "queryString = \"\"\"\n",
    "SELECT DISTINCT ?o ?oname\n",
    "WHERE {\n",
    "    \n",
    "    ?w wdt:P123 ?o.\n",
    "    ?o <http://schema.org/name> ?oname.\n",
    "    \n",
    "{ \n",
    "    SELECT ?w\n",
    "    WHERE { \n",
    "    {\n",
    "        ?w wdt:P106 wd:Q36180;\n",
    "            wdt:P27 wd:Q142.\n",
    "    }\n",
    "    UNION\n",
    "    {\n",
    "        ?w wdt:P106 wd:Q36180;\n",
    "            wdt:P27 wd:Q38.\n",
    "    }\n",
    "    UNION\n",
    "    {\n",
    "        ?w wdt:P106 wd:Q36180;\n",
    "            wdt:P27 wd:Q172579.\n",
    "    }\n",
    "    }\n",
    "}\n",
    "\n",
    "}\n",
    "LIMIT 50\n",
    "\"\"\"\n",
    "\n",
    "print(\"Results\")\n",
    "run_query(queryString)"
   ]
  },
  {
   "cell_type": "markdown",
   "id": "0c353cf8-4640-4106-ab10-54a6f1c10962",
   "metadata": {},
   "source": [
    "I retrieved only 22 results even if the limit was 50. It looks like this is not the right property. I start exploring the subset's properties by counting them. I look for the properties where the writers are the subjects, then I will do the same thing for the other direction."
   ]
  },
  {
   "cell_type": "code",
   "execution_count": 23,
   "id": "300d2179-0aa0-428b-acb9-87755e339c39",
   "metadata": {},
   "outputs": [
    {
     "name": "stdout",
     "output_type": "stream",
     "text": [
      "Results\n",
      "[('props', '1707')]\n"
     ]
    },
    {
     "data": {
      "text/plain": [
       "1"
      ]
     },
     "execution_count": 23,
     "metadata": {},
     "output_type": "execute_result"
    }
   ],
   "source": [
    "queryString = \"\"\"\n",
    "SELECT COUNT(DISTINCT ?p) AS ?props \n",
    "WHERE {\n",
    "    \n",
    "    ?w ?p ?o.\n",
    "    \n",
    "{ \n",
    "    SELECT ?w\n",
    "    WHERE { \n",
    "    {\n",
    "        ?w wdt:P106 wd:Q36180;\n",
    "            wdt:P27 wd:Q142.\n",
    "    }\n",
    "    UNION\n",
    "    {\n",
    "        ?w wdt:P106 wd:Q36180;\n",
    "            wdt:P27 wd:Q38.\n",
    "    }\n",
    "    UNION\n",
    "    {\n",
    "        ?w wdt:P106 wd:Q36180;\n",
    "            wdt:P27 wd:Q172579.\n",
    "    }\n",
    "    }\n",
    "}\n",
    "\n",
    "}\n",
    "\"\"\"\n",
    "\n",
    "print(\"Results\")\n",
    "run_query(queryString)"
   ]
  },
  {
   "cell_type": "markdown",
   "id": "cdf53fc2-6107-48d8-bdf4-ef2d9973a29a",
   "metadata": {},
   "source": [
    "Now I retrieve the top 50 most used properties in the subset."
   ]
  },
  {
   "cell_type": "code",
   "execution_count": 24,
   "id": "f9546a4f-d7ff-481e-b8ea-8c89fbe484e1",
   "metadata": {},
   "outputs": [
    {
     "name": "stdout",
     "output_type": "stream",
     "text": [
      "Results\n",
      "[('p', 'http://www.wikidata.org/prop/direct/P106'), ('pname', 'occupation'), ('objects', '62679')]\n",
      "[('p', 'http://www.wikidata.org/prop/direct/P27'), ('pname', 'country of citizenship'), ('objects', '30291')]\n",
      "[('p', 'http://www.wikidata.org/prop/direct/P1412'), ('pname', 'languages spoken, written or signed'), ('objects', '25719')]\n",
      "[('p', 'http://www.wikidata.org/prop/direct/P735'), ('pname', 'given name'), ('objects', '24243')]\n",
      "[('p', 'http://www.wikidata.org/prop/direct/P31'), ('pname', 'instance of'), ('objects', '24117')]\n",
      "[('p', 'http://www.wikidata.org/prop/direct/P21'), ('pname', 'sex or gender'), ('objects', '24071')]\n",
      "[('p', 'http://www.wikidata.org/prop/direct/P569'), ('pname', 'date of birth'), ('objects', '23787')]\n",
      "[('p', 'http://www.wikidata.org/prop/direct/P214'), ('pname', 'VIAF ID'), ('objects', '22108')]\n",
      "[('p', 'http://www.wikidata.org/prop/direct/P7859'), ('pname', 'WorldCat Identities ID'), ('objects', '20970')]\n",
      "[('p', 'http://www.wikidata.org/prop/direct/P19'), ('pname', 'place of birth'), ('objects', '20675')]\n",
      "[('p', 'http://www.wikidata.org/prop/direct/P213'), ('pname', 'ISNI'), ('objects', '19749')]\n",
      "[('p', 'http://www.wikidata.org/prop/direct/P268'), ('pname', 'Bibliothèque nationale de France ID'), ('objects', '17593')]\n",
      "[('p', 'http://www.wikidata.org/prop/direct/P244'), ('pname', 'Library of Congress authority ID'), ('objects', '16631')]\n",
      "[('p', 'http://www.wikidata.org/prop/direct/P734'), ('pname', 'family name'), ('objects', '16124')]\n",
      "[('p', 'http://www.wikidata.org/prop/direct/P269'), ('pname', 'IdRef ID'), ('objects', '15865')]\n",
      "[('p', 'http://www.wikidata.org/prop/direct/P570'), ('pname', 'date of death'), ('objects', '15096')]\n",
      "[('p', 'http://www.wikidata.org/prop/direct/P2671'), ('pname', 'Google Knowledge Graph ID'), ('objects', '13750')]\n",
      "[('p', 'http://www.wikidata.org/prop/direct/P20'), ('pname', 'place of death'), ('objects', '12429')]\n",
      "[('p', 'http://www.wikidata.org/prop/direct/P1006'), ('pname', 'Nationale Thesaurus voor Auteurs ID'), ('objects', '11776')]\n",
      "[('p', 'http://www.wikidata.org/prop/direct/P166'), ('pname', 'award received'), ('objects', '11366')]\n",
      "[('p', 'http://www.wikidata.org/prop/direct/P227'), ('pname', 'GND ID'), ('objects', '11234')]\n",
      "[('p', 'http://www.wikidata.org/prop/direct/P1207'), ('pname', 'NUKAT ID'), ('objects', '10176')]\n",
      "[('p', 'http://www.wikidata.org/prop/direct/P18'), ('pname', 'image'), ('objects', '8903')]\n",
      "[('p', 'http://www.wikidata.org/prop/direct/P3987'), ('pname', 'SHARE Catalogue author ID'), ('objects', '8053')]\n",
      "[('p', 'http://www.wikidata.org/prop/direct/P2163'), ('pname', 'FAST ID'), ('objects', '7244')]\n",
      "[('p', 'http://www.wikidata.org/prop/direct/P646'), ('pname', 'Freebase ID'), ('objects', '6894')]\n",
      "[('p', 'http://www.wikidata.org/prop/direct/P648'), ('pname', 'Open Library ID'), ('objects', '6833')]\n",
      "[('p', 'http://www.wikidata.org/prop/direct/P103'), ('pname', 'native language'), ('objects', '6815')]\n",
      "[('p', 'http://www.wikidata.org/prop/direct/P3630'), ('pname', 'Babelio author ID'), ('objects', '6773')]\n",
      "[('p', 'http://www.wikidata.org/prop/direct/P7293'), ('pname', 'PLWABN ID'), ('objects', '6612')]\n",
      "[('p', 'http://www.wikidata.org/prop/direct/P373'), ('pname', 'Commons category'), ('objects', '6581')]\n",
      "[('p', 'http://www.wikidata.org/prop/direct/P691'), ('pname', 'NKCR AUT ID'), ('objects', '6452')]\n",
      "[('p', 'http://www.wikidata.org/prop/direct/P1343'), ('pname', 'described by source'), ('objects', '6074')]\n",
      "[('p', 'http://www.wikidata.org/prop/direct/P396'), ('pname', 'SBN author ID'), ('objects', '6029')]\n",
      "[('p', 'http://www.wikidata.org/prop/direct/P69'), ('pname', 'educated at'), ('objects', '5910')]\n",
      "[('p', 'http://www.wikidata.org/prop/direct/P950'), ('pname', 'Biblioteca Nacional de España ID'), ('objects', '5189')]\n",
      "[('p', 'http://www.wikidata.org/prop/direct/P8034'), ('pname', 'Vatican Library VcBA ID'), ('objects', '4922')]\n",
      "[('p', 'http://www.wikidata.org/prop/direct/P6886'), ('pname', 'writing language'), ('objects', '4792')]\n",
      "[('p', 'http://www.wikidata.org/prop/direct/P7902'), ('pname', 'Deutsche Biographie (GND) ID'), ('objects', '4370')]\n",
      "[('p', 'http://www.wikidata.org/prop/direct/P108'), ('pname', 'employer'), ('objects', '4178')]\n",
      "[('p', 'http://www.wikidata.org/prop/direct/P39'), ('pname', 'position held'), ('objects', '3765')]\n",
      "[('p', 'http://www.wikidata.org/prop/direct/P3762'), ('pname', 'openMLOL author ID'), ('objects', '3724')]\n",
      "[('p', 'http://www.wikidata.org/prop/direct/P1280'), ('pname', 'CONOR.SI ID'), ('objects', '3525')]\n",
      "[('p', 'http://www.wikidata.org/prop/direct/P7865'), ('pname', 'CoBiS author ID'), ('objects', '3513')]\n",
      "[('p', 'http://www.wikidata.org/prop/direct/P1017'), ('pname', 'Vatican Library ID (former scheme)'), ('objects', '3403')]\n",
      "[('p', 'http://www.wikidata.org/prop/direct/P345'), ('pname', 'IMDb ID'), ('objects', '3197')]\n",
      "[('p', 'http://www.wikidata.org/prop/direct/P463'), ('pname', 'member of'), ('objects', '3174')]\n",
      "[('p', 'http://www.wikidata.org/prop/direct/P7763'), ('pname', 'copyright status as a creator'), ('objects', '3133')]\n",
      "[('p', 'http://www.wikidata.org/prop/direct/P1005'), ('pname', 'Portuguese National Library ID'), ('objects', '3011')]\n",
      "[('p', 'http://www.wikidata.org/prop/direct/P1015'), ('pname', 'NORAF ID'), ('objects', '2888')]\n"
     ]
    },
    {
     "data": {
      "text/plain": [
       "50"
      ]
     },
     "execution_count": 24,
     "metadata": {},
     "output_type": "execute_result"
    }
   ],
   "source": [
    "queryString = \"\"\"\n",
    "SELECT ?p ?pname COUNT(?o) AS ?objects \n",
    "WHERE {\n",
    "    \n",
    "    ?w ?p ?o.\n",
    "    ?p <http://schema.org/name> ?pname.\n",
    "    \n",
    "{ \n",
    "    SELECT ?w\n",
    "    WHERE { \n",
    "    {\n",
    "        ?w wdt:P106 wd:Q36180;\n",
    "            wdt:P27 wd:Q142.\n",
    "    }\n",
    "    UNION\n",
    "    {\n",
    "        ?w wdt:P106 wd:Q36180;\n",
    "            wdt:P27 wd:Q38.\n",
    "    }\n",
    "    UNION\n",
    "    {\n",
    "        ?w wdt:P106 wd:Q36180;\n",
    "            wdt:P27 wd:Q172579.\n",
    "    }\n",
    "    }\n",
    "}\n",
    "}\n",
    "GROUP BY ?p ?pname\n",
    "ORDER BY DESC(COUNT(?o))\n",
    "LIMIT 50\n",
    "\"\"\"\n",
    "\n",
    "print(\"Results\")\n",
    "run_query(queryString)"
   ]
  },
  {
   "cell_type": "markdown",
   "id": "2c99ae90-1530-4e51-a41e-3b638a38451d",
   "metadata": {},
   "source": [
    "I did not retrieve any useful information about the published book but I discovered the property wdt:P166 named \"award received\" that might be useful for later. I now run the same queries using writers as objects of the properties."
   ]
  },
  {
   "cell_type": "code",
   "execution_count": 25,
   "id": "628d7224-8771-4d86-8813-e6fb024d7099",
   "metadata": {},
   "outputs": [
    {
     "name": "stdout",
     "output_type": "stream",
     "text": [
      "Results\n",
      "[('props', '178')]\n"
     ]
    },
    {
     "data": {
      "text/plain": [
       "1"
      ]
     },
     "execution_count": 25,
     "metadata": {},
     "output_type": "execute_result"
    }
   ],
   "source": [
    "queryString = \"\"\"\n",
    "SELECT COUNT(DISTINCT ?p) AS ?props \n",
    "WHERE {\n",
    "    \n",
    "    ?s ?p ?w.\n",
    "    \n",
    "{ \n",
    "    SELECT ?w\n",
    "    WHERE { \n",
    "    {\n",
    "        ?w wdt:P106 wd:Q36180;\n",
    "            wdt:P27 wd:Q142.\n",
    "    }\n",
    "    UNION\n",
    "    {\n",
    "        ?w wdt:P106 wd:Q36180;\n",
    "            wdt:P27 wd:Q38.\n",
    "    }\n",
    "    UNION\n",
    "    {\n",
    "        ?w wdt:P106 wd:Q36180;\n",
    "            wdt:P27 wd:Q172579.\n",
    "    }\n",
    "    }\n",
    "}\n",
    "\n",
    "}\n",
    "\"\"\"\n",
    "\n",
    "print(\"Results\")\n",
    "run_query(queryString)"
   ]
  },
  {
   "cell_type": "code",
   "execution_count": 26,
   "id": "dd60fee7-7de0-46c9-bbc9-0399859821e3",
   "metadata": {},
   "outputs": [
    {
     "name": "stdout",
     "output_type": "stream",
     "text": [
      "Results\n",
      "[('p', 'http://www.wikidata.org/prop/direct/P50'), ('pname', 'author'), ('objects', '46832')]\n",
      "[('p', 'http://www.wikidata.org/prop/direct/P58'), ('pname', 'screenwriter'), ('objects', '12770')]\n",
      "[('p', 'http://www.wikidata.org/prop/direct/P161'), ('pname', 'cast member'), ('objects', '10895')]\n",
      "[('p', 'http://www.wikidata.org/prop/direct/P170'), ('pname', 'creator'), ('objects', '5348')]\n",
      "[('p', 'http://www.wikidata.org/prop/direct/P138'), ('pname', 'named after'), ('objects', '5326')]\n",
      "[('p', 'http://www.wikidata.org/prop/direct/P57'), ('pname', 'director'), ('objects', '4637')]\n",
      "[('p', 'http://www.wikidata.org/prop/direct/P921'), ('pname', 'main subject'), ('objects', '4052')]\n",
      "[('p', 'http://www.wikidata.org/prop/direct/P40'), ('pname', 'child'), ('objects', '2051')]\n",
      "[('p', 'http://www.wikidata.org/prop/direct/P175'), ('pname', 'performer'), ('objects', '2043')]\n",
      "[('p', 'http://www.wikidata.org/prop/direct/P26'), ('pname', 'spouse'), ('objects', '1905')]\n",
      "[('p', 'http://www.wikidata.org/prop/direct/P3373'), ('pname', 'sibling'), ('objects', '1667')]\n",
      "[('p', 'http://www.wikidata.org/prop/direct/P22'), ('pname', 'father'), ('objects', '1403')]\n",
      "[('p', 'http://www.wikidata.org/prop/direct/P180'), ('pname', 'depicts'), ('objects', '1168')]\n",
      "[('p', 'http://www.wikidata.org/prop/direct/P86'), ('pname', 'composer'), ('objects', '1161')]\n",
      "[('p', 'http://www.wikidata.org/prop/direct/P1877'), ('pname', 'after a work by'), ('objects', '1107')]\n",
      "[('p', 'http://www.wikidata.org/prop/direct/P301'), ('pname', \"category's main topic\"), ('objects', '996')]\n",
      "[('p', 'http://www.wikidata.org/prop/direct/P112'), ('pname', 'founded by'), ('objects', '946')]\n",
      "[('p', 'http://www.wikidata.org/prop/direct/P655'), ('pname', 'translator'), ('objects', '860')]\n",
      "[('p', 'http://www.wikidata.org/prop/direct/P737'), ('pname', 'influenced by'), ('objects', '838')]\n",
      "[('p', 'http://www.wikidata.org/prop/direct/P87'), ('pname', 'librettist'), ('objects', '808')]\n",
      "[('p', 'http://www.wikidata.org/prop/direct/P971'), ('pname', 'category combines topics'), ('objects', '697')]\n",
      "[('p', 'http://www.wikidata.org/prop/direct/P676'), ('pname', 'lyrics by'), ('objects', '654')]\n",
      "[('p', 'http://www.wikidata.org/prop/direct/P1066'), ('pname', 'student of'), ('objects', '650')]\n",
      "[('p', 'http://www.wikidata.org/prop/direct/P1038'), ('pname', 'relative'), ('objects', '627')]\n",
      "[('p', 'http://www.wikidata.org/prop/direct/P1889'), ('pname', 'different from'), ('objects', '610')]\n",
      "[('p', 'http://www.wikidata.org/prop/direct/P1346'), ('pname', 'winner'), ('objects', '531')]\n",
      "[('p', 'http://www.wikidata.org/prop/direct/P162'), ('pname', 'producer'), ('objects', '521')]\n",
      "[('p', 'http://www.wikidata.org/prop/direct/P371'), ('pname', 'presenter'), ('objects', '516')]\n",
      "[('p', 'http://www.wikidata.org/prop/direct/P25'), ('pname', 'mother'), ('objects', '507')]\n",
      "[('p', 'http://www.wikidata.org/prop/direct/P98'), ('pname', 'editor'), ('objects', '497')]\n",
      "[('p', 'http://www.wikidata.org/prop/direct/P802'), ('pname', 'student'), ('objects', '413')]\n",
      "[('p', 'http://www.wikidata.org/prop/direct/P5030'), ('pname', 'talk show guest'), ('objects', '411')]\n",
      "[('p', 'http://www.wikidata.org/prop/direct/P825'), ('pname', 'dedicated to'), ('objects', '404')]\n",
      "[('p', 'http://www.wikidata.org/prop/direct/P1308'), ('pname', 'officeholder'), ('objects', '390')]\n",
      "[('p', 'http://www.wikidata.org/prop/direct/P710'), ('pname', 'participant'), ('objects', '378')]\n",
      "[('p', 'http://www.wikidata.org/prop/direct/P451'), ('pname', 'unmarried partner'), ('objects', '344')]\n",
      "[('p', 'http://www.wikidata.org/prop/direct/P1598'), ('pname', 'consecrator'), ('objects', '322')]\n",
      "[('p', 'http://www.wikidata.org/prop/direct/P1040'), ('pname', 'film editor'), ('objects', '313')]\n",
      "[('p', 'http://www.wikidata.org/prop/direct/P344'), ('pname', 'director of photography'), ('objects', '308')]\n",
      "[('p', 'http://www.wikidata.org/prop/direct/P184'), ('pname', 'doctoral advisor'), ('objects', '298')]\n",
      "[('p', 'http://www.wikidata.org/prop/direct/P1891'), ('pname', 'signatory'), ('objects', '294')]\n",
      "[('p', 'http://www.wikidata.org/prop/direct/P527'), ('pname', 'has part'), ('objects', '280')]\n",
      "[('p', 'http://www.wikidata.org/prop/direct/P185'), ('pname', 'doctoral student'), ('objects', '263')]\n",
      "[('p', 'http://www.wikidata.org/prop/direct/P84'), ('pname', 'architect'), ('objects', '234')]\n",
      "[('p', 'http://www.wikidata.org/prop/direct/P127'), ('pname', 'owned by'), ('objects', '214')]\n",
      "[('p', 'http://www.wikidata.org/prop/direct/P123'), ('pname', 'publisher'), ('objects', '198')]\n",
      "[('p', 'http://www.wikidata.org/prop/direct/P1855'), ('pname', 'Wikidata property example'), ('objects', '192')]\n",
      "[('p', 'http://www.wikidata.org/prop/direct/P488'), ('pname', 'chairperson'), ('objects', '171')]\n",
      "[('p', 'http://www.wikidata.org/prop/direct/P110'), ('pname', 'illustrator'), ('objects', '171')]\n",
      "[('p', 'http://www.wikidata.org/prop/direct/P2515'), ('pname', 'costume designer'), ('objects', '170')]\n"
     ]
    },
    {
     "data": {
      "text/plain": [
       "50"
      ]
     },
     "execution_count": 26,
     "metadata": {},
     "output_type": "execute_result"
    }
   ],
   "source": [
    "queryString = \"\"\"\n",
    "SELECT ?p ?pname COUNT(?w) AS ?objects \n",
    "WHERE {\n",
    "    \n",
    "    ?s ?p ?w.\n",
    "    ?p <http://schema.org/name> ?pname.\n",
    "    \n",
    "{ \n",
    "    SELECT ?w\n",
    "    WHERE { \n",
    "    {\n",
    "        ?w wdt:P106 wd:Q36180;\n",
    "            wdt:P27 wd:Q142.\n",
    "    }\n",
    "    UNION\n",
    "    {\n",
    "        ?w wdt:P106 wd:Q36180;\n",
    "            wdt:P27 wd:Q38.\n",
    "    }\n",
    "    UNION\n",
    "    {\n",
    "        ?w wdt:P106 wd:Q36180;\n",
    "            wdt:P27 wd:Q172579.\n",
    "    }\n",
    "    }\n",
    "}\n",
    "}\n",
    "GROUP BY ?p ?pname\n",
    "ORDER BY DESC(COUNT(?w))\n",
    "LIMIT 50\n",
    "\"\"\"\n",
    "\n",
    "print(\"Results\")\n",
    "run_query(queryString)"
   ]
  },
  {
   "cell_type": "markdown",
   "id": "2b1e34c4-6dc0-4c43-86f9-58117dfae5bf",
   "metadata": {},
   "source": [
    "I discovered the property wdt:P50 author that I already encountered before. I check the property by retrieving what are its subjects."
   ]
  },
  {
   "cell_type": "code",
   "execution_count": 27,
   "id": "8f3b5a63-1def-457e-91cd-30b85cde6a4c",
   "metadata": {},
   "outputs": [
    {
     "name": "stdout",
     "output_type": "stream",
     "text": [
      "Results\n",
      "[('subjects', '116326')]\n"
     ]
    },
    {
     "data": {
      "text/plain": [
       "1"
      ]
     },
     "execution_count": 27,
     "metadata": {},
     "output_type": "execute_result"
    }
   ],
   "source": [
    "queryString = \"\"\"\n",
    "SELECT COUNT(DISTINCT ?s) AS ?subjects \n",
    "WHERE {\n",
    "    \n",
    "    ?s ?p ?w.\n",
    "    \n",
    "{ \n",
    "    SELECT ?w\n",
    "    WHERE { \n",
    "    {\n",
    "        ?w wdt:P106 wd:Q36180;\n",
    "            wdt:P27 wd:Q142.\n",
    "    }\n",
    "    UNION\n",
    "    {\n",
    "        ?w wdt:P106 wd:Q36180;\n",
    "            wdt:P27 wd:Q38.\n",
    "    }\n",
    "    UNION\n",
    "    {\n",
    "        ?w wdt:P106 wd:Q36180;\n",
    "            wdt:P27 wd:Q172579.\n",
    "    }\n",
    "    }\n",
    "}\n",
    "}\n",
    "\"\"\"\n",
    "\n",
    "print(\"Results\")\n",
    "run_query(queryString)"
   ]
  },
  {
   "cell_type": "markdown",
   "id": "636dafe3-6809-4451-ad1e-2cdfb2aa257f",
   "metadata": {},
   "source": [
    "Since the subjects are a lot I retrieve only the top 25 based on the number of writers linked to it."
   ]
  },
  {
   "cell_type": "code",
   "execution_count": 28,
   "id": "f8aa9baa-3ab6-4485-b45a-be9a422a80d1",
   "metadata": {},
   "outputs": [
    {
     "name": "stdout",
     "output_type": "stream",
     "text": [
      "Results\n",
      "[('b', 'http://www.wikidata.org/entity/Q11424'), ('bname', 'film'), ('writers', '27960')]\n",
      "[('b', 'http://www.wikidata.org/entity/Q3331189'), ('bname', 'version, edition, or translation'), ('writers', '16375')]\n",
      "[('b', 'http://www.wikidata.org/entity/Q5'), ('bname', 'human'), ('writers', '12175')]\n",
      "[('b', 'http://www.wikidata.org/entity/Q7725634'), ('bname', 'literary work'), ('writers', '8244')]\n",
      "[('b', 'http://www.wikidata.org/entity/Q191067'), ('bname', 'article'), ('writers', '6892')]\n",
      "[('b', 'http://www.wikidata.org/entity/Q47461344'), ('bname', 'written work'), ('writers', '6267')]\n",
      "[('b', 'http://www.wikidata.org/entity/Q3305213'), ('bname', 'painting'), ('writers', '3674')]\n",
      "[('b', 'http://www.wikidata.org/entity/Q13433827'), ('bname', 'encyclopedia article'), ('writers', '2290')]\n",
      "[('b', 'http://www.wikidata.org/entity/Q5185279'), ('bname', 'poem'), ('writers', '2089')]\n",
      "[('b', 'http://www.wikidata.org/entity/Q2831984'), ('bname', 'comic book album'), ('writers', '1921')]\n",
      "[('b', 'http://www.wikidata.org/entity/Q4167836'), ('bname', 'Wikimedia category'), ('writers', '1632')]\n",
      "[('b', 'http://www.wikidata.org/entity/Q105543609'), ('bname', 'musical work/composition'), ('writers', '1473')]\n",
      "[('b', 'http://www.wikidata.org/entity/Q79007'), ('bname', 'street'), ('writers', '1433')]\n",
      "[('b', 'http://www.wikidata.org/entity/Q482994'), ('bname', 'album'), ('writers', '1194')]\n",
      "[('b', 'http://www.wikidata.org/entity/Q571'), ('bname', 'book'), ('writers', '1188')]\n",
      "[('b', 'http://www.wikidata.org/entity/Q25379'), ('bname', 'play'), ('writers', '1174')]\n",
      "[('b', 'http://www.wikidata.org/entity/Q482'), ('bname', 'poetry'), ('writers', '1070')]\n",
      "[('b', 'http://www.wikidata.org/entity/Q13442814'), ('bname', 'scholarly article'), ('writers', '934')]\n",
      "[('b', 'http://www.wikidata.org/entity/Q9842'), ('bname', 'primary school'), ('writers', '876')]\n",
      "[('b', 'http://www.wikidata.org/entity/Q58483083'), ('bname', 'dramatico-musical work'), ('writers', '859')]\n",
      "[('b', 'http://www.wikidata.org/entity/Q15632617'), ('bname', 'fictional human'), ('writers', '763')]\n",
      "[('b', 'http://www.wikidata.org/entity/Q53731850'), ('bname', 'individual copy of a book'), ('writers', '715')]\n",
      "[('b', 'http://www.wikidata.org/entity/Q506240'), ('bname', 'television film'), ('writers', '710')]\n",
      "[('b', 'http://www.wikidata.org/entity/Q1279564'), ('bname', 'short story collection'), ('writers', '695')]\n",
      "[('b', 'http://www.wikidata.org/entity/Q134556'), ('bname', 'single'), ('writers', '614')]\n"
     ]
    },
    {
     "data": {
      "text/plain": [
       "25"
      ]
     },
     "execution_count": 28,
     "metadata": {},
     "output_type": "execute_result"
    }
   ],
   "source": [
    "queryString = \"\"\"\n",
    "SELECT ?b ?bname COUNT(?w) AS ?writers \n",
    "WHERE {\n",
    "    \n",
    "    ?s ?p ?w.\n",
    "    ?s wdt:P31 ?b.\n",
    "    ?b <http://schema.org/name> ?bname.\n",
    "    \n",
    "{ \n",
    "    SELECT ?w\n",
    "    WHERE { \n",
    "    {\n",
    "        ?w wdt:P106 wd:Q36180;\n",
    "            wdt:P27 wd:Q142.\n",
    "    }\n",
    "    UNION\n",
    "    {\n",
    "        ?w wdt:P106 wd:Q36180;\n",
    "            wdt:P27 wd:Q38.\n",
    "    }\n",
    "    UNION\n",
    "    {\n",
    "        ?w wdt:P106 wd:Q36180;\n",
    "            wdt:P27 wd:Q172579.\n",
    "    }\n",
    "    }\n",
    "}\n",
    "}\n",
    "GROUP BY ?b ?bname\n",
    "ORDER BY DESC(COUNT(?w))\n",
    "LIMIT 25\n",
    "\"\"\"\n",
    "\n",
    "print(\"Results\")\n",
    "run_query(queryString)"
   ]
  },
  {
   "cell_type": "markdown",
   "id": "a17bedfe-0ee0-4d11-8def-da0b1842eea3",
   "metadata": {},
   "source": [
    "In order to retrieve the italian and french writers who published at least a book I could select the writers where there exists a triple \"?s wdt:P50 ?writer\" where ?s is instance of \"literary work\" (wd:Q7725634), \"written work\" (wd:Q47461344) or \"book\" (wd:Q571). Before that, I want to investigate further the instances of literary work in order to see if they are actually books or it is wrongful to consider them in the above-mentioned query."
   ]
  },
  {
   "cell_type": "markdown",
   "id": "e1179229-589b-4114-859b-d49b20373ef9",
   "metadata": {},
   "source": [
    "I retrieve some triples using only italian writers in order to see if such instances are books."
   ]
  },
  {
   "cell_type": "code",
   "execution_count": 29,
   "id": "bb68b9ba-2562-4b7d-b232-642695e58514",
   "metadata": {},
   "outputs": [
    {
     "name": "stdout",
     "output_type": "stream",
     "text": [
      "Results\n",
      "[('sname', 'The Story of a New Name'), ('pname', 'author'), ('wname', 'Elena Ferrante')]\n",
      "[('sname', 'Bononiensis de architectura libri quinque quibus cuncta fere architectonicae facultatis mysteria docte, perspicue . . .'), ('pname', 'author'), ('wname', 'Sebastiano Serlio')]\n",
      "[('sname', 'Smog'), ('pname', 'author'), ('wname', 'Italo Calvino')]\n",
      "[('sname', 'Il Ghebo'), ('pname', 'author'), ('wname', 'Elio Bartolini')]\n",
      "[('sname', 'Il signor Diavolo'), ('pname', 'author'), ('wname', 'Pupi Avati')]\n",
      "[('sname', 'Sotto il sole giaguaro'), ('pname', 'author'), ('wname', 'Italo Calvino')]\n",
      "[('sname', 'Five Stories of Ferrara'), ('pname', 'author'), ('wname', 'Giorgio Bassani')]\n",
      "[('sname', 'The Story of the Lost Child'), ('pname', 'author'), ('wname', 'Elena Ferrante')]\n",
      "[('sname', \"La bellezza d'Ippolita\"), ('pname', 'author'), ('wname', 'Elio Bartolini')]\n",
      "[('sname', \"L'attore\"), ('pname', 'author'), ('wname', 'Mario Soldati')]\n",
      "[('sname', 'The eye of the cat'), ('pname', 'author'), ('wname', 'Alberto Bevilacqua')]\n",
      "[('sname', 'Becalmed in the Antilles'), ('pname', 'author'), ('wname', 'Italo Calvino')]\n",
      "[('sname', 'The Days of Abandonment'), ('pname', 'author'), ('wname', 'Elena Ferrante')]\n",
      "[('sname', 'Gomorrah'), ('pname', 'author'), ('wname', 'Roberto Saviano')]\n",
      "[('sname', \"L'amore molesto\"), ('pname', 'author'), ('wname', 'Elena Ferrante')]\n",
      "[('sname', 'I racconti'), ('pname', 'author'), ('wname', 'Italo Calvino')]\n",
      "[('sname', 'The Crow Comes Last'), ('pname', 'author'), ('wname', 'Italo Calvino')]\n",
      "[('sname', 'The American bride'), ('pname', 'author'), ('wname', 'Mario Soldati')]\n",
      "[('sname', 'Those Who Leave and Those Who Stay'), ('pname', 'author'), ('wname', 'Elena Ferrante')]\n",
      "[('sname', 'My Brilliant Friend'), ('pname', 'author'), ('wname', 'Elena Ferrante')]\n",
      "[('sname', 'The Lying Life of Adults'), ('pname', 'author'), ('wname', 'Elena Ferrante')]\n",
      "[('sname', 'Two Brothers'), ('pname', 'author'), ('wname', 'Vasco Pratolini')]\n",
      "[('sname', 'The Argentine Ant'), ('pname', 'author'), ('wname', 'Italo Calvino')]\n",
      "[('sname', 'Stalin and the Macedonian Question'), ('pname', 'author'), ('wname', 'Ivan Mihailov')]\n",
      "[('sname', 'Letters from Capri'), ('pname', 'author'), ('wname', 'Mario Soldati')]\n",
      "[('sname', 'Zero Zero Zero'), ('pname', 'author'), ('wname', 'Roberto Saviano')]\n",
      "[('sname', 'Se non ora, quando?'), ('pname', 'author'), ('wname', 'Primo Levi')]\n",
      "[('sname', 'Approdo'), ('pname', 'author'), ('wname', 'Primo Levi')]\n",
      "[('sname', 'Animation: A World History'), ('pname', 'author'), ('wname', 'Giannalberto Bendazzi')]\n",
      "[('sname', \"Books in my house: Federico Fellini's library\"), ('pname', 'author'), ('wname', 'Tullio Kezich')]\n",
      "[('sname', 'Ad ora incerta'), ('pname', 'author'), ('wname', 'Primo Levi')]\n",
      "[('sname', 'House of Liars'), ('pname', 'author'), ('wname', 'Elsa Morante')]\n",
      "[('sname', 'Il fabbricante di specchi'), ('pname', 'author'), ('wname', 'Primo Levi')]\n",
      "[('sname', \"L'ultimo Natale di guerra\"), ('pname', 'author'), ('wname', 'Primo Levi')]\n",
      "[('sname', \"Other People's Trades\"), ('pname', 'author'), ('wname', 'Primo Levi')]\n",
      "[('sname', 'I sommersi e i salvati'), ('pname', 'author'), ('wname', 'Primo Levi')]\n",
      "[('sname', 'Wounded to Death'), ('pname', 'author'), ('wname', 'Raffaele La Capria')]\n",
      "[('sname', 'La vacanza'), ('pname', 'author'), ('wname', 'Dacia Maraini')]\n",
      "[('sname', 'Passovers of Blood'), ('pname', 'author'), ('wname', 'Ariel Toaff')]\n",
      "[('sname', 'The Alphonse Courrier Affair'), ('pname', 'author'), ('wname', 'Marta Morazzoni')]\n",
      "[('sname', 'Industrias y andanzas de Alfanhuí'), ('pname', 'author'), ('wname', 'Rafael Sánchez Ferlosio')]\n",
      "[('sname', 'If This Is a Man'), ('pname', 'author'), ('wname', 'Primo Levi')]\n",
      "[('sname', 'Lilit e altri racconti'), ('pname', 'author'), ('wname', 'Primo Levi')]\n",
      "[('sname', 'The Periodic Table'), ('pname', 'author'), ('wname', 'Primo Levi')]\n",
      "[('sname', 'El Jarama'), ('pname', 'author'), ('wname', 'Rafael Sánchez Ferlosio')]\n",
      "[('sname', 'The Art of Joy'), ('pname', 'author'), ('wname', 'Goliarda Sapienza')]\n",
      "[('sname', \"I'm a Born Liar\"), ('pname', 'author'), ('wname', 'Tullio Kezich')]\n",
      "[('sname', 'The Wrench'), ('pname', 'author'), ('wname', 'Primo Levi')]\n",
      "[('sname', 'La ricerca delle radici'), ('pname', 'author'), ('wname', 'Primo Levi')]\n",
      "[('sname', 'Dialogo'), ('pname', 'author'), ('wname', 'Primo Levi')]\n"
     ]
    },
    {
     "data": {
      "text/plain": [
       "50"
      ]
     },
     "execution_count": 29,
     "metadata": {},
     "output_type": "execute_result"
    }
   ],
   "source": [
    "queryString = \"\"\"\n",
    "SELECT ?sname ?pname ?wname\n",
    "WHERE {\n",
    "    \n",
    "    ?s ?p ?w.\n",
    "    ?s wdt:P31 wd:Q7725634.\n",
    "    ?w <http://schema.org/name> ?wname.\n",
    "    ?p <http://schema.org/name> ?pname.\n",
    "    ?s <http://schema.org/name> ?sname.\n",
    "    \n",
    "{ \n",
    "    SELECT ?w\n",
    "    WHERE { \n",
    "    {\n",
    "        ?w wdt:P106 wd:Q36180;\n",
    "            wdt:P27 wd:Q38.\n",
    "    }\n",
    "    UNION\n",
    "    {\n",
    "        ?w wdt:P106 wd:Q36180;\n",
    "            wdt:P27 wd:Q172579.\n",
    "    }\n",
    "    }\n",
    "}\n",
    "}\n",
    "LIMIT 50\n",
    "\"\"\"\n",
    "\n",
    "print(\"Results\")\n",
    "run_query(queryString)"
   ]
  },
  {
   "cell_type": "markdown",
   "id": "bcd74f65-d70c-49e1-8e0c-281ba7ac0b0e",
   "metadata": {},
   "source": [
    "We can clearly see some known books therefore I will consider instances of literary work as well. I also check the objects that are instances of \"written work\" (wd:Q47461344)."
   ]
  },
  {
   "cell_type": "code",
   "execution_count": 30,
   "id": "f2409e9d-7e00-4583-868d-71f045f55340",
   "metadata": {},
   "outputs": [
    {
     "name": "stdout",
     "output_type": "stream",
     "text": [
      "Results\n",
      "[('sname', 'La carne, la morte e il diavolo nella letteratura romantica'), ('pname', 'author'), ('wname', 'Mario Praz')]\n",
      "[('sname', 'Invisible Cities'), ('pname', 'author'), ('wname', 'Italo Calvino')]\n",
      "[('sname', 'Veritas'), ('pname', 'author'), ('wname', 'Francesco Sorti')]\n",
      "[('sname', 'Conversations in Sicily'), ('pname', 'author'), ('wname', 'Elio Vittorini')]\n",
      "[('sname', 'Imprimatur'), ('pname', 'author'), ('wname', 'Rita Monaldi')]\n",
      "[('sname', 'The Cloven Viscount'), ('pname', 'author'), ('wname', 'Italo Calvino')]\n",
      "[('sname', 'Bisexuality in the ancient Word'), ('pname', 'author'), ('wname', 'Eva Cantarella')]\n",
      "[('sname', 'Men and Not Men'), ('pname', 'author'), ('wname', 'Elio Vittorini')]\n",
      "[('sname', 'The Watcher'), ('pname', 'author'), ('wname', 'Italo Calvino')]\n",
      "[('sname', 'Our Ancestors'), ('pname', 'author'), ('wname', 'Italo Calvino')]\n",
      "[('sname', 'The Lost Daughter'), ('pname', 'author'), ('wname', 'Elena Ferrante')]\n",
      "[('sname', 'The Baron in the Trees'), ('pname', 'author'), ('wname', 'Italo Calvino')]\n",
      "[('sname', 'Six Memos for the Next Millennium'), ('pname', 'author'), ('wname', 'Italo Calvino')]\n",
      "[('sname', \"L'amore è un dio\"), ('pname', 'author'), ('wname', 'Eva Cantarella')]\n",
      "[('sname', 'The Nonexistent Knight'), ('pname', 'author'), ('wname', 'Italo Calvino')]\n",
      "[('sname', 'Imprimatur'), ('pname', 'author'), ('wname', 'Francesco Sorti')]\n",
      "[('sname', 'The Garden of the Finzi-Continis'), ('pname', 'author'), ('wname', 'Giorgio Bassani')]\n",
      "[('sname', 'Family sayings'), ('pname', 'author'), ('wname', 'Natalia Ginzburg')]\n",
      "[('sname', 'The Path to the Nest of Spiders'), ('pname', 'author'), ('wname', 'Italo Calvino')]\n",
      "[('sname', 'Le ragazze di San Frediano'), ('pname', 'author'), ('wname', 'Vasco Pratolini')]\n",
      "[('sname', 'Veritas'), ('pname', 'author'), ('wname', 'Rita Monaldi')]\n",
      "[('sname', \"I Sette libri dell'architettura\"), ('pname', 'author'), ('wname', 'Sebastiano Serlio')]\n",
      "[('sname', \"If on a winter's night a traveler\"), ('pname', 'author'), ('wname', 'Italo Calvino')]\n",
      "[('sname', 'The Castle of Crossed Destinies'), ('pname', 'author'), ('wname', 'Italo Calvino')]\n",
      "[('sname', 'Mr. Palomar'), ('pname', 'author'), ('wname', 'Italo Calvino')]\n"
     ]
    },
    {
     "data": {
      "text/plain": [
       "25"
      ]
     },
     "execution_count": 30,
     "metadata": {},
     "output_type": "execute_result"
    }
   ],
   "source": [
    "queryString = \"\"\"\n",
    "SELECT ?sname ?pname ?wname\n",
    "WHERE {\n",
    "    \n",
    "    ?s ?p ?w.\n",
    "    ?s wdt:P31 wd:Q47461344.\n",
    "    ?w <http://schema.org/name> ?wname.\n",
    "    ?p <http://schema.org/name> ?pname.\n",
    "    ?s <http://schema.org/name> ?sname.\n",
    "    \n",
    "{ \n",
    "    SELECT ?w\n",
    "    WHERE { \n",
    "    {\n",
    "        ?w wdt:P106 wd:Q36180;\n",
    "            wdt:P27 wd:Q38.\n",
    "    }\n",
    "    UNION\n",
    "    {\n",
    "        ?w wdt:P106 wd:Q36180;\n",
    "            wdt:P27 wd:Q172579.\n",
    "    }\n",
    "    }\n",
    "}\n",
    "}\n",
    "LIMIT 25\n",
    "\"\"\"\n",
    "\n",
    "print(\"Results\")\n",
    "run_query(queryString)"
   ]
  },
  {
   "cell_type": "markdown",
   "id": "c0ca238d-5864-4816-9cae-4ac90791119c",
   "metadata": {
    "tags": []
   },
   "source": [
    "#### BGP for all italian and french writers that have published at least a book\n",
    "From the previous queries I discovered that in order to retrieve all italian and french writers that have published at least a book I need to look for writers where there exists a triple \"?w wdtt:P50 ?obejct\" where object is an instance of one of these three entities: book (wd:Q571), literarty work (wd:Q77256354) and  written work (wd:Q47461344)."
   ]
  },
  {
   "cell_type": "code",
   "execution_count": 32,
   "id": "282fec0f-94ec-4341-a3c7-c134be701c1a",
   "metadata": {},
   "outputs": [
    {
     "name": "stdout",
     "output_type": "stream",
     "text": [
      "Results\n",
      "[('writers', '3478')]\n"
     ]
    },
    {
     "data": {
      "text/plain": [
       "1"
      ]
     },
     "execution_count": 32,
     "metadata": {},
     "output_type": "execute_result"
    }
   ],
   "source": [
    "queryString = \"\"\"\n",
    "SELECT COUNT(DISTINCT ?w) AS ?writers\n",
    "WHERE {\n",
    "    \n",
    "    FILTER EXISTS{\n",
    "        ?s wdt:P50 ?w;\n",
    "           wdt:P31 ?books.\n",
    "        FILTER(?books = wd:Q571 || ?books = wd:Q7725634 || ?books = wd:Q47461344).\n",
    "    }\n",
    "    \n",
    "{ \n",
    "    SELECT ?w\n",
    "    WHERE { \n",
    "    {\n",
    "        ?w wdt:P106 wd:Q36180;\n",
    "            wdt:P27 wd:Q142.\n",
    "    }\n",
    "    UNION\n",
    "    {\n",
    "        ?w wdt:P106 wd:Q36180;\n",
    "            wdt:P27 wd:Q38.\n",
    "    }\n",
    "    UNION\n",
    "    {\n",
    "        ?w wdt:P106 wd:Q36180;\n",
    "            wdt:P27 wd:Q172579.\n",
    "    }\n",
    "    }\n",
    "}\n",
    "}\n",
    "\"\"\"\n",
    "\n",
    "print(\"Results\")\n",
    "run_query(queryString)"
   ]
  },
  {
   "cell_type": "markdown",
   "id": "18d77f51-0661-46dd-acf4-e253626afc1e",
   "metadata": {},
   "source": [
    "I count the writers based on their country. I use the equivalent formulation for retrieving italian and french authors. _All details about the two equivalent queries in the previous section_"
   ]
  },
  {
   "cell_type": "code",
   "execution_count": 34,
   "id": "e1012622-2415-45c8-b73c-4cba728cf0ed",
   "metadata": {},
   "outputs": [
    {
     "name": "stdout",
     "output_type": "stream",
     "text": [
      "Results\n",
      "[('country', 'France'), ('writers', '2539')]\n",
      "[('country', 'Italy'), ('writers', '847')]\n",
      "[('country', 'Kingdom of Italy'), ('writers', '411')]\n"
     ]
    },
    {
     "data": {
      "text/plain": [
       "3"
      ]
     },
     "execution_count": 34,
     "metadata": {},
     "output_type": "execute_result"
    }
   ],
   "source": [
    "queryString = \"\"\"\n",
    "SELECT ?country COUNT(DISTINCT ?w) AS ?writers\n",
    "WHERE {\n",
    "\n",
    "    ?c <http://schema.org/name> ?country.\n",
    "    \n",
    "    FILTER EXISTS{\n",
    "        ?s wdt:P50 ?w;\n",
    "           wdt:P31 ?books.\n",
    "        FILTER(?books = wd:Q571 || ?books = wd:Q7725634 || ?books = wd:Q47461344).\n",
    "    }\n",
    "    \n",
    "{ \n",
    "    SELECT ?c ?w\n",
    "    WHERE { \n",
    "    \n",
    "        ?w wdt:P106 wd:Q36180;\n",
    "            wdt:P27 ?c.\n",
    "        FILTER(?c = wd:Q142 || ?c = wd:Q38 || ?c = wd:Q172579).\n",
    "    }\n",
    "}\n",
    "}\n",
    "GROUP BY ?country\n",
    "ORDER BY DESC(?writers)\n",
    "\"\"\"\n",
    "\n",
    "print(\"Results\")\n",
    "run_query(queryString)"
   ]
  },
  {
   "cell_type": "markdown",
   "id": "8fffab88-f92d-4d0e-bc32-72f9fc0a4e32",
   "metadata": {
    "tags": []
   },
   "source": [
    "#### Information about books' publishing date\n",
    "Finally, I need to filter books that were written in the last 50 years therefore I need to find how such information is stored. First of all I count how many properties these books have."
   ]
  },
  {
   "cell_type": "code",
   "execution_count": 36,
   "id": "67b8bf19-a80b-44da-b40b-3c7708e3b8e6",
   "metadata": {},
   "outputs": [
    {
     "name": "stdout",
     "output_type": "stream",
     "text": [
      "Results\n",
      "[('bookProps', '382')]\n"
     ]
    },
    {
     "data": {
      "text/plain": [
       "1"
      ]
     },
     "execution_count": 36,
     "metadata": {},
     "output_type": "execute_result"
    }
   ],
   "source": [
    "queryString = \"\"\"\n",
    "SELECT COUNT(DISTINCT ?p) AS ?bookProps\n",
    "WHERE {\n",
    "    \n",
    "    ?s wdt:P50 ?w;\n",
    "       wdt:P31 ?books;\n",
    "       ?p ?o.\n",
    "    FILTER(?books = wd:Q571 || ?books = wd:Q7725634 || ?books = wd:Q47461344).\n",
    "    \n",
    "{ \n",
    "    SELECT ?w\n",
    "    WHERE { \n",
    "    \n",
    "        ?w wdt:P106 wd:Q36180;\n",
    "            wdt:P27 ?c.\n",
    "        FILTER(?c = wd:Q142 || ?c = wd:Q38 || ?c = wd:Q172579).\n",
    "    }\n",
    "}\n",
    "}\n",
    "\"\"\"\n",
    "\n",
    "print(\"Results\")\n",
    "run_query(queryString)"
   ]
  },
  {
   "cell_type": "markdown",
   "id": "46d18a07-d089-48f7-967a-0c6e81b9069c",
   "metadata": {},
   "source": [
    "Since they are a lot I retrieve the top 25."
   ]
  },
  {
   "cell_type": "code",
   "execution_count": 37,
   "id": "7952148b-dd22-4b98-bf44-ec06401a4170",
   "metadata": {},
   "outputs": [
    {
     "name": "stdout",
     "output_type": "stream",
     "text": [
      "Results\n",
      "[('p', 'http://www.wikidata.org/prop/direct/P50'), ('pname', 'author'), ('subjects', '13606')]\n",
      "[('p', 'http://www.wikidata.org/prop/direct/P31'), ('pname', 'instance of'), ('subjects', '13606')]\n",
      "[('p', 'http://www.wikidata.org/prop/direct/P407'), ('pname', 'language of work or name'), ('subjects', '10688')]\n",
      "[('p', 'http://www.wikidata.org/prop/direct/P136'), ('pname', 'genre'), ('subjects', '10485')]\n",
      "[('p', 'http://www.wikidata.org/prop/direct/P577'), ('pname', 'publication date'), ('subjects', '10215')]\n",
      "[('p', 'http://www.wikidata.org/prop/direct/P2671'), ('pname', 'Google Knowledge Graph ID'), ('subjects', '6792')]\n",
      "[('p', 'http://www.wikidata.org/prop/direct/P495'), ('pname', 'country of origin'), ('subjects', '6272')]\n",
      "[('p', 'http://www.wikidata.org/prop/direct/P6216'), ('pname', 'copyright status'), ('subjects', '2611')]\n",
      "[('p', 'http://www.wikidata.org/prop/direct/P747'), ('pname', 'has edition or translation'), ('subjects', '2375')]\n",
      "[('p', 'http://www.wikidata.org/prop/direct/P123'), ('pname', 'publisher'), ('subjects', '2332')]\n",
      "[('p', 'http://www.wikidata.org/prop/direct/P646'), ('pname', 'Freebase ID'), ('subjects', '2062')]\n",
      "[('p', 'http://www.wikidata.org/prop/direct/P18'), ('pname', 'image'), ('subjects', '1445')]\n",
      "[('p', 'http://www.wikidata.org/prop/direct/P921'), ('pname', 'main subject'), ('subjects', '1332')]\n",
      "[('p', 'http://www.wikidata.org/prop/direct/P212'), ('pname', 'ISBN-13'), ('subjects', '1273')]\n",
      "[('p', 'http://www.wikidata.org/prop/direct/P840'), ('pname', 'narrative location'), ('subjects', '1149')]\n",
      "[('p', 'http://www.wikidata.org/prop/direct/P268'), ('pname', 'Bibliothèque nationale de France ID'), ('subjects', '1131')]\n",
      "[('p', 'http://www.wikidata.org/prop/direct/P5331'), ('pname', 'OCLC work ID'), ('subjects', '1128')]\n",
      "[('p', 'http://www.wikidata.org/prop/direct/P8383'), ('pname', 'Goodreads work ID'), ('subjects', '1111')]\n",
      "[('p', 'http://www.wikidata.org/prop/direct/P243'), ('pname', 'OCLC control number'), ('subjects', '1102')]\n",
      "[('p', 'http://www.wikidata.org/prop/direct/P571'), ('pname', 'inception'), ('subjects', '1046')]\n",
      "[('p', 'http://www.wikidata.org/prop/direct/P2969'), ('pname', 'Goodreads version/edition ID'), ('subjects', '1037')]\n",
      "[('p', 'http://www.wikidata.org/prop/direct/P291'), ('pname', 'place of publication'), ('subjects', '987')]\n",
      "[('p', 'http://www.wikidata.org/prop/direct/P957'), ('pname', 'ISBN-10'), ('subjects', '950')]\n",
      "[('p', 'http://www.wikidata.org/prop/direct/P361'), ('pname', 'part of'), ('subjects', '920')]\n",
      "[('p', 'http://www.wikidata.org/prop/direct/P179'), ('pname', 'part of the series'), ('subjects', '887')]\n"
     ]
    },
    {
     "data": {
      "text/plain": [
       "25"
      ]
     },
     "execution_count": 37,
     "metadata": {},
     "output_type": "execute_result"
    }
   ],
   "source": [
    "queryString = \"\"\"\n",
    "SELECT ?p ?pname COUNT(DISTINCT ?s) AS ?subjects\n",
    "WHERE {\n",
    "    \n",
    "    ?s wdt:P50 ?w;\n",
    "       wdt:P31 ?books;\n",
    "       ?p ?o.\n",
    "    ?p <http://schema.org/name> ?pname.\n",
    "    FILTER(?books = wd:Q571 || ?books = wd:Q7725634 || ?books = wd:Q47461344).\n",
    "    \n",
    "{ \n",
    "    SELECT ?w\n",
    "    WHERE { \n",
    "    \n",
    "        ?w wdt:P106 wd:Q36180;\n",
    "            wdt:P27 ?c.\n",
    "        FILTER(?c = wd:Q142 || ?c = wd:Q38 || ?c = wd:Q172579).\n",
    "    }\n",
    "}\n",
    "}\n",
    "GROUP BY ?p ?pname\n",
    "ORDER BY DESC(?subjects)\n",
    "LIMIT 25\n",
    "\"\"\"\n",
    "\n",
    "print(\"Results\")\n",
    "run_query(queryString)"
   ]
  },
  {
   "cell_type": "markdown",
   "id": "c25a323a-2fd1-4989-b296-0aac72613238",
   "metadata": {},
   "source": [
    "Before moving on with the proerty \"publication date\" (wdt:P577), the above query query retrieved some properties that will come in handy for solving the following question. Such properties are:\n",
    "\n",
    "| IRI           | Description   | Role      |\n",
    "| -----------   | -----------   |-----------|\n",
    "| `wdt:P6216`   | copyright status  | predicate |\n",
    "| `wdt:P747`   | has edition or translation  | predicate |\n",
    "| `wdt:P136` | genre | predicate |\n",
    "| `wdt:P361`   | part of | predicate |\n",
    "| `wdt:P179`   | part of the series | predicate |\n",
    "\n",
    "\n",
    "Most books have the property publication date (wdt:P577) therefore I will use it to retrieve such information. Before moving on I check some value of the publication date property in order to check if I will be able to retrieve useful information, i.e. the year of publication, with some SPARQL functions."
   ]
  },
  {
   "cell_type": "code",
   "execution_count": 38,
   "id": "3dbf4bc7-6093-4bcb-b5d0-47975276e3cb",
   "metadata": {},
   "outputs": [
    {
     "name": "stdout",
     "output_type": "stream",
     "text": [
      "Results\n",
      "[('b', 'http://www.wikidata.org/entity/Q3597882'), ('bname', '1934'), ('pubDate', '1982-01-01T00:00:00Z')]\n",
      "[('b', 'http://www.wikidata.org/entity/Q17629132'), ('bname', 'È Stato la mafia'), ('pubDate', '2014-01-01T00:00:00Z')]\n",
      "[('b', 'http://www.wikidata.org/entity/Q21015518'), ('bname', 'Jack'), ('pubDate', '1875-01-01T00:00:00Z')]\n",
      "[('b', 'http://www.wikidata.org/entity/Q2756710'), ('bname', 'Thaïs'), ('pubDate', '1890-01-01T00:00:00Z')]\n",
      "[('b', 'http://www.wikidata.org/entity/Q22084323'), ('bname', 'La Philosophie critique de Kant'), ('pubDate', '1963-01-01T00:00:00Z')]\n",
      "[('b', 'http://www.wikidata.org/entity/Q5332810'), ('bname', 'Echographies of Television'), ('pubDate', '1996-01-01T00:00:00Z')]\n",
      "[('b', 'http://www.wikidata.org/entity/Q1213210'), ('bname', 'The Countess of Charny'), ('pubDate', '1853-01-01T00:00:00Z')]\n",
      "[('b', 'http://www.wikidata.org/entity/Q17635217'), ('bname', \"L'amore è un dio\"), ('pubDate', '2007-01-01T00:00:00Z')]\n",
      "[('b', 'http://www.wikidata.org/entity/Q17652232'), ('bname', 'Bisexuality in the ancient Word'), ('pubDate', '1988-01-01T00:00:00Z')]\n",
      "[('b', 'http://www.wikidata.org/entity/Q2334970'), ('bname', 'Le Chevalier de Maison-Rouge'), ('pubDate', '1846-01-01T00:00:00Z')]\n",
      "[('b', 'http://www.wikidata.org/entity/Q451173'), ('bname', 'For Your Own Good'), ('pubDate', '1980-01-01T00:00:00Z')]\n",
      "[('b', 'http://www.wikidata.org/entity/Q530910'), ('bname', 'Ange Pitou'), ('pubDate', '1850-01-01T00:00:00Z')]\n",
      "[('b', 'http://www.wikidata.org/entity/Q616350'), ('bname', 'Joseph Balsamo'), ('pubDate', '1853-01-01T00:00:00Z')]\n",
      "[('b', 'http://www.wikidata.org/entity/Q2389317'), ('bname', 'Tanguy'), ('pubDate', '1957-01-01T00:00:00Z')]\n",
      "[('b', 'http://www.wikidata.org/entity/Q3539202'), ('bname', 'Grisbi trilogy'), ('pubDate', '1950-01-01T00:00:00Z')]\n",
      "[('b', 'http://www.wikidata.org/entity/Q533391'), ('bname', 'The Garden of the Finzi-Continis'), ('pubDate', '1962-01-01T00:00:00Z')]\n",
      "[('b', 'http://www.wikidata.org/entity/Q537246'), ('bname', 'Ports of Call'), ('pubDate', '1996-01-01T00:00:00Z')]\n",
      "[('b', 'http://www.wikidata.org/entity/Q584423'), ('bname', 'Conversations in Sicily'), ('pubDate', '1941-01-01T00:00:00Z')]\n",
      "[('b', 'http://www.wikidata.org/entity/Q611875'), ('bname', 'Rome and Jerusalem'), ('pubDate', '1862-01-01T00:00:00Z')]\n",
      "[('b', 'http://www.wikidata.org/entity/Q612882'), ('bname', 'The Castle of Crossed Destinies'), ('pubDate', '1969-01-01T00:00:00Z')]\n",
      "[('b', 'http://www.wikidata.org/entity/Q937861'), ('bname', 'Papillon'), ('pubDate', '1969-01-01T00:00:00Z')]\n",
      "[('b', 'http://www.wikidata.org/entity/Q656249'), ('bname', 'Je voudrais pas crever'), ('pubDate', '1962-01-01T00:00:00Z')]\n",
      "[('b', 'http://www.wikidata.org/entity/Q658288'), ('bname', 'Nausea'), ('pubDate', '1938-01-01T00:00:00Z')]\n",
      "[('b', 'http://www.wikidata.org/entity/Q3210327'), ('bname', 'The Firm of Nucingen'), ('pubDate', '1838-01-01T00:00:00Z')]\n",
      "[('b', 'http://www.wikidata.org/entity/Q17373459'), ('bname', 'Il miracolo. Spagna 1640: indagine sul prodigio mariano più sorprendente'), ('pubDate', '2000-01-01T00:00:00Z')]\n"
     ]
    },
    {
     "data": {
      "text/plain": [
       "25"
      ]
     },
     "execution_count": 38,
     "metadata": {},
     "output_type": "execute_result"
    }
   ],
   "source": [
    "queryString = \"\"\"\n",
    "SELECT DISTINCT ?b ?bname ?pubDate\n",
    "WHERE {\n",
    "    \n",
    "    ?b wdt:P50 ?w;\n",
    "       wdt:P31 ?books;\n",
    "       wdt:P577 ?pubDate.\n",
    "    ?b <http://schema.org/name> ?bname.\n",
    "    FILTER(?books = wd:Q571 || ?books = wd:Q7725634 || ?books = wd:Q47461344).\n",
    "    \n",
    "{ \n",
    "    SELECT ?w\n",
    "    WHERE { \n",
    "    \n",
    "        ?w wdt:P106 wd:Q36180;\n",
    "            wdt:P27 ?c.\n",
    "        FILTER(?c = wd:Q142 || ?c = wd:Q38 || ?c = wd:Q172579).\n",
    "    }\n",
    "}\n",
    "}\n",
    "LIMIT 25\n",
    "\"\"\"\n",
    "\n",
    "print(\"Results\")\n",
    "run_query(queryString)"
   ]
  },
  {
   "cell_type": "markdown",
   "id": "6c7cc1a8-2ab1-4ec7-b0b7-bcce1fbe3d53",
   "metadata": {},
   "source": [
    "The date is in the datetime format therefore I try to retrieve only the year of publication by using. some SPARQL functions."
   ]
  },
  {
   "cell_type": "code",
   "execution_count": 39,
   "id": "cfa2e133-b71b-4885-89d9-106b4421ed19",
   "metadata": {},
   "outputs": [
    {
     "name": "stdout",
     "output_type": "stream",
     "text": [
      "Results\n",
      "[('b', 'http://www.wikidata.org/entity/Q3210864'), ('bname', 'Death and the Lumberjack'), ('yearPub', '1668')]\n",
      "[('b', 'http://www.wikidata.org/entity/Q3597882'), ('bname', '1934'), ('yearPub', '1982')]\n",
      "[('b', 'http://www.wikidata.org/entity/Q17629132'), ('bname', 'È Stato la mafia'), ('yearPub', '2014')]\n",
      "[('b', 'http://www.wikidata.org/entity/Q20991677'), ('bname', 'The Twelve Abbots of Challant'), ('yearPub', '1981')]\n",
      "[('b', 'http://www.wikidata.org/entity/Q21009532'), ('bname', 'Vernon Subutex 1'), ('yearPub', '2015')]\n",
      "[('b', 'http://www.wikidata.org/entity/Q21015157'), ('bname', 'En Chine'), ('yearPub', '1924')]\n",
      "[('b', 'http://www.wikidata.org/entity/Q21015288'), ('bname', 'Les Royautés'), ('yearPub', '1908')]\n",
      "[('b', 'http://www.wikidata.org/entity/Q21015518'), ('bname', 'Jack'), ('yearPub', '1875')]\n",
      "[('b', 'http://www.wikidata.org/entity/Q25338045'), ('bname', 'The Kid and Carlsson. The Little Prince'), ('yearPub', '1988')]\n",
      "[('b', 'http://www.wikidata.org/entity/Q2756710'), ('bname', 'Thaïs'), ('yearPub', '1890')]\n",
      "[('b', 'http://www.wikidata.org/entity/Q22084323'), ('bname', 'La Philosophie critique de Kant'), ('yearPub', '1963')]\n",
      "[('b', 'http://www.wikidata.org/entity/Q5332810'), ('bname', 'Echographies of Television'), ('yearPub', '1996')]\n",
      "[('b', 'http://www.wikidata.org/entity/Q16632043'), ('bname', 'The End of Eddy'), ('yearPub', '2014')]\n",
      "[('b', 'http://www.wikidata.org/entity/Q22248559'), ('bname', 'History of violence'), ('yearPub', '2016')]\n",
      "[('b', 'http://www.wikidata.org/entity/Q52479908'), ('bname', 'Who Killed My Father'), ('yearPub', '2018')]\n",
      "[('b', 'http://www.wikidata.org/entity/Q22910945'), ('bname', 'La cigarette'), ('yearPub', '1890')]\n",
      "[('b', 'http://www.wikidata.org/entity/Q27044697'), ('bname', 'Le Secret du Masque de fer'), ('yearPub', '1973')]\n",
      "[('b', 'http://www.wikidata.org/entity/Q1213210'), ('bname', 'The Countess of Charny'), ('yearPub', '1853')]\n",
      "[('b', 'http://www.wikidata.org/entity/Q17635217'), ('bname', \"L'amore è un dio\"), ('yearPub', '2007')]\n",
      "[('b', 'http://www.wikidata.org/entity/Q17652232'), ('bname', 'Bisexuality in the ancient Word'), ('yearPub', '1988')]\n",
      "[('b', 'http://www.wikidata.org/entity/Q2334970'), ('bname', 'Le Chevalier de Maison-Rouge'), ('yearPub', '1846')]\n",
      "[('b', 'http://www.wikidata.org/entity/Q451173'), ('bname', 'For Your Own Good'), ('yearPub', '1980')]\n",
      "[('b', 'http://www.wikidata.org/entity/Q530910'), ('bname', 'Ange Pitou'), ('yearPub', '1850')]\n",
      "[('b', 'http://www.wikidata.org/entity/Q616350'), ('bname', 'Joseph Balsamo'), ('yearPub', '1853')]\n",
      "[('b', 'http://www.wikidata.org/entity/Q2389317'), ('bname', 'Tanguy'), ('yearPub', '1957')]\n"
     ]
    },
    {
     "data": {
      "text/plain": [
       "25"
      ]
     },
     "execution_count": 39,
     "metadata": {},
     "output_type": "execute_result"
    }
   ],
   "source": [
    "queryString = \"\"\"\n",
    "SELECT DISTINCT ?b ?bname ?yearPub\n",
    "WHERE {\n",
    "    \n",
    "    ?b wdt:P50 ?w;\n",
    "       wdt:P31 ?books;\n",
    "       wdt:P577 ?pubDate.\n",
    "    BIND(year(?pubDate) AS ?yearPub).\n",
    "    ?b <http://schema.org/name> ?bname.\n",
    "    FILTER(?books = wd:Q571 || ?books = wd:Q7725634 || ?books = wd:Q47461344).\n",
    "    \n",
    "{ \n",
    "    SELECT ?w\n",
    "    WHERE { \n",
    "    \n",
    "        ?w wdt:P106 wd:Q36180;\n",
    "            wdt:P27 ?c.\n",
    "        FILTER(?c = wd:Q142 || ?c = wd:Q38 || ?c = wd:Q172579).\n",
    "    }\n",
    "}\n",
    "}\n",
    "LIMIT 25\n",
    "\"\"\"\n",
    "\n",
    "print(\"Results\")\n",
    "run_query(queryString)"
   ]
  },
  {
   "cell_type": "markdown",
   "id": "9d878244-6e79-46d2-96e1-787346eacd78",
   "metadata": {
    "tags": []
   },
   "source": [
    "### BGP for obtaining italian and french writers who published a book in the last 50 years.\n",
    "Since I assume there are a lot of writers I provide as output the total number of them."
   ]
  },
  {
   "cell_type": "code",
   "execution_count": 40,
   "id": "d913d7e7-0529-4c43-b1d4-6cd47b4dd8aa",
   "metadata": {},
   "outputs": [
    {
     "name": "stdout",
     "output_type": "stream",
     "text": [
      "Results\n",
      "[('writers', '1956')]\n"
     ]
    },
    {
     "data": {
      "text/plain": [
       "1"
      ]
     },
     "execution_count": 40,
     "metadata": {},
     "output_type": "execute_result"
    }
   ],
   "source": [
    "queryString = \"\"\"\n",
    "SELECT COUNT(DISTINCT ?w) AS ?writers\n",
    "WHERE {\n",
    "    \n",
    "    ?b wdt:P50 ?w;\n",
    "        wdt:P31 ?books;\n",
    "        wdt:P577 ?pubDate.\n",
    "        \n",
    "    FILTER(datatype(?pubDate) = xsd:dateTime).\n",
    "    FILTER(?books = wd:Q571 || ?books = wd:Q7725634 || ?books = wd:Q47461344).\n",
    "    BIND(year(xsd:datetime(?pubDate)) AS ?yearPub).\n",
    "    FILTER(?yearPub >= 1970).\n",
    "    \n",
    "{ \n",
    "    SELECT ?w\n",
    "    WHERE { \n",
    "    {\n",
    "        ?w wdt:P106 wd:Q36180;\n",
    "            wdt:P27 wd:Q142.\n",
    "    }\n",
    "    UNION\n",
    "    {\n",
    "        ?w wdt:P106 wd:Q36180;\n",
    "            wdt:P27 wd:Q38.\n",
    "    }\n",
    "    UNION\n",
    "    {\n",
    "        ?w wdt:P106 wd:Q36180;\n",
    "            wdt:P27 wd:Q172579.\n",
    "    }\n",
    "    }\n",
    "}\n",
    "}\n",
    "\"\"\"\n",
    "\n",
    "print(\"Results\")\n",
    "run_query(queryString)"
   ]
  },
  {
   "cell_type": "markdown",
   "id": "e31ad3ad-30dd-4f15-8f20-f0d85d76b8ee",
   "metadata": {},
   "source": [
    "Equivalent formulation:"
   ]
  },
  {
   "cell_type": "code",
   "execution_count": 41,
   "id": "d8c21722-a1e7-4cce-986e-67e8239d3738",
   "metadata": {},
   "outputs": [
    {
     "name": "stdout",
     "output_type": "stream",
     "text": [
      "Results\n",
      "[('writers', '1956')]\n"
     ]
    },
    {
     "data": {
      "text/plain": [
       "1"
      ]
     },
     "execution_count": 41,
     "metadata": {},
     "output_type": "execute_result"
    }
   ],
   "source": [
    "queryString = \"\"\"\n",
    "SELECT COUNT(DISTINCT ?w) AS ?writers\n",
    "WHERE {\n",
    "    \n",
    "    ?b wdt:P50 ?w;\n",
    "        wdt:P31 ?books;\n",
    "        wdt:P577 ?pubDate.\n",
    "        \n",
    "    FILTER(datatype(?pubDate) = xsd:dateTime).\n",
    "    FILTER(?books = wd:Q571 || ?books = wd:Q7725634 || ?books = wd:Q47461344).\n",
    "    BIND(year(xsd:datetime(?pubDate)) AS ?yearPub).\n",
    "    FILTER(?yearPub >= 1970).\n",
    "    \n",
    "{ \n",
    "    SELECT ?w\n",
    "    WHERE { \n",
    "    \n",
    "        ?w wdt:P106 wd:Q36180;\n",
    "            wdt:P27 ?c.\n",
    "        FILTER(?c = wd:Q142 || ?c = wd:Q38 || ?c = wd:Q172579).\n",
    "    }\n",
    "}\n",
    "}\n",
    "\"\"\"\n",
    "\n",
    "print(\"Results\")\n",
    "run_query(queryString)"
   ]
  },
  {
   "cell_type": "markdown",
   "id": "e7f01218-9ef3-414d-bacc-a158f24c8843",
   "metadata": {},
   "source": [
    "Just out of curiosity, I count the above writers based on the country."
   ]
  },
  {
   "cell_type": "code",
   "execution_count": 42,
   "id": "4b46284f-e38a-4f14-94ac-c04dce3659d2",
   "metadata": {},
   "outputs": [
    {
     "name": "stdout",
     "output_type": "stream",
     "text": [
      "Results\n",
      "[('country', 'France'), ('writers', '1271')]\n",
      "[('country', 'Italy'), ('writers', '681')]\n",
      "[('country', 'Kingdom of Italy'), ('writers', '193')]\n"
     ]
    },
    {
     "data": {
      "text/plain": [
       "3"
      ]
     },
     "execution_count": 42,
     "metadata": {},
     "output_type": "execute_result"
    }
   ],
   "source": [
    "queryString = \"\"\"\n",
    "SELECT ?country COUNT(DISTINCT ?w) AS ?writers\n",
    "WHERE {\n",
    "    \n",
    "    ?b wdt:P50 ?w;\n",
    "        wdt:P31 ?books;\n",
    "        wdt:P577 ?pubDate.\n",
    "        \n",
    "    ?w wdt:P106 wd:Q36180;\n",
    "                wdt:P27 ?c.   \n",
    "                \n",
    "    ?c <http://schema.org/name> ?country.\n",
    "    \n",
    "    FILTER(?c = wd:Q142 || ?c = wd:Q38 || ?c = wd:Q172579).    \n",
    "    FILTER(datatype(?pubDate) = xsd:dateTime).\n",
    "    FILTER(?books = wd:Q571 || ?books = wd:Q7725634 || ?books = wd:Q47461344).\n",
    "    BIND(year(xsd:datetime(?pubDate)) AS ?yearPub).\n",
    "    FILTER(?yearPub >= 1970).\n",
    "}\n",
    "GROUP BY ?country\n",
    "ORDER BY DESC(?writers)\n",
    "\"\"\"\n",
    "\n",
    "print(\"Results\")\n",
    "run_query(queryString)"
   ]
  },
  {
   "cell_type": "markdown",
   "id": "bdab9264-d213-40a3-bd14-5b07b4e60d2a",
   "metadata": {
    "tags": []
   },
   "source": [
    "## Comparing the number of books written by italian and french authors\n",
    "This section contains the queries used to answer the second question: _Compare the number of books written by Italian and French writers_ ."
   ]
  },
  {
   "cell_type": "markdown",
   "id": "6395b269-f112-48ba-80bf-0cccc96400f6",
   "metadata": {},
   "source": [
    "I recall in the previous part of the workflow I retrieved these properties for books:\n",
    "\n",
    "| IRI           | Description   | Role      |\n",
    "| -----------   | -----------   |-----------|\n",
    "| `wdt:P577`   | publication date  | predicate |\n",
    "| `wdt:P747`   | has edition or translation  | predicate |\n",
    "| `wdt:P136` | genre | predicate |\n",
    "| `wdt:P361`   | part of | predicate |\n",
    "| `wdt:P179`   | part of the series | predicate |\n",
    "\n",
    "I will now use them to investigate the number of books written by italian and french writers. It is important to notice that italian writers can belong to two countries: Italy (wd:Q38) and Kingdom of Italy (wd:Q172579). For this reason, all the following queries will have three results based on the three countries."
   ]
  },
  {
   "cell_type": "markdown",
   "id": "e2b6ff90-10f3-4c6b-9033-39829e93f84b",
   "metadata": {
    "tags": []
   },
   "source": [
    "### Number of books written by italian and french authors\n",
    "Firstly I count italian and french authors who published at least a book."
   ]
  },
  {
   "cell_type": "code",
   "execution_count": 43,
   "id": "90e50be9-5418-4969-9ca9-69f50d10c974",
   "metadata": {},
   "outputs": [
    {
     "name": "stdout",
     "output_type": "stream",
     "text": [
      "Results\n",
      "[('country', 'France'), ('numberBooks', '10357')]\n",
      "[('country', 'Italy'), ('numberBooks', '2699')]\n",
      "[('country', 'Kingdom of Italy'), ('numberBooks', '1652')]\n"
     ]
    },
    {
     "data": {
      "text/plain": [
       "3"
      ]
     },
     "execution_count": 43,
     "metadata": {},
     "output_type": "execute_result"
    }
   ],
   "source": [
    "queryString = \"\"\"\n",
    "SELECT ?country COUNT(DISTINCT ?b) AS ?numberBooks\n",
    "WHERE {\n",
    "\n",
    "    ?c <http://schema.org/name> ?country.\n",
    "            \n",
    "    ?b wdt:P50 ?w;\n",
    "       wdt:P31 ?books.\n",
    "       \n",
    "    ?w wdt:P106 wd:Q36180;\n",
    "        wdt:P27 ?c.\n",
    "\n",
    "    FILTER(?c = wd:Q142 || ?c = wd:Q38 || ?c = wd:Q172579).\n",
    "    FILTER(?books = wd:Q571 || ?books = wd:Q7725634 || ?books = wd:Q47461344).   \n",
    "    \n",
    "}\n",
    "GROUP BY ?country\n",
    "ORDER BY DESC(?numberBooks)\n",
    "\"\"\"\n",
    "\n",
    "print(\"Results\")\n",
    "run_query(queryString)"
   ]
  },
  {
   "cell_type": "markdown",
   "id": "4ec82871-2d30-46e4-ae68-9d999c3e15b3",
   "metadata": {
    "tags": []
   },
   "source": [
    "### Number of books written by italian and french authors published in the last 50 years\n",
    "Based on the previous point, I count the number of books written by italian and french authors published in the last 50 years."
   ]
  },
  {
   "cell_type": "code",
   "execution_count": 44,
   "id": "ccb5c420-0d95-4a84-b2bd-4f374057dc5a",
   "metadata": {},
   "outputs": [
    {
     "name": "stdout",
     "output_type": "stream",
     "text": [
      "Results\n",
      "[('country', 'France'), ('numberBooks', '3859')]\n",
      "[('country', 'Italy'), ('numberBooks', '1970')]\n",
      "[('country', 'Kingdom of Italy'), ('numberBooks', '514')]\n"
     ]
    },
    {
     "data": {
      "text/plain": [
       "3"
      ]
     },
     "execution_count": 44,
     "metadata": {},
     "output_type": "execute_result"
    }
   ],
   "source": [
    "queryString = \"\"\"\n",
    "SELECT ?country COUNT(DISTINCT ?b) AS ?numberBooks\n",
    "WHERE {\n",
    "\n",
    "    ?c <http://schema.org/name> ?country.\n",
    "            \n",
    "    ?b wdt:P50 ?w;\n",
    "       wdt:P31 ?books;\n",
    "       wdt:P577 ?pubDate.\n",
    "       \n",
    "    ?w wdt:P106 wd:Q36180;\n",
    "        wdt:P27 ?c.\n",
    "\n",
    "    FILTER(?c = wd:Q142 || ?c = wd:Q38 || ?c = wd:Q172579).\n",
    "        \n",
    "    FILTER(datatype(?pubDate) = xsd:dateTime).\n",
    "    FILTER(?books = wd:Q571 || ?books = wd:Q7725634 || ?books = wd:Q47461344).\n",
    "    BIND(year(xsd:datetime(?pubDate)) AS ?pubYear).\n",
    "    FILTER(?pubYear >= 1970). \n",
    "    \n",
    "}\n",
    "GROUP BY ?country\n",
    "ORDER BY DESC(?numberBooks)\n",
    "\"\"\"\n",
    "\n",
    "print(\"Results\")\n",
    "run_query(queryString)"
   ]
  },
  {
   "cell_type": "markdown",
   "id": "3b510e77-f312-4c38-8c1d-5c287e8a842f",
   "metadata": {
    "tags": []
   },
   "source": [
    "### Number of books based on their publication year\n",
    "Now I check the number of books published by italian and french writers in the last 10 years. I also filter out publication dates that are set in the future in order to avoid considering weird data."
   ]
  },
  {
   "cell_type": "code",
   "execution_count": 47,
   "id": "5d273c3d-5a92-462b-8e36-f484f45950ca",
   "metadata": {},
   "outputs": [
    {
     "name": "stdout",
     "output_type": "stream",
     "text": [
      "Results\n",
      "[('country', 'France'), ('pubYear', '2010'), ('numberBooks', '114')]\n",
      "[('country', 'Italy'), ('pubYear', '2010'), ('numberBooks', '88')]\n",
      "[('country', 'Kingdom of Italy'), ('pubYear', '2010'), ('numberBooks', '9')]\n",
      "[('country', 'France'), ('pubYear', '2011'), ('numberBooks', '113')]\n",
      "[('country', 'Italy'), ('pubYear', '2011'), ('numberBooks', '71')]\n",
      "[('country', 'Kingdom of Italy'), ('pubYear', '2011'), ('numberBooks', '3')]\n",
      "[('country', 'France'), ('pubYear', '2012'), ('numberBooks', '112')]\n",
      "[('country', 'Italy'), ('pubYear', '2012'), ('numberBooks', '71')]\n",
      "[('country', 'France'), ('pubYear', '2013'), ('numberBooks', '87')]\n",
      "[('country', 'Italy'), ('pubYear', '2013'), ('numberBooks', '65')]\n",
      "[('country', 'Kingdom of Italy'), ('pubYear', '2013'), ('numberBooks', '5')]\n",
      "[('country', 'France'), ('pubYear', '2014'), ('numberBooks', '99')]\n",
      "[('country', 'Italy'), ('pubYear', '2014'), ('numberBooks', '45')]\n",
      "[('country', 'France'), ('pubYear', '2015'), ('numberBooks', '90')]\n",
      "[('country', 'Italy'), ('pubYear', '2015'), ('numberBooks', '54')]\n",
      "[('country', 'Kingdom of Italy'), ('pubYear', '2015'), ('numberBooks', '4')]\n",
      "[('country', 'France'), ('pubYear', '2016'), ('numberBooks', '86')]\n",
      "[('country', 'Italy'), ('pubYear', '2016'), ('numberBooks', '33')]\n",
      "[('country', 'Kingdom of Italy'), ('pubYear', '2016'), ('numberBooks', '1')]\n",
      "[('country', 'France'), ('pubYear', '2017'), ('numberBooks', '72')]\n",
      "[('country', 'Italy'), ('pubYear', '2017'), ('numberBooks', '22')]\n",
      "[('country', 'Kingdom of Italy'), ('pubYear', '2017'), ('numberBooks', '2')]\n",
      "[('country', 'France'), ('pubYear', '2018'), ('numberBooks', '60')]\n",
      "[('country', 'Italy'), ('pubYear', '2018'), ('numberBooks', '16')]\n",
      "[('country', 'France'), ('pubYear', '2019'), ('numberBooks', '56')]\n",
      "[('country', 'Italy'), ('pubYear', '2019'), ('numberBooks', '15')]\n",
      "[('country', 'France'), ('pubYear', '2020'), ('numberBooks', '45')]\n",
      "[('country', 'Italy'), ('pubYear', '2020'), ('numberBooks', '4')]\n",
      "[('country', 'France'), ('pubYear', '2021'), ('numberBooks', '23')]\n",
      "[('country', 'Italy'), ('pubYear', '2021'), ('numberBooks', '6')]\n"
     ]
    },
    {
     "data": {
      "text/plain": [
       "30"
      ]
     },
     "execution_count": 47,
     "metadata": {},
     "output_type": "execute_result"
    }
   ],
   "source": [
    "queryString = \"\"\"\n",
    "SELECT ?country ?pubYear COUNT(DISTINCT ?b) AS ?numberBooks\n",
    "WHERE {\n",
    "\n",
    "    ?c <http://schema.org/name> ?country.\n",
    "            \n",
    "    ?b wdt:P50 ?w;\n",
    "       wdt:P31 ?books;\n",
    "       wdt:P577 ?pubDate.\n",
    "    \n",
    "    ?w wdt:P106 wd:Q36180;\n",
    "        wdt:P27 ?c.\n",
    "\n",
    "    FILTER(?c = wd:Q142 || ?c = wd:Q38 || ?c = wd:Q172579).\n",
    "        \n",
    "    FILTER(datatype(?pubDate) = xsd:dateTime).\n",
    "    FILTER(?books = wd:Q571 || ?books = wd:Q7725634 || ?books = wd:Q47461344).\n",
    "    BIND(year(xsd:datetime(?pubDate)) AS ?pubYear).\n",
    "    FILTER(?pubDate < NOW()).\n",
    "    FILTER(?pubYear >= 2010). \n",
    "    \n",
    "\n",
    "}\n",
    "GROUP BY ?country ?pubYear\n",
    "ORDER BY ?pubYear DESC(?numberBooks)\n",
    "\"\"\"\n",
    "\n",
    "print(\"Results\")\n",
    "run_query(queryString)"
   ]
  },
  {
   "cell_type": "markdown",
   "id": "c34f5ecc-ba4c-427a-af56-bcd028cece5e",
   "metadata": {},
   "source": [
    "As expected french authors always publish more books than italians. That might be due to the fact that there are more french authors than italians and France population is also larger. Another interesting point is that books published by writers from Kingdom of Italy decrease in number with the increase of the year and from 2018 we have no books published by them. That is due to the fact that Italy has been a republic since 1946 therefore authors that are from the Kingdom of Italy are getting old and most of them, if they are alive, are no longer active."
   ]
  },
  {
   "cell_type": "markdown",
   "id": "e0a5c334-8d6a-4599-a4f4-98e3f3d0835a",
   "metadata": {
    "tags": []
   },
   "source": [
    "### Number of books based on the number of translations\n",
    "Now I check if there are more books written by italian or franch authors that have been translated in more than 5 different languages. in order to do that I use the property \"has edition or translation\" (wdt:P747). Firstly I check what type of information is stored with that property."
   ]
  },
  {
   "cell_type": "code",
   "execution_count": 48,
   "id": "cb71e76c-9222-4648-8622-3336704f6da0",
   "metadata": {},
   "outputs": [
    {
     "name": "stdout",
     "output_type": "stream",
     "text": [
      "Results\n",
      "[('bname', 'Life Is Elsewhere'), ('edition', 'Život je jinde'), ('instanceOf', 'version, edition, or translation')]\n",
      "[('bname', 'Life Is Elsewhere'), ('edition', 'La vie est ailleurs'), ('instanceOf', 'version, edition, or translation')]\n",
      "[('bname', 'Thaïs'), ('edition', 'Thaïs'), ('instanceOf', 'version, edition, or translation')]\n",
      "[('bname', 'The Countess of Charny'), ('edition', 'Hrabina Charny'), ('instanceOf', 'version, edition, or translation')]\n",
      "[('bname', 'Le Chevalier de Maison-Rouge'), ('edition', 'Kawaler de Maison Rouge'), ('instanceOf', 'version, edition, or translation')]\n",
      "[('bname', 'Le Chevalier de Maison-Rouge'), ('edition', 'Kawaler de Maison Rouge'), ('instanceOf', 'translated work')]\n",
      "[('bname', 'Le Chevalier de Maison-Rouge'), ('edition', 'Le Chevalier de Maison-Rouge'), ('instanceOf', 'version, edition, or translation')]\n",
      "[('bname', 'Ange Pitou'), ('edition', 'Ange Pitou'), ('instanceOf', 'version, edition, or translation')]\n",
      "[('bname', 'Ange Pitou'), ('edition', 'Anioł Pitoux'), ('instanceOf', 'translated work')]\n",
      "[('bname', 'Ange Pitou'), ('edition', 'Anioł Pitoux'), ('instanceOf', 'version, edition, or translation')]\n",
      "[('bname', 'Joseph Balsamo'), ('edition', 'Józef Balsamo'), ('instanceOf', 'version, edition, or translation')]\n",
      "[('bname', 'Joseph Balsamo'), ('edition', 'Josef Balsamo'), ('instanceOf', 'version, edition, or translation')]\n",
      "[('bname', 'Joseph Balsamo'), ('edition', 'Józef Balsamo'), ('instanceOf', 'translated work')]\n",
      "[('bname', 'Joseph Balsamo'), ('edition', \"Joseph Balsamo : memoires d'un medecin\"), ('instanceOf', 'version, edition, or translation')]\n",
      "[('bname', 'McDonnell Douglas Aircraft since 1920'), ('edition', 'McDonnell Douglas Aircraft since 1920 (2nd Revised Edition)'), ('instanceOf', 'version, edition, or translation')]\n"
     ]
    },
    {
     "data": {
      "text/plain": [
       "15"
      ]
     },
     "execution_count": 48,
     "metadata": {},
     "output_type": "execute_result"
    }
   ],
   "source": [
    "queryString = \"\"\"\n",
    "SELECT DISTINCT ?bname ?edition ?instanceOf\n",
    "WHERE {\n",
    "            \n",
    "    ?b wdt:P50 ?w;\n",
    "       wdt:P31 ?books;\n",
    "       wdt:P747 ?e.\n",
    "       \n",
    "    ?e wdt:P31 ?i.\n",
    "    \n",
    "    ?w wdt:P106 wd:Q36180;\n",
    "        wdt:P27 ?c.\n",
    "        \n",
    "    ?b <http://schema.org/name> ?bname.\n",
    "    ?e <http://schema.org/name> ?edition.\n",
    "    ?i <http://schema.org/name> ?instanceOf.\n",
    "\n",
    "    FILTER(?c = wd:Q142 || ?c = wd:Q38 || ?c = wd:Q172579).\n",
    "        \n",
    "    FILTER(?books = wd:Q571 || ?books = wd:Q7725634 || ?books = wd:Q47461344).\n",
    "\n",
    "}\n",
    "LIMIT 15\n",
    "\"\"\"\n",
    "\n",
    "print(\"Results\")\n",
    "run_query(queryString)"
   ]
  },
  {
   "cell_type": "markdown",
   "id": "0a59fb46-f89b-42f5-a5f0-20445e2456a0",
   "metadata": {},
   "source": [
    "This query gave me no interesting results therefore I try and see how many triple of such type there are for each book."
   ]
  },
  {
   "cell_type": "code",
   "execution_count": 49,
   "id": "fa0ac0b6-d5f1-4e79-9ee6-d82745a31565",
   "metadata": {},
   "outputs": [
    {
     "name": "stdout",
     "output_type": "stream",
     "text": [
      "Results\n",
      "[('b', 'http://www.wikidata.org/entity/Q25338'), ('bname', 'The Little Prince'), ('editions', '14')]\n",
      "[('b', 'http://www.wikidata.org/entity/Q1219561'), ('bname', 'Around the World in Eighty Days'), ('editions', '11')]\n",
      "[('b', 'http://www.wikidata.org/entity/Q11834'), ('bname', 'Puss in Boots'), ('editions', '11')]\n",
      "[('b', 'http://www.wikidata.org/entity/Q98688752'), ('bname', 'Historia Ecclesiastica'), ('editions', '9')]\n",
      "[('b', 'http://www.wikidata.org/entity/Q183565'), ('bname', 'Twenty Thousand Leagues Under the Sea'), ('editions', '8')]\n",
      "[('b', 'http://www.wikidata.org/entity/Q219457'), ('bname', 'A Journey to the Center of the Earth'), ('editions', '8')]\n",
      "[('b', 'http://www.wikidata.org/entity/Q77117286'), ('bname', 'La Traviata : [programme] : opera in three acts'), ('editions', '8')]\n",
      "[('b', 'http://www.wikidata.org/entity/Q1156065'), ('bname', 'The Joke'), ('editions', '7')]\n",
      "[('b', 'http://www.wikidata.org/entity/Q612570'), ('bname', 'Lelia'), ('editions', '6')]\n",
      "[('b', 'http://www.wikidata.org/entity/Q2748292'), ('bname', \"La Fontaine's Fables\"), ('editions', '6')]\n",
      "[('b', 'http://www.wikidata.org/entity/Q861461'), ('bname', 'Les Soirées de Médan'), ('editions', '6')]\n",
      "[('b', 'http://www.wikidata.org/entity/Q11336'), ('bname', 'Heart'), ('editions', '6')]\n",
      "[('b', 'http://www.wikidata.org/entity/Q616350'), ('bname', 'Joseph Balsamo'), ('editions', '6')]\n",
      "[('b', 'http://www.wikidata.org/entity/Q19871'), ('bname', 'Waiting for Godot'), ('editions', '6')]\n",
      "[('b', 'http://www.wikidata.org/entity/Q1327411'), ('bname', 'Around the Moon'), ('editions', '6')]\n",
      "[('b', 'http://www.wikidata.org/entity/Q172850'), ('bname', 'The Name of the Rose'), ('editions', '6')]\n",
      "[('b', 'http://www.wikidata.org/entity/Q143707'), ('bname', 'The Child of the Cavern'), ('editions', '6')]\n",
      "[('b', 'http://www.wikidata.org/entity/Q2944224'), ('bname', 'Cendrillon'), ('editions', '6')]\n",
      "[('b', 'http://www.wikidata.org/entity/Q21190045'), ('bname', \"Mozart's ghost\"), ('editions', '6')]\n",
      "[('b', 'http://www.wikidata.org/entity/Q3153723'), ('bname', 'Introduction to the Devout Life'), ('editions', '6')]\n",
      "[('b', 'http://www.wikidata.org/entity/Q191380'), ('bname', 'The Hunchback of Notre Dame'), ('editions', '6')]\n",
      "[('b', 'http://www.wikidata.org/entity/Q140527'), ('bname', 'The Three Musketeers'), ('editions', '6')]\n",
      "[('b', 'http://www.wikidata.org/entity/Q1121567'), ('bname', 'Michael Strogoff'), ('editions', '5')]\n",
      "[('b', 'http://www.wikidata.org/entity/Q917055'), ('bname', 'The Unbearable Lightness of Being'), ('editions', '5')]\n",
      "[('b', 'http://www.wikidata.org/entity/Q447'), ('bname', 'Encyclopédie'), ('editions', '5')]\n"
     ]
    },
    {
     "data": {
      "text/plain": [
       "25"
      ]
     },
     "execution_count": 49,
     "metadata": {},
     "output_type": "execute_result"
    }
   ],
   "source": [
    "queryString = \"\"\"\n",
    "SELECT ?b ?bname COUNT(?e) AS ?editions\n",
    "WHERE {\n",
    "            \n",
    "    ?b wdt:P50 ?w;\n",
    "       wdt:P31 ?books;\n",
    "       wdt:P747 ?e.\n",
    "    \n",
    "    ?w wdt:P106 wd:Q36180;\n",
    "        wdt:P27 ?c.\n",
    "        \n",
    "    ?b <http://schema.org/name> ?bname.\n",
    "\n",
    "    FILTER(?c = wd:Q142 || ?c = wd:Q38 || ?c = wd:Q172579).\n",
    "        \n",
    "    FILTER(?books = wd:Q571 || ?books = wd:Q7725634 || ?books = wd:Q47461344).\n",
    "\n",
    "}\n",
    "GROUP BY ?b ?bname\n",
    "ORDER BY DESC(?editions)\n",
    "LIMIT 25\n",
    "\"\"\"\n",
    "\n",
    "print(\"Results\")\n",
    "run_query(queryString)"
   ]
  },
  {
   "cell_type": "markdown",
   "id": "ea3ba56a-0631-4c3f-b927-55a9c83a369a",
   "metadata": {},
   "source": [
    "I guess this property is more related to the various editions of a book rather than the translations in different languages. It could be because a translated book is considered a different book since the title might change. Given the results I could count the number of books published by each country that have more that 5 editions or translations."
   ]
  },
  {
   "cell_type": "code",
   "execution_count": 50,
   "id": "63fef2d9-44a4-4c04-99e7-d1251f52cd8e",
   "metadata": {},
   "outputs": [
    {
     "name": "stdout",
     "output_type": "stream",
     "text": [
      "Results\n",
      "[('country', 'France'), ('books', '29')]\n",
      "[('country', 'Kingdom of Italy'), ('books', '2')]\n"
     ]
    },
    {
     "data": {
      "text/plain": [
       "2"
      ]
     },
     "execution_count": 50,
     "metadata": {},
     "output_type": "execute_result"
    }
   ],
   "source": [
    "queryString = \"\"\"\n",
    "SELECT ?country COUNT(?b) AS ?books\n",
    "WHERE {\n",
    "{    \n",
    "    SELECT ?country ?b WHERE{\n",
    "    \n",
    "        ?b wdt:P50 ?w;\n",
    "           wdt:P31 ?books;\n",
    "           wdt:P747 ?e.\n",
    "\n",
    "        ?w wdt:P106 wd:Q36180;\n",
    "            wdt:P27 ?c.\n",
    "\n",
    "        ?c <http://schema.org/name> ?country.\n",
    "\n",
    "        FILTER(?c = wd:Q142 || ?c = wd:Q38 || ?c = wd:Q172579).\n",
    "\n",
    "        FILTER(?books = wd:Q571 || ?books = wd:Q7725634 || ?books = wd:Q47461344).\n",
    "        \n",
    "    }\n",
    "    GROUP BY ?country ?b\n",
    "    HAVING(COUNT(?e) >= 5)\n",
    "}\n",
    "}\n",
    "GROUP BY ?country\n",
    "ORDER BY DESC(?books)\n",
    "\"\"\"\n",
    "\n",
    "print(\"Results\")\n",
    "run_query(queryString)"
   ]
  },
  {
   "cell_type": "markdown",
   "id": "c50b4fa3-51ee-45d1-9876-c7b5b5e762c3",
   "metadata": {},
   "source": [
    "France has way more books with more than 5 editions than Italy. However, I am not sure this property is actually useful."
   ]
  },
  {
   "cell_type": "markdown",
   "id": "175d962c-165e-4be8-881d-6125c248db7a",
   "metadata": {
    "tags": []
   },
   "source": [
    "### Number of books based on the genre\n",
    "Now I count the number of books of italian and french authors based on the genre (wdt:P136). First of all I retrieve how many genres we have."
   ]
  },
  {
   "cell_type": "code",
   "execution_count": 51,
   "id": "a16b6d1e-80d4-4ffc-879b-6ed2dc4b1eae",
   "metadata": {},
   "outputs": [
    {
     "name": "stdout",
     "output_type": "stream",
     "text": [
      "Results\n",
      "[('genres', '345')]\n"
     ]
    },
    {
     "data": {
      "text/plain": [
       "1"
      ]
     },
     "execution_count": 51,
     "metadata": {},
     "output_type": "execute_result"
    }
   ],
   "source": [
    "queryString = \"\"\"\n",
    "SELECT COUNT(DISTINCT ?g) AS ?genres\n",
    "WHERE {\n",
    "    ?b wdt:P50 ?w;\n",
    "       wdt:P31 ?books;\n",
    "       wdt:P136 ?g.\n",
    "    \n",
    "    ?w wdt:P106 wd:Q36180;\n",
    "        wdt:P27 ?c.\n",
    "\n",
    "    FILTER(?c = wd:Q142 || ?c = wd:Q38 || ?c = wd:Q172579).        \n",
    "    FILTER(?books = wd:Q571 || ?books = wd:Q7725634 || ?books = wd:Q47461344).\n",
    "\n",
    "}\n",
    "\"\"\"\n",
    "\n",
    "print(\"Results\")\n",
    "run_query(queryString)"
   ]
  },
  {
   "cell_type": "markdown",
   "id": "0c27dbf1-286e-4613-b24a-bba23b5f16bc",
   "metadata": {},
   "source": [
    "There are 345 different genres. Before moving on with the comparison I retrieve the top 15 most popular genres across all books written by italian and french authors."
   ]
  },
  {
   "cell_type": "code",
   "execution_count": 52,
   "id": "e8b0c311-61af-48cd-8fd8-d4b848dcadb2",
   "metadata": {},
   "outputs": [
    {
     "name": "stdout",
     "output_type": "stream",
     "text": [
      "Results\n",
      "[('genre', 'novel'), ('numberBooks', '5256')]\n",
      "[('genre', 'essay'), ('numberBooks', '992')]\n",
      "[('genre', 'short story'), ('numberBooks', '680')]\n",
      "[('genre', 'crime novel'), ('numberBooks', '355')]\n",
      "[('genre', 'song'), ('numberBooks', '344')]\n",
      "[('genre', 'science fiction novel'), ('numberBooks', '313')]\n",
      "[('genre', 'poetry'), ('numberBooks', '311')]\n",
      "[('genre', 'espionage novel'), ('numberBooks', '285')]\n",
      "[('genre', 'historical novel'), ('numberBooks', '192')]\n",
      "[('genre', 'autobiographical novel'), ('numberBooks', '117')]\n",
      "[('genre', 'fable'), ('numberBooks', '100')]\n",
      "[('genre', 'adventure novel'), ('numberBooks', '92')]\n",
      "[('genre', 'theatre'), ('numberBooks', '88')]\n",
      "[('genre', 'novella'), ('numberBooks', '86')]\n",
      "[('genre', 'autobiography'), ('numberBooks', '84')]\n"
     ]
    },
    {
     "data": {
      "text/plain": [
       "15"
      ]
     },
     "execution_count": 52,
     "metadata": {},
     "output_type": "execute_result"
    }
   ],
   "source": [
    "queryString = \"\"\"\n",
    "SELECT ?genre COUNT(DISTINCT ?b) AS ?numberBooks\n",
    "WHERE {\n",
    "    ?b wdt:P50 ?w;\n",
    "       wdt:P31 ?books;\n",
    "       wdt:P136 ?g.\n",
    "    \n",
    "    ?w wdt:P106 wd:Q36180;\n",
    "        wdt:P27 ?c.\n",
    "    \n",
    "    ?g <http://schema.org/name> ?genre.\n",
    "\n",
    "    FILTER(?c = wd:Q142 || ?c = wd:Q38 || ?c = wd:Q172579).        \n",
    "    FILTER(?books = wd:Q571 || ?books = wd:Q7725634 || ?books = wd:Q47461344).\n",
    "\n",
    "}\n",
    "GROUP BY ?genre\n",
    "ORDER BY DESC(?numberBooks)\n",
    "LIMIT 15\n",
    "\"\"\"\n",
    "\n",
    "print(\"Results\")\n",
    "run_query(queryString)"
   ]
  },
  {
   "cell_type": "markdown",
   "id": "ced43aef-a7ba-4fae-9fdf-c18f62baa7cc",
   "metadata": {},
   "source": [
    "Now I count the number of books written by italian and french authors based on the most popular genres."
   ]
  },
  {
   "cell_type": "code",
   "execution_count": 56,
   "id": "353d7bcc-84d3-478d-9cec-c1b713e78ca2",
   "metadata": {},
   "outputs": [
    {
     "name": "stdout",
     "output_type": "stream",
     "text": [
      "Results\n",
      "[('country', 'France'), ('genre', 'novel'), ('numberBooks', '3603')]\n",
      "[('country', 'Italy'), ('genre', 'novel'), ('numberBooks', '1545')]\n",
      "[('country', 'Kingdom of Italy'), ('genre', 'novel'), ('numberBooks', '618')]\n",
      "[('country', 'France'), ('genre', 'essay'), ('numberBooks', '592')]\n",
      "[('country', 'France'), ('genre', 'short story'), ('numberBooks', '493')]\n",
      "[('country', 'Italy'), ('genre', 'essay'), ('numberBooks', '385')]\n",
      "[('country', 'France'), ('genre', 'song'), ('numberBooks', '344')]\n",
      "[('country', 'France'), ('genre', 'crime novel'), ('numberBooks', '333')]\n",
      "[('country', 'France'), ('genre', 'espionage novel'), ('numberBooks', '285')]\n",
      "[('country', 'France'), ('genre', 'poetry'), ('numberBooks', '245')]\n",
      "[('country', 'France'), ('genre', 'science fiction novel'), ('numberBooks', '240')]\n",
      "[('country', 'Kingdom of Italy'), ('genre', 'essay'), ('numberBooks', '169')]\n",
      "[('country', 'France'), ('genre', 'historical novel'), ('numberBooks', '167')]\n",
      "[('country', 'Italy'), ('genre', 'short story'), ('numberBooks', '146')]\n",
      "[('country', 'Kingdom of Italy'), ('genre', 'short story'), ('numberBooks', '118')]\n"
     ]
    },
    {
     "data": {
      "text/plain": [
       "15"
      ]
     },
     "execution_count": 56,
     "metadata": {},
     "output_type": "execute_result"
    }
   ],
   "source": [
    "queryString = \"\"\"\n",
    "SELECT ?country ?genre COUNT(DISTINCT ?b) AS ?numberBooks\n",
    "WHERE {\n",
    "    ?b wdt:P50 ?w;\n",
    "       wdt:P31 ?books;\n",
    "       wdt:P136 ?g.\n",
    "    \n",
    "    ?w wdt:P106 wd:Q36180;\n",
    "        wdt:P27 ?c.\n",
    "    \n",
    "    ?g <http://schema.org/name> ?genre.\n",
    "    ?c <http://schema.org/name> ?country.\n",
    "\n",
    "    FILTER(?c = wd:Q142 || ?c = wd:Q38 || ?c = wd:Q172579).        \n",
    "    FILTER(?books = wd:Q571 || ?books = wd:Q7725634 || ?books = wd:Q47461344).\n",
    "\n",
    "}\n",
    "GROUP BY ?country ?genre\n",
    "ORDER BY DESC(?numberBooks)\n",
    "LIMIT 15\n",
    "\"\"\"\n",
    "\n",
    "print(\"Results\")\n",
    "run_query(queryString)"
   ]
  },
  {
   "cell_type": "markdown",
   "id": "c1fb23b4-540d-4237-916a-ffd3f867a805",
   "metadata": {
    "tags": []
   },
   "source": [
    "### Number of books that are part of a book series\n",
    "In the end, I check if there are more books written by italians or french authors that are part of a book series. In order to do that I use the properties \"part of the series\" (wdt:P179) and \"part of\" (wdt:P361). Firstly I check how such triples look like."
   ]
  },
  {
   "cell_type": "code",
   "execution_count": 57,
   "id": "a003c149-b801-4a25-81ee-58ff76bc8b29",
   "metadata": {},
   "outputs": [
    {
     "name": "stdout",
     "output_type": "stream",
     "text": [
      "Results\n",
      "[('bname', \"L'Œuvre\"), ('pname', 'part of the series'), ('object', 'Les Rougon-Macquart')]\n",
      "[('bname', 'Le Parfum de la dame en noir'), ('pname', 'part of the series'), ('object', 'Joseph Rouletabille')]\n",
      "[('bname', 'The Firm of Nucingen'), ('pname', 'part of the series'), ('object', 'La Comédie humaine')]\n",
      "[('bname', 'Heretic Dawn'), ('pname', 'part of the series'), ('object', 'Fortune de France')]\n",
      "[('bname', \"L'avenir comme je l'imaginais, ou pas\"), ('pname', 'part of the series'), ('object', 'Ma vie selon moi')]\n",
      "[('bname', 'Ensemble, enfin !'), ('pname', 'part of the series'), ('object', 'Ma vie selon moi')]\n",
      "[('bname', 'Sous le soleil de Floride'), ('pname', 'part of the series'), ('object', 'Ma vie selon moi')]\n",
      "[('bname', 'The Adventures of Captain Hatteras'), ('pname', 'part of the series'), ('object', 'Voyages Extraordinaires')]\n",
      "[('bname', 'The Three Musketeers'), ('pname', 'part of the series'), ('object', \"D'Artagnan Romances\")]\n",
      "[('bname', 'The Iron King'), ('pname', 'part of the series'), ('object', 'The Accursed Kings')]\n",
      "[('bname', \"Le Chef-d'œuvre inconnue\"), ('pname', 'part of the series'), ('object', 'La Comédie humaine')]\n",
      "[('bname', 'Tribulations of a Chinaman in China'), ('pname', 'part of the series'), ('object', 'Voyages Extraordinaires')]\n",
      "[('bname', 'The Steam House'), ('pname', 'part of the series'), ('object', 'Voyages Extraordinaires')]\n",
      "[('bname', 'Foundling Mick'), ('pname', 'part of the series'), ('object', 'Voyages Extraordinaires')]\n",
      "[('bname', 'Angélique, the Marquise of the Angels'), ('pname', 'part of the series'), ('object', 'Angelique')]\n"
     ]
    },
    {
     "data": {
      "text/plain": [
       "15"
      ]
     },
     "execution_count": 57,
     "metadata": {},
     "output_type": "execute_result"
    }
   ],
   "source": [
    "queryString = \"\"\"\n",
    "SELECT DISTINCT ?bname ?pname ?object\n",
    "WHERE {\n",
    "    ?b wdt:P50 ?w;\n",
    "       wdt:P31 ?books;\n",
    "       wdt:P179 ?o.\n",
    "    \n",
    "    ?w wdt:P106 wd:Q36180;\n",
    "        wdt:P27 ?c.\n",
    "\n",
    "    ?b <http://schema.org/name> ?bname.\n",
    "    wdt:P179 <http://schema.org/name> ?pname.\n",
    "    ?o <http://schema.org/name> ?object.\n",
    "\n",
    "    FILTER(?c = wd:Q142 || ?c = wd:Q38 || ?c = wd:Q172579).        \n",
    "    FILTER(?books = wd:Q571 || ?books = wd:Q7725634 || ?books = wd:Q47461344).\n",
    "\n",
    "}\n",
    "LIMIT 15\n",
    "\"\"\"\n",
    "\n",
    "print(\"Results\")\n",
    "run_query(queryString)"
   ]
  },
  {
   "cell_type": "code",
   "execution_count": 58,
   "id": "cf27db6f-e615-4de6-90f9-88739c27dc96",
   "metadata": {},
   "outputs": [
    {
     "name": "stdout",
     "output_type": "stream",
     "text": [
      "Results\n",
      "[('bname', 'Sauron Defeated'), ('pname', 'part of'), ('object', 'The History of The Lord of the Rings')]\n",
      "[('bname', 'Sauron Defeated'), ('pname', 'part of'), ('object', 'The History of Middle-earth')]\n",
      "[('bname', 'The Firm of Nucingen'), ('pname', 'part of'), ('object', 'Scenes from Parisian life')]\n",
      "[('bname', 'The Second Sex'), ('pname', 'part of'), ('object', \"Le Monde's 100 Books of the Century\")]\n",
      "[('bname', 'Béatrix'), ('pname', 'part of'), ('object', 'Scenes from Private Life')]\n",
      "[('bname', 'Gobseck'), ('pname', 'part of'), ('object', 'Scenes from Private Life')]\n",
      "[('bname', 'Le Bal de Sceaux'), ('pname', 'part of'), ('object', 'Scenes from Private Life')]\n",
      "[('bname', 'La Maison du chat-qui-pelote'), ('pname', 'part of'), ('object', 'Scenes from Private Life')]\n",
      "[('bname', 'Un drame au bord de la mer'), ('pname', 'part of'), ('object', 'Philosophical studies')]\n",
      "[('bname', 'Splendeurs et misères des courtisanes'), ('pname', 'part of'), ('object', 'Scenes from Parisian life')]\n",
      "[('bname', \"Une fille d'Ève\"), ('pname', 'part of'), ('object', 'Scenes from Private Life')]\n",
      "[('bname', 'Mémoires de deux jeunes mariées'), ('pname', 'part of'), ('object', 'Scenes from Private Life')]\n",
      "[('bname', 'Le Lys dans la vallée'), ('pname', 'part of'), ('object', 'Scenes from Country Life')]\n",
      "[('bname', 'Le Contrat de mariage'), ('pname', 'part of'), ('object', 'Scenes from Private Life')]\n",
      "[('bname', 'Another Study of a Woman'), ('pname', 'part of'), ('object', 'Scenes from Private Life')]\n"
     ]
    },
    {
     "data": {
      "text/plain": [
       "15"
      ]
     },
     "execution_count": 58,
     "metadata": {},
     "output_type": "execute_result"
    }
   ],
   "source": [
    "queryString = \"\"\"\n",
    "SELECT DISTINCT ?bname ?pname ?object\n",
    "WHERE {\n",
    "    ?b wdt:P50 ?w;\n",
    "       wdt:P31 ?books;\n",
    "       wdt:P361 ?o.\n",
    "    \n",
    "    ?w wdt:P106 wd:Q36180;\n",
    "        wdt:P27 ?c.\n",
    "\n",
    "    ?b <http://schema.org/name> ?bname.\n",
    "    wdt:P361 <http://schema.org/name> ?pname.\n",
    "    ?o <http://schema.org/name> ?object.\n",
    "\n",
    "    FILTER(?c = wd:Q142 || ?c = wd:Q38 || ?c = wd:Q172579).        \n",
    "    FILTER(?books = wd:Q571 || ?books = wd:Q7725634 || ?books = wd:Q47461344).\n",
    "\n",
    "}\n",
    "LIMIT 15\n",
    "\"\"\"\n",
    "\n",
    "print(\"Results\")\n",
    "run_query(queryString)"
   ]
  },
  {
   "cell_type": "markdown",
   "id": "2fb903de-af65-4847-8f95-745bdd455203",
   "metadata": {},
   "source": [
    "Now I can count how many books that are part of a series are written by italian and french authors."
   ]
  },
  {
   "cell_type": "code",
   "execution_count": 59,
   "id": "9bd02ed5-e935-4071-9523-4b44409448d5",
   "metadata": {},
   "outputs": [
    {
     "name": "stdout",
     "output_type": "stream",
     "text": [
      "Results\n",
      "[('country', 'France'), ('numberBooks', '1628')]\n",
      "[('country', 'Italy'), ('numberBooks', '51')]\n",
      "[('country', 'Kingdom of Italy'), ('numberBooks', '20')]\n"
     ]
    },
    {
     "data": {
      "text/plain": [
       "3"
      ]
     },
     "execution_count": 59,
     "metadata": {},
     "output_type": "execute_result"
    }
   ],
   "source": [
    "queryString = \"\"\"\n",
    "SELECT ?country COUNT(DISTINCT ?b) AS ?numberBooks\n",
    "WHERE {\n",
    "    ?b wdt:P50 ?w;\n",
    "       wdt:P31 ?books;\n",
    "       wdt:P179|wdt:P361 ?o.\n",
    "    \n",
    "    ?w wdt:P106 wd:Q36180;\n",
    "        wdt:P27 ?c.\n",
    "\n",
    "    ?c <http://schema.org/name> ?country.\n",
    "\n",
    "    FILTER(?c = wd:Q142 || ?c = wd:Q38 || ?c = wd:Q172579).        \n",
    "    FILTER(?books = wd:Q571 || ?books = wd:Q7725634 || ?books = wd:Q47461344).\n",
    "\n",
    "}\n",
    "GROUP BY ?country\n",
    "ORDER BY DESC(?numberBooks)\n",
    "\"\"\"\n",
    "\n",
    "print(\"Results\")\n",
    "run_query(queryString)"
   ]
  },
  {
   "cell_type": "markdown",
   "id": "2b8e3cfd-245a-46ff-a202-b24749f4a3e8",
   "metadata": {
    "tags": []
   },
   "source": [
    "## Copyright forms\n",
    "This section contains the queries used to answer the third question: _Count how many books written by Italian authors are now released with a \"public domain\" copyright form_ ."
   ]
  },
  {
   "cell_type": "markdown",
   "id": "af5c9384-ee2f-4512-9ae8-36fd98015ef5",
   "metadata": {
    "tags": []
   },
   "source": [
    "### Retrieving the copyright information"
   ]
  },
  {
   "cell_type": "markdown",
   "id": "c2b78049-0d56-4d84-9f2d-7057689e00a5",
   "metadata": {},
   "source": [
    "I recall that, answering the first question I retrieved the property \"copyright status\" (wdt:P6216). Therefore I start from there to see if I can find the \"public domain\" copyright form. \\\n",
    "First of all I retrieve some triples containing that property in order to see the type of information it stores."
   ]
  },
  {
   "cell_type": "code",
   "execution_count": 60,
   "id": "1f0b762b-05b8-4804-9688-03ff7e51c976",
   "metadata": {},
   "outputs": [
    {
     "name": "stdout",
     "output_type": "stream",
     "text": [
      "Results\n",
      "[('bname', 'En Chine'), ('pname', 'copyright status'), ('cr', 'http://www.wikidata.org/entity/Q19652'), ('copyright', 'public domain')]\n",
      "[('bname', 'Les Royautés'), ('pname', 'copyright status'), ('cr', 'http://www.wikidata.org/entity/Q19652'), ('copyright', 'public domain')]\n",
      "[('bname', 'La cigarette'), ('pname', 'copyright status'), ('cr', 'http://www.wikidata.org/entity/Q19652'), ('copyright', 'public domain')]\n",
      "[('bname', 'Jack'), ('pname', 'copyright status'), ('cr', 'http://www.wikidata.org/entity/Q19652'), ('copyright', 'public domain')]\n",
      "[('bname', 'Thaïs'), ('pname', 'copyright status'), ('cr', 'http://www.wikidata.org/entity/Q19652'), ('copyright', 'public domain')]\n",
      "[('bname', \"L'Œuvre\"), ('pname', 'copyright status'), ('cr', 'http://www.wikidata.org/entity/Q19652'), ('copyright', 'public domain')]\n",
      "[('bname', 'La Vie de Bohème'), ('pname', 'copyright status'), ('cr', 'http://www.wikidata.org/entity/Q19652'), ('copyright', 'public domain')]\n",
      "[('bname', 'Le Parfum de la dame en noir'), ('pname', 'copyright status'), ('cr', 'http://www.wikidata.org/entity/Q19652'), ('copyright', 'public domain')]\n",
      "[('bname', 'Il mio cuore fra i reticolati'), ('pname', 'copyright status'), ('cr', 'http://www.wikidata.org/entity/Q19652'), ('copyright', 'public domain')]\n",
      "[('bname', 'The Countess of Charny'), ('pname', 'copyright status'), ('cr', 'http://www.wikidata.org/entity/Q19652'), ('copyright', 'public domain')]\n",
      "[('bname', 'Le Chevalier de Maison-Rouge'), ('pname', 'copyright status'), ('cr', 'http://www.wikidata.org/entity/Q19652'), ('copyright', 'public domain')]\n",
      "[('bname', 'Ange Pitou'), ('pname', 'copyright status'), ('cr', 'http://www.wikidata.org/entity/Q19652'), ('copyright', 'public domain')]\n",
      "[('bname', 'Joseph Balsamo'), ('pname', 'copyright status'), ('cr', 'http://www.wikidata.org/entity/Q19652'), ('copyright', 'public domain')]\n",
      "[('bname', 'Rome and Jerusalem'), ('pname', 'copyright status'), ('cr', 'http://www.wikidata.org/entity/Q19652'), ('copyright', 'public domain')]\n",
      "[('bname', 'The Firm of Nucingen'), ('pname', 'copyright status'), ('cr', 'http://www.wikidata.org/entity/Q19652'), ('copyright', 'public domain')]\n",
      "[('bname', 'La Leçon d’amour dans un parc'), ('pname', 'copyright status'), ('cr', 'http://www.wikidata.org/entity/Q19652'), ('copyright', 'public domain')]\n",
      "[('bname', \"L'Art d'être grand-père\"), ('pname', 'copyright status'), ('cr', 'http://www.wikidata.org/entity/Q19652'), ('copyright', 'public domain')]\n",
      "[('bname', 'Au soleil'), ('pname', 'copyright status'), ('cr', 'http://www.wikidata.org/entity/Q19652'), ('copyright', 'public domain')]\n",
      "[('bname', 'En route'), ('pname', 'copyright status'), ('cr', 'http://www.wikidata.org/entity/Q19652'), ('copyright', 'public domain')]\n",
      "[('bname', 'Essays'), ('pname', 'copyright status'), ('cr', 'http://www.wikidata.org/entity/Q19652'), ('copyright', 'public domain')]\n",
      "[('bname', 'Les Soirées de Médan'), ('pname', 'copyright status'), ('cr', 'http://www.wikidata.org/entity/Q19652'), ('copyright', 'public domain')]\n",
      "[('bname', 'Tender Shoots'), ('pname', 'copyright status'), ('cr', 'http://www.wikidata.org/entity/Q19652'), ('copyright', 'public domain')]\n",
      "[('bname', \"La scienza in cucina e l'arte di mangiar bene\"), ('pname', 'copyright status'), ('cr', 'http://www.wikidata.org/entity/Q19652'), ('copyright', 'public domain')]\n",
      "[('bname', 'Malombra'), ('pname', 'copyright status'), ('cr', 'http://www.wikidata.org/entity/Q19652'), ('copyright', 'public domain')]\n",
      "[('bname', 'Poil de carotte'), ('pname', 'copyright status'), ('cr', 'http://www.wikidata.org/entity/Q19652'), ('copyright', 'public domain')]\n"
     ]
    },
    {
     "data": {
      "text/plain": [
       "25"
      ]
     },
     "execution_count": 60,
     "metadata": {},
     "output_type": "execute_result"
    }
   ],
   "source": [
    "queryString = \"\"\"\n",
    "SELECT DISTINCT ?bname ?pname ?cr ?copyright \n",
    "WHERE {\n",
    "    \n",
    "    ?b wdt:P50 ?w;\n",
    "           wdt:P31 ?books;\n",
    "           wdt:P6216 ?cr.\n",
    "           \n",
    "    ?w wdt:P106 wd:Q36180;\n",
    "        wdt:P27 ?c.\n",
    "        \n",
    "    ?b <http://schema.org/name> ?bname.\n",
    "    wdt:P6216 <http://schema.org/name> ?pname.\n",
    "    ?cr <http://schema.org/name> ?copyright.\n",
    "    \n",
    "    FILTER(?c = wd:Q142 || ?c = wd:Q38 || ?c = wd:Q172579).\n",
    "    FILTER(?books = wd:Q571 || ?books = wd:Q7725634 || ?books = wd:Q47461344).\n",
    "    \n",
    "}\n",
    "LIMIT 25\n",
    "\"\"\"\n",
    "\n",
    "print(\"Results\")\n",
    "run_query(queryString)"
   ]
  },
  {
   "cell_type": "markdown",
   "id": "ce6b704b-72f8-4acc-87b7-daf1764d70a9",
   "metadata": {},
   "source": [
    "I discovered that \"public domain\" is the node wd:Q19652 therefore by binding a book ?b with the triple: \n",
    "\" ?b wdt:P6216 wd:Q19652 \" I retrieve all books with a \"public domain\" copyright. \\\n",
    "Before moving further, just out of curiosity I retrieve all the type of copyright present in the data."
   ]
  },
  {
   "cell_type": "code",
   "execution_count": 61,
   "id": "54d98edb-80c0-48bf-864f-7b497aea17f7",
   "metadata": {},
   "outputs": [
    {
     "name": "stdout",
     "output_type": "stream",
     "text": [
      "Results\n",
      "[('cr', 'http://www.wikidata.org/entity/Q19652'), ('copyright', 'public domain')]\n",
      "[('cr', 'http://www.wikidata.org/entity/Q50423863'), ('copyright', 'copyrighted')]\n",
      "[('cr', 'http://www.wikidata.org/entity/Q24238356'), ('copyright', 'unknown')]\n"
     ]
    },
    {
     "data": {
      "text/plain": [
       "3"
      ]
     },
     "execution_count": 61,
     "metadata": {},
     "output_type": "execute_result"
    }
   ],
   "source": [
    "queryString = \"\"\"\n",
    "SELECT DISTINCT ?cr ?copyright \n",
    "WHERE {\n",
    "    \n",
    "    ?b wdt:P50 ?w;\n",
    "           wdt:P31 ?books;\n",
    "           wdt:P6216 ?cr.\n",
    "           \n",
    "    ?w wdt:P106 wd:Q36180;\n",
    "        wdt:P27 ?c.\n",
    "        \n",
    "    ?b <http://schema.org/name> ?bname.\n",
    "    wdt:P6216 <http://schema.org/name> ?pname.\n",
    "    ?cr <http://schema.org/name> ?copyright.\n",
    "    \n",
    "    FILTER(?c = wd:Q142 || ?c = wd:Q38 || ?c = wd:Q172579).\n",
    "    FILTER(?books = wd:Q571 || ?books = wd:Q7725634 || ?books = wd:Q47461344).\n",
    "    \n",
    "}\n",
    "\"\"\"\n",
    "\n",
    "print(\"Results\")\n",
    "run_query(queryString)"
   ]
  },
  {
   "cell_type": "markdown",
   "id": "7a681a7b-0e77-451f-b4ee-eb3e7793e311",
   "metadata": {},
   "source": [
    "It comes with no surprise these are the only type of copyright available."
   ]
  },
  {
   "cell_type": "markdown",
   "id": "3d9675bb-45a9-4d6f-a0d8-e584fa621d86",
   "metadata": {
    "tags": []
   },
   "source": [
    "### Number of books written by italian authors with a \"public domain\" copyright\n",
    "I now count how many books written by italian authors have a \"public domain\" copyright (wd:Q19652). I assume that by \"italian authors\" it is intended both authors from Italy (wd:Q38) and Kingdom of Italy (wd:Q172579)."
   ]
  },
  {
   "cell_type": "code",
   "execution_count": 62,
   "id": "8e2c52c7-d292-49d8-85da-5e4396be11ff",
   "metadata": {},
   "outputs": [
    {
     "name": "stdout",
     "output_type": "stream",
     "text": [
      "Results\n",
      "[('country', 'Kingdom of Italy'), ('freeBooks', '500')]\n",
      "[('country', 'Italy'), ('freeBooks', '42')]\n"
     ]
    },
    {
     "data": {
      "text/plain": [
       "2"
      ]
     },
     "execution_count": 62,
     "metadata": {},
     "output_type": "execute_result"
    }
   ],
   "source": [
    "queryString = \"\"\"\n",
    "SELECT ?country COUNT(DISTINCT ?b) AS ?freeBooks\n",
    "WHERE {\n",
    "    \n",
    "    ?b wdt:P50 ?w;\n",
    "       wdt:P31 ?books;\n",
    "       wdt:P6216 wd:Q19652.\n",
    "           \n",
    "    ?w wdt:P106 wd:Q36180;\n",
    "       wdt:P27 ?c.\n",
    "        \n",
    "    ?c <http://schema.org/name> ?country.\n",
    "    \n",
    "    FILTER(?c = wd:Q38 || ?c = wd:Q172579).\n",
    "    FILTER(?books = wd:Q571 || ?books = wd:Q7725634 || ?books = wd:Q47461344).\n",
    "    \n",
    "}\n",
    "GROUP BY ?country\n",
    "ORDER BY DESC(?freeBooks)\n",
    "\"\"\"\n",
    "\n",
    "print(\"Results\")\n",
    "run_query(queryString)"
   ]
  },
  {
   "cell_type": "markdown",
   "id": "5388e35e-77f0-4853-bc00-d57cf07a3043",
   "metadata": {},
   "source": [
    "As expected Kingdom of Italy authors have lots of books with a \"public domain\" copyright because they are old books and after a certain amount of time after the author died its work becomes of public domain. \\\n",
    "Just out of curiosity I check the number of books authors that have \"public domain\" copyright over the total number."
   ]
  },
  {
   "cell_type": "code",
   "execution_count": 63,
   "id": "16f4dc10-c1de-40e1-bea7-7e82ab5c5ac8",
   "metadata": {},
   "outputs": [
    {
     "name": "stdout",
     "output_type": "stream",
     "text": [
      "Results\n",
      "[('country', 'Kingdom of Italy'), ('freeBooks', '500'), ('totBooks', '1652')]\n",
      "[('country', 'Italy'), ('freeBooks', '42'), ('totBooks', '2699')]\n"
     ]
    },
    {
     "data": {
      "text/plain": [
       "2"
      ]
     },
     "execution_count": 63,
     "metadata": {},
     "output_type": "execute_result"
    }
   ],
   "source": [
    "queryString = \"\"\"\n",
    "SELECT ?country COUNT(DISTINCT ?b) AS ?freeBooks ?totBooks\n",
    "WHERE {\n",
    "    \n",
    "    ?b wdt:P50 ?w;\n",
    "       wdt:P31 ?books;\n",
    "       wdt:P6216 wd:Q19652.\n",
    "           \n",
    "    ?w wdt:P106 wd:Q36180;\n",
    "       wdt:P27 ?c.\n",
    "       \n",
    "    ?c <http://schema.org/name> ?country.\n",
    "        \n",
    "    FILTER(?books = wd:Q571 || ?books = wd:Q7725634 || ?books = wd:Q47461344).\n",
    "    FILTER(?c = wd:Q38 || ?c = wd:Q172579).\n",
    "    \n",
    "    {\n",
    "        SELECT ?country COUNT(DISTINCT ?b) AS ?totBooks\n",
    "        WHERE{\n",
    "            ?b wdt:P50 ?w;\n",
    "               wdt:P31 ?books.\n",
    "           \n",
    "            ?w wdt:P106 wd:Q36180;\n",
    "               wdt:P27 ?c.\n",
    "               \n",
    "            ?c <http://schema.org/name> ?country.\n",
    "        \n",
    "            FILTER(?books = wd:Q571 || ?books = wd:Q7725634 || ?books = wd:Q47461344).\n",
    "            FILTER(?c = wd:Q38 || ?c = wd:Q172579).\n",
    "        }\n",
    "        GROUP BY ?country\n",
    "    }   \n",
    "}\n",
    "GROUP BY ?country ?totBooks\n",
    "\"\"\"\n",
    "\n",
    "print(\"Results\")\n",
    "run_query(queryString)"
   ]
  },
  {
   "cell_type": "markdown",
   "id": "201455a9-cfe8-41eb-bef6-752c0bc95785",
   "metadata": {},
   "source": [
    "This result confirm my assumption. In fact, more than 30% of such books have \"public domain\" copyright whereas for italian books, only the 1,6% of them have the \"public domain\" copyright."
   ]
  },
  {
   "cell_type": "markdown",
   "id": "fb7e8104-011e-4733-94ce-989ab5a3e6c2",
   "metadata": {
    "tags": []
   },
   "source": [
    "## Nobel Prize Literature\n",
    "This section contains the queries used to answer the fourth question: _How many Literature Nobel awards won authors from Italy and from the Kingdom of Italy?_ "
   ]
  },
  {
   "cell_type": "markdown",
   "id": "82d06f89-956e-485a-a304-e183d249f14b",
   "metadata": {},
   "source": [
    "I recall that from the previous workflows I discovered one property called \"award received\" (wdt:P166) that writers are subect to. Therefore I can start by retrieving all italian writers who received an award and I can see how these triples look like."
   ]
  },
  {
   "cell_type": "code",
   "execution_count": 64,
   "id": "da97f7f5-6bff-4ada-8f47-3ab1279fb28b",
   "metadata": {},
   "outputs": [
    {
     "name": "stdout",
     "output_type": "stream",
     "text": [
      "Results\n",
      "[('wname', 'Mario Cavaliere'), ('pname', 'award received'), ('o', 'http://www.wikidata.org/entity/Q28871406'), ('object', 'Jugendliteraturpreis Altmühlfranken')]\n",
      "[('wname', 'Renzo De Felice'), ('pname', 'award received'), ('o', 'http://www.wikidata.org/entity/Q14539974'), ('object', 'Knight Grand Cross of the Order of Merit of the Italian Republic')]\n",
      "[('wname', 'Paolo Caccia Dominioni'), ('pname', 'award received'), ('o', 'http://www.wikidata.org/entity/Q15042072'), ('object', 'Gold Medal of Military Valour')]\n",
      "[('wname', 'Renzo De Felice'), ('pname', 'award received'), ('o', 'http://www.wikidata.org/entity/Q3638154'), ('object', 'Italian Order of Merit for Culture and Art')]\n",
      "[('wname', 'Magdi Allam'), ('pname', 'award received'), ('o', 'http://www.wikidata.org/entity/Q1158951'), ('object', 'Dan David Prize')]\n",
      "[('wname', 'Eva Cantarella'), ('pname', 'award received'), ('o', 'http://www.wikidata.org/entity/Q788568'), ('object', 'Bagutta Prize')]\n",
      "[('wname', 'Natalia Ginzburg'), ('pname', 'award received'), ('o', 'http://www.wikidata.org/entity/Q23061993'), ('object', 'Charles Veillon prize in the Italian language')]\n",
      "[('wname', 'Mario Praz'), ('pname', 'award received'), ('o', 'http://www.wikidata.org/entity/Q94578019'), ('object', 'Serena Medal')]\n",
      "[('wname', 'Natalia Ginzburg'), ('pname', 'award received'), ('o', 'http://www.wikidata.org/entity/Q788568'), ('object', 'Bagutta Prize')]\n",
      "[('wname', 'Natalia Ginzburg'), ('pname', 'award received'), ('o', 'http://www.wikidata.org/entity/Q731542'), ('object', 'Strega Prize')]\n",
      "[('wname', 'Milo Manara'), ('pname', 'award received'), ('o', 'http://www.wikidata.org/entity/Q2687578'), ('object', 'Inkpot Award')]\n",
      "[('wname', 'Natalia Ginzburg'), ('pname', 'award received'), ('o', 'http://www.wikidata.org/entity/Q52382875'), ('object', 'AAAS Fellow')]\n",
      "[('wname', 'Mario Praz'), ('pname', 'award received'), ('o', 'http://www.wikidata.org/entity/Q12201445'), ('object', 'Knight Commander of the Order of the British Empire')]\n",
      "[('wname', 'Antonio Baldini'), ('pname', 'award received'), ('o', 'http://www.wikidata.org/entity/Q599434'), ('object', 'Feltrinelli Prize')]\n",
      "[('wname', 'Mario Praz'), ('pname', 'award received'), ('o', 'http://www.wikidata.org/entity/Q599434'), ('object', 'Feltrinelli Prize')]\n",
      "[('wname', 'Giorgio Bassani'), ('pname', 'award received'), ('o', 'http://www.wikidata.org/entity/Q2108706'), ('object', 'Premio Campiello')]\n",
      "[('wname', 'Giorgio Bassani'), ('pname', 'award received'), ('o', 'http://www.wikidata.org/entity/Q519214'), ('object', 'Nelly Sachs Prize')]\n",
      "[('wname', 'Giorgio Bassani'), ('pname', 'award received'), ('o', 'http://www.wikidata.org/entity/Q1526935'), ('object', 'Viareggio Prize')]\n",
      "[('wname', 'Giorgio Bassani'), ('pname', 'award received'), ('o', 'http://www.wikidata.org/entity/Q788568'), ('object', 'Bagutta Prize')]\n",
      "[('wname', 'Giorgio Bassani'), ('pname', 'award received'), ('o', 'http://www.wikidata.org/entity/Q731542'), ('object', 'Strega Prize')]\n",
      "[('wname', 'Ugo Chiti'), ('pname', 'award received'), ('o', 'http://www.wikidata.org/entity/Q1377777'), ('object', 'European Film Award for Best Screenwriter')]\n",
      "[('wname', 'Ugo Chiti'), ('pname', 'award received'), ('o', 'http://www.wikidata.org/entity/Q777921'), ('object', 'European Film Award for Best Film')]\n",
      "[('wname', 'Giorgio Bassani'), ('pname', 'award received'), ('o', 'http://www.wikidata.org/entity/Q599434'), ('object', 'Feltrinelli Prize')]\n",
      "[('wname', 'Angelo de Gubernatis'), ('pname', 'award received'), ('o', 'http://www.wikidata.org/entity/Q52349666'), ('object', 'Bordin Prize')]\n",
      "[('wname', 'Michelangelo Antonioni'), ('pname', 'award received'), ('o', 'http://www.wikidata.org/entity/Q7650000'), ('object', 'Sutherland Trophy')]\n"
     ]
    },
    {
     "data": {
      "text/plain": [
       "25"
      ]
     },
     "execution_count": 64,
     "metadata": {},
     "output_type": "execute_result"
    }
   ],
   "source": [
    "queryString = \"\"\"\n",
    "SELECT DISTINCT ?wname ?pname ?o ?object\n",
    "WHERE {\n",
    "           \n",
    "    ?w wdt:P106 wd:Q36180;\n",
    "       wdt:P166 ?o;\n",
    "       wdt:P27 ?c.\n",
    "    \n",
    "    ?w <http://schema.org/name> ?wname.\n",
    "    wdt:P166 <http://schema.org/name> ?pname.\n",
    "    ?o <http://schema.org/name> ?object.\n",
    "    \n",
    "    FILTER(?c = wd:Q38 || ?c = wd:Q172579).\n",
    "    \n",
    "}\n",
    "LIMIT 25\n",
    "\"\"\"\n",
    "\n",
    "print(\"Results\")\n",
    "run_query(queryString)"
   ]
  },
  {
   "cell_type": "markdown",
   "id": "b9e342a0-0110-40af-8d0e-c06b77336a3b",
   "metadata": {},
   "source": [
    "Now I retrieve the number of different prizes italian writers won."
   ]
  },
  {
   "cell_type": "code",
   "execution_count": 65,
   "id": "6bb974d6-3a51-4589-a543-f95292490f60",
   "metadata": {},
   "outputs": [
    {
     "name": "stdout",
     "output_type": "stream",
     "text": [
      "Results\n",
      "[('distinctPrizes', '521')]\n"
     ]
    },
    {
     "data": {
      "text/plain": [
       "1"
      ]
     },
     "execution_count": 65,
     "metadata": {},
     "output_type": "execute_result"
    }
   ],
   "source": [
    "queryString = \"\"\"\n",
    "SELECT COUNT(DISTINCT ?o) AS ?distinctPrizes\n",
    "WHERE {\n",
    "           \n",
    "    ?w wdt:P106 wd:Q36180;\n",
    "       wdt:P166 ?o;\n",
    "       wdt:P27 ?c.\n",
    "    \n",
    "    FILTER(?c = wd:Q38 || ?c = wd:Q172579).\n",
    "    \n",
    "}\n",
    "\"\"\"\n",
    "\n",
    "print(\"Results\")\n",
    "run_query(queryString)"
   ]
  },
  {
   "cell_type": "markdown",
   "id": "b9ae02c7-584e-4fbf-9ca8-885bed219e89",
   "metadata": {},
   "source": [
    "Since the number is large I retrieve the top 15 prizes most won by italians."
   ]
  },
  {
   "cell_type": "code",
   "execution_count": 66,
   "id": "4f002f42-f8d4-4cdd-ad31-d341bfd208d7",
   "metadata": {},
   "outputs": [
    {
     "name": "stdout",
     "output_type": "stream",
     "text": [
      "Results\n",
      "[('prize', 'Viareggio Prize'), ('winners', '89')]\n",
      "[('prize', 'Order of Merit of the Italian Republic'), ('winners', '82')]\n",
      "[('prize', 'Knight Grand Cross of the Order of Merit of the Italian Republic'), ('winners', '78')]\n",
      "[('prize', 'Bagutta Prize'), ('winners', '75')]\n",
      "[('prize', 'Strega Prize'), ('winners', '68')]\n",
      "[('prize', 'Medal of Military Valour'), ('winners', '40')]\n",
      "[('prize', 'Feltrinelli Prize'), ('winners', '34')]\n",
      "[('prize', 'Italian Order of Merit for Culture and Art'), ('winners', '26')]\n",
      "[('prize', \"Ambrogino d'oro\"), ('winners', '18')]\n",
      "[('prize', 'Premio Campiello'), ('winners', '15')]\n",
      "[('prize', 'Commander of the Order of Merit of the Italian Republic'), ('winners', '14')]\n",
      "[('prize', 'Urania Award'), ('winners', '14')]\n",
      "[('prize', 'Grand Officer of the Order of Merit of the Italian Republic'), ('winners', '13')]\n",
      "[('prize', 'Napoli Prize'), ('winners', '13')]\n",
      "[('prize', 'Gold Medal of Military Valour'), ('winners', '12')]\n"
     ]
    },
    {
     "data": {
      "text/plain": [
       "15"
      ]
     },
     "execution_count": 66,
     "metadata": {},
     "output_type": "execute_result"
    }
   ],
   "source": [
    "queryString = \"\"\"\n",
    "SELECT ?prize COUNT(DISTINCT ?w) AS ?winners\n",
    "WHERE {\n",
    "           \n",
    "    ?w wdt:P106 wd:Q36180;\n",
    "       wdt:P166 ?o;\n",
    "       wdt:P27 ?c.\n",
    "    \n",
    "    ?o <http://schema.org/name> ?prize.\n",
    "    \n",
    "    FILTER(?c = wd:Q38 || ?c = wd:Q172579).\n",
    "    \n",
    "}\n",
    "GROUP BY ?prize\n",
    "ORDER BY DESC(?winners)\n",
    "LIMIT 15\n",
    "\"\"\"\n",
    "\n",
    "print(\"Results\")\n",
    "run_query(queryString)"
   ]
  },
  {
   "cell_type": "markdown",
   "id": "406638c3-6c39-4adc-b619-02d2896df1fd",
   "metadata": {},
   "source": [
    "Just a few italians have won the Nobel Prize Literature therefore it won't appear in the top 15. However I know from the instructions that wd:Q37922 is the node for the Nobel Prize Literature therefore I check if there are some italian writers ?w that have the triple \" ?w wdt:P166 wd:Q37922 \"."
   ]
  },
  {
   "cell_type": "code",
   "execution_count": 67,
   "id": "2dfd8285-8893-4b0f-acb2-dd0cc02ee273",
   "metadata": {},
   "outputs": [
    {
     "name": "stdout",
     "output_type": "stream",
     "text": [
      "Results\n",
      "[('w', 'http://www.wikidata.org/entity/Q7728'), ('writerName', 'Grazia Deledda'), ('country', 'Kingdom of Italy')]\n",
      "[('w', 'http://www.wikidata.org/entity/Q43440'), ('writerName', 'Giosuè Carducci'), ('country', 'Kingdom of Italy')]\n",
      "[('w', 'http://www.wikidata.org/entity/Q1403'), ('writerName', 'Luigi Pirandello'), ('country', 'Kingdom of Italy')]\n",
      "[('w', 'http://www.wikidata.org/entity/Q83038'), ('writerName', 'Salvatore Quasimodo'), ('country', 'Kingdom of Italy')]\n",
      "[('w', 'http://www.wikidata.org/entity/Q83038'), ('writerName', 'Salvatore Quasimodo'), ('country', 'Italy')]\n",
      "[('w', 'http://www.wikidata.org/entity/Q765'), ('writerName', 'Dario Fo'), ('country', 'Italy')]\n"
     ]
    },
    {
     "data": {
      "text/plain": [
       "6"
      ]
     },
     "execution_count": 67,
     "metadata": {},
     "output_type": "execute_result"
    }
   ],
   "source": [
    "queryString = \"\"\"\n",
    "SELECT DISTINCT ?w ?writerName ?country\n",
    "WHERE {\n",
    "           \n",
    "    ?w wdt:P106 wd:Q36180;\n",
    "       wdt:P166 wd:Q37922;\n",
    "       wdt:P27 ?c.\n",
    "       \n",
    "    ?w <http://schema.org/name> ?writerName.\n",
    "    ?c <http://schema.org/name> ?country.\n",
    "    \n",
    "    \n",
    "    FILTER(?c = wd:Q38 || ?c = wd:Q172579).\n",
    "    \n",
    "}\n",
    "\"\"\"\n",
    "\n",
    "print(\"Results\")\n",
    "run_query(queryString)"
   ]
  },
  {
   "cell_type": "markdown",
   "id": "df77cf58-3b4f-4c37-b960-40287268854b",
   "metadata": {},
   "source": [
    "After performing a quick check on Wikipedia I can state the query retrieved all italian writers who won a Nobel Prize for Literature."
   ]
  },
  {
   "cell_type": "markdown",
   "id": "07114067-f88e-4481-9d91-aebf8d1a1835",
   "metadata": {
    "tags": []
   },
   "source": [
    "## Vatican Library\n",
    "This section contains the queries used to answer the last question: _Are there books from Literature Nobel Award winners which are not present in the Vatican Library? (if so, who is the author with more books not in the Vatical Library)?_"
   ]
  },
  {
   "cell_type": "markdown",
   "id": "f70bb0f4-2095-4312-96d9-cc578c723958",
   "metadata": {
    "tags": []
   },
   "source": [
    "### Retrieving books stored in the Vatican Library\n",
    "First of all I need to understand how to retrieve if a book is stored in the Vatican Library. I have the node Vatican Library (wd:Q213678) therefore I count how many properties there are for it in both directions."
   ]
  },
  {
   "cell_type": "code",
   "execution_count": 68,
   "id": "aa2adf83-fc39-4cef-91d5-32c545df707a",
   "metadata": {},
   "outputs": [
    {
     "name": "stdout",
     "output_type": "stream",
     "text": [
      "Results\n",
      "[('subjProps', '79')]\n"
     ]
    },
    {
     "data": {
      "text/plain": [
       "1"
      ]
     },
     "execution_count": 68,
     "metadata": {},
     "output_type": "execute_result"
    }
   ],
   "source": [
    "queryString = \"\"\"\n",
    "SELECT COUNT(DISTINCT ?p) AS ?subjProps\n",
    "WHERE {\n",
    "           \n",
    "    wd:Q213678 ?p ?o.\n",
    "    \n",
    "}\n",
    "\"\"\"\n",
    "\n",
    "print(\"Results\")\n",
    "run_query(queryString)"
   ]
  },
  {
   "cell_type": "code",
   "execution_count": 70,
   "id": "5942407e-d944-4b8d-99ee-7bd27dfb31f2",
   "metadata": {},
   "outputs": [
    {
     "name": "stdout",
     "output_type": "stream",
     "text": [
      "Results\n",
      "[('objProps', '20')]\n"
     ]
    },
    {
     "data": {
      "text/plain": [
       "1"
      ]
     },
     "execution_count": 70,
     "metadata": {},
     "output_type": "execute_result"
    }
   ],
   "source": [
    "queryString = \"\"\"\n",
    "SELECT COUNT(DISTINCT ?p) AS ?objProps\n",
    "WHERE {\n",
    "           \n",
    "    ?s ?p wd:Q213678.\n",
    "    \n",
    "}\n",
    "\"\"\"\n",
    "\n",
    "print(\"Results\")\n",
    "run_query(queryString)"
   ]
  },
  {
   "cell_type": "markdown",
   "id": "fd63cdf0-6ee8-4644-97a6-d7f5fe7b9d0d",
   "metadata": {},
   "source": [
    "Since they are not much I can list them all, I start from the one where Vatican Library is the object ordered based on the number of subjects linked to them."
   ]
  },
  {
   "cell_type": "code",
   "execution_count": 71,
   "id": "cca948d3-93fd-4cfd-875d-0b0ebc380fb9",
   "metadata": {},
   "outputs": [
    {
     "name": "stdout",
     "output_type": "stream",
     "text": [
      "Results\n",
      "[('p', 'http://www.wikidata.org/prop/direct/P195'), ('pname', 'collection'), ('subjs', '61')]\n",
      "[('p', 'http://www.wikidata.org/prop/direct/P276'), ('pname', 'location'), ('subjs', '24')]\n",
      "[('p', 'http://www.wikidata.org/prop/direct/P108'), ('pname', 'employer'), ('subjs', '19')]\n",
      "[('p', 'http://www.wikidata.org/prop/direct/P921'), ('pname', 'main subject'), ('subjs', '9')]\n",
      "[('p', 'http://www.wikidata.org/prop/direct/P1416'), ('pname', 'affiliation'), ('subjs', '4')]\n",
      "[('p', 'http://www.wikidata.org/prop/direct/P361'), ('pname', 'part of'), ('subjs', '3')]\n",
      "[('p', 'http://www.wikidata.org/prop/direct/P9419'), ('pname', 'personal library at'), ('subjs', '1')]\n",
      "[('p', 'http://www.wikidata.org/prop/direct/P2378'), ('pname', 'issued by'), ('subjs', '1')]\n",
      "[('p', 'http://www.wikidata.org/prop/direct/P5869'), ('pname', 'model item'), ('subjs', '1')]\n",
      "[('p', 'http://www.wikidata.org/prop/direct/P1629'), ('pname', 'Wikidata item of this property'), ('subjs', '1')]\n",
      "[('p', 'http://www.wikidata.org/prop/direct/P137'), ('pname', 'operator'), ('subjs', '1')]\n",
      "[('p', 'http://www.wikidata.org/prop/direct/P127'), ('pname', 'owned by'), ('subjs', '1')]\n",
      "[('p', 'http://www.wikidata.org/prop/direct/P1855'), ('pname', 'Wikidata property example'), ('subjs', '1')]\n",
      "[('p', 'http://www.wikidata.org/prop/direct/P189'), ('pname', 'location of discovery'), ('subjs', '1')]\n",
      "[('p', 'http://www.wikidata.org/prop/direct/P2389'), ('pname', 'organization directed by the office or position'), ('subjs', '1')]\n",
      "[('p', 'http://www.wikidata.org/prop/direct/P301'), ('pname', \"category's main topic\"), ('subjs', '1')]\n",
      "[('p', 'http://www.wikidata.org/prop/direct/P485'), ('pname', 'archives at'), ('subjs', '1')]\n",
      "[('p', 'http://www.wikidata.org/prop/direct/P971'), ('pname', 'category combines topics'), ('subjs', '1')]\n"
     ]
    },
    {
     "data": {
      "text/plain": [
       "18"
      ]
     },
     "execution_count": 71,
     "metadata": {},
     "output_type": "execute_result"
    }
   ],
   "source": [
    "queryString = \"\"\"\n",
    "SELECT ?p ?pname COUNT(DISTINCT ?s) AS ?subjs\n",
    "WHERE {\n",
    "           \n",
    "    ?s ?p wd:Q213678.\n",
    "    ?p <http://schema.org/name> ?pname.\n",
    "    \n",
    "}\n",
    "GROUP BY ?p ?pname\n",
    "ORDER BY DESC(?subjs)\n",
    "\"\"\"\n",
    "\n",
    "print(\"Results\")\n",
    "run_query(queryString)"
   ]
  },
  {
   "cell_type": "markdown",
   "id": "272b2972-8289-448c-9ac5-d54869cf1be7",
   "metadata": {},
   "source": [
    "Properties \"owned by\" (wdt:P127), \"location\" (wdt:P276) and \"archives at\" (wdt:P485) look promising. Before investigating them further I also list all properties Vatican Library is subject to, also ordered based on the number of object linked to them."
   ]
  },
  {
   "cell_type": "code",
   "execution_count": 72,
   "id": "ee200065-5f14-496c-8bbe-ab8dc3f9a5c4",
   "metadata": {},
   "outputs": [
    {
     "name": "stdout",
     "output_type": "stream",
     "text": [
      "Results\n",
      "[('p', 'http://www.wikidata.org/prop/direct/P463'), ('pname', 'member of'), ('objs', '3')]\n",
      "[('p', 'http://www.wikidata.org/prop/direct/P268'), ('pname', 'Bibliothèque nationale de France ID'), ('objs', '1')]\n",
      "[('p', 'http://www.wikidata.org/prop/direct/P1207'), ('pname', 'NUKAT ID'), ('objs', '1')]\n",
      "[('p', 'http://www.wikidata.org/prop/direct/P1017'), ('pname', 'Vatican Library ID (former scheme)'), ('objs', '1')]\n",
      "[('p', 'http://www.wikidata.org/prop/direct/P9661'), ('pname', 'EBAF authority ID'), ('objs', '1')]\n",
      "[('p', 'http://www.wikidata.org/prop/direct/P2924'), ('pname', 'Great Russian Encyclopedia Online ID'), ('objs', '1')]\n",
      "[('p', 'http://www.wikidata.org/prop/direct/P4808'), ('pname', 'Royal Academy new identifier'), ('objs', '1')]\n",
      "[('p', 'http://www.wikidata.org/prop/direct/P856'), ('pname', 'official website'), ('objs', '1')]\n",
      "[('p', 'http://www.wikidata.org/prop/direct/P791'), ('pname', 'ISIL'), ('objs', '1')]\n",
      "[('p', 'http://www.wikidata.org/prop/direct/P9037'), ('pname', 'BHCL UUID'), ('objs', '1')]\n",
      "[('p', 'http://www.wikidata.org/prop/direct/P1015'), ('pname', 'NORAF ID'), ('objs', '1')]\n",
      "[('p', 'http://www.wikidata.org/prop/direct/P7859'), ('pname', 'WorldCat Identities ID'), ('objs', '1')]\n",
      "[('p', 'http://www.wikidata.org/prop/direct/P1005'), ('pname', 'Portuguese National Library ID'), ('objs', '1')]\n",
      "[('p', 'http://www.wikidata.org/prop/direct/P349'), ('pname', 'National Diet Library ID'), ('objs', '1')]\n",
      "[('p', 'http://www.wikidata.org/prop/direct/P949'), ('pname', 'National Library of Israel ID'), ('objs', '1')]\n",
      "[('p', 'http://www.wikidata.org/prop/direct/P17'), ('pname', 'country'), ('objs', '1')]\n",
      "[('p', 'http://www.wikidata.org/prop/direct/P7865'), ('pname', 'CoBiS author ID'), ('objs', '1')]\n",
      "[('p', 'http://www.wikidata.org/prop/direct/P227'), ('pname', 'GND ID'), ('objs', '1')]\n",
      "[('p', 'http://www.wikidata.org/prop/direct/P973'), ('pname', 'described at URL'), ('objs', '1')]\n",
      "[('p', 'http://www.wikidata.org/prop/direct/P9522'), ('pname', 'Biblioteca di Santa Sabina ID'), ('objs', '1')]\n",
      "[('p', 'http://www.wikidata.org/prop/direct/P1273'), ('pname', 'CANTIC ID'), ('objs', '1')]\n",
      "[('p', 'http://www.wikidata.org/prop/direct/P5505'), ('pname', 'WorldCat Registry ID'), ('objs', '1')]\n",
      "[('p', 'http://www.wikidata.org/prop/direct/P3500'), ('pname', 'Ringgold ID'), ('objs', '1')]\n",
      "[('p', 'http://www.wikidata.org/prop/direct/P131'), ('pname', 'located in the administrative territorial entity'), ('objs', '1')]\n",
      "[('p', 'http://www.wikidata.org/prop/direct/P6698'), ('pname', 'Japan Search name ID'), ('objs', '1')]\n",
      "[('p', 'http://www.wikidata.org/prop/direct/P906'), ('pname', 'SELIBR ID'), ('objs', '1')]\n",
      "[('p', 'http://www.wikidata.org/prop/direct/P646'), ('pname', 'Freebase ID'), ('objs', '1')]\n",
      "[('p', 'http://www.wikidata.org/prop/direct/P269'), ('pname', 'IdRef ID'), ('objs', '1')]\n",
      "[('p', 'http://www.wikidata.org/prop/direct/P245'), ('pname', 'Union List of Artist Names ID'), ('objs', '1')]\n",
      "[('p', 'http://www.wikidata.org/prop/direct/P3234'), ('pname', 'Code List for Cultural Heritage Organizations'), ('objs', '1')]\n",
      "[('p', 'http://www.wikidata.org/prop/direct/P950'), ('pname', 'Biblioteca Nacional de España ID'), ('objs', '1')]\n",
      "[('p', 'http://www.wikidata.org/prop/direct/P571'), ('pname', 'inception'), ('objs', '1')]\n",
      "[('p', 'http://www.wikidata.org/prop/direct/P4848'), ('pname', 'Libraries.org ID'), ('objs', '1')]\n",
      "[('p', 'http://www.wikidata.org/prop/direct/P5587'), ('pname', 'Libris-URI'), ('objs', '1')]\n",
      "[('p', 'http://www.wikidata.org/prop/direct/P373'), ('pname', 'Commons category'), ('objs', '1')]\n",
      "[('p', 'http://www.wikidata.org/prop/direct/P9226'), ('pname', 'ARAE ID'), ('objs', '1')]\n",
      "[('p', 'http://www.wikidata.org/prop/direct/P2581'), ('pname', 'BabelNet ID'), ('objs', '1')]\n",
      "[('p', 'http://www.wikidata.org/prop/direct/P214'), ('pname', 'VIAF ID'), ('objs', '1')]\n",
      "[('p', 'http://www.wikidata.org/prop/direct/P3762'), ('pname', 'openMLOL author ID'), ('objs', '1')]\n",
      "[('p', 'http://www.wikidata.org/prop/direct/P3749'), ('pname', 'Google Maps Customer ID'), ('objs', '1')]\n",
      "[('p', 'http://www.wikidata.org/prop/direct/P3987'), ('pname', 'SHARE Catalogue author ID'), ('objs', '1')]\n",
      "[('p', 'http://www.wikidata.org/prop/direct/P6706'), ('pname', 'De Agostini ID'), ('objs', '1')]\n",
      "[('p', 'http://www.wikidata.org/prop/direct/P31'), ('pname', 'instance of'), ('objs', '1')]\n",
      "[('p', 'http://www.wikidata.org/prop/direct/P910'), ('pname', \"topic's main category\"), ('objs', '1')]\n",
      "[('p', 'http://www.wikidata.org/prop/direct/P1343'), ('pname', 'described by source'), ('objs', '1')]\n",
      "[('p', 'http://www.wikidata.org/prop/direct/P409'), ('pname', 'Libraries Australia ID'), ('objs', '1')]\n",
      "[('p', 'http://www.wikidata.org/prop/direct/P1612'), ('pname', 'Commons Institution page'), ('objs', '1')]\n",
      "[('p', 'http://www.wikidata.org/prop/direct/P1687'), ('pname', 'Wikidata property'), ('objs', '1')]\n",
      "[('p', 'http://www.wikidata.org/prop/direct/P8034'), ('pname', 'Vatican Library VcBA ID'), ('objs', '1')]\n",
      "[('p', 'http://www.wikidata.org/prop/direct/P1037'), ('pname', 'director / manager'), ('objs', '1')]\n",
      "[('p', 'http://www.wikidata.org/prop/direct/P1417'), ('pname', 'Encyclopædia Britannica Online ID'), ('objs', '1')]\n",
      "[('p', 'http://www.wikidata.org/prop/direct/P244'), ('pname', 'Library of Congress authority ID'), ('objs', '1')]\n",
      "[('p', 'http://www.wikidata.org/prop/direct/P2388'), ('pname', 'office held by head of the organization'), ('objs', '1')]\n",
      "[('p', 'http://www.wikidata.org/prop/direct/P18'), ('pname', 'image'), ('objs', '1')]\n",
      "[('p', 'http://www.wikidata.org/prop/direct/P691'), ('pname', 'NKCR AUT ID'), ('objs', '1')]\n",
      "[('p', 'http://www.wikidata.org/prop/direct/P2163'), ('pname', 'FAST ID'), ('objs', '1')]\n",
      "[('p', 'http://www.wikidata.org/prop/direct/P5739'), ('pname', 'Pontificia Università della Santa Croce ID'), ('objs', '1')]\n",
      "[('p', 'http://www.wikidata.org/prop/direct/P1296'), ('pname', 'Gran Enciclopèdia Catalana ID'), ('objs', '1')]\n",
      "[('p', 'http://www.wikidata.org/prop/direct/P9756'), ('pname', 'Schoenberg Database of Manuscripts name ID'), ('objs', '1')]\n",
      "[('p', 'http://www.wikidata.org/prop/direct/P213'), ('pname', 'ISNI'), ('objs', '1')]\n"
     ]
    },
    {
     "data": {
      "text/plain": [
       "60"
      ]
     },
     "execution_count": 72,
     "metadata": {},
     "output_type": "execute_result"
    }
   ],
   "source": [
    "queryString = \"\"\"\n",
    "SELECT ?p ?pname COUNT(DISTINCT ?o) AS ?objs\n",
    "WHERE {\n",
    "           \n",
    "    wd:Q213678 ?p ?o.\n",
    "    ?p <http://schema.org/name> ?pname.\n",
    "    \n",
    "}\n",
    "GROUP BY ?p ?pname\n",
    "ORDER BY DESC(?objs)\n",
    "\"\"\"\n",
    "\n",
    "print(\"Results\")\n",
    "run_query(queryString)"
   ]
  },
  {
   "cell_type": "markdown",
   "id": "82bb0572-9277-4a0a-88bf-6b9dfd340456",
   "metadata": {},
   "source": [
    "I found no useful property in this direction, therefore I am going to check the subjects linked to the properties I discovered in the previous query."
   ]
  },
  {
   "cell_type": "code",
   "execution_count": 73,
   "id": "2219f37f-16b9-46f5-a284-6ebd6ec6632b",
   "metadata": {},
   "outputs": [
    {
     "name": "stdout",
     "output_type": "stream",
     "text": [
      "Results\n",
      "[('i', 'http://www.wikidata.org/entity/Q48498'), ('instanceOf', 'illuminated manuscript'), ('subjs', '13')]\n",
      "[('i', 'http://www.wikidata.org/entity/Q87167'), ('instanceOf', 'manuscript'), ('subjs', '5')]\n",
      "[('i', 'http://www.wikidata.org/entity/Q5292'), ('instanceOf', 'encyclopedia'), ('subjs', '4')]\n",
      "[('i', 'http://www.wikidata.org/entity/Q830560'), ('instanceOf', 'bestiary'), ('subjs', '4')]\n",
      "[('i', 'http://www.wikidata.org/entity/Q213924'), ('instanceOf', 'codex'), ('subjs', '2')]\n",
      "[('i', 'http://www.wikidata.org/entity/Q7725634'), ('instanceOf', 'literary work'), ('subjs', '2')]\n",
      "[('i', 'http://www.wikidata.org/entity/Q856638'), ('instanceOf', 'library catalog'), ('subjs', '1')]\n",
      "[('i', 'http://www.wikidata.org/entity/Q1754581'), ('instanceOf', 'Evangeliary'), ('subjs', '1')]\n",
      "[('i', 'http://www.wikidata.org/entity/Q3052382'), ('instanceOf', 'fonds'), ('subjs', '1')]\n",
      "[('i', 'http://www.wikidata.org/entity/Q5'), ('instanceOf', 'human'), ('subjs', '1')]\n",
      "[('i', 'http://www.wikidata.org/entity/Q1982918'), ('instanceOf', 'online public access catalog'), ('subjs', '1')]\n",
      "[('i', 'http://www.wikidata.org/entity/Q22669139'), ('instanceOf', 'fresco'), ('subjs', '1')]\n",
      "[('i', 'http://www.wikidata.org/entity/Q22948347'), ('instanceOf', 'early Quranic manuscript'), ('subjs', '1')]\n",
      "[('i', 'http://www.wikidata.org/entity/Q225672'), ('instanceOf', 'breviary'), ('subjs', '1')]\n",
      "[('i', 'http://www.wikidata.org/entity/Q586744'), ('instanceOf', 'sacramentary'), ('subjs', '1')]\n",
      "[('i', 'http://www.wikidata.org/entity/Q833590'), ('instanceOf', 'missal'), ('subjs', '1')]\n",
      "[('i', 'http://www.wikidata.org/entity/Q1114838'), ('instanceOf', 'Legendarium'), ('subjs', '1')]\n"
     ]
    },
    {
     "data": {
      "text/plain": [
       "17"
      ]
     },
     "execution_count": 73,
     "metadata": {},
     "output_type": "execute_result"
    }
   ],
   "source": [
    "queryString = \"\"\"\n",
    "SELECT ?i ?instanceOf COUNT(DISTINCT ?s) AS ?subjs\n",
    "WHERE {\n",
    "           \n",
    "    ?s wdt:P127|wdt:P276|wdt:P485 wd:Q213678;\n",
    "        wdt:P31 ?i.\n",
    "    ?i <http://schema.org/name> ?instanceOf.\n",
    "    \n",
    "}\n",
    "GROUP BY ?i ?instanceOf\n",
    "ORDER BY DESC(?subjs)\n",
    "\"\"\"\n",
    "\n",
    "print(\"Results\")\n",
    "run_query(queryString)"
   ]
  },
  {
   "cell_type": "markdown",
   "id": "da7c0e3c-c75a-4de4-bd23-5d8659fa4349",
   "metadata": {},
   "source": [
    "The objects of such properties are books therefore I can retrieve which books are stored in the Vatican Library by means of these three properties."
   ]
  },
  {
   "cell_type": "markdown",
   "id": "69cb5b9a-37ec-4ab5-af6c-0e52f9b8b2f1",
   "metadata": {
    "tags": []
   },
   "source": [
    "### Retrieving authors who won a Nobel Literature Prize whose books are not stored in the Vatican Library"
   ]
  },
  {
   "cell_type": "markdown",
   "id": "99882d24-234e-4637-b403-c4f776a0676c",
   "metadata": {},
   "source": [
    "I use the query from the previous question to retrieve authors who won a Nobel Literature Prize and I check if their books are stored in the Vatican Library."
   ]
  },
  {
   "cell_type": "code",
   "execution_count": 74,
   "id": "afdc06a1-0ce9-4fdd-aeed-c30817c62178",
   "metadata": {},
   "outputs": [
    {
     "name": "stdout",
     "output_type": "stream",
     "text": [
      "Results\n",
      "[('w', 'http://www.wikidata.org/entity/Q7728'), ('writerName', 'Grazia Deledda')]\n",
      "[('w', 'http://www.wikidata.org/entity/Q43440'), ('writerName', 'Giosuè Carducci')]\n",
      "[('w', 'http://www.wikidata.org/entity/Q1403'), ('writerName', 'Luigi Pirandello')]\n",
      "[('w', 'http://www.wikidata.org/entity/Q765'), ('writerName', 'Dario Fo')]\n",
      "[('w', 'http://www.wikidata.org/entity/Q83038'), ('writerName', 'Salvatore Quasimodo')]\n"
     ]
    },
    {
     "data": {
      "text/plain": [
       "5"
      ]
     },
     "execution_count": 74,
     "metadata": {},
     "output_type": "execute_result"
    }
   ],
   "source": [
    "queryString = \"\"\"\n",
    "SELECT DISTINCT ?w ?writerName\n",
    "WHERE {\n",
    "           \n",
    "    ?w wdt:P106 wd:Q36180;\n",
    "       wdt:P166 wd:Q37922;\n",
    "       wdt:P27 ?c.\n",
    "       \n",
    "    ?w <http://schema.org/name> ?writerName.\n",
    "    \n",
    "    FILTER(?c = wd:Q38 || ?c = wd:Q172579).\n",
    "    \n",
    "    FILTER NOT EXISTS{\n",
    "        ?b wdt:P50 ?w;\n",
    "           wdt:P127|wdt:P276|wdt:P485 wd:Q213678;\n",
    "           wdt:P31 ?books.\n",
    "        FILTER(?books = wd:Q571 || ?books = wd:Q7725634 || ?books = wd:Q47461344).\n",
    "    }\n",
    "    \n",
    "}\n",
    "\"\"\"\n",
    "\n",
    "print(\"Results\")\n",
    "run_query(queryString)"
   ]
  },
  {
   "cell_type": "markdown",
   "id": "e120bbc9-a751-42d1-afc0-d3e8c94a1256",
   "metadata": {},
   "source": [
    "It turns out none of the authors who won a Nobel Literature Prize have a book stored in the Vatican Library. I now retrieve the one with more books not stored in the Vatican Library."
   ]
  },
  {
   "cell_type": "code",
   "execution_count": 75,
   "id": "81bcf097-2ce6-4950-bb37-9e0ef4303d70",
   "metadata": {},
   "outputs": [
    {
     "name": "stdout",
     "output_type": "stream",
     "text": [
      "Results\n",
      "[('writerName', 'Luigi Pirandello'), ('numberBooks', '45')]\n"
     ]
    },
    {
     "data": {
      "text/plain": [
       "1"
      ]
     },
     "execution_count": 75,
     "metadata": {},
     "output_type": "execute_result"
    }
   ],
   "source": [
    "queryString = \"\"\"\n",
    "SELECT ?writerName COUNT(DISTINCT ?b) AS ?numberBooks\n",
    "WHERE {\n",
    "           \n",
    "    ?w wdt:P106 wd:Q36180;\n",
    "       wdt:P166 wd:Q37922;\n",
    "       wdt:P27 ?c.\n",
    "    \n",
    "    ?b wdt:P50 ?w;\n",
    "       wdt:P31 ?books.\n",
    "       \n",
    "    ?w <http://schema.org/name> ?writerName.\n",
    "    \n",
    "    FILTER(?c = wd:Q38 || ?c = wd:Q172579).\n",
    "    FILTER(?books = wd:Q571 || ?books = wd:Q7725634 || ?books = wd:Q47461344).\n",
    "    \n",
    "    FILTER NOT EXISTS{ ?b wdt:P127|wdt:P276|wdt:P485 wd:Q213678. }\n",
    "    \n",
    "}\n",
    "GROUP BY ?writerName\n",
    "ORDER BY DESC(?numberBooks)\n",
    "LIMIT 1\n",
    "\"\"\"\n",
    "\n",
    "print(\"Results\")\n",
    "run_query(queryString)"
   ]
  },
  {
   "cell_type": "markdown",
   "id": "dc0eb3ce-d9e4-4fea-abf8-51b4065cd542",
   "metadata": {},
   "source": [
    "Luigi Pirandello is the author who won a Nobel Literature PRize with the highest number of books not store in the Vatican Library."
   ]
  },
  {
   "cell_type": "code",
   "execution_count": null,
   "id": "1c23d69a-5b12-4d77-9757-1386298b8a24",
   "metadata": {},
   "outputs": [],
   "source": []
  }
 ],
 "metadata": {
  "kernelspec": {
   "display_name": "Python 3",
   "language": "python",
   "name": "python3"
  },
  "language_info": {
   "codemirror_mode": {
    "name": "ipython",
    "version": 3
   },
   "file_extension": ".py",
   "mimetype": "text/x-python",
   "name": "python",
   "nbconvert_exporter": "python",
   "pygments_lexer": "ipython3",
   "version": "3.7.10"
  }
 },
 "nbformat": 4,
 "nbformat_minor": 5
}
