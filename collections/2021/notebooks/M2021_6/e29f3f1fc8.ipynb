{
 "cells": [
  {
   "cell_type": "markdown",
   "id": "7034c3bf-6eb0-4418-8687-7b9d2a501103",
   "metadata": {},
   "source": [
    "# General instructions\n",
    "\n",
    "The goal of the project is to materialize a set of **exploratory workloads** over a real-world, large-scale,  open-domain KG: [WikiData](https://www.wikidata.org/wiki/Wikidata:Main_Page)\n",
    "\n",
    "An exploratory workload  is composed by a set of queries, where each query is related to the information obtained previously.\n",
    "\n",
    "An exploratory workload starts with a usually vague, open ended question, and does not assume the person issuing the workload has a clear understanding of the data contained in the target database or its structure.\n",
    "\n",
    "Remeber that:\n",
    "\n",
    "1. All the queries must run in the python notebook\n",
    "2. You can use classes and properties only if you find them via a SPARQL query that must be present in the notebook\n",
    "3. You do not delete useless queries. Keep everything that is synthatically valid \n",
    "\n",
    "```\n",
    "?p <http://schema.org/name> ?name .\n",
    "```\n",
    "    \n",
    "is the BGP returning a human-readable name of a property or a class in Wikidata.\n",
    "    \n",
    "    "
   ]
  },
  {
   "cell_type": "code",
   "execution_count": 2,
   "id": "3605c9d5-5371-49a5-be8d-d66e8f417139",
   "metadata": {},
   "outputs": [],
   "source": [
    "## SETUP used later\n",
    "\n",
    "from SPARQLWrapper import SPARQLWrapper, JSON\n",
    "\n",
    "\n",
    "prefixString = \"\"\"\n",
    "##-NOTEBOOK_CODE_HERE-##\n",
    "PREFIX wd: <http://www.wikidata.org/entity/> \n",
    "PREFIX wdt: <http://www.wikidata.org/prop/direct/> \n",
    "PREFIX sc: <http://schema.org/>\n",
    "\"\"\"\n",
    "\n",
    "# select and construct queries\n",
    "def run_query(queryString):\n",
    "    to_run = prefixString + \"\\n\" + queryString\n",
    "\n",
    "    sparql = SPARQLWrapper(\"http://a256-gc1-02.srv.aau.dk:5820/sparql\")\n",
    "    sparql.setTimeout(300)\n",
    "    sparql.setReturnFormat(JSON)\n",
    "    sparql.setQuery(to_run)\n",
    "\n",
    "    try :\n",
    "       results = sparql.query()\n",
    "       json_results = results.convert()\n",
    "       if len(json_results['results']['bindings'])==0:\n",
    "          print(\"Empty\")\n",
    "          return 0\n",
    "    \n",
    "       for bindings in json_results['results']['bindings']:\n",
    "          print( [ (var, value['value'])  for var, value in bindings.items() ] )\n",
    "\n",
    "       return len(json_results['results']['bindings'])\n",
    "\n",
    "    except Exception as e :\n",
    "        print(\"The operation failed\", e)\n",
    "    \n",
    "# ASk queries\n",
    "def run_ask_query(queryString):\n",
    "    to_run = prefixString + \"\\n\" + queryString\n",
    "\n",
    "    sparql = SPARQLWrapper(\"http://a256-gc1-02.srv.aau.dk:5820/sparql\")\n",
    "    sparql.setTimeout(300)\n",
    "    sparql.setReturnFormat(JSON)\n",
    "    sparql.setQuery(to_run)\n",
    "\n",
    "    try :\n",
    "        return sparql.query().convert()\n",
    "\n",
    "    except Exception as e :\n",
    "        print(\"The operation failed\", e)\n"
   ]
  },
  {
   "cell_type": "markdown",
   "id": "d477a59c-a68c-4c8f-9f97-8ca5294d7d27",
   "metadata": {},
   "source": [
    "# Sport Workflow Series (\"F1 pilots explorative search\") \n",
    "\n",
    "Consider the following exploratory information need:\n",
    "\n",
    "> explore F1 pilots, their nationality, racing teams, and the country of the parent organization of the team"
   ]
  },
  {
   "cell_type": "markdown",
   "id": "4a45c0ba-f79e-441d-bec5-84401b09db70",
   "metadata": {},
   "source": [
    "## Useful URIs for the current workflow\n",
    "\n",
    "\n",
    "The following are given:\n",
    "\n",
    "| IRI           | Description   | Role      |\n",
    "| -----------   | -----------   |-----------|\n",
    "| `wdt:P1647`   | subproperty   | predicate |\n",
    "| `wdt:P31`     | instance of   | predicate |\n",
    "| `wdt:P106`    | profession    | predicate | \n",
    "| `wdt:P279`    | subclass      | predicate |\n",
    "| `wdt:P27`     | nationality   | predicate |\n",
    "| `wdt:P17`     | country       | predicate |\n",
    "| `wd:Q10497835`| F1 Team       | node |\n",
    "| `wd:Q10841764`| F1 Driver       | node |\n",
    "| `wd:Q9671`    | Michael Schumacher      | node |\n",
    "| `wd:Q169898`  | Scuderia Ferrari         | node |\n",
    "| `wd:Q27586`   |  Ferrari         | node |\n",
    "| `wd:Q183`     | Germany       | node |\n",
    "\n",
    "\n",
    "Also consider\n",
    "\n",
    "```\n",
    "?p wdt:P106 wd:Q10841764 .\n",
    "?p wdt:P27 wd:Q183 .\n",
    "```\n",
    "\n",
    "is the BGP to retrieve all **citizens of Germany**\n",
    "\n",
    "```\n",
    "?p wdt:P17 wd:Q183 .\n",
    "?p wdt:P31 wd:Q10497835 .\n",
    "\n",
    "``` \n",
    "\n",
    "is the BGP to retrieve all **F1 teams of Germany**"
   ]
  },
  {
   "cell_type": "markdown",
   "id": "7af439fb-96e4-4dbb-a381-f19afab79f86",
   "metadata": {
    "tags": []
   },
   "source": [
    "## Workload Goals\n",
    "\n",
    "1. Identify the BGP for obtaining the team of a given  F1 driver  and also the F1 competitions in which they participated\n",
    "\n",
    "2. Identify the BGP that connects a F1 team to a parent company\n",
    "\n",
    "3. How many F1 drivers and F1 teams exist in each country?\n",
    "\n",
    "4. Compare number of F1 drivers to their nationality\n",
    " \n",
    "   4.1 Is there some driver that joined a team in their own country?\n",
    "   \n",
    "   4.2 Which team employed the larger number of drivers?\n",
    "   \n",
    "   4.3 For each country , which are the teams and drivers with the highest number of F1 race participations\n"
   ]
  },
  {
   "cell_type": "code",
   "execution_count": 3,
   "id": "24a853ab-830c-422c-afd3-e9e015b8b8ed",
   "metadata": {},
   "outputs": [],
   "source": [
    "# start your workflow here"
   ]
  },
  {
   "cell_type": "code",
   "execution_count": 4,
   "id": "ade01416-92e7-4ad7-b9a9-b8fb330750dc",
   "metadata": {},
   "outputs": [
    {
     "name": "stdout",
     "output_type": "stream",
     "text": [
      "Results\n",
      "[('callret-0', '58')]\n"
     ]
    },
    {
     "data": {
      "text/plain": [
       "1"
      ]
     },
     "execution_count": 4,
     "metadata": {},
     "output_type": "execute_result"
    }
   ],
   "source": [
    "queryString = \"\"\"\n",
    "SELECT COUNT(*)\n",
    "WHERE { \n",
    "\n",
    "?p wdt:P106 wd:Q10841764 .\n",
    "?p wdt:P27 wd:Q183 .\n",
    "\n",
    "} \n",
    "\"\"\"\n",
    "\n",
    "print(\"Results\")\n",
    "run_query(queryString)"
   ]
  },
  {
   "cell_type": "markdown",
   "id": "aa08e9fe-c799-4862-9f09-5f9f815aec60",
   "metadata": {},
   "source": [
    "# Workload 1"
   ]
  },
  {
   "cell_type": "code",
   "execution_count": null,
   "id": "3822d233-53d8-4bfa-8849-ac937af49d2d",
   "metadata": {},
   "outputs": [],
   "source": [
    "# 1. Identify the BGP for obtaining the team of a given F1 driver and also the F1 competitions in which they participated"
   ]
  },
  {
   "cell_type": "code",
   "execution_count": 44,
   "id": "f1c68afb-e09c-49a9-99ff-6b277cdb852d",
   "metadata": {},
   "outputs": [],
   "source": [
    "# To find the IRI of each team and to explore it, we can start from the given node wd:Q10497835 --> F1 Team"
   ]
  },
  {
   "cell_type": "code",
   "execution_count": 45,
   "id": "352193e6-9287-48fc-b8ef-dd3cb76950de",
   "metadata": {},
   "outputs": [
    {
     "name": "stdout",
     "output_type": "stream",
     "text": [
      "Results\n",
      "[('s', 'http://www.wikidata.org/entity/Q141818'), ('sname', 'Scuderia Toro Rosso')]\n",
      "[('s', 'http://www.wikidata.org/entity/Q173663'), ('sname', 'Red Bull Racing')]\n",
      "[('s', 'http://www.wikidata.org/entity/Q142381'), ('sname', 'Minardi')]\n",
      "[('s', 'http://www.wikidata.org/entity/Q171320'), ('sname', 'British American Racing')]\n",
      "[('s', 'http://www.wikidata.org/entity/Q171420'), ('sname', 'HRT Formula One Team')]\n",
      "[('s', 'http://www.wikidata.org/entity/Q171992'), ('sname', 'Tyrrell Racing')]\n",
      "[('s', 'http://www.wikidata.org/entity/Q172765'), ('sname', 'Spyker F1')]\n",
      "[('s', 'http://www.wikidata.org/entity/Q172974'), ('sname', 'Forti')]\n",
      "[('s', 'http://www.wikidata.org/entity/Q173012'), ('sname', 'British Racing Motors')]\n",
      "[('s', 'http://www.wikidata.org/entity/Q173054'), ('sname', 'Midland F1 Racing')]\n"
     ]
    },
    {
     "data": {
      "text/plain": [
       "10"
      ]
     },
     "execution_count": 45,
     "metadata": {},
     "output_type": "execute_result"
    }
   ],
   "source": [
    "queryString = \"\"\"\n",
    "SELECT  ?s ?sname\n",
    "WHERE { \n",
    "\n",
    "?s wdt:P31 wd:Q10497835 .\n",
    "\n",
    "?s <http://schema.org/name> ?sname .\n",
    "\n",
    "} \n",
    "\n",
    "LIMIT 10\n",
    "\"\"\"\n",
    "\n",
    "print(\"Results\")\n",
    "run_query(queryString)"
   ]
  },
  {
   "cell_type": "code",
   "execution_count": 46,
   "id": "7c7b7882-ace6-4046-b570-64fbc73d9a2e",
   "metadata": {},
   "outputs": [],
   "source": [
    "# Explore one F1 team: for example Scuderia Ferrari --> wd:Q169898"
   ]
  },
  {
   "cell_type": "code",
   "execution_count": 47,
   "id": "0326abfc-ee7d-4336-81e5-2a259a1af55c",
   "metadata": {},
   "outputs": [
    {
     "name": "stdout",
     "output_type": "stream",
     "text": [
      "Results\n",
      "[('p', 'http://www.wikidata.org/prop/direct/P108'), ('pname', 'employer')]\n",
      "[('p', 'http://www.wikidata.org/prop/direct/P1346'), ('pname', 'winner')]\n",
      "[('p', 'http://www.wikidata.org/prop/direct/P176'), ('pname', 'manufacturer')]\n",
      "[('p', 'http://www.wikidata.org/prop/direct/P301'), ('pname', \"category's main topic\")]\n",
      "[('p', 'http://www.wikidata.org/prop/direct/P355'), ('pname', 'subsidiary')]\n",
      "[('p', 'http://www.wikidata.org/prop/direct/P463'), ('pname', 'member of')]\n",
      "[('p', 'http://www.wikidata.org/prop/direct/P54'), ('pname', 'member of sports team')]\n",
      "[('p', 'http://www.wikidata.org/prop/direct/P664'), ('pname', 'organizer')]\n",
      "[('p', 'http://www.wikidata.org/prop/direct/P749'), ('pname', 'parent organization')]\n",
      "[('p', 'http://www.wikidata.org/prop/direct/P921'), ('pname', 'main subject')]\n",
      "[('p', 'http://www.wikidata.org/prop/direct/P1923'), ('pname', 'participating team')]\n",
      "[('p', 'http://www.wikidata.org/prop/direct/P3764'), ('pname', 'pole position')]\n"
     ]
    },
    {
     "data": {
      "text/plain": [
       "12"
      ]
     },
     "execution_count": 47,
     "metadata": {},
     "output_type": "execute_result"
    }
   ],
   "source": [
    "queryString = \"\"\"\n",
    "SELECT DISTINCT ?p ?pname\n",
    "WHERE { \n",
    "\n",
    "?s ?p wd:Q169898 .\n",
    "\n",
    "?p <http://schema.org/name> ?pname .\n",
    "} \n",
    "\n",
    "LIMIT 20\n",
    "\"\"\"\n",
    "\n",
    "print(\"Results\")\n",
    "run_query(queryString)"
   ]
  },
  {
   "cell_type": "code",
   "execution_count": 48,
   "id": "81f9a63a-369c-484d-9764-749a8216e761",
   "metadata": {},
   "outputs": [],
   "source": [
    "# I want to look who are the 'member of' --> wdt:P463"
   ]
  },
  {
   "cell_type": "code",
   "execution_count": 49,
   "id": "29bef9ba-c90e-4fc2-acad-0d5fb5c3a465",
   "metadata": {},
   "outputs": [
    {
     "name": "stdout",
     "output_type": "stream",
     "text": [
      "Results\n",
      "[('s', 'http://www.wikidata.org/entity/Q171432'), ('sname', 'Didier Pironi')]\n"
     ]
    },
    {
     "data": {
      "text/plain": [
       "1"
      ]
     },
     "execution_count": 49,
     "metadata": {},
     "output_type": "execute_result"
    }
   ],
   "source": [
    "queryString = \"\"\"\n",
    "SELECT DISTINCT ?s ?sname\n",
    "WHERE { \n",
    "\n",
    "?s wdt:P463 wd:Q169898 .\n",
    "\n",
    "?s <http://schema.org/name> ?sname .\n",
    "} \n",
    "\n",
    "LIMIT 20\n",
    "\"\"\"\n",
    "\n",
    "print(\"Results\")\n",
    "run_query(queryString)"
   ]
  },
  {
   "cell_type": "code",
   "execution_count": 50,
   "id": "f6e79a35-afb9-47b2-ab71-b466618da6e0",
   "metadata": {},
   "outputs": [],
   "source": [
    "# I want to look who are the 'employer' --> wdt:P108"
   ]
  },
  {
   "cell_type": "code",
   "execution_count": 51,
   "id": "e5257354-f593-4e3f-9e43-49a2ae4d1241",
   "metadata": {},
   "outputs": [
    {
     "name": "stdout",
     "output_type": "stream",
     "text": [
      "Results\n",
      "[('s', 'http://www.wikidata.org/entity/Q2835947'), ('sname', 'Ben Agathangelou')]\n",
      "[('s', 'http://www.wikidata.org/entity/Q7107447'), ('sname', 'Ossi Oikarinen')]\n",
      "[('s', 'http://www.wikidata.org/entity/Q3165116'), ('sname', 'Jean-Claude Migeot')]\n",
      "[('s', 'http://www.wikidata.org/entity/Q173631'), ('sname', 'Pat Fry')]\n",
      "[('s', 'http://www.wikidata.org/entity/Q19788193'), ('sname', 'Mattia Binotto')]\n",
      "[('s', 'http://www.wikidata.org/entity/Q173692'), ('sname', 'Loïc Bigois')]\n",
      "[('s', 'http://www.wikidata.org/entity/Q173232'), ('sname', 'Jock Clear')]\n",
      "[('s', 'http://www.wikidata.org/entity/Q173629'), ('sname', 'Nikolas Tombazis')]\n",
      "[('s', 'http://www.wikidata.org/entity/Q18572825'), ('sname', 'Maurizio Arrivabene')]\n",
      "[('s', 'http://www.wikidata.org/entity/Q63992826'), ('sname', 'Diane Holl')]\n",
      "[('s', 'http://www.wikidata.org/entity/Q173658'), ('sname', 'Mauro Forghieri')]\n",
      "[('s', 'http://www.wikidata.org/entity/Q173555'), ('sname', 'Nigel Stepney')]\n"
     ]
    },
    {
     "data": {
      "text/plain": [
       "12"
      ]
     },
     "execution_count": 51,
     "metadata": {},
     "output_type": "execute_result"
    }
   ],
   "source": [
    "queryString = \"\"\"\n",
    "SELECT DISTINCT ?s ?sname\n",
    "WHERE { \n",
    "\n",
    "?s wdt:P108 wd:Q169898 .\n",
    "\n",
    "?s <http://schema.org/name> ?sname .\n",
    "} \n",
    "\n",
    "LIMIT 20\n",
    "\"\"\"\n",
    "\n",
    "print(\"Results\")\n",
    "run_query(queryString)"
   ]
  },
  {
   "cell_type": "code",
   "execution_count": null,
   "id": "784a723e-ffd0-4997-8c32-587276081b39",
   "metadata": {},
   "outputs": [],
   "source": [
    "# I want to look who are the 'partacipating team' --> wdt:P1923"
   ]
  },
  {
   "cell_type": "code",
   "execution_count": 52,
   "id": "502b0dd9-75e0-4e5e-8abe-bcd9849a2652",
   "metadata": {},
   "outputs": [
    {
     "name": "stdout",
     "output_type": "stream",
     "text": [
      "Results\n",
      "[('s', 'http://www.wikidata.org/entity/Q17455748'), ('sname', '2016 Formula One World Championship')]\n",
      "[('s', 'http://www.wikidata.org/entity/Q20755615'), ('sname', '2017 Formula One World Championship')]\n",
      "[('s', 'http://www.wikidata.org/entity/Q23051084'), ('sname', '2018 Formula One World Championship')]\n"
     ]
    },
    {
     "data": {
      "text/plain": [
       "3"
      ]
     },
     "execution_count": 52,
     "metadata": {},
     "output_type": "execute_result"
    }
   ],
   "source": [
    "queryString = \"\"\"\n",
    "SELECT DISTINCT ?s ?sname\n",
    "WHERE { \n",
    "\n",
    "?s wdt:P1923 wd:Q169898 .\n",
    "\n",
    "?s <http://schema.org/name> ?sname .\n",
    "} \n",
    "\n",
    "LIMIT 20\n",
    "\"\"\"\n",
    "\n",
    "print(\"Results\")\n",
    "run_query(queryString)"
   ]
  },
  {
   "cell_type": "code",
   "execution_count": 53,
   "id": "56e23d1f-2cc4-4c83-af47-4d385aae8468",
   "metadata": {},
   "outputs": [],
   "source": [
    "# Now explore the properties of F1 driver: given  wd:Q10841764 F1 Driver"
   ]
  },
  {
   "cell_type": "code",
   "execution_count": 54,
   "id": "1fe4750b-3bab-4eee-831f-c19a220e831c",
   "metadata": {},
   "outputs": [
    {
     "name": "stdout",
     "output_type": "stream",
     "text": [
      "Results\n",
      "[('p', 'http://www.wikidata.org/prop/direct/P1424'), ('pname', \"topic's main template\")]\n",
      "[('p', 'http://www.wikidata.org/prop/direct/P2354'), ('pname', 'has list')]\n",
      "[('p', 'http://www.wikidata.org/prop/direct/P279'), ('pname', 'subclass of')]\n",
      "[('p', 'http://www.wikidata.org/prop/direct/P31'), ('pname', 'instance of')]\n",
      "[('p', 'http://www.wikidata.org/prop/direct/P425'), ('pname', 'field of this occupation')]\n",
      "[('p', 'http://www.wikidata.org/prop/direct/P8408'), ('pname', 'KBpedia ID')]\n",
      "[('p', 'http://www.wikidata.org/prop/direct/P910'), ('pname', \"topic's main category\")]\n"
     ]
    },
    {
     "data": {
      "text/plain": [
       "7"
      ]
     },
     "execution_count": 54,
     "metadata": {},
     "output_type": "execute_result"
    }
   ],
   "source": [
    "queryString = \"\"\"\n",
    "SELECT  ?p ?pname\n",
    "WHERE { \n",
    "\n",
    "wd:Q10841764 ?p ?o .\n",
    "\n",
    "?p <http://schema.org/name> ?pname .\n",
    "} \n",
    "\n",
    "LIMIT 10\n",
    "\"\"\"\n",
    "\n",
    "print(\"Results\")\n",
    "run_query(queryString)"
   ]
  },
  {
   "cell_type": "code",
   "execution_count": 55,
   "id": "ff6b0ee1-dcee-4d2f-b8a4-aba2509ac84d",
   "metadata": {},
   "outputs": [],
   "source": [
    "# Now explore all properties linked to F1 driver  "
   ]
  },
  {
   "cell_type": "code",
   "execution_count": 56,
   "id": "3c5a33ca-80be-4135-9a45-41008c785004",
   "metadata": {},
   "outputs": [
    {
     "name": "stdout",
     "output_type": "stream",
     "text": [
      "Results\n",
      "[('p', 'http://www.wikidata.org/prop/direct/P1423'), ('pname', 'template has topic')]\n",
      "[('p', 'http://www.wikidata.org/prop/direct/P106'), ('pname', 'occupation')]\n",
      "[('p', 'http://www.wikidata.org/prop/direct/P1269'), ('pname', 'facet of')]\n",
      "[('p', 'http://www.wikidata.org/prop/direct/P1535'), ('pname', 'used by')]\n",
      "[('p', 'http://www.wikidata.org/prop/direct/P301'), ('pname', \"category's main topic\")]\n",
      "[('p', 'http://www.wikidata.org/prop/direct/P3095'), ('pname', 'practiced by')]\n",
      "[('p', 'http://www.wikidata.org/prop/direct/P360'), ('pname', 'is a list of')]\n",
      "[('p', 'http://www.wikidata.org/prop/direct/P971'), ('pname', 'category combines topics')]\n"
     ]
    },
    {
     "data": {
      "text/plain": [
       "8"
      ]
     },
     "execution_count": 56,
     "metadata": {},
     "output_type": "execute_result"
    }
   ],
   "source": [
    "queryString = \"\"\"\n",
    "SELECT DISTINCT ?p ?pname\n",
    "WHERE { \n",
    "\n",
    "?s ?p wd:Q10841764 .\n",
    "\n",
    "?p <http://schema.org/name> ?pname .\n",
    "} \n",
    "\n",
    "LIMIT 10\n",
    "\"\"\"\n",
    "\n",
    "print(\"Results\")\n",
    "run_query(queryString)"
   ]
  },
  {
   "cell_type": "code",
   "execution_count": 57,
   "id": "bb25619f-2130-45a4-81e7-9cbda50ca2c1",
   "metadata": {},
   "outputs": [],
   "source": [
    "# Now explore a given driver wd:Q9671 Michael Schumacher"
   ]
  },
  {
   "cell_type": "code",
   "execution_count": 58,
   "id": "525ccf82-a67b-4765-9fa3-d043ed877d53",
   "metadata": {},
   "outputs": [
    {
     "name": "stdout",
     "output_type": "stream",
     "text": [
      "Results\n",
      "[('p', 'http://www.wikidata.org/prop/direct/P1006'), ('pname', 'Nationale Thesaurus voor Auteurs ID')]\n",
      "[('p', 'http://www.wikidata.org/prop/direct/P103'), ('pname', 'native language')]\n",
      "[('p', 'http://www.wikidata.org/prop/direct/P106'), ('pname', 'occupation')]\n",
      "[('p', 'http://www.wikidata.org/prop/direct/P108'), ('pname', 'employer')]\n",
      "[('p', 'http://www.wikidata.org/prop/direct/P109'), ('pname', 'signature')]\n",
      "[('p', 'http://www.wikidata.org/prop/direct/P1258'), ('pname', 'Rotten Tomatoes ID')]\n",
      "[('p', 'http://www.wikidata.org/prop/direct/P1263'), ('pname', 'NNDB people ID')]\n",
      "[('p', 'http://www.wikidata.org/prop/direct/P1266'), ('pname', 'AlloCiné person ID')]\n",
      "[('p', 'http://www.wikidata.org/prop/direct/P1273'), ('pname', 'CANTIC ID')]\n",
      "[('p', 'http://www.wikidata.org/prop/direct/P1280'), ('pname', 'CONOR.SI ID')]\n",
      "[('p', 'http://www.wikidata.org/prop/direct/P1285'), ('pname', 'Munzinger Sport number')]\n",
      "[('p', 'http://www.wikidata.org/prop/direct/P1296'), ('pname', 'Gran Enciclopèdia Catalana ID')]\n",
      "[('p', 'http://www.wikidata.org/prop/direct/P1343'), ('pname', 'described by source')]\n",
      "[('p', 'http://www.wikidata.org/prop/direct/P1344'), ('pname', 'participant in')]\n",
      "[('p', 'http://www.wikidata.org/prop/direct/P1350'), ('pname', 'number of matches played/races/starts')]\n",
      "[('p', 'http://www.wikidata.org/prop/direct/P1412'), ('pname', 'languages spoken, written or signed')]\n",
      "[('p', 'http://www.wikidata.org/prop/direct/P1417'), ('pname', 'Encyclopædia Britannica Online ID')]\n",
      "[('p', 'http://www.wikidata.org/prop/direct/P1532'), ('pname', 'country for sport')]\n",
      "[('p', 'http://www.wikidata.org/prop/direct/P166'), ('pname', 'award received')]\n",
      "[('p', 'http://www.wikidata.org/prop/direct/P1695'), ('pname', 'NLP ID (unique)')]\n",
      "[('p', 'http://www.wikidata.org/prop/direct/P1712'), ('pname', 'Metacritic ID')]\n",
      "[('p', 'http://www.wikidata.org/prop/direct/P18'), ('pname', 'image')]\n",
      "[('p', 'http://www.wikidata.org/prop/direct/P1819'), ('pname', 'genealogics.org person ID')]\n",
      "[('p', 'http://www.wikidata.org/prop/direct/P19'), ('pname', 'place of birth')]\n",
      "[('p', 'http://www.wikidata.org/prop/direct/P1953'), ('pname', 'Discogs artist ID')]\n",
      "[('p', 'http://www.wikidata.org/prop/direct/P2002'), ('pname', 'Twitter username')]\n",
      "[('p', 'http://www.wikidata.org/prop/direct/P2003'), ('pname', 'Instagram username')]\n",
      "[('p', 'http://www.wikidata.org/prop/direct/P2013'), ('pname', 'Facebook ID')]\n",
      "[('p', 'http://www.wikidata.org/prop/direct/P2019'), ('pname', 'AllMovie person ID')]\n",
      "[('p', 'http://www.wikidata.org/prop/direct/P2048'), ('pname', 'height')]\n",
      "[('p', 'http://www.wikidata.org/prop/direct/P2094'), ('pname', 'competition class')]\n",
      "[('p', 'http://www.wikidata.org/prop/direct/P21'), ('pname', 'sex or gender')]\n",
      "[('p', 'http://www.wikidata.org/prop/direct/P213'), ('pname', 'ISNI')]\n",
      "[('p', 'http://www.wikidata.org/prop/direct/P214'), ('pname', 'VIAF ID')]\n",
      "[('p', 'http://www.wikidata.org/prop/direct/P2163'), ('pname', 'FAST ID')]\n",
      "[('p', 'http://www.wikidata.org/prop/direct/P2168'), ('pname', 'Swedish Film Database person ID')]\n",
      "[('p', 'http://www.wikidata.org/prop/direct/P227'), ('pname', 'GND ID')]\n",
      "[('p', 'http://www.wikidata.org/prop/direct/P2397'), ('pname', 'YouTube channel ID')]\n",
      "[('p', 'http://www.wikidata.org/prop/direct/P2435'), ('pname', 'PORT person ID')]\n",
      "[('p', 'http://www.wikidata.org/prop/direct/P244'), ('pname', 'Library of Congress authority ID')]\n",
      "[('p', 'http://www.wikidata.org/prop/direct/P2522'), ('pname', 'victory')]\n",
      "[('p', 'http://www.wikidata.org/prop/direct/P26'), ('pname', 'spouse')]\n",
      "[('p', 'http://www.wikidata.org/prop/direct/P2604'), ('pname', 'Kinopoisk person ID')]\n",
      "[('p', 'http://www.wikidata.org/prop/direct/P2605'), ('pname', 'ČSFD person ID')]\n",
      "[('p', 'http://www.wikidata.org/prop/direct/P2639'), ('pname', 'Filmportal ID')]\n",
      "[('p', 'http://www.wikidata.org/prop/direct/P268'), ('pname', 'Bibliothèque nationale de France ID')]\n",
      "[('p', 'http://www.wikidata.org/prop/direct/P269'), ('pname', 'IdRef ID')]\n",
      "[('p', 'http://www.wikidata.org/prop/direct/P27'), ('pname', 'country of citizenship')]\n",
      "[('p', 'http://www.wikidata.org/prop/direct/P2924'), ('pname', 'Great Russian Encyclopedia Online ID')]\n",
      "[('p', 'http://www.wikidata.org/prop/direct/P3048'), ('pname', 'racing-reference.info driver ID')]\n",
      "[('p', 'http://www.wikidata.org/prop/direct/P31'), ('pname', 'instance of')]\n",
      "[('p', 'http://www.wikidata.org/prop/direct/P3219'), ('pname', 'Encyclopædia Universalis ID')]\n",
      "[('p', 'http://www.wikidata.org/prop/direct/P3222'), ('pname', 'NE.se ID')]\n",
      "[('p', 'http://www.wikidata.org/prop/direct/P3365'), ('pname', 'Treccani ID')]\n",
      "[('p', 'http://www.wikidata.org/prop/direct/P3373'), ('pname', 'sibling')]\n",
      "[('p', 'http://www.wikidata.org/prop/direct/P3417'), ('pname', 'Quora topic ID')]\n",
      "[('p', 'http://www.wikidata.org/prop/direct/P345'), ('pname', 'IMDb ID')]\n",
      "[('p', 'http://www.wikidata.org/prop/direct/P349'), ('pname', 'National Diet Library ID')]\n",
      "[('p', 'http://www.wikidata.org/prop/direct/P3553'), ('pname', 'Zhihu topic ID')]\n",
      "[('p', 'http://www.wikidata.org/prop/direct/P3684'), ('pname', 'Driver Database driver ID')]\n",
      "[('p', 'http://www.wikidata.org/prop/direct/P373'), ('pname', 'Commons category')]\n",
      "[('p', 'http://www.wikidata.org/prop/direct/P39'), ('pname', 'position held')]\n",
      "[('p', 'http://www.wikidata.org/prop/direct/P40'), ('pname', 'child')]\n",
      "[('p', 'http://www.wikidata.org/prop/direct/P434'), ('pname', 'MusicBrainz artist ID')]\n",
      "[('p', 'http://www.wikidata.org/prop/direct/P4342'), ('pname', 'Store norske leksikon ID')]\n",
      "[('p', 'http://www.wikidata.org/prop/direct/P443'), ('pname', 'pronunciation audio')]\n",
      "[('p', 'http://www.wikidata.org/prop/direct/P4438'), ('pname', 'BFI Films, TV and people ID')]\n",
      "[('p', 'http://www.wikidata.org/prop/direct/P4768'), ('pname', 'cinematografo.it name or company ID')]\n",
      "[('p', 'http://www.wikidata.org/prop/direct/P4779'), ('pname', 'MYmovies actor ID')]\n",
      "[('p', 'http://www.wikidata.org/prop/direct/P4782'), ('pname', 'Movieplayer person ID')]\n",
      "[('p', 'http://www.wikidata.org/prop/direct/P4985'), ('pname', 'TMDb person ID')]\n",
      "[('p', 'http://www.wikidata.org/prop/direct/P5007'), ('pname', 'Behind The Voice Actors person ID')]\n",
      "[('p', 'http://www.wikidata.org/prop/direct/P5019'), ('pname', 'Brockhaus Enzyklopädie online ID')]\n",
      "[('p', 'http://www.wikidata.org/prop/direct/P5254'), ('pname', 'FilmTv.it person ID')]\n",
      "[('p', 'http://www.wikidata.org/prop/direct/P5361'), ('pname', 'BNB person ID')]\n",
      "[('p', 'http://www.wikidata.org/prop/direct/P54'), ('pname', 'member of sports team')]\n",
      "[('p', 'http://www.wikidata.org/prop/direct/P5421'), ('pname', 'Trading Card Database person ID')]\n",
      "[('p', 'http://www.wikidata.org/prop/direct/P5617'), ('pname', 'Evene ID')]\n",
      "[('p', 'http://www.wikidata.org/prop/direct/P569'), ('pname', 'date of birth')]\n",
      "[('p', 'http://www.wikidata.org/prop/direct/P641'), ('pname', 'sport')]\n"
     ]
    },
    {
     "data": {
      "text/plain": [
       "80"
      ]
     },
     "execution_count": 58,
     "metadata": {},
     "output_type": "execute_result"
    }
   ],
   "source": [
    "queryString = \"\"\"\n",
    "SELECT DISTINCT ?p ?pname\n",
    "WHERE { \n",
    "\n",
    "wd:Q9671 ?p ?o .\n",
    "\n",
    "?p <http://schema.org/name> ?pname .\n",
    "} \n",
    "\n",
    "LIMIT 80\n",
    "\"\"\"\n",
    "\n",
    "print(\"Results\")\n",
    "run_query(queryString)"
   ]
  },
  {
   "cell_type": "code",
   "execution_count": null,
   "id": "ef637a60-7272-41cb-a15f-b25892dc601e",
   "metadata": {},
   "outputs": [],
   "source": [
    "# Explore 'occupation' --> wdt:P106"
   ]
  },
  {
   "cell_type": "code",
   "execution_count": 31,
   "id": "c03fc785-0656-4216-95d6-2e31a2c4c825",
   "metadata": {},
   "outputs": [
    {
     "name": "stdout",
     "output_type": "stream",
     "text": [
      "Results\n",
      "[('p', 'http://www.wikidata.org/entity/Q10841764'), ('pname', 'Formula One driver')]\n",
      "[('p', 'http://www.wikidata.org/entity/Q193391'), ('pname', 'diplomat')]\n",
      "[('p', 'http://www.wikidata.org/entity/Q3014296'), ('pname', 'motorcycle rider')]\n"
     ]
    },
    {
     "data": {
      "text/plain": [
       "3"
      ]
     },
     "execution_count": 31,
     "metadata": {},
     "output_type": "execute_result"
    }
   ],
   "source": [
    "queryString = \"\"\"\n",
    "SELECT DISTINCT ?p ?pname\n",
    "WHERE { \n",
    "\n",
    "wd:Q9671 wdt:P106 ?p .\n",
    "\n",
    "?p <http://schema.org/name> ?pname .\n",
    "} \n",
    "\n",
    "LIMIT 20\n",
    "\"\"\"\n",
    "\n",
    "print(\"Results\")\n",
    "run_query(queryString)"
   ]
  },
  {
   "cell_type": "code",
   "execution_count": null,
   "id": "745a5498-b320-44ae-bbf0-fa007a6de17e",
   "metadata": {},
   "outputs": [],
   "source": [
    "# Explore 'number of matches played/races/starts' --> wdt:P1350"
   ]
  },
  {
   "cell_type": "code",
   "execution_count": 60,
   "id": "d7fcffcc-4180-420c-adcc-a8cbd55f5843",
   "metadata": {},
   "outputs": [
    {
     "name": "stdout",
     "output_type": "stream",
     "text": [
      "Results\n",
      "[('p', '308')]\n"
     ]
    },
    {
     "data": {
      "text/plain": [
       "1"
      ]
     },
     "execution_count": 60,
     "metadata": {},
     "output_type": "execute_result"
    }
   ],
   "source": [
    "queryString = \"\"\"\n",
    "SELECT DISTINCT ?p \n",
    "WHERE { \n",
    "\n",
    "wd:Q9671 wdt:P1350 ?p .\n",
    "\n",
    "#?p <http://schema.org/name> ?pname .\n",
    "} \n",
    "\n",
    "LIMIT 20\n",
    "\"\"\"\n",
    "\n",
    "print(\"Results\")\n",
    "run_query(queryString)"
   ]
  },
  {
   "cell_type": "code",
   "execution_count": null,
   "id": "53ec4891-e052-46e8-95b8-a18e9956f340",
   "metadata": {},
   "outputs": [],
   "source": [
    "# Explore 'participant in' --> wdt:P1344"
   ]
  },
  {
   "cell_type": "code",
   "execution_count": 64,
   "id": "0ce367fa-82c2-4fb2-b074-59f5b92ed876",
   "metadata": {},
   "outputs": [
    {
     "name": "stdout",
     "output_type": "stream",
     "text": [
      "Results\n",
      "[('p', 'http://www.wikidata.org/entity/Q69713'), ('pname', '1994 Formula One season')]\n",
      "[('p', 'http://www.wikidata.org/entity/Q69722'), ('pname', '1995 Formula One season')]\n",
      "[('p', 'http://www.wikidata.org/entity/Q69805'), ('pname', '2000 Formula One season')]\n",
      "[('p', 'http://www.wikidata.org/entity/Q69835'), ('pname', '2001 Formula One season')]\n",
      "[('p', 'http://www.wikidata.org/entity/Q69844'), ('pname', '2002 Formula One season')]\n",
      "[('p', 'http://www.wikidata.org/entity/Q69859'), ('pname', '2003 Formula One season')]\n",
      "[('p', 'http://www.wikidata.org/entity/Q69869'), ('pname', '2004 Formula One season')]\n"
     ]
    },
    {
     "data": {
      "text/plain": [
       "7"
      ]
     },
     "execution_count": 64,
     "metadata": {},
     "output_type": "execute_result"
    }
   ],
   "source": [
    "queryString = \"\"\"\n",
    "SELECT DISTINCT ?p ?pname\n",
    "WHERE { \n",
    "\n",
    "wd:Q9671 wdt:P1344 ?p .\n",
    "\n",
    "?p <http://schema.org/name> ?pname .\n",
    "} \n",
    "\n",
    "LIMIT 20\n",
    "\"\"\"\n",
    "\n",
    "print(\"Results\")\n",
    "run_query(queryString)"
   ]
  },
  {
   "cell_type": "code",
   "execution_count": null,
   "id": "fc23eca1-a84a-49bc-9e67-342bb99aad3c",
   "metadata": {},
   "outputs": [],
   "source": [
    "# Explore 'competition class' --> wdt:P2094"
   ]
  },
  {
   "cell_type": "code",
   "execution_count": 65,
   "id": "3583de8e-9005-483c-9cc0-a9d21994c304",
   "metadata": {},
   "outputs": [
    {
     "name": "stdout",
     "output_type": "stream",
     "text": [
      "Results\n",
      "[('p', 'http://www.wikidata.org/entity/Q187579'), ('pname', '24 Hours of Le Mans')]\n",
      "[('p', 'http://www.wikidata.org/entity/Q1968'), ('pname', 'Formula One')]\n",
      "[('p', 'http://www.wikidata.org/entity/Q283085'), ('pname', 'Formula Nippon')]\n"
     ]
    },
    {
     "data": {
      "text/plain": [
       "3"
      ]
     },
     "execution_count": 65,
     "metadata": {},
     "output_type": "execute_result"
    }
   ],
   "source": [
    "queryString = \"\"\"\n",
    "SELECT DISTINCT ?p ?pname\n",
    "WHERE { \n",
    "\n",
    "wd:Q9671 wdt:P2094 ?p .\n",
    "\n",
    "?p <http://schema.org/name> ?pname .\n",
    "} \n",
    "\n",
    "LIMIT 20\n",
    "\"\"\"\n",
    "\n",
    "print(\"Results\")\n",
    "run_query(queryString)"
   ]
  },
  {
   "cell_type": "code",
   "execution_count": 38,
   "id": "dadfb8e7-619e-4af2-b232-96d1970011df",
   "metadata": {},
   "outputs": [],
   "source": [
    "# I explore the nodes for 'member of sports team' --> wdt:P54"
   ]
  },
  {
   "cell_type": "code",
   "execution_count": 39,
   "id": "9dadc3b8-a2f9-4d11-bc61-96f408cd83fe",
   "metadata": {},
   "outputs": [
    {
     "name": "stdout",
     "output_type": "stream",
     "text": [
      "Results\n",
      "[('p', 'http://www.wikidata.org/entity/Q169898'), ('pname', 'Scuderia Ferrari')]\n",
      "[('p', 'http://www.wikidata.org/entity/Q171329'), ('pname', 'Benetton Formula')]\n",
      "[('p', 'http://www.wikidata.org/entity/Q171367'), ('pname', 'Jordan Grand Prix')]\n",
      "[('p', 'http://www.wikidata.org/entity/Q172721'), ('pname', 'Mercedes')]\n"
     ]
    },
    {
     "data": {
      "text/plain": [
       "4"
      ]
     },
     "execution_count": 39,
     "metadata": {},
     "output_type": "execute_result"
    }
   ],
   "source": [
    "queryString = \"\"\"\n",
    "SELECT DISTINCT ?p ?pname\n",
    "WHERE { \n",
    "\n",
    "wd:Q9671 wdt:P54 ?p .\n",
    "\n",
    "?p <http://schema.org/name> ?pname .\n",
    "} \n",
    "\n",
    "LIMIT 20\n",
    "\"\"\"\n",
    "\n",
    "print(\"Results\")\n",
    "run_query(queryString)"
   ]
  },
  {
   "cell_type": "code",
   "execution_count": null,
   "id": "5de0b873-6cfe-4b59-b3cf-741b2bd3e50e",
   "metadata": {},
   "outputs": [],
   "source": [
    "# Here I find a way to see all the teams where a driver worked for"
   ]
  },
  {
   "cell_type": "code",
   "execution_count": 66,
   "id": "bf1829e6-431b-4ba9-b6eb-969dfa0937b7",
   "metadata": {},
   "outputs": [],
   "source": [
    "# GET FROM ABOVE: \n",
    "# 'member of sports team' --> wdt:P54\n",
    "# 'participant in' --> wdt:P1344"
   ]
  },
  {
   "cell_type": "code",
   "execution_count": null,
   "id": "c4fd141b-75e1-4fa2-bd4a-82db1d42f01a",
   "metadata": {},
   "outputs": [],
   "source": [
    "# I try to find the F1 team and the F1 competitions for F1 drivers"
   ]
  },
  {
   "cell_type": "code",
   "execution_count": 69,
   "id": "02cf5614-bb7a-4338-8273-cc074431eccd",
   "metadata": {},
   "outputs": [
    {
     "name": "stdout",
     "output_type": "stream",
     "text": [
      "Results\n",
      "[('d', 'http://www.wikidata.org/entity/Q172815'), ('dname', 'Keith Greene'), ('scuderie', 'Gilby Engineering'), ('competizioni', '24 Hours of Le Mans')]\n",
      "[('d', 'http://www.wikidata.org/entity/Q172759'), ('dname', 'Riccardo Patrese'), ('scuderie', 'Alfa Romeo'), ('competizioni', '24 Hours of Le Mans')]\n",
      "[('d', 'http://www.wikidata.org/entity/Q171479'), ('dname', 'Jean-Louis Schlesser'), ('scuderie', 'Maurer Motorsport (Germany), RAM Racing, Williams Grand Prix Engineering'), ('competizioni', '24 Hours of Le Mans')]\n",
      "[('d', 'http://www.wikidata.org/entity/Q369348'), ('dname', 'Perry McCarthy'), ('scuderie', 'Andrea Moda Formula'), ('competizioni', '24 Hours of Le Mans')]\n",
      "[('d', 'http://www.wikidata.org/entity/Q173336'), ('dname', 'Innes Ireland'), ('scuderie', 'Bernard White Racing, British Racing Partnership, Reg Parnell Racing, Team Lotus'), ('competizioni', '24 Hours of Le Mans')]\n",
      "[('d', 'http://www.wikidata.org/entity/Q171481'), ('dname', 'Tony Brooks'), ('scuderie', 'British Racing Motors, Scuderia Ferrari, Vanwall'), ('competizioni', '24 Hours of Le Mans')]\n",
      "[('d', 'http://www.wikidata.org/entity/Q2069'), ('dname', 'Juan Manuel Fangio'), ('scuderie', 'Alfa Romeo'), ('competizioni', '24 Hours of Le Mans')]\n",
      "[('d', 'http://www.wikidata.org/entity/Q173205'), ('dname', 'Eddie Cheever'), ('scuderie', 'Alfa Romeo'), ('competizioni', '24 Hours of Le Mans')]\n",
      "[('d', 'http://www.wikidata.org/entity/Q61295'), ('dname', 'Theo Helfrich'), ('scuderie', 'Klenk'), ('competizioni', '24 Hours of Le Mans')]\n",
      "[('d', 'http://www.wikidata.org/entity/Q10490'), ('dname', 'Ayrton Senna'), ('scuderie', 'McLaren, Team Lotus, Toleman, Williams Grand Prix Engineering'), ('competizioni', '1984 Formula One season, 1985 Formula One season, 1986 Formula One season, 1987 Formula One season, 1988 Formula One season, 1989 Formula One season, 1990 Formula One season, 1991 Formula One season, 1992 Formula One season, 1993 Formula One season, 1994 Formula One season')]\n",
      "[('d', 'http://www.wikidata.org/entity/Q711156'), ('dname', 'Giulio Cabianca'), ('scuderie', 'O.S.C.A.'), ('competizioni', '24 Hours of Le Mans')]\n",
      "[('d', 'http://www.wikidata.org/entity/Q172499'), ('dname', 'Roberto Bussinello'), ('scuderie', 'Alec Mildren racing, Scuderia Centro Sud'), ('competizioni', '24 Hours of Le Mans')]\n",
      "[('d', 'http://www.wikidata.org/entity/Q171531'), ('dname', 'Joseph Siffert'), ('scuderie', 'British Racing Motors, March Engineering, Rob Walker Racing Team, Scuderia Filipinetti, Siffert Racing Team'), ('competizioni', '24 Hours of Le Mans')]\n",
      "[('d', 'http://www.wikidata.org/entity/Q173420'), ('dname', 'Mário de Araújo Cabral'), ('scuderie', 'Derrington-Francis, Scuderia Centro Sud'), ('competizioni', '24 Hours of Le Mans')]\n",
      "[('d', 'http://www.wikidata.org/entity/Q172644'), ('dname', 'Jack Fairman'), ('scuderie', 'British Racing Motors, Connaught Engineering, Cooper Car Company, Ecurie Ecosse, Rob Walker Racing Team'), ('competizioni', '24 Hours of Le Mans')]\n",
      "[('d', 'http://www.wikidata.org/entity/Q82667'), ('dname', 'Mark Webber'), ('scuderie', 'Bernhard-Webber-Hartley'), ('competizioni', \"2016 FIA World Endurance Drivers' Championship\")]\n",
      "[('d', 'http://www.wikidata.org/entity/Q171381'), ('dname', 'Keke Rosberg'), ('scuderie', 'ATS F1, Fittipaldi Automotive, McLaren, Theodore Racing, Walter Wolf Racing, Williams Grand Prix Engineering'), ('competizioni', '24 Hours of Le Mans, Formula One')]\n",
      "[('d', 'http://www.wikidata.org/entity/Q172142'), ('dname', 'Olivier Gendebien'), ('scuderie', 'British Racing Partnership, Ecurie Nationale Belge, Scuderia Ferrari, Yeoman Credit Racing'), ('competizioni', '24 Hours of Le Mans')]\n",
      "[('d', 'http://www.wikidata.org/entity/Q78489'), ('dname', 'Niki Lauda'), ('scuderie', 'Brabham, British Racing Motors, March Engineering, McLaren, Scuderia Ferrari'), ('competizioni', '1984 Dallas Grand Prix')]\n",
      "[('d', 'http://www.wikidata.org/entity/Q172285'), ('dname', 'Eppie Wietzes'), ('scuderie', 'Brabham, Team Lotus'), ('competizioni', '1967 Formula One season, 1974 Formula One season')]\n"
     ]
    },
    {
     "data": {
      "text/plain": [
       "20"
      ]
     },
     "execution_count": 69,
     "metadata": {},
     "output_type": "execute_result"
    }
   ],
   "source": [
    "queryString = \"\"\"\n",
    "SELECT DISTINCT ?d ?dname (GROUP_CONCAT(DISTINCT ?sname ; separator = \", \") AS ?scuderie) (GROUP_CONCAT(DISTINCT ?cname ; separator = \", \") AS ?competizioni)\n",
    "WHERE { \n",
    "\n",
    "?d wdt:P106 wd:Q10841764 ;  # ?d --> driver F1\n",
    "   wdt:P54 ?s ;             # ?s --> their scuderia\n",
    "   wdt:P1344 ?c .           # ?c --> their competitions\n",
    "   \n",
    "\n",
    "?d <http://schema.org/name> ?dname .\n",
    "?s <http://schema.org/name> ?sname .\n",
    "?c <http://schema.org/name> ?cname .\n",
    "} \n",
    "\n",
    "LIMIT 20\n",
    "\"\"\"\n",
    "\n",
    "print(\"Results\")\n",
    "run_query(queryString)"
   ]
  },
  {
   "cell_type": "code",
   "execution_count": 42,
   "id": "3fd3b462-3c0d-4992-978f-d933ca65b1e7",
   "metadata": {},
   "outputs": [],
   "source": [
    "#\n",
    "#"
   ]
  },
  {
   "cell_type": "markdown",
   "id": "e06772e2-96cb-47b6-88f7-5d1ea6a54383",
   "metadata": {},
   "source": [
    "# Workload 2"
   ]
  },
  {
   "cell_type": "code",
   "execution_count": null,
   "id": "3ae8c666-3d6e-4996-9c70-7bfe03c6448f",
   "metadata": {},
   "outputs": [],
   "source": [
    "# 2. Identify the BGP that connects a F1 team to a parent company"
   ]
  },
  {
   "cell_type": "code",
   "execution_count": null,
   "id": "e6397f91-355a-4024-b76b-0a58cdddd033",
   "metadata": {},
   "outputs": [],
   "source": [
    "# We can start to analyze the F1 team --> wd:10497835"
   ]
  },
  {
   "cell_type": "code",
   "execution_count": 44,
   "id": "df92cdc7-1244-4446-bba5-1369e9a829ac",
   "metadata": {},
   "outputs": [
    {
     "name": "stdout",
     "output_type": "stream",
     "text": [
      "Results\n",
      "[('p', 'http://www.wikidata.org/prop/direct/P1889'), ('pname', 'different from')]\n",
      "[('p', 'http://www.wikidata.org/prop/direct/P301'), ('pname', \"category's main topic\")]\n",
      "[('p', 'http://www.wikidata.org/prop/direct/P31'), ('pname', 'instance of')]\n"
     ]
    },
    {
     "data": {
      "text/plain": [
       "3"
      ]
     },
     "execution_count": 44,
     "metadata": {},
     "output_type": "execute_result"
    }
   ],
   "source": [
    "queryString = \"\"\"\n",
    "SELECT DISTINCT ?p ?pname\n",
    "WHERE { \n",
    "\n",
    "?s ?p wd:Q10497835 .\n",
    "\n",
    "?p <http://schema.org/name> ?pname .\n",
    "} \n",
    "\n",
    "LIMIT 20\n",
    "\"\"\"\n",
    "\n",
    "print(\"Results\")\n",
    "run_query(queryString)"
   ]
  },
  {
   "cell_type": "code",
   "execution_count": null,
   "id": "03eebb52-451f-4406-a680-e4d82ca438a1",
   "metadata": {},
   "outputs": [],
   "source": [
    "# We find an team to analyze its properties"
   ]
  },
  {
   "cell_type": "code",
   "execution_count": 45,
   "id": "49b64554-4e11-495a-9343-6c970b5abba2",
   "metadata": {},
   "outputs": [
    {
     "name": "stdout",
     "output_type": "stream",
     "text": [
      "Results\n",
      "[('s', 'http://www.wikidata.org/entity/Q141818'), ('sname', 'Scuderia Toro Rosso')]\n",
      "[('s', 'http://www.wikidata.org/entity/Q173663'), ('sname', 'Red Bull Racing')]\n",
      "[('s', 'http://www.wikidata.org/entity/Q142381'), ('sname', 'Minardi')]\n",
      "[('s', 'http://www.wikidata.org/entity/Q171320'), ('sname', 'British American Racing')]\n",
      "[('s', 'http://www.wikidata.org/entity/Q171420'), ('sname', 'HRT Formula One Team')]\n",
      "[('s', 'http://www.wikidata.org/entity/Q171992'), ('sname', 'Tyrrell Racing')]\n",
      "[('s', 'http://www.wikidata.org/entity/Q172765'), ('sname', 'Spyker F1')]\n",
      "[('s', 'http://www.wikidata.org/entity/Q172974'), ('sname', 'Forti')]\n",
      "[('s', 'http://www.wikidata.org/entity/Q173012'), ('sname', 'British Racing Motors')]\n",
      "[('s', 'http://www.wikidata.org/entity/Q173054'), ('sname', 'Midland F1 Racing')]\n",
      "[('s', 'http://www.wikidata.org/entity/Q173177'), ('sname', 'March Engineering')]\n",
      "[('s', 'http://www.wikidata.org/entity/Q174008'), ('sname', 'Caterham F1')]\n",
      "[('s', 'http://www.wikidata.org/entity/Q35931'), ('sname', 'Ligier')]\n",
      "[('s', 'http://www.wikidata.org/entity/Q622489'), ('sname', 'Alfa Romeo')]\n",
      "[('s', 'http://www.wikidata.org/entity/Q16300222'), ('sname', 'Haas F1 Team')]\n",
      "[('s', 'http://www.wikidata.org/entity/Q171342'), ('sname', 'Honda')]\n",
      "[('s', 'http://www.wikidata.org/entity/Q173055'), ('sname', 'Jaguar Racing')]\n",
      "[('s', 'http://www.wikidata.org/entity/Q169898'), ('sname', 'Scuderia Ferrari')]\n",
      "[('s', 'http://www.wikidata.org/entity/Q171329'), ('sname', 'Benetton Formula')]\n",
      "[('s', 'http://www.wikidata.org/entity/Q171337'), ('sname', 'Williams Grand Prix Engineering')]\n"
     ]
    },
    {
     "data": {
      "text/plain": [
       "20"
      ]
     },
     "execution_count": 45,
     "metadata": {},
     "output_type": "execute_result"
    }
   ],
   "source": [
    "queryString = \"\"\"\n",
    "SELECT DISTINCT ?s ?sname\n",
    "WHERE { \n",
    "\n",
    "?s wdt:P31 wd:Q10497835 .\n",
    "\n",
    "?s <http://schema.org/name> ?sname .\n",
    "} \n",
    "\n",
    "LIMIT 20\n",
    "\"\"\"\n",
    "\n",
    "print(\"Results\")\n",
    "run_query(queryString)"
   ]
  },
  {
   "cell_type": "code",
   "execution_count": null,
   "id": "45960531-c56b-4f5f-b1d8-88bdb541480b",
   "metadata": {},
   "outputs": [],
   "source": [
    "# Choose 'Red Bull Racing' --> wd:Q173663"
   ]
  },
  {
   "cell_type": "code",
   "execution_count": 46,
   "id": "e8b15901-b244-49d6-9d6d-bfa6040ed441",
   "metadata": {},
   "outputs": [
    {
     "name": "stdout",
     "output_type": "stream",
     "text": [
      "Results\n",
      "[('p', 'http://www.wikidata.org/prop/direct/P1056'), ('pname', 'product or material produced')]\n",
      "[('p', 'http://www.wikidata.org/prop/direct/P127'), ('pname', 'owned by')]\n",
      "[('p', 'http://www.wikidata.org/prop/direct/P159'), ('pname', 'headquarters location')]\n",
      "[('p', 'http://www.wikidata.org/prop/direct/P17'), ('pname', 'country')]\n",
      "[('p', 'http://www.wikidata.org/prop/direct/P18'), ('pname', 'image')]\n",
      "[('p', 'http://www.wikidata.org/prop/direct/P2002'), ('pname', 'Twitter username')]\n",
      "[('p', 'http://www.wikidata.org/prop/direct/P2003'), ('pname', 'Instagram username')]\n",
      "[('p', 'http://www.wikidata.org/prop/direct/P2013'), ('pname', 'Facebook ID')]\n",
      "[('p', 'http://www.wikidata.org/prop/direct/P2397'), ('pname', 'YouTube channel ID')]\n",
      "[('p', 'http://www.wikidata.org/prop/direct/P31'), ('pname', 'instance of')]\n",
      "[('p', 'http://www.wikidata.org/prop/direct/P3417'), ('pname', 'Quora topic ID')]\n",
      "[('p', 'http://www.wikidata.org/prop/direct/P355'), ('pname', 'subsidiary')]\n",
      "[('p', 'http://www.wikidata.org/prop/direct/P373'), ('pname', 'Commons category')]\n",
      "[('p', 'http://www.wikidata.org/prop/direct/P452'), ('pname', 'industry')]\n",
      "[('p', 'http://www.wikidata.org/prop/direct/P571'), ('pname', 'inception')]\n",
      "[('p', 'http://www.wikidata.org/prop/direct/P641'), ('pname', 'sport')]\n",
      "[('p', 'http://www.wikidata.org/prop/direct/P646'), ('pname', 'Freebase ID')]\n",
      "[('p', 'http://www.wikidata.org/prop/direct/P740'), ('pname', 'location of formation')]\n",
      "[('p', 'http://www.wikidata.org/prop/direct/P856'), ('pname', 'official website')]\n",
      "[('p', 'http://www.wikidata.org/prop/direct/P8672'), ('pname', 'Twitter topic ID')]\n"
     ]
    },
    {
     "data": {
      "text/plain": [
       "20"
      ]
     },
     "execution_count": 46,
     "metadata": {},
     "output_type": "execute_result"
    }
   ],
   "source": [
    "queryString = \"\"\"\n",
    "SELECT DISTINCT ?p ?pname\n",
    "WHERE { \n",
    "\n",
    "wd:Q173663 ?p ?o .\n",
    "\n",
    "?p <http://schema.org/name> ?pname .\n",
    "} \n",
    "\n",
    "LIMIT 20\n",
    "\"\"\"\n",
    "\n",
    "print(\"Results\")\n",
    "run_query(queryString)"
   ]
  },
  {
   "cell_type": "code",
   "execution_count": 47,
   "id": "fd9122d0-b551-4692-8b7b-448cf74a9c2e",
   "metadata": {},
   "outputs": [
    {
     "name": "stdout",
     "output_type": "stream",
     "text": [
      "Results\n",
      "[('p', 'http://www.wikidata.org/prop/direct/P108'), ('pname', 'employer')]\n",
      "[('p', 'http://www.wikidata.org/prop/direct/P1346'), ('pname', 'winner')]\n",
      "[('p', 'http://www.wikidata.org/prop/direct/P176'), ('pname', 'manufacturer')]\n",
      "[('p', 'http://www.wikidata.org/prop/direct/P1830'), ('pname', 'owner of')]\n",
      "[('p', 'http://www.wikidata.org/prop/direct/P301'), ('pname', \"category's main topic\")]\n",
      "[('p', 'http://www.wikidata.org/prop/direct/P54'), ('pname', 'member of sports team')]\n",
      "[('p', 'http://www.wikidata.org/prop/direct/P749'), ('pname', 'parent organization')]\n",
      "[('p', 'http://www.wikidata.org/prop/direct/P1923'), ('pname', 'participating team')]\n"
     ]
    },
    {
     "data": {
      "text/plain": [
       "8"
      ]
     },
     "execution_count": 47,
     "metadata": {},
     "output_type": "execute_result"
    }
   ],
   "source": [
    "queryString = \"\"\"\n",
    "SELECT DISTINCT ?p ?pname\n",
    "WHERE { \n",
    "\n",
    "?s ?p wd:Q173663.\n",
    "\n",
    "?p <http://schema.org/name> ?pname .\n",
    "} \n",
    "\n",
    "LIMIT 20\n",
    "\"\"\"\n",
    "\n",
    "print(\"Results\")\n",
    "run_query(queryString)"
   ]
  },
  {
   "cell_type": "code",
   "execution_count": 57,
   "id": "1023e687-6cd9-4436-ab56-53bb24dcfbd7",
   "metadata": {},
   "outputs": [],
   "source": [
    "# Here I find 'parent organization' --> wdt:P749 that seems exactly what I'm looking for"
   ]
  },
  {
   "cell_type": "code",
   "execution_count": null,
   "id": "d328e543-0b7b-4aa7-b6f2-0fda7c05ebf9",
   "metadata": {},
   "outputs": [],
   "source": [
    "# I try it on Red Bull Racing"
   ]
  },
  {
   "cell_type": "code",
   "execution_count": 56,
   "id": "329a8477-a0b1-482e-a867-e44234d08fef",
   "metadata": {},
   "outputs": [
    {
     "name": "stdout",
     "output_type": "stream",
     "text": [
      "Results\n",
      "[('s', 'http://www.wikidata.org/entity/Q2079949'), ('sname', 'Red Bull Junior Team')]\n"
     ]
    },
    {
     "data": {
      "text/plain": [
       "1"
      ]
     },
     "execution_count": 56,
     "metadata": {},
     "output_type": "execute_result"
    }
   ],
   "source": [
    "queryString = \"\"\"\n",
    "SELECT DISTINCT ?s ?sname\n",
    "WHERE { \n",
    "\n",
    "?s wdt:P749 wd:Q173663.\n",
    "\n",
    "?s <http://schema.org/name> ?sname .\n",
    "} \n",
    "\n",
    "LIMIT 20\n",
    "\"\"\"\n",
    "\n",
    "print(\"Results\")\n",
    "run_query(queryString)"
   ]
  },
  {
   "cell_type": "code",
   "execution_count": 58,
   "id": "fd9d372a-691c-44aa-a019-a63c8103d4c4",
   "metadata": {},
   "outputs": [],
   "source": [
    "# Now I want to identify all F1 Teams connected to parent company (if existing)"
   ]
  },
  {
   "cell_type": "code",
   "execution_count": 59,
   "id": "9c9c4c51-5ac5-4cff-a96e-84da4e930a6f",
   "metadata": {},
   "outputs": [
    {
     "name": "stdout",
     "output_type": "stream",
     "text": [
      "Results\n",
      "[('f1t', 'http://www.wikidata.org/entity/Q169898'), ('f1teamname', 'Scuderia Ferrari'), ('parentcompanies', 'Ferrari Driver Academy')]\n",
      "[('f1t', 'http://www.wikidata.org/entity/Q172030'), ('f1teamname', 'McLaren'), ('parentcompanies', 'McLaren Young Driver Programme')]\n",
      "[('f1t', 'http://www.wikidata.org/entity/Q35931'), ('f1teamname', 'Ligier'), ('parentcompanies', 'Microcar')]\n",
      "[('f1t', 'http://www.wikidata.org/entity/Q173663'), ('f1teamname', 'Red Bull Racing'), ('parentcompanies', 'Red Bull Junior Team')]\n"
     ]
    },
    {
     "data": {
      "text/plain": [
       "4"
      ]
     },
     "execution_count": 59,
     "metadata": {},
     "output_type": "execute_result"
    }
   ],
   "source": [
    "queryString = \"\"\"\n",
    "SELECT DISTINCT ?f1t ?f1teamname (GROUP_CONCAT(DISTINCT ?pcname ; separator = \", \") AS ?parentcompanies)\n",
    "WHERE { \n",
    "\n",
    "?pc wdt:P749 ?f1t.             # ?pc --> parent company\n",
    "?f1t wdt:P31 wd:Q10497835 .     # all F1 teams\n",
    "    \n",
    "    \n",
    "\n",
    "?f1t <http://schema.org/name> ?f1teamname .\n",
    "?pc  <http://schema.org/name> ?pcname .\n",
    "} \n",
    "\n",
    "LIMIT 20\n",
    "\"\"\"\n",
    "\n",
    "print(\"Results\")\n",
    "run_query(queryString)"
   ]
  },
  {
   "cell_type": "code",
   "execution_count": null,
   "id": "91d61711-0098-4763-a4fd-33ae58ccda30",
   "metadata": {},
   "outputs": [],
   "source": [
    "#\n",
    "#"
   ]
  },
  {
   "cell_type": "markdown",
   "id": "45a842cb-ff02-44dd-9a76-ea8e28815b93",
   "metadata": {},
   "source": [
    "# Workload 3"
   ]
  },
  {
   "cell_type": "code",
   "execution_count": null,
   "id": "0e78f600-270a-4357-bff9-fd3a423c76cf",
   "metadata": {},
   "outputs": [],
   "source": [
    "# 3. How many F1 drivers and F1 teams exist in each country?"
   ]
  },
  {
   "cell_type": "code",
   "execution_count": null,
   "id": "e48c74b9-fdc8-40d1-90c0-0979cf66caf6",
   "metadata": {},
   "outputs": [],
   "source": [
    "# Get:\n",
    "# wd:Q10841764 --> F1 driver\n",
    "# wdt:P27 --> nationality"
   ]
  },
  {
   "cell_type": "code",
   "execution_count": null,
   "id": "55cddb39-50e6-426d-be90-439396b2b323",
   "metadata": {},
   "outputs": [],
   "source": [
    "# Explore for all F1 drivers and their nationality (all F1 driver in the story of F1)"
   ]
  },
  {
   "cell_type": "code",
   "execution_count": 5,
   "id": "a11682f2-de4d-4721-a2c3-288c5b3ab0cf",
   "metadata": {},
   "outputs": [
    {
     "name": "stdout",
     "output_type": "stream",
     "text": [
      "Results\n",
      "[('countryname', 'Poland'), ('callret-1', '2')]\n",
      "[('countryname', 'Australia'), ('callret-1', '3')]\n",
      "[('countryname', 'New Zealand'), ('callret-1', '1')]\n",
      "[('countryname', 'France'), ('callret-1', '14')]\n",
      "[('countryname', 'Northern Ireland'), ('callret-1', '1')]\n",
      "[('countryname', 'Mexico'), ('callret-1', '5')]\n",
      "[('countryname', 'Spain'), ('callret-1', '18')]\n",
      "[('countryname', 'Belgium'), ('callret-1', '28')]\n",
      "[('countryname', 'Venezuela'), ('callret-1', '1')]\n",
      "[('countryname', 'Thailand'), ('callret-1', '2')]\n",
      "[('countryname', 'United Kingdom'), ('callret-1', '172')]\n",
      "[('countryname', 'Kingdom of Italy'), ('callret-1', '9')]\n",
      "[('countryname', 'Finland'), ('callret-1', '9')]\n",
      "[('countryname', 'West Germany'), ('callret-1', '1')]\n",
      "[('countryname', 'German Democratic Republic'), ('callret-1', '3')]\n",
      "[('countryname', 'Italy'), ('callret-1', '19')]\n",
      "[('countryname', 'United Kingdom of Great Britain and Ireland'), ('callret-1', '16')]\n",
      "[('countryname', 'Germany'), ('callret-1', '58')]\n",
      "[('countryname', 'United States of America'), ('callret-1', '245')]\n",
      "[('countryname', 'Denmark'), ('callret-1', '2')]\n",
      "[('countryname', 'Brazil'), ('callret-1', '6')]\n",
      "[('countryname', 'Canada'), ('callret-1', '16')]\n",
      "[('countryname', 'Georgia'), ('callret-1', '1')]\n",
      "[('countryname', 'Monaco'), ('callret-1', '1')]\n",
      "[('countryname', 'Wales'), ('callret-1', '1')]\n",
      "[('countryname', 'Ireland'), ('callret-1', '7')]\n",
      "[('countryname', 'Austria'), ('callret-1', '18')]\n",
      "[('countryname', 'South Africa'), ('callret-1', '27')]\n",
      "[('countryname', 'Kingdom of the Netherlands'), ('callret-1', '17')]\n",
      "[('countryname', 'Portugal'), ('callret-1', '5')]\n",
      "[('countryname', 'Japan'), ('callret-1', '1')]\n",
      "[('countryname', 'Romania'), ('callret-1', '1')]\n",
      "[('countryname', 'Switzerland'), ('callret-1', '2')]\n",
      "[('countryname', 'Argentina'), ('callret-1', '25')]\n"
     ]
    },
    {
     "data": {
      "text/plain": [
       "34"
      ]
     },
     "execution_count": 5,
     "metadata": {},
     "output_type": "execute_result"
    }
   ],
   "source": [
    "queryString = \"\"\"\n",
    "SELECT DISTINCT  ?countryname count(?d)\n",
    "WHERE { \n",
    "\n",
    "?d   wdt:P27 ?country ;\n",
    "     wdt:P106 wd:Q10841764 .    # ?d --> driver\n",
    "             \n",
    "    \n",
    "    \n",
    "\n",
    "#?d <http://schema.org/name> ?dname .\n",
    "?country  <http://schema.org/name> ?countryname .\n",
    "} \n",
    "\n",
    "LIMIT 40\n",
    "\"\"\"\n",
    "\n",
    "print(\"Results\")\n",
    "run_query(queryString)"
   ]
  },
  {
   "cell_type": "code",
   "execution_count": null,
   "id": "d3db67cc-0f32-4ebe-af47-030f30c47f77",
   "metadata": {},
   "outputs": [],
   "source": [
    "# Now I have to find a way to show the F1 team country"
   ]
  },
  {
   "cell_type": "code",
   "execution_count": 100,
   "id": "97495231-758d-472d-b72b-c8f667c83b6c",
   "metadata": {},
   "outputs": [
    {
     "name": "stdout",
     "output_type": "stream",
     "text": [
      "Results\n",
      "[('cname', 'Australia'), ('callret-1', '1')]\n",
      "[('cname', 'France'), ('callret-1', '6')]\n",
      "[('cname', 'Netherlands'), ('callret-1', '2')]\n",
      "[('cname', 'Spain'), ('callret-1', '1')]\n",
      "[('cname', 'United Kingdom'), ('callret-1', '26')]\n",
      "[('cname', 'Italy'), ('callret-1', '16')]\n",
      "[('cname', 'Germany'), ('callret-1', '2')]\n",
      "[('cname', 'Malaysia'), ('callret-1', '1')]\n",
      "[('cname', 'Russia'), ('callret-1', '2')]\n",
      "[('cname', 'Japan'), ('callret-1', '2')]\n",
      "[('cname', 'Switzerland'), ('callret-1', '1')]\n"
     ]
    },
    {
     "data": {
      "text/plain": [
       "11"
      ]
     },
     "execution_count": 100,
     "metadata": {},
     "output_type": "execute_result"
    }
   ],
   "source": [
    "queryString = \"\"\"\n",
    "SELECT DISTINCT  ?cname count(?f1t)\n",
    "WHERE { \n",
    "\n",
    " ?f1t   wdt:P17   ?c .               # ?c --> country\n",
    " ?f1t   wdt:P31 wd:Q10497835 .       # ?f1t --> all formula one teams\n",
    "    \n",
    "\n",
    "?c  <http://schema.org/name> ?cname .\n",
    "} \n",
    "\n",
    "GROUP BY (?cname)\n",
    "LIMIT 40\n",
    "\"\"\"\n",
    "\n",
    "print(\"Results\")\n",
    "run_query(queryString)"
   ]
  },
  {
   "cell_type": "code",
   "execution_count": null,
   "id": "9b07a7cf-3139-4d0d-b5c5-0fd2255ec8c4",
   "metadata": {},
   "outputs": [],
   "source": [
    "# Now union of the queries above"
   ]
  },
  {
   "cell_type": "code",
   "execution_count": 121,
   "id": "cacb80ca-2dc8-42a7-bc50-882a23b7d7dc",
   "metadata": {},
   "outputs": [
    {
     "name": "stdout",
     "output_type": "stream",
     "text": [
      "Results\n",
      "[('countryname', 'South Africa'), ('drivers', '27'), ('f1teams', '0')]\n",
      "[('countryname', 'Brazil'), ('drivers', '6'), ('f1teams', '0')]\n",
      "[('countryname', 'Portugal'), ('drivers', '5'), ('f1teams', '0')]\n",
      "[('countryname', 'Ireland'), ('drivers', '7'), ('f1teams', '0')]\n",
      "[('countryname', 'Argentina'), ('drivers', '25'), ('f1teams', '0')]\n",
      "[('countryname', 'Wales'), ('drivers', '1'), ('f1teams', '0')]\n",
      "[('countryname', 'Georgia'), ('drivers', '1'), ('f1teams', '0')]\n",
      "[('countryname', 'United Kingdom'), ('drivers', '172'), ('f1teams', '26')]\n",
      "[('countryname', 'Poland'), ('drivers', '2'), ('f1teams', '0')]\n",
      "[('countryname', 'Canada'), ('drivers', '16'), ('f1teams', '0')]\n",
      "[('countryname', 'Spain'), ('drivers', '18'), ('f1teams', '1')]\n",
      "[('countryname', 'United Kingdom of Great Britain and Ireland'), ('drivers', '16'), ('f1teams', '0')]\n",
      "[('countryname', 'Kingdom of Italy'), ('drivers', '9'), ('f1teams', '0')]\n",
      "[('countryname', 'Australia'), ('drivers', '3'), ('f1teams', '1')]\n",
      "[('countryname', 'Japan'), ('drivers', '1'), ('f1teams', '2')]\n",
      "[('countryname', 'Denmark'), ('drivers', '2'), ('f1teams', '0')]\n",
      "[('countryname', 'Mexico'), ('drivers', '5'), ('f1teams', '0')]\n",
      "[('countryname', 'Romania'), ('drivers', '1'), ('f1teams', '0')]\n",
      "[('countryname', 'Northern Ireland'), ('drivers', '1'), ('f1teams', '0')]\n",
      "[('countryname', 'Austria'), ('drivers', '18'), ('f1teams', '0')]\n",
      "[('countryname', 'Monaco'), ('drivers', '1'), ('f1teams', '0')]\n",
      "[('countryname', 'United States of America'), ('drivers', '245'), ('f1teams', '0')]\n",
      "[('countryname', 'Kingdom of the Netherlands'), ('drivers', '17'), ('f1teams', '0')]\n",
      "[('countryname', 'New Zealand'), ('drivers', '1'), ('f1teams', '0')]\n",
      "[('countryname', 'West Germany'), ('drivers', '1'), ('f1teams', '0')]\n",
      "[('countryname', 'Finland'), ('drivers', '9'), ('f1teams', '0')]\n",
      "[('countryname', 'German Democratic Republic'), ('drivers', '3'), ('f1teams', '0')]\n",
      "[('countryname', 'France'), ('drivers', '14'), ('f1teams', '6')]\n",
      "[('countryname', 'Belgium'), ('drivers', '28'), ('f1teams', '0')]\n",
      "[('countryname', 'Thailand'), ('drivers', '2'), ('f1teams', '0')]\n",
      "[('countryname', 'Germany'), ('drivers', '58'), ('f1teams', '2')]\n",
      "[('countryname', 'Italy'), ('drivers', '19'), ('f1teams', '16')]\n",
      "[('countryname', 'Venezuela'), ('drivers', '1'), ('f1teams', '0')]\n",
      "[('countryname', 'Switzerland'), ('drivers', '2'), ('f1teams', '1')]\n"
     ]
    },
    {
     "data": {
      "text/plain": [
       "34"
      ]
     },
     "execution_count": 121,
     "metadata": {},
     "output_type": "execute_result"
    }
   ],
   "source": [
    "queryString = \"\"\"\n",
    "SELECT DISTINCT  ?countryname (count(distinct ?d) as ?drivers) (count (distinct ?f1t) as ?f1teams)\n",
    "WHERE { \n",
    "\n",
    "  \n",
    "?d wdt:P106 wd:Q10841764 ;     # ?d --> driver\n",
    "        wdt:P27 ?country .     \n",
    "    \n",
    "OPTIONAL{\n",
    "?f1t  wdt:P17   ?country ;              # ?c --> country\n",
    "      wdt:P31 wd:Q10497835 .   }      # ?f1t --> all formula one teams\n",
    "    \n",
    "{SELECT DISTINCT  ?country\n",
    "WHERE { \n",
    "?d wdt:P106 wd:Q10841764 ;     # ?d --> driver\n",
    "        wdt:P27 ?country . \n",
    "}}\n",
    "#?c  <http://schema.org/name> ?countrynam .\n",
    "?country  <http://schema.org/name> ?countryname .\n",
    "\n",
    "} \n",
    "\n",
    "\n",
    "LIMIT 40\n",
    "\"\"\"\n",
    "\n",
    "print(\"Results\")\n",
    "run_query(queryString)"
   ]
  },
  {
   "cell_type": "code",
   "execution_count": null,
   "id": "567562b2-be77-4e33-9a98-fda288b84e05",
   "metadata": {},
   "outputs": [],
   "source": [
    "#\n",
    "#"
   ]
  },
  {
   "cell_type": "markdown",
   "id": "924a5292-96b8-4362-ae52-295f6f5bf6dd",
   "metadata": {},
   "source": [
    "# Workload 4"
   ]
  },
  {
   "cell_type": "code",
   "execution_count": null,
   "id": "5ea9377d-8cb4-4320-ac11-c5b9557f444e",
   "metadata": {},
   "outputs": [],
   "source": [
    "# 4. Compare number of F1 drivers to their nationality"
   ]
  },
  {
   "cell_type": "markdown",
   "id": "def3bd1a-2eab-40fb-a245-f40d46dc51b9",
   "metadata": {},
   "source": [
    "## Workload 4.1"
   ]
  },
  {
   "cell_type": "code",
   "execution_count": 127,
   "id": "71fd10b0-062c-4ed3-9328-8a8bdcd64c42",
   "metadata": {},
   "outputs": [],
   "source": [
    "# 4.1 Is there some driver that joined a team in their own country?"
   ]
  },
  {
   "cell_type": "code",
   "execution_count": null,
   "id": "5c9fee26-cbd2-44a3-b074-f740852ac0cb",
   "metadata": {},
   "outputs": [],
   "source": [
    "# Here I find all the F1 drivers who works in a team based in the same country where they were born. I use group_concat \n",
    "# to show all the scuderie for the same person (if exists). All the IRI came from above. (yet explored)"
   ]
  },
  {
   "cell_type": "code",
   "execution_count": 22,
   "id": "6e148381-e2f2-40ee-9d69-7f5c392c396e",
   "metadata": {},
   "outputs": [
    {
     "name": "stdout",
     "output_type": "stream",
     "text": [
      "Results\n",
      "[('countryname', 'Italy'), ('d', 'http://www.wikidata.org/entity/Q171312'), ('dname', 'Mario Andretti'), ('scuderie', 'Alfa Romeo'), ('country_teams', 'Italy')]\n",
      "[('countryname', 'United Kingdom'), ('d', 'http://www.wikidata.org/entity/Q17319645'), ('dname', 'George Russell'), ('scuderie', 'Williams Grand Prix Engineering'), ('country_teams', 'United Kingdom')]\n",
      "[('countryname', 'France'), ('d', 'http://www.wikidata.org/entity/Q171767'), ('dname', 'Johnny Servoz-Gavin'), ('scuderie', 'Equipe Matra Sports'), ('country_teams', 'France')]\n",
      "[('countryname', 'Italy'), ('d', 'http://www.wikidata.org/entity/Q171518'), ('dname', 'Arturo Merzario'), ('scuderie', 'Scuderia Ferrari'), ('country_teams', 'Italy')]\n",
      "[('countryname', 'United Kingdom'), ('d', 'http://www.wikidata.org/entity/Q9673'), ('dname', 'Lewis Hamilton'), ('scuderie', 'McLaren, Mercedes'), ('country_teams', 'United Kingdom')]\n",
      "[('countryname', 'United Kingdom'), ('d', 'http://www.wikidata.org/entity/Q171720'), ('dname', 'Jackie Oliver'), ('scuderie', 'British Racing Motors, McLaren'), ('country_teams', 'United Kingdom')]\n",
      "[('countryname', 'United Kingdom'), ('d', 'http://www.wikidata.org/entity/Q172479'), ('dname', 'Ron Flockhart'), ('scuderie', 'British Racing Motors'), ('country_teams', 'United Kingdom')]\n",
      "[('countryname', 'United Kingdom'), ('d', 'http://www.wikidata.org/entity/Q172194'), ('dname', 'Richard Attwood'), ('scuderie', 'British Racing Motors'), ('country_teams', 'United Kingdom')]\n",
      "[('countryname', 'United Kingdom'), ('d', 'http://www.wikidata.org/entity/Q3188'), ('dname', 'Jackie Stewart'), ('scuderie', 'British Racing Motors, Tyrrell Racing'), ('country_teams', 'United Kingdom')]\n",
      "[('countryname', 'United Kingdom'), ('d', 'http://www.wikidata.org/entity/Q22007193'), ('dname', 'Lando Norris'), ('scuderie', 'McLaren'), ('country_teams', 'United Kingdom')]\n",
      "[('countryname', 'United Kingdom'), ('d', 'http://www.wikidata.org/entity/Q3153'), ('dname', 'John Surtees'), ('scuderie', 'British Racing Motors'), ('country_teams', 'United Kingdom')]\n",
      "[('countryname', 'United Kingdom'), ('d', 'http://www.wikidata.org/entity/Q140393'), ('dname', 'James Hunt'), ('scuderie', 'McLaren'), ('country_teams', 'United Kingdom')]\n",
      "[('countryname', 'Italy'), ('d', 'http://www.wikidata.org/entity/Q7084843'), ('dname', 'Antonio Giovinazzi'), ('scuderie', 'Alfa Romeo'), ('country_teams', 'Italy')]\n",
      "[('countryname', 'Italy'), ('d', 'http://www.wikidata.org/entity/Q173112'), ('dname', 'Bruno Giacomelli'), ('scuderie', 'Alfa Romeo, Life Racing Engines'), ('country_teams', 'Italy')]\n",
      "[('countryname', 'United Kingdom'), ('d', 'http://www.wikidata.org/entity/Q171891'), ('dname', 'Peter Walker'), ('scuderie', 'British Racing Motors'), ('country_teams', 'United Kingdom')]\n",
      "[('countryname', 'United Kingdom'), ('d', 'http://www.wikidata.org/entity/Q171717'), ('dname', 'Roy Salvadori'), ('scuderie', 'British Racing Motors'), ('country_teams', 'United Kingdom')]\n",
      "[('countryname', 'United Kingdom'), ('d', 'http://www.wikidata.org/entity/Q172644'), ('dname', 'Jack Fairman'), ('scuderie', 'British Racing Motors'), ('country_teams', 'United Kingdom')]\n",
      "[('countryname', 'United Kingdom'), ('d', 'http://www.wikidata.org/entity/Q172832'), ('dname', 'David Coulthard'), ('scuderie', 'McLaren, Red Bull Racing, Williams Grand Prix Engineering'), ('country_teams', 'United Kingdom')]\n",
      "[('countryname', 'United Kingdom'), ('d', 'http://www.wikidata.org/entity/Q171729'), ('dname', 'Mike Spence'), ('scuderie', 'British Racing Motors'), ('country_teams', 'United Kingdom')]\n",
      "[('countryname', 'Australia'), ('d', 'http://www.wikidata.org/entity/Q2125'), ('dname', 'Jack Brabham'), ('scuderie', 'Brabham'), ('country_teams', 'Australia')]\n",
      "[('countryname', 'United Kingdom'), ('d', 'http://www.wikidata.org/entity/Q171481'), ('dname', 'Tony Brooks'), ('scuderie', 'British Racing Motors'), ('country_teams', 'United Kingdom')]\n",
      "[('countryname', 'United Kingdom'), ('d', 'http://www.wikidata.org/entity/Q172795'), ('dname', 'Les Leston'), ('scuderie', 'British Racing Motors'), ('country_teams', 'United Kingdom')]\n",
      "[('countryname', 'United Kingdom'), ('d', 'http://www.wikidata.org/entity/Q3128'), ('dname', 'Graham Hill'), ('scuderie', 'Brabham, British Racing Motors'), ('country_teams', 'United Kingdom')]\n",
      "[('countryname', 'Italy'), ('d', 'http://www.wikidata.org/entity/Q435698'), ('dname', 'Enrico Bertaggia'), ('scuderie', 'Andrea Moda Formula, Enzo Coloni Racing Car Systems, Forti'), ('country_teams', 'Italy')]\n",
      "[('countryname', 'United Kingdom'), ('d', 'http://www.wikidata.org/entity/Q515506'), ('dname', 'Chris Irwin'), ('scuderie', 'Brabham'), ('country_teams', 'United Kingdom')]\n",
      "[('countryname', 'Italy'), ('d', 'http://www.wikidata.org/entity/Q172759'), ('dname', 'Riccardo Patrese'), ('scuderie', 'Alfa Romeo'), ('country_teams', 'Italy')]\n",
      "[('countryname', 'United Kingdom'), ('d', 'http://www.wikidata.org/entity/Q460768'), ('dname', 'Dave Charlton'), ('scuderie', 'Brabham'), ('country_teams', 'United Kingdom')]\n",
      "[('countryname', 'United Kingdom'), ('d', 'http://www.wikidata.org/entity/Q16149172'), ('dname', 'Alexander Albon'), ('scuderie', 'Red Bull Racing'), ('country_teams', 'United Kingdom')]\n"
     ]
    },
    {
     "data": {
      "text/plain": [
       "28"
      ]
     },
     "execution_count": 22,
     "metadata": {},
     "output_type": "execute_result"
    }
   ],
   "source": [
    "queryString = \"\"\"\n",
    "SELECT DISTINCT  ?countryname ?d ?dname (GROUP_CONCAT(DISTINCT ?scuderia ; separator = \", \") AS ?scuderie) ?country_teams\n",
    "WHERE {\n",
    "\n",
    "\n",
    "?f1t  wdt:P17   ?cc ;                # ?c --> country scuderia\n",
    "      wdt:P31 wd:Q10497835 .       \n",
    "    \n",
    "  \n",
    "?d   wdt:P106 wd:Q10841764 ;       # ?d --> driver\n",
    "     wdt:P54 ?f1t ;                # ?f1t --> formula one team (scuderia)\n",
    "     wdt:P27 ?c .                  # ?c --> country\n",
    "        \n",
    "\n",
    "?d  <http://schema.org/name> ?dname .\n",
    "?c  <http://schema.org/name> ?countryname .\n",
    "?cc  <http://schema.org/name> ?country_teams .\n",
    "?f1t <http://schema.org/name> ?scuderia .\n",
    "\n",
    "\n",
    "FILTER(?c = ?cc)\n",
    "} \n",
    "\n",
    "\n",
    "LIMIT 40\n",
    "\"\"\"\n",
    "\n",
    "print(\"Results\")\n",
    "run_query(queryString)"
   ]
  },
  {
   "cell_type": "code",
   "execution_count": null,
   "id": "66937a0b-7f3c-406d-89d2-df4d67a7f232",
   "metadata": {},
   "outputs": [],
   "source": [
    "#\n",
    "#"
   ]
  },
  {
   "cell_type": "markdown",
   "id": "5e870cd4-357f-4f6a-8a0d-95b921921fc8",
   "metadata": {},
   "source": [
    "## Workload 4.2"
   ]
  },
  {
   "cell_type": "code",
   "execution_count": null,
   "id": "a1010845-966a-41bf-af4d-4ac7fb1c40b4",
   "metadata": {},
   "outputs": [],
   "source": [
    "# 4.2 Which team employed the larger number of drivers?"
   ]
  },
  {
   "cell_type": "code",
   "execution_count": null,
   "id": "b7edb5b1-0b3e-4ec9-be62-452507684a18",
   "metadata": {},
   "outputs": [],
   "source": [
    "# Also for this question, I'm going to use IRI found above.\n",
    "# I start by exploring the number of F1 drivers linked to F1 teams"
   ]
  },
  {
   "cell_type": "code",
   "execution_count": 138,
   "id": "e9d8a542-1ce3-427d-97dd-f170fcbc29fb",
   "metadata": {},
   "outputs": [
    {
     "name": "stdout",
     "output_type": "stream",
     "text": [
      "Results\n",
      "[('callret-0', '306')]\n"
     ]
    },
    {
     "data": {
      "text/plain": [
       "1"
      ]
     },
     "execution_count": 138,
     "metadata": {},
     "output_type": "execute_result"
    }
   ],
   "source": [
    "queryString = \"\"\"\n",
    "SELECT  count(?d)\n",
    "WHERE { \n",
    "\n",
    "?d   wdt:P106 wd:Q10841764 ;       # ?d --> driver\n",
    "     wdt:P54 ?f1t .                # ?f1t --> formula one team (scuderia)\n",
    "\n",
    "?d <http://schema.org/name> ?dname .\n",
    "} \n",
    "\n",
    "LIMIT 20\n",
    "\"\"\"\n",
    "\n",
    "print(\"Results\")\n",
    "run_query(queryString)"
   ]
  },
  {
   "cell_type": "code",
   "execution_count": null,
   "id": "05a49a6b-437f-41b7-a6bc-a16754876132",
   "metadata": {},
   "outputs": [],
   "source": [
    "# I find the F1 teams and their number of F1 driver in all the story of the Formula Omne"
   ]
  },
  {
   "cell_type": "code",
   "execution_count": 9,
   "id": "903d1305-548d-4795-a43e-78a63eb0c6e6",
   "metadata": {},
   "outputs": [
    {
     "name": "stdout",
     "output_type": "stream",
     "text": [
      "Results\n",
      "[('f1tname', 'Team Lotus'), ('numerodrivers', '17')]\n",
      "[('f1tname', 'Scuderia Ferrari'), ('numerodrivers', '15')]\n",
      "[('f1tname', 'British Racing Motors'), ('numerodrivers', '14')]\n",
      "[('f1tname', 'McLaren'), ('numerodrivers', '14')]\n",
      "[('f1tname', 'Cooper Car Company'), ('numerodrivers', '13')]\n",
      "[('f1tname', 'Williams Grand Prix Engineering'), ('numerodrivers', '13')]\n",
      "[('f1tname', 'Alfa Romeo'), ('numerodrivers', '10')]\n",
      "[('f1tname', 'Brabham'), ('numerodrivers', '9')]\n",
      "[('f1tname', 'Scuderia Centro Sud'), ('numerodrivers', '9')]\n",
      "[('f1tname', 'Reg Parnell Racing'), ('numerodrivers', '8')]\n"
     ]
    },
    {
     "data": {
      "text/plain": [
       "10"
      ]
     },
     "execution_count": 9,
     "metadata": {},
     "output_type": "execute_result"
    }
   ],
   "source": [
    "queryString = \"\"\"\n",
    "SELECT DISTINCT ?f1tname (count(?d) AS ?numerodrivers)\n",
    "WHERE { \n",
    "\n",
    "?d   wdt:P106 wd:Q10841764 ;       # ?d --> driver\n",
    "     wdt:P54 ?f1t .                # ?f1t --> formula one team (scuderia)\n",
    "\n",
    "?d <http://schema.org/name> ?dname .\n",
    "?f1t <http://schema.org/name> ?f1tname .\n",
    "\n",
    "#FILTER REGEX(?f1tname, \"Toro\")\n",
    "} \n",
    "ORDER BY DESC (?numerodrivers) \n",
    "\n",
    "LIMIT 10\n",
    "\"\"\"\n",
    "\n",
    "print(\"Results\")\n",
    "run_query(queryString)"
   ]
  },
  {
   "cell_type": "code",
   "execution_count": null,
   "id": "f4a449ef-9271-4f20-9651-c96bd26165e6",
   "metadata": {},
   "outputs": [],
   "source": [
    "# Now to have the team with max number of drivers, i can use order by descendent and litim to 1 --> to have the team \n",
    "# with max value"
   ]
  },
  {
   "cell_type": "code",
   "execution_count": 155,
   "id": "4cf6ab42-703c-4002-b628-bae3e0cf28b3",
   "metadata": {},
   "outputs": [
    {
     "name": "stdout",
     "output_type": "stream",
     "text": [
      "Results\n",
      "[('f1tname', 'Team Lotus'), ('numerodrivers', '17')]\n"
     ]
    },
    {
     "data": {
      "text/plain": [
       "1"
      ]
     },
     "execution_count": 155,
     "metadata": {},
     "output_type": "execute_result"
    }
   ],
   "source": [
    "queryString = \"\"\"\n",
    "SELECT DISTINCT ?f1tname (count(?d) AS ?numerodrivers)\n",
    "WHERE { \n",
    "\n",
    "?d   wdt:P106 wd:Q10841764 ;       # ?d --> driver\n",
    "     wdt:P54 ?f1t .                # ?f1t --> formula one team (scuderia)\n",
    "\n",
    "?d <http://schema.org/name> ?dname .\n",
    "?f1t <http://schema.org/name> ?f1tname .\n",
    "\n",
    "#FILTER REGEX(?f1tname, \"Toro\")\n",
    "} \n",
    "ORDER BY DESC (?numerodrivers) \n",
    "\n",
    "LIMIT 1\n",
    "\"\"\"\n",
    "\n",
    "print(\"Results\")\n",
    "run_query(queryString)"
   ]
  },
  {
   "cell_type": "code",
   "execution_count": null,
   "id": "f5a374cb-8568-4003-a9f9-1ed245915150",
   "metadata": {},
   "outputs": [],
   "source": [
    "# \n",
    "#"
   ]
  },
  {
   "cell_type": "markdown",
   "id": "a04360e8-a935-45eb-b708-61ad06750966",
   "metadata": {},
   "source": [
    "## Workload 4.3"
   ]
  },
  {
   "cell_type": "code",
   "execution_count": null,
   "id": "49a96733-cb01-4917-9c78-576b30a2490b",
   "metadata": {},
   "outputs": [],
   "source": [
    "# 4.3 For each country , which are the teams and drivers with the highest number of F1 race participations"
   ]
  },
  {
   "cell_type": "code",
   "execution_count": null,
   "id": "47724bf8-d91f-4835-816b-5061bfd3cb17",
   "metadata": {},
   "outputs": [],
   "source": [
    "# In the workload 1, I had already found: 'number of matches played/races/starts' --> wdt:P1350\n",
    "# that I can use for this question"
   ]
  },
  {
   "cell_type": "code",
   "execution_count": null,
   "id": "9dfa779e-e808-4577-b26e-7c980c88da46",
   "metadata": {},
   "outputs": [],
   "source": [
    "# Start finding the teams with the highest number of F1 race "
   ]
  },
  {
   "cell_type": "code",
   "execution_count": 4,
   "id": "2ad23298-ed70-4eac-9a0d-4ef835dc4a03",
   "metadata": {},
   "outputs": [
    {
     "name": "stdout",
     "output_type": "stream",
     "text": [
      "Results\n",
      "[('dname', 'Michael Schumacher'), ('nr', '308')]\n"
     ]
    },
    {
     "data": {
      "text/plain": [
       "1"
      ]
     },
     "execution_count": 4,
     "metadata": {},
     "output_type": "execute_result"
    }
   ],
   "source": [
    "queryString = \"\"\"\n",
    "SELECT DISTINCT ?dname ?nr\n",
    "WHERE { \n",
    "\n",
    "?d   wdt:P106 wd:Q10841764 ;       # ?d --> driver\n",
    "     wdt:P1350 ?nr .\n",
    "\n",
    "?d <http://schema.org/name> ?dname .\n",
    "?f1t <http://schema.org/name> ?f1tname .\n",
    "\n",
    "\n",
    "} \n",
    "\n",
    "\n",
    "LIMIT 10\n",
    "\"\"\"\n",
    "\n",
    "print(\"Results\")\n",
    "run_query(queryString)"
   ]
  },
  {
   "cell_type": "code",
   "execution_count": 6,
   "id": "40bba050-8091-4349-bd33-211be7748b20",
   "metadata": {},
   "outputs": [],
   "source": [
    "# Seems not to work the 'number of matches played/races/starts' --> wdt:P1350\n",
    "# It gives me only the number of matches for Michael Schumacher\n",
    "# In this way it's not possible to solve it"
   ]
  },
  {
   "cell_type": "code",
   "execution_count": null,
   "id": "23bf99a7-1044-4e8e-81e5-4fe395e99745",
   "metadata": {},
   "outputs": [],
   "source": [
    "# Use wd:Q9673  --> \"Hamilton Lewis\", it gives me empty results"
   ]
  },
  {
   "cell_type": "code",
   "execution_count": 5,
   "id": "1d8aa3e1-efe3-4fd7-8181-5a65e888cf05",
   "metadata": {},
   "outputs": [
    {
     "name": "stdout",
     "output_type": "stream",
     "text": [
      "Results\n",
      "Empty\n"
     ]
    },
    {
     "data": {
      "text/plain": [
       "0"
      ]
     },
     "execution_count": 5,
     "metadata": {},
     "output_type": "execute_result"
    }
   ],
   "source": [
    "queryString = \"\"\"\n",
    "SELECT DISTINCT ?dname ?nr \n",
    "WHERE { \n",
    "\n",
    "wd:Q9673  wdt:P1355 ?nr .\n",
    "\n",
    "wd:Q9673 <http://schema.org/name> ?dname .\n",
    "\n",
    "#FILTER (isNumeric(?nr))\n",
    "\n",
    "} \n",
    "\n",
    "LIMIT 100\n",
    "\"\"\"\n",
    "\n",
    "print(\"Results\")\n",
    "run_query(queryString)"
   ]
  },
  {
   "cell_type": "code",
   "execution_count": null,
   "id": "f4e97e6b-12da-45ac-ad0a-499c5fc88237",
   "metadata": {},
   "outputs": [],
   "source": []
  }
 ],
 "metadata": {
  "kernelspec": {
   "display_name": "Python 3 (ipykernel)",
   "language": "python",
   "name": "python3"
  },
  "language_info": {
   "codemirror_mode": {
    "name": "ipython",
    "version": 3
   },
   "file_extension": ".py",
   "mimetype": "text/x-python",
   "name": "python",
   "nbconvert_exporter": "python",
   "pygments_lexer": "ipython3",
   "version": "3.7.10"
  }
 },
 "nbformat": 4,
 "nbformat_minor": 5
}
