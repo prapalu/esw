{
 "cells": [
  {
   "cell_type": "markdown",
   "id": "7034c3bf-6eb0-4418-8687-7b9d2a501103",
   "metadata": {},
   "source": [
    "# General instructions\n",
    "\n",
    "The goal of the project is to materialize a set of **exploratory workloads** over a real-world, large-scale,  open-domain KG: [WikiData](https://www.wikidata.org/wiki/Wikidata:Main_Page)\n",
    "\n",
    "An exploratory workload  is composed by a set of queries, where each query is related to the information obtained previously.\n",
    "\n",
    "An exploratory workload starts with a usually vague, open ended question, and does not assume the person issuing the workload has a clear understanding of the data contained in the target database or its structure.\n",
    "\n",
    "Remeber that:\n",
    "\n",
    "1. All the queries must run in the python notebook\n",
    "2. You can use classes and properties only if you find them via a SPARQL query that must be present in the notebook\n",
    "3. You do not delete useless queries. Keep everything that is synthatically valid \n",
    "\n",
    "```\n",
    "?p <http://schema.org/name> ?name .\n",
    "```\n",
    "    \n",
    "is the BGP returning a human-readable name of a property or a class in Wikidata.\n",
    "    \n",
    "    "
   ]
  },
  {
   "cell_type": "code",
   "execution_count": 1,
   "id": "3605c9d5-5371-49a5-be8d-d66e8f417139",
   "metadata": {},
   "outputs": [],
   "source": [
    "## SETUP used later\n",
    "\n",
    "from SPARQLWrapper import SPARQLWrapper, JSON\n",
    "\n",
    "\n",
    "prefixString = \"\"\"\n",
    "##-5665f0cba1-##\n",
    "PREFIX wd: <http://www.wikidata.org/entity/> \n",
    "PREFIX wdt: <http://www.wikidata.org/prop/direct/> \n",
    "PREFIX sc: <http://schema.org/>\n",
    "\"\"\"\n",
    "\n",
    "# select and construct queries\n",
    "def run_query(queryString):\n",
    "    to_run = prefixString + \"\\n\" + queryString\n",
    "\n",
    "    sparql = SPARQLWrapper(\"http://a256-gc1-02.srv.aau.dk:5820/sparql\")\n",
    "    sparql.setTimeout(300)\n",
    "    sparql.setReturnFormat(JSON)\n",
    "    sparql.setQuery(to_run)\n",
    "\n",
    "    try :\n",
    "       results = sparql.query()\n",
    "       json_results = results.convert()\n",
    "       if len(json_results['results']['bindings'])==0:\n",
    "          print(\"Empty\")\n",
    "          return 0\n",
    "    \n",
    "       for bindings in json_results['results']['bindings']:\n",
    "          print( [ (var, value['value'])  for var, value in bindings.items() ] )\n",
    "\n",
    "       return len(json_results['results']['bindings'])\n",
    "\n",
    "    except Exception as e :\n",
    "        print(\"The operation failed\", e)\n",
    "    \n",
    "# ASk queries\n",
    "def run_ask_query(queryString):\n",
    "    to_run = prefixString + \"\\n\" + queryString\n",
    "\n",
    "    sparql = SPARQLWrapper(\"http://a256-gc1-02.srv.aau.dk:5820/sparql\")\n",
    "    sparql.setTimeout(300)\n",
    "    sparql.setReturnFormat(JSON)\n",
    "    sparql.setQuery(to_run)\n",
    "\n",
    "    try :\n",
    "        return sparql.query().convert()\n",
    "\n",
    "    except Exception as e :\n",
    "        print(\"The operation failed\", e)\n"
   ]
  },
  {
   "cell_type": "markdown",
   "id": "d477a59c-a68c-4c8f-9f97-8ca5294d7d27",
   "metadata": {},
   "source": [
    "# Politics Workflow Series (\"Monarchies\") \n",
    "\n",
    "Consider the following exploratory information need:\n",
    "\n",
    "> You investigating existing and past historical monarchies"
   ]
  },
  {
   "cell_type": "markdown",
   "id": "4a45c0ba-f79e-441d-bec5-84401b09db70",
   "metadata": {},
   "source": [
    "## Useful URIs for the current workflow\n",
    "\n",
    "\n",
    "The following are given:\n",
    "\n",
    "| IRI           | Description   | Role      |\n",
    "| -----------   | -----------   |-----------|\n",
    "| `wdt:P1647`   | subproperty   | predicate |\n",
    "| `wdt:P31`     | instance of   | predicate |\n",
    "| `wdt:P279`    | subclass      | predicate |\n",
    "| `wdt:P17`     | country       | predicate |\n",
    "| `wdt:P27`     | citizenship   | predicate |\n",
    "| `wdt:P1366`   | replaced by    | predicate |\n",
    "| `wdt:P122`    | basic form of government    | predicate |\n",
    "| `wd:Q38`      | Italy          | node |\n",
    "| `wd:Q145`     | United Kingdom           | node |\n",
    "| `wd:Q7269`    | monarchy           | node |\n",
    "\n",
    "\n",
    "\n",
    "\n",
    "Also consider\n",
    "\n",
    "```\n",
    "?p (wdt:P31|wdt:P122)/wdt:P279* wd:Q7269  . \n",
    "```\n",
    "\n",
    "is the BGP to retrieve all **countries that are some instance of a monarchy**"
   ]
  },
  {
   "cell_type": "markdown",
   "id": "7af439fb-96e4-4dbb-a381-f19afab79f86",
   "metadata": {
    "tags": []
   },
   "source": [
    "## Workload Goals\n",
    "\n",
    "\n",
    "1. Identify the BGP to retrieve states that were monarchies and have been replaced by some other state\n",
    "\n",
    "2. Identify the BGP for obtaining statistical information of monarchies, e.g., poluation or inception date\n",
    "\n",
    "3. Which is or was  the country with the highest population?\n",
    "\n",
    "4. How many countries are or have been monarchies across continents?\n",
    "\n",
    "5. Analyze the number of countries that were monarchies\n",
    " \n",
    "   5.1 How many sub-types of monarchy exist?  How many instances of exist of each one?\n",
    "   \n",
    "   5.2 Are there cities that have been capital of multiple kingdoms?\n",
    "   \n",
    "   5.3 Which are the top-3 monarchies with the earliest inception and still existing?\n"
   ]
  },
  {
   "cell_type": "markdown",
   "id": "3c7954fd-a0c6-4b53-a531-4a59b4cc3366",
   "metadata": {},
   "source": [
    "#### Example of query"
   ]
  },
  {
   "cell_type": "code",
   "execution_count": 2,
   "id": "ade01416-92e7-4ad7-b9a9-b8fb330750dc",
   "metadata": {},
   "outputs": [
    {
     "name": "stdout",
     "output_type": "stream",
     "text": [
      "Results\n",
      "[('callret-0', '2344')]\n"
     ]
    },
    {
     "data": {
      "text/plain": [
       "1"
      ]
     },
     "execution_count": 2,
     "metadata": {},
     "output_type": "execute_result"
    }
   ],
   "source": [
    "queryString = \"\"\"\n",
    "SELECT COUNT(*)\n",
    "WHERE { \n",
    "\n",
    "?p (wdt:P31|wdt:P122)/wdt:P279* wd:Q7269  . \n",
    "} \n",
    "\"\"\"\n",
    "\n",
    "print(\"Results\")\n",
    "run_query(queryString)"
   ]
  },
  {
   "cell_type": "markdown",
   "id": "5e8ccc42-63cc-414a-b2ae-40907d0d842e",
   "metadata": {},
   "source": [
    "### My Workflow\n",
    "\n",
    "#### ***Task 1 :*** Identify the BGP to retrieve states that were monarchies and have been replaced by some other state.\n",
    "\n",
    "I show some examples of countries that are some instance of a monarchy."
   ]
  },
  {
   "cell_type": "code",
   "execution_count": 3,
   "id": "26b7bbb6-fcf4-4993-a712-5c2e76d389a8",
   "metadata": {},
   "outputs": [
    {
     "name": "stdout",
     "output_type": "stream",
     "text": [
      "Results\n",
      "[('monarchy', 'http://www.wikidata.org/entity/Q139315'), ('monarchyName', 'Dʿmt')]\n",
      "[('monarchy', 'http://www.wikidata.org/entity/Q688859'), ('monarchyName', 'Duchy of Bouillon')]\n",
      "[('monarchy', 'http://www.wikidata.org/entity/Q15883591'), ('monarchyName', 'Anhalt-Dessau')]\n",
      "[('monarchy', 'http://www.wikidata.org/entity/Q2308237'), ('monarchyName', 'Ahom Kingdom')]\n",
      "[('monarchy', 'http://www.wikidata.org/entity/Q3919363'), ('monarchyName', 'Principality of Lahojsk')]\n",
      "[('monarchy', 'http://www.wikidata.org/entity/Q6207845'), ('monarchyName', 'Jodhpur State')]\n",
      "[('monarchy', 'http://www.wikidata.org/entity/Q1740533'), ('monarchyName', 'Baku Khanate')]\n",
      "[('monarchy', 'http://www.wikidata.org/entity/Q13032661'), ('monarchyName', 'Principality of Slutsk')]\n",
      "[('monarchy', 'http://www.wikidata.org/entity/Q625380'), ('monarchyName', 'Eastern Hungarian Kingdom')]\n",
      "[('monarchy', 'http://www.wikidata.org/entity/Q896856'), ('monarchyName', 'Prince-Bishopric Konstanz')]\n"
     ]
    },
    {
     "data": {
      "text/plain": [
       "10"
      ]
     },
     "execution_count": 3,
     "metadata": {},
     "output_type": "execute_result"
    }
   ],
   "source": [
    "queryString = \"\"\"\n",
    "SELECT DISTINCT ?monarchy ?monarchyName WHERE { \n",
    "\n",
    "    # All countries that are some instance of a monarchy\n",
    "    ?monarchy (wdt:P31|wdt:P122)/wdt:P279* wd:Q7269  .\n",
    "\n",
    "    # This returns the labels\n",
    "    ?monarchy <http://schema.org/name> ?monarchyName .\n",
    "}\n",
    "LIMIT 10\n",
    "\"\"\"\n",
    "\n",
    "print(\"Results\")\n",
    "run_query(queryString)"
   ]
  },
  {
   "cell_type": "markdown",
   "id": "bbed10df-3d00-4efc-b934-3737eaa60cb9",
   "metadata": {},
   "source": [
    "I try to see what is connected to monarchies through the property ***replaced by (wdt:P1366)***."
   ]
  },
  {
   "cell_type": "code",
   "execution_count": 4,
   "id": "26c974c5-fa89-47e3-be79-663417c9f420",
   "metadata": {},
   "outputs": [
    {
     "name": "stdout",
     "output_type": "stream",
     "text": [
      "Results\n",
      "[('o', 'http://www.wikidata.org/entity/Q8959'), ('oName', 'Northern Yuan Dynasty')]\n",
      "[('o', 'http://www.wikidata.org/entity/Q15903902'), ('oName', 'Da Ming Shun Tian Guo')]\n",
      "[('o', 'http://www.wikidata.org/entity/Q7418370'), ('oName', 'Sanjak of Herzegovina')]\n",
      "[('o', 'http://www.wikidata.org/entity/Q153080'), ('oName', 'East Francia')]\n",
      "[('o', 'http://www.wikidata.org/entity/Q693356'), ('oName', 'Hesse-Nassau')]\n",
      "[('o', 'http://www.wikidata.org/entity/Q1745385'), ('oName', 'United States of Matsya')]\n",
      "[('o', 'http://www.wikidata.org/entity/Q202311'), ('oName', 'Egypt')]\n",
      "[('o', 'http://www.wikidata.org/entity/Q958291'), ('oName', 'United Principalities')]\n",
      "[('o', 'http://www.wikidata.org/entity/Q1998459'), ('oName', 'Free State of Mecklenburg-Schwerin')]\n",
      "[('o', 'http://www.wikidata.org/entity/Q153402'), ('oName', 'Roer')]\n",
      "[('o', 'http://www.wikidata.org/entity/Q651377'), ('oName', 'Shunga Empire')]\n",
      "[('o', 'http://www.wikidata.org/entity/Q139319'), ('oName', 'Russian Republic')]\n",
      "[('o', 'http://www.wikidata.org/entity/Q159631'), ('oName', 'Kingdom of Württemberg')]\n",
      "[('o', 'http://www.wikidata.org/entity/Q160307'), ('oName', 'Fatimid Caliphate')]\n",
      "[('o', 'http://www.wikidata.org/entity/Q1811029'), ('oName', \"Finnish Socialist Workers' Republic\")]\n",
      "[('o', 'http://www.wikidata.org/entity/Q268970'), ('oName', 'Republic of German-Austria')]\n",
      "[('o', 'http://www.wikidata.org/entity/Q282428'), ('oName', 'Mamluk Sultanate')]\n",
      "[('o', 'http://www.wikidata.org/entity/Q615902'), ('oName', 'Kingdom of Finland')]\n",
      "[('o', 'http://www.wikidata.org/entity/Q81803'), ('oName', 'Badajoz Province')]\n",
      "[('o', 'http://www.wikidata.org/entity/Q81972'), ('oName', 'Córdoba Province')]\n"
     ]
    },
    {
     "data": {
      "text/plain": [
       "20"
      ]
     },
     "execution_count": 4,
     "metadata": {},
     "output_type": "execute_result"
    }
   ],
   "source": [
    "queryString = \"\"\"\n",
    "SELECT DISTINCT ?o ?oName WHERE { \n",
    "\n",
    "    # Connect monarchies to something using the property replaced by (wdt:P1366)\n",
    "    ?monarchy   (wdt:P31|wdt:P122)/wdt:P279*  wd:Q7269  ;\n",
    "                wdt:P1366                     ?o        .\n",
    "\n",
    "    # This returns the labels\n",
    "    ?o <http://schema.org/name> ?oName .\n",
    "}\n",
    "LIMIT 20\n",
    "\"\"\"\n",
    "\n",
    "print(\"Results\")\n",
    "run_query(queryString)"
   ]
  },
  {
   "cell_type": "markdown",
   "id": "430121fa-becb-454a-b617-a4d446336c54",
   "metadata": {},
   "source": [
    "So, probably the BGP to retrieve states that were monarchies and have been replaced by some other state is:\n",
    "```\n",
    "?monarchy   (wdt:P31|wdt:P122)/wdt:P279*  wd:Q7269        ;\n",
    "            wdt:P1366                     ?replacingState .\n",
    "```"
   ]
  },
  {
   "cell_type": "code",
   "execution_count": 5,
   "id": "089bf858-10c2-4881-8f10-11d28a403721",
   "metadata": {},
   "outputs": [
    {
     "name": "stdout",
     "output_type": "stream",
     "text": [
      "Results\n",
      "[('monarchyName', 'Jodhpur State'), ('replacingStateName', 'India')]\n",
      "[('monarchyName', 'Eastern Hungarian Kingdom'), ('replacingStateName', 'Principality of Transylvania')]\n",
      "[('monarchyName', 'East Francia'), ('replacingStateName', 'Holy Roman Empire')]\n",
      "[('monarchyName', 'Kingdom of Hawaiʻi'), ('replacingStateName', 'Republic of Hawaii')]\n",
      "[('monarchyName', 'Duchy of Luxembourg'), ('replacingStateName', 'French First Republic')]\n",
      "[('monarchyName', 'Taifa of Algeciras'), ('replacingStateName', 'Taifa of Seville')]\n",
      "[('monarchyName', 'Kotoko kingdom'), ('replacingStateName', 'Bornu Empire')]\n",
      "[('monarchyName', 'Province of North Carolina'), ('replacingStateName', 'North Carolina')]\n",
      "[('monarchyName', 'Sui dynasty'), ('replacingStateName', 'Tang Empire')]\n",
      "[('monarchyName', 'Song dynasty'), ('replacingStateName', 'Yuan Empire')]\n",
      "[('monarchyName', 'United Principalities'), ('replacingStateName', 'Kingdom of Romania')]\n",
      "[('monarchyName', 'Travancore'), ('replacingStateName', 'India')]\n",
      "[('monarchyName', 'Travancore'), ('replacingStateName', 'Travancore-Cochin')]\n",
      "[('monarchyName', 'Mataram Sultanate'), ('replacingStateName', 'Yogyakarta Sultanate')]\n",
      "[('monarchyName', 'Mataram Sultanate'), ('replacingStateName', 'Surakarta Sunanate')]\n",
      "[('monarchyName', 'Kingdom of Cochin'), ('replacingStateName', 'India')]\n",
      "[('monarchyName', 'Kingdom of Cochin'), ('replacingStateName', 'Travancore-Cochin')]\n",
      "[('monarchyName', 'Second Empire of Haiti'), ('replacingStateName', 'Haiti')]\n",
      "[('monarchyName', 'Janjira State'), ('replacingStateName', 'India')]\n",
      "[('monarchyName', 'Kingdom of Württemberg'), ('replacingStateName', \"Free People's State of Württemberg\")]\n"
     ]
    },
    {
     "data": {
      "text/plain": [
       "20"
      ]
     },
     "execution_count": 5,
     "metadata": {},
     "output_type": "execute_result"
    }
   ],
   "source": [
    "queryString = \"\"\"\n",
    "SELECT DISTINCT ?monarchyName ?replacingStateName WHERE { \n",
    "\n",
    "    # All monarchies that have been replaced by another state\n",
    "    ?monarchy   (wdt:P31|wdt:P122)/wdt:P279*  wd:Q7269        ;\n",
    "                wdt:P1366                     ?replacingState .\n",
    "\n",
    "    # This returns the labels\n",
    "    ?monarchy <http://schema.org/name> ?monarchyName .\n",
    "    ?replacingState <http://schema.org/name> ?replacingStateName .\n",
    "}\n",
    "LIMIT 20\n",
    "\"\"\"\n",
    "\n",
    "print(\"Results\")\n",
    "run_query(queryString)"
   ]
  },
  {
   "cell_type": "markdown",
   "id": "d46be2b1-0f51-4fd1-8b37-9613d9395c3b",
   "metadata": {},
   "source": [
    "The BGP was correct, but what if I want to show only the \"last replacing state\" ? \n",
    "\n",
    "I can extend the path repeating one or more time the property ***replaced by (wdt:P1366)***. \n",
    "\n",
    "I have also to add a ***NOT EXISTS { ?finalReplacingState wdt:P1366 ?replacement }*** to have only a \"last replacing state\" that has not been replaced by any other state."
   ]
  },
  {
   "cell_type": "code",
   "execution_count": 6,
   "id": "c70389f4-4401-4f1f-9181-bfcd2e3e1596",
   "metadata": {},
   "outputs": [
    {
     "name": "stdout",
     "output_type": "stream",
     "text": [
      "Results\n",
      "[('monarchyName', 'Mataram Sultanate'), ('finalReplacingStateName', 'Yogyakarta Sultanate')]\n",
      "[('monarchyName', 'Mataram Sultanate'), ('finalReplacingStateName', 'Surakarta Sunanate')]\n",
      "[('monarchyName', 'Kingdom of Jerusalem'), ('finalReplacingStateName', 'Mamluk Sultanate')]\n",
      "[('monarchyName', 'Prince-Bishopric of Liège'), ('finalReplacingStateName', 'French Fifth Republic')]\n",
      "[('monarchyName', 'Kamakura shogunate'), ('finalReplacingStateName', 'Japan')]\n",
      "[('monarchyName', 'Western Han'), ('finalReplacingStateName', 'Northern Yuan Dynasty')]\n",
      "[('monarchyName', 'Western Han'), ('finalReplacingStateName', 'Tibetan Empire')]\n",
      "[('monarchyName', 'Holy Roman Empire'), ('finalReplacingStateName', 'Grand Duchy of Hesse')]\n",
      "[('monarchyName', 'Holy Roman Empire'), ('finalReplacingStateName', 'Ostmark')]\n",
      "[('monarchyName', 'Holy Roman Empire'), ('finalReplacingStateName', 'Germany')]\n",
      "[('monarchyName', 'Holy Roman Empire'), ('finalReplacingStateName', 'Second Czechoslovak Republic')]\n",
      "[('monarchyName', 'Holy Roman Empire'), ('finalReplacingStateName', 'Slovenia')]\n",
      "[('monarchyName', 'Holy Roman Empire'), ('finalReplacingStateName', 'North Macedonia')]\n",
      "[('monarchyName', 'Holy Roman Empire'), ('finalReplacingStateName', 'Croatia')]\n",
      "[('monarchyName', 'Holy Roman Empire'), ('finalReplacingStateName', 'Montenegro')]\n",
      "[('monarchyName', 'Holy Roman Empire'), ('finalReplacingStateName', 'Kingdom of Prussia')]\n",
      "[('monarchyName', 'Holy Roman Empire'), ('finalReplacingStateName', 'Hungary')]\n",
      "[('monarchyName', 'Holy Roman Empire'), ('finalReplacingStateName', 'Luxembourg')]\n",
      "[('monarchyName', 'Holy Roman Empire'), ('finalReplacingStateName', 'Liechtenstein')]\n",
      "[('monarchyName', 'Holy Roman Empire'), ('finalReplacingStateName', 'Italy')]\n"
     ]
    },
    {
     "data": {
      "text/plain": [
       "20"
      ]
     },
     "execution_count": 6,
     "metadata": {},
     "output_type": "execute_result"
    }
   ],
   "source": [
    "queryString = \"\"\"\n",
    "SELECT DISTINCT ?monarchyName ?finalReplacingStateName WHERE { \n",
    "\n",
    "    # All monarchies that have been replaced (at least one time) by another state\n",
    "    ?monarchy   (wdt:P31|wdt:P122)/wdt:P279*  wd:Q7269        ;\n",
    "                wdt:P1366+                    ?finalReplacingState .\n",
    "\n",
    "    # This returns the labels\n",
    "    ?monarchy <http://schema.org/name> ?monarchyName .\n",
    "    ?finalReplacingState <http://schema.org/name> ?finalReplacingStateName .\n",
    "    \n",
    "    # Ensuring that the finalReplacingState have not been replaced by other states\n",
    "    FILTER NOT EXISTS { ?finalReplacingState wdt:P1366 ?replacement }    \n",
    "}\n",
    "LIMIT 20\n",
    "\"\"\"\n",
    "\n",
    "print(\"Results\")\n",
    "run_query(queryString)"
   ]
  },
  {
   "cell_type": "markdown",
   "id": "59d5949c-ce4f-4486-b3f3-e77ae938bc79",
   "metadata": {},
   "source": [
    "So the the BGP to retrieve only the \"last replacing state\" of a monarchy is: \n",
    "```\n",
    "?monarchy   (wdt:P31|wdt:P122)/wdt:P279*  wd:Q7269        ;\n",
    "            wdt:P1366+                    ?finalReplacingState .\n",
    "            \n",
    "FILTER NOT EXISTS { ?finalReplacingState wdt:P1366 ?replacement }\n",
    "```\n",
    "\n",
    "However some of the replacing states are still monarchies. What if I want only states that were monarchies and that were finally replaced by non-monarchical states?\n",
    "\n",
    "I need to use another ***NOT EXIST*** to ensure that the \"last replacing state\" is not a monarchy."
   ]
  },
  {
   "cell_type": "code",
   "execution_count": 7,
   "id": "dc0f9fce-6064-4a57-8674-1c07ff632c3f",
   "metadata": {},
   "outputs": [
    {
     "name": "stdout",
     "output_type": "stream",
     "text": [
      "Results\n",
      "[('monarchyName', 'Mataram Sultanate'), ('finalReplacingStateName', 'Surakarta Sunanate')]\n",
      "[('monarchyName', 'Prince-Bishopric of Liège'), ('finalReplacingStateName', 'French Fifth Republic')]\n",
      "[('monarchyName', 'Western Han'), ('finalReplacingStateName', 'Northern Yuan Dynasty')]\n",
      "[('monarchyName', 'Holy Roman Empire'), ('finalReplacingStateName', 'Ostmark')]\n",
      "[('monarchyName', 'Holy Roman Empire'), ('finalReplacingStateName', 'Germany')]\n",
      "[('monarchyName', 'Holy Roman Empire'), ('finalReplacingStateName', 'Second Czechoslovak Republic')]\n",
      "[('monarchyName', 'Holy Roman Empire'), ('finalReplacingStateName', 'Slovenia')]\n",
      "[('monarchyName', 'Holy Roman Empire'), ('finalReplacingStateName', 'North Macedonia')]\n",
      "[('monarchyName', 'Holy Roman Empire'), ('finalReplacingStateName', 'Croatia')]\n",
      "[('monarchyName', 'Holy Roman Empire'), ('finalReplacingStateName', 'Montenegro')]\n"
     ]
    },
    {
     "data": {
      "text/plain": [
       "10"
      ]
     },
     "execution_count": 7,
     "metadata": {},
     "output_type": "execute_result"
    }
   ],
   "source": [
    "queryString = \"\"\"\n",
    "SELECT DISTINCT ?monarchyName ?finalReplacingStateName WHERE { \n",
    "\n",
    "    # All monarchies that have been replaced (at least one time) by another state\n",
    "    ?monarchy   (wdt:P31|wdt:P122)/wdt:P279*  wd:Q7269        ;\n",
    "                wdt:P1366+                    ?finalReplacingState .\n",
    "\n",
    "    # This returns the labels\n",
    "    ?monarchy <http://schema.org/name> ?monarchyName .\n",
    "    ?finalReplacingState <http://schema.org/name> ?finalReplacingStateName .\n",
    "    \n",
    "    # Ensuring that the final Replacing States have not been replaced by other states\n",
    "    FILTER NOT EXISTS { ?finalReplacingState wdt:P1366 ?replacement }\n",
    "    \n",
    "    # Ensuring that the final Replacing States are not monarchies\n",
    "    FILTER NOT EXISTS { ?finalReplacingState (wdt:P31|wdt:P122)/wdt:P279*  wd:Q7269 }\n",
    "}\n",
    "LIMIT 10\n",
    "\"\"\"\n",
    "\n",
    "print(\"Results\")\n",
    "run_query(queryString)"
   ]
  },
  {
   "cell_type": "markdown",
   "id": "bed2e247-8a50-483b-8498-840792291ed1",
   "metadata": {},
   "source": [
    "Hence, in order to retrieve only states that were monarchies and that were finally replaced by non-monarchical states I can use this BGP:\n",
    "```\n",
    "?monarchy   (wdt:P31|wdt:P122)/wdt:P279*  wd:Q7269        ;\n",
    "            wdt:P1366+                    ?finalReplacingState .\n",
    "            \n",
    "FILTER NOT EXISTS { ?finalReplacingState wdt:P1366 ?replacement }           \n",
    "FILTER NOT EXISTS { ?finalReplacingState (wdt:P31|wdt:P122)/wdt:P279*  wd:Q7269 }\n",
    "```"
   ]
  },
  {
   "cell_type": "markdown",
   "id": "ef5e8e4e-e8ed-4211-ad11-e35da3b87a70",
   "metadata": {},
   "source": [
    "#### END TASK 1: \n",
    "I was able to retrieve the BGP to retrieve states that were monarchies and have been replaced by some other state is:\n",
    "```\n",
    "?monarchy   (wdt:P31|wdt:P122)/wdt:P279*  wd:Q7269        ;\n",
    "            wdt:P1366                     ?replacingState .\n",
    "```\n",
    "\n",
    "Moreover, it is also possible to add other FILTER in order to obtain different types of information (such as the \"last replacing state\")."
   ]
  },
  {
   "cell_type": "markdown",
   "id": "9b3b0c6d-e90d-4181-a2e3-d74709175cdf",
   "metadata": {},
   "source": [
    "### ***Task 2 :*** Identify the BGP for obtaining statistical information of monarchies, e.g., populuation or inception date\n",
    "\n",
    "As a starting point, I want to retrieve a URI for a specific monarchy, so I try to use the property ***replaced by (wdt:P1366)*** with ***Italy (wd:Q38)***."
   ]
  },
  {
   "cell_type": "code",
   "execution_count": 8,
   "id": "6e7c6db5-3650-473e-83c4-4ad4b0afd374",
   "metadata": {},
   "outputs": [
    {
     "name": "stdout",
     "output_type": "stream",
     "text": [
      "Results\n",
      "[('monarchy', 'http://www.wikidata.org/entity/Q172579'), ('monarchyName', 'Kingdom of Italy')]\n"
     ]
    },
    {
     "data": {
      "text/plain": [
       "1"
      ]
     },
     "execution_count": 8,
     "metadata": {},
     "output_type": "execute_result"
    }
   ],
   "source": [
    "queryString = \"\"\"\n",
    "SELECT DISTINCT ?monarchy ?monarchyName WHERE { \n",
    "\n",
    "    # Connecting a monarchy to Italy (wd:Q38) through the property replaced by (wdt:P1366)\n",
    "    ?monarchy   (wdt:P31|wdt:P122)/wdt:P279*  wd:Q7269  ;\n",
    "                wdt:P1366                     wd:Q38    .\n",
    "\n",
    "    # This returns the labels\n",
    "    ?monarchy <http://schema.org/name> ?monarchyName .\n",
    "}\n",
    "\"\"\"\n",
    "\n",
    "print(\"Results\")\n",
    "run_query(queryString)"
   ]
  },
  {
   "cell_type": "markdown",
   "id": "7763fb36-256b-4fd7-a861-ec743a44e1da",
   "metadata": {},
   "source": [
    "I retrieve all the data properties of ***Kingdom of Italy (wd:Q172579)***."
   ]
  },
  {
   "cell_type": "code",
   "execution_count": 9,
   "id": "8e1cb25f-ca13-45b6-a0ba-56a5bcf2213f",
   "metadata": {},
   "outputs": [
    {
     "name": "stdout",
     "output_type": "stream",
     "text": [
      "Results\n",
      "[('p', 'http://www.wikidata.org/prop/direct/P1082'), ('pName', 'population')]\n",
      "[('p', 'http://www.wikidata.org/prop/direct/P1417'), ('pName', 'Encyclopædia Britannica Online ID')]\n",
      "[('p', 'http://www.wikidata.org/prop/direct/P1448'), ('pName', 'official name')]\n",
      "[('p', 'http://www.wikidata.org/prop/direct/P1549'), ('pName', 'demonym')]\n",
      "[('p', 'http://www.wikidata.org/prop/direct/P1711'), ('pName', 'British Museum person or institution ID')]\n",
      "[('p', 'http://www.wikidata.org/prop/direct/P1813'), ('pName', 'short name')]\n",
      "[('p', 'http://www.wikidata.org/prop/direct/P2046'), ('pName', 'area')]\n",
      "[('p', 'http://www.wikidata.org/prop/direct/P214'), ('pName', 'VIAF ID')]\n",
      "[('p', 'http://www.wikidata.org/prop/direct/P3417'), ('pName', 'Quora topic ID')]\n",
      "[('p', 'http://www.wikidata.org/prop/direct/P373'), ('pName', 'Commons category')]\n",
      "[('p', 'http://www.wikidata.org/prop/direct/P4839'), ('pName', 'Wolfram Language entity code')]\n",
      "[('p', 'http://www.wikidata.org/prop/direct/P571'), ('pName', 'inception')]\n",
      "[('p', 'http://www.wikidata.org/prop/direct/P576'), ('pName', 'dissolved, abolished or demolished date')]\n",
      "[('p', 'http://www.wikidata.org/prop/direct/P6262'), ('pName', 'Fandom article ID')]\n",
      "[('p', 'http://www.wikidata.org/prop/direct/P646'), ('pName', 'Freebase ID')]\n",
      "[('p', 'http://www.wikidata.org/prop/direct/P7818'), ('pName', 'French Vikidia ID')]\n",
      "[('p', 'http://www.wikidata.org/prop/direct/P7822'), ('pName', 'Italian Vikidia ID')]\n",
      "[('p', 'http://www.wikidata.org/prop/direct/P7827'), ('pName', 'Spanish Vikidia ID')]\n",
      "[('p', 'http://www.wikidata.org/prop/direct/P7859'), ('pName', 'WorldCat Identities ID')]\n",
      "[('p', 'http://www.wikidata.org/prop/direct/P9507'), ('pName', 'NBM authority ID')]\n"
     ]
    },
    {
     "data": {
      "text/plain": [
       "20"
      ]
     },
     "execution_count": 9,
     "metadata": {},
     "output_type": "execute_result"
    }
   ],
   "source": [
    "queryString = \"\"\"\n",
    "SELECT DISTINCT ?p ?pName WHERE { \n",
    "\n",
    "    # Connecting Kingdom of Italy to something\n",
    "    wd:Q172579  ?p  ?o.\n",
    "\n",
    "    # This returns the labels\n",
    "    ?p <http://schema.org/name> ?pName .\n",
    "\n",
    "    # Only data properties\n",
    "    FILTER(isLiteral(?o))\n",
    "}\n",
    "LIMIT 20\n",
    "\"\"\"\n",
    "\n",
    "print(\"Results\")\n",
    "run_query(queryString)"
   ]
  },
  {
   "cell_type": "markdown",
   "id": "0c70c8f5-f0bc-4940-aa62-3b70d11f259c",
   "metadata": {},
   "source": [
    "I discovered the URI both of:\n",
    "* ***population (wdt:P1082)***\n",
    "* ***inception (wdt:P571)***\n",
    "\n",
    "I want to check what is connected to ***Kingdom of Italy (wd:Q172579)*** through these two property.\n",
    "\n",
    "I start with ***population (wdt:P1082)***."
   ]
  },
  {
   "cell_type": "code",
   "execution_count": 10,
   "id": "ad7a83fb-2861-4f25-808b-53e41b4ae1b1",
   "metadata": {},
   "outputs": [
    {
     "name": "stdout",
     "output_type": "stream",
     "text": [
      "Results\n",
      "[('population', '22182000')]\n",
      "[('population', '35845000')]\n",
      "[('population', '42399000')]\n"
     ]
    },
    {
     "data": {
      "text/plain": [
       "3"
      ]
     },
     "execution_count": 10,
     "metadata": {},
     "output_type": "execute_result"
    }
   ],
   "source": [
    "queryString = \"\"\"\n",
    "SELECT ?population WHERE { \n",
    "\n",
    "    # Retrieve population of Kingdom of Italy\n",
    "    wd:Q172579  wdt:P1082  ?population.\n",
    "}\n",
    "\"\"\"\n",
    "\n",
    "print(\"Results\")\n",
    "run_query(queryString)"
   ]
  },
  {
   "cell_type": "markdown",
   "id": "c7577ec8-be66-4b81-8785-5524253bce48",
   "metadata": {},
   "source": [
    "The property is correct but there are multiple results. Maybe there is a subproperty of ***population (wdt:P1082)*** that gives additional information."
   ]
  },
  {
   "cell_type": "code",
   "execution_count": 11,
   "id": "bd4c6b47-3a4b-48ee-adc2-03cbd36f597e",
   "metadata": {},
   "outputs": [
    {
     "name": "stdout",
     "output_type": "stream",
     "text": [
      "Results\n",
      "Empty\n"
     ]
    },
    {
     "data": {
      "text/plain": [
       "0"
      ]
     },
     "execution_count": 11,
     "metadata": {},
     "output_type": "execute_result"
    }
   ],
   "source": [
    "queryString = \"\"\"\n",
    "SELECT ?subproperty WHERE { \n",
    "\n",
    "    # Retrieve a subproperty of property population\n",
    "    ?subproperty wdt:P1647 wdt:P1082 .\n",
    "}\n",
    "\"\"\"\n",
    "\n",
    "print(\"Results\")\n",
    "run_query(queryString)"
   ]
  },
  {
   "cell_type": "markdown",
   "id": "0c7fc74c-d940-46ec-b47e-bf15ce7b35e6",
   "metadata": {},
   "source": [
    "There is no subproperty. Maybe Wikidata manage these kinds of this information in another way, and so we can't access them.\n",
    "\n",
    "Now I try the property ***inception (wdt:P571)*** with ***Kingdom of Italy (wd:Q172579)***."
   ]
  },
  {
   "cell_type": "code",
   "execution_count": 12,
   "id": "90c4e07b-7ff5-42ba-8805-96284cea2e44",
   "metadata": {},
   "outputs": [
    {
     "name": "stdout",
     "output_type": "stream",
     "text": [
      "Results\n",
      "[('inceptionDate', '1861-03-17T00:00:00Z')]\n"
     ]
    },
    {
     "data": {
      "text/plain": [
       "1"
      ]
     },
     "execution_count": 12,
     "metadata": {},
     "output_type": "execute_result"
    }
   ],
   "source": [
    "queryString = \"\"\"\n",
    "SELECT ?inceptionDate WHERE { \n",
    "\n",
    "    # Retrieve inceptionDate of Kingdom of Italy\n",
    "    wd:Q172579  wdt:P571  ?inceptionDate .\n",
    "}\n",
    "\"\"\"\n",
    "\n",
    "print(\"Results\")\n",
    "run_query(queryString)"
   ]
  },
  {
   "cell_type": "markdown",
   "id": "ed23a405-5580-4f22-872c-f007a6a27296",
   "metadata": {},
   "source": [
    "It works, so the BGP to retrieve inceptionDate of monarchies is :\n",
    "```\n",
    "?monarchy   (wdt:P31|wdt:P122)/wdt:P279*  wd:Q7269       ;\n",
    "            wdt:P571                      ?inceptionDate . \n",
    "```"
   ]
  },
  {
   "cell_type": "code",
   "execution_count": 13,
   "id": "d926fda9-8e64-4fb8-9aa6-f4517d4cb91d",
   "metadata": {},
   "outputs": [
    {
     "name": "stdout",
     "output_type": "stream",
     "text": [
      "Results\n",
      "[('monarchyName', 'Dʿmt'), ('inceptionDate', '-979-01-01T00:00:00Z')]\n",
      "[('monarchyName', 'Ahom Kingdom'), ('inceptionDate', '1228-01-01T00:00:00Z')]\n",
      "[('monarchyName', 'Jodhpur State'), ('inceptionDate', '1250-01-01T00:00:00Z')]\n",
      "[('monarchyName', 'Baku Khanate'), ('inceptionDate', '1735-01-01T00:00:00Z')]\n",
      "[('monarchyName', 'Eastern Hungarian Kingdom'), ('inceptionDate', '1526-11-21T00:00:00Z')]\n",
      "[('monarchyName', 'Duchy of the Archipelago'), ('inceptionDate', '1207-01-01T00:00:00Z')]\n",
      "[('monarchyName', 'Kingdom of Sicily'), ('inceptionDate', '1848-03-25T00:00:00Z')]\n",
      "[('monarchyName', 'East Francia'), ('inceptionDate', '0843-01-01T00:00:00Z')]\n",
      "[('monarchyName', 'Kingdom of Hawaiʻi'), ('inceptionDate', '1795-01-01T00:00:00Z')]\n",
      "[('monarchyName', 'Duchy of Luxembourg'), ('inceptionDate', '1353-01-01T00:00:00Z')]\n"
     ]
    },
    {
     "data": {
      "text/plain": [
       "10"
      ]
     },
     "execution_count": 13,
     "metadata": {},
     "output_type": "execute_result"
    }
   ],
   "source": [
    "queryString = \"\"\"\n",
    "SELECT DISTINCT ?monarchyName ?inceptionDate WHERE { \n",
    "\n",
    "    # Retrieve inceptionDate of monarchies\n",
    "    ?monarchy   (wdt:P31|wdt:P122)/wdt:P279*  wd:Q7269       ;\n",
    "                wdt:P571                      ?inceptionDate . \n",
    "\n",
    "    # This returns the labels\n",
    "    ?monarchy <http://schema.org/name> ?monarchyName .\n",
    "}\n",
    "LIMIT 10\n",
    "\"\"\"\n",
    "\n",
    "print(\"Results\")\n",
    "run_query(queryString)"
   ]
  },
  {
   "cell_type": "markdown",
   "id": "81330e99-a1d0-482c-b0da-35bf492a74f5",
   "metadata": {},
   "source": [
    "#### END TASK 2: \n",
    "I was able to retrieve the BGP to retrieve statistical information about monarchies :\n",
    "```\n",
    "?monarchy   (wdt:P31|wdt:P122)/wdt:P279*  wd:Q7269       ;\n",
    "            wdt:P571                      ?inceptionDate ;\n",
    "            wdt:P1082                     ?population    .\n",
    "```\n",
    "\n",
    "However, when the property ***population (wdt:P1082)*** is used, multiple values are returned. \n",
    "\n",
    "This behaviour is due to the fact that Wikidata stores some additional information using ***property qualifiers*** that make use of the ***namespace pq***. \n",
    "\n",
    "Since we can't use the namespace pq in our notebook it's not possibile to retrieve some additional information. (such as when the population values were calculated)\n"
   ]
  },
  {
   "cell_type": "markdown",
   "id": "7ec48167-4532-4b30-88e8-fc5e805ee9e0",
   "metadata": {},
   "source": [
    "### ***Task 3 :*** Which is or was the country with the highest population?"
   ]
  },
  {
   "cell_type": "markdown",
   "id": "ae047b9f-183d-419d-a85c-30a346d9ccfd",
   "metadata": {},
   "source": [
    "To inspect population of different countries, I need the URI to represent a Country. \n",
    "\n",
    "To do this I use the property ***instanceOf (wdt:P31)*** with ***Italy (wd:Q38)***."
   ]
  },
  {
   "cell_type": "code",
   "execution_count": 14,
   "id": "6988f604-31c7-4243-a3fe-9a13126c10cd",
   "metadata": {},
   "outputs": [
    {
     "name": "stdout",
     "output_type": "stream",
     "text": [
      "Results\n",
      "[('class', 'http://www.wikidata.org/entity/Q3624078'), ('className', 'sovereign state')]\n",
      "[('class', 'http://www.wikidata.org/entity/Q6256'), ('className', 'country')]\n"
     ]
    },
    {
     "data": {
      "text/plain": [
       "2"
      ]
     },
     "execution_count": 14,
     "metadata": {},
     "output_type": "execute_result"
    }
   ],
   "source": [
    "queryString = \"\"\"\n",
    "SELECT ?class ?className WHERE { \n",
    "\n",
    "    # Use theh property instanceOf together with Italy\n",
    "    wd:Q38 wdt:P31 ?class .\n",
    "    \n",
    "    # This returns the labels\n",
    "    ?class <http://schema.org/name> ?className .\n",
    "}\n",
    "\"\"\"\n",
    "\n",
    "print(\"Results\")\n",
    "run_query(queryString)"
   ]
  },
  {
   "cell_type": "markdown",
   "id": "80be5595-ad9e-405e-a31f-85326a18d6ec",
   "metadata": {},
   "source": [
    "I can use ***Country(wd:Q6256)*** together with the property ***population (wdt:P1082)*** to find the country with the highest population"
   ]
  },
  {
   "cell_type": "code",
   "execution_count": 15,
   "id": "e8d85ae5-26d7-41d6-bf83-100b5b2afbfa",
   "metadata": {},
   "outputs": [
    {
     "name": "stdout",
     "output_type": "stream",
     "text": [
      "Results\n",
      "[('country', 'http://www.wikidata.org/entity/Q148'), ('countryName', \"People's Republic of China\"), ('population', '1443497378')]\n"
     ]
    },
    {
     "data": {
      "text/plain": [
       "1"
      ]
     },
     "execution_count": 15,
     "metadata": {},
     "output_type": "execute_result"
    }
   ],
   "source": [
    "queryString = \"\"\"\n",
    "SELECT ?country ?countryName ?population WHERE { \n",
    "\n",
    "    # Retrieve countries and their population\n",
    "    ?country  wdt:P31    wd:Q6256    ;\n",
    "              wdt:P1082  ?population .\n",
    "    \n",
    "    # This returns the labels\n",
    "    ?country <http://schema.org/name> ?countryName .\n",
    "}\n",
    "ORDER BY DESC (?population)\n",
    "LIMIT 1\n",
    "\"\"\"\n",
    "\n",
    "print(\"Results\")\n",
    "run_query(queryString)"
   ]
  },
  {
   "cell_type": "markdown",
   "id": "b3c66a80-1ab1-45f4-83c8-2acc11ad2840",
   "metadata": {},
   "source": [
    "#### END TASK 3: \n",
    "I discovered that the ***Country(wd:Q6256)*** with the highest population is ***People's Republic of China (wd:Q148)***."
   ]
  },
  {
   "cell_type": "markdown",
   "id": "9ec03298-84c2-4848-b0a3-9268d7d98b93",
   "metadata": {},
   "source": [
    "### ***Task 4 :*** How many countries are or have been monarchies across continents?\n",
    "First, I have to understand how Countries are related to Continents. To do this, I can retrieve all the object properties of ***Kingdom of Italy (wd:Q172579)***."
   ]
  },
  {
   "cell_type": "code",
   "execution_count": 16,
   "id": "2e6df332-cd25-44df-bb30-8087f27e4462",
   "metadata": {},
   "outputs": [
    {
     "name": "stdout",
     "output_type": "stream",
     "text": [
      "Results\n",
      "[('p', 'http://www.wikidata.org/prop/direct/P122'), ('pName', 'basic form of government')]\n",
      "[('p', 'http://www.wikidata.org/prop/direct/P1344'), ('pName', 'participant in')]\n",
      "[('p', 'http://www.wikidata.org/prop/direct/P1365'), ('pName', 'replaces')]\n",
      "[('p', 'http://www.wikidata.org/prop/direct/P1366'), ('pName', 'replaced by')]\n",
      "[('p', 'http://www.wikidata.org/prop/direct/P155'), ('pName', 'follows')]\n",
      "[('p', 'http://www.wikidata.org/prop/direct/P156'), ('pName', 'followed by')]\n",
      "[('p', 'http://www.wikidata.org/prop/direct/P163'), ('pName', 'flag')]\n",
      "[('p', 'http://www.wikidata.org/prop/direct/P17'), ('pName', 'country')]\n",
      "[('p', 'http://www.wikidata.org/prop/direct/P1889'), ('pName', 'different from')]\n",
      "[('p', 'http://www.wikidata.org/prop/direct/P237'), ('pName', 'coat of arms')]\n",
      "[('p', 'http://www.wikidata.org/prop/direct/P242'), ('pName', 'locator map image')]\n",
      "[('p', 'http://www.wikidata.org/prop/direct/P2936'), ('pName', 'language used')]\n",
      "[('p', 'http://www.wikidata.org/prop/direct/P30'), ('pName', 'continent')]\n",
      "[('p', 'http://www.wikidata.org/prop/direct/P3075'), ('pName', 'official religion')]\n",
      "[('p', 'http://www.wikidata.org/prop/direct/P31'), ('pName', 'instance of')]\n",
      "[('p', 'http://www.wikidata.org/prop/direct/P35'), ('pName', 'head of state')]\n",
      "[('p', 'http://www.wikidata.org/prop/direct/P36'), ('pName', 'capital')]\n",
      "[('p', 'http://www.wikidata.org/prop/direct/P361'), ('pName', 'part of')]\n",
      "[('p', 'http://www.wikidata.org/prop/direct/P37'), ('pName', 'official language')]\n",
      "[('p', 'http://www.wikidata.org/prop/direct/P38'), ('pName', 'currency')]\n"
     ]
    },
    {
     "data": {
      "text/plain": [
       "20"
      ]
     },
     "execution_count": 16,
     "metadata": {},
     "output_type": "execute_result"
    }
   ],
   "source": [
    "queryString = \"\"\"\n",
    "SELECT DISTINCT ?p ?pName WHERE { \n",
    "\n",
    "    # Connecting Kingdom of Italy to something\n",
    "    wd:Q172579  ?p  ?o.\n",
    "\n",
    "    # This returns the labels\n",
    "    ?p <http://schema.org/name> ?pName .\n",
    "\n",
    "    # Exclude data properties\n",
    "    FILTER(!isLiteral(?o))\n",
    "}\n",
    "LIMIT 20\n",
    "\"\"\"\n",
    "\n",
    "print(\"Results\")\n",
    "run_query(queryString)"
   ]
  },
  {
   "cell_type": "markdown",
   "id": "bc084a7d-994e-4b1a-9479-2f451006703c",
   "metadata": {},
   "source": [
    "Probably, I can use the property ***continent (wdt:P30)***. Let'see what is connected to ***Kingdom of Italy (wd:Q172579)*** through this property."
   ]
  },
  {
   "cell_type": "code",
   "execution_count": 17,
   "id": "764f4845-7390-4be4-ac1d-c701f7c6c83f",
   "metadata": {},
   "outputs": [
    {
     "name": "stdout",
     "output_type": "stream",
     "text": [
      "Results\n",
      "[('continent', 'http://www.wikidata.org/entity/Q46'), ('continentName', 'Europe')]\n"
     ]
    },
    {
     "data": {
      "text/plain": [
       "1"
      ]
     },
     "execution_count": 17,
     "metadata": {},
     "output_type": "execute_result"
    }
   ],
   "source": [
    "queryString = \"\"\"\n",
    "SELECT DISTINCT ?continent ?continentName WHERE { \n",
    "\n",
    "    # Connecting Kingdom of Italy using property Continent\n",
    "    wd:Q172579  wdt:P30 ?continent .\n",
    "\n",
    "    # This returns the labels\n",
    "    ?continent <http://schema.org/name> ?continentName .\n",
    "}\n",
    "LIMIT 20\n",
    "\"\"\"\n",
    "\n",
    "print(\"Results\")\n",
    "run_query(queryString)"
   ]
  },
  {
   "cell_type": "markdown",
   "id": "7fbdc9fb-da0a-4f00-811d-a8c2449c403d",
   "metadata": {},
   "source": [
    "I can retrieve all the monarchies and divide them by continent."
   ]
  },
  {
   "cell_type": "code",
   "execution_count": 18,
   "id": "fe18e91a-c46b-49dc-8b87-9a067cdbb900",
   "metadata": {},
   "outputs": [
    {
     "name": "stdout",
     "output_type": "stream",
     "text": [
      "Results\n",
      "[('continent', 'http://www.wikidata.org/entity/Q46'), ('continentName', 'Europe'), ('numMonarchiesByContinent', '368')]\n",
      "[('continent', 'http://www.wikidata.org/entity/Q48'), ('continentName', 'Asia'), ('numMonarchiesByContinent', '175')]\n",
      "[('continent', 'http://www.wikidata.org/entity/Q15'), ('continentName', 'Africa'), ('numMonarchiesByContinent', '68')]\n",
      "[('continent', 'http://www.wikidata.org/entity/Q49'), ('continentName', 'North America'), ('numMonarchiesByContinent', '31')]\n",
      "[('continent', 'http://www.wikidata.org/entity/Q5401'), ('continentName', 'Eurasia'), ('numMonarchiesByContinent', '14')]\n",
      "[('continent', 'http://www.wikidata.org/entity/Q538'), ('continentName', 'Insular Oceania'), ('numMonarchiesByContinent', '13')]\n",
      "[('continent', 'http://www.wikidata.org/entity/Q107665732'), ('continentName', 'Hyboria'), ('numMonarchiesByContinent', '13')]\n",
      "[('continent', 'http://www.wikidata.org/entity/Q18'), ('continentName', 'South America'), ('numMonarchiesByContinent', '8')]\n",
      "[('continent', 'http://www.wikidata.org/entity/Q108572150'), ('continentName', 'The Continent'), ('numMonarchiesByContinent', '7')]\n",
      "[('continent', 'http://www.wikidata.org/entity/Q108151247'), ('continentName', 'Thuria'), ('numMonarchiesByContinent', '6')]\n",
      "[('continent', 'http://www.wikidata.org/entity/Q828'), ('continentName', 'Americas'), ('numMonarchiesByContinent', '5')]\n",
      "[('continent', 'http://www.wikidata.org/entity/Q27611'), ('continentName', 'Central America'), ('numMonarchiesByContinent', '2')]\n",
      "[('continent', 'http://www.wikidata.org/entity/Q3960'), ('continentName', 'Australia'), ('numMonarchiesByContinent', '2')]\n",
      "[('continent', 'http://www.wikidata.org/entity/Q19464773'), ('continentName', 'Northern America and Mexico'), ('numMonarchiesByContinent', '1')]\n",
      "[('continent', 'http://www.wikidata.org/entity/Q51'), ('continentName', 'Antarctica'), ('numMonarchiesByContinent', '1')]\n",
      "[('continent', 'http://www.wikidata.org/entity/Q664609'), ('continentName', 'Caribbean'), ('numMonarchiesByContinent', '1')]\n"
     ]
    },
    {
     "data": {
      "text/plain": [
       "16"
      ]
     },
     "execution_count": 18,
     "metadata": {},
     "output_type": "execute_result"
    }
   ],
   "source": [
    "queryString = \"\"\"\n",
    "SELECT ?continent ?continentName ?numMonarchiesByContinent WHERE { \n",
    "\n",
    "    # Retrieve the number of monarchies for each continent\n",
    "    {  SELECT ?continent COUNT(DISTINCT ?monarchy) AS ?numMonarchiesByContinent WHERE {\n",
    "        \n",
    "        # Retrieve the continent of each monarchy\n",
    "        ?monarchy   (wdt:P31|wdt:P122)/wdt:P279*  wd:Q7269   ;  \n",
    "                    wdt:P30                       ?continent .\n",
    "        }\n",
    "        GROUP BY ?continent\n",
    "    }\n",
    "    \n",
    "    # This returns the labels\n",
    "    ?continent <http://schema.org/name> ?continentName . \n",
    "}\n",
    "ORDER BY DESC(?numMonarchiesByContinent)\n",
    "\"\"\"\n",
    "\n",
    "print(\"Results\")\n",
    "run_query(queryString)"
   ]
  },
  {
   "cell_type": "markdown",
   "id": "02842e2b-44b3-4d53-9c04-c16b6200ad34",
   "metadata": {},
   "source": [
    "Ok, since there are some strange continents, I want to discover more about them. I use the property ***instanceOf (wdt:P31)*** on the retrieved continents."
   ]
  },
  {
   "cell_type": "code",
   "execution_count": 19,
   "id": "d686e6c2-563f-4dd9-a55e-e185f03a4d3f",
   "metadata": {},
   "outputs": [
    {
     "name": "stdout",
     "output_type": "stream",
     "text": [
      "Results\n",
      "[('class', 'http://www.wikidata.org/entity/Q312461'), ('className', 'terra nullius')]\n",
      "[('class', 'http://www.wikidata.org/entity/Q33837'), ('className', 'archipelago')]\n",
      "[('class', 'http://www.wikidata.org/entity/Q5107'), ('className', 'continent')]\n",
      "[('class', 'http://www.wikidata.org/entity/Q82794'), ('className', 'geographic region')]\n",
      "[('class', 'http://www.wikidata.org/entity/Q17199338'), ('className', 'fictional continent')]\n",
      "[('class', 'http://www.wikidata.org/entity/Q55833'), ('className', 'supercontinent')]\n",
      "[('class', 'http://www.wikidata.org/entity/Q2418896'), ('className', 'part of the world')]\n",
      "[('class', 'http://www.wikidata.org/entity/Q855697'), ('className', 'subcontinent')]\n"
     ]
    },
    {
     "data": {
      "text/plain": [
       "8"
      ]
     },
     "execution_count": 19,
     "metadata": {},
     "output_type": "execute_result"
    }
   ],
   "source": [
    "queryString = \"\"\"\n",
    "SELECT DISTINCT ?class ?className WHERE { \n",
    "\n",
    "    # Retrieve the continent of each monarchy\n",
    "    ?monarchy   (wdt:P31|wdt:P122)/wdt:P279*  wd:Q7269   ;  \n",
    "                wdt:P30                       ?continent .\n",
    "\n",
    "    # Use the property instanceOf on the continents\n",
    "    ?continent  wdt:P31 ?class .\n",
    "    \n",
    "    # This returns the labels\n",
    "    ?continent <http://schema.org/name> ?continentName .\n",
    "    ?class <http://schema.org/name> ?className .\n",
    "\n",
    "}\n",
    "LIMIT 20\n",
    "\"\"\"\n",
    "\n",
    "print(\"Results\")\n",
    "run_query(queryString)"
   ]
  },
  {
   "cell_type": "markdown",
   "id": "794d684a-755d-46da-aa8c-a86cb486b7e6",
   "metadata": {},
   "source": [
    "I discovered that there are also some fictional continent and supercontinent. If I want only the \"traditional\" ***continents (wd:Q5107)*** I have to add this:\n",
    "```\n",
    "?continent wdt:P31 wd:Q5107 .\n",
    "```\n",
    "\n",
    "Now I can repeate the previous query (retrieve all the monarchies and divide them by continent) but using only \"traditional\" continents."
   ]
  },
  {
   "cell_type": "code",
   "execution_count": 20,
   "id": "c0e46f5b-1bcb-4020-ae4b-35dc74d825c9",
   "metadata": {},
   "outputs": [
    {
     "name": "stdout",
     "output_type": "stream",
     "text": [
      "Results\n",
      "[('continent', 'http://www.wikidata.org/entity/Q46'), ('continentName', 'Europe'), ('numMonarchiesByContinent', '368')]\n",
      "[('continent', 'http://www.wikidata.org/entity/Q48'), ('continentName', 'Asia'), ('numMonarchiesByContinent', '175')]\n",
      "[('continent', 'http://www.wikidata.org/entity/Q15'), ('continentName', 'Africa'), ('numMonarchiesByContinent', '68')]\n",
      "[('continent', 'http://www.wikidata.org/entity/Q49'), ('continentName', 'North America'), ('numMonarchiesByContinent', '31')]\n",
      "[('continent', 'http://www.wikidata.org/entity/Q538'), ('continentName', 'Insular Oceania'), ('numMonarchiesByContinent', '13')]\n",
      "[('continent', 'http://www.wikidata.org/entity/Q18'), ('continentName', 'South America'), ('numMonarchiesByContinent', '8')]\n",
      "[('continent', 'http://www.wikidata.org/entity/Q828'), ('continentName', 'Americas'), ('numMonarchiesByContinent', '5')]\n",
      "[('continent', 'http://www.wikidata.org/entity/Q3960'), ('continentName', 'Australia'), ('numMonarchiesByContinent', '2')]\n",
      "[('continent', 'http://www.wikidata.org/entity/Q51'), ('continentName', 'Antarctica'), ('numMonarchiesByContinent', '1')]\n"
     ]
    },
    {
     "data": {
      "text/plain": [
       "9"
      ]
     },
     "execution_count": 20,
     "metadata": {},
     "output_type": "execute_result"
    }
   ],
   "source": [
    "queryString = \"\"\"\n",
    "SELECT ?continent ?continentName ?numMonarchiesByContinent WHERE { \n",
    "\n",
    "    # Retrieve the number of monarchies for each continent\n",
    "    {  SELECT ?continent COUNT(DISTINCT ?monarchy) AS ?numMonarchiesByContinent WHERE {\n",
    "        \n",
    "        # Retrieve the continent of each monarchy\n",
    "        ?monarchy   (wdt:P31|wdt:P122)/wdt:P279*  wd:Q7269   ;  \n",
    "                    wdt:P30                       ?continent .\n",
    "        \n",
    "        # I want only \"traditional\" continent\n",
    "        ?continent   wdt:P31 wd:Q5107\n",
    "        }\n",
    "        GROUP BY ?continent\n",
    "    }\n",
    "    \n",
    "    # This returns the labels\n",
    "    ?continent <http://schema.org/name> ?continentName . \n",
    "}\n",
    "ORDER BY DESC(?numMonarchiesByContinent)\n",
    "\"\"\"\n",
    "\n",
    "print(\"Results\")\n",
    "run_query(queryString)"
   ]
  },
  {
   "cell_type": "markdown",
   "id": "b0d6918a-9406-4934-8826-e184363eee55",
   "metadata": {},
   "source": [
    "#### END TASK 4: \n",
    "With this final query is possible to retrieve how many countries are or have been monarchies across continents.\n",
    "\n",
    "However Wikidata is not so consistant when using ***continent (wd:Q5107)*** because of the different conventions to identify continents."
   ]
  },
  {
   "cell_type": "markdown",
   "id": "48dd449b-3fb2-4279-8edc-e12354e0e8e7",
   "metadata": {},
   "source": [
    "### ***Task 5 :*** Analyze the number of countries that were monarchies.\n",
    "In this case I want only the number of countries that replaced a monarchy, so I should use the property ***replaced by (wdt:P1366)*** on all the instanced of monarchy. \n",
    "\n",
    "I have also to ensure that the replacing state is not a monarchy."
   ]
  },
  {
   "cell_type": "code",
   "execution_count": 21,
   "id": "d63645ce-2f55-41a6-a2af-46fb5ae27580",
   "metadata": {},
   "outputs": [
    {
     "name": "stdout",
     "output_type": "stream",
     "text": [
      "Results\n",
      "[('numCountries', '227')]\n"
     ]
    },
    {
     "data": {
      "text/plain": [
       "1"
      ]
     },
     "execution_count": 21,
     "metadata": {},
     "output_type": "execute_result"
    }
   ],
   "source": [
    "queryString = \"\"\"\n",
    "SELECT COUNT (DISTINCT ?monarchy) AS ?numCountries WHERE { \n",
    "\n",
    "    # All monarchies that have been replaced (at least one time) by another state\n",
    "    ?monarchy   (wdt:P31|wdt:P122)/wdt:P279*  wd:Q7269        ;\n",
    "                wdt:P1366                     ?replacingState .\n",
    "   \n",
    "    # Ensuring that the replacing states are not monarchies\n",
    "    FILTER NOT EXISTS { ?replacingState (wdt:P31|wdt:P122)/wdt:P279*  wd:Q7269 }\n",
    "}\n",
    "\"\"\"\n",
    "\n",
    "print(\"Results\")\n",
    "run_query(queryString)"
   ]
  },
  {
   "cell_type": "markdown",
   "id": "e05ac483-9c44-4942-9bda-c25750f06573",
   "metadata": {},
   "source": [
    "#### END TASK 5: \n",
    "There are 227 monarchies that were directly replaced by a non-monarchical country."
   ]
  },
  {
   "cell_type": "markdown",
   "id": "36b2b3e4-fef0-4362-bdfe-6a96397c399a",
   "metadata": {},
   "source": [
    "### ***Task 5.1 :*** How many sub-types of monarchy exist? How many instances exist of each one?"
   ]
  },
  {
   "cell_type": "markdown",
   "id": "03f3e12c-7264-48e0-a81b-887ce68e6ec3",
   "metadata": {},
   "source": [
    "In order to to discover sub-types of monarchy, I use the property ***subclassOf (wdt:P279)*** together with the node ***monarchy (wd:Q7269)***."
   ]
  },
  {
   "cell_type": "code",
   "execution_count": 22,
   "id": "b593318d-4b41-4152-8a5f-51415b0906cf",
   "metadata": {},
   "outputs": [
    {
     "name": "stdout",
     "output_type": "stream",
     "text": [
      "Results\n",
      "[('subMonarchy', 'http://www.wikidata.org/entity/Q15622229'), ('subMonarchyName', 'patrimonialism')]\n",
      "[('subMonarchy', 'http://www.wikidata.org/entity/Q4482688'), ('subMonarchyName', 'feudal monarchy')]\n",
      "[('subMonarchy', 'http://www.wikidata.org/entity/Q179352'), ('subMonarchyName', 'despotism')]\n",
      "[('subMonarchy', 'http://www.wikidata.org/entity/Q584683'), ('subMonarchyName', 'elective monarchy')]\n",
      "[('subMonarchy', 'http://www.wikidata.org/entity/Q849242'), ('subMonarchyName', 'hereditary monarchy')]\n",
      "[('subMonarchy', 'http://www.wikidata.org/entity/Q184558'), ('subMonarchyName', 'absolute monarchy')]\n",
      "[('subMonarchy', 'http://www.wikidata.org/entity/Q3208952'), ('subMonarchyName', 'federal monarchy')]\n",
      "[('subMonarchy', 'http://www.wikidata.org/entity/Q41614'), ('subMonarchyName', 'constitutional monarchy')]\n",
      "[('subMonarchy', 'http://www.wikidata.org/entity/Q154547'), ('subMonarchyName', 'duchy')]\n",
      "[('subMonarchy', 'http://www.wikidata.org/entity/Q417175'), ('subMonarchyName', 'kingdom')]\n",
      "[('subMonarchy', 'http://www.wikidata.org/entity/Q2387481'), ('subMonarchyName', 'list of Indonesian monarchies')]\n",
      "[('subMonarchy', 'http://www.wikidata.org/entity/Q1257585'), ('subMonarchyName', 'monarchy of Barbados')]\n",
      "[('subMonarchy', 'http://www.wikidata.org/entity/Q208500'), ('subMonarchyName', 'principality')]\n",
      "[('subMonarchy', 'http://www.wikidata.org/entity/Q187587'), ('subMonarchyName', 'empire')]\n",
      "[('subMonarchy', 'http://www.wikidata.org/entity/Q7448178'), ('subMonarchyName', 'self-proclaimed monarchy')]\n",
      "[('subMonarchy', 'http://www.wikidata.org/entity/Q173843'), ('subMonarchyName', 'regency')]\n",
      "[('subMonarchy', 'http://www.wikidata.org/entity/Q11443138'), ('subMonarchyName', 'emperor system')]\n",
      "[('subMonarchy', 'http://www.wikidata.org/entity/Q147982'), ('subMonarchyName', 'tsarism')]\n",
      "[('subMonarchy', 'http://www.wikidata.org/entity/Q6898090'), ('subMonarchyName', 'Monarchy of Liechtenstein')]\n",
      "[('subMonarchy', 'http://www.wikidata.org/entity/Q3320117'), ('subMonarchyName', 'divine rights monarchy')]\n",
      "[('subMonarchy', 'http://www.wikidata.org/entity/Q3494968'), ('subMonarchyName', 'monarchies in Europe')]\n",
      "[('subMonarchy', 'http://www.wikidata.org/entity/Q1669878'), ('subMonarchyName', 'Tanistry')]\n",
      "[('subMonarchy', 'http://www.wikidata.org/entity/Q5156764'), ('subMonarchyName', 'composite monarchy')]\n",
      "[('subMonarchy', 'http://www.wikidata.org/entity/Q43675451'), ('subMonarchyName', 'Semi-constitutional monarchy')]\n",
      "[('subMonarchy', 'http://www.wikidata.org/entity/Q3510397'), ('subMonarchyName', 'Monarchies in Africa')]\n",
      "[('subMonarchy', 'http://www.wikidata.org/entity/Q26272081'), ('subMonarchyName', 'Pre-modern Korea')]\n"
     ]
    },
    {
     "data": {
      "text/plain": [
       "26"
      ]
     },
     "execution_count": 22,
     "metadata": {},
     "output_type": "execute_result"
    }
   ],
   "source": [
    "queryString = \"\"\"\n",
    "SELECT DISTINCT ?subMonarchy ?subMonarchyName WHERE { \n",
    "\n",
    "    # Retrieve everything that is subClass of a monarchy\n",
    "    ?subMonarchy  wdt:P279  wd:Q7269 .\n",
    "   \n",
    "    # This returns the labels\n",
    "    ?subMonarchy <http://schema.org/name> ?subMonarchyName . \n",
    "}\n",
    "\"\"\"\n",
    "\n",
    "print(\"Results\")\n",
    "run_query(queryString)"
   ]
  },
  {
   "cell_type": "markdown",
   "id": "44a4ebf9-04f0-4de7-81a7-8e9bd058d8d2",
   "metadata": {},
   "source": [
    "I can recognize some types of monarchies (for example federal monarchy), but there are also some specific monarchies such as Monarchy of Liechtenstein. \n",
    "\n",
    "I want to clarify better this aspect relying on the property ***instanceOf (wdt:P31)***.\n",
    "\n"
   ]
  },
  {
   "cell_type": "code",
   "execution_count": 23,
   "id": "4e5d6a0f-4627-4b53-b1df-a1469099106b",
   "metadata": {},
   "outputs": [
    {
     "name": "stdout",
     "output_type": "stream",
     "text": [
      "Results\n",
      "[('class', 'http://www.wikidata.org/entity/Q11514315'), ('className', 'historical period')]\n",
      "[('class', 'http://www.wikidata.org/entity/Q1307214'), ('className', 'form of government')]\n",
      "[('class', 'http://www.wikidata.org/entity/Q13406463'), ('className', 'Wikimedia list article')]\n",
      "[('class', 'http://www.wikidata.org/entity/Q183039'), ('className', 'form of state')]\n",
      "[('class', 'http://www.wikidata.org/entity/Q1371288'), ('className', 'vassal state')]\n",
      "[('class', 'http://www.wikidata.org/entity/Q15617994'), ('className', 'designation for an administrative territorial entity')]\n",
      "[('class', 'http://www.wikidata.org/entity/Q28108'), ('className', 'political system')]\n",
      "[('class', 'http://www.wikidata.org/entity/Q18810687'), ('className', 'political institution')]\n"
     ]
    },
    {
     "data": {
      "text/plain": [
       "8"
      ]
     },
     "execution_count": 23,
     "metadata": {},
     "output_type": "execute_result"
    }
   ],
   "source": [
    "queryString = \"\"\"\n",
    "SELECT DISTINCT ?class ?className WHERE { \n",
    "\n",
    "    # Retrieve the class of everything that is subClass of a monarchy\n",
    "    ?subMonarchy  wdt:P279  wd:Q7269 ;\n",
    "                  wdt:P31   ?class .\n",
    "   \n",
    "    # This returns the labels\n",
    "    ?class <http://schema.org/name> ?className . \n",
    "}\n",
    "\"\"\"\n",
    "\n",
    "print(\"Results\")\n",
    "run_query(queryString)"
   ]
  },
  {
   "cell_type": "markdown",
   "id": "1a855b64-604b-46d2-82ea-789fcb16f086",
   "metadata": {},
   "source": [
    "The most correct class seems to be ***form of government (wd:Q1307214)***. \n",
    "\n",
    "So, now I only retrieve sub-types of monarchy that are also istance of the class ***form of government (wd:Q1307214)***."
   ]
  },
  {
   "cell_type": "code",
   "execution_count": 24,
   "id": "4a7e5eac-54d5-46c2-ab8e-e18d33b42bd1",
   "metadata": {},
   "outputs": [
    {
     "name": "stdout",
     "output_type": "stream",
     "text": [
      "Results\n",
      "[('subMonarchy', 'http://www.wikidata.org/entity/Q15622229'), ('subMonarchyName', 'patrimonialism')]\n",
      "[('subMonarchy', 'http://www.wikidata.org/entity/Q4482688'), ('subMonarchyName', 'feudal monarchy')]\n",
      "[('subMonarchy', 'http://www.wikidata.org/entity/Q179352'), ('subMonarchyName', 'despotism')]\n",
      "[('subMonarchy', 'http://www.wikidata.org/entity/Q584683'), ('subMonarchyName', 'elective monarchy')]\n",
      "[('subMonarchy', 'http://www.wikidata.org/entity/Q849242'), ('subMonarchyName', 'hereditary monarchy')]\n",
      "[('subMonarchy', 'http://www.wikidata.org/entity/Q184558'), ('subMonarchyName', 'absolute monarchy')]\n",
      "[('subMonarchy', 'http://www.wikidata.org/entity/Q3208952'), ('subMonarchyName', 'federal monarchy')]\n",
      "[('subMonarchy', 'http://www.wikidata.org/entity/Q41614'), ('subMonarchyName', 'constitutional monarchy')]\n",
      "[('subMonarchy', 'http://www.wikidata.org/entity/Q208500'), ('subMonarchyName', 'principality')]\n",
      "[('subMonarchy', 'http://www.wikidata.org/entity/Q187587'), ('subMonarchyName', 'empire')]\n",
      "[('subMonarchy', 'http://www.wikidata.org/entity/Q11443138'), ('subMonarchyName', 'emperor system')]\n",
      "[('subMonarchy', 'http://www.wikidata.org/entity/Q147982'), ('subMonarchyName', 'tsarism')]\n",
      "[('subMonarchy', 'http://www.wikidata.org/entity/Q5156764'), ('subMonarchyName', 'composite monarchy')]\n"
     ]
    },
    {
     "data": {
      "text/plain": [
       "13"
      ]
     },
     "execution_count": 24,
     "metadata": {},
     "output_type": "execute_result"
    }
   ],
   "source": [
    "queryString = \"\"\"\n",
    "SELECT DISTINCT ?subMonarchy ?subMonarchyName WHERE { \n",
    "\n",
    "    # Retrieve form of government that are also subclasses of Monarchy\n",
    "    ?subMonarchy  wdt:P279  wd:Q7269 ;\n",
    "                  wdt:P31   wd:Q1307214 .\n",
    "   \n",
    "    # This returns the labels\n",
    "    ?subMonarchy <http://schema.org/name> ?subMonarchyName .\n",
    "}\n",
    "\"\"\"\n",
    "\n",
    "print(\"Results\")\n",
    "run_query(queryString)"
   ]
  },
  {
   "cell_type": "markdown",
   "id": "f1e641e7-fa82-449f-8ee7-1f60fab69914",
   "metadata": {},
   "source": [
    "I finally have a list of different sub-type of monarchy. Now I can count how many instances exist of each one."
   ]
  },
  {
   "cell_type": "code",
   "execution_count": 25,
   "id": "a4e38205-22a9-4380-b948-e5d56d6929e7",
   "metadata": {},
   "outputs": [
    {
     "name": "stdout",
     "output_type": "stream",
     "text": [
      "Results\n",
      "[('subMonarchyName', 'principality'), ('numIstances', '837')]\n",
      "[('subMonarchyName', 'constitutional monarchy'), ('numIstances', '201')]\n",
      "[('subMonarchyName', 'absolute monarchy'), ('numIstances', '170')]\n",
      "[('subMonarchyName', 'elective monarchy'), ('numIstances', '34')]\n",
      "[('subMonarchyName', 'feudal monarchy'), ('numIstances', '24')]\n",
      "[('subMonarchyName', 'hereditary monarchy'), ('numIstances', '22')]\n",
      "[('subMonarchyName', 'empire'), ('numIstances', '20')]\n",
      "[('subMonarchyName', 'federal monarchy'), ('numIstances', '7')]\n",
      "[('subMonarchyName', 'composite monarchy'), ('numIstances', '4')]\n",
      "[('subMonarchyName', 'patrimonialism'), ('numIstances', '2')]\n",
      "[('subMonarchyName', 'despotism'), ('numIstances', '1')]\n"
     ]
    },
    {
     "data": {
      "text/plain": [
       "11"
      ]
     },
     "execution_count": 25,
     "metadata": {},
     "output_type": "execute_result"
    }
   ],
   "source": [
    "queryString = \"\"\"\n",
    "SELECT ?subMonarchyName ?numIstances WHERE{\n",
    "\n",
    "    # Retrieve the number of countries that are a subMonarchy\n",
    "    {    SELECT ?subMonarchy COUNT(DISTINCT ?country) as ?numIstances WHERE { \n",
    "\n",
    "            # Retrieve countries that that are some instance of a subMonarchy\n",
    "            ?country (wdt:P31|wdt:P122)/wdt:P279* ?subMonarchy .\n",
    "\n",
    "            # Retrieve form of government that are subclasses of Monarchy\n",
    "            ?subMonarchy  wdt:P279  wd:Q7269 ;\n",
    "                          wdt:P31   wd:Q1307214 .\n",
    "        }\n",
    "        GROUP BY ?subMonarchy\n",
    "    }\n",
    "    \n",
    "    # This returns the labels\n",
    "    ?subMonarchy <http://schema.org/name> ?subMonarchyName .\n",
    "    \n",
    "}\n",
    "ORDER BY DESC(?numIstances)\n",
    "\"\"\"\n",
    "\n",
    "print(\"Results\")\n",
    "run_query(queryString)"
   ]
  },
  {
   "cell_type": "markdown",
   "id": "bed477d7-6a39-437f-922a-90c3b14b274a",
   "metadata": {},
   "source": [
    "#### END TASK 5.1: \n",
    "With this final query I managed to count how many instances exist of each sub-type of monarchy. \n",
    "\n",
    "In my opinion ***empire*** is a form of ***absolute monarchy*** but in the results I have both of them probably because Wikidata subclasses are not often consistently used."
   ]
  },
  {
   "cell_type": "markdown",
   "id": "21ba1a83-2006-4c9e-a444-a2df46d37dfe",
   "metadata": {},
   "source": [
    "### ***Task 5.2 :*** Are there cities that have been capital of multiple kingdoms?"
   ]
  },
  {
   "cell_type": "markdown",
   "id": "2c74e04e-d18e-4a9d-b191-dbf88ce03141",
   "metadata": {},
   "source": [
    "First of all I need to undestand how capitals are related to kingdoms.\n",
    "\n",
    "Kingdoms are a specific type of monarchy and I have already retrieve this URI in a previous query: ***Kingdom (wd:Q417175)*** .\n",
    "\n",
    "I start by showing some examples of Kingdom."
   ]
  },
  {
   "cell_type": "code",
   "execution_count": 26,
   "id": "125adf78-8d87-41aa-82e4-59a05806ed60",
   "metadata": {},
   "outputs": [
    {
     "name": "stdout",
     "output_type": "stream",
     "text": [
      "Results\n",
      "[('kingdom', 'http://www.wikidata.org/entity/Q139315'), ('kingdomName', 'Dʿmt')]\n",
      "[('kingdom', 'http://www.wikidata.org/entity/Q2308237'), ('kingdomName', 'Ahom Kingdom')]\n",
      "[('kingdom', 'http://www.wikidata.org/entity/Q625380'), ('kingdomName', 'Eastern Hungarian Kingdom')]\n",
      "[('kingdom', 'http://www.wikidata.org/entity/Q733668'), ('kingdomName', 'Ghassanids')]\n",
      "[('kingdom', 'http://www.wikidata.org/entity/Q332137'), ('kingdomName', 'Kingdom of Commagene')]\n",
      "[('kingdom', 'http://www.wikidata.org/entity/Q3359147'), ('kingdomName', 'Videha')]\n",
      "[('kingdom', 'http://www.wikidata.org/entity/Q22338414'), ('kingdomName', 'Kingdom Saal')]\n",
      "[('kingdom', 'http://www.wikidata.org/entity/Q153015'), ('kingdomName', 'Kingdom of Saxony')]\n",
      "[('kingdom', 'http://www.wikidata.org/entity/Q756617'), ('kingdomName', 'Danish Realm')]\n",
      "[('kingdom', 'http://www.wikidata.org/entity/Q1275158'), ('kingdomName', 'Elymais')]\n"
     ]
    },
    {
     "data": {
      "text/plain": [
       "10"
      ]
     },
     "execution_count": 26,
     "metadata": {},
     "output_type": "execute_result"
    }
   ],
   "source": [
    "queryString = \"\"\"\n",
    "SELECT DISTINCT ?kingdom ?kingdomName WHERE { \n",
    "\n",
    "    # Retrieve Kingdoms\n",
    "    ?kingdom (wdt:P31|wdt:P122) wd:Q417175 .\n",
    "     \n",
    "    # This returns the labels\n",
    "    ?kingdom <http://schema.org/name> ?kingdomName .\n",
    "    \n",
    "}\n",
    "LIMIT 10    \n",
    "\"\"\"\n",
    "\n",
    "print(\"Results\")\n",
    "run_query(queryString)"
   ]
  },
  {
   "cell_type": "markdown",
   "id": "10e5e836-b511-4114-9be2-c04636ea8394",
   "metadata": {},
   "source": [
    "Now I  show all the object properties of a specific Kingdom such as ***Kingdom of Saxony (wd:Q153015)***."
   ]
  },
  {
   "cell_type": "code",
   "execution_count": 27,
   "id": "64255b12-15b3-4293-975e-9d4567119863",
   "metadata": {},
   "outputs": [
    {
     "name": "stdout",
     "output_type": "stream",
     "text": [
      "Results\n",
      "[('p', 'http://www.wikidata.org/prop/direct/P122'), ('pName', 'basic form of government')]\n",
      "[('p', 'http://www.wikidata.org/prop/direct/P131'), ('pName', 'located in the administrative territorial entity')]\n",
      "[('p', 'http://www.wikidata.org/prop/direct/P1343'), ('pName', 'described by source')]\n",
      "[('p', 'http://www.wikidata.org/prop/direct/P140'), ('pName', 'religion')]\n",
      "[('p', 'http://www.wikidata.org/prop/direct/P155'), ('pName', 'follows')]\n",
      "[('p', 'http://www.wikidata.org/prop/direct/P194'), ('pName', 'legislative body')]\n",
      "[('p', 'http://www.wikidata.org/prop/direct/P242'), ('pName', 'locator map image')]\n",
      "[('p', 'http://www.wikidata.org/prop/direct/P2936'), ('pName', 'language used')]\n",
      "[('p', 'http://www.wikidata.org/prop/direct/P30'), ('pName', 'continent')]\n",
      "[('p', 'http://www.wikidata.org/prop/direct/P31'), ('pName', 'instance of')]\n",
      "[('p', 'http://www.wikidata.org/prop/direct/P36'), ('pName', 'capital')]\n",
      "[('p', 'http://www.wikidata.org/prop/direct/P37'), ('pName', 'official language')]\n",
      "[('p', 'http://www.wikidata.org/prop/direct/P38'), ('pName', 'currency')]\n",
      "[('p', 'http://www.wikidata.org/prop/direct/P41'), ('pName', 'flag image')]\n",
      "[('p', 'http://www.wikidata.org/prop/direct/P463'), ('pName', 'member of')]\n",
      "[('p', 'http://www.wikidata.org/prop/direct/P47'), ('pName', 'shares border with')]\n",
      "[('p', 'http://www.wikidata.org/prop/direct/P85'), ('pName', 'anthem')]\n",
      "[('p', 'http://www.wikidata.org/prop/direct/P910'), ('pName', \"topic's main category\")]\n",
      "[('p', 'http://www.wikidata.org/prop/direct/P94'), ('pName', 'coat of arms image')]\n"
     ]
    },
    {
     "data": {
      "text/plain": [
       "19"
      ]
     },
     "execution_count": 27,
     "metadata": {},
     "output_type": "execute_result"
    }
   ],
   "source": [
    "queryString = \"\"\"\n",
    "SELECT DISTINCT ?p ?pName WHERE { \n",
    "\n",
    "    # Everything that is connected to Kingdom of Saxony\n",
    "    wd:Q153015 ?p ?o.\n",
    "           \n",
    "    # This returns the labels\n",
    "    ?p <http://schema.org/name> ?pName .\n",
    "    \n",
    "    # Exclude data properties\n",
    "    FILTER(!isLiteral(?o))\n",
    "} \n",
    "\"\"\"\n",
    "\n",
    "print(\"Results\")\n",
    "run_query(queryString)"
   ]
  },
  {
   "cell_type": "markdown",
   "id": "f2fe23e5-5e83-4a96-a59d-41b6092a724e",
   "metadata": {},
   "source": [
    "I want to see what is connected through the property ***capital (wdt:P36)***."
   ]
  },
  {
   "cell_type": "code",
   "execution_count": 28,
   "id": "1bf62bac-e10d-4e75-bfa1-89963ad8448f",
   "metadata": {},
   "outputs": [
    {
     "name": "stdout",
     "output_type": "stream",
     "text": [
      "Results\n",
      "[('capital', 'http://www.wikidata.org/entity/Q1731'), ('capitalName', 'Dresden')]\n"
     ]
    },
    {
     "data": {
      "text/plain": [
       "1"
      ]
     },
     "execution_count": 28,
     "metadata": {},
     "output_type": "execute_result"
    }
   ],
   "source": [
    "queryString = \"\"\"\n",
    "SELECT DISTINCT ?capital ?capitalName WHERE { \n",
    "\n",
    "    # Connecting Kingdom of Saxony using the property capital\n",
    "    wd:Q153015 wdt:P36 ?capital.\n",
    "           \n",
    "    # This returns the labels\n",
    "    ?capital <http://schema.org/name> ?capitalName .\n",
    "} \n",
    "\"\"\"\n",
    "\n",
    "print(\"Results\")\n",
    "run_query(queryString)"
   ]
  },
  {
   "cell_type": "markdown",
   "id": "a3bb8a71-8d54-4f97-894e-0d0ec5981846",
   "metadata": {},
   "source": [
    "It works as expected. I want to retrieve the URI for a City so I use ***istanceOf (wdt:P31)*** with ***Dresden (wd:Q1731)***."
   ]
  },
  {
   "cell_type": "code",
   "execution_count": 29,
   "id": "1d8ed2d7-b27a-4503-9ba6-10c622fa617f",
   "metadata": {},
   "outputs": [
    {
     "name": "stdout",
     "output_type": "stream",
     "text": [
      "Results\n",
      "[('class', 'http://www.wikidata.org/entity/Q14784328'), ('className', 'state capital in Germany')]\n",
      "[('class', 'http://www.wikidata.org/entity/Q1549591'), ('className', 'big city')]\n",
      "[('class', 'http://www.wikidata.org/entity/Q253030'), ('className', 'major regional center')]\n",
      "[('class', 'http://www.wikidata.org/entity/Q42744322'), ('className', 'urban municipality of Germany')]\n",
      "[('class', 'http://www.wikidata.org/entity/Q515'), ('className', 'city')]\n",
      "[('class', 'http://www.wikidata.org/entity/Q61708099'), ('className', 'urban district in Saxony')]\n"
     ]
    },
    {
     "data": {
      "text/plain": [
       "6"
      ]
     },
     "execution_count": 29,
     "metadata": {},
     "output_type": "execute_result"
    }
   ],
   "source": [
    "queryString = \"\"\"\n",
    "SELECT DISTINCT ?class?className WHERE { \n",
    "\n",
    "    # Connecting Dresden using the property istanceOf\n",
    "    wd:Q1731 wdt:P31 ?class.\n",
    "           \n",
    "    # This returns the labels\n",
    "    ?class <http://schema.org/name> ?className .\n",
    "} \n",
    "\"\"\"\n",
    "\n",
    "print(\"Results\")\n",
    "run_query(queryString)"
   ]
  },
  {
   "cell_type": "markdown",
   "id": "b90e4795-fe1a-443c-9b84-dbb666190706",
   "metadata": {},
   "source": [
    "I try to retrieve some cities using ***City (wd:Q515)***."
   ]
  },
  {
   "cell_type": "code",
   "execution_count": 30,
   "id": "db9b19a3-9e7d-455b-9b30-d626702b6451",
   "metadata": {},
   "outputs": [
    {
     "name": "stdout",
     "output_type": "stream",
     "text": [
      "Results\n",
      "[('city', 'http://www.wikidata.org/entity/Q180226'), ('cityName', 'Rancho Palos Verdes')]\n",
      "[('city', 'http://www.wikidata.org/entity/Q2156427'), ('cityName', 'Destin')]\n",
      "[('city', 'http://www.wikidata.org/entity/Q712977'), ('cityName', 'Checheng')]\n",
      "[('city', 'http://www.wikidata.org/entity/Q982554'), ('cityName', 'Coppell')]\n",
      "[('city', 'http://www.wikidata.org/entity/Q1014001'), ('cityName', 'Montgomery')]\n",
      "[('city', 'http://www.wikidata.org/entity/Q2076243'), ('cityName', 'Collins')]\n",
      "[('city', 'http://www.wikidata.org/entity/Q2333965'), ('cityName', 'Chisholm')]\n",
      "[('city', 'http://www.wikidata.org/entity/Q377736'), ('cityName', 'Bell')]\n",
      "[('city', 'http://www.wikidata.org/entity/Q576830'), ('cityName', 'Oakbrook Terrace')]\n",
      "[('city', 'http://www.wikidata.org/entity/Q578778'), ('cityName', 'Northlake')]\n"
     ]
    },
    {
     "data": {
      "text/plain": [
       "10"
      ]
     },
     "execution_count": 30,
     "metadata": {},
     "output_type": "execute_result"
    }
   ],
   "source": [
    "queryString = \"\"\"\n",
    "SELECT DISTINCT ?city ?cityName WHERE { \n",
    "\n",
    "    # Retrieving cities\n",
    "    ?city wdt:P31/wdt:P279* wd:Q515.\n",
    "           \n",
    "    # This returns the labels\n",
    "    ?city <http://schema.org/name> ?cityName .\n",
    "}\n",
    "LIMIT 10\n",
    "\"\"\"\n",
    "\n",
    "print(\"Results\")\n",
    "run_query(queryString)"
   ]
  },
  {
   "cell_type": "markdown",
   "id": "83d675db-1ead-4875-a8e2-2548b9e824b3",
   "metadata": {},
   "source": [
    "I want to retrieve only capitals of kingdoms."
   ]
  },
  {
   "cell_type": "code",
   "execution_count": 31,
   "id": "9fac4d41-502b-4190-aead-d688e5d9f11c",
   "metadata": {},
   "outputs": [
    {
     "name": "stdout",
     "output_type": "stream",
     "text": [
      "Results\n",
      "[('kingdomName', 'Kingdom of Hungary'), ('capitalName', 'Budapest')]\n",
      "[('kingdomName', 'Kingdom of Hungary in the Middle Ages'), ('capitalName', 'Esztergom')]\n",
      "[('kingdomName', 'Eastern Hungarian Kingdom'), ('capitalName', 'Lipova')]\n",
      "[('kingdomName', 'Kingdom of Wessex'), ('capitalName', 'London')]\n",
      "[('kingdomName', 'Kingdom of Essex'), ('capitalName', 'London')]\n",
      "[('kingdomName', 'Luyag na Kaboloan'), ('capitalName', 'San Carlos')]\n",
      "[('kingdomName', 'Kingdom of the Netherlands'), ('capitalName', 'Amsterdam')]\n",
      "[('kingdomName', 'Kingdom of Dalmatia'), ('capitalName', 'Split')]\n",
      "[('kingdomName', 'Kingdom of Saxony'), ('capitalName', 'Dresden')]\n",
      "[('kingdomName', 'Danish Realm'), ('capitalName', 'Copenhagen')]\n"
     ]
    },
    {
     "data": {
      "text/plain": [
       "10"
      ]
     },
     "execution_count": 31,
     "metadata": {},
     "output_type": "execute_result"
    }
   ],
   "source": [
    "queryString = \"\"\"\n",
    "SELECT DISTINCT ?kingdomName ?capitalName WHERE { \n",
    "\n",
    "    # Retrieve Kingdoms and their capitals\n",
    "    ?kingdom (wdt:P31|wdt:P122) wd:Q417175 ;\n",
    "             wdt:P36            ?capital.\n",
    "    \n",
    "    # Ensuring that capitals are instances of city\n",
    "    ?capital wdt:P31/wdt:P279* wd:Q515.\n",
    "           \n",
    "    # This returns the labels\n",
    "    ?kingdom <http://schema.org/name> ?kingdomName .\n",
    "    ?capital <http://schema.org/name> ?capitalName .\n",
    "}\n",
    "LIMIT 10\n",
    "\"\"\"\n",
    "\n",
    "print(\"Results\")\n",
    "run_query(queryString)"
   ]
  },
  {
   "cell_type": "markdown",
   "id": "a9a092c7-9cf6-4616-a53c-69989b74ede2",
   "metadata": {},
   "source": [
    "I can finally retrieve cities that have been capital of multiple kingdoms."
   ]
  },
  {
   "cell_type": "code",
   "execution_count": 32,
   "id": "93cdda49-f2c6-4dfb-b444-f7eeaf4788d8",
   "metadata": {},
   "outputs": [
    {
     "name": "stdout",
     "output_type": "stream",
     "text": [
      "Results\n",
      "[('capital', 'http://www.wikidata.org/entity/Q172415'), ('capitalName', 'Kutaisi'), ('numKingdoms', '4')]\n",
      "[('capital', 'http://www.wikidata.org/entity/Q193478'), ('capitalName', 'Buda'), ('numKingdoms', '3')]\n",
      "[('capital', 'http://www.wikidata.org/entity/Q994'), ('capitalName', 'Tbilisi'), ('numKingdoms', '2')]\n",
      "[('capital', 'http://www.wikidata.org/entity/Q1748'), ('capitalName', 'Copenhagen'), ('numKingdoms', '2')]\n",
      "[('capital', 'http://www.wikidata.org/entity/Q41496'), ('capitalName', 'Thanjavur'), ('numKingdoms', '2')]\n",
      "[('capital', 'http://www.wikidata.org/entity/Q1530'), ('capitalName', 'Baghdad'), ('numKingdoms', '2')]\n",
      "[('capital', 'http://www.wikidata.org/entity/Q84'), ('capitalName', 'London'), ('numKingdoms', '2')]\n",
      "[('capital', 'http://www.wikidata.org/entity/Q1218'), ('capitalName', 'Jerusalem'), ('numKingdoms', '2')]\n"
     ]
    },
    {
     "data": {
      "text/plain": [
       "8"
      ]
     },
     "execution_count": 32,
     "metadata": {},
     "output_type": "execute_result"
    }
   ],
   "source": [
    "queryString = \"\"\"\n",
    "SELECT ?capital ?capitalName COUNT(DISTINCT ?kingdom) AS ?numKingdoms WHERE { \n",
    "\n",
    "        # Retrieve kingdoms and their capitals\n",
    "        ?kingdom (wdt:P31|wdt:P122)  wd:Q417175 ;\n",
    "                      wdt:P36            ?capital   .\n",
    "\n",
    "        # Ensuring that capitals are instances of city\n",
    "        ?capital wdt:P31/wdt:P279* wd:Q515.\n",
    "            \n",
    "        # This returns the labels\n",
    "        ?kingdom <http://schema.org/name> ?kingdomName .\n",
    "        ?capital <http://schema.org/name> ?capitalName .\n",
    "\n",
    "}\n",
    "GROUP BY ?capital ?capitalName\n",
    "HAVING (COUNT(DISTINCT ?kingdom) > 1)\n",
    "ORDER BY DESC(?numKingdoms)\n",
    " \n",
    "\"\"\"\n",
    "\n",
    "print(\"Results\")\n",
    "run_query(queryString)"
   ]
  },
  {
   "cell_type": "markdown",
   "id": "1fce6b34-9c23-481d-bd47-58367bbc506b",
   "metadata": {},
   "source": [
    "I want also to show the names of the kingdoms using ***GROUP_CONCAT***."
   ]
  },
  {
   "cell_type": "code",
   "execution_count": 33,
   "id": "b7a435b5-7079-4fcf-9be4-503778efe87d",
   "metadata": {},
   "outputs": [
    {
     "name": "stdout",
     "output_type": "stream",
     "text": [
      "Results\n",
      "[('capital', 'http://www.wikidata.org/entity/Q172415'), ('capitalName', 'Kutaisi'), ('numKingdoms', '4'), ('kingdoms', 'Colchis, Kingdom of Abkhazia, Kingdom of Georgia, Kingdom of Imereti')]\n",
      "[('capital', 'http://www.wikidata.org/entity/Q193478'), ('capitalName', 'Buda'), ('numKingdoms', '3'), ('kingdoms', 'Eastern Hungarian Kingdom, Kingdom of Hungary')]\n",
      "[('capital', 'http://www.wikidata.org/entity/Q994'), ('capitalName', 'Tbilisi'), ('numKingdoms', '2'), ('kingdoms', 'Kingdom of Georgia, Kingdom of Kartli')]\n",
      "[('capital', 'http://www.wikidata.org/entity/Q1748'), ('capitalName', 'Copenhagen'), ('numKingdoms', '2'), ('kingdoms', 'Danish Realm, Kalmar Union')]\n",
      "[('capital', 'http://www.wikidata.org/entity/Q41496'), ('capitalName', 'Thanjavur'), ('numKingdoms', '2'), ('kingdoms', 'Thanjavur Maratha kingdom, Thanjavur Nayak kingdom')]\n",
      "[('capital', 'http://www.wikidata.org/entity/Q1530'), ('capitalName', 'Baghdad'), ('numKingdoms', '2'), ('kingdoms', 'Buyid dynasty, Kingdom of Iraq')]\n",
      "[('capital', 'http://www.wikidata.org/entity/Q84'), ('capitalName', 'London'), ('numKingdoms', '2'), ('kingdoms', 'Kingdom of Essex, Kingdom of Wessex')]\n",
      "[('capital', 'http://www.wikidata.org/entity/Q1218'), ('capitalName', 'Jerusalem'), ('numKingdoms', '2'), ('kingdoms', 'Judah, Kingdom of Israel')]\n"
     ]
    },
    {
     "data": {
      "text/plain": [
       "8"
      ]
     },
     "execution_count": 33,
     "metadata": {},
     "output_type": "execute_result"
    }
   ],
   "source": [
    "queryString = \"\"\"\n",
    "SELECT ?capital ?capitalName COUNT(DISTINCT ?kingdom) AS ?numKingdoms (GROUP_CONCAT(DISTINCT ?kingdomName ; separator = \", \") AS ?kingdoms) WHERE { \n",
    "\n",
    "        # Retrieve kingdoms and their capitals\n",
    "        ?kingdom (wdt:P31|wdt:P122)  wd:Q417175 ;\n",
    "                      wdt:P36            ?capital   .\n",
    "\n",
    "        # Ensuring that capitals are instances of city\n",
    "        ?capital wdt:P31/wdt:P279* wd:Q515.\n",
    "            \n",
    "        # This returns the labels\n",
    "        ?kingdom <http://schema.org/name> ?kingdomName .\n",
    "        ?capital <http://schema.org/name> ?capitalName .\n",
    "\n",
    "}\n",
    "GROUP BY ?capital ?capitalName\n",
    "HAVING (COUNT(DISTINCT ?kingdom) > 1)\n",
    "ORDER BY DESC(?numKingdoms)\n",
    "\"\"\"\n",
    "\n",
    "print(\"Results\")\n",
    "run_query(queryString)"
   ]
  },
  {
   "cell_type": "markdown",
   "id": "437c019f-5825-41f0-ab82-58d4d99fe0ef",
   "metadata": {},
   "source": [
    "#### END TASK 5.2: \n",
    "With this final query I showed cities that have been capital of multiple kingdoms. ***Kutaisi (wd:Q172415)*** is the city that have been capital of the highest number of kingdoms."
   ]
  },
  {
   "cell_type": "markdown",
   "id": "6b905c38-ad21-4c88-8b79-50771a106991",
   "metadata": {},
   "source": [
    "### ***Task 5.3 :*** Which are the top-3 monarchies with the earliest inception and still existing?"
   ]
  },
  {
   "cell_type": "markdown",
   "id": "1fe3c715-7886-41b2-bbbd-767a715401c2",
   "metadata": {},
   "source": [
    "In a previous query I have already discovered how to retrieve inceptionDate using the property ***inception (wdt:P571)***. \n",
    "\n",
    "Now, I need to understand how to ensure that a monarchy is still existing. \n",
    "\n",
    "I retrieve another time all the data properties of ***Kingdom of Italy (wd:Q172579)***."
   ]
  },
  {
   "cell_type": "code",
   "execution_count": 34,
   "id": "b801e1a6-61d9-4814-9e46-b18013744fd1",
   "metadata": {},
   "outputs": [
    {
     "name": "stdout",
     "output_type": "stream",
     "text": [
      "Results\n",
      "[('p', 'http://www.wikidata.org/prop/direct/P1082'), ('pName', 'population')]\n",
      "[('p', 'http://www.wikidata.org/prop/direct/P1417'), ('pName', 'Encyclopædia Britannica Online ID')]\n",
      "[('p', 'http://www.wikidata.org/prop/direct/P1448'), ('pName', 'official name')]\n",
      "[('p', 'http://www.wikidata.org/prop/direct/P1549'), ('pName', 'demonym')]\n",
      "[('p', 'http://www.wikidata.org/prop/direct/P1711'), ('pName', 'British Museum person or institution ID')]\n",
      "[('p', 'http://www.wikidata.org/prop/direct/P1813'), ('pName', 'short name')]\n",
      "[('p', 'http://www.wikidata.org/prop/direct/P2046'), ('pName', 'area')]\n",
      "[('p', 'http://www.wikidata.org/prop/direct/P214'), ('pName', 'VIAF ID')]\n",
      "[('p', 'http://www.wikidata.org/prop/direct/P3417'), ('pName', 'Quora topic ID')]\n",
      "[('p', 'http://www.wikidata.org/prop/direct/P373'), ('pName', 'Commons category')]\n",
      "[('p', 'http://www.wikidata.org/prop/direct/P4839'), ('pName', 'Wolfram Language entity code')]\n",
      "[('p', 'http://www.wikidata.org/prop/direct/P571'), ('pName', 'inception')]\n",
      "[('p', 'http://www.wikidata.org/prop/direct/P576'), ('pName', 'dissolved, abolished or demolished date')]\n",
      "[('p', 'http://www.wikidata.org/prop/direct/P6262'), ('pName', 'Fandom article ID')]\n",
      "[('p', 'http://www.wikidata.org/prop/direct/P646'), ('pName', 'Freebase ID')]\n",
      "[('p', 'http://www.wikidata.org/prop/direct/P7818'), ('pName', 'French Vikidia ID')]\n",
      "[('p', 'http://www.wikidata.org/prop/direct/P7822'), ('pName', 'Italian Vikidia ID')]\n",
      "[('p', 'http://www.wikidata.org/prop/direct/P7827'), ('pName', 'Spanish Vikidia ID')]\n",
      "[('p', 'http://www.wikidata.org/prop/direct/P7859'), ('pName', 'WorldCat Identities ID')]\n",
      "[('p', 'http://www.wikidata.org/prop/direct/P9507'), ('pName', 'NBM authority ID')]\n"
     ]
    },
    {
     "data": {
      "text/plain": [
       "20"
      ]
     },
     "execution_count": 34,
     "metadata": {},
     "output_type": "execute_result"
    }
   ],
   "source": [
    "queryString = \"\"\"\n",
    "SELECT DISTINCT ?p ?pName WHERE { \n",
    "\n",
    "    # Connecting Kingdom of Italy to something\n",
    "    wd:Q172579  ?p  ?o.\n",
    "\n",
    "    # This returns the labels\n",
    "    ?p <http://schema.org/name> ?pName .\n",
    "\n",
    "    # Only data properties\n",
    "    FILTER(isLiteral(?o))\n",
    "}\n",
    "LIMIT 20\n",
    "\"\"\"\n",
    "\n",
    "print(\"Results\")\n",
    "run_query(queryString)"
   ]
  },
  {
   "cell_type": "markdown",
   "id": "2cd6a8c9-31aa-49cf-af83-33a934817c71",
   "metadata": {},
   "source": [
    "Probably, I can use the property ***dissolved, abolished or demolished date (wdt:P576)*** to actually check if a monarchy is still existing. I try to use this property."
   ]
  },
  {
   "cell_type": "code",
   "execution_count": 35,
   "id": "10f2ba9e-9ad2-4ea2-85fc-51d6ad553cbd",
   "metadata": {},
   "outputs": [
    {
     "name": "stdout",
     "output_type": "stream",
     "text": [
      "Results\n",
      "[('dissolutionDate', '1946-06-18T00:00:00Z')]\n"
     ]
    },
    {
     "data": {
      "text/plain": [
       "1"
      ]
     },
     "execution_count": 35,
     "metadata": {},
     "output_type": "execute_result"
    }
   ],
   "source": [
    "queryString = \"\"\"\n",
    "SELECT ?dissolutionDate WHERE { \n",
    "\n",
    "    # Retrieve the dissolutionDate of Kingdom of Italy\n",
    "    wd:Q172579  wdt:P576  ?dissolutionDate.\n",
    "\n",
    "}\n",
    "\"\"\"\n",
    "\n",
    "print(\"Results\")\n",
    "run_query(queryString)"
   ]
  },
  {
   "cell_type": "markdown",
   "id": "e0fdf93c-dacf-4584-a6aa-f4494dcfd6a6",
   "metadata": {},
   "source": [
    "I retrieve the inception date of the monarchies (using ***inception (wdt:P571)***) that are still existing, so the ones that do not have the property ***dissolved, abolished or demolished date (wdt:P576)***."
   ]
  },
  {
   "cell_type": "code",
   "execution_count": 36,
   "id": "df273bd1-cb11-4657-9e0b-8b59d1624a46",
   "metadata": {},
   "outputs": [
    {
     "name": "stdout",
     "output_type": "stream",
     "text": [
      "Results\n",
      "[('monarchy', 'http://www.wikidata.org/entity/Q2349630'), ('monarchyName', 'Galactic Empire'), ('inceptionDate', '11584-01-01T00:00:00Z')]\n",
      "[('monarchy', 'http://www.wikidata.org/entity/Q787336'), ('monarchyName', 'Roman Catholic Diocese of Metz'), ('inceptionDate', '0201-01-01T00:00:00Z')]\n",
      "[('monarchy', 'http://www.wikidata.org/entity/Q42834'), ('monarchyName', 'Western Roman Empire (395-476 AD)'), ('inceptionDate', '0395-01-18T00:00:00Z')]\n",
      "[('monarchy', 'http://www.wikidata.org/entity/Q384237'), ('monarchyName', 'duchy of Asti'), ('inceptionDate', '0569-01-01T00:00:00Z')]\n",
      "[('monarchy', 'http://www.wikidata.org/entity/Q1249360'), ('monarchyName', 'Roman Catholic Diocese of Bolzano-Brixen'), ('inceptionDate', '0600-01-01T00:00:00Z')]\n",
      "[('monarchy', 'http://www.wikidata.org/entity/Q34'), ('monarchyName', 'Sweden'), ('inceptionDate', '0700-01-01T00:00:00Z')]\n",
      "[('monarchy', 'http://www.wikidata.org/entity/Q756617'), ('monarchyName', 'Danish Realm'), ('inceptionDate', '0800-01-01T00:00:00Z')]\n",
      "[('monarchy', 'http://www.wikidata.org/entity/Q35'), ('monarchyName', 'Denmark'), ('inceptionDate', '0800-01-01T00:00:00Z')]\n",
      "[('monarchy', 'http://www.wikidata.org/entity/Q1000124'), ('monarchyName', 'Gansu Uyghur Kingdom'), ('inceptionDate', '0848-01-01T00:00:00Z')]\n",
      "[('monarchy', 'http://www.wikidata.org/entity/Q20'), ('monarchyName', 'Norway'), ('inceptionDate', '0900-01-01T00:00:00Z')]\n"
     ]
    },
    {
     "data": {
      "text/plain": [
       "10"
      ]
     },
     "execution_count": 36,
     "metadata": {},
     "output_type": "execute_result"
    }
   ],
   "source": [
    "queryString = \"\"\"\n",
    "SELECT DISTINCT ?monarchy ?monarchyName ?inceptionDate WHERE { \n",
    "\n",
    "    # Retrieve monarchies and their inceptionDate\n",
    "    ?monarchy   (wdt:P31|wdt:P122)/wdt:P279*  wd:Q7269       ; \n",
    "                wdt:P571                      ?inceptionDate .\n",
    "\n",
    "    # This returns the labels\n",
    "    ?monarchy <http://schema.org/name> ?monarchyName .\n",
    "    \n",
    "    # Ensuring that monarchies are still existing\n",
    "    FILTER NOT EXISTS { ?monarchy wdt:P576 ?dissolutionDate }\n",
    "}\n",
    "ORDER BY ASC(?inceptionDate)\n",
    "LIMIT 10\n",
    "\"\"\"\n",
    "\n",
    "print(\"Results\")\n",
    "run_query(queryString)"
   ]
  },
  {
   "cell_type": "markdown",
   "id": "1333406c-ded7-44c4-8cc5-425b033601ba",
   "metadata": {},
   "source": [
    "There are some strange reesult so I start to inspect them using ***instanceOf (wdt:P31)***, one by one starting from the oldest one.\n",
    "\n",
    "First, I have ***Galactic Empire (wd:Q2349630)***."
   ]
  },
  {
   "cell_type": "code",
   "execution_count": 37,
   "id": "cc6be06e-c6ca-4a0a-b3b0-c63a292eabcf",
   "metadata": {},
   "outputs": [
    {
     "name": "stdout",
     "output_type": "stream",
     "text": [
      "Results\n",
      "[('class', 'http://www.wikidata.org/entity/Q653007'), ('className', 'galactic empire')]\n",
      "[('class', 'http://www.wikidata.org/entity/Q19595246'), ('className', 'fictional empire')]\n"
     ]
    },
    {
     "data": {
      "text/plain": [
       "2"
      ]
     },
     "execution_count": 37,
     "metadata": {},
     "output_type": "execute_result"
    }
   ],
   "source": [
    "queryString = \"\"\"\n",
    "SELECT ?class ?className WHERE { \n",
    "\n",
    "    # Connecting Galactic Empire using instanceOf\n",
    "    wd:Q2349630  wdt:P31 ?class .\n",
    "\n",
    "    # This returns the labels\n",
    "    ?class <http://schema.org/name> ?className .\n",
    "}\n",
    "\"\"\"\n",
    "\n",
    "print(\"Results\")\n",
    "run_query(queryString)"
   ]
  },
  {
   "cell_type": "markdown",
   "id": "cdc3d8d2-8b95-4961-9e4a-69cc020fcf31",
   "metadata": {},
   "source": [
    "The ***Galactic Empire (wd:Q2349630)*** is a fictional empire, so I have to exclude it.\n",
    "\n",
    "It's time for ***Roman Catholic Diocese of Metz (wd:Q787336)***."
   ]
  },
  {
   "cell_type": "code",
   "execution_count": 38,
   "id": "a2ce9ee9-f16b-40cb-9669-0ee3dd756068",
   "metadata": {},
   "outputs": [
    {
     "name": "stdout",
     "output_type": "stream",
     "text": [
      "Results\n",
      "[('class', 'http://www.wikidata.org/entity/Q2665272'), ('className', 'Ecclesiastical circumscription immediately subject to the Holy See')]\n",
      "[('class', 'http://www.wikidata.org/entity/Q3403564'), ('className', 'ecclesiastical principality')]\n",
      "[('class', 'http://www.wikidata.org/entity/Q3146899'), ('className', 'diocese of the Catholic Church')]\n"
     ]
    },
    {
     "data": {
      "text/plain": [
       "3"
      ]
     },
     "execution_count": 38,
     "metadata": {},
     "output_type": "execute_result"
    }
   ],
   "source": [
    "queryString = \"\"\"\n",
    "SELECT ?class ?className WHERE { \n",
    "\n",
    "    # Connecting Roman Catholic Diocese of Metz using instanceOf\n",
    "    wd:Q787336  wdt:P31 ?class .\n",
    "\n",
    "    # This returns the labels\n",
    "    ?class <http://schema.org/name> ?className .\n",
    "}\n",
    "\"\"\"\n",
    "\n",
    "print(\"Results\")\n",
    "run_query(queryString)"
   ]
  },
  {
   "cell_type": "markdown",
   "id": "fc77fff8-1f6e-4b75-a9e8-d617240596e7",
   "metadata": {},
   "source": [
    "The ***Roman Catholic Diocese of Metz (wd:Q787336)*** (and probably also Roman Catholic Diocese of Bolzano-Brixen ) is an ***ecclesiastical principality (wd:Q3403564)***. \n",
    "\n",
    "Since principality is a specific sub-type of monarchy (as I discovered in a previous query) it is also considered a monarchy.\n",
    "\n",
    "In my opinion, I should not consider it since nowadays dioceses can not be considered monarchies. Indeed, they can be considered more like territorial jurisdictions rather than \"real countries\".\n",
    "\n",
    "Now I try to discover more about ***Western Roman Empire (395-476 AD) (wd:Q42834)*** ."
   ]
  },
  {
   "cell_type": "code",
   "execution_count": 39,
   "id": "18a5ea8b-ab20-47bf-b89b-90e09dbbbaaa",
   "metadata": {},
   "outputs": [
    {
     "name": "stdout",
     "output_type": "stream",
     "text": [
      "Results\n",
      "[('class', 'http://www.wikidata.org/entity/Q3024240'), ('className', 'historical country')]\n",
      "[('class', 'http://www.wikidata.org/entity/Q48349'), ('className', 'empire')]\n"
     ]
    },
    {
     "data": {
      "text/plain": [
       "2"
      ]
     },
     "execution_count": 39,
     "metadata": {},
     "output_type": "execute_result"
    }
   ],
   "source": [
    "queryString = \"\"\"\n",
    "SELECT ?class ?className WHERE { \n",
    "\n",
    "    # Connecting Western Roman Empire  using instanceOf\n",
    "    wd:Q42834  wdt:P31 ?class .\n",
    "\n",
    "    # This returns the labels\n",
    "    ?class <http://schema.org/name> ?className .\n",
    "}\n",
    "\"\"\"\n",
    "\n",
    "print(\"Results\")\n",
    "run_query(queryString)"
   ]
  },
  {
   "cell_type": "markdown",
   "id": "cbad8933-7438-4baa-814c-fff157689c95",
   "metadata": {},
   "source": [
    "The Western Roman Empire (395-476 AD)  is of course a real empire, but probably ***dissolved, abolished or demolished date (wdt:P576)*** is missing. I show all the properties."
   ]
  },
  {
   "cell_type": "code",
   "execution_count": 40,
   "id": "df177efb-61c2-47c0-aeb4-6d3da40f316e",
   "metadata": {},
   "outputs": [
    {
     "name": "stdout",
     "output_type": "stream",
     "text": [
      "Results\n",
      "[('p', 'http://www.wikidata.org/prop/direct/P122'), ('pName', 'basic form of government')]\n",
      "[('p', 'http://www.wikidata.org/prop/direct/P1245'), ('pName', 'OmegaWiki Defined Meaning')]\n",
      "[('p', 'http://www.wikidata.org/prop/direct/P1282'), ('pName', 'OpenStreetMap tag or key')]\n",
      "[('p', 'http://www.wikidata.org/prop/direct/P1343'), ('pName', 'described by source')]\n",
      "[('p', 'http://www.wikidata.org/prop/direct/P1365'), ('pName', 'replaces')]\n",
      "[('p', 'http://www.wikidata.org/prop/direct/P1366'), ('pName', 'replaced by')]\n",
      "[('p', 'http://www.wikidata.org/prop/direct/P140'), ('pName', 'religion')]\n",
      "[('p', 'http://www.wikidata.org/prop/direct/P156'), ('pName', 'followed by')]\n",
      "[('p', 'http://www.wikidata.org/prop/direct/P1667'), ('pName', 'Getty Thesaurus of Geographic Names ID')]\n",
      "[('p', 'http://www.wikidata.org/prop/direct/P17'), ('pName', 'country')]\n",
      "[('p', 'http://www.wikidata.org/prop/direct/P194'), ('pName', 'legislative body')]\n",
      "[('p', 'http://www.wikidata.org/prop/direct/P214'), ('pName', 'VIAF ID')]\n",
      "[('p', 'http://www.wikidata.org/prop/direct/P227'), ('pName', 'GND ID')]\n",
      "[('p', 'http://www.wikidata.org/prop/direct/P242'), ('pName', 'locator map image')]\n",
      "[('p', 'http://www.wikidata.org/prop/direct/P244'), ('pName', 'Library of Congress authority ID')]\n",
      "[('p', 'http://www.wikidata.org/prop/direct/P2936'), ('pName', 'language used')]\n",
      "[('p', 'http://www.wikidata.org/prop/direct/P30'), ('pName', 'continent')]\n",
      "[('p', 'http://www.wikidata.org/prop/direct/P3075'), ('pName', 'official religion')]\n",
      "[('p', 'http://www.wikidata.org/prop/direct/P31'), ('pName', 'instance of')]\n",
      "[('p', 'http://www.wikidata.org/prop/direct/P3417'), ('pName', 'Quora topic ID')]\n",
      "[('p', 'http://www.wikidata.org/prop/direct/P3569'), ('pName', 'Cultureel Woordenboek ID')]\n",
      "[('p', 'http://www.wikidata.org/prop/direct/P36'), ('pName', 'capital')]\n",
      "[('p', 'http://www.wikidata.org/prop/direct/P37'), ('pName', 'official language')]\n",
      "[('p', 'http://www.wikidata.org/prop/direct/P373'), ('pName', 'Commons category')]\n",
      "[('p', 'http://www.wikidata.org/prop/direct/P38'), ('pName', 'currency')]\n",
      "[('p', 'http://www.wikidata.org/prop/direct/P4212'), ('pName', 'PACTOLS thesaurus ID')]\n",
      "[('p', 'http://www.wikidata.org/prop/direct/P47'), ('pName', 'shares border with')]\n",
      "[('p', 'http://www.wikidata.org/prop/direct/P5063'), ('pName', 'Interlingual Index ID')]\n",
      "[('p', 'http://www.wikidata.org/prop/direct/P571'), ('pName', 'inception')]\n",
      "[('p', 'http://www.wikidata.org/prop/direct/P646'), ('pName', 'Freebase ID')]\n",
      "[('p', 'http://www.wikidata.org/prop/direct/P7818'), ('pName', 'French Vikidia ID')]\n",
      "[('p', 'http://www.wikidata.org/prop/direct/P7859'), ('pName', 'WorldCat Identities ID')]\n",
      "[('p', 'http://www.wikidata.org/prop/direct/P8408'), ('pName', 'KBpedia ID')]\n",
      "[('p', 'http://www.wikidata.org/prop/direct/P8814'), ('pName', 'WordNet 3.1 Synset ID')]\n",
      "[('p', 'http://www.wikidata.org/prop/direct/P910'), ('pName', \"topic's main category\")]\n",
      "[('p', 'http://www.wikidata.org/prop/direct/P94'), ('pName', 'coat of arms image')]\n"
     ]
    },
    {
     "data": {
      "text/plain": [
       "36"
      ]
     },
     "execution_count": 40,
     "metadata": {},
     "output_type": "execute_result"
    }
   ],
   "source": [
    "queryString = \"\"\"\n",
    "SELECT DISTINCT ?p ?pName WHERE { \n",
    "\n",
    "    # Retrieve all the properties of Western Roman Empire \n",
    "    wd:Q42834  ?p ?o .\n",
    "\n",
    "    # This returns the labels\n",
    "    ?p <http://schema.org/name> ?pName .\n",
    "}\n",
    "\"\"\"\n",
    "\n",
    "print(\"Results\")\n",
    "run_query(queryString)"
   ]
  },
  {
   "cell_type": "markdown",
   "id": "fbc7ba44-bf92-44f7-8a96-7847d4789891",
   "metadata": {},
   "source": [
    "The property ***dissolved, abolished or demolished date (wdt:P576)*** is missing. \n",
    "\n",
    "I can notice that Western Roman Empire (395-476 AD) was actually replaced by another state (due to the presence of the property ***replacedBy (wdt:P1366)***, so I should not consider it.\n",
    "\n",
    "I inspect the ***duchy of Asti (wd:Q384237)***."
   ]
  },
  {
   "cell_type": "code",
   "execution_count": 41,
   "id": "0450a537-c4e9-4041-93b0-356761988f24",
   "metadata": {},
   "outputs": [
    {
     "name": "stdout",
     "output_type": "stream",
     "text": [
      "Results\n",
      "[('class', 'http://www.wikidata.org/entity/Q154547'), ('className', 'duchy')]\n"
     ]
    },
    {
     "data": {
      "text/plain": [
       "1"
      ]
     },
     "execution_count": 41,
     "metadata": {},
     "output_type": "execute_result"
    }
   ],
   "source": [
    "queryString = \"\"\"\n",
    "SELECT ?class ?className WHERE { \n",
    "\n",
    "    # Connecting duchy of Asti sing instanceOf\n",
    "    wd:Q384237 wdt:P31 ?class .\n",
    "\n",
    "    # This returns the labels\n",
    "    ?class <http://schema.org/name> ?className .\n",
    "}\n",
    "\"\"\"\n",
    "\n",
    "print(\"Results\")\n",
    "run_query(queryString)"
   ]
  },
  {
   "cell_type": "markdown",
   "id": "a10f4041-a657-4a6f-b9c4-ca071275cacd",
   "metadata": {},
   "source": [
    "The ***duchy of Asti (wd:Q384237)*** seems to be a real monarchy but maybe ***dissolved, abolished or demolished date (wdt:P576)*** is missing. I show all the properties."
   ]
  },
  {
   "cell_type": "code",
   "execution_count": 42,
   "id": "8d206714-fb72-47c4-bae0-67f338b83c56",
   "metadata": {},
   "outputs": [
    {
     "name": "stdout",
     "output_type": "stream",
     "text": [
      "Results\n",
      "[('p', 'http://www.wikidata.org/prop/direct/P2671'), ('pName', 'Google Knowledge Graph ID')]\n",
      "[('p', 'http://www.wikidata.org/prop/direct/P31'), ('pName', 'instance of')]\n",
      "[('p', 'http://www.wikidata.org/prop/direct/P36'), ('pName', 'capital')]\n",
      "[('p', 'http://www.wikidata.org/prop/direct/P571'), ('pName', 'inception')]\n"
     ]
    },
    {
     "data": {
      "text/plain": [
       "4"
      ]
     },
     "execution_count": 42,
     "metadata": {},
     "output_type": "execute_result"
    }
   ],
   "source": [
    "queryString = \"\"\"\n",
    "SELECT DISTINCT ?p ?pName WHERE { \n",
    "\n",
    "    # Retrieve all the properties of duchy of Asti\n",
    "    wd:Q384237  ?p ?o .\n",
    "\n",
    "    # This returns the labels\n",
    "    ?p <http://schema.org/name> ?pName .\n",
    "}\n",
    "\"\"\"\n",
    "\n",
    "print(\"Results\")\n",
    "run_query(queryString)"
   ]
  },
  {
   "cell_type": "markdown",
   "id": "556ff6e8-a3dc-4dae-8fdc-f66b5bfa2c7b",
   "metadata": {},
   "source": [
    "In this case the information about dissolutionDate is missing, so I should exclude it.\n",
    "\n",
    "I excluded all the strange cases. The answer to the initial question should focus on these: Sweden, Danish Realm, Denmark, Norway.\n",
    "\n",
    "I want to check if there is any property between ***Danish Realm (wd:Q756617)*** and ***Denmark (wd:Q35)***."
   ]
  },
  {
   "cell_type": "code",
   "execution_count": 43,
   "id": "97885a72-4e29-406b-af92-319fd4ad5711",
   "metadata": {},
   "outputs": [
    {
     "name": "stdout",
     "output_type": "stream",
     "text": [
      "Results\n",
      "[('p', 'http://www.wikidata.org/prop/direct/P150'), ('pName', 'contains administrative territorial entity')]\n",
      "[('p', 'http://www.wikidata.org/prop/direct/P1889'), ('pName', 'different from')]\n",
      "[('p', 'http://www.wikidata.org/prop/direct/P527'), ('pName', 'has part')]\n"
     ]
    },
    {
     "data": {
      "text/plain": [
       "3"
      ]
     },
     "execution_count": 43,
     "metadata": {},
     "output_type": "execute_result"
    }
   ],
   "source": [
    "queryString = \"\"\"\n",
    "SELECT DISTINCT ?p ?pName WHERE { \n",
    "\n",
    "    # Retrieve all the properties between Danish Realm and Denmark\n",
    "    wd:Q756617 ?p wd:Q35 .\n",
    "    \n",
    "    # This returns the labels\n",
    "    ?p <http://schema.org/name> ?pName .\n",
    "}\n",
    "\"\"\"\n",
    "\n",
    "print(\"Results\")\n",
    "run_query(queryString)"
   ]
  },
  {
   "cell_type": "markdown",
   "id": "f67eb2b0-4755-4d4c-8ef8-124f30770212",
   "metadata": {},
   "source": [
    "Due to the property ***hasPart (wdt:P527)***  I can consider ***Denmark (wd:Q35)*** as a part of the ***Danish Realm (wd:Q756617)***.\n",
    "\n",
    "#### END TASK 5.2: \n",
    "\n",
    "I can finally answer to the initial question. The top-3 monarchies with the earliest inception and still existing are:\n",
    "* ***Sweden*** with inceptionDate = ***'0700-01-01T00:00:00Z'***\n",
    "* ***Danish Realm*** with inceptionDate = ***'0800-01-01T00:00:00Z'***\n",
    "* ***Norway*** with inceptionDate = ***'0900-01-01T00:00:00Z'***\n",
    "\n",
    "In my opinion, it is difficult to write a single query to answer this question, without inspecting one by one all the strange cases. Indeed, even if it is actually possibile to remove \"fictional empire\", the other cases were due to some missing information or due to the fact that ecclesiastic dioceses nowadays should be not considered monarchies."
   ]
  },
  {
   "cell_type": "markdown",
   "id": "f2b43a26-f415-4c40-824b-76c09821969a",
   "metadata": {},
   "source": [
    "### Extra analytics query\n",
    "\n",
    "#### Show the average population of countries among the different continents."
   ]
  },
  {
   "cell_type": "code",
   "execution_count": 44,
   "id": "bdf9775b-48a7-431b-9a7d-5c4b4a56032c",
   "metadata": {},
   "outputs": [
    {
     "name": "stdout",
     "output_type": "stream",
     "text": [
      "Results\n",
      "[('continent', 'http://www.wikidata.org/entity/Q48'), ('continentName', 'Asia'), ('avgPopulationByContinent', '100504008.58695652173913')]\n",
      "[('continent', 'http://www.wikidata.org/entity/Q18'), ('continentName', 'South America'), ('avgPopulationByContinent', '35175756.5')]\n",
      "[('continent', 'http://www.wikidata.org/entity/Q538'), ('continentName', 'Insular Oceania'), ('avgPopulationByContinent', '33846238.894736842105263')]\n",
      "[('continent', 'http://www.wikidata.org/entity/Q49'), ('continentName', 'North America'), ('avgPopulationByContinent', '24971270.833333333333333')]\n",
      "[('continent', 'http://www.wikidata.org/entity/Q15'), ('continentName', 'Africa'), ('avgPopulationByContinent', '24154589.769230769230769')]\n",
      "[('continent', 'http://www.wikidata.org/entity/Q46'), ('continentName', 'Europe'), ('avgPopulationByContinent', '14890442.8')]\n"
     ]
    },
    {
     "data": {
      "text/plain": [
       "6"
      ]
     },
     "execution_count": 44,
     "metadata": {},
     "output_type": "execute_result"
    }
   ],
   "source": [
    "queryString = \"\"\"\n",
    "SELECT ?continent ?continentName AVG(xsd:integer(?population)) AS ?avgPopulationByContinent WHERE {\n",
    "        \n",
    "    # Retrieve countries and their population and also their continent\n",
    "    ?country   wdt:P31     wd:Q6256    ;\n",
    "               wdt:P1082   ?population ;\n",
    "               wdt:P30     ?continent  .\n",
    "\n",
    "    # I want only \"traditional\" continent\n",
    "    ?continent wdt:P31 wd:Q5107 .\n",
    "            \n",
    "    # This returns the labels\n",
    "    ?continent <http://schema.org/name> ?continentName .\n",
    "}\n",
    "GROUP BY ?continent ?continentName\n",
    "ORDER BY DESC(?avgPopulationByContinent)\n",
    "\"\"\"\n",
    "\n",
    "print(\"Results\")\n",
    "run_query(queryString)"
   ]
  },
  {
   "cell_type": "markdown",
   "id": "6a8582c1-e00f-449a-abc8-fb4ea38d5b3f",
   "metadata": {},
   "source": [
    "#### Show the three most populated monarchies with dissolutionDate before 1700."
   ]
  },
  {
   "cell_type": "code",
   "execution_count": 45,
   "id": "422cd1f8-2204-415e-b94b-35f046dde0ad",
   "metadata": {},
   "outputs": [
    {
     "name": "stdout",
     "output_type": "stream",
     "text": [
      "Results\n",
      "[('monarchyName', 'Mongol Empire'), ('population', '160000000'), ('dissolutionDate', '1368-01-01T00:00:00Z')]\n",
      "[('monarchyName', 'Umayyad Caliphate'), ('population', '70000000'), ('dissolutionDate', '0750-01-01T00:00:00Z')]\n",
      "[('monarchyName', 'Han dynasty'), ('population', '59594978'), ('dissolutionDate', '0220-01-01T00:00:00Z')]\n"
     ]
    },
    {
     "data": {
      "text/plain": [
       "3"
      ]
     },
     "execution_count": 45,
     "metadata": {},
     "output_type": "execute_result"
    }
   ],
   "source": [
    "queryString = \"\"\"\n",
    "SELECT DISTINCT ?monarchyName ?population ?dissolutionDate WHERE {\n",
    "        \n",
    "            # Retrieve monarchies, their population and also their dissolutionDate\n",
    "            ?monarchy (wdt:P31|wdt:P122)/wdt:P279*   wd:Q7269         ;\n",
    "                       wdt:P1082                     ?population      ;\n",
    "                       wdt:P576                      ?dissolutionDate .\n",
    "                    \n",
    "\n",
    "            # This returns the labels\n",
    "            ?monarchy <http://schema.org/name> ?monarchyName .\n",
    "            \n",
    "            # Only monarchies with dissolution date before 1700\n",
    "            FILTER (?dissolutionDate < \"1700-01-01T00:00:00Z\"^^xsd:dateTime)\n",
    "}\n",
    "ORDER BY DESC(?population)\n",
    "LIMIT 3\n",
    "\"\"\"\n",
    "\n",
    "print(\"Results\")\n",
    "run_query(queryString)"
   ]
  },
  {
   "cell_type": "markdown",
   "id": "a6f92d8b-f83c-4eac-9203-695057fa2cc8",
   "metadata": {},
   "source": [
    "#### Show average population of monarchies with dissolutionDate before 1700 among different continents."
   ]
  },
  {
   "cell_type": "code",
   "execution_count": 46,
   "id": "a9423204-3192-485a-97ac-9081ade52e46",
   "metadata": {},
   "outputs": [
    {
     "name": "stdout",
     "output_type": "stream",
     "text": [
      "Results\n",
      "[('continent', 'http://www.wikidata.org/entity/Q15'), ('continentName', 'Africa'), ('avgPopulationMonarchies', '42333333.333333333333333')]\n",
      "[('continent', 'http://www.wikidata.org/entity/Q48'), ('continentName', 'Asia'), ('avgPopulationMonarchies', '30186870.444444444444444')]\n",
      "[('continent', 'http://www.wikidata.org/entity/Q46'), ('continentName', 'Europe'), ('avgPopulationMonarchies', '16900000')]\n",
      "[('continent', 'http://www.wikidata.org/entity/Q828'), ('continentName', 'Americas'), ('avgPopulationMonarchies', '1500000')]\n"
     ]
    },
    {
     "data": {
      "text/plain": [
       "4"
      ]
     },
     "execution_count": 46,
     "metadata": {},
     "output_type": "execute_result"
    }
   ],
   "source": [
    "queryString = \"\"\"\n",
    "SELECT ?continent ?continentName AVG(xsd:integer(?population)) AS ?avgPopulationMonarchies WHERE {\n",
    "\n",
    "    # Retrieve monarchies, their population and also their dissolutionDate\n",
    "    ?monarchy (wdt:P31|wdt:P122)/wdt:P279*  wd:Q7269         ;\n",
    "              wdt:P1082                     ?population      ;\n",
    "              wdt:P576                      ?dissolutionDate ;\n",
    "              wdt:P30                       ?continent       .\n",
    "\n",
    "    # I want only \"traditional\" continent\n",
    "    ?continent wdt:P31    wd:Q5107    .\n",
    "\n",
    "    # Only monarchies with dissolution date before 1700\n",
    "    FILTER (?dissolutionDate < \"1700-01-01T00:00:00Z\"^^xsd:dateTime)\n",
    "                \n",
    "    # This returns the labels\n",
    "    ?continent <http://schema.org/name> ?continentName .\n",
    "}\n",
    "GROUP BY ?continent ?continentName\n",
    "ORDER BY DESC(?avgPopulationMonarchies)\n",
    "\n",
    "\"\"\"\n",
    "\n",
    "print(\"Results\")\n",
    "run_query(queryString)"
   ]
  },
  {
   "cell_type": "markdown",
   "id": "3dea01b6-4599-424e-b643-c1a394668829",
   "metadata": {},
   "source": [
    "#### Show monarchies with the highest number of capitals."
   ]
  },
  {
   "cell_type": "code",
   "execution_count": 47,
   "id": "d8b839d8-1ff9-40dd-be8e-d6f4362a73cc",
   "metadata": {},
   "outputs": [
    {
     "name": "stdout",
     "output_type": "stream",
     "text": [
      "Results\n",
      "[('monarchy', 'http://www.wikidata.org/entity/Q12548'), ('monarchyName', 'Holy Roman Empire'), ('numCapitals', '5')]\n",
      "[('monarchy', 'http://www.wikidata.org/entity/Q3708094'), ('monarchyName', 'Seljuk Empire'), ('numCapitals', '4')]\n",
      "[('monarchy', 'http://www.wikidata.org/entity/Q33296'), ('monarchyName', 'Mughal Empire'), ('numCapitals', '4')]\n",
      "[('monarchy', 'http://www.wikidata.org/entity/Q45670'), ('monarchyName', 'Kingdom of Portugal'), ('numCapitals', '4')]\n",
      "[('monarchy', 'http://www.wikidata.org/entity/Q22880'), ('monarchyName', 'Electoral Palatinate'), ('numCapitals', '3')]\n",
      "[('monarchy', 'http://www.wikidata.org/entity/Q193619'), ('monarchyName', 'Union of South Africa'), ('numCapitals', '3')]\n",
      "[('monarchy', 'http://www.wikidata.org/entity/Q188586'), ('monarchyName', 'Kingdom of Sicily'), ('numCapitals', '3')]\n",
      "[('monarchy', 'http://www.wikidata.org/entity/Q200464'), ('monarchyName', 'Portuguese Empire'), ('numCapitals', '3')]\n",
      "[('monarchy', 'http://www.wikidata.org/entity/Q2721139'), ('monarchyName', 'Captaincy General of the Philippines'), ('numCapitals', '3')]\n",
      "[('monarchy', 'http://www.wikidata.org/entity/Q199442'), ('monarchyName', 'Kingdom of Aragon'), ('numCapitals', '3')]\n"
     ]
    },
    {
     "data": {
      "text/plain": [
       "10"
      ]
     },
     "execution_count": 47,
     "metadata": {},
     "output_type": "execute_result"
    }
   ],
   "source": [
    "queryString = \"\"\"\n",
    "SELECT ?monarchy ?monarchyName (COUNT(DISTINCT ?capital) AS ?numCapitals) WHERE { \n",
    "\n",
    "    # Retrieve monarchies and their capitals\n",
    "    ?monarchy (wdt:P31|wdt:P122)/wdt:P279*   wd:Q7269 ;\n",
    "               wdt:P36                       ?capital .\n",
    "\n",
    "    # Ensuring that capitals are instances of city\n",
    "    ?capital   wdt:P31/wdt:P279*             wd:Q515  .   \n",
    "            \n",
    "    # This returns the labels\n",
    "    ?monarchy <http://schema.org/name> ?monarchyName .\n",
    "}\n",
    "GROUP BY ?monarchy ?monarchyName\n",
    "HAVING (COUNT(DISTINCT ?capital) > 1)\n",
    "ORDER BY DESC(?numCapitals)\n",
    "LIMIT 10\n",
    "\"\"\"\n",
    "\n",
    "print(\"Results\")\n",
    "run_query(queryString)"
   ]
  },
  {
   "cell_type": "markdown",
   "id": "fd3ee5ff-b581-4fde-8cf9-691aba48c27b",
   "metadata": {},
   "source": [
    "#### Show also the names of these capitals."
   ]
  },
  {
   "cell_type": "code",
   "execution_count": 48,
   "id": "a197ee72-7f85-4f28-80d1-95257b0ed477",
   "metadata": {},
   "outputs": [
    {
     "name": "stdout",
     "output_type": "stream",
     "text": [
      "Results\n",
      "[('monarchy', 'http://www.wikidata.org/entity/Q12548'), ('monarchyName', 'Holy Roman Empire'), ('numCapitals', '5'), ('capitals', 'Aachen, Prague, Regensburg, Vienna, Wetzlar')]\n",
      "[('monarchy', 'http://www.wikidata.org/entity/Q3708094'), ('monarchyName', 'Seljuk Empire'), ('numCapitals', '4'), ('capitals', 'Hamadan, Isfahan, Nishapur, Ray')]\n",
      "[('monarchy', 'http://www.wikidata.org/entity/Q33296'), ('monarchyName', 'Mughal Empire'), ('numCapitals', '4'), ('capitals', 'Agra, Delhi, Lahore, Old Delhi')]\n",
      "[('monarchy', 'http://www.wikidata.org/entity/Q45670'), ('monarchyName', 'Kingdom of Portugal'), ('numCapitals', '4'), ('capitals', 'Coimbra, Guimarães, Lisbon, Rio de Janeiro')]\n",
      "[('monarchy', 'http://www.wikidata.org/entity/Q22880'), ('monarchyName', 'Electoral Palatinate'), ('numCapitals', '3'), ('capitals', 'Düsseldorf, Heidelberg, Mannheim')]\n",
      "[('monarchy', 'http://www.wikidata.org/entity/Q193619'), ('monarchyName', 'Union of South Africa'), ('numCapitals', '3'), ('capitals', 'Bloemfontein, Cape Town, Pretoria')]\n",
      "[('monarchy', 'http://www.wikidata.org/entity/Q188586'), ('monarchyName', 'Kingdom of Sicily'), ('numCapitals', '3'), ('capitals', 'Catania, Naples, Palermo')]\n",
      "[('monarchy', 'http://www.wikidata.org/entity/Q200464'), ('monarchyName', 'Portuguese Empire'), ('numCapitals', '3'), ('capitals', 'Coimbra, Lisbon, Rio de Janeiro')]\n",
      "[('monarchy', 'http://www.wikidata.org/entity/Q2721139'), ('monarchyName', 'Captaincy General of the Philippines'), ('numCapitals', '3'), ('capitals', 'Cebu City, Iloilo City, Manila')]\n",
      "[('monarchy', 'http://www.wikidata.org/entity/Q199442'), ('monarchyName', 'Kingdom of Aragon'), ('numCapitals', '3'), ('capitals', 'Huesca, Jaca, Zaragoza')]\n"
     ]
    },
    {
     "data": {
      "text/plain": [
       "10"
      ]
     },
     "execution_count": 48,
     "metadata": {},
     "output_type": "execute_result"
    }
   ],
   "source": [
    "queryString = \"\"\"\n",
    "SELECT ?monarchy ?monarchyName (COUNT(DISTINCT ?capital) AS ?numCapitals) (GROUP_CONCAT(DISTINCT ?capitalName ; separator = \", \") AS ?capitals) WHERE { \n",
    "\n",
    "    # Retrieve monarchies and their capitals\n",
    "    ?monarchy (wdt:P31|wdt:P122)/wdt:P279*   wd:Q7269 ;\n",
    "               wdt:P36                       ?capital .\n",
    "\n",
    "    # Ensuring that capitals are instances of city\n",
    "    ?capital   wdt:P31/wdt:P279*             wd:Q515  .   \n",
    "            \n",
    "    # This returns the labels\n",
    "    ?monarchy <http://schema.org/name> ?monarchyName .\n",
    "    ?capital  <http://schema.org/name> ?capitalName .\n",
    "}\n",
    "GROUP BY ?monarchy ?monarchyName\n",
    "HAVING (COUNT(DISTINCT ?capital) > 1)\n",
    "ORDER BY DESC(?numCapitals)\n",
    "LIMIT 10\n",
    "\"\"\"\n",
    "\n",
    "print(\"Results\")\n",
    "run_query(queryString)"
   ]
  },
  {
   "cell_type": "markdown",
   "id": "6e9afbff-b5cc-47d4-8e41-21fa6f5cefd9",
   "metadata": {},
   "source": [
    "#### Show the average number of capitals for monarchies with at least 2 capitals"
   ]
  },
  {
   "cell_type": "code",
   "execution_count": 49,
   "id": "1d63275c-42ca-49a9-94f4-5268cd7bd13a",
   "metadata": {},
   "outputs": [
    {
     "name": "stdout",
     "output_type": "stream",
     "text": [
      "Results\n",
      "[('avgNumCapitals', '2.301075268817204')]\n"
     ]
    },
    {
     "data": {
      "text/plain": [
       "1"
      ]
     },
     "execution_count": 49,
     "metadata": {},
     "output_type": "execute_result"
    }
   ],
   "source": [
    "queryString = \"\"\"\n",
    "SELECT AVG(?numCapitals) AS ?avgNumCapitals WHERE{\n",
    " \n",
    "    {   SELECT ?monarchy (COUNT(DISTINCT ?capital) AS ?numCapitals) WHERE { \n",
    "\n",
    "            # Retrieve monarchies and their capitals\n",
    "            ?monarchy (wdt:P31|wdt:P122)/wdt:P279*   wd:Q7269 ;\n",
    "                       wdt:P36                       ?capital .\n",
    "\n",
    "            # Ensuring that capitals are instances of city\n",
    "            ?capital   wdt:P31/wdt:P279*             wd:Q515  .     \n",
    "            \n",
    "            \n",
    "            # This returns the labels\n",
    "            ?monarchy <http://schema.org/name> ?monarchyName .\n",
    "        }\n",
    "        GROUP BY ?monarchy\n",
    "        HAVING (COUNT(DISTINCT ?capital) > 1)\n",
    "        }    \n",
    "}\n",
    "\"\"\"\n",
    "\n",
    "print(\"Results\")\n",
    "run_query(queryString)"
   ]
  },
  {
   "cell_type": "markdown",
   "id": "5d1ee768-2b68-4753-9ec5-2db61ecac89a",
   "metadata": {},
   "source": [
    "##  END"
   ]
  }
 ],
 "metadata": {
  "kernelspec": {
   "display_name": "Python 3 (ipykernel)",
   "language": "python",
   "name": "python3"
  },
  "language_info": {
   "codemirror_mode": {
    "name": "ipython",
    "version": 3
   },
   "file_extension": ".py",
   "mimetype": "text/x-python",
   "name": "python",
   "nbconvert_exporter": "python",
   "pygments_lexer": "ipython3",
   "version": "3.7.10"
  }
 },
 "nbformat": 4,
 "nbformat_minor": 5
}
