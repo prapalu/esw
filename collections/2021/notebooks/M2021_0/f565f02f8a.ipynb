{
 "cells": [
  {
   "cell_type": "markdown",
   "id": "7034c3bf-6eb0-4418-8687-7b9d2a501103",
   "metadata": {},
   "source": [
    "# General instructions\n",
    "\n",
    "The goal of the project is to materialize a set of **exploratory workloads** over a real-world, large-scale,  open-domain KG: [WikiData](https://www.wikidata.org/wiki/Wikidata:Main_Page)\n",
    "\n",
    "An exploratory workload  is composed by a set of queries, where each query is related to the information obtained previously.\n",
    "\n",
    "An exploratory workload starts with a usually vague, open ended question, and does not assume the person issuing the workload has a clear understanding of the data contained in the target database or its structure.\n",
    "\n",
    "Remeber that:\n",
    "\n",
    "1. All the queries must run in the python notebook\n",
    "2. You can use classes and properties only if you find them via a SPARQL query that must be present in the notebook\n",
    "3. You do not delete useless queries. Keep everything that is synthatically valid \n",
    "\n",
    "```\n",
    "?p <http://schema.org/name> ?name .\n",
    "```\n",
    "    \n",
    "is the BGP returning a human-readable name of a property or a class in Wikidata.\n",
    "    \n",
    "    "
   ]
  },
  {
   "cell_type": "code",
   "execution_count": 1,
   "id": "3605c9d5-5371-49a5-be8d-d66e8f417139",
   "metadata": {},
   "outputs": [],
   "source": [
    "## SETUP used later\n",
    "\n",
    "from SPARQLWrapper import SPARQLWrapper, JSON\n",
    "\n",
    "\n",
    "prefixString = \"\"\"\n",
    "##-f565f02f8a-##\n",
    "PREFIX wd: <http://www.wikidata.org/entity/> \n",
    "PREFIX wdt: <http://www.wikidata.org/prop/direct/> \n",
    "PREFIX sc: <http://schema.org/>\n",
    "\"\"\"\n",
    "\n",
    "# select and construct queries\n",
    "def run_query(queryString):\n",
    "    to_run = prefixString + \"\\n\" + queryString\n",
    "\n",
    "    sparql = SPARQLWrapper(\"http://a256-gc1-02.srv.aau.dk:5820/sparql\")\n",
    "    sparql.setTimeout(300)\n",
    "    sparql.setReturnFormat(JSON)\n",
    "    sparql.setQuery(to_run)\n",
    "\n",
    "    try :\n",
    "       results = sparql.query()\n",
    "       json_results = results.convert()\n",
    "       if len(json_results['results']['bindings'])==0:\n",
    "          print(\"Empty\")\n",
    "          return 0\n",
    "    \n",
    "       for bindings in json_results['results']['bindings']:\n",
    "          print( [ (var, value['value'])  for var, value in bindings.items() ] )\n",
    "\n",
    "       return len(json_results['results']['bindings'])\n",
    "\n",
    "    except Exception as e :\n",
    "        print(\"The operation failed\", e)\n",
    "    \n",
    "# ASk queries\n",
    "def run_ask_query(queryString):\n",
    "    to_run = prefixString + \"\\n\" + queryString\n",
    "\n",
    "    sparql = SPARQLWrapper(\"http://a256-gc1-02.srv.aau.dk:5820/sparql\")\n",
    "    sparql.setTimeout(300)\n",
    "    sparql.setReturnFormat(JSON)\n",
    "    sparql.setQuery(to_run)\n",
    "\n",
    "    try :\n",
    "        return sparql.query().convert()\n",
    "\n",
    "    except Exception as e :\n",
    "        print(\"The operation failed\", e)\n"
   ]
  },
  {
   "cell_type": "markdown",
   "id": "d477a59c-a68c-4c8f-9f97-8ca5294d7d27",
   "metadata": {},
   "source": [
    "# Companies Workflow Series (\"Trademarks across the world\") \n",
    "\n",
    "Consider the following exploratory information need:\n",
    "\n",
    "> You are investigating different kinds of trademarks"
   ]
  },
  {
   "cell_type": "markdown",
   "id": "4a45c0ba-f79e-441d-bec5-84401b09db70",
   "metadata": {},
   "source": [
    "## Useful URIs for the current workflow\n",
    "\n",
    "\n",
    "The following are given:\n",
    "\n",
    "| IRI           | Description   | Role      |\n",
    "| -----------   | -----------   |-----------|\n",
    "| `wdt:P1647`   | subproperty   | predicate |\n",
    "| `wdt:P31`     | instance of   | predicate |\n",
    "| `wdt:P279`    | subclass      | predicate |\n",
    "| `wdt:P17`      | country       | predicate |\n",
    "| `wdt:P27`      | citizenship   | predicate |\n",
    "| `wd:Q167270`  | trademark     | node      |\n",
    "| `wd:Q14091`   | iMac          | node      |\n",
    "| `wd:Q312`     | Apple Inc.    | node      |\n",
    "\n",
    "\n",
    "\n",
    "Also consider\n",
    "\n",
    "```\n",
    "?p wdt:P31/wdt:P279* wd:Q167270  . \n",
    "```\n",
    "\n",
    "is the BGP to retrieve all **entities that are trademarks**"
   ]
  },
  {
   "cell_type": "markdown",
   "id": "7af439fb-96e4-4dbb-a381-f19afab79f86",
   "metadata": {
    "tags": []
   },
   "source": [
    "## Workload Goals\n",
    "\n",
    "1. Identify the BGP for the company or person related to a given trademark\n",
    "\n",
    "2. Identify the BGP to retrieve types or categories for a given trademark\n",
    "\n",
    "3. What companies have the largest number of trademarks? \n",
    "\n",
    "4. What are the types of trademarks, how many trademarks exist for each type?\n",
    "\n",
    "5. Analyze the number of trademarks across types, companies, and countries\n",
    " \n",
    "   5.1 How many U.S. companies hold trademarks? In which sectors?\n",
    "   \n",
    "   5.2 How many people hold or are connected to trademarks? In which role?\n",
    "   \n",
    "   5.3 In which sector there is the highest number of trademarks?   \n"
   ]
  },
  {
   "cell_type": "markdown",
   "id": "a2b661fa-cad4-44e0-a98f-beba7ed2c769",
   "metadata": {},
   "source": [
    "#### Example of query"
   ]
  },
  {
   "cell_type": "code",
   "execution_count": 2,
   "id": "ade01416-92e7-4ad7-b9a9-b8fb330750dc",
   "metadata": {},
   "outputs": [
    {
     "name": "stdout",
     "output_type": "stream",
     "text": [
      "Results\n",
      "[('callret-0', '44700')]\n"
     ]
    },
    {
     "data": {
      "text/plain": [
       "1"
      ]
     },
     "execution_count": 2,
     "metadata": {},
     "output_type": "execute_result"
    }
   ],
   "source": [
    "queryString = \"\"\"\n",
    "SELECT COUNT(?p) WHERE { \n",
    "\n",
    "    ?p wdt:P31/wdt:P279* wd:Q167270  . \n",
    "} \n",
    "\"\"\"\n",
    "\n",
    "print(\"Results\")\n",
    "run_query(queryString)"
   ]
  },
  {
   "cell_type": "markdown",
   "id": "b95c444a-217e-46ef-b472-63a470bad5c6",
   "metadata": {},
   "source": [
    "### My Workflow\n",
    "\n",
    "#### ***Task 1 :*** Identify the BGP for the company or person related to a given trademark\n",
    "\n",
    "I start showing some examples of entities that are ***trademark (wd:Q167270)***."
   ]
  },
  {
   "cell_type": "code",
   "execution_count": 3,
   "id": "c7cc0ec9-442a-4148-b7dc-223121b368ea",
   "metadata": {},
   "outputs": [
    {
     "name": "stdout",
     "output_type": "stream",
     "text": [
      "Results\n",
      "[('trademark', 'http://www.wikidata.org/entity/Q15874936'), ('trademarkName', 'Michelob')]\n",
      "[('trademark', 'http://www.wikidata.org/entity/Q2411403'), ('trademarkName', 'Bernard')]\n",
      "[('trademark', 'http://www.wikidata.org/entity/Q11233843'), ('trademarkName', 'TOP Media')]\n",
      "[('trademark', 'http://www.wikidata.org/entity/Q17019891'), ('trademarkName', 'Malco Theatres')]\n",
      "[('trademark', 'http://www.wikidata.org/entity/Q17074818'), ('trademarkName', 'MovieTime Cinemas')]\n",
      "[('trademark', 'http://www.wikidata.org/entity/Q3527542'), ('trademarkName', 'B2M Entertainment')]\n",
      "[('trademark', 'http://www.wikidata.org/entity/Q5052147'), ('trademarkName', 'Cathay Organisation')]\n",
      "[('trademark', 'http://www.wikidata.org/entity/Q17455021'), ('trademarkName', 'Albrecht')]\n",
      "[('trademark', 'http://www.wikidata.org/entity/Q18161548'), ('trademarkName', 'Network NorthWest')]\n",
      "[('trademark', 'http://www.wikidata.org/entity/Q21014477'), ('trademarkName', 'H2 Media Entertainment')]\n",
      "[('trademark', 'http://www.wikidata.org/entity/Q21824746'), ('trademarkName', 'N.A.P.Entertainment')]\n",
      "[('trademark', 'http://www.wikidata.org/entity/Q2535134'), ('trademarkName', 'Vue Entertainment')]\n",
      "[('trademark', 'http://www.wikidata.org/entity/Q72173687'), ('trademarkName', 'Eamonn Bedford Agency')]\n",
      "[('trademark', 'http://www.wikidata.org/entity/Q12581039'), ('trademarkName', 'FNC Entertainment')]\n",
      "[('trademark', 'http://www.wikidata.org/entity/Q15946075'), ('trademarkName', 'Management SOOP')]\n",
      "[('trademark', 'http://www.wikidata.org/entity/Q16850770'), ('trademarkName', 'J. Tune Camp')]\n",
      "[('trademark', 'http://www.wikidata.org/entity/Q21554828'), ('trademarkName', 'Play M Entertainment')]\n",
      "[('trademark', 'http://www.wikidata.org/entity/Q255363'), ('trademarkName', 'Starship Entertainment')]\n",
      "[('trademark', 'http://www.wikidata.org/entity/Q2756503'), ('trademarkName', 'Gaumont-British Picture Corporation')]\n",
      "[('trademark', 'http://www.wikidata.org/entity/Q45282'), ('trademarkName', 'Pledis Entertainment')]\n"
     ]
    },
    {
     "data": {
      "text/plain": [
       "20"
      ]
     },
     "execution_count": 3,
     "metadata": {},
     "output_type": "execute_result"
    }
   ],
   "source": [
    "queryString = \"\"\"\n",
    "SELECT DISTINCT ?trademark ?trademarkName WHERE { \n",
    "\n",
    "    # Retrieve entities that are trademarks\n",
    "    ?trademark wdt:P31/wdt:P279* wd:Q167270  . \n",
    "\n",
    "    # This returns the labels\n",
    "    ?trademark <http://schema.org/name> ?trademarkName .  \n",
    "}\n",
    "LIMIT 20\n",
    "\"\"\"\n",
    "\n",
    "print(\"Results\")\n",
    "run_query(queryString)"
   ]
  },
  {
   "cell_type": "markdown",
   "id": "6d32d168-081a-4153-939e-94b1e879fe00",
   "metadata": {},
   "source": [
    "I check if ***iMac (wd:Q14091)*** is a ***trademark (wd:Q167270)*** using an ASK query."
   ]
  },
  {
   "cell_type": "code",
   "execution_count": 4,
   "id": "7601b4ef-5f8b-4ef0-8dd8-f811a75b2100",
   "metadata": {},
   "outputs": [
    {
     "name": "stdout",
     "output_type": "stream",
     "text": [
      "Results\n"
     ]
    },
    {
     "data": {
      "text/plain": [
       "{'head': {'link': []}, 'boolean': True}"
      ]
     },
     "execution_count": 4,
     "metadata": {},
     "output_type": "execute_result"
    }
   ],
   "source": [
    "queryString = \"ASK {wd:Q14091 wdt:P31/wdt:P279* wd:Q167270}\"\n",
    "\n",
    "print(\"Results\")\n",
    "run_ask_query(queryString)"
   ]
  },
  {
   "cell_type": "markdown",
   "id": "2d14d26c-e924-4153-aed8-81909e15c9db",
   "metadata": {},
   "source": [
    "I have confirmed that  ***iMac (wd:Q14091)*** is a ***trademark (wd:Q167270)***.\n",
    "\n",
    "I try to retrieve all the properties that connect ***iMac (wd:Q14091)*** to ***Apple Inc. (wd:Q312)***."
   ]
  },
  {
   "cell_type": "code",
   "execution_count": 5,
   "id": "6804bcf9-1de1-4706-9d35-5113f18268c7",
   "metadata": {},
   "outputs": [
    {
     "name": "stdout",
     "output_type": "stream",
     "text": [
      "Results\n",
      "[('p', 'http://www.wikidata.org/prop/direct/P176'), ('pName', 'manufacturer')]\n",
      "[('p', 'http://www.wikidata.org/prop/direct/P178'), ('pName', 'developer')]\n"
     ]
    },
    {
     "data": {
      "text/plain": [
       "2"
      ]
     },
     "execution_count": 5,
     "metadata": {},
     "output_type": "execute_result"
    }
   ],
   "source": [
    "queryString = \"\"\"\n",
    "SELECT DISTINCT ?p ?pName WHERE { \n",
    "             \n",
    "    # Retrieve all the properties between iMac and Apple Inc.\n",
    "    wd:Q14091 ?p wd:Q312 .\n",
    "                \n",
    "    # This returns the labels\n",
    "    ?p <http://schema.org/name> ?pName .\n",
    "} \n",
    "\"\"\"\n",
    "\n",
    "print(\"Results\")\n",
    "run_query(queryString)"
   ]
  },
  {
   "cell_type": "markdown",
   "id": "dbaee425-2f1b-4cdf-811f-7f77794f78e9",
   "metadata": {},
   "source": [
    "I use the two discovered properties to connect ***trademark (wd:Q167270)*** to ***Apple Inc.(wd:Q312)***."
   ]
  },
  {
   "cell_type": "code",
   "execution_count": 6,
   "id": "6e695817-ecdf-4fc6-8430-b08342f11a67",
   "metadata": {},
   "outputs": [
    {
     "name": "stdout",
     "output_type": "stream",
     "text": [
      "Results\n",
      "[('trademark', 'http://www.wikidata.org/entity/Q3065317'), ('trademarkName', 'MacBook')]\n",
      "[('trademark', 'http://www.wikidata.org/entity/Q14091'), ('trademarkName', 'iMac')]\n",
      "[('trademark', 'http://www.wikidata.org/entity/Q3683593'), ('trademarkName', 'Color LaserWriter')]\n",
      "[('trademark', 'http://www.wikidata.org/entity/Q62462617'), ('trademarkName', 'Apple Card')]\n",
      "[('trademark', 'http://www.wikidata.org/entity/Q697292'), ('trademarkName', 'AirPort')]\n",
      "[('trademark', 'http://www.wikidata.org/entity/Q18010891'), ('trademarkName', 'iPhone 6 Plus')]\n",
      "[('trademark', 'http://www.wikidata.org/entity/Q2766'), ('trademarkName', 'iPhone')]\n",
      "[('trademark', 'http://www.wikidata.org/entity/Q90696274'), ('trademarkName', 'iPhone SE (2nd generation)')]\n",
      "[('trademark', 'http://www.wikidata.org/entity/Q406668'), ('trademarkName', 'AirPlay')]\n"
     ]
    },
    {
     "data": {
      "text/plain": [
       "9"
      ]
     },
     "execution_count": 6,
     "metadata": {},
     "output_type": "execute_result"
    }
   ],
   "source": [
    "queryString = \"\"\"\n",
    "SELECT DISTINCT ?trademark ?trademarkName WHERE { \n",
    "    \n",
    "    # Retrieve entities that are trademarks connected to Apple using the properties \"developer\" and \"manufacturer\"\n",
    "    ?trademark  wdt:P31/wdt:P279*     wd:Q167270  ;\n",
    "                (wdt:P176 | wdt:P178) wd:Q312     .          \n",
    "    \n",
    "    # This returns the labels\n",
    "    ?trademark <http://schema.org/name> ?trademarkName .  \n",
    "    \n",
    "} \n",
    "\"\"\"\n",
    "\n",
    "print(\"Results\")\n",
    "run_query(queryString)"
   ]
  },
  {
   "cell_type": "markdown",
   "id": "cfd5f1e0-ff96-4f54-b0cd-2aa08e12390a",
   "metadata": {},
   "source": [
    "Since there are very few results, I want to check if there is also a property from ***Apple Inc. (wd:Q312)*** to ***iMac (wd:Q14091)*** (opposite direction from the previous queries)."
   ]
  },
  {
   "cell_type": "code",
   "execution_count": 7,
   "id": "be6beb5f-d179-482d-bb1e-bbe544e45f07",
   "metadata": {},
   "outputs": [
    {
     "name": "stdout",
     "output_type": "stream",
     "text": [
      "Results\n",
      "[('p', 'http://www.wikidata.org/prop/direct/P1056'), ('pName', 'product or material produced')]\n"
     ]
    },
    {
     "data": {
      "text/plain": [
       "1"
      ]
     },
     "execution_count": 7,
     "metadata": {},
     "output_type": "execute_result"
    }
   ],
   "source": [
    "queryString = \"\"\"\n",
    "SELECT DISTINCT ?p ?pName WHERE { \n",
    "             \n",
    "    # I retrieve all the properties between Apple and iMac\n",
    "    wd:Q312 ?p wd:Q14091.\n",
    "                \n",
    "    # This returns the labels\n",
    "    ?p <http://schema.org/name> ?pName .\n",
    "    \n",
    "} \n",
    "\"\"\"\n",
    "\n",
    "print(\"Results\")\n",
    "run_query(queryString)"
   ]
  },
  {
   "cell_type": "markdown",
   "id": "90660070-ae61-42a6-82e9-6a5a2107d71a",
   "metadata": {},
   "source": [
    "I use the just discovered property ***product or material produced (wdt:P1056)*** to connect ***Apple Inc.(wd:Q312)*** and entities of ***trademark (wd:Q167270)***."
   ]
  },
  {
   "cell_type": "code",
   "execution_count": 8,
   "id": "704b573c-111a-4ab7-a218-012407c97ed7",
   "metadata": {},
   "outputs": [
    {
     "name": "stdout",
     "output_type": "stream",
     "text": [
      "Results\n",
      "[('trademark', 'http://www.wikidata.org/entity/Q18010891'), ('trademarkName', 'iPhone 6 Plus')]\n",
      "[('trademark', 'http://www.wikidata.org/entity/Q14091'), ('trademarkName', 'iMac')]\n",
      "[('trademark', 'http://www.wikidata.org/entity/Q90696274'), ('trademarkName', 'iPhone SE (2nd generation)')]\n"
     ]
    },
    {
     "data": {
      "text/plain": [
       "3"
      ]
     },
     "execution_count": 8,
     "metadata": {},
     "output_type": "execute_result"
    }
   ],
   "source": [
    "queryString = \"\"\"\n",
    "SELECT DISTINCT ?trademark ?trademarkName WHERE { \n",
    "    \n",
    "    # Retrieve entities that are trademarks\n",
    "    ?trademark  wdt:P31/wdt:P279*  wd:Q167270  .\n",
    "    \n",
    "    # Connect Apple to trademarks\n",
    "    wd:Q312 wdt:P1056 ?trademark .          \n",
    "    \n",
    "    # This returns the labels\n",
    "    ?trademark <http://schema.org/name> ?trademarkName .   \n",
    "} \n",
    "\"\"\"\n",
    "\n",
    "print(\"Results\")\n",
    "run_query(queryString)"
   ]
  },
  {
   "cell_type": "markdown",
   "id": "c5e58dbc-5a0e-43b3-9202-542b36865bdf",
   "metadata": {},
   "source": [
    "The results of this query are already included in the results of the query that makes use of ***manufacturer (wdt:P176)*** and ***developer (wdt:P178)***.\n",
    "\n",
    "Maybe there is another way to connect a ***trademark (wd:Q167270)*** to companies. I show all the properties that connect a ***trademark (wd:Q167270)*** to ***Apple Inc.(wd:Q312)***."
   ]
  },
  {
   "cell_type": "code",
   "execution_count": 9,
   "id": "01872ec5-3b82-4025-90e4-47c6031dc3db",
   "metadata": {},
   "outputs": [
    {
     "name": "stdout",
     "output_type": "stream",
     "text": [
      "Results\n",
      "[('p', 'http://www.wikidata.org/prop/direct/P127'), ('pName', 'owned by')]\n",
      "[('p', 'http://www.wikidata.org/prop/direct/P178'), ('pName', 'developer')]\n",
      "[('p', 'http://www.wikidata.org/prop/direct/P176'), ('pName', 'manufacturer')]\n",
      "[('p', 'http://www.wikidata.org/prop/direct/P137'), ('pName', 'operator')]\n",
      "[('p', 'http://www.wikidata.org/prop/direct/P749'), ('pName', 'parent organization')]\n"
     ]
    },
    {
     "data": {
      "text/plain": [
       "5"
      ]
     },
     "execution_count": 9,
     "metadata": {},
     "output_type": "execute_result"
    }
   ],
   "source": [
    "queryString = \"\"\"\n",
    "SELECT DISTINCT ?p ?pName WHERE { \n",
    "    \n",
    "    # Retrieve entities that are trademarks connected to Apple\n",
    "    ?trademark  wdt:P31/wdt:P279*   wd:Q167270  ;\n",
    "                ?p                  wd:Q312     .          \n",
    "    \n",
    "    # This returns the labels\n",
    "    ?p <http://schema.org/name> ?pName .  \n",
    "    \n",
    "} \n",
    "\"\"\"\n",
    "\n",
    "print(\"Results\")\n",
    "run_query(queryString)"
   ]
  },
  {
   "cell_type": "markdown",
   "id": "bfecc675-99fc-4c84-a1c0-244cff110d21",
   "metadata": {},
   "source": [
    "Since I work with trademarks, I have probably to consider also the property ***owned by (wdt:P127)***.\n",
    "\n",
    "So, I can use this BGP to retrieve a company related to a trademark:\n",
    "```\n",
    "?trademark  wdt:P31/wdt:P279*                  wd:Q167270 ;\n",
    "            (wdt:P127 | wdt:P176 | wdt:P178)   ?company   . \n",
    "```\n",
    "But how can I retrieve people connected to a trademark ? Maybe these three properties do not connect only companies but also people.\n",
    "\n",
    "I use ***instanceOf (wdt:P31)*** to see if also humans are connected through this property."
   ]
  },
  {
   "cell_type": "code",
   "execution_count": 10,
   "id": "2357a037-1b2d-400f-bbf4-a3e973ace753",
   "metadata": {},
   "outputs": [
    {
     "name": "stdout",
     "output_type": "stream",
     "text": [
      "Results\n",
      "[('class', 'http://www.wikidata.org/entity/Q5'), ('className', 'human')]\n"
     ]
    },
    {
     "data": {
      "text/plain": [
       "1"
      ]
     },
     "execution_count": 10,
     "metadata": {},
     "output_type": "execute_result"
    }
   ],
   "source": [
    "queryString = \"\"\"\n",
    "SELECT DISTINCT ?class ?className WHERE { \n",
    "    \n",
    "    # Retrieve entities that are trademarks and connect them to their \"owner\"\n",
    "    ?trademark  wdt:P31/wdt:P279*                  wd:Q167270 ;\n",
    "                (wdt:P127 | wdt:P176 | wdt:P178)   ?owner     . \n",
    "    \n",
    "    # Using the property instanceOf to see what is connected\n",
    "    ?owner wdt:P31 ?class .          \n",
    "    \n",
    "    # This returns the labels\n",
    "    ?class <http://schema.org/name> ?className .  \n",
    "    \n",
    "    # I want to search for something that contains the word \"human\"\n",
    "    FILTER (REGEX (?className,\"human\"))  \n",
    "}\n",
    "LIMIT 20\n",
    "\"\"\"\n",
    "\n",
    "print(\"Results\")\n",
    "run_query(queryString)"
   ]
  },
  {
   "cell_type": "markdown",
   "id": "aecc5f31-5702-4dca-9162-951f83fd1e7e",
   "metadata": {},
   "source": [
    "So the three discovered properties works also for istances of ***human (wd:Q5)***. Indeed, I can show some examples of trademarks owned by istances of ***human (wd:Q5)***."
   ]
  },
  {
   "cell_type": "code",
   "execution_count": 11,
   "id": "1e6bcea6-e3b2-459f-9ea3-b9c56384c1af",
   "metadata": {},
   "outputs": [
    {
     "name": "stdout",
     "output_type": "stream",
     "text": [
      "Results\n",
      "[('trademark', 'http://www.wikidata.org/entity/Q24908552'), ('trademarkName', '100 Thieves'), ('ownerName', 'Scooter Braun')]\n",
      "[('trademark', 'http://www.wikidata.org/entity/Q106306786'), ('trademarkName', 'Starboy Entertainment'), ('ownerName', 'Wizkid')]\n",
      "[('trademark', 'http://www.wikidata.org/entity/Q108031835'), ('trademarkName', 'Davido Music Worldwide'), ('ownerName', 'Davido')]\n",
      "[('trademark', 'http://www.wikidata.org/entity/Q27056912'), ('trademarkName', 'Record Rebellion'), ('ownerName', 'Christopher James Sampson')]\n",
      "[('trademark', 'http://www.wikidata.org/entity/Q1150860'), ('trademarkName', 'Cîroc'), ('ownerName', 'Sean Combs')]\n",
      "[('trademark', 'http://www.wikidata.org/entity/Q3156934'), ('trademarkName', 'JOB'), ('ownerName', 'Pierre Bardou-Job')]\n",
      "[('trademark', 'http://www.wikidata.org/entity/Q1228353'), ('trademarkName', 'DiscReet'), ('ownerName', 'Frank Zappa')]\n",
      "[('trademark', 'http://www.wikidata.org/entity/Q17032457'), ('trademarkName', 'Wahlburgers'), ('ownerName', 'Mark Wahlberg')]\n",
      "[('trademark', 'http://www.wikidata.org/entity/Q3459974'), ('trademarkName', 'SPY Records'), ('ownerName', 'John Cale')]\n",
      "[('trademark', 'http://www.wikidata.org/entity/Q64067939'), ('trademarkName', 'Étienne'), ('ownerName', 'Morrissey')]\n",
      "[('trademark', 'http://www.wikidata.org/entity/Q1228353'), ('trademarkName', 'DiscReet'), ('ownerName', 'Herb Cohen')]\n",
      "[('trademark', 'http://www.wikidata.org/entity/Q478214'), ('trademarkName', 'Tesla, Inc.'), ('ownerName', 'Larry Ellison')]\n",
      "[('trademark', 'http://www.wikidata.org/entity/Q4259528'), ('trademarkName', \"Dolly Parton's Dixie Stampede\"), ('ownerName', 'Dolly Parton')]\n",
      "[('trademark', 'http://www.wikidata.org/entity/Q605388'), ('trademarkName', 'Fat Wreck Chords'), ('ownerName', 'Fat Mike')]\n",
      "[('trademark', 'http://www.wikidata.org/entity/Q618913'), ('trademarkName', 'Stardom Entertainment'), ('ownerName', 'Cho PD')]\n",
      "[('trademark', 'http://www.wikidata.org/entity/Q880388'), ('trademarkName', 'Black Mark Productions'), ('ownerName', 'Börje Forsberg')]\n",
      "[('trademark', 'http://www.wikidata.org/entity/Q106137147'), ('trademarkName', 'Wildflower Records'), ('ownerName', 'Judy Collins')]\n",
      "[('trademark', 'http://www.wikidata.org/entity/Q21077'), ('trademarkName', 'Warner Music Group'), ('ownerName', 'Leonard Blavatnik')]\n",
      "[('trademark', 'http://www.wikidata.org/entity/Q3174592'), ('trademarkName', 'Rotana Group'), ('ownerName', 'Al-Waleed bin Talal')]\n",
      "[('trademark', 'http://www.wikidata.org/entity/Q19611260'), ('trademarkName', 'Ferdifon'), ('ownerName', 'Ferdi Tayfur')]\n"
     ]
    },
    {
     "data": {
      "text/plain": [
       "20"
      ]
     },
     "execution_count": 11,
     "metadata": {},
     "output_type": "execute_result"
    }
   ],
   "source": [
    "queryString = \"\"\"\n",
    "SELECT DISTINCT ?trademark ?trademarkName ?ownerName WHERE { \n",
    "    \n",
    "    # Retrieve entities that are trademarks and connect them to their \"owner\"\n",
    "    ?trademark  wdt:P31/wdt:P279*                  wd:Q167270 ;\n",
    "                (wdt:P127 | wdt:P176 | wdt:P178)   ?owner     . \n",
    "    \n",
    "    # I want only human owners\n",
    "    ?owner wdt:P31  wd:Q5 .          \n",
    "    \n",
    "    # This returns the labels\n",
    "    ?trademark <http://schema.org/name> ?trademarkName .\n",
    "    ?owner     <http://schema.org/name> ?ownerName     .     \n",
    "}\n",
    "LIMIT 20\n",
    "\"\"\"\n",
    "\n",
    "print(\"Results\")\n",
    "run_query(queryString)"
   ]
  },
  {
   "cell_type": "markdown",
   "id": "e7db3cd2-2960-48ca-a26d-969491dd0ecc",
   "metadata": {},
   "source": [
    "So the three discovered properties: (***manufacturer (wdt:P176)***, ***developer (wdt:P178)***, ***owned by (wdt:P127)***) work both for companies and people.\n",
    "\n",
    "I show some examples using GROUP_CONCAT to group different owners of the same ***trademark (wd:Q167270)***."
   ]
  },
  {
   "cell_type": "code",
   "execution_count": 12,
   "id": "d88c70cf-7f3b-478e-bcb6-21be7c63cbb1",
   "metadata": {},
   "outputs": [
    {
     "name": "stdout",
     "output_type": "stream",
     "text": [
      "Results\n",
      "[('trademark', 'http://www.wikidata.org/entity/Q3192162'), ('trademarkName', 'Kalenji'), ('owners', 'Decathlon')]\n",
      "[('trademark', 'http://www.wikidata.org/entity/Q15853674'), ('trademarkName', 'Wartburg'), ('owners', 'Automobilwerk Eisenach')]\n",
      "[('trademark', 'http://www.wikidata.org/entity/Q794166'), ('trademarkName', 'Adidas Azteca'), ('owners', 'Adidas')]\n",
      "[('trademark', 'http://www.wikidata.org/entity/Q3303481'), ('trademarkName', 'Cinnamon Toast Crunch'), ('owners', 'General Mills, Nestlé')]\n",
      "[('trademark', 'http://www.wikidata.org/entity/Q104858729'), ('trademarkName', 'Hot Damn!'), ('owners', 'DeKuyper')]\n",
      "[('trademark', 'http://www.wikidata.org/entity/Q67876003'), ('trademarkName', 'YF-Vax'), ('owners', 'Sanofi Pasteur')]\n",
      "[('trademark', 'http://www.wikidata.org/entity/Q3276886'), ('trademarkName', 'Magic Life'), ('owners', 'TUI AG')]\n",
      "[('trademark', 'http://www.wikidata.org/entity/Q3021725'), ('trademarkName', 'Dell XPS'), ('owners', 'Dell Inc.')]\n",
      "[('trademark', 'http://www.wikidata.org/entity/Q185120'), ('trademarkName', 'Vaseline'), ('owners', 'Unilever')]\n",
      "[('trademark', 'http://www.wikidata.org/entity/Q64128009'), ('trademarkName', 'Olympus'), ('owners', 'Olympus')]\n",
      "[('trademark', 'http://www.wikidata.org/entity/Q2979800'), ('trademarkName', '40/40 Club'), ('owners', 'JAY-Z')]\n",
      "[('trademark', 'http://www.wikidata.org/entity/Q3139416'), ('trademarkName', 'Hollywood Chewing Gum'), ('owners', 'Mondelēz International')]\n",
      "[('trademark', 'http://www.wikidata.org/entity/Q7285134'), ('trademarkName', 'Raisin Wheats'), ('owners', \"Kellogg's\")]\n",
      "[('trademark', 'http://www.wikidata.org/entity/Q2099763'), ('trademarkName', \"Plumpy'nut\"), ('owners', 'Nutriset')]\n",
      "[('trademark', 'http://www.wikidata.org/entity/Q7239913'), ('trademarkName', 'Prego'), ('owners', 'Campbell Soup Company')]\n",
      "[('trademark', 'http://www.wikidata.org/entity/Q147065'), ('trademarkName', 'Zanussi'), ('owners', 'Electrolux')]\n",
      "[('trademark', 'http://www.wikidata.org/entity/Q18191397'), ('trademarkName', 'Maccabee Beer'), ('owners', 'Tempo Beer Industries')]\n",
      "[('trademark', 'http://www.wikidata.org/entity/Q5236716'), ('trademarkName', 'David Lloyd Leisure'), ('owners', 'TDR Capital')]\n",
      "[('trademark', 'http://www.wikidata.org/entity/Q86667815'), ('trademarkName', 'Arthur Martin'), ('owners', 'Electrolux')]\n",
      "[('trademark', 'http://www.wikidata.org/entity/Q5360181'), ('trademarkName', \"P. F. Chang's China Bistro\"), ('owners', 'Centerbridge Partners')]\n",
      "[('trademark', 'http://www.wikidata.org/entity/Q16980826'), ('trademarkName', 'Jolly Rancher'), ('owners', 'The Hershey Company')]\n",
      "[('trademark', 'http://www.wikidata.org/entity/Q5094555'), ('trademarkName', 'Chex Mix'), ('owners', 'General Mills')]\n",
      "[('trademark', 'http://www.wikidata.org/entity/Q1888522'), ('trademarkName', 'Ginder Ale'), ('owners', 'Anheuser-Busch InBev')]\n",
      "[('trademark', 'http://www.wikidata.org/entity/Q7438891'), ('trademarkName', 'Scream Pubs'), ('owners', 'Stonegate Pub Company')]\n",
      "[('trademark', 'http://www.wikidata.org/entity/Q647180'), ('trademarkName', 'Le Rustique'), ('owners', 'Compagnie des Fromages et RichesMonts')]\n",
      "[('trademark', 'http://www.wikidata.org/entity/Q25052850'), ('trademarkName', 'Post Office Money'), ('owners', 'Government of the United Kingdom')]\n",
      "[('trademark', 'http://www.wikidata.org/entity/Q3415283'), ('trademarkName', 'Rona'), ('owners', \"Lowe's\")]\n",
      "[('trademark', 'http://www.wikidata.org/entity/Q2647363'), ('trademarkName', 'Tumulus beer'), ('owners', 'De Proefbrouwerij')]\n",
      "[('trademark', 'http://www.wikidata.org/entity/Q64760354'), ('trademarkName', 'Burgerim'), ('owners', 'Burgus Burger Bar')]\n",
      "[('trademark', 'http://www.wikidata.org/entity/Q691940'), ('trademarkName', 'Folgers'), ('owners', 'Procter & Gamble, The J.M. Smucker Company')]\n"
     ]
    },
    {
     "data": {
      "text/plain": [
       "30"
      ]
     },
     "execution_count": 12,
     "metadata": {},
     "output_type": "execute_result"
    }
   ],
   "source": [
    "queryString = \"\"\"\n",
    "SELECT ?trademark ?trademarkName (GROUP_CONCAT(DISTINCT ?ownerName ; separator = \", \") AS ?owners) WHERE { \n",
    "    \n",
    "    # Retrieve entities that are trademarks and connect them to their \"owner\"\n",
    "    ?trademark  wdt:P31/wdt:P279*                  wd:Q167270 ;\n",
    "                (wdt:P127 | wdt:P176 | wdt:P178)   ?owner   .         \n",
    "    \n",
    "    # This returns the labels\n",
    "    ?trademark <http://schema.org/name> ?trademarkName .\n",
    "    ?owner <http://schema.org/name>     ?ownerName .  \n",
    "}\n",
    "GROUP BY ?trademark ?trademarkName\n",
    "LIMIT 30\n",
    "\"\"\"\n",
    "\n",
    "print(\"Results\")\n",
    "run_query(queryString)"
   ]
  },
  {
   "cell_type": "markdown",
   "id": "ab84c4be-b9da-40fa-8b98-8ac90848e1c9",
   "metadata": {},
   "source": [
    "#### END TASK 1:\n",
    "The properties ***manufacturer (wdt:P176)***, ***developer (wdt:P178)***, ***owned by (wdt:P127)***) work both for companies and people.\n",
    "\n",
    "Hence, the BGP for the company or person related to a given trademark is:\n",
    "```\n",
    "?trademark  wdt:P31/wdt:P279*                  wd:Q167270 ;\n",
    "            (wdt:P127 | wdt:P176 | wdt:P178)   ?owner   . \n",
    "```\n",
    "\n",
    "It is not possible to use only the property ***owned by (wdt:P127)***, because I could not retrieve some connections like the one between ***iMac (wd:Q14091)*** to ***Apple Inc. (wd:Q312)*** (as showed before)."
   ]
  },
  {
   "cell_type": "markdown",
   "id": "1a8ae335-ddd3-4578-b91c-b47146afd255",
   "metadata": {},
   "source": [
    "### ***Task 2 :*** Identify the BGP to retrieve types or categories for a given trademark\n",
    "\n",
    "I start using the property ***subclassOf (wdt:P279)*** on ***iMac (wd:Q14091)***."
   ]
  },
  {
   "cell_type": "code",
   "execution_count": 13,
   "id": "b798f220-0535-4a2e-864c-9ce3b0426069",
   "metadata": {},
   "outputs": [
    {
     "name": "stdout",
     "output_type": "stream",
     "text": [
      "Results\n",
      "[('subclass', 'http://www.wikidata.org/entity/Q306381'), ('subclassName', 'iMac G3')]\n",
      "[('subclass', 'http://www.wikidata.org/entity/Q1050381'), ('subclassName', 'iMac G5')]\n",
      "[('subclass', 'http://www.wikidata.org/entity/Q2407708'), ('subclassName', 'iMac G4')]\n",
      "[('subclass', 'http://www.wikidata.org/entity/Q106576259'), ('subclassName', 'iMac (Apple silicon)')]\n"
     ]
    },
    {
     "data": {
      "text/plain": [
       "4"
      ]
     },
     "execution_count": 13,
     "metadata": {},
     "output_type": "execute_result"
    }
   ],
   "source": [
    "queryString = \"\"\"\n",
    "SELECT DISTINCT ?subclass ?subclassName WHERE { \n",
    "    \n",
    "    # Retrieve subclasses of iMac\n",
    "    ?subclass wdt:P279 wd:Q14091 .         \n",
    "    \n",
    "    # This returns the labels\n",
    "    ?subclass <http://schema.org/name> ?subclassName .   \n",
    "}\n",
    "LIMIT 20\n",
    "\"\"\"\n",
    "\n",
    "print(\"Results\")\n",
    "run_query(queryString)"
   ]
  },
  {
   "cell_type": "markdown",
   "id": "79da1418-f8ba-4163-8ca2-cf61422a027a",
   "metadata": {},
   "source": [
    "I try to apply the same technique to all the instances of ***trademark (wd:Q167270)***. I use ***GROUP_CONCAT*** to list all the types of a ***trademark (wd:Q167270)***."
   ]
  },
  {
   "cell_type": "code",
   "execution_count": 14,
   "id": "bd6dcb87-6955-43fa-bfce-2c11a169adb9",
   "metadata": {},
   "outputs": [
    {
     "name": "stdout",
     "output_type": "stream",
     "text": [
      "Results\n",
      "[('trademark', 'http://www.wikidata.org/entity/Q386903'), ('trademarkName', 'Intel Core i7'), ('types', 'Core i7 980X, Core i7-4770HQ, Core i7-6700, Core i7-7700, Core i7-7700K, Core i7-7700T')]\n",
      "[('trademark', 'http://www.wikidata.org/entity/Q623561'), ('trademarkName', 'Dr Pepper'), ('types', 'Diet Dr Pepper')]\n",
      "[('trademark', 'http://www.wikidata.org/entity/Q129337'), ('trademarkName', 'TGV'), ('types', 'SNCF TGV La Poste, TERGV, TGV inOui')]\n",
      "[('trademark', 'http://www.wikidata.org/entity/Q73389'), ('trademarkName', 'Samsung Galaxy S series'), ('types', 'Samsung Galaxy Tab S3')]\n",
      "[('trademark', 'http://www.wikidata.org/entity/Q1123613'), ('trademarkName', 'Schuko'), ('types', 'splashproof Schuko')]\n",
      "[('trademark', 'http://www.wikidata.org/entity/Q131535'), ('trademarkName', 'Ariane'), ('types', 'Ariane 1, Ariane 2, Ariane 3, Ariane 4, Ariane 5, Ariane 6')]\n",
      "[('trademark', 'http://www.wikidata.org/entity/Q105336048'), ('trademarkName', 'CYCLO Banh mi'), ('types', 'CYCLO Banh mi(Ebisu)')]\n",
      "[('trademark', 'http://www.wikidata.org/entity/Q2046939'), ('trademarkName', 'Sensodyne'), ('types', 'Sensodyne ProNamel')]\n",
      "[('trademark', 'http://www.wikidata.org/entity/Q47043'), ('trademarkName', \"Rubik's Cube\"), ('types', 'Sudoku Cube, Void Cube')]\n",
      "[('trademark', 'http://www.wikidata.org/entity/Q583054'), ('trademarkName', 'Strepsils'), ('types', 'Repsils')]\n",
      "[('trademark', 'http://www.wikidata.org/entity/Q1193262'), ('trademarkName', 'Qualcomm Snapdragon'), ('types', 'Qualcomm Snapdragon 730, Qualcomm Snapdragon 801, Qualcomm Snapdragon 845, Qualcomm Snapdragon 855+, Qualcomm Snapdragon 860, Qualcomm Snapdragon 865+, Qualcomm Snapdragon S1, Qualcomm Snapdragon XR1, Qualcomm Snapdragon XR2, Snapdragon 200, Snapdragon 400, Snapdragon 600, Snapdragon 602A, Snapdragon 800, Snapdragon 805, Snapdragon 808, Snapdragon 810, Snapdragon S2, Snapdragon S3, Snapdragon S4')]\n",
      "[('trademark', 'http://www.wikidata.org/entity/Q1143401'), ('trademarkName', 'Cup Noodles'), ('types', 'Cup Noodle Curry, Cup Noodle Original, Cup Noodle Seafood')]\n",
      "[('trademark', 'http://www.wikidata.org/entity/Q98642757'), ('trademarkName', 'John Deere'), ('types', 'John Deere 4350')]\n",
      "[('trademark', 'http://www.wikidata.org/entity/Q105336093'), ('trademarkName', 'Youshu-shounin'), ('types', 'Youshu-shounin(Shin-Yokohama)')]\n",
      "[('trademark', 'http://www.wikidata.org/entity/Q1973834'), ('trademarkName', 'Play It Again Sam'), ('types', 'PIAS Recordings, [PIAS]')]\n"
     ]
    },
    {
     "data": {
      "text/plain": [
       "15"
      ]
     },
     "execution_count": 14,
     "metadata": {},
     "output_type": "execute_result"
    }
   ],
   "source": [
    "queryString = \"\"\"\n",
    "SELECT ?trademark ?trademarkName (GROUP_CONCAT(DISTINCT ?subclassName ; separator = \", \") AS ?types) WHERE { \n",
    "    \n",
    "    # Retrieve entities that are trademarks \n",
    "    ?trademark  wdt:P31/wdt:P279* wd:Q167270 .       \n",
    "    \n",
    "    # Retrieve subclasses of trademarks\n",
    "    ?subclass wdt:P279 ?trademark . \n",
    "    \n",
    "    # This returns the labels\n",
    "    ?trademark <http://schema.org/name> ?trademarkName .\n",
    "    ?subclass  <http://schema.org/name> ?subclassName .  \n",
    "}\n",
    "GROUP BY ?trademark ?trademarkName\n",
    "LIMIT 15\n",
    "\"\"\"\n",
    "\n",
    "print(\"Results\")\n",
    "run_query(queryString)"
   ]
  },
  {
   "cell_type": "markdown",
   "id": "7b0b588e-b73d-447b-87d3-c4348b96c9f0",
   "metadata": {},
   "source": [
    "It works as expected.\n",
    "\n",
    "##### END TASK 2 \n",
    "The BGP to retrieve types or categories for a given trademark is:\n",
    "```\n",
    "?trademark  wdt:P31/wdt:P279* wd:Q167270 .       \n",
    "?subclass   wdt:P279          ?trademark . \n",
    "```"
   ]
  },
  {
   "cell_type": "markdown",
   "id": "3a56c040-e76f-4aed-a4fe-9bd930b946f3",
   "metadata": {},
   "source": [
    "### ***Task 3 :*** What companies have the largest number of trademarks?\n",
    "\n",
    "I can use the same BGP of Task 1, but since I want only companies I have to exclude instances of ***trademark (wd:Q167270)*** owned by instances of ***human (wd:Q5)***"
   ]
  },
  {
   "cell_type": "code",
   "execution_count": 15,
   "id": "90c64f1b-97ed-4f3c-963f-dd786315a6f7",
   "metadata": {},
   "outputs": [
    {
     "name": "stdout",
     "output_type": "stream",
     "text": [
      "Results\n",
      "[('owner', 'http://www.wikidata.org/entity/Q160746'), ('ownerName', 'Nestlé'), ('numTrademarks', '77')]\n",
      "[('owner', 'http://www.wikidata.org/entity/Q3295867'), ('ownerName', 'The Coca-Cola Company'), ('numTrademarks', '72')]\n",
      "[('owner', 'http://www.wikidata.org/entity/Q812142'), ('ownerName', 'Covestro'), ('numTrademarks', '57')]\n",
      "[('owner', 'http://www.wikidata.org/entity/Q334800'), ('ownerName', 'PepsiCo'), ('numTrademarks', '48')]\n",
      "[('owner', 'http://www.wikidata.org/entity/Q6677525'), ('ownerName', 'Cadbury'), ('numTrademarks', '36')]\n",
      "[('owner', 'http://www.wikidata.org/entity/Q157062'), ('ownerName', 'Unilever'), ('numTrademarks', '35')]\n",
      "[('owner', 'http://www.wikidata.org/entity/Q12857502'), ('ownerName', 'Mondelēz International'), ('numTrademarks', '34')]\n",
      "[('owner', 'http://www.wikidata.org/entity/Q1056637'), ('ownerName', 'The Hershey Company'), ('numTrademarks', '32')]\n",
      "[('owner', 'http://www.wikidata.org/entity/Q856897'), ('ownerName', \"Kellogg's\"), ('numTrademarks', '31')]\n",
      "[('owner', 'http://www.wikidata.org/entity/Q38903'), ('ownerName', 'Universal Music Group'), ('numTrademarks', '29')]\n"
     ]
    },
    {
     "data": {
      "text/plain": [
       "10"
      ]
     },
     "execution_count": 15,
     "metadata": {},
     "output_type": "execute_result"
    }
   ],
   "source": [
    "queryString = \"\"\"\n",
    "SELECT ?owner ?ownerName COUNT(DISTINCT ?trademark) AS ?numTrademarks WHERE { \n",
    "    \n",
    "    # Retrieve entities that are trademarks and connect them to their \"owner\"\n",
    "    ?trademark  wdt:P31/wdt:P279*                  wd:Q167270 ;\n",
    "                (wdt:P127 | wdt:P176 | wdt:P178)   ?owner     . \n",
    "\n",
    "    # This returns the labels\n",
    "    ?trademark <http://schema.org/name> ?trademarkName .\n",
    "    ?owner     <http://schema.org/name> ?ownerName     .  \n",
    "    \n",
    "    # I want to exclude trademarks owned by humans \n",
    "    FILTER NOT EXISTS { ?owner wdt:P31  wd:Q5 . }   \n",
    "}\n",
    "GROUP BY ?owner ?ownerName\n",
    "ORDER BY DESC(?numTrademarks)\n",
    "LIMIT 10\n",
    "\"\"\"\n",
    "\n",
    "print(\"Results\")\n",
    "run_query(queryString)"
   ]
  },
  {
   "cell_type": "markdown",
   "id": "57fac763-ae1d-40e3-9f30-abd20914ec3e",
   "metadata": {},
   "source": [
    "##### END TASK 3\n",
    "I was able to show the companies with the largest number of trademarks. In particular, ***Nestlé (wd:Q160746)*** has the largest one (77 trdemarks) ."
   ]
  },
  {
   "cell_type": "markdown",
   "id": "b284cc29-1259-450e-8cca-82b2ab38a4d0",
   "metadata": {},
   "source": [
    "### ***Task 4 :*** What are the types of trademarks, how many trademarks exist for each type?\n",
    "\n",
    "The task is quite similar to Task 2, but instead of searching for sub-types of a given trademark, I use the property ***subclassOf (wdt:P279)*** to search for different types of ***trademark (wd:Q167270)***. \n",
    "\n",
    "I show some examples."
   ]
  },
  {
   "cell_type": "code",
   "execution_count": 16,
   "id": "cc312568-907d-46f1-ac7a-e8abc5a65519",
   "metadata": {},
   "outputs": [
    {
     "name": "stdout",
     "output_type": "stream",
     "text": [
      "Results\n",
      "[('trademark', 'http://www.wikidata.org/entity/Q3304193'), ('trademarkName', 'Selsun Blue'), ('types', 'shampoo')]\n",
      "[('trademark', 'http://www.wikidata.org/entity/Q17766439'), ('trademarkName', 'Diet Mountain Dew'), ('types', 'diet soda')]\n",
      "[('trademark', 'http://www.wikidata.org/entity/Q932080'), ('trademarkName', 'Kvikk Lunsj'), ('types', 'chocolate bar')]\n",
      "[('trademark', 'http://www.wikidata.org/entity/Q99613456'), ('trademarkName', 'Supplyco Super Market'), ('types', 'outlet store')]\n",
      "[('trademark', 'http://www.wikidata.org/entity/Q4944122'), ('trademarkName', 'Onyx Boox'), ('types', 'e-book reader')]\n",
      "[('trademark', 'http://www.wikidata.org/entity/Q1050530'), ('trademarkName', 'Tic Tac'), ('types', 'confection, mint')]\n",
      "[('trademark', 'http://www.wikidata.org/entity/Q5400907'), ('trademarkName', 'Presidente'), ('types', 'beer')]\n",
      "[('trademark', 'http://www.wikidata.org/entity/Q1342742'), ('trademarkName', 'RC Cola'), ('types', 'cola')]\n",
      "[('trademark', 'http://www.wikidata.org/entity/Q48694643'), ('trademarkName', 'Samsung Galaxy J'), ('types', 'smartphone')]\n",
      "[('trademark', 'http://www.wikidata.org/entity/Q10434670'), ('trademarkName', 'Branca Menta'), ('types', 'bitters')]\n"
     ]
    },
    {
     "data": {
      "text/plain": [
       "10"
      ]
     },
     "execution_count": 16,
     "metadata": {},
     "output_type": "execute_result"
    }
   ],
   "source": [
    "queryString = \"\"\"\n",
    "SELECT ?trademark ?trademarkName (GROUP_CONCAT(DISTINCT ?className ; separator = \", \") AS ?types) WHERE { \n",
    "    \n",
    "    # Retrieve entities that are trademarks \n",
    "    ?trademark  wdt:P31/wdt:P279* wd:Q167270 .       \n",
    "    \n",
    "    # Retrieve classes of trademarks\n",
    "    ?trademark  wdt:P279 ?class . \n",
    "    \n",
    "    # This returns the labels\n",
    "    ?trademark <http://schema.org/name> ?trademarkName .\n",
    "    ?class     <http://schema.org/name> ?className    .  \n",
    "}\n",
    "GROUP BY ?trademark ?trademarkName\n",
    "LIMIT 10\n",
    "\"\"\"\n",
    "\n",
    "print(\"Results\")\n",
    "run_query(queryString)"
   ]
  },
  {
   "cell_type": "markdown",
   "id": "4522a16d-b22d-4677-bd22-a90e77d6e9eb",
   "metadata": {},
   "source": [
    "I show some examples of different types of ***trademark (wd:Q167270)***. "
   ]
  },
  {
   "cell_type": "code",
   "execution_count": 17,
   "id": "8ff6aee5-3a38-4849-846f-4e74bad0f7b3",
   "metadata": {},
   "outputs": [
    {
     "name": "stdout",
     "output_type": "stream",
     "text": [
      "Results\n",
      "[('className', 'lager')]\n",
      "[('className', 'abbey beer')]\n",
      "[('className', 'grocery store')]\n",
      "[('className', 'tire shop')]\n",
      "[('className', 'bakery')]\n",
      "[('className', 'restaurant')]\n",
      "[('className', 'ramen shop')]\n",
      "[('className', 'candy bar')]\n",
      "[('className', 'vodka')]\n",
      "[('className', 'drink mix')]\n"
     ]
    },
    {
     "data": {
      "text/plain": [
       "10"
      ]
     },
     "execution_count": 17,
     "metadata": {},
     "output_type": "execute_result"
    }
   ],
   "source": [
    "queryString = \"\"\"\n",
    "SELECT DISTINCT ?className WHERE { \n",
    "    \n",
    "    # Retrieve entities that are trademarks \n",
    "    ?trademark  wdt:P31/wdt:P279* wd:Q167270 .       \n",
    "    \n",
    "    # Retrieve classes of trademarks\n",
    "    ?trademark  wdt:P279 ?class . \n",
    "    \n",
    "    # This returns the labels\n",
    "    ?trademark <http://schema.org/name> ?trademarkName .\n",
    "    ?class     <http://schema.org/name> ?className     .  \n",
    "}\n",
    "GROUP BY ?trademark ?trademarkName\n",
    "LIMIT 10\n",
    "\"\"\"\n",
    "\n",
    "print(\"Results\")\n",
    "run_query(queryString)"
   ]
  },
  {
   "cell_type": "markdown",
   "id": "9f2c0907-cfad-43c7-8f55-19ca389bc581",
   "metadata": {},
   "source": [
    "I can finally count how many istances of ***trademark (wd:Q167270)*** exist for each type."
   ]
  },
  {
   "cell_type": "code",
   "execution_count": 18,
   "id": "d21154b8-a4f8-4eea-9f65-684e2fdbad3d",
   "metadata": {},
   "outputs": [
    {
     "name": "stdout",
     "output_type": "stream",
     "text": [
      "Results\n",
      "[('class', 'http://www.wikidata.org/entity/Q1361086'), ('className', 'chocolate bar'), ('numTrademarks', '75')]\n",
      "[('class', 'http://www.wikidata.org/entity/Q11312555'), ('className', 'candy bar'), ('numTrademarks', '67')]\n",
      "[('class', 'http://www.wikidata.org/entity/Q5159627'), ('className', 'confection'), ('numTrademarks', '47')]\n",
      "[('class', 'http://www.wikidata.org/entity/Q147538'), ('className', 'soft drink'), ('numTrademarks', '45')]\n",
      "[('class', 'http://www.wikidata.org/entity/Q22645'), ('className', 'smartphone'), ('numTrademarks', '43')]\n",
      "[('class', 'http://www.wikidata.org/entity/Q185583'), ('className', 'candy'), ('numTrademarks', '39')]\n",
      "[('class', 'http://www.wikidata.org/entity/Q768267'), ('className', 'breakfast cereal'), ('numTrademarks', '36')]\n",
      "[('class', 'http://www.wikidata.org/entity/Q40050'), ('className', 'drink'), ('numTrademarks', '30')]\n",
      "[('class', 'http://www.wikidata.org/entity/Q374'), ('className', 'vodka'), ('numTrademarks', '29')]\n",
      "[('class', 'http://www.wikidata.org/entity/Q12252328'), ('className', 'soccer ball'), ('numTrademarks', '23')]\n"
     ]
    },
    {
     "data": {
      "text/plain": [
       "10"
      ]
     },
     "execution_count": 18,
     "metadata": {},
     "output_type": "execute_result"
    }
   ],
   "source": [
    "queryString = \"\"\"\n",
    "SELECT ?class ?className COUNT(DISTINCT ?trademark) AS ?numTrademarks WHERE { \n",
    "    \n",
    "    # Retrieve entities that are trademarks \n",
    "    ?trademark  wdt:P31/wdt:P279* wd:Q167270 .       \n",
    "    \n",
    "    # Retrieve classes of trademarks\n",
    "    ?trademark  wdt:P279 ?class . \n",
    "    \n",
    "    # This returns the labels\n",
    "    ?trademark <http://schema.org/name> ?trademarkName .\n",
    "    ?class  <http://schema.org/name> ?className .  \n",
    "}\n",
    "GROUP BY ?class ?className\n",
    "ORDER BY DESC(?numTrademarks)\n",
    "LIMIT 10\n",
    "\"\"\"\n",
    "\n",
    "print(\"Results\")\n",
    "run_query(queryString)"
   ]
  },
  {
   "cell_type": "markdown",
   "id": "ed7f46d8-74aa-4fd6-8017-632e19fffbda",
   "metadata": {},
   "source": [
    "##### END TASK 4\n",
    "As I showed, it is possibile to retrieve the different types of trademarks and to count how many trademarks exist for each type.\n",
    "\n",
    "It is also possible to notice that in the top 10 of types with the largest number of trademarks there are a lot of food products."
   ]
  },
  {
   "cell_type": "markdown",
   "id": "6ec5253b-4ddb-44be-a0c7-7e7d46a9924f",
   "metadata": {},
   "source": [
    "### ***Task 5.1 :*** How many U.S. companies hold trademarks? In which sectors?\n",
    "\n",
    "First of all I need to understand how a company is related to a country. So, I show all the object properties of ***Apple Inc.(wd:Q312)***."
   ]
  },
  {
   "cell_type": "code",
   "execution_count": 19,
   "id": "812e6e0d-8552-4cdb-b669-10b3286a018d",
   "metadata": {},
   "outputs": [
    {
     "name": "stdout",
     "output_type": "stream",
     "text": [
      "Results\n",
      "[('p', 'http://www.wikidata.org/prop/direct/P1056'), ('pName', 'product or material produced')]\n",
      "[('p', 'http://www.wikidata.org/prop/direct/P112'), ('pName', 'founded by')]\n",
      "[('p', 'http://www.wikidata.org/prop/direct/P1151'), ('pName', \"topic's main Wikimedia portal\")]\n",
      "[('p', 'http://www.wikidata.org/prop/direct/P127'), ('pName', 'owned by')]\n",
      "[('p', 'http://www.wikidata.org/prop/direct/P1343'), ('pName', 'described by source')]\n",
      "[('p', 'http://www.wikidata.org/prop/direct/P138'), ('pName', 'named after')]\n",
      "[('p', 'http://www.wikidata.org/prop/direct/P1454'), ('pName', 'legal form')]\n",
      "[('p', 'http://www.wikidata.org/prop/direct/P154'), ('pName', 'logo image')]\n",
      "[('p', 'http://www.wikidata.org/prop/direct/P1546'), ('pName', 'motto')]\n",
      "[('p', 'http://www.wikidata.org/prop/direct/P159'), ('pName', 'headquarters location')]\n",
      "[('p', 'http://www.wikidata.org/prop/direct/P166'), ('pName', 'award received')]\n",
      "[('p', 'http://www.wikidata.org/prop/direct/P169'), ('pName', 'chief executive officer')]\n",
      "[('p', 'http://www.wikidata.org/prop/direct/P17'), ('pName', 'country')]\n",
      "[('p', 'http://www.wikidata.org/prop/direct/P18'), ('pName', 'image')]\n",
      "[('p', 'http://www.wikidata.org/prop/direct/P1830'), ('pName', 'owner of')]\n",
      "[('p', 'http://www.wikidata.org/prop/direct/P199'), ('pName', 'business division')]\n",
      "[('p', 'http://www.wikidata.org/prop/direct/P2959'), ('pName', 'permanent duplicated item')]\n",
      "[('p', 'http://www.wikidata.org/prop/direct/P31'), ('pName', 'instance of')]\n",
      "[('p', 'http://www.wikidata.org/prop/direct/P3320'), ('pName', 'board member')]\n",
      "[('p', 'http://www.wikidata.org/prop/direct/P355'), ('pName', 'subsidiary')]\n"
     ]
    },
    {
     "data": {
      "text/plain": [
       "20"
      ]
     },
     "execution_count": 19,
     "metadata": {},
     "output_type": "execute_result"
    }
   ],
   "source": [
    "queryString = \"\"\"\n",
    "SELECT DISTINCT ?p ?pName WHERE { \n",
    "    \n",
    "    # Connect Apple to something\n",
    "    wd:Q312 ?p ?o .          \n",
    "    \n",
    "    # This returns the labels\n",
    "    ?p <http://schema.org/name> ?pName .\n",
    "    \n",
    "    # Exclude data properties\n",
    "    FILTER(!isLiteral(?o))\n",
    "}\n",
    "LIMIT 20\n",
    "\"\"\"\n",
    "\n",
    "print(\"Results\")\n",
    "run_query(queryString)"
   ]
  },
  {
   "cell_type": "markdown",
   "id": "939f9806-d2b3-4af1-bb6a-245c3e21504f",
   "metadata": {},
   "source": [
    "I can probably use ***country (wdt:P17)***. I try it on ***Apple Inc.(wd:Q312)***."
   ]
  },
  {
   "cell_type": "code",
   "execution_count": 20,
   "id": "131b49fb-5c1c-4b50-bf6d-60f0ee502411",
   "metadata": {},
   "outputs": [
    {
     "name": "stdout",
     "output_type": "stream",
     "text": [
      "Results\n",
      "[('country', 'http://www.wikidata.org/entity/Q30'), ('countryName', 'United States of America')]\n"
     ]
    },
    {
     "data": {
      "text/plain": [
       "1"
      ]
     },
     "execution_count": 20,
     "metadata": {},
     "output_type": "execute_result"
    }
   ],
   "source": [
    "queryString = \"\"\"\n",
    "SELECT DISTINCT ?country ?countryName WHERE { \n",
    "    \n",
    "    # Retrieve Apple's country\n",
    "    wd:Q312 wdt:P17 ?country.          \n",
    "    \n",
    "    # This returns the labels\n",
    "    ?country <http://schema.org/name> ?countryName .\n",
    "}\n",
    "\"\"\"\n",
    "\n",
    "print(\"Results\")\n",
    "run_query(queryString)"
   ]
  },
  {
   "cell_type": "markdown",
   "id": "6484e72c-6c5c-491e-ada9-9cde264b7657",
   "metadata": {},
   "source": [
    "I can count how many companies located in ***United States of America(wd:Q30)*** hold a ***trademark (wd:Q167270)*** ."
   ]
  },
  {
   "cell_type": "code",
   "execution_count": 21,
   "id": "3edb006e-625b-43f9-9d5f-0554a5700cc9",
   "metadata": {},
   "outputs": [
    {
     "name": "stdout",
     "output_type": "stream",
     "text": [
      "Results\n",
      "[('numCompanies', '370')]\n"
     ]
    },
    {
     "data": {
      "text/plain": [
       "1"
      ]
     },
     "execution_count": 21,
     "metadata": {},
     "output_type": "execute_result"
    }
   ],
   "source": [
    "queryString = \"\"\"\n",
    "SELECT COUNT(DISTINCT ?company) AS ?numCompanies WHERE { \n",
    "    \n",
    "    # Retrieve entities that are trademarks and connect them to their \"owner\"\n",
    "    ?trademark  wdt:P31/wdt:P279*                  wd:Q167270 ;\n",
    "                (wdt:P127 | wdt:P176 | wdt:P178)   ?company  . \n",
    "    \n",
    "    # I want only american companies\n",
    "    ?company wdt:P17 wd:Q30 . \n",
    "    \n",
    "    # I exclude trademarks owned by humans because I want only companies\n",
    "    FILTER NOT EXISTS { ?company wdt:P31  wd:Q5 . }   \n",
    "        \n",
    "}\n",
    "\"\"\"\n",
    "\n",
    "print(\"Results\")\n",
    "run_query(queryString)"
   ]
  },
  {
   "cell_type": "markdown",
   "id": "793b3079-43b1-4513-8efb-bc5d57d98218",
   "metadata": {},
   "source": [
    "Now, to answer the question \"In which sectors?\", I have to understand how to connect a company to a specicifc sector.\n",
    "\n",
    "I show everything that is connected to ***Apple Inc.(wd:Q312)***."
   ]
  },
  {
   "cell_type": "code",
   "execution_count": 22,
   "id": "d53d7d2a-e665-4c5e-980a-80fc653e9b2a",
   "metadata": {},
   "outputs": [
    {
     "name": "stdout",
     "output_type": "stream",
     "text": [
      "Results\n",
      "[('p', 'http://www.wikidata.org/prop/direct/P1056'), ('pName', 'product or material produced'), ('o', 'http://www.wikidata.org/entity/Q26833946'), ('oName', 'iPhone\\xa07 Plus')]\n",
      "[('p', 'http://www.wikidata.org/prop/direct/P1056'), ('pName', 'product or material produced'), ('o', 'http://www.wikidata.org/entity/Q39510168'), ('oName', 'iPhone X')]\n",
      "[('p', 'http://www.wikidata.org/prop/direct/P1056'), ('pName', 'product or material produced'), ('o', 'http://www.wikidata.org/entity/Q20962515'), ('oName', 'Apple Pencil')]\n",
      "[('p', 'http://www.wikidata.org/prop/direct/P452'), ('pName', 'industry'), ('o', 'http://www.wikidata.org/entity/Q581105'), ('oName', 'consumer electronics')]\n",
      "[('p', 'http://www.wikidata.org/prop/direct/P463'), ('pName', 'member of'), ('o', 'http://www.wikidata.org/entity/Q79100838'), ('oName', 'Zigbee Alliance')]\n",
      "[('p', 'http://www.wikidata.org/prop/direct/P1056'), ('pName', 'product or material produced'), ('o', 'http://www.wikidata.org/entity/Q18010891'), ('oName', 'iPhone 6 Plus')]\n",
      "[('p', 'http://www.wikidata.org/prop/direct/P1056'), ('pName', 'product or material produced'), ('o', 'http://www.wikidata.org/entity/Q20966885'), ('oName', 'iPhone 6S Plus')]\n",
      "[('p', 'http://www.wikidata.org/prop/direct/P127'), ('pName', 'owned by'), ('o', 'http://www.wikidata.org/entity/Q849363'), ('oName', 'The Vanguard Group')]\n",
      "[('p', 'http://www.wikidata.org/prop/direct/P740'), ('pName', 'location of formation'), ('o', 'http://www.wikidata.org/entity/Q864124'), ('oName', 'Los Altosi')]\n",
      "[('p', 'http://www.wikidata.org/prop/direct/P361'), ('pName', 'part of'), ('o', 'http://www.wikidata.org/entity/Q180816'), ('oName', 'Dow Jones Industrial Average')]\n",
      "[('p', 'http://www.wikidata.org/prop/direct/P463'), ('pName', 'member of'), ('o', 'http://www.wikidata.org/entity/Q3616482'), ('oName', 'Wireless Power Consortium')]\n",
      "[('p', 'http://www.wikidata.org/prop/direct/P112'), ('pName', 'founded by'), ('o', 'http://www.wikidata.org/entity/Q483382'), ('oName', 'Steve Wozniak')]\n",
      "[('p', 'http://www.wikidata.org/prop/direct/P3320'), ('pName', 'board member'), ('o', 'http://www.wikidata.org/entity/Q532423'), ('oName', 'Bob Iger')]\n",
      "[('p', 'http://www.wikidata.org/prop/direct/P1056'), ('pName', 'product or material produced'), ('o', 'http://www.wikidata.org/entity/Q214276'), ('oName', 'MacBook Pro')]\n",
      "[('p', 'http://www.wikidata.org/prop/direct/P1056'), ('pName', 'product or material produced'), ('o', 'http://www.wikidata.org/entity/Q308869'), ('oName', 'Mac Pro')]\n",
      "[('p', 'http://www.wikidata.org/prop/direct/P1056'), ('pName', 'product or material produced'), ('o', 'http://www.wikidata.org/entity/Q486053'), ('oName', 'MacBook')]\n",
      "[('p', 'http://www.wikidata.org/prop/direct/P1056'), ('pName', 'product or material produced'), ('o', 'http://www.wikidata.org/entity/Q270285'), ('oName', 'Apple TV')]\n",
      "[('p', 'http://www.wikidata.org/prop/direct/P1056'), ('pName', 'product or material produced'), ('o', 'http://www.wikidata.org/entity/Q300859'), ('oName', 'iPhone 3GS')]\n",
      "[('p', 'http://www.wikidata.org/prop/direct/P1056'), ('pName', 'product or material produced'), ('o', 'http://www.wikidata.org/entity/Q300890'), ('oName', 'iPhone 4')]\n",
      "[('p', 'http://www.wikidata.org/prop/direct/P1056'), ('pName', 'product or material produced'), ('o', 'http://www.wikidata.org/entity/Q300947'), ('oName', 'iPhone 3G')]\n"
     ]
    },
    {
     "data": {
      "text/plain": [
       "20"
      ]
     },
     "execution_count": 22,
     "metadata": {},
     "output_type": "execute_result"
    }
   ],
   "source": [
    "queryString = \"\"\"\n",
    "SELECT DISTINCT ?p ?pName ?o ?oName WHERE { \n",
    "    \n",
    "    # Connect Apple to something\n",
    "    wd:Q312 ?p ?o .          \n",
    "    \n",
    "    # This returns the labels\n",
    "    ?p <http://schema.org/name> ?pName .\n",
    "    ?o <http://schema.org/name> ?oName .\n",
    "    \n",
    "    # exclude data properties\n",
    "    FILTER(!isLiteral(?o))\n",
    "}\n",
    "LIMIT 20\n",
    "\"\"\"\n",
    "\n",
    "print(\"Results\")\n",
    "run_query(queryString)"
   ]
  },
  {
   "cell_type": "markdown",
   "id": "2ddd9798-f1e2-4de1-87d9-7daf6cab124f",
   "metadata": {},
   "source": [
    "Maybe I can use the property ***industry (wdt:P452)***. I try it on ***Apple Inc.(wd:Q312)***."
   ]
  },
  {
   "cell_type": "code",
   "execution_count": 23,
   "id": "9c5643c4-76e0-4f09-a28d-2d1cb5b5f0ce",
   "metadata": {},
   "outputs": [
    {
     "name": "stdout",
     "output_type": "stream",
     "text": [
      "Results\n",
      "[('sector', 'http://www.wikidata.org/entity/Q581105'), ('sectorName', 'consumer electronics')]\n",
      "[('sector', 'http://www.wikidata.org/entity/Q11650'), ('sectorName', 'electronics')]\n",
      "[('sector', 'http://www.wikidata.org/entity/Q56598901'), ('sectorName', 'mobile phone industry')]\n",
      "[('sector', 'http://www.wikidata.org/entity/Q11661'), ('sectorName', 'information technology')]\n",
      "[('sector', 'http://www.wikidata.org/entity/Q880371'), ('sectorName', 'software industry')]\n",
      "[('sector', 'http://www.wikidata.org/entity/Q269415'), ('sectorName', 'digital distribution')]\n"
     ]
    },
    {
     "data": {
      "text/plain": [
       "6"
      ]
     },
     "execution_count": 23,
     "metadata": {},
     "output_type": "execute_result"
    }
   ],
   "source": [
    "queryString = \"\"\"\n",
    "SELECT DISTINCT ?sector ?sectorName WHERE { \n",
    "    \n",
    "    # Connect Apple using the property \"industry\"\n",
    "    wd:Q312 wdt:P452 ?sector .          \n",
    "    \n",
    "    # This returns the labels\n",
    "    ?sector <http://schema.org/name> ?sectorName .\n",
    "}\n",
    "\"\"\"\n",
    "\n",
    "print(\"Results\")\n",
    "run_query(queryString)"
   ]
  },
  {
   "cell_type": "markdown",
   "id": "35e8199c-25ad-48e2-bf9d-4016bf99a05a",
   "metadata": {},
   "source": [
    "So, the property ***industry (wdt:P452)*** can be used to retrieve the sectors. I can finally answer to the initial question."
   ]
  },
  {
   "cell_type": "code",
   "execution_count": 24,
   "id": "662f2343-ab13-47c5-82f4-866a2c3e42df",
   "metadata": {},
   "outputs": [
    {
     "name": "stdout",
     "output_type": "stream",
     "text": [
      "Results\n",
      "[('sector', 'http://www.wikidata.org/entity/Q126793'), ('sectorName', 'retail'), ('numCompanies', '26')]\n",
      "[('sector', 'http://www.wikidata.org/entity/Q540912'), ('sectorName', 'food industry'), ('numCompanies', '20')]\n",
      "[('sector', 'http://www.wikidata.org/entity/Q10302058'), ('sectorName', 'phonographic industry'), ('numCompanies', '9')]\n",
      "[('sector', 'http://www.wikidata.org/entity/Q1187656'), ('sectorName', 'fast-moving consumer goods'), ('numCompanies', '9')]\n",
      "[('sector', 'http://www.wikidata.org/entity/Q190117'), ('sectorName', 'automotive industry'), ('numCompanies', '8')]\n",
      "[('sector', 'http://www.wikidata.org/entity/Q746359'), ('sectorName', 'music industry'), ('numCompanies', '8')]\n",
      "[('sector', 'http://www.wikidata.org/entity/Q4899370'), ('sectorName', 'beverage industry'), ('numCompanies', '8')]\n",
      "[('sector', 'http://www.wikidata.org/entity/Q25245117'), ('sectorName', 'telecommunications industry'), ('numCompanies', '8')]\n",
      "[('sector', 'http://www.wikidata.org/entity/Q11661'), ('sectorName', 'information technology'), ('numCompanies', '7')]\n",
      "[('sector', 'http://www.wikidata.org/entity/Q627371'), ('sectorName', 'food processing'), ('numCompanies', '7')]\n"
     ]
    },
    {
     "data": {
      "text/plain": [
       "10"
      ]
     },
     "execution_count": 24,
     "metadata": {},
     "output_type": "execute_result"
    }
   ],
   "source": [
    "queryString = \"\"\"\n",
    "SELECT ?sector ?sectorName COUNT(DISTINCT ?company) AS ?numCompanies WHERE { \n",
    "    \n",
    "    # Retrieve entities that are trademarks and connect them to their \"owner\"\n",
    "    ?trademark  wdt:P31/wdt:P279*                  wd:Q167270 ;\n",
    "                (wdt:P127 | wdt:P176 | wdt:P178)   ?company  . \n",
    "    \n",
    "    # Retrieve sectors of american companies\n",
    "    ?company wdt:P17  wd:Q30  ;\n",
    "             wdt:P452 ?sector . \n",
    "    \n",
    "    # This returns the labels\n",
    "    ?sector <http://schema.org/name> ?sectorName .\n",
    "    \n",
    "    # I exclude trademarks owned by humans because I want only companies\n",
    "    FILTER NOT EXISTS { ?company wdt:P31  wd:Q5 . }  \n",
    "}\n",
    "GROUP BY ?sector ?sectorName\n",
    "ORDER BY DESC(?numCompanies)\n",
    "LIMIT 10\n",
    "\"\"\"\n",
    "\n",
    "print(\"Results\")\n",
    "run_query(queryString)"
   ]
  },
  {
   "cell_type": "markdown",
   "id": "cfffb13d-7cc7-4234-a9fa-f2a494247802",
   "metadata": {},
   "source": [
    "##### END TASK 5.1\n",
    "I discovered that in the ***United States of America(wd:Q30)*** there are 370 companies that holds trademarks.\n",
    "\n",
    "Moreover, I showed that there are a lot of different sectors in which these companies work such as ***retail, food industry, etc...***"
   ]
  },
  {
   "cell_type": "markdown",
   "id": "793e2565-223b-486d-86f5-239bca957784",
   "metadata": {},
   "source": [
    "### ***Task 5.2 :*** How many people hold or are connected to trademarks? In which role?\n",
    "\n",
    "I try to connect entities of ***human(wd:Q5)*** to istances of ***trademark (wd:Q167270)***.\n",
    "\n",
    "I show some examples."
   ]
  },
  {
   "cell_type": "code",
   "execution_count": 25,
   "id": "3fb05fe5-0147-4d9a-8eba-4f7f6e4176ba",
   "metadata": {},
   "outputs": [
    {
     "name": "stdout",
     "output_type": "stream",
     "text": [
      "Results\n",
      "[('trademarkName', 'Pathé'), ('pName', 'director / manager'), ('personName', 'Jérôme Seydoux')]\n",
      "[('trademarkName', 'Orange Sky Golden Harvest'), ('pName', 'founded by'), ('personName', 'Leonard Ho')]\n",
      "[('trademarkName', 'Orange Sky Golden Harvest'), ('pName', 'founded by'), ('personName', 'Raymond Chow')]\n",
      "[('trademarkName', 'YG Entertainment'), ('pName', 'founded by'), ('personName', 'Yang Hyun-seok')]\n",
      "[('trademarkName', 'Pathé'), ('pName', 'founded by'), ('personName', 'Charles Pathé')]\n",
      "[('trademarkName', 'MK2'), ('pName', 'founded by'), ('personName', 'Marin Karmitz')]\n",
      "[('trademarkName', 'Huayi Brothers'), ('pName', 'founded by'), ('personName', 'Wang Zhongjun')]\n",
      "[('trademarkName', 'Hybe Corporation'), ('pName', 'founded by'), ('personName', 'Bang Si-hyuk')]\n",
      "[('trademarkName', 'Orange Sky Golden Harvest'), ('pName', 'founded by'), ('personName', 'Leung Fung')]\n",
      "[('trademarkName', 'TOP Media'), ('pName', 'founded by'), ('personName', 'Andy Lee')]\n"
     ]
    },
    {
     "data": {
      "text/plain": [
       "10"
      ]
     },
     "execution_count": 25,
     "metadata": {},
     "output_type": "execute_result"
    }
   ],
   "source": [
    "queryString = \"\"\"\n",
    "SELECT DISTINCT ?trademarkName ?pName ?personName WHERE { \n",
    "    \n",
    "    # Retrieve entities that are trademarks and connect them to people\n",
    "    ?trademark  wdt:P31/wdt:P279*  wd:Q167270 ;\n",
    "                ?p                 ?person    . \n",
    "    \n",
    "    # I want only people\n",
    "    ?person wdt:P31 wd:Q5 .  \n",
    "    \n",
    "    # This returns the labels\n",
    "    ?p         <http://schema.org/name> ?pName .\n",
    "    ?person    <http://schema.org/name> ?personName .\n",
    "    ?trademark <http://schema.org/name> ?trademarkName .\n",
    "}\n",
    "LIMIT 10\n",
    "\"\"\"\n",
    "\n",
    "print(\"Results\")\n",
    "run_query(queryString)"
   ]
  },
  {
   "cell_type": "markdown",
   "id": "7bcd465d-a083-4567-b5bc-a285806065ee",
   "metadata": {},
   "source": [
    "I show only the properties that connect istances of ***trademark (wd:Q167270)*** to people."
   ]
  },
  {
   "cell_type": "code",
   "execution_count": 26,
   "id": "7b9ae33a-fdd4-4f44-99e9-8fb6a01e0aef",
   "metadata": {},
   "outputs": [
    {
     "name": "stdout",
     "output_type": "stream",
     "text": [
      "Results\n",
      "[('p', 'http://www.wikidata.org/prop/direct/P1037'), ('pName', 'director / manager')]\n",
      "[('p', 'http://www.wikidata.org/prop/direct/P112'), ('pName', 'founded by')]\n",
      "[('p', 'http://www.wikidata.org/prop/direct/P127'), ('pName', 'owned by')]\n",
      "[('p', 'http://www.wikidata.org/prop/direct/P169'), ('pName', 'chief executive officer')]\n",
      "[('p', 'http://www.wikidata.org/prop/direct/P1889'), ('pName', 'different from')]\n",
      "[('p', 'http://www.wikidata.org/prop/direct/P3342'), ('pName', 'significant person')]\n",
      "[('p', 'http://www.wikidata.org/prop/direct/P527'), ('pName', 'has part')]\n",
      "[('p', 'http://www.wikidata.org/prop/direct/P138'), ('pName', 'named after')]\n",
      "[('p', 'http://www.wikidata.org/prop/direct/P170'), ('pName', 'creator')]\n",
      "[('p', 'http://www.wikidata.org/prop/direct/P3931'), ('pName', 'copyright holder')]\n"
     ]
    },
    {
     "data": {
      "text/plain": [
       "10"
      ]
     },
     "execution_count": 26,
     "metadata": {},
     "output_type": "execute_result"
    }
   ],
   "source": [
    "queryString = \"\"\"\n",
    "SELECT DISTINCT ?p ?pName WHERE { \n",
    "    \n",
    "    # Retrieve entities that are trademarks and connect them to people\n",
    "    ?trademark  wdt:P31/wdt:P279*  wd:Q167270 ;\n",
    "                ?p                 ?person    . \n",
    "    \n",
    "    # I want only people\n",
    "    ?person wdt:P31 wd:Q5 .  \n",
    "    \n",
    "    # This returns the labels\n",
    "    ?p <http://schema.org/name> ?pName .\n",
    "}\n",
    "LIMIT 10\n",
    "\"\"\"\n",
    "\n",
    "print(\"Results\")\n",
    "run_query(queryString)"
   ]
  },
  {
   "cell_type": "markdown",
   "id": "84957e8f-f30b-4306-9b25-4bfb93b97ef1",
   "metadata": {},
   "source": [
    "Now, I can count how many people are related to trademarks grouping them by the property used."
   ]
  },
  {
   "cell_type": "code",
   "execution_count": 27,
   "id": "51671beb-89df-457c-a205-0c79288e7bd5",
   "metadata": {},
   "outputs": [
    {
     "name": "stdout",
     "output_type": "stream",
     "text": [
      "Results\n",
      "[('p', 'http://www.wikidata.org/prop/direct/P112'), ('pName', 'founded by'), ('numPeople', '2424')]\n",
      "[('p', 'http://www.wikidata.org/prop/direct/P127'), ('pName', 'owned by'), ('numPeople', '236')]\n",
      "[('p', 'http://www.wikidata.org/prop/direct/P138'), ('pName', 'named after'), ('numPeople', '161')]\n",
      "[('p', 'http://www.wikidata.org/prop/direct/P169'), ('pName', 'chief executive officer'), ('numPeople', '150')]\n",
      "[('p', 'http://www.wikidata.org/prop/direct/P1037'), ('pName', 'director / manager'), ('numPeople', '86')]\n",
      "[('p', 'http://www.wikidata.org/prop/direct/P527'), ('pName', 'has part'), ('numPeople', '51')]\n",
      "[('p', 'http://www.wikidata.org/prop/direct/P61'), ('pName', 'discoverer or inventor'), ('numPeople', '51')]\n",
      "[('p', 'http://www.wikidata.org/prop/direct/P3320'), ('pName', 'board member'), ('numPeople', '49')]\n",
      "[('p', 'http://www.wikidata.org/prop/direct/P488'), ('pName', 'chairperson'), ('numPeople', '41')]\n",
      "[('p', 'http://www.wikidata.org/prop/direct/P170'), ('pName', 'creator'), ('numPeople', '35')]\n"
     ]
    },
    {
     "data": {
      "text/plain": [
       "10"
      ]
     },
     "execution_count": 27,
     "metadata": {},
     "output_type": "execute_result"
    }
   ],
   "source": [
    "queryString = \"\"\"\n",
    "SELECT ?p ?pName COUNT(DISTINCT ?person) as ?numPeople WHERE { \n",
    "    \n",
    "    # Retrieve entities that are trademarks and connect them to people\n",
    "    ?trademark  wdt:P31/wdt:P279*  wd:Q167270 ;\n",
    "                ?p                 ?person    . \n",
    "    \n",
    "    # I want only people\n",
    "    ?person wdt:P31 wd:Q5 .  \n",
    "    \n",
    "    # This returns the labels\n",
    "    ?p <http://schema.org/name> ?pName .\n",
    "}\n",
    "GROUP BY ?p ?pName\n",
    "ORDER BY DESC(?numPeople)\n",
    "LIMIT 10\n",
    "\"\"\"\n",
    "\n",
    "print(\"Results\")\n",
    "run_query(queryString)"
   ]
  },
  {
   "cell_type": "markdown",
   "id": "1c2acadc-9f89-427b-80f2-76df485e44ab",
   "metadata": {},
   "source": [
    "##### END TASK 5.2\n",
    "It is possible to notice that people are connected to istances of ***trademark (wd:Q167270)*** not only by the property ***owned by (wdt:P127)*** but also by other properties.\n",
    "\n",
    "In particular there are 2424 people connected through the proerty ***founded by (wdt:P112)***. This is probably due to the fact that a lot of istances of ***trademark (wd:Q167270)*** are companies/brands and so there is at least one founder for each of them."
   ]
  },
  {
   "cell_type": "markdown",
   "id": "8449af13-bee4-49a5-adf6-8d9e828ffcfa",
   "metadata": {},
   "source": [
    "### ***Task 5.3 :*** In which sector there is the highest number of trademarks?\n",
    "\n",
    "The query is similar to the one used in Task 5.1, but instead of counting how many US companies I have for each sector, I count how many istances of ***trademark (wd:Q167270)*** there are."
   ]
  },
  {
   "cell_type": "code",
   "execution_count": 28,
   "id": "db7f0f99-7255-4af7-8c39-751894517f77",
   "metadata": {},
   "outputs": [
    {
     "name": "stdout",
     "output_type": "stream",
     "text": [
      "Results\n",
      "[('sector', 'http://www.wikidata.org/entity/Q540912'), ('sectorName', 'food industry'), ('numTrademarks', '583')]\n",
      "[('sector', 'http://www.wikidata.org/entity/Q869095'), ('sectorName', 'brewing'), ('numTrademarks', '516')]\n",
      "[('sector', 'http://www.wikidata.org/entity/Q1187656'), ('sectorName', 'fast-moving consumer goods'), ('numTrademarks', '309')]\n",
      "[('sector', 'http://www.wikidata.org/entity/Q4899370'), ('sectorName', 'beverage industry'), ('numTrademarks', '263')]\n",
      "[('sector', 'http://www.wikidata.org/entity/Q107601756'), ('sectorName', 'food and tobacco industry'), ('numTrademarks', '223')]\n",
      "[('sector', 'http://www.wikidata.org/entity/Q126793'), ('sectorName', 'retail'), ('numTrademarks', '192')]\n",
      "[('sector', 'http://www.wikidata.org/entity/Q207652'), ('sectorName', 'chemical industry'), ('numTrademarks', '175')]\n",
      "[('sector', 'http://www.wikidata.org/entity/Q190117'), ('sectorName', 'automotive industry'), ('numTrademarks', '144')]\n",
      "[('sector', 'http://www.wikidata.org/entity/Q746359'), ('sectorName', 'music industry'), ('numTrademarks', '124')]\n",
      "[('sector', 'http://www.wikidata.org/entity/Q507443'), ('sectorName', 'pharmaceutical industry'), ('numTrademarks', '87')]\n"
     ]
    },
    {
     "data": {
      "text/plain": [
       "10"
      ]
     },
     "execution_count": 28,
     "metadata": {},
     "output_type": "execute_result"
    }
   ],
   "source": [
    "queryString = \"\"\"\n",
    "SELECT ?sector ?sectorName COUNT(DISTINCT ?trademark) AS ?numTrademarks WHERE { \n",
    "    \n",
    "    # Retrieve entities that are trademarks and connect them to their \"owner\"\n",
    "    ?trademark  wdt:P31/wdt:P279*                  wd:Q167270 ;\n",
    "                (wdt:P127 | wdt:P176 | wdt:P178)   ?company  . \n",
    "    \n",
    "    # Retrieve sectors of companies\n",
    "    ?company wdt:P452 ?sector . \n",
    "    \n",
    "    # This returns the labels\n",
    "    ?sector <http://schema.org/name> ?sectorName .\n",
    "    \n",
    "    # I exclude trademarks owned by humans because I want only companies\n",
    "    FILTER NOT EXISTS { ?company wdt:P31  wd:Q5 . }  \n",
    "}\n",
    "GROUP BY ?sector ?sectorName\n",
    "ORDER BY DESC(?numTrademarks)\n",
    "LIMIT 10\n",
    "\"\"\"\n",
    "\n",
    "print(\"Results\")\n",
    "run_query(queryString)"
   ]
  },
  {
   "cell_type": "markdown",
   "id": "28b5309c-7ca6-40d8-872c-c3defe8918b5",
   "metadata": {},
   "source": [
    "##### END TASK 5.3\n",
    "The ***food industry (wd:Q540912)*** is the sector with the highest number of trademarks (583 trademarks)"
   ]
  },
  {
   "cell_type": "markdown",
   "id": "8e4f0d6b-c826-4153-becb-6a1279676076",
   "metadata": {},
   "source": [
    "### Extra Analytics query\n",
    "\n",
    "#### On average how many trademarks are owned by a single company ?"
   ]
  },
  {
   "cell_type": "code",
   "execution_count": 29,
   "id": "0df0c6a8-90d8-4ef7-b152-192eb35aa9ad",
   "metadata": {},
   "outputs": [
    {
     "name": "stdout",
     "output_type": "stream",
     "text": [
      "Results\n",
      "[('avgNumTrademarks', '1.98361581920904')]\n"
     ]
    },
    {
     "data": {
      "text/plain": [
       "1"
      ]
     },
     "execution_count": 29,
     "metadata": {},
     "output_type": "execute_result"
    }
   ],
   "source": [
    "queryString = \"\"\"\n",
    "SELECT AVG(?numTrademarks) AS ?avgNumTrademarks{\n",
    "\n",
    "    {   SELECT ?owner ?ownerName COUNT(DISTINCT ?trademark) AS ?numTrademarks WHERE { \n",
    "\n",
    "            # Retrieve entities that are trademarks and connect them to their \"owner\"\n",
    "            ?trademark  wdt:P31/wdt:P279*                  wd:Q167270 ;\n",
    "                        (wdt:P127 | wdt:P176 | wdt:P178)   ?owner   . \n",
    "\n",
    "            # This returns the labels\n",
    "            ?trademark <http://schema.org/name> ?trademarkName .\n",
    "            ?owner <http://schema.org/name>     ?ownerName .  \n",
    "\n",
    "            # I want to exclude trademarks owned by humans \n",
    "            FILTER NOT EXISTS { ?owner wdt:P31  wd:Q5 . }   \n",
    "        }\n",
    "        GROUP BY ?owner ?ownerName\n",
    "    }\n",
    "}\n",
    "\"\"\"\n",
    "\n",
    "print(\"Results\")\n",
    "run_query(queryString)"
   ]
  },
  {
   "cell_type": "markdown",
   "id": "b1278ef0-88a5-4a05-a0c6-6be3b50ae190",
   "metadata": {},
   "source": [
    "#### On average how many trademarks are owned by a US company ?"
   ]
  },
  {
   "cell_type": "code",
   "execution_count": 30,
   "id": "f1b99210-1920-462a-879c-4218ee3da2b1",
   "metadata": {},
   "outputs": [
    {
     "name": "stdout",
     "output_type": "stream",
     "text": [
      "Results\n",
      "[('avgNumTrademarks', '3.10655737704918')]\n"
     ]
    },
    {
     "data": {
      "text/plain": [
       "1"
      ]
     },
     "execution_count": 30,
     "metadata": {},
     "output_type": "execute_result"
    }
   ],
   "source": [
    "queryString = \"\"\"\n",
    "SELECT AVG(?numTrademarks) AS ?avgNumTrademarks{\n",
    "\n",
    "    {   SELECT ?owner ?ownerName COUNT(DISTINCT ?trademark) AS ?numTrademarks WHERE { \n",
    "\n",
    "            # Retrieve entities that are trademarks and connect them to their \"owner\"\n",
    "            ?trademark  wdt:P31/wdt:P279*                  wd:Q167270 ;\n",
    "                        (wdt:P127 | wdt:P176 | wdt:P178)   ?owner   . \n",
    "\n",
    "            # I want only american companies\n",
    "            ?owner wdt:P17 wd:Q30 . \n",
    "            \n",
    "            # This returns the labels\n",
    "            ?trademark <http://schema.org/name> ?trademarkName .\n",
    "            ?owner <http://schema.org/name>     ?ownerName .  \n",
    "\n",
    "            # I want to exclude trademarks owned by humans \n",
    "            FILTER NOT EXISTS { ?owner wdt:P31  wd:Q5 . }   \n",
    "        }\n",
    "        GROUP BY ?owner ?ownerName\n",
    "    }\n",
    "}\n",
    "\"\"\"\n",
    "\n",
    "print(\"Results\")\n",
    "run_query(queryString)"
   ]
  },
  {
   "cell_type": "markdown",
   "id": "5e8a8311-32d1-46ef-8b1a-84b8d5498ea3",
   "metadata": {},
   "source": [
    "#### How many trademarks are owned by companies grouped by country ?"
   ]
  },
  {
   "cell_type": "code",
   "execution_count": 31,
   "id": "1e6f7d5c-0604-4c06-986f-ef8fca95756f",
   "metadata": {},
   "outputs": [
    {
     "name": "stdout",
     "output_type": "stream",
     "text": [
      "Results\n",
      "[('country', 'http://www.wikidata.org/entity/Q30'), ('countryName', 'United States of America'), ('numTrademarks', '1085')]\n",
      "[('country', 'http://www.wikidata.org/entity/Q183'), ('countryName', 'Germany'), ('numTrademarks', '308')]\n",
      "[('country', 'http://www.wikidata.org/entity/Q145'), ('countryName', 'United Kingdom'), ('numTrademarks', '241')]\n",
      "[('country', 'http://www.wikidata.org/entity/Q17'), ('countryName', 'Japan'), ('numTrademarks', '193')]\n",
      "[('country', 'http://www.wikidata.org/entity/Q142'), ('countryName', 'France'), ('numTrademarks', '147')]\n",
      "[('country', 'http://www.wikidata.org/entity/Q38'), ('countryName', 'Italy'), ('numTrademarks', '101')]\n",
      "[('country', 'http://www.wikidata.org/entity/Q31'), ('countryName', 'Belgium'), ('numTrademarks', '97')]\n",
      "[('country', 'http://www.wikidata.org/entity/Q39'), ('countryName', 'Switzerland'), ('numTrademarks', '96')]\n",
      "[('country', 'http://www.wikidata.org/entity/Q55'), ('countryName', 'Netherlands'), ('numTrademarks', '81')]\n",
      "[('country', 'http://www.wikidata.org/entity/Q148'), ('countryName', \"People's Republic of China\"), ('numTrademarks', '66')]\n"
     ]
    },
    {
     "data": {
      "text/plain": [
       "10"
      ]
     },
     "execution_count": 31,
     "metadata": {},
     "output_type": "execute_result"
    }
   ],
   "source": [
    "queryString = \"\"\"\n",
    "SELECT ?country ?countryName COUNT(DISTINCT ?trademark) AS ?numTrademarks WHERE { \n",
    "    \n",
    "    # Retrieve entities that are trademarks and connect them to their \"owner\"\n",
    "    ?trademark  wdt:P31/wdt:P279*                  wd:Q167270 ;\n",
    "                (wdt:P127 | wdt:P176 | wdt:P178)   ?owner   . \n",
    "    \n",
    "    # Retrieve the country of a company\n",
    "    ?owner wdt:P17 ?country . \n",
    "            \n",
    "    # This returns the labels\n",
    "    ?trademark <http://schema.org/name> ?trademarkName .\n",
    "    ?owner     <http://schema.org/name> ?ownerName . \n",
    "    ?country   <http://schema.org/name> ?countryName .\n",
    "    \n",
    "    # I want to exclude trademarks owned by humans \n",
    "    FILTER NOT EXISTS { ?owner wdt:P31  wd:Q5 . }   \n",
    "}\n",
    "GROUP BY ?country ?countryName\n",
    "ORDER BY DESC(?numTrademarks)\n",
    "LIMIT 10\n",
    "\"\"\"\n",
    "\n",
    "print(\"Results\")\n",
    "run_query(queryString)"
   ]
  },
  {
   "cell_type": "markdown",
   "id": "43bd82c1-c663-4c9b-9fd4-763d00deab8c",
   "metadata": {},
   "source": [
    "#### On average how many trademarks are owned by a single company for each country?"
   ]
  },
  {
   "cell_type": "code",
   "execution_count": 32,
   "id": "41a9108a-d8ae-43df-b5f6-3f3b9504544e",
   "metadata": {},
   "outputs": [
    {
     "name": "stdout",
     "output_type": "stream",
     "text": [
      "Results\n",
      "[('country', 'http://www.wikidata.org/entity/Q174193'), ('countryName', 'United Kingdom of Great Britain and Ireland'), ('avgNumTrademarksByCountry', '36')]\n",
      "[('country', 'http://www.wikidata.org/entity/Q39'), ('countryName', 'Switzerland'), ('avgNumTrademarksByCountry', '5.647058823529412')]\n",
      "[('country', 'http://www.wikidata.org/entity/Q55'), ('countryName', 'Netherlands'), ('avgNumTrademarksByCountry', '3.375')]\n",
      "[('country', 'http://www.wikidata.org/entity/Q41'), ('countryName', 'Greece'), ('avgNumTrademarksByCountry', '3.333333333333333')]\n",
      "[('country', 'http://www.wikidata.org/entity/Q30'), ('countryName', 'United States of America'), ('avgNumTrademarksByCountry', '3.10655737704918')]\n",
      "[('country', 'http://www.wikidata.org/entity/Q25230'), ('countryName', 'Guernsey'), ('avgNumTrademarksByCountry', '3')]\n",
      "[('country', 'http://www.wikidata.org/entity/Q785'), ('countryName', 'Jersey'), ('avgNumTrademarksByCountry', '3')]\n",
      "[('country', 'http://www.wikidata.org/entity/Q884'), ('countryName', 'South Korea'), ('avgNumTrademarksByCountry', '2.166666666666667')]\n",
      "[('country', 'http://www.wikidata.org/entity/Q145'), ('countryName', 'United Kingdom'), ('avgNumTrademarksByCountry', '2.063492063492063')]\n",
      "[('country', 'http://www.wikidata.org/entity/Q142'), ('countryName', 'France'), ('avgNumTrademarksByCountry', '2.013333333333333')]\n"
     ]
    },
    {
     "data": {
      "text/plain": [
       "10"
      ]
     },
     "execution_count": 32,
     "metadata": {},
     "output_type": "execute_result"
    }
   ],
   "source": [
    "queryString = \"\"\"\n",
    "SELECT ?country ?countryName AVG(?numTrademarks) AS ?avgNumTrademarksByCountry{\n",
    "\n",
    "    # I retrieve the country of a company\n",
    "    ?owner wdt:P17 ?country . \n",
    "    \n",
    "    # This returns the labels\n",
    "    ?country <http://schema.org/name> ?countryName .  \n",
    "            \n",
    "    {   SELECT ?owner ?ownerName COUNT(DISTINCT ?trademark) AS ?numTrademarks WHERE { \n",
    "\n",
    "            # Retrieve entities that are trademarks and connect them to their \"owner\"\n",
    "            ?trademark  wdt:P31/wdt:P279*                  wd:Q167270 ;\n",
    "                        (wdt:P127 | wdt:P176 | wdt:P178)   ?owner   . \n",
    "            \n",
    "            # This returns the labels\n",
    "            ?trademark <http://schema.org/name> ?trademarkName .\n",
    "            ?owner <http://schema.org/name>     ?ownerName .  \n",
    "\n",
    "            # I want to exclude trademarks owned by humans \n",
    "            FILTER NOT EXISTS { ?owner wdt:P31  wd:Q5 . }   \n",
    "        }\n",
    "        GROUP BY ?owner ?ownerName\n",
    "    }   \n",
    "}\n",
    "GROUP BY ?country ?countryName\n",
    "ORDER BY DESC(?avgNumTrademarksByCountry)\n",
    "LIMIT 10 \n",
    "\"\"\"\n",
    "\n",
    "print(\"Results\")\n",
    "run_query(queryString)"
   ]
  },
  {
   "cell_type": "markdown",
   "id": "bf13c2c1-942e-4d50-bc76-ebbf2d7a7ca4",
   "metadata": {},
   "source": [
    "#### Who are the people that own the highest number of trademarks ?"
   ]
  },
  {
   "cell_type": "code",
   "execution_count": 33,
   "id": "7bd9c6ae-3a8b-4f9a-9971-104c8459a462",
   "metadata": {},
   "outputs": [
    {
     "name": "stdout",
     "output_type": "stream",
     "text": [
      "Results\n",
      "[('owner', 'http://www.wikidata.org/entity/Q30201990'), ('ownerName', 'Pedro Fernando'), ('numTrademarks', '6')]\n",
      "[('owner', 'http://www.wikidata.org/entity/Q36844'), ('ownerName', 'Rihanna'), ('numTrademarks', '3')]\n",
      "[('owner', 'http://www.wikidata.org/entity/Q909017'), ('ownerName', 'Brennan Heart'), ('numTrademarks', '2')]\n",
      "[('owner', 'http://www.wikidata.org/entity/Q3170637'), ('ownerName', 'Jean Baud'), ('numTrademarks', '2')]\n",
      "[('owner', 'http://www.wikidata.org/entity/Q105455093'), ('ownerName', 'Sadoc Vazkez'), ('numTrademarks', '2')]\n",
      "[('owner', 'http://www.wikidata.org/entity/Q6524850'), ('ownerName', 'Leon René'), ('numTrademarks', '2')]\n",
      "[('owner', 'http://www.wikidata.org/entity/Q77428188'), ('ownerName', 'Gundolf Meyer-Hentschel'), ('numTrademarks', '2')]\n",
      "[('owner', 'http://www.wikidata.org/entity/Q7781479'), ('ownerName', 'Theo Paphitis'), ('numTrademarks', '2')]\n",
      "[('owner', 'http://www.wikidata.org/entity/Q106893140'), ('ownerName', 'Mina'), ('numTrademarks', '2')]\n",
      "[('owner', 'http://www.wikidata.org/entity/Q65551875'), ('ownerName', 'Aki Roukala'), ('numTrademarks', '2')]\n"
     ]
    },
    {
     "data": {
      "text/plain": [
       "10"
      ]
     },
     "execution_count": 33,
     "metadata": {},
     "output_type": "execute_result"
    }
   ],
   "source": [
    "queryString = \"\"\"\n",
    "SELECT ?owner ?ownerName COUNT(DISTINCT ?trademark) AS ?numTrademarks WHERE { \n",
    "    \n",
    "    # Retrieve entities that are trademarks and connect them to their \"owner\"\n",
    "    ?trademark  wdt:P31/wdt:P279*                  wd:Q167270 ;\n",
    "                (wdt:P127 | wdt:P176 | wdt:P178)   ?owner   . \n",
    "\n",
    "    # I want only trademarks owned by humans \n",
    "    ?owner wdt:P31  wd:Q5 . \n",
    "    \n",
    "    # This returns the labels\n",
    "    ?trademark <http://schema.org/name> ?trademarkName .\n",
    "    ?owner <http://schema.org/name>     ?ownerName .  \n",
    "    \n",
    "}\n",
    "GROUP BY ?owner ?ownerName\n",
    "ORDER BY DESC(?numTrademarks)\n",
    "LIMIT 10\n",
    "\"\"\"\n",
    "\n",
    "print(\"Results\")\n",
    "run_query(queryString)"
   ]
  },
  {
   "cell_type": "markdown",
   "id": "0ea0b695-8145-48f8-81d0-07d358f68816",
   "metadata": {},
   "source": [
    "#### On average how many trademarks are owned by a single person ? "
   ]
  },
  {
   "cell_type": "code",
   "execution_count": 34,
   "id": "76e28674-0f94-479a-8746-ce3b1bf98085",
   "metadata": {},
   "outputs": [
    {
     "name": "stdout",
     "output_type": "stream",
     "text": [
      "Results\n",
      "[('avgNumTrademarks', '1.083333333333333')]\n"
     ]
    },
    {
     "data": {
      "text/plain": [
       "1"
      ]
     },
     "execution_count": 34,
     "metadata": {},
     "output_type": "execute_result"
    }
   ],
   "source": [
    "queryString = \"\"\"\n",
    "SELECT AVG(?numTrademarks) AS ?avgNumTrademarks{\n",
    "\n",
    "    {   SELECT ?owner ?ownerName COUNT(DISTINCT ?trademark) AS ?numTrademarks WHERE { \n",
    "\n",
    "            # Retrieve entities that are trademarks and connect them to their \"owner\"\n",
    "            ?trademark  wdt:P31/wdt:P279*                  wd:Q167270 ;\n",
    "                        (wdt:P127 | wdt:P176 | wdt:P178)   ?owner   . \n",
    "\n",
    "            # I want only trademarks owned by humans\n",
    "            ?owner wdt:P31  wd:Q5 . \n",
    "            \n",
    "            # This returns the labels\n",
    "            ?trademark <http://schema.org/name> ?trademarkName .\n",
    "            ?owner <http://schema.org/name>     ?ownerName .  \n",
    "        }\n",
    "        GROUP BY ?owner ?ownerName\n",
    "    }\n",
    "}\n",
    "\"\"\"\n",
    "\n",
    "print(\"Results\")\n",
    "run_query(queryString)"
   ]
  },
  {
   "cell_type": "markdown",
   "id": "ec6e84ff-4f5a-4f79-9816-69717c77432f",
   "metadata": {},
   "source": [
    "## END"
   ]
  }
 ],
 "metadata": {
  "kernelspec": {
   "display_name": "Python 3 (ipykernel)",
   "language": "python",
   "name": "python3"
  },
  "language_info": {
   "codemirror_mode": {
    "name": "ipython",
    "version": 3
   },
   "file_extension": ".py",
   "mimetype": "text/x-python",
   "name": "python",
   "nbconvert_exporter": "python",
   "pygments_lexer": "ipython3",
   "version": "3.7.10"
  }
 },
 "nbformat": 4,
 "nbformat_minor": 5
}
