{
 "cells": [
  {
   "cell_type": "markdown",
   "id": "7034c3bf-6eb0-4418-8687-7b9d2a501103",
   "metadata": {},
   "source": [
    "# General instructions\n",
    "\n",
    "The goal of the project is to materialize a set of **exploratory workloads** over a real-world, large-scale,  open-domain KG: [WikiData](https://www.wikidata.org/wiki/Wikidata:Main_Page)\n",
    "\n",
    "An exploratory workload  is composed by a set of queries, where each query is related to the information obtained previously.\n",
    "\n",
    "An exploratory workload starts with a usually vague, open ended question, and does not assume the person issuing the workload has a clear understanding of the data contained in the target database or its structure.\n",
    "\n",
    "Remeber that:\n",
    "\n",
    "1. All the queries must run in the python notebook\n",
    "2. You can use classes and properties only if you find them via a SPARQL query that must be present in the notebook\n",
    "3. You do not delete useless queries. Keep everything that is synthatically valid \n",
    "\n",
    "```\n",
    "?p <http://schema.org/name> ?name .\n",
    "```\n",
    "    \n",
    "is the BGP returning a human-readable name of a property or a class in Wikidata.\n",
    "    \n",
    "    "
   ]
  },
  {
   "cell_type": "code",
   "execution_count": 1,
   "id": "3605c9d5-5371-49a5-be8d-d66e8f417139",
   "metadata": {},
   "outputs": [],
   "source": [
    "## SETUP used later\n",
    "\n",
    "from SPARQLWrapper import SPARQLWrapper, JSON\n",
    "\n",
    "\n",
    "prefixString = \"\"\"\n",
    "##-e565f07aca-##\n",
    "PREFIX wd: <http://www.wikidata.org/entity/> \n",
    "PREFIX wdt: <http://www.wikidata.org/prop/direct/> \n",
    "PREFIX sc: <http://schema.org/>\n",
    "\"\"\"\n",
    "\n",
    "# select and construct queries\n",
    "def run_query(queryString):\n",
    "    to_run = prefixString + \"\\n\" + queryString\n",
    "\n",
    "    sparql = SPARQLWrapper(\"http://a256-gc1-02.srv.aau.dk:5820/sparql\")\n",
    "    sparql.setTimeout(300)\n",
    "    sparql.setReturnFormat(JSON)\n",
    "    sparql.setQuery(to_run)\n",
    "\n",
    "    try :\n",
    "       results = sparql.query()\n",
    "       json_results = results.convert()\n",
    "       if len(json_results['results']['bindings'])==0:\n",
    "          print(\"Empty\")\n",
    "          return 0\n",
    "    \n",
    "       for bindings in json_results['results']['bindings']:\n",
    "          print( [ (var, value['value'])  for var, value in bindings.items() ] )\n",
    "\n",
    "       return len(json_results['results']['bindings'])\n",
    "\n",
    "    except Exception as e :\n",
    "        print(\"The operation failed\", e)\n",
    "    \n",
    "# ASk queries\n",
    "def run_ask_query(queryString):\n",
    "    to_run = prefixString + \"\\n\" + queryString\n",
    "\n",
    "    sparql = SPARQLWrapper(\"http://a256-gc1-02.srv.aau.dk:5820/sparql\")\n",
    "    sparql.setTimeout(300)\n",
    "    sparql.setReturnFormat(JSON)\n",
    "    sparql.setQuery(to_run)\n",
    "\n",
    "    try :\n",
    "        return sparql.query().convert()\n",
    "\n",
    "    except Exception as e :\n",
    "        print(\"The operation failed\", e)\n"
   ]
  },
  {
   "cell_type": "markdown",
   "id": "d477a59c-a68c-4c8f-9f97-8ca5294d7d27",
   "metadata": {},
   "source": [
    "# GEO Workflow Series (\"American Architects\") \n",
    "\n",
    "Consider the following exploratory information need:\n",
    "\n",
    "> You want to study the most prolific american architects"
   ]
  },
  {
   "cell_type": "markdown",
   "id": "4a45c0ba-f79e-441d-bec5-84401b09db70",
   "metadata": {},
   "source": [
    "## Useful URIs for the current workflow\n",
    "\n",
    "\n",
    "The following are given:\n",
    "\n",
    "| IRI           | Description   | Role      |\n",
    "| -----------   | -----------   |-----------|\n",
    "| `wdt:P1647`   | subproperty   | predicate |\n",
    "| `wdt:P31`     | instance of   | predicate |\n",
    "| `wdt:P279`    | subclass      | predicate |\n",
    "| `wdt:P106`    | occupation    | predicate |\n",
    "| `wdt:P17`     | country       | predicate |\n",
    "| `wdt:P27`     | citizenship   | predicate |\n",
    "| `wd:Q5604`    | Frank Lloyd Wright     | node      |\n",
    "| `wd:Q30`      | U.S.A.        | node |\n",
    "| `wd:Q42973`   | architect     | node |\n",
    "| `wd:Q2081276` | Pettit Memorial Chapel        | node |\n",
    "| `wd:Q2977`    | Cathedral     | node |\n",
    "\n",
    "\n",
    "\n",
    "Also consider\n",
    "\n",
    "```\n",
    "?p wdt:P27 wd:Q30  . \n",
    "?p wdt:P106 wd:Q42973  . \n",
    "```\n",
    "\n",
    "is the BGP to retrieve all **american architects**"
   ]
  },
  {
   "cell_type": "markdown",
   "id": "7af439fb-96e4-4dbb-a381-f19afab79f86",
   "metadata": {
    "tags": []
   },
   "source": [
    "## Workload Goals\n",
    "\n",
    "1. Identify the BGP to obtain the notable works of an architect and their location\n",
    "\n",
    "2. Identify the BGP that connect a building with its architect, type, and architectural style\n",
    "\n",
    "3. Which architect is the most prolific in the U.S. and outside?\n",
    "\n",
    "4. Analyze the location of the buildings designed by the american architects\n",
    " \n",
    "   4.1 Which styles exists in the U.S.? Which type of building?\n",
    "   \n",
    "   4.2 In which U.S. states there are more notable buildings?\n",
    "   \n",
    "   4.3 Which U.S. state contains the largest number of building designed by U.S. architects\n"
   ]
  },
  {
   "cell_type": "markdown",
   "id": "b9b28ca4-0c36-45b3-9bdf-d1fcf31def6c",
   "metadata": {
    "tags": []
   },
   "source": [
    "#### Example of query"
   ]
  },
  {
   "cell_type": "code",
   "execution_count": 2,
   "id": "ade01416-92e7-4ad7-b9a9-b8fb330750dc",
   "metadata": {},
   "outputs": [
    {
     "name": "stdout",
     "output_type": "stream",
     "text": [
      "Results\n",
      "[('callret-0', '3354')]\n"
     ]
    },
    {
     "data": {
      "text/plain": [
       "1"
      ]
     },
     "execution_count": 2,
     "metadata": {},
     "output_type": "execute_result"
    }
   ],
   "source": [
    "queryString = \"\"\"\n",
    "SELECT COUNT(*) WHERE { \n",
    "\n",
    "    ?p wdt:P27 wd:Q30  . \n",
    "    ?p wdt:P106 wd:Q42973  . \n",
    "} \n",
    "\"\"\"\n",
    "\n",
    "print(\"Results\")\n",
    "run_query(queryString)"
   ]
  },
  {
   "cell_type": "markdown",
   "id": "5abe0f7a-c622-41e2-b0db-0f099b03c032",
   "metadata": {},
   "source": [
    "### My Workflow\n",
    "\n",
    "#### ***Task 1 :*** Identify the BGP to obtain the notable works of an architect and their location.\n",
    "\n",
    "First of all, I need to understand how an ***architect (wd:Q42973)*** is related to its works. \n",
    "\n",
    "To do this, I show all the properties between istances of ***architect (wd:Q42973)*** and the ***Pettit Memorial Chapel (wd:Q2081276)***."
   ]
  },
  {
   "cell_type": "code",
   "execution_count": 3,
   "id": "ca3164a1-0c52-42b9-905f-0864b2bd86f8",
   "metadata": {},
   "outputs": [
    {
     "name": "stdout",
     "output_type": "stream",
     "text": [
      "Results\n",
      "[('architectName', 'Frank Lloyd Wright'), ('p', 'http://www.wikidata.org/prop/direct/P800'), ('pName', 'notable work')]\n"
     ]
    },
    {
     "data": {
      "text/plain": [
       "1"
      ]
     },
     "execution_count": 3,
     "metadata": {},
     "output_type": "execute_result"
    }
   ],
   "source": [
    "queryString = \"\"\"\n",
    "SELECT ?architectName ?p ?pName WHERE { \n",
    "\n",
    "    # Retrieve all the architects and connect them to Pettit Memorial Chapel\n",
    "    ?architect  wdt:P106 wd:Q42973   ;\n",
    "                ?p       wd:Q2081276 .\n",
    "\n",
    "    # This returns the labels\n",
    "    ?architect <http://schema.org/name> ?architectName .\n",
    "    ?p         <http://schema.org/name> ?pName         .\n",
    "} \n",
    "\"\"\"\n",
    "\n",
    "print(\"Results\")\n",
    "run_query(queryString)"
   ]
  },
  {
   "cell_type": "markdown",
   "id": "f59c44aa-e5a2-4e35-9fdb-2adfc57c7952",
   "metadata": {},
   "source": [
    "I discovered the property ***notable work (wdt:P800)***. I use it on other istances of ***architect (wd:Q42973)*** to show their notable works."
   ]
  },
  {
   "cell_type": "code",
   "execution_count": 4,
   "id": "a48cf15f-014b-481e-81d9-b09bbc3fc90f",
   "metadata": {},
   "outputs": [
    {
     "name": "stdout",
     "output_type": "stream",
     "text": [
      "Results\n",
      "[('architectName', 'Amós Salvador Sáenz y Carreras'), ('notableWorkName', 'Dispensario antituberculoso Victoria Eugenia')]\n",
      "[('architectName', 'Amós Salvador Sáenz y Carreras'), ('notableWorkName', 'Gal Factory')]\n",
      "[('architectName', 'Antonio Lamela'), ('notableWorkName', 'Estadio Las Gaunas')]\n",
      "[('architectName', 'Antonio Lamela'), ('notableWorkName', 'Torre Caja Badajoz')]\n",
      "[('architectName', 'Antonio Lamela'), ('notableWorkName', 'Edificio Pirámide, Madrid')]\n",
      "[('architectName', 'Antonio Lamela'), ('notableWorkName', 'Edificio Galaxia, Madrid')]\n",
      "[('architectName', 'Antonio Lamela'), ('notableWorkName', 'Edificio de viviendas en Paseo de la Castellana 121-123, Madrid')]\n",
      "[('architectName', 'Antonio Lamela'), ('notableWorkName', 'Torres de Colón')]\n",
      "[('architectName', 'Antonio Lamela'), ('notableWorkName', 'Motel El Hidalgo')]\n",
      "[('architectName', 'Antonio Lamela'), ('notableWorkName', 'Ciudad Real Madrid')]\n"
     ]
    },
    {
     "data": {
      "text/plain": [
       "10"
      ]
     },
     "execution_count": 4,
     "metadata": {},
     "output_type": "execute_result"
    }
   ],
   "source": [
    "queryString = \"\"\"\n",
    "SELECT ?architectName ?notableWorkName WHERE { \n",
    "\n",
    "    # Retrieve all the architects and their notable works\n",
    "    ?architect  wdt:P106  wd:Q42973    ;\n",
    "                wdt:P800  ?notableWork .\n",
    "\n",
    "    # This returns the labels\n",
    "    ?architect   <http://schema.org/name> ?architectName   .\n",
    "    ?notableWork <http://schema.org/name> ?notableWorkName .\n",
    "} \n",
    "LIMIT 10\n",
    "\"\"\"\n",
    "\n",
    "print(\"Results\")\n",
    "run_query(queryString)"
   ]
  },
  {
   "cell_type": "markdown",
   "id": "a2e6a9f8-57a6-42fc-a820-b250cc671516",
   "metadata": {},
   "source": [
    "It works as expected. Now I have to understand how notable works are related to a specific location.\n",
    "\n",
    "I show all the properties of the ***Pettit Memorial Chapel (wd:Q2081276)***."
   ]
  },
  {
   "cell_type": "code",
   "execution_count": 5,
   "id": "52d36874-bd7d-4ac8-9cd6-06f90a8c8420",
   "metadata": {},
   "outputs": [
    {
     "name": "stdout",
     "output_type": "stream",
     "text": [
      "Results\n",
      "[('p', 'http://www.wikidata.org/prop/direct/P131'), ('pName', 'located in the administrative territorial entity')]\n",
      "[('p', 'http://www.wikidata.org/prop/direct/P1435'), ('pName', 'heritage designation')]\n",
      "[('p', 'http://www.wikidata.org/prop/direct/P149'), ('pName', 'architectural style')]\n",
      "[('p', 'http://www.wikidata.org/prop/direct/P1566'), ('pName', 'GeoNames ID')]\n",
      "[('p', 'http://www.wikidata.org/prop/direct/P17'), ('pName', 'country')]\n",
      "[('p', 'http://www.wikidata.org/prop/direct/P18'), ('pName', 'image')]\n",
      "[('p', 'http://www.wikidata.org/prop/direct/P31'), ('pName', 'instance of')]\n",
      "[('p', 'http://www.wikidata.org/prop/direct/P373'), ('pName', 'Commons category')]\n",
      "[('p', 'http://www.wikidata.org/prop/direct/P5383'), ('pName', 'archINFORM project ID')]\n",
      "[('p', 'http://www.wikidata.org/prop/direct/P646'), ('pName', 'Freebase ID')]\n",
      "[('p', 'http://www.wikidata.org/prop/direct/P84'), ('pName', 'architect')]\n",
      "[('p', 'http://www.wikidata.org/prop/direct/P910'), ('pName', \"topic's main category\")]\n",
      "[('p', 'http://www.wikidata.org/prop/direct/P935'), ('pName', 'Commons gallery')]\n",
      "[('p', 'http://www.wikidata.org/prop/direct/P649'), ('pName', 'NRHP reference number')]\n"
     ]
    },
    {
     "data": {
      "text/plain": [
       "14"
      ]
     },
     "execution_count": 5,
     "metadata": {},
     "output_type": "execute_result"
    }
   ],
   "source": [
    "queryString = \"\"\"\n",
    "SELECT DISTINCT ?p ?pName WHERE { \n",
    "\n",
    "    # Retrieve everything connected to Pettit Memorial Chapel\n",
    "    wd:Q2081276 ?p ?o .\n",
    "\n",
    "    # This returns the labels\n",
    "    ?p <http://schema.org/name> ?pName .    \n",
    "}\n",
    "\"\"\"\n",
    "\n",
    "print(\"Results\")\n",
    "run_query(queryString)"
   ]
  },
  {
   "cell_type": "markdown",
   "id": "f5bbe2fe-ce2a-489d-92e8-18010e09a2fe",
   "metadata": {},
   "source": [
    "There are two property that seems related to location:\n",
    "* ***located in the administrative territorial entity (wdt:P131)***\n",
    "* ***country (wdt:P17)***\n",
    "\n",
    "I try to see what is connected through these two properties."
   ]
  },
  {
   "cell_type": "code",
   "execution_count": 6,
   "id": "88080bc4-29a9-428a-a214-f91aa0e411a6",
   "metadata": {},
   "outputs": [
    {
     "name": "stdout",
     "output_type": "stream",
     "text": [
      "Results\n",
      "[('o', 'http://www.wikidata.org/entity/Q30'), ('oName', 'United States of America')]\n"
     ]
    },
    {
     "data": {
      "text/plain": [
       "1"
      ]
     },
     "execution_count": 6,
     "metadata": {},
     "output_type": "execute_result"
    }
   ],
   "source": [
    "queryString = \"\"\"\n",
    "SELECT DISTINCT ?o ?oName WHERE { \n",
    "\n",
    "    # Retrieve everything connect to Pettit Memorial Chapel through property Country\n",
    "    wd:Q2081276 wdt:P17 ?o .\n",
    "\n",
    "    # This returns the labels\n",
    "    ?o <http://schema.org/name> ?oName .    \n",
    "}\n",
    "\"\"\"\n",
    "\n",
    "print(\"Results\")\n",
    "run_query(queryString)"
   ]
  },
  {
   "cell_type": "markdown",
   "id": "ea42409f-729c-4a9a-8a89-300e871b14bd",
   "metadata": {},
   "source": [
    "The property ***country (wdt:P17)*** returns (as expected) the country where the notable work is located. \n",
    "\n",
    "I try to use ***located in the administrative territorial entity (wdt:P131)***."
   ]
  },
  {
   "cell_type": "code",
   "execution_count": 7,
   "id": "61b27571-1927-4b7b-a9da-9c4c439b809d",
   "metadata": {},
   "outputs": [
    {
     "name": "stdout",
     "output_type": "stream",
     "text": [
      "Results\n",
      "[('o', 'http://www.wikidata.org/entity/Q185609'), ('oName', 'Belvidere')]\n"
     ]
    },
    {
     "data": {
      "text/plain": [
       "1"
      ]
     },
     "execution_count": 7,
     "metadata": {},
     "output_type": "execute_result"
    }
   ],
   "source": [
    "queryString = \"\"\"\n",
    "SELECT DISTINCT ?o ?oName WHERE { \n",
    "\n",
    "    # Retrieve everything connect to Pettit Memorial Chapel through property located in the administrative territorial entity\n",
    "    wd:Q2081276 wdt:P131 ?o .\n",
    "\n",
    "    # This returns the labels\n",
    "    ?o <http://schema.org/name> ?oName .    \n",
    "}\n",
    "\"\"\"\n",
    "\n",
    "print(\"Results\")\n",
    "run_query(queryString)"
   ]
  },
  {
   "cell_type": "markdown",
   "id": "16a9030c-63df-4993-bfcd-a9363d3d8ab8",
   "metadata": {},
   "source": [
    "I don't know what ***Belvidere (wd:Q185609)*** is, so I use the property ***instanceOf (wdt:P31)***."
   ]
  },
  {
   "cell_type": "code",
   "execution_count": 8,
   "id": "d36e8e54-769b-49e0-a9e5-382e1bf79f22",
   "metadata": {},
   "outputs": [
    {
     "name": "stdout",
     "output_type": "stream",
     "text": [
      "Results\n",
      "[('class', 'http://www.wikidata.org/entity/Q1093829'), ('className', 'city of the United States')]\n",
      "[('class', 'http://www.wikidata.org/entity/Q62049'), ('className', 'county seat')]\n"
     ]
    },
    {
     "data": {
      "text/plain": [
       "2"
      ]
     },
     "execution_count": 8,
     "metadata": {},
     "output_type": "execute_result"
    }
   ],
   "source": [
    "queryString = \"\"\"\n",
    "SELECT DISTINCT ?class ?className WHERE { \n",
    "\n",
    "    # Retrieve class of Belvidere\n",
    "    wd:Q185609 wdt:P31 ?class .\n",
    "\n",
    "    # This returns the labels\n",
    "    ?class <http://schema.org/name> ?className .    \n",
    "}\n",
    "\"\"\"\n",
    "\n",
    "print(\"Results\")\n",
    "run_query(queryString)"
   ]
  },
  {
   "cell_type": "markdown",
   "id": "ab665e37-0b42-48d7-b98b-a8d256d172ec",
   "metadata": {},
   "source": [
    "***Belvidere (wd:Q185609)*** is actually a city in the United States. So, also the property ***located in the administrative territorial entity (wdt:P131)*** returns useful information about the location of notable works.\n",
    "\n",
    "In my opinion the BGP to retrieve notable works of an architect and their location should consider both of them:\n",
    "\n",
    "```\n",
    "?architect  wdt:P106  wd:Q42973 ;\n",
    "            wdt:P800  ?work     .           \n",
    "?work       wdt:P17   ?country  ;\n",
    "            wdt:P131  ?city     .\n",
    "```\n",
    "\n",
    "I want to try it with a specific architect such as ***Frank Lloyd Wright (wd:Q5604)***."
   ]
  },
  {
   "cell_type": "code",
   "execution_count": 9,
   "id": "d7832eb2-6d21-4113-8690-272050bbb4f5",
   "metadata": {},
   "outputs": [
    {
     "name": "stdout",
     "output_type": "stream",
     "text": [
      "Results\n",
      "[('notableWorkName', 'Pettit Memorial Chapel'), ('countryName', 'United States of America'), ('locationName', 'Belvidere')]\n",
      "[('notableWorkName', 'Solomon R. Guggenheim Museum'), ('countryName', 'United States of America'), ('locationName', 'Manhattan')]\n",
      "[('notableWorkName', 'Fallingwater'), ('countryName', 'United States of America'), ('locationName', 'Stewart Township')]\n",
      "[('notableWorkName', 'A. D. German Warehouse'), ('countryName', 'United States of America'), ('locationName', 'Richland Center')]\n",
      "[('notableWorkName', 'Annunciation Greek Orthodox Church'), ('countryName', 'United States of America'), ('locationName', 'Wauwatosa')]\n",
      "[('notableWorkName', 'Emil Bach House'), ('countryName', 'United States of America'), ('locationName', 'Chicago')]\n"
     ]
    },
    {
     "data": {
      "text/plain": [
       "6"
      ]
     },
     "execution_count": 9,
     "metadata": {},
     "output_type": "execute_result"
    }
   ],
   "source": [
    "queryString = \"\"\"\n",
    "SELECT ?notableWorkName ?countryName ?locationName WHERE { \n",
    "\n",
    "    # Retrieve all notable works of Frank Lloyd Wright\n",
    "    wd:Q5604  wdt:P800  ?notableWork .\n",
    "    \n",
    "    # Retrieve the countries and the cities where the notable works are located\n",
    "    ?notableWork   wdt:P17  ?country  ;\n",
    "                   wdt:P131 ?location .\n",
    "            \n",
    "    # This returns the labels\n",
    "    ?notableWork <http://schema.org/name> ?notableWorkName .\n",
    "    ?country     <http://schema.org/name> ?countryName     .\n",
    "    ?location    <http://schema.org/name> ?locationName    .\n",
    "} \n",
    "LIMIT 20\n",
    "\"\"\"\n",
    "\n",
    "print(\"Results\")\n",
    "run_query(queryString)"
   ]
  },
  {
   "cell_type": "markdown",
   "id": "0e1f296e-6a35-41b7-83d9-9a9bc666a8a3",
   "metadata": {},
   "source": [
    "#### END TASK 1:\n",
    "The property ***notable work (wdt:P800)*** can be used to retrieve notable works of architects.\n",
    "\n",
    "Both ***located in the administrative territorial entity (wdt:P131)*** and ***country (wdt:P17)*** gives useful information about the location of a notable work.\n",
    "\n",
    "To conclude the BGP to obtain the notable works of an architect and their location should be:\n",
    "```\n",
    "?architect  wdt:P106  wd:Q42973 ;\n",
    "            wdt:P800  ?work     .           \n",
    "?work       wdt:P17   ?country  ;\n",
    "            wdt:P131  ?city     .\n",
    "```"
   ]
  },
  {
   "cell_type": "markdown",
   "id": "f70829c6-5328-4a06-bfb8-c119b4b2819a",
   "metadata": {},
   "source": [
    "### ***Task 2 :*** Identify the BGP that connect a building with its architect, type, and architectural style.\n",
    "\n",
    "I show again all the properties of the ***Pettit Memorial Chapel (wd:Q2081276)***."
   ]
  },
  {
   "cell_type": "code",
   "execution_count": 10,
   "id": "ffe1b078-2463-42f1-a7fb-4590d662c038",
   "metadata": {},
   "outputs": [
    {
     "name": "stdout",
     "output_type": "stream",
     "text": [
      "Results\n",
      "[('p', 'http://www.wikidata.org/prop/direct/P131'), ('pName', 'located in the administrative territorial entity')]\n",
      "[('p', 'http://www.wikidata.org/prop/direct/P1435'), ('pName', 'heritage designation')]\n",
      "[('p', 'http://www.wikidata.org/prop/direct/P149'), ('pName', 'architectural style')]\n",
      "[('p', 'http://www.wikidata.org/prop/direct/P1566'), ('pName', 'GeoNames ID')]\n",
      "[('p', 'http://www.wikidata.org/prop/direct/P17'), ('pName', 'country')]\n",
      "[('p', 'http://www.wikidata.org/prop/direct/P18'), ('pName', 'image')]\n",
      "[('p', 'http://www.wikidata.org/prop/direct/P31'), ('pName', 'instance of')]\n",
      "[('p', 'http://www.wikidata.org/prop/direct/P373'), ('pName', 'Commons category')]\n",
      "[('p', 'http://www.wikidata.org/prop/direct/P5383'), ('pName', 'archINFORM project ID')]\n",
      "[('p', 'http://www.wikidata.org/prop/direct/P646'), ('pName', 'Freebase ID')]\n",
      "[('p', 'http://www.wikidata.org/prop/direct/P84'), ('pName', 'architect')]\n",
      "[('p', 'http://www.wikidata.org/prop/direct/P910'), ('pName', \"topic's main category\")]\n",
      "[('p', 'http://www.wikidata.org/prop/direct/P935'), ('pName', 'Commons gallery')]\n",
      "[('p', 'http://www.wikidata.org/prop/direct/P649'), ('pName', 'NRHP reference number')]\n"
     ]
    },
    {
     "data": {
      "text/plain": [
       "14"
      ]
     },
     "execution_count": 10,
     "metadata": {},
     "output_type": "execute_result"
    }
   ],
   "source": [
    "queryString = \"\"\"\n",
    "SELECT DISTINCT ?p ?pName WHERE { \n",
    "\n",
    "    # Retrieve everything connect to Pettit Memorial Chapel\n",
    "    wd:Q2081276 ?p ?o .\n",
    "\n",
    "    # This returns the labels\n",
    "    ?p <http://schema.org/name> ?pName .    \n",
    "}\n",
    "\"\"\"\n",
    "\n",
    "print(\"Results\")\n",
    "run_query(queryString)"
   ]
  },
  {
   "cell_type": "markdown",
   "id": "918e2723-697d-467e-a05b-965563aed7f9",
   "metadata": {},
   "source": [
    "I notice that there is a property called ***architect(wdt:P84)***. \n",
    "\n",
    "I want to better clarify the distiction between ***architect(wdt:P84)*** and ***notable work (wdt:P800)***.\n",
    "\n",
    "I use ***architect(wdt:P84)*** on ***Pettit Memorial Chapel (wd:Q2081276)***"
   ]
  },
  {
   "cell_type": "code",
   "execution_count": 11,
   "id": "1114f068-b2e5-4e7c-ac7f-0d859f1169d9",
   "metadata": {},
   "outputs": [
    {
     "name": "stdout",
     "output_type": "stream",
     "text": [
      "Results\n",
      "[('architect', 'http://www.wikidata.org/entity/Q5604'), ('architectName', 'Frank Lloyd Wright')]\n"
     ]
    },
    {
     "data": {
      "text/plain": [
       "1"
      ]
     },
     "execution_count": 11,
     "metadata": {},
     "output_type": "execute_result"
    }
   ],
   "source": [
    "queryString = \"\"\"\n",
    "SELECT DISTINCT ?architect ?architectName WHERE { \n",
    "\n",
    "    # Retrieve everything connect to Pettit Memorial Chapel\n",
    "    wd:Q2081276 wdt:P84 ?architect .\n",
    "\n",
    "    # This returns the labels\n",
    "    ?architect <http://schema.org/name> ?architectName .    \n",
    "}\n",
    "\"\"\"\n",
    "\n",
    "print(\"Results\")\n",
    "run_query(queryString)"
   ]
  },
  {
   "cell_type": "markdown",
   "id": "e76fd1f2-a1c0-4084-b670-c96ad385188f",
   "metadata": {},
   "source": [
    "For a single notable work I obtain the same result as using ***notable work (wdt:P800)***. \n",
    "\n",
    "Now I try to retrieve all the works of ***Frank Lloyd Wright (wd:Q5604)*** by using ***architect(wdt:P84)***."
   ]
  },
  {
   "cell_type": "code",
   "execution_count": 12,
   "id": "e838d564-39ed-4bb8-aa16-c7c6556a0989",
   "metadata": {},
   "outputs": [
    {
     "name": "stdout",
     "output_type": "stream",
     "text": [
      "Results\n",
      "[('work', 'http://www.wikidata.org/entity/Q929965'), ('workName', 'Robie House')]\n",
      "[('work', 'http://www.wikidata.org/entity/Q2081276'), ('workName', 'Pettit Memorial Chapel')]\n",
      "[('work', 'http://www.wikidata.org/entity/Q965011'), ('workName', 'Millard House')]\n",
      "[('work', 'http://www.wikidata.org/entity/Q201469'), ('workName', 'Solomon R. Guggenheim Museum')]\n",
      "[('work', 'http://www.wikidata.org/entity/Q2424445'), ('workName', 'Thomas H. Gale House')]\n",
      "[('work', 'http://www.wikidata.org/entity/Q4956682'), ('workName', 'Brandes House')]\n",
      "[('work', 'http://www.wikidata.org/entity/Q5468984'), ('workName', 'Forest House')]\n",
      "[('work', 'http://www.wikidata.org/entity/Q6531634'), ('workName', 'Robert M. Lamp House')]\n",
      "[('work', 'http://www.wikidata.org/entity/Q7010799'), ('workName', 'New Orleans Union Station')]\n",
      "[('work', 'http://www.wikidata.org/entity/Q64683561'), ('workName', 'Sherman M. Booth House')]\n",
      "[('work', 'http://www.wikidata.org/entity/Q7296752'), ('workName', 'Ravine Bluffs Development')]\n",
      "[('work', 'http://www.wikidata.org/entity/Q7987311'), ('workName', 'Westcott House')]\n",
      "[('work', 'http://www.wikidata.org/entity/Q16965968'), ('workName', 'Sharp Family Tourism and Education Center')]\n",
      "[('work', 'http://www.wikidata.org/entity/Q1292092'), ('workName', 'Edward E. Boynton House')]\n",
      "[('work', 'http://www.wikidata.org/entity/Q4731481'), ('workName', 'Allen-Lambe House')]\n",
      "[('work', 'http://www.wikidata.org/entity/Q5230416'), ('workName', 'David & Gladys Wright House')]\n",
      "[('work', 'http://www.wikidata.org/entity/Q6106161'), ('workName', 'J. J. Walser, Jr. Residence')]\n",
      "[('work', 'http://www.wikidata.org/entity/Q6758636'), ('workName', 'Marden House')]\n",
      "[('work', 'http://www.wikidata.org/entity/Q7229144'), ('workName', 'Pope-Leighey House')]\n",
      "[('work', 'http://www.wikidata.org/entity/Q7345116'), ('workName', 'Robert H. Sunday House')]\n",
      "[('work', 'http://www.wikidata.org/entity/Q7627007'), ('workName', 'Stuart Richardson House')]\n",
      "[('work', 'http://www.wikidata.org/entity/Q8000256'), ('workName', 'Wilbur Wynant House')]\n",
      "[('work', 'http://www.wikidata.org/entity/Q12068110'), ('workName', 'Samara')]\n",
      "[('work', 'http://www.wikidata.org/entity/Q12071866'), ('workName', 'V. C. Morris Gift Shop')]\n",
      "[('work', 'http://www.wikidata.org/entity/Q1702484'), ('workName', 'Johnson Wax Headquarters')]\n",
      "[('work', 'http://www.wikidata.org/entity/Q3441853'), ('workName', 'Rookery Building')]\n",
      "[('work', 'http://www.wikidata.org/entity/Q5191207'), ('workName', 'Crystal Heights')]\n",
      "[('work', 'http://www.wikidata.org/entity/Q5585309'), ('workName', 'Gordon House')]\n",
      "[('work', 'http://www.wikidata.org/entity/Q5598297'), ('workName', 'Graycliff')]\n",
      "[('work', 'http://www.wikidata.org/entity/Q5428276'), ('workName', 'Fabyan Villa')]\n",
      "[('work', 'http://www.wikidata.org/entity/Q5548912'), ('workName', 'Gerald B. and Beverley Tonkens House')]\n",
      "[('work', 'http://www.wikidata.org/entity/Q107477674'), ('workName', 'R. W. Lindholm House')]\n",
      "[('work', 'http://www.wikidata.org/entity/Q107477735'), ('workName', 'Donald C. Duncan House')]\n",
      "[('work', 'http://www.wikidata.org/entity/Q7226527'), ('workName', 'Polymath Park')]\n",
      "[('work', 'http://www.wikidata.org/entity/Q5079966'), ('workName', 'Charles L. Manson House')]\n",
      "[('work', 'http://www.wikidata.org/entity/Q4834015'), ('workName', 'B. Harley Bradley House')]\n",
      "[('work', 'http://www.wikidata.org/entity/Q6780897'), ('workName', 'Mary W. Adams House')]\n",
      "[('work', 'http://www.wikidata.org/entity/Q15845166'), ('workName', 'Rollin Furbeck House')]\n",
      "[('work', 'http://www.wikidata.org/entity/Q14692813'), ('workName', 'Malcolm Willey House')]\n",
      "[('work', 'http://www.wikidata.org/entity/Q1239192'), ('workName', 'Laura Gale House')]\n",
      "[('work', 'http://www.wikidata.org/entity/Q6131262'), ('workName', 'James Charnley House')]\n",
      "[('work', 'http://www.wikidata.org/entity/Q7137810'), ('workName', 'Park Inn Hotel')]\n",
      "[('work', 'http://www.wikidata.org/entity/Q1453596'), ('workName', 'Walter Gale House')]\n",
      "[('work', 'http://www.wikidata.org/entity/Q3569046'), ('workName', 'William and Jessie M. Adams House')]\n",
      "[('work', 'http://www.wikidata.org/entity/Q5345280'), ('workName', 'Edward Serlin House')]\n",
      "[('work', 'http://www.wikidata.org/entity/Q5487422'), ('workName', 'Frank J. Baker House')]\n",
      "[('work', 'http://www.wikidata.org/entity/Q5487813'), ('workName', 'Frank L. Smith Bank')]\n",
      "[('work', 'http://www.wikidata.org/entity/Q6826432'), ('workName', 'Meyer May House')]\n",
      "[('work', 'http://www.wikidata.org/entity/Q7105870'), ('workName', 'Oscar B. Balch House')]\n",
      "[('work', 'http://www.wikidata.org/entity/Q7272440'), ('workName', 'Quintin Blair House')]\n"
     ]
    },
    {
     "data": {
      "text/plain": [
       "50"
      ]
     },
     "execution_count": 12,
     "metadata": {},
     "output_type": "execute_result"
    }
   ],
   "source": [
    "queryString = \"\"\"\n",
    "SELECT DISTINCT ?work ?workName WHERE { \n",
    "\n",
    "    # Retrieve works of Frank Lloyd Wright\n",
    "    ?work wdt:P84 wd:Q5604 .\n",
    "\n",
    "    # This returns the labels\n",
    "    ?work <http://schema.org/name> ?workName .    \n",
    "}\n",
    "LIMIT 50\n",
    "\"\"\"\n",
    "\n",
    "print(\"Results\")\n",
    "run_query(queryString)"
   ]
  },
  {
   "cell_type": "markdown",
   "id": "3029b0ad-ed99-40b3-bb29-240fbbbcfa66",
   "metadata": {},
   "source": [
    "So, I have confirmed that ***notable work (wdt:P800)*** returns only the notable works of an architect, while ***architect(wdt:P84)*** can be used for every work of a specific architect.\n",
    "\n",
    "For the architectural style, I can use the property ***architectural style(wdt:P149)*** discovered in a previous query. \n",
    "\n",
    "I try it on the notable works of ***Frank Lloyd Wright (wd:Q5604)***.\n"
   ]
  },
  {
   "cell_type": "code",
   "execution_count": 13,
   "id": "857cd4e7-7408-4ea4-8e52-0ea772f30ad0",
   "metadata": {},
   "outputs": [
    {
     "name": "stdout",
     "output_type": "stream",
     "text": [
      "Results\n",
      "[('notableWorkName', 'Solomon R. Guggenheim Museum'), ('styleName', 'modern architecture')]\n",
      "[('notableWorkName', 'Pettit Memorial Chapel'), ('styleName', 'modern architecture')]\n",
      "[('notableWorkName', 'Fallingwater'), ('styleName', 'modern architecture')]\n",
      "[('notableWorkName', 'Emil Bach House'), ('styleName', 'Prairie School architecture')]\n",
      "[('notableWorkName', 'A. D. German Warehouse'), ('styleName', 'Mayan Revival architecture')]\n"
     ]
    },
    {
     "data": {
      "text/plain": [
       "5"
      ]
     },
     "execution_count": 13,
     "metadata": {},
     "output_type": "execute_result"
    }
   ],
   "source": [
    "queryString = \"\"\"\n",
    "SELECT ?notableWorkName ?styleName WHERE { \n",
    "\n",
    "    # Retrieve all notable works of Frank Lloyd Wright\n",
    "    wd:Q5604  wdt:P800  ?notableWork .\n",
    "    \n",
    "    # Retrieve the style of the notable works\n",
    "    ?notableWork wdt:P149 ?style .\n",
    "            \n",
    "    # This returns the labels\n",
    "    ?notableWork <http://schema.org/name> ?notableWorkName .\n",
    "    ?style <http://schema.org/name> ?styleName .\n",
    "} \n",
    "\"\"\"\n",
    "\n",
    "print(\"Results\")\n",
    "run_query(queryString)"
   ]
  },
  {
   "cell_type": "markdown",
   "id": "605428ac-83d1-432c-bce5-542435a306a6",
   "metadata": {},
   "source": [
    "There is no a specific property for the type of a building, so I think I should use the property ***instanceOf (wdt:P31)***. \n",
    "\n",
    "I try it on ***Pettit Memorial Chapel (wd:Q2081276)***."
   ]
  },
  {
   "cell_type": "code",
   "execution_count": 14,
   "id": "747122e0-b933-4c1f-b1db-2db764fc3c62",
   "metadata": {},
   "outputs": [
    {
     "name": "stdout",
     "output_type": "stream",
     "text": [
      "Results\n",
      "[('class', 'http://www.wikidata.org/entity/Q108325'), ('className', 'chapel')]\n"
     ]
    },
    {
     "data": {
      "text/plain": [
       "1"
      ]
     },
     "execution_count": 14,
     "metadata": {},
     "output_type": "execute_result"
    }
   ],
   "source": [
    "queryString = \"\"\"\n",
    "SELECT DISTINCT ?class ?className WHERE { \n",
    "\n",
    "    # Retrieve class of Pettit Memorial Chapel\n",
    "    wd:Q2081276 wdt:P31 ?class .\n",
    "            \n",
    "    # This returns the labels\n",
    "    ?class <http://schema.org/name> ?className .\n",
    "} \n",
    "\"\"\"\n",
    "\n",
    "print(\"Results\")\n",
    "run_query(queryString)"
   ]
  },
  {
   "cell_type": "markdown",
   "id": "8aee9cd8-42d7-4c3d-bb92-f98d7210183e",
   "metadata": {},
   "source": [
    "I can try to use ***subclassOf (wdt:P279)*** on ***chapel (wd:Q108325)***."
   ]
  },
  {
   "cell_type": "code",
   "execution_count": 15,
   "id": "b09a71b9-3386-4a96-b626-93e785e26df0",
   "metadata": {},
   "outputs": [
    {
     "name": "stdout",
     "output_type": "stream",
     "text": [
      "Results\n",
      "[('class', 'http://www.wikidata.org/entity/Q16970'), ('className', 'church building')]\n",
      "[('class', 'http://www.wikidata.org/entity/Q24398318'), ('className', 'religious building')]\n"
     ]
    },
    {
     "data": {
      "text/plain": [
       "2"
      ]
     },
     "execution_count": 15,
     "metadata": {},
     "output_type": "execute_result"
    }
   ],
   "source": [
    "queryString = \"\"\"\n",
    "SELECT DISTINCT ?class ?className WHERE { \n",
    "\n",
    "    # Use subclassOf on Chapel\n",
    "    wd:Q108325 wdt:P279 ?class .\n",
    "            \n",
    "    # This returns the labels\n",
    "    ?class <http://schema.org/name> ?className .\n",
    "} \n",
    "\"\"\"\n",
    "\n",
    "print(\"Results\")\n",
    "run_query(queryString)"
   ]
  },
  {
   "cell_type": "markdown",
   "id": "fa328091-4126-4ed4-ac0c-ed4137997d1e",
   "metadata": {},
   "source": [
    "I try to use ***subclassOf (wdt:P279)*** on ***religious building (wd:Q24398318)***."
   ]
  },
  {
   "cell_type": "code",
   "execution_count": 16,
   "id": "1cd4909c-7608-40f1-8cd2-3eedb73b0e81",
   "metadata": {},
   "outputs": [
    {
     "name": "stdout",
     "output_type": "stream",
     "text": [
      "Results\n",
      "[('class', 'http://www.wikidata.org/entity/Q21029893'), ('className', 'religious object')]\n",
      "[('class', 'http://www.wikidata.org/entity/Q41176'), ('className', 'building')]\n",
      "[('class', 'http://www.wikidata.org/entity/Q1370598'), ('className', 'place of worship')]\n"
     ]
    },
    {
     "data": {
      "text/plain": [
       "3"
      ]
     },
     "execution_count": 16,
     "metadata": {},
     "output_type": "execute_result"
    }
   ],
   "source": [
    "queryString = \"\"\"\n",
    "SELECT DISTINCT ?class ?className WHERE { \n",
    "\n",
    "    # Use subclass of on religious building\n",
    "    wd:Q24398318 wdt:P279 ?class .\n",
    "            \n",
    "    # This returns the labels\n",
    "    ?class <http://schema.org/name> ?className .\n",
    "} \n",
    "\"\"\"\n",
    "\n",
    "print(\"Results\")\n",
    "run_query(queryString)"
   ]
  },
  {
   "cell_type": "markdown",
   "id": "461c4141-d846-41c6-8e05-29a4645fc418",
   "metadata": {},
   "source": [
    "By using ***building (wd:Q41176)***, I can retrieve all the buildings using this BGP:\n",
    "```\n",
    "?building wdt:P31/wdt:279* wd:Q41176 .\n",
    "```"
   ]
  },
  {
   "cell_type": "code",
   "execution_count": 17,
   "id": "d83fcaa8-fc35-4dcb-ae9d-d8ca1064074c",
   "metadata": {},
   "outputs": [
    {
     "name": "stdout",
     "output_type": "stream",
     "text": [
      "Results\n",
      "[('building', 'http://www.wikidata.org/entity/Q15885886'), ('buildingName', 'Torre Caja Badajoz')]\n",
      "[('building', 'http://www.wikidata.org/entity/Q24439272'), ('buildingName', 'Edificio Pirámide, Madrid')]\n",
      "[('building', 'http://www.wikidata.org/entity/Q26834201'), ('buildingName', 'Edificio Galaxia, Madrid')]\n",
      "[('building', 'http://www.wikidata.org/entity/Q27032920'), ('buildingName', 'Edificio de viviendas en Paseo de la Castellana 121-123, Madrid')]\n",
      "[('building', 'http://www.wikidata.org/entity/Q27243286'), ('buildingName', 'Dispensario antituberculoso Victoria Eugenia')]\n",
      "[('building', 'http://www.wikidata.org/entity/Q3471746'), ('buildingName', 'Sanctuaire of San Migel de Aralar, Uharte-Arakil')]\n",
      "[('building', 'http://www.wikidata.org/entity/Q46229138'), ('buildingName', \"Edifici del Casino l'Aliança del Poblenou\")]\n",
      "[('building', 'http://www.wikidata.org/entity/Q8196155'), ('buildingName', 'Almudín de Játiva')]\n",
      "[('building', 'http://www.wikidata.org/entity/Q8350472'), ('buildingName', 'Convent of San Vicente Ferrer, Plasencia')]\n",
      "[('building', 'http://www.wikidata.org/entity/Q8352189'), ('buildingName', 'Air Force Headquarters')]\n",
      "[('building', 'http://www.wikidata.org/entity/Q8453737'), ('buildingName', 'District Court in Hradec Králové')]\n",
      "[('building', 'http://www.wikidata.org/entity/Q8454126'), ('buildingName', 'District Court in Kutná Hora')]\n",
      "[('building', 'http://www.wikidata.org/entity/Q9051839'), ('buildingName', 'Edifici de Correus i Telègrafs')]\n",
      "[('building', 'http://www.wikidata.org/entity/Q1871945'), ('buildingName', 'Koninklijke Stallen')]\n",
      "[('building', 'http://www.wikidata.org/entity/Q15727585'), ('buildingName', 'Convent of Beato António')]\n",
      "[('building', 'http://www.wikidata.org/entity/Q15733718'), ('buildingName', 'Amtsgefängnis Saalfeld/Saale')]\n",
      "[('building', 'http://www.wikidata.org/entity/Q1022929'), ('buildingName', 'Hubei University')]\n",
      "[('building', 'http://www.wikidata.org/entity/Q15842467'), ('buildingName', 'Rigaer 94')]\n",
      "[('building', 'http://www.wikidata.org/entity/Q15845225'), ('buildingName', 'Steinweg 24')]\n",
      "[('building', 'http://www.wikidata.org/entity/Q15845226'), ('buildingName', 'Steinbrücke 23')]\n"
     ]
    },
    {
     "data": {
      "text/plain": [
       "20"
      ]
     },
     "execution_count": 17,
     "metadata": {},
     "output_type": "execute_result"
    }
   ],
   "source": [
    "queryString = \"\"\"\n",
    "SELECT DISTINCT ?building ?buildingName WHERE { \n",
    "\n",
    "    # Retrieve buildings\n",
    "    ?building wdt:P31/wdt:279* wd:Q41176 .\n",
    "            \n",
    "    # This returns the labels\n",
    "    ?building <http://schema.org/name> ?buildingName .\n",
    "} \n",
    "LIMIT 20\n",
    "\"\"\"\n",
    "\n",
    "print(\"Results\")\n",
    "run_query(queryString)"
   ]
  },
  {
   "cell_type": "markdown",
   "id": "b58434c2-0664-4360-b5ba-c91706fdc808",
   "metadata": {},
   "source": [
    "I can finally connect a ***building (wd:Q41176)*** with its architect, type, and architectural style.\n",
    "\n",
    "I use ***GROUP_CONCAT*** because I can have multilpe architects,styles and types."
   ]
  },
  {
   "cell_type": "code",
   "execution_count": 18,
   "id": "cf6dc980-5923-4121-a272-4e92b6056399",
   "metadata": {},
   "outputs": [
    {
     "name": "stdout",
     "output_type": "stream",
     "text": [
      "Results\n",
      "[('buildingName', 'Tamminiemi'), ('architects', 'Gustaf Strengell, Sigurd Frosterus'), ('styles', 'Art Nouveau'), ('types', 'government building, historic house museum, main house, museum, residential building, villa')]\n",
      "[('buildingName', 'Casa Llosas'), ('architects', 'Adolf Ruiz i Casamitjana'), ('styles', 'modernism'), ('types', 'house')]\n",
      "[('buildingName', 'Eduskuntatalo'), ('architects', 'J. S. Sirén'), ('styles', 'Nordic Classicism'), ('types', 'administrative building, capitol building')]\n",
      "[('buildingName', 'Casa Gasull'), ('architects', 'Lluís Domènech i Montaner'), ('styles', 'Art Nouveau, modernism'), ('types', 'masia')]\n",
      "[('buildingName', 'Deutsche Hypothekenbank Meiningen'), ('architects', 'Eduard Fritze'), ('styles', 'eclectic architecture'), ('types', 'large bank, mortgage bank')]\n",
      "[('buildingName', 'Category:Wedding Palace in Vyborg'), ('architects', 'Brynolf Blomqvist'), ('styles', 'Eclectic architecture in Russia, Renaissance Revival architecture'), ('types', 'landmark, register office')]\n",
      "[('buildingName', 'Helsinki main post office'), ('architects', 'Erik Lindroos, Jorma Järvi, Kaarlo Borg'), ('styles', 'functionalism'), ('types', 'post office building')]\n",
      "[('buildingName', 'Can Cendra'), ('architects', 'Rafael Masó i Valentí'), ('styles', 'Noucentisme'), ('types', 'masia')]\n",
      "[('buildingName', 'Casa Eulàlia Tarragó'), ('architects', 'Josep Domènech i Estapà'), ('styles', 'Art Nouveau'), ('types', 'house')]\n",
      "[('buildingName', 'Elisenbrunnen'), ('architects', 'Johann Peter Cremer, Karl Friedrich Schinkel'), ('styles', 'Neoclassical architecture'), ('types', 'drinking fountain, well')]\n",
      "[('buildingName', \"Torre de l'Àngel\"), ('architects', 'Lluís Muncunill i Parellada'), ('styles', 'Art Nouveau'), ('types', 'masia')]\n",
      "[('buildingName', 'Old Government Buildings, Wellington'), ('architects', 'William Henry Clayton'), ('styles', 'Renaissance Revival architecture'), ('types', 'architectural structure')]\n",
      "[('buildingName', 'Building A'), ('architects', 'Julius Luthmann'), ('styles', 'Amsterdam School, Art Deco architecture, Symbolism, expressionist architecture'), ('types', 'event venue')]\n",
      "[('buildingName', 'Hermitage-Vyborg Center'), ('architects', 'Uno Ullberg'), ('styles', 'Nordic Classicism, functionalism'), ('types', 'landmark, museum, school building')]\n",
      "[('buildingName', 'Ateneu Igualadí de la Classe Obrera'), ('architects', 'Jaume Riba'), ('styles', 'Art Nouveau'), ('types', 'athenaeum, theatre')]\n",
      "[('buildingName', 'Santiago de Alfeo University College'), ('architects', 'Juan de Álava'), ('styles', 'Spanish Renaissance architecture'), ('types', 'pazo, residential college')]\n",
      "[('buildingName', 'Palais Hoyos'), ('architects', 'Otto Wagner'), ('styles', 'Art Nouveau'), ('types', 'palace')]\n",
      "[('buildingName', 'Convent de Santa Clara'), ('architects', 'Alexandre Soler i March'), ('styles', 'Romanesque architecture, modernism'), ('types', 'monastery')]\n",
      "[('buildingName', 'Georgian Embassy, Moscow'), ('architects', 'Sergey Ustinovich Solovyov'), ('styles', 'Art Nouveau'), ('types', 'embassy, landmark')]\n",
      "[('buildingName', 'Asilo de Convalecientes, Madrid'), ('architects', 'Rafael Martínez Zapatero'), ('styles', 'Neo-Mudéjar'), ('types', 'monument')]\n"
     ]
    },
    {
     "data": {
      "text/plain": [
       "20"
      ]
     },
     "execution_count": 18,
     "metadata": {},
     "output_type": "execute_result"
    }
   ],
   "source": [
    "queryString = \"\"\"\n",
    "SELECT DISTINCT ?buildingName (GROUP_CONCAT(DISTINCT ?architectName ; separator = \", \") AS ?architects) (GROUP_CONCAT(DISTINCT ?styleName ; separator = \", \") AS ?styles)\n",
    "                              (GROUP_CONCAT(DISTINCT ?typeName ; separator = \", \") AS ?types) WHERE { \n",
    "\n",
    "    # Retrieve buildings, their architects, their styles and types.\n",
    "    ?building   wdt:P31/wdt:279* wd:Q41176 ;\n",
    "                wdt:P84  ?architect ;\n",
    "                wdt:P149 ?style     ;           \n",
    "                wdt:P31  ?type      .\n",
    "\n",
    "    # I'm only interested in classes differant from BUILDING\n",
    "    FILTER (?type != wd:Q41176)            \n",
    "            \n",
    "    # This returns the labels\n",
    "    ?building <http://schema.org/name> ?buildingName .\n",
    "    ?architect <http://schema.org/name> ?architectName .\n",
    "    ?style <http://schema.org/name> ?styleName .\n",
    "    ?type <http://schema.org/name> ?typeName .\n",
    "    \n",
    "}\n",
    "GROUP BY ?buildingName\n",
    "LIMIT 20\n",
    "\"\"\"\n",
    "\n",
    "print(\"Results\")\n",
    "run_query(queryString)"
   ]
  },
  {
   "cell_type": "markdown",
   "id": "ca942723-2a6f-45b6-8061-cc8a9dcd12c0",
   "metadata": {},
   "source": [
    "#### END TASK 2:\n",
    "I can finally answer to the initial question. The BGP that connect a building with its architect, type, and architectural style is:\n",
    "```\n",
    "?building   wdt:P31/wdt:279* wd:Q41176  ;\n",
    "            wdt:P84          ?architect ;\n",
    "            wdt:P149         ?style     ;           \n",
    "            wdt:P31          ?type      .\n",
    "```\n",
    "\n",
    "I have to add ***FILTER (?type != wd:Q41176)*** because in same case the property ***instanceOf (wdt:P31)*** returns directly ***building (wd:Q41176)*** instead of a type of ***building (wd:Q41176)***."
   ]
  },
  {
   "cell_type": "markdown",
   "id": "f8dee7bf-e3e1-4f3b-8c7a-55351b390186",
   "metadata": {},
   "source": [
    "### ***Task 3 :*** Which architect is the most prolific in the U.S. and outside?\n",
    "\n",
    "To retrieve the most prolific architect, I can count how many buildings are related to each architect (of course other criteria can be considered).\n",
    "\n",
    "To answer this question, I can rely on different URI retrieved before:\n",
    "* ***building (wd:Q41176)***\n",
    "* ***country (wdt:P17)***\n",
    "* ***architect(wdt:P84)***\n",
    "* ***United States of America (wd:Q30)***\n",
    "\n",
    "I start counting how many building in the ***United States of America (wd:Q30)*** are related to each architect."
   ]
  },
  {
   "cell_type": "code",
   "execution_count": 19,
   "id": "ca4b5ee5-dee9-46a6-91f3-1e5bd7a42c49",
   "metadata": {},
   "outputs": [
    {
     "name": "stdout",
     "output_type": "stream",
     "text": [
      "Results\n",
      "[('architect', 'http://www.wikidata.org/entity/Q6137444'), ('architectName', 'James Knox Taylor'), ('numBuildings', '10')]\n",
      "[('architect', 'http://www.wikidata.org/entity/Q5604'), ('architectName', 'Frank Lloyd Wright'), ('numBuildings', '8')]\n",
      "[('architect', 'http://www.wikidata.org/entity/Q5497817'), ('architectName', 'Frederick G. Clausen'), ('numBuildings', '7')]\n",
      "[('architect', 'http://www.wikidata.org/entity/Q706666'), ('architectName', 'Albert Kahn'), ('numBuildings', '7')]\n",
      "[('architect', 'http://www.wikidata.org/entity/Q6128314'), ('architectName', 'James A. Wetmore'), ('numBuildings', '7')]\n",
      "[('architect', 'http://www.wikidata.org/entity/Q7411623'), ('architectName', 'Samuel Hannaford'), ('numBuildings', '6')]\n",
      "[('architect', 'http://www.wikidata.org/entity/Q464603'), ('architectName', 'Cass Gilbert'), ('numBuildings', '6')]\n",
      "[('architect', 'http://www.wikidata.org/entity/Q8009244'), ('architectName', 'William Foster'), ('numBuildings', '5')]\n",
      "[('architect', 'http://www.wikidata.org/entity/Q15485556'), ('architectName', 'Wyatt C. Hedrick'), ('numBuildings', '5')]\n",
      "[('architect', 'http://www.wikidata.org/entity/Q4647721'), ('architectName', 'A. E. Doyle'), ('numBuildings', '4')]\n"
     ]
    },
    {
     "data": {
      "text/plain": [
       "10"
      ]
     },
     "execution_count": 19,
     "metadata": {},
     "output_type": "execute_result"
    }
   ],
   "source": [
    "queryString = \"\"\"\n",
    "SELECT ?architect ?architectName COUNT(DISTINCT ?building) AS ?numBuildings WHERE { \n",
    "\n",
    "    # Retrieve buildings in U.S and their architects\n",
    "    ?building   wdt:P31/wdt:279* wd:Q41176  ;\n",
    "                wdt:P17          wd:Q30     ;\n",
    "                wdt:P84          ?architect .\n",
    "    \n",
    "    # Retrieve all the architects \n",
    "    ?architect  wdt:P106 wd:Q42973 .\n",
    "\n",
    "    # This returns the labels\n",
    "    ?architect <http://schema.org/name> ?architectName .\n",
    "}\n",
    "GROUP BY ?architect ?architectName\n",
    "ORDER BY DESC(?numBuildings)\n",
    "LIMIT 10\n",
    "\n",
    "\"\"\"\n",
    "\n",
    "print(\"Results\")\n",
    "run_query(queryString)"
   ]
  },
  {
   "cell_type": "markdown",
   "id": "273a9ab3-5a30-4c98-88ad-874133a0fa82",
   "metadata": {},
   "source": [
    "Now, I try with buildings outside ***United States of America (wd:Q30)***."
   ]
  },
  {
   "cell_type": "code",
   "execution_count": 20,
   "id": "22ad8c60-5a1c-4824-8f26-deb44b605bd0",
   "metadata": {},
   "outputs": [
    {
     "name": "stdout",
     "output_type": "stream",
     "text": [
      "Results\n",
      "[('architect', 'http://www.wikidata.org/entity/Q9028072'), ('architectName', 'Manuel Joaquim Raspall i Mayol'), ('numBuildings', '54')]\n",
      "[('architect', 'http://www.wikidata.org/entity/Q9095271'), ('architectName', 'Víctor Eusa'), ('numBuildings', '44')]\n",
      "[('architect', 'http://www.wikidata.org/entity/Q9023348'), ('architectName', 'Lluís Muncunill i Parellada'), ('numBuildings', '43')]\n",
      "[('architect', 'http://www.wikidata.org/entity/Q1150065'), ('architectName', 'Cèsar Martinell i Brunet'), ('numBuildings', '36')]\n",
      "[('architect', 'http://www.wikidata.org/entity/Q7167730'), ('architectName', 'Pere Caselles i Tarrats'), ('numBuildings', '34')]\n",
      "[('architect', 'http://www.wikidata.org/entity/Q212465'), ('architectName', 'Enrique Nieto'), ('numBuildings', '33')]\n",
      "[('architect', 'http://www.wikidata.org/entity/Q27075131'), ('architectName', 'Else Aropaltio'), ('numBuildings', '30')]\n",
      "[('architect', 'http://www.wikidata.org/entity/Q77103'), ('architectName', 'Carl Ludvig Engel'), ('numBuildings', '29')]\n",
      "[('architect', 'http://www.wikidata.org/entity/Q5650830'), ('architectName', 'Hans Westman'), ('numBuildings', '28')]\n",
      "[('architect', 'http://www.wikidata.org/entity/Q3324260'), ('architectName', 'Luis Gutiérrez Soto'), ('numBuildings', '28')]\n"
     ]
    },
    {
     "data": {
      "text/plain": [
       "10"
      ]
     },
     "execution_count": 20,
     "metadata": {},
     "output_type": "execute_result"
    }
   ],
   "source": [
    "queryString = \"\"\"\n",
    "SELECT ?architect ?architectName COUNT(DISTINCT ?building) AS ?numBuildings WHERE { \n",
    "\n",
    "    # Retrieve buildings,their countries and their architects\n",
    "    ?building   wdt:P31/wdt:279* wd:Q41176  ;\n",
    "                wdt:P17          ?country   ;\n",
    "                wdt:P84          ?architect .\n",
    "    \n",
    "    # Retrieve all the architects \n",
    "    ?architect  wdt:P106 wd:Q42973 .\n",
    "    \n",
    "    # I want to exclude buildings in the U.S\n",
    "    FILTER (?country != wd:Q30)\n",
    "\n",
    "    # This returns the labels\n",
    "    ?architect <http://schema.org/name> ?architectName .\n",
    "}\n",
    "GROUP BY ?architect ?architectName\n",
    "ORDER BY DESC(?numBuildings)\n",
    "LIMIT 10\n",
    "\"\"\"\n",
    "\n",
    "print(\"Results\")\n",
    "run_query(queryString)"
   ]
  },
  {
   "cell_type": "markdown",
   "id": "d7c0dc19-8606-454e-be7c-4fe1617c4110",
   "metadata": {},
   "source": [
    "I want to try a different criterion. \n",
    "\n",
    "Instead of counting all the buildings related to an architect, I count only his notable works using the property ***notable work (wdt:P800)***."
   ]
  },
  {
   "cell_type": "code",
   "execution_count": 21,
   "id": "b16b6d2e-0271-4ae6-9693-0dece8e0c61c",
   "metadata": {},
   "outputs": [
    {
     "name": "stdout",
     "output_type": "stream",
     "text": [
      "Results\n",
      "[('architect', 'http://www.wikidata.org/entity/Q15996171'), ('architectName', 'Egerton Swartwout'), ('numBuildings', '4')]\n",
      "[('architect', 'http://www.wikidata.org/entity/Q2926468'), ('architectName', 'Bruce Price'), ('numBuildings', '2')]\n",
      "[('architect', 'http://www.wikidata.org/entity/Q4889909'), ('architectName', 'Benno Janssen'), ('numBuildings', '2')]\n",
      "[('architect', 'http://www.wikidata.org/entity/Q16992139'), ('architectName', 'Henry H. Dupont'), ('numBuildings', '2')]\n",
      "[('architect', 'http://www.wikidata.org/entity/Q1277977'), ('architectName', 'Paul Rudolph'), ('numBuildings', '2')]\n",
      "[('architect', 'http://www.wikidata.org/entity/Q7381855'), ('architectName', 'Russell Warren'), ('numBuildings', '1')]\n",
      "[('architect', 'http://www.wikidata.org/entity/Q102184859'), ('architectName', 'George S. Kingsley'), ('numBuildings', '1')]\n",
      "[('architect', 'http://www.wikidata.org/entity/Q15485556'), ('architectName', 'Wyatt C. Hedrick'), ('numBuildings', '1')]\n",
      "[('architect', 'http://www.wikidata.org/entity/Q62918'), ('architectName', 'Fazlur Khan'), ('numBuildings', '1')]\n",
      "[('architect', 'http://www.wikidata.org/entity/Q62566517'), ('architectName', 'Lewis E. Russell'), ('numBuildings', '1')]\n"
     ]
    },
    {
     "data": {
      "text/plain": [
       "10"
      ]
     },
     "execution_count": 21,
     "metadata": {},
     "output_type": "execute_result"
    }
   ],
   "source": [
    "queryString = \"\"\"\n",
    "SELECT ?architect ?architectName COUNT(DISTINCT ?building) AS ?numBuildings WHERE { \n",
    "\n",
    "    # I retrieve only the notable works of architects\n",
    "    ?architect  wdt:P106 wd:Q42973 ;\n",
    "                wdt:P800 ?building .\n",
    "\n",
    "    # Retrieve buildings in U.S\n",
    "    ?building   wdt:P31/wdt:279* wd:Q41176 ;\n",
    "                wdt:P17          wd:Q30    .\n",
    "                      \n",
    "    # This returns the labels\n",
    "    ?architect <http://schema.org/name> ?architectName .\n",
    "}\n",
    "GROUP BY ?architect ?architectName\n",
    "ORDER BY DESC(?numBuildings)\n",
    "LIMIT 10\n",
    "\"\"\"\n",
    "\n",
    "print(\"Results\")\n",
    "run_query(queryString)"
   ]
  },
  {
   "cell_type": "markdown",
   "id": "1cd13707-81f3-471b-90df-3076981af2fb",
   "metadata": {},
   "source": [
    "It is possible to notice that the results are different from the query that count all the buildings. Now I repeat the query with buildings outside ***United States of America (wd:Q30)***."
   ]
  },
  {
   "cell_type": "code",
   "execution_count": 22,
   "id": "04386bac-c412-47c5-9c38-00fcad48ec9d",
   "metadata": {},
   "outputs": [
    {
     "name": "stdout",
     "output_type": "stream",
     "text": [
      "Results\n",
      "[('architect', 'http://www.wikidata.org/entity/Q3324260'), ('architectName', 'Luis Gutiérrez Soto'), ('numBuildings', '12')]\n",
      "[('architect', 'http://www.wikidata.org/entity/Q6098119'), ('architectName', 'Rafael de La-Hoz Castanys'), ('numBuildings', '10')]\n",
      "[('architect', 'http://www.wikidata.org/entity/Q5946144'), ('architectName', 'José Yarnoz Larrosa'), ('numBuildings', '9')]\n",
      "[('architect', 'http://www.wikidata.org/entity/Q28976579'), ('architectName', 'José de Astiz'), ('numBuildings', '7')]\n",
      "[('architect', 'http://www.wikidata.org/entity/Q212465'), ('architectName', 'Enrique Nieto'), ('numBuildings', '6')]\n",
      "[('architect', 'http://www.wikidata.org/entity/Q20031628'), ('architectName', 'Eleuterio Población Knappe'), ('numBuildings', '6')]\n",
      "[('architect', 'http://www.wikidata.org/entity/Q2857931'), ('architectName', 'Aníbal González'), ('numBuildings', '6')]\n",
      "[('architect', 'http://www.wikidata.org/entity/Q3960878'), ('architectName', 'Silvio Gambini'), ('numBuildings', '5')]\n",
      "[('architect', 'http://www.wikidata.org/entity/Q3314962'), ('architectName', 'Miguel Fisac'), ('numBuildings', '5')]\n",
      "[('architect', 'http://www.wikidata.org/entity/Q11954616'), ('architectName', 'Vicente Juan Pascual Pastor'), ('numBuildings', '5')]\n"
     ]
    },
    {
     "data": {
      "text/plain": [
       "10"
      ]
     },
     "execution_count": 22,
     "metadata": {},
     "output_type": "execute_result"
    }
   ],
   "source": [
    "queryString = \"\"\"\n",
    "SELECT ?architect ?architectName COUNT(DISTINCT ?building) AS ?numBuildings WHERE { \n",
    "\n",
    "    # I retrieve only the notable works of architects\n",
    "    ?architect  wdt:P106 wd:Q42973 ;\n",
    "                wdt:P800 ?building .\n",
    "\n",
    "    # Retrieve buildings and their countries\n",
    "    ?building   wdt:P31/wdt:279* wd:Q41176 ;\n",
    "                wdt:P17          ?country  .\n",
    "                \n",
    "    # I want to exclude buildings in the U.S\n",
    "     FILTER (?country != wd:Q30)\n",
    "            \n",
    "    # This returns the labels\n",
    "    ?architect <http://schema.org/name> ?architectName .\n",
    "}\n",
    "GROUP BY ?architect ?architectName\n",
    "ORDER BY DESC(?numBuildings)\n",
    "LIMIT 10\n",
    "\"\"\"\n",
    "\n",
    "print(\"Results\")\n",
    "run_query(queryString)"
   ]
  },
  {
   "cell_type": "markdown",
   "id": "947b7624-3b5e-4d58-a42a-45cdec045e8c",
   "metadata": {},
   "source": [
    "Also for buildings outside buildings outside ***United States of America (wd:Q30)***, it is possible to notice that the results are different from the query that use the property ***architect(wdt:P84)***."
   ]
  },
  {
   "cell_type": "markdown",
   "id": "6cc0542f-7dab-4004-b2da-8f4ad271f68c",
   "metadata": {},
   "source": [
    "#### END TASK 3:\n",
    "It is possible to determine different criteria to find the most prolific architect in the U.S. and outside. I used two different criteria.\n",
    "\n",
    "First: I count how many buildings are related to each architect using the property ***architect(wdt:P84)***.\n",
    "* Inside U.S. : ***James Knox Taylor*** with 10 buildings\n",
    "* Outside U.S : ***Manuel Joaquim Raspall i Mayol*** with 54 buildings\n",
    "\n",
    "Second: I count only the notable works using the property ***notable work (wdt:P800)***.\n",
    "* Inside U.S. : ***Egerton Swartwout*** with 4 notable works\n",
    "* Outside U.S : ***Luis Gutiérrez Soto*** with 12 notable works"
   ]
  },
  {
   "cell_type": "markdown",
   "id": "5094a028-7d38-4530-bdd5-aa653b612516",
   "metadata": {},
   "source": [
    "### ***Task 4.1 :*** Which styles exists in the U.S.? Which type of building?\n",
    "\n",
    "I show the most used styles in the U.S buildings relyng on the property ***architectural style(wdt:P149)*** discovered in a previous query."
   ]
  },
  {
   "cell_type": "code",
   "execution_count": 23,
   "id": "2e1dff4e-bc80-4f45-b1d1-f4d6fcd76cab",
   "metadata": {},
   "outputs": [
    {
     "name": "stdout",
     "output_type": "stream",
     "text": [
      "Results\n",
      "[('style', 'http://www.wikidata.org/entity/Q1513688'), ('styleName', 'Greek Revival architecture'), ('numBuildings', '523')]\n",
      "[('style', 'http://www.wikidata.org/entity/Q502163'), ('styleName', 'Renaissance Revival architecture'), ('numBuildings', '378')]\n",
      "[('style', 'http://www.wikidata.org/entity/Q54111'), ('styleName', 'Neoclassical architecture'), ('numBuildings', '157')]\n",
      "[('style', 'http://www.wikidata.org/entity/Q529819'), ('styleName', 'Queen Anne style architecture'), ('numBuildings', '147')]\n",
      "[('style', 'http://www.wikidata.org/entity/Q615196'), ('styleName', 'Italianate architecture'), ('numBuildings', '120')]\n",
      "[('style', 'http://www.wikidata.org/entity/Q1125300'), ('styleName', 'Georgian architecture'), ('numBuildings', '116')]\n",
      "[('style', 'http://www.wikidata.org/entity/Q1400086'), ('styleName', 'Federal architecture'), ('numBuildings', '97')]\n",
      "[('style', 'http://www.wikidata.org/entity/Q2657199'), ('styleName', 'rustic architecture'), ('numBuildings', '92')]\n",
      "[('style', 'http://www.wikidata.org/entity/Q5148367'), ('styleName', 'Colonial Revival architecture'), ('numBuildings', '87')]\n",
      "[('style', 'http://www.wikidata.org/entity/Q7937337'), ('styleName', 'Mediterranean Revival architecture'), ('numBuildings', '56')]\n"
     ]
    },
    {
     "data": {
      "text/plain": [
       "10"
      ]
     },
     "execution_count": 23,
     "metadata": {},
     "output_type": "execute_result"
    }
   ],
   "source": [
    "queryString = \"\"\"\n",
    "SELECT ?style ?styleName COUNT(DISTINCT ?building) AS ?numBuildings WHERE { \n",
    "    \n",
    "    # Retrieve buildings in U.S and their style\n",
    "    ?building   wdt:P31/wdt:279* wd:Q41176 ;\n",
    "                wdt:P17          wd:Q30 ;\n",
    "                wdt:P149         ?style .\n",
    "                \n",
    "    # This returns the labels\n",
    "    ?style <http://schema.org/name> ?styleName .\n",
    "}\n",
    "GROUP BY ?style ?styleName\n",
    "ORDER BY DESC(?numBuildings)\n",
    "LIMIT 10\n",
    "\"\"\"\n",
    "\n",
    "print(\"Results\")\n",
    "run_query(queryString)"
   ]
  },
  {
   "cell_type": "markdown",
   "id": "73c6678b-53ae-4f89-a02b-efc31526ec7a",
   "metadata": {},
   "source": [
    "I show also the most common types of ***building (wd:Q41176)*** in the ***United States of America (wd:Q30)***."
   ]
  },
  {
   "cell_type": "code",
   "execution_count": 24,
   "id": "f799dc52-697f-4e28-a489-168f09d0167d",
   "metadata": {},
   "outputs": [
    {
     "name": "stdout",
     "output_type": "stream",
     "text": [
      "Results\n",
      "[('type', 'http://www.wikidata.org/entity/Q33506'), ('typeName', 'museum'), ('numBuildings', '57')]\n",
      "[('type', 'http://www.wikidata.org/entity/Q27686'), ('typeName', 'hotel'), ('numBuildings', '26')]\n",
      "[('type', 'http://www.wikidata.org/entity/Q839954'), ('typeName', 'archaeological site'), ('numBuildings', '17')]\n",
      "[('type', 'http://www.wikidata.org/entity/Q123705'), ('typeName', 'neighborhood'), ('numBuildings', '10')]\n",
      "[('type', 'http://www.wikidata.org/entity/Q163740'), ('typeName', 'nonprofit organization'), ('numBuildings', '9')]\n",
      "[('type', 'http://www.wikidata.org/entity/Q41253'), ('typeName', 'movie theater'), ('numBuildings', '8')]\n",
      "[('type', 'http://www.wikidata.org/entity/Q43229'), ('typeName', 'organization'), ('numBuildings', '8')]\n",
      "[('type', 'http://www.wikidata.org/entity/Q13402009'), ('typeName', 'apartment building'), ('numBuildings', '8')]\n",
      "[('type', 'http://www.wikidata.org/entity/Q19844914'), ('typeName', 'university building'), ('numBuildings', '8')]\n",
      "[('type', 'http://www.wikidata.org/entity/Q7075'), ('typeName', 'library'), ('numBuildings', '7')]\n"
     ]
    },
    {
     "data": {
      "text/plain": [
       "10"
      ]
     },
     "execution_count": 24,
     "metadata": {},
     "output_type": "execute_result"
    }
   ],
   "source": [
    "queryString = \"\"\"   \n",
    "SELECT ?type ?typeName COUNT(DISTINCT ?building) AS ?numBuildings WHERE { \n",
    "    \n",
    "    # Retrieve buildings in U.S and the type\n",
    "    ?building   wdt:P31/wdt:279* wd:Q41176 ;\n",
    "                wdt:P17          wd:Q30    ;\n",
    "                wdt:P31          ?type     .\n",
    "\n",
    "    # I'm only interested in classes differant from BUILDING\n",
    "    FILTER (?type != wd:Q41176)  \n",
    "    \n",
    "    # This returns the labels\n",
    "    ?type <http://schema.org/name> ?typeName .\n",
    "}\n",
    "GROUP BY ?type ?typeName\n",
    "ORDER BY DESC(?numBuildings)\n",
    "LIMIT 10\n",
    "\"\"\"\n",
    "\n",
    "print(\"Results\")\n",
    "run_query(queryString)"
   ]
  },
  {
   "cell_type": "markdown",
   "id": "43e2e465-661a-4eaf-9a16-572430080c37",
   "metadata": {},
   "source": [
    "#### END TASK 4.1:\n",
    "I was able to obtain good results with architectural style in the ***United States of America (wd:Q30)***.\n",
    "\n",
    "For what concern the types of buildings, some of the results don't seem to be a type of building ( like ***nonprofit organization (wd:Q163740)*** ).\n",
    "\n",
    "This is probably due to the fact that in Wikidata the properties ***instanceOf (wdt:P31)*** and ***subclassOf (wdt:P279)*** are not often consistently used. \n",
    "\n",
    "However, I was able to obtain some good results with actual types of building such as museums,hotels, etc..."
   ]
  },
  {
   "cell_type": "markdown",
   "id": "daf67598-92d3-46f1-91d0-6b4173c7297e",
   "metadata": {},
   "source": [
    "### ***Task 4.2 :*** In which U.S. states there are more notable buildings?\n",
    "\n",
    "The property ***country (wdt:P17)*** can not be used since it returns ***United States of America (wd:Q30)*** and not to a specific U.S state.\n",
    "\n",
    "Maybe, I have to rely on ***located in the administrative territorial entity (wdt:P131)***."
   ]
  },
  {
   "cell_type": "code",
   "execution_count": 25,
   "id": "2dbd8a42-3912-450c-80a4-bd6062b79888",
   "metadata": {},
   "outputs": [
    {
     "name": "stdout",
     "output_type": "stream",
     "text": [
      "Results\n",
      "[('buildingName', \"Washington Governor's Mansion\"), ('location', 'http://www.wikidata.org/entity/Q1223'), ('locationName', 'Washington')]\n",
      "[('buildingName', 'House of Sweden'), ('location', 'http://www.wikidata.org/entity/Q61'), ('locationName', 'Washington, D.C.')]\n",
      "[('buildingName', 'Palestra'), ('location', 'http://www.wikidata.org/entity/Q1400'), ('locationName', 'Pennsylvania')]\n",
      "[('buildingName', '747 Wing House'), ('location', 'http://www.wikidata.org/entity/Q99'), ('locationName', 'California')]\n",
      "[('buildingName', 'Old Washington County Library'), ('location', 'http://www.wikidata.org/entity/Q755559'), ('locationName', 'Hagerstown')]\n",
      "[('buildingName', 'Athenaeum of Philadelphia'), ('location', 'http://www.wikidata.org/entity/Q1345'), ('locationName', 'Philadelphia')]\n",
      "[('buildingName', 'Casa De Muchas Flores'), ('location', 'http://www.wikidata.org/entity/Q812'), ('locationName', 'Florida')]\n",
      "[('buildingName', 'Cascade Theatre'), ('location', 'http://www.wikidata.org/entity/Q495361'), ('locationName', 'Redding')]\n",
      "[('buildingName', 'Stata Center'), ('location', 'http://www.wikidata.org/entity/Q49111'), ('locationName', 'Cambridge')]\n",
      "[('buildingName', 'Byron White United States Courthouse'), ('location', 'http://www.wikidata.org/entity/Q1261'), ('locationName', 'Colorado')]\n",
      "[('buildingName', 'Shotwell Hall, West Liberty State College'), ('location', 'http://www.wikidata.org/entity/Q1371'), ('locationName', 'West Virginia')]\n",
      "[('buildingName', 'Grand Prospect Hall'), ('location', 'http://www.wikidata.org/entity/Q18419'), ('locationName', 'Brooklyn')]\n",
      "[('buildingName', 'Haas Pavilion'), ('location', 'http://www.wikidata.org/entity/Q99'), ('locationName', 'California')]\n",
      "[('buildingName', 'Alumni Hall'), ('location', 'http://www.wikidata.org/entity/Q1342'), ('locationName', 'Pittsburgh')]\n",
      "[('buildingName', 'Bankers Trust Company Building, Detroit'), ('location', 'http://www.wikidata.org/entity/Q1166'), ('locationName', 'Michigan')]\n",
      "[('buildingName', 'Old Post Office'), ('location', 'http://www.wikidata.org/entity/Q1384'), ('locationName', 'New York')]\n",
      "[('buildingName', 'William Dean Howells House'), ('location', 'http://www.wikidata.org/entity/Q49111'), ('locationName', 'Cambridge')]\n",
      "[('buildingName', 'Yondorf Block and Hall'), ('location', 'http://www.wikidata.org/entity/Q1297'), ('locationName', 'Chicago')]\n",
      "[('buildingName', 'Iranistan'), ('location', 'http://www.wikidata.org/entity/Q49174'), ('locationName', 'Bridgeport')]\n",
      "[('buildingName', 'Bank of the Metropolis'), ('location', 'http://www.wikidata.org/entity/Q11299'), ('locationName', 'Manhattan')]\n"
     ]
    },
    {
     "data": {
      "text/plain": [
       "20"
      ]
     },
     "execution_count": 25,
     "metadata": {},
     "output_type": "execute_result"
    }
   ],
   "source": [
    "queryString = \"\"\"\n",
    "SELECT DISTINCT ?buildingName ?location ?locationName WHERE { \n",
    "\n",
    "    # I retrieve only the notable works of architects\n",
    "    ?architect  wdt:P106 wd:Q42973 ;\n",
    "                wdt:P800 ?building .\n",
    "\n",
    "    # Retrieve buildings in U.S\n",
    "    ?building   wdt:P31/wdt:279* wd:Q41176 ;\n",
    "                wdt:P17          wd:Q30    ;\n",
    "                wdt:P131         ?location .\n",
    "\n",
    "    # This returns the labels\n",
    "    ?building <http://schema.org/name> ?buildingName .\n",
    "    ?location <http://schema.org/name> ?locationName .         \n",
    "}\n",
    "LIMIT 20\n",
    "\"\"\"\n",
    "\n",
    "print(\"Results\")\n",
    "run_query(queryString)"
   ]
  },
  {
   "cell_type": "markdown",
   "id": "7b2baf91-2392-4755-8a46-2caeec91b6cb",
   "metadata": {},
   "source": [
    "I obtained some U.S states: ***Washington, California,Pennyslvania***,etc... \n",
    "\n",
    "Since I have also some cities (***Washington D.C***, ***Philadelphia***, etc...), I need to find how to connect a city to a U.S state.\n",
    "\n",
    "I use ***instanceOf (wdt:P31)*** on ***Washington (wd:Q1223)***."
   ]
  },
  {
   "cell_type": "code",
   "execution_count": 26,
   "id": "8a7e9bb1-57a3-4cfc-b1af-35bbbece384d",
   "metadata": {},
   "outputs": [
    {
     "name": "stdout",
     "output_type": "stream",
     "text": [
      "Results\n",
      "[('class', 'http://www.wikidata.org/entity/Q35657'), ('className', 'U.S. state')]\n"
     ]
    },
    {
     "data": {
      "text/plain": [
       "1"
      ]
     },
     "execution_count": 26,
     "metadata": {},
     "output_type": "execute_result"
    }
   ],
   "source": [
    "queryString = \"\"\"\n",
    "SELECT ?class ?className WHERE { \n",
    "\n",
    "    # Retrieve class of Washington\n",
    "    wd:Q1223  wdt:P31 ?class.\n",
    "\n",
    "    # This returns the labels\n",
    "    ?class <http://schema.org/name> ?className .\n",
    "}\n",
    "\"\"\"\n",
    "\n",
    "print(\"Results\")\n",
    "run_query(queryString)"
   ]
  },
  {
   "cell_type": "markdown",
   "id": "c75bc8f7-5946-4105-a567-9b71aa256c60",
   "metadata": {},
   "source": [
    "I retrieved ***U.S. state (wdt:Q35657)***.\n",
    "\n",
    "Now I can use ***city of the United States (wd:Q1093829)*** discovered in one of the first queries to see how cities are connected to ***U.S. state (wdt:Q35657)***."
   ]
  },
  {
   "cell_type": "code",
   "execution_count": 27,
   "id": "bbfdc523-ad3d-4fb6-af5a-d8435d446515",
   "metadata": {},
   "outputs": [
    {
     "name": "stdout",
     "output_type": "stream",
     "text": [
      "Results\n",
      "[('p', 'http://www.wikidata.org/prop/direct/P131'), ('pName', 'located in the administrative territorial entity')]\n",
      "[('p', 'http://www.wikidata.org/prop/direct/P1376'), ('pName', 'capital of')]\n",
      "[('p', 'http://www.wikidata.org/prop/direct/P1889'), ('pName', 'different from')]\n",
      "[('p', 'http://www.wikidata.org/prop/direct/P361'), ('pName', 'part of')]\n",
      "[('p', 'http://www.wikidata.org/prop/direct/P47'), ('pName', 'shares border with')]\n"
     ]
    },
    {
     "data": {
      "text/plain": [
       "5"
      ]
     },
     "execution_count": 27,
     "metadata": {},
     "output_type": "execute_result"
    }
   ],
   "source": [
    "queryString = \"\"\"\n",
    "SELECT DISTINCT ?p ?pName WHERE { \n",
    "\n",
    "    # Retrieve cities\n",
    "    ?city wdt:P31 wd:Q1093829 .\n",
    "    \n",
    "    # Retrieve U.S. States\n",
    "    ?state wdt:P31 wd:Q35657 .\n",
    "    \n",
    "    # Connect cities and states\n",
    "    ?city ?p ?state .\n",
    "\n",
    "    # This returns the labels\n",
    "    ?p <http://schema.org/name> ?pName .\n",
    "}\n",
    "\"\"\"\n",
    "\n",
    "print(\"Results\")\n",
    "run_query(queryString)"
   ]
  },
  {
   "cell_type": "markdown",
   "id": "ce5e36c6-c0b9-4a22-8e3d-412cbe4775e3",
   "metadata": {},
   "source": [
    "So to connect a city to a ***U.S. state (wdt:Q35657)***, I can probably use the properties ***located in the administrative territorial entity (wdt:P131)*** and ***partOf (wdt:P361)***.\n",
    "\n",
    "I show some examples of couples [city, U.S State]"
   ]
  },
  {
   "cell_type": "code",
   "execution_count": 28,
   "id": "23a5a2a2-dd3d-4b16-a2d9-7bbb5a91326b",
   "metadata": {},
   "outputs": [
    {
     "name": "stdout",
     "output_type": "stream",
     "text": [
      "Results\n",
      "[('cityName', 'Montgomery'), ('stateName', 'West Virginia')]\n",
      "[('cityName', 'Smithers'), ('stateName', 'West Virginia')]\n",
      "[('cityName', 'Holland'), ('stateName', 'Michigan')]\n",
      "[('cityName', 'Grosse Pointe Shores'), ('stateName', 'Michigan')]\n",
      "[('cityName', 'South Haven'), ('stateName', 'Michigan')]\n",
      "[('cityName', 'Flat Rock'), ('stateName', 'Michigan')]\n",
      "[('cityName', 'Milan'), ('stateName', 'Michigan')]\n",
      "[('cityName', 'Memphis'), ('stateName', 'Michigan')]\n",
      "[('cityName', 'Paden City'), ('stateName', 'West Virginia')]\n",
      "[('cityName', 'Fenton'), ('stateName', 'Michigan')]\n"
     ]
    },
    {
     "data": {
      "text/plain": [
       "10"
      ]
     },
     "execution_count": 28,
     "metadata": {},
     "output_type": "execute_result"
    }
   ],
   "source": [
    "queryString = \"\"\"\n",
    "SELECT DISTINCT ?cityName ?stateName WHERE { \n",
    "\n",
    "    # Retrieve cities\n",
    "    ?city   wdt:P31              wd:Q1093829 ;\n",
    "           (wdt:P131 | wdt:P361) ?state      .\n",
    "    \n",
    "    # Retrieve U.S. States\n",
    "    ?state wdt:P31 wd:Q35657 .\n",
    "    \n",
    "    # This returns the labels\n",
    "    ?city  <http://schema.org/name> ?cityName  .\n",
    "    ?state <http://schema.org/name> ?stateName .\n",
    "}\n",
    "LIMIT 10\n",
    "\"\"\"\n",
    "\n",
    "print(\"Results\")\n",
    "run_query(queryString)"
   ]
  },
  {
   "cell_type": "markdown",
   "id": "72a07c63-b7eb-4951-9584-14958e4d25c3",
   "metadata": {},
   "source": [
    "I can associate a ***U.S. state(wd:Q35657)*** to each ***building (wd:Q41176)*** using this BGP:\n",
    "```\n",
    "wdt:P131/(wdt:P131 | wdt:P361)* ?state .\n",
    "```\n",
    "Finally, I can count the number of buildings for each ***U.S. state(wd:Q35657)***"
   ]
  },
  {
   "cell_type": "code",
   "execution_count": 29,
   "id": "2b017811-5d0e-4875-8663-1ac4ef8276dc",
   "metadata": {},
   "outputs": [
    {
     "name": "stdout",
     "output_type": "stream",
     "text": [
      "Results\n",
      "[('state', 'http://www.wikidata.org/entity/Q1204'), ('stateName', 'Illinois'), ('numBuildings', '10')]\n"
     ]
    },
    {
     "data": {
      "text/plain": [
       "1"
      ]
     },
     "execution_count": 29,
     "metadata": {},
     "output_type": "execute_result"
    }
   ],
   "source": [
    "queryString = \"\"\"\n",
    "SELECT ?state ?stateName COUNT(DISTINCT ?building) AS ?numBuildings WHERE { \n",
    "\n",
    "    # I retrieve only the notable works of architects\n",
    "    ?architect  wdt:P106 wd:Q42973 ;\n",
    "                wdt:P800 ?building .\n",
    "\n",
    "    # Retrieve buildings in U.S and their state\n",
    "    ?building   wdt:P31/wdt:279*                wd:Q41176 ;\n",
    "                wdt:P17                         wd:Q30    ;\n",
    "                wdt:P131/(wdt:P131 | wdt:P361)* ?state    .\n",
    "\n",
    "    # I want only U.S states\n",
    "    ?state wdt:P31 wd:Q35657 .\n",
    "\n",
    "    # This returns the labels\n",
    "    ?building <http://schema.org/name> ?buildingName .\n",
    "    ?state    <http://schema.org/name> ?stateName    .           \n",
    "}\n",
    "GROUP BY ?state ?stateName\n",
    "ORDER BY DESC(?numBuildings)\n",
    "LIMIT 1\n",
    "\"\"\"\n",
    "\n",
    "print(\"Results\")\n",
    "run_query(queryString)"
   ]
  },
  {
   "cell_type": "markdown",
   "id": "67ab4e89-dc2c-4fab-b21a-6defd4be0581",
   "metadata": {},
   "source": [
    "#### END TASK 4.2:\n",
    "I discovered that ***Illinois (wd:Q1204)*** is the ***U.S. state(wd:Q35657)*** with the highest number of notable works."
   ]
  },
  {
   "cell_type": "markdown",
   "id": "10959776-c4a9-4bfe-8f50-628c5e624ee0",
   "metadata": {},
   "source": [
    "### ***Task 4.3 :*** Which U.S. state contains the largest number of building designed by U.S. architects\n",
    "\n",
    "The query is similar to the one used in Task 4.2 but:\n",
    "* I have to add also a path for the nationality of the architects\n",
    "* I have to use ***architect(wdt:P84)*** instead of **notable work (wdt:P800)***."
   ]
  },
  {
   "cell_type": "code",
   "execution_count": 30,
   "id": "b1b3915b-d812-4229-9822-1bc66a490118",
   "metadata": {},
   "outputs": [
    {
     "name": "stdout",
     "output_type": "stream",
     "text": [
      "Results\n",
      "[('state', 'http://www.wikidata.org/entity/Q1384'), ('stateName', 'New York'), ('numBuildings', '60')]\n"
     ]
    },
    {
     "data": {
      "text/plain": [
       "1"
      ]
     },
     "execution_count": 30,
     "metadata": {},
     "output_type": "execute_result"
    }
   ],
   "source": [
    "queryString = \"\"\"\n",
    "SELECT ?state ?stateName COUNT(DISTINCT ?building) AS ?numBuildings WHERE { \n",
    "\n",
    "    # I retrieve only american architects\n",
    "    ?architect  wdt:P106 wd:Q42973 ;\n",
    "                wdt:P27  wd:Q30    .\n",
    "\n",
    "    # Retrieve buildings in U.S and their state\n",
    "    ?building   wdt:P31/wdt:279*                wd:Q41176 ;\n",
    "                wdt:P84                         ?architect ;\n",
    "                wdt:P17                         wd:Q30    ;\n",
    "                wdt:P131/(wdt:P131 | wdt:P361)* ?state    .\n",
    "\n",
    "\n",
    "    # I want only U.S states\n",
    "    ?state wdt:P31 wd:Q35657 .\n",
    "\n",
    "    # This returns the labels\n",
    "    ?building <http://schema.org/name> ?buildingName .\n",
    "    ?state    <http://schema.org/name> ?stateName    .            \n",
    "}\n",
    "GROUP BY ?state ?stateName\n",
    "ORDER BY DESC(?numBuildings)\n",
    "LIMIT 1\n",
    "\"\"\"\n",
    "\n",
    "print(\"Results\")\n",
    "run_query(queryString)"
   ]
  },
  {
   "cell_type": "markdown",
   "id": "e908c60c-084c-4d53-8c30-0b592ea31be9",
   "metadata": {},
   "source": [
    "#### END TASK 4.2:\n",
    "I discovered that ***New York (wd:Q1384')*** is the ***U.S. state(wd:Q35657)*** with the highest number of buildings designe by U.S. architects."
   ]
  },
  {
   "cell_type": "markdown",
   "id": "2c90f64b-974e-432a-add7-7e6cb6cf1f25",
   "metadata": {},
   "source": [
    "### Extra analytics query\n",
    "\n",
    "#### How many buildings from american architects are present in different countries ?"
   ]
  },
  {
   "cell_type": "code",
   "execution_count": 31,
   "id": "7e9d6fda-4ca7-4b52-bd5d-32faa106d5f1",
   "metadata": {},
   "outputs": [
    {
     "name": "stdout",
     "output_type": "stream",
     "text": [
      "Results\n",
      "[('country', 'http://www.wikidata.org/entity/Q30'), ('countryName', 'United States of America'), ('numBuildings', '529')]\n",
      "[('country', 'http://www.wikidata.org/entity/Q33'), ('countryName', 'Finland'), ('numBuildings', '11')]\n",
      "[('country', 'http://www.wikidata.org/entity/Q142'), ('countryName', 'France'), ('numBuildings', '6')]\n",
      "[('country', 'http://www.wikidata.org/entity/Q213'), ('countryName', 'Czech Republic'), ('numBuildings', '6')]\n",
      "[('country', 'http://www.wikidata.org/entity/Q148'), ('countryName', \"People's Republic of China\"), ('numBuildings', '5')]\n",
      "[('country', 'http://www.wikidata.org/entity/Q16'), ('countryName', 'Canada'), ('numBuildings', '5')]\n",
      "[('country', 'http://www.wikidata.org/entity/Q212'), ('countryName', 'Ukraine'), ('numBuildings', '2')]\n",
      "[('country', 'http://www.wikidata.org/entity/Q183'), ('countryName', 'Germany'), ('numBuildings', '2')]\n",
      "[('country', 'http://www.wikidata.org/entity/Q668'), ('countryName', 'India'), ('numBuildings', '2')]\n",
      "[('country', 'http://www.wikidata.org/entity/Q38'), ('countryName', 'Italy'), ('numBuildings', '2')]\n",
      "[('country', 'http://www.wikidata.org/entity/Q211'), ('countryName', 'Latvia'), ('numBuildings', '2')]\n",
      "[('country', 'http://www.wikidata.org/entity/Q20'), ('countryName', 'Norway'), ('numBuildings', '2')]\n",
      "[('country', 'http://www.wikidata.org/entity/Q928'), ('countryName', 'Philippines'), ('numBuildings', '2')]\n",
      "[('country', 'http://www.wikidata.org/entity/Q17'), ('countryName', 'Japan'), ('numBuildings', '2')]\n",
      "[('country', 'http://www.wikidata.org/entity/Q414'), ('countryName', 'Argentina'), ('numBuildings', '2')]\n",
      "[('country', 'http://www.wikidata.org/entity/Q145'), ('countryName', 'United Kingdom'), ('numBuildings', '2')]\n",
      "[('country', 'http://www.wikidata.org/entity/Q191'), ('countryName', 'Estonia'), ('numBuildings', '1')]\n",
      "[('country', 'http://www.wikidata.org/entity/Q801'), ('countryName', 'Israel'), ('numBuildings', '1')]\n",
      "[('country', 'http://www.wikidata.org/entity/Q29'), ('countryName', 'Spain'), ('numBuildings', '1')]\n",
      "[('country', 'http://www.wikidata.org/entity/Q794'), ('countryName', 'Iran'), ('numBuildings', '1')]\n",
      "[('country', 'http://www.wikidata.org/entity/Q717'), ('countryName', 'Venezuela'), ('numBuildings', '1')]\n",
      "[('country', 'http://www.wikidata.org/entity/Q408'), ('countryName', 'Australia'), ('numBuildings', '1')]\n",
      "[('country', 'http://www.wikidata.org/entity/Q334'), ('countryName', 'Singapore'), ('numBuildings', '1')]\n",
      "[('country', 'http://www.wikidata.org/entity/Q833'), ('countryName', 'Malaysia'), ('numBuildings', '1')]\n",
      "[('country', 'http://www.wikidata.org/entity/Q884'), ('countryName', 'South Korea'), ('numBuildings', '1')]\n",
      "[('country', 'http://www.wikidata.org/entity/Q96'), ('countryName', 'Mexico'), ('numBuildings', '1')]\n"
     ]
    },
    {
     "data": {
      "text/plain": [
       "26"
      ]
     },
     "execution_count": 31,
     "metadata": {},
     "output_type": "execute_result"
    }
   ],
   "source": [
    "queryString = \"\"\"\n",
    "SELECT ?country ?countryName COUNT(DISTINCT ?building) AS ?numBuildings WHERE { \n",
    "        \n",
    "   # I retrieve only american architects\n",
    "   ?architect  wdt:P106 wd:Q42973 ;\n",
    "               wdt:P27 wd:Q30 .\n",
    "\n",
    "   # Retrieve buildings, their country and their architects\n",
    "   ?building   wdt:P31/wdt:279* wd:Q41176 ;\n",
    "               wdt:P84          ?architect ;\n",
    "               wdt:P17          ?country  .\n",
    "            \n",
    "    # This returns the labels\n",
    "    ?country <http://schema.org/name> ?countryName .\n",
    "}\n",
    "GROUP BY ?country ?countryName\n",
    "ORDER BY DESC(?numBuildings)\n",
    "\"\"\"\n",
    "\n",
    "print(\"Results\")\n",
    "run_query(queryString)"
   ]
  },
  {
   "cell_type": "markdown",
   "id": "fa090b45-1d7d-4cfa-91f5-8be9ba7e2aaa",
   "metadata": {},
   "source": [
    "### On average how many buildings from american architects are present in other countries without considering U.S ?"
   ]
  },
  {
   "cell_type": "code",
   "execution_count": 32,
   "id": "729e5931-e8a6-4ca5-887e-3c6fd13d3d34",
   "metadata": {},
   "outputs": [
    {
     "name": "stdout",
     "output_type": "stream",
     "text": [
      "Results\n",
      "[('avgNumBuildingOutsideUS', '2.52')]\n"
     ]
    },
    {
     "data": {
      "text/plain": [
       "1"
      ]
     },
     "execution_count": 32,
     "metadata": {},
     "output_type": "execute_result"
    }
   ],
   "source": [
    "queryString = \"\"\"\n",
    "SELECT AVG(?numBuildings) AS ?avgNumBuildingOutsideUS WHERE {\n",
    "\n",
    "     {     SELECT ?country ?countryName COUNT(DISTINCT ?building) AS ?numBuildings WHERE { \n",
    "\n",
    "               # I retrieve only american architects\n",
    "               ?architect  wdt:P106 wd:Q42973 ;\n",
    "                           wdt:P27 wd:Q30 .\n",
    "\n",
    "               # Retrieve buildings, their country and their architects\n",
    "               ?building   wdt:P31/wdt:279* wd:Q41176 ;\n",
    "                           wdt:P84          ?architect ;\n",
    "                           wdt:P17          ?country  .\n",
    "\n",
    "                # I want to exclude buildings in the U.S\n",
    "                FILTER (?country != wd:Q30)        \n",
    "\n",
    "                # This returns the labels\n",
    "                ?country <http://schema.org/name> ?countryName .\n",
    "            }\n",
    "            GROUP BY ?country ?countryName\n",
    "    }\n",
    "}\n",
    "\"\"\"\n",
    "\n",
    "print(\"Results\")\n",
    "run_query(queryString)"
   ]
  },
  {
   "cell_type": "markdown",
   "id": "bd76ece7-bf78-497e-957b-bdc9227708aa",
   "metadata": {},
   "source": [
    "### Show the top 10 architectural style most used by american architects in their notable works ?"
   ]
  },
  {
   "cell_type": "code",
   "execution_count": 33,
   "id": "8b6e6c25-7b8f-47b2-92d2-9b59e8d6a810",
   "metadata": {},
   "outputs": [
    {
     "name": "stdout",
     "output_type": "stream",
     "text": [
      "Results\n",
      "[('style', 'http://www.wikidata.org/entity/Q54111'), ('styleName', 'Neoclassical architecture'), ('numBuildings', '27')]\n",
      "[('style', 'http://www.wikidata.org/entity/Q502163'), ('styleName', 'Renaissance Revival architecture'), ('numBuildings', '20')]\n",
      "[('style', 'http://www.wikidata.org/entity/Q173782'), ('styleName', 'Art Deco'), ('numBuildings', '16')]\n",
      "[('style', 'http://www.wikidata.org/entity/Q245188'), ('styleName', 'modern architecture'), ('numBuildings', '14')]\n",
      "[('style', 'http://www.wikidata.org/entity/Q1268134'), ('styleName', 'Beaux-Arts'), ('numBuildings', '14')]\n",
      "[('style', 'http://www.wikidata.org/entity/Q3645460'), ('styleName', 'Spanish Colonial Revival architecture'), ('numBuildings', '11')]\n",
      "[('style', 'http://www.wikidata.org/entity/Q1125300'), ('styleName', 'Georgian architecture'), ('numBuildings', '9')]\n",
      "[('style', 'http://www.wikidata.org/entity/Q34636'), ('styleName', 'Art Nouveau'), ('numBuildings', '8')]\n",
      "[('style', 'http://www.wikidata.org/entity/Q744373'), ('styleName', 'Romanesque Revival architecture'), ('numBuildings', '8')]\n",
      "[('style', 'http://www.wikidata.org/entity/Q615196'), ('styleName', 'Italianate architecture'), ('numBuildings', '8')]\n"
     ]
    },
    {
     "data": {
      "text/plain": [
       "10"
      ]
     },
     "execution_count": 33,
     "metadata": {},
     "output_type": "execute_result"
    }
   ],
   "source": [
    "queryString = \"\"\"\n",
    "SELECT ?style ?styleName COUNT(DISTINCT ?building) AS ?numBuildings WHERE { \n",
    "\n",
    "    # I retrieve only american architects and their notableWorks\n",
    "    ?architect  wdt:P106 wd:Q42973 ;\n",
    "                wdt:P27  wd:Q30    .\n",
    "\n",
    "    # Retrieve buildings, their country and their architects\n",
    "    ?building   wdt:P31/wdt:279* wd:Q41176 ;\n",
    "                wdt:P84          ?architect ;\n",
    "                wdt:P149         ?style .\n",
    "\n",
    "    # This returns the labels\n",
    "    ?style <http://schema.org/name> ?styleName .\n",
    "}\n",
    "GROUP BY ?style ?styleName \n",
    "ORDER BY DESC(?numBuildings)\n",
    "LIMIT 10\n",
    "\n",
    "\"\"\"\n",
    "\n",
    "print(\"Results\")\n",
    "run_query(queryString)"
   ]
  },
  {
   "cell_type": "markdown",
   "id": "5ec9b3f5-25fb-4785-a99f-bb587475ba82",
   "metadata": {
    "tags": []
   },
   "source": [
    "### On average how many styles are used for each building designed by an american architect ?"
   ]
  },
  {
   "cell_type": "code",
   "execution_count": 34,
   "id": "1834faa0-bb3d-48e4-855c-f77d112f8fa4",
   "metadata": {},
   "outputs": [
    {
     "name": "stdout",
     "output_type": "stream",
     "text": [
      "Results\n",
      "[('avgNumStyles', '1.065384615384615')]\n"
     ]
    },
    {
     "data": {
      "text/plain": [
       "1"
      ]
     },
     "execution_count": 34,
     "metadata": {},
     "output_type": "execute_result"
    }
   ],
   "source": [
    "queryString = \"\"\"\n",
    "SELECT AVG(?numStyles) AS ?avgNumStyles WHERE{\n",
    "\n",
    "    {    SELECT ?building COUNT(DISTINCT ?style) AS ?numStyles WHERE { \n",
    "\n",
    "            # I retrieve only american architects and their notableWorks\n",
    "            ?architect  wdt:P106 wd:Q42973 ;\n",
    "                        wdt:P27  wd:Q30    .\n",
    "\n",
    "            # Retrieve buildings, their country and their architects\n",
    "            ?building   wdt:P31/wdt:279* wd:Q41176 ;\n",
    "                        wdt:P84          ?architect ;\n",
    "                        wdt:P149         ?style .\n",
    "        }\n",
    "        GROUP BY ?building\n",
    "    }\n",
    "}\n",
    "\n",
    "\n",
    "\"\"\"\n",
    "\n",
    "print(\"Results\")\n",
    "run_query(queryString)"
   ]
  },
  {
   "cell_type": "markdown",
   "id": "a48c23cc-01c5-44be-aec6-d79da0b57b1c",
   "metadata": {},
   "source": [
    "## END"
   ]
  }
 ],
 "metadata": {
  "kernelspec": {
   "display_name": "Python 3 (ipykernel)",
   "language": "python",
   "name": "python3"
  },
  "language_info": {
   "codemirror_mode": {
    "name": "ipython",
    "version": 3
   },
   "file_extension": ".py",
   "mimetype": "text/x-python",
   "name": "python",
   "nbconvert_exporter": "python",
   "pygments_lexer": "ipython3",
   "version": "3.7.10"
  }
 },
 "nbformat": 4,
 "nbformat_minor": 5
}
